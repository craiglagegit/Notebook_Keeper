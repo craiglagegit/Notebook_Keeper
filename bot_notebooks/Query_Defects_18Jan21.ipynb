{
 "cells": [
  {
   "cell_type": "markdown",
   "metadata": {},
   "source": [
    "# Notebook for querying defect files.\n",
    "\n",
    "Initially written 18 Jan 2021 by Craig Lage\\"
   ]
  },
  {
   "cell_type": "code",
   "execution_count": null,
   "metadata": {},
   "outputs": [],
   "source": [
    "! eups list -s | grep lsst_distrib\n",
    "! eups list -s cp_pipe"
   ]
  },
  {
   "cell_type": "code",
   "execution_count": null,
   "metadata": {},
   "outputs": [],
   "source": [
    "import sys, os, glob, subprocess\n",
    "import pickle as pkl\n",
    "import numpy as np\n",
    "import matplotlib.pyplot as plt\n",
    "import astropy.io.fits as pf\n",
    "from lsst.daf.persistence import Butler"
   ]
  },
  {
   "cell_type": "code",
   "execution_count": null,
   "metadata": {},
   "outputs": [],
   "source": [
    "RAFT = 'R20'\n",
    "SENSOR = 'S00'\n",
    "DATA_DIR = '/project/shared/BOT/'"
   ]
  },
  {
   "cell_type": "code",
   "execution_count": null,
   "metadata": {},
   "outputs": [],
   "source": [
    "# First, let's look at some old data\n",
    "filedir = DATA_DIR+'rerun/cslage/PTC_LSSTCAM_12673/calibrations/LSSTCam/defects/r20_s00/'\n",
    "files = glob.glob(filedir+'*.fits')\n",
    "files = np.sort(files)\n",
    "numFiles = len(files)\n",
    "print(numFiles)"
   ]
  },
  {
   "cell_type": "code",
   "execution_count": null,
   "metadata": {},
   "outputs": [],
   "source": [
    "for file in files:\n",
    "    hdulist = pf.open(file, mode='readonly', do_not_scale_image_data=True)\n",
    "    for i, hdu in enumerate(hdulist):\n",
    "        hdr=hdu.header\n",
    "        for key in hdr.keys():\n",
    "            print(i, key, hdr[key])\n"
   ]
  },
  {
   "cell_type": "code",
   "execution_count": null,
   "metadata": {},
   "outputs": [],
   "source": [
    "tableData = hdulist[1].data \n",
    "print(len(tableData))"
   ]
  },
  {
   "cell_type": "code",
   "execution_count": null,
   "metadata": {},
   "outputs": [],
   "source": [
    "print(tableData[:10])  # show the first ten rows\n"
   ]
  },
  {
   "cell_type": "code",
   "execution_count": null,
   "metadata": {},
   "outputs": [],
   "source": [
    "# Now let's look at the same data after ingest\n",
    "filedir = DATA_DIR+'rerun/cslage/PTC_LSSTCAM_12673/CALIB/defects/*/*-R20-S00*'\n",
    "files = glob.glob(filedir+'*.fits')\n",
    "files = np.sort(files)\n",
    "numFiles = len(files)\n",
    "print(numFiles)"
   ]
  },
  {
   "cell_type": "code",
   "execution_count": null,
   "metadata": {},
   "outputs": [],
   "source": [
    "for file in files:\n",
    "    hdulist = pf.open(file, mode='readonly', do_not_scale_image_data=True)\n",
    "    for i, hdu in enumerate(hdulist):\n",
    "        hdr=hdu.header\n",
    "        for key in hdr.keys():\n",
    "            print(i, key, hdr[key])\n"
   ]
  },
  {
   "cell_type": "code",
   "execution_count": null,
   "metadata": {},
   "outputs": [],
   "source": [
    "tableData = hdulist[1].data \n",
    "print(len(tableData))"
   ]
  },
  {
   "cell_type": "code",
   "execution_count": null,
   "metadata": {},
   "outputs": [],
   "source": [
    "print(tableData[:10])  # show the first ten rows\n"
   ]
  },
  {
   "cell_type": "code",
   "execution_count": null,
   "metadata": {},
   "outputs": [],
   "source": []
  },
  {
   "cell_type": "code",
   "execution_count": null,
   "metadata": {},
   "outputs": [],
   "source": [
    "# Now let's look at the new data\n",
    "DATA_DIR = '/project/shared/comCam-CCS/'\n",
    "filedir = DATA_DIR+'rerun/cslage/PTCTemp_2020-12-29/defects/*/*-R22-S11*'\n",
    "files = glob.glob(filedir+'*.fits')\n",
    "files = np.sort(files)\n",
    "numFiles = len(files)\n",
    "print(numFiles)"
   ]
  },
  {
   "cell_type": "code",
   "execution_count": null,
   "metadata": {},
   "outputs": [],
   "source": [
    "for file in files:\n",
    "    hdulist = pf.open(file, mode='readonly', do_not_scale_image_data=True)\n",
    "    for i, hdu in enumerate(hdulist):\n",
    "        hdr=hdu.header\n",
    "        for key in hdr.keys():\n",
    "            print(i, key, hdr[key])\n"
   ]
  },
  {
   "cell_type": "code",
   "execution_count": null,
   "metadata": {},
   "outputs": [],
   "source": [
    "tableData = hdulist[1].data \n",
    "print(len(tableData))"
   ]
  },
  {
   "cell_type": "code",
   "execution_count": null,
   "metadata": {},
   "outputs": [],
   "source": [
    "print(tableData[:10])  # show the first two rows\n"
   ]
  },
  {
   "cell_type": "code",
   "execution_count": null,
   "metadata": {},
   "outputs": [],
   "source": [
    "# Now let's look at the new data after ingest\n",
    "DATA_DIR = '/project/shared/comCam-CCS/'\n",
    "filedir = DATA_DIR+'rerun/cslage/PTCTemp_2020-12-29/CALIB/defects/*/*-R22_S11*'\n",
    "files = glob.glob(filedir+'*.fits')\n",
    "files = np.sort(files)\n",
    "numFiles = len(files)\n",
    "print(numFiles)"
   ]
  },
  {
   "cell_type": "code",
   "execution_count": null,
   "metadata": {},
   "outputs": [],
   "source": [
    "for file in files:\n",
    "    hdulist = pf.open(file, mode='readonly', do_not_scale_image_data=True)\n",
    "    for i, hdu in enumerate(hdulist):\n",
    "        hdr=hdu.header\n",
    "        for key in hdr.keys():\n",
    "            print(i, key, hdr[key])\n"
   ]
  },
  {
   "cell_type": "code",
   "execution_count": null,
   "metadata": {},
   "outputs": [],
   "source": [
    "tableData = hdulist[1].data \n",
    "print(len(tableData))"
   ]
  },
  {
   "cell_type": "code",
   "execution_count": null,
   "metadata": {
    "jupyter": {
     "source_hidden": true
    }
   },
   "outputs": [],
   "source": [
    "print(tableData[:10])  # show the first two rows\n"
   ]
  },
  {
   "cell_type": "code",
   "execution_count": null,
   "metadata": {},
   "outputs": [],
   "source": []
  }
 ],
 "metadata": {
  "kernelspec": {
   "display_name": "LSST",
   "language": "python",
   "name": "lsst"
  },
  "language_info": {
   "codemirror_mode": {
    "name": "ipython",
    "version": 3
   },
   "file_extension": ".py",
   "mimetype": "text/x-python",
   "name": "python",
   "nbconvert_exporter": "python",
   "pygments_lexer": "ipython3",
   "version": "3.10.8"
  }
 },
 "nbformat": 4,
 "nbformat_minor": 4
}
