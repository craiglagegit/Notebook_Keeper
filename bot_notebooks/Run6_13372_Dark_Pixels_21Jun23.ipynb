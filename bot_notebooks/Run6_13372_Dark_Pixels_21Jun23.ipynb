{
 "cells": [
  {
   "cell_type": "markdown",
   "metadata": {
    "lines_to_next_cell": 0
   },
   "source": [
    "## Running ISR from a notebook\n",
    "\n",
    "Craig Lage - 16-Jun-22"
   ]
  },
  {
   "cell_type": "code",
   "execution_count": null,
   "metadata": {
    "execution": {
     "iopub.execute_input": "2023-06-23T00:40:55.315930Z",
     "iopub.status.busy": "2023-06-23T00:40:55.315698Z",
     "iopub.status.idle": "2023-06-23T00:40:55.318479Z",
     "shell.execute_reply": "2023-06-23T00:40:55.318132Z",
     "shell.execute_reply.started": "2023-06-23T00:40:55.315915Z"
    },
    "tags": []
   },
   "outputs": [],
   "source": [
    "import numpy as np\n",
    "import matplotlib.pyplot as plt\n",
    "import astropy.io.fits as pf\n",
    "from lsst.ip.isr import IsrTask, IsrTaskConfig\n",
    "from lsst.daf.butler import Butler"
   ]
  },
  {
   "cell_type": "code",
   "execution_count": null,
   "metadata": {
    "execution": {
     "iopub.execute_input": "2023-06-23T00:40:56.328613Z",
     "iopub.status.busy": "2023-06-23T00:40:56.328389Z",
     "iopub.status.idle": "2023-06-23T00:40:56.991052Z",
     "shell.execute_reply": "2023-06-23T00:40:56.990444Z",
     "shell.execute_reply.started": "2023-06-23T00:40:56.328597Z"
    },
    "tags": []
   },
   "outputs": [],
   "source": [
    "butler = Butler('/repo/ir2', collections=[\"LSSTCam/raw/all\",\"LSSTCam/calib\"])"
   ]
  },
  {
   "cell_type": "code",
   "execution_count": null,
   "metadata": {
    "execution": {
     "iopub.execute_input": "2023-06-23T00:41:16.735205Z",
     "iopub.status.busy": "2023-06-23T00:41:16.734541Z",
     "iopub.status.idle": "2023-06-23T00:41:16.756604Z",
     "shell.execute_reply": "2023-06-23T00:41:16.756167Z",
     "shell.execute_reply.started": "2023-06-23T00:41:16.735187Z"
    },
    "tags": []
   },
   "outputs": [],
   "source": [
    "isrConfig = IsrTaskConfig()\n",
    "isrConfig.doLinearize=False\n",
    "isrConfig.doOverscan=True\n",
    "isrConfig.doAssembleCcd=True\n",
    "isrConfig.doBias=False\n",
    "isrConfig.doVariance=False\n",
    "isrConfig.doLinearize=False\n",
    "isrConfig.doCrosstalk=False\n",
    "isrConfig.doBrighterFatter=False\n",
    "isrConfig.doDark=False\n",
    "isrConfig.doStrayLight=False\n",
    "isrConfig.doFlat=False\n",
    "isrConfig.doFringe=False\n",
    "isrConfig.doApplyGains=False\n",
    "isrConfig.doDefect=False\n",
    "isrConfig.doNanMasking=False\n",
    "isrConfig.doInterpolate=False\n",
    "isrConfig.doSaturation=False\n",
    "isrConfig.doSaturationInterpolation=False\n",
    "\n",
    "# Adjust these as needed and add as many more as you want"
   ]
  },
  {
   "cell_type": "code",
   "execution_count": null,
   "metadata": {
    "execution": {
     "iopub.execute_input": "2023-06-23T00:41:19.743551Z",
     "iopub.status.busy": "2023-06-23T00:41:19.743306Z",
     "iopub.status.idle": "2023-06-23T00:41:19.747085Z",
     "shell.execute_reply": "2023-06-23T00:41:19.746637Z",
     "shell.execute_reply.started": "2023-06-23T00:41:19.743534Z"
    },
    "tags": []
   },
   "outputs": [],
   "source": [
    "isrTask = IsrTask(config=isrConfig)"
   ]
  },
  {
   "cell_type": "code",
   "execution_count": null,
   "metadata": {
    "execution": {
     "iopub.execute_input": "2023-06-21T15:49:05.323647Z",
     "iopub.status.busy": "2023-06-21T15:49:05.322937Z",
     "iopub.status.idle": "2023-06-21T15:49:07.666746Z",
     "shell.execute_reply": "2023-06-21T15:49:07.666172Z",
     "shell.execute_reply.started": "2023-06-21T15:49:05.323629Z"
    }
   },
   "outputs": [],
   "source": [
    "expId = 3023061800092\n",
    "exp = butler.get('raw', detector=6, exposure=expId)\n",
    "#biasExp = butler.get('bias', detector=0, exposure=expId)\n",
    "#camera = butler.get('camera', instrument='LSSTCam')"
   ]
  },
  {
   "cell_type": "code",
   "execution_count": null,
   "metadata": {
    "execution": {
     "iopub.execute_input": "2023-06-21T15:49:12.559512Z",
     "iopub.status.busy": "2023-06-21T15:49:12.558863Z",
     "iopub.status.idle": "2023-06-21T15:49:13.666217Z",
     "shell.execute_reply": "2023-06-21T15:49:13.665664Z",
     "shell.execute_reply.started": "2023-06-21T15:49:12.559495Z"
    }
   },
   "outputs": [],
   "source": [
    "isrResult = isrTask.run(exp)"
   ]
  },
  {
   "cell_type": "code",
   "execution_count": null,
   "metadata": {
    "execution": {
     "iopub.execute_input": "2023-06-21T15:58:21.291050Z",
     "iopub.status.busy": "2023-06-21T15:58:21.290393Z",
     "iopub.status.idle": "2023-06-21T15:58:21.921287Z",
     "shell.execute_reply": "2023-06-21T15:58:21.920725Z",
     "shell.execute_reply.started": "2023-06-21T15:58:21.291033Z"
    },
    "tags": []
   },
   "outputs": [],
   "source": [
    "# Now look at the data with matplotlib\n",
    "from matplotlib.colors import LogNorm\n",
    "\n",
    "def colorbar(mappable):\n",
    "    from mpl_toolkits.axes_grid1 import make_axes_locatable\n",
    "    last_axes = plt.gca()\n",
    "    ax = mappable.axes\n",
    "    fig = ax.figure\n",
    "    divider = make_axes_locatable(ax)\n",
    "    cax = divider.append_axes(\"right\", size=\"5%\", pad=0.05)\n",
    "    cbar = fig.colorbar(mappable, cax=cax)\n",
    "    plt.sca(last_axes)\n",
    "    return cbar\n",
    "\n",
    "plt.figure(figsize=(8,8))\n",
    "plt.suptitle(f\"2023061800092 - CCD6 - R01S20 - Run6 - Run 13372\",fontsize=18)\n",
    "arr = isrResult.exposure.image.array\n",
    "img = plt.imshow(arr, vmin=10000, vmax=55000, interpolation='Nearest', cmap='gray', origin='lower')\n",
    "colorbar(img)\n",
    "plt.tight_layout(h_pad=1)\n",
    "plt.savefig(f\"/home/c/cslage/u/BOT_LSSTCam/Run6/2023061800092_R01S20.png\")"
   ]
  },
  {
   "cell_type": "code",
   "execution_count": null,
   "metadata": {
    "execution": {
     "iopub.execute_input": "2023-06-21T16:04:08.480164Z",
     "iopub.status.busy": "2023-06-21T16:04:08.479936Z",
     "iopub.status.idle": "2023-06-21T16:04:08.641462Z",
     "shell.execute_reply": "2023-06-21T16:04:08.640979Z",
     "shell.execute_reply.started": "2023-06-21T16:04:08.480149Z"
    },
    "tags": []
   },
   "outputs": [],
   "source": [
    "plt.figure(figsize=(8,4))\n",
    "plt.suptitle(f\"2023061800092 - CCD6 - R01S20 - Run6 - Run 13372\",fontsize=18)\n",
    "arr = isrResult.exposure.image.array\n",
    "slice = []\n",
    "for i in range(3999):\n",
    "    slice.append(arr[3999-i, i])\n",
    "plt.plot(slice)\n",
    "plt.xlabel(\"Slice from upper left to lower right\")\n",
    "plt.ylabel(\"ADU\")\n",
    "plt.savefig(f\"/home/c/cslage/u/BOT_LSSTCam/Run6/2023061800092_R01S20_Slice.png\")"
   ]
  },
  {
   "cell_type": "code",
   "execution_count": null,
   "metadata": {},
   "outputs": [],
   "source": []
  },
  {
   "cell_type": "code",
   "execution_count": null,
   "metadata": {
    "execution": {
     "iopub.execute_input": "2023-06-23T00:41:55.255672Z",
     "iopub.status.busy": "2023-06-23T00:41:55.255442Z",
     "iopub.status.idle": "2023-06-23T00:41:55.691781Z",
     "shell.execute_reply": "2023-06-23T00:41:55.691213Z",
     "shell.execute_reply.started": "2023-06-23T00:41:55.255656Z"
    },
    "tags": []
   },
   "outputs": [],
   "source": [
    "expId = 3023062100410\n",
    "exp = butler.get('raw', detector=6, exposure=expId)\n",
    "#biasExp = butler.get('bias', detector=0, exposure=expId)\n",
    "#camera = butler.get('camera', instrument='LSSTCam')"
   ]
  },
  {
   "cell_type": "code",
   "execution_count": null,
   "metadata": {
    "execution": {
     "iopub.execute_input": "2023-06-23T00:41:59.594083Z",
     "iopub.status.busy": "2023-06-23T00:41:59.593399Z",
     "iopub.status.idle": "2023-06-23T00:42:00.679535Z",
     "shell.execute_reply": "2023-06-23T00:42:00.678988Z",
     "shell.execute_reply.started": "2023-06-23T00:41:59.594064Z"
    },
    "tags": []
   },
   "outputs": [],
   "source": [
    "isrResult = isrTask.run(exp)"
   ]
  },
  {
   "cell_type": "code",
   "execution_count": null,
   "metadata": {
    "execution": {
     "iopub.execute_input": "2023-06-23T00:42:58.226858Z",
     "iopub.status.busy": "2023-06-23T00:42:58.226243Z",
     "iopub.status.idle": "2023-06-23T00:42:58.761762Z",
     "shell.execute_reply": "2023-06-23T00:42:58.761259Z",
     "shell.execute_reply.started": "2023-06-23T00:42:58.226840Z"
    },
    "tags": []
   },
   "outputs": [],
   "source": [
    "# Now look at the data with matplotlib\n",
    "from matplotlib.colors import LogNorm\n",
    "\n",
    "def colorbar(mappable):\n",
    "    from mpl_toolkits.axes_grid1 import make_axes_locatable\n",
    "    last_axes = plt.gca()\n",
    "    ax = mappable.axes\n",
    "    fig = ax.figure\n",
    "    divider = make_axes_locatable(ax)\n",
    "    cax = divider.append_axes(\"right\", size=\"5%\", pad=0.05)\n",
    "    cbar = fig.colorbar(mappable, cax=cax)\n",
    "    plt.sca(last_axes)\n",
    "    return cbar\n",
    "\n",
    "plt.figure(figsize=(8,8))\n",
    "plt.suptitle(f\"2023061800092 - CCD6 - R01S20 - Run6 - Run 13372\",fontsize=18)\n",
    "arr = isrResult.exposure.image.array\n",
    "img = plt.imshow(arr, vmin=30000, vmax=55000, interpolation='Nearest', cmap='gray', origin='lower')\n",
    "colorbar(img)\n",
    "plt.tight_layout(h_pad=1)\n",
    "plt.savefig(f\"/home/c/cslage/u/BOT_LSSTCam/Run6/2023061800092_R01S20.png\")"
   ]
  },
  {
   "cell_type": "code",
   "execution_count": null,
   "metadata": {},
   "outputs": [],
   "source": []
  }
 ],
 "metadata": {
  "jupytext": {
   "formats": "ipynb,markdown//md"
  },
  "kernelspec": {
   "display_name": "LSST",
   "language": "python",
   "name": "lsst"
  },
  "language_info": {
   "codemirror_mode": {
    "name": "ipython",
    "version": 3
   },
   "file_extension": ".py",
   "mimetype": "text/x-python",
   "name": "python",
   "nbconvert_exporter": "python",
   "pygments_lexer": "ipython3",
   "version": "3.10.11"
  }
 },
 "nbformat": 4,
 "nbformat_minor": 4
}
