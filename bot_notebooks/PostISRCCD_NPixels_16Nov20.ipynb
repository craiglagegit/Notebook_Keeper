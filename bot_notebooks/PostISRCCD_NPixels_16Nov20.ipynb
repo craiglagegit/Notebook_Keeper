{
 "cells": [
  {
   "cell_type": "markdown",
   "metadata": {},
   "source": [
    "# Notebook for viewing postISRCCD images.\n",
    "\n",
    "Initially written 28 Sep 2020 by Craig Lage"
   ]
  },
  {
   "cell_type": "code",
   "execution_count": null,
   "metadata": {},
   "outputs": [],
   "source": [
    "! eups list -s | grep lsst_distrib\n",
    "! eups list -s cp_pipe"
   ]
  },
  {
   "cell_type": "code",
   "execution_count": null,
   "metadata": {},
   "outputs": [],
   "source": [
    "import sys, os, glob, subprocess\n",
    "import pickle as pkl\n",
    "import numpy as np\n",
    "import matplotlib.pyplot as plt\n",
    "import astropy.io.fits as pf\n",
    "from lsst.daf.persistence import Butler"
   ]
  },
  {
   "cell_type": "code",
   "execution_count": null,
   "metadata": {},
   "outputs": [],
   "source": [
    "def detector(raft, sensor):\n",
    "    # Subroutine to find vendor and detector number given raft and sensor                                                                                                                                                           \n",
    "    startingCol = [1,0,0,0,1] # First raft column in each row                                                                                                                                                                       \n",
    "    rows = [0,3,8,13,18] # Starting raft sequence number of each row                                                                                                                                                                \n",
    "    if raft in ['R11','R12','R13','R14','R21','R22','R23','R24','R30',\\\n",
    "                'R31','R32','R33','R34']:\n",
    "        vendor = 'E2V'\n",
    "    else:\n",
    "        vendor = 'ITL'\n",
    "    raftRow = int(list(raft)[1])\n",
    "    raftCol = int(list(raft)[2]) - startingCol[raftRow]\n",
    "    sensorRow = int(list(sensor)[1])\n",
    "    sensorCol = int(list(sensor)[2])\n",
    "    detectorNum = (rows[raftRow] + raftCol) * 9\n",
    "    detectorNum += 3 * sensorRow + sensorCol\n",
    "    plotNum = 21 - 5 * raftRow + int(list(raft)[2])\n",
    "    return vendor, detectorNum, plotNum\n"
   ]
  },
  {
   "cell_type": "code",
   "execution_count": null,
   "metadata": {},
   "outputs": [],
   "source": [
    "REPO_DIR = '/project/shared/BOT/rerun/cslage/PTC_LSSTCAM_12673S'\n",
    "butler = Butler(REPO_DIR)"
   ]
  },
  {
   "cell_type": "code",
   "execution_count": null,
   "metadata": {},
   "outputs": [],
   "source": [
    "rafts = [       'R01', 'R02', 'R03', \\\n",
    "         'R10', 'R11', 'R12', 'R13', 'R14', \\\n",
    "         'R20', 'R21', 'R22', 'R23', 'R24', \\\n",
    "         'R30', 'R31', 'R32', 'R33', 'R34', \\\n",
    "                'R41', 'R42', 'R43']\n",
    "sensors = ['S00', 'S01', 'S02', 'S10', 'S11', 'S12', 'S20', 'S21', 'S22']\n",
    "\n",
    "expIds = [3020110200100,3020110200101,3020110200103,3020110200104,3020110200130,3020110200131,\\\n",
    "          3020110200106,3020110200107,3020110200133,3020110200134,3020110200109,3020110200110,\\\n",
    "          3020110200136,3020110200137,3020110200112,3020110200113,3020110200139,3020110200140,\\\n",
    "          3020110200115,3020110200116,3020110200142,3020110200143,3020110200145,3020110200146,\\\n",
    "          3020110200148,3020110200149,3020110200118,3020110200119,3020110200151,3020110200152,\\\n",
    "          3020110200154,3020110200155,3020110200157,3020110200158,3020110200121,3020110200122,\\\n",
    "          3020110200160,3020110200161,3020110200163,3020110200164,3020110200166,3020110200167,\\\n",
    "          3020110200169,3020110200170,3020110200124,3020110200125,3020110200172,3020110200173,\\\n",
    "          3020110200175,3020110200176,3020110200178,3020110200179,3020110200127,3020110200128,\\\n",
    "          3020110200181,3020110200182,3020110200184,3020110200185,3020110200187,3020110200188,\\\n",
    "          3020110200190,3020110200191,3020110200193,3020110200194,3020110200196,3020110200197,\\\n",
    "          3020110200199,3020110200200,3020110200202,3020110200203,3020110200205,3020110200206]\n",
    "\n"
   ]
  },
  {
   "cell_type": "code",
   "execution_count": null,
   "metadata": {},
   "outputs": [],
   "source": [
    "maskArrays = {}\n",
    "imageArrays = {}\n",
    "for RAFT in ['R11']:#rafts:\n",
    "    for SENSOR in ['S12']:#sensors:\n",
    "        VENDOR, DETECTOR, plotNum = detector(RAFT,SENSOR)\n",
    "        for expId in [3020110200190]:#expIds:\n",
    "            postISRCCD = butler.get('postISRCCD',  raftName=RAFT,detectorName=SENSOR, expId=expId)\n",
    "            amps = postISRCCD.getDetector().getAmplifiers()\n",
    "            im1 = postISRCCD.getMaskedImage()\n",
    "            for ampObject in amps:\n",
    "                ampName = ampObject.getName()\n",
    "                im1Area = im1[ampObject.getBBox()]\n",
    "                maskArr = im1Area.getMask().getArray()\n",
    "                maskArrays[ampName] = maskArr\n",
    "                imageArr = im1Area.getImage().getArray()\n",
    "                imageArrays[ampName] = imageArr\n",
    "                w1 = np.where(maskArr == 0, 1, 0)\n",
    "                print(ampName, np.sum(w1))\n"
   ]
  },
  {
   "cell_type": "code",
   "execution_count": null,
   "metadata": {},
   "outputs": [],
   "source": [
    "plt.subplot(2,3,1)\n",
    "plt.imshow(maskArrays['C06'])\n",
    "plt.subplot(2,3,2)\n",
    "plt.imshow(maskArrays['C06'][0:100,0:100])\n",
    "plt.subplot(2,3,3)\n",
    "plt.imshow(maskArrays['C06'][750:1000,100:350])\n",
    "\n",
    "plt.subplot(2,3,4)\n",
    "plt.imshow(maskArrays['C01'])\n",
    "plt.subplot(2,3,5)\n",
    "plt.imshow(maskArrays['C01'][0:100,0:100])\n",
    "plt.subplot(2,3,6)\n",
    "plt.imshow(maskArrays['C01'][750:1000,100:350])\n"
   ]
  },
  {
   "cell_type": "code",
   "execution_count": null,
   "metadata": {},
   "outputs": [],
   "source": [
    "print(im1.getMask().getMaskPlaneDict().items())"
   ]
  },
  {
   "cell_type": "code",
   "execution_count": null,
   "metadata": {},
   "outputs": [],
   "source": [
    "print('C06 Mask Top', maskArrays['C06'][2,6:11])\n",
    "print('C06 Image Top', imageArrays['C06'][2,6:11])\n",
    "\n",
    "print('C06 Mask Mid', maskArrays['C06'][50,6:11])\n",
    "print('C06 Image Mid', imageArrays['C06'][50,6:11])\n",
    "\n",
    "print('C06 Mask Defect', maskArrays['C06'][895,114:119])\n",
    "print('C06 Image Defect', imageArrays['C06'][895,114:119])\n",
    "\n",
    "print('C01 Mask Top', maskArrays['C01'][2,6:11])\n",
    "print('C01 Image Top', imageArrays['C01'][2,6:11])\n",
    "\n",
    "print('C01 Mask Mid', maskArrays['C01'][50,6:11])\n",
    "print('C01 Image Mid', imageArrays['C01'][50,6:11])\n",
    "\n",
    "print('C01 Mask Defect', maskArrays['C01'][895,114:119])\n",
    "print('C01 Image Defect', imageArrays['C01'][895,114:119])"
   ]
  },
  {
   "cell_type": "code",
   "execution_count": null,
   "metadata": {},
   "outputs": [],
   "source": [
    "print('C06 Mask Good Region', maskArrays['C06'][1000,114:119])\n",
    "print('C06 Image Good Region', imageArrays['C06'][1000,114:119])\n",
    "print('C01 Mask Good Region', maskArrays['C01'][1000,114:119])\n",
    "print('C01 Image Good Region', imageArrays['C01'][1000,114:119])\n"
   ]
  },
  {
   "cell_type": "code",
   "execution_count": null,
   "metadata": {},
   "outputs": [],
   "source": [
    "calibButler = Butler('/project/shared/BOT/rerun/cslage/PTC_LSSTCAM_12673')\n",
    "def2 = calibButler.get('defects', raftName=RAFT, detectorName=SENSOR, expId=expId)\n",
    "print(def2.toSimpleTable())"
   ]
  },
  {
   "cell_type": "code",
   "execution_count": null,
   "metadata": {},
   "outputs": [],
   "source": [
    "# This would query them all, but will take a long time.\n",
    "nPixels = []\n",
    "nPixelsDict = {}\n",
    "\n",
    "for RAFT in rafts:\n",
    "    for SENSOR in sensors:\n",
    "        VENDOR, DETECTOR, plotNum = detector(RAFT,SENSOR)\n",
    "        for expId in expIds:\n",
    "            postISRCCD = butler.get('postISRCCD',  raftName=RAFT,detectorName=SENSOR, expId=expId)\n",
    "            amps = postISRCCD.getDetector().getAmplifiers()\n",
    "            im1 = postISRCCD.getMaskedImage()\n",
    "            for ampObject in amps:\n",
    "                ampName = ampObject.getName()\n",
    "                im1Area = im1[ampObject.getBBox()]\n",
    "                key = \"%s_%s_%s\"%(RAFT,SENSOR,ampName)\n",
    "                w1 = np.where(im1Area.getMask().getArray() == 0, 1, 0)\n",
    "                nPixels.append(w1)\n",
    "                nPixelsDict[key] = w1\n",
    "        print(\"Detector %d done.\"%DETECTOR)\n"
   ]
  },
  {
   "cell_type": "code",
   "execution_count": null,
   "metadata": {},
   "outputs": [],
   "source": [
    "amps = postISRCCD.getDetector().getAmplifiers()\n",
    "im1 = postISRCCD.getMaskedImage()\n",
    "#print(dir(det))\n",
    "for ampObject in amps:\n",
    "    #print(dir(ampObject))\n",
    "    ampName = ampObject.getName()\n",
    "    im1Area = im1[ampObject.getBBox()]\n",
    "    w1 = np.where(im1Area.getMask().getArray() == 0, 1, 0)\n",
    "    print(ampName, np.sum(w1))"
   ]
  },
  {
   "cell_type": "code",
   "execution_count": null,
   "metadata": {},
   "outputs": [],
   "source": []
  }
 ],
 "metadata": {
  "kernelspec": {
   "display_name": "LSST",
   "language": "python",
   "name": "lsst"
  },
  "language_info": {
   "codemirror_mode": {
    "name": "ipython",
    "version": 3
   },
   "file_extension": ".py",
   "mimetype": "text/x-python",
   "name": "python",
   "nbconvert_exporter": "python",
   "pygments_lexer": "ipython3",
   "version": "3.7.8"
  }
 },
 "nbformat": 4,
 "nbformat_minor": 4
}
