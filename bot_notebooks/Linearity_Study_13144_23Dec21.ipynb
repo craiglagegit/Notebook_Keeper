{
 "cells": [
  {
   "cell_type": "markdown",
   "metadata": {},
   "source": [
    "# Notebook for investigating linearity corrections\n",
    "\n",
    "Initially written 20 Dec 2021 by Craig Lage\\\n",
    "copying from Chris Waters."
   ]
  },
  {
   "cell_type": "code",
   "execution_count": null,
   "metadata": {},
   "outputs": [],
   "source": [
    "import sys, os, glob, time\n",
    "import pickle as pkl\n",
    "import numpy as np\n",
    "import matplotlib.pyplot as plt\n",
    "from matplotlib.backends.backend_pdf import PdfPages\n",
    "import astropy.io.fits as pf\n",
    "from lsst.daf.butler import Butler\n",
    "import lsst.afw.math as afwMath"
   ]
  },
  {
   "cell_type": "code",
   "execution_count": null,
   "metadata": {},
   "outputs": [],
   "source": [
    "butler = Butler(\"/repo/main\", collections=[\"LSSTCam/raw/all\",\"LSSTCam/calib\",\\\n",
    "                                                    \"LSSTCam/calib/u/cslage/13144\"])\n",
    "camera = butler.get('camera', instrument='LSSTCam')"
   ]
  },
  {
   "cell_type": "code",
   "execution_count": null,
   "metadata": {},
   "outputs": [],
   "source": [
    "linPtcButler = Butler(\"/repo/main\", collections=[\"u/cslage/bps_13144E\"])"
   ]
  },
  {
   "cell_type": "code",
   "execution_count": null,
   "metadata": {},
   "outputs": [],
   "source": [
    "nonlinPtcButler = Butler(\"/repo/main\", collections=[\"u/cslage/bps_13144B\"])"
   ]
  },
  {
   "cell_type": "code",
   "execution_count": null,
   "metadata": {},
   "outputs": [],
   "source": [
    "def ExpApprox(mu, g, a00, n):\n",
    "    if (g < 1.0E-6) or (abs(a00) < 1.0E-9):\n",
    "        return np.zeros([len(mu)])\n",
    "    else:\n",
    "        expFactor = 2.0 * a00 * mu * g\n",
    "        if max(expFactor) > 100.0:\n",
    "            return np.zeros([len(mu)])\n",
    "        else:\n",
    "            preFactor = 1.0 / (2.0 * g * g * a00)\n",
    "            noiseTerm = n / (g * g)\n",
    "            return preFactor * (np.exp(expFactor) - 1.0) + noiseTerm"
   ]
  },
  {
   "cell_type": "code",
   "execution_count": null,
   "metadata": {},
   "outputs": [],
   "source": [
    "from lsstDebug import getDebugFrame"
   ]
  },
  {
   "cell_type": "code",
   "execution_count": null,
   "metadata": {},
   "outputs": [],
   "source": [
    "def debugFit(stepname, xVector, yVector, yModel, mask, ampName):\n",
    "    \"\"\"Debug method for linearity fitting.\n",
    "    Parameters\n",
    "    ----------\n",
    "    stepname : `str`\n",
    "        A label to use to check if we care to debug at a given\n",
    "        line of code.\n",
    "    xVector : `numpy.array`, (N,)\n",
    "        The values to use as the independent variable in the\n",
    "        linearity fit.\n",
    "    yVector : `numpy.array`, (N,)\n",
    "        The values to use as the dependent variable in the\n",
    "        linearity fit.\n",
    "    yModel : `numpy.array`, (N,)\n",
    "        The values to use as the linearized result.\n",
    "    mask : `numpy.array` [`bool`], (N,) , optional\n",
    "        A mask to indicate which entries of ``xVector`` and\n",
    "        ``yVector`` to keep.\n",
    "    ampName : `str`\n",
    "        Amplifier name to lookup linearity correction values.\n",
    "    \"\"\"\n",
    "    fig, axs = plt.subplots(2)\n",
    "    plt.subplots_adjust(hspace=1.0)\n",
    "\n",
    "    if mask is None:\n",
    "        mask = np.ones_like(xVector, dtype=bool)\n",
    "\n",
    "    fig.suptitle(f\"{stepname} {ampName} 'Spline'\")\n",
    "    if stepname == 'linearFit':\n",
    "        axs[0].set_xlabel(\"Input Abscissa (time or mondiode)\")\n",
    "        axs[0].set_ylabel(\"Input Ordinate (flux)\")\n",
    "        axs[1].set_xlabel(\"Linear Ordinate (linear flux)\")\n",
    "        axs[1].set_ylabel(\"Flux Difference: (input - linear)\")\n",
    "    elif stepname in ('polyFit', 'splineFit'):\n",
    "        axs[0].set_xlabel(\"Linear Abscissa (linear flux)\")\n",
    "        axs[0].set_ylabel(\"Input Ordinate (flux)\")\n",
    "        axs[1].set_xlabel(\"Linear Ordinate (linear flux)\")\n",
    "        axs[1].set_ylabel(\"Flux Difference: (input - full model fit)\")\n",
    "    elif stepname == 'solution':\n",
    "        axs[0].set_xlabel(\"Input Abscissa (time or mondiode)\")\n",
    "        axs[0].set_ylabel(\"Linear Ordinate (linear flux)\")\n",
    "        axs[1].set_xlabel(\"Model flux (linear flux)\")\n",
    "        axs[1].set_ylabel(\"Flux Difference: (linear - model)\")\n",
    "\n",
    "    axs[0].set_yscale('log')\n",
    "    axs[0].set_xscale('log')\n",
    "    axs[0].scatter(xVector, yVector)\n",
    "    axs[0].scatter(xVector[~mask], yVector[~mask], c='red', marker='x')\n",
    "    axs[1].set_xscale('log')\n",
    "\n",
    "    axs[1].scatter(yModel, yVector[mask] - yModel)\n",
    "    fig.show()\n",
    "\n",
    "    #plt.close()\n"
   ]
  },
  {
   "cell_type": "code",
   "execution_count": null,
   "metadata": {},
   "outputs": [],
   "source": [
    "expId=3021120700200\n",
    "det = 74\n",
    "lin = butler.get('linearizer', detector=det, exposure=expId, instrument='LSSTCam')\n",
    "linPtc = linPtcButler.get('ptc', detector=det, exposure=expId, instrument='LSSTCam')\n",
    "nonlinPtc = nonlinPtcButler.get('ptc', detector=det, exposure=expId, instrument='LSSTCam')\n"
   ]
  },
  {
   "cell_type": "code",
   "execution_count": null,
   "metadata": {},
   "outputs": [],
   "source": [
    "from lsst.cp.pipe.utils import (funcPolynomial, irlsFit)"
   ]
  },
  {
   "cell_type": "code",
   "execution_count": null,
   "metadata": {},
   "outputs": [],
   "source": [
    "lin.linearityType['C00']"
   ]
  },
  {
   "cell_type": "code",
   "execution_count": null,
   "metadata": {},
   "outputs": [],
   "source": []
  },
  {
   "cell_type": "code",
   "execution_count": null,
   "metadata": {},
   "outputs": [],
   "source": [
    "ampName = 'C11'\n",
    "linearityCoeffs = lin.linearityCoeffs[ampName]\n",
    "minLinearAdu = 2000.0\n",
    "maxLinearAdu = 20000.0\n",
    "#mask = np.array(nonlinPtc.expIdMask[ampName], dtype=bool)\n",
    "mask = np.repeat(True, len(nonlinPtc.expIdMask[ampName])) # if ignorePtcMask=True\n",
    "\n",
    "inputAbscissa = np.array(nonlinPtc.rawExpTimes[ampName])[mask]\n",
    "inputOrdinate = np.array(nonlinPtc.rawMeans[ampName])[mask]\n",
    "#inputAbscissa = np.array(modExpTimes)[mask]\n",
    "#inputOrdinate = np.array(fluxes)"
   ]
  },
  {
   "cell_type": "code",
   "execution_count": null,
   "metadata": {},
   "outputs": [],
   "source": [
    "fluxMask = inputOrdinate < maxLinearAdu\n",
    "lowMask = inputOrdinate > minLinearAdu\n",
    "fluxMask = fluxMask & lowMask\n",
    "linearAbscissa = inputAbscissa[fluxMask]\n",
    "linearOrdinate = inputOrdinate[fluxMask]\n",
    "\n",
    "linearFit, linearFitErr, chiSq, weights = irlsFit([0.0, 100.0], linearAbscissa,\n",
    "                                                  linearOrdinate, funcPolynomial)"
   ]
  },
  {
   "cell_type": "code",
   "execution_count": null,
   "metadata": {},
   "outputs": [],
   "source": [
    "debugFit('linearFit', inputAbscissa, inputOrdinate, linearOrdinate, fluxMask, ampName)"
   ]
  },
  {
   "cell_type": "code",
   "execution_count": null,
   "metadata": {},
   "outputs": [],
   "source": [
    "nSigmaClipLinear = 5.0\n",
    "\n",
    "# Convert this proxy-to-flux fit into an expected linear flux\n",
    "linearOrdinate = linearFit[0] + linearFit[1] * inputAbscissa\n",
    "\n",
    "# Exclude low end outliers\n",
    "threshold = nSigmaClipLinear * np.sqrt(linearOrdinate)\n",
    "fluxMask = np.abs(inputOrdinate - linearOrdinate) < threshold\n",
    "linearOrdinate = linearOrdinate[fluxMask]\n",
    "fitOrdinate = inputOrdinate[fluxMask]"
   ]
  },
  {
   "cell_type": "code",
   "execution_count": null,
   "metadata": {},
   "outputs": [],
   "source": [
    "import lsst.afw.math as afwMath\n",
    "\n",
    "fitOrder = 16 # Number of spline knots\n",
    "\n",
    "numPerBin, binEdges = np.histogram(linearOrdinate, bins=fitOrder)\n",
    "# Algorithm note: With the counts of points per\n",
    "# bin above, the next histogram calculates the\n",
    "# values to put in each bin by weighting each\n",
    "# point by the correction value.\n",
    "values = np.histogram(linearOrdinate, bins=fitOrder,\n",
    "                      weights=(inputOrdinate[fluxMask] - linearOrdinate))[0]/numPerBin\n",
    "\n",
    "# After this is done, the binCenters are\n",
    "# calculated by weighting by the value we're\n",
    "# binning over.  This ensures that widely\n",
    "# spaced/poorly sampled data aren't assigned to\n",
    "# the midpoint of the bin (as could be done using\n",
    "# the binEdges above), but to the weighted mean of\n",
    "# the inputs.  Note that both histograms are\n",
    "# scaled by the count per bin to normalize what\n",
    "# the histogram returns (a sum of the points\n",
    "# inside) into an average.\n",
    "binCenters = np.histogram(linearOrdinate, bins=fitOrder,\n",
    "                          weights=linearOrdinate)[0]/numPerBin\n",
    "values = values[numPerBin > 0]\n",
    "binCenters = binCenters[numPerBin > 0]\n",
    "debugFit('splineFit', binCenters, np.abs(values), values, None, ampName)\n"
   ]
  },
  {
   "cell_type": "code",
   "execution_count": null,
   "metadata": {},
   "outputs": [],
   "source": [
    "plt.scatter(binCenters, values)"
   ]
  },
  {
   "cell_type": "code",
   "execution_count": null,
   "metadata": {},
   "outputs": [],
   "source": [
    "interp = afwMath.makeInterpolate(binCenters.tolist(), values.tolist(),\n",
    "                                 afwMath.stringToInterpStyle(\"AKIMA_SPLINE\"))\n",
    "modelOrdinate = linearOrdinate + interp.interpolate(linearOrdinate)\n",
    "debugFit('splineFit', linearOrdinate, fitOrdinate, modelOrdinate, None, ampName)"
   ]
  },
  {
   "cell_type": "code",
   "execution_count": null,
   "metadata": {},
   "outputs": [],
   "source": [
    "for i in range(fitOrder):\n",
    "    print(binCenters[i], linearityCoeffs[i], values[i], linearityCoeffs[fitOrder+i])"
   ]
  },
  {
   "cell_type": "code",
   "execution_count": null,
   "metadata": {},
   "outputs": [],
   "source": [
    "plt.subplot(1,1,1)\n",
    "plt.scatter(inputAbscissa[fluxMask], (inputOrdinate[fluxMask] - linearOrdinate))\n",
    "plt.scatter(binCenters / linearFit[1], values, marker = 'x', s = 200, color='red')\n",
    "plt.plot(inputAbscissa[fluxMask], (modelOrdinate-linearOrdinate), ls = '--', lw=3, color='red')"
   ]
  },
  {
   "cell_type": "code",
   "execution_count": null,
   "metadata": {},
   "outputs": [],
   "source": [
    "#Using monDiode\n",
    "plt.figure(figsize=(12,6))\n",
    "plt.subplot(1,2,1)\n",
    "plt.title(\"Spline fit to exposure data\")\n",
    "plt.plot(linearOrdinate, (modelOrdinate-linearOrdinate), ls = '--', lw=3, color='red', label=\"Spline fit\")\n",
    "plt.scatter(binCenters, values, marker = 'x', s = 200, color='red', label=\"Spline knots\")\n",
    "plt.scatter(linearOrdinate, (inputOrdinate[fluxMask] - linearOrdinate), label=\"Input data\")\n",
    "plt.xlabel(\"Flux (ADU)\")\n",
    "plt.ylabel(\"Deviation from Linearity(ADU)\")\n",
    "plt.legend()\n",
    "plt.subplot(1,2,2)\n",
    "plt.title(\"Residuals\")\n",
    "plt.scatter(linearOrdinate, (modelOrdinate - inputOrdinate[fluxMask]))\n",
    "plt.xlabel(\"Flux (ADU)\")\n",
    "plt.ylabel(\"Residual (ADU)\")\n",
    "plt.ylim(-100,100)\n"
   ]
  },
  {
   "cell_type": "code",
   "execution_count": null,
   "metadata": {},
   "outputs": [],
   "source": [
    "#Using ExpTimes\n",
    "plt.figure(figsize=(12,6))\n",
    "plt.subplot(1,2,1)\n",
    "plt.title(\"Spline fit to exposure data\")\n",
    "plt.plot(linearOrdinate, (modelOrdinate-linearOrdinate), ls = '--', lw=3, color='red', label=\"Spline fit\")\n",
    "plt.scatter(binCenters, values, marker = 'x', s = 200, color='red', label=\"Spline knots\")\n",
    "plt.scatter(linearOrdinate, (inputOrdinate[fluxMask] - linearOrdinate), label=\"Input data\")\n",
    "plt.xlabel(\"Flux (ADU)\")\n",
    "plt.ylabel(\"Deviation from Linearity(ADU)\")\n",
    "plt.legend()\n",
    "plt.subplot(1,2,2)\n",
    "plt.title(\"Residuals\")\n",
    "plt.scatter(linearOrdinate, (modelOrdinate - inputOrdinate[fluxMask]))\n",
    "plt.xlabel(\"Flux (ADU)\")\n",
    "plt.ylabel(\"Residual (ADU)\")\n",
    "plt.ylim(-100,100)\n"
   ]
  },
  {
   "cell_type": "code",
   "execution_count": null,
   "metadata": {},
   "outputs": [],
   "source": [
    "expId=3021120700200\n",
    "pdf = PdfPages(\"/repo/main/u/cslage/bps_13144E/plots/Linearity_Results_13144E_22Dec21.pdf\")\n",
    "\n",
    "plt.subplots_adjust(wspace = 0.5)\n",
    "\n",
    "\n",
    "names = [\"E2V\", \"ITL\"]\n",
    "linNames = [\"Not Linearized\", \"Linearized\"]\n",
    "\n",
    "for i, det in enumerate([55, 74]):\n",
    "    #lin = butler.get('linearizer', detector=det, exposure=expId, instrument='LSSTCam')\n",
    "    linPtc = linPtcButler.get('ptc', detector=det, exposure=expId, instrument='LSSTCam')\n",
    "    nonlinPtc = nonlinPtcButler.get('ptc', detector=det, exposure=expId, instrument='LSSTCam')\n",
    "    for amp in camera[0].getAmplifiers():\n",
    "        ampName = amp.getName()\n",
    "        fig = plt.figure(figsize=(16,4))\n",
    "        for n, ptc in enumerate([nonlinPtc, linPtc]):\n",
    "            gain = ptc.gain[ampName]\n",
    "            a00 = ptc.ptcFitPars[ampName][0]\n",
    "            noise = ptc.noise[ampName]\n",
    "            yplot = ExpApprox(np.array(ptc.rawMeans[ampName]), gain, a00, noise)\n",
    "            plt.subplot(1,4,2*n+1)\n",
    "            plt.title(f\"{names[i]} - {det} - {ampName}\\n{linNames[n]}\")\n",
    "            plt.scatter(ptc.rawMeans[ampName], ptc.rawVars[ampName], marker='+', label=\"Raw Data\")\n",
    "            plt.plot(ptc.rawMeans[ampName], yplot, ls = '--', color = 'red', label = 'ExpApprox')\n",
    "            plt.legend()\n",
    "            plt.xlim(0, 100000)\n",
    "            plt.xlabel(\"Mean (ADU)\")\n",
    "            plt.ylabel(\"Variance (ADU)\")\n",
    "            #plt.ylim(30000, 40000)\n",
    "            plt.subplot(1,4,2*n+2)\n",
    "            plt.title(f\"{names[i]} - {det} - {ampName} Residual\\n{linNames[n]}\")\n",
    "            plt.scatter(ptc.rawMeans[ampName], yplot - ptc.rawVars[ampName], marker='+', label=\"Raw\")\n",
    "            plt.xlim(0,100000)\n",
    "            plt.ylim(-1000,1000)\n",
    "            plt.xlabel(\"Mean (ADU)\")\n",
    "            plt.ylabel(\"Residual (ADU)\")\n",
    "        pdf.savefig(fig)\n",
    "        plt.close(fig)\n",
    "        #print(f\"Finished {det} {ampName}\")\n",
    "pdf.close()\n",
    "\n",
    "\n"
   ]
  },
  {
   "cell_type": "markdown",
   "metadata": {},
   "source": [
    "Below is mondiode stuff"
   ]
  },
  {
   "cell_type": "code",
   "execution_count": null,
   "metadata": {},
   "outputs": [],
   "source": [
    "expId=3021120700200\n",
    "nonlinPtc = nonlinPtcButler.get('ptc', detector=det, exposure=expId, instrument='LSSTCam')\n",
    "expId = nonlinPtc.inputExpIdPairs['C00'][0][0][0]\n",
    "expTime  = nonlinPtc.rawExpTimes['C00'][0]"
   ]
  },
  {
   "cell_type": "code",
   "execution_count": null,
   "metadata": {},
   "outputs": [],
   "source": [
    "def calcMondiode(expId):\n",
    "    factor = 5.0\n",
    "    DATA_DIR = '/lsstdata/offline/teststand/BOT/storage/'\n",
    "    date = int(expId/100000)\n",
    "    seq = expId - date * 100000\n",
    "    date = date - 10000000\n",
    "    file = DATA_DIR + '%d/MC_C_%d_%06d/Photodiode_Readings_%d_%06d.txt'%(date,date,seq,date,seq)\n",
    "\n",
    "    x, y = np.recfromtxt(file).transpose()\n",
    "    # Threshold for finding baseline current values:\n",
    "    ythresh = (min(y) + max(y))/factor + min(y)\n",
    "    # Subtract the median of the baseline values to get a calibrated\n",
    "    # current.\n",
    "    y -= np.median(y[np.where(y < ythresh)])\n",
    "    integral = sum((y[1:] + y[:-1])/2*(x[1:] - x[:-1]))\n",
    "    return integral\n"
   ]
  },
  {
   "cell_type": "code",
   "execution_count": null,
   "metadata": {},
   "outputs": [],
   "source": [
    "expId=3021120700200\n",
    "nonlinPtc = nonlinPtcButler.get('ptc', detector=det, exposure=expId, instrument='LSSTCam')\n",
    "pairs = nonlinPtc.inputExpIdPairs['C00']\n",
    "rawExpTimes  = nonlinPtc.rawExpTimes['C00']\n",
    "rawMeans = nonlinPtc.rawMeans['C00']"
   ]
  },
  {
   "cell_type": "code",
   "execution_count": null,
   "metadata": {},
   "outputs": [],
   "source": [
    "len(rawMeans)"
   ]
  },
  {
   "cell_type": "code",
   "execution_count": null,
   "metadata": {},
   "outputs": [],
   "source": [
    "len(rawExpTimes)"
   ]
  },
  {
   "cell_type": "code",
   "execution_count": null,
   "metadata": {},
   "outputs": [],
   "source": [
    "expTimes = []\n",
    "monDiodes = []\n",
    "fluxes = []\n",
    "modExpTimes = []\n",
    "for i, pair in enumerate(pairs):\n",
    "    pair = pair[0]\n",
    "    expTime = rawExpTimes[i]\n",
    "    modExpTime = 0.0\n",
    "    nExps = 0\n",
    "    for j in range(2):\n",
    "        expId = pair[j]\n",
    "        try:\n",
    "            monDiode = calcMondiode(expId)\n",
    "            modExpTime += monDiode\n",
    "            nExps += 1\n",
    "            expTimes.append(expTime)\n",
    "            monDiodes.append(monDiode)\n",
    "            fluxes.append(rawMeans[i])\n",
    "        except:\n",
    "            continue\n",
    "    if nExps > 0:\n",
    "        # The 5E8 factor bring the modExpTimes back to about the same order as the expTimes\n",
    "        modExpTime = 5.0E8 * modExpTime / nExps\n",
    "    else:\n",
    "        modExpTime = 0.0\n",
    "    modExpTimes.append(modExpTime)\n",
    "    #break"
   ]
  },
  {
   "cell_type": "code",
   "execution_count": null,
   "metadata": {
    "tags": []
   },
   "outputs": [],
   "source": [
    "max(modExpTimes)"
   ]
  },
  {
   "cell_type": "code",
   "execution_count": null,
   "metadata": {},
   "outputs": [],
   "source": [
    "len(modExpTimes)"
   ]
  },
  {
   "cell_type": "code",
   "execution_count": null,
   "metadata": {},
   "outputs": [],
   "source": [
    "plt.scatter(expTimes, monDiodes)"
   ]
  },
  {
   "cell_type": "code",
   "execution_count": null,
   "metadata": {},
   "outputs": [],
   "source": [
    "plt.scatter(expTimes, fluxes)"
   ]
  },
  {
   "cell_type": "code",
   "execution_count": null,
   "metadata": {},
   "outputs": [],
   "source": [
    "plt.scatter(monDiodes, fluxes)"
   ]
  },
  {
   "cell_type": "code",
   "execution_count": null,
   "metadata": {},
   "outputs": [],
   "source": [
    "plt.scatter(modExpTimes, fluxes)"
   ]
  },
  {
   "cell_type": "code",
   "execution_count": null,
   "metadata": {},
   "outputs": [],
   "source": []
  }
 ],
 "metadata": {
  "kernelspec": {
   "display_name": "LSST",
   "language": "python",
   "name": "lsst"
  },
  "language_info": {
   "codemirror_mode": {
    "name": "ipython",
    "version": 3
   },
   "file_extension": ".py",
   "mimetype": "text/x-python",
   "name": "python",
   "nbconvert_exporter": "python",
   "pygments_lexer": "ipython3",
   "version": "3.10.4"
  }
 },
 "nbformat": 4,
 "nbformat_minor": 4
}
