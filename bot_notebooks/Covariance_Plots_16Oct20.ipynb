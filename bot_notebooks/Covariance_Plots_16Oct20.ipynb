{
 "cells": [
  {
   "cell_type": "markdown",
   "metadata": {},
   "source": [
    "# Notebook for plotting extracted covariances on BOT data\n",
    "\n",
    "Initially written 16 Oct 2019 by Craig Lage.\\\n"
   ]
  },
  {
   "cell_type": "code",
   "execution_count": null,
   "metadata": {},
   "outputs": [],
   "source": [
    "! eups list -s | grep lsst_distrib\n",
    "! eups list -s obs_lsst \n",
    "! eups list -s cp_pipe"
   ]
  },
  {
   "cell_type": "code",
   "execution_count": null,
   "metadata": {},
   "outputs": [],
   "source": [
    "import os, sys, time, datetime, glob, subprocess\n",
    "import matplotlib.pyplot as plt\n",
    "from matplotlib.backends.backend_pdf import PdfPages\n",
    "import numpy as np\n",
    "import astropy.io.fits as pf\n",
    "from scipy import stats\n",
    "from lsst.daf.persistence import Butler"
   ]
  },
  {
   "cell_type": "code",
   "execution_count": null,
   "metadata": {},
   "outputs": [],
   "source": [
    "# To remember, an alternate way to get the ptc data:\n",
    "#from lsst.ip.isr import PhotonTransferCurveDataset\n",
    "#datasetFile = '/project/shared/BOT/rerun/cslage/PTC_LSSTCAM_New_12606/rerun/plazas/DM-27185/calibrations/ptc/ptcDataset-det094.fits'\n",
    "#datasetPtc = PhotonTransferCurveDataset.readFits(datasetFile)\n",
    "#print(datasetPtc.covariances)"
   ]
  },
  {
   "cell_type": "code",
   "execution_count": null,
   "metadata": {},
   "outputs": [],
   "source": [
    "run = '12606'\n",
    "DATA_DIR = '/project/shared/BOT/'\n",
    "RAFT = 'R12'\n",
    "SENSOR = 'S02'\n",
    "REPO_DIR = '/project/shared/BOT/rerun/cslage/PTC_LSSTCAM_FullCov_12606'\n",
    "DETECTOR = 47#94"
   ]
  },
  {
   "cell_type": "code",
   "execution_count": null,
   "metadata": {},
   "outputs": [],
   "source": [
    "butler = Butler(REPO_DIR)\n",
    "ptcDataset = butler.get('photonTransferCurveDataset', dataId={'detector': DETECTOR})\n",
    "gains = ptcDataset.gain\n",
    "means = ptcDataset.rawMeans\n",
    "xCorrs = ptcDataset.covariances"
   ]
  },
  {
   "cell_type": "code",
   "execution_count": null,
   "metadata": {},
   "outputs": [],
   "source": [
    "#print(dir(ptcDataset))\n",
    "print(ptcDataset.ptcFitType)\n",
    "print(ptcDataset.inputExpIdPairs['C15'])\n",
    "means = ptcDataset.finalMeans['C15']\n",
    "print(means)\n",
    "vars = ptcDataset.finalVars['C15']\n",
    "print(vars)\n",
    "plt.plot(means,vars, marker='x')\n",
    "plt.xscale('log')\n",
    "plt.yscale('log')"
   ]
  },
  {
   "cell_type": "code",
   "execution_count": null,
   "metadata": {},
   "outputs": [],
   "source": [
    "# Next plot the covariance vs flux \n",
    "for PlotDelta in [5,8]: # Number of pixels to look at\n",
    "    serialCov = np.zeros([len(means.keys()),PlotDelta])\n",
    "    pdf = PdfPages(REPO_DIR+\"/plots/Covariance_vs_Flux_%s_%s.pdf\"%(PlotDelta,DETECTOR))\n",
    "    for ampNum, amp in enumerate(means.keys()):\n",
    "        gain = gains[amp]\n",
    "        NumFluxes = int(len(means[amp]))\n",
    "        fig = plt.figure(figsize = (16,8))\n",
    "        plt.suptitle(\"Covariance vs Flux - Amp %s, %s-%s\"%(amp,RAFT,SENSOR), fontsize = 24)\n",
    "        plt.subplots_adjust(wspace=0.3, hspace=0.6)\n",
    "        plotcounter = 0\n",
    "        for jj in range(PlotDelta-1, -1, -1):\n",
    "            for ii in range(PlotDelta):\n",
    "                plotcounter += 1\n",
    "                plt.subplot(PlotDelta, PlotDelta, plotcounter)\n",
    "                cov = []\n",
    "                flux = []\n",
    "\n",
    "                for n in range(NumFluxes):\n",
    "                    xcorr = xCorrs[amp][n][ii][jj]\n",
    "                    mean = means[amp][n]\n",
    "                    if ii == 0 and jj == 0:\n",
    "                        # This isn't right yet\n",
    "                        xcorr = xcorr - mean * gain\n",
    "                        cov.append(-xcorr)\n",
    "                    else:\n",
    "                        cov.append(xcorr)\n",
    "                    flux.append(mean)\n",
    "                cov = np.array(cov)\n",
    "                flux = np.array(flux)\n",
    "\n",
    "                plt.scatter(flux, cov, color='blue', marker='x', s=50)\n",
    "                coefs = np.polyfit(flux*flux, cov, 1)\n",
    "                if jj == 1:\n",
    "                    serialCov[ampNum, ii] = coefs[0]\n",
    "                xplot = np.linspace(0,150000, 100)\n",
    "                yplot = max(0, coefs[0])*xplot*xplot\n",
    "                plt.plot(xplot,yplot, color = 'red', lw = 2)\n",
    "                plt.title(\"Pixel: (%d, %d)\"%(ii, jj), fontsize = 12)\n",
    "                if jj == 0:\n",
    "                    plt.xlabel(\"Central Pixel Charge(e-)\", fontsize = 12)\n",
    "                if ii == 0:\n",
    "                    plt.ylabel(\"Correlation\", fontsize = 12)\n",
    "                plt.xlim(0,120000)\n",
    "                plt.xticks([0,150000],fontsize = 12)\n",
    "\n",
    "                if ii == 0 and jj == 0:\n",
    "                    plt.yticks([0,10000],fontsize = 12)\n",
    "                    plt.ylim(-1000,30000)\n",
    "                elif ii == 0 and jj == 1:\n",
    "                    plt.yticks([0,2000,4000],fontsize = 12)\n",
    "                    plt.ylim(-500,4000)\n",
    "                elif ii == 2 and jj == 0:\n",
    "                    plt.yticks([0,500,1000],fontsize = 12)\n",
    "                    plt.ylim(-100,1000)\n",
    "                elif ii == 1 and jj < 2:\n",
    "                    plt.yticks([0,1000,2000],fontsize = 12)\n",
    "                    plt.ylim(-500,4000)\n",
    "                else:\n",
    "                    plt.yticks([-200,0,200],fontsize = 12)\n",
    "                    plt.ylim(-200,1000)\n",
    "\n",
    "\n",
    "        pdf.savefig(fig)  # saves the current figure into a pdf page\n",
    "        plt.close()\n",
    "    pdf.close()\n"
   ]
  },
  {
   "cell_type": "code",
   "execution_count": null,
   "metadata": {},
   "outputs": [],
   "source": [
    "# Plot the serial covariances vs distance \n",
    "plt.figure(figsize=(16,8))\n",
    "plt.subplots_adjust(hspace=0.3,wspace=0.02)\n",
    "plt.suptitle(\"SLAC run 12606/12610, %s-%s\"%(RAFT,SENSOR),fontsize = 24)\n",
    "plotcounter = 0\n",
    "xaxis = np.arange(PlotDelta)\n",
    "for ampNum, amp in enumerate(means.keys()):\n",
    "    plotcounter += 1\n",
    "    plt.subplot(4,4,plotcounter)\n",
    "    plt.title(\"Serial Covariances %s\"%amp,fontsize=12)\n",
    "    plt.scatter(xaxis[1:], serialCov[ampNum,1:]*1.0E7 ,marker='x',color='green')\n",
    "    plt.plot([1.0,8.0],[0.0,0.0], color='black', ls = '--')\n",
    "    plt.ylim(-1.0,5.0)\n",
    "    #plt.xlim(0,120000)                                                                                                                \n",
    "    plt.tick_params(left=False,  bottom=False, labelleft=False,  labelbottom=False)\n",
    "    if plotcounter in [1,5,9,13]:\n",
    "        plt.ylabel(\"Covariance * 1E7\",fontsize=10)\n",
    "        plt.tick_params(left=True, labelleft=True)\n",
    "    if plotcounter in [13,14,15,16]:\n",
    "        plt.xlabel(\"X pixel\", fontsize=10)\n",
    "        #plt.xticks([0,25000,50000,75000,100000])                                                                                      \n",
    "        plt.tick_params(bottom=True, labelbottom=True)\n",
    "\n",
    "plt.savefig(REPO_DIR+'/plots/Cov_vs_X_16Oct20_%s.pdf'%(DETECTOR))\n"
   ]
  },
  {
   "cell_type": "code",
   "execution_count": null,
   "metadata": {},
   "outputs": [],
   "source": [
    "# Plot the serial covariances vs distance                                                                                              \n",
    "plt.figure(figsize=(16,8))\n",
    "plt.suptitle(\"SLAC run 12606/12610, %s-%s\"%(RAFT,SENSOR),fontsize = 24)\n",
    "xaxis = np.arange(PlotDelta)\n",
    "for ampNum, amp in enumerate(means.keys()):\n",
    "    plt.plot(xaxis[1:], np.log10(serialCov[ampNum,1:]), label=amp)\n",
    "plt.ylim(-9.0,-6.0)\n",
    "plt.ylabel(\"Log Covariance\",fontsize=18)\n",
    "plt.xlabel(\"X pixel\", fontsize=18)\n",
    "plt.legend()\n",
    "plt.savefig(REPO_DIR+'/plots/Cov_vs_X_Log_16Oct20_%s.pdf'%(DETECTOR))\n"
   ]
  },
  {
   "cell_type": "code",
   "execution_count": null,
   "metadata": {},
   "outputs": [],
   "source": []
  },
  {
   "cell_type": "code",
   "execution_count": null,
   "metadata": {},
   "outputs": [],
   "source": []
  }
 ],
 "metadata": {
  "kernelspec": {
   "display_name": "LSST",
   "language": "python",
   "name": "lsst"
  },
  "language_info": {
   "codemirror_mode": {
    "name": "ipython",
    "version": 3
   },
   "file_extension": ".py",
   "mimetype": "text/x-python",
   "name": "python",
   "nbconvert_exporter": "python",
   "pygments_lexer": "ipython3",
   "version": "3.7.8"
  }
 },
 "nbformat": 4,
 "nbformat_minor": 4
}
