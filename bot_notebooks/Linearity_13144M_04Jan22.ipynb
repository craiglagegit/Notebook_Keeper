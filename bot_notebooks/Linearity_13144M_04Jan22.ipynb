{
 "cells": [
  {
   "cell_type": "markdown",
   "metadata": {},
   "source": [
    "# Notebook for investigating linearity corrections\n",
    "\n",
    "Initially written 20 Dec 2021 by Craig Lage\\\n",
    "copying from Chris Waters."
   ]
  },
  {
   "cell_type": "code",
   "execution_count": null,
   "metadata": {},
   "outputs": [],
   "source": [
    "import sys, os, glob, time\n",
    "import pickle as pkl\n",
    "import numpy as np\n",
    "import matplotlib.pyplot as plt\n",
    "import astropy.io.fits as pf\n",
    "from lsst.daf.butler import Butler\n",
    "import lsst.afw.math as afwMath"
   ]
  },
  {
   "cell_type": "code",
   "execution_count": null,
   "metadata": {},
   "outputs": [],
   "source": [
    "def detector(raft, sensor):\n",
    "    # Subroutine to find vendor and detector number given raft and sensor\n",
    "    startingCol = [1,0,0,0,1] # First raft column in each row\n",
    "    rows = [0,3,8,13,18] # Starting raft sequence number of each row\n",
    "    if raft in ['R11','R12','R13','R14','R21','R22','R23','R24','R30',\\\n",
    "                'R31','R32','R33','R34']:\n",
    "        vendor = 'E2V'\n",
    "    else:\n",
    "        vendor = 'ITL'\n",
    "    raftRow = int(list(raft)[1])\n",
    "    raftCol = int(list(raft)[2]) - startingCol[raftRow]\n",
    "    sensorRow = int(list(sensor)[1])\n",
    "    sensorCol = int(list(sensor)[2])\n",
    "    detectorNum = (rows[raftRow] + raftCol) * 9\n",
    "    detectorNum += 3 * sensorRow + sensorCol\n",
    "    return vendor, detectorNum"
   ]
  },
  {
   "cell_type": "code",
   "execution_count": null,
   "metadata": {},
   "outputs": [],
   "source": [
    "butler = Butler(\"/repo/main\", collections=[\"LSSTCam/raw/all\",\"LSSTCam/calib\",\\\n",
    "                                                    \"u/cslage/calib/13144/calib.20220103\"])\n",
    "camera = butler.get('camera', instrument='LSSTCam')"
   ]
  },
  {
   "cell_type": "code",
   "execution_count": null,
   "metadata": {},
   "outputs": [],
   "source": [
    "expId = 3021120700200\n",
    "fig = plt.figure(figsize=(12,6))\n",
    "plt.suptitle(\"Linearizer spline knots - Run 13144M\", fontsize=24)\n",
    "plt.subplot(1,2,1)\n",
    "plt.title(\"E2V\", fontsize=18)\n",
    "plt.xlabel(\"Flux(ADU)\", fontsize=18)\n",
    "plt.ylabel(\"Departure from linearity (ADU)\", fontsize=18)\n",
    "plt.xticks([0,50000,100000])\n",
    "plt.xlim(0,100000)\n",
    "plt.ylim(-1000,1000)\n",
    "plt.subplot(1,2,2)\n",
    "plt.title(\"ITL\", fontsize=18)\n",
    "plt.xlabel(\"Flux(ADU)\", fontsize=18)\n",
    "plt.ylabel(\"Departure from linearity (ADU)\", fontsize=18)\n",
    "plt.xticks([0,50000,100000])\n",
    "plt.xlim(0,100000)\n",
    "plt.ylim(-1000,1000)\n",
    "plt.subplots_adjust(wspace=0.5)\n",
    "\n",
    "for RAFT in ['R01',  'R02',  'R03', 'R10',  'R11',  'R12',  'R13', 'R14', 'R20',  'R21',  'R22',  'R23', 'R24', \\\n",
    "             'R30', 'R31', 'R32', 'R33', 'R34', 'R41', 'R42', 'R43']:\n",
    "    for SENSOR in ['S00', 'S01', 'S02', 'S10', 'S11', 'S12', 'S20', 'S21', 'S22']:\n",
    "        VENDOR, DETECTOR = detector(RAFT,SENSOR)\n",
    "        try:\n",
    "            lin = butler.get('linearizer', detector=DETECTOR, exposure=expId, instrument='LSSTCam')\n",
    "        except:\n",
    "            continue\n",
    "        for amp in camera[0].getAmplifiers():\n",
    "            ampName = amp.getName()\n",
    "            centers, values = np.split(lin.linearityCoeffs[ampName], 2)\n",
    "            if VENDOR == \"E2V\":\n",
    "                plt.subplot(1,2,1)\n",
    "                plt.scatter(centers, values, marker='.')\n",
    "            elif VENDOR == \"ITL\":\n",
    "                plt.subplot(1,2,2)\n",
    "                plt.scatter(centers, values, marker='.')\n",
    "\n",
    "plt.savefig(\"/repo/main/u/cslage/bps_13144M/plots/Spline_Knots_13144M_20Jan22.png\")"
   ]
  },
  {
   "cell_type": "code",
   "execution_count": null,
   "metadata": {},
   "outputs": [],
   "source": []
  }
 ],
 "metadata": {
  "kernelspec": {
   "display_name": "LSST",
   "language": "python",
   "name": "lsst"
  },
  "language_info": {
   "codemirror_mode": {
    "name": "ipython",
    "version": 3
   },
   "file_extension": ".py",
   "mimetype": "text/x-python",
   "name": "python",
   "nbconvert_exporter": "python",
   "pygments_lexer": "ipython3",
   "version": "3.8.8"
  }
 },
 "nbformat": 4,
 "nbformat_minor": 4
}
