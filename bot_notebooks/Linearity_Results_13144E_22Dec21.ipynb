{
 "cells": [
  {
   "cell_type": "markdown",
   "metadata": {},
   "source": [
    "# Notebook for investigating linearity corrections\n",
    "\n",
    "Initially written 20 Dec 2021 by Craig Lage\\\n",
    "copying from Chris Waters."
   ]
  },
  {
   "cell_type": "code",
   "execution_count": null,
   "metadata": {},
   "outputs": [],
   "source": [
    "import sys, os, glob, time\n",
    "import pickle as pkl\n",
    "import numpy as np\n",
    "import matplotlib.pyplot as plt\n",
    "from matplotlib.backends.backend_pdf import PdfPages\n",
    "import astropy.io.fits as pf\n",
    "from lsst.daf.butler import Butler\n",
    "import lsst.afw.math as afwMath"
   ]
  },
  {
   "cell_type": "code",
   "execution_count": null,
   "metadata": {},
   "outputs": [],
   "source": [
    "butler = Butler(\"/repo/main\", collections=[\"LSSTCam/raw/all\",\"LSSTCam/calib\",\\\n",
    "                                                    \"LSSTCam/calib/u/cslage/13144\"])\n",
    "camera = butler.get('camera', instrument='LSSTCam')"
   ]
  },
  {
   "cell_type": "code",
   "execution_count": null,
   "metadata": {},
   "outputs": [],
   "source": [
    "linPtcButler = Butler(\"/repo/main\", collections=[\"u/cslage/bps_13144E\"])"
   ]
  },
  {
   "cell_type": "code",
   "execution_count": null,
   "metadata": {},
   "outputs": [],
   "source": [
    "nonlinPtcButler = Butler(\"/repo/main\", collections=[\"u/cslage/bps_13144B\"])"
   ]
  },
  {
   "cell_type": "code",
   "execution_count": null,
   "metadata": {},
   "outputs": [],
   "source": [
    "def ExpApprox(mu, g, a00, n):\n",
    "    if (g < 1.0E-6) or (abs(a00) < 1.0E-9):\n",
    "        return np.zeros([len(mu)])\n",
    "    else:\n",
    "        expFactor = 2.0 * a00 * mu * g\n",
    "        if max(expFactor) > 100.0:\n",
    "            return np.zeros([len(mu)])\n",
    "        else:\n",
    "            preFactor = 1.0 / (2.0 * g * g * a00)\n",
    "            noiseTerm = n / (g * g)\n",
    "            return preFactor * (np.exp(expFactor) - 1.0) + noiseTerm"
   ]
  },
  {
   "cell_type": "code",
   "execution_count": null,
   "metadata": {
    "jupyter": {
     "outputs_hidden": true
    },
    "tags": []
   },
   "outputs": [],
   "source": [
    "expId=3021120700200\n",
    "pdf = PdfPages(\"/repo/main/u/cslage/bps_13144E/plots/Linearity_Results_13144E_22Dec21.pdf\")\n",
    "\n",
    "plt.subplots_adjust(wspace = 0.5)\n",
    "\n",
    "\n",
    "names = [\"E2V\", \"ITL\"]\n",
    "linNames = [\"Not Linearized\", \"Linearized\"]\n",
    "\n",
    "for i, det in enumerate([55, 74]):\n",
    "    #lin = butler.get('linearizer', detector=det, exposure=expId, instrument='LSSTCam')\n",
    "    linPtc = linPtcButler.get('ptc', detector=det, exposure=expId, instrument='LSSTCam')\n",
    "    nonlinPtc = nonlinPtcButler.get('ptc', detector=det, exposure=expId, instrument='LSSTCam')\n",
    "    for amp in camera[0].getAmplifiers():\n",
    "        ampName = amp.getName()\n",
    "        fig = plt.figure(figsize=(16,4))\n",
    "        for n, ptc in enumerate([nonlinPtc, linPtc]):\n",
    "            gain = ptc.gain[ampName]\n",
    "            a00 = ptc.ptcFitPars[ampName][0]\n",
    "            noise = ptc.noise[ampName]\n",
    "            yplot = ExpApprox(np.array(ptc.rawMeans[ampName]), gain, a00, noise)\n",
    "            plt.subplot(1,4,2*n+1)\n",
    "            plt.title(f\"{names[i]} - {det} - {ampName}\\n{linNames[n]}\")\n",
    "            plt.scatter(ptc.rawMeans[ampName], ptc.rawVars[ampName], marker='+', label=\"Raw Data\")\n",
    "            plt.plot(ptc.rawMeans[ampName], yplot, ls = '--', color = 'red', label = 'ExpApprox')\n",
    "            plt.legend()\n",
    "            plt.xlim(0, 100000)\n",
    "            plt.xlabel(\"Mean (ADU)\")\n",
    "            plt.ylabel(\"Variance (ADU)\")\n",
    "            #plt.ylim(30000, 40000)\n",
    "            plt.subplot(1,4,2*n+2)\n",
    "            plt.title(f\"{names[i]} - {det} - {ampName} Residual\\n{linNames[n]}\")\n",
    "            plt.scatter(ptc.rawMeans[ampName], yplot - ptc.rawVars[ampName], marker='+', label=\"Raw\")\n",
    "            plt.xlim(0,100000)\n",
    "            plt.ylim(-1000,1000)\n",
    "            plt.xlabel(\"Mean (ADU)\")\n",
    "            plt.ylabel(\"Residual (ADU)\")\n",
    "        pdf.savefig(fig)\n",
    "        plt.close(fig)\n",
    "        #print(f\"Finished {det} {ampName}\")\n",
    "pdf.close()\n",
    "\n",
    "\n"
   ]
  },
  {
   "cell_type": "code",
   "execution_count": null,
   "metadata": {},
   "outputs": [],
   "source": []
  }
 ],
 "metadata": {
  "kernelspec": {
   "display_name": "LSST",
   "language": "python",
   "name": "lsst"
  },
  "language_info": {
   "codemirror_mode": {
    "name": "ipython",
    "version": 3
   },
   "file_extension": ".py",
   "mimetype": "text/x-python",
   "name": "python",
   "nbconvert_exporter": "python",
   "pygments_lexer": "ipython3",
   "version": "3.10.4"
  }
 },
 "nbformat": 4,
 "nbformat_minor": 4
}
