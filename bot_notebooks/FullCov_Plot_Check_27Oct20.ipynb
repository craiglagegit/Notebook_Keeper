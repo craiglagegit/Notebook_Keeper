{
 "cells": [
  {
   "cell_type": "markdown",
   "metadata": {},
   "source": [
    "# Notebook for plotting extracted covariances on BOT data\n",
    "\n",
    "Initially written 16 Oct 2019 by Craig Lage.\\\n"
   ]
  },
  {
   "cell_type": "code",
   "execution_count": null,
   "metadata": {},
   "outputs": [],
   "source": [
    "! eups list -s | grep lsst_distrib\n",
    "! eups list -s obs_lsst \n",
    "! eups list -s cp_pipe"
   ]
  },
  {
   "cell_type": "code",
   "execution_count": null,
   "metadata": {},
   "outputs": [],
   "source": [
    "import matplotlib.pyplot as plt\n",
    "import numpy as np\n",
    "from lsst.daf.persistence import Butler"
   ]
  },
  {
   "cell_type": "code",
   "execution_count": null,
   "metadata": {},
   "outputs": [],
   "source": [
    "butler = Butler('/project/shared/BOT/rerun/cslage/PTC_LSSTCAM_FullCov_12606')\n",
    "ptcDataset = butler.get('photonTransferCurveDataset', dataId={'detector': 94})\n",
    "print(ptcDataset.ptcFitType)\n",
    "rawMeans = ptcDataset.rawMeans['C15']\n",
    "rawVars = ptcDataset.rawVars['C15']\n",
    "finalMeans = ptcDataset.finalMeans['C15']\n",
    "finalVars = ptcDataset.finalVars['C15']\n",
    "plt.plot(rawMeans,rawVars, marker='o')\n",
    "plt.plot(finalMeans,finalVars, marker='+')\n",
    "plt.xscale('log')\n",
    "plt.yscale('log')"
   ]
  },
  {
   "cell_type": "code",
   "execution_count": null,
   "metadata": {},
   "outputs": [],
   "source": [
    "# To remember, an alternate way to get the ptc data:\n",
    "from lsst.ip.isr import PhotonTransferCurveDataset\n",
    "datasetFile = '/project/shared/BOT/rerun/cslage/PTC_LSSTCAM_FullCov_12606/calibrations/ptc/ptcDataset-det094.fits'\n",
    "ptcDataset = PhotonTransferCurveDataset.readFits(datasetFile)\n",
    "means = ptcDataset.finalMeans['C15']\n",
    "vars = ptcDataset.finalVars['C15']\n",
    "for i, mean in enumerate(means):\n",
    "    print(i, mean, vars[i])\n",
    "    means = ptcDataset.finalMeans['C15']\n",
    "#rawMeans = ptcDataset.rawMeans['C15']\n",
    "#for i, mean in enumerate(rawMeans):\n",
    "#    print(i, mean)"
   ]
  },
  {
   "cell_type": "code",
   "execution_count": null,
   "metadata": {},
   "outputs": [],
   "source": [
    "# From within plotPtc.py\n",
    "means  = [   225.4469599,  329.21562534, 481.21701855, 703.85519784,\n",
    "   1028.49397225,   2200.01217804,   3216.80205311,   4702.43936309,\n",
    "   6875.21612947 ,  4972.59095203 ,  7266.06818337,  10622.48769831,\n",
    "  15533.26499826 , 22708.70748936 , 33197.63705894 , 70740.36807742,\n",
    " 103553.33074419]\n",
    "vars = [  241.74304921 ,  334.78784098 ,  473.76934613,   673.71161401,\n",
    "   968.91323279 , 2055.53412341 , 2950.21384776,  4298.62188172,\n",
    "  4488.53009676 , 6210.96495104,  6531.54504735 , 9386.82295156,\n",
    " 13450.7147755 , 19155.31113836 ,27034.00942317, 51094.59809799,\n",
    " 67935.72149933]\n",
    "for i, mean in enumerate(means):\n",
    "    print(i, mean, vars[i])\n",
    "\n",
    "plt.plot(means,vars, marker='x')\n",
    "plt.xscale('log')\n",
    "plt.yscale('log')"
   ]
  },
  {
   "cell_type": "code",
   "execution_count": null,
   "metadata": {},
   "outputs": [],
   "source": [
    "gain = ptcDataset.gain['C15']\n",
    "print(gain)"
   ]
  },
  {
   "cell_type": "code",
   "execution_count": null,
   "metadata": {},
   "outputs": [],
   "source": [
    "print(\"i \\t rawMean \\t rawVar \\t plotMean \\t plotVar \\t finalMean*g \\t finalVar*g^2\")\n",
    "\n",
    "for i in range(len(rawMeans)):\n",
    "    if i < 5:\n",
    "        print(\"%d \\t %.2f \\t %.2f \\t %.2f \\t %.2f \\t %.2f \\t %.2f\"\\\n",
    "              %(i, rawMeans[i], rawVars[i], means[i], vars[i], finalMeans[i]*gain, finalVars[i] * gain**2))\n",
    "    elif i == 5:\n",
    "        print(\"%d \\t %.2f \\t %.2f \"\\\n",
    "              %(i, rawMeans[i], rawVars[i]))\n",
    "    elif i < 16:\n",
    "        print(\"%d \\t %.2f \\t %.2f \\t %.2f \\t %.2f \\t %.2f \\t %.2f\"\\\n",
    "              %(i, rawMeans[i], rawVars[i], means[i-1], vars[i-1], finalMeans[i-1]*gain, finalVars[i-1] * gain**2))\n",
    "    elif i == 16:\n",
    "        print(\"%d \\t %.2f \\t %.2f \"\\\n",
    "              %(i, rawMeans[i], rawVars[i]))\n",
    "    else:\n",
    "        print(\"%d \\t %.2f \\t %.2f \\t %.2f \\t %.2f \\t %.2f \\t %.2f\"\\\n",
    "              %(i, rawMeans[i], rawVars[i], means[i-2], vars[i-2], finalMeans[i-2]*gain, finalVars[i-2] * gain**2))\n"
   ]
  },
  {
   "cell_type": "code",
   "execution_count": null,
   "metadata": {},
   "outputs": [],
   "source": [
    "# It's the covariances that are swapped.\n",
    "from lsst.ip.isr import PhotonTransferCurveDataset\n",
    "datasetFile = '/project/shared/BOT/rerun/cslage/PTC_LSSTCAM_FullCov_12606/calibrations/ptc/ptcDataset-det183.fits'\n",
    "ptcDataset = PhotonTransferCurveDataset.readFits(datasetFile)\n",
    "rawMeans = ptcDataset.rawMeans['C15']\n",
    "rawVars = ptcDataset.rawVars['C15']\n",
    "Cov00 = np.array(ptcDataset.covariances['C15'])[:,0,0]\n",
    "print(\"i \\t rawMean \\t rawVar \\t Cov[0,0]\")\n",
    "for i in range(len(rawMeans)):\n",
    "    if i==9 or i==10:\n",
    "        print(\"%d \\t %.2f \\t %.2f \\t %.2f **Swapped**\"%(i, rawMeans[i], rawVars[i], Cov00[i]))\n",
    "    else:\n",
    "        print(\"%d \\t %.2f \\t %.2f \\t %.2f \"%(i, rawMeans[i], rawVars[i], Cov00[i]))"
   ]
  },
  {
   "cell_type": "code",
   "execution_count": null,
   "metadata": {},
   "outputs": [],
   "source": []
  }
 ],
 "metadata": {
  "kernelspec": {
   "display_name": "LSST",
   "language": "python",
   "name": "lsst"
  },
  "language_info": {
   "codemirror_mode": {
    "name": "ipython",
    "version": 3
   },
   "file_extension": ".py",
   "mimetype": "text/x-python",
   "name": "python",
   "nbconvert_exporter": "python",
   "pygments_lexer": "ipython3",
   "version": "3.7.8"
  }
 },
 "nbformat": 4,
 "nbformat_minor": 4
}
