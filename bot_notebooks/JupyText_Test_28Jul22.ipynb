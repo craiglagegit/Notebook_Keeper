{
 "cells": [
  {
   "cell_type": "markdown",
   "id": "233aec20-54e9-4c57-8ae2-3e28fbdec386",
   "metadata": {},
   "source": [
    "## Queries - Gen3\n",
    "\n",
    "In this notebook, we show several ways to query the Gen3 data\\\n",
    "Craig Lage - 21-May-21"
   ]
  },
  {
   "cell_type": "code",
   "execution_count": null,
   "id": "cd5c75fa-3292-4faf-a5dc-978ce480abeb",
   "metadata": {},
   "outputs": [],
   "source": [
    "import numpy as np\n",
    "import matplotlib.pyplot as plt\n",
    "import astropy.io.fits as pf\n",
    "import lsst.daf.butler as dafButler"
   ]
  },
  {
   "cell_type": "code",
   "execution_count": null,
   "id": "dec542b5-24f5-4b26-8601-3f4eb3cf69a5",
   "metadata": {},
   "outputs": [],
   "source": [
    "butler = dafButler.Butler('/repo/main', collections=\"LSSTComCam/raw/all\")"
   ]
  },
  {
   "cell_type": "code",
   "execution_count": null,
   "id": "8d491225-3913-4502-8f00-efb7a54b9dea",
   "metadata": {},
   "outputs": [],
   "source": [
    "dayObs = 20211014\n",
    "detector = 4\n",
    "exposureList = []\n",
    "for record in butler.registry.queryDimensionRecords(\"exposure\", where=\"exposure.day_obs=%d\"%dayObs):\n",
    "    #print(record.id, record.observation_type, record.exposure_time, record.physical_filter, record.target_name)\n",
    "    exposureList.append([record.id, record.observation_type, record.exposure_time, record.physical_filter, record.target_name])\n",
    "exposureList.sort()\n",
    "for item in exposureList:\n",
    "    print(item)"
   ]
  },
  {
   "cell_type": "code",
   "execution_count": null,
   "id": "4240fc9d-e0ca-44c0-9e24-8ff19b7d8d51",
   "metadata": {},
   "outputs": [],
   "source": [
    "dayObs = 20211014\n",
    "detector = 4\n",
    "exposureList = []\n",
    "for record in butler.registry.queryDimensionRecords(\"exposure\", where=\"exposure.day_obs=%d\"%dayObs):\n",
    "    #print(record.id, record.observation_type, record.exposure_time, record.physical_filter, record.target_name)\n",
    "    exposureList.append([record.id, record.observation_type, record.exposure_time, record.physical_filter, record.target_name])\n",
    "exposureList.sort()\n",
    "for item in exposureList:\n",
    "    print(item)"
   ]
  },
  {
   "cell_type": "code",
   "execution_count": null,
   "id": "97bb473c-7ae9-4544-b89a-1ae8af5b195d",
   "metadata": {},
   "outputs": [],
   "source": [
    "temp = []\n",
    "for i in range(2021093000079, 2021093000119):\n",
    "    temp.append(i)\n",
    "print(temp)"
   ]
  },
  {
   "cell_type": "code",
   "execution_count": null,
   "id": "4f167bdc-2c84-42f6-8aab-278c11c74cbb",
   "metadata": {},
   "outputs": [],
   "source": []
  }
 ],
 "metadata": {
  "jupytext": {
   "formats": "ipynb,markdown//md"
  },
  "kernelspec": {
   "display_name": "LSST",
   "language": "python",
   "name": "lsst"
  },
  "language_info": {
   "codemirror_mode": {
    "name": "ipython",
    "version": 3
   },
   "file_extension": ".py",
   "mimetype": "text/x-python",
   "name": "python",
   "nbconvert_exporter": "python",
   "pygments_lexer": "ipython3",
   "version": "3.10.4"
  }
 },
 "nbformat": 4,
 "nbformat_minor": 5
}
