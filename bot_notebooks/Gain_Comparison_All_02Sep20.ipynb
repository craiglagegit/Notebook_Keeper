{
 "cells": [
  {
   "cell_type": "markdown",
   "metadata": {},
   "source": [
    "# Notebook for comparing eotest gain with DM gain.\n",
    "\n",
    "Initially written 21 May 2020 by Craig Lage."
   ]
  },
  {
   "cell_type": "code",
   "execution_count": null,
   "metadata": {},
   "outputs": [],
   "source": [
    "! eups list -s | grep lsst_distrib"
   ]
  },
  {
   "cell_type": "code",
   "execution_count": null,
   "metadata": {},
   "outputs": [],
   "source": [
    "import sys, os, glob, time\n",
    "import pickle as pkl\n",
    "import numpy as np\n",
    "import matplotlib.pyplot as plt\n",
    "import astropy.io.fits as pf\n",
    "from lsst.daf.persistence import Butler"
   ]
  },
  {
   "cell_type": "code",
   "execution_count": null,
   "metadata": {},
   "outputs": [],
   "source": [
    "num = 'All'\n",
    "BASE_DIR = '/project/shared/BOT/rerun/cslage/PTC_LSSTCAM_DM26453_12539'\n",
    "DATA_DIR = '/project/shared/BOT/'\n",
    "run = '12539'"
   ]
  },
  {
   "cell_type": "code",
   "execution_count": null,
   "metadata": {},
   "outputs": [],
   "source": [
    "# Get the eotest results\n",
    "filename = \"/project/cslage/BOT_LSSTCam/eotest/eotest_gain_02sep20.pkl\"\n",
    "file = open(filename, 'rb')\n",
    "fe55_results = pkl.load(file)\n",
    "ptc_results = pkl.load(file)\n",
    "file.close()\n",
    "rafts = ['R02', 'R03','R12', 'R13', 'R14', 'R22', 'R23', 'R24',\\\n",
    "             'R32', 'R33', 'R34', 'R42', 'R43']\n",
    "sensors = ['S00', 'S01', 'S02', 'S10', 'S11', 'S12', 'S20', 'S21', 'S22']\n",
    "print(rafts)"
   ]
  },
  {
   "cell_type": "code",
   "execution_count": null,
   "metadata": {},
   "outputs": [],
   "source": [
    "def getDetector(raft, sensor):\n",
    "    # Subroutine to find vendor and detector number given raft and sensor                                                              \n",
    "    startingCol = [1,0,0,0,1] # First raft column in each row                                                                          \n",
    "    rows = [0,3,8,13,18] # Starting raft sequence number of each row                                                                   \n",
    "    if raft in ['R11','R12','R13','R14','R21','R22','R23','R24','R30',\\\n",
    "                'R31','R32','R33','R34']:\n",
    "        vendor = 'E2V'\n",
    "    else:\n",
    "        vendor = 'ITL'\n",
    "    raftRow = int(list(raft)[1])\n",
    "    raftCol = int(list(raft)[2]) - startingCol[raftRow]\n",
    "    sensorRow = int(list(sensor)[1])\n",
    "    sensorCol = int(list(sensor)[2])\n",
    "    detectorNum = (rows[raftRow] + raftCol) * 9\n",
    "    detectorNum += 3 * sensorRow + sensorCol\n",
    "    return vendor, detectorNum\n"
   ]
  },
  {
   "cell_type": "code",
   "execution_count": null,
   "metadata": {},
   "outputs": [],
   "source": [
    "butler = Butler(BASE_DIR)"
   ]
  },
  {
   "cell_type": "code",
   "execution_count": null,
   "metadata": {},
   "outputs": [],
   "source": [
    "test = butler.get('photonTransferCurveDataset', dataId={'detector':94})"
   ]
  },
  {
   "cell_type": "code",
   "execution_count": null,
   "metadata": {},
   "outputs": [],
   "source": [
    "print(test.ptcFitType)"
   ]
  },
  {
   "cell_type": "code",
   "execution_count": null,
   "metadata": {
    "jupyter": {
     "outputs_hidden": true
    }
   },
   "outputs": [],
   "source": [
    "BF_gains = {}\n",
    "PTC_gains = {}\n",
    "EO_PTC_gains = {}\n",
    "EO_Fe55_gains = {}\n",
    "detectors = {}\n",
    "for RAFT in rafts:\n",
    "    for SENSOR in sensors:\n",
    "        VENDOR, DETECTOR = getDetector(RAFT, SENSOR)\n",
    "        try:\n",
    "            butler = Butler(BASE_DIR)\n",
    "            ptc_data = butler.get('photonTransferCurveDataset', dataId={'detector':DETECTOR})\n",
    "            print(\"Found detector %d\"%DETECTOR)\n",
    "        except:\n",
    "            print(\"Didn't find detector %d\"%DETECTOR)\n",
    "            continue\n",
    "        #gain = bf_kernel.gain\n",
    "        #gainErr = bf_kernel.gainErr\n",
    "        ptcGain = ptc_data.gain\n",
    "        ptcGainErr = ptc_data.gainErr\n",
    "        eotestPTCGain = ptc_results['ptc_gain'][RAFT][SENSOR]\n",
    "        eotestPTCGainErr = ptc_results['ptc_gain_error'][RAFT][SENSOR]\n",
    "        eotestFe55Gain = fe55_results['gain'][RAFT][SENSOR]\n",
    "        eotestFe55GainErr = fe55_results['gain_error'][RAFT][SENSOR]\n",
    "        detectors[DETECTOR] = [VENDOR, RAFT, SENSOR]\n",
    "        PTC_gains[DETECTOR] = []\n",
    "        EO_PTC_gains[DETECTOR] = []\n",
    "        EO_Fe55_gains[DETECTOR] = []\n",
    "\n",
    "        for i, amp in enumerate(ptcGain.keys()):\n",
    "            PTC_gains[DETECTOR].append(ptcGain[amp])\n",
    "            EO_PTC_gains[DETECTOR].append(eotestPTCGain[i])\n",
    "            EO_Fe55_gains[DETECTOR].append(eotestFe55Gain[i])\n",
    "\n"
   ]
  },
  {
   "cell_type": "code",
   "execution_count": null,
   "metadata": {},
   "outputs": [],
   "source": [
    "print(PTC_gains[94])\n",
    "print(EO_PTC_gains[94])"
   ]
  },
  {
   "cell_type": "code",
   "execution_count": null,
   "metadata": {},
   "outputs": [],
   "source": [
    "minGain = 1.0\n",
    "maxGain = 1.6\n",
    "plotCounter = 0\n",
    "numCCDs = len(detectors)\n",
    "plt.figure(figsize=(16,16))\n",
    "for [EO, name] in [[EO_PTC_gains, 'PTC-Run 12539'], [EO_Fe55_gains, 'Fe55-Run 12534']]:\n",
    "    ratios = []\n",
    "    plotCounter += 1\n",
    "    plt.subplot(2,2,plotCounter)\n",
    "    plt.title(\"Gain Comparison\", fontsize = 18)\n",
    "    for [vendor, color] in [['E2V', 'red'], ['ITL', 'green']]:\n",
    "        xplot = []\n",
    "        yplot = []\n",
    "        for DETECTOR in detectors.keys():\n",
    "            [VENDOR, RAFT, SENSOR] = detectors[DETECTOR]\n",
    "            for i in range(16):\n",
    "                ratio = PTC_gains[DETECTOR][i] / EO[DETECTOR][i]\n",
    "                ratios.append(ratio)\n",
    "            if vendor == VENDOR:\n",
    "                xplot += EO[DETECTOR]\n",
    "                yplot += PTC_gains[DETECTOR]\n",
    "        plt.scatter(xplot, yplot, color=color, marker='*',label=vendor)\n",
    "    plt.xlim(minGain, maxGain)\n",
    "    plt.ylim(minGain, maxGain)\n",
    "    plt.xlabel(\"EOtest Gains(e-/ADU) %s \"%name, fontsize = 18)\n",
    "    plt.ylabel(\"DM PTC Gains(e-/ADU) (Run 12539); %s Flat Pairs\"%num, fontsize = 18)\n",
    "    xplot = np.linspace(minGain, maxGain,100)\n",
    "    plt.plot(xplot, xplot, ls = '--', color='blue')\n",
    "    plt.text(1.05, 1.55, \"%d CCDs\"%numCCDs, fontsize = 18)\n",
    "    plt.legend(loc='lower right', fontsize = 18)\n",
    "    plt.subplot(2,2,plotCounter+2)\n",
    "    plt.title(\"Gain Ratio (DM PTC / EO %s)\"%name, fontsize = 18)\n",
    "    n, bins, patches = plt.hist(ratios, bins = 50, range=(0.90,1.10))\n",
    "    ymax = n.max() * 1.10\n",
    "    plt.xlim(0.90, 1.10)\n",
    "    plt.ylim(0, ymax)\n",
    "    plt.plot([1.0,1.0], [0.0,ymax], color = 'black', ls = '--')\n",
    "    plt.text(1.01, n.max(), \"Mean = %.4f\"%np.nanmean(ratios), fontsize = 18)\n",
    "    plt.text(1.01, 0.9*n.max(), \"%d CCDs\"%numCCDs, fontsize = 18)\n",
    "plt.savefig(BASE_DIR+\"/plots/PTC_Eotest_Gains_03Sep20.pdf\")"
   ]
  },
  {
   "cell_type": "code",
   "execution_count": null,
   "metadata": {},
   "outputs": [],
   "source": [
    "EO_PTC_gains_2 = {}\n",
    "EO_Fe55_gains_2 = {}\n",
    "detectors_2 = {}\n",
    "\n",
    "for RAFT in rafts:\n",
    "    for SENSOR in ptc_results['ptc_gain'][RAFT].keys():\n",
    "        VENDOR, DETECTOR = getDetector(RAFT, SENSOR)\n",
    "        eotestPTCGain = ptc_results['ptc_gain'][RAFT][SENSOR]\n",
    "        eotestPTCGainErr = ptc_results['ptc_gain_error'][RAFT][SENSOR]\n",
    "        eotestFe55Gain = fe55_results['gain'][RAFT][SENSOR]\n",
    "        eotestFe55GainErr = fe55_results['gain_error'][RAFT][SENSOR]\n",
    "        detectors_2[DETECTOR] = [VENDOR, RAFT, SENSOR]\n",
    "        EO_PTC_gains_2[DETECTOR] = []\n",
    "        EO_Fe55_gains_2[DETECTOR] = []\n",
    "        for i in range(16):\n",
    "            EO_PTC_gains_2[DETECTOR].append(eotestPTCGain[i])\n",
    "            EO_Fe55_gains_2[DETECTOR].append(eotestFe55Gain[i])\n",
    "\n",
    "numCCDs = len(detectors_2)\n",
    "minGain = 1.0\n",
    "maxGain = 1.6\n",
    "\n",
    "plt.figure(figsize=(16,8))\n",
    "\n",
    "ratios = []\n",
    "plt.subplot(1,2,1)\n",
    "plt.title(\"Gain Comparison\", fontsize = 18)\n",
    "for [vendor, color] in [['E2V', 'red'], ['ITL', 'green']]:\n",
    "    xplot = []\n",
    "    yplot = []\n",
    "    for DETECTOR in detectors.keys():\n",
    "        [VENDOR, RAFT, SENSOR] = detectors[DETECTOR]\n",
    "        for i in range(16):\n",
    "            ratio = EO_PTC_gains_2[DETECTOR][i] / EO_Fe55_gains_2[DETECTOR][i]\n",
    "            ratios.append(ratio)\n",
    "            if vendor == VENDOR:\n",
    "                xplot += EO_Fe55_gains_2[DETECTOR]\n",
    "                yplot += EO_PTC_gains_2[DETECTOR]\n",
    "    plt.scatter(xplot, yplot, color=color, marker='*',label=vendor)\n",
    "plt.xlim(minGain, maxGain)\n",
    "plt.ylim(minGain, maxGain)\n",
    "plt.xlabel(\"EOtest Fe55-Run 12534 Gains(e-/ADU)\", fontsize = 18)\n",
    "plt.ylabel(\"EOtest PTC-Run-12539 Gains(e-/ADU); All Flat Pairs\", fontsize = 18)\n",
    "xplot = np.linspace(minGain, maxGain,100)\n",
    "plt.plot(xplot, xplot, ls = '--', color='blue')\n",
    "#plt.plot(xplot, 1.06*xplot, ls = '--', color='black')\n",
    "plt.legend(loc='lower right', fontsize = 18)\n",
    "plt.subplot(1,2,2)\n",
    "plt.title(\"Gain Ratio (EO PTC / EO Fe55)\", fontsize = 18)\n",
    "n, bins, patches = plt.hist(ratios, bins = 50, range=(0.90,1.10))\n",
    "ymax = n.max() * 1.10\n",
    "plt.xlim(0.90, 1.10)\n",
    "plt.ylim(0, ymax)\n",
    "plt.plot([1.0,1.0], [0.0,ymax], color = 'black', ls = '--')\n",
    "plt.text(1.01, n.max(), \"Mean = %.4f\"%np.nanmean(ratios), fontsize = 18)\n",
    "plt.text(1.01, 0.9*n.max(), \"%d CCDs\"%numCCDs, fontsize = 18)\n",
    "plt.savefig(BASE_DIR+\"/plots/Eotest_PTC_Eotest_Fe55_Gains_03Sep20.pdf\")"
   ]
  },
  {
   "cell_type": "code",
   "execution_count": null,
   "metadata": {},
   "outputs": [],
   "source": []
  }
 ],
 "metadata": {
  "kernelspec": {
   "display_name": "LSST",
   "language": "python",
   "name": "lsst"
  },
  "language_info": {
   "codemirror_mode": {
    "name": "ipython",
    "version": 3
   },
   "file_extension": ".py",
   "mimetype": "text/x-python",
   "name": "python",
   "nbconvert_exporter": "python",
   "pygments_lexer": "ipython3",
   "version": "3.7.8"
  }
 },
 "nbformat": 4,
 "nbformat_minor": 4
}
