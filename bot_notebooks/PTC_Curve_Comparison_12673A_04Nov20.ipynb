{
 "cells": [
  {
   "cell_type": "markdown",
   "metadata": {},
   "source": [
    "# Notebook for comparing eotest gain with DM gain.\n",
    "\n",
    "Initially written 21 May 2020 by Craig Lage."
   ]
  },
  {
   "cell_type": "code",
   "execution_count": null,
   "metadata": {},
   "outputs": [],
   "source": [
    "! eups list -s | grep lsst_distrib\n",
    "! eups list -s cp_pipe"
   ]
  },
  {
   "cell_type": "code",
   "execution_count": null,
   "metadata": {},
   "outputs": [],
   "source": [
    "import sys, os, glob, time\n",
    "import pickle as pkl\n",
    "import numpy as np\n",
    "import matplotlib.pyplot as plt\n",
    "from matplotlib.backends.backend_pdf import PdfPages\n",
    "import astropy.io.fits as pf\n",
    "from lsst.daf.persistence import Butler\n",
    "from lsst.ip.isr import PhotonTransferCurveDataset"
   ]
  },
  {
   "cell_type": "code",
   "execution_count": null,
   "metadata": {},
   "outputs": [],
   "source": [
    "num = 'All'\n",
    "REPO_DIR = '/project/shared/BOT/rerun/cslage/PTC_LSSTCAM_12673J'\n",
    "DATA_DIR = '/project/shared/BOT/'\n",
    "run = '12673'"
   ]
  },
  {
   "cell_type": "code",
   "execution_count": null,
   "metadata": {},
   "outputs": [],
   "source": [
    "# Get the eotest results\n",
    "filename = \"/project/cslage/BOT_LSSTCam/eotest/eotest_gain_12673_04nov20.pkl\"\n",
    "file = open(filename, 'rb')\n",
    "fe55_results = pkl.load(file)\n",
    "ptc_results = pkl.load(file)\n",
    "file.close()\n",
    "# Get the \"badAmps\" results.  These are amps where the gains differed by more than 5%\n",
    "# in both 12606 and 12643\n",
    "filename = \"/project/cslage/BOT_LSSTCam/eotest/badList_01dec20_2pct_12673J.txt\"\n",
    "file = open(filename, 'r')\n",
    "lines = file.readlines()\n",
    "file.close()\n",
    "badAmps = []\n",
    "for line in lines:\n",
    "    items = line.split()\n",
    "    badAmps.append(items)\n",
    "print(len(badAmps))"
   ]
  },
  {
   "cell_type": "code",
   "execution_count": null,
   "metadata": {},
   "outputs": [],
   "source": [
    "ptc_results.keys()"
   ]
  },
  {
   "cell_type": "code",
   "execution_count": null,
   "metadata": {},
   "outputs": [],
   "source": [
    "def getDetector(raft, sensor):\n",
    "    # Subroutine to find vendor and detector number given raft and sensor                                                                                                                                                           \n",
    "    startingCol = [1,0,0,0,1] # First raft column in each row                                                                                                                                                                       \n",
    "    rows = [0,3,8,13,18] # Starting raft sequence number of each row                                                                                                                                                                \n",
    "    if raft in ['R11','R12','R13','R14','R21','R22','R23','R24','R30',\\\n",
    "                'R31','R32','R33','R34']:\n",
    "        vendor = 'E2V'\n",
    "    else:\n",
    "        vendor = 'ITL'\n",
    "    raftRow = int(list(raft)[1])\n",
    "    raftCol = int(list(raft)[2]) - startingCol[raftRow]\n",
    "    sensorRow = int(list(sensor)[1])\n",
    "    sensorCol = int(list(sensor)[2])\n",
    "    detectorNum = (rows[raftRow] + raftCol) * 9\n",
    "    detectorNum += 3 * sensorRow + sensorCol\n",
    "    return vendor, detectorNum\n"
   ]
  },
  {
   "cell_type": "code",
   "execution_count": null,
   "metadata": {},
   "outputs": [],
   "source": [
    "def CalcDifferences(rawMeans, rawVars, slacMeans, slacVars):\n",
    "    # weed out points where they don't match and return the percent differences\n",
    "    meanMatches = []\n",
    "    meanDiff = []\n",
    "    varDiff = []\n",
    "    for i, mean in enumerate(rawMeans):\n",
    "        for j, sMean in enumerate(slacMeans):\n",
    "            mDiff = abs(mean - sMean) / sMean * 100.0\n",
    "            if mDiff < 5.0:\n",
    "                meanMatches.append(mean)\n",
    "                meanDiff.append(mDiff)\n",
    "                vDiff = abs(rawVars[i] - slacVars[j]) / slacVars[j] * 100.0\n",
    "                varDiff.append(vDiff)\n",
    "                break\n",
    "    return meanMatches, meanDiff, varDiff\n",
    "    "
   ]
  },
  {
   "cell_type": "code",
   "execution_count": null,
   "metadata": {},
   "outputs": [],
   "source": [
    "def ExpApprox(mu, g, a00, n):\n",
    "    preFactor = 1.0 / (2.0 * g * g * a00)\n",
    "    noiseTerm = n / (g * g)\n",
    "    return preFactor * (np.exp(2.0 * a00 * mu * g) - 1.0) + noiseTerm"
   ]
  },
  {
   "cell_type": "code",
   "execution_count": null,
   "metadata": {},
   "outputs": [],
   "source": [
    "slacAmps = {'C10':'AMP01','C11':'AMP02','C12':'AMP03','C13':'AMP04',\\\n",
    "           'C14':'AMP05','C15':'AMP06','C16':'AMP07','C17':'AMP08',\\\n",
    "           'C07':'AMP09','C06':'AMP10','C05':'AMP11','C04':'AMP12',\\\n",
    "           'C03':'AMP13','C02':'AMP14','C01':'AMP15','C00':'AMP16'}"
   ]
  },
  {
   "cell_type": "code",
   "execution_count": null,
   "metadata": {},
   "outputs": [],
   "source": [
    "pdf = PdfPages(REPO_DIR+\"/plots/Gain_Differences_GT_2Pct_12673J_08Dec20.pdf\")\n",
    "for [RAFT,SENSOR,amp] in badAmps:   \n",
    "    slacAmp = slacAmps[amp]\n",
    "    slacNum = int(slacAmp.strip('AMP')) - 1\n",
    "    VENDOR, DETECTOR  = getDetector(RAFT, SENSOR)\n",
    "    if (RAFT=='R32' and SENSOR in ['S00','S01','S02']) or (RAFT=='R33' and SENSOR in ['S20','S21','S22']):\n",
    "        continue\n",
    "\n",
    "    fig = plt.figure(figsize=(16,16))\n",
    "    ax1 = plt.axes([0.1,0.4,0.8,0.5])\n",
    "    datasetFile = REPO_DIR+'/calibrations/ptc/ptcDataset-det%03d.fits'%DETECTOR\n",
    "    ptcDataset = PhotonTransferCurveDataset.readFits(datasetFile)\n",
    "    dmGain = ptcDataset.gain[amp]\n",
    "    if ptcDataset.ptcFitType == 'EXPAPPROXIMATION':\n",
    "        dmA00 = ptcDataset.ptcFitPars[amp][0]\n",
    "    if ptcDataset.ptcFitType == 'FULLCOVARIANCE':\n",
    "        dmA00 = ptcDataset.aMatrix[amp][0][0]\n",
    "    dmNoise = ptcDataset.noise[amp]\n",
    "    rawMeans = ptcDataset.rawMeans[amp]\n",
    "    rawVars = ptcDataset.rawVars[amp]\n",
    "    maxDM = np.nanmax(ptcDataset.finalMeans[amp])\n",
    "    eo_PtcTurnoff = ptc_results['ptc_turnoff'][RAFT][SENSOR][slacNum]\n",
    "    filename = \"/project/cslage/BOT_LSSTCam/eotest/%s_%s_12674_ptc.fits\"%(RAFT,SENSOR)\n",
    "    hdu = pf.open(filename)\n",
    "    slacData = hdu[1].data\n",
    "    slacMeans = slacData['%s_MEAN'%slacAmp]\n",
    "    slacVars = slacData['%s_VAR'%slacAmp]\n",
    "    slacGain = ptc_results['ptc_gain'][RAFT][SENSOR][slacNum]\n",
    "    slacA00 = - ptc_results['ptc_a00'][RAFT][SENSOR][slacNum]\n",
    "    slacNoise = ptc_results['ptc_noise'][RAFT][SENSOR][slacNum]\n",
    "    gainDiff = abs((dmGain - slacGain) / dmGain) * 100.0\n",
    "    xplot = np.linspace(0,120000,200)\n",
    "    ax1.set_title(\"PTC, %s_%s_%s\"%(RAFT,SENSOR, amp), fontsize = 18)\n",
    "    ax1.scatter(rawMeans, rawVars, marker = 'x', s=200, color = 'red', label = 'DM')\n",
    "    ax1.scatter(slacMeans, slacVars, marker = '+', s=200, color = 'green', label = 'SLAC')\n",
    "    ax1.text(10000,120000,\"DM Max ADU = %.1f\"%maxDM, fontsize=18)\n",
    "    ax1.text(10000,110000,\"EO PTC Turnoff = %.1f\"%eo_PtcTurnoff, fontsize=18)\n",
    "    ax1.text(10000,100000,\"DM Gain = %.6f\"%dmGain, fontsize=18)\n",
    "    ax1.text(10000,90000,\"EO Gain = %.6f\"%slacGain, fontsize=18)\n",
    "    ax1.text(10000,80000,\"Gain Difference = %.3f\"%gainDiff, fontsize=18)\n",
    "    #ax1.text(10000,100000,\"Problem = %s\"%fault, fontsize=18)\n",
    "    yplot = ExpApprox(xplot,dmGain,dmA00,dmNoise)\n",
    "    ax1.plot(xplot, yplot, ls = '--', color = 'red')\n",
    "    yplot = ExpApprox(xplot,slacGain,slacA00,slacNoise)\n",
    "    ax1.plot(xplot, yplot, ls = '--', color = 'green')\n",
    "    ax1.set_xlabel(\"Mean(ADU)\", fontsize=18)\n",
    "    ax1.set_ylabel(\"Variance(ADU)\", fontsize=18)\n",
    "    #plt.xscale('log')\n",
    "    #plt.yscale('log')\n",
    "    ax1.set_xlim(0,150000)\n",
    "    ax1.set_ylim(0,250000)\n",
    "    ax1.legend(fontsize = 18)\n",
    "    # Now the percent difference plots\n",
    "    meanMatches, meanDiff, varDiff = CalcDifferences(rawMeans, rawVars, slacMeans, slacVars)\n",
    "    ax2 = plt.axes([0.1,0.1,0.35,0.25])\n",
    "    ax2.set_title(\"Mean Percent Difference\", fontsize=12)\n",
    "    ax2.scatter(meanMatches, meanDiff, label = \"%s_%s\"%(RAFT,SENSOR))\n",
    "    ax2.set_xscale('log')\n",
    "    ax2.set_yscale('log')\n",
    "    ax2.set_ylim(0.001, 1000)\n",
    "    ax2.set_xlabel(\"Mean(ADU)\", fontsize=12)\n",
    "    ax2.set_ylabel(\"Mean Diff (percent)\", fontsize=12)\n",
    "    #ax2.legend()\n",
    "    ax3 = plt.axes([0.55,0.1,0.35,0.25])\n",
    "    ax3.set_title(\"Var Percent Difference\", fontsize=12)\n",
    "    ax3.scatter(meanMatches, varDiff, label = \"%s_%s\"%(RAFT,SENSOR))\n",
    "    ax3.set_xscale('log')\n",
    "    ax3.set_yscale('log')\n",
    "    ax3.set_ylim(0.001, 1000)\n",
    "    ax3.set_xlabel(\"Mean(ADU)\", fontsize=12)\n",
    "    ax3.set_ylabel(\"Var Diff (percent)\", fontsize=12)\n",
    "    #ax3.legend()\n",
    "    pdf.savefig(fig)  # saves the current figure into a pdf page\n",
    "pdf.close()\n",
    "\n",
    "plt.close()"
   ]
  },
  {
   "cell_type": "code",
   "execution_count": null,
   "metadata": {},
   "outputs": [],
   "source": []
  }
 ],
 "metadata": {
  "kernelspec": {
   "display_name": "LSST",
   "language": "python",
   "name": "lsst"
  },
  "language_info": {
   "codemirror_mode": {
    "name": "ipython",
    "version": 3
   },
   "file_extension": ".py",
   "mimetype": "text/x-python",
   "name": "python",
   "nbconvert_exporter": "python",
   "pygments_lexer": "ipython3",
   "version": "3.8.8"
  }
 },
 "nbformat": 4,
 "nbformat_minor": 4
}
