{
 "cells": [
  {
   "cell_type": "markdown",
   "metadata": {},
   "source": [
    "# Notebook for plotting extracted covariances on BOT data\n",
    "\n",
    "Initially written 16 Oct 2019 by Craig Lage.\\\n"
   ]
  },
  {
   "cell_type": "code",
   "execution_count": null,
   "metadata": {},
   "outputs": [],
   "source": [
    "! eups list -s | grep lsst_distrib\n",
    "! eups list -s obs_lsst \n",
    "! eups list -s cp_pipe"
   ]
  },
  {
   "cell_type": "code",
   "execution_count": null,
   "metadata": {},
   "outputs": [],
   "source": [
    "import matplotlib.pyplot as plt\n",
    "import numpy as np\n",
    "from lsst.daf.persistence import Butler"
   ]
  },
  {
   "cell_type": "code",
   "execution_count": null,
   "metadata": {},
   "outputs": [],
   "source": [
    "butler = Butler('/project/shared/BOT/rerun/cslage/PTC_LSSTCAM_New_12606')\n",
    "ptcDataset = butler.get('photonTransferCurveDataset', dataId={'detector': 94})\n",
    "print(ptcDataset.ptcFitType)\n",
    "rawMeans = ptcDataset.rawMeans['C15']\n",
    "rawVars = ptcDataset.rawVars['C15']\n",
    "finalMeans = ptcDataset.finalMeans['C15']\n",
    "finalVars = ptcDataset.finalVars['C15']\n",
    "plt.plot(rawMeans,rawVars, marker='o')\n",
    "plt.plot(finalMeans,finalVars, marker='+')\n",
    "plt.xscale('log')\n",
    "plt.yscale('log')"
   ]
  },
  {
   "cell_type": "code",
   "execution_count": null,
   "metadata": {},
   "outputs": [],
   "source": [
    "# To remember, an alternate way to get the ptc data:\n",
    "from lsst.ip.isr import PhotonTransferCurveDataset\n",
    "datasetFile = '/project/shared/BOT/rerun/cslage/PTC_LSSTCAM_FullCov_12606/calibrations/ptc/ptcDataset-det094.fits'\n",
    "ptcDataset = PhotonTransferCurveDataset.readFits(datasetFile)\n",
    "means = ptcDataset.finalMeans['C15']\n",
    "vars = ptcDataset.finalVars['C15']\n",
    "for i, mean in enumerate(means):\n",
    "    print(i, mean, vars[i])\n",
    "    means = ptcDataset.finalMeans['C15']\n",
    "rawMeans = ptcDataset.rawMeans['C15']\n",
    "for i, mean in enumerate(rawMeans):\n",
    "    print(i, mean)"
   ]
  },
  {
   "cell_type": "code",
   "execution_count": null,
   "metadata": {},
   "outputs": [],
   "source": [
    "# From within plotPtc.py\n",
    "means  = [   225.4469599,  329.21562534, 481.21701855, 703.85519784,\n",
    "   1028.49397225,   2200.01217804,   3216.80205311,   4702.43936309,\n",
    "   6875.21612947 ,  4972.59095203 ,  7266.06818337,  10622.48769831,\n",
    "  15533.26499826 , 22708.70748936 , 33197.63705894 , 70740.36807742,\n",
    " 103553.33074419]\n",
    "vars = [  241.74304921 ,  334.78784098 ,  473.76934613,   673.71161401,\n",
    "   968.91323279 , 2055.53412341 , 2950.21384776,  4298.62188172,\n",
    "  4488.53009676 , 6210.96495104,  6531.54504735 , 9386.82295156,\n",
    " 13450.7147755 , 19155.31113836 ,27034.00942317, 51094.59809799,\n",
    " 67935.72149933]\n",
    "plt.plot(means,vars, marker='x')\n",
    "plt.xscale('log')\n",
    "plt.yscale('log')"
   ]
  },
  {
   "cell_type": "code",
   "execution_count": null,
   "metadata": {},
   "outputs": [],
   "source": [
    "for i,rawMean in enumerate(rawMeans):\n",
    "    try:\n",
    "        print(i, rawMean, finalMeans[i])\n",
    "    except:\n",
    "        continue"
   ]
  },
  {
   "cell_type": "code",
   "execution_count": null,
   "metadata": {},
   "outputs": [],
   "source": []
  }
 ],
 "metadata": {
  "kernelspec": {
   "display_name": "LSST",
   "language": "python",
   "name": "lsst"
  },
  "language_info": {
   "codemirror_mode": {
    "name": "ipython",
    "version": 3
   },
   "file_extension": ".py",
   "mimetype": "text/x-python",
   "name": "python",
   "nbconvert_exporter": "python",
   "pygments_lexer": "ipython3",
   "version": "3.7.8"
  }
 },
 "nbformat": 4,
 "nbformat_minor": 4
}
