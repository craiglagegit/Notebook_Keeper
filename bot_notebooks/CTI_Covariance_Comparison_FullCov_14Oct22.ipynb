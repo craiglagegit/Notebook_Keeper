{
 "cells": [
  {
   "cell_type": "markdown",
   "metadata": {},
   "source": [
    "# Notebook for comparing the impact of the CTI correction on the covariances.\n",
    "\n",
    "Initially written 14 Oct 2022 by Craig Lage."
   ]
  },
  {
   "cell_type": "code",
   "execution_count": null,
   "metadata": {},
   "outputs": [],
   "source": [
    "import sys, os, glob, time\n",
    "import pickle as pkl\n",
    "import numpy as np\n",
    "import matplotlib.pyplot as plt\n",
    "from matplotlib.backends.backend_pdf import PdfPages\n",
    "import astropy.io.fits as pf\n",
    "from lsst.daf.butler import Butler"
   ]
  },
  {
   "cell_type": "code",
   "execution_count": null,
   "metadata": {},
   "outputs": [],
   "source": [
    "exposure=3021120600576\n",
    "runA = \"u/cslage/bps_13144S\"\n",
    "runB = \"u/cslage/sdf/BOT/ptc_13144_11_20221014\"\n",
    "\n",
    "A_Butler = Butler(\"/repo/main\", collections=[runA])\n",
    "B_Butler = Butler(\"/repo/main\", collections=[runB])\n",
    "camera = A_Butler.get('camera', instrument='LSSTCam')\n",
    "nameA = 'FULLCOV-No CTI'\n",
    "nameB = 'FULLCOV-With CTI'\n",
    "DETECTOR=11\n",
    "A_PTC = A_Butler.get('ptc', detector=DETECTOR, exposure=exposure, instrument='LSSTCam')\n",
    "B_PTC = B_Butler.get('ptc', detector=DETECTOR, exposure=exposure, instrument='LSSTCam')\n",
    "ptcs = [A_PTC, B_PTC]\n",
    "names = [nameA, nameB]\n",
    "colors=['green', 'orange']\n",
    "markers=['x','+']"
   ]
  },
  {
   "cell_type": "code",
   "execution_count": null,
   "metadata": {},
   "outputs": [],
   "source": [
    "# Next plot the covariance vs flux \n",
    "RAFT='R02'\n",
    "SENSOR='S02'\n",
    "VENDOR='ITL'\n",
    "PlotDelta = 3\n",
    "pdf = PdfPages(\"/sdf/group/rubin/u/cslage/BOT_LSSTCam/cti/Covariance_vs_Flux_%s_14Oct22.pdf\"%(DETECTOR))\n",
    "\n",
    "for ampObject in camera[0].getAmplifiers():\n",
    "    amp = ampObject.getName()\n",
    "    fig = plt.figure(figsize = (16,8))\n",
    "    plt.suptitle(\"Covariance vs Flux - Amp %s, %s-%s\"%(amp,RAFT,SENSOR), fontsize = 24)\n",
    "    plt.subplots_adjust(wspace=0.3, hspace=0.6)\n",
    "    for m, ptc in enumerate(ptcs):\n",
    "        plotCounter = 0\n",
    "        means = ptc.finalMeans\n",
    "        xCorrs = ptc.covariances\n",
    "        gains = ptc.gain\n",
    "        gain = gains[amp]\n",
    "        NumFluxes = int(len(means[amp]))\n",
    "        serialCov = np.zeros([NumFluxes,PlotDelta])\n",
    "        for jj in range(PlotDelta-1, -1, -1):\n",
    "            for ii in range(PlotDelta):\n",
    "                plotCounter += 1\n",
    "                plt.subplot(PlotDelta, PlotDelta, plotCounter)\n",
    "                cov = []\n",
    "                flux = []\n",
    "\n",
    "                for n in range(NumFluxes):\n",
    "                    xcorr = xCorrs[amp][n][ii][jj]\n",
    "                    mean = means[amp][n]\n",
    "                    if ii == 0 and jj == 0:\n",
    "                        xcorr = xcorr - mean / gain\n",
    "                        cov.append(-xcorr)\n",
    "                    else:\n",
    "                        cov.append(xcorr)\n",
    "                    flux.append(mean)\n",
    "                cov = np.array(cov)\n",
    "                flux = np.array(flux)\n",
    "\n",
    "                plt.scatter(flux, cov, color=colors[m], marker=markers[m], s=50, label=names[m])\n",
    "                coefs = np.polyfit(flux*flux, cov, 1)\n",
    "                if jj == 1:\n",
    "                    serialCov[ampNum, ii] = coefs[0]\n",
    "                xplot = np.linspace(0,150000, 100)\n",
    "                yplot = max(0, coefs[0])*xplot*xplot\n",
    "                plt.plot(xplot,yplot, color = colors[m], lw = 2, ls = '--')\n",
    "                plt.title(\"Pixel: (%d, %d)\"%(ii, jj), fontsize = 12)\n",
    "                if jj == 0:\n",
    "                    plt.xlabel(\"Central Pixel Charge(e-)\", fontsize = 12)\n",
    "                if ii == 0:\n",
    "                    plt.ylabel(\"Correlation\", fontsize = 12)\n",
    "                plt.xlim(0,80000)\n",
    "                plt.xticks([0,50000],fontsize = 12)\n",
    "\n",
    "                if ii == 0 and jj == 0:\n",
    "                    plt.ylim(-1000,10000)\n",
    "                elif ii == 0 and jj == 1:\n",
    "                    plt.ylim(-20,1500)\n",
    "                elif ii == 1 and jj == 0:\n",
    "                    plt.ylim(-20,750)\n",
    "                elif ii == 2 and jj == 0:\n",
    "                    plt.ylim(-20,200)\n",
    "                elif ii == 1 and jj < 2:\n",
    "                    plt.ylim(-20,400)\n",
    "                else:\n",
    "                    plt.ylim(-20,200)\n",
    "                plt.legend(loc='upper left')\n",
    "\n",
    "    pdf.savefig(fig)  # saves the current figure into a pdf page\n",
    "    plt.close()\n",
    "pdf.close()"
   ]
  },
  {
   "cell_type": "code",
   "execution_count": null,
   "metadata": {},
   "outputs": [],
   "source": []
  }
 ],
 "metadata": {
  "jupytext": {
   "formats": "ipynb,markdown//md"
  },
  "kernelspec": {
   "display_name": "LSST",
   "language": "python",
   "name": "lsst"
  },
  "language_info": {
   "codemirror_mode": {
    "name": "ipython",
    "version": 3
   },
   "file_extension": ".py",
   "mimetype": "text/x-python",
   "name": "python",
   "nbconvert_exporter": "python",
   "pygments_lexer": "ipython3",
   "version": "3.10.5"
  }
 },
 "nbformat": 4,
 "nbformat_minor": 4
}
