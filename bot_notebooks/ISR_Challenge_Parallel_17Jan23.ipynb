{
 "cells": [
  {
   "cell_type": "markdown",
   "id": "e8cc3a14-f377-44f4-ab4c-97c9c3047697",
   "metadata": {},
   "source": [
    "# Aaron's ISR challenge - are amp boundaries visible after ISR?\n",
    "Craig Lage 09-Jan-23"
   ]
  },
  {
   "cell_type": "code",
   "execution_count": null,
   "id": "a148b369-8943-4861-a51e-9cbeea70feb3",
   "metadata": {
    "execution": {
     "iopub.execute_input": "2023-01-17T14:00:34.522137Z",
     "iopub.status.busy": "2023-01-17T14:00:34.521841Z",
     "iopub.status.idle": "2023-01-17T14:00:37.361588Z",
     "shell.execute_reply": "2023-01-17T14:00:37.360932Z",
     "shell.execute_reply.started": "2023-01-17T14:00:34.522116Z"
    },
    "tags": []
   },
   "outputs": [],
   "source": [
    "import numpy as np\n",
    "from matplotlib import pyplot as plt\n",
    "\n",
    "from lsst.daf.butler import Butler\n",
    "from lsst.ip.isr import IsrTask, IsrTaskConfig\n",
    "from mpl_toolkits.axes_grid1 import make_axes_locatable\n",
    "from matplotlib.colors import LogNorm\n",
    "\n",
    "from lsst.summit.utils import quickSmooth\n",
    "%matplotlib inline\n",
    "\n",
    "from lsst.pipe.tasks.characterizeImage import CharacterizeImageTask\n",
    "from lsst.meas.algorithms.installGaussianPsf import InstallGaussianPsfTask"
   ]
  },
  {
   "cell_type": "code",
   "execution_count": null,
   "id": "7c44dc35-840c-438f-bdba-55b8b1ce5b77",
   "metadata": {
    "execution": {
     "iopub.execute_input": "2023-01-17T14:00:37.367732Z",
     "iopub.status.busy": "2023-01-17T14:00:37.367395Z",
     "iopub.status.idle": "2023-01-17T14:00:37.373081Z",
     "shell.execute_reply": "2023-01-17T14:00:37.372599Z",
     "shell.execute_reply.started": "2023-01-17T14:00:37.367713Z"
    },
    "tags": []
   },
   "outputs": [],
   "source": [
    "def plotExp(exp):\n",
    "    # Borrowed from summit utils\n",
    "    data = quickSmooth(exp.image.array, 1)\n",
    "    vmin = np.nanpercentile(data, 1)\n",
    "    vmax = np.nanpercentile(data, 99)\n",
    "    print(vmin, vmax)\n",
    "    figure = plt.figure(figsize=(12,12))\n",
    "    figure.clear()\n",
    "    ax1 = figure.add_subplot(111)\n",
    "    im1 = ax1.imshow(data, cmap='gray', origin='lower', vmin=vmin, vmax=vmax)\n",
    "    ax1.tick_params(which=\"major\", direction=\"in\", top=True, right=True, labelsize=8)\n",
    "    divider = make_axes_locatable(ax1)\n",
    "    cax = divider.append_axes(\"right\", size=\"5%\", pad=0.05)\n",
    "    plt.colorbar(im1, cax=cax)\n",
    "    plt.tight_layout()\n",
    "    #plt.show()\n",
    "    return figure\n",
    "\n",
    "def repairCosmics(postIsr):\n",
    "    # Borrowed from summit utils\n",
    "    if postIsr.getPsf() is None:\n",
    "        installPsfTask = InstallGaussianPsfTask()\n",
    "        installPsfTask.run(postIsr)\n",
    "\n",
    "    # TODO: try adding a reasonably wide Gaussian as a temp PSF\n",
    "    # and then just running repairTask on its own without any\n",
    "    # imChar. It should work, and be faster.\n",
    "    repairConfig = CharacterizeImageTask.ConfigClass()\n",
    "    repairConfig.doMeasurePsf = False\n",
    "    repairConfig.doApCorr = False\n",
    "    repairConfig.doDeblend = False\n",
    "    repairConfig.doWrite = False\n",
    "    repairConfig.repair.cosmicray.nCrPixelMax = 200000\n",
    "    repairTask = CharacterizeImageTask(config=repairConfig)\n",
    "    repairTask.repair.run(postIsr)\n",
    "    return\n"
   ]
  },
  {
   "cell_type": "code",
   "execution_count": null,
   "id": "558e3838-4aea-48e2-9629-5b1f60b2fbaf",
   "metadata": {
    "execution": {
     "iopub.execute_input": "2023-01-17T15:36:37.433045Z",
     "iopub.status.busy": "2023-01-17T15:36:37.432555Z",
     "iopub.status.idle": "2023-01-17T15:36:43.827795Z",
     "shell.execute_reply": "2023-01-17T15:36:43.827133Z",
     "shell.execute_reply.started": "2023-01-17T15:36:37.433024Z"
    },
    "tags": []
   },
   "outputs": [],
   "source": [
    "butler = Butler(\"/repo/main\", collections=[\"LSSTCam/raw/all\",\"u/cslage/calib/13144/calib.20220107\"])\n",
    "biasButler = Butler(\"/repo/main\", collections=[\"u/cslage/bias_parallel_13144_B_17jan23\"])"
   ]
  },
  {
   "cell_type": "code",
   "execution_count": null,
   "id": "ac370c47-f159-4dcf-8d42-99833c98c37c",
   "metadata": {
    "execution": {
     "iopub.execute_input": "2023-01-17T15:38:01.714861Z",
     "iopub.status.busy": "2023-01-17T15:38:01.714605Z",
     "iopub.status.idle": "2023-01-17T15:38:01.718086Z",
     "shell.execute_reply": "2023-01-17T15:38:01.717561Z",
     "shell.execute_reply.started": "2023-01-17T15:38:01.714840Z"
    },
    "tags": []
   },
   "outputs": [],
   "source": [
    "expId = 3021120700218\n",
    "detector = 55"
   ]
  },
  {
   "cell_type": "code",
   "execution_count": null,
   "id": "5fdbc6a3-4691-4baa-b8bd-c182b8e51de9",
   "metadata": {
    "execution": {
     "iopub.execute_input": "2023-01-17T15:38:03.132679Z",
     "iopub.status.busy": "2023-01-17T15:38:03.132276Z",
     "iopub.status.idle": "2023-01-17T15:38:03.161213Z",
     "shell.execute_reply": "2023-01-17T15:38:03.160653Z",
     "shell.execute_reply.started": "2023-01-17T15:38:03.132658Z"
    },
    "tags": []
   },
   "outputs": [],
   "source": [
    "isrConfig = IsrTaskConfig()\n",
    "isrConfig.overscan.fitType=\"MEDIAN_PER_ROW\"\n",
    "isrConfig.overscan.doParallelOverscan=True\n",
    "isrConfig.doLinearize=True\n",
    "isrConfig.doOverscan=True\n",
    "isrConfig.doAssembleCcd=True\n",
    "isrConfig.doBias=True\n",
    "isrConfig.doVariance=True\n",
    "isrConfig.doBrighterFatter=False\n",
    "isrConfig.doDark=True\n",
    "isrConfig.doStrayLight=False\n",
    "isrConfig.doFlat=False\n",
    "isrConfig.doFringe=False\n",
    "isrConfig.doApplyGains=True\n",
    "isrConfig.usePtcGains=True\n",
    "isrConfig.doDefect=True\n",
    "isrConfig.doDeferredCharge=True\n",
    "isrConfig.doNanMasking=True\n",
    "isrConfig.doInterpolate=True\n",
    "isrConfig.doSaturation=True\n",
    "isrConfig.doSaturationInterpolation=True\n",
    "isrConfig.doWrite=False\n",
    "isrTask = IsrTask(config=isrConfig)"
   ]
  },
  {
   "cell_type": "code",
   "execution_count": null,
   "id": "50ae40b2-b711-435e-9423-3085bff83c56",
   "metadata": {
    "execution": {
     "iopub.execute_input": "2023-01-17T17:57:38.892931Z",
     "iopub.status.busy": "2023-01-17T17:57:38.892205Z",
     "iopub.status.idle": "2023-01-17T17:57:59.560066Z",
     "shell.execute_reply": "2023-01-17T17:57:59.559395Z",
     "shell.execute_reply.started": "2023-01-17T17:57:38.892906Z"
    },
    "tags": []
   },
   "outputs": [],
   "source": [
    "exp = butler.get('raw', detector=detector, exposure=expId, instrument=\"LSSTCam\")\n",
    "bias = biasButler.get('bias', detector=detector, exposure=expId, instrument=\"LSSTCam\")\n",
    "flat = butler.get('flat', detector=detector, exposure=expId, instrument=\"LSSTCam\")\n",
    "dark = butler.get('dark', detector=detector, exposure=expId, instrument=\"LSSTCam\")\n",
    "defects = butler.get('defects', detector=detector, exposure=expId, instrument=\"LSSTCam\")\n",
    "ptc = butler.get('ptc', detector=detector, exposure=expId, instrument=\"LSSTCam\")\n",
    "#ptc.gain['C10'] /= corr_c10\n",
    "linearizer = butler.get('linearizer', detector=detector, exposure=expId, instrument=\"LSSTCam\")\n",
    "deferredChargeCalib = butler.get('cpCtiCalib', detector=detector, exposure=expId, instrument=\"LSSTCam\")\n",
    "\n",
    "\n",
    "isrResult = isrTask.run(exp, bias=bias, flat=flat, dark=dark, defects=defects, \\\n",
    "                        ptc=ptc, linearizer=linearizer, deferredChargeCalib=deferredChargeCalib)\n",
    "\n",
    "postIsrExp = isrResult.exposure\n",
    "repairCosmics(postIsrExp)\n",
    "fig = plotExp(postIsrExp)\n",
    "plt.savefig(f\"/home/c/cslage/u/BOT_LSSTCam/isr_challenge/Challenge_{detector}_{expId}_17Jan23.png\")#"
   ]
  },
  {
   "cell_type": "code",
   "execution_count": null,
   "id": "9a5c48e3-6436-4e7e-a4f3-c64ac0b431d6",
   "metadata": {
    "execution": {
     "iopub.execute_input": "2023-01-17T16:10:03.966408Z",
     "iopub.status.busy": "2023-01-17T16:10:03.966019Z",
     "iopub.status.idle": "2023-01-17T16:10:04.492295Z",
     "shell.execute_reply": "2023-01-17T16:10:04.491832Z",
     "shell.execute_reply.started": "2023-01-17T16:10:03.966388Z"
    },
    "tags": []
   },
   "outputs": [],
   "source": [
    "fig = plt.figure()\n",
    "plt.subplots_adjust(hspace=0.5, wspace=0.5)\n",
    "\n",
    "rawPlot = np.median(isrResult.exposure.image.array[2100:3900, 0:4000], axis=0)\n",
    "#rawPlot -= np.median(rawPlot)\n",
    "xplot1 = np.arange(520, 3500)\n",
    "vals = np.polyfit(xplot, rawPlot[520:3500], 1)\n",
    "xplot2 = np.arange(0, 4000)\n",
    "yplot = xplot2 * vals[0] + vals[1]\n",
    "corr_c10 = np.median((rawPlot/yplot)[20:480])\n",
    "print(corr_c10)\n",
    "plt.subplot(2,1,1)\n",
    "plt.title(f\"Median Flat Level - Top\")\n",
    "plt.plot(rawPlot, label=\"PostISR\")\n",
    "plt.plot(xplot2, yplot, color='red', ls='--')\n",
    "for i in range(8):\n",
    "    x = 509 * i\n",
    "    ymin = -10\n",
    "    ymax = 10\n",
    "    plt.plot([x, x], [ymin, ymax], ls = '--', lw=1, color = 'black')\n",
    "plt.xlim(0,4000)\n",
    "plt.ylim(1400, 1520)\n",
    "#plt.legend()\n",
    "plt.xlabel(\"X coord (pixels)\")\n",
    "plt.ylabel(\"ADU\")\n",
    "rawPlot = np.median(isrResult.exposure.image.array[100:1900, 0:4000], axis=0)\n",
    "rawPlot -= np.median(rawPlot)\n",
    "plt.subplot(2,1,2)\n",
    "plt.title(f\"Median Flat Level - Bottom\")\n",
    "plt.plot(rawPlot, label=\"PostISR\")\n",
    "for i in range(8):\n",
    "    x = 509 * i\n",
    "    ymin = -10\n",
    "    ymax = 10\n",
    "    plt.plot([x, x], [ymin, ymax], ls = '--', lw=1, color = 'black')\n",
    "plt.xlim(0,4000)\n",
    "plt.ylim(-50,50)\n",
    "#plt.legend()\n",
    "plt.xlabel(\"X coord (pixels)\")\n",
    "plt.ylabel(\"ADU\")\n",
    "\n",
    "fig.savefig(f\"/home/c/cslage/u/BOT_LSSTCam/isr_challenge/Challenge_{detector}_{expId}_Scan_17Jan23.png\")"
   ]
  },
  {
   "cell_type": "code",
   "execution_count": null,
   "id": "73daca03-af65-423c-850f-aba76bcf4d3b",
   "metadata": {
    "execution": {
     "iopub.execute_input": "2023-01-17T16:04:27.425461Z",
     "iopub.status.busy": "2023-01-17T16:04:27.425211Z",
     "iopub.status.idle": "2023-01-17T16:04:27.429976Z",
     "shell.execute_reply": "2023-01-17T16:04:27.429445Z",
     "shell.execute_reply.started": "2023-01-17T16:04:27.425442Z"
    },
    "tags": []
   },
   "outputs": [],
   "source": [
    "np.median((rawPlot/yplot)[20:480])"
   ]
  },
  {
   "cell_type": "code",
   "execution_count": null,
   "id": "20d412bd-b82b-4042-9b09-6a5ebc2f6a57",
   "metadata": {
    "execution": {
     "iopub.execute_input": "2023-01-17T16:03:55.132174Z",
     "iopub.status.busy": "2023-01-17T16:03:55.131921Z",
     "iopub.status.idle": "2023-01-17T16:03:55.141127Z",
     "shell.execute_reply": "2023-01-17T16:03:55.140548Z",
     "shell.execute_reply.started": "2023-01-17T16:03:55.132155Z"
    },
    "jupyter": {
     "outputs_hidden": true
    },
    "tags": []
   },
   "outputs": [],
   "source": [
    "for i in range(20,500):\n",
    "    print(rawPlot[i], yplot[i], rawPlot[i]/yplot[i])"
   ]
  },
  {
   "cell_type": "code",
   "execution_count": null,
   "id": "aa87a3f0-44ee-49d0-ba82-91aec4d068fb",
   "metadata": {
    "execution": {
     "iopub.execute_input": "2023-01-17T15:32:53.466146Z",
     "iopub.status.busy": "2023-01-17T15:32:53.465813Z",
     "iopub.status.idle": "2023-01-17T15:32:54.207196Z",
     "shell.execute_reply": "2023-01-17T15:32:54.206695Z",
     "shell.execute_reply.started": "2023-01-17T15:32:53.466127Z"
    },
    "tags": []
   },
   "outputs": [],
   "source": [
    "fig = plt.figure()\n",
    "plt.subplots_adjust(hspace=0.5, wspace=0.5)\n",
    "\n",
    "rawPlot = np.median(isrResult.exposure.image.array[2100:3900, 0:4000], axis=0)\n",
    "rawPlot -= np.median(rawPlot)\n",
    "biasPlot = np.median(bias.image.array[2100:3900, 0:4000], axis=0)\n",
    "biasPlot -= np.median(biasPlot)\n",
    "plt.subplot(2,1,1)\n",
    "plt.title(f\"Parallel Overscan Debug - Top\")\n",
    "plt.plot(rawPlot, label=\"Raw\")\n",
    "plt.plot(biasPlot, ls = '--', label=\"MasterBias\")\n",
    "for i in range(8):\n",
    "    x = 509 * i\n",
    "    ymin = -10\n",
    "    ymax = 10\n",
    "    plt.plot([x, x], [ymin, ymax], ls = '--', lw=1, color = 'black')\n",
    "plt.xlim(0,4000)\n",
    "plt.ylim(-50,50)\n",
    "plt.legend()\n",
    "plt.xlabel(\"X coord (pixels)\")\n",
    "plt.ylabel(\"ADU\")\n",
    "rawPlot = np.median(isrResult.exposure.image.array[100:1900, 0:4000], axis=0)\n",
    "rawPlot -= np.median(rawPlot)\n",
    "biasPlot = np.median(bias.image.array[100:1900, 0:4000], axis=0)\n",
    "biasPlot -= np.median(biasPlot)\n",
    "plt.subplot(2,1,2)\n",
    "plt.title(f\"Parallel Overscan Debug - Bottom\")\n",
    "plt.plot(rawPlot, label=\"Raw\")\n",
    "plt.plot(biasPlot, ls = '--', label=\"MasterBias\")\n",
    "for i in range(8):\n",
    "    x = 509 * i\n",
    "    ymin = -10\n",
    "    ymax = 10\n",
    "    plt.plot([x, x], [ymin, ymax], ls = '--', lw=1, color = 'black')\n",
    "plt.xlim(0,4000)\n",
    "plt.ylim(-50,50)\n",
    "plt.legend()\n",
    "plt.xlabel(\"X coord (pixels)\")\n",
    "plt.ylabel(\"ADU\")\n",
    "\n",
    "#fig.savefig(f\"/home/c/cslage/u/BOT_LSSTCam/isr_challenge/Challenge_{detector}_{expId}_Scan_Bias_09Jan23.png\")"
   ]
  },
  {
   "cell_type": "code",
   "execution_count": null,
   "id": "baca8d1e-9a22-44cf-8115-3ad3da607214",
   "metadata": {
    "execution": {
     "iopub.execute_input": "2023-01-17T15:13:49.399959Z",
     "iopub.status.busy": "2023-01-17T15:13:49.399662Z",
     "iopub.status.idle": "2023-01-17T15:13:50.090442Z",
     "shell.execute_reply": "2023-01-17T15:13:50.089935Z",
     "shell.execute_reply.started": "2023-01-17T15:13:49.399938Z"
    },
    "tags": []
   },
   "outputs": [],
   "source": [
    "fig = plt.figure()\n",
    "plt.subplots_adjust(hspace=0.5, wspace=0.5)\n",
    "\n",
    "rawPlot = np.median(isrResult.exposure.image.array[2100:3900, 0:4000], axis=0)\n",
    "rawPlot -= np.median(rawPlot)\n",
    "biasPlot = np.median(bias.image.array[2100:3900, 0:4000], axis=0)\n",
    "biasPlot -= np.median(biasPlot)\n",
    "plt.subplot(2,1,1)\n",
    "plt.title(f\"Parallel Overscan Debug - Top\")\n",
    "plt.plot(rawPlot, label=\"Raw\")\n",
    "plt.plot(biasPlot, ls = '--', label=\"MasterBias\")\n",
    "for i in range(8):\n",
    "    x = 509 * i\n",
    "    ymin = -10\n",
    "    ymax = 10\n",
    "    plt.plot([x, x], [ymin, ymax], ls = '--', lw=1, color = 'black')\n",
    "plt.xlim(450,550)\n",
    "plt.ylim(-50,50)\n",
    "plt.legend()\n",
    "plt.xlabel(\"X coord (pixels)\")\n",
    "plt.ylabel(\"ADU\")\n",
    "rawPlot = np.median(isrResult.exposure.image.array[100:1900, 0:4000], axis=0)\n",
    "rawPlot -= np.median(rawPlot)\n",
    "biasPlot = np.median(bias.image.array[100:1900, 0:4000], axis=0)\n",
    "biasPlot -= np.median(biasPlot)\n",
    "plt.subplot(2,1,2)\n",
    "plt.title(f\"Parallel Overscan Debug - Bottom\")\n",
    "plt.plot(rawPlot, label=\"Raw\")\n",
    "plt.plot(biasPlot, ls = '--', label=\"MasterBias\")\n",
    "for i in range(8):\n",
    "    x = 509 * i\n",
    "    ymin = -10\n",
    "    ymax = 10\n",
    "    plt.plot([x, x], [ymin, ymax], ls = '--', lw=1, color = 'black')\n",
    "plt.xlim(450,550)\n",
    "plt.ylim(-50,50)\n",
    "plt.legend()\n",
    "plt.xlabel(\"X coord (pixels)\")\n",
    "plt.ylabel(\"ADU\")\n",
    "\n",
    "#fig.savefig(f\"/home/c/cslage/u/BOT_LSSTCam/isr_challenge/Challenge_{detector}_{expId}_Scan_Bias_Blowup_09Jan23.png\")"
   ]
  },
  {
   "cell_type": "markdown",
   "id": "f2a6128c-8997-41c0-a2fc-c43fdda9f4ec",
   "metadata": {},
   "source": [
    "## Let's look at just one of the bias images"
   ]
  },
  {
   "cell_type": "code",
   "execution_count": null,
   "id": "c3095f03-f115-4e0e-9506-16a888107781",
   "metadata": {
    "execution": {
     "iopub.execute_input": "2023-01-17T15:18:00.737034Z",
     "iopub.status.busy": "2023-01-17T15:18:00.736786Z",
     "iopub.status.idle": "2023-01-17T15:18:00.739826Z",
     "shell.execute_reply": "2023-01-17T15:18:00.739398Z",
     "shell.execute_reply.started": "2023-01-17T15:18:00.737014Z"
    },
    "tags": []
   },
   "outputs": [],
   "source": [
    "expId = 3021120600560\n",
    "detector = 74"
   ]
  },
  {
   "cell_type": "code",
   "execution_count": null,
   "id": "cee8452b-348e-4e08-b33a-5192fa3856cd",
   "metadata": {
    "execution": {
     "iopub.execute_input": "2023-01-17T15:18:01.676148Z",
     "iopub.status.busy": "2023-01-17T15:18:01.675888Z",
     "iopub.status.idle": "2023-01-17T15:18:02.576152Z",
     "shell.execute_reply": "2023-01-17T15:18:02.575597Z",
     "shell.execute_reply.started": "2023-01-17T15:18:01.676129Z"
    },
    "tags": []
   },
   "outputs": [],
   "source": [
    "exp = butler.get('raw', detector=detector, exposure=expId, instrument=\"LSSTCam\")"
   ]
  },
  {
   "cell_type": "code",
   "execution_count": null,
   "id": "59140365-e414-4f11-810c-d0e12c893277",
   "metadata": {
    "execution": {
     "iopub.execute_input": "2023-01-17T15:22:17.747066Z",
     "iopub.status.busy": "2023-01-17T15:22:17.746780Z",
     "iopub.status.idle": "2023-01-17T15:22:17.867659Z",
     "shell.execute_reply": "2023-01-17T15:22:17.867113Z",
     "shell.execute_reply.started": "2023-01-17T15:22:17.747048Z"
    },
    "tags": []
   },
   "outputs": [],
   "source": [
    "rawPlot = np.median(exp.image.array[2100:3900, 0:540], axis=0)\n",
    "#rawPlot -= np.median(rawPlot)\n",
    "ovPlot = np.median(exp.image.array[4000:4047, 0:540], axis=0)\n",
    "#biasPlot -= np.median(biasPlot)\n",
    "plt.plot(rawPlot)\n",
    "plt.plot(ovPlot)"
   ]
  },
  {
   "cell_type": "code",
   "execution_count": null,
   "id": "64328845-3d59-4c48-a23e-8560008991de",
   "metadata": {},
   "outputs": [],
   "source": []
  },
  {
   "cell_type": "code",
   "execution_count": null,
   "id": "d2bedcfc-a8a0-4117-be09-21bac095d7fc",
   "metadata": {
    "execution": {
     "iopub.execute_input": "2023-01-17T15:25:21.581458Z",
     "iopub.status.busy": "2023-01-17T15:25:21.581215Z",
     "iopub.status.idle": "2023-01-17T15:25:21.610380Z",
     "shell.execute_reply": "2023-01-17T15:25:21.609816Z",
     "shell.execute_reply.started": "2023-01-17T15:25:21.581439Z"
    },
    "tags": []
   },
   "outputs": [],
   "source": [
    "isrConfig = IsrTaskConfig()\n",
    "isrConfig.overscan.fitType=\"MEDIAN_PER_ROW\"\n",
    "isrConfig.overscan.doParallelOverscan=True\n",
    "isrConfig.doLinearize=False\n",
    "isrConfig.doOverscan=True\n",
    "isrConfig.doAssembleCcd=True\n",
    "isrConfig.doBias=False\n",
    "isrConfig.doVariance=True\n",
    "isrConfig.doBrighterFatter=False\n",
    "isrConfig.doDark=False\n",
    "isrConfig.doStrayLight=False\n",
    "isrConfig.doFlat=False\n",
    "isrConfig.doFringe=False\n",
    "isrConfig.doApplyGains=False\n",
    "isrConfig.usePtcGains=False\n",
    "isrConfig.doDefect=False\n",
    "isrConfig.doDeferredCharge=False\n",
    "isrConfig.doNanMasking=False\n",
    "isrConfig.doInterpolate=False\n",
    "isrConfig.doSaturation=False\n",
    "isrConfig.doSaturationInterpolation=False\n",
    "isrConfig.doWrite=False\n",
    "isrTask = IsrTask(config=isrConfig)"
   ]
  },
  {
   "cell_type": "code",
   "execution_count": null,
   "id": "0d0b7b4e-6e6d-4101-87d2-435445b6182d",
   "metadata": {
    "execution": {
     "iopub.execute_input": "2023-01-17T15:25:22.118214Z",
     "iopub.status.busy": "2023-01-17T15:25:22.118028Z",
     "iopub.status.idle": "2023-01-17T15:25:24.447026Z",
     "shell.execute_reply": "2023-01-17T15:25:24.446406Z",
     "shell.execute_reply.started": "2023-01-17T15:25:22.118196Z"
    },
    "tags": []
   },
   "outputs": [],
   "source": [
    "isrResult = isrTask.run(exp)\n",
    "postIsrExp = isrResult.exposure"
   ]
  },
  {
   "cell_type": "code",
   "execution_count": null,
   "id": "dc8231a9-47f6-4a99-a29b-1f3763baea58",
   "metadata": {
    "execution": {
     "iopub.execute_input": "2023-01-17T15:26:19.282275Z",
     "iopub.status.busy": "2023-01-17T15:26:19.282024Z",
     "iopub.status.idle": "2023-01-17T15:26:19.532746Z",
     "shell.execute_reply": "2023-01-17T15:26:19.532167Z",
     "shell.execute_reply.started": "2023-01-17T15:26:19.282256Z"
    },
    "tags": []
   },
   "outputs": [],
   "source": [
    "isrPlot = np.median(postIsrExp.image.array[2100:3900, 0:4000], axis=0)\n",
    "plt.plot(isrPlot)\n"
   ]
  },
  {
   "cell_type": "markdown",
   "id": "ef190b76-6803-425f-a123-eac5f664e79f",
   "metadata": {},
   "source": [
    "## Let's look at just one of the flat images"
   ]
  },
  {
   "cell_type": "code",
   "execution_count": null,
   "id": "601e9985-bab9-4a7e-a5d1-aa8a508030d3",
   "metadata": {
    "execution": {
     "iopub.execute_input": "2023-01-17T15:30:04.846354Z",
     "iopub.status.busy": "2023-01-17T15:30:04.846103Z",
     "iopub.status.idle": "2023-01-17T15:30:04.849600Z",
     "shell.execute_reply": "2023-01-17T15:30:04.849043Z",
     "shell.execute_reply.started": "2023-01-17T15:30:04.846335Z"
    },
    "tags": []
   },
   "outputs": [],
   "source": [
    "expId = 3021120700218\n",
    "detector = 74"
   ]
  },
  {
   "cell_type": "code",
   "execution_count": null,
   "id": "75751a14-7ccb-424e-8f4c-674c61026db9",
   "metadata": {
    "execution": {
     "iopub.execute_input": "2023-01-17T15:30:06.134665Z",
     "iopub.status.busy": "2023-01-17T15:30:06.133712Z",
     "iopub.status.idle": "2023-01-17T15:30:07.277906Z",
     "shell.execute_reply": "2023-01-17T15:30:07.277265Z",
     "shell.execute_reply.started": "2023-01-17T15:30:06.134624Z"
    },
    "tags": []
   },
   "outputs": [],
   "source": [
    "exp = butler.get('raw', detector=detector, exposure=expId, instrument=\"LSSTCam\")"
   ]
  },
  {
   "cell_type": "code",
   "execution_count": null,
   "id": "8d318022-df2b-4322-8e1e-21a5364b8255",
   "metadata": {
    "execution": {
     "iopub.execute_input": "2023-01-17T15:30:09.046921Z",
     "iopub.status.busy": "2023-01-17T15:30:09.046598Z",
     "iopub.status.idle": "2023-01-17T15:30:09.154333Z",
     "shell.execute_reply": "2023-01-17T15:30:09.153690Z",
     "shell.execute_reply.started": "2023-01-17T15:30:09.046904Z"
    },
    "tags": []
   },
   "outputs": [],
   "source": [
    "rawPlot = np.median(exp.image.array[2100:3900, 0:540], axis=0)\n",
    "#rawPlot -= np.median(rawPlot)\n",
    "ovPlot = np.median(exp.image.array[4000:4047, 0:540], axis=0)\n",
    "#biasPlot -= np.median(biasPlot)\n",
    "plt.plot(rawPlot)\n",
    "plt.plot(ovPlot)"
   ]
  },
  {
   "cell_type": "code",
   "execution_count": null,
   "id": "0d6d6812-112e-456e-b39d-f09a3922e887",
   "metadata": {
    "execution": {
     "iopub.execute_input": "2023-01-17T15:34:59.947813Z",
     "iopub.status.busy": "2023-01-17T15:34:59.947445Z",
     "iopub.status.idle": "2023-01-17T15:35:00.054574Z",
     "shell.execute_reply": "2023-01-17T15:35:00.054080Z",
     "shell.execute_reply.started": "2023-01-17T15:34:59.947794Z"
    },
    "tags": []
   },
   "outputs": [],
   "source": [
    "# I think the dip at the beginning of the row is caused by CTI\n",
    "rawPlot = np.median(exp.image.array[2100:3900, 0:540], axis=0)\n",
    "#rawPlot -= np.median(rawPlot)\n",
    "ovPlot = np.median(exp.image.array[4000:4047, 0:540], axis=0)\n",
    "#biasPlot -= np.median(biasPlot)\n",
    "plt.plot(rawPlot)\n",
    "plt.plot(ovPlot)\n",
    "plt.xlim(64, 100)"
   ]
  },
  {
   "cell_type": "code",
   "execution_count": null,
   "id": "38225617-3904-42bd-bda0-8323a3405d6b",
   "metadata": {},
   "outputs": [],
   "source": []
  },
  {
   "cell_type": "code",
   "execution_count": null,
   "id": "b7107141-b41d-4a0b-9b83-aaea50db8878",
   "metadata": {
    "execution": {
     "iopub.execute_input": "2023-01-17T15:35:34.142535Z",
     "iopub.status.busy": "2023-01-17T15:35:34.141845Z",
     "iopub.status.idle": "2023-01-17T15:35:34.169135Z",
     "shell.execute_reply": "2023-01-17T15:35:34.168712Z",
     "shell.execute_reply.started": "2023-01-17T15:35:34.142512Z"
    },
    "tags": []
   },
   "outputs": [],
   "source": [
    "isrConfig = IsrTaskConfig()\n",
    "isrConfig.overscan.fitType=\"MEDIAN_PER_ROW\"\n",
    "isrConfig.overscan.doParallelOverscan=True\n",
    "isrConfig.doLinearize=False\n",
    "isrConfig.doOverscan=True\n",
    "isrConfig.doAssembleCcd=True\n",
    "isrConfig.doBias=False\n",
    "isrConfig.doVariance=True\n",
    "isrConfig.doBrighterFatter=False\n",
    "isrConfig.doDark=False\n",
    "isrConfig.doStrayLight=False\n",
    "isrConfig.doFlat=False\n",
    "isrConfig.doFringe=False\n",
    "isrConfig.doApplyGains=False\n",
    "isrConfig.usePtcGains=False\n",
    "isrConfig.doDefect=False\n",
    "isrConfig.doDeferredCharge=False\n",
    "isrConfig.doNanMasking=False\n",
    "isrConfig.doInterpolate=False\n",
    "isrConfig.doSaturation=False\n",
    "isrConfig.doSaturationInterpolation=False\n",
    "isrConfig.doWrite=False\n",
    "isrTask = IsrTask(config=isrConfig)"
   ]
  },
  {
   "cell_type": "code",
   "execution_count": null,
   "id": "3e78777f-9902-4701-845e-e15f27a855fe",
   "metadata": {
    "execution": {
     "iopub.execute_input": "2023-01-17T15:35:36.121623Z",
     "iopub.status.busy": "2023-01-17T15:35:36.121376Z",
     "iopub.status.idle": "2023-01-17T15:35:38.533124Z",
     "shell.execute_reply": "2023-01-17T15:35:38.532609Z",
     "shell.execute_reply.started": "2023-01-17T15:35:36.121605Z"
    },
    "tags": []
   },
   "outputs": [],
   "source": [
    "isrResult = isrTask.run(exp)\n",
    "postIsrExp = isrResult.exposure"
   ]
  },
  {
   "cell_type": "code",
   "execution_count": null,
   "id": "6553ec3b-5346-489a-b8a7-048488f3673a",
   "metadata": {
    "execution": {
     "iopub.execute_input": "2023-01-17T15:35:42.085710Z",
     "iopub.status.busy": "2023-01-17T15:35:42.085340Z",
     "iopub.status.idle": "2023-01-17T15:35:42.192917Z",
     "shell.execute_reply": "2023-01-17T15:35:42.192386Z",
     "shell.execute_reply.started": "2023-01-17T15:35:42.085691Z"
    },
    "tags": []
   },
   "outputs": [],
   "source": [
    "isrPlot = np.median(postIsrExp.image.array[2100:3900, 0:509], axis=0)\n",
    "plt.plot(isrPlot)\n"
   ]
  },
  {
   "cell_type": "code",
   "execution_count": null,
   "id": "d7de944a-25b9-49ba-b588-f05b64daadc3",
   "metadata": {
    "execution": {
     "iopub.execute_input": "2023-01-17T18:06:02.672845Z",
     "iopub.status.busy": "2023-01-17T18:06:02.672602Z",
     "iopub.status.idle": "2023-01-17T18:06:04.399230Z",
     "shell.execute_reply": "2023-01-17T18:06:04.398530Z",
     "shell.execute_reply.started": "2023-01-17T18:06:02.672827Z"
    },
    "tags": []
   },
   "outputs": [],
   "source": [
    "corrs = correctGains(postIsrExp)"
   ]
  },
  {
   "cell_type": "code",
   "execution_count": null,
   "id": "ac7f618d-2faa-415f-86b5-908c357b9d83",
   "metadata": {
    "execution": {
     "iopub.execute_input": "2023-01-17T18:06:07.263894Z",
     "iopub.status.busy": "2023-01-17T18:06:07.263653Z",
     "iopub.status.idle": "2023-01-17T18:06:07.268389Z",
     "shell.execute_reply": "2023-01-17T18:06:07.267812Z",
     "shell.execute_reply.started": "2023-01-17T18:06:07.263876Z"
    },
    "tags": []
   },
   "outputs": [],
   "source": [
    "corrs"
   ]
  },
  {
   "cell_type": "code",
   "execution_count": null,
   "id": "1325e82c-1cd6-44d3-83b8-5a911f810c33",
   "metadata": {},
   "outputs": [],
   "source": [
    "#rawPlot -= np.median(rawPlot)\n",
    "\n",
    "vals = np.polyfit(xplot, rawPlot[520:3500], 1)\n",
    "xplot2 = np.arange(0, 4000)\n",
    "yplot = xplot2 * vals[0] + vals[1]\n",
    "corr_c10 = np.median((rawPlot/yplot)[20:480])\n",
    "print(corr_c10)\n",
    "plt.subplot(2,1,1)\n",
    "plt.title(f\"Median Flat Level - Top\")\n",
    "plt.plot(rawPlot, label=\"PostISR\")\n",
    "plt.plot(xplot2, yplot, color='red', ls='--')\n",
    "for i in range(8):\n",
    "    x = 509 * i\n",
    "    ymin = -10\n",
    "    ymax = 10\n",
    "    plt.plot([x, x], [ymin, ymax], ls = '--', lw=1, color = 'black')\n",
    "plt.xlim(0,4000)\n",
    "plt.ylim(1400, 1520)\n",
    "#plt.legend()\n",
    "plt.xlabel(\"X coord (pixels)\")\n",
    "plt.ylabel(\"ADU\")\n",
    "rawPlot = np.median(isrResult.exposure.image.array[100:1900, 0:4000], axis=0)\n",
    "rawPlot -= np.median(rawPlot)\n",
    "plt.subplot(2,1,2)\n",
    "plt.title(f\"Median Flat Level - Bottom\")\n",
    "plt.plot(rawPlot, label=\"PostISR\")\n",
    "for i in range(8):\n",
    "    x = 509 * i\n",
    "    ymin = -10\n",
    "    ymax = 10\n",
    "    plt.plot([x, x], [ymin, ymax], ls = '--', lw=1, color = 'black')\n",
    "plt.xlim(0,4000)\n",
    "plt.ylim(-50,50)\n",
    "#plt.legend()\n",
    "plt.xlabel(\"X coord (pixels)\")\n",
    "plt.ylabel(\"ADU\")\n",
    "\n",
    "fig.savefig(f\"/home/c/cslage/u/BOT_LSSTCam/isr_challenge/Challenge_{detector}_{expId}_Scan_17Jan23.png\")"
   ]
  },
  {
   "cell_type": "code",
   "execution_count": null,
   "id": "aa841c2f-e18e-4102-bf2b-2fd78b10bea4",
   "metadata": {
    "execution": {
     "iopub.execute_input": "2023-01-17T17:29:37.691067Z",
     "iopub.status.busy": "2023-01-17T17:29:37.690666Z",
     "iopub.status.idle": "2023-01-17T17:29:37.695613Z",
     "shell.execute_reply": "2023-01-17T17:29:37.695206Z",
     "shell.execute_reply.started": "2023-01-17T17:29:37.691045Z"
    },
    "tags": []
   },
   "outputs": [],
   "source": [
    "for amp in exp.getDetector().getAmplifiers():\n",
    "    print(amp.getName(), amp.getBBox())\n",
    "    bbox = amp.getBBox()"
   ]
  },
  {
   "cell_type": "code",
   "execution_count": null,
   "id": "f56a40fc-c757-4e67-bfc7-9a378a325e74",
   "metadata": {
    "execution": {
     "iopub.execute_input": "2023-01-17T17:30:00.042009Z",
     "iopub.status.busy": "2023-01-17T17:30:00.041617Z",
     "iopub.status.idle": "2023-01-17T17:30:00.045802Z",
     "shell.execute_reply": "2023-01-17T17:30:00.045313Z",
     "shell.execute_reply.started": "2023-01-17T17:30:00.041986Z"
    },
    "tags": []
   },
   "outputs": [],
   "source": [
    "bbox.beginX"
   ]
  },
  {
   "cell_type": "code",
   "execution_count": null,
   "id": "2b473a34-8f2e-44a5-98e8-d5554d3594a5",
   "metadata": {
    "execution": {
     "iopub.execute_input": "2023-01-17T17:52:22.533077Z",
     "iopub.status.busy": "2023-01-17T17:52:22.532782Z",
     "iopub.status.idle": "2023-01-17T17:52:22.545303Z",
     "shell.execute_reply": "2023-01-17T17:52:22.544589Z",
     "shell.execute_reply.started": "2023-01-17T17:52:22.533058Z"
    }
   },
   "outputs": [],
   "source": [
    "np.arange((0,10))"
   ]
  },
  {
   "cell_type": "code",
   "execution_count": null,
   "id": "0799ec64-bebf-499e-95e0-7698703a8868",
   "metadata": {},
   "outputs": [],
   "source": []
  }
 ],
 "metadata": {
  "kernelspec": {
   "display_name": "LSST",
   "language": "python",
   "name": "lsst"
  },
  "language_info": {
   "codemirror_mode": {
    "name": "ipython",
    "version": 3
   },
   "file_extension": ".py",
   "mimetype": "text/x-python",
   "name": "python",
   "nbconvert_exporter": "python",
   "pygments_lexer": "ipython3",
   "version": "3.10.8"
  },
  "toc-autonumbering": false,
  "toc-showcode": false,
  "toc-showmarkdowntxt": true
 },
 "nbformat": 4,
 "nbformat_minor": 5
}
