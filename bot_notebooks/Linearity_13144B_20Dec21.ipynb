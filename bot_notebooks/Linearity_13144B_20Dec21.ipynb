{
 "cells": [
  {
   "cell_type": "markdown",
   "metadata": {},
   "source": [
    "# Notebook for investigating linearity corrections\n",
    "\n",
    "Initially written 20 Dec 2021 by Craig Lage\\\n",
    "copying from Chris Waters."
   ]
  },
  {
   "cell_type": "code",
   "execution_count": null,
   "metadata": {},
   "outputs": [],
   "source": [
    "import sys, os, glob, time\n",
    "import pickle as pkl\n",
    "import numpy as np\n",
    "import matplotlib.pyplot as plt\n",
    "import astropy.io.fits as pf\n",
    "from lsst.daf.butler import Butler\n",
    "import lsst.afw.math as afwMath"
   ]
  },
  {
   "cell_type": "code",
   "execution_count": null,
   "metadata": {},
   "outputs": [],
   "source": [
    "butler = Butler(\"/repo/main\", collections=[\"LSSTCam/raw/all\",\"LSSTCam/calib\",\\\n",
    "                                                    \"LSSTCam/calib/u/cslage/13144\", \"u/cslage/bps_13144D\"])\n",
    "expId=3021120600576"
   ]
  },
  {
   "cell_type": "code",
   "execution_count": null,
   "metadata": {},
   "outputs": [],
   "source": [
    "#E2V\n",
    "det = 55\n",
    "lin = butler.get('linearity', detector=det, exposure=expId, instrument='LSSTCam')\n",
    "ptc = butler.get('ptc', detector=det, exposure=expId, instrument='LSSTCam')\n",
    "camera = butler.get('camera', instrument='LSSTCam')"
   ]
  },
  {
   "cell_type": "code",
   "execution_count": null,
   "metadata": {
    "tags": []
   },
   "outputs": [],
   "source": [
    "for it, amp in enumerate(camera[0].getAmplifiers()):\n",
    "    print(lin.linearityType[amp.getName()])\n",
    "    print(lin.linearityCoeffs[amp.getName()])\n",
    "    break"
   ]
  },
  {
   "cell_type": "code",
   "execution_count": null,
   "metadata": {},
   "outputs": [],
   "source": [
    "offset = 0\n",
    "for it, amp in enumerate(camera[0].getAmplifiers()):\n",
    "    centers, values = np.split(lin.linearityCoeffs[amp.getName()], 2)\n",
    "    #print(centers)\n",
    "    #print(values)\n",
    "    #break\n",
    "    plt.scatter(centers, values + it * offset, marker='+', label=\"LinA\")\n"
   ]
  },
  {
   "cell_type": "code",
   "execution_count": null,
   "metadata": {},
   "outputs": [],
   "source": [
    "def ExpApprox(mu, g, a00, n):\n",
    "    if (g < 1.0E-6) or (abs(a00) < 1.0E-9):\n",
    "        return np.zeros([len(mu)])\n",
    "    else:\n",
    "        expFactor = 2.0 * a00 * mu * g\n",
    "        if max(expFactor) > 100.0:\n",
    "            return np.zeros([len(mu)])\n",
    "        else:\n",
    "            preFactor = 1.0 / (2.0 * g * g * a00)\n",
    "            noiseTerm = n / (g * g)\n",
    "            return preFactor * (np.exp(expFactor) - 1.0) + noiseTerm"
   ]
  },
  {
   "cell_type": "code",
   "execution_count": null,
   "metadata": {},
   "outputs": [],
   "source": [
    "for amp in ptc.ampNames:\n",
    "    centers, values = np.split(lin.linearityCoeffs[amp], 2)\n",
    "    interp = afwMath.makeInterpolate(centers.tolist(), values.tolist(),\n",
    "                                     afwMath.stringToInterpStyle(\"AKIMA_SPLINE\"))\n",
    "    delta = interp.interpolate(np.array(ptc.rawMeans[amp]))\n",
    "    linearized = np.array(ptc.rawMeans[amp]) - np.array(delta) # ?? Adjust X-axis??\n",
    "    #linearized2 = np.array(ptc.rawVars[amp]) - np.array(delta)\n",
    "    gain = ptc.gain[amp]\n",
    "    a00 = ptc.ptcFitPars[amp][0]\n",
    "    noise = ptc.noise[amp]\n",
    "    \n",
    "    plt.subplots_adjust(wspace = 0.5)\n",
    "    \n",
    "    plt.subplot(1,3,1)\n",
    "    yplot = ExpApprox(np.array(ptc.rawMeans[amp]), gain, a00, noise)\n",
    "    plt.scatter(linearized, ptc.rawVars[amp], marker='o', label=\"Linearized\")\n",
    "    #plt.scatter(ptc.rawMeans[amp], linearized2, marker='o', label=\"Linearized\")\n",
    "    plt.scatter(ptc.rawMeans[amp], ptc.rawVars[amp], marker='+', label=\"Raw\")\n",
    "    plt.plot(ptc.rawMeans[amp], yplot, ls = '--', color = 'red', label = 'ExpApprox')\n",
    "    plt.xlim(50000,80000)\n",
    "    plt.ylim(30000, 40000)\n",
    "    plt.subplot(1,3,2)\n",
    "    plt.scatter(ptc.rawMeans[amp], yplot - ptc.rawVars[amp], marker='+', label=\"Raw\")\n",
    "    plt.xlim(0,100000)\n",
    "    plt.ylim(-1000,1000)\n",
    "    plt.legend()\n",
    "    plt.subplot(1,3,3)\n",
    "    plt.scatter(ptc.rawMeans[amp], delta, marker='+', label=\"Raw\")\n",
    "    plt.xlim(0,100000)\n",
    "    plt.ylim(-1000,1000)\n",
    "    plt.legend()\n",
    "\n",
    "    break\n",
    "\n"
   ]
  },
  {
   "cell_type": "code",
   "execution_count": null,
   "metadata": {},
   "outputs": [],
   "source": [
    "#ITL\n",
    "butler = Butler(\"/repo/main\", collections=[\"LSSTCam/raw/all\",\"LSSTCam/calib\",\\\n",
    "                                                    \"LSSTCam/calib/u/cslage/13144\", \"u/cslage/bps_13144B\"])\n",
    "expId=3021120600576\n",
    "det = 74\n",
    "lin = butler.get('linearity', detector=det, exposure=expId, instrument='LSSTCam')\n",
    "ptc = butler.get('ptc', detector=det, exposure=expId, instrument='LSSTCam')\n",
    "camera = butler.get('camera', instrument='LSSTCam')"
   ]
  },
  {
   "cell_type": "code",
   "execution_count": null,
   "metadata": {
    "tags": []
   },
   "outputs": [],
   "source": [
    "for it, amp in enumerate(camera[0].getAmplifiers()):\n",
    "    print(lin.linearityType[amp.getName()])\n",
    "    print(lin.linearityCoeffs[amp.getName()])\n",
    "    break"
   ]
  },
  {
   "cell_type": "code",
   "execution_count": null,
   "metadata": {},
   "outputs": [],
   "source": [
    "offset = 0\n",
    "for it, amp in enumerate(camera[0].getAmplifiers()):\n",
    "    centers, values = np.split(lin.linearityCoeffs[amp.getName()], 2)\n",
    "    #print(centers)\n",
    "    #print(values)\n",
    "    #break\n",
    "    plt.scatter(centers, values + it * offset, marker='+', label=\"Lin\")\n"
   ]
  },
  {
   "cell_type": "code",
   "execution_count": null,
   "metadata": {},
   "outputs": [],
   "source": [
    "def ExpApprox(mu, g, a00, n):\n",
    "    if (g < 1.0E-6) or (abs(a00) < 1.0E-9):\n",
    "        return np.zeros([len(mu)])\n",
    "    else:\n",
    "        expFactor = 2.0 * a00 * mu * g\n",
    "        if max(expFactor) > 100.0:\n",
    "            return np.zeros([len(mu)])\n",
    "        else:\n",
    "            preFactor = 1.0 / (2.0 * g * g * a00)\n",
    "            noiseTerm = n / (g * g)\n",
    "            return preFactor * (np.exp(expFactor) - 1.0) + noiseTerm"
   ]
  },
  {
   "cell_type": "code",
   "execution_count": null,
   "metadata": {},
   "outputs": [],
   "source": [
    "for amp in ptc.ampNames:\n",
    "    centers, values = np.split(lin.linearityCoeffs[amp], 2)\n",
    "    interp = afwMath.makeInterpolate(centers.tolist(), values.tolist(),\n",
    "                                     afwMath.stringToInterpStyle(\"AKIMA_SPLINE\"))\n",
    "    delta = interp.interpolate(np.array(ptc.rawMeans[amp]))\n",
    "    linearized = np.array(ptc.rawMeans[amp]) - np.array(delta) # ?? Adjust X-axis??\n",
    "    #linearized2 = np.array(ptc.rawVars[amp]) - np.array(delta)\n",
    "    gain = ptc.gain[amp]\n",
    "    a00 = ptc.ptcFitPars[amp][0]\n",
    "    noise = ptc.noise[amp]\n",
    "    \n",
    "    plt.subplots_adjust(wspace = 0.5)\n",
    "    \n",
    "    plt.subplot(1,3,1)\n",
    "    yplot = ExpApprox(np.array(ptc.rawMeans[amp]), gain, a00, noise)\n",
    "    plt.scatter(linearized, ptc.rawVars[amp], marker='o', label=\"Linearized\")\n",
    "    #plt.scatter(ptc.rawMeans[amp], linearized2, marker='o', label=\"Linearized\")\n",
    "    plt.scatter(ptc.rawMeans[amp], ptc.rawVars[amp], marker='+', label=\"Raw\")\n",
    "    plt.plot(ptc.rawMeans[amp], yplot, ls = '--', color = 'red', label = 'ExpApprox')\n",
    "    plt.xlim(50000,80000)\n",
    "    plt.ylim(30000, 40000)\n",
    "    plt.subplot(1,3,2)\n",
    "    plt.scatter(ptc.rawMeans[amp], yplot - ptc.rawVars[amp], marker='+', label=\"Raw\")\n",
    "    plt.xlim(0,100000)\n",
    "    plt.ylim(-1000,1000)\n",
    "    plt.legend()\n",
    "    plt.subplot(1,3,3)\n",
    "    plt.scatter(ptc.rawMeans[amp], delta, marker='+', label=\"Raw\")\n",
    "    plt.xlim(0,100000)\n",
    "    plt.ylim(-1000,1000)\n",
    "    plt.legend()\n",
    "\n",
    "    break\n",
    "\n"
   ]
  },
  {
   "cell_type": "code",
   "execution_count": null,
   "metadata": {},
   "outputs": [],
   "source": []
  }
 ],
 "metadata": {
  "kernelspec": {
   "display_name": "LSST",
   "language": "python",
   "name": "lsst"
  },
  "language_info": {
   "codemirror_mode": {
    "name": "ipython",
    "version": 3
   },
   "file_extension": ".py",
   "mimetype": "text/x-python",
   "name": "python",
   "nbconvert_exporter": "python",
   "pygments_lexer": "ipython3",
   "version": "3.10.4"
  }
 },
 "nbformat": 4,
 "nbformat_minor": 4
}
