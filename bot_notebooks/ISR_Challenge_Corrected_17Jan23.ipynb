{
 "cells": [
  {
   "cell_type": "markdown",
   "id": "e8cc3a14-f377-44f4-ab4c-97c9c3047697",
   "metadata": {},
   "source": [
    "# Aaron's ISR challenge - are amp boundaries visible after ISR?\n",
    "Craig Lage 09-Jan-23"
   ]
  },
  {
   "cell_type": "code",
   "execution_count": null,
   "id": "a148b369-8943-4861-a51e-9cbeea70feb3",
   "metadata": {
    "execution": {
     "iopub.execute_input": "2023-01-20T22:19:53.656323Z",
     "iopub.status.busy": "2023-01-20T22:19:53.656059Z",
     "iopub.status.idle": "2023-01-20T22:19:56.861876Z",
     "shell.execute_reply": "2023-01-20T22:19:56.861195Z",
     "shell.execute_reply.started": "2023-01-20T22:19:53.656303Z"
    },
    "tags": []
   },
   "outputs": [],
   "source": [
    "import numpy as np\n",
    "from matplotlib import pyplot as plt\n",
    "\n",
    "from lsst.daf.butler import Butler\n",
    "from lsst.ip.isr import IsrTask, IsrTaskConfig\n",
    "from mpl_toolkits.axes_grid1 import make_axes_locatable\n",
    "from matplotlib.colors import LogNorm\n",
    "\n",
    "from lsst.summit.utils import quickSmooth\n",
    "%matplotlib inline\n",
    "\n",
    "from lsst.pipe.tasks.characterizeImage import CharacterizeImageTask\n",
    "from lsst.meas.algorithms.installGaussianPsf import InstallGaussianPsfTask"
   ]
  },
  {
   "cell_type": "code",
   "execution_count": null,
   "id": "7c44dc35-840c-438f-bdba-55b8b1ce5b77",
   "metadata": {
    "execution": {
     "iopub.execute_input": "2023-01-20T23:10:59.187584Z",
     "iopub.status.busy": "2023-01-20T23:10:59.186901Z",
     "iopub.status.idle": "2023-01-20T23:10:59.204057Z",
     "shell.execute_reply": "2023-01-20T23:10:59.203498Z",
     "shell.execute_reply.started": "2023-01-20T23:10:59.187562Z"
    },
    "tags": []
   },
   "outputs": [],
   "source": [
    "def plotExp(exp, expId):\n",
    "    # Borrowed from summit utils\n",
    "    data = quickSmooth(exp.image.array, 1)\n",
    "    vmin = np.nanpercentile(data, 1)\n",
    "    vmax = np.nanpercentile(data, 99)\n",
    "    print(vmin, vmax)\n",
    "    figure = plt.figure(figsize=(12,12))\n",
    "    figure.clear()\n",
    "    ax1 = figure.add_subplot(111)\n",
    "    ax1.set_title(f\"{expId}\")\n",
    "    im1 = ax1.imshow(data, cmap='gray', origin='lower', vmin=vmin, vmax=vmax)\n",
    "    ax1.tick_params(which=\"major\", direction=\"in\", top=True, right=True, labelsize=8)\n",
    "    divider = make_axes_locatable(ax1)\n",
    "    cax = divider.append_axes(\"right\", size=\"5%\", pad=0.05)\n",
    "    plt.colorbar(im1, cax=cax)\n",
    "    plt.tight_layout()\n",
    "    #plt.show()\n",
    "    return figure, vmin, vmax\n",
    "\n",
    "def plotArr(arr):\n",
    "    # Borrowed from summit utils\n",
    "    data = quickSmooth(arr, 1)\n",
    "    vmin = np.nanpercentile(data, 1)\n",
    "    vmax = np.nanpercentile(data, 99)\n",
    "    print(vmin, vmax)\n",
    "    figure = plt.figure(figsize=(12,12))\n",
    "    figure.clear()\n",
    "    ax1 = figure.add_subplot(111)\n",
    "    #ax1.set_title(f\"{expId}\")\n",
    "    im1 = ax1.imshow(data, cmap='gray', origin='lower', vmin=vmin, vmax=vmax)\n",
    "    ax1.tick_params(which=\"major\", direction=\"in\", top=True, right=True, labelsize=8)\n",
    "    divider = make_axes_locatable(ax1)\n",
    "    cax = divider.append_axes(\"right\", size=\"5%\", pad=0.05)\n",
    "    plt.colorbar(im1, cax=cax)\n",
    "    plt.tight_layout()\n",
    "    #plt.show()\n",
    "    return figure, vmin, vmax\n",
    "\n",
    "def repairCosmics(postIsr):\n",
    "    # Borrowed from summit utils\n",
    "    if postIsr.getPsf() is None:\n",
    "        installPsfTask = InstallGaussianPsfTask()\n",
    "        installPsfTask.run(postIsr)\n",
    "\n",
    "    # TODO: try adding a reasonably wide Gaussian as a temp PSF\n",
    "    # and then just running repairTask on its own without any\n",
    "    # imChar. It should work, and be faster.\n",
    "    repairConfig = CharacterizeImageTask.ConfigClass()\n",
    "    repairConfig.doMeasurePsf = False\n",
    "    repairConfig.doApCorr = False\n",
    "    repairConfig.doDeblend = False\n",
    "    repairConfig.doWrite = False\n",
    "    repairConfig.repair.cosmicray.nCrPixelMax = 200000\n",
    "    repairTask = CharacterizeImageTask(config=repairConfig)\n",
    "    repairTask.repair.run(postIsr)\n",
    "    return\n",
    "\n",
    "def fitPlane(exp):\n",
    "    x = np.arange(0,exp.image.array.shape[0])\n",
    "    y = np.arange(0,exp.image.array.shape[1])\n",
    "    X, Y = np.meshgrid(y, x)\n",
    "    xRavel, yRavel = X.ravel(), Y.ravel()\n",
    "    basis = []\n",
    "    order = 1\n",
    "    for i in range(order+1):\n",
    "        for j in range(order - i +1):\n",
    "            basis.append(xRavel**j * yRavel**i)\n",
    "    A = np.vstack(basis).T\n",
    "    b = exp.image.array.ravel()\n",
    "    c, r, rank, s = np.linalg.lstsq(A, b, rcond=None)\n",
    "    plane = c[0] + c[1] * X + c[2] * Y\n",
    "    return plane\n",
    " \n",
    "def correctGains(exp):\n",
    "    plane = fitPlane(exp)\n",
    "    xCut = 50\n",
    "    yCut = 500\n",
    "    corrs = {}\n",
    "    ratioSum = 0\n",
    "    for amp in exp.getDetector().getAmplifiers():\n",
    "        ampName = amp.getName()\n",
    "        bbox = amp.getBBox()\n",
    "        xmin = bbox.beginX + xCut\n",
    "        xmax = bbox.endX - xCut\n",
    "        ymin = bbox.beginY + yCut\n",
    "        ymax = bbox.endY - yCut\n",
    "        imMedian = np.median(exp.image.array[ymin:ymax,xmin:xmax])\n",
    "        planeMedian = np.median(plane[ymin:ymax,xmin:xmax])\n",
    "        ratio = planeMedian / imMedian\n",
    "        ratioSum += ratio\n",
    "        corrs[ampName] = ratio\n",
    "    factor = ratioSum / 16.0\n",
    "    for amp in exp.getDetector().getAmplifiers():\n",
    "        ampName = amp.getName()\n",
    "        corrs[ampName] /= factor\n",
    "        print(ampName, corrs[ampName])\n",
    "    return corrs\n",
    "    \n",
    "    \n",
    "    \n",
    "def correctGainsOld(exp):\n",
    "    xskip = 20\n",
    "    yskip = 100\n",
    "    xfitVals = (1000, 3000)\n",
    "    corrs = {}\n",
    "    xfit = np.arange(xfitVals[0], xfitVals[1]) # Only fit the middle amps\n",
    "    for amp in exp.getDetector().getAmplifiers():\n",
    "        xmin = amp.getBBox().beginX + xskip\n",
    "        xmax = amp.getBBox().endX - xskip\n",
    "        ymin = amp.getBBox().beginY + yskip\n",
    "        ymax = amp.getBBox().endY - yskip\n",
    "        xvals = np.median(exp.image.array[ymin:ymax, 0:4000], axis=0)\n",
    "        fit = np.polyfit(xfit, xvals[xfitVals[0]:xfitVals[1]], 1)\n",
    "        xplot = np.arange(0, 4000)\n",
    "        yplot = xplot * fit[0] + fit[1]\n",
    "        corr = np.median((xvals/yplot)[xmin:xmax])\n",
    "        print(amp.getName(), corr)\n",
    "        #plt.plot(xvals, label=\"PostISR\")\n",
    "        #plt.plot(xplot, yplot, color='red', ls='--')\n",
    "        #plt.ylim(1400, 1520)\n",
    "        #break\n",
    "        corrs[amp.getName()] = corr\n",
    "    # Vertical correction\n",
    "    # This needs more work\n",
    "    \"\"\"\n",
    "    yvals = np.median(isrResult.exposure.image.array[0:4000, 100:3900], axis=1)\n",
    "    yfitVals = (500, 1900)\n",
    "    ycalcVals = (2100, 3000)\n",
    "    yfit = np.arange(yfitVals[0], yfitVals[1])\n",
    "    fit = np.polyfit(yfit, yvals[yfitVals[0]:yfitVals[1]], 1)\n",
    "    xplot = np.arange(0, 4000)\n",
    "    yplot = xplot * fit[0] + fit[1]\n",
    "    verticalCorr = np.median((yvals/yplot)[ycalcVals[0]:ycalcVals[1]])\n",
    "    for amp in exp.getDetector().getAmplifiers():\n",
    "        ymin = amp.getBBox().beginY + yskip\n",
    "        if ymin > 1000.0:\n",
    "            corrs[amp.getName()] *= verticalCorr\n",
    "    \"\"\"        \n",
    "    return corrs\n"
   ]
  },
  {
   "cell_type": "code",
   "execution_count": null,
   "id": "558e3838-4aea-48e2-9629-5b1f60b2fbaf",
   "metadata": {
    "execution": {
     "iopub.execute_input": "2023-01-20T22:19:56.876826Z",
     "iopub.status.busy": "2023-01-20T22:19:56.876512Z",
     "iopub.status.idle": "2023-01-20T22:20:03.793309Z",
     "shell.execute_reply": "2023-01-20T22:20:03.792652Z",
     "shell.execute_reply.started": "2023-01-20T22:19:56.876808Z"
    },
    "tags": []
   },
   "outputs": [],
   "source": [
    "butler = Butler(\"/repo/main\", collections=[\"LSSTCam/raw/all\",\"u/cslage/calib/13144/calib.20220107\"])\n",
    "biasButler = Butler(\"/repo/main\", collections=[\"u/cslage/bias_parallel_13144_B_17jan23\"])"
   ]
  },
  {
   "cell_type": "code",
   "execution_count": null,
   "id": "ac370c47-f159-4dcf-8d42-99833c98c37c",
   "metadata": {
    "execution": {
     "iopub.execute_input": "2023-01-20T22:51:46.980411Z",
     "iopub.status.busy": "2023-01-20T22:51:46.980097Z",
     "iopub.status.idle": "2023-01-20T22:51:46.983254Z",
     "shell.execute_reply": "2023-01-20T22:51:46.982755Z",
     "shell.execute_reply.started": "2023-01-20T22:51:46.980391Z"
    },
    "tags": []
   },
   "outputs": [],
   "source": [
    "expId = 3021120700773\n",
    "detector = 55"
   ]
  },
  {
   "cell_type": "code",
   "execution_count": null,
   "id": "5fdbc6a3-4691-4baa-b8bd-c182b8e51de9",
   "metadata": {
    "execution": {
     "iopub.execute_input": "2023-01-20T22:20:03.829585Z",
     "iopub.status.busy": "2023-01-20T22:20:03.829199Z",
     "iopub.status.idle": "2023-01-20T22:20:03.858010Z",
     "shell.execute_reply": "2023-01-20T22:20:03.857473Z",
     "shell.execute_reply.started": "2023-01-20T22:20:03.829567Z"
    },
    "tags": []
   },
   "outputs": [],
   "source": [
    "isrConfig = IsrTaskConfig()\n",
    "isrConfig.overscan.fitType=\"MEDIAN_PER_ROW\"\n",
    "isrConfig.overscan.doParallelOverscan=True\n",
    "isrConfig.doLinearize=True\n",
    "isrConfig.doOverscan=True\n",
    "isrConfig.doAssembleCcd=True\n",
    "isrConfig.doBias=True\n",
    "isrConfig.doVariance=True\n",
    "isrConfig.doBrighterFatter=False\n",
    "isrConfig.doDark=True\n",
    "isrConfig.doStrayLight=False\n",
    "isrConfig.doFlat=False\n",
    "isrConfig.doFringe=False\n",
    "isrConfig.doApplyGains=True\n",
    "isrConfig.usePtcGains=True\n",
    "isrConfig.doDefect=True\n",
    "isrConfig.doDeferredCharge=True\n",
    "isrConfig.doNanMasking=True\n",
    "isrConfig.doInterpolate=True\n",
    "isrConfig.doSaturation=True\n",
    "isrConfig.doSaturationInterpolation=True\n",
    "isrConfig.doWrite=False\n",
    "isrTask = IsrTask(config=isrConfig)"
   ]
  },
  {
   "cell_type": "markdown",
   "id": "689f62fe-d52b-4502-859d-eb0a3f699e55",
   "metadata": {},
   "source": [
    "## Run first to get the gain corrections"
   ]
  },
  {
   "cell_type": "code",
   "execution_count": null,
   "id": "c206ab7d-47cf-4cfb-83c6-25b08bf52d19",
   "metadata": {
    "execution": {
     "iopub.execute_input": "2023-01-20T22:20:03.860009Z",
     "iopub.status.busy": "2023-01-20T22:20:03.859710Z",
     "iopub.status.idle": "2023-01-20T22:20:07.627104Z",
     "shell.execute_reply": "2023-01-20T22:20:07.626455Z",
     "shell.execute_reply.started": "2023-01-20T22:20:03.859994Z"
    },
    "tags": []
   },
   "outputs": [],
   "source": [
    "# Zero the gain correction\n",
    "exp = butler.get('raw', detector=detector, exposure=expId, instrument=\"LSSTCam\")\n",
    "corrs = {}\n",
    "for amp in exp.getDetector().getAmplifiers():\n",
    "    corrs[amp.getName()] = 1.0"
   ]
  },
  {
   "cell_type": "code",
   "execution_count": null,
   "id": "7da2e2d4-79fa-43ed-9ab0-daeca1885d3c",
   "metadata": {
    "execution": {
     "iopub.execute_input": "2023-01-20T22:51:58.862004Z",
     "iopub.status.busy": "2023-01-20T22:51:58.861693Z",
     "iopub.status.idle": "2023-01-20T22:52:15.140562Z",
     "shell.execute_reply": "2023-01-20T22:52:15.139935Z",
     "shell.execute_reply.started": "2023-01-20T22:51:58.861985Z"
    },
    "tags": []
   },
   "outputs": [],
   "source": [
    "exp = butler.get('raw', detector=detector, exposure=expId, instrument=\"LSSTCam\")\n",
    "bias = biasButler.get('bias', detector=detector, exposure=expId, instrument=\"LSSTCam\")\n",
    "flat = butler.get('flat', detector=detector, exposure=expId, instrument=\"LSSTCam\")\n",
    "dark = butler.get('dark', detector=detector, exposure=expId, instrument=\"LSSTCam\")\n",
    "defects = butler.get('defects', detector=detector, exposure=expId, instrument=\"LSSTCam\")\n",
    "ptc = butler.get('ptc', detector=detector, exposure=expId, instrument=\"LSSTCam\")\n",
    "linearizer = butler.get('linearizer', detector=detector, exposure=expId, instrument=\"LSSTCam\")\n",
    "deferredChargeCalib = butler.get('cpCtiCalib', detector=detector, exposure=expId, instrument=\"LSSTCam\")\n",
    "\n",
    "\n",
    "isrResult = isrTask.run(exp, bias=bias, flat=flat, dark=dark, defects=defects, \\\n",
    "                        ptc=ptc, linearizer=linearizer, deferredChargeCalib=deferredChargeCalib)\n",
    "\n",
    "postIsrExp = isrResult.exposure\n",
    "#repairCosmics(postIsrExp)\n",
    "fig, vmin, vmax = plotExp(postIsrExp, expId)\n",
    "#plt.savefig(f\"/home/c/cslage/u/BOT_LSSTCam/isr_challenge/Challenge_{detector}_{expId}_17Jan23.png\")"
   ]
  },
  {
   "cell_type": "code",
   "execution_count": null,
   "id": "4161b316-4115-4d0c-b410-448b909742e9",
   "metadata": {
    "execution": {
     "iopub.execute_input": "2023-01-20T23:14:53.205104Z",
     "iopub.status.busy": "2023-01-20T23:14:53.204677Z",
     "iopub.status.idle": "2023-01-20T23:14:53.834901Z",
     "shell.execute_reply": "2023-01-20T23:14:53.834262Z",
     "shell.execute_reply.started": "2023-01-20T23:14:53.205083Z"
    },
    "tags": []
   },
   "outputs": [],
   "source": [
    "fig = plt.figure()\n",
    "plt.subplots_adjust(hspace=0.5, wspace=0.5)\n",
    "rawPlot = np.median(isrResult.exposure.image.array[2100:3900, 0:4000], axis=0)\n",
    "xplot1 = np.arange(520, 3500)\n",
    "vals = np.polyfit(xplot1, rawPlot[520:3500], 1)\n",
    "xplot2 = np.arange(0, 4000)\n",
    "yplot = xplot2 * vals[0] + vals[1]\n",
    "plt.subplot(2,1,1)\n",
    "plt.title(f\"Median Flat Level - Top - {expId}\")\n",
    "plt.plot(rawPlot, label=\"PostISR\")\n",
    "plt.plot(xplot2, yplot, color='red', ls='--', lw=2, label=\"Fit\")\n",
    "for i in range(8):\n",
    "    x = 509 * i\n",
    "    plt.plot([x, x], [vmin, vmax], ls = '--', lw=1, color = 'black')\n",
    "plt.xlim(0,4000)\n",
    "plt.ylim(vmin, vmax)\n",
    "plt.legend()\n",
    "plt.xlabel(\"X coord (pixels)\")\n",
    "plt.ylabel(\"ADU\")\n",
    "xtext = 4200\n",
    "ytext = vmax\n",
    "plt.text(xtext, ytext, \"Gain adjustments:\")\n",
    "for amp in exp.getDetector().getAmplifiers():\n",
    "    ytext -= vmax/100\n",
    "    plt.text(xtext, ytext, f\"{amp.getName()}: {(corrs[amp.getName()] - 1.0) * 100.0:.2f}%\")\n",
    "rawPlot = np.median(isrResult.exposure.image.array[100:1900, 0:4000], axis=0)\n",
    "xplot1 = np.arange(520, 3500)\n",
    "vals = np.polyfit(xplot1, rawPlot[520:3500], 1)\n",
    "xplot2 = np.arange(0, 4000)\n",
    "yplot = xplot2 * vals[0] + vals[1]\n",
    "plt.subplot(2,1,2)\n",
    "plt.title(f\"Median Flat Level - Bottom - {expId}\")\n",
    "plt.plot(rawPlot, label=\"PostISR\")\n",
    "plt.plot(xplot2, yplot, color='red', ls='--', lw=2, label=\"Fit\")\n",
    "for i in range(8):\n",
    "    x = 509 * i\n",
    "    plt.plot([x, x], [vmin, vmax], ls = '--', lw=1, color = 'black')\n",
    "plt.xlim(0,4000)\n",
    "plt.ylim(vmin, vmax)\n",
    "plt.legend()\n",
    "plt.xlabel(\"X coord (pixels)\")\n",
    "plt.ylabel(\"ADU\")\n",
    "\n",
    "#fig.savefig(f\"/home/c/cslage/u/BOT_LSSTCam/isr_challenge/Challenge_{detector}_{expId}_Scan_17Jan23.png\")"
   ]
  },
  {
   "cell_type": "code",
   "execution_count": null,
   "id": "aa7a798b-9ee0-46ea-9159-2250b262218b",
   "metadata": {
    "execution": {
     "iopub.execute_input": "2023-01-20T23:15:30.155488Z",
     "iopub.status.busy": "2023-01-20T23:15:30.154778Z",
     "iopub.status.idle": "2023-01-20T23:15:31.804674Z",
     "shell.execute_reply": "2023-01-20T23:15:31.803981Z",
     "shell.execute_reply.started": "2023-01-20T23:15:30.155466Z"
    }
   },
   "outputs": [],
   "source": [
    "plane = fitPlane(postIsrExp)"
   ]
  },
  {
   "cell_type": "code",
   "execution_count": null,
   "id": "b048614e-6a73-4e95-bcc8-581754beb307",
   "metadata": {
    "execution": {
     "iopub.execute_input": "2023-01-20T23:14:53.205104Z",
     "iopub.status.busy": "2023-01-20T23:14:53.204677Z",
     "iopub.status.idle": "2023-01-20T23:14:53.834901Z",
     "shell.execute_reply": "2023-01-20T23:14:53.834262Z",
     "shell.execute_reply.started": "2023-01-20T23:14:53.205083Z"
    },
    "tags": []
   },
   "outputs": [],
   "source": [
    "fig = plt.figure()\n",
    "plt.subplots_adjust(hspace=0.5, wspace=0.5)\n",
    "rawPlot = np.median(isrResult.exposure.image.array[2100:3900, 0:4000], axis=0)\n",
    "planePlot = np.median(plane[2100:3900, 0:4000], axis=0)\n",
    "plt.subplot(2,1,1)\n",
    "plt.title(f\"Median Flat Level - Top - {expId}\")\n",
    "plt.plot(rawPlot, label=\"PostISR\")\n",
    "plt.plot(planePl, color='red', ls='--', lw=2, label=\"Fit\")\n",
    "for i in range(8):\n",
    "    x = 509 * i\n",
    "    plt.plot([x, x], [vmin, vmax], ls = '--', lw=1, color = 'black')\n",
    "plt.xlim(0,4000)\n",
    "plt.ylim(vmin, vmax)\n",
    "plt.legend()\n",
    "plt.xlabel(\"X coord (pixels)\")\n",
    "plt.ylabel(\"ADU\")\n",
    "xtext = 4200\n",
    "ytext = vmax\n",
    "plt.text(xtext, ytext, \"Gain adjustments:\")\n",
    "for amp in exp.getDetector().getAmplifiers():\n",
    "    ytext -= vmax/100\n",
    "    plt.text(xtext, ytext, f\"{amp.getName()}: {(corrs[amp.getName()] - 1.0) * 100.0:.2f}%\")\n",
    "rawPlot = np.median(isrResult.exposure.image.array[100:1900, 0:4000], axis=0)\n",
    "xplot1 = np.arange(520, 3500)\n",
    "vals = np.polyfit(xplot1, rawPlot[520:3500], 1)\n",
    "xplot2 = np.arange(0, 4000)\n",
    "yplot = xplot2 * vals[0] + vals[1]\n",
    "plt.subplot(2,1,2)\n",
    "plt.title(f\"Median Flat Level - Bottom - {expId}\")\n",
    "plt.plot(rawPlot, label=\"PostISR\")\n",
    "plt.plot(xplot2, yplot, color='red', ls='--', lw=2, label=\"Fit\")\n",
    "for i in range(8):\n",
    "    x = 509 * i\n",
    "    plt.plot([x, x], [vmin, vmax], ls = '--', lw=1, color = 'black')\n",
    "plt.xlim(0,4000)\n",
    "plt.ylim(vmin, vmax)\n",
    "plt.legend()\n",
    "plt.xlabel(\"X coord (pixels)\")\n",
    "plt.ylabel(\"ADU\")\n",
    "\n",
    "#fig.savefig(f\"/home/c/cslage/u/BOT_LSSTCam/isr_challenge/Challenge_{detector}_{expId}_Scan_17Jan23.png\")"
   ]
  },
  {
   "cell_type": "code",
   "execution_count": null,
   "id": "fcacf616-a07f-4c86-bbe1-8bdc1549e6a3",
   "metadata": {
    "execution": {
     "iopub.execute_input": "2023-01-20T22:44:46.087349Z",
     "iopub.status.busy": "2023-01-20T22:44:46.086938Z",
     "iopub.status.idle": "2023-01-20T22:44:46.328554Z",
     "shell.execute_reply": "2023-01-20T22:44:46.327867Z",
     "shell.execute_reply.started": "2023-01-20T22:44:46.087329Z"
    },
    "tags": []
   },
   "outputs": [],
   "source": [
    "# Try with the plane code\n",
    "x = np.arange(0,postIsrExp.image.array.shape[0])\n",
    "y = np.arange(0,postIsrExp.image.array.shape[1])\n",
    "X, Y = np.meshgrid(y, x)\n",
    "xRavel, yRavel = X.ravel(), Y.ravel()\n",
    "basis = []\n",
    "order = 1\n",
    "for i in range(order+1):\n",
    "    for j in range(order - i +1):\n",
    "        basis.append(xRavel**j * yRavel**i)\n"
   ]
  },
  {
   "cell_type": "code",
   "execution_count": null,
   "id": "08702941-e447-4824-afc2-7eaf667587ec",
   "metadata": {
    "execution": {
     "iopub.execute_input": "2023-01-20T22:44:47.372650Z",
     "iopub.status.busy": "2023-01-20T22:44:47.371951Z",
     "iopub.status.idle": "2023-01-20T22:44:47.376084Z",
     "shell.execute_reply": "2023-01-20T22:44:47.375546Z",
     "shell.execute_reply.started": "2023-01-20T22:44:47.372630Z"
    },
    "tags": []
   },
   "outputs": [],
   "source": [
    "def fitPlane(arr, basis):\n"
   ]
  },
  {
   "cell_type": "code",
   "execution_count": null,
   "id": "9ab5594a-5ed6-4615-b589-457829ad7657",
   "metadata": {},
   "outputs": [],
   "source": [
    "def fitPlane(exp):\n",
    "    x = np.arange(0,exp.image.array.shape[0])\n",
    "    y = np.arange(0,exp.image.array.shape[1])\n",
    "    X, Y = np.meshgrid(y, x)\n",
    "    xRavel, yRavel = X.ravel(), Y.ravel()\n",
    "    basis = []\n",
    "    order = 1\n",
    "    for i in range(order+1):\n",
    "        for j in range(order - i +1):\n",
    "            basis.append(xRavel**j * yRavel**i)\n",
    "\n",
    "    A = np.vstack(basis).T\n",
    "    b = arr.ravel()\n",
    "    c, r, rank, s = np.linalg.lstsq(A, b, rcond=None)\n",
    "    plane = c[0] + c[1] * X + c[2] * Y\n",
    "    return plane\n",
    "    "
   ]
  },
  {
   "cell_type": "code",
   "execution_count": null,
   "id": "8cbbce6b-1ae5-4f61-b44d-02d7a51a600e",
   "metadata": {
    "execution": {
     "iopub.execute_input": "2023-01-20T22:44:48.233772Z",
     "iopub.status.busy": "2023-01-20T22:44:48.233349Z",
     "iopub.status.idle": "2023-01-20T22:44:49.427683Z",
     "shell.execute_reply": "2023-01-20T22:44:49.427121Z",
     "shell.execute_reply.started": "2023-01-20T22:44:48.233750Z"
    },
    "tags": []
   },
   "outputs": [],
   "source": [
    "c = fitPlane(postIsrExp.image.array, basis)"
   ]
  },
  {
   "cell_type": "code",
   "execution_count": null,
   "id": "00c27362-4778-4fea-8352-4b5629d00457",
   "metadata": {
    "execution": {
     "iopub.execute_input": "2023-01-20T22:44:49.454537Z",
     "iopub.status.busy": "2023-01-20T22:44:49.454357Z",
     "iopub.status.idle": "2023-01-20T22:44:51.447066Z",
     "shell.execute_reply": "2023-01-20T22:44:51.446373Z",
     "shell.execute_reply.started": "2023-01-20T22:44:49.454520Z"
    },
    "tags": []
   },
   "outputs": [],
   "source": [
    "\n",
    "plotArr(plane)"
   ]
  },
  {
   "cell_type": "code",
   "execution_count": null,
   "id": "2061ebe3-6e5b-44ee-bb8d-34ef9e985b8c",
   "metadata": {
    "execution": {
     "iopub.execute_input": "2023-01-20T22:44:59.569007Z",
     "iopub.status.busy": "2023-01-20T22:44:59.568600Z",
     "iopub.status.idle": "2023-01-20T22:45:00.054692Z",
     "shell.execute_reply": "2023-01-20T22:45:00.054032Z",
     "shell.execute_reply.started": "2023-01-20T22:44:59.568987Z"
    },
    "tags": []
   },
   "outputs": [],
   "source": [
    "fig = plt.figure()\n",
    "plt.subplots_adjust(hspace=0.5, wspace=0.5)\n",
    "rawPlot = np.median(postIsrExp.image.array[3000:3200, 0:4000], axis=0)\n",
    "xplot1 = np.arange(520, 3500)\n",
    "vals = np.polyfit(xplot1, rawPlot[520:3500], 1)\n",
    "xplot2 = np.arange(0, 4000)\n",
    "#yplot = xplot2 * vals[0] + vals[1]\n",
    "yplot = c[0] + c[1] * xplot2 + c[2] * 3100.0\n",
    "plt.subplot(2,1,1)\n",
    "plt.title(f\"Median Flat Level - Top - {expId}\")\n",
    "plt.plot(rawPlot, label=\"PostISR\")\n",
    "plt.plot(xplot2, yplot, color='red', ls='--', lw=2, label=\"Fit\")\n",
    "for i in range(8):\n",
    "    x = 509 * i\n",
    "    plt.plot([x, x], [vmin, vmax], ls = '--', lw=1, color = 'black')\n",
    "plt.xlim(0,4000)\n",
    "plt.ylim(vmin, vmax)\n",
    "plt.legend()\n",
    "plt.xlabel(\"X coord (pixels)\")\n",
    "plt.ylabel(\"ADU\")\n",
    "xtext = 4200\n",
    "ytext = vmax\n",
    "plt.text(xtext, ytext, \"Gain adjustments:\")\n",
    "for amp in exp.getDetector().getAmplifiers():\n",
    "    ytext -= vmax/100\n",
    "    plt.text(xtext, ytext, f\"{amp.getName()}: {(corrs[amp.getName()] - 1.0) * 100.0:.2f}%\")\n",
    "rawPlot = np.median(postIsrExp.image.array[1000:1200, 0:4000], axis=0)\n",
    "xplot1 = np.arange(520, 3500)\n",
    "vals = np.polyfit(xplot1, rawPlot[520:3500], 1)\n",
    "xplot2 = np.arange(0, 4000)\n",
    "#yplot = xplot2 * vals[0] + vals[1]\n",
    "yplot = c[0] + c[1] * xplot2 + c[2] * 1100.0\n",
    "plt.subplot(2,1,2)\n",
    "plt.title(f\"Median Flat Level - Bottom - {expId}\")\n",
    "plt.plot(rawPlot, label=\"PostISR\")\n",
    "plt.plot(xplot2, yplot, color='red', ls='--', lw=2, label=\"Fit\")\n",
    "for i in range(8):\n",
    "    x = 509 * i\n",
    "    plt.plot([x, x], [vmin, vmax], ls = '--', lw=1, color = 'black')\n",
    "plt.xlim(0,4000)\n",
    "plt.ylim(vmin, vmax)\n",
    "plt.legend()\n",
    "plt.xlabel(\"X coord (pixels)\")\n",
    "plt.ylabel(\"ADU\")\n",
    "\n",
    "#fig.savefig(f\"/home/c/cslage/u/BOT_LSSTCam/isr_challenge/Challenge_{detector}_{expId}_Scan_17Jan23.png\")"
   ]
  },
  {
   "cell_type": "code",
   "execution_count": null,
   "id": "9dfedfc5-2d24-4cb3-96aa-f9d36b7b4fe5",
   "metadata": {
    "execution": {
     "iopub.execute_input": "2023-01-20T23:01:22.276468Z",
     "iopub.status.busy": "2023-01-20T23:01:22.276021Z",
     "iopub.status.idle": "2023-01-20T23:01:23.814576Z",
     "shell.execute_reply": "2023-01-20T23:01:23.813862Z",
     "shell.execute_reply.started": "2023-01-20T23:01:22.276448Z"
    }
   },
   "outputs": [],
   "source": [
    "plane = fitPlane(postIsrExp)"
   ]
  },
  {
   "cell_type": "code",
   "execution_count": null,
   "id": "d41c05e8-8d7f-448b-a864-9e6a0ade5d15",
   "metadata": {
    "execution": {
     "iopub.execute_input": "2023-01-20T23:01:29.238775Z",
     "iopub.status.busy": "2023-01-20T23:01:29.238360Z",
     "iopub.status.idle": "2023-01-20T23:01:29.341195Z",
     "shell.execute_reply": "2023-01-20T23:01:29.340493Z",
     "shell.execute_reply.started": "2023-01-20T23:01:29.238753Z"
    },
    "tags": []
   },
   "outputs": [],
   "source": [
    "xCut = 50\n",
    "yCut = 500\n",
    "corrs_new = {}\n",
    "for amp in postIsrExp.getDetector().getAmplifiers():\n",
    "    ampName = amp.getName()\n",
    "    bbox = amp.getBBox()\n",
    "    xmin = bbox.beginX + xCut\n",
    "    xmax = bbox.endX - xCut\n",
    "    ymin = bbox.beginY + yCut\n",
    "    ymax = bbox.endY - yCut\n",
    "    imMedian = np.median(postIsrExp.image.array[ymin:ymax,xmin:xmax])\n",
    "    planeMedian = np.median(plane[ymin:ymax,xmin:xmax])\n",
    "    ratio = imMedian / planeMedian\n",
    "    print(ampName, ratio)\n",
    "    corrs_new[ampName] = ratio"
   ]
  },
  {
   "cell_type": "code",
   "execution_count": null,
   "id": "c7c0c55d-179c-4986-9f70-bbc6f4c4f06e",
   "metadata": {},
   "outputs": [],
   "source": [
    "bbox."
   ]
  },
  {
   "cell_type": "code",
   "execution_count": null,
   "id": "721939ae-5480-4aa4-9e77-4e76fdedfd54",
   "metadata": {},
   "outputs": [],
   "source": []
  },
  {
   "cell_type": "code",
   "execution_count": null,
   "id": "4138655b-7643-4940-815e-cd4678145e88",
   "metadata": {},
   "outputs": [],
   "source": []
  },
  {
   "cell_type": "code",
   "execution_count": null,
   "id": "eec148f7-40db-42af-9cb8-69b222196979",
   "metadata": {},
   "outputs": [],
   "source": []
  },
  {
   "cell_type": "code",
   "execution_count": null,
   "id": "b43f7446-ed2e-49d6-8c87-279709ff5f1a",
   "metadata": {
    "execution": {
     "iopub.execute_input": "2023-01-20T21:07:21.165892Z",
     "iopub.status.busy": "2023-01-20T21:07:21.165492Z",
     "iopub.status.idle": "2023-01-20T21:07:21.238666Z",
     "shell.execute_reply": "2023-01-20T21:07:21.238076Z",
     "shell.execute_reply.started": "2023-01-20T21:07:21.165871Z"
    }
   },
   "outputs": [],
   "source": [
    "np.sum((postIsrExp.image.array - plane) * (postIsrExp.image.array - plane))"
   ]
  },
  {
   "cell_type": "code",
   "execution_count": null,
   "id": "c70472db-eed0-4796-82c4-dd89678ae367",
   "metadata": {
    "execution": {
     "iopub.execute_input": "2023-01-20T21:14:00.577952Z",
     "iopub.status.busy": "2023-01-20T21:14:00.577553Z",
     "iopub.status.idle": "2023-01-20T21:14:02.006298Z",
     "shell.execute_reply": "2023-01-20T21:14:02.005634Z",
     "shell.execute_reply.started": "2023-01-20T21:14:00.577931Z"
    },
    "tags": []
   },
   "outputs": [],
   "source": [
    "clone = postIsrExp.clone()\n",
    "for amp in clone.getDetector().getAmplifiers(): \n",
    "    clone[amp.getBBox()].image.array /= corrs_old[amp.getName()]\n",
    "c = fitPlane(clone.image.array, basis)\n",
    "plane = c[0] + c[1] * X + c[2] * Y # Inverted because it always is."
   ]
  },
  {
   "cell_type": "code",
   "execution_count": null,
   "id": "5db46d4a-d2a6-4ee2-a97a-980893dd48bc",
   "metadata": {
    "execution": {
     "iopub.execute_input": "2023-01-20T21:14:23.712073Z",
     "iopub.status.busy": "2023-01-20T21:14:23.711670Z",
     "iopub.status.idle": "2023-01-20T21:14:23.783594Z",
     "shell.execute_reply": "2023-01-20T21:14:23.783010Z",
     "shell.execute_reply.started": "2023-01-20T21:14:23.712050Z"
    }
   },
   "outputs": [],
   "source": [
    "np.sum((clone.image.array - plane) * (clone.image.array - plane))"
   ]
  },
  {
   "cell_type": "markdown",
   "id": "36f0eaa3-1b6a-46cd-a35f-4b26da8517ea",
   "metadata": {
    "execution": {
     "iopub.execute_input": "2023-01-17T18:11:46.137113Z",
     "iopub.status.busy": "2023-01-17T18:11:46.136684Z",
     "iopub.status.idle": "2023-01-17T18:11:46.139788Z",
     "shell.execute_reply": "2023-01-17T18:11:46.139345Z",
     "shell.execute_reply.started": "2023-01-17T18:11:46.137086Z"
    },
    "tags": []
   },
   "source": [
    "## Now correct the gains and run again."
   ]
  },
  {
   "cell_type": "code",
   "execution_count": null,
   "id": "4bf59084-919c-4313-ad97-c3182e5344ae",
   "metadata": {
    "execution": {
     "iopub.execute_input": "2023-01-20T23:11:17.822665Z",
     "iopub.status.busy": "2023-01-20T23:11:17.822273Z",
     "iopub.status.idle": "2023-01-20T23:11:19.498597Z",
     "shell.execute_reply": "2023-01-20T23:11:19.497875Z",
     "shell.execute_reply.started": "2023-01-20T23:11:17.822645Z"
    },
    "tags": []
   },
   "outputs": [],
   "source": [
    "corrs = correctGains(postIsrExp)"
   ]
  },
  {
   "cell_type": "code",
   "execution_count": null,
   "id": "9d5b921f-fc2b-40be-8616-850fdd54c3ba",
   "metadata": {
    "execution": {
     "iopub.execute_input": "2023-01-20T23:11:40.373662Z",
     "iopub.status.busy": "2023-01-20T23:11:40.373271Z",
     "iopub.status.idle": "2023-01-20T23:11:40.377656Z",
     "shell.execute_reply": "2023-01-20T23:11:40.377098Z",
     "shell.execute_reply.started": "2023-01-20T23:11:40.373641Z"
    },
    "tags": []
   },
   "outputs": [],
   "source": [
    "sum = 0.0\n",
    "for amp in postIsrExp.getDetector().getAmplifiers():\n",
    "    ampName = amp.getName()\n",
    "    sum += corrs[ampName]\n",
    "print(sum / 16.0)\n"
   ]
  },
  {
   "cell_type": "code",
   "execution_count": null,
   "id": "50ae40b2-b711-435e-9423-3085bff83c56",
   "metadata": {
    "execution": {
     "iopub.execute_input": "2023-01-20T23:11:43.321176Z",
     "iopub.status.busy": "2023-01-20T23:11:43.320764Z",
     "iopub.status.idle": "2023-01-20T23:11:59.826723Z",
     "shell.execute_reply": "2023-01-20T23:11:59.826074Z",
     "shell.execute_reply.started": "2023-01-20T23:11:43.321152Z"
    },
    "tags": []
   },
   "outputs": [],
   "source": [
    "exp = butler.get('raw', detector=detector, exposure=expId, instrument=\"LSSTCam\")\n",
    "bias = biasButler.get('bias', detector=detector, exposure=expId, instrument=\"LSSTCam\")\n",
    "flat = butler.get('flat', detector=detector, exposure=expId, instrument=\"LSSTCam\")\n",
    "dark = butler.get('dark', detector=detector, exposure=expId, instrument=\"LSSTCam\")\n",
    "defects = butler.get('defects', detector=detector, exposure=expId, instrument=\"LSSTCam\")\n",
    "ptc = butler.get('ptc', detector=detector, exposure=expId, instrument=\"LSSTCam\")\n",
    "for amp in exp.getDetector().getAmplifiers():\n",
    "    #ptc.gain[amp.getName()] /= corrs_new[amp.getName()]\n",
    "    ptc.gain[amp.getName()] *= corrs[amp.getName()]\n",
    "linearizer = butler.get('linearizer', detector=detector, exposure=expId, instrument=\"LSSTCam\")\n",
    "deferredChargeCalib = butler.get('cpCtiCalib', detector=detector, exposure=expId, instrument=\"LSSTCam\")\n",
    "\n",
    "\n",
    "isrResult_new = isrTask.run(exp, bias=bias, flat=flat, dark=dark, defects=defects, \\\n",
    "                        ptc=ptc, linearizer=linearizer, deferredChargeCalib=deferredChargeCalib)\n",
    "\n",
    "postIsrExp_new = isrResult_new.exposure\n",
    "#repairCosmics(postIsrExp)\n",
    "fig, vmin, vmax = plotExp(postIsrExp_new, expId)\n",
    "#plt.savefig(f\"/home/c/cslage/u/BOT_LSSTCam/isr_challenge/Challenge_Gain_Corrected_{detector}_{expId}_17Jan23.png\")#"
   ]
  },
  {
   "cell_type": "code",
   "execution_count": null,
   "id": "52411901-38c7-48f9-b8f8-6f091f726c4e",
   "metadata": {
    "execution": {
     "iopub.execute_input": "2023-01-20T21:16:11.275366Z",
     "iopub.status.busy": "2023-01-20T21:16:11.274975Z",
     "iopub.status.idle": "2023-01-20T21:16:11.901982Z",
     "shell.execute_reply": "2023-01-20T21:16:11.901374Z",
     "shell.execute_reply.started": "2023-01-20T21:16:11.275346Z"
    },
    "tags": []
   },
   "outputs": [],
   "source": [
    "fig = plt.figure()\n",
    "plt.subplots_adjust(hspace=0.5, wspace=0.5)\n",
    "rawPlot = np.median(isrResult.exposure.image.array[2100:3900, 0:4000], axis=0)\n",
    "xplot1 = np.arange(520, 3500)\n",
    "vals = np.polyfit(xplot1, rawPlot[520:3500], 1)\n",
    "xplot2 = np.arange(0, 4000)\n",
    "yplot = xplot2 * vals[0] + vals[1]\n",
    "plt.subplot(2,1,1)\n",
    "plt.title(f\"Median Flat Level - Top - {expId}\")\n",
    "plt.plot(rawPlot, label=\"PostISR\")\n",
    "plt.plot(xplot2, yplot, color='red', ls='--', lw=2, label=\"Fit\")\n",
    "for i in range(8):\n",
    "    x = 509 * i\n",
    "    plt.plot([x, x], [vmin, vmax], ls = '--', lw=1, color = 'black')\n",
    "plt.xlim(0,4000)\n",
    "plt.ylim(vmin, vmax)\n",
    "plt.legend()\n",
    "plt.xlabel(\"X coord (pixels)\")\n",
    "plt.ylabel(\"ADU\")\n",
    "xtext = 4200\n",
    "ytext = vmax\n",
    "plt.text(xtext, ytext, \"Gain adjustments:\")\n",
    "for amp in exp.getDetector().getAmplifiers():\n",
    "    ytext -= vmax/100\n",
    "    plt.text(xtext, ytext, f\"{amp.getName()}: {(corrs[amp.getName()] - 1.0) * 100.0:.2f}%\")\n",
    "rawPlot = np.median(isrResult.exposure.image.array[100:1900, 0:4000], axis=0)\n",
    "xplot1 = np.arange(520, 3500)\n",
    "vals = np.polyfit(xplot1, rawPlot[520:3500], 1)\n",
    "xplot2 = np.arange(0, 4000)\n",
    "yplot = xplot2 * vals[0] + vals[1]\n",
    "plt.subplot(2,1,2)\n",
    "plt.title(f\"Median Flat Level - Bottom - {expId}\")\n",
    "plt.plot(rawPlot, label=\"PostISR\")\n",
    "plt.plot(xplot2, yplot, color='red', ls='--', lw=2, label=\"Fit\")\n",
    "for i in range(8):\n",
    "    x = 509 * i\n",
    "    plt.plot([x, x], [vmin, vmax], ls = '--', lw=1, color = 'black')\n",
    "plt.xlim(0,4000)\n",
    "plt.ylim(vmin, vmax)\n",
    "plt.legend()\n",
    "plt.xlabel(\"X coord (pixels)\")\n",
    "plt.ylabel(\"ADU\")\n",
    "\n",
    "#fig.savefig(f\"/home/c/cslage/u/BOT_LSSTCam/isr_challenge/Challenge_Gain_Corrected_{detector}_{expId}_Scan_17Jan23.png\")"
   ]
  },
  {
   "cell_type": "code",
   "execution_count": null,
   "id": "171a173b-5b8d-4f73-8adb-39e6704cda49",
   "metadata": {
    "execution": {
     "iopub.execute_input": "2023-01-17T19:43:49.192435Z",
     "iopub.status.busy": "2023-01-17T19:43:49.192145Z",
     "iopub.status.idle": "2023-01-17T19:43:49.442395Z",
     "shell.execute_reply": "2023-01-17T19:43:49.441797Z",
     "shell.execute_reply.started": "2023-01-17T19:43:49.192417Z"
    },
    "tags": []
   },
   "outputs": [],
   "source": [
    "# We're also going to need a top/bottom correction\n",
    "yvals = np.median(isrResult.exposure.image.array[0:4000, 100:3900], axis=1)\n",
    "plt.plot(yvals)\n",
    "yfitVals = (500, 1900)\n",
    "ycalcVals = (2100, 3000)\n",
    "yfit = np.arange(yfitVals[0], yfitVals[1])\n",
    "fit = np.polyfit(yfit, yvals[yfitVals[0]:yfitVals[1]], 1)\n",
    "xplot = np.arange(0, 4000)\n",
    "yplot = xplot * fit[0] + fit[1]\n",
    "plt.plot(xplot, yplot)\n",
    "plt.ylim(74000, 76000)\n",
    "verticalCorr = np.median((yvals/yplot)[ycalcVals[0]:ycalcVals[1]])\n",
    "print(verticalCorr)"
   ]
  },
  {
   "cell_type": "code",
   "execution_count": null,
   "id": "fa60080c-e15b-46c3-915e-ce99d13e9b86",
   "metadata": {
    "execution": {
     "iopub.execute_input": "2023-01-20T20:41:00.229399Z",
     "iopub.status.busy": "2023-01-20T20:41:00.229134Z",
     "iopub.status.idle": "2023-01-20T20:41:00.238152Z",
     "shell.execute_reply": "2023-01-20T20:41:00.237666Z",
     "shell.execute_reply.started": "2023-01-20T20:41:00.229378Z"
    },
    "tags": []
   },
   "outputs": [],
   "source": [
    "from scipy.optimize import minimize\n",
    "\n",
    "def fitPlane(arr, basis):\n",
    "    A = np.vstack(basis).T\n",
    "    b = arr.ravel()\n",
    "    c, r, rank, s = np.linalg.lstsq(A, b, rcond=None)\n",
    "    return c\n",
    "\n",
    "def calcError(corrs, args):\n",
    "    [exp, basis, X, Y] = args\n",
    "    # Multiply each amp by the gain correction factor\n",
    "    clone = exp.clone()\n",
    "    ampCounter = 0\n",
    "    for amp in clone.getDetector().getAmplifiers(): \n",
    "        if amp.getName() == 'C04':\n",
    "            continue\n",
    "        clone[amp.getBBox()].image.array *= corrs[ampCounter]\n",
    "        ampCounter += 1\n",
    "    # Now fit the flux plane\n",
    "    arr = clone.image.array\n",
    "    c = fitPlane(arr, basis)\n",
    "    # Now calculate the least square error between the plane and the array\n",
    "    plane = c[0] + c[1] * X + c[2] * Y \n",
    "    error = np.sum((arr - plane) * (arr - plane))\n",
    "    print(f\"Error = {error:.5g}\")\n",
    "    return error\n",
    "\n",
    "\n",
    "def correctGains(exp):\n",
    "    minCorr = 0.99\n",
    "    maxCorr = 1.01\n",
    "    param0=[]\n",
    "    bounds=[]\n",
    "    for i in range(15):\n",
    "        param0.append(1.0)\n",
    "        bounds.append((minCorr, maxCorr))\n",
    "    x = np.arange(0,exp.image.array.shape[0])\n",
    "    y = np.arange(0,exp.image.array.shape[1])\n",
    "    X, Y = np.meshgrid(y, x)\n",
    "    xRavel, yRavel = X.ravel(), Y.ravel()\n",
    "    basis = []\n",
    "    order = 1\n",
    "    for i in range(order+1):\n",
    "        for j in range(order - i +1):\n",
    "            basis.append(xRavel**j * yRavel**i)\n",
    "    args = [exp, basis, X, Y]\n",
    "    result = minimize(calcError, param0, args=args, method='Powell', bounds=bounds)\n",
    "    print(result)\n",
    "    corrs = {}\n",
    "    ampCounter = 0\n",
    "    for amp in exp.getDetector().getAmplifiers(): \n",
    "        ampName = amp.getName()\n",
    "        if ampName == 'C04':\n",
    "            corrs[ampName] = 1.0\n",
    "        else:\n",
    "            corrs[ampName] = result.x[ampCounter]\n",
    "            ampCounter += 1\n",
    "    return [corrs, result]\n"
   ]
  },
  {
   "cell_type": "code",
   "execution_count": null,
   "id": "7a57c536-7d4e-44d9-862d-f2aa8797cd3a",
   "metadata": {
    "execution": {
     "iopub.execute_input": "2023-01-20T20:41:03.747823Z",
     "iopub.status.busy": "2023-01-20T20:41:03.747410Z",
     "iopub.status.idle": "2023-01-20T20:53:26.576855Z",
     "shell.execute_reply": "2023-01-20T20:53:26.576195Z",
     "shell.execute_reply.started": "2023-01-20T20:41:03.747801Z"
    },
    "jupyter": {
     "outputs_hidden": true
    },
    "tags": []
   },
   "outputs": [],
   "source": [
    "[corrs, result] = correctGains(postIsrExp)"
   ]
  },
  {
   "cell_type": "code",
   "execution_count": null,
   "id": "972640de-21be-45e6-9c75-3f42d89bd877",
   "metadata": {
    "execution": {
     "iopub.execute_input": "2023-01-20T21:02:40.704018Z",
     "iopub.status.busy": "2023-01-20T21:02:40.703753Z",
     "iopub.status.idle": "2023-01-20T21:02:40.708375Z",
     "shell.execute_reply": "2023-01-20T21:02:40.707815Z",
     "shell.execute_reply.started": "2023-01-20T21:02:40.703998Z"
    },
    "tags": []
   },
   "outputs": [],
   "source": [
    "corrs"
   ]
  },
  {
   "cell_type": "code",
   "execution_count": null,
   "id": "6efcbc01-668b-4c85-86b4-cefc9c5497aa",
   "metadata": {
    "execution": {
     "iopub.execute_input": "2023-01-20T21:02:47.090197Z",
     "iopub.status.busy": "2023-01-20T21:02:47.089596Z",
     "iopub.status.idle": "2023-01-20T21:02:48.620117Z",
     "shell.execute_reply": "2023-01-20T21:02:48.619377Z",
     "shell.execute_reply.started": "2023-01-20T21:02:47.090176Z"
    },
    "tags": []
   },
   "outputs": [],
   "source": [
    "corrs_old = correctGainsOld(postIsrExp)"
   ]
  },
  {
   "cell_type": "code",
   "execution_count": null,
   "id": "3ab991e0-358a-4fac-9ad3-255fd8ad7a2e",
   "metadata": {
    "execution": {
     "iopub.execute_input": "2023-01-20T21:03:30.844569Z",
     "iopub.status.busy": "2023-01-20T21:03:30.843845Z",
     "iopub.status.idle": "2023-01-20T21:03:30.848707Z",
     "shell.execute_reply": "2023-01-20T21:03:30.848073Z",
     "shell.execute_reply.started": "2023-01-20T21:03:30.844546Z"
    },
    "tags": []
   },
   "outputs": [],
   "source": [
    "for amp in exp.getDetector().getAmplifiers(): \n",
    "    ampName = amp.getName()\n",
    "    print(ampName, corrs[ampName], 1.0/corrs_old[ampName]*corrs_old['C04'])"
   ]
  },
  {
   "cell_type": "code",
   "execution_count": null,
   "id": "18911956-4662-4ae8-8073-ff24636ec3e1",
   "metadata": {},
   "outputs": [],
   "source": []
  }
 ],
 "metadata": {
  "kernelspec": {
   "display_name": "LSST",
   "language": "python",
   "name": "lsst"
  },
  "language_info": {
   "codemirror_mode": {
    "name": "ipython",
    "version": 3
   },
   "file_extension": ".py",
   "mimetype": "text/x-python",
   "name": "python",
   "nbconvert_exporter": "python",
   "pygments_lexer": "ipython3",
   "version": "3.10.8"
  },
  "toc-autonumbering": false,
  "toc-showcode": false,
  "toc-showmarkdowntxt": true
 },
 "nbformat": 4,
 "nbformat_minor": 5
}
