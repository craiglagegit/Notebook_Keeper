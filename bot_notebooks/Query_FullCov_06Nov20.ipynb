{
 "cells": [
  {
   "cell_type": "markdown",
   "metadata": {},
   "source": [
    "# Notebook for interrogating FULLCOV data.\n",
    "\n",
    "Initially written 06 Nov 2020 by Craig Lage"
   ]
  },
  {
   "cell_type": "code",
   "execution_count": null,
   "metadata": {},
   "outputs": [],
   "source": [
    "! eups list -s | grep lsst_distrib\n",
    "! eups list -s cp_pipe"
   ]
  },
  {
   "cell_type": "code",
   "execution_count": null,
   "metadata": {},
   "outputs": [],
   "source": [
    "import sys, os, glob, subprocess\n",
    "import pickle as pkl\n",
    "import numpy as np\n",
    "import matplotlib.pyplot as plt\n",
    "import astropy.io.fits as pf\n",
    "from lsst.daf.persistence import Butler"
   ]
  },
  {
   "cell_type": "code",
   "execution_count": null,
   "metadata": {},
   "outputs": [],
   "source": [
    "run = '12673'\n",
    "DATA_DIR = '/project/shared/BOT/'\n",
    "REPO_DIR = '/project/shared/BOT/rerun/cslage/PTC_LSSTCAM_FullCov_12673T'\n",
    "DETECTOR = 1\n",
    "#butler = Butler(REPO_DIR)\n",
    "#ptcDataset = butler.get('photonTransferCurveDataset', dataId={'detector': DETECTOR})\n",
    "from lsst.ip.isr import PhotonTransferCurveDataset\n",
    "datasetFile = '/project/shared/BOT/rerun/cslage/PTC_LSSTCAM_FullCov_12673T/calibrations/ptc/ptcDataset-det001.fits'\n",
    "ptcDataset = PhotonTransferCurveDataset.readFits(datasetFile)"
   ]
  },
  {
   "cell_type": "code",
   "execution_count": null,
   "metadata": {},
   "outputs": [],
   "source": [
    "print(ptcDataset.badAmps)\n",
    "print(ptcDataset.expIdMask['C01'])"
   ]
  },
  {
   "cell_type": "code",
   "execution_count": null,
   "metadata": {},
   "outputs": [],
   "source": [
    "\n",
    "cov = ptcDataset.covariances\n",
    "covSqrtW = ptcDataset.covariancesSqrtWeights\n",
    "finalVars = ptcDataset.finalVars\n",
    "finalMeans = ptcDataset.finalMeans"
   ]
  },
  {
   "cell_type": "code",
   "execution_count": null,
   "metadata": {},
   "outputs": [],
   "source": [
    "amp = 'C07'\n",
    "\n",
    "print(cov[amp][12][0][0])\n",
    "print(covSqrtW[amp][:][0][0])\n",
    "for n, arr in enumerate(covSqrtW[amp]):\n",
    "    print(n, finalMeans[amp][n], finalVars[amp][n], cov[amp][n][0][0])\n",
    "#arr = np.array(covSqrtW[amp])\n",
    "#print(arr.shape)\n",
    "#print(arr[:,0,0])\n",
    "#print(np.nanmax(finalMeans[amp]))"
   ]
  },
  {
   "cell_type": "code",
   "execution_count": null,
   "metadata": {},
   "outputs": [],
   "source": [
    "print(len(finalVars[amp]), len(cov[amp][:][0][0]))"
   ]
  },
  {
   "cell_type": "code",
   "execution_count": null,
   "metadata": {},
   "outputs": [],
   "source": [
    "plt.scatter(finalMeans[amp], finalVars[amp], marker='x', color='green')\n",
    "plt.scatter(finalMeans[amp], np.array(cov[amp])[:,0,0], marker='o', color='red')"
   ]
  },
  {
   "cell_type": "code",
   "execution_count": null,
   "metadata": {},
   "outputs": [],
   "source": []
  }
 ],
 "metadata": {
  "kernelspec": {
   "display_name": "LSST",
   "language": "python",
   "name": "lsst"
  },
  "language_info": {
   "codemirror_mode": {
    "name": "ipython",
    "version": 3
   },
   "file_extension": ".py",
   "mimetype": "text/x-python",
   "name": "python",
   "nbconvert_exporter": "python",
   "pygments_lexer": "ipython3",
   "version": "3.7.8"
  }
 },
 "nbformat": 4,
 "nbformat_minor": 4
}
