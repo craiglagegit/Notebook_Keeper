{
 "cells": [
  {
   "cell_type": "markdown",
   "metadata": {},
   "source": [
    "# Notebook for querying BOT data.\n",
    "\n",
    "Initially written 27 May 2020 by Craig Lage\\\n",
    "Allows inspecting the image type and exposure time of the \\\n",
    "BOT images used for characterizing BF."
   ]
  },
  {
   "cell_type": "code",
   "execution_count": null,
   "metadata": {},
   "outputs": [],
   "source": [
    "! eups list -s | grep lsst_distrib\n",
    "! eups list -s cp_pipe"
   ]
  },
  {
   "cell_type": "code",
   "execution_count": null,
   "metadata": {},
   "outputs": [],
   "source": [
    "import sys, os, glob, subprocess\n",
    "import pickle as pkl\n",
    "import numpy as np\n",
    "import matplotlib.pyplot as plt\n",
    "import astropy.io.fits as pf\n",
    "from lsst.daf.persistence import Butler"
   ]
  },
  {
   "cell_type": "code",
   "execution_count": null,
   "metadata": {},
   "outputs": [],
   "source": [
    "RAFT = 'R43'\n",
    "SENSOR = 'S11'\n",
    "DATA_DIR = '/project/shared/BOT/'"
   ]
  },
  {
   "cell_type": "code",
   "execution_count": null,
   "metadata": {},
   "outputs": [],
   "source": [
    "RUN = '12680'\n",
    "butler = Butler(DATA_DIR)\n",
    "visits = butler.queryMetadata('raw', ['expId', 'EXPTIME', 'TESTTYPE'], raftName=RAFT,\\\n",
    "                              detectorName=SENSOR, run=RUN)\n",
    "for (expId, exptime, testtype) in visits:\n",
    "    print(expId, exptime, testtype)"
   ]
  },
  {
   "cell_type": "code",
   "execution_count": null,
   "metadata": {},
   "outputs": [],
   "source": [
    "# RUN = '12597'\n",
    "butler = Butler(DATA_DIR)\n",
    "visits = butler.queryMetadata('raw', ['run', 'expId', 'EXPTIME', 'TESTTYPE'], raftName=RAFT,\\\n",
    "                              detectorName=SENSOR, dayObs='2020-10-06')\n",
    "for (run, expId, exptime, testtype) in visits:\n",
    "    print(run, expId, exptime, testtype)"
   ]
  },
  {
   "cell_type": "code",
   "execution_count": null,
   "metadata": {},
   "outputs": [],
   "source": [
    "butler = Butler(DATA_DIR)\n",
    "visits = butler.queryMetadata('raw', ['expId', 'EXPTIME', 'TESTTYPE'], raftName=RAFT,\\\n",
    "                              detectorName=SENSOR, dayObs='2020-08-28')\n",
    "for (expId, exptime, testtype) in visits:\n",
    "    print(expId, exptime, testtype)"
   ]
  },
  {
   "cell_type": "code",
   "execution_count": null,
   "metadata": {},
   "outputs": [],
   "source": [
    "RUN = '12539'\n",
    "butler = Butler(DATA_DIR)\n",
    "dets = butler.queryMetadata('raw', ['raftName','detector'],run=RUN)\n",
    "print(\"Total CCDs = %d\"%len(dets))\n",
    "imDets = []\n",
    "for [raftName, det] in dets:\n",
    "    if raftName in ['R00', 'R04', 'R40', 'R44']:\n",
    "        continue\n",
    "    else:\n",
    "        imDets.append(det)\n",
    "print(\"Imaging CCDs = %d\"%len(imDets))\n",
    "print(np.sort(imDets))"
   ]
  },
  {
   "cell_type": "code",
   "execution_count": null,
   "metadata": {},
   "outputs": [],
   "source": [
    "# First check the flats\n",
    "filedir = DATA_DIR+'_parent/raw/'\n",
    "files = glob.glob(filedir+'*/*/3020082800???-%s-%s-det094.fits'%(RAFT,SENSOR))\n",
    "files = np.sort(files)\n",
    "numFiles = len(files)\n",
    "print(numFiles)\n",
    "print(files[0])\n",
    "\n",
    "for file in files:\n",
    "    hdulist = pf.open(file, mode='readonly', do_not_scale_image_data=True)\n",
    "    phdr=hdulist[0].header\n",
    "    filenumber = file.split('/')[-1][0:13]\n",
    "    seq = int(file.split('/')[-1][8:13])\n",
    "    try:\n",
    "        exptime = phdr['EXPTIME']\n",
    "    except:\n",
    "        exptime = 'None'\n",
    "    try:\n",
    "        run = phdr['RUN']\n",
    "    except:\n",
    "        run = 'None'\n",
    "    imgtype = phdr['IMGTYPE'] \n",
    "    print(filenumber, seq, imgtype, exptime, run)"
   ]
  },
  {
   "cell_type": "code",
   "execution_count": null,
   "metadata": {},
   "outputs": [],
   "source": [
    "RUN = '12539'\n",
    "butler = Butler(DATA_DIR)\n",
    "visits = butler.queryMetadata('raw', ['visit', 'EXPTIME', 'TESTTYPE'], raftName=RAFT,\\\n",
    "                              detectorName=SENSOR, run=RUN)\n",
    "print(visits)"
   ]
  },
  {
   "cell_type": "code",
   "execution_count": null,
   "metadata": {},
   "outputs": [],
   "source": [
    "dayObs = '2020-08-28'\n",
    "butler = Butler(DATA_DIR)\n",
    "visits = butler.queryMetadata('raw', ['expId', 'EXPTIME', 'TESTTYPE'], raftName=RAFT,\\\n",
    "                              detectorName=SENSOR, dayObs=dayObs)\n",
    "print(len(visits))\n",
    "print(visits)"
   ]
  },
  {
   "cell_type": "code",
   "execution_count": null,
   "metadata": {},
   "outputs": [],
   "source": [
    "butler = Butler('/project/shared/BOT/')\n",
    "visits = butler.queryMetadata('raw', ['expId', 'EXPTIME', 'TESTTYPE'], detector=37, run='15238')"
   ]
  },
  {
   "cell_type": "code",
   "execution_count": null,
   "metadata": {},
   "outputs": [],
   "source": [
    "print(visits)"
   ]
  },
  {
   "cell_type": "code",
   "execution_count": null,
   "metadata": {},
   "outputs": [],
   "source": [
    "exp = butler.get('raw', raftName=RAFT, expId=3020090200371, \\\n",
    "                              detectorName=SENSOR, run=RUN)"
   ]
  },
  {
   "cell_type": "code",
   "execution_count": null,
   "metadata": {},
   "outputs": [],
   "source": [
    "test = exp.image.array"
   ]
  },
  {
   "cell_type": "code",
   "execution_count": null,
   "metadata": {},
   "outputs": [],
   "source": [
    "print(np.median(test[3000:3500,3000:3500]))"
   ]
  },
  {
   "cell_type": "code",
   "execution_count": null,
   "metadata": {},
   "outputs": [],
   "source": []
  }
 ],
 "metadata": {
  "kernelspec": {
   "display_name": "LSST",
   "language": "python",
   "name": "lsst"
  },
  "language_info": {
   "codemirror_mode": {
    "name": "ipython",
    "version": 3
   },
   "file_extension": ".py",
   "mimetype": "text/x-python",
   "name": "python",
   "nbconvert_exporter": "python",
   "pygments_lexer": "ipython3",
   "version": "3.7.8"
  }
 },
 "nbformat": 4,
 "nbformat_minor": 4
}
