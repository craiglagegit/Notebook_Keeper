{
 "cells": [
  {
   "cell_type": "markdown",
   "metadata": {},
   "source": [
    "# Notebook for Looking at noise comparisons.\n",
    "\n",
    "Initially written 08 Feb 23 by Craig Lage."
   ]
  },
  {
   "cell_type": "code",
   "execution_count": null,
   "metadata": {
    "execution": {
     "iopub.execute_input": "2023-02-08T19:05:48.513408Z",
     "iopub.status.busy": "2023-02-08T19:05:48.512983Z",
     "iopub.status.idle": "2023-02-08T19:05:49.281540Z",
     "shell.execute_reply": "2023-02-08T19:05:49.280871Z",
     "shell.execute_reply.started": "2023-02-08T19:05:48.513388Z"
    }
   },
   "outputs": [],
   "source": [
    "import sys, os, glob, time\n",
    "import pickle as pkl\n",
    "import numpy as np\n",
    "import matplotlib.pyplot as plt\n",
    "import astropy.io.fits as pf\n",
    "from lsst.daf.butler import Butler"
   ]
  },
  {
   "cell_type": "code",
   "execution_count": null,
   "metadata": {
    "execution": {
     "iopub.execute_input": "2023-02-08T19:05:50.493052Z",
     "iopub.status.busy": "2023-02-08T19:05:50.492746Z",
     "iopub.status.idle": "2023-02-08T19:05:53.866573Z",
     "shell.execute_reply": "2023-02-08T19:05:53.865947Z",
     "shell.execute_reply.started": "2023-02-08T19:05:50.493032Z"
    }
   },
   "outputs": [],
   "source": [
    "butler = Butler(\"/repo/main\", collections=[\"LSSTCam/raw/all\",\"LSSTCam/calib\", \"u/cslage/bps_13144S\"])\n",
    "exposure=3021120600576"
   ]
  },
  {
   "cell_type": "code",
   "execution_count": null,
   "metadata": {
    "execution": {
     "iopub.execute_input": "2023-02-08T19:17:50.664502Z",
     "iopub.status.busy": "2023-02-08T19:17:50.663797Z",
     "iopub.status.idle": "2023-02-08T19:17:50.671612Z",
     "shell.execute_reply": "2023-02-08T19:17:50.671166Z",
     "shell.execute_reply.started": "2023-02-08T19:17:50.664481Z"
    },
    "tags": []
   },
   "outputs": [],
   "source": [
    "# Get the eotest results\n",
    "filename = \"/home/c/cslage/u/BOT_LSSTCam/eotest/eotest_gain_13144_15dec21.pkl\"\n",
    "file = open(filename, 'rb')\n",
    "#fe55_results = pkl.load(file)\n",
    "ptc_results = pkl.load(file)\n",
    "file.close()\n",
    "print(ptc_results.keys())\n",
    "\n",
    "rafts = [       'R01', 'R02', 'R03', \\\n",
    "         'R10', 'R11', 'R12', 'R13', 'R14', \\\n",
    "         'R20', 'R21', 'R22', 'R23', 'R24', \\\n",
    "         'R30', 'R31', 'R32', 'R33', 'R34', \\\n",
    "                'R41', 'R42', 'R43']\n",
    "sensors = ['S00', 'S01', 'S02', 'S10', 'S11', 'S12', 'S20', 'S21', 'S22']\n",
    "print(rafts)\n",
    "print(ptc_results['ptc_noise']['R01']['S00'])\n",
    "print(ptc_results['read_noise']['R01']['S00'])"
   ]
  },
  {
   "cell_type": "code",
   "execution_count": null,
   "metadata": {},
   "outputs": [],
   "source": []
  },
  {
   "cell_type": "code",
   "execution_count": null,
   "metadata": {
    "execution": {
     "iopub.execute_input": "2023-02-08T19:20:02.569494Z",
     "iopub.status.busy": "2023-02-08T19:20:02.569233Z",
     "iopub.status.idle": "2023-02-08T19:20:02.574456Z",
     "shell.execute_reply": "2023-02-08T19:20:02.574046Z",
     "shell.execute_reply.started": "2023-02-08T19:20:02.569475Z"
    }
   },
   "outputs": [],
   "source": [
    "def detector(raft, sensor):\n",
    "    # Subroutine to find vendor and detector number given raft and sensor                                                                                                                                                           \n",
    "    startingCol = [1,0,0,0,1] # First raft column in each row                                                                                                                                                                       \n",
    "    rows = [0,3,8,13,18] # Starting raft sequence number of each row                                                                                                                                                                \n",
    "    if raft in ['R11','R12','R13','R14','R21','R22','R23','R24','R30',\\\n",
    "                'R31','R32','R33','R34']:\n",
    "        vendor = 'E2V'\n",
    "    else:\n",
    "        vendor = 'ITL'\n",
    "    raftRow = int(list(raft)[1])\n",
    "    raftCol = int(list(raft)[2])\n",
    "    sensorRow = int(list(sensor)[1])\n",
    "    sensorCol = int(list(sensor)[2])\n",
    "    detectorNum = (rows[raftRow] + (raftCol - startingCol[raftRow])) * 9\n",
    "    detectorNum += 3 * sensorRow + sensorCol\n",
    "    return vendor, detectorNum, 4 - raftRow, raftCol\n",
    "\n"
   ]
  },
  {
   "cell_type": "code",
   "execution_count": null,
   "metadata": {
    "execution": {
     "iopub.execute_input": "2023-02-08T19:58:48.899489Z",
     "iopub.status.busy": "2023-02-08T19:58:48.899241Z",
     "iopub.status.idle": "2023-02-08T19:58:49.206926Z",
     "shell.execute_reply": "2023-02-08T19:58:49.206355Z",
     "shell.execute_reply.started": "2023-02-08T19:58:48.899472Z"
    },
    "tags": []
   },
   "outputs": [],
   "source": [
    "ptc_noise = []\n",
    "read_noise = []\n",
    "for RAFT in rafts:\n",
    "    for SENSOR in sensors:\n",
    "        VENDOR, DETECTOR, raftRow, raftCol = detector(RAFT, SENSOR)\n",
    "        if VENDOR == 'ITL':\n",
    "            ptc_noise += ptc_results['ptc_noise'][RAFT][SENSOR]\n",
    "            read_noise += ptc_results['read_noise'][RAFT][SENSOR]\n",
    "plt.scatter(ptc_noise, read_noise)\n",
    "ptc_fit = []\n",
    "read_fit = []\n",
    "min = 5.0\n",
    "max = 20.0\n",
    "for i in range(len(ptc_noise)):\n",
    "    if ptc_noise[i] > min and ptc_noise[i] < max and read_noise[i] > min and read_noise[i] < max:\n",
    "        ptc_fit.append(ptc_noise[i])\n",
    "        read_fit.append(read_noise[i])\n",
    "fit = np.polyfit(ptc_fit, read_fit, 1)\n",
    "xplot = np.linspace(0,20,200)\n",
    "yplot = xplot * fit[0] + fit[1]\n",
    "plt. plot(xplot, yplot, ls='--', color='green')\n",
    "plt.xlim(0,20)\n",
    "plt.ylim(0,20)\n",
    "plt.xlabel(\"EOTest ptc_noise (ADU)\")\n",
    "plt.ylabel(\"EOTest read_noise (ADU)\")\n",
    "plt.text(2.5, 17.5, f\"Slope = {fit[0]:.2f}, Intercept = {fit[1]:.2f}\")\n",
    "\n",
    "plt.title(\"EO Test Read noise vs PTC noise\")\n",
    "plt.savefig(\"/home/c/cslage/u/BOT_LSSTCam/eotest/Noise_Comparison_13144.pdf\")"
   ]
  },
  {
   "cell_type": "code",
   "execution_count": null,
   "metadata": {},
   "outputs": [],
   "source": []
  }
 ],
 "metadata": {
  "kernelspec": {
   "display_name": "LSST",
   "language": "python",
   "name": "lsst"
  },
  "language_info": {
   "codemirror_mode": {
    "name": "ipython",
    "version": 3
   },
   "file_extension": ".py",
   "mimetype": "text/x-python",
   "name": "python",
   "nbconvert_exporter": "python",
   "pygments_lexer": "ipython3",
   "version": "3.10.8"
  }
 },
 "nbformat": 4,
 "nbformat_minor": 4
}
