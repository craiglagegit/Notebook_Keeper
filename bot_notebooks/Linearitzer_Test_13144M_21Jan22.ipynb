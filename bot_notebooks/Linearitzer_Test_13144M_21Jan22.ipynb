{
 "cells": [
  {
   "cell_type": "markdown",
   "metadata": {},
   "source": [
    "# Notebook for investigating linearity corrections\n",
    "\n",
    "Initially written 20 Dec 2021 by Craig Lage\\\n",
    "copying from Chris Waters."
   ]
  },
  {
   "cell_type": "code",
   "execution_count": null,
   "metadata": {},
   "outputs": [],
   "source": [
    "import sys, os, glob, time\n",
    "import pickle as pkl\n",
    "import numpy as np\n",
    "import matplotlib.pyplot as plt\n",
    "from matplotlib.backends.backend_pdf import PdfPages\n",
    "import astropy.io.fits as pf\n",
    "from lsst.daf.butler import Butler\n",
    "import lsst.afw.math as afwMath\n",
    "from focal_plane_plotting import plot_focal_plane"
   ]
  },
  {
   "cell_type": "code",
   "execution_count": null,
   "metadata": {},
   "outputs": [],
   "source": [
    "!eups list -s | grep ip_isr\n",
    "!eups list -s | grep cp_pipe"
   ]
  },
  {
   "cell_type": "code",
   "execution_count": null,
   "metadata": {},
   "outputs": [],
   "source": [
    "butler = Butler(\"/repo/main\", collections=[\"LSSTCam/raw/all\",\"LSSTCam/calib\"])\n",
    "camera = butler.get('camera', instrument='LSSTCam')"
   ]
  },
  {
   "cell_type": "code",
   "execution_count": null,
   "metadata": {},
   "outputs": [],
   "source": [
    "ptcButler = Butler(\"/repo/main\", collections=[\"u/cslage/bps_13144M\"])"
   ]
  },
  {
   "cell_type": "code",
   "execution_count": null,
   "metadata": {},
   "outputs": [],
   "source": [
    "linButler = Butler(\"/repo/main\", collections=[\"u/cslage/linearizerB_26jan22\"])"
   ]
  },
  {
   "cell_type": "code",
   "execution_count": null,
   "metadata": {},
   "outputs": [],
   "source": [
    "numDetectors = 0\n",
    "for item in linButler.registry.queryDatasets('unCorrectedLinearizer'):\n",
    "    numDetectors += 1\n",
    "print(numDetectors)    "
   ]
  },
  {
   "cell_type": "code",
   "execution_count": null,
   "metadata": {},
   "outputs": [],
   "source": [
    "# With the whole focal plane contributing to the correction, the residuals are much improved\n",
    "det = 74\n",
    "ptc = ptcButler.get('ptc', detector=det, instrument='LSSTCam')\n",
    "uncorrLin = linButler.get('unCorrectedLinearizer', detector=det, instrument='LSSTCam')\n",
    "corrLin = linButler.get('linearizer', detector=det, instrument='LSSTCam')\n",
    "\n",
    "fig = plt.figure(figsize = (8,4))\n",
    "\n",
    "for amp in camera[0].getAmplifiers():\n",
    "    ampName = amp.getName()\n",
    "    mask = np.array(ptc.expIdMask[ampName], dtype=bool)\n",
    "    means = np.array(ptc.rawMeans[ampName])[mask]\n",
    "    uncorrResiduals = np.array(uncorrLin.fitResiduals[ampName])[mask]\n",
    "    corrResiduals = np.array(corrLin.fitResiduals[ampName])[mask]\n",
    "    plt.title(f\"Residuals - Det {det} - {ampName}\", fontsize = 18)\n",
    "    plt.scatter(means, uncorrResiduals/means * 100.0, label = \"Uncorrected\")\n",
    "    plt.scatter(means, corrResiduals/means * 100.0, label = \"Corrected\")\n",
    "    plt.plot([0.0,100000.0], [0.0,0.0], ls = '--', color='black')\n",
    "    plt.ylim(-0.1,0.1)\n",
    "    plt.legend()\n",
    "    plt.xlabel(\"Flux(ADU)\", fontsize = 12)\n",
    "    plt.ylabel(\"Linearizer residual (%%)\", fontsize = 12)\n",
    "    break\n",
    "plt.savefig(\"/repo/main/u/cslage/linearizerB_26jan22/plots/Residuals_26Jan22.pdf\")"
   ]
  },
  {
   "cell_type": "markdown",
   "metadata": {},
   "source": [
    "So this all seems to be working as intended.  On to the next step."
   ]
  },
  {
   "cell_type": "code",
   "execution_count": null,
   "metadata": {},
   "outputs": [],
   "source": [
    "def detector(raft, sensor):\n",
    "    # Subroutine to find vendor and detector number given raft and sensor\n",
    "    startingCol = [1,0,0,0,1] # First raft column in each row\n",
    "    rows = [0,3,8,13,18] # Starting raft sequence number of each row\n",
    "    if raft in ['R11','R12','R13','R14','R21','R22','R23','R24','R30',\\\n",
    "                'R31','R32','R33','R34']:\n",
    "        vendor = 'E2V'\n",
    "    else:\n",
    "        vendor = 'ITL'\n",
    "    raftRow = int(list(raft)[1])\n",
    "    raftCol = int(list(raft)[2]) - startingCol[raftRow]\n",
    "    sensorRow = int(list(sensor)[1])\n",
    "    sensorCol = int(list(sensor)[2])\n",
    "    detectorNum = (rows[raftRow] + raftCol) * 9\n",
    "    detectorNum += 3 * sensorRow + sensorCol\n",
    "    return vendor, detectorNum"
   ]
  },
  {
   "cell_type": "code",
   "execution_count": null,
   "metadata": {},
   "outputs": [],
   "source": [
    "names = []\n",
    "corrStds = []\n",
    "uncorrStds = []\n",
    "fluxMin = 10000.0\n",
    "\n",
    "for RAFT in ['R01',  'R02',  'R03', 'R10',  'R11',  'R12',  'R13', 'R14', 'R20',  'R21',  'R22',  'R23', 'R24', \\\n",
    "             'R30', 'R31', 'R32', 'R33', 'R34', 'R41', 'R42', 'R43']:\n",
    "    for SENSOR in ['S00', 'S01', 'S02', 'S10', 'S11', 'S12', 'S20', 'S21', 'S22']:\n",
    "        VENDOR, DETECTOR = detector(RAFT,SENSOR)\n",
    "        try:\n",
    "            ptc = ptcButler.get('ptc', detector=DETECTOR, instrument='LSSTCam')\n",
    "            uncorrLin = linButler.get('unCorrectedLinearizer', detector=DETECTOR, instrument='LSSTCam')\n",
    "            corrLin = linButler.get('linearizer', detector=DETECTOR, instrument='LSSTCam')\n",
    "        except:\n",
    "            continue\n",
    "\n",
    "        for amp in camera[0].getAmplifiers():\n",
    "            ampName = amp.getName()\n",
    "            mask = np.array(ptc.expIdMask[ampName], dtype=bool)\n",
    "            means = np.array(ptc.rawMeans[ampName])[mask]\n",
    "            uncorrResiduals = np.array(uncorrLin.fitResiduals[ampName])[mask]\n",
    "            corrResiduals = np.array(corrLin.fitResiduals[ampName])[mask]\n",
    "            fluxMask = means > fluxMin\n",
    "            corrStd = np.nanstd((corrResiduals/means * 100.0)[fluxMask])\n",
    "            uncorrStd = np.nanstd((uncorrResiduals/means * 100.0)[fluxMask])\n",
    "            names.append(f\"{RAFT}_{SENSOR}_{ampName}\")\n",
    "            corrStds.append(corrStd)\n",
    "            uncorrStds.append(uncorrStd)\n"
   ]
  },
  {
   "cell_type": "code",
   "execution_count": null,
   "metadata": {},
   "outputs": [],
   "source": [
    "# Now plot it\n",
    "xaxis = list(range(len(names)))\n",
    "fig = plt.figure(figsize=(20,4))\n",
    "plt.title(f\"Standard Deviation of Residuals Run 13144, Flux > {fluxMin} ADU\", fontsize = 24)\n",
    "plt.scatter(xaxis, uncorrStds, marker = \".\", s = 10, label = \"Uncorrected\")\n",
    "plt.scatter(xaxis, corrStds, marker = \".\", s = 10, label = \"Corrected\")\n",
    "plt.ylim(0,0.05)\n",
    "plt.legend(fontsize=12)\n",
    "plt.xlabel(\"Amplifier Index\", fontsize = 18)\n",
    "plt.ylabel(\"Residual Standard Deviation (%)\", fontsize = 18)\n",
    "\n",
    "plt.savefig(\"/repo/main/u/cslage/linearizerB_26jan22/plots/Residual_Std_26Jan22.pdf\")"
   ]
  },
  {
   "cell_type": "code",
   "execution_count": null,
   "metadata": {},
   "outputs": [],
   "source": [
    "len(names)"
   ]
  },
  {
   "cell_type": "code",
   "execution_count": null,
   "metadata": {},
   "outputs": [],
   "source": []
  }
 ],
 "metadata": {
  "kernelspec": {
   "display_name": "LSST",
   "language": "python",
   "name": "lsst"
  },
  "language_info": {
   "codemirror_mode": {
    "name": "ipython",
    "version": 3
   },
   "file_extension": ".py",
   "mimetype": "text/x-python",
   "name": "python",
   "nbconvert_exporter": "python",
   "pygments_lexer": "ipython3",
   "version": "3.8.8"
  }
 },
 "nbformat": 4,
 "nbformat_minor": 4
}
