{
 "cells": [
  {
   "cell_type": "markdown",
   "metadata": {},
   "source": [
    "## Query header - Gen3\n",
    "\n",
    "In this notebook, we show several ways to query the fits headers\\\n",
    "Craig Lage - 16-Mar-21"
   ]
  },
  {
   "cell_type": "code",
   "execution_count": null,
   "metadata": {},
   "outputs": [],
   "source": [
    "import numpy as np\n",
    "import matplotlib.pyplot as plt\n",
    "import astropy.io.fits as pf\n",
    "import lsst.daf.butler as dafButler\n",
    "import lsst.afw.cameraGeom.utils as camGeomUtils\n",
    "import lsst.afw.display as afwDisplay"
   ]
  },
  {
   "cell_type": "code",
   "execution_count": null,
   "metadata": {
    "jupyter": {
     "outputs_hidden": true
    },
    "tags": []
   },
   "outputs": [],
   "source": [
    "# Gen3 butler\n",
    "REPO_DIR = '/repo/main'\n",
    "butler = dafButler.Butler(REPO_DIR, collections=[\"LSSTCam/raw/all\",\"LSSTCam/calib\"])\n",
    " \n",
    "exposureList = []\n",
    "for record in butler.registry.queryDimensionRecords(\"exposure\", where=\"exposure.science_program='13144'\"):\n",
    "    exposureList.append([record.id, record.observation_type, record.exposure_time, record.physical_filter, record.target_name])\n",
    "exposureList = sorted(exposureList, key=lambda x: x[0])   \n",
    "for item in exposureList:\n",
    "    print(f\"{item[0]} \\t {item[1]} \\t {item[2]} \\t\\t {item[3]} \\t {item[4]}\")"
   ]
  },
  {
   "cell_type": "code",
   "execution_count": null,
   "metadata": {
    "jupyter": {
     "outputs_hidden": true
    },
    "tags": []
   },
   "outputs": [],
   "source": [
    "# Gen3 butler\n",
    "REPO_DIR = '/repo/main'\n",
    "butler = dafButler.Butler(REPO_DIR, collections=[\"LSSTCam/raw/all\",\"LSSTCam/calib\"])\n",
    " \n",
    "exposureList = []\n",
    "for record in butler.registry.queryDimensionRecords(\"exposure\", where=\"exposure.science_program='13117'\"):\n",
    "    exposureList.append([record.id, record.observation_type, record.exposure_time, record.physical_filter, record.target_name])\n",
    "exposureList = sorted(exposureList, key=lambda x: x[0])   \n",
    "for item in exposureList:\n",
    "    print(f\"{item[0]} \\t {item[1]} \\t {item[2]} \\t\\t {item[3]} \\t {item[4]}\")"
   ]
  },
  {
   "cell_type": "code",
   "execution_count": null,
   "metadata": {
    "jupyter": {
     "outputs_hidden": true
    },
    "tags": []
   },
   "outputs": [],
   "source": [
    "# To look at the header keywords\n",
    "#expId = 3021020500605\n",
    "#expId = 3021120600565\n",
    "expId=3021120600612\n",
    "exp = butler.get('raw',  exposure=expId, detector=55, instrument=\"LSSTCam\")\n",
    "mData = exp.getMetadata()\n",
    "for key in mData.keys():\n",
    "    print(key, mData[key])"
   ]
  },
  {
   "cell_type": "code",
   "execution_count": null,
   "metadata": {
    "jupyter": {
     "outputs_hidden": true
    },
    "tags": []
   },
   "outputs": [],
   "source": [
    "hdulist = pf.open(\"/lsstdata/offline/instrument/LSSTCam-bot/storage/20211206/MC_C_20211206_000612/MC_C_20211206_000612_R13_S01.fits\")\n",
    "for i in range(len(hdulist)):\n",
    "    hdr = hdulist[i].header\n",
    "    for key in hdr.keys():\n",
    "        print(i, key, hdr[key])"
   ]
  },
  {
   "cell_type": "code",
   "execution_count": null,
   "metadata": {},
   "outputs": [],
   "source": [
    "# This is useful for finding what datasets the butler knows about\n",
    "registry = butler.registry\n",
    "for x in registry.queryDatasetTypes():\n",
    "    if 'isr' in x.name:\n",
    "        print(x)\n"
   ]
  },
  {
   "cell_type": "code",
   "execution_count": null,
   "metadata": {},
   "outputs": [],
   "source": []
  }
 ],
 "metadata": {
  "kernelspec": {
   "display_name": "LSST",
   "language": "python",
   "name": "lsst"
  },
  "language_info": {
   "codemirror_mode": {
    "name": "ipython",
    "version": 3
   },
   "file_extension": ".py",
   "mimetype": "text/x-python",
   "name": "python",
   "nbconvert_exporter": "python",
   "pygments_lexer": "ipython3",
   "version": "3.10.4"
  }
 },
 "nbformat": 4,
 "nbformat_minor": 4
}
