{
 "cells": [
  {
   "cell_type": "markdown",
   "metadata": {},
   "source": [
    "## Query header - Gen3\n",
    "\n",
    "In this notebook, we show several ways to query the fits headers\\\n",
    "Craig Lage - 16-Mar-21"
   ]
  },
  {
   "cell_type": "code",
   "execution_count": null,
   "metadata": {
    "execution": {
     "iopub.execute_input": "2023-03-08T21:29:18.666131Z",
     "iopub.status.busy": "2023-03-08T21:29:18.665753Z",
     "iopub.status.idle": "2023-03-08T21:29:19.484997Z",
     "shell.execute_reply": "2023-03-08T21:29:19.484402Z",
     "shell.execute_reply.started": "2023-03-08T21:29:18.666115Z"
    },
    "tags": []
   },
   "outputs": [],
   "source": [
    "import numpy as np\n",
    "import matplotlib.pyplot as plt\n",
    "import astropy.io.fits as pf\n",
    "import lsst.daf.butler as dafButler\n",
    "import lsst.afw.cameraGeom.utils as camGeomUtils\n",
    "import lsst.afw.display as afwDisplay"
   ]
  },
  {
   "cell_type": "code",
   "execution_count": null,
   "metadata": {
    "execution": {
     "iopub.execute_input": "2023-03-08T21:35:57.973446Z",
     "iopub.status.busy": "2023-03-08T21:35:57.972878Z",
     "iopub.status.idle": "2023-03-08T21:36:01.177934Z",
     "shell.execute_reply": "2023-03-08T21:36:01.177360Z",
     "shell.execute_reply.started": "2023-03-08T21:35:57.973429Z"
    },
    "jupyter": {
     "outputs_hidden": true
    },
    "tags": []
   },
   "outputs": [],
   "source": [
    "# Gen3 butler\n",
    "REPO_DIR = '/repo/main'\n",
    "butler = dafButler.Butler(REPO_DIR, collections=[\"LSSTCam/raw/all\",\"LSSTCam/calib\"])\n",
    " \n",
    "exposureList = []\n",
    "for record in butler.registry.queryDimensionRecords(\"exposure\", where=\"exposure.science_program='13162'\"):\n",
    "    exposureList.append([record.id, record.observation_type, record.exposure_time, record.physical_filter, record.target_name])\n",
    "exposureList = sorted(exposureList, key=lambda x: x[0])   \n",
    "for item in exposureList:\n",
    "    print(f\"{item[0]} \\t {item[1]} \\t {item[2]} \\t\\t {item[3]} \\t {item[4]}\")"
   ]
  },
  {
   "cell_type": "code",
   "execution_count": null,
   "metadata": {
    "execution": {
     "iopub.execute_input": "2023-01-09T13:12:13.507146Z",
     "iopub.status.busy": "2023-01-09T13:12:13.506853Z",
     "iopub.status.idle": "2023-01-09T13:12:16.709447Z",
     "shell.execute_reply": "2023-01-09T13:12:16.708757Z",
     "shell.execute_reply.started": "2023-01-09T13:12:13.507129Z"
    },
    "tags": []
   },
   "outputs": [],
   "source": [
    "# Gen3 butler\n",
    "from lsst.daf.butler import Butler\n",
    "butler = Butler('/repo/main', collections=[\"LSSTCam/raw/all\",\"u/jchiang/defects_13162_w_2023_09_94/20230303\"])\n"
   ]
  },
  {
   "cell_type": "code",
   "execution_count": null,
   "metadata": {},
   "outputs": [],
   "source": [
    "butler = Butler('\n",
    "                \n",
    "                \"u/jchiang/defects_13162_w_2023_09_94/20230303\""
   ]
  },
  {
   "cell_type": "code",
   "execution_count": null,
   "metadata": {
    "execution": {
     "iopub.execute_input": "2023-01-09T13:12:34.776049Z",
     "iopub.status.busy": "2023-01-09T13:12:34.775118Z",
     "iopub.status.idle": "2023-01-09T13:12:38.501724Z",
     "shell.execute_reply": "2023-01-09T13:12:38.501010Z",
     "shell.execute_reply.started": "2023-01-09T13:12:34.776025Z"
    },
    "jupyter": {
     "outputs_hidden": true
    },
    "tags": []
   },
   "outputs": [],
   "source": [
    "# To look at the header keywords\n",
    "#expId = 3021020500605\n",
    "#expId = 3021120600565\n",
    "expId=3021120600560\n",
    "exp = butler.get('raw',  exposure=expId, detector=55, instrument=\"LSSTCam\")\n",
    "mData = exp.getMetadata()\n",
    "for key in mData.keys():\n",
    "    print(key, mData[key])"
   ]
  },
  {
   "cell_type": "code",
   "execution_count": null,
   "metadata": {
    "jupyter": {
     "outputs_hidden": true
    },
    "tags": []
   },
   "outputs": [],
   "source": [
    "hdulist = pf.open(\"/lsstdata/offline/instrument/LSSTCam-bot/storage/20211206/MC_C_20211206_000612/MC_C_20211206_000612_R13_S01.fits\")\n",
    "for i in range(len(hdulist)):\n",
    "    hdr = hdulist[i].header\n",
    "    for key in hdr.keys():\n",
    "        print(i, key, hdr[key])"
   ]
  },
  {
   "cell_type": "code",
   "execution_count": null,
   "metadata": {
    "execution": {
     "iopub.execute_input": "2023-02-24T12:11:20.960250Z",
     "iopub.status.busy": "2023-02-24T12:11:20.960031Z",
     "iopub.status.idle": "2023-02-24T12:11:20.962814Z",
     "shell.execute_reply": "2023-02-24T12:11:20.962373Z",
     "shell.execute_reply.started": "2023-02-24T12:11:20.960235Z"
    }
   },
   "outputs": [],
   "source": [
    "# Here's how to query what dataset types are in the butler"
   ]
  },
  {
   "cell_type": "code",
   "execution_count": null,
   "metadata": {},
   "outputs": [],
   "source": [
    "types = butler.registry.queryDatasetTypes()\n",
    "for type in types:\n",
    "    #if 'post' in type.nameAndComponent()[0]:\n",
    "    print(type)"
   ]
  },
  {
   "cell_type": "code",
   "execution_count": null,
   "metadata": {},
   "outputs": [],
   "source": [
    "refs = list(set(butler.registry.queryDatasets('cpPtcProc',detector=detector).expanded()))"
   ]
  }
 ],
 "metadata": {
  "kernelspec": {
   "display_name": "LSST",
   "language": "python",
   "name": "lsst"
  },
  "language_info": {
   "codemirror_mode": {
    "name": "ipython",
    "version": 3
   },
   "file_extension": ".py",
   "mimetype": "text/x-python",
   "name": "python",
   "nbconvert_exporter": "python",
   "pygments_lexer": "ipython3",
   "version": "3.10.11"
  }
 },
 "nbformat": 4,
 "nbformat_minor": 4
}
