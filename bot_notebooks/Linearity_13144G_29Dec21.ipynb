{
 "cells": [
  {
   "cell_type": "markdown",
   "metadata": {},
   "source": [
    "# Notebook for investigating linearity corrections\n",
    "\n",
    "Initially written 20 Dec 2021 by Craig Lage\\\n",
    "copying from Chris Waters."
   ]
  },
  {
   "cell_type": "code",
   "execution_count": null,
   "metadata": {},
   "outputs": [],
   "source": [
    "import sys, os, glob, time\n",
    "import pickle as pkl\n",
    "import numpy as np\n",
    "import matplotlib.pyplot as plt\n",
    "import astropy.io.fits as pf\n",
    "from lsst.daf.butler import Butler\n",
    "import lsst.afw.math as afwMath"
   ]
  },
  {
   "cell_type": "code",
   "execution_count": null,
   "metadata": {},
   "outputs": [],
   "source": [
    "butler = Butler(\"/repo/main\", collections=[ \"u/cslage/bps_13144G\"])\n",
    "expId=3021120600576\n",
    "camera = butler.get('camera', instrument='LSSTCam')"
   ]
  },
  {
   "cell_type": "code",
   "execution_count": null,
   "metadata": {},
   "outputs": [],
   "source": [
    "# Not succeeding in using the butler, so I'm just going directly to the fits files.\n",
    "\n",
    "names = [\"E2V\", \"ITL\"]\n",
    "for i, det in enumerate([55, 74]):\n",
    "    plt.subplot(1,2,i+1)\n",
    "    plt.title(names[i]+f\" - {det}\")\n",
    "    if names[i] == \"E2V\":\n",
    "        filename = \"/repo/main/u/cslage/bps_13144K/20211230T012140Z/linearizer/linearizer_LSSTCam_R13_S01_u_cslage_bps_13144K_20211230T012140Z.fits\"\n",
    "    elif names[i] == \"ITL\":\n",
    "        filename = \"/repo/main/u/cslage/bps_13144K/20211230T012140Z/linearizer/linearizer_LSSTCam_R20_S02_u_cslage_bps_13144K_20211230T012140Z.fits\"\n",
    "    hdu = pf.open(filename)\n",
    "    data = hdu[1].data\n",
    "\n",
    "    for amp in range(16):\n",
    "\n",
    "        centers, values = np.split(data[\"COEFFS\"][amp], 2)\n",
    "        plt.scatter(centers, values, marker='+')\n",
    "\n",
    "    plt.subplots_adjust(wspace=0.5)"
   ]
  },
  {
   "cell_type": "code",
   "execution_count": null,
   "metadata": {},
   "outputs": [],
   "source": [
    "# Not succeeding in using the butler, so I'm just going directly to the fits files.\n",
    "\n",
    "names = [\"E2V\", \"ITL\"]\n",
    "for i, det in enumerate([55, 74]):\n",
    "    plt.subplot(1,2,i+1)\n",
    "    plt.title(names[i]+f\" - {det}\")\n",
    "    if names[i] == \"E2V\":\n",
    "        filename = \"/repo/main/u/cslage/bps_13144K/20211230T012140Z/linearizer/linearizer_LSSTCam_R13_S01_u_cslage_bps_13144K_20211230T012140Z.fits\"\n",
    "    elif names[i] == \"ITL\":\n",
    "        filename = \"/repo/main/u/cslage/bps_13144K/20211230T012140Z/linearizer/linearizer_LSSTCam_R20_S02_u_cslage_bps_13144K_20211230T012140Z.fits\"\n",
    "    hdu = pf.open(filename)\n",
    "    data = hdu[1].data\n",
    "\n",
    "    for amp in range(1\n",
    "                    ):\n",
    "\n",
    "        centers, values = np.split(data[\"COEFFS\"][amp], 2)\n",
    "        plt.scatter(centers, values, marker='+')\n",
    "\n",
    "    plt.subplots_adjust(wspace=0.5)"
   ]
  },
  {
   "cell_type": "code",
   "execution_count": null,
   "metadata": {},
   "outputs": [],
   "source": []
  }
 ],
 "metadata": {
  "kernelspec": {
   "display_name": "LSST",
   "language": "python",
   "name": "lsst"
  },
  "language_info": {
   "codemirror_mode": {
    "name": "ipython",
    "version": 3
   },
   "file_extension": ".py",
   "mimetype": "text/x-python",
   "name": "python",
   "nbconvert_exporter": "python",
   "pygments_lexer": "ipython3",
   "version": "3.8.8"
  }
 },
 "nbformat": 4,
 "nbformat_minor": 4
}
