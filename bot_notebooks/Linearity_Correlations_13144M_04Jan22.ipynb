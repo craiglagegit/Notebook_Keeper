{
 "cells": [
  {
   "cell_type": "markdown",
   "metadata": {},
   "source": [
    "# Notebook for investigating linearity corrections\n",
    "\n",
    "Initially written 20 Dec 2021 by Craig Lage\\\n",
    "copying from Chris Waters."
   ]
  },
  {
   "cell_type": "code",
   "execution_count": null,
   "metadata": {},
   "outputs": [],
   "source": [
    "import sys, os, glob, time\n",
    "import pickle as pkl\n",
    "import numpy as np\n",
    "import matplotlib.pyplot as plt\n",
    "from matplotlib.backends.backend_pdf import PdfPages\n",
    "import astropy.io.fits as pf\n",
    "from lsst.daf.butler import Butler\n",
    "import lsst.afw.math as afwMath\n",
    "from lsst.cp.pipe.utils import (funcPolynomial, irlsFit)"
   ]
  },
  {
   "cell_type": "code",
   "execution_count": null,
   "metadata": {},
   "outputs": [],
   "source": [
    "butler = Butler(\"/repo/main\", collections=[\"LSSTCam/raw/all\",\"LSSTCam/calib\",\\\n",
    "                                                    \"u/cslage/calib/13144/calib.20220103\"])\n",
    "camera = butler.get('camera', instrument='LSSTCam')"
   ]
  },
  {
   "cell_type": "code",
   "execution_count": null,
   "metadata": {},
   "outputs": [],
   "source": [
    "nonlinPtcButler = Butler(\"/repo/main\", collections=[\"u/cslage/bps_13144M\"])"
   ]
  },
  {
   "cell_type": "code",
   "execution_count": null,
   "metadata": {},
   "outputs": [],
   "source": [
    "def ExpApprox(mu, g, a00, n):\n",
    "    if (g < 1.0E-6) or (abs(a00) < 1.0E-9):\n",
    "        return np.zeros([len(mu)])\n",
    "    else:\n",
    "        expFactor = 2.0 * a00 * mu * g\n",
    "        if max(expFactor) > 100.0:\n",
    "            return np.zeros([len(mu)])\n",
    "        else:\n",
    "            preFactor = 1.0 / (2.0 * g * g * a00)\n",
    "            noiseTerm = n / (g * g)\n",
    "            return preFactor * (np.exp(expFactor) - 1.0) + noiseTerm\n",
    "        \n",
    "def calcMondiode(expId):\n",
    "    factor = 5.0\n",
    "    DATA_DIR = '/lsstdata/offline/teststand/BOT/storage/'\n",
    "    date = int(expId/100000)\n",
    "    seq = expId - date * 100000\n",
    "    date = date - 10000000\n",
    "    file = DATA_DIR + '%d/MC_C_%d_%06d/Photodiode_Readings_%d_%06d.txt'%(date,date,seq,date,seq)\n",
    "\n",
    "    x, y = np.recfromtxt(file).transpose()\n",
    "    # Threshold for finding baseline current values:                                                                                                                                                         \n",
    "    ythresh = (min(y) + max(y))/factor + min(y)\n",
    "    # Subtract the median of the baseline values to get a calibrated                                                                                                                                         \n",
    "    # current.                                                                                                                                                                                               \n",
    "    y -= np.median(y[np.where(y < ythresh)])\n",
    "    integral = sum((y[1:] + y[:-1])/2*(x[1:] - x[:-1]))\n",
    "    return integral\n"
   ]
  },
  {
   "cell_type": "code",
   "execution_count": null,
   "metadata": {},
   "outputs": [],
   "source": [
    "# Set parameters\n",
    "minLinearAdu = 2000.0\n",
    "maxLinearAdu = 20000.0\n",
    "nSigmaClipLinear = 5.0\n",
    "fitOrder = 10 # Number of spline knots"
   ]
  },
  {
   "cell_type": "code",
   "execution_count": null,
   "metadata": {},
   "outputs": [],
   "source": [
    "filename = '/project/cslage/BOT_LSSTCam/linearizer/corrections_13144M_06jan22.pkl'\n",
    "infile = open(filename,'rb')\n",
    "abscissaCorrections = pkl.load(infile)\n",
    "infile.close()"
   ]
  },
  {
   "cell_type": "code",
   "execution_count": null,
   "metadata": {},
   "outputs": [],
   "source": [
    "expId=3021120700200\n",
    "\n",
    "names = [\"E2V\", \"ITL\"]\n",
    "\n",
    "offset = 0.15\n",
    "fig = plt.figure(figsize=(8,8))\n",
    "\n",
    "for i, det in enumerate([55]):#, 74]):\n",
    "    ptc = nonlinPtcButler.get('ptc', detector=det, exposure=expId, instrument='LSSTCam')\n",
    "    lin = butler.get('linearizer', detector=det, exposure=expId, instrument='LSSTCam')\n",
    "    plt.subplot(2,1,i+1)\n",
    "    plt.title(f\"Spline fit residual - {names[i]} - {det}\") \n",
    "    #plt.subplots_adjust(wspace = 0.5, hspace = 0.5)\n",
    "\n",
    "    for jj, amp in enumerate(camera[0].getAmplifiers()):\n",
    "        ampName = amp.getName()\n",
    "        gain = ptc.gain[ampName]\n",
    "        a00 = ptc.ptcFitPars[ampName][0]\n",
    "        noise = ptc.noise[ampName]\n",
    "        mask = np.array(ptc.expIdMask[ampName], dtype=bool)\n",
    "        maxDM = np.max(np.array(ptc.rawMeans[ampName])[mask])\n",
    "        # Now get and plot the linearizer fit\n",
    "        # This code is copied from cp_pipe/linearity.py\n",
    "        if ampName not in ['C10', 'C11', 'C12', 'C13']:\n",
    "            continue\n",
    "        modExpTimes = []\n",
    "        corrections = []\n",
    "        for ii, pair in enumerate(ptc.inputExpIdPairs[ampName]):\n",
    "            pair = pair[0]\n",
    "            modExpTime = 0.0\n",
    "            nExps = 0\n",
    "            for j in range(2):\n",
    "                expId = pair[j]\n",
    "                try:\n",
    "                    monDiode = calcMondiode(expId)\n",
    "                    modExpTime += monDiode\n",
    "                    nExps += 1\n",
    "                except:\n",
    "                    continue\n",
    "            if nExps > 0:\n",
    "                # The 5E8 factor bring the modExpTimes back to about the same order as the expTimes                                                                                                          \n",
    "                modExpTime = 5.0E8 * modExpTime / nExps\n",
    "            else:\n",
    "                mask[ii] = False\n",
    "            try:\n",
    "                correction = np.nanmedian(abscissaCorrections[str(pair)])\n",
    "            except:\n",
    "                correction = 0.0\n",
    "                mask[ii] = False\n",
    "            corrections.append(correction)\n",
    "            modExpTimes.append(modExpTime)\n",
    "        inputAbscissa = np.array(modExpTimes)[mask]        \n",
    "        inputOrdinate = np.array(ptc.rawMeans[ampName])[mask]\n",
    "        \n",
    "        fluxMask = inputOrdinate < maxLinearAdu\n",
    "        lowMask = inputOrdinate > minLinearAdu\n",
    "        fluxMask = fluxMask & lowMask\n",
    "        linearAbscissa = inputAbscissa[fluxMask]\n",
    "        linearOrdinate = inputOrdinate[fluxMask]\n",
    "        linearFit, linearFitErr, chiSq, weights = irlsFit([0.0, 100.0], linearAbscissa,\n",
    "                                                          linearOrdinate, funcPolynomial)\n",
    "        # Convert this proxy-to-flux fit into an expected linear flux\n",
    "        linearOrdinate = linearFit[0] + linearFit[1] * inputAbscissa\n",
    "        # Get the spline coordinates from the stored linearizer\n",
    "        binCenters, values = np.split(lin.linearityCoeffs[amp.getName()], 2)\n",
    "\n",
    "        interp = afwMath.makeInterpolate(binCenters.tolist(), values.tolist(),\n",
    "                                         afwMath.stringToInterpStyle(\"AKIMA_SPLINE\"))\n",
    "        modelOrdinate = linearOrdinate + interp.interpolate(linearOrdinate)\n",
    "        \n",
    "        corrections = np.array(corrections)[mask]\n",
    "        corrections =  - corrections * linearFit[1] / modelOrdinate * 100.0\n",
    "        \n",
    "        plotMask = (inputOrdinate - linearOrdinate) < 1000.0\n",
    "        plt.scatter(inputAbscissa, (modelOrdinate - inputOrdinate) / modelOrdinate * 100.0 + offset * jj, label = ampName)\n",
    "        plt.plot([0,100],[offset * jj, offset * jj], ls = '--', color='black')\n",
    "        if ampName == 'C10':\n",
    "            plt.scatter(inputAbscissa, corrections - 2 * offset, label = \"Correction\")\n",
    "            plt.plot([0,100],[-offset * 2, -offset * 2], ls = '--', color='black')\n",
    "        plt.xlabel(\"Effective exposure time(sec)\")\n",
    "        plt.ylabel(\"Residual (%) + Offset\")\n",
    "        plt.ylim(-.50, 0.6)\n",
    "        plt.xlim(0, 100)\n",
    "        #plt.xticks([0,25000,50000,75000,100000])\n",
    "        plt.legend(loc = 'lower center', bbox_to_anchor = (0.5, -0.6))\n",
    "        \n",
    "         \n",
    "plt.savefig(\"/repo/main/u/cslage/bps_13144M/plots/Linearity_Corrections_13144M_07Jan21.pdf\")\n",
    "\n",
    "\n"
   ]
  },
  {
   "cell_type": "code",
   "execution_count": null,
   "metadata": {
    "tags": []
   },
   "outputs": [],
   "source": [
    "for ii, pair in enumerate(ptc.inputExpIdPairs[ampName]):\n",
    "    pair = pair[0]\n",
    "    correction = np.nanmedian(abscissaCorrections[str(pair)])\n",
    "    print(pair, correction)"
   ]
  },
  {
   "cell_type": "code",
   "execution_count": null,
   "metadata": {},
   "outputs": [],
   "source": []
  }
 ],
 "metadata": {
  "kernelspec": {
   "display_name": "LSST",
   "language": "python",
   "name": "lsst"
  },
  "language_info": {
   "codemirror_mode": {
    "name": "ipython",
    "version": 3
   },
   "file_extension": ".py",
   "mimetype": "text/x-python",
   "name": "python",
   "nbconvert_exporter": "python",
   "pygments_lexer": "ipython3",
   "version": "3.10.4"
  }
 },
 "nbformat": 4,
 "nbformat_minor": 4
}
