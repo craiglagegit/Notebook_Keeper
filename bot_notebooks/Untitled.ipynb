{
 "cells": [
  {
   "cell_type": "code",
   "execution_count": null,
   "id": "3ed974f5-95a7-49b3-a64a-ea43633f676a",
   "metadata": {
    "execution": {
     "iopub.execute_input": "2023-02-11T17:09:47.542545Z",
     "iopub.status.busy": "2023-02-11T17:09:47.542154Z",
     "iopub.status.idle": "2023-02-11T17:09:47.545765Z",
     "shell.execute_reply": "2023-02-11T17:09:47.545203Z",
     "shell.execute_reply.started": "2023-02-11T17:09:47.542525Z"
    },
    "tags": []
   },
   "outputs": [],
   "source": [
    "x = [1,2,3]"
   ]
  },
  {
   "cell_type": "code",
   "execution_count": null,
   "id": "10821559-012d-4b40-a974-7a823790adf6",
   "metadata": {
    "execution": {
     "iopub.execute_input": "2023-02-11T17:09:48.281679Z",
     "iopub.status.busy": "2023-02-11T17:09:48.281272Z",
     "iopub.status.idle": "2023-02-11T17:09:48.284977Z",
     "shell.execute_reply": "2023-02-11T17:09:48.284371Z",
     "shell.execute_reply.started": "2023-02-11T17:09:48.281652Z"
    },
    "tags": []
   },
   "outputs": [],
   "source": [
    "y = [4,5,6]\n"
   ]
  },
  {
   "cell_type": "code",
   "execution_count": null,
   "id": "a7124965-3467-473d-b6f9-5ee389c33e05",
   "metadata": {
    "execution": {
     "iopub.execute_input": "2023-02-11T17:09:53.787182Z",
     "iopub.status.busy": "2023-02-11T17:09:53.786793Z",
     "iopub.status.idle": "2023-02-11T17:09:53.790342Z",
     "shell.execute_reply": "2023-02-11T17:09:53.789770Z",
     "shell.execute_reply.started": "2023-02-11T17:09:53.787162Z"
    },
    "tags": []
   },
   "outputs": [],
   "source": [
    "x += y"
   ]
  },
  {
   "cell_type": "code",
   "execution_count": null,
   "id": "6173fa22-bfd4-432e-8d9a-967bf64268cd",
   "metadata": {
    "execution": {
     "iopub.execute_input": "2023-02-11T17:09:56.215826Z",
     "iopub.status.busy": "2023-02-11T17:09:56.215428Z",
     "iopub.status.idle": "2023-02-11T17:09:56.220028Z",
     "shell.execute_reply": "2023-02-11T17:09:56.219459Z",
     "shell.execute_reply.started": "2023-02-11T17:09:56.215805Z"
    },
    "tags": []
   },
   "outputs": [],
   "source": [
    "x"
   ]
  },
  {
   "cell_type": "code",
   "execution_count": null,
   "id": "c911511d-f58b-42c9-af4a-292b2956efc9",
   "metadata": {
    "execution": {
     "iopub.execute_input": "2023-02-11T17:37:29.140958Z",
     "iopub.status.busy": "2023-02-11T17:37:29.140560Z",
     "iopub.status.idle": "2023-02-11T17:37:29.144921Z",
     "shell.execute_reply": "2023-02-11T17:37:29.144333Z",
     "shell.execute_reply.started": "2023-02-11T17:37:29.140937Z"
    },
    "tags": []
   },
   "outputs": [],
   "source": [
    "len(x)"
   ]
  },
  {
   "cell_type": "code",
   "execution_count": null,
   "id": "7102d9b8-458c-4850-90e6-e1a4233e46e1",
   "metadata": {
    "execution": {
     "iopub.execute_input": "2023-02-11T17:37:46.302090Z",
     "iopub.status.busy": "2023-02-11T17:37:46.301691Z",
     "iopub.status.idle": "2023-02-11T17:37:46.305121Z",
     "shell.execute_reply": "2023-02-11T17:37:46.304542Z",
     "shell.execute_reply.started": "2023-02-11T17:37:46.302069Z"
    },
    "tags": []
   },
   "outputs": [],
   "source": [
    "z = [[1,2],[3,4]]\n",
    "     "
   ]
  },
  {
   "cell_type": "code",
   "execution_count": null,
   "id": "ed78d9bf-f0ca-4c1a-998a-50a9d1c3f401",
   "metadata": {
    "execution": {
     "iopub.execute_input": "2023-02-11T17:37:51.315583Z",
     "iopub.status.busy": "2023-02-11T17:37:51.315304Z",
     "iopub.status.idle": "2023-02-11T17:37:51.319419Z",
     "shell.execute_reply": "2023-02-11T17:37:51.318902Z",
     "shell.execute_reply.started": "2023-02-11T17:37:51.315566Z"
    }
   },
   "outputs": [],
   "source": [
    "len(z)"
   ]
  },
  {
   "cell_type": "code",
   "execution_count": null,
   "id": "ac0067e9-d721-4ecf-845c-2d2e8d018b76",
   "metadata": {
    "execution": {
     "iopub.execute_input": "2023-02-11T17:44:31.942996Z",
     "iopub.status.busy": "2023-02-11T17:44:31.942495Z",
     "iopub.status.idle": "2023-02-11T17:44:31.945667Z",
     "shell.execute_reply": "2023-02-11T17:44:31.945187Z",
     "shell.execute_reply.started": "2023-02-11T17:44:31.942974Z"
    },
    "tags": []
   },
   "outputs": [],
   "source": [
    "import numpy as np\n",
    "x = np.zeros([1,8,8])"
   ]
  },
  {
   "cell_type": "code",
   "execution_count": null,
   "id": "becc45b3-5682-4a97-882f-6ed1ba8f1b3f",
   "metadata": {
    "execution": {
     "iopub.execute_input": "2023-02-11T17:44:40.018442Z",
     "iopub.status.busy": "2023-02-11T17:44:40.018147Z",
     "iopub.status.idle": "2023-02-11T17:44:40.021770Z",
     "shell.execute_reply": "2023-02-11T17:44:40.021343Z",
     "shell.execute_reply.started": "2023-02-11T17:44:40.018423Z"
    },
    "tags": []
   },
   "outputs": [],
   "source": [
    "x.shape"
   ]
  },
  {
   "cell_type": "code",
   "execution_count": null,
   "id": "9fe98597-6429-42ce-b511-3035200a90ad",
   "metadata": {
    "execution": {
     "iopub.execute_input": "2023-02-11T17:44:57.591638Z",
     "iopub.status.busy": "2023-02-11T17:44:57.591138Z",
     "iopub.status.idle": "2023-02-11T17:44:57.594111Z",
     "shell.execute_reply": "2023-02-11T17:44:57.593673Z",
     "shell.execute_reply.started": "2023-02-11T17:44:57.591617Z"
    }
   },
   "outputs": [],
   "source": [
    "y = np.ones([1,8,8])"
   ]
  },
  {
   "cell_type": "code",
   "execution_count": null,
   "id": "0530d911-199c-45b3-9c33-7d28da91c21e",
   "metadata": {
    "execution": {
     "iopub.execute_input": "2023-02-11T17:45:34.958099Z",
     "iopub.status.busy": "2023-02-11T17:45:34.957798Z",
     "iopub.status.idle": "2023-02-11T17:45:34.960859Z",
     "shell.execute_reply": "2023-02-11T17:45:34.960382Z",
     "shell.execute_reply.started": "2023-02-11T17:45:34.958079Z"
    },
    "tags": []
   },
   "outputs": [],
   "source": [
    "z = np.concatenate((x,y),axis=0)"
   ]
  },
  {
   "cell_type": "code",
   "execution_count": null,
   "id": "b6a41c47-c006-4cf4-97ff-57f4e5b5fe90",
   "metadata": {
    "execution": {
     "iopub.execute_input": "2023-02-11T17:45:39.336165Z",
     "iopub.status.busy": "2023-02-11T17:45:39.335860Z",
     "iopub.status.idle": "2023-02-11T17:45:39.339802Z",
     "shell.execute_reply": "2023-02-11T17:45:39.339330Z",
     "shell.execute_reply.started": "2023-02-11T17:45:39.336145Z"
    }
   },
   "outputs": [],
   "source": [
    "z.shape"
   ]
  },
  {
   "cell_type": "code",
   "execution_count": null,
   "id": "b5433296-e356-4a01-9be0-0bcee0f919f0",
   "metadata": {
    "execution": {
     "iopub.execute_input": "2023-02-11T17:45:42.516469Z",
     "iopub.status.busy": "2023-02-11T17:45:42.516168Z",
     "iopub.status.idle": "2023-02-11T17:45:42.520752Z",
     "shell.execute_reply": "2023-02-11T17:45:42.520298Z",
     "shell.execute_reply.started": "2023-02-11T17:45:42.516449Z"
    }
   },
   "outputs": [],
   "source": [
    "z"
   ]
  },
  {
   "cell_type": "code",
   "execution_count": null,
   "id": "c431e73e-00cb-4da2-b6f7-724a1e8a9821",
   "metadata": {},
   "outputs": [],
   "source": []
  }
 ],
 "metadata": {
  "kernelspec": {
   "display_name": "LSST",
   "language": "python",
   "name": "lsst"
  },
  "language_info": {
   "codemirror_mode": {
    "name": "ipython",
    "version": 3
   },
   "file_extension": ".py",
   "mimetype": "text/x-python",
   "name": "python",
   "nbconvert_exporter": "python",
   "pygments_lexer": "ipython3",
   "version": "3.10.9"
  }
 },
 "nbformat": 4,
 "nbformat_minor": 5
}
