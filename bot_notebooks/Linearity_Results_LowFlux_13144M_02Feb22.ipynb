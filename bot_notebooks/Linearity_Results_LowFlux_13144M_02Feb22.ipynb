{
 "cells": [
  {
   "cell_type": "markdown",
   "metadata": {},
   "source": [
    "# Notebook for investigating linearity corrections\n",
    "\n",
    "Initially written 20 Dec 2021 by Craig Lage\\\n",
    "copying from Chris Waters."
   ]
  },
  {
   "cell_type": "code",
   "execution_count": null,
   "metadata": {},
   "outputs": [],
   "source": [
    "import sys, os, glob, time\n",
    "import pickle as pkl\n",
    "import numpy as np\n",
    "import matplotlib.pyplot as plt\n",
    "from matplotlib.backends.backend_pdf import PdfPages\n",
    "import astropy.io.fits as pf\n",
    "from lsst.daf.butler import Butler\n",
    "import lsst.afw.math as afwMath\n",
    "from lsst.cp.pipe.utils import (funcPolynomial, irlsFit)"
   ]
  },
  {
   "cell_type": "code",
   "execution_count": null,
   "metadata": {},
   "outputs": [],
   "source": [
    "butler = Butler(\"/repo/main\", collections=[\"LSSTCam/raw/all\",\"LSSTCam/calib\",\\\n",
    "                                                    \"u/cslage/calib/13144/calib.20220103\"])\n",
    "camera = butler.get('camera', instrument='LSSTCam')"
   ]
  },
  {
   "cell_type": "code",
   "execution_count": null,
   "metadata": {},
   "outputs": [],
   "source": [
    "ptcButler_1 = Butler(\"/repo/main\", collections=[\"u/cslage/bps_13144M\"])"
   ]
  },
  {
   "cell_type": "code",
   "execution_count": null,
   "metadata": {},
   "outputs": [],
   "source": [
    "ptcButler_2 = Butler(\"/repo/main\", collections=[\"u/cslage/ptc_13177\"])"
   ]
  },
  {
   "cell_type": "code",
   "execution_count": null,
   "metadata": {},
   "outputs": [],
   "source": [
    "def ExpApprox(mu, g, a00, n):\n",
    "    if (g < 1.0E-6) or (abs(a00) < 1.0E-9):\n",
    "        return np.zeros([len(mu)])\n",
    "    else:\n",
    "        expFactor = 2.0 * a00 * mu * g\n",
    "        if max(expFactor) > 100.0:\n",
    "            return np.zeros([len(mu)])\n",
    "        else:\n",
    "            preFactor = 1.0 / (2.0 * g * g * a00)\n",
    "            noiseTerm = n / (g * g)\n",
    "            return preFactor * (np.exp(expFactor) - 1.0) + noiseTerm\n",
    "        \n",
    "def calcMondiode(expId):\n",
    "    factor = 5.0\n",
    "    DATA_DIR = '/lsstdata/offline/teststand/BOT/storage/'\n",
    "    date = int(expId/100000)\n",
    "    seq = expId - date * 100000\n",
    "    date = date - 10000000\n",
    "    file = DATA_DIR + '%d/MC_C_%d_%06d/Photodiode_Readings_%d_%06d.txt'%(date,date,seq,date,seq)\n",
    "\n",
    "    x, y = np.recfromtxt(file).transpose()\n",
    "    # Threshold for finding baseline current values:                                                                                                                                                         \n",
    "    ythresh = (min(y) + max(y))/factor + min(y)\n",
    "    # Subtract the median of the baseline values to get a calibrated                                                                                                                                         \n",
    "    # current.                                                                                                                                                                                               \n",
    "    y -= np.median(y[np.where(y < ythresh)])\n",
    "    integral = sum((y[1:] + y[:-1])/2*(x[1:] - x[:-1]))\n",
    "    return integral\n"
   ]
  },
  {
   "cell_type": "code",
   "execution_count": null,
   "metadata": {
    "tags": []
   },
   "outputs": [],
   "source": [
    "pdf = PdfPages(\"/repo/main/u/cslage/bps_13144N/plots/Linearity_LoFlux_13144N_02Feb21.pdf\")\n",
    "\n",
    "names = [\"E2V\", \"ITL\"]\n",
    "linNames = [\"Not Linearized\", \"Linearized\"]\n",
    "\n",
    "for i, det in enumerate([55, 74]):\n",
    "    expId=3021120700200\n",
    "    ptc_1 = ptcButler_1.get('ptc', detector=det, exposure=expId, instrument='LSSTCam')\n",
    "    expId=3021112900404\n",
    "    ptc_2 = ptcButler_2.get('ptc', detector=det, exposure=expId, instrument='LSSTCam')\n",
    "    for amp in camera[0].getAmplifiers():\n",
    "        ampName = amp.getName()\n",
    "        if [det, ampName] not in [[55, 'C04']]:\n",
    "            continue\n",
    "        fig = plt.figure(figsize=(16,8))\n",
    "        plt.subplots_adjust(wspace = 0.5, hspace = 0.5)\n",
    "        for n, ptc in enumerate([ptc_1, ptc_2]):\n",
    "            gain = ptc.gain[ampName]\n",
    "            a00 = ptc.ptcFitPars[ampName][0]\n",
    "            noise = ptc.noise[ampName]\n",
    "            mask = np.array(ptc.expIdMask[ampName], dtype=bool)\n",
    "            maxDM = np.max(np.array(ptc.rawMeans[ampName])[mask])\n",
    "            print(f\"{names[i]}-{det}-{ampName}-{linNames[n]} Gain={gain:.4f}, A00={a00:.6g}, Noise={noise:.2f}, Turnoff={maxDM:.2f}\")\n",
    "            yplot = ExpApprox(np.array(ptc.rawMeans[ampName]), gain, a00, noise)\n",
    "            plt.subplot(2,2,2*n+1)\n",
    "            plt.title(f\"{names[i]} - {det} - {ampName}\\n{linNames[n]}\")\n",
    "            plt.scatter(ptc.rawMeans[ampName], ptc.rawVars[ampName], marker='+', label=\"Raw Data\")\n",
    "            plt.plot(ptc.rawMeans[ampName], yplot, ls = '--', color = 'red', label = 'ExpApprox')\n",
    "            #plt.plot([maxDM, maxDM], [0, 50000], ls = '--', color='black', label = \"PTC Turnoff\")\n",
    "            plt.legend()\n",
    "            plt.xlim(0, 1000)\n",
    "            plt.xticks([0,250,500,750,1000])\n",
    "            plt.xlabel(\"Flux (ADU)\")\n",
    "            plt.ylabel(\"Variance (ADU^2)\")\n",
    "            plt.ylim(0,1000)\n",
    "            plt.subplot(2,2,2*n+2)\n",
    "            plt.title(f\"{names[i]} - {det} - {ampName} PTC Residual\\n{linNames[n]}\")\n",
    "            plt.scatter(np.array(ptc.rawMeans[ampName]) * gain, np.array(yplot - ptc.rawVars[ampName]) * gain**2, marker='+', label=\"Raw\")\n",
    "            #plt.plot([maxDM, maxDM], [-1000, 1000], ls = '--', color='black', label = \"PTC Turnoff\")\n",
    "            plt.xlim(0,1000)\n",
    "            plt.xticks([0,250,500,750,1000])\n",
    "            plt.ylim(-25, 0)\n",
    "            plt.xlabel(\"Flux (e-)\")\n",
    "            plt.ylabel(\"PTC Residual (e-^2)\")\n",
    "        #pdf.savefig(fig)\n",
    "        #plt.close(fig)            \n",
    "pdf.close()\n",
    "\n",
    "\n"
   ]
  },
  {
   "cell_type": "code",
   "execution_count": null,
   "metadata": {
    "tags": []
   },
   "outputs": [],
   "source": [
    "pdf = PdfPages(\"/repo/main/u/cslage/ptc_13177/plots/Linearity_LoFlux_02Feb21.pdf\")\n",
    "\n",
    "names = [\"E2V\", \"ITL\"]\n",
    "ptcNames = [\"13144\", \"13117\"]\n",
    "\n",
    "for i, det in enumerate([55, 74]):\n",
    "    expId=3021120700200\n",
    "    ptc_1 = ptcButler_1.get('ptc', detector=det, exposure=expId, instrument='LSSTCam')\n",
    "    expId=3021112900404\n",
    "    ptc_2 = ptcButler_2.get('ptc', detector=det, exposure=expId, instrument='LSSTCam')\n",
    "    for amp in camera[0].getAmplifiers():\n",
    "        ampName = amp.getName()\n",
    "        #if [det, ampName] not in [[55, 'C01']]:\n",
    "        #    continue\n",
    "        fig = plt.figure(figsize=(12,4))\n",
    "        plt.subplots_adjust(wspace = 0.5, hspace = 0.5)\n",
    "        for n, ptc in enumerate([ptc_1, ptc_2]):\n",
    "            gain = ptc.gain[ampName]\n",
    "            a00 = ptc.ptcFitPars[ampName][0]\n",
    "            noise = ptc.noise[ampName]\n",
    "            mask = np.array(ptc.expIdMask[ampName], dtype=bool)\n",
    "            maxDM = np.max(np.array(ptc.rawMeans[ampName])[mask])\n",
    "            print(f\"{names[i]}-{det}-{ampName}-{ptcNames[n]} Gain={gain:.4f}, A00={a00:.6g}, Noise={noise:.2f}, Turnoff={maxDM:.2f}\")\n",
    "            yplot = ExpApprox(np.array(ptc.rawMeans[ampName]), gain, a00, noise)\n",
    "            plt.subplot(1,3,n+1)\n",
    "            plt.title(f\"{names[i]} - {det} - {ampName}\\n{ptcNames[n]}\")\n",
    "            plt.scatter(ptc.rawMeans[ampName], ptc.rawVars[ampName], marker='+', label=\"Raw Data\")\n",
    "            plt.plot(ptc.rawMeans[ampName], yplot, ls = '--', color = 'red', label = 'ExpApprox')\n",
    "            #plt.plot([maxDM, maxDM], [0, 50000], ls = '--', color='black', label = \"PTC Turnoff\")\n",
    "            plt.legend()\n",
    "            plt.xlim(0, 1000)\n",
    "            plt.xticks([0,250,500,750,1000])\n",
    "            plt.xlabel(\"Flux (ADU)\")\n",
    "            plt.ylabel(\"Variance (ADU^2)\")\n",
    "            plt.ylim(0,1000)\n",
    "            plt.subplot(1,3,3)\n",
    "            plt.title(f\"{names[i]} - {det} - {ampName} PTC Residual\")\n",
    "            plt.scatter(np.array(ptc.rawMeans[ampName]) * gain, np.array(yplot - ptc.rawVars[ampName]) * gain**2, marker='+', label=ptcNames[n])\n",
    "            #plt.plot([maxDM, maxDM], [-1000, 1000], ls = '--', color='black', label = \"PTC Turnoff\")\n",
    "            plt.xlim(0,1000)\n",
    "            plt.xticks([0,250,500,750,1000])\n",
    "            plt.ylim(-50,0)\n",
    "            plt.xlabel(\"Flux (e-)\")\n",
    "            plt.ylabel(\"PTC Residual (e-^2)\")\n",
    "        plt.subplot(1,3,3)\n",
    "        plt.legend()\n",
    "\n",
    "        pdf.savefig(fig)\n",
    "        plt.close(fig)            \n",
    "pdf.close()\n",
    "\n",
    "\n"
   ]
  },
  {
   "cell_type": "code",
   "execution_count": null,
   "metadata": {},
   "outputs": [],
   "source": []
  }
 ],
 "metadata": {
  "kernelspec": {
   "display_name": "LSST",
   "language": "python",
   "name": "lsst"
  },
  "language_info": {
   "codemirror_mode": {
    "name": "ipython",
    "version": 3
   },
   "file_extension": ".py",
   "mimetype": "text/x-python",
   "name": "python",
   "nbconvert_exporter": "python",
   "pygments_lexer": "ipython3",
   "version": "3.10.4"
  }
 },
 "nbformat": 4,
 "nbformat_minor": 4
}
