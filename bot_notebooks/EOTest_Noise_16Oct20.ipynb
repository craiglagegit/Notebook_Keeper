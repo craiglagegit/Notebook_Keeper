{
 "cells": [
  {
   "cell_type": "markdown",
   "metadata": {},
   "source": [
    "# Notebook for plotting BOT gains.\n",
    "\n",
    "Initially written 28 Aug 2020 by Craig Lage."
   ]
  },
  {
   "cell_type": "code",
   "execution_count": null,
   "metadata": {},
   "outputs": [],
   "source": [
    "! eups list -s | grep lsst_distrib\n",
    "! eups list -s | grep cp_pipe"
   ]
  },
  {
   "cell_type": "code",
   "execution_count": null,
   "metadata": {},
   "outputs": [],
   "source": [
    "import sys, os, glob, time\n",
    "import numpy as np\n",
    "import matplotlib.pyplot as plt\n",
    "from lsst.daf.persistence import Butler\n",
    "import pickle as pkl"
   ]
  },
  {
   "cell_type": "code",
   "execution_count": null,
   "metadata": {},
   "outputs": [],
   "source": [
    "REPO_DIR = '/project/shared/BOT/rerun/cslage/PTC_LSSTCAM_New_12606'\n",
    "# Get the eotest results\n",
    "filename = \"/project/cslage/BOT_LSSTCam/eotest/eotest_gain_09oct20.pkl\"\n",
    "file = open(filename, 'rb')\n",
    "fe55_results = pkl.load(file)\n",
    "ptc_results = pkl.load(file)\n",
    "file.close()\n",
    "\n",
    "rafts = [       'R01', 'R02', 'R03', \\\n",
    "         'R10', 'R11', 'R12', 'R13', 'R14', \\\n",
    "         'R20', 'R21', 'R22', 'R23', 'R24', \\\n",
    "         'R30', 'R31', 'R32', 'R33', 'R34', \\\n",
    "                'R41', 'R42', 'R43']\n",
    "sensors = ['S00', 'S01', 'S02', 'S10', 'S11', 'S12', 'S20', 'S21', 'S22']\n",
    "amps = ['C10','C11','C12','C13','C14','C15','C16','C17',\\\n",
    "        'C07','C06','C05','C04','C03','C02','C01','C00',]\n",
    "slacAmps = {'C10':0,'C11':1,'C12':2,'C13':3,\\\n",
    "           'C14':4,'C15':5,'C16':6,'C17':7,\\\n",
    "           'C07':8,'C06':9,'C05':10,'C04':11,\\\n",
    "           'C03':12,'C02':13,'C01':14,'C00':15}"
   ]
  },
  {
   "cell_type": "code",
   "execution_count": null,
   "metadata": {},
   "outputs": [],
   "source": [
    "def detector(raft, sensor):\n",
    "    # Subroutine to find vendor and detector number given raft and sensor                                                                                                                                                           \n",
    "    startingCol = [1,0,0,0,1] # First raft column in each row                                                                                                                                                                       \n",
    "    rows = [0,3,8,13,18] # Starting raft sequence number of each row                                                                                                                                                                \n",
    "    if raft in ['R11','R12','R13','R14','R21','R22','R23','R24','R30',\\\n",
    "                'R31','R32','R33','R34']:\n",
    "        vendor = 'E2V'\n",
    "    else:\n",
    "        vendor = 'ITL'\n",
    "    raftRow = int(list(raft)[1])\n",
    "    raftCol = int(list(raft)[2])\n",
    "    sensorRow = int(list(sensor)[1])\n",
    "    sensorCol = int(list(sensor)[2])\n",
    "    detectorNum = (rows[raftRow] + (raftCol - startingCol[raftRow])) * 9\n",
    "    detectorNum += 3 * sensorRow + sensorCol\n",
    "    return vendor, detectorNum, 4 - raftRow, raftCol\n"
   ]
  },
  {
   "cell_type": "code",
   "execution_count": null,
   "metadata": {},
   "outputs": [],
   "source": [
    "min = 0.0\n",
    "max = 50.0\n",
    "\n",
    "fig, axArray = plt.subplots(ncols=5, nrows=5, figsize=(16,16))\n",
    "for i in range(5):\n",
    "    for j in range(5):\n",
    "        axArray[i,j].axis('off')#set_visible(False)\n",
    "    \n",
    "plt.subplots_adjust(hspace=0.3, wspace = 0.3)\n",
    "plt.suptitle(\"EOTest Noise - Run 12606/12610 - 2020-10-16\", fontsize=24)\n",
    "\n",
    "badDetectors = []                                                                                                                                                                        \n",
    "rafts = [       'R01', 'R02', 'R03', \\\n",
    "         'R10', 'R11', 'R12', 'R13', 'R14', \\\n",
    "         'R20', 'R21', 'R22', 'R23', 'R24', \\\n",
    "         'R30', 'R31', 'R32', 'R33', 'R34', \\\n",
    "                'R41', 'R42', 'R43']\n",
    "sensors = ['S00', 'S01', 'S02', 'S10', 'S11', 'S12', 'S20', 'S21', 'S22']\n",
    "\n",
    "e2vs = []\n",
    "itls = []\n",
    "missingE2vs = []\n",
    "missingItls = []\n",
    "\n",
    "for RAFT in rafts:\n",
    "    noises = []\n",
    "    noise_errs = []\n",
    "    xaxis = []\n",
    "    missing_noise = []\n",
    "    missing_xaxis = []\n",
    "\n",
    "    for xValue, SENSOR in enumerate(sensors):\n",
    "        VENDOR, DETECTOR, raftRow, raftCol = detector(RAFT,SENSOR)\n",
    "        ax = axArray[raftRow, raftCol]\n",
    "        ax.axis('on')#set_visible(True)\n",
    "        ax.set_title(\"%s\"%RAFT, fontsize = 12)\n",
    "        ax.set_ylabel(\"Noise\", fontsize = 12)\n",
    "        ax.set_ylim(min, max)\n",
    "\n",
    "        if VENDOR == 'E2V':\n",
    "            color = 'green'\n",
    "        elif VENDOR == 'ITL':\n",
    "            color = 'blue'\n",
    "        if DETECTOR in badDetectors:\n",
    "            missing = \"%s%s\"%(RAFT,SENSOR)\n",
    "            if VENDOR == 'E2V':\n",
    "                missingE2vs.append(missing)\n",
    "            elif VENDOR == 'ITL':\n",
    "                missingItls.append(missing)\n",
    "            ax.scatter([xValue,xValue], [0.5,0.5], marker = 'o', color = 'red')\n",
    "            continue\n",
    "        for amp in amps:\n",
    "            noise = ptc_results['ptc_noise'][RAFT][SENSOR][slacAmps[amp]]\n",
    "            noise_err = ptc_results['ptc_noise_error'][RAFT][SENSOR][slacAmps[amp]]\n",
    "            noises.append(noise)\n",
    "            noise_errs.append(noise_err)\n",
    "            xaxis.append(xValue)\n",
    "            if VENDOR == 'E2V':\n",
    "                e2vs.append(noise)\n",
    "            elif VENDOR == 'ITL':\n",
    "                itls.append(noise)\n",
    "    ax.scatter(xaxis, noises, marker = 'x', color = color)\n",
    "    ax.set_xticks(list(range(9)))\n",
    "    ax.set_xticklabels(sensors, fontsize=8)\n",
    "plt.annotate(\"ITL\", (0.0, 0.80), fontsize = 18, xycoords='axes fraction', color='blue')\n",
    "plt.annotate(\"E2V\", (0.0, 0.65), fontsize = 18, xycoords='axes fraction', color='green')\n",
    "#plt.annotate(\"o - Missing CCD\", (0.0, 0.50), fontsize = 18, xycoords='axes fraction', color='red')\n",
    "#plt.annotate(\"x - Missing Amp\", (0.0, 0.35), fontsize = 18, xycoords='axes fraction', color='red')\n",
    "plt.savefig(REPO_DIR+'/plots/Noise_Summary_12606_16Oct20.pdf')\n"
   ]
  },
  {
   "cell_type": "code",
   "execution_count": null,
   "metadata": {},
   "outputs": [],
   "source": [
    "print(len(e2vs), len(itls))\n",
    "print(missingE2vs)\n",
    "print(missingItls)"
   ]
  },
  {
   "cell_type": "code",
   "execution_count": null,
   "metadata": {},
   "outputs": [],
   "source": [
    "hists = [['E2V', e2vs, 13*9*16, missingE2vs], ['ITL', itls, 8*9*16, missingItls]]\n",
    "\n",
    "\n",
    "plt.figure(figsize=(16,8))\n",
    "plt.subplots_adjust(hspace=0.5)\n",
    "plt.suptitle(\"BOT Gains - Run 12606 - 2020-10-13\", fontsize=24)\n",
    "plotcounter = 0\n",
    "for [name, data, numAmps, missing] in hists:\n",
    "    data = np.array(data)\n",
    "    plotcounter += 1\n",
    "    plt.subplot(1,2,plotcounter)\n",
    "    plt.title(\"%s\"%(name), fontsize = 24)\n",
    "    n, bins, patches = plt.hist(data, bins = 50, range=(min, max))\n",
    "    ymax = n.max() * 1.10\n",
    "    index = np.where((data>min) & (data<max))\n",
    "    plt.text(0.7*max, n.max(), \"Mean = %.3f\"%np.nanmean(data[index]), fontsize = 18)\n",
    "    plt.text(0.7*max, 0.95*n.max(), \"Std = %.3f\"%np.nanstd(data[index]), fontsize = 18)\n",
    "    plt.text(0.7*max, 0.90*n.max(), \"n = %d / %d\"%(len(data[index]), numAmps), fontsize = 18)\n",
    "    for i, miss in enumerate(missing):\n",
    "        plt.text(0.7*max, (0.85-i*0.05)*n.max(), \"Missing = %s\"%miss, fontsize = 12)\n",
    "    plt.xlim(min, max)\n",
    "    plt.ylim(0, ymax)\n",
    "    plt.xlabel(\"Gain (e-/ADU)\", fontsize = 18)\n",
    "plt.savefig(REPO_DIR+'/plots/Gain_Histograms_12606_13Oct20.pdf')"
   ]
  },
  {
   "cell_type": "code",
   "execution_count": null,
   "metadata": {},
   "outputs": [],
   "source": []
  }
 ],
 "metadata": {
  "kernelspec": {
   "display_name": "LSST",
   "language": "python",
   "name": "lsst"
  },
  "language_info": {
   "codemirror_mode": {
    "name": "ipython",
    "version": 3
   },
   "file_extension": ".py",
   "mimetype": "text/x-python",
   "name": "python",
   "nbconvert_exporter": "python",
   "pygments_lexer": "ipython3",
   "version": "3.7.8"
  }
 },
 "nbformat": 4,
 "nbformat_minor": 4
}
