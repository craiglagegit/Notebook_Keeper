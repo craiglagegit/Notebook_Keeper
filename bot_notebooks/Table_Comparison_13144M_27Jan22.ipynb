{
 "cells": [
  {
   "cell_type": "markdown",
   "metadata": {},
   "source": [
    "# Notebook for comparing eotest gain with DM gain.\n",
    "\n",
    "Initially written 20 Nov 2021 by Craig Lage."
   ]
  },
  {
   "cell_type": "code",
   "execution_count": null,
   "metadata": {},
   "outputs": [],
   "source": [
    "import sys, os, glob, time\n",
    "import pickle as pkl\n",
    "import numpy as np\n",
    "import matplotlib.pyplot as plt\n",
    "import astropy.io.fits as pf\n",
    "from lsst.daf.butler import Butler"
   ]
  },
  {
   "cell_type": "code",
   "execution_count": null,
   "metadata": {},
   "outputs": [],
   "source": [
    "butler = Butler(\"/repo/main\", collections=[\"LSSTCam/raw/all\",\"LSSTCam/calib\", \"u/cslage/bps_13144M\", \"u/cslage/linearizerB_26jan22\"])\n",
    "camera = butler.get('camera', instrument='LSSTCam')\n",
    "exposure=3021120600576"
   ]
  },
  {
   "cell_type": "code",
   "execution_count": null,
   "metadata": {},
   "outputs": [],
   "source": [
    "# Get the eotest results\n",
    "filename = \"/project/cslage/BOT_LSSTCam/eotest/eotest_gain_13144_15dec21.pkl\"\n",
    "file = open(filename, 'rb')\n",
    "#fe55_results = pkl.load(file)\n",
    "ptc_results = pkl.load(file)\n",
    "file.close()\n",
    "\n",
    "# This dictionary captures the amp naming correspondence\n",
    "slacAmps = {'C10':'AMP01','C11':'AMP02','C12':'AMP03','C13':'AMP04',\\\n",
    "           'C14':'AMP05','C15':'AMP06','C16':'AMP07','C17':'AMP08',\\\n",
    "           'C07':'AMP09','C06':'AMP10','C05':'AMP11','C04':'AMP12',\\\n",
    "           'C03':'AMP13','C02':'AMP14','C01':'AMP15','C00':'AMP16'}\n"
   ]
  },
  {
   "cell_type": "code",
   "execution_count": null,
   "metadata": {
    "tags": []
   },
   "outputs": [],
   "source": [
    "filename = \"/repo/main/u/cslage/bps_13144M/plots/ptc_table_13144M_27jan22.txt\"\n",
    "file = open(filename, 'w')\n",
    "header = \"Amp\\t Gain_DM\\t Gain_EO\\t A00_DM\\t A00_EO\\t Noise_DM\\t Noise_EO\\t Turn_DM\\t Turn_EO\\t MaxNL_DM\\t CorrStd\\n\"\n",
    "file.write(header)\n",
    "fluxMin = 10000.0\n",
    "\n",
    "for detector in camera:\n",
    "    if detector.getType().name != 'SCIENCE':\n",
    "        continue\n",
    "    detName = detector.getName()\n",
    "    RAFT = detName.split('_')[0]\n",
    "    SENSOR = detName.split('_')[1]\n",
    "    DETECTOR = detector.getId()\n",
    "    try:\n",
    "        ptc = butler.get('ptc', detector=DETECTOR, instrument='LSSTCam')\n",
    "        lin = butler.get('linearizer', detector=DETECTOR, instrument='LSSTCam')\n",
    "    except:\n",
    "        continue\n",
    "    eoPTCGain = ptc_results['ptc_gain'][RAFT][SENSOR]\n",
    "    eoPtcTurnoff = ptc_results['ptc_turnoff'][RAFT][SENSOR]\n",
    "    eoA00 = ptc_results['ptc_a00'][RAFT][SENSOR]\n",
    "    eoNoise = ptc_results['ptc_noise'][RAFT][SENSOR]\n",
    "    for amp in detector.getAmplifiers():\n",
    "        ampName = amp.getName()\n",
    "        slacAmp = slacAmps[ampName]\n",
    "        slacNum = int(slacAmp.strip('AMP')) - 1\n",
    "        if ptc.ptcFitType == 'EXPAPPROXIMATION':\n",
    "            dmA00 = ptc.ptcFitPars[ampName][0]\n",
    "        if ptc.ptcFitType == 'FULLCOVARIANCE':\n",
    "            dmA00 = ptc.aMatrix[ampName][0][0]\n",
    "        dmMeans = np.array(ptc.finalMeans[ampName])\n",
    "        dmMeans = dmMeans[~np.isnan(dmMeans)]\n",
    "        if len(dmMeans > 0):\n",
    "            maxDM = dmMeans.max()\n",
    "        else:\n",
    "            maxDM = 0.0            \n",
    "        centers, values = np.split(lin.linearityCoeffs[ampName], 2)\n",
    "        fluxMask = np.where(centers>fluxMin)\n",
    "        try:\n",
    "            maxDeviation = np.max(abs((values/centers * 100.0)[fluxMask]))\n",
    "        except:\n",
    "            maxDeviation = np.nan\n",
    "        mask = np.array(ptc.expIdMask[ampName], dtype=bool)\n",
    "        means = np.array(ptc.rawMeans[ampName])[mask]\n",
    "        corrResiduals = np.array(lin.fitResiduals[ampName])[mask]\n",
    "        fluxMask = means > fluxMin\n",
    "        try:\n",
    "            corrStd = np.nanstd((corrResiduals/means * 100.0)[fluxMask])\n",
    "        except:\n",
    "            corrStd = np.nan\n",
    "        data = f\"{RAFT}_{SENSOR}_{ampName}\\t {ptc.gain[ampName]:.6f}\\t {eoPTCGain[slacNum]:.6f}\\\n",
    "        \\t {dmA00:.6g}\\t {-eoA00[slacNum]:.6g}\\t {ptc.noise[ampName]:.2f}\\t {eoNoise[slacNum]:.2f}\\\n",
    "        \\t {maxDM:.2f}\\t {eoPtcTurnoff[slacNum]:.2f}\\t {maxDeviation:.4f}\\t {corrStd:.6f}\\n\"\n",
    "        file.write(data)\n",
    "        #break\n",
    "    #break\n",
    "file.close()"
   ]
  },
  {
   "cell_type": "code",
   "execution_count": null,
   "metadata": {},
   "outputs": [],
   "source": []
  }
 ],
 "metadata": {
  "kernelspec": {
   "display_name": "LSST",
   "language": "python",
   "name": "lsst"
  },
  "language_info": {
   "codemirror_mode": {
    "name": "ipython",
    "version": 3
   },
   "file_extension": ".py",
   "mimetype": "text/x-python",
   "name": "python",
   "nbconvert_exporter": "python",
   "pygments_lexer": "ipython3",
   "version": "3.8.8"
  }
 },
 "nbformat": 4,
 "nbformat_minor": 4
}
