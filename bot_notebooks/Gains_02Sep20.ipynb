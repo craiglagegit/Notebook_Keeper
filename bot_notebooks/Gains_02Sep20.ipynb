{
 "cells": [
  {
   "cell_type": "markdown",
   "metadata": {},
   "source": [
    "# Notebook for plotting BOT gains.\n",
    "\n",
    "Initially written 28 Aug 2020 by Craig Lage."
   ]
  },
  {
   "cell_type": "code",
   "execution_count": null,
   "metadata": {},
   "outputs": [],
   "source": [
    "! eups list -s | grep lsst_distrib\n",
    "! eups list -s | grep cp_pipe"
   ]
  },
  {
   "cell_type": "code",
   "execution_count": null,
   "metadata": {},
   "outputs": [],
   "source": [
    "import sys, os, glob, time\n",
    "import numpy as np\n",
    "import matplotlib.pyplot as plt\n",
    "from lsst.daf.persistence import Butler"
   ]
  },
  {
   "cell_type": "code",
   "execution_count": null,
   "metadata": {},
   "outputs": [],
   "source": [
    "REPO_DIR = '/project/shared/BOT/rerun/cslage/PTC_LSSTCAM_12606'\n",
    "butler = Butler(REPO_DIR)"
   ]
  },
  {
   "cell_type": "code",
   "execution_count": null,
   "metadata": {},
   "outputs": [],
   "source": [
    "def detector(raft, sensor):\n",
    "    # Subroutine to find vendor and detector number given raft and sensor                                                                                                                                                           \n",
    "    startingCol = [1,0,0,0,1] # First raft column in each row                                                                                                                                                                       \n",
    "    rows = [0,3,8,13,18] # Starting raft sequence number of each row                                                                                                                                                                \n",
    "    if raft in ['R11','R12','R13','R14','R21','R22','R23','R24','R30',\\\n",
    "                'R31','R32','R33','R34']:\n",
    "        vendor = 'E2V'\n",
    "    else:\n",
    "        vendor = 'ITL'\n",
    "    raftRow = int(list(raft)[1])\n",
    "    raftCol = int(list(raft)[2]) - startingCol[raftRow]\n",
    "    sensorRow = int(list(sensor)[1])\n",
    "    sensorCol = int(list(sensor)[2])\n",
    "    detectorNum = (rows[raftRow] + raftCol) * 9\n",
    "    detectorNum += 3 * sensorRow + sensorCol\n",
    "    plotNum = 21 - 5 * raftRow + int(list(raft)[2])\n",
    "    return vendor, detectorNum, plotNum\n"
   ]
  },
  {
   "cell_type": "code",
   "execution_count": null,
   "metadata": {},
   "outputs": [],
   "source": [
    "min = 0.5\n",
    "max = 2.5\n",
    "\n",
    "\n",
    "plt.figure(figsize=(16,16))\n",
    "plt.subplots_adjust(hspace=0.3, wspace = 0.3)\n",
    "plt.suptitle(\"BOT Gains - Run 12606 - 2020-10-09\", fontsize=24)\n",
    "\n",
    "badDetectors = [0, 166]                                                                                                                                                                        \n",
    "rafts = [       'R01', 'R02', 'R03', \\\n",
    "         'R10', 'R11', 'R12', 'R13', 'R14', \\\n",
    "         'R20', 'R21', 'R22', 'R23', 'R24', \\\n",
    "         'R30', 'R31', 'R32', 'R33', 'R34', \\\n",
    "                'R41', 'R42', 'R43']\n",
    "sensors = ['S00', 'S01', 'S02', 'S10', 'S11', 'S12', 'S20', 'S21', 'S22']\n",
    "\n",
    "\n",
    "\n",
    "e2vs = []\n",
    "itls = []\n",
    "missingE2vs = []\n",
    "missingItls = []\n",
    "for RAFT in rafts:\n",
    "    gains = []\n",
    "    gain_err = []\n",
    "    xaxis = []\n",
    "\n",
    "    for xValue, SENSOR in enumerate(sensors):\n",
    "        VENDOR, DETECTOR, plotNum = detector(RAFT,SENSOR)\n",
    "        plt.subplot(5,5,plotNum)\n",
    "        plt.title(\"%s\"%RAFT, fontsize = 12)\n",
    "        plt.ylabel(\"Gain\", fontsize = 12)\n",
    "\n",
    "        if VENDOR == 'E2V':\n",
    "            color = 'green'\n",
    "        elif VENDOR == 'ITL':\n",
    "            color = 'blue'\n",
    "        if DETECTOR in badDetectors:\n",
    "            plt.scatter([xValue,xValue], [1.5,1.5], marker = 'o', color = 'red')\n",
    "            continue\n",
    "        try:\n",
    "            ptcDataset = butler.get('photonTransferCurveDataset', detector=DETECTOR)\n",
    "        except:\n",
    "            plt.scatter([xValue,xValue], [1.5,1.5], marker = 'o', color = 'red')\n",
    "            continue\n",
    "        gain_data = ptcDataset.gain\n",
    "        gain_err_data = ptcDataset.gainErr\n",
    "        amps = gain_data.keys()\n",
    "        for amp in amps:\n",
    "            gain = gain_data[amp]\n",
    "            if RAFT in rafts and (gain < min or gain > max or np.isnan(gain)):\n",
    "                missing = \"%s%s_%s\"%(RAFT,SENSOR,amp)\n",
    "                if VENDOR == 'E2V':\n",
    "                    missingE2vs.append(missing)\n",
    "                elif VENDOR == 'ITL':\n",
    "                    missingItls.append(missing)\n",
    "            if np.isnan(gain):\n",
    "                continue\n",
    "            gains.append(gain)\n",
    "            gain_err.append(gain_err_data[amp])\n",
    "            xaxis.append(xValue)\n",
    "            if VENDOR == 'E2V':\n",
    "                e2vs.append(gain)\n",
    "            elif VENDOR == 'ITL':\n",
    "                itls.append(gain)\n",
    "    plt.scatter(xaxis, gains, marker = 'x', color = color)\n",
    "    plt.xticks(list(range(9)),sensors, fontsize=8)\n",
    "    plt.ylim(0.0,2.0)\n",
    "#plt.savefig(REPO_DIR+'/plots/Gain_Summary_03Sep20.pdf')\n"
   ]
  },
  {
   "cell_type": "code",
   "execution_count": null,
   "metadata": {},
   "outputs": [],
   "source": [
    "print(len(e2vs), len(itls))\n",
    "print(missingE2vs)\n",
    "print(missingItls)"
   ]
  },
  {
   "cell_type": "code",
   "execution_count": null,
   "metadata": {},
   "outputs": [],
   "source": [
    "hists = [['E2V', e2vs, 9*9*16, missingE2vs], ['ITL', itls, 4*9*16, missingItls]]\n",
    "\n",
    "\n",
    "plt.figure(figsize=(16,8))\n",
    "plt.subplots_adjust(hspace=0.5)\n",
    "plt.suptitle(\"BOT Gains - Run 12539 - 2020-09-01\", fontsize=24)\n",
    "plotcounter = 0\n",
    "for [name, data, numAmps, missing] in hists:\n",
    "    data = np.array(data)\n",
    "    plotcounter += 1\n",
    "    plt.subplot(1,2,plotcounter)\n",
    "    plt.title(\"%s\"%(name), fontsize = 24)\n",
    "    n, bins, patches = plt.hist(data, bins = 50, range=(min, max))\n",
    "    ymax = n.max() * 1.10\n",
    "    index = np.where((data>min) & (data<max))\n",
    "    plt.text(0.7*max, n.max(), \"Mean = %.3f\"%np.nanmean(data[index]), fontsize = 18)\n",
    "    plt.text(0.7*max, 0.95*n.max(), \"Std = %.3f\"%np.nanstd(data[index]), fontsize = 18)\n",
    "    plt.text(0.7*max, 0.90*n.max(), \"n = %d / %d\"%(len(data[index]), numAmps), fontsize = 18)\n",
    "    for i, miss in enumerate(missing):\n",
    "        plt.text(0.7*max, (0.85-i*0.05)*n.max(), \"Missing = %s\"%miss, fontsize = 12)\n",
    "    plt.xlim(min, max)\n",
    "    plt.ylim(0, ymax)\n",
    "    plt.xlabel(\"Gain (e-/ADU)\", fontsize = 18)\n",
    "#plt.savefig(REPO_DIR+'/plots/Gain_Histograms_03Sep20.pdf')"
   ]
  },
  {
   "cell_type": "code",
   "execution_count": null,
   "metadata": {},
   "outputs": [],
   "source": []
  }
 ],
 "metadata": {
  "kernelspec": {
   "display_name": "LSST",
   "language": "python",
   "name": "lsst"
  },
  "language_info": {
   "codemirror_mode": {
    "name": "ipython",
    "version": 3
   },
   "file_extension": ".py",
   "mimetype": "text/x-python",
   "name": "python",
   "nbconvert_exporter": "python",
   "pygments_lexer": "ipython3",
   "version": "3.7.8"
  }
 },
 "nbformat": 4,
 "nbformat_minor": 4
}
