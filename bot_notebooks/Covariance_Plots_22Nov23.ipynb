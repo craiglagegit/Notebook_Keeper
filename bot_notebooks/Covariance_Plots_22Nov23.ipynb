{
 "cells": [
  {
   "cell_type": "markdown",
   "metadata": {},
   "source": [
    "# Notebook for plotting extracted covariances on BOT data\n",
    "\n",
    "Initially written 16 Oct 2019 by Craig Lage.\n",
    "Updates 11-Nov-23\n"
   ]
  },
  {
   "cell_type": "code",
   "execution_count": null,
   "metadata": {
    "execution": {
     "iopub.execute_input": "2023-11-22T18:56:23.587425Z",
     "iopub.status.busy": "2023-11-22T18:56:23.587311Z",
     "iopub.status.idle": "2023-11-22T18:56:24.318292Z",
     "shell.execute_reply": "2023-11-22T18:56:24.317731Z",
     "shell.execute_reply.started": "2023-11-22T18:56:23.587412Z"
    },
    "tags": []
   },
   "outputs": [],
   "source": [
    "import matplotlib.pyplot as plt\n",
    "from matplotlib.backends.backend_pdf import PdfPages\n",
    "import numpy as np\n",
    "from lsst.daf.butler import Butler\n",
    "from pathlib import Path"
   ]
  },
  {
   "cell_type": "markdown",
   "metadata": {},
   "source": [
    "# First, get the data from the PTC run"
   ]
  },
  {
   "cell_type": "code",
   "execution_count": null,
   "metadata": {
    "execution": {
     "iopub.execute_input": "2023-11-22T18:56:24.319506Z",
     "iopub.status.busy": "2023-11-22T18:56:24.319332Z",
     "iopub.status.idle": "2023-11-22T18:56:34.845192Z",
     "shell.execute_reply": "2023-11-22T18:56:34.844805Z",
     "shell.execute_reply.started": "2023-11-22T18:56:24.319493Z"
    },
    "tags": []
   },
   "outputs": [],
   "source": [
    "repo = '/repo/ir2'\n",
    "butler = Butler(repo, collections=[\"LSSTCam/raw/all\",\"LSSTCam/calib\"])\n",
    "plot_dir = Path(\"./plots\")\n",
    "plot_dir.mkdir(exist_ok=True, parents=True)\n",
    "butler = Butler(\"/repo/main\", collections=[\"LSSTCam/raw/all\",\"LSSTCam/calib\", \"u/cslage/bps_13144S\"])\n",
    "exposure=3021120600576\n",
    "DETECTOR=55 # E2V\n",
    "RUN = '13144S'\n",
    "ptcDataset = butler.get('ptc', detector=DETECTOR, exposure=exposure, instrument='LSSTCam')\n",
    "gains = ptcDataset.gain\n",
    "means = ptcDataset.finalMeans\n",
    "xCorrs = ptcDataset.covariances"
   ]
  },
  {
   "cell_type": "markdown",
   "metadata": {
    "execution": {
     "iopub.execute_input": "2023-11-22T18:16:44.557776Z",
     "iopub.status.busy": "2023-11-22T18:16:44.557499Z",
     "iopub.status.idle": "2023-11-22T18:16:44.559989Z",
     "shell.execute_reply": "2023-11-22T18:16:44.559590Z",
     "shell.execute_reply.started": "2023-11-22T18:16:44.557764Z"
    },
    "tags": []
   },
   "source": [
    "# Calculate the best fit covariance at each pixel, by fitting a quadratic to the covariance vs flux data.\n",
    "## The data with PlotDelta=5 is to make a more readable plot.  The data with PlotDelta=8 is used to make the covariance vs pixel distance plot.\n",
    "## For pixel (0,0) we calculate the deviation from linearity of the variance.\n"
   ]
  },
  {
   "cell_type": "code",
   "execution_count": null,
   "metadata": {
    "execution": {
     "iopub.execute_input": "2023-11-22T18:56:34.845838Z",
     "iopub.status.busy": "2023-11-22T18:56:34.845711Z",
     "iopub.status.idle": "2023-11-22T18:57:15.276309Z",
     "shell.execute_reply": "2023-11-22T18:57:15.275887Z",
     "shell.execute_reply.started": "2023-11-22T18:56:34.845826Z"
    },
    "tags": []
   },
   "outputs": [],
   "source": [
    "Cov = np.zeros([len(means.keys()),8, 8])\n",
    "for PlotDelta in [5, 8]: # Number of pixels to look at\n",
    "    pdf = PdfPages(str(plot_dir / f\"Covariance_vs_Flux_{PlotDelta}_{RUN}_{DETECTOR}.pdf\"))\n",
    "    for ampNum, amp in enumerate(means.keys()):\n",
    "        gain = gains[amp]\n",
    "        NumFluxes = int(len(means[amp]))\n",
    "        fig = plt.figure(figsize = (16,8))\n",
    "        plt.suptitle(f\"Covariance vs Flux: Run {RUN}, Amp {amp}, Det {DETECTOR}\", fontsize = 24)\n",
    "        plt.subplots_adjust(wspace=0.3, hspace=0.6)\n",
    "        plotcounter = 0\n",
    "        for jj in range(PlotDelta-1, -1, -1):\n",
    "            for ii in range(PlotDelta):\n",
    "                plotcounter += 1\n",
    "                plt.subplot(PlotDelta, PlotDelta, plotcounter)\n",
    "                cov = []\n",
    "                flux = []\n",
    "\n",
    "                for n in range(NumFluxes):\n",
    "                    xcorr = xCorrs[amp][n][ii][jj]\n",
    "                    mean = means[amp][n]\n",
    "                    if np.isnan(xcorr) or np.isnan(mean):\n",
    "                        continue\n",
    "                    if ii == 0 and jj == 0:\n",
    "                        # Here we plot the deviation from linearity of the\n",
    "                        # pixel (0,0) varince\n",
    "                        xcorr = xcorr - mean / gain\n",
    "                        cov.append(-xcorr)\n",
    "                    else:\n",
    "                        cov.append(xcorr)\n",
    "                    flux.append(mean)\n",
    "                cov = np.array(cov)\n",
    "                flux = np.array(flux)\n",
    "\n",
    "                plt.scatter(flux, cov, color='blue', marker='x', s=50)\n",
    "                coefs = np.polyfit(flux*flux, cov, 1)\n",
    "                if PlotDelta == 8:\n",
    "                    Cov[ampNum, ii, jj] = coefs[0]\n",
    "                xplot = np.linspace(0,100000, 100)\n",
    "                yplot = max(0, coefs[0])*xplot*xplot\n",
    "                plt.plot(xplot,yplot, color = 'red', lw = 2)\n",
    "                plt.title(\"Pixel: (%d, %d)\"%(ii, jj), fontsize = 12)\n",
    "                if jj == 0:\n",
    "                    plt.xlabel(\"Central Pixel Charge(e-)\", fontsize = 12)\n",
    "                if ii == 0:\n",
    "                    plt.ylabel(\"Correlation\", fontsize = 12)\n",
    "                plt.xlim(0,100000)\n",
    "                plt.xticks([0,50000,100000],fontsize = 12)\n",
    "\n",
    "                if ii == 0 and jj == 0:\n",
    "                    plt.yticks([0,10000],fontsize = 12)\n",
    "                    plt.ylim(-200,30000)\n",
    "                elif ii == 0 and jj == 1:\n",
    "                    plt.yticks([0,2000,4000],fontsize = 12)\n",
    "                    plt.ylim(-100,4000)\n",
    "                elif ii == 2 and jj == 0:\n",
    "                    plt.yticks([0,500,1000],fontsize = 12)\n",
    "                    plt.ylim(-50,1000)\n",
    "                elif ii == 1 and jj < 2:\n",
    "                    plt.yticks([0,1000,2000],fontsize = 12)\n",
    "                    plt.ylim(-100,2000)\n",
    "                else:\n",
    "                    plt.yticks([-200,0,200],fontsize = 12)\n",
    "                    plt.ylim(-50,400)\n",
    "\n",
    "\n",
    "        pdf.savefig(fig)  # saves the current figure into a pdf page\n",
    "        plt.close()\n",
    "    pdf.close()\n"
   ]
  },
  {
   "cell_type": "markdown",
   "metadata": {},
   "source": [
    "# Read the simulation results from the files"
   ]
  },
  {
   "cell_type": "code",
   "execution_count": null,
   "metadata": {
    "execution": {
     "iopub.execute_input": "2023-11-22T18:57:15.277400Z",
     "iopub.status.busy": "2023-11-22T18:57:15.277247Z",
     "iopub.status.idle": "2023-11-22T18:57:15.284496Z",
     "shell.execute_reply": "2023-11-22T18:57:15.284076Z",
     "shell.execute_reply.started": "2023-11-22T18:57:15.277386Z"
    },
    "tags": []
   },
   "outputs": [],
   "source": [
    "def ReadConfigFile(filename):\n",
    "    # This reads the Poisson simulator config file for\n",
    "    # the settings that were run\n",
    "    # and returns a dictionary with the values\n",
    "\n",
    "    with open(filename,'r') as file:\n",
    "        lines=file.readlines()\n",
    "    lines = [ l.strip() for l in lines ]\n",
    "    lines = [ l.split() for l in lines if len(l) > 0 and l[0] != '#' ]\n",
    "    for line in lines:\n",
    "        if line[1] != '=':\n",
    "            print(\"Check line: \",line)\n",
    "            raise IOError(\"Error reading config file %s\"%filename)\n",
    "    config = {}\n",
    "    for line in lines:\n",
    "        try:\n",
    "            # First get the ordered pairs\n",
    "            config.update({line[0]:[eval(line[2]), eval(line[3])]})\n",
    "        except:\n",
    "            try:\n",
    "                # Then get the numeric values\n",
    "                config.update({line[0]:eval(line[2])})\n",
    "            except:\n",
    "                try:\n",
    "                    # Last, get the strings\n",
    "                    config.update({line[0]:str(line[2])})\n",
    "                except:\n",
    "                    pass\n",
    "    return config\n",
    "\n",
    "def ReadAreaFile(filename, nx, ny, nxcenter, nycenter, Area_0):\n",
    "    # This reads the correlation data file\n",
    "    # and returns an array with the expected correlations\n",
    "    Area_0 = 99.9974\n",
    "    area = np.zeros([nx, ny])\n",
    "    file = open(filename, 'r')\n",
    "    lines = file.readlines()\n",
    "    file.close()\n",
    "    lines.remove(lines[0]) # Strip the title line    \n",
    "    for line in lines:\n",
    "        items = line.split()\n",
    "        i = int(items[0])\n",
    "        j = int(items[1])\n",
    "        area[i,j] = float(items[2])\n",
    "\n",
    "    sim = np.zeros([8,8])\n",
    "    num = np.zeros([8,8], dtype = int)    \n",
    "    try:\n",
    "        for i in range(nx):\n",
    "            for j in range(ny):\n",
    "                ii = abs(i - nxcenter)\n",
    "                jj = abs(j - nycenter)\n",
    "                sim[jj,ii] += (area[i,j] - Area_0) / Area_0\n",
    "                num[jj,ii] += 1\n",
    "        for i in range(8):\n",
    "            for j in range(8):\n",
    "                if num[i,j] >0:\n",
    "                    sim[i,j] /= float(num[i,j])\n",
    "    except:\n",
    "        pass\n",
    "    return [area,sim]\n"
   ]
  },
  {
   "cell_type": "code",
   "execution_count": null,
   "metadata": {
    "execution": {
     "iopub.execute_input": "2023-11-22T18:57:15.285253Z",
     "iopub.status.busy": "2023-11-22T18:57:15.284984Z",
     "iopub.status.idle": "2023-11-22T18:57:15.293793Z",
     "shell.execute_reply": "2023-11-22T18:57:15.293489Z",
     "shell.execute_reply.started": "2023-11-22T18:57:15.285239Z"
    },
    "tags": []
   },
   "outputs": [],
   "source": [
    "# Read the .cfg file\n",
    "home_dir = '/home/c/cslage/u/BOT/corr_sims/'\n",
    "run = 0\n",
    "configfile = home_dir + 'pixel-e2v.cfg'\n",
    "ConfigData = ReadConfigFile(configfile)\n",
    "outputfilebase = ConfigData[\"outputfilebase\"]\n",
    "Nx = ConfigData[\"PixelBoundaryNx\"]\n",
    "Ny = ConfigData[\"PixelBoundaryNy\"]\n",
    "XCenter = ConfigData[\"FilledPixelCoords_0_0\"][0]\n",
    "YCenter = ConfigData[\"FilledPixelCoords_0_0\"][1]\n",
    "PixelSizeX = ConfigData[\"PixelSizeX\"]\n",
    "PixelSizeY = ConfigData[\"PixelSizeY\"]\n",
    "NxCenter = int((XCenter - ConfigData[\"PixelBoundaryLowerLeft\"][0]) / PixelSizeX)\n",
    "NyCenter = int((YCenter - ConfigData[\"PixelBoundaryLowerLeft\"][1]) / PixelSizeY)\n",
    "Area_0 = 99.9974\n",
    "NumElec = ConfigData[\"CollectedCharge_0_0\"]\n",
    "\n",
    "filename = home_dir + outputfilebase +'_%d_Area_E2V'%run + '.dat'\n",
    "[area,sim] = ReadAreaFile(filename, Nx, Ny, NxCenter, NyCenter, Area_0)\n",
    "\n",
    "sim /= float(NumElec)"
   ]
  },
  {
   "cell_type": "markdown",
   "metadata": {
    "execution": {
     "iopub.execute_input": "2023-11-22T18:26:50.444407Z",
     "iopub.status.busy": "2023-11-22T18:26:50.444234Z",
     "iopub.status.idle": "2023-11-22T18:26:50.446530Z",
     "shell.execute_reply": "2023-11-22T18:26:50.446212Z",
     "shell.execute_reply.started": "2023-11-22T18:26:50.444395Z"
    },
    "tags": []
   },
   "source": [
    "# Now make the plot of covariance vs distance from central pixel"
   ]
  },
  {
   "cell_type": "code",
   "execution_count": null,
   "metadata": {
    "execution": {
     "iopub.execute_input": "2023-11-22T18:57:15.294369Z",
     "iopub.status.busy": "2023-11-22T18:57:15.294243Z",
     "iopub.status.idle": "2023-11-22T18:57:18.213513Z",
     "shell.execute_reply": "2023-11-22T18:57:18.213043Z",
     "shell.execute_reply.started": "2023-11-22T18:57:15.294358Z"
    },
    "tags": []
   },
   "outputs": [],
   "source": [
    "pdf = PdfPages(str(plot_dir / f\"Covariance_vs_Distance_{RUN}_{DETECTOR}.pdf\"))\n",
    "for ampNum, amp in enumerate(means.keys()):\n",
    "    # Measured covariances\n",
    "    rs = []\n",
    "    covs = []\n",
    "    for ii in range(PlotDelta):\n",
    "        for jj in range(PlotDelta):\n",
    "            r2 = (ii)**2 + (jj)**2\n",
    "            value = Cov[ampNum,ii,jj]\n",
    "            if ii == 0 and jj == 0:\n",
    "                rs.append(0.85)\n",
    "            else:\n",
    "                rs.append(r2)\n",
    "            covs.append(value)\n",
    "    # Simulations\n",
    "    simrs = []\n",
    "    simcs = []\n",
    "    for i in range(8):\n",
    "        for j in range(8):\n",
    "            r2 = i**2 + j**2\n",
    "            value = sim[i,j]\n",
    "            if i == 0 and j == 0:\n",
    "                simrs.append(0.85)\n",
    "                simcs.append(-value)\n",
    "            elif value > 0.0:\n",
    "                simrs.append(r2)\n",
    "                simcs.append(value)\n",
    "    fig = plt.figure(figsize = (10,8))\n",
    "    plt.title(f\"Covariance Matrix - Run {RUN}, Amp {amp}\", fontsize = 24)        \n",
    "    plt.scatter(rs, covs, label = \"Measured\")\n",
    "    plt.scatter(simrs, simcs, marker = 'x', color='red', label = \"Simulated\")\n",
    "    plt.yscale('log')\n",
    "    plt.ylim(1E-10, 1E-5)\n",
    "    plt.xscale('log')\n",
    "    plt.xlim(0.8, 100)\n",
    "    plt.xticks([1.0, 10.0, 100.0], fontsize=18)\n",
    "    plt.yticks([1E-10, 1E-9, 1E-8, 1E-7, 1E-6, 1E-5], fontsize=18)\n",
    "    plt.xlabel(\"$i^2 + j^2$\", fontsize = 18)\n",
    "    plt.ylabel(\"Covariance or $\\delta$ Area/Area\", fontsize = 18)\n",
    "    plt.legend(fontsize=24)\n",
    "    pdf.savefig(fig)  # saves the current figure into a pdf page\n",
    "    plt.close()\n",
    "pdf.close()\n"
   ]
  },
  {
   "cell_type": "code",
   "execution_count": null,
   "metadata": {},
   "outputs": [],
   "source": []
  }
 ],
 "metadata": {
  "kernelspec": {
   "display_name": "LSST",
   "language": "python",
   "name": "lsst"
  },
  "language_info": {
   "codemirror_mode": {
    "name": "ipython",
    "version": 3
   },
   "file_extension": ".py",
   "mimetype": "text/x-python",
   "name": "python",
   "nbconvert_exporter": "python",
   "pygments_lexer": "ipython3",
   "version": "3.11.4"
  }
 },
 "nbformat": 4,
 "nbformat_minor": 4
}
