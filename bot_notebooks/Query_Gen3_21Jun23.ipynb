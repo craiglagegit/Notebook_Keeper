{
 "cells": [
  {
   "cell_type": "markdown",
   "metadata": {},
   "source": [
    "## Query header - Gen3\n",
    "\n",
    "In this notebook, we show several ways to query the fits headers\\\n",
    "Craig Lage - 16-Mar-21"
   ]
  },
  {
   "cell_type": "code",
   "execution_count": null,
   "metadata": {
    "execution": {
     "iopub.execute_input": "2023-11-22T12:27:41.268208Z",
     "iopub.status.busy": "2023-11-22T12:27:41.267925Z",
     "iopub.status.idle": "2023-11-22T12:27:41.270830Z",
     "shell.execute_reply": "2023-11-22T12:27:41.270450Z",
     "shell.execute_reply.started": "2023-11-22T12:27:41.268192Z"
    },
    "tags": []
   },
   "outputs": [],
   "source": [
    "import numpy as np\n",
    "import matplotlib.pyplot as plt\n",
    "import astropy.io.fits as pf\n",
    "import pandas as pd\n",
    "import lsst.daf.butler as daf_butler\n",
    "#from lsst.obs.lsst import LsstCam, LsstTS8\n",
    "#import lsst.eo.pipe as eo_pipe"
   ]
  },
  {
   "cell_type": "code",
   "execution_count": null,
   "metadata": {
    "execution": {
     "iopub.execute_input": "2023-11-22T12:28:04.362110Z",
     "iopub.status.busy": "2023-11-22T12:28:04.361761Z",
     "iopub.status.idle": "2023-11-22T12:28:05.824925Z",
     "shell.execute_reply": "2023-11-22T12:28:05.824384Z",
     "shell.execute_reply.started": "2023-11-22T12:28:04.362093Z"
    },
    "tags": []
   },
   "outputs": [],
   "source": [
    "repo = '/repo/ir2'\n",
    "butler = daf_butler.Butler(repo, collections=[\"LSSTCam/raw/all\",\"LSSTCam/calib\"])\n",
    " \n",
    "exposureList = []\n",
    "for record in butler.registry.queryDimensionRecords(\"exposure\", where=\"exposure.science_program='13558'\"):\n",
    "    exposureList.append([record.id, record.observation_type, record.exposure_time, record.physical_filter, record.target_name])\n",
    "exposureList = sorted(exposureList, key=lambda x: x[0])   \n",
    "for item in exposureList:\n",
    "    print(f\"{item[0]} \\t {item[1]} \\t {item[2]} \\t\\t {item[3]} \\t {item[4]}\")\n",
    "    #print(item)"
   ]
  },
  {
   "cell_type": "code",
   "execution_count": null,
   "metadata": {
    "execution": {
     "iopub.execute_input": "2023-06-21T15:34:36.669738Z",
     "iopub.status.busy": "2023-06-21T15:34:36.669490Z",
     "iopub.status.idle": "2023-06-21T15:34:37.352150Z",
     "shell.execute_reply": "2023-06-21T15:34:37.351591Z",
     "shell.execute_reply.started": "2023-06-21T15:34:36.669721Z"
    }
   },
   "outputs": [],
   "source": [
    "repo = '/repo/ir2'\n",
    "butler = daf_butler.Butler(repo)"
   ]
  },
  {
   "cell_type": "code",
   "execution_count": null,
   "metadata": {
    "execution": {
     "iopub.execute_input": "2023-06-21T15:35:26.240153Z",
     "iopub.status.busy": "2023-06-21T15:35:26.239834Z",
     "iopub.status.idle": "2023-06-21T15:35:26.250669Z",
     "shell.execute_reply": "2023-06-21T15:35:26.250339Z",
     "shell.execute_reply.started": "2023-06-21T15:35:26.240137Z"
    },
    "jupyter": {
     "outputs_hidden": true
    },
    "tags": []
   },
   "outputs": [],
   "source": [
    "butler.registry.queryCollections(...)"
   ]
  },
  {
   "cell_type": "code",
   "execution_count": null,
   "metadata": {
    "execution": {
     "iopub.execute_input": "2023-06-23T00:38:22.045010Z",
     "iopub.status.busy": "2023-06-23T00:38:22.044790Z",
     "iopub.status.idle": "2023-06-23T00:38:37.521065Z",
     "shell.execute_reply": "2023-06-23T00:38:37.520344Z",
     "shell.execute_reply.started": "2023-06-23T00:38:22.044995Z"
    },
    "jupyter": {
     "outputs_hidden": true
    },
    "tags": []
   },
   "outputs": [],
   "source": [
    "for item in exposureList:\n",
    "    expId = item[0]\n",
    "    exp = butler.get('raw',  exposure=expId, detector=55, instrument=\"LSSTCam\")\n",
    "    mData = exp.getMetadata()\n",
    "    print(expId, mData['CCOBFLUX'])\n"
   ]
  },
  {
   "cell_type": "code",
   "execution_count": null,
   "metadata": {
    "execution": {
     "iopub.execute_input": "2023-10-05T16:11:05.967087Z",
     "iopub.status.busy": "2023-10-05T16:11:05.966521Z",
     "iopub.status.idle": "2023-10-05T16:11:07.461680Z",
     "shell.execute_reply": "2023-10-05T16:11:07.461225Z",
     "shell.execute_reply.started": "2023-10-05T16:11:05.967069Z"
    },
    "jupyter": {
     "outputs_hidden": true
    },
    "tags": []
   },
   "outputs": [],
   "source": [
    "repo = '/repo/ir2'\n",
    "butler = daf_butler.Butler(repo, collections=[\"LSSTCam/raw/all\",\"LSSTCam/calib\",\"LSSTCam/calib/unbounded\"])\n",
    "\n",
    "expId=3023081700001\n",
    "exp = butler.get('raw',  exposure=expId, detector=35, instrument=\"LSSTCam\")\n",
    "mData = exp.getMetadata()\n",
    "for key in mData.keys():\n",
    "    print(key, mData[key])"
   ]
  },
  {
   "cell_type": "code",
   "execution_count": null,
   "metadata": {
    "execution": {
     "iopub.execute_input": "2023-06-21T15:39:03.021737Z",
     "iopub.status.busy": "2023-06-21T15:39:03.021374Z",
     "iopub.status.idle": "2023-06-21T15:39:03.050678Z",
     "shell.execute_reply": "2023-06-21T15:39:03.050073Z",
     "shell.execute_reply.started": "2023-06-21T15:39:03.021720Z"
    },
    "jupyter": {
     "outputs_hidden": true
    },
    "tags": []
   },
   "outputs": [],
   "source": [
    "exp = butler.get('postISRCCD',  exposure=expId, detector=55, instrument=\"LSSTCam\")"
   ]
  },
  {
   "cell_type": "code",
   "execution_count": null,
   "metadata": {
    "execution": {
     "iopub.execute_input": "2023-06-21T14:44:25.836046Z",
     "iopub.status.busy": "2023-06-21T14:44:25.835686Z",
     "iopub.status.idle": "2023-06-21T14:44:26.587991Z",
     "shell.execute_reply": "2023-06-21T14:44:26.587501Z",
     "shell.execute_reply.started": "2023-06-21T14:44:25.836028Z"
    },
    "tags": []
   },
   "outputs": [],
   "source": [
    "repo = '/repo/ir2'\n",
    "operator = 'lsstccs'\n",
    "acq_run = '13372'\n",
    "weekly = 'w_2023_24'\n",
    "\n",
    "butler = daf_butler.Butler(repo)\n",
    "collections = butler.registry.queryCollections(f\"u/{operator}/eo_*_{acq_run}_{weekly}\",\n",
    "                                               collectionTypes=daf_butler.CollectionType.CHAINED)\n",
    "for item in collections:\n",
    "    print(item)"
   ]
  },
  {
   "cell_type": "code",
   "execution_count": null,
   "metadata": {
    "execution": {
     "iopub.execute_input": "2023-06-21T14:44:28.683457Z",
     "iopub.status.busy": "2023-06-21T14:44:28.683093Z",
     "iopub.status.idle": "2023-06-21T14:45:19.065373Z",
     "shell.execute_reply": "2023-06-21T14:45:19.064762Z",
     "shell.execute_reply.started": "2023-06-21T14:44:28.683440Z"
    },
    "tags": []
   },
   "outputs": [],
   "source": [
    "# Several eo_pipe pipelines produce per-amp measurements for all of the CCDs in the current Camera object.\n",
    "# For LSSTCam, this would include all 205 CCDs in the focal plane; for TS8, this would be the 9 CCDs in \n",
    "# the raft installed at that test stand (currently RTM-004).\n",
    "#\n",
    "# The `eo_pipe.get_amp_data` function will retrieve these per-amp measurements and return them as a \n",
    "# three-level dictionary, keyed by measurement quantity, CCD (labeled by R**_S for LSSTCam), and \n",
    "# amplifier data (labeled by channel name, e.g., 'C01').\n",
    "#\n",
    "# The '[ps]cti' quantities are measured from combined flats, so will have different values depending on the\n",
    "# filter used, since combined flats a created separately for each filter combination.\n",
    "amp_data = eo_pipe.get_amp_data(repo, collections)\n",
    "for quantity in amp_data.keys():\n",
    "    print(quantity)"
   ]
  },
  {
   "cell_type": "code",
   "execution_count": null,
   "metadata": {
    "execution": {
     "iopub.execute_input": "2023-06-21T14:45:46.852454Z",
     "iopub.status.busy": "2023-06-21T14:45:46.852110Z",
     "iopub.status.idle": "2023-06-21T14:45:48.045461Z",
     "shell.execute_reply": "2023-06-21T14:45:48.044971Z",
     "shell.execute_reply.started": "2023-06-21T14:45:46.852437Z"
    },
    "tags": []
   },
   "outputs": [],
   "source": [
    "# These dicts of amplifier data in a format that can be used with the focal plane plotting functions in eo_pipe:\n",
    "plt.figure(figsize=(9, 9))\n",
    "ax = plt.gca()\n",
    "eo_pipe.plotting.plot_focal_plane(ax, amp_data['ptc_gain'], z_range=(1.0, 2.0));"
   ]
  },
  {
   "cell_type": "code",
   "execution_count": null,
   "metadata": {},
   "outputs": [],
   "source": []
  }
 ],
 "metadata": {
  "kernelspec": {
   "display_name": "LSST",
   "language": "python",
   "name": "lsst"
  },
  "language_info": {
   "codemirror_mode": {
    "name": "ipython",
    "version": 3
   },
   "file_extension": ".py",
   "mimetype": "text/x-python",
   "name": "python",
   "nbconvert_exporter": "python",
   "pygments_lexer": "ipython3",
   "version": "3.11.4"
  }
 },
 "nbformat": 4,
 "nbformat_minor": 4
}
