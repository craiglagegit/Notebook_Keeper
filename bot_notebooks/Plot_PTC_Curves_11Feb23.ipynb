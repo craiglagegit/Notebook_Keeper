{
 "cells": [
  {
   "cell_type": "markdown",
   "id": "e8cc3a14-f377-44f4-ab4c-97c9c3047697",
   "metadata": {},
   "source": [
    "# Aaron's ISR challenge - are amp boundaries visible after ISR?\n",
    "Implementing 20 pixel edge mask in PTC \\\n",
    "Craig Lage 25-Jan-23"
   ]
  },
  {
   "cell_type": "code",
   "execution_count": null,
   "id": "a148b369-8943-4861-a51e-9cbeea70feb3",
   "metadata": {
    "execution": {
     "iopub.execute_input": "2023-02-12T12:14:09.227912Z",
     "iopub.status.busy": "2023-02-12T12:14:09.227594Z",
     "iopub.status.idle": "2023-02-12T12:14:11.209287Z",
     "shell.execute_reply": "2023-02-12T12:14:11.208613Z",
     "shell.execute_reply.started": "2023-02-12T12:14:09.227891Z"
    },
    "tags": []
   },
   "outputs": [],
   "source": [
    "import numpy as np\n",
    "from matplotlib import pyplot as plt\n",
    "\n",
    "from lsst.daf.butler import Butler\n",
    "from lsst.ip.isr import IsrTask, IsrTaskConfig\n",
    "from mpl_toolkits.axes_grid1 import make_axes_locatable\n",
    "from matplotlib.colors import LogNorm\n",
    "from lsst.cp.pipe.ptc import PlotPhotonTransferCurveTask, PlotPhotonTransferCurveConfig\n",
    "%matplotlib inline\n"
   ]
  },
  {
   "cell_type": "code",
   "execution_count": null,
   "id": "ca416ea9-c64b-449d-8590-5f61f0dce631",
   "metadata": {
    "execution": {
     "iopub.execute_input": "2023-02-12T22:49:11.256377Z",
     "iopub.status.busy": "2023-02-12T22:49:11.256012Z",
     "iopub.status.idle": "2023-02-12T22:49:22.326459Z",
     "shell.execute_reply": "2023-02-12T22:49:22.325605Z",
     "shell.execute_reply.started": "2023-02-12T22:49:11.256356Z"
    },
    "tags": []
   },
   "outputs": [],
   "source": [
    "detector=55\n",
    "expId = 3021120700188\n",
    "fullButler = Butler(\"/repo/main\", collections=[\"u/cslage/bps_13144S\"])\n",
    "ptcButler = Butler(\"/repo/main\", collections=[\"u/cslage/ptc_subregion_full_8C_12feb23\"])\n",
    "ptc = ptcButler.get('ptc', detector=detector, exposure=expId, instrument=\"LSSTCam\")\n",
    "\n",
    "fullPtc = fullButler.get('ptc', detector=detector, exposure=expId, instrument=\"LSSTCam\")\n",
    "exp = ptcButler.get('raw', detector=detector, exposure=expId, instrument=\"LSSTCam\")\n",
    "camera = ptcButler.get('camera', instrument='LSSTCam')"
   ]
  },
  {
   "cell_type": "code",
   "execution_count": null,
   "id": "3fbcc8b8-cb60-4481-a3ed-fa2a13205fad",
   "metadata": {
    "execution": {
     "iopub.execute_input": "2023-02-12T23:18:11.675088Z",
     "iopub.status.busy": "2023-02-12T23:18:11.674551Z",
     "iopub.status.idle": "2023-02-12T23:18:19.310619Z",
     "shell.execute_reply": "2023-02-12T23:18:19.309927Z",
     "shell.execute_reply.started": "2023-02-12T23:18:11.675066Z"
    },
    "tags": []
   },
   "outputs": [],
   "source": [
    "ptc1Butler = Butler(\"/repo/main\", collections=[\"u/cslage/ptc_subregion_full_1_12feb23\"])\n",
    "ptc1 = ptc1Butler.get('ptc', detector=detector, exposure=expId, instrument=\"LSSTCam\")\n",
    "\n",
    "baseButler = Butler(\"/repo/main\", collections=[\"u/cslage/ptc_subregion_full_base_12feb23\"])\n",
    "basePtc = butler.get('ptc', detector=detector, exposure=expId, instrument=\"LSSTCam\")"
   ]
  },
  {
   "cell_type": "code",
   "execution_count": null,
   "id": "c0966ac3-c36c-4ac9-b593-8e407af339f8",
   "metadata": {
    "execution": {
     "iopub.execute_input": "2023-02-12T22:50:17.250032Z",
     "iopub.status.busy": "2023-02-12T22:50:17.249650Z",
     "iopub.status.idle": "2023-02-12T22:50:17.253541Z",
     "shell.execute_reply": "2023-02-12T22:50:17.252966Z",
     "shell.execute_reply.started": "2023-02-12T22:50:17.250011Z"
    },
    "tags": []
   },
   "outputs": [],
   "source": [
    "plotTask = PlotPhotonTransferCurveTask()"
   ]
  },
  {
   "cell_type": "code",
   "execution_count": null,
   "id": "a22aab0e-cd6b-4b38-8d24-f913487965fc",
   "metadata": {
    "execution": {
     "iopub.execute_input": "2023-02-12T22:50:20.233818Z",
     "iopub.status.busy": "2023-02-12T22:50:20.233441Z",
     "iopub.status.idle": "2023-02-12T22:50:57.597982Z",
     "shell.execute_reply": "2023-02-12T22:50:57.597339Z",
     "shell.execute_reply.started": "2023-02-12T22:50:20.233798Z"
    },
    "tags": []
   },
   "outputs": [],
   "source": [
    "plotResult = plotTask.run(ptc, dummyExposure=[exp], camera=camera)"
   ]
  },
  {
   "cell_type": "code",
   "execution_count": null,
   "id": "18911956-4662-4ae8-8073-ff24636ec3e1",
   "metadata": {
    "execution": {
     "iopub.execute_input": "2023-02-12T23:14:13.444137Z",
     "iopub.status.busy": "2023-02-12T23:14:13.443875Z",
     "iopub.status.idle": "2023-02-12T23:14:13.448313Z",
     "shell.execute_reply": "2023-02-12T23:14:13.447708Z",
     "shell.execute_reply.started": "2023-02-12T23:14:13.444118Z"
    },
    "tags": []
   },
   "outputs": [],
   "source": [
    "len(basePtc.finalVars['C00'])"
   ]
  },
  {
   "cell_type": "code",
   "execution_count": null,
   "id": "ad2abef4-1945-4e9c-97a3-9be9c18e4dc3",
   "metadata": {
    "execution": {
     "iopub.execute_input": "2023-02-12T22:49:35.928808Z",
     "iopub.status.busy": "2023-02-12T22:49:35.928426Z",
     "iopub.status.idle": "2023-02-12T22:49:35.932897Z",
     "shell.execute_reply": "2023-02-12T22:49:35.932348Z",
     "shell.execute_reply.started": "2023-02-12T22:49:35.928788Z"
    },
    "tags": []
   },
   "outputs": [],
   "source": [
    "ptc.ptcFitType"
   ]
  },
  {
   "cell_type": "code",
   "execution_count": null,
   "id": "0e32bf6e-327b-436f-88a3-1b3eaf90472e",
   "metadata": {
    "execution": {
     "iopub.execute_input": "2023-02-12T22:49:52.914937Z",
     "iopub.status.busy": "2023-02-12T22:49:52.914564Z",
     "iopub.status.idle": "2023-02-12T22:49:53.074865Z",
     "shell.execute_reply": "2023-02-12T22:49:53.074248Z",
     "shell.execute_reply.started": "2023-02-12T22:49:52.914917Z"
    },
    "tags": []
   },
   "outputs": [],
   "source": [
    "#Why is it rejecting all of the points???\n",
    "plt.scatter(ptc.rawMeans['C00'], ptc.rawVars['C00'])"
   ]
  },
  {
   "cell_type": "code",
   "execution_count": null,
   "id": "d0c00956-17de-46cb-b3b1-8061089841c9",
   "metadata": {
    "execution": {
     "iopub.execute_input": "2023-02-12T23:19:49.207814Z",
     "iopub.status.busy": "2023-02-12T23:19:49.207417Z",
     "iopub.status.idle": "2023-02-12T23:19:49.386087Z",
     "shell.execute_reply": "2023-02-12T23:19:49.385460Z",
     "shell.execute_reply.started": "2023-02-12T23:19:49.207794Z"
    },
    "tags": []
   },
   "outputs": [],
   "source": [
    "#Why is it rejecting all of the points???\n",
    "plt.scatter(ptc.rawMeans['C00'], ptc.rawVars['C00'], label=\"2x4\")\n",
    "plt.scatter(ptc1.rawMeans['C00'], ptc1.rawVars['C00'], marker='x', s=200, color='red', label=\"Baseline\")\n",
    "plt.plot(ptc1.finalMeans['C00'], ptc1.finalModelVars['C00'], color='red', label=\"Baseline\")\n",
    "plt.xlim(40000,45000)\n",
    "plt.ylim(22000,27000)\n",
    "plt.legend()"
   ]
  },
  {
   "cell_type": "code",
   "execution_count": null,
   "id": "1ec9ca81-8c84-49db-ad74-1db6d5ef9959",
   "metadata": {
    "execution": {
     "iopub.execute_input": "2023-02-12T19:35:44.842391Z",
     "iopub.status.busy": "2023-02-12T19:35:44.842086Z",
     "iopub.status.idle": "2023-02-12T19:35:44.848097Z",
     "shell.execute_reply": "2023-02-12T19:35:44.847625Z",
     "shell.execute_reply.started": "2023-02-12T19:35:44.842370Z"
    },
    "tags": []
   },
   "outputs": [],
   "source": [
    "from scipy.optimize import curve_fit\n",
    "from scipy.interpolate import interp1d\n",
    "from scipy.signal import savgol_filter\n",
    "\n",
    "x = np.array(ptc.rawMeans['C00'])\n",
    "y = np.array(ptc.rawVars['C00'])\n",
    "xx = np.linspace(x.min(),x.max(), 1000)\n",
    "\n",
    "# interpolate + smooth\n",
    "itp = interp1d(x,y, kind='linear')\n",
    "window_size, poly_order = 101, 3\n",
    "yy_sg = savgol_filter(itp(xx), window_size, poly_order)\n",
    "\n"
   ]
  },
  {
   "cell_type": "code",
   "execution_count": null,
   "id": "057f983c-96e3-40cb-84b1-41c25f5bef9b",
   "metadata": {
    "execution": {
     "iopub.execute_input": "2023-02-12T20:32:32.226653Z",
     "iopub.status.busy": "2023-02-12T20:32:32.226390Z",
     "iopub.status.idle": "2023-02-12T20:32:32.362285Z",
     "shell.execute_reply": "2023-02-12T20:32:32.361690Z",
     "shell.execute_reply.started": "2023-02-12T20:32:32.226634Z"
    },
    "tags": []
   },
   "outputs": [],
   "source": [
    "plt.scatter(xx, yy_sg)\n",
    "index = np.argmax(yy_sg)\n",
    "ptc_turnoff = xx[index]\n",
    "plt.plot([ptc_turnoff, ptc_turnoff], [0,50000])\n",
    "#plt.xlim(80000,92500)\n",
    "#plt.ylim(40000,44000)"
   ]
  },
  {
   "cell_type": "code",
   "execution_count": null,
   "id": "68525e87-d031-4ee0-9b76-8ea3ae082ae3",
   "metadata": {
    "execution": {
     "iopub.execute_input": "2023-02-12T23:18:42.633944Z",
     "iopub.status.busy": "2023-02-12T23:18:42.633560Z",
     "iopub.status.idle": "2023-02-12T23:18:42.638311Z",
     "shell.execute_reply": "2023-02-12T23:18:42.637765Z",
     "shell.execute_reply.started": "2023-02-12T23:18:42.633925Z"
    },
    "tags": []
   },
   "outputs": [],
   "source": [
    "for amp in exp.getDetector().getAmplifiers():\n",
    "    print(amp.getName(), ptc.gain[amp.getName()], basePtc.gain[amp.getName()], ptc1.gain[amp.getName()])"
   ]
  },
  {
   "cell_type": "code",
   "execution_count": null,
   "id": "3c42b758-9fb3-449f-a493-565e1fd951e6",
   "metadata": {},
   "outputs": [],
   "source": []
  }
 ],
 "metadata": {
  "kernelspec": {
   "display_name": "LSST",
   "language": "python",
   "name": "lsst"
  },
  "language_info": {
   "codemirror_mode": {
    "name": "ipython",
    "version": 3
   },
   "file_extension": ".py",
   "mimetype": "text/x-python",
   "name": "python",
   "nbconvert_exporter": "python",
   "pygments_lexer": "ipython3",
   "version": "3.11.4"
  },
  "toc-autonumbering": false,
  "toc-showcode": false,
  "toc-showmarkdowntxt": true
 },
 "nbformat": 4,
 "nbformat_minor": 5
}
