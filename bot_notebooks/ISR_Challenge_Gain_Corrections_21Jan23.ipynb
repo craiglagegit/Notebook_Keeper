{
 "cells": [
  {
   "cell_type": "markdown",
   "id": "e8cc3a14-f377-44f4-ab4c-97c9c3047697",
   "metadata": {},
   "source": [
    "# Aaron's ISR challenge - are amp boundaries visible after ISR?\n",
    "Craig Lage 20-Jan-23"
   ]
  },
  {
   "cell_type": "code",
   "execution_count": null,
   "id": "a148b369-8943-4861-a51e-9cbeea70feb3",
   "metadata": {
    "execution": {
     "iopub.execute_input": "2023-01-25T19:55:58.895896Z",
     "iopub.status.busy": "2023-01-25T19:55:58.895593Z",
     "iopub.status.idle": "2023-01-25T19:55:59.168892Z",
     "shell.execute_reply": "2023-01-25T19:55:59.168242Z",
     "shell.execute_reply.started": "2023-01-25T19:55:58.895876Z"
    },
    "tags": []
   },
   "outputs": [],
   "source": [
    "import numpy as np\n",
    "from matplotlib import pyplot as plt\n",
    "import pickle as pkl\n"
   ]
  },
  {
   "cell_type": "code",
   "execution_count": null,
   "id": "18911956-4662-4ae8-8073-ff24636ec3e1",
   "metadata": {
    "execution": {
     "iopub.execute_input": "2023-01-25T19:56:01.305018Z",
     "iopub.status.busy": "2023-01-25T19:56:01.304619Z",
     "iopub.status.idle": "2023-01-25T19:56:01.311925Z",
     "shell.execute_reply": "2023-01-25T19:56:01.311318Z",
     "shell.execute_reply.started": "2023-01-25T19:56:01.304996Z"
    },
    "tags": []
   },
   "outputs": [],
   "source": [
    "file = open('/home/c/cslage/u/BOT_LSSTCam/isr_challenge/challenge_25jan23/corrs.pkl', 'rb')\n",
    "corrections = pkl.load(file)"
   ]
  },
  {
   "cell_type": "code",
   "execution_count": null,
   "id": "3704dd08-df16-448f-afeb-3b1085a478a5",
   "metadata": {
    "execution": {
     "iopub.execute_input": "2023-01-25T19:56:04.373151Z",
     "iopub.status.busy": "2023-01-25T19:56:04.372407Z",
     "iopub.status.idle": "2023-01-25T19:56:04.378725Z",
     "shell.execute_reply": "2023-01-25T19:56:04.378117Z",
     "shell.execute_reply.started": "2023-01-25T19:56:04.373127Z"
    },
    "jupyter": {
     "outputs_hidden": true
    },
    "tags": []
   },
   "outputs": [],
   "source": [
    "amps = ['C10','C11','C12','C13','C14','C15','C16','C17',\\\n",
    "        'C07','C06','C05','C04','C03','C02','C01','C00']\n",
    "\n",
    "for amp in amps:\n",
    "    for detector in [55,74]:\n",
    "        for expId in [3021120700218,3021120700188,3021120700773]:\n",
    "            corr = corrections[str(detector)][str(expId)][amp]\n",
    "            print(amp, detector, expId, f\"{corr:.4f}\")"
   ]
  },
  {
   "cell_type": "code",
   "execution_count": null,
   "id": "b211dcb3-a5ca-49a9-a08d-c23322aa1c1f",
   "metadata": {
    "execution": {
     "iopub.execute_input": "2023-01-25T20:00:34.183075Z",
     "iopub.status.busy": "2023-01-25T20:00:34.182808Z",
     "iopub.status.idle": "2023-01-25T20:00:35.901471Z",
     "shell.execute_reply": "2023-01-25T20:00:35.900975Z",
     "shell.execute_reply.started": "2023-01-25T20:00:34.183053Z"
    },
    "tags": []
   },
   "outputs": [],
   "source": [
    "for detector in [55,74]:\n",
    "    fig = plt.figure(figsize=(8,8))\n",
    "    plt.subplots_adjust(hspace=0.2, wspace=0.1)\n",
    "    plt.suptitle(f\"Gain correction CCD {detector}\", fontsize=24)\n",
    "    plotCounter = 1\n",
    "    for amp in amps:\n",
    "        corrs = []\n",
    "        xaxis = [1,2,3]\n",
    "        for expId in [3021120700218,3021120700188,3021120700773]:\n",
    "            corr = corrections[str(detector)][str(expId)][amp]\n",
    "            corrs.append((1.0 - corr) * 100.0)\n",
    "        plt.subplot(4,4,plotCounter)\n",
    "        plt.title(amp)\n",
    "        plt.scatter(xaxis, corrs)\n",
    "        plt.plot([1,3], [0.1,0.1], ls='--', color='red')\n",
    "        plt.plot([1,3], [-0.1,-0.1], ls='--', color='red')\n",
    "        plt.ylim(-0.50, 0.50)\n",
    "        plotCounter += 1\n",
    "        if plotCounter%4 == 2:\n",
    "            plt.yticks([-0.50, 0.0,0.50])\n",
    "            plt.ylabel(\"Correction(%)\")\n",
    "        else:\n",
    "            plt.yticks([])\n",
    "        if plotCounter > 13:\n",
    "            plt.xticks([1,2,3],['1K','10K','50K'])\n",
    "            plt.xlabel(\"Flux\")\n",
    "        else:\n",
    "            plt.xticks([])\n",
    "    plt.savefig(f\"/home/c/cslage/u/BOT_LSSTCam/isr_challenge/challenge_25jan23/Gains_{detector}_25Jan23.png\")\n"
   ]
  },
  {
   "cell_type": "code",
   "execution_count": null,
   "id": "e320e2bf-c422-4bbf-8953-9a98d1a41c1f",
   "metadata": {},
   "outputs": [],
   "source": []
  }
 ],
 "metadata": {
  "kernelspec": {
   "display_name": "LSST",
   "language": "python",
   "name": "lsst"
  },
  "language_info": {
   "codemirror_mode": {
    "name": "ipython",
    "version": 3
   },
   "file_extension": ".py",
   "mimetype": "text/x-python",
   "name": "python",
   "nbconvert_exporter": "python",
   "pygments_lexer": "ipython3",
   "version": "3.10.8"
  },
  "toc-autonumbering": false,
  "toc-showcode": false,
  "toc-showmarkdowntxt": true
 },
 "nbformat": 4,
 "nbformat_minor": 5
}
