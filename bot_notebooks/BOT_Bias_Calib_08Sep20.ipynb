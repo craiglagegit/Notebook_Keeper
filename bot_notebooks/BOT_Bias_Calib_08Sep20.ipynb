{
 "cells": [
  {
   "cell_type": "markdown",
   "metadata": {},
   "source": [
    "# Notebook for viewing master bias images.\n",
    "\n",
    "Initially written 29 May 2020 by Craig Lage\\\n",
    "Re-tested 08 Sep 2020 with latest code."
   ]
  },
  {
   "cell_type": "code",
   "execution_count": null,
   "metadata": {},
   "outputs": [],
   "source": [
    "! eups list -s | grep lsst_distrib\n",
    "! eups list -s cp_pipe"
   ]
  },
  {
   "cell_type": "code",
   "execution_count": null,
   "metadata": {},
   "outputs": [],
   "source": [
    "import sys, os, glob, subprocess\n",
    "import pickle as pkl\n",
    "import numpy as np\n",
    "import matplotlib.pyplot as plt\n",
    "import astropy.io.fits as pf\n",
    "from lsst.daf.persistence import Butler"
   ]
  },
  {
   "cell_type": "code",
   "execution_count": null,
   "metadata": {},
   "outputs": [],
   "source": [
    "RAFT = 'R12'\n",
    "SENSOR = 'S02'\n",
    "data = {}\n",
    "flux = \"Hi\"\n",
    "#flux = \"Low\""
   ]
  },
  {
   "cell_type": "code",
   "execution_count": null,
   "metadata": {},
   "outputs": [],
   "source": [
    "# First, data from the 9 raft run\n",
    "REPO_DIR = '/project/shared/BOT/rerun/cslage/PTC_6790D_NewAll_Amp/'\n",
    "RUN = '6790D'\n",
    "if flux == \"Low\":\n",
    "    expId_1 = 3019101200332\n",
    "    expId_2 = 3019101200333\n",
    "elif flux == \"Hi\":\n",
    "    expId_1 = 3019101200414\n",
    "    expId_2 = 3019101200415\n",
    "butler = Butler(REPO_DIR)\n",
    "postISRCCD_1 = butler.get('postISRCCD',  raftName=RAFT,run=RUN, detectorName=SENSOR, expId=expId_1)\n",
    "postISRCCD_2 = butler.get('postISRCCD',  raftName=RAFT,run=RUN, detectorName=SENSOR, expId=expId_2)\n",
    "raw_1 = butler.get('raw',  raftName=RAFT,run=RUN, detectorName=SENSOR, expId=expId_1)\n",
    "raw_2 = butler.get('raw',  raftName=RAFT,run=RUN, detectorName=SENSOR, expId=expId_2)\n",
    "data[RUN] = [expId_1, expId_2, raw_1, raw_2, postISRCCD_1, postISRCCD_2]"
   ]
  },
  {
   "cell_type": "code",
   "execution_count": null,
   "metadata": {},
   "outputs": [],
   "source": [
    "# Next, data from the 13 raft run\n",
    "REPO_DIR = '/project/shared/BOT/rerun/cslage/PTC_LSSTCAM_12543/'\n",
    "RUN = '12543'\n",
    "if flux == \"Low\":\n",
    "    expId_1 = 3020090200352\n",
    "    expId_2 = 3020090200353\n",
    "elif flux == \"Hi\":\n",
    "    expId_1 = 3020090200370\n",
    "    expId_2 = 3020090200371\n",
    "butler = Butler(REPO_DIR)\n",
    "postISRCCD_1 = butler.get('postISRCCD',  raftName=RAFT,run=RUN, detectorName=SENSOR, expId=expId_1)\n",
    "postISRCCD_2 = butler.get('postISRCCD',  raftName=RAFT,run=RUN, detectorName=SENSOR, expId=expId_2)\n",
    "raw_1 = butler.get('raw',  raftName=RAFT,run=RUN, detectorName=SENSOR, expId=expId_1)\n",
    "raw_2 = butler.get('raw',  raftName=RAFT,run=RUN, detectorName=SENSOR, expId=expId_2)\n",
    "data[RUN] = [expId_1, expId_2, raw_1, raw_2, postISRCCD_1, postISRCCD_2]"
   ]
  },
  {
   "cell_type": "code",
   "execution_count": null,
   "metadata": {},
   "outputs": [],
   "source": [
    "# Now let's look at ithem\n",
    "def colorbar(mappable):\n",
    "    from mpl_toolkits.axes_grid1 import make_axes_locatable\n",
    "    last_axes = plt.gca()\n",
    "    ax = mappable.axes\n",
    "    fig = ax.figure\n",
    "    divider = make_axes_locatable(ax)\n",
    "    cax = divider.append_axes(\"right\", size=\"5%\", pad=0.05)\n",
    "    cbar = fig.colorbar(mappable, cax=cax)\n",
    "    plt.sca(last_axes)\n",
    "    return cbar\n",
    "\n",
    "fig, (ax1, ax2) = plt.subplots(ncols=2, figsize=(16,8))\n",
    "arr = e2v_bias.image.array\n",
    "bias_mean = np.mean(arr)\n",
    "bias_std = np.std(arr)\n",
    "img1 = ax1.imshow(arr, vmin=0, vmax=10)\n",
    "colorbar(img1)\n",
    "ax1.set_title(\"E2V master bias %s%s; Mean = %.3f, Std = %.3f\"%(E2V_RAFT,E2V_SENSOR,bias_mean, bias_std))\n",
    "arr = itl_bias.image.array\n",
    "bias_mean = np.mean(arr)\n",
    "bias_std = np.std(arr)\n",
    "img2 = ax2.imshow(arr, vmin=0, vmax=40)\n",
    "ax2.set_title(\"ITL master bias %s%s; Mean = %.3f, Std = %.3f\"%(ITL_RAFT,ITL_SENSOR,bias_mean, bias_std))\n",
    "colorbar(img2)\n",
    "plt.tight_layout(h_pad=1)\n",
    "plt.savefig(E2V_REPO_DIR+\"plots/Master_Biases_08Sep20.pdf\")\n",
    "plt.savefig(ITL_REPO_DIR+\"plots/Master_Biases_08Sep20.pdf\")"
   ]
  },
  {
   "cell_type": "code",
   "execution_count": null,
   "metadata": {},
   "outputs": [],
   "source": []
  }
 ],
 "metadata": {
  "kernelspec": {
   "display_name": "LSST",
   "language": "python",
   "name": "lsst"
  },
  "language_info": {
   "codemirror_mode": {
    "name": "ipython",
    "version": 3
   },
   "file_extension": ".py",
   "mimetype": "text/x-python",
   "name": "python",
   "nbconvert_exporter": "python",
   "pygments_lexer": "ipython3",
   "version": "3.7.8"
  }
 },
 "nbformat": 4,
 "nbformat_minor": 4
}
