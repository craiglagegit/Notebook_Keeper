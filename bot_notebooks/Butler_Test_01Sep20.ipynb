{
 "cells": [
  {
   "cell_type": "markdown",
   "metadata": {},
   "source": [
    "# Notebook for eotest gain with DM gain.\n",
    "\n",
    "Initially written 21 May 2020 by Craig Lage."
   ]
  },
  {
   "cell_type": "code",
   "execution_count": null,
   "metadata": {},
   "outputs": [],
   "source": [
    "! eups list -s | grep lsst_distrib\n",
    "! eups list -s | grep obs_lsst"
   ]
  },
  {
   "cell_type": "code",
   "execution_count": null,
   "metadata": {},
   "outputs": [],
   "source": [
    "import sys, os, glob, time\n",
    "import pickle as pkl\n",
    "import numpy as np\n",
    "import matplotlib.pyplot as plt\n",
    "import astropy.io.fits as pf\n",
    "from lsst.daf.persistence import Butler\n"
   ]
  },
  {
   "cell_type": "code",
   "execution_count": null,
   "metadata": {},
   "outputs": [],
   "source": [
    "DATA_DIR = '/project/shared/BOT/rerun/cslage/PTC_LSSTCAM_12597'\n",
    "[RAFT, SENSOR, DETECTOR] = ['R34', 'S11', 157]\n",
    "butler = Butler(DATA_DIR)\n"
   ]
  },
  {
   "cell_type": "code",
   "execution_count": null,
   "metadata": {},
   "outputs": [],
   "source": [
    "dataRef = butler.dataRef('raw', dataId={'detector': 157, 'expId': 3020100600337, 'dayObs': '2020-10-06'})"
   ]
  },
  {
   "cell_type": "code",
   "execution_count": null,
   "metadata": {},
   "outputs": [],
   "source": [
    "exp = dataRef.get('raw')"
   ]
  },
  {
   "cell_type": "code",
   "execution_count": null,
   "metadata": {
    "jupyter": {
     "outputs_hidden": true
    },
    "tags": []
   },
   "outputs": [],
   "source": [
    "ccd = exp.getDetector()\n",
    "\n",
    "for amp in ccd:\n",
    "    name = amp.getName()\n",
    "    gain = amp.getGain()\n",
    "    print(name, gain)"
   ]
  },
  {
   "cell_type": "code",
   "execution_count": null,
   "metadata": {},
   "outputs": [],
   "source": [
    "dataRef.get('bias')"
   ]
  },
  {
   "cell_type": "code",
   "execution_count": null,
   "metadata": {},
   "outputs": [],
   "source": [
    "dataRef.get('dark')"
   ]
  },
  {
   "cell_type": "code",
   "execution_count": null,
   "metadata": {},
   "outputs": [],
   "source": [
    "dataRef.get('flat')"
   ]
  },
  {
   "cell_type": "code",
   "execution_count": null,
   "metadata": {},
   "outputs": [],
   "source": [
    "dataRef.get('defects')"
   ]
  },
  {
   "cell_type": "code",
   "execution_count": null,
   "metadata": {},
   "outputs": [],
   "source": [
    "dataRef.get('dark')"
   ]
  },
  {
   "cell_type": "code",
   "execution_count": null,
   "metadata": {},
   "outputs": [],
   "source": []
  },
  {
   "cell_type": "code",
   "execution_count": null,
   "metadata": {},
   "outputs": [],
   "source": [
    "exp1 = butler.get('postISRCCD', dataId={'detector': 94,  'visit': 3019101200270})"
   ]
  },
  {
   "cell_type": "code",
   "execution_count": null,
   "metadata": {},
   "outputs": [],
   "source": [
    "md1 = exp1.getMetadata()"
   ]
  },
  {
   "cell_type": "code",
   "execution_count": null,
   "metadata": {},
   "outputs": [],
   "source": [
    "md1['FILTER2']"
   ]
  },
  {
   "cell_type": "code",
   "execution_count": null,
   "metadata": {},
   "outputs": [],
   "source": [
    "dataRef = butler.dataRef('postISRCCD',dataId={'detector': 94,  'visit': 3019101200270})"
   ]
  },
  {
   "cell_type": "code",
   "execution_count": null,
   "metadata": {},
   "outputs": [],
   "source": [
    "exp1 = dataRef.get('postISRCCD')"
   ]
  },
  {
   "cell_type": "code",
   "execution_count": null,
   "metadata": {},
   "outputs": [],
   "source": [
    "md1 = exp1.getMetadata()"
   ]
  },
  {
   "cell_type": "code",
   "execution_count": null,
   "metadata": {},
   "outputs": [],
   "source": [
    "md1['MONDIODE']"
   ]
  },
  {
   "cell_type": "code",
   "execution_count": null,
   "metadata": {},
   "outputs": [],
   "source": [
    "test = butler.dataRef('raw', dataId={'detector': 94,  'visit': 3019101200270})\n",
    "test.get('raw')\n",
    "test.get('bias')\n",
    "test.get('dark')\n",
    "test.get('flat')\n",
    "test.get('defect')"
   ]
  },
  {
   "cell_type": "raw",
   "metadata": {},
   "source": [
    "from collections import OrderedDict\n",
    "test = butler.dataRef('raw', dataId=OrderedDict([('visit', '3019101200250'), ('detector', 0)]))"
   ]
  },
  {
   "cell_type": "code",
   "execution_count": null,
   "metadata": {},
   "outputs": [],
   "source": []
  },
  {
   "cell_type": "code",
   "execution_count": null,
   "metadata": {},
   "outputs": [],
   "source": [
    "test = test.get('raw', dataId={'detector': 0,  'visit': 3019101200250})"
   ]
  },
  {
   "cell_type": "code",
   "execution_count": null,
   "metadata": {},
   "outputs": [],
   "source": [
    "test = butler.dataRef('raw', dataId={'detector': DETECTOR,  'expId': '3019101200250'})"
   ]
  },
  {
   "cell_type": "code",
   "execution_count": null,
   "metadata": {},
   "outputs": [],
   "source": [
    "test = butler.dataRef('bias', dataId={'detector': DETECTOR,  'expId': 3019101200480})"
   ]
  },
  {
   "cell_type": "code",
   "execution_count": null,
   "metadata": {},
   "outputs": [],
   "source": [
    "test = butler.dataRef('flat', dataId={'detector': DETECTOR,  'expId': 3019101200480})"
   ]
  },
  {
   "cell_type": "code",
   "execution_count": null,
   "metadata": {},
   "outputs": [],
   "source": [
    "test = butler.dataRef('dark', dataId={'detector': DETECTOR,  'expId': 3019101200480})"
   ]
  },
  {
   "cell_type": "code",
   "execution_count": null,
   "metadata": {},
   "outputs": [],
   "source": [
    "test = butler.dataRef('defects', dataId={'detector': DETECTOR,  'expId': 3019101200480})"
   ]
  },
  {
   "cell_type": "code",
   "execution_count": null,
   "metadata": {},
   "outputs": [],
   "source": [
    "test = butler.dataRef('postISRCCD', dataId={'detector': DETECTOR,  'expId': 3019101200999})"
   ]
  },
  {
   "cell_type": "code",
   "execution_count": null,
   "metadata": {},
   "outputs": [],
   "source": [
    "test = butler.get('defects', dataId={'detector': DETECTOR,  'expId': 3019101200480})\n",
    "print(test.getMetadata())"
   ]
  },
  {
   "cell_type": "code",
   "execution_count": null,
   "metadata": {},
   "outputs": [],
   "source": [
    "test = butler.get('flat', dataId={'detector': DETECTOR,  'expId': 3019101200480})\n",
    "print(test.getMetadata())"
   ]
  },
  {
   "cell_type": "code",
   "execution_count": null,
   "metadata": {},
   "outputs": [],
   "source": [
    "test = butler.get('dark', dataId={'detector': DETECTOR,  'expId': 3019101200480})\n",
    "print(test.getMetadata())"
   ]
  },
  {
   "cell_type": "code",
   "execution_count": null,
   "metadata": {},
   "outputs": [],
   "source": [
    "test = butler.get('raw', dataId={'detector': DETECTOR,  'expId': 3019101200480})\n",
    "print(dir(test))"
   ]
  },
  {
   "cell_type": "code",
   "execution_count": null,
   "metadata": {},
   "outputs": [],
   "source": []
  },
  {
   "cell_type": "code",
   "execution_count": null,
   "metadata": {},
   "outputs": [],
   "source": [
    "REPO_DIR_1 = '/project/cslage/BOT_lspdev/E2V_6790D_Gain_Edge4_10_R22S11'\n",
    "REPO_DIR_2 = '/project/shared/BOT/rerun/cslage/PTC_6790D_NewAll'\n",
    "#REPO_DIR_1 = '/project/shared/BOT/rerun/cslage/Test_ISR1'\n",
    "#REPO_DIR_2 = '/project/shared/BOT/rerun/cslage/ISR_Test10'\n",
    "butler1 = Butler(REPO_DIR_1)\n",
    "butler2 = Butler(REPO_DIR_2)\n",
    "visit = 3019101300324\n",
    "exp1 = butler1.get('postISRCCD', raftName=RAFT, detectorName=SENSOR, visit=visit)\n",
    "exp2 = butler2.get('postISRCCD', raftName=RAFT, detectorName=SENSOR, visit=visit)\n",
    "#exp1 = butler1.get('defect', raftName=RAFT, detectorName=SENSOR, visit=visit)\n",
    "#exp2 = butler2.get('defect', raftName=RAFT, detectorName=SENSOR, visit=visit)\n",
    "ccd1 = exp1.getDetector()\n",
    "for ampObject in ccd1:\n",
    "    amp = ampObject.getName()\n",
    "    if amp == 'C00':\n",
    "        break\n",
    "\n",
    "img1 = exp1.maskedImage[ampObject.getBBox()]\n",
    "img2 = exp2.maskedImage[ampObject.getBBox()]\n",
    "names = [REPO_DIR_1, REPO_DIR_2]\n",
    "arrs = [img1.getArrays()[0][100:120,100:120],img2.getArrays()[0][100:120,100:120]] \n"
   ]
  },
  {
   "cell_type": "code",
   "execution_count": null,
   "metadata": {},
   "outputs": [],
   "source": [
    "# Now let's look at them\n",
    "from matplotlib.colors import LogNorm\n",
    "def colorbar(mappable):\n",
    "    from mpl_toolkits.axes_grid1 import make_axes_locatable\n",
    "    last_axes = plt.gca()\n",
    "    ax = mappable.axes\n",
    "    fig = ax.figure\n",
    "    divider = make_axes_locatable(ax)\n",
    "    cax = divider.append_axes(\"right\", size=\"5%\", pad=0.05)\n",
    "    cbar = fig.colorbar(mappable, cax=cax)\n",
    "    plt.sca(last_axes)\n",
    "    return cbar\n",
    "fig=plt.figure(figsize=(16,10))\n",
    "plt.suptitle(\"%s%s - visit:%d - Amp %s [100:120,100:120], \"%(RAFT,SENSOR,visit,amp), fontsize = 18)\n",
    "for i, arr in enumerate(arrs):\n",
    "    plt.subplot(1,2,i+1)\n",
    "    plt.title(\"%s \\n Mean = %.3f, Std = %.3f\"%(names[i],arr.mean(),arr.std()))\n",
    "    img1 = plt.imshow(arr)#,norm=LogNorm(vmin=35000,vmax=38000))#, vmin=50000, vmax=75000)\n",
    "    colorbar(img1)\n",
    "plt.tight_layout(h_pad=1)\n",
    "#plt.savefig(REPO_DIR_2+\"/plots/PostISR_Images_30Jul0.pdf\")\n"
   ]
  },
  {
   "cell_type": "raw",
   "metadata": {},
   "source": [
    "ASH_REPO = '/home/adriansh/lsst_devel/analysis/satellite/20200616-starlink1/'\n",
    "butler = Butler(ASH_REPO)\n",
    "\n"
   ]
  },
  {
   "cell_type": "code",
   "execution_count": null,
   "metadata": {},
   "outputs": [],
   "source": []
  }
 ],
 "metadata": {
  "kernelspec": {
   "display_name": "LSST",
   "language": "python",
   "name": "lsst"
  },
  "language_info": {
   "codemirror_mode": {
    "name": "ipython",
    "version": 3
   },
   "file_extension": ".py",
   "mimetype": "text/x-python",
   "name": "python",
   "nbconvert_exporter": "python",
   "pygments_lexer": "ipython3",
   "version": "3.10.4"
  }
 },
 "nbformat": 4,
 "nbformat_minor": 4
}
