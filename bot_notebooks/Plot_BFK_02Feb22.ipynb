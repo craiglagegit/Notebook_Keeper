{
 "cells": [
  {
   "cell_type": "markdown",
   "metadata": {},
   "source": [
    "# Notebook for plotting BF Kernels generated with Gen 3.\n",
    "\n",
    "Initially written 22 Jun 2021 by Craig Lage."
   ]
  },
  {
   "cell_type": "code",
   "execution_count": null,
   "metadata": {},
   "outputs": [],
   "source": [
    "import os, sys, time, datetime, glob, subprocess\n",
    "import matplotlib.pyplot as plt\n",
    "import numpy as np\n",
    "import astropy.io.fits as pf\n",
    "from scipy import stats\n",
    "from lsst.daf.butler import Butler"
   ]
  },
  {
   "cell_type": "code",
   "execution_count": null,
   "metadata": {},
   "outputs": [],
   "source": [
    "defaultButler = Butler('/repo/main', collections=\n",
    "                ['LSSTCam/raw/all', 'LSSTCam/calib', 'u/cslage/tests/bfkB_01feb22'])\n",
    "zeroButler = Butler('/repo/main', collections=\n",
    "                ['LSSTCam/raw/all', 'LSSTCam/calib', 'u/cslage/tests/bfkD_01feb22'])\n",
    "quadButler = Butler('/repo/main', collections=\n",
    "                ['LSSTCam/raw/all', 'LSSTCam/calib', 'u/cslage/tests/bfkE_01feb22'])\n",
    "\n",
    "names = ['Default', 'ForceZeroSum', 'Quad']\n",
    "butlers = [defaultButler, zeroButler, quadButler]"
   ]
  },
  {
   "cell_type": "code",
   "execution_count": null,
   "metadata": {},
   "outputs": [],
   "source": [
    "expId = 3021120600576 # I think any exposure within the set of flat pairs will work.\n",
    "DETECTOR = 55\n",
    "dataId={'instrument':'LSSTCam', 'detector':DETECTOR, 'exposure':expId}"
   ]
  },
  {
   "cell_type": "code",
   "execution_count": null,
   "metadata": {},
   "outputs": [],
   "source": [
    "# Now plot the correlations and the kernel. \n",
    "# So much variation in the (0,0) covariance!\n",
    "\n",
    "amp = 'C14'\n",
    "fig = plt.figure(figsize=(16,16))\n",
    "plt.subplots_adjust(hspace=0.2)\n",
    "\n",
    "for ii, butler in enumerate(butlers):\n",
    "    print(ii, names[ii])\n",
    "    ptc_dataset = butler.get('ptc', dataId=dataId)\n",
    "    bf_kernel = butler.get('bfk', dataId=dataId)\n",
    "    gains = bf_kernel.gain\n",
    "    means = bf_kernel.means # Mean flux of flat pairs in electrons\n",
    "    rawMeans = ptc_dataset.rawMeans # Mean flux of flat pairs in electrons\n",
    "    rawVars = ptc_dataset.rawVars # Mean flux of flat pairs in electrons\n",
    "    rawXcorrs = bf_kernel.rawXcorrs # Raw extracted covariances in ADU^2. [0,0] is the variance}\n",
    "    meanXcorrs = bf_kernel.meanXcorrs # Extracted covariances used to extract kernel. These are per e-.\n",
    "    kernels = bf_kernel.ampKernels # ampwise kernel\n",
    "    ptcResults = ptc_dataset.ptcFitPars        \n",
    "    plt.suptitle(\"COVARIANCES(*1E7)                          KERNEL(*1E7)\", fontsize=24)\n",
    "    plt.subplot(3,4,4*ii+1)\n",
    "    plt.imshow(np.log10(abs(np.array(meanXcorrs[amp]))))\n",
    "    plt.subplot(3,4,4*ii+2)\n",
    "    plt.title(\"     Amp %s   %s\"%(amp, names[ii]), fontsize=18)\n",
    "    plt.plot([0,16],[0,0], ls='--', color='black')\n",
    "    plt.plot(-meanXcorrs[amp][:,8]*1E7, color='blue', drawstyle='steps-mid')\n",
    "    plt.plot(-meanXcorrs[amp][8,:]*1E7, linestyle='--', color='red', drawstyle='steps-mid')\n",
    "    plt.ylim(-40,10)\n",
    "    plt.subplot(3,4,4*ii+3)\n",
    "    plt.imshow(kernels[amp])\n",
    "    plt.subplot(3,4,4*ii+4)  \n",
    "    plt.plot([0,16],[0,0], ls='--', color='black')\n",
    "    plt.plot(kernels[amp][:,8]*1E7, color='blue', drawstyle='steps-mid')\n",
    "    plt.plot(kernels[amp][8,:]*1E7, linestyle='--', color='red', drawstyle='steps-mid')\n",
    "    plt.ylim(-20,2)\n",
    "plt.savefig(\"/repo/main/u/cslage/tests/bfkB_01feb22/plots/BF_Kernel_Tests_02Feb22.pdf\")"
   ]
  },
  {
   "cell_type": "code",
   "execution_count": null,
   "metadata": {},
   "outputs": [],
   "source": []
  },
  {
   "cell_type": "code",
   "execution_count": null,
   "metadata": {},
   "outputs": [],
   "source": []
  }
 ],
 "metadata": {
  "kernelspec": {
   "display_name": "LSST",
   "language": "python",
   "name": "lsst"
  },
  "language_info": {
   "codemirror_mode": {
    "name": "ipython",
    "version": 3
   },
   "file_extension": ".py",
   "mimetype": "text/x-python",
   "name": "python",
   "nbconvert_exporter": "python",
   "pygments_lexer": "ipython3",
   "version": "3.8.8"
  }
 },
 "nbformat": 4,
 "nbformat_minor": 4
}
