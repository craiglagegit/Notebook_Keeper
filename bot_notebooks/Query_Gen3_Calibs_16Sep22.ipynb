{
 "cells": [
  {
   "cell_type": "markdown",
   "metadata": {},
   "source": [
    "## Query header - Gen3\n",
    "\n",
    "In this notebook, we show several ways to query the fits headers\\\n",
    "Craig Lage - 16-Mar-21"
   ]
  },
  {
   "cell_type": "code",
   "execution_count": null,
   "metadata": {
    "execution": {
     "iopub.execute_input": "2022-12-14T12:22:50.478306Z",
     "iopub.status.busy": "2022-12-14T12:22:50.477919Z",
     "iopub.status.idle": "2022-12-14T12:22:51.196545Z",
     "shell.execute_reply": "2022-12-14T12:22:51.195891Z",
     "shell.execute_reply.started": "2022-12-14T12:22:50.478285Z"
    }
   },
   "outputs": [],
   "source": [
    "import numpy as np\n",
    "import matplotlib.pyplot as plt\n",
    "import astropy.io.fits as pf\n",
    "from lsst.daf.butler import Butler"
   ]
  },
  {
   "cell_type": "code",
   "execution_count": null,
   "metadata": {
    "execution": {
     "iopub.execute_input": "2022-12-14T12:52:00.804778Z",
     "iopub.status.busy": "2022-12-14T12:52:00.804484Z",
     "iopub.status.idle": "2022-12-14T12:52:04.729982Z",
     "shell.execute_reply": "2022-12-14T12:52:04.729267Z",
     "shell.execute_reply.started": "2022-12-14T12:52:00.804758Z"
    },
    "tags": []
   },
   "outputs": [],
   "source": [
    "# Gen3 butler\n",
    "REPO_DIR = '/repo/main'\n",
    "butler = Butler('/repo/main', collections=[\"LSSTCam/raw/all\",\"LSSTCam/calib\", \"u/cslage/calib/13144/calib.20220107\"])\n",
    "#butler = Butler(REPO_DIR, collections=[\"LSSTCam/raw/all\",\"LSSTCam/calib\"])"
   ]
  },
  {
   "cell_type": "code",
   "execution_count": null,
   "metadata": {
    "execution": {
     "iopub.execute_input": "2022-12-14T12:53:09.085780Z",
     "iopub.status.busy": "2022-12-14T12:53:09.085484Z",
     "iopub.status.idle": "2022-12-14T12:53:12.999109Z",
     "shell.execute_reply": "2022-12-14T12:53:12.998473Z",
     "shell.execute_reply.started": "2022-12-14T12:53:09.085763Z"
    },
    "tags": []
   },
   "outputs": [],
   "source": [
    "butler = Butler('/repo/main', collections=[\"LSSTCam/raw/all\",\"LSSTCam/calib\", \"u/cslage/calib/13144/calib.20220107\"])\n",
    "exposure = 3021120300194\n",
    "exp = butler.get('linearizer', detector=74, exposure=exposure, instrument='LSSTCam')"
   ]
  },
  {
   "cell_type": "code",
   "execution_count": null,
   "metadata": {},
   "outputs": [],
   "source": [
    "non_int_arr = arr - np.trunc(arr)\n",
    "plt.hist(non_int_arr)"
   ]
  },
  {
   "cell_type": "code",
   "execution_count": null,
   "metadata": {},
   "outputs": [],
   "source": [
    "plt.hist(arr)"
   ]
  },
  {
   "cell_type": "code",
   "execution_count": null,
   "metadata": {},
   "outputs": [],
   "source": [
    "clip_arr = arr[(10.0 > arr) & (arr > 0.0)]"
   ]
  },
  {
   "cell_type": "code",
   "execution_count": null,
   "metadata": {},
   "outputs": [],
   "source": [
    "clip_arr"
   ]
  },
  {
   "cell_type": "code",
   "execution_count": null,
   "metadata": {},
   "outputs": [],
   "source": [
    "len(clip_arr)"
   ]
  },
  {
   "cell_type": "code",
   "execution_count": null,
   "metadata": {},
   "outputs": [],
   "source": [
    "plt.hist(clip_arr,1000)"
   ]
  },
  {
   "cell_type": "code",
   "execution_count": null,
   "metadata": {},
   "outputs": [],
   "source": [
    "non_int_clip_arr = clip_arr - np.trunc(clip_arr)\n",
    "plt.hist(non_int_clip_arr, 500)"
   ]
  },
  {
   "cell_type": "code",
   "execution_count": null,
   "metadata": {},
   "outputs": [],
   "source": [
    "butler = Butler(\"/repo/main\", collections=[\"LSSTCam/raw/all\",\"LSSTCam/calib\", \"u/cslage/calib/13144/calib.20220107\"])"
   ]
  },
  {
   "cell_type": "code",
   "execution_count": null,
   "metadata": {
    "jupyter": {
     "outputs_hidden": true
    },
    "tags": []
   },
   "outputs": [],
   "source": [
    "exposure = 3021120600575\n",
    "exp = butler.get('dark', detector=74, exposure=exposure, instrument='LSSTCam')\n"
   ]
  },
  {
   "cell_type": "code",
   "execution_count": null,
   "metadata": {},
   "outputs": [],
   "source": [
    "butler = Butler(\"/repo/main\", collections=[\"LSSTCam/raw/all\",\"LSSTCam/calib\", \"u/cslage/calib/13144/dark_20211229\"])\n"
   ]
  },
  {
   "cell_type": "code",
   "execution_count": null,
   "metadata": {},
   "outputs": [],
   "source": [
    "exposure = 3021120600575\n",
    "exp = butler.get('dark', detector=74, exposure=exposure, instrument='LSSTCam')\n"
   ]
  },
  {
   "cell_type": "code",
   "execution_count": null,
   "metadata": {},
   "outputs": [],
   "source": []
  }
 ],
 "metadata": {
  "kernelspec": {
   "display_name": "LSST",
   "language": "python",
   "name": "lsst"
  },
  "language_info": {
   "codemirror_mode": {
    "name": "ipython",
    "version": 3
   },
   "file_extension": ".py",
   "mimetype": "text/x-python",
   "name": "python",
   "nbconvert_exporter": "python",
   "pygments_lexer": "ipython3",
   "version": "3.10.8"
  }
 },
 "nbformat": 4,
 "nbformat_minor": 4
}
