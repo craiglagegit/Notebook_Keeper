{
 "cells": [
  {
   "cell_type": "markdown",
   "metadata": {},
   "source": [
    "## Query header - Gen3\n",
    "\n",
    "In this notebook, we show several ways to query the fits headers\\\n",
    "Craig Lage - 16-Mar-21"
   ]
  },
  {
   "cell_type": "code",
   "execution_count": null,
   "metadata": {
    "execution": {
     "iopub.execute_input": "2023-03-15T18:24:21.105632Z",
     "iopub.status.busy": "2023-03-15T18:24:21.105213Z",
     "iopub.status.idle": "2023-03-15T18:24:21.740095Z",
     "shell.execute_reply": "2023-03-15T18:24:21.739504Z",
     "shell.execute_reply.started": "2023-03-15T18:24:21.105615Z"
    },
    "tags": []
   },
   "outputs": [],
   "source": [
    "import numpy as np\n",
    "import matplotlib.pyplot as plt\n",
    "import astropy.io.fits as pf\n",
    "from lsst.daf.butler import Butler"
   ]
  },
  {
   "cell_type": "code",
   "execution_count": null,
   "metadata": {
    "execution": {
     "iopub.execute_input": "2023-03-09T20:07:43.140906Z",
     "iopub.status.busy": "2023-03-09T20:07:43.140439Z",
     "iopub.status.idle": "2023-03-09T20:07:46.364386Z",
     "shell.execute_reply": "2023-03-09T20:07:46.363772Z",
     "shell.execute_reply.started": "2023-03-09T20:07:43.140891Z"
    },
    "tags": []
   },
   "outputs": [],
   "source": [
    "butler = Butler('/repo/main', collections=[\"LSSTCam/raw/all\",\"LSSTCam/calib\", \"u/cslage/calib/13144/calib.20220107\"])"
   ]
  },
  {
   "cell_type": "code",
   "execution_count": null,
   "metadata": {
    "execution": {
     "iopub.execute_input": "2023-03-15T18:24:24.511214Z",
     "iopub.status.busy": "2023-03-15T18:24:24.510985Z",
     "iopub.status.idle": "2023-03-15T18:24:27.667060Z",
     "shell.execute_reply": "2023-03-15T18:24:27.666496Z",
     "shell.execute_reply.started": "2023-03-15T18:24:24.511199Z"
    },
    "tags": []
   },
   "outputs": [],
   "source": [
    "butler = Butler('/repo/main', collections=[\"LSSTCam/raw/all\",\"LSSTCam/calib\"])"
   ]
  },
  {
   "cell_type": "code",
   "execution_count": null,
   "metadata": {
    "execution": {
     "iopub.execute_input": "2023-03-08T21:40:33.854417Z",
     "iopub.status.busy": "2023-03-08T21:40:33.854185Z",
     "iopub.status.idle": "2023-03-08T21:40:34.835243Z",
     "shell.execute_reply": "2023-03-08T21:40:34.834652Z",
     "shell.execute_reply.started": "2023-03-08T21:40:33.854404Z"
    },
    "tags": []
   },
   "outputs": [],
   "source": [
    "exposure = 3021121200230\n",
    "defects = butler.get('defects', detector=74, exposure=exposure, instrument='LSSTCam')"
   ]
  },
  {
   "cell_type": "code",
   "execution_count": null,
   "metadata": {
    "execution": {
     "iopub.execute_input": "2023-03-08T21:41:11.503805Z",
     "iopub.status.busy": "2023-03-08T21:41:11.503573Z",
     "iopub.status.idle": "2023-03-08T21:41:11.507377Z",
     "shell.execute_reply": "2023-03-08T21:41:11.506937Z",
     "shell.execute_reply.started": "2023-03-08T21:41:11.503790Z"
    }
   },
   "outputs": [],
   "source": []
  },
  {
   "cell_type": "code",
   "execution_count": null,
   "metadata": {
    "execution": {
     "iopub.execute_input": "2023-02-23T19:16:09.652609Z",
     "iopub.status.busy": "2023-02-23T19:16:09.652387Z",
     "iopub.status.idle": "2023-02-23T19:16:09.777885Z",
     "shell.execute_reply": "2023-02-23T19:16:09.777404Z",
     "shell.execute_reply.started": "2023-02-23T19:16:09.652594Z"
    },
    "jupyter": {
     "outputs_hidden": true
    },
    "tags": []
   },
   "outputs": [],
   "source": [
    "ptc.inputExpIdPairs"
   ]
  },
  {
   "cell_type": "code",
   "execution_count": null,
   "metadata": {},
   "outputs": [],
   "source": [
    "non_int_arr = arr - np.trunc(arr)\n",
    "plt.hist(non_int_arr)"
   ]
  },
  {
   "cell_type": "code",
   "execution_count": null,
   "metadata": {},
   "outputs": [],
   "source": []
  },
  {
   "cell_type": "code",
   "execution_count": null,
   "metadata": {},
   "outputs": [],
   "source": [
    "plt.hist(arr)"
   ]
  },
  {
   "cell_type": "code",
   "execution_count": null,
   "metadata": {},
   "outputs": [],
   "source": [
    "clip_arr = arr[(10.0 > arr) & (arr > 0.0)]"
   ]
  },
  {
   "cell_type": "code",
   "execution_count": null,
   "metadata": {},
   "outputs": [],
   "source": [
    "clip_arr"
   ]
  },
  {
   "cell_type": "code",
   "execution_count": null,
   "metadata": {},
   "outputs": [],
   "source": [
    "len(clip_arr)"
   ]
  },
  {
   "cell_type": "code",
   "execution_count": null,
   "metadata": {
    "jupyter": {
     "outputs_hidden": true
    },
    "tags": []
   },
   "outputs": [],
   "source": [
    "plt.hist(clip_arr,1000)"
   ]
  },
  {
   "cell_type": "code",
   "execution_count": null,
   "metadata": {
    "jupyter": {
     "outputs_hidden": true
    },
    "tags": []
   },
   "outputs": [],
   "source": [
    "non_int_clip_arr = clip_arr - np.trunc(clip_arr)\n",
    "plt.hist(non_int_clip_arr, 500)"
   ]
  },
  {
   "cell_type": "code",
   "execution_count": null,
   "metadata": {},
   "outputs": [],
   "source": [
    "butler = Butler(\"/repo/main\", collections=[\"LSSTCam/raw/all\",\"LSSTCam/calib\", \"u/cslage/calib/13144/calib.20220107\"])"
   ]
  },
  {
   "cell_type": "code",
   "execution_count": null,
   "metadata": {
    "jupyter": {
     "outputs_hidden": true
    },
    "tags": []
   },
   "outputs": [],
   "source": [
    "exposure = 3021120600575\n",
    "exp = butler.get('dark', detector=74, exposure=exposure, instrument='LSSTCam')\n"
   ]
  },
  {
   "cell_type": "code",
   "execution_count": null,
   "metadata": {},
   "outputs": [],
   "source": [
    "butler = Butler(\"/repo/main\", collections=[\"LSSTCam/raw/all\",\"LSSTCam/calib\", \"u/cslage/calib/13144/dark_20211229\"])\n"
   ]
  },
  {
   "cell_type": "code",
   "execution_count": null,
   "metadata": {
    "jupyter": {
     "outputs_hidden": true
    },
    "tags": []
   },
   "outputs": [],
   "source": [
    "exposure = 3021120600575\n",
    "exp = butler.get('dark', detector=74, exposure=exposure, instrument='LSSTCam')\n"
   ]
  },
  {
   "cell_type": "code",
   "execution_count": null,
   "metadata": {
    "execution": {
     "iopub.execute_input": "2023-02-22T21:41:39.961862Z",
     "iopub.status.busy": "2023-02-22T21:41:39.961485Z",
     "iopub.status.idle": "2023-02-22T21:41:41.417300Z",
     "shell.execute_reply": "2023-02-22T21:41:41.416692Z",
     "shell.execute_reply.started": "2023-02-22T21:41:39.961845Z"
    },
    "tags": []
   },
   "outputs": [],
   "source": [
    "exposure = 3021120600575\n",
    "bias = butler.get('bias', detector=74, exposure=exposure, instrument='LSSTCam')\n"
   ]
  },
  {
   "cell_type": "code",
   "execution_count": null,
   "metadata": {
    "execution": {
     "iopub.execute_input": "2023-02-22T21:42:13.620638Z",
     "iopub.status.busy": "2023-02-22T21:42:13.619908Z",
     "iopub.status.idle": "2023-02-22T21:42:14.858122Z",
     "shell.execute_reply": "2023-02-22T21:42:14.857472Z",
     "shell.execute_reply.started": "2023-02-22T21:42:13.620618Z"
    },
    "tags": []
   },
   "outputs": [],
   "source": [
    "dark = butler.get('dark', detector=74, exposure=exposure, instrument='LSSTCam')\n"
   ]
  },
  {
   "cell_type": "code",
   "execution_count": null,
   "metadata": {
    "execution": {
     "iopub.execute_input": "2023-02-22T21:42:49.173052Z",
     "iopub.status.busy": "2023-02-22T21:42:49.172782Z",
     "iopub.status.idle": "2023-02-22T21:42:49.673909Z",
     "shell.execute_reply": "2023-02-22T21:42:49.673367Z",
     "shell.execute_reply.started": "2023-02-22T21:42:49.173034Z"
    },
    "tags": []
   },
   "outputs": [],
   "source": [
    "defects = butler.get('defects', detector=74, exposure=exposure, instrument='LSSTCam')\n"
   ]
  },
  {
   "cell_type": "code",
   "execution_count": null,
   "metadata": {
    "execution": {
     "iopub.execute_input": "2023-03-09T20:07:56.398704Z",
     "iopub.status.busy": "2023-03-09T20:07:56.398343Z",
     "iopub.status.idle": "2023-03-09T20:07:57.681404Z",
     "shell.execute_reply": "2023-03-09T20:07:57.680859Z",
     "shell.execute_reply.started": "2023-03-09T20:07:56.398689Z"
    },
    "tags": []
   },
   "outputs": [],
   "source": [
    "exposure = 3021120600575\n",
    "ptc = butler.get('ptc', detector=74, exposure=exposure, instrument='LSSTCam')\n"
   ]
  },
  {
   "cell_type": "code",
   "execution_count": null,
   "metadata": {
    "execution": {
     "iopub.execute_input": "2023-03-09T20:14:32.687333Z",
     "iopub.status.busy": "2023-03-09T20:14:32.686947Z",
     "iopub.status.idle": "2023-03-09T20:14:32.703887Z",
     "shell.execute_reply": "2023-03-09T20:14:32.703428Z",
     "shell.execute_reply.started": "2023-03-09T20:14:32.687318Z"
    },
    "tags": []
   },
   "outputs": [],
   "source": [
    "ptc."
   ]
  },
  {
   "cell_type": "code",
   "execution_count": null,
   "metadata": {
    "execution": {
     "iopub.execute_input": "2023-02-22T21:43:25.110671Z",
     "iopub.status.busy": "2023-02-22T21:43:25.110456Z",
     "iopub.status.idle": "2023-02-22T21:43:25.194084Z",
     "shell.execute_reply": "2023-02-22T21:43:25.193628Z",
     "shell.execute_reply.started": "2023-02-22T21:43:25.110656Z"
    },
    "tags": []
   },
   "outputs": [],
   "source": [
    "lin = butler.get('linearizer', detector=74, exposure=exposure, instrument='LSSTCam')\n"
   ]
  },
  {
   "cell_type": "code",
   "execution_count": null,
   "metadata": {},
   "outputs": [],
   "source": [
    "# To look at the header keywords\n",
    "#expId = 3021020500605\n",
    "#expId = 3021120600565\n",
    "expId=3021120600560\n",
    "exp = butler.get('raw',  exposure=expId, detector=55, instrument=\"LSSTCam\")\n",
    "mData = exp.getMetadata()\n",
    "for key in mData.keys():\n",
    "    print(key, mData[key])"
   ]
  }
 ],
 "metadata": {
  "kernelspec": {
   "display_name": "LSST",
   "language": "python",
   "name": "lsst"
  },
  "language_info": {
   "codemirror_mode": {
    "name": "ipython",
    "version": 3
   },
   "file_extension": ".py",
   "mimetype": "text/x-python",
   "name": "python",
   "nbconvert_exporter": "python",
   "pygments_lexer": "ipython3",
   "version": "3.10.11"
  }
 },
 "nbformat": 4,
 "nbformat_minor": 4
}
