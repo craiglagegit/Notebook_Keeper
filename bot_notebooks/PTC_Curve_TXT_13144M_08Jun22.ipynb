{
 "cells": [
  {
   "cell_type": "markdown",
   "metadata": {},
   "source": [
    "# Notebook for extracting PTC and linearity data\n",
    "\n",
    "Initially written 08 Jun 22 by Craig Lage"
   ]
  },
  {
   "cell_type": "code",
   "execution_count": null,
   "metadata": {},
   "outputs": [],
   "source": [
    "import sys, os, glob, time\n",
    "import pickle as pkl\n",
    "import numpy as np\n",
    "import matplotlib.pyplot as plt\n",
    "import astropy.io.fits as pf\n",
    "from lsst.daf.butler import Butler"
   ]
  },
  {
   "cell_type": "code",
   "execution_count": null,
   "metadata": {},
   "outputs": [],
   "source": [
    "butler = Butler(\"/repo/main\", collections=[\"LSSTCam/raw/all\",\"LSSTCam/calib\",\\\n",
    "                                                    \"u/cslage/calib/13144/calib.20220103\"])"
   ]
  },
  {
   "cell_type": "code",
   "execution_count": null,
   "metadata": {},
   "outputs": [],
   "source": [
    "nonlinPtcButler = Butler(\"/repo/main\", collections=[\"u/cslage/bps_13144M\"])"
   ]
  },
  {
   "cell_type": "code",
   "execution_count": null,
   "metadata": {},
   "outputs": [],
   "source": [
    "def ExpApprox(mu, g, a00, n):\n",
    "    if (g < 1.0E-6) or (abs(a00) < 1.0E-9):\n",
    "        return np.zeros([len(mu)])\n",
    "    else:\n",
    "        expFactor = 2.0 * a00 * mu * g\n",
    "        if max(expFactor) > 100.0:\n",
    "            return np.zeros([len(mu)])\n",
    "        else:\n",
    "            preFactor = 1.0 / (2.0 * g * g * a00)\n",
    "            noiseTerm = n / (g * g)\n",
    "            return preFactor * (np.exp(expFactor) - 1.0) + noiseTerm\n",
    "        \n",
    "def calcMondiode(expId):\n",
    "    factor = 5.0\n",
    "    DATA_DIR = '/lsstdata/offline/teststand/BOT/storage/'\n",
    "    date = int(expId/100000)\n",
    "    seq = expId - date * 100000\n",
    "    date = date - 10000000\n",
    "    file = DATA_DIR + '%d/MC_C_%d_%06d/Photodiode_Readings_%d_%06d.txt'%(date,date,seq,date,seq)\n",
    "\n",
    "    x, y = np.recfromtxt(file).transpose()\n",
    "    # Threshold for finding baseline current values:                                                                                                                                                         \n",
    "    ythresh = (min(y) + max(y))/factor + min(y)\n",
    "    # Subtract the median of the baseline values to get a calibrated                                                                                                                                         \n",
    "    # current.                                                                                                                                                                                               \n",
    "    y -= np.median(y[np.where(y < ythresh)])\n",
    "    integral = sum((y[1:] + y[:-1])/2*(x[1:] - x[:-1]))\n",
    "    return integral\n",
    "\n",
    "def detector(raft, sensor):\n",
    "    # Subroutine to find vendor and detector number given raft and sensor                                                                                                                                                           \n",
    "    startingCol = [1,0,0,0,1] # First raft column in each row                                                                                                                                                                       \n",
    "    rows = [0,3,8,13,18] # Starting raft sequence number of each row                                                                                                                                                                \n",
    "    if raft in ['R11','R12','R13','R14','R21','R22','R23','R24','R30',\\\n",
    "                'R31','R32','R33','R34']:\n",
    "        vendor = 'E2V'\n",
    "    else:\n",
    "        vendor = 'ITL'\n",
    "    raftRow = int(list(raft)[1])\n",
    "    raftCol = int(list(raft)[2])\n",
    "    sensorRow = int(list(sensor)[1])\n",
    "    sensorCol = int(list(sensor)[2])\n",
    "    detectorNum = (rows[raftRow] + (raftCol - startingCol[raftRow])) * 9\n",
    "    detectorNum += 3 * sensorRow + sensorCol\n",
    "    return vendor, detectorNum, 4 - raftRow, raftCol\n",
    "\n",
    "rafts = [       'R01', 'R02', 'R03', \\\n",
    "         'R10', 'R11', 'R12', 'R13', 'R14', \\\n",
    "         'R20', 'R21', 'R22', 'R23', 'R24', \\\n",
    "         'R30', 'R31', 'R32', 'R33', 'R34', \\\n",
    "                'R41', 'R42', 'R43']\n",
    "sensors = ['S00', 'S01', 'S02', 'S10', 'S11', 'S12', 'S20', 'S21', 'S22']\n"
   ]
  },
  {
   "cell_type": "code",
   "execution_count": null,
   "metadata": {
    "tags": []
   },
   "outputs": [],
   "source": [
    "expId=3021120700200\n",
    "\n",
    "ampList = [['R03', 'S11', 'C06'], ['R22', 'S11', 'C06']]\n",
    "\n",
    "for [R, S, C] in ampList:\n",
    "    file = open(f\"/project/cslage/BOT_LSSTCam/gen3/PTC_{R}_{S}_{C}.txt\", \"w\")\n",
    "    file.write(f\"PTC data {R}_{S}_{C}\\n\")\n",
    "    file.write(\"Exposure pair \\t\\t\\t Mean \\t Variance \\t Exposure Time (sec) \\t Monitor Diode (Coulombs)\\n\")\n",
    "    for RAFT in [R]:#rafts:\n",
    "        for SENSOR in [S]:#sensors:\n",
    "            VENDOR, det, raftRow, raftCol = detector(RAFT, SENSOR)\n",
    "            ptc = nonlinPtcButler.get('ptc', detector=det, exposure=expId, instrument='LSSTCam')\n",
    "            break\n",
    "            #lin = linPtcButler.get('linearizer', detector=det, exposure=expId, instrument='LSSTCam')\n",
    "\n",
    "            for ampName in ptc.gain.keys():\n",
    "                if ampName != C:\n",
    "                    continue\n",
    "                gain = ptc.gain[ampName]\n",
    "                a00 = ptc.ptcFitPars[ampName][0]\n",
    "                noise = ptc.noise[ampName]\n",
    "                mask = np.array(ptc.expIdMask[ampName], dtype=bool)\n",
    "                maxDM = np.max(np.array(ptc.rawMeans[ampName])[mask])\n",
    "\n",
    "                modExpTimes = []\n",
    "                for ii, pair in enumerate(ptc.inputExpIdPairs[ampName]):\n",
    "                    pair = pair[0]\n",
    "                    modExpTime = 0.0\n",
    "                    nExps = 0\n",
    "                    for j in range(2):\n",
    "                        expId = pair[j]\n",
    "                        try:\n",
    "                            monDiode = calcMondiode(expId)\n",
    "                            modExpTime += monDiode\n",
    "                            nExps += 1\n",
    "                        except:\n",
    "                            continue\n",
    "                    if nExps > 0:\n",
    "                        myMonDiode = modExpTime / nExps\n",
    "                    else:\n",
    "                        mask[ii] = False\n",
    "                    file.write(f\"{pair} \\t {ptc.rawMeans[ampName][ii]} \\t {ptc.rawVars[ampName][ii]} \\t {ptc.rawExpTimes[ampName][ii]} \\t  {myMonDiode} \\n\")\n",
    "    break\n",
    "    file.close()\n",
    "\n",
    "\n",
    "    "
   ]
  },
  {
   "cell_type": "code",
   "execution_count": null,
   "metadata": {},
   "outputs": [],
   "source": [
    "dir(ptc)"
   ]
  },
  {
   "cell_type": "code",
   "execution_count": null,
   "metadata": {},
   "outputs": [],
   "source": []
  }
 ],
 "metadata": {
  "kernelspec": {
   "display_name": "LSST",
   "language": "python",
   "name": "lsst"
  },
  "language_info": {
   "codemirror_mode": {
    "name": "ipython",
    "version": 3
   },
   "file_extension": ".py",
   "mimetype": "text/x-python",
   "name": "python",
   "nbconvert_exporter": "python",
   "pygments_lexer": "ipython3",
   "version": "3.10.4"
  }
 },
 "nbformat": 4,
 "nbformat_minor": 4
}
