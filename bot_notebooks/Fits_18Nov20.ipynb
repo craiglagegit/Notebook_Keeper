{
 "cells": [
  {
   "cell_type": "markdown",
   "metadata": {},
   "source": [
    "# Notebook for interrogating FULLCOV data.\n",
    "\n",
    "Initially written 06 Nov 2020 by Craig Lage"
   ]
  },
  {
   "cell_type": "code",
   "execution_count": null,
   "metadata": {},
   "outputs": [],
   "source": [
    "! eups list -s | grep lsst_distrib\n",
    "! eups list -s cp_pipe"
   ]
  },
  {
   "cell_type": "code",
   "execution_count": null,
   "metadata": {},
   "outputs": [],
   "source": [
    "import sys, os, glob, subprocess\n",
    "import pickle as pkl\n",
    "import numpy as np\n",
    "import matplotlib.pyplot as plt\n",
    "import astropy.io.fits as pf\n",
    "from lsst.ip.isr import PhotonTransferCurveDataset"
   ]
  },
  {
   "cell_type": "code",
   "execution_count": null,
   "metadata": {},
   "outputs": [],
   "source": [
    "MAIN_DIR = '/project/shared/BOT/rerun/cslage/'\n",
    "dirs = ['PTC_LSSTCAM_12673T3/','PTC_LSSTCAM_12673T2/','PTC_LSSTCAM_12673T1/','PTC_LSSTCAM_FullCov_12673T/']\n",
    "names = ['LeastSq', 'Cauchy ', 'Fair   ', 'FullCov']\n",
    "DETECTOR = 183\n"
   ]
  },
  {
   "cell_type": "code",
   "execution_count": null,
   "metadata": {},
   "outputs": [],
   "source": [
    "slacAmps = {'C10':'AMP01','C11':'AMP02','C12':'AMP03','C13':'AMP04',\\\n",
    "           'C14':'AMP05','C15':'AMP06','C16':'AMP07','C17':'AMP08',\\\n",
    "           'C07':'AMP09','C06':'AMP10','C05':'AMP11','C04':'AMP12',\\\n",
    "           'C03':'AMP13','C02':'AMP14','C01':'AMP15','C00':'AMP16'}"
   ]
  },
  {
   "cell_type": "code",
   "execution_count": null,
   "metadata": {},
   "outputs": [],
   "source": [
    "gains =[]\n",
    "noises = []\n",
    "a00s = []\n",
    "for amp in slacAmps.keys():\n",
    "    print(amp)\n",
    "    for i, thisDir in enumerate(dirs):\n",
    "        name = names[i]\n",
    "        datasetFile = MAIN_DIR + thisDir + '/calibrations/ptc/ptcDataset-det%03d.fits'%DETECTOR\n",
    "        ptcDataset = PhotonTransferCurveDataset.readFits(datasetFile)\n",
    "        gain = ptcDataset.gain[amp]\n",
    "        noise = ptcDataset.noise[amp]\n",
    "        if ptcDataset.ptcFitType == 'EXPAPPROXIMATION':\n",
    "            a00 = ptcDataset.ptcFitPars[amp][0]\n",
    "        if ptcDataset.ptcFitType == 'FULLCOVARIANCE':\n",
    "            a00 = ptcDataset.aMatrix[amp][0][0]\n",
    "        print(\"%s: Gain = %.6f, Noise = %.2f, a00 = %.6g\"%(name,gain,noise,a00))\n",
    "     "
   ]
  },
  {
   "cell_type": "code",
   "execution_count": null,
   "metadata": {},
   "outputs": [],
   "source": [
    "print(dir(ptcDataset))\n",
    "print(ptcDataset.aMatrix['C00'][0][0])"
   ]
  },
  {
   "cell_type": "code",
   "execution_count": null,
   "metadata": {},
   "outputs": [],
   "source": []
  }
 ],
 "metadata": {
  "kernelspec": {
   "display_name": "LSST",
   "language": "python",
   "name": "lsst"
  },
  "language_info": {
   "codemirror_mode": {
    "name": "ipython",
    "version": 3
   },
   "file_extension": ".py",
   "mimetype": "text/x-python",
   "name": "python",
   "nbconvert_exporter": "python",
   "pygments_lexer": "ipython3",
   "version": "3.11.4"
  }
 },
 "nbformat": 4,
 "nbformat_minor": 4
}
