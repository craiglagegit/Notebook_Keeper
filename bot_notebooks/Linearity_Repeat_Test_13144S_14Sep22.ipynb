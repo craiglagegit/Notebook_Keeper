{
 "cells": [
  {
   "cell_type": "markdown",
   "metadata": {},
   "source": [
    "# Notebook for investigating linearity corrections\n",
    "\n",
    "Initially written 20 Dec 2021 by Craig Lage\\\n",
    "copying from Chris Waters."
   ]
  },
  {
   "cell_type": "code",
   "execution_count": null,
   "metadata": {
    "execution": {
     "iopub.execute_input": "2022-12-20T18:03:25.092665Z",
     "iopub.status.busy": "2022-12-20T18:03:25.092361Z",
     "iopub.status.idle": "2022-12-20T18:03:27.483211Z",
     "shell.execute_reply": "2022-12-20T18:03:27.482584Z",
     "shell.execute_reply.started": "2022-12-20T18:03:25.092647Z"
    }
   },
   "outputs": [],
   "source": [
    "import sys, os, glob, time\n",
    "import pickle as pkl\n",
    "import numpy as np\n",
    "import matplotlib.pyplot as plt\n",
    "from matplotlib.backends.backend_pdf import PdfPages\n",
    "import astropy.io.fits as pf\n",
    "from lsst.daf.butler import Butler\n",
    "import lsst.afw.math as afwMath\n",
    "from lsst.cp.pipe.utils import (funcPolynomial, irlsFit)"
   ]
  },
  {
   "cell_type": "code",
   "execution_count": null,
   "metadata": {
    "execution": {
     "iopub.execute_input": "2022-12-20T18:03:30.454982Z",
     "iopub.status.busy": "2022-12-20T18:03:30.454566Z",
     "iopub.status.idle": "2022-12-20T18:03:34.745746Z",
     "shell.execute_reply": "2022-12-20T18:03:34.745024Z",
     "shell.execute_reply.started": "2022-12-20T18:03:30.454961Z"
    }
   },
   "outputs": [],
   "source": [
    "butler = Butler(\"/repo/main\", collections=[\"LSSTCam/raw/all\",\"LSSTCam/calib\",\\\n",
    "                                                    \"u/cslage/calib/13144/calib.20220107\"])\n",
    "camera = butler.get('camera', instrument='LSSTCam')"
   ]
  },
  {
   "cell_type": "code",
   "execution_count": null,
   "metadata": {
    "execution": {
     "iopub.execute_input": "2022-12-20T18:03:38.951011Z",
     "iopub.status.busy": "2022-12-20T18:03:38.950598Z",
     "iopub.status.idle": "2022-12-20T18:03:43.127967Z",
     "shell.execute_reply": "2022-12-20T18:03:43.127245Z",
     "shell.execute_reply.started": "2022-12-20T18:03:38.950990Z"
    }
   },
   "outputs": [],
   "source": [
    "linPtcButler = Butler(\"/repo/main\", collections=[\"u/cslage/bps_13144S\"])"
   ]
  },
  {
   "cell_type": "code",
   "execution_count": null,
   "metadata": {
    "execution": {
     "iopub.execute_input": "2022-12-20T18:03:45.517427Z",
     "iopub.status.busy": "2022-12-20T18:03:45.517018Z",
     "iopub.status.idle": "2022-12-20T18:03:49.536195Z",
     "shell.execute_reply": "2022-12-20T18:03:49.535545Z",
     "shell.execute_reply.started": "2022-12-20T18:03:45.517406Z"
    }
   },
   "outputs": [],
   "source": [
    "nonlinPtcButler = Butler(\"/repo/main\", collections=[\"u/cslage/bps_13144M\"])"
   ]
  },
  {
   "cell_type": "code",
   "execution_count": null,
   "metadata": {
    "execution": {
     "iopub.execute_input": "2022-12-20T18:03:49.542632Z",
     "iopub.status.busy": "2022-12-20T18:03:49.542223Z",
     "iopub.status.idle": "2022-12-20T18:03:53.419353Z",
     "shell.execute_reply": "2022-12-20T18:03:53.418711Z",
     "shell.execute_reply.started": "2022-12-20T18:03:49.542613Z"
    }
   },
   "outputs": [],
   "source": [
    "linButler = Butler(\"/repo/main\", collections=[\"u/cslage/linearizer_28jan22\"])"
   ]
  },
  {
   "cell_type": "code",
   "execution_count": null,
   "metadata": {
    "execution": {
     "iopub.execute_input": "2022-12-20T18:06:21.496142Z",
     "iopub.status.busy": "2022-12-20T18:06:21.495745Z",
     "iopub.status.idle": "2022-12-20T18:06:25.375415Z",
     "shell.execute_reply": "2022-12-20T18:06:25.374831Z",
     "shell.execute_reply.started": "2022-12-20T18:06:21.496122Z"
    },
    "tags": []
   },
   "outputs": [],
   "source": [
    "lin2Butler = Butler(\"/repo/main\", collections=[\"u/cslage/linearizer_test_14sep22\"])"
   ]
  },
  {
   "cell_type": "code",
   "execution_count": null,
   "metadata": {
    "execution": {
     "iopub.execute_input": "2022-12-20T18:04:02.265201Z",
     "iopub.status.busy": "2022-12-20T18:04:02.264793Z",
     "iopub.status.idle": "2022-12-20T18:04:02.271834Z",
     "shell.execute_reply": "2022-12-20T18:04:02.271247Z",
     "shell.execute_reply.started": "2022-12-20T18:04:02.265179Z"
    }
   },
   "outputs": [],
   "source": [
    "def ExpApprox(mu, g, a00, n):\n",
    "    if (g < 1.0E-6) or (abs(a00) < 1.0E-9):\n",
    "        return np.zeros([len(mu)])\n",
    "    else:\n",
    "        expFactor = 2.0 * a00 * mu * g\n",
    "        if max(expFactor) > 100.0:\n",
    "            return np.zeros([len(mu)])\n",
    "        else:\n",
    "            preFactor = 1.0 / (2.0 * g * g * a00)\n",
    "            noiseTerm = n / (g * g)\n",
    "            return preFactor * (np.exp(expFactor) - 1.0) + noiseTerm\n",
    "        \n",
    "def calcMondiode(expId):\n",
    "    factor = 5.0\n",
    "    DATA_DIR = '/sdf/group/rubin/lsstdata/offline/instrument/LSSTCam-bot/storage/'\n",
    "    date = int(expId/100000)\n",
    "    seq = expId - date * 100000\n",
    "    date = date - 10000000\n",
    "    file = DATA_DIR + '%d/MC_C_%d_%06d/Photodiode_Readings_%d_%06d.txt'%(date,date,seq,date,seq)\n",
    "\n",
    "    x, y = np.recfromtxt(file).transpose()\n",
    "    # Threshold for finding baseline current values:                                                                                                                                                         \n",
    "    ythresh = (min(y) + max(y))/factor + min(y)\n",
    "    # Subtract the median of the baseline values to get a calibrated                                                                                                                                         \n",
    "    # current.                                                                                                                                                                                               \n",
    "    y -= np.median(y[np.where(y < ythresh)])\n",
    "    integral = sum((y[1:] + y[:-1])/2*(x[1:] - x[:-1]))\n",
    "    return integral\n"
   ]
  },
  {
   "cell_type": "code",
   "execution_count": null,
   "metadata": {
    "execution": {
     "iopub.execute_input": "2022-12-20T18:04:05.800547Z",
     "iopub.status.busy": "2022-12-20T18:04:05.800147Z",
     "iopub.status.idle": "2022-12-20T18:04:05.803801Z",
     "shell.execute_reply": "2022-12-20T18:04:05.803221Z",
     "shell.execute_reply.started": "2022-12-20T18:04:05.800526Z"
    }
   },
   "outputs": [],
   "source": [
    "# Set parameters\n",
    "minLinearAdu = 2000.0\n",
    "maxLinearAdu = 20000.0\n",
    "nSigmaClipLinear = 5.0\n",
    "fitOrder = 10 # Number of spline knots"
   ]
  },
  {
   "cell_type": "code",
   "execution_count": null,
   "metadata": {
    "execution": {
     "iopub.execute_input": "2022-12-20T18:04:12.072122Z",
     "iopub.status.busy": "2022-12-20T18:04:12.071735Z",
     "iopub.status.idle": "2022-12-20T18:04:12.095442Z",
     "shell.execute_reply": "2022-12-20T18:04:12.094785Z",
     "shell.execute_reply.started": "2022-12-20T18:04:12.072102Z"
    },
    "jupyter": {
     "outputs_hidden": true
    },
    "tags": []
   },
   "outputs": [],
   "source": [
    "# Find the pdCorrection name:\n",
    "names = []\n",
    "for type in list(lin2Butler.registry.queryDatasetTypes()):\n",
    "    names.append(type.name)\n",
    "names.sort()\n",
    "for name in names:\n",
    "    print(name)"
   ]
  },
  {
   "cell_type": "code",
   "execution_count": null,
   "metadata": {
    "execution": {
     "iopub.execute_input": "2022-12-20T18:04:20.081444Z",
     "iopub.status.busy": "2022-12-20T18:04:20.081050Z",
     "iopub.status.idle": "2022-12-20T18:04:20.355126Z",
     "shell.execute_reply": "2022-12-20T18:04:20.354426Z",
     "shell.execute_reply.started": "2022-12-20T18:04:20.081424Z"
    }
   },
   "outputs": [],
   "source": [
    "expId=3021120700200\n",
    "det = 55\n",
    "corr = lin2Butler.get('pdCorrection', detector=det, exposure=expId, instrument='LSSTCam')"
   ]
  },
  {
   "cell_type": "code",
   "execution_count": null,
   "metadata": {
    "execution": {
     "iopub.execute_input": "2022-12-20T18:07:00.305721Z",
     "iopub.status.busy": "2022-12-20T18:07:00.305388Z",
     "iopub.status.idle": "2022-12-20T18:07:23.804284Z",
     "shell.execute_reply": "2022-12-20T18:07:23.803615Z",
     "shell.execute_reply.started": "2022-12-20T18:07:00.305698Z"
    },
    "tags": []
   },
   "outputs": [],
   "source": [
    "expId=3021120700200\n",
    "\n",
    "names = [\"E2V\", \"ITL\"]\n",
    "\n",
    "correct = \"Corrected\" # just plot after the photodiode systematic correction\n",
    "plt.figure(figsize=(16,8))\n",
    "plt.subplots_adjust(wspace = 0.5, hspace = 0.5)\n",
    "plotCounter = 1\n",
    "for i, det in enumerate([55, 74]):\n",
    "    linPtc = linPtcButler.get('ptc', detector=det, exposure=expId, instrument='LSSTCam')\n",
    "    nonlinPtc = nonlinPtcButler.get('ptc', detector=det, exposure=expId, instrument='LSSTCam')\n",
    "    lin = linButler.get('linearizer', detector=det, exposure=expId, instrument='LSSTCam')  # First time  \n",
    "    lin2 = lin2Butler.get('linearizer', detector=det, exposure=expId, instrument='LSSTCam') # Second time\n",
    "    for amp in camera[0].getAmplifiers():\n",
    "        ampName = amp.getName()\n",
    "        if [det, ampName] not in [[55, 'C17'], [74, 'C01']]:\n",
    "            continue\n",
    "        mask = np.array(linPtc.expIdMask[ampName], dtype=bool)\n",
    "        maxDM = np.max(np.array(linPtc.rawMeans[ampName])[mask])            \n",
    "\n",
    "        # Now get and plot the linearizer fit\n",
    "        # This code is copied from cp_pipe/linearity.py\n",
    "        pdCorrection = linButler.get('pdCorrection', detector=det, exposure=expId, instrument='LSSTCam')\n",
    "        abscissaCorrections = pdCorrection.abscissaCorrections\n",
    "        for kk, time in enumerate([\"First\", \"Second\"]):\n",
    "            modExpTimes = []\n",
    "            for ii, pair in enumerate(linPtc.inputExpIdPairs[ampName]):\n",
    "                pair = pair[0]\n",
    "                modExpTime = 0.0\n",
    "                nExps = 0\n",
    "                for j in range(2):\n",
    "                    expId = pair[j]\n",
    "                    try:\n",
    "                        monDiode = calcMondiode(expId)\n",
    "                        modExpTime += monDiode\n",
    "                        nExps += 1\n",
    "                    except:\n",
    "                        continue\n",
    "                if nExps > 0:\n",
    "                    # The 5E8 factor bring the modExpTimes back to about the same order as the expTimes                                                                                                          \n",
    "                    modExpTime = 5.0E8 * modExpTime / nExps\n",
    "                else:\n",
    "                    mask[ii] = False\n",
    "\n",
    "\n",
    "                # Get the photodiode correction                                                                                                                        \n",
    "                try:\n",
    "                    correction = abscissaCorrections[str(pair)]\n",
    "                except:\n",
    "                    correction = 0.0\n",
    "                if correct == \"Corrected\":\n",
    "                    modExpTimes.append(modExpTime + correction)\n",
    "                else:\n",
    "                    modExpTimes.append(modExpTime)\n",
    "\n",
    "            inputAbscissa = np.array(modExpTimes)[mask]\n",
    "            if time == \"First\":\n",
    "                inputOrdinate = np.array(nonlinPtc.rawMeans[ampName])[mask]\n",
    "                # Get the spline coordinates from the stored linearizer\n",
    "                binCenters, values = np.split(lin.linearityCoeffs[amp.getName()], 2)\n",
    "\n",
    "            else:\n",
    "                inputOrdinate = np.array(linPtc.rawMeans[ampName])[mask]\n",
    "                # Get the spline coordinates from the stored linearizer\n",
    "                binCenters, values = np.split(lin2.linearityCoeffs[amp.getName()], 2)\n",
    "\n",
    "\n",
    "            fluxMask = inputOrdinate < maxLinearAdu\n",
    "            lowMask = inputOrdinate > minLinearAdu\n",
    "            fluxMask = fluxMask & lowMask\n",
    "            linearAbscissa = inputAbscissa[fluxMask]\n",
    "            linearOrdinate = inputOrdinate[fluxMask]\n",
    "            linearFit, linearFitErr, chiSq, weights = irlsFit([0.0, 100.0], linearAbscissa,\n",
    "                                                              linearOrdinate, funcPolynomial)\n",
    "            # Convert this proxy-to-flux fit into an expected linear flux\n",
    "            linearOrdinate = linearFit[0] + linearFit[1] * inputAbscissa\n",
    "\n",
    "            interp = afwMath.makeInterpolate(binCenters.tolist(), values.tolist(),\n",
    "                                             afwMath.stringToInterpStyle(\"AKIMA_SPLINE\"))\n",
    "            modelOrdinate = linearOrdinate + interp.interpolate(linearOrdinate)\n",
    "            \n",
    "            maxError = max(abs(values/binCenters))*100\n",
    "            if time == \"First\":\n",
    "                numPlots = 1\n",
    "            else:\n",
    "                numPlots = 2\n",
    "            for ii in range(numPlots):\n",
    "                plt.subplot(2,3,plotCounter)\n",
    "                plt.title(f\"Spline fit to MonDiode data\\n{names[i]} - {det} - {ampName} - {time}\\nMaxError = {maxError:.4f} %\")\n",
    "                plt.plot(linearOrdinate, (modelOrdinate-linearOrdinate), ls = '--', lw=3, color='red', label=\"Spline fit\")\n",
    "                plt.scatter(binCenters, values, marker = 'x', s = 200, color='red', label=\"Spline knots\")\n",
    "                plt.scatter(linearOrdinate, (inputOrdinate - linearOrdinate), label=\"Input data\")\n",
    "                if names[i] == 'E2V' and ii == 0:\n",
    "                    plt.plot([maxDM, maxDM], [-400, 0], ls = '--', color='black', label = \"PTC Turnoff\")\n",
    "                    plt.ylim(-500,50)\n",
    "                elif names[i] == 'ITL' and ii == 0:\n",
    "                    plt.plot([maxDM, maxDM], [-50, 200], ls = '--', color='black', label = \"PTC Turnoff\")\n",
    "                    plt.ylim(-100,200)\n",
    "                else:\n",
    "                    plt.plot([maxDM, maxDM], [-25,25], ls = '--', color='black', label = \"PTC Turnoff\")\n",
    "                    plt.ylim(-25,25)\n",
    "                plt.xlabel(\"Flux (ADU)\")\n",
    "                plt.ylabel(\"Deviation from Linearity(ADU)\")\n",
    "                plt.xlim(0, 100000)\n",
    "                plt.xticks([0,25000,50000,75000,100000])\n",
    "                plt.legend() \n",
    "                plotCounter += 1\n",
    "              \n",
    "\n",
    "#plt.savefig(\"/sdf/group/rubin/repo/main/u/cslage/linearizer_test_14sep22/plots/Linearity_Repeat_Test_14Sep22.pdf\")\n",
    "\n"
   ]
  },
  {
   "cell_type": "code",
   "execution_count": null,
   "metadata": {},
   "outputs": [],
   "source": []
  }
 ],
 "metadata": {
  "kernelspec": {
   "display_name": "LSST",
   "language": "python",
   "name": "lsst"
  },
  "language_info": {
   "codemirror_mode": {
    "name": "ipython",
    "version": 3
   },
   "file_extension": ".py",
   "mimetype": "text/x-python",
   "name": "python",
   "nbconvert_exporter": "python",
   "pygments_lexer": "ipython3",
   "version": "3.10.8"
  }
 },
 "nbformat": 4,
 "nbformat_minor": 4
}
