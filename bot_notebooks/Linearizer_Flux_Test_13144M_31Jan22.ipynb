{
 "cells": [
  {
   "cell_type": "markdown",
   "metadata": {},
   "source": [
    "# Notebook for investigating linearity corrections\n",
    "\n",
    "Initially written 27 Jan 2022 by Craig Lage"
   ]
  },
  {
   "cell_type": "code",
   "execution_count": null,
   "metadata": {},
   "outputs": [],
   "source": [
    "import sys, os, glob, time\n",
    "import pickle as pkl\n",
    "import numpy as np\n",
    "import matplotlib.pyplot as plt\n",
    "from matplotlib.backends.backend_pdf import PdfPages\n",
    "import astropy.io.fits as pf\n",
    "from lsst.daf.butler import Butler\n",
    "import lsst.afw.math as afwMath\n",
    "from focal_plane_plotting import plot_focal_plane"
   ]
  },
  {
   "cell_type": "code",
   "execution_count": null,
   "metadata": {},
   "outputs": [],
   "source": [
    "!eups list -s | grep ip_isr\n",
    "!eups list -s | grep cp_pipe"
   ]
  },
  {
   "cell_type": "code",
   "execution_count": null,
   "metadata": {},
   "outputs": [],
   "source": [
    "butler = Butler(\"/repo/main\", collections=[\"LSSTCam/raw/all\",\"LSSTCam/calib\"])\n",
    "camera = butler.get('camera', instrument='LSSTCam')"
   ]
  },
  {
   "cell_type": "code",
   "execution_count": null,
   "metadata": {},
   "outputs": [],
   "source": [
    "ptcButler = Butler(\"/repo/main\", collections=[\"u/cslage/bps_13144N\"])"
   ]
  },
  {
   "cell_type": "code",
   "execution_count": null,
   "metadata": {},
   "outputs": [],
   "source": [
    "# Re-testing after edit to remove \"exposure\" from dimensions\n",
    "linButler = Butler(\"/repo/main\", collections=[\"u/cslage/linearizer_28jan22\"])"
   ]
  },
  {
   "cell_type": "code",
   "execution_count": null,
   "metadata": {},
   "outputs": [],
   "source": [
    "numDetectors = 0\n",
    "for item in linButler.registry.queryDatasets('unCorrectedLinearizer'):\n",
    "    numDetectors += 1\n",
    "print(numDetectors)    "
   ]
  },
  {
   "cell_type": "code",
   "execution_count": null,
   "metadata": {
    "tags": []
   },
   "outputs": [],
   "source": [
    "# First, get the data and put it in a dict as the heatmap plotting needs\n",
    "# Identify thr sequence number that gives the appropriate fluxes\n",
    "# Pick an amp near the center\n",
    "detId = 94\n",
    "ampName = 'C14'\n",
    "fluxHi = 20000.0\n",
    "fluxLo = 1000.0\n",
    "ptc = ptcButler.get('ptc', detector=detId, instrument='LSSTCam')\n",
    "mask = np.array(ptc.expIdMask[ampName], dtype=bool)\n",
    "means = np.array(ptc.rawMeans[ampName])[mask]\n",
    "gain = ptc.gain[ampName]\n",
    "foundFluxLo = False\n",
    "for i, mean in enumerate(means):\n",
    "    if mean * gain > fluxLo and not foundFluxLo:\n",
    "        expIdLo = ptc.inputExpIdPairs[ampName][i][0][0]\n",
    "        seqNoLo = i\n",
    "        print(f\"ExpIdLo = {expIdLo}, seqNoLo = {seqNoLo}\")\n",
    "        foundFluxLo = True\n",
    "    if mean * gain > fluxHi:\n",
    "        seqNoHi = i\n",
    "        expIdHi = ptc.inputExpIdPairs[ampName][i][0][0]\n",
    "        print(f\"ExpIdHi = {expIdHi}, seqNoHi = {seqNoHi}\")\n",
    "        break\n",
    "\n",
    "fluxMin = 10000.0\n",
    "corrStds = dict()\n",
    "uncorrStds = dict()\n",
    "maxNL = dict()\n",
    "fluxesLo = dict()\n",
    "fluxesHi = dict()\n",
    "noises = dict()\n",
    "gains = dict()\n",
    "\n",
    "badAmps = []\n",
    "weakAmps = []\n",
    "\n",
    "for detector in camera:\n",
    "    if detector.getType().name != 'SCIENCE':\n",
    "        continue\n",
    "    detName = detector.getName()\n",
    "    detId = detector.getId()\n",
    "    corrStds[detName] = dict()\n",
    "    uncorrStds[detName] = dict()\n",
    "    maxNL[detName] = dict()\n",
    "    fluxesLo[detName] = dict()\n",
    "    fluxesHi[detName] = dict()\n",
    "    noises[detName] = dict()\n",
    "    gains[detName] = dict()\n",
    "    try:\n",
    "        ptc = ptcButler.get('ptc', detector=detId, instrument='LSSTCam')\n",
    "        uncorrLin = linButler.get('unCorrectedLinearizer', detector=detId, instrument='LSSTCam')\n",
    "        corrLin = linButler.get('linearizer', detector=detId, instrument='LSSTCam')\n",
    "    except:\n",
    "        continue\n",
    "\n",
    "    for amp in detector.getAmplifiers():\n",
    "        ampName = amp.getName()\n",
    "        mask = np.array(ptc.expIdMask[ampName], dtype=bool)\n",
    "        means = np.array(ptc.rawMeans[ampName])[mask]\n",
    "        uncorrResiduals = np.array(uncorrLin.fitResiduals[ampName])[mask]\n",
    "        corrResiduals = np.array(corrLin.fitResiduals[ampName])[mask]\n",
    "        fluxMask = means > fluxMin\n",
    "        corrStd = np.nanstd((corrResiduals/means * 100.0)[fluxMask])\n",
    "        uncorrStd = np.nanstd((uncorrResiduals/means * 100.0)[fluxMask])\n",
    "        corrStds[detName][ampName] = corrStd\n",
    "        uncorrStds[detName][ampName] = uncorrStd\n",
    "        centers, values = np.split(corrLin.linearityCoeffs[ampName], 2)\n",
    "        fluxMask = np.where(centers>fluxMin)\n",
    "        try:\n",
    "            maxDeviation = np.max(abs((values/centers * 100.0)[fluxMask]))\n",
    "        except:\n",
    "            maxDeviation = np.nan\n",
    "        maxNL[detName][ampName] = maxDeviation\n",
    "        loFlux = ptc.rawMeans[ampName][seqNoLo] * ptc.gain[ampName]\n",
    "        hiFlux = ptc.rawMeans[ampName][seqNoHi] * ptc.gain[ampName]\n",
    "        if loFlux < fluxLo / 10.0 or np.isnan(loFlux) or hiFlux < fluxHi / 10.0 or np.isnan(hiFlux):\n",
    "            badAmps.append(f\"{detName}_{ampName}\")\n",
    "        elif loFlux < fluxLo * 0.6 or hiFlux < fluxHi * 0.6:\n",
    "            weakAmps.append(f\"{detName}_{ampName}\")\n",
    "        fluxesLo[detName][ampName] = loFlux\n",
    "        fluxesHi[detName][ampName] = hiFlux\n",
    "        noises[detName][ampName] = ptc.noise[ampName]\n",
    "        gains[detName][ampName] = ptc.gain[ampName]\n",
    "\n",
    "print(\"badAmps\", badAmps)\n",
    "print(\"weakAmps\", weakAmps)"
   ]
  },
  {
   "cell_type": "code",
   "execution_count": null,
   "metadata": {},
   "outputs": [],
   "source": [
    "# Check it\n",
    "fluxesLo['R22_S11']['C12']"
   ]
  },
  {
   "cell_type": "code",
   "execution_count": null,
   "metadata": {},
   "outputs": [],
   "source": [
    "# Now plot the flux heatmap low flux\n",
    "fig = plt.figure(figsize=(11,8.5))\n",
    "ax = plt.axes([0.1, 0.1, 0.8, 0.8])\n",
    "title = f\"Flux distribution in electrons.  Run 13144, Flux ~ {fluxLo}\"\n",
    "plot_focal_plane(ax, fluxesLo, camera=camera, z_range=(0.0, fluxLo * 1.4), title=title)\n",
    "plt.text(-322, -250, \"Bad amps\")\n",
    "plt.text(-322, -270, badAmps[0])\n",
    "plt.text(-322, -290, badAmps[1])\n",
    "plt.text(-322, -310, badAmps[2])\n",
    "plt.text(235, -250, \"Weak amps\")\n",
    "plt.text(235, -270, badAmps[0])\n",
    "plt.text(235, -290, badAmps[1])\n",
    "plt.text(235, -310, badAmps[2])\n",
    "\n",
    "plt.savefig(\"/repo/main/u/cslage/bps_13144N/plots/Low_Flux_HeatMap_31Jan22.pdf\")\n",
    "\n",
    "# Need to add a list of weak/bad amps"
   ]
  },
  {
   "cell_type": "code",
   "execution_count": null,
   "metadata": {},
   "outputs": [],
   "source": [
    "# Now plot the flux heatmap high flux\n",
    "fig = plt.figure(figsize=(11,8.5))\n",
    "ax = plt.axes([0.1, 0.1, 0.8, 0.8])\n",
    "title = f\"Flux distribution in electrons.  Run 13144, flux ~ {fluxHi}\"\n",
    "plot_focal_plane(ax, fluxesHi, camera=camera, z_range=(0.0, fluxHi * 1.4), title=title)\n",
    "plt.text(-322, -250, \"Bad amps\")\n",
    "plt.text(-322, -270, badAmps[0])\n",
    "plt.text(-322, -290, badAmps[1])\n",
    "plt.text(-322, -310, badAmps[2])\n",
    "plt.text(235, -250, \"Weak amps\")\n",
    "plt.text(235, -270, badAmps[0])\n",
    "plt.text(235, -290, badAmps[1])\n",
    "plt.text(235, -310, badAmps[2])\n",
    "\n",
    "plt.savefig(\"/repo/main/u/cslage/bps_13144N/plots/High_Flux_HeatMap_31Jan22.pdf\")\n",
    "\n",
    "# Need to add a list of weak/bad amps"
   ]
  },
  {
   "cell_type": "code",
   "execution_count": null,
   "metadata": {},
   "outputs": [],
   "source": []
  }
 ],
 "metadata": {
  "kernelspec": {
   "display_name": "LSST",
   "language": "python",
   "name": "lsst"
  },
  "language_info": {
   "codemirror_mode": {
    "name": "ipython",
    "version": 3
   },
   "file_extension": ".py",
   "mimetype": "text/x-python",
   "name": "python",
   "nbconvert_exporter": "python",
   "pygments_lexer": "ipython3",
   "version": "3.8.8"
  }
 },
 "nbformat": 4,
 "nbformat_minor": 4
}
