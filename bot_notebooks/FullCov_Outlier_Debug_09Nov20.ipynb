{
 "cells": [
  {
   "cell_type": "markdown",
   "metadata": {},
   "source": [
    "# Notebook for plotting FullCov results from ptc.py\n",
    "\n",
    "Initially written 09 Nov 2019 by Craig Lage.\\\n"
   ]
  },
  {
   "cell_type": "code",
   "execution_count": null,
   "metadata": {},
   "outputs": [],
   "source": [
    "! eups list -s | grep lsst_distrib\n",
    "! eups list -s ip_isr \n",
    "! eups list -s cp_pipe"
   ]
  },
  {
   "cell_type": "code",
   "execution_count": null,
   "metadata": {},
   "outputs": [],
   "source": [
    "import matplotlib.pyplot as plt\n",
    "from scipy.stats import norm\n",
    "import numpy as np\n",
    "import pickle as pkl\n",
    "from scipy.stats import median_abs_deviation as mad"
   ]
  },
  {
   "cell_type": "code",
   "execution_count": null,
   "metadata": {},
   "outputs": [],
   "source": [
    "# Get the pickled results from ptc.py\n",
    "amp = 'C01'\n",
    "counter = 1\n",
    "nSigma = 20\n",
    "maxFlux = 80\n",
    "filename = \"/project/cslage/BOT_LSSTCam/fullcov_tests/dump_94_12673_new_%s.pkl\"%(amp)\n",
    "file = open(filename, 'rb')\n",
    "data = pkl.load(file)\n",
    "file.close()\n",
    "mu = data['mu']\n",
    "cov = data['cov']\n",
    "covModel = data['covModel']\n",
    "sqrtW = data['sqrtW']"
   ]
  },
  {
   "cell_type": "code",
   "execution_count": null,
   "metadata": {},
   "outputs": [],
   "source": [
    "for n in range(cov.shape[0]):\n",
    "    print(n, mu[n], cov[n,0,0])#, covModel[n,0,0], sqrtW[n,0,0])"
   ]
  },
  {
   "cell_type": "code",
   "execution_count": null,
   "metadata": {},
   "outputs": [],
   "source": [
    "wres = (covModel-cov)*sqrtW\n",
    "flatwres = wres.flatten()\n",
    "sig = mad(flatwres[flatwres != 0], scale='normal')\n",
    "mask = (np.abs(flatwres) > (nSigma*sig))\n",
    "\n",
    "nOutliers = mask.sum()\n",
    "print(nOutliers)\n",
    "print(mask.shape)\n",
    "(nF, nx, ny) = wres.shape"
   ]
  },
  {
   "cell_type": "code",
   "execution_count": null,
   "metadata": {},
   "outputs": [],
   "source": [
    "xmin = -10.0; xmax = 10.0\n",
    "x = np.linspace(xmin, xmax, 100)\n",
    "\n",
    "n, bins, patches = plt.hist(flatwres, bins=20, range=(xmin,xmax))\n",
    "y = norm.pdf(x, 0.0, sig)*len(flatwres)\n",
    "l = plt.plot(x, y, 'r--', linewidth=2)\n",
    "print(sig)\n",
    "print(np.std(flatwres))\n",
    "print(cov[13,0,0], covModel[13,0,0], sqrtW[13,0,0])\n",
    "print(wres[13,3,5], flatwres[13*nx*ny + 3*nx + 5])"
   ]
  },
  {
   "cell_type": "code",
   "execution_count": null,
   "metadata": {},
   "outputs": [],
   "source": [
    "fig = plt.figure(figsize = (16,16))\n",
    "plt.suptitle(\"FULLCOVARIANCE, Amp %s, Iteration %d\"%(amp,counter), fontsize = 18)\n",
    "plotNum = 0\n",
    "for i in range(3):\n",
    "    for j in range(3):\n",
    "        plotNum += 1\n",
    "        plt.subplot(3,3,plotNum)\n",
    "        plt.title(\"Covariance, PixX = %d, PixY = %d\"%(i,j))\n",
    "        covData = []\n",
    "        covFit = []    \n",
    "        mus = []\n",
    "        goodMus = []\n",
    "        badMus = []\n",
    "        maskedCovFit = []    \n",
    "\n",
    "        for n in range(cov.shape[0]):\n",
    "            mus.append(mu[n])\n",
    "            covData.append(cov[n,i,j])\n",
    "            if mask[n*nx*ny + i*nx + j]:\n",
    "                maskedCovFit.append(covModel[n,i,j])\n",
    "                badMus.append(mu[n])\n",
    "            else:\n",
    "                covFit.append(covModel[n,i,j])\n",
    "                goodMus.append(mu[n])\n",
    "        plt.scatter(mus, covData, marker='o', color='blue', label = 'Data')\n",
    "        plt.scatter(goodMus, covFit, marker='x', s=200, color = 'green', label = 'Fit - kept')\n",
    "        plt.scatter(badMus, maskedCovFit, marker='+', s=200, color = 'red', label = 'Fit, discarded')\n",
    "        plt.xlabel(\"Flux(ADU)\")\n",
    "        plt.ylabel(\"Covariance(ADU^2)\")\n",
    "        plt.legend()\n",
    "plt.savefig('/project/shared/BOT/rerun/cslage/PTC_LSSTCAM_FullCov_12673/plots/Discard_Debug_94_%dK_S%d_%s_%d_09Nov20.pdf'\\\n",
    "            %(maxFlux, nSigma, amp, counter))"
   ]
  },
  {
   "cell_type": "code",
   "execution_count": null,
   "metadata": {},
   "outputs": [],
   "source": [
    "from lsst.ip.isr import PhotonTransferCurveDataset\n",
    "#datasetFile = '/project/shared/BOT/rerun/cslage/PTC_LSSTCAM_FullCov_12606/calibrations/ptc/ptcDataset-det183.fits'\n",
    "datasetFile = '/project/shared/BOT/rerun/cslage/PTC_LSSTCAM_Test4_12606/calibrations/ptc/ptcDataset-det183.fits'\n",
    "ptcDataset = PhotonTransferCurveDataset.readFits(datasetFile)"
   ]
  },
  {
   "cell_type": "code",
   "execution_count": null,
   "metadata": {},
   "outputs": [],
   "source": [
    "cov = ptcDataset.covariances\n",
    "covSqrtW = ptcDataset.covariancesSqrtWeights\n",
    "print(cov['C13'][12][0][0])\n",
    "print(covSqrtW['C13'][:][0][0])\n",
    "for n, arr in enumerate(covSqrtW['C13']):\n",
    "    print(n, cov['C13'][n][0][0], arr[0][0], sqrtW[n,0,0], mask[n*nx*ny + 0*nx + 0])\n"
   ]
  },
  {
   "cell_type": "code",
   "execution_count": null,
   "metadata": {},
   "outputs": [],
   "source": []
  }
 ],
 "metadata": {
  "kernelspec": {
   "display_name": "LSST",
   "language": "python",
   "name": "lsst"
  },
  "language_info": {
   "codemirror_mode": {
    "name": "ipython",
    "version": 3
   },
   "file_extension": ".py",
   "mimetype": "text/x-python",
   "name": "python",
   "nbconvert_exporter": "python",
   "pygments_lexer": "ipython3",
   "version": "3.7.8"
  }
 },
 "nbformat": 4,
 "nbformat_minor": 4
}
