{
 "cells": [
  {
   "cell_type": "markdown",
   "metadata": {
    "lines_to_next_cell": 0
   },
   "source": [
    "## Running ISR from a notebook - testing CTI correction\n",
    "\n",
    "Craig Lage - 28-Sep-22"
   ]
  },
  {
   "cell_type": "code",
   "execution_count": null,
   "metadata": {},
   "outputs": [],
   "source": [
    "import numpy as np\n",
    "import matplotlib.pyplot as plt\n",
    "import astropy.io.fits as pf\n",
    "from lsst.ip.isr import IsrTask, IsrTaskConfig\n",
    "from lsst.daf.butler import Butler"
   ]
  },
  {
   "cell_type": "code",
   "execution_count": null,
   "metadata": {},
   "outputs": [],
   "source": [
    "butler = Butler('/repo/main', collections=[\"LSSTCam/raw/all\",\"LSSTCam/calib\", \\\n",
    "                                           \"u/cslage/sdf/BOT/cti_20220916\"])"
   ]
  },
  {
   "cell_type": "code",
   "execution_count": null,
   "metadata": {},
   "outputs": [],
   "source": [
    "isrConfig = IsrTaskConfig()\n",
    "isrConfig.doLinearize=False\n",
    "isrConfig.doOverscan=True\n",
    "isrConfig.doAssembleCcd=True\n",
    "isrConfig.doBias=True\n",
    "isrConfig.doVariance=True\n",
    "isrConfig.doLinearize=False\n",
    "isrConfig.doCrosstalk=False\n",
    "isrConfig.doBrighterFatter=False\n",
    "isrConfig.doDark=False\n",
    "isrConfig.doStrayLight=False\n",
    "isrConfig.doFlat=False\n",
    "isrConfig.doFringe=False\n",
    "isrConfig.doApplyGains=False\n",
    "isrConfig.doDefect=False\n",
    "isrConfig.doNanMasking=True\n",
    "isrConfig.doInterpolate=False\n",
    "isrConfig.doSaturation=False\n",
    "isrConfig.doSaturationInterpolation=False\n",
    "\n",
    "isrConfig.doDeferredCharge=False\n",
    "\n",
    "# Adjust these as needed and add as many more as you want"
   ]
  },
  {
   "cell_type": "code",
   "execution_count": null,
   "metadata": {},
   "outputs": [],
   "source": [
    "expId = 3021120700215\n",
    "exp1 = butler.get('raw', detector=74, exposure=expId)\n",
    "exp2 = butler.get('raw', detector=74, exposure=expId)\n",
    "exp3 = butler.get('raw', detector=74, exposure=expId)\n",
    "biasExp = butler.get('bias', detector=74, exposure=expId)\n",
    "deferredChargeCalib = butler.get('cpCtiCalib', detector=74, exposure=expId)\n",
    "camera = butler.get('camera', instrument='LSSTCam')"
   ]
  },
  {
   "cell_type": "code",
   "execution_count": null,
   "metadata": {
    "tags": []
   },
   "outputs": [],
   "source": [
    "isrConfig.doDeferredCharge=False\n",
    "isrTask1 = IsrTask(config=isrConfig)\n",
    "isrResult1 = isrTask1.run(exp1, bias=biasExp) # No CTI correction\n",
    "isrConfig.doDeferredCharge=True\n",
    "isrTask2 = IsrTask(config=isrConfig)\n",
    "isrResult2 = isrTask2.run(exp2, bias=biasExp, deferredCharge=deferredChargeCalib) # With CTI correction\n",
    "isrConfig.doDeferredCharge=True\n",
    "isrTask3 = IsrTask(config=isrConfig)\n",
    "dcDict = deferredChargeCalib.toDict()\n",
    "dcDict['driftScale']['C11'] = 1E-6\n",
    "#dcDict['decayTime']['C17'] *= 1E-6\n",
    "#dcDict['serialTraps']['C17']['emissionTime'] *= 1E-6\n",
    "deferredChargeCalib.fromDict(dcDict)\n",
    "isrResult3 = isrTask3.run(exp3, bias=biasExp, deferredCharge=deferredChargeCalib) # With CTI correction, driftScale=0"
   ]
  },
  {
   "cell_type": "code",
   "execution_count": null,
   "metadata": {},
   "outputs": [],
   "source": [
    "for amp in camera[74].getAmplifiers():\n",
    "    if amp.getName() not in ['C11']:\n",
    "        continue\n",
    "    notCtiCorrected = isrResult1.exposure.image[amp.getBBox()].array\n",
    "    ctiCorrectedZero = isrResult3.exposure.image[amp.getBBox()].array\n",
    "diff = ctiCorrectedZero - notCtiCorrected"
   ]
  },
  {
   "cell_type": "code",
   "execution_count": null,
   "metadata": {},
   "outputs": [],
   "source": [
    "diff.max()"
   ]
  },
  {
   "cell_type": "code",
   "execution_count": null,
   "metadata": {},
   "outputs": [],
   "source": [
    "diff.shape"
   ]
  },
  {
   "cell_type": "code",
   "execution_count": null,
   "metadata": {},
   "outputs": [],
   "source": [
    "diff[1995:2000, 500:509]"
   ]
  },
  {
   "cell_type": "code",
   "execution_count": null,
   "metadata": {},
   "outputs": [],
   "source": [
    "plt.imshow(diff[1995:2000, 500:511], interpolation='nearest')\n",
    "plt.colorbar()"
   ]
  },
  {
   "cell_type": "code",
   "execution_count": null,
   "metadata": {},
   "outputs": [],
   "source": [
    "y = 1000\n",
    "plt.figure(figsize=(8,8))\n",
    "plt.suptitle(f\"CTI correction results {expId}\")\n",
    "plt.subplots_adjust(wspace=0.5)\n",
    "xplot = range(460, 509)           \n",
    "for amp in camera[74].getAmplifiers():\n",
    "    if amp.getName() not in ['C11']:\n",
    "        continue\n",
    "    notCtiCorrected = isrResult1.exposure.image[amp.getBBox()].array\n",
    "    ctiCorrected = isrResult2.exposure.image[amp.getBBox()].array\n",
    "    ctiCorrectedZero = isrResult3.exposure.image[amp.getBBox()].array\n",
    "    plt.subplot(2,2,1)\n",
    "    plt.title(amp.getName())\n",
    "    plt.plot(xplot, notCtiCorrected[y,460:509], label=\"notCtiCorrected\")\n",
    "    plt.plot(xplot, ctiCorrected[y,460:509], label=\"ctiCorrected\")\n",
    "    plt.ylim(65000, 72000)\n",
    "    plt.legend()\n",
    "    plt.subplot(2,2,2)\n",
    "    plt.title(amp.getName())\n",
    "    plt.plot(xplot, notCtiCorrected[y,460:509], label=\"notCtiCorrected\")\n",
    "    plt.plot(xplot, ctiCorrectedZero[y,460:509], label=\"ctiCorrected-driftScale=0\")\n",
    "    plt.ylim(65000, 72000)\n",
    "    plt.legend()\n",
    "    plt.subplot(2,2,3)\n",
    "    plt.title(amp.getName())\n",
    "    plt.plot(xplot, ctiCorrected[y,460:509] - notCtiCorrected[y,460:509], label=\"diff\")\n",
    "    #plt.ylim(65000, 72000)\n",
    "    plt.legend()\n",
    "    plt.subplot(2,2,4)\n",
    "    plt.title(amp.getName())\n",
    "    plt.plot(xplot, ctiCorrectedZero[y,460:509] - notCtiCorrected[y,460:509], label=\"diff - driftScale = 0\")\n",
    "    #plt.ylim(65000, 72000)\n",
    "    plt.legend()\n",
    "plt.savefig(f\"/sdf/group/rubin/u/cslage/BOT_LSSTCam/cti/CTI_Test_{expId}_C11_03Oct22.pdf\")"
   ]
  },
  {
   "cell_type": "code",
   "execution_count": null,
   "metadata": {
    "tags": []
   },
   "outputs": [],
   "source": [
    "deferredChargeCalib.toDict()"
   ]
  },
  {
   "cell_type": "code",
   "execution_count": null,
   "metadata": {},
   "outputs": [],
   "source": [
    "print(deferredChargeCalib.decayTime['C17'])"
   ]
  },
  {
   "cell_type": "code",
   "execution_count": null,
   "metadata": {},
   "outputs": [],
   "source": [
    "print(deferredChargeCalib.driftScale['C16'])"
   ]
  },
  {
   "cell_type": "code",
   "execution_count": null,
   "metadata": {},
   "outputs": [],
   "source": [
    "print(deferredChargeCalib.decayTime['C17'])\n",
    "print(deferredChargeCalib.serialTraps['C17'].emission_time)\n",
    "dcDict = deferredChargeCalib.toDict()\n",
    "dcDict['decayTime']['C17'] *=1E-6\n",
    "dcDict['serialTraps']['C17']['emissionTime'] *= 1E-6\n",
    "deferredChargeCalib.fromDict(dcDict)\n",
    "print(deferredChargeCalib.decayTime['C17'])\n",
    "print(deferredChargeCalib.serialTraps['C17'].emission_time)"
   ]
  },
  {
   "cell_type": "code",
   "execution_count": null,
   "metadata": {},
   "outputs": [],
   "source": [
    "deferredChargeCalib.serialTraps['C17'].emission_time"
   ]
  },
  {
   "cell_type": "code",
   "execution_count": null,
   "metadata": {},
   "outputs": [],
   "source": [
    "dcDict = deferredChargeCalib.toDict()"
   ]
  },
  {
   "cell_type": "code",
   "execution_count": null,
   "metadata": {},
   "outputs": [],
   "source": [
    "dcDict['serialTraps']['C17']['emissionTime']"
   ]
  },
  {
   "cell_type": "code",
   "execution_count": null,
   "metadata": {},
   "outputs": [],
   "source": [
    "dcDict['globalCti']['C17']"
   ]
  },
  {
   "cell_type": "code",
   "execution_count": null,
   "metadata": {
    "tags": []
   },
   "outputs": [],
   "source": [
    "dcTable = deferredChargeCalib.toTable()"
   ]
  },
  {
   "cell_type": "code",
   "execution_count": null,
   "metadata": {},
   "outputs": [],
   "source": [
    "dcTable"
   ]
  },
  {
   "cell_type": "code",
   "execution_count": null,
   "metadata": {},
   "outputs": [],
   "source": [
    "dcTable."
   ]
  },
  {
   "cell_type": "code",
   "execution_count": null,
   "metadata": {},
   "outputs": [],
   "source": []
  }
 ],
 "metadata": {
  "jupytext": {
   "formats": "ipynb,markdown//md"
  },
  "kernelspec": {
   "display_name": "LSST",
   "language": "python",
   "name": "lsst"
  },
  "language_info": {
   "codemirror_mode": {
    "name": "ipython",
    "version": 3
   },
   "file_extension": ".py",
   "mimetype": "text/x-python",
   "name": "python",
   "nbconvert_exporter": "python",
   "pygments_lexer": "ipython3",
   "version": "3.10.5"
  }
 },
 "nbformat": 4,
 "nbformat_minor": 4
}
