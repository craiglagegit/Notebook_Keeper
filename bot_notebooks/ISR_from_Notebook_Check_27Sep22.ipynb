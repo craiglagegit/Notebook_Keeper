{
 "cells": [
  {
   "cell_type": "markdown",
   "metadata": {
    "lines_to_next_cell": 0
   },
   "source": [
    "## Running ISR from a notebook\n",
    "\n",
    "Craig Lage - 16-Jun-22\n",
    "\n",
    "\n",
    "    \n",
    "        Here's an example of running ISR with a pipetask using the yaml file:\n",
    "\n",
    "          isr:\n",
    "            class: lsst.ip.isr.IsrTask\n",
    "            config:\n",
    "              connections.ccdExposure: raw\n",
    "              connections.outputExposure: parameters.exposureName\n",
    "              doWrite: true\n",
    "              doOverscan: true\n",
    "              doAssembleCcd: true\n",
    "              doBias: true\n",
    "              doVariance: true\n",
    "              doLinearize: false\n",
    "              doCrosstalk: false\n",
    "              doBrighterFatter: false\n",
    "              doDark: true\n",
    "              doStrayLight: false\n",
    "              doFlat: false\n",
    "              doFringe: false\n",
    "              doApplyGains: false\n",
    "              doDefect: true\n",
    "              doNanMasking: true\n",
    "              doInterpolate: false\n",
    "              doSaturation: false\n",
    "              doSaturationInterpolation: false\n",
    "              growSaturationFootprintSize: 0\n",
    "     \n"
   ]
  },
  {
   "cell_type": "code",
   "execution_count": null,
   "metadata": {},
   "outputs": [],
   "source": [
    "import numpy as np\n",
    "import matplotlib.pyplot as plt\n",
    "import astropy.io.fits as pf\n",
    "from lsst.ip.isr import IsrTask, IsrTaskConfig\n",
    "from lsst.daf.butler import Butler"
   ]
  },
  {
   "cell_type": "code",
   "execution_count": null,
   "metadata": {},
   "outputs": [],
   "source": [
    "butler = Butler('/repo/main', collections=[\"LSSTCam/raw/all\",\"LSSTCam/calib\"])"
   ]
  },
  {
   "cell_type": "code",
   "execution_count": null,
   "metadata": {},
   "outputs": [],
   "source": [
    "isrConfig = IsrTaskConfig()\n",
    "isrConfig.doLinearize=False\n",
    "isrConfig.doOverscan=False\n",
    "isrConfig.doAssembleCcd=True\n",
    "isrConfig.doBias=False\n",
    "isrConfig.doVariance=True\n",
    "isrConfig.doLinearize=False\n",
    "isrConfig.doCrosstalk=False\n",
    "isrConfig.doBrighterFatter=False\n",
    "isrConfig.doDark=False\n",
    "isrConfig.doStrayLight=False\n",
    "isrConfig.doFlat=False\n",
    "isrConfig.doFringe=False\n",
    "isrConfig.doApplyGains=False\n",
    "isrConfig.doDefect=False\n",
    "isrConfig.doNanMasking=True\n",
    "isrConfig.doInterpolate=False\n",
    "isrConfig.doSaturation=False\n",
    "isrConfig.doSaturationInterpolation=False\n",
    "\n",
    "\n",
    "# Adjust these as needed and add as many more as you want"
   ]
  },
  {
   "cell_type": "code",
   "execution_count": null,
   "metadata": {},
   "outputs": [],
   "source": [
    "isrTask = IsrTask(config=isrConfig)"
   ]
  },
  {
   "cell_type": "code",
   "execution_count": null,
   "metadata": {},
   "outputs": [],
   "source": [
    "expId = 3021120600666\n",
    "exp = butler.get('raw', detector=74, exposure=expId)\n",
    "camera = butler.get('camera', instrument='LSSTCam')"
   ]
  },
  {
   "cell_type": "code",
   "execution_count": null,
   "metadata": {},
   "outputs": [],
   "source": [
    "isrResult = isrTask.run(exp)"
   ]
  },
  {
   "cell_type": "code",
   "execution_count": null,
   "metadata": {},
   "outputs": [],
   "source": [
    "fullArray = exp.image.array\n",
    "print(fullArray.shape)"
   ]
  },
  {
   "cell_type": "code",
   "execution_count": null,
   "metadata": {},
   "outputs": [],
   "source": [
    "assembledArray = isrResult.exposure.image.array\n",
    "print(assembledArray.shape)"
   ]
  },
  {
   "cell_type": "code",
   "execution_count": null,
   "metadata": {},
   "outputs": [],
   "source": [
    "print(4608/8, 4072/8, 4608/8 - 4072/8)\n",
    "# 4 pre-scan pixels, 63 overscan pixels"
   ]
  },
  {
   "cell_type": "code",
   "execution_count": null,
   "metadata": {},
   "outputs": [],
   "source": [
    "yVal = 1000\n",
    "xStart1 = 503\n",
    "xStop1 = 509\n",
    "xStart1 = 509\n",
    "xStop1 = 514\n",
    "prescan = 4\n",
    "overscan = 63\n",
    "print(fullArray[1000, 567:577])\n",
    "print(assembledArray[1000, 503:509])\n",
    "print()\n",
    "print(fullArray[1000, 635:645])\n",
    "print(assembledArray[1000, 509:514])"
   ]
  },
  {
   "cell_type": "code",
   "execution_count": null,
   "metadata": {},
   "outputs": [],
   "source": [
    "plt.figure(figsize=(8,16))\n",
    "plt.suptitle(f\"Assembly Test - Image {expId}\", fontsize = 18)\n",
    "plt.subplot(2,1,1)\n",
    "plt.plot(fullArray[1000, 560:650], marker='o', label=\"Full Array\")\n",
    "plt.scatter(range(0,13), assembledArray[1000, 496:509], marker='x', s=200, color='red', label=\"Assembled Array-C10\")\n",
    "plt.scatter(range(80,90), assembledArray[1000, 509:519], marker='x', s=200, color='red', label=\"Assembled Array-C11\")\n",
    "plt.legend()\n",
    "plt.subplot(2,1,2)\n",
    "plt.plot(fullArray[1000, 560:650], marker='o', label=\"Full Array\")\n",
    "plt.scatter(range(0,13), assembledArray[1000, 496:509], marker='x', s=200, color='red', label=\"Assembled Array-C10\")\n",
    "plt.scatter(range(80,90), assembledArray[1000, 509:519], marker='x', s=200, color='red', label=\"Assembled Array-C11\")\n",
    "plt.ylim(95000, 97000)\n",
    "plt.legend()\n",
    "plt.savefig(f\"/sdf/group/rubin/u/cslage/BOT_LSSTCam/image_assembly/Assembly_Test_{expId}_20Sep22.pdf\")"
   ]
  },
  {
   "cell_type": "code",
   "execution_count": null,
   "metadata": {},
   "outputs": [],
   "source": [
    "plt.plot(fullArray[0:100, 560], marker='x')\n",
    "plt.plot(assembledArray[0:100, 560], marker='o')"
   ]
  },
  {
   "cell_type": "code",
   "execution_count": null,
   "metadata": {},
   "outputs": [],
   "source": [
    "# Now look at the data with matplotlib\n",
    "from matplotlib.colors import LogNorm\n",
    "\n",
    "def colorbar(mappable):\n",
    "    from mpl_toolkits.axes_grid1 import make_axes_locatable\n",
    "    last_axes = plt.gca()\n",
    "    ax = mappable.axes\n",
    "    fig = ax.figure\n",
    "    divider = make_axes_locatable(ax)\n",
    "    cax = divider.append_axes(\"right\", size=\"5%\", pad=0.05)\n",
    "    cbar = fig.colorbar(mappable, cax=cax)\n",
    "    plt.sca(last_axes)\n",
    "    return cbar\n",
    "\n",
    "plt.figure(figsize=(8,8))\n",
    "plt.suptitle(f\"Image\",fontsize=18)\n",
    "arr = isrResult.exposure.image.array\n",
    "img = plt.imshow(arr, norm=LogNorm(vmin=10, vmax=1000), interpolation='Nearest', cmap='gray')\n",
    "colorbar(img)\n",
    "plt.tight_layout(h_pad=1)\n"
   ]
  },
  {
   "cell_type": "code",
   "execution_count": null,
   "metadata": {},
   "outputs": [],
   "source": []
  },
  {
   "cell_type": "code",
   "execution_count": null,
   "metadata": {},
   "outputs": [],
   "source": [
    "amps = camera[54].getAmplifiers()\n",
    "for amp in amps:\n",
    "    print(amp.getName(), amp.getBBox())"
   ]
  },
  {
   "cell_type": "code",
   "execution_count": null,
   "metadata": {},
   "outputs": [],
   "source": []
  },
  {
   "cell_type": "code",
   "execution_count": null,
   "metadata": {},
   "outputs": [],
   "source": [
    "# What about DETSEC? - E2V\n",
    "filename = \"/sdf/group/rubin/lsstdata/offline/instrument/LSSTCam-bot/storage/20211115/MC_C_20211115_000066/MC_C_20211115_000066_R13_S00.fits\"\n",
    "hdulist = pf.open(filename)\n",
    "\n",
    "amps = camera[54].getAmplifiers()\n",
    "print(\"hduNum ampName EXTNAME                 BBox                  DETSEC\")\n",
    "for i, amp in enumerate(amps):\n",
    "    hduNum = i+1\n",
    "    detsec = hdulist[hduNum].header['DETSEC']\n",
    "    name = hdulist[hduNum].header['EXTNAME']\n",
    "    print(hduNum,'     ', amp.getName(), name, amp.getBBox(), detsec)"
   ]
  },
  {
   "cell_type": "code",
   "execution_count": null,
   "metadata": {},
   "outputs": [],
   "source": [
    "# What about DETSEC? - ITL\n",
    "filename = \"/sdf/group/rubin/lsstdata/offline/instrument/LSSTCam-bot/storage/20211115/MC_C_20211115_000066/MC_C_20211115_000066_R20_S02.fits\"\n",
    "hdulist = pf.open(filename)\n",
    "\n",
    "amps = camera[74].getAmplifiers()\n",
    "print(\"hduNum ampName EXTNAME                 BBox                  DETSEC\")\n",
    "for i, amp in enumerate(amps):\n",
    "    hduNum = i+1\n",
    "    detsec = hdulist[hduNum].header['DETSEC']\n",
    "    name = hdulist[hduNum].header['EXTNAME']\n",
    "    print(hduNum,'     ', amp.getName(), name, amp.getBBox(), detsec)"
   ]
  },
  {
   "cell_type": "code",
   "execution_count": null,
   "metadata": {
    "tags": []
   },
   "outputs": [],
   "source": [
    "hdulist[1].header"
   ]
  },
  {
   "cell_type": "code",
   "execution_count": null,
   "metadata": {},
   "outputs": [],
   "source": []
  }
 ],
 "metadata": {
  "jupytext": {
   "formats": "ipynb,markdown//md"
  },
  "kernelspec": {
   "display_name": "LSST",
   "language": "python",
   "name": "lsst"
  },
  "language_info": {
   "codemirror_mode": {
    "name": "ipython",
    "version": 3
   },
   "file_extension": ".py",
   "mimetype": "text/x-python",
   "name": "python",
   "nbconvert_exporter": "python",
   "pygments_lexer": "ipython3",
   "version": "3.10.5"
  }
 },
 "nbformat": 4,
 "nbformat_minor": 4
}
