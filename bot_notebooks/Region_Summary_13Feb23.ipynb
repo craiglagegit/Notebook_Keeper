{
 "cells": [
  {
   "cell_type": "markdown",
   "id": "e8cc3a14-f377-44f4-ab4c-97c9c3047697",
   "metadata": {},
   "source": [
    "# Testing new code to split amps into regions in PTC.\n",
    "\n",
    "Craig Lage 13-Feb-23"
   ]
  },
  {
   "cell_type": "code",
   "execution_count": null,
   "id": "a148b369-8943-4861-a51e-9cbeea70feb3",
   "metadata": {
    "execution": {
     "iopub.execute_input": "2023-02-15T20:10:12.129687Z",
     "iopub.status.busy": "2023-02-15T20:10:12.129465Z",
     "iopub.status.idle": "2023-02-15T20:10:13.854198Z",
     "shell.execute_reply": "2023-02-15T20:10:13.853651Z",
     "shell.execute_reply.started": "2023-02-15T20:10:12.129672Z"
    },
    "tags": []
   },
   "outputs": [],
   "source": [
    "import numpy as np\n",
    "from matplotlib import pyplot as plt\n",
    "from matplotlib.backends.backend_pdf import PdfPages\n",
    "from lsst.daf.butler import Butler\n",
    "from lsst.ip.isr import IsrTask, IsrTaskConfig\n",
    "from mpl_toolkits.axes_grid1 import make_axes_locatable\n",
    "from matplotlib.colors import LogNorm\n",
    "from lsst.cp.pipe.ptc import PlotPhotonTransferCurveTask, PlotPhotonTransferCurveConfig\n",
    "%matplotlib inline\n"
   ]
  },
  {
   "cell_type": "code",
   "execution_count": null,
   "id": "ca416ea9-c64b-449d-8590-5f61f0dce631",
   "metadata": {
    "execution": {
     "iopub.execute_input": "2023-02-15T20:10:13.859699Z",
     "iopub.status.busy": "2023-02-15T20:10:13.859565Z",
     "iopub.status.idle": "2023-02-15T20:10:46.164323Z",
     "shell.execute_reply": "2023-02-15T20:10:46.163808Z",
     "shell.execute_reply.started": "2023-02-15T20:10:13.859687Z"
    },
    "tags": []
   },
   "outputs": [],
   "source": [
    "detector=55\n",
    "expId = 3021120700188\n",
    "fullButler = Butler(\"/repo/main\", collections=[\"u/cslage/bps_13144S\"])\n",
    "fullPtc = fullButler.get('ptc', detector=detector, exposure=expId, instrument=\"LSSTCam\")\n",
    "basePtcButler = Butler(\"/repo/main\", collections=[\"u/cslage/ptc_subregion_baseline_12feb23\"])\n",
    "basePtc = basePtcButler.get('ptc', detector=detector, exposure=expId, instrument=\"LSSTCam\")\n",
    "reg_1_PtcButler = Butler(\"/repo/main\", collections=[\"u/cslage/ptc_subregion_full_1_12feb23\"])\n",
    "reg_1_Ptc = reg_1_PtcButler.get('ptc', detector=detector, exposure=expId, instrument=\"LSSTCam\")\n",
    "reg_2_PtcButler = Butler(\"/repo/main\", collections=[\"u/cslage/ptc_subregion_full_2_12feb23\"])\n",
    "reg_2_Ptc = reg_2_PtcButler.get('ptc', detector=detector, exposure=expId, instrument=\"LSSTCam\")\n",
    "reg_4_PtcButler = Butler(\"/repo/main\", collections=[\"u/cslage/ptc_subregion_full_4_12feb23\"])\n",
    "reg_4_Ptc = reg_4_PtcButler.get('ptc', detector=detector, exposure=expId, instrument=\"LSSTCam\")\n",
    "reg_8_PtcButler = Butler(\"/repo/main\", collections=[\"u/cslage/ptc_subregion_full_8C_12feb23\"])\n",
    "reg_8_Ptc = reg_8_PtcButler.get('ptc', detector=detector, exposure=expId, instrument=\"LSSTCam\")\n",
    "reg_16_PtcButler = Butler(\"/repo/main\", collections=[\"u/cslage/ptc_subregion_full_16_12feb23\"])\n",
    "reg_16_Ptc = reg_16_PtcButler.get('ptc', detector=detector, exposure=expId, instrument=\"LSSTCam\")\n",
    "\n",
    "exp = fullButler.get('raw', detector=detector, exposure=expId, instrument=\"LSSTCam\")\n",
    "#camera = fullButler.get('camera', instrument='LSSTCam')"
   ]
  },
  {
   "cell_type": "code",
   "execution_count": null,
   "id": "68525e87-d031-4ee0-9b76-8ea3ae082ae3",
   "metadata": {
    "execution": {
     "iopub.execute_input": "2023-02-15T20:10:46.170517Z",
     "iopub.status.busy": "2023-02-15T20:10:46.170382Z",
     "iopub.status.idle": "2023-02-15T20:10:46.173891Z",
     "shell.execute_reply": "2023-02-15T20:10:46.173471Z",
     "shell.execute_reply.started": "2023-02-15T20:10:46.170505Z"
    },
    "jupyter": {
     "outputs_hidden": true
    },
    "tags": []
   },
   "outputs": [],
   "source": [
    "for amp in exp.getDetector().getAmplifiers():\n",
    "    print(amp.getName(), basePtc.gain[amp.getName()], reg_1_Ptc.gain[amp.getName()], reg_2_Ptc.gain[amp.getName()],\\\n",
    "         reg_4_Ptc.gain[amp.getName()], reg_8_Ptc.gain[amp.getName()], reg_16_Ptc.gain[amp.getName()])"
   ]
  },
  {
   "cell_type": "code",
   "execution_count": null,
   "id": "9c683ecb-0a6d-47d5-abfa-091818cbb112",
   "metadata": {
    "execution": {
     "iopub.execute_input": "2023-02-15T20:10:46.174583Z",
     "iopub.status.busy": "2023-02-15T20:10:46.174448Z",
     "iopub.status.idle": "2023-02-15T20:10:46.841443Z",
     "shell.execute_reply": "2023-02-15T20:10:46.840928Z",
     "shell.execute_reply.started": "2023-02-15T20:10:46.174572Z"
    },
    "tags": []
   },
   "outputs": [],
   "source": [
    "ampName = 'C00'\n",
    "fig = plt.figure(figsize=(8,8))\n",
    "plt.subplots_adjust(wspace=0.5)\n",
    "plt.suptitle(f\"Impact of PTC Regions \\nRun 13144, Detector:{detector}, amp:{ampName}\")\n",
    "plotCounter = 1\n",
    "names = ['1x1', '1x2', '1x4', '2x4']\n",
    "for i, ptc in enumerate([reg_1_Ptc, reg_2_Ptc, reg_4_Ptc, reg_8_Ptc]):\n",
    "    gain_diff = (ptc.gain[ampName] - basePtc.gain[ampName]) / basePtc.gain[ampName] * 100.0\n",
    "    plt.subplot(2,2,plotCounter)\n",
    "    plt.scatter(ptc.rawMeans[ampName], ptc.rawVars[ampName], label=names[i], marker='o', color='blue')\n",
    "    plt.scatter(basePtc.rawMeans[ampName], basePtc.rawVars[ampName], marker='x', s=200, color='red', label=\"Baseline\")\n",
    "    plt.plot(basePtc.finalMeans[ampName], basePtc.finalModelVars[ampName], color='red', label=\"Baseline\")\n",
    "    plt.text(40100, 23000, f\"Gain diff from base = {gain_diff:.4f}%\")\n",
    "    plt.xlim(40000,45000)\n",
    "    plt.ylim(22000,27000)\n",
    "    plt.xlabel(\"Flux(ADU)\")\n",
    "    plt.ylabel(\"Variance(ADU^2)\")\n",
    "    plt.legend()\n",
    "    plotCounter += 1\n",
    "plt.savefig(\"/home/c/cslage/u/BOT_LSSTCam/isr_challenge/PTC_Regions_C00_13Feb23.png\")\n",
    "\n"
   ]
  },
  {
   "cell_type": "code",
   "execution_count": null,
   "id": "d0c00956-17de-46cb-b3b1-8061089841c9",
   "metadata": {
    "execution": {
     "iopub.execute_input": "2023-02-15T20:17:46.745820Z",
     "iopub.status.busy": "2023-02-15T20:17:46.745562Z",
     "iopub.status.idle": "2023-02-15T20:17:59.457505Z",
     "shell.execute_reply": "2023-02-15T20:17:59.457076Z",
     "shell.execute_reply.started": "2023-02-15T20:17:46.745803Z"
    },
    "jupyter": {
     "outputs_hidden": true
    },
    "tags": []
   },
   "outputs": [],
   "source": [
    "pdf = PdfPages(\"/home/c/cslage/u/BOT_LSSTCam/isr_challenge/PTC_Regions_13Feb23.png\")\n",
    "for amp in exp.getDetector().getAmplifiers():\n",
    "    ampName = amp.getName()\n",
    "    fig = plt.figure(figsize=(8,8))\n",
    "    plt.subplots_adjust(wspace=0.5)\n",
    "    plt.suptitle(f\"Impact of PTC Regions \\nRun 13144, Detector:{detector}, amp:{ampName}\")\n",
    "    plotCounter = 1\n",
    "    names = ['1x1', '1x2', '1x4', '2x4']\n",
    "    for i, ptc in enumerate([reg_1_Ptc, reg_2_Ptc, reg_4_Ptc, reg_8_Ptc]):\n",
    "        gain_diff = (ptc.gain[ampName] - basePtc.gain[ampName]) / basePtc.gain[ampName] * 100.0\n",
    "        plt.subplot(2,2,plotCounter)\n",
    "        plt.scatter(ptc.rawMeans[ampName], ptc.rawVars[ampName], label=names[i], marker='o', color='blue')\n",
    "        plt.scatter(basePtc.rawMeans[ampName], basePtc.rawVars[ampName], marker='x', s=200, color='red', label=\"Baseline\")\n",
    "        plt.plot(basePtc.finalMeans[ampName], basePtc.finalModelVars[ampName], color='red', label=\"Baseline\")\n",
    "        plt.text(40100, 23000, f\"Gain diff from base = {gain_diff:.4f}%\")\n",
    "        plt.xlim(40000,45000)\n",
    "        plt.ylim(22000,27000)\n",
    "        plt.xlabel(\"Flux(ADU)\")\n",
    "        plt.ylabel(\"Variance(ADU^2)\")\n",
    "        plt.legend()\n",
    "        plotCounter += 1\n",
    "        pdf.savefig(fig)  # saves the current figure into a pdf page\n",
    "        #plt.close()\n",
    "pdf.close()\n"
   ]
  },
  {
   "cell_type": "code",
   "execution_count": null,
   "id": "117195b2-581b-40c7-8548-af0d667ae742",
   "metadata": {
    "execution": {
     "iopub.execute_input": "2023-02-15T20:19:43.081705Z",
     "iopub.status.busy": "2023-02-15T20:19:43.081194Z",
     "iopub.status.idle": "2023-02-15T20:19:43.810451Z",
     "shell.execute_reply": "2023-02-15T20:19:43.810004Z",
     "shell.execute_reply.started": "2023-02-15T20:19:43.081689Z"
    },
    "tags": []
   },
   "outputs": [],
   "source": [
    "names = ['1x1', '1x2', '1x4', '2x4', '2x8']\n",
    "for detector in [55]:\n",
    "    fig = plt.figure(figsize=(8,8))\n",
    "    plt.subplots_adjust(hspace=0.2, wspace=0.1)\n",
    "    plt.suptitle(f\"Gain difference regions {detector}\", fontsize=24)\n",
    "    plotCounter = 1\n",
    "    for amp in exp.getDetector().getAmplifiers():\n",
    "        ampName = amp.getName()\n",
    "        diffs = []\n",
    "        xaxis = [1,2,3,4,5]\n",
    "        for i, ptc in enumerate([reg_1_Ptc, reg_2_Ptc, reg_4_Ptc, reg_8_Ptc, reg_16_Ptc]):\n",
    "            gain_diff = (ptc.gain[ampName] - basePtc.gain[ampName]) / basePtc.gain[ampName] * 100.0\n",
    "            diffs.append(gain_diff)\n",
    "        plt.subplot(4,4,plotCounter)\n",
    "        plt.title(ampName)\n",
    "        plt.scatter(xaxis, diffs)\n",
    "        plt.plot([1,5], [0.01,0.01], ls='--', color='red')\n",
    "        plt.plot([1,5], [-0.01,-0.01], ls='--', color='red')\n",
    "        plt.ylim(-0.05, 0.05)\n",
    "        plotCounter += 1\n",
    "        if plotCounter%4 == 2:\n",
    "            plt.yticks([-0.05, 0.0,0.05])\n",
    "            plt.ylabel(\"Correction(%)\")\n",
    "        else:\n",
    "            plt.yticks([])\n",
    "        if plotCounter > 13:\n",
    "            plt.xticks([1,2,3,4,5],names)\n",
    "            plt.xlabel(\"Flux\")\n",
    "        else:\n",
    "            plt.xticks([])\n",
    "    plt.savefig(f\"/home/c/cslage/u/BOT_LSSTCam/isr_challenge/Gains_Regions_{detector}_25Jan23.png\")\n"
   ]
  },
  {
   "cell_type": "code",
   "execution_count": null,
   "id": "7382ab6e-aa24-442f-af68-e0880df98ad5",
   "metadata": {},
   "outputs": [],
   "source": []
  }
 ],
 "metadata": {
  "kernelspec": {
   "display_name": "LSST",
   "language": "python",
   "name": "lsst"
  },
  "language_info": {
   "codemirror_mode": {
    "name": "ipython",
    "version": 3
   },
   "file_extension": ".py",
   "mimetype": "text/x-python",
   "name": "python",
   "nbconvert_exporter": "python",
   "pygments_lexer": "ipython3",
   "version": "3.10.9"
  },
  "toc-autonumbering": false,
  "toc-showcode": false,
  "toc-showmarkdowntxt": true
 },
 "nbformat": 4,
 "nbformat_minor": 5
}
