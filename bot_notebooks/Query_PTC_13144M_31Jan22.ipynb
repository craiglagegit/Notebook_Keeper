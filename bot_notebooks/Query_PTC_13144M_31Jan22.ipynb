{
 "cells": [
  {
   "cell_type": "markdown",
   "metadata": {},
   "source": [
    "# Notebook for investigating linearity corrections\n",
    "\n",
    "Initially written 27 Jan 2022 by Craig Lage"
   ]
  },
  {
   "cell_type": "code",
   "execution_count": null,
   "metadata": {
    "execution": {
     "iopub.execute_input": "2023-01-09T13:25:26.838057Z",
     "iopub.status.busy": "2023-01-09T13:25:26.837913Z",
     "iopub.status.idle": "2023-01-09T13:25:27.920964Z",
     "shell.execute_reply": "2023-01-09T13:25:27.920306Z",
     "shell.execute_reply.started": "2023-01-09T13:25:26.838042Z"
    },
    "tags": []
   },
   "outputs": [],
   "source": [
    "import sys, os, glob, time\n",
    "import pickle as pkl\n",
    "import numpy as np\n",
    "import matplotlib.pyplot as plt\n",
    "from matplotlib.backends.backend_pdf import PdfPages\n",
    "import astropy.io.fits as pf\n",
    "from lsst.daf.butler import Butler\n",
    "import lsst.afw.math as afwMath\n"
   ]
  },
  {
   "cell_type": "code",
   "execution_count": null,
   "metadata": {},
   "outputs": [],
   "source": [
    "!eups list -s | grep ip_isr\n",
    "!eups list -s | grep cp_pipe"
   ]
  },
  {
   "cell_type": "code",
   "execution_count": null,
   "metadata": {},
   "outputs": [],
   "source": [
    "butler = Butler(\"/repo/main\", collections=[\"LSSTCam/raw/all\",\"LSSTCam/calib\"])\n",
    "camera = butler.get('camera', instrument='LSSTCam')"
   ]
  },
  {
   "cell_type": "code",
   "execution_count": null,
   "metadata": {
    "execution": {
     "iopub.execute_input": "2023-01-09T13:25:28.031215Z",
     "iopub.status.busy": "2023-01-09T13:25:28.031028Z",
     "iopub.status.idle": "2023-01-09T13:25:31.179306Z",
     "shell.execute_reply": "2023-01-09T13:25:31.178755Z",
     "shell.execute_reply.started": "2023-01-09T13:25:28.031198Z"
    }
   },
   "outputs": [],
   "source": [
    "ptcButler = Butler(\"/repo/main\", collections=[\"u/cslage/bps_13144S\"])\n",
    "exposure=3021120600576"
   ]
  },
  {
   "cell_type": "code",
   "execution_count": null,
   "metadata": {
    "execution": {
     "iopub.execute_input": "2023-01-09T13:25:39.312150Z",
     "iopub.status.busy": "2023-01-09T13:25:39.311861Z",
     "iopub.status.idle": "2023-01-09T13:25:40.379350Z",
     "shell.execute_reply": "2023-01-09T13:25:40.378779Z",
     "shell.execute_reply.started": "2023-01-09T13:25:39.312132Z"
    }
   },
   "outputs": [],
   "source": [
    "ptc = ptcButler.get('ptc', exposure=exposure, detector=55, instrument='LSSTCam')"
   ]
  },
  {
   "cell_type": "code",
   "execution_count": null,
   "metadata": {
    "execution": {
     "iopub.execute_input": "2023-01-09T13:27:29.041777Z",
     "iopub.status.busy": "2023-01-09T13:27:29.041425Z",
     "iopub.status.idle": "2023-01-09T13:27:29.047734Z",
     "shell.execute_reply": "2023-01-09T13:27:29.047244Z",
     "shell.execute_reply.started": "2023-01-09T13:27:29.041759Z"
    },
    "tags": []
   },
   "outputs": [],
   "source": [
    "for i in range(len(ptc.inputExpIdPairs['C00'])):\n",
    "    print(ptc.inputExpIdPairs['C00'][i][0], ptc.rawMeans['C00'][i])"
   ]
  },
  {
   "cell_type": "code",
   "execution_count": null,
   "metadata": {},
   "outputs": [],
   "source": [
    "# Get the eotest results\n",
    "filename = \"/project/cslage/BOT_LSSTCam/eotest/eotest_gain_13144_15dec21.pkl\"\n",
    "file = open(filename, 'rb')\n",
    "#fe55_results = pkl.load(file)\n",
    "ptc_results = pkl.load(file)\n",
    "file.close()\n",
    "\n",
    "rafts = [       'R01', 'R02', 'R03', \\\n",
    "         'R10', 'R11', 'R12', 'R13', 'R14', \\\n",
    "         'R20', 'R21', 'R22', 'R23', 'R24', \\\n",
    "         'R30', 'R31', 'R32', 'R33', 'R34', \\\n",
    "                'R41', 'R42', 'R43']\n",
    "sensors = ['S00', 'S01', 'S02', 'S10', 'S11', 'S12', 'S20', 'S21', 'S22']\n"
   ]
  },
  {
   "cell_type": "code",
   "execution_count": null,
   "metadata": {},
   "outputs": [],
   "source": [
    "def getDetector(raft, sensor):\n",
    "    # Subroutine to find vendor and detector number given raft and sensor                                                                                                                                                           \n",
    "    startingCol = [1,0,0,0,1] # First raft column in each row                                                                                                                                                                       \n",
    "    rows = [0,3,8,13,18] # Starting raft sequence number of each row                                                                                                                                                                \n",
    "    if raft in ['R11','R12','R13','R14','R21','R22','R23','R24','R30',\\\n",
    "                'R31','R32','R33','R34']:\n",
    "        vendor = 'E2V'\n",
    "    else:\n",
    "        vendor = 'ITL'\n",
    "    raftRow = int(list(raft)[1])\n",
    "    raftCol = int(list(raft)[2])\n",
    "    sensorRow = int(list(sensor)[1])\n",
    "    sensorCol = int(list(sensor)[2])\n",
    "    detectorNum = (rows[raftRow] + (raftCol - startingCol[raftRow])) * 9\n",
    "    detectorNum += 3 * sensorRow + sensorCol\n",
    "    return vendor, detectorNum\n",
    "\n",
    "# This dictionary captures the amp naming correspondence\n",
    "slacAmps = {'C10':'AMP01','C11':'AMP02','C12':'AMP03','C13':'AMP04',\\\n",
    "           'C14':'AMP05','C15':'AMP06','C16':'AMP07','C17':'AMP08',\\\n",
    "           'C07':'AMP09','C06':'AMP10','C05':'AMP11','C04':'AMP12',\\\n",
    "           'C03':'AMP13','C02':'AMP14','C01':'AMP15','C00':'AMP16'}"
   ]
  },
  {
   "cell_type": "code",
   "execution_count": null,
   "metadata": {
    "tags": []
   },
   "outputs": [],
   "source": [
    "\n",
    "for ii, [RAFT,SENSOR,amp] in enumerate([['R02', 'S00', 'C10']]):\n",
    "    slacAmp = slacAmps[amp]\n",
    "    slacNum = int(slacAmp.strip('AMP')) - 1\n",
    "    VENDOR, DETECTOR  = getDetector(RAFT, SENSOR)\n",
    "    ptcDataset = ptcButler.get('ptc', detector=DETECTOR, exposure=exposure, instrument='LSSTCam')\n",
    "    rawMeans = ptcDataset.rawMeans[amp]\n",
    "    rawVars = ptcDataset.rawVars[amp]\n",
    "    filename = \"/project/cslage/BOT_LSSTCam/eotest/%s_%s_13144_ptc.fits\"%(RAFT,SENSOR)\n",
    "    hdu = pf.open(filename)\n",
    "    slacData = hdu[1].data\n",
    "    slacMeans = slacData['%s_MEAN'%slacAmp]\n",
    "    slacVars = slacData['%s_VAR'%slacAmp]\n",
    "    sortedList = sorted(zip(slacVars, slacMeans))\n",
    "    slacMeans = [x[1] for x in sortedList]\n",
    "    slacVars = [x[0] for x in sortedList]\n",
    "    print(f\"Detector: {DETECTOR}, amp: {amp}\")\n",
    "    for i in range(len(slacMeans)):\n",
    "        print(f\"Index={i}, SLAC mean = {slacMeans[i]:.2f}, SLAC Var = {slacVars[i]:.2f}\")\n"
   ]
  },
  {
   "cell_type": "code",
   "execution_count": null,
   "metadata": {
    "tags": []
   },
   "outputs": [],
   "source": [
    "slacMeans"
   ]
  },
  {
   "cell_type": "code",
   "execution_count": null,
   "metadata": {},
   "outputs": [],
   "source": [
    "test = [x[0] for x in sorted(zip(slacVars, slacMeans))]"
   ]
  },
  {
   "cell_type": "code",
   "execution_count": null,
   "metadata": {},
   "outputs": [],
   "source": [
    "sortedList = sorted(zip(slacVars, slacMeans))\n",
    "slacMeans = [x[1] for x in sortedList]\n",
    "slacVars = [x[0] for x in sortedList]"
   ]
  },
  {
   "cell_type": "code",
   "execution_count": null,
   "metadata": {},
   "outputs": [],
   "source": [
    "type(test[7])"
   ]
  },
  {
   "cell_type": "code",
   "execution_count": null,
   "metadata": {},
   "outputs": [],
   "source": [
    "exposure=3021120600576\n",
    "linButler = Butler(\"/repo/main\", collections=[\"u/cslage/linearizer_28jan22\"])\n",
    "corr = linButler.get('pdCorrection', exposure=exposure, instrument='LSSTCam')"
   ]
  },
  {
   "cell_type": "code",
   "execution_count": null,
   "metadata": {},
   "outputs": [],
   "source": [
    "keyList = []\n",
    "corrList = []\n",
    "for i, key in enumerate(corr.abscissaCorrections.keys()):\n",
    "    keyList.append(key)\n",
    "    corrList.append(corr.abscissaCorrections[key])\n",
    "    if i > 4:\n",
    "        break"
   ]
  },
  {
   "cell_type": "code",
   "execution_count": null,
   "metadata": {},
   "outputs": [],
   "source": [
    "keyList"
   ]
  },
  {
   "cell_type": "code",
   "execution_count": null,
   "metadata": {},
   "outputs": [],
   "source": [
    "corrList"
   ]
  },
  {
   "cell_type": "code",
   "execution_count": null,
   "metadata": {},
   "outputs": [],
   "source": []
  },
  {
   "cell_type": "code",
   "execution_count": null,
   "metadata": {
    "tags": []
   },
   "outputs": [],
   "source": [
    "dir(butler)"
   ]
  },
  {
   "cell_type": "code",
   "execution_count": null,
   "metadata": {
    "tags": []
   },
   "outputs": [],
   "source": [
    "dir(butler.registry)"
   ]
  },
  {
   "cell_type": "code",
   "execution_count": null,
   "metadata": {},
   "outputs": [],
   "source": [
    "types = butler.registry.queryDatasetTypes()"
   ]
  },
  {
   "cell_type": "code",
   "execution_count": null,
   "metadata": {
    "tags": []
   },
   "outputs": [],
   "source": [
    "for type in types:\n",
    "    print(type)"
   ]
  },
  {
   "cell_type": "code",
   "execution_count": null,
   "metadata": {},
   "outputs": [],
   "source": [
    "butler = Butler(\"/repo/main\", collections=[\"LSSTComCam/raw/all\",\"LSSTComCam/calib\"])\n",
    "types = butler.registry.queryDatasetTypes()\n",
    "for type in types:\n",
    "    print(type)"
   ]
  },
  {
   "cell_type": "code",
   "execution_count": null,
   "metadata": {},
   "outputs": [],
   "source": []
  }
 ],
 "metadata": {
  "kernelspec": {
   "display_name": "LSST",
   "language": "python",
   "name": "lsst"
  },
  "language_info": {
   "codemirror_mode": {
    "name": "ipython",
    "version": 3
   },
   "file_extension": ".py",
   "mimetype": "text/x-python",
   "name": "python",
   "nbconvert_exporter": "python",
   "pygments_lexer": "ipython3",
   "version": "3.10.8"
  }
 },
 "nbformat": 4,
 "nbformat_minor": 4
}
