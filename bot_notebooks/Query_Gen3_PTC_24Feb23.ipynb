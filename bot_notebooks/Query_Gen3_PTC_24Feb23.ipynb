{
 "cells": [
  {
   "cell_type": "markdown",
   "metadata": {},
   "source": [
    "## Plot PTC postISR image\n",
    "\n",
    "How to query and plot the postISRCCD images\\\n",
    "Craig Lage - 24Feb23"
   ]
  },
  {
   "cell_type": "code",
   "execution_count": null,
   "metadata": {
    "execution": {
     "iopub.execute_input": "2023-02-24T12:31:49.181077Z",
     "iopub.status.busy": "2023-02-24T12:31:49.180938Z",
     "iopub.status.idle": "2023-02-24T12:31:51.550458Z",
     "shell.execute_reply": "2023-02-24T12:31:51.549901Z",
     "shell.execute_reply.started": "2023-02-24T12:31:49.181064Z"
    },
    "tags": []
   },
   "outputs": [],
   "source": [
    "import numpy as np\n",
    "import matplotlib.pyplot as plt\n",
    "import astropy.io.fits as pf\n",
    "from lsst.daf.butler import Butler\n",
    "from mpl_toolkits.axes_grid1 import make_axes_locatable\n",
    "from matplotlib.colors import LogNorm\n",
    "\n",
    "from lsst.summit.utils import quickSmooth\n",
    "from lsst.meas.algorithms.installGaussianPsf import InstallGaussianPsfTask\n",
    "%matplotlib inline"
   ]
  },
  {
   "cell_type": "code",
   "execution_count": null,
   "metadata": {
    "execution": {
     "iopub.execute_input": "2023-02-24T12:31:51.551341Z",
     "iopub.status.busy": "2023-02-24T12:31:51.551185Z",
     "iopub.status.idle": "2023-02-24T12:31:51.555292Z",
     "shell.execute_reply": "2023-02-24T12:31:51.554832Z",
     "shell.execute_reply.started": "2023-02-24T12:31:51.551327Z"
    }
   },
   "outputs": [],
   "source": [
    "# The routine below was borrowed from summit_utils, and makes compact plots of an exposure\n",
    "def plotExp(exp):\n",
    "    data = quickSmooth(exp.image.array, 1)\n",
    "    vmin = np.nanpercentile(data, 1)\n",
    "    vmax = np.nanpercentile(data, 99)\n",
    "    print(vmin, vmax)\n",
    "    figure = plt.figure(figsize=(12,12))\n",
    "    figure.clear()\n",
    "    ax1 = figure.add_subplot(111)\n",
    "    im1 = ax1.imshow(data, cmap='gray', origin='lower', vmin=vmin, vmax=vmax)\n",
    "    ax1.tick_params(which=\"major\", direction=\"in\", top=True, right=True, labelsize=8)\n",
    "    divider = make_axes_locatable(ax1)\n",
    "    cax = divider.append_axes(\"right\", size=\"5%\", pad=0.05)\n",
    "    plt.colorbar(im1, cax=cax)\n",
    "    plt.tight_layout()\n",
    "    return figure"
   ]
  },
  {
   "cell_type": "code",
   "execution_count": null,
   "metadata": {
    "execution": {
     "iopub.execute_input": "2023-02-24T12:31:51.556610Z",
     "iopub.status.busy": "2023-02-24T12:31:51.556468Z",
     "iopub.status.idle": "2023-02-24T12:31:54.963369Z",
     "shell.execute_reply": "2023-02-24T12:31:54.962818Z",
     "shell.execute_reply.started": "2023-02-24T12:31:51.556598Z"
    },
    "tags": []
   },
   "outputs": [],
   "source": [
    "butler = Butler('/repo/main', collections=[\"LSSTCam/raw/all\",\"LSSTCam/calib\",\"u/cslage/bps_13144S\"])\n",
    "exposure = 3021120300194 # You need some exposure within the PTC run to point the butler at the right run\n",
    "detector = 55\n",
    "ptc = butler.get('ptc', detector=detector, exposure=exposure, instrument='LSSTCam')"
   ]
  },
  {
   "cell_type": "code",
   "execution_count": null,
   "metadata": {
    "execution": {
     "iopub.execute_input": "2023-02-24T12:31:54.976668Z",
     "iopub.status.busy": "2023-02-24T12:31:54.976536Z",
     "iopub.status.idle": "2023-02-24T12:31:54.979611Z",
     "shell.execute_reply": "2023-02-24T12:31:54.979201Z",
     "shell.execute_reply.started": "2023-02-24T12:31:54.976657Z"
    },
    "tags": []
   },
   "outputs": [],
   "source": [
    "# Search for fluxes between 10,000 and 11,000\n",
    "ampName = 'C00'\n",
    "fluxMin = 10000.0\n",
    "fluxMax = 11000.0\n",
    "for i, flux in enumerate(ptc.rawMeans[ampName]):\n",
    "    if flux > fluxMin and flux < fluxMax:\n",
    "        print(flux, ptc.inputExpIdPairs[ampName][i])\n"
   ]
  },
  {
   "cell_type": "code",
   "execution_count": null,
   "metadata": {
    "execution": {
     "iopub.execute_input": "2023-02-24T12:31:54.981001Z",
     "iopub.status.busy": "2023-02-24T12:31:54.980780Z",
     "iopub.status.idle": "2023-02-24T12:31:55.576362Z",
     "shell.execute_reply": "2023-02-24T12:31:55.575562Z",
     "shell.execute_reply.started": "2023-02-24T12:31:54.980988Z"
    },
    "tags": []
   },
   "outputs": [],
   "source": [
    "# Now pick one and get the postISRCCD\n",
    "exposure = 3021120700188\n",
    "postISRCCD = butler.get('cpPtcProc',  detector=detector, exposure=exposure, instrument='LSSTCam')"
   ]
  },
  {
   "cell_type": "code",
   "execution_count": null,
   "metadata": {
    "execution": {
     "iopub.execute_input": "2023-02-24T12:31:55.577535Z",
     "iopub.status.busy": "2023-02-24T12:31:55.577291Z",
     "iopub.status.idle": "2023-02-24T12:31:57.604575Z",
     "shell.execute_reply": "2023-02-24T12:31:57.604063Z",
     "shell.execute_reply.started": "2023-02-24T12:31:55.577517Z"
    },
    "tags": []
   },
   "outputs": [],
   "source": [
    "# Now plot it\n",
    "fig = plotExp(postISRCCD)"
   ]
  },
  {
   "cell_type": "code",
   "execution_count": null,
   "metadata": {},
   "outputs": [],
   "source": []
  }
 ],
 "metadata": {
  "kernelspec": {
   "display_name": "LSST",
   "language": "python",
   "name": "lsst"
  },
  "language_info": {
   "codemirror_mode": {
    "name": "ipython",
    "version": 3
   },
   "file_extension": ".py",
   "mimetype": "text/x-python",
   "name": "python",
   "nbconvert_exporter": "python",
   "pygments_lexer": "ipython3",
   "version": "3.10.9"
  }
 },
 "nbformat": 4,
 "nbformat_minor": 4
}
