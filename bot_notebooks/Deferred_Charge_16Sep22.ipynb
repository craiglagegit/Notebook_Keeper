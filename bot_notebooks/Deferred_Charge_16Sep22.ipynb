{
 "cells": [
  {
   "cell_type": "markdown",
   "metadata": {},
   "source": [
    "## View CTI results\n",
    "\n",
    "In this notebook, we query the CTI results and plot them\\\n",
    "Craig Lage - 16-Sep-22"
   ]
  },
  {
   "cell_type": "code",
   "execution_count": null,
   "metadata": {},
   "outputs": [],
   "source": [
    "import numpy as np\n",
    "import matplotlib.pyplot as plt\n",
    "import astropy.io.fits as pf\n",
    "from lsst.daf.butler import Butler"
   ]
  },
  {
   "cell_type": "code",
   "execution_count": null,
   "metadata": {
    "tags": []
   },
   "outputs": [],
   "source": [
    "def detector(raft, sensor):\n",
    "    # Subroutine to find vendor and detector number given raft and sensor                                                                                                                                                           \n",
    "    startingCol = [1,0,0,0,1] # First raft column in each row                                                                                                                                                                       \n",
    "    rows = [0,3,8,13,18] # Starting raft sequence number of each row                                                                                                                                                                \n",
    "    if raft in ['R11','R12','R13','R14','R21','R22','R23','R24','R30',\\\n",
    "                'R31','R32','R33','R34']:\n",
    "        vendor = 'E2V'\n",
    "    else:\n",
    "        vendor = 'ITL'\n",
    "    raftRow = int(list(raft)[1])\n",
    "    raftCol = int(list(raft)[2])\n",
    "    sensorRow = int(list(sensor)[1])\n",
    "    sensorCol = int(list(sensor)[2])\n",
    "    detectorNum = (rows[raftRow] + (raftCol - startingCol[raftRow])) * 9\n",
    "    detectorNum += 3 * sensorRow + sensorCol\n",
    "    return vendor, detectorNum\n",
    "\n",
    "rafts = [       'R01', 'R02', 'R03', \\\n",
    "         'R10', 'R11', 'R12', 'R13', 'R14', \\\n",
    "         'R20', 'R21', 'R22', 'R23', 'R24', \\\n",
    "         'R30', 'R31', 'R32', 'R33', 'R34', \\\n",
    "                'R41', 'R42', 'R43']\n",
    "sensors = ['S00', 'S01', 'S02', 'S10', 'S11', 'S12', 'S20', 'S21', 'S22']\n",
    "\n"
   ]
  },
  {
   "cell_type": "code",
   "execution_count": null,
   "metadata": {
    "tags": []
   },
   "outputs": [],
   "source": [
    "# Gen3 butler\n",
    "REPO_DIR = '/repo/main'\n",
    "butler = Butler(REPO_DIR, collections=[\"LSSTCam/raw/all\",\"LSSTCam/calib\", \"u/cslage/sdf/BOT/cti_20220916\"])\n",
    "camera = butler.get('camera', instrument='LSSTCam')\n",
    "exposure = 3021120600575"
   ]
  },
  {
   "cell_type": "code",
   "execution_count": null,
   "metadata": {},
   "outputs": [],
   "source": [
    "ctiCalib = butler.get('cpCtiCalib', detector=55, exposure=exposure, instrument='LSSTCam')"
   ]
  },
  {
   "cell_type": "code",
   "execution_count": null,
   "metadata": {},
   "outputs": [],
   "source": [
    "plt.figure(figsize = (16,16))\n",
    "plotCounter = 1\n",
    "for RAFT in rafts:\n",
    "    for SENSOR in sensors:\n",
    "        VENDOR, DETECTOR= detector(RAFT, SENSOR)\n",
    "        if DETECTOR not in [55, 74]:\n",
    "            continue\n",
    "        ctiCalib = butler.get('cpCtiCalib', detector=DETECTOR, exposure=exposure, instrument='LSSTCam')\n",
    "        plt.subplot(2,2,plotCounter)\n",
    "        plt.title(f\"CTI results, Detector {DETECTOR}, {RAFT}_{SENSOR}, {VENDOR}\", fontsize = 18)\n",
    "        for amp in camera[0].getAmplifiers():\n",
    "            ampName = amp.getName()\n",
    "            driftScale = ctiCalib.driftScale[ampName]\n",
    "            decayTime = ctiCalib.decayTime[ampName]\n",
    "            globalCti = ctiCalib.globalCti[ampName]\n",
    "            trap = ctiCalib.serialTraps[ampName].coeffs\n",
    "            trapLength = int(len(trap)/2)\n",
    "            centers = trap[0:trapLength]\n",
    "            values = trap[trapLength:2*trapLength]\n",
    "            label = f\"{ampName}, DriftScale={driftScale:.3e}, DecayTime={decayTime:.2f}, GlobalCTI={globalCti:.3e}\"\n",
    "            plt.scatter(centers, values, label=label)\n",
    "            plt.xlabel(\"Flux(ADU?)\")\n",
    "            plt.ylabel(\"ADU??\")\n",
    "        plt.legend(bbox_to_anchor=(1.05, 0.8))\n",
    "        plotCounter += 2\n",
    "plt.savefig(\"/sdf/group/rubin/repo/main/u/cslage/sdf/BOT/cti_20220919/plots/CTI_19Sep22.pdf\")\n"
   ]
  },
  {
   "cell_type": "code",
   "execution_count": null,
   "metadata": {
    "tags": []
   },
   "outputs": [],
   "source": [
    "# Gen3 butler\n",
    "REPO_DIR = '/repo/main'\n",
    "butler = Butler(REPO_DIR, collections=[\"LSSTCam/raw/all\",\"LSSTCam/calib\", \"u/cslage/sdf/BOT/cti_test_11_20220919\"])\n",
    "camera = butler.get('camera', instrument='LSSTCam')\n",
    "exposure = 3021120600575"
   ]
  },
  {
   "cell_type": "code",
   "execution_count": null,
   "metadata": {},
   "outputs": [],
   "source": [
    "plt.figure(figsize = (16,8))\n",
    "plotCounter = 1\n",
    "for RAFT in rafts:\n",
    "    for SENSOR in sensors:\n",
    "        VENDOR, DETECTOR= detector(RAFT, SENSOR)\n",
    "        if DETECTOR not in [11]:\n",
    "            continue\n",
    "        ctiCalib = butler.get('cpCtiCalib', detector=DETECTOR, exposure=exposure, instrument='LSSTCam')\n",
    "        plt.subplot(1,2,plotCounter)\n",
    "        plt.title(f\"CTI results, Detector {DETECTOR}, {RAFT}_{SENSOR}, {VENDOR}\", fontsize = 18)\n",
    "        for amp in camera[0].getAmplifiers():\n",
    "            ampName = amp.getName()\n",
    "            driftScale = ctiCalib.driftScale[ampName]\n",
    "            decayTime = ctiCalib.decayTime[ampName]\n",
    "            globalCti = ctiCalib.globalCti[ampName]\n",
    "            trap = ctiCalib.serialTraps[ampName].coeffs\n",
    "            trapLength = int(len(trap)/2)\n",
    "            centers = trap[0:trapLength]\n",
    "            values = trap[trapLength:2*trapLength]\n",
    "            label = f\"{ampName}, DriftScale={driftScale:.3e}, DecayTime={decayTime:.2f}, GlobalCTI={globalCti:.3e}\"\n",
    "            plt.scatter(centers, values, label=label)\n",
    "            plt.xlabel(\"Flux(ADU?)\")\n",
    "            plt.ylabel(\"ADU??\")\n",
    "        plt.legend(bbox_to_anchor=(1.05, 0.8))\n",
    "        plotCounter += 2\n",
    "plt.savefig(\"/sdf/group/rubin/repo/main/u/cslage/sdf/BOT/cti_20220919/plots/CTI_R02S02_19Sep22.pdf\")\n"
   ]
  },
  {
   "cell_type": "code",
   "execution_count": null,
   "metadata": {},
   "outputs": [],
   "source": [
    "amps=['C00','C01','C02','C03','C04','C05','C06','C07', \\\n",
    "      'C10','C11','C12','C13','C14','C15','C16','C17']\n",
    "plt.figure(figsize = (16,16))\n",
    "plt.subplots_adjust(hspace=0.3, wspace=0.3)\n",
    "plotCounter = 1\n",
    "for RAFT in rafts:\n",
    "    for SENSOR in sensors:\n",
    "        VENDOR, DETECTOR= detector(RAFT, SENSOR)\n",
    "        if DETECTOR not in [11]:\n",
    "            continue\n",
    "        ctiCalib = butler.get('cpCtiCalib', detector=DETECTOR, exposure=exposure, instrument='LSSTCam')\n",
    "        plt.subplot(4,4,plotCounter)\n",
    "        #plt.title(f\"CTI results, Detector {DETECTOR}, {RAFT}_{SENSOR}, {VENDOR}\", fontsize = 18)\n",
    "        for ampName in amps:\n",
    "            plt.subplot(4,4,plotCounter)\n",
    "            plt.title(f\"{RAFT}_{SENSOR}_{ampName}\")\n",
    "            trap = ctiCalib.serialTraps[ampName].coeffs\n",
    "            trapLength = int(len(trap)/2)\n",
    "            centers = trap[0:trapLength]\n",
    "            values = trap[trapLength:2*trapLength]\n",
    "            plt.scatter(centers, values)\n",
    "            plt.xlabel(\"Flux(ADU?)\")\n",
    "            plt.ylabel(\"Captured Charge(ADU?)\")\n",
    "            plt.xlim(0,150000)\n",
    "            plt.xticks([0,50000,100000,150000])\n",
    "            plt.ylim(0,1500)\n",
    "            plotCounter += 1\n",
    "plt.savefig(\"/sdf/group/rubin/repo/main/u/cslage/sdf/BOT/cti_20220919/plots/CTI_R02S02_ByAmp_19Sep22.png\")\n"
   ]
  },
  {
   "cell_type": "code",
   "execution_count": null,
   "metadata": {},
   "outputs": [],
   "source": [
    "amps=['C00','C01','C02','C03','C04','C05','C06','C07', \\\n",
    "      'C10','C11','C12','C13','C14','C15','C16','C17']\n",
    "plt.figure(figsize = (16,16))\n",
    "plt.subplots_adjust(hspace=0.3, wspace=0.3)\n",
    "for RAFT in rafts:\n",
    "    for SENSOR in sensors:\n",
    "        VENDOR, DETECTOR= detector(RAFT, SENSOR)\n",
    "        if DETECTOR not in [11]:\n",
    "            continue\n",
    "        ctiCalib = butler.get('cpCtiCalib', detector=DETECTOR, exposure=exposure, instrument='LSSTCam')\n",
    "        Als = []\n",
    "        Taus = []\n",
    "        CTIs = []\n",
    "        for ampName in amps:\n",
    "            driftScale = ctiCalib.driftScale[ampName]\n",
    "            decayTime = ctiCalib.decayTime[ampName]\n",
    "            globalCti = ctiCalib.globalCti[ampName]\n",
    "            Als.append(driftScale * 1.0E4)\n",
    "            Taus.append(decayTime)\n",
    "            CTIs.append(np.log10(globalCti))\n",
    "            \n",
    "        \n",
    "        plt.subplot(1,3,1)\n",
    "        plt.hist(Als)\n",
    "        plt.xlim(0,10.0)\n",
    "        plt.xlabel(\"Al*1E4\")\n",
    "        plt.subplot(1,3,2)\n",
    "        plt.hist(Taus)\n",
    "        plt.xlim(0,8.0)\n",
    "        plt.xlabel(\"Tau(usec)\")\n",
    "        plt.subplot(1,3,3)\n",
    "        plt.hist(CTIs)\n",
    "        plt.xlim(-7.0,-4.0)\n",
    "        plt.xticks([-7.0,-6.0,-5.0,-4.0])\n",
    "        plt.xlabel(\"Log10 CTI\")\n",
    "\n",
    "plt.savefig(\"/sdf/group/rubin/repo/main/u/cslage/sdf/BOT/cti_20220919/plots/CTI_R02S02_Hist_19Sep22.png\")\n"
   ]
  },
  {
   "cell_type": "code",
   "execution_count": null,
   "metadata": {
    "tags": []
   },
   "outputs": [],
   "source": [
    "# Find the CTI names:\n",
    "names = []\n",
    "for type in list(butler.registry.queryDatasetTypes()):\n",
    "    names.append(type.name)\n",
    "names.sort()\n",
    "for name in names:\n",
    "    print(name)\n",
    "    \n",
    "#cpCtiCalib\n",
    "#cpCtiProc\n",
    "#cpCtiStats"
   ]
  },
  {
   "cell_type": "code",
   "execution_count": null,
   "metadata": {},
   "outputs": [],
   "source": []
  },
  {
   "cell_type": "code",
   "execution_count": null,
   "metadata": {},
   "outputs": [],
   "source": []
  },
  {
   "cell_type": "code",
   "execution_count": null,
   "metadata": {},
   "outputs": [],
   "source": [
    "ctiStats = butler.get('cpCtiStats', detector=11, exposure=3021120700221, instrument='LSSTCam')"
   ]
  },
  {
   "cell_type": "code",
   "execution_count": null,
   "metadata": {},
   "outputs": [],
   "source": [
    "ctiStats['CTI']['C00']"
   ]
  },
  {
   "cell_type": "code",
   "execution_count": null,
   "metadata": {},
   "outputs": [],
   "source": [
    "butler = Butler(REPO_DIR, collections=[\"LSSTCam/raw/all\",\"LSSTCam/calib\", \"u/cslage/sdf/BOT/cti_20220916\"])\n",
    "ctiStats = butler.get('cpCtiStats', detector=55, exposure=3021120700221, instrument='LSSTCam')\n",
    "print(ctiStats['CTI']['C00'])"
   ]
  },
  {
   "cell_type": "code",
   "execution_count": null,
   "metadata": {},
   "outputs": [],
   "source": [
    "print(ctiStats['CTI']['C17'])"
   ]
  },
  {
   "cell_type": "code",
   "execution_count": null,
   "metadata": {},
   "outputs": [],
   "source": []
  },
  {
   "cell_type": "code",
   "execution_count": null,
   "metadata": {},
   "outputs": [],
   "source": []
  },
  {
   "cell_type": "code",
   "execution_count": null,
   "metadata": {},
   "outputs": [],
   "source": [
    "filename = '/sdf/group/rubin/repo/main/u/cslage/sdf/BOT/cti_fix3_20220916/20220918T201358Z/cpCtiCalib/cpCtiCalib_LSSTCam_R20_S02_u_cslage_sdf_BOT_cti_fix3_20220916_20220918T201358Z.fits'\n",
    "hdulist = pf.open(filename)"
   ]
  },
  {
   "cell_type": "code",
   "execution_count": null,
   "metadata": {},
   "outputs": [],
   "source": [
    "plt.figure(figsize = (8,8))\n",
    "for i in range(16):\n",
    "    trap = hdulist[2].data[i][5]\n",
    "    centers = trap[0:699]\n",
    "    values = trap[699:1398]\n",
    "    label = f\"{amp}, DriftScale={driftScale:.3g}, DecayTime={decayTime:.2f}, GlobalCTI={globalCti:.2g}\"\n",
    "    plt.scatter(centers, values, label=label)\n",
    "plt.legend()\n",
    "    "
   ]
  },
  {
   "cell_type": "code",
   "execution_count": null,
   "metadata": {},
   "outputs": [],
   "source": [
    "len(values)"
   ]
  },
  {
   "cell_type": "code",
   "execution_count": null,
   "metadata": {},
   "outputs": [],
   "source": [
    "plt.scatter(centers, values)"
   ]
  },
  {
   "cell_type": "code",
   "execution_count": null,
   "metadata": {
    "tags": []
   },
   "outputs": [],
   "source": [
    "trap = hdulist[2].data[8][5]\n",
    "for i in range(699):\n",
    "    print(trap[i], trap[699+i])"
   ]
  },
  {
   "cell_type": "code",
   "execution_count": null,
   "metadata": {
    "tags": []
   },
   "outputs": [],
   "source": [
    "for i in range(1366, 1398):\n",
    "    print(trap[i])"
   ]
  },
  {
   "cell_type": "code",
   "execution_count": null,
   "metadata": {},
   "outputs": [],
   "source": [
    "filename = '/sdf/group/rubin/repo/main/u/cslage/sdf/BOT/cti_20220916/20220916T162216Z/cpCtiCalib/cpCtiCalib_LSSTCam_R20_S02_u_cslage_sdf_BOT_cti_20220916_20220916T162216Z.fits'\n",
    "hdulist = pf.open(filename)"
   ]
  },
  {
   "cell_type": "code",
   "execution_count": null,
   "metadata": {},
   "outputs": [],
   "source": [
    "hdulist[1].data"
   ]
  },
  {
   "cell_type": "markdown",
   "metadata": {
    "tags": []
   },
   "source": [
    "##### "
   ]
  },
  {
   "cell_type": "code",
   "execution_count": null,
   "metadata": {},
   "outputs": [],
   "source": [
    "ccds = ['R20_S02']\n",
    "for ccd in ccds:\n",
    "    print(f\"CCD = {ccd}\")\n",
    "    filename = f'/sdf/group/rubin/repo/main/u/cslage/sdf/BOT/cti_fix3_20220916/20220918T201358Z/cpCtiCalib/cpCtiCalib_LSSTCam_{ccd}_u_cslage_sdf_BOT_cti_fix3_20220916_20220918T201358Z.fits'\n",
    "    hdulist = pf.open(filename)\n",
    "    print(\"AMP  len(table), numNans\")\n",
    "    for i in range(16):\n",
    "        amp = hdulist[2].data[i][0]\n",
    "        table = hdulist[2].data[i][5]\n",
    "        numNans = 0\n",
    "        for i in table:\n",
    "            if np.isnan(i):\n",
    "                numNans += 1\n",
    "        print(amp, '     ', len(table),'     ', numNans)"
   ]
  },
  {
   "cell_type": "code",
   "execution_count": null,
   "metadata": {
    "tags": []
   },
   "outputs": [],
   "source": [
    "# Gen3 butler\n",
    "REPO_DIR = '/repo/main'\n",
    "butler = Butler(REPO_DIR, collections=[\"LSSTCam/raw/all\",\"LSSTCam/calib\", \"u/cslage/sdf/BOT/cti_fix2_20220916\"])\n",
    " "
   ]
  },
  {
   "cell_type": "code",
   "execution_count": null,
   "metadata": {
    "tags": []
   },
   "outputs": [],
   "source": [
    "exposure = 3021120600575\n",
    "test = butler.get('cpCtiCalib', detector=74, exposure=exposure, instrument='LSSTCam')\n"
   ]
  },
  {
   "cell_type": "code",
   "execution_count": null,
   "metadata": {},
   "outputs": [],
   "source": [
    "ccds = ['R13_S01', 'R20_S02']\n",
    "for ccd in ccds:\n",
    "    print(f\"CCD = {ccd}\")\n",
    "    filename = f'/sdf/group/rubin/repo/main/u/cslage/sdf/BOT/cti_fix_20220916/20220916T181400Z/cpCtiCalib/cpCtiCalib_LSSTCam_{ccd}_u_cslage_sdf_BOT_cti_fix_20220916_20220916T181400Z.fits'\n",
    "    hdulist = pf.open(filename)\n",
    "    print(\"AMP  len(table), numNans\")\n",
    "    for i in range(16):\n",
    "        amp = hdulist[2].data[i][0]\n",
    "        table = hdulist[2].data[i][5]\n",
    "        numNans = 0\n",
    "        for i in table:\n",
    "            if np.isnan(i):\n",
    "                numNans += 1\n",
    "        print(amp, '     ', len(table),'     ', numNans)"
   ]
  },
  {
   "cell_type": "code",
   "execution_count": null,
   "metadata": {},
   "outputs": [],
   "source": []
  }
 ],
 "metadata": {
  "kernelspec": {
   "display_name": "LSST",
   "language": "python",
   "name": "lsst"
  },
  "language_info": {
   "codemirror_mode": {
    "name": "ipython",
    "version": 3
   },
   "file_extension": ".py",
   "mimetype": "text/x-python",
   "name": "python",
   "nbconvert_exporter": "python",
   "pygments_lexer": "ipython3",
   "version": "3.10.5"
  }
 },
 "nbformat": 4,
 "nbformat_minor": 4
}
