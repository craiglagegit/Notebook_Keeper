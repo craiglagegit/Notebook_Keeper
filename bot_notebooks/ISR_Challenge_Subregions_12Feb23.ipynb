{
 "cells": [
  {
   "cell_type": "markdown",
   "id": "e8cc3a14-f377-44f4-ab4c-97c9c3047697",
   "metadata": {},
   "source": [
    "# Aaron's ISR challenge - are amp boundaries visible after ISR?\n",
    "Implementing 20 pixel edge mask in PTC \\\n",
    "Craig Lage 25-Jan-23"
   ]
  },
  {
   "cell_type": "code",
   "execution_count": null,
   "id": "a148b369-8943-4861-a51e-9cbeea70feb3",
   "metadata": {
    "execution": {
     "iopub.execute_input": "2023-02-12T23:05:54.638720Z",
     "iopub.status.busy": "2023-02-12T23:05:54.638418Z",
     "iopub.status.idle": "2023-02-12T23:05:57.535852Z",
     "shell.execute_reply": "2023-02-12T23:05:57.535217Z",
     "shell.execute_reply.started": "2023-02-12T23:05:54.638699Z"
    },
    "tags": []
   },
   "outputs": [],
   "source": [
    "import numpy as np\n",
    "from matplotlib import pyplot as plt\n",
    "\n",
    "from lsst.daf.butler import Butler\n",
    "from lsst.ip.isr import IsrTask, IsrTaskConfig\n",
    "from mpl_toolkits.axes_grid1 import make_axes_locatable\n",
    "from matplotlib.colors import LogNorm\n",
    "\n",
    "from lsst.summit.utils import quickSmooth\n",
    "%matplotlib inline\n",
    "\n",
    "from lsst.pipe.tasks.characterizeImage import CharacterizeImageTask\n",
    "from lsst.meas.algorithms.installGaussianPsf import InstallGaussianPsfTask"
   ]
  },
  {
   "cell_type": "code",
   "execution_count": null,
   "id": "7c44dc35-840c-438f-bdba-55b8b1ce5b77",
   "metadata": {
    "execution": {
     "iopub.execute_input": "2023-02-12T23:06:00.819645Z",
     "iopub.status.busy": "2023-02-12T23:06:00.819392Z",
     "iopub.status.idle": "2023-02-12T23:06:00.832555Z",
     "shell.execute_reply": "2023-02-12T23:06:00.832032Z",
     "shell.execute_reply.started": "2023-02-12T23:06:00.819626Z"
    },
    "tags": []
   },
   "outputs": [],
   "source": [
    "def plotExp(exp, expId):\n",
    "    # Borrowed from summit utils\n",
    "    data = quickSmooth(exp.image.array, 1)\n",
    "    vmin = np.nanpercentile(data, 1)\n",
    "    vmax = np.nanpercentile(data, 99)\n",
    "    print(vmin, vmax)\n",
    "    figure = plt.figure(figsize=(12,12))\n",
    "    figure.clear()\n",
    "    ax1 = figure.add_subplot(111)\n",
    "    ax1.set_title(f\"{expId}\")\n",
    "    im1 = ax1.imshow(data, cmap='gray', origin='lower', vmin=vmin, vmax=vmax)\n",
    "    ax1.tick_params(which=\"major\", direction=\"in\", top=True, right=True, labelsize=8)\n",
    "    divider = make_axes_locatable(ax1)\n",
    "    cax = divider.append_axes(\"right\", size=\"5%\", pad=0.05)\n",
    "    plt.colorbar(im1, cax=cax)\n",
    "    plt.tight_layout()\n",
    "    #plt.show()\n",
    "    return figure, vmin, vmax\n",
    "\n",
    "def plotArr(arr):\n",
    "    # Borrowed from summit utils\n",
    "    data = quickSmooth(arr, 1)\n",
    "    vmin = np.nanpercentile(data, 1)\n",
    "    vmax = np.nanpercentile(data, 99)\n",
    "    print(vmin, vmax)\n",
    "    figure = plt.figure(figsize=(12,12))\n",
    "    figure.clear()\n",
    "    ax1 = figure.add_subplot(111)\n",
    "    #ax1.set_title(f\"{expId}\")\n",
    "    im1 = ax1.imshow(data, cmap='gray', origin='lower', vmin=vmin, vmax=vmax)\n",
    "    ax1.tick_params(which=\"major\", direction=\"in\", top=True, right=True, labelsize=8)\n",
    "    divider = make_axes_locatable(ax1)\n",
    "    cax = divider.append_axes(\"right\", size=\"5%\", pad=0.05)\n",
    "    plt.colorbar(im1, cax=cax)\n",
    "    plt.tight_layout()\n",
    "    #plt.show()\n",
    "    return figure, vmin, vmax\n",
    "\n",
    "def repairCosmics(postIsr):\n",
    "    # Borrowed from summit utils\n",
    "    if postIsr.getPsf() is None:\n",
    "        installPsfTask = InstallGaussianPsfTask()\n",
    "        installPsfTask.run(postIsr)\n",
    "\n",
    "    # TODO: try adding a reasonably wide Gaussian as a temp PSF\n",
    "    # and then just running repairTask on its own without any\n",
    "    # imChar. It should work, and be faster.\n",
    "    repairConfig = CharacterizeImageTask.ConfigClass()\n",
    "    repairConfig.doMeasurePsf = False\n",
    "    repairConfig.doApCorr = False\n",
    "    repairConfig.doDeblend = False\n",
    "    repairConfig.doWrite = False\n",
    "    repairConfig.repair.cosmicray.nCrPixelMax = 200000\n",
    "    repairTask = CharacterizeImageTask(config=repairConfig)\n",
    "    repairTask.repair.run(postIsr)\n",
    "    return\n",
    "\n",
    "def fitPlane(exp):\n",
    "    x = np.arange(0,exp.image.array.shape[0])\n",
    "    y = np.arange(0,exp.image.array.shape[1])\n",
    "    X, Y = np.meshgrid(y, x)\n",
    "    xRavel, yRavel = X.ravel(), Y.ravel()\n",
    "    basis = []\n",
    "    order = 1\n",
    "    for i in range(order+1):\n",
    "        for j in range(order - i +1):\n",
    "            basis.append(xRavel**j * yRavel**i)\n",
    "    A = np.vstack(basis).T\n",
    "    b = exp.image.array.ravel()\n",
    "    c, r, rank, s = np.linalg.lstsq(A, b, rcond=None)\n",
    "    plane = c[0] + c[1] * X + c[2] * Y\n",
    "    return plane\n",
    " \n",
    "def correctGains(exp):\n",
    "    plane = fitPlane(exp)\n",
    "    xCut = 50\n",
    "    yCut = 500\n",
    "    corrs = {}\n",
    "    ratioSum = 0\n",
    "    for amp in exp.getDetector().getAmplifiers():\n",
    "        ampName = amp.getName()\n",
    "        bbox = amp.getBBox()\n",
    "        xmin = bbox.beginX + xCut\n",
    "        xmax = bbox.endX - xCut\n",
    "        ymin = bbox.beginY + yCut\n",
    "        ymax = bbox.endY - yCut\n",
    "        imMedian = np.median(exp.image.array[ymin:ymax,xmin:xmax])\n",
    "        planeMedian = np.median(plane[ymin:ymax,xmin:xmax])\n",
    "        ratio = planeMedian / imMedian\n",
    "        ratioSum += ratio\n",
    "        corrs[ampName] = ratio\n",
    "    factor = ratioSum / 16.0\n",
    "    for amp in exp.getDetector().getAmplifiers():\n",
    "        ampName = amp.getName()\n",
    "        corrs[ampName] /= factor\n",
    "        print(ampName, corrs[ampName])\n",
    "    return corrs\n"
   ]
  },
  {
   "cell_type": "code",
   "execution_count": null,
   "id": "558e3838-4aea-48e2-9629-5b1f60b2fbaf",
   "metadata": {
    "execution": {
     "iopub.execute_input": "2023-02-12T23:07:01.802486Z",
     "iopub.status.busy": "2023-02-12T23:07:01.802094Z",
     "iopub.status.idle": "2023-02-12T23:07:12.118683Z",
     "shell.execute_reply": "2023-02-12T23:07:12.117978Z",
     "shell.execute_reply.started": "2023-02-12T23:07:01.802465Z"
    },
    "tags": []
   },
   "outputs": [],
   "source": [
    "butler = Butler(\"/repo/main\", collections=[\"LSSTCam/raw/all\",\"u/cslage/calib/13144/calib.20220107\"])\n",
    "biasButler = Butler(\"/repo/main\", collections=[\"u/cslage/bias_parallel_13144_B_17jan23\"])\n",
    "ptcButler = Butler(\"/repo/main\", collections=[\"u/cslage/ptc_subregion_full_8C_12feb23\"])"
   ]
  },
  {
   "cell_type": "code",
   "execution_count": null,
   "id": "ac370c47-f159-4dcf-8d42-99833c98c37c",
   "metadata": {
    "execution": {
     "iopub.execute_input": "2023-02-12T23:07:12.125898Z",
     "iopub.status.busy": "2023-02-12T23:07:12.125453Z",
     "iopub.status.idle": "2023-02-12T23:07:12.128173Z",
     "shell.execute_reply": "2023-02-12T23:07:12.127695Z",
     "shell.execute_reply.started": "2023-02-12T23:07:12.125881Z"
    },
    "tags": []
   },
   "outputs": [],
   "source": [
    "expId = 3021120700188\n",
    "detector = 55"
   ]
  },
  {
   "cell_type": "code",
   "execution_count": null,
   "id": "5fdbc6a3-4691-4baa-b8bd-c182b8e51de9",
   "metadata": {
    "execution": {
     "iopub.execute_input": "2023-02-12T23:07:12.129661Z",
     "iopub.status.busy": "2023-02-12T23:07:12.129267Z",
     "iopub.status.idle": "2023-02-12T23:07:12.160768Z",
     "shell.execute_reply": "2023-02-12T23:07:12.160205Z",
     "shell.execute_reply.started": "2023-02-12T23:07:12.129645Z"
    },
    "tags": []
   },
   "outputs": [],
   "source": [
    "isrConfig = IsrTaskConfig()\n",
    "isrConfig.overscan.fitType=\"MEDIAN_PER_ROW\"\n",
    "isrConfig.overscan.doParallelOverscan=True\n",
    "isrConfig.doLinearize=True\n",
    "isrConfig.doOverscan=True\n",
    "isrConfig.doAssembleCcd=True\n",
    "isrConfig.doBias=True\n",
    "isrConfig.doVariance=True\n",
    "isrConfig.doBrighterFatter=False\n",
    "isrConfig.doDark=True\n",
    "isrConfig.doCrosstalk=False\n",
    "isrConfig.doStrayLight=False\n",
    "isrConfig.doFlat=False\n",
    "isrConfig.doFringe=False\n",
    "isrConfig.doApplyGains=True\n",
    "isrConfig.usePtcGains=True\n",
    "isrConfig.doDefect=False\n",
    "isrConfig.doDeferredCharge=True\n",
    "isrConfig.doNanMasking=True\n",
    "isrConfig.doInterpolate=True\n",
    "isrConfig.doSaturation=True\n",
    "isrConfig.doSaturationInterpolation=True\n",
    "isrConfig.doWrite=False\n",
    "isrTask = IsrTask(config=isrConfig)"
   ]
  },
  {
   "cell_type": "markdown",
   "id": "689f62fe-d52b-4502-859d-eb0a3f699e55",
   "metadata": {},
   "source": [
    "## Run first to get the gain corrections"
   ]
  },
  {
   "cell_type": "code",
   "execution_count": null,
   "id": "e6535ab4-75f3-4c54-a0ba-120d635760bd",
   "metadata": {
    "execution": {
     "iopub.execute_input": "2023-02-12T23:07:12.161599Z",
     "iopub.status.busy": "2023-02-12T23:07:12.161434Z",
     "iopub.status.idle": "2023-02-12T23:07:15.302926Z",
     "shell.execute_reply": "2023-02-12T23:07:15.302233Z",
     "shell.execute_reply.started": "2023-02-12T23:07:12.161583Z"
    },
    "tags": []
   },
   "outputs": [],
   "source": [
    "# Zero the correction\n",
    "exp = butler.get('raw', detector=detector, exposure=expId, instrument=\"LSSTCam\")\n",
    "corrs = {}\n",
    "ratioSum = 0\n",
    "for amp in exp.getDetector().getAmplifiers():\n",
    "    ampName = amp.getName()\n",
    "    corrs[ampName] = 1.00\n"
   ]
  },
  {
   "cell_type": "code",
   "execution_count": null,
   "id": "7da2e2d4-79fa-43ed-9ab0-daeca1885d3c",
   "metadata": {
    "execution": {
     "iopub.execute_input": "2023-02-12T23:07:22.897703Z",
     "iopub.status.busy": "2023-02-12T23:07:22.897433Z",
     "iopub.status.idle": "2023-02-12T23:07:44.926842Z",
     "shell.execute_reply": "2023-02-12T23:07:44.926191Z",
     "shell.execute_reply.started": "2023-02-12T23:07:22.897669Z"
    },
    "tags": []
   },
   "outputs": [],
   "source": [
    "exp = butler.get('raw', detector=detector, exposure=expId, instrument=\"LSSTCam\")\n",
    "bias = biasButler.get('bias', detector=detector, exposure=expId, instrument=\"LSSTCam\")\n",
    "flat = butler.get('flat', detector=detector, exposure=expId, instrument=\"LSSTCam\")\n",
    "dark = butler.get('dark', detector=detector, exposure=expId, instrument=\"LSSTCam\")\n",
    "defects = butler.get('defects', detector=detector, exposure=expId, instrument=\"LSSTCam\")\n",
    "ptc = ptcButler.get('ptc', detector=detector, exposure=expId, instrument=\"LSSTCam\")\n",
    "linearizer = butler.get('linearizer', detector=detector, exposure=expId, instrument=\"LSSTCam\")\n",
    "deferredChargeCalib = butler.get('cpCtiCalib', detector=detector, exposure=expId, instrument=\"LSSTCam\")\n",
    "\n",
    "\n",
    "isrResult = isrTask.run(exp, bias=bias, flat=flat, dark=dark, defects=defects, \\\n",
    "                        ptc=ptc, linearizer=linearizer, deferredChargeCalib=deferredChargeCalib)\n",
    "\n",
    "postIsrExp = isrResult.exposure\n",
    "#repairCosmics(postIsrExp)\n",
    "fig, vmin, vmax = plotExp(postIsrExp, expId)\n",
    "plt.savefig(f\"/home/c/cslage/u/BOT_LSSTCam/isr_challenge/challenge_21jan23/Challenge_Subregions_{detector}_{expId}.png\")"
   ]
  },
  {
   "cell_type": "code",
   "execution_count": null,
   "id": "9ff6272c-3d21-44da-9760-04b907fbd340",
   "metadata": {
    "execution": {
     "iopub.execute_input": "2023-02-12T23:08:10.388414Z",
     "iopub.status.busy": "2023-02-12T23:08:10.388157Z",
     "iopub.status.idle": "2023-02-12T23:08:15.436366Z",
     "shell.execute_reply": "2023-02-12T23:08:15.435768Z",
     "shell.execute_reply.started": "2023-02-12T23:08:10.388394Z"
    },
    "tags": []
   },
   "outputs": [],
   "source": [
    "plane = fitPlane(postIsrExp)\n",
    "xmax = postIsrExp.image.array.shape[0]\n",
    "fig = plt.figure()\n",
    "plt.subplots_adjust(hspace=0.5, wspace=0.5)\n",
    "rawPlot = np.median(postIsrExp.image.array[2800:3200, 0:xmax], axis=0)\n",
    "planePlot = np.median(plane[2800:3200, 0:xmax], axis=0)\n",
    "plt.subplot(2,2,1)\n",
    "plt.title(f\"Median - Top - {expId}\", fontsize=10)\n",
    "plt.plot(rawPlot, label=\"PostISR\")\n",
    "plt.plot(planePlot, color='red', ls='--', lw=2, label=\"Plane Fit\")\n",
    "#for i in range(8):\n",
    "#    x = 509 * i\n",
    "#    plt.plot([x, x], [vmin, vmax], ls = '--', lw=1, color = 'black')\n",
    "plt.xlim(0,xmax)\n",
    "plt.ylim(vmin, vmax)\n",
    "plt.legend()\n",
    "plt.xlabel(\"X coord (pixels)\")\n",
    "plt.ylabel(\"ADU\")\n",
    "rawPlot = np.median(postIsrExp.image.array[1800:2200, 0:xmax], axis=0)\n",
    "planePlot = np.median(plane[1800:2200, 0:xmax], axis=0)\n",
    "plt.subplot(2,2,3)\n",
    "plt.title(f\"Median - Bottom - {expId}\", fontsize=10)\n",
    "plt.plot(rawPlot, label=\"PostISR\")\n",
    "plt.plot(planePlot, color='red', ls='--', lw=2, label=\"Plane Fit\")\n",
    "#for i in range(8):\n",
    "#    x = 509 * i\n",
    "#    plt.plot([x, x], [vmin, vmax], ls = '--', lw=1, color = 'black')\n",
    "plt.xlim(0,xmax)\n",
    "plt.ylim(vmin, vmax)\n",
    "plt.legend()\n",
    "plt.xlabel(\"X coord (pixels)\")\n",
    "plt.ylabel(\"ADU\")\n",
    "\n",
    "rawPlot = np.median(postIsrExp.image.array[0:4000, 1500:2500], axis=1)\n",
    "planePlot = np.median(plane[0:4000, 1500:2500], axis=1)\n",
    "plt.subplot(2,2,2)\n",
    "plt.title(f\"Median - Top/Bottom - {expId}\", fontsize=10)\n",
    "plt.plot(rawPlot, label=\"PostISR\")\n",
    "plt.plot(planePlot, color='red', ls='--', lw=2, label=\"Plane Fit\")\n",
    "plt.xlim(0,4000)\n",
    "plt.ylim(vmin, vmax)\n",
    "plt.legend()\n",
    "plt.xlabel(\"Y coord (pixels)\")\n",
    "plt.ylabel(\"ADU\")\n",
    "plt.subplot(2,2,4)\n",
    "plt.axis('off')\n",
    "xtext = 0.2\n",
    "ytext = 1.1\n",
    "plt.text(xtext, ytext+.02, \"Gain adjustments:\")\n",
    "for amp in exp.getDetector().getAmplifiers():\n",
    "    ytext -= 0.08\n",
    "    plt.text(xtext, ytext, f\"{amp.getName()}: {(corrs[amp.getName()] - 1.0) * 100.0:.2f}%\")\n",
    "\n",
    "fig.savefig(f\"/home/c/cslage/u/BOT_LSSTCam/isr_challenge/challenge_21jan23/Challenge_Subregions_{detector}_{expId}_Scan.png\")"
   ]
  },
  {
   "cell_type": "markdown",
   "id": "36f0eaa3-1b6a-46cd-a35f-4b26da8517ea",
   "metadata": {
    "execution": {
     "iopub.execute_input": "2023-01-17T18:11:46.137113Z",
     "iopub.status.busy": "2023-01-17T18:11:46.136684Z",
     "iopub.status.idle": "2023-01-17T18:11:46.139788Z",
     "shell.execute_reply": "2023-01-17T18:11:46.139345Z",
     "shell.execute_reply.started": "2023-01-17T18:11:46.137086Z"
    },
    "tags": []
   },
   "source": [
    "## Now correct the gains and run again."
   ]
  },
  {
   "cell_type": "code",
   "execution_count": null,
   "id": "4bf59084-919c-4313-ad97-c3182e5344ae",
   "metadata": {
    "execution": {
     "iopub.execute_input": "2023-02-12T23:09:54.611151Z",
     "iopub.status.busy": "2023-02-12T23:09:54.610750Z",
     "iopub.status.idle": "2023-02-12T23:09:57.665145Z",
     "shell.execute_reply": "2023-02-12T23:09:57.664434Z",
     "shell.execute_reply.started": "2023-02-12T23:09:54.611130Z"
    },
    "tags": []
   },
   "outputs": [],
   "source": [
    "corrs = correctGains(postIsrExp)"
   ]
  },
  {
   "cell_type": "code",
   "execution_count": null,
   "id": "50ae40b2-b711-435e-9423-3085bff83c56",
   "metadata": {
    "execution": {
     "iopub.execute_input": "2023-02-12T23:10:15.373531Z",
     "iopub.status.busy": "2023-02-12T23:10:15.373137Z",
     "iopub.status.idle": "2023-02-12T23:10:34.592349Z",
     "shell.execute_reply": "2023-02-12T23:10:34.591696Z",
     "shell.execute_reply.started": "2023-02-12T23:10:15.373511Z"
    },
    "tags": []
   },
   "outputs": [],
   "source": [
    "exp = butler.get('raw', detector=detector, exposure=expId, instrument=\"LSSTCam\")\n",
    "bias = biasButler.get('bias', detector=detector, exposure=expId, instrument=\"LSSTCam\")\n",
    "flat = butler.get('flat', detector=detector, exposure=expId, instrument=\"LSSTCam\")\n",
    "dark = butler.get('dark', detector=detector, exposure=expId, instrument=\"LSSTCam\")\n",
    "defects = butler.get('defects', detector=detector, exposure=expId, instrument=\"LSSTCam\")\n",
    "ptc = ptcButler.get('ptc', detector=detector, exposure=expId, instrument=\"LSSTCam\")\n",
    "for amp in exp.getDetector().getAmplifiers():\n",
    "    ptc.gain[amp.getName()] *= corrs[amp.getName()]\n",
    "linearizer = butler.get('linearizer', detector=detector, exposure=expId, instrument=\"LSSTCam\")\n",
    "deferredChargeCalib = butler.get('cpCtiCalib', detector=detector, exposure=expId, instrument=\"LSSTCam\")\n",
    "\n",
    "\n",
    "isrResult_corr = isrTask.run(exp, bias=bias, flat=flat, dark=dark, defects=defects, \\\n",
    "                        ptc=ptc, linearizer=linearizer, deferredChargeCalib=deferredChargeCalib)\n",
    "\n",
    "\n",
    "postIsrExp_corr = isrResult_corr.exposure\n",
    "#repairCosmics(postIsrExp)\n",
    "fig, vmin, vmax = plotExp(postIsrExp_corr, expId)\n",
    "plt.savefig(f\"/home/c/cslage/u/BOT_LSSTCam/isr_challenge/challenge_21jan23/Challenge_Gain_Corrected_Subregions_{detector}_{expId}.png\")#"
   ]
  },
  {
   "cell_type": "code",
   "execution_count": null,
   "id": "90a03efa-9585-4016-95e8-fbe5eb3b67b8",
   "metadata": {
    "execution": {
     "iopub.execute_input": "2023-02-12T23:10:44.961526Z",
     "iopub.status.busy": "2023-02-12T23:10:44.961265Z",
     "iopub.status.idle": "2023-02-12T23:10:47.643235Z",
     "shell.execute_reply": "2023-02-12T23:10:47.642641Z",
     "shell.execute_reply.started": "2023-02-12T23:10:44.961507Z"
    },
    "tags": []
   },
   "outputs": [],
   "source": [
    "plane = fitPlane(postIsrExp_corr)\n",
    "xmax = postIsrExp_corr.image.array.shape[0]\n",
    "fig = plt.figure()\n",
    "plt.subplots_adjust(hspace=0.5, wspace=0.5)\n",
    "rawPlot = np.median(postIsrExp_corr.image.array[2800:3200, 0:xmax], axis=0)\n",
    "planePlot = np.median(plane[2800:3200, 0:xmax], axis=0)\n",
    "plt.subplot(2,2,1)\n",
    "plt.title(f\"Median - Top - {expId}\", fontsize=10)\n",
    "plt.plot(rawPlot, label=\"PostISR\")\n",
    "plt.plot(planePlot, color='red', ls='--', lw=2, label=\"Plane Fit\")\n",
    "#for i in range(8):\n",
    "#    x = 509 * i\n",
    "#    plt.plot([x, x], [vmin, vmax], ls = '--', lw=1, color = 'black')\n",
    "plt.xlim(0,xmax)\n",
    "plt.ylim(vmin, vmax)\n",
    "plt.legend()\n",
    "plt.xlabel(\"X coord (pixels)\")\n",
    "plt.ylabel(\"ADU\")\n",
    "rawPlot = np.median(postIsrExp_corr.image.array[1800:2200, 0:xmax], axis=0)\n",
    "planePlot = np.median(plane[1800:2200, 0:xmax], axis=0)\n",
    "plt.subplot(2,2,3)\n",
    "plt.title(f\"Median - Bottom - {expId}\", fontsize=10)\n",
    "plt.plot(rawPlot, label=\"PostISR\")\n",
    "plt.plot(planePlot, color='red', ls='--', lw=2, label=\"Plane Fit\")\n",
    "#for i in range(8):\n",
    "#    x = 509 * i\n",
    "#    plt.plot([x, x], [vmin, vmax], ls = '--', lw=1, color = 'black')\n",
    "plt.xlim(0,xmax)\n",
    "plt.ylim(vmin, vmax)\n",
    "plt.legend()\n",
    "plt.xlabel(\"X coord (pixels)\")\n",
    "plt.ylabel(\"ADU\")\n",
    "\n",
    "rawPlot = np.median(postIsrExp_corr.image.array[0:4000, 1500:2500], axis=1)\n",
    "planePlot = np.median(plane[0:4000, 1500:2500], axis=1)\n",
    "plt.subplot(2,2,2)\n",
    "plt.title(f\"Median - Top/Bottom - {expId}\", fontsize=10)\n",
    "plt.plot(rawPlot, label=\"PostISR\")\n",
    "plt.plot(planePlot, color='red', ls='--', lw=2, label=\"Plane Fit\")\n",
    "plt.xlim(0,4000)\n",
    "plt.ylim(vmin, vmax)\n",
    "plt.legend()\n",
    "plt.xlabel(\"Y coord (pixels)\")\n",
    "plt.ylabel(\"ADU\")\n",
    "plt.subplot(2,2,4)\n",
    "plt.axis('off')\n",
    "xtext = 0.2\n",
    "ytext = 1.1\n",
    "plt.text(xtext, ytext+.02, \"Gain adjustments:\")\n",
    "for amp in exp.getDetector().getAmplifiers():\n",
    "    ytext -= 0.08\n",
    "    plt.text(xtext, ytext, f\"{amp.getName()}: {(corrs[amp.getName()] - 1.0) * 100.0:.2f}%\")\n",
    "\n",
    "fig.savefig(f\"/home/c/cslage/u/BOT_LSSTCam/isr_challenge/challenge_21jan23/Challenge_Gain_Corrected_Edge_Subregions_{detector}_{expId}_Scan.png\")"
   ]
  },
  {
   "cell_type": "code",
   "execution_count": null,
   "id": "18911956-4662-4ae8-8073-ff24636ec3e1",
   "metadata": {},
   "outputs": [],
   "source": []
  }
 ],
 "metadata": {
  "kernelspec": {
   "display_name": "LSST",
   "language": "python",
   "name": "lsst"
  },
  "language_info": {
   "codemirror_mode": {
    "name": "ipython",
    "version": 3
   },
   "file_extension": ".py",
   "mimetype": "text/x-python",
   "name": "python",
   "nbconvert_exporter": "python",
   "pygments_lexer": "ipython3",
   "version": "3.10.9"
  },
  "toc-autonumbering": false,
  "toc-showcode": false,
  "toc-showmarkdowntxt": true
 },
 "nbformat": 4,
 "nbformat_minor": 5
}
