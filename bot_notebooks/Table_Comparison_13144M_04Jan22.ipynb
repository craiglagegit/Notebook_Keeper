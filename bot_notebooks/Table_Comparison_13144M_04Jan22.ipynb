{
 "cells": [
  {
   "cell_type": "markdown",
   "metadata": {},
   "source": [
    "# Notebook for comparing eotest gain with DM gain.\n",
    "\n",
    "Initially written 20 Nov 2021 by Craig Lage."
   ]
  },
  {
   "cell_type": "code",
   "execution_count": null,
   "metadata": {},
   "outputs": [],
   "source": [
    "import sys, os, glob, time\n",
    "import pickle as pkl\n",
    "import numpy as np\n",
    "import matplotlib.pyplot as plt\n",
    "import astropy.io.fits as pf\n",
    "from lsst.daf.butler import Butler"
   ]
  },
  {
   "cell_type": "code",
   "execution_count": null,
   "metadata": {},
   "outputs": [],
   "source": [
    "butler = Butler(\"/repo/main\", collections=[\"LSSTCam/raw/all\",\"LSSTCam/calib\", \"u/cslage/bps_13144M\", \"u/cslage/linearizer_20220104\"])\n",
    "exposure=3021120600576"
   ]
  },
  {
   "cell_type": "code",
   "execution_count": null,
   "metadata": {},
   "outputs": [],
   "source": [
    "# Get the eotest results\n",
    "filename = \"/project/cslage/BOT_LSSTCam/eotest/eotest_gain_13144_15dec21.pkl\"\n",
    "file = open(filename, 'rb')\n",
    "#fe55_results = pkl.load(file)\n",
    "ptc_results = pkl.load(file)\n",
    "file.close()\n",
    "print(ptc_results.keys())\n",
    "\n",
    "rafts = [       'R01', 'R02', 'R03', \\\n",
    "         'R10', 'R11', 'R12', 'R13', 'R14', \\\n",
    "         'R20', 'R21', 'R22', 'R23', 'R24', \\\n",
    "         'R30', 'R31', 'R32', 'R33', 'R34', \\\n",
    "                'R41', 'R42', 'R43']\n",
    "sensors = ['S00', 'S01', 'S02', 'S10', 'S11', 'S12', 'S20', 'S21', 'S22']\n",
    "print(rafts)\n",
    "print(ptc_results['ptc_gain']['R01']['S00'])"
   ]
  },
  {
   "cell_type": "code",
   "execution_count": null,
   "metadata": {},
   "outputs": [],
   "source": [
    "def detector(raft, sensor):\n",
    "    # Subroutine to find vendor and detector number given raft and sensor                                                                                                                                                           \n",
    "    startingCol = [1,0,0,0,1] # First raft column in each row                                                                                                                                                                       \n",
    "    rows = [0,3,8,13,18] # Starting raft sequence number of each row                                                                                                                                                                \n",
    "    if raft in ['R11','R12','R13','R14','R21','R22','R23','R24','R30',\\\n",
    "                'R31','R32','R33','R34']:\n",
    "        vendor = 'E2V'\n",
    "    else:\n",
    "        vendor = 'ITL'\n",
    "    raftRow = int(list(raft)[1])\n",
    "    raftCol = int(list(raft)[2])\n",
    "    sensorRow = int(list(sensor)[1])\n",
    "    sensorCol = int(list(sensor)[2])\n",
    "    detectorNum = (rows[raftRow] + (raftCol - startingCol[raftRow])) * 9\n",
    "    detectorNum += 3 * sensorRow + sensorCol\n",
    "    return vendor, detectorNum, 4 - raftRow, raftCol\n",
    "\n",
    "# This dictionary captures the amp naming correspondence\n",
    "slacAmps = {'C10':'AMP01','C11':'AMP02','C12':'AMP03','C13':'AMP04',\\\n",
    "           'C14':'AMP05','C15':'AMP06','C16':'AMP07','C17':'AMP08',\\\n",
    "           'C07':'AMP09','C06':'AMP10','C05':'AMP11','C04':'AMP12',\\\n",
    "           'C03':'AMP13','C02':'AMP14','C01':'AMP15','C00':'AMP16'}\n"
   ]
  },
  {
   "cell_type": "code",
   "execution_count": null,
   "metadata": {
    "tags": []
   },
   "outputs": [],
   "source": [
    "filename = \"/repo/main/u/cslage/bps_13144M/plots/ptc_table_13144M_04jan22.txt\"\n",
    "file = open(filename, 'w')\n",
    "header = \"Amp\\t\\tGain_DM\\t\\tGain_EO\\t\\tA00_DM\\t\\tA00_EO\\t     Noise_DM  Noise_EO  Turn_DM\\tTurn_EO\\t\\tMaxNL_DM\\n\"\n",
    "file.write(header)\n",
    "\n",
    "for RAFT in rafts:\n",
    "    for SENSOR in sensors:\n",
    "        VENDOR, DETECTOR, raftRow, raftCol = detector(RAFT, SENSOR)\n",
    "        try:\n",
    "            ptcDataset = butler.get('ptc', detector=DETECTOR, exposure=exposure, instrument='LSSTCam')\n",
    "        except:\n",
    "            continue\n",
    "        eoPTCGain = ptc_results['ptc_gain'][RAFT][SENSOR]\n",
    "        eoPtcTurnoff = ptc_results['ptc_turnoff'][RAFT][SENSOR]\n",
    "        eoA00 = ptc_results['ptc_a00'][RAFT][SENSOR]\n",
    "        eoNoise = ptc_results['ptc_noise'][RAFT][SENSOR]\n",
    "        for amp in ptcDataset.gain.keys():\n",
    "            slacAmp = slacAmps[amp]\n",
    "            slacNum = int(slacAmp.strip('AMP')) - 1\n",
    "            if ptcDataset.ptcFitType == 'EXPAPPROXIMATION':\n",
    "                dmA00 = ptcDataset.ptcFitPars[amp][0]\n",
    "            if ptcDataset.ptcFitType == 'FULLCOVARIANCE':\n",
    "                dmA00 = ptcDataset.aMatrix[amp][0][0]\n",
    "            dmMeans = np.array(ptcDataset.finalMeans[amp])\n",
    "            dmMeans = dmMeans[~np.isnan(dmMeans)]\n",
    "            if len(dmMeans > 0):\n",
    "                maxDM = dmMeans.max()\n",
    "            else:\n",
    "                maxDM = 0.0\n",
    "            try:\n",
    "                lin = butler.get('linearizer', detector=DETECTOR, exposure=exposure, instrument='LSSTCam')\n",
    "                centers, values = np.split(lin.linearityCoeffs[amp], 2)\n",
    "                fluxMask = np.where(centers>20000.0)\n",
    "                maxDeviation = np.max(abs((values/centers * 100.0)[fluxMask]))\n",
    "            except:\n",
    "                maxDeviation = np.nan\n",
    "            \n",
    "            data = f\"{RAFT}_{SENSOR}_{amp}\\t{ptcDataset.gain[amp]:.6f}\\t{eoPTCGain[slacNum]:.6f}\\t{dmA00:.6g}\\t{-eoA00[slacNum]:.6g}\\t{ptcDataset.noise[amp]:.2f}\\t{eoNoise[slacNum]:.2f}\\t{maxDM:.2f}\\t{eoPtcTurnoff[slacNum]:.2f}\\t{maxDeviation:.4f}\\n\"\n",
    "            file.write(data)\n",
    "file.close()"
   ]
  },
  {
   "cell_type": "code",
   "execution_count": null,
   "metadata": {},
   "outputs": [],
   "source": []
  }
 ],
 "metadata": {
  "kernelspec": {
   "display_name": "LSST",
   "language": "python",
   "name": "lsst"
  },
  "language_info": {
   "codemirror_mode": {
    "name": "ipython",
    "version": 3
   },
   "file_extension": ".py",
   "mimetype": "text/x-python",
   "name": "python",
   "nbconvert_exporter": "python",
   "pygments_lexer": "ipython3",
   "version": "3.8.8"
  }
 },
 "nbformat": 4,
 "nbformat_minor": 4
}
