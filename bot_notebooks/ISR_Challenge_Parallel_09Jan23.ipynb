{
 "cells": [
  {
   "cell_type": "markdown",
   "id": "e8cc3a14-f377-44f4-ab4c-97c9c3047697",
   "metadata": {},
   "source": [
    "# Aaron's ISR challenge - are amp boundaries visible after ISR?\n",
    "Craig Lage 09-Jan-23"
   ]
  },
  {
   "cell_type": "code",
   "execution_count": null,
   "id": "a148b369-8943-4861-a51e-9cbeea70feb3",
   "metadata": {
    "execution": {
     "iopub.execute_input": "2023-01-09T14:42:08.670618Z",
     "iopub.status.busy": "2023-01-09T14:42:08.670464Z",
     "iopub.status.idle": "2023-01-09T14:42:11.377335Z",
     "shell.execute_reply": "2023-01-09T14:42:11.376710Z",
     "shell.execute_reply.started": "2023-01-09T14:42:08.670596Z"
    },
    "tags": []
   },
   "outputs": [],
   "source": [
    "import numpy as np\n",
    "from matplotlib import pyplot as plt\n",
    "\n",
    "from lsst.daf.butler import Butler\n",
    "from lsst.ip.isr import IsrTask, IsrTaskConfig\n",
    "from mpl_toolkits.axes_grid1 import make_axes_locatable\n",
    "from matplotlib.colors import LogNorm\n",
    "\n",
    "from lsst.summit.utils import quickSmooth\n",
    "%matplotlib inline\n",
    "\n",
    "from lsst.pipe.tasks.characterizeImage import CharacterizeImageTask\n",
    "from lsst.meas.algorithms.installGaussianPsf import InstallGaussianPsfTask"
   ]
  },
  {
   "cell_type": "code",
   "execution_count": null,
   "id": "7c44dc35-840c-438f-bdba-55b8b1ce5b77",
   "metadata": {
    "execution": {
     "iopub.execute_input": "2023-01-09T14:42:11.394828Z",
     "iopub.status.busy": "2023-01-09T14:42:11.394490Z",
     "iopub.status.idle": "2023-01-09T14:42:11.400033Z",
     "shell.execute_reply": "2023-01-09T14:42:11.399545Z",
     "shell.execute_reply.started": "2023-01-09T14:42:11.394810Z"
    },
    "tags": []
   },
   "outputs": [],
   "source": [
    "def plotExp(exp):\n",
    "    # Borrowed from summit utils\n",
    "    data = quickSmooth(exp.image.array, 1)\n",
    "    vmin = np.nanpercentile(data, 1)\n",
    "    vmax = np.nanpercentile(data, 99)\n",
    "    print(vmin, vmax)\n",
    "    figure = plt.figure(figsize=(12,12))\n",
    "    figure.clear()\n",
    "    ax1 = figure.add_subplot(111)\n",
    "    im1 = ax1.imshow(data, cmap='gray', origin='lower', vmin=vmin, vmax=vmax)\n",
    "    ax1.tick_params(which=\"major\", direction=\"in\", top=True, right=True, labelsize=8)\n",
    "    divider = make_axes_locatable(ax1)\n",
    "    cax = divider.append_axes(\"right\", size=\"5%\", pad=0.05)\n",
    "    plt.colorbar(im1, cax=cax)\n",
    "    plt.tight_layout()\n",
    "    #plt.show()\n",
    "    return figure\n",
    "\n",
    "def repairCosmics(postIsr):\n",
    "    # Borrowed from summit utils\n",
    "    if postIsr.getPsf() is None:\n",
    "        installPsfTask = InstallGaussianPsfTask()\n",
    "        installPsfTask.run(postIsr)\n",
    "\n",
    "    # TODO: try adding a reasonably wide Gaussian as a temp PSF\n",
    "    # and then just running repairTask on its own without any\n",
    "    # imChar. It should work, and be faster.\n",
    "    repairConfig = CharacterizeImageTask.ConfigClass()\n",
    "    repairConfig.doMeasurePsf = False\n",
    "    repairConfig.doApCorr = False\n",
    "    repairConfig.doDeblend = False\n",
    "    repairConfig.doWrite = False\n",
    "    repairConfig.repair.cosmicray.nCrPixelMax = 200000\n",
    "    repairTask = CharacterizeImageTask(config=repairConfig)\n",
    "    repairTask.repair.run(postIsr)\n",
    "    return\n"
   ]
  },
  {
   "cell_type": "code",
   "execution_count": null,
   "id": "558e3838-4aea-48e2-9629-5b1f60b2fbaf",
   "metadata": {
    "execution": {
     "iopub.execute_input": "2023-01-09T14:42:11.400990Z",
     "iopub.status.busy": "2023-01-09T14:42:11.400646Z",
     "iopub.status.idle": "2023-01-09T14:42:14.659607Z",
     "shell.execute_reply": "2023-01-09T14:42:14.658979Z",
     "shell.execute_reply.started": "2023-01-09T14:42:11.400972Z"
    },
    "tags": []
   },
   "outputs": [],
   "source": [
    "butler = Butler(\"/repo/main\", collections=[\"LSSTCam/raw/all\",\"u/cslage/calib/13144/calib.20220107\"])"
   ]
  },
  {
   "cell_type": "code",
   "execution_count": null,
   "id": "ac370c47-f159-4dcf-8d42-99833c98c37c",
   "metadata": {
    "execution": {
     "iopub.execute_input": "2023-01-09T14:42:14.670013Z",
     "iopub.status.busy": "2023-01-09T14:42:14.669685Z",
     "iopub.status.idle": "2023-01-09T14:42:14.672294Z",
     "shell.execute_reply": "2023-01-09T14:42:14.671836Z",
     "shell.execute_reply.started": "2023-01-09T14:42:14.669994Z"
    },
    "tags": []
   },
   "outputs": [],
   "source": [
    "expId = 3021120700218\n",
    "detector = 55"
   ]
  },
  {
   "cell_type": "code",
   "execution_count": null,
   "id": "5fdbc6a3-4691-4baa-b8bd-c182b8e51de9",
   "metadata": {
    "execution": {
     "iopub.execute_input": "2023-01-09T14:42:14.673246Z",
     "iopub.status.busy": "2023-01-09T14:42:14.672913Z",
     "iopub.status.idle": "2023-01-09T14:42:14.704706Z",
     "shell.execute_reply": "2023-01-09T14:42:14.704192Z",
     "shell.execute_reply.started": "2023-01-09T14:42:14.673228Z"
    },
    "tags": []
   },
   "outputs": [],
   "source": [
    "isrConfig = IsrTaskConfig()\n",
    "isrConfig.overscan.fitType=\"MEDIAN_PER_ROW\"\n",
    "isrConfig.overscan.doParallelOverscan=True\n",
    "isrConfig.doLinearize=True\n",
    "isrConfig.doOverscan=True\n",
    "isrConfig.doAssembleCcd=True\n",
    "isrConfig.doBias=True\n",
    "isrConfig.doVariance=True\n",
    "isrConfig.doBrighterFatter=False\n",
    "isrConfig.doDark=True\n",
    "isrConfig.doStrayLight=False\n",
    "isrConfig.doFlat=False\n",
    "isrConfig.doFringe=False\n",
    "isrConfig.doApplyGains=True\n",
    "isrConfig.usePtcGains=True\n",
    "isrConfig.doDefect=True\n",
    "isrConfig.doDeferredCharge=True\n",
    "isrConfig.doNanMasking=True\n",
    "isrConfig.doInterpolate=True\n",
    "isrConfig.doSaturation=True\n",
    "isrConfig.doSaturationInterpolation=True\n",
    "isrConfig.doWrite=False\n",
    "isrTask = IsrTask(config=isrConfig)"
   ]
  },
  {
   "cell_type": "code",
   "execution_count": null,
   "id": "50ae40b2-b711-435e-9423-3085bff83c56",
   "metadata": {
    "execution": {
     "iopub.execute_input": "2023-01-09T14:42:15.495706Z",
     "iopub.status.busy": "2023-01-09T14:42:15.495079Z",
     "iopub.status.idle": "2023-01-09T14:42:37.186363Z",
     "shell.execute_reply": "2023-01-09T14:42:37.185695Z",
     "shell.execute_reply.started": "2023-01-09T14:42:15.495683Z"
    },
    "tags": []
   },
   "outputs": [],
   "source": [
    "exp = butler.get('raw', detector=detector, exposure=expId, instrument=\"LSSTCam\")\n",
    "bias = butler.get('bias', detector=detector, exposure=expId, instrument=\"LSSTCam\")\n",
    "flat = butler.get('flat', detector=detector, exposure=expId, instrument=\"LSSTCam\")\n",
    "dark = butler.get('dark', detector=detector, exposure=expId, instrument=\"LSSTCam\")\n",
    "defects = butler.get('defects', detector=detector, exposure=expId, instrument=\"LSSTCam\")\n",
    "ptc = butler.get('ptc', detector=detector, exposure=expId, instrument=\"LSSTCam\")\n",
    "linearizer = butler.get('linearizer', detector=detector, exposure=expId, instrument=\"LSSTCam\")\n",
    "deferredChargeCalib = butler.get('cpCtiCalib', detector=detector, exposure=expId, instrument=\"LSSTCam\")\n",
    "\n",
    "\n",
    "isrResult = isrTask.run(exp, bias=bias, flat=flat, dark=dark, defects=defects, \\\n",
    "                        ptc=ptc, linearizer=linearizer, deferredChargeCalib=deferredChargeCalib)\n",
    "\n",
    "postIsrExp = isrResult.exposure\n",
    "#repairCosmics(postIsrExp)\n",
    "fig = plotExp(postIsrExp)\n",
    "plt.savefig(f\"/home/c/cslage/u/BOT_LSSTCam/isr_challenge/Challenge_{detector}_{expId}_09Jan23.png\")"
   ]
  },
  {
   "cell_type": "code",
   "execution_count": null,
   "id": "9a5c48e3-6436-4e7e-a4f3-c64ac0b431d6",
   "metadata": {
    "execution": {
     "iopub.execute_input": "2023-01-09T14:42:37.210221Z",
     "iopub.status.busy": "2023-01-09T14:42:37.209990Z",
     "iopub.status.idle": "2023-01-09T14:42:37.744689Z",
     "shell.execute_reply": "2023-01-09T14:42:37.744080Z",
     "shell.execute_reply.started": "2023-01-09T14:42:37.210201Z"
    },
    "tags": []
   },
   "outputs": [],
   "source": [
    "fig = plt.figure()\n",
    "plt.subplots_adjust(hspace=0.5, wspace=0.5)\n",
    "\n",
    "rawPlot = np.median(isrResult.exposure.image.array[2100:3900, 0:4000], axis=0)\n",
    "rawPlot -= np.median(rawPlot)\n",
    "plt.subplot(2,1,1)\n",
    "plt.title(f\"Median Flat Level - Top\")\n",
    "plt.plot(rawPlot, label=\"PostISR\")\n",
    "for i in range(8):\n",
    "    x = 509 * i\n",
    "    ymin = -10\n",
    "    ymax = 10\n",
    "    plt.plot([x, x], [ymin, ymax], ls = '--', lw=1, color = 'black')\n",
    "plt.xlim(0,4000)\n",
    "plt.ylim(-50,50)\n",
    "#plt.legend()\n",
    "plt.xlabel(\"X coord (pixels)\")\n",
    "plt.ylabel(\"ADU\")\n",
    "rawPlot = np.median(isrResult.exposure.image.array[100:1900, 0:4000], axis=0)\n",
    "rawPlot -= np.median(rawPlot)\n",
    "plt.subplot(2,1,2)\n",
    "plt.title(f\"Median Flat Level - Bottom\")\n",
    "plt.plot(rawPlot, label=\"PostISR\")\n",
    "for i in range(8):\n",
    "    x = 509 * i\n",
    "    ymin = -10\n",
    "    ymax = 10\n",
    "    plt.plot([x, x], [ymin, ymax], ls = '--', lw=1, color = 'black')\n",
    "plt.xlim(0,4000)\n",
    "plt.ylim(-50,50)\n",
    "#plt.legend()\n",
    "plt.xlabel(\"X coord (pixels)\")\n",
    "plt.ylabel(\"ADU\")\n",
    "\n",
    "fig.savefig(f\"/home/c/cslage/u/BOT_LSSTCam/isr_challenge/Challenge_{detector}_{expId}_Scan_09Jan23.png\")"
   ]
  },
  {
   "cell_type": "code",
   "execution_count": null,
   "id": "aa87a3f0-44ee-49d0-ba82-91aec4d068fb",
   "metadata": {
    "execution": {
     "iopub.execute_input": "2023-01-09T14:42:37.746240Z",
     "iopub.status.busy": "2023-01-09T14:42:37.746007Z",
     "iopub.status.idle": "2023-01-09T14:42:38.558986Z",
     "shell.execute_reply": "2023-01-09T14:42:38.558346Z",
     "shell.execute_reply.started": "2023-01-09T14:42:37.746220Z"
    },
    "tags": []
   },
   "outputs": [],
   "source": [
    "fig = plt.figure()\n",
    "plt.subplots_adjust(hspace=0.5, wspace=0.5)\n",
    "\n",
    "rawPlot = np.median(isrResult.exposure.image.array[2100:3900, 0:4000], axis=0)\n",
    "rawPlot -= np.median(rawPlot)\n",
    "biasPlot = np.median(bias.image.array[2100:3900, 0:4000], axis=0)\n",
    "biasPlot -= np.median(biasPlot)\n",
    "plt.subplot(2,1,1)\n",
    "plt.title(f\"Parallel Overscan Debug - Top\")\n",
    "plt.plot(rawPlot, label=\"Raw\")\n",
    "plt.plot(biasPlot, ls = '--', label=\"MasterBias\")\n",
    "for i in range(8):\n",
    "    x = 509 * i\n",
    "    ymin = -10\n",
    "    ymax = 10\n",
    "    plt.plot([x, x], [ymin, ymax], ls = '--', lw=1, color = 'black')\n",
    "plt.xlim(0,4000)\n",
    "plt.ylim(-50,50)\n",
    "plt.legend()\n",
    "plt.xlabel(\"X coord (pixels)\")\n",
    "plt.ylabel(\"ADU\")\n",
    "rawPlot = np.median(isrResult.exposure.image.array[100:1900, 0:4000], axis=0)\n",
    "rawPlot -= np.median(rawPlot)\n",
    "biasPlot = np.median(bias.image.array[100:1900, 0:4000], axis=0)\n",
    "biasPlot -= np.median(biasPlot)\n",
    "plt.subplot(2,1,2)\n",
    "plt.title(f\"Parallel Overscan Debug - Bottom\")\n",
    "plt.plot(rawPlot, label=\"Raw\")\n",
    "plt.plot(biasPlot, ls = '--', label=\"MasterBias\")\n",
    "for i in range(8):\n",
    "    x = 509 * i\n",
    "    ymin = -10\n",
    "    ymax = 10\n",
    "    plt.plot([x, x], [ymin, ymax], ls = '--', lw=1, color = 'black')\n",
    "plt.xlim(0,4000)\n",
    "plt.ylim(-50,50)\n",
    "plt.legend()\n",
    "plt.xlabel(\"X coord (pixels)\")\n",
    "plt.ylabel(\"ADU\")\n",
    "\n",
    "fig.savefig(f\"/home/c/cslage/u/BOT_LSSTCam/isr_challenge/Challenge_{detector}_{expId}_Scan_Bias_09Jan23.png\")"
   ]
  },
  {
   "cell_type": "code",
   "execution_count": null,
   "id": "baca8d1e-9a22-44cf-8115-3ad3da607214",
   "metadata": {
    "execution": {
     "iopub.execute_input": "2023-01-09T14:42:38.560084Z",
     "iopub.status.busy": "2023-01-09T14:42:38.559841Z",
     "iopub.status.idle": "2023-01-09T14:42:39.345247Z",
     "shell.execute_reply": "2023-01-09T14:42:39.344624Z",
     "shell.execute_reply.started": "2023-01-09T14:42:38.560065Z"
    },
    "tags": []
   },
   "outputs": [],
   "source": [
    "fig = plt.figure()\n",
    "plt.subplots_adjust(hspace=0.5, wspace=0.5)\n",
    "\n",
    "rawPlot = np.median(isrResult.exposure.image.array[2100:3900, 0:4000], axis=0)\n",
    "rawPlot -= np.median(rawPlot)\n",
    "biasPlot = np.median(bias.image.array[2100:3900, 0:4000], axis=0)\n",
    "biasPlot -= np.median(biasPlot)\n",
    "plt.subplot(2,1,1)\n",
    "plt.title(f\"Parallel Overscan Debug - Top\")\n",
    "plt.plot(rawPlot, label=\"Raw\")\n",
    "plt.plot(biasPlot, ls = '--', label=\"MasterBias\")\n",
    "for i in range(8):\n",
    "    x = 509 * i\n",
    "    ymin = -10\n",
    "    ymax = 10\n",
    "    plt.plot([x, x], [ymin, ymax], ls = '--', lw=1, color = 'black')\n",
    "plt.xlim(450,550)\n",
    "plt.ylim(-50,50)\n",
    "plt.legend()\n",
    "plt.xlabel(\"X coord (pixels)\")\n",
    "plt.ylabel(\"ADU\")\n",
    "rawPlot = np.median(isrResult.exposure.image.array[100:1900, 0:4000], axis=0)\n",
    "rawPlot -= np.median(rawPlot)\n",
    "biasPlot = np.median(bias.image.array[100:1900, 0:4000], axis=0)\n",
    "biasPlot -= np.median(biasPlot)\n",
    "plt.subplot(2,1,2)\n",
    "plt.title(f\"Parallel Overscan Debug - Bottom\")\n",
    "plt.plot(rawPlot, label=\"Raw\")\n",
    "plt.plot(biasPlot, ls = '--', label=\"MasterBias\")\n",
    "for i in range(8):\n",
    "    x = 509 * i\n",
    "    ymin = -10\n",
    "    ymax = 10\n",
    "    plt.plot([x, x], [ymin, ymax], ls = '--', lw=1, color = 'black')\n",
    "plt.xlim(450,550)\n",
    "plt.ylim(-50,50)\n",
    "plt.legend()\n",
    "plt.xlabel(\"X coord (pixels)\")\n",
    "plt.ylabel(\"ADU\")\n",
    "\n",
    "fig.savefig(f\"/home/c/cslage/u/BOT_LSSTCam/isr_challenge/Challenge_{detector}_{expId}_Scan_Bias_Blowup_09Jan23.png\")"
   ]
  },
  {
   "cell_type": "code",
   "execution_count": null,
   "id": "0d0b7b4e-6e6d-4101-87d2-435445b6182d",
   "metadata": {},
   "outputs": [],
   "source": []
  }
 ],
 "metadata": {
  "kernelspec": {
   "display_name": "LSST",
   "language": "python",
   "name": "lsst"
  },
  "language_info": {
   "codemirror_mode": {
    "name": "ipython",
    "version": 3
   },
   "file_extension": ".py",
   "mimetype": "text/x-python",
   "name": "python",
   "nbconvert_exporter": "python",
   "pygments_lexer": "ipython3",
   "version": "3.10.8"
  },
  "toc-autonumbering": false,
  "toc-showcode": false,
  "toc-showmarkdowntxt": true
 },
 "nbformat": 4,
 "nbformat_minor": 5
}
