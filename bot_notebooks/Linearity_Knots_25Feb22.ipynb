{
 "cells": [
  {
   "cell_type": "markdown",
   "metadata": {},
   "source": [
    "# Notebook for plotting the spline knots\n",
    "\n",
    "Initially written 25 Feb 2022 by Craig Lage"
   ]
  },
  {
   "cell_type": "code",
   "execution_count": null,
   "metadata": {},
   "outputs": [],
   "source": [
    "import sys, os, glob, time\n",
    "import pickle as pkl\n",
    "import numpy as np\n",
    "import matplotlib.pyplot as plt\n",
    "import astropy.io.fits as pf\n",
    "from lsst.daf.butler import Butler\n",
    "import lsst.afw.math as afwMath\n",
    "\n"
   ]
  },
  {
   "cell_type": "code",
   "execution_count": null,
   "metadata": {},
   "outputs": [],
   "source": [
    "# Force low flux knots to zero\n",
    "# butler = Butler(\"/repo/main\", collections=[\"LSSTCam/raw/all\", \"u/cslage/tests/linearizer_spline_E_25feb22\"])\n",
    "# Alex check\n",
    "butler = Butler(\"/repo/main\", collections=[\"LSSTCam/raw/all\", \"u/cslage/linearizer_28jan22\"])\n"
   ]
  },
  {
   "cell_type": "code",
   "execution_count": null,
   "metadata": {},
   "outputs": [],
   "source": [
    "expId=3021120600576\n",
    "camera = butler.get('camera', instrument='LSSTCam')\n",
    "det = 9# 94\n",
    "lin = butler.get('linearizer', detector=det, exposure=expId, instrument='LSSTCam')\n",
    "plt.subplot(1,1,1)\n",
    "plt.title(\"Spline knots - 13144M - Detector %d\"%det)\n",
    "offset = 0.0\n",
    "for it, amp in enumerate(camera[0].getAmplifiers()):\n",
    "    centers, values = np.split(lin.linearityCoeffs[amp.getName()], 2)\n",
    "    plt.scatter(centers, values + it * offset, marker='+')\n",
    "    print(amp.getName(), centers, values)\n",
    "    #break\n",
    "plt.savefig(\"/repo/main/u/cslage/bps_13144M/plots/Spline_Knots_ITL_Det9_11Mar22.pdf\")\n",
    "\n",
    "\n"
   ]
  },
  {
   "cell_type": "code",
   "execution_count": null,
   "metadata": {},
   "outputs": [],
   "source": []
  }
 ],
 "metadata": {
  "kernelspec": {
   "display_name": "LSST",
   "language": "python",
   "name": "lsst"
  },
  "language_info": {
   "codemirror_mode": {
    "name": "ipython",
    "version": 3
   },
   "file_extension": ".py",
   "mimetype": "text/x-python",
   "name": "python",
   "nbconvert_exporter": "python",
   "pygments_lexer": "ipython3",
   "version": "3.11.4"
  }
 },
 "nbformat": 4,
 "nbformat_minor": 4
}
