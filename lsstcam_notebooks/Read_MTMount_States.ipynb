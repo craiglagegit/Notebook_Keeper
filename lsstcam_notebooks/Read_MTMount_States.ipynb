{
 "cells": [
  {
   "cell_type": "code",
   "execution_count": null,
   "id": "1ce2c6e8-bbc8-47b2-ae17-317289a7f008",
   "metadata": {
    "execution": {
     "iopub.execute_input": "2025-06-15T01:10:36.996684Z",
     "iopub.status.busy": "2025-06-15T01:10:36.996303Z",
     "iopub.status.idle": "2025-06-15T01:10:45.562882Z",
     "shell.execute_reply": "2025-06-15T01:10:45.562339Z",
     "shell.execute_reply.started": "2025-06-15T01:10:36.996665Z"
    },
    "tags": []
   },
   "outputs": [],
   "source": [
    "import numpy as np\n",
    "import pickle as pkl\n",
    "import matplotlib.pyplot as plt\n",
    "from astropy.time import Time, TimeDelta\n",
    "from lsst.daf.butler import Butler\n",
    "import lsst.summit.utils.butlerUtils as butlerUtils\n",
    "from lsst.summit.utils.utils import dayObsIntToString\n",
    "from lsst.summit.utils.efdUtils import calcNextDay\n",
    "from lsst.summit.utils.efdUtils import makeEfdClient, getEfdData"
   ]
  },
  {
   "cell_type": "code",
   "execution_count": null,
   "id": "18e2dbef-4506-4132-8b5e-0031fd4b2e49",
   "metadata": {
    "execution": {
     "iopub.execute_input": "2025-06-15T01:10:55.898214Z",
     "iopub.status.busy": "2025-06-15T01:10:55.897619Z",
     "iopub.status.idle": "2025-06-15T01:10:56.884322Z",
     "shell.execute_reply": "2025-06-15T01:10:56.883846Z",
     "shell.execute_reply.started": "2025-06-15T01:10:55.898192Z"
    }
   },
   "outputs": [],
   "source": [
    "butler = Butler('/repo/embargo', collections=['LSSTCam/raw/all', \n",
    "                                            'LSSTCam/calib/unbounded', 'LSSTCam/runs/nightlyValidation', \n",
    "                                             'LSSTCam/runs/nightlyValidation/20250425/w_2025_17/DM-50157'])\n",
    "instrument = 'LSSTCam'\n",
    "client = makeEfdClient()"
   ]
  },
  {
   "cell_type": "code",
   "execution_count": null,
   "id": "d645f820-c292-4a0e-8410-0ccce1b13b56",
   "metadata": {
    "execution": {
     "iopub.execute_input": "2025-06-15T01:10:59.162437Z",
     "iopub.status.busy": "2025-06-15T01:10:59.161725Z",
     "iopub.status.idle": "2025-06-15T01:10:59.544973Z",
     "shell.execute_reply": "2025-06-15T01:10:59.544495Z",
     "shell.execute_reply.started": "2025-06-15T01:10:59.162417Z"
    }
   },
   "outputs": [],
   "source": [
    "startDay = 20250527\n",
    "endDay = 20250608\n",
    "dayObs = startDay\n",
    "enableDict = {}\n",
    "while dayObs <= endDay:\n",
    "    start = Time(f\"{dayObsIntToString(dayObs)}T12:00:00\")\n",
    "    end = Time(f\"{dayObsIntToString(calcNextDay(dayObs))}T12:00:00\")\n",
    "    states = getEfdData(\n",
    "        client,\n",
    "        \"lsst.sal.MTMount.logevent_summaryState\",\n",
    "        columns=['summaryState'],\n",
    "        begin=start,\n",
    "        end=end\n",
    "    )\n",
    "    enables = states[states['summaryState'] == 2]\n",
    "    print(f\"There were {len(enables)} enable events on {dayObs}\")\n",
    "    enableDict[dayObs] = enables\n",
    "    dayObs = calcNextDay(dayObs)"
   ]
  },
  {
   "cell_type": "code",
   "execution_count": null,
   "id": "53867aa3-364d-4bbd-ad9e-b8c53dfbeb5f",
   "metadata": {
    "execution": {
     "iopub.execute_input": "2025-06-15T01:11:02.728197Z",
     "iopub.status.busy": "2025-06-15T01:11:02.727967Z",
     "iopub.status.idle": "2025-06-15T01:11:02.736921Z",
     "shell.execute_reply": "2025-06-15T01:11:02.736485Z",
     "shell.execute_reply.started": "2025-06-15T01:11:02.728180Z"
    }
   },
   "outputs": [],
   "source": [
    "filename = \"/home/c/cslage/u/LSSTCam/data/pointing_results_rot_dayObs_27may25-08jun25.pkl\"\n",
    "with open(filename, 'rb') as f:\n",
    "    [els, azs, ras, decs, rots, deltaRas, deltaDecs, pressures, temps, hums, times, filters, dayObss] = pkl.load(f)\n",
    "len(els)"
   ]
  },
  {
   "cell_type": "code",
   "execution_count": null,
   "id": "1ea969ab-b40c-42b4-849f-1ba092be6744",
   "metadata": {
    "execution": {
     "iopub.execute_input": "2025-06-15T01:32:46.348878Z",
     "iopub.status.busy": "2025-06-15T01:32:46.348542Z",
     "iopub.status.idle": "2025-06-15T01:32:51.328093Z",
     "shell.execute_reply": "2025-06-15T01:32:51.327555Z",
     "shell.execute_reply.started": "2025-06-15T01:32:46.348860Z"
    }
   },
   "outputs": [],
   "source": [
    "outfilename = \"/home/c/cslage/u/LSSTCam/data/Test_14Jun25.dat\"\n",
    "outfile = open(outfilename, 'w')\n",
    "outfile.write(\"!\" + outfilename + \"\\n\")\n",
    "outfile.write(\"!Simonyi Telescope file,June 14, 2025 \\n\")\n",
    "outfile.write(\": ALTAZ\\n\")\n",
    "outfile.write(\": ROTNR\\n\")\n",
    "outfile.write(\"-30 14 40.2\\n\")\n",
    "lastDayObs = 0\n",
    "for i in range(len(els)):\n",
    "    dayObs = dayObss[i]\n",
    "    enables = enableDict[dayObs]\n",
    "    thisTime = Time(times[i], format='mjd')\n",
    "    if dayObs != lastDayObs:\n",
    "        lastDayObs = dayObs\n",
    "        initialStateChanges = 0\n",
    "        for j in range(len(enables)):\n",
    "            stateChangeTime = Time(enables.index[j])\n",
    "            if thisTime > stateChangeTime:\n",
    "                print(\"Initial\", initialStateChanges, stateChangeTime.isot)\n",
    "                initialStateChanges += 1\n",
    "    if azs[i] > 360.0:\n",
    "        azs[i] -= 360.0\n",
    "    if azs[i] < 0.0:\n",
    "        azs[i] += 360.0\n",
    "    stateChanges = -initialStateChanges\n",
    "    for j in range(len(enables)):\n",
    "        stateChangeTime = Time(enables.index[j])\n",
    "        if thisTime > stateChangeTime:\n",
    "            stateChanges += 1\n",
    "            print(\"Final\", stateChanges, stateChangeTime.isot, thisTime.isot)\n",
    "    outfile.write(f\"{azs[i]:.9f}\\t{els[i]:.9f}\\t{dayObs}\\t{thisTime.isot}  {stateChanges}\\n\")\n",
    "outfile.write(\"END\\n\")\n",
    "outfile.close()\n",
    "\n"
   ]
  },
  {
   "cell_type": "code",
   "execution_count": null,
   "id": "b9061cde-6027-4d76-8066-7b557854d677",
   "metadata": {
    "execution": {
     "iopub.execute_input": "2025-06-15T01:25:36.453265Z",
     "iopub.status.busy": "2025-06-15T01:25:36.452874Z",
     "iopub.status.idle": "2025-06-15T01:25:36.456618Z",
     "shell.execute_reply": "2025-06-15T01:25:36.456196Z",
     "shell.execute_reply.started": "2025-06-15T01:25:36.453246Z"
    }
   },
   "outputs": [],
   "source": [
    "len(enables)"
   ]
  },
  {
   "cell_type": "code",
   "execution_count": null,
   "id": "858936e4-bc71-4473-8045-f89a607dda3e",
   "metadata": {},
   "outputs": [],
   "source": []
  }
 ],
 "metadata": {
  "kernelspec": {
   "display_name": "LSST",
   "language": "python",
   "name": "lsst"
  },
  "language_info": {
   "codemirror_mode": {
    "name": "ipython",
    "version": 3
   },
   "file_extension": ".py",
   "mimetype": "text/x-python",
   "name": "python",
   "nbconvert_exporter": "python",
   "pygments_lexer": "ipython3",
   "version": "3.12.11"
  }
 },
 "nbformat": 4,
 "nbformat_minor": 5
}
