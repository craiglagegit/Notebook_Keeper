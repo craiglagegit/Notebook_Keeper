{
 "cells": [
  {
   "cell_type": "code",
   "execution_count": null,
   "id": "8a4d4cf3-0ef9-41e2-a40e-5c8cd9ab6bd2",
   "metadata": {
    "execution": {
     "iopub.execute_input": "2025-05-13T18:36:51.250484Z",
     "iopub.status.busy": "2025-05-13T18:36:51.250356Z",
     "iopub.status.idle": "2025-05-13T18:36:59.395157Z",
     "shell.execute_reply": "2025-05-13T18:36:59.394512Z",
     "shell.execute_reply.started": "2025-05-13T18:36:51.250469Z"
    }
   },
   "outputs": [],
   "source": [
    "import numpy as np\n",
    "import matplotlib.pyplot as plt\n",
    "from lsst.daf.butler import Butler\n",
    "from lsst.ip.isr import IsrTaskLSST, IsrTaskLSSTConfig\n",
    "from lsst.summit.utils.plotting import plot"
   ]
  },
  {
   "cell_type": "code",
   "execution_count": null,
   "id": "bf821410-28f1-4b0a-84aa-fdec2e577015",
   "metadata": {
    "execution": {
     "iopub.execute_input": "2025-05-13T18:36:59.396894Z",
     "iopub.status.busy": "2025-05-13T18:36:59.395988Z",
     "iopub.status.idle": "2025-05-13T18:37:00.261254Z",
     "shell.execute_reply": "2025-05-13T18:37:00.260778Z",
     "shell.execute_reply.started": "2025-05-13T18:36:59.396866Z"
    }
   },
   "outputs": [],
   "source": [
    "butler = Butler('/repo/embargo', collections=['LSSTCam/raw/all', \n",
    "                                            'LSSTCam/calib/unbounded', 'LSSTCam/runs/nightlyValidation',\n",
    "                                              'LSSTCam/runs/nightlyValidation/20250425/w_2025_17/DM-50157'])"
   ]
  },
  {
   "cell_type": "code",
   "execution_count": null,
   "id": "0001b5d6-2b90-4f5a-a3ed-2c7948174cce",
   "metadata": {
    "execution": {
     "iopub.execute_input": "2025-05-13T18:37:00.262053Z",
     "iopub.status.busy": "2025-05-13T18:37:00.261897Z",
     "iopub.status.idle": "2025-05-13T18:37:00.292825Z",
     "shell.execute_reply": "2025-05-13T18:37:00.292427Z",
     "shell.execute_reply.started": "2025-05-13T18:37:00.262037Z"
    }
   },
   "outputs": [],
   "source": [
    "isrConfig = IsrTaskLSSTConfig()\n",
    "isrConfig.doLinearize=False\n",
    "isrConfig.doAssembleCcd=True\n",
    "isrConfig.doBias=False\n",
    "isrConfig.doVariance=False\n",
    "isrConfig.doCrosstalk=False\n",
    "isrConfig.doBrighterFatter=False\n",
    "isrConfig.doDark=False\n",
    "isrConfig.doFlat=False\n",
    "isrConfig.doDefect=False\n",
    "isrConfig.doNanMasking=False\n",
    "isrConfig.doInterpolate=False\n",
    "isrConfig.doSaturation=True\n",
    "isrConfig.doBootstrap=False\n",
    "isrConfig.doApplyGains=True\n",
    "isrConfig.doDeferredCharge=False\n",
    "isrTask = IsrTaskLSST(config=isrConfig)"
   ]
  },
  {
   "cell_type": "code",
   "execution_count": null,
   "id": "a1de27c4-a502-46d8-9987-fca73b6a99ef",
   "metadata": {
    "execution": {
     "iopub.execute_input": "2025-05-13T18:37:00.294621Z",
     "iopub.status.busy": "2025-05-13T18:37:00.294486Z",
     "iopub.status.idle": "2025-05-13T18:37:03.483403Z",
     "shell.execute_reply": "2025-05-13T18:37:03.482682Z",
     "shell.execute_reply.started": "2025-05-13T18:37:00.294607Z"
    }
   },
   "outputs": [],
   "source": [
    "instrument = 'LSSTCam'\n",
    "expId = 2025051100591\n",
    "detector = 76\n",
    "exp = butler.get('raw', detector=detector, exposure=expId, instrument=instrument)\n",
    "ptc = butler.get('ptc', detector=detector, exposure=expId, instrument=instrument)\n",
    "mData = exp.getMetadata()\n",
    "print(mData['HVBIAS'], mData['BSSVBS'])\n",
    "isrResult = isrTask.run(exp, ptc=ptc)\n"
   ]
  },
  {
   "cell_type": "code",
   "execution_count": null,
   "id": "19d071f5-416b-40ea-a80d-0c2724d33383",
   "metadata": {},
   "outputs": [],
   "source": [
    "x = plot(isrResult.exposure, stretch='ccs')"
   ]
  },
  {
   "cell_type": "code",
   "execution_count": null,
   "id": "6082ad79-99c8-47ed-bec3-aca92e1e14f0",
   "metadata": {},
   "outputs": [],
   "source": []
  }
 ],
 "metadata": {
  "kernelspec": {
   "display_name": "LSST",
   "language": "python",
   "name": "lsst"
  },
  "language_info": {
   "codemirror_mode": {
    "name": "ipython",
    "version": 3
   },
   "file_extension": ".py",
   "mimetype": "text/x-python",
   "name": "python",
   "nbconvert_exporter": "python",
   "pygments_lexer": "ipython3",
   "version": "3.12.10"
  }
 },
 "nbformat": 4,
 "nbformat_minor": 5
}
