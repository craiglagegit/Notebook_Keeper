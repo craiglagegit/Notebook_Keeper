{
 "cells": [
  {
   "cell_type": "markdown",
   "metadata": {},
   "source": [
    "## LSSTCam search for low-level persistence.\n",
    "\n",
    "Run E1586 had images with a series of saturated spots, and one test\\\n",
    "was to follow this with a 100 second dark.  Faint after-images could be seen\\\n",
    "in this long dark with the CCS image viewer.  This notebook analyzes one\\\n",
    "of these images 20241023-165 to try to quantify the amount of persistence.\n",
    "\n",
    "Craig Lage - 23-Oct-24"
   ]
  },
  {
   "cell_type": "code",
   "execution_count": null,
   "metadata": {
    "execution": {
     "iopub.execute_input": "2024-10-23T19:17:26.832111Z",
     "iopub.status.busy": "2024-10-23T19:17:26.831803Z",
     "iopub.status.idle": "2024-10-23T19:17:32.194162Z",
     "shell.execute_reply": "2024-10-23T19:17:32.193706Z",
     "shell.execute_reply.started": "2024-10-23T19:17:26.832095Z"
    },
    "tags": []
   },
   "outputs": [],
   "source": [
    "import numpy as np\n",
    "import matplotlib.pyplot as plt\n",
    "from lsst.daf.butler import Butler\n",
    "from lsst.ip.isr import IsrTask, IsrTaskConfig\n",
    "from lsst.summit.utils.plotting import plot"
   ]
  },
  {
   "cell_type": "code",
   "execution_count": null,
   "metadata": {
    "execution": {
     "iopub.execute_input": "2024-10-23T19:17:32.195603Z",
     "iopub.status.busy": "2024-10-23T19:17:32.195034Z",
     "iopub.status.idle": "2024-10-23T19:17:32.784628Z",
     "shell.execute_reply": "2024-10-23T19:17:32.784137Z",
     "shell.execute_reply.started": "2024-10-23T19:17:32.195588Z"
    },
    "tags": []
   },
   "outputs": [],
   "source": [
    "butler = Butler('embargo_new', collections=['LSSTCam/raw/all', \n",
    "                                            'LSSTCam/calib/unbounded'])"
   ]
  },
  {
   "cell_type": "markdown",
   "metadata": {},
   "source": [
    "## First, get a list of exposures"
   ]
  },
  {
   "cell_type": "code",
   "execution_count": null,
   "metadata": {
    "execution": {
     "iopub.execute_input": "2024-10-23T19:17:32.785397Z",
     "iopub.status.busy": "2024-10-23T19:17:32.785260Z",
     "iopub.status.idle": "2024-10-23T19:17:32.818014Z",
     "shell.execute_reply": "2024-10-23T19:17:32.817457Z",
     "shell.execute_reply.started": "2024-10-23T19:17:32.785383Z"
    },
    "jupyter": {
     "outputs_hidden": true
    },
    "tags": []
   },
   "outputs": [],
   "source": [
    "dayObs = 20241023\n",
    "instrument = \"LSSTCam\"\n",
    "\n",
    "exposureList = []\n",
    "for record in butler.registry.queryDimensionRecords(\"exposure\", \n",
    "                    where=f\"exposure.day_obs={dayObs} and instrument='LSSTCam'\"):\n",
    "    exposureList.append([record.id, record])\n",
    "exposureList.sort(key=lambda x: x[0])\n",
    "for [id,record] in exposureList:\n",
    "    print(record.id, record.observation_type, record.exposure_time, record.physical_filter)\n"
   ]
  },
  {
   "cell_type": "markdown",
   "metadata": {},
   "source": [
    "## Define a simple ISR\n",
    "### Just overscan subtraction and bias subtraction."
   ]
  },
  {
   "cell_type": "code",
   "execution_count": null,
   "metadata": {
    "execution": {
     "iopub.execute_input": "2024-10-23T19:17:32.819217Z",
     "iopub.status.busy": "2024-10-23T19:17:32.818902Z",
     "iopub.status.idle": "2024-10-23T19:17:32.845303Z",
     "shell.execute_reply": "2024-10-23T19:17:32.844746Z",
     "shell.execute_reply.started": "2024-10-23T19:17:32.819202Z"
    },
    "tags": []
   },
   "outputs": [],
   "source": [
    "isrConfig = IsrTaskConfig()\n",
    "isrConfig.doLinearize=False\n",
    "isrConfig.doOverscan=True\n",
    "isrConfig.overscan.fitType=\"MEDIAN_PER_ROW\"\n",
    "isrConfig.overscan.doParallelOverscan=True\n",
    "isrConfig.doAssembleCcd=True\n",
    "isrConfig.doBias=False\n",
    "isrConfig.doVariance=False\n",
    "isrConfig.doCrosstalk=False\n",
    "isrConfig.doBrighterFatter=False\n",
    "isrConfig.doDark=False\n",
    "isrConfig.doStrayLight=False\n",
    "isrConfig.doFlat=False\n",
    "isrConfig.doFringe=False\n",
    "isrConfig.doApplyGains=True\n",
    "isrConfig.usePtcGains=False\n",
    "isrConfig.doDefect=False\n",
    "isrConfig.doNanMasking=True\n",
    "isrConfig.doInterpolate=False\n",
    "isrConfig.doSaturation=False\n",
    "isrConfig.doSaturationInterpolation=False\n",
    "isrTask = IsrTask(config=isrConfig)"
   ]
  },
  {
   "cell_type": "markdown",
   "metadata": {},
   "source": [
    "## Run the ISR and look at the result\n",
    "### With the CCS stretch, you can see faint ghosts of the saturated spots."
   ]
  },
  {
   "cell_type": "code",
   "execution_count": null,
   "metadata": {
    "execution": {
     "iopub.execute_input": "2024-10-23T19:17:34.996669Z",
     "iopub.status.busy": "2024-10-23T19:17:34.996341Z",
     "iopub.status.idle": "2024-10-23T19:17:40.483297Z",
     "shell.execute_reply": "2024-10-23T19:17:40.482913Z",
     "shell.execute_reply.started": "2024-10-23T19:17:34.996651Z"
    },
    "tags": []
   },
   "outputs": [],
   "source": [
    "%matplotlib inline\n",
    "expId = 2024102300165\n",
    "detector = 84  # R21/S10\n",
    "instrument = 'LSSTCam'\n",
    "exp = butler.get('raw', detector=detector, exposure=expId, instrument=instrument)\n",
    "isrResult = isrTask.run(exp) # This runs the ISR\n",
    "x = plot(isrResult.exposure, stretch='ccs')\n",
    "plt.savefig(f\"/home/c/cslage/u/LSSTCam/images/LSSTCam_{detector}_{expId}.png\")"
   ]
  },
  {
   "cell_type": "markdown",
   "metadata": {},
   "source": [
    "## First, just plot a stripe through the top row of spots.\n",
    "###  There is too much noise and the spots are not visible"
   ]
  },
  {
   "cell_type": "code",
   "execution_count": null,
   "metadata": {
    "execution": {
     "iopub.execute_input": "2024-10-23T19:18:44.840484Z",
     "iopub.status.busy": "2024-10-23T19:18:44.840194Z",
     "iopub.status.idle": "2024-10-23T19:18:45.004450Z",
     "shell.execute_reply": "2024-10-23T19:18:45.004063Z",
     "shell.execute_reply.started": "2024-10-23T19:18:44.840470Z"
    }
   },
   "outputs": [],
   "source": [
    "plt.plot(isrResult.exposure.image.array[2900, :])\n",
    "plt.xlabel(\"X pixel\")\n",
    "plt.ylabel(\"Flux (e-)\")\n",
    "plt.savefig(f\"/home/c/cslage/u/LSSTCam/images/Slice_Thru_Spots_{detector}_{expId}.png\")"
   ]
  },
  {
   "cell_type": "markdown",
   "metadata": {},
   "source": [
    "## Next, try averaging over a 100 pixel height.\n",
    "### Then the pixels are faintly visible."
   ]
  },
  {
   "cell_type": "code",
   "execution_count": null,
   "metadata": {
    "execution": {
     "iopub.execute_input": "2024-10-23T19:19:05.953600Z",
     "iopub.status.busy": "2024-10-23T19:19:05.953314Z",
     "iopub.status.idle": "2024-10-23T19:19:06.116745Z",
     "shell.execute_reply": "2024-10-23T19:19:06.116292Z",
     "shell.execute_reply.started": "2024-10-23T19:19:05.953586Z"
    }
   },
   "outputs": [],
   "source": [
    "plt.plot(np.median(isrResult.exposure.image.array[2900:3000, :], axis=0))\n",
    "plt.xlabel(\"X pixel\")\n",
    "plt.ylabel(\"Flux (e-)\")\n",
    "plt.savefig(f\"/home/c/cslage/u/LSSTCam/images/Vertically_Averaged_Slice_Thru_Spots_{detector}_{expId}.png\")"
   ]
  },
  {
   "cell_type": "markdown",
   "metadata": {},
   "source": [
    "## Then run a 20 pixel moving average in the X-direction.\n",
    "### This averages down the noise further and now you can see the spots."
   ]
  },
  {
   "cell_type": "code",
   "execution_count": null,
   "metadata": {
    "execution": {
     "iopub.execute_input": "2024-10-23T19:19:28.822727Z",
     "iopub.status.busy": "2024-10-23T19:19:28.822424Z",
     "iopub.status.idle": "2024-10-23T19:19:28.963542Z",
     "shell.execute_reply": "2024-10-23T19:19:28.963154Z",
     "shell.execute_reply.started": "2024-10-23T19:19:28.822713Z"
    }
   },
   "outputs": [],
   "source": [
    "vertical_average = np.median(isrResult.exposure.image.array[2900:3000, :], axis=0)\n",
    "width = 20\n",
    "horizontal_and_vertical_average = np.convolve(vertical_average, np.ones(width), 'valid') / width\n",
    "plt.plot(horizontal_and_vertical_average)\n",
    "plt.xlabel(\"X pixel\")\n",
    "plt.ylabel(\"Flux (e-)\")\n",
    "plt.savefig(f\"/home/c/cslage/u/LSSTCam/images/Horizontally_and_Vertically_Averaged_Slice_Thru_Spots_{detector}_{expId}.png\")"
   ]
  },
  {
   "cell_type": "code",
   "execution_count": null,
   "metadata": {},
   "outputs": [],
   "source": []
  }
 ],
 "metadata": {
  "kernelspec": {
   "display_name": "LSST",
   "language": "python",
   "name": "lsst"
  },
  "language_info": {
   "codemirror_mode": {
    "name": "ipython",
    "version": 3
   },
   "file_extension": ".py",
   "mimetype": "text/x-python",
   "name": "python",
   "nbconvert_exporter": "python",
   "pygments_lexer": "ipython3",
   "version": "3.11.9"
  }
 },
 "nbformat": 4,
 "nbformat_minor": 4
}
