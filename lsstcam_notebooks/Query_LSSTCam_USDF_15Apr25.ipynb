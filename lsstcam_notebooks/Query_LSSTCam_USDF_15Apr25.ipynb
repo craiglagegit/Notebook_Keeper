{
 "cells": [
  {
   "cell_type": "markdown",
   "metadata": {},
   "source": [
    "## Queries - LSSTCam\n",
    "\n",
    "In this notebook, we show how to query the LSSTCam repository\\\n",
    "and view the resulting images.\\\n",
    "\n",
    "Craig Lage - 15-Apr_25"
   ]
  },
  {
   "cell_type": "code",
   "execution_count": null,
   "metadata": {
    "execution": {
     "iopub.execute_input": "2025-06-27T00:51:22.939868Z",
     "iopub.status.busy": "2025-06-27T00:51:22.939653Z",
     "iopub.status.idle": "2025-06-27T00:51:31.392530Z",
     "shell.execute_reply": "2025-06-27T00:51:31.391792Z",
     "shell.execute_reply.started": "2025-06-27T00:51:22.939852Z"
    },
    "tags": []
   },
   "outputs": [],
   "source": [
    "import numpy as np\n",
    "import matplotlib.pyplot as plt\n",
    "import astropy.io.fits as pf\n",
    "from lsst.daf.butler import Butler\n",
    "from lsst.ip.isr import IsrTask, IsrTaskConfig\n",
    "from lsst.summit.utils.plotting import plot\n",
    "import lsst.afw.cameraGeom.utils as camGeomUtils\n",
    "import lsst.summit.utils.butlerUtils as butlerUtils\n",
    "import lsst.afw.math as afwMath\n",
    "import lsst.afw.display as afwDisplay"
   ]
  },
  {
   "cell_type": "code",
   "execution_count": null,
   "metadata": {
    "execution": {
     "iopub.execute_input": "2025-06-27T00:51:31.394945Z",
     "iopub.status.busy": "2025-06-27T00:51:31.393807Z",
     "iopub.status.idle": "2025-06-27T00:51:32.476767Z",
     "shell.execute_reply": "2025-06-27T00:51:32.475999Z",
     "shell.execute_reply.started": "2025-06-27T00:51:31.394914Z"
    },
    "tags": []
   },
   "outputs": [],
   "source": [
    "butler = Butler('/repo/embargo', collections=['LSSTCam/raw/all', \n",
    "                                            'LSSTCam/calib/unbounded', 'LSSTCam/runs/nightlyValidation',\n",
    "                                              'LSSTCam/runs/nightlyValidation/20250425/w_2025_17/DM-50157'])\n",
    "instrument = 'LSSTCam'"
   ]
  },
  {
   "cell_type": "code",
   "execution_count": null,
   "metadata": {
    "execution": {
     "iopub.execute_input": "2025-06-27T00:52:04.997228Z",
     "iopub.status.busy": "2025-06-27T00:52:04.996997Z",
     "iopub.status.idle": "2025-06-27T00:52:06.092186Z",
     "shell.execute_reply": "2025-06-27T00:52:06.091662Z",
     "shell.execute_reply.started": "2025-06-27T00:52:04.997210Z"
    }
   },
   "outputs": [],
   "source": [
    "expId = 2025061900310\n",
    "detector =94\n",
    "instrument = 'LSSTCam'\n",
    "mData = butler.get('raw.metadata', detector=detector, exposure=expId, instrument=instrument)\n",
    "for key in mData.keys():\n",
    "    print(key, mData[key])"
   ]
  },
  {
   "cell_type": "code",
   "execution_count": null,
   "metadata": {
    "execution": {
     "iopub.execute_input": "2025-05-05T23:17:51.881864Z",
     "iopub.status.busy": "2025-05-05T23:17:51.880941Z",
     "iopub.status.idle": "2025-05-05T23:17:54.388267Z",
     "shell.execute_reply": "2025-05-05T23:17:54.387774Z",
     "shell.execute_reply.started": "2025-05-05T23:17:51.881846Z"
    }
   },
   "outputs": [],
   "source": [
    "expId = 2025042800381\n",
    "raw = butler.get('raw', detector=139, exposure=expId)"
   ]
  },
  {
   "cell_type": "code",
   "execution_count": null,
   "metadata": {
    "execution": {
     "iopub.execute_input": "2025-05-24T08:07:43.380655Z",
     "iopub.status.busy": "2025-05-24T08:07:43.380442Z",
     "iopub.status.idle": "2025-05-24T08:07:44.397365Z",
     "shell.execute_reply": "2025-05-24T08:07:44.396869Z",
     "shell.execute_reply.started": "2025-05-24T08:07:43.380639Z"
    }
   },
   "outputs": [],
   "source": [
    "expId = 2025052300370\n",
    "calexp2 = butler.get('preliminary_visit_image', detector=150, visit=expId, instrument=instrument)"
   ]
  },
  {
   "cell_type": "code",
   "execution_count": null,
   "metadata": {
    "execution": {
     "iopub.execute_input": "2025-05-24T08:07:06.818080Z",
     "iopub.status.busy": "2025-05-24T08:07:06.817750Z",
     "iopub.status.idle": "2025-05-24T08:07:13.283890Z",
     "shell.execute_reply": "2025-05-24T08:07:13.283414Z",
     "shell.execute_reply.started": "2025-05-24T08:07:06.818054Z"
    }
   },
   "outputs": [],
   "source": [
    "x = plot(calexp, stretch='ccs')"
   ]
  },
  {
   "cell_type": "code",
   "execution_count": null,
   "metadata": {
    "execution": {
     "iopub.execute_input": "2025-05-24T08:08:03.890248Z",
     "iopub.status.busy": "2025-05-24T08:08:03.890022Z",
     "iopub.status.idle": "2025-05-24T08:08:10.354374Z",
     "shell.execute_reply": "2025-05-24T08:08:10.353899Z",
     "shell.execute_reply.started": "2025-05-24T08:08:03.890232Z"
    }
   },
   "outputs": [],
   "source": [
    "x = plot(calexp2, stretch='ccs')"
   ]
  },
  {
   "cell_type": "code",
   "execution_count": null,
   "metadata": {
    "execution": {
     "iopub.execute_input": "2025-05-14T03:08:16.138732Z",
     "iopub.status.busy": "2025-05-14T03:08:16.138522Z",
     "iopub.status.idle": "2025-05-14T03:08:16.291985Z",
     "shell.execute_reply": "2025-05-14T03:08:16.291582Z",
     "shell.execute_reply.started": "2025-05-14T03:08:16.138717Z"
    }
   },
   "outputs": [],
   "source": [
    "plt.title(f\"Satellite streak {expId}, Detector 139, Y=3000\")\n",
    "plt.plot(calexp.image.array[3000, 1000:3000])\n",
    "plt.xlabel(\"X (pixels)\")\n",
    "plt.ylabel(\"Flux (electrons)\")\n",
    "plt.savefig(f\"/home/c/cslage/u/LSSTCam/images/Satellite_Streak_Profile_{expId}_139.png\")"
   ]
  },
  {
   "cell_type": "code",
   "execution_count": null,
   "metadata": {
    "execution": {
     "iopub.execute_input": "2025-04-15T14:29:01.034057Z",
     "iopub.status.busy": "2025-04-15T14:29:01.033330Z",
     "iopub.status.idle": "2025-04-15T14:29:01.809065Z",
     "shell.execute_reply": "2025-04-15T14:29:01.808608Z",
     "shell.execute_reply.started": "2025-04-15T14:29:01.034040Z"
    },
    "jupyter": {
     "outputs_hidden": true
    }
   },
   "outputs": [],
   "source": [
    "butler = butlerUtils.makeDefaultButler(\"LSSTCam\")\n",
    "coll = butler.collections\n",
    "for item in coll:\n",
    "    print(item)"
   ]
  },
  {
   "cell_type": "code",
   "execution_count": null,
   "metadata": {
    "execution": {
     "iopub.execute_input": "2025-04-15T15:36:12.703705Z",
     "iopub.status.busy": "2025-04-15T15:36:12.703417Z",
     "iopub.status.idle": "2025-04-15T15:36:12.708309Z",
     "shell.execute_reply": "2025-04-15T15:36:12.707916Z",
     "shell.execute_reply.started": "2025-04-15T15:36:12.703690Z"
    }
   },
   "outputs": [],
   "source": [
    "plot?"
   ]
  },
  {
   "cell_type": "code",
   "execution_count": null,
   "metadata": {},
   "outputs": [],
   "source": []
  }
 ],
 "metadata": {
  "kernelspec": {
   "display_name": "LSST",
   "language": "python",
   "name": "lsst"
  },
  "language_info": {
   "codemirror_mode": {
    "name": "ipython",
    "version": 3
   },
   "file_extension": ".py",
   "mimetype": "text/x-python",
   "name": "python",
   "nbconvert_exporter": "python",
   "pygments_lexer": "ipython3",
   "version": "3.12.11"
  }
 },
 "nbformat": 4,
 "nbformat_minor": 4
}
