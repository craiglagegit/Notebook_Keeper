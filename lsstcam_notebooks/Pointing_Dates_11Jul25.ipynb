{
 "cells": [
  {
   "cell_type": "markdown",
   "metadata": {},
   "source": [
    "# LSSTCam pointing errors\n",
    "## Looking at offsets more days.\n",
    "\n",
    "Craig Lage - 11-Jul-25"
   ]
  },
  {
   "cell_type": "code",
   "execution_count": null,
   "metadata": {
    "execution": {
     "iopub.execute_input": "2025-07-14T20:48:07.773705Z",
     "iopub.status.busy": "2025-07-14T20:48:07.772957Z",
     "iopub.status.idle": "2025-07-14T20:48:16.356091Z",
     "shell.execute_reply": "2025-07-14T20:48:16.355383Z",
     "shell.execute_reply.started": "2025-07-14T20:48:07.773684Z"
    },
    "tags": []
   },
   "outputs": [],
   "source": [
    "import numpy as np\n",
    "import pickle as pkl\n",
    "import matplotlib.pyplot as plt\n",
    "from astropy.time import Time, TimeDelta\n",
    "from lsst.daf.butler import Butler\n",
    "import lsst.summit.utils.butlerUtils as butlerUtils\n",
    "from lsst.summit.utils.utils import dayObsIntToString\n",
    "from lsst.summit.utils.efdUtils import calcNextDay\n",
    "from lsst.summit.utils.tmaUtils import TMAEventMaker"
   ]
  },
  {
   "cell_type": "code",
   "execution_count": null,
   "metadata": {},
   "outputs": [],
   "source": [
    "butler = Butler('/repo/embargo', collections=['LSSTCam/raw/all', \n",
    "                                            'LSSTCam/calib/unbounded', 'LSSTCam/runs/nightlyValidation',\n",
    "                                              'LSSTCam/runs/nightlyValidation/20250425/w_2025_17/DM-50157'])\n",
    "instrument = 'LSSTCam'\n",
    "eventMaker = TMAEventMaker()"
   ]
  },
  {
   "cell_type": "markdown",
   "metadata": {},
   "source": [
    "## Running this at the summit, because USDF is still not working well"
   ]
  },
  {
   "cell_type": "code",
   "execution_count": null,
   "metadata": {},
   "outputs": [],
   "source": [
    "startDay = 20250629\n",
    "endDay = 20250713\n",
    "\n",
    "els = []\n",
    "azs = []\n",
    "ras = []\n",
    "decs = []\n",
    "deltaRas = []\n",
    "deltaDecs = []\n",
    "\n",
    "filters = []\n",
    "pressures = []\n",
    "temps = []\n",
    "hums = []\n",
    "times = []\n",
    "dayObs = startDay\n",
    "expIds = []\n",
    "while dayObs <= endDay:\n",
    "    exposureList = []\n",
    "    for record in butler.registry.queryDimensionRecords(\"exposure\", \n",
    "                where=f\"exposure.day_obs={dayObs} and instrument='LSSTCam'\"):\n",
    "        exposureList.append([record.id, record])\n",
    "    exposureList.sort(key=lambda x: x[0])\n",
    "    print(len(exposureList))\n",
    "    for [id,record] in exposureList:\n",
    "        if record.observation_type not in ['acq', 'science']:\n",
    "            continue\n",
    "        try:\n",
    "            calExp = butler.get('preliminary_visit_image', detector=94, visit=record.id, instrument=instrument)\n",
    "            rawExp = butler.get('raw', detector=94, exposure=record.id, instrument=instrument)\n",
    "            md = rawExp.getMetadata()\n",
    "            cWcs = calExp.getWcs()\n",
    "            if cWcs == None:\n",
    "                #print(f\"{record.id} had no cWcs.\")\n",
    "                continue\n",
    "            rWcs = rawExp.getWcs()\n",
    "            rawSkyCenter = rWcs.getSkyOrigin()\n",
    "            calExpSkyCenter = cWcs.pixelToSky(rWcs.getPixelOrigin())\n",
    "            ra = calExpSkyCenter.getRa().asDegrees()\n",
    "            dec = calExpSkyCenter.getDec().asDegrees()\n",
    "            expIds.append(record.id)\n",
    "            els.append(md['ELSTART'])\n",
    "            azs.append(md['AZSTART'])\n",
    "            filters.append(md['FILTBAND'])\n",
    "            pressures.append(md['PRESSURE'])\n",
    "            temps.append(md['AIRTEMP'])\n",
    "            hums.append(md['HUMIDITY'])\n",
    "            times.append((md['MJD-BEG'] + md['MJD-END']) / 2.0)\n",
    "            ras.append(ra)\n",
    "            decs.append(dec)\n",
    "            #print(ra, dec)\n",
    "            deltaRa = rawSkyCenter.getRa().asArcseconds() - calExpSkyCenter.getRa().asArcseconds()\n",
    "            deltaDec = rawSkyCenter.getDec().asArcseconds() - calExpSkyCenter.getDec().asArcseconds()\n",
    "            deltaRas.append(deltaRa)\n",
    "            deltaDecs.append(deltaDec)\n",
    "            #print(record.id, deltaRa, deltaDec)\n",
    "        except:\n",
    "            print(f\"{record.id} failed!\")\n",
    "            continue\n",
    "    print(dayObs, len(ras))\n",
    "    dayObs = calcNextDay(dayObs)\n",
    "\n",
    "filename = \"/home/c/cslage/u/MTMount/mount_plots/pointing_results_14jul25.pkl\"\n",
    "with open(filename, 'wb') as f:\n",
    "    pkl.dump([expIds, els, azs, ras, decs, deltaRas, deltaDecs, pressures, temps, hums, times, filters], f)\n"
   ]
  },
  {
   "cell_type": "code",
   "execution_count": null,
   "metadata": {
    "execution": {
     "iopub.execute_input": "2025-07-15T01:44:28.167541Z",
     "iopub.status.busy": "2025-07-15T01:44:28.166892Z",
     "iopub.status.idle": "2025-07-15T01:44:28.176846Z",
     "shell.execute_reply": "2025-07-15T01:44:28.176394Z",
     "shell.execute_reply.started": "2025-07-15T01:44:28.167521Z"
    }
   },
   "outputs": [],
   "source": [
    "filename = \"/home/c/cslage/u/MTMount/mount_plots/pointing_results_14jul25.pkl\"\n",
    "with open(filename, 'rb') as f:\n",
    "    [expIds, els, azs, ras, decs, deltaRas, deltaDecs, pressures, temps, hums, times, filters] = pkl.load(f)\n",
    "len(els)"
   ]
  },
  {
   "cell_type": "code",
   "execution_count": null,
   "metadata": {
    "execution": {
     "iopub.execute_input": "2025-07-15T01:47:30.046529Z",
     "iopub.status.busy": "2025-07-15T01:47:30.046062Z",
     "iopub.status.idle": "2025-07-15T01:47:30.050847Z",
     "shell.execute_reply": "2025-07-15T01:47:30.050064Z",
     "shell.execute_reply.started": "2025-07-15T01:47:30.046499Z"
    }
   },
   "outputs": [],
   "source": [
    "startDay = 20250629\n",
    "int(startDay * 1E5)"
   ]
  },
  {
   "cell_type": "code",
   "execution_count": null,
   "metadata": {
    "execution": {
     "iopub.execute_input": "2025-07-15T01:51:24.995284Z",
     "iopub.status.busy": "2025-07-15T01:51:24.994933Z",
     "iopub.status.idle": "2025-07-15T01:51:25.753525Z",
     "shell.execute_reply": "2025-07-15T01:51:25.753075Z",
     "shell.execute_reply.started": "2025-07-15T01:51:24.995265Z"
    }
   },
   "outputs": [],
   "source": [
    "startDay = 20250629\n",
    "endDay = 20250713\n",
    "dayObs = startDay\n",
    "\n",
    "while dayObs <= endDay:\n",
    "    separation = []\n",
    "    for i in range(len(ras)):\n",
    "        if (expIds[i] > dayObs * 1E5) and (expIds[i] < calcNextDay(dayObs) * 1E5):\n",
    "            sep = np.sqrt(((deltaRas[i] * np.cos(decs[i] * np.pi / 180.0))**2 + deltaDecs[i]**2))\n",
    "            separation.append(sep)\n",
    "\n",
    "    print(dayObs, len(separation), np.median(separation))\n",
    "    dayObs = calcNextDay(dayObs)\n"
   ]
  },
  {
   "cell_type": "code",
   "execution_count": null,
   "metadata": {
    "execution": {
     "iopub.execute_input": "2025-07-15T02:21:22.299792Z",
     "iopub.status.busy": "2025-07-15T02:21:22.299546Z",
     "iopub.status.idle": "2025-07-15T02:21:22.956912Z",
     "shell.execute_reply": "2025-07-15T02:21:22.956401Z",
     "shell.execute_reply.started": "2025-07-15T02:21:22.299776Z"
    }
   },
   "outputs": [],
   "source": [
    "change = 20250708 * 1E5\n",
    "\n",
    "separation1 = []\n",
    "separation2 = []\n",
    "for i in range(len(ras)):\n",
    "    if (expIds[i] > change):\n",
    "        sep = np.sqrt(((deltaRas[i] * np.cos(decs[i] * np.pi / 180.0))**2 + deltaDecs[i]**2))\n",
    "        separation2.append(sep)\n",
    "    else:\n",
    "        sep = np.sqrt(((deltaRas[i] * np.cos(decs[i] * np.pi / 180.0))**2 + deltaDecs[i]**2))\n",
    "        separation1.append(sep)\n",
    "plt.hist(separation1, bins = 100, range=(0,100), alpha=0.5, label=\"Before 20250708\")\n",
    "plt.hist(separation2, bins = 100, range=(0,100), alpha=0.5, label=\"After 20250708\")\n",
    "plt.xlim(0, 100)\n",
    "plt.legend()\n",
    "plt.title(f\"On sky pointing model error, {startDay}-{endDay}\")\n",
    "plt.xlabel(\"Error (arseconds)\")\n",
    "plt.savefig(\"/home/c/cslage/u/MTMount/mount_plots/OnSky_Pointing_Errors_20250629-20250713.png\")"
   ]
  },
  {
   "cell_type": "code",
   "execution_count": null,
   "metadata": {
    "execution": {
     "iopub.execute_input": "2025-07-15T02:27:14.370732Z",
     "iopub.status.busy": "2025-07-15T02:27:14.370397Z",
     "iopub.status.idle": "2025-07-15T02:27:14.373760Z",
     "shell.execute_reply": "2025-07-15T02:27:14.373364Z",
     "shell.execute_reply.started": "2025-07-15T02:27:14.370714Z"
    }
   },
   "outputs": [],
   "source": [
    "from astropy.coordinates import AltAz, ICRS, EarthLocation, Angle, FK5, SkyCoord\n",
    "import astropy.units as u\n",
    "from lsst.obs.lsst.translators.lsst import SIMONYI_LOCATION\n",
    "wavelengths = {'u':3671, 'g':4827, 'r':6223, 'i':7546, 'z':8691, 'y':9712}"
   ]
  },
  {
   "cell_type": "code",
   "execution_count": null,
   "metadata": {
    "execution": {
     "iopub.execute_input": "2025-07-15T04:15:17.728431Z",
     "iopub.status.busy": "2025-07-15T04:15:17.727907Z",
     "iopub.status.idle": "2025-07-15T04:15:31.042228Z",
     "shell.execute_reply": "2025-07-15T04:15:31.041760Z",
     "shell.execute_reply.started": "2025-07-15T04:15:17.728412Z"
    }
   },
   "outputs": [],
   "source": [
    "deltaAzs = []\n",
    "deltaEls = []\n",
    "good_azs = []\n",
    "good_els = []\n",
    "true_azs = []\n",
    "true_els = []\n",
    "bad_azs = []\n",
    "bad_els = []\n",
    "for index in range(len(ras)):\n",
    "    if (expIds[index] < change):\n",
    "        bad_azs.append(azs[index])\n",
    "        bad_els.append(els[index])\n",
    "        continue\n",
    "    skyLocation = SkyCoord(ras[index]*u.deg, decs[index]*u.deg)\n",
    "    time = Time(times[index], format='mjd', scale='tai')\n",
    "    pressure = pressures[index] * u.pascal\n",
    "    temperature = temps[index] * u.Celsius\n",
    "    hum = hums[index]\n",
    "    wl = wavelengths[filters[index]] * u.angstrom\n",
    "    altAz = AltAz(obstime=time, location=SIMONYI_LOCATION, pressure=pressure, \n",
    "                 temperature=temperature, relative_humidity=hum, obswl=wl)\n",
    "    obsAltAz = skyLocation.transform_to(altAz)\n",
    "    true_az = Angle(obsAltAz.az.deg * u.deg)\n",
    "    wrapped_true_az = true_az.wrap_at(180.0 * u.deg)\n",
    "    true_azs.append(wrapped_true_az.deg)\n",
    "    az = Angle(azs[index] * u.deg)\n",
    "    wrapped_az = az.wrap_at(180.0 * u.deg)\n",
    "    deltaAz = az.deg - true_az.deg\n",
    "\n",
    "    if deltaAz > 360.0:\n",
    "        deltaAz -= 360.0\n",
    "    if deltaAz < -180.0:\n",
    "        deltaAz += 360.0\n",
    "\n",
    "    deltaAz *= 3600.0 * np.cos(obsAltAz.alt.rad)\n",
    "    deltaEl = (els[index] - obsAltAz.alt.deg) * 3600.0\n",
    "    true_els.append(obsAltAz.alt.deg)\n",
    "    deltaAzs.append(deltaAz)\n",
    "    deltaEls.append(deltaEl)\n",
    "    good_azs.append(wrapped_az.deg)\n",
    "    good_els.append(els[index])\n",
    "    \n",
    "len(good_els)        "
   ]
  },
  {
   "cell_type": "code",
   "execution_count": null,
   "metadata": {
    "execution": {
     "iopub.execute_input": "2025-07-15T03:03:53.569202Z",
     "iopub.status.busy": "2025-07-15T03:03:53.568876Z",
     "iopub.status.idle": "2025-07-15T03:03:54.201260Z",
     "shell.execute_reply": "2025-07-15T03:03:54.200792Z",
     "shell.execute_reply.started": "2025-07-15T03:03:53.569186Z"
    }
   },
   "outputs": [],
   "source": [
    "from scipy.optimize import minimize\n",
    "def FOM(params, args):\n",
    "    fom = 0.0\n",
    "    [good_azs, deltaEls] = args\n",
    "    [amp, off] = params\n",
    "    for i in range(len(good_azs)):\n",
    "        if abs(deltaEls[i]) > 450.0:\n",
    "            continue\n",
    "        model = off + amp * np.sin((good_azs[i]) * np.pi / 180.0)\n",
    "        fom += np.square(model - deltaEls[i])\n",
    "    return fom\n",
    "\n",
    "args = [good_azs, deltaEls]\n",
    "x0 = [400.0, 0.0]\n",
    "result = minimize(FOM, x0, args=args, method='Powell')\n",
    "result"
   ]
  },
  {
   "cell_type": "code",
   "execution_count": null,
   "metadata": {
    "execution": {
     "iopub.execute_input": "2025-07-15T03:03:54.712316Z",
     "iopub.status.busy": "2025-07-15T03:03:54.712101Z",
     "iopub.status.idle": "2025-07-15T03:03:55.750583Z",
     "shell.execute_reply": "2025-07-15T03:03:55.750094Z",
     "shell.execute_reply.started": "2025-07-15T03:03:54.712301Z"
    }
   },
   "outputs": [],
   "source": [
    "from scipy.optimize import minimize\n",
    "def FOM(params, args):\n",
    "    fom = 0.0\n",
    "    [good_azs, deltaAzs] = args\n",
    "    [amp, off] = params\n",
    "    for i in range(len(good_azs)):\n",
    "        if abs(deltaAzs[i]) > 450.0:\n",
    "            continue\n",
    "        model = off + amp * np.cos((good_azs[i]) * np.pi / 180.0)\n",
    "        fom += np.square(model - deltaAzs[i])\n",
    "    return fom\n",
    "\n",
    "args2 = [good_azs, deltaAzs]\n",
    "x0 = [400.0, 0.0]\n",
    "result2 = minimize(FOM, x0, args=args2, method='Powell')\n",
    "result2"
   ]
  },
  {
   "cell_type": "code",
   "execution_count": null,
   "metadata": {
    "execution": {
     "iopub.execute_input": "2025-07-15T03:03:57.835494Z",
     "iopub.status.busy": "2025-07-15T03:03:57.835160Z",
     "iopub.status.idle": "2025-07-15T03:03:59.891448Z",
     "shell.execute_reply": "2025-07-15T03:03:59.890972Z",
     "shell.execute_reply.started": "2025-07-15T03:03:57.835476Z"
    }
   },
   "outputs": [],
   "source": [
    "[amp, off] = result.x\n",
    "[amp2, off2] = result2.x\n",
    "xs = np.linspace(-180.0, 180.0, 200)\n",
    "ys = off + amp * np.sin((xs) * np.pi / 180.0)\n",
    "ys2 = off2 + amp2 * np.cos((xs) * np.pi / 180.0)\n",
    "\n",
    "plt.figure(figsize=(8,8))\n",
    "plt.suptitle(\"LSST Delta AltAz 2025-07-08 - 2025-07-13\")\n",
    "plt.subplots_adjust(hspace=0.3, wspace=0.7)\n",
    "plt.subplot(2,2,1)\n",
    "p1 = plt.scatter(good_els, deltaEls, c=good_azs, cmap=plt.cm.coolwarm)\n",
    "cb1 = plt.colorbar(p1)\n",
    "cb1.set_label('Az')\n",
    "plt.xlabel('El')\n",
    "plt.xlim(0,90)\n",
    "plt.ylabel('Delta El arcsec')\n",
    "plt.subplot(2,2,2)\n",
    "p2 = plt.scatter(good_azs, deltaEls,c=good_els, cmap=plt.cm.coolwarm)\n",
    "cb2 = plt.colorbar(p2)\n",
    "cb2.set_label('El')\n",
    "plt.plot(xs, ys, ls = '--', color='black')\n",
    "plt.text(-100,250,f\"deltaEl={off:.1f}+\\n{amp:.1f}*sin(az)\")\n",
    "plt.xlabel('Az')\n",
    "plt.xlim(-180, 180)\n",
    "plt.ylabel('Delta El arcsec')\n",
    "plt.subplot(2,2,3)\n",
    "p3 = plt.scatter(good_els, deltaAzs, c=good_azs, cmap=plt.cm.coolwarm)\n",
    "cb3 = plt.colorbar(p3)\n",
    "cb3.set_label('Az')\n",
    "plt.xlabel('El')\n",
    "plt.xlim(0,90)\n",
    "plt.ylabel('Delta Az*cos(El) arcsec')\n",
    "plt.subplot(2,2,4)\n",
    "p4 = plt.scatter(good_azs, deltaAzs,c=good_els, cmap=plt.cm.coolwarm)\n",
    "plt.plot(xs, ys2, ls = '--', color='black')\n",
    "plt.text(-100,-100,f\"deltaAz={off2:.1f}+\\n{amp2:.1f}*cos(az)\")\n",
    "cb4 = plt.colorbar(p4)\n",
    "cb4.set_label('El')\n",
    "plt.xlabel('Az')\n",
    "plt.xlim(-180, 180)\n",
    "plt.ylabel('Delta Az*cos(El) arcsec')\n",
    "plt.savefig(\"/home/c/cslage/u/MTMount/mount_plots/Delta_AltAz_14Jul25.png\")\n"
   ]
  },
  {
   "cell_type": "code",
   "execution_count": null,
   "metadata": {
    "execution": {
     "iopub.execute_input": "2025-07-15T02:56:52.667972Z",
     "iopub.status.busy": "2025-07-15T02:56:52.667619Z",
     "iopub.status.idle": "2025-07-15T02:56:52.988224Z",
     "shell.execute_reply": "2025-07-15T02:56:52.987501Z",
     "shell.execute_reply.started": "2025-07-15T02:56:52.667953Z"
    }
   },
   "outputs": [],
   "source": [
    "fig, ax = plt.subplots(subplot_kw={'projection': 'polar'})\n",
    "ax.scatter(np.array(good_azs) * np.pi / 180.0, 90.0 - np.array(good_els), marker = 'x')\n",
    "ax.set_rmax(60.0)\n",
    "r_values = [10.0, 20.0, 30.0, 40.0, 50.0]\n",
    "r_labels = [80.0, 70.0, 60.0, 50.0, 40.0]\n",
    "ax.set_rgrids(r_values, r_labels)\n",
    "ax.grid(True)\n",
    "plt.savefig(\"/home/c/cslage/u/LSSTCam/data/Sky_Coverage_2025-07-08_2025-07-13.png\")"
   ]
  },
  {
   "cell_type": "code",
   "execution_count": null,
   "metadata": {
    "execution": {
     "iopub.execute_input": "2025-07-15T04:16:02.864764Z",
     "iopub.status.busy": "2025-07-15T04:16:02.864141Z",
     "iopub.status.idle": "2025-07-15T04:16:03.260341Z",
     "shell.execute_reply": "2025-07-15T04:16:03.259911Z",
     "shell.execute_reply.started": "2025-07-15T04:16:02.864745Z"
    }
   },
   "outputs": [],
   "source": [
    "fig, ax = plt.subplots(subplot_kw={'projection': 'polar'})\n",
    "ax.scatter(np.array(bad_azs) * np.pi / 180.0, 90.0 - np.array(bad_els), marker = 'x')\n",
    "ax.set_rmax(60.0)\n",
    "r_values = [10.0, 20.0, 30.0, 40.0, 50.0]\n",
    "r_labels = [80.0, 70.0, 60.0, 50.0, 40.0]\n",
    "ax.set_rgrids(r_values, r_labels)\n",
    "ax.grid(True)\n",
    "plt.savefig(\"/home/c/cslage/u/LSSTCam/data/Sky_Coverage_Bad_2025-07-08_2025-07-13.png\")"
   ]
  },
  {
   "cell_type": "markdown",
   "metadata": {},
   "source": [
    "# Generate a tpoint input file with these errors"
   ]
  },
  {
   "cell_type": "code",
   "execution_count": null,
   "metadata": {
    "execution": {
     "iopub.execute_input": "2025-07-15T03:04:53.762897Z",
     "iopub.status.busy": "2025-07-15T03:04:53.762647Z",
     "iopub.status.idle": "2025-07-15T03:04:53.979525Z",
     "shell.execute_reply": "2025-07-15T03:04:53.979023Z",
     "shell.execute_reply.started": "2025-07-15T03:04:53.762882Z"
    }
   },
   "outputs": [],
   "source": [
    "outfilename = \"/home/c/cslage/u/LSSTCam/data/Tpoint_Input_14Jul25.dat\"\n",
    "outfile = open(outfilename, 'w')\n",
    "outfile.write(\"!\" + outfilename + \"\\n\")\n",
    "outfile.write(\"!Simonyi Telescope file,July 14, 2025 \\n\")\n",
    "outfile.write(\": ALTAZ\\n\")\n",
    "outfile.write(\": ROTNR\\n\")\n",
    "outfile.write(\"-30 14 40.2\\n\")\n",
    "\n",
    "for i in range(len(good_els)):\n",
    "    outfile.write(f\"{true_azs[i]:.9f}\\t{true_els[i]:.6f}\\t{good_azs[i]:.9f}\\t{good_els[i]:.9f}\\n\")\n",
    "outfile.write(\"END\\n\")\n",
    "outfile.close()\n",
    "\n"
   ]
  },
  {
   "cell_type": "code",
   "execution_count": null,
   "metadata": {
    "execution": {
     "iopub.execute_input": "2025-07-15T03:02:26.453309Z",
     "iopub.status.busy": "2025-07-15T03:02:26.452559Z",
     "iopub.status.idle": "2025-07-15T03:02:26.500208Z",
     "shell.execute_reply": "2025-07-15T03:02:26.499288Z",
     "shell.execute_reply.started": "2025-07-15T03:02:26.453277Z"
    },
    "jupyter": {
     "outputs_hidden": true
    }
   },
   "outputs": [],
   "source": [
    "for i in range(len(good_azs)):\n",
    "    print(good_azs[i], true_azs[i])"
   ]
  },
  {
   "cell_type": "code",
   "execution_count": null,
   "metadata": {},
   "outputs": [],
   "source": []
  }
 ],
 "metadata": {
  "kernelspec": {
   "display_name": "LSST",
   "language": "python",
   "name": "lsst"
  },
  "language_info": {
   "codemirror_mode": {
    "name": "ipython",
    "version": 3
   },
   "file_extension": ".py",
   "mimetype": "text/x-python",
   "name": "python",
   "nbconvert_exporter": "python",
   "pygments_lexer": "ipython3",
   "version": "3.12.11"
  }
 },
 "nbformat": 4,
 "nbformat_minor": 4
}
