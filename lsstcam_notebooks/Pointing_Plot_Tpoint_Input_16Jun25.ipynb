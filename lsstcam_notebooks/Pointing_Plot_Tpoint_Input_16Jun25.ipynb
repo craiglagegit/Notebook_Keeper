{
 "cells": [
  {
   "cell_type": "markdown",
   "metadata": {},
   "source": [
    "# LSSTCam pointing errors\n",
    "\n",
    "Craig Lage - 16-Apr-25"
   ]
  },
  {
   "cell_type": "code",
   "execution_count": null,
   "metadata": {
    "execution": {
     "iopub.execute_input": "2025-06-17T22:06:44.878122Z",
     "iopub.status.busy": "2025-06-17T22:06:44.877835Z",
     "iopub.status.idle": "2025-06-17T22:06:44.973084Z",
     "shell.execute_reply": "2025-06-17T22:06:44.972695Z",
     "shell.execute_reply.started": "2025-06-17T22:06:44.878107Z"
    },
    "tags": []
   },
   "outputs": [],
   "source": [
    "import os\n",
    "import numpy as np\n",
    "import pickle as pkl\n",
    "import pandas as pd\n",
    "import matplotlib.pyplot as plt\n",
    "from matplotlib.backends.backend_pdf import PdfPages\n",
    "from astropy.time import Time, TimeDelta\n",
    "from lsst.daf.butler import Butler\n",
    "import lsst.summit.utils.butlerUtils as butlerUtils\n",
    "from lsst.summit.utils.utils import dayObsIntToString\n",
    "from lsst.summit.utils.efdUtils import calcNextDay\n",
    "from lsst.summit.utils.efdUtils import makeEfdClient, getEfdData"
   ]
  },
  {
   "cell_type": "code",
   "execution_count": null,
   "metadata": {
    "execution": {
     "iopub.execute_input": "2025-06-17T21:55:36.347656Z",
     "iopub.status.busy": "2025-06-17T21:55:36.347328Z",
     "iopub.status.idle": "2025-06-17T21:55:36.351451Z",
     "shell.execute_reply": "2025-06-17T21:55:36.351050Z",
     "shell.execute_reply.started": "2025-06-17T21:55:36.347640Z"
    }
   },
   "outputs": [],
   "source": [
    "def getTpointFile(filename):\n",
    "    data = np.loadtxt(filename, skiprows=5, usecols=(0,1,2,3), comments='END')\n",
    "    df = pd.DataFrame(data, columns = ['trueAzs', 'trueEls', 'azs', 'els'])\n",
    "    df['deltaAzs'] = (df['azs'] - df['trueAzs']) * 3600\n",
    "    df['deltaEls'] = (df['els'] - df['trueEls']) * 3600\n",
    "    #df['deltaAzs'] = (df['trueAzs'] - df['azs']) * 3600\n",
    "    #df['deltaEls'] = (df['trueEls'] - df['els']) * 3600\n",
    "    azs = df['azs'].values\n",
    "    trueAzs = df['trueAzs'].values\n",
    "    els = df['els'].values\n",
    "    trueEls = df['trueEls'].values\n",
    "    deltaAzs = df['deltaAzs'].values\n",
    "    deltaEls = df['deltaEls'].values\n",
    "    return azs, els, trueAzs, trueEls, deltaAzs, deltaEls"
   ]
  },
  {
   "cell_type": "code",
   "execution_count": null,
   "metadata": {
    "execution": {
     "iopub.execute_input": "2025-06-18T01:21:20.917696Z",
     "iopub.status.busy": "2025-06-18T01:21:20.917478Z",
     "iopub.status.idle": "2025-06-18T01:21:21.438509Z",
     "shell.execute_reply": "2025-06-18T01:21:21.438061Z",
     "shell.execute_reply.started": "2025-06-18T01:21:20.917680Z"
    }
   },
   "outputs": [],
   "source": [
    "filename = \"/home/c/cslage/u/LSSTCam/data/Tpoint_Input_20250528_1.dat\"\n",
    "azs, els, trueAzs, trueEls, deltaAzs, deltaEls = getTpointFile(filename)\n",
    "\n",
    "plt.figure(figsize=(12,8))\n",
    "plt.subplots_adjust(hspace=0.3, wspace=0.3)\n",
    "plt.subplot(1,2,1, aspect=1)\n",
    "plt.scatter(azs, (np.array(trueAzs) + np.array(deltaAzs) / 3600.0))\n",
    "plt.subplot(1,2,2, aspect=1)\n",
    "plt.scatter(els, (np.array(trueEls) + np.array(deltaEls) / 3600.0))\n"
   ]
  },
  {
   "cell_type": "code",
   "execution_count": null,
   "metadata": {
    "execution": {
     "iopub.execute_input": "2025-06-17T21:50:32.975062Z",
     "iopub.status.busy": "2025-06-17T21:50:32.974747Z",
     "iopub.status.idle": "2025-06-17T21:50:33.084206Z",
     "shell.execute_reply": "2025-06-17T21:50:33.083773Z",
     "shell.execute_reply.started": "2025-06-17T21:50:32.975047Z"
    }
   },
   "outputs": [],
   "source": [
    "from scipy.optimize import minimize\n",
    "def FOM1(params, args):\n",
    "    fom = 0.0\n",
    "    [azs, deltaEls] = args\n",
    "    [amp, off] = params\n",
    "    for i in range(len(azs)):\n",
    "        if abs(deltaEls[i]) > 450.0:\n",
    "            continue\n",
    "        model = off + amp * np.sin((azs[i]) * np.pi / 180.0)\n",
    "        err = np.square(model - deltaEls[i])\n",
    "        fom += err\n",
    "    return fom\n",
    "\n",
    "args = [azs, deltaEls]\n",
    "x0 = [400.0, 0.0]\n",
    "result1 = minimize(FOM1, x0, args=args, method='Powell')\n",
    "result1"
   ]
  },
  {
   "cell_type": "code",
   "execution_count": null,
   "metadata": {},
   "outputs": [],
   "source": []
  },
  {
   "cell_type": "code",
   "execution_count": null,
   "metadata": {
    "execution": {
     "iopub.execute_input": "2025-06-17T21:50:36.484581Z",
     "iopub.status.busy": "2025-06-17T21:50:36.484350Z",
     "iopub.status.idle": "2025-06-17T21:50:37.235827Z",
     "shell.execute_reply": "2025-06-17T21:50:37.235367Z",
     "shell.execute_reply.started": "2025-06-17T21:50:36.484564Z"
    }
   },
   "outputs": [],
   "source": [
    "from scipy.optimize import minimize\n",
    "def FOM2(params, args):\n",
    "    fom = 0.0\n",
    "    [azs, deltaAzs] = args\n",
    "    [amp, off] = params\n",
    "    for i in range(len(azs)):\n",
    "        if abs(deltaAzs[i]) > 450.0:\n",
    "            continue\n",
    "        model = off + amp * np.cos((azs[i]) * np.pi / 180.0)\n",
    "        err = np.square(model - deltaAzs[i] * np.cos((els[i]) * np.pi / 180.0))\n",
    "        fom += err\n",
    "    return fom\n",
    "\n",
    "args2 = [azs, deltaAzs]\n",
    "x0 = [400.0, 100.0]\n",
    "result2 = minimize(FOM2, x0, args=args2, method='Powell')\n",
    "result2"
   ]
  },
  {
   "cell_type": "code",
   "execution_count": null,
   "metadata": {},
   "outputs": [],
   "source": [
    "def errs1(amp1, off1, azs, deltaEls):\n",
    "    errs = []\n",
    "    for i in range(len(azs)):\n",
    "        model = off1 + amp1 * np.sin((azs[i]) * np.pi / 180.0)\n",
    "        err = abs(model - deltaEls[i])\n",
    "        errs.append(err)\n",
    "    return errs\n",
    "\n",
    "def errs2(amp2, off2, azs, deltaAzs):\n",
    "    errs = []\n",
    "    for i in range(len(azs)):\n",
    "        model = off2 + amp2 * np.cos((azs[i]) * np.pi / 180.0)\n",
    "        err = abs(model - deltaAzs[i])\n",
    "        errs.append(err)\n",
    "    return errs\n"
   ]
  },
  {
   "cell_type": "code",
   "execution_count": null,
   "metadata": {},
   "outputs": [],
   "source": [
    "[amp1, off1] = result1.x\n",
    "[amp2, off2] = result2.x\n",
    "elErrs = errs1(amp1, off1, azs, deltaEls)\n",
    "azErrs = errs2(amp2, off2, azs, deltaAzs)"
   ]
  },
  {
   "cell_type": "code",
   "execution_count": null,
   "metadata": {},
   "outputs": [],
   "source": [
    "plt.subplot(1,2,1)\n",
    "plt.hist(elErrs, bins = 50)\n",
    "#plt.xlim(0, 5000)\n",
    "plt.subplot(1,2,2)\n",
    "plt.hist(azErrs, bins = 50)\n",
    "#plt.xlim(0, 5000)"
   ]
  },
  {
   "cell_type": "code",
   "execution_count": null,
   "metadata": {},
   "outputs": [],
   "source": [
    "def trim(azs, els, deltaAzs, deltaEls, trueAzs, trueEls, rots, times, dayObss, off1, amp1, off2, amp2, limit=100):\n",
    "    elErrs = errs1(amp1, off1, azs, deltaEls)\n",
    "    azErrs = errs2(amp2, off2, azs, deltaAzs)\n",
    "    newAzs = []; newEls = []; newDeltaAzs = []; newDeltaEls = []; newRots = []\n",
    "    newTrueAzs = []; newTrueEls = []; newTimes = []; newDayObss = []\n",
    "    for i in range(len(azs)):\n",
    "        #if (azErrs[i] < limit) and (elErrs[i] < limit):\n",
    "        if (elErrs[i] < limit):\n",
    "            newAzs.append(azs[i]); newEls.append(els[i]); newRots.append(rots[i])\n",
    "            newDeltaAzs.append(deltaAzs[i]); newDeltaEls.append(deltaEls[i])\n",
    "            newTrueAzs.append(trueAzs[i]); newTrueEls.append(trueEls[i]); newTimes.append(times[i])\n",
    "            newDayObss.append(dayObss[i]\n",
    "    print(len(newEls), len(newDeltaEls), len(newAzs), len(newDeltaAzs), len(newTrueAzs), len(newTrueEls))\n",
    "    return newAzs, newEls, newDeltaAzs, newDeltaEls, newTrueAzs, newTrueEls, newRots, newTimes, newDayObss\n",
    "        \n",
    "    "
   ]
  },
  {
   "cell_type": "code",
   "execution_count": null,
   "metadata": {},
   "outputs": [],
   "source": [
    "azs, els, deltaAzs, deltaEls, trueAzs, trueEls, rots, times, dayObss = trim(azs, els, deltaAzs, deltaEls, trueAzs, trueEls, rots, times, dayObss, off1, amp1, off2, amp2, limit=40)"
   ]
  },
  {
   "cell_type": "code",
   "execution_count": null,
   "metadata": {},
   "outputs": [],
   "source": [
    "print(len(trueAzs), len(trueEls), len(els), len(deltaEls), len(azs), len(deltaAzs), len(times), len(dayObss))"
   ]
  },
  {
   "cell_type": "code",
   "execution_count": null,
   "metadata": {
    "execution": {
     "iopub.execute_input": "2025-06-18T01:20:04.734073Z",
     "iopub.status.busy": "2025-06-18T01:20:04.733740Z",
     "iopub.status.idle": "2025-06-18T01:20:05.762834Z",
     "shell.execute_reply": "2025-06-18T01:20:05.762320Z",
     "shell.execute_reply.started": "2025-06-18T01:20:04.734055Z"
    }
   },
   "outputs": [],
   "source": [
    "filename = \"/home/c/cslage/u/LSSTCam/data/Tpoint_Input_20250528_1.dat\"\n",
    "azs, els, trueAzs, trueEls, deltaAzs, deltaEls = getTpointFile(filename)\n",
    "args = [azs, deltaEls]\n",
    "x0 = [400.0, 0.0]\n",
    "result1 = minimize(FOM1, x0, args=args, method='Powell')\n",
    "result1\n",
    "\n",
    "args2 = [azs, deltaAzs]\n",
    "x0 = [400.0, 100.0]\n",
    "result2 = minimize(FOM2, x0, args=args2, method='Powell')\n",
    "result2\n",
    "\n",
    "[amp1, off1] = result1.x\n",
    "[amp2, off2] = result2.x\n",
    "xs = np.linspace(0, 360, 200)\n",
    "ys1 = off1 + amp1 * np.sin((xs) * np.pi / 180.0)\n",
    "ys2 = off2 + amp2 * np.cos((xs) * np.pi / 180.0)\n",
    "deltaAzsCosEl = np.array(deltaAzs) * np.cos(np.array(els) * np.pi / 180.0)\n",
    "\n",
    "plt.figure(figsize=(8,8))\n",
    "plt.suptitle(\"LSSTCam Delta AltAz 20250527-20250608\")\n",
    "plt.subplots_adjust(hspace=0.3, wspace=0.7)\n",
    "plt.subplot(2,2,1)\n",
    "p1 = plt.scatter(els, deltaEls, c=azs, cmap=plt.cm.coolwarm)\n",
    "cb1 = plt.colorbar(p1)\n",
    "cb1.set_label('Az')\n",
    "plt.xlabel('El')\n",
    "plt.xlim(30, 85)\n",
    "plt.ylabel('Delta El arcsec')\n",
    "plt.subplot(2,2,2)\n",
    "p2 = plt.scatter(azs, deltaEls,c=els, cmap=plt.cm.coolwarm)\n",
    "cb2 = plt.colorbar(p2)\n",
    "cb2.set_label('El')\n",
    "plt.plot(xs, ys1, ls = '--', color='black')\n",
    "plt.text(-100,-50,f\"deltaEl={off1:.1f}+\\n{amp1:.1f}*sin(az)\")\n",
    "plt.xlabel('Az')\n",
    "plt.xlim(0, 360)\n",
    "plt.ylabel('Delta El arcsec')\n",
    "plt.subplot(2,2,3)\n",
    "p3 = plt.scatter(els, deltaAzsCosEl, c=azs, cmap=plt.cm.coolwarm)\n",
    "cb3 = plt.colorbar(p3)\n",
    "cb3.set_label('Az')\n",
    "plt.xlabel('El')\n",
    "plt.xlim(30, 85)\n",
    "plt.ylabel('Delta Az*cos(El) arcsec')\n",
    "plt.subplot(2,2,4)\n",
    "p4 = plt.scatter(azs, deltaAzsCosEl,c=els, cmap=plt.cm.coolwarm)\n",
    "plt.plot(xs, ys2, ls = '--', color='black')\n",
    "plt.text(-100,-50,f\"deltaAz={off2:.1f}+\\n{amp2:.1f}*cos(az)\")\n",
    "cb4 = plt.colorbar(p4)\n",
    "cb4.set_label('El')\n",
    "plt.xlabel('Az')\n",
    "plt.xlim(0, 360)\n",
    "plt.ylabel('Delta Az*cos(El) arcsec')\n",
    "#plt.savefig(\"/home/c/cslage/u/LSSTCam/data/Delta_AltAz_27May25-08Jun25.png\")\n"
   ]
  },
  {
   "cell_type": "code",
   "execution_count": null,
   "metadata": {
    "execution": {
     "iopub.execute_input": "2025-06-17T22:14:01.061174Z",
     "iopub.status.busy": "2025-06-17T22:14:01.060893Z",
     "iopub.status.idle": "2025-06-17T22:14:10.546423Z",
     "shell.execute_reply": "2025-06-17T22:14:10.545965Z",
     "shell.execute_reply.started": "2025-06-17T22:14:01.061155Z"
    }
   },
   "outputs": [],
   "source": [
    "files = [[20250527, 0], [20250528, 0], [20250529, 0], [20250531, 0], [20250601, 0], [20250603, 0], \\\n",
    "    [20250604, 0], [20250527, 1], [20250528, 1], [20250529, 1], [20250530, 1], \\\n",
    "    [20250601, 1], [20250608, 1], [20250527, 2], [20250530, 2], [20250608, 2]]\n",
    "pdf = PdfPages(\"/home/c/cslage/u/LSSTCam/data/Delta_AltAz_By_Date.pdf\")\n",
    "fig = plt.figure(figsize=(8,8))\n",
    "for [dayObs, stateChanges] in files:\n",
    "    filename = f\"/home/c/cslage/u/LSSTCam/data/Tpoint_Input_{dayObs}_{stateChanges}.dat\"\n",
    "    azs, els, trueAzs, trueEls, deltaAzs, deltaEls = getTpointFile(filename)\n",
    "    args = [azs, deltaEls]\n",
    "    x0 = [400.0, 0.0]\n",
    "    result1 = minimize(FOM1, x0, args=args, method='Powell')\n",
    "    result1\n",
    "    \n",
    "    args2 = [azs, deltaAzs]\n",
    "    x0 = [400.0, 100.0]\n",
    "    result2 = minimize(FOM2, x0, args=args2, method='Powell')\n",
    "    result2\n",
    "    \n",
    "    [amp1, off1] = result1.x\n",
    "    [amp2, off2] = result2.x\n",
    "    xs = np.linspace(0, 360, 200)\n",
    "    ys1 = off1 + amp1 * np.sin((xs) * np.pi / 180.0)\n",
    "    ys2 = off2 + amp2 * np.cos((xs) * np.pi / 180.0)\n",
    "    deltaAzsCosEl = np.array(deltaAzs) * np.cos(np.array(els) * np.pi / 180.0)\n",
    "    \n",
    "    plt.suptitle(f\"LSSTCam Delta AltAz {dayObs}_{stateChanges}\")\n",
    "    plt.subplots_adjust(hspace=0.3, wspace=0.7)\n",
    "    plt.subplot(2,2,1)\n",
    "    p1 = plt.scatter(els, deltaEls, c=azs, cmap=plt.cm.coolwarm)\n",
    "    cb1 = plt.colorbar(p1)\n",
    "    cb1.set_label('Az')\n",
    "    plt.xlabel('El')\n",
    "    plt.xlim(30, 85)\n",
    "    plt.ylabel('Delta El arcsec')\n",
    "    plt.subplot(2,2,2)\n",
    "    p2 = plt.scatter(azs, deltaEls,c=els, cmap=plt.cm.coolwarm)\n",
    "    cb2 = plt.colorbar(p2)\n",
    "    cb2.set_label('El')\n",
    "    plt.plot(xs, ys1, ls = '--', color='black')\n",
    "    plt.text(20, 200,f\"deltaEl={off1:.1f}+\\n{amp1:.1f}*sin(az)\")\n",
    "    plt.xlabel('Az')\n",
    "    plt.xlim(0, 360)\n",
    "    plt.ylabel('Delta El arcsec')\n",
    "    plt.subplot(2,2,3)\n",
    "    p3 = plt.scatter(els, deltaAzsCosEl, c=azs, cmap=plt.cm.coolwarm)\n",
    "    cb3 = plt.colorbar(p3)\n",
    "    cb3.set_label('Az')\n",
    "    plt.xlabel('El')\n",
    "    plt.xlim(30, 85)\n",
    "    plt.ylabel('Delta Az*cos(El) arcsec')\n",
    "    plt.subplot(2,2,4)\n",
    "    p4 = plt.scatter(azs, deltaAzsCosEl,c=els, cmap=plt.cm.coolwarm)\n",
    "    plt.plot(xs, ys2, ls = '--', color='black')\n",
    "    plt.text(20, 200,f\"deltaAz={off2:.1f}+\\n{amp2:.1f}*cos(az)\")\n",
    "    cb4 = plt.colorbar(p4)\n",
    "    cb4.set_label('El')\n",
    "    plt.xlabel('Az')\n",
    "    plt.xlim(0, 360)\n",
    "    plt.ylabel('Delta Az*cos(El) arcsec')\n",
    "    pdf.savefig(fig)  # saves the current figure into a pdf page\n",
    "    print(f\"Plot for {dayObs}, {stateChanges} finished\")\n",
    "    plt.clf()\n",
    "\n",
    "pdf.close()\n"
   ]
  },
  {
   "cell_type": "code",
   "execution_count": null,
   "metadata": {},
   "outputs": [],
   "source": []
  }
 ],
 "metadata": {
  "kernelspec": {
   "display_name": "LSST",
   "language": "python",
   "name": "lsst"
  },
  "language_info": {
   "codemirror_mode": {
    "name": "ipython",
    "version": 3
   },
   "file_extension": ".py",
   "mimetype": "text/x-python",
   "name": "python",
   "nbconvert_exporter": "python",
   "pygments_lexer": "ipython3",
   "version": "3.12.11"
  }
 },
 "nbformat": 4,
 "nbformat_minor": 4
}
