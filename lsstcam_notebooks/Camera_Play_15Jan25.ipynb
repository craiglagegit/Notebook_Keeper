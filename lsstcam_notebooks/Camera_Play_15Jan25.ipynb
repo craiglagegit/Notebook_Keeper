{
 "cells": [
  {
   "cell_type": "markdown",
   "id": "43f22780-4d9a-412b-95c1-5a6ebf7d0131",
   "metadata": {},
   "source": [
    "# Camera geometry play\n",
    "\n",
    "Craig Lage - 15-Jan-25"
   ]
  },
  {
   "cell_type": "code",
   "execution_count": null,
   "id": "f02ecbd1-246d-413b-8478-5273420aa839",
   "metadata": {},
   "outputs": [],
   "source": [
    "import numpy as np\n",
    "import matplotlib.pyplot as plt\n",
    "import lsst.afw.cameraGeom.utils as camGeomUtils\n",
    "from lsst.afw.cameraGeom import DetectorType\n",
    "from lsst.daf.butler import Butler\n",
    "import lsst.summit.utils.butlerUtils as butlerUtils\n",
    "from lsst.geom import Point2D, radians"
   ]
  },
  {
   "cell_type": "code",
   "execution_count": null,
   "id": "d42ee447-a848-4b66-87f4-e4a16d0096e4",
   "metadata": {},
   "outputs": [],
   "source": [
    "butler = Butler('/repo/main', collections=[\"LSSTCam/raw/all\", \"LSSTCam/calib\"])\n",
    "instrument = 'LSSTCam'\n",
    "camera = butler.get('camera', instrument=instrument)"
   ]
  },
  {
   "cell_type": "markdown",
   "id": "e8590f5f-015a-4879-b7e6-b3f6738389b9",
   "metadata": {},
   "source": [
    "# This gives you the location of a given CCD in the focal plane, in mm.\n",
    "\n",
    "## With this, you could take a given pixel within a given CCD and find the location on the focal plane in mm."
   ]
  },
  {
   "cell_type": "code",
   "execution_count": null,
   "id": "24ec521b-9459-46ea-8f09-97d37660b9a8",
   "metadata": {},
   "outputs": [],
   "source": [
    "ccd = camera['R01_S00']\n",
    "corners = ccd.getCorners(camGeomUtils.FOCAL_PLANE)\n",
    "for corner in corners:\n",
    "    print(corner) # These are in mm, with (0,0) in the camera center"
   ]
  },
  {
   "cell_type": "code",
   "execution_count": null,
   "id": "13528817-35b1-4742-aad5-a23f715c6c8d",
   "metadata": {
    "execution": {
     "iopub.execute_input": "2025-02-02T21:53:57.252915Z",
     "iopub.status.busy": "2025-02-02T21:53:57.252269Z",
     "iopub.status.idle": "2025-02-02T21:53:59.184835Z",
     "shell.execute_reply": "2025-02-02T21:53:59.184376Z",
     "shell.execute_reply.started": "2025-02-02T21:53:57.252899Z"
    }
   },
   "outputs": [],
   "source": [
    "import lsst.afw.cameraGeom.utils as camGeomUtils\n",
    "from lsst.daf.butler import Butler\n",
    "butler = Butler('/repo/main', collections=[\"LSSTCam/raw/all\", \"LSSTCam/calib\"])\n",
    "instrument = 'LSSTCam'\n",
    "camera = butler.get('camera', instrument=instrument)\n",
    "ccd = camera['R01_S00']\n",
    "corners = ccd.getCorners(camGeomUtils.FOCAL_PLANE)\n",
    "for corner in corners:\n",
    "    print(corner) # These are in mm, with (0,0) in the camera center"
   ]
  },
  {
   "cell_type": "markdown",
   "id": "7486d3d8-98b5-4875-baeb-72a4986093b8",
   "metadata": {},
   "source": [
    "# The function below is copied from lsst.afw.cameraGeom.utils, but I had to correct an error.  This correction has been pushed to the main afw code."
   ]
  },
  {
   "cell_type": "code",
   "execution_count": null,
   "id": "5f9cc113-1026-4572-a474-91387c8a9277",
   "metadata": {
    "jupyter": {
     "source_hidden": true
    }
   },
   "outputs": [],
   "source": [
    "def plotFocalPlane(camera, fieldSizeDeg_x=0, fieldSizeDeg_y=None, dx=0.1, dy=0.1, figsize=(10., 10.),\n",
    "                   useIds=False, showFig=True, savePath=None):\n",
    "    \"\"\"Make a plot of the focal plane along with a set points that sample\n",
    "    the field of view.\n",
    "\n",
    "    Parameters\n",
    "    ----------\n",
    "    camera : `lsst.afw.cameraGeom.Camera`\n",
    "        A camera object\n",
    "    fieldSizeDeg_x : `float`\n",
    "        Amount of the field to sample in x in degrees\n",
    "    fieldSizeDeg_y : `float` or `None`\n",
    "        Amount of the field to sample in y in degrees\n",
    "    dx : `float`\n",
    "        Spacing of sample points in x in degrees\n",
    "    dy : `float`\n",
    "        Spacing of sample points in y in degrees\n",
    "    figsize : `tuple` containing two `float`\n",
    "        Matplotlib style tuple indicating the size of the figure in inches\n",
    "    useIds : `bool`\n",
    "        Label detectors by name, not id?\n",
    "    showFig : `bool`\n",
    "        Display the figure on the screen?\n",
    "    savePath : `str` or `None`\n",
    "        If not `None`, save a copy of the figure to this name.\n",
    "    \"\"\"\n",
    "    try:\n",
    "        from matplotlib.patches import Polygon\n",
    "        from matplotlib.collections import PatchCollection\n",
    "        import matplotlib.pyplot as plt\n",
    "    except ImportError:\n",
    "        raise ImportError(\n",
    "            \"Can't run plotFocalPlane: matplotlib has not been set up\")\n",
    "\n",
    "    if fieldSizeDeg_x:\n",
    "        if fieldSizeDeg_y is None:\n",
    "            fieldSizeDeg_y = fieldSizeDeg_x\n",
    "\n",
    "        field_gridx, field_gridy = np.meshgrid(\n",
    "            np.arange(0., fieldSizeDeg_x + dx, dx) - fieldSizeDeg_x/2.,\n",
    "            np.arange(0., fieldSizeDeg_y + dy, dy) - fieldSizeDeg_y/2.)\n",
    "        field_gridx, field_gridy = field_gridx.flatten(), field_gridy.flatten()\n",
    "    else:\n",
    "        field_gridx, field_gridy = [], []\n",
    "\n",
    "    xs = []\n",
    "    ys = []\n",
    "    pcolors = []\n",
    "\n",
    "    # compute focal plane positions corresponding to field angles field_gridx, field_gridy\n",
    "    posFieldAngleList = [Point2D(x*radians, y*radians)\n",
    "                         for x, y in zip(field_gridx, field_gridy)]\n",
    "    posFocalPlaneList = camera.transform(posFieldAngleList, camGeomUtils.FIELD_ANGLE, camGeomUtils.FOCAL_PLANE)\n",
    "    for posFocalPlane in posFocalPlaneList:\n",
    "        xs.append(posFocalPlane.getX())\n",
    "        ys.append(posFocalPlane.getY())\n",
    "        dets = camera.findDetectors(posFocalPlane, camGeomUtils.FOCAL_PLANE)\n",
    "        if len(dets) > 0:\n",
    "            pcolors.append('w')\n",
    "        else:\n",
    "            pcolors.append('k')\n",
    "\n",
    "    colorMap = {DetectorType.SCIENCE: 'b', DetectorType.FOCUS: 'y',\n",
    "                DetectorType.GUIDER: 'g', DetectorType.WAVEFRONT: 'r'}\n",
    "\n",
    "    patches = []\n",
    "    colors = []\n",
    "    plt.figure(figsize=figsize)\n",
    "    ax = plt.gca()\n",
    "    xvals = []\n",
    "    yvals = []\n",
    "    for det in camera:\n",
    "        corners = [(c.getX(), c.getY()) for c in det.getCorners(camGeomUtils.FOCAL_PLANE)]\n",
    "        for corner in corners:\n",
    "            xvals.append(corner[0])\n",
    "            yvals.append(corner[1])\n",
    "        colors.append(colorMap[det.getType()])\n",
    "        patches.append(Polygon(corners, closed=True))\n",
    "        center = det.getOrientation().getFpPosition()\n",
    "        #print(det.getName(), det.getOrientation().getNQuarter())\n",
    "        if det.getName() in ['R04_SW0', 'R04_SW1', 'R40_SW0', 'R40_SW1'] :\n",
    "            text_rotation = 'vertical'\n",
    "        else:\n",
    "            text_rotation = 'horizontal'\n",
    "\n",
    "        ax.text(center.getX(), center.getY(), det.getId() if useIds else det.getName(),\n",
    "                horizontalalignment='center', rotation=text_rotation, rotation_mode='anchor', size=6)\n",
    "\n",
    "    patchCollection = PatchCollection(patches, alpha=0.6, facecolor=colors)\n",
    "    ax.add_collection(patchCollection)\n",
    "    ax.scatter(xs, ys, s=10, alpha=.7, linewidths=0., c=pcolors)\n",
    "    ax.set_xlim(min(xvals) - abs(0.1*min(xvals)),\n",
    "                max(xvals) + abs(0.1*max(xvals)))\n",
    "    ax.set_ylim(min(yvals) - abs(0.1*min(yvals)),\n",
    "                max(yvals) + abs(0.1*max(yvals)))\n",
    "    ax.set_xlabel('Focal Plane X (mm)')\n",
    "    ax.set_ylabel('Focal Plane Y (mm)')\n",
    "    if savePath is not None:\n",
    "        plt.savefig(savePath)\n",
    "    if showFig:\n",
    "        plt.show()\n",
    "\n"
   ]
  },
  {
   "cell_type": "code",
   "execution_count": null,
   "id": "a866b3d6-ee6f-42d0-bbba-dc63ddba1f03",
   "metadata": {},
   "outputs": [],
   "source": [
    "plotFocalPlane(camera,fieldSizeDeg_x=1.0, fieldSizeDeg_y=1.0)"
   ]
  },
  {
   "cell_type": "code",
   "execution_count": null,
   "id": "b716e915-827c-4c20-9e85-65545ab437e8",
   "metadata": {},
   "outputs": [],
   "source": [
    "path = \"/home/c/cslage/u/LSSTCam/images/plotFocalPlane.png\"\n",
    "camGeomUtils.plotFocalPlane(camera,fieldSizeDeg_x=1.0, fieldSizeDeg_y=1.0, savePath=path)\n"
   ]
  },
  {
   "cell_type": "markdown",
   "id": "488db770-c247-4c06-9ed5-4f691a0ab676",
   "metadata": {},
   "source": [
    "# To find the location on the sky of a given pixel, you extract the WCS (World Coordinate System).  If you extract it from the raw image, you get close.  For the best accuracy, extract the WCS from the calexp, which has been corrected using the astrometric solution of the stars in the image."
   ]
  },
  {
   "cell_type": "code",
   "execution_count": null,
   "id": "d62de46d-4140-4862-b820-eadb5737bbca",
   "metadata": {},
   "outputs": [],
   "source": [
    "butler = butlerUtils.makeDefaultButler(\"LSSTComCam\")\n",
    "instrument = 'LSSTComCam'\n",
    "camera = butler.get('camera', instrument=instrument)"
   ]
  },
  {
   "cell_type": "code",
   "execution_count": null,
   "id": "29f91090-ffb8-49eb-8033-307e4a29b081",
   "metadata": {},
   "outputs": [],
   "source": [
    "path = \"/home/c/cslage/u/ComCam/images/plotFocalPlane.png\"\n",
    "camGeomUtils.plotFocalPlane(camera,fieldSizeDeg_x=1.0, fieldSizeDeg_y=1.0, savePath=path)"
   ]
  },
  {
   "cell_type": "code",
   "execution_count": null,
   "id": "b996cbf4-b394-4d08-aecb-5a52f0a2bab5",
   "metadata": {},
   "outputs": [],
   "source": [
    "expId = 2024121100571\n",
    "detector = 4\n",
    "mData = butler.get('raw.metadata', detector=detector, exposure=expId, instrument=instrument)\n",
    "rawExp = butler.get('raw', detector=detector, exposure=expId, instrument=instrument)\n",
    "calExp = butler.get('calexp', detector=detector, visit=expId, instrument=instrument)\n",
    "rWcs = rawExp.getWcs()\n",
    "cWcs = calExp.getWcs()\n",
    "rawSkyCenter = rWcs.getSkyOrigin()\n",
    "print(\"raw\", rWcs)\n",
    "calExpSkyCenter = cWcs.getSkyOrigin()\n",
    "print(\"calExp\", cWcs)\n"
   ]
  },
  {
   "cell_type": "code",
   "execution_count": null,
   "id": "81e88cd4-19df-4f19-a02d-398c35afce33",
   "metadata": {},
   "outputs": [],
   "source": [
    "cWcs.pixelToSky(4000, 4000)"
   ]
  },
  {
   "cell_type": "code",
   "execution_count": null,
   "id": "e516e6f7-6816-40f1-88bd-4b044169b5b7",
   "metadata": {},
   "outputs": [],
   "source": [
    "cWcs.pixelToSky(0, 0)"
   ]
  },
  {
   "cell_type": "code",
   "execution_count": null,
   "id": "7837d356-ae0c-4c57-9f24-3792ba787b3c",
   "metadata": {},
   "outputs": [],
   "source": [
    "rawExp.hasWcs()"
   ]
  },
  {
   "cell_type": "code",
   "execution_count": null,
   "id": "76c20ee7-6dee-4f05-a4e9-289effd30fa8",
   "metadata": {},
   "outputs": [],
   "source": [
    "calExp.getMetadata?"
   ]
  },
  {
   "cell_type": "code",
   "execution_count": null,
   "id": "e7ff35c3-c276-4f21-9466-2b50a80545a5",
   "metadata": {},
   "outputs": [],
   "source": [
    "md = calExp.getMetadata()"
   ]
  },
  {
   "cell_type": "code",
   "execution_count": null,
   "id": "4ab12a01-0877-4a37-8f6b-6b2cab01e745",
   "metadata": {},
   "outputs": [],
   "source": [
    "import lsst.daf.base as dafBase\n",
    "md = dafBase.PropertySet()\n",
    "calExp.setMetadata(md)"
   ]
  },
  {
   "cell_type": "code",
   "execution_count": null,
   "id": "e10a870e-bebf-46fe-b92e-32e8e3952fdd",
   "metadata": {},
   "outputs": [],
   "source": [
    "ref = Point2D(0,0)\n",
    "camGeomUtils.makeFocalPlaneWcs(md,(0.01, 0.01), ref)"
   ]
  },
  {
   "cell_type": "code",
   "execution_count": null,
   "id": "f3491b73-11b7-4d51-a244-c398dd7e216a",
   "metadata": {},
   "outputs": [],
   "source": [
    "cWcs."
   ]
  },
  {
   "cell_type": "code",
   "execution_count": null,
   "id": "c47c153f-7490-4f09-963c-92ca10b8c438",
   "metadata": {},
   "outputs": [],
   "source": [
    "md = cWcs.getFitsMetadata()"
   ]
  },
  {
   "cell_type": "code",
   "execution_count": null,
   "id": "6b969172-ed88-4458-9ec0-2dc1a443e8ae",
   "metadata": {},
   "outputs": [],
   "source": [
    "for key in md.keys():\n",
    "    print(key, md[key])"
   ]
  },
  {
   "cell_type": "code",
   "execution_count": null,
   "id": "e19b1e05-95d7-4b30-8369-0090a83c8672",
   "metadata": {},
   "outputs": [],
   "source": []
  }
 ],
 "metadata": {
  "kernelspec": {
   "display_name": "LSST",
   "language": "python",
   "name": "lsst"
  },
  "language_info": {
   "codemirror_mode": {
    "name": "ipython",
    "version": 3
   },
   "file_extension": ".py",
   "mimetype": "text/x-python",
   "name": "python",
   "nbconvert_exporter": "python",
   "pygments_lexer": "ipython3",
   "version": "3.11.9"
  }
 },
 "nbformat": 4,
 "nbformat_minor": 5
}
