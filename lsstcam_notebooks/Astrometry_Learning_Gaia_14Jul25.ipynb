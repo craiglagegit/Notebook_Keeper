{
 "cells": [
  {
   "cell_type": "markdown",
   "metadata": {},
   "source": [
    "## LSSTCam Astrometry learning with GAIA\n",
    "\n",
    "Craig Lage - 19-May-25"
   ]
  },
  {
   "cell_type": "code",
   "execution_count": null,
   "metadata": {
    "execution": {
     "iopub.execute_input": "2025-07-14T23:15:32.218092Z",
     "iopub.status.busy": "2025-07-14T23:15:32.217751Z",
     "iopub.status.idle": "2025-07-14T23:15:32.221540Z",
     "shell.execute_reply": "2025-07-14T23:15:32.221149Z",
     "shell.execute_reply.started": "2025-07-14T23:15:32.218073Z"
    },
    "tags": []
   },
   "outputs": [],
   "source": [
    "import numpy as np\n",
    "import matplotlib.pyplot as plt\n",
    "from lsst.daf.butler import Butler\n",
    "from astropy.coordinates import AltAz, ICRS, EarthLocation, Angle, FK5, SkyCoord\n",
    "import astropy.units as u\n",
    "from lsst.geom import SpherePoint,Angle,Extent2I,Box2I,Extent2D,Point2D, Point2I\n",
    "from astroquery.gaia import Gaia\n",
    "from lsst.summit.utils.plotting import plot\n",
    "from lsst.obs.lsst import LsstCam\n",
    "from lsst.obs.lsst.cameraTransforms import LsstCameraTransforms"
   ]
  },
  {
   "cell_type": "code",
   "execution_count": null,
   "metadata": {
    "execution": {
     "iopub.execute_input": "2025-07-14T23:14:27.070433Z",
     "iopub.status.busy": "2025-07-14T23:14:27.070198Z",
     "iopub.status.idle": "2025-07-14T23:14:27.076920Z",
     "shell.execute_reply": "2025-07-14T23:14:27.076514Z",
     "shell.execute_reply.started": "2025-07-14T23:14:27.070416Z"
    }
   },
   "outputs": [],
   "source": [
    "def get_stars_focal_plane_gaia(camera, img_detName, ref_detName, stamp_centerX, stamp_centerY, rows, cols, ref_wcs):\n",
    "    # find the ra,dec of the CCD center\n",
    "    img_detector = camera[img_detName]\n",
    "    img_bbox = img_detector.getBBox()\n",
    "    nx,ny = img_bbox.getDimensions()\n",
    "    lct = LsstCameraTransforms(camera,img_detName)\n",
    "    llfpX, llfpY = lct.ccdPixelToFocalMm(0, 0, img_detName)\n",
    "    llfpX = llfpX * 100 + int(nx/2) # Convert to pixels and recenter\n",
    "    llfpY = llfpY * 100 + int(ny/2) # Convert to pixels and recenter\n",
    "    urfpX, urfpY = lct.ccdPixelToFocalMm(nx, ny, img_detName)\n",
    "    urfpX = urfpX * 100 + int(nx/2) # Convert to pixels and recenter\n",
    "    urfpY = urfpY * 100 + int(ny/2) # Convert to pixels and recenter\n",
    "    if llfpX > urfpX:\n",
    "        llfpX, urfpX = urfpX, llfpX\n",
    "    if llfpY > urfpY:\n",
    "        llfpY, urfpY = urfpY, llfpY\n",
    "\n",
    "    ref_detector = camera[ref_detName]\n",
    "    ref_bbox = ref_detector.getBBox()\n",
    "    ref_llfpX, ref_llfpY = lct.ccdPixelToFocalMm(0, 0, ref_detName)\n",
    "    ref_llfpX = ref_llfpX * 100 + int(nx/2) # Convert to pixels and recenter\n",
    "    ref_llfpY = ref_llfpY * 100 + int(ny/2) # Convert to pixels and recenter\n",
    "\n",
    "    ccd_bbox = Box2I(Point2I(llfpX - ref_llfpX + stamp_centerX - cols/2, llfpY - ref_llfpY + stamp_centerY - rows/2), \n",
    "                     Point2I(llfpX - ref_llfpX + stamp_centerX + cols/2, llfpY - ref_llfpY + stamp_centerY + rows/2))\n",
    "\n",
    "    Gaia.MAIN_GAIA_TABLE = \"gaiadr3.gaia_source\" \n",
    "\n",
    "    \n",
    "    ra_stamp,dec_stamp = ref_wcs.pixelToSky(stamp_centerX - ref_llfpX + llfpX, stamp_centerY - ref_llfpY + llfpY)\n",
    "    print(\"In Gaia\", stamp_centerX - ref_llfpX + llfpX, stamp_centerY - ref_llfpY + llfpY)\n",
    "    rad = u.Quantity(0.30, u.deg) # 0.04 degrees is enough to cover a 400x400 stamp\n",
    "    # Could be reduced for smaller stamps.\n",
    "    cols = ['ra', 'dec', 'phot_g_mean_mag', 'designation']\n",
    "    \n",
    "    coord = SkyCoord(ra=ra_stamp.asDegrees(), dec=dec_stamp.asDegrees(), unit=(u.degree, u.degree), frame='icrs')\n",
    "    Gaia.ROW_LIMIT = 50000\n",
    "    r = Gaia.query_object_async(coordinate=coord, radius=rad, columns=cols)\n",
    "    \n",
    "    gaia_table = r.to_pandas()\n",
    "    # using the wcs to locate the stars inside the CCD minus npixedge\n",
    "    ccdx,ccdy = ref_wcs.skyToPixelArray(gaia_table['ra'],gaia_table['dec'], degrees=True)\n",
    "    inCCD = ccd_bbox.contains(ccdx,ccdy)\n",
    "\n",
    "    # fill with CCD pixel x,y\n",
    "   \n",
    "    gaia_table['ccdx'] = ccdx - llfpX + ref_llfpX\n",
    "    gaia_table['ccdy'] = ccdy - llfpY + ref_llfpY\n",
    "    gaia_table['inCCD'] = inCCD\n",
    "\n",
    "    return gaia_table\n"
   ]
  },
  {
   "cell_type": "code",
   "execution_count": null,
   "metadata": {
    "execution": {
     "iopub.execute_input": "2025-07-14T23:14:29.348588Z",
     "iopub.status.busy": "2025-07-14T23:14:29.348256Z",
     "iopub.status.idle": "2025-07-14T23:14:30.395302Z",
     "shell.execute_reply": "2025-07-14T23:14:30.394762Z",
     "shell.execute_reply.started": "2025-07-14T23:14:29.348561Z"
    },
    "tags": []
   },
   "outputs": [],
   "source": [
    "butler = Butler('/repo/embargo', collections=['LSSTCam/raw/all', \n",
    "                                            'LSSTCam/calib/unbounded', 'LSSTCam/runs/nightlyValidation',\n",
    "                                              'LSSTCam/runs/nightlyValidation/20250425/w_2025_17/DM-50157'])\n",
    "instrument = 'LSSTCam'"
   ]
  },
  {
   "cell_type": "markdown",
   "metadata": {},
   "source": [
    "## The cell below takes the WCS from one imaging CCD and applies it to another imaging CCD.  Does not work for guider CCDs"
   ]
  },
  {
   "cell_type": "code",
   "execution_count": null,
   "metadata": {
    "execution": {
     "iopub.execute_input": "2025-07-14T23:15:36.226670Z",
     "iopub.status.busy": "2025-07-14T23:15:36.226305Z",
     "iopub.status.idle": "2025-07-14T23:15:55.724370Z",
     "shell.execute_reply": "2025-07-14T23:15:55.723629Z",
     "shell.execute_reply.started": "2025-07-14T23:15:36.226651Z"
    }
   },
   "outputs": [],
   "source": [
    "expId = 2025071200535\n",
    "\n",
    "mag_limit = 13.0\n",
    "ref_detName = 'R14_S12' # detector 68\n",
    "img_detName = 'R10_S10' #detector 30\n",
    "\n",
    "camera = LsstCam.getCamera()\n",
    "ref_detector = camera[ref_detName]\n",
    "ref_calexp = butler.get('preliminary_visit_image', detector=ref_detector.getId(), visit=expId)\n",
    "ref_wcs = ref_calexp.getWcs()\n",
    "ref_bbox = ref_detector.getBBox()\n",
    "ref_center = ref_wcs.pixelToSky(ref_bbox.centerX, ref_bbox.centerY)\n",
    "ref_ra_center = ref_center.getRa().asDegrees()\n",
    "ref_dec_center = ref_center.getDec().asDegrees()\n",
    "\n",
    "\n",
    "img_detector = camera[img_detName]\n",
    "img_calexp = butler.get('preliminary_visit_image', detector=img_detector.getId(), visit=expId)\n",
    "img_raw = butler.get('raw', detector=img_detector.getId(), exposure=expId)\n",
    "#img_wcs = img_calexp.getWcs()\n",
    "img_wcs = img_raw.getWcs()\n",
    "img_bbox = img_detector.getBBox()\n",
    "img_center = img_wcs.pixelToSky(img_bbox.centerX, img_bbox.centerY)\n",
    "img_ra_center = img_center.getRa()\n",
    "img_dec_center = img_center.getDec()\n",
    "\n",
    "cat_select = get_stars_focal_plane_gaia(camera, img_detName, ref_detName, 2048, 2000, 4000, 4000, ref_wcs)\n",
    "xs = []\n",
    "ys = []\n",
    "mags = []\n",
    "designations = []\n",
    "for i in range(len(cat_select)):\n",
    "    x = cat_select['ccdx'][i]\n",
    "    y = cat_select['ccdy'][i]\n",
    "    if cat_select['inCCD'][i] and cat_select['phot_g_mean_mag'][i] < mag_limit:\n",
    "        xs.append(x)\n",
    "        ys.append(y)\n",
    "        mags.append(f\"{cat_select['phot_g_mean_mag'][i]:.1f}\")\n",
    "        designations.append(f\"{cat_select['designation'][i]}\")\n",
    "\n",
    "\n",
    "# Now plot the data with matplotlib\n",
    "%matplotlib inline\n",
    "def colorbar(mappable):\n",
    "    from mpl_toolkits.axes_grid1 import make_axes_locatable\n",
    "    last_axes = plt.gca()\n",
    "    ax = mappable.axes\n",
    "    fig = ax.figure\n",
    "    divider = make_axes_locatable(ax)\n",
    "    cax = divider.append_axes(\"right\", size=\"5%\", pad=0.05)\n",
    "    cbar = fig.colorbar(mappable, cax=cax)\n",
    "    plt.sca(last_axes)\n",
    "    return cbar\n",
    "\n",
    "fig = plt.figure(figsize=(16,16))\n",
    "\n",
    "myPlot = plot(img_calexp, stretch='ccs', figure=fig)\n",
    "ax = myPlot.get_axes()[0]\n",
    "ax.scatter(xs, ys\\\n",
    "            ,facecolors='none', edgecolors='magenta', s=200, lw=2)\n",
    "for x, y, mag in zip(xs, ys, mags):\n",
    "    ax.text(x+50,y, mag, color='magenta', fontsize=12, fontweight='bold')\n",
    "ax.set_title(f\"{expId} {img_detName}, WCS from {ref_detName}\")\n",
    "plt.savefig(f\"/home/c/cslage/u/LSSTCam/images/WCS_{expId}_{img_detName}_WCS_From_{ref_detName}.png\")"
   ]
  },
  {
   "cell_type": "markdown",
   "metadata": {},
   "source": [
    "# The cell below prints out the cells brighter than mag_limit, with their location and GAIA designation."
   ]
  },
  {
   "cell_type": "code",
   "execution_count": null,
   "metadata": {
    "execution": {
     "iopub.execute_input": "2025-07-14T23:16:30.806991Z",
     "iopub.status.busy": "2025-07-14T23:16:30.806408Z",
     "iopub.status.idle": "2025-07-14T23:16:30.810733Z",
     "shell.execute_reply": "2025-07-14T23:16:30.810221Z",
     "shell.execute_reply.started": "2025-07-14T23:16:30.806970Z"
    }
   },
   "outputs": [],
   "source": [
    "for x, y, mag, designation in zip(xs, ys, mags, designations):\n",
    "    print(x, y, mag, designation)\n"
   ]
  },
  {
   "cell_type": "code",
   "execution_count": null,
   "metadata": {},
   "outputs": [],
   "source": []
  }
 ],
 "metadata": {
  "kernelspec": {
   "display_name": "LSST",
   "language": "python",
   "name": "lsst"
  },
  "language_info": {
   "codemirror_mode": {
    "name": "ipython",
    "version": 3
   },
   "file_extension": ".py",
   "mimetype": "text/x-python",
   "name": "python",
   "nbconvert_exporter": "python",
   "pygments_lexer": "ipython3",
   "version": "3.12.11"
  }
 },
 "nbformat": 4,
 "nbformat_minor": 4
}
