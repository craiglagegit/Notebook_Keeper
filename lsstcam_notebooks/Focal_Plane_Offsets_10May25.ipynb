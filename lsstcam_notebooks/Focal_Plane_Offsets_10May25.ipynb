{
 "cells": [
  {
   "cell_type": "markdown",
   "metadata": {},
   "source": [
    "## Calculating focal plane offsets\n",
    "\n",
    "Craig Lage - 10-May-25"
   ]
  },
  {
   "cell_type": "code",
   "execution_count": null,
   "metadata": {
    "execution": {
     "iopub.execute_input": "2025-05-23T18:53:02.908676Z",
     "iopub.status.busy": "2025-05-23T18:53:02.908460Z",
     "iopub.status.idle": "2025-05-23T18:53:02.911991Z",
     "shell.execute_reply": "2025-05-23T18:53:02.911516Z",
     "shell.execute_reply.started": "2025-05-23T18:53:02.908660Z"
    },
    "tags": []
   },
   "outputs": [],
   "source": [
    "import numpy as np\n",
    "import matplotlib.pyplot as plt\n",
    "from lsst.daf.butler import Butler\n",
    "from lsst.obs.lsst.cameraTransforms import LsstCameraTransforms\n",
    "from lsst.obs.lsst import LsstCam\n",
    "from lsst.geom import SpherePoint,Angle,Extent2I,Box2I,Extent2D,Point2D, Point2I\n",
    "from matplotlib.patches import Rectangle as Rect\n",
    "from lsst.summit.utils.efdUtils import calcNextDay\n",
    "import pickle as pkl\n",
    "from astropy.coordinates import angular_separation\n",
    "from scipy.optimize import curve_fit\n",
    "import lsst.geom as geom\n"
   ]
  },
  {
   "cell_type": "code",
   "execution_count": null,
   "metadata": {
    "execution": {
     "iopub.execute_input": "2025-05-23T02:40:35.646629Z",
     "iopub.status.busy": "2025-05-23T02:40:35.646426Z",
     "iopub.status.idle": "2025-05-23T02:40:36.397388Z",
     "shell.execute_reply": "2025-05-23T02:40:36.396923Z",
     "shell.execute_reply.started": "2025-05-23T02:40:35.646613Z"
    },
    "tags": []
   },
   "outputs": [],
   "source": [
    "butler = Butler('/repo/embargo', collections=['LSSTCam/raw/all', \n",
    "                                            'LSSTCam/calib/unbounded', 'LSSTCam/runs/nightlyValidation',\n",
    "                                              'LSSTCam/runs/nightlyValidation/20250425/w_2025_17/DM-50157',\n",
    "                                          \"LSSTCam/raw/guider\"])\n",
    "instrument = 'LSSTCam'   "
   ]
  },
  {
   "cell_type": "code",
   "execution_count": null,
   "metadata": {
    "execution": {
     "iopub.execute_input": "2025-05-13T23:46:27.823445Z",
     "iopub.status.busy": "2025-05-13T23:46:27.823109Z",
     "iopub.status.idle": "2025-05-13T23:46:27.827442Z",
     "shell.execute_reply": "2025-05-13T23:46:27.827090Z",
     "shell.execute_reply.started": "2025-05-13T23:46:27.823426Z"
    }
   },
   "outputs": [],
   "source": [
    "def get_offsets(butler, camera, expId, ref_detName, img_detName):\n",
    "    # Gets the offsets from one detector to another based on astrometry\n",
    "    ref_detector = camera.get(ref_detName)\n",
    "    ref_calexp = butler.get('preliminary_visit_image', detector=ref_detector.getId(), visit=expId)\n",
    "    ref_wcs = ref_calexp.getWcs()\n",
    "    ref_bbox = ref_detector.getBBox()\n",
    "    ref_center_pixels = Point2D(ref_bbox.centerX, ref_bbox.centerY)\n",
    "    ref_center = ref_wcs.pixelToSky(ref_center_pixels)\n",
    "    img_detector = camera.get(img_detName)\n",
    "    img_calexp = butler.get('preliminary_visit_image', detector=img_detector.getId(), visit=expId)\n",
    "    img_wcs = img_calexp.getWcs()\n",
    "    img_bbox = img_detector.getBBox()\n",
    "    img_center_pixels = Point2D(img_bbox.centerX, img_bbox.centerY)\n",
    "    img_center = img_wcs.pixelToSky(img_center_pixels)\n",
    "    img_center_ref = ref_wcs.skyToPixel(img_center)\n",
    "    delta_center = img_center_ref - ref_center_pixels\n",
    "    delta_center / 100.0 #convert to mm\n",
    "    rot = img_wcs.getRelativeRotationToWcs(ref_wcs).asDegrees()\n",
    "    return delta_center, rot\n"
   ]
  },
  {
   "cell_type": "code",
   "execution_count": null,
   "metadata": {
    "execution": {
     "iopub.execute_input": "2025-05-14T16:55:34.721850Z",
     "iopub.status.busy": "2025-05-14T16:55:34.721636Z",
     "iopub.status.idle": "2025-05-14T16:55:36.599614Z",
     "shell.execute_reply": "2025-05-14T16:55:36.599067Z",
     "shell.execute_reply.started": "2025-05-14T16:55:34.721835Z"
    }
   },
   "outputs": [],
   "source": [
    "get_offsets(butler, camera, expId, 'R22_S11', 'R22_S12')"
   ]
  },
  {
   "cell_type": "code",
   "execution_count": null,
   "metadata": {
    "execution": {
     "iopub.execute_input": "2025-05-15T17:50:37.987321Z",
     "iopub.status.busy": "2025-05-15T17:50:37.987110Z",
     "iopub.status.idle": "2025-05-15T17:50:37.997223Z",
     "shell.execute_reply": "2025-05-15T17:50:37.996835Z",
     "shell.execute_reply.started": "2025-05-15T17:50:37.987306Z"
    }
   },
   "outputs": [],
   "source": [
    "def draw_raft_with_offsets(butler, camera, raft, file):\n",
    "    ccds = ['S11', 'S00', 'S01', 'S02', 'S10', \n",
    "            'S12', 'S20', 'S21', 'S22']\n",
    "    fig, ax = plt.subplots(1,1,figsize=(10,10))\n",
    "    ax.grid(False)\n",
    "    plt.axis('off') \n",
    "    ax.set_aspect(1)\n",
    "    ax.set_title(f\"{raft} offsets in mm, {expId}\\nBlack:design, Red:Astrometry\")\n",
    "    ref_detName = 'R22_S11'\n",
    "    ref_detector = camera.get(ref_detName)\n",
    "    llX = 100000.0; llY = 100000.0; urX = -100000.0; urY = -100000.0\n",
    "    for ccd in ccds:\n",
    "        img_detName = raft + '_' + ccd\n",
    "        file.write(img_detName)\n",
    "        img_detector = camera.get(img_detName)\n",
    "        img_bbox = img_detector.getBBox()\n",
    "        lct = LsstCameraTransforms(camera,img_detName)\n",
    "        llfpX,llfpY = lct.ccdPixelToFocalMm(img_bbox.beginX, img_bbox.beginY, img_detName)\n",
    "        urfpX,urfpY = lct.ccdPixelToFocalMm(img_bbox.endX, img_bbox.endY, img_detName)\n",
    "        if llfpX < llX:\n",
    "            llX = llfpX\n",
    "        if llfpY < llY:\n",
    "            llY = llfpY\n",
    "        if urfpX > urX:\n",
    "            urX = urfpX\n",
    "        if urfpY > urY:\n",
    "            urY = urfpY\n",
    "\n",
    "        cenfpX,cenfpY = lct.ccdPixelToFocalMm(img_bbox.centerX, img_bbox.centerY, img_detName)\n",
    "        rect = Rect((llfpX, llfpY), img_bbox.getDimensions().getX() / 100,\n",
    "                             img_bbox.getDimensions().getY() / 100, edgecolor='k', facecolor='none')\n",
    "        ax.add_patch(rect)\n",
    "        ax.scatter (cenfpX, cenfpY, marker='+', color='k')\n",
    "        ax.text(cenfpX, urfpY - 4.0, img_detName, ha='center', va='baseline')\n",
    "        design_location = f\"{cenfpX:.3f}, {cenfpY:.3f}\"\n",
    "        ax.text(cenfpX, cenfpY + 8.0, design_location, ha='center', va='baseline')\n",
    "        delta_center, rot = get_offsets(butler, camera, expId, ref_detName, img_detName)\n",
    "        if rot > 180.0:\n",
    "            rot = rot - 360.0\n",
    "        measured_location = f\"{delta_center.getX()/100:.3f}, {delta_center.getY()/100:.3f}\"\n",
    "        if ccd == 'S11':\n",
    "            s11_center = delta_center\n",
    "            s11_cenfpX = cenfpX\n",
    "            s11_cenfpY = cenfpY\n",
    "        ax.text(cenfpX, cenfpY + 4.0, measured_location, ha='center', va='baseline', color='red')\n",
    "        diff_s11X = delta_center.getX()/100-s11_center.getX()/100\n",
    "        diff_s11Y = delta_center.getY()/100-s11_center.getY()/100\n",
    "        diff_s11 = f\"Relative to S11: {diff_s11X:.3f}, {diff_s11Y:.3f}\"\n",
    "        ax.text(cenfpX, cenfpY - 4.0, diff_s11, ha='center', va='baseline', color='red')\n",
    "        diff_designX = (delta_center.getX()/100-s11_center.getX()/100) - \\\n",
    "                        (cenfpX - s11_cenfpX)\n",
    "        diff_designY = (delta_center.getY()/100-s11_center.getY()/100) - \\\n",
    "                        (cenfpY - s11_cenfpY)\n",
    "        diff_design = f\"Within raft offset: {diff_designX:.3f}, {diff_designY:.3f}\"\n",
    "        ax.text(cenfpX, cenfpY - 8.0, diff_design, ha='center', va='baseline', color='red')\n",
    "        ax.text(cenfpX, cenfpY - 12.0, f\"Rot={rot:.4f} degrees\", ha='center', va='baseline', color='red')\n",
    "        file.write(f\"  {cenfpX:.3f}, {cenfpY:.3f}, {delta_center.getX()/100:.3f}, {delta_center.getY()/100:.3f} {rot:.4f}\\n\")\n",
    "    ax.set_xlim(llX-1.0, urX+1.0)\n",
    "    ax.set_ylim(llY-1.0, urY+1.0)\n",
    "\n",
    "    return fig"
   ]
  },
  {
   "cell_type": "code",
   "execution_count": null,
   "metadata": {
    "execution": {
     "iopub.execute_input": "2025-05-15T19:02:44.138279Z",
     "iopub.status.busy": "2025-05-15T19:02:44.138074Z",
     "iopub.status.idle": "2025-05-15T19:08:41.287013Z",
     "shell.execute_reply": "2025-05-15T19:08:41.286463Z",
     "shell.execute_reply.started": "2025-05-15T19:02:44.138265Z"
    }
   },
   "outputs": [],
   "source": [
    "expId = 2025042500591\n",
    "camera = LsstCam.getCamera()\n",
    "ref_detName = 'R22_S11'\n",
    "outfile = open (f\"/home/c/cslage/u/LSSTCam/data/All_Rafts_Design_and_Measured_Offsets_{expId}.txt\", 'w')\n",
    "\n",
    "for img_detector in camera:\n",
    "    try:\n",
    "        img_detName = img_detector.getName()\n",
    "        if img_detector.getId() > 188:\n",
    "            continue\n",
    "        delta_center, rot = get_offsets(butler, camera, expId, ref_detName, img_detName)\n",
    "        if rot > 180.0:\n",
    "            rot = rot - 360.0\n",
    "        img_bbox = img_detector.getBBox()\n",
    "        cenfpX,cenfpY = lct.ccdPixelToFocalMm(img_bbox.centerX, img_bbox.centerY, img_detName)\n",
    "        outfile.write(img_detName)\n",
    "        outfile.write(f\"  {cenfpX:.3f}, {cenfpY:.3f}, {delta_center.getX()/100:.3f}, {delta_center.getY()/100:.3f} {rot:.4f}\\n\")\n",
    "    except:\n",
    "        continue\n",
    "outfile.close()\n",
    "\n"
   ]
  },
  {
   "cell_type": "code",
   "execution_count": null,
   "metadata": {
    "execution": {
     "iopub.execute_input": "2025-05-13T23:46:36.554373Z",
     "iopub.status.busy": "2025-05-13T23:46:36.554170Z",
     "iopub.status.idle": "2025-05-13T23:46:59.447237Z",
     "shell.execute_reply": "2025-05-13T23:46:59.446764Z",
     "shell.execute_reply.started": "2025-05-13T23:46:36.554358Z"
    }
   },
   "outputs": [],
   "source": [
    "expId = 2025042500591\n",
    "camera = LsstCam.getCamera()\n",
    "\n",
    "raft = 'R33'\n",
    "plt.clf()\n",
    "fig = draw_raft_with_offsets(butler, camera, raft)\n",
    "plt.savefig(f\"/home/c/cslage/u/LSSTCam/images/{raft}_Design_and_Measured_Offsets_{expId}.png\")"
   ]
  },
  {
   "cell_type": "markdown",
   "metadata": {},
   "source": [
    "## Look at offsets over a range of dates."
   ]
  },
  {
   "cell_type": "code",
   "execution_count": null,
   "metadata": {},
   "outputs": [],
   "source": [
    "camera = LsstCam.getCamera()\n",
    "ref_detName = 'R22_S11'\n",
    "img_detName = 'R33_S11'\n",
    "\n",
    "startDay = 20250415\n",
    "endDay = 20250506\n",
    "\n",
    "offsets = {}\n",
    "dayObs = startDay\n",
    "while dayObs <= endDay:\n",
    "    exposureList = []\n",
    "    for record in butler.registry.queryDimensionRecords(\"exposure\", \n",
    "                where=f\"exposure.day_obs={dayObs} and instrument='LSSTCam'\"):\n",
    "        exposureList.append([record.id, record])\n",
    "    exposureList.sort(key=lambda x: x[0])\n",
    "    print(dayObs, len(exposureList))\n",
    "    for [id,record] in exposureList:\n",
    "        if record.observation_type not in ['acq', 'science']:\n",
    "            continue\n",
    "        try:\n",
    "            delta_center, rot = get_offsets(butler, camera, id, ref_detName, img_detName)\n",
    "            offsets[id] = delta_center\n",
    "            print(f\"{id} passed!\")\n",
    "        except:\n",
    "            continue\n",
    "            print(f\"{id} failed!\")\n",
    "    print(f\"{dayObs} complete.\")\n",
    "    dayObs = calcNextDay(dayObs)\n",
    "\n",
    "\n",
    "filename = f\"/home/c/cslage/u/LSSTCam/data/Offsets_{ref_detName}_{img_detName}_12May25.pkl\"\n",
    "with open(filename, 'wb') as f:\n",
    "    pkl.dump(offsets, f)\n"
   ]
  },
  {
   "cell_type": "markdown",
   "metadata": {
    "execution": {
     "iopub.execute_input": "2025-05-12T21:09:31.423034Z",
     "iopub.status.busy": "2025-05-12T21:09:31.422434Z",
     "iopub.status.idle": "2025-05-12T21:09:31.521401Z",
     "shell.execute_reply": "2025-05-12T21:09:31.520951Z",
     "shell.execute_reply.started": "2025-05-12T21:09:31.423015Z"
    }
   },
   "source": [
    "## Now plot the histograms"
   ]
  },
  {
   "cell_type": "code",
   "execution_count": null,
   "metadata": {},
   "outputs": [],
   "source": [
    "img_detector = camera.get(img_detName)\n",
    "img_bbox = img_detector.getBBox()\n",
    "lct = LsstCameraTransforms(camera,img_detName)\n",
    "cenfpX,cenfpY = lct.ccdPixelToFocalMm(img_bbox.centerX, img_bbox.centerY, img_detName)\n",
    "print(cenfpX, cenfpY)\n",
    "offXs = []\n",
    "offYs = []\n",
    "for key in offsets.keys():\n",
    "    offXs.append(offsets[key][0] / 100.0)\n",
    "    offYs.append(offsets[key][1] / 100.0)\n",
    "\n",
    "fig, axs = plt.subplots(1,2,figsize=(10,4))\n",
    "plt.suptitle(f\"Astrometric offset {img_detName} to {ref_detName}, Data from {startDay} to {endDay}\")\n",
    "axs[0].set_title(\"X offset (mm)\")\n",
    "axs[0].hist(offXs, bins=100)\n",
    "axs[0].axvline(cenfpX, color='k', ls='--')\n",
    "axs[0].set_xlim(126.90, 127.10)\n",
    "axs[0].set_xticks([126.90, 127.00, 127.10])\n",
    "axs[0].text(127.02, 400, f\"Npoints = {len(offXs)}\\n Delta = {(np.median(offXs) - cenfpX):.3f} mm.\")\n",
    "axs[1].set_title(\"Y offset (mm)\")\n",
    "axs[1].hist(offYs, bins=100)\n",
    "axs[1].axvline(cenfpY, color='k', ls='--')\n",
    "axs[1].set_xlim(126.90, 127.10)\n",
    "axs[1].set_xticks([126.90, 127.00, 127.10])\n",
    "axs[1].text(127.02, 1200, f\"Npoints = {len(offYs)}\\n Delta = {(np.median(offYs) - cenfpY):.3f} mm.\")\n",
    "plt.savefig(f\"/home/c/cslage/u/LSSTCam/data/Offset_Histograms_{ref_detName}_{img_detName}_12May25.png\")"
   ]
  },
  {
   "cell_type": "markdown",
   "metadata": {},
   "source": [
    "## What about change in platescale?"
   ]
  },
  {
   "cell_type": "code",
   "execution_count": null,
   "metadata": {
    "execution": {
     "iopub.execute_input": "2025-05-14T16:27:58.361722Z",
     "iopub.status.busy": "2025-05-14T16:27:58.361373Z",
     "iopub.status.idle": "2025-05-14T16:31:12.606354Z",
     "shell.execute_reply": "2025-05-14T16:31:12.605776Z",
     "shell.execute_reply.started": "2025-05-14T16:27:58.361707Z"
    },
    "jupyter": {
     "outputs_hidden": true
    }
   },
   "outputs": [],
   "source": [
    "expId = 2025042500591\n",
    "camera = LsstCam.getCamera()\n",
    "\n",
    "xs = []\n",
    "ys = []\n",
    "scales = []\n",
    "scale_dict = {}\n",
    "for detector in camera:\n",
    "    if detector.getId() > 188:\n",
    "        continue\n",
    "    try:\n",
    "        detName = detector.getName()\n",
    "        calexp = butler.get('preliminary_visit_image', detector=detector.getId(), visit=expId)\n",
    "        wcs = calexp.getWcs()\n",
    "        bbox = detector.getBBox()\n",
    "        lct = LsstCameraTransforms(camera,detName)\n",
    "        cenfpX,cenfpY = lct.ccdPixelToFocalMm(bbox.centerX, bbox.centerY, detName)\n",
    "        xs.append(cenfpX)\n",
    "        ys.append(cenfpY)\n",
    "        scale = wcs.getPixelScale().asDegrees() * 3600\n",
    "        print(detName, wcs.getPixelOrigin())\n",
    "        scales.append(scale)\n",
    "        scale_dict[detName] = [(cenfpX, cenfpY), scale]\n",
    "    except:\n",
    "        print(f\"Detector {detName} failed!\")\n",
    "        continue"
   ]
  },
  {
   "cell_type": "code",
   "execution_count": null,
   "metadata": {
    "execution": {
     "iopub.execute_input": "2025-05-14T00:05:02.559600Z",
     "iopub.status.busy": "2025-05-14T00:05:02.559389Z",
     "iopub.status.idle": "2025-05-14T00:05:02.725879Z",
     "shell.execute_reply": "2025-05-14T00:05:02.725481Z",
     "shell.execute_reply.started": "2025-05-14T00:05:02.559585Z"
    }
   },
   "outputs": [],
   "source": [
    "from scipy.optimize import curve_fit\n",
    "\n",
    "rs = np.sqrt(np.array(xs)**2 + np.array(xs)**2)\n",
    "fig = plt.figure(figsize=(8,5))\n",
    "plt.scatter(rs, scales)\n",
    "def func(x, quad, const):\n",
    "    # Quadratic function with no linear term\n",
    "    # So df/dr(r=0) = 0.\n",
    "    return quad * x * x + const\n",
    "popt, pcov = curve_fit(func, rs, scales, p0=[1E-4, 0.0])\n",
    "print(popt)\n",
    "R22_S11_R33_S11_delta = ((127.0 * 100 * func(127.0 * np.sqrt(2.0), popt[0], popt[1])) - \\\n",
    "                         (127.0 * 100 * func(0.0 * np.sqrt(2.0), popt[0], popt[1]))) / np.median(scales) / 100.0\n",
    "xplot = np.linspace(0,500, 100)\n",
    "yplot = xplot * xplot * popt[0] + popt[1]\n",
    "\n",
    "plt.plot(xplot, yplot, color='red', ls='--')\n",
    "plt.title(f\"Plate scale vs detector radius {expId}\")\n",
    "plt.xlabel(\"Radius to center of detector (mm)\")\n",
    "plt.ylabel(\"Platescale (arcseconds/pixel)\")\n",
    "plt.text(0, 0.20018, f\"R22_S11 to R33_S11 delta = {(R22_S11_R33_S11_delta):.4f} mm\")\n",
    "plt.savefig(f\"/home/c/cslage/u/LSSTCam/data/Platescale_Variation_{expId}_13May25.png\")"
   ]
  },
  {
   "cell_type": "code",
   "execution_count": null,
   "metadata": {
    "execution": {
     "iopub.execute_input": "2025-05-13T23:42:48.781973Z",
     "iopub.status.busy": "2025-05-13T23:42:48.781759Z",
     "iopub.status.idle": "2025-05-13T23:42:48.981215Z",
     "shell.execute_reply": "2025-05-13T23:42:48.980868Z",
     "shell.execute_reply.started": "2025-05-13T23:42:48.781955Z"
    }
   },
   "outputs": [],
   "source": [
    "plt.tricontourf(xs, ys, scales)\n",
    "plt.colorbar()\n",
    "plt.title(f\"Plate scale across focal plane {expId}\")\n",
    "plt.xlabel(\"X (mm)\")\n",
    "plt.ylabel(\"Y (mm)\")\n",
    "plt.savefig(f\"/home/c/cslage/u/LSSTCam/data/Platescale_Contour_Plot_{expId}_13May25.png\")"
   ]
  },
  {
   "cell_type": "code",
   "execution_count": null,
   "metadata": {},
   "outputs": [],
   "source": []
  },
  {
   "cell_type": "code",
   "execution_count": null,
   "metadata": {
    "execution": {
     "iopub.execute_input": "2025-05-23T02:41:21.578871Z",
     "iopub.status.busy": "2025-05-23T02:41:21.578361Z",
     "iopub.status.idle": "2025-05-23T02:44:37.656963Z",
     "shell.execute_reply": "2025-05-23T02:44:37.656417Z",
     "shell.execute_reply.started": "2025-05-23T02:41:21.578851Z"
    }
   },
   "outputs": [],
   "source": [
    "expId = 2025042500591\n",
    "camera = LsstCam.getCamera()\n",
    "\n",
    "xs = []\n",
    "ys = []\n",
    "scales = []\n",
    "scale_dict = {}\n",
    "for detector in camera:\n",
    "    if detector.getId() > 188:\n",
    "        continue\n",
    "    try:\n",
    "        detName = detector.getName()\n",
    "        calexp = butler.get('preliminary_visit_image', detector=detector.getId(), \n",
    "                            visit=expId, instrument=instrument)\n",
    "        wcs = calexp.getWcs()\n",
    "        bbox = detector.getBBox()\n",
    "        lct = LsstCameraTransforms(camera,detName)\n",
    "        cenfpX,cenfpY = lct.ccdPixelToFocalMm(bbox.centerX, bbox.centerY, detName)\n",
    "        xs.append(cenfpX)\n",
    "        ys.append(cenfpY)\n",
    "        scale = wcs.getPixelScale(Point2D(bbox.centerX, bbox.centerY)).asArcseconds()\n",
    "        scales.append(scale)\n",
    "        scale_dict[detName] = [(cenfpX, cenfpY), scale]\n",
    "    except:\n",
    "        print(f\"Detector {detName} failed!\")\n",
    "        continue"
   ]
  },
  {
   "cell_type": "code",
   "execution_count": null,
   "metadata": {
    "execution": {
     "iopub.execute_input": "2025-05-23T02:44:48.769881Z",
     "iopub.status.busy": "2025-05-23T02:44:48.769658Z",
     "iopub.status.idle": "2025-05-23T02:44:48.999057Z",
     "shell.execute_reply": "2025-05-23T02:44:48.998600Z",
     "shell.execute_reply.started": "2025-05-23T02:44:48.769863Z"
    }
   },
   "outputs": [],
   "source": [
    "rs = np.sqrt(np.array(xs)**2 + np.array(ys)**2)\n",
    "fig = plt.figure(figsize=(8,5))\n",
    "plt.scatter(rs, scales)\n",
    "def func(x, quad, const):\n",
    "    # Quadratic function with no linear term\n",
    "    # So df/dr(r=0) = 0.\n",
    "    return quad * x * x + const\n",
    "popt, pcov = curve_fit(func, rs, scales, p0=[1E-4, 0.0])\n",
    "print(popt)\n",
    "R22_S11_R33_S11_delta = ((127.0 * 100 * func(127.0 * np.sqrt(2.0), popt[0], popt[1])) - \\\n",
    "                         (127.0 * 100 * func(0.0 * np.sqrt(2.0), popt[0], popt[1]))) / np.median(scales) / 100.0\n",
    "xplot = np.linspace(0,350, 100)\n",
    "yplot = xplot * xplot * popt[0] + popt[1]\n",
    "\n",
    "plt.plot(xplot, yplot, color='red', ls='--')\n",
    "plt.title(f\"Plate scale vs detector radius {expId}\")\n",
    "plt.xlabel(\"Radius to center of detector (mm)\")\n",
    "plt.ylabel(\"Platescale (arcseconds/pixel)\")\n",
    "plt.text(0, 0.1997, f\"R22_S11 to R33_S11 delta = {(R22_S11_R33_S11_delta):.4f} mm\")\n",
    "plt.savefig(f\"/home/c/cslage/u/LSSTCam/data/Platescale_Variation_{expId}_With_X0_Y0_13May25.png\")"
   ]
  },
  {
   "cell_type": "code",
   "execution_count": null,
   "metadata": {
    "execution": {
     "iopub.execute_input": "2025-05-15T14:59:22.244406Z",
     "iopub.status.busy": "2025-05-15T14:59:22.243810Z",
     "iopub.status.idle": "2025-05-15T14:59:23.090982Z",
     "shell.execute_reply": "2025-05-15T14:59:23.090445Z",
     "shell.execute_reply.started": "2025-05-15T14:59:22.244388Z"
    }
   },
   "outputs": [],
   "source": [
    "expId = 2025042500591\n",
    "camera = LsstCam.getCamera()\n",
    "calexp = butler.get('preliminary_visit_image', detector=94, visit=expId)\n",
    "wcs = calexp.getWcs()\n",
    "\n",
    "xs = []\n",
    "ys = []\n",
    "scales = []\n",
    "scale_dict = {}\n",
    "for detector in camera:\n",
    "    if detector.getId() > 188:\n",
    "        continue\n",
    "    try:\n",
    "        detName = detector.getName()\n",
    "        bbox = detector.getBBox()\n",
    "        lct = LsstCameraTransforms(camera,detName)\n",
    "        cenfpX,cenfpY = lct.ccdPixelToFocalMm(bbox.centerX, bbox.centerY, detName)\n",
    "        xs.append(cenfpX)\n",
    "        ys.append(cenfpY)\n",
    "        scale = wcs.getPixelScale(Point2D(bbox.centerX, bbox.centerY)).asArcseconds()\n",
    "        scales.append(scale)\n",
    "        scale_dict[detName] = [(cenfpX, cenfpY), scale]\n",
    "        #print(detName, scale)\n",
    "    except:\n",
    "        print(f\"Detector {detName} failed!\")\n",
    "        continue"
   ]
  },
  {
   "cell_type": "code",
   "execution_count": null,
   "metadata": {
    "execution": {
     "iopub.execute_input": "2025-05-15T14:56:47.955141Z",
     "iopub.status.busy": "2025-05-15T14:56:47.954653Z",
     "iopub.status.idle": "2025-05-15T14:56:48.169628Z",
     "shell.execute_reply": "2025-05-15T14:56:48.169143Z",
     "shell.execute_reply.started": "2025-05-15T14:56:47.955114Z"
    }
   },
   "outputs": [],
   "source": [
    "from scipy.optimize import curve_fit\n",
    "\n",
    "rs = np.sqrt(np.array(xs)**2 + np.array(ys)**2)\n",
    "fig = plt.figure(figsize=(8,5))\n",
    "plt.scatter(rs, scales)\n",
    "def func(x, quad, const):\n",
    "    # Quadratic function with no linear term\n",
    "    # So df/dr(r=0) = 0.\n",
    "    return quad * x * x + const\n",
    "popt, pcov = curve_fit(func, rs, scales, p0=[1E-4, 0.0])\n",
    "print(popt)\n",
    "R22_S11_R33_S11_delta = ((127.0 * 100 * func(127.0 * np.sqrt(2.0), popt[0], popt[1])) - \\\n",
    "                         (127.0 * 100 * func(0.0 * np.sqrt(2.0), popt[0], popt[1]))) / np.median(scales) / 100.0\n",
    "xplot = np.linspace(0,350, 100)\n",
    "yplot = xplot * xplot * popt[0] + popt[1]\n",
    "\n",
    "plt.plot(xplot, yplot, color='red', ls='--')\n",
    "plt.title(f\"Plate scale vs detector radius {expId}\")\n",
    "plt.xlabel(\"Radius to center of detector (mm)\")\n",
    "plt.ylabel(\"Platescale (arcseconds/pixel)\")\n",
    "#plt.text(0, 0.1997, f\"R22_S11 to R33_S11 delta = {(R22_S11_R33_S11_delta):.4f} mm\")\n",
    "plt.savefig(f\"/home/c/cslage/u/LSSTCam/data/Platescale_Variation_{expId}_Center_WCS_15May25.png\")"
   ]
  },
  {
   "cell_type": "markdown",
   "metadata": {},
   "source": [
    "## How does effective plate scale vary with radius?"
   ]
  },
  {
   "cell_type": "code",
   "execution_count": null,
   "metadata": {
    "execution": {
     "iopub.execute_input": "2025-05-23T18:53:28.790621Z",
     "iopub.status.busy": "2025-05-23T18:53:28.790420Z",
     "iopub.status.idle": "2025-05-23T18:53:29.629217Z",
     "shell.execute_reply": "2025-05-23T18:53:29.628716Z",
     "shell.execute_reply.started": "2025-05-23T18:53:28.790605Z"
    },
    "jupyter": {
     "outputs_hidden": true
    }
   },
   "outputs": [],
   "source": [
    "expId = 2025042500591\n",
    "ref_detName = 'R22_S11'\n",
    "camera = LsstCam.getCamera()\n",
    "ref_detector = camera.get(ref_detName)\n",
    "ref_calexp = butler.get('preliminary_visit_image', detector=ref_detector.getId(), \n",
    "                        visit=expId, instrument=instrument)\n",
    "ref_wcs = ref_calexp.getWcs()\n",
    "ref_bbox = ref_detector.getBBox()\n",
    "ref_center_pixels = Point2D(ref_bbox.centerX, ref_bbox.centerY)\n",
    "\n",
    "x_shifts = np.linspace(0, 350, 50) # in mm\n",
    "eff_scales = []\n",
    "dx = 20 # +/- shift in pixels\n",
    "for x_shift in x_shifts:\n",
    "    pixel_shift = x_shift * 100 # Convert mm to pixels\n",
    "    pixels_1 = Point2D(ref_bbox.centerX + pixel_shift - dx, ref_bbox.centerY)\n",
    "    pixels_2 = Point2D(ref_bbox.centerX + pixel_shift + dx, ref_bbox.centerY)\n",
    "    sky_1 = ref_wcs.pixelToSky(pixels_1)\n",
    "    sky_2 = ref_wcs.pixelToSky(pixels_2)\n",
    "    separation = np.degrees(angular_separation(sky_1.getRa().asRadians(), sky_1.getDec().asRadians(),\n",
    "                                sky_2.getRa().asRadians(), sky_2.getDec().asRadians())) * 3600\n",
    "    eff_scale = separation / (2.0 * dx)\n",
    "    print(x, separation, eff_scale)\n",
    "    eff_scales.append(eff_scale)\n",
    "                            \n"
   ]
  },
  {
   "cell_type": "code",
   "execution_count": null,
   "metadata": {
    "execution": {
     "iopub.execute_input": "2025-05-23T18:53:34.494212Z",
     "iopub.status.busy": "2025-05-23T18:53:34.493923Z",
     "iopub.status.idle": "2025-05-23T18:53:34.717167Z",
     "shell.execute_reply": "2025-05-23T18:53:34.716720Z",
     "shell.execute_reply.started": "2025-05-23T18:53:34.494195Z"
    }
   },
   "outputs": [],
   "source": [
    "fig = plt.figure(figsize=(8,5))\n",
    "plt.scatter(x_shifts, eff_scales, label='Effective plate scale from R22_S11 WCS')\n",
    "def func(x, quad, const):\n",
    "    # Quadratic function with no linear term\n",
    "    # So df/dr(r=0) = 0.\n",
    "    return quad * x * x + const\n",
    "popt, pcov = curve_fit(func, x_shifts, eff_scales, p0=[1E-4, 0.0])\n",
    "print(popt)\n",
    "xplot = np.linspace(0,350, 100)\n",
    "yplot = xplot * xplot * popt[0] + popt[1]\n",
    "\n",
    "plt.plot(xplot, yplot, color='red', ls='--', label='Fit to  effective plate scales')\n",
    "plt.scatter(rs, scales, marker='x', color='green', label='Plate scales from WCS for each CCD')\n",
    "plt.title(f\"Effective Plate scale vs detector radius {expId}\")\n",
    "plt.xlabel(\"Radius to center of detector or evaluation point (mm)\")\n",
    "plt.ylabel(\"Effective Platescale (arcseconds/pixel)\")\n",
    "plt.legend(loc='lower left')\n",
    "plt.savefig(f\"/home/c/cslage/u/LSSTCam/data/Platescale_Effective_Variation_{expId}_23May25.png\")"
   ]
  },
  {
   "cell_type": "code",
   "execution_count": null,
   "metadata": {
    "execution": {
     "iopub.execute_input": "2025-05-23T18:54:28.150205Z",
     "iopub.status.busy": "2025-05-23T18:54:28.149884Z",
     "iopub.status.idle": "2025-05-23T18:54:28.153167Z",
     "shell.execute_reply": "2025-05-23T18:54:28.152782Z",
     "shell.execute_reply.started": "2025-05-23T18:54:28.150187Z"
    }
   },
   "outputs": [],
   "source": [
    "sky0 = ref_wcs.pixelToSky(ref_bbox.centerX, ref_bbox.centerY)\n",
    "transform = ref_wcs.linearizePixelToSky(sky0,geom.arcseconds)\n",
    "jacmat = transform.getLinear().getMatrix()"
   ]
  },
  {
   "cell_type": "code",
   "execution_count": null,
   "metadata": {
    "execution": {
     "iopub.execute_input": "2025-05-23T18:55:17.960914Z",
     "iopub.status.busy": "2025-05-23T18:55:17.960708Z",
     "iopub.status.idle": "2025-05-23T18:55:17.965026Z",
     "shell.execute_reply": "2025-05-23T18:55:17.964637Z",
     "shell.execute_reply.started": "2025-05-23T18:55:17.960898Z"
    }
   },
   "outputs": [],
   "source": [
    "transform.getMatrix()"
   ]
  },
  {
   "cell_type": "code",
   "execution_count": null,
   "metadata": {
    "execution": {
     "iopub.execute_input": "2025-05-23T18:54:37.782502Z",
     "iopub.status.busy": "2025-05-23T18:54:37.782210Z",
     "iopub.status.idle": "2025-05-23T18:54:37.785807Z",
     "shell.execute_reply": "2025-05-23T18:54:37.785419Z",
     "shell.execute_reply.started": "2025-05-23T18:54:37.782486Z"
    }
   },
   "outputs": [],
   "source": [
    "jacmat"
   ]
  },
  {
   "cell_type": "code",
   "execution_count": null,
   "metadata": {
    "execution": {
     "iopub.execute_input": "2025-05-23T03:18:42.257072Z",
     "iopub.status.busy": "2025-05-23T03:18:42.256848Z",
     "iopub.status.idle": "2025-05-23T03:18:42.261184Z",
     "shell.execute_reply": "2025-05-23T03:18:42.260814Z",
     "shell.execute_reply.started": "2025-05-23T03:18:42.257054Z"
    }
   },
   "outputs": [],
   "source": [
    "ref_wcs.getFitsMetadata()"
   ]
  },
  {
   "cell_type": "code",
   "execution_count": null,
   "metadata": {
    "execution": {
     "iopub.execute_input": "2025-05-23T14:56:19.908574Z",
     "iopub.status.busy": "2025-05-23T14:56:19.908030Z",
     "iopub.status.idle": "2025-05-23T14:56:19.910865Z",
     "shell.execute_reply": "2025-05-23T14:56:19.910444Z",
     "shell.execute_reply.started": "2025-05-23T14:56:19.908556Z"
    }
   },
   "outputs": [],
   "source": [
    "test = ref_wcs.getFrameDict()"
   ]
  },
  {
   "cell_type": "code",
   "execution_count": null,
   "metadata": {
    "execution": {
     "iopub.execute_input": "2025-05-23T15:03:38.272051Z",
     "iopub.status.busy": "2025-05-23T15:03:38.271668Z",
     "iopub.status.idle": "2025-05-23T15:03:38.275092Z",
     "shell.execute_reply": "2025-05-23T15:03:38.274718Z",
     "shell.execute_reply.started": "2025-05-23T15:03:38.272034Z"
    }
   },
   "outputs": [],
   "source": [
    "type(test)"
   ]
  },
  {
   "cell_type": "code",
   "execution_count": null,
   "metadata": {
    "execution": {
     "iopub.execute_input": "2025-05-23T15:02:33.448190Z",
     "iopub.status.busy": "2025-05-23T15:02:33.447871Z",
     "iopub.status.idle": "2025-05-23T15:02:33.452616Z",
     "shell.execute_reply": "2025-05-23T15:02:33.452200Z",
     "shell.execute_reply.started": "2025-05-23T15:02:33.448167Z"
    },
    "jupyter": {
     "outputs_hidden": true
    }
   },
   "outputs": [],
   "source": [
    "dir(test)"
   ]
  },
  {
   "cell_type": "code",
   "execution_count": null,
   "metadata": {
    "execution": {
     "iopub.execute_input": "2025-05-23T14:54:11.807187Z",
     "iopub.status.busy": "2025-05-23T14:54:11.806943Z",
     "iopub.status.idle": "2025-05-23T14:54:11.809783Z",
     "shell.execute_reply": "2025-05-23T14:54:11.809391Z",
     "shell.execute_reply.started": "2025-05-23T14:54:11.807168Z"
    }
   },
   "outputs": [],
   "source": [
    "from lsst.afw.geom.skyWcs import SkyWcs"
   ]
  },
  {
   "cell_type": "code",
   "execution_count": null,
   "metadata": {
    "execution": {
     "iopub.execute_input": "2025-05-23T15:01:40.376985Z",
     "iopub.status.busy": "2025-05-23T15:01:40.376364Z",
     "iopub.status.idle": "2025-05-23T15:01:40.379817Z",
     "shell.execute_reply": "2025-05-23T15:01:40.379334Z",
     "shell.execute_reply.started": "2025-05-23T15:01:40.376962Z"
    }
   },
   "outputs": [],
   "source": [
    "skyWcs = SkyWcs(test)"
   ]
  },
  {
   "cell_type": "code",
   "execution_count": null,
   "metadata": {
    "execution": {
     "iopub.execute_input": "2025-05-23T15:02:00.120477Z",
     "iopub.status.busy": "2025-05-23T15:02:00.119788Z",
     "iopub.status.idle": "2025-05-23T15:02:00.124360Z",
     "shell.execute_reply": "2025-05-23T15:02:00.123923Z",
     "shell.execute_reply.started": "2025-05-23T15:02:00.120457Z"
    }
   },
   "outputs": [],
   "source": [
    "skyWcs.getFitsMetadata()"
   ]
  },
  {
   "cell_type": "code",
   "execution_count": null,
   "metadata": {
    "execution": {
     "iopub.execute_input": "2025-05-23T15:07:07.098693Z",
     "iopub.status.busy": "2025-05-23T15:07:07.098198Z",
     "iopub.status.idle": "2025-05-23T15:07:07.103561Z",
     "shell.execute_reply": "2025-05-23T15:07:07.103151Z",
     "shell.execute_reply.started": "2025-05-23T15:07:07.098674Z"
    }
   },
   "outputs": [],
   "source": [
    "ref_wcs.getTanWcs(Point2D(20000,2000))"
   ]
  },
  {
   "cell_type": "code",
   "execution_count": null,
   "metadata": {},
   "outputs": [],
   "source": [
    "LsstCam."
   ]
  },
  {
   "cell_type": "code",
   "execution_count": null,
   "metadata": {
    "execution": {
     "iopub.execute_input": "2025-05-23T15:19:50.689590Z",
     "iopub.status.busy": "2025-05-23T15:19:50.689359Z",
     "iopub.status.idle": "2025-05-23T15:19:51.094695Z",
     "shell.execute_reply": "2025-05-23T15:19:51.094260Z",
     "shell.execute_reply.started": "2025-05-23T15:19:50.689572Z"
    }
   },
   "outputs": [],
   "source": [
    "expId = 2025042500591\n",
    "ref_detName = 'R22_S11'\n",
    "camera = LsstCam.getCamera()\n",
    "ref_detector = camera.get(ref_detName)\n",
    "ref_raw = butler.get('raw', detector=ref_detector.getId(), \n",
    "                        exposure=expId, instrument=instrument)\n",
    "ref_wcs = ref_raw.getWcs()\n",
    "ref_bbox = ref_detector.getBBox()\n",
    "ref_center_pixels = Point2D(ref_bbox.centerX, ref_bbox.centerY)\n",
    "\n",
    "x_shifts = np.linspace(0, 350, 50) # in mm\n",
    "eff_scales = []\n",
    "dx = 20 # +/- shift in pixels\n",
    "for x_shift in x_shifts:\n",
    "    pixel_shift = x_shift * 100 # Convert mm to pixels\n",
    "    pixels_1 = Point2D(ref_bbox.centerX + pixel_shift - dx, ref_bbox.centerY)\n",
    "    pixels_2 = Point2D(ref_bbox.centerX + pixel_shift + dx, ref_bbox.centerY)\n",
    "    sky_1 = ref_wcs.pixelToSky(pixels_1)\n",
    "    sky_2 = ref_wcs.pixelToSky(pixels_2)\n",
    "    separation = np.degrees(angular_separation(sky_1.getRa().asRadians(), sky_1.getDec().asRadians(),\n",
    "                                sky_2.getRa().asRadians(), sky_2.getDec().asRadians())) * 3600\n",
    "    eff_scale = separation / (2.0 * dx)\n",
    "    print(x, separation, eff_scale)\n",
    "    eff_scales.append(eff_scale)\n",
    "                            \n"
   ]
  },
  {
   "cell_type": "code",
   "execution_count": null,
   "metadata": {
    "execution": {
     "iopub.execute_input": "2025-05-23T15:19:57.775039Z",
     "iopub.status.busy": "2025-05-23T15:19:57.774829Z",
     "iopub.status.idle": "2025-05-23T15:19:58.002667Z",
     "shell.execute_reply": "2025-05-23T15:19:58.002251Z",
     "shell.execute_reply.started": "2025-05-23T15:19:57.775024Z"
    }
   },
   "outputs": [],
   "source": [
    "fig = plt.figure(figsize=(8,5))\n",
    "plt.scatter(x_shifts, eff_scales, label='Effective plate scale from R22_S11 WCS')\n",
    "def func(x, quad, const):\n",
    "    # Quadratic function with no linear term\n",
    "    # So df/dr(r=0) = 0.\n",
    "    return quad * x * x + const\n",
    "popt, pcov = curve_fit(func, x_shifts, eff_scales, p0=[1E-4, 0.0])\n",
    "print(popt)\n",
    "xplot = np.linspace(0,350, 100)\n",
    "yplot = xplot * xplot * popt[0] + popt[1]\n",
    "\n",
    "plt.plot(xplot, yplot, color='red', ls='--', label='Fit to  effective plate scales')\n",
    "plt.scatter(rs, scales, marker='x', color='green', label='Plate scales from WCS for each CCD')\n",
    "plt.title(f\"Effective Plate scale vs detector radius {expId}\")\n",
    "plt.xlabel(\"Radius to center of detector or evaluation point (mm)\")\n",
    "plt.ylabel(\"Effective Platescale (arcseconds/pixel)\")\n",
    "plt.legend(loc='lower left')\n",
    "plt.savefig(f\"/home/c/cslage/u/LSSTCam/data/Platescale_Effective_Variation_Raw_{expId}_23May25.png\")"
   ]
  },
  {
   "cell_type": "code",
   "execution_count": null,
   "metadata": {
    "execution": {
     "iopub.execute_input": "2025-05-23T15:20:35.326893Z",
     "iopub.status.busy": "2025-05-23T15:20:35.326676Z",
     "iopub.status.idle": "2025-05-23T15:20:35.331091Z",
     "shell.execute_reply": "2025-05-23T15:20:35.330676Z",
     "shell.execute_reply.started": "2025-05-23T15:20:35.326878Z"
    }
   },
   "outputs": [],
   "source": [
    "ref_wcs.getFitsMetadata()"
   ]
  },
  {
   "cell_type": "code",
   "execution_count": null,
   "metadata": {},
   "outputs": [],
   "source": []
  }
 ],
 "metadata": {
  "kernelspec": {
   "display_name": "LSST",
   "language": "python",
   "name": "lsst"
  },
  "language_info": {
   "codemirror_mode": {
    "name": "ipython",
    "version": 3
   },
   "file_extension": ".py",
   "mimetype": "text/x-python",
   "name": "python",
   "nbconvert_exporter": "python",
   "pygments_lexer": "ipython3",
   "version": "3.12.11"
  }
 },
 "nbformat": 4,
 "nbformat_minor": 4
}
