{
 "cells": [
  {
   "cell_type": "markdown",
   "metadata": {},
   "source": [
    "## LSSTCam Astrometry learning\n",
    "\n",
    "Craig Lage - 05-May-25"
   ]
  },
  {
   "cell_type": "code",
   "execution_count": null,
   "metadata": {
    "execution": {
     "iopub.execute_input": "2025-05-06T00:48:59.668931Z",
     "iopub.status.busy": "2025-05-06T00:48:59.668156Z",
     "iopub.status.idle": "2025-05-06T00:48:59.671790Z",
     "shell.execute_reply": "2025-05-06T00:48:59.671331Z",
     "shell.execute_reply.started": "2025-05-06T00:48:59.668912Z"
    },
    "tags": []
   },
   "outputs": [],
   "source": [
    "import numpy as np\n",
    "import matplotlib.pyplot as plt\n",
    "import astropy.io.fits as pf\n",
    "from lsst.daf.butler import Butler\n",
    "from lsst.summit.utils.plotting import plot\n",
    "import lsst.afw.image as afwImage\n",
    "from lsst.geom import SpherePoint\n",
    "from lsst.geom import Angle as afwAngle\n",
    "from astropy.coordinates import AltAz, ICRS, EarthLocation, Angle, FK5, SkyCoord\n",
    "import astropy.units as u\n",
    "from lsst.afw import cameraGeom\n",
    "import lsst.geom\n",
    "import lsst.geom as geom\n",
    "from lsst.geom import SpherePoint,Angle,Extent2I,Box2I,Extent2D,Point2D, Point2I\n",
    "\n",
    "from lsst.obs.lsst.cameraTransforms import LsstCameraTransforms\n",
    "from lsst.obs.lsst import LsstComCam\n",
    "from os import listdir\n",
    "import healpy as hp\n",
    "from astropy.table import Table, vstack\n",
    "from astropy.coordinates import angular_separation\n"
   ]
  },
  {
   "cell_type": "code",
   "execution_count": null,
   "metadata": {
    "execution": {
     "iopub.execute_input": "2025-05-06T00:27:53.789759Z",
     "iopub.status.busy": "2025-05-06T00:27:53.789596Z",
     "iopub.status.idle": "2025-05-06T00:27:54.645620Z",
     "shell.execute_reply": "2025-05-06T00:27:54.645103Z",
     "shell.execute_reply.started": "2025-05-06T00:27:53.789732Z"
    },
    "tags": []
   },
   "outputs": [],
   "source": [
    "butler = Butler('/repo/embargo', collections=['LSSTCam/raw/all', \n",
    "                                            'LSSTCam/calib/unbounded', 'LSSTCam/runs/nightlyValidation',\n",
    "                                              'LSSTCam/runs/nightlyValidation/20250425/w_2025_17/DM-50157'])"
   ]
  },
  {
   "cell_type": "code",
   "execution_count": null,
   "metadata": {
    "execution": {
     "iopub.execute_input": "2025-05-06T03:10:28.932530Z",
     "iopub.status.busy": "2025-05-06T03:10:28.932280Z",
     "iopub.status.idle": "2025-05-06T03:10:29.766298Z",
     "shell.execute_reply": "2025-05-06T03:10:29.765775Z",
     "shell.execute_reply.started": "2025-05-06T03:10:28.932515Z"
    }
   },
   "outputs": [],
   "source": [
    "expId = 2025042500591\n",
    "calexp = butler.get('preliminary_visit_image', detector=94, visit=expId)"
   ]
  },
  {
   "cell_type": "code",
   "execution_count": null,
   "metadata": {
    "execution": {
     "iopub.execute_input": "2025-05-06T01:41:41.698376Z",
     "iopub.status.busy": "2025-05-06T01:41:41.698236Z",
     "iopub.status.idle": "2025-05-06T01:41:48.404646Z",
     "shell.execute_reply": "2025-05-06T01:41:48.404179Z",
     "shell.execute_reply.started": "2025-05-06T01:41:41.698362Z"
    }
   },
   "outputs": [],
   "source": [
    "x = plot(calexp, stretch='ccs')"
   ]
  },
  {
   "cell_type": "code",
   "execution_count": null,
   "metadata": {
    "execution": {
     "iopub.execute_input": "2025-05-06T03:10:40.484630Z",
     "iopub.status.busy": "2025-05-06T03:10:40.484376Z",
     "iopub.status.idle": "2025-05-06T03:10:40.488506Z",
     "shell.execute_reply": "2025-05-06T03:10:40.488004Z",
     "shell.execute_reply.started": "2025-05-06T03:10:40.484610Z"
    }
   },
   "outputs": [],
   "source": []
  },
  {
   "cell_type": "code",
   "execution_count": null,
   "metadata": {
    "execution": {
     "iopub.execute_input": "2025-05-06T01:25:00.900486Z",
     "iopub.status.busy": "2025-05-06T01:25:00.899893Z",
     "iopub.status.idle": "2025-05-06T01:25:00.905813Z",
     "shell.execute_reply": "2025-05-06T01:25:00.905421Z",
     "shell.execute_reply.started": "2025-05-06T01:25:00.900469Z"
    }
   },
   "outputs": [],
   "source": [
    "def get_stars(detector,ra,dec,cam_wcs,npixedge=0):\n",
    "    # some constants and useful objects\n",
    "    ccd_diag = 0.15852  #Guider CCD diagonal radius in Degrees\n",
    "    path = '/home/s/shuang92/rubin-user/Monster_guide'  ## RSP path\n",
    "    res = 5\n",
    "    nside = 2**res\n",
    "    npix = 12 * nside**2\n",
    "    bad_guideramps = {193: 'C1', 198: 'C1', 201: 'C0'}\n",
    "    filters = ['u','g','r','i','z','y']\n",
    "\n",
    "    # get BBox for this detecctor, removing some number of edge pixels\n",
    "    ccd_bbox = detector.getBBox()\n",
    "    ccd_bbox.grow(-Extent2I(npixedge, npixedge))\n",
    "    \n",
    "    # query the Monster\n",
    "    hp_ind = hp.ang2pix(nside, ra, dec, lonlat=True)\n",
    "\n",
    "    # should only need at most 4 tiles, but for simplicity using 9 Tables\n",
    "    SW, W, NW, N, NE, E, SE, S = hp.get_all_neighbours(nside, hp_ind)\n",
    "    \n",
    "    this_table = Table.read(f'{path}/{hp_ind}.csv')\n",
    "\n",
    "    E_table = Table.read(f'{path}/{E}.csv')\n",
    "    W_table = Table.read(f'{path}/{W}.csv')\n",
    "    S_table = Table.read(f'{path}/{S}.csv')\n",
    "    N_table = Table.read(f'{path}/{N}.csv')\n",
    "\n",
    "    SW_table = Table.read(f'{path}/{SW}.csv')\n",
    "    SE_table = Table.read(f'{path}/{SE}.csv')\n",
    "    NW_table = Table.read(f'{path}/{NW}.csv')\n",
    "    NE_table = Table.read(f'{path}/{NE}.csv')\n",
    "\n",
    "    star_cat = vstack([this_table, E_table, W_table, S_table, N_table, SW_table, SE_table, NW_table, NE_table])\n",
    "\n",
    "    # find the ra,dec of the CCD center\n",
    "    x0,y0 = detector.getBBox().getCenterX(),detector.getBBox().getCenterY()  \n",
    "    ra_ccd,dec_ccd = cam_wcs.pixelToSky(x0,y0)\n",
    "\n",
    "    star_cat['dangle'] = np.degrees(angular_separation(ra_ccd.asRadians(),dec_ccd.asRadians(),\n",
    "                            star_cat['coord_ra'],star_cat['coord_dec']))\n",
    "    insideCCDradius = (star_cat['dangle']<ccd_diag) # inside the Guider CCD radius\n",
    "\n",
    "    # Selection 1: the Star is isolated and inside the CCD radius\n",
    "    cat_select1 = star_cat[(insideCCDradius)]\n",
    "\n",
    "    # using the wcs to locate the stars inside the CCD minus npixedge\n",
    "    ccdx,ccdy = cam_wcs.skyToPixelArray(cat_select1['coord_ra'],cat_select1['coord_dec'],degrees=False)\n",
    "    inCCD = ccd_bbox.contains(ccdx,ccdy)\n",
    "\n",
    "    # fill with CCD pixel x,y\n",
    "    cat_select1['ccdx'] = ccdx\n",
    "    cat_select1['ccdy'] = ccdy\n",
    "    cat_select1['inCCD'] = inCCD\n",
    "    \n",
    "\n",
    "    return cat_select1"
   ]
  },
  {
   "cell_type": "code",
   "execution_count": null,
   "metadata": {
    "execution": {
     "iopub.execute_input": "2025-05-06T01:38:09.600264Z",
     "iopub.status.busy": "2025-05-06T01:38:09.600057Z",
     "iopub.status.idle": "2025-05-06T01:38:09.605047Z",
     "shell.execute_reply": "2025-05-06T01:38:09.604588Z",
     "shell.execute_reply.started": "2025-05-06T01:38:09.600250Z"
    }
   },
   "outputs": [],
   "source": [
    "camera = LsstCam.getCamera()\n",
    "wcs = calexp.getWcs()\n",
    "center = wcs.pixelToSky(2048, 2000)\n",
    "ra_center = center.getRa().asDegrees()\n",
    "dec_center = center.getDec().asDegrees()\n",
    "\n",
    "raft = 'R22'\n",
    "ccd = 'S11'\n",
    "detName = f\"{raft}_{ccd}\"\n",
    "for detector in camera:\n",
    "    if detector.getName()== detName:\n",
    "        break\n",
    "\n",
    "cat_select1 = get_stars(detector,ra_center,dec_center,wcs,npixedge=0)\n",
    "xs = []\n",
    "ys = []\n",
    "mags = []\n",
    "for i in range(len(cat_select1)):\n",
    "    x = cat_select1['ccdx'][i]\n",
    "    y = cat_select1['ccdy'][i]\n",
    "    if cat_select1['inCCD'][i]:\n",
    "        xs.append(x)\n",
    "        ys.append(y)\n",
    "        mags.append(f\"{cat_select1['mag_r'][i]:.1f}\")"
   ]
  },
  {
   "cell_type": "code",
   "execution_count": null,
   "metadata": {
    "execution": {
     "iopub.execute_input": "2025-05-06T01:38:50.744263Z",
     "iopub.status.busy": "2025-05-06T01:38:50.743955Z",
     "iopub.status.idle": "2025-05-06T01:38:53.047690Z",
     "shell.execute_reply": "2025-05-06T01:38:53.047287Z",
     "shell.execute_reply.started": "2025-05-06T01:38:50.744247Z"
    }
   },
   "outputs": [],
   "source": [
    "# Now plot the data with matplotlib\n",
    "%matplotlib inline\n",
    "def colorbar(mappable):\n",
    "    from mpl_toolkits.axes_grid1 import make_axes_locatable\n",
    "    last_axes = plt.gca()\n",
    "    ax = mappable.axes\n",
    "    fig = ax.figure\n",
    "    divider = make_axes_locatable(ax)\n",
    "    cax = divider.append_axes(\"right\", size=\"5%\", pad=0.05)\n",
    "    cbar = fig.colorbar(mappable, cax=cax)\n",
    "    plt.sca(last_axes)\n",
    "    return cbar\n",
    "\n",
    "plt.figure(figsize=(16,16))\n",
    "plt.title(f\"{expId} {raft}_{ccd}\")\n",
    "img = plt.imshow(calexp.image.array,  interpolation='Nearest', cmap='gray', vmin=0, vmax=1000, origin='lower')\n",
    "plt.scatter(xs, ys\\\n",
    "            ,facecolors='none', edgecolors='g', s=200, lw=2)\n",
    "for x, y, mag in zip(xs, ys, mags):\n",
    "    plt.text(x+50,y, mag, color='g')\n",
    "colorbar(img)\n"
   ]
  },
  {
   "cell_type": "code",
   "execution_count": null,
   "metadata": {},
   "outputs": [],
   "source": []
  },
  {
   "cell_type": "code",
   "execution_count": null,
   "metadata": {
    "execution": {
     "iopub.execute_input": "2025-05-06T03:46:15.342539Z",
     "iopub.status.busy": "2025-05-06T03:46:15.342161Z",
     "iopub.status.idle": "2025-05-06T03:46:15.351314Z",
     "shell.execute_reply": "2025-05-06T03:46:15.350850Z",
     "shell.execute_reply.started": "2025-05-06T03:46:15.342519Z"
    }
   },
   "outputs": [],
   "source": [
    "def get_stars_focal_plane(detector,ra,dec,cam_wcs,npixedge=0):\n",
    "    # some constants and useful objects\n",
    "    ccd_diag = 0.15852  #Guider CCD diagonal radius in Degrees\n",
    "    path = '/home/s/shuang92/rubin-user/Monster_guide'  ## RSP path\n",
    "    res = 5\n",
    "    nside = 2**res\n",
    "    npix = 12 * nside**2\n",
    "    bad_guideramps = {193: 'C1', 198: 'C1', 201: 'C0'}\n",
    "    filters = ['u','g','r','i','z','y']\n",
    "    \n",
    "    # query the Monster\n",
    "    hp_ind = hp.ang2pix(nside, ra, dec, lonlat=True)\n",
    "\n",
    "    # should only need at most 4 tiles, but for simplicity using 9 Tables\n",
    "    SW, W, NW, N, NE, E, SE, S = hp.get_all_neighbours(nside, hp_ind)\n",
    "    \n",
    "    this_table = Table.read(f'{path}/{hp_ind}.csv')\n",
    "\n",
    "    E_table = Table.read(f'{path}/{E}.csv')\n",
    "    W_table = Table.read(f'{path}/{W}.csv')\n",
    "    S_table = Table.read(f'{path}/{S}.csv')\n",
    "    N_table = Table.read(f'{path}/{N}.csv')\n",
    "\n",
    "    SW_table = Table.read(f'{path}/{SW}.csv')\n",
    "    SE_table = Table.read(f'{path}/{SE}.csv')\n",
    "    NW_table = Table.read(f'{path}/{NW}.csv')\n",
    "    NE_table = Table.read(f'{path}/{NE}.csv')\n",
    "\n",
    "    star_cat = vstack([this_table, E_table, W_table, S_table, N_table, SW_table, SE_table, NW_table, NE_table])\n",
    "\n",
    "    # find the ra,dec of the CCD center\n",
    "    bbox = detector.getBBox()\n",
    "    nx,ny = bbox.getDimensions()\n",
    "    detName = detector.getName()\n",
    "    lct = LsstCameraTransforms(camera,detName)\n",
    "    llfpX, llfpY = lct.ccdPixelToFocalMm(0, 0, detName)\n",
    "    llfpX = llfpX * 100 + int(nx/2) # Convert to pixels and recenter\n",
    "    llfpY = llfpY * 100 + int(ny/2) # Convert to pixels and recenter\n",
    "    urfpX, urfpY = lct.ccdPixelToFocalMm(nx, ny, detName)\n",
    "    urfpX = urfpX * 100 + int(nx/2) # Convert to pixels and recenter\n",
    "    urfpY = urfpY * 100 + int(ny/2) # Convert to pixels and recenter\n",
    "    x0 = int((urfpX + llfpX) / 2) # In pixels\n",
    "    y0 = int((urfpY + llfpY) / 2) # In pixels\n",
    "    ra_ccd,dec_ccd = cam_wcs.pixelToSky(x0,y0)\n",
    "\n",
    "    ccd_bbox = Box2I(Point2I(llfpX, llfpY), \n",
    "                     Point2I(urfpX, urfpY))\n",
    "    star_cat['dangle'] = np.degrees(angular_separation(ra_ccd.asRadians(),dec_ccd.asRadians(),\n",
    "                            star_cat['coord_ra'],star_cat['coord_dec']))\n",
    "    insideCCDradius = (star_cat['dangle']<ccd_diag) # inside the Guider CCD radius\n",
    "\n",
    "    # Selection 1: the Star is isolated and inside the CCD radius\n",
    "    cat_select1 = star_cat[(insideCCDradius)]\n",
    "\n",
    "    # using the wcs to locate the stars inside the CCD minus npixedge\n",
    "    ccdx,ccdy = cam_wcs.skyToPixelArray(cat_select1['coord_ra'],cat_select1['coord_dec'],degrees=False)\n",
    "    inCCD = ccd_bbox.contains(ccdx,ccdy)\n",
    "\n",
    "    # fill with CCD pixel x,y\n",
    "    cat_select1['ccdx'] = ccdx - llfpX\n",
    "    cat_select1['ccdy'] = ccdy - llfpY\n",
    "    cat_select1['inCCD'] = inCCD\n",
    "    \n",
    "\n",
    "    return cat_select1"
   ]
  },
  {
   "cell_type": "code",
   "execution_count": null,
   "metadata": {
    "execution": {
     "iopub.execute_input": "2025-05-06T03:52:40.333825Z",
     "iopub.status.busy": "2025-05-06T03:52:40.333259Z",
     "iopub.status.idle": "2025-05-06T03:52:41.427438Z",
     "shell.execute_reply": "2025-05-06T03:52:41.426920Z",
     "shell.execute_reply.started": "2025-05-06T03:52:40.333807Z"
    }
   },
   "outputs": [],
   "source": [
    "expId = 2025042500591\n",
    "calexp2 = butler.get('preliminary_visit_image', detector=36, visit=expId)"
   ]
  },
  {
   "cell_type": "code",
   "execution_count": null,
   "metadata": {
    "execution": {
     "iopub.execute_input": "2025-05-06T03:52:43.383993Z",
     "iopub.status.busy": "2025-05-06T03:52:43.383674Z",
     "iopub.status.idle": "2025-05-06T03:52:49.574173Z",
     "shell.execute_reply": "2025-05-06T03:52:49.573681Z",
     "shell.execute_reply.started": "2025-05-06T03:52:43.383967Z"
    }
   },
   "outputs": [],
   "source": [
    "x = plot(calexp2, stretch='ccs')"
   ]
  },
  {
   "cell_type": "code",
   "execution_count": null,
   "metadata": {
    "execution": {
     "iopub.execute_input": "2025-05-06T03:54:07.060124Z",
     "iopub.status.busy": "2025-05-06T03:54:07.059836Z",
     "iopub.status.idle": "2025-05-06T03:54:07.170790Z",
     "shell.execute_reply": "2025-05-06T03:54:07.170266Z",
     "shell.execute_reply.started": "2025-05-06T03:54:07.060109Z"
    }
   },
   "outputs": [],
   "source": [
    "raft2 = 'R11'\n",
    "ccd2 = 'S00'\n",
    "detName = f\"{raft2}_{ccd2}\"\n",
    "for detector2 in camera:\n",
    "    if detector2.getName()== detName:\n",
    "        break\n",
    "print(detector2.getName())\n",
    "\n",
    "wcs2 = calexp2.getWcs()\n",
    "center2 = wcs2.pixelToSky(2048, 2000)\n",
    "ra_center2 = center2.getRa().asDegrees()\n",
    "dec_center2 = center2.getDec().asDegrees()\n",
    "\n",
    "\n",
    "cat_select2 = get_stars_focal_plane(detector2,ra_center2,dec_center2,wcs,npixedge=0)\n",
    "xs = []\n",
    "ys = []\n",
    "mags = []\n",
    "for i in range(len(cat_select2)):\n",
    "    x = cat_select2['ccdx'][i]\n",
    "    y = cat_select2['ccdy'][i]\n",
    "    if cat_select2['inCCD'][i]:\n",
    "        xs.append(x)\n",
    "        ys.append(y)\n",
    "        mags.append(f\"{cat_select2['mag_r'][i]:.1f}\")\n"
   ]
  },
  {
   "cell_type": "code",
   "execution_count": null,
   "metadata": {
    "execution": {
     "iopub.execute_input": "2025-05-06T03:53:04.401694Z",
     "iopub.status.busy": "2025-05-06T03:53:04.401162Z",
     "iopub.status.idle": "2025-05-06T03:53:06.651760Z",
     "shell.execute_reply": "2025-05-06T03:53:06.651211Z",
     "shell.execute_reply.started": "2025-05-06T03:53:04.401677Z"
    }
   },
   "outputs": [],
   "source": [
    "# Now plot the data with matplotlib\n",
    "%matplotlib inline\n",
    "def colorbar(mappable):\n",
    "    from mpl_toolkits.axes_grid1 import make_axes_locatable\n",
    "    last_axes = plt.gca()\n",
    "    ax = mappable.axes\n",
    "    fig = ax.figure\n",
    "    divider = make_axes_locatable(ax)\n",
    "    cax = divider.append_axes(\"right\", size=\"5%\", pad=0.05)\n",
    "    cbar = fig.colorbar(mappable, cax=cax)\n",
    "    plt.sca(last_axes)\n",
    "    return cbar\n",
    "\n",
    "plt.figure(figsize=(16,16))\n",
    "plt.title(f\"{expId} {raft2}_{ccd2}\")\n",
    "img = plt.imshow(calexp2.image.array,  interpolation='Nearest', cmap='gray', vmin=0, vmax=1000, origin='lower')\n",
    "plt.scatter(xs, ys\\\n",
    "            ,facecolors='none', edgecolors='g', s=200, lw=2)\n",
    "for x, y, mag in zip(xs, ys, mags):\n",
    "    plt.text(x+50,y, mag, color='g')\n",
    "colorbar(img)\n"
   ]
  },
  {
   "cell_type": "code",
   "execution_count": null,
   "metadata": {},
   "outputs": [],
   "source": []
  },
  {
   "cell_type": "code",
   "execution_count": null,
   "metadata": {
    "execution": {
     "iopub.execute_input": "2025-05-06T03:51:55.541410Z",
     "iopub.status.busy": "2025-05-06T03:51:55.541145Z",
     "iopub.status.idle": "2025-05-06T03:51:55.629633Z",
     "shell.execute_reply": "2025-05-06T03:51:55.629124Z",
     "shell.execute_reply.started": "2025-05-06T03:51:55.541396Z"
    }
   },
   "outputs": [],
   "source": [
    "raft2 = 'R40'\n",
    "ccd2 = 'SG0'\n",
    "detName = f\"{raft2}_{ccd2}\"\n",
    "for detector2 in camera:\n",
    "    if detector2.getName()== detName:\n",
    "        break\n",
    "print(detector2.getName())\n",
    "\n",
    "wcs2 = calexp2.getWcs()\n",
    "center2 = wcs2.pixelToSky(2048, 2000)\n",
    "ra_center2 = center2.getRa().asDegrees()\n",
    "dec_center2 = center2.getDec().asDegrees()\n",
    "\n",
    "\n",
    "cat_select2 = get_stars_focal_plane(detector2,ra_center2,dec_center2,wcs,npixedge=0)\n",
    "xs = []\n",
    "ys = []\n",
    "mags = []\n",
    "for i in range(len(cat_select2)):\n",
    "    x = cat_select2['ccdx'][i]\n",
    "    y = cat_select2['ccdy'][i]\n",
    "    if cat_select2['inCCD'][i]:\n",
    "        xs.append(x)\n",
    "        ys.append(y)\n",
    "        mags.append(f\"{cat_select2['mag_r'][i]:.1f}\")"
   ]
  },
  {
   "cell_type": "code",
   "execution_count": null,
   "metadata": {
    "execution": {
     "iopub.execute_input": "2025-05-06T03:51:58.784302Z",
     "iopub.status.busy": "2025-05-06T03:51:58.784018Z",
     "iopub.status.idle": "2025-05-06T03:52:00.551125Z",
     "shell.execute_reply": "2025-05-06T03:52:00.550688Z",
     "shell.execute_reply.started": "2025-05-06T03:51:58.784287Z"
    }
   },
   "outputs": [],
   "source": [
    "# Now plot the data with matplotlib\n",
    "%matplotlib inline\n",
    "def colorbar(mappable):\n",
    "    from mpl_toolkits.axes_grid1 import make_axes_locatable\n",
    "    last_axes = plt.gca()\n",
    "    ax = mappable.axes\n",
    "    fig = ax.figure\n",
    "    divider = make_axes_locatable(ax)\n",
    "    cax = divider.append_axes(\"right\", size=\"5%\", pad=0.05)\n",
    "    cbar = fig.colorbar(mappable, cax=cax)\n",
    "    plt.sca(last_axes)\n",
    "    return cbar\n",
    "\n",
    "plt.figure(figsize=(16,16))\n",
    "plt.title(f\"{expId} {raft2}_{ccd2}\")\n",
    "dummy = np.zeros([4096, 4000])\n",
    "img = plt.imshow(dummy,  interpolation='Nearest', cmap='gray', vmin=0, vmax=1000, origin='lower')\n",
    "plt.scatter(xs, ys\\\n",
    "            ,facecolors='none', edgecolors='g', s=200, lw=2)\n",
    "for x, y, mag in zip(xs, ys, mags):\n",
    "    plt.text(x+50,y, mag, color='g')\n",
    "colorbar(img)\n"
   ]
  },
  {
   "cell_type": "code",
   "execution_count": null,
   "metadata": {},
   "outputs": [],
   "source": []
  }
 ],
 "metadata": {
  "kernelspec": {
   "display_name": "LSST",
   "language": "python",
   "name": "lsst"
  },
  "language_info": {
   "codemirror_mode": {
    "name": "ipython",
    "version": 3
   },
   "file_extension": ".py",
   "mimetype": "text/x-python",
   "name": "python",
   "nbconvert_exporter": "python",
   "pygments_lexer": "ipython3",
   "version": "3.12.10"
  }
 },
 "nbformat": 4,
 "nbformat_minor": 4
}
