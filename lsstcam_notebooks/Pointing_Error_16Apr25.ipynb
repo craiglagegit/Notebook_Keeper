{
 "cells": [
  {
   "cell_type": "markdown",
   "metadata": {},
   "source": [
    "# LSSTCam pointing errors\n",
    "\n",
    "Craig Lage - 16-Apr-25"
   ]
  },
  {
   "cell_type": "code",
   "execution_count": null,
   "metadata": {
    "execution": {
     "iopub.execute_input": "2025-06-09T17:12:28.112774Z",
     "iopub.status.busy": "2025-06-09T17:12:28.112655Z",
     "iopub.status.idle": "2025-06-09T17:12:36.309205Z",
     "shell.execute_reply": "2025-06-09T17:12:36.307947Z",
     "shell.execute_reply.started": "2025-06-09T17:12:28.112760Z"
    },
    "tags": []
   },
   "outputs": [],
   "source": [
    "import numpy as np\n",
    "import pickle as pkl\n",
    "import matplotlib.pyplot as plt\n",
    "from astropy.time import Time, TimeDelta\n",
    "from lsst.daf.butler import Butler\n",
    "import lsst.summit.utils.butlerUtils as butlerUtils\n",
    "from lsst.summit.utils.utils import dayObsIntToString\n",
    "from lsst.summit.utils.efdUtils import calcNextDay"
   ]
  },
  {
   "cell_type": "code",
   "execution_count": null,
   "metadata": {},
   "outputs": [],
   "source": [
    "butler = Butler('/repo/embargo', collections=['LSSTCam/raw/all', \n",
    "                                            'LSSTCam/calib/unbounded', 'LSSTCam/runs/nightlyValidation', \n",
    "                                             'LSSTCam/runs/nightlyValidation/20250425/w_2025_17/DM-50157'])\n",
    "instrument = 'LSSTCam'"
   ]
  },
  {
   "cell_type": "code",
   "execution_count": null,
   "metadata": {},
   "outputs": [],
   "source": [
    "expId = 2025041500227\n",
    "rawExp = butler.get('raw', detector=94, exposure=expId, instrument=instrument)\n",
    "calExp = butler.get('calexp', detector=94, visit=expId, instrument=instrument)"
   ]
  },
  {
   "cell_type": "code",
   "execution_count": null,
   "metadata": {},
   "outputs": [],
   "source": [
    "\n",
    "startDay = 20250527\n",
    "endDay = 20250608\n",
    "\n",
    "els = []\n",
    "azs = []\n",
    "ras = []\n",
    "decs = []\n",
    "rots = []\n",
    "deltaRas = []\n",
    "deltaDecs = []\n",
    "\n",
    "filters = []\n",
    "pressures = []\n",
    "temps = []\n",
    "hums = []\n",
    "times = []\n",
    "dayObs = startDay\n",
    "while dayObs <= endDay:\n",
    "    exposureList = []\n",
    "    for record in butler.registry.queryDimensionRecords(\"exposure\", \n",
    "                where=f\"exposure.day_obs={dayObs} and instrument='LSSTCam'\"):\n",
    "        exposureList.append([record.id, record])\n",
    "    exposureList.sort(key=lambda x: x[0])\n",
    "    print(len(exposureList))\n",
    "    for [id,record] in exposureList:\n",
    "        if record.observation_type not in ['science', 'acq']:\n",
    "            continue\n",
    "        try:\n",
    "            calExp = butler.get('preliminary_visit_image', detector=94, visit=record.id, instrument=instrument)\n",
    "            rawExp = butler.get('raw', detector=94, exposure=record.id, instrument=instrument)\n",
    "            md = rawExp.getMetadata()\n",
    "            cWcs = calExp.getWcs()\n",
    "            rWcs = rawExp.getWcs()\n",
    "            rawSkyCenter = rWcs.getSkyOrigin()\n",
    "            calExpSkyCenter = cWcs.pixelToSky(rWcs.getPixelOrigin())\n",
    "            ra = calExpSkyCenter.getRa().asDegrees()\n",
    "            dec = calExpSkyCenter.getDec().asDegrees()\n",
    "            #print(ra, dec)\n",
    "            deltaRa = rawSkyCenter.getRa().asArcseconds() - calExpSkyCenter.getRa().asArcseconds()\n",
    "            deltaDec = rawSkyCenter.getDec().asArcseconds() - calExpSkyCenter.getDec().asArcseconds()\n",
    "            deltaRas.append(deltaRa)\n",
    "            deltaDecs.append(deltaDec)\n",
    "            els.append(md['ELSTART'])\n",
    "            azs.append(md['AZSTART'])\n",
    "            rots.append(md['ROTPA'])\n",
    "            ras.append(ra)\n",
    "            decs.append(dec)\n",
    "            filters.append(md['FILTBAND'])\n",
    "            pressures.append(md['PRESSURE'])\n",
    "            temps.append(md['AIRTEMP'])\n",
    "            hums.append(md['HUMIDITY'])\n",
    "            times.append((md['MJD-BEG'] + md['MJD-END']) / 2.0)\n",
    "            print(f\"{record.id}, deltaRa = {deltaRa:.2f}, deltaDec = {deltaDec:.2f}\")\n",
    "        except:\n",
    "            print(f\"{record.id} failed!\")\n",
    "            continue\n",
    "    print(dayObs, len(ras))\n",
    "    dayObs = calcNextDay(dayObs)\n",
    "\n",
    "filename = \"/home/c/cslage/u/LSSTCam/data/pointing_results_rot_27may25-08jun25.pkl\"\n",
    "with open(filename, 'wb') as f:\n",
    "    pkl.dump([els, azs, ras, decs, rots, deltaRas, deltaDecs, pressures, temps, hums, times, filters], f)\n"
   ]
  },
  {
   "cell_type": "code",
   "execution_count": null,
   "metadata": {
    "execution": {
     "iopub.execute_input": "2025-06-09T17:51:52.646918Z",
     "iopub.status.busy": "2025-06-09T17:51:52.646613Z",
     "iopub.status.idle": "2025-06-09T17:51:52.652746Z",
     "shell.execute_reply": "2025-06-09T17:51:52.652335Z",
     "shell.execute_reply.started": "2025-06-09T17:51:52.646903Z"
    }
   },
   "outputs": [],
   "source": [
    "filename = \"/home/c/cslage/u/LSSTCam/data/pointing_results_rot_27may25-08jun25.pkl\"\n",
    "with open(filename, 'rb') as f:\n",
    "    [els, azs, ras, decs, rots, deltaRas, deltaDecs, pressures, temps, hums, times, filters] = pkl.load(f)\n",
    "len(els)"
   ]
  },
  {
   "cell_type": "code",
   "execution_count": null,
   "metadata": {
    "execution": {
     "iopub.execute_input": "2025-06-09T17:23:21.510165Z",
     "iopub.status.busy": "2025-06-09T17:23:21.509820Z",
     "iopub.status.idle": "2025-06-09T17:23:21.513282Z",
     "shell.execute_reply": "2025-06-09T17:23:21.512951Z",
     "shell.execute_reply.started": "2025-06-09T17:23:21.510147Z"
    }
   },
   "outputs": [],
   "source": [
    "print(len(ras), len(decs), len(els), len(azs), len(rots), len(pressures), len(temps), len(hums), len(times), len(filters))"
   ]
  },
  {
   "cell_type": "code",
   "execution_count": null,
   "metadata": {
    "execution": {
     "iopub.execute_input": "2025-06-09T17:12:50.446547Z",
     "iopub.status.busy": "2025-06-09T17:12:50.446053Z",
     "iopub.status.idle": "2025-06-09T17:12:50.450134Z",
     "shell.execute_reply": "2025-06-09T17:12:50.449723Z",
     "shell.execute_reply.started": "2025-06-09T17:12:50.446517Z"
    }
   },
   "outputs": [],
   "source": [
    "from astropy.coordinates import AltAz, ICRS, EarthLocation, Angle, FK5, SkyCoord\n",
    "import astropy.units as u\n",
    "from lsst.obs.lsst.translators.lsst import SIMONYI_LOCATION\n",
    "wavelengths = {'u':3671, 'g':4827, 'r':6223, 'i':7546, 'z':8691, 'y':9712}"
   ]
  },
  {
   "cell_type": "code",
   "execution_count": null,
   "metadata": {
    "execution": {
     "iopub.execute_input": "2025-06-09T17:52:02.439378Z",
     "iopub.status.busy": "2025-06-09T17:52:02.439161Z",
     "iopub.status.idle": "2025-06-09T17:52:12.809572Z",
     "shell.execute_reply": "2025-06-09T17:52:12.809135Z",
     "shell.execute_reply.started": "2025-06-09T17:52:02.439362Z"
    }
   },
   "outputs": [],
   "source": [
    "deltaAzs = []\n",
    "deltaEls = []\n",
    "trueAzs = []\n",
    "trueEls = []\n",
    "bad_indices = []\n",
    "for index in range(len(ras)):\n",
    "    skyLocation = SkyCoord(ras[index]*u.deg, decs[index]*u.deg)\n",
    "    time = Time(times[index], format='mjd', scale='tai')\n",
    "    pressure = pressures[index] * u.pascal\n",
    "    temperature = temps[index] * u.Celsius\n",
    "    hum = hums[index]\n",
    "    wl = wavelengths[filters[index]] * u.angstrom\n",
    "    altAz = AltAz(obstime=time, location=SIMONYI_LOCATION, pressure=pressure, \n",
    "                 temperature=temperature, relative_humidity=hum, obswl=wl)\n",
    "    obsAltAz = skyLocation.transform_to(altAz)\n",
    "    deltaAz = azs[index] - obsAltAz.az.deg\n",
    "    trueAzs.append(obsAltAz.az.deg)\n",
    "    trueEls.append(obsAltAz.alt.deg)\n",
    "    if deltaAz > 360.0:\n",
    "        deltaAz -= 360.0\n",
    "    if deltaAz < -180.0:\n",
    "        deltaAz += 360.0\n",
    "    deltaAz *= 3600.0 * np.cos(obsAltAz.alt.rad)\n",
    "    deltaEl = (els[index] - obsAltAz.alt.deg) * 3600.0\n",
    "    deltaAzs.append(deltaAz)\n",
    "    deltaEls.append(deltaEl)\n",
    "\"\"\"    \n",
    "    if abs(deltaEl) < 450.0:\n",
    "        deltaAzs.append(deltaAz)\n",
    "        deltaEls.append(deltaEl)\n",
    "    else:\n",
    "        print(index)\n",
    "        bad_indices.append(index)\n",
    "    \n",
    "\n",
    "for index in bad_indices:\n",
    "    del azs[index]\n",
    "    del els[index]\n",
    "\n",
    "\"\"\"\n",
    "len(els)        "
   ]
  },
  {
   "cell_type": "code",
   "execution_count": null,
   "metadata": {
    "execution": {
     "iopub.execute_input": "2025-06-09T17:52:15.426690Z",
     "iopub.status.busy": "2025-06-09T17:52:15.426340Z",
     "iopub.status.idle": "2025-06-09T17:52:15.429723Z",
     "shell.execute_reply": "2025-06-09T17:52:15.429267Z",
     "shell.execute_reply.started": "2025-06-09T17:52:15.426675Z"
    }
   },
   "outputs": [],
   "source": [
    "print(len(ras), len(decs), len(els), len(deltaEls), len(azs), len(deltaAzs), len(rots))"
   ]
  },
  {
   "cell_type": "code",
   "execution_count": null,
   "metadata": {
    "jupyter": {
     "source_hidden": true
    }
   },
   "outputs": [],
   "source": [
    "filename = \"/home/c/cslage/u/LSSTCam/data/pointing_results_engtest_13may25.pkl\"\n",
    "with open(filename, 'rb') as f:\n",
    "    [els2, azs2, ras, decs, deltaRas, deltaDecs, pressures, temps, hums, times, filters] = pkl.load(f)\n",
    "len(els2)"
   ]
  },
  {
   "cell_type": "code",
   "execution_count": null,
   "metadata": {
    "jupyter": {
     "source_hidden": true
    }
   },
   "outputs": [],
   "source": [
    "els += els2\n",
    "azs += azs2\n",
    "len(els)"
   ]
  },
  {
   "cell_type": "code",
   "execution_count": null,
   "metadata": {
    "jupyter": {
     "source_hidden": true
    }
   },
   "outputs": [],
   "source": [
    "for index in range(len(els2)):\n",
    "    skyLocation = SkyCoord(ras[index]*u.deg, decs[index]*u.deg)\n",
    "    time = Time(times[index], format='mjd', scale='tai')\n",
    "    pressure = pressures[index] * u.pascal\n",
    "    temperature = temps[index] * u.Celsius\n",
    "    hum = hums[index]\n",
    "    wl = wavelengths[filters[index]] * u.angstrom\n",
    "    altAz = AltAz(obstime=time, location=SIMONYI_LOCATION, pressure=pressure, \n",
    "                 temperature=temperature, relative_humidity=hum, obswl=wl)\n",
    "    obsAltAz = skyLocation.transform_to(altAz)\n",
    "    deltaAz = azs2[index] - obsAltAz.az.deg\n",
    "    trueAzs.append(obsAltAz.az.deg)\n",
    "    trueEls.append(obsAltAz.alt.deg)\n",
    "    if deltaAz > 360.0:\n",
    "        deltaAz -= 360.0\n",
    "    if deltaAz < -180.0:\n",
    "        deltaAz += 360.0\n",
    "    deltaAz *= 3600.0 * np.cos(obsAltAz.alt.rad)\n",
    "    deltaEl = (els2[index] - obsAltAz.alt.deg) * 3600.0\n",
    "    deltaAzs.append(deltaAz)\n",
    "    deltaEls.append(deltaEl)\n",
    "\"\"\"    \n",
    "    if abs(deltaEl) < 450.0:\n",
    "        deltaAzs.append(deltaAz)\n",
    "        deltaEls.append(deltaEl)\n",
    "    else:\n",
    "        print(index)\n",
    "        bad_indices.append(index)\n",
    "    \n",
    "\n",
    "for index in bad_indices:\n",
    "    del azs[index]\n",
    "    del els[index]\n",
    "\n",
    "\"\"\"\n",
    "len(deltaEls)        "
   ]
  },
  {
   "cell_type": "code",
   "execution_count": null,
   "metadata": {
    "execution": {
     "iopub.execute_input": "2025-06-09T19:00:56.086327Z",
     "iopub.status.busy": "2025-06-09T19:00:56.085991Z",
     "iopub.status.idle": "2025-06-09T19:00:56.570231Z",
     "shell.execute_reply": "2025-06-09T19:00:56.569755Z",
     "shell.execute_reply.started": "2025-06-09T19:00:56.086300Z"
    }
   },
   "outputs": [],
   "source": [
    "plt.figure(figsize=(8,8))\n",
    "plt.suptitle(\"LSSTCam Delta RA/Dec 20250527-20250608\")\n",
    "plt.subplots_adjust(hspace=0.3, wspace=0.3)\n",
    "plt.subplot(2,2,1)\n",
    "plt.scatter(decs, deltaDecs)\n",
    "plt.xlabel('Dec (deg)')\n",
    "plt.xlim(-90, 0)\n",
    "plt.ylabel('Delta Dec arcsec')\n",
    "plt.subplot(2,2,2)\n",
    "plt.scatter(ras, deltaDecs)\n",
    "plt.xlabel('Ra (deg)')\n",
    "plt.xlim(0,360)\n",
    "plt.ylabel('Delta Dec arcsec')\n",
    "plt.subplot(2,2,3)\n",
    "plt.scatter(decs, deltaRas)\n",
    "plt.xlabel('Dec (deg)')\n",
    "plt.xlim(-90, 0)\n",
    "plt.ylabel('Delta Ra arcsec')\n",
    "plt.subplot(2,2,4)\n",
    "plt.scatter(ras, deltaRas)\n",
    "plt.xlabel('Ra (deg)')\n",
    "plt.xlim(0,360)\n",
    "plt.ylabel('Delta Ra arcsec')\n",
    "plt.savefig(\"/home/c/cslage/u/LSSTCam/data/Delta_RaDec_08Jun25.png\")\n"
   ]
  },
  {
   "cell_type": "code",
   "execution_count": null,
   "metadata": {
    "execution": {
     "iopub.execute_input": "2025-06-09T17:55:24.391306Z",
     "iopub.status.busy": "2025-06-09T17:55:24.390493Z",
     "iopub.status.idle": "2025-06-09T17:55:24.726115Z",
     "shell.execute_reply": "2025-06-09T17:55:24.725734Z",
     "shell.execute_reply.started": "2025-06-09T17:55:24.391277Z"
    }
   },
   "outputs": [],
   "source": [
    "from scipy.optimize import minimize\n",
    "def FOM1(params, args):\n",
    "    fom = 0.0\n",
    "    [azs, deltaEls] = args\n",
    "    [amp, off] = params\n",
    "    for i in range(len(azs)):\n",
    "        if abs(deltaEls[i]) > 450.0:\n",
    "            continue\n",
    "        model = off + amp * np.sin((azs[i]) * np.pi / 180.0)\n",
    "        err = np.square(model - deltaEls[i])\n",
    "        fom += err\n",
    "    return fom\n",
    "\n",
    "args = [azs, deltaEls]\n",
    "x0 = [400.0, 0.0]\n",
    "result1 = minimize(FOM1, x0, args=args, method='Powell')\n",
    "result1"
   ]
  },
  {
   "cell_type": "code",
   "execution_count": null,
   "metadata": {
    "execution": {
     "iopub.execute_input": "2025-06-09T17:55:26.064038Z",
     "iopub.status.busy": "2025-06-09T17:55:26.063815Z",
     "iopub.status.idle": "2025-06-09T17:55:26.269195Z",
     "shell.execute_reply": "2025-06-09T17:55:26.268861Z",
     "shell.execute_reply.started": "2025-06-09T17:55:26.064023Z"
    }
   },
   "outputs": [],
   "source": [
    "from scipy.optimize import minimize\n",
    "def FOM2(params, args):\n",
    "    fom = 0.0\n",
    "    [azs, deltaAzs] = args\n",
    "    [amp, off] = params\n",
    "    for i in range(len(azs)):\n",
    "        if abs(deltaAzs[i]) > 450.0:\n",
    "            continue\n",
    "        model = off + amp * np.cos((azs[i]) * np.pi / 180.0)\n",
    "        err = np.square(model - deltaAzs[i])\n",
    "        fom += err\n",
    "    return fom\n",
    "\n",
    "args2 = [azs, deltaAzs]\n",
    "x0 = [400.0, 100.0]\n",
    "result2 = minimize(FOM2, x0, args=args2, method='Powell')\n",
    "result2"
   ]
  },
  {
   "cell_type": "code",
   "execution_count": null,
   "metadata": {
    "execution": {
     "iopub.execute_input": "2025-06-09T17:55:11.710156Z",
     "iopub.status.busy": "2025-06-09T17:55:11.709937Z",
     "iopub.status.idle": "2025-06-09T17:55:11.713945Z",
     "shell.execute_reply": "2025-06-09T17:55:11.713576Z",
     "shell.execute_reply.started": "2025-06-09T17:55:11.710142Z"
    }
   },
   "outputs": [],
   "source": [
    "def errs1(amp1, off1, azs, deltaEls):\n",
    "    errs = []\n",
    "    for i in range(len(azs)):\n",
    "        model = off1 + amp1 * np.sin((azs[i]) * np.pi / 180.0)\n",
    "        err = np.square(model - deltaEls[i])\n",
    "        errs.append(err)\n",
    "    return errs\n",
    "\n",
    "def errs2(amp2, off2, azs, deltaAzs):\n",
    "    errs = []\n",
    "    for i in range(len(azs)):\n",
    "        model = off2 + amp2 * np.cos((azs[i]) * np.pi / 180.0)\n",
    "        err = np.square(model - deltaAzs[i])\n",
    "        errs.append(err)\n",
    "    return errs\n"
   ]
  },
  {
   "cell_type": "code",
   "execution_count": null,
   "metadata": {
    "execution": {
     "iopub.execute_input": "2025-06-09T17:55:28.321879Z",
     "iopub.status.busy": "2025-06-09T17:55:28.321559Z",
     "iopub.status.idle": "2025-06-09T17:55:28.330658Z",
     "shell.execute_reply": "2025-06-09T17:55:28.330173Z",
     "shell.execute_reply.started": "2025-06-09T17:55:28.321861Z"
    }
   },
   "outputs": [],
   "source": [
    "[amp1, off1] = result1.x\n",
    "[amp2, off2] = result2.x\n",
    "elErrs = errs1(amp1, off1, azs, deltaEls)\n",
    "azErrs = errs2(amp2, off2, azs, deltaAzs)"
   ]
  },
  {
   "cell_type": "code",
   "execution_count": null,
   "metadata": {
    "execution": {
     "iopub.execute_input": "2025-06-09T17:55:29.638157Z",
     "iopub.status.busy": "2025-06-09T17:55:29.637814Z",
     "iopub.status.idle": "2025-06-09T17:55:29.846510Z",
     "shell.execute_reply": "2025-06-09T17:55:29.846086Z",
     "shell.execute_reply.started": "2025-06-09T17:55:29.638140Z"
    }
   },
   "outputs": [],
   "source": [
    "plt.subplot(1,2,1)\n",
    "plt.hist(elErrs, bins = 50)\n",
    "plt.xlim(0, 5000)\n",
    "plt.subplot(1,2,2)\n",
    "plt.hist(azErrs, bins = 50)\n",
    "plt.xlim(0, 5000)"
   ]
  },
  {
   "cell_type": "code",
   "execution_count": null,
   "metadata": {
    "execution": {
     "iopub.execute_input": "2025-06-09T17:52:54.479028Z",
     "iopub.status.busy": "2025-06-09T17:52:54.478682Z",
     "iopub.status.idle": "2025-06-09T17:52:54.483580Z",
     "shell.execute_reply": "2025-06-09T17:52:54.483125Z",
     "shell.execute_reply.started": "2025-06-09T17:52:54.479008Z"
    }
   },
   "outputs": [],
   "source": [
    "def trim(azs, els, deltaAzs, deltaEls, trueAzs, trueEls, rots, off1, amp1, off2, amp2, limit=2000):\n",
    "    elErrs = errs1(amp1, off1, azs, deltaEls)\n",
    "    azErrs = errs2(amp2, off2, azs, deltaAzs)\n",
    "    newAzs = []; newEls = []; newDeltaAzs = []; newDeltaEls = []; newRots = []\n",
    "    newTrueAzs = []; newTrueEls = []\n",
    "    for i in range(len(azs)):\n",
    "        if (azErrs[i] < limit) and (elErrs[i] < limit):\n",
    "            newAzs.append(azs[i]); newEls.append(els[i]); newRots.append(rots[i])\n",
    "            newDeltaAzs.append(deltaAzs[i]); newDeltaEls.append(deltaEls[i])\n",
    "            newTrueAzs.append(trueAzs[i]); newTrueEls.append(trueEls[i])\n",
    "    print(len(newEls), len(newDeltaEls), len(newAzs), len(newDeltaAzs), len(newTrueAzs), len(newTrueEls))\n",
    "    return newAzs, newEls, newDeltaAzs, newDeltaEls, newTrueAzs, newTrueEls, newRots\n",
    "        \n",
    "    "
   ]
  },
  {
   "cell_type": "code",
   "execution_count": null,
   "metadata": {
    "execution": {
     "iopub.execute_input": "2025-06-09T17:55:20.791605Z",
     "iopub.status.busy": "2025-06-09T17:55:20.791060Z",
     "iopub.status.idle": "2025-06-09T17:55:20.801663Z",
     "shell.execute_reply": "2025-06-09T17:55:20.801278Z",
     "shell.execute_reply.started": "2025-06-09T17:55:20.791585Z"
    }
   },
   "outputs": [],
   "source": [
    "azs, els, deltaAzs, deltaEls, trueAzs, trueEls, rots = trim(azs, els, deltaAzs, deltaEls, trueAzs, trueEls, rots, off1, amp1, off2, amp2)"
   ]
  },
  {
   "cell_type": "code",
   "execution_count": null,
   "metadata": {
    "execution": {
     "iopub.execute_input": "2025-06-09T17:56:37.169915Z",
     "iopub.status.busy": "2025-06-09T17:56:37.169697Z",
     "iopub.status.idle": "2025-06-09T17:56:37.173058Z",
     "shell.execute_reply": "2025-06-09T17:56:37.172677Z",
     "shell.execute_reply.started": "2025-06-09T17:56:37.169901Z"
    }
   },
   "outputs": [],
   "source": [
    "print(len(trueAzs), len(trueEls), len(els), len(deltaEls), len(azs), len(deltaAzs))"
   ]
  },
  {
   "cell_type": "code",
   "execution_count": null,
   "metadata": {
    "execution": {
     "iopub.execute_input": "2025-06-09T17:55:35.542983Z",
     "iopub.status.busy": "2025-06-09T17:55:35.542712Z",
     "iopub.status.idle": "2025-06-09T17:55:36.337586Z",
     "shell.execute_reply": "2025-06-09T17:55:36.337149Z",
     "shell.execute_reply.started": "2025-06-09T17:55:35.542968Z"
    }
   },
   "outputs": [],
   "source": [
    "\n",
    "[amp1, off1] = result1.x\n",
    "[amp2, off2] = result2.x\n",
    "xs = np.linspace(-180.0, 180.0, 200)\n",
    "ys1 = off1 + amp1 * np.sin((xs) * np.pi / 180.0)\n",
    "ys2 = off2 + amp2 * np.cos((xs) * np.pi / 180.0)\n",
    "\n",
    "\n",
    "plt.figure(figsize=(8,8))\n",
    "plt.suptitle(\"LSSTCam Delta AltAz 20250527-20250608\")\n",
    "plt.subplots_adjust(hspace=0.3, wspace=0.7)\n",
    "plt.subplot(2,2,1)\n",
    "p1 = plt.scatter(els, deltaEls, c=azs, cmap=plt.cm.coolwarm)\n",
    "cb1 = plt.colorbar(p1)\n",
    "cb1.set_label('Az')\n",
    "plt.xlabel('El')\n",
    "plt.xlim(30, 85)\n",
    "plt.ylabel('Delta El arcsec')\n",
    "plt.subplot(2,2,2)\n",
    "p2 = plt.scatter(azs, deltaEls,c=els, cmap=plt.cm.coolwarm)\n",
    "cb2 = plt.colorbar(p2)\n",
    "cb2.set_label('El')\n",
    "plt.plot(xs, ys1, ls = '--', color='black')\n",
    "plt.text(-150,-80,f\"deltaEl={off1:.1f}+\\n{amp1:.1f}*sin(az)\")\n",
    "plt.xlabel('Az')\n",
    "plt.xlim(-180, 180)\n",
    "plt.ylabel('Delta El arcsec')\n",
    "plt.subplot(2,2,3)\n",
    "p3 = plt.scatter(els, deltaAzs, c=azs, cmap=plt.cm.coolwarm)\n",
    "cb3 = plt.colorbar(p3)\n",
    "cb3.set_label('Az')\n",
    "plt.xlabel('El')\n",
    "plt.xlim(30, 85)\n",
    "plt.ylabel('Delta Az*cos(El) arcsec')\n",
    "plt.subplot(2,2,4)\n",
    "p4 = plt.scatter(azs, deltaAzs,c=els, cmap=plt.cm.coolwarm)\n",
    "plt.plot(xs, ys2, ls = '--', color='black')\n",
    "plt.text(-100,-50,f\"deltaAz={off2:.1f}+\\n{amp2:.1f}*cos(az)\")\n",
    "cb4 = plt.colorbar(p4)\n",
    "cb4.set_label('El')\n",
    "plt.xlabel('Az')\n",
    "plt.xlim(-180, 180)\n",
    "plt.ylabel('Delta Az*cos(El) arcsec')\n",
    "plt.savefig(\"/home/c/cslage/u/LSSTCam/data/Delta_AltAz_27May25-08Jun25.png\")\n"
   ]
  },
  {
   "cell_type": "code",
   "execution_count": null,
   "metadata": {
    "execution": {
     "iopub.execute_input": "2025-06-09T18:00:40.246391Z",
     "iopub.status.busy": "2025-06-09T18:00:40.246060Z",
     "iopub.status.idle": "2025-06-09T18:00:40.249794Z",
     "shell.execute_reply": "2025-06-09T18:00:40.249373Z",
     "shell.execute_reply.started": "2025-06-09T18:00:40.246373Z"
    }
   },
   "outputs": [],
   "source": [
    "for i in range(20):\n",
    "    print(f\"{trueAzs[i]:.9f}\\t{trueEls[i]:.6f}\\t{azs[i]:.9f}\\t{els[i]:.9f}\\t{rots[i]:.6f}\")"
   ]
  },
  {
   "cell_type": "markdown",
   "metadata": {},
   "source": [
    "# Generate a tpoint input file with these AltAz errors"
   ]
  },
  {
   "cell_type": "code",
   "execution_count": null,
   "metadata": {
    "execution": {
     "iopub.execute_input": "2025-06-09T18:00:36.014404Z",
     "iopub.status.busy": "2025-06-09T18:00:36.014185Z",
     "iopub.status.idle": "2025-06-09T18:00:36.028171Z",
     "shell.execute_reply": "2025-06-09T18:00:36.027723Z",
     "shell.execute_reply.started": "2025-06-09T18:00:36.014389Z"
    }
   },
   "outputs": [],
   "source": [
    "outfilename = \"/home/c/cslage/u/LSSTCam/data/Tpoint_Input_09Jun25.dat\"\n",
    "outfile = open(outfilename, 'w')\n",
    "outfile.write(\"!\" + outfilename + \"\\n\")\n",
    "outfile.write(\"!Simonyi Telescope file,June 9, 2025 \\n\")\n",
    "outfile.write(\": ALTAZ\\n\")\n",
    "outfile.write(\": ROTNR\\n\")\n",
    "outfile.write(\"-30 14 40.2\\n\")\n",
    "for i in range(len(els)):\n",
    "    if azs[i] > 360.0:\n",
    "        azs[i] -= 360.0\n",
    "    if azs[i] < 0.0:\n",
    "        azs[i] += 360.0\n",
    "    outfile.write(f\"{trueAzs[i]:.9f}\\t{trueEls[i]:.6f}\\t{azs[i]:.9f}\\t{els[i]:.9f}\\t{rots[i]:.6f}\\n\")\n",
    "outfile.write(\"END\\n\")\n",
    "outfile.close()\n",
    "\n"
   ]
  },
  {
   "cell_type": "markdown",
   "metadata": {},
   "source": [
    "## Test if that's how the AzEl coordinates respond to a rotation about one of the axes"
   ]
  },
  {
   "cell_type": "code",
   "execution_count": null,
   "metadata": {},
   "outputs": [],
   "source": [
    "def to_xyz(az, el):\n",
    "    x = np.cos(el)*np.cos(az)\n",
    "    y = np.cos(el)*np.sin(az)\n",
    "    z = np.sin(el)\n",
    "    return (x,y,z)\n",
    "\n",
    "def to_azel(x, y, z):\n",
    "    el = np.arcsin(z)\n",
    "    az = np.arctan2(y, x)    \n",
    "    return az, el\n",
    "    \n",
    "def Ry(theta):\n",
    "  return np.matrix([[ np.cos(theta), 0, np.sin(theta)],\n",
    "                   [ 0           , 1, 0           ],\n",
    "                   [-np.sin(theta), 0, np.cos(theta)]])\n",
    "\n",
    "def Rx(theta):\n",
    "  return np.matrix([[ 1, 0           , 0           ],\n",
    "                   [ 0, np.cos(theta),-np.sin(theta)],\n",
    "                   [ 0, np.sin(theta), np.cos(theta)]])\n"
   ]
  },
  {
   "cell_type": "code",
   "execution_count": null,
   "metadata": {},
   "outputs": [],
   "source": [
    "# Check if we recover the initial AzEl\n",
    "az = 153.0; el = 65.3\n",
    "(x,y,z) = to_xyz(az*np.pi/180.0, el*np.pi/180.0)\n",
    "print((x,y,z))\n",
    "az2, el2 = to_azel(x,y,z)\n",
    "print(az2*180.0/np.pi, el2*180.0/np.pi)"
   ]
  },
  {
   "cell_type": "code",
   "execution_count": null,
   "metadata": {},
   "outputs": [],
   "source": [
    "test_azs = []\n",
    "test_els = []\n",
    "rot_azs = []\n",
    "rot_els = []\n",
    "test_deltaAzs = []\n",
    "test_deltaEls = []\n",
    "rot = 200.0 / 3600.0 * np.pi / 180.0\n",
    "rx = Rx(rot)\n",
    "for az in range(-175, 185, 15):\n",
    "    for el in range(40, 90, 10):\n",
    "        test_azs.append(az)\n",
    "        test_els.append(el)\n",
    "        (x,y,z) = to_xyz(az*np.pi/180.0, el*np.pi/180.0)\n",
    "        out = rx.dot((x,y,z))\n",
    "        out = np.array(out)[0]\n",
    "        az2, el2 = to_azel(out[0], out[1], out[2])\n",
    "        az2 = az2*180.0/np.pi\n",
    "        el2 = el2*180.0/np.pi\n",
    "        rot_azs.append(az2)\n",
    "        rot_els.append(el2)\n",
    "        test_deltaAz = (az - az2) * 3600.0\n",
    "        test_deltaEl = (el - el2) * 3600.0\n",
    "        test_deltaAzs.append(test_deltaAz * np.cos(el*np.pi/180.0))\n",
    "        test_deltaEls.append(test_deltaEl)\n",
    "\n",
    "\n",
    "\n"
   ]
  },
  {
   "cell_type": "code",
   "execution_count": null,
   "metadata": {},
   "outputs": [],
   "source": [
    "plt.figure(figsize=(8,8))\n",
    "plt.suptitle(\"Test DeltaAz\")\n",
    "plt.subplots_adjust(hspace=0.3, wspace=0.7)\n",
    "plt.subplot(2,2,1)\n",
    "p1 = plt.scatter(test_els, test_deltaEls, c=test_azs, cmap=plt.cm.coolwarm)\n",
    "cb1 = plt.colorbar(p1)\n",
    "cb1.set_label('Az')\n",
    "plt.xlabel('El')\n",
    "plt.xlim(0,90)\n",
    "plt.ylabel('Delta El arcsec')\n",
    "plt.subplot(2,2,2)\n",
    "p2 = plt.scatter(test_azs, test_deltaEls,c=test_els, cmap=plt.cm.coolwarm)\n",
    "cb2 = plt.colorbar(p2)\n",
    "cb2.set_label('El')\n",
    "plt.xlabel('Az')\n",
    "plt.xlim(-180, 180)\n",
    "plt.ylabel('Delta El arcsec')\n",
    "plt.subplot(2,2,3)\n",
    "p3 = plt.scatter(test_els, test_deltaAzs, c=test_azs, cmap=plt.cm.coolwarm)\n",
    "cb3 = plt.colorbar(p3)\n",
    "cb3.set_label('Az')\n",
    "plt.xlabel('El')\n",
    "plt.xlim(0,90)\n",
    "plt.ylabel('Delta Az*cos(El) arcsec')\n",
    "plt.subplot(2,2,4)\n",
    "p4 = plt.scatter(test_azs, test_deltaAzs,c=test_els, cmap=plt.cm.coolwarm)\n",
    "cb4 = plt.colorbar(p4)\n",
    "cb4.set_label('El')\n",
    "plt.xlabel('Az')\n",
    "plt.xlim(-180, 180)\n",
    "plt.ylabel('Delta Az*cos(El) arcsec')\n",
    "plt.savefig(\"/home/c/cslage/u/ComCam/data/Test_Delta_AltAz_18Nov24.png\")\n"
   ]
  },
  {
   "cell_type": "code",
   "execution_count": null,
   "metadata": {},
   "outputs": [],
   "source": []
  },
  {
   "cell_type": "code",
   "execution_count": null,
   "metadata": {
    "execution": {
     "iopub.execute_input": "2025-06-09T18:05:43.814439Z",
     "iopub.status.busy": "2025-06-09T18:05:43.814101Z",
     "iopub.status.idle": "2025-06-09T18:05:44.113922Z",
     "shell.execute_reply": "2025-06-09T18:05:44.113485Z",
     "shell.execute_reply.started": "2025-06-09T18:05:43.814424Z"
    }
   },
   "outputs": [],
   "source": [
    "rad_azs = np.array(azs) * np.pi / 180.0\n",
    "\n",
    "fig=plt.figure(figsize=(8,8))\n",
    "ax1 = plt.subplot(111, projection='polar')\n",
    "ax1.set_title(f\"Sky coverage - LSSTCam 20250527-20250608 Trimmed\")\n",
    "ax1.invert_yaxis()\n",
    "ax1.set_rlim(90,0)\n",
    "ax1.scatter (rad_azs, els)\n",
    "plt.savefig(\"/home/c/cslage/u/LSSTCam/data/Sky_Coverage_Pointing_27May25-08Jun25_Trimmed.png\")"
   ]
  },
  {
   "cell_type": "code",
   "execution_count": null,
   "metadata": {},
   "outputs": [],
   "source": []
  },
  {
   "cell_type": "code",
   "execution_count": null,
   "metadata": {},
   "outputs": [],
   "source": [
    "butler = Butler('/sdf/group/rubin/repo/main', collections=[\"LSSTComCam/raw/all\",\"LSSTComCam/calib\"])\n",
    "instrument = 'LSSTComCam'\n",
    "\n",
    "def DeltaAltAz (el, az):\n",
    "    # This calculates the offset due to the pointing model\n",
    "    # as extracted from ComCam images.\n",
    "    deltaEl = 125.4 - 187.9 * np.sin(az * np.pi / 180.0)\n",
    "    deltaAz = 222.0 + 348.1 * np.cos(az * np.pi / 360.0)\n",
    "    elPrime = el + deltaEl / 3600.0\n",
    "    azPrime = az + deltaAz / 3600.0\n",
    "    return [elPrime, azPrime]\n",
    "\n",
    "def CalculateDrift(expId):\n",
    "    rawExp = butler.get('raw', detector=4, exposure=expId, instrument=instrument)\n",
    "    md = rawExp.getMetadata()\n",
    "    filter = md['FILTBAND']\n",
    "    pressure = md['PRESSURE'] * u.pascal\n",
    "    temperature = md['AIRTEMP'] * u.Celsius\n",
    "    hum = md['HUMIDITY']\n",
    "    time1 = Time(md['MJD-BEG'], format='mjd', scale='tai')\n",
    "    time2 = Time(md['MJD-END'], format='mjd', scale='tai')\n",
    "    ra = md['RASTART']\n",
    "    dec = md['DECSTART']\n",
    "    skyLocation = SkyCoord(ra*u.deg, dec*u.deg)\n",
    "    wl = wavelengths[filter] * u.angstrom\n",
    "    altAz1 = AltAz(obstime=time1, location=SIMONYI_LOCATION, pressure=pressure, \n",
    "                 temperature=temperature, relative_humidity=hum, obswl=wl)\n",
    "    altAz2 = AltAz(obstime=time2, location=SIMONYI_LOCATION, pressure=pressure, \n",
    "                 temperature=temperature, relative_humidity=hum, obswl=wl)\n",
    "    obsAltAz1 = skyLocation.transform_to(altAz1)\n",
    "    obsAltAz2 = skyLocation.transform_to(altAz2)\n",
    "    # 1 is at the beginning of the exposure, 2 is at the end\n",
    "    # el, az are the actual values, prime values reflect the pointing model\n",
    "    # These are all in degrees\n",
    "    el1 = obsAltAz1.alt.deg\n",
    "    az1 = obsAltAz1.az.deg\n",
    "    el2 = obsAltAz2.alt.deg\n",
    "    az2 = obsAltAz2.az.deg\n",
    "    [elPrime1, azPrime1] = DeltaAltAz (el1, az1)\n",
    "    [elPrime2, azPrime2] = DeltaAltAz (el2, az2)\n",
    "    # Change values are the change from the beginning to the end of the exposure, in arcseconds\n",
    "    azChange = (az2 - az1) * 3600.0\n",
    "    elChange = (el2 - el1) * 3600.0\n",
    "    azPrimeChange = (azPrime2 - azPrime1) * 3600.0\n",
    "    elPrimeChange = (elPrime2 - elPrime1) * 3600.0\n",
    "    azDrift = azChange - azPrimeChange\n",
    "    elDrift = elChange - elPrimeChange\n",
    "    print(f\" For {expId}, Azimuth drift = {azDrift:.2f} arcseconds, Elevation drift = {elDrift:.2f} arcseconds\")\n",
    "    return\n",
    "\n",
    "CalculateDrift(2024120700551)"
   ]
  },
  {
   "cell_type": "code",
   "execution_count": null,
   "metadata": {},
   "outputs": [],
   "source": [
    "plt.scatter(azs, els)"
   ]
  },
  {
   "cell_type": "code",
   "execution_count": null,
   "metadata": {},
   "outputs": [],
   "source": [
    "azs[0]"
   ]
  },
  {
   "cell_type": "code",
   "execution_count": null,
   "metadata": {},
   "outputs": [],
   "source": []
  }
 ],
 "metadata": {
  "kernelspec": {
   "display_name": "LSST",
   "language": "python",
   "name": "lsst"
  },
  "language_info": {
   "codemirror_mode": {
    "name": "ipython",
    "version": 3
   },
   "file_extension": ".py",
   "mimetype": "text/x-python",
   "name": "python",
   "nbconvert_exporter": "python",
   "pygments_lexer": "ipython3",
   "version": "3.12.11"
  }
 },
 "nbformat": 4,
 "nbformat_minor": 4
}
