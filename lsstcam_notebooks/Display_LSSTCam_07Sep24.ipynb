{
 "cells": [
  {
   "cell_type": "markdown",
   "id": "32edfc04-7f98-4c33-9f2d-1b2decbcef62",
   "metadata": {},
   "source": [
    "## Display LSSTCam images\n",
    "In this notebook, we show how to query the LSSTCam repository\\\n",
    "and view the resulting images.\\\n",
    "\n",
    "Craig Lage - 07-Sep-24"
   ]
  },
  {
   "cell_type": "code",
   "execution_count": null,
   "id": "68df4b14-c70e-4493-8bf2-401846d49b89",
   "metadata": {
    "execution": {
     "iopub.execute_input": "2025-01-15T10:12:04.550882Z",
     "iopub.status.busy": "2025-01-15T10:12:04.550588Z",
     "iopub.status.idle": "2025-01-15T10:12:10.059144Z",
     "shell.execute_reply": "2025-01-15T10:12:10.058655Z",
     "shell.execute_reply.started": "2025-01-15T10:12:04.550866Z"
    }
   },
   "outputs": [],
   "source": [
    "import numpy as np\n",
    "import matplotlib.pyplot as plt\n",
    "import astropy.io.fits as pf\n",
    "from lsst.daf.butler import Butler\n",
    "from lsst.ip.isr import IsrTask, IsrTaskConfig\n",
    "from lsst.summit.utils.plotting import plot\n",
    "import lsst.afw.cameraGeom.utils as camGeomUtils\n",
    "import lsst.afw.math as afwMath\n",
    "import lsst.afw.display as afwDisplay"
   ]
  },
  {
   "cell_type": "code",
   "execution_count": null,
   "id": "d2d5ac55-fa5c-4e51-b6cf-b5e37378e6e8",
   "metadata": {
    "execution": {
     "iopub.execute_input": "2025-01-15T10:12:11.268430Z",
     "iopub.status.busy": "2025-01-15T10:12:11.267676Z",
     "iopub.status.idle": "2025-01-15T10:12:11.714534Z",
     "shell.execute_reply": "2025-01-15T10:12:11.714065Z",
     "shell.execute_reply.started": "2025-01-15T10:12:11.268413Z"
    }
   },
   "outputs": [],
   "source": [
    "butler = Butler('embargo', collections=['LSSTCam/raw/all', 'LSSTCam/calib/unbounded'])"
   ]
  },
  {
   "cell_type": "code",
   "execution_count": null,
   "id": "49ae3e65-78af-4126-8370-ca6341c1fe17",
   "metadata": {
    "execution": {
     "iopub.execute_input": "2024-09-09T18:01:51.269451Z",
     "iopub.status.busy": "2024-09-09T18:01:51.269253Z",
     "iopub.status.idle": "2024-09-09T18:01:51.287381Z",
     "shell.execute_reply": "2024-09-09T18:01:51.287023Z",
     "shell.execute_reply.started": "2024-09-09T18:01:51.269438Z"
    }
   },
   "outputs": [],
   "source": [
    "dayObs = 20240909\n",
    "instrument = \"LSSTCam\"\n",
    "\n",
    "exposureList = []\n",
    "for record in butler.registry.queryDimensionRecords(\"exposure\", \n",
    "                    where=f\"exposure.day_obs={dayObs} and instrument='LSSTCam'\"):\n",
    "    exposureList.append([record.id, record])\n",
    "exposureList.sort(key=lambda x: x[0])\n",
    "for [id,record] in exposureList:\n",
    "    print(record.id, record.observation_type, record.exposure_time, record.physical_filter)\n"
   ]
  },
  {
   "cell_type": "markdown",
   "id": "6b8d9ddc-13b5-4348-963b-dfe387c8c6ff",
   "metadata": {},
   "source": [
    "## Define a simple ISR\n",
    "### Just overscan subtraction."
   ]
  },
  {
   "cell_type": "code",
   "execution_count": null,
   "id": "a73a2741-5869-40c7-89d5-76f752d3f220",
   "metadata": {
    "execution": {
     "iopub.execute_input": "2024-09-09T18:02:02.698074Z",
     "iopub.status.busy": "2024-09-09T18:02:02.697730Z",
     "iopub.status.idle": "2024-09-09T18:02:02.723293Z",
     "shell.execute_reply": "2024-09-09T18:02:02.722896Z",
     "shell.execute_reply.started": "2024-09-09T18:02:02.698061Z"
    },
    "tags": []
   },
   "outputs": [],
   "source": [
    "isrConfig = IsrTaskConfig()\n",
    "isrConfig.doLinearize=False\n",
    "isrConfig.doOverscan=True\n",
    "isrConfig.overscan.fitType=\"MEDIAN_PER_ROW\"\n",
    "isrConfig.overscan.doParallelOverscan=True\n",
    "isrConfig.doAssembleCcd=True\n",
    "isrConfig.doBias=False\n",
    "isrConfig.doVariance=False\n",
    "isrConfig.doCrosstalk=False\n",
    "isrConfig.doBrighterFatter=False\n",
    "isrConfig.doDark=False\n",
    "isrConfig.doStrayLight=False\n",
    "isrConfig.doFlat=False\n",
    "isrConfig.doFringe=False\n",
    "isrConfig.doApplyGains=False\n",
    "isrConfig.usePtcGains=False\n",
    "isrConfig.doDefect=False\n",
    "isrConfig.doNanMasking=False\n",
    "isrConfig.doInterpolate=False\n",
    "isrConfig.doSaturation=False\n",
    "isrConfig.doSaturationInterpolation=False\n",
    "isrTask = IsrTask(config=isrConfig)"
   ]
  },
  {
   "cell_type": "markdown",
   "id": "609bd467-54a9-432b-a6f4-90c1f42df40c",
   "metadata": {},
   "source": [
    "## Run the ISR on one CCD and look at the result"
   ]
  },
  {
   "cell_type": "code",
   "execution_count": null,
   "id": "8807e12f-9a03-4a34-bfe0-d5c6ea8dc54d",
   "metadata": {
    "execution": {
     "iopub.execute_input": "2024-09-09T18:02:17.787539Z",
     "iopub.status.busy": "2024-09-09T18:02:17.787218Z",
     "iopub.status.idle": "2024-09-09T18:02:19.544134Z",
     "shell.execute_reply": "2024-09-09T18:02:19.543683Z",
     "shell.execute_reply.started": "2024-09-09T18:02:17.787526Z"
    },
    "tags": []
   },
   "outputs": [],
   "source": [
    "instrument = 'LSSTCam'\n",
    "camera = butler.get('camera', instrument=instrument)\n",
    "expId = 2024090900006\n",
    "detector = 2\n",
    "exp = butler.get('raw', detector=detector, exposure=expId, instrument=instrument)\n",
    "isrResult = isrTask.run(exp) # This runs the ISR"
   ]
  },
  {
   "cell_type": "code",
   "execution_count": null,
   "id": "2c2a8be9-73b9-4e0a-8c8b-9ec9f01cc082",
   "metadata": {
    "execution": {
     "iopub.execute_input": "2024-09-09T18:02:23.964540Z",
     "iopub.status.busy": "2024-09-09T18:02:23.964323Z",
     "iopub.status.idle": "2024-09-09T18:02:25.750934Z",
     "shell.execute_reply": "2024-09-09T18:02:25.750509Z",
     "shell.execute_reply.started": "2024-09-09T18:02:23.964525Z"
    }
   },
   "outputs": [],
   "source": [
    "%matplotlib inline\n",
    "x = plot(isrResult.exposure, stretch='ccs')\n",
    "plt.savefig(f\"/home/c/cslage/u/LSSTCam/images/LSSTCam_{expId}_{detector}.png\")"
   ]
  },
  {
   "cell_type": "code",
   "execution_count": null,
   "id": "90aa74e3-d710-4349-a408-45316a1681d1",
   "metadata": {
    "execution": {
     "iopub.execute_input": "2025-01-15T10:13:22.501924Z",
     "iopub.status.busy": "2025-01-15T10:13:22.501338Z",
     "iopub.status.idle": "2025-01-15T10:13:22.505377Z",
     "shell.execute_reply": "2025-01-15T10:13:22.504989Z",
     "shell.execute_reply.started": "2025-01-15T10:13:22.501905Z"
    }
   },
   "outputs": [],
   "source": [
    "def isrCallback(im, ccd, imageSource):\n",
    "    \"\"\"Assemble the CCD image and do basic ISR\"\"\"\n",
    "    dayObs = imageSource.kwargs['day_obs']\n",
    "    seqNum = imageSource.kwargs['seq_num']\n",
    "    exp = imageSource.butler.get('raw', detector=ccd.getId(), day_obs=dayObs, seq_num=seqNum)\n",
    "    isrResult = isrTask.run(exp)\n",
    "    nQuarter = ccd.getOrientation().getNQuarter()\n",
    "    oim = afwMath.rotateImageBy90(isrResult.exposure.image, nQuarter)\n",
    "    return oim\n",
    "\n",
    "def rawCallback(im, ccd, imageSource):\n",
    "    \"\"\"Assemble the CCD image.  Just bias subtraction and gain correction\"\"\"\n",
    "    oim = camGeomUtils.rawCallback(im, ccd, imageSource,\n",
    "                                   subtractBias=False, correctGain=False)\n",
    "    return oim"
   ]
  },
  {
   "cell_type": "code",
   "execution_count": null,
   "id": "500f51e7-93d5-4ee6-809d-b7bf2f698396",
   "metadata": {
    "execution": {
     "iopub.execute_input": "2025-01-15T11:12:36.418959Z",
     "iopub.status.busy": "2025-01-15T11:12:36.418650Z",
     "iopub.status.idle": "2025-01-15T11:14:05.137526Z",
     "shell.execute_reply": "2025-01-15T11:14:05.137111Z",
     "shell.execute_reply.started": "2025-01-15T11:12:36.418940Z"
    }
   },
   "outputs": [],
   "source": [
    "%matplotlib inline\n",
    "instrument = \"LSSTCam\"\n",
    "camera = butler.get('camera', instrument=instrument)\n",
    "fig = plt.figure(figsize=(12,12))\n",
    "disp = afwDisplay.Display(1, \"matplotlib\")\n",
    "disp.scale('linear', min=0, max=100000)\n",
    "dayObs = 20240906\n",
    "seqNum = 117\n",
    "dataType='raw'\n",
    "mos = camGeomUtils.showCamera(camera,\n",
    "                              camGeomUtils.ButlerImage(butler, dataType, \n",
    "                                                       instrument=instrument, \n",
    "                                                       day_obs=dayObs, seq_num=seqNum,\n",
    "                                                       verbose=False, callback=rawCallback,\n",
    "                                                       background=np.nan),\n",
    "                              binSize=4, display=disp, overlay=False,\n",
    "                              title=\"%d %d\" % (dayObs, seqNum))\n",
    "\n",
    "plt.savefig(f\"/home/c/cslage/u/LSSTCam/images/LSSTCam_Raw_{dayObs}_{seqNum}.png\")"
   ]
  },
  {
   "cell_type": "code",
   "execution_count": null,
   "id": "6cd48d17-9a85-404e-9f75-d0ab1161b1d5",
   "metadata": {
    "execution": {
     "iopub.execute_input": "2024-09-08T16:31:26.376435Z",
     "iopub.status.busy": "2024-09-08T16:31:26.376083Z",
     "iopub.status.idle": "2024-09-08T16:31:28.222384Z",
     "shell.execute_reply": "2024-09-08T16:31:28.221872Z",
     "shell.execute_reply.started": "2024-09-08T16:31:26.376419Z"
    }
   },
   "outputs": [],
   "source": [
    "%matplotlib inline\n",
    "plt.title(f\"LSSTCam {dayObs}_{seqNum}\")\n",
    "plt.plot(mos.array[2000, :], label=\"X slice\")\n",
    "plt.plot(mos.array[:, 2000], label=\"Y slice\")\n",
    "plt.ylim(-5, 5)\n",
    "#plt.ylim(-50, 50)\n",
    "plt.ylabel(\"Flux (ADU)\")\n",
    "plt.xlabel(\"Pixels (binned by 16)\")\n",
    "plt.legend()\n",
    "plt.savefig(f\"/home/c/cslage/u/LSSTCam/images/LSST_Slices_{dayObs}_{seqNum}.png\")"
   ]
  },
  {
   "cell_type": "code",
   "execution_count": null,
   "id": "2cc64766-3688-4854-8322-5afeaaf25c3a",
   "metadata": {},
   "outputs": [],
   "source": []
  }
 ],
 "metadata": {
  "kernelspec": {
   "display_name": "LSST",
   "language": "python",
   "name": "lsst"
  },
  "language_info": {
   "codemirror_mode": {
    "name": "ipython",
    "version": 3
   },
   "file_extension": ".py",
   "mimetype": "text/x-python",
   "name": "python",
   "nbconvert_exporter": "python",
   "pygments_lexer": "ipython3",
   "version": "3.11.9"
  }
 },
 "nbformat": 4,
 "nbformat_minor": 5
}
