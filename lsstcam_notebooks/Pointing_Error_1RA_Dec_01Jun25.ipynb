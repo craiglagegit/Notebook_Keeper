{
 "cells": [
  {
   "cell_type": "markdown",
   "metadata": {},
   "source": [
    "# LSSTCam pointing errors\n",
    "\n",
    "Craig Lage - 16-Apr-25"
   ]
  },
  {
   "cell_type": "code",
   "execution_count": null,
   "metadata": {
    "execution": {
     "iopub.execute_input": "2025-06-02T13:49:06.340355Z",
     "iopub.status.busy": "2025-06-02T13:49:06.340005Z",
     "iopub.status.idle": "2025-06-02T13:49:14.728037Z",
     "shell.execute_reply": "2025-06-02T13:49:14.727487Z",
     "shell.execute_reply.started": "2025-06-02T13:49:06.340338Z"
    },
    "tags": []
   },
   "outputs": [],
   "source": [
    "import numpy as np\n",
    "import pickle as pkl\n",
    "import matplotlib.pyplot as plt\n",
    "from astropy.time import Time, TimeDelta\n",
    "from lsst.daf.butler import Butler\n",
    "import lsst.summit.utils.butlerUtils as butlerUtils\n",
    "from lsst.summit.utils.utils import dayObsIntToString\n",
    "from lsst.summit.utils.efdUtils import calcNextDay\n",
    "from astropy.coordinates import EarthLocation\n",
    "location = EarthLocation.of_site('Rubin:Simonyi')\n"
   ]
  },
  {
   "cell_type": "code",
   "execution_count": null,
   "metadata": {
    "execution": {
     "iopub.execute_input": "2025-06-02T13:49:14.728974Z",
     "iopub.status.busy": "2025-06-02T13:49:14.728812Z",
     "iopub.status.idle": "2025-06-02T13:49:15.568328Z",
     "shell.execute_reply": "2025-06-02T13:49:15.567863Z",
     "shell.execute_reply.started": "2025-06-02T13:49:14.728960Z"
    }
   },
   "outputs": [],
   "source": [
    "butler = Butler('/repo/embargo', collections=['LSSTCam/raw/all', \n",
    "                                            'LSSTCam/calib/unbounded', 'LSSTCam/runs/nightlyValidation', \n",
    "                                             'LSSTCam/runs/nightlyValidation/20250425/w_2025_17/DM-50157'])\n",
    "instrument = 'LSSTCam'"
   ]
  },
  {
   "cell_type": "code",
   "execution_count": null,
   "metadata": {
    "execution": {
     "iopub.execute_input": "2025-06-02T13:49:16.552686Z",
     "iopub.status.busy": "2025-06-02T13:49:16.552355Z",
     "iopub.status.idle": "2025-06-02T14:49:49.271629Z",
     "shell.execute_reply": "2025-06-02T14:49:49.271130Z",
     "shell.execute_reply.started": "2025-06-02T13:49:16.552668Z"
    },
    "jupyter": {
     "outputs_hidden": true
    }
   },
   "outputs": [],
   "source": [
    "startDay = 20250527\n",
    "endDay = 20250601\n",
    "\n",
    "ras = []\n",
    "decs = []\n",
    "trueRas = []\n",
    "trueDecs = []\n",
    "side_times = []\n",
    "dayObs = startDay\n",
    "while dayObs <= endDay:\n",
    "    exposureList = []\n",
    "    for record in butler.registry.queryDimensionRecords(\"exposure\", \n",
    "                where=f\"exposure.day_obs={dayObs} and instrument='LSSTCam'\"):\n",
    "        exposureList.append([record.id, record])\n",
    "    exposureList.sort(key=lambda x: x[0])\n",
    "    print(len(exposureList))\n",
    "    for [id,record] in exposureList:\n",
    "        if record.observation_type not in ['science', 'acq']:\n",
    "            continue\n",
    "        try:\n",
    "            calExp = butler.get('preliminary_visit_image', detector=94, visit=record.id, instrument=instrument)\n",
    "            rawExp = butler.get('raw', detector=94, exposure=record.id, instrument=instrument)\n",
    "            md = rawExp.getMetadata()\n",
    "            cWcs = calExp.getWcs()\n",
    "            rWcs = rawExp.getWcs()\n",
    "            rawSkyCenter = rWcs.getSkyOrigin()\n",
    "            calExpSkyCenter = cWcs.pixelToSky(rWcs.getPixelOrigin())\n",
    "            trueRa = calExpSkyCenter.getRa().asDegrees()\n",
    "            trueDec = calExpSkyCenter.getDec().asDegrees()\n",
    "            trueRas.append(trueRa)\n",
    "            trueDecs.append(trueDec)\n",
    "            ra = md['RASTART']\n",
    "            dec = md['DECSTART']\n",
    "            ras.append(ra)\n",
    "            decs.append(dec)\n",
    "            time = Time((md['MJD-BEG'] + md['MJD-END']) / 2.0,  scale='tai', format='mjd')\n",
    "            side_time = time.sidereal_time('mean', longitude=location)\n",
    "            side_times.append(side_time)\n",
    "            print(f\"{record.id}, ra = {ra:.6f}, trueRa = {trueRa:.6f}, dec = {dec:.6f}, trueDec = {trueDec:.6f}\")\n",
    "        except:\n",
    "            print(f\"{record.id} failed!\")\n",
    "            continue\n",
    "    print(dayObs, len(ras))\n",
    "    dayObs = calcNextDay(dayObs)\n",
    "\n",
    "\n"
   ]
  },
  {
   "cell_type": "code",
   "execution_count": null,
   "metadata": {},
   "outputs": [],
   "source": [
    "filename = \"/home/c/cslage/u/LSSTCam/data/pointing_results_ra_dec_27may25-01jun25.pkl\"\n",
    "with open(filename, 'wb') as f:\n",
    "    pkl.dump([ras, decs, trueRas, trueDecs, side_times], f)\n"
   ]
  },
  {
   "cell_type": "code",
   "execution_count": null,
   "metadata": {},
   "outputs": [],
   "source": [
    "filename = \"/home/c/cslage/u/LSSTCam/data/pointing_results_ra_dec_27may25-01jun25.pkl\"\n",
    "with open(filename, 'rb') as f:\n",
    "    [ras, decs, trueRas, trueDecs, side_times] = pkl.load(f)\n",
    "len(els)"
   ]
  },
  {
   "cell_type": "code",
   "execution_count": null,
   "metadata": {},
   "outputs": [],
   "source": [
    "print(len(ras), len(decs), len(trueRas), len(trueDecs), len(side_times))"
   ]
  },
  {
   "cell_type": "markdown",
   "metadata": {},
   "source": [
    "# Generate a tpoint input file with these RaDec values"
   ]
  },
  {
   "cell_type": "code",
   "execution_count": null,
   "metadata": {},
   "outputs": [],
   "source": [
    "outfilename = \"/home/c/cslage/u/LSSTCam/data/Tpoint_Input_RaDec_01Jun25.dat\"\n",
    "outfile = open(outfilename, 'w')\n",
    "outfile.write(\"!\" + outfilename + \"\\n\")\n",
    "outfile.write(\"!Simonyi Telescope file,June 1, 2025 \\n\")\n",
    "outfile.write(\": ALTAZ\\n\")\n",
    "outfile.write(\"-30 14 40.2\\n\")\n",
    "for i in range(len(els)):\n",
    "    h = side_times[i].hms.h\n",
    "    m = side_times[i].hms.m + side_times[i].hms.s / 60.0\n",
    "    outfile.write(f\"{trueRas[i]:.9f}\\t{trueDecs[i]:.9f}\\t{ras[i]:.9f}\\t{decs[i]:.9f}\\t{h:02d}\\t{m:.4f}\\n\")\n",
    "outfile.write(\"END\\n\")\n",
    "outfile.close()\n",
    "\n"
   ]
  },
  {
   "cell_type": "code",
   "execution_count": null,
   "metadata": {},
   "outputs": [],
   "source": []
  }
 ],
 "metadata": {
  "kernelspec": {
   "display_name": "LSST",
   "language": "python",
   "name": "lsst"
  },
  "language_info": {
   "codemirror_mode": {
    "name": "ipython",
    "version": 3
   },
   "file_extension": ".py",
   "mimetype": "text/x-python",
   "name": "python",
   "nbconvert_exporter": "python",
   "pygments_lexer": "ipython3",
   "version": "3.12.11"
  }
 },
 "nbformat": 4,
 "nbformat_minor": 4
}
