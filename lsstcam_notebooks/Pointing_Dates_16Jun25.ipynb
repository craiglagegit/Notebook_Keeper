{
 "cells": [
  {
   "cell_type": "markdown",
   "metadata": {},
   "source": [
    "# LSSTCam pointing errors\n",
    "\n",
    "Craig Lage - 16-Apr-25"
   ]
  },
  {
   "cell_type": "code",
   "execution_count": null,
   "metadata": {
    "execution": {
     "iopub.execute_input": "2025-06-16T22:12:09.428071Z",
     "iopub.status.busy": "2025-06-16T22:12:09.427744Z",
     "iopub.status.idle": "2025-06-16T22:12:09.431339Z",
     "shell.execute_reply": "2025-06-16T22:12:09.430980Z",
     "shell.execute_reply.started": "2025-06-16T22:12:09.428044Z"
    },
    "tags": []
   },
   "outputs": [],
   "source": [
    "import os\n",
    "import numpy as np\n",
    "import pickle as pkl\n",
    "import matplotlib.pyplot as plt\n",
    "from astropy.time import Time, TimeDelta\n",
    "from lsst.daf.butler import Butler\n",
    "import lsst.summit.utils.butlerUtils as butlerUtils\n",
    "from lsst.summit.utils.utils import dayObsIntToString\n",
    "from lsst.summit.utils.efdUtils import calcNextDay\n",
    "from lsst.summit.utils.efdUtils import makeEfdClient, getEfdData"
   ]
  },
  {
   "cell_type": "code",
   "execution_count": null,
   "metadata": {
    "execution": {
     "iopub.execute_input": "2025-06-15T21:09:47.984769Z",
     "iopub.status.busy": "2025-06-15T21:09:47.984380Z",
     "iopub.status.idle": "2025-06-15T21:09:48.724148Z",
     "shell.execute_reply": "2025-06-15T21:09:48.723324Z",
     "shell.execute_reply.started": "2025-06-15T21:09:47.984750Z"
    }
   },
   "outputs": [],
   "source": [
    "butler = Butler('/repo/embargo', collections=['LSSTCam/raw/all', \n",
    "                                            'LSSTCam/calib/unbounded', 'LSSTCam/runs/nightlyValidation', \n",
    "                                             'LSSTCam/runs/nightlyValidation/20250425/w_2025_17/DM-50157'])\n",
    "instrument = 'LSSTCam'\n",
    "client = makeEfdClient()"
   ]
  },
  {
   "cell_type": "code",
   "execution_count": null,
   "metadata": {
    "execution": {
     "iopub.execute_input": "2025-06-14T00:51:28.570560Z",
     "iopub.status.busy": "2025-06-14T00:51:28.570215Z",
     "iopub.status.idle": "2025-06-14T04:21:31.825506Z",
     "shell.execute_reply": "2025-06-14T04:21:31.824932Z",
     "shell.execute_reply.started": "2025-06-14T00:51:28.570541Z"
    }
   },
   "outputs": [],
   "source": [
    "startDay = 20250527\n",
    "endDay = 20250608\n",
    "\n",
    "els = []\n",
    "azs = []\n",
    "ras = []\n",
    "decs = []\n",
    "rots = []\n",
    "deltaRas = []\n",
    "deltaDecs = []\n",
    "dayObss = []\n",
    "filters = []\n",
    "pressures = []\n",
    "temps = []\n",
    "hums = []\n",
    "times = []\n",
    "dayObs = startDay\n",
    "while dayObs <= endDay:\n",
    "    exposureList = []\n",
    "    for record in butler.registry.queryDimensionRecords(\"exposure\", \n",
    "                where=f\"exposure.day_obs={dayObs} and instrument='LSSTCam'\"):\n",
    "        exposureList.append([record.id, record])\n",
    "    exposureList.sort(key=lambda x: x[0])\n",
    "    print(len(exposureList))\n",
    "    for [id,record] in exposureList:\n",
    "        if record.observation_type not in ['science', 'acq']:\n",
    "            continue\n",
    "        try:\n",
    "            calExp = butler.get('preliminary_visit_image', detector=94, visit=record.id, instrument=instrument)\n",
    "            rawExp = butler.get('raw', detector=94, exposure=record.id, instrument=instrument)\n",
    "            md = rawExp.getMetadata()\n",
    "            cWcs = calExp.getWcs()\n",
    "            rWcs = rawExp.getWcs()\n",
    "            rawSkyCenter = rWcs.getSkyOrigin()\n",
    "            calExpSkyCenter = cWcs.pixelToSky(rWcs.getPixelOrigin())\n",
    "            ra = calExpSkyCenter.getRa().asDegrees()\n",
    "            dec = calExpSkyCenter.getDec().asDegrees()\n",
    "            #print(ra, dec)\n",
    "            deltaRa = rawSkyCenter.getRa().asArcseconds() - calExpSkyCenter.getRa().asArcseconds()\n",
    "            deltaDec = rawSkyCenter.getDec().asArcseconds() - calExpSkyCenter.getDec().asArcseconds()\n",
    "            deltaRas.append(deltaRa)\n",
    "            deltaDecs.append(deltaDec)\n",
    "            els.append(md['ELSTART'])\n",
    "            azs.append(md['AZSTART'])\n",
    "            rots.append(md['ROTPA'])\n",
    "            ras.append(ra)\n",
    "            decs.append(dec)\n",
    "            filters.append(md['FILTBAND'])\n",
    "            pressures.append(md['PRESSURE'])\n",
    "            temps.append(md['AIRTEMP'])\n",
    "            hums.append(md['HUMIDITY'])\n",
    "            times.append((md['MJD-BEG'] + md['MJD-END']) / 2.0)\n",
    "            dayObss.append(dayObs)\n",
    "            print(f\"{record.id}, deltaRa = {deltaRa:.2f}, deltaDec = {deltaDec:.2f}\")\n",
    "        except:\n",
    "            print(f\"{record.id} failed!\")\n",
    "            continue\n",
    "    print(dayObs, len(ras))\n",
    "    dayObs = calcNextDay(dayObs)\n",
    "\n",
    "filename = \"/home/c/cslage/u/LSSTCam/data/pointing_results_rot_dayObs_27may25-08jun25.pkl\"\n",
    "with open(filename, 'wb') as f:\n",
    "    pkl.dump([els, azs, ras, decs, rots, deltaRas, deltaDecs, pressures, temps, hums, times, filters, dayObss], f)\n"
   ]
  },
  {
   "cell_type": "code",
   "execution_count": null,
   "metadata": {
    "execution": {
     "iopub.execute_input": "2025-06-16T23:16:44.657266Z",
     "iopub.status.busy": "2025-06-16T23:16:44.657062Z",
     "iopub.status.idle": "2025-06-16T23:16:44.663106Z",
     "shell.execute_reply": "2025-06-16T23:16:44.662687Z",
     "shell.execute_reply.started": "2025-06-16T23:16:44.657253Z"
    }
   },
   "outputs": [],
   "source": [
    "filename = \"/home/c/cslage/u/LSSTCam/data/pointing_results_rot_dayObs_27may25-08jun25.pkl\"\n",
    "with open(filename, 'rb') as f:\n",
    "    [els, azs, ras, decs, rots, deltaRas, deltaDecs, pressures, temps, hums, times, filters, dayObss] = pkl.load(f)\n",
    "len(els)"
   ]
  },
  {
   "cell_type": "code",
   "execution_count": null,
   "metadata": {
    "execution": {
     "iopub.execute_input": "2025-06-15T00:33:53.093581Z",
     "iopub.status.busy": "2025-06-15T00:33:53.093250Z",
     "iopub.status.idle": "2025-06-15T00:33:53.096770Z",
     "shell.execute_reply": "2025-06-15T00:33:53.096323Z",
     "shell.execute_reply.started": "2025-06-15T00:33:53.093564Z"
    }
   },
   "outputs": [],
   "source": [
    "print(len(ras), len(decs), len(els), len(azs), len(rots), len(pressures), len(temps), len(hums), len(times), len(filters), len(dayObss))"
   ]
  },
  {
   "cell_type": "code",
   "execution_count": null,
   "metadata": {
    "execution": {
     "iopub.execute_input": "2025-06-16T23:16:49.029648Z",
     "iopub.status.busy": "2025-06-16T23:16:49.028723Z",
     "iopub.status.idle": "2025-06-16T23:16:49.033401Z",
     "shell.execute_reply": "2025-06-16T23:16:49.032877Z",
     "shell.execute_reply.started": "2025-06-16T23:16:49.029615Z"
    }
   },
   "outputs": [],
   "source": [
    "from astropy.coordinates import AltAz, ICRS, EarthLocation, Angle, FK5, SkyCoord\n",
    "import astropy.units as u\n",
    "from lsst.obs.lsst.translators.lsst import SIMONYI_LOCATION\n",
    "wavelengths = {'u':3671, 'g':4827, 'r':6223, 'i':7546, 'z':8691, 'y':9712}"
   ]
  },
  {
   "cell_type": "code",
   "execution_count": null,
   "metadata": {
    "execution": {
     "iopub.execute_input": "2025-06-16T23:16:49.678448Z",
     "iopub.status.busy": "2025-06-16T23:16:49.678241Z",
     "iopub.status.idle": "2025-06-16T23:16:51.621834Z",
     "shell.execute_reply": "2025-06-16T23:16:51.621320Z",
     "shell.execute_reply.started": "2025-06-16T23:16:49.678434Z"
    }
   },
   "outputs": [],
   "source": [
    "diffs = []\n",
    "for index in range(len(ras)):\n",
    "    skyLocation = SkyCoord(ras[index] * u.deg, decs[index] * u.deg)\n",
    "    tel_skyLocation = SkyCoord((ras[index] + deltaRas[index] / 3600.0) * u.deg, (decs[index] + deltaDecs[index] / 3600.0) * u.deg)\n",
    "    separation_angle = skyLocation.separation(tel_skyLocation).arcsec\n",
    "    diffs.append(separation_angle)\n"
   ]
  },
  {
   "cell_type": "code",
   "execution_count": null,
   "metadata": {
    "execution": {
     "iopub.execute_input": "2025-06-16T23:16:52.998648Z",
     "iopub.status.busy": "2025-06-16T23:16:52.998432Z",
     "iopub.status.idle": "2025-06-16T23:16:53.156695Z",
     "shell.execute_reply": "2025-06-16T23:16:53.156294Z",
     "shell.execute_reply.started": "2025-06-16T23:16:52.998634Z"
    }
   },
   "outputs": [],
   "source": [
    "plt.hist(diffs)\n",
    "plt.title(\"Pointing error separation on sky (arcsec)\")\n",
    "plt.xlabel(\"Arcseconds\")\n",
    "plt.text(100, 1000, f\"Median error = {np.median(diffs):.1f} arcseconds\")\n",
    "plt.savefig(\"/home/c/cslage/u/LSSTCam/data/Error_on_Sky_12Jun25.png\")"
   ]
  },
  {
   "cell_type": "code",
   "execution_count": null,
   "metadata": {
    "execution": {
     "iopub.execute_input": "2025-06-16T23:27:57.273416Z",
     "iopub.status.busy": "2025-06-16T23:27:57.273060Z",
     "iopub.status.idle": "2025-06-16T23:28:07.456462Z",
     "shell.execute_reply": "2025-06-16T23:28:07.456009Z",
     "shell.execute_reply.started": "2025-06-16T23:27:57.273396Z"
    }
   },
   "outputs": [],
   "source": [
    "deltaAzs = []\n",
    "deltaEls = []\n",
    "trueAzs = []\n",
    "trueEls = []\n",
    "bad_indices = []\n",
    "for index in range(len(ras)):\n",
    "    skyLocation = SkyCoord(ras[index]*u.deg, decs[index]*u.deg)\n",
    "    time = Time(times[index], format='mjd', scale='tai')\n",
    "    pressure = pressures[index] * u.pascal\n",
    "    temperature = temps[index] * u.Celsius\n",
    "    hum = hums[index]\n",
    "    wl = wavelengths[filters[index]] * u.angstrom\n",
    "    altAz = AltAz(obstime=time, location=SIMONYI_LOCATION, pressure=pressure, \n",
    "                 temperature=temperature, relative_humidity=hum, obswl=wl)\n",
    "    obsAltAz = skyLocation.transform_to(altAz)\n",
    "    trueAz = obsAltAz.az.deg\n",
    "    trueEl = obsAltAz.alt.deg\n",
    "    if azs[index] > 180.0:\n",
    "        azs[index] -= 360.0\n",
    "    if azs[index] < -180.0:\n",
    "        azs[index] += 360.0\n",
    "    if trueAz > 180.0:\n",
    "        trueAz -= 360.0\n",
    "    if trueAz < -180.0:\n",
    "        trueAz += 360.0\n",
    "\n",
    "    deltaAz = azs[index] - obsAltAz.az.deg\n",
    "    if deltaAz > 180.0:\n",
    "        deltaAz -= 360.0\n",
    "    if deltaAz < -180.0:\n",
    "        deltaAz += 360.0\n",
    "    trueAzs.append(trueAz)\n",
    "    trueEls.append(trueEl)\n",
    "    deltaAz *= 3600.0# * np.cos(obsAltAz.alt.rad)\n",
    "    deltaEl = (els[index] - obsAltAz.alt.deg) * 3600.0\n",
    "    deltaAzs.append(deltaAz)\n",
    "    deltaEls.append(deltaEl)\n",
    "\"\"\"    \n",
    "    if abs(deltaEl) < 450.0:\n",
    "        deltaAzs.append(deltaAz)\n",
    "        deltaEls.append(deltaEl)\n",
    "    else:\n",
    "        print(index)\n",
    "        bad_indices.append(index)\n",
    "    \n",
    "\n",
    "for index in bad_indices:\n",
    "    del azs[index]\n",
    "    del els[index]\n",
    "\n",
    "\"\"\"\n",
    "len(els)        "
   ]
  },
  {
   "cell_type": "code",
   "execution_count": null,
   "metadata": {
    "execution": {
     "iopub.execute_input": "2025-06-16T23:28:10.207313Z",
     "iopub.status.busy": "2025-06-16T23:28:10.206961Z",
     "iopub.status.idle": "2025-06-16T23:28:10.408903Z",
     "shell.execute_reply": "2025-06-16T23:28:10.408459Z",
     "shell.execute_reply.started": "2025-06-16T23:28:10.207295Z"
    }
   },
   "outputs": [],
   "source": [
    "plt.figure(figsize=(12,8))\n",
    "plt.subplots_adjust(hspace=0.3, wspace=0.3)\n",
    "plt.subplot(1,2,1, aspect=1)\n",
    "plt.scatter(azs, (np.array(trueAzs) + np.array(deltaAzs) / 3600.0))\n",
    "plt.subplot(1,2,2, aspect=1)\n",
    "plt.scatter(els, (np.array(trueEls) + np.array(deltaEls) / 3600.0))\n"
   ]
  },
  {
   "cell_type": "code",
   "execution_count": null,
   "metadata": {
    "execution": {
     "iopub.execute_input": "2025-06-15T21:10:16.933642Z",
     "iopub.status.busy": "2025-06-15T21:10:16.933319Z",
     "iopub.status.idle": "2025-06-15T21:10:16.937190Z",
     "shell.execute_reply": "2025-06-15T21:10:16.936612Z",
     "shell.execute_reply.started": "2025-06-15T21:10:16.933624Z"
    }
   },
   "outputs": [],
   "source": [
    "print(len(ras), len(decs), len(els), len(deltaEls), len(azs), len(deltaAzs), len(rots))"
   ]
  },
  {
   "cell_type": "code",
   "execution_count": null,
   "metadata": {
    "jupyter": {
     "source_hidden": true
    }
   },
   "outputs": [],
   "source": [
    "filename = \"/home/c/cslage/u/LSSTCam/data/pointing_results_engtest_13may25.pkl\"\n",
    "with open(filename, 'rb') as f:\n",
    "    [els2, azs2, ras, decs, deltaRas, deltaDecs, pressures, temps, hums, times, filters] = pkl.load(f)\n",
    "len(els2)"
   ]
  },
  {
   "cell_type": "code",
   "execution_count": null,
   "metadata": {
    "jupyter": {
     "source_hidden": true
    }
   },
   "outputs": [],
   "source": [
    "els += els2\n",
    "azs += azs2\n",
    "len(els)"
   ]
  },
  {
   "cell_type": "code",
   "execution_count": null,
   "metadata": {
    "jupyter": {
     "source_hidden": true
    }
   },
   "outputs": [],
   "source": [
    "for index in range(len(els2)):\n",
    "    skyLocation = SkyCoord(ras[index]*u.deg, decs[index]*u.deg)\n",
    "    time = Time(times[index], format='mjd', scale='tai')\n",
    "    pressure = pressures[index] * u.pascal\n",
    "    temperature = temps[index] * u.Celsius\n",
    "    hum = hums[index]\n",
    "    wl = wavelengths[filters[index]] * u.angstrom\n",
    "    altAz = AltAz(obstime=time, location=SIMONYI_LOCATION, pressure=pressure, \n",
    "                 temperature=temperature, relative_humidity=hum, obswl=wl)\n",
    "    obsAltAz = skyLocation.transform_to(altAz)\n",
    "    deltaAz = azs2[index] - obsAltAz.az.deg\n",
    "    trueAzs.append(obsAltAz.az.deg)\n",
    "    trueEls.append(obsAltAz.alt.deg)\n",
    "    if deltaAz > 360.0:\n",
    "        deltaAz -= 360.0\n",
    "    if deltaAz < -180.0:\n",
    "        deltaAz += 360.0\n",
    "    deltaAz *= 3600.0 * np.cos(obsAltAz.alt.rad)\n",
    "    deltaEl = (els2[index] - obsAltAz.alt.deg) * 3600.0\n",
    "    deltaAzs.append(deltaAz)\n",
    "    deltaEls.append(deltaEl)\n",
    "\"\"\"    \n",
    "    if abs(deltaEl) < 450.0:\n",
    "        deltaAzs.append(deltaAz)\n",
    "        deltaEls.append(deltaEl)\n",
    "    else:\n",
    "        print(index)\n",
    "        bad_indices.append(index)\n",
    "    \n",
    "\n",
    "for index in bad_indices:\n",
    "    del azs[index]\n",
    "    del els[index]\n",
    "\n",
    "\"\"\"\n",
    "len(deltaEls)        "
   ]
  },
  {
   "cell_type": "code",
   "execution_count": null,
   "metadata": {},
   "outputs": [],
   "source": [
    "plt.figure(figsize=(8,8))\n",
    "plt.suptitle(\"LSSTCam Delta RA/Dec 20250527-20250608\")\n",
    "plt.subplots_adjust(hspace=0.3, wspace=0.3)\n",
    "plt.subplot(2,2,1)\n",
    "plt.scatter(decs, deltaDecs)\n",
    "plt.xlabel('Dec (deg)')\n",
    "plt.xlim(-90, 0)\n",
    "plt.ylabel('Delta Dec arcsec')\n",
    "plt.subplot(2,2,2)\n",
    "plt.scatter(ras, deltaDecs)\n",
    "plt.xlabel('Ra (deg)')\n",
    "plt.xlim(0,360)\n",
    "plt.ylabel('Delta Dec arcsec')\n",
    "plt.subplot(2,2,3)\n",
    "plt.scatter(decs, deltaRas)\n",
    "plt.xlabel('Dec (deg)')\n",
    "plt.xlim(-90, 0)\n",
    "plt.ylim(-100, 500)\n",
    "plt.ylabel('Delta Ra arcsec')\n",
    "plt.subplot(2,2,4)\n",
    "plt.scatter(ras, deltaRas)\n",
    "plt.xlabel('Ra (deg)')\n",
    "plt.xlim(0,360)\n",
    "plt.ylim(-100, 500)\n",
    "plt.ylabel('Delta Ra arcsec')\n",
    "plt.savefig(\"/home/c/cslage/u/LSSTCam/data/Delta_RaDec_12Jun25.png\")\n"
   ]
  },
  {
   "cell_type": "code",
   "execution_count": null,
   "metadata": {
    "execution": {
     "iopub.execute_input": "2025-06-16T23:30:00.689669Z",
     "iopub.status.busy": "2025-06-16T23:30:00.689330Z",
     "iopub.status.idle": "2025-06-16T23:30:01.508700Z",
     "shell.execute_reply": "2025-06-16T23:30:01.508318Z",
     "shell.execute_reply.started": "2025-06-16T23:30:00.689652Z"
    }
   },
   "outputs": [],
   "source": [
    "from scipy.optimize import minimize\n",
    "def FOM1(params, args):\n",
    "    fom = 0.0\n",
    "    [azs, deltaEls] = args\n",
    "    [amp, off] = params\n",
    "    for i in range(len(azs)):\n",
    "        if abs(deltaEls[i]) > 450.0:\n",
    "            continue\n",
    "        model = off + amp * np.sin((azs[i]) * np.pi / 180.0)\n",
    "        err = np.square(model - deltaEls[i])\n",
    "        fom += err\n",
    "    return fom\n",
    "\n",
    "args = [azs, deltaEls]\n",
    "x0 = [400.0, 0.0]\n",
    "result1 = minimize(FOM1, x0, args=args, method='Powell')\n",
    "result1"
   ]
  },
  {
   "cell_type": "code",
   "execution_count": null,
   "metadata": {},
   "outputs": [],
   "source": []
  },
  {
   "cell_type": "code",
   "execution_count": null,
   "metadata": {
    "execution": {
     "iopub.execute_input": "2025-06-16T23:30:06.018177Z",
     "iopub.status.busy": "2025-06-16T23:30:06.017859Z",
     "iopub.status.idle": "2025-06-16T23:30:06.553164Z",
     "shell.execute_reply": "2025-06-16T23:30:06.552835Z",
     "shell.execute_reply.started": "2025-06-16T23:30:06.018161Z"
    }
   },
   "outputs": [],
   "source": [
    "from scipy.optimize import minimize\n",
    "def FOM2(params, args):\n",
    "    fom = 0.0\n",
    "    [azs, deltaAzs] = args\n",
    "    [amp, off] = params\n",
    "    for i in range(len(azs)):\n",
    "        if abs(deltaAzs[i]) > 450.0:\n",
    "            continue\n",
    "        model = off + amp * np.cos((azs[i]) * np.pi / 180.0)\n",
    "        err = np.square(model - deltaAzs[i] * np.cos((els[i]) * np.pi / 180.0))\n",
    "        fom += err\n",
    "    return fom\n",
    "\n",
    "args2 = [azs, deltaAzs]\n",
    "x0 = [400.0, 100.0]\n",
    "result2 = minimize(FOM2, x0, args=args2, method='Powell')\n",
    "result2"
   ]
  },
  {
   "cell_type": "code",
   "execution_count": null,
   "metadata": {},
   "outputs": [],
   "source": [
    "def errs1(amp1, off1, azs, deltaEls):\n",
    "    errs = []\n",
    "    for i in range(len(azs)):\n",
    "        model = off1 + amp1 * np.sin((azs[i]) * np.pi / 180.0)\n",
    "        err = abs(model - deltaEls[i])\n",
    "        errs.append(err)\n",
    "    return errs\n",
    "\n",
    "def errs2(amp2, off2, azs, deltaAzs):\n",
    "    errs = []\n",
    "    for i in range(len(azs)):\n",
    "        model = off2 + amp2 * np.cos((azs[i]) * np.pi / 180.0)\n",
    "        err = abs(model - deltaAzs[i])\n",
    "        errs.append(err)\n",
    "    return errs\n"
   ]
  },
  {
   "cell_type": "code",
   "execution_count": null,
   "metadata": {},
   "outputs": [],
   "source": [
    "[amp1, off1] = result1.x\n",
    "[amp2, off2] = result2.x\n",
    "elErrs = errs1(amp1, off1, azs, deltaEls)\n",
    "azErrs = errs2(amp2, off2, azs, deltaAzs)"
   ]
  },
  {
   "cell_type": "code",
   "execution_count": null,
   "metadata": {},
   "outputs": [],
   "source": [
    "plt.subplot(1,2,1)\n",
    "plt.hist(elErrs, bins = 50)\n",
    "#plt.xlim(0, 5000)\n",
    "plt.subplot(1,2,2)\n",
    "plt.hist(azErrs, bins = 50)\n",
    "#plt.xlim(0, 5000)"
   ]
  },
  {
   "cell_type": "code",
   "execution_count": null,
   "metadata": {},
   "outputs": [],
   "source": [
    "def trim(azs, els, deltaAzs, deltaEls, trueAzs, trueEls, rots, times, dayObss, off1, amp1, off2, amp2, limit=100):\n",
    "    elErrs = errs1(amp1, off1, azs, deltaEls)\n",
    "    azErrs = errs2(amp2, off2, azs, deltaAzs)\n",
    "    newAzs = []; newEls = []; newDeltaAzs = []; newDeltaEls = []; newRots = []\n",
    "    newTrueAzs = []; newTrueEls = []; newTimes = []; newDayObss = []\n",
    "    for i in range(len(azs)):\n",
    "        #if (azErrs[i] < limit) and (elErrs[i] < limit):\n",
    "        if (elErrs[i] < limit):\n",
    "            newAzs.append(azs[i]); newEls.append(els[i]); newRots.append(rots[i])\n",
    "            newDeltaAzs.append(deltaAzs[i]); newDeltaEls.append(deltaEls[i])\n",
    "            newTrueAzs.append(trueAzs[i]); newTrueEls.append(trueEls[i]); newTimes.append(times[i])\n",
    "            newDayObss.append(dayObss[i]\n",
    "    print(len(newEls), len(newDeltaEls), len(newAzs), len(newDeltaAzs), len(newTrueAzs), len(newTrueEls))\n",
    "    return newAzs, newEls, newDeltaAzs, newDeltaEls, newTrueAzs, newTrueEls, newRots, newTimes, newDayObss\n",
    "        \n",
    "    "
   ]
  },
  {
   "cell_type": "code",
   "execution_count": null,
   "metadata": {},
   "outputs": [],
   "source": [
    "azs, els, deltaAzs, deltaEls, trueAzs, trueEls, rots, times, dayObss = trim(azs, els, deltaAzs, deltaEls, trueAzs, trueEls, rots, times, dayObss, off1, amp1, off2, amp2, limit=40)"
   ]
  },
  {
   "cell_type": "code",
   "execution_count": null,
   "metadata": {},
   "outputs": [],
   "source": [
    "print(len(trueAzs), len(trueEls), len(els), len(deltaEls), len(azs), len(deltaAzs), len(times), len(dayObss))"
   ]
  },
  {
   "cell_type": "code",
   "execution_count": null,
   "metadata": {
    "execution": {
     "iopub.execute_input": "2025-06-16T23:32:48.069274Z",
     "iopub.status.busy": "2025-06-16T23:32:48.068888Z",
     "iopub.status.idle": "2025-06-16T23:32:49.270031Z",
     "shell.execute_reply": "2025-06-16T23:32:49.269629Z",
     "shell.execute_reply.started": "2025-06-16T23:32:48.069256Z"
    }
   },
   "outputs": [],
   "source": [
    "\n",
    "[amp1, off1] = result1.x\n",
    "[amp2, off2] = result2.x\n",
    "xs = np.linspace(-180.0, 180.0, 200)\n",
    "ys1 = off1 + amp1 * np.sin((xs) * np.pi / 180.0)\n",
    "ys2 = off2 + amp2 * np.cos((xs) * np.pi / 180.0)\n",
    "\n",
    "deltaAzsCosEl = np.array(deltaAzs) * np.cos(np.array(els) * np.pi / 180.0)\n",
    "plt.figure(figsize=(8,8))\n",
    "plt.suptitle(\"LSSTCam Delta AltAz 20250527-20250608\")\n",
    "plt.subplots_adjust(hspace=0.3, wspace=0.7)\n",
    "plt.subplot(2,2,1)\n",
    "p1 = plt.scatter(els, deltaEls, c=azs, cmap=plt.cm.coolwarm)\n",
    "cb1 = plt.colorbar(p1)\n",
    "cb1.set_label('Az')\n",
    "plt.xlabel('El')\n",
    "plt.xlim(30, 85)\n",
    "plt.ylabel('Delta El arcsec')\n",
    "plt.subplot(2,2,2)\n",
    "p2 = plt.scatter(azs, deltaEls,c=els, cmap=plt.cm.coolwarm)\n",
    "cb2 = plt.colorbar(p2)\n",
    "cb2.set_label('El')\n",
    "plt.plot(xs, ys1, ls = '--', color='black')\n",
    "plt.text(-150,-80,f\"deltaEl={off1:.1f}+\\n{amp1:.1f}*sin(az)\")\n",
    "plt.xlabel('Az')\n",
    "plt.xlim(-180, 180)\n",
    "plt.ylabel('Delta El arcsec')\n",
    "plt.subplot(2,2,3)\n",
    "p3 = plt.scatter(els, deltaAzsCosEl, c=azs, cmap=plt.cm.coolwarm)\n",
    "cb3 = plt.colorbar(p3)\n",
    "cb3.set_label('Az')\n",
    "plt.xlabel('El')\n",
    "plt.xlim(30, 85)\n",
    "plt.ylabel('Delta Az*cos(El) arcsec')\n",
    "plt.subplot(2,2,4)\n",
    "p4 = plt.scatter(azs, deltaAzsCosEl,c=els, cmap=plt.cm.coolwarm)\n",
    "plt.plot(xs, ys2, ls = '--', color='black')\n",
    "plt.text(-100,-50,f\"deltaAz={off2:.1f}+\\n{amp2:.1f}*cos(az)\")\n",
    "cb4 = plt.colorbar(p4)\n",
    "cb4.set_label('El')\n",
    "plt.xlabel('Az')\n",
    "plt.xlim(-180, 180)\n",
    "plt.ylabel('Delta Az*cos(El) arcsec')\n",
    "plt.savefig(\"/home/c/cslage/u/LSSTCam/data/Delta_AltAz_27May25-08Jun25.png\")\n"
   ]
  },
  {
   "cell_type": "markdown",
   "metadata": {},
   "source": [
    "## Get the MTMount state changes"
   ]
  },
  {
   "cell_type": "code",
   "execution_count": null,
   "metadata": {
    "execution": {
     "iopub.execute_input": "2025-06-15T21:11:06.009165Z",
     "iopub.status.busy": "2025-06-15T21:11:06.008617Z",
     "iopub.status.idle": "2025-06-15T21:11:06.340490Z",
     "shell.execute_reply": "2025-06-15T21:11:06.340015Z",
     "shell.execute_reply.started": "2025-06-15T21:11:06.009147Z"
    }
   },
   "outputs": [],
   "source": [
    "startDay = 20250527\n",
    "endDay = 20250608\n",
    "dayObs = startDay\n",
    "enableDict = {}\n",
    "while dayObs <= endDay:\n",
    "    start = Time(f\"{dayObsIntToString(dayObs)}T12:00:00\")\n",
    "    end = Time(f\"{dayObsIntToString(calcNextDay(dayObs))}T12:00:00\")\n",
    "    states = getEfdData(\n",
    "        client,\n",
    "        \"lsst.sal.MTMount.logevent_summaryState\",\n",
    "        columns=['summaryState'],\n",
    "        begin=start,\n",
    "        end=end\n",
    "    )\n",
    "    enables = states[states['summaryState'] == 2]\n",
    "    print(f\"There were {len(enables)} enable events on {dayObs}\")\n",
    "    enableDict[dayObs] = enables\n",
    "    dayObs = calcNextDay(dayObs)"
   ]
  },
  {
   "cell_type": "markdown",
   "metadata": {},
   "source": [
    "# Generate a tpoint input file with these AltAz errors\n",
    "## This includes dates and state changes"
   ]
  },
  {
   "cell_type": "code",
   "execution_count": null,
   "metadata": {
    "execution": {
     "iopub.execute_input": "2025-06-15T01:41:15.756287Z",
     "iopub.status.busy": "2025-06-15T01:41:15.756076Z",
     "iopub.status.idle": "2025-06-15T01:41:18.698635Z",
     "shell.execute_reply": "2025-06-15T01:41:18.698118Z",
     "shell.execute_reply.started": "2025-06-15T01:41:15.756271Z"
    }
   },
   "outputs": [],
   "source": [
    "outfilename = \"/home/c/cslage/u/LSSTCam/data/Tpoint_Input_Dates_14Jun25.dat\"\n",
    "outfile = open(outfilename, 'w')\n",
    "outfile.write(\"!\" + outfilename + \"\\n\")\n",
    "outfile.write(\"!Simonyi Telescope file,June 14, 2025 \\n\")\n",
    "outfile.write(\": ALTAZ\\n\")\n",
    "outfile.write(\": ROTNR\\n\")\n",
    "outfile.write(\"-30 14 40.2\\n\")\n",
    "lastDayObs = 0\n",
    "for i in range(len(els)):\n",
    "    dayObs = dayObss[i]\n",
    "    enables = enableDict[dayObs]\n",
    "    thisTime = Time(times[i], format='mjd')\n",
    "    if dayObs != lastDayObs:\n",
    "        lastDayObs = dayObs\n",
    "        initialStateChanges = 0\n",
    "        for j in range(len(enables)):\n",
    "            stateChangeTime = Time(enables.index[j])\n",
    "            if thisTime > stateChangeTime:\n",
    "                initialStateChanges += 1\n",
    "    if azs[i] > 360.0:\n",
    "        azs[i] -= 360.0\n",
    "    if azs[i] < 0.0:\n",
    "        azs[i] += 360.0\n",
    "    stateChanges = -initialStateChanges\n",
    "    for j in range(len(enables)):\n",
    "        stateChangeTime = Time(enables.index[j])\n",
    "        if thisTime > stateChangeTime:\n",
    "            stateChanges += 1\n",
    "    outfile.write(f\"{trueAzs[i]:.9f}\\t{trueEls[i]:.6f}\\t{azs[i]:.9f}\\t{els[i]:.9f}\\t{rots[i]:.6f}\\t; {dayObs}  {stateChanges}\\n\")\n",
    "outfile.write(\"END\\n\")\n",
    "outfile.close()\n",
    "\n"
   ]
  },
  {
   "cell_type": "code",
   "execution_count": null,
   "metadata": {
    "execution": {
     "iopub.execute_input": "2025-06-16T22:13:50.706612Z",
     "iopub.status.busy": "2025-06-16T22:13:50.706393Z",
     "iopub.status.idle": "2025-06-16T22:13:53.486296Z",
     "shell.execute_reply": "2025-06-16T22:13:53.485777Z",
     "shell.execute_reply.started": "2025-06-16T22:13:50.706597Z"
    }
   },
   "outputs": [],
   "source": [
    "outfilename = \"/home/c/cslage/u/LSSTCam/data/Tpoint_Input_Range_14Jun25.dat\"\n",
    "outfile = open(outfilename, 'w')\n",
    "outfile.write(\"!\" + outfilename + \"\\n\")\n",
    "outfile.write(\"!Simonyi Telescope file,June 14, 2025 \\n\")\n",
    "outfile.write(\": ALTAZ\\n\")\n",
    "outfile.write(\": ROTNR\\n\")\n",
    "outfile.write(\"-30 14 40.2\\n\")\n",
    "lastDayObs = 0\n",
    "for i in range(len(els)):\n",
    "    dayObs = dayObss[i]\n",
    "    enables = enableDict[dayObs]\n",
    "    thisTime = Time(times[i], format='mjd')\n",
    "    if dayObs != lastDayObs:\n",
    "        lastDayObs = dayObs\n",
    "        initialStateChanges = 0\n",
    "        for j in range(len(enables)):\n",
    "            stateChangeTime = Time(enables.index[j])\n",
    "            if thisTime > stateChangeTime:\n",
    "                initialStateChanges += 1\n",
    "    if azs[i] > 180.0:\n",
    "        azs[i] -= 360.0\n",
    "    if azs[i] < -180.0:\n",
    "        azs[i] += 360.0\n",
    "    if trueAzs[i] > 180.0:\n",
    "        trueAzs[i] -= 360.0\n",
    "    if trueAzs[i] < -180.0:\n",
    "        trueAzs[i] += 360.0\n",
    "    stateChanges = -initialStateChanges\n",
    "    for j in range(len(enables)):\n",
    "        stateChangeTime = Time(enables.index[j])\n",
    "        if thisTime > stateChangeTime:\n",
    "            stateChanges += 1\n",
    "    outfile.write(f\"{trueAzs[i]:.9f}\\t{trueEls[i]:.6f}\\t{azs[i]:.9f}\\t{els[i]:.9f}\\t{rots[i]:.6f}\\t; {dayObs}  {stateChanges}\\n\")\n",
    "outfile.write(\"END\\n\")\n",
    "outfile.close()\n",
    "\n"
   ]
  },
  {
   "cell_type": "markdown",
   "metadata": {},
   "source": [
    "# Generate a separate tpoint file for each dayObs and stateChange\n"
   ]
  },
  {
   "cell_type": "code",
   "execution_count": null,
   "metadata": {
    "execution": {
     "iopub.execute_input": "2025-06-15T21:18:52.276535Z",
     "iopub.status.busy": "2025-06-15T21:18:52.276190Z",
     "iopub.status.idle": "2025-06-15T21:19:00.901316Z",
     "shell.execute_reply": "2025-06-15T21:19:00.900840Z",
     "shell.execute_reply.started": "2025-06-15T21:18:52.276510Z"
    }
   },
   "outputs": [],
   "source": [
    "startDay = 20250527\n",
    "endDay = 20250608\n",
    "totalLines = 0\n",
    "for thisStateChange in [0, 1, 2]:\n",
    "    dayObs = startDay\n",
    "    while dayObs <= endDay:\n",
    "        lines = 0\n",
    "        outfilename = f\"/home/c/cslage/u/LSSTCam/data/Tpoint_Input_{dayObs}_{thisStateChange}.dat\"\n",
    "        outfile = open(outfilename, 'w')\n",
    "        outfile.write(\"!\" + outfilename + \"\\n\")\n",
    "        outfile.write(\"!Simonyi Telescope file,June 14, 2025 \\n\")\n",
    "        outfile.write(\": ALTAZ\\n\")\n",
    "        outfile.write(\": ROTNR\\n\")\n",
    "        outfile.write(\"-30 14 40.2\\n\")\n",
    "        lastDayObs = 0\n",
    "        for i in range(len(els)):\n",
    "            if dayObs != dayObss[i]:\n",
    "                continue\n",
    "            enables = enableDict[dayObs]\n",
    "            thisTime = Time(times[i], format='mjd')\n",
    "            if dayObs != lastDayObs:\n",
    "                lastDayObs = dayObs\n",
    "                initialStateChanges = 0\n",
    "                for j in range(len(enables)):\n",
    "                    stateChangeTime = Time(enables.index[j])\n",
    "                    if thisTime > stateChangeTime:\n",
    "                        initialStateChanges += 1\n",
    "            if azs[i] > 360.0:\n",
    "                azs[i] -= 360.0\n",
    "            if azs[i] < 0.0:\n",
    "                azs[i] += 360.0\n",
    "            stateChanges = -initialStateChanges\n",
    "            for j in range(len(enables)):\n",
    "                stateChangeTime = Time(enables.index[j])\n",
    "                if thisTime > stateChangeTime:\n",
    "                    stateChanges += 1\n",
    "            if stateChanges == thisStateChange:\n",
    "                outfile.write(f\"{trueAzs[i]:.9f}\\t{trueEls[i]:.6f}\\t{azs[i]:.9f}\\t{els[i]:.9f}\\t{rots[i]:.6f}\\t; {dayObs}  {stateChanges}\\n\")\n",
    "                lines += 1\n",
    "        outfile.write(\"END\\n\")\n",
    "        outfile.close()\n",
    "        print(f\"{dayObs}, {thisStateChange} has {lines} lines\")\n",
    "        totalLines += lines\n",
    "        if lines < 20:\n",
    "            os.remove(outfilename)\n",
    "        dayObs = calcNextDay(dayObs)\n",
    "print(f\"TotaLines = {totalLines}\")\n"
   ]
  },
  {
   "cell_type": "code",
   "execution_count": null,
   "metadata": {},
   "outputs": [],
   "source": [
    "[[20250527, 0], [20250528, 0], [20250529, 0], 20250531, 0], [20250601, 0], [20250603, 0],\n",
    "    [20250604, 0], [20250527, 1], [20250528, 1], [20250529, 1], [20250530, 1],\n",
    "     [20250601, 1], [20250608, 1], [20250527, 2], [20250530, 2], [20250608, 2]]"
   ]
  },
  {
   "cell_type": "markdown",
   "metadata": {},
   "source": [
    "## Test if that's how the AzEl coordinates respond to a rotation about one of the axes"
   ]
  },
  {
   "cell_type": "code",
   "execution_count": null,
   "metadata": {},
   "outputs": [],
   "source": [
    "def to_xyz(az, el):\n",
    "    x = np.cos(el)*np.cos(az)\n",
    "    y = np.cos(el)*np.sin(az)\n",
    "    z = np.sin(el)\n",
    "    return (x,y,z)\n",
    "\n",
    "def to_azel(x, y, z):\n",
    "    el = np.arcsin(z)\n",
    "    az = np.arctan2(y, x)    \n",
    "    return az, el\n",
    "    \n",
    "def Ry(theta):\n",
    "  return np.matrix([[ np.cos(theta), 0, np.sin(theta)],\n",
    "                   [ 0           , 1, 0           ],\n",
    "                   [-np.sin(theta), 0, np.cos(theta)]])\n",
    "\n",
    "def Rx(theta):\n",
    "  return np.matrix([[ 1, 0           , 0           ],\n",
    "                   [ 0, np.cos(theta),-np.sin(theta)],\n",
    "                   [ 0, np.sin(theta), np.cos(theta)]])\n"
   ]
  },
  {
   "cell_type": "code",
   "execution_count": null,
   "metadata": {},
   "outputs": [],
   "source": [
    "# Check if we recover the initial AzEl\n",
    "az = 153.0; el = 65.3\n",
    "(x,y,z) = to_xyz(az*np.pi/180.0, el*np.pi/180.0)\n",
    "print((x,y,z))\n",
    "az2, el2 = to_azel(x,y,z)\n",
    "print(az2*180.0/np.pi, el2*180.0/np.pi)"
   ]
  },
  {
   "cell_type": "code",
   "execution_count": null,
   "metadata": {},
   "outputs": [],
   "source": [
    "test_azs = []\n",
    "test_els = []\n",
    "rot_azs = []\n",
    "rot_els = []\n",
    "test_deltaAzs = []\n",
    "test_deltaEls = []\n",
    "rot = -221.4 / 3600.0 * np.pi / 180.0\n",
    "rx = Rx(rot)\n",
    "for az in range(-175, 185, 15):\n",
    "    for el in range(40, 85, 10):\n",
    "        test_azs.append(az)\n",
    "        test_els.append(el)\n",
    "        (x,y,z) = to_xyz(az*np.pi/180.0, el*np.pi/180.0)\n",
    "        out = rx.dot((x,y,z))\n",
    "        out = np.array(out)[0]\n",
    "        az2, el2 = to_azel(out[0], out[1], out[2])\n",
    "        az2 = az2*180.0/np.pi\n",
    "        el2 = el2*180.0/np.pi + 97 / 3600.0\n",
    "        rot_azs.append(az2)\n",
    "        rot_els.append(el2)\n",
    "        test_deltaAz = (az2 - az) * 3600.0\n",
    "        test_deltaEl = (el2 - el) * 3600.0\n",
    "        test_deltaAzs.append(test_deltaAz * np.cos(el*np.pi/180.0))\n",
    "        test_deltaEls.append(test_deltaEl)\n",
    "\n",
    "\n",
    "\n"
   ]
  },
  {
   "cell_type": "code",
   "execution_count": null,
   "metadata": {},
   "outputs": [],
   "source": [
    "plt.figure(figsize=(8,8))\n",
    "plt.suptitle(\"Test DeltaAz\")\n",
    "plt.subplots_adjust(hspace=0.3, wspace=0.7)\n",
    "plt.subplot(2,2,1)\n",
    "p1 = plt.scatter(test_els, test_deltaEls, c=test_azs, cmap=plt.cm.coolwarm)\n",
    "cb1 = plt.colorbar(p1)\n",
    "cb1.set_label('Az')\n",
    "plt.xlabel('El')\n",
    "plt.xlim(0,90)\n",
    "plt.ylabel('Delta El arcsec')\n",
    "plt.subplot(2,2,2)\n",
    "p2 = plt.scatter(test_azs, test_deltaEls,c=test_els, cmap=plt.cm.coolwarm)\n",
    "cb2 = plt.colorbar(p2)\n",
    "cb2.set_label('El')\n",
    "plt.xlabel('Az')\n",
    "plt.xlim(-180, 180)\n",
    "plt.ylabel('Delta El arcsec')\n",
    "plt.subplot(2,2,3)\n",
    "p3 = plt.scatter(test_els, test_deltaAzs, c=test_azs, cmap=plt.cm.coolwarm)\n",
    "cb3 = plt.colorbar(p3)\n",
    "cb3.set_label('Az')\n",
    "plt.xlabel('El')\n",
    "plt.xlim(0,90)\n",
    "plt.ylabel('Delta Az*cos(El) arcsec')\n",
    "plt.subplot(2,2,4)\n",
    "p4 = plt.scatter(test_azs, test_deltaAzs,c=test_els, cmap=plt.cm.coolwarm)\n",
    "cb4 = plt.colorbar(p4)\n",
    "cb4.set_label('El')\n",
    "plt.xlabel('Az')\n",
    "plt.xlim(-180, 180)\n",
    "plt.ylabel('Delta Az*cos(El) arcsec')\n",
    "plt.savefig(\"/home/c/cslage/u/LSSTCam/data/Test_Delta_AltAz_13Jun25.png\")\n"
   ]
  },
  {
   "cell_type": "markdown",
   "metadata": {},
   "source": [
    "# Generate a tpoint input file with the model AltAz errors"
   ]
  },
  {
   "cell_type": "code",
   "execution_count": null,
   "metadata": {},
   "outputs": [],
   "source": [
    "outfilename = \"/home/c/cslage/u/LSSTCam/data/Tpoint_Model_13Jun25.dat\"\n",
    "outfile = open(outfilename, 'w')\n",
    "outfile.write(\"!\" + outfilename + \"\\n\")\n",
    "outfile.write(\"!Simonyi Telescope file,June 9, 2025 \\n\")\n",
    "outfile.write(\": ALTAZ\\n\")\n",
    "outfile.write(\": ROTNR\\n\")\n",
    "outfile.write(\"-30 14 40.2\\n\")\n",
    "rot = 0.0\n",
    "for i in range(len(els)):\n",
    "    if azs[i] > 360.0:\n",
    "        azs[i] -= 360.0\n",
    "    if azs[i] < 0.0:\n",
    "        azs[i] += 360.0\n",
    "    outfile.write(f\"{test_azs[i]:.9f}\\t{test_els[i]:.6f}\\t{rot_azs[i]:.9f}\\t{rot_els[i]:.9f}\\t{rot:.6f}\\n\")\n",
    "outfile.write(\"END\\n\")\n",
    "outfile.close()\n",
    "\n",
    "# Running Tpoint n this file recovered these exact values: AW = 221.4, IE = -97"
   ]
  },
  {
   "cell_type": "code",
   "execution_count": null,
   "metadata": {},
   "outputs": [],
   "source": []
  },
  {
   "cell_type": "code",
   "execution_count": null,
   "metadata": {},
   "outputs": [],
   "source": [
    "rad_azs = np.array(azs) * np.pi / 180.0\n",
    "\n",
    "fig=plt.figure(figsize=(8,8))\n",
    "ax1 = plt.subplot(111, projection='polar')\n",
    "ax1.set_title(f\"Sky coverage - LSSTCam 20250527-20250608 Trimmed\")\n",
    "ax1.invert_yaxis()\n",
    "ax1.set_rlim(90,0)\n",
    "ax1.scatter (rad_azs, els)\n",
    "plt.savefig(\"/home/c/cslage/u/LSSTCam/data/Sky_Coverage_Pointing_27May25-08Jun25.png\")"
   ]
  },
  {
   "cell_type": "code",
   "execution_count": null,
   "metadata": {},
   "outputs": [],
   "source": []
  },
  {
   "cell_type": "code",
   "execution_count": null,
   "metadata": {},
   "outputs": [],
   "source": [
    "butler = Butler('/sdf/group/rubin/repo/main', collections=[\"LSSTComCam/raw/all\",\"LSSTComCam/calib\"])\n",
    "instrument = 'LSSTComCam'\n",
    "\n",
    "def DeltaAltAz (el, az):\n",
    "    # This calculates the offset due to the pointing model\n",
    "    # as extracted from ComCam images.\n",
    "    deltaEl = 125.4 - 187.9 * np.sin(az * np.pi / 180.0)\n",
    "    deltaAz = 222.0 + 348.1 * np.cos(az * np.pi / 360.0)\n",
    "    elPrime = el + deltaEl / 3600.0\n",
    "    azPrime = az + deltaAz / 3600.0\n",
    "    return [elPrime, azPrime]\n",
    "\n",
    "def CalculateDrift(expId):\n",
    "    rawExp = butler.get('raw', detector=4, exposure=expId, instrument=instrument)\n",
    "    md = rawExp.getMetadata()\n",
    "    filter = md['FILTBAND']\n",
    "    pressure = md['PRESSURE'] * u.pascal\n",
    "    temperature = md['AIRTEMP'] * u.Celsius\n",
    "    hum = md['HUMIDITY']\n",
    "    time1 = Time(md['MJD-BEG'], format='mjd', scale='tai')\n",
    "    time2 = Time(md['MJD-END'], format='mjd', scale='tai')\n",
    "    ra = md['RASTART']\n",
    "    dec = md['DECSTART']\n",
    "    skyLocation = SkyCoord(ra*u.deg, dec*u.deg)\n",
    "    wl = wavelengths[filter] * u.angstrom\n",
    "    altAz1 = AltAz(obstime=time1, location=SIMONYI_LOCATION, pressure=pressure, \n",
    "                 temperature=temperature, relative_humidity=hum, obswl=wl)\n",
    "    altAz2 = AltAz(obstime=time2, location=SIMONYI_LOCATION, pressure=pressure, \n",
    "                 temperature=temperature, relative_humidity=hum, obswl=wl)\n",
    "    obsAltAz1 = skyLocation.transform_to(altAz1)\n",
    "    obsAltAz2 = skyLocation.transform_to(altAz2)\n",
    "    # 1 is at the beginning of the exposure, 2 is at the end\n",
    "    # el, az are the actual values, prime values reflect the pointing model\n",
    "    # These are all in degrees\n",
    "    el1 = obsAltAz1.alt.deg\n",
    "    az1 = obsAltAz1.az.deg\n",
    "    el2 = obsAltAz2.alt.deg\n",
    "    az2 = obsAltAz2.az.deg\n",
    "    [elPrime1, azPrime1] = DeltaAltAz (el1, az1)\n",
    "    [elPrime2, azPrime2] = DeltaAltAz (el2, az2)\n",
    "    # Change values are the change from the beginning to the end of the exposure, in arcseconds\n",
    "    azChange = (az2 - az1) * 3600.0\n",
    "    elChange = (el2 - el1) * 3600.0\n",
    "    azPrimeChange = (azPrime2 - azPrime1) * 3600.0\n",
    "    elPrimeChange = (elPrime2 - elPrime1) * 3600.0\n",
    "    azDrift = azChange - azPrimeChange\n",
    "    elDrift = elChange - elPrimeChange\n",
    "    print(f\" For {expId}, Azimuth drift = {azDrift:.2f} arcseconds, Elevation drift = {elDrift:.2f} arcseconds\")\n",
    "    return\n",
    "\n",
    "CalculateDrift(2024120700551)"
   ]
  },
  {
   "cell_type": "code",
   "execution_count": null,
   "metadata": {},
   "outputs": [],
   "source": [
    "plt.scatter(azs, els)"
   ]
  },
  {
   "cell_type": "code",
   "execution_count": null,
   "metadata": {},
   "outputs": [],
   "source": [
    "azs[0]"
   ]
  },
  {
   "cell_type": "code",
   "execution_count": null,
   "metadata": {},
   "outputs": [],
   "source": []
  }
 ],
 "metadata": {
  "kernelspec": {
   "display_name": "LSST",
   "language": "python",
   "name": "lsst"
  },
  "language_info": {
   "codemirror_mode": {
    "name": "ipython",
    "version": 3
   },
   "file_extension": ".py",
   "mimetype": "text/x-python",
   "name": "python",
   "nbconvert_exporter": "python",
   "pygments_lexer": "ipython3",
   "version": "3.12.11"
  }
 },
 "nbformat": 4,
 "nbformat_minor": 4
}
