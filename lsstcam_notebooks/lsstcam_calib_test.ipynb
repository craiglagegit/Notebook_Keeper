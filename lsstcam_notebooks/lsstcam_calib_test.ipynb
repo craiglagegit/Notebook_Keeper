{
 "cells": [
  {
   "cell_type": "markdown",
   "id": "5a767cc3-5a12-484f-986e-24cd53dd19e1",
   "metadata": {},
   "source": [
    "# LSSTCam Test Calibrations\n",
    "Author: Alex Broughton\n"
   ]
  },
  {
   "cell_type": "markdown",
   "id": "54eb2df5-6ccd-4e81-b3b1-3094bb17c810",
   "metadata": {},
   "source": [
    "# Detectors:\n",
    "- 76  R20_S11 ITL (good)\n",
    "- 94  R22_S11 E2V (good)\n",
    "- 117 R30_S00 ITL (dead amp C10)\n",
    "- 173 R42_S02 ITL (vampire infestation)"
   ]
  },
  {
   "cell_type": "markdown",
   "id": "792ba6c9-2eaa-4dbc-8908-e1a7c8bbf8f3",
   "metadata": {},
   "source": [
    "# 0. Setup"
   ]
  },
  {
   "cell_type": "code",
   "execution_count": null,
   "id": "79f90635-1e36-497f-8fd9-f9232cd773c0",
   "metadata": {
    "execution": {
     "iopub.execute_input": "2025-03-17T15:08:11.737901Z",
     "iopub.status.busy": "2025-03-17T15:08:11.737769Z",
     "iopub.status.idle": "2025-03-17T15:08:16.381010Z",
     "shell.execute_reply": "2025-03-17T15:08:16.380531Z",
     "shell.execute_reply.started": "2025-03-17T15:08:11.737887Z"
    }
   },
   "outputs": [],
   "source": [
    "import os\n",
    "import numpy as np\n",
    "import matplotlib.pyplot as plt\n",
    "from matplotlib.pyplot import cm\n",
    "\n",
    "from lsst.daf.butler import Butler\n",
    "from lsst.obs.lsst import LsstCam\n",
    "\n",
    "camera = LsstCam.getCamera()\n",
    "\n",
    "color = cm.tab20(np.linspace(0, 1, 16))\n",
    "\n",
    "collections = [\n",
    "    \"u/abrought/LSSTCam/calib/DM-49175\", \n",
    "    \"u/abrought/LSSTCam/calib/DM-49175/test/linearizerGen.20250309a\",\n",
    "    # \"u/abrought/LSSTCam/calib/DM-49175/test/ptcGen.20250309a\",\n",
    "    \"u/abrought/LSSTCam/calib/DM-49175/test/darkGen.20250309a\",\n",
    "    \"u/abrought/LSSTCam/calib/DM-49175/test/biasBootstrapGen.20250309a/run1\",\n",
    "    \"u/abrought/LSSTCam/calib/DM-49175/test/darkBootstrapGen.20250309a/run1\",\n",
    "    \"u/abrought/LSSTCam/calib/DM-49175/test/flatBootstrapGen.20250309a/run1\",\n",
    "]\n",
    "butler = Butler(\"/repo/main\", collections=collections)\n",
    "registry = butler.registry\n",
    "\n",
    "detIds = [76, 94, 117, 173]"
   ]
  },
  {
   "cell_type": "code",
   "execution_count": null,
   "id": "92f8c8b0-85d8-44c8-8bad-e0c634d402d6",
   "metadata": {
    "execution": {
     "iopub.execute_input": "2025-03-17T15:08:16.381772Z",
     "iopub.status.busy": "2025-03-17T15:08:16.381633Z",
     "iopub.status.idle": "2025-03-17T15:08:16.383848Z",
     "shell.execute_reply": "2025-03-17T15:08:16.383484Z",
     "shell.execute_reply.started": "2025-03-17T15:08:16.381758Z"
    }
   },
   "outputs": [],
   "source": [
    "# import os\n",
    "# for detector in camera:\n",
    "#     detId = detector.getId()\n",
    "#     detName = detector.getName()\n",
    "#     raft = detName[0:3]\n",
    "#     bay = detName[4:]\n",
    "#     os.makedirs(f\"./plots/{raft}\", exist_ok=True)\n",
    "#     os.makedirs(f\"./plots/{raft}/bay\", exist_ok=True)"
   ]
  },
  {
   "cell_type": "markdown",
   "id": "da30512d-a1d9-496d-a5cf-30798a238cd1",
   "metadata": {},
   "source": [
    "# 1. Bias Bootstrap"
   ]
  },
  {
   "cell_type": "code",
   "execution_count": null,
   "id": "82d4b050-5ad9-4e97-87a4-93ad07f8e038",
   "metadata": {
    "execution": {
     "iopub.execute_input": "2025-03-17T15:08:16.384424Z",
     "iopub.status.busy": "2025-03-17T15:08:16.384298Z",
     "iopub.status.idle": "2025-03-17T15:08:22.399592Z",
     "shell.execute_reply": "2025-03-17T15:08:22.399171Z",
     "shell.execute_reply.started": "2025-03-17T15:08:16.384412Z"
    }
   },
   "outputs": [],
   "source": [
    "refs = list(butler.query_datasets(\n",
    "    \"biasBootstrap\", \n",
    "    where=f\"instrument='LSSTCam' and detector in {str(tuple(detIds))}\", \n",
    "    collections=collections))\n",
    "\n",
    "for ref in refs:\n",
    "    plt.figure()\n",
    "    img = butler.get(\"biasBootstrap\", dataId=ref.dataId, collections=collections)\n",
    "    for i, amp in enumerate(camera[ref.dataId['detector']].getAmplifiers()):\n",
    "        bbox = amp.getBBox()\n",
    "        vals = img.image[bbox].array.ravel()\n",
    "        vals = vals[(vals>-10.) * (vals<10.)]\n",
    "        _ = plt.hist(vals, bins=100, histtype='step', color=color[i], label=amp.getName())\n",
    "    \n",
    "    plt.yscale('log')\n",
    "    plt.xlabel(\"adu\")\n",
    "    plt.legend(ncol=2)\n",
    "    plt.title(f\"BIAS BOOTSTRAP {camera[ref.dataId['detector']].getName()}, {ref.dataId['detector']}\")\n",
    "    plt.savefig(f\"./plots/biasBootstrap_{ref.dataId['detector']}.png\", bbox_inches='tight')\n",
    "    #plt.close()"
   ]
  },
  {
   "cell_type": "markdown",
   "id": "a42b81b6-4c1f-45f6-9fcd-166a12f0e030",
   "metadata": {},
   "source": [
    "# 2. Dark Bootstrap"
   ]
  },
  {
   "cell_type": "code",
   "execution_count": null,
   "id": "9aca343a-9e52-4201-b7c7-5460d6f6b1b3",
   "metadata": {
    "execution": {
     "iopub.execute_input": "2025-03-17T15:08:22.400175Z",
     "iopub.status.busy": "2025-03-17T15:08:22.400037Z",
     "iopub.status.idle": "2025-03-17T15:08:28.178314Z",
     "shell.execute_reply": "2025-03-17T15:08:28.177906Z",
     "shell.execute_reply.started": "2025-03-17T15:08:22.400162Z"
    }
   },
   "outputs": [],
   "source": [
    "refs = list(butler.query_datasets(\n",
    "    \"darkBootstrap\", \n",
    "    where=f\"instrument='LSSTCam' and detector in {str(tuple(detIds))}\", \n",
    "    collections=collections))\n",
    "\n",
    "for ref in refs:\n",
    "    plt.figure()\n",
    "    img = butler.get(\"darkBootstrap\", dataId=ref.dataId, collections=collections)\n",
    "    for i, amp in enumerate(camera[ref.dataId['detector']].getAmplifiers()):\n",
    "        bbox = amp.getBBox()\n",
    "        vals = img.image[bbox].array.ravel()\n",
    "        vals = vals[(vals>-10.) * (vals<10.)]\n",
    "        _ = plt.hist(vals, bins=100, histtype='step', color=color[i], label=amp.getName())\n",
    "    \n",
    "    plt.yscale('log')\n",
    "    plt.xlabel(\"adu\")\n",
    "    plt.legend(ncol=2)\n",
    "    plt.title(f\"dark BOOTSTRAP {camera[ref.dataId['detector']].getName()}, {ref.dataId['detector']}\")\n",
    "    plt.savefig(f\"./plots/darkBootstrap_{ref.dataId['detector']}.png\", bbox_inches='tight')\n",
    "    #plt.close()"
   ]
  },
  {
   "cell_type": "markdown",
   "id": "5ada087b-6d87-452c-8bdc-382ccafc5681",
   "metadata": {},
   "source": [
    "# 3. Flat Bootstrap"
   ]
  },
  {
   "cell_type": "code",
   "execution_count": null,
   "id": "b04648fe-ba03-42ac-86b1-49b94afb2c1b",
   "metadata": {
    "execution": {
     "iopub.execute_input": "2025-03-17T15:08:28.178917Z",
     "iopub.status.busy": "2025-03-17T15:08:28.178781Z",
     "iopub.status.idle": "2025-03-17T15:08:34.228289Z",
     "shell.execute_reply": "2025-03-17T15:08:34.227904Z",
     "shell.execute_reply.started": "2025-03-17T15:08:28.178904Z"
    }
   },
   "outputs": [],
   "source": [
    "refs = list(butler.query_datasets(\n",
    "    \"flatBootstrap\", \n",
    "    where=f\"instrument='LSSTCam' and detector in {str(tuple(detIds))}\", \n",
    "    collections=collections))\n",
    "\n",
    "for ref in refs:\n",
    "    plt.figure()\n",
    "    img = butler.get(\"flatBootstrap\", dataId=ref.dataId, collections=collections)\n",
    "    for i, amp in enumerate(camera[ref.dataId['detector']].getAmplifiers()):\n",
    "        bbox = amp.getBBox()\n",
    "        vals = img.image[bbox].array.ravel()\n",
    "        #vals = vals[(vals>-10.) * (vals<10.)]\n",
    "        _ = plt.hist(vals, bins=100, histtype='step', color=color[i], label=amp.getName())\n",
    "    \n",
    "    plt.yscale('log')\n",
    "    plt.xlabel(\"adu\")\n",
    "    plt.legend(ncol=2)\n",
    "    plt.title(f\"FLAT BOOTSTRAP {camera[ref.dataId['detector']].getName()}, {ref.dataId['detector']}\")\n",
    "    plt.savefig(f\"./plots/flatBootstrap_{ref.dataId['detector']}.png\", bbox_inches='tight')\n",
    "    #plt.close()"
   ]
  },
  {
   "cell_type": "markdown",
   "id": "399e1fbc-dbf3-4640-bfbe-e40c8ea0635d",
   "metadata": {},
   "source": [
    "# 4. Bias v. Dark"
   ]
  },
  {
   "cell_type": "code",
   "execution_count": null,
   "id": "b02d05af-4c11-4d64-900f-cd37ff817183",
   "metadata": {
    "execution": {
     "iopub.execute_input": "2025-03-17T15:08:34.228885Z",
     "iopub.status.busy": "2025-03-17T15:08:34.228748Z",
     "iopub.status.idle": "2025-03-17T15:09:06.701035Z",
     "shell.execute_reply": "2025-03-17T15:09:06.700664Z",
     "shell.execute_reply.started": "2025-03-17T15:08:34.228872Z"
    }
   },
   "outputs": [],
   "source": [
    "import numpy as np\n",
    "import matplotlib.pyplot as plt\n",
    "from matplotlib.pyplot import cm\n",
    "\n",
    "from lsst.daf.butler import Butler\n",
    "from lsst.obs.lsst import LsstCam\n",
    "\n",
    "# Camera object\n",
    "camera = LsstCam.getCamera()\n",
    "\n",
    "color = cm.tab20(np.linspace(0, 1, 16))\n",
    "\n",
    "butler = Butler(\"/repo/main\")\n",
    "registry = butler.registry\n",
    "refs = list(butler.query_datasets(\n",
    "    \"biasBootstrap\", \n",
    "    where=f\"instrument='LSSTCam' and detector in {str(tuple(detIds))}\", \n",
    "    collections = collections\n",
    "))\n",
    "refs2 = list(butler.query_datasets(\n",
    "    \"darkBootstrap\", \n",
    "    where=f\"instrument='LSSTCam' and detector in {str(tuple(detIds))}\", \n",
    "    collections = collections\n",
    "))\n",
    "\n",
    "for ref, ref2 in zip(refs, refs2):\n",
    "    plt.figure()\n",
    "    img = butler.get(\n",
    "        \"biasBootstrap\", \n",
    "        dataId=ref.dataId, \n",
    "        collections=collections\n",
    "    )\n",
    "    img2 = butler.get(\n",
    "        \"darkBootstrap\", \n",
    "        dataId=ref.dataId, \n",
    "        collections=collections\n",
    "    )\n",
    "    \n",
    "    fig, axes = plt.subplots(2, 8, figsize=(16,4))\n",
    "    fig.suptitle(camera[ref.dataId['detector']].getName())\n",
    "    axs=axes.ravel()\n",
    "    for i, amp in enumerate(camera[ref.dataId['detector']].getAmplifiers()):\n",
    "        ax = axs[i]\n",
    "        bbox = amp.getBBox()\n",
    "        vals = img.image[bbox].array.ravel()\n",
    "        vals2 = img2.image[bbox].array.ravel() * 15.0 # scaled by 15s\n",
    "        #vals = vals[(vals>-15.) * (vals<15.)]\n",
    "        ax.hexbin(vals, vals2, bins='log', gridsize=(100,100),extent=(-15,15,-15, 15))\n",
    "        ax.set_xlabel(\"BIAS BOOTSTRAP\")\n",
    "        ax.set_ylabel(\"DARK BOOTSTRAP * 15s\")\n",
    "        ax.set_xlim(-15., 15.)\n",
    "        ax.set_ylim(-15., 15.)\n",
    "        ax.set_title(amp.getName())\n",
    "        ax.set_aspect('equal')\n",
    "    plt.tight_layout()\n",
    "    plt.savefig(f\"./plots/biasVdark_{ref.dataId['detector']}.png\", bbox_inches=\"tight\")\n",
    "    #plt.close()"
   ]
  },
  {
   "cell_type": "markdown",
   "id": "0d06b825-4953-4c1c-b8a6-06118fd9c228",
   "metadata": {},
   "source": [
    "# 5. Linearizer"
   ]
  },
  {
   "cell_type": "code",
   "execution_count": null,
   "id": "db25f148-1f93-409e-94d5-3c8574b2973b",
   "metadata": {
    "execution": {
     "iopub.execute_input": "2025-03-17T15:09:06.701654Z",
     "iopub.status.busy": "2025-03-17T15:09:06.701517Z",
     "iopub.status.idle": "2025-03-17T15:09:27.663429Z",
     "shell.execute_reply": "2025-03-17T15:09:27.663042Z",
     "shell.execute_reply.started": "2025-03-17T15:09:06.701640Z"
    }
   },
   "outputs": [],
   "source": [
    "refs = list(butler.query_datasets(\n",
    "    \"linearizer\",\n",
    "    where=f\"instrument='LSSTCam' and detector in {str(tuple(detIds))}\", \n",
    "    collections=collections\n",
    "))\n",
    "\n",
    "linTurnoffs = []\n",
    "for ref in refs: \n",
    "    lin = butler.get(\"linearizer\", dataId=refs[0].dataId, collections=collections)\n",
    "    ptc = butler.get(\"linearizerPtc\", dataId=refs[0].dataId, collections=collections)\n",
    "    \n",
    "    fig, axes = plt.subplots(4, 4, figsize=(12,12))\n",
    "    fig.suptitle(camera[ref.dataId['detector']].getName())\n",
    "    axs=axes.ravel()\n",
    "    for i, amp in enumerate(camera[ref.dataId['detector']].getAmplifiers()):\n",
    "        ampName = amp.getName()\n",
    "        ax = axs[i]\n",
    "        ax.set_title(ampName)\n",
    "        ax.scatter(ptc.photoCharges[ampName], ptc.rawMeans[ampName], s=1)\n",
    "        ax.axhline(lin.linearityTurnoff[ampName], linestyle=\"--\", color=\"k\", alpha=0.5)\n",
    "        linTurnoff = float(lin.linearityTurnoff[ampName])\n",
    "        linTurnoffs.append(linTurnoff)\n",
    "        ax.text(\n",
    "            0, lin.linearityTurnoff[ampName]*.8, \n",
    "            f\"Linearity Turnoff:\\n{round(linTurnoff, 1)} adu\",\n",
    "        )\n",
    "        \n",
    "        ax.ticklabel_format(style='sci', axis='both', scilimits=(0, 0), useMathText=True)\n",
    "        ax.set_xlabel(\"Integrated Photodiode\\nCurrent\")\n",
    "        ax.set_ylabel(\"Raw Means (adu)\")\n",
    "    plt.tight_layout()\n",
    "    plt.savefig(f\"./plots/photocurrentVsrawMeans_{camera[ref.dataId['detector']].getId()}.png\", bbox_inches='tight')\n",
    "    #plt.close()\n",
    "\n",
    "\n",
    "    fig, axes = plt.subplots(4, 4, figsize=(12,12))\n",
    "    fig.suptitle(camera[ref.dataId['detector']].getName())\n",
    "    axs=axes.ravel()\n",
    "    for i, amp in enumerate(camera[ref.dataId['detector']].getAmplifiers()):\n",
    "        ampName = amp.getName()\n",
    "        ax = axs[i]\n",
    "        ax.set_title(ampName)\n",
    "        ax.scatter(ptc.photoCharges[ampName], lin.fitResiduals[ampName]/ptc.rawMeans[ampName], s=1)\n",
    "        ax.axhline(0, linestyle=\"--\", color=\"k\", alpha=0.5)\n",
    "        ax.ticklabel_format(style='sci', axis='x', scilimits=(0, 0), useMathText=True)\n",
    "        ax.set_xlabel(\"Integrated Photodiode\\nCurrent\")\n",
    "        ax.set_ylabel(\"fitResiduals / rawMeans\")\n",
    "    plt.tight_layout()\n",
    "    plt.savefig(f\"./plots/fitResidualsVsrawMeans_{camera[ref.dataId['detector']].getId()}.png\", bbox_inches='tight')\n",
    "    #plt.close()"
   ]
  },
  {
   "cell_type": "code",
   "execution_count": null,
   "id": "5f77fd15-bd18-472b-8e85-6aa9f693f2f7",
   "metadata": {
    "execution": {
     "iopub.execute_input": "2025-03-17T15:09:27.664020Z",
     "iopub.status.busy": "2025-03-17T15:09:27.663886Z",
     "iopub.status.idle": "2025-03-17T15:09:27.875297Z",
     "shell.execute_reply": "2025-03-17T15:09:27.874920Z",
     "shell.execute_reply.started": "2025-03-17T15:09:27.664007Z"
    }
   },
   "outputs": [],
   "source": [
    "plt.hist(np.array(linTurnoffs), histtype=\"step\")\n",
    "plt.ticklabel_format(style='sci', axis='x', scilimits=(0, 0), useMathText=True)\n",
    "plt.xlabel(\"Linearity Turnoffs (adu)\")\n",
    "plt.savefig(f\"./plots/linearity_turnoffs_hist.png\", bbox_inches='tight')\n",
    "#plt.close()"
   ]
  },
  {
   "cell_type": "markdown",
   "id": "7e036c65-c4a4-4500-a002-3164e7230a17",
   "metadata": {
    "execution": {
     "execution_failed": "2025-03-15T00:40:20.325Z"
    }
   },
   "source": [
    "# 5. PTC"
   ]
  },
  {
   "cell_type": "code",
   "execution_count": null,
   "id": "1eb8b19d-0eef-497f-86ea-138673c14f33",
   "metadata": {
    "execution": {
     "iopub.execute_input": "2025-03-17T15:09:27.875902Z",
     "iopub.status.busy": "2025-03-17T15:09:27.875758Z",
     "iopub.status.idle": "2025-03-17T15:09:41.677377Z",
     "shell.execute_reply": "2025-03-17T15:09:41.676933Z",
     "shell.execute_reply.started": "2025-03-17T15:09:27.875888Z"
    }
   },
   "outputs": [],
   "source": [
    "refs = list(butler.query_datasets(\n",
    "    \"ptc\",\n",
    "    where=f\"instrument='LSSTCam' and detector in {str(tuple(detIds))}\", \n",
    "    collections=collections\n",
    "))\n",
    "\n",
    "ptcTurnoffs = []\n",
    "empiricalN00s = []\n",
    "n00s = []\n",
    "gains = []\n",
    "a00s = []\n",
    "\n",
    "for ref in refs: \n",
    "    ptc = butler.get(\"ptc\", dataId=ref.dataId, collections=collections)\n",
    "    \n",
    "    fig, axes = plt.subplots(4, 4, figsize=(12,12))\n",
    "    fig.suptitle(camera[ref.dataId['detector']].getName())\n",
    "    axs=axes.ravel()\n",
    "    for i, amp in enumerate(camera[ref.dataId['detector']].getAmplifiers()):\n",
    "        ampName = amp.getName()\n",
    "        ax = axs[i]\n",
    "        ax.set_title(ampName)\n",
    "        ax.scatter(ptc.rawMeans[ampName], ptc.rawVars[ampName], s=1)\n",
    "        ax.scatter(ptc.finalMeans[ampName], ptc.finalVars[ampName], s=1)\n",
    "        \n",
    "        ptcTurnoff = float(ptc.ptcTurnoff[ampName])\n",
    "        ptcTurnoffs.append(ptcTurnoff)\n",
    "\n",
    "        a00 = ptc.aMatrix[ampName][0][0] * 1e6\n",
    "        a00s.append(a00)\n",
    "        n00 = ptc.noise[ampName]\n",
    "        n00s.append(n00)\n",
    "        empiricalN00 = np.median(ptc.noiseList[ampName])\n",
    "        empiricalN00s.append(empiricalN00)\n",
    "        gain = ptc.gain[ampName]\n",
    "        gains.append(gain)\n",
    "        \n",
    "        ax.axvline(ptcTurnoff, linestyle=\"--\", color=\"k\", alpha=0.5)\n",
    "        ax.text(\n",
    "            5e3, 4.5e4, \n",
    "            f\"Turnoff: {round(ptcTurnoff, 1)} adu\",\n",
    "        )\n",
    "        ax.text(\n",
    "            5e3, 4.1e4, \n",
    "            f\"Gain: {round(gain, 2)}\",\n",
    "        )\n",
    "        ax.text(\n",
    "            5e3, 3.7e4, \n",
    "            r\"$a_{00}$: \" + f\"{round(a00, 2)}\" + r\"$\\times 10^{-6}$\",\n",
    "        )\n",
    "        ax.text(\n",
    "            5e3, 3.3e4, \n",
    "            r\"$n_{00}$: \" + f\"{round(n00, 2)} el\",\n",
    "        )\n",
    "        \n",
    "        ax.ticklabel_format(style='sci', axis='both', scilimits=(0, 0), useMathText=True)\n",
    "        ax.set_xlabel(\"Signal (adu)\")\n",
    "        ax.set_ylabel(r\"$C_{00}$ (adu$^2$)\")\n",
    "        # ax.set_xscale('log')#, linthresh=15000.0)\n",
    "        # ax.set_yscale('log')#, linthresh=15.0)\n",
    "        ax.set_ylim(0, 5.5e4)\n",
    "        ax.set_xlim(0, 1.25e5)\n",
    "    plt.tight_layout()\n",
    "    plt.savefig(f\"./plots/ptc_{camera[ref.dataId['detector']].getId()}.png\", bbox_inches='tight')\n",
    "    #plt.close()\n"
   ]
  },
  {
   "cell_type": "code",
   "execution_count": null,
   "id": "f78023d5-898d-4ef4-b489-cdf73266df56",
   "metadata": {
    "execution": {
     "iopub.execute_input": "2025-03-17T15:09:41.677966Z",
     "iopub.status.busy": "2025-03-17T15:09:41.677831Z",
     "iopub.status.idle": "2025-03-17T15:09:51.733357Z",
     "shell.execute_reply": "2025-03-17T15:09:51.732963Z",
     "shell.execute_reply.started": "2025-03-17T15:09:41.677953Z"
    }
   },
   "outputs": [],
   "source": [
    "for ref in refs: \n",
    "    ptc = butler.get(\"ptc\", dataId=ref.dataId, collections=collections)\n",
    "    \n",
    "    fig, axes = plt.subplots(4, 4, figsize=(12,12))\n",
    "    fig.suptitle(camera[ref.dataId['detector']].getName())\n",
    "    axs=axes.ravel()\n",
    "    for i, amp in enumerate(camera[ref.dataId['detector']].getAmplifiers()):\n",
    "        ampName = amp.getName()\n",
    "        ax = axs[i]\n",
    "        ax.set_title(ampName)\n",
    "        \n",
    "        ptcTurnoff = ptc.ptcTurnoff[ampName]\n",
    "\n",
    "        good = ptc.expIdMask[ampName] * (ptc.rawMeans[ampName] < ptcTurnoff)\n",
    "        data = ptc.rawVars[ampName][good] / ptc.rawMeans[ampName][good]\n",
    "\n",
    "        ax.scatter(ptc.rawMeans[ampName][good], data, s=1)\n",
    "        #ax.axhline(0, linestyle=\"--\", color=\"k\", alpha=0.5)\n",
    "        ax.axvline(ptcTurnoff, linestyle=\"--\", color=\"orange\", alpha=0.5)\n",
    "        \n",
    "        ax.ticklabel_format(style='sci', axis='x', scilimits=(0, 0), useMathText=True)\n",
    "        ax.set_xlabel(\"Signal (adu)\")\n",
    "        ax.set_ylabel(r\"$C_{00} / \\mu$\")\n",
    "        # ax.set_xscale('log')#, linthresh=15000.0)\n",
    "        # ax.set_yscale('log')#, linthresh=15.0)\n",
    "        ax.set_ylim(0.4, 0.8)\n",
    "        ax.set_xlim(0, 1.0e5)\n",
    "    plt.tight_layout()\n",
    "    plt.savefig(f\"./plots/C00_mu_{camera[ref.dataId['detector']].getId()}.png\", bbox_inches='tight')\n",
    "    #plt.close()\n"
   ]
  },
  {
   "cell_type": "code",
   "execution_count": null,
   "id": "981da98c-51b7-4169-b848-d1870fe19c3d",
   "metadata": {
    "execution": {
     "iopub.execute_input": "2025-03-17T15:09:51.733977Z",
     "iopub.status.busy": "2025-03-17T15:09:51.733841Z",
     "iopub.status.idle": "2025-03-17T15:10:01.801769Z",
     "shell.execute_reply": "2025-03-17T15:10:01.801343Z",
     "shell.execute_reply.started": "2025-03-17T15:09:51.733963Z"
    }
   },
   "outputs": [],
   "source": [
    "for ref in refs: \n",
    "    ptc = butler.get(\"ptc\", dataId=ref.dataId, collections=collections)\n",
    "    \n",
    "    fig, axes = plt.subplots(4, 4, figsize=(12,12))\n",
    "    fig.suptitle(camera[ref.dataId['detector']].getName())\n",
    "    axs=axes.ravel()\n",
    "    for i, amp in enumerate(camera[ref.dataId['detector']].getAmplifiers()):\n",
    "        ampName = amp.getName()\n",
    "        ax = axs[i]\n",
    "        ax.set_title(ampName)\n",
    "        \n",
    "        ptcTurnoff = ptc.ptcTurnoff[ampName]\n",
    "\n",
    "        good = ptc.expIdMask[ampName] * (ptc.rawMeans[ampName] < ptcTurnoff)\n",
    "        data = ptc.covariances[ampName][good][:,0,1] / ptc.rawMeans[ampName][good]\n",
    "\n",
    "        ax.scatter(ptc.rawMeans[ampName][good], data, s=1)\n",
    "        ax.axhline(0, linestyle=\"--\", color=\"k\", alpha=0.5)\n",
    "        ax.axvline(ptcTurnoff, linestyle=\"--\", color=\"orange\", alpha=0.5)\n",
    "        \n",
    "        ax.ticklabel_format(style='sci', axis='x', scilimits=(0, 0), useMathText=True)\n",
    "        ax.set_xlabel(\"Signal (adu)\")\n",
    "        ax.set_ylabel(r\"$C_{01} / \\mu$\")\n",
    "        # ax.set_xscale('log')#, linthresh=15000.0)\n",
    "        # ax.set_yscale('log')#, linthresh=15.0)\n",
    "        ax.set_ylim(-0.01, 0.03)\n",
    "        ax.set_xlim(0, 1.0e5)\n",
    "    plt.tight_layout()\n",
    "    plt.savefig(f\"./plots/C01_mu_{camera[ref.dataId['detector']].getId()}.png\", bbox_inches='tight')\n",
    "    #plt.close()\n"
   ]
  },
  {
   "cell_type": "code",
   "execution_count": null,
   "id": "e1465bf3-fbf9-4d74-94ba-819c04c1f4d1",
   "metadata": {
    "execution": {
     "iopub.execute_input": "2025-03-17T15:10:01.802407Z",
     "iopub.status.busy": "2025-03-17T15:10:01.802271Z",
     "iopub.status.idle": "2025-03-17T15:10:12.099416Z",
     "shell.execute_reply": "2025-03-17T15:10:12.099018Z",
     "shell.execute_reply.started": "2025-03-17T15:10:01.802394Z"
    }
   },
   "outputs": [],
   "source": [
    "for ref in refs: \n",
    "    ptc = butler.get(\"ptc\", dataId=ref.dataId, collections=collections)\n",
    "    \n",
    "    fig, axes = plt.subplots(4, 4, figsize=(12,12))\n",
    "    fig.suptitle(camera[ref.dataId['detector']].getName())\n",
    "    axs=axes.ravel()\n",
    "    for i, amp in enumerate(camera[ref.dataId['detector']].getAmplifiers()):\n",
    "        ampName = amp.getName()\n",
    "        ax = axs[i]\n",
    "        ax.set_title(ampName)\n",
    "        \n",
    "        ptcTurnoff = ptc.ptcTurnoff[ampName]\n",
    "\n",
    "        good = ptc.expIdMask[ampName] * (ptc.rawMeans[ampName] < ptcTurnoff)\n",
    "        data = ptc.covariances[ampName][good][:,1,0] / ptc.rawMeans[ampName][good]\n",
    "\n",
    "        ax.scatter(ptc.rawMeans[ampName][good], data, s=1)\n",
    "        ax.axhline(0, linestyle=\"--\", color=\"k\", alpha=0.5)\n",
    "        ax.axvline(ptcTurnoff, linestyle=\"--\", color=\"orange\", alpha=0.5)\n",
    "        \n",
    "        ax.ticklabel_format(style='sci', axis='x', scilimits=(0, 0), useMathText=True)\n",
    "        ax.set_xlabel(\"Signal (adu)\")\n",
    "        ax.set_ylabel(r\"$C_{10} / \\mu$\")\n",
    "        # ax.set_xscale('log')#, linthresh=15000.0)\n",
    "        # ax.set_yscale('log')#, linthresh=15.0)\n",
    "        ax.set_ylim(-0.01, 0.03)\n",
    "        ax.set_xlim(0, 1.0e5)\n",
    "    plt.tight_layout()\n",
    "    plt.savefig(f\"./plots/C10_mu_{camera[ref.dataId['detector']].getId()}.png\", bbox_inches='tight')\n",
    "    #plt.close()\n"
   ]
  },
  {
   "cell_type": "code",
   "execution_count": null,
   "id": "35880357-286a-49cc-ac68-de1b643f0eb6",
   "metadata": {
    "execution": {
     "iopub.execute_input": "2025-03-17T15:10:12.100043Z",
     "iopub.status.busy": "2025-03-17T15:10:12.099906Z",
     "iopub.status.idle": "2025-03-17T15:10:23.126634Z",
     "shell.execute_reply": "2025-03-17T15:10:23.126248Z",
     "shell.execute_reply.started": "2025-03-17T15:10:12.100029Z"
    }
   },
   "outputs": [],
   "source": [
    "for ref in refs: \n",
    "    ptc = butler.get(\"ptc\", dataId=ref.dataId, collections=collections)\n",
    "    \n",
    "    fig, axes = plt.subplots(4, 4, figsize=(12,12))\n",
    "    fig.suptitle(camera[ref.dataId['detector']].getName())\n",
    "    axs=axes.ravel()\n",
    "    for i, amp in enumerate(camera[ref.dataId['detector']].getAmplifiers()):\n",
    "        ampName = amp.getName()\n",
    "        ax = axs[i]\n",
    "        ax.set_title(ampName)\n",
    "        \n",
    "        ptcTurnoff = ptc.ptcTurnoff[ampName]\n",
    "\n",
    "        good = ptc.expIdMask[ampName] * (ptc.rawMeans[ampName] < ptcTurnoff)\n",
    "        data = ptc.rawVars[ampName][good]\n",
    "        model = ptc.evalPtcModel(ptc.rawMeans[ampName][good])[ampName][:,0,0]\n",
    "\n",
    "        ax.scatter(ptc.rawMeans[ampName][good], data/model - 1, s=1)\n",
    "        ax.axhline(0, linestyle=\"--\", color=\"k\", alpha=0.5)\n",
    "        ax.axvline(ptcTurnoff, linestyle=\"--\", color=\"orange\", alpha=0.5)\n",
    "        \n",
    "        ax.ticklabel_format(style='sci', axis='x', scilimits=(0, 0), useMathText=True)\n",
    "        ax.set_xlabel(\"Signal (adu)\")\n",
    "        ax.set_ylabel(r\"$C_{00} / C_{00}^{model} - 1$\")\n",
    "        ax.set_xlim(0, 1.0e5)\n",
    "    plt.tight_layout()\n",
    "    plt.savefig(f\"./plots/C00_residuals_{camera[ref.dataId['detector']].getId()}.png\", bbox_inches='tight')\n",
    "    #plt.close()\n"
   ]
  },
  {
   "cell_type": "code",
   "execution_count": null,
   "id": "54b1495c-4d59-40c1-98cf-9091594722c5",
   "metadata": {
    "execution": {
     "iopub.execute_input": "2025-03-17T15:10:23.127251Z",
     "iopub.status.busy": "2025-03-17T15:10:23.127110Z",
     "iopub.status.idle": "2025-03-17T15:10:33.891514Z",
     "shell.execute_reply": "2025-03-17T15:10:33.891147Z",
     "shell.execute_reply.started": "2025-03-17T15:10:23.127238Z"
    }
   },
   "outputs": [],
   "source": [
    "for ref in refs: \n",
    "    ptc = butler.get(\"ptc\", dataId=ref.dataId, collections=collections)\n",
    "    \n",
    "    fig, axes = plt.subplots(4, 4, figsize=(12,12))\n",
    "    fig.suptitle(camera[ref.dataId['detector']].getName())\n",
    "    axs=axes.ravel()\n",
    "    for i, amp in enumerate(camera[ref.dataId['detector']].getAmplifiers()):\n",
    "        ampName = amp.getName()\n",
    "        ax = axs[i]\n",
    "        ax.set_title(ampName)\n",
    "        \n",
    "        ptcTurnoff = ptc.ptcTurnoff[ampName]\n",
    "\n",
    "        good = ptc.expIdMask[ampName] * (ptc.rawMeans[ampName] < ptcTurnoff)\n",
    "        data = ptc.covariances[ampName][good][:,0,1]\n",
    "        model = ptc.evalPtcModel(ptc.rawMeans[ampName][good])[ampName][:,0,1]\n",
    "\n",
    "        ax.scatter(ptc.rawMeans[ampName][good], data/model - 1, s=1)\n",
    "        ax.axhline(0, linestyle=\"--\", color=\"k\", alpha=0.5)\n",
    "        ax.axvline(ptcTurnoff, linestyle=\"--\", color=\"orange\", alpha=0.5)\n",
    "        \n",
    "        ax.ticklabel_format(style='sci', axis='x', scilimits=(0, 0), useMathText=True)\n",
    "        ax.set_xlabel(\"Signal (adu)\")\n",
    "        ax.set_ylabel(r\"$C_{01} / C_{01}^{model} - 1$\")\n",
    "        # ax.set_xscale('log')#, linthresh=15000.0)\n",
    "        # ax.set_yscale('log')#, linthresh=15.0)\n",
    "        ax.set_ylim(-1, 1)\n",
    "        ax.set_xlim(0, 1.0e5)\n",
    "    plt.tight_layout()\n",
    "    plt.savefig(f\"./plots/C01_residuals_{camera[ref.dataId['detector']].getId()}.png\", bbox_inches='tight')\n",
    "    #plt.close()\n"
   ]
  },
  {
   "cell_type": "code",
   "execution_count": null,
   "id": "7806ff2e-b8a9-4ae6-9ce0-b9fd711d89fe",
   "metadata": {
    "execution": {
     "iopub.execute_input": "2025-03-17T15:10:33.892119Z",
     "iopub.status.busy": "2025-03-17T15:10:33.891987Z",
     "iopub.status.idle": "2025-03-17T15:10:44.335527Z",
     "shell.execute_reply": "2025-03-17T15:10:44.335128Z",
     "shell.execute_reply.started": "2025-03-17T15:10:33.892106Z"
    }
   },
   "outputs": [],
   "source": [
    "for ref in refs: \n",
    "    ptc = butler.get(\"ptc\", dataId=ref.dataId, collections=collections)\n",
    "    \n",
    "    fig, axes = plt.subplots(4, 4, figsize=(12,12))\n",
    "    fig.suptitle(camera[ref.dataId['detector']].getName())\n",
    "    axs=axes.ravel()\n",
    "    for i, amp in enumerate(camera[ref.dataId['detector']].getAmplifiers()):\n",
    "        ampName = amp.getName()\n",
    "        ax = axs[i]\n",
    "        ax.set_title(ampName)\n",
    "        \n",
    "        ptcTurnoff = ptc.ptcTurnoff[ampName]\n",
    "\n",
    "        good = ptc.expIdMask[ampName] * (ptc.rawMeans[ampName] < ptcTurnoff)\n",
    "        data = ptc.covariances[ampName][good][:,1,0]\n",
    "        model = ptc.evalPtcModel(ptc.rawMeans[ampName][good])[ampName][:,1,0]\n",
    "\n",
    "        ax.scatter(ptc.rawMeans[ampName][good], data/model - 1, s=1)\n",
    "        ax.axhline(0, linestyle=\"--\", color=\"k\", alpha=0.5)\n",
    "        ax.axvline(ptcTurnoff, linestyle=\"--\", color=\"orange\", alpha=0.5)\n",
    "        \n",
    "        ax.ticklabel_format(style='sci', axis='x', scilimits=(0, 0), useMathText=True)\n",
    "        ax.set_xlabel(\"Signal (adu)\")\n",
    "        ax.set_ylabel(r\"$C_{10} / C_{10}^{model} - 1$\")\n",
    "        # ax.set_xscale('log')#, linthresh=15000.0)\n",
    "        # ax.set_yscale('log')#, linthresh=15.0)\n",
    "        ax.set_ylim(-1, 1)\n",
    "        ax.set_xlim(0, 1.0e5)\n",
    "    plt.tight_layout()\n",
    "    plt.savefig(f\"./plots/C10_residuals_{camera[ref.dataId['detector']].getId()}.png\", bbox_inches='tight')\n",
    "    #plt.close()\n"
   ]
  },
  {
   "cell_type": "code",
   "execution_count": null,
   "id": "7db7c6d1-14ec-4df0-b3bb-3a751c9c9a58",
   "metadata": {
    "execution": {
     "iopub.execute_input": "2025-03-17T15:10:44.336103Z",
     "iopub.status.busy": "2025-03-17T15:10:44.335971Z",
     "iopub.status.idle": "2025-03-17T15:10:44.787229Z",
     "shell.execute_reply": "2025-03-17T15:10:44.786835Z",
     "shell.execute_reply.started": "2025-03-17T15:10:44.336090Z"
    }
   },
   "outputs": [],
   "source": [
    "plt.hist(np.array(a00s)*1e-6, histtype=\"step\")\n",
    "plt.ticklabel_format(style='sci', axis='x', scilimits=(0, 0), useMathText=True)\n",
    "plt.xlabel(r\"$a_{00}$\")\n",
    "plt.savefig(f\"./plots/a00_hist.png\", bbox_inches='tight')\n",
    "#plt.close()"
   ]
  },
  {
   "cell_type": "code",
   "execution_count": null,
   "id": "9580f2b0-f388-448e-a2b5-e847f9869b2a",
   "metadata": {
    "execution": {
     "iopub.execute_input": "2025-03-17T15:10:44.787839Z",
     "iopub.status.busy": "2025-03-17T15:10:44.787701Z",
     "iopub.status.idle": "2025-03-17T15:10:44.934865Z",
     "shell.execute_reply": "2025-03-17T15:10:44.934475Z",
     "shell.execute_reply.started": "2025-03-17T15:10:44.787826Z"
    }
   },
   "outputs": [],
   "source": [
    "plt.hist(np.array(n00s), histtype=\"step\", label=\"PTC noise (el)\")\n",
    "plt.hist(np.array(empiricalN00s), histtype=\"step\", label=\"Overscan read noise (el)\")\n",
    "plt.legend()\n",
    "plt.xlabel(r\"$n_{00}$\")\n",
    "plt.savefig(f\"./plots/n00_hist.png\", bbox_inches='tight')\n",
    "#plt.close()"
   ]
  },
  {
   "cell_type": "code",
   "execution_count": null,
   "id": "bad25a30-c5a1-4f83-8c52-8d24f10ace88",
   "metadata": {
    "execution": {
     "iopub.execute_input": "2025-03-17T15:10:44.935443Z",
     "iopub.status.busy": "2025-03-17T15:10:44.935306Z",
     "iopub.status.idle": "2025-03-17T15:10:45.042548Z",
     "shell.execute_reply": "2025-03-17T15:10:45.042174Z",
     "shell.execute_reply.started": "2025-03-17T15:10:44.935430Z"
    }
   },
   "outputs": [],
   "source": [
    "plt.hist((np.array(n00s) / np.array(empiricalN00s)) - 1, histtype=\"step\")\n",
    "plt.xlabel(\"noise / oscanNoise - 1\")\n",
    "plt.savefig(f\"./plots/n00_residuals_hist.png\", bbox_inches='tight')\n",
    "#plt.close()"
   ]
  },
  {
   "cell_type": "code",
   "execution_count": null,
   "id": "981b7161-b654-4543-9dae-cba23d26874e",
   "metadata": {
    "execution": {
     "iopub.execute_input": "2025-03-17T15:10:45.043089Z",
     "iopub.status.busy": "2025-03-17T15:10:45.042960Z",
     "iopub.status.idle": "2025-03-17T15:10:45.227207Z",
     "shell.execute_reply": "2025-03-17T15:10:45.226834Z",
     "shell.execute_reply.started": "2025-03-17T15:10:45.043076Z"
    }
   },
   "outputs": [],
   "source": [
    "plt.hist(np.array(ptcTurnoffs), histtype=\"step\")\n",
    "plt.ticklabel_format(style='sci', axis='x', scilimits=(0, 0), useMathText=True)\n",
    "plt.xlabel(\"PTC Turnoffs (adu)\")\n",
    "plt.savefig(f\"./plots/ptc_turnoffs_hist.png\", bbox_inches='tight')\n",
    "#plt.close()"
   ]
  },
  {
   "cell_type": "markdown",
   "id": "822df8f1-0060-40c9-9dd1-b5e8ce27e71a",
   "metadata": {
    "execution": {
     "iopub.status.busy": "2025-03-15T00:30:53.782603Z",
     "iopub.status.idle": "2025-03-15T00:30:53.782740Z",
     "shell.execute_reply": "2025-03-15T00:30:53.782676Z",
     "shell.execute_reply.started": "2025-03-15T00:30:53.782669Z"
    }
   },
   "source": [
    "# 6. CTI"
   ]
  },
  {
   "cell_type": "code",
   "execution_count": null,
   "id": "5f667fc9-dc20-4876-92cf-8772a647dec1",
   "metadata": {
    "execution": {
     "iopub.execute_input": "2025-03-17T15:10:45.227795Z",
     "iopub.status.busy": "2025-03-17T15:10:45.227667Z",
     "iopub.status.idle": "2025-03-17T15:11:01.213339Z",
     "shell.execute_reply": "2025-03-17T15:11:01.212849Z",
     "shell.execute_reply.started": "2025-03-17T15:10:45.227783Z"
    }
   },
   "outputs": [],
   "source": [
    "refs = list(butler.query_datasets(\n",
    "    \"cti\",\n",
    "    where=f\"instrument='LSSTCam' and detector in {str(tuple(detIds))}\", \n",
    "    collections=collections\n",
    "))\n",
    "\n",
    "globalCtis = []\n",
    "serialCtiTurnoffs = []\n",
    "for ref in refs: \n",
    "    cti = butler.get(\"cti\", dataId=ref.dataId, collections=collections)\n",
    "    \n",
    "    fig, axes = plt.subplots(4, 4, figsize=(12,12))\n",
    "    fig.suptitle(camera[ref.dataId['detector']].getName())\n",
    "    axs=axes.ravel()\n",
    "    for i, amp in enumerate(camera[ref.dataId['detector']].getAmplifiers()):\n",
    "        ampName = amp.getName()\n",
    "        ax = axs[i]\n",
    "        ax.set_title(ampName)\n",
    "        ax.scatter(cti.signals[ampName], cti.serialEper[ampName], s=1)\n",
    "        \n",
    "        globalCti = cti.globalCti[ampName]\n",
    "        globalCtis.append(globalCti)\n",
    "        serialCtiTurnoff = cti.serialCtiTurnoff[ampName]\n",
    "        serialCtiTurnoffs.append(serialCtiTurnoff)\n",
    "\n",
    "        ax.axhline(0, linestyle=\"--\", color=\"k\", alpha=0.5)\n",
    "\n",
    "        try:\n",
    "            power = int(np.floor(np.log10(np.abs(globalCti))))\n",
    "            num = globalCti * (10**np.abs(power))\n",
    "        except:\n",
    "            power=0\n",
    "            num=0\n",
    "            \n",
    "    \n",
    "        ax.axhline(globalCti, linestyle=\"--\", color=\"orange\", alpha=0.5, \n",
    "                   label=f\"Global sCTI: {round(num, 3)}\" + rf\"$\\times10^{{{power}}}$\")\n",
    "        ax.axvline(serialCtiTurnoff, linestyle=\"--\", color=\"forestgreen\", alpha=0.5,\n",
    "                  label=f\"sCTI Turnoff: {round(serialCtiTurnoff, 3)}\")\n",
    "        # ax.text(\n",
    "        #     5e3, 4.5e4, \n",
    "        #     f\"Turnoff: {round(ptcTurnoff, 1)} adu\",\n",
    "        # )\n",
    "        # ax.text(\n",
    "        #     5e3, 4.1e4, \n",
    "        #     f\"Gain: {round(gain, 2)}\",\n",
    "        # )\n",
    "        # ax.text(\n",
    "        #     5e3, 3.7e4, \n",
    "        #     r\"$a_{00}$: \" + f\"{round(a00, 2)}\" + r\"$\\times 10^{-6}$\",\n",
    "        # )\n",
    "        # ax.text(\n",
    "        #     5e3, 3.3e4, \n",
    "        #     r\"$n_{00}$: \" + f\"{round(n00, 2)} el\",\n",
    "        # )\n",
    "        \n",
    "        ax.ticklabel_format(style='sci', axis='both', scilimits=(0, 0), useMathText=True)\n",
    "        ax.set_xlabel(\"Signal (el)\")\n",
    "        ax.set_ylabel(r\"Serial EPER\")\n",
    "        # ax.set_xscale('log')#, linthresh=15000.0)\n",
    "        # ax.set_yscale('log')#, linthresh=15.0)\n",
    "        ax.set_ylim(-0.5e-5, 0.5e-5)\n",
    "        ax.set_xlim(0, 2.0e5)\n",
    "        ax.legend(fontsize=8)\n",
    "    plt.tight_layout()\n",
    "    plt.savefig(f\"./plots/serialEper_{camera[ref.dataId['detector']].getId()}.png\", bbox_inches='tight')\n",
    "    #plt.close()\n"
   ]
  },
  {
   "cell_type": "markdown",
   "id": "36bab0c6-30b5-4c2f-a4a1-e582ca81a447",
   "metadata": {},
   "source": [
    "# 7. BFK"
   ]
  },
  {
   "cell_type": "code",
   "execution_count": null,
   "id": "23855e78-b3b6-422f-93d6-b064e78708bb",
   "metadata": {
    "execution": {
     "iopub.execute_input": "2025-03-17T15:29:52.572354Z",
     "iopub.status.busy": "2025-03-17T15:29:52.572038Z",
     "iopub.status.idle": "2025-03-17T15:30:03.152960Z",
     "shell.execute_reply": "2025-03-17T15:30:03.152559Z",
     "shell.execute_reply.started": "2025-03-17T15:29:52.572338Z"
    }
   },
   "outputs": [],
   "source": [
    "refs = list(butler.query_datasets(\n",
    "    \"bfk\",\n",
    "    where=f\"instrument='LSSTCam' and detector in {str(tuple(detIds))}\", \n",
    "    collections=collections\n",
    "))\n",
    "\n",
    "globalCtis = []\n",
    "serialCtiTurnoffs = []\n",
    "for ref in refs: \n",
    "    bfk = butler.get(\"bfk\", dataId=ref.dataId, collections=collections)\n",
    "    \n",
    "    fig, axes = plt.subplots(4, 4, figsize=(12,12))\n",
    "    fig.suptitle(camera[ref.dataId['detector']].getName())\n",
    "    axs=axes.ravel()\n",
    "    for i, amp in enumerate(camera[ref.dataId['detector']].getAmplifiers()):\n",
    "        ampName = amp.getName()\n",
    "        ax = axs[i]\n",
    "        ax.set_title(ampName + f\" (Valid = {bfk.valid[ampName]})\")\n",
    "        length = bfk.ampKernels[ampName].shape[0]\n",
    "        ax.plot(bfk.ampKernels[ampName][length//2,:], drawstyle=\"steps-mid\", label=\"Serial slice\")\n",
    "        ax.plot(bfk.ampKernels[ampName][:,length//2], drawstyle=\"steps-mid\", label=\"Parallel slice\")\n",
    "        ax.set_xticks([0, length//2,length-1], [-length//2 + 1 , 0,length//2 ])\n",
    "        # globalCti = cti.globalCti[ampName]\n",
    "        # globalCtis.append(globalCti)\n",
    "        # serialCtiTurnoff = cti.serialCtiTurnoff[ampName]\n",
    "        # serialCtiTurnoffs.append(serialCtiTurnoff)\n",
    "\n",
    "        ax.axhline(0, linestyle=\"--\", color=\"k\", alpha=0.5)\n",
    "  \n",
    "        # power = int(np.floor(np.log10(np.abs(globalCti))))\n",
    "        # num = globalCti * (10**np.abs(power))\n",
    "    \n",
    "        # ax.axhline(globalCti, linestyle=\"--\", color=\"orange\", alpha=0.5, \n",
    "        #            label=f\"Global sCTI: {round(num, 3)}\" + rf\"$\\times10^{{{power}}}$\")\n",
    "        # ax.axvline(serialCtiTurnoff, linestyle=\"--\", color=\"forestgreen\", alpha=0.5,\n",
    "        #           label=f\"sCTI Turnoff: {round(serialCtiTurnoff, 3)}\")\n",
    "        # ax.text(\n",
    "        #     5e3, 4.5e4, \n",
    "        #     f\"Turnoff: {round(ptcTurnoff, 1)} adu\",\n",
    "        # )\n",
    "        # ax.text(\n",
    "        #     5e3, 4.1e4, \n",
    "        #     f\"Gain: {round(gain, 2)}\",\n",
    "        # )\n",
    "        # ax.text(\n",
    "        #     5e3, 3.7e4, \n",
    "        #     r\"$a_{00}$: \" + f\"{round(a00, 2)}\" + r\"$\\times 10^{-6}$\",\n",
    "        # )\n",
    "        # ax.text(\n",
    "        #     5e3, 3.3e4, \n",
    "        #     r\"$n_{00}$: \" + f\"{round(n00, 2)} el\",\n",
    "        # )\n",
    "        \n",
    "        #ax.ticklabel_format(style='sci', axis='both', scilimits=(0, 0), useMathText=True)\n",
    "        ax.set_xlabel(\"Offset (px)\")\n",
    "        ax.set_ylabel(r\"(unitless)\")\n",
    "        # ax.set_xscale('log')#, linthresh=15000.0)\n",
    "        # ax.set_yscale('log')#, linthresh=15.0)\n",
    "        ax.set_ylim(-1.5e-6, 0.25e-6)\n",
    "        # ax.set_xlim(0, 2.0e5)\n",
    "        ax.legend(fontsize=8)\n",
    "    plt.tight_layout()\n",
    "    plt.savefig(f\"./plots/bfk_profiles_{camera[ref.dataId['detector']].getId()}.png\", bbox_inches='tight')\n",
    "    #plt.close()\n"
   ]
  },
  {
   "cell_type": "code",
   "execution_count": null,
   "id": "6b68e69f-3685-4e44-b2e5-7efc59f8daae",
   "metadata": {
    "execution": {
     "iopub.status.busy": "2025-03-17T15:11:01.221813Z",
     "iopub.status.idle": "2025-03-17T15:11:01.221964Z",
     "shell.execute_reply": "2025-03-17T15:11:01.221895Z",
     "shell.execute_reply.started": "2025-03-17T15:11:01.221888Z"
    }
   },
   "outputs": [],
   "source": [
    "# for amp in bfk.ampKernels.keys():\n",
    "#     length = bfk.ampKernels[amp].shape[0]\n",
    "#     # Less than zero +- tolerance\n",
    "#     #valid = np.all(bfk.ampKernels[amp] <= 5e-9)\n",
    "\n",
    "#     xv, yv = np.meshgrid(range(length), range(length))\n",
    "#     edges = (xv < 3)\n",
    "#     edges += (xv > length - 3 - 1)\n",
    "#     edges += (yv < 3)\n",
    "#     edges += (yv > length - 3 - 1)\n",
    "\n",
    "#     kernelEdges = bfk.ampKernels[amp][edges].ravel()\n",
    "#     std = np.std(kernelEdges)\n",
    "#     valid = np.all(np.isclose(kernelEdges, 0, rtol=5*std))\n",
    "    \n",
    "#     kernelCenterValue = bfk.ampKernels[amp][length//2,length//2]\n",
    "#     # The center should be the minimum\n",
    "#     valid *= np.all(bfk.ampKernels[amp] >= kernelCenterValue) \n",
    "#     print(amp, valid)"
   ]
  },
  {
   "cell_type": "code",
   "execution_count": null,
   "id": "a8b821ef-697a-4d3c-973e-0c6a17507797",
   "metadata": {
    "execution": {
     "iopub.execute_input": "2025-03-17T15:30:46.220677Z",
     "iopub.status.busy": "2025-03-17T15:30:46.220382Z",
     "iopub.status.idle": "2025-03-17T15:30:51.285883Z",
     "shell.execute_reply": "2025-03-17T15:30:51.285500Z",
     "shell.execute_reply.started": "2025-03-17T15:30:46.220661Z"
    }
   },
   "outputs": [],
   "source": [
    "refs = list(butler.query_datasets(\n",
    "    \"bfk\",\n",
    "    where=f\"instrument='LSSTCam' and detector in {str(tuple(detIds))}\", \n",
    "    collections=collections\n",
    "))\n",
    "\n",
    "from matplotlib.colors import TwoSlopeNorm\n",
    "\n",
    "globalCtis = []\n",
    "serialCtiTurnoffs = []\n",
    "for ref in refs: \n",
    "    bfk = butler.get(\"bfk\", dataId=ref.dataId, collections=collections)\n",
    "    \n",
    "    fig, axes = plt.subplots(4, 4, figsize=(12,12))\n",
    "    fig.suptitle(camera[ref.dataId['detector']].getName())\n",
    "    axs=axes.ravel()\n",
    "    for i, amp in enumerate(camera[ref.dataId['detector']].getAmplifiers()):\n",
    "        ampName = amp.getName()\n",
    "        ax = axs[i]\n",
    "        ax.set_title(ampName)\n",
    "        length = bfk.ampKernels[ampName].shape[0]\n",
    "        ax.imshow(bfk.ampKernels[ampName], cmap=\"bwr\", norm=TwoSlopeNorm(vcenter=0, vmin=-1.5e-6, vmax=0.1e-6))\n",
    "        # ax.plot(bfk.ampKernels[ampName][:,length//2], drawstyle=\"steps-mid\", label=\"Parallel slice\")\n",
    "        ax.set_xticks([0, length//2,length-1], [-length//2 + 1 , 0,length//2 ])\n",
    "        ax.set_yticks([0, length//2,length-1], [-length//2 + 1 , 0,length//2 ])\n",
    "        # globalCti = cti.globalCti[ampName]\n",
    "        # globalCtis.append(globalCti)\n",
    "        # serialCtiTurnoff = cti.serialCtiTurnoff[ampName]\n",
    "        # serialCtiTurnoffs.append(serialCtiTurnoff)\n",
    "\n",
    "        #ax.axhline(0, linestyle=\"--\", color=\"k\", alpha=0.5)\n",
    "  \n",
    "        # power = int(np.floor(np.log10(np.abs(globalCti))))\n",
    "        # num = globalCti * (10**np.abs(power))\n",
    "    \n",
    "        # ax.axhline(globalCti, linestyle=\"--\", color=\"orange\", alpha=0.5, \n",
    "        #            label=f\"Global sCTI: {round(num, 3)}\" + rf\"$\\times10^{{{power}}}$\")\n",
    "        # ax.axvline(serialCtiTurnoff, linestyle=\"--\", color=\"forestgreen\", alpha=0.5,\n",
    "        #           label=f\"sCTI Turnoff: {round(serialCtiTurnoff, 3)}\")\n",
    "        # ax.text(\n",
    "        #     5e3, 4.5e4, \n",
    "        #     f\"Turnoff: {round(ptcTurnoff, 1)} adu\",\n",
    "        # )\n",
    "        # ax.text(\n",
    "        #     5e3, 4.1e4, \n",
    "        #     f\"Gain: {round(gain, 2)}\",\n",
    "        # )\n",
    "        # ax.text(\n",
    "        #     5e3, 3.7e4, \n",
    "        #     r\"$a_{00}$: \" + f\"{round(a00, 2)}\" + r\"$\\times 10^{-6}$\",\n",
    "        # )\n",
    "        # ax.text(\n",
    "        #     5e3, 3.3e4, \n",
    "        #     r\"$n_{00}$: \" + f\"{round(n00, 2)} el\",\n",
    "        # )\n",
    "        \n",
    "        #ax.ticklabel_format(style='sci', axis='both', scilimits=(0, 0), useMathText=True)\n",
    "        # ax.set_xlabel(\"Offset (px)\")\n",
    "        # ax.set_ylabel(r\"(unitless)\")\n",
    "        # ax.set_xscale('log')#, linthresh=15000.0)\n",
    "        # ax.set_yscale('log')#, linthresh=15.0)\n",
    "        # ax.set_ylim(-1.5e-6, 0.25e-6)\n",
    "        # ax.set_xlim(0, 2.0e5)\n",
    "        # ax.legend(fontsize=8)\n",
    "    plt.tight_layout()\n",
    "    plt.savefig(f\"./plots/bfk_{camera[ref.dataId['detector']].getId()}.png\", bbox_inches='tight')\n",
    "    #plt.close()\n"
   ]
  },
  {
   "cell_type": "markdown",
   "id": "bad04ab5-2efb-46c5-898d-e958552e51e3",
   "metadata": {},
   "source": [
    "# 8. BIAS"
   ]
  },
  {
   "cell_type": "code",
   "execution_count": null,
   "id": "c6e7f668-b73b-4d4b-ae3f-c3dff7e261a8",
   "metadata": {
    "execution": {
     "iopub.execute_input": "2025-03-17T15:30:58.759277Z",
     "iopub.status.busy": "2025-03-17T15:30:58.759080Z",
     "iopub.status.idle": "2025-03-17T15:31:04.962373Z",
     "shell.execute_reply": "2025-03-17T15:31:04.961996Z",
     "shell.execute_reply.started": "2025-03-17T15:30:58.759262Z"
    }
   },
   "outputs": [],
   "source": [
    "refs = list(butler.query_datasets(\n",
    "    \"bias\", \n",
    "    where=f\"instrument='LSSTCam' and detector in {str(tuple(detIds))}\", \n",
    "    collections=collections))\n",
    "\n",
    "for ref in refs:\n",
    "    plt.figure()\n",
    "    img = butler.get(\"bias\", dataId=ref.dataId, collections=collections)\n",
    "    for i, amp in enumerate(camera[ref.dataId['detector']].getAmplifiers()):\n",
    "        bbox = amp.getBBox()\n",
    "        vals = img.image[bbox].array.ravel()\n",
    "        vals = vals[(vals>-20.) * (vals<20.)]        \n",
    "        _ = plt.hist(vals, bins=100, histtype='step', color=color[i], label=amp.getName())\n",
    "    \n",
    "    plt.axvline(0.0, linestyle=\"--\", color=\"k\", alpha=0.5)\n",
    "    plt.yscale('log')\n",
    "    plt.xlabel(\"adu\")\n",
    "    plt.legend(ncol=2)\n",
    "    plt.title(f\"BIAS {camera[ref.dataId['detector']].getName()}, {ref.dataId['detector']}\")\n",
    "    plt.savefig(f\"./plots/bias_{ref.dataId['detector']}.png\", bbox_inches='tight')\n",
    "    #plt.close()"
   ]
  },
  {
   "cell_type": "markdown",
   "id": "a5facc16-2619-46b7-99ea-804be38f24a1",
   "metadata": {},
   "source": [
    "# 9. DARK"
   ]
  },
  {
   "cell_type": "code",
   "execution_count": null,
   "id": "e41e5469-fd4f-4a02-a73f-fce5b95c6339",
   "metadata": {
    "execution": {
     "iopub.execute_input": "2025-03-17T15:31:04.963156Z",
     "iopub.status.busy": "2025-03-17T15:31:04.963015Z",
     "iopub.status.idle": "2025-03-17T15:31:10.125985Z",
     "shell.execute_reply": "2025-03-17T15:31:10.125600Z",
     "shell.execute_reply.started": "2025-03-17T15:31:04.963137Z"
    }
   },
   "outputs": [],
   "source": [
    "refs = list(butler.query_datasets(\n",
    "    \"dark\", \n",
    "    where=f\"instrument='LSSTCam' and detector in {str(tuple(detIds))}\", \n",
    "    collections=collections))\n",
    "\n",
    "for ref in refs:\n",
    "    plt.figure()\n",
    "    img = butler.get(\"dark\", dataId=ref.dataId, collections=collections)\n",
    "    for i, amp in enumerate(camera[ref.dataId['detector']].getAmplifiers()):\n",
    "        bbox = amp.getBBox()\n",
    "        vals = img.image[bbox].array.ravel()\n",
    "        vals = vals[(vals>-2.) * (vals<2.)]        \n",
    "        _ = plt.hist(vals, bins=100, histtype='step', color=color[i], label=amp.getName())\n",
    "    \n",
    "    plt.axvline(0.0, linestyle=\"--\", color=\"k\", alpha=0.5)\n",
    "    plt.yscale('log')\n",
    "    plt.xlabel(\"adu\")\n",
    "    plt.legend(ncol=2)\n",
    "    plt.title(f\"DARK {camera[ref.dataId['detector']].getName()}, {ref.dataId['detector']}\")\n",
    "    # plt.savefig(f\"./plots/dark_{ref.dataId['detector']}.png\", bbox_inches='tight')\n",
    "    # plt.close()"
   ]
  },
  {
   "cell_type": "code",
   "execution_count": null,
   "id": "487b63d2-f81c-488c-9b90-e4cafb4b34d3",
   "metadata": {},
   "outputs": [],
   "source": []
  },
  {
   "cell_type": "code",
   "execution_count": null,
   "id": "f1b2b8c9-e75d-4b64-bdd6-0b03848f2d22",
   "metadata": {},
   "outputs": [],
   "source": []
  }
 ],
 "metadata": {
  "kernelspec": {
   "display_name": "LSST",
   "language": "python",
   "name": "lsst"
  },
  "language_info": {
   "codemirror_mode": {
    "name": "ipython",
    "version": 3
   },
   "file_extension": ".py",
   "mimetype": "text/x-python",
   "name": "python",
   "nbconvert_exporter": "python",
   "pygments_lexer": "ipython3",
   "version": "3.12.9"
  }
 },
 "nbformat": 4,
 "nbformat_minor": 5
}
