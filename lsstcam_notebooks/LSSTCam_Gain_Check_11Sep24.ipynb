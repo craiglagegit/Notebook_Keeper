{
 "cells": [
  {
   "cell_type": "markdown",
   "metadata": {},
   "source": [
    "## LSSTCam gain check\n",
    "\n",
    "Craig Lage - 11-Sep-24"
   ]
  },
  {
   "cell_type": "code",
   "execution_count": null,
   "metadata": {
    "execution": {
     "iopub.execute_input": "2024-09-11T22:50:05.753294Z",
     "iopub.status.busy": "2024-09-11T22:50:05.752973Z",
     "iopub.status.idle": "2024-09-11T22:50:10.857247Z",
     "shell.execute_reply": "2024-09-11T22:50:10.856753Z",
     "shell.execute_reply.started": "2024-09-11T22:50:05.753278Z"
    },
    "tags": []
   },
   "outputs": [],
   "source": [
    "import numpy as np\n",
    "import matplotlib.pyplot as plt\n",
    "import astropy.io.fits as pf\n",
    "from lsst.daf.butler import Butler\n",
    "from lsst.ip.isr import IsrTask, IsrTaskConfig\n",
    "from lsst.summit.utils.plotting import plot\n",
    "import lsst.afw.cameraGeom.utils as camGeomUtils"
   ]
  },
  {
   "cell_type": "code",
   "execution_count": null,
   "metadata": {
    "execution": {
     "iopub.execute_input": "2024-09-11T22:50:34.096242Z",
     "iopub.status.busy": "2024-09-11T22:50:34.096044Z",
     "iopub.status.idle": "2024-09-11T22:50:34.436056Z",
     "shell.execute_reply": "2024-09-11T22:50:34.435627Z",
     "shell.execute_reply.started": "2024-09-11T22:50:34.096227Z"
    },
    "tags": []
   },
   "outputs": [],
   "source": [
    "butler = Butler('embargo_new', collections=['LSSTCam/raw/all', 'LSSTCam/calib/unbounded'])"
   ]
  },
  {
   "cell_type": "markdown",
   "metadata": {},
   "source": [
    "## Define a simple ISR\n",
    "### Just overscan subtraction and bias subtraction."
   ]
  },
  {
   "cell_type": "code",
   "execution_count": null,
   "metadata": {
    "execution": {
     "iopub.execute_input": "2024-09-11T22:50:39.049756Z",
     "iopub.status.busy": "2024-09-11T22:50:39.049443Z",
     "iopub.status.idle": "2024-09-11T22:50:39.097259Z",
     "shell.execute_reply": "2024-09-11T22:50:39.096852Z",
     "shell.execute_reply.started": "2024-09-11T22:50:39.049741Z"
    },
    "tags": []
   },
   "outputs": [],
   "source": [
    "isrConfig1 = IsrTaskConfig()\n",
    "isrConfig1.doLinearize=False\n",
    "isrConfig1.doOverscan=True\n",
    "isrConfig1.overscan.fitType=\"MEDIAN_PER_ROW\"\n",
    "isrConfig1.overscan.doParallelOverscan=False\n",
    "isrConfig1.doAssembleCcd=True\n",
    "isrConfig1.doBias=True\n",
    "isrConfig1.doVariance=False\n",
    "isrConfig1.doCrosstalk=False\n",
    "isrConfig1.doBrighterFatter=False\n",
    "isrConfig1.doDark=False\n",
    "isrConfig1.doStrayLight=False\n",
    "isrConfig1.doFlat=False\n",
    "isrConfig1.doFringe=False\n",
    "isrConfig1.doApplyGains=True\n",
    "isrConfig1.usePtcGains=True\n",
    "isrConfig1.doDefect=False\n",
    "isrConfig1.doNanMasking=True\n",
    "isrConfig1.doInterpolate=False\n",
    "isrConfig1.doSaturation=False\n",
    "isrConfig1.doSaturationInterpolation=False\n",
    "isrTask1 = IsrTask(config=isrConfig1)\n",
    "\n",
    "isrConfig2 = IsrTaskConfig()\n",
    "isrConfig2.doLinearize=False\n",
    "isrConfig2.doOverscan=True\n",
    "isrConfig2.overscan.fitType=\"MEDIAN_PER_ROW\"\n",
    "isrConfig2.overscan.doParallelOverscan=False\n",
    "isrConfig2.doAssembleCcd=True\n",
    "isrConfig2.doBias=True\n",
    "isrConfig2.doVariance=False\n",
    "isrConfig2.doCrosstalk=False\n",
    "isrConfig2.doBrighterFatter=False\n",
    "isrConfig2.doDark=False\n",
    "isrConfig2.doStrayLight=False\n",
    "isrConfig2.doFlat=False\n",
    "isrConfig2.doFringe=False\n",
    "isrConfig2.doApplyGains=False\n",
    "isrConfig2.doDefect=False\n",
    "isrConfig2.doNanMasking=True\n",
    "isrConfig2.doInterpolate=False\n",
    "isrConfig2.doSaturation=False\n",
    "isrConfig2.doSaturationInterpolation=False\n",
    "isrTask2 = IsrTask(config=isrConfig2)"
   ]
  },
  {
   "cell_type": "code",
   "execution_count": null,
   "metadata": {
    "execution": {
     "iopub.execute_input": "2024-09-11T22:50:49.868330Z",
     "iopub.status.busy": "2024-09-11T22:50:49.868107Z",
     "iopub.status.idle": "2024-09-11T22:50:49.871626Z",
     "shell.execute_reply": "2024-09-11T22:50:49.871263Z",
     "shell.execute_reply.started": "2024-09-11T22:50:49.868314Z"
    }
   },
   "outputs": [],
   "source": [
    "isrTask2.config.doApplyGains"
   ]
  },
  {
   "cell_type": "code",
   "execution_count": null,
   "metadata": {
    "execution": {
     "iopub.execute_input": "2024-08-30T19:37:43.010128Z",
     "iopub.status.busy": "2024-08-30T19:37:43.009944Z",
     "iopub.status.idle": "2024-08-30T19:37:43.049254Z",
     "shell.execute_reply": "2024-08-30T19:37:43.048866Z",
     "shell.execute_reply.started": "2024-08-30T19:37:43.010116Z"
    }
   },
   "outputs": [],
   "source": [
    "expId = 2024091100006\n",
    "instrument = \"LSSTComCam\"\n"
   ]
  },
  {
   "cell_type": "code",
   "execution_count": null,
   "metadata": {
    "execution": {
     "iopub.execute_input": "2024-08-30T19:38:00.436237Z",
     "iopub.status.busy": "2024-08-30T19:38:00.435922Z",
     "iopub.status.idle": "2024-08-30T19:38:00.439300Z",
     "shell.execute_reply": "2024-08-30T19:38:00.438940Z",
     "shell.execute_reply.started": "2024-08-30T19:38:00.436223Z"
    },
    "jupyter": {
     "outputs_hidden": true
    }
   },
   "outputs": [],
   "source": [
    "ptc.gain"
   ]
  },
  {
   "cell_type": "markdown",
   "metadata": {},
   "source": [
    "## Run the ISR and look at the result"
   ]
  },
  {
   "cell_type": "code",
   "execution_count": null,
   "metadata": {
    "execution": {
     "iopub.execute_input": "2024-09-11T22:52:16.856223Z",
     "iopub.status.busy": "2024-09-11T22:52:16.855948Z",
     "iopub.status.idle": "2024-09-11T22:52:16.859049Z",
     "shell.execute_reply": "2024-09-11T22:52:16.858574Z",
     "shell.execute_reply.started": "2024-09-11T22:52:16.856209Z"
    },
    "tags": []
   },
   "outputs": [],
   "source": [
    "expId = 2024091100006\n",
    "instrument = \"LSSTComCam\"\n",
    "for detector in [1]:\n",
    "    exp1 = butler.get('raw', detector=detector, exposure=expId, instrument=instrument)\n",
    "    isrResult1 = isrTask1.run(exp1) # This runs the ISR\n",
    "    exp2 = butler.get('raw', detector=detector, exposure=expId, instrument=instrument)\n",
    "    isrResult2 = isrTask2.run(exp2) # This runs the ISR\n",
    "    for amp in exp1.getDetector().getAmplifiers():\n",
    "        data1 = isrResult1.exposure[amp.getBBox()].image.array\n",
    "        data2 = isrResult2.exposure[amp.getBBox()].image.array\n",
    "        ratio = np.nanmedian(data1 / data2)\n",
    "        print(detector, amp.getName(), ratio)\n"
   ]
  },
  {
   "cell_type": "code",
   "execution_count": null,
   "metadata": {},
   "outputs": [],
   "source": [
    "expId = 2024080600349\n",
    "instrument = \"LSSTComCam\"\n",
    "raw = butler.get('raw', detector=4, exposure=expId, instrument=instrument)"
   ]
  },
  {
   "cell_type": "code",
   "execution_count": null,
   "metadata": {},
   "outputs": [],
   "source": [
    "ptc = butler.get('ptc', detector=4, exposure=expId, instrument=instrument)"
   ]
  },
  {
   "cell_type": "code",
   "execution_count": null,
   "metadata": {},
   "outputs": [],
   "source": []
  }
 ],
 "metadata": {
  "kernelspec": {
   "display_name": "LSST",
   "language": "python",
   "name": "lsst"
  },
  "language_info": {
   "codemirror_mode": {
    "name": "ipython",
    "version": 3
   },
   "file_extension": ".py",
   "mimetype": "text/x-python",
   "name": "python",
   "nbconvert_exporter": "python",
   "pygments_lexer": "ipython3",
   "version": "3.11.9"
  }
 },
 "nbformat": 4,
 "nbformat_minor": 4
}
