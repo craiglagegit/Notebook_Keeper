{
 "cells": [
  {
   "cell_type": "markdown",
   "metadata": {},
   "source": [
    "## Queries - LSSTCam\n",
    "\n",
    "In this notebook, we show how to query the LSSTCam repository\\\n",
    "and view the resulting images.\\\n",
    "\n",
    "Craig Lage - 09-Sep-24"
   ]
  },
  {
   "cell_type": "code",
   "execution_count": null,
   "metadata": {
    "execution": {
     "iopub.execute_input": "2025-04-15T14:14:46.002785Z",
     "iopub.status.busy": "2025-04-15T14:14:46.002510Z",
     "iopub.status.idle": "2025-04-15T14:14:56.744140Z",
     "shell.execute_reply": "2025-04-15T14:14:56.743727Z",
     "shell.execute_reply.started": "2025-04-15T14:14:46.002769Z"
    },
    "tags": []
   },
   "outputs": [],
   "source": [
    "import numpy as np\n",
    "import matplotlib.pyplot as plt\n",
    "import astropy.io.fits as pf\n",
    "from lsst.daf.butler import Butler\n",
    "from lsst.ip.isr import IsrTask, IsrTaskConfig\n",
    "from lsst.summit.utils.plotting import plot\n",
    "import lsst.afw.cameraGeom.utils as camGeomUtils\n",
    "import lsst.afw.math as afwMath\n",
    "import lsst.afw.display as afwDisplay"
   ]
  },
  {
   "cell_type": "code",
   "execution_count": null,
   "metadata": {
    "execution": {
     "iopub.execute_input": "2025-04-15T14:15:08.556889Z",
     "iopub.status.busy": "2025-04-15T14:15:08.556282Z",
     "iopub.status.idle": "2025-04-15T14:15:09.418484Z",
     "shell.execute_reply": "2025-04-15T14:15:09.418127Z",
     "shell.execute_reply.started": "2025-04-15T14:15:08.556874Z"
    },
    "tags": []
   },
   "outputs": [],
   "source": [
    "butler = Butler('/repo/embargo', collections=['LSSTCam/raw/all', \n",
    "                                            'LSSTCam/calib/unbounded'])"
   ]
  },
  {
   "cell_type": "code",
   "execution_count": null,
   "metadata": {
    "execution": {
     "iopub.execute_input": "2025-04-15T14:16:16.446128Z",
     "iopub.status.busy": "2025-04-15T14:16:16.445840Z",
     "iopub.status.idle": "2025-04-15T14:16:16.664719Z",
     "shell.execute_reply": "2025-04-15T14:16:16.664376Z",
     "shell.execute_reply.started": "2025-04-15T14:16:16.446114Z"
    }
   },
   "outputs": [],
   "source": [
    "collections = butler.registry.queryCollections()\n",
    "for item in collections:\n",
    "    if 'LSSTCam' in item:\n",
    "        print(item)"
   ]
  },
  {
   "cell_type": "code",
   "execution_count": null,
   "metadata": {},
   "outputs": [],
   "source": []
  },
  {
   "cell_type": "markdown",
   "metadata": {},
   "source": [
    "## First, get a list of exposures\n",
    "### These should match what you see in RubinTV."
   ]
  },
  {
   "cell_type": "code",
   "execution_count": null,
   "metadata": {
    "execution": {
     "iopub.execute_input": "2024-10-23T18:22:36.416415Z",
     "iopub.status.busy": "2024-10-23T18:22:36.416143Z",
     "iopub.status.idle": "2024-10-23T18:22:36.445417Z",
     "shell.execute_reply": "2024-10-23T18:22:36.445021Z",
     "shell.execute_reply.started": "2024-10-23T18:22:36.416401Z"
    },
    "jupyter": {
     "outputs_hidden": true
    },
    "tags": []
   },
   "outputs": [],
   "source": [
    "dayObs = 20241023\n",
    "instrument = \"LSSTCam\"\n",
    "\n",
    "exposureList = []\n",
    "for record in butler.registry.queryDimensionRecords(\"exposure\", \n",
    "                    where=f\"exposure.day_obs={dayObs} and instrument='LSSTCam'\"):\n",
    "    exposureList.append([record.id, record])\n",
    "exposureList.sort(key=lambda x: x[0])\n",
    "for [id,record] in exposureList:\n",
    "    print(record.id, record.observation_type, record.exposure_time, record.physical_filter)\n"
   ]
  },
  {
   "cell_type": "code",
   "execution_count": null,
   "metadata": {
    "execution": {
     "iopub.execute_input": "2024-10-10T12:15:37.515134Z",
     "iopub.status.busy": "2024-10-10T12:15:37.514885Z",
     "iopub.status.idle": "2024-10-10T12:21:41.987647Z",
     "shell.execute_reply": "2024-10-10T12:21:41.987300Z",
     "shell.execute_reply.started": "2024-10-10T12:15:37.515118Z"
    },
    "jupyter": {
     "outputs_hidden": true
    }
   },
   "outputs": [],
   "source": [
    "expId = 2024100900377\n",
    "n = 0\n",
    "for detector in range(189):\n",
    "    try:\n",
    "        mData = butler.get('raw.metadata', detector=detector, exposure=expId, instrument=instrument)\n",
    "        print(detector, mData['SEQNUM'])\n",
    "        n += 1\n",
    "    except:\n",
    "        print(f\"Detector {detector} not found\")\n",
    "print(f\"{n} raws found\")"
   ]
  },
  {
   "cell_type": "code",
   "execution_count": null,
   "metadata": {},
   "outputs": [],
   "source": [
    "detector = 1\n",
    "instrument = 'LSSTCam'\n",
    "\n",
    "for [id,record] in exposureList:\n",
    "    expId = record.id\n",
    "    mData = butler.get('raw.metadata', detector=detector, exposure=expId, instrument=instrument)\n",
    "    print(expId, mData['HVBIAS'])"
   ]
  },
  {
   "cell_type": "markdown",
   "metadata": {
    "execution": {
     "iopub.execute_input": "2024-07-10T18:00:56.931372Z",
     "iopub.status.busy": "2024-07-10T18:00:56.930578Z",
     "iopub.status.idle": "2024-07-10T18:00:56.935059Z",
     "shell.execute_reply": "2024-07-10T18:00:56.934337Z",
     "shell.execute_reply.started": "2024-07-10T18:00:56.931336Z"
    }
   },
   "source": [
    "# Get the data from the headers"
   ]
  },
  {
   "cell_type": "code",
   "execution_count": null,
   "metadata": {},
   "outputs": [],
   "source": [
    "expId = 2024092400105\n",
    "detector = 0\n",
    "instrument = 'LSSTCam'\n",
    "mData = butler.get('raw.metadata', detector=detector, exposure=expId, instrument=instrument)\n",
    "for key in mData.keys():\n",
    "    print(key, mData[key])"
   ]
  },
  {
   "cell_type": "code",
   "execution_count": null,
   "metadata": {},
   "outputs": [],
   "source": [
    "expId = 2024092400105\n",
    "instrument = 'LSSTCam'\n",
    "for detector in range(205):\n",
    "    mData = butler.get('raw.metadata', detector=detector, exposure=expId, instrument=instrument)\n",
    "    print(detector, mData['HVBIAS'])"
   ]
  },
  {
   "cell_type": "markdown",
   "metadata": {},
   "source": [
    "# Now get the raw data"
   ]
  },
  {
   "cell_type": "markdown",
   "metadata": {},
   "source": [
    "## Next, look at the raw data from one of the exposures.\n",
    "### Because of the large pedestal, we don't see much.  We need to do ISR"
   ]
  },
  {
   "cell_type": "code",
   "execution_count": null,
   "metadata": {
    "tags": []
   },
   "outputs": [],
   "source": [
    "expId = 2024090600117\n",
    "detector = 111\n",
    "instrument = 'LSSTCam'\n",
    "raw = butler.get('raw', detector=detector, exposure=expId, instrument=instrument)\n"
   ]
  },
  {
   "cell_type": "code",
   "execution_count": null,
   "metadata": {},
   "outputs": [],
   "source": [
    "%matplotlib inline        \n",
    "x = plot(raw, stretch='ccs')\n",
    "plt.savefig(f\"/home/c/cslage/u/LSSTCam/images/LSSTCam_raw_{detector}_{expId}.png\")"
   ]
  },
  {
   "cell_type": "markdown",
   "metadata": {},
   "source": [
    "## Define a simple ISR\n",
    "### Just overscan subtraction and bias subtraction."
   ]
  },
  {
   "cell_type": "code",
   "execution_count": null,
   "metadata": {
    "execution": {
     "iopub.execute_input": "2024-10-23T18:26:33.037544Z",
     "iopub.status.busy": "2024-10-23T18:26:33.037253Z",
     "iopub.status.idle": "2024-10-23T18:26:33.064651Z",
     "shell.execute_reply": "2024-10-23T18:26:33.064273Z",
     "shell.execute_reply.started": "2024-10-23T18:26:33.037528Z"
    },
    "tags": []
   },
   "outputs": [],
   "source": [
    "isrConfig = IsrTaskConfig()\n",
    "isrConfig.doLinearize=False\n",
    "isrConfig.doOverscan=True\n",
    "isrConfig.overscan.fitType=\"MEDIAN_PER_ROW\"\n",
    "isrConfig.overscan.doParallelOverscan=True\n",
    "isrConfig.doAssembleCcd=True\n",
    "isrConfig.doBias=False\n",
    "isrConfig.doVariance=False\n",
    "isrConfig.doCrosstalk=False\n",
    "isrConfig.doBrighterFatter=False\n",
    "isrConfig.doDark=False\n",
    "isrConfig.doStrayLight=False\n",
    "isrConfig.doFlat=False\n",
    "isrConfig.doFringe=False\n",
    "isrConfig.doApplyGains=True\n",
    "isrConfig.usePtcGains=False\n",
    "isrConfig.doDefect=False\n",
    "isrConfig.doNanMasking=True\n",
    "isrConfig.doInterpolate=False\n",
    "isrConfig.doSaturation=False\n",
    "isrConfig.doSaturationInterpolation=False\n",
    "isrTask = IsrTask(config=isrConfig)"
   ]
  },
  {
   "cell_type": "markdown",
   "metadata": {},
   "source": [
    "## Run the ISR and look at the result"
   ]
  },
  {
   "cell_type": "code",
   "execution_count": null,
   "metadata": {
    "execution": {
     "iopub.execute_input": "2024-10-23T18:26:38.274833Z",
     "iopub.status.busy": "2024-10-23T18:26:38.274522Z",
     "iopub.status.idle": "2024-10-23T18:26:39.957721Z",
     "shell.execute_reply": "2024-10-23T18:26:39.957259Z",
     "shell.execute_reply.started": "2024-10-23T18:26:38.274810Z"
    },
    "jupyter": {
     "outputs_hidden": true
    },
    "tags": []
   },
   "outputs": [],
   "source": [
    "expId = 2024102300165\n",
    "detector = 84 # R21/S10\n",
    "instrument = 'LSSTCam'\n",
    "exp = butler.get('raw', detector=detector, exposure=expId, instrument=instrument)\n",
    "#bias = butler.get('bias', detector=detector, exposure=expId, instrument=instrument)\n",
    "isrResult = isrTask.run(exp) # This runs the ISR"
   ]
  },
  {
   "cell_type": "code",
   "execution_count": null,
   "metadata": {
    "execution": {
     "iopub.execute_input": "2024-10-23T18:26:48.963817Z",
     "iopub.status.busy": "2024-10-23T18:26:48.963542Z",
     "iopub.status.idle": "2024-10-23T18:26:50.818706Z",
     "shell.execute_reply": "2024-10-23T18:26:50.818247Z",
     "shell.execute_reply.started": "2024-10-23T18:26:48.963803Z"
    }
   },
   "outputs": [],
   "source": [
    "%matplotlib inline\n",
    "x = plot(isrResult.exposure, stretch='ccs')\n",
    "plt.savefig(f\"/home/c/cslage/u/LSSTCam/images/LSSTCam_{detector}_{expId}.png\")"
   ]
  },
  {
   "cell_type": "markdown",
   "metadata": {
    "execution": {
     "iopub.execute_input": "2024-07-10T18:10:52.234053Z",
     "iopub.status.busy": "2024-07-10T18:10:52.233642Z",
     "iopub.status.idle": "2024-07-10T18:10:52.238254Z",
     "shell.execute_reply": "2024-07-10T18:10:52.237362Z",
     "shell.execute_reply.started": "2024-07-10T18:10:52.234022Z"
    }
   },
   "source": [
    "# Plot a small region"
   ]
  },
  {
   "cell_type": "code",
   "execution_count": null,
   "metadata": {
    "execution": {
     "iopub.execute_input": "2024-10-23T18:27:52.557113Z",
     "iopub.status.busy": "2024-10-23T18:27:52.556810Z",
     "iopub.status.idle": "2024-10-23T18:27:52.937592Z",
     "shell.execute_reply": "2024-10-23T18:27:52.937200Z",
     "shell.execute_reply.started": "2024-10-23T18:27:52.557098Z"
    }
   },
   "outputs": [],
   "source": [
    "x = plot(isrResult.exposure.image.array[2750:3250, 0:500])"
   ]
  },
  {
   "cell_type": "markdown",
   "metadata": {
    "execution": {
     "iopub.execute_input": "2024-08-23T11:15:50.535189Z",
     "iopub.status.busy": "2024-08-23T11:15:50.534798Z",
     "iopub.status.idle": "2024-08-23T11:15:50.537838Z",
     "shell.execute_reply": "2024-08-23T11:15:50.537222Z",
     "shell.execute_reply.started": "2024-08-23T11:15:50.535166Z"
    }
   },
   "source": [
    "# Get the value of a particular pixel"
   ]
  },
  {
   "cell_type": "code",
   "execution_count": null,
   "metadata": {
    "execution": {
     "iopub.execute_input": "2024-10-23T18:39:12.765252Z",
     "iopub.status.busy": "2024-10-23T18:39:12.764949Z",
     "iopub.status.idle": "2024-10-23T18:39:12.779343Z",
     "shell.execute_reply": "2024-10-23T18:39:12.778957Z",
     "shell.execute_reply.started": "2024-10-23T18:39:12.765237Z"
    }
   },
   "outputs": [],
   "source": [
    "test = np.median(isrResult.exposure.image.array[2900:3000, :], axis=0)\n",
    "w = 20\n",
    "test2 = np.convolve(test, np.ones(w), 'valid') / w"
   ]
  },
  {
   "cell_type": "code",
   "execution_count": null,
   "metadata": {
    "execution": {
     "iopub.execute_input": "2024-10-23T18:39:30.074729Z",
     "iopub.status.busy": "2024-10-23T18:39:30.074420Z",
     "iopub.status.idle": "2024-10-23T18:39:30.167066Z",
     "shell.execute_reply": "2024-10-23T18:39:30.166678Z",
     "shell.execute_reply.started": "2024-10-23T18:39:30.074715Z"
    }
   },
   "outputs": [],
   "source": [
    "plt.plot(test2)"
   ]
  },
  {
   "cell_type": "code",
   "execution_count": null,
   "metadata": {
    "execution": {
     "iopub.execute_input": "2024-10-23T18:32:41.400260Z",
     "iopub.status.busy": "2024-10-23T18:32:41.399967Z",
     "iopub.status.idle": "2024-10-23T18:32:41.510582Z",
     "shell.execute_reply": "2024-10-23T18:32:41.510176Z",
     "shell.execute_reply.started": "2024-10-23T18:32:41.400246Z"
    }
   },
   "outputs": [],
   "source": [
    "plt.plot(np.median(isrResult.exposure.image.array[2900:3000, :], axis=0), label='X cut')"
   ]
  },
  {
   "cell_type": "code",
   "execution_count": null,
   "metadata": {
    "execution": {
     "iopub.execute_input": "2024-10-23T18:40:24.957672Z",
     "iopub.status.busy": "2024-10-23T18:40:24.957331Z",
     "iopub.status.idle": "2024-10-23T18:40:25.070389Z",
     "shell.execute_reply": "2024-10-23T18:40:25.070011Z",
     "shell.execute_reply.started": "2024-10-23T18:40:24.957657Z"
    }
   },
   "outputs": [],
   "source": [
    "plt.plot(isrResult.exposure.image.array[2900, :], label='X cut')"
   ]
  },
  {
   "cell_type": "markdown",
   "metadata": {},
   "source": [
    "# Plot the cross-chip uniformity"
   ]
  },
  {
   "cell_type": "code",
   "execution_count": null,
   "metadata": {},
   "outputs": [],
   "source": [
    "plt.title(f\"LSSTCam {expId}, Flat\")\n",
    "plt.plot(isrResult.exposure.image.array[2100, :], label='X cut')\n",
    "plt.plot(isrResult.exposure.image.array[:, 2100], label='Y cut')\n",
    "plt.ylim(0, 60000)\n",
    "plt.ylabel(\"Flux (electrons)\")\n",
    "plt.xlabel(\"Pixels\")\n",
    "plt.legend()\n",
    "plt.savefig(f\"/home/c/cslage/u/LSSTCam/images/LSSTCam_Slices_{detector}_{expId}.png\")"
   ]
  },
  {
   "cell_type": "markdown",
   "metadata": {},
   "source": [
    "# Now assemble all CCDs and plot the result"
   ]
  },
  {
   "cell_type": "code",
   "execution_count": null,
   "metadata": {},
   "outputs": [],
   "source": [
    "def myCallback(im, ccd, imageSource):\n",
    "    \"\"\"Assemble the CCD image and do basic ISR\"\"\"\n",
    "    dayObs = imageSource.kwargs['day_obs']\n",
    "    seqNum = imageSource.kwargs['seq_num']\n",
    "    exp = imageSource.butler.get('raw', detector=ccd.getId(), day_obs=dayObs, seq_num=seqNum)\n",
    "    isrResult = isrTask.run(exp)\n",
    "    nQuarter = ccd.getOrientation().getNQuarter()\n",
    "    oim = afwMath.rotateImageBy90(isrResult.exposure.image, nQuarter)\n",
    "    return oim\n",
    "\n",
    "def rawCallback(im, ccd, imageSource):\n",
    "    \"\"\"Assemble the CCD image.  Just bias subtraction and gain correction\"\"\"\n",
    "    oim = camGeomUtils.rawCallback(im, ccd, imageSource,\n",
    "                                   subtractBias=False, correctGain=False)\n",
    "    return oim"
   ]
  },
  {
   "cell_type": "code",
   "execution_count": null,
   "metadata": {},
   "outputs": [],
   "source": [
    "%matplotlib inline\n",
    "instrument = \"LSSTCam\"\n",
    "camera = butler.get('camera', instrument=instrument)\n",
    "fig = plt.figure(figsize=(12,12))\n",
    "import lsst.afw.display as afwDisplay\n",
    "disp = afwDisplay.Display(1, \"matplotlib\")\n",
    "disp.scale('linear', min='zscale')\n",
    "dayObs = 20240924\n",
    "seqNum = 105\n",
    "dataType='raw'\n",
    "mos = camGeomUtils.showCamera(camera,\n",
    "                              camGeomUtils.ButlerImage(butler, dataType, \n",
    "                                                       instrument=instrument, \n",
    "                                                       day_obs=dayObs, seq_num=seqNum,\n",
    "                                                       verbose=False, callback=myCallback,\n",
    "                                                       background=np.nan),\n",
    "                              binSize=4, display=disp, overlay=False,\n",
    "                              title=\"%d %d\" % (dayObs, seqNum))\n",
    "\n",
    "plt.savefig(f\"/home/c/cslage/u/LSSTCam/images/LSSTCam_Test_4_{dayObs}_{seqNum}.png\")"
   ]
  },
  {
   "cell_type": "markdown",
   "metadata": {},
   "source": [
    "# Plot the cross-detector uniformity"
   ]
  },
  {
   "cell_type": "code",
   "execution_count": null,
   "metadata": {},
   "outputs": [],
   "source": [
    "%matplotlib inline\n",
    "plt.title(f\"LSSTCam {dayObs}_{seqNum}\")\n",
    "plt.plot(mos.array[8000, :], label=\"X slice\")\n",
    "plt.plot(mos.array[:, 8000], label=\"Y slice\")\n",
    "plt.ylim(0, 2500)\n",
    "plt.ylabel(\"Flux (electrons)\")\n",
    "plt.xlabel(\"Pixels (binned by 4)\")\n",
    "plt.legend()\n",
    "plt.savefig(f\"/home/c/cslage/u/LSSTCam/images/LSST_Slices_{dayObs}_{seqNum}.png\")"
   ]
  },
  {
   "cell_type": "code",
   "execution_count": null,
   "metadata": {},
   "outputs": [],
   "source": []
  }
 ],
 "metadata": {
  "kernelspec": {
   "display_name": "LSST",
   "language": "python",
   "name": "lsst"
  },
  "language_info": {
   "codemirror_mode": {
    "name": "ipython",
    "version": 3
   },
   "file_extension": ".py",
   "mimetype": "text/x-python",
   "name": "python",
   "nbconvert_exporter": "python",
   "pygments_lexer": "ipython3",
   "version": "3.12.9"
  }
 },
 "nbformat": 4,
 "nbformat_minor": 4
}
