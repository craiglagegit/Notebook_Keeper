{
 "cells": [
  {
   "cell_type": "markdown",
   "metadata": {},
   "source": [
    "## Queries - LSSTCam\n",
    "\n",
    "In this notebook, we show how to query the LSSTCam repository\\\n",
    "and view the resulting images.\\\n",
    "\n",
    "Craig Lage - 09-Sep-24"
   ]
  },
  {
   "cell_type": "code",
   "execution_count": null,
   "metadata": {
    "execution": {
     "iopub.execute_input": "2024-10-10T12:15:06.671528Z",
     "iopub.status.busy": "2024-10-10T12:15:06.671236Z",
     "iopub.status.idle": "2024-10-10T12:15:06.675065Z",
     "shell.execute_reply": "2024-10-10T12:15:06.674670Z",
     "shell.execute_reply.started": "2024-10-10T12:15:06.671506Z"
    },
    "tags": []
   },
   "outputs": [],
   "source": [
    "import numpy as np\n",
    "import matplotlib.pyplot as plt\n",
    "import astropy.io.fits as pf\n",
    "from lsst.daf.butler import Butler\n",
    "from lsst.ip.isr import IsrTask, IsrTaskConfig\n",
    "from lsst.summit.utils.plotting import plot\n",
    "import lsst.afw.cameraGeom.utils as camGeomUtils\n",
    "import lsst.afw.math as afwMath\n",
    "import lsst.afw.display as afwDisplay"
   ]
  },
  {
   "cell_type": "code",
   "execution_count": null,
   "metadata": {
    "execution": {
     "iopub.execute_input": "2024-10-10T12:15:09.547158Z",
     "iopub.status.busy": "2024-10-10T12:15:09.546723Z",
     "iopub.status.idle": "2024-10-10T12:15:09.711999Z",
     "shell.execute_reply": "2024-10-10T12:15:09.711574Z",
     "shell.execute_reply.started": "2024-10-10T12:15:09.547141Z"
    },
    "tags": []
   },
   "outputs": [],
   "source": [
    "butler = Butler('embargo_new', collections=['LSSTCam/raw/all', \n",
    "                                            'LSSTCam/calib/unbounded'])"
   ]
  },
  {
   "cell_type": "markdown",
   "metadata": {},
   "source": [
    "## First, get a list of exposures\n",
    "### These should match what you see in RubinTV."
   ]
  },
  {
   "cell_type": "code",
   "execution_count": null,
   "metadata": {
    "execution": {
     "iopub.execute_input": "2024-10-10T12:15:12.208420Z",
     "iopub.status.busy": "2024-10-10T12:15:12.207901Z",
     "iopub.status.idle": "2024-10-10T12:15:12.242189Z",
     "shell.execute_reply": "2024-10-10T12:15:12.241789Z",
     "shell.execute_reply.started": "2024-10-10T12:15:12.208404Z"
    },
    "jupyter": {
     "outputs_hidden": true
    },
    "tags": []
   },
   "outputs": [],
   "source": [
    "dayObs = 20241009\n",
    "instrument = \"LSSTCam\"\n",
    "\n",
    "exposureList = []\n",
    "for record in butler.registry.queryDimensionRecords(\"exposure\", \n",
    "                    where=f\"exposure.day_obs={dayObs} and instrument='LSSTCam'\"):\n",
    "    exposureList.append([record.id, record])\n",
    "exposureList.sort(key=lambda x: x[0])\n",
    "for [id,record] in exposureList:\n",
    "    print(record.id, record.observation_type, record.exposure_time, record.physical_filter)\n"
   ]
  },
  {
   "cell_type": "code",
   "execution_count": null,
   "metadata": {
    "execution": {
     "iopub.execute_input": "2024-10-10T12:15:37.515134Z",
     "iopub.status.busy": "2024-10-10T12:15:37.514885Z",
     "iopub.status.idle": "2024-10-10T12:21:41.987647Z",
     "shell.execute_reply": "2024-10-10T12:21:41.987300Z",
     "shell.execute_reply.started": "2024-10-10T12:15:37.515118Z"
    }
   },
   "outputs": [],
   "source": [
    "expId = 2024100900377\n",
    "n = 0\n",
    "for detector in range(189):\n",
    "    try:\n",
    "        mData = butler.get('raw.metadata', detector=detector, exposure=expId, instrument=instrument)\n",
    "        print(detector, mData['SEQNUM'])\n",
    "        n += 1\n",
    "    except:\n",
    "        print(f\"Detector {detector} not found\")\n",
    "print(f\"{n} raws found\")"
   ]
  },
  {
   "cell_type": "code",
   "execution_count": null,
   "metadata": {},
   "outputs": [],
   "source": [
    "detector = 1\n",
    "instrument = 'LSSTCam'\n",
    "\n",
    "for [id,record] in exposureList:\n",
    "    expId = record.id\n",
    "    mData = butler.get('raw.metadata', detector=detector, exposure=expId, instrument=instrument)\n",
    "    print(expId, mData['HVBIAS'])"
   ]
  },
  {
   "cell_type": "markdown",
   "metadata": {
    "execution": {
     "iopub.execute_input": "2024-07-10T18:00:56.931372Z",
     "iopub.status.busy": "2024-07-10T18:00:56.930578Z",
     "iopub.status.idle": "2024-07-10T18:00:56.935059Z",
     "shell.execute_reply": "2024-07-10T18:00:56.934337Z",
     "shell.execute_reply.started": "2024-07-10T18:00:56.931336Z"
    }
   },
   "source": [
    "# Get the data from the headers"
   ]
  },
  {
   "cell_type": "code",
   "execution_count": null,
   "metadata": {},
   "outputs": [],
   "source": [
    "expId = 2024092400105\n",
    "detector = 0\n",
    "instrument = 'LSSTCam'\n",
    "mData = butler.get('raw.metadata', detector=detector, exposure=expId, instrument=instrument)\n",
    "for key in mData.keys():\n",
    "    print(key, mData[key])"
   ]
  },
  {
   "cell_type": "code",
   "execution_count": null,
   "metadata": {},
   "outputs": [],
   "source": [
    "expId = 2024092400105\n",
    "instrument = 'LSSTCam'\n",
    "for detector in range(205):\n",
    "    mData = butler.get('raw.metadata', detector=detector, exposure=expId, instrument=instrument)\n",
    "    print(detector, mData['HVBIAS'])"
   ]
  },
  {
   "cell_type": "markdown",
   "metadata": {},
   "source": [
    "# Now get the raw data"
   ]
  },
  {
   "cell_type": "markdown",
   "metadata": {},
   "source": [
    "## Next, look at the raw data from one of the exposures.\n",
    "### Because of the large pedestal, we don't see much.  We need to do ISR"
   ]
  },
  {
   "cell_type": "code",
   "execution_count": null,
   "metadata": {
    "tags": []
   },
   "outputs": [],
   "source": [
    "expId = 2024090600117\n",
    "detector = 111\n",
    "instrument = 'LSSTCam'\n",
    "raw = butler.get('raw', detector=detector, exposure=expId, instrument=instrument)\n"
   ]
  },
  {
   "cell_type": "code",
   "execution_count": null,
   "metadata": {},
   "outputs": [],
   "source": [
    "%matplotlib inline        \n",
    "x = plot(raw, stretch='ccs')\n",
    "plt.savefig(f\"/home/c/cslage/u/LSSTCam/images/LSSTCam_raw_{detector}_{expId}.png\")"
   ]
  },
  {
   "cell_type": "markdown",
   "metadata": {},
   "source": [
    "## Define a simple ISR\n",
    "### Just overscan subtraction and bias subtraction."
   ]
  },
  {
   "cell_type": "code",
   "execution_count": null,
   "metadata": {
    "tags": []
   },
   "outputs": [],
   "source": [
    "isrConfig = IsrTaskConfig()\n",
    "isrConfig.doLinearize=False\n",
    "isrConfig.doOverscan=True\n",
    "isrConfig.overscan.fitType=\"MEDIAN_PER_ROW\"\n",
    "isrConfig.overscan.doParallelOverscan=True\n",
    "isrConfig.doAssembleCcd=True\n",
    "isrConfig.doBias=False\n",
    "isrConfig.doVariance=False\n",
    "isrConfig.doCrosstalk=False\n",
    "isrConfig.doBrighterFatter=False\n",
    "isrConfig.doDark=False\n",
    "isrConfig.doStrayLight=False\n",
    "isrConfig.doFlat=False\n",
    "isrConfig.doFringe=False\n",
    "isrConfig.doApplyGains=True\n",
    "isrConfig.usePtcGains=False\n",
    "isrConfig.doDefect=False\n",
    "isrConfig.doNanMasking=True\n",
    "isrConfig.doInterpolate=False\n",
    "isrConfig.doSaturation=False\n",
    "isrConfig.doSaturationInterpolation=False\n",
    "isrTask = IsrTask(config=isrConfig)"
   ]
  },
  {
   "cell_type": "markdown",
   "metadata": {},
   "source": [
    "## Run the ISR and look at the result"
   ]
  },
  {
   "cell_type": "code",
   "execution_count": null,
   "metadata": {
    "tags": []
   },
   "outputs": [],
   "source": [
    "expId = 2024092400105\n",
    "detector = 111\n",
    "instrument = 'LSSTCam'\n",
    "exp = butler.get('raw', detector=detector, exposure=expId, instrument=instrument)\n",
    "isrResult = isrTask.run(exp) # This runs the ISR"
   ]
  },
  {
   "cell_type": "code",
   "execution_count": null,
   "metadata": {},
   "outputs": [],
   "source": [
    "%matplotlib inline\n",
    "x = plot(isrResult.exposure, stretch='ccs')\n",
    "plt.savefig(f\"/home/c/cslage/u/LSSTCam/images/LSSTCam_{detector}_{expId}.png\")"
   ]
  },
  {
   "cell_type": "markdown",
   "metadata": {
    "execution": {
     "iopub.execute_input": "2024-07-10T18:10:52.234053Z",
     "iopub.status.busy": "2024-07-10T18:10:52.233642Z",
     "iopub.status.idle": "2024-07-10T18:10:52.238254Z",
     "shell.execute_reply": "2024-07-10T18:10:52.237362Z",
     "shell.execute_reply.started": "2024-07-10T18:10:52.234022Z"
    }
   },
   "source": [
    "# Plot a small region"
   ]
  },
  {
   "cell_type": "code",
   "execution_count": null,
   "metadata": {},
   "outputs": [],
   "source": [
    "x = plot(isrResult.exposure.image.array[2200:2500, 2600:3100])"
   ]
  },
  {
   "cell_type": "markdown",
   "metadata": {
    "execution": {
     "iopub.execute_input": "2024-08-23T11:15:50.535189Z",
     "iopub.status.busy": "2024-08-23T11:15:50.534798Z",
     "iopub.status.idle": "2024-08-23T11:15:50.537838Z",
     "shell.execute_reply": "2024-08-23T11:15:50.537222Z",
     "shell.execute_reply.started": "2024-08-23T11:15:50.535166Z"
    }
   },
   "source": [
    "# Get the value of a particular pixel"
   ]
  },
  {
   "cell_type": "code",
   "execution_count": null,
   "metadata": {},
   "outputs": [],
   "source": [
    "exp.image.array[2100, 2100]"
   ]
  },
  {
   "cell_type": "markdown",
   "metadata": {},
   "source": [
    "# Plot the cross-chip uniformity"
   ]
  },
  {
   "cell_type": "code",
   "execution_count": null,
   "metadata": {},
   "outputs": [],
   "source": [
    "plt.title(f\"LSSTCam {expId}, Flat\")\n",
    "plt.plot(isrResult.exposure.image.array[2100, :], label='X cut')\n",
    "plt.plot(isrResult.exposure.image.array[:, 2100], label='Y cut')\n",
    "plt.ylim(0, 60000)\n",
    "plt.ylabel(\"Flux (electrons)\")\n",
    "plt.xlabel(\"Pixels\")\n",
    "plt.legend()\n",
    "plt.savefig(f\"/home/c/cslage/u/LSSTCam/images/LSSTCam_Slices_{detector}_{expId}.png\")"
   ]
  },
  {
   "cell_type": "markdown",
   "metadata": {},
   "source": [
    "# Now assemble all CCDs and plot the result"
   ]
  },
  {
   "cell_type": "code",
   "execution_count": null,
   "metadata": {},
   "outputs": [],
   "source": [
    "def myCallback(im, ccd, imageSource):\n",
    "    \"\"\"Assemble the CCD image and do basic ISR\"\"\"\n",
    "    dayObs = imageSource.kwargs['day_obs']\n",
    "    seqNum = imageSource.kwargs['seq_num']\n",
    "    exp = imageSource.butler.get('raw', detector=ccd.getId(), day_obs=dayObs, seq_num=seqNum)\n",
    "    isrResult = isrTask.run(exp)\n",
    "    nQuarter = ccd.getOrientation().getNQuarter()\n",
    "    oim = afwMath.rotateImageBy90(isrResult.exposure.image, nQuarter)\n",
    "    return oim\n",
    "\n",
    "def rawCallback(im, ccd, imageSource):\n",
    "    \"\"\"Assemble the CCD image.  Just bias subtraction and gain correction\"\"\"\n",
    "    oim = camGeomUtils.rawCallback(im, ccd, imageSource,\n",
    "                                   subtractBias=False, correctGain=False)\n",
    "    return oim"
   ]
  },
  {
   "cell_type": "code",
   "execution_count": null,
   "metadata": {},
   "outputs": [],
   "source": [
    "%matplotlib inline\n",
    "instrument = \"LSSTCam\"\n",
    "camera = butler.get('camera', instrument=instrument)\n",
    "fig = plt.figure(figsize=(12,12))\n",
    "import lsst.afw.display as afwDisplay\n",
    "disp = afwDisplay.Display(1, \"matplotlib\")\n",
    "disp.scale('linear', min='zscale')\n",
    "dayObs = 20240924\n",
    "seqNum = 105\n",
    "dataType='raw'\n",
    "mos = camGeomUtils.showCamera(camera,\n",
    "                              camGeomUtils.ButlerImage(butler, dataType, \n",
    "                                                       instrument=instrument, \n",
    "                                                       day_obs=dayObs, seq_num=seqNum,\n",
    "                                                       verbose=False, callback=myCallback,\n",
    "                                                       background=np.nan),\n",
    "                              binSize=4, display=disp, overlay=False,\n",
    "                              title=\"%d %d\" % (dayObs, seqNum))\n",
    "\n",
    "plt.savefig(f\"/home/c/cslage/u/LSSTCam/images/LSSTCam_Test_4_{dayObs}_{seqNum}.png\")"
   ]
  },
  {
   "cell_type": "markdown",
   "metadata": {},
   "source": [
    "# Plot the cross-detector uniformity"
   ]
  },
  {
   "cell_type": "code",
   "execution_count": null,
   "metadata": {},
   "outputs": [],
   "source": [
    "%matplotlib inline\n",
    "plt.title(f\"LSSTCam {dayObs}_{seqNum}\")\n",
    "plt.plot(mos.array[8000, :], label=\"X slice\")\n",
    "plt.plot(mos.array[:, 8000], label=\"Y slice\")\n",
    "plt.ylim(0, 2500)\n",
    "plt.ylabel(\"Flux (electrons)\")\n",
    "plt.xlabel(\"Pixels (binned by 4)\")\n",
    "plt.legend()\n",
    "plt.savefig(f\"/home/c/cslage/u/LSSTCam/images/LSST_Slices_{dayObs}_{seqNum}.png\")"
   ]
  },
  {
   "cell_type": "code",
   "execution_count": null,
   "metadata": {},
   "outputs": [],
   "source": []
  }
 ],
 "metadata": {
  "kernelspec": {
   "display_name": "LSST",
   "language": "python",
   "name": "lsst"
  },
  "language_info": {
   "codemirror_mode": {
    "name": "ipython",
    "version": 3
   },
   "file_extension": ".py",
   "mimetype": "text/x-python",
   "name": "python",
   "nbconvert_exporter": "python",
   "pygments_lexer": "ipython3",
   "version": "3.11.9"
  }
 },
 "nbformat": 4,
 "nbformat_minor": 4
}
