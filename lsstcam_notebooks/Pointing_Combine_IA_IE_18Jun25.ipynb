{
 "cells": [
  {
   "cell_type": "markdown",
   "metadata": {},
   "source": [
    "# LSSTCam pointing errors\n",
    "# Here we take three separate Tpoint files, subtract off the solved for IA and IE values, and combine to a new file.\n",
    "\n",
    "Craig Lage - 18-Apr-25"
   ]
  },
  {
   "cell_type": "code",
   "execution_count": null,
   "metadata": {
    "execution": {
     "iopub.execute_input": "2025-07-09T19:57:34.940247Z",
     "iopub.status.busy": "2025-07-09T19:57:34.940020Z",
     "iopub.status.idle": "2025-07-09T19:57:35.409240Z",
     "shell.execute_reply": "2025-07-09T19:57:35.408813Z",
     "shell.execute_reply.started": "2025-07-09T19:57:34.940230Z"
    },
    "tags": []
   },
   "outputs": [],
   "source": [
    "import numpy as np\n",
    "import pandas as pd\n",
    "import matplotlib.pyplot as plt"
   ]
  },
  {
   "cell_type": "code",
   "execution_count": null,
   "metadata": {
    "execution": {
     "iopub.execute_input": "2025-07-09T19:50:33.599659Z",
     "iopub.status.busy": "2025-07-09T19:50:33.598907Z",
     "iopub.status.idle": "2025-07-09T19:50:33.605112Z",
     "shell.execute_reply": "2025-07-09T19:50:33.604613Z",
     "shell.execute_reply.started": "2025-07-09T19:50:33.599634Z"
    }
   },
   "outputs": [],
   "source": [
    "def getTpointFile(filename):\n",
    "    data = np.loadtxt(filename, skiprows=5, usecols=(0,1,2,3,4), comments='END')\n",
    "    df = pd.DataFrame(data, columns = ['trueAzs', 'trueEls', 'azs', 'els', 'rots'])\n",
    "    df['deltaAzs'] = (df['azs'] - df['trueAzs']) * 3600\n",
    "    df['deltaEls'] = (df['els'] - df['trueEls']) * 3600\n",
    "    #df['deltaAzs'] = (df['trueAzs'] - df['azs']) * 3600\n",
    "    #df['deltaEls'] = (df['trueEls'] - df['els']) * 3600\n",
    "    azs = df['azs'].values\n",
    "    trueAzs = df['trueAzs'].values\n",
    "    els = df['els'].values\n",
    "    trueEls = df['trueEls'].values\n",
    "    deltaAzs = df['deltaAzs'].values\n",
    "    deltaEls = df['deltaEls'].values\n",
    "    rots = df['rots'].values\n",
    "    return azs, els, trueAzs, trueEls, rots, deltaAzs, deltaEls"
   ]
  },
  {
   "cell_type": "code",
   "execution_count": null,
   "metadata": {
    "execution": {
     "iopub.execute_input": "2025-06-18T19:49:36.075899Z",
     "iopub.status.busy": "2025-06-18T19:49:36.075679Z",
     "iopub.status.idle": "2025-06-18T19:49:36.090055Z",
     "shell.execute_reply": "2025-06-18T19:49:36.089721Z",
     "shell.execute_reply.started": "2025-06-18T19:49:36.075884Z"
    }
   },
   "outputs": [],
   "source": [
    "files = [[20250531, 0], [20250601, 0], [20250604, 0]]\n",
    "offsets = [[156.0, -62.0], [113.0, -36.0], [160.0, -74.0]]\n",
    "\n",
    "outfilename = \"/home/c/cslage/u/LSSTCam/data/Tpoint_Input_Combined_18Jun25.dat\"\n",
    "outfile = open(outfilename, 'w')\n",
    "outfile.write(\"!\" + outfilename + \"\\n\")\n",
    "outfile.write(\"!Simonyi Telescope file,June 18, 2025 \\n\")\n",
    "outfile.write(\": ALTAZ\\n\")\n",
    "outfile.write(\": ROTNR\\n\")\n",
    "outfile.write(\"-30 14 40.2\\n\")\n",
    "\n",
    "for n, [dayObs, stateChanges] in enumerate(files):\n",
    "    filename = f\"/home/c/cslage/u/LSSTCam/data/Tpoint_Input_{dayObs}_{stateChanges}.dat\"\n",
    "    azs, els, trueAzs, trueEls, rots, deltaAzs, deltaEls = getTpointFile(filename)\n",
    "    IA, IE = offsets[n]\n",
    "    azs -= IA / 3600.0\n",
    "    els += IE / 3600.0\n",
    "    for i in range(len(els)):\n",
    "        outfile.write(f\"{trueAzs[i]:.9f}\\t{trueEls[i]:.6f}\\t{azs[i]:.9f}\\t{els[i]:.9f}\\t{rots[i]:.6f}\\t\\n\")\n",
    "outfile.write(\"END\\n\")\n",
    "outfile.close()\n"
   ]
  },
  {
   "cell_type": "code",
   "execution_count": null,
   "metadata": {
    "execution": {
     "iopub.execute_input": "2025-07-09T21:35:56.444491Z",
     "iopub.status.busy": "2025-07-09T21:35:56.444016Z",
     "iopub.status.idle": "2025-07-09T21:35:56.735085Z",
     "shell.execute_reply": "2025-07-09T21:35:56.734618Z",
     "shell.execute_reply.started": "2025-07-09T21:35:56.444456Z"
    }
   },
   "outputs": [],
   "source": [
    "fig, ax = plt.subplots(subplot_kw={'projection': 'polar'})\n",
    "ax.scatter(allAzsRad, allEls, marker = 'x')\n",
    "ax.set_rmax(60.0)\n",
    "r_values = [10.0, 20.0, 30.0, 40.0, 50.0]\n",
    "r_labels = [80.0, 70.0, 60.0, 50.0, 40.0]\n",
    "ax.set_rgrids(r_values, r_labels)\n",
    "ax.grid(True)\n",
    "\n",
    "files = [[20250531, 0], [20250601, 0], [20250604, 0]]\n",
    "for n, [dayObs, stateChanges] in enumerate(files):\n",
    "    filename = f\"/home/c/cslage/u/LSSTCam/data/Tpoint_Input_{dayObs}_{stateChanges}.dat\"\n",
    "    azs, els, trueAzs, trueEls, rots, deltaAzs, deltaEls = getTpointFile(filename)\n",
    "    ax.scatter(azs * np.pi / 180.0, 90.0 - els, label=dayObs, marker = 'x')\n",
    "ax.legend()\n",
    "plt.savefig(\"/home/c/cslage/u/LSSTCam/data/Sky_Coverage_20250531_0601_0604.png\")"
   ]
  },
  {
   "cell_type": "code",
   "execution_count": null,
   "metadata": {},
   "outputs": [],
   "source": []
  }
 ],
 "metadata": {
  "kernelspec": {
   "display_name": "LSST",
   "language": "python",
   "name": "lsst"
  },
  "language_info": {
   "codemirror_mode": {
    "name": "ipython",
    "version": 3
   },
   "file_extension": ".py",
   "mimetype": "text/x-python",
   "name": "python",
   "nbconvert_exporter": "python",
   "pygments_lexer": "ipython3",
   "version": "3.12.11"
  }
 },
 "nbformat": 4,
 "nbformat_minor": 4
}
