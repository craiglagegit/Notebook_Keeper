{
 "cells": [
  {
   "cell_type": "code",
   "execution_count": null,
   "id": "b84c649b-71c6-4106-8968-df52a8c17bd9",
   "metadata": {
    "execution": {
     "iopub.execute_input": "2025-05-13T22:23:39.067112Z",
     "iopub.status.busy": "2025-05-13T22:23:39.066280Z",
     "iopub.status.idle": "2025-05-13T22:23:39.392205Z",
     "shell.execute_reply": "2025-05-13T22:23:39.391700Z",
     "shell.execute_reply.started": "2025-05-13T22:23:39.067091Z"
    }
   },
   "outputs": [],
   "source": [
    "import numpy as np\n",
    "import matplotlib.pyplot as plt\n"
   ]
  },
  {
   "cell_type": "code",
   "execution_count": null,
   "id": "5d479b5c-0df4-49df-85bb-cd421c8e87d9",
   "metadata": {
    "execution": {
     "iopub.execute_input": "2025-05-13T22:45:57.163025Z",
     "iopub.status.busy": "2025-05-13T22:45:57.162743Z",
     "iopub.status.idle": "2025-05-13T22:45:57.166946Z",
     "shell.execute_reply": "2025-05-13T22:45:57.166510Z",
     "shell.execute_reply.started": "2025-05-13T22:45:57.163005Z"
    }
   },
   "outputs": [],
   "source": [
    "Rs = 15 # Ohms/sq of parallel gate\n",
    "W = 3.3 # microns, width of parallel gate\n",
    "L = 2.0E4 # microns distance from chip edge into center\n",
    "T = 0.1 # Gate oxide thickness in microns\n",
    "Rl = Rs / W # Ohms/micron\n",
    "#Cl = 8.85E-14 F/cm * 1E-4 cm/micron * 4.0 (oxide) * W microns / T microns\n",
    "Cl = 8.85E-14 * 1E-4 * 4.0 * W / T # Farads/micron\n",
    "Cl *= 1.2 # Add 20% for surrounding capacitances.\n",
    "print(f\" Rl = {Rl:.3g} ohms/micron, Cl = {Cl:.3g} Farads/micron\")"
   ]
  },
  {
   "cell_type": "code",
   "execution_count": null,
   "id": "4cf84446-659e-4cbe-9322-ce0f14134797",
   "metadata": {
    "execution": {
     "iopub.execute_input": "2025-05-13T22:45:57.995058Z",
     "iopub.status.busy": "2025-05-13T22:45:57.994830Z",
     "iopub.status.idle": "2025-05-13T22:45:57.997881Z",
     "shell.execute_reply": "2025-05-13T22:45:57.997497Z",
     "shell.execute_reply.started": "2025-05-13T22:45:57.995041Z"
    }
   },
   "outputs": [],
   "source": [
    "tD = Rl * Cl * L**2 / 2.0\n",
    "print(f\"Time delay = {tD:.3g} seconds\")"
   ]
  },
  {
   "cell_type": "code",
   "execution_count": null,
   "id": "662400f4-c876-46fb-b9d4-03307ecac1f9",
   "metadata": {},
   "outputs": [],
   "source": []
  }
 ],
 "metadata": {
  "kernelspec": {
   "display_name": "LSST",
   "language": "python",
   "name": "lsst"
  },
  "language_info": {
   "codemirror_mode": {
    "name": "ipython",
    "version": 3
   },
   "file_extension": ".py",
   "mimetype": "text/x-python",
   "name": "python",
   "nbconvert_exporter": "python",
   "pygments_lexer": "ipython3",
   "version": "3.12.10"
  }
 },
 "nbformat": 4,
 "nbformat_minor": 5
}
