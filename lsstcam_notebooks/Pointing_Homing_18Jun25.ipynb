{
 "cells": [
  {
   "cell_type": "markdown",
   "metadata": {},
   "source": [
    "# LSSTCam pointing errors\n",
    "# Looking at the results of homing the mount.\n",
    "\n",
    "Craig Lage - 18-Apr-25"
   ]
  },
  {
   "cell_type": "code",
   "execution_count": null,
   "metadata": {
    "execution": {
     "iopub.execute_input": "2025-06-25T18:18:19.743535Z",
     "iopub.status.busy": "2025-06-25T18:18:19.743203Z",
     "iopub.status.idle": "2025-06-25T18:18:19.746596Z",
     "shell.execute_reply": "2025-06-25T18:18:19.746218Z",
     "shell.execute_reply.started": "2025-06-25T18:18:19.743517Z"
    },
    "tags": []
   },
   "outputs": [],
   "source": [
    "import os\n",
    "import numpy as np\n",
    "import pickle as pkl\n",
    "import matplotlib.pyplot as plt\n",
    "from astropy.time import Time, TimeDelta\n",
    "from lsst.daf.butler import Butler\n",
    "import lsst.summit.utils.butlerUtils as butlerUtils\n",
    "from lsst.summit.utils.utils import dayObsIntToString\n",
    "from lsst.summit.utils.efdUtils import calcNextDay\n",
    "from lsst.summit.utils.efdUtils import makeEfdClient, getEfdData"
   ]
  },
  {
   "cell_type": "code",
   "execution_count": null,
   "metadata": {
    "execution": {
     "iopub.execute_input": "2025-06-25T18:18:20.410357Z",
     "iopub.status.busy": "2025-06-25T18:18:20.410021Z",
     "iopub.status.idle": "2025-06-25T18:18:20.839552Z",
     "shell.execute_reply": "2025-06-25T18:18:20.838884Z",
     "shell.execute_reply.started": "2025-06-25T18:18:20.410336Z"
    }
   },
   "outputs": [],
   "source": [
    "client = makeEfdClient()"
   ]
  },
  {
   "cell_type": "markdown",
   "metadata": {},
   "source": [
    "## Get the MTMount state changes"
   ]
  },
  {
   "cell_type": "code",
   "execution_count": null,
   "metadata": {
    "execution": {
     "iopub.execute_input": "2025-06-24T17:52:04.285080Z",
     "iopub.status.busy": "2025-06-24T17:52:04.284757Z",
     "iopub.status.idle": "2025-06-24T17:52:05.128466Z",
     "shell.execute_reply": "2025-06-24T17:52:05.127860Z",
     "shell.execute_reply.started": "2025-06-24T17:52:04.285065Z"
    }
   },
   "outputs": [],
   "source": [
    "startDay = 20250527\n",
    "endDay = 20250608\n",
    "dayObs = startDay\n",
    "enableDict = {}\n",
    "homeDict = {}\n",
    "while dayObs <= endDay:\n",
    "    start = Time(f\"{dayObsIntToString(dayObs)}T12:00:00\")\n",
    "    end = Time(f\"{dayObsIntToString(calcNextDay(dayObs))}T12:00:00\")\n",
    "    states = getEfdData(\n",
    "        client,\n",
    "        \"lsst.sal.MTMount.logevent_summaryState\",\n",
    "        columns=['summaryState'],\n",
    "        begin=start,\n",
    "        end=end\n",
    "    )\n",
    "    enables = states[states['summaryState'] == 2]\n",
    "    \n",
    "    homes = getEfdData(\n",
    "    client,\n",
    "    \"lsst.sal.MTMount.command_homeBothAxes\",\n",
    "    begin=start,\n",
    "    end=end\n",
    ")\n",
    "    print(f\"There were {len(enables)} enable events and {len(homes)} home events on {dayObs}\")\n",
    "    enableDict[dayObs] = enables\n",
    "    homeDict[dayObs] = homes\n",
    "    dayObs = calcNextDay(dayObs)"
   ]
  },
  {
   "cell_type": "code",
   "execution_count": null,
   "metadata": {
    "execution": {
     "iopub.execute_input": "2025-06-25T18:31:09.624319Z",
     "iopub.status.busy": "2025-06-25T18:31:09.623689Z",
     "iopub.status.idle": "2025-06-25T18:31:09.629216Z",
     "shell.execute_reply": "2025-06-25T18:31:09.628769Z",
     "shell.execute_reply.started": "2025-06-25T18:31:09.624302Z"
    }
   },
   "outputs": [],
   "source": [
    "enables = enableDict[20250603]\n",
    "enables"
   ]
  },
  {
   "cell_type": "code",
   "execution_count": null,
   "metadata": {
    "execution": {
     "iopub.execute_input": "2025-06-25T18:31:16.664953Z",
     "iopub.status.busy": "2025-06-25T18:31:16.664606Z",
     "iopub.status.idle": "2025-06-25T18:31:16.672787Z",
     "shell.execute_reply": "2025-06-25T18:31:16.672329Z",
     "shell.execute_reply.started": "2025-06-25T18:31:16.664927Z"
    }
   },
   "outputs": [],
   "source": [
    "homes = homeDict[20250603]\n",
    "homes"
   ]
  },
  {
   "cell_type": "code",
   "execution_count": null,
   "metadata": {},
   "outputs": [],
   "source": []
  },
  {
   "cell_type": "code",
   "execution_count": null,
   "metadata": {
    "execution": {
     "iopub.execute_input": "2025-06-25T19:05:16.021093Z",
     "iopub.status.busy": "2025-06-25T19:05:16.020872Z",
     "iopub.status.idle": "2025-06-25T19:05:16.186262Z",
     "shell.execute_reply": "2025-06-25T19:05:16.185855Z",
     "shell.execute_reply.started": "2025-06-25T19:05:16.021078Z"
    }
   },
   "outputs": [],
   "source": [
    "index = 4\n",
    "start = Time(enables.index[index]) - TimeDelta(30, format='sec')\n",
    "end = Time(enables.index[index]) + TimeDelta(360, format='sec')\n",
    "\n",
    "start = Time(\"2025-06-25T01:58:00\", scale='utc')\n",
    "end = Time(\"2025-06-25T01:58:10\", scale='utc')\n",
    "states = getEfdData(\n",
    "    client,\n",
    "    \"lsst.sal.MTMount.logevent_summaryState\",\n",
    "    columns=['summaryState'],\n",
    "    begin=start,\n",
    "    end=end\n",
    ")\n",
    "\n",
    "az = getEfdData(\n",
    "    client,\n",
    "    \"lsst.sal.MTMount.azimuth\",\n",
    "    columns=['actualPosition', 'actualPositionTimestamp'],\n",
    "    begin=start,\n",
    "    end=end\n",
    ")\n",
    "el = getEfdData(\n",
    "    client,\n",
    "    \"lsst.sal.MTMount.elevation\",\n",
    "    columns=['actualPosition', 'actualPositionTimestamp'],\n",
    "    begin=start,\n",
    "    end=end\n",
    ")\n",
    "encoder = getEfdData(\n",
    "    client,\n",
    "    \"lsst.sal.MTMount.encoder\",\n",
    "    begin=start,\n",
    "    end=end\n",
    ")\n",
    "home = getEfdData(\n",
    "    client,\n",
    "    \"lsst.sal.MTMount.command_homeBothAxes\",\n",
    "    begin=start,\n",
    "    end=end\n",
    ")"
   ]
  },
  {
   "cell_type": "code",
   "execution_count": null,
   "metadata": {
    "execution": {
     "iopub.execute_input": "2025-06-25T18:35:45.784154Z",
     "iopub.status.busy": "2025-06-25T18:35:45.783653Z",
     "iopub.status.idle": "2025-06-25T18:35:45.789291Z",
     "shell.execute_reply": "2025-06-25T18:35:45.788638Z",
     "shell.execute_reply.started": "2025-06-25T18:35:45.784125Z"
    }
   },
   "outputs": [],
   "source": [
    "len(home)"
   ]
  },
  {
   "cell_type": "code",
   "execution_count": null,
   "metadata": {
    "execution": {
     "iopub.execute_input": "2025-06-25T18:26:12.359886Z",
     "iopub.status.busy": "2025-06-25T18:26:12.359549Z",
     "iopub.status.idle": "2025-06-25T18:26:12.363138Z",
     "shell.execute_reply": "2025-06-25T18:26:12.362766Z",
     "shell.execute_reply.started": "2025-06-25T18:26:12.359870Z"
    }
   },
   "outputs": [],
   "source": [
    "len(states)"
   ]
  },
  {
   "cell_type": "code",
   "execution_count": null,
   "metadata": {
    "execution": {
     "iopub.execute_input": "2025-06-25T18:35:54.425373Z",
     "iopub.status.busy": "2025-06-25T18:35:54.425049Z",
     "iopub.status.idle": "2025-06-25T18:35:54.599022Z",
     "shell.execute_reply": "2025-06-25T18:35:54.598437Z",
     "shell.execute_reply.started": "2025-06-25T18:35:54.425355Z"
    },
    "jupyter": {
     "outputs_hidden": true
    }
   },
   "outputs": [],
   "source": [
    "for i in range(4):\n",
    "    encoder[f'azimuthEncoderAbsolutePosition{i}'].plot()\n",
    "plt.axvline(Time(enables.index[index]).isot,ls='--', color='red', label='Enabled')\n",
    "plt.axvline(Time(home.index[0]).isot,ls='--', color='blue', label='Homed')\n",
    "plt.legend()"
   ]
  },
  {
   "cell_type": "code",
   "execution_count": null,
   "metadata": {
    "execution": {
     "iopub.execute_input": "2025-06-25T19:05:23.402222Z",
     "iopub.status.busy": "2025-06-25T19:05:23.401898Z",
     "iopub.status.idle": "2025-06-25T19:05:23.527152Z",
     "shell.execute_reply": "2025-06-25T19:05:23.526703Z",
     "shell.execute_reply.started": "2025-06-25T19:05:23.402206Z"
    }
   },
   "outputs": [],
   "source": [
    "az['actualPosition'].plot(marker='x')\n",
    "#plt.axvline(Time(enables.index[index]).isot,ls='--', color='red', label='Enabled')\n",
    "#plt.axvline(Time(home.index[0]).isot,ls='--', color='blue', label='Homed')\n",
    "plt.legend()"
   ]
  },
  {
   "cell_type": "code",
   "execution_count": null,
   "metadata": {
    "execution": {
     "iopub.execute_input": "2025-06-25T19:05:26.605553Z",
     "iopub.status.busy": "2025-06-25T19:05:26.605191Z",
     "iopub.status.idle": "2025-06-25T19:05:26.610686Z",
     "shell.execute_reply": "2025-06-25T19:05:26.610084Z",
     "shell.execute_reply.started": "2025-06-25T19:05:26.605536Z"
    }
   },
   "outputs": [],
   "source": [
    "azValues = np.asarray(az[\"actualPosition\"])\n",
    "azValTimes = np.asarray(az[\"actualPositionTimestamp\"])\n",
    "encValues = np.asarray(encoder['azimuthEncoderAbsolutePosition0'])\n",
    "encTimes = np.asarray(encoder['azimuthEncoderAbsolutePositionTimestamp0'])\n",
    "encInterp = np.interp(azValTimes, encTimes, encValues)\n",
    "az['encInterp'] = encInterp\n",
    "#plt.plot(encInterp, azValues)\n",
    "#plt.axvline(Time(enables.index[index]).isot,ls='--', color='red', label='Enabled')\n",
    "#plt.axvline(Time(home.index[0]).isot,ls='--', color='blue', label='Homed')\n",
    "#plt.legend()"
   ]
  },
  {
   "cell_type": "code",
   "execution_count": null,
   "metadata": {
    "execution": {
     "iopub.execute_input": "2025-06-25T19:05:28.471668Z",
     "iopub.status.busy": "2025-06-25T19:05:28.471340Z",
     "iopub.status.idle": "2025-06-25T19:05:28.613205Z",
     "shell.execute_reply": "2025-06-25T19:05:28.612768Z",
     "shell.execute_reply.started": "2025-06-25T19:05:28.471642Z"
    }
   },
   "outputs": [],
   "source": [
    "az['actualPosition'].plot()\n",
    "az['encInterp'].plot()\n",
    "#plt.axvline(Time(enables.index[index]).isot,ls='--', color='red', label='Enabled')\n",
    "#plt.axvline(Time(home.index[0]).isot,ls='--', color='blue', label='Homed')\n",
    "plt.legend()"
   ]
  },
  {
   "cell_type": "code",
   "execution_count": null,
   "metadata": {
    "execution": {
     "iopub.execute_input": "2025-06-25T19:15:53.916762Z",
     "iopub.status.busy": "2025-06-25T19:15:53.916423Z",
     "iopub.status.idle": "2025-06-25T19:15:54.024668Z",
     "shell.execute_reply": "2025-06-25T19:15:54.024303Z",
     "shell.execute_reply.started": "2025-06-25T19:15:53.916744Z"
    }
   },
   "outputs": [],
   "source": [
    "az.plot(x='actualPosition', y='encInterp')"
   ]
  },
  {
   "cell_type": "code",
   "execution_count": null,
   "metadata": {
    "execution": {
     "iopub.execute_input": "2025-06-25T19:05:34.327935Z",
     "iopub.status.busy": "2025-06-25T19:05:34.327360Z",
     "iopub.status.idle": "2025-06-25T19:05:34.413089Z",
     "shell.execute_reply": "2025-06-25T19:05:34.412635Z",
     "shell.execute_reply.started": "2025-06-25T19:05:34.327917Z"
    }
   },
   "outputs": [],
   "source": [
    "az.plot(x='actualPosition', y='encInterp')\n",
    "#plt.xlim(-30, -28)\n",
    "#plt.ylim(0,1)"
   ]
  },
  {
   "cell_type": "code",
   "execution_count": null,
   "metadata": {},
   "outputs": [],
   "source": []
  },
  {
   "cell_type": "code",
   "execution_count": null,
   "metadata": {
    "execution": {
     "iopub.execute_input": "2025-06-25T19:05:42.758857Z",
     "iopub.status.busy": "2025-06-25T19:05:42.758502Z",
     "iopub.status.idle": "2025-06-25T19:05:43.376434Z",
     "shell.execute_reply": "2025-06-25T19:05:43.375861Z",
     "shell.execute_reply.started": "2025-06-25T19:05:42.758822Z"
    }
   },
   "outputs": [],
   "source": [
    "index = 4\n",
    "start = Time(enables.index[index]) - TimeDelta(30, format='sec')\n",
    "end = Time(enables.index[index]) + TimeDelta(360, format='sec')\n",
    "\n",
    "start = Time(\"2025-06-25T01:56:35\", scale='utc')\n",
    "end = Time(\"2025-06-25T01:56:50\", scale='utc')\n",
    "states = getEfdData(\n",
    "    client,\n",
    "    \"lsst.sal.MTMount.logevent_summaryState\",\n",
    "    columns=['summaryState'],\n",
    "    begin=start,\n",
    "    end=end\n",
    ")\n",
    "\n",
    "az2 = getEfdData(\n",
    "    client,\n",
    "    \"lsst.sal.MTMount.azimuth\",\n",
    "    columns=['actualPosition', 'actualPositionTimestamp'],\n",
    "    begin=start,\n",
    "    end=end\n",
    ")\n",
    "el2 = getEfdData(\n",
    "    client,\n",
    "    \"lsst.sal.MTMount.elevation\",\n",
    "    columns=['actualPosition', 'actualPositionTimestamp'],\n",
    "    begin=start,\n",
    "    end=end\n",
    ")\n",
    "encoder2 = getEfdData(\n",
    "    client,\n",
    "    \"lsst.sal.MTMount.encoder\",\n",
    "    begin=start,\n",
    "    end=end\n",
    ")\n",
    "home = getEfdData(\n",
    "    client,\n",
    "    \"lsst.sal.MTMount.command_homeBothAxes\",\n",
    "    begin=start,\n",
    "    end=end\n",
    ")"
   ]
  },
  {
   "cell_type": "code",
   "execution_count": null,
   "metadata": {
    "execution": {
     "iopub.execute_input": "2025-06-25T19:05:48.340142Z",
     "iopub.status.busy": "2025-06-25T19:05:48.339666Z",
     "iopub.status.idle": "2025-06-25T19:05:48.345183Z",
     "shell.execute_reply": "2025-06-25T19:05:48.344684Z",
     "shell.execute_reply.started": "2025-06-25T19:05:48.340113Z"
    }
   },
   "outputs": [],
   "source": [
    "azValues2 = np.asarray(az2[\"actualPosition\"])\n",
    "azValTimes2 = np.asarray(az2[\"actualPositionTimestamp\"])\n",
    "encValues2 = np.asarray(encoder2['azimuthEncoderAbsolutePosition0'])\n",
    "encTimes2 = np.asarray(encoder2['azimuthEncoderAbsolutePositionTimestamp0'])\n",
    "encInterp2 = np.interp(azValTimes2, encTimes2, encValues2)\n",
    "az2['encInterp'] = encInterp2\n",
    "#plt.plot(encInterp, azValues)\n",
    "#plt.axvline(Time(enables.index[index]).isot,ls='--', color='red', label='Enabled')\n",
    "#plt.axvline(Time(home.index[0]).isot,ls='--', color='blue', label='Homed')\n",
    "#plt.legend()"
   ]
  },
  {
   "cell_type": "code",
   "execution_count": null,
   "metadata": {
    "execution": {
     "iopub.execute_input": "2025-06-25T19:05:51.126718Z",
     "iopub.status.busy": "2025-06-25T19:05:51.126509Z",
     "iopub.status.idle": "2025-06-25T19:05:51.201711Z",
     "shell.execute_reply": "2025-06-25T19:05:51.201301Z",
     "shell.execute_reply.started": "2025-06-25T19:05:51.126701Z"
    }
   },
   "outputs": [],
   "source": [
    "plt.plot(azValues, encInterp, color='blue')\n",
    "plt.plot(azValues2, encInterp2, color='red')"
   ]
  },
  {
   "cell_type": "code",
   "execution_count": null,
   "metadata": {
    "execution": {
     "iopub.execute_input": "2025-06-25T19:01:31.837620Z",
     "iopub.status.busy": "2025-06-25T19:01:31.837297Z",
     "iopub.status.idle": "2025-06-25T19:01:32.474685Z",
     "shell.execute_reply": "2025-06-25T19:01:32.474290Z",
     "shell.execute_reply.started": "2025-06-25T19:01:31.837594Z"
    }
   },
   "outputs": [],
   "source": [
    "\n",
    "start = Time(\"2025-06-25T03:07:00\", scale='utc')\n",
    "end = Time(\"2025-06-25T03:11:00\", scale='utc')\n",
    "states = getEfdData(\n",
    "    client,\n",
    "    \"lsst.sal.MTMount.logevent_summaryState\",\n",
    "    columns=['summaryState'],\n",
    "    begin=start,\n",
    "    end=end\n",
    ")\n",
    "\n",
    "az3 = getEfdData(\n",
    "    client,\n",
    "    \"lsst.sal.MTMount.azimuth\",\n",
    "    columns=['actualPosition', 'actualPositionTimestamp'],\n",
    "    begin=start,\n",
    "    end=end\n",
    ")\n",
    "el2 = getEfdData(\n",
    "    client,\n",
    "    \"lsst.sal.MTMount.elevation\",\n",
    "    columns=['actualPosition', 'actualPositionTimestamp'],\n",
    "    begin=start,\n",
    "    end=end\n",
    ")\n",
    "encoder3 = getEfdData(\n",
    "    client,\n",
    "    \"lsst.sal.MTMount.encoder\",\n",
    "    begin=start,\n",
    "    end=end\n",
    ")\n",
    "home = getEfdData(\n",
    "    client,\n",
    "    \"lsst.sal.MTMount.command_homeBothAxes\",\n",
    "    begin=start,\n",
    "    end=end\n",
    ")"
   ]
  },
  {
   "cell_type": "code",
   "execution_count": null,
   "metadata": {
    "execution": {
     "iopub.execute_input": "2025-06-25T19:01:34.883145Z",
     "iopub.status.busy": "2025-06-25T19:01:34.882811Z",
     "iopub.status.idle": "2025-06-25T19:01:34.886960Z",
     "shell.execute_reply": "2025-06-25T19:01:34.886583Z",
     "shell.execute_reply.started": "2025-06-25T19:01:34.883130Z"
    }
   },
   "outputs": [],
   "source": [
    "azValues3 = np.asarray(az3[\"actualPosition\"])\n",
    "azValTimes3 = np.asarray(az3[\"actualPositionTimestamp\"])\n",
    "encValues3 = np.asarray(encoder3['azimuthEncoderAbsolutePosition0'])\n",
    "encTimes3 = np.asarray(encoder3['azimuthEncoderAbsolutePositionTimestamp0'])\n",
    "encInterp3 = np.interp(azValTimes3, encTimes3, encValues3)\n",
    "az3['encInterp'] = encInterp3\n",
    "#plt.plot(encInterp, azValues)\n",
    "#plt.axvline(Time(enables.index[index]).isot,ls='--', color='red', label='Enabled')\n",
    "#plt.axvline(Time(home.index[0]).isot,ls='--', color='blue', label='Homed')\n",
    "#plt.legend()"
   ]
  },
  {
   "cell_type": "code",
   "execution_count": null,
   "metadata": {
    "execution": {
     "iopub.execute_input": "2025-06-25T19:06:03.570330Z",
     "iopub.status.busy": "2025-06-25T19:06:03.569973Z",
     "iopub.status.idle": "2025-06-25T19:06:03.644511Z",
     "shell.execute_reply": "2025-06-25T19:06:03.644061Z",
     "shell.execute_reply.started": "2025-06-25T19:06:03.570310Z"
    }
   },
   "outputs": [],
   "source": [
    "plt.plot(azValues, encInterp, color='blue')\n",
    "plt.plot(azValues2, encInterp2, color='red')\n",
    "plt.plot(azValues3, encInterp3, color='green')"
   ]
  },
  {
   "cell_type": "code",
   "execution_count": null,
   "metadata": {
    "execution": {
     "iopub.execute_input": "2025-06-25T19:01:09.066248Z",
     "iopub.status.busy": "2025-06-25T19:01:09.065912Z",
     "iopub.status.idle": "2025-06-25T19:01:09.597555Z",
     "shell.execute_reply": "2025-06-25T19:01:09.597065Z",
     "shell.execute_reply.started": "2025-06-25T19:01:09.066230Z"
    }
   },
   "outputs": [],
   "source": [
    "\n",
    "start = Time(\"2025-06-24T03:29:00\", scale='utc')\n",
    "end = Time(\"2025-06-24T03:32:00\", scale='utc')\n",
    "states = getEfdData(\n",
    "    client,\n",
    "    \"lsst.sal.MTMount.logevent_summaryState\",\n",
    "    columns=['summaryState'],\n",
    "    begin=start,\n",
    "    end=end\n",
    ")\n",
    "\n",
    "az4 = getEfdData(\n",
    "    client,\n",
    "    \"lsst.sal.MTMount.azimuth\",\n",
    "    columns=['actualPosition', 'actualPositionTimestamp'],\n",
    "    begin=start,\n",
    "    end=end\n",
    ")\n",
    "el4 = getEfdData(\n",
    "    client,\n",
    "    \"lsst.sal.MTMount.elevation\",\n",
    "    columns=['actualPosition', 'actualPositionTimestamp'],\n",
    "    begin=start,\n",
    "    end=end\n",
    ")\n",
    "encoder4 = getEfdData(\n",
    "    client,\n",
    "    \"lsst.sal.MTMount.encoder\",\n",
    "    begin=start,\n",
    "    end=end\n",
    ")\n",
    "home = getEfdData(\n",
    "    client,\n",
    "    \"lsst.sal.MTMount.command_homeBothAxes\",\n",
    "    begin=start,\n",
    "    end=end\n",
    ")"
   ]
  },
  {
   "cell_type": "code",
   "execution_count": null,
   "metadata": {
    "execution": {
     "iopub.execute_input": "2025-06-25T19:10:52.442860Z",
     "iopub.status.busy": "2025-06-25T19:10:52.441861Z",
     "iopub.status.idle": "2025-06-25T19:10:52.447677Z",
     "shell.execute_reply": "2025-06-25T19:10:52.447164Z",
     "shell.execute_reply.started": "2025-06-25T19:10:52.442803Z"
    }
   },
   "outputs": [],
   "source": [
    "azValues4 = np.asarray(az4[\"actualPosition\"])\n",
    "azValTimes4 = np.asarray(az4[\"actualPositionTimestamp\"])\n",
    "encValues4 = np.asarray(encoder4['azimuthEncoderAbsolutePosition0'])\n",
    "encTimes4 = np.asarray(encoder4['azimuthEncoderAbsolutePositionTimestamp0'])\n",
    "encInterp4 = np.interp(azValTimes4, encTimes4, encValues4)\n",
    "az4['encInterp'] = encInterp4\n",
    "encInterp34 = np.interp(azValTimes4, encTimes3, encValues3)\n",
    "az4['encInterp34'] = encInterp34\n",
    "#plt.plot(encInterp, azValues)\n",
    "#plt.axvline(Time(enables.index[index]).isot,ls='--', color='red', label='Enabled')\n",
    "#plt.axvline(Time(home.index[0]).isot,ls='--', color='blue', label='Homed')\n",
    "#plt.legend()"
   ]
  },
  {
   "cell_type": "code",
   "execution_count": null,
   "metadata": {
    "execution": {
     "iopub.execute_input": "2025-06-25T19:13:25.313998Z",
     "iopub.status.busy": "2025-06-25T19:13:25.313291Z",
     "iopub.status.idle": "2025-06-25T19:13:25.317109Z",
     "shell.execute_reply": "2025-06-25T19:13:25.316676Z",
     "shell.execute_reply.started": "2025-06-25T19:13:25.313979Z"
    }
   },
   "outputs": [],
   "source": [
    "len(azValues3)"
   ]
  },
  {
   "cell_type": "code",
   "execution_count": null,
   "metadata": {
    "execution": {
     "iopub.execute_input": "2025-06-25T21:07:37.584073Z",
     "iopub.status.busy": "2025-06-25T21:07:37.583716Z",
     "iopub.status.idle": "2025-06-25T21:07:37.769890Z",
     "shell.execute_reply": "2025-06-25T21:07:37.769509Z",
     "shell.execute_reply.started": "2025-06-25T21:07:37.584054Z"
    }
   },
   "outputs": [],
   "source": [
    "#plt.plot(azValues3[1500], encInterp3[1800], color='green')\n",
    "plt.plot(azValues3[450:470], encInterp3[450:470], color='green', marker='x', label = '2025-06-25T03:07:00')\n",
    "plt.plot(azValues4[973:993], encInterp4[973:993], color='cyan', ls='--', marker='o', label='2025-06-24T03:29:00')\n",
    "plt.xlabel(\"Azimuth (degrees)\")\n",
    "plt.ylabel(\"azimuthEncoderAbsolutePosition0\")\n",
    "plt.legend()\n",
    "plt.savefig(\"/home/c/cslage/u/MTMount/mount_plots/Encoder_vs_Azimuth_25Jun25.png\")"
   ]
  },
  {
   "cell_type": "code",
   "execution_count": null,
   "metadata": {
    "execution": {
     "iopub.execute_input": "2025-06-25T20:53:29.200135Z",
     "iopub.status.busy": "2025-06-25T20:53:29.199862Z",
     "iopub.status.idle": "2025-06-25T20:53:29.290750Z",
     "shell.execute_reply": "2025-06-25T20:53:29.290147Z",
     "shell.execute_reply.started": "2025-06-25T20:53:29.200107Z"
    }
   },
   "outputs": [],
   "source": [
    "plt.plot(azValues3[0:500], encInterp3[0:500], color='green')"
   ]
  },
  {
   "cell_type": "code",
   "execution_count": null,
   "metadata": {
    "execution": {
     "iopub.execute_input": "2025-06-25T19:29:04.672676Z",
     "iopub.status.busy": "2025-06-25T19:29:04.672330Z",
     "iopub.status.idle": "2025-06-25T19:29:04.752694Z",
     "shell.execute_reply": "2025-06-25T19:29:04.752364Z",
     "shell.execute_reply.started": "2025-06-25T19:29:04.672658Z"
    }
   },
   "outputs": [],
   "source": [
    "plt.plot(azValues, encInterp, color='blue')\n",
    "plt.plot(azValues2, encInterp2, color='red')\n",
    "plt.plot(azValues3, encInterp3, color='green')\n",
    "plt.plot(azValues4, encInterp4, color='cyan', ls='--')\n",
    "plt.xlim(80, 110)\n",
    "plt.ylim(80,110)"
   ]
  },
  {
   "cell_type": "code",
   "execution_count": null,
   "metadata": {
    "execution": {
     "iopub.execute_input": "2025-06-25T20:51:16.851281Z",
     "iopub.status.busy": "2025-06-25T20:51:16.850870Z",
     "iopub.status.idle": "2025-06-25T20:51:16.854480Z",
     "shell.execute_reply": "2025-06-25T20:51:16.854102Z",
     "shell.execute_reply.started": "2025-06-25T20:51:16.851263Z"
    }
   },
   "outputs": [],
   "source": [
    "len(azValues3)"
   ]
  },
  {
   "cell_type": "code",
   "execution_count": null,
   "metadata": {
    "execution": {
     "iopub.execute_input": "2025-06-26T17:07:44.822329Z",
     "iopub.status.busy": "2025-06-26T17:07:44.821999Z",
     "iopub.status.idle": "2025-06-26T17:07:45.248358Z",
     "shell.execute_reply": "2025-06-26T17:07:45.247860Z",
     "shell.execute_reply.started": "2025-06-26T17:07:44.822303Z"
    }
   },
   "outputs": [],
   "source": [
    "from lsst.summit.utils.tmaUtils import TMAEventMaker\n",
    "eventMaker = TMAEventMaker()"
   ]
  },
  {
   "cell_type": "code",
   "execution_count": null,
   "metadata": {
    "execution": {
     "iopub.execute_input": "2025-06-26T17:54:08.622107Z",
     "iopub.status.busy": "2025-06-26T17:54:08.621757Z",
     "iopub.status.idle": "2025-06-26T17:54:09.334942Z",
     "shell.execute_reply": "2025-06-26T17:54:09.334455Z",
     "shell.execute_reply.started": "2025-06-26T17:54:08.622087Z"
    }
   },
   "outputs": [],
   "source": [
    "dayObs = 20250531\n",
    "dayObs = 20250601\n",
    "events = eventMaker.getEvents(dayObs)"
   ]
  },
  {
   "cell_type": "code",
   "execution_count": null,
   "metadata": {
    "execution": {
     "iopub.execute_input": "2025-06-26T17:54:17.763423Z",
     "iopub.status.busy": "2025-06-26T17:54:17.763220Z",
     "iopub.status.idle": "2025-06-26T17:54:17.767546Z",
     "shell.execute_reply": "2025-06-26T17:54:17.767134Z",
     "shell.execute_reply.started": "2025-06-26T17:54:17.763409Z"
    }
   },
   "outputs": [],
   "source": [
    "myEvents = [e for e in events if ((e.type.name=='SLEWING') and (e.duration > 100.0) and (e.duration < 150.0))]\n",
    "len(myEvents)"
   ]
  },
  {
   "cell_type": "code",
   "execution_count": null,
   "metadata": {
    "execution": {
     "iopub.execute_input": "2025-06-26T17:54:21.985068Z",
     "iopub.status.busy": "2025-06-26T17:54:21.984844Z",
     "iopub.status.idle": "2025-06-26T17:54:21.988609Z",
     "shell.execute_reply": "2025-06-26T17:54:21.988209Z",
     "shell.execute_reply.started": "2025-06-26T17:54:21.985053Z"
    }
   },
   "outputs": [],
   "source": [
    "myEvents[0]"
   ]
  },
  {
   "cell_type": "code",
   "execution_count": null,
   "metadata": {
    "execution": {
     "iopub.execute_input": "2025-06-26T17:54:26.915165Z",
     "iopub.status.busy": "2025-06-26T17:54:26.914683Z",
     "iopub.status.idle": "2025-06-26T17:54:27.321390Z",
     "shell.execute_reply": "2025-06-26T17:54:27.321008Z",
     "shell.execute_reply.started": "2025-06-26T17:54:26.915139Z"
    }
   },
   "outputs": [],
   "source": [
    "event = myEvents[0]\n",
    "az = getEfdData(\n",
    "    client,\n",
    "    \"lsst.sal.MTMount.azimuth\",\n",
    "    columns=['actualPosition', 'actualPositionTimestamp'],\n",
    "    event=event, \n",
    "    prePadding = -2.0,\n",
    "    postPadding = -2.0\n",
    ")\n",
    "el = getEfdData(\n",
    "    client,\n",
    "    \"lsst.sal.MTMount.elevation\",\n",
    "    columns=['actualPosition', 'actualPositionTimestamp'],\n",
    "    event=event, \n",
    "    prePadding = -2.0,\n",
    "    postPadding = -2.0\n",
    ")\n",
    "encoder = getEfdData(\n",
    "    client,\n",
    "    \"lsst.sal.MTMount.encoder\",\n",
    "    event=event, \n",
    "    prePadding = -2.0,\n",
    "    postPadding = -2.0\n",
    ")\n",
    "\n",
    "azimuthPosition = encoder['azimuthEncoderPosition0']\n",
    "azimuthPosition += encoder['azimuthEncoderPosition1']\n",
    "azimuthPosition += encoder['azimuthEncoderPosition2']\n",
    "azimuthPosition += encoder['azimuthEncoderPosition3']\n",
    "azimuthPosition /= 4.0\n",
    "encoder['azimuthPosition'] = azimuthPosition\n",
    "\n",
    "elevationPosition = encoder['elevationEncoderPosition0']\n",
    "elevationPosition += encoder['elevationEncoderPosition1']\n",
    "elevationPosition += encoder['elevationEncoderPosition2']\n",
    "elevationPosition += encoder['elevationEncoderPosition3']\n",
    "elevationPosition /= 4.0\n",
    "encoder['elevationPosition'] = elevationPosition\n",
    "\n",
    "azValues = np.asarray(az[\"actualPosition\"])\n",
    "azValTimes = np.asarray(az[\"actualPositionTimestamp\"])\n",
    "encValues = np.asarray(encoder['azimuthPosition'])\n",
    "encTimes = np.asarray(encoder['azimuthEncoderPositionTimestamp0'])\n",
    "azEncInterp = np.interp(azValTimes, encTimes, encValues)\n",
    "az['encoderPosition'] = azEncInterp\n",
    "\n",
    "elValues = np.asarray(el[\"actualPosition\"])\n",
    "elValTimes = np.asarray(el[\"actualPositionTimestamp\"])\n",
    "encValues = np.asarray(encoder['elevationPosition'])\n",
    "encTimes = np.asarray(encoder['elevationEncoderPositionTimestamp0'])\n",
    "elEncInterp = np.interp(elValTimes, encTimes, encValues)\n",
    "el['encoderPosition'] = elEncInterp\n"
   ]
  },
  {
   "cell_type": "code",
   "execution_count": null,
   "metadata": {
    "execution": {
     "iopub.execute_input": "2025-06-26T17:51:15.289438Z",
     "iopub.status.busy": "2025-06-26T17:51:15.288947Z",
     "iopub.status.idle": "2025-06-26T17:51:15.400469Z",
     "shell.execute_reply": "2025-06-26T17:51:15.400143Z",
     "shell.execute_reply.started": "2025-06-26T17:51:15.289404Z"
    }
   },
   "outputs": [],
   "source": [
    "fig, ax = plt.subplots(1,1)\n",
    "\n",
    "ax.scatter(azValues, azEncInterp)\n",
    "fit = np.polyfit(azValues, azEncInterp, 1)\n",
    "print(fit)\n",
    "ax.text(0.1, 0.8, f\"Slope = {fit[0]:.6f}\", transform=ax.transAxes)\n",
    "ax.text(0.1, 0.7, f\"Offset = {(fit[1]*3600):.2f} arcseconds\", transform=ax.transAxes)"
   ]
  },
  {
   "cell_type": "code",
   "execution_count": null,
   "metadata": {
    "execution": {
     "iopub.execute_input": "2025-06-26T17:54:46.760019Z",
     "iopub.status.busy": "2025-06-26T17:54:46.759671Z",
     "iopub.status.idle": "2025-06-26T17:54:46.864580Z",
     "shell.execute_reply": "2025-06-26T17:54:46.863861Z",
     "shell.execute_reply.started": "2025-06-26T17:54:46.759999Z"
    }
   },
   "outputs": [],
   "source": [
    "fig, ax = plt.subplots(1,1)\n",
    "\n",
    "ax.scatter(azValues, azEncInterp)\n",
    "fit = np.polyfit(azValues, azEncInterp, 1)\n",
    "print(fit)\n",
    "ax.text(0.1, 0.8, f\"Slope = {fit[0]:.6f}\", transform=ax.transAxes)\n",
    "ax.text(0.1, 0.7, f\"Offset = {(fit[1]*3600):.2f} arcseconds\", transform=ax.transAxes)"
   ]
  },
  {
   "cell_type": "code",
   "execution_count": null,
   "metadata": {},
   "outputs": [],
   "source": []
  }
 ],
 "metadata": {
  "kernelspec": {
   "display_name": "LSST",
   "language": "python",
   "name": "lsst"
  },
  "language_info": {
   "codemirror_mode": {
    "name": "ipython",
    "version": 3
   },
   "file_extension": ".py",
   "mimetype": "text/x-python",
   "name": "python",
   "nbconvert_exporter": "python",
   "pygments_lexer": "ipython3",
   "version": "3.12.11"
  }
 },
 "nbformat": 4,
 "nbformat_minor": 4
}
