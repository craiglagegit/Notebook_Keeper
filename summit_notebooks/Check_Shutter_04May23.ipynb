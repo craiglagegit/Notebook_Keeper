{
 "cells": [
  {
   "cell_type": "code",
   "execution_count": null,
   "metadata": {
    "execution": {
     "iopub.execute_input": "2023-10-11T23:30:29.743994Z",
     "iopub.status.busy": "2023-10-11T23:30:29.743319Z",
     "iopub.status.idle": "2023-10-11T23:30:30.359121Z",
     "shell.execute_reply": "2023-10-11T23:30:30.358348Z",
     "shell.execute_reply.started": "2023-10-11T23:30:29.743957Z"
    },
    "tags": []
   },
   "outputs": [],
   "source": [
    "import sys, time, os, asyncio, glob\n",
    "import numpy as np\n",
    "import pandas as pd\n",
    "import matplotlib.pyplot as plt\n",
    "from astropy.time import Time, TimeDelta\n",
    "from lsst_efd_client import EfdClient"
   ]
  },
  {
   "cell_type": "code",
   "execution_count": null,
   "metadata": {
    "execution": {
     "iopub.execute_input": "2023-10-11T23:30:30.360662Z",
     "iopub.status.busy": "2023-10-11T23:30:30.360338Z",
     "iopub.status.idle": "2023-10-11T23:30:31.555238Z",
     "shell.execute_reply": "2023-10-11T23:30:31.554438Z",
     "shell.execute_reply.started": "2023-10-11T23:30:30.360646Z"
    },
    "tags": []
   },
   "outputs": [],
   "source": [
    "client = EfdClient('summit_efd')"
   ]
  },
  {
   "cell_type": "code",
   "execution_count": null,
   "metadata": {
    "execution": {
     "iopub.execute_input": "2023-05-04T14:13:38.384413Z",
     "iopub.status.busy": "2023-05-04T14:13:38.384041Z",
     "iopub.status.idle": "2023-05-04T14:13:38.388195Z",
     "shell.execute_reply": "2023-05-04T14:13:38.387594Z",
     "shell.execute_reply.started": "2023-05-04T14:13:38.384396Z"
    },
    "tags": []
   },
   "outputs": [],
   "source": [
    "# Morning tests\n",
    "start = Time(\"2023-07-04 13:20:00Z\", scale='utc')\n",
    "end = Time(\"2023-05-04 14:15:00Z\", scale='utc')"
   ]
  },
  {
   "cell_type": "code",
   "execution_count": null,
   "metadata": {
    "execution": {
     "iopub.execute_input": "2023-05-04T14:13:39.638425Z",
     "iopub.status.busy": "2023-05-04T14:13:39.638045Z",
     "iopub.status.idle": "2023-05-04T14:13:39.700468Z",
     "shell.execute_reply": "2023-05-04T14:13:39.699848Z",
     "shell.execute_reply.started": "2023-05-04T14:13:39.638406Z"
    },
    "tags": []
   },
   "outputs": [],
   "source": [
    "state = await client.select_time_series('lsst.sal.ATDome.logevent_mainDoorState', \\\n",
    "                                            ['*'],  start, end)\n",
    "cmd = await client.select_time_series('lsst.sal.ATDome.logevent_mainDoorCommandedState', \\\n",
    "                                            ['*'],  start, end)"
   ]
  },
  {
   "cell_type": "code",
   "execution_count": null,
   "metadata": {
    "execution": {
     "iopub.execute_input": "2023-05-04T14:13:40.251046Z",
     "iopub.status.busy": "2023-05-04T14:13:40.250670Z",
     "iopub.status.idle": "2023-05-04T14:13:40.253996Z",
     "shell.execute_reply": "2023-05-04T14:13:40.253618Z",
     "shell.execute_reply.started": "2023-05-04T14:13:40.251028Z"
    },
    "tags": []
   },
   "outputs": [],
   "source": [
    "print(len(state), len(cmd))"
   ]
  },
  {
   "cell_type": "code",
   "execution_count": null,
   "metadata": {
    "execution": {
     "iopub.execute_input": "2023-05-04T19:03:15.246157Z",
     "iopub.status.busy": "2023-05-04T19:03:15.245880Z",
     "iopub.status.idle": "2023-05-04T19:03:15.550588Z",
     "shell.execute_reply": "2023-05-04T19:03:15.550113Z",
     "shell.execute_reply.started": "2023-05-04T19:03:15.246140Z"
    },
    "tags": []
   },
   "outputs": [],
   "source": [
    "fig, ax = plt.subplots(1,1, figsize=(15,5))\n",
    "state['state'].plot(ax=ax, color='blue', label='Actual State')\n",
    "ax.set_yticks([1,2,3,4,5])\n",
    "ax.set_yticklabels(['Closed', 'Opened', 'Ajar', 'Opening', 'Closing'])\n",
    "ax.set_ylabel(\"Door State\")\n",
    "ax1 = ax.twinx()\n",
    "cmd['commandedState'].plot(ax=ax1, color='red', label='Commanded State')\n",
    "ax1.set_yticks([2,3])\n",
    "ax1.set_yticklabels(['Closed', 'Opened'])\n",
    "ax1.set_ylabel(\"Commanded State\")\n",
    "ax.legend(loc='upper right')\n",
    "ax1.legend(loc='upper left')\n",
    "plt.savefig(f\"/home/craiglagegit/DATA/Shutter_Test_AM_04May23.png\")"
   ]
  },
  {
   "cell_type": "code",
   "execution_count": null,
   "metadata": {
    "execution": {
     "iopub.execute_input": "2023-05-04T19:35:13.507212Z",
     "iopub.status.busy": "2023-05-04T19:35:13.506945Z",
     "iopub.status.idle": "2023-05-04T19:35:13.510456Z",
     "shell.execute_reply": "2023-05-04T19:35:13.510036Z",
     "shell.execute_reply.started": "2023-05-04T19:35:13.507195Z"
    },
    "tags": []
   },
   "outputs": [],
   "source": [
    "# Afternoon tests\n",
    "start = Time(\"2023-05-04 17:25:00Z\", scale='utc')\n",
    "end = Time(\"2023-05-04 19:35:00Z\", scale='utc')"
   ]
  },
  {
   "cell_type": "code",
   "execution_count": null,
   "metadata": {
    "execution": {
     "iopub.execute_input": "2023-05-04T19:35:14.716472Z",
     "iopub.status.busy": "2023-05-04T19:35:14.716192Z",
     "iopub.status.idle": "2023-05-04T19:35:14.743286Z",
     "shell.execute_reply": "2023-05-04T19:35:14.742739Z",
     "shell.execute_reply.started": "2023-05-04T19:35:14.716455Z"
    },
    "tags": []
   },
   "outputs": [],
   "source": [
    "\n",
    "state = await client.select_time_series('lsst.sal.ATDome.logevent_mainDoorState', \\\n",
    "                                            ['*'],  start, end)\n",
    "cmd = await client.select_time_series('lsst.sal.ATDome.logevent_mainDoorCommandedState', \\\n",
    "                                            ['*'],  start, end)"
   ]
  },
  {
   "cell_type": "code",
   "execution_count": null,
   "metadata": {
    "execution": {
     "iopub.execute_input": "2023-05-04T19:35:15.346285Z",
     "iopub.status.busy": "2023-05-04T19:35:15.345570Z",
     "iopub.status.idle": "2023-05-04T19:35:15.349399Z",
     "shell.execute_reply": "2023-05-04T19:35:15.348890Z",
     "shell.execute_reply.started": "2023-05-04T19:35:15.346260Z"
    },
    "tags": []
   },
   "outputs": [],
   "source": [
    "print(len(state), len(cmd))"
   ]
  },
  {
   "cell_type": "code",
   "execution_count": null,
   "metadata": {
    "execution": {
     "iopub.execute_input": "2023-05-04T19:35:16.227870Z",
     "iopub.status.busy": "2023-05-04T19:35:16.227517Z",
     "iopub.status.idle": "2023-05-04T19:35:16.522969Z",
     "shell.execute_reply": "2023-05-04T19:35:16.522432Z",
     "shell.execute_reply.started": "2023-05-04T19:35:16.227852Z"
    },
    "tags": []
   },
   "outputs": [],
   "source": [
    "fig, ax = plt.subplots(1,1, figsize=(15,5))\n",
    "state['state'].plot(ax=ax, color='blue', label='Actual State')\n",
    "ax.set_yticks([1,2,3,4,5])\n",
    "ax.set_yticklabels(['Closed', 'Opened', 'Ajar', 'Opening', 'Closing'])\n",
    "ax.set_ylabel(\"Door State\")\n",
    "ax1 = ax.twinx()\n",
    "cmd['commandedState'].plot(ax=ax1, color='red', label='Commanded State')\n",
    "ax1.set_yticks([2,3])\n",
    "ax1.set_yticklabels(['Closed', 'Opened'])\n",
    "ax1.set_ylabel(\"Commanded State\")\n",
    "ax.legend(loc='upper right')\n",
    "ax1.legend(loc='upper left')\n",
    "plt.savefig(f\"/home/craiglagegit/DATA/Shutter_Test_PM_04May23.png\")"
   ]
  },
  {
   "cell_type": "code",
   "execution_count": null,
   "metadata": {
    "execution": {
     "iopub.execute_input": "2023-10-11T23:47:21.920700Z",
     "iopub.status.busy": "2023-10-11T23:47:21.920059Z",
     "iopub.status.idle": "2023-10-11T23:47:21.925041Z",
     "shell.execute_reply": "2023-10-11T23:47:21.924460Z",
     "shell.execute_reply.started": "2023-10-11T23:47:21.920681Z"
    },
    "tags": []
   },
   "outputs": [],
   "source": [
    "# Afternoon tests\n",
    "start = Time(\"2023-10-11T20:00:00Z\", scale='utc')\n",
    "end = Time(\"2023-10-11T23:46:00Z\", scale='utc')\n",
    "#start = Time(\"2023-07-05 22:20:00Z\", scale='utc')\n",
    "#end = Time(\"2023-07-05 22:35:00Z\", scale='utc')"
   ]
  },
  {
   "cell_type": "code",
   "execution_count": null,
   "metadata": {
    "execution": {
     "iopub.execute_input": "2023-10-11T23:47:23.080992Z",
     "iopub.status.busy": "2023-10-11T23:47:23.080618Z",
     "iopub.status.idle": "2023-10-11T23:47:23.346785Z",
     "shell.execute_reply": "2023-10-11T23:47:23.345994Z",
     "shell.execute_reply.started": "2023-10-11T23:47:23.080960Z"
    },
    "tags": []
   },
   "outputs": [],
   "source": [
    "\n",
    "state = await client.select_time_series('lsst.sal.ATDome.logevent_mainDoorState', \\\n",
    "                                            ['*'],  start, end)\n",
    "cmd = await client.select_time_series('lsst.sal.ATDome.logevent_mainDoorCommandedState', \\\n",
    "                                            ['*'],  start, end)\n",
    "az = await client.select_time_series('lsst.sal.ATDome.logevent_azimuthCommandedState', \\\n",
    "                                            ['*'],  start, end)\n",
    "shut = await client.select_time_series('lsst.sal.ATDome.position', \\\n",
    "                                            ['mainDoorOpeningPercentage'],  start, end)\n",
    "close_command = await client.select_time_series('lsst.sal.ATDome.command_closeShutter', \\\n",
    "                                            ['*'],  start, end)"
   ]
  },
  {
   "cell_type": "code",
   "execution_count": null,
   "metadata": {
    "execution": {
     "iopub.execute_input": "2023-10-11T23:47:24.833593Z",
     "iopub.status.busy": "2023-10-11T23:47:24.833233Z",
     "iopub.status.idle": "2023-10-11T23:47:24.838475Z",
     "shell.execute_reply": "2023-10-11T23:47:24.837856Z",
     "shell.execute_reply.started": "2023-10-11T23:47:24.833566Z"
    },
    "tags": []
   },
   "outputs": [],
   "source": [
    "print(len(state), len(cmd), len(shut), len(close_command))"
   ]
  },
  {
   "cell_type": "code",
   "execution_count": null,
   "metadata": {
    "execution": {
     "iopub.execute_input": "2023-10-11T23:47:25.758177Z",
     "iopub.status.busy": "2023-10-11T23:47:25.757806Z",
     "iopub.status.idle": "2023-10-11T23:47:25.764217Z",
     "shell.execute_reply": "2023-10-11T23:47:25.763428Z",
     "shell.execute_reply.started": "2023-10-11T23:47:25.758150Z"
    },
    "tags": []
   },
   "outputs": [],
   "source": [
    "close_command.index"
   ]
  },
  {
   "cell_type": "code",
   "execution_count": null,
   "metadata": {
    "execution": {
     "iopub.execute_input": "2023-10-11T23:47:26.766862Z",
     "iopub.status.busy": "2023-10-11T23:47:26.766514Z",
     "iopub.status.idle": "2023-10-11T23:47:27.820506Z",
     "shell.execute_reply": "2023-10-11T23:47:27.819884Z",
     "shell.execute_reply.started": "2023-10-11T23:47:26.766835Z"
    },
    "tags": []
   },
   "outputs": [],
   "source": [
    "fig, ax = plt.subplots(1,1, figsize=(15,5))\n",
    "state['state'].plot(ax=ax, color='blue', label='Actual State')\n",
    "#cmd['commandedState'].plot(ax=ax, color='magenta', ls='--', label='Commanded State')\n",
    "ax.set_yticks([1,2,3,4,5,6,7])\n",
    "ax.set_yticklabels(['Closed', 'Opened', 'Ajar', 'Opening', 'Closing','',''])\n",
    "ax.set_ylabel(\"Door State\")\n",
    "ax1 = ax.twinx()\n",
    "shut['mainDoorOpeningPercentage'].plot(ax=ax1, color='red', label='Shutter Open Percentage')\n",
    "ax1.set_ylabel(\"Open percentage\")\n",
    "ax1.set_ylim(0,115)\n",
    "for close in close_command.index:\n",
    "    ax1.axvline(close, ls='--', color='green', label='Close Command')\n",
    "ax.legend(loc='lower left')\n",
    "ax1.legend(loc='upper left')\n",
    "plt.savefig(f\"/home/craiglagegit/DATA/Shutter_State_11Oct23.png\")"
   ]
  },
  {
   "cell_type": "code",
   "execution_count": null,
   "metadata": {
    "execution": {
     "iopub.execute_input": "2023-07-06T01:17:04.089631Z",
     "iopub.status.busy": "2023-07-06T01:17:04.089346Z",
     "iopub.status.idle": "2023-07-06T01:17:04.098122Z",
     "shell.execute_reply": "2023-07-06T01:17:04.097750Z",
     "shell.execute_reply.started": "2023-07-06T01:17:04.089614Z"
    }
   },
   "outputs": [],
   "source": [
    "state"
   ]
  },
  {
   "cell_type": "code",
   "execution_count": null,
   "metadata": {},
   "outputs": [],
   "source": []
  }
 ],
 "metadata": {
  "kernelspec": {
   "display_name": "LSST",
   "language": "python",
   "name": "lsst"
  },
  "language_info": {
   "codemirror_mode": {
    "name": "ipython",
    "version": 3
   },
   "file_extension": ".py",
   "mimetype": "text/x-python",
   "name": "python",
   "nbconvert_exporter": "python",
   "pygments_lexer": "ipython3",
   "version": "3.11.4"
  }
 },
 "nbformat": 4,
 "nbformat_minor": 4
}
