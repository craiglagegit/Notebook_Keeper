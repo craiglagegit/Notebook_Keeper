{
 "cells": [
  {
   "cell_type": "code",
   "execution_count": null,
   "metadata": {
    "execution": {
     "iopub.execute_input": "2023-05-11T14:53:31.104187Z",
     "iopub.status.busy": "2023-05-11T14:53:31.104038Z",
     "iopub.status.idle": "2023-05-11T14:53:31.431653Z",
     "shell.execute_reply": "2023-05-11T14:53:31.431126Z",
     "shell.execute_reply.started": "2023-05-11T14:53:31.104171Z"
    },
    "tags": []
   },
   "outputs": [],
   "source": [
    "import sys, time, os, asyncio, glob\n",
    "import numpy as np\n",
    "import pandas as pd\n",
    "import matplotlib.pyplot as plt\n",
    "from astropy.time import Time, TimeDelta\n",
    "from lsst_efd_client import EfdClient"
   ]
  },
  {
   "cell_type": "code",
   "execution_count": null,
   "metadata": {
    "execution": {
     "iopub.execute_input": "2023-05-11T14:53:31.433044Z",
     "iopub.status.busy": "2023-05-11T14:53:31.432663Z",
     "iopub.status.idle": "2023-05-11T14:53:32.691967Z",
     "shell.execute_reply": "2023-05-11T14:53:32.691347Z",
     "shell.execute_reply.started": "2023-05-11T14:53:31.433027Z"
    },
    "tags": []
   },
   "outputs": [],
   "source": [
    "client = EfdClient('summit_efd')"
   ]
  },
  {
   "cell_type": "code",
   "execution_count": null,
   "metadata": {
    "execution": {
     "iopub.execute_input": "2023-05-04T14:13:38.384413Z",
     "iopub.status.busy": "2023-05-04T14:13:38.384041Z",
     "iopub.status.idle": "2023-05-04T14:13:38.388195Z",
     "shell.execute_reply": "2023-05-04T14:13:38.387594Z",
     "shell.execute_reply.started": "2023-05-04T14:13:38.384396Z"
    },
    "tags": []
   },
   "outputs": [],
   "source": [
    "# Morning tests\n",
    "start = Time(\"2023-05-04 13:20:00Z\", scale='utc')\n",
    "end = Time(\"2023-05-04 14:15:00Z\", scale='utc')"
   ]
  },
  {
   "cell_type": "code",
   "execution_count": null,
   "metadata": {
    "execution": {
     "iopub.execute_input": "2023-05-04T14:13:39.638425Z",
     "iopub.status.busy": "2023-05-04T14:13:39.638045Z",
     "iopub.status.idle": "2023-05-04T14:13:39.700468Z",
     "shell.execute_reply": "2023-05-04T14:13:39.699848Z",
     "shell.execute_reply.started": "2023-05-04T14:13:39.638406Z"
    },
    "tags": []
   },
   "outputs": [],
   "source": [
    "state = await client.select_time_series('lsst.sal.ATDome.logevent_mainDoorState', \\\n",
    "                                            ['*'],  start, end)\n",
    "cmd = await client.select_time_series('lsst.sal.ATDome.logevent_mainDoorCommandedState', \\\n",
    "                                            ['*'],  start, end)"
   ]
  },
  {
   "cell_type": "code",
   "execution_count": null,
   "metadata": {
    "execution": {
     "iopub.execute_input": "2023-05-04T14:13:40.251046Z",
     "iopub.status.busy": "2023-05-04T14:13:40.250670Z",
     "iopub.status.idle": "2023-05-04T14:13:40.253996Z",
     "shell.execute_reply": "2023-05-04T14:13:40.253618Z",
     "shell.execute_reply.started": "2023-05-04T14:13:40.251028Z"
    },
    "tags": []
   },
   "outputs": [],
   "source": [
    "print(len(state), len(cmd))"
   ]
  },
  {
   "cell_type": "code",
   "execution_count": null,
   "metadata": {
    "execution": {
     "iopub.execute_input": "2023-05-04T19:03:15.246157Z",
     "iopub.status.busy": "2023-05-04T19:03:15.245880Z",
     "iopub.status.idle": "2023-05-04T19:03:15.550588Z",
     "shell.execute_reply": "2023-05-04T19:03:15.550113Z",
     "shell.execute_reply.started": "2023-05-04T19:03:15.246140Z"
    },
    "tags": []
   },
   "outputs": [],
   "source": [
    "fig, ax = plt.subplots(1,1, figsize=(15,5))\n",
    "state['state'].plot(ax=ax, color='blue', label='Actual State')\n",
    "ax.set_yticks([1,2,3,4,5])\n",
    "ax.set_yticklabels(['Closed', 'Opened', 'Ajar', 'Opening', 'Closing'])\n",
    "ax.set_ylabel(\"Door State\")\n",
    "ax1 = ax.twinx()\n",
    "cmd['commandedState'].plot(ax=ax1, color='red', label='Commanded State')\n",
    "ax1.set_yticks([2,3])\n",
    "ax1.set_yticklabels(['Closed', 'Opened'])\n",
    "ax1.set_ylabel(\"Commanded State\")\n",
    "ax.legend(loc='upper right')\n",
    "ax1.legend(loc='upper left')\n",
    "plt.savefig(f\"/home/craiglagegit/DATA/Shutter_Test_AM_04May23.png\")"
   ]
  },
  {
   "cell_type": "code",
   "execution_count": null,
   "metadata": {
    "execution": {
     "iopub.execute_input": "2023-05-04T19:35:13.507212Z",
     "iopub.status.busy": "2023-05-04T19:35:13.506945Z",
     "iopub.status.idle": "2023-05-04T19:35:13.510456Z",
     "shell.execute_reply": "2023-05-04T19:35:13.510036Z",
     "shell.execute_reply.started": "2023-05-04T19:35:13.507195Z"
    },
    "tags": []
   },
   "outputs": [],
   "source": [
    "# Afternoon tests\n",
    "start = Time(\"2023-05-04 17:25:00Z\", scale='utc')\n",
    "end = Time(\"2023-05-04 19:35:00Z\", scale='utc')"
   ]
  },
  {
   "cell_type": "code",
   "execution_count": null,
   "metadata": {
    "execution": {
     "iopub.execute_input": "2023-05-04T19:35:14.716472Z",
     "iopub.status.busy": "2023-05-04T19:35:14.716192Z",
     "iopub.status.idle": "2023-05-04T19:35:14.743286Z",
     "shell.execute_reply": "2023-05-04T19:35:14.742739Z",
     "shell.execute_reply.started": "2023-05-04T19:35:14.716455Z"
    },
    "tags": []
   },
   "outputs": [],
   "source": [
    "\n",
    "state = await client.select_time_series('lsst.sal.ATDome.logevent_mainDoorState', \\\n",
    "                                            ['*'],  start, end)\n",
    "cmd = await client.select_time_series('lsst.sal.ATDome.logevent_mainDoorCommandedState', \\\n",
    "                                            ['*'],  start, end)"
   ]
  },
  {
   "cell_type": "code",
   "execution_count": null,
   "metadata": {
    "execution": {
     "iopub.execute_input": "2023-05-04T19:35:15.346285Z",
     "iopub.status.busy": "2023-05-04T19:35:15.345570Z",
     "iopub.status.idle": "2023-05-04T19:35:15.349399Z",
     "shell.execute_reply": "2023-05-04T19:35:15.348890Z",
     "shell.execute_reply.started": "2023-05-04T19:35:15.346260Z"
    },
    "tags": []
   },
   "outputs": [],
   "source": [
    "print(len(state), len(cmd))"
   ]
  },
  {
   "cell_type": "code",
   "execution_count": null,
   "metadata": {
    "execution": {
     "iopub.execute_input": "2023-05-04T19:35:16.227870Z",
     "iopub.status.busy": "2023-05-04T19:35:16.227517Z",
     "iopub.status.idle": "2023-05-04T19:35:16.522969Z",
     "shell.execute_reply": "2023-05-04T19:35:16.522432Z",
     "shell.execute_reply.started": "2023-05-04T19:35:16.227852Z"
    },
    "tags": []
   },
   "outputs": [],
   "source": [
    "fig, ax = plt.subplots(1,1, figsize=(15,5))\n",
    "state['state'].plot(ax=ax, color='blue', label='Actual State')\n",
    "ax.set_yticks([1,2,3,4,5])\n",
    "ax.set_yticklabels(['Closed', 'Opened', 'Ajar', 'Opening', 'Closing'])\n",
    "ax.set_ylabel(\"Door State\")\n",
    "ax1 = ax.twinx()\n",
    "cmd['commandedState'].plot(ax=ax1, color='red', label='Commanded State')\n",
    "ax1.set_yticks([2,3])\n",
    "ax1.set_yticklabels(['Closed', 'Opened'])\n",
    "ax1.set_ylabel(\"Commanded State\")\n",
    "ax.legend(loc='upper right')\n",
    "ax1.legend(loc='upper left')\n",
    "plt.savefig(f\"/home/craiglagegit/DATA/Shutter_Test_PM_04May23.png\")"
   ]
  },
  {
   "cell_type": "code",
   "execution_count": null,
   "metadata": {
    "execution": {
     "iopub.execute_input": "2023-05-11T14:53:49.588111Z",
     "iopub.status.busy": "2023-05-11T14:53:49.587672Z",
     "iopub.status.idle": "2023-05-11T14:53:49.591271Z",
     "shell.execute_reply": "2023-05-11T14:53:49.590848Z",
     "shell.execute_reply.started": "2023-05-11T14:53:49.588091Z"
    },
    "tags": []
   },
   "outputs": [],
   "source": [
    "# Afternoon tests\n",
    "start = Time(\"2023-05-10 16:00:00Z\", scale='utc')\n",
    "end = Time(\"2023-05-11 12:00:00Z\", scale='utc')"
   ]
  },
  {
   "cell_type": "code",
   "execution_count": null,
   "metadata": {
    "execution": {
     "iopub.execute_input": "2023-05-11T14:53:50.251096Z",
     "iopub.status.busy": "2023-05-11T14:53:50.250834Z",
     "iopub.status.idle": "2023-05-11T14:53:51.123289Z",
     "shell.execute_reply": "2023-05-11T14:53:51.122747Z",
     "shell.execute_reply.started": "2023-05-11T14:53:50.251081Z"
    },
    "tags": []
   },
   "outputs": [],
   "source": [
    "\n",
    "state = await client.select_time_series('lsst.sal.ATDome.logevent_mainDoorState', \\\n",
    "                                            ['*'],  start, end)\n",
    "cmd = await client.select_time_series('lsst.sal.ATDome.logevent_mainDoorCommandedState', \\\n",
    "                                            ['*'],  start, end)\n",
    "az = await client.select_time_series('lsst.sal.ATDome.logevent_azimuthCommandedState', \\\n",
    "                                            ['*'],  start, end)\n",
    "shut = await client.select_time_series('lsst.sal.ATDome.position', \\\n",
    "                                            ['mainDoorOpeningPercentage'],  start, end)"
   ]
  },
  {
   "cell_type": "code",
   "execution_count": null,
   "metadata": {
    "execution": {
     "iopub.execute_input": "2023-05-11T14:53:51.132451Z",
     "iopub.status.busy": "2023-05-11T14:53:51.132280Z",
     "iopub.status.idle": "2023-05-11T14:53:51.135155Z",
     "shell.execute_reply": "2023-05-11T14:53:51.134735Z",
     "shell.execute_reply.started": "2023-05-11T14:53:51.132437Z"
    },
    "tags": []
   },
   "outputs": [],
   "source": [
    "print(len(state), len(cmd), len(shut))"
   ]
  },
  {
   "cell_type": "code",
   "execution_count": null,
   "metadata": {
    "execution": {
     "iopub.execute_input": "2023-05-11T14:53:52.344485Z",
     "iopub.status.busy": "2023-05-11T14:53:52.344207Z",
     "iopub.status.idle": "2023-05-11T14:53:54.833557Z",
     "shell.execute_reply": "2023-05-11T14:53:54.833067Z",
     "shell.execute_reply.started": "2023-05-11T14:53:52.344466Z"
    },
    "tags": []
   },
   "outputs": [],
   "source": [
    "fig, ax = plt.subplots(1,1, figsize=(15,5))\n",
    "state['state'].plot(ax=ax, color='blue', label='Actual State')\n",
    "ax.set_yticks([1,2,3,4,5])\n",
    "ax.set_yticklabels(['Closed', 'Opened', 'Ajar', 'Opening', 'Closing'])\n",
    "ax.set_ylabel(\"Door State\")\n",
    "ax1 = ax.twinx()\n",
    "shut['mainDoorOpeningPercentage'].plot(ax=ax1, color='red', label='Shutter Open Percentage')\n",
    "#ax1.set_yticks([2,3])\n",
    "#ax1.set_yticklabels(['Closed', 'Opened'])\n",
    "ax1.set_ylabel(\"Open percentage\")\n",
    "ax1.set_ylim(95,105)\n",
    "ax.legend(loc='upper right')\n",
    "ax1.legend(loc='upper left')\n",
    "plt.savefig(f\"/home/craiglagegit/DATA/Shutter_State_10May23.png\")"
   ]
  },
  {
   "cell_type": "code",
   "execution_count": null,
   "metadata": {},
   "outputs": [],
   "source": []
  }
 ],
 "metadata": {
  "kernelspec": {
   "display_name": "LSST",
   "language": "python",
   "name": "lsst"
  },
  "language_info": {
   "codemirror_mode": {
    "name": "ipython",
    "version": 3
   },
   "file_extension": ".py",
   "mimetype": "text/x-python",
   "name": "python",
   "nbconvert_exporter": "python",
   "pygments_lexer": "ipython3",
   "version": "3.10.10"
  }
 },
 "nbformat": 4,
 "nbformat_minor": 4
}
