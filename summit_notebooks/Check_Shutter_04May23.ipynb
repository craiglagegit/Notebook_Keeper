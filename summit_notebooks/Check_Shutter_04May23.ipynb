{
 "cells": [
  {
   "cell_type": "code",
   "execution_count": null,
   "metadata": {
    "execution": {
     "iopub.execute_input": "2023-08-30T17:24:02.025806Z",
     "iopub.status.busy": "2023-08-30T17:24:02.025397Z",
     "iopub.status.idle": "2023-08-30T17:24:02.787889Z",
     "shell.execute_reply": "2023-08-30T17:24:02.786837Z",
     "shell.execute_reply.started": "2023-08-30T17:24:02.025776Z"
    },
    "tags": []
   },
   "outputs": [],
   "source": [
    "import sys, time, os, asyncio, glob\n",
    "import numpy as np\n",
    "import pandas as pd\n",
    "import matplotlib.pyplot as plt\n",
    "from astropy.time import Time, TimeDelta\n",
    "from lsst_efd_client import EfdClient"
   ]
  },
  {
   "cell_type": "code",
   "execution_count": null,
   "metadata": {
    "execution": {
     "iopub.execute_input": "2023-08-30T17:24:03.795767Z",
     "iopub.status.busy": "2023-08-30T17:24:03.795330Z",
     "iopub.status.idle": "2023-08-30T17:24:04.992857Z",
     "shell.execute_reply": "2023-08-30T17:24:04.992365Z",
     "shell.execute_reply.started": "2023-08-30T17:24:03.795738Z"
    },
    "tags": []
   },
   "outputs": [],
   "source": [
    "client = EfdClient('summit_efd')"
   ]
  },
  {
   "cell_type": "code",
   "execution_count": null,
   "metadata": {
    "execution": {
     "iopub.execute_input": "2023-05-04T14:13:38.384413Z",
     "iopub.status.busy": "2023-05-04T14:13:38.384041Z",
     "iopub.status.idle": "2023-05-04T14:13:38.388195Z",
     "shell.execute_reply": "2023-05-04T14:13:38.387594Z",
     "shell.execute_reply.started": "2023-05-04T14:13:38.384396Z"
    },
    "tags": []
   },
   "outputs": [],
   "source": [
    "# Morning tests\n",
    "start = Time(\"2023-07-04 13:20:00Z\", scale='utc')\n",
    "end = Time(\"2023-05-04 14:15:00Z\", scale='utc')"
   ]
  },
  {
   "cell_type": "code",
   "execution_count": null,
   "metadata": {
    "execution": {
     "iopub.execute_input": "2023-05-04T14:13:39.638425Z",
     "iopub.status.busy": "2023-05-04T14:13:39.638045Z",
     "iopub.status.idle": "2023-05-04T14:13:39.700468Z",
     "shell.execute_reply": "2023-05-04T14:13:39.699848Z",
     "shell.execute_reply.started": "2023-05-04T14:13:39.638406Z"
    },
    "tags": []
   },
   "outputs": [],
   "source": [
    "state = await client.select_time_series('lsst.sal.ATDome.logevent_mainDoorState', \\\n",
    "                                            ['*'],  start, end)\n",
    "cmd = await client.select_time_series('lsst.sal.ATDome.logevent_mainDoorCommandedState', \\\n",
    "                                            ['*'],  start, end)"
   ]
  },
  {
   "cell_type": "code",
   "execution_count": null,
   "metadata": {
    "execution": {
     "iopub.execute_input": "2023-05-04T14:13:40.251046Z",
     "iopub.status.busy": "2023-05-04T14:13:40.250670Z",
     "iopub.status.idle": "2023-05-04T14:13:40.253996Z",
     "shell.execute_reply": "2023-05-04T14:13:40.253618Z",
     "shell.execute_reply.started": "2023-05-04T14:13:40.251028Z"
    },
    "tags": []
   },
   "outputs": [],
   "source": [
    "print(len(state), len(cmd))"
   ]
  },
  {
   "cell_type": "code",
   "execution_count": null,
   "metadata": {
    "execution": {
     "iopub.execute_input": "2023-05-04T19:03:15.246157Z",
     "iopub.status.busy": "2023-05-04T19:03:15.245880Z",
     "iopub.status.idle": "2023-05-04T19:03:15.550588Z",
     "shell.execute_reply": "2023-05-04T19:03:15.550113Z",
     "shell.execute_reply.started": "2023-05-04T19:03:15.246140Z"
    },
    "tags": []
   },
   "outputs": [],
   "source": [
    "fig, ax = plt.subplots(1,1, figsize=(15,5))\n",
    "state['state'].plot(ax=ax, color='blue', label='Actual State')\n",
    "ax.set_yticks([1,2,3,4,5])\n",
    "ax.set_yticklabels(['Closed', 'Opened', 'Ajar', 'Opening', 'Closing'])\n",
    "ax.set_ylabel(\"Door State\")\n",
    "ax1 = ax.twinx()\n",
    "cmd['commandedState'].plot(ax=ax1, color='red', label='Commanded State')\n",
    "ax1.set_yticks([2,3])\n",
    "ax1.set_yticklabels(['Closed', 'Opened'])\n",
    "ax1.set_ylabel(\"Commanded State\")\n",
    "ax.legend(loc='upper right')\n",
    "ax1.legend(loc='upper left')\n",
    "plt.savefig(f\"/home/craiglagegit/DATA/Shutter_Test_AM_04May23.png\")"
   ]
  },
  {
   "cell_type": "code",
   "execution_count": null,
   "metadata": {
    "execution": {
     "iopub.execute_input": "2023-05-04T19:35:13.507212Z",
     "iopub.status.busy": "2023-05-04T19:35:13.506945Z",
     "iopub.status.idle": "2023-05-04T19:35:13.510456Z",
     "shell.execute_reply": "2023-05-04T19:35:13.510036Z",
     "shell.execute_reply.started": "2023-05-04T19:35:13.507195Z"
    },
    "tags": []
   },
   "outputs": [],
   "source": [
    "# Afternoon tests\n",
    "start = Time(\"2023-05-04 17:25:00Z\", scale='utc')\n",
    "end = Time(\"2023-05-04 19:35:00Z\", scale='utc')"
   ]
  },
  {
   "cell_type": "code",
   "execution_count": null,
   "metadata": {
    "execution": {
     "iopub.execute_input": "2023-05-04T19:35:14.716472Z",
     "iopub.status.busy": "2023-05-04T19:35:14.716192Z",
     "iopub.status.idle": "2023-05-04T19:35:14.743286Z",
     "shell.execute_reply": "2023-05-04T19:35:14.742739Z",
     "shell.execute_reply.started": "2023-05-04T19:35:14.716455Z"
    },
    "tags": []
   },
   "outputs": [],
   "source": [
    "\n",
    "state = await client.select_time_series('lsst.sal.ATDome.logevent_mainDoorState', \\\n",
    "                                            ['*'],  start, end)\n",
    "cmd = await client.select_time_series('lsst.sal.ATDome.logevent_mainDoorCommandedState', \\\n",
    "                                            ['*'],  start, end)"
   ]
  },
  {
   "cell_type": "code",
   "execution_count": null,
   "metadata": {
    "execution": {
     "iopub.execute_input": "2023-05-04T19:35:15.346285Z",
     "iopub.status.busy": "2023-05-04T19:35:15.345570Z",
     "iopub.status.idle": "2023-05-04T19:35:15.349399Z",
     "shell.execute_reply": "2023-05-04T19:35:15.348890Z",
     "shell.execute_reply.started": "2023-05-04T19:35:15.346260Z"
    },
    "tags": []
   },
   "outputs": [],
   "source": [
    "print(len(state), len(cmd))"
   ]
  },
  {
   "cell_type": "code",
   "execution_count": null,
   "metadata": {
    "execution": {
     "iopub.execute_input": "2023-05-04T19:35:16.227870Z",
     "iopub.status.busy": "2023-05-04T19:35:16.227517Z",
     "iopub.status.idle": "2023-05-04T19:35:16.522969Z",
     "shell.execute_reply": "2023-05-04T19:35:16.522432Z",
     "shell.execute_reply.started": "2023-05-04T19:35:16.227852Z"
    },
    "tags": []
   },
   "outputs": [],
   "source": [
    "fig, ax = plt.subplots(1,1, figsize=(15,5))\n",
    "state['state'].plot(ax=ax, color='blue', label='Actual State')\n",
    "ax.set_yticks([1,2,3,4,5])\n",
    "ax.set_yticklabels(['Closed', 'Opened', 'Ajar', 'Opening', 'Closing'])\n",
    "ax.set_ylabel(\"Door State\")\n",
    "ax1 = ax.twinx()\n",
    "cmd['commandedState'].plot(ax=ax1, color='red', label='Commanded State')\n",
    "ax1.set_yticks([2,3])\n",
    "ax1.set_yticklabels(['Closed', 'Opened'])\n",
    "ax1.set_ylabel(\"Commanded State\")\n",
    "ax.legend(loc='upper right')\n",
    "ax1.legend(loc='upper left')\n",
    "plt.savefig(f\"/home/craiglagegit/DATA/Shutter_Test_PM_04May23.png\")"
   ]
  },
  {
   "cell_type": "code",
   "execution_count": null,
   "metadata": {
    "execution": {
     "iopub.execute_input": "2023-08-30T17:24:32.843485Z",
     "iopub.status.busy": "2023-08-30T17:24:32.843134Z",
     "iopub.status.idle": "2023-08-30T17:24:32.849379Z",
     "shell.execute_reply": "2023-08-30T17:24:32.848602Z",
     "shell.execute_reply.started": "2023-08-30T17:24:32.843455Z"
    },
    "tags": []
   },
   "outputs": [],
   "source": [
    "# Afternoon tests\n",
    "start = Time(\"2023-08-29T14:00:00Z\", scale='utc')\n",
    "end = Time(\"2023-08-30T07:00:00Z\", scale='utc')\n",
    "#start = Time(\"2023-07-05 22:20:00Z\", scale='utc')\n",
    "#end = Time(\"2023-07-05 22:35:00Z\", scale='utc')"
   ]
  },
  {
   "cell_type": "code",
   "execution_count": null,
   "metadata": {
    "execution": {
     "iopub.execute_input": "2023-08-30T17:24:34.607150Z",
     "iopub.status.busy": "2023-08-30T17:24:34.606686Z",
     "iopub.status.idle": "2023-08-30T17:24:35.816394Z",
     "shell.execute_reply": "2023-08-30T17:24:35.815525Z",
     "shell.execute_reply.started": "2023-08-30T17:24:34.607122Z"
    },
    "tags": []
   },
   "outputs": [],
   "source": [
    "\n",
    "state = await client.select_time_series('lsst.sal.ATDome.logevent_mainDoorState', \\\n",
    "                                            ['*'],  start, end)\n",
    "cmd = await client.select_time_series('lsst.sal.ATDome.logevent_mainDoorCommandedState', \\\n",
    "                                            ['*'],  start, end)\n",
    "az = await client.select_time_series('lsst.sal.ATDome.logevent_azimuthCommandedState', \\\n",
    "                                            ['*'],  start, end)\n",
    "shut = await client.select_time_series('lsst.sal.ATDome.position', \\\n",
    "                                            ['mainDoorOpeningPercentage'],  start, end)\n",
    "close_command = await client.select_time_series('lsst.sal.ATDome.command_closeShutter', \\\n",
    "                                            ['*'],  start, end)"
   ]
  },
  {
   "cell_type": "code",
   "execution_count": null,
   "metadata": {
    "execution": {
     "iopub.execute_input": "2023-08-30T17:24:38.606722Z",
     "iopub.status.busy": "2023-08-30T17:24:38.606214Z",
     "iopub.status.idle": "2023-08-30T17:24:38.611913Z",
     "shell.execute_reply": "2023-08-30T17:24:38.611127Z",
     "shell.execute_reply.started": "2023-08-30T17:24:38.606694Z"
    },
    "tags": []
   },
   "outputs": [],
   "source": [
    "print(len(state), len(cmd), len(shut), len(close_command))"
   ]
  },
  {
   "cell_type": "code",
   "execution_count": null,
   "metadata": {
    "execution": {
     "iopub.execute_input": "2023-08-25T15:58:18.701051Z",
     "iopub.status.busy": "2023-08-25T15:58:18.700783Z",
     "iopub.status.idle": "2023-08-25T15:58:18.704525Z",
     "shell.execute_reply": "2023-08-25T15:58:18.704152Z",
     "shell.execute_reply.started": "2023-08-25T15:58:18.701033Z"
    },
    "tags": []
   },
   "outputs": [],
   "source": [
    "close_command.index"
   ]
  },
  {
   "cell_type": "code",
   "execution_count": null,
   "metadata": {
    "execution": {
     "iopub.execute_input": "2023-08-30T17:25:30.703446Z",
     "iopub.status.busy": "2023-08-30T17:25:30.703225Z",
     "iopub.status.idle": "2023-08-30T17:25:32.932282Z",
     "shell.execute_reply": "2023-08-30T17:25:32.931804Z",
     "shell.execute_reply.started": "2023-08-30T17:25:30.703432Z"
    },
    "tags": []
   },
   "outputs": [],
   "source": [
    "fig, ax = plt.subplots(1,1, figsize=(15,5))\n",
    "state['state'].plot(ax=ax, color='blue', label='Actual State')\n",
    "#cmd['commandedState'].plot(ax=ax, color='magenta', ls='--', label='Commanded State')\n",
    "ax.set_yticks([1,2,3,4,5,6, 7])\n",
    "ax.set_yticklabels(['Closed', 'Opened', 'Ajar', 'Opening', 'Closing','',''])\n",
    "ax.set_ylabel(\"Door State\")\n",
    "ax1 = ax.twinx()\n",
    "shut['mainDoorOpeningPercentage'].plot(ax=ax1, color='red', label='Shutter Open Percentage')\n",
    "ax1.set_ylabel(\"Open percentage\")\n",
    "ax1.set_ylim(0,115)\n",
    "for close in close_command.index:\n",
    "    ax1.axvline(close, ls='--', color='green', label='Close Command')\n",
    "ax.legend(loc='lower left')\n",
    "ax1.legend(loc='upper left')\n",
    "#plt.savefig(f\"/home/craiglagegit/DATA/Prepare_For_Vent_24Aug23.png\")"
   ]
  },
  {
   "cell_type": "code",
   "execution_count": null,
   "metadata": {
    "execution": {
     "iopub.execute_input": "2023-07-06T01:17:04.089631Z",
     "iopub.status.busy": "2023-07-06T01:17:04.089346Z",
     "iopub.status.idle": "2023-07-06T01:17:04.098122Z",
     "shell.execute_reply": "2023-07-06T01:17:04.097750Z",
     "shell.execute_reply.started": "2023-07-06T01:17:04.089614Z"
    }
   },
   "outputs": [],
   "source": [
    "state"
   ]
  },
  {
   "cell_type": "code",
   "execution_count": null,
   "metadata": {},
   "outputs": [],
   "source": []
  }
 ],
 "metadata": {
  "kernelspec": {
   "display_name": "LSST",
   "language": "python",
   "name": "lsst"
  },
  "language_info": {
   "codemirror_mode": {
    "name": "ipython",
    "version": 3
   },
   "file_extension": ".py",
   "mimetype": "text/x-python",
   "name": "python",
   "nbconvert_exporter": "python",
   "pygments_lexer": "ipython3",
   "version": "3.11.4"
  }
 },
 "nbformat": 4,
 "nbformat_minor": 4
}
