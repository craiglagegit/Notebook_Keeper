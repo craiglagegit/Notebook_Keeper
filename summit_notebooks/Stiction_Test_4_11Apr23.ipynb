{
 "cells": [
  {
   "cell_type": "markdown",
   "id": "3dbf3c0c",
   "metadata": {},
   "source": [
    "# Pole stiction\n",
    "\n",
    "This notebook is intended to characterize the slow speed stiction problem \\\n",
    "at the pole by spiraling into the pole where the tracking speeds will be slower and slower. \\\n",
    "Craig Lage - 17-Oct-22"
   ]
  },
  {
   "cell_type": "code",
   "execution_count": null,
   "id": "b9b61b70",
   "metadata": {
    "execution": {
     "iopub.execute_input": "2023-04-11T16:43:58.733029Z",
     "iopub.status.busy": "2023-04-11T16:43:58.732656Z",
     "iopub.status.idle": "2023-04-11T16:44:01.264809Z",
     "shell.execute_reply": "2023-04-11T16:44:01.264215Z",
     "shell.execute_reply.started": "2023-04-11T16:43:58.733011Z"
    },
    "tags": []
   },
   "outputs": [],
   "source": [
    "import asyncio\n",
    "import time\n",
    "import os\n",
    "import numpy as np\n",
    "import matplotlib.pyplot as plt\n",
    "from astropy.time import Time\n",
    "\n",
    "from lsst.ts import salobj\n",
    "\n",
    "from lsst.ts.observatory.control.auxtel.atcs import ATCS\n",
    "from lsst.ts.observatory.control.auxtel.latiss import LATISS\n",
    "from lsst.ts.observatory.control.utils import RotType"
   ]
  },
  {
   "cell_type": "code",
   "execution_count": null,
   "id": "0755fd07",
   "metadata": {
    "execution": {
     "iopub.execute_input": "2023-04-11T16:44:01.846942Z",
     "iopub.status.busy": "2023-04-11T16:44:01.846577Z",
     "iopub.status.idle": "2023-04-11T16:44:01.850023Z",
     "shell.execute_reply": "2023-04-11T16:44:01.849563Z",
     "shell.execute_reply.started": "2023-04-11T16:44:01.846923Z"
    },
    "tags": []
   },
   "outputs": [],
   "source": [
    "logger = logging.getLogger(f\"Daytime Checkout {Time.now()} UT\")\n",
    "logger.level = logging.DEBUG"
   ]
  },
  {
   "cell_type": "code",
   "execution_count": null,
   "id": "e80647f9",
   "metadata": {
    "execution": {
     "iopub.execute_input": "2023-04-11T16:44:02.830800Z",
     "iopub.status.busy": "2023-04-11T16:44:02.830440Z",
     "iopub.status.idle": "2023-04-11T16:44:02.835289Z",
     "shell.execute_reply": "2023-04-11T16:44:02.834775Z",
     "shell.execute_reply.started": "2023-04-11T16:44:02.830780Z"
    },
    "tags": []
   },
   "outputs": [],
   "source": [
    "logger.info(os.environ[\"OSPL_URI\"])\n",
    "logger.info(os.environ[\"LSST_DDS_PARTITION_PREFIX\"])"
   ]
  },
  {
   "cell_type": "markdown",
   "id": "a9cd22ea",
   "metadata": {},
   "source": [
    "### Instantiate the control classes"
   ]
  },
  {
   "cell_type": "code",
   "execution_count": null,
   "id": "f651e5d9",
   "metadata": {
    "execution": {
     "iopub.execute_input": "2023-04-11T16:44:06.576262Z",
     "iopub.status.busy": "2023-04-11T16:44:06.575887Z",
     "iopub.status.idle": "2023-04-11T16:44:08.813448Z",
     "shell.execute_reply": "2023-04-11T16:44:08.812835Z",
     "shell.execute_reply.started": "2023-04-11T16:44:06.576245Z"
    },
    "tags": []
   },
   "outputs": [],
   "source": [
    "domain = salobj.Domain()\n",
    "atcs = ATCS(domain)\n",
    "latiss = LATISS(domain)\n",
    "await asyncio.gather(atcs.start_task, latiss.start_task)\n",
    "await atcs.assert_liveliness()"
   ]
  },
  {
   "cell_type": "markdown",
   "id": "50d3b4be",
   "metadata": {},
   "source": [
    "## Enable LATISS and ATCS"
   ]
  },
  {
   "cell_type": "code",
   "execution_count": null,
   "id": "ab6d900c",
   "metadata": {
    "execution": {
     "iopub.execute_input": "2023-04-04T13:42:18.239368Z",
     "iopub.status.busy": "2023-04-04T13:42:18.238418Z",
     "iopub.status.idle": "2023-04-04T13:42:39.654537Z",
     "shell.execute_reply": "2023-04-04T13:42:39.653830Z",
     "shell.execute_reply.started": "2023-04-04T13:42:18.239341Z"
    },
    "jupyter": {
     "outputs_hidden": true
    },
    "tags": []
   },
   "outputs": [],
   "source": [
    "# Didn't come up.  Brought up with LOVE\n",
    "await latiss.enable()\n",
    "await atcs.enable()\n",
    "await atcs.assert_all_enabled()"
   ]
  },
  {
   "cell_type": "markdown",
   "id": "014ff42a-1d20-4a15-a145-3a59306459e2",
   "metadata": {
    "tags": []
   },
   "source": [
    "If ATCamera and/or ATOODS don't come up, see section `Quick Troubleshooting` for support commands. "
   ]
  },
  {
   "cell_type": "markdown",
   "id": "a85209e7",
   "metadata": {
    "tags": []
   },
   "source": [
    "### Bias verification"
   ]
  },
  {
   "cell_type": "code",
   "execution_count": null,
   "id": "7761429f",
   "metadata": {
    "execution": {
     "iopub.execute_input": "2023-04-11T16:44:37.386757Z",
     "iopub.status.busy": "2023-04-11T16:44:37.386381Z",
     "iopub.status.idle": "2023-04-11T16:44:59.897918Z",
     "shell.execute_reply": "2023-04-11T16:44:59.897295Z",
     "shell.execute_reply.started": "2023-04-11T16:44:37.386739Z"
    },
    "tags": []
   },
   "outputs": [],
   "source": [
    "for i in range(5):\n",
    "    await latiss.take_bias(nbias=1)\n",
    "    await asyncio.sleep(2.0)"
   ]
  },
  {
   "cell_type": "code",
   "execution_count": null,
   "id": "eb8e7dab-9da0-42a9-995c-34977879aa1a",
   "metadata": {
    "execution": {
     "iopub.execute_input": "2023-04-11T16:49:57.362980Z",
     "iopub.status.busy": "2023-04-11T16:49:57.362617Z",
     "iopub.status.idle": "2023-04-11T16:49:57.366769Z",
     "shell.execute_reply": "2023-04-11T16:49:57.366285Z",
     "shell.execute_reply.started": "2023-04-11T16:49:57.362961Z"
    },
    "tags": []
   },
   "outputs": [],
   "source": [
    "await atcs.disable_dome_following()"
   ]
  },
  {
   "cell_type": "markdown",
   "id": "3fc32bc5-5f36-4e5a-bcfd-27c3a9eeec21",
   "metadata": {
    "tags": []
   },
   "source": [
    "### Now run the actual test, taking a 30 second image at each location."
   ]
  },
  {
   "cell_type": "code",
   "execution_count": null,
   "id": "449950cc-ce9a-4e4a-8367-fe880a4982b2",
   "metadata": {
    "execution": {
     "iopub.execute_input": "2023-04-11T16:50:00.063426Z",
     "iopub.status.busy": "2023-04-11T16:50:00.063052Z",
     "iopub.status.idle": "2023-04-11T16:51:28.828419Z",
     "shell.execute_reply": "2023-04-11T16:51:28.827892Z",
     "shell.execute_reply.started": "2023-04-11T16:50:00.063407Z"
    },
    "jupyter": {
     "outputs_hidden": true
    },
    "tags": []
   },
   "outputs": [],
   "source": [
    "# Move to starting location\n",
    "coord=atcs.radec_from_azel(az=270, el=45)\n",
    "await atcs.slew_icrs(coord.ra, coord.dec, rot=0.0, rot_type=RotType.Physical)"
   ]
  },
  {
   "cell_type": "code",
   "execution_count": null,
   "id": "eeb62b3b-9b34-4511-87bc-07587a3ce772",
   "metadata": {
    "execution": {
     "iopub.execute_input": "2023-04-11T16:51:40.908394Z",
     "iopub.status.busy": "2023-04-11T16:51:40.908021Z",
     "iopub.status.idle": "2023-04-11T16:52:13.409680Z",
     "shell.execute_reply": "2023-04-11T16:52:13.409134Z",
     "shell.execute_reply.started": "2023-04-11T16:51:40.908375Z"
    },
    "tags": []
   },
   "outputs": [],
   "source": [
    "await latiss.take_darks(30.0, 1)"
   ]
  },
  {
   "cell_type": "code",
   "execution_count": null,
   "id": "6897aaac-84b7-4a47-adae-e03bf57288b9",
   "metadata": {
    "execution": {
     "iopub.execute_input": "2023-04-11T16:53:43.783274Z",
     "iopub.status.busy": "2023-04-11T16:53:43.782970Z",
     "iopub.status.idle": "2023-04-11T18:16:36.623014Z",
     "shell.execute_reply": "2023-04-11T18:16:36.622503Z",
     "shell.execute_reply.started": "2023-04-11T16:53:43.783256Z"
    },
    "jupyter": {
     "outputs_hidden": true
    },
    "tags": []
   },
   "outputs": [],
   "source": [
    "# Now run the actual test\n",
    "# First image is 2023041100006\n",
    "az = 270.0\n",
    "for i in range(90):\n",
    "    az -= 2.0\n",
    "    coord=atcs.radec_from_azel(az=az, el=45)\n",
    "    await atcs.slew_icrs(coord.ra, coord.dec, rot=0.0, rot_type=RotType.Physical)\n",
    "    await latiss.take_darks(30.0, 1)\n"
   ]
  },
  {
   "cell_type": "code",
   "execution_count": null,
   "id": "3ea5225b",
   "metadata": {
    "execution": {
     "iopub.execute_input": "2023-04-04T15:51:59.816765Z",
     "iopub.status.busy": "2023-04-04T15:51:59.816472Z",
     "iopub.status.idle": "2023-04-04T15:52:24.242535Z",
     "shell.execute_reply": "2023-04-04T15:52:24.241971Z",
     "shell.execute_reply.started": "2023-04-04T15:51:59.816746Z"
    },
    "jupyter": {
     "outputs_hidden": true
    },
    "tags": []
   },
   "outputs": [],
   "source": [
    "# Stop tracking\n",
    "await atcs.stop_tracking()"
   ]
  },
  {
   "cell_type": "markdown",
   "id": "a435880e",
   "metadata": {},
   "source": [
    "## Shutdown all ATCS components"
   ]
  },
  {
   "cell_type": "code",
   "execution_count": null,
   "id": "723d22b0",
   "metadata": {
    "jupyter": {
     "outputs_hidden": true
    },
    "tags": []
   },
   "outputs": [],
   "source": [
    "await atcs.shutdown()"
   ]
  },
  {
   "cell_type": "markdown",
   "id": "621b5407",
   "metadata": {},
   "source": [
    "## Put LATISS in standby"
   ]
  },
  {
   "cell_type": "code",
   "execution_count": null,
   "id": "80517626",
   "metadata": {
    "tags": []
   },
   "outputs": [],
   "source": [
    "await latiss.standby()"
   ]
  },
  {
   "cell_type": "code",
   "execution_count": null,
   "id": "58009d48-693f-452a-b497-ccc6008c1975",
   "metadata": {},
   "outputs": [],
   "source": []
  }
 ],
 "metadata": {
  "kernelspec": {
   "display_name": "LSST",
   "language": "python",
   "name": "lsst"
  },
  "language_info": {
   "codemirror_mode": {
    "name": "ipython",
    "version": 3
   },
   "file_extension": ".py",
   "mimetype": "text/x-python",
   "name": "python",
   "nbconvert_exporter": "python",
   "pygments_lexer": "ipython3",
   "version": "3.10.9"
  }
 },
 "nbformat": 4,
 "nbformat_minor": 5
}
