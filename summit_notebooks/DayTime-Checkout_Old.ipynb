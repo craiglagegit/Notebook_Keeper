{
 "cells": [
  {
   "cell_type": "markdown",
   "id": "3dbf3c0c",
   "metadata": {},
   "source": [
    "# DayTime Checkout\n",
    "\n",
    "This notebook is intended to run a series of tests to ensure the system responds as expected.\n",
    "It begins with LATISS, but can also be used with the telescope ATCS components only."
   ]
  },
  {
   "cell_type": "code",
   "execution_count": null,
   "id": "b9b61b70",
   "metadata": {
    "execution": {
     "iopub.execute_input": "2024-06-06T13:09:41.413320Z",
     "iopub.status.busy": "2024-06-06T13:09:41.413054Z",
     "iopub.status.idle": "2024-06-06T13:09:50.884958Z",
     "shell.execute_reply": "2024-06-06T13:09:50.884006Z",
     "shell.execute_reply.started": "2024-06-06T13:09:41.413293Z"
    },
    "tags": []
   },
   "outputs": [],
   "source": [
    "import asyncio\n",
    "import time\n",
    "import os\n",
    "import numpy as np\n",
    "from astropy.time import Time\n",
    "\n",
    "from lsst.ts import salobj\n",
    "\n",
    "from lsst.ts.observatory.control.auxtel.atcs import ATCS\n",
    "from lsst.ts.observatory.control.auxtel.latiss import LATISS\n",
    "from lsst.ts.observatory.control.utils import RotType"
   ]
  },
  {
   "cell_type": "code",
   "execution_count": null,
   "id": "0755fd07",
   "metadata": {
    "execution": {
     "iopub.execute_input": "2024-06-06T13:09:50.887298Z",
     "iopub.status.busy": "2024-06-06T13:09:50.886293Z",
     "iopub.status.idle": "2024-06-06T13:09:50.892387Z",
     "shell.execute_reply": "2024-06-06T13:09:50.891553Z",
     "shell.execute_reply.started": "2024-06-06T13:09:50.887263Z"
    },
    "tags": []
   },
   "outputs": [],
   "source": [
    "logger = logging.getLogger(f\"Daytime Checkout {Time.now()} UT\")\n",
    "logger.level = logging.DEBUG"
   ]
  },
  {
   "cell_type": "code",
   "execution_count": null,
   "id": "e80647f9",
   "metadata": {
    "execution": {
     "iopub.execute_input": "2024-06-06T13:09:50.894077Z",
     "iopub.status.busy": "2024-06-06T13:09:50.893520Z",
     "iopub.status.idle": "2024-06-06T13:09:50.903926Z",
     "shell.execute_reply": "2024-06-06T13:09:50.903084Z",
     "shell.execute_reply.started": "2024-06-06T13:09:50.894047Z"
    },
    "tags": []
   },
   "outputs": [],
   "source": [
    "logger.info(os.environ[\"OSPL_URI\"])\n",
    "logger.info(os.environ[\"LSST_DDS_PARTITION_PREFIX\"])"
   ]
  },
  {
   "cell_type": "markdown",
   "id": "82b5ed46-aa63-43bb-a5f4-e7a41bd551ae",
   "metadata": {},
   "source": [
    "Helper function"
   ]
  },
  {
   "cell_type": "code",
   "execution_count": null,
   "id": "c1ec08aa-614e-40a7-b612-4062cd64ddd2",
   "metadata": {
    "execution": {
     "iopub.execute_input": "2024-06-06T13:09:53.764918Z",
     "iopub.status.busy": "2024-06-06T13:09:53.763708Z",
     "iopub.status.idle": "2024-06-06T13:09:53.769772Z",
     "shell.execute_reply": "2024-06-06T13:09:53.768797Z",
     "shell.execute_reply.started": "2024-06-06T13:09:53.764862Z"
    },
    "tags": []
   },
   "outputs": [],
   "source": [
    "def check_evt_time(evt):\n",
    "    event_time = Time(evt.private_sndStamp, format=\"unix\", scale=\"tai\")\n",
    "    event_time.format = \"iso\"\n",
    "    event_time = event_time.utc\n",
    "    return event_time"
   ]
  },
  {
   "cell_type": "markdown",
   "id": "a9cd22ea",
   "metadata": {},
   "source": [
    "### Instantiate the control classes"
   ]
  },
  {
   "cell_type": "code",
   "execution_count": null,
   "id": "f651e5d9",
   "metadata": {
    "execution": {
     "iopub.execute_input": "2024-06-06T13:09:54.747805Z",
     "iopub.status.busy": "2024-06-06T13:09:54.747456Z",
     "iopub.status.idle": "2024-06-06T13:09:56.501311Z",
     "shell.execute_reply": "2024-06-06T13:09:56.500073Z",
     "shell.execute_reply.started": "2024-06-06T13:09:54.747777Z"
    },
    "tags": []
   },
   "outputs": [],
   "source": [
    "domain = salobj.Domain()\n",
    "atcs = ATCS(domain)\n",
    "latiss = LATISS(domain)\n",
    "await asyncio.gather(atcs.start_task, latiss.start_task)"
   ]
  },
  {
   "cell_type": "code",
   "execution_count": null,
   "id": "71eb0eb9-8a67-4821-90c5-b20fd1731676",
   "metadata": {},
   "outputs": [],
   "source": []
  },
  {
   "cell_type": "code",
   "execution_count": null,
   "id": "c8d02b7d-bb65-491c-9016-282609456080",
   "metadata": {},
   "outputs": [],
   "source": [
    "atspectrograph.cmd_changeFilter.set_start"
   ]
  },
  {
   "cell_type": "markdown",
   "id": "23e76b2b",
   "metadata": {
    "tags": []
   },
   "source": [
    "## Indicate if LATISS is part of the checkout"
   ]
  },
  {
   "cell_type": "code",
   "execution_count": null,
   "id": "1b482bc2",
   "metadata": {
    "tags": []
   },
   "outputs": [],
   "source": [
    "with_latiss=True"
   ]
  },
  {
   "cell_type": "markdown",
   "id": "50d3b4be",
   "metadata": {},
   "source": [
    "## Enable LATISS"
   ]
  },
  {
   "cell_type": "code",
   "execution_count": null,
   "id": "ab6d900c",
   "metadata": {
    "tags": []
   },
   "outputs": [],
   "source": [
    "if with_latiss:\n",
    "    await latiss.enable()"
   ]
  },
  {
   "cell_type": "markdown",
   "id": "f1db1274-31bf-4635-8e0a-09f2ab4cc3b7",
   "metadata": {},
   "source": [
    "## Check LATISS filters"
   ]
  },
  {
   "cell_type": "code",
   "execution_count": null,
   "id": "0e289471-165e-4f39-8e39-e2e1ef88288e",
   "metadata": {
    "execution": {
     "iopub.execute_input": "2024-05-14T19:54:34.065041Z",
     "iopub.status.busy": "2024-05-14T19:54:34.064468Z",
     "iopub.status.idle": "2024-05-14T19:54:34.112733Z",
     "shell.execute_reply": "2024-05-14T19:54:34.111959Z",
     "shell.execute_reply.started": "2024-05-14T19:54:34.065023Z"
    },
    "tags": []
   },
   "outputs": [],
   "source": [
    "available_setup = await latiss.get_available_instrument_setup()\n",
    "logger.info(f'\\n The available filters are {available_setup[0]} \\n and gratings are {available_setup[1]} ')"
   ]
  },
  {
   "cell_type": "code",
   "execution_count": null,
   "id": "8ee274bf-96ad-469a-972a-31c6dcb1c4ba",
   "metadata": {
    "execution": {
     "iopub.execute_input": "2024-01-31T16:41:32.730455Z",
     "iopub.status.busy": "2024-01-31T16:41:32.730075Z",
     "iopub.status.idle": "2024-01-31T16:41:32.737337Z",
     "shell.execute_reply": "2024-01-31T16:41:32.736314Z",
     "shell.execute_reply.started": "2024-01-31T16:41:32.730426Z"
    }
   },
   "outputs": [],
   "source": [
    "await latiss.get_available_instrument_setup()"
   ]
  },
  {
   "cell_type": "markdown",
   "id": "014ff42a-1d20-4a15-a145-3a59306459e2",
   "metadata": {
    "tags": []
   },
   "source": [
    "If ATCamera and/or ATOODS don't come up, see section `Quick Troubleshooting` for support commands. "
   ]
  },
  {
   "cell_type": "markdown",
   "id": "a85209e7",
   "metadata": {},
   "source": [
    "## LATISS image and ingestion verification\n",
    "\n",
    "### Bias verification"
   ]
  },
  {
   "cell_type": "code",
   "execution_count": null,
   "id": "034decba",
   "metadata": {
    "tags": []
   },
   "outputs": [],
   "source": [
    "if with_latiss:\n",
    "    latiss.rem.atoods.evt_imageInOODS.flush()\n",
    "    await latiss.take_bias(nbias=5)\n",
    "    ingest_event = await latiss.rem.atoods.evt_imageInOODS.next(flush=False, timeout=10)\n",
    "    ingest_event_time = check_evt_time(ingest_event)\n",
    "    logger.info(f'The last ingested image was \\n \\t {ingest_event.obsid} at {ingest_event_time} UT')\n",
    "    assert ingest_event.statusCode == 0, 'Ingestion was not successful!'"
   ]
  },
  {
   "cell_type": "code",
   "execution_count": null,
   "id": "ba3ab954-916d-4a33-8b7f-6eef6897a43d",
   "metadata": {
    "tags": []
   },
   "outputs": [],
   "source": [
    "await latiss.take_bias(nbias=5)"
   ]
  },
  {
   "cell_type": "code",
   "execution_count": null,
   "id": "986c9834-2800-4734-852d-04a80a6b50d7",
   "metadata": {
    "tags": []
   },
   "outputs": [],
   "source": [
    "await latiss.take_darks(30.0, ndarks=20)"
   ]
  },
  {
   "cell_type": "code",
   "execution_count": null,
   "id": "c640e61c-e290-47b9-b8b4-424facf45e3f",
   "metadata": {
    "tags": []
   },
   "outputs": [],
   "source": [
    "await latiss.setup_instrument(filter='SDSSg_65mm', grating='empty_1')"
   ]
  },
  {
   "cell_type": "code",
   "execution_count": null,
   "id": "e2fc0e0a-f8b9-480a-8f52-55d39ad808d8",
   "metadata": {
    "tags": []
   },
   "outputs": [],
   "source": [
    "await latiss.take_flats(10.0, nflats=1)"
   ]
  },
  {
   "cell_type": "code",
   "execution_count": null,
   "id": "3f486c98-c204-45d2-bcc0-aa646f19955f",
   "metadata": {
    "tags": []
   },
   "outputs": [],
   "source": [
    "# Now take PTC sequence\n",
    "for i in range(15,25):\n",
    "    expTime = 2.0 * i\n",
    "    await latiss.take_flats(expTime, nflats=2)\n",
    "    "
   ]
  },
  {
   "cell_type": "markdown",
   "id": "f32825fe",
   "metadata": {},
   "source": [
    "Check that the bias pops up in the monitor (https://roundtable.lsst.codes/rubintv/monitor_current)\n",
    "If it fails, let Patrick or Merlin know\n",
    "\n",
    "You can check that it ingested at USDF with this link: ******* <b>Add when available<b>\n"
   ]
  },
  {
   "cell_type": "markdown",
   "id": "18af4378",
   "metadata": {
    "tags": []
   },
   "source": [
    "### Engineering test frame verification\n",
    "This is analogous to a science frame"
   ]
  },
  {
   "cell_type": "markdown",
   "id": "416f0984-0a2e-4b14-ba4c-529a83ceb297",
   "metadata": {},
   "source": [
    "These are the filters and grating configurations available. "
   ]
  },
  {
   "cell_type": "code",
   "execution_count": null,
   "id": "530471f0-8a70-48c5-a69c-1f2e6631d955",
   "metadata": {
    "tags": []
   },
   "outputs": [],
   "source": [
    "available_setup = await latiss.get_available_instrument_setup()\n",
    "logger.info(f'\\n The available filters are {available_setup[0]} \\n and gratings are {available_setup[1]} ')"
   ]
  },
  {
   "cell_type": "code",
   "execution_count": null,
   "id": "ada8473a-f1b3-4bfd-a763-22bd100d4bbc",
   "metadata": {},
   "outputs": [],
   "source": [
    "await latiss.take_engtest(5, filter='empty_1',grating='holo4_003') "
   ]
  },
  {
   "cell_type": "code",
   "execution_count": null,
   "id": "06cc6cd4-c5f8-4322-9ac5-4f33467b333c",
   "metadata": {},
   "outputs": [],
   "source": [
    "await latiss.take_engtest(5, filter='empty_1',grating='ronchi170lpmm')"
   ]
  },
  {
   "cell_type": "code",
   "execution_count": null,
   "id": "14351293-af70-40bc-a309-ff9ad556eed3",
   "metadata": {},
   "outputs": [],
   "source": [
    "await latiss.take_engtest(5, filter='empty_1',grating='blue300lpmm_qn1')"
   ]
  },
  {
   "cell_type": "code",
   "execution_count": null,
   "id": "0c7c983b-b206-4003-aadb-7e0545a0b4f9",
   "metadata": {},
   "outputs": [],
   "source": [
    "await latiss.take_engtest(5, filter='empty_1',grating='empty_1')"
   ]
  },
  {
   "cell_type": "code",
   "execution_count": null,
   "id": "415322c5",
   "metadata": {
    "tags": []
   },
   "outputs": [],
   "source": [
    "if with_latiss:\n",
    "    latiss.rem.atoods.evt_imageInOODS.flush()\n",
    "    await latiss.take_engtest(5, filter='empty_1',grating='empty_1')\n",
    "    ingest_event = await latiss.rem.atoods.evt_imageInOODS.next(flush=False, timeout=10)\n",
    "    ingest_event_time = check_evt_time(ingest_event)\n",
    "    inst_setup = await latiss.get_setup()\n",
    "    logger.info(f'The last ingested image was \\n \\t {ingest_event.obsid} at {ingest_event_time.utc} UT \\n \\t with {inst_setup[0]} filter and {inst_setup[1]} grating ')\n",
    "    assert ingest_event.statusCode == 0, 'Ingestion was not successful!'"
   ]
  },
  {
   "cell_type": "markdown",
   "id": "6da39a4b",
   "metadata": {
    "tags": []
   },
   "source": [
    "## Enable ATCS"
   ]
  },
  {
   "cell_type": "code",
   "execution_count": null,
   "id": "b8820a7f",
   "metadata": {
    "tags": []
   },
   "outputs": [],
   "source": [
    "await atcs.enable()"
   ]
  },
  {
   "cell_type": "markdown",
   "id": "e1dc8c7d-1178-4986-8485-557cd3b0dfe4",
   "metadata": {},
   "source": [
    "If any of the ATCS CSCs failed to transition to enabled state with the above command, see `Quick Troubleshooting` section for more commands. "
   ]
  },
  {
   "cell_type": "markdown",
   "id": "f2c90358",
   "metadata": {},
   "source": [
    "## Pneumatics Functionality Verification"
   ]
  },
  {
   "cell_type": "markdown",
   "id": "34fec12f",
   "metadata": {},
   "source": [
    "Check ATPneumatics air pressure. "
   ]
  },
  {
   "cell_type": "code",
   "execution_count": null,
   "id": "39e586cb",
   "metadata": {
    "tags": []
   },
   "outputs": [],
   "source": [
    "await atcs.open_valves()\n",
    "pressure = await atcs.rem.atpneumatics.tel_mainAirSourcePressure.next(flush=True, timeout=5)\n",
    "if pressure.pressure > 300000:\n",
    "    logger.info(f'Air pressure is {pressure.pressure:0.0f} Pascals, which is fine.')\n",
    "else:\n",
    "    raise AssertionError(f'Air pressure is {pressure.pressure}, which is too low. It needs to be between ~275790 and ~413000 Pascals (40 and 60 PSI). \\n Check that compressor and dryer are running. Then check that the regulator inside the pier is set correctly. ')"
   ]
  },
  {
   "cell_type": "markdown",
   "id": "fe8a839f",
   "metadata": {},
   "source": [
    "Turn on ATAOS correction(s), without spectrograph (if the tests were skipped above).<br>\n",
    "Note there is a race condition in the ATPneumatics that might result in this failing, so you'll have to run in twice"
   ]
  },
  {
   "cell_type": "code",
   "execution_count": null,
   "id": "81d8e8f7",
   "metadata": {
    "tags": []
   },
   "outputs": [],
   "source": [
    "cmd = await atcs.rem.ataos.cmd_enableCorrection.set_start(m1=True, hexapod=True, atspectrograph=with_latiss)\n",
    "cmd_time = check_evt_time(cmd)\n",
    "logger.info(f'ATAOS corrections enabled -- {cmd.result} at {cmd_time} UT')"
   ]
  },
  {
   "cell_type": "code",
   "execution_count": null,
   "id": "81b3f544",
   "metadata": {
    "tags": []
   },
   "outputs": [],
   "source": [
    "m1_pressure = await atcs.rem.atpneumatics.tel_m1AirPressure.aget(timeout=5)\n",
    "logger.info(f'M1 Air pressure with enabled ATAOS corrections is {m1_pressure.pressure:0.0f} Pascals')"
   ]
  },
  {
   "cell_type": "markdown",
   "id": "963fda08",
   "metadata": {},
   "source": [
    "Turn off ATAOS correction(s), without spectrograph (if the tests were skipped above)"
   ]
  },
  {
   "cell_type": "code",
   "execution_count": null,
   "id": "c4d7b436",
   "metadata": {
    "tags": []
   },
   "outputs": [],
   "source": [
    "cmd = await atcs.rem.ataos.cmd_disableCorrection.set_start(m1=True, hexapod=True, atspectrograph=with_latiss)\n",
    "cmd_time = check_evt_time(cmd)\n",
    "logger.info(f'Corrections disabled -- {cmd.result} at {cmd_time} UT')"
   ]
  },
  {
   "cell_type": "markdown",
   "id": "4b478432",
   "metadata": {},
   "source": [
    "Lower mirror back on hardpoints"
   ]
  },
  {
   "cell_type": "code",
   "execution_count": null,
   "id": "6813e58c",
   "metadata": {
    "tags": []
   },
   "outputs": [],
   "source": [
    "cmd = await atcs.rem.atpneumatics.cmd_m1SetPressure.set_start(pressure=0)\n",
    "m1_pressure = await atcs.rem.atpneumatics.tel_m1AirPressure.aget(timeout=5)\n",
    "logger.info(f'M1 air pressure when lowered back on hardpoints is {m1_pressure.pressure:0.0f} Pascals')"
   ]
  },
  {
   "cell_type": "markdown",
   "id": "336b109b",
   "metadata": {},
   "source": [
    "Turn on ATAOS correction(s), without spectrograph (if the tests were skipped above). <br>\n",
    "This should not ever fail."
   ]
  },
  {
   "cell_type": "code",
   "execution_count": null,
   "id": "c170ff2b",
   "metadata": {
    "tags": []
   },
   "outputs": [],
   "source": [
    "cmd = await atcs.rem.ataos.cmd_enableCorrection.set_start(m1=True, hexapod=True, atspectrograph=with_latiss)\n",
    "cmd_time = check_evt_time(cmd)\n",
    "logger.info(f'ATAOS corrections enabled -- {cmd.result} at {cmd_time} UT')"
   ]
  },
  {
   "cell_type": "markdown",
   "id": "294e5f91",
   "metadata": {},
   "source": [
    "## Start Telescope testing"
   ]
  },
  {
   "cell_type": "markdown",
   "id": "a0631baa",
   "metadata": {},
   "source": [
    "Turn off dome following\n",
    "\n",
    "The commands below will put the telescope in positionn for the new dome flat illuminator."
   ]
  },
  {
   "cell_type": "code",
   "execution_count": null,
   "id": "7761429f",
   "metadata": {
    "execution": {
     "iopub.execute_input": "2024-02-13T13:15:18.114330Z",
     "iopub.status.busy": "2024-02-13T13:15:18.113953Z",
     "iopub.status.idle": "2024-02-13T13:15:18.120584Z",
     "shell.execute_reply": "2024-02-13T13:15:18.119617Z",
     "shell.execute_reply.started": "2024-02-13T13:15:18.114299Z"
    },
    "tags": []
   },
   "outputs": [],
   "source": [
    "await atcs.disable_dome_following()"
   ]
  },
  {
   "cell_type": "code",
   "execution_count": null,
   "id": "277ac5db-6065-46f3-a1eb-3488d14fbd32",
   "metadata": {
    "execution": {
     "iopub.execute_input": "2024-02-13T13:15:42.833182Z",
     "iopub.status.busy": "2024-02-13T13:15:42.832801Z",
     "iopub.status.idle": "2024-02-13T13:16:52.500036Z",
     "shell.execute_reply": "2024-02-13T13:16:52.499064Z",
     "shell.execute_reply.started": "2024-02-13T13:15:42.833153Z"
    },
    "jupyter": {
     "outputs_hidden": true
    }
   },
   "outputs": [],
   "source": [
    "await atcs.point_azel(az=90, el=20, rot_tel=0)"
   ]
  },
  {
   "cell_type": "code",
   "execution_count": null,
   "id": "d0fbff09-db9e-4094-a544-c702ab8b47c4",
   "metadata": {
    "execution": {
     "iopub.execute_input": "2023-10-04T13:31:15.844246Z",
     "iopub.status.busy": "2023-10-04T13:31:15.843843Z",
     "iopub.status.idle": "2023-10-04T13:31:15.850469Z",
     "shell.execute_reply": "2023-10-04T13:31:15.849451Z",
     "shell.execute_reply.started": "2023-10-04T13:31:15.844217Z"
    },
    "tags": []
   },
   "outputs": [],
   "source": [
    "await atcs.enable_dome_following()"
   ]
  },
  {
   "cell_type": "code",
   "execution_count": null,
   "id": "e497d648-afd9-4541-b9a5-cb7eeb78c3a6",
   "metadata": {
    "execution": {
     "iopub.execute_input": "2023-12-07T13:51:34.834889Z",
     "iopub.status.busy": "2023-12-07T13:51:34.834357Z",
     "iopub.status.idle": "2023-12-07T13:52:19.890825Z",
     "shell.execute_reply": "2023-12-07T13:52:19.890011Z",
     "shell.execute_reply.started": "2023-12-07T13:51:34.834859Z"
    },
    "tags": []
   },
   "outputs": [],
   "source": [
    "await atcs.slew_dome_to(180.0)"
   ]
  },
  {
   "cell_type": "markdown",
   "id": "56aa867e",
   "metadata": {},
   "source": [
    "### Test Point AzEl"
   ]
  },
  {
   "cell_type": "code",
   "execution_count": null,
   "id": "564a0327-11bb-4f6d-9848-07237e9bef2f",
   "metadata": {
    "execution": {
     "iopub.execute_input": "2023-11-07T17:41:02.578678Z",
     "iopub.status.busy": "2023-11-07T17:41:02.578231Z",
     "iopub.status.idle": "2023-11-07T17:41:20.446613Z",
     "shell.execute_reply": "2023-11-07T17:41:20.445654Z",
     "shell.execute_reply.started": "2023-11-07T17:41:02.578654Z"
    },
    "tags": []
   },
   "outputs": [],
   "source": [
    "start_az=20\n",
    "start_el=60.0\n",
    "start_rot=0\n",
    "await atcs.point_azel(az=start_az, el=start_el, rot_tel=start_rot)"
   ]
  },
  {
   "cell_type": "code",
   "execution_count": null,
   "id": "0f056863",
   "metadata": {
    "execution": {
     "iopub.execute_input": "2023-09-21T17:22:36.660111Z",
     "iopub.status.busy": "2023-09-21T17:22:36.659368Z",
     "iopub.status.idle": "2023-09-21T17:22:54.403021Z",
     "shell.execute_reply": "2023-09-21T17:22:54.401876Z",
     "shell.execute_reply.started": "2023-09-21T17:22:36.660075Z"
    },
    "tags": []
   },
   "outputs": [],
   "source": [
    "start_az=188.7\n",
    "start_el=39.0\n",
    "start_rot=0\n",
    "await atcs.point_azel(az=start_az, el=start_el, rot_tel=start_rot)"
   ]
  },
  {
   "cell_type": "code",
   "execution_count": null,
   "id": "b1f4fc66-3fba-4d57-ae9a-308cec9d7102",
   "metadata": {
    "execution": {
     "iopub.execute_input": "2023-09-21T20:32:33.901144Z",
     "iopub.status.busy": "2023-09-21T20:32:33.900775Z",
     "iopub.status.idle": "2023-09-21T20:33:33.498600Z",
     "shell.execute_reply": "2023-09-21T20:33:33.497698Z",
     "shell.execute_reply.started": "2023-09-21T20:32:33.901105Z"
    },
    "jupyter": {
     "outputs_hidden": true
    },
    "tags": []
   },
   "outputs": [],
   "source": [
    "start_az=110.0\n",
    "start_el=40.0\n",
    "start_rot=0\n",
    "await atcs.point_azel(az=start_az, el=start_el, rot_tel=start_rot)"
   ]
  },
  {
   "cell_type": "code",
   "execution_count": null,
   "id": "d012ef47-2305-4903-ad74-592778936786",
   "metadata": {
    "execution": {
     "iopub.execute_input": "2023-09-21T17:05:47.711223Z",
     "iopub.status.busy": "2023-09-21T17:05:47.710845Z",
     "iopub.status.idle": "2023-09-21T17:05:52.753583Z",
     "shell.execute_reply": "2023-09-21T17:05:52.752394Z",
     "shell.execute_reply.started": "2023-09-21T17:05:47.711194Z"
    },
    "tags": []
   },
   "outputs": [],
   "source": [
    "await atcs.rem.ataos.cmd_offset.set_start(z=-1.15)"
   ]
  },
  {
   "cell_type": "code",
   "execution_count": null,
   "id": "f0d30c38-ca7e-41ad-b568-2a95d76384f9",
   "metadata": {},
   "outputs": [],
   "source": []
  },
  {
   "cell_type": "code",
   "execution_count": null,
   "id": "ff414e04-4961-44ee-9089-994ead25db69",
   "metadata": {
    "tags": []
   },
   "outputs": [],
   "source": [
    "# SDSSr_65mm - 10 sec, OG550_65mm_1 - 4 sec, BG40_65mm_1 - 6 sec.\n",
    "\n",
    "await latiss.take_flats(10.0, 1, filter='SDSSg_65mm', grating='empty_1')"
   ]
  },
  {
   "cell_type": "code",
   "execution_count": null,
   "id": "8844f332-31d4-4dbf-97aa-6f4572cf0a17",
   "metadata": {},
   "outputs": [],
   "source": []
  },
  {
   "cell_type": "code",
   "execution_count": null,
   "id": "6cb21f01-0248-4433-a900-1956badb21a8",
   "metadata": {
    "tags": []
   },
   "outputs": [],
   "source": [
    "start_az=180.7\n",
    "start_el=39.0\n",
    "start_rot=0\n",
    "coord=atcs.radec_from_azel(az=start_az, el=start_el)\n",
    "await atcs.slew_icrs(coord.ra, coord.dec, rot=start_rot, stop_before_slew=False, rot_type=RotType.PhysicalSky)\n",
    "await latiss.take_engtest(5, filter='empty_1',grating='empty_1')"
   ]
  },
  {
   "cell_type": "code",
   "execution_count": null,
   "id": "3ea5225b",
   "metadata": {
    "tags": []
   },
   "outputs": [],
   "source": [
    "# Stop tracking\n",
    "await atcs.stop_tracking()"
   ]
  },
  {
   "cell_type": "markdown",
   "id": "1f48857b",
   "metadata": {},
   "source": [
    "### Test Sidereal tracking\n",
    "but do so starting from the same position"
   ]
  },
  {
   "cell_type": "code",
   "execution_count": null,
   "id": "5b01c5b0-af3b-4cc4-9232-06b1a0a4a962",
   "metadata": {
    "execution": {
     "iopub.execute_input": "2023-10-04T14:06:31.421550Z",
     "iopub.status.busy": "2023-10-04T14:06:31.420988Z",
     "iopub.status.idle": "2023-10-04T14:06:31.428112Z",
     "shell.execute_reply": "2023-10-04T14:06:31.427363Z",
     "shell.execute_reply.started": "2023-10-04T14:06:31.421506Z"
    },
    "tags": []
   },
   "outputs": [],
   "source": [
    "await atcs.enable_dome_following()"
   ]
  },
  {
   "cell_type": "code",
   "execution_count": null,
   "id": "10a4bfbd-9a34-4e6d-bedb-54719184983a",
   "metadata": {
    "execution": {
     "iopub.execute_input": "2023-10-04T14:22:36.268501Z",
     "iopub.status.busy": "2023-10-04T14:22:36.268108Z",
     "iopub.status.idle": "2023-10-04T14:22:36.273801Z",
     "shell.execute_reply": "2023-10-04T14:22:36.273089Z",
     "shell.execute_reply.started": "2023-10-04T14:22:36.268471Z"
    },
    "tags": []
   },
   "outputs": [],
   "source": [
    "await atcs.disable_dome_following()"
   ]
  },
  {
   "cell_type": "code",
   "execution_count": null,
   "id": "1e004cec",
   "metadata": {
    "tags": []
   },
   "outputs": [],
   "source": [
    "coord=atcs.radec_from_azel(az=start_az+5, el=start_el+5)\n",
    "await atcs.slew_icrs(coord.ra, coord.dec, rot=start_rot, stop_before_slew=False, rot_type=RotType.PhysicalSky)"
   ]
  },
  {
   "cell_type": "code",
   "execution_count": null,
   "id": "aebd7711-eab7-4962-8c3a-9f0318f5bd01",
   "metadata": {
    "tags": []
   },
   "outputs": [],
   "source": [
    "await latiss.take_engtest(5, filter='empty_1',grating='empty_1')"
   ]
  },
  {
   "cell_type": "code",
   "execution_count": null,
   "id": "13cb5e79",
   "metadata": {
    "tags": []
   },
   "outputs": [],
   "source": [
    "# Stop tracking\n",
    "await atcs.stop_tracking()"
   ]
  },
  {
   "cell_type": "markdown",
   "id": "592276fa",
   "metadata": {},
   "source": [
    "## Verify dome functions"
   ]
  },
  {
   "cell_type": "markdown",
   "id": "36fe77eb-d67c-4db6-9671-eef28a8568a2",
   "metadata": {},
   "source": [
    "Check that dome moves\n"
   ]
  },
  {
   "cell_type": "code",
   "execution_count": null,
   "id": "ae1a991c-721c-41f4-8da6-64ada306ee1a",
   "metadata": {
    "execution": {
     "iopub.execute_input": "2024-02-01T14:08:31.028162Z",
     "iopub.status.busy": "2024-02-01T14:08:31.027764Z",
     "iopub.status.idle": "2024-02-01T14:11:54.798470Z",
     "shell.execute_reply": "2024-02-01T14:11:54.797600Z",
     "shell.execute_reply.started": "2024-02-01T14:08:31.028134Z"
    }
   },
   "outputs": [],
   "source": [
    "await atcs.close_dome()"
   ]
  },
  {
   "cell_type": "code",
   "execution_count": null,
   "id": "3e905d78-9327-41b9-8a67-bfd4ab5065e2",
   "metadata": {
    "execution": {
     "iopub.execute_input": "2024-02-01T13:58:37.727448Z",
     "iopub.status.busy": "2024-02-01T13:58:37.727072Z",
     "iopub.status.idle": "2024-02-01T14:06:59.444325Z",
     "shell.execute_reply": "2024-02-01T14:06:59.443384Z",
     "shell.execute_reply.started": "2024-02-01T13:58:37.727419Z"
    },
    "jupyter": {
     "outputs_hidden": true
    }
   },
   "outputs": [],
   "source": [
    "await atcs.open_dome_shutter()"
   ]
  },
  {
   "cell_type": "code",
   "execution_count": null,
   "id": "610d0bbb-25b1-4620-b0b9-b189b380953f",
   "metadata": {
    "execution": {
     "iopub.execute_input": "2024-06-06T13:40:18.501988Z",
     "iopub.status.busy": "2024-06-06T13:40:18.501574Z",
     "iopub.status.idle": "2024-06-06T13:40:18.508206Z",
     "shell.execute_reply": "2024-06-06T13:40:18.507387Z",
     "shell.execute_reply.started": "2024-06-06T13:40:18.501958Z"
    }
   },
   "outputs": [],
   "source": [
    "await atcs.stop_dome()"
   ]
  },
  {
   "cell_type": "code",
   "execution_count": null,
   "id": "09b6111c-f32b-47c5-8e39-78653f84245b",
   "metadata": {
    "execution": {
     "iopub.execute_input": "2023-10-04T14:07:50.274247Z",
     "iopub.status.busy": "2023-10-04T14:07:50.273921Z",
     "iopub.status.idle": "2023-10-04T14:08:23.339187Z",
     "shell.execute_reply": "2023-10-04T14:08:23.338222Z",
     "shell.execute_reply.started": "2023-10-04T14:07:50.274232Z"
    },
    "tags": []
   },
   "outputs": [],
   "source": [
    "await atcs.slew_dome_to(80.0)"
   ]
  },
  {
   "cell_type": "code",
   "execution_count": null,
   "id": "d39afc9e-4986-42b4-8eda-449b46ff3c78",
   "metadata": {
    "tags": []
   },
   "outputs": [],
   "source": [
    "await atcs.home_dome(force=True)"
   ]
  },
  {
   "cell_type": "code",
   "execution_count": null,
   "id": "09fa95bb",
   "metadata": {
    "tags": []
   },
   "outputs": [],
   "source": [
    "dome_az = await atcs.rem.atdome.tel_position.next(flush=True,timeout=10)\n",
    "logger.info(f'Dome currently thinks it is at an azimuth position of {dome_az.azimuthPosition} degrees.\\n Note the dome may not be properly homed at this time')"
   ]
  },
  {
   "cell_type": "code",
   "execution_count": null,
   "id": "2d2fa038-38f0-4437-8a14-bec5372542e3",
   "metadata": {
    "tags": []
   },
   "outputs": [],
   "source": [
    "d_az=15\n",
    "await atcs.rem.atdome.cmd_moveAzimuth.set_start(azimuth=dome_az.azimuthPosition+d_az)\n",
    "dome_az = await atcs.rem.atdome.tel_position.next(flush=True,timeout=10)\n",
    "logger.info(f'After the commanded {d_az} degrees motion, the dome is at an azimuth position of {dome_az.azimuthPosition} degrees')"
   ]
  },
  {
   "cell_type": "markdown",
   "id": "ee6c0c67-41a2-41df-bbc8-ded1ddc2f22b",
   "metadata": {},
   "source": [
    "## Prepare telescope and dome for flatfield"
   ]
  },
  {
   "cell_type": "markdown",
   "id": "a75cb281",
   "metadata": {},
   "source": [
    "### Setup telescope to run the \"prepare for flats\" script so it maximizes the internal functionality of the script"
   ]
  },
  {
   "cell_type": "code",
   "execution_count": null,
   "id": "cdb21409-856f-4619-949b-a169cf213875",
   "metadata": {
    "execution": {
     "iopub.execute_input": "2023-09-21T20:25:35.595318Z",
     "iopub.status.busy": "2023-09-21T20:25:35.594932Z",
     "iopub.status.idle": "2023-09-21T20:25:39.773336Z",
     "shell.execute_reply": "2023-09-21T20:25:39.772332Z",
     "shell.execute_reply.started": "2023-09-21T20:25:35.595288Z"
    },
    "tags": []
   },
   "outputs": [],
   "source": [
    "# Turn on ATAOS correction(s)\n",
    "cmd = await atcs.rem.ataos.cmd_enableCorrection.set_start(m1=True, hexapod=True, atspectrograph=True)\n",
    "#cmd_time = check_evt_time(cmd)\n",
    "#logger.info(f'Corrections disabled -- {cmd.result} at {cmd_time} UT')"
   ]
  },
  {
   "cell_type": "code",
   "execution_count": null,
   "id": "88c542db",
   "metadata": {
    "tags": []
   },
   "outputs": [],
   "source": [
    "# Turn off ATAOS correction(s)\n",
    "cmd = await atcs.rem.ataos.cmd_disableCorrection.set_start(m1=True, hexapod=True, atspectrograph=with_latiss)\n",
    "cmd_time = check_evt_time(cmd)\n",
    "logger.info(f'Corrections disabled -- {cmd.result} at {cmd_time} UT')"
   ]
  },
  {
   "cell_type": "code",
   "execution_count": null,
   "id": "9b67b94e-636a-4e01-9b61-a1892528a4f1",
   "metadata": {
    "tags": []
   },
   "outputs": [],
   "source": [
    "# Put mirror back on the hardpoints\n",
    "cmd = await atcs.rem.atpneumatics.cmd_m1SetPressure.set_start(pressure=0)\n",
    "m1_pressure = await atcs.rem.atpneumatics.tel_m1AirPressure.aget(timeout=5)\n",
    "logger.info(f'M1 air pressure when lowered back on hardpoints is {m1_pressure.pressure:0.0f} Pascals')"
   ]
  },
  {
   "cell_type": "code",
   "execution_count": null,
   "id": "d4f68b75",
   "metadata": {
    "tags": []
   },
   "outputs": [],
   "source": [
    "# Shut off the valves so we can test the pneumatics\n",
    "cmd = await atcs.rem.atpneumatics.cmd_closeMasterAirSupply.start()\n",
    "cmd = await atcs.rem.atpneumatics.cmd_closeInstrumentAirValve.start()\n",
    "cmd_time = check_evt_time(cmd)\n",
    "logger.info(f'Valves closed -- {cmd.result} at {cmd_time} UT')"
   ]
  },
  {
   "cell_type": "code",
   "execution_count": null,
   "id": "47583b32",
   "metadata": {
    "execution": {
     "iopub.execute_input": "2023-09-22T13:55:27.199725Z",
     "iopub.status.busy": "2023-09-22T13:55:27.199370Z",
     "iopub.status.idle": "2023-09-22T13:56:29.324781Z",
     "shell.execute_reply": "2023-09-22T13:56:29.324012Z",
     "shell.execute_reply.started": "2023-09-22T13:55:27.199697Z"
    },
    "jupyter": {
     "outputs_hidden": true
    },
    "tags": []
   },
   "outputs": [],
   "source": [
    "# Open mirror covers and vents\n",
    "# Note that there is currently a race conditions that might make this fail in the first attempt\n",
    "await atcs.open_m1_cover()\n",
    "await atcs.open_m1_vent()"
   ]
  },
  {
   "cell_type": "code",
   "execution_count": null,
   "id": "0ade8e23",
   "metadata": {
    "execution": {
     "iopub.execute_input": "2023-09-22T14:02:21.460817Z",
     "iopub.status.busy": "2023-09-22T14:02:21.460549Z",
     "iopub.status.idle": "2023-09-22T14:02:53.364274Z",
     "shell.execute_reply": "2023-09-22T14:02:53.363305Z",
     "shell.execute_reply.started": "2023-09-22T14:02:21.460791Z"
    },
    "tags": []
   },
   "outputs": [],
   "source": [
    "# Close mirror covers and vents\n",
    "await atcs.close_m1_cover()\n",
    "await atcs.close_m1_vent()"
   ]
  },
  {
   "cell_type": "markdown",
   "id": "91df4b4a",
   "metadata": {},
   "source": [
    "### Run prepare_for_flats\n",
    "First we home the dome to make sure it knows where it is."
   ]
  },
  {
   "cell_type": "code",
   "execution_count": null,
   "id": "cfb0758b-8e92-4794-981b-045d266f58f2",
   "metadata": {
    "tags": []
   },
   "outputs": [],
   "source": [
    "await atcs.home_dome()\n",
    "dome_az = await atcs.rem.atdome.tel_position.next(flush=True,timeout=10)\n",
    "logger.info(f'The dome is homed at an azimuth position of {dome_az.azimuthPosition} degrees.')"
   ]
  },
  {
   "cell_type": "code",
   "execution_count": null,
   "id": "7c77e81f",
   "metadata": {
    "tags": []
   },
   "outputs": [],
   "source": [
    "await atcs.prepare_for_flatfield()"
   ]
  },
  {
   "cell_type": "markdown",
   "id": "2bdfd62d",
   "metadata": {},
   "source": [
    "## Perform slew of Full Observatory\n",
    "This will also take test images"
   ]
  },
  {
   "cell_type": "markdown",
   "id": "b5bc6aa2",
   "metadata": {},
   "source": [
    "Now close the mirror cover just to keep things safe - this will move the telescope to a higher position (El~70)"
   ]
  },
  {
   "cell_type": "code",
   "execution_count": null,
   "id": "6d44a40a",
   "metadata": {
    "tags": []
   },
   "outputs": [],
   "source": [
    "await atcs.close_m1_cover()\n",
    "await atcs.close_m1_vent()"
   ]
  },
  {
   "cell_type": "markdown",
   "id": "434e8cef",
   "metadata": {},
   "source": [
    "Turn on dome following which will align the dome with the telescope"
   ]
  },
  {
   "cell_type": "code",
   "execution_count": null,
   "id": "32c92859",
   "metadata": {
    "tags": []
   },
   "outputs": [],
   "source": [
    "await atcs.enable_dome_following()"
   ]
  },
  {
   "cell_type": "markdown",
   "id": "74bd7c7b",
   "metadata": {},
   "source": [
    "Turn on ATAOS correction(s), without spectrograph (if the tests were skipped above). <br>\n",
    "Note there is a race condition in the ATPneumatics that might result in this failing. <br>\n",
    "If it fails, you'll have to run in twice"
   ]
  },
  {
   "cell_type": "code",
   "execution_count": null,
   "id": "bd858bbd",
   "metadata": {},
   "outputs": [],
   "source": [
    "cmd = await atcs.rem.ataos.cmd_enableCorrection.set_start(m1=True, hexapod=True, atspectrograph=with_latiss)\n",
    "cmd_time = check_evt_time(cmd)\n",
    "logger.info(f'ATAOS corrections enabled -- {cmd.result} at {cmd_time} UT')"
   ]
  },
  {
   "cell_type": "markdown",
   "id": "f827e464",
   "metadata": {},
   "source": [
    "Now start tracking a siderial target, but starting from the same position. <br>\n",
    "Then take a test image engineering test frame (analogous to a science frame) and make sure it lands"
   ]
  },
  {
   "cell_type": "code",
   "execution_count": null,
   "id": "77c7ed22",
   "metadata": {
    "tags": []
   },
   "outputs": [],
   "source": [
    "start_az=45\n",
    "start_el=45\n",
    "start_rot=0\n",
    "coord=atcs.radec_from_azel(az=start_az, el=start_el)\n",
    "await atcs.slew_icrs(coord.ra, coord.dec, rot=start_rot, stop_before_slew=False, rot_type=RotType.PhysicalSky)"
   ]
  },
  {
   "cell_type": "code",
   "execution_count": null,
   "id": "7e397391",
   "metadata": {},
   "outputs": [],
   "source": [
    "if with_latiss:\n",
    "    latiss.rem.atoods.evt_imageInOODS.flush()\n",
    "    await latiss.take_engtest(2, filter=3, grating=3)\n",
    "    ingest_event = await latiss.rem.atoods.evt_imageInOODS.next(flush=False, timeout=10)\n",
    "    ingest_event_time = check_evt_time(ingest_event)\n",
    "    inst_setup = await latiss.get_setup()\n",
    "    logger.info(f'The last ingested image was \\n \\t {ingest_event.obsid} at {ingest_event_time} UT \\n \\t with {inst_setup[0]} filter and {inst_setup[1]} grating ')\n",
    "    assert ingest_event.statusCode == 0, 'Ingestion was not successful!'"
   ]
  },
  {
   "cell_type": "markdown",
   "id": "382d7995",
   "metadata": {},
   "source": [
    "Pause here and let it track for at least a couple minutes"
   ]
  },
  {
   "cell_type": "markdown",
   "id": "1ca821a3",
   "metadata": {},
   "source": [
    "### Slew to target #2\n",
    "Then take an image with a different spectrograph setup."
   ]
  },
  {
   "cell_type": "code",
   "execution_count": null,
   "id": "41bedda3",
   "metadata": {
    "tags": []
   },
   "outputs": [],
   "source": [
    "start_az=0.0\n",
    "start_el=80\n",
    "start_rot=0\n",
    "coord=atcs.radec_from_azel(az=start_az, el=start_el)\n",
    "await atcs.slew_icrs(coord.ra, coord.dec, rot=start_rot, stop_before_slew=False, rot_type=RotType.PhysicalSky)"
   ]
  },
  {
   "cell_type": "code",
   "execution_count": null,
   "id": "2b28329f",
   "metadata": {},
   "outputs": [],
   "source": [
    "if with_latiss:\n",
    "    latiss.rem.atoods.evt_imageInOODS.flush()\n",
    "    await latiss.take_engtest(2, filter=0, grating=0)\n",
    "    iingest_event = await latiss.rem.atoods.evt_imageInOODS.next(flush=False, timeout=10)\n",
    "    ingest_event_time = check_evt_time(ingest_event)\n",
    "    inst_setup = await latiss.get_setup()\n",
    "    logger.info(f'The last ingested image was \\n \\t {ingest_event.obsid} at {ingest_event_time} UT \\n \\t with {inst_setup[0]} filter and {inst_setup[1]} grating ')\n",
    "    assert ingest_event.statusCode == 0, 'Ingestion was not successful!'"
   ]
  },
  {
   "cell_type": "markdown",
   "id": "85924833-229f-4874-b124-f40ffc320bdd",
   "metadata": {},
   "source": [
    "## M3 functionality "
   ]
  },
  {
   "cell_type": "markdown",
   "id": "1342903d-bde0-44ef-9c53-244ab84e90e1",
   "metadata": {},
   "source": [
    "M3 verification is not required every time this daytime checkout is run. Check the DayTime Checkout historical data to corroborate if this section is meant to run today.  \n",
    "\n",
    "Confirm M3 mirror rotation is operational and its valve is routinely exercized by running the following commands. \n",
    "\n",
    "First, move to the zenith where the Nasmyth motor can function with ease.  "
   ]
  },
  {
   "cell_type": "code",
   "execution_count": null,
   "id": "33670114-7406-469c-8272-3ece1fce9bed",
   "metadata": {
    "tags": []
   },
   "outputs": [],
   "source": [
    "start_az=.0\n",
    "start_el=80.0\n",
    "start_rot=0\n",
    "await atcs.point_azel(az=start_az, el=start_el, rot_tel=start_rot)"
   ]
  },
  {
   "cell_type": "markdown",
   "id": "0ce20ca9-469d-4fc3-a7ab-4ec9229264fd",
   "metadata": {},
   "source": [
    "Once the enumerations have been updated in the class M3ExitPort https://github.com/lsst-ts/ts_idl/blob/2add7a88bba16f2b13448c3ea6f78ef6d988ce83/python/lsst/ts/idl/enums/ATMCS.py#L34-L37, substitute the following five cells with: \n",
    "\n",
    "`from lsst.ts.idl.enums.ATMCS import M3ExitPort`\n",
    "Move to the Nasmyth1 port\n",
    "`await atcs.rem.atmcs.cmd_setInstrumentPort.set_start(port=M3ExitPort.NASMYTH1)`\n",
    "and back to Nasmyth 2\n",
    "`await atcs.rem.atmcs.cmd_setInstrumentPort.set_start(port=M3ExitPort.NASMYTH2)`"
   ]
  },
  {
   "cell_type": "code",
   "execution_count": null,
   "id": "bcc29ae1-b11f-4b9b-81b8-5ee9331f4c0c",
   "metadata": {},
   "outputs": [],
   "source": [
    "from lsst.ts.idl.enums.ATMCS import M3ExitPort"
   ]
  },
  {
   "cell_type": "code",
   "execution_count": null,
   "id": "1c4ab8c4-5252-45e5-af17-d345222d7bc3",
   "metadata": {
    "tags": []
   },
   "outputs": [],
   "source": [
    "await atcs.rem.atmcs.evt_m3PortSelected.aget()"
   ]
  },
  {
   "cell_type": "code",
   "execution_count": null,
   "id": "ce590743-6633-4a48-a963-69c065a2e543",
   "metadata": {},
   "outputs": [],
   "source": [
    "M3ExitPort = {'NASMYTH1': 1, 'NASMYTH2':2}"
   ]
  },
  {
   "cell_type": "markdown",
   "id": "71e75bf0-2157-4a65-9b18-8098a22abef9",
   "metadata": {},
   "source": [
    "Move to the Nasmyth1 port"
   ]
  },
  {
   "cell_type": "code",
   "execution_count": null,
   "id": "1a7f725c-9aed-474b-9c9b-ebe57305de5e",
   "metadata": {},
   "outputs": [],
   "source": [
    "await atcs.rem.atmcs.cmd_setInstrumentPort.set_start(port=M3ExitPort['NASMYTH1'])\n",
    "m3 = await atcs.rem.atmcs.evt_m3PortSelected.aget()\n",
    "m3_time = check_evt_time(m3)\n",
    "logger.info(f'M3 Port selected -- {m3.selected} at {m3_time} UT')"
   ]
  },
  {
   "cell_type": "markdown",
   "id": "e8cf7f7b-5f61-4dee-95e9-39c0365b84ae",
   "metadata": {},
   "source": [
    "and back to Nasmyth 2"
   ]
  },
  {
   "cell_type": "code",
   "execution_count": null,
   "id": "19069d0e-8402-4a16-9809-ad77c53cc92e",
   "metadata": {},
   "outputs": [],
   "source": [
    "await atcs.rem.atmcs.cmd_setInstrumentPort.set_start(port=M3ExitPort['NASMYTH2'])\n",
    "m3 = await atcs.rem.atmcs.evt_m3PortSelected.aget()\n",
    "m3_time = check_evt_time(m3)\n",
    "logger.info(f'M3 Port selected -- {m3.selected} at {m3_time} UT')"
   ]
  },
  {
   "cell_type": "markdown",
   "id": "a435880e",
   "metadata": {},
   "source": [
    "## Shutdown all ATCS components"
   ]
  },
  {
   "cell_type": "code",
   "execution_count": null,
   "id": "723d22b0",
   "metadata": {
    "tags": []
   },
   "outputs": [],
   "source": [
    "await atcs.shutdown()"
   ]
  },
  {
   "cell_type": "code",
   "execution_count": null,
   "id": "5468d87c-fb1f-4d8a-83b1-13f8744b0b26",
   "metadata": {
    "tags": []
   },
   "outputs": [],
   "source": [
    "await atcs.standby()"
   ]
  },
  {
   "cell_type": "markdown",
   "id": "621b5407",
   "metadata": {},
   "source": [
    "## Put LATISS in standby"
   ]
  },
  {
   "cell_type": "code",
   "execution_count": null,
   "id": "80517626",
   "metadata": {
    "tags": []
   },
   "outputs": [],
   "source": [
    "await latiss.standby()"
   ]
  },
  {
   "cell_type": "markdown",
   "id": "f2427c84-de49-43ca-ae1e-3a06afbdc1fd",
   "metadata": {},
   "source": [
    "# Quick Troubleshooting"
   ]
  },
  {
   "cell_type": "markdown",
   "id": "0ba5ab6c-b5d6-45c1-a9b4-66d8f9671a08",
   "metadata": {},
   "source": [
    "## LATISS CSCs failed to transition to ENABLED state. \n",
    "The current DDS configuration results in history being lost when CSCs are restarted and/or a small network outage occurs. If this happens, then to receive the summaryState event, which is required by salobj.get_summary_state (and used extensively in the atcs), it is necessary to manually change the state of a CSC. The commands below can be used to perform this action.\n",
    "\n",
    "A new DDS configuration is now ready to be tested and will hopefully be released in the near future."
   ]
  },
  {
   "cell_type": "markdown",
   "id": "5233ad88-d7eb-497c-8119-aabb86f4e37c",
   "metadata": {},
   "source": [
    "### ATOODs didn't come up"
   ]
  },
  {
   "cell_type": "code",
   "execution_count": null,
   "id": "398422df-64ad-4da9-80c5-df4e02626141",
   "metadata": {
    "tags": []
   },
   "outputs": [],
   "source": [
    "tmp=await latiss.rem.atoods.cmd_start.set_start(timeout=10)\n",
    "print(tmp)"
   ]
  },
  {
   "cell_type": "code",
   "execution_count": null,
   "id": "728bcdae-3e1e-4651-9519-50ec1fde129b",
   "metadata": {
    "tags": []
   },
   "outputs": [],
   "source": [
    "await salobj.set_summary_state(latiss.rem.atoods, salobj.State.STANDBY)"
   ]
  },
  {
   "cell_type": "code",
   "execution_count": null,
   "id": "aa223e1a-5501-4489-ae3e-f2b8ba523153",
   "metadata": {
    "tags": []
   },
   "outputs": [],
   "source": [
    "await salobj.set_summary_state(latiss.rem.atoods, salobj.State.ENABLED)"
   ]
  },
  {
   "cell_type": "markdown",
   "id": "fae0e74f-d0c0-49d0-9bbe-d4ebf38a93c9",
   "metadata": {},
   "source": [
    "### ATSpectrograph didn't come up"
   ]
  },
  {
   "cell_type": "code",
   "execution_count": null,
   "id": "9518a12e-ee3c-4eb6-a8ab-e23ff1b42bce",
   "metadata": {
    "tags": []
   },
   "outputs": [],
   "source": [
    "tmp=await latiss.rem.atspectrograph.cmd_start.set_start(timeout=10)\n",
    "print(tmp)"
   ]
  },
  {
   "cell_type": "code",
   "execution_count": null,
   "id": "73919e71-40d1-469a-805f-f80464d88e67",
   "metadata": {
    "tags": []
   },
   "outputs": [],
   "source": [
    "await salobj.set_summary_state(latiss.rem.atspectrograph, salobj.State.STANDBY)"
   ]
  },
  {
   "cell_type": "code",
   "execution_count": null,
   "id": "a04131e0-7cc1-4741-a8e1-af780d7a2f8e",
   "metadata": {
    "tags": []
   },
   "outputs": [],
   "source": [
    "await salobj.set_summary_state(latiss.rem.atspectrograph, salobj.State.ENABLED)"
   ]
  },
  {
   "cell_type": "raw",
   "id": "7fb68aa4-373a-434a-b91b-bb229acb7d61",
   "metadata": {},
   "source": []
  },
  {
   "cell_type": "markdown",
   "id": "459400af-6568-4438-a6b0-7f8fd15e491b",
   "metadata": {},
   "source": [
    "### ATHeaderService didn't come up"
   ]
  },
  {
   "cell_type": "code",
   "execution_count": null,
   "id": "2a617a2b-70fa-495f-90b1-e5ba3714ac81",
   "metadata": {
    "tags": []
   },
   "outputs": [],
   "source": [
    "tmp=await latiss.rem.atheaderservice.cmd_start.set_start(timeout=10)\n",
    "print(tmp)"
   ]
  },
  {
   "cell_type": "code",
   "execution_count": null,
   "id": "59cd58c8-f133-404a-81a5-8a98b6e0bfa4",
   "metadata": {
    "tags": []
   },
   "outputs": [],
   "source": [
    "await salobj.set_summary_state(latiss.rem.atheaderservice, salobj.State.ENABLED)"
   ]
  },
  {
   "cell_type": "code",
   "execution_count": null,
   "id": "7bb6f725-3e91-4d51-ae02-d4acca2e7c99",
   "metadata": {
    "jupyter": {
     "source_hidden": true
    },
    "tags": []
   },
   "outputs": [],
   "source": [
    "await salobj.set_summary_state(latiss.rem.atoods, salobj.State.ENABLED)"
   ]
  },
  {
   "cell_type": "markdown",
   "id": "1475a0f5-49a8-4727-aa9e-520301f9ee53",
   "metadata": {},
   "source": [
    "### ATCamera didn't come up"
   ]
  },
  {
   "cell_type": "code",
   "execution_count": null,
   "id": "36387d0e-d027-4872-a313-c3bccf63af35",
   "metadata": {
    "tags": []
   },
   "outputs": [],
   "source": [
    "tmp=await latiss.rem.atcamera.cmd_start.set_start(timeout=10)\n",
    "print(tmp)"
   ]
  },
  {
   "cell_type": "code",
   "execution_count": null,
   "id": "34ce130f-e542-4d19-9aea-55aa04f929d6",
   "metadata": {
    "tags": []
   },
   "outputs": [],
   "source": [
    "await salobj.set_summary_state(latiss.rem.atcamera, salobj.State.STANDBY)"
   ]
  },
  {
   "cell_type": "code",
   "execution_count": null,
   "id": "b255cf42-0d89-4de9-ba51-debe4ff32ca5",
   "metadata": {
    "tags": []
   },
   "outputs": [],
   "source": [
    "await salobj.set_summary_state(latiss.rem.atcamera, salobj.State.ENABLED)"
   ]
  },
  {
   "cell_type": "markdown",
   "id": "555017ce-70b9-4452-ac33-bad347d263d8",
   "metadata": {},
   "source": [
    "## ATCS CSCs failed to transition to ENABLED state. "
   ]
  },
  {
   "cell_type": "markdown",
   "id": "879c2bff-8434-4fbf-b0be-d1c202d29659",
   "metadata": {},
   "source": [
    "### ATHexapod "
   ]
  },
  {
   "cell_type": "code",
   "execution_count": null,
   "id": "3640d622-8a81-4aac-9779-0ae167b01404",
   "metadata": {
    "tags": []
   },
   "outputs": [],
   "source": [
    "tmp=await atcs.rem.athexapod.cmd_start.set_start(timeout=10)\n",
    "print(tmp)"
   ]
  },
  {
   "cell_type": "code",
   "execution_count": null,
   "id": "9eba1435-7d92-422e-9c33-1ae4fe8edfb1",
   "metadata": {
    "tags": []
   },
   "outputs": [],
   "source": [
    "await salobj.set_summary_state(atcs.rem.athexapod, salobj.State.STANDBY)"
   ]
  },
  {
   "cell_type": "markdown",
   "id": "6c72cd53-fe30-491b-8033-3b37d2c71bfd",
   "metadata": {},
   "source": [
    "### ATPneumatics"
   ]
  },
  {
   "cell_type": "code",
   "execution_count": null,
   "id": "9832da12-1188-4a7d-a283-f758ee8a3098",
   "metadata": {
    "tags": []
   },
   "outputs": [],
   "source": [
    "tmp=await atcs.rem.atpneumatics.cmd_start.set_start(timeout=10)\n",
    "print(tmp)"
   ]
  },
  {
   "cell_type": "code",
   "execution_count": null,
   "id": "b3979e9d-30f6-44f1-8d8f-9725aa645167",
   "metadata": {
    "tags": []
   },
   "outputs": [],
   "source": [
    "await salobj.set_summary_state(atcs.rem.atpneumatics, salobj.State.STANDBY)"
   ]
  },
  {
   "cell_type": "markdown",
   "id": "06ff0cce-8c35-4a8e-a35d-f162e53e0f2a",
   "metadata": {},
   "source": [
    "### ATPtg "
   ]
  },
  {
   "cell_type": "code",
   "execution_count": null,
   "id": "9049a9fe-0b39-4b77-a9e3-683f7a06a037",
   "metadata": {
    "tags": []
   },
   "outputs": [],
   "source": [
    "tmp=await atcs.rem.atptg.cmd_start.set_start(timeout=10)\n",
    "print(tmp)"
   ]
  },
  {
   "cell_type": "code",
   "execution_count": null,
   "id": "7da2c93c-dd9e-44ee-b261-fe9362aab128",
   "metadata": {
    "tags": []
   },
   "outputs": [],
   "source": [
    "await salobj.set_summary_state(atcs.rem.atptg, salobj.State.STANDBY)"
   ]
  },
  {
   "cell_type": "code",
   "execution_count": null,
   "id": "712b2813-5454-4e10-b4dd-cdc6531b5be2",
   "metadata": {
    "tags": []
   },
   "outputs": [],
   "source": [
    "await salobj.set_summary_state(atcs.rem.atptg, salobj.State.ENABLED)"
   ]
  },
  {
   "cell_type": "markdown",
   "id": "d5946409-e5cb-466c-8f8d-c8571e919e59",
   "metadata": {},
   "source": [
    "### ATMCS "
   ]
  },
  {
   "cell_type": "code",
   "execution_count": null,
   "id": "5a44eea8-a3c5-4d37-be19-fb3790f59883",
   "metadata": {
    "tags": []
   },
   "outputs": [],
   "source": [
    "tmp=await atcs.rem.atmcs.cmd_start.set_start(timeout=10)\n",
    "print(tmp)"
   ]
  },
  {
   "cell_type": "code",
   "execution_count": null,
   "id": "88bdee3c-30c4-403b-ad4e-445c91dfbeb9",
   "metadata": {
    "tags": []
   },
   "outputs": [],
   "source": [
    "await salobj.set_summary_state(atcs.rem.atmcs, salobj.State.STANDBY)"
   ]
  },
  {
   "cell_type": "markdown",
   "id": "3cfffae4-b5fd-444d-bce7-9026dbbe186c",
   "metadata": {},
   "source": [
    "### Nov 3, 2022 - taking calibration images with new configuration."
   ]
  },
  {
   "cell_type": "code",
   "execution_count": null,
   "id": "c0950b3c-0941-49dc-918f-4f52c8431d5c",
   "metadata": {},
   "outputs": [],
   "source": [
    "await latiss.take_bias(nbias=1)"
   ]
  },
  {
   "cell_type": "code",
   "execution_count": null,
   "id": "8874ad2a-6a86-43bd-9075-efeb57d721b0",
   "metadata": {},
   "outputs": [],
   "source": [
    "await atcs.rem.atdome.cmd_openShutter.set_start()"
   ]
  },
  {
   "cell_type": "code",
   "execution_count": null,
   "id": "6a18cede-e3bf-4d6e-99ab-47b899ec6316",
   "metadata": {},
   "outputs": [],
   "source": [
    "await atcs.rem.atdome.cmd_closeShutter.set_start()"
   ]
  },
  {
   "cell_type": "code",
   "execution_count": null,
   "id": "2d617522-c752-447c-9227-7068ec1aa556",
   "metadata": {},
   "outputs": [],
   "source": []
  },
  {
   "cell_type": "code",
   "execution_count": null,
   "id": "8b912c3b-7492-47f6-a211-43b562246c3b",
   "metadata": {
    "tags": []
   },
   "outputs": [],
   "source": [
    "await atcs.rem.ataos.cmd_offset.set_start(z=+0.5)"
   ]
  },
  {
   "cell_type": "code",
   "execution_count": null,
   "id": "64d5c2bc-a889-43fd-959b-b271b51e5fa2",
   "metadata": {},
   "outputs": [],
   "source": [
    "await salobj.set_summary_state(atcs.rem.atdome, salobj.State.STANDBY)"
   ]
  },
  {
   "cell_type": "code",
   "execution_count": null,
   "id": "ba9d14b2-4d74-4d15-bf80-93eaef8babf1",
   "metadata": {},
   "outputs": [],
   "source": [
    "await salobj.set_summary_state(atcs.rem.atdometrajectory, salobj.State.STANDBY)"
   ]
  },
  {
   "cell_type": "code",
   "execution_count": null,
   "id": "6d33c975-ce6a-404c-871a-97294f8af57c",
   "metadata": {},
   "outputs": [],
   "source": [
    "await salobj.set_summary_state(atcs.rem.ataos, salobj.State.STANDBY)"
   ]
  },
  {
   "cell_type": "code",
   "execution_count": null,
   "id": "196e29ea-c9a0-479f-adef-96060d5bd2a0",
   "metadata": {
    "tags": []
   },
   "outputs": [],
   "source": [
    "await salobj.set_summary_state(atcs.rem.atpneumatics, salobj.State.STANDBY)"
   ]
  },
  {
   "cell_type": "code",
   "execution_count": null,
   "id": "6d32869c-df3f-4f87-89d9-67d85330bfb1",
   "metadata": {
    "tags": []
   },
   "outputs": [],
   "source": [
    "    tmp = \n",
    "print(tmp)"
   ]
  },
  {
   "cell_type": "code",
   "execution_count": null,
   "id": "e6a5aa12-df50-413c-a088-c8a4704a6bd8",
   "metadata": {
    "tags": []
   },
   "outputs": [],
   "source": [
    "await atcs.rem.atptg.cmd_offsetClear.start()"
   ]
  },
  {
   "cell_type": "code",
   "execution_count": null,
   "id": "4c07cd88-451e-480b-9dbd-ed3151fa6d82",
   "metadata": {
    "tags": []
   },
   "outputs": [],
   "source": [
    "#await atcs.rem.atdome.cmd_openShutter.set_start()"
   ]
  },
  {
   "cell_type": "code",
   "execution_count": null,
   "id": "0753014a-d53b-4b9b-8abc-5e6f0fece847",
   "metadata": {
    "tags": []
   },
   "outputs": [],
   "source": [
    "await atcs.open_dome_shutter()"
   ]
  },
  {
   "cell_type": "code",
   "execution_count": null,
   "id": "2b0cb4e7-e911-40c8-84c2-58141058a0d8",
   "metadata": {
    "tags": []
   },
   "outputs": [],
   "source": [
    "await atcs.close_dome()"
   ]
  },
  {
   "cell_type": "code",
   "execution_count": null,
   "id": "099b706c-fd3b-4423-8601-5ee2f77d258b",
   "metadata": {
    "tags": []
   },
   "outputs": [],
   "source": [
    "atcs.rem.atdome.cmd_moveAzimuth?"
   ]
  },
  {
   "cell_type": "code",
   "execution_count": null,
   "id": "ca6aa2df-bf3a-41e5-a2b2-c69828787b7d",
   "metadata": {
    "tags": []
   },
   "outputs": [],
   "source": [
    "await atcs.standby()"
   ]
  },
  {
   "cell_type": "code",
   "execution_count": null,
   "id": "30c9ce95-af84-4f3c-b4a8-e3f600602f9b",
   "metadata": {
    "execution": {
     "iopub.execute_input": "2023-09-21T13:41:35.533445Z",
     "iopub.status.busy": "2023-09-21T13:41:35.533038Z",
     "iopub.status.idle": "2023-09-21T13:41:35.591278Z",
     "shell.execute_reply": "2023-09-21T13:41:35.590326Z",
     "shell.execute_reply.started": "2023-09-21T13:41:35.533414Z"
    },
    "jupyter": {
     "outputs_hidden": true
    },
    "tags": []
   },
   "outputs": [],
   "source": [
    "atcs.find_target?"
   ]
  },
  {
   "cell_type": "code",
   "execution_count": null,
   "id": "e8d9bd80-c21e-403c-98cc-eef17d68c086",
   "metadata": {
    "execution": {
     "iopub.execute_input": "2023-09-22T04:31:52.864980Z",
     "iopub.status.busy": "2023-09-22T04:31:52.864476Z",
     "iopub.status.idle": "2023-09-22T04:31:58.269596Z",
     "shell.execute_reply": "2023-09-22T04:31:58.268770Z",
     "shell.execute_reply.started": "2023-09-22T04:31:52.864947Z"
    },
    "tags": []
   },
   "outputs": [],
   "source": [
    "await atcs.rem.ataos.cmd_enableCorrection.set_start(m1=True, hexapod=True, atspectrograph=True)"
   ]
  },
  {
   "cell_type": "code",
   "execution_count": null,
   "id": "92d7af0a-0b46-48ab-a64e-60ed520e5bd3",
   "metadata": {
    "execution": {
     "iopub.execute_input": "2023-09-21T23:31:41.638633Z",
     "iopub.status.busy": "2023-09-21T23:31:41.638273Z",
     "iopub.status.idle": "2023-09-21T23:31:41.714922Z",
     "shell.execute_reply": "2023-09-21T23:31:41.713918Z",
     "shell.execute_reply.started": "2023-09-21T23:31:41.638605Z"
    },
    "jupyter": {
     "outputs_hidden": true
    },
    "tags": []
   },
   "outputs": [],
   "source": [
    "await atcs.rem.ataos.cmd_resetOffset.set_start()"
   ]
  },
  {
   "cell_type": "code",
   "execution_count": null,
   "id": "502aeec8-12ab-407c-96bd-2e637b3067a5",
   "metadata": {
    "execution": {
     "iopub.execute_input": "2023-09-21T23:44:44.503854Z",
     "iopub.status.busy": "2023-09-21T23:44:44.503106Z",
     "iopub.status.idle": "2023-09-21T23:44:44.509834Z",
     "shell.execute_reply": "2023-09-21T23:44:44.509080Z",
     "shell.execute_reply.started": "2023-09-21T23:44:44.503822Z"
    },
    "jupyter": {
     "outputs_hidden": true
    },
    "tags": []
   },
   "outputs": [],
   "source": [
    "atcs.slew_to_planet?"
   ]
  },
  {
   "cell_type": "code",
   "execution_count": null,
   "id": "bda01323-97f4-46b2-bc6e-ea61a9e88bc7",
   "metadata": {
    "execution": {
     "iopub.execute_input": "2023-09-22T04:09:00.173278Z",
     "iopub.status.busy": "2023-09-22T04:09:00.172648Z",
     "iopub.status.idle": "2023-09-22T04:10:33.875093Z",
     "shell.execute_reply": "2023-09-22T04:10:33.874384Z",
     "shell.execute_reply.started": "2023-09-22T04:09:00.173245Z"
    },
    "jupyter": {
     "outputs_hidden": true
    },
    "tags": []
   },
   "outputs": [],
   "source": [
    "await atcs.slew_icrs(339.057, -46.514, rot=0.0, stop_before_slew=False, rot_type=RotType.PhysicalSky)"
   ]
  },
  {
   "cell_type": "code",
   "execution_count": null,
   "id": "190ecf98-8006-4cd7-83d4-1e9528dddc0e",
   "metadata": {
    "execution": {
     "iopub.execute_input": "2023-09-22T00:33:43.722834Z",
     "iopub.status.busy": "2023-09-22T00:33:43.722085Z",
     "iopub.status.idle": "2023-09-22T00:33:43.728462Z",
     "shell.execute_reply": "2023-09-22T00:33:43.727678Z",
     "shell.execute_reply.started": "2023-09-22T00:33:43.722802Z"
    },
    "tags": []
   },
   "outputs": [],
   "source": [
    "await atcs.disable_dome_following()"
   ]
  },
  {
   "cell_type": "code",
   "execution_count": null,
   "id": "b55d1528-0b24-4574-b53c-4056b51225ed",
   "metadata": {
    "execution": {
     "iopub.execute_input": "2023-09-22T00:38:25.947163Z",
     "iopub.status.busy": "2023-09-22T00:38:25.946788Z",
     "iopub.status.idle": "2023-09-22T00:38:25.953001Z",
     "shell.execute_reply": "2023-09-22T00:38:25.952243Z",
     "shell.execute_reply.started": "2023-09-22T00:38:25.947124Z"
    },
    "tags": []
   },
   "outputs": [],
   "source": [
    "await atcs.enable_dome_following()"
   ]
  },
  {
   "cell_type": "code",
   "execution_count": null,
   "id": "eb49bd3c-5f2f-4891-9031-85eafafffd18",
   "metadata": {
    "execution": {
     "iopub.execute_input": "2023-12-07T13:53:24.473650Z",
     "iopub.status.busy": "2023-12-07T13:53:24.472609Z",
     "iopub.status.idle": "2023-12-07T13:54:02.237965Z",
     "shell.execute_reply": "2023-12-07T13:54:02.237148Z",
     "shell.execute_reply.started": "2023-12-07T13:53:24.473607Z"
    },
    "tags": []
   },
   "outputs": [],
   "source": [
    "await atcs.slew_dome_to(260.0)"
   ]
  },
  {
   "cell_type": "code",
   "execution_count": null,
   "id": "9ed193bf-113f-4ca1-aaf8-85a6489846c5",
   "metadata": {
    "execution": {
     "iopub.execute_input": "2023-09-22T00:37:43.430245Z",
     "iopub.status.busy": "2023-09-22T00:37:43.429757Z",
     "iopub.status.idle": "2023-09-22T00:37:43.436642Z",
     "shell.execute_reply": "2023-09-22T00:37:43.435740Z",
     "shell.execute_reply.started": "2023-09-22T00:37:43.430215Z"
    },
    "tags": []
   },
   "outputs": [],
   "source": [
    "atcs.enable_dome_following?"
   ]
  },
  {
   "cell_type": "code",
   "execution_count": null,
   "id": "6a3c7b8c-b86c-45c7-a89e-cc4c2617ed96",
   "metadata": {
    "execution": {
     "iopub.execute_input": "2023-09-22T02:48:34.786661Z",
     "iopub.status.busy": "2023-09-22T02:48:34.786309Z",
     "iopub.status.idle": "2023-09-22T02:51:53.456097Z",
     "shell.execute_reply": "2023-09-22T02:51:53.455129Z",
     "shell.execute_reply.started": "2023-09-22T02:48:34.786632Z"
    },
    "jupyter": {
     "outputs_hidden": true
    },
    "tags": []
   },
   "outputs": [],
   "source": [
    "start_az=180.0\n",
    "start_el=74.0\n",
    "start_rot=0\n",
    "await atcs.point_azel(az=start_az, el=start_el, rot_tel=start_rot)"
   ]
  },
  {
   "cell_type": "code",
   "execution_count": null,
   "id": "81b4f1e7-10b8-4722-80e9-986b38d93023",
   "metadata": {
    "execution": {
     "iopub.execute_input": "2023-09-22T04:32:52.968426Z",
     "iopub.status.busy": "2023-09-22T04:32:52.968074Z",
     "iopub.status.idle": "2023-09-22T04:33:15.107709Z",
     "shell.execute_reply": "2023-09-22T04:33:15.106896Z",
     "shell.execute_reply.started": "2023-09-22T04:32:52.968400Z"
    },
    "tags": []
   },
   "outputs": [],
   "source": [
    "await atcs.rem.ataos.cmd_offset.set_start(z=-10)"
   ]
  },
  {
   "cell_type": "code",
   "execution_count": null,
   "id": "76c57957-4437-41ed-bd0c-90ec3b7fd31e",
   "metadata": {
    "execution": {
     "iopub.execute_input": "2023-12-07T13:59:03.850655Z",
     "iopub.status.busy": "2023-12-07T13:59:03.850172Z",
     "iopub.status.idle": "2023-12-07T14:02:21.067694Z",
     "shell.execute_reply": "2023-12-07T14:02:21.066849Z",
     "shell.execute_reply.started": "2023-12-07T13:59:03.850606Z"
    }
   },
   "outputs": [],
   "source": [
    "await atcs.close_dome()"
   ]
  },
  {
   "cell_type": "code",
   "execution_count": null,
   "id": "da067ac5-1205-4ddc-8152-0fbccd72b6dd",
   "metadata": {},
   "outputs": [],
   "source": [
    "atcs.disable_dome_following("
   ]
  },
  {
   "cell_type": "code",
   "execution_count": null,
   "id": "c803c1b9-d64a-4980-b391-6f3e4744c360",
   "metadata": {
    "execution": {
     "iopub.execute_input": "2024-02-15T18:54:29.437749Z",
     "iopub.status.busy": "2024-02-15T18:54:29.437313Z",
     "iopub.status.idle": "2024-02-15T18:54:29.484112Z",
     "shell.execute_reply": "2024-02-15T18:54:29.483273Z",
     "shell.execute_reply.started": "2024-02-15T18:54:29.437716Z"
    }
   },
   "outputs": [],
   "source": [
    "atcs.slew_object?"
   ]
  },
  {
   "cell_type": "code",
   "execution_count": null,
   "id": "f2f37bc6-df0b-4204-9eae-e0a79358083d",
   "metadata": {
    "execution": {
     "iopub.execute_input": "2024-02-15T18:58:43.917609Z",
     "iopub.status.busy": "2024-02-15T18:58:43.917044Z",
     "iopub.status.idle": "2024-02-15T18:58:43.925321Z",
     "shell.execute_reply": "2024-02-15T18:58:43.924236Z",
     "shell.execute_reply.started": "2024-02-15T18:58:43.917580Z"
    }
   },
   "outputs": [],
   "source": [
    "atcs.offset_azel?"
   ]
  },
  {
   "cell_type": "code",
   "execution_count": null,
   "id": "8b855ba9-9614-4102-9ac8-502bb86ee09c",
   "metadata": {
    "execution": {
     "iopub.execute_input": "2024-02-15T19:02:23.943619Z",
     "iopub.status.busy": "2024-02-15T19:02:23.943069Z",
     "iopub.status.idle": "2024-02-15T19:02:23.952976Z",
     "shell.execute_reply": "2024-02-15T19:02:23.952127Z",
     "shell.execute_reply.started": "2024-02-15T19:02:23.943589Z"
    }
   },
   "outputs": [],
   "source": [
    "latiss.take_engtest?"
   ]
  },
  {
   "cell_type": "code",
   "execution_count": null,
   "id": "51dcbd2e-26d5-44eb-a5eb-cede808b195e",
   "metadata": {
    "execution": {
     "iopub.execute_input": "2024-02-15T19:07:59.579291Z",
     "iopub.status.busy": "2024-02-15T19:07:59.578894Z",
     "iopub.status.idle": "2024-02-15T19:07:59.586153Z",
     "shell.execute_reply": "2024-02-15T19:07:59.585167Z",
     "shell.execute_reply.started": "2024-02-15T19:07:59.579260Z"
    }
   },
   "outputs": [],
   "source": [
    "atcs.reset_offsets?"
   ]
  },
  {
   "cell_type": "code",
   "execution_count": null,
   "id": "e9568b5b-9fed-4082-a555-2678a7351a79",
   "metadata": {},
   "outputs": [],
   "source": []
  }
 ],
 "metadata": {
  "kernelspec": {
   "display_name": "LSST",
   "language": "python",
   "name": "lsst"
  },
  "language_info": {
   "codemirror_mode": {
    "name": "ipython",
    "version": 3
   },
   "file_extension": ".py",
   "mimetype": "text/x-python",
   "name": "python",
   "nbconvert_exporter": "python",
   "pygments_lexer": "ipython3",
   "version": "3.11.10"
  }
 },
 "nbformat": 4,
 "nbformat_minor": 5
}
