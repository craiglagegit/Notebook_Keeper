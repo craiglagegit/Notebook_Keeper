{
 "cells": [
  {
   "cell_type": "code",
   "execution_count": null,
   "id": "76b18068-ae6b-4019-a8fa-8dfbdfaa75fb",
   "metadata": {
    "execution": {
     "iopub.execute_input": "2024-11-21T17:06:56.017303Z",
     "iopub.status.busy": "2024-11-21T17:06:56.016953Z",
     "iopub.status.idle": "2024-11-21T17:07:02.176160Z",
     "shell.execute_reply": "2024-11-21T17:07:02.175634Z",
     "shell.execute_reply.started": "2024-11-21T17:06:56.017286Z"
    }
   },
   "outputs": [],
   "source": [
    "import matplotlib.pyplot as plt\n",
    "import numpy as np\n",
    "import pandas as pd\n",
    "from astropy.time import Time, TimeDelta\n",
    "from lsst.daf.butler import Butler\n",
    "import lsst.summit.utils.butlerUtils as butlerUtils\n",
    "from lsst.summit.utils.utils import dayObsIntToString\n",
    "from lsst.summit.utils.efdUtils import calcNextDay\n"
   ]
  },
  {
   "cell_type": "code",
   "execution_count": null,
   "id": "f99e8052-2ed6-4e14-9b9e-0252f405dd90",
   "metadata": {
    "execution": {
     "iopub.execute_input": "2024-11-21T18:10:24.710962Z",
     "iopub.status.busy": "2024-11-21T18:10:24.710677Z",
     "iopub.status.idle": "2024-11-21T18:10:24.719655Z",
     "shell.execute_reply": "2024-11-21T18:10:24.719197Z",
     "shell.execute_reply.started": "2024-11-21T18:10:24.710944Z"
    }
   },
   "outputs": [],
   "source": [
    "def to_xyz(az, el):\n",
    "    x = np.cos(el)*np.cos(az)\n",
    "    y = np.cos(el)*np.sin(az)\n",
    "    z = np.sin(el)\n",
    "    return (x,y,z)\n",
    "\n",
    "def to_azel(x, y, z):\n",
    "    el = np.arcsin(z)\n",
    "    az = np.arctan2(y, x)    \n",
    "    return az, el\n",
    "    \n",
    "def Ry(theta):\n",
    "  return np.matrix([[ np.cos(theta), 0, np.sin(theta)],\n",
    "                   [ 0           , 1, 0           ],\n",
    "                   [-np.sin(theta), 0, np.cos(theta)]])\n",
    "\n",
    "def Rx(theta):\n",
    "  return np.matrix([[ 1, 0           , 0           ],\n",
    "                   [ 0, np.cos(theta),-np.sin(theta)],\n",
    "                   [ 0, np.sin(theta), np.cos(theta)]])\n",
    "\n",
    "\n",
    "\n",
    "def PointingError(expId):\n",
    "    mData = butler.get('raw.metadata', detector=4, exposure=expId, instrument='LSSTComCam')\n",
    "    azStart = mData['AZSTART']\n",
    "    azEnd = mData['AZEND']\n",
    "    elStart = mData['ELSTART']\n",
    "    elEnd = mData['ELEND']\n",
    "    expTime = mData['EXPTIME']\n",
    "    \n",
    "    \n",
    "    rot = 200.0 / 3600.0 * np.pi / 180.0\n",
    "    rx = Rx(rot)\n",
    "    (x,y,z) = to_xyz(azStart*np.pi/180.0, elStart*np.pi/180.0)\n",
    "    out = rx.dot((x,y,z))\n",
    "    out = np.array(out)[0]\n",
    "    azStart2, elStart2 = to_azel(out[0], out[1], out[2])\n",
    "    azStart2 = azStart2*180.0/np.pi\n",
    "    elStart2 = elStart2*180.0/np.pi\n",
    "\n",
    "    (x,y,z) = to_xyz(azEnd*np.pi/180.0, elEnd*np.pi/180.0)\n",
    "    out = rx.dot((x,y,z))\n",
    "    out = np.array(out)[0]\n",
    "    azEnd2, elEnd2 = to_azel(out[0], out[1], out[2])\n",
    "    azEnd2 = azEnd2*180.0/np.pi\n",
    "    elEnd2 = elEnd2*180.0/np.pi\n",
    "    \n",
    "    azMove = azStart - azEnd\n",
    "    elMove = elStart - elEnd\n",
    "    azMove2 = azStart2 - azEnd2\n",
    "    elMove2 = elStart2 - elEnd2\n",
    "    \n",
    "    azMoveDelta = (azMove - azMove2) * 3600.0\n",
    "    elMoveDelta = (elMove - elMove2) * 3600.0\n",
    "    \n",
    "    pointingDelta = np.sqrt(elMoveDelta**2 + (azMoveDelta * np.cos(elStart * np.pi / 180.0))**2)\n",
    "    print(expTime, azStart, elStart, elMoveDelta, azMoveDelta, pointingDelta)\n",
    "    return [azStart, elStart, pointingDelta]\n"
   ]
  },
  {
   "cell_type": "code",
   "execution_count": null,
   "id": "15d8dc63-bc8b-486e-8b49-44cc3ee35e10",
   "metadata": {
    "execution": {
     "iopub.execute_input": "2024-11-21T18:10:28.047877Z",
     "iopub.status.busy": "2024-11-21T18:10:28.047585Z",
     "iopub.status.idle": "2024-11-21T18:10:35.799919Z",
     "shell.execute_reply": "2024-11-21T18:10:35.799335Z",
     "shell.execute_reply.started": "2024-11-21T18:10:28.047859Z"
    },
    "jupyter": {
     "outputs_hidden": true
    }
   },
   "outputs": [],
   "source": [
    "instrument = 'LSSTComCam'\n",
    "butler = butlerUtils.makeDefaultButler(instrument)\n",
    "\n",
    "startDay = 20241112\n",
    "endDay = 20241120\n",
    "\n",
    "fwhms = []\n",
    "pointingErrors = []\n",
    "dayObss = []\n",
    "azs = []\n",
    "els = []\n",
    "dayObs = startDay\n",
    "while dayObs <= endDay:\n",
    "    table = pd.read_json(f'/project/rubintv/LSSTComCam/sidecar_metadata/dayObs_{dayObs}.json').T\n",
    "    exposureList = []\n",
    "    for record in butler.registry.queryDimensionRecords(\"exposure\",\n",
    "                where=f\"exposure.day_obs={dayObs} and instrument='LSSTComCam'\"):\n",
    "        exposureList.append([record.id, record])\n",
    "    exposureList.sort(key=lambda x: x[0])\n",
    "    print(f\"For {dayObs}, there are {len(exposureList)} exposures\")\n",
    "    numPoints = 0\n",
    "    for [id,record] in exposureList:\n",
    "        if record.observation_type not in ['science']:\n",
    "            continue\n",
    "        try:\n",
    "            seqNum = record.seq_num\n",
    "            fwhm = table.loc[seqNum]['PSF FWHM']\n",
    "            fwhms.append(fwhm)\n",
    "            [azStart, elStart, pointingError] = PointingError(id)\n",
    "            pointingErrors.append(pointingError)\n",
    "            dayObss.append(dayObs - startDay)\n",
    "            azs.append(azStart)\n",
    "            els.append(elStart)\n",
    "            numPoints += 1\n",
    "        except:\n",
    "            continue\n",
    "\n",
    "    dayObs = calcNextDay(dayObs)\n"
   ]
  },
  {
   "cell_type": "code",
   "execution_count": null,
   "id": "950c2d4e-3e89-4f87-88f3-f6c6cecd1ba9",
   "metadata": {
    "execution": {
     "iopub.execute_input": "2024-11-21T17:23:47.809418Z",
     "iopub.status.busy": "2024-11-21T17:23:47.809073Z",
     "iopub.status.idle": "2024-11-21T17:23:47.813103Z",
     "shell.execute_reply": "2024-11-21T17:23:47.812655Z",
     "shell.execute_reply.started": "2024-11-21T17:23:47.809401Z"
    }
   },
   "outputs": [],
   "source": [
    "len(pointingErrors)"
   ]
  },
  {
   "cell_type": "code",
   "execution_count": null,
   "id": "f614a8e2-7e6b-4a75-b426-d3b37cc9f124",
   "metadata": {
    "execution": {
     "iopub.execute_input": "2024-11-21T18:12:01.737020Z",
     "iopub.status.busy": "2024-11-21T18:12:01.736669Z",
     "iopub.status.idle": "2024-11-21T18:12:01.885339Z",
     "shell.execute_reply": "2024-11-21T18:12:01.884862Z",
     "shell.execute_reply.started": "2024-11-21T18:12:01.737003Z"
    }
   },
   "outputs": [],
   "source": [
    "scatt = plt.scatter(pointingErrors, fwhms, c=els, cmap=plt.cm.coolwarm)\n",
    "cb2 = plt.colorbar(scatt)\n"
   ]
  },
  {
   "cell_type": "code",
   "execution_count": null,
   "id": "faa40042-b4ed-47c1-8893-b1e38f5f3d73",
   "metadata": {
    "execution": {
     "iopub.execute_input": "2024-11-21T17:23:58.675127Z",
     "iopub.status.busy": "2024-11-21T17:23:58.674762Z",
     "iopub.status.idle": "2024-11-21T17:23:58.819943Z",
     "shell.execute_reply": "2024-11-21T17:23:58.819499Z",
     "shell.execute_reply.started": "2024-11-21T17:23:58.675105Z"
    }
   },
   "outputs": [],
   "source": [
    "scatt2 = plt.scatter(azs, pointingErrors, c=els, cmap=plt.cm.coolwarm)\n",
    "cb3 = plt.colorbar(scatt2)\n"
   ]
  },
  {
   "cell_type": "code",
   "execution_count": null,
   "id": "b743269e-1c22-4629-809e-18fe3c91b557",
   "metadata": {
    "execution": {
     "iopub.execute_input": "2024-11-21T17:24:03.048972Z",
     "iopub.status.busy": "2024-11-21T17:24:03.048626Z",
     "iopub.status.idle": "2024-11-21T17:24:03.189841Z",
     "shell.execute_reply": "2024-11-21T17:24:03.189390Z",
     "shell.execute_reply.started": "2024-11-21T17:24:03.048951Z"
    }
   },
   "outputs": [],
   "source": [
    "scatt3 = plt.scatter(els, pointingErrors, c=azs, cmap=plt.cm.coolwarm)\n",
    "cb4 = plt.colorbar(scatt3)\n"
   ]
  },
  {
   "cell_type": "code",
   "execution_count": null,
   "id": "87078d34-0295-4ff9-9337-855640b86ac8",
   "metadata": {
    "execution": {
     "iopub.execute_input": "2024-11-21T17:35:08.256307Z",
     "iopub.status.busy": "2024-11-21T17:35:08.255963Z",
     "iopub.status.idle": "2024-11-21T17:35:08.567554Z",
     "shell.execute_reply": "2024-11-21T17:35:08.567035Z",
     "shell.execute_reply.started": "2024-11-21T17:35:08.256290Z"
    }
   },
   "outputs": [],
   "source": [
    "rad_azs = []\n",
    "for az in azs:\n",
    "rad_azs = np.array(azs) * np.pi / 180.0\n",
    "\n",
    "fig=plt.figure(figsize=(8,8))\n",
    "ax1 = plt.subplot(111, projection='polar')\n",
    "ax1.set_title(f\"Sky coverage - ComCam campaign 20241028-20241119\")\n",
    "ax1.invert_yaxis()\n",
    "ax1.set_rlim(90,0)\n",
    "scatt5 = ax1.scatter (rad_azs, els, c = pointingErrors, cmap=plt.cm.coolwarm)\n",
    "plt.colorbar(scatt5)\n",
    "#plt.savefig(\"/home/c/cslage/u/ComCam/data/Sky_Coverage_20Nov24.png\")"
   ]
  },
  {
   "cell_type": "code",
   "execution_count": null,
   "id": "3e510a15-760f-4723-8abd-6fc112e5da67",
   "metadata": {},
   "outputs": [],
   "source": []
  }
 ],
 "metadata": {
  "kernelspec": {
   "display_name": "LSST",
   "language": "python",
   "name": "lsst"
  },
  "language_info": {
   "codemirror_mode": {
    "name": "ipython",
    "version": 3
   },
   "file_extension": ".py",
   "mimetype": "text/x-python",
   "name": "python",
   "nbconvert_exporter": "python",
   "pygments_lexer": "ipython3",
   "version": "3.11.10"
  }
 },
 "nbformat": 4,
 "nbformat_minor": 5
}
