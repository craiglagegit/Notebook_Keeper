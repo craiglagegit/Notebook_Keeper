{
 "cells": [
  {
   "cell_type": "markdown",
   "id": "8153d4f6-518f-48ab-84f6-d1b56e92664b",
   "metadata": {},
   "source": [
    "# Code to test bump test time finding for DM-39166\n",
    "Craig Lage - 12-May-23"
   ]
  },
  {
   "cell_type": "code",
   "execution_count": null,
   "id": "910c3ec3-8cd6-4562-bdca-2e6e86b4c9db",
   "metadata": {
    "execution": {
     "iopub.execute_input": "2024-01-08T11:46:24.721345Z",
     "iopub.status.busy": "2024-01-08T11:46:24.721046Z",
     "iopub.status.idle": "2024-01-08T11:46:30.136060Z",
     "shell.execute_reply": "2024-01-08T11:46:30.135385Z",
     "shell.execute_reply.started": "2024-01-08T11:46:24.721313Z"
    },
    "tags": []
   },
   "outputs": [],
   "source": [
    "from lsst_efd_client import EfdClient\n",
    "from lsst.ts.criopy.m1m3 import BumpTestTimes\n",
    "from astropy.time import Time, TimeDelta"
   ]
  },
  {
   "cell_type": "code",
   "execution_count": null,
   "id": "b3878cc4-4485-4d0c-9876-28186fc45333",
   "metadata": {
    "execution": {
     "iopub.execute_input": "2024-01-08T11:46:30.430481Z",
     "iopub.status.busy": "2024-01-08T11:46:30.430329Z",
     "iopub.status.idle": "2024-01-08T11:46:32.385361Z",
     "shell.execute_reply": "2024-01-08T11:46:32.384879Z",
     "shell.execute_reply.started": "2024-01-08T11:46:30.430465Z"
    },
    "tags": []
   },
   "outputs": [],
   "source": [
    "client = EfdClient('summit_efd')\n",
    "bumpTestTimes = BumpTestTimes(client)"
   ]
  },
  {
   "cell_type": "code",
   "execution_count": null,
   "id": "ce7af5a6-460a-4b05-a56f-504c2b9cce8c",
   "metadata": {
    "execution": {
     "iopub.execute_input": "2024-01-08T11:46:36.053328Z",
     "iopub.status.busy": "2024-01-08T11:46:36.052984Z",
     "iopub.status.idle": "2024-01-08T11:46:36.353439Z",
     "shell.execute_reply": "2024-01-08T11:46:36.352379Z",
     "shell.execute_reply.started": "2024-01-08T11:46:36.053300Z"
    }
   },
   "outputs": [],
   "source": [
    "primaryTimes, secondaryTimes = await bumpTestTimes.find_times(102)"
   ]
  },
  {
   "cell_type": "code",
   "execution_count": null,
   "id": "d0ebccbd-e38c-4450-9036-c610fdcf9b3a",
   "metadata": {
    "execution": {
     "iopub.execute_input": "2024-01-08T11:46:42.752406Z",
     "iopub.status.busy": "2024-01-08T11:46:42.752031Z",
     "iopub.status.idle": "2024-01-08T11:46:42.759574Z",
     "shell.execute_reply": "2024-01-08T11:46:42.759031Z",
     "shell.execute_reply.started": "2024-01-08T11:46:42.752374Z"
    }
   },
   "outputs": [],
   "source": [
    "print(len(primaryTimes))\n",
    "for [pStart, pEnd], [sStart, sEnd] in zip(primaryTimes, secondaryTimes):\n",
    "    print(pStart, pEnd, sStart, sEnd)"
   ]
  },
  {
   "cell_type": "code",
   "execution_count": null,
   "id": "27025537-b9e9-4fea-8ac9-f816a5a47cbf",
   "metadata": {
    "tags": []
   },
   "outputs": [],
   "source": [
    "primaryTimes, secondaryTimes = await bumpTestTimes.find_times(102, Time('2024-01-02T00:00:00', scale='utc'), \\\n",
    "                                                             Time('2024-01-04T00:00:00', scale='utc'))"
   ]
  },
  {
   "cell_type": "code",
   "execution_count": null,
   "id": "5f56f08f-1b81-4f95-8b67-109536b76a4d",
   "metadata": {
    "tags": []
   },
   "outputs": [],
   "source": [
    "print(len(primaryTimes))\n",
    "for [pStart, pEnd], [sStart, sEnd] in zip(primaryTimes, secondaryTimes):\n",
    "    print(pStart, pEnd, sStart, sEnd)"
   ]
  },
  {
   "cell_type": "code",
   "execution_count": null,
   "id": "dfcb3129-7744-49aa-8b73-fc87a53fccbe",
   "metadata": {},
   "outputs": [],
   "source": [
    "primaryTimes[0]"
   ]
  },
  {
   "cell_type": "code",
   "execution_count": null,
   "id": "a6506db4-4cd2-4877-9689-c19bf299ecca",
   "metadata": {},
   "outputs": [],
   "source": []
  }
 ],
 "metadata": {
  "kernelspec": {
   "display_name": "LSST",
   "language": "python",
   "name": "lsst"
  },
  "language_info": {
   "codemirror_mode": {
    "name": "ipython",
    "version": 3
   },
   "file_extension": ".py",
   "mimetype": "text/x-python",
   "name": "python",
   "nbconvert_exporter": "python",
   "pygments_lexer": "ipython3",
   "version": "3.11.6"
  }
 },
 "nbformat": 4,
 "nbformat_minor": 5
}
