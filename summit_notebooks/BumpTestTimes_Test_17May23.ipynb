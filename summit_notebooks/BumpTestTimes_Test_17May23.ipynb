{
 "cells": [
  {
   "cell_type": "markdown",
   "id": "8153d4f6-518f-48ab-84f6-d1b56e92664b",
   "metadata": {},
   "source": [
    "# Code to test bump test time finding for DM-39166\n",
    "Craig Lage - 12-May-23"
   ]
  },
  {
   "cell_type": "code",
   "execution_count": null,
   "id": "910c3ec3-8cd6-4562-bdca-2e6e86b4c9db",
   "metadata": {
    "execution": {
     "iopub.execute_input": "2023-05-17T16:32:15.179747Z",
     "iopub.status.busy": "2023-05-17T16:32:15.179571Z",
     "iopub.status.idle": "2023-05-17T16:32:15.636834Z",
     "shell.execute_reply": "2023-05-17T16:32:15.636177Z",
     "shell.execute_reply.started": "2023-05-17T16:32:15.179732Z"
    },
    "tags": []
   },
   "outputs": [],
   "source": [
    "from lsst_efd_client import EfdClient\n",
    "from lsst.ts.cRIOpy.M1M3 import BumpTestTimes"
   ]
  },
  {
   "cell_type": "code",
   "execution_count": null,
   "id": "b3878cc4-4485-4d0c-9876-28186fc45333",
   "metadata": {
    "execution": {
     "iopub.execute_input": "2023-05-17T16:33:30.470835Z",
     "iopub.status.busy": "2023-05-17T16:33:30.470356Z",
     "iopub.status.idle": "2023-05-17T16:33:31.656729Z",
     "shell.execute_reply": "2023-05-17T16:33:31.656251Z",
     "shell.execute_reply.started": "2023-05-17T16:33:30.470788Z"
    },
    "tags": []
   },
   "outputs": [],
   "source": [
    "client = EfdClient('summit_efd')"
   ]
  },
  {
   "cell_type": "code",
   "execution_count": null,
   "id": "821f4f0d-3391-4e84-a7d0-0a8b37b584f7",
   "metadata": {
    "execution": {
     "iopub.execute_input": "2023-05-17T16:33:33.575276Z",
     "iopub.status.busy": "2023-05-17T16:33:33.574989Z",
     "iopub.status.idle": "2023-05-17T16:33:33.577884Z",
     "shell.execute_reply": "2023-05-17T16:33:33.577411Z",
     "shell.execute_reply.started": "2023-05-17T16:33:33.575256Z"
    },
    "tags": []
   },
   "outputs": [],
   "source": [
    "bumpTestTimes = BumpTestTimes.BumpTestTimes(client)"
   ]
  },
  {
   "cell_type": "code",
   "execution_count": null,
   "id": "27025537-b9e9-4fea-8ac9-f816a5a47cbf",
   "metadata": {
    "execution": {
     "iopub.execute_input": "2023-05-17T16:33:35.245729Z",
     "iopub.status.busy": "2023-05-17T16:33:35.245391Z",
     "iopub.status.idle": "2023-05-17T16:33:46.891281Z",
     "shell.execute_reply": "2023-05-17T16:33:46.890753Z",
     "shell.execute_reply.started": "2023-05-17T16:33:35.245694Z"
    },
    "tags": []
   },
   "outputs": [],
   "source": [
    "primaryTimes, secondaryTimes = await bumpTestTimes.findTimes(id=102, start='2023-04-17T00:00:00', end='2023-05-12T00:00:00')"
   ]
  },
  {
   "cell_type": "code",
   "execution_count": null,
   "id": "5f56f08f-1b81-4f95-8b67-109536b76a4d",
   "metadata": {
    "execution": {
     "iopub.execute_input": "2023-05-17T16:33:52.166537Z",
     "iopub.status.busy": "2023-05-17T16:33:52.166250Z",
     "iopub.status.idle": "2023-05-17T16:33:52.170135Z",
     "shell.execute_reply": "2023-05-17T16:33:52.169652Z",
     "shell.execute_reply.started": "2023-05-17T16:33:52.166518Z"
    },
    "jupyter": {
     "outputs_hidden": true
    },
    "tags": []
   },
   "outputs": [],
   "source": [
    "print(len(primaryTimes))\n",
    "for [pStart, pEnd], [sStart, sEnd] in zip(primaryTimes, secondaryTimes):\n",
    "    print(pStart, pEnd, sStart, sEnd)"
   ]
  },
  {
   "cell_type": "code",
   "execution_count": null,
   "id": "dfcb3129-7744-49aa-8b73-fc87a53fccbe",
   "metadata": {},
   "outputs": [],
   "source": []
  },
  {
   "cell_type": "code",
   "execution_count": null,
   "id": "2ca3e452-da33-46b1-a8cc-f0e9593c4683",
   "metadata": {
    "execution": {
     "iopub.execute_input": "2023-05-17T16:36:02.005972Z",
     "iopub.status.busy": "2023-05-17T16:36:02.005599Z",
     "iopub.status.idle": "2023-05-17T16:36:02.318342Z",
     "shell.execute_reply": "2023-05-17T16:36:02.317752Z",
     "shell.execute_reply.started": "2023-05-17T16:36:02.005952Z"
    },
    "tags": []
   },
   "outputs": [],
   "source": [
    "primaryTimes, secondaryTimes = await bumpTestTimes.findTimes(id=227, start=1683720037.0, end=1683720037.0+8*86400)"
   ]
  },
  {
   "cell_type": "code",
   "execution_count": null,
   "id": "52e979a7-2aa2-4232-aae2-a551d0fa80ce",
   "metadata": {
    "execution": {
     "iopub.execute_input": "2023-05-17T16:36:03.110976Z",
     "iopub.status.busy": "2023-05-17T16:36:03.110651Z",
     "iopub.status.idle": "2023-05-17T16:36:03.115015Z",
     "shell.execute_reply": "2023-05-17T16:36:03.114535Z",
     "shell.execute_reply.started": "2023-05-17T16:36:03.110958Z"
    },
    "jupyter": {
     "outputs_hidden": true
    },
    "tags": []
   },
   "outputs": [],
   "source": [
    "print(len(primaryTimes))\n",
    "for [pStart, pEnd], [sStart, sEnd] in zip(primaryTimes, secondaryTimes):\n",
    "    print(pStart, pEnd, sStart, sEnd)"
   ]
  },
  {
   "cell_type": "code",
   "execution_count": null,
   "id": "4ed73924-0777-45fb-b34d-615e9a9b5ad5",
   "metadata": {},
   "outputs": [],
   "source": []
  }
 ],
 "metadata": {
  "kernelspec": {
   "display_name": "LSST",
   "language": "python",
   "name": "lsst"
  },
  "language_info": {
   "codemirror_mode": {
    "name": "ipython",
    "version": 3
   },
   "file_extension": ".py",
   "mimetype": "text/x-python",
   "name": "python",
   "nbconvert_exporter": "python",
   "pygments_lexer": "ipython3",
   "version": "3.10.10"
  }
 },
 "nbformat": 4,
 "nbformat_minor": 5
}
