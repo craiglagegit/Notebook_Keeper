{
 "cells": [
  {
   "cell_type": "markdown",
   "metadata": {},
   "source": [
    "## Estimating the impact of AuxTel mount oscillations on Image Quality.\n",
    "Craig Lage 04-May-22"
   ]
  },
  {
   "cell_type": "code",
   "execution_count": null,
   "metadata": {},
   "outputs": [],
   "source": [
    "import sys, time, os, asyncio, glob\n",
    "from datetime import datetime, timedelta\n",
    "import numpy as np\n",
    "import matplotlib.pyplot as plt\n",
    "from astropy.time import Time, TimeDelta\n",
    "from astropy.coordinates import AltAz, ICRS, EarthLocation, Angle, FK5, SkyCoord\n",
    "import astropy.units as u\n",
    "from lsst.obs.lsst.translators.latiss import AUXTEL_LOCATION"
   ]
  },
  {
   "cell_type": "code",
   "execution_count": null,
   "metadata": {},
   "outputs": [],
   "source": [
    "## SOMETHING STILL NOT RIGHT HERE ##\n",
    "\"\"\"\n",
    "def dAzdT(ALT, AZ):\n",
    "    LAT = AUXTEL_LOCATION.lat\n",
    "    dHdT = 360.0 * 3600.0 / (86400.0 - 236.0)\n",
    "    sinDec = np.sin(LAT) * np.sin(ALT) + np.cos(LAT) * np.cos(ALT) * np.cos(AZ)\n",
    "    cosDec = np.sqrt(1.0 - sinDec**2)\n",
    "    tanDec = sinDec / cosDec\n",
    "    sinHA = - np.sin(AZ) * np.cos(ALT) / cosDec\n",
    "    cosHA = np.sqrt(1.0 - sinHA**2)\n",
    "    #cosHA = (np.sin(ALT) - np.sin(LAT) * sinDec) / (cosDec * np.cos(LAT))\n",
    "    #sinHA = np.sqrt(1.0 - cosHA**2)\n",
    "    daltdt = cosDec * sinHA * dHdT\n",
    "    print(np.arcsin(sinDec)*180.0/np.pi, np.arcsin(sinHA)*180.0/np.pi)\n",
    "    dazdt = np.tan(LAT) / (np.sin(AZ) * np.cos(ALT)**2) * (sinDec + 1.0) * daltdt\n",
    "    return abs(dazdt.value)\n",
    "\"\"\"\n",
    "def dAzdT(ALT, AZ):\n",
    "    deltaT = 10.0\n",
    "    time = datetime.now()\n",
    "    shiftedTime = time + timedelta(seconds=deltaT)\n",
    "    altAz = AltAz(obstime=time, location=AUXTEL_LOCATION)\n",
    "    shiftedAltAz = AltAz(obstime=shiftedTime, location=AUXTEL_LOCATION)\n",
    "    skyLocation = SkyCoord(AZ, ALT, frame=altAz)\n",
    "    az1 = skyLocation.altaz.az.deg\n",
    "    shiftedSkyLocation = skyLocation.transform_to(shiftedAltAz)\n",
    "    az2 = shiftedSkyLocation.altaz.az.deg\n",
    "    deltaAz = abs(az1 - az2)\n",
    "    if deltaAz > 1.0:\n",
    "        deltaAz = abs(deltaAz - 360.0)\n",
    "    azSpeed = abs(deltaAz) / deltaT * 3600.0\n",
    "    if azSpeed > 500.0:\n",
    "        return 0.0\n",
    "    else:\n",
    "        return azSpeed\n"
   ]
  },
  {
   "cell_type": "code",
   "execution_count": null,
   "metadata": {
    "jupyter": {
     "outputs_hidden": true
    },
    "tags": []
   },
   "outputs": [],
   "source": [
    "SkyCoord?"
   ]
  },
  {
   "cell_type": "code",
   "execution_count": null,
   "metadata": {},
   "outputs": [],
   "source": [
    "deltaT = 10.0\n",
    "time = datetime.now()\n",
    "shiftedTime = time + timedelta(seconds=deltaT)\n",
    "ALT = Angle(50.0 * u.deg)\n",
    "AZ = Angle(0.01 * u.deg)\n",
    "altAz = AltAz(obstime=time, location=AUXTEL_LOCATION)\n",
    "shiftedAltAz = AltAz(obstime=shiftedTime, location=AUXTEL_LOCATION)\n",
    "skyLocation = SkyCoord(AZ, ALT, frame=altAz)\n",
    "az1 = skyLocation.altaz.az.deg\n",
    "if az1 > 180.0:\n",
    "    az1 -= 360.0\n",
    "shiftedSkyLocation = skyLocation.transform_to(shiftedAltAz)\n",
    "az2 = shiftedSkyLocation.altaz.az.deg\n",
    "if az2 > 180.0:\n",
    "    az2 -= 360.0\n",
    "print(az1, az2)\n",
    "deltaAz = az1 - az2\n",
    "azSpeed = abs(deltaAz) / deltaT * 3600.0\n",
    "period = 675.0 / azSpeed\n",
    "print(azSpeed, period)"
   ]
  },
  {
   "cell_type": "code",
   "execution_count": null,
   "metadata": {},
   "outputs": [],
   "source": [
    "skyLocation.icrs.dec.deg"
   ]
  },
  {
   "cell_type": "code",
   "execution_count": null,
   "metadata": {},
   "outputs": [],
   "source": [
    "shiftedSkyLocation.icrs.dec.deg"
   ]
  },
  {
   "cell_type": "code",
   "execution_count": null,
   "metadata": {},
   "outputs": [],
   "source": [
    "az1 = skyLocation.altaz.az"
   ]
  },
  {
   "cell_type": "code",
   "execution_count": null,
   "metadata": {},
   "outputs": [],
   "source": [
    "az2 = shiftedSkyLocation.altaz.az"
   ]
  },
  {
   "cell_type": "code",
   "execution_count": null,
   "metadata": {},
   "outputs": [],
   "source": [
    "sep = skyLocation.separation(shiftedSkyLocation)"
   ]
  },
  {
   "cell_type": "code",
   "execution_count": null,
   "metadata": {},
   "outputs": [],
   "source": [
    "print(sep)"
   ]
  },
  {
   "cell_type": "code",
   "execution_count": null,
   "metadata": {},
   "outputs": [],
   "source": [
    "shiftedSkyLocation.altaz.az - skyLocation.altaz.az"
   ]
  },
  {
   "cell_type": "code",
   "execution_count": null,
   "metadata": {},
   "outputs": [],
   "source": [
    "time"
   ]
  },
  {
   "cell_type": "code",
   "execution_count": null,
   "metadata": {},
   "outputs": [],
   "source": [
    "shiftedTime"
   ]
  },
  {
   "cell_type": "code",
   "execution_count": null,
   "metadata": {},
   "outputs": [],
   "source": [
    "def dAzdT(ALT, AZ):\n",
    "    skyLocation = SkyCoord(origin.getRa().asRadians(), origin.getDec().asRadians(), unit=u.rad)\n",
    "altAz = AltAz(obstime=vi.date.toPython(), location=AUXTEL_LOCATION)\n",
    "obsAltAz = skyLocation.transform_to(altAz)\n",
    "shiftInArcsec = 50.0\n",
    "altShifted = SkyCoord(obsAltAz.az, obsAltAz.alt + Angle(shiftInArcsec * u.arcsec), frame=altAz)\n",
    "altShiftedSpherePoint = SpherePoint(altShifted.icrs.ra.deg*geom.degrees, altShifted.icrs.dec.deg*geom.degrees)\n",
    "azShifted = SkyCoord(obsAltAz.az + Angle(shiftInArcsec / np.cos(obsAltAz.alt) * u.arcsec), obsAltAz.alt, frame=altAz)\n",
    "azShiftedSpherePoint = SpherePoint(azShifted.icrs.ra.deg*geom.degrees, azShifted.icrs.dec.deg*geom.degrees)\n",
    "originPixel = wcs.skyToPixel(origin)\n"
   ]
  },
  {
   "cell_type": "code",
   "execution_count": null,
   "metadata": {},
   "outputs": [],
   "source": [
    "dAzdT(Angle(65.04 * u.deg), Angle(190.1 * u.deg))"
   ]
  },
  {
   "cell_type": "code",
   "execution_count": null,
   "metadata": {},
   "outputs": [],
   "source": [
    "AUXTEL_LOCATION.lat.deg"
   ]
  },
  {
   "cell_type": "code",
   "execution_count": null,
   "metadata": {},
   "outputs": [],
   "source": [
    "nx = 50\n",
    "ny = 100\n",
    "\n",
    "alts = np.linspace(5.0, 80.0, nx)\n",
    "azs = np.linspace(-179.9, 179.9, ny)\n",
    "alt_1, az_1 = np.meshgrid(alts, azs)\n",
    "z = np.zeros([ny, nx])\n",
    "for i, alt in enumerate(alts):\n",
    "    for j, az in enumerate(azs):\n",
    "        z[j,i] = dAzdT(Angle(alt * u.deg), Angle(az * u.deg))\n",
    "        #print(alt, az, z[i,j])\n",
    "        "
   ]
  },
  {
   "cell_type": "code",
   "execution_count": null,
   "metadata": {},
   "outputs": [],
   "source": [
    "z.max()"
   ]
  },
  {
   "cell_type": "code",
   "execution_count": null,
   "metadata": {},
   "outputs": [],
   "source": [
    "plt.contourf(alt_1, az_1, z)\n",
    "plt.colorbar()"
   ]
  },
  {
   "cell_type": "code",
   "execution_count": null,
   "metadata": {},
   "outputs": [],
   "source": [
    "# Plot as a polar plot\n",
    "r, theta = np.meshgrid(alts, azs)\n",
    "\n",
    "fig, ax = plt.subplots(subplot_kw=dict(projection='polar'))\n",
    "ax.set_title(\"Azimuth axis speed (arcseconds/second)\")\n",
    "ax.contourf(theta, r, z)\n",
    "ax.set_rorigin(90.0)\n",
    "\n",
    "#pc = ax.pcolormesh(theta, r, z)\n",
    "\n",
    "#fig.colorbar(pc)\n",
    "#ax.set_xticks([0.0,180.0], color='white')\n",
    "ax.tick_params(axis='x', labeltop=True, labelbottom=False, colors='yellow')\n",
    "ax.tick_params(axis='y', colors='yellow')\n"
   ]
  },
  {
   "cell_type": "code",
   "execution_count": null,
   "metadata": {},
   "outputs": [],
   "source": [
    "def AverageDeviation(period, amplitude, exptime):\n",
    "    nTrials = 100\n",
    "    times = np.linspace(0, exptime, 100)\n",
    "    deviations = []\n",
    "    for i in range(nTrials):\n",
    "        phase = 2.0 * np.pi * np.random.random()\n",
    "        motion = np.cos(2.0 * np.pi * times / period + phase)\n",
    "        deviation = motion.max() - motion.min()\n",
    "        deviations.append(deviation)\n",
    "        #print(i, phase, deviation)\n",
    "    return np.mean(deviations)\n",
    "        \n",
    "def ImageImpact(ALT, AZ): \n",
    "    exptime = 30.0 # seconds\n",
    "    coggingPeriod = 675.0 # arcseconds\n",
    "    azSpeed = dAzdT(ALT, AZ)\n",
    "    period = coggingPeriod / azSpeed\n",
    "    azFreq = azSpeed / coggingPeriod\n",
    "    amplitude = 12.96 * azFreq # Empirical relation - arcseconds\n",
    "    #print(azSpeed, period, azFreq, amplitude)\n",
    "    imageImpact = AverageDeviation(period, amplitude, exptime) * np.cos(ALT)\n",
    "    return abs(imageImpact)"
   ]
  },
  {
   "cell_type": "code",
   "execution_count": null,
   "metadata": {},
   "outputs": [],
   "source": [
    "AverageDeviation(10.0, 1.0, 30.0)"
   ]
  },
  {
   "cell_type": "code",
   "execution_count": null,
   "metadata": {},
   "outputs": [],
   "source": [
    "ImageImpact(Angle(30.0 * u.deg), Angle(0.01 * u.deg))"
   ]
  },
  {
   "cell_type": "code",
   "execution_count": null,
   "metadata": {},
   "outputs": [],
   "source": [
    "alts = np.linspace(5.0, 80.0, 50)\n",
    "azs = np.linspace(-179.9, 179.9, 100)\n",
    "alt_1, az_1 = np.meshgrid(alts, azs)\n",
    "z = np.zeros([100, 50])\n",
    "for i, alt in enumerate(alts):\n",
    "    for j, az in enumerate(azs):\n",
    "        z[j,i] = ImageImpact(Angle(alt * u.deg), Angle(az * u.deg))\n",
    "\n",
    "plt.contourf(alt_1, az_1, z)\n",
    "plt.colorbar()  \n",
    "\"\"\"\n",
    "# Plot as a polar plot\n",
    "r, theta = np.meshgrid(alts, azimuths)\n",
    "\n",
    "fig, ax = plt.subplots(subplot_kw=dict(projection='polar'))\n",
    "ax.set_title(\"Image Impact (arcseconds)\")\n",
    "ax.contourf(theta, r, z)\n",
    "ax.set_rorigin(90.0)\n",
    "\n",
    "pc = ax.pcolormesh(theta, r, z)\n",
    "\n",
    "fig.colorbar(pc)\n",
    "#ax.set_xticks([0.0,180.0], color='white')\n",
    "ax.tick_params(axis='x', labeltop=True, labelbottom=False, colors='red')\n",
    "ax.tick_params(axis='y', colors='red')\n",
    "\"\"\""
   ]
  },
  {
   "cell_type": "code",
   "execution_count": null,
   "metadata": {},
   "outputs": [],
   "source": []
  }
 ],
 "metadata": {
  "kernelspec": {
   "display_name": "LSST",
   "language": "python",
   "name": "lsst"
  },
  "language_info": {
   "codemirror_mode": {
    "name": "ipython",
    "version": 3
   },
   "file_extension": ".py",
   "mimetype": "text/x-python",
   "name": "python",
   "nbconvert_exporter": "python",
   "pygments_lexer": "ipython3",
   "version": "3.8.13"
  }
 },
 "nbformat": 4,
 "nbformat_minor": 4
}
