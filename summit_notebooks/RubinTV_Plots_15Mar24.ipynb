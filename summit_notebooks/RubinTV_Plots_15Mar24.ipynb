{
 "cells": [
  {
   "cell_type": "code",
   "execution_count": null,
   "id": "3ad6695a-41da-4efd-93b5-469d6f26a843",
   "metadata": {
    "execution": {
     "iopub.execute_input": "2024-03-18T17:07:10.818800Z",
     "iopub.status.busy": "2024-03-18T17:07:10.818665Z",
     "iopub.status.idle": "2024-03-18T17:07:20.025870Z",
     "shell.execute_reply": "2024-03-18T17:07:20.024858Z",
     "shell.execute_reply.started": "2024-03-18T17:07:10.818785Z"
    },
    "tags": []
   },
   "outputs": [],
   "source": [
    "import os\n",
    "import pandas as pd\n",
    "import numpy as np\n",
    "import matplotlib.pyplot as plt\n",
    "\n",
    "from lsst.rubintv.production.plotting.starTrackerNightReportPlots import CameraAzAltOffsetPosition as cam\n",
    "%matplotlib inline"
   ]
  },
  {
   "cell_type": "code",
   "execution_count": null,
   "id": "cf8b775a-107d-4bef-8928-1998d462c8ef",
   "metadata": {
    "execution": {
     "iopub.execute_input": "2024-03-18T17:13:15.850721Z",
     "iopub.status.busy": "2024-03-18T17:13:15.850363Z",
     "iopub.status.idle": "2024-03-18T17:13:16.036163Z",
     "shell.execute_reply": "2024-03-18T17:13:16.035349Z",
     "shell.execute_reply.started": "2024-03-18T17:13:15.850696Z"
    },
    "tags": []
   },
   "outputs": [],
   "source": [
    "dayObs = 20240301\n",
    "filename = os.path.join('/project/rubintv/starTracker/sidecar_metadata', f'dayObs_{dayObs}.json')\n",
    "table = pd.read_json(filename).T\n",
    "table = table.sort_index()"
   ]
  },
  {
   "cell_type": "code",
   "execution_count": null,
   "id": "8ffdc7c7-330b-4338-9872-bca21d2a2754",
   "metadata": {
    "execution": {
     "iopub.execute_input": "2024-03-18T17:13:16.530307Z",
     "iopub.status.busy": "2024-03-18T17:13:16.530081Z",
     "iopub.status.idle": "2024-03-18T17:13:16.533946Z",
     "shell.execute_reply": "2024-03-18T17:13:16.532980Z",
     "shell.execute_reply.started": "2024-03-18T17:13:16.530291Z"
    }
   },
   "outputs": [],
   "source": [
    "thisCam = cam(dayObs)"
   ]
  },
  {
   "cell_type": "code",
   "execution_count": null,
   "id": "897bd26c-3e1e-47f6-82b3-3e643472215f",
   "metadata": {
    "execution": {
     "iopub.execute_input": "2024-03-18T17:13:17.086676Z",
     "iopub.status.busy": "2024-03-18T17:13:17.086261Z",
     "iopub.status.idle": "2024-03-18T17:13:17.798129Z",
     "shell.execute_reply": "2024-03-18T17:13:17.797466Z",
     "shell.execute_reply.started": "2024-03-18T17:13:17.086646Z"
    }
   },
   "outputs": [],
   "source": [
    "thisCam.plot(table)\n",
    "plt.savefig(F\"/home/cslage/DATA/RubinTV_Plot_{dayObs}\")"
   ]
  },
  {
   "cell_type": "code",
   "execution_count": null,
   "id": "7a0caebc-8b4c-43b1-9059-eb34355c3bcf",
   "metadata": {},
   "outputs": [],
   "source": []
  }
 ],
 "metadata": {
  "kernelspec": {
   "display_name": "LSST",
   "language": "python",
   "name": "lsst"
  },
  "language_info": {
   "codemirror_mode": {
    "name": "ipython",
    "version": 3
   },
   "file_extension": ".py",
   "mimetype": "text/x-python",
   "name": "python",
   "nbconvert_exporter": "python",
   "pygments_lexer": "ipython3",
   "version": "3.11.7"
  }
 },
 "nbformat": 4,
 "nbformat_minor": 5
}
