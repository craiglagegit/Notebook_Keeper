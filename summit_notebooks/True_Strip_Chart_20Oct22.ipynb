{
 "cells": [
  {
   "cell_type": "markdown",
   "id": "e8cc3a14-f377-44f4-ab4c-97c9c3047697",
   "metadata": {},
   "source": [
    "## Looking at \"strip chart\" image with take_stuttered.\n",
    "\n",
    "Craig Lage - 20-Oct-22\n"
   ]
  },
  {
   "cell_type": "code",
   "execution_count": null,
   "id": "a148b369-8943-4861-a51e-9cbeea70feb3",
   "metadata": {},
   "outputs": [],
   "source": [
    "import numpy as np\n",
    "from matplotlib import pyplot as plt\n",
    "\n",
    "import lsst.daf.butler as dafButler\n",
    "from lsst.summit.utils import BestEffortIsr\n",
    "%matplotlib inline"
   ]
  },
  {
   "cell_type": "markdown",
   "id": "8299f33f-a6a6-4dbd-bef3-ce4fbabdcbd5",
   "metadata": {},
   "source": [
    "#### Declare butler repo parameters"
   ]
  },
  {
   "cell_type": "code",
   "execution_count": null,
   "id": "558e3838-4aea-48e2-9629-5b1f60b2fbaf",
   "metadata": {},
   "outputs": [],
   "source": [
    "datapath='/repo/LATISS'\n",
    "butler = dafButler.Butler(datapath, instrument='LATISS', collections=['LATISS/raw/all','LATISS_test_data'])\n",
    "dataset='raw'\n",
    "best_effort_isr = BestEffortIsr()"
   ]
  },
  {
   "cell_type": "markdown",
   "id": "335148e9-b9e4-4bae-a7c2-3b65a6463813",
   "metadata": {},
   "source": [
    "### Select the data ID of choice"
   ]
  },
  {
   "cell_type": "code",
   "execution_count": null,
   "id": "3f9d90d9-4a28-4bb9-b1f9-60312683bca4",
   "metadata": {},
   "outputs": [],
   "source": [
    "dataId = {'day_obs': 20221019, 'seq_num': 23, 'detector': 0, \"instrument\": 'LATISS'}"
   ]
  },
  {
   "cell_type": "markdown",
   "id": "bfe4c5fb-7ce1-49bc-9f55-91a906c018a3",
   "metadata": {},
   "source": [
    " ### Fetch the exposure and run best_effort_ISR"
   ]
  },
  {
   "cell_type": "code",
   "execution_count": null,
   "id": "f087dcec-36a0-49de-b226-79370cb9c31c",
   "metadata": {
    "tags": []
   },
   "outputs": [],
   "source": [
    "best_effort_isr.doWrite = False  # Don't write to butler database\n",
    "exp = best_effort_isr.getExposure(dataId, skipCosmics=False)"
   ]
  },
  {
   "cell_type": "code",
   "execution_count": null,
   "id": "ca33c614-079d-4e3c-9802-5682b50b8a10",
   "metadata": {},
   "outputs": [],
   "source": [
    "arr = exp.image.array\n",
    "print(arr.shape)"
   ]
  },
  {
   "cell_type": "code",
   "execution_count": null,
   "id": "5c10ea8c-d456-4440-a4f8-9f7e6e926a48",
   "metadata": {},
   "outputs": [],
   "source": [
    "xplot = range(0,4000)\n",
    "plt.plot(xplot, np.mean(arr[:,2100:2500], axis=1))\n",
    "plt.title(\"Stuttered image 202210190023\")\n",
    "plt.xlabel(\"Y pixel\")\n",
    "plt.ylabel(\"Average flux X=2100:2500 (ADU)\")\n",
    "plt.savefig(\"/home/craiglagegit/DATA/Stuttered_202210190023.png\")"
   ]
  },
  {
   "cell_type": "code",
   "execution_count": null,
   "id": "fda2a0c9-2990-46e2-ae10-cc93ea0e12ed",
   "metadata": {},
   "outputs": [],
   "source": []
  }
 ],
 "metadata": {
  "kernelspec": {
   "display_name": "LSST",
   "language": "python",
   "name": "lsst"
  },
  "language_info": {
   "codemirror_mode": {
    "name": "ipython",
    "version": 3
   },
   "file_extension": ".py",
   "mimetype": "text/x-python",
   "name": "python",
   "nbconvert_exporter": "python",
   "pygments_lexer": "ipython3",
   "version": "3.10.5"
  },
  "toc-autonumbering": false,
  "toc-showcode": false,
  "toc-showmarkdowntxt": true
 },
 "nbformat": 4,
 "nbformat_minor": 5
}
