{
 "cells": [
  {
   "cell_type": "markdown",
   "metadata": {},
   "source": [
    "# Query the EFD for ATDome commands\n",
    "\n",
    "Craig Lage - 18-Oct-24"
   ]
  },
  {
   "cell_type": "code",
   "execution_count": null,
   "metadata": {
    "execution": {
     "iopub.execute_input": "2024-10-18T19:10:24.267392Z",
     "iopub.status.busy": "2024-10-18T19:10:24.267093Z",
     "iopub.status.idle": "2024-10-18T19:10:25.051280Z",
     "shell.execute_reply": "2024-10-18T19:10:25.050731Z",
     "shell.execute_reply.started": "2024-10-18T19:10:24.267374Z"
    },
    "tags": []
   },
   "outputs": [],
   "source": [
    "import sys, time, os, asyncio, glob\n",
    "import numpy as np\n",
    "import pandas as pd\n",
    "import matplotlib.pyplot as plt\n",
    "from astropy.time import Time, TimeDelta\n",
    "from lsst_efd_client import EfdClient"
   ]
  },
  {
   "cell_type": "code",
   "execution_count": null,
   "metadata": {
    "execution": {
     "iopub.execute_input": "2024-10-18T19:10:25.052832Z",
     "iopub.status.busy": "2024-10-18T19:10:25.052152Z",
     "iopub.status.idle": "2024-10-18T19:10:26.284864Z",
     "shell.execute_reply": "2024-10-18T19:10:26.284315Z",
     "shell.execute_reply.started": "2024-10-18T19:10:25.052810Z"
    },
    "tags": []
   },
   "outputs": [],
   "source": [
    "client = EfdClient('summit_efd') # 'usdf_efd' at USDF"
   ]
  },
  {
   "cell_type": "markdown",
   "metadata": {},
   "source": [
    "# Queries"
   ]
  },
  {
   "cell_type": "code",
   "execution_count": null,
   "metadata": {
    "execution": {
     "iopub.execute_input": "2024-10-18T19:53:06.614983Z",
     "iopub.status.busy": "2024-10-18T19:53:06.614402Z",
     "iopub.status.idle": "2024-10-18T19:53:06.664182Z",
     "shell.execute_reply": "2024-10-18T19:53:06.663732Z",
     "shell.execute_reply.started": "2024-10-18T19:53:06.614964Z"
    }
   },
   "outputs": [],
   "source": [
    "start = Time(\"2024-10-18 10:00:00Z\", scale='utc')\n",
    "end = Time(\"2024-10-18 15:00:00Z\", scale='utc')\n",
    "commands = []\n",
    "topics = await client.get_topics()\n",
    "for topic in topics:\n",
    "    if 'ATDome' in topic and 'command' in topic and 'Trajectory' not in topic:\n",
    "        commands.append(topic)\n",
    "        \n",
    "file = open(\"/home/cslage/DATA/ATDome_Commands_18Oct24\", \"w\")\n",
    "file.write(f\"ATDome commands from {start.isot} to {end.isot} \\n\\n\")\n",
    "for command in commands:\n",
    "    data = await client.select_time_series(command, ['*'], start, end)\n",
    "    file.write(f\"{command} had {len(data)} commands\\n\\n\")\n",
    "    for i in range(len(data)):\n",
    "        if command == 'lsst.sal.ATDome.command_moveAzimuth':\n",
    "            file.write(f\"{data.index[i]}  {data['azimuth'].values[i]:.2f}\\n\")\n",
    "        else:\n",
    "            file.write(f\"{data.index[i]}\\n\")\n",
    "    file.write(\"\\n\")\n",
    "file.close()"
   ]
  },
  {
   "cell_type": "code",
   "execution_count": null,
   "metadata": {},
   "outputs": [],
   "source": []
  }
 ],
 "metadata": {
  "kernelspec": {
   "display_name": "LSST",
   "language": "python",
   "name": "lsst"
  },
  "language_info": {
   "codemirror_mode": {
    "name": "ipython",
    "version": 3
   },
   "file_extension": ".py",
   "mimetype": "text/x-python",
   "name": "python",
   "nbconvert_exporter": "python",
   "pygments_lexer": "ipython3",
   "version": "3.11.10"
  }
 },
 "nbformat": 4,
 "nbformat_minor": 4
}
