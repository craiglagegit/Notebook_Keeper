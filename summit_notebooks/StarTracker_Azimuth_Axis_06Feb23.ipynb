{
 "cells": [
  {
   "cell_type": "markdown",
   "metadata": {},
   "source": [
    "## Plotting Azimuth axis on StarTracker images - 05-Dec-22\n",
    "\n",
    "Craig Lage"
   ]
  },
  {
   "cell_type": "code",
   "execution_count": null,
   "metadata": {
    "execution": {
     "iopub.execute_input": "2023-02-06T19:19:15.036970Z",
     "iopub.status.busy": "2023-02-06T19:19:15.036703Z",
     "iopub.status.idle": "2023-02-06T19:19:17.401808Z",
     "shell.execute_reply": "2023-02-06T19:19:17.401248Z",
     "shell.execute_reply.started": "2023-02-06T19:19:15.036954Z"
    },
    "tags": []
   },
   "outputs": [],
   "source": [
    "import sys, time, os, asyncio, glob\n",
    "from datetime import datetime\n",
    "import numpy as np\n",
    "import astropy.io.fits as pf\n",
    "import matplotlib.pyplot as plt\n",
    "from astropy.time import Time, TimeDelta\n",
    "from astropy.coordinates import AltAz, ICRS, EarthLocation, Angle, FK5, SkyCoord\n",
    "import astropy.units as u\n",
    "from lsst.obs.lsst.translators.lsst import SIMONYI_LOCATION\n",
    "%matplotlib inline\n",
    "\n",
    "import lsst.afw.image as afwImage\n",
    "from lsst.geom import SpherePoint\n",
    "from lsst.geom import Angle as afwAngle\n",
    "from astroquery.simbad import Simbad\n",
    "from lsst.summit.utils.utils import starTrackerFileToExposure\n",
    "from lsst.summit.utils.astrometry.anet import CommandLineSolver\n",
    "from lsst.summit.utils.astrometry.utils import runCharactierizeImage"
   ]
  },
  {
   "cell_type": "code",
   "execution_count": null,
   "metadata": {
    "execution": {
     "iopub.execute_input": "2023-02-06T20:20:30.410657Z",
     "iopub.status.busy": "2023-02-06T20:20:30.410372Z",
     "iopub.status.idle": "2023-02-06T20:20:30.421587Z",
     "shell.execute_reply": "2023-02-06T20:20:30.421173Z",
     "shell.execute_reply.started": "2023-02-06T20:20:30.410639Z"
    },
    "tags": []
   },
   "outputs": [],
   "source": [
    "solver = CommandLineSolver('/project/shared/ref_cats/astrometry_net/')\n",
    "\n",
    "path = '/project/GenericCamera/101/2022/11/22/'"
   ]
  },
  {
   "cell_type": "code",
   "execution_count": null,
   "metadata": {
    "execution": {
     "iopub.execute_input": "2023-02-06T20:20:31.134804Z",
     "iopub.status.busy": "2023-02-06T20:20:31.134538Z",
     "iopub.status.idle": "2023-02-06T20:20:35.870386Z",
     "shell.execute_reply": "2023-02-06T20:20:35.869781Z",
     "shell.execute_reply.started": "2023-02-06T20:20:31.134787Z"
    },
    "tags": []
   },
   "outputs": [],
   "source": [
    "# Get the image and solve for the WCS\n",
    "seqNum = 39\n",
    "filename = path + f'GC101_O_20221122_{seqNum:06}.fits'\n",
    "exp = starTrackerFileToExposure(filename)\n",
    "results = runCharactierizeImage(exp, 5, 25)\n",
    "solverResults = solver.run(exp, results.sourceCat, isWideField=True)\n",
    "newWcs = solverResults.wcs\n",
    "raSolve = newWcs.getSkyOrigin().getRa().asDegrees()\n",
    "decSolve = newWcs.getSkyOrigin().getDec().asDegrees()"
   ]
  },
  {
   "cell_type": "code",
   "execution_count": null,
   "metadata": {
    "execution": {
     "iopub.execute_input": "2023-02-06T20:20:35.958140Z",
     "iopub.status.busy": "2023-02-06T20:20:35.957991Z",
     "iopub.status.idle": "2023-02-06T20:20:35.970230Z",
     "shell.execute_reply": "2023-02-06T20:20:35.969684Z",
     "shell.execute_reply.started": "2023-02-06T20:20:35.958125Z"
    },
    "tags": []
   },
   "outputs": [],
   "source": [
    "DIR = \"/project/GenericCamera/101/2022/11/22/\"\n",
    "HEAD = \"GC101_O_20221122_\"\n",
    "hdulist = pf.open(f\"{DIR}{HEAD}0000{seqNum}.fits\")\n",
    "header = hdulist[0].header\n",
    "time = Time(header[\"DATE-OBS\"])\n",
    "\n",
    "Alt = 90.0\n",
    "Az = 180.0\n",
    "now = Time(datetime.now())\n",
    "altAz = SkyCoord(AltAz(alt=Alt*u.deg, az=Az*u.deg, obstime=time, location=SIMONYI_LOCATION))\n",
    "RaDec = altAz.transform_to(ICRS)\n",
    "spherePoint = SpherePoint(afwAngle(RaDec.ra.rad), afwAngle(RaDec.dec.rad))\n",
    "point = newWcs.skyToPixel(spherePoint)\n",
    "print(point)"
   ]
  },
  {
   "cell_type": "code",
   "execution_count": null,
   "metadata": {
    "execution": {
     "iopub.execute_input": "2023-02-06T20:20:37.232437Z",
     "iopub.status.busy": "2023-02-06T20:20:37.232172Z",
     "iopub.status.idle": "2023-02-06T20:20:37.236937Z",
     "shell.execute_reply": "2023-02-06T20:20:37.236416Z",
     "shell.execute_reply.started": "2023-02-06T20:20:37.232422Z"
    },
    "tags": []
   },
   "outputs": [],
   "source": [
    "azimuth_axis = (1560.85, 1257.151) # From Adrian Shestakov - 10Dec22\n",
    "newWcs.getPixelOrigin().x, newWcs.getPixelOrigin().y\n",
    "separation_red_green = np.sqrt((point.x - azimuth_axis[0])**2 + (point.y - azimuth_axis[1])**2)\n",
    "separation_red_green *= newWcs.getPixelScale().asArcseconds()\n",
    "separation_red_yellow = np.sqrt((point.x - newWcs.getPixelOrigin().x)**2 + (point.y - newWcs.getPixelOrigin().y)**2)\n",
    "separation_red_yellow *= newWcs.getPixelScale().asArcseconds()\n",
    "print(separation_red_green, separation_red_yellow)"
   ]
  },
  {
   "cell_type": "code",
   "execution_count": null,
   "metadata": {
    "execution": {
     "iopub.execute_input": "2023-02-06T20:22:34.906805Z",
     "iopub.status.busy": "2023-02-06T20:22:34.906531Z",
     "iopub.status.idle": "2023-02-06T20:22:35.467280Z",
     "shell.execute_reply": "2023-02-06T20:22:35.466793Z",
     "shell.execute_reply.started": "2023-02-06T20:22:34.906788Z"
    },
    "tags": []
   },
   "outputs": [],
   "source": [
    "seqNum = 43\n",
    "filename = path + f'GC101_O_20221122_{seqNum:06}.fits'\n",
    "exp = afwImage.ExposureF(filename)\n",
    "\n",
    "Ncenter = (300, 1800)\n",
    "Nlength = 500.0\n",
    "Nlabel = 650.0\n",
    "\n",
    "\n",
    "# Now plot the data with matplotlib\n",
    "%matplotlib inline\n",
    "def colorbar(mappable):\n",
    "    from mpl_toolkits.axes_grid1 import make_axes_locatable\n",
    "    last_axes = plt.gca()\n",
    "    ax = mappable.axes\n",
    "    fig = ax.figure\n",
    "    divider = make_axes_locatable(ax)\n",
    "    cax = divider.append_axes(\"right\", size=\"5%\", pad=0.05)\n",
    "    cbar = fig.colorbar(mappable, cax=cax)\n",
    "    plt.sca(last_axes)\n",
    "    return cbar\n",
    "\n",
    "plt.figure(figsize=(8,8))\n",
    "plt.title(\"StarTracker Wide Field 2022112200043\")\n",
    "img = plt.imshow(exp.image.array,  vmin=1, vmax=6000, interpolation='Nearest', cmap='gray')\n",
    "plt.scatter(point.x, point.y, marker='+', color='green', s=200,lw=2)\n",
    "plt.text(point.x+200, point.y, \"Astronomical Zenith\", color='green', fontsize=18)\n",
    "plt.scatter(azimuth_axis[0], azimuth_axis[1], marker='+', color='red', s=200,lw=2)\n",
    "plt.text(azimuth_axis[0]-1000, azimuth_axis[1], \"Azimuth Axis\", color='red', fontsize=18)\n",
    "plt.scatter(newWcs.getPixelOrigin().x, newWcs.getPixelOrigin().y, marker='+', color='yellow', s=200,lw=2)\n",
    "plt.text(newWcs.getPixelOrigin().x-100,newWcs.getPixelOrigin().x-700, \"Image center\", color='yellow', fontsize=18)\n",
    "\n",
    "plt.text(azimuth_axis[0]-1500, azimuth_axis[1]+500, f\"Separation Red_Green = {separation_red_green:.2f} arcseconds\", color='red', fontsize=18)\n",
    "plt.text(azimuth_axis[0]-1500, azimuth_axis[1]+700, f\"Separation Red_Yellow = {separation_red_yellow:.2f} arcseconds\", color='red', fontsize=18)\n",
    "xs = []\n",
    "ys = []\n",
    "r = 1480.0\n",
    "for deg in range(10, 58):\n",
    "    x = azimuth_axis[0] + r * np.cos(deg * np.pi / 180.0)\n",
    "    y = azimuth_axis[1] - r * np.sin(deg * np.pi / 180.0)\n",
    "    xs.append(x)\n",
    "    ys.append(y)\n",
    "plt.plot(xs, ys, color='red')\n",
    "xs = []\n",
    "ys = []\n",
    "r = 1460.0\n",
    "for deg in range(150, 220):\n",
    "    x = azimuth_axis[0] + r * np.cos(deg * np.pi / 180.0)\n",
    "    y = azimuth_axis[1] - r * np.sin(deg * np.pi / 180.0)\n",
    "    xs.append(x)\n",
    "    ys.append(y)\n",
    "plt.plot(xs, ys, color='red')\n",
    "xs = []\n",
    "ys = []\n",
    "r = 850.0\n",
    "for deg in range(-25, 40):\n",
    "    x = azimuth_axis[0] + r * np.cos(deg * np.pi / 180.0)\n",
    "    y = azimuth_axis[1] - r * np.sin(deg * np.pi / 180.0)\n",
    "    xs.append(x)\n",
    "    ys.append(y)\n",
    "plt.plot(xs, ys, color='red')\n",
    "\n",
    "colorbar(img)\n",
    "plt.tight_layout(h_pad=1)\n",
    "plt.savefig(\"/home/craiglagegit/DATA/StarTracker_Azimuth_Axis_Center_Wide_20221122_43.pdf\")"
   ]
  },
  {
   "cell_type": "code",
   "execution_count": null,
   "metadata": {
    "execution": {
     "iopub.execute_input": "2023-02-06T20:23:42.235566Z",
     "iopub.status.busy": "2023-02-06T20:23:42.235282Z",
     "iopub.status.idle": "2023-02-06T20:23:42.246782Z",
     "shell.execute_reply": "2023-02-06T20:23:42.246392Z",
     "shell.execute_reply.started": "2023-02-06T20:23:42.235550Z"
    },
    "tags": []
   },
   "outputs": [],
   "source": [
    "solver = CommandLineSolver('/project/shared/ref_cats/astrometry_net/')\n",
    "\n",
    "path = '/project/GenericCamera/102/2022/11/22/'"
   ]
  },
  {
   "cell_type": "code",
   "execution_count": null,
   "metadata": {
    "execution": {
     "iopub.execute_input": "2023-02-06T20:23:42.967059Z",
     "iopub.status.busy": "2023-02-06T20:23:42.966773Z",
     "iopub.status.idle": "2023-02-06T20:23:48.735159Z",
     "shell.execute_reply": "2023-02-06T20:23:48.734557Z",
     "shell.execute_reply.started": "2023-02-06T20:23:42.967039Z"
    },
    "tags": []
   },
   "outputs": [],
   "source": [
    "# Get the image and solve for the WCS\n",
    "seqNum = 30\n",
    "filename = path + f'GC102_O_20221122_{seqNum:06}.fits'\n",
    "exp = starTrackerFileToExposure(filename)\n",
    "results = runCharactierizeImage(exp, 5, 25)\n",
    "solverResults = solver.run(exp, results.sourceCat, percentageScaleError=60.0, isWideField=False)\n",
    "newWcs = solverResults.wcs\n",
    "raSolve = newWcs.getSkyOrigin().getRa().asDegrees()\n",
    "decSolve = newWcs.getSkyOrigin().getDec().asDegrees()"
   ]
  },
  {
   "cell_type": "code",
   "execution_count": null,
   "metadata": {
    "execution": {
     "iopub.execute_input": "2023-02-06T20:23:48.809361Z",
     "iopub.status.busy": "2023-02-06T20:23:48.809046Z",
     "iopub.status.idle": "2023-02-06T20:23:48.820976Z",
     "shell.execute_reply": "2023-02-06T20:23:48.820413Z",
     "shell.execute_reply.started": "2023-02-06T20:23:48.809344Z"
    },
    "tags": []
   },
   "outputs": [],
   "source": [
    "DIR = \"/project/GenericCamera/102/2022/11/22/\"\n",
    "HEAD = \"GC102_O_20221122_\"\n",
    "hdulist = pf.open(f\"{DIR}{HEAD}0000{seqNum}.fits\")\n",
    "header = hdulist[0].header\n",
    "time = Time(header[\"DATE-OBS\"])\n",
    "\n",
    "Alt = 90.0\n",
    "Az = 180.0\n",
    "now = Time(datetime.now())\n",
    "altAz = SkyCoord(AltAz(alt=Alt*u.deg, az=Az*u.deg, obstime=time, location=SIMONYI_LOCATION))\n",
    "RaDec = altAz.transform_to(ICRS)\n",
    "spherePoint = SpherePoint(afwAngle(RaDec.ra.rad), afwAngle(RaDec.dec.rad))\n",
    "point = newWcs.skyToPixel(spherePoint)\n",
    "print(point)"
   ]
  },
  {
   "cell_type": "code",
   "execution_count": null,
   "metadata": {
    "execution": {
     "iopub.execute_input": "2023-02-06T20:23:49.068641Z",
     "iopub.status.busy": "2023-02-06T20:23:49.068226Z",
     "iopub.status.idle": "2023-02-06T20:23:49.072644Z",
     "shell.execute_reply": "2023-02-06T20:23:49.072145Z",
     "shell.execute_reply.started": "2023-02-06T20:23:49.068624Z"
    },
    "tags": []
   },
   "outputs": [],
   "source": [
    "azimuth_axis = (1867.87282572, 974.5819506) # From Adrian Shestakov - 10Dec22\n",
    "newWcs.getPixelOrigin().x, newWcs.getPixelOrigin().y\n",
    "separation_red_green = np.sqrt((point.x - azimuth_axis[0])**2 + (point.y - azimuth_axis[1])**2)\n",
    "separation_red_green *= newWcs.getPixelScale().asArcseconds()\n",
    "separation_red_yellow = np.sqrt((point.x - newWcs.getPixelOrigin().x)**2 + (point.y - newWcs.getPixelOrigin().y)**2)\n",
    "separation_red_yellow *= newWcs.getPixelScale().asArcseconds()\n",
    "print(separation_red_green, separation_red_yellow)"
   ]
  },
  {
   "cell_type": "code",
   "execution_count": null,
   "metadata": {
    "execution": {
     "iopub.execute_input": "2023-02-06T20:24:54.708893Z",
     "iopub.status.busy": "2023-02-06T20:24:54.708618Z",
     "iopub.status.idle": "2023-02-06T20:24:55.332383Z",
     "shell.execute_reply": "2023-02-06T20:24:55.331934Z",
     "shell.execute_reply.started": "2023-02-06T20:24:54.708876Z"
    },
    "tags": []
   },
   "outputs": [],
   "source": [
    "seqNum = 43\n",
    "filename = path + f'GC102_O_20221122_{seqNum:06}.fits'\n",
    "exp = afwImage.ExposureF(filename)\n",
    "\n",
    "Ncenter = (300, 1800)\n",
    "Nlength = 500.0\n",
    "Nlabel = 650.0\n",
    "\n",
    "\n",
    "# Now plot the data with matplotlib\n",
    "%matplotlib inline\n",
    "def colorbar(mappable):\n",
    "    from mpl_toolkits.axes_grid1 import make_axes_locatable\n",
    "    last_axes = plt.gca()\n",
    "    ax = mappable.axes\n",
    "    fig = ax.figure\n",
    "    divider = make_axes_locatable(ax)\n",
    "    cax = divider.append_axes(\"right\", size=\"5%\", pad=0.05)\n",
    "    cbar = fig.colorbar(mappable, cax=cax)\n",
    "    plt.sca(last_axes)\n",
    "    return cbar\n",
    "\n",
    "plt.figure(figsize=(8,8))\n",
    "plt.title(\"StarTracker Narrow Field 2022112200043\")\n",
    "img = plt.imshow(exp.image.array,  vmin=1, vmax=2000, interpolation='Nearest', cmap='gray')\n",
    "plt.scatter(point.x, point.y, marker='+', color='green', s=200,lw=2)\n",
    "plt.text(point.x-300, point.y-200, \"Astronomical Zenith\", color='green', fontsize=18)\n",
    "plt.scatter(azimuth_axis[0], azimuth_axis[1], marker='+', color='red', s=200,lw=2)\n",
    "plt.text(azimuth_axis[0]-1000, azimuth_axis[1], \"Azimuth Axis\", color='red', fontsize=18)\n",
    "plt.scatter(newWcs.getPixelOrigin().x, newWcs.getPixelOrigin().y, marker='+', color='yellow', s=200,lw=2)\n",
    "plt.text(newWcs.getPixelOrigin().x-200,newWcs.getPixelOrigin().x-500, \"Image center\", color='yellow', fontsize=18)\n",
    "\n",
    "plt.text(azimuth_axis[0]-1500, azimuth_axis[1]+500, f\"Separation Red_Green = {separation_red_green:.2f} arcseconds\", color='red', fontsize=18)\n",
    "plt.text(azimuth_axis[0]-1500, azimuth_axis[1]+700, f\"Separation Red_Yellow = {separation_red_yellow:.2f} arcseconds\", color='red', fontsize=18)\n",
    "xs = []\n",
    "ys = []\n",
    "r = 1900.0\n",
    "for deg in range(200, 245):\n",
    "    x = azimuth_axis[0] + r * np.cos(deg * np.pi / 180.0)\n",
    "    y = azimuth_axis[1] - r * np.sin(deg * np.pi / 180.0)\n",
    "    xs.append(x)\n",
    "    ys.append(y)\n",
    "plt.plot(xs, ys, color='red')\n",
    "\n",
    "xs = []\n",
    "ys = []\n",
    "r = 1200.0\n",
    "for deg in range(300,360):\n",
    "    x = azimuth_axis[0] + r * np.cos(deg * np.pi / 180.0)\n",
    "    y = azimuth_axis[1] - r * np.sin(deg * np.pi / 180.0)\n",
    "    xs.append(x)\n",
    "    ys.append(y)\n",
    "plt.plot(xs, ys, color='red')\n",
    "colorbar(img)\n",
    "plt.tight_layout(h_pad=1)\n",
    "plt.savefig(\"/home/craiglagegit/DATA/StarTracker_Azimuth_Axis_Center_Narrow_20221122_43.pdf\")"
   ]
  },
  {
   "cell_type": "code",
   "execution_count": null,
   "metadata": {},
   "outputs": [],
   "source": []
  }
 ],
 "metadata": {
  "kernelspec": {
   "display_name": "LSST",
   "language": "python",
   "name": "lsst"
  },
  "language_info": {
   "codemirror_mode": {
    "name": "ipython",
    "version": 3
   },
   "file_extension": ".py",
   "mimetype": "text/x-python",
   "name": "python",
   "nbconvert_exporter": "python",
   "pygments_lexer": "ipython3",
   "version": "3.11.10"
  }
 },
 "nbformat": 4,
 "nbformat_minor": 4
}
