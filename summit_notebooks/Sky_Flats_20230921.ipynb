{
 "cells": [
  {
   "cell_type": "markdown",
   "metadata": {},
   "source": [
    "# Take multiple sky flats\n",
    "This notebook will take a stuttered image with sub images \\\n",
    "\n",
    "Craig Lage - 21Sep23"
   ]
  },
  {
   "cell_type": "code",
   "execution_count": null,
   "metadata": {
    "execution": {
     "iopub.execute_input": "2023-09-21T22:20:08.093182Z",
     "iopub.status.busy": "2023-09-21T22:20:08.092806Z",
     "iopub.status.idle": "2023-09-21T22:20:14.928017Z",
     "shell.execute_reply": "2023-09-21T22:20:14.927252Z",
     "shell.execute_reply.started": "2023-09-21T22:20:08.093148Z"
    },
    "tags": []
   },
   "outputs": [],
   "source": [
    "import sys, asyncio, time, os\n",
    "import numpy as np\n",
    "from random import uniform\n",
    "from astropy.time import Time, TimeDelta\n",
    "from astropy import units as u\n",
    "\n",
    "from lsst.ts import salobj\n",
    "\n",
    "from lsst.ts.observatory.control.auxtel.atcs import ATCS\n",
    "from lsst.ts.observatory.control.auxtel.latiss import LATISS\n",
    "from lsst.ts.observatory.control.utils import RotType"
   ]
  },
  {
   "cell_type": "code",
   "execution_count": null,
   "metadata": {
    "execution": {
     "iopub.execute_input": "2023-09-21T22:20:14.934395Z",
     "iopub.status.busy": "2023-09-21T22:20:14.934247Z",
     "iopub.status.idle": "2023-09-21T22:20:14.937390Z",
     "shell.execute_reply": "2023-09-21T22:20:14.936868Z",
     "shell.execute_reply.started": "2023-09-21T22:20:14.934381Z"
    },
    "tags": []
   },
   "outputs": [],
   "source": [
    "stream_handler = logging.StreamHandler(sys.stdout)\n",
    "# if you want logging\n",
    "logger = logging.getLogger()\n",
    "logger.addHandler(stream_handler)\n",
    "logger.level = logging.DEBUG"
   ]
  },
  {
   "cell_type": "markdown",
   "metadata": {},
   "source": [
    "### Instantiate the control classes"
   ]
  },
  {
   "cell_type": "code",
   "execution_count": null,
   "metadata": {
    "execution": {
     "iopub.execute_input": "2023-09-21T22:20:14.938521Z",
     "iopub.status.busy": "2023-09-21T22:20:14.938381Z",
     "iopub.status.idle": "2023-09-21T22:20:16.630093Z",
     "shell.execute_reply": "2023-09-21T22:20:16.629709Z",
     "shell.execute_reply.started": "2023-09-21T22:20:14.938508Z"
    },
    "jupyter": {
     "outputs_hidden": true
    },
    "tags": []
   },
   "outputs": [],
   "source": [
    "domain = salobj.Domain()\n",
    "atcs = ATCS(domain)\n",
    "latiss = LATISS(domain)\n",
    "await asyncio.gather(atcs.start_task, latiss.start_task)"
   ]
  },
  {
   "cell_type": "code",
   "execution_count": null,
   "metadata": {
    "execution": {
     "iopub.execute_input": "2023-09-21T22:26:39.642570Z",
     "iopub.status.busy": "2023-09-21T22:26:39.642160Z",
     "iopub.status.idle": "2023-09-21T22:26:39.651978Z",
     "shell.execute_reply": "2023-09-21T22:26:39.651295Z",
     "shell.execute_reply.started": "2023-09-21T22:26:39.642535Z"
    },
    "tags": []
   },
   "outputs": [],
   "source": [
    "await atcs.enable_dome_following()"
   ]
  },
  {
   "cell_type": "code",
   "execution_count": null,
   "metadata": {
    "execution": {
     "iopub.execute_input": "2023-09-21T22:46:11.028835Z",
     "iopub.status.busy": "2023-09-21T22:46:11.028461Z",
     "iopub.status.idle": "2023-09-21T22:46:11.126158Z",
     "shell.execute_reply": "2023-09-21T22:46:11.125460Z",
     "shell.execute_reply.started": "2023-09-21T22:46:11.028804Z"
    },
    "jupyter": {
     "outputs_hidden": true
    },
    "tags": []
   },
   "outputs": [],
   "source": [
    "start_az=90.0\n",
    "start_el=80.0\n",
    "start_rot=0\n",
    "coord=atcs.radec_from_azel(az=start_az, el=start_el)\n",
    "await atcs.slew_icrs(coord.ra, coord.dec, rot=start_rot, stop_before_slew=False, rot_type=RotType.PhysicalSky)\n"
   ]
  },
  {
   "cell_type": "code",
   "execution_count": null,
   "metadata": {
    "execution": {
     "iopub.execute_input": "2023-09-21T22:48:18.394161Z",
     "iopub.status.busy": "2023-09-21T22:48:18.393823Z",
     "iopub.status.idle": "2023-09-21T22:48:58.422663Z",
     "shell.execute_reply": "2023-09-21T22:48:58.421846Z",
     "shell.execute_reply.started": "2023-09-21T22:48:18.394122Z"
    },
    "jupyter": {
     "outputs_hidden": true
    },
    "tags": []
   },
   "outputs": [],
   "source": [
    "await atcs.offset_azel(azShift, elShift)\n",
    "await latiss.take_engtest(exptime=exptime, n=1, filter=filter, grating=grating)"
   ]
  },
  {
   "cell_type": "code",
   "execution_count": null,
   "metadata": {
    "execution": {
     "iopub.execute_input": "2023-09-21T22:49:41.532848Z",
     "iopub.status.busy": "2023-09-21T22:49:41.532516Z",
     "iopub.status.idle": "2023-09-21T22:49:41.538208Z",
     "shell.execute_reply": "2023-09-21T22:49:41.537261Z",
     "shell.execute_reply.started": "2023-09-21T22:49:41.532820Z"
    },
    "tags": []
   },
   "outputs": [],
   "source": [
    "available_setup = await latiss.get_available_instrument_setup()\n",
    "filters = available_setup[0]\n",
    "gratings = available_setup[1]\n",
    "print(filters)\n",
    "print(gratings)"
   ]
  },
  {
   "cell_type": "code",
   "execution_count": null,
   "metadata": {
    "execution": {
     "iopub.execute_input": "2023-09-21T22:49:47.074892Z",
     "iopub.status.busy": "2023-09-21T22:49:47.074498Z",
     "iopub.status.idle": "2023-09-21T22:55:58.783512Z",
     "shell.execute_reply": "2023-09-21T22:55:58.782485Z",
     "shell.execute_reply.started": "2023-09-21T22:49:47.074862Z"
    },
    "jupyter": {
     "outputs_hidden": true
    },
    "tags": []
   },
   "outputs": [],
   "source": [
    "exptime = 30.0\n",
    "deltaAz = 100.0\n",
    "deltaEl = 100.0\n",
    "these_filters = filters[0:3]\n",
    "these_gratings = [gratings[2]]\n",
    "for filter in these_filters:\n",
    "    for grating in these_gratings:\n",
    "        for n in range(3):\n",
    "            azShift = deltaAz * uniform(-1.0,1.0)\n",
    "            elShift = deltaEl * uniform(-1.0,1.0)\n",
    "            await atcs.offset_azel(azShift, elShift)\n",
    "            await latiss.take_engtest(exptime=exptime, n=1, filter=filter, grating=grating)"
   ]
  },
  {
   "cell_type": "code",
   "execution_count": null,
   "metadata": {
    "execution": {
     "iopub.execute_input": "2023-09-21T22:58:02.809742Z",
     "iopub.status.busy": "2023-09-21T22:58:02.809372Z",
     "iopub.status.idle": "2023-09-21T22:58:09.449915Z",
     "shell.execute_reply": "2023-09-21T22:58:09.448859Z",
     "shell.execute_reply.started": "2023-09-21T22:58:02.809709Z"
    }
   },
   "outputs": [],
   "source": [
    "await latiss.take_engtest(exptime=1.0, n=1, filter='SDSSr_65mm', grating='empty_1')"
   ]
  },
  {
   "cell_type": "code",
   "execution_count": null,
   "metadata": {},
   "outputs": [],
   "source": []
  },
  {
   "cell_type": "code",
   "execution_count": null,
   "metadata": {
    "execution": {
     "iopub.execute_input": "2023-09-21T23:00:04.179164Z",
     "iopub.status.busy": "2023-09-21T23:00:04.178781Z",
     "iopub.status.idle": "2023-09-21T23:06:23.368098Z",
     "shell.execute_reply": "2023-09-21T23:06:23.367170Z",
     "shell.execute_reply.started": "2023-09-21T23:00:04.179117Z"
    },
    "jupyter": {
     "outputs_hidden": true
    },
    "tags": []
   },
   "outputs": [],
   "source": [
    "exptime = 10.0\n",
    "deltaAz = 100.0\n",
    "deltaEl = 100.0\n",
    "these_filters = filters[0:3]\n",
    "these_gratings = [gratings[0], gratings[3]]\n",
    "for filter in these_filters:\n",
    "    for grating in these_gratings:\n",
    "        for n in range(3):\n",
    "            azShift = deltaAz * uniform(-1.0,1.0)\n",
    "            elShift = deltaEl * uniform(-1.0,1.0)\n",
    "            await atcs.offset_azel(azShift, elShift)\n",
    "            await latiss.take_engtest(exptime=exptime, n=1, filter=filter, grating=grating)"
   ]
  },
  {
   "cell_type": "code",
   "execution_count": null,
   "metadata": {},
   "outputs": [],
   "source": []
  }
 ],
 "metadata": {
  "kernelspec": {
   "display_name": "LSST",
   "language": "python",
   "name": "lsst"
  },
  "language_info": {
   "codemirror_mode": {
    "name": "ipython",
    "version": 3
   },
   "file_extension": ".py",
   "mimetype": "text/x-python",
   "name": "python",
   "nbconvert_exporter": "python",
   "pygments_lexer": "ipython3",
   "version": "3.11.4"
  }
 },
 "nbformat": 4,
 "nbformat_minor": 4
}
