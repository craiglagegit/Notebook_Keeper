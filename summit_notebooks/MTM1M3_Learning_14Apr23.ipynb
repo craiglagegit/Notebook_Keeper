{
 "cells": [
  {
   "cell_type": "markdown",
   "metadata": {},
   "source": [
    "# M1M3 cell learning\n",
    "Craig Lage - 14-Apr-23 \\\n",
    "The 17 tons of mirror are supported by 156 pneumatic actuators where 44 are single-axis and provide support only on the axial direction, 100 are dual-axis providing support in the axial and lateral direction, and 12 are dual-axis providing support in the axial and cross lateral directions. \\\n",
    "Positioning is provided by 6 hard points in a hexapod configuration which moves the mirror to a fixed operational position that shall be maintained during telescope operations. The remaining optical elements will be moved relative to this position in order to align the telescope optics. Support and optical figure correction is provided by 112 dual axis and 44 single axis pneumatic actuators. "
   ]
  },
  {
   "cell_type": "code",
   "execution_count": null,
   "metadata": {
    "execution": {
     "iopub.execute_input": "2023-04-18T16:26:09.640617Z",
     "iopub.status.busy": "2023-04-18T16:26:09.640346Z",
     "iopub.status.idle": "2023-04-18T16:26:09.643953Z",
     "shell.execute_reply": "2023-04-18T16:26:09.643581Z",
     "shell.execute_reply.started": "2023-04-18T16:26:09.640601Z"
    },
    "tags": []
   },
   "outputs": [],
   "source": [
    "import sys, time, os, asyncio, glob\n",
    "from datetime import datetime\n",
    "import numpy as np\n",
    "import matplotlib.pyplot as plt\n",
    "import matplotlib as mpl\n",
    "from matplotlib.colors import LightSource as LS\n",
    "import pickle as pkl\n",
    "from astropy.time import Time, TimeDelta\n",
    "import lsst.ts.cRIOpy.M1M3FATable as M1M3FATable\n",
    "\n",
    "from lsst_efd_client import EfdClient\n",
    "\n"
   ]
  },
  {
   "cell_type": "code",
   "execution_count": null,
   "metadata": {
    "execution": {
     "iopub.execute_input": "2023-04-18T13:09:24.875829Z",
     "iopub.status.busy": "2023-04-18T13:09:24.875453Z",
     "iopub.status.idle": "2023-04-18T13:09:26.064420Z",
     "shell.execute_reply": "2023-04-18T13:09:26.063922Z",
     "shell.execute_reply.started": "2023-04-18T13:09:24.875810Z"
    },
    "tags": []
   },
   "outputs": [],
   "source": [
    "client = EfdClient('summit_efd')\n",
    "FATABLE = M1M3FATable.FATABLE"
   ]
  },
  {
   "cell_type": "code",
   "execution_count": null,
   "metadata": {
    "execution": {
     "iopub.execute_input": "2023-04-18T19:55:16.051987Z",
     "iopub.status.busy": "2023-04-18T19:55:16.051713Z",
     "iopub.status.idle": "2023-04-18T19:55:16.316309Z",
     "shell.execute_reply": "2023-04-18T19:55:16.315887Z",
     "shell.execute_reply.started": "2023-04-18T19:55:16.051969Z"
    },
    "tags": []
   },
   "outputs": [],
   "source": [
    "fig = plt.figure(figsize=(8,8))\n",
    "plt.subplot(1,1,1,aspect=1.0)\n",
    "plt.xlabel(\"X position (m)\")\n",
    "plt.ylabel(\"Y position (m)\")\n",
    "plt.title(\"M1M3 Actuator positions and type\\nHardpoints are approximate\", fontsize=18)\n",
    "types = [['SAA','NA', 'o', 'Z', 'b'], ['DAA','+Y', '^', '+Y','g'], ['DAA','-Y', 'v', '-Y', 'cyan'], \\\n",
    "         ['DAA','+X', '>', '+X', 'r'], ['DAA','-X', '<', '-X', 'r']]\n",
    "for [type, orient, marker, label, color] in types: \n",
    "    xs = []\n",
    "    ys = []\n",
    "    for i in range(len(FATABLE)):\n",
    "        x = FATABLE[i][M1M3FATable.FATABLE_XPOSITION]\n",
    "        y = FATABLE[i][M1M3FATable.FATABLE_YPOSITION]\n",
    "        if FATABLE[i][M1M3FATable.FATABLE_TYPE] == type and FATABLE[i][M1M3FATable.FATABLE_ORIENTATION] == orient:\n",
    "            xs.append(x)\n",
    "            ys.append(y)\n",
    "        else:\n",
    "            continue\n",
    "    plt.scatter(xs, ys, marker=marker, color=color, s=200, label=label)        \n",
    "\n",
    "# Now plot approximate hardpoint location\n",
    "Rhp = 3.1 # Radius in meters\n",
    "for i in range(6):\n",
    "    theta = 2.0 * np.pi / 6.0 * float(i)\n",
    "    if i == 0:\n",
    "        plt.scatter(Rhp * np.cos(theta), Rhp * np.sin(theta), marker='o', color='magenta', s=200, label='HP')\n",
    "    else:\n",
    "        plt.scatter(Rhp * np.cos(theta), Rhp * np.sin(theta), marker='o', color='magenta', s=200, label='_nolegend_')\n",
    "plt.legend(loc='lower left', fontsize=9)"
   ]
  },
  {
   "cell_type": "code",
   "execution_count": null,
   "metadata": {
    "execution": {
     "iopub.execute_input": "2023-04-16T13:16:32.742515Z",
     "iopub.status.busy": "2023-04-16T13:16:32.742180Z",
     "iopub.status.idle": "2023-04-16T13:16:33.171377Z",
     "shell.execute_reply": "2023-04-16T13:16:33.170939Z",
     "shell.execute_reply.started": "2023-04-16T13:16:32.742497Z"
    },
    "tags": []
   },
   "outputs": [],
   "source": [
    "# I think this is going to work with more tweaking\n",
    "\n",
    "lightsource = LS(azdeg=180, altdeg=78)\n",
    "fig, ax = plt.subplots(subplot_kw={\"projection\": \"3d\"}, figsize=(16,16))\n",
    "\n",
    "\n",
    "greyColor = '0.9'\n",
    "colors = []\n",
    "xs = []\n",
    "ys = []\n",
    "for i in range(len(FATABLE)):\n",
    "    x = FATABLE[i][M1M3FATable.FATABLE_XPOSITION]\n",
    "    y = FATABLE[i][M1M3FATable.FATABLE_YPOSITION]\n",
    "    xs.append(x)\n",
    "    ys.append(y)\n",
    "    if FATABLE[i][M1M3FATable.FATABLE_TYPE] == 'SAA':\n",
    "        colors.append('blue'); colors.append('blue')\n",
    "        colors.append(greyColor); colors.append(greyColor)\n",
    "        colors.append(greyColor); colors.append(greyColor)\n",
    "    else:\n",
    "        if FATABLE[i][M1M3FATable.FATABLE_ORIENTATION] in ['+Y', '-Y']:\n",
    "            colors.append('green'); colors.append('green')\n",
    "            colors.append(greyColor); colors.append(greyColor)\n",
    "            colors.append(greyColor); colors.append(greyColor)\n",
    "        if FATABLE[i][M1M3FATable.FATABLE_ORIENTATION] in ['+X', '-X']:\n",
    "            colors.append('red'); colors.append('red')\n",
    "            colors.append(greyColor); colors.append(greyColor)\n",
    "            colors.append(greyColor); colors.append(greyColor)\n",
    "\n",
    "zs = np.zeros([len(FATABLE)])\n",
    "for i in range(len(FATABLE)):\n",
    "    #zs[i] = 2.0 + 0.1 * xs[i]\n",
    "    zs[i] = 2.0 + 0.25 * np.sqrt(xs[i]*xs[i] + ys[i]*ys[i])\n",
    "    #zs[i] = 2.0 + np.random.rand()\n",
    "\n",
    "dxs = 0.2 * np.ones([len(FATABLE)])\n",
    "dys = 0.2 * np.ones([len(FATABLE)])\n",
    "bottom = np.zeros([len(FATABLE)])\n",
    "ax.bar3d(xs, ys, bottom, dxs, dys, zs, shade=True, alpha=0.5, lightsource=lightsource, color=colors)\n",
    "\n",
    "ax.set_zlim(0, 4.0)\n",
    "ax.view_init(elev=30., azim=225)\n"
   ]
  },
  {
   "cell_type": "code",
   "execution_count": null,
   "metadata": {
    "execution": {
     "iopub.execute_input": "2023-04-16T13:02:31.415933Z",
     "iopub.status.busy": "2023-04-16T13:02:31.415598Z",
     "iopub.status.idle": "2023-04-16T13:02:31.641772Z",
     "shell.execute_reply": "2023-04-16T13:02:31.641349Z",
     "shell.execute_reply.started": "2023-04-16T13:02:31.415910Z"
    },
    "tags": []
   },
   "outputs": [],
   "source": [
    "fig = plt.figure(figsize=(8,8))\n",
    "plt.subplot(1,1,1,aspect=1.0)\n",
    "plt.xlabel(\"X position (m)\")\n",
    "plt.ylabel(\"Y position (m)\")\n",
    "plt.title(\"M1M3 Actuator positions\", fontsize=18)\n",
    "\n",
    "xs = []\n",
    "ys = []\n",
    "for i in range(len(FATABLE)):\n",
    "    x = FATABLE[i][M1M3FATable.FATABLE_XPOSITION]\n",
    "    y = FATABLE[i][M1M3FATable.FATABLE_YPOSITION]\n",
    "    xs.append(x)\n",
    "    ys.append(y)\n",
    "\n",
    "zs = np.zeros([len(FATABLE)])\n",
    "for i in range(len(FATABLE)):\n",
    "    zs[i] = 2.0 + 0.1 * xs[i]\n",
    "\n",
    "import matplotlib as mpl\n",
    "from matplotlib.colors import ListedColormap, LinearSegmentedColormap\n",
    "plasma_big = mpl.colormaps['plasma']\n",
    "newcmp = ListedColormap(plasma_big(np.linspace(0,4.0,256)))\n",
    "plt.scatter(xs, ys, c=zs, cmap='plasma', s=200)\n",
    "\n",
    "plt.colorbar(cmap=newcmp)"
   ]
  },
  {
   "cell_type": "code",
   "execution_count": null,
   "metadata": {
    "execution": {
     "iopub.execute_input": "2023-04-16T13:38:30.142451Z",
     "iopub.status.busy": "2023-04-16T13:38:30.142160Z",
     "iopub.status.idle": "2023-04-16T13:38:30.373565Z",
     "shell.execute_reply": "2023-04-16T13:38:30.373111Z",
     "shell.execute_reply.started": "2023-04-16T13:38:30.142434Z"
    },
    "tags": []
   },
   "outputs": [],
   "source": [
    "\n",
    "fig = plt.figure(figsize=(8,8))\n",
    "plt.subplot(1,1,1,aspect=1.0)\n",
    "plt.xlabel(\"X position (m)\")\n",
    "plt.ylabel(\"Y position (m)\")\n",
    "plt.title(\"M1M3 Actuator positions\", fontsize=18)\n",
    "\n",
    "types = [['SAA','NA', 'o', 'Z'], ['DAA','+Y', '^', '+Y'], ['DAA','-Y', 'v', '-Y'], ['DAA','+X', '>', '+X'], ['DAA','-X', '<', '-X']]\n",
    "\n",
    "for [type, orient, marker, label] in types: \n",
    "    xs = []\n",
    "    ys = []\n",
    "    zs = []\n",
    "    for i in range(len(FATABLE)):\n",
    "        x = FATABLE[i][M1M3FATable.FATABLE_XPOSITION]\n",
    "        y = FATABLE[i][M1M3FATable.FATABLE_YPOSITION]\n",
    "        if FATABLE[i][M1M3FATable.FATABLE_TYPE] == type and FATABLE[i][M1M3FATable.FATABLE_ORIENTATION] == orient:\n",
    "            xs.append(x)\n",
    "            ys.append(y)\n",
    "            zs.append(2.0 + np.sqrt(x*x + y*y))\n",
    "        else:\n",
    "            continue\n",
    "    plt.scatter(xs, ys, marker=marker, c=zs, cmap='RdBu_r', vmin=2.0, vmax=6.0, s=200, label=label)        \n",
    "        \n",
    "plt.colorbar(fraction=0.046, pad=0.04, cmap='RdBu_r')\n"
   ]
  },
  {
   "cell_type": "code",
   "execution_count": null,
   "metadata": {},
   "outputs": [],
   "source": []
  },
  {
   "cell_type": "code",
   "execution_count": null,
   "metadata": {
    "execution": {
     "iopub.execute_input": "2023-04-18T13:16:01.415922Z",
     "iopub.status.busy": "2023-04-18T13:16:01.415632Z",
     "iopub.status.idle": "2023-04-18T13:16:01.419101Z",
     "shell.execute_reply": "2023-04-18T13:16:01.418664Z",
     "shell.execute_reply.started": "2023-04-18T13:16:01.415905Z"
    },
    "tags": []
   },
   "outputs": [],
   "source": [
    "# Times to start looking at encoder values\n",
    "start = Time(\"2023-04-05 16:35:00Z\", scale='utc')\n",
    "end = Time(\"2023-04-05 16:50:00Z\", scale='utc')"
   ]
  },
  {
   "cell_type": "code",
   "execution_count": null,
   "metadata": {
    "execution": {
     "iopub.execute_input": "2023-04-18T13:16:02.111967Z",
     "iopub.status.busy": "2023-04-18T13:16:02.111696Z",
     "iopub.status.idle": "2023-04-18T13:16:22.036045Z",
     "shell.execute_reply": "2023-04-18T13:16:22.035532Z",
     "shell.execute_reply.started": "2023-04-18T13:16:02.111950Z"
    },
    "tags": []
   },
   "outputs": [],
   "source": [
    "forces = await client.select_time_series(\"lsst.sal.MTM1M3.appliedForces\", \"*\", start, end)"
   ]
  },
  {
   "cell_type": "code",
   "execution_count": null,
   "metadata": {
    "execution": {
     "iopub.execute_input": "2023-04-18T13:16:22.051065Z",
     "iopub.status.busy": "2023-04-18T13:16:22.050785Z",
     "iopub.status.idle": "2023-04-18T13:16:22.054040Z",
     "shell.execute_reply": "2023-04-18T13:16:22.053633Z",
     "shell.execute_reply.started": "2023-04-18T13:16:22.051049Z"
    },
    "tags": []
   },
   "outputs": [],
   "source": [
    "len(forces)/(15*60)"
   ]
  },
  {
   "cell_type": "code",
   "execution_count": null,
   "metadata": {
    "execution": {
     "iopub.execute_input": "2023-04-18T13:16:22.054996Z",
     "iopub.status.busy": "2023-04-18T13:16:22.054634Z",
     "iopub.status.idle": "2023-04-18T13:16:22.063472Z",
     "shell.execute_reply": "2023-04-18T13:16:22.063108Z",
     "shell.execute_reply.started": "2023-04-18T13:16:22.054977Z"
    },
    "tags": []
   },
   "outputs": [],
   "source": [
    "forces['timestamp'].head(5)"
   ]
  },
  {
   "cell_type": "code",
   "execution_count": null,
   "metadata": {
    "execution": {
     "iopub.execute_input": "2023-04-18T13:16:22.064102Z",
     "iopub.status.busy": "2023-04-18T13:16:22.063939Z",
     "iopub.status.idle": "2023-04-18T13:16:22.760464Z",
     "shell.execute_reply": "2023-04-18T13:16:22.759908Z",
     "shell.execute_reply.started": "2023-04-18T13:16:22.064090Z"
    },
    "tags": []
   },
   "outputs": [],
   "source": [
    "forces['zForces27'].plot()"
   ]
  },
  {
   "cell_type": "code",
   "execution_count": null,
   "metadata": {
    "execution": {
     "iopub.execute_input": "2023-04-16T13:37:31.657351Z",
     "iopub.status.busy": "2023-04-16T13:37:31.657073Z",
     "iopub.status.idle": "2023-04-16T13:37:32.450684Z",
     "shell.execute_reply": "2023-04-16T13:37:32.450270Z",
     "shell.execute_reply.started": "2023-04-16T13:37:31.657334Z"
    },
    "tags": []
   },
   "outputs": [],
   "source": [
    "forces['yForces83'].plot()"
   ]
  },
  {
   "cell_type": "code",
   "execution_count": null,
   "metadata": {
    "execution": {
     "iopub.execute_input": "2023-04-16T23:45:34.242834Z",
     "iopub.status.busy": "2023-04-16T23:45:34.242557Z",
     "iopub.status.idle": "2023-04-16T23:45:34.295194Z",
     "shell.execute_reply": "2023-04-16T23:45:34.294705Z",
     "shell.execute_reply.started": "2023-04-16T23:45:34.242818Z"
    },
    "jupyter": {
     "outputs_hidden": true
    },
    "tags": []
   },
   "outputs": [],
   "source": [
    "FATABLE."
   ]
  },
  {
   "cell_type": "code",
   "execution_count": null,
   "metadata": {
    "execution": {
     "iopub.execute_input": "2023-04-18T19:58:33.622850Z",
     "iopub.status.busy": "2023-04-18T19:58:33.622577Z",
     "iopub.status.idle": "2023-04-18T19:58:33.627688Z",
     "shell.execute_reply": "2023-04-18T19:58:33.627301Z",
     "shell.execute_reply.started": "2023-04-18T19:58:33.622833Z"
    },
    "jupyter": {
     "outputs_hidden": true
    },
    "tags": []
   },
   "outputs": [],
   "source": [
    "for i in range(len(FATABLE)):\n",
    "        if FATABLE[i][M1M3FATable.FATABLE_TYPE] == 'DAA' and FATABLE[i][M1M3FATable.FATABLE_ORIENTATION] == '+X':\n",
    "            print(i, FATABLE[i][M1M3FATable.FATABLE_XINDEX])\n",
    "for i in range(len(FATABLE)):\n",
    "        if FATABLE[i][M1M3FATable.FATABLE_TYPE] == 'DAA' and FATABLE[i][M1M3FATable.FATABLE_ORIENTATION] == '-X':\n",
    "            print(i, FATABLE[i][M1M3FATable.FATABLE_XINDEX])\n",
    "for i in range(len(FATABLE)):\n",
    "        if FATABLE[i][M1M3FATable.FATABLE_TYPE] == 'DAA' and FATABLE[i][M1M3FATable.FATABLE_ORIENTATION] == '+Y':\n",
    "            print(i, FATABLE[i][M1M3FATable.FATABLE_YINDEX])"
   ]
  },
  {
   "cell_type": "code",
   "execution_count": null,
   "metadata": {
    "execution": {
     "iopub.execute_input": "2023-04-18T13:11:02.810401Z",
     "iopub.status.busy": "2023-04-18T13:11:02.810110Z",
     "iopub.status.idle": "2023-04-18T13:11:02.813973Z",
     "shell.execute_reply": "2023-04-18T13:11:02.813590Z",
     "shell.execute_reply.started": "2023-04-18T13:11:02.810384Z"
    },
    "jupyter": {
     "outputs_hidden": true
    },
    "tags": []
   },
   "outputs": [],
   "source": [
    "count = 0\n",
    "for i in range(len(FATABLE)):\n",
    "        #if FATABLE[i][M1M3FATable.FATABLE_TYPE] == 'SAA':\n",
    "        #    count += 1\n",
    "        print(i, FATABLE[i][M1M3FATable.FATABLE_ZINDEX])\n"
   ]
  },
  {
   "cell_type": "code",
   "execution_count": null,
   "metadata": {
    "execution": {
     "iopub.execute_input": "2023-04-18T13:17:32.375385Z",
     "iopub.status.busy": "2023-04-18T13:17:32.375110Z",
     "iopub.status.idle": "2023-04-18T13:17:32.378571Z",
     "shell.execute_reply": "2023-04-18T13:17:32.378211Z",
     "shell.execute_reply.started": "2023-04-18T13:17:32.375369Z"
    }
   },
   "outputs": [],
   "source": [
    "len(forces)"
   ]
  },
  {
   "cell_type": "code",
   "execution_count": null,
   "metadata": {
    "execution": {
     "iopub.execute_input": "2023-04-18T13:17:40.043094Z",
     "iopub.status.busy": "2023-04-18T13:17:40.042825Z",
     "iopub.status.idle": "2023-04-18T13:17:40.046832Z",
     "shell.execute_reply": "2023-04-18T13:17:40.046480Z",
     "shell.execute_reply.started": "2023-04-18T13:17:40.043078Z"
    },
    "tags": []
   },
   "outputs": [],
   "source": [
    "forces.iloc[25000]['zForces27']"
   ]
  },
  {
   "cell_type": "code",
   "execution_count": null,
   "metadata": {
    "execution": {
     "iopub.execute_input": "2023-04-18T20:36:16.273399Z",
     "iopub.status.busy": "2023-04-18T20:36:16.273113Z",
     "iopub.status.idle": "2023-04-18T20:36:16.280380Z",
     "shell.execute_reply": "2023-04-18T20:36:16.279965Z",
     "shell.execute_reply.started": "2023-04-18T20:36:16.273382Z"
    },
    "tags": []
   },
   "outputs": [],
   "source": [
    "def barChartZ(df, ax, FATABLE, index):\n",
    "    ax.set_xlabel(\"X position (m)\")\n",
    "    ax.set_ylabel(\"Y position (m)\")\n",
    "    ax.set_zlabel(\"Force (nt)\")\n",
    "    ax.set_title(\"M1M3 Actuator Z forces\", fontsize=18)\n",
    "\n",
    "    lightsource = LS(azdeg=180, altdeg=78)\n",
    "    greyColor = '0.9'\n",
    "    colors = []\n",
    "    xs = []\n",
    "    ys = []\n",
    "    for i in range(len(FATABLE)):\n",
    "        x = FATABLE[i][M1M3FATable.FATABLE_XPOSITION]\n",
    "        y = FATABLE[i][M1M3FATable.FATABLE_YPOSITION]\n",
    "        xs.append(x)\n",
    "        ys.append(y)\n",
    "        if FATABLE[i][M1M3FATable.FATABLE_TYPE] == 'SAA':\n",
    "            colors.append('blue'); colors.append('blue')\n",
    "            colors.append(greyColor); colors.append(greyColor)\n",
    "            colors.append(greyColor); colors.append(greyColor)\n",
    "        else:\n",
    "            if FATABLE[i][M1M3FATable.FATABLE_ORIENTATION] in ['+Y', '-Y']:\n",
    "                colors.append('green'); colors.append('green')\n",
    "                colors.append(greyColor); colors.append(greyColor)\n",
    "                colors.append(greyColor); colors.append(greyColor)\n",
    "            if FATABLE[i][M1M3FATable.FATABLE_ORIENTATION] in ['+X', '-X']:\n",
    "                colors.append('red'); colors.append('red')\n",
    "                colors.append(greyColor); colors.append(greyColor)\n",
    "                colors.append(greyColor); colors.append(greyColor)\n",
    "\n",
    "    zs = np.zeros([len(FATABLE)])\n",
    "    for i in range(len(FATABLE)):\n",
    "        name=f\"zForces{i}\"\n",
    "        zs[i] = df.iloc[index][name]\n",
    "\n",
    "    dxs = 0.2 * np.ones([len(FATABLE)])\n",
    "    dys = 0.2 * np.ones([len(FATABLE)])\n",
    "    bottom = np.zeros([len(FATABLE)])\n",
    "    ax.bar3d(xs, ys, bottom, dxs, dys, zs, shade=True, alpha=0.5, lightsource=lightsource, color=colors)\n",
    "\n",
    "    ax.set_zlim(0, 1500)\n",
    "    ax.view_init(elev=30., azim=225)"
   ]
  },
  {
   "cell_type": "code",
   "execution_count": null,
   "metadata": {
    "execution": {
     "iopub.execute_input": "2023-04-18T20:36:22.738967Z",
     "iopub.status.busy": "2023-04-18T20:36:22.738690Z",
     "iopub.status.idle": "2023-04-18T20:36:23.030911Z",
     "shell.execute_reply": "2023-04-18T20:36:23.030501Z",
     "shell.execute_reply.started": "2023-04-18T20:36:22.738950Z"
    },
    "tags": []
   },
   "outputs": [],
   "source": [
    "fig = plt.figure(figsize=(8,8))\n",
    "ax = fig.add_subplot(1, 1, 1, projection='3d')\n",
    "barChartZ(forces, ax, FATABLE, 4000)"
   ]
  },
  {
   "cell_type": "code",
   "execution_count": null,
   "metadata": {
    "execution": {
     "iopub.execute_input": "2023-04-18T20:36:31.952056Z",
     "iopub.status.busy": "2023-04-18T20:36:31.951782Z",
     "iopub.status.idle": "2023-04-18T20:36:31.957171Z",
     "shell.execute_reply": "2023-04-18T20:36:31.956748Z",
     "shell.execute_reply.started": "2023-04-18T20:36:31.952039Z"
    },
    "tags": []
   },
   "outputs": [],
   "source": [
    "def heatMapZ(df, ax, FATABLE, index):\n",
    "    ax.set_xlabel(\"X position (m)\")\n",
    "    ax.set_ylabel(\"Y position (m)\")\n",
    "    ax.set_title(\"M1M3 Actuator Z forces (nt)\", fontsize=18)\n",
    "\n",
    "    types = [['SAA','NA', 'o', 'Z'], ['DAA','+Y', '^', '+Y'], ['DAA','-Y', 'v', '-Y'], ['DAA','+X', '>', '+X'], ['DAA','-X', '<', '-X']]\n",
    "\n",
    "    for [type, orient, marker, label] in types: \n",
    "        xs = []\n",
    "        ys = []\n",
    "        zs = []\n",
    "        for i in range(len(FATABLE)):\n",
    "            x = FATABLE[i][M1M3FATable.FATABLE_XPOSITION]\n",
    "            y = FATABLE[i][M1M3FATable.FATABLE_YPOSITION]\n",
    "            if FATABLE[i][M1M3FATable.FATABLE_TYPE] == type and FATABLE[i][M1M3FATable.FATABLE_ORIENTATION] == orient:\n",
    "                xs.append(x)\n",
    "                ys.append(y)\n",
    "                name=f\"zForces{i}\"\n",
    "                zs.append(df.iloc[index][name])\n",
    "            else:\n",
    "                continue\n",
    "        im = ax.scatter(xs, ys, marker=marker, c=zs, cmap='RdBu_r', vmin=0.0, vmax=1500, s=200, label=label) \n",
    "    plt.colorbar(im, ax=ax,fraction=0.055, pad=0.02, cmap='RdBu_r')\n"
   ]
  },
  {
   "cell_type": "code",
   "execution_count": null,
   "metadata": {
    "execution": {
     "iopub.execute_input": "2023-04-18T20:37:02.840036Z",
     "iopub.status.busy": "2023-04-18T20:37:02.839759Z",
     "iopub.status.idle": "2023-04-18T20:37:03.093450Z",
     "shell.execute_reply": "2023-04-18T20:37:03.093024Z",
     "shell.execute_reply.started": "2023-04-18T20:37:02.840019Z"
    },
    "tags": []
   },
   "outputs": [],
   "source": [
    "fig = plt.figure(figsize=(8,8))\n",
    "ax = fig.add_subplot(1, 1, 1)\n",
    "\n",
    "heatMapZ(forces, ax, FATABLE, 250)"
   ]
  },
  {
   "cell_type": "code",
   "execution_count": null,
   "metadata": {
    "execution": {
     "iopub.execute_input": "2023-04-18T20:37:38.568467Z",
     "iopub.status.busy": "2023-04-18T20:37:38.568183Z",
     "iopub.status.idle": "2023-04-18T20:37:38.575817Z",
     "shell.execute_reply": "2023-04-18T20:37:38.575404Z",
     "shell.execute_reply.started": "2023-04-18T20:37:38.568450Z"
    },
    "tags": []
   },
   "outputs": [],
   "source": [
    "def lateralForces(df, ax, FATABLE, index, forceMax=1500):\n",
    "    ax.set_xlabel(\"X position (m)\")\n",
    "    ax.set_ylabel(\"Y position (m)\")\n",
    "    ax.set_title(\"M1M3 lateral forces (nt)\", fontsize=18)\n",
    "    ax.set_xlim(-4.5,4.5)\n",
    "    ax.set_ylim(-4.5,4.5)\n",
    "    types = [['DAA','+Y', '^', '+Y','g'], ['DAA','-Y', 'v', '-Y', 'cyan'], \\\n",
    "             ['DAA','+X', '>', '+X', 'r'], ['DAA','-X', '<', '-X', 'r']]\n",
    "    for [type, orient, marker, label, color] in types: \n",
    "        xs = []\n",
    "        ys = []\n",
    "        arrowXs = []\n",
    "        arrowYs = []\n",
    "        for i in range(len(FATABLE)):\n",
    "            x = FATABLE[i][M1M3FATable.FATABLE_XPOSITION]\n",
    "            y = FATABLE[i][M1M3FATable.FATABLE_YPOSITION]\n",
    "            if FATABLE[i][M1M3FATable.FATABLE_TYPE] == type and FATABLE[i][M1M3FATable.FATABLE_ORIENTATION] == orient:\n",
    "                xs.append(x)\n",
    "                ys.append(y)\n",
    "                if orient == '+X':\n",
    "                    name = f\"xForces{FATABLE[i][M1M3FATable.FATABLE_XINDEX]}\"\n",
    "                    arrowXs.append(df.iloc[index][name] / forceMax)\n",
    "                    arrowYs.append(0.0)\n",
    "                if orient == '-X':\n",
    "                    name = f\"xForces{FATABLE[i][M1M3FATable.FATABLE_XINDEX]}\"\n",
    "                    arrowXs.append(-df.iloc[index][name] / forceMax)\n",
    "                    arrowYs.append(0.0)\n",
    "                if orient == '+Y':\n",
    "                    name = f\"yForces{FATABLE[i][M1M3FATable.FATABLE_YINDEX]}\"\n",
    "                    arrowXs.append(0.0)\n",
    "                    arrowYs.append(df.iloc[index][name] / forceMax)\n",
    "                if orient == '-Y':\n",
    "                    name = f\"yForces{FATABLE[i][M1M3FATable.FATABLE_YINDEX]}\"\n",
    "                    arrowXs.append(0.0)\n",
    "                    arrowYs.append(-df.iloc[index][name] / forceMax)\n",
    "            else:\n",
    "                continue\n",
    "        ax.scatter(xs, ys, marker=marker, color=color, s=50, label=label) \n",
    "        for ii in range(len(xs)):\n",
    "            ax.arrow(xs[ii], ys[ii], arrowXs[ii], arrowYs[ii], color=color)\n",
    "\n",
    "    ax.plot([-4.0,-3.0], [-4.0,-4.0], color='g')\n",
    "    ax.text(-4.0, -4.3, f\"{forceMax} nt\")\n",
    "            \n",
    "        \n"
   ]
  },
  {
   "cell_type": "code",
   "execution_count": null,
   "metadata": {
    "execution": {
     "iopub.execute_input": "2023-04-18T20:38:01.831776Z",
     "iopub.status.busy": "2023-04-18T20:38:01.831498Z",
     "iopub.status.idle": "2023-04-18T20:38:02.082691Z",
     "shell.execute_reply": "2023-04-18T20:38:02.082282Z",
     "shell.execute_reply.started": "2023-04-18T20:38:01.831759Z"
    },
    "tags": []
   },
   "outputs": [],
   "source": [
    "fig = plt.figure(figsize=(8,8))\n",
    "ax = fig.add_subplot(1, 1, 1)\n",
    "\n",
    "lateralForces(forces, ax, FATABLE, 250, forceMax=25)"
   ]
  },
  {
   "cell_type": "code",
   "execution_count": null,
   "metadata": {
    "execution": {
     "iopub.execute_input": "2023-04-18T20:38:08.735046Z",
     "iopub.status.busy": "2023-04-18T20:38:08.734760Z",
     "iopub.status.idle": "2023-04-18T20:38:08.740996Z",
     "shell.execute_reply": "2023-04-18T20:38:08.740599Z",
     "shell.execute_reply.started": "2023-04-18T20:38:08.735027Z"
    },
    "tags": []
   },
   "outputs": [],
   "source": [
    "def actuatorLayout(ax, FATABLE):\n",
    "    ax.set_xlabel(\"X position (m)\")\n",
    "    ax.set_ylabel(\"Y position (m)\")\n",
    "    ax.set_title(\"M1M3 Actuator positions and type\\nHardpoints are approximate\", fontsize=18)\n",
    "    types = [['SAA','NA', 'o', 'Z', 'b'], ['DAA','+Y', '^', '+Y','g'], ['DAA','-Y', 'v', '-Y', 'cyan'], \\\n",
    "             ['DAA','+X', '>', '+X', 'r'], ['DAA','-X', '<', '-X', 'r']]\n",
    "    for [type, orient, marker, label, color] in types: \n",
    "        xs = []\n",
    "        ys = []\n",
    "        for i in range(len(FATABLE)):\n",
    "            x = FATABLE[i][M1M3FATable.FATABLE_XPOSITION]\n",
    "            y = FATABLE[i][M1M3FATable.FATABLE_YPOSITION]\n",
    "            if FATABLE[i][M1M3FATable.FATABLE_TYPE] == type and FATABLE[i][M1M3FATable.FATABLE_ORIENTATION] == orient:\n",
    "                xs.append(x)\n",
    "                ys.append(y)\n",
    "            else:\n",
    "                continue\n",
    "        ax.scatter(xs, ys, marker=marker, color=color, s=200, label=label)        \n",
    "\n",
    "    # Now plot approximate hardpoint location\n",
    "    Rhp = 3.1 # Radius in meters\n",
    "    for i in range(6):\n",
    "        theta = 2.0 * np.pi / 6.0 * float(i)\n",
    "        if i == 0:\n",
    "            ax.scatter(Rhp * np.cos(theta), Rhp * np.sin(theta), marker='o', color='magenta', s=200, label='HP')\n",
    "        else:\n",
    "            ax.scatter(Rhp * np.cos(theta), Rhp * np.sin(theta), marker='o', color='magenta', s=200, label='_nolegend_')\n",
    "    ax.legend(loc='lower left', fontsize=9)"
   ]
  },
  {
   "cell_type": "code",
   "execution_count": null,
   "metadata": {
    "execution": {
     "iopub.execute_input": "2023-04-18T20:10:37.893230Z",
     "iopub.status.busy": "2023-04-18T20:10:37.892940Z",
     "iopub.status.idle": "2023-04-18T20:10:38.155987Z",
     "shell.execute_reply": "2023-04-18T20:10:38.155562Z",
     "shell.execute_reply.started": "2023-04-18T20:10:37.893213Z"
    }
   },
   "outputs": [],
   "source": [
    "fig = plt.figure(figsize=(8,8))\n",
    "ax = fig.add_subplot(1, 1, 1)\n",
    "\n",
    "actuatorLayout(ax, FATABLE)"
   ]
  },
  {
   "cell_type": "code",
   "execution_count": null,
   "metadata": {
    "execution": {
     "iopub.execute_input": "2023-04-18T20:30:23.484505Z",
     "iopub.status.busy": "2023-04-18T20:30:23.484226Z",
     "iopub.status.idle": "2023-04-18T20:30:23.490692Z",
     "shell.execute_reply": "2023-04-18T20:30:23.490216Z",
     "shell.execute_reply.started": "2023-04-18T20:30:23.484486Z"
    },
    "tags": []
   },
   "outputs": [],
   "source": [
    "def buildFakeSlewForces(df):\n",
    "    slewEl = 30.0 * np.pi / 180.0\n",
    "    slew = df.iloc[0:500].copy(deep=True)\n",
    "\n",
    "    for n in range(500):\n",
    "        if n <= 50:\n",
    "            zforce = 1200.0\n",
    "            yforce = 0.0\n",
    "            xforce = 0.0\n",
    "        elif n > 50 and n < 250:\n",
    "            zforce = 1200.0 * np.cos(slewEl * (n - 50) / 400.0)\n",
    "            yforce = 600.0 * np.sin(slewEl * (n - 50) / 400.0)\n",
    "            xforce = 100.0 * (n - 50) / 200.0\n",
    "        elif n >= 250 and n < 450:\n",
    "            zforce = 1200.0 * np.cos(slewEl * (n - 50) / 400.0)\n",
    "            yforce = 600.0 * np.sin(slewEl * (n - 50) / 400.0)\n",
    "            xforce = 100.0 * (450 - n) / 200.0\n",
    "        else:\n",
    "            zforce = 1200.0 * np.cos(slewEl)\n",
    "            yforce = 600.0 * np.sin(slewEl)\n",
    "            xforce = 0.0\n",
    "        for i in range(len(FATABLE)):\n",
    "                name = f\"zForces{FATABLE[i][M1M3FATable.FATABLE_ZINDEX]}\"\n",
    "                slew.iloc[n, slew.columns.get_loc(name)] = zforce\n",
    "                if FATABLE[i][M1M3FATable.FATABLE_ORIENTATION] == '+Y':\n",
    "                    name = f\"yForces{FATABLE[i][M1M3FATable.FATABLE_YINDEX]}\"\n",
    "                    slew.iloc[n, slew.columns.get_loc(name)] = yforce\n",
    "                if FATABLE[i][M1M3FATable.FATABLE_ORIENTATION] == '-X':\n",
    "                    name = f\"xForces{FATABLE[i][M1M3FATable.FATABLE_XINDEX]}\"\n",
    "                    slew.iloc[n, slew.columns.get_loc(name)] = xforce\n",
    "    return slew\n"
   ]
  },
  {
   "cell_type": "code",
   "execution_count": null,
   "metadata": {
    "execution": {
     "iopub.execute_input": "2023-04-18T20:30:26.372164Z",
     "iopub.status.busy": "2023-04-18T20:30:26.371645Z",
     "iopub.status.idle": "2023-04-18T20:30:36.535474Z",
     "shell.execute_reply": "2023-04-18T20:30:36.534968Z",
     "shell.execute_reply.started": "2023-04-18T20:30:26.372145Z"
    },
    "tags": []
   },
   "outputs": [],
   "source": [
    "slew = buildFakeSlewForces(forces)"
   ]
  },
  {
   "cell_type": "code",
   "execution_count": null,
   "metadata": {
    "execution": {
     "iopub.execute_input": "2023-04-18T20:30:39.754451Z",
     "iopub.status.busy": "2023-04-18T20:30:39.754078Z",
     "iopub.status.idle": "2023-04-18T20:30:39.758289Z",
     "shell.execute_reply": "2023-04-18T20:30:39.757781Z",
     "shell.execute_reply.started": "2023-04-18T20:30:39.754433Z"
    }
   },
   "outputs": [],
   "source": [
    "len(slew)"
   ]
  },
  {
   "cell_type": "code",
   "execution_count": null,
   "metadata": {
    "execution": {
     "iopub.execute_input": "2023-04-18T20:30:44.615840Z",
     "iopub.status.busy": "2023-04-18T20:30:44.615566Z",
     "iopub.status.idle": "2023-04-18T20:30:44.619126Z",
     "shell.execute_reply": "2023-04-18T20:30:44.618720Z",
     "shell.execute_reply.started": "2023-04-18T20:30:44.615822Z"
    },
    "tags": []
   },
   "outputs": [],
   "source": [
    "name = f\"zForces{FATABLE[27][M1M3FATable.FATABLE_ZINDEX]}\"\n",
    "print(slew.iloc[250][name])"
   ]
  },
  {
   "cell_type": "code",
   "execution_count": null,
   "metadata": {
    "execution": {
     "iopub.execute_input": "2023-04-18T20:30:46.245839Z",
     "iopub.status.busy": "2023-04-18T20:30:46.245563Z",
     "iopub.status.idle": "2023-04-18T20:30:46.395362Z",
     "shell.execute_reply": "2023-04-18T20:30:46.394947Z",
     "shell.execute_reply.started": "2023-04-18T20:30:46.245823Z"
    },
    "tags": []
   },
   "outputs": [],
   "source": [
    "slew[name].plot()"
   ]
  },
  {
   "cell_type": "code",
   "execution_count": null,
   "metadata": {
    "execution": {
     "iopub.execute_input": "2023-04-18T20:27:31.723974Z",
     "iopub.status.busy": "2023-04-18T20:27:31.723697Z",
     "iopub.status.idle": "2023-04-18T20:27:31.727489Z",
     "shell.execute_reply": "2023-04-18T20:27:31.727073Z",
     "shell.execute_reply.started": "2023-04-18T20:27:31.723958Z"
    },
    "tags": []
   },
   "outputs": [],
   "source": [
    "name = f\"xForces{FATABLE[27][M1M3FATable.FATABLE_XINDEX]}\"\n",
    "print(slew.iloc[250][name])"
   ]
  },
  {
   "cell_type": "code",
   "execution_count": null,
   "metadata": {
    "execution": {
     "iopub.execute_input": "2023-04-18T20:27:33.580591Z",
     "iopub.status.busy": "2023-04-18T20:27:33.580324Z",
     "iopub.status.idle": "2023-04-18T20:27:33.721760Z",
     "shell.execute_reply": "2023-04-18T20:27:33.721363Z",
     "shell.execute_reply.started": "2023-04-18T20:27:33.580574Z"
    },
    "tags": []
   },
   "outputs": [],
   "source": [
    "slew[name].plot()"
   ]
  },
  {
   "cell_type": "code",
   "execution_count": null,
   "metadata": {
    "execution": {
     "iopub.execute_input": "2023-04-18T20:27:36.799288Z",
     "iopub.status.busy": "2023-04-18T20:27:36.799010Z",
     "iopub.status.idle": "2023-04-18T20:27:36.802643Z",
     "shell.execute_reply": "2023-04-18T20:27:36.802262Z",
     "shell.execute_reply.started": "2023-04-18T20:27:36.799272Z"
    },
    "tags": []
   },
   "outputs": [],
   "source": [
    "name = f\"yForces{FATABLE[20][M1M3FATable.FATABLE_YINDEX]}\"\n",
    "print(slew.iloc[250][name])"
   ]
  },
  {
   "cell_type": "code",
   "execution_count": null,
   "metadata": {
    "execution": {
     "iopub.execute_input": "2023-04-18T20:27:38.816121Z",
     "iopub.status.busy": "2023-04-18T20:27:38.815856Z",
     "iopub.status.idle": "2023-04-18T20:27:38.958426Z",
     "shell.execute_reply": "2023-04-18T20:27:38.958022Z",
     "shell.execute_reply.started": "2023-04-18T20:27:38.816105Z"
    },
    "tags": []
   },
   "outputs": [],
   "source": [
    "slew[name].plot()"
   ]
  },
  {
   "cell_type": "code",
   "execution_count": null,
   "metadata": {
    "execution": {
     "iopub.execute_input": "2023-04-18T20:24:25.399606Z",
     "iopub.status.busy": "2023-04-18T20:24:25.399328Z",
     "iopub.status.idle": "2023-04-18T20:24:25.403361Z",
     "shell.execute_reply": "2023-04-18T20:24:25.402869Z",
     "shell.execute_reply.started": "2023-04-18T20:24:25.399589Z"
    }
   },
   "outputs": [],
   "source": [
    "len(forces)"
   ]
  },
  {
   "cell_type": "code",
   "execution_count": null,
   "metadata": {
    "execution": {
     "iopub.execute_input": "2023-04-18T22:50:43.176337Z",
     "iopub.status.busy": "2023-04-18T22:50:43.176056Z",
     "iopub.status.idle": "2023-04-18T22:50:43.179600Z",
     "shell.execute_reply": "2023-04-18T22:50:43.179211Z",
     "shell.execute_reply.started": "2023-04-18T22:50:43.176321Z"
    },
    "tags": []
   },
   "outputs": [],
   "source": [
    "# Times to start looking at encoder values\n",
    "start = Time(\"2023-04-18T16:10:00\", scale='tai')\n",
    "end = Time(\"2023-04-18T16:15:00\", scale='tai')"
   ]
  },
  {
   "cell_type": "code",
   "execution_count": null,
   "metadata": {
    "execution": {
     "iopub.execute_input": "2023-04-18T22:50:58.319046Z",
     "iopub.status.busy": "2023-04-18T22:50:58.318777Z",
     "iopub.status.idle": "2023-04-18T22:51:08.154807Z",
     "shell.execute_reply": "2023-04-18T22:51:08.154293Z",
     "shell.execute_reply.started": "2023-04-18T22:50:58.319030Z"
    },
    "tags": []
   },
   "outputs": [],
   "source": [
    "forces = await client.select_time_series(\"lsst.sal.MTM1M3.appliedForces\", \"*\", start.utc, end.utc)"
   ]
  },
  {
   "cell_type": "code",
   "execution_count": null,
   "metadata": {
    "execution": {
     "iopub.execute_input": "2023-04-18T22:51:09.149487Z",
     "iopub.status.busy": "2023-04-18T22:51:09.149207Z",
     "iopub.status.idle": "2023-04-18T22:51:09.153265Z",
     "shell.execute_reply": "2023-04-18T22:51:09.152782Z",
     "shell.execute_reply.started": "2023-04-18T22:51:09.149469Z"
    },
    "tags": []
   },
   "outputs": [],
   "source": [
    "len(forces)/(5*60)"
   ]
  },
  {
   "cell_type": "code",
   "execution_count": null,
   "metadata": {
    "execution": {
     "iopub.execute_input": "2023-04-18T22:51:12.024590Z",
     "iopub.status.busy": "2023-04-18T22:51:12.024317Z",
     "iopub.status.idle": "2023-04-18T22:51:12.314584Z",
     "shell.execute_reply": "2023-04-18T22:51:12.314162Z",
     "shell.execute_reply.started": "2023-04-18T22:51:12.024572Z"
    },
    "tags": []
   },
   "outputs": [],
   "source": [
    "forces['zForces27'].plot()"
   ]
  },
  {
   "cell_type": "code",
   "execution_count": null,
   "metadata": {
    "execution": {
     "iopub.execute_input": "2023-04-18T20:05:20.561287Z",
     "iopub.status.busy": "2023-04-18T20:05:20.561002Z",
     "iopub.status.idle": "2023-04-18T20:05:20.841167Z",
     "shell.execute_reply": "2023-04-18T20:05:20.840755Z",
     "shell.execute_reply.started": "2023-04-18T20:05:20.561269Z"
    },
    "tags": []
   },
   "outputs": [],
   "source": [
    "forces['xForces9'].plot()"
   ]
  },
  {
   "cell_type": "code",
   "execution_count": null,
   "metadata": {
    "execution": {
     "iopub.execute_input": "2023-04-18T20:38:17.542748Z",
     "iopub.status.busy": "2023-04-18T20:38:17.542468Z",
     "iopub.status.idle": "2023-04-18T20:38:18.557495Z",
     "shell.execute_reply": "2023-04-18T20:38:18.557070Z",
     "shell.execute_reply.started": "2023-04-18T20:38:17.542730Z"
    },
    "tags": []
   },
   "outputs": [],
   "source": [
    "fig = plt.figure(figsize=(16,16))\n",
    "ax1 = fig.add_subplot(2,2,1)\n",
    "actuatorLayout(ax1, FATABLE)\n",
    "ax2 = fig.add_subplot(2,2,2, projection='3d')\n",
    "barChartZ(forces, ax2, FATABLE, 250)\n",
    "ax3 = fig.add_subplot(2,2,3)\n",
    "lateralForces(forces, ax3, FATABLE, 250, forceMax=25)\n",
    "ax4 = fig.add_subplot(2,2,4)\n",
    "heatMapZ(forces, ax4, FATABLE, 250)"
   ]
  },
  {
   "cell_type": "code",
   "execution_count": null,
   "metadata": {
    "execution": {
     "iopub.execute_input": "2023-04-18T20:38:24.416712Z",
     "iopub.status.busy": "2023-04-18T20:38:24.416437Z",
     "iopub.status.idle": "2023-04-18T20:38:25.448485Z",
     "shell.execute_reply": "2023-04-18T20:38:25.448050Z",
     "shell.execute_reply.started": "2023-04-18T20:38:24.416695Z"
    },
    "tags": []
   },
   "outputs": [],
   "source": [
    "plt.clf()\n",
    "fig = plt.figure(figsize=(16,16))\n",
    "ax1 = fig.add_subplot(2,2,1)\n",
    "actuatorLayout(ax1, FATABLE)\n",
    "ax2 = fig.add_subplot(2,2,2, projection='3d')\n",
    "barChartZ(slew, ax2, FATABLE, 250)\n",
    "ax3 = fig.add_subplot(2,2,3)\n",
    "lateralForces(slew, ax3, FATABLE, 250, forceMax=300)\n",
    "ax4 = fig.add_subplot(2,2,4)\n",
    "heatMapZ(slew, ax4, FATABLE, 250)"
   ]
  },
  {
   "cell_type": "code",
   "execution_count": null,
   "metadata": {},
   "outputs": [],
   "source": []
  }
 ],
 "metadata": {
  "kernelspec": {
   "display_name": "LSST",
   "language": "python",
   "name": "lsst"
  },
  "language_info": {
   "codemirror_mode": {
    "name": "ipython",
    "version": 3
   },
   "file_extension": ".py",
   "mimetype": "text/x-python",
   "name": "python",
   "nbconvert_exporter": "python",
   "pygments_lexer": "ipython3",
   "version": "3.10.9"
  }
 },
 "nbformat": 4,
 "nbformat_minor": 4
}
