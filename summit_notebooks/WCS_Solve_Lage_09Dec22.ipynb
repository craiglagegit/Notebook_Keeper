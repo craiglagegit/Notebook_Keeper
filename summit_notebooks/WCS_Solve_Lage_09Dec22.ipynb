{
 "cells": [
  {
   "cell_type": "markdown",
   "metadata": {},
   "source": [
    "## StarTracker WCS solutions - 09-Dec-22\n",
    "\n",
    "Craig Lage - Reworked to work iwth the new summit_utils code"
   ]
  },
  {
   "cell_type": "code",
   "execution_count": null,
   "metadata": {
    "execution": {
     "iopub.execute_input": "2022-12-12T19:28:59.403025Z",
     "iopub.status.busy": "2022-12-12T19:28:59.402755Z",
     "iopub.status.idle": "2022-12-12T19:29:02.176229Z",
     "shell.execute_reply": "2022-12-12T19:29:02.175691Z",
     "shell.execute_reply.started": "2022-12-12T19:28:59.403009Z"
    },
    "tags": []
   },
   "outputs": [],
   "source": [
    "import sys, time, os, asyncio, glob\n",
    "from datetime import datetime\n",
    "import numpy as np\n",
    "import matplotlib.pyplot as plt\n",
    "import astropy.io.fits as pf\n",
    "from astropy.time import Time, TimeDelta\n",
    "from astropy.coordinates import AltAz, ICRS, EarthLocation, Angle, FK5, SkyCoord\n",
    "import astropy.units as u\n",
    "from lsst.obs.lsst.translators.latiss import AUXTEL_LOCATION\n",
    "from lsst.obs.lsst.translators.lsst import SIMONYI_LOCATION\n",
    "\n",
    "import lsst.afw.image as afwImage\n",
    "from lsst.summit.utils.utils import starTrackerFileToExposure\n",
    "from lsst.summit.utils.astrometry.anet import CommandLineSolver\n",
    "from lsst.summit.utils.astrometry.utils import runCharactierizeImage"
   ]
  },
  {
   "cell_type": "code",
   "execution_count": null,
   "metadata": {
    "execution": {
     "iopub.execute_input": "2022-12-12T19:29:02.182738Z",
     "iopub.status.busy": "2022-12-12T19:29:02.182552Z",
     "iopub.status.idle": "2022-12-12T19:29:02.185378Z",
     "shell.execute_reply": "2022-12-12T19:29:02.185042Z",
     "shell.execute_reply.started": "2022-12-12T19:29:02.182724Z"
    },
    "tags": []
   },
   "outputs": [],
   "source": [
    "solver = CommandLineSolver('/project/shared/ref_cats/astrometry_net/')"
   ]
  },
  {
   "cell_type": "code",
   "execution_count": null,
   "metadata": {
    "execution": {
     "iopub.execute_input": "2022-12-12T19:51:10.392115Z",
     "iopub.status.busy": "2022-12-12T19:51:10.391768Z",
     "iopub.status.idle": "2022-12-12T20:37:53.889747Z",
     "shell.execute_reply": "2022-12-12T20:37:53.889125Z",
     "shell.execute_reply.started": "2022-12-12T19:51:10.392097Z"
    },
    "tags": []
   },
   "outputs": [],
   "source": [
    "cameras = [['Wide', 101], ['Narrow', 102]]\n",
    "dates = [8]\n",
    "for [camera, num] in cameras:\n",
    "    for date in dates:\n",
    "        outfile = open(f\"/scratch/cslage/starTracker/StarTracker_Summary_New_{camera}_202212{date:02}.txt\", \"w\")\n",
    "        outfile.write(\"SeqNum\\tRA(header)\\tDec(header)\\tRA(Solve)\\tDec(Solve)\\tAz(header)\\tEl(header)\\tAz(solve)\\tEl(solve)\\tDeltaAz\\tDeltaEl\\tRot\\tRMS(asec)\\n\")\n",
    "        path = f\"/project/GenericCamera/{num}/2022/12/{date:02}/\"\n",
    "        print(path)\n",
    "        for seqNum in range(212):\n",
    "            try:    \n",
    "                filename = path + f\"GC{num}_O_202212{date:02}_{seqNum:06}.fits\"\n",
    "                exp = starTrackerFileToExposure(filename)\n",
    "                results = runCharactierizeImage(exp, 5, 25)\n",
    "                if camera == 'Narrow':\n",
    "                    # Need to loosen percentageScaleError because header SECPIX is wrong\n",
    "                    solverResults = solver.run(exp, results.sourceCat, percentageScaleError=60.0, isWideField=False)\n",
    "                if camera == 'Wide':\n",
    "                    solverResults = solver.run(exp, results.sourceCat, isWideField=True)\n",
    "                newWcs = solverResults.wcs\n",
    "                rms_error = solverResults.rmsErrorArsec\n",
    "                raSolve = newWcs.getSkyOrigin().getRa().asDegrees()\n",
    "                decSolve = newWcs.getSkyOrigin().getDec().asDegrees()\n",
    "\n",
    "            except:\n",
    "                print(f\"{camera}, 202212{date:02}_{seqNum} Failed!\")\n",
    "                continue\n",
    "            hdulist = pf.open(filename)\n",
    "            header = hdulist[0].header\n",
    "            raStart = header[\"RASTART\"]\n",
    "            decStart = header[\"DECSTART\"]\n",
    "            azStart = header[\"AZSTART\"]\n",
    "            #azStart = 360.0 - azStart # Compensating for Az sign error\n",
    "            if azStart > 360.0:\n",
    "                azStart -= 360.0\n",
    "            if azStart < 0.0:\n",
    "                azStart += 360.0\n",
    "\n",
    "            elStart = header[\"ELSTART\"]\n",
    "            rotpa = header[\"ROTPA\"]\n",
    "            rot = newWcs.getRelativeRotationToWcs(exp.getWcs()).asDegrees()\n",
    "            time = Time(header[\"DATE-OBS\"], scale='tai')\n",
    "            altAz = AltAz(obstime=time, location=SIMONYI_LOCATION)\n",
    "            skyLocation = SkyCoord(raSolve * u.deg, decSolve * u.deg)\n",
    "            obsAltAz = skyLocation.transform_to(altAz)\n",
    "            az = obsAltAz.az.deg\n",
    "            el = obsAltAz.alt.deg\n",
    "            deltaAz = azStart - az\n",
    "            if deltaAz > 360.0:\n",
    "                deltaAz -= 360.0\n",
    "            if deltaAz < 0.0:\n",
    "                deltaAz += 360.0\n",
    "            deltaEl = elStart - el\n",
    "            print(f\"{camera}, 202212{date:02}_{seqNum}, {deltaAz:.5f}, {deltaEl:.5f}\")\n",
    "            outfile.write(f\"{seqNum}\\t{raStart:.5f}\\t{decStart:.5f}\\t{raSolve:.5f}\\t{decSolve:.5f}\\t{azStart:.5f}\\t{elStart:.5f}\\t{az:.5f}\\t{el:.5f}\\t{deltaAz:.5f}\\t{deltaEl:.5f}\\t{rot:.5f}\\t{rms_error:.5f}\\n\")\n",
    "        outfile.close()\n",
    "    "
   ]
  },
  {
   "cell_type": "code",
   "execution_count": null,
   "metadata": {},
   "outputs": [],
   "source": []
  }
 ],
 "metadata": {
  "kernelspec": {
   "display_name": "LSST",
   "language": "python",
   "name": "lsst"
  },
  "language_info": {
   "codemirror_mode": {
    "name": "ipython",
    "version": 3
   },
   "file_extension": ".py",
   "mimetype": "text/x-python",
   "name": "python",
   "nbconvert_exporter": "python",
   "pygments_lexer": "ipython3",
   "version": "3.10.6"
  }
 },
 "nbformat": 4,
 "nbformat_minor": 4
}
