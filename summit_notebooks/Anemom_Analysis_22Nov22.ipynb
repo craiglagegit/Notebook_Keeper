{
 "cells": [
  {
   "cell_type": "code",
   "execution_count": null,
   "metadata": {},
   "outputs": [],
   "source": [
    "import sys, time, os, asyncio, glob\n",
    "from datetime import datetime\n",
    "import numpy as np\n",
    "import matplotlib.pyplot as plt\n",
    "import pickle as pkl\n",
    "import pandas as pd\n",
    "from astropy.time import Time, TimeDelta\n",
    "\n",
    "from lsst_efd_client import EfdClient\n",
    "from lsst.daf.butler import Butler"
   ]
  },
  {
   "cell_type": "code",
   "execution_count": null,
   "metadata": {},
   "outputs": [],
   "source": [
    "client = EfdClient('summit_efd')\n",
    "butler = Butler('/repo/LATISS', collections=\"LATISS/raw/all\")"
   ]
  },
  {
   "cell_type": "code",
   "execution_count": null,
   "metadata": {},
   "outputs": [],
   "source": [
    "# Get the timestamps of the desired image:\n",
    "expId = 2022112200086\n",
    "mData = butler.get('raw.metadata', detector=0, exposure=expId)\n",
    "start = Time(\"2022-11-22T18:20:00\")\n",
    "end = Time(\"2022-11-22T19:20:00\")\n",
    "print(start, end)"
   ]
  },
  {
   "cell_type": "code",
   "execution_count": null,
   "metadata": {},
   "outputs": [],
   "source": [
    "data = await client.select_time_series('lsst.sal.ESS.airTurbulence', \\\n",
    "                                            ['*'],  start, end)"
   ]
  },
  {
   "cell_type": "code",
   "execution_count": null,
   "metadata": {},
   "outputs": [],
   "source": [
    "len(data)"
   ]
  },
  {
   "cell_type": "code",
   "execution_count": null,
   "metadata": {},
   "outputs": [],
   "source": [
    "data.head(4)"
   ]
  },
  {
   "cell_type": "code",
   "execution_count": null,
   "metadata": {},
   "outputs": [],
   "source": [
    "s0 = await client.select_time_series('lsst.sal.ESS.airTurbulence', \\\n",
    "                                            ['speed0'],  start, end)"
   ]
  },
  {
   "cell_type": "code",
   "execution_count": null,
   "metadata": {},
   "outputs": [],
   "source": [
    "s0['speed0'].plot()"
   ]
  },
  {
   "cell_type": "code",
   "execution_count": null,
   "metadata": {
    "tags": []
   },
   "outputs": [],
   "source": [
    "plt.figure(figsize=(8.5, 11))\n",
    "\n",
    "plt.subplots_adjust(wspace=0.5, hspace=1.5)\n",
    "plt.suptitle(f\" Anemometer data 22Nov22\", fontsize=16)\n",
    "\n",
    "# Next the anemometer data\n",
    "s0 = await client.select_time_series('lsst.sal.ESS.airTurbulence', \\\n",
    "                                            ['speed0'],  start, end)\n",
    "s1 = await client.select_time_series('lsst.sal.ESS.airTurbulence', \\\n",
    "                                            ['speed1'],  start, end)\n",
    "s2 = await client.select_time_series('lsst.sal.ESS.airTurbulence', \\\n",
    "                                            ['speed2'],  start, end)\n",
    "smag = await client.select_time_series('lsst.sal.ESS.airTurbulence', \\\n",
    "                                            ['speedMagnitude'],  start, end)\n",
    "plt.subplot(4,1,1)\n",
    "plt.title(\"Anemom-S0\")\n",
    "s0['speed0'].plot()\n",
    "plt.subplot(4,1,2)\n",
    "plt.title(\"Anemom-S1\")\n",
    "s1['speed1'].plot()\n",
    "plt.subplot(4,1,3)\n",
    "plt.title(\"Anemom-S2\")\n",
    "s2['speed2'].plot()\n",
    "plt.subplot(4,1,4)\n",
    "plt.title(\"Anemom-SMag\")\n",
    "smag['speedMagnitude'].plot()\n",
    "\n",
    "\n",
    "plt.savefig(f\"/home/craiglagegit/DATA/Anemometer_22Nov22.pdf\")\n"
   ]
  },
  {
   "cell_type": "code",
   "execution_count": null,
   "metadata": {},
   "outputs": [],
   "source": []
  },
  {
   "cell_type": "code",
   "execution_count": null,
   "metadata": {},
   "outputs": [],
   "source": []
  }
 ],
 "metadata": {
  "kernelspec": {
   "display_name": "LSST",
   "language": "python",
   "name": "lsst"
  },
  "language_info": {
   "codemirror_mode": {
    "name": "ipython",
    "version": 3
   },
   "file_extension": ".py",
   "mimetype": "text/x-python",
   "name": "python",
   "nbconvert_exporter": "python",
   "pygments_lexer": "ipython3",
   "version": "3.10.6"
  }
 },
 "nbformat": 4,
 "nbformat_minor": 4
}
