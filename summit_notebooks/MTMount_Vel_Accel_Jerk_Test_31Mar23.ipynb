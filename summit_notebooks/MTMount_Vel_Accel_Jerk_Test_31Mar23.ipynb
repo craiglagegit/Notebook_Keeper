{
 "cells": [
  {
   "cell_type": "code",
   "execution_count": null,
   "metadata": {
    "execution": {
     "iopub.execute_input": "2023-03-31T13:57:05.655700Z",
     "iopub.status.busy": "2023-03-31T13:57:05.655331Z",
     "iopub.status.idle": "2023-03-31T13:57:06.264300Z",
     "shell.execute_reply": "2023-03-31T13:57:06.263717Z",
     "shell.execute_reply.started": "2023-03-31T13:57:05.655683Z"
    },
    "tags": []
   },
   "outputs": [],
   "source": [
    "import sys, time, os, asyncio, glob\n",
    "from datetime import datetime\n",
    "import numpy as np\n",
    "import matplotlib.pyplot as plt\n",
    "import pickle as pkl\n",
    "from astropy.time import Time, TimeDelta\n",
    "from scipy.interpolate import UnivariateSpline\n",
    "from lsst_efd_client import EfdClient"
   ]
  },
  {
   "cell_type": "code",
   "execution_count": null,
   "metadata": {
    "execution": {
     "iopub.execute_input": "2023-03-31T13:57:07.037792Z",
     "iopub.status.busy": "2023-03-31T13:57:07.037520Z",
     "iopub.status.idle": "2023-03-31T13:57:08.233014Z",
     "shell.execute_reply": "2023-03-31T13:57:08.232500Z",
     "shell.execute_reply.started": "2023-03-31T13:57:07.037776Z"
    },
    "tags": []
   },
   "outputs": [],
   "source": [
    "client = EfdClient('summit_efd')"
   ]
  },
  {
   "cell_type": "code",
   "execution_count": null,
   "metadata": {
    "execution": {
     "iopub.execute_input": "2023-03-31T14:27:16.613039Z",
     "iopub.status.busy": "2023-03-31T14:27:16.612765Z",
     "iopub.status.idle": "2023-03-31T14:27:17.848640Z",
     "shell.execute_reply": "2023-03-31T14:27:17.847971Z",
     "shell.execute_reply.started": "2023-03-31T14:27:16.613022Z"
    },
    "tags": []
   },
   "outputs": [],
   "source": [
    "# Now let's try to expand it to the whole run\n",
    "#start = Time(\"2023-01-26T06:51:00\", scale='utc')\n",
    "#end = Time(\"2023-01-26T09:50:00\", scale='utc')\n",
    "# Second more recent run\n",
    "#start = Time(\"2023-03-23T06:50:00\", scale='utc')\n",
    "#end = Time(\"2023-03-23T09:15:00\", scale='utc')\n",
    "# Accel correlation\n",
    "start = Time(\"2023-03-25T01:26:29\", scale='utc')\n",
    "end = Time(\"2023-03-25T01:46:02\", scale='utc')\n",
    "\n",
    "az = await client.select_time_series('lsst.sal.MTMount.azimuth', \\\n",
    "                                            ['*'],  start, end)\n",
    "el = await client.select_time_series('lsst.sal.MTMount.elevation', \\\n",
    "                                            ['*'],  start, end)    \n",
    "\n",
    "az_track = await client.select_time_series('lsst.sal.MTMount.command_trackTarget', \\\n",
    "                                            ['azimuth', 'taiTime'],  start, end)\n",
    "el_track = await client.select_time_series('lsst.sal.MTMount.command_trackTarget', \\\n",
    "                                            ['elevation', 'taiTime'],  start, end)   \n",
    "print(len(az_track), len(el_track))"
   ]
  },
  {
   "cell_type": "code",
   "execution_count": null,
   "metadata": {
    "execution": {
     "iopub.execute_input": "2023-03-31T14:27:21.662311Z",
     "iopub.status.busy": "2023-03-31T14:27:21.662008Z",
     "iopub.status.idle": "2023-03-31T14:27:21.926119Z",
     "shell.execute_reply": "2023-03-31T14:27:21.925676Z",
     "shell.execute_reply.started": "2023-03-31T14:27:21.662294Z"
    },
    "tags": []
   },
   "outputs": [],
   "source": [
    "az['actualPosition'].plot()"
   ]
  },
  {
   "cell_type": "code",
   "execution_count": null,
   "metadata": {
    "execution": {
     "iopub.execute_input": "2023-03-31T14:27:26.324701Z",
     "iopub.status.busy": "2023-03-31T14:27:26.324431Z",
     "iopub.status.idle": "2023-03-31T14:27:26.335656Z",
     "shell.execute_reply": "2023-03-31T14:27:26.335172Z",
     "shell.execute_reply.started": "2023-03-31T14:27:26.324684Z"
    },
    "tags": []
   },
   "outputs": [],
   "source": [
    "azPos = await client.select_time_series('lsst.sal.MTMount.logevent_azimuthInPosition', \\\n",
    "                                            ['inPosition', 'private_kafkaStamp'],  start, end)\n",
    "azPos = azPos[azPos['inPosition']] # Select only the True values\n",
    "elPos = await client.select_time_series('lsst.sal.MTMount.logevent_elevationInPosition', \\\n",
    "                                            ['inPosition', 'private_kafkaStamp'],  start, end)\n",
    "elPos = elPos[elPos['inPosition']] # Select only the True values\n",
    "print(len(azPos), len(elPos))"
   ]
  },
  {
   "cell_type": "code",
   "execution_count": null,
   "metadata": {
    "execution": {
     "iopub.execute_input": "2023-03-31T14:27:27.924827Z",
     "iopub.status.busy": "2023-03-31T14:27:27.924550Z",
     "iopub.status.idle": "2023-03-31T14:27:27.954520Z",
     "shell.execute_reply": "2023-03-31T14:27:27.954037Z",
     "shell.execute_reply.started": "2023-03-31T14:27:27.924809Z"
    },
    "tags": []
   },
   "outputs": [],
   "source": [
    "# Find all of the time stamps\n",
    "\n",
    "# Start with start_slew times\n",
    "\n",
    "azs = az_track.values[:,0]\n",
    "els = el_track.values[:,0]\n",
    "times = az_track.values[:,1]\n",
    "start_slew_times_1 = []\n",
    "slew_dist_1 = []\n",
    "slew_times_1 = []\n",
    "for i in range(1,len(az_track)):\n",
    "    az_shift = abs(azs[i] - azs[i-1])\n",
    "    el_shift = abs(els[i] - els[i-1])\n",
    "    if (az_shift > 0.1) or (el_shift > 0.1):\n",
    "        start_slew_times_1.append(times[i])\n",
    "        az_shift_mod = az_shift * np.cos(els[i]*np.pi/180.0)\n",
    "        shift = np.sqrt(el_shift*el_shift + az_shift_mod*az_shift_mod)\n",
    "        slew_dist_1.append(shift)\n",
    "print(len(start_slew_times_1))\n",
    "\n",
    "# Now in position timestamps\n",
    "\n",
    "inPos_1 = []\n",
    "azPosValues = azPos.values[:,1]\n",
    "elPosValues = elPos.values[:,1]\n",
    "\n",
    "# Subtract 1 second from the inPos values, because the mount has stabilized well before the inPos signal\n",
    "for i in range(len(azPos)):\n",
    "    if azPosValues[i] > elPosValues[i]:\n",
    "        inPos_1.append(azPosValues[i])\n",
    "    else:\n",
    "        inPos_1.append(elPosValues[i])\n",
    "\n",
    "print(len(inPos_1))\n",
    "\n",
    "# Now pair them up\n",
    "\n",
    "pairMin = 1.0\n",
    "pairMax = 6.0\n",
    "\n",
    "start_slew_times = []\n",
    "slew_dist = []\n",
    "slew_times = []\n",
    "inPos = []\n",
    "\n",
    "for i in range(len(start_slew_times_1)):\n",
    "    for j in range(len(inPos_1)):\n",
    "        deltaT = inPos_1[j] - start_slew_times_1[i] \n",
    "        if deltaT > pairMin and deltaT < pairMax:\n",
    "            inPos.append(inPos_1[j])\n",
    "            start_slew_times.append(start_slew_times_1[i])\n",
    "            slew_times.append(deltaT)\n",
    "            slew_dist.append(slew_dist_1[i])\n",
    "        \n",
    "print(len(inPos), len(start_slew_times), len(slew_times), len(slew_dist))"
   ]
  },
  {
   "cell_type": "code",
   "execution_count": null,
   "metadata": {
    "execution": {
     "iopub.execute_input": "2023-03-31T14:56:34.597662Z",
     "iopub.status.busy": "2023-03-31T14:56:34.597381Z",
     "iopub.status.idle": "2023-03-31T14:56:35.587359Z",
     "shell.execute_reply": "2023-03-31T14:56:35.586845Z",
     "shell.execute_reply.started": "2023-03-31T14:56:34.597645Z"
    },
    "tags": []
   },
   "outputs": [],
   "source": [
    "# Plotting the mount plots\n",
    "maxAzVels = []\n",
    "maxAzAccels = []\n",
    "maxAzJerks = []\n",
    "maxElVels = []\n",
    "maxElAccels = []\n",
    "maxElJerks = []\n",
    "smoothingFactor = 0.2 # In spline creation\n",
    "kernel_size = 100 # In convolution\n",
    "kernel = np.ones(kernel_size) / kernel_size\n",
    "\n",
    "fig = plt.figure(figsize = (8,8))\n",
    "for index in [1]:#range(len(inPos)):\n",
    "\n",
    "    plotAz = az[(az['timestamp'] > (start_slew_times[index]-2.0)) & (az['timestamp'] < (inPos[index]))]\n",
    "    plotEl = el[(el['timestamp'] > (start_slew_times[index]-2.0)) & (el['timestamp'] < (inPos[index]))]\n",
    "    \n",
    "    ss_time = Time(start_slew_times[index], format='unix_tai', scale='utc').isot\n",
    "    ip_time = Time(inPos[index], format='unix_tai', scale='utc').isot\n",
    "    \n",
    "    # Now calculates the spline fit and differentiate it to get the acceleration and jerk\n",
    "    azPs = plotAz['actualPosition'].values\n",
    "    azVs = plotAz['actualVelocity'].values\n",
    "    azXs = plotAz['timestamp'].values# - plotAz['timestamp'].values[0]  \n",
    "    elPs = plotEl['actualPosition'].values\n",
    "    elVs = plotEl['actualVelocity'].values\n",
    "    elXs = plotEl['timestamp'].values# - plotEl['timestamp'].values[0]\n",
    "    plotStart = azXs[0] + 1.0\n",
    "    plotEnd = azXs[-1] - 1.0\n",
    "    \n",
    "    \n",
    "    plotAzXs = np.linspace(azXs[0], azXs[-1], 2000)\n",
    "    plotElXs = np.linspace(elXs[0], elXs[-1], 2000)\n",
    "    azPSpline = UnivariateSpline(azXs, azPs, s=0)\n",
    "    azVelSpline1 = UnivariateSpline(azXs, azVs, s=0) \n",
    "    #azVelSpline1 =azPSpline.derivative(n=1)\n",
    "    # Now smooth the derivative before differentiating again\n",
    "    smoothedAzVel = np.convolve(azVelSpline1(plotAzXs), kernel, mode='same')\n",
    "    azVelSpline = UnivariateSpline(plotAzXs, smoothedAzVel, s=smoothingFactor)\n",
    "    azAccSpline1 = azVelSpline.derivative(n=1)\n",
    "    smoothedAzAcc = np.convolve(azAccSpline1(plotAzXs), kernel, mode='same')\n",
    "    # Now smooth the derivative before differentiating again\n",
    "    azAccSpline = UnivariateSpline(plotAzXs, smoothedAzAcc, s=smoothingFactor)\n",
    "    azJerkSpline = azAccSpline.derivative(n=1) \n",
    "    elPSpline = UnivariateSpline(elXs, elPs, s=0)\n",
    "    elVelSpline1 = UnivariateSpline(elXs, elVs, s=0)\n",
    "    #elVelSpline1 =elPSpline.derivative(n=1)\n",
    "    # Now smooth the derivative before differentiating again\n",
    "    smoothedElVel = np.convolve(elVelSpline1(plotElXs), kernel, mode='same')\n",
    "    elVelSpline = UnivariateSpline(plotElXs, smoothedElVel, s=smoothingFactor)\n",
    "    elAccSpline1 = elVelSpline.derivative(n=1)\n",
    "    smoothedElAcc = np.convolve(elAccSpline1(plotElXs), kernel, mode='same')\n",
    "    # Now smooth the derivative before differentiating again\n",
    "    elAccSpline = UnivariateSpline(plotElXs, smoothedElAcc, s=smoothingFactor)\n",
    "    elJerkSpline = elAccSpline.derivative(n=1) \n",
    "\n",
    "    \n",
    "    fig.clear()\n",
    "    plt.subplots_adjust(wspace=0.3, hspace=0.5)\n",
    "    plt.suptitle(f\"MT Mount Slews - {ip_time}\", fontsize = 18)\n",
    "    plt.subplot(4,2,1)\n",
    "    plt.plot(plotAzXs, azPSpline(plotAzXs), lw=3, color='r', label='Spline fit')\n",
    "    plt.scatter(azXs, azPs, marker='x', color='red', s=100, label='Measured points')\n",
    "    plt.title(f\"Azimuth\")\n",
    "    plt.ylabel(\"Degrees\")\n",
    "    plt.xlim(plotStart, plotEnd)\n",
    "    plt.legend()\n",
    "    plt.subplot(4,2,2)\n",
    "    plt.plot(plotElXs, elPSpline(plotElXs), lw=3, color='g', label='Spline fit')\n",
    "    plt.scatter(elXs, elPs, marker='x', color='g', s=100, label='Measured points')\n",
    "    plt.title(f\"Elevation\")\n",
    "    plt.ylabel(\"Degrees\")\n",
    "    plt.xlim(plotStart, plotEnd)\n",
    "    plt.legend()\n",
    "    plt.subplot(4,2,3)\n",
    "    plt.plot(plotAzXs, azVelSpline(plotAzXs), lw=3, color='r', label='Spline fit')\n",
    "    plt.scatter(azXs, azVs, marker='x', color='red', s=100, label='Measured points')\n",
    "    plt.title(f\"Azimuth Velocity\")\n",
    "    plt.ylabel(\"Degrees/sec\")\n",
    "    plt.xlim(plotStart, plotEnd)\n",
    "    plt.legend()\n",
    "    plt.subplot(4,2,4)\n",
    "    plt.plot(plotElXs, elVelSpline(plotElXs), lw=3, color='g', label='Spline fit')\n",
    "    plt.scatter(elXs, elVs, marker='x', color='g', s=100, label='Measured points')\n",
    "    plt.title(f\"Elevation Velocity\")\n",
    "    plt.ylabel(\"Degrees/sec\")\n",
    "    plt.xlim(plotStart, plotEnd)\n",
    "    plt.legend()\n",
    "    plt.subplot(4,2,5)\n",
    "    plt.plot(plotAzXs, azAccSpline(plotAzXs), lw=3, color='r', label='Acceleration')\n",
    "    plt.title(f\"Azimuth Acceleration\")\n",
    "    plt.ylabel(\"Degrees/sec^2\")\n",
    "    plt.xlim(plotStart, plotEnd)\n",
    "    plt.legend()\n",
    "    plt.subplot(4,2,6)\n",
    "    plt.plot(plotElXs, elAccSpline(plotElXs), lw=3, color='g', label='Acceleration')\n",
    "    plt.title(f\"Elevation Acceleration\")\n",
    "    plt.ylabel(\"Degrees/sec^2\")\n",
    "    plt.xlim(plotStart, plotEnd)\n",
    "    plt.legend()\n",
    "    plt.subplot(4,2,7)\n",
    "    plt.plot(plotAzXs, azJerkSpline(plotAzXs), lw=3, color='r', label='Jerk')\n",
    "    plt.title(f\"Azimuth Jerk\")\n",
    "    plt.ylabel(\"Degrees/sec^3\")\n",
    "    plt.xlim(plotStart, plotEnd)\n",
    "    plt.legend()\n",
    "    plt.subplot(4,2,8)\n",
    "    plt.plot(plotElXs, elJerkSpline(plotElXs), lw=3, color='g', label='Jerk')\n",
    "    plt.title(f\"Elevation Jerk\")\n",
    "    plt.ylabel(\"Degrees/sec^3\")\n",
    "    plt.xlim(plotStart, plotEnd)\n",
    "    plt.legend()\n",
    "    timestamp = ip_time.split('.')[0].replace('-','').replace(':','')\n",
    "    plt.savefig(f\"/home/craiglagegit/DATA/MTMount_26jan23/MT_Mount_Accel_Jerk_{timestamp}.pdf\")\n",
    "    maxAzVel = np.max(abs(azVelSpline(plotAzXs)))\n",
    "    maxAzAccel = np.max(abs(azAccSpline(plotAzXs)))\n",
    "    maxAzJerk = np.max(abs(azJerkSpline(plotAzXs)))\n",
    "    maxElVel = np.max(abs(elVelSpline(plotAzXs)))\n",
    "    maxElAccel = np.max(abs(elAccSpline(plotAzXs)))\n",
    "    maxElJerk = np.max(abs(elJerkSpline(plotAzXs)))\n",
    "    maxAzVels.append(maxAzVel)\n",
    "    maxAzAccels.append(maxAzAccel)\n",
    "    maxAzJerks.append(maxAzJerk)\n",
    "    maxElVels.append(maxElVel)\n",
    "    maxElAccels.append(maxElAccel)\n",
    "    maxElJerks.append(maxElJerk)\n",
    "    if maxAzJerk > 42.0 or maxElJerk > 21.0 or maxAzAccel > 10.5 or maxElAccel > 5.25:\n",
    "        print(maxAzVel, maxAzAccel, maxAzJerk, maxElVel, maxElAccel, maxElJerk)\n",
    "        plt.savefig(f\"/home/craiglagegit/DATA/MTMount_accel_jerk_fails/MT_Mount_Accel_Jerk_{timestamp}.pdf\")\n",
    "        print(timestamp)\n",
    "    \n"
   ]
  },
  {
   "cell_type": "code",
   "execution_count": null,
   "metadata": {
    "execution": {
     "iopub.execute_input": "2023-03-24T18:04:01.437856Z",
     "iopub.status.busy": "2023-03-24T18:04:01.437490Z",
     "iopub.status.idle": "2023-03-24T18:04:02.357168Z",
     "shell.execute_reply": "2023-03-24T18:04:02.356736Z",
     "shell.execute_reply.started": "2023-03-24T18:04:01.437838Z"
    },
    "tags": []
   },
   "outputs": [],
   "source": [
    "fig = plt.figure(figsize=(8,8))\n",
    "plt.subplots_adjust(wspace=0.3, hspace=0.5)\n",
    "plt.suptitle(f\"MT Mount Accels and Jerks\", fontsize = 18)\n",
    "plt.subplot(2,3,1)\n",
    "plt.title(\"Az Max Velocity\")\n",
    "plt.hist(maxAzVels, color='orange')\n",
    "plt.xlabel(\"Velocity(deg/s)\")\n",
    "plt.ylim(0,120)\n",
    "plt.plot([10.5, 10.5],[0,120],color='red', ls='--', label='Max')\n",
    "plt.plot([7.0, 7.0],[0,120],color='blue', ls='--', label='Design')\n",
    "plt.legend()\n",
    "plt.subplot(2,3,2)\n",
    "plt.title(\"Az Max Accels\")\n",
    "plt.hist(maxAzAccels, color='orange')\n",
    "plt.xlabel(\"Accel(deg/s^2)\")\n",
    "plt.ylim(0,120)\n",
    "plt.plot([10.5, 10.5],[0,120],color='red', ls='--', label='Max')\n",
    "plt.plot([7.0, 7.0],[0,120],color='blue', ls='--', label='Design')\n",
    "plt.legend()\n",
    "plt.subplot(2,3,3)\n",
    "plt.title(\"Az Max Jerk\")\n",
    "plt.hist(maxAzJerks, color='orange')\n",
    "plt.xlabel(\"Jerk(deg/s^3)\")\n",
    "plt.ylim(0,120)\n",
    "plt.plot([42.0, 42.0],[0,120],color='red', ls='--', label='Max')\n",
    "plt.plot([28.0, 28.0],[0,120],color='blue', ls='--', label='Design')\n",
    "plt.legend()\n",
    "plt.subplot(2,3,4)\n",
    "plt.title(\"El Max Velocity\")\n",
    "plt.hist(maxElVels, color='orange')\n",
    "plt.xlabel(\"Velocity(deg/s)\")\n",
    "plt.ylim(0,120)\n",
    "plt.plot([5.25, 5.25],[0,120],color='red', ls='--', label='Max')\n",
    "plt.plot([3.5, 3.5],[0,120],color='blue', ls='--', label='Design')\n",
    "plt.legend()\n",
    "plt.subplot(2,3,5)\n",
    "plt.title(\"El Max Accels\")\n",
    "plt.hist(maxElAccels, color='orange')\n",
    "plt.xlabel(\"Accel(deg/s^2)\")\n",
    "plt.ylim(0,120)\n",
    "plt.plot([5.25, 5.25],[0,120],color='red', ls='--', label='Max')\n",
    "plt.plot([3.5, 3.5],[0,120],color='blue', ls='--', label='Design')\n",
    "plt.legend()\n",
    "plt.subplot(2,3,6)\n",
    "plt.title(\"El Max Jerk\")\n",
    "plt.hist(maxElJerks, color='orange')\n",
    "plt.xlabel(\"Jerk(deg/s^3)\")\n",
    "plt.ylim(0,120)\n",
    "plt.plot([21, 21],[0,120],color='red', ls='--', label='Max')\n",
    "plt.plot([14.0, 14.0],[0,120],color='blue', ls='--', label='Design')\n",
    "plt.legend()\n",
    "\n",
    "plt.savefig(f\"/home/craiglagegit/DATA/MTMount_26jan23/Max_Accel_Jerks_26Jan23.pdf\")"
   ]
  },
  {
   "cell_type": "code",
   "execution_count": null,
   "metadata": {
    "execution": {
     "iopub.execute_input": "2023-03-31T14:15:23.637428Z",
     "iopub.status.busy": "2023-03-31T14:15:23.637139Z",
     "iopub.status.idle": "2023-03-31T14:15:23.641059Z",
     "shell.execute_reply": "2023-03-31T14:15:23.640701Z",
     "shell.execute_reply.started": "2023-03-31T14:15:23.637411Z"
    },
    "tags": []
   },
   "outputs": [],
   "source": [
    "Time(1679707649.0, format='unix_tai').isot"
   ]
  },
  {
   "cell_type": "code",
   "execution_count": null,
   "metadata": {
    "execution": {
     "iopub.execute_input": "2023-03-31T14:09:10.448842Z",
     "iopub.status.busy": "2023-03-31T14:09:10.448466Z",
     "iopub.status.idle": "2023-03-31T14:09:10.453347Z",
     "shell.execute_reply": "2023-03-31T14:09:10.452683Z",
     "shell.execute_reply.started": "2023-03-31T14:09:10.448819Z"
    },
    "tags": []
   },
   "outputs": [],
   "source": [
    "time.unix_tai"
   ]
  },
  {
   "cell_type": "code",
   "execution_count": null,
   "metadata": {
    "execution": {
     "iopub.execute_input": "2023-03-31T14:06:56.132831Z",
     "iopub.status.busy": "2023-03-31T14:06:56.132551Z",
     "iopub.status.idle": "2023-03-31T14:06:56.137051Z",
     "shell.execute_reply": "2023-03-31T14:06:56.136564Z",
     "shell.execute_reply.started": "2023-03-31T14:06:56.132814Z"
    }
   },
   "outputs": [],
   "source": [
    "plotAz['timestamp'].values"
   ]
  },
  {
   "cell_type": "code",
   "execution_count": null,
   "metadata": {},
   "outputs": [],
   "source": []
  }
 ],
 "metadata": {
  "kernelspec": {
   "display_name": "LSST",
   "language": "python",
   "name": "lsst"
  },
  "language_info": {
   "codemirror_mode": {
    "name": "ipython",
    "version": 3
   },
   "file_extension": ".py",
   "mimetype": "text/x-python",
   "name": "python",
   "nbconvert_exporter": "python",
   "pygments_lexer": "ipython3",
   "version": "3.10.9"
  }
 },
 "nbformat": 4,
 "nbformat_minor": 4
}
