{
 "cells": [
  {
   "cell_type": "markdown",
   "metadata": {},
   "source": [
    "## Queries - ComCam\n",
    "\n",
    "In this notebook, we show how to query the ComCam repository\\\n",
    "and view the resulting images.\\\n",
    "Craig Lage - 13-Jul-24"
   ]
  },
  {
   "cell_type": "code",
   "execution_count": null,
   "metadata": {
    "execution": {
     "iopub.execute_input": "2024-07-29T18:42:26.334824Z",
     "iopub.status.busy": "2024-07-29T18:42:26.333731Z",
     "iopub.status.idle": "2024-07-29T18:42:40.447837Z",
     "shell.execute_reply": "2024-07-29T18:42:40.447369Z",
     "shell.execute_reply.started": "2024-07-29T18:42:26.334790Z"
    },
    "tags": []
   },
   "outputs": [],
   "source": [
    "import numpy as np\n",
    "import matplotlib.pyplot as plt\n",
    "import astropy.io.fits as pf\n",
    "from lsst.daf.butler import Butler\n",
    "from lsst.ip.isr import IsrTask, IsrTaskConfig\n",
    "from lsst.summit.utils.plotting import plot\n",
    "import lsst.afw.cameraGeom.utils as camGeomUtils"
   ]
  },
  {
   "cell_type": "code",
   "execution_count": null,
   "metadata": {
    "execution": {
     "iopub.execute_input": "2024-07-29T18:42:40.464501Z",
     "iopub.status.busy": "2024-07-29T18:42:40.464248Z",
     "iopub.status.idle": "2024-07-29T18:42:40.701797Z",
     "shell.execute_reply": "2024-07-29T18:42:40.701087Z",
     "shell.execute_reply.started": "2024-07-29T18:42:40.464478Z"
    },
    "tags": []
   },
   "outputs": [],
   "source": [
    "butler = Butler('/repo/LSSTComCam', collections=[\"LSSTComCam/raw/all\",\"LSSTComCam/calib\"])"
   ]
  },
  {
   "cell_type": "markdown",
   "metadata": {},
   "source": [
    "## First, get a list of exposures\n",
    "### These should match what you see in RubinTV."
   ]
  },
  {
   "cell_type": "code",
   "execution_count": null,
   "metadata": {
    "execution": {
     "iopub.execute_input": "2024-07-30T16:30:07.968955Z",
     "iopub.status.busy": "2024-07-30T16:30:07.968227Z",
     "iopub.status.idle": "2024-07-30T16:30:08.029378Z",
     "shell.execute_reply": "2024-07-30T16:30:08.028821Z",
     "shell.execute_reply.started": "2024-07-30T16:30:07.968930Z"
    },
    "tags": []
   },
   "outputs": [],
   "source": [
    "dayObs = 20240729\n",
    "exposureList = []\n",
    "for record in butler.registry.queryDimensionRecords(\"exposure\", where=\"exposure.day_obs=%d\"%dayObs):\n",
    "    exposureList.append([record.id, record])\n",
    "exposureList.sort(key=lambda x: x[0])\n",
    "for [id,record] in exposureList:\n",
    "    print(record.id, record.observation_type, record.exposure_time, record.physical_filter)\n"
   ]
  },
  {
   "cell_type": "markdown",
   "metadata": {
    "execution": {
     "iopub.execute_input": "2024-07-10T18:00:56.931372Z",
     "iopub.status.busy": "2024-07-10T18:00:56.930578Z",
     "iopub.status.idle": "2024-07-10T18:00:56.935059Z",
     "shell.execute_reply": "2024-07-10T18:00:56.934337Z",
     "shell.execute_reply.started": "2024-07-10T18:00:56.931336Z"
    }
   },
   "source": [
    "# Get the data from the headers"
   ]
  },
  {
   "cell_type": "code",
   "execution_count": null,
   "metadata": {},
   "outputs": [],
   "source": [
    "expId = 2024071200008\n",
    "mData = butler.get('raw.metadata', detector=4, exposure=expId)\n",
    "for key in mData.keys():\n",
    "    print(key, mData[key])"
   ]
  },
  {
   "cell_type": "markdown",
   "metadata": {},
   "source": [
    "# Now get the raw data"
   ]
  },
  {
   "cell_type": "markdown",
   "metadata": {},
   "source": [
    "## Next, look at the raw data from one of the exposures.\n",
    "### Because of the large pedestal, we don't see much.  We need to do ISR"
   ]
  },
  {
   "cell_type": "code",
   "execution_count": null,
   "metadata": {
    "tags": []
   },
   "outputs": [],
   "source": [
    "expId = 2024071200008\n",
    "raw = butler.get('raw', detector=4, exposure=expId)\n"
   ]
  },
  {
   "cell_type": "code",
   "execution_count": null,
   "metadata": {},
   "outputs": [],
   "source": [
    "%matplotlib inline\n",
    "x = plot(raw)"
   ]
  },
  {
   "cell_type": "markdown",
   "metadata": {},
   "source": [
    "## Define a simple ISR\n",
    "### Just overscan subtraction and bias subtraction."
   ]
  },
  {
   "cell_type": "code",
   "execution_count": null,
   "metadata": {
    "execution": {
     "iopub.execute_input": "2024-07-30T16:30:31.025670Z",
     "iopub.status.busy": "2024-07-30T16:30:31.025223Z",
     "iopub.status.idle": "2024-07-30T16:30:31.064493Z",
     "shell.execute_reply": "2024-07-30T16:30:31.063726Z",
     "shell.execute_reply.started": "2024-07-30T16:30:31.025628Z"
    },
    "tags": []
   },
   "outputs": [],
   "source": [
    "isrConfig = IsrTaskConfig()\n",
    "isrConfig.doLinearize=False\n",
    "isrConfig.doOverscan=True\n",
    "isrConfig.overscan.fitType=\"MEDIAN_PER_ROW\"\n",
    "isrConfig.overscan.doParallelOverscan=False\n",
    "isrConfig.doAssembleCcd=True\n",
    "isrConfig.doBias=True\n",
    "isrConfig.doVariance=False\n",
    "isrConfig.doCrosstalk=False\n",
    "isrConfig.doBrighterFatter=False\n",
    "isrConfig.doDark=False\n",
    "isrConfig.doStrayLight=False\n",
    "isrConfig.doFlat=False\n",
    "isrConfig.doFringe=False\n",
    "isrConfig.doApplyGains=True\n",
    "isrConfig.doDefect=False\n",
    "isrConfig.doNanMasking=True\n",
    "isrConfig.doInterpolate=False\n",
    "isrConfig.doSaturation=False\n",
    "isrConfig.doSaturationInterpolation=False\n",
    "isrTask = IsrTask(config=isrConfig)"
   ]
  },
  {
   "cell_type": "markdown",
   "metadata": {},
   "source": [
    "## Run the ISR and look at the result\n",
    "### Here I've taken an exposure where I found a cosmic ray using the RUbinTV CCS image viewer image"
   ]
  },
  {
   "cell_type": "code",
   "execution_count": null,
   "metadata": {
    "tags": []
   },
   "outputs": [],
   "source": [
    "expId = 2024071200008\n",
    "exp = butler.get('raw', detector=4, exposure=expId)\n",
    "biasExp = butler.get('bias', detector=1, exposure=expId) # This is a bias image associated with the data\n",
    "isrResult = isrTask.run(exp, bias=biasExp) # This runs the ISR"
   ]
  },
  {
   "cell_type": "code",
   "execution_count": null,
   "metadata": {},
   "outputs": [],
   "source": [
    "%matplotlib inline\n",
    "x = plot(isrResult.exposure, stretch='ccs')\n",
    "plt.savefig(f\"/home/cslage/DATA/ComCam_{expId}.png\")"
   ]
  },
  {
   "cell_type": "markdown",
   "metadata": {
    "execution": {
     "iopub.execute_input": "2024-07-10T18:10:52.234053Z",
     "iopub.status.busy": "2024-07-10T18:10:52.233642Z",
     "iopub.status.idle": "2024-07-10T18:10:52.238254Z",
     "shell.execute_reply": "2024-07-10T18:10:52.237362Z",
     "shell.execute_reply.started": "2024-07-10T18:10:52.234022Z"
    }
   },
   "source": [
    "# Plot a small region"
   ]
  },
  {
   "cell_type": "code",
   "execution_count": null,
   "metadata": {},
   "outputs": [],
   "source": [
    "x = plot(isrResult.exposure.image.array[100:200, 1000:1100])"
   ]
  },
  {
   "cell_type": "code",
   "execution_count": null,
   "metadata": {},
   "outputs": [],
   "source": [
    "plt.title(f\"ComCam {expId}, Bias\")\n",
    "plt.plot(isrResult.exposure.image.array[2100, :], label='X cut')\n",
    "plt.plot(isrResult.exposure.image.array[:, 2100], label='Y cut')\n",
    "#plt.ylim(0,70000)\n",
    "plt.ylim(-50, 50)\n",
    "plt.ylabel(\"Flux (electrons)\")\n",
    "plt.xlabel(\"Pixels\")\n",
    "plt.legend()\n",
    "plt.savefig(f\"/home/cslage/DATA/ComCam_Slices_{expId}.png\")"
   ]
  },
  {
   "cell_type": "markdown",
   "metadata": {},
   "source": [
    "# Now assemble all 9 CCDs and plot the result"
   ]
  },
  {
   "cell_type": "code",
   "execution_count": null,
   "metadata": {
    "execution": {
     "iopub.execute_input": "2024-07-30T16:30:36.074011Z",
     "iopub.status.busy": "2024-07-30T16:30:36.073619Z",
     "iopub.status.idle": "2024-07-30T16:30:36.080354Z",
     "shell.execute_reply": "2024-07-30T16:30:36.079524Z",
     "shell.execute_reply.started": "2024-07-30T16:30:36.073982Z"
    }
   },
   "outputs": [],
   "source": [
    "def myCallback(im, ccd, imageSource):\n",
    "    \"\"\"Assemble the CCD image and do basic ISR\"\"\"\n",
    "    dayObs = imageSource.kwargs['day_obs']\n",
    "    seqNum = imageSource.kwargs['seq_num']\n",
    "    exp = imageSource.butler.get('raw', detector=ccd.getId(), day_obs=dayObs, seq_num=seqNum)\n",
    "    biasExp = imageSource.butler.get('bias', detector=ccd.getId(), day_obs=dayObs, seq_num=seqNum)\n",
    "    isrResult = isrTask.run(exp, bias=biasExp)\n",
    "    oim = isrResult.exposure.image\n",
    "    return oim"
   ]
  },
  {
   "cell_type": "code",
   "execution_count": null,
   "metadata": {
    "execution": {
     "iopub.execute_input": "2024-07-30T16:30:45.410099Z",
     "iopub.status.busy": "2024-07-30T16:30:45.409752Z",
     "iopub.status.idle": "2024-07-30T16:31:18.213317Z",
     "shell.execute_reply": "2024-07-30T16:31:18.212461Z",
     "shell.execute_reply.started": "2024-07-30T16:30:45.410053Z"
    }
   },
   "outputs": [],
   "source": [
    "%matplotlib inline\n",
    "instrument = \"LSSTComCam\"\n",
    "camera = butler.get('camera', instrument=instrument)\n",
    "fig = plt.figure(figsize=(12,12))\n",
    "import lsst.afw.display as afwDisplay\n",
    "disp = afwDisplay.Display(1, \"matplotlib\")\n",
    "#disp.scale('linear', min = 45000, max=65000)\n",
    "disp.scale('linear', min='zscale')\n",
    "dayObs = 20240729\n",
    "seqNum = 257\n",
    "dataType='raw'\n",
    "mos = camGeomUtils.showCamera(camera,\n",
    "                              camGeomUtils.ButlerImage(butler, dataType, \n",
    "                                                       instrument=instrument, raft=\"R22\",\n",
    "                                                       day_obs=dayObs, seq_num=seqNum,\n",
    "                                                       verbose=False, callback=myCallback,\n",
    "                                                       background=np.nan),\n",
    "                              binSize=1, display=disp, overlay=False,\n",
    "                              title=\"%d %d\" % (dayObs, seqNum))\n",
    "\n",
    "plt.savefig(f\"/home/cslage/DATA/ComCam_{dayObs}_{seqNum}.png\")"
   ]
  },
  {
   "cell_type": "code",
   "execution_count": null,
   "metadata": {},
   "outputs": [],
   "source": [
    "%matplotlib inline\n",
    "plt.title(f\"ComCam {dayObs}_{seqNum}\")\n",
    "plt.plot(mos.array[6000, :], label=\"X slice\")\n",
    "plt.plot(mos.array[:, 6000], label=\"Y slice\")\n",
    "#plt.ylim(0, 50000)\n",
    "plt.ylim(-50, 50)\n",
    "plt.ylabel(\"Flux (electrons)\")\n",
    "plt.xlabel(\"Pixels\")\n",
    "plt.legend()\n",
    "plt.savefig(f\"/home/cslage/DATA/ComCam_Slices_{dayObs}_{seqNum}.png\")"
   ]
  },
  {
   "cell_type": "code",
   "execution_count": null,
   "metadata": {},
   "outputs": [],
   "source": [
    "plt.hist(mos.array.flatten(), range=(-50,50))\n",
    "plt.text(20,4E7, f\"Sigma = {np.nanstd(mos.array.flatten()):.2f} e-\")\n"
   ]
  },
  {
   "cell_type": "markdown",
   "metadata": {
    "execution": {
     "iopub.execute_input": "2024-07-10T18:10:52.234053Z",
     "iopub.status.busy": "2024-07-10T18:10:52.233642Z",
     "iopub.status.idle": "2024-07-10T18:10:52.238254Z",
     "shell.execute_reply": "2024-07-10T18:10:52.237362Z",
     "shell.execute_reply.started": "2024-07-10T18:10:52.234022Z"
    }
   },
   "source": [
    "# Plot a small region"
   ]
  },
  {
   "cell_type": "code",
   "execution_count": null,
   "metadata": {},
   "outputs": [],
   "source": [
    "x = plot(mos.array[3900:4000, 4500:4600])"
   ]
  },
  {
   "cell_type": "markdown",
   "metadata": {
    "execution": {
     "iopub.execute_input": "2024-07-13T13:01:31.616243Z",
     "iopub.status.busy": "2024-07-13T13:01:31.615843Z",
     "iopub.status.idle": "2024-07-13T13:01:31.619977Z",
     "shell.execute_reply": "2024-07-13T13:01:31.619248Z",
     "shell.execute_reply.started": "2024-07-13T13:01:31.616214Z"
    }
   },
   "source": [
    "# The cell below will save the combined image as a FITS file"
   ]
  },
  {
   "cell_type": "code",
   "execution_count": null,
   "metadata": {},
   "outputs": [],
   "source": [
    "filename = \"/home/cslage/DATA/FITS_2024071200007.fits\"\n",
    "mos.writeFits(filename)"
   ]
  },
  {
   "cell_type": "markdown",
   "metadata": {},
   "source": [
    "# Variability per amp"
   ]
  },
  {
   "cell_type": "code",
   "execution_count": null,
   "metadata": {},
   "outputs": [],
   "source": [
    "%matplotlib inline\n",
    "clip = 10.0\n",
    "expId = 2024071200007\n",
    "\n",
    "for det in range(9):\n",
    "    exp = butler.get('raw', detector=det, exposure=expId)\n",
    "    biasExp = butler.get('bias', detector=det, exposure=expId) # This is a bias image associated with the data\n",
    "    isrResult = isrTask.run(exp, bias=biasExp) # This runs the ISR\n",
    "    for amp in exp.getDetector().getAmplifiers():\n",
    "        data = isrResult.exposure[amp.getBBox()].image.array.flatten()\n",
    "        data = (data - np.median(data)) / np.median(data) * 100.0\n",
    "        sortedData = np.sort(data)\n",
    "        sortedTrimmedData = np.clip(sortedData, np.percentile(sortedData, clip), np.percentile(sortedData, 100 - clip))\n",
    "        plt.plot(sortedTrimmedData)\n",
    "plt.ylim(-5.0, 5.0)\n",
    "plt.title(f\"ComCam {expId}, per amp variability - 10->90 percentiles\")\n",
    "plt.xlabel(\"Pixel count\")\n",
    "plt.ylabel(\"Percent variation from Median\")\n",
    "plt.savefig(f\"/home/cslage/DATA/ComCam_Amp_Nonuniformity_{expId}.png\")"
   ]
  },
  {
   "cell_type": "code",
   "execution_count": null,
   "metadata": {},
   "outputs": [],
   "source": []
  }
 ],
 "metadata": {
  "kernelspec": {
   "display_name": "LSST",
   "language": "python",
   "name": "lsst"
  },
  "language_info": {
   "codemirror_mode": {
    "name": "ipython",
    "version": 3
   },
   "file_extension": ".py",
   "mimetype": "text/x-python",
   "name": "python",
   "nbconvert_exporter": "python",
   "pygments_lexer": "ipython3",
   "version": "3.11.9"
  }
 },
 "nbformat": 4,
 "nbformat_minor": 4
}
