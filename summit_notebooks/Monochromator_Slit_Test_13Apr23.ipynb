{
 "cells": [
  {
   "cell_type": "markdown",
   "id": "66953411",
   "metadata": {},
   "source": [
    "# AuxTel Calibration Illumination System monochromator slit test."
   ]
  },
  {
   "cell_type": "markdown",
   "id": "5fc900e0",
   "metadata": {},
   "source": [
    "Craig Lage - 13Feb23"
   ]
  },
  {
   "cell_type": "code",
   "execution_count": null,
   "id": "4fdba962",
   "metadata": {
    "execution": {
     "iopub.execute_input": "2023-04-13T16:03:04.524684Z",
     "iopub.status.busy": "2023-04-13T16:03:04.524411Z",
     "iopub.status.idle": "2023-04-13T16:03:06.263053Z",
     "shell.execute_reply": "2023-04-13T16:03:06.262439Z",
     "shell.execute_reply.started": "2023-04-13T16:03:04.524669Z"
    },
    "tags": []
   },
   "outputs": [],
   "source": [
    "import asyncio\n",
    "import sys, time, os\n",
    "from lsst.ts import utils\n",
    "\n",
    "import numpy as np\n",
    "import pandas as pd\n",
    "import matplotlib.pyplot as plt\n",
    "\n",
    "from astropy.io import fits\n",
    "from astropy.time import Time, TimeDelta\n",
    "from astropy.table import Table\n",
    "\n",
    "from lsst_efd_client import EfdClient\n",
    "client = EfdClient('summit_efd')\n",
    "\n",
    "from lsst.ts import salobj"
   ]
  },
  {
   "cell_type": "code",
   "execution_count": null,
   "id": "582744d1",
   "metadata": {
    "execution": {
     "iopub.execute_input": "2023-04-13T16:03:06.270299Z",
     "iopub.status.busy": "2023-04-13T16:03:06.269818Z",
     "iopub.status.idle": "2023-04-13T16:03:06.272765Z",
     "shell.execute_reply": "2023-04-13T16:03:06.272174Z",
     "shell.execute_reply.started": "2023-04-13T16:03:06.270277Z"
    },
    "tags": []
   },
   "outputs": [],
   "source": [
    "# change this to a local directory\n",
    "data_dir = '/home/craiglagegit/DATA'"
   ]
  },
  {
   "cell_type": "code",
   "execution_count": null,
   "id": "ca265d8d",
   "metadata": {
    "execution": {
     "iopub.execute_input": "2023-04-13T16:03:07.277089Z",
     "iopub.status.busy": "2023-04-13T16:03:07.276816Z",
     "iopub.status.idle": "2023-04-13T16:03:07.293948Z",
     "shell.execute_reply": "2023-04-13T16:03:07.293524Z",
     "shell.execute_reply.started": "2023-04-13T16:03:07.277072Z"
    },
    "tags": []
   },
   "outputs": [],
   "source": [
    "d = salobj.Domain()"
   ]
  },
  {
   "cell_type": "markdown",
   "id": "bd0fe9a6",
   "metadata": {},
   "source": [
    "### Connect to CSCs"
   ]
  },
  {
   "cell_type": "code",
   "execution_count": null,
   "id": "06512f70",
   "metadata": {
    "execution": {
     "iopub.execute_input": "2023-04-13T16:03:15.197851Z",
     "iopub.status.busy": "2023-04-13T16:03:15.197475Z",
     "iopub.status.idle": "2023-04-13T16:03:15.200732Z",
     "shell.execute_reply": "2023-04-13T16:03:15.200242Z",
     "shell.execute_reply.started": "2023-04-13T16:03:15.197834Z"
    },
    "tags": []
   },
   "outputs": [],
   "source": [
    "await atmonochromator.start_task\n",
    "await FiberSpectrograph.start_task\n",
    "await electrometer.start_task\n",
    "await WhiteLightSource.start_task"
   ]
  },
  {
   "cell_type": "code",
   "execution_count": null,
   "id": "7baa8f01",
   "metadata": {
    "execution": {
     "iopub.execute_input": "2023-04-13T16:19:09.278906Z",
     "iopub.status.busy": "2023-04-13T16:19:09.278532Z",
     "iopub.status.idle": "2023-04-13T16:19:09.286541Z",
     "shell.execute_reply": "2023-04-13T16:19:09.286045Z",
     "shell.execute_reply.started": "2023-04-13T16:19:09.278885Z"
    },
    "tags": []
   },
   "outputs": [],
   "source": [
    "# Check that the monochromator has grating=0 and lambda=500\n",
    "async def get_params():\n",
    "    tmp1 = await atmonochromator.evt_wavelength.aget()\n",
    "    tmp2 = await atmonochromator.evt_entrySlitWidth.aget()\n",
    "    tmp3 = await atmonochromator.evt_exitSlitWidth.aget()\n",
    "    tmp4 = await atmonochromator.evt_selectedGrating.aget()\n",
    "    return (tmp1.wavelength, tmp2.width, tmp3.width, tmp4.gratingType)\n",
    "\n",
    "\n",
    "# functions to run the electromter measurements\n",
    "def get_file_transfer(lfa):\n",
    "    filename = os.path.split(lfa.url)[1]\n",
    "    save_dir = os.path.join(data_dir, filename.split(':')[0])\n",
    "    if not os.path.exists(save_dir):\n",
    "        os.mkdir(save_dir)\n",
    "    save_file = os.path.join(save_dir, filename)\n",
    "    os.system(f\"curl {lfa.url} --output {save_file}\")\n",
    "    return save_file\n",
    "\n",
    "async def elec_meas(exp_time):\n",
    "    electrometer.evt_largeFileObjectAvailable.flush()\n",
    "    tmp1=await electrometer.cmd_startScan.set_start(timeout=10)\n",
    "    await asyncio.sleep(exp_time)\n",
    "    tmp2=await electrometer.cmd_stopScan.set_start(timeout=10)\n",
    "    lfa = await electrometer.evt_largeFileObjectAvailable.next(flush=False, timeout=10)\n",
    "    filename = get_file_transfer(lfa)\n",
    "    filename = filename.replace(\":\", \"_\")\n",
    "    elec_filen = os.path.join(data_dir, filename)\n",
    "    os.system(f\"curl {lfa.url} --output {elec_filen}\")\n",
    "    hdu = fits.open(f'{elec_filen}')\n",
    "    data = hdu[1].data\n",
    "    return filename, lfa, data\n",
    "\n",
    "async def fiber_meas(exp_time):\n",
    "    FiberSpectrograph.evt_largeFileObjectAvailable.flush()\n",
    "    tmp1 = await FiberSpectrograph.cmd_expose.set_start(duration=exp_time, numExposures=1)\n",
    "    lfa = await FiberSpectrograph.evt_largeFileObjectAvailable.next(flush=False, timeout=10)\n",
    "    filename = get_file_transfer(lfa)\n",
    "    filename = filename.replace(\":\", \"_\")\n",
    "    spec_filen = os.path.join(data_dir, filename)\n",
    "    os.system(f\"curl {lfa.url} --output {spec_filen}\")\n",
    "    hdu = fits.open(f'{spec_filen}')\n",
    "    wavelength = hdu[1].data['wavelength'].flatten()\n",
    "    spectrum = hdu[0].data\n",
    "    return filename, lfa, wavelength, spectrum\n"
   ]
  },
  {
   "cell_type": "code",
   "execution_count": null,
   "id": "09c64f73",
   "metadata": {
    "execution": {
     "iopub.execute_input": "2023-04-13T16:03:18.455442Z",
     "iopub.status.busy": "2023-04-13T16:03:18.455062Z",
     "iopub.status.idle": "2023-04-13T16:03:18.917819Z",
     "shell.execute_reply": "2023-04-13T16:03:18.917288Z",
     "shell.execute_reply.started": "2023-04-13T16:03:18.455425Z"
    },
    "tags": []
   },
   "outputs": [],
   "source": [
    "# Run electrometer calibration\n",
    "await electrometer.cmd_performZeroCalib.set_start(timeout=10)\n",
    "await electrometer.cmd_setDigitalFilter.set_start(activateFilter=False, activateAvgFilter=False, activateMedFilter=False, timeout=10)    "
   ]
  },
  {
   "cell_type": "markdown",
   "id": "1460e654",
   "metadata": {},
   "source": [
    "### Test Electrometer"
   ]
  },
  {
   "cell_type": "code",
   "execution_count": null,
   "id": "24a99796",
   "metadata": {
    "execution": {
     "iopub.execute_input": "2023-04-13T16:03:25.627583Z",
     "iopub.status.busy": "2023-04-13T16:03:25.627193Z",
     "iopub.status.idle": "2023-04-13T16:03:25.631081Z",
     "shell.execute_reply": "2023-04-13T16:03:25.630569Z",
     "shell.execute_reply.started": "2023-04-13T16:03:25.627566Z"
    },
    "tags": []
   },
   "outputs": [],
   "source": [
    "mode = await electrometer.evt_measureType.aget()\n",
    "intTime = await electrometer.evt_integrationTime.aget()\n",
    "range_ = await electrometer.evt_measureRange.aget()\n",
    "print(f'Mode: {mode.mode}; Int. Time: {intTime.intTime}; Range: {range_.rangeValue}')"
   ]
  },
  {
   "cell_type": "markdown",
   "id": "aaf4ed6a-6126-4a33-9c89-79fb8a7b00df",
   "metadata": {},
   "source": [
    "### Set up Monochromator"
   ]
  },
  {
   "cell_type": "code",
   "execution_count": null,
   "id": "e8e43f06-eb48-4626-9fd3-993a52d91249",
   "metadata": {
    "execution": {
     "iopub.execute_input": "2023-04-13T16:04:24.773230Z",
     "iopub.status.busy": "2023-04-13T16:04:24.772848Z",
     "iopub.status.idle": "2023-04-13T16:04:26.601418Z",
     "shell.execute_reply": "2023-04-13T16:04:26.600877Z",
     "shell.execute_reply.started": "2023-04-13T16:04:24.773212Z"
    },
    "tags": []
   },
   "outputs": [],
   "source": [
    "wave=500\n",
    "await atmonochromator.cmd_changeWavelength.set_start(wavelength=wave)\n",
    "entry_width=0.5\n",
    "exit_width=0.5\n",
    "await atmonochromator.cmd_changeSlitWidth.set_start(slit=1, slitWidth=entry_width)\n",
    "await atmonochromator.cmd_changeSlitWidth.set_start(slit=2, slitWidth=exit_width)"
   ]
  },
  {
   "cell_type": "code",
   "execution_count": null,
   "id": "04c94db1-6162-4009-8034-fe4c44fb9833",
   "metadata": {
    "execution": {
     "iopub.execute_input": "2023-04-13T16:04:26.715245Z",
     "iopub.status.busy": "2023-04-13T16:04:26.714823Z",
     "iopub.status.idle": "2023-04-13T16:04:26.718526Z",
     "shell.execute_reply": "2023-04-13T16:04:26.718122Z",
     "shell.execute_reply.started": "2023-04-13T16:04:26.715227Z"
    },
    "tags": []
   },
   "outputs": [],
   "source": [
    "await get_params()"
   ]
  },
  {
   "cell_type": "code",
   "execution_count": null,
   "id": "c3505c79-7a21-431f-ada3-bdd058788da1",
   "metadata": {
    "execution": {
     "iopub.execute_input": "2023-04-13T17:44:11.318819Z",
     "iopub.status.busy": "2023-04-13T17:44:11.318432Z",
     "iopub.status.idle": "2023-04-13T17:51:12.566331Z",
     "shell.execute_reply": "2023-04-13T17:51:12.565626Z",
     "shell.execute_reply.started": "2023-04-13T17:44:11.318800Z"
    },
    "jupyter": {
     "outputs_hidden": true
    },
    "tags": []
   },
   "outputs": [],
   "source": [
    "# Now run a matrix of slit widths\n",
    "results = {}\n",
    "for i in range(1, 11):\n",
    "    slit_1 = 0.5 * i\n",
    "    await atmonochromator.cmd_changeSlitWidth.set_start(slit=1, slitWidth=slit_1)    \n",
    "    for j in range(1, 11):\n",
    "        exp_time = 1.0\n",
    "        slit_2 = 0.5 * j\n",
    "        key = f\"{slit_1:.1f}_{slit_2:.1f}\"\n",
    "        await atmonochromator.cmd_changeSlitWidth.set_start(slit=2, slitWidth=slit_2)    \n",
    "        filename, electrometer_lfa, electrometer_data = await elec_meas(1.0)\n",
    "        for (t,current) in electrometer_data:\n",
    "            electrometer_current = current\n",
    "        filename, fiber_lfa, wavelengths, spectrum = await fiber_meas(exp_time)\n",
    "        spec_max = np.max(spectrum)\n",
    "        while spec_max > 15900:\n",
    "            exp_time /= 2.0\n",
    "            filename, fiber_lfa, wavelengths, spectrum = await fiber_meas(exp_time)\n",
    "            spec_max = np.max(spectrum)\n",
    "            \n",
    "        print(electrometer_current, exp_time, spec_max)\n",
    "        results[key] = {}\n",
    "        results[key]['electrometer_lfa_url']=electrometer_lfa.url\n",
    "        results[key]['fiber_lfa_url']=fiber_lfa.url\n",
    "        results[key]['electrometer_current']=electrometer_current\n",
    "        results[key]['fiber_data']=[wavelengths, spectrum, exp_time]\n",
    "        print(f\"Done with {slit_1}, {slit_2}\")"
   ]
  },
  {
   "cell_type": "code",
   "execution_count": null,
   "id": "3c9ee944-f63e-4512-845b-870d1161f89d",
   "metadata": {
    "execution": {
     "iopub.execute_input": "2023-04-13T17:51:30.787483Z",
     "iopub.status.busy": "2023-04-13T17:51:30.787092Z",
     "iopub.status.idle": "2023-04-13T17:51:30.809053Z",
     "shell.execute_reply": "2023-04-13T17:51:30.808586Z",
     "shell.execute_reply.started": "2023-04-13T17:51:30.787466Z"
    },
    "tags": []
   },
   "outputs": [],
   "source": [
    "# Pickle the data\n",
    "import pickle as pkl\n",
    "filename = \"/home/craiglagegit/DATA/monochromator_slit_matrix_13apr23.pkl\"\n",
    "file = open(filename, \"wb\")\n",
    "pkl.dump(results, file)\n",
    "file.close()"
   ]
  },
  {
   "cell_type": "markdown",
   "id": "e8344bac-1e16-48ef-a913-fbeb35d2fa01",
   "metadata": {
    "execution": {
     "iopub.execute_input": "2023-04-13T18:18:56.688648Z",
     "iopub.status.busy": "2023-04-13T18:18:56.688159Z",
     "iopub.status.idle": "2023-04-13T18:18:56.691428Z",
     "shell.execute_reply": "2023-04-13T18:18:56.690908Z",
     "shell.execute_reply.started": "2023-04-13T18:18:56.688603Z"
    }
   },
   "source": [
    "## Structure of the pickle file:\n",
    "key = '0.5_0.5' where the slit widths run from 0.5 to 5.0 in steps of 0.5 \\\n",
    "results[key]['electrometer_lfa_url']=electrometer_lfa.url \\\n",
    "results[key]['fiber_lfa_url']=fiber_lfa.url \\\n",
    "results[key]['electrometer_current']=electrometer_current \\\n",
    "results[key]['fiber_data']=[wavelengths, spectrum, exp_time] \n"
   ]
  },
  {
   "cell_type": "code",
   "execution_count": null,
   "id": "1b66e765-2c7f-458a-8cca-71f4de3754cc",
   "metadata": {
    "execution": {
     "iopub.execute_input": "2023-04-13T18:46:08.532787Z",
     "iopub.status.busy": "2023-04-13T18:46:08.532424Z",
     "iopub.status.idle": "2023-04-13T18:46:08.637696Z",
     "shell.execute_reply": "2023-04-13T18:46:08.637136Z",
     "shell.execute_reply.started": "2023-04-13T18:46:08.532769Z"
    },
    "tags": []
   },
   "outputs": [],
   "source": [
    "#Look at one of the spectra\n",
    "\n",
    "slit_1 = 0.5\n",
    "slit_2 = 0.5\n",
    "key = f\"{slit_1:.1f}_{slit_2:.1f}\"\n",
    "line_min = 450.0\n",
    "line_max = 550.0\n",
    "[wavelengths, spectrum, exp_time] = results[key]['fiber_data']\n",
    "spectrum_sum = 0.0\n",
    "for i, wl in enumerate(wavelengths):\n",
    "    if wl > line_min and wl < line_max:\n",
    "        spectrum_sum += spectrum[i]\n",
    "spectrum_sum /= exp_time # Account for different exposure times\n",
    "print(exp_time, spectrum_sum)\n",
    "plt.plot(wavelengths, spectrum)"
   ]
  },
  {
   "cell_type": "code",
   "execution_count": null,
   "id": "225996e4-afeb-4e8e-8cd8-8d13d3885cc9",
   "metadata": {
    "execution": {
     "iopub.execute_input": "2023-04-13T18:40:12.127740Z",
     "iopub.status.busy": "2023-04-13T18:40:12.127349Z",
     "iopub.status.idle": "2023-04-13T18:40:12.471854Z",
     "shell.execute_reply": "2023-04-13T18:40:12.471327Z",
     "shell.execute_reply.started": "2023-04-13T18:40:12.127722Z"
    },
    "tags": []
   },
   "outputs": [],
   "source": [
    "# Now plot the results\n",
    "%matplotlib inline\n",
    "slit_1s = np.arange(0.5, 5.5, 0.5)\n",
    "slit_2s = np.arange(0.5, 5.5, 0.5)\n",
    "Z = np.zeros([10,10])\n",
    "[X,Y] = np.meshgrid(slit_1s, slit_2s);\n",
    "line_min = 450.0\n",
    "line_max = 550.0\n",
    "    \n",
    "for i, s1 in enumerate(slit_1s):\n",
    "    for j, s2 in enumerate(slit_2s):\n",
    "        # Add up the spectrum counts around the 500 nm line\n",
    "        # from 450nm to 550nm\n",
    "        key = f\"{s1:.1f}_{s2:.1f}\"\n",
    "        [wavelengths, spectrum, exp_time] = results[key]['fiber_data']\n",
    "        spectrum_sum = 0.0\n",
    "        for ii, wl in enumerate(wavelengths):\n",
    "            if wl > line_min and wl < line_max:\n",
    "                spectrum_sum += spectrum[ii]\n",
    "        spectrum_sum /= exp_time # Account for different exposure times\n",
    "        Z[i,j] = np.log10(spectrum_sum)\n",
    "\n",
    "img=plt.contourf(X,Y,Z)\n",
    "plt.colorbar(img)                \n",
    "plt.xlabel(\"Slit 1 width (mm)\")\n",
    "plt.ylabel(\"Slit 2 width (mm)\")\n",
    "plt.title(\"Log10(Spectral line sum) vs slit widths\\n wavelength=500, grating 0\")\n",
    "plt.savefig(f\"/home/craiglagegit/DATA/Monochromator_Slit_Test_13Apr23.png\")"
   ]
  },
  {
   "cell_type": "code",
   "execution_count": null,
   "id": "16a0701c-94b5-48ae-b333-a718f792342e",
   "metadata": {},
   "outputs": [],
   "source": []
  }
 ],
 "metadata": {
  "kernelspec": {
   "display_name": "LSST",
   "language": "python",
   "name": "lsst"
  },
  "language_info": {
   "codemirror_mode": {
    "name": "ipython",
    "version": 3
   },
   "file_extension": ".py",
   "mimetype": "text/x-python",
   "name": "python",
   "nbconvert_exporter": "python",
   "pygments_lexer": "ipython3",
   "version": "3.10.9"
  }
 },
 "nbformat": 4,
 "nbformat_minor": 5
}
