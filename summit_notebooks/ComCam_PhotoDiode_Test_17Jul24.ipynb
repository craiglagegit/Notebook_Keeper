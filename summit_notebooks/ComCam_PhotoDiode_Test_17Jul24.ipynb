{
 "cells": [
  {
   "cell_type": "markdown",
   "metadata": {},
   "source": [
    "# Test ComCam photodiode\n",
    "\n",
    "Craig Lage - 17-Jul-24"
   ]
  },
  {
   "cell_type": "code",
   "execution_count": null,
   "metadata": {
    "execution": {
     "iopub.execute_input": "2024-08-05T12:39:28.406340Z",
     "iopub.status.busy": "2024-08-05T12:39:28.405207Z",
     "iopub.status.idle": "2024-08-05T12:39:28.411214Z",
     "shell.execute_reply": "2024-08-05T12:39:28.410567Z",
     "shell.execute_reply.started": "2024-08-05T12:39:28.406306Z"
    },
    "tags": []
   },
   "outputs": [],
   "source": [
    "import sys, asyncio, time, os\n",
    "import pickle as pkl\n",
    "import numpy as np\n",
    "import matplotlib.pyplot as plt\n",
    "from astropy.time import Time\n",
    "from astropy.io import fits\n",
    "\n",
    "from lsst.ts import salobj\n",
    "from lsst.ts.observatory.control.maintel.comcam import ComCam"
   ]
  },
  {
   "cell_type": "markdown",
   "metadata": {},
   "source": [
    "## Now connect to ComCam and the Electrometer CSC"
   ]
  },
  {
   "cell_type": "code",
   "execution_count": null,
   "metadata": {
    "execution": {
     "iopub.execute_input": "2024-08-04T23:42:10.850302Z",
     "iopub.status.busy": "2024-08-04T23:42:10.849270Z",
     "iopub.status.idle": "2024-08-04T23:42:10.853662Z",
     "shell.execute_reply": "2024-08-04T23:42:10.852817Z",
     "shell.execute_reply.started": "2024-08-04T23:42:10.850270Z"
    }
   },
   "outputs": [],
   "source": [
    "# change this to a local directory\n",
    "data_dir = '/home/cslage/DATA'"
   ]
  },
  {
   "cell_type": "code",
   "execution_count": null,
   "metadata": {
    "execution": {
     "iopub.execute_input": "2024-08-04T23:42:11.660051Z",
     "iopub.status.busy": "2024-08-04T23:42:11.659290Z",
     "iopub.status.idle": "2024-08-04T23:42:11.664371Z",
     "shell.execute_reply": "2024-08-04T23:42:11.663583Z",
     "shell.execute_reply.started": "2024-08-04T23:42:11.660021Z"
    },
    "tags": []
   },
   "outputs": [],
   "source": [
    "logger = logging.getLogger(f\"Daytime Checkout {Time.now()} UT\")\n",
    "logger.level = logging.DEBUG"
   ]
  },
  {
   "cell_type": "code",
   "execution_count": null,
   "metadata": {
    "execution": {
     "iopub.execute_input": "2024-08-04T23:42:12.643986Z",
     "iopub.status.busy": "2024-08-04T23:42:12.643612Z",
     "iopub.status.idle": "2024-08-04T23:42:12.651828Z",
     "shell.execute_reply": "2024-08-04T23:42:12.651052Z",
     "shell.execute_reply.started": "2024-08-04T23:42:12.643958Z"
    },
    "tags": []
   },
   "outputs": [],
   "source": [
    "logger.info(os.environ[\"OSPL_URI\"])\n",
    "logger.info(os.environ[\"LSST_DDS_PARTITION_PREFIX\"])"
   ]
  },
  {
   "cell_type": "code",
   "execution_count": null,
   "metadata": {
    "execution": {
     "iopub.execute_input": "2024-08-04T23:42:14.612232Z",
     "iopub.status.busy": "2024-08-04T23:42:14.611849Z",
     "iopub.status.idle": "2024-08-04T23:42:15.436750Z",
     "shell.execute_reply": "2024-08-04T23:42:15.436197Z",
     "shell.execute_reply.started": "2024-08-04T23:42:14.612205Z"
    },
    "tags": []
   },
   "outputs": [],
   "source": [
    "domain = salobj.Domain()\n",
    "comcam = ComCam(domain)\n",
    "electrometer = salobj.Remote(name=\"Electrometer\", domain=domain, index=101) # Check SAL index"
   ]
  },
  {
   "cell_type": "code",
   "execution_count": null,
   "metadata": {
    "execution": {
     "iopub.execute_input": "2024-07-26T19:12:13.534638Z",
     "iopub.status.busy": "2024-07-26T19:12:13.534206Z",
     "iopub.status.idle": "2024-07-26T19:12:13.540776Z",
     "shell.execute_reply": "2024-07-26T19:12:13.539960Z",
     "shell.execute_reply.started": "2024-07-26T19:12:13.534610Z"
    }
   },
   "outputs": [],
   "source": [
    "await electrometer.start_task\n",
    "await comcam.start_task"
   ]
  },
  {
   "cell_type": "code",
   "execution_count": null,
   "metadata": {
    "execution": {
     "iopub.execute_input": "2024-08-05T12:39:55.357123Z",
     "iopub.status.busy": "2024-08-05T12:39:55.356742Z",
     "iopub.status.idle": "2024-08-05T12:39:55.363418Z",
     "shell.execute_reply": "2024-08-05T12:39:55.362548Z",
     "shell.execute_reply.started": "2024-08-05T12:39:55.357096Z"
    }
   },
   "outputs": [],
   "source": [
    "await comcam.get_available_filters()"
   ]
  },
  {
   "cell_type": "code",
   "execution_count": null,
   "metadata": {
    "execution": {
     "iopub.execute_input": "2024-07-26T19:13:21.119281Z",
     "iopub.status.busy": "2024-07-26T19:13:21.118220Z",
     "iopub.status.idle": "2024-07-26T19:13:21.239592Z",
     "shell.execute_reply": "2024-07-26T19:13:21.238862Z",
     "shell.execute_reply.started": "2024-07-26T19:13:21.119239Z"
    }
   },
   "outputs": [],
   "source": [
    "state = await comcam.get_state()"
   ]
  },
  {
   "cell_type": "code",
   "execution_count": null,
   "metadata": {},
   "outputs": [],
   "source": [
    "state = salobj.State.STANDBY\n",
    "tmp = await salobj.set_summary_state(electrometer, state,timeout=60)"
   ]
  },
  {
   "cell_type": "code",
   "execution_count": null,
   "metadata": {},
   "outputs": [],
   "source": [
    "elec_tmp = await electrometer.evt_summaryState.aget()\n",
    "print('Electrometer: ',salobj.State(elec_tmp.summaryState))"
   ]
  },
  {
   "cell_type": "code",
   "execution_count": null,
   "metadata": {},
   "outputs": [],
   "source": [
    "elec_tmp.salIndex"
   ]
  },
  {
   "cell_type": "code",
   "execution_count": null,
   "metadata": {},
   "outputs": [],
   "source": [
    "test = electrometer.evt_detailedState.get()\n",
    "print(test)"
   ]
  },
  {
   "cell_type": "code",
   "execution_count": null,
   "metadata": {},
   "outputs": [],
   "source": [
    "det_state = await electrometer.evt_detailedState.aget()"
   ]
  },
  {
   "cell_type": "code",
   "execution_count": null,
   "metadata": {},
   "outputs": [],
   "source": [
    "det_state"
   ]
  },
  {
   "cell_type": "code",
   "execution_count": null,
   "metadata": {},
   "outputs": [],
   "source": [
    "await comcam.take_flats(1.0, 1, reason=\"Test\", program=\"Test\")"
   ]
  },
  {
   "cell_type": "code",
   "execution_count": null,
   "metadata": {},
   "outputs": [],
   "source": [
    "comcam.take_flats?"
   ]
  },
  {
   "cell_type": "code",
   "execution_count": null,
   "metadata": {},
   "outputs": [],
   "source": [
    "await electrometer.cmd_performZeroCalib.set_start(timeout=10)\n",
    "await electrometer.cmd_setDigitalFilter.set_start(activateFilter=False, activateAvgFilter=False, activateMedFilter=False, timeout=10)\n",
    "await electrometer.cmd_setRange.set_start(setRange=2E-8) # -1 is autorange\n",
    "await electrometer.cmd_setIntegrationTime.set_start(intTime=0.01) "
   ]
  },
  {
   "cell_type": "code",
   "execution_count": null,
   "metadata": {},
   "outputs": [],
   "source": [
    "mode = await electrometer.evt_measureType.aget()"
   ]
  },
  {
   "cell_type": "code",
   "execution_count": null,
   "metadata": {},
   "outputs": [],
   "source": [
    "mode = await electrometer.evt_measureType.aget()\n",
    "intTime = await electrometer.evt_integrationTime.aget()\n",
    "range_ = await electrometer.evt_measureRange.aget()\n",
    "print(f'Mode: {mode.mode}; Int. Time: {intTime.intTime}; Range: {range_.rangeValue}')"
   ]
  },
  {
   "cell_type": "code",
   "execution_count": null,
   "metadata": {},
   "outputs": [],
   "source": [
    "await electrometer.cmd_setLogLevel.set_start(level=10)"
   ]
  },
  {
   "cell_type": "code",
   "execution_count": null,
   "metadata": {},
   "outputs": [],
   "source": [
    "await electrometer.cmd_setRange.set_start(setRange=-1) # -1 is autorange"
   ]
  },
  {
   "cell_type": "code",
   "execution_count": null,
   "metadata": {},
   "outputs": [],
   "source": [
    "await electrometer.cmd_setIntegrationTime.set_start(intTime=0.2) "
   ]
  },
  {
   "cell_type": "code",
   "execution_count": null,
   "metadata": {},
   "outputs": [],
   "source": [
    "await electrometer.cmd_startScanDt.set_start(scanDuration=10)"
   ]
  },
  {
   "cell_type": "code",
   "execution_count": null,
   "metadata": {},
   "outputs": [],
   "source": [
    "lfa = await electrometer.evt_largeFileObjectAvailable.next(flush=False, timeout=10)\n",
    "filename= os.path.split(lfa.url)[1]\n",
    "print(filename)\n",
    "elec_filen = os.path.join(data_dir, filename)\n",
    "os.system(f\"curl {lfa.url} --output {elec_filen}\")"
   ]
  },
  {
   "cell_type": "code",
   "execution_count": null,
   "metadata": {},
   "outputs": [],
   "source": [
    "# Look at Data\n",
    "hdu = fits.open(f'{elec_filen}')\n",
    "data = hdu[1].data\n",
    "print(data)"
   ]
  },
  {
   "cell_type": "code",
   "execution_count": null,
   "metadata": {},
   "outputs": [],
   "source": []
  },
  {
   "cell_type": "markdown",
   "metadata": {},
   "source": [
    "## Bring in needed subroutines"
   ]
  },
  {
   "cell_type": "code",
   "execution_count": null,
   "metadata": {},
   "outputs": [],
   "source": [
    "# functions to run the electrometer measurements\n",
    "def get_file_transfer(lfa):\n",
    "    filename = os.path.split(lfa.url)[1]\n",
    "    save_dir = os.path.join(data_dir, filename.split(':')[0])\n",
    "    if not os.path.exists(save_dir):\n",
    "        os.mkdir(save_dir)\n",
    "    save_file = os.path.join(save_dir, filename)\n",
    "    os.system(f\"curl {lfa.url} --output {save_file}\")\n",
    "    return save_file\n",
    "\n",
    "async def elec_meas(exp_time):\n",
    "    electrometer.evt_largeFileObjectAvailable.flush()\n",
    "    tmp1=await electrometer.cmd_startScan.set_start(timeout=10)\n",
    "    await asyncio.sleep(exp_time)\n",
    "    tmp2=await electrometer.cmd_stopScan.set_start(timeout=10)\n",
    "    lfa = await electrometer.evt_largeFileObjectAvailable.next(flush=False, timeout=10)\n",
    "    filename = get_file_transfer(lfa)\n",
    "    filename = filename.replace(\":\", \"_\")\n",
    "    elec_filen = os.path.join(data_dir, filename)\n",
    "    os.system(f\"curl {lfa.url} --output {elec_filen}\")\n",
    "    hdu = fits.open(f'{elec_filen}')\n",
    "    data = hdu[1].data\n",
    "    return filename, lfa, data\n",
    "\n"
   ]
  },
  {
   "cell_type": "markdown",
   "metadata": {},
   "source": [
    "## Set up electrometer"
   ]
  },
  {
   "cell_type": "code",
   "execution_count": null,
   "metadata": {},
   "outputs": [],
   "source": [
    "await electrometer.cmd_performZeroCalib.set_start(timeout=10)\n",
    "await electrometer.cmd_setDigitalFilter.set_start(activateFilter=False, activateAvgFilter=False, activateMedFilter=False, timeout=10)  \n",
    "await electrometer.cmd_setIntegrationTime.set_start(intTime=0.1) \n",
    "await electrometer.cmd_setRange.set_start(setRange=-1)"
   ]
  },
  {
   "cell_type": "markdown",
   "metadata": {},
   "source": [
    "## Take 20 biases for system warm-up"
   ]
  },
  {
   "cell_type": "code",
   "execution_count": null,
   "metadata": {
    "tags": []
   },
   "outputs": [],
   "source": [
    "# Take 20 biases for system warm-up\n",
    "for i in range(20):\n",
    "    await comcam.take_bias(1)\n",
    "    await asyncio.sleep(2.0)\n"
   ]
  },
  {
   "cell_type": "markdown",
   "metadata": {
    "execution": {
     "iopub.execute_input": "2022-12-12T17:14:28.707685Z",
     "iopub.status.busy": "2022-12-12T17:14:28.706994Z",
     "iopub.status.idle": "2022-12-12T17:14:28.710806Z",
     "shell.execute_reply": "2022-12-12T17:14:28.710312Z",
     "shell.execute_reply.started": "2022-12-12T17:14:28.707665Z"
    },
    "tags": []
   },
   "source": [
    "## Now run SDSSg filter\n"
   ]
  },
  {
   "cell_type": "markdown",
   "metadata": {},
   "source": [
    "### 2024MMDDxxxxx is the first exposure"
   ]
  },
  {
   "cell_type": "code",
   "execution_count": null,
   "metadata": {
    "tags": []
   },
   "outputs": [],
   "source": [
    "latiss_grating= 'empty_1'\n",
    "wave_step = 5 # Wavelength step in nm\n",
    "latiss_exp_time = 60.0\n",
    "num_latiss_exps = 1\n",
    "\n",
    "# Dictionary to hold the results\n",
    "results = {}\n",
    "for latiss_filter in ['SDSSg_65mm']:#['SDSSg_65mm', 'SDSSr_65mm', 'SDSSi_65mm']:\n",
    "    if latiss_filter =='SDSSg_65mm':\n",
    "        min_wave = 350; max_wave = 600; grating = 1; slit_1 = 5.0; slit_2 = 5.0\n",
    "    elif latiss_filter == 'SDSSr_65mm':\n",
    "        min_wave = 500; max_wave = 750; grating = 1; slit_1 = 5.0; slit_2 = 5.0\n",
    "    elif latiss_filter == 'SDSSi_65mm':\n",
    "        min_wave = 640; max_wave = 880; grating = 2; slit_1 = 5.0; slit_2 = 5.0\n",
    "    else:\n",
    "        raise \"Filter not supported\"\n",
    "    await atmonochromator.cmd_updateMonochromatorSetup.set_start(wavelength=min_wave, gratingType=grating, \\\n",
    "                                                             fontEntranceSlitWidth=slit_1, fontExitSlitWidth=slit_2, timeout=180)        \n",
    "    wave = min_wave\n",
    "    # This loop steps through the wavelengths for each filter\n",
    "    while wave < max_wave + wave_step / 2.0:\n",
    "        await atmonochromator.cmd_updateMonochromatorSetup.set_start(wavelength=wave, gratingType=grating, \\\n",
    "                                                             fontEntranceSlitWidth=slit_1, fontExitSlitWidth=slit_2, timeout=180)        \n",
    "        key = f\"{latiss_filter}_{wave:.0f}\"\n",
    "        print(key)\n",
    "        filename, electrometer_lfa, electrometer_data = await elec_meas(1.0)\n",
    "        for (t,current) in electrometer_data:\n",
    "            electrometer_current = current\n",
    "        exp_time = 0.5\n",
    "        filename, fiber_lfa, wavelengths, spectrum = await fiber_meas(exp_time)\n",
    "        spec_max = np.max(spectrum)\n",
    "        # The loop below prevents the spectrum from saturating\n",
    "        while spec_max > 15900:\n",
    "            exp_time /= 2.0\n",
    "            filename, fiber_lfa, wavelengths, spectrum = await fiber_meas(exp_time)\n",
    "            spec_max = np.max(spectrum)\n",
    "        # Take one flat with the filter and one without\n",
    "        await latiss.take_flats(latiss_exp_time, num_latiss_exps, filter=latiss_filter, grating=latiss_grating, reason=f'flat_{wave:.1f}')\n",
    "        await latiss.take_flats(latiss_exp_time, num_latiss_exps, filter='empty_1', grating=latiss_grating, reason=f'flat_{wave:.1f}')\n",
    "        \n",
    "        print(wave, electrometer_current, exp_time, spec_max)\n",
    "        results[key] = {}\n",
    "        results[key]['electrometer_lfa_url']=electrometer_lfa.url\n",
    "        results[key]['fiber_lfa_url']=fiber_lfa.url\n",
    "        results[key]['electrometer_current']=electrometer_current\n",
    "        results[key]['fiber_data']=[wavelengths, spectrum, exp_time]\n",
    "        print(f\"Done with {latiss_filter}, {wave}\")\n",
    "        wave += wave_step"
   ]
  },
  {
   "cell_type": "code",
   "execution_count": null,
   "metadata": {
    "tags": []
   },
   "outputs": [],
   "source": [
    "# Pickle the data\n",
    "filename = \"/scratch/cslage/filter_cals/filter_cal_30apr24.pkl\"\n",
    "file = open(filename, \"wb\")\n",
    "pkl.dump(results, file)\n",
    "file.close()"
   ]
  },
  {
   "cell_type": "code",
   "execution_count": null,
   "metadata": {},
   "outputs": [],
   "source": [
    "# Turn off the lamp\n",
    "tmp = await WhiteLightSource.cmd_turnLampOff.set_start()"
   ]
  },
  {
   "cell_type": "markdown",
   "metadata": {},
   "source": [
    "## Below shows how to unpickle the spectrum and electrometer data and plot a spectrum"
   ]
  },
  {
   "cell_type": "code",
   "execution_count": null,
   "metadata": {
    "tags": []
   },
   "outputs": [],
   "source": [
    "# Unpickle the data\n",
    "filename = \"/scratch/cslage/filter_cals/filter_cal_30apr24.pkl\"\n",
    "file = open(filename, \"rb\")\n",
    "results = pkl.load(file)\n",
    "file.close()"
   ]
  },
  {
   "cell_type": "code",
   "execution_count": null,
   "metadata": {
    "tags": []
   },
   "outputs": [],
   "source": [
    "[wavelengths, spectrum, exp_time] = results['SDSSg_65mm_450']['fiber_data']"
   ]
  },
  {
   "cell_type": "code",
   "execution_count": null,
   "metadata": {
    "tags": []
   },
   "outputs": [],
   "source": [
    "%matplotlib inline\n",
    "plt.plot(wavelengths, spectrum)\n",
    "plt.xlim(350,450)"
   ]
  },
  {
   "cell_type": "code",
   "execution_count": null,
   "metadata": {},
   "outputs": [],
   "source": [
    "current = results['SDSSg_65mm_450']['electrometer_current']\n",
    "current"
   ]
  }
 ],
 "metadata": {
  "kernelspec": {
   "display_name": "LSST",
   "language": "python",
   "name": "lsst"
  },
  "language_info": {
   "codemirror_mode": {
    "name": "ipython",
    "version": 3
   },
   "file_extension": ".py",
   "mimetype": "text/x-python",
   "name": "python",
   "nbconvert_exporter": "python",
   "pygments_lexer": "ipython3",
   "version": "3.11.9"
  }
 },
 "nbformat": 4,
 "nbformat_minor": 4
}
