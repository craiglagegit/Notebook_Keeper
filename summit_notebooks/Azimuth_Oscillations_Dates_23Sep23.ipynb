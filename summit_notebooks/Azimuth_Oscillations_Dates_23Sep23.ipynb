{
 "cells": [
  {
   "cell_type": "code",
   "execution_count": null,
   "metadata": {
    "execution": {
     "iopub.execute_input": "2023-09-26T18:30:34.177728Z",
     "iopub.status.busy": "2023-09-26T18:30:34.177385Z",
     "iopub.status.idle": "2023-09-26T18:30:38.312330Z",
     "shell.execute_reply": "2023-09-26T18:30:38.311549Z",
     "shell.execute_reply.started": "2023-09-26T18:30:34.177696Z"
    },
    "tags": []
   },
   "outputs": [],
   "source": [
    "import sys, time, os, asyncio, glob\n",
    "import numpy as np\n",
    "import pandas as pd\n",
    "import matplotlib.pyplot as plt\n",
    "from astropy.time import Time, TimeDelta\n",
    "from astropy.coordinates import AltAz, ICRS, EarthLocation, Angle, FK5, SkyCoord\n",
    "import astropy.units as u\n",
    "from lsst.obs.lsst.translators.latiss import AUXTEL_LOCATION\n",
    "from lsst_efd_client import EfdClient"
   ]
  },
  {
   "cell_type": "code",
   "execution_count": null,
   "metadata": {
    "execution": {
     "iopub.execute_input": "2023-09-26T18:30:39.859105Z",
     "iopub.status.busy": "2023-09-26T18:30:39.858748Z",
     "iopub.status.idle": "2023-09-26T18:30:41.174759Z",
     "shell.execute_reply": "2023-09-26T18:30:41.173962Z",
     "shell.execute_reply.started": "2023-09-26T18:30:39.859072Z"
    },
    "tags": []
   },
   "outputs": [],
   "source": [
    "client = EfdClient('summit_efd')"
   ]
  },
  {
   "cell_type": "code",
   "execution_count": null,
   "metadata": {
    "execution": {
     "iopub.execute_input": "2023-09-26T18:30:41.182605Z",
     "iopub.status.busy": "2023-09-26T18:30:41.182360Z",
     "iopub.status.idle": "2023-09-26T18:31:20.208441Z",
     "shell.execute_reply": "2023-09-26T18:31:20.207807Z",
     "shell.execute_reply.started": "2023-09-26T18:30:41.182580Z"
    },
    "tags": []
   },
   "outputs": [],
   "source": [
    "def mountSpeed(az, el):\n",
    "    # Calculate theoretical drive speed vs Az/El\n",
    "    t0 = Time('2023-01-01T00:00:00') # doesn't really matter when\n",
    "    altAz0 = SkyCoord(AltAz(alt=el*u.deg, az=az*u.deg, obstime=t0, location=AUXTEL_LOCATION))\n",
    "    RaDec = altAz0.transform_to(ICRS)\n",
    "    t1 = t0 + TimeDelta(1.0, format='sec')\n",
    "    altAz1 = RaDec.transform_to(AltAz(obstime=t1, location=AUXTEL_LOCATION))\n",
    "    #print(altAz1)\n",
    "    newAz = altAz1.az.deg\n",
    "    if az < 5.0 and newAz > 355.0:\n",
    "        delta = newAz -360.0 - az\n",
    "    else:\n",
    "        delta = newAz - az\n",
    "\n",
    "    azVel = abs(delta) * 3600.0\n",
    "    elVel = abs(altAz1.alt.deg - el) * 3600.0\n",
    "    #print(az, altAz1.az.deg, el, altAz1.alt.deg)\n",
    "    return(azVel, elVel)\n",
    "Naz = 100\n",
    "Nel = 50\n",
    "azimuths = np.linspace(0, 360, Naz)\n",
    "els = np.linspace(5, 85, Nel)\n",
    "azValues = np.zeros([Naz, Nel])\n",
    "elValues = np.zeros([Naz, Nel])\n",
    "for i, az in enumerate(azimuths):\n",
    "    for j, el in enumerate(els):\n",
    "        [azSpeed, elSpeed] = mountSpeed(az, el)\n",
    "        azValues[i,j] = azSpeed\n",
    "        elValues[i,j] = elSpeed\n",
    "        #print(az, el, mountSpeed(az, el)[0])\n",
    "    \n",
    "r, theta = np.meshgrid(els, np.radians(azimuths))\n"
   ]
  },
  {
   "cell_type": "code",
   "execution_count": null,
   "metadata": {
    "execution": {
     "iopub.execute_input": "2023-09-26T18:31:50.533104Z",
     "iopub.status.busy": "2023-09-26T18:31:50.532615Z",
     "iopub.status.idle": "2023-09-26T18:31:52.041047Z",
     "shell.execute_reply": "2023-09-26T18:31:52.040283Z",
     "shell.execute_reply.started": "2023-09-26T18:31:50.533075Z"
    },
    "tags": []
   },
   "outputs": [],
   "source": [
    "#dates = [\"2023-05-09\",\"2023-05-10\",\"2023-05-11\",\"2023-04-25\",\"2023-03-23\",\\\n",
    "#         \"2023-03-01\",\"2023-03-02\",\"2023-03-14\",\"2023-03-15\",\"2023-03-16\"]\n",
    "dates = [\"2023-05-23\",\"2023-05-24\",\"2023-07-04\",\"2023-07-05\",\"2023-07-06\",\\\n",
    "         \"2023-07-18\",\"2023-07-20\",\"2023-08-01\",\"2023-08-02\",\"2023-08-03\",\\\n",
    "         \"2023-08-15\",\"2023-08-16\",\"2023-08-17\",\"2023-08-29\",\"2023-09-12\",\\\n",
    "         \"2023-09-13\",\"2023-09-14\"]\n",
    "\n",
    "maxWindSpeed = 6.7\n",
    "mountErrorLimit = 0.4\n",
    "alts = []\n",
    "radAzs = []\n",
    "for date in dates:\n",
    "    start = Time(f\"{date}T16:00:00Z\", scale='utc')\n",
    "    date_split = date.split('-')\n",
    "    end_date = f\"{date_split[0]}-{date_split[1]}-{int(date_split[2])+1:02}\"\n",
    "    print(date, end_date)\n",
    "    end = Time(f\"{end_date}T10:00:00Z\", scale='utc')\n",
    "    try:\n",
    "        wind = await client.select_time_series('lsst.sal.ESS.airFlow', \\\n",
    "                                            ['speed'],  start, end)\n",
    "        medianWind = np.median(wind.values[0])\n",
    "    except:\n",
    "        print(\"Wind not found\")\n",
    "        continue\n",
    "    if medianWind > maxWindSpeed or medianWind < 1.0 :\n",
    "           continue\n",
    "    # Get Rubin TV JSON\n",
    "    else:\n",
    "        print(date, medianWind)\n",
    "    filename = f'/scratch/cslage/starTracker/auxtel_{date}.json'\n",
    "    df = pd.read_json(filename)\n",
    "    df = df.transpose()\n",
    "                               \n",
    "    df_bad = df[df['Mount motion image degradation'] > mountErrorLimit]\n",
    "    mount_degradation = df['Mount motion image degradation']\n",
    "    total = np.count_nonzero(~pd.isna(mount_degradation.values))\n",
    "\n",
    "    columns_to_keep = ['Altitude', 'Azimuth', 'Exposure id', 'Mount motion image degradation', 'TAI']\n",
    "    df_bad = df_bad[columns_to_keep]\n",
    "    df = df[columns_to_keep]\n",
    "    df_bad['Type'] = 'Other'\n",
    "    print(f\"For {date} there are {len(df_bad)} values > {mountErrorLimit} out of {total} values\")\n",
    "    if 'merged_df_bad' not in locals():\n",
    "        merged_df_bad = df_bad\n",
    "    else:\n",
    "        merged_df_bad = pd.concat([merged_df_bad, df_bad])\n",
    "    if 'merged_df' not in locals():\n",
    "        merged_df = df\n",
    "    else:\n",
    "        merged_df = pd.concat([merged_df, df])\n",
    "    \n",
    "alts += list(merged_df_bad['Altitude'].values)\n",
    "azs = merged_df_bad['Azimuth'].values\n",
    "radAzs += list(np.radians(azs.astype(float)))\n",
    "print(len(alts), len(radAzs), len(merged_df))"
   ]
  },
  {
   "cell_type": "code",
   "execution_count": null,
   "metadata": {
    "execution": {
     "iopub.execute_input": "2023-09-26T18:32:02.894981Z",
     "iopub.status.busy": "2023-09-26T18:32:02.894631Z",
     "iopub.status.idle": "2023-09-26T18:32:03.484038Z",
     "shell.execute_reply": "2023-09-26T18:32:03.483415Z",
     "shell.execute_reply.started": "2023-09-26T18:32:02.894953Z"
    },
    "tags": []
   },
   "outputs": [],
   "source": [
    "#-- Plot... ------------------------------------------------\n",
    "fig=plt.figure(figsize=(16,16))\n",
    "#plt.subplots_adjust(wspace = 1.0)\n",
    "vmin = -2.0\n",
    "vmax = 2.0\n",
    "levels = np.linspace(vmin, vmax, 9)\n",
    "ax1 = plt.subplot(121, projection='polar')\n",
    "ax1.set_title(\"Log10(Theoretical Azimuth speed (arcseconds/sec))\")\n",
    "ax1.invert_yaxis()\n",
    "contourf_1 = ax1.contourf(theta, r, np.log10(azValues), levels=levels)\n",
    "cax1 = fig.add_axes([ax1.get_position().x1+0.01,ax1.get_position().y0,0.02,ax1.get_position().height])\n",
    "plt.colorbar(contourf_1, cax=cax1)\n",
    "ax1.scatter([np.pi], [-AUXTEL_LOCATION.lat.deg], color='cyan', marker='x', s=200, label=\"SCP\")\n",
    "#ax1.scatter(goodRadAzs, goodAlts, color='green', marker='+', label=\"Mount motion < 0.4\")\n",
    "ax1.scatter(radAzs, alts, color='red', marker='x', label=\"Mount motion > 0.4\")\n",
    "ax1.legend()\n",
    "#plt.savefig('/home/craiglagegit/DATA/Mount_Fails_Positions_20230923.pdf')"
   ]
  },
  {
   "cell_type": "markdown",
   "metadata": {},
   "source": [
    "## Below checks some of the ones to the north\n",
    "### The ones far to the north are wind, but there are some near the dividing line (for example, azimuth = 272) that are oscillations."
   ]
  },
  {
   "cell_type": "code",
   "execution_count": null,
   "metadata": {
    "execution": {
     "iopub.execute_input": "2023-09-26T18:32:14.555883Z",
     "iopub.status.busy": "2023-09-26T18:32:14.555537Z",
     "iopub.status.idle": "2023-09-26T18:32:14.561716Z",
     "shell.execute_reply": "2023-09-26T18:32:14.560912Z",
     "shell.execute_reply.started": "2023-09-26T18:32:14.555853Z"
    },
    "tags": []
   },
   "outputs": [],
   "source": [
    "# Check some of the ones to the north\n",
    "df_north = merged_df_bad[(merged_df_bad['Azimuth'] < 85.0) | (merged_df_bad['Azimuth'] > 275.0)]"
   ]
  },
  {
   "cell_type": "code",
   "execution_count": null,
   "metadata": {
    "execution": {
     "iopub.execute_input": "2023-09-26T18:32:15.482640Z",
     "iopub.status.busy": "2023-09-26T18:32:15.482317Z",
     "iopub.status.idle": "2023-09-26T18:32:15.488071Z",
     "shell.execute_reply": "2023-09-26T18:32:15.487216Z",
     "shell.execute_reply.started": "2023-09-26T18:32:15.482613Z"
    },
    "tags": []
   },
   "outputs": [],
   "source": [
    "len(df_north)"
   ]
  },
  {
   "cell_type": "code",
   "execution_count": null,
   "metadata": {
    "execution": {
     "iopub.execute_input": "2023-09-26T18:32:48.249448Z",
     "iopub.status.busy": "2023-09-26T18:32:48.249059Z",
     "iopub.status.idle": "2023-09-26T18:32:48.256440Z",
     "shell.execute_reply": "2023-09-26T18:32:48.255656Z",
     "shell.execute_reply.started": "2023-09-26T18:32:48.249419Z"
    },
    "jupyter": {
     "outputs_hidden": true
    },
    "tags": []
   },
   "outputs": [],
   "source": [
    "df_north['Exposure id']"
   ]
  },
  {
   "cell_type": "code",
   "execution_count": null,
   "metadata": {
    "execution": {
     "iopub.execute_input": "2023-09-24T10:13:06.133478Z",
     "iopub.status.busy": "2023-09-24T10:13:06.133048Z",
     "iopub.status.idle": "2023-09-24T10:13:06.139505Z",
     "shell.execute_reply": "2023-09-24T10:13:06.138766Z",
     "shell.execute_reply.started": "2023-09-24T10:13:06.133449Z"
    }
   },
   "outputs": [],
   "source": [
    "len(merged_df)"
   ]
  },
  {
   "cell_type": "code",
   "execution_count": null,
   "metadata": {
    "execution": {
     "iopub.execute_input": "2023-09-24T10:14:51.813609Z",
     "iopub.status.busy": "2023-09-24T10:14:51.813258Z",
     "iopub.status.idle": "2023-09-24T10:14:51.818583Z",
     "shell.execute_reply": "2023-09-24T10:14:51.817807Z",
     "shell.execute_reply.started": "2023-09-24T10:14:51.813580Z"
    },
    "tags": []
   },
   "outputs": [],
   "source": [
    "mount_degradation = df['Mount motion image degradation'].iloc[25]\n",
    "print(mount_degradation)"
   ]
  },
  {
   "cell_type": "code",
   "execution_count": null,
   "metadata": {
    "execution": {
     "iopub.execute_input": "2023-09-24T10:22:45.757316Z",
     "iopub.status.busy": "2023-09-24T10:22:45.756643Z",
     "iopub.status.idle": "2023-09-24T10:23:29.337603Z",
     "shell.execute_reply": "2023-09-24T10:23:29.336831Z",
     "shell.execute_reply.started": "2023-09-24T10:22:45.757283Z"
    },
    "tags": []
   },
   "outputs": [],
   "source": [
    "speeds = []\n",
    "mounts = []\n",
    "numNans = 0\n",
    "for i in range(len(merged_df)):\n",
    "    mount_degradation = merged_df['Mount motion image degradation'].iloc[i]\n",
    "    if not np.isnan(mount_degradation):\n",
    "        mounts.append(mount_degradation)\n",
    "        az = merged_df['Azimuth'].iloc[i]\n",
    "        el = merged_df['Altitude'].iloc[i]\n",
    "        speeds.append(mountSpeed(az, el)[0])\n",
    "    else:\n",
    "        numNans += 1    "
   ]
  },
  {
   "cell_type": "code",
   "execution_count": null,
   "metadata": {
    "execution": {
     "iopub.execute_input": "2023-09-24T10:23:37.575831Z",
     "iopub.status.busy": "2023-09-24T10:23:37.574833Z",
     "iopub.status.idle": "2023-09-24T10:23:37.580129Z",
     "shell.execute_reply": "2023-09-24T10:23:37.579331Z",
     "shell.execute_reply.started": "2023-09-24T10:23:37.575792Z"
    },
    "tags": []
   },
   "outputs": [],
   "source": [
    "print(numNans, len(speeds))"
   ]
  },
  {
   "cell_type": "code",
   "execution_count": null,
   "metadata": {
    "execution": {
     "iopub.execute_input": "2023-09-24T10:36:37.241862Z",
     "iopub.status.busy": "2023-09-24T10:36:37.241514Z",
     "iopub.status.idle": "2023-09-24T10:36:37.492995Z",
     "shell.execute_reply": "2023-09-24T10:36:37.492275Z",
     "shell.execute_reply.started": "2023-09-24T10:36:37.241828Z"
    },
    "tags": []
   },
   "outputs": [],
   "source": [
    "plt.scatter(speeds, mounts, s=4.0)\n",
    "plt.plot([-1,140],[0.4,0.4], ls='--', color='k')\n",
    "plt.ylim(0,2.0)\n",
    "plt.title(\"Mount motion vs Azimuth tracking speed - May-Sep, 2023\", fontsize=12)\n",
    "plt.xlabel(\"Azimuth tracking speed (arcseconds/sec)\")\n",
    "plt.ylabel(\"Mount motion image degradation (arcseconds)\")\n",
    "plt.savefig('/home/craiglagegit/DATA/Mount_Fails_vs_Tracking_Speed_20230923.png')"
   ]
  },
  {
   "cell_type": "code",
   "execution_count": null,
   "metadata": {},
   "outputs": [],
   "source": []
  }
 ],
 "metadata": {
  "kernelspec": {
   "display_name": "LSST",
   "language": "python",
   "name": "lsst"
  },
  "language_info": {
   "codemirror_mode": {
    "name": "ipython",
    "version": 3
   },
   "file_extension": ".py",
   "mimetype": "text/x-python",
   "name": "python",
   "nbconvert_exporter": "python",
   "pygments_lexer": "ipython3",
   "version": "3.11.4"
  }
 },
 "nbformat": 4,
 "nbformat_minor": 4
}
