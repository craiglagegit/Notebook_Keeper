{
 "cells": [
  {
   "cell_type": "markdown",
   "id": "3dbf3c0c",
   "metadata": {},
   "source": [
    "# Pole stiction\n",
    "\n",
    "This notebook is intended to characterize the slow speed stiction problem \\\n",
    "at the pole by spiraling into the pole where the tracking speeds will be slower and slower. \\\n",
    "Craig Lage - 17-Oct-22"
   ]
  },
  {
   "cell_type": "code",
   "execution_count": null,
   "id": "b9b61b70",
   "metadata": {
    "execution": {
     "iopub.execute_input": "2024-04-30T13:43:35.434746Z",
     "iopub.status.busy": "2024-04-30T13:43:35.434217Z",
     "iopub.status.idle": "2024-04-30T13:43:45.023403Z",
     "shell.execute_reply": "2024-04-30T13:43:45.022618Z",
     "shell.execute_reply.started": "2024-04-30T13:43:35.434714Z"
    },
    "tags": []
   },
   "outputs": [],
   "source": [
    "import asyncio\n",
    "import time\n",
    "import os\n",
    "import numpy as np\n",
    "import matplotlib.pyplot as plt\n",
    "from astropy.time import Time\n",
    "\n",
    "from lsst.ts import salobj\n",
    "\n",
    "from lsst.ts.observatory.control.auxtel.atcs import ATCS\n",
    "from lsst.ts.observatory.control.auxtel.latiss import LATISS\n",
    "from lsst.ts.observatory.control.utils import RotType"
   ]
  },
  {
   "cell_type": "code",
   "execution_count": null,
   "id": "0755fd07",
   "metadata": {
    "execution": {
     "iopub.execute_input": "2024-04-30T01:58:42.399517Z",
     "iopub.status.busy": "2024-04-30T01:58:42.398937Z",
     "iopub.status.idle": "2024-04-30T01:58:42.403854Z",
     "shell.execute_reply": "2024-04-30T01:58:42.403237Z",
     "shell.execute_reply.started": "2024-04-30T01:58:42.399497Z"
    },
    "tags": []
   },
   "outputs": [],
   "source": [
    "logger = logging.getLogger(f\"Daytime Checkout {Time.now()} UT\")\n",
    "logger.level = logging.DEBUG"
   ]
  },
  {
   "cell_type": "code",
   "execution_count": null,
   "id": "e80647f9",
   "metadata": {
    "execution": {
     "iopub.execute_input": "2024-04-30T01:58:42.404512Z",
     "iopub.status.busy": "2024-04-30T01:58:42.404371Z",
     "iopub.status.idle": "2024-04-30T01:58:42.410359Z",
     "shell.execute_reply": "2024-04-30T01:58:42.409799Z",
     "shell.execute_reply.started": "2024-04-30T01:58:42.404499Z"
    },
    "tags": []
   },
   "outputs": [],
   "source": [
    "logger.info(os.environ[\"OSPL_URI\"])\n",
    "logger.info(os.environ[\"LSST_DDS_PARTITION_PREFIX\"])"
   ]
  },
  {
   "cell_type": "markdown",
   "id": "a9cd22ea",
   "metadata": {},
   "source": [
    "### Instantiate the control classes"
   ]
  },
  {
   "cell_type": "code",
   "execution_count": null,
   "id": "f651e5d9",
   "metadata": {
    "execution": {
     "iopub.execute_input": "2024-04-30T13:45:53.941786Z",
     "iopub.status.busy": "2024-04-30T13:45:53.941537Z",
     "iopub.status.idle": "2024-04-30T13:45:56.307453Z",
     "shell.execute_reply": "2024-04-30T13:45:56.306657Z",
     "shell.execute_reply.started": "2024-04-30T13:45:53.941767Z"
    },
    "jupyter": {
     "outputs_hidden": true
    },
    "tags": []
   },
   "outputs": [],
   "source": [
    "domain = salobj.Domain()\n",
    "atcs = ATCS(domain)\n",
    "latiss = LATISS(domain)\n",
    "await asyncio.gather(atcs.start_task, latiss.start_task)\n",
    "await atcs.assert_liveliness()"
   ]
  },
  {
   "cell_type": "code",
   "execution_count": null,
   "id": "c4f94ecb-c3be-465c-8f6c-67532a989f61",
   "metadata": {
    "execution": {
     "iopub.execute_input": "2024-04-30T13:46:17.310440Z",
     "iopub.status.busy": "2024-04-30T13:46:17.309605Z",
     "iopub.status.idle": "2024-04-30T13:46:17.316155Z",
     "shell.execute_reply": "2024-04-30T13:46:17.315222Z",
     "shell.execute_reply.started": "2024-04-30T13:46:17.310407Z"
    }
   },
   "outputs": [],
   "source": [
    "atcs._overslew_az"
   ]
  },
  {
   "cell_type": "code",
   "execution_count": null,
   "id": "8e6e4070-5a91-44b4-a87b-68128e083bfe",
   "metadata": {
    "execution": {
     "iopub.execute_input": "2024-04-30T13:46:18.352121Z",
     "iopub.status.busy": "2024-04-30T13:46:18.351617Z",
     "iopub.status.idle": "2024-04-30T13:46:18.356080Z",
     "shell.execute_reply": "2024-04-30T13:46:18.355307Z",
     "shell.execute_reply.started": "2024-04-30T13:46:18.352094Z"
    }
   },
   "outputs": [],
   "source": [
    "atcs._overslew_az = False"
   ]
  },
  {
   "cell_type": "code",
   "execution_count": null,
   "id": "64658e2b-a266-42b8-b696-3459c6203959",
   "metadata": {
    "execution": {
     "iopub.execute_input": "2024-04-30T13:46:19.369061Z",
     "iopub.status.busy": "2024-04-30T13:46:19.367913Z",
     "iopub.status.idle": "2024-04-30T13:46:19.374432Z",
     "shell.execute_reply": "2024-04-30T13:46:19.373604Z",
     "shell.execute_reply.started": "2024-04-30T13:46:19.369027Z"
    }
   },
   "outputs": [],
   "source": [
    "atcs._overslew_az"
   ]
  },
  {
   "cell_type": "markdown",
   "id": "50d3b4be",
   "metadata": {},
   "source": [
    "## Enable LATISS and ATCS"
   ]
  },
  {
   "cell_type": "markdown",
   "id": "a85209e7",
   "metadata": {
    "tags": []
   },
   "source": [
    "### Bias verification"
   ]
  },
  {
   "cell_type": "code",
   "execution_count": null,
   "id": "7761429f",
   "metadata": {
    "execution": {
     "iopub.execute_input": "2024-04-30T14:43:30.405264Z",
     "iopub.status.busy": "2024-04-30T14:43:30.404817Z",
     "iopub.status.idle": "2024-04-30T14:43:52.953564Z",
     "shell.execute_reply": "2024-04-30T14:43:52.952583Z",
     "shell.execute_reply.started": "2024-04-30T14:43:30.405233Z"
    },
    "tags": []
   },
   "outputs": [],
   "source": [
    "for i in range(5):\n",
    "    await latiss.take_bias(nbias=1)\n",
    "    await asyncio.sleep(2.0)"
   ]
  },
  {
   "cell_type": "code",
   "execution_count": null,
   "id": "eb8e7dab-9da0-42a9-995c-34977879aa1a",
   "metadata": {
    "execution": {
     "iopub.execute_input": "2024-04-30T13:49:10.248118Z",
     "iopub.status.busy": "2024-04-30T13:49:10.247320Z",
     "iopub.status.idle": "2024-04-30T13:49:10.252922Z",
     "shell.execute_reply": "2024-04-30T13:49:10.252305Z",
     "shell.execute_reply.started": "2024-04-30T13:49:10.248085Z"
    },
    "tags": []
   },
   "outputs": [],
   "source": [
    "await atcs.disable_dome_following()"
   ]
  },
  {
   "cell_type": "markdown",
   "id": "3fc32bc5-5f36-4e5a-bcfd-27c3a9eeec21",
   "metadata": {
    "tags": []
   },
   "source": [
    "### Now run the actual test, taking a 30 second image at each location."
   ]
  },
  {
   "cell_type": "code",
   "execution_count": null,
   "id": "593b310c-4429-479c-912b-5c57f20c3fcd",
   "metadata": {
    "execution": {
     "iopub.execute_input": "2024-04-30T17:03:12.921829Z",
     "iopub.status.busy": "2024-04-30T17:03:12.920858Z",
     "iopub.status.idle": "2024-04-30T17:04:58.643462Z",
     "shell.execute_reply": "2024-04-30T17:04:58.642650Z",
     "shell.execute_reply.started": "2024-04-30T17:03:12.921796Z"
    },
    "jupyter": {
     "outputs_hidden": true
    },
    "tags": []
   },
   "outputs": [],
   "source": [
    "# Move to starting location\n",
    "coord=atcs.radec_from_azel(az=270, el=30)\n",
    "await atcs.slew_icrs(coord.ra, coord.dec, rot=0.0, rot_type=RotType.Physical)"
   ]
  },
  {
   "cell_type": "code",
   "execution_count": null,
   "id": "709e6e27-33f6-41e9-ae90-aa74de789392",
   "metadata": {
    "execution": {
     "iopub.execute_input": "2024-04-30T17:09:36.091158Z",
     "iopub.status.busy": "2024-04-30T17:09:36.090624Z",
     "iopub.status.idle": "2024-04-30T17:10:08.609089Z",
     "shell.execute_reply": "2024-04-30T17:10:08.608348Z",
     "shell.execute_reply.started": "2024-04-30T17:09:36.091128Z"
    }
   },
   "outputs": [],
   "source": [
    "await latiss.take_darks(30.0, 1)"
   ]
  },
  {
   "cell_type": "code",
   "execution_count": null,
   "id": "51c78b57-ea95-46dc-a476-0bde3e98bf6c",
   "metadata": {
    "execution": {
     "iopub.execute_input": "2024-04-30T17:10:08.635809Z",
     "iopub.status.busy": "2024-04-30T17:10:08.635514Z",
     "iopub.status.idle": "2024-04-30T18:21:24.308252Z",
     "shell.execute_reply": "2024-04-30T18:21:24.307418Z",
     "shell.execute_reply.started": "2024-04-30T17:10:08.635782Z"
    },
    "jupyter": {
     "outputs_hidden": true
    },
    "tags": []
   },
   "outputs": [],
   "source": [
    "# Now run the actual test \n",
    "# First image is 2024043000052\n",
    "\n",
    "az = 270.0\n",
    "el = 30\n",
    "for i in range(90):\n",
    "    az -= 2.0\n",
    "    coord=atcs.radec_from_azel(az=az, el=el)\n",
    "    await atcs.slew_icrs(coord.ra, coord.dec, rot=0.0, rot_type=RotType.Physical)\n",
    "    await latiss.take_darks(30.0, 1)\n"
   ]
  },
  {
   "cell_type": "code",
   "execution_count": null,
   "id": "3ea5225b",
   "metadata": {
    "execution": {
     "iopub.execute_input": "2024-04-30T18:22:08.209904Z",
     "iopub.status.busy": "2024-04-30T18:22:08.209502Z",
     "iopub.status.idle": "2024-04-30T18:22:08.490981Z",
     "shell.execute_reply": "2024-04-30T18:22:08.490149Z",
     "shell.execute_reply.started": "2024-04-30T18:22:08.209834Z"
    },
    "tags": []
   },
   "outputs": [],
   "source": [
    "# Stop tracking\n",
    "await atcs.stop_tracking()"
   ]
  },
  {
   "cell_type": "markdown",
   "id": "a435880e",
   "metadata": {},
   "source": [
    "## Shutdown all ATCS components"
   ]
  },
  {
   "cell_type": "code",
   "execution_count": null,
   "id": "723d22b0",
   "metadata": {
    "jupyter": {
     "outputs_hidden": true
    },
    "tags": []
   },
   "outputs": [],
   "source": [
    "await atcs.shutdown()"
   ]
  },
  {
   "cell_type": "markdown",
   "id": "621b5407",
   "metadata": {},
   "source": [
    "## Put LATISS in standby"
   ]
  },
  {
   "cell_type": "code",
   "execution_count": null,
   "id": "80517626",
   "metadata": {
    "tags": []
   },
   "outputs": [],
   "source": [
    "await latiss.standby()"
   ]
  },
  {
   "cell_type": "code",
   "execution_count": null,
   "id": "58009d48-693f-452a-b497-ccc6008c1975",
   "metadata": {},
   "outputs": [],
   "source": []
  }
 ],
 "metadata": {
  "kernelspec": {
   "display_name": "LSST",
   "language": "python",
   "name": "lsst"
  },
  "language_info": {
   "codemirror_mode": {
    "name": "ipython",
    "version": 3
   },
   "file_extension": ".py",
   "mimetype": "text/x-python",
   "name": "python",
   "nbconvert_exporter": "python",
   "pygments_lexer": "ipython3",
   "version": "3.11.7"
  }
 },
 "nbformat": 4,
 "nbformat_minor": 5
}
