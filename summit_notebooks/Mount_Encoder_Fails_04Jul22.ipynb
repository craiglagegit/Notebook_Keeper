{
 "cells": [
  {
   "cell_type": "markdown",
   "metadata": {},
   "source": [
    "## AuxTel Encoder fails - 04-Jul-22\n",
    "\n",
    "Craig Lage"
   ]
  },
  {
   "cell_type": "code",
   "execution_count": null,
   "metadata": {},
   "outputs": [],
   "source": [
    "import sys, time, os, asyncio\n",
    "from datetime import datetime\n",
    "import numpy as np\n",
    "import matplotlib.pyplot as plt\n",
    "import pandas as pd\n",
    "from astropy.time import Time, TimeDelta\n",
    "from lsst_efd_client import EfdClient"
   ]
  },
  {
   "cell_type": "code",
   "execution_count": null,
   "metadata": {},
   "outputs": [],
   "source": [
    "# Get EFD client\n",
    "client = EfdClient('summit_efd')"
   ]
  },
  {
   "cell_type": "code",
   "execution_count": null,
   "metadata": {},
   "outputs": [],
   "source": [
    "# Times to start looking at encoder values\n",
    "start = Time(\"2022-06-29 23:38:30Z\", scale='utc')\n",
    "end = Time(\"2022-06-29 23:39:00Z\", scale='utc')\n",
    "plotStart = (start + TimeDelta(5.0, format='sec')).to_datetime()\n",
    "plotEnd = (end + TimeDelta(-5.0, format='sec')).to_datetime()"
   ]
  },
  {
   "cell_type": "code",
   "execution_count": null,
   "metadata": {},
   "outputs": [],
   "source": [
    "az1 = await client.select_packed_time_series(\"lsst.sal.ATMCS.mount_AzEl_Encoders\", \"azimuthEncoder1Raw\", start, end)\n",
    "az2 = await client.select_packed_time_series(\"lsst.sal.ATMCS.mount_AzEl_Encoders\", \"azimuthEncoder2Raw\", start, end)\n",
    "el1 = await client.select_packed_time_series(\"lsst.sal.ATMCS.mount_AzEl_Encoders\", \"elevationEncoder1Raw\", start, end)\n",
    "rot = await client.select_packed_time_series(\"lsst.sal.ATMCS.mount_Nasmyth_Encoders\", \"nasmyth2Encoder1Raw\", start, end)"
   ]
  },
  {
   "cell_type": "code",
   "execution_count": null,
   "metadata": {},
   "outputs": [],
   "source": [
    "plt.clf()\n",
    "fig = plt.figure(figsize = (16,8))\n",
    "plt.suptitle(f\"Mount Tracking {start}\", fontsize = 18)\n",
    "plt.subplot(2,2,1)\n",
    "ax1 = az1['azimuthEncoder1Raw'].plot(legend=True, marker='x', color='red')\n",
    "ax1.set_ylabel(\"Degrees\")\n",
    "ax1.set_xlim(plotStart, plotEnd)\n",
    "plt.subplot(2,2,2)\n",
    "ax2 = az2['azimuthEncoder2Raw'].plot(legend=True, marker='x', color='red')\n",
    "ax2.set_ylabel(\"Degrees\")\n",
    "ax2.set_xlim(plotStart, plotEnd)\n",
    "plt.subplot(2,2,3)\n",
    "ax3 = el1['elevationEncoder1Raw'].plot(legend=True, marker='x', color='green')\n",
    "ax3.set_ylabel(\"Degrees\")\n",
    "ax3.set_xlim(plotStart, plotEnd)\n",
    "plt.subplot(2,2,4)\n",
    "ax4 = rot['nasmyth2Encoder1Raw'].plot(legend=True, marker='x', color='blue')\n",
    "ax4.set_ylabel(\"Degrees\")\n",
    "ax4.set_xlim(plotStart, plotEnd)\n",
    "plt.savefig(f\"/home/craiglagegit/DATA/Encoders_{start.strftime('%Y%m%dT%H%M%SZ')}.png\")\n"
   ]
  },
  {
   "cell_type": "code",
   "execution_count": null,
   "metadata": {},
   "outputs": [],
   "source": []
  }
 ],
 "metadata": {
  "kernelspec": {
   "display_name": "LSST",
   "language": "python",
   "name": "lsst"
  },
  "language_info": {
   "codemirror_mode": {
    "name": "ipython",
    "version": 3
   },
   "file_extension": ".py",
   "mimetype": "text/x-python",
   "name": "python",
   "nbconvert_exporter": "python",
   "pygments_lexer": "ipython3",
   "version": "3.10.5"
  }
 },
 "nbformat": 4,
 "nbformat_minor": 4
}
