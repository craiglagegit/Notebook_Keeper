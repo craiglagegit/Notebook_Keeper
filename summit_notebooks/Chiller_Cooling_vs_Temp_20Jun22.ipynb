{
 "cells": [
  {
   "cell_type": "code",
   "execution_count": null,
   "metadata": {},
   "outputs": [],
   "source": [
    "import sys, time, os, asyncio, glob\n",
    "\n",
    "from datetime import datetime\n",
    "import numpy as np\n",
    "import matplotlib.pyplot as plt\n",
    "from matplotlib.colors import LogNorm\n",
    "%matplotlib widget\n",
    "import pickle as pkl\n",
    "import pandas as pd\n",
    "import astropy.io.fits as pf\n",
    "from astropy.time import Time, TimeDelta\n",
    "\n",
    "from lsst_efd_client import EfdClient\n"
   ]
  },
  {
   "cell_type": "code",
   "execution_count": null,
   "metadata": {},
   "outputs": [],
   "source": [
    "client = EfdClient('summit_efd')"
   ]
  },
  {
   "cell_type": "code",
   "execution_count": null,
   "metadata": {},
   "outputs": [],
   "source": [
    "# Times to start looking at error codes\n",
    "start = Time(\"2022-06-15 00:00:00Z\", scale='utc')\n",
    "end = Time(\"2022-07-13 12:00:00Z\", scale='utc')"
   ]
  },
  {
   "cell_type": "code",
   "execution_count": null,
   "metadata": {},
   "outputs": [],
   "source": [
    "cryoHead = await client.select_time_series('lsst.sal.ATCamera.vacuum', \\\n",
    "                                                ['tempCryoHead'],  start, end)\n",
    "extTemp = await client.select_time_series('lsst.sal.WeatherStation.airTemperature', \\\n",
    "                                                ['avg1M'],  start, end)\n",
    "auxtelTemp = await client.select_time_series('lsst.sal.ESS.temperature', \\\n",
    "                                                ['temperature0'],  start, end)"
   ]
  },
  {
   "cell_type": "code",
   "execution_count": null,
   "metadata": {},
   "outputs": [],
   "source": [
    "print(len(cryoHead), len(extTemp), len(auxtelTemp))"
   ]
  },
  {
   "cell_type": "code",
   "execution_count": null,
   "metadata": {},
   "outputs": [],
   "source": [
    "auxTemp = auxtelTemp['temperature0'].rolling(100).mean()"
   ]
  },
  {
   "cell_type": "code",
   "execution_count": null,
   "metadata": {},
   "outputs": [],
   "source": [
    "plt.clf()\n",
    "plt.figure(figsize=(8,11))\n",
    "plt.subplots_adjust(hspace=0.5)\n",
    "plt.subplot(3,1,1)\n",
    "plt.title(\"Exterior Temperature\")\n",
    "extTemp['avg1M'].plot(color='blue')\n",
    "plt.subplot(3,1,2)\n",
    "plt.title(\"AuxTel Dome Temperature\")\n",
    "auxTemp.plot(color='green')\n",
    "plt.plot([start.to_datetime(),end.to_datetime()], [9.5,9.5], color='black', ls='--')\n",
    "crossing1 = datetime(2022, 6, 16, 2, 13)\n",
    "plt.plot([crossing1,crossing1], [4.0,12.0], color='orange')\n",
    "crossing2 = datetime(2022, 6, 21, 1, 50)\n",
    "charge = datetime(2022, 6, 23, 16, 0)\n",
    "plt.plot([crossing2,crossing2], [4.0,12.0], color='orange')\n",
    "plt.subplot(3,1,3)\n",
    "plt.title(\"AuxTel CryoHead Temperature\")\n",
    "cryoHead['tempCryoHead'].plot(color='red')\n",
    "plt.plot([crossing1,crossing1], [-140.0,-130.0], color='orange')\n",
    "plt.plot([crossing2,crossing2], [-140.0,-130.0], color='orange')\n",
    "plt.text(charge, -125.0, \"Recharge\")\n",
    "plt.savefig(\"/home/craiglagegit/DATA/AuxTel_CryoHead_Excursion_13Jul22.pdf\")"
   ]
  },
  {
   "cell_type": "code",
   "execution_count": null,
   "metadata": {},
   "outputs": [],
   "source": []
  }
 ],
 "metadata": {
  "kernelspec": {
   "display_name": "LSST",
   "language": "python",
   "name": "lsst"
  },
  "language_info": {
   "codemirror_mode": {
    "name": "ipython",
    "version": 3
   },
   "file_extension": ".py",
   "mimetype": "text/x-python",
   "name": "python",
   "nbconvert_exporter": "python",
   "pygments_lexer": "ipython3",
   "version": "3.10.5"
  }
 },
 "nbformat": 4,
 "nbformat_minor": 4
}
