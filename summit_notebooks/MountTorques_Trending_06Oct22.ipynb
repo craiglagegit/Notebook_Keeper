{
 "cells": [
  {
   "cell_type": "markdown",
   "id": "e8cc3a14-f377-44f4-ab4c-97c9c3047697",
   "metadata": {},
   "source": [
    "# Using the RubinTV Mount Plotting to quantify mount errors\n",
    "\n",
    "Craig Lage - 06-Oct-22"
   ]
  },
  {
   "cell_type": "code",
   "execution_count": null,
   "id": "a148b369-8943-4861-a51e-9cbeea70feb3",
   "metadata": {},
   "outputs": [],
   "source": [
    "import nest_asyncio\n",
    "nest_asyncio.apply()\n",
    "import sys, time, os, asyncio\n",
    "from datetime import datetime\n",
    "import numpy as np\n",
    "import pickle as pkl\n",
    "import matplotlib.pyplot as plt\n",
    "from lsst.rubintv.production import mountTorques\n",
    "\n",
    "from lsst_efd_client import EfdClient\n",
    "from lsst.daf.butler import Butler\n",
    "from lsst.ts.observing.utilities.decorated_logger import DecoratedLogger"
   ]
  },
  {
   "cell_type": "code",
   "execution_count": null,
   "id": "db1b3867-c6db-43d3-8248-ecfcd41d3fbc",
   "metadata": {},
   "outputs": [],
   "source": [
    "client = EfdClient('summit_efd')\n",
    "butler = Butler('/repo/LATISS', collections=\"LATISS/raw/all\")\n",
    "logger = DecoratedLogger.get_decorated_logger()"
   ]
  },
  {
   "cell_type": "code",
   "execution_count": null,
   "id": "cdbdc212-2b15-477b-a019-1228c2e0bab8",
   "metadata": {
    "tags": []
   },
   "outputs": [],
   "source": [
    "figure = plt.figure(figsize=(16,22))\n",
    "saveFilename = None\n",
    "dayObss = [20220912, 20220913, 20220914, 20220927, 20220928, 20220929]\n",
    "errs = []\n",
    "for dayObs in dayObss:\n",
    "    exposureList = []\n",
    "    for record in butler.registry.queryDimensionRecords(\"exposure\", where=\"exposure.day_obs=%d\"%dayObs):\n",
    "        if record.observation_type not in ['bias', 'flat', 'dark']:\n",
    "            try:\n",
    "                exposureList.append([record.id, record.azimuth, 90.0-record.zenith_angle])\n",
    "            except:\n",
    "                continue\n",
    "    for [expId, az, el] in exposureList:\n",
    "        dataId = {'detector':0, 'exposure':expId}\n",
    "        try:\n",
    "            #print(expId)\n",
    "            err = mountTorques.calculateMountErrors(dataId, butler, client, figure, saveFilename, logger)\n",
    "            errs.append([expId, az, el, err[0], err[1], err[2]])\n",
    "        except:\n",
    "            print(f\"expId {expId} Failed!\")\n",
    "            continue\n",
    "errs = np.array(errs)\n",
    "outfile = open(f'/home/craiglagegit/DATA/Temp_Tracking_Errors_202209.pkl', 'wb')\n",
    "pkl.dump(errs,outfile)\n",
    "outfile.close()"
   ]
  },
  {
   "cell_type": "code",
   "execution_count": null,
   "id": "91c574d0-7a96-4e5d-82bd-56c0e3f8c41f",
   "metadata": {},
   "outputs": [],
   "source": [
    "# Get the pickled data\n",
    "infile = open(f'/home/craiglagegit/DATA/Tracking_Errors_202209.pkl','rb')\n",
    "errs = pkl.load(infile)\n",
    "infile.close()\n",
    "print(len(errs), \"observations\")\n",
    "\n",
    "figure = plt.figure(figsize=(16,8))\n",
    "plt.subplots_adjust(hspace = 0.5)\n",
    "axes = ['Az', 'El']\n",
    "\n",
    "for i, axis in enumerate(axes):\n",
    "    axisErrs = errs[:,i+3]\n",
    "    if i == 0:\n",
    "        # Correct azimuth errors for cos(elevation)\n",
    "        axisErrs *= np.cos(errs[:,2] * np.pi / 180.0)\n",
    "    # Clip out values < 0 or > 1.0\n",
    "    axisErrs = axisErrs[(axisErrs > 0.0) & (axisErrs < 1.0)]\n",
    "    #axisErrs = np.clip(axisErrs, 0.0, 1.0)\n",
    "    median = np.median(axisErrs)\n",
    "    std = np.std(axisErrs)\n",
    "    P75 = np.percentile(axisErrs, 75)\n",
    "    P95 = np.percentile(axisErrs, 95)\n",
    "    plt.subplot(1,2,i+1)\n",
    "    plt.title(f\"RMS Tracking error - 202209 - {axis}\", fontsize = 18)\n",
    "    plt.xlabel(\"RMS error - arcseconds\", fontsize = 18)\n",
    "    n, bins, patches = plt.hist(axisErrs, bins=50, range=(0,1.0))\n",
    "    N = n.sum()\n",
    "    y1 = n.max()*0.9\n",
    "    step = y1 / 10.0\n",
    "    y2 = y1 - step\n",
    "    y3 = y2 - step\n",
    "    y4 = y3 - step\n",
    "    y5 = y4 - step\n",
    "    plt.text(0.3, y1, f\"N = {N:.0f} measurements\", fontsize = 18)\n",
    "    plt.text(0.3, y2, f\"Median = {median:.2f}\", fontsize = 18)\n",
    "    plt.text(0.3, y3, f\"Std = {std:.2f}\", fontsize = 18)\n",
    "    plt.text(0.3, y4, f\"P75 = {P75:.2f}\", fontsize = 18)\n",
    "    plt.text(0.3, y5, f\"P95 = {P95:.2f}\", fontsize = 18)\n",
    "plt.savefig(\"/home/craiglagegit/DATA/Tracking_Errors_202209.pdf\")"
   ]
  }
 ],
 "metadata": {
  "kernelspec": {
   "display_name": "LSST",
   "language": "python",
   "name": "lsst"
  },
  "language_info": {
   "codemirror_mode": {
    "name": "ipython",
    "version": 3
   },
   "file_extension": ".py",
   "mimetype": "text/x-python",
   "name": "python",
   "nbconvert_exporter": "python",
   "pygments_lexer": "ipython3",
   "version": "3.10.6"
  },
  "toc-autonumbering": false,
  "toc-showcode": false,
  "toc-showmarkdowntxt": true
 },
 "nbformat": 4,
 "nbformat_minor": 5
}
