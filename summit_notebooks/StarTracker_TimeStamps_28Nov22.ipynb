{
 "cells": [
  {
   "cell_type": "markdown",
   "metadata": {},
   "source": [
    "## StarTracker TimeStamp check - 28-Nov-22\n",
    "\n",
    "Craig Lage - basically copying code from Merlin Fisher-Levine"
   ]
  },
  {
   "cell_type": "code",
   "execution_count": null,
   "metadata": {},
   "outputs": [],
   "source": [
    "import sys, time, os, asyncio, glob\n",
    "from datetime import datetime\n",
    "import numpy as np\n",
    "import matplotlib.pyplot as plt\n",
    "import astropy.io.fits as pf\n",
    "from astropy.time import Time, TimeDelta\n",
    "from astropy.coordinates import AltAz, ICRS, EarthLocation, Angle, FK5, SkyCoord\n",
    "import astropy.units as u\n",
    "from lsst.obs.lsst.translators.latiss import AUXTEL_LOCATION\n",
    "from lsst.obs.lsst.translators.lsst import SIMONYI_LOCATION\n",
    "\n",
    "import lsst.afw.image as afwImage\n",
    "from lsst.summit.utils.blindSolving import runImchar, genericCameraHeaderToWcs, CommandLineSolver\n",
    "# This requires the tickets/DM-31175 of summit_utils\n",
    "\n",
    "from lsst_efd_client import EfdClient"
   ]
  },
  {
   "cell_type": "code",
   "execution_count": null,
   "metadata": {},
   "outputs": [],
   "source": [
    "client = EfdClient('summit_efd')\n",
    "solver = CommandLineSolver(indexFiles='/scratch/mfisherlevine/astrometry_net/broiler.astrometry.net/~dstn/4100',\n",
    "                           checkInParallel=True)"
   ]
  },
  {
   "cell_type": "code",
   "execution_count": null,
   "metadata": {
    "tags": []
   },
   "outputs": [],
   "source": [
    "cameras = [['Wide', 101], ['Narrow', 102]]\n",
    "dates = [16, 22, 23, 24]\n",
    "for [camera, num] in cameras:\n",
    "    for date in dates:\n",
    "        if camera == 'Narrow' and date in [15, 16, 22]:\n",
    "            # No narrow camera data in early dates\n",
    "            continue\n",
    "        \n",
    "        #outfile = open(f\"/scratch/cslage/starTracker/StarTracker_Summary_{camera}_202211{date}.txt\", \"w\")\n",
    "        #outfile.write(\"SeqNum\\tRA(header)\\tDec(header)\\tRA(Solve)\\tDec(Solve)\\tAz(hdr-fix)\\tEl(header)\\tAz(solve)\\tEl(solve)\\tDeltaAz\\tDeltaEl\\tRot\\tRMS(asec)\\n\")\n",
    "        path = f\"/project/GenericCamera/{num}/2022/11/{date}/\"\n",
    "        for seqNum in range(200):\n",
    "            try:\n",
    "                filename = path + f\"GC{num}_O_202211{date}_{seqNum:06}.fits\"\n",
    "                hdulist = pf.open(filename)\n",
    "                header = hdulist[0].header\n",
    "                raStart = header[\"RASTART\"]\n",
    "                decStart = header[\"DECSTART\"]\n",
    "                azStart = header[\"AZSTART\"]\n",
    "\n",
    "                elStart = header[\"ELSTART\"]\n",
    "                rotpa = header[\"ROTPA\"]\n",
    "                time = Time(header[\"DATE-OBS\"], scale='tai')\n",
    "                start = time.utc - TimeDelta(60.0, format='sec')\n",
    "                end = time.utc + TimeDelta(60.0, format='sec')\n",
    "                df = await client.select_time_series('lsst.sal.GenericCamera.logevent_startIntegration', \\\n",
    "                                                    ['*'],  start, end)\n",
    "                imageNumber = df['imageNumber'].loc[(df['salIndex'] == num) & (df['imageNumber'] == seqNum)]\n",
    "                timeIndex = imageNumber.index\n",
    "                deltaT = (time-Time(timeIndex))\n",
    "                print(date, num, seqNum, time, len(timeIndex), timeIndex[0], deltaT.sec[0])\n",
    "            except:\n",
    "                continue\n",
    "\n",
    "            \n",
    "    "
   ]
  },
  {
   "cell_type": "code",
   "execution_count": null,
   "metadata": {},
   "outputs": [],
   "source": [
    "time"
   ]
  },
  {
   "cell_type": "code",
   "execution_count": null,
   "metadata": {},
   "outputs": [],
   "source": [
    "Time(timeIndex)"
   ]
  },
  {
   "cell_type": "code",
   "execution_count": null,
   "metadata": {},
   "outputs": [],
   "source": [
    "delta = (time-Time(timeIndex))"
   ]
  },
  {
   "cell_type": "code",
   "execution_count": null,
   "metadata": {},
   "outputs": [],
   "source": [
    "delta"
   ]
  },
  {
   "cell_type": "code",
   "execution_count": null,
   "metadata": {},
   "outputs": [],
   "source": [
    "delta.sec"
   ]
  },
  {
   "cell_type": "code",
   "execution_count": null,
   "metadata": {},
   "outputs": [],
   "source": []
  }
 ],
 "metadata": {
  "kernelspec": {
   "display_name": "LSST",
   "language": "python",
   "name": "lsst"
  },
  "language_info": {
   "codemirror_mode": {
    "name": "ipython",
    "version": 3
   },
   "file_extension": ".py",
   "mimetype": "text/x-python",
   "name": "python",
   "nbconvert_exporter": "python",
   "pygments_lexer": "ipython3",
   "version": "3.10.5"
  }
 },
 "nbformat": 4,
 "nbformat_minor": 4
}
