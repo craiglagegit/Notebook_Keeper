{
 "cells": [
  {
   "cell_type": "code",
   "execution_count": null,
   "id": "e10463c5-3817-4914-aa80-e22ef27ed291",
   "metadata": {
    "execution": {
     "iopub.execute_input": "2023-02-22T11:54:32.750536Z",
     "iopub.status.busy": "2023-02-22T11:54:32.750273Z",
     "iopub.status.idle": "2023-02-22T11:54:33.006839Z",
     "shell.execute_reply": "2023-02-22T11:54:33.006361Z",
     "shell.execute_reply.started": "2023-02-22T11:54:32.750520Z"
    }
   },
   "outputs": [],
   "source": [
    "import numpy as np\n",
    "from datetime import date\n",
    "import matplotlib\n",
    "import matplotlib.dates as mdates\n",
    "import matplotlib.pyplot as plt\n",
    "import pandas as pd"
   ]
  },
  {
   "cell_type": "code",
   "execution_count": null,
   "id": "dc02f819-7ca0-4699-af79-9719e2bf6cd3",
   "metadata": {
    "execution": {
     "iopub.execute_input": "2023-02-22T11:54:33.765816Z",
     "iopub.status.busy": "2023-02-22T11:54:33.765553Z",
     "iopub.status.idle": "2023-02-22T11:54:33.768348Z",
     "shell.execute_reply": "2023-02-22T11:54:33.767882Z",
     "shell.execute_reply.started": "2023-02-22T11:54:33.765800Z"
    }
   },
   "outputs": [],
   "source": [
    "dir = \"/scratch/cslage/starTracker/\""
   ]
  },
  {
   "cell_type": "code",
   "execution_count": null,
   "id": "b280f658-c8d7-4254-8dc6-4855611923de",
   "metadata": {
    "execution": {
     "iopub.execute_input": "2023-02-22T11:58:46.135173Z",
     "iopub.status.busy": "2023-02-22T11:58:46.135001Z",
     "iopub.status.idle": "2023-02-22T11:58:46.547414Z",
     "shell.execute_reply": "2023-02-22T11:58:46.546994Z",
     "shell.execute_reply.started": "2023-02-22T11:58:46.135157Z"
    },
    "tags": []
   },
   "outputs": [],
   "source": [
    "%matplotlib inline\n",
    "plt.figure(figsize=(8,8))\n",
    "plt.subplots_adjust(hspace = 0.5)\n",
    "\n",
    "cameras = [['Wide', 101, 'red'], ['Narrow', 102, 'blue']]\n",
    "date = 20230221\n",
    "\n",
    "for [camera, num, color] in cameras:\n",
    "    deltaAzs = []\n",
    "    deltaEls = []\n",
    "    seqNums = []\n",
    "\n",
    "    filename = f\"StarTracker_Summary_Boresight_{camera}_{date}.txt\"\n",
    "    data = np.loadtxt(dir+\"/\"+filename, skiprows=1)\n",
    "    for j in range(data.shape[0]):\n",
    "        [seqNum,ra,dec,el,az,raSolve,decSolve,deltaRA,deltDec,elSolve,azSolve,deltaEl,deltaAz,\\\n",
    "         rot,rms_error] = data[j]\n",
    "        if seqNum > 117:\n",
    "            seqNums.append(seqNum)\n",
    "            deltaAzs.append(deltaAz)\n",
    "            deltaEls.append(deltaEl)\n",
    "    plt.subplot(2,1,1)\n",
    "    plt.title(\"Azimuth Error - Boresight Reference\")\n",
    "    plt.scatter(seqNums, deltaAzs, color=color, label=camera)\n",
    "    plt.xlabel(\"SeqNum\")\n",
    "    plt.ylabel(\"Error(arcsec)\")\n",
    "    plt.legend()\n",
    "    plt.subplot(2,1,2)\n",
    "    plt.title(\"Elevation Error - Boresight Reference\")\n",
    "    plt.scatter(seqNums, deltaEls, color=color, label=camera)\n",
    "    plt.xlabel(\"SeqNum\")\n",
    "    plt.ylabel(\"Error(arcsec)\")\n",
    "    plt.legend()\n",
    "plt.savefig(dir+\"/Boresight_Camera_Offsets_21Feb23.png\")"
   ]
  },
  {
   "cell_type": "code",
   "execution_count": null,
   "id": "6eb4f542-555c-4fdc-8040-749b4aa5c993",
   "metadata": {
    "execution": {
     "iopub.execute_input": "2023-02-22T11:57:45.306967Z",
     "iopub.status.busy": "2023-02-22T11:57:45.306682Z",
     "iopub.status.idle": "2023-02-22T11:57:45.723631Z",
     "shell.execute_reply": "2023-02-22T11:57:45.723188Z",
     "shell.execute_reply.started": "2023-02-22T11:57:45.306950Z"
    },
    "tags": []
   },
   "outputs": [],
   "source": [
    "%matplotlib inline\n",
    "plt.figure(figsize=(8,8))\n",
    "plt.subplots_adjust(hspace = 0.5)\n",
    "\n",
    "cameras = [['Wide', 101, 'red'], ['Narrow', 102, 'blue']]\n",
    "date = 20230221\n",
    "\n",
    "for [camera, num, color] in cameras:\n",
    "    deltaAzs = []\n",
    "    deltaEls = []\n",
    "    Els = []\n",
    "\n",
    "    filename = f\"StarTracker_Summary_Boresight_{camera}_{date}.txt\"\n",
    "    data = np.loadtxt(dir+\"/\"+filename, skiprows=1)\n",
    "    for j in range(data.shape[0]):\n",
    "        [seqNum,ra,dec,el,az,raSolve,decSolve,deltaRA,deltDec,elSolve,azSolve,deltaEl,deltaAz,\\\n",
    "         rot,rms_error] = data[j]\n",
    "        if seqNum > 117:\n",
    "            Els.append(elSolve)\n",
    "            deltaAzs.append(deltaAz)\n",
    "            deltaEls.append(deltaEl)\n",
    "    plt.subplot(2,1,1)\n",
    "    plt.title(\"Azimuth Error - Boresight Reference\")\n",
    "    plt.scatter(Els, deltaAzs, color=color, label=camera)\n",
    "    plt.xlabel(\"Elevation(degrees)\")\n",
    "    plt.ylabel(\"Error(arcsec)\")\n",
    "    plt.legend()\n",
    "    plt.subplot(2,1,2)\n",
    "    plt.title(\"Elevation Error - Boresight Reference\")\n",
    "    plt.scatter(Els, deltaEls, color=color, label=camera)\n",
    "    plt.xlabel(\"Elevation(degrees)\")\n",
    "    plt.ylabel(\"Error(arcsec)\")\n",
    "    plt.legend()\n",
    "#plt.savefig(dir+\"/Boresight_Camera_Offsets_21Feb23.png\")"
   ]
  },
  {
   "cell_type": "code",
   "execution_count": null,
   "id": "2bea58f3-06a4-4dfe-85d0-72276a107131",
   "metadata": {
    "execution": {
     "iopub.execute_input": "2023-02-22T11:59:52.894638Z",
     "iopub.status.busy": "2023-02-22T11:59:52.894348Z",
     "iopub.status.idle": "2023-02-22T11:59:53.205943Z",
     "shell.execute_reply": "2023-02-22T11:59:53.205484Z",
     "shell.execute_reply.started": "2023-02-22T11:59:52.894619Z"
    },
    "tags": []
   },
   "outputs": [],
   "source": [
    "%matplotlib inline\n",
    "plt.figure(figsize=(8,8))\n",
    "plt.subplots_adjust(hspace = 0.5)\n",
    "\n",
    "cameras = [['Wide', 101, 'red'], ['Narrow', 102, 'blue']]\n",
    "date = 20230221\n",
    "\n",
    "for [camera, num, color] in cameras:\n",
    "    deltaAzs = []\n",
    "    deltaEls = []\n",
    "    Azs = []\n",
    "\n",
    "    filename = f\"StarTracker_Summary_Boresight_{camera}_{date}.txt\"\n",
    "    data = np.loadtxt(dir+\"/\"+filename, skiprows=1)\n",
    "    for j in range(data.shape[0]):\n",
    "        [seqNum,ra,dec,el,az,raSolve,decSolve,deltaRA,deltDec,elSolve,azSolve,deltaEl,deltaAz,\\\n",
    "         rot,rms_error] = data[j]\n",
    "        if seqNum > 117:\n",
    "            Azs.append(azSolve)\n",
    "            deltaAzs.append(deltaAz)\n",
    "            deltaEls.append(deltaEl)\n",
    "    plt.subplot(2,1,1)\n",
    "    plt.title(\"Azimuth Error - Boresight Reference\")\n",
    "    plt.scatter(Azs, deltaAzs, color=color, label=camera)\n",
    "    plt.xlabel(\"Azimuth(degrees)\")\n",
    "    plt.ylabel(\"Error(arcsec)\")\n",
    "    plt.legend()\n",
    "    plt.subplot(2,1,2)\n",
    "    plt.title(\"Elevation Error - Boresight Reference\")\n",
    "    plt.scatter(Azs, deltaEls, color=color, label=camera)\n",
    "    plt.xlabel(\"Azimuth(degrees)\")\n",
    "    plt.ylabel(\"Error(arcsec)\")\n",
    "    plt.legend()\n",
    "#plt.savefig(dir+\"/Boresight_Camera_Offsets_21Feb23.png\")"
   ]
  },
  {
   "cell_type": "code",
   "execution_count": null,
   "id": "77229cc1-bae1-4b5e-b9be-70d0f8c2f172",
   "metadata": {},
   "outputs": [],
   "source": []
  }
 ],
 "metadata": {
  "kernelspec": {
   "display_name": "LSST",
   "language": "python",
   "name": "lsst"
  },
  "language_info": {
   "codemirror_mode": {
    "name": "ipython",
    "version": 3
   },
   "file_extension": ".py",
   "mimetype": "text/x-python",
   "name": "python",
   "nbconvert_exporter": "python",
   "pygments_lexer": "ipython3",
   "version": "3.10.9"
  }
 },
 "nbformat": 4,
 "nbformat_minor": 5
}
