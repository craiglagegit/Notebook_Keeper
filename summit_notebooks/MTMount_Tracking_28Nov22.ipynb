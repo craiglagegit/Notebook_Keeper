{
 "cells": [
  {
   "cell_type": "code",
   "execution_count": null,
   "metadata": {},
   "outputs": [],
   "source": [
    "import sys, time, os, asyncio, glob\n",
    "\n",
    "from datetime import datetime\n",
    "import numpy as np\n",
    "import matplotlib.pyplot as plt\n",
    "from matplotlib.colors import LogNorm\n",
    "%matplotlib widget\n",
    "import pickle as pkl\n",
    "import pandas as pd\n",
    "import astropy.io.fits as pf\n",
    "from astropy.time import Time, TimeDelta\n",
    "\n",
    "from lsst_efd_client import EfdClient"
   ]
  },
  {
   "cell_type": "code",
   "execution_count": null,
   "metadata": {},
   "outputs": [],
   "source": [
    "client = EfdClient('summit_efd')"
   ]
  },
  {
   "cell_type": "code",
   "execution_count": null,
   "metadata": {},
   "outputs": [],
   "source": [
    "# Times to start looking at the mount data\n",
    "# We were slewing a small random distance, then tracking for 32 seconds\n",
    "# So we'll look for 2 minutes\n",
    "start = Time(\"2022-11-29 00:00:00Z\", scale='utc')\n",
    "end = Time(\"2022-11-29 00:10:00Z\", scale='utc')"
   ]
  },
  {
   "cell_type": "code",
   "execution_count": null,
   "metadata": {},
   "outputs": [],
   "source": [
    "azimuth = await client.select_time_series('lsst.sal.MTMount.azimuth', \\\n",
    "                                                ['*'],  start, end)\n",
    "elevation = await client.select_time_series('lsst.sal.MTMount.elevation', \\\n",
    "                                                ['*'],  start, end)"
   ]
  },
  {
   "cell_type": "code",
   "execution_count": null,
   "metadata": {},
   "outputs": [],
   "source": [
    "startTrack = await client.select_time_series('lsst.sal.MTMount.command_startTracking', \\\n",
    "                                                ['*'],  start, end)\n",
    "stopTrack = await client.select_time_series('lsst.sal.MTMount.command_stopTracking', \\\n",
    "                                                ['*'],  start, end)"
   ]
  },
  {
   "cell_type": "code",
   "execution_count": null,
   "metadata": {},
   "outputs": [],
   "source": [
    "%matplotlib inline\n",
    "ax1 = azimuth['actualPosition'].plot()\n",
    "for i in range(len(startTrack)):\n",
    "    ax1.axvline(startTrack.index[i], color=\"green\", linestyle=\"--\")\n",
    "    ax1.axvline(stopTrack.index[i], color=\"red\", linestyle=\"--\")\n",
    "ax1.set_xlabel(\"Time\")\n",
    "ax1.set_ylabel(\"Azimuth\")\n",
    "ax1.set_title(\"Early in the night with the random slews and tracks, \\nthere are no startTracking and stopTracking events \") \n",
    "plt.savefig(f\"/home/craiglagegit/DATA/Tracking_events_1.pdf\")\n"
   ]
  },
  {
   "cell_type": "code",
   "execution_count": null,
   "metadata": {},
   "outputs": [],
   "source": [
    "# Times to start looking at the mount data\n",
    "# We were slewing a small random distance, then tracking for 32 seconds\n",
    "# So we'll look for 2 minutes\n",
    "start = Time(\"2022-11-29 02:25:00Z\", scale='utc')\n",
    "end = Time(\"2022-11-29 02:32:00Z\", scale='utc')"
   ]
  },
  {
   "cell_type": "code",
   "execution_count": null,
   "metadata": {},
   "outputs": [],
   "source": [
    "azimuth = await client.select_time_series('lsst.sal.MTMount.azimuth', \\\n",
    "                                                ['*'],  start, end)\n",
    "elevation = await client.select_time_series('lsst.sal.MTMount.elevation', \\\n",
    "                                                ['*'],  start, end)"
   ]
  },
  {
   "cell_type": "code",
   "execution_count": null,
   "metadata": {},
   "outputs": [],
   "source": [
    "startTrack = await client.select_time_series('lsst.sal.MTMount.command_startTracking', \\\n",
    "                                                ['*'],  start, end)\n",
    "stopTrack = await client.select_time_series('lsst.sal.MTMount.command_stopTracking', \\\n",
    "                                                ['*'],  start, end)"
   ]
  },
  {
   "cell_type": "code",
   "execution_count": null,
   "metadata": {},
   "outputs": [],
   "source": [
    "%matplotlib inline\n",
    "ax1 = azimuth['actualPosition'].plot()\n",
    "for i in range(len(startTrack)):\n",
    "    ax1.axvline(startTrack.index[i], color=\"green\", linestyle=\"--\")\n",
    "    ax1.axvline(stopTrack.index[i], color=\"red\", linestyle=\"--\")\n",
    "ax1.set_title(\"This event was tracking during a slew??\") \n",
    "plt.savefig(f\"/home/craiglagegit/DATA/Tracking_events_2.pdf\")\n",
    "    "
   ]
  },
  {
   "cell_type": "code",
   "execution_count": null,
   "metadata": {},
   "outputs": [],
   "source": [
    "# Times to start looking at the mount data\n",
    "# We were slewing a small random distance, then tracking for 32 seconds\n",
    "# So we'll look for 2 minutes\n",
    "start = Time(\"2022-11-29 03:15:00Z\", scale='utc')\n",
    "end = Time(\"2022-11-29 03:30:00Z\", scale='utc')"
   ]
  },
  {
   "cell_type": "code",
   "execution_count": null,
   "metadata": {},
   "outputs": [],
   "source": [
    "azimuth = await client.select_time_series('lsst.sal.MTMount.azimuth', \\\n",
    "                                                ['*'],  start, end)\n",
    "elevation = await client.select_time_series('lsst.sal.MTMount.elevation', \\\n",
    "                                                ['*'],  start, end)"
   ]
  },
  {
   "cell_type": "code",
   "execution_count": null,
   "metadata": {},
   "outputs": [],
   "source": [
    "startTrack = await client.select_time_series('lsst.sal.MTMount.command_startTracking', \\\n",
    "                                                ['*'],  start, end)\n",
    "stopTrack = await client.select_time_series('lsst.sal.MTMount.command_stopTracking', \\\n",
    "                                                ['*'],  start, end)"
   ]
  },
  {
   "cell_type": "code",
   "execution_count": null,
   "metadata": {},
   "outputs": [],
   "source": [
    "%matplotlib inline\n",
    "ax1 = azimuth['actualPosition'].plot()\n",
    "for i in range(len(startTrack)):\n",
    "    ax1.axvline(startTrack.index[i], color=\"green\", linestyle=\"--\")\n",
    "    ax1.axvline(stopTrack.index[i], color=\"red\", linestyle=\"--\")\n",
    "ax1.set_title(\"These look like normal tracking. \\n \\\n",
    "    I don't know causes the 0 values. \\n \\\n",
    "    The second one was Narrow camera image 3, where we \\n \\\n",
    "    were tracking in the right direction.\") \n",
    "plt.savefig(f\"/home/craiglagegit/DATA/Tracking_events_3.pdf\")\n",
    "    "
   ]
  },
  {
   "cell_type": "code",
   "execution_count": null,
   "metadata": {},
   "outputs": [],
   "source": []
  }
 ],
 "metadata": {
  "kernelspec": {
   "display_name": "LSST",
   "language": "python",
   "name": "lsst"
  },
  "language_info": {
   "codemirror_mode": {
    "name": "ipython",
    "version": 3
   },
   "file_extension": ".py",
   "mimetype": "text/x-python",
   "name": "python",
   "nbconvert_exporter": "python",
   "pygments_lexer": "ipython3",
   "version": "3.10.5"
  }
 },
 "nbformat": 4,
 "nbformat_minor": 4
}
