{
 "cells": [
  {
   "cell_type": "markdown",
   "metadata": {},
   "source": [
    "## Astronomical coordinate Conversion - 19-Oct-22\n",
    "\n",
    "Craig Lage"
   ]
  },
  {
   "cell_type": "code",
   "execution_count": null,
   "metadata": {},
   "outputs": [],
   "source": [
    "import sys, time, os, asyncio, glob\n",
    "from datetime import datetime\n",
    "import numpy as np\n",
    "import matplotlib.pyplot as plt\n",
    "from astropy.time import Time, TimeDelta\n",
    "from astropy.coordinates import AltAz, ICRS, EarthLocation, Angle, FK5, SkyCoord\n",
    "import astropy.units as u\n",
    "from lsst.obs.lsst.translators.latiss import AUXTEL_LOCATION\n",
    "from lsst.obs.lsst.translators.lsst import SIMONYI_LOCATION"
   ]
  },
  {
   "cell_type": "code",
   "execution_count": null,
   "metadata": {},
   "outputs": [],
   "source": [
    "# RA, Dec to AltAz\n",
    "RA = +95.99\n",
    "Dec = -90.0\n",
    "skyLocation = SkyCoord(RA*u.deg, Dec*u.deg)\n",
    "now = Time(datetime.now())\n",
    "altAz = AltAz(obstime=now, location=SIMONYI_LOCATION)\n",
    "obsAltAz = skyLocation.transform_to(altAz)\n",
    "print(RA, Dec, obsAltAz.az.deg, obsAltAz.alt.deg)"
   ]
  },
  {
   "cell_type": "code",
   "execution_count": null,
   "metadata": {},
   "outputs": [],
   "source": [
    "# RA, Dec to AltAz\n",
    "RA = +95.99\n",
    "Dec = -52.69\n",
    "skyLocation = SkyCoord(RA*u.deg, Dec*u.deg)\n",
    "now = Time('2022-10-27T06:00:00')\n",
    "altAz = AltAz(obstime=now, location=AUXTEL_LOCATION)\n",
    "obsAltAz = skyLocation.transform_to(altAz)\n",
    "print(RA, Dec, obsAltAz.az.deg, obsAltAz.alt.deg)"
   ]
  },
  {
   "cell_type": "code",
   "execution_count": null,
   "metadata": {},
   "outputs": [],
   "source": [
    "# AltAz to RA, Dec\n",
    "Alt = 32.21002\n",
    "Az = 182.104\n",
    "now = Time(datetime.now())\n",
    "altAz = SkyCoord(AltAz(alt=Alt*u.deg, az=Az*u.deg, obstime=now, location=AUXTEL_LOCATION))\n",
    "RaDec = altAz.transform_to(ICRS)\n",
    "print(Alt, Az, RaDec.ra.deg, RaDec.dec.deg)"
   ]
  },
  {
   "cell_type": "code",
   "execution_count": null,
   "metadata": {},
   "outputs": [],
   "source": [
    "# AltAz to RA, Dec\n",
    "Alt = 32.21002\n",
    "Az = -182.104\n",
    "now = Time('2022-06-30T03:59:13.360')\n",
    "altAz = SkyCoord(AltAz(alt=Alt*u.deg, az=Az*u.deg, obstime=now, location=AUXTEL_LOCATION))\n",
    "RaDec = altAz.transform_to(ICRS)\n",
    "print(Alt, Az, RaDec.ra.deg, RaDec.dec.deg)"
   ]
  },
  {
   "cell_type": "code",
   "execution_count": null,
   "metadata": {},
   "outputs": [],
   "source": [
    "# AltAz to RA, Dec\n",
    "Alt = 90.0\n",
    "Az = 180.0\n",
    "now = Time('2022-06-30T03:59:13.360')\n",
    "altAz = SkyCoord(AltAz(alt=Alt*u.deg, az=Az*u.deg, obstime=now, location=AUXTEL_LOCATION))\n",
    "RaDec = altAz.transform_to(ICRS)\n",
    "print(Alt, Az, RaDec.ra.deg, RaDec.dec.deg)"
   ]
  },
  {
   "cell_type": "code",
   "execution_count": null,
   "metadata": {},
   "outputs": [],
   "source": [
    "from astropy.time import Time\n",
    "from astropy.coordinates import AltAz, ICRS, EarthLocation, SkyCoord\n",
    "import astropy.units as u\n",
    "OBSLAT  = 33.304527          # degrees North                                  \n",
    "OBSLON  = -112.068519        # degrees East                                   \n",
    "OBSHGT  = 716.46             # meters                                         \n",
    "UTC     = '2022-05-28 03:39:42' # ISO format                                    \n",
    "location = EarthLocation.from_geodetic(lon=OBSLON*u.deg, lat=OBSLAT*u.deg, height=OBSHGT)\n",
    "obstime = Time(UTC)\n",
    "Alt = 90.0\n",
    "Az = 0.0\n",
    "altAz = SkyCoord(AltAz(alt=Alt*u.deg, az=Az*u.deg, obstime=obstime, location=location))\n",
    "RaDec = altAz.transform_to(ICRS)\n",
    "print(Alt, Az, RaDec.ra.deg, RaDec.dec.deg)"
   ]
  },
  {
   "cell_type": "code",
   "execution_count": null,
   "metadata": {},
   "outputs": [],
   "source": [
    "# RA, Dec to AltAz\n",
    "RA = 116.903\n",
    "Dec = -76.796\n",
    "skyLocation = SkyCoord(RA*u.deg, Dec*u.deg)\n",
    "now = Time('2022-11-16T03:18:07.099')\n",
    "altAz = AltAz(obstime=now, location=SIMONYI_LOCATION)\n",
    "obsAltAz = skyLocation.transform_to(altAz)\n",
    "print(RA, Dec, obsAltAz.az.deg, obsAltAz.alt.deg)"
   ]
  },
  {
   "cell_type": "code",
   "execution_count": null,
   "metadata": {},
   "outputs": [],
   "source": []
  }
 ],
 "metadata": {
  "kernelspec": {
   "display_name": "LSST",
   "language": "python",
   "name": "lsst"
  },
  "language_info": {
   "codemirror_mode": {
    "name": "ipython",
    "version": 3
   },
   "file_extension": ".py",
   "mimetype": "text/x-python",
   "name": "python",
   "nbconvert_exporter": "python",
   "pygments_lexer": "ipython3",
   "version": "3.10.9"
  }
 },
 "nbformat": 4,
 "nbformat_minor": 4
}
