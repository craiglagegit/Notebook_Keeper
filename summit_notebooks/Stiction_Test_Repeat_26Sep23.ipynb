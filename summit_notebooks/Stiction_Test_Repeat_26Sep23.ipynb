{
 "cells": [
  {
   "cell_type": "markdown",
   "id": "3dbf3c0c",
   "metadata": {},
   "source": [
    "# Azimuth oscillations \n",
    "\n",
    "Repeating the azimuth oscillations in preparation for trying the \\\n",
    "\"go past and come back\" idea.\n",
    "Craig Lage - 22Sep23"
   ]
  },
  {
   "cell_type": "code",
   "execution_count": null,
   "id": "b9b61b70",
   "metadata": {
    "execution": {
     "iopub.execute_input": "2023-09-26T14:35:33.895808Z",
     "iopub.status.busy": "2023-09-26T14:35:33.895424Z",
     "iopub.status.idle": "2023-09-26T14:35:40.651933Z",
     "shell.execute_reply": "2023-09-26T14:35:40.651493Z",
     "shell.execute_reply.started": "2023-09-26T14:35:33.895777Z"
    },
    "tags": []
   },
   "outputs": [],
   "source": [
    "import asyncio\n",
    "import time\n",
    "import os\n",
    "import numpy as np\n",
    "import matplotlib.pyplot as plt\n",
    "import pandas as pd\n",
    "from astropy.time import Time\n",
    "\n",
    "from lsst.ts import salobj\n",
    "\n",
    "from lsst.ts.observatory.control.auxtel.atcs import ATCS\n",
    "from lsst.ts.observatory.control.auxtel.latiss import LATISS\n",
    "from lsst.ts.observatory.control.utils import RotType\n",
    "\n",
    "from lsst_efd_client import EfdClient"
   ]
  },
  {
   "cell_type": "code",
   "execution_count": null,
   "id": "0755fd07",
   "metadata": {
    "execution": {
     "iopub.execute_input": "2023-09-26T14:36:03.434816Z",
     "iopub.status.busy": "2023-09-26T14:36:03.434574Z",
     "iopub.status.idle": "2023-09-26T14:36:03.439489Z",
     "shell.execute_reply": "2023-09-26T14:36:03.438614Z",
     "shell.execute_reply.started": "2023-09-26T14:36:03.434791Z"
    },
    "tags": []
   },
   "outputs": [],
   "source": [
    "logger = logging.getLogger(f\"Daytime Checkout {Time.now()} UT\")\n",
    "logger.level = logging.DEBUG"
   ]
  },
  {
   "cell_type": "code",
   "execution_count": null,
   "id": "e80647f9",
   "metadata": {
    "execution": {
     "iopub.execute_input": "2023-09-26T14:36:04.028996Z",
     "iopub.status.busy": "2023-09-26T14:36:04.028841Z",
     "iopub.status.idle": "2023-09-26T14:36:04.035010Z",
     "shell.execute_reply": "2023-09-26T14:36:04.034349Z",
     "shell.execute_reply.started": "2023-09-26T14:36:04.028983Z"
    },
    "tags": []
   },
   "outputs": [],
   "source": [
    "logger.info(os.environ[\"OSPL_URI\"])\n",
    "logger.info(os.environ[\"LSST_DDS_PARTITION_PREFIX\"])"
   ]
  },
  {
   "cell_type": "markdown",
   "id": "a9cd22ea",
   "metadata": {},
   "source": [
    "### Instantiate the control classes"
   ]
  },
  {
   "cell_type": "code",
   "execution_count": null,
   "id": "f651e5d9",
   "metadata": {
    "execution": {
     "iopub.execute_input": "2023-09-26T14:36:09.819326Z",
     "iopub.status.busy": "2023-09-26T14:36:09.818512Z",
     "iopub.status.idle": "2023-09-26T14:36:12.316414Z",
     "shell.execute_reply": "2023-09-26T14:36:12.315822Z",
     "shell.execute_reply.started": "2023-09-26T14:36:09.819276Z"
    },
    "jupyter": {
     "outputs_hidden": true
    },
    "tags": []
   },
   "outputs": [],
   "source": [
    "domain = salobj.Domain()\n",
    "atcs = ATCS(domain)\n",
    "latiss = LATISS(domain)\n",
    "await asyncio.gather(atcs.start_task, latiss.start_task)\n",
    "await atcs.assert_liveliness()"
   ]
  },
  {
   "cell_type": "markdown",
   "id": "014ff42a-1d20-4a15-a145-3a59306459e2",
   "metadata": {
    "tags": []
   },
   "source": [
    "If ATCamera and/or ATOODS don't come up, see section `Quick Troubleshooting` for support commands. "
   ]
  },
  {
   "cell_type": "markdown",
   "id": "a85209e7",
   "metadata": {
    "tags": []
   },
   "source": [
    "### Bias verification"
   ]
  },
  {
   "cell_type": "code",
   "execution_count": null,
   "id": "7761429f",
   "metadata": {
    "execution": {
     "iopub.execute_input": "2023-09-26T19:08:47.916522Z",
     "iopub.status.busy": "2023-09-26T19:08:47.916157Z",
     "iopub.status.idle": "2023-09-26T19:09:10.423082Z",
     "shell.execute_reply": "2023-09-26T19:09:10.422261Z",
     "shell.execute_reply.started": "2023-09-26T19:08:47.916491Z"
    },
    "tags": []
   },
   "outputs": [],
   "source": [
    "for i in range(5):\n",
    "    await latiss.take_bias(nbias=1)\n",
    "    await asyncio.sleep(2.0)"
   ]
  },
  {
   "cell_type": "code",
   "execution_count": null,
   "id": "eb8e7dab-9da0-42a9-995c-34977879aa1a",
   "metadata": {
    "execution": {
     "iopub.execute_input": "2023-09-26T14:38:43.404541Z",
     "iopub.status.busy": "2023-09-26T14:38:43.403746Z",
     "iopub.status.idle": "2023-09-26T14:38:43.410150Z",
     "shell.execute_reply": "2023-09-26T14:38:43.409324Z",
     "shell.execute_reply.started": "2023-09-26T14:38:43.404505Z"
    },
    "tags": []
   },
   "outputs": [],
   "source": [
    "await atcs.disable_dome_following()"
   ]
  },
  {
   "cell_type": "markdown",
   "id": "3fc32bc5-5f36-4e5a-bcfd-27c3a9eeec21",
   "metadata": {
    "tags": []
   },
   "source": [
    "### Now run the actual test, taking a 30 second image at each location."
   ]
  },
  {
   "cell_type": "code",
   "execution_count": null,
   "id": "449950cc-ce9a-4e4a-8367-fe880a4982b2",
   "metadata": {
    "execution": {
     "iopub.execute_input": "2023-09-26T14:38:54.426061Z",
     "iopub.status.busy": "2023-09-26T14:38:54.425285Z",
     "iopub.status.idle": "2023-09-26T14:40:04.956011Z",
     "shell.execute_reply": "2023-09-26T14:40:04.955008Z",
     "shell.execute_reply.started": "2023-09-26T14:38:54.426023Z"
    },
    "jupyter": {
     "outputs_hidden": true
    },
    "tags": []
   },
   "outputs": [],
   "source": [
    "# Move to starting location\n",
    "coord=atcs.radec_from_azel(az=270, el=45)\n",
    "await atcs.slew_icrs(coord.ra, coord.dec, rot=0.0, rot_type=RotType.Physical)"
   ]
  },
  {
   "cell_type": "code",
   "execution_count": null,
   "id": "eeab619e-4922-4b02-9f44-8546a622bca2",
   "metadata": {
    "execution": {
     "iopub.execute_input": "2023-09-26T14:40:59.735565Z",
     "iopub.status.busy": "2023-09-26T14:40:59.735190Z",
     "iopub.status.idle": "2023-09-26T16:22:44.363042Z",
     "shell.execute_reply": "2023-09-26T16:22:44.362239Z",
     "shell.execute_reply.started": "2023-09-26T14:40:59.735523Z"
    },
    "jupyter": {
     "outputs_hidden": true
    },
    "tags": []
   },
   "outputs": [],
   "source": [
    "# Now run the actual test with go-and-come-back only while slewing negative in Az.\n",
    "# Don't bother with going positive\n",
    "# Try several options\n",
    "# First image is 2023092600006, last is 2023092600097\n",
    "deltaAz = 2.0\n",
    "wait_time = 2.0\n",
    "az = 270.0\n",
    "await latiss.take_darks(30.0, 1)\n",
    "for i in range(90):\n",
    "    az -= 2.0\n",
    "    coord=atcs.radec_from_azel(az=az-deltaAz, el=45)\n",
    "    await atcs.slew_icrs(coord.ra, coord.dec, rot=0.0, rot_type=RotType.Physical)\n",
    "    await asyncio.sleep(wait_time)\n",
    "    coord=atcs.radec_from_azel(az=az, el=45)\n",
    "    await atcs.slew_icrs(coord.ra, coord.dec, rot=0.0, rot_type=RotType.Physical)\n",
    "    await latiss.take_darks(30.0, 1)\n"
   ]
  },
  {
   "cell_type": "code",
   "execution_count": null,
   "id": "218d394d-9056-46e4-bb6a-8f5ce893d6ef",
   "metadata": {
    "execution": {
     "iopub.execute_input": "2023-09-26T16:23:05.784562Z",
     "iopub.status.busy": "2023-09-26T16:23:05.784196Z",
     "iopub.status.idle": "2023-09-26T16:24:55.252612Z",
     "shell.execute_reply": "2023-09-26T16:24:55.251756Z",
     "shell.execute_reply.started": "2023-09-26T16:23:05.784533Z"
    },
    "jupyter": {
     "outputs_hidden": true
    },
    "tags": []
   },
   "outputs": [],
   "source": [
    "# Move to starting location\n",
    "coord=atcs.radec_from_azel(az=270, el=45)\n",
    "await atcs.slew_icrs(coord.ra, coord.dec, rot=0.0, rot_type=RotType.Physical)"
   ]
  },
  {
   "cell_type": "code",
   "execution_count": null,
   "id": "11e5496a-3df7-4536-b9db-33ae7af74e87",
   "metadata": {
    "execution": {
     "iopub.execute_input": "2023-09-26T16:25:32.225547Z",
     "iopub.status.busy": "2023-09-26T16:25:32.225189Z",
     "iopub.status.idle": "2023-09-26T18:03:57.965337Z",
     "shell.execute_reply": "2023-09-26T18:03:57.964409Z",
     "shell.execute_reply.started": "2023-09-26T16:25:32.225515Z"
    },
    "jupyter": {
     "outputs_hidden": true
    },
    "tags": []
   },
   "outputs": [],
   "source": [
    "# First image is 2023092600098, last is 2023092600188\n",
    "deltaAz = 2.0\n",
    "wait_time = 0.0\n",
    "az = 270.0\n",
    "await latiss.take_darks(30.0, 1)\n",
    "for i in range(90):\n",
    "    az -= 2.0\n",
    "    coord=atcs.radec_from_azel(az=az-deltaAz, el=45)\n",
    "    await atcs.slew_icrs(coord.ra, coord.dec, rot=0.0, rot_type=RotType.Physical)\n",
    "    await asyncio.sleep(wait_time)\n",
    "    coord=atcs.radec_from_azel(az=az, el=45)\n",
    "    await atcs.slew_icrs(coord.ra, coord.dec, rot=0.0, rot_type=RotType.Physical)\n",
    "    await latiss.take_darks(30.0, 1)\n",
    "\n"
   ]
  },
  {
   "cell_type": "code",
   "execution_count": null,
   "id": "2ee01250-0c53-4dae-8031-d627893f93b2",
   "metadata": {
    "execution": {
     "iopub.execute_input": "2023-09-26T18:04:15.128934Z",
     "iopub.status.busy": "2023-09-26T18:04:15.128565Z",
     "iopub.status.idle": "2023-09-26T18:06:04.552643Z",
     "shell.execute_reply": "2023-09-26T18:06:04.551697Z",
     "shell.execute_reply.started": "2023-09-26T18:04:15.128905Z"
    },
    "jupyter": {
     "outputs_hidden": true
    },
    "tags": []
   },
   "outputs": [],
   "source": [
    "# Move to starting location\n",
    "coord=atcs.radec_from_azel(az=270, el=45)\n",
    "await atcs.slew_icrs(coord.ra, coord.dec, rot=0.0, rot_type=RotType.Physical)"
   ]
  },
  {
   "cell_type": "code",
   "execution_count": null,
   "id": "a1408e8b-6714-4be8-b16d-fe92ef70f98b",
   "metadata": {
    "execution": {
     "iopub.execute_input": "2023-09-26T18:06:20.012469Z",
     "iopub.status.busy": "2023-09-26T18:06:20.012092Z",
     "iopub.status.idle": "2023-09-26T19:08:14.004281Z",
     "shell.execute_reply": "2023-09-26T19:08:14.003678Z",
     "shell.execute_reply.started": "2023-09-26T18:06:20.012438Z"
    },
    "jupyter": {
     "outputs_hidden": true
    },
    "tags": []
   },
   "outputs": [],
   "source": [
    "deltaAz = 1.0\n",
    "wait_time = 0.0\n",
    "az = 270.0\n",
    "await latiss.take_darks(30.0, 1)\n",
    "for i in range(90):\n",
    "    az -= 2.0\n",
    "    coord=atcs.radec_from_azel(az=az-deltaAz, el=45)\n",
    "    await atcs.slew_icrs(coord.ra, coord.dec, rot=0.0, rot_type=RotType.Physical)\n",
    "    await asyncio.sleep(wait_time)\n",
    "    coord=atcs.radec_from_azel(az=az, el=45)\n",
    "    await atcs.slew_icrs(coord.ra, coord.dec, rot=0.0, rot_type=RotType.Physical)\n",
    "    await latiss.take_darks(30.0, 1)\n"
   ]
  },
  {
   "cell_type": "code",
   "execution_count": null,
   "id": "3ea5225b",
   "metadata": {
    "execution": {
     "iopub.execute_input": "2023-09-26T19:08:20.559550Z",
     "iopub.status.busy": "2023-09-26T19:08:20.559190Z",
     "iopub.status.idle": "2023-09-26T19:08:20.845513Z",
     "shell.execute_reply": "2023-09-26T19:08:20.844635Z",
     "shell.execute_reply.started": "2023-09-26T19:08:20.559521Z"
    },
    "tags": []
   },
   "outputs": [],
   "source": [
    "# Stop tracking\n",
    "await atcs.stop_tracking()"
   ]
  },
  {
   "cell_type": "code",
   "execution_count": null,
   "id": "58009d48-693f-452a-b497-ccc6008c1975",
   "metadata": {},
   "outputs": [],
   "source": []
  }
 ],
 "metadata": {
  "kernelspec": {
   "display_name": "LSST",
   "language": "python",
   "name": "lsst"
  },
  "language_info": {
   "codemirror_mode": {
    "name": "ipython",
    "version": 3
   },
   "file_extension": ".py",
   "mimetype": "text/x-python",
   "name": "python",
   "nbconvert_exporter": "python",
   "pygments_lexer": "ipython3",
   "version": "3.11.4"
  }
 },
 "nbformat": 4,
 "nbformat_minor": 5
}
