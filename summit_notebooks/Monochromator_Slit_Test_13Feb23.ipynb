{
 "cells": [
  {
   "cell_type": "markdown",
   "id": "66953411",
   "metadata": {},
   "source": [
    "# AuxTel Calibration Illumination System monochromator slit test."
   ]
  },
  {
   "cell_type": "markdown",
   "id": "5fc900e0",
   "metadata": {},
   "source": [
    "Craig Lage - 13Feb23"
   ]
  },
  {
   "cell_type": "code",
   "execution_count": null,
   "id": "4fdba962",
   "metadata": {
    "execution": {
     "iopub.execute_input": "2023-02-21T16:04:31.746356Z",
     "iopub.status.busy": "2023-02-21T16:04:31.746093Z",
     "iopub.status.idle": "2023-02-21T16:04:33.573306Z",
     "shell.execute_reply": "2023-02-21T16:04:33.572718Z",
     "shell.execute_reply.started": "2023-02-21T16:04:31.746339Z"
    },
    "tags": []
   },
   "outputs": [],
   "source": [
    "import asyncio\n",
    "import sys, time, os\n",
    "from lsst.ts import utils\n",
    "\n",
    "import numpy as np\n",
    "import pandas as pd\n",
    "import matplotlib.pyplot as plt\n",
    "\n",
    "from astropy.io import fits\n",
    "from astropy.time import Time, TimeDelta\n",
    "from astropy.table import Table\n",
    "\n",
    "from lsst_efd_client import EfdClient\n",
    "client = EfdClient('summit_efd')\n",
    "\n",
    "from lsst.ts import salobj"
   ]
  },
  {
   "cell_type": "code",
   "execution_count": null,
   "id": "582744d1",
   "metadata": {
    "execution": {
     "iopub.execute_input": "2023-02-21T16:04:34.279748Z",
     "iopub.status.busy": "2023-02-21T16:04:34.279401Z",
     "iopub.status.idle": "2023-02-21T16:04:34.282318Z",
     "shell.execute_reply": "2023-02-21T16:04:34.281831Z",
     "shell.execute_reply.started": "2023-02-21T16:04:34.279731Z"
    },
    "tags": []
   },
   "outputs": [],
   "source": [
    "# change this to a local directory\n",
    "data_dir = '/home/craiglagegit/DATA'"
   ]
  },
  {
   "cell_type": "code",
   "execution_count": null,
   "id": "ca265d8d",
   "metadata": {
    "execution": {
     "iopub.execute_input": "2023-02-21T16:04:35.105923Z",
     "iopub.status.busy": "2023-02-21T16:04:35.105542Z",
     "iopub.status.idle": "2023-02-21T16:04:35.124716Z",
     "shell.execute_reply": "2023-02-21T16:04:35.124159Z",
     "shell.execute_reply.started": "2023-02-21T16:04:35.105899Z"
    },
    "tags": []
   },
   "outputs": [],
   "source": [
    "d = salobj.Domain()"
   ]
  },
  {
   "cell_type": "markdown",
   "id": "bd0fe9a6",
   "metadata": {},
   "source": [
    "### Connect to CSCs"
   ]
  },
  {
   "cell_type": "code",
   "execution_count": null,
   "id": "804e9aac",
   "metadata": {
    "execution": {
     "iopub.execute_input": "2023-02-21T16:04:37.845705Z",
     "iopub.status.busy": "2023-02-21T16:04:37.845334Z",
     "iopub.status.idle": "2023-02-21T16:04:38.085621Z",
     "shell.execute_reply": "2023-02-21T16:04:38.085016Z",
     "shell.execute_reply.started": "2023-02-21T16:04:37.845687Z"
    },
    "tags": []
   },
   "outputs": [],
   "source": [
    "atmonochromator = salobj.Remote(d, 'ATMonochromator')\n",
    "FiberSpectrograph = salobj.Remote(name=\"FiberSpectrograph\", domain=d, index=3)\n",
    "electrometer = salobj.Remote(name=\"Electrometer\", domain=d, index=201) \n",
    "WhiteLightSource = salobj.Remote(name='ATWhiteLight', domain=d)"
   ]
  },
  {
   "cell_type": "code",
   "execution_count": null,
   "id": "06512f70",
   "metadata": {
    "execution": {
     "iopub.execute_input": "2023-02-21T16:04:40.838889Z",
     "iopub.status.busy": "2023-02-21T16:04:40.838494Z",
     "iopub.status.idle": "2023-02-21T16:04:40.841850Z",
     "shell.execute_reply": "2023-02-21T16:04:40.841285Z",
     "shell.execute_reply.started": "2023-02-21T16:04:40.838870Z"
    },
    "tags": []
   },
   "outputs": [],
   "source": [
    "await atmonochromator.start_task\n",
    "await FiberSpectrograph.start_task\n",
    "await electrometer.start_task\n",
    "await WhiteLightSource.start_task"
   ]
  },
  {
   "cell_type": "code",
   "execution_count": null,
   "id": "7baa8f01",
   "metadata": {
    "execution": {
     "iopub.execute_input": "2023-02-21T16:04:47.541279Z",
     "iopub.status.busy": "2023-02-21T16:04:47.540577Z",
     "iopub.status.idle": "2023-02-21T16:04:47.546452Z",
     "shell.execute_reply": "2023-02-21T16:04:47.545949Z",
     "shell.execute_reply.started": "2023-02-21T16:04:47.541256Z"
    },
    "tags": []
   },
   "outputs": [],
   "source": [
    "# Check that the monochromator has grating=0 and lambda=500\n",
    "async def get_params():\n",
    "    tmp1 = await atmonochromator.evt_wavelength.aget()\n",
    "    tmp2 = await atmonochromator.evt_entrySlitWidth.aget()\n",
    "    tmp3 = await atmonochromator.evt_exitSlitWidth.aget()\n",
    "    tmp4 = await atmonochromator.evt_selectedGrating.aget()\n",
    "    return (tmp1.wavelength, tmp2.width, tmp3.width, tmp4.gratingType)\n",
    "\n",
    "\n",
    "# functions to run the electromter measurements\n",
    "def get_file_transfer(lfa):\n",
    "    filename = os.path.split(lfa.url)[1]\n",
    "    save_dir = os.path.join(data_dir, filename.split(':')[0])\n",
    "    if not os.path.exists(save_dir):\n",
    "        os.mkdir(save_dir)\n",
    "    save_file = os.path.join(save_dir, filename)\n",
    "    os.system(f\"curl {lfa.url} --output {save_file}\")\n",
    "    return save_file\n",
    "\n",
    "async def elec_meas(exp_time):\n",
    "    electrometer.evt_largeFileObjectAvailable.flush()\n",
    "    tmp1=await electrometer.cmd_startScan.set_start(timeout=10)\n",
    "    await asyncio.sleep(exp_time)\n",
    "    tmp2=await electrometer.cmd_stopScan.set_start(timeout=10)\n",
    "    lfa = await electrometer.evt_largeFileObjectAvailable.next(flush=False, timeout=10)\n",
    "    filename = get_file_transfer(lfa)\n",
    "    return filename, lfa"
   ]
  },
  {
   "cell_type": "code",
   "execution_count": null,
   "id": "09c64f73",
   "metadata": {
    "execution": {
     "iopub.execute_input": "2023-02-13T17:50:55.787276Z",
     "iopub.status.busy": "2023-02-13T17:50:55.786898Z",
     "iopub.status.idle": "2023-02-13T17:50:56.248531Z",
     "shell.execute_reply": "2023-02-13T17:50:56.248012Z",
     "shell.execute_reply.started": "2023-02-13T17:50:55.787258Z"
    },
    "tags": []
   },
   "outputs": [],
   "source": [
    "# Run electrometer calibration\n",
    "await electrometer.cmd_performZeroCalib.set_start(timeout=10)\n",
    "await electrometer.cmd_setDigitalFilter.set_start(activateFilter=False, activateAvgFilter=False, activateMedFilter=False, timeout=10)    "
   ]
  },
  {
   "cell_type": "code",
   "execution_count": null,
   "id": "aa224de0",
   "metadata": {
    "tags": []
   },
   "outputs": [],
   "source": [
    "#Start chiller\n",
    "tmp = await WhiteLightSource.cmd_setChillerTemperature.set_start(temperature=20)\n",
    "tmp = await WhiteLightSource.cmd_startChiller.set_start()\n",
    "# Confirm that the chiller has started and running at 20C"
   ]
  },
  {
   "cell_type": "markdown",
   "id": "1460e654",
   "metadata": {},
   "source": [
    "### Test Electrometer"
   ]
  },
  {
   "cell_type": "code",
   "execution_count": null,
   "id": "24a99796",
   "metadata": {
    "execution": {
     "iopub.execute_input": "2023-02-21T16:08:37.706232Z",
     "iopub.status.busy": "2023-02-21T16:08:37.705874Z",
     "iopub.status.idle": "2023-02-21T16:08:37.709629Z",
     "shell.execute_reply": "2023-02-21T16:08:37.709144Z",
     "shell.execute_reply.started": "2023-02-21T16:08:37.706214Z"
    },
    "tags": []
   },
   "outputs": [],
   "source": [
    "mode = await electrometer.evt_measureType.aget()\n",
    "intTime = await electrometer.evt_integrationTime.aget()\n",
    "range_ = await electrometer.evt_measureRange.aget()\n",
    "print(f'Mode: {mode.mode}; Int. Time: {intTime.intTime}; Range: {range_.rangeValue}')"
   ]
  },
  {
   "cell_type": "markdown",
   "id": "aaf4ed6a-6126-4a33-9c89-79fb8a7b00df",
   "metadata": {},
   "source": [
    "### Set up Monochromator"
   ]
  },
  {
   "cell_type": "code",
   "execution_count": null,
   "id": "e8e43f06-eb48-4626-9fd3-993a52d91249",
   "metadata": {
    "execution": {
     "iopub.execute_input": "2023-02-21T16:13:20.843414Z",
     "iopub.status.busy": "2023-02-21T16:13:20.843042Z",
     "iopub.status.idle": "2023-02-21T16:13:25.307862Z",
     "shell.execute_reply": "2023-02-21T16:13:25.307458Z",
     "shell.execute_reply.started": "2023-02-21T16:13:20.843398Z"
    },
    "tags": []
   },
   "outputs": [],
   "source": [
    "wave=500\n",
    "await atmonochromator.cmd_changeWavelength.set_start(wavelength=wave)\n",
    "entry_width=5.0\n",
    "exit_width=5.0\n",
    "await atmonochromator.cmd_changeSlitWidth.set_start(slit=1, slitWidth=entry_width)\n",
    "await atmonochromator.cmd_changeSlitWidth.set_start(slit=2, slitWidth=exit_width)"
   ]
  },
  {
   "cell_type": "code",
   "execution_count": null,
   "id": "04c94db1-6162-4009-8034-fe4c44fb9833",
   "metadata": {
    "execution": {
     "iopub.execute_input": "2023-02-21T16:13:26.593412Z",
     "iopub.status.busy": "2023-02-21T16:13:26.593052Z",
     "iopub.status.idle": "2023-02-21T16:13:26.596863Z",
     "shell.execute_reply": "2023-02-21T16:13:26.596494Z",
     "shell.execute_reply.started": "2023-02-21T16:13:26.593394Z"
    },
    "tags": []
   },
   "outputs": [],
   "source": [
    "await get_params()"
   ]
  },
  {
   "cell_type": "code",
   "execution_count": null,
   "id": "c3505c79-7a21-431f-ada3-bdd058788da1",
   "metadata": {
    "execution": {
     "iopub.execute_input": "2023-02-21T16:08:42.895616Z",
     "iopub.status.busy": "2023-02-21T16:08:42.895255Z",
     "iopub.status.idle": "2023-02-21T16:09:09.184464Z",
     "shell.execute_reply": "2023-02-21T16:09:09.183705Z",
     "shell.execute_reply.started": "2023-02-21T16:08:42.895599Z"
    },
    "tags": []
   },
   "outputs": [],
   "source": [
    "# Now run a matrix of slit widths\n",
    "slit_readings = []\n",
    "spectra = []\n",
    "for i in range(1, 3):\n",
    "    slit_1 = 0.5 * i\n",
    "    await atmonochromator.cmd_changeSlitWidth.set_start(slit=1, slitWidth=slit_1)    \n",
    "    for j in range(1, 2):\n",
    "        slit_2 = 0.5 * j\n",
    "        await atmonochromator.cmd_changeSlitWidth.set_start(slit=2, slitWidth=slit_2)    \n",
    "        exp_time = 5 #sec\n",
    "        filename, lfa = await elec_meas(5.0)\n",
    "        filename = filename.replace(\":\", \"_\")\n",
    "        elec_filen = os.path.join(data_dir, filename)\n",
    "        os.system(f\"curl {lfa.url} --output {elec_filen}\")\n",
    "        hdu = fits.open(f'{elec_filen}')\n",
    "        data = hdu[1].data\n",
    "        for (t,current) in data:\n",
    "            slit_readings.append([t, slit_1, slit_2, -current])\n",
    "        print(f\"Done with {slit_1}, {slit_2}\")\n",
    "        FiberSpectrograph.evt_largeFileObjectAvailable.flush()\n",
    "        tmp1 = await FiberSpectrograph.cmd_expose.set_start(duration=exp_time, numExposures=1)\n",
    "        lfa = await FiberSpectrograph.evt_largeFileObjectAvailable.next(flush=False, timeout=10)\n",
    "        filename = os.path.split(lfa.url)[1]\n",
    "        spec_filen = os.path.join(data_dir, filename)\n",
    "        os.system(f\"curl {lfa.url} --output {spec_filen}\")\n",
    "        hdu = fits.open(f'{spec_filen}')\n",
    "        wavelength = hdu[1].data['wavelength'].flatten()\n",
    "        spectrum = hdu[0].data\n",
    "        spectra.append(spectrum)\n",
    "        print(f\"Done with spectrum\")"
   ]
  },
  {
   "cell_type": "code",
   "execution_count": null,
   "id": "3c9ee944-f63e-4512-845b-870d1161f89d",
   "metadata": {
    "execution": {
     "iopub.execute_input": "2023-02-13T18:17:02.687840Z",
     "iopub.status.busy": "2023-02-13T18:17:02.687465Z",
     "iopub.status.idle": "2023-02-13T18:17:02.703473Z",
     "shell.execute_reply": "2023-02-13T18:17:02.702965Z",
     "shell.execute_reply.started": "2023-02-13T18:17:02.687822Z"
    },
    "tags": []
   },
   "outputs": [],
   "source": [
    "# Pickle the data\n",
    "import pickle as pkl\n",
    "filename = \"/home/craiglagegit/DATA/monochromator_slit_matrix_21feb23.pkl\"\n",
    "file = open(filename, \"wb\")\n",
    "pkl.dump([slit_readings, spectra], file)\n",
    "file.close()"
   ]
  },
  {
   "cell_type": "code",
   "execution_count": null,
   "id": "225996e4-afeb-4e8e-8cd8-8d13d3885cc9",
   "metadata": {
    "execution": {
     "iopub.execute_input": "2023-02-13T19:08:14.941290Z",
     "iopub.status.busy": "2023-02-13T19:08:14.940915Z",
     "iopub.status.idle": "2023-02-13T19:08:15.757123Z",
     "shell.execute_reply": "2023-02-13T19:08:15.756577Z",
     "shell.execute_reply.started": "2023-02-13T19:08:14.941272Z"
    },
    "tags": []
   },
   "outputs": [],
   "source": [
    "# Now plot the results\n",
    "%matplotlib inline\n",
    "fig = plt.figure(figsize=(8, 8))\n",
    "slit_1s = np.arange(0.5, 7.5, 0.5)\n",
    "slit_2s = np.arange(0.5, 7.5, 0.5)\n",
    "Z = np.zeros([14,14])\n",
    "[X,Y] = np.meshgrid(slit_1s, slit_2s);\n",
    "    \n",
    "for i, s1 in enumerate(slit_1s):\n",
    "    for j, s2 in enumerate(slit_2s):\n",
    "        counter = 0\n",
    "        currentSum = 0.0\n",
    "        for [t, slit_1, slit_2, current] in slit_readings:\n",
    "            if (int(s1*10) == int(slit_1*10)) and (int(s2*10) == int(slit_2*10)):\n",
    "                counter += 1\n",
    "                currentSum += current\n",
    "        currentAve = currentSum / float(counter)\n",
    "        #print(f\"{s1}, {s2} has {counter} points\")\n",
    "        X[i,j] = s1\n",
    "        Y[i,j] = s2\n",
    "        Z[i,j] = currentAve\n",
    "\n",
    "img=plt.contourf(X,Y,Z)\n",
    "plt.colorbar(img)                \n",
    "plt.xlabel(\"Slit 1 width (mm)\")\n",
    "plt.ylabel(\"Slit 2 width (mm)\")\n",
    "plt.title(\"Electrometer current vs width of slits\\n wavelength=500, grating 0\")\n",
    "plt.savefig(f\"/home/craiglagegit/DATA/Monochromator_Slit_Test_13Feb23.pdf\")"
   ]
  },
  {
   "cell_type": "code",
   "execution_count": null,
   "id": "eb9249d1-ea76-4406-bee3-0332b239a453",
   "metadata": {
    "execution": {
     "iopub.execute_input": "2023-02-21T16:09:30.084708Z",
     "iopub.status.busy": "2023-02-21T16:09:30.084109Z",
     "iopub.status.idle": "2023-02-21T16:09:30.088451Z",
     "shell.execute_reply": "2023-02-21T16:09:30.087963Z",
     "shell.execute_reply.started": "2023-02-21T16:09:30.084688Z"
    }
   },
   "outputs": [],
   "source": [
    "spectra"
   ]
  },
  {
   "cell_type": "code",
   "execution_count": null,
   "id": "de86feb4-63ff-4b74-81db-3c9fce38fb08",
   "metadata": {
    "execution": {
     "iopub.execute_input": "2023-02-21T16:11:17.459104Z",
     "iopub.status.busy": "2023-02-21T16:11:17.458719Z",
     "iopub.status.idle": "2023-02-21T16:11:17.553046Z",
     "shell.execute_reply": "2023-02-21T16:11:17.552473Z",
     "shell.execute_reply.started": "2023-02-21T16:11:17.459086Z"
    },
    "tags": []
   },
   "outputs": [],
   "source": [
    "plt.plot(spectra[1])"
   ]
  },
  {
   "cell_type": "code",
   "execution_count": null,
   "id": "310a7012-a7ac-43c9-bed8-fd896970e4c9",
   "metadata": {},
   "outputs": [],
   "source": []
  }
 ],
 "metadata": {
  "kernelspec": {
   "display_name": "LSST",
   "language": "python",
   "name": "lsst"
  },
  "language_info": {
   "codemirror_mode": {
    "name": "ipython",
    "version": 3
   },
   "file_extension": ".py",
   "mimetype": "text/x-python",
   "name": "python",
   "nbconvert_exporter": "python",
   "pygments_lexer": "ipython3",
   "version": "3.10.9"
  }
 },
 "nbformat": 4,
 "nbformat_minor": 5
}
