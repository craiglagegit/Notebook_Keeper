{
 "cells": [
  {
   "cell_type": "code",
   "execution_count": null,
   "id": "845db71b-9b62-4a1a-86a4-e327febca6a8",
   "metadata": {
    "execution": {
     "iopub.execute_input": "2023-12-22T13:08:14.218195Z",
     "iopub.status.busy": "2023-12-22T13:08:14.217602Z",
     "iopub.status.idle": "2023-12-22T13:08:14.496712Z",
     "shell.execute_reply": "2023-12-22T13:08:14.495616Z",
     "shell.execute_reply.started": "2023-12-22T13:08:14.218158Z"
    }
   },
   "outputs": [],
   "source": [
    "from lsst.ts.criopy import M1M3FATable"
   ]
  },
  {
   "cell_type": "code",
   "execution_count": null,
   "id": "b27cafbf-62a4-40a1-aa0d-ddc42ef2dc94",
   "metadata": {
    "execution": {
     "iopub.execute_input": "2023-12-22T13:59:42.673915Z",
     "iopub.status.busy": "2023-12-22T13:59:42.673536Z",
     "iopub.status.idle": "2023-12-22T13:59:42.694061Z",
     "shell.execute_reply": "2023-12-22T13:59:42.693255Z",
     "shell.execute_reply.started": "2023-12-22T13:59:42.673886Z"
    }
   },
   "outputs": [],
   "source": [
    "import dds"
   ]
  },
  {
   "cell_type": "code",
   "execution_count": null,
   "id": "8539a497-16ef-4156-9eb4-1567efe6e0e4",
   "metadata": {
    "execution": {
     "iopub.execute_input": "2023-12-22T14:00:54.767499Z",
     "iopub.status.busy": "2023-12-22T14:00:54.767134Z",
     "iopub.status.idle": "2023-12-22T14:00:54.772826Z",
     "shell.execute_reply": "2023-12-22T14:00:54.771954Z",
     "shell.execute_reply.started": "2023-12-22T14:00:54.767469Z"
    }
   },
   "outputs": [],
   "source": [
    "import os\n",
    "print(os.path.dirname(dds.__file__))"
   ]
  },
  {
   "cell_type": "code",
   "execution_count": null,
   "id": "5ca321c5-ef02-4e81-ba25-612a52d3afb7",
   "metadata": {},
   "outputs": [],
   "source": []
  }
 ],
 "metadata": {
  "kernelspec": {
   "display_name": "LSST",
   "language": "python",
   "name": "lsst"
  },
  "language_info": {
   "codemirror_mode": {
    "name": "ipython",
    "version": 3
   },
   "file_extension": ".py",
   "mimetype": "text/x-python",
   "name": "python",
   "nbconvert_exporter": "python",
   "pygments_lexer": "ipython3",
   "version": "3.11.4"
  }
 },
 "nbformat": 4,
 "nbformat_minor": 5
}
