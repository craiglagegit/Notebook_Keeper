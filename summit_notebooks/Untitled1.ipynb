{
 "cells": [
  {
   "cell_type": "code",
   "execution_count": null,
   "id": "037c9c21-d15e-48ef-90c3-8522e0ad10e0",
   "metadata": {
    "execution": {
     "iopub.execute_input": "2023-07-18T15:55:43.413864Z",
     "iopub.status.busy": "2023-07-18T15:55:43.413549Z",
     "iopub.status.idle": "2023-07-18T15:55:43.433841Z",
     "shell.execute_reply": "2023-07-18T15:55:43.433286Z",
     "shell.execute_reply.started": "2023-07-18T15:55:43.413848Z"
    },
    "tags": []
   },
   "outputs": [],
   "source": [
    "import lsst.ts.cRIOpy.M1M3FATable as M1M3FATable"
   ]
  },
  {
   "cell_type": "code",
   "execution_count": null,
   "id": "955e0855-6029-4df2-b06e-50cd8f65c4bd",
   "metadata": {
    "execution": {
     "iopub.execute_input": "2023-07-18T15:55:54.309638Z",
     "iopub.status.busy": "2023-07-18T15:55:54.309151Z",
     "iopub.status.idle": "2023-07-18T15:55:54.615768Z",
     "shell.execute_reply": "2023-07-18T15:55:54.615100Z",
     "shell.execute_reply.started": "2023-07-18T15:55:54.309590Z"
    },
    "tags": []
   },
   "outputs": [],
   "source": [
    "import lsst.ts.criopy.M1M3FATable as M1M3FATable"
   ]
  },
  {
   "cell_type": "code",
   "execution_count": null,
   "id": "1ff447d8-84bd-4d18-8601-b3db89f0372b",
   "metadata": {},
   "outputs": [],
   "source": []
  }
 ],
 "metadata": {
  "kernelspec": {
   "display_name": "LSST",
   "language": "python",
   "name": "lsst"
  },
  "language_info": {
   "codemirror_mode": {
    "name": "ipython",
    "version": 3
   },
   "file_extension": ".py",
   "mimetype": "text/x-python",
   "name": "python",
   "nbconvert_exporter": "python",
   "pygments_lexer": "ipython3",
   "version": "3.10.11"
  }
 },
 "nbformat": 4,
 "nbformat_minor": 5
}
