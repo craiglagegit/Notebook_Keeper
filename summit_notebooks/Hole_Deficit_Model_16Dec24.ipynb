{
 "cells": [
  {
   "cell_type": "markdown",
   "id": "4135ae0b-8f52-4142-94d5-540629f56ec2",
   "metadata": {},
   "source": [
    "# Hole deficit model plot\n",
    "Craig Lage - 16Dec24"
   ]
  },
  {
   "cell_type": "code",
   "execution_count": null,
   "id": "b5b5b89d-be54-4d92-98dd-cd801e7c8d83",
   "metadata": {
    "execution": {
     "iopub.execute_input": "2024-12-16T16:13:50.038828Z",
     "iopub.status.busy": "2024-12-16T16:13:50.038448Z",
     "iopub.status.idle": "2024-12-16T16:13:50.383354Z",
     "shell.execute_reply": "2024-12-16T16:13:50.382806Z",
     "shell.execute_reply.started": "2024-12-16T16:13:50.038807Z"
    }
   },
   "outputs": [],
   "source": [
    "import numpy as np\n",
    "import matplotlib.pyplot as plt"
   ]
  },
  {
   "cell_type": "code",
   "execution_count": null,
   "id": "337ebdc8-e289-4c59-a9f3-cbf605090fec",
   "metadata": {
    "execution": {
     "iopub.execute_input": "2024-12-16T16:21:03.208474Z",
     "iopub.status.busy": "2024-12-16T16:21:03.208101Z",
     "iopub.status.idle": "2024-12-16T16:21:03.213103Z",
     "shell.execute_reply": "2024-12-16T16:21:03.212617Z",
     "shell.execute_reply.started": "2024-12-16T16:21:03.208454Z"
    }
   },
   "outputs": [],
   "source": [
    "vs = [-0.2, -0.5, -0.75, -1.0]\n",
    "dHoles = [56060, 143975, 206269, 273477]\n",
    "dHoles = np.array(dHoles) * 4000 / 15.0\n",
    "fit = np.polyfit(vs, dHoles, 1)\n",
    "print(fit)\n",
    "cap = - fit[0] * 1.6E-19\n",
    "print(cap)\n",
    "xplot = np.linspace(-0.2, -1.0, 100)\n",
    "yplot = fit[0] * xplot + fit[1]"
   ]
  },
  {
   "cell_type": "code",
   "execution_count": null,
   "id": "a01e18d6-6951-4ce7-b478-ca08579c4317",
   "metadata": {
    "execution": {
     "iopub.execute_input": "2024-12-16T16:25:16.829688Z",
     "iopub.status.busy": "2024-12-16T16:25:16.829328Z",
     "iopub.status.idle": "2024-12-16T16:25:16.998075Z",
     "shell.execute_reply": "2024-12-16T16:25:16.997613Z",
     "shell.execute_reply.started": "2024-12-16T16:25:16.829670Z"
    }
   },
   "outputs": [],
   "source": [
    "plt.title(\"Hole deficit per column vs voltage\", fontsize=18)\n",
    "plt.scatter(vs, dHoles, marker='x', s=100)\n",
    "plt.plot(xplot, yplot, ls='--', color='green')\n",
    "plt.ylabel(\"Hole deficit per column\", fontsize=12)\n",
    "plt.xlabel(\"Channel stop voltage deficit\", fontsize=12)\n",
    "plt.text(-0.6, 7.0E7, f\"Capacitance={cap:.2g} F\", fontsize=12)\n",
    "plt.savefig(\"/home/cslage/DATA/Hole_Deficits_16Dec24.png\")"
   ]
  },
  {
   "cell_type": "code",
   "execution_count": null,
   "id": "72c4cd65-94c6-4383-be26-0aecec9c2582",
   "metadata": {
    "execution": {
     "iopub.execute_input": "2024-12-16T16:55:01.991404Z",
     "iopub.status.busy": "2024-12-16T16:55:01.991048Z",
     "iopub.status.idle": "2024-12-16T16:55:01.994840Z",
     "shell.execute_reply": "2024-12-16T16:55:01.994442Z",
     "shell.execute_reply.started": "2024-12-16T16:55:01.991385Z"
    }
   },
   "outputs": [],
   "source": [
    "150000*4000/15*8/4.6E8"
   ]
  },
  {
   "cell_type": "code",
   "execution_count": null,
   "id": "eca0106e-f158-4b88-a825-b0a4bc7d6453",
   "metadata": {},
   "outputs": [],
   "source": []
  }
 ],
 "metadata": {
  "kernelspec": {
   "display_name": "LSST",
   "language": "python",
   "name": "lsst"
  },
  "language_info": {
   "codemirror_mode": {
    "name": "ipython",
    "version": 3
   },
   "file_extension": ".py",
   "mimetype": "text/x-python",
   "name": "python",
   "nbconvert_exporter": "python",
   "pygments_lexer": "ipython3",
   "version": "3.11.11"
  }
 },
 "nbformat": 4,
 "nbformat_minor": 5
}
