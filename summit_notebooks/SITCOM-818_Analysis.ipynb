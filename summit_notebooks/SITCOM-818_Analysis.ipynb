{
 "cells": [
  {
   "cell_type": "markdown",
   "metadata": {},
   "source": [
    "# SITCOM-818\n",
    "Craig Lage - 15-May-23 \\\n",
    "\n",
    "Here is what was requested:\n",
    "A script is needed to return maximal overshoot values per M1M3 during bump testing. It shall retrieve FA following error (M1M3.forceActuatorData.primaryCylinderFollowingError and M1M3.forceActuatorData.secondaryCylinderFollowingError) and per actuator, while it is bump tested, retrieve min and max (absolute) value of the deviation.\n",
    "\n",
    "This notebook does those things\n"
   ]
  },
  {
   "cell_type": "markdown",
   "metadata": {},
   "source": [
    "## Prepare the notebook"
   ]
  },
  {
   "cell_type": "code",
   "execution_count": null,
   "metadata": {
    "execution": {
     "iopub.execute_input": "2023-06-29T17:35:58.081604Z",
     "iopub.status.busy": "2023-06-29T17:35:58.081326Z",
     "iopub.status.idle": "2023-06-29T17:35:58.084145Z",
     "shell.execute_reply": "2023-06-29T17:35:58.083680Z",
     "shell.execute_reply.started": "2023-06-29T17:35:58.081588Z"
    },
    "tags": []
   },
   "outputs": [],
   "source": [
    "# Directory to store the data\n",
    "data_dir = \"/home/craiglagegit/DATA\"\n",
    "\n",
    "start = \"2023-06-14T00:00:00\"\n",
    "end = \"2023-06-15T00:00:00\""
   ]
  },
  {
   "cell_type": "code",
   "execution_count": null,
   "metadata": {
    "execution": {
     "iopub.execute_input": "2023-06-29T17:35:58.868021Z",
     "iopub.status.busy": "2023-06-29T17:35:58.867710Z",
     "iopub.status.idle": "2023-06-29T17:35:59.873331Z",
     "shell.execute_reply": "2023-06-29T17:35:59.872881Z",
     "shell.execute_reply.started": "2023-06-29T17:35:58.868000Z"
    },
    "tags": []
   },
   "outputs": [],
   "source": [
    "import sys, time, os, asyncio, glob\n",
    "from datetime import datetime\n",
    "import numpy as np\n",
    "import matplotlib.pyplot as plt\n",
    "from matplotlib.backends.backend_pdf import PdfPages\n",
    "import pickle as pkl\n",
    "from astropy.time import Time, TimeDelta\n",
    "from scipy.interpolate import UnivariateSpline\n",
    "\n",
    "import lsst.ts.cRIOpy.M1M3FATable as M1M3FATable\n",
    "from lsst_efd_client import EfdClient"
   ]
  },
  {
   "cell_type": "code",
   "execution_count": null,
   "metadata": {
    "execution": {
     "iopub.execute_input": "2023-06-29T17:35:59.879835Z",
     "iopub.status.busy": "2023-06-29T17:35:59.879540Z",
     "iopub.status.idle": "2023-06-29T17:35:59.892436Z",
     "shell.execute_reply": "2023-06-29T17:35:59.892060Z",
     "shell.execute_reply.started": "2023-06-29T17:35:59.879814Z"
    },
    "tags": []
   },
   "outputs": [],
   "source": [
    "async def plot_bump_test_following_errors(fig, bumps, id):\n",
    "    \"\"\" Plot a visualization of the bump test following errors\n",
    "        Parameters\n",
    "        ----------\n",
    "        fig : a matplotlib figure object\n",
    "\n",
    "        bumps: pandas dataframe\n",
    "            This is a dataframe containg the bump test status\n",
    "        \n",
    "        id: 'int'\n",
    "            The actuator id desired\n",
    "\n",
    "        Returns\n",
    "        -------\n",
    "        No return, only the fig object which was input\n",
    "    \"\"\"\n",
    "    \n",
    "    this_bump = bumps[bumps['actuatorId']==id]\n",
    "    index = M1M3FATable.actuatorIDToIndex(id)\n",
    "    primary_bump = f\"primaryTest{FATABLE[index][M1M3FATable.FATABLE_ZINDEX]}\"\n",
    "    primary_follow = f\"primaryCylinderFollowingError{FATABLE[index][M1M3FATable.FATABLE_ZINDEX]}\"\n",
    "    primary_force = f\"primaryCylinderForce{FATABLE[index][M1M3FATable.FATABLE_ZINDEX]}\"\n",
    "    if FATABLE[index][M1M3FATable.FATABLE_TYPE] == 'DAA':\n",
    "        secondary_bump = f\"secondaryTest{FATABLE[index][M1M3FATable.FATABLE_SINDEX]}\"\n",
    "        secondary_force = f\"secondaryCylinderForce{FATABLE[index][M1M3FATable.FATABLE_SINDEX]}\"\n",
    "        secondary_follow = f\"secondaryCylinderFollowingError{FATABLE[index][M1M3FATable.FATABLE_SINDEX]}\"\n",
    "        secondary_name = FATABLE[index][M1M3FATable.FATABLE_ORIENTATION]\n",
    "    else:\n",
    "        secondary_name = None\n",
    "        secondary_force = None\n",
    "        secondary_follow = None\n",
    "    plt.subplots_adjust(wspace=0.3)\n",
    "    plt.suptitle(f\"Bump Test Following Errors. Actuator ID {id}\", fontsize=18)\n",
    "    plot_start = this_bump[this_bump[primary_bump]==2]['timestamp'].values[0] - 1.0\n",
    "    plot_end = plot_start + 14.0 \n",
    "    start = Time(plot_start, format='unix_tai', scale='tai')\n",
    "    end = Time(plot_end, format='unix_tai', scale='tai')\n",
    "    forces = await client.select_time_series(\"lsst.sal.MTM1M3.forceActuatorData\", \\\n",
    "                                             [primary_force, primary_follow, 'timestamp'], start.utc, end.utc)\n",
    "    timestamp = forces.index[0].isoformat().split('.')[0]\n",
    "    plt.suptitle(f\"Bump Test Following Errors. Actuator ID {id}\\n {timestamp}\", fontsize=18)\n",
    "    times = forces['timestamp'].values\n",
    "    t0 = times[0]\n",
    "    times -= t0\n",
    "    primary_forces = forces[primary_force].values\n",
    "    primary_errors = forces[primary_follow].values\n",
    "    plot_start -= t0\n",
    "    plot_end -= t0\n",
    "    plt.subplot(2,2,1)\n",
    "    plt.title(\"Primary - Z\")\n",
    "    plt.plot(times, primary_forces, label='Data')\n",
    "    plt.xlim(plot_start, plot_end)\n",
    "    plt.ylim(-400,400)\n",
    "    plt.xlabel(\"Time (seconds)\")\n",
    "    plt.ylabel(\"Force (nt)\")\n",
    "    plt.legend()\n",
    "    plt.subplot(2,2,3)\n",
    "    plt.title(\"Following Errors\")\n",
    "    plt.plot(times, primary_errors)\n",
    "    plt.text(5, 350, f\"Max = {np.max(primary_errors):.1f} nt\")\n",
    "    plt.text(5, -350, f\"Min = {np.min(primary_errors):.1f} nt\")\n",
    "    plt.xlim(plot_start, plot_end)\n",
    "    plt.ylim(-400,400)\n",
    "    plt.xlabel(\"Time (seconds)\")\n",
    "    plt.ylabel(\"Following Errors (nt)\")\n",
    "    \n",
    "    if secondary_name is not None:\n",
    "        plot_start = this_bump[this_bump[secondary_bump]==2]['timestamp'].values[0] - 1.0\n",
    "        plot_end = plot_start + 14.0\n",
    "        start = Time(plot_start, format='unix_tai', scale='tai')\n",
    "        end = Time(plot_end, format='unix_tai', scale='tai')\n",
    "        forces = await client.select_time_series(\"lsst.sal.MTM1M3.forceActuatorData\", \\\n",
    "                                                 [secondary_force, secondary_follow, 'timestamp'], start.utc, end.utc)\n",
    "        times = forces['timestamp'].values\n",
    "        t0 = times[0]\n",
    "        times -= t0\n",
    "        secondary_forces = forces[secondary_force].values\n",
    "        secondary_errors = forces[secondary_follow].values\n",
    "        plot_start -= t0\n",
    "        plot_end -= t0\n",
    "        plt.subplot(2,2,2)\n",
    "        plt.title(f\"Secondary - {secondary_name}\")\n",
    "        plt.plot(times, secondary_forces, label='Data')\n",
    "        plt.xlim(plot_start, plot_end)\n",
    "        plt.ylim(-400,400)\n",
    "        plt.xlabel(\"Time (seconds)\")\n",
    "        plt.ylabel(\"Force (nt)\")\n",
    "        plt.legend()\n",
    "        plt.subplot(2,2,4)\n",
    "        plt.title(\"Following Errors\")\n",
    "        plt.plot(times, secondary_errors)\n",
    "        plt.text(5, 350, f\"Max = {np.max(secondary_errors):.1f} nt\")\n",
    "        plt.text(5, -350, f\"Min = {np.min(secondary_errors):.1f} nt\")\n",
    "\n",
    "        plt.xlim(plot_start, plot_end)\n",
    "        plt.ylim(-400, 400)\n",
    "        plt.xlabel(\"Time (seconds)\")\n",
    "        plt.ylabel(\"Following Errors (nt)\")\n",
    "    else:\n",
    "        plt.subplot(2,2,2)\n",
    "        plt.title(\"No Secondary\")\n",
    "        plt.xticks([])\n",
    "        plt.yticks([])\n",
    "        plt.subplot(2,2,4)\n",
    "        plt.xticks([])\n",
    "        plt.yticks([])\n",
    "    return"
   ]
  },
  {
   "cell_type": "markdown",
   "metadata": {},
   "source": [
    "## First run just one actuator"
   ]
  },
  {
   "cell_type": "code",
   "execution_count": null,
   "metadata": {
    "execution": {
     "iopub.execute_input": "2023-06-29T17:40:24.696988Z",
     "iopub.status.busy": "2023-06-29T17:40:24.696718Z",
     "iopub.status.idle": "2023-06-29T17:40:26.855675Z",
     "shell.execute_reply": "2023-06-29T17:40:26.855220Z",
     "shell.execute_reply.started": "2023-06-29T17:40:24.696972Z"
    },
    "tags": []
   },
   "outputs": [],
   "source": [
    "client = EfdClient('summit_efd')\n",
    "FATABLE = M1M3FATable.FATABLE\n",
    "bumps = await client.select_time_series(\"lsst.sal.MTM1M3.logevent_forceActuatorBumpTestStatus\", \"*\",\\\n",
    "                                        Time(start, scale='utc'), Time(end, scale='utc'))\n",
    "id = 112\n",
    "fig = plt.figure(figsize=(10,10))\n",
    "await plot_bump_test_following_errors(fig, bumps, id)\n",
    "plt.savefig(data_dir + f\"/Bump_Test_Following_Errors_{id}.png\")"
   ]
  },
  {
   "cell_type": "markdown",
   "metadata": {},
   "source": [
    "# Now run the whole bump test"
   ]
  },
  {
   "cell_type": "code",
   "execution_count": null,
   "metadata": {
    "execution": {
     "iopub.execute_input": "2023-06-29T17:42:11.464485Z",
     "iopub.status.busy": "2023-06-29T17:42:11.464210Z",
     "iopub.status.idle": "2023-06-29T17:42:30.131314Z",
     "shell.execute_reply": "2023-06-29T17:42:30.130759Z",
     "shell.execute_reply.started": "2023-06-29T17:42:11.464468Z"
    },
    "tags": []
   },
   "outputs": [],
   "source": [
    "timestamp = bumps.index[0].isoformat().split('.')[0].replace('-','').replace(':','')\n",
    "pdf = PdfPages(data_dir + f\"/Bump_Test_Following_Errors_{timestamp}.pdf\")\n",
    "fig = plt.figure(figsize=(10,10))\n",
    "for index in range(len(FATABLE)):\n",
    "    try:\n",
    "        id = FATABLE[index][M1M3FATable.FATABLE_ID]\n",
    "        print(index, id)\n",
    "        await plot_bump_test_following_errors(fig, bumps, id)\n",
    "        pdf.savefig(fig)  # saves the current figure into a pdf page\n",
    "        plt.clf()\n",
    "    except:\n",
    "        print(f\"{id} failed!\")\n",
    "        continue\n",
    "pdf.close()\n"
   ]
  },
  {
   "cell_type": "code",
   "execution_count": null,
   "metadata": {},
   "outputs": [],
   "source": []
  }
 ],
 "metadata": {
  "kernelspec": {
   "display_name": "LSST",
   "language": "python",
   "name": "lsst"
  },
  "language_info": {
   "codemirror_mode": {
    "name": "ipython",
    "version": 3
   },
   "file_extension": ".py",
   "mimetype": "text/x-python",
   "name": "python",
   "nbconvert_exporter": "python",
   "pygments_lexer": "ipython3",
   "version": "3.10.11"
  }
 },
 "nbformat": 4,
 "nbformat_minor": 4
}
