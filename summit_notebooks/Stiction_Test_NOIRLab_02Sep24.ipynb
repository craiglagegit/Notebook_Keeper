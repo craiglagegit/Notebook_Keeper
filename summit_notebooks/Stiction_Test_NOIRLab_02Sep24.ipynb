{
 "cells": [
  {
   "cell_type": "markdown",
   "id": "3dbf3c0c",
   "metadata": {},
   "source": [
    "# Pole stiction\n",
    "\n",
    "This notebook is intended to characterize the slow speed stiction problem \\\n",
    "at the pole by spiraling into the pole where the tracking speeds will be slower and slower. \\\n",
    "Craig Lage - 17-Oct-22"
   ]
  },
  {
   "cell_type": "code",
   "execution_count": null,
   "id": "b9b61b70",
   "metadata": {
    "execution": {
     "iopub.execute_input": "2024-09-26T15:34:33.565984Z",
     "iopub.status.busy": "2024-09-26T15:34:33.565695Z",
     "iopub.status.idle": "2024-09-26T15:34:47.581302Z",
     "shell.execute_reply": "2024-09-26T15:34:47.580861Z",
     "shell.execute_reply.started": "2024-09-26T15:34:33.565965Z"
    },
    "tags": []
   },
   "outputs": [],
   "source": [
    "import asyncio\n",
    "import time\n",
    "import os\n",
    "import numpy as np\n",
    "import matplotlib.pyplot as plt\n",
    "from astropy.time import Time\n",
    "\n",
    "from lsst.ts import salobj\n",
    "\n",
    "from lsst.ts.observatory.control.auxtel.atcs import ATCS\n",
    "from lsst.ts.observatory.control.auxtel.latiss import LATISS\n",
    "from lsst.ts.observatory.control.utils import RotType"
   ]
  },
  {
   "cell_type": "code",
   "execution_count": null,
   "id": "0755fd07",
   "metadata": {
    "execution": {
     "iopub.execute_input": "2024-09-26T15:34:47.582631Z",
     "iopub.status.busy": "2024-09-26T15:34:47.582009Z",
     "iopub.status.idle": "2024-09-26T15:34:47.585474Z",
     "shell.execute_reply": "2024-09-26T15:34:47.585076Z",
     "shell.execute_reply.started": "2024-09-26T15:34:47.582613Z"
    },
    "tags": []
   },
   "outputs": [],
   "source": [
    "logger = logging.getLogger(f\"Daytime Checkout {Time.now()} UT\")\n",
    "logger.level = logging.DEBUG"
   ]
  },
  {
   "cell_type": "code",
   "execution_count": null,
   "id": "e80647f9",
   "metadata": {
    "execution": {
     "iopub.execute_input": "2024-09-26T15:34:47.586289Z",
     "iopub.status.busy": "2024-09-26T15:34:47.585974Z",
     "iopub.status.idle": "2024-09-26T15:34:47.590778Z",
     "shell.execute_reply": "2024-09-26T15:34:47.590422Z",
     "shell.execute_reply.started": "2024-09-26T15:34:47.586274Z"
    },
    "tags": []
   },
   "outputs": [],
   "source": [
    "logger.info(os.environ[\"OSPL_URI\"])\n",
    "logger.info(os.environ[\"LSST_DDS_PARTITION_PREFIX\"])"
   ]
  },
  {
   "cell_type": "markdown",
   "id": "a9cd22ea",
   "metadata": {},
   "source": [
    "### Instantiate the control classes"
   ]
  },
  {
   "cell_type": "code",
   "execution_count": null,
   "id": "f651e5d9",
   "metadata": {
    "execution": {
     "iopub.execute_input": "2024-09-26T15:34:47.591712Z",
     "iopub.status.busy": "2024-09-26T15:34:47.591565Z",
     "iopub.status.idle": "2024-09-26T15:34:58.462276Z",
     "shell.execute_reply": "2024-09-26T15:34:58.461837Z",
     "shell.execute_reply.started": "2024-09-26T15:34:47.591698Z"
    },
    "jupyter": {
     "outputs_hidden": true
    },
    "tags": []
   },
   "outputs": [],
   "source": [
    "domain = salobj.Domain()\n",
    "atcs = ATCS(domain)\n",
    "latiss = LATISS(domain)\n",
    "await asyncio.gather(atcs.start_task, latiss.start_task)"
   ]
  },
  {
   "cell_type": "code",
   "execution_count": null,
   "id": "c4f94ecb-c3be-465c-8f6c-67532a989f61",
   "metadata": {
    "execution": {
     "iopub.execute_input": "2024-09-11T12:52:35.491228Z",
     "iopub.status.busy": "2024-09-11T12:52:35.490848Z",
     "iopub.status.idle": "2024-09-11T12:52:35.494924Z",
     "shell.execute_reply": "2024-09-11T12:52:35.494424Z",
     "shell.execute_reply.started": "2024-09-11T12:52:35.491207Z"
    }
   },
   "outputs": [],
   "source": [
    "atcs._overslew_az"
   ]
  },
  {
   "cell_type": "code",
   "execution_count": null,
   "id": "8e6e4070-5a91-44b4-a87b-68128e083bfe",
   "metadata": {
    "execution": {
     "iopub.execute_input": "2024-09-26T15:39:22.661218Z",
     "iopub.status.busy": "2024-09-26T15:39:22.660869Z",
     "iopub.status.idle": "2024-09-26T15:39:22.664383Z",
     "shell.execute_reply": "2024-09-26T15:39:22.663823Z",
     "shell.execute_reply.started": "2024-09-26T15:39:22.661201Z"
    }
   },
   "outputs": [],
   "source": [
    "atcs._overslew_az = False"
   ]
  },
  {
   "cell_type": "code",
   "execution_count": null,
   "id": "64658e2b-a266-42b8-b696-3459c6203959",
   "metadata": {
    "execution": {
     "iopub.execute_input": "2024-09-26T15:39:25.880839Z",
     "iopub.status.busy": "2024-09-26T15:39:25.880465Z",
     "iopub.status.idle": "2024-09-26T15:39:25.884823Z",
     "shell.execute_reply": "2024-09-26T15:39:25.884349Z",
     "shell.execute_reply.started": "2024-09-26T15:39:25.880819Z"
    }
   },
   "outputs": [],
   "source": [
    "atcs._overslew_az"
   ]
  },
  {
   "cell_type": "markdown",
   "id": "50d3b4be",
   "metadata": {},
   "source": [
    "## Enable LATISS and ATCS"
   ]
  },
  {
   "cell_type": "markdown",
   "id": "a85209e7",
   "metadata": {
    "tags": []
   },
   "source": [
    "### Bias verification"
   ]
  },
  {
   "cell_type": "code",
   "execution_count": null,
   "id": "7761429f",
   "metadata": {
    "execution": {
     "iopub.execute_input": "2024-09-26T15:39:50.771294Z",
     "iopub.status.busy": "2024-09-26T15:39:50.770945Z",
     "iopub.status.idle": "2024-09-26T15:40:13.296498Z",
     "shell.execute_reply": "2024-09-26T15:40:13.295921Z",
     "shell.execute_reply.started": "2024-09-26T15:39:50.771274Z"
    },
    "tags": []
   },
   "outputs": [],
   "source": [
    "for i in range(5):\n",
    "    await latiss.take_bias(nbias=1)\n",
    "    await asyncio.sleep(2.0)"
   ]
  },
  {
   "cell_type": "code",
   "execution_count": null,
   "id": "eb8e7dab-9da0-42a9-995c-34977879aa1a",
   "metadata": {
    "execution": {
     "iopub.execute_input": "2024-09-26T15:40:18.888759Z",
     "iopub.status.busy": "2024-09-26T15:40:18.888401Z",
     "iopub.status.idle": "2024-09-26T15:40:18.892320Z",
     "shell.execute_reply": "2024-09-26T15:40:18.891829Z",
     "shell.execute_reply.started": "2024-09-26T15:40:18.888741Z"
    },
    "tags": []
   },
   "outputs": [],
   "source": [
    "await atcs.disable_dome_following()"
   ]
  },
  {
   "cell_type": "markdown",
   "id": "3fc32bc5-5f36-4e5a-bcfd-27c3a9eeec21",
   "metadata": {
    "tags": []
   },
   "source": [
    "### Now run the actual test, taking a 30 second image at each location."
   ]
  },
  {
   "cell_type": "code",
   "execution_count": null,
   "id": "593b310c-4429-479c-912b-5c57f20c3fcd",
   "metadata": {
    "execution": {
     "iopub.execute_input": "2024-09-26T16:28:25.590850Z",
     "iopub.status.busy": "2024-09-26T16:28:25.590498Z",
     "iopub.status.idle": "2024-09-26T16:29:18.401634Z",
     "shell.execute_reply": "2024-09-26T16:29:18.401108Z",
     "shell.execute_reply.started": "2024-09-26T16:28:25.590832Z"
    },
    "tags": []
   },
   "outputs": [],
   "source": [
    "# Move to starting location\n",
    "coord=atcs.radec_from_azel(az=230, el=45)\n",
    "await atcs.slew_icrs(coord.ra, coord.dec, rot=0.0, rot_type=RotType.Physical)\n",
    "await latiss.take_engtest(30.0, 1)"
   ]
  },
  {
   "cell_type": "code",
   "execution_count": null,
   "id": "9a10fc87-2e60-4f0f-b271-b52f5a7ae1c6",
   "metadata": {
    "execution": {
     "iopub.execute_input": "2024-09-11T12:56:22.738784Z",
     "iopub.status.busy": "2024-09-11T12:56:22.738289Z",
     "iopub.status.idle": "2024-09-11T12:57:45.721452Z",
     "shell.execute_reply": "2024-09-11T12:57:45.720986Z",
     "shell.execute_reply.started": "2024-09-11T12:56:22.738763Z"
    },
    "jupyter": {
     "outputs_hidden": true
    },
    "tags": []
   },
   "outputs": [],
   "source": [
    "# Move to starting location\n",
    "coord=atcs.radec_from_azel(az=220, el=45)\n",
    "await atcs.slew_icrs(coord.ra, coord.dec, rot=0.0, rot_type=RotType.Physical)\n",
    "await latiss.take_engtest(30.0, 1)"
   ]
  },
  {
   "cell_type": "code",
   "execution_count": null,
   "id": "97f8f5d1-4792-4c3b-bd02-577678f3c8ff",
   "metadata": {
    "execution": {
     "iopub.execute_input": "2024-09-26T16:21:27.392725Z",
     "iopub.status.busy": "2024-09-26T16:21:27.392411Z",
     "iopub.status.idle": "2024-09-26T16:22:00.137291Z",
     "shell.execute_reply": "2024-09-26T16:22:00.136766Z",
     "shell.execute_reply.started": "2024-09-26T16:21:27.392708Z"
    }
   },
   "outputs": [],
   "source": [
    "await latiss.take_engtest(30.0, 1)"
   ]
  },
  {
   "cell_type": "code",
   "execution_count": null,
   "id": "cd028e2c-7fda-4812-8ca6-79f5bb6a8849",
   "metadata": {
    "execution": {
     "iopub.execute_input": "2024-09-11T12:59:18.963180Z",
     "iopub.status.busy": "2024-09-11T12:59:18.962861Z",
     "iopub.status.idle": "2024-09-11T13:00:15.037987Z",
     "shell.execute_reply": "2024-09-11T13:00:15.037577Z",
     "shell.execute_reply.started": "2024-09-11T12:59:18.963162Z"
    },
    "jupyter": {
     "outputs_hidden": true
    },
    "tags": []
   },
   "outputs": [],
   "source": [
    "# Move to starting location\n",
    "coord=atcs.radec_from_azel(az=210, el=45)\n",
    "await atcs.slew_icrs(coord.ra, coord.dec, rot=0.0, rot_type=RotType.Physical)\n",
    "await latiss.take_engtest(30.0, 1)"
   ]
  },
  {
   "cell_type": "code",
   "execution_count": null,
   "id": "d3143cf1-3e8a-441b-8623-a45fd9fb2c97",
   "metadata": {
    "execution": {
     "iopub.execute_input": "2024-09-11T13:00:46.203237Z",
     "iopub.status.busy": "2024-09-11T13:00:46.202898Z",
     "iopub.status.idle": "2024-09-11T13:01:18.939013Z",
     "shell.execute_reply": "2024-09-11T13:01:18.938350Z",
     "shell.execute_reply.started": "2024-09-11T13:00:46.203219Z"
    }
   },
   "outputs": [],
   "source": [
    "await latiss.take_engtest(30.0, 1)"
   ]
  },
  {
   "cell_type": "code",
   "execution_count": null,
   "id": "946ca290-6014-46d6-baba-2ad469f0050e",
   "metadata": {
    "execution": {
     "iopub.execute_input": "2024-09-11T13:03:47.018293Z",
     "iopub.status.busy": "2024-09-11T13:03:47.017629Z",
     "iopub.status.idle": "2024-09-11T13:04:19.761978Z",
     "shell.execute_reply": "2024-09-11T13:04:19.761441Z",
     "shell.execute_reply.started": "2024-09-11T13:03:47.018274Z"
    }
   },
   "outputs": [],
   "source": [
    "await latiss.take_engtest(30.0, 1)"
   ]
  },
  {
   "cell_type": "code",
   "execution_count": null,
   "id": "709e6e27-33f6-41e9-ae90-aa74de789392",
   "metadata": {
    "execution": {
     "iopub.execute_input": "2024-09-11T13:05:17.651536Z",
     "iopub.status.busy": "2024-09-11T13:05:17.650864Z",
     "iopub.status.idle": "2024-09-11T13:05:50.382091Z",
     "shell.execute_reply": "2024-09-11T13:05:50.381605Z",
     "shell.execute_reply.started": "2024-09-11T13:05:17.651515Z"
    }
   },
   "outputs": [],
   "source": [
    "await latiss.take_engtest(30.0, 1)"
   ]
  },
  {
   "cell_type": "code",
   "execution_count": null,
   "id": "167bfeef-69fc-4beb-8d4e-72e2f7aff994",
   "metadata": {
    "execution": {
     "iopub.execute_input": "2024-09-11T13:07:05.267456Z",
     "iopub.status.busy": "2024-09-11T13:07:05.266774Z",
     "iopub.status.idle": "2024-09-11T13:07:37.996877Z",
     "shell.execute_reply": "2024-09-11T13:07:37.996394Z",
     "shell.execute_reply.started": "2024-09-11T13:07:05.267436Z"
    }
   },
   "outputs": [],
   "source": [
    "await latiss.take_engtest(30.0, 1)"
   ]
  },
  {
   "cell_type": "code",
   "execution_count": null,
   "id": "65e55c67-df1b-47d6-ac27-3d9fee056226",
   "metadata": {
    "execution": {
     "iopub.execute_input": "2024-09-11T13:13:24.154183Z",
     "iopub.status.busy": "2024-09-11T13:13:24.153739Z",
     "iopub.status.idle": "2024-09-11T13:13:56.892587Z",
     "shell.execute_reply": "2024-09-11T13:13:56.891842Z",
     "shell.execute_reply.started": "2024-09-11T13:13:24.154166Z"
    }
   },
   "outputs": [],
   "source": [
    "await latiss.take_engtest(30.0, 1)"
   ]
  },
  {
   "cell_type": "code",
   "execution_count": null,
   "id": "291d7199-949d-4ee8-a030-6c9fbd06829e",
   "metadata": {
    "execution": {
     "iopub.execute_input": "2024-09-11T13:15:25.830691Z",
     "iopub.status.busy": "2024-09-11T13:15:25.830059Z",
     "iopub.status.idle": "2024-09-11T13:22:52.489336Z",
     "shell.execute_reply": "2024-09-11T13:22:52.488830Z",
     "shell.execute_reply.started": "2024-09-11T13:15:25.830673Z"
    },
    "jupyter": {
     "outputs_hidden": true
    },
    "tags": []
   },
   "outputs": [],
   "source": [
    "# Move to starting location\n",
    "await atcs.point_azel(az=220, el=45)\n",
    "coord=atcs.radec_from_azel(az=210, el=45)\n",
    "await atcs.slew_icrs(coord.ra, coord.dec, rot=0.0, rot_type=RotType.Physical)\n",
    "await latiss.take_engtest(30.0, 1)"
   ]
  },
  {
   "cell_type": "code",
   "execution_count": null,
   "id": "971dfb98-2a27-4c40-be5d-033b826647c5",
   "metadata": {
    "execution": {
     "iopub.execute_input": "2024-09-11T13:24:42.404325Z",
     "iopub.status.busy": "2024-09-11T13:24:42.404023Z",
     "iopub.status.idle": "2024-09-11T13:25:15.143683Z",
     "shell.execute_reply": "2024-09-11T13:25:15.143190Z",
     "shell.execute_reply.started": "2024-09-11T13:24:42.404308Z"
    }
   },
   "outputs": [],
   "source": [
    "await latiss.take_engtest(30.0, 1)"
   ]
  },
  {
   "cell_type": "code",
   "execution_count": null,
   "id": "498d39d5-c1cb-48df-9ca2-f7916a6e7e97",
   "metadata": {
    "execution": {
     "iopub.execute_input": "2024-09-11T13:26:11.176575Z",
     "iopub.status.busy": "2024-09-11T13:26:11.176217Z",
     "iopub.status.idle": "2024-09-11T13:26:43.917116Z",
     "shell.execute_reply": "2024-09-11T13:26:43.916684Z",
     "shell.execute_reply.started": "2024-09-11T13:26:11.176554Z"
    }
   },
   "outputs": [],
   "source": [
    "await latiss.take_engtest(30.0, 1)"
   ]
  },
  {
   "cell_type": "code",
   "execution_count": null,
   "id": "916a8d33-7f67-4acf-b53d-afbdd71e84df",
   "metadata": {
    "execution": {
     "iopub.execute_input": "2024-09-11T13:27:30.982101Z",
     "iopub.status.busy": "2024-09-11T13:27:30.981531Z",
     "iopub.status.idle": "2024-09-11T13:28:03.715680Z",
     "shell.execute_reply": "2024-09-11T13:28:03.715121Z",
     "shell.execute_reply.started": "2024-09-11T13:27:30.982082Z"
    }
   },
   "outputs": [],
   "source": [
    "await latiss.take_engtest(30.0, 1)"
   ]
  },
  {
   "cell_type": "code",
   "execution_count": null,
   "id": "8d1e9435-fb33-4cc7-88aa-3b36109f825c",
   "metadata": {
    "execution": {
     "iopub.execute_input": "2024-09-11T13:29:36.710342Z",
     "iopub.status.busy": "2024-09-11T13:29:36.710004Z",
     "iopub.status.idle": "2024-09-11T13:30:09.454860Z",
     "shell.execute_reply": "2024-09-11T13:30:09.454365Z",
     "shell.execute_reply.started": "2024-09-11T13:29:36.710325Z"
    }
   },
   "outputs": [],
   "source": [
    "await latiss.take_engtest(30.0, 1)"
   ]
  },
  {
   "cell_type": "code",
   "execution_count": null,
   "id": "9ada1386-241f-4d0d-afa3-d19bb66dd546",
   "metadata": {
    "execution": {
     "iopub.execute_input": "2024-09-11T13:31:27.660125Z",
     "iopub.status.busy": "2024-09-11T13:31:27.659775Z",
     "iopub.status.idle": "2024-09-11T13:32:23.443539Z",
     "shell.execute_reply": "2024-09-11T13:32:23.443025Z",
     "shell.execute_reply.started": "2024-09-11T13:31:27.660104Z"
    },
    "jupyter": {
     "outputs_hidden": true
    }
   },
   "outputs": [],
   "source": [
    "# Move to starting location\n",
    "coord=atcs.radec_from_azel(az=200, el=45)\n",
    "await atcs.slew_icrs(coord.ra, coord.dec, rot=0.0, rot_type=RotType.Physical)\n",
    "await latiss.take_engtest(30.0, 1)"
   ]
  },
  {
   "cell_type": "markdown",
   "id": "7bde88e4-4930-4974-9814-da2824f3aa99",
   "metadata": {},
   "source": [
    "## At this point Braulio tried to stop the velocity loop.  This caused it to stop tracking in azimuth."
   ]
  },
  {
   "cell_type": "code",
   "execution_count": null,
   "id": "a22ba123-4d07-4fee-ae28-1f7a8d71577a",
   "metadata": {
    "execution": {
     "iopub.execute_input": "2024-09-11T13:33:46.187798Z",
     "iopub.status.busy": "2024-09-11T13:33:46.187459Z",
     "iopub.status.idle": "2024-09-11T13:34:18.928476Z",
     "shell.execute_reply": "2024-09-11T13:34:18.927992Z",
     "shell.execute_reply.started": "2024-09-11T13:33:46.187782Z"
    }
   },
   "outputs": [],
   "source": [
    "await latiss.take_engtest(30.0, 1)"
   ]
  },
  {
   "cell_type": "code",
   "execution_count": null,
   "id": "194ec82d-0577-499e-ab05-50dbdb605047",
   "metadata": {
    "execution": {
     "iopub.execute_input": "2024-09-11T13:44:11.023576Z",
     "iopub.status.busy": "2024-09-11T13:44:11.022964Z",
     "iopub.status.idle": "2024-09-11T13:45:07.182428Z",
     "shell.execute_reply": "2024-09-11T13:45:07.181945Z",
     "shell.execute_reply.started": "2024-09-11T13:44:11.023556Z"
    }
   },
   "outputs": [],
   "source": [
    "# Move to starting location\n",
    "coord=atcs.radec_from_azel(az=195, el=45)\n",
    "await atcs.slew_icrs(coord.ra, coord.dec, rot=0.0, rot_type=RotType.Physical)\n",
    "await latiss.take_engtest(30.0, 1)"
   ]
  },
  {
   "cell_type": "code",
   "execution_count": null,
   "id": "5e508ef3-4a8f-4b40-bfc4-4e1693912948",
   "metadata": {
    "execution": {
     "iopub.execute_input": "2024-09-11T13:45:34.471753Z",
     "iopub.status.busy": "2024-09-11T13:45:34.471193Z",
     "iopub.status.idle": "2024-09-11T13:46:07.210284Z",
     "shell.execute_reply": "2024-09-11T13:46:07.209762Z",
     "shell.execute_reply.started": "2024-09-11T13:45:34.471735Z"
    }
   },
   "outputs": [],
   "source": [
    "await latiss.take_engtest(30.0, 1)"
   ]
  },
  {
   "cell_type": "code",
   "execution_count": null,
   "id": "85725ac1-6800-4c99-9dfb-963c7fdc5577",
   "metadata": {
    "execution": {
     "iopub.execute_input": "2024-09-11T13:46:31.303010Z",
     "iopub.status.busy": "2024-09-11T13:46:31.302416Z",
     "iopub.status.idle": "2024-09-11T13:47:04.031672Z",
     "shell.execute_reply": "2024-09-11T13:47:04.031175Z",
     "shell.execute_reply.started": "2024-09-11T13:46:31.302990Z"
    }
   },
   "outputs": [],
   "source": [
    "await latiss.take_engtest(30.0, 1)"
   ]
  },
  {
   "cell_type": "markdown",
   "id": "5a779967-e58e-4346-9087-8ddcac900e4d",
   "metadata": {},
   "source": [
    "## At this point Braulio tried to stop the velocity loop.  This caused it to stop tracking in azimuth.\n",
    "## He then put it into a constant velocity mode. This again stopped the azimuth axis."
   ]
  },
  {
   "cell_type": "code",
   "execution_count": null,
   "id": "aa8d9e34-ba72-4bd0-885c-23f67c6e1ae9",
   "metadata": {
    "execution": {
     "iopub.execute_input": "2024-09-11T13:56:01.608588Z",
     "iopub.status.busy": "2024-09-11T13:56:01.608143Z",
     "iopub.status.idle": "2024-09-11T14:00:07.353425Z",
     "shell.execute_reply": "2024-09-11T14:00:07.352659Z",
     "shell.execute_reply.started": "2024-09-11T13:56:01.608569Z"
    },
    "jupyter": {
     "outputs_hidden": true
    }
   },
   "outputs": [],
   "source": [
    "# Move to starting location\n",
    "coord=atcs.radec_from_azel(az=195.18, el=45)\n",
    "await atcs.slew_icrs(coord.ra, coord.dec, rot=0.0, rot_type=RotType.Physical)\n",
    "await latiss.take_engtest(30.0, 1)"
   ]
  },
  {
   "cell_type": "code",
   "execution_count": null,
   "id": "4fb47522-a706-45e5-b84c-96d15497a0be",
   "metadata": {},
   "outputs": [],
   "source": []
  },
  {
   "cell_type": "code",
   "execution_count": null,
   "id": "58009d48-693f-452a-b497-ccc6008c1975",
   "metadata": {},
   "outputs": [],
   "source": []
  }
 ],
 "metadata": {
  "kernelspec": {
   "display_name": "LSST",
   "language": "python",
   "name": "lsst"
  },
  "language_info": {
   "codemirror_mode": {
    "name": "ipython",
    "version": 3
   },
   "file_extension": ".py",
   "mimetype": "text/x-python",
   "name": "python",
   "nbconvert_exporter": "python",
   "pygments_lexer": "ipython3",
   "version": "3.11.10"
  }
 },
 "nbformat": 4,
 "nbformat_minor": 5
}
