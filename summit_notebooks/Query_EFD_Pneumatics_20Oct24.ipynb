{
 "cells": [
  {
   "cell_type": "markdown",
   "metadata": {},
   "source": [
    "# Query the EFD for ATPneumatics commands\n",
    "\n",
    "Craig Lage - 18-Oct-24"
   ]
  },
  {
   "cell_type": "code",
   "execution_count": null,
   "metadata": {
    "execution": {
     "iopub.execute_input": "2024-11-05T20:07:55.402956Z",
     "iopub.status.busy": "2024-11-05T20:07:55.402269Z",
     "iopub.status.idle": "2024-11-05T20:07:56.240731Z",
     "shell.execute_reply": "2024-11-05T20:07:56.240088Z",
     "shell.execute_reply.started": "2024-11-05T20:07:55.402930Z"
    },
    "tags": []
   },
   "outputs": [],
   "source": [
    "import sys, time, os, asyncio, glob\n",
    "import numpy as np\n",
    "import pandas as pd\n",
    "import matplotlib.pyplot as plt\n",
    "from astropy.time import Time, TimeDelta\n",
    "from lsst_efd_client import EfdClient"
   ]
  },
  {
   "cell_type": "code",
   "execution_count": null,
   "metadata": {
    "execution": {
     "iopub.execute_input": "2024-11-05T20:07:57.194085Z",
     "iopub.status.busy": "2024-11-05T20:07:57.193553Z",
     "iopub.status.idle": "2024-11-05T20:07:58.245352Z",
     "shell.execute_reply": "2024-11-05T20:07:58.244808Z",
     "shell.execute_reply.started": "2024-11-05T20:07:57.194060Z"
    },
    "tags": []
   },
   "outputs": [],
   "source": [
    "client = EfdClient('summit_efd') # 'usdf_efd' at USDF"
   ]
  },
  {
   "cell_type": "markdown",
   "metadata": {},
   "source": [
    "# Queries"
   ]
  },
  {
   "cell_type": "code",
   "execution_count": null,
   "metadata": {
    "execution": {
     "iopub.execute_input": "2024-10-21T13:31:18.599765Z",
     "iopub.status.busy": "2024-10-21T13:31:18.599240Z",
     "iopub.status.idle": "2024-10-21T13:31:18.838093Z",
     "shell.execute_reply": "2024-10-21T13:31:18.837578Z",
     "shell.execute_reply.started": "2024-10-21T13:31:18.599745Z"
    }
   },
   "outputs": [],
   "source": [
    "start = Time(\"2024-10-18 12:10:00Z\", scale='utc')\n",
    "end = Time(\"2024-10-18 13:50:00Z\", scale='utc')\n",
    "events = []\n",
    "topics = await client.get_topics()\n",
    "for topic in topics:\n",
    "    if 'ATPneumatics' in topic and (('command' in topic) or ('logevent' in topic)) and 'heartbeat' not in topic:\n",
    "        events.append(topic)\n",
    "all_events = []        \n",
    "for event in events:\n",
    "    data = await client.select_time_series(event, ['*'], start, end)\n",
    "    for i in range(len(data)):\n",
    "        if event == \"lsst.sal.ATPneumatics.logevent_logMessage\":\n",
    "            pass\n",
    "            #all_events.append([data.index[i].to_julian_date(), data.index[i].isoformat(), event, data['message'].iloc[i]])\n",
    "        elif 'value' in list(data.columns):\n",
    "            all_events.append([data.index[i].to_julian_date(), data.index[i].isoformat(), event, data['value'].iloc[i]])\n",
    "        elif 'state' in list(data.columns):\n",
    "            all_events.append([data.index[i].to_julian_date(), data.index[i].isoformat(), event, data['state'].iloc[i]])\n",
    "        elif 'summaryState' in list(data.columns):\n",
    "            all_events.append([data.index[i].to_julian_date(), data.index[i].isoformat(), event, data['summaryState'].iloc[i]])\n",
    "        elif 'pressure' in list(data.columns):\n",
    "            all_events.append([data.index[i].to_julian_date(), data.index[i].isoformat(), event, data['pressure'].iloc[i]])\n",
    "        else:            \n",
    "            all_events.append([data.index[i].to_julian_date(), data.index[i].isoformat(), event])\n",
    "all_events = sorted(all_events)\n",
    "print(len(all_events))"
   ]
  },
  {
   "cell_type": "code",
   "execution_count": null,
   "metadata": {
    "execution": {
     "iopub.execute_input": "2024-10-21T13:31:20.060675Z",
     "iopub.status.busy": "2024-10-21T13:31:20.059902Z",
     "iopub.status.idle": "2024-10-21T13:31:20.067468Z",
     "shell.execute_reply": "2024-10-21T13:31:20.066909Z",
     "shell.execute_reply.started": "2024-10-21T13:31:20.060652Z"
    }
   },
   "outputs": [],
   "source": [
    "file = open(\"/home/cslage/DATA/ATPneumatics_Events_No_logevents_20Oct24\", \"w\")    \n",
    "for e in all_events:\n",
    "    #if e[2] == 'lsst.sal.ATPneumatics.logevent_logMessage':\n",
    "    #    continue\n",
    "    if len(e) == 4:\n",
    "        file.write(f\"{e[1]} {e[2]} {e[3]} \\n\")\n",
    "    else:\n",
    "        file.write(f\"{e[1]} {e[2]} \\n\")\n",
    "\n",
    "file.close()"
   ]
  },
  {
   "cell_type": "code",
   "execution_count": null,
   "metadata": {
    "execution": {
     "iopub.execute_input": "2024-10-23T12:48:49.121769Z",
     "iopub.status.busy": "2024-10-23T12:48:49.121376Z",
     "iopub.status.idle": "2024-10-23T12:48:49.362592Z",
     "shell.execute_reply": "2024-10-23T12:48:49.362179Z",
     "shell.execute_reply.started": "2024-10-23T12:48:49.121747Z"
    }
   },
   "outputs": [],
   "source": [
    "start = Time(\"2024-10-23 12:44:00Z\", scale='utc')\n",
    "end = Time(\"2024-10-23 13:00:00Z\", scale='utc')\n",
    "events = []\n",
    "topics = await client.get_topics()\n",
    "for topic in topics:\n",
    "    if 'ATMCS' in topic and (('command' in topic) or ('logevent' in topic)) and 'heartbeat' not in topic:\n",
    "        events.append(topic)\n",
    "all_events = []        \n",
    "for event in events:\n",
    "    data = await client.select_time_series(event, ['*'], start, end)\n",
    "    for i in range(len(data)):\n",
    "        if event == \"lsst.sal.ATMCS.logevent_logMessage\":\n",
    "            #pass\n",
    "            all_events.append([data.index[i].to_julian_date(), data.index[i].isoformat(), event, data['message'].iloc[i]])\n",
    "        elif 'value' in list(data.columns):\n",
    "            all_events.append([data.index[i].to_julian_date(), data.index[i].isoformat(), event, data['value'].iloc[i]])\n",
    "        elif 'state' in list(data.columns):\n",
    "            all_events.append([data.index[i].to_julian_date(), data.index[i].isoformat(), event, data['state'].iloc[i]])\n",
    "        elif 'summaryState' in list(data.columns):\n",
    "            all_events.append([data.index[i].to_julian_date(), data.index[i].isoformat(), event, data['summaryState'].iloc[i]])\n",
    "        elif 'pressure' in list(data.columns):\n",
    "            all_events.append([data.index[i].to_julian_date(), data.index[i].isoformat(), event, data['pressure'].iloc[i]])\n",
    "        else:            \n",
    "            all_events.append([data.index[i].to_julian_date(), data.index[i].isoformat(), event])\n",
    "all_events = sorted(all_events)\n",
    "print(len(all_events))"
   ]
  },
  {
   "cell_type": "code",
   "execution_count": null,
   "metadata": {
    "execution": {
     "iopub.execute_input": "2024-10-23T12:48:52.589528Z",
     "iopub.status.busy": "2024-10-23T12:48:52.589163Z",
     "iopub.status.idle": "2024-10-23T12:48:52.594005Z",
     "shell.execute_reply": "2024-10-23T12:48:52.593591Z",
     "shell.execute_reply.started": "2024-10-23T12:48:52.589505Z"
    }
   },
   "outputs": [],
   "source": [
    "file = open(\"/home/cslage/DATA/ATMCS_Events_With_logmessages_23Oct24\", \"w\")    \n",
    "for e in all_events:\n",
    "    #if e[2] == 'lsst.sal.ATPneumatics.logevent_logMessage':\n",
    "    #    continue\n",
    "    if len(e) == 4:\n",
    "        file.write(f\"{e[1]} {e[2]} {e[3]} \\n\")\n",
    "    else:\n",
    "        file.write(f\"{e[1]} {e[2]} \\n\")\n",
    "\n",
    "file.close()"
   ]
  },
  {
   "cell_type": "code",
   "execution_count": null,
   "metadata": {},
   "outputs": [],
   "source": []
  },
  {
   "cell_type": "code",
   "execution_count": null,
   "metadata": {},
   "outputs": [],
   "source": []
  },
  {
   "cell_type": "code",
   "execution_count": null,
   "metadata": {},
   "outputs": [],
   "source": []
  },
  {
   "cell_type": "code",
   "execution_count": null,
   "metadata": {
    "execution": {
     "iopub.execute_input": "2024-11-05T20:17:34.811477Z",
     "iopub.status.busy": "2024-11-05T20:17:34.811151Z",
     "iopub.status.idle": "2024-11-05T20:17:34.827468Z",
     "shell.execute_reply": "2024-11-05T20:17:34.826930Z",
     "shell.execute_reply.started": "2024-11-05T20:17:34.811461Z"
    }
   },
   "outputs": [],
   "source": [
    "start = Time(\"2024-11-04 23:00:00Z\", scale='utc')\n",
    "end = Time(\"2024-11-05 12:00:00Z\", scale='utc')\n",
    "topic = 'lsst.sal.MTDomeTrajectory.logevent_telescopeVignetted'\n",
    "data = await client.select_time_series(topic, ['*'], start, end)\n"
   ]
  },
  {
   "cell_type": "code",
   "execution_count": null,
   "metadata": {
    "execution": {
     "iopub.execute_input": "2024-11-05T20:17:37.408243Z",
     "iopub.status.busy": "2024-11-05T20:17:37.407899Z",
     "iopub.status.idle": "2024-11-05T20:17:37.412185Z",
     "shell.execute_reply": "2024-11-05T20:17:37.411681Z",
     "shell.execute_reply.started": "2024-11-05T20:17:37.408225Z"
    }
   },
   "outputs": [],
   "source": [
    "len(data)"
   ]
  },
  {
   "cell_type": "code",
   "execution_count": null,
   "metadata": {
    "execution": {
     "iopub.execute_input": "2024-11-05T20:13:22.235163Z",
     "iopub.status.busy": "2024-11-05T20:13:22.234841Z",
     "iopub.status.idle": "2024-11-05T20:13:22.239063Z",
     "shell.execute_reply": "2024-11-05T20:13:22.238612Z",
     "shell.execute_reply.started": "2024-11-05T20:13:22.235146Z"
    }
   },
   "outputs": [],
   "source": [
    "data.columns"
   ]
  },
  {
   "cell_type": "code",
   "execution_count": null,
   "metadata": {
    "execution": {
     "iopub.execute_input": "2024-11-05T20:17:40.611690Z",
     "iopub.status.busy": "2024-11-05T20:17:40.611008Z",
     "iopub.status.idle": "2024-11-05T20:17:40.616013Z",
     "shell.execute_reply": "2024-11-05T20:17:40.615504Z",
     "shell.execute_reply.started": "2024-11-05T20:17:40.611670Z"
    }
   },
   "outputs": [],
   "source": [
    "data['vignetted']"
   ]
  },
  {
   "cell_type": "code",
   "execution_count": null,
   "metadata": {
    "execution": {
     "iopub.execute_input": "2024-11-05T20:17:50.039479Z",
     "iopub.status.busy": "2024-11-05T20:17:50.039157Z",
     "iopub.status.idle": "2024-11-05T20:17:50.049995Z",
     "shell.execute_reply": "2024-11-05T20:17:50.049476Z",
     "shell.execute_reply.started": "2024-11-05T20:17:50.039461Z"
    }
   },
   "outputs": [],
   "source": [
    "data.tail(12)"
   ]
  },
  {
   "cell_type": "code",
   "execution_count": null,
   "metadata": {},
   "outputs": [],
   "source": []
  }
 ],
 "metadata": {
  "kernelspec": {
   "display_name": "LSST",
   "language": "python",
   "name": "lsst"
  },
  "language_info": {
   "codemirror_mode": {
    "name": "ipython",
    "version": 3
   },
   "file_extension": ".py",
   "mimetype": "text/x-python",
   "name": "python",
   "nbconvert_exporter": "python",
   "pygments_lexer": "ipython3",
   "version": "3.11.10"
  }
 },
 "nbformat": 4,
 "nbformat_minor": 4
}
