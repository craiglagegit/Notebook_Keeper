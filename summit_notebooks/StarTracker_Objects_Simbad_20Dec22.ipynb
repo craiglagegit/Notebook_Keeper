{
 "cells": [
  {
   "cell_type": "markdown",
   "metadata": {},
   "source": [
    "## StarTracker WCS solutions - 20-Dec-22\n",
    "\n",
    "Craig Lage - Reworked to work with the new summit_utils code"
   ]
  },
  {
   "cell_type": "code",
   "execution_count": null,
   "metadata": {
    "execution": {
     "iopub.execute_input": "2022-12-20T19:06:09.370459Z",
     "iopub.status.busy": "2022-12-20T19:06:09.370178Z",
     "iopub.status.idle": "2022-12-20T19:06:13.130125Z",
     "shell.execute_reply": "2022-12-20T19:06:13.129535Z",
     "shell.execute_reply.started": "2022-12-20T19:06:09.370441Z"
    },
    "tags": []
   },
   "outputs": [],
   "source": [
    "import sys, time, os, asyncio, glob\n",
    "from datetime import datetime\n",
    "import numpy as np\n",
    "import matplotlib.pyplot as plt\n",
    "import astropy.io.fits as pf\n",
    "from astropy.time import Time, TimeDelta\n",
    "from astropy.coordinates import AltAz, ICRS, EarthLocation, Angle, FK5, SkyCoord\n",
    "import astropy.units as u\n",
    "from lsst.obs.lsst.translators.latiss import AUXTEL_LOCATION\n",
    "from lsst.obs.lsst.translators.lsst import SIMONYI_LOCATION\n",
    "\n",
    "import lsst.afw.image as afwImage\n",
    "from lsst.geom import SpherePoint\n",
    "from lsst.geom import Angle as afwAngle\n",
    "from astroquery.simbad import Simbad\n",
    "\n",
    "from lsst.summit.utils.utils import starTrackerFileToExposure\n",
    "from lsst.summit.utils.astrometry.anet import CommandLineSolver\n",
    "from lsst.summit.utils.astrometry.utils import runCharactierizeImage"
   ]
  },
  {
   "cell_type": "code",
   "execution_count": null,
   "metadata": {
    "execution": {
     "iopub.execute_input": "2022-12-20T19:06:13.137519Z",
     "iopub.status.busy": "2022-12-20T19:06:13.137369Z",
     "iopub.status.idle": "2022-12-20T19:06:13.145489Z",
     "shell.execute_reply": "2022-12-20T19:06:13.144954Z",
     "shell.execute_reply.started": "2022-12-20T19:06:13.137499Z"
    },
    "tags": []
   },
   "outputs": [],
   "source": [
    "solver = CommandLineSolver('/project/shared/ref_cats/astrometry_net/')"
   ]
  },
  {
   "cell_type": "code",
   "execution_count": null,
   "metadata": {
    "execution": {
     "iopub.execute_input": "2022-12-20T19:11:52.232006Z",
     "iopub.status.busy": "2022-12-20T19:11:52.231727Z",
     "iopub.status.idle": "2022-12-20T19:12:02.791190Z",
     "shell.execute_reply": "2022-12-20T19:12:02.790734Z",
     "shell.execute_reply.started": "2022-12-20T19:11:52.231989Z"
    },
    "tags": []
   },
   "outputs": [],
   "source": [
    "[camera, num] = ['Wide', 101]\n",
    "date = 7  # This is December 8 - need to edit by hand to get November dates\n",
    "seqNum = 17\n",
    "path = f\"/project/GenericCamera/{num}/2022/12/{date:02}/\"\n",
    "print(path)\n",
    "filename = path + f\"GC{num}_O_202212{date:02}_{seqNum:06}.fits\"\n",
    "exp = starTrackerFileToExposure(filename)\n",
    "results = runCharactierizeImage(exp, 5, 25)\n",
    "if camera == 'Narrow':\n",
    "    # Need to loosen percentageScaleError because header SECPIX is wrong\n",
    "    solverResults = solver.run(exp, results.sourceCat, percentageScaleError=60.0, isWideField=False)\n",
    "if camera == 'Wide':\n",
    "    solverResults = solver.run(exp, results.sourceCat, isWideField=True)\n",
    "newWcs = solverResults.wcs\n",
    "rms_error = solverResults.rmsErrorArsec\n",
    "raSolve = newWcs.getSkyOrigin().getRa().asDegrees()\n",
    "decSolve = newWcs.getSkyOrigin().getDec().asDegrees()\n",
    "\n",
    "hdulist = pf.open(filename)\n",
    "header = hdulist[0].header\n",
    "raStart = header[\"RASTART\"]\n",
    "decStart = header[\"DECSTART\"]\n",
    "azStart = header[\"AZSTART\"]\n",
    "#azStart = 360.0 - azStart # Compensating for Az sign error\n",
    "if azStart > 360.0:\n",
    "    azStart -= 360.0\n",
    "if azStart < 0.0:\n",
    "    azStart += 360.0\n",
    "\n",
    "elStart = header[\"ELSTART\"]\n",
    "rotpa = header[\"ROTPA\"]\n",
    "rot = newWcs.getRelativeRotationToWcs(exp.getWcs()).asDegrees()\n",
    "time = Time(header[\"DATE-OBS\"], scale='tai')\n",
    "altAz = AltAz(obstime=time, location=SIMONYI_LOCATION)\n",
    "skyLocation = SkyCoord(raSolve * u.deg, decSolve * u.deg)\n",
    "obsAltAz = skyLocation.transform_to(altAz)\n",
    "az = obsAltAz.az.deg\n",
    "el = obsAltAz.alt.deg\n",
    "deltaAz = azStart - az\n",
    "if deltaAz > 360.0:\n",
    "    deltaAz -= 360.0\n",
    "if deltaAz < 0.0:\n",
    "    deltaAz += 360.0\n",
    "deltaEl = elStart - el\n",
    "print(f\"{camera}, 202212{date:02}_{seqNum}, {deltaAz:.5f}, {deltaEl:.5f}\")\n",
    "\n",
    "# Now find objects within the image\n",
    "r=3.0\n",
    "mag_limit = 0.0\n",
    "mag_range = 7.5\n",
    "criteria = (f\"region(circle,ICRS,{raSolve} {decSolve},{r}d) & \"\n",
    "            f\"Vmag > {mag_limit} & Vmag < {mag_limit+mag_range} & \"\n",
    "            \"cat = HD\")\n",
    "results = Simbad.query_criteria(criteria)\n",
    "print(results)\n",
    "xs = []\n",
    "ys = []\n",
    "names = []\n",
    "for i in range(len(results)):\n",
    "    ra = Angle(results[i][1] + 'hours')\n",
    "    dec = Angle(results[i][2] + 'degrees')\n",
    "    spherePoint = SpherePoint(afwAngle(ra.rad), afwAngle(dec.rad))\n",
    "    point = newWcs.skyToPixel(spherePoint)\n",
    "    xs.append(point.x)\n",
    "    ys.append(point.y)\n",
    "    name = results[i][0]\n",
    "    names.append(name)"
   ]
  },
  {
   "cell_type": "code",
   "execution_count": null,
   "metadata": {},
   "outputs": [],
   "source": []
  },
  {
   "cell_type": "code",
   "execution_count": null,
   "metadata": {
    "execution": {
     "iopub.execute_input": "2022-12-20T19:12:34.521435Z",
     "iopub.status.busy": "2022-12-20T19:12:34.521150Z",
     "iopub.status.idle": "2022-12-20T19:12:35.586681Z",
     "shell.execute_reply": "2022-12-20T19:12:35.586211Z",
     "shell.execute_reply.started": "2022-12-20T19:12:34.521418Z"
    },
    "tags": []
   },
   "outputs": [],
   "source": [
    "# Now plot the data with matplotlib\n",
    "%matplotlib inline\n",
    "def colorbar(mappable):\n",
    "    from mpl_toolkits.axes_grid1 import make_axes_locatable\n",
    "    last_axes = plt.gca()\n",
    "    ax = mappable.axes\n",
    "    fig = ax.figure\n",
    "    divider = make_axes_locatable(ax)\n",
    "    cax = divider.append_axes(\"right\", size=\"5%\", pad=0.05)\n",
    "    cbar = fig.colorbar(mappable, cax=cax)\n",
    "    plt.sca(last_axes)\n",
    "    return cbar\n",
    "\n",
    "plt.figure(figsize=(16,16))\n",
    "plt.title(\"StarTracker Wide Field\")\n",
    "img = plt.imshow(exp.image.array,  interpolation='Nearest', cmap='gray')\n",
    "plt.scatter(xs, ys\\\n",
    "            ,facecolors='none', edgecolors='g', s=200, lw=2)\n",
    "for x, y, name in zip(xs, ys, names):\n",
    "    plt.text(x+50,y, name, color='g')\n",
    "colorbar(img)\n",
    "plt.tight_layout(h_pad=1)\n",
    "#plt.savefig(\"/home/craiglagegit/DATA/StarTracker_Labels_Simbad_20221115_28.pdf\")"
   ]
  },
  {
   "cell_type": "code",
   "execution_count": null,
   "metadata": {},
   "outputs": [],
   "source": []
  }
 ],
 "metadata": {
  "kernelspec": {
   "display_name": "LSST",
   "language": "python",
   "name": "lsst"
  },
  "language_info": {
   "codemirror_mode": {
    "name": "ipython",
    "version": 3
   },
   "file_extension": ".py",
   "mimetype": "text/x-python",
   "name": "python",
   "nbconvert_exporter": "python",
   "pygments_lexer": "ipython3",
   "version": "3.10.6"
  }
 },
 "nbformat": 4,
 "nbformat_minor": 4
}
