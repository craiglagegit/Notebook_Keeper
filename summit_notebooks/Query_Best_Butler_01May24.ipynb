{
 "cells": [
  {
   "cell_type": "markdown",
   "id": "43494139-24aa-4d86-888c-1ea119390c5a",
   "metadata": {},
   "source": [
    "## Queries - Gen3\n",
    "\n",
    "This is a summary of learning of ways to query the butler.\\\n",
    "Craig Lage - 01-May-24"
   ]
  },
  {
   "cell_type": "code",
   "execution_count": null,
   "id": "d99be6af-9d1f-4ad8-bc98-3c1753d41560",
   "metadata": {
    "execution": {
     "iopub.execute_input": "2024-05-06T14:50:53.508297Z",
     "iopub.status.busy": "2024-05-06T14:50:53.508127Z",
     "iopub.status.idle": "2024-05-06T14:50:54.217215Z",
     "shell.execute_reply": "2024-05-06T14:50:54.216712Z",
     "shell.execute_reply.started": "2024-05-06T14:50:53.508279Z"
    }
   },
   "outputs": [],
   "source": [
    "import numpy as np\n",
    "import matplotlib.pyplot as plt\n",
    "import astropy.io.fits as pf\n",
    "from astropy.time import Time, TimeDelta\n",
    "import pandas as pd"
   ]
  },
  {
   "cell_type": "code",
   "execution_count": null,
   "id": "45293b45-ba17-487b-99b6-4def6b88dd33",
   "metadata": {
    "execution": {
     "iopub.execute_input": "2024-05-06T14:50:54.220637Z",
     "iopub.status.busy": "2024-05-06T14:50:54.220461Z",
     "iopub.status.idle": "2024-05-06T14:50:55.533270Z",
     "shell.execute_reply": "2024-05-06T14:50:55.532509Z",
     "shell.execute_reply.started": "2024-05-06T14:50:54.220619Z"
    }
   },
   "outputs": [],
   "source": [
    "from lsst.daf.butler import Butler\n",
    "butler = Butler('/repo/LSSTComCam')"
   ]
  },
  {
   "cell_type": "code",
   "execution_count": null,
   "id": "a07642b1-74d6-4506-abf2-7260488f9b5e",
   "metadata": {
    "execution": {
     "iopub.execute_input": "2024-05-02T01:52:22.447923Z",
     "iopub.status.busy": "2024-05-02T01:52:22.447512Z",
     "iopub.status.idle": "2024-05-02T01:52:22.533393Z",
     "shell.execute_reply": "2024-05-02T01:52:22.532588Z",
     "shell.execute_reply.started": "2024-05-02T01:52:22.447888Z"
    },
    "jupyter": {
     "outputs_hidden": true
    }
   },
   "outputs": [],
   "source": [
    "collections = butler.registry.queryCollections()\n",
    "for item in collections:\n",
    "    if \"gmegias\" in item:\n",
    "        print(item)"
   ]
  },
  {
   "cell_type": "code",
   "execution_count": null,
   "id": "6aa02596-bbc1-4a35-b00c-79de839b5f16",
   "metadata": {
    "execution": {
     "iopub.execute_input": "2024-05-02T13:23:23.668985Z",
     "iopub.status.busy": "2024-05-02T13:23:23.668552Z",
     "iopub.status.idle": "2024-05-02T13:23:25.130295Z",
     "shell.execute_reply": "2024-05-02T13:23:25.129487Z",
     "shell.execute_reply.started": "2024-05-02T13:23:23.668953Z"
    },
    "jupyter": {
     "outputs_hidden": true
    }
   },
   "outputs": [],
   "source": [
    "collections = ['/home/gmegias/first_pipeline_test_v8']\n",
    "\n",
    "subbutler = Butler('/repo/LSSTComCam', collections=collections)\n",
    "subregistry = subbutler.registry\n",
    "for dtype in subregistry.queryDatasetTypes()[:]:\n",
    "    try:\n",
    "        datasetRefs = list(subregistry.queryDatasets(datasetType=dtype,collections=collections))  \n",
    "        if len(datasetRefs) > 0:\n",
    "            print(len(datasetRefs), dtype )\n",
    "    except:\n",
    "        print(\"Error\", dtype )"
   ]
  },
  {
   "cell_type": "code",
   "execution_count": null,
   "id": "4a550d3c-6c04-4672-adad-9451483516ef",
   "metadata": {
    "execution": {
     "iopub.execute_input": "2024-05-02T15:03:42.414222Z",
     "iopub.status.busy": "2024-05-02T15:03:42.413458Z",
     "iopub.status.idle": "2024-05-02T15:03:42.430781Z",
     "shell.execute_reply": "2024-05-02T15:03:42.430101Z",
     "shell.execute_reply.started": "2024-05-02T15:03:42.414192Z"
    },
    "jupyter": {
     "outputs_hidden": true
    }
   },
   "outputs": [],
   "source": [
    "datasetRef = list(subregistry.queryDatasets(datasetType='zernikeEstimateAvg',collections=collections))\n",
    "datasetRef"
   ]
  },
  {
   "cell_type": "code",
   "execution_count": null,
   "id": "3f3a8e53-e7e1-4c15-a1cd-0155216d3031",
   "metadata": {
    "execution": {
     "iopub.execute_input": "2024-05-02T01:52:32.080399Z",
     "iopub.status.busy": "2024-05-02T01:52:32.080023Z",
     "iopub.status.idle": "2024-05-02T01:52:32.116035Z",
     "shell.execute_reply": "2024-05-02T01:52:32.115153Z",
     "shell.execute_reply.started": "2024-05-02T01:52:32.080370Z"
    }
   },
   "outputs": [],
   "source": [
    "zEstAvg = subbutler.get('zernikeEstimateAvg',  visit=7024043000045, detector=3)\n",
    "zEstAvg"
   ]
  },
  {
   "cell_type": "code",
   "execution_count": null,
   "id": "bd03c0a3-7158-4792-b3b0-e6265180482f",
   "metadata": {
    "execution": {
     "iopub.execute_input": "2024-05-02T01:52:38.813708Z",
     "iopub.status.busy": "2024-05-02T01:52:38.812909Z",
     "iopub.status.idle": "2024-05-02T01:52:38.835275Z",
     "shell.execute_reply": "2024-05-02T01:52:38.834411Z",
     "shell.execute_reply.started": "2024-05-02T01:52:38.813676Z"
    },
    "jupyter": {
     "outputs_hidden": true
    }
   },
   "outputs": [],
   "source": [
    "datasetRef = list(subregistry.queryDatasets(datasetType='donutStampsIntra',collections=collections))\n",
    "datasetRef"
   ]
  },
  {
   "cell_type": "code",
   "execution_count": null,
   "id": "f67878cb-d065-4079-b8b3-3bf700807e05",
   "metadata": {
    "execution": {
     "iopub.execute_input": "2024-05-02T14:57:34.555836Z",
     "iopub.status.busy": "2024-05-02T14:57:34.555466Z",
     "iopub.status.idle": "2024-05-02T14:57:37.961287Z",
     "shell.execute_reply": "2024-05-02T14:57:37.960552Z",
     "shell.execute_reply.started": "2024-05-02T14:57:34.555809Z"
    }
   },
   "outputs": [],
   "source": [
    "stampIntra = subbutler.get('donutStampsIntra',  instrument='LSSTComCamSim', visit=7024043000045, detector=4)"
   ]
  },
  {
   "cell_type": "code",
   "execution_count": null,
   "id": "ca96f119-1061-4546-beed-d3bf5bb77aeb",
   "metadata": {
    "execution": {
     "iopub.execute_input": "2024-05-02T14:57:38.312358Z",
     "iopub.status.busy": "2024-05-02T14:57:38.312163Z",
     "iopub.status.idle": "2024-05-02T14:57:38.317035Z",
     "shell.execute_reply": "2024-05-02T14:57:38.316418Z",
     "shell.execute_reply.started": "2024-05-02T14:57:38.312342Z"
    }
   },
   "outputs": [],
   "source": [
    "stampsIntra = stampIntra.getMaskedImages()\n",
    "len(stampsIntra)"
   ]
  },
  {
   "cell_type": "code",
   "execution_count": null,
   "id": "c7b0841b-cc62-4f96-bc04-9f1d28ab7411",
   "metadata": {
    "execution": {
     "iopub.execute_input": "2024-05-02T15:06:45.963837Z",
     "iopub.status.busy": "2024-05-02T15:06:45.963359Z",
     "iopub.status.idle": "2024-05-02T15:06:46.214375Z",
     "shell.execute_reply": "2024-05-02T15:06:46.213788Z",
     "shell.execute_reply.started": "2024-05-02T15:06:45.963811Z"
    }
   },
   "outputs": [],
   "source": [
    "%matplotlib inline\n",
    "from lsst.summit.utils.plotting import plot\n",
    "x = plot(stampsIntra[0])"
   ]
  },
  {
   "cell_type": "code",
   "execution_count": null,
   "id": "e97dbe82-0fa1-4c13-a105-b0315ce31816",
   "metadata": {
    "execution": {
     "iopub.execute_input": "2024-05-02T14:57:45.231399Z",
     "iopub.status.busy": "2024-05-02T14:57:45.230835Z",
     "iopub.status.idle": "2024-05-02T14:57:46.014085Z",
     "shell.execute_reply": "2024-05-02T14:57:46.013379Z",
     "shell.execute_reply.started": "2024-05-02T14:57:45.231369Z"
    }
   },
   "outputs": [],
   "source": [
    "stampExtra = subbutler.get('donutStampsExtra',  instrument='LSSTComCamSim', visit=7024043000045, detector=4)"
   ]
  },
  {
   "cell_type": "code",
   "execution_count": null,
   "id": "de5c9109-3a09-4aa2-898c-7e9030e17d12",
   "metadata": {
    "execution": {
     "iopub.execute_input": "2024-05-02T14:57:46.382400Z",
     "iopub.status.busy": "2024-05-02T14:57:46.382249Z",
     "iopub.status.idle": "2024-05-02T14:57:46.386171Z",
     "shell.execute_reply": "2024-05-02T14:57:46.385703Z",
     "shell.execute_reply.started": "2024-05-02T14:57:46.382387Z"
    }
   },
   "outputs": [],
   "source": [
    "stampsExtra = stampExtra.getMaskedImages()\n",
    "len(stampsExtra)"
   ]
  },
  {
   "cell_type": "code",
   "execution_count": null,
   "id": "74cf44f4-7b0f-491c-8b52-17b3f0c0bd8e",
   "metadata": {
    "execution": {
     "iopub.execute_input": "2024-05-02T15:06:54.379582Z",
     "iopub.status.busy": "2024-05-02T15:06:54.378903Z",
     "iopub.status.idle": "2024-05-02T15:06:54.635462Z",
     "shell.execute_reply": "2024-05-02T15:06:54.635063Z",
     "shell.execute_reply.started": "2024-05-02T15:06:54.379554Z"
    }
   },
   "outputs": [],
   "source": [
    "%matplotlib inline\n",
    "from lsst.summit.utils.plotting import plot\n",
    "y = plot(stampsExtra[0])"
   ]
  },
  {
   "cell_type": "code",
   "execution_count": null,
   "id": "8de1ff49-1f84-4d9d-ac47-a8c6c051f1a0",
   "metadata": {
    "execution": {
     "iopub.execute_input": "2024-05-01T22:59:28.419556Z",
     "iopub.status.busy": "2024-05-01T22:59:28.419170Z",
     "iopub.status.idle": "2024-05-01T22:59:28.661424Z",
     "shell.execute_reply": "2024-05-01T22:59:28.661002Z",
     "shell.execute_reply.started": "2024-05-01T22:59:28.419526Z"
    }
   },
   "outputs": [],
   "source": [
    "donutCat = subbutler.get('donutCatalog',  visit=7024043000045, detector=3)\n",
    "donutCat"
   ]
  },
  {
   "cell_type": "code",
   "execution_count": null,
   "id": "ba5afdb3-eb34-4604-8631-18fd49cbeed8",
   "metadata": {
    "execution": {
     "iopub.execute_input": "2024-05-02T13:24:47.608115Z",
     "iopub.status.busy": "2024-05-02T13:24:47.607711Z",
     "iopub.status.idle": "2024-05-02T13:24:47.631589Z",
     "shell.execute_reply": "2024-05-02T13:24:47.630876Z",
     "shell.execute_reply.started": "2024-05-02T13:24:47.608086Z"
    }
   },
   "outputs": [],
   "source": [
    "uri = subbutler.getURI('donutStampsIntra',  instrument='LSSTComCamSim', visit=7024043000045, detector=3)\n",
    "uri"
   ]
  },
  {
   "cell_type": "code",
   "execution_count": null,
   "id": "f72b8e27-01d6-4482-b27d-e6db2dcb15ca",
   "metadata": {},
   "outputs": [],
   "source": [
    "from lsst.resources import ResourcePath\n",
    "local = ResourcePath(uri.basename())\n",
    "local.transfer_from(uri, transfer='copy')"
   ]
  },
  {
   "cell_type": "code",
   "execution_count": null,
   "id": "892cb2fa-b332-4ea3-b27f-82d1d9097fac",
   "metadata": {
    "execution": {
     "iopub.execute_input": "2024-05-02T15:04:27.921374Z",
     "iopub.status.busy": "2024-05-02T15:04:27.920361Z",
     "iopub.status.idle": "2024-05-02T15:04:27.982437Z",
     "shell.execute_reply": "2024-05-02T15:04:27.981578Z",
     "shell.execute_reply.started": "2024-05-02T15:04:27.921339Z"
    }
   },
   "outputs": [],
   "source": [
    "zlog = subbutler.get('calcZernikesTask_log',  visit=7024043000045, detector=3)\n",
    "zlog"
   ]
  },
  {
   "cell_type": "code",
   "execution_count": null,
   "id": "9e42ae02-be8c-4cfd-99bc-2bec63cc0a06",
   "metadata": {
    "execution": {
     "iopub.execute_input": "2024-05-02T15:05:21.191801Z",
     "iopub.status.busy": "2024-05-02T15:05:21.190980Z",
     "iopub.status.idle": "2024-05-02T15:05:21.283943Z",
     "shell.execute_reply": "2024-05-02T15:05:21.283206Z",
     "shell.execute_reply.started": "2024-05-02T15:05:21.191771Z"
    }
   },
   "outputs": [],
   "source": [
    "zmeta = subbutler.get('calcZernikesTask_metadata',  visit=7024043000045, detector=3)\n",
    "zmeta"
   ]
  },
  {
   "cell_type": "code",
   "execution_count": null,
   "id": "0ce20aad-b72e-4309-8bb8-0a2311c7c00e",
   "metadata": {
    "execution": {
     "iopub.execute_input": "2024-05-06T14:51:34.993200Z",
     "iopub.status.busy": "2024-05-06T14:51:34.992078Z",
     "iopub.status.idle": "2024-05-06T14:51:35.158051Z",
     "shell.execute_reply": "2024-05-06T14:51:35.157207Z",
     "shell.execute_reply.started": "2024-05-06T14:51:34.993161Z"
    }
   },
   "outputs": [],
   "source": [
    "butler = Butler('/repo/LSSTComCam', collections='mtaos_wep_Script:102889_20240502T042949505')\n",
    "registry = butler.registry\n",
    "list_of_collection_estimates = list(registry.queryDatasets('postISRCCD', collections='mtaos_wep_Script:102889_20240502T042949505', detector = 4))\n",
    "print(list_of_collection_estimates[0])"
   ]
  },
  {
   "cell_type": "code",
   "execution_count": null,
   "id": "bc786617-fddf-4b38-9e7f-56c7eecab08c",
   "metadata": {
    "execution": {
     "iopub.execute_input": "2024-05-06T15:06:12.094811Z",
     "iopub.status.busy": "2024-05-06T15:06:12.093806Z",
     "iopub.status.idle": "2024-05-06T15:06:12.099939Z",
     "shell.execute_reply": "2024-05-06T15:06:12.099289Z",
     "shell.execute_reply.started": "2024-05-06T15:06:12.094773Z"
    }
   },
   "outputs": [],
   "source": [
    "list_of_collection_estimates[0].dimensions.get(\"exposure\")"
   ]
  },
  {
   "cell_type": "code",
   "execution_count": null,
   "id": "17431e52-665f-48c5-88f2-9037a590b4f0",
   "metadata": {
    "execution": {
     "iopub.execute_input": "2024-05-06T15:06:35.185650Z",
     "iopub.status.busy": "2024-05-06T15:06:35.185244Z",
     "iopub.status.idle": "2024-05-06T15:06:35.191484Z",
     "shell.execute_reply": "2024-05-06T15:06:35.190572Z",
     "shell.execute_reply.started": "2024-05-06T15:06:35.185620Z"
    }
   },
   "outputs": [],
   "source": [
    "for item in list_of_collection_estimates:\n",
    "    exposure = item.to_simple().dict()['dataId']['dataId']['exposure']\n",
    "    print(f\"Exposure = {exposure}\")\n"
   ]
  },
  {
   "cell_type": "code",
   "execution_count": null,
   "id": "db6f08b0-7c90-4947-941b-43b69d9e726f",
   "metadata": {
    "execution": {
     "iopub.execute_input": "2024-05-06T15:06:57.277405Z",
     "iopub.status.busy": "2024-05-06T15:06:57.277058Z",
     "iopub.status.idle": "2024-05-06T15:06:57.791975Z",
     "shell.execute_reply": "2024-05-06T15:06:57.791194Z",
     "shell.execute_reply.started": "2024-05-06T15:06:57.277369Z"
    }
   },
   "outputs": [],
   "source": [
    "thisExp = butler.get(\"postISRCCD\", detector=4, exposure=exposure)\n",
    "thisExp.image.array"
   ]
  },
  {
   "cell_type": "code",
   "execution_count": null,
   "id": "711b6273-a224-4b82-b976-ded09cd1243c",
   "metadata": {
    "execution": {
     "iopub.execute_input": "2024-05-06T15:26:26.973885Z",
     "iopub.status.busy": "2024-05-06T15:26:26.973484Z",
     "iopub.status.idle": "2024-05-06T15:26:30.572395Z",
     "shell.execute_reply": "2024-05-06T15:26:30.571741Z",
     "shell.execute_reply.started": "2024-05-06T15:26:26.973834Z"
    }
   },
   "outputs": [],
   "source": [
    "%matplotlib inline\n",
    "from lsst.summit.utils.plotting import plot\n",
    "plot(thisExp)"
   ]
  },
  {
   "cell_type": "code",
   "execution_count": null,
   "id": "ecf67f79-7ad8-4c8e-ab09-f16c4cf584eb",
   "metadata": {},
   "outputs": [],
   "source": []
  }
 ],
 "metadata": {
  "kernelspec": {
   "display_name": "LSST",
   "language": "python",
   "name": "lsst"
  },
  "language_info": {
   "codemirror_mode": {
    "name": "ipython",
    "version": 3
   },
   "file_extension": ".py",
   "mimetype": "text/x-python",
   "name": "python",
   "nbconvert_exporter": "python",
   "pygments_lexer": "ipython3",
   "version": "3.11.9"
  }
 },
 "nbformat": 4,
 "nbformat_minor": 5
}
