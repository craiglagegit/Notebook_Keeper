{
 "cells": [
  {
   "cell_type": "markdown",
   "metadata": {},
   "source": [
    "# Take streaked flats to characterize dust spots on dispersers\n",
    "This notebook will take streaked flats of a bright star \\\n",
    "in an attempt to generate flat fields for the dispersers. \\\n",
    "This is the first try, and may require some iteration.\n",
    "See SITCOM-471 \\\n",
    "Craig Lage - 06Feb23"
   ]
  },
  {
   "cell_type": "code",
   "execution_count": null,
   "metadata": {
    "execution": {
     "iopub.execute_input": "2023-02-15T19:30:44.433552Z",
     "iopub.status.busy": "2023-02-15T19:30:44.433271Z",
     "iopub.status.idle": "2023-02-15T19:30:47.228950Z",
     "shell.execute_reply": "2023-02-15T19:30:47.228465Z",
     "shell.execute_reply.started": "2023-02-15T19:30:44.433535Z"
    },
    "tags": []
   },
   "outputs": [],
   "source": [
    "import sys\n",
    "import asyncio\n",
    "import time\n",
    "import astropy \n",
    "import numpy as np\n",
    "import logging \n",
    "import yaml\n",
    "import os\n",
    "\n",
    "from lsst.ts import salobj\n",
    "\n",
    "from lsst.ts.observatory.control.auxtel.atcs import ATCS\n",
    "from lsst.ts.observatory.control.auxtel.latiss import LATISS\n",
    "from lsst.ts.observatory.control.utils import RotType"
   ]
  },
  {
   "cell_type": "code",
   "execution_count": null,
   "metadata": {
    "execution": {
     "iopub.execute_input": "2023-02-15T19:30:47.234381Z",
     "iopub.status.busy": "2023-02-15T19:30:47.234202Z",
     "iopub.status.idle": "2023-02-15T19:30:47.236849Z",
     "shell.execute_reply": "2023-02-15T19:30:47.236485Z",
     "shell.execute_reply.started": "2023-02-15T19:30:47.234367Z"
    },
    "tags": []
   },
   "outputs": [],
   "source": [
    "stream_handler = logging.StreamHandler(sys.stdout)\n",
    "# if you want logging\n",
    "logger = logging.getLogger()\n",
    "logger.addHandler(stream_handler)\n",
    "logger.level = logging.DEBUG"
   ]
  },
  {
   "cell_type": "markdown",
   "metadata": {},
   "source": [
    "### Instantiate the control classes"
   ]
  },
  {
   "cell_type": "code",
   "execution_count": null,
   "metadata": {
    "execution": {
     "iopub.execute_input": "2023-02-15T19:30:50.369738Z",
     "iopub.status.busy": "2023-02-15T19:30:50.369460Z",
     "iopub.status.idle": "2023-02-15T19:30:54.892335Z",
     "shell.execute_reply": "2023-02-15T19:30:54.889628Z",
     "shell.execute_reply.started": "2023-02-15T19:30:50.369721Z"
    },
    "jupyter": {
     "outputs_hidden": true
    },
    "tags": []
   },
   "outputs": [],
   "source": [
    "domain = salobj.Domain()\n",
    "atcs = ATCS(domain)\n",
    "latiss = LATISS(domain)\n",
    "await asyncio.gather(atcs.start_task, latiss.start_task)"
   ]
  },
  {
   "cell_type": "markdown",
   "metadata": {},
   "source": [
    "## Assumes ATCS and LATISS are enabled and the telescope has run prepare_for_on_sky."
   ]
  },
  {
   "cell_type": "markdown",
   "metadata": {},
   "source": [
    "# Find a bright target\n",
    "\n",
    "In addition to the find_target function below, we have the following list of potential targets:\\\n",
    "HD 2261, RA = 0 hrs\\\n",
    "HD 66811 RA = 8 hrs - Best early in the night\\\n",
    "HD 78647 RA = 9 hrs - Best early in the night\\\n",
    "HD 110304 RA = 12 hrs - Best later in the night\\\n",
    "HD 129056 RA = 14 hrs - Best later in the night\\\n",
    "HD 159532A RA = 18\\\n",
    "HD 214952 RA = 22 hrs\n"
   ]
  },
  {
   "cell_type": "code",
   "execution_count": null,
   "metadata": {
    "execution": {
     "iopub.execute_input": "2023-02-16T01:22:18.490119Z",
     "iopub.status.busy": "2023-02-16T01:22:18.489726Z",
     "iopub.status.idle": "2023-02-16T01:22:18.493027Z",
     "shell.execute_reply": "2023-02-16T01:22:18.492528Z",
     "shell.execute_reply.started": "2023-02-16T01:22:18.490089Z"
    }
   },
   "outputs": [],
   "source": [
    "target_name = 'HD 66811'"
   ]
  },
  {
   "cell_type": "code",
   "execution_count": null,
   "metadata": {
    "tags": []
   },
   "outputs": [],
   "source": [
    "target_name = await atcs.find_target(az=90.0,el=70,mag_limit=2.5)\n",
    "print(target_name)"
   ]
  },
  {
   "cell_type": "markdown",
   "metadata": {},
   "source": [
    "# Now slew to the object\n",
    "### This will also set the correct rotator angle."
   ]
  },
  {
   "cell_type": "code",
   "execution_count": null,
   "metadata": {
    "execution": {
     "iopub.execute_input": "2023-02-16T01:36:53.499002Z",
     "iopub.status.busy": "2023-02-16T01:36:53.498621Z",
     "iopub.status.idle": "2023-02-16T01:37:02.580823Z",
     "shell.execute_reply": "2023-02-16T01:37:02.580383Z",
     "shell.execute_reply.started": "2023-02-16T01:36:53.498984Z"
    },
    "jupyter": {
     "outputs_hidden": true
    },
    "tags": []
   },
   "outputs": [],
   "source": [
    "await atcs.slew_object(target_name, rot=0.0, rot_type=RotType.SkyAuto)"
   ]
  },
  {
   "cell_type": "markdown",
   "metadata": {
    "tags": []
   },
   "source": [
    "# Now take an image.\n",
    "### Verify that the star is centered in the field.  If not, center as needed."
   ]
  },
  {
   "cell_type": "code",
   "execution_count": null,
   "metadata": {
    "execution": {
     "iopub.execute_input": "2023-02-16T01:40:01.258387Z",
     "iopub.status.busy": "2023-02-16T01:40:01.258002Z",
     "iopub.status.idle": "2023-02-16T01:40:08.535935Z",
     "shell.execute_reply": "2023-02-16T01:40:08.535408Z",
     "shell.execute_reply.started": "2023-02-16T01:40:01.258370Z"
    },
    "tags": []
   },
   "outputs": [],
   "source": [
    "#await atcs.offset_xy(x=-175, y=-100) # Move to upper left amp\n",
    "await latiss.take_object(exptime=1.0, n=1, filter='empty_1',grating='empty_1')\n"
   ]
  },
  {
   "cell_type": "markdown",
   "metadata": {
    "tags": []
   },
   "source": [
    "# Now stop tracking and take another image.\n",
    "### This will verify the speed and direction of the trailing."
   ]
  },
  {
   "cell_type": "code",
   "execution_count": null,
   "metadata": {
    "execution": {
     "iopub.execute_input": "2023-02-16T01:40:33.209718Z",
     "iopub.status.busy": "2023-02-16T01:40:33.209376Z",
     "iopub.status.idle": "2023-02-16T01:40:33.463836Z",
     "shell.execute_reply": "2023-02-16T01:40:33.463282Z",
     "shell.execute_reply.started": "2023-02-16T01:40:33.209701Z"
    },
    "tags": []
   },
   "outputs": [],
   "source": [
    "await atcs.stop_tracking()\n",
    "\n"
   ]
  },
  {
   "cell_type": "code",
   "execution_count": null,
   "metadata": {
    "execution": {
     "iopub.execute_input": "2023-02-16T01:40:39.700798Z",
     "iopub.status.busy": "2023-02-16T01:40:39.700395Z",
     "iopub.status.idle": "2023-02-16T01:41:12.720626Z",
     "shell.execute_reply": "2023-02-16T01:41:12.720055Z",
     "shell.execute_reply.started": "2023-02-16T01:40:39.700780Z"
    }
   },
   "outputs": [],
   "source": [
    "await latiss.take_object(exptime=30.0, n=1, filter='empty_1',grating='empty_1')"
   ]
  },
  {
   "cell_type": "code",
   "execution_count": null,
   "metadata": {
    "execution": {
     "iopub.execute_input": "2023-02-16T01:42:59.889030Z",
     "iopub.status.busy": "2023-02-16T01:42:59.888659Z",
     "iopub.status.idle": "2023-02-16T01:43:20.809201Z",
     "shell.execute_reply": "2023-02-16T01:43:20.808641Z",
     "shell.execute_reply.started": "2023-02-16T01:42:59.889012Z"
    },
    "jupyter": {
     "outputs_hidden": true
    },
    "tags": []
   },
   "outputs": [],
   "source": [
    "await atcs.slew_object(target_name, rot=0.0, rot_type=RotType.SkyAuto)\n",
    "await latiss.take_object(exptime=1.0, n=1, filter='empty_1',grating='empty_1')"
   ]
  },
  {
   "cell_type": "markdown",
   "metadata": {
    "tags": []
   },
   "source": [
    "# Now slew back to the object, offset it, stop tracking, and take a trailed image."
   ]
  },
  {
   "cell_type": "code",
   "execution_count": null,
   "metadata": {
    "execution": {
     "iopub.execute_input": "2023-02-16T02:01:11.997497Z",
     "iopub.status.busy": "2023-02-16T02:01:11.996702Z",
     "iopub.status.idle": "2023-02-16T02:03:08.329571Z",
     "shell.execute_reply": "2023-02-16T02:03:08.329154Z",
     "shell.execute_reply.started": "2023-02-16T02:01:11.997477Z"
    },
    "jupyter": {
     "outputs_hidden": true
    },
    "tags": []
   },
   "outputs": [],
   "source": [
    "await atcs.slew_object(target_name, rot=0.0, rot_type=RotType.SkyAuto)\n",
    "await atcs.offset_xy(x=-700, y=150) # Move 500 arcsec off the lower right of the field\n",
    "await atcs.stop_tracking()\n",
    "await latiss.take_object(exptime=90.0, n=1, filter='empty_1',grating='holo4_003')\n"
   ]
  },
  {
   "cell_type": "code",
   "execution_count": null,
   "metadata": {
    "execution": {
     "iopub.execute_input": "2023-02-16T02:05:24.266587Z",
     "iopub.status.busy": "2023-02-16T02:05:24.265757Z",
     "iopub.status.idle": "2023-02-16T02:07:20.392955Z",
     "shell.execute_reply": "2023-02-16T02:07:20.392361Z",
     "shell.execute_reply.started": "2023-02-16T02:05:24.266568Z"
    },
    "tags": []
   },
   "outputs": [],
   "source": [
    "await atcs.slew_object(target_name, rot=0.0, rot_type=RotType.SkyAuto)\n",
    "await atcs.offset_xy(x=-700, y=150) # Move 500 arcsec off the lower right of the field\n",
    "await atcs.stop_tracking()\n",
    "await latiss.take_object(exptime=90.0, n=1, filter='empty_1',grating='blue300lpmm_qn1')\n"
   ]
  },
  {
   "cell_type": "markdown",
   "metadata": {
    "tags": []
   },
   "source": [
    "# Based on the results, take more images with this object and/or try other objects."
   ]
  },
  {
   "cell_type": "code",
   "execution_count": null,
   "metadata": {},
   "outputs": [],
   "source": []
  }
 ],
 "metadata": {
  "kernelspec": {
   "display_name": "LSST",
   "language": "python",
   "name": "lsst"
  },
  "language_info": {
   "codemirror_mode": {
    "name": "ipython",
    "version": 3
   },
   "file_extension": ".py",
   "mimetype": "text/x-python",
   "name": "python",
   "nbconvert_exporter": "python",
   "pygments_lexer": "ipython3",
   "version": "3.10.9"
  }
 },
 "nbformat": 4,
 "nbformat_minor": 4
}
