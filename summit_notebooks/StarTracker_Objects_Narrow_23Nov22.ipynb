{
 "cells": [
  {
   "cell_type": "markdown",
   "metadata": {},
   "source": [
    "## Plotting stars on StarTracker images - 18-Nov-22\n",
    "\n",
    "Craig Lage"
   ]
  },
  {
   "cell_type": "code",
   "execution_count": null,
   "metadata": {},
   "outputs": [],
   "source": [
    "import sys, time, os, asyncio, glob\n",
    "from datetime import datetime\n",
    "import numpy as np\n",
    "import astropy.io.fits as pf\n",
    "import matplotlib.pyplot as plt\n",
    "from astropy.time import Time, TimeDelta\n",
    "from astropy.coordinates import AltAz, ICRS, EarthLocation, Angle, FK5, SkyCoord\n",
    "import astropy.units as u\n",
    "from lsst.obs.lsst.translators.lsst import SIMONYI_LOCATION\n",
    "%matplotlib inline\n",
    "\n",
    "import lsst.afw.image as afwImage\n",
    "from lsst.geom import SpherePoint\n",
    "from lsst.geom import Angle as afwAngle\n",
    "from astroquery.simbad import Simbad\n",
    "from lsst.summit.utils.blindSolving import runImchar, genericCameraHeaderToWcs, CommandLineSolver"
   ]
  },
  {
   "cell_type": "code",
   "execution_count": null,
   "metadata": {},
   "outputs": [],
   "source": [
    "solver = CommandLineSolver(indexFiles='/scratch/mfisherlevine/astrometry_net/broiler.astrometry.net/~dstn/4100',\n",
    "                           checkInParallel=True)\n",
    "\n",
    "path = '/project/GenericCamera/102/2022/11/23/'"
   ]
  },
  {
   "cell_type": "code",
   "execution_count": null,
   "metadata": {},
   "outputs": [],
   "source": [
    "# Get the image and solve for the WCS\n",
    "seqNum = 9\n",
    "filename = path + f'GC102_O_20221123_{seqNum:06}.fits'\n",
    "exp = afwImage.ExposureF(filename)\n",
    "wcs = genericCameraHeaderToWcs(exp)\n",
    "exp.setWcs(wcs)\n",
    "results = runImchar(exp, 5, 25)\n",
    "newWcs = solver.run(exp, results.sourceCat, silent=True)\n",
    "raSolve = newWcs.getSkyOrigin().getRa().asDegrees()\n",
    "decSolve = newWcs.getSkyOrigin().getDec().asDegrees()\n",
    "\"\"\"\n",
    "# Now find objects within the image\n",
    "r=3.0\n",
    "mag_limit = 0.0\n",
    "mag_range = 8.0\n",
    "criteria = (f\"region(circle,ICRS,{raSolve} {decSolve},{r}d) & \"\n",
    "            f\"Vmag > {mag_limit} & Vmag < {mag_limit+mag_range} & \"\n",
    "            \"cat = HD\")\n",
    "results = Simbad.query_criteria(criteria)\n",
    "print(results)\n",
    "xs = []\n",
    "ys = []\n",
    "names = []\n",
    "for i in range(len(results)):\n",
    "    ra = Angle(results[i][1] + 'hours')\n",
    "    dec = Angle(results[i][2] + 'degrees')\n",
    "    spherePoint = SpherePoint(afwAngle(ra.rad), afwAngle(dec.rad))\n",
    "    point = newWcs.skyToPixel(spherePoint)\n",
    "    xs.append(point.x)\n",
    "    ys.append(point.y)\n",
    "    name = results[i][0]\n",
    "    names.append(name)\n",
    "\"\"\""
   ]
  },
  {
   "cell_type": "code",
   "execution_count": null,
   "metadata": {},
   "outputs": [],
   "source": [
    "# Now plot the data with matplotlib\n",
    "%matplotlib inline\n",
    "def colorbar(mappable):\n",
    "    from mpl_toolkits.axes_grid1 import make_axes_locatable\n",
    "    last_axes = plt.gca()\n",
    "    ax = mappable.axes\n",
    "    fig = ax.figure\n",
    "    divider = make_axes_locatable(ax)\n",
    "    cax = divider.append_axes(\"right\", size=\"5%\", pad=0.05)\n",
    "    cbar = fig.colorbar(mappable, cax=cax)\n",
    "    plt.sca(last_axes)\n",
    "    return cbar\n",
    "\n",
    "plt.figure(figsize=(8,8))\n",
    "plt.title(\"StarTracker Wide Field = 20221115 seqNo 28\")\n",
    "img = plt.imshow(exp.image.array,  interpolation='Nearest', cmap='gray')\n",
    "plt.scatter(xs, ys\\\n",
    "            ,facecolors='none', edgecolors='g', s=200, lw=2)\n",
    "for x, y, name in zip(xs, ys, names):\n",
    "    plt.text(x+50,y, name, color='g')\n",
    "colorbar(img)\n",
    "plt.tight_layout(h_pad=1)\n",
    "#plt.savefig(\"/home/craiglagegit/DATA/StarTracker_Labels_Simbad_20221115_28.pdf\")"
   ]
  },
  {
   "cell_type": "code",
   "execution_count": null,
   "metadata": {},
   "outputs": [],
   "source": [
    "print(\"SeqNum RA(header) Dec(header) RA(Solve) Dec(Solve) Az(hdr-fix) El(header) Az(solve) El(solve) DeltaAz DeltaEl Rot\\n\")\n",
    "hdulist = pf.open(filename)\n",
    "header = hdulist[0].header\n",
    "raStart = header[\"RASTART\"]\n",
    "decStart = header[\"DECSTART\"]\n",
    "azStart = header[\"AZSTART\"]\n",
    "azStart = 360.0 - azStart # Compensating for Az sign error\n",
    "elStart = header[\"ELSTART\"]\n",
    "rotpa = header[\"ROTPA\"]\n",
    "rot = newWcs.getRelativeRotationToWcs(wcs).asDegrees()\n",
    "time = Time(header[\"DATE-OBS\"])\n",
    "altAz = AltAz(obstime=time, location=SIMONYI_LOCATION)\n",
    "skyLocation = SkyCoord(raSolve * u.deg, decSolve * u.deg)\n",
    "obsAltAz = skyLocation.transform_to(altAz)\n",
    "az = obsAltAz.az.deg\n",
    "el = obsAltAz.alt.deg\n",
    "deltaAz = azStart - az\n",
    "deltaEl = elStart - el\n",
    "print(f\"{seqNum}      {raStart:.3f}    {decStart:.3f}      {raSolve:.3f}    {decSolve:.3f}    {azStart:.3f}      {elStart:.3f}    {az:.3f}    {el:.3f}   {deltaAz:.3f}   {deltaEl:.3f}  {rot:.3f}\\n\")\n"
   ]
  },
  {
   "cell_type": "code",
   "execution_count": null,
   "metadata": {},
   "outputs": [],
   "source": []
  }
 ],
 "metadata": {
  "kernelspec": {
   "display_name": "LSST",
   "language": "python",
   "name": "lsst"
  },
  "language_info": {
   "codemirror_mode": {
    "name": "ipython",
    "version": 3
   },
   "file_extension": ".py",
   "mimetype": "text/x-python",
   "name": "python",
   "nbconvert_exporter": "python",
   "pygments_lexer": "ipython3",
   "version": "3.10.6"
  }
 },
 "nbformat": 4,
 "nbformat_minor": 4
}
