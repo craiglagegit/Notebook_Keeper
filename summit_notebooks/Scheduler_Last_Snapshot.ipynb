{
 "cells": [
  {
   "cell_type": "code",
   "execution_count": null,
   "id": "f4c805b4-a45e-4fea-8161-949c5b3b9f6e",
   "metadata": {},
   "outputs": [],
   "source": [
    "from lsst.ts import salobj\n",
    "from lsst.ts.idl.enums.Scheduler import SalIndex"
   ]
  },
  {
   "cell_type": "code",
   "execution_count": null,
   "id": "c6bcbe2e-5744-49be-a76b-e856fc334488",
   "metadata": {},
   "outputs": [],
   "source": [
    "domain = salobj.Domain()\n",
    "remote = salobj.Remote(domain, \"Scheduler\", index=SalIndex.AUX_TEL)"
   ]
  },
  {
   "cell_type": "code",
   "execution_count": null,
   "id": "48ffc645-b74c-47fc-a631-c5a1ff3ef882",
   "metadata": {
    "jupyter": {
     "outputs_hidden": true
    },
    "tags": []
   },
   "outputs": [],
   "source": [
    "large_file_object = await remote.evt_largeFileObjectAvailable.aget(timeout=10)"
   ]
  },
  {
   "cell_type": "code",
   "execution_count": null,
   "id": "08731c85-1ade-40c8-b262-54a3e8b9c629",
   "metadata": {},
   "outputs": [],
   "source": [
    "# Switched to using Chronograf instead"
   ]
  }
 ],
 "metadata": {
  "kernelspec": {
   "display_name": "LSST",
   "language": "python",
   "name": "lsst"
  },
  "language_info": {
   "codemirror_mode": {
    "name": "ipython",
    "version": 3
   },
   "file_extension": ".py",
   "mimetype": "text/x-python",
   "name": "python",
   "nbconvert_exporter": "python",
   "pygments_lexer": "ipython3",
   "version": "3.8.13"
  }
 },
 "nbformat": 4,
 "nbformat_minor": 5
}
