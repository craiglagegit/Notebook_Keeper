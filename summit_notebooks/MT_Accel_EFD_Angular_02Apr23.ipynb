{
 "cells": [
  {
   "cell_type": "markdown",
   "id": "153412e6",
   "metadata": {},
   "source": [
    "# MTMount accelerometers\n",
    "Querying MTMount accelerometers \\\n",
    "Craig Lage - 22-Mar-23 \\\n",
    "Edited by Elana Urbach"
   ]
  },
  {
   "cell_type": "code",
   "execution_count": null,
   "id": "fcd0a71e",
   "metadata": {
    "execution": {
     "iopub.execute_input": "2023-04-02T22:59:59.027122Z",
     "iopub.status.busy": "2023-04-02T22:59:59.026761Z",
     "iopub.status.idle": "2023-04-02T22:59:59.519241Z",
     "shell.execute_reply": "2023-04-02T22:59:59.518679Z",
     "shell.execute_reply.started": "2023-04-02T22:59:59.027104Z"
    },
    "tags": []
   },
   "outputs": [],
   "source": [
    "import sys, time, os, asyncio\n",
    "import matplotlib.pyplot as plt\n",
    "import pandas as pd\n",
    "import numpy as np\n",
    "from astropy.time import Time, TimeDelta\n",
    "from scipy.interpolate import UnivariateSpline\n",
    "from lsst_efd_client.efd_helper import EfdClient, merge_packed_time_series"
   ]
  },
  {
   "cell_type": "code",
   "execution_count": null,
   "id": "aed2b09e",
   "metadata": {
    "execution": {
     "iopub.execute_input": "2023-04-02T22:59:59.806595Z",
     "iopub.status.busy": "2023-04-02T22:59:59.806297Z",
     "iopub.status.idle": "2023-04-02T23:00:01.153638Z",
     "shell.execute_reply": "2023-04-02T23:00:01.153108Z",
     "shell.execute_reply.started": "2023-04-02T22:59:59.806577Z"
    },
    "tags": []
   },
   "outputs": [],
   "source": [
    "# Get EFD client\n",
    "client = EfdClient('summit_efd')"
   ]
  },
  {
   "cell_type": "code",
   "execution_count": null,
   "id": "b8c90662-31f2-4da1-8647-01c6fa8e5a45",
   "metadata": {
    "execution": {
     "iopub.execute_input": "2023-04-02T23:00:01.159122Z",
     "iopub.status.busy": "2023-04-02T23:00:01.158946Z",
     "iopub.status.idle": "2023-04-02T23:00:01.162087Z",
     "shell.execute_reply": "2023-04-02T23:00:01.161682Z",
     "shell.execute_reply.started": "2023-04-02T23:00:01.159108Z"
    },
    "tags": []
   },
   "outputs": [],
   "source": [
    "# Times to look at the data\n",
    "# start = Time(\"2023-03-22 08:00:00Z\", scale='utc')\n",
    "# end = Time(\"2023-03-22 08:10:00Z\", scale='utc')\n",
    "\n",
    "start = Time(\"2023-03-22 08:00:00Z\", scale='utc')\n",
    "end = Time(\"2023-03-22 08:30:00Z\", scale='utc')\n"
   ]
  },
  {
   "cell_type": "code",
   "execution_count": null,
   "id": "8a14d41e-cda6-438b-9199-f11ffd8aebd4",
   "metadata": {
    "execution": {
     "iopub.execute_input": "2023-04-02T23:00:02.074003Z",
     "iopub.status.busy": "2023-04-02T23:00:02.073737Z",
     "iopub.status.idle": "2023-04-02T23:00:02.076851Z",
     "shell.execute_reply": "2023-04-02T23:00:02.076469Z",
     "shell.execute_reply.started": "2023-04-02T23:00:02.073986Z"
    },
    "tags": []
   },
   "outputs": [],
   "source": [
    "baseFields = ['accelerationX', 'accelerationY', 'accelerationZ']\n",
    "sensorNames = ['SST top end ring +x -y', 'SST top end ring -x -y', 'SST spider spindle', 'SST M2 surrogate'] \n",
    "TMA_coords_mm = [[3876, -3696, 4653], [-3786, -3786, 4653], [-1275, 602, 5383], [-1882, 0, 4342]]"
   ]
  },
  {
   "cell_type": "code",
   "execution_count": null,
   "id": "daa0f3bb-3c56-4264-87e0-1f3d66dc6d1c",
   "metadata": {
    "execution": {
     "iopub.execute_input": "2023-04-03T10:33:15.551382Z",
     "iopub.status.busy": "2023-04-03T10:33:15.551101Z",
     "iopub.status.idle": "2023-04-03T10:33:15.555377Z",
     "shell.execute_reply": "2023-04-03T10:33:15.554923Z",
     "shell.execute_reply.started": "2023-04-03T10:33:15.551365Z"
    },
    "tags": []
   },
   "outputs": [],
   "source": [
    "def Locations(sensorName):\n",
    "    # This carries the sensor location information\n",
    "    \n",
    "    # These are as specified\n",
    "    if sensorName == 'SST top end ring +x -y':\n",
    "        X = 3.876; Y = -3.696; Z = 4.65\n",
    "    if sensorName == 'SST top end ring -x -y':\n",
    "        X = -3.786; Y = -3.786; Z = 4.653\n",
    "    # These assume the +X and -X are swapped\n",
    "    #if sensorName == 'SST top end ring +x -y':\n",
    "    #    X = -3.786; Y = -3.786; Z = 4.653\n",
    "    #if sensorName == 'SST top end ring -x -y':\n",
    "    #    X = 3.876; Y = -3.696; Z = 4.65\n",
    "    if sensorName == 'SST spider spindle':\n",
    "        X = -1.275; Y = 0.602; Z = 5.383\n",
    "    if sensorName == 'SST M2 surrogate':\n",
    "        X = -1.882; Y = 0.0; Z = 4.342\n",
    "    r_theta = np.sqrt(Z**2 + Y**2)\n",
    "    r_phi = np.sqrt(Z**2 + Y**2 + X**2)\n",
    "    return [X, Y, Z, r_theta, r_phi]\n",
    "    "
   ]
  },
  {
   "cell_type": "markdown",
   "id": "9335c693-dae0-4c1c-900e-61730f6c8572",
   "metadata": {},
   "source": [
    "##  Get all of the data for the selected times"
   ]
  },
  {
   "cell_type": "code",
   "execution_count": null,
   "id": "07eca9b2-9c6b-4d11-b1a2-04f3dc57927c",
   "metadata": {
    "execution": {
     "iopub.execute_input": "2023-04-02T23:00:07.477331Z",
     "iopub.status.busy": "2023-04-02T23:00:07.477057Z",
     "iopub.status.idle": "2023-04-02T23:00:16.137732Z",
     "shell.execute_reply": "2023-04-02T23:00:16.137130Z",
     "shell.execute_reply.started": "2023-04-02T23:00:07.477315Z"
    },
    "tags": []
   },
   "outputs": [],
   "source": [
    "packed_dataframe = await client.select_time_series(\"lsst.sal.ESS.accelerometer\", [\"*\"], start, end)\n",
    "az = await client.select_time_series('lsst.sal.MTMount.azimuth', \\\n",
    "                                        ['actualPosition', 'timestamp'],  start, end)\n",
    "el = await client.select_time_series('lsst.sal.MTMount.elevation', \\\n",
    "                                        ['actualPosition', 'timestamp'],  start, end)"
   ]
  },
  {
   "cell_type": "markdown",
   "id": "df351c57-a238-4bda-a908-03565a90547d",
   "metadata": {},
   "source": [
    "## Now unpack it and plot it by sensor"
   ]
  },
  {
   "cell_type": "code",
   "execution_count": null,
   "id": "abcf3153-27f0-4046-a3ed-669eea81d9f5",
   "metadata": {
    "execution": {
     "iopub.execute_input": "2023-04-02T23:00:22.894541Z",
     "iopub.status.busy": "2023-04-02T23:00:22.894274Z",
     "iopub.status.idle": "2023-04-02T23:00:32.899801Z",
     "shell.execute_reply": "2023-04-02T23:00:32.899302Z",
     "shell.execute_reply.started": "2023-04-02T23:00:22.894525Z"
    },
    "tags": []
   },
   "outputs": [],
   "source": [
    " \n",
    "start = Time(\"2023-03-25T01:26:29\", scale='utc')\n",
    "end = Time(\"2023-03-25T01:46:02\", scale='utc')\n",
    "\n",
    "packed_dataframe = await client.select_time_series(\"lsst.sal.ESS.accelerometer\", [\"*\"], start, end)\n",
    "az = await client.select_time_series('lsst.sal.MTMount.azimuth', \\\n",
    "                                            ['*'],  start, end)\n",
    "el = await client.select_time_series('lsst.sal.MTMount.elevation', \\\n",
    "                                            ['*'],  start, end)    "
   ]
  },
  {
   "cell_type": "code",
   "execution_count": null,
   "id": "058b32cb-acd3-4a17-8676-2cefef1e91af",
   "metadata": {
    "execution": {
     "iopub.execute_input": "2023-04-02T23:00:37.769338Z",
     "iopub.status.busy": "2023-04-02T23:00:37.769058Z",
     "iopub.status.idle": "2023-04-02T23:01:01.679561Z",
     "shell.execute_reply": "2023-04-02T23:01:01.679059Z",
     "shell.execute_reply.started": "2023-04-02T23:00:37.769321Z"
    },
    "tags": []
   },
   "outputs": [],
   "source": [
    "smoothingFactor = 0.2 # In spline creation\n",
    "kernel_size = 200 # In convolution\n",
    "kernel = np.ones(kernel_size) / kernel_size\n",
    "\n",
    "\n",
    "\n",
    "azPs = az['actualPosition'].values\n",
    "azVs = az['actualVelocity'].values\n",
    "azXs = az['timestamp'].values - az['timestamp'].values[0]  \n",
    "elPs = el['actualPosition'].values\n",
    "elVs = el['actualVelocity'].values\n",
    "elXs = el['timestamp'].values - el['timestamp'].values[0]\n",
    "plotStart = azXs[0] + 1.0\n",
    "plotEnd = azXs[-1] - 1.0\n",
    "    \n",
    "    \n",
    "plotAzXs = np.linspace(azXs[0], azXs[-1], len(azXs)*100)\n",
    "plotElXs = np.linspace(elXs[0], elXs[-1], len(elXs)*100)\n",
    "azPSpline = UnivariateSpline(azXs, azPs, s=0)\n",
    "azVelSpline1 = UnivariateSpline(azXs, azVs, s=0) \n",
    "#azVelSpline1 =azPSpline.derivative(n=1)\n",
    "# Now smooth the derivative before differentiating again\n",
    "smoothedAzVel = np.convolve(azVelSpline1(plotAzXs), kernel, mode='same')\n",
    "azVelSpline = UnivariateSpline(plotAzXs, smoothedAzVel, s=smoothingFactor)\n",
    "azAccSpline1 = azVelSpline.derivative(n=1)\n",
    "smoothedAzAcc = np.convolve(azAccSpline1(plotAzXs), kernel, mode='same')\n",
    "# Now smooth the derivative before differentiating again\n",
    "azAccSpline = UnivariateSpline(plotAzXs, smoothedAzAcc, s=smoothingFactor)\n",
    "azJerkSpline = azAccSpline.derivative(n=1) \n",
    "elPSpline = UnivariateSpline(elXs, elPs, s=0)\n",
    "elVelSpline1 = UnivariateSpline(elXs, elVs, s=0)\n",
    "#elVelSpline1 =elPSpline.derivative(n=1)\n",
    "# Now smooth the derivative before differentiating again\n",
    "smoothedElVel = np.convolve(elVelSpline1(plotElXs), kernel, mode='same')\n",
    "elVelSpline = UnivariateSpline(plotElXs, smoothedElVel, s=smoothingFactor)\n",
    "elAccSpline1 = elVelSpline.derivative(n=1)\n",
    "smoothedElAcc = np.convolve(elAccSpline1(plotElXs), kernel, mode='same')\n",
    "# Now smooth the derivative before differentiating again\n",
    "elAccSpline = UnivariateSpline(plotElXs, smoothedElAcc, s=smoothingFactor)\n",
    "elJerkSpline = elAccSpline.derivative(n=1) "
   ]
  },
  {
   "cell_type": "code",
   "execution_count": null,
   "id": "57fc2e40-8563-4956-8097-e591b5b64bc0",
   "metadata": {
    "execution": {
     "iopub.execute_input": "2023-04-02T23:01:21.466486Z",
     "iopub.status.busy": "2023-04-02T23:01:21.466203Z",
     "iopub.status.idle": "2023-04-02T23:01:21.792318Z",
     "shell.execute_reply": "2023-04-02T23:01:21.791805Z",
     "shell.execute_reply.started": "2023-04-02T23:01:21.466469Z"
    },
    "tags": []
   },
   "outputs": [],
   "source": [
    "plt.plot(plotAzXs + az['timestamp'].values[0], azAccSpline(plotAzXs), label = 'Mt encoder')\n"
   ]
  },
  {
   "cell_type": "code",
   "execution_count": null,
   "id": "d5a8ab0a-a6f8-4576-9ce9-3a6d3d801ace",
   "metadata": {
    "execution": {
     "iopub.execute_input": "2023-04-02T23:02:16.169923Z",
     "iopub.status.busy": "2023-04-02T23:02:16.169657Z",
     "iopub.status.idle": "2023-04-02T23:02:31.214887Z",
     "shell.execute_reply": "2023-04-02T23:02:31.214468Z",
     "shell.execute_reply.started": "2023-04-02T23:02:16.169906Z"
    },
    "tags": []
   },
   "outputs": [],
   "source": [
    "# convert to degrees/s\n",
    "g = 9.5\n",
    "\n",
    "\n",
    "plt.figure()\n",
    "\n",
    "mt_encoder_times = plotAzXs + az['timestamp'].values[0]\n",
    "#plt.plot(mt_encoder_times[(df.times[17000] < mt_encoder_times) & (df.times[18000] > mt_encoder_times)],\\\n",
    "#         azAccSpline(plotAzXs[(df.times[17000] < mt_encoder_times) & (df.times[18000] > mt_encoder_times)]), label = 'Mt encoder')\n",
    "# plt.plot(mt_encoder_times[(df.times[17000] < mt_encoder_times) & (df.times[18000] > mt_encoder_times)],\\\n",
    "#          elAccSpline(plotElXs[(df.times[17000] < mt_encoder_times) & (df.times[18000] > mt_encoder_times)]), label = 'Mt encoder')\n",
    "\n",
    "\n",
    "for sensorName in enumerate(sensorNames):\n",
    "    sub_dataframe = packed_dataframe.loc[packed_dataframe.sensorName==sensorName]\n",
    "    elevations = np.array(el.actualPosition[np.argmin(np.abs(np.subtract(np.array(el.timestamp), \\\n",
    "                                np.expand_dims(np.array(sub_dataframe.timestamp), 0).T)), axis = 1)])\n",
    "    theta = np.arctan(TMA_coords_mm[i][1] / TMA_coords_mm[i][2])\n",
    "    r_theta = np.sqrt(TMA_coords_mm[i][2]**2 + TMA_coords_mm[i][1]**2) * 10**-3\n",
    "    r_phi = np.sqrt(TMA_coords_mm[i][2]**2 + TMA_coords_mm[i][1]**2 + TMA_coords_mm[i][0]**2) * 10**-3\n",
    "    plt.ylabel(\"Accel(deg/s^2)\")\n",
    "    unpacked_elevations = np.repeat(elevations, 200)\n",
    "    r_phi_axis = np.sqrt((TMA_coords_mm[i][2] * np.cos(unpacked_elevations * np.pi/180) \\\n",
    "                          - TMA_coords_mm[i][1] * np.sin(unpacked_elevations * np.pi/180))**2 \\\n",
    "                          + TMA_coords_mm[i][0]**2) * 10**-3 # not sure - or + for [1]\n",
    "   \n",
    "    for j, baseField in enumerate(baseFields):\n",
    "        df = merge_packed_time_series(sub_dataframe, baseField, stride=1,\n",
    "                             ref_timestamp_col=\"timestamp\", fmt='unix_tai',\n",
    "                             scale='tai')\n",
    "        if j == 0:\n",
    "            az_el_accel_df = pd.DataFrame(data = {'AccelerationElevation': np.zeros(len(df.index)), 'AccelerationAzimuth': np.zeros(len(df.index))})\n",
    "            # az_el_accel_df['times'] = [Time(df.times[i], format='unix_tai', scale='utc') for i in range(len(df.times))]\n",
    "        if baseField == 'accelerationY' or baseField == 'accelerationZ':\n",
    "            if baseField == 'accelerationY':\n",
    "                df['accelerationY'] = df['accelerationY'] - g * np.cos(unpacked_elevations * np.pi / 180)\n",
    "                az_el_accel_df['AccelerationElevation'] += +1 * (np.array(df['accelerationY']) * TMA_coords_mm[i][2] * 10**-3/ (r_theta**2)) * 180/np.pi\n",
    "                \n",
    "                az_el_accel_df['AccelerationAzimuth'] += +1 * (np.array(df['accelerationY']) * np.sin(unpacked_elevations * np.pi/180) \\\n",
    "                                                            * (TMA_coords_mm[i][0]) * 10**-3 / (r_phi_axis**2)) * 180/np.pi\n",
    "\n",
    "            else:\n",
    "                df['accelerationZ'] = df['accelerationZ'] - g * np.sin(unpacked_elevations * np.pi / 180)\n",
    "                az_el_accel_df['AccelerationElevation'] += -1 * (np.array(df['accelerationZ']) * TMA_coords_mm[i][1] * 10**-3/ (r_theta**2)) * 180/np.pi \n",
    "                \n",
    "                az_el_accel_df['AccelerationAzimuth'] += -1 * (np.array(df['accelerationZ']) * np.cos(unpacked_elevations * np.pi/180) \\\n",
    "                                                               * (TMA_coords_mm[i][0]) * 10**-3 / (r_phi_axis**2)) * 180/np.pi\n",
    "\n",
    "        else:\n",
    "            az_el_accel_df['AccelerationAzimuth'] += +1 * (np.array(df['accelerationX']) * (TMA_coords_mm[i][2] * np.cos(unpacked_elevations * np.pi/180) \\\n",
    "                          - TMA_coords_mm[i][1] * np.sin(unpacked_elevations * np.pi/180)) * 10**-3/ (r_phi_axis**2)) * 180/np.pi\n",
    "\n",
    "\n",
    "    # plt.plot(df.times[17000:18000], az_el_accel_df['AccelerationElevation'][17000:18000] - az_el_accel_df['AccelerationElevation'][17000:17100].mean(), label='El ' + str(sensorName))\n",
    "    plt.plot(df.times[17000:18000], -az_el_accel_df['AccelerationAzimuth'][17000:18000] + az_el_accel_df['AccelerationAzimuth'][17000:17100].mean(), label='Az ' + str(sensorName))\n",
    "    # 3800:4700, 17000:18000\n",
    "    # az_el_accel_df['AccelerationElevation'].plot(label='El ' + str(sensorName))\n",
    "    # az_el_accel_df['AccelerationAzimuth'].plot(label='Azimuth')\n",
    "    plt.legend()\n",
    "\n",
    "\n"
   ]
  },
  {
   "cell_type": "code",
   "execution_count": null,
   "id": "ed723034-7c7f-41b0-a639-1fd0ecc11241",
   "metadata": {
    "execution": {
     "iopub.execute_input": "2023-04-03T10:33:21.441528Z",
     "iopub.status.busy": "2023-04-03T10:33:21.441253Z",
     "iopub.status.idle": "2023-04-03T10:33:36.917219Z",
     "shell.execute_reply": "2023-04-03T10:33:36.916784Z",
     "shell.execute_reply.started": "2023-04-03T10:33:21.441511Z"
    },
    "tags": []
   },
   "outputs": [],
   "source": [
    "# convert to degrees/s\n",
    "g = 9.5\n",
    "rolling_average = 100\n",
    "# Re-writing\n",
    "\n",
    "plt.figure(figsize = (16,4))\n",
    "plt.subplots_adjust(hspace=0.5)\n",
    "\n",
    "\n",
    "for sensorName in sensorNames:\n",
    "    sub_dataframe = packed_dataframe.loc[packed_dataframe.sensorName==sensorName]\n",
    "    elevations = np.array(el.actualPosition[np.argmin(np.abs(np.subtract(np.array(el.timestamp), \\\n",
    "                                np.expand_dims(np.array(sub_dataframe.timestamp), 0).T)), axis = 1)])\n",
    "    unpacked_elevations = np.repeat(elevations, 200) * np.pi/180.0 # In radians\n",
    "    [X, Y, Z, r_theta, r_phi] = Locations(sensorName) # Get the sensor coordinates\n",
    "    r_phi_axis = np.sqrt((Z * np.cos(unpacked_elevations) \\\n",
    "                          - Y * np.sin(unpacked_elevations))**2 \\\n",
    "                          + X**2)\n",
    "   \n",
    "    for baseField in baseFields:\n",
    "        df = merge_packed_time_series(sub_dataframe, baseField, stride=1,\n",
    "                             ref_timestamp_col=\"timestamp\", fmt='unix_tai',\n",
    "                             scale='tai')\n",
    "        if baseField == 'accelerationX':\n",
    "            az_el_accel_df = pd.DataFrame(data = {'AccelerationElevation': np.zeros(len(df.index)), \\\n",
    "                                                  'AccelerationAzimuth': np.zeros(len(df.index)), 'times': df['times']})\n",
    "            az_el_accel_df['AccelerationAzimuth'] -= (np.array(df['accelerationX']) * (Z * np.cos(unpacked_elevations) \\\n",
    "                                                  - Y * np.sin(unpacked_elevations)) / (r_phi_axis**2)) * 180.0/np.pi\n",
    "        if baseField == 'accelerationY':\n",
    "            df['accelerationY'] -=  g * np.cos(unpacked_elevations)\n",
    "            az_el_accel_df['AccelerationElevation'] += (np.array(df['accelerationY']) * Z / (r_theta**2)) * 180.0/np.pi\n",
    "            az_el_accel_df['AccelerationAzimuth'] -= (np.array(df['accelerationY'])) * np.sin(unpacked_elevations) \\\n",
    "                                                        * (X / (r_phi_axis**2)) * 180.0/np.pi\n",
    "        if baseField == 'accelerationZ':\n",
    "            df['accelerationZ'] -=  g * np.sin(unpacked_elevations)\n",
    "            az_el_accel_df['AccelerationElevation'] -= (np.array(df['accelerationZ']) * Y / (r_theta**2)) * 180.0/np.pi \n",
    "            az_el_accel_df['AccelerationAzimuth'] += (np.array(df['accelerationZ']) * np.cos(unpacked_elevations) \\\n",
    "                                                           * X / (r_phi_axis**2)) * 180.0/np.pi\n",
    "\n",
    "    # Now subtract off the mean.  This shouldn't be necessary if we have successfully removed g\n",
    "    az_el_accel_df['AccelerationAzimuth'] -= az_el_accel_df['AccelerationAzimuth'][17000:18000].mean()\n",
    "    az_el_accel_df['AccelerationElevation'] -= az_el_accel_df['AccelerationElevation'][17000:18000].mean()\n",
    "    # Now do a rolling average to smooth the data\n",
    "    az_el_accel_df['AccelerationAzimuth'] = az_el_accel_df['AccelerationAzimuth'].rolling(rolling_average, center=True).sum() / rolling_average \n",
    "    az_el_accel_df['AccelerationElevation'] = az_el_accel_df['AccelerationElevation'].rolling(rolling_average, center=True).sum() / rolling_average\n",
    "    plt.subplot(1,2,1)\n",
    "    plt.plot(az_el_accel_df['times'][17000:18000], az_el_accel_df['AccelerationElevation'][17000:18000], label='El ' + str(sensorName))\n",
    "    plt.subplot(1,2,2)\n",
    "    plt.plot(az_el_accel_df['times'][17000:18000], az_el_accel_df['AccelerationAzimuth'][17000:18000], label='Az ' + str(sensorName))\n",
    "    \n",
    "    \n",
    "mt_encoder_times = plotAzXs + az['timestamp'].values[0]\n",
    "plt.subplot(1,2,2)\n",
    "plt.plot(mt_encoder_times[(df.times[17000] < mt_encoder_times) & (df.times[18000] > mt_encoder_times)],\\\n",
    "         azAccSpline(plotAzXs[(df.times[17000] < mt_encoder_times) & (df.times[18000] > mt_encoder_times)]), label = 'Mt encoder', ls='--', lw=2, color='k')\n",
    "plt.ylabel(\"Accel(deg/s^2)\")\n",
    "plt.legend()\n",
    "\n",
    "plt.subplot(1,2,1)\n",
    "plt.plot(mt_encoder_times[(df.times[17000] < mt_encoder_times) & (df.times[18000] > mt_encoder_times)],\\\n",
    "          elAccSpline(plotElXs[(df.times[17000] < mt_encoder_times) & (df.times[18000] > mt_encoder_times)]), label = 'Mt encoder', ls = '--', lw=2, color='k')\n",
    "plt.ylabel(\"Accel(deg/s^2)\")\n",
    "plt.legend()\n",
    "\n",
    "\n",
    "\n",
    "\n"
   ]
  },
  {
   "cell_type": "code",
   "execution_count": null,
   "id": "de33661c-1b86-43a3-b410-6985d93421d8",
   "metadata": {
    "execution": {
     "iopub.execute_input": "2023-03-31T17:55:33.464221Z",
     "iopub.status.busy": "2023-03-31T17:55:33.463935Z",
     "iopub.status.idle": "2023-03-31T17:55:33.570238Z",
     "shell.execute_reply": "2023-03-31T17:55:33.569818Z",
     "shell.execute_reply.started": "2023-03-31T17:55:33.464203Z"
    },
    "tags": []
   },
   "outputs": [],
   "source": [
    "df.times[17000:18000].plot(marker='x')"
   ]
  },
  {
   "cell_type": "code",
   "execution_count": null,
   "id": "ff3d0096-f95e-4523-b5c6-16d7fcc91e61",
   "metadata": {},
   "outputs": [],
   "source": []
  }
 ],
 "metadata": {
  "jupytext": {
   "formats": "ipynb,markdown//md"
  },
  "kernelspec": {
   "display_name": "LSST",
   "language": "python",
   "name": "lsst"
  },
  "language_info": {
   "codemirror_mode": {
    "name": "ipython",
    "version": 3
   },
   "file_extension": ".py",
   "mimetype": "text/x-python",
   "name": "python",
   "nbconvert_exporter": "python",
   "pygments_lexer": "ipython3",
   "version": "3.10.9"
  }
 },
 "nbformat": 4,
 "nbformat_minor": 5
}
