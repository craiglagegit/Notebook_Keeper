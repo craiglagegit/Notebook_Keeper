{
 "cells": [
  {
   "cell_type": "markdown",
   "metadata": {},
   "source": [
    "## Testing Nasmyth2 Rotator\n",
    "\n",
    "Craig Lage - 29 Jun 22\n"
   ]
  },
  {
   "cell_type": "code",
   "execution_count": null,
   "metadata": {},
   "outputs": [],
   "source": [
    "import sys, time, os\n",
    "\n",
    "import numpy as np\n",
    "import matplotlib.pyplot as plt\n",
    "import pandas as pd\n",
    "\n",
    "import logging\n",
    "\n",
    "from lsst.ts import salobj\n",
    "\n",
    "from lsst.ts.observatory.control.auxtel.atcs import ATCS\n",
    "from lsst.ts.observatory.control.auxtel.latiss import LATISS\n",
    "from lsst.ts.observatory.control.utils import RotType\n",
    "\n",
    "from lsst.ts.observing.utilities.decorated_logger import DecoratedLogger\n",
    "\n",
    "from astropy.time import Time, TimeDelta\n",
    "from lsst_efd_client import EfdClient"
   ]
  },
  {
   "cell_type": "code",
   "execution_count": null,
   "metadata": {},
   "outputs": [],
   "source": [
    "logger = DecoratedLogger.get_decorated_logger()\n",
    "logger.level = logging.DEBUG"
   ]
  },
  {
   "cell_type": "code",
   "execution_count": null,
   "metadata": {},
   "outputs": [],
   "source": [
    "logger.info(os.environ[\"OSPL_URI\"])\n",
    "logger.info(os.environ[\"LSST_DDS_PARTITION_PREFIX\"])"
   ]
  },
  {
   "cell_type": "markdown",
   "metadata": {},
   "source": [
    "### Instantiate the control classes"
   ]
  },
  {
   "cell_type": "code",
   "execution_count": null,
   "metadata": {
    "jupyter": {
     "outputs_hidden": true
    },
    "tags": []
   },
   "outputs": [],
   "source": [
    "domain = salobj.Domain()\n",
    "atcs = ATCS(domain)\n",
    "#latiss = LATISS(domain)\n",
    "await asyncio.gather(atcs.start_task)#, latiss.start_task)"
   ]
  },
  {
   "cell_type": "code",
   "execution_count": null,
   "metadata": {
    "jupyter": {
     "outputs_hidden": true
    },
    "tags": []
   },
   "outputs": [],
   "source": [
    "await atcs.enable()"
   ]
  },
  {
   "cell_type": "code",
   "execution_count": null,
   "metadata": {
    "jupyter": {
     "outputs_hidden": true
    },
    "tags": []
   },
   "outputs": [],
   "source": [
    "current_az = 0.0\n",
    "current_el = 80.0\n",
    "current_rot = 0.0\n",
    "await atcs.point_azel(current_az, current_el, rot_tel=current_rot)"
   ]
  },
  {
   "cell_type": "code",
   "execution_count": null,
   "metadata": {
    "jupyter": {
     "outputs_hidden": true
    },
    "tags": []
   },
   "outputs": [],
   "source": [
    "current_az = 180.0\n",
    "current_el = 80.0\n",
    "current_rot = -160.0\n",
    "await atcs.point_azel(current_az, current_el, rot_tel=current_rot)"
   ]
  },
  {
   "cell_type": "code",
   "execution_count": null,
   "metadata": {
    "jupyter": {
     "outputs_hidden": true
    },
    "tags": []
   },
   "outputs": [],
   "source": [
    "current_az = 180.0\n",
    "current_el = 80.0\n",
    "current_rot = 160.0\n",
    "await atcs.point_azel(current_az, current_el, rot_tel=current_rot)"
   ]
  },
  {
   "cell_type": "code",
   "execution_count": null,
   "metadata": {
    "jupyter": {
     "outputs_hidden": true
    },
    "tags": []
   },
   "outputs": [],
   "source": [
    "current_az = 180.0\n",
    "current_el = 80.0\n",
    "current_rot = -160.0\n",
    "await atcs.point_azel(current_az, current_el, rot_tel=current_rot)"
   ]
  },
  {
   "cell_type": "code",
   "execution_count": null,
   "metadata": {
    "jupyter": {
     "outputs_hidden": true
    },
    "tags": []
   },
   "outputs": [],
   "source": [
    "current_az = 180.0\n",
    "current_el = 80.0\n",
    "current_rot = 0.0\n",
    "await atcs.point_azel(current_az, current_el, rot_tel=current_rot)"
   ]
  },
  {
   "cell_type": "code",
   "execution_count": null,
   "metadata": {
    "jupyter": {
     "outputs_hidden": true
    },
    "tags": []
   },
   "outputs": [],
   "source": [
    "current_az = 180.0\n",
    "current_el = 80.0\n",
    "current_rot = 80.0\n",
    "await atcs.point_azel(current_az, current_el, rot_tel=current_rot)"
   ]
  },
  {
   "cell_type": "markdown",
   "metadata": {},
   "source": [
    "Now we'll analyze the data.\n",
    "\n",
    "We'll access the EFD instance deployed at the Summit."
   ]
  },
  {
   "cell_type": "code",
   "execution_count": null,
   "metadata": {
    "tags": []
   },
   "outputs": [],
   "source": [
    "client = EfdClient('summit_efd')"
   ]
  },
  {
   "cell_type": "code",
   "execution_count": null,
   "metadata": {
    "jupyter": {
     "outputs_hidden": true
    },
    "tags": []
   },
   "outputs": [],
   "source": [
    "t_end = Time(time.time(),format='unix', scale='utc')\n",
    "#t_end = Time(\"2021-05-04T22:04:00\", scale='utc')   # timestamp at end of desired data \n",
    "nsec = 0.21*3600 # how many seconds of data to retrieve\n",
    "torque = await client.select_packed_time_series(\"lsst.sal.ATMCS.measuredTorque\", 'nasmyth2MotorTorque',\n",
    "                                              t_end - TimeDelta(nsec, format='sec'), t_end)\n",
    "angle = await client.select_packed_time_series(\"lsst.sal.ATMCS.mount_Nasmyth_Encoders\", 'nasmyth2CalculatedAngle',\n",
    "                                              t_end - TimeDelta(nsec, format='sec'), t_end)\n",
    "\n"
   ]
  },
  {
   "cell_type": "code",
   "execution_count": null,
   "metadata": {
    "tags": []
   },
   "outputs": [],
   "source": [
    "ax1 = torque['nasmyth2MotorTorque'].plot(figsize=(16,8), title='Nasmyth motor torque', legend=True)\n",
    "ax1.axhline(3.0, color=\"blue\", linestyle=\"--\")\n",
    "ax1.axhline(-3.0, color=\"blue\", linestyle=\"--\")\n",
    "plt.ylim(-3.5,3.5)\n",
    "angle['nasmyth2CalculatedAngle'].plot(legend=True, secondary_y=True)\n",
    "plt.savefig(\"/home/craiglagegit/DATA/Nasmyth_Torque_12Jul22.pdf\")"
   ]
  },
  {
   "cell_type": "code",
   "execution_count": null,
   "metadata": {},
   "outputs": [],
   "source": []
  },
  {
   "cell_type": "code",
   "execution_count": null,
   "metadata": {},
   "outputs": [],
   "source": [
    "torqueList = torque.values.tolist()\n",
    "angleList = angle.values.tolist()\n",
    "plt.figure()\n",
    "plt.plot(np.array(angleList)[:,0],np.array(torqueList)[:,0])\n",
    "plt.plot([-160,160],[3.0,3.0], color='red', ls='--')\n",
    "plt.plot([-160,160],[-3.0,-3.0], color='red', ls='--')\n",
    "plt.arrow(-140, 2.5, 50,0, width=0.1,head_length = 5.0, color='green')\n",
    "plt.arrow(140, -2.5, -50,0, width=0.1,head_length = 5.0, color='green')\n",
    "plt.xlabel(\"Rotator angle(degrees)\")\n",
    "plt.ylabel(\"Torque (amps)\")\n",
    "plt.savefig(\"/home/craiglagegit/DATA/Torque_vs_Angle_12Jul22.pdf\")"
   ]
  },
  {
   "cell_type": "code",
   "execution_count": null,
   "metadata": {},
   "outputs": [],
   "source": []
  }
 ],
 "metadata": {
  "kernelspec": {
   "display_name": "LSST",
   "language": "python",
   "name": "lsst"
  },
  "language_info": {
   "codemirror_mode": {
    "name": "ipython",
    "version": 3
   },
   "file_extension": ".py",
   "mimetype": "text/x-python",
   "name": "python",
   "nbconvert_exporter": "python",
   "pygments_lexer": "ipython3",
   "version": "3.10.5"
  }
 },
 "nbformat": 4,
 "nbformat_minor": 4
}
