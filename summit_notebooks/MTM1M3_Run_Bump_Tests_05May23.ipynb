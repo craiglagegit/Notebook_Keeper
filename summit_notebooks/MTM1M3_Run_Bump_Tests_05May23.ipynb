{
 "cells": [
  {
   "cell_type": "markdown",
   "metadata": {},
   "source": [
    "# M1M3 cell learning\n",
    "Craig Lage - 14-Apr-23 \\\n",
    "The 17 tons of mirror are supported by 156 pneumatic actuators where 44 are single-axis and provide support only on the axial direction, 100 are dual-axis providing support in the axial and lateral direction, and 12 are dual-axis providing support in the axial and cross lateral directions. \\\n",
    "Positioning is provided by 6 hard points in a hexapod configuration which moves the mirror to a fixed operational position that shall be maintained during telescope operations. The remaining optical elements will be moved relative to this position in order to align the telescope optics. Support and optical figure correction is provided by 112 dual axis and 44 single axis pneumatic actuators. "
   ]
  },
  {
   "cell_type": "code",
   "execution_count": null,
   "metadata": {
    "execution": {
     "iopub.execute_input": "2023-05-05T11:56:27.215699Z",
     "iopub.status.busy": "2023-05-05T11:56:27.215434Z",
     "iopub.status.idle": "2023-05-05T11:56:27.794650Z",
     "shell.execute_reply": "2023-05-05T11:56:27.794176Z",
     "shell.execute_reply.started": "2023-05-05T11:56:27.215683Z"
    },
    "tags": []
   },
   "outputs": [],
   "source": [
    "import sys, time, os, asyncio, glob\n",
    "from datetime import datetime\n",
    "import numpy as np\n",
    "import matplotlib.pyplot as plt\n",
    "from matplotlib.backends.backend_pdf import PdfPages\n",
    "import pickle as pkl\n",
    "from astropy.time import Time, TimeDelta\n",
    "import lsst.ts.cRIOpy.M1M3FATable as M1M3FATable\n",
    "from scipy.interpolate import UnivariateSpline\n",
    "from lsst_efd_client import EfdClient"
   ]
  },
  {
   "cell_type": "code",
   "execution_count": null,
   "metadata": {
    "execution": {
     "iopub.execute_input": "2023-05-05T11:56:29.751018Z",
     "iopub.status.busy": "2023-05-05T11:56:29.750748Z",
     "iopub.status.idle": "2023-05-05T11:56:31.086807Z",
     "shell.execute_reply": "2023-05-05T11:56:31.086345Z",
     "shell.execute_reply.started": "2023-05-05T11:56:29.751002Z"
    },
    "tags": []
   },
   "outputs": [],
   "source": [
    "client = EfdClient('summit_efd')\n",
    "FATABLE = M1M3FATable.FATABLE"
   ]
  },
  {
   "cell_type": "markdown",
   "metadata": {},
   "source": [
    "## Unpickle the dictionary of past bump tests"
   ]
  },
  {
   "cell_type": "code",
   "execution_count": null,
   "metadata": {
    "execution": {
     "iopub.execute_input": "2023-05-05T11:56:50.948875Z",
     "iopub.status.busy": "2023-05-05T11:56:50.948583Z",
     "iopub.status.idle": "2023-05-05T11:56:51.008049Z",
     "shell.execute_reply": "2023-05-05T11:56:51.007419Z",
     "shell.execute_reply.started": "2023-05-05T11:56:50.948857Z"
    },
    "tags": []
   },
   "outputs": [],
   "source": [
    "filename = '/scratch/cslage/m1m3_data/average_spline_dict_28apr23.pkl'\n",
    "file = open(filename, 'rb')\n",
    "averageSplineDict = pkl.load(file)\n",
    "file.close()"
   ]
  },
  {
   "cell_type": "markdown",
   "metadata": {},
   "source": [
    "## Now plot the residuals against the average"
   ]
  },
  {
   "cell_type": "code",
   "execution_count": null,
   "metadata": {
    "execution": {
     "iopub.execute_input": "2023-05-05T13:08:41.801760Z",
     "iopub.status.busy": "2023-05-05T13:08:41.801489Z",
     "iopub.status.idle": "2023-05-05T13:08:41.815787Z",
     "shell.execute_reply": "2023-05-05T13:08:41.815369Z",
     "shell.execute_reply.started": "2023-05-05T13:08:41.801744Z"
    },
    "tags": []
   },
   "outputs": [],
   "source": [
    "async def plotBumpResultsAndResiduals(fig, bumps, averageSplineDict, id):\n",
    "    [averagePrimarySpline, averageSecondarySpline] = averageSplineDict[id]\n",
    "    thisBump = bumps[bumps['actuatorId']==id]\n",
    "    timestamp = thisBump.index[0].isoformat().split('.')[0].replace('-','').replace(':','')\n",
    "    index = M1M3FATable.actuatorIDToIndex(id)\n",
    "    # The pass/fail results are actually in the next test.\n",
    "    lastThisBumpIndex = bumps[bumps['actuatorId']==id].last_valid_index()\n",
    "    passFail = bumps.iloc[bumps.index.get_loc(lastThisBumpIndex)+1]\n",
    "    primaryBump = f\"primaryTest{FATABLE[index][M1M3FATable.FATABLE_ZINDEX]}\"\n",
    "    primaryForce = f\"zForce{FATABLE[index][M1M3FATable.FATABLE_ZINDEX]}\"\n",
    "    if FATABLE[index][M1M3FATable.FATABLE_TYPE] == 'DAA':\n",
    "        if FATABLE[index][M1M3FATable.FATABLE_ORIENTATION] in ['+Y', '-Y']:\n",
    "            secondaryBump = f\"secondaryTest{FATABLE[index][M1M3FATable.FATABLE_SINDEX]}\"\n",
    "            secondaryForce = f\"yForce{FATABLE[index][M1M3FATable.FATABLE_YINDEX]}\"\n",
    "            secondaryName = FATABLE[index][M1M3FATable.FATABLE_ORIENTATION]\n",
    "        else:\n",
    "            secondaryBump = f\"secondaryTest{FATABLE[index][M1M3FATable.FATABLE_SINDEX]}\"\n",
    "            secondaryForce = f\"xForce{FATABLE[index][M1M3FATable.FATABLE_XINDEX]}\"\n",
    "            secondaryName = FATABLE[index][M1M3FATable.FATABLE_ORIENTATION]\n",
    "    else:\n",
    "        secondaryName = None\n",
    "\n",
    "    plt.subplots_adjust(wspace=0.3)\n",
    "    plt.suptitle(f\"Bump Test with Residuals. Actuator ID {id}\\n{timestamp}\", fontsize=18)\n",
    "    plotStart = thisBump[thisBump[primaryBump]==2]['timestamp'].values[0] - 1.0\n",
    "    plotEnd = plotStart + 14.0 \n",
    "    start = Time(plotStart, format='unix_tai', scale='tai')\n",
    "    end = Time(plotEnd, format='unix_tai', scale='tai')\n",
    "    forces = await client.select_time_series(\"lsst.sal.MTM1M3.forceActuatorData\", [primaryForce, 'timestamp'], start.utc, end.utc)\n",
    "    times = forces['timestamp'].values\n",
    "    t0 = times[0]\n",
    "    times -= t0\n",
    "    primaryForces = forces[primaryForce].values\n",
    "    residuals = primaryForces-averagePrimarySpline(times)\n",
    "    rmsError = np.sqrt(np.mean(residuals**2))\n",
    "    plotStart -= t0\n",
    "    plotEnd -= t0\n",
    "    plt.subplot(2,2,1)\n",
    "    plt.title(\"Primary - Z\")\n",
    "    plt.plot(times, averagePrimarySpline(times), label='Average')\n",
    "    plt.plot(times, primaryForces, label='Data')\n",
    "    if passFail[primaryBump] == 6:\n",
    "        plt.text(2.0, 350.0, \"PASSED\", color='g')\n",
    "    elif passFail[primaryBump] == 7:\n",
    "        plt.text(2.0, 350.0, \"FAILED\", color='r')\n",
    "    plt.xlim(plotStart, plotEnd)\n",
    "    plt.ylim(-400,400)\n",
    "    plt.xlabel(\"Time (seconds)\")\n",
    "    plt.ylabel(\"Force (nt)\")\n",
    "    plt.legend()\n",
    "    plt.subplot(2,2,3)\n",
    "    plt.plot(times, residuals)\n",
    "    if passFail[primaryBump] == 6:\n",
    "        plt.text(2.0, 75.0, f\"RMS = {rmsError:.2f}\", color='g')\n",
    "    elif passFail[primaryBump] == 7:\n",
    "        plt.text(2.0, 75.0, f\"RMS = {rmsError:.2f}\", color='r')\n",
    "    plt.xlim(plotStart, plotEnd)\n",
    "    plt.ylim(-100,100)\n",
    "    plt.xlabel(\"Time (seconds)\")\n",
    "    plt.ylabel(\"Residuals (nt)\")\n",
    "    \n",
    "    if secondaryName is not None:\n",
    "        plotStart = thisBump[thisBump[secondaryBump]==2]['timestamp'].values[0] - 1.0\n",
    "        plotEnd = plotStart + 14.0\n",
    "        start = Time(plotStart, format='unix_tai', scale='tai')\n",
    "        end = Time(plotEnd, format='unix_tai', scale='tai')\n",
    "        forces = await client.select_time_series(\"lsst.sal.MTM1M3.forceActuatorData\", [secondaryForce, 'timestamp'], start.utc, end.utc)\n",
    "        times = forces['timestamp'].values\n",
    "        t0 = times[0]\n",
    "        times -= t0\n",
    "        secondaryForces = forces[secondaryForce].values\n",
    "        residuals = secondaryForces-averageSecondarySpline(times)\n",
    "        rmsError = np.sqrt(np.mean(residuals**2))\n",
    "        plotStart -= t0\n",
    "        plotEnd -= t0\n",
    "        plt.subplot(2,2,2)\n",
    "        plt.title(f\"Secondary - {secondaryName}\")\n",
    "        plt.plot(times, averageSecondarySpline(times), label='Average')\n",
    "        plt.plot(times, secondaryForces, label='Data')\n",
    "        if passFail[primaryBump] == 6:\n",
    "            plt.text(2.0, 350.0, \"PASSED\", color='g')\n",
    "        elif passFail[primaryBump] == 7:\n",
    "            plt.text(2.0, 350.0, \"FAILED\", color='r')\n",
    "        plt.xlim(plotStart, plotEnd)\n",
    "        plt.ylim(-400,400)\n",
    "        plt.xlabel(\"Time (seconds)\")\n",
    "        plt.ylabel(\"Force (nt)\")\n",
    "        plt.legend()\n",
    "        plt.subplot(2,2,4)\n",
    "        plt.plot(times, residuals)\n",
    "        if passFail[primaryBump] == 6:\n",
    "            plt.text(2.0, 75.0, f\"RMS = {rmsError:.2f}\", color='g')\n",
    "        elif passFail[primaryBump] == 7:\n",
    "            plt.text(2.0, 75.0, f\"RMS = {rmsError:.2f}\", color='r')\n",
    "        plt.xlim(plotStart, plotEnd)\n",
    "        plt.ylim(-100,100)\n",
    "        plt.xlabel(\"Time (seconds)\")\n",
    "        plt.ylabel(\"Residuals (nt)\")\n",
    "    else:\n",
    "        plt.subplot(2,2,2)\n",
    "        plt.title(\"No Secondary\")\n",
    "        plt.xticks([])\n",
    "        plt.yticks([])\n",
    "        plt.subplot(2,2,4)\n",
    "        plt.xticks([])\n",
    "        plt.yticks([])\n",
    "    return"
   ]
  },
  {
   "cell_type": "markdown",
   "metadata": {},
   "source": [
    "# Now run all the actuators with the first test on the TMA"
   ]
  },
  {
   "cell_type": "code",
   "execution_count": null,
   "metadata": {
    "execution": {
     "iopub.execute_input": "2023-05-05T11:58:34.995104Z",
     "iopub.status.busy": "2023-05-05T11:58:34.994802Z",
     "iopub.status.idle": "2023-05-05T11:58:34.998782Z",
     "shell.execute_reply": "2023-05-05T11:58:34.998273Z",
     "shell.execute_reply.started": "2023-05-05T11:58:34.995087Z"
    },
    "tags": []
   },
   "outputs": [],
   "source": [
    "# Times of bump test\n",
    "start = Time(\"2023-04-28T18:10:00\", scale='utc')\n",
    "end = Time(\"2023-04-28T19:18:00\", scale='utc')"
   ]
  },
  {
   "cell_type": "code",
   "execution_count": null,
   "metadata": {
    "execution": {
     "iopub.execute_input": "2023-05-05T11:58:35.782774Z",
     "iopub.status.busy": "2023-05-05T11:58:35.782506Z",
     "iopub.status.idle": "2023-05-05T11:58:35.913354Z",
     "shell.execute_reply": "2023-05-05T11:58:35.912769Z",
     "shell.execute_reply.started": "2023-05-05T11:58:35.782757Z"
    },
    "tags": []
   },
   "outputs": [],
   "source": [
    "bumps = await client.select_time_series(\"lsst.sal.MTM1M3.logevent_forceActuatorBumpTestStatus\", \"*\", start, end)"
   ]
  },
  {
   "cell_type": "code",
   "execution_count": null,
   "metadata": {
    "execution": {
     "iopub.execute_input": "2023-05-05T11:58:36.435595Z",
     "iopub.status.busy": "2023-05-05T11:58:36.435319Z",
     "iopub.status.idle": "2023-05-05T11:58:36.439702Z",
     "shell.execute_reply": "2023-05-05T11:58:36.439097Z",
     "shell.execute_reply.started": "2023-05-05T11:58:36.435578Z"
    },
    "tags": []
   },
   "outputs": [],
   "source": [
    "len(bumps)"
   ]
  },
  {
   "cell_type": "code",
   "execution_count": null,
   "metadata": {
    "execution": {
     "iopub.execute_input": "2023-05-05T11:59:19.044332Z",
     "iopub.status.busy": "2023-05-05T11:59:19.043943Z",
     "iopub.status.idle": "2023-05-05T11:59:25.793798Z",
     "shell.execute_reply": "2023-05-05T11:59:25.793386Z",
     "shell.execute_reply.started": "2023-05-05T11:59:19.044313Z"
    },
    "jupyter": {
     "outputs_hidden": true
    },
    "tags": []
   },
   "outputs": [],
   "source": [
    "timestamp = bumps.index[0].isoformat().split('.')[0].replace('-','').replace(':','')\n",
    "pdf = PdfPages(f\"/scratch/cslage/m1m3_data/Bump_Test{timestamp}.pdf\")\n",
    "\n",
    "for index in range(len(FATABLE)):\n",
    "    try:\n",
    "        id = FATABLE[index][M1M3FATable.FATABLE_ID]\n",
    "        fig = plt.figure(figsize=(10,10))\n",
    "        await plotBumpResultsAndResiduals(fig, bumps, averageSplineDict, id)\n",
    "        pdf.savefig(fig)  # saves the current figure into a pdf page\n",
    "        plt.close()\n",
    "    except:\n",
    "        continue\n",
    "pdf.close()\n"
   ]
  },
  {
   "cell_type": "code",
   "execution_count": null,
   "metadata": {
    "execution": {
     "iopub.execute_input": "2023-05-05T13:03:09.851359Z",
     "iopub.status.busy": "2023-05-05T13:03:09.851087Z",
     "iopub.status.idle": "2023-05-05T13:03:09.854778Z",
     "shell.execute_reply": "2023-05-05T13:03:09.854379Z",
     "shell.execute_reply.started": "2023-05-05T13:03:09.851342Z"
    }
   },
   "outputs": [],
   "source": [
    "# Finding multiple tests form 20230504\n",
    "\n",
    "start = Time(\"2023-05-03T00:00:00\", scale='utc')\n",
    "end = Time(\"2023-05-05T12:00:00\", scale='utc')"
   ]
  },
  {
   "cell_type": "code",
   "execution_count": null,
   "metadata": {
    "execution": {
     "iopub.execute_input": "2023-05-05T13:03:11.027001Z",
     "iopub.status.busy": "2023-05-05T13:03:11.026723Z",
     "iopub.status.idle": "2023-05-05T13:03:11.066720Z",
     "shell.execute_reply": "2023-05-05T13:03:11.066252Z",
     "shell.execute_reply.started": "2023-05-05T13:03:11.026983Z"
    },
    "jupyter": {
     "outputs_hidden": true
    },
    "tags": []
   },
   "outputs": [],
   "source": [
    "for index in range(len(FATABLE)):\n",
    "    try:\n",
    "        id = FATABLE[index][M1M3FATable.FATABLE_ID]\n",
    "        thisBump = bumps[bumps['actuatorId']==id]\n",
    "        print(thisBump.index[0].isoformat().split(\".\")[0], \"\\t\",  thisBump['timestamp'].values[0],\"\\t\",id)\n",
    "    except:\n",
    "        continue"
   ]
  },
  {
   "cell_type": "code",
   "execution_count": null,
   "metadata": {
    "execution": {
     "iopub.execute_input": "2023-05-05T13:08:56.267565Z",
     "iopub.status.busy": "2023-05-05T13:08:56.267273Z",
     "iopub.status.idle": "2023-05-05T13:09:04.586652Z",
     "shell.execute_reply": "2023-05-05T13:09:04.586244Z",
     "shell.execute_reply.started": "2023-05-05T13:08:56.267548Z"
    },
    "jupyter": {
     "outputs_hidden": true
    },
    "tags": []
   },
   "outputs": [],
   "source": [
    "\n",
    "pdf = PdfPages(f\"/scratch/cslage/m1m3_data/Bump_Test_20230504.pdf\")\n",
    "times = [[Time(\"2023-05-04T14:28:00\", scale='utc'), Time(\"2023-05-04T14:35:00\", scale='utc')], \\\n",
    "        [Time(\"2023-05-05T00:00:00\", scale='utc'), Time(\"2023-05-05T00:45:00\", scale='utc')], \\\n",
    "         [Time(\"2023-05-05T03:00:00\", scale='utc'), Time(\"2023-05-05T04:00:00\", scale='utc')]]\n",
    "\n",
    "for [start, end] in times:\n",
    "    bumps = await client.select_time_series(\"lsst.sal.MTM1M3.logevent_forceActuatorBumpTestStatus\", \"*\", start, end)\n",
    "         \n",
    "    for index in range(len(FATABLE)):\n",
    "        try:\n",
    "            id = FATABLE[index][M1M3FATable.FATABLE_ID]\n",
    "            fig = plt.figure(figsize=(10,10))\n",
    "            await plotBumpResultsAndResiduals(fig, bumps, averageSplineDict, id)\n",
    "            pdf.savefig(fig)  # saves the current figure into a pdf page\n",
    "            plt.close()\n",
    "        except:\n",
    "            continue\n",
    "pdf.close()\n"
   ]
  },
  {
   "cell_type": "code",
   "execution_count": null,
   "metadata": {},
   "outputs": [],
   "source": []
  }
 ],
 "metadata": {
  "kernelspec": {
   "display_name": "LSST",
   "language": "python",
   "name": "lsst"
  },
  "language_info": {
   "codemirror_mode": {
    "name": "ipython",
    "version": 3
   },
   "file_extension": ".py",
   "mimetype": "text/x-python",
   "name": "python",
   "nbconvert_exporter": "python",
   "pygments_lexer": "ipython3",
   "version": "3.10.9"
  }
 },
 "nbformat": 4,
 "nbformat_minor": 4
}
