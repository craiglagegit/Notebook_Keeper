{
 "cells": [
  {
   "cell_type": "markdown",
   "id": "e8cc3a14-f377-44f4-ab4c-97c9c3047697",
   "metadata": {},
   "source": [
    "# Using the RubinTV Mount Plotting to identify large errors\n",
    "\n",
    "Craig Lage - 15-Jun-22"
   ]
  },
  {
   "cell_type": "code",
   "execution_count": null,
   "id": "a148b369-8943-4861-a51e-9cbeea70feb3",
   "metadata": {},
   "outputs": [],
   "source": [
    "import nest_asyncio\n",
    "nest_asyncio.apply()\n",
    "import sys, time, os, asyncio\n",
    "from datetime import datetime\n",
    "import numpy as np\n",
    "import matplotlib.pyplot as plt\n",
    "from lsst.rubintv.production import mountTorques\n",
    "\n",
    "from lsst_efd_client import EfdClient\n",
    "from lsst.daf.butler import Butler\n",
    "from lsst.ts.observing.utilities.decorated_logger import DecoratedLogger"
   ]
  },
  {
   "cell_type": "code",
   "execution_count": null,
   "id": "db1b3867-c6db-43d3-8248-ecfcd41d3fbc",
   "metadata": {},
   "outputs": [],
   "source": [
    "client = EfdClient('summit_efd')\n",
    "butler = Butler('/repo/LATISS', collections=\"LATISS/raw/all\")\n",
    "logger = DecoratedLogger.get_decorated_logger()"
   ]
  },
  {
   "cell_type": "code",
   "execution_count": null,
   "id": "cdbdc212-2b15-477b-a019-1228c2e0bab8",
   "metadata": {},
   "outputs": [],
   "source": [
    "figure = plt.figure(figsize=(16,22))\n",
    "saveFilename = None\n",
    "\n",
    "dayObs = 20220609\n",
    "exposureList = []\n",
    "errs_20220609 = []\n",
    "for record in butler.registry.queryDimensionRecords(\"exposure\", where=\"exposure.day_obs=%d\"%dayObs):\n",
    "    if record.observation_type not in ['bias', 'flat', 'dark']:\n",
    "        exposureList.append(record.id)\n",
    "for expId in exposureList:\n",
    "    dataId = {'detector':0, 'exposure':expId}\n",
    "    try:\n",
    "        err = mountTorques.plotMountTracking(dataId, butler, client, figure, saveFilename, logger)\n",
    "        errs_20220609.append([expId, err[0], err[1], err[2]])\n",
    "    except:\n",
    "        continue\n",
    "errs_20220609 = np.array(errs_20220609)"
   ]
  },
  {
   "cell_type": "code",
   "execution_count": null,
   "id": "cdbd6e13-7d15-4f73-b430-9d084478ac42",
   "metadata": {},
   "outputs": [],
   "source": [
    "%matplotlib inline\n",
    "plt.hist(errs_20220609[:,1], bins=50, range=(0,1.0))\n"
   ]
  },
  {
   "cell_type": "code",
   "execution_count": null,
   "id": "a9a4a6d9-f303-44e7-8549-eccd7cbd8a4d",
   "metadata": {},
   "outputs": [],
   "source": [
    "figure = plt.figure(figsize=(16,22))\n",
    "saveFilename = None\n",
    "\n",
    "dayObs = 20220503\n",
    "exposureList = []\n",
    "errs_20220503 = []\n",
    "for record in butler.registry.queryDimensionRecords(\"exposure\", where=\"exposure.day_obs=%d\"%dayObs):\n",
    "    if record.observation_type not in ['bias', 'flat', 'dark']:\n",
    "        exposureList.append(record.id)\n",
    "for expId in exposureList:\n",
    "    dataId = {'detector':0, 'exposure':expId}\n",
    "    try:\n",
    "        err = mountTorques.plotMountTracking(dataId, butler, client, figure, saveFilename, logger)\n",
    "        errs_20220503.append([expId, err[0], err[1], err[2]])\n",
    "    except:\n",
    "        continue\n",
    "errs_20220503 = np.array(errs_20220503)"
   ]
  },
  {
   "cell_type": "code",
   "execution_count": null,
   "id": "6685044f-6c22-4854-a3ee-79105d302f5f",
   "metadata": {
    "jupyter": {
     "outputs_hidden": true
    },
    "tags": []
   },
   "outputs": [],
   "source": [
    "exposureList"
   ]
  },
  {
   "cell_type": "code",
   "execution_count": null,
   "id": "36e8d5d9-21a5-4f53-aadf-64fa3e784330",
   "metadata": {},
   "outputs": [],
   "source": [
    "figure = plt.figure(figsize=(16,22))\n",
    "saveFilename = None\n",
    "\n",
    "expId=2022052600012\n",
    "dataId = {'detector':0, 'exposure':expId}\n",
    "#dataId = {'day_obs': 20220503, 'seq_num': 200}\n",
    "err = mountTorques.plotMountTracking(dataId, butler, client, figure, saveFilename, logger)\n"
   ]
  },
  {
   "cell_type": "code",
   "execution_count": null,
   "id": "2686c708-bb4d-4796-a58e-ff87f77795fc",
   "metadata": {},
   "outputs": [],
   "source": [
    "dayObs = '2022-05-03'\n",
    "seqNum = 200\n",
    "expId = 2022050300200\n",
    "where = \"exposure.id=expId\"\n",
    "expRecords = butler.registry.queryDimensionRecords(\"exposure\",\\\n",
    "                                                       where=where,\\\n",
    "                                                        bind={'expId': expId},\\\n",
    "                                                        datasets='raw')"
   ]
  },
  {
   "cell_type": "code",
   "execution_count": null,
   "id": "7fb4d7fc-d55f-4542-952e-c976e4ea23ad",
   "metadata": {},
   "outputs": [],
   "source": [
    "dayObs = '2022-05-03'\n",
    "seqNum = 200\n",
    "where = \"exposure.id=expId\"\n",
    "expRecords = butler.registry.queryDimensionRecords(\"exposure\",\\\n",
    "                                                       where=where,\\\n",
    "                                                        bind={'day_obs': dayObs, 'seq_num': seqNum},\\\n",
    "                                                        datasets='raw')"
   ]
  },
  {
   "cell_type": "code",
   "execution_count": null,
   "id": "0f04467d-00d8-4bdc-bb80-6a749328a384",
   "metadata": {},
   "outputs": [],
   "source": [
    "test=list(expRecords)"
   ]
  },
  {
   "cell_type": "code",
   "execution_count": null,
   "id": "7501360d-619c-49a4-badc-2822423d64be",
   "metadata": {},
   "outputs": [],
   "source": [
    "len(test)"
   ]
  },
  {
   "cell_type": "code",
   "execution_count": null,
   "id": "12556498-acb3-4413-b456-863503288c80",
   "metadata": {},
   "outputs": [],
   "source": []
  }
 ],
 "metadata": {
  "kernelspec": {
   "display_name": "LSST",
   "language": "python",
   "name": "lsst"
  },
  "language_info": {
   "codemirror_mode": {
    "name": "ipython",
    "version": 3
   },
   "file_extension": ".py",
   "mimetype": "text/x-python",
   "name": "python",
   "nbconvert_exporter": "python",
   "pygments_lexer": "ipython3",
   "version": "3.10.5"
  },
  "toc-autonumbering": false,
  "toc-showcode": false,
  "toc-showmarkdowntxt": true
 },
 "nbformat": 4,
 "nbformat_minor": 5
}
