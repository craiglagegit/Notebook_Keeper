{
 "cells": [
  {
   "cell_type": "markdown",
   "id": "3dbf3c0c",
   "metadata": {},
   "source": [
    "# Pole stiction\n",
    "\n",
    "This notebook is intended to characterize the slow speed stiction problem \\\n",
    "at the pole by spiraling into the pole where the tracking speeds will be slower and slower. \\\n",
    "Craig Lage - 17-Oct-22"
   ]
  },
  {
   "cell_type": "code",
   "execution_count": null,
   "id": "b9b61b70",
   "metadata": {},
   "outputs": [],
   "source": [
    "import asyncio\n",
    "import time\n",
    "import os\n",
    "import numpy as np\n",
    "import matplotlib.pyplot as plt\n",
    "from astropy.time import Time\n",
    "\n",
    "from lsst.ts import salobj\n",
    "\n",
    "from lsst.ts.observatory.control.auxtel.atcs import ATCS\n",
    "from lsst.ts.observatory.control.auxtel.latiss import LATISS\n",
    "from lsst.ts.observatory.control.utils import RotType"
   ]
  },
  {
   "cell_type": "code",
   "execution_count": null,
   "id": "0755fd07",
   "metadata": {},
   "outputs": [],
   "source": [
    "logger = logging.getLogger(f\"Daytime Checkout {Time.now()} UT\")\n",
    "logger.level = logging.DEBUG"
   ]
  },
  {
   "cell_type": "code",
   "execution_count": null,
   "id": "e80647f9",
   "metadata": {},
   "outputs": [],
   "source": [
    "logger.info(os.environ[\"OSPL_URI\"])\n",
    "logger.info(os.environ[\"LSST_DDS_PARTITION_PREFIX\"])"
   ]
  },
  {
   "cell_type": "markdown",
   "id": "a9cd22ea",
   "metadata": {},
   "source": [
    "### Instantiate the control classes"
   ]
  },
  {
   "cell_type": "code",
   "execution_count": null,
   "id": "f651e5d9",
   "metadata": {
    "jupyter": {
     "outputs_hidden": true
    },
    "tags": []
   },
   "outputs": [],
   "source": [
    "domain = salobj.Domain()\n",
    "atcs = ATCS(domain)\n",
    "latiss = LATISS(domain)\n",
    "await asyncio.gather(atcs.start_task, latiss.start_task)\n",
    "await atcs.assert_liveliness()"
   ]
  },
  {
   "cell_type": "markdown",
   "id": "50d3b4be",
   "metadata": {},
   "source": [
    "## Enable LATISS and ATCS"
   ]
  },
  {
   "cell_type": "code",
   "execution_count": null,
   "id": "ab6d900c",
   "metadata": {
    "tags": []
   },
   "outputs": [],
   "source": [
    "# Didn't come up.  Brought up with LOVE\n",
    "await latiss.enable()\n",
    "await atcs.enable()\n",
    "await atcs.assert_all_enabled()"
   ]
  },
  {
   "cell_type": "markdown",
   "id": "014ff42a-1d20-4a15-a145-3a59306459e2",
   "metadata": {
    "tags": []
   },
   "source": [
    "If ATCamera and/or ATOODS don't come up, see section `Quick Troubleshooting` for support commands. "
   ]
  },
  {
   "cell_type": "markdown",
   "id": "a85209e7",
   "metadata": {
    "tags": []
   },
   "source": [
    "### Bias verification"
   ]
  },
  {
   "cell_type": "code",
   "execution_count": null,
   "id": "7761429f",
   "metadata": {
    "tags": []
   },
   "outputs": [],
   "source": [
    "for i in range(5):\n",
    "    await latiss.take_bias(nbias=1)\n",
    "    await asyncio.sleep(2.0)"
   ]
  },
  {
   "cell_type": "code",
   "execution_count": null,
   "id": "eb8e7dab-9da0-42a9-995c-34977879aa1a",
   "metadata": {},
   "outputs": [],
   "source": [
    "await atcs.disable_dome_following()"
   ]
  },
  {
   "cell_type": "markdown",
   "id": "e3119deb-3ae5-46d3-812f-39df473b799e",
   "metadata": {
    "tags": []
   },
   "source": [
    "### Plot planned locations in RA/Dec space"
   ]
  },
  {
   "cell_type": "code",
   "execution_count": null,
   "id": "e2e2859e-c2c2-4b6a-8ff3-35715a811c6f",
   "metadata": {},
   "outputs": [],
   "source": [
    "ra = 12.0\n",
    "deltaRa = 2.5\n",
    "logCosDec = -0.8\n",
    "deltaLogCosDec = -0.1\n",
    "thetas = []\n",
    "decs = []\n",
    "for i in range(22):\n",
    "    theta = ra * 15.0\n",
    "    dec = - np.arccos(10**logCosDec) * 180.0 / np.pi\n",
    "    #print(logCosDec, dec, 90.0-dec)\n",
    "    thetas.append(theta / 180.0 * np.pi)\n",
    "    decs.append(90.0 + dec)\n",
    "    #print(theta, 90.0-dec)\n",
    "    ra += deltaRa\n",
    "    logCosDec += deltaLogCosDec\n",
    "fig, ax = plt.subplots(subplot_kw={'projection': 'polar'})\n",
    "ax.plot(thetas, decs, marker = 'x')\n",
    "ax.set_rmax(10.0)\n",
    "ax.set_rticks([5.0, 10.0])  # Less radial ticks\n",
    "#ax.set_rlabel_position(-22.5)  # Move radial labels away from plotted line\n",
    "ax.grid(True)\n",
    "\n",
    "ax.set_title(\"Planned Stiction Points\\nR shows distance from pole in degrees\\n 40 points total\")\n",
    "plt.show()"
   ]
  },
  {
   "cell_type": "markdown",
   "id": "3fc32bc5-5f36-4e5a-bcfd-27c3a9eeec21",
   "metadata": {
    "tags": []
   },
   "source": [
    "### Now run the actual test, taking a 30 second image at each location."
   ]
  },
  {
   "cell_type": "code",
   "execution_count": null,
   "id": "9ec79914-2b9c-464a-b8a7-45af51e44524",
   "metadata": {},
   "outputs": [],
   "source": [
    "az = 180.0\n",
    "el = 40.0\n",
    "coord=atcs.radec_from_azel(az=az, el=el)\n",
    "print(coord)"
   ]
  },
  {
   "cell_type": "code",
   "execution_count": null,
   "id": "e0da2385-5ed5-431a-90e6-42acd274113e",
   "metadata": {
    "jupyter": {
     "outputs_hidden": true
    },
    "tags": []
   },
   "outputs": [],
   "source": [
    "start_az=180.0\n",
    "start_el=40.0\n",
    "start_rot=0\n",
    "await atcs.point_azel(az=start_az, el=start_el, rot_tel=start_rot)"
   ]
  },
  {
   "cell_type": "code",
   "execution_count": null,
   "id": "449950cc-ce9a-4e4a-8367-fe880a4982b2",
   "metadata": {
    "jupyter": {
     "outputs_hidden": true
    },
    "tags": []
   },
   "outputs": [],
   "source": [
    "# Move to starting location\n",
    "ra = 12.0\n",
    "logCosDec = -0.8\n",
    "start_rot = 0.0\n",
    "dec = - np.arccos(10**logCosDec) * 180.0 / np.pi\n",
    "print(ra, dec)\n",
    "await atcs.slew_icrs(ra, dec, start_rot)"
   ]
  },
  {
   "cell_type": "code",
   "execution_count": null,
   "id": "6897aaac-84b7-4a47-adae-e03bf57288b9",
   "metadata": {
    "jupyter": {
     "outputs_hidden": true
    },
    "tags": []
   },
   "outputs": [],
   "source": [
    "# Now run the actual test\n",
    "# First image is 2022101800025\n",
    "ra = 12.0\n",
    "deltaRa = 2.5\n",
    "logCosDec = -0.8\n",
    "deltaLogCosDec = -0.1\n",
    "start_rot = 0.0\n",
    "for i in range(22):\n",
    "    dec = - np.arccos(10**logCosDec) * 180.0 / np.pi\n",
    "    ra += deltaRa\n",
    "    logCosDec += deltaLogCosDec\n",
    "    await atcs.slew_icrs(ra, dec, rot=start_rot)\n",
    "    await latiss.take_engtest(30.0, filter='empty_1',grating='empty_1')\n"
   ]
  },
  {
   "cell_type": "code",
   "execution_count": null,
   "id": "3ea5225b",
   "metadata": {},
   "outputs": [],
   "source": [
    "# Stop tracking\n",
    "await atcs.stop_tracking()"
   ]
  },
  {
   "cell_type": "markdown",
   "id": "a435880e",
   "metadata": {},
   "source": [
    "## Shutdown all ATCS components"
   ]
  },
  {
   "cell_type": "code",
   "execution_count": null,
   "id": "723d22b0",
   "metadata": {
    "jupyter": {
     "outputs_hidden": true
    },
    "tags": []
   },
   "outputs": [],
   "source": [
    "await atcs.shutdown()"
   ]
  },
  {
   "cell_type": "markdown",
   "id": "621b5407",
   "metadata": {},
   "source": [
    "## Put LATISS in standby"
   ]
  },
  {
   "cell_type": "code",
   "execution_count": null,
   "id": "80517626",
   "metadata": {
    "tags": []
   },
   "outputs": [],
   "source": [
    "await latiss.standby()"
   ]
  },
  {
   "cell_type": "code",
   "execution_count": null,
   "id": "7db406fb-1aba-4e52-bb87-250f5c1de5ab",
   "metadata": {},
   "outputs": [],
   "source": []
  }
 ],
 "metadata": {
  "kernelspec": {
   "display_name": "LSST",
   "language": "python",
   "name": "lsst"
  },
  "language_info": {
   "codemirror_mode": {
    "name": "ipython",
    "version": 3
   },
   "file_extension": ".py",
   "mimetype": "text/x-python",
   "name": "python",
   "nbconvert_exporter": "python",
   "pygments_lexer": "ipython3",
   "version": "3.10.6"
  }
 },
 "nbformat": 4,
 "nbformat_minor": 5
}
