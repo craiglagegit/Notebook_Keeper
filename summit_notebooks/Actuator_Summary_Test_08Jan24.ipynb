{
 "cells": [
  {
   "cell_type": "markdown",
   "id": "8153d4f6-518f-48ab-84f6-d1b56e92664b",
   "metadata": {},
   "source": [
    "# Code to test actuator summary code for DM-42381\n",
    "\n",
    "Craig Lage - 08-Jan-24"
   ]
  },
  {
   "cell_type": "code",
   "execution_count": null,
   "id": "910c3ec3-8cd6-4562-bdca-2e6e86b4c9db",
   "metadata": {
    "execution": {
     "iopub.execute_input": "2024-01-09T14:25:27.325373Z",
     "iopub.status.busy": "2024-01-09T14:25:27.325222Z",
     "iopub.status.idle": "2024-01-09T14:25:32.643689Z",
     "shell.execute_reply": "2024-01-09T14:25:32.643205Z",
     "shell.execute_reply.started": "2024-01-09T14:25:27.325358Z"
    },
    "tags": []
   },
   "outputs": [],
   "source": [
    "from lsst_efd_client import EfdClient\n",
    "from lsst.ts.criopy.m1m3 import ActuatorSummary\n",
    "from astropy.time import Time, TimeDelta\n",
    "from lsst.summit.utils.tmaUtils import TMAEvent, TMAEventMaker"
   ]
  },
  {
   "cell_type": "code",
   "execution_count": null,
   "id": "b3878cc4-4485-4d0c-9876-28186fc45333",
   "metadata": {
    "execution": {
     "iopub.execute_input": "2024-01-09T14:25:36.101020Z",
     "iopub.status.busy": "2024-01-09T14:25:36.100614Z",
     "iopub.status.idle": "2024-01-09T14:25:37.625385Z",
     "shell.execute_reply": "2024-01-09T14:25:37.624616Z",
     "shell.execute_reply.started": "2024-01-09T14:25:36.100987Z"
    },
    "tags": []
   },
   "outputs": [],
   "source": [
    "client = EfdClient('summit_efd')\n",
    "actuatorSummary = ActuatorSummary(client)"
   ]
  },
  {
   "cell_type": "markdown",
   "id": "34b4fbf0-7ec1-452a-b49d-3ae0b280058b",
   "metadata": {},
   "source": [
    "### Can use either a TMAEvent or start and end times to specify the times"
   ]
  },
  {
   "cell_type": "code",
   "execution_count": null,
   "id": "e132bc70-5c62-4e5e-ab55-97e2a7610a0e",
   "metadata": {
    "execution": {
     "iopub.execute_input": "2024-01-09T14:26:27.079749Z",
     "iopub.status.busy": "2024-01-09T14:26:27.079352Z",
     "iopub.status.idle": "2024-01-09T14:26:55.601213Z",
     "shell.execute_reply": "2024-01-09T14:26:55.600368Z",
     "shell.execute_reply.started": "2024-01-09T14:26:27.079728Z"
    }
   },
   "outputs": [],
   "source": [
    "dayObs = 20240103\n",
    "seqNum = 976\n",
    "eventMaker = TMAEventMaker()\n",
    "event = eventMaker.getEvent(dayObs, seqNum)"
   ]
  },
  {
   "cell_type": "code",
   "execution_count": null,
   "id": "6195c094-5af3-4673-8662-2f022769048d",
   "metadata": {
    "execution": {
     "iopub.execute_input": "2024-01-09T14:26:57.600473Z",
     "iopub.status.busy": "2024-01-09T14:26:57.600096Z",
     "iopub.status.idle": "2024-01-09T14:26:57.606332Z",
     "shell.execute_reply": "2024-01-09T14:26:57.605464Z",
     "shell.execute_reply.started": "2024-01-09T14:26:57.600444Z"
    }
   },
   "outputs": [],
   "source": [
    "start = Time('2024-01-04T05:24:29.960', scale = 'utc')\n",
    "end = Time('2024-01-04T05:24:42.118', scale='utc')"
   ]
  },
  {
   "cell_type": "markdown",
   "id": "088a486e-5573-45b7-8460-830d053ea67b",
   "metadata": {},
   "source": [
    "### Summary per actuator"
   ]
  },
  {
   "cell_type": "code",
   "execution_count": null,
   "id": "4cd63d15-c1c9-47ad-8acc-28113f2325ef",
   "metadata": {
    "execution": {
     "iopub.execute_input": "2024-01-09T14:26:59.468041Z",
     "iopub.status.busy": "2024-01-09T14:26:59.467781Z",
     "iopub.status.idle": "2024-01-09T14:26:59.512486Z",
     "shell.execute_reply": "2024-01-09T14:26:59.511680Z",
     "shell.execute_reply.started": "2024-01-09T14:26:59.468019Z"
    }
   },
   "outputs": [],
   "source": [
    "result = await actuatorSummary.following_error_by_id(108, \\\n",
    "                event, output='Mean')\n",
    "print(result)"
   ]
  },
  {
   "cell_type": "code",
   "execution_count": null,
   "id": "be144907-b317-478c-99ea-7c7d4f8ea8be",
   "metadata": {
    "execution": {
     "iopub.execute_input": "2024-01-09T14:27:03.954793Z",
     "iopub.status.busy": "2024-01-09T14:27:03.954495Z",
     "iopub.status.idle": "2024-01-09T14:27:03.991293Z",
     "shell.execute_reply": "2024-01-09T14:27:03.990559Z",
     "shell.execute_reply.started": "2024-01-09T14:27:03.954765Z"
    }
   },
   "outputs": [],
   "source": [
    "result = await actuatorSummary.following_error_by_id(108, \\\n",
    "                start=start, end=end, describe=True, output='MinMax')\n",
    "print(result)"
   ]
  },
  {
   "cell_type": "markdown",
   "id": "cb98853c-46da-40f1-b6d4-b08630742181",
   "metadata": {},
   "source": [
    "### Summary of all actuators"
   ]
  },
  {
   "cell_type": "code",
   "execution_count": null,
   "id": "23d2fced-7a30-410e-8508-401c5326347a",
   "metadata": {
    "execution": {
     "iopub.execute_input": "2024-01-09T14:27:08.476047Z",
     "iopub.status.busy": "2024-01-09T14:27:08.475755Z",
     "iopub.status.idle": "2024-01-09T14:27:09.901053Z",
     "shell.execute_reply": "2024-01-09T14:27:09.900214Z",
     "shell.execute_reply.started": "2024-01-09T14:27:08.476025Z"
    }
   },
   "outputs": [],
   "source": [
    "result = await actuatorSummary.following_errors(event, \\\n",
    "                                describe=True, output='Mean')\n",
    "print(result)"
   ]
  },
  {
   "cell_type": "code",
   "execution_count": null,
   "id": "d8bd9659-f703-42d3-912a-8e21610b5817",
   "metadata": {
    "execution": {
     "iopub.execute_input": "2024-01-09T14:27:13.636375Z",
     "iopub.status.busy": "2024-01-09T14:27:13.635544Z",
     "iopub.status.idle": "2024-01-09T14:27:16.235987Z",
     "shell.execute_reply": "2024-01-09T14:27:16.235300Z",
     "shell.execute_reply.started": "2024-01-09T14:27:13.636344Z"
    }
   },
   "outputs": [],
   "source": [
    "result = await actuatorSummary.following_errors(event, \\\n",
    "                                describe=True, output='MinMax')\n",
    "print(result)"
   ]
  },
  {
   "cell_type": "code",
   "execution_count": null,
   "id": "877871da-fae8-4f82-aa09-c21f443ad93e",
   "metadata": {},
   "outputs": [],
   "source": []
  }
 ],
 "metadata": {
  "kernelspec": {
   "display_name": "LSST",
   "language": "python",
   "name": "lsst"
  },
  "language_info": {
   "codemirror_mode": {
    "name": "ipython",
    "version": 3
   },
   "file_extension": ".py",
   "mimetype": "text/x-python",
   "name": "python",
   "nbconvert_exporter": "python",
   "pygments_lexer": "ipython3",
   "version": "3.11.6"
  }
 },
 "nbformat": 4,
 "nbformat_minor": 5
}
