{
 "cells": [
  {
   "cell_type": "code",
   "execution_count": null,
   "metadata": {
    "execution": {
     "iopub.execute_input": "2022-12-01T15:19:44.849622Z",
     "iopub.status.busy": "2022-12-01T15:19:44.849219Z",
     "iopub.status.idle": "2022-12-01T15:19:45.327952Z",
     "shell.execute_reply": "2022-12-01T15:19:45.327501Z",
     "shell.execute_reply.started": "2022-12-01T15:19:44.849604Z"
    },
    "tags": []
   },
   "outputs": [],
   "source": [
    "import sys, time, os, asyncio, glob\n",
    "from datetime import datetime\n",
    "import numpy as np\n",
    "import matplotlib.pyplot as plt\n",
    "from astropy.time import Time, TimeDelta\n",
    "\n",
    "from lsst_efd_client import EfdClient"
   ]
  },
  {
   "cell_type": "code",
   "execution_count": null,
   "metadata": {
    "execution": {
     "iopub.execute_input": "2022-12-01T15:19:45.565195Z",
     "iopub.status.busy": "2022-12-01T15:19:45.564844Z",
     "iopub.status.idle": "2022-12-01T15:19:46.675630Z",
     "shell.execute_reply": "2022-12-01T15:19:46.675034Z",
     "shell.execute_reply.started": "2022-12-01T15:19:45.565177Z"
    },
    "tags": []
   },
   "outputs": [],
   "source": [
    "client = EfdClient('summit_efd')"
   ]
  },
  {
   "cell_type": "code",
   "execution_count": null,
   "metadata": {
    "execution": {
     "iopub.execute_input": "2022-12-01T15:19:46.681829Z",
     "iopub.status.busy": "2022-12-01T15:19:46.681500Z",
     "iopub.status.idle": "2022-12-01T15:19:46.685089Z",
     "shell.execute_reply": "2022-12-01T15:19:46.684599Z",
     "shell.execute_reply.started": "2022-12-01T15:19:46.681808Z"
    },
    "tags": []
   },
   "outputs": [],
   "source": [
    "# Times to start looking at the mount data\n",
    "# We were slewing a small random distance, then tracking for 32 seconds\n",
    "# We'll query the EFD during that time\n",
    "start = Time(\"2022-11-29 00:00:00Z\", scale='utc')\n",
    "end = Time(\"2022-11-29 09:00:00Z\", scale='utc')"
   ]
  },
  {
   "cell_type": "code",
   "execution_count": null,
   "metadata": {
    "execution": {
     "iopub.execute_input": "2022-12-01T15:19:46.940709Z",
     "iopub.status.busy": "2022-12-01T15:19:46.940362Z",
     "iopub.status.idle": "2022-12-01T15:19:46.983397Z",
     "shell.execute_reply": "2022-12-01T15:19:46.982812Z",
     "shell.execute_reply.started": "2022-12-01T15:19:46.940692Z"
    },
    "tags": []
   },
   "outputs": [],
   "source": [
    "startTrack = await client.select_time_series('lsst.sal.MTMount.command_startTracking', \\\n",
    "                                                ['*'],  start, end)\n",
    "stopTrack = await client.select_time_series('lsst.sal.MTMount.command_stopTracking', \\\n",
    "                                                ['*'],  start, end)"
   ]
  },
  {
   "cell_type": "code",
   "execution_count": null,
   "metadata": {
    "execution": {
     "iopub.execute_input": "2022-12-01T15:19:47.810873Z",
     "iopub.status.busy": "2022-12-01T15:19:47.810493Z",
     "iopub.status.idle": "2022-12-01T15:19:47.814586Z",
     "shell.execute_reply": "2022-12-01T15:19:47.814081Z",
     "shell.execute_reply.started": "2022-12-01T15:19:47.810856Z"
    },
    "tags": []
   },
   "outputs": [],
   "source": [
    "# Only three - I thought there would be more ??\n",
    "len(startTrack)"
   ]
  },
  {
   "cell_type": "code",
   "execution_count": null,
   "metadata": {
    "execution": {
     "iopub.execute_input": "2022-12-01T15:19:48.722794Z",
     "iopub.status.busy": "2022-12-01T15:19:48.722424Z",
     "iopub.status.idle": "2022-12-01T15:19:48.732146Z",
     "shell.execute_reply": "2022-12-01T15:19:48.731673Z",
     "shell.execute_reply.started": "2022-12-01T15:19:48.722776Z"
    },
    "tags": []
   },
   "outputs": [],
   "source": [
    "startTrack"
   ]
  },
  {
   "cell_type": "code",
   "execution_count": null,
   "metadata": {
    "execution": {
     "iopub.execute_input": "2022-12-01T15:19:53.253527Z",
     "iopub.status.busy": "2022-12-01T15:19:53.253162Z",
     "iopub.status.idle": "2022-12-01T15:19:54.033711Z",
     "shell.execute_reply": "2022-12-01T15:19:54.033281Z",
     "shell.execute_reply.started": "2022-12-01T15:19:53.253509Z"
    },
    "tags": []
   },
   "outputs": [],
   "source": [
    "# Plotting the mount plots\n",
    "%matplotlib inline\n",
    "track_counter = 2 # This chooses one of the tracking times\n",
    "start = Time(startTrack.index[track_counter]) + TimeDelta(5.0, format='sec') # Need to shift to be sure mount has stabilized\n",
    "end  = Time(stopTrack.index[track_counter])\n",
    "\n",
    "az = await client.select_time_series('lsst.sal.MTMount.azimuth', \\\n",
    "                                            ['actualPosition', 'timestamp'],  start, end)\n",
    "el = await client.select_time_series('lsst.sal.MTMount.elevation', \\\n",
    "                                            ['actualPosition', 'timestamp'],  start, end)    \n",
    "# Calculate the tracking errors\n",
    "az_vals = np.array(az.values[:,0])\n",
    "el_vals = np.array(el.values[:,0])\n",
    "times_az = az.values[:,1]\n",
    "times_el = el.values[:,1]\n",
    "# The fits are much better if the time variable\n",
    "# is centered in the interval\n",
    "fit_times_az = [(times_az[i]-times_az[int(len(az.values) / 2)]) for i in range(len(times_az))]\n",
    "fit_times_el = [(times_el[i]-times_el[int(len(el.values) / 2)]) for i in range(len(times_el))]\n",
    "\n",
    "# Fit with a polynomial\n",
    "az_fit = np.polyfit(fit_times_az, az_vals, 4)\n",
    "el_fit = np.polyfit(fit_times_el, el_vals, 4)\n",
    "az_model = np.polyval(az_fit, fit_times_az)\n",
    "el_model = np.polyval(el_fit, fit_times_el)\n",
    "\n",
    "# Errors in arcseconds\n",
    "az_error = (az_vals - az_model) * 3600\n",
    "el_error = (el_vals - el_model) * 3600\n",
    "\n",
    "# Calculate RMS\n",
    "az_rms = np.sqrt(np.mean(az_error * az_error))\n",
    "el_rms = np.sqrt(np.mean(el_error * el_error))\n",
    "\n",
    "# Calculate Image impact RMS\n",
    "# We are less sensitive to Az errors near the zenith\n",
    "image_az_rms = az_rms * np.cos(el_vals[0] * np.pi / 180.0)\n",
    "image_el_rms = el_rms \n",
    "\n",
    "fig = plt.figure(figsize = (8,8))\n",
    "plt.subplots_adjust(wspace=0.3, hspace=0.5)\n",
    "plt.suptitle(f\"MT Mount Jitter - 20221128\", fontsize = 18)\n",
    "plt.subplot(2,2,1)\n",
    "ax1 = az['actualPosition'].plot(legend=True, color='red')\n",
    "ax1.set_title(\"Azimuth\")\n",
    "ax1.set_ylabel(\"Degrees\")\n",
    "plt.subplot(2,2,2)\n",
    "ax3 = el['actualPosition'].plot(legend=True, color='green')\n",
    "ax3.set_title(\"Elevation\")\n",
    "ax3.set_ylabel(\"Degrees\")\n",
    "\n",
    "plt.subplot(2,2,3)\n",
    "plt.plot(fit_times_az, az_error, color='red')\n",
    "plt.title(f\"Azimuth RMS error = {az_rms:.2f} arcseconds\\n\"\n",
    "          f\"  Image RMS error = {image_az_rms:.2f} arcseconds\", fontsize=10)\n",
    "plt.ylim(-10.0,10.0)\n",
    "plt.xticks([])\n",
    "plt.ylabel(\"ArcSeconds\")\n",
    "plt.subplot(2,2,4)\n",
    "plt.plot(fit_times_el, el_error, color='green')\n",
    "plt.title(f\"Elevation RMS error = {el_rms:.2f} arcseconds\\n\"\n",
    "          f\"  Image RMS error = {image_el_rms:.2f} arcseconds\", fontsize=10)\n",
    "plt.ylim(-10.0,10.0)\n",
    "plt.xticks([])\n",
    "plt.ylabel(\"ArcSeconds\")\n",
    "plt.savefig(f\"/home/craiglagegit/DATA/MT_Mount_Jitter_20221128_{track_counter}.pdf\")\n"
   ]
  },
  {
   "cell_type": "code",
   "execution_count": null,
   "metadata": {
    "execution": {
     "iopub.execute_input": "2022-12-01T15:21:40.818907Z",
     "iopub.status.busy": "2022-12-01T15:21:40.818635Z",
     "iopub.status.idle": "2022-12-01T15:21:41.060484Z",
     "shell.execute_reply": "2022-12-01T15:21:41.060053Z",
     "shell.execute_reply.started": "2022-12-01T15:21:40.818889Z"
    },
    "tags": []
   },
   "outputs": [],
   "source": [
    "fig = plt.figure(figsize = (8,4))\n",
    "plt.subplots_adjust(wspace=0.3)\n",
    "plt.subplot(1,2,1)\n",
    "plt.plot(fit_times_az[0:100], az_error[0:100], color='red')\n",
    "plt.xlabel(\"Time from center of track (seconds)\")\n",
    "plt.ylabel(\"Azimuth Error (arcseconds)\")\n",
    "plt.ylim(-2,2)\n",
    "plt.subplot(1,2,2)\n",
    "plt.plot(fit_times_el[0:100], el_error[0:100], color='green')\n",
    "plt.xlabel(\"Time from center of track (seconds)\")\n",
    "plt.ylabel(\"Elevation Error (arcseconds)\")\n",
    "plt.ylim(-2,2)\n",
    "plt.savefig(f\"/home/craiglagegit/DATA/MT_Mount_Jitter_Blowup_20221128_{track_counter}.pdf\")"
   ]
  },
  {
   "cell_type": "code",
   "execution_count": null,
   "metadata": {
    "execution": {
     "iopub.execute_input": "2022-12-01T15:35:16.670101Z",
     "iopub.status.busy": "2022-12-01T15:35:16.669827Z",
     "iopub.status.idle": "2022-12-01T15:35:16.985666Z",
     "shell.execute_reply": "2022-12-01T15:35:16.985116Z",
     "shell.execute_reply.started": "2022-12-01T15:35:16.670083Z"
    },
    "tags": []
   },
   "outputs": [],
   "source": [
    "az = await client.select_time_series('lsst.sal.MTMount.azimuth', \\\n",
    "                                            ['actualPosition', 'timestamp'],  start, end)\n",
    "el = await client.select_time_series('lsst.sal.MTMount.elevation', \\\n",
    "                                            ['actualPosition', 'timestamp'],  start, end)    \n",
    "# Calculate the tracking errors\n",
    "az_vals = np.array(az.values[:,0])\n",
    "el_vals = np.array(el.values[:,0])\n",
    "times_az = az.values[:,1]\n",
    "times_el = el.values[:,1]\n",
    "# The fits are much better if the time variable\n",
    "# is centered in the interval\n",
    "fit_times_az = [(times_az[i]-times_az[int(len(az.values) / 2)]) for i in range(len(times_az))]\n",
    "fit_times_el = [(times_el[i]-times_el[int(len(el.values) / 2)]) for i in range(len(times_el))]\n",
    "\n",
    "fig = plt.figure(figsize = (8,4))\n",
    "plt.subplots_adjust(wspace=0.5)\n",
    "plt.subplot(1,2,1)\n",
    "plt.plot(fit_times_az[0:40], az_vals[0:40])\n",
    "plt.ylabel(\"Azimuth actualPosition values\")\n",
    "plt.xlabel(\"Index\")\n",
    "plt.subplot(1,2,2)\n",
    "plt.plot(fit_times_el[0:40], el_vals[0:40])\n",
    "plt.ylabel(\"Elevation actualPosition values\")\n",
    "plt.xlabel(\"Index\")\n",
    "plt.savefig(f\"/home/craiglagegit/DATA/MT_AzEl_Values_20221128.pdf\")"
   ]
  },
  {
   "cell_type": "code",
   "execution_count": null,
   "metadata": {
    "execution": {
     "iopub.execute_input": "2022-12-01T15:36:09.657795Z",
     "iopub.status.busy": "2022-12-01T15:36:09.657485Z",
     "iopub.status.idle": "2022-12-01T15:36:09.950794Z",
     "shell.execute_reply": "2022-12-01T15:36:09.950206Z",
     "shell.execute_reply.started": "2022-12-01T15:36:09.657770Z"
    },
    "tags": []
   },
   "outputs": [],
   "source": [
    "az = await client.select_time_series('lsst.sal.MTMount.azimuth', \\\n",
    "                                            ['actualVelocity', 'timestamp'],  start, end)\n",
    "el = await client.select_time_series('lsst.sal.MTMount.elevation', \\\n",
    "                                            ['actualVelocity', 'timestamp'],  start, end)    \n",
    "# Calculate the tracking errors\n",
    "az_vals = np.array(az.values[:,0])\n",
    "el_vals = np.array(el.values[:,0])\n",
    "times_az = az.values[:,1]\n",
    "times_el = el.values[:,1]\n",
    "# The fits are much better if the time variable\n",
    "# is centered in the interval\n",
    "fit_times_az = [(times_az[i]-times_az[int(len(az.values) / 2)]) for i in range(len(times_az))]\n",
    "fit_times_el = [(times_el[i]-times_el[int(len(el.values) / 2)]) for i in range(len(times_el))]\n",
    "\n",
    "fig = plt.figure(figsize = (8,4))\n",
    "plt.subplots_adjust(wspace=0.5)\n",
    "plt.subplot(1,2,1)\n",
    "plt.plot(fit_times_az[0:40], az_vals[0:40])\n",
    "plt.ylabel(\"Azimuth actualVelocity values\")\n",
    "plt.xlabel(\"Index\")\n",
    "plt.subplot(1,2,2)\n",
    "plt.plot(fit_times_el[0:40], el_vals[0:40])\n",
    "plt.ylabel(\"Elevation actualVelocity values\")\n",
    "plt.xlabel(\"Index\")\n",
    "plt.savefig(f\"/home/craiglagegit/DATA/MT_AzEl_Velocity_Values_20221128.pdf\")"
   ]
  },
  {
   "cell_type": "code",
   "execution_count": null,
   "metadata": {
    "execution": {
     "iopub.execute_input": "2022-12-01T15:37:09.045639Z",
     "iopub.status.busy": "2022-12-01T15:37:09.045364Z",
     "iopub.status.idle": "2022-12-01T15:37:09.359508Z",
     "shell.execute_reply": "2022-12-01T15:37:09.358974Z",
     "shell.execute_reply.started": "2022-12-01T15:37:09.045621Z"
    },
    "tags": []
   },
   "outputs": [],
   "source": [
    "az = await client.select_time_series('lsst.sal.MTMount.azimuth', \\\n",
    "                                            ['demandPosition', 'timestamp'],  start, end)\n",
    "el = await client.select_time_series('lsst.sal.MTMount.elevation', \\\n",
    "                                            ['demandPosition', 'timestamp'],  start, end)    \n",
    "# Calculate the tracking errors\n",
    "az_vals = np.array(az.values[:,0])\n",
    "el_vals = np.array(el.values[:,0])\n",
    "times_az = az.values[:,1]\n",
    "times_el = el.values[:,1]\n",
    "# The fits are much better if the time variable\n",
    "# is centered in the interval\n",
    "fit_times_az = [(times_az[i]-times_az[int(len(az.values) / 2)]) for i in range(len(times_az))]\n",
    "fit_times_el = [(times_el[i]-times_el[int(len(el.values) / 2)]) for i in range(len(times_el))]\n",
    "\n",
    "fig = plt.figure(figsize = (8,4))\n",
    "plt.subplots_adjust(wspace=0.5)\n",
    "plt.subplot(1,2,1)\n",
    "plt.plot(fit_times_az[0:40], az_vals[0:40])\n",
    "plt.ylabel(\"Azimuth demandPosition values\")\n",
    "plt.xlabel(\"Index\")\n",
    "plt.subplot(1,2,2)\n",
    "plt.plot(fit_times_el[0:40], el_vals[0:40])\n",
    "plt.ylabel(\"Elevation demandPosition values\")\n",
    "plt.xlabel(\"Index\")\n",
    "plt.savefig(f\"/home/craiglagegit/DATA/MT_AzEl_Demand_Values_20221128.pdf\")"
   ]
  },
  {
   "cell_type": "code",
   "execution_count": null,
   "metadata": {},
   "outputs": [],
   "source": []
  }
 ],
 "metadata": {
  "kernelspec": {
   "display_name": "LSST",
   "language": "python",
   "name": "lsst"
  },
  "language_info": {
   "codemirror_mode": {
    "name": "ipython",
    "version": 3
   },
   "file_extension": ".py",
   "mimetype": "text/x-python",
   "name": "python",
   "nbconvert_exporter": "python",
   "pygments_lexer": "ipython3",
   "version": "3.10.6"
  }
 },
 "nbformat": 4,
 "nbformat_minor": 4
}
