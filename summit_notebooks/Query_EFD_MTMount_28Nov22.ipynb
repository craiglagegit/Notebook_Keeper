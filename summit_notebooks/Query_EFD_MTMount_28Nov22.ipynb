{
 "cells": [
  {
   "cell_type": "code",
   "execution_count": null,
   "metadata": {},
   "outputs": [],
   "source": [
    "import sys, time, os, asyncio, glob\n",
    "\n",
    "from datetime import datetime\n",
    "import numpy as np\n",
    "import matplotlib.pyplot as plt\n",
    "from matplotlib.colors import LogNorm\n",
    "%matplotlib widget\n",
    "import pickle as pkl\n",
    "import pandas as pd\n",
    "import astropy.io.fits as pf\n",
    "from astropy.time import Time, TimeDelta\n",
    "\n",
    "from lsst_efd_client import EfdClient"
   ]
  },
  {
   "cell_type": "code",
   "execution_count": null,
   "metadata": {},
   "outputs": [],
   "source": [
    "client = EfdClient('summit_efd')"
   ]
  },
  {
   "cell_type": "code",
   "execution_count": null,
   "metadata": {},
   "outputs": [],
   "source": [
    "# Times to start looking at the mount data\n",
    "# We were slewing a small random distance, then tracking for 32 seconds\n",
    "# So we'll look for 2 minutes\n",
    "start = Time(\"2022-11-29 00:00:00Z\", scale='utc')\n",
    "end = Time(\"2022-11-29 0:10:00Z\", scale='utc')"
   ]
  },
  {
   "cell_type": "code",
   "execution_count": null,
   "metadata": {},
   "outputs": [],
   "source": [
    "azimuth = await client.select_time_series('lsst.sal.MTMount.azimuth', \\\n",
    "                                                ['*'],  start, end)\n",
    "elevation = await client.select_time_series('lsst.sal.MTMount.elevation', \\\n",
    "                                                ['*'],  start, end)"
   ]
  },
  {
   "cell_type": "code",
   "execution_count": null,
   "metadata": {
    "tags": []
   },
   "outputs": [],
   "source": [
    "azimuth['actualPosition']"
   ]
  },
  {
   "cell_type": "code",
   "execution_count": null,
   "metadata": {
    "tags": []
   },
   "outputs": [],
   "source": [
    "for i in range (10):\n",
    "    print(i, azimuth.index[i+1] - azimuth.index[i])\n",
    "print((azimuth.index[100] - azimuth.index[0]) / 100.0)"
   ]
  },
  {
   "cell_type": "code",
   "execution_count": null,
   "metadata": {},
   "outputs": [],
   "source": [
    "for i in range (10):\n",
    "    print(i, elevation.index[i+1] - elevation.index[i])\n",
    "print((elevation.index[100] - elevation.index[0]) / 100.0)"
   ]
  },
  {
   "cell_type": "code",
   "execution_count": null,
   "metadata": {},
   "outputs": [],
   "source": [
    "%matplotlib inline\n",
    "azimuth['actualPosition'].plot()\n"
   ]
  },
  {
   "cell_type": "code",
   "execution_count": null,
   "metadata": {},
   "outputs": [],
   "source": [
    "%matplotlib inline\n",
    "azimuth.plot(y=['actualPosition', 'demandPosition', 'actualVelocity', 'actualTorque'], subplots=True, layout=(2,2))\n"
   ]
  },
  {
   "cell_type": "code",
   "execution_count": null,
   "metadata": {},
   "outputs": [],
   "source": [
    "%matplotlib inline\n",
    "track_start = Time(\"2022-11-29 00:01:00Z\", scale='utc')\n",
    "track_end = Time(\"2022-11-29 0:01:30Z\", scale='utc')\n",
    "azimuth.plot(y=['actualPosition', 'demandPosition', 'actualVelocity', 'actualTorque'], subplots=True, layout=(2,2), \\\n",
    "            xlim=(113.5, 114))\n",
    "plt.xlim(track_start.isot, track_end.isot)"
   ]
  },
  {
   "cell_type": "code",
   "execution_count": null,
   "metadata": {},
   "outputs": [],
   "source": [
    "az_vals = np.array(azimuth['actualPosition'].values.tolist())"
   ]
  },
  {
   "cell_type": "code",
   "execution_count": null,
   "metadata": {},
   "outputs": [],
   "source": [
    "az_vals"
   ]
  },
  {
   "cell_type": "code",
   "execution_count": null,
   "metadata": {},
   "outputs": [],
   "source": [
    "track_start = Time(\"2022-11-29 00:01:00Z\", scale='utc')\n",
    "track_end = Time(\"2022-11-29 0:01:30Z\", scale='utc')\n",
    "\n",
    "az_vals = np.array(azimuth['actualPosition'].values.tolist())\n",
    "vel_vals = np.array(azimuth['actualVelocity'].values.tolist())\n",
    "torque_vals = np.array(azimuth['actualTorque'].values.tolist())\n",
    "times = azimuth.index\n",
    "\n",
    "azimuth.plot(y=['actualPosition'])\n",
    "plt.xlim(track_start.isot, track_end.isot)\n",
    "plt.autoscale(enable=True)\n",
    "##plt.ylim(113.8, 114.0)"
   ]
  },
  {
   "cell_type": "code",
   "execution_count": null,
   "metadata": {},
   "outputs": [],
   "source": [
    "plt.plot(times, az_vals)\n",
    "plt.xlim(track_start.isot, track_end.isot)\n",
    "#plt.ylim(113.8, 114.0)"
   ]
  },
  {
   "cell_type": "code",
   "execution_count": null,
   "metadata": {
    "jupyter": {
     "outputs_hidden": true
    },
    "tags": []
   },
   "outputs": [],
   "source": [
    "azimuth['actualPosition'].to_list()"
   ]
  },
  {
   "cell_type": "code",
   "execution_count": null,
   "metadata": {},
   "outputs": [],
   "source": [
    "(azimuth.index[100] - azimuth.index[0]) / 100.0"
   ]
  },
  {
   "cell_type": "code",
   "execution_count": null,
   "metadata": {},
   "outputs": [],
   "source": [
    "\n",
    "for index, row in azimuth.iterrows():\n",
    "    print(index)\n",
    "    break"
   ]
  },
  {
   "cell_type": "code",
   "execution_count": null,
   "metadata": {},
   "outputs": [],
   "source": [
    "index-index"
   ]
  },
  {
   "cell_type": "code",
   "execution_count": null,
   "metadata": {},
   "outputs": [],
   "source": [
    "azimuth"
   ]
  },
  {
   "cell_type": "code",
   "execution_count": null,
   "metadata": {},
   "outputs": [],
   "source": []
  },
  {
   "cell_type": "code",
   "execution_count": null,
   "metadata": {},
   "outputs": [],
   "source": [
    "# Times to start looking at the mount data\n",
    "# We were slewing a small random distance, then tracking for 32 seconds\n",
    "# So we'll look for 2 minutes\n",
    "start = Time(\"2022-11-29 00:00:00Z\", scale='utc')\n",
    "end = Time(\"2022-11-29 06:00:00Z\", scale='utc')"
   ]
  },
  {
   "cell_type": "code",
   "execution_count": null,
   "metadata": {},
   "outputs": [],
   "source": [
    "startTrack = await client.select_time_series('lsst.sal.MTMount.command_startTracking', \\\n",
    "                                                ['*'],  start, end)\n",
    "stopTrack = await client.select_time_series('lsst.sal.MTMount.command_stopTracking', \\\n",
    "                                                ['*'],  start, end)"
   ]
  },
  {
   "cell_type": "code",
   "execution_count": null,
   "metadata": {},
   "outputs": [],
   "source": [
    "startTrack.index[0]"
   ]
  },
  {
   "cell_type": "code",
   "execution_count": null,
   "metadata": {},
   "outputs": [],
   "source": [
    "stopTrack.index[0]"
   ]
  },
  {
   "cell_type": "code",
   "execution_count": null,
   "metadata": {},
   "outputs": [],
   "source": []
  },
  {
   "cell_type": "code",
   "execution_count": null,
   "metadata": {},
   "outputs": [],
   "source": [
    "# Times to start looking at the mount data\n",
    "# We were slewing a small random distance, then tracking for 32 seconds\n",
    "# We'll query the EFD during that time\n",
    "start = Time(\"2022-11-22 00:00:00Z\", scale='utc')\n",
    "end = Time(\"2022-11-30 00:00:00Z\", scale='utc')"
   ]
  },
  {
   "cell_type": "code",
   "execution_count": null,
   "metadata": {},
   "outputs": [],
   "source": [
    "home = await client.select_time_series('lsst.sal.MTMount.command_homeBothAxes', \\\n",
    "                                                ['*'],  start, end)\n"
   ]
  },
  {
   "cell_type": "code",
   "execution_count": null,
   "metadata": {},
   "outputs": [],
   "source": [
    "home"
   ]
  },
  {
   "cell_type": "code",
   "execution_count": null,
   "metadata": {},
   "outputs": [],
   "source": []
  }
 ],
 "metadata": {
  "kernelspec": {
   "display_name": "LSST",
   "language": "python",
   "name": "lsst"
  },
  "language_info": {
   "codemirror_mode": {
    "name": "ipython",
    "version": 3
   },
   "file_extension": ".py",
   "mimetype": "text/x-python",
   "name": "python",
   "nbconvert_exporter": "python",
   "pygments_lexer": "ipython3",
   "version": "3.10.5"
  }
 },
 "nbformat": 4,
 "nbformat_minor": 4
}
