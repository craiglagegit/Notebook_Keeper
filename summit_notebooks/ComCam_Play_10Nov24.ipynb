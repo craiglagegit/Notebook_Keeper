{
 "cells": [
  {
   "cell_type": "markdown",
   "id": "d33f1de7-f560-4cc0-be00-f835768da9f9",
   "metadata": {},
   "source": [
    "# ComCam star PSF"
   ]
  },
  {
   "cell_type": "code",
   "execution_count": null,
   "id": "8c4c6e7c-9d47-4ab6-9951-de7dd64aea30",
   "metadata": {
    "execution": {
     "iopub.execute_input": "2024-11-12T14:36:50.937556Z",
     "iopub.status.busy": "2024-11-12T14:36:50.937247Z",
     "iopub.status.idle": "2024-11-12T14:36:50.942382Z",
     "shell.execute_reply": "2024-11-12T14:36:50.941901Z",
     "shell.execute_reply.started": "2024-11-12T14:36:50.937538Z"
    }
   },
   "outputs": [],
   "source": [
    "import numpy as np\n",
    "import matplotlib.pyplot as plt\n",
    "from mpl_toolkits.axes_grid1.axes_divider import make_axes_locatable\n",
    "import astropy.io.fits as pf\n",
    "from lsst.daf.butler import Butler\n",
    "import lsst.summit.utils.butlerUtils as butlerUtils\n",
    "from lsst.pipe.tasks.characterizeImage import CharacterizeImageTask, CharacterizeImageConfig\n",
    "from lsst.summit.utils.plotting import plot\n",
    "from lsst.geom import Point2D, Extent2I\n",
    "\n",
    "from scipy.special import erf\n",
    "from scipy.optimize import minimize\n",
    "\n",
    "%matplotlib inline"
   ]
  },
  {
   "cell_type": "code",
   "execution_count": null,
   "id": "abe6e82e-d9c0-4a45-801d-f018192e2db8",
   "metadata": {
    "execution": {
     "iopub.execute_input": "2024-11-12T14:33:40.502822Z",
     "iopub.status.busy": "2024-11-12T14:33:40.502282Z",
     "iopub.status.idle": "2024-11-12T14:33:40.723268Z",
     "shell.execute_reply": "2024-11-12T14:33:40.722727Z",
     "shell.execute_reply.started": "2024-11-12T14:33:40.502804Z"
    }
   },
   "outputs": [],
   "source": [
    "butler = butlerUtils.makeDefaultButler(\"LSSTComCam\")"
   ]
  },
  {
   "cell_type": "code",
   "execution_count": null,
   "id": "cc0f7788-554d-4fca-b299-7b18ccbf4569",
   "metadata": {
    "execution": {
     "iopub.execute_input": "2024-11-12T14:33:40.724156Z",
     "iopub.status.busy": "2024-11-12T14:33:40.723995Z",
     "iopub.status.idle": "2024-11-12T14:33:43.184015Z",
     "shell.execute_reply": "2024-11-12T14:33:43.183468Z",
     "shell.execute_reply.started": "2024-11-12T14:33:40.724142Z"
    }
   },
   "outputs": [],
   "source": [
    "expId = 2024110600252\n",
    "calexp = butler.get('calexp', detector=4, visit=expId, instrument='LSSTComCam')\n",
    "x = plot(calexp)"
   ]
  },
  {
   "cell_type": "code",
   "execution_count": null,
   "id": "ce638601-da33-4761-b9b2-0813cd441f4a",
   "metadata": {
    "execution": {
     "iopub.execute_input": "2024-11-12T14:34:19.221687Z",
     "iopub.status.busy": "2024-11-12T14:34:19.221307Z",
     "iopub.status.idle": "2024-11-12T14:34:24.538374Z",
     "shell.execute_reply": "2024-11-12T14:34:24.537859Z",
     "shell.execute_reply.started": "2024-11-12T14:34:19.221666Z"
    }
   },
   "outputs": [],
   "source": [
    "charConfig = CharacterizeImageConfig()\n",
    "charConfig.doMeasurePsf = False\n",
    "charConfig.doApCorr = False\n",
    "charConfig.doDeblend = False\n",
    "charConfig.repair.doCosmicRay = False\n",
    "charConfig.repair.doInterpolate = False   \n",
    "charConfig.detection.minPixels = 100\n",
    "charConfig.doNormalizedCalibration=False\n",
    "charTask = CharacterizeImageTask(config=charConfig)\n",
    "\n",
    "charResult = charTask.run(calexp)\n",
    "sourceCatalog = charResult.sourceCat\n",
    "sources = sourceCatalog.asAstropy()\n",
    "sources.keep_columns(['base_SdssCentroid_x', 'base_SdssCentroid_y', 'base_CircularApertureFlux_3_0_instFlux'])\n",
    "sources.sort('base_CircularApertureFlux_3_0_instFlux', reverse=True)\n"
   ]
  },
  {
   "cell_type": "code",
   "execution_count": null,
   "id": "9df2499e-c1dc-441f-88e5-a121e289f4c8",
   "metadata": {
    "execution": {
     "iopub.execute_input": "2024-11-12T16:03:46.291445Z",
     "iopub.status.busy": "2024-11-12T16:03:46.291122Z",
     "iopub.status.idle": "2024-11-12T16:03:46.563070Z",
     "shell.execute_reply": "2024-11-12T16:03:46.562682Z",
     "shell.execute_reply.started": "2024-11-12T16:03:46.291424Z"
    }
   },
   "outputs": [],
   "source": [
    "half = 10\n",
    "for source in sources:\n",
    "    if source['base_CircularApertureFlux_3_0_instFlux'] < 500000:\n",
    "        x = source['base_SdssCentroid_x']\n",
    "        y = source['base_SdssCentroid_y']\n",
    "        break\n",
    "center = Point2D(x, y)\n",
    "extent = Extent2I(2*half, 2*half)\n",
    "cutout = calexp.getCutout(center, extent)\n",
    "fig, axs = plt.subplots(1,2,figsize=(10,5))\n",
    "plt.subplots_adjust(wspace=0.5)\n",
    "im = axs[0].imshow(cutout.image.array, origin='lower')\n",
    "div = make_axes_locatable(axs[0])\n",
    "cax = div.append_axes(\"right\", size=\"5%\", pad=0.05)\n",
    "fig.colorbar(im, cax=cax)\n",
    "axs[0].set_title(f\"ComCam {expId}, Det 4\")\n",
    "\n",
    "axs[1].set_title(f\"ComCam {expId}, Y={half}\")\n",
    "axs[1].plot(cutout.image.array[half-1, 0:2*half], marker='x', label='Data')\n",
    "[Imax, sigmax, sigmay, xoff, yoff] = result.x\n",
    "ys = []\n",
    "for ii in range(spot.nx):\n",
    "    xl = spot.x[ii] - xoff - 0.5\n",
    "    xh = xl + 1.0\n",
    "    yl = spot.y[half-1] - yoff - 0.5\n",
    "    yh = yl + 1.0\n",
    "    ys.append(Area(xl, xh, yl, yh, sigmax, sigmay, Imax))\n",
    "FWHMx = sigmax * 2.355 * 0.20\n",
    "axs[1].plot(spot.x, ys, marker='+', ls='--', color='green', label='2D Gauss')\n",
    "peak = np.max(cutout.image.array[half, 0:2*half])\n",
    "print(peak)\n",
    "axs[1].axhline(peak / 2.0, ls='--', color='black')\n",
    "axs[1].axvline(xoff - FWHMx * 5.0 / 2.0, ls='--', color='black')\n",
    "axs[1].axvline(xoff + FWHMx * 5.0 / 2.0, ls='--', color='black')\n",
    "axs[1].text(1, 25000, f\"FWHM = \\n{FWHMx:.2f} arcsec\")\n",
    "axs[1].legend()\n",
    "#plt.ylim(0, 25000)\n",
    "#plt.ylabel(\"Flux (electrons)\")\n",
    "#plt.xlabel(\"Pixels\")\n",
    "#plt.savefig(f\"/home/c/cslage/u/ComCam/images/ComCam_FWHM_Slice_{expId}.png\")\n",
    "#plt.savefig(f\"/home/cslage/DATA/ComCam_Star_Core_{expId}.png\")"
   ]
  },
  {
   "cell_type": "code",
   "execution_count": null,
   "id": "090a0b01-07fe-4867-8adf-0478ff8ae560",
   "metadata": {
    "execution": {
     "iopub.execute_input": "2024-11-12T14:58:10.796366Z",
     "iopub.status.busy": "2024-11-12T14:58:10.796005Z",
     "iopub.status.idle": "2024-11-12T14:58:12.130238Z",
     "shell.execute_reply": "2024-11-12T14:58:12.129741Z",
     "shell.execute_reply.started": "2024-11-12T14:58:10.796347Z"
    }
   },
   "outputs": [],
   "source": [
    "spot = Array2d(0, 20, 20, 0, 20, 20)\n",
    "spot.data = cutout.image.array\n",
    "args = spot\n",
    "x0 = [7E5, 0.9/2.355, 0.9/2.355, 10.0, 10.0]\n",
    "result = minimize(FOM, x0, args=args, method='Powell')\n",
    "result"
   ]
  },
  {
   "cell_type": "code",
   "execution_count": null,
   "id": "5eb65026-ef79-4d7e-b779-5f27ff3d02ec",
   "metadata": {
    "execution": {
     "iopub.execute_input": "2024-11-12T14:56:40.347987Z",
     "iopub.status.busy": "2024-11-12T14:56:40.347659Z",
     "iopub.status.idle": "2024-11-12T14:56:40.354204Z",
     "shell.execute_reply": "2024-11-12T14:56:40.353742Z",
     "shell.execute_reply.started": "2024-11-12T14:56:40.347970Z"
    }
   },
   "outputs": [],
   "source": [
    "class Array2d:\n",
    "    def __init__(self,xmin,xmax,nx,ymin,ymax,ny):\n",
    "        self.nx=nx\n",
    "        self.ny=ny\n",
    "\n",
    "        self.xmin=xmin\n",
    "        self.ymin=ymin\n",
    "        \n",
    "        self.xmax=xmax\n",
    "        self.ymax=ymax\n",
    "        \n",
    "        self.dx=(xmax-xmin)/nx\n",
    "        self.dy=(ymax-ymin)/ny\n",
    "        \n",
    "        self.x=np.linspace(xmin+self.dx/2,xmax-self.dx/2,nx)\n",
    "        self.y=np.linspace(ymin+self.dy/2,ymax-self.dy/2,ny)\n",
    "\n",
    "        self.data=np.zeros([nx,ny])\n",
    "\n",
    "def Area(xl, xh, yl, yh, sigmax, sigmay, Imax):\n",
    "    # Calculates how much of a 2D Gaussian falls within a rectangular box\n",
    "    ssigx = np.sqrt(2) * sigmax\n",
    "    ssigy = np.sqrt(2) * sigmay    \n",
    "    I = (erf(xh/ssigx)-erf(xl/ssigx))*(erf(yh/ssigy)-erf(yl/ssigy))\n",
    "    return Imax * I / 4.0\n",
    "\n",
    "def FOM(params, args):\n",
    "    fom = 0.0\n",
    "    spot = args\n",
    "    [Imax, sigmax, sigmay, xoff, yoff] = params\n",
    "    area=np.zeros([spot.nx,spot.ny])\n",
    "    for ii in range(spot.nx):\n",
    "        for jj in range(spot.ny):\n",
    "            xl = spot.x[ii] - xoff - 0.5\n",
    "            xh = xl + 1.0\n",
    "            yl = spot.y[jj] - yoff - 0.5\n",
    "            yh = yl + 1.0\n",
    "            area[ii,jj] = Area(xl, xh, yl, yh, sigmax, sigmay, Imax)\n",
    "            fom += np.square(area[ii,jj]-spot.data[ii,jj])\n",
    "    return fom\n"
   ]
  },
  {
   "cell_type": "code",
   "execution_count": null,
   "id": "e10e1fa1-bfa1-4b52-b7fb-cec6a4a22489",
   "metadata": {
    "execution": {
     "iopub.execute_input": "2024-11-12T15:48:24.457375Z",
     "iopub.status.busy": "2024-11-12T15:48:24.457089Z",
     "iopub.status.idle": "2024-11-12T15:48:24.460700Z",
     "shell.execute_reply": "2024-11-12T15:48:24.460336Z",
     "shell.execute_reply.started": "2024-11-12T15:48:24.457357Z"
    }
   },
   "outputs": [],
   "source": [
    "spot.y"
   ]
  },
  {
   "cell_type": "code",
   "execution_count": null,
   "id": "e87058a0-8334-452c-a99f-d17186e43ac4",
   "metadata": {},
   "outputs": [],
   "source": []
  }
 ],
 "metadata": {
  "kernelspec": {
   "display_name": "LSST",
   "language": "python",
   "name": "lsst"
  },
  "language_info": {
   "codemirror_mode": {
    "name": "ipython",
    "version": 3
   },
   "file_extension": ".py",
   "mimetype": "text/x-python",
   "name": "python",
   "nbconvert_exporter": "python",
   "pygments_lexer": "ipython3",
   "version": "3.11.10"
  }
 },
 "nbformat": 4,
 "nbformat_minor": 5
}
