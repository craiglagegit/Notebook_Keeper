{
 "cells": [
  {
   "cell_type": "code",
   "execution_count": null,
   "metadata": {},
   "outputs": [],
   "source": [
    "import sys, time, os, asyncio, glob\n",
    "\n",
    "from datetime import datetime\n",
    "import numpy as np\n",
    "import matplotlib.pyplot as plt\n",
    "from matplotlib.colors import LogNorm\n",
    "%matplotlib widget\n",
    "import pickle as pkl\n",
    "import pandas as pd\n",
    "import astropy.io.fits as pf\n",
    "from astropy.time import Time, TimeDelta\n",
    "\n",
    "from lsst_efd_client import EfdClient\n"
   ]
  },
  {
   "cell_type": "code",
   "execution_count": null,
   "metadata": {},
   "outputs": [],
   "source": [
    "client = EfdClient('summit_efd')"
   ]
  },
  {
   "cell_type": "code",
   "execution_count": null,
   "metadata": {},
   "outputs": [],
   "source": [
    "# Times to start looking at error codes\n",
    "start = Time(\"2022-06-29 00:00:00Z\", scale='utc')\n",
    "end = Time(\"2022-07-01 10:00:00Z\", scale='utc')"
   ]
  },
  {
   "cell_type": "code",
   "execution_count": null,
   "metadata": {},
   "outputs": [],
   "source": [
    "# Observing runs\n",
    "day_start = []\n",
    "day_end = []\n",
    "day_start.append(Time(\"2022-06-29 00:00:00Z\", scale='utc'))\n",
    "day_end.append(Time(\"2022-06-29 10:00:00Z\", scale='utc'))\n",
    "day_start.append(Time(\"2022-06-30 00:00:00Z\", scale='utc'))\n",
    "day_end.append(Time(\"2022-06-30 08:00:00Z\", scale='utc'))\n",
    "day_start.append(Time(\"2022-07-01 00:00:00Z\", scale='utc'))\n",
    "day_end.append(Time(\"2022-07-01 10:00:00Z\", scale='utc'))"
   ]
  },
  {
   "cell_type": "code",
   "execution_count": null,
   "metadata": {},
   "outputs": [],
   "source": [
    "filterInPosition = await client.select_time_series('lsst.sal.ATSpectrograph.logevent_filterInPosition', \\\n",
    "                                                'inPosition',  start, end)\n",
    "filterInPosition = filterInPosition[filterInPosition['inPosition']==True]"
   ]
  },
  {
   "cell_type": "code",
   "execution_count": null,
   "metadata": {},
   "outputs": [],
   "source": [
    "len(filterInPosition)"
   ]
  },
  {
   "cell_type": "code",
   "execution_count": null,
   "metadata": {
    "jupyter": {
     "outputs_hidden": true
    },
    "tags": []
   },
   "outputs": [],
   "source": [
    "filterInPosition.tail(20)"
   ]
  },
  {
   "cell_type": "code",
   "execution_count": null,
   "metadata": {},
   "outputs": [],
   "source": [
    "changeFilter = await client.select_time_series('lsst.sal.ATSpectrograph.command_changeFilter', \\\n",
    "                                                'filter',  start, end)\n",
    "#filterInPosition = filterInPosition[filterInPosition['inPosition']==True]"
   ]
  },
  {
   "cell_type": "code",
   "execution_count": null,
   "metadata": {},
   "outputs": [],
   "source": [
    "len(changeFilter)"
   ]
  },
  {
   "cell_type": "code",
   "execution_count": null,
   "metadata": {},
   "outputs": [],
   "source": [
    "domePosition = await client.select_time_series('lsst.sal.ATDome.position', \\\n",
    "                                                'azimuthPosition',  start, end)"
   ]
  },
  {
   "cell_type": "code",
   "execution_count": null,
   "metadata": {},
   "outputs": [],
   "source": [
    "len(domePosition)"
   ]
  },
  {
   "cell_type": "code",
   "execution_count": null,
   "metadata": {},
   "outputs": [],
   "source": [
    "domeInPosition = await client.select_time_series('lsst.sal.ATDome.logevent_azimuthInPosition', \\\n",
    "                                                'inPosition',  start, end)\n",
    "domeInPosition = domeInPosition[domeInPosition['inPosition']==True]"
   ]
  },
  {
   "cell_type": "code",
   "execution_count": null,
   "metadata": {},
   "outputs": [],
   "source": [
    "len(domeInPosition)"
   ]
  },
  {
   "cell_type": "code",
   "execution_count": null,
   "metadata": {
    "jupyter": {
     "outputs_hidden": true
    },
    "tags": []
   },
   "outputs": [],
   "source": [
    "domeInPosition.head(10)"
   ]
  },
  {
   "cell_type": "code",
   "execution_count": null,
   "metadata": {},
   "outputs": [],
   "source": [
    "mountFault = await client.select_time_series('lsst.sal.ATMCS.logevent_summaryState', \\\n",
    "                                                'summaryState',  start, end)\n",
    "mountFault = mountFault[mountFault['summaryState']==3]"
   ]
  },
  {
   "cell_type": "code",
   "execution_count": null,
   "metadata": {},
   "outputs": [],
   "source": [
    "len(mountFault)"
   ]
  },
  {
   "cell_type": "code",
   "execution_count": null,
   "metadata": {
    "tags": []
   },
   "outputs": [],
   "source": [
    "mountFault"
   ]
  },
  {
   "cell_type": "code",
   "execution_count": null,
   "metadata": {},
   "outputs": [],
   "source": [
    "fig = plt.figure(figsize = (8,11))\n",
    "plt.subplots_adjust(hspace=0.5)\n",
    "plt.suptitle(f\"Mount Errors - JuneB Run\", fontsize = 16)\n",
    "for j in range(3):\n",
    "    plt.subplot(3,1,j+1)\n",
    "    plt.title(\"Day %d\"%(j+1))\n",
    "    ax = domePosition['azimuthPosition'].plot(color='red')\n",
    "    for i in range(len(mountFault)):\n",
    "        ax.axvline(mountFault.index[i], color=\"green\", linestyle=\"--\", label=\"Mount Fault\")\n",
    "    #for k in range(len(domeInPosition)):\n",
    "    #    ax.axvline(domeInPosition.index[k], color=\"blue\", linestyle=\"--\", label=\"Dome in Position\")\n",
    "    ax.set_ylabel(\"Dome Azimuth (degrees)\")\n",
    "    ax.set_xlim(day_start[j].to_datetime(), day_end[j].to_datetime())\n",
    "plt.savefig(\"/home/craiglagegit/DATA/Mount_Faults_Dome_Motion_June2022.pdf\")"
   ]
  },
  {
   "cell_type": "code",
   "execution_count": null,
   "metadata": {},
   "outputs": [],
   "source": [
    "fig = plt.figure(figsize = (8,11))\n",
    "plt.subplots_adjust(hspace=0.5)\n",
    "plt.suptitle(f\"Mount Errors - JuneB Run\", fontsize = 16)\n",
    "for j in range(3):\n",
    "    plt.subplot(3,1,j+1)\n",
    "    plt.title(\"Day %d\"%(j+1))\n",
    "    ax = domePosition['azimuthPosition'].plot(color='red')\n",
    "    for i in range(len(mountFault)):\n",
    "        ax.axvline(mountFault.index[i], color=\"green\", linestyle=\"--\", label=\"Mount Fault\")\n",
    "    for k in range(len(filterInPosition)):\n",
    "        ax.axvline(filterInPosition.index[k], color=\"blue\", linestyle=\"--\", label=\"Dome in Position\")\n",
    "    ax.set_ylabel(\"Dome Azimuth (degrees)\")\n",
    "    \n",
    "    plotStart = Time(\"2022-06-29 04:30:00Z\", scale='utc')\n",
    "    plotEnd = Time(\"2022-06-29 04:40:00Z\", scale='utc')\n",
    "    ax.set_xlim(plotStart.to_datetime(), plotEnd.to_datetime())\n",
    "#plt.savefig(\"/home/craiglagegit/DATA/Mount_Faults_Dome_Motion_June2022.pdf\")"
   ]
  },
  {
   "cell_type": "code",
   "execution_count": null,
   "metadata": {},
   "outputs": [],
   "source": [
    "day_start"
   ]
  },
  {
   "cell_type": "code",
   "execution_count": null,
   "metadata": {},
   "outputs": [],
   "source": []
  }
 ],
 "metadata": {
  "kernelspec": {
   "display_name": "LSST",
   "language": "python",
   "name": "lsst"
  },
  "language_info": {
   "codemirror_mode": {
    "name": "ipython",
    "version": 3
   },
   "file_extension": ".py",
   "mimetype": "text/x-python",
   "name": "python",
   "nbconvert_exporter": "python",
   "pygments_lexer": "ipython3",
   "version": "3.10.4"
  }
 },
 "nbformat": 4,
 "nbformat_minor": 4
}
