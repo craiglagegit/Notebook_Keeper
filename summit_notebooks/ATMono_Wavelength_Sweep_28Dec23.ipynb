{
 "cells": [
  {
   "cell_type": "markdown",
   "metadata": {},
   "source": [
    "# Generate filter calibration curves\n",
    "This script runs the monochromator through a series of wavelength steps, taking flats at each step to provide filter transmission curves for each filter."
   ]
  },
  {
   "cell_type": "code",
   "execution_count": null,
   "metadata": {
    "execution": {
     "iopub.execute_input": "2024-01-09T17:37:46.503591Z",
     "iopub.status.busy": "2024-01-09T17:37:46.502805Z",
     "iopub.status.idle": "2024-01-09T17:37:46.507301Z",
     "shell.execute_reply": "2024-01-09T17:37:46.506699Z",
     "shell.execute_reply.started": "2024-01-09T17:37:46.503568Z"
    },
    "tags": []
   },
   "outputs": [],
   "source": [
    "import sys\n",
    "import asyncio\n",
    "import time\n",
    "import os\n",
    "import pickle as pkl\n",
    "import numpy as np\n",
    "import matplotlib.pyplot as plt\n",
    "from astropy.io import fits\n",
    "from astropy.time import Time\n",
    "from astropy.table import Table\n",
    "from lsst.ts import salobj"
   ]
  },
  {
   "cell_type": "code",
   "execution_count": null,
   "metadata": {
    "execution": {
     "iopub.execute_input": "2024-01-09T17:37:47.367160Z",
     "iopub.status.busy": "2024-01-09T17:37:47.366253Z",
     "iopub.status.idle": "2024-01-09T17:37:47.370863Z",
     "shell.execute_reply": "2024-01-09T17:37:47.370125Z",
     "shell.execute_reply.started": "2024-01-09T17:37:47.367122Z"
    }
   },
   "outputs": [],
   "source": [
    "# change this to a local directory\n",
    "data_dir = '/home/craiglagegit/DATA'"
   ]
  },
  {
   "cell_type": "markdown",
   "metadata": {},
   "source": [
    "## Now connect to the ATCalSys CSCs"
   ]
  },
  {
   "cell_type": "code",
   "execution_count": null,
   "metadata": {
    "execution": {
     "iopub.execute_input": "2024-01-09T17:37:49.046371Z",
     "iopub.status.busy": "2024-01-09T17:37:49.046130Z",
     "iopub.status.idle": "2024-01-09T17:37:49.482165Z",
     "shell.execute_reply": "2024-01-09T17:37:49.481606Z",
     "shell.execute_reply.started": "2024-01-09T17:37:49.046352Z"
    },
    "tags": []
   },
   "outputs": [],
   "source": [
    "domain = salobj.Domain()\n",
    "atmonochromator = salobj.Remote(domain, 'ATMonochromator')\n",
    "FiberSpectrograph = salobj.Remote(name=\"FiberSpectrograph\", domain=domain, index=3)\n",
    "electrometer = salobj.Remote(name=\"Electrometer\", domain=domain, index=201) \n",
    "WhiteLightSource = salobj.Remote(name='ATWhiteLight', domain=domain)"
   ]
  },
  {
   "cell_type": "markdown",
   "metadata": {},
   "source": [
    "## Bring in needed subroutines"
   ]
  },
  {
   "cell_type": "code",
   "execution_count": null,
   "metadata": {
    "execution": {
     "iopub.execute_input": "2024-01-09T17:37:53.770608Z",
     "iopub.status.busy": "2024-01-09T17:37:53.769649Z",
     "iopub.status.idle": "2024-01-09T17:37:53.781743Z",
     "shell.execute_reply": "2024-01-09T17:37:53.780923Z",
     "shell.execute_reply.started": "2024-01-09T17:37:53.770571Z"
    }
   },
   "outputs": [],
   "source": [
    "# functions to run the electrometer measurements\n",
    "def get_file_transfer(lfa):\n",
    "    filename = os.path.split(lfa.url)[1]\n",
    "    save_dir = os.path.join(data_dir, filename.split(':')[0])\n",
    "    if not os.path.exists(save_dir):\n",
    "        os.mkdir(save_dir)\n",
    "    save_file = os.path.join(save_dir, filename)\n",
    "    os.system(f\"curl {lfa.url} --output {save_file}\")\n",
    "    return save_file\n",
    "\n",
    "async def elec_meas(exp_time):\n",
    "    electrometer.evt_largeFileObjectAvailable.flush()\n",
    "    tmp1=await electrometer.cmd_startScan.set_start(timeout=10)\n",
    "    await asyncio.sleep(exp_time)\n",
    "    tmp2=await electrometer.cmd_stopScan.set_start(timeout=10)\n",
    "    lfa = await electrometer.evt_largeFileObjectAvailable.next(flush=False, timeout=10)\n",
    "    filename = get_file_transfer(lfa)\n",
    "    filename = filename.replace(\":\", \"_\")\n",
    "    elec_filen = os.path.join(data_dir, filename)\n",
    "    os.system(f\"curl {lfa.url} --output {elec_filen}\")\n",
    "    hdu = fits.open(f'{elec_filen}')\n",
    "    data = hdu[1].data\n",
    "    return filename, lfa, data\n",
    "\n",
    "async def fiber_meas(exp_time):\n",
    "    FiberSpectrograph.evt_largeFileObjectAvailable.flush()\n",
    "    tmp1 = await FiberSpectrograph.cmd_expose.set_start(duration=exp_time, numExposures=1)\n",
    "    lfa = await FiberSpectrograph.evt_largeFileObjectAvailable.next(flush=False, timeout=10)\n",
    "    filename = get_file_transfer(lfa)\n",
    "    filename = filename.replace(\":\", \"_\")\n",
    "    spec_filen = os.path.join(data_dir, filename)\n",
    "    os.system(f\"curl {lfa.url} --output {spec_filen}\")\n",
    "    hdu = fits.open(f'{spec_filen}')\n",
    "    wavelength = hdu[1].data['wavelength'].flatten()\n",
    "    spectrum = hdu[0].data\n",
    "    return filename, lfa, wavelength, spectrum\n"
   ]
  },
  {
   "cell_type": "markdown",
   "metadata": {},
   "source": [
    "## Set up electrometer"
   ]
  },
  {
   "cell_type": "code",
   "execution_count": null,
   "metadata": {
    "execution": {
     "iopub.execute_input": "2024-01-04T14:39:04.076445Z",
     "iopub.status.busy": "2024-01-04T14:39:04.075371Z",
     "iopub.status.idle": "2024-01-04T14:39:04.267614Z",
     "shell.execute_reply": "2024-01-04T14:39:04.267006Z",
     "shell.execute_reply.started": "2024-01-04T14:39:04.076412Z"
    }
   },
   "outputs": [],
   "source": [
    "await electrometer.cmd_performZeroCalib.set_start(timeout=10)\n",
    "await electrometer.cmd_setDigitalFilter.set_start(activateFilter=False, activateAvgFilter=False, activateMedFilter=False, timeout=10)  \n",
    "await electrometer.cmd_setIntegrationTime.set_start(intTime=0.1) \n",
    "await electrometer.cmd_setRange.set_start(setRange=-1)"
   ]
  },
  {
   "cell_type": "markdown",
   "metadata": {},
   "source": [
    "# Take an electrometer reading with slits closed for zero point offset"
   ]
  },
  {
   "cell_type": "code",
   "execution_count": null,
   "metadata": {
    "execution": {
     "iopub.execute_input": "2024-01-04T14:41:28.892480Z",
     "iopub.status.busy": "2024-01-04T14:41:28.892161Z",
     "iopub.status.idle": "2024-01-04T14:41:30.316035Z",
     "shell.execute_reply": "2024-01-04T14:41:30.315234Z",
     "shell.execute_reply.started": "2024-01-04T14:41:28.892463Z"
    }
   },
   "outputs": [],
   "source": [
    "await atmonochromator.cmd_updateMonochromatorSetup.set_start(wavelength=1050, gratingType=1, \\\n",
    "                                                             fontEntranceSlitWidth=0.0, fontExitSlitWidth=0.0, timeout=180) "
   ]
  },
  {
   "cell_type": "code",
   "execution_count": null,
   "metadata": {
    "execution": {
     "iopub.execute_input": "2024-01-04T14:41:34.568879Z",
     "iopub.status.busy": "2024-01-04T14:41:34.568206Z",
     "iopub.status.idle": "2024-01-04T14:41:38.115558Z",
     "shell.execute_reply": "2024-01-04T14:41:38.114968Z",
     "shell.execute_reply.started": "2024-01-04T14:41:34.568848Z"
    }
   },
   "outputs": [],
   "source": [
    "filename, electrometer_lfa, electrometer_data = await elec_meas(1.0)\n",
    "for (t,current) in electrometer_data:\n",
    "    zero_point_current = current\n",
    "print(f\"Zero point current = {zero_point_current}\")\n"
   ]
  },
  {
   "cell_type": "markdown",
   "metadata": {
    "execution": {
     "iopub.execute_input": "2022-12-12T17:14:28.707685Z",
     "iopub.status.busy": "2022-12-12T17:14:28.706994Z",
     "iopub.status.idle": "2022-12-12T17:14:28.710806Z",
     "shell.execute_reply": "2022-12-12T17:14:28.710312Z",
     "shell.execute_reply.started": "2022-12-12T17:14:28.707665Z"
    },
    "tags": []
   },
   "source": [
    "## Now run the sweeps"
   ]
  },
  {
   "cell_type": "code",
   "execution_count": null,
   "metadata": {
    "execution": {
     "iopub.execute_input": "2024-01-04T14:41:43.611269Z",
     "iopub.status.busy": "2024-01-04T14:41:43.610354Z",
     "iopub.status.idle": "2024-01-04T14:41:56.131773Z",
     "shell.execute_reply": "2024-01-04T14:41:56.131142Z",
     "shell.execute_reply.started": "2024-01-04T14:41:43.611237Z"
    }
   },
   "outputs": [],
   "source": [
    "min_wave = 350; max_wave = 1050; grating = 1; slit_1 = 5.0; slit_2 = 5.0\n",
    "grating_name = \"Grating_1\"\n",
    "await atmonochromator.cmd_updateMonochromatorSetup.set_start(wavelength=min_wave, gratingType=grating, \\\n",
    "                                                         fontEntranceSlitWidth=slit_1, fontExitSlitWidth=slit_2, timeout=180)  "
   ]
  },
  {
   "cell_type": "code",
   "execution_count": null,
   "metadata": {
    "execution": {
     "iopub.execute_input": "2024-01-04T14:52:21.458487Z",
     "iopub.status.busy": "2024-01-04T14:52:21.458231Z",
     "iopub.status.idle": "2024-01-04T14:52:43.840109Z",
     "shell.execute_reply": "2024-01-04T14:52:43.839350Z",
     "shell.execute_reply.started": "2024-01-04T14:52:21.458471Z"
    },
    "jupyter": {
     "outputs_hidden": true
    },
    "tags": []
   },
   "outputs": [],
   "source": [
    "wave_step = 25 # Wavelength step in nm\n",
    "\n",
    "# Dictionary to hold the results\n",
    "results = {}\n",
    "results['zero_point_current'] = zero_point_current\n",
    "wave = min_wave\n",
    "# This loop steps through the wavelengths for each filter\n",
    "while wave < max_wave + wave_step / 2.0:\n",
    "    await atmonochromator.cmd_updateMonochromatorSetup.set_start(wavelength=wave, gratingType=grating, \\\n",
    "                                                         fontEntranceSlitWidth=slit_1, fontExitSlitWidth=slit_2, timeout=180)        \n",
    "    key = f\"{grating_name}_{wave:.0f}\"\n",
    "    print(key)\n",
    "    filename, electrometer_lfa, electrometer_data = await elec_meas(1.0)\n",
    "    for (t,current) in electrometer_data:\n",
    "        electrometer_current = current\n",
    "    exp_time = 0.5\n",
    "    filename, fiber_lfa, wavelengths, spectrum = await fiber_meas(exp_time)\n",
    "    spec_max = np.max(spectrum)\n",
    "    # The loop below prevents the spectrum from saturating\n",
    "    while spec_max > 15900:\n",
    "        exp_time /= 2.0\n",
    "        filename, fiber_lfa, wavelengths, spectrum = await fiber_meas(exp_time)\n",
    "        spec_max = np.max(spectrum)\n",
    "    # Take one flat with the filter and one without\n",
    "    \n",
    "    print(wave, electrometer_current, exp_time, spec_max)\n",
    "    results[key] = {}\n",
    "    results[key]['electrometer_lfa_url']=electrometer_lfa.url\n",
    "    results[key]['fiber_lfa_url']=fiber_lfa.url\n",
    "    results[key]['electrometer_current']=electrometer_current\n",
    "    results[key]['fiber_data']=[wavelengths, spectrum, exp_time]\n",
    "    print(f\"Done with {grating_name}, {wave}\")\n",
    "    wave += wave_step"
   ]
  },
  {
   "cell_type": "code",
   "execution_count": null,
   "metadata": {
    "execution": {
     "iopub.execute_input": "2024-01-04T14:47:46.733639Z",
     "iopub.status.busy": "2024-01-04T14:47:46.733242Z",
     "iopub.status.idle": "2024-01-04T14:47:46.745023Z",
     "shell.execute_reply": "2024-01-04T14:47:46.743938Z",
     "shell.execute_reply.started": "2024-01-04T14:47:46.733607Z"
    },
    "tags": []
   },
   "outputs": [],
   "source": [
    "# Pickle the data\n",
    "filename = \"/scratch/cslage/filter_cals/grating_1_sweep_04jan24.pkl\"\n",
    "file = open(filename, \"wb\")\n",
    "pkl.dump(results, file)\n",
    "file.close()"
   ]
  },
  {
   "cell_type": "code",
   "execution_count": null,
   "metadata": {
    "execution": {
     "iopub.execute_input": "2024-01-04T14:53:00.085868Z",
     "iopub.status.busy": "2024-01-04T14:53:00.085258Z",
     "iopub.status.idle": "2024-01-04T14:53:03.134565Z",
     "shell.execute_reply": "2024-01-04T14:53:03.133805Z",
     "shell.execute_reply.started": "2024-01-04T14:53:00.085833Z"
    }
   },
   "outputs": [],
   "source": [
    "min_wave = 350; max_wave = 1050; grating = 2; slit_1 = 5.0; slit_2 = 5.0\n",
    "grating_name = \"Grating_2\"\n",
    "await atmonochromator.cmd_updateMonochromatorSetup.set_start(wavelength=min_wave, gratingType=grating, \\\n",
    "                                                         fontEntranceSlitWidth=slit_1, fontExitSlitWidth=slit_2, timeout=180)  "
   ]
  },
  {
   "cell_type": "code",
   "execution_count": null,
   "metadata": {
    "execution": {
     "iopub.execute_input": "2024-01-04T14:53:13.268991Z",
     "iopub.status.busy": "2024-01-04T14:53:13.268126Z",
     "iopub.status.idle": "2024-01-04T14:55:22.992304Z",
     "shell.execute_reply": "2024-01-04T14:55:22.991216Z",
     "shell.execute_reply.started": "2024-01-04T14:53:13.268958Z"
    },
    "tags": []
   },
   "outputs": [],
   "source": [
    "wave_step = 25 # Wavelength step in nm\n",
    "\n",
    "# Dictionary to hold the results\n",
    "results = {}\n",
    "results['zero_point_current'] = zero_point_current\n",
    "wave = min_wave\n",
    "# This loop steps through the wavelengths for each filter\n",
    "while wave < max_wave + wave_step / 2.0:\n",
    "    await atmonochromator.cmd_updateMonochromatorSetup.set_start(wavelength=wave, gratingType=grating, \\\n",
    "                                                         fontEntranceSlitWidth=slit_1, fontExitSlitWidth=slit_2, timeout=180)        \n",
    "    key = f\"{grating_name}_{wave:.0f}\"\n",
    "    print(key)\n",
    "    filename, electrometer_lfa, electrometer_data = await elec_meas(1.0)\n",
    "    for (t,current) in electrometer_data:\n",
    "        electrometer_current = current\n",
    "    exp_time = 0.5\n",
    "    filename, fiber_lfa, wavelengths, spectrum = await fiber_meas(exp_time)\n",
    "    spec_max = np.max(spectrum)\n",
    "    # The loop below prevents the spectrum from saturating\n",
    "    while spec_max > 15900:\n",
    "        exp_time /= 2.0\n",
    "        filename, fiber_lfa, wavelengths, spectrum = await fiber_meas(exp_time)\n",
    "        spec_max = np.max(spectrum)\n",
    "    # Take one flat with the filter and one without\n",
    "    \n",
    "    print(wave, electrometer_current, exp_time, spec_max)\n",
    "    results[key] = {}\n",
    "    results[key]['electrometer_lfa_url']=electrometer_lfa.url\n",
    "    results[key]['fiber_lfa_url']=fiber_lfa.url\n",
    "    results[key]['electrometer_current']=electrometer_current\n",
    "    results[key]['fiber_data']=[wavelengths, spectrum, exp_time]\n",
    "    print(f\"Done with {grating_name}, {wave}\")\n",
    "    wave += wave_step"
   ]
  },
  {
   "cell_type": "code",
   "execution_count": null,
   "metadata": {
    "execution": {
     "iopub.execute_input": "2024-01-04T14:56:02.562835Z",
     "iopub.status.busy": "2024-01-04T14:56:02.562370Z",
     "iopub.status.idle": "2024-01-04T14:56:02.573002Z",
     "shell.execute_reply": "2024-01-04T14:56:02.572251Z",
     "shell.execute_reply.started": "2024-01-04T14:56:02.562807Z"
    },
    "tags": []
   },
   "outputs": [],
   "source": [
    "# Pickle the data\n",
    "filename = \"/scratch/cslage/filter_cals/grating_2_sweep_04jan24.pkl\"\n",
    "file = open(filename, \"wb\")\n",
    "pkl.dump(results, file)\n",
    "file.close()"
   ]
  },
  {
   "cell_type": "code",
   "execution_count": null,
   "metadata": {},
   "outputs": [],
   "source": [
    "# Turn off the lamp\n",
    "tmp = await WhiteLightSource.cmd_turnLampOff.set_start()"
   ]
  },
  {
   "cell_type": "markdown",
   "metadata": {},
   "source": [
    "## Below shows how to unpickle the spectrum and electrometer data and plot a spectrum"
   ]
  },
  {
   "cell_type": "code",
   "execution_count": null,
   "metadata": {
    "tags": []
   },
   "outputs": [],
   "source": [
    "# Unpickle the data\n",
    "filename = \"/scratch/cslage/filter_cals/grating_2_sweep_28Dec23.pkl\"\n",
    "file = open(filename, \"rb\")\n",
    "results = pkl.load(file)\n",
    "file.close()"
   ]
  },
  {
   "cell_type": "code",
   "execution_count": null,
   "metadata": {
    "tags": []
   },
   "outputs": [],
   "source": [
    "[wavelengths, spectrum, exp_time] = results['Grating_2_1000']['fiber_data']"
   ]
  },
  {
   "cell_type": "code",
   "execution_count": null,
   "metadata": {
    "tags": []
   },
   "outputs": [],
   "source": [
    "%matplotlib inline\n",
    "plt.plot(wavelengths, spectrum)\n",
    "plt.xlim(300, 1100)"
   ]
  },
  {
   "cell_type": "code",
   "execution_count": null,
   "metadata": {},
   "outputs": [],
   "source": [
    "current = results['SDSSr_65mm_610']['electrometer_current']"
   ]
  },
  {
   "cell_type": "code",
   "execution_count": null,
   "metadata": {},
   "outputs": [],
   "source": [
    "current"
   ]
  },
  {
   "cell_type": "markdown",
   "metadata": {},
   "source": [
    "# Look at the white light spectrum"
   ]
  },
  {
   "cell_type": "code",
   "execution_count": null,
   "metadata": {
    "execution": {
     "iopub.execute_input": "2024-01-09T17:40:52.513051Z",
     "iopub.status.busy": "2024-01-09T17:40:52.512709Z",
     "iopub.status.idle": "2024-01-09T17:41:00.154428Z",
     "shell.execute_reply": "2024-01-09T17:41:00.153626Z",
     "shell.execute_reply.started": "2024-01-09T17:40:52.513024Z"
    },
    "tags": []
   },
   "outputs": [],
   "source": [
    "grating = 0; slit_1 = 7.0; slit_2 = 7.0\n",
    "grating_name = \"Mirror\"\n",
    "exp_time = 1.0 #sec\n",
    "\n",
    "fig, axs = plt.subplots(1,2,figsize = (12,5))    \n",
    "for i, wave in enumerate([0,500]):\n",
    "    await atmonochromator.cmd_updateMonochromatorSetup.set_start(wavelength=wave, gratingType=grating, \\\n",
    "                                                         fontEntranceSlitWidth=slit_1, fontExitSlitWidth=slit_2, timeout=180)  \n",
    "\n",
    "    FiberSpectrograph.evt_largeFileObjectAvailable.flush()\n",
    "    tmp1 = await FiberSpectrograph.cmd_expose.set_start(duration=exp_time, numExposures=1)\n",
    "    lfa = await FiberSpectrograph.evt_largeFileObjectAvailable.next(flush=False, timeout=10)\n",
    "    filename = os.path.split(lfa.url)[1]\n",
    "    spec_filen = os.path.join(data_dir, filename)\n",
    "    os.system(f\"curl {lfa.url} --output {spec_filen}\")\n",
    "    hdu = fits.open(f'{spec_filen}')\n",
    "    wavelength = hdu[1].data['wavelength'].flatten()\n",
    "    spectra = hdu[0].data\n",
    "    axs[i].plot(wavelength, spectra)\n",
    "    axs[i].set_title(f\"Grating 0, wavelength = {wave}\")\n",
    "    axs[i].set_xlabel('Wavelength (nm)')\n",
    "    axs[i].set_ylabel('Counts')\n",
    "    axs[i].set_xlim(300,1050)\n",
    "plt.savefig(\"/home/craiglagegit/DATA/Grating_0_Spectra_1200W_09Jan24.png\")"
   ]
  },
  {
   "cell_type": "code",
   "execution_count": null,
   "metadata": {},
   "outputs": [],
   "source": []
  }
 ],
 "metadata": {
  "kernelspec": {
   "display_name": "LSST",
   "language": "python",
   "name": "lsst"
  },
  "language_info": {
   "codemirror_mode": {
    "name": "ipython",
    "version": 3
   },
   "file_extension": ".py",
   "mimetype": "text/x-python",
   "name": "python",
   "nbconvert_exporter": "python",
   "pygments_lexer": "ipython3",
   "version": "3.11.7"
  }
 },
 "nbformat": 4,
 "nbformat_minor": 4
}
