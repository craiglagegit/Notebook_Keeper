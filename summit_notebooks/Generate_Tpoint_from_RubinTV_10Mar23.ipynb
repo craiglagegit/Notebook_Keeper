{
 "cells": [
  {
   "cell_type": "code",
   "execution_count": null,
   "id": "e10463c5-3817-4914-aa80-e22ef27ed291",
   "metadata": {
    "execution": {
     "iopub.execute_input": "2023-03-14T22:36:55.141309Z",
     "iopub.status.busy": "2023-03-14T22:36:55.140942Z",
     "iopub.status.idle": "2023-03-14T22:36:55.575616Z",
     "shell.execute_reply": "2023-03-14T22:36:55.575023Z",
     "shell.execute_reply.started": "2023-03-14T22:36:55.141290Z"
    },
    "tags": []
   },
   "outputs": [],
   "source": [
    "import numpy as np\n",
    "from datetime import date\n",
    "import matplotlib\n",
    "import matplotlib.pyplot as plt\n",
    "import pandas as pd\n",
    "import astropy.io.fits as pf\n",
    "from astropy.time import Time, TimeDelta\n",
    "from lsst_efd_client import EfdClient"
   ]
  },
  {
   "cell_type": "code",
   "execution_count": null,
   "id": "dc02f819-7ca0-4699-af79-9719e2bf6cd3",
   "metadata": {
    "execution": {
     "iopub.execute_input": "2023-03-14T22:36:55.577055Z",
     "iopub.status.busy": "2023-03-14T22:36:55.576574Z",
     "iopub.status.idle": "2023-03-14T22:36:55.579714Z",
     "shell.execute_reply": "2023-03-14T22:36:55.579208Z",
     "shell.execute_reply.started": "2023-03-14T22:36:55.577029Z"
    },
    "tags": []
   },
   "outputs": [],
   "source": [
    "scratchDir = \"/scratch/cslage/starTracker\""
   ]
  },
  {
   "cell_type": "code",
   "execution_count": null,
   "id": "f6052eaa-3723-4b4c-b73a-875f1a6df7c8",
   "metadata": {
    "execution": {
     "iopub.execute_input": "2023-03-14T22:36:55.580888Z",
     "iopub.status.busy": "2023-03-14T22:36:55.580426Z",
     "iopub.status.idle": "2023-03-14T22:36:56.815467Z",
     "shell.execute_reply": "2023-03-14T22:36:56.814959Z",
     "shell.execute_reply.started": "2023-03-14T22:36:55.580864Z"
    },
    "tags": []
   },
   "outputs": [],
   "source": [
    "client = EfdClient('summit_efd')"
   ]
  },
  {
   "cell_type": "code",
   "execution_count": null,
   "id": "199459e1-2f12-4aa9-976e-0b8a33fabf6b",
   "metadata": {
    "execution": {
     "iopub.execute_input": "2023-03-14T22:36:56.817205Z",
     "iopub.status.busy": "2023-03-14T22:36:56.816900Z",
     "iopub.status.idle": "2023-03-14T22:36:56.821984Z",
     "shell.execute_reply": "2023-03-14T22:36:56.821560Z",
     "shell.execute_reply.started": "2023-03-14T22:36:56.817187Z"
    },
    "tags": []
   },
   "outputs": [],
   "source": [
    "def  readRubinTV_json(date, camera):\n",
    "    year = int(date/10000)\n",
    "    month = int((date - 10000 * year)/100)\n",
    "    day = int((date - 10000 * year - 100 * month))\n",
    "    if camera == 'Wide':\n",
    "        filename = f'/scratch/cslage/starTracker/startracker-wide_{year}-{month:02}-{day:02}.json'\n",
    "        items = ['MJD wide', 'Exposure Time wide', 'Alt wide', 'Az wide', 'Calculated Az wide', 'Calculated Alt wide', 'Delta Rot Arcsec wide']\n",
    "    else:\n",
    "        filename = f'/scratch/cslage/starTracker/startracker_{year}-{month:02}-{day:02}.json'\n",
    "        items = ['MJD', 'Exposure Time','Alt', 'Az', 'Calculated Az', 'Calculated Alt', 'Delta Rot Arcsec']\n",
    "    df = pd.read_json(filename)\n",
    "    df = df.transpose()\n",
    "    data = {}\n",
    "    for seqNum in df.index.values.tolist():\n",
    "        dataList = []\n",
    "        for name in items:\n",
    "            item = df.loc[seqNum][name]\n",
    "            dataList.append(item)\n",
    "        if ~np.isnan(dataList).any() and len(dataList) == 7:\n",
    "            data.update({seqNum:dataList})\n",
    "    return data"
   ]
  },
  {
   "cell_type": "markdown",
   "id": "6964119a-4caf-4e76-8e89-00c4213adfb2",
   "metadata": {},
   "source": [
    "## This generates the tpoint input format\n",
    "### One camera, one date only"
   ]
  },
  {
   "cell_type": "code",
   "execution_count": null,
   "id": "f08cc10e-41bb-4fcb-9030-70d8102afc0e",
   "metadata": {
    "execution": {
     "iopub.execute_input": "2023-03-14T22:38:20.336362Z",
     "iopub.status.busy": "2023-03-14T22:38:20.336086Z",
     "iopub.status.idle": "2023-03-14T22:38:33.058720Z",
     "shell.execute_reply": "2023-03-14T22:38:33.058085Z",
     "shell.execute_reply.started": "2023-03-14T22:38:20.336346Z"
    },
    "tags": []
   },
   "outputs": [],
   "source": [
    "[camera, num] = ['Wide', 101]#['Narrow', 102]\n",
    "date = 20230309\n",
    "year = int(date/10000)\n",
    "month = int((date - 10000 * year)/100)\n",
    "day = int((date - 10000 * year - 100 * month))\n",
    "path = f\"/project/GenericCamera/{num}/{year}/{month:02}/{day:02}/\"\n",
    "outfilename = f\"Tpoint_Input_RubinTV_New_{camera}_{date}.dat\"\n",
    "outfile = open(scratchDir + \"/\" + outfilename, 'w')\n",
    "outfile.write(\"!\" + outfilename + \"\\n\")\n",
    "outfile.write(\"!LSST Main Telescope, 2023 Mar 09 22 \\n\")\n",
    "outfile.write(\": ALTAZ\\n\")\n",
    "outfile.write(\": ROTNR\\n\")\n",
    "outfile.write(\"-30 14 40.2\\n\")\n",
    "data = readRubinTV_json(date, camera)\n",
    "\n",
    "for key in data.keys():\n",
    "    [MJD, expTime, el, az, azSolve, elSolve, rot] = data[key]\n",
    "    rot /= 3600.0\n",
    "    time = Time(MJD, format='mjd', scale='tai')\n",
    "    start_time = time - TimeDelta(expTime/2.0, format='sec')\n",
    "    end_time = time + TimeDelta(expTime/2.0, format='sec')\n",
    "    azMTM = await client.select_time_series('lsst.sal.MTMount.azimuth', \\\n",
    "                                    ['actualPosition'],  start_time.utc, end_time.utc)\n",
    "    elMTM = await client.select_time_series('lsst.sal.MTMount.elevation', \\\n",
    "                                    ['actualPosition'],  start_time.utc, end_time.utc) \n",
    "    azMTMount = np.mean(azMTM.values[:,0])\n",
    "    azMTMount = azMTMount % 360\n",
    "    elMTMount = np.mean(elMTM.values[:,0])\n",
    "    outfile.write(f\"{azSolve:.6f}\\t{elSolve:.6f}\\t{azMTMount:.6f}\\t{elMTMount:.6f}\\t{rot:.6f}\\n\")\n",
    "outfile.write(\"END\\n\")\n",
    "outfile.close()"
   ]
  },
  {
   "cell_type": "code",
   "execution_count": null,
   "id": "88171987-edf2-40fe-9858-3b0438e0a86b",
   "metadata": {},
   "outputs": [],
   "source": []
  }
 ],
 "metadata": {
  "kernelspec": {
   "display_name": "LSST",
   "language": "python",
   "name": "lsst"
  },
  "language_info": {
   "codemirror_mode": {
    "name": "ipython",
    "version": 3
   },
   "file_extension": ".py",
   "mimetype": "text/x-python",
   "name": "python",
   "nbconvert_exporter": "python",
   "pygments_lexer": "ipython3",
   "version": "3.10.9"
  }
 },
 "nbformat": 4,
 "nbformat_minor": 5
}
