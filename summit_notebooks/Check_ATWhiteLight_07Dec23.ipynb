{
 "cells": [
  {
   "cell_type": "code",
   "execution_count": null,
   "metadata": {
    "execution": {
     "iopub.execute_input": "2023-12-07T12:32:55.739148Z",
     "iopub.status.busy": "2023-12-07T12:32:55.738368Z",
     "iopub.status.idle": "2023-12-07T12:32:56.352352Z",
     "shell.execute_reply": "2023-12-07T12:32:56.351900Z",
     "shell.execute_reply.started": "2023-12-07T12:32:55.739119Z"
    },
    "tags": []
   },
   "outputs": [],
   "source": [
    "import sys, time, os, asyncio, glob\n",
    "import numpy as np\n",
    "import pandas as pd\n",
    "import matplotlib.pyplot as plt\n",
    "from astropy.time import Time, TimeDelta\n",
    "from lsst_efd_client import EfdClient"
   ]
  },
  {
   "cell_type": "code",
   "execution_count": null,
   "metadata": {
    "execution": {
     "iopub.execute_input": "2023-12-07T12:32:56.371132Z",
     "iopub.status.busy": "2023-12-07T12:32:56.370986Z",
     "iopub.status.idle": "2023-12-07T12:32:57.751606Z",
     "shell.execute_reply": "2023-12-07T12:32:57.750832Z",
     "shell.execute_reply.started": "2023-12-07T12:32:56.371118Z"
    },
    "tags": []
   },
   "outputs": [],
   "source": [
    "client = EfdClient('summit_efd')"
   ]
  },
  {
   "cell_type": "code",
   "execution_count": null,
   "metadata": {
    "execution": {
     "iopub.execute_input": "2023-12-07T12:43:41.985643Z",
     "iopub.status.busy": "2023-12-07T12:43:41.985402Z",
     "iopub.status.idle": "2023-12-07T12:43:41.990148Z",
     "shell.execute_reply": "2023-12-07T12:43:41.989509Z",
     "shell.execute_reply.started": "2023-12-07T12:43:41.985615Z"
    },
    "tags": []
   },
   "outputs": [],
   "source": [
    "# Cal system\n",
    "start = Time(\"2023-12-06T20:00:00Z\", scale='utc')\n",
    "end = Time(\"2023-12-06T23:00:00Z\", scale='utc')\n",
    "#start = Time(\"2023-07-05 22:20:00Z\", scale='utc')\n",
    "#end = Time(\"2023-07-05 22:35:00Z\", scale='utc')"
   ]
  },
  {
   "cell_type": "code",
   "execution_count": null,
   "metadata": {
    "execution": {
     "iopub.execute_input": "2023-12-07T12:43:42.751149Z",
     "iopub.status.busy": "2023-12-07T12:43:42.750711Z",
     "iopub.status.idle": "2023-12-07T12:43:42.787926Z",
     "shell.execute_reply": "2023-12-07T12:43:42.787156Z",
     "shell.execute_reply.started": "2023-12-07T12:43:42.751122Z"
    },
    "tags": []
   },
   "outputs": [],
   "source": [
    "\n",
    "state = await client.select_time_series('lsst.sal.ATWhiteLight.logevent_lampState', \\\n",
    "                                            ['*'],  start, end)\n",
    "turnOn = await client.select_time_series('lsst.sal.ATWhiteLight.command_turnLampOn', \\\n",
    "                                            ['*'],  start, end)\n",
    "turnOff = await client.select_time_series('lsst.sal.ATWhiteLight.command_turnLampOff', \\\n",
    "                                            ['*'],  start, end)\n"
   ]
  },
  {
   "cell_type": "code",
   "execution_count": null,
   "metadata": {
    "execution": {
     "iopub.execute_input": "2023-12-07T12:43:43.347615Z",
     "iopub.status.busy": "2023-12-07T12:43:43.346673Z",
     "iopub.status.idle": "2023-12-07T12:43:43.352690Z",
     "shell.execute_reply": "2023-12-07T12:43:43.351656Z",
     "shell.execute_reply.started": "2023-12-07T12:43:43.347584Z"
    },
    "tags": []
   },
   "outputs": [],
   "source": [
    "print(len(state), len(turnOn), len(turnOff))"
   ]
  },
  {
   "cell_type": "code",
   "execution_count": null,
   "metadata": {
    "execution": {
     "iopub.execute_input": "2023-12-07T12:43:43.962480Z",
     "iopub.status.busy": "2023-12-07T12:43:43.961607Z",
     "iopub.status.idle": "2023-12-07T12:43:44.227377Z",
     "shell.execute_reply": "2023-12-07T12:43:44.226816Z",
     "shell.execute_reply.started": "2023-12-07T12:43:43.962449Z"
    },
    "tags": []
   },
   "outputs": [],
   "source": [
    "fig, ax = plt.subplots(1,1, figsize=(15,5))\n",
    "state['basicState'].plot(ax=ax, color='blue', label='Actual State')\n",
    "#cmd['commandedState'].plot(ax=ax, color='magenta', ls='--', label='Commanded State')\n",
    "ax.set_yticks([0,1,2,3,4,5,6,7,8,9])\n",
    "ax.set_yticklabels(['Unknown','Off','On','Cooldown','Warmup','TurningOn','TurningOff','UnexpectedlyOn','UnexpectedlyOff',''])\n",
    "ax.set_ylabel(\"Lamp State\")\n",
    "for on in turnOn.index:\n",
    "    ax.axvline(on, ls='--', color='green', label='TurnLampOn Command')\n",
    "for off in turnOff.index:\n",
    "    ax.axvline(off, ls='--', color='red', label='TurnLampOff Command')\n",
    "ax.legend(loc='upper right')\n",
    "plt.savefig(f\"/home/craiglagegit/DATA/ATWhiteLight_Lamp_State_05Dec23.png\")"
   ]
  },
  {
   "cell_type": "code",
   "execution_count": null,
   "metadata": {},
   "outputs": [],
   "source": []
  }
 ],
 "metadata": {
  "kernelspec": {
   "display_name": "LSST",
   "language": "python",
   "name": "lsst"
  },
  "language_info": {
   "codemirror_mode": {
    "name": "ipython",
    "version": 3
   },
   "file_extension": ".py",
   "mimetype": "text/x-python",
   "name": "python",
   "nbconvert_exporter": "python",
   "pygments_lexer": "ipython3",
   "version": "3.11.4"
  }
 },
 "nbformat": 4,
 "nbformat_minor": 4
}
