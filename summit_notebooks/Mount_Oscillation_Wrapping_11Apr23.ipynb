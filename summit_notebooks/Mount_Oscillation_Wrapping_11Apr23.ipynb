{
 "cells": [
  {
   "cell_type": "markdown",
   "metadata": {},
   "source": [
    "## Looking at the azimuth wrapping as a cause of oscillation fails\n",
    "\n",
    "Craig Lage - 10-Apr-23"
   ]
  },
  {
   "cell_type": "code",
   "execution_count": null,
   "metadata": {
    "execution": {
     "iopub.execute_input": "2023-04-11T14:24:56.729710Z",
     "iopub.status.busy": "2023-04-11T14:24:56.729042Z",
     "iopub.status.idle": "2023-04-11T14:24:57.160892Z",
     "shell.execute_reply": "2023-04-11T14:24:57.160275Z",
     "shell.execute_reply.started": "2023-04-11T14:24:56.729689Z"
    },
    "tags": []
   },
   "outputs": [],
   "source": [
    "import sys, time, os, asyncio\n",
    "from datetime import datetime\n",
    "import numpy as np\n",
    "import matplotlib.pyplot as plt\n",
    "import pandas as pd\n",
    "from astropy.time import Time, TimeDelta\n",
    "from lsst_efd_client import EfdClient"
   ]
  },
  {
   "cell_type": "code",
   "execution_count": null,
   "metadata": {
    "execution": {
     "iopub.execute_input": "2023-04-11T14:25:00.438584Z",
     "iopub.status.busy": "2023-04-11T14:25:00.438211Z",
     "iopub.status.idle": "2023-04-11T14:25:02.172390Z",
     "shell.execute_reply": "2023-04-11T14:25:02.171780Z",
     "shell.execute_reply.started": "2023-04-11T14:25:00.438566Z"
    },
    "tags": []
   },
   "outputs": [],
   "source": [
    "# Get EFD client\n",
    "client = EfdClient('summit_efd')"
   ]
  },
  {
   "cell_type": "code",
   "execution_count": null,
   "metadata": {},
   "outputs": [],
   "source": []
  },
  {
   "cell_type": "code",
   "execution_count": null,
   "metadata": {
    "execution": {
     "iopub.execute_input": "2023-04-11T14:26:56.677947Z",
     "iopub.status.busy": "2023-04-11T14:26:56.677670Z",
     "iopub.status.idle": "2023-04-11T14:26:56.682201Z",
     "shell.execute_reply": "2023-04-11T14:26:56.681831Z",
     "shell.execute_reply.started": "2023-04-11T14:26:56.677930Z"
    },
    "tags": []
   },
   "outputs": [],
   "source": [
    "# Times to start looking at encoder values\n",
    "start = Time(\"2023-04-11 14:20:00Z\", scale='utc')\n",
    "end = Time(\"2023-04-11 14:22:00Z\", scale='utc')\n",
    "plotStart = (start + TimeDelta(0.0, format='sec')).to_datetime()\n",
    "plotEnd = (end + TimeDelta(0.0, format='sec')).to_datetime()"
   ]
  },
  {
   "cell_type": "code",
   "execution_count": null,
   "metadata": {
    "execution": {
     "iopub.execute_input": "2023-04-11T14:26:58.973551Z",
     "iopub.status.busy": "2023-04-11T14:26:58.973276Z",
     "iopub.status.idle": "2023-04-11T14:26:59.368517Z",
     "shell.execute_reply": "2023-04-11T14:26:59.368030Z",
     "shell.execute_reply.started": "2023-04-11T14:26:58.973535Z"
    },
    "tags": []
   },
   "outputs": [],
   "source": [
    "az = await client.select_packed_time_series(\"lsst.sal.ATMCS.mount_AzEl_Encoders\", \"azimuthCalculatedAngle\", start, end)\n",
    "azs = az['azimuthCalculatedAngle'].values\n",
    "times = az['times'].values\n",
    "t0 = times[0]\n",
    "times -= t0\n",
    "tmax = times[-1]\n",
    "\n",
    "az_torque_1 =  await client.select_packed_time_series(\"lsst.sal.ATMCS.measuredTorque\", \"azimuthMotor1Torque\", start, end)\n",
    "torques = az_torque_1['azimuthMotor1Torque'].values"
   ]
  },
  {
   "cell_type": "code",
   "execution_count": null,
   "metadata": {
    "execution": {
     "iopub.execute_input": "2023-04-11T14:27:10.607030Z",
     "iopub.status.busy": "2023-04-11T14:27:10.606756Z",
     "iopub.status.idle": "2023-04-11T14:27:10.610081Z",
     "shell.execute_reply": "2023-04-11T14:27:10.609717Z",
     "shell.execute_reply.started": "2023-04-11T14:27:10.607014Z"
    },
    "tags": []
   },
   "outputs": [],
   "source": [
    "azs[-1]"
   ]
  },
  {
   "cell_type": "code",
   "execution_count": null,
   "metadata": {
    "execution": {
     "iopub.execute_input": "2023-04-11T14:27:52.887752Z",
     "iopub.status.busy": "2023-04-11T14:27:52.887474Z",
     "iopub.status.idle": "2023-04-11T14:27:53.193537Z",
     "shell.execute_reply": "2023-04-11T14:27:53.193118Z",
     "shell.execute_reply.started": "2023-04-11T14:27:52.887736Z"
    },
    "tags": []
   },
   "outputs": [],
   "source": [
    "plt.clf()\n",
    "fig, [ax1,ax2] = plt.subplots(2,1,figsize = (16,8))\n",
    "plt.subplots_adjust(hspace=0.5)\n",
    "ax1.set_title(\"Impact of unwrapping on mount motion\", fontsize = 18)\n",
    "ax1.plot(times, azs, color='green', label=\"Azimuth\")\n",
    "ax1.set_ylabel(\"Degrees\")\n",
    "ax1.set_xlabel(\"Time (seconds)\")\n",
    "\n",
    "ax2.set_title(\"Azimuth Motor 1 Torque\", fontsize=18)\n",
    "ax2.plot(times, torques)\n",
    "ax2.plot([times[0], times[-1]], [0.0,0.0], ls='--', color='red')\n",
    "ax2.set_ylabel(\"Torque(amps)\")\n",
    "ax2.set_xlabel(\"Time (seconds)\")\n",
    "\n",
    "\n",
    "#plt.savefig(f\"/home/craiglagegit/DATA/stiction_04apr23/Unwrapping_10Apr23.png\")\n"
   ]
  },
  {
   "cell_type": "code",
   "execution_count": null,
   "metadata": {
    "execution": {
     "iopub.execute_input": "2023-04-11T14:43:27.122180Z",
     "iopub.status.busy": "2023-04-11T14:43:27.121800Z",
     "iopub.status.idle": "2023-04-11T14:43:27.126927Z",
     "shell.execute_reply": "2023-04-11T14:43:27.126422Z",
     "shell.execute_reply.started": "2023-04-11T14:43:27.122161Z"
    },
    "tags": []
   },
   "outputs": [],
   "source": [
    "# Times to start looking at encoder values\n",
    "start = Time(\"2023-04-11 14:31:40Z\", scale='utc')\n",
    "end = Time(\"2023-04-11 14:42:00Z\", scale='utc')\n",
    "plotStart = (start + TimeDelta(0.0, format='sec')).to_datetime()\n",
    "plotEnd = (end + TimeDelta(0.0, format='sec')).to_datetime()"
   ]
  },
  {
   "cell_type": "code",
   "execution_count": null,
   "metadata": {
    "execution": {
     "iopub.execute_input": "2023-04-11T14:43:27.986800Z",
     "iopub.status.busy": "2023-04-11T14:43:27.986421Z",
     "iopub.status.idle": "2023-04-11T14:43:29.247234Z",
     "shell.execute_reply": "2023-04-11T14:43:29.246655Z",
     "shell.execute_reply.started": "2023-04-11T14:43:27.986782Z"
    },
    "tags": []
   },
   "outputs": [],
   "source": [
    "az = await client.select_packed_time_series(\"lsst.sal.ATMCS.mount_AzEl_Encoders\", \"azimuthCalculatedAngle\", start, end)\n",
    "azs = az['azimuthCalculatedAngle'].values\n",
    "times = az['times'].values\n",
    "t0 = times[0]\n",
    "times -= t0\n",
    "tmax = times[-1]\n",
    "\n",
    "az_torque_1 =  await client.select_packed_time_series(\"lsst.sal.ATMCS.measuredTorque\", \"azimuthMotor1Torque\", start, end)\n",
    "torques = az_torque_1['azimuthMotor1Torque'].values"
   ]
  },
  {
   "cell_type": "code",
   "execution_count": null,
   "metadata": {
    "execution": {
     "iopub.execute_input": "2023-04-11T14:42:15.390670Z",
     "iopub.status.busy": "2023-04-11T14:42:15.390306Z",
     "iopub.status.idle": "2023-04-11T14:42:15.394362Z",
     "shell.execute_reply": "2023-04-11T14:42:15.393835Z",
     "shell.execute_reply.started": "2023-04-11T14:42:15.390652Z"
    },
    "tags": []
   },
   "outputs": [],
   "source": [
    "azs[-1]"
   ]
  },
  {
   "cell_type": "code",
   "execution_count": null,
   "metadata": {
    "execution": {
     "iopub.execute_input": "2023-04-11T14:43:31.790384Z",
     "iopub.status.busy": "2023-04-11T14:43:31.789999Z",
     "iopub.status.idle": "2023-04-11T14:43:32.098226Z",
     "shell.execute_reply": "2023-04-11T14:43:32.097625Z",
     "shell.execute_reply.started": "2023-04-11T14:43:31.790366Z"
    },
    "tags": []
   },
   "outputs": [],
   "source": [
    "plt.clf()\n",
    "fig, [ax1,ax2] = plt.subplots(2,1,figsize = (16,8))\n",
    "plt.subplots_adjust(hspace=0.5)\n",
    "ax1.set_title(\"Impact of unwrapping on mount motion\", fontsize = 18)\n",
    "ax1.plot(times, azs, color='green', label=\"Azimuth\")\n",
    "ax1.set_ylabel(\"Degrees\")\n",
    "ax1.set_xlabel(\"Time (seconds)\")\n",
    "\n",
    "ax2.set_title(\"Azimuth Motor 1 Torque\", fontsize=18)\n",
    "ax2.plot(times, torques)\n",
    "ax2.plot([times[0], times[-1]], [0.0,0.0], ls='--', color='red')\n",
    "ax2.set_ylabel(\"Torque(amps)\")\n",
    "ax2.set_xlabel(\"Time (seconds)\")\n",
    "\n",
    "\n",
    "#plt.savefig(f\"/home/craiglagegit/DATA/stiction_04apr23/Unwrapping_10Apr23.png\")\n"
   ]
  },
  {
   "cell_type": "code",
   "execution_count": null,
   "metadata": {
    "execution": {
     "iopub.execute_input": "2023-04-11T14:48:24.690118Z",
     "iopub.status.busy": "2023-04-11T14:48:24.689828Z",
     "iopub.status.idle": "2023-04-11T14:48:24.940166Z",
     "shell.execute_reply": "2023-04-11T14:48:24.939743Z",
     "shell.execute_reply.started": "2023-04-11T14:48:24.690101Z"
    },
    "tags": []
   },
   "outputs": [],
   "source": [
    "plt.figure()\n",
    "plt.title(\"Azimuth Torque vs Angle - 11Apr23\", fontsize=18)\n",
    "plt.plot(azs, torques)\n",
    "#plt.plot([-160,160],[3.0,3.0], color='red', ls='--')\n",
    "#plt.plot([-160,160],[-3.0,-3.0], color='red', ls='--')\n",
    "plt.arrow(-140, 1.5, 50,0, width=0.1,head_length = 5.0, color='green')\n",
    "plt.arrow(140, -1.5, -50,0, width=0.1,head_length = 5.0, color='green')\n",
    "plt.ylim(-2.0,2.0)\n",
    "plt.xlabel(\"Azimuth(degrees)\")\n",
    "plt.ylabel(\"Torque (amps)\")\n",
    "plt.savefig(\"/home/craiglagegit/DATA/Azimuth_Torque_vs_Angle_11Apr23.pdf\")"
   ]
  },
  {
   "cell_type": "code",
   "execution_count": null,
   "metadata": {},
   "outputs": [],
   "source": []
  }
 ],
 "metadata": {
  "kernelspec": {
   "display_name": "LSST",
   "language": "python",
   "name": "lsst"
  },
  "language_info": {
   "codemirror_mode": {
    "name": "ipython",
    "version": 3
   },
   "file_extension": ".py",
   "mimetype": "text/x-python",
   "name": "python",
   "nbconvert_exporter": "python",
   "pygments_lexer": "ipython3",
   "version": "3.10.9"
  }
 },
 "nbformat": 4,
 "nbformat_minor": 4
}
