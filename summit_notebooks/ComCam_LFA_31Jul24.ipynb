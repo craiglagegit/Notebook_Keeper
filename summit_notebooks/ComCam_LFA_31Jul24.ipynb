{
 "cells": [
  {
   "cell_type": "code",
   "execution_count": null,
   "id": "aa9ca2a4-3441-45cc-a301-f8c2cce809e1",
   "metadata": {
    "execution": {
     "iopub.execute_input": "2024-07-31T23:03:37.203584Z",
     "iopub.status.busy": "2024-07-31T23:03:37.203220Z",
     "iopub.status.idle": "2024-07-31T23:03:38.074780Z",
     "shell.execute_reply": "2024-07-31T23:03:38.074237Z",
     "shell.execute_reply.started": "2024-07-31T23:03:37.203543Z"
    }
   },
   "outputs": [],
   "source": [
    "import os\n",
    "import numpy as np\n",
    "import matplotlib.pyplot as plt\n",
    "from astropy.io import fits\n",
    "from lsst.daf.butler import Butler\n",
    "from astropy.time import Time, TimeDelta\n",
    "from lsst_efd_client import EfdClient"
   ]
  },
  {
   "cell_type": "code",
   "execution_count": null,
   "id": "27a29b6e-cc97-472e-afb8-c2bec87e7ddc",
   "metadata": {
    "execution": {
     "iopub.execute_input": "2024-07-31T23:08:52.044621Z",
     "iopub.status.busy": "2024-07-31T23:08:52.044258Z",
     "iopub.status.idle": "2024-07-31T23:08:53.419935Z",
     "shell.execute_reply": "2024-07-31T23:08:53.419012Z",
     "shell.execute_reply.started": "2024-07-31T23:08:52.044592Z"
    }
   },
   "outputs": [],
   "source": [
    "butler = Butler('/repo/LSSTComCam', collections=[\"LSSTComCam/raw/all\",\"LSSTComCam/calib\"])\n",
    "client = EfdClient('summit_efd')\n",
    "data_dir = '/home/cslage/DATA'\n",
    "instrument = \"LSSTComCam\""
   ]
  },
  {
   "cell_type": "code",
   "execution_count": null,
   "id": "3b992917-7e62-408e-bedf-1e9262d5c9da",
   "metadata": {
    "execution": {
     "iopub.execute_input": "2024-07-31T23:15:56.046961Z",
     "iopub.status.busy": "2024-07-31T23:15:56.046371Z",
     "iopub.status.idle": "2024-07-31T23:15:57.738785Z",
     "shell.execute_reply": "2024-07-31T23:15:57.737738Z",
     "shell.execute_reply.started": "2024-07-31T23:15:56.046935Z"
    },
    "jupyter": {
     "outputs_hidden": true
    }
   },
   "outputs": [],
   "source": [
    "expIds = []\n",
    "lenDatas = []\n",
    "expTimes = []\n",
    "for expId in range(2024072900178, 2024072900190):\n",
    "    mData = butler.get('raw.metadata', detector=4, exposure=expId, instrument=instrument)\n",
    "    print(mData['DATE-END'])\n",
    "    start = Time(mData['DATE-END'], scale='tai').utc\n",
    "    end = start + TimeDelta(8.0, format='sec')\n",
    "    urls = await client.select_time_series('lsst.sal.Electrometer.logevent_largeFileObjectAvailable', \\\n",
    "                                            ['*'],  start, end, index=101)\n",
    "    url = urls.iloc[0]['url']\n",
    "    filename= os.path.split(url)[1]\n",
    "    elec_filen = os.path.join(data_dir, filename)\n",
    "    os.system(f\"curl {url} --output {elec_filen}\") \n",
    "    hdu = fits.open(f'{elec_filen}')\n",
    "    data = hdu[1].data\n",
    "    expIds.append(expId)\n",
    "    lenDatas.append(len(data))\n",
    "    expTimes.append(mData['EXPTIME'])\n"
   ]
  },
  {
   "cell_type": "code",
   "execution_count": null,
   "id": "d051d49d-8fa6-432d-8752-20689857cd8f",
   "metadata": {
    "execution": {
     "iopub.execute_input": "2024-07-31T23:17:11.932064Z",
     "iopub.status.busy": "2024-07-31T23:17:11.931639Z",
     "iopub.status.idle": "2024-07-31T23:17:11.937754Z",
     "shell.execute_reply": "2024-07-31T23:17:11.936844Z",
     "shell.execute_reply.started": "2024-07-31T23:17:11.932032Z"
    },
    "jupyter": {
     "outputs_hidden": true
    }
   },
   "outputs": [],
   "source": [
    "for i in range(len(expIds)):\n",
    "    print(f\"expId={expIds[i]}, expTime={expTimes[i]}, length of LFA={(lenDatas[i]*0.1):.1f}\")"
   ]
  },
  {
   "cell_type": "code",
   "execution_count": null,
   "id": "20331c90-ee9a-40f0-bbd3-f564fea2f06e",
   "metadata": {},
   "outputs": [],
   "source": []
  }
 ],
 "metadata": {
  "kernelspec": {
   "display_name": "LSST",
   "language": "python",
   "name": "lsst"
  },
  "language_info": {
   "codemirror_mode": {
    "name": "ipython",
    "version": 3
   },
   "file_extension": ".py",
   "mimetype": "text/x-python",
   "name": "python",
   "nbconvert_exporter": "python",
   "pygments_lexer": "ipython3",
   "version": "3.11.10"
  }
 },
 "nbformat": 4,
 "nbformat_minor": 5
}
