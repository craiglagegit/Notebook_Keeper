{
 "cells": [
  {
   "cell_type": "markdown",
   "id": "6f48116f-61e3-42a7-a2ea-120e08b67313",
   "metadata": {},
   "source": [
    "# CRIO Timestamp issue\n",
    "\n",
    "Craig Lage - 03-Sep-24"
   ]
  },
  {
   "cell_type": "code",
   "execution_count": null,
   "id": "80467e05-f541-4e2b-91cd-79b861e17aec",
   "metadata": {
    "execution": {
     "iopub.execute_input": "2024-09-05T13:53:51.844992Z",
     "iopub.status.busy": "2024-09-05T13:53:51.844462Z",
     "iopub.status.idle": "2024-09-05T13:53:57.656422Z",
     "shell.execute_reply": "2024-09-05T13:53:57.655882Z",
     "shell.execute_reply.started": "2024-09-05T13:53:51.844970Z"
    }
   },
   "outputs": [],
   "source": [
    "import nest_asyncio\n",
    "nest_asyncio.apply()\n",
    "import sys, time, os, asyncio\n",
    "from datetime import datetime\n",
    "import numpy as np\n",
    "import pandas as pd\n",
    "import matplotlib.pyplot as plt\n",
    "from astropy.time import Time, TimeDelta\n",
    "from lsst.daf.butler import Butler\n",
    "\n",
    "import lsst.summit.utils.butlerUtils as butlerUtils\n",
    "from lsst.summit.utils.efdUtils import calcNextDay\n",
    "from lsst.summit.utils.utils import dayObsIntToString\n",
    "from astro_metadata_translator import ObservationInfo\n",
    "\n",
    "from lsst_efd_client import EfdClient\n",
    "from lsst_efd_client import merge_packed_time_series as mpts"
   ]
  },
  {
   "cell_type": "code",
   "execution_count": null,
   "id": "1d5f341a-abe4-4419-856d-c22822996978",
   "metadata": {
    "execution": {
     "iopub.execute_input": "2024-09-05T13:54:04.041038Z",
     "iopub.status.busy": "2024-09-05T13:54:04.040720Z",
     "iopub.status.idle": "2024-09-05T13:54:04.044401Z",
     "shell.execute_reply": "2024-09-05T13:54:04.043956Z",
     "shell.execute_reply.started": "2024-09-05T13:54:04.041019Z"
    }
   },
   "outputs": [],
   "source": [
    "def _getEfdData(client, dataSeries, startTime, endTime):\n",
    "    \"\"\"A synchronous wrapper for geting the data from the EFD.\n",
    "\n",
    "    This exists so that the top level functions don't all have to be async def.\n",
    "    \"\"\"\n",
    "    loop = asyncio.get_event_loop()\n",
    "    return loop.run_until_complete(client.select_time_series(dataSeries, ['*'], startTime.utc, endTime.utc))"
   ]
  },
  {
   "cell_type": "code",
   "execution_count": null,
   "id": "e63ee4a1-0c03-4831-9084-a978797c6d78",
   "metadata": {
    "execution": {
     "iopub.execute_input": "2024-09-05T13:54:34.634486Z",
     "iopub.status.busy": "2024-09-05T13:54:34.634166Z",
     "iopub.status.idle": "2024-09-05T13:54:36.004642Z",
     "shell.execute_reply": "2024-09-05T13:54:36.004078Z",
     "shell.execute_reply.started": "2024-09-05T13:54:34.634468Z"
    }
   },
   "outputs": [],
   "source": [
    "butler = Butler('/repo/LATISS', collections=[\"LATISS/raw/all\"])\n",
    "client = EfdClient('summit_efd')"
   ]
  },
  {
   "cell_type": "code",
   "execution_count": null,
   "id": "76cdbf0c-d4f8-4a0d-9131-a20edfdee340",
   "metadata": {
    "execution": {
     "iopub.execute_input": "2024-09-06T13:57:55.061650Z",
     "iopub.status.busy": "2024-09-06T13:57:55.061107Z",
     "iopub.status.idle": "2024-09-06T13:57:55.666096Z",
     "shell.execute_reply": "2024-09-06T13:57:55.665724Z",
     "shell.execute_reply.started": "2024-09-06T13:57:55.061632Z"
    }
   },
   "outputs": [],
   "source": [
    "for expId in [2024090500181]:#range(2024090500001, 2024090500008):\n",
    "    #expId = 2024082800259\n",
    "    dataId = {'detector':0, 'exposure':expId}\n",
    "    expRecord = butlerUtils.getExpRecordFromDataId(butler, dataId)\n",
    "    \n",
    "    tStart = expRecord.timespan.begin.tai.to_value(\"isot\")\n",
    "    tEnd = expRecord.timespan.end.tai.to_value(\"isot\")\n",
    "    t_start = Time(tStart, scale='tai')\n",
    "    t_end = Time(tEnd, scale='tai')\n",
    "    print(t_start, t_end)\n",
    "    \n",
    "    mount_position = _getEfdData(client, \"lsst.sal.ATMCS.mount_AzEl_Encoders\", t_start, t_end)\n",
    "    \n",
    "    az = mpts(mount_position, 'azimuthCalculatedAngle')\n",
    "    el = mpts(mount_position, 'elevationCalculatedAngle')\n",
    "    cRIO_ts = mount_position[\"cRIO_timestamp\"]\n",
    "    timestamps = cRIO_ts.values\n",
    "    deltaTs = []\n",
    "    for n in range(1, len(timestamps)):\n",
    "        deltaTs.append(timestamps[n] - timestamps[n-1])\n",
    "    \n",
    "    try:\n",
    "        torques = _getEfdData(client, \"lsst.sal.ATMCS.measuredTorque\", t_start, t_end)\n",
    "        az_torque_1 = mpts(torques, \"azimuthMotor1Torque\")\n",
    "        torque_cRIO_ts = torques[\"cRIO_timestamp\"]\n",
    "        torque_timestamps = cRIO_ts.values\n",
    "        torque_deltaTs = []\n",
    "        for n in range(1, len(torque_timestamps)):\n",
    "            torque_deltaTs.append(torque_timestamps[n] - torque_timestamps[n-1])\n",
    "            torque_sig = np.std(torque_deltaTs)\n",
    "    except:\n",
    "        torque_deltaTs = [0,-1]\n",
    "        torque_sig = 999\n",
    "    print(len(timestamps), len(torque_timestamps), len(torque_deltaTs), torque_sig)\n",
    "    sig = np.std(deltaTs)\n",
    "    \n",
    "    %matplotlib inline\n",
    "    fig = plt.figure(figsize=(8,5))\n",
    "    plt.subplots_adjust(wspace=1.0)\n",
    "    plt.subplot(1,2,1)\n",
    "    plt.title(f\"Position cRIO timestamps deltas \\n{expId}\")\n",
    "    plt.plot(deltaTs, marker='x')\n",
    "    plt.text(2.0, 2.2,f\"DeltaT sigma = {sig:.2g}\")\n",
    "    plt.xlabel(\"Time(sec)\")\n",
    "    plt.ylabel(\"DeltaT between successive timestamps\")\n",
    "    plt.ylim(0, 2.5)\n",
    "    plt.subplot(1,2,2)\n",
    "    plt.title(f\"Torque cRIO timestamps deltas \\n{expId}\")\n",
    "    plt.plot(torque_deltaTs, marker='x')\n",
    "    if torque_sig == 999:\n",
    "        plt.text(0.2, 2.2,f\"DeltaT is BAD\")\n",
    "    else:    \n",
    "        plt.text(2.0, 2.2,f\"DeltaT sigma = {sig:.2g}\")\n",
    "    plt.xlabel(\"Time(sec)\")\n",
    "    plt.ylabel(\"DeltaT between successive timestamps\")\n",
    "    plt.ylim(0, 2.5)\n",
    "plt.savefig(f\"/home/cslage/DATA/cRIO_Timestamps_{expId}.png\")"
   ]
  },
  {
   "cell_type": "code",
   "execution_count": null,
   "id": "42102024-0ee0-49b3-ae44-6d51b499869d",
   "metadata": {
    "execution": {
     "iopub.execute_input": "2024-09-05T17:09:49.074184Z",
     "iopub.status.busy": "2024-09-05T17:09:49.073853Z",
     "iopub.status.idle": "2024-09-05T17:09:49.091594Z",
     "shell.execute_reply": "2024-09-05T17:09:49.091165Z",
     "shell.execute_reply.started": "2024-09-05T17:09:49.074167Z"
    }
   },
   "outputs": [],
   "source": [
    "torques = _getEfdData(client, \"lsst.sal.ATMCS.measuredTorque\", t_start, t_end)\n",
    "len(torques)"
   ]
  },
  {
   "cell_type": "code",
   "execution_count": null,
   "id": "780cf232-b74a-4567-95f8-f6d8b117d859",
   "metadata": {
    "execution": {
     "iopub.execute_input": "2024-09-05T17:09:20.567946Z",
     "iopub.status.busy": "2024-09-05T17:09:20.567599Z",
     "iopub.status.idle": "2024-09-05T17:09:20.571473Z",
     "shell.execute_reply": "2024-09-05T17:09:20.571031Z",
     "shell.execute_reply.started": "2024-09-05T17:09:20.567926Z"
    }
   },
   "outputs": [],
   "source": [
    "len(mount_position)"
   ]
  },
  {
   "cell_type": "code",
   "execution_count": null,
   "id": "926af2e3-f5dd-4617-87ec-fccba6818c17",
   "metadata": {
    "execution": {
     "iopub.execute_input": "2024-09-05T18:38:55.590706Z",
     "iopub.status.busy": "2024-09-05T18:38:55.590373Z",
     "iopub.status.idle": "2024-09-05T18:38:55.594502Z",
     "shell.execute_reply": "2024-09-05T18:38:55.594033Z",
     "shell.execute_reply.started": "2024-09-05T18:38:55.590687Z"
    }
   },
   "outputs": [],
   "source": []
  },
  {
   "cell_type": "code",
   "execution_count": null,
   "id": "87ce7d6b-52bb-4bca-9b21-206990108147",
   "metadata": {},
   "outputs": [],
   "source": []
  },
  {
   "cell_type": "code",
   "execution_count": null,
   "id": "85d5b229-65d9-4534-8b1e-a81128d3928f",
   "metadata": {},
   "outputs": [],
   "source": []
  }
 ],
 "metadata": {
  "kernelspec": {
   "display_name": "LSST",
   "language": "python",
   "name": "lsst"
  },
  "language_info": {
   "codemirror_mode": {
    "name": "ipython",
    "version": 3
   },
   "file_extension": ".py",
   "mimetype": "text/x-python",
   "name": "python",
   "nbconvert_exporter": "python",
   "pygments_lexer": "ipython3",
   "version": "3.11.9"
  }
 },
 "nbformat": 4,
 "nbformat_minor": 5
}
