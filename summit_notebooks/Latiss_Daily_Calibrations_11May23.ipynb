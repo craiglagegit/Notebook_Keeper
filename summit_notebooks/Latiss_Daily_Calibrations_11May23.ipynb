{
 "cells": [
  {
   "cell_type": "markdown",
   "metadata": {},
   "source": [
    "# Generate filter calibration curves\n",
    "This script runs the monochromator through a series of wavelength steps, taking flats at each step to provide filter transmission curves for each filter."
   ]
  },
  {
   "cell_type": "code",
   "execution_count": null,
   "metadata": {
    "execution": {
     "iopub.execute_input": "2023-05-11T17:18:07.401859Z",
     "iopub.status.busy": "2023-05-11T17:18:07.401720Z",
     "iopub.status.idle": "2023-05-11T17:18:09.968598Z",
     "shell.execute_reply": "2023-05-11T17:18:09.967918Z",
     "shell.execute_reply.started": "2023-05-11T17:18:07.401844Z"
    },
    "tags": []
   },
   "outputs": [],
   "source": [
    "import sys\n",
    "import asyncio\n",
    "import time\n",
    "import os\n",
    "import numpy as np\n",
    "from lsst.ts import salobj\n",
    "from lsst.ts.observatory.control.auxtel.atcs import ATCS\n",
    "from lsst.ts.observatory.control.auxtel.latiss import LATISS"
   ]
  },
  {
   "cell_type": "markdown",
   "metadata": {},
   "source": [
    "## First, connect and enable the ATCalSys CSCs\n",
    "### We do this first to let the lamp warm up while the telescope and dome are moving into position."
   ]
  },
  {
   "cell_type": "code",
   "execution_count": null,
   "metadata": {
    "execution": {
     "iopub.execute_input": "2023-05-11T17:18:34.638678Z",
     "iopub.status.busy": "2023-05-11T17:18:34.638303Z",
     "iopub.status.idle": "2023-05-11T17:18:34.781743Z",
     "shell.execute_reply": "2023-05-11T17:18:34.781142Z",
     "shell.execute_reply.started": "2023-05-11T17:18:34.638659Z"
    },
    "tags": []
   },
   "outputs": [],
   "source": [
    "domain = salobj.Domain()\n",
    "atmonochromator = salobj.Remote(domain, 'ATMonochromator')\n",
    "WhiteLightSource = salobj.Remote(name='ATWhiteLight', domain=domain)"
   ]
  },
  {
   "cell_type": "markdown",
   "metadata": {},
   "source": [
    "## ATWhiteLight"
   ]
  },
  {
   "cell_type": "code",
   "execution_count": null,
   "metadata": {
    "execution": {
     "iopub.execute_input": "2023-05-11T17:19:16.379682Z",
     "iopub.status.busy": "2023-05-11T17:19:16.379313Z",
     "iopub.status.idle": "2023-05-11T17:19:17.127471Z",
     "shell.execute_reply": "2023-05-11T17:19:17.126888Z",
     "shell.execute_reply.started": "2023-05-11T17:19:16.379664Z"
    },
    "tags": []
   },
   "outputs": [],
   "source": [
    "await WhiteLightSource.cmd_setLogLevel.set_start(level=10)\n",
    "state = salobj.State.ENABLED\n",
    "await salobj.set_summary_state(WhiteLightSource, state)"
   ]
  },
  {
   "cell_type": "code",
   "execution_count": null,
   "metadata": {
    "execution": {
     "iopub.execute_input": "2023-05-11T17:19:25.220861Z",
     "iopub.status.busy": "2023-05-11T17:19:25.220500Z",
     "iopub.status.idle": "2023-05-11T17:19:25.392941Z",
     "shell.execute_reply": "2023-05-11T17:19:25.392405Z",
     "shell.execute_reply.started": "2023-05-11T17:19:25.220844Z"
    },
    "tags": []
   },
   "outputs": [],
   "source": [
    "# Start the chiller\n",
    "await WhiteLightSource.cmd_setChillerTemperature.set_start(temperature=20)\n",
    "await WhiteLightSource.cmd_startChiller.set_start()\n",
    "# Confirm that the chiller has started and running at 20C"
   ]
  },
  {
   "cell_type": "code",
   "execution_count": null,
   "metadata": {
    "execution": {
     "iopub.execute_input": "2023-05-11T17:19:33.287758Z",
     "iopub.status.busy": "2023-05-11T17:19:33.287401Z",
     "iopub.status.idle": "2023-05-11T17:19:40.417830Z",
     "shell.execute_reply": "2023-05-11T17:19:40.417382Z",
     "shell.execute_reply.started": "2023-05-11T17:19:33.287740Z"
    },
    "tags": []
   },
   "outputs": [],
   "source": [
    "# Open the shutter\n",
    "await WhiteLightSource.cmd_openShutter.set_start()"
   ]
  },
  {
   "cell_type": "code",
   "execution_count": null,
   "metadata": {
    "execution": {
     "iopub.execute_input": "2023-05-11T17:19:43.731692Z",
     "iopub.status.busy": "2023-05-11T17:19:43.731413Z",
     "iopub.status.idle": "2023-05-11T17:19:46.883746Z",
     "shell.execute_reply": "2023-05-11T17:19:46.883249Z",
     "shell.execute_reply.started": "2023-05-11T17:19:43.731676Z"
    },
    "tags": []
   },
   "outputs": [],
   "source": [
    "#Turn on lamp. It will then go into a warm up period before it will turn on \n",
    "await WhiteLightSource.cmd_turnLampOn.set_start(power = 910)"
   ]
  },
  {
   "cell_type": "markdown",
   "metadata": {},
   "source": [
    "### If the ATWhiteLight faults and the lamp fails to come on, do the following:\n",
    "(1) Use LOVE to cycle the CSC to standby->start->enable \\\n",
    "(2) Try again to turn the lamp on."
   ]
  },
  {
   "cell_type": "markdown",
   "metadata": {},
   "source": [
    "## ATMonochromator"
   ]
  },
  {
   "cell_type": "code",
   "execution_count": null,
   "metadata": {
    "execution": {
     "iopub.execute_input": "2023-05-11T17:19:55.922563Z",
     "iopub.status.busy": "2023-05-11T17:19:55.922292Z",
     "iopub.status.idle": "2023-05-11T17:20:16.272866Z",
     "shell.execute_reply": "2023-05-11T17:20:16.272432Z",
     "shell.execute_reply.started": "2023-05-11T17:19:55.922545Z"
    },
    "tags": []
   },
   "outputs": [],
   "source": [
    "await atmonochromator.cmd_start.start()\n",
    "state = salobj.State.ENABLED\n",
    "await salobj.set_summary_state(atmonochromator, state, timeout=60)"
   ]
  },
  {
   "cell_type": "code",
   "execution_count": null,
   "metadata": {
    "execution": {
     "iopub.execute_input": "2023-05-11T17:30:39.503708Z",
     "iopub.status.busy": "2023-05-11T17:30:39.503432Z",
     "iopub.status.idle": "2023-05-11T17:31:14.676743Z",
     "shell.execute_reply": "2023-05-11T17:31:14.676281Z",
     "shell.execute_reply.started": "2023-05-11T17:30:39.503691Z"
    },
    "tags": []
   },
   "outputs": [],
   "source": [
    "# Set the grating.  We will use grating 2, which is a mirror to pass white light\n",
    "grating=2 # which is which? 1 appears to be red, 0 appears to be blue, 2 is the mirror\n",
    "# takes ~40s from 0->1, (timed)\n",
    "# takes ~180s from 1->0 (guess)\n",
    "# takes 0->2 ~115s (measured)\n",
    "# 2->0 takes 60s (measured)  -remeasured at 36s\n",
    "# 2->1 takes 69s (measured)\n",
    "# 1->2 takes 35s \n",
    "# Use grating 0 from 300-550 nm\n",
    "# Use grating 1 from 550-115 0nm\n",
    "await atmonochromator.cmd_selectGrating.set_start(gratingType=grating, timeout=180)"
   ]
  },
  {
   "cell_type": "code",
   "execution_count": null,
   "metadata": {
    "execution": {
     "iopub.execute_input": "2023-05-11T17:31:35.935429Z",
     "iopub.status.busy": "2023-05-11T17:31:35.935134Z",
     "iopub.status.idle": "2023-05-11T17:31:36.625786Z",
     "shell.execute_reply": "2023-05-11T17:31:36.625380Z",
     "shell.execute_reply.started": "2023-05-11T17:31:35.935412Z"
    },
    "tags": []
   },
   "outputs": [],
   "source": [
    "# Set wavelength = 0 for white light\n",
    "wave=0\n",
    "await atmonochromator.cmd_changeWavelength.set_start(wavelength=wave)"
   ]
  },
  {
   "cell_type": "code",
   "execution_count": null,
   "metadata": {
    "execution": {
     "iopub.execute_input": "2023-05-11T17:31:38.556058Z",
     "iopub.status.busy": "2023-05-11T17:31:38.555785Z",
     "iopub.status.idle": "2023-05-11T17:31:42.302491Z",
     "shell.execute_reply": "2023-05-11T17:31:42.302085Z",
     "shell.execute_reply.started": "2023-05-11T17:31:38.556041Z"
    },
    "tags": []
   },
   "outputs": [],
   "source": [
    "# Set slits wide open\n",
    "entry_width=5.0\n",
    "exit_width=5.0\n",
    "await atmonochromator.cmd_changeSlitWidth.set_start(slit=1, slitWidth=entry_width)\n",
    "await atmonochromator.cmd_changeSlitWidth.set_start(slit=2, slitWidth=exit_width)"
   ]
  },
  {
   "cell_type": "code",
   "execution_count": null,
   "metadata": {
    "execution": {
     "iopub.execute_input": "2023-05-11T17:31:47.275800Z",
     "iopub.status.busy": "2023-05-11T17:31:47.275533Z",
     "iopub.status.idle": "2023-05-11T17:31:47.279905Z",
     "shell.execute_reply": "2023-05-11T17:31:47.279523Z",
     "shell.execute_reply.started": "2023-05-11T17:31:47.275783Z"
    },
    "tags": []
   },
   "outputs": [],
   "source": [
    "# Now check the state\n",
    "async def get_params():\n",
    "    tmp1 = await atmonochromator.evt_wavelength.aget()\n",
    "    tmp2 = await atmonochromator.evt_entrySlitWidth.aget()\n",
    "    tmp3 = await atmonochromator.evt_exitSlitWidth.aget()\n",
    "    tmp4 = await atmonochromator.evt_selectedGrating.aget()\n",
    "    return (tmp1.wavelength, tmp2.width, tmp3.width, tmp4.gratingType)\n",
    "\n",
    "await get_params()"
   ]
  },
  {
   "cell_type": "markdown",
   "metadata": {},
   "source": [
    "### You should see white light coming out of the flat illuminator.\n",
    "### If the ATMonochromator faults or fails to respond, do the following:\n",
    "(1) Put the ATMonochromator CSC in STANDBY \\\n",
    "(2) Open the plastic cover on the right side of the illumination system. \\\n",
    "(3) Reach inside with the long metal bar on top of the illuminator and \\\n",
    "power cycle the illuminator by turning the rocker switch off and back on. \\\n",
    "(4) Initialize the monochromator using  Microsoft Remote Desktop as explained \\\n",
    "in Section 4.6 of https://tstn-032.lsst.io/ \\\n",
    "(5) Re-start and enable the CSC using the cells above or LOVE\n",
    "\n",
    "### Ticket DM-38693 hopefully will eliminate the need to do this."
   ]
  },
  {
   "cell_type": "markdown",
   "metadata": {},
   "source": [
    "## Then, enable LATISS and ATCS and position telescope"
   ]
  },
  {
   "cell_type": "code",
   "execution_count": null,
   "metadata": {
    "execution": {
     "iopub.execute_input": "2023-05-11T17:31:56.524432Z",
     "iopub.status.busy": "2023-05-11T17:31:56.524147Z",
     "iopub.status.idle": "2023-05-11T17:31:57.665951Z",
     "shell.execute_reply": "2023-05-11T17:31:57.665557Z",
     "shell.execute_reply.started": "2023-05-11T17:31:56.524416Z"
    },
    "jupyter": {
     "outputs_hidden": true
    },
    "tags": []
   },
   "outputs": [],
   "source": [
    "atcs = ATCS(domain)\n",
    "latiss = LATISS(domain)\n",
    "await asyncio.gather(atcs.start_task, latiss.start_task)"
   ]
  },
  {
   "cell_type": "code",
   "execution_count": null,
   "metadata": {
    "execution": {
     "iopub.execute_input": "2023-05-11T17:32:01.859596Z",
     "iopub.status.busy": "2023-05-11T17:32:01.859319Z",
     "iopub.status.idle": "2023-05-11T17:32:17.442209Z",
     "shell.execute_reply": "2023-05-11T17:32:17.441614Z",
     "shell.execute_reply.started": "2023-05-11T17:32:01.859579Z"
    },
    "tags": []
   },
   "outputs": [],
   "source": [
    "await latiss.enable()"
   ]
  },
  {
   "cell_type": "code",
   "execution_count": null,
   "metadata": {
    "execution": {
     "iopub.execute_input": "2023-05-11T17:32:21.564951Z",
     "iopub.status.busy": "2023-05-11T17:32:21.564581Z",
     "iopub.status.idle": "2023-05-11T17:32:26.918228Z",
     "shell.execute_reply": "2023-05-11T17:32:26.917686Z",
     "shell.execute_reply.started": "2023-05-11T17:32:21.564932Z"
    },
    "tags": []
   },
   "outputs": [],
   "source": [
    "await atcs.enable()"
   ]
  },
  {
   "cell_type": "code",
   "execution_count": null,
   "metadata": {
    "execution": {
     "iopub.execute_input": "2023-05-11T17:32:35.859913Z",
     "iopub.status.busy": "2023-05-11T17:32:35.859520Z",
     "iopub.status.idle": "2023-05-11T17:35:46.028648Z",
     "shell.execute_reply": "2023-05-11T17:35:46.028024Z",
     "shell.execute_reply.started": "2023-05-11T17:32:35.859894Z"
    },
    "jupyter": {
     "outputs_hidden": true
    },
    "tags": []
   },
   "outputs": [],
   "source": [
    "# This will position the telescope and dome for the old illuminator\n",
    "await atcs.prepare_for_flatfield()"
   ]
  },
  {
   "cell_type": "code",
   "execution_count": null,
   "metadata": {
    "execution": {
     "iopub.execute_input": "2023-05-11T17:36:16.397149Z",
     "iopub.status.busy": "2023-05-11T17:36:16.396431Z",
     "iopub.status.idle": "2023-05-11T17:36:16.401553Z",
     "shell.execute_reply": "2023-05-11T17:36:16.401024Z",
     "shell.execute_reply.started": "2023-05-11T17:36:16.397130Z"
    }
   },
   "outputs": [],
   "source": [
    "await atcs.disable_dome_following()"
   ]
  },
  {
   "cell_type": "code",
   "execution_count": null,
   "metadata": {
    "execution": {
     "iopub.execute_input": "2023-05-11T17:36:18.973971Z",
     "iopub.status.busy": "2023-05-11T17:36:18.973421Z",
     "iopub.status.idle": "2023-05-11T17:36:41.851318Z",
     "shell.execute_reply": "2023-05-11T17:36:41.850666Z",
     "shell.execute_reply.started": "2023-05-11T17:36:18.973952Z"
    },
    "jupyter": {
     "outputs_hidden": true
    },
    "tags": []
   },
   "outputs": [],
   "source": [
    "# This is for the new dome flat illuminator\n",
    "await atcs.slew_dome_to(355.0)"
   ]
  },
  {
   "cell_type": "code",
   "execution_count": null,
   "metadata": {
    "execution": {
     "iopub.execute_input": "2023-05-11T17:36:46.408419Z",
     "iopub.status.busy": "2023-05-11T17:36:46.408039Z",
     "iopub.status.idle": "2023-05-11T17:38:05.161585Z",
     "shell.execute_reply": "2023-05-11T17:38:05.160986Z",
     "shell.execute_reply.started": "2023-05-11T17:36:46.408401Z"
    },
    "jupyter": {
     "outputs_hidden": true
    },
    "tags": []
   },
   "outputs": [],
   "source": [
    "# This is for the new dome flat illuminator\n",
    "start_az=181.7\n",
    "start_el=39.0\n",
    "start_rot=0\n",
    "await atcs.point_azel(az=start_az, el=start_el, rot_tel=start_rot)"
   ]
  },
  {
   "cell_type": "markdown",
   "metadata": {},
   "source": [
    "## Now we are ready to take the calibrations\n",
    "### Please verify that the flat level is between 10,000 and 40,000 ADU on RubinTV"
   ]
  },
  {
   "cell_type": "code",
   "execution_count": null,
   "metadata": {
    "execution": {
     "iopub.execute_input": "2023-05-11T17:38:09.529818Z",
     "iopub.status.busy": "2023-05-11T17:38:09.529470Z",
     "iopub.status.idle": "2023-05-11T17:40:02.096893Z",
     "shell.execute_reply": "2023-05-11T17:40:02.096284Z",
     "shell.execute_reply.started": "2023-05-11T17:38:09.529800Z"
    },
    "tags": []
   },
   "outputs": [],
   "source": [
    "# Take 25 biases\n",
    "for i in range(25):\n",
    "    await latiss.take_bias(nbias=1)\n",
    "    await asyncio.sleep(2.0)"
   ]
  },
  {
   "cell_type": "code",
   "execution_count": null,
   "metadata": {
    "execution": {
     "iopub.execute_input": "2023-05-11T17:40:06.877472Z",
     "iopub.status.busy": "2023-05-11T17:40:06.877062Z",
     "iopub.status.idle": "2023-05-11T17:49:26.801679Z",
     "shell.execute_reply": "2023-05-11T17:49:26.801125Z",
     "shell.execute_reply.started": "2023-05-11T17:40:06.877454Z"
    },
    "jupyter": {
     "outputs_hidden": true
    },
    "tags": []
   },
   "outputs": [],
   "source": [
    "# Take darks with a range of exposure times:\n",
    "await latiss.take_darks(exptime=5.0, ndarks=5)\n",
    "await latiss.take_darks(exptime=15.0, ndarks=2)\n",
    "await latiss.take_darks(exptime=30.0, ndarks=15)"
   ]
  },
  {
   "cell_type": "code",
   "execution_count": null,
   "metadata": {
    "execution": {
     "iopub.execute_input": "2023-05-11T17:50:12.545872Z",
     "iopub.status.busy": "2023-05-11T17:50:12.545502Z",
     "iopub.status.idle": "2023-05-11T17:50:33.927226Z",
     "shell.execute_reply": "2023-05-11T17:50:33.926646Z",
     "shell.execute_reply.started": "2023-05-11T17:50:12.545854Z"
    },
    "tags": []
   },
   "outputs": [],
   "source": [
    "# Take 1 flat with each of the 3 filters.  Verify that the flats are between 10,000-40,000 ADU\n",
    "# Adjust exptimes if necessary\n",
    "await latiss.take_flats(exptime=9.0, nflats=1, filter='SDSSi_65mm', grating='empty_1')\n",
    "await latiss.take_flats(exptime=9.0, nflats=1, filter='SDSSr_65mm', grating='empty_1')\n",
    "await latiss.take_flats(exptime=9.0, nflats=1, filter='SDSSg_65mm', grating='empty_1')"
   ]
  },
  {
   "cell_type": "code",
   "execution_count": null,
   "metadata": {
    "execution": {
     "iopub.execute_input": "2023-05-11T17:52:10.456749Z",
     "iopub.status.busy": "2023-05-11T17:52:10.456358Z",
     "iopub.status.idle": "2023-05-11T18:04:00.782601Z",
     "shell.execute_reply": "2023-05-11T18:04:00.782027Z",
     "shell.execute_reply.started": "2023-05-11T17:52:10.456730Z"
    },
    "jupyter": {
     "outputs_hidden": true
    },
    "tags": []
   },
   "outputs": [],
   "source": [
    "# Now take 20 flats with all 3 filters\n",
    "await latiss.take_flats(exptime=9.0, nflats=20, filter='SDSSi_65mm', grating='empty_1')\n",
    "await latiss.take_flats(exptime=9.0, nflats=20, filter='SDSSr_65mm', grating='empty_1')\n",
    "await latiss.take_flats(exptime=9.0, nflats=20, filter='SDSSg_65mm', grating='empty_1')"
   ]
  },
  {
   "cell_type": "markdown",
   "metadata": {},
   "source": [
    "## Done.  Shutting down.\n",
    "### After turning off the lamp, you need to wait 15 minutes before turning off the chiller"
   ]
  },
  {
   "cell_type": "code",
   "execution_count": null,
   "metadata": {
    "execution": {
     "iopub.execute_input": "2023-05-11T18:04:47.678905Z",
     "iopub.status.busy": "2023-05-11T18:04:47.678522Z",
     "iopub.status.idle": "2023-05-11T18:04:49.309004Z",
     "shell.execute_reply": "2023-05-11T18:04:49.308367Z",
     "shell.execute_reply.started": "2023-05-11T18:04:47.678886Z"
    },
    "tags": []
   },
   "outputs": [],
   "source": [
    "# Turn off the lamp\n",
    "tmp = await WhiteLightSource.cmd_turnLampOff.set_start()"
   ]
  },
  {
   "cell_type": "code",
   "execution_count": null,
   "metadata": {
    "execution": {
     "iopub.execute_input": "2023-05-11T18:04:50.988087Z",
     "iopub.status.busy": "2023-05-11T18:04:50.987713Z",
     "iopub.status.idle": "2023-05-11T18:04:58.155744Z",
     "shell.execute_reply": "2023-05-11T18:04:58.155283Z",
     "shell.execute_reply.started": "2023-05-11T18:04:50.988069Z"
    },
    "tags": []
   },
   "outputs": [],
   "source": [
    "# Close the shutter\n",
    "tmp = await WhiteLightSource.cmd_closeShutter.set_start()"
   ]
  },
  {
   "cell_type": "code",
   "execution_count": null,
   "metadata": {
    "execution": {
     "iopub.execute_input": "2023-05-11T18:20:09.334238Z",
     "iopub.status.busy": "2023-05-11T18:20:09.333849Z",
     "iopub.status.idle": "2023-05-11T18:20:09.446111Z",
     "shell.execute_reply": "2023-05-11T18:20:09.445500Z",
     "shell.execute_reply.started": "2023-05-11T18:20:09.334220Z"
    },
    "tags": []
   },
   "outputs": [],
   "source": [
    "# Turn off the chiller\n",
    "# If you try to turn it off before 15 minutes, it will give an error\n",
    "# and tell you how much time is left before you can turn it off\n",
    "tmp = await WhiteLightSource.cmd_stopChiller.start()"
   ]
  },
  {
   "cell_type": "code",
   "execution_count": null,
   "metadata": {
    "execution": {
     "iopub.execute_input": "2023-05-11T18:20:10.553277Z",
     "iopub.status.busy": "2023-05-11T18:20:10.552878Z",
     "iopub.status.idle": "2023-05-11T18:20:10.566718Z",
     "shell.execute_reply": "2023-05-11T18:20:10.566232Z",
     "shell.execute_reply.started": "2023-05-11T18:20:10.553260Z"
    },
    "tags": []
   },
   "outputs": [],
   "source": [
    "# Put ATWhiteLight in STANDBY\n",
    "# You can't do this until the chiller is off\n",
    "state = salobj.State.STANDBY\n",
    "await salobj.set_summary_state(WhiteLightSource, state)"
   ]
  },
  {
   "cell_type": "code",
   "execution_count": null,
   "metadata": {
    "execution": {
     "iopub.execute_input": "2023-05-11T18:05:13.625880Z",
     "iopub.status.busy": "2023-05-11T18:05:13.625502Z",
     "iopub.status.idle": "2023-05-11T18:05:13.633027Z",
     "shell.execute_reply": "2023-05-11T18:05:13.632503Z",
     "shell.execute_reply.started": "2023-05-11T18:05:13.625862Z"
    },
    "tags": []
   },
   "outputs": [],
   "source": [
    "# Put ATMonochromator in STANDBY\n",
    "state = salobj.State.STANDBY\n",
    "await salobj.set_summary_state(atmonochromator, state, timeout=60)"
   ]
  },
  {
   "cell_type": "code",
   "execution_count": null,
   "metadata": {
    "execution": {
     "iopub.execute_input": "2023-05-11T18:05:46.190738Z",
     "iopub.status.busy": "2023-05-11T18:05:46.190369Z",
     "iopub.status.idle": "2023-05-11T18:09:15.363990Z",
     "shell.execute_reply": "2023-05-11T18:09:15.363462Z",
     "shell.execute_reply.started": "2023-05-11T18:05:46.190720Z"
    },
    "jupyter": {
     "outputs_hidden": true
    },
    "tags": []
   },
   "outputs": [],
   "source": [
    "# Shutdown ATCS.  This will put ATCS in STANDBY and park the telescope and dome.\n",
    "await atcs.shutdown()"
   ]
  },
  {
   "cell_type": "code",
   "execution_count": null,
   "metadata": {
    "execution": {
     "iopub.execute_input": "2023-05-11T18:09:15.370108Z",
     "iopub.status.busy": "2023-05-11T18:09:15.369798Z",
     "iopub.status.idle": "2023-05-11T18:09:16.380304Z",
     "shell.execute_reply": "2023-05-11T18:09:16.379783Z",
     "shell.execute_reply.started": "2023-05-11T18:09:15.370093Z"
    },
    "tags": []
   },
   "outputs": [],
   "source": [
    "# Put LATISS in STANDBY\n",
    "await latiss.standby()"
   ]
  },
  {
   "cell_type": "code",
   "execution_count": null,
   "metadata": {},
   "outputs": [],
   "source": []
  }
 ],
 "metadata": {
  "kernelspec": {
   "display_name": "LSST",
   "language": "python",
   "name": "lsst"
  },
  "language_info": {
   "codemirror_mode": {
    "name": "ipython",
    "version": 3
   },
   "file_extension": ".py",
   "mimetype": "text/x-python",
   "name": "python",
   "nbconvert_exporter": "python",
   "pygments_lexer": "ipython3",
   "version": "3.10.10"
  }
 },
 "nbformat": 4,
 "nbformat_minor": 4
}
