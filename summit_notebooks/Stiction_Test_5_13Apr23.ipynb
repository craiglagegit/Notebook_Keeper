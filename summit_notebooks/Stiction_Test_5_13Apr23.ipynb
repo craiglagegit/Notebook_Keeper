{
 "cells": [
  {
   "cell_type": "markdown",
   "id": "3dbf3c0c",
   "metadata": {},
   "source": [
    "# Pole stiction\n",
    "\n",
    "This notebook is intended to characterize the slow speed stiction problem \\\n",
    "at the pole by spiraling into the pole where the tracking speeds will be slower and slower. \\\n",
    "Craig Lage - 17-Oct-22"
   ]
  },
  {
   "cell_type": "code",
   "execution_count": null,
   "id": "b9b61b70",
   "metadata": {
    "execution": {
     "iopub.execute_input": "2023-04-13T14:30:06.771979Z",
     "iopub.status.busy": "2023-04-13T14:30:06.771634Z",
     "iopub.status.idle": "2023-04-13T14:30:09.413467Z",
     "shell.execute_reply": "2023-04-13T14:30:09.412803Z",
     "shell.execute_reply.started": "2023-04-13T14:30:06.771961Z"
    },
    "tags": []
   },
   "outputs": [],
   "source": [
    "import asyncio\n",
    "import time\n",
    "import os\n",
    "import numpy as np\n",
    "import matplotlib.pyplot as plt\n",
    "from astropy.time import Time\n",
    "\n",
    "from lsst.ts import salobj\n",
    "\n",
    "from lsst.ts.observatory.control.auxtel.atcs import ATCS\n",
    "from lsst.ts.observatory.control.auxtel.latiss import LATISS\n",
    "from lsst.ts.observatory.control.utils import RotType"
   ]
  },
  {
   "cell_type": "code",
   "execution_count": null,
   "id": "0755fd07",
   "metadata": {
    "execution": {
     "iopub.execute_input": "2023-04-13T14:30:09.419654Z",
     "iopub.status.busy": "2023-04-13T14:30:09.419512Z",
     "iopub.status.idle": "2023-04-13T14:30:09.422480Z",
     "shell.execute_reply": "2023-04-13T14:30:09.422009Z",
     "shell.execute_reply.started": "2023-04-13T14:30:09.419640Z"
    },
    "tags": []
   },
   "outputs": [],
   "source": [
    "logger = logging.getLogger(f\"Daytime Checkout {Time.now()} UT\")\n",
    "logger.level = logging.DEBUG"
   ]
  },
  {
   "cell_type": "code",
   "execution_count": null,
   "id": "e80647f9",
   "metadata": {
    "execution": {
     "iopub.execute_input": "2023-04-13T14:30:09.423760Z",
     "iopub.status.busy": "2023-04-13T14:30:09.423431Z",
     "iopub.status.idle": "2023-04-13T14:30:09.431136Z",
     "shell.execute_reply": "2023-04-13T14:30:09.430691Z",
     "shell.execute_reply.started": "2023-04-13T14:30:09.423744Z"
    },
    "tags": []
   },
   "outputs": [],
   "source": [
    "logger.info(os.environ[\"OSPL_URI\"])\n",
    "logger.info(os.environ[\"LSST_DDS_PARTITION_PREFIX\"])"
   ]
  },
  {
   "cell_type": "markdown",
   "id": "a9cd22ea",
   "metadata": {},
   "source": [
    "### Instantiate the control classes"
   ]
  },
  {
   "cell_type": "code",
   "execution_count": null,
   "id": "f651e5d9",
   "metadata": {
    "execution": {
     "iopub.execute_input": "2023-04-13T14:30:12.122036Z",
     "iopub.status.busy": "2023-04-13T14:30:12.121672Z",
     "iopub.status.idle": "2023-04-13T14:30:14.179607Z",
     "shell.execute_reply": "2023-04-13T14:30:14.179012Z",
     "shell.execute_reply.started": "2023-04-13T14:30:12.122018Z"
    },
    "jupyter": {
     "outputs_hidden": true
    },
    "tags": []
   },
   "outputs": [],
   "source": [
    "domain = salobj.Domain()\n",
    "atcs = ATCS(domain)\n",
    "latiss = LATISS(domain)\n",
    "await asyncio.gather(atcs.start_task, latiss.start_task)\n",
    "await atcs.assert_liveliness()"
   ]
  },
  {
   "cell_type": "markdown",
   "id": "50d3b4be",
   "metadata": {},
   "source": [
    "## Enable LATISS and ATCS"
   ]
  },
  {
   "cell_type": "code",
   "execution_count": null,
   "id": "ab6d900c",
   "metadata": {
    "execution": {
     "iopub.execute_input": "2023-04-04T13:42:18.239368Z",
     "iopub.status.busy": "2023-04-04T13:42:18.238418Z",
     "iopub.status.idle": "2023-04-04T13:42:39.654537Z",
     "shell.execute_reply": "2023-04-04T13:42:39.653830Z",
     "shell.execute_reply.started": "2023-04-04T13:42:18.239341Z"
    },
    "jupyter": {
     "outputs_hidden": true
    },
    "tags": []
   },
   "outputs": [],
   "source": [
    "# Didn't come up.  Brought up with LOVE\n",
    "await latiss.enable()\n",
    "await atcs.enable()\n",
    "await atcs.assert_all_enabled()"
   ]
  },
  {
   "cell_type": "markdown",
   "id": "014ff42a-1d20-4a15-a145-3a59306459e2",
   "metadata": {
    "tags": []
   },
   "source": [
    "If ATCamera and/or ATOODS don't come up, see section `Quick Troubleshooting` for support commands. "
   ]
  },
  {
   "cell_type": "markdown",
   "id": "a85209e7",
   "metadata": {
    "tags": []
   },
   "source": [
    "### Bias verification"
   ]
  },
  {
   "cell_type": "code",
   "execution_count": null,
   "id": "7761429f",
   "metadata": {
    "execution": {
     "iopub.execute_input": "2023-04-13T14:30:19.074244Z",
     "iopub.status.busy": "2023-04-13T14:30:19.073959Z",
     "iopub.status.idle": "2023-04-13T14:30:41.549532Z",
     "shell.execute_reply": "2023-04-13T14:30:41.548916Z",
     "shell.execute_reply.started": "2023-04-13T14:30:19.074226Z"
    },
    "tags": []
   },
   "outputs": [],
   "source": [
    "for i in range(5):\n",
    "    await latiss.take_bias(nbias=1)\n",
    "    await asyncio.sleep(2.0)"
   ]
  },
  {
   "cell_type": "code",
   "execution_count": null,
   "id": "eb8e7dab-9da0-42a9-995c-34977879aa1a",
   "metadata": {
    "execution": {
     "iopub.execute_input": "2023-04-13T14:32:54.903828Z",
     "iopub.status.busy": "2023-04-13T14:32:54.903451Z",
     "iopub.status.idle": "2023-04-13T14:32:54.907929Z",
     "shell.execute_reply": "2023-04-13T14:32:54.907447Z",
     "shell.execute_reply.started": "2023-04-13T14:32:54.903810Z"
    },
    "tags": []
   },
   "outputs": [],
   "source": [
    "await atcs.disable_dome_following()"
   ]
  },
  {
   "cell_type": "markdown",
   "id": "3fc32bc5-5f36-4e5a-bcfd-27c3a9eeec21",
   "metadata": {
    "tags": []
   },
   "source": [
    "### Now run the actual test, taking a 30 second image at each location."
   ]
  },
  {
   "cell_type": "code",
   "execution_count": null,
   "id": "449950cc-ce9a-4e4a-8367-fe880a4982b2",
   "metadata": {
    "execution": {
     "iopub.execute_input": "2023-04-13T16:01:04.861177Z",
     "iopub.status.busy": "2023-04-13T16:01:04.860435Z",
     "iopub.status.idle": "2023-04-13T16:01:21.777877Z",
     "shell.execute_reply": "2023-04-13T16:01:21.777385Z",
     "shell.execute_reply.started": "2023-04-13T16:01:04.861157Z"
    },
    "jupyter": {
     "outputs_hidden": true
    },
    "tags": []
   },
   "outputs": [],
   "source": [
    "# Move to starting location\n",
    "coord=atcs.radec_from_azel(az=0, el=45)\n",
    "await atcs.slew_icrs(coord.ra, coord.dec, rot=0.0, rot_type=RotType.Physical)"
   ]
  },
  {
   "cell_type": "code",
   "execution_count": null,
   "id": "eeb62b3b-9b34-4511-87bc-07587a3ce772",
   "metadata": {
    "execution": {
     "iopub.execute_input": "2023-04-13T16:01:27.344419Z",
     "iopub.status.busy": "2023-04-13T16:01:27.344039Z",
     "iopub.status.idle": "2023-04-13T16:01:59.841997Z",
     "shell.execute_reply": "2023-04-13T16:01:59.841224Z",
     "shell.execute_reply.started": "2023-04-13T16:01:27.344401Z"
    },
    "tags": []
   },
   "outputs": [],
   "source": [
    "await latiss.take_darks(30.0, 1)"
   ]
  },
  {
   "cell_type": "code",
   "execution_count": null,
   "id": "6897aaac-84b7-4a47-adae-e03bf57288b9",
   "metadata": {
    "execution": {
     "iopub.execute_input": "2023-04-13T16:02:49.228286Z",
     "iopub.status.busy": "2023-04-13T16:02:49.227767Z",
     "iopub.status.idle": "2023-04-13T17:11:20.322068Z",
     "shell.execute_reply": "2023-04-13T17:11:20.321496Z",
     "shell.execute_reply.started": "2023-04-13T16:02:49.228267Z"
    },
    "jupyter": {
     "outputs_hidden": true
    },
    "tags": []
   },
   "outputs": [],
   "source": [
    "# Now run the actual test\n",
    "# First run had header problems\n",
    "# First image is 2023041300081\n",
    "\n",
    "az = 0.0\n",
    "for i in range(36):\n",
    "    az += 10.0\n",
    "    coord=atcs.radec_from_azel(az=az, el=45)\n",
    "    await atcs.slew_icrs(coord.ra, coord.dec, rot=0.0, rot_type=RotType.Physical)\n",
    "    await latiss.take_darks(30.0, 1)\n",
    "az = 359.0\n",
    "for i in range(36):\n",
    "    az += -10.0\n",
    "    coord=atcs.radec_from_azel(az=az, el=45)\n",
    "    await atcs.slew_icrs(coord.ra, coord.dec, rot=0.0, rot_type=RotType.Physical)\n",
    "    await latiss.take_darks(30.0, 1)\n"
   ]
  },
  {
   "cell_type": "code",
   "execution_count": null,
   "id": "3ea5225b",
   "metadata": {
    "execution": {
     "iopub.execute_input": "2023-04-04T15:51:59.816765Z",
     "iopub.status.busy": "2023-04-04T15:51:59.816472Z",
     "iopub.status.idle": "2023-04-04T15:52:24.242535Z",
     "shell.execute_reply": "2023-04-04T15:52:24.241971Z",
     "shell.execute_reply.started": "2023-04-04T15:51:59.816746Z"
    },
    "jupyter": {
     "outputs_hidden": true
    },
    "tags": []
   },
   "outputs": [],
   "source": [
    "# Stop tracking\n",
    "await atcs.stop_tracking()"
   ]
  },
  {
   "cell_type": "markdown",
   "id": "a435880e",
   "metadata": {},
   "source": [
    "## Shutdown all ATCS components"
   ]
  },
  {
   "cell_type": "code",
   "execution_count": null,
   "id": "723d22b0",
   "metadata": {
    "jupyter": {
     "outputs_hidden": true
    },
    "tags": []
   },
   "outputs": [],
   "source": [
    "await atcs.shutdown()"
   ]
  },
  {
   "cell_type": "markdown",
   "id": "621b5407",
   "metadata": {},
   "source": [
    "## Put LATISS in standby"
   ]
  },
  {
   "cell_type": "code",
   "execution_count": null,
   "id": "80517626",
   "metadata": {
    "tags": []
   },
   "outputs": [],
   "source": [
    "await latiss.standby()"
   ]
  },
  {
   "cell_type": "code",
   "execution_count": null,
   "id": "58009d48-693f-452a-b497-ccc6008c1975",
   "metadata": {},
   "outputs": [],
   "source": []
  }
 ],
 "metadata": {
  "kernelspec": {
   "display_name": "LSST",
   "language": "python",
   "name": "lsst"
  },
  "language_info": {
   "codemirror_mode": {
    "name": "ipython",
    "version": 3
   },
   "file_extension": ".py",
   "mimetype": "text/x-python",
   "name": "python",
   "nbconvert_exporter": "python",
   "pygments_lexer": "ipython3",
   "version": "3.11.4"
  }
 },
 "nbformat": 4,
 "nbformat_minor": 5
}
