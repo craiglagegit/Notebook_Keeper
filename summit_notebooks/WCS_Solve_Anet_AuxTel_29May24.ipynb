{
 "cells": [
  {
   "cell_type": "markdown",
   "metadata": {},
   "source": [
    "## WCS solutions for AuxTel - 29-May-24\n",
    "\n",
    "Craig Lage "
   ]
  },
  {
   "cell_type": "code",
   "execution_count": null,
   "metadata": {
    "execution": {
     "iopub.execute_input": "2024-06-05T23:27:10.982919Z",
     "iopub.status.busy": "2024-06-05T23:27:10.982042Z",
     "iopub.status.idle": "2024-06-05T23:27:19.338769Z",
     "shell.execute_reply": "2024-06-05T23:27:19.338054Z",
     "shell.execute_reply.started": "2024-06-05T23:27:10.982862Z"
    }
   },
   "outputs": [],
   "source": [
    "import sys, time, os, asyncio, glob\n",
    "from datetime import datetime\n",
    "import numpy as np\n",
    "import matplotlib.pyplot as plt\n",
    "import astropy.io.fits as pf\n",
    "from astropy.time import Time, TimeDelta\n",
    "from astropy.coordinates import AltAz, ICRS, EarthLocation, Angle, FK5, SkyCoord\n",
    "import astropy.units as u\n",
    "from lsst.obs.lsst.translators.latiss import AUXTEL_LOCATION\n",
    "from lsst.obs.lsst.translators.lsst import SIMONYI_LOCATION\n",
    "from astroquery.astrometry_net import AstrometryNet\n",
    "from lsst.summit.utils.astrometry.anet import CommandLineSolver\n",
    "import lsst.summit.utils.butlerUtils as butlerUtils\n",
    "from lsst.summit.utils.bestEffort import BestEffortIsr\n",
    "from lsst.summit.utils.plotting import plot\n",
    "from lsst.summit.utils import quickSmooth\n",
    "from mpl_toolkits.axes_grid1 import make_axes_locatable\n",
    "from matplotlib.colors import LogNorm\n",
    "from lsst.summit.utils.astrometry.utils import runCharactierizeImage, filterSourceCatOnBrightest\n",
    "import lsst.geom as geom"
   ]
  },
  {
   "cell_type": "code",
   "execution_count": null,
   "metadata": {
    "execution": {
     "iopub.execute_input": "2024-06-05T23:27:19.352693Z",
     "iopub.status.busy": "2024-06-05T23:27:19.352544Z",
     "iopub.status.idle": "2024-06-05T23:27:20.174953Z",
     "shell.execute_reply": "2024-06-05T23:27:20.174317Z",
     "shell.execute_reply.started": "2024-06-05T23:27:19.352678Z"
    }
   },
   "outputs": [],
   "source": [
    "butler = butlerUtils.makeDefaultLatissButler(embargo=False)\n",
    "bestEffort = BestEffortIsr(embargo=False)\n",
    "solver = CommandLineSolver()\n",
    "# So we'll use the remote astrometry.net solver\n",
    "ast = AstrometryNet()\n",
    "ast.api_key = 'xxawwhvleirxcswx'"
   ]
  },
  {
   "cell_type": "code",
   "execution_count": null,
   "metadata": {
    "execution": {
     "iopub.execute_input": "2024-06-05T23:27:20.176376Z",
     "iopub.status.busy": "2024-06-05T23:27:20.176213Z",
     "iopub.status.idle": "2024-06-05T23:27:22.278257Z",
     "shell.execute_reply": "2024-06-05T23:27:22.277437Z",
     "shell.execute_reply.started": "2024-06-05T23:27:20.176360Z"
    }
   },
   "outputs": [],
   "source": [
    "dataId = dict(day_obs=20240528, detector=0, seq_num=323)\n",
    "bestEffort.getExposure(dataId)\n",
    "dataType = 'quickLookExp'\n",
    "exp = butler.get(dataType, dataId)\n",
    "mData = butler.get('raw.metadata', dataId=dataId)"
   ]
  },
  {
   "cell_type": "code",
   "execution_count": null,
   "metadata": {
    "execution": {
     "iopub.execute_input": "2024-06-05T23:27:22.279562Z",
     "iopub.status.busy": "2024-06-05T23:27:22.279343Z",
     "iopub.status.idle": "2024-06-05T23:27:23.868563Z",
     "shell.execute_reply": "2024-06-05T23:27:23.867906Z",
     "shell.execute_reply.started": "2024-06-05T23:27:22.279541Z"
    }
   },
   "outputs": [],
   "source": [
    "%matplotlib inline\n",
    "test = plot(exp)"
   ]
  },
  {
   "cell_type": "code",
   "execution_count": null,
   "metadata": {
    "execution": {
     "iopub.execute_input": "2024-06-05T23:27:23.869439Z",
     "iopub.status.busy": "2024-06-05T23:27:23.869284Z",
     "iopub.status.idle": "2024-06-05T23:27:29.371932Z",
     "shell.execute_reply": "2024-06-05T23:27:29.371327Z",
     "shell.execute_reply.started": "2024-06-05T23:27:23.869424Z"
    }
   },
   "outputs": [],
   "source": [
    "results = runCharactierizeImage(exp, 5, 10)\n",
    "sourceCat = results.sourceCat\n",
    "filteredCat = filterSourceCatOnBrightest(results.sourceCat, 0.2, maxSources=100)\n",
    "x = filteredCat.getColumnView().getX()\n",
    "y = filteredCat.getColumnView().getY()\n",
    "wcs = exp.getWcs()\n",
    "image_width = int(mData['DETSIZE'].strip('[]').split(',')[0].split(':')[1])\n",
    "image_height = int(mData['DETSIZE'].strip('[]').split(',')[1].split(':')[1])\n",
    "scale_units = 'arcsecperpix'\n",
    "scale_type='ev' # ev means submit estimate and % error\n",
    "scale_est = wcs.getPixelScale().asArcseconds()\n",
    "scale_err = 2.0\n",
    "center_ra = mData['RA']\n",
    "center_dec = mData['DEC']\n",
    "radius = 0.5\n",
    "print(len(filteredCat))"
   ]
  },
  {
   "cell_type": "code",
   "execution_count": null,
   "metadata": {},
   "outputs": [],
   "source": [
    "wcs_anet = ast.solve_from_source_list(x, y, \n",
    "                                        image_width, image_height, scale_units=scale_units,\n",
    "                                        scale_type=scale_type, scale_est=scale_est, scale_err=scale_err,\n",
    "                                        center_ra=center_ra, center_dec=center_dec, radius=radius,\n",
    "                                        crpix_center=True, solve_timeout=240)\n",
    "print(wcs_anet['CRVAL1'])"
   ]
  },
  {
   "cell_type": "code",
   "execution_count": null,
   "metadata": {},
   "outputs": [],
   "source": [
    "# Get the DM wcs coordinates of the center pixel:\n",
    "print(dataId)\n",
    "DM_center = wcs.pixelToSky(wcs_anet['CRPIX1'], wcs_anet['CRPIX2'])\n",
    "DM_RA_Dec = (DM_center.getRa().asDegrees(), DM_center.getDec().asDegrees())\n",
    "print(f\"Header center pix RA/Dec = {DM_RA_Dec[0]}, {DM_RA_Dec[1]} degrees\")\n",
    "Anet_RA_Dec = (wcs_anet['CRVAL1'], wcs_anet['CRVAL2'])\n",
    "print(f\"Astrometry.net center pix RA/Dec = {Anet_RA_Dec[0]}, {Anet_RA_Dec[1]} degrees\")\n",
    "Diff = ((DM_RA_Dec[0] - Anet_RA_Dec[0]) * 3600.0, (DM_RA_Dec[1] - Anet_RA_Dec[1]) * 3600.0)\n",
    "print(f\"Difference center pix RA/Dec = {Diff[0]}, {Diff[1]} arcseconds\")"
   ]
  },
  {
   "cell_type": "code",
   "execution_count": null,
   "metadata": {},
   "outputs": [],
   "source": [
    "time = Time((Time(mData[\"DATE-BEG\"], scale='tai').unix_tai + Time(mData[\"DATE-END\"], scale='tai').unix_tai)/2.0, format='unix_tai', scale='tai')\n",
    "altAz = AltAz(obstime=time, location=AUXTEL_LOCATION)\n",
    "DMSkyLocation = SkyCoord(DM_center.getRa().asDegrees() * u.deg, DM_center.getDec().asDegrees() * u.deg)\n",
    "DMObsAltAz = DMSkyLocation.transform_to(altAz)\n",
    "DMaz = DMObsAltAz.az.deg\n",
    "DMaz = DMaz % 360\n",
    "DMel = DMObsAltAz.alt.deg\n",
    "AnetSkyLocation = SkyCoord(Anet_RA_Dec[0] * u.deg, Anet_RA_Dec[1] * u.deg)\n",
    "AnetObsAltAz = AnetSkyLocation.transform_to(altAz)\n",
    "Anetaz = AnetObsAltAz.az.deg\n",
    "Anetaz = Anetaz % 360\n",
    "Anetel = AnetObsAltAz.alt.deg\n",
    "#print(DMaz, DMel)\n",
    "#print(Anetaz, Anetel)\n",
    "AzDiff = DMaz - Anetaz\n",
    "if AzDiff > 360.:\n",
    "    AzDiff -= 360.0\n",
    "Diff = (AzDiff * 3600.0, (DMel - Anetel) * 3600.0)\n",
    "print(dataId)\n",
    "print(f\"Az = {DMaz}, El = {DMel}\")\n",
    "print(f\"Difference center pix Az/El = {Diff[0]}, {Diff[1]} arcseconds\")"
   ]
  },
  {
   "cell_type": "code",
   "execution_count": null,
   "metadata": {
    "execution": {
     "iopub.execute_input": "2024-05-31T10:59:07.368381Z",
     "iopub.status.busy": "2024-05-31T10:59:07.368011Z",
     "iopub.status.idle": "2024-05-31T10:59:09.105541Z",
     "shell.execute_reply": "2024-05-31T10:59:09.104643Z",
     "shell.execute_reply.started": "2024-05-31T10:59:07.368352Z"
    }
   },
   "outputs": [],
   "source": [
    "dataId = dict(day_obs=20240419, detector=0, seq_num=477)\n",
    "bestEffort.getExposure(dataId)\n",
    "dataType = 'quickLookExp'\n",
    "exp = butler.get(dataType, dataId)\n",
    "mData = butler.get('raw.metadata', dataId=dataId)"
   ]
  },
  {
   "cell_type": "code",
   "execution_count": null,
   "metadata": {
    "execution": {
     "iopub.execute_input": "2024-05-31T10:59:11.618356Z",
     "iopub.status.busy": "2024-05-31T10:59:11.617967Z",
     "iopub.status.idle": "2024-05-31T10:59:13.223670Z",
     "shell.execute_reply": "2024-05-31T10:59:13.222942Z",
     "shell.execute_reply.started": "2024-05-31T10:59:11.618327Z"
    }
   },
   "outputs": [],
   "source": [
    "%matplotlib inline\n",
    "test = plot(exp)"
   ]
  },
  {
   "cell_type": "code",
   "execution_count": null,
   "metadata": {
    "execution": {
     "iopub.execute_input": "2024-05-31T10:59:18.114305Z",
     "iopub.status.busy": "2024-05-31T10:59:18.113918Z",
     "iopub.status.idle": "2024-05-31T10:59:25.207149Z",
     "shell.execute_reply": "2024-05-31T10:59:25.206321Z",
     "shell.execute_reply.started": "2024-05-31T10:59:18.114275Z"
    }
   },
   "outputs": [],
   "source": [
    "results = runCharactierizeImage(exp, 5, 10)\n",
    "sourceCat = results.sourceCat\n",
    "filteredCat = filterSourceCatOnBrightest(results.sourceCat, 0.2, maxSources=100)\n",
    "x = filteredCat.getColumnView().getX()\n",
    "y = filteredCat.getColumnView().getY()\n",
    "wcs = exp.getWcs()\n",
    "image_width = int(mData['DETSIZE'].strip('[]').split(',')[0].split(':')[1])\n",
    "image_height = int(mData['DETSIZE'].strip('[]').split(',')[1].split(':')[1])\n",
    "scale_units = 'arcsecperpix'\n",
    "scale_type='ev' # ev means submit estimate and % error\n",
    "scale_est = wcs.getPixelScale().asArcseconds()\n",
    "scale_err = 2.0\n",
    "center_ra = mData['RA']\n",
    "center_dec = mData['DEC']\n",
    "radius = 0.5\n",
    "print(len(filteredCat))"
   ]
  },
  {
   "cell_type": "code",
   "execution_count": null,
   "metadata": {
    "execution": {
     "iopub.execute_input": "2024-05-31T10:59:25.464238Z",
     "iopub.status.busy": "2024-05-31T10:59:25.464086Z",
     "iopub.status.idle": "2024-05-31T10:59:39.003324Z",
     "shell.execute_reply": "2024-05-31T10:59:39.002457Z",
     "shell.execute_reply.started": "2024-05-31T10:59:25.464224Z"
    }
   },
   "outputs": [],
   "source": [
    "wcs_anet = ast.solve_from_source_list(x, y, \n",
    "                                        image_width, image_height, scale_units=scale_units,\n",
    "                                        scale_type=scale_type, scale_est=scale_est, scale_err=scale_err,\n",
    "                                        center_ra=center_ra, center_dec=center_dec, radius=radius,\n",
    "                                        crpix_center=True, solve_timeout=240)\n",
    "print(wcs_anet['CRVAL1'])"
   ]
  },
  {
   "cell_type": "code",
   "execution_count": null,
   "metadata": {},
   "outputs": [],
   "source": [
    "wcs_anet"
   ]
  },
  {
   "cell_type": "code",
   "execution_count": null,
   "metadata": {
    "execution": {
     "iopub.execute_input": "2024-05-31T11:00:49.522934Z",
     "iopub.status.busy": "2024-05-31T11:00:49.522547Z",
     "iopub.status.idle": "2024-05-31T11:00:49.552436Z",
     "shell.execute_reply": "2024-05-31T11:00:49.551711Z",
     "shell.execute_reply.started": "2024-05-31T11:00:49.522904Z"
    }
   },
   "outputs": [],
   "source": [
    "# Get the DM wcs coordinates of the center pixel:\n",
    "print(dataId)\n",
    "DM_center = wcs.pixelToSky(wcs_anet['CRPIX1'], wcs_anet['CRPIX2'])\n",
    "DM_RA_Dec = (DM_center.getRa().asDegrees(), DM_center.getDec().asDegrees())\n",
    "print(f\"Header center pix RA/Dec = {DM_RA_Dec[0]}, {DM_RA_Dec[1]} degrees\")\n",
    "Anet_RA_Dec = (wcs_anet['CRVAL1'], wcs_anet['CRVAL2'])\n",
    "print(f\"Astrometry.net center pix RA/Dec = {Anet_RA_Dec[0]}, {Anet_RA_Dec[1]} degrees\")\n",
    "Diff = ((DM_RA_Dec[0] - Anet_RA_Dec[0]) * 3600.0, (DM_RA_Dec[1] - Anet_RA_Dec[1]) * 3600.0)\n",
    "print(f\"Difference center pix RA/Dec = {Diff[0]}, {Diff[1]} arcseconds\")\n",
    "DMSkyLocation = SkyCoord(DM_center.getRa().asDegrees() * u.deg, DM_center.getDec().asDegrees() * u.deg)\n",
    "DMObsAltAz = DMSkyLocation.transform_to(altAz)\n",
    "DMaz = DMObsAltAz.az.deg\n",
    "DMaz = DMaz%360\n",
    "DMel = DMObsAltAz.alt.deg\n",
    "AnetSkyLocation = SkyCoord(Anet_RA_Dec[0] * u.deg, Anet_RA_Dec[1] * u.deg)\n",
    "AnetObsAltAz = AnetSkyLocation.transform_to(altAz)\n",
    "Anetaz = AnetObsAltAz.az.deg\n",
    "Anetaz = Anetaz%360 \n",
    "Anetel = AnetObsAltAz.alt.deg\n",
    "#print(DMaz, DMel)\n",
    "#print(Anetaz, Anetel)\n",
    "deltaAz = geom.Angle.separation(geom.Angle(DMaz, geom.degrees), geom.Angle(Anetaz, geom.degrees))\n",
    "deltaEl = geom.Angle.separation(geom.Angle(DMel, geom.degrees), geom.Angle(Anetel, geom.degrees))\n",
    "print(dataId)\n",
    "print(f\"Az = {DMaz}, El = {DMel}\")\n",
    "print(f\"Difference center pix Az/El = {deltaAz.asArcseconds()}, {deltaEl.asArcseconds()} arcseconds\")\n"
   ]
  },
  {
   "cell_type": "code",
   "execution_count": null,
   "metadata": {
    "execution": {
     "iopub.execute_input": "2024-05-31T10:56:03.641834Z",
     "iopub.status.busy": "2024-05-31T10:56:03.641454Z",
     "iopub.status.idle": "2024-05-31T10:57:04.718470Z",
     "shell.execute_reply": "2024-05-31T10:57:04.717392Z",
     "shell.execute_reply.started": "2024-05-31T10:56:03.641804Z"
    }
   },
   "outputs": [],
   "source": [
    "Azs = []\n",
    "Els = []\n",
    "dAzs = []\n",
    "dEls = []\n",
    "\n",
    "#for seqNum in [323, 360, 362, 364, 372]:\n",
    "#    dataId = dict(day_obs=20240528, detector=0, seq_num=seqNum)\n",
    "for seqNum in [477, 506, 578]:\n",
    "    dataId = dict(day_obs=20240530, detector=0, seq_num=seqNum)\n",
    "    bestEffort.getExposure(dataId)\n",
    "    dataType = 'quickLookExp'\n",
    "    exp = butler.get(dataType, dataId)\n",
    "    mData = butler.get('raw.metadata', dataId=dataId)\n",
    "    results = runCharactierizeImage(exp, 5, 10)\n",
    "    sourceCat = results.sourceCat\n",
    "    filteredCat = filterSourceCatOnBrightest(results.sourceCat, 0.2, maxSources=100)\n",
    "    x = filteredCat.getColumnView().getX()\n",
    "    y = filteredCat.getColumnView().getY()\n",
    "    wcs = exp.getWcs()\n",
    "    image_width = int(mData['DETSIZE'].strip('[]').split(',')[0].split(':')[1])\n",
    "    image_height = int(mData['DETSIZE'].strip('[]').split(',')[1].split(':')[1])\n",
    "    scale_units = 'arcsecperpix'\n",
    "    scale_type='ev' # ev means submit estimate and % error\n",
    "    scale_est = wcs.getPixelScale().asArcseconds()\n",
    "    scale_err = 2.0\n",
    "    center_ra = mData['RA']\n",
    "    center_dec = mData['DEC']\n",
    "    radius = 0.5\n",
    "    print(seqNum, len(filteredCat))\n",
    "    wcs_anet = ast.solve_from_source_list(x, y, \n",
    "                                            image_width, image_height, scale_units=scale_units,\n",
    "                                            scale_type=scale_type, scale_est=scale_est, scale_err=scale_err,\n",
    "                                            center_ra=center_ra, center_dec=center_dec, radius=radius,\n",
    "                                            crpix_center=True, solve_timeout=240)\n",
    "    print(seqNum, wcs_anet['CRVAL1'])\n",
    "    time = Time((Time(mData[\"DATE-BEG\"], scale='tai').unix_tai + Time(mData[\"DATE-END\"], scale='tai').unix_tai)/2.0, format='unix_tai', scale='tai')\n",
    "    altAz = AltAz(obstime=time, location=AUXTEL_LOCATION)\n",
    "    DM_center = wcs.pixelToSky(wcs_anet['CRPIX1'], wcs_anet['CRPIX2'])\n",
    "    DM_RA_Dec = (DM_center.getRa().asDegrees(), DM_center.getDec().asDegrees())\n",
    "    print(f\"Header center pix RA/Dec = {DM_RA_Dec[0]}, {DM_RA_Dec[1]} degrees\")\n",
    "    Anet_RA_Dec = (wcs_anet['CRVAL1'], wcs_anet['CRVAL2'])\n",
    "    print(f\"Astrometry.net center pix RA/Dec = {Anet_RA_Dec[0]}, {Anet_RA_Dec[1]} degrees\")\n",
    "    Diff = ((DM_RA_Dec[0] - Anet_RA_Dec[0]) * 3600.0, (DM_RA_Dec[1] - Anet_RA_Dec[1]) * 3600.0)\n",
    "    print(f\"Difference center pix RA/Dec = {Diff[0]}, {Diff[1]} arcseconds\")\n",
    "    DMSkyLocation = SkyCoord(DM_center.getRa().asDegrees() * u.deg, DM_center.getDec().asDegrees() * u.deg)\n",
    "    DMObsAltAz = DMSkyLocation.transform_to(altAz)\n",
    "    DMaz = DMObsAltAz.az.deg\n",
    "    DMaz = DMaz%360\n",
    "    DMel = DMObsAltAz.alt.deg\n",
    "    AnetSkyLocation = SkyCoord(Anet_RA_Dec[0] * u.deg, Anet_RA_Dec[1] * u.deg)\n",
    "    AnetObsAltAz = AnetSkyLocation.transform_to(altAz)\n",
    "    Anetaz = AnetObsAltAz.az.deg\n",
    "    Anetaz = Anetaz%360 \n",
    "    Anetel = AnetObsAltAz.alt.deg\n",
    "    #print(DMaz, DMel)\n",
    "    #print(Anetaz, Anetel)\n",
    "    deltaAz = geom.Angle.separation(geom.Angle(DMaz, geom.degrees), geom.Angle(Anetaz, geom.degrees))\n",
    "    deltaEl = geom.Angle.separation(geom.Angle(DMel, geom.degrees), geom.Angle(Anetel, geom.degrees))\n",
    "    print(dataId)\n",
    "    print(f\"Az = {DMaz}, El = {DMel}\")\n",
    "    print(f\"Difference center pix Az/El = {deltaAz.asArcseconds()}, {deltaEl.asArcseconds()} arcseconds\")\n",
    "    Azs.append(DMaz)\n",
    "    Els.append(DMel)\n",
    "    dAzs.append(deltaAz.asArcseconds())\n",
    "    dEls.append(deltaEl.asArcseconds())"
   ]
  },
  {
   "cell_type": "code",
   "execution_count": null,
   "metadata": {},
   "outputs": [],
   "source": [
    "fig, axs = plt.subplots(2,2,figsize=(10,10))\n",
    "plt.suptitle(f\"AuxTel Pointing errors from Astrometry.net, {dataId['day_obs']}\", fontsize=18)\n",
    "axs[0][0].scatter(Azs, dAzs)\n",
    "axs[0][0].set_xlabel(\"Azimuth(degrees)\")\n",
    "axs[0][0].set_ylabel(\"DeltaAz (arcseconds)\")\n",
    "axs[0][0].set_ylim(-200, 1500)\n",
    "axs[0][1].scatter(Azs, dEls)\n",
    "axs[0][1].set_xlabel(\"Azimuth(degrees)\")\n",
    "axs[0][1].set_ylabel(\"DeltaAEl (arcseconds)\")\n",
    "axs[0][1].set_ylim(-200, 1500)\n",
    "axs[1][0].scatter(Els, dAzs)\n",
    "axs[1][0].set_xlabel(\"Elevation(degrees)\")\n",
    "axs[1][0].set_ylabel(\"DeltaAz (arcseconds)\")\n",
    "axs[1][0].set_ylim(-200, 1500)\n",
    "axs[1][1].scatter(Els, dEls)\n",
    "axs[1][1].set_xlabel(\"Elevation(degrees)\")\n",
    "axs[1][1].set_ylabel(\"DeltaAEl (arcseconds)\")\n",
    "axs[1][1].set_ylim(-200, 1500)\n",
    "plt.savefig(f\"/home/cslage/DATA/AuxTel_Pointing_Errors_{dataId['day_obs']}.png\")"
   ]
  },
  {
   "cell_type": "code",
   "execution_count": null,
   "metadata": {},
   "outputs": [],
   "source": [
    "from scipy.optimize import minimize"
   ]
  },
  {
   "cell_type": "code",
   "execution_count": null,
   "metadata": {},
   "outputs": [],
   "source": [
    "def func(params, args):\n",
    "    # Determines best shift to match up applied and measured forces\n",
    "    [Azs, Els, ds] = args\n",
    "    [a1, a2, a3] = params\n",
    "    diff = 0.0\n",
    "    for i in range(len(Azs)):\n",
    "        model = a1 * Azs[i] + a2 * Els[i] + a3\n",
    "        diff += (model - ds[i])**2\n",
    "    return diff\n"
   ]
  },
  {
   "cell_type": "code",
   "execution_count": null,
   "metadata": {},
   "outputs": [],
   "source": [
    "args = [Azs, Els, dAzs]\n",
    "param0 = [5.0, 5.0, 100.0]\n",
    "        \n",
    "bestFit = minimize(func, param0, args=args, method='Powell')\n",
    "bestFit.x"
   ]
  },
  {
   "cell_type": "code",
   "execution_count": null,
   "metadata": {},
   "outputs": [],
   "source": [
    "model = bestFit.x[0] * np.array(Azs) +  bestFit.x[1] * np.array(Els) +  bestFit.x[2]"
   ]
  },
  {
   "cell_type": "code",
   "execution_count": null,
   "metadata": {},
   "outputs": [],
   "source": [
    "%matplotlib inline\n",
    "plt.scatter(model, dAzs)\n"
   ]
  },
  {
   "cell_type": "code",
   "execution_count": null,
   "metadata": {},
   "outputs": [],
   "source": [
    "from mpl_toolkits.mplot3d import Axes3D\n",
    "\n",
    "x = np.linspace(0, 360.0, 100)\n",
    "y = np.linspace(50, 80, 100)\n",
    "# create x,y\n",
    "xx, yy = np.meshgrid(x,y)\n",
    "\n",
    "# calculate corresponding z\n",
    "z = bestFit.x[0] * xx +  bestFit.x[1] * yy +  bestFit.x[2]\n",
    "\n",
    "fig = plt.figure() \n",
    "ax = fig.add_subplot(111, projection='3d') \n",
    "ax.view_init(elev=10., azim=90)\n",
    "ax.scatter(Azs, Els, dEls,  color='green', marker = 'o', s=200) \n",
    "ax.plot_surface(xx, yy, z, color='red', alpha=0.5) \n",
    "ax.set_xlabel('Azimuth') \n",
    "ax.set_ylabel('Elevation') \n",
    "ax.set_zlabel('Azimuth Error') \n",
    "plt.show()\n",
    "\n",
    "\n"
   ]
  },
  {
   "cell_type": "code",
   "execution_count": null,
   "metadata": {},
   "outputs": [],
   "source": []
  }
 ],
 "metadata": {
  "kernelspec": {
   "display_name": "LSST",
   "language": "python",
   "name": "lsst"
  },
  "language_info": {
   "codemirror_mode": {
    "name": "ipython",
    "version": 3
   },
   "file_extension": ".py",
   "mimetype": "text/x-python",
   "name": "python",
   "nbconvert_exporter": "python",
   "pygments_lexer": "ipython3",
   "version": "3.11.9"
  }
 },
 "nbformat": 4,
 "nbformat_minor": 4
}
