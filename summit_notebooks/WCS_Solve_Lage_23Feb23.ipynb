{
 "cells": [
  {
   "cell_type": "markdown",
   "metadata": {},
   "source": [
    "## StarTracker WCS solutions - 30-Jan-23\n",
    "\n",
    "Craig Lage - Reworked to work iwth the new summit_utils code"
   ]
  },
  {
   "cell_type": "code",
   "execution_count": null,
   "metadata": {
    "execution": {
     "iopub.execute_input": "2023-02-28T00:32:19.954104Z",
     "iopub.status.busy": "2023-02-28T00:32:19.953735Z",
     "iopub.status.idle": "2023-02-28T00:32:22.287329Z",
     "shell.execute_reply": "2023-02-28T00:32:22.286620Z",
     "shell.execute_reply.started": "2023-02-28T00:32:19.954086Z"
    },
    "tags": []
   },
   "outputs": [],
   "source": [
    "import sys, time, os, asyncio, glob\n",
    "from datetime import datetime\n",
    "import numpy as np\n",
    "import matplotlib.pyplot as plt\n",
    "import astropy.io.fits as pf\n",
    "from astropy.time import Time, TimeDelta\n",
    "from astropy.coordinates import AltAz, ICRS, EarthLocation, Angle, FK5, SkyCoord\n",
    "import astropy.units as u\n",
    "from lsst.obs.lsst.translators.latiss import AUXTEL_LOCATION\n",
    "from lsst.obs.lsst.translators.lsst import SIMONYI_LOCATION\n",
    "\n",
    "import lsst.afw.image as afwImage\n",
    "from lsst.summit.utils.utils import starTrackerFileToExposure\n",
    "from lsst.summit.utils.astrometry.anet import CommandLineSolver\n",
    "from lsst.summit.utils.astrometry.utils import runCharactierizeImage, filterSourceCatOnBrightest"
   ]
  },
  {
   "cell_type": "code",
   "execution_count": null,
   "metadata": {
    "execution": {
     "iopub.execute_input": "2023-02-28T00:32:23.354942Z",
     "iopub.status.busy": "2023-02-28T00:32:23.354570Z",
     "iopub.status.idle": "2023-02-28T00:32:23.360915Z",
     "shell.execute_reply": "2023-02-28T00:32:23.360540Z",
     "shell.execute_reply.started": "2023-02-28T00:32:23.354925Z"
    },
    "tags": []
   },
   "outputs": [],
   "source": [
    "solver = CommandLineSolver('/project/shared/ref_cats/astrometry_net/')"
   ]
  },
  {
   "cell_type": "code",
   "execution_count": null,
   "metadata": {
    "execution": {
     "iopub.execute_input": "2023-02-28T00:33:25.015558Z",
     "iopub.status.busy": "2023-02-28T00:33:25.015154Z",
     "iopub.status.idle": "2023-02-28T00:34:02.820992Z",
     "shell.execute_reply": "2023-02-28T00:34:02.820311Z",
     "shell.execute_reply.started": "2023-02-28T00:33:25.015536Z"
    },
    "tags": []
   },
   "outputs": [],
   "source": [
    "cameras = [['Wide', 101], ['Narrow', 102]]\n",
    "dates = [20230227]\n",
    "for [camera, num] in cameras:\n",
    "    for date in dates:\n",
    "        year = int(date/10000)\n",
    "        month = int((date - 10000 * year)/100)\n",
    "        day = int((date - 10000 * year - 100 * month))\n",
    "        path = f\"/project/GenericCamera/{num}/{year}/{month:02}/{day:02}/\"\n",
    "        outfile = open(f\"/scratch/cslage/starTracker/StarTracker_Summary_Boresight_{camera}_{date}.txt\", \"w\")\n",
    "        outfile.write(\"SeqNum\\tRA(header)\\tDec(header)\\tEl(header)\\tAz(header)\\tRA(Solve)\\tDec(Solve)\\tDeltaRA\\tDeltaDec\\tEl(solve)\\tAz(solve)\\tDeltaEl\\tDeltaAz\\tRot\\tRMS(asec)\\n\")\n",
    "        for seqNum in range(7):\n",
    "            try:    \n",
    "                filename = path + f\"GC{num}_O_{date}_{seqNum:06}.fits\"\n",
    "                exp = starTrackerFileToExposure(filename)\n",
    "                results = runCharactierizeImage(exp, 5, 25)\n",
    "                filteredCat = filterSourceCatOnBrightest(results.sourceCat, 0.2)\n",
    "                solverResults = solver.run(exp, filteredCat, isWideField=True)\n",
    "                newWcs = solverResults.wcs\n",
    "                rms_error = solverResults.rmsErrorArsec\n",
    "                raSolve = newWcs.getSkyOrigin().getRa().asDegrees()\n",
    "                decSolve = newWcs.getSkyOrigin().getDec().asDegrees()\n",
    "\n",
    "            except:\n",
    "                print(f\"{camera}, {date}_{seqNum} Failed!\")\n",
    "                continue\n",
    "            hdulist = pf.open(filename)\n",
    "            header = hdulist[0].header\n",
    "            raStart = header[\"RASTART\"]\n",
    "            decStart = header[\"DECSTART\"]\n",
    "            azHdr = (header[\"AZSTART\"] + header[\"AZEND\"]) / 2.0\n",
    "            azHdr = azHdr % 360\n",
    "            elHdr = (header[\"ELSTART\"] + header[\"ELEND\"]) / 2.0\n",
    "            rotpa = header[\"ROTPA\"]\n",
    "            rot = newWcs.getRelativeRotationToWcs(exp.getWcs()).asDegrees()\n",
    "            #time = Time(header[\"DATE-OBS\"], scale='tai')\n",
    "            time = Time((Time(header[\"DATE-BEG\"], scale='tai').unix_tai + Time(header[\"DATE-END\"], scale='tai').unix_tai)/2.0, format='unix_tai', scale='tai')\n",
    "            altAz = AltAz(obstime=time, location=SIMONYI_LOCATION)\n",
    "            skyLocation = SkyCoord(raSolve * u.deg, decSolve * u.deg)\n",
    "            obsAltAz = skyLocation.transform_to(altAz)\n",
    "            az = obsAltAz.az.deg\n",
    "            az = az % 360\n",
    "            el = obsAltAz.alt.deg\n",
    "            deltaAz = (azHdr - az)*3600\n",
    "            deltaEl = (elHdr - el)*3600\n",
    "            deltaRA = (raStart - raSolve)*3600\n",
    "            deltaDec = (decStart - decSolve)*3600\n",
    "            print(f\"{camera}, {date}_{seqNum}, {deltaAz:.5f}, {deltaEl:.5f}\")\n",
    "            outfile.write(f\"{seqNum}\\t{raStart:.5f}\\t{decStart:.5f}\\t{elHdr:.5f}\\t{azHdr:.5f}\\t{raSolve:.5f}\\t{decSolve:.5f}\\t{deltaRA:.5f}\\t{deltaDec:.5f}\\t{el:.5f}\\t{az:.5f}\\t{deltaEl:.5f}\\t{deltaAz:.5f}\\t{rot:.5f}\\t{rms_error:.5f}\\n\")\n",
    "        outfile.close()\n",
    "    "
   ]
  },
  {
   "cell_type": "code",
   "execution_count": null,
   "metadata": {},
   "outputs": [],
   "source": []
  }
 ],
 "metadata": {
  "kernelspec": {
   "display_name": "LSST",
   "language": "python",
   "name": "lsst"
  },
  "language_info": {
   "codemirror_mode": {
    "name": "ipython",
    "version": 3
   },
   "file_extension": ".py",
   "mimetype": "text/x-python",
   "name": "python",
   "nbconvert_exporter": "python",
   "pygments_lexer": "ipython3",
   "version": "3.11.7"
  }
 },
 "nbformat": 4,
 "nbformat_minor": 4
}
