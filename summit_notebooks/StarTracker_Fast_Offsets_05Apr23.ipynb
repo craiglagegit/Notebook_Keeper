{
 "cells": [
  {
   "cell_type": "markdown",
   "metadata": {},
   "source": [
    "## StarTracker Narrow to Fast Camera offsets\n",
    "\n",
    "Craig Lage - 05-Apr-23"
   ]
  },
  {
   "cell_type": "code",
   "execution_count": null,
   "metadata": {
    "execution": {
     "iopub.execute_input": "2023-04-05T16:00:30.412652Z",
     "iopub.status.busy": "2023-04-05T16:00:30.412369Z",
     "iopub.status.idle": "2023-04-05T16:00:32.709405Z",
     "shell.execute_reply": "2023-04-05T16:00:32.708807Z",
     "shell.execute_reply.started": "2023-04-05T16:00:30.412634Z"
    },
    "tags": []
   },
   "outputs": [],
   "source": [
    "import sys, time, os, asyncio, glob\n",
    "from datetime import datetime\n",
    "import numpy as np\n",
    "from scipy.ndimage import median_filter\n",
    "import matplotlib.pyplot as plt\n",
    "import astropy.io.fits as pf\n",
    "import pandas as pd\n",
    "from astropy.time import Time, TimeDelta\n",
    "from astropy.coordinates import AltAz, ICRS, EarthLocation, Angle, FK5, SkyCoord\n",
    "import astropy.units as u\n",
    "from lsst.obs.lsst.translators.latiss import AUXTEL_LOCATION\n",
    "from lsst.obs.lsst.translators.lsst import SIMONYI_LOCATION\n",
    "from lsst.geom import Point2D, SpherePoint, Angle, AngleUnit\n",
    "\n",
    "import lsst.afw.image as afwImage\n",
    "from lsst.geom import SpherePoint\n",
    "from lsst.geom import Angle as afwAngle\n",
    "from astroquery.simbad import Simbad\n",
    "\n",
    "import lsst.afw.image as afwImage\n",
    "from lsst.summit.utils.utils import starTrackerFileToExposure\n",
    "from lsst.summit.utils.astrometry.anet import CommandLineSolver\n",
    "from lsst.summit.utils.astrometry.utils import runCharactierizeImage, filterSourceCatOnBrightest\n",
    "from lsst.pipe.tasks.characterizeImage import CharacterizeImageTask, CharacterizeImageConfig"
   ]
  },
  {
   "cell_type": "code",
   "execution_count": null,
   "metadata": {
    "execution": {
     "iopub.execute_input": "2023-04-05T16:00:39.494504Z",
     "iopub.status.busy": "2023-04-05T16:00:39.494151Z",
     "iopub.status.idle": "2023-04-05T16:00:39.497906Z",
     "shell.execute_reply": "2023-04-05T16:00:39.497440Z",
     "shell.execute_reply.started": "2023-04-05T16:00:39.494486Z"
    },
    "tags": []
   },
   "outputs": [],
   "source": [
    "solver = CommandLineSolver('/project/shared/ref_cats/astrometry_net/')"
   ]
  },
  {
   "cell_type": "markdown",
   "metadata": {
    "execution": {
     "iopub.execute_input": "2023-03-20T17:06:53.537246Z",
     "iopub.status.busy": "2023-03-20T17:06:53.536874Z",
     "iopub.status.idle": "2023-03-20T17:06:53.541698Z",
     "shell.execute_reply": "2023-03-20T17:06:53.541073Z",
     "shell.execute_reply.started": "2023-03-20T17:06:53.537228Z"
    },
    "tags": []
   },
   "source": [
    "# First, calculate the offsets by reading the astrometry solutions from 2023-03-21"
   ]
  },
  {
   "cell_type": "code",
   "execution_count": null,
   "metadata": {
    "execution": {
     "iopub.execute_input": "2023-04-05T17:38:51.328475Z",
     "iopub.status.busy": "2023-04-05T17:38:51.328078Z",
     "iopub.status.idle": "2023-04-05T17:38:51.884953Z",
     "shell.execute_reply": "2023-04-05T17:38:51.884430Z",
     "shell.execute_reply.started": "2023-04-05T17:38:51.328458Z"
    },
    "tags": []
   },
   "outputs": [],
   "source": [
    "# Read the RubinTV JSON file\n",
    "filename = f'/scratch/cslage/starTracker/startracker_2023-03-21.json'\n",
    "df = pd.read_json(filename)\n",
    "df = df.transpose()\n",
    "df = df.dropna()\n",
    "\n",
    "# Calculate the AltAz offsets\n",
    "deltaAlts = []\n",
    "deltaAzCosAlts = []\n",
    "for seqNum in df.index.values.tolist():\n",
    "    row = df.loc[seqNum]\n",
    "    deltaAz = (row['Calculated Az fast'] - row['Calculated Az']) * 3600.0\n",
    "    # To get the actual offset on the sky, we need to multiply by cos(alt)\n",
    "    deltaAzCosAlt = deltaAz * np.cos(row['Calculated Alt'] * np.pi / 180.0)\n",
    "    deltaAlt = (row['Calculated Alt fast'] - row['Calculated Alt']) * 3600.0\n",
    "    deltaAlts.append(deltaAlt)\n",
    "    deltaAzCosAlts.append(deltaAzCosAlt)\n",
    "    delta = np.sqrt(deltaAlt**2 + deltaAzCosAlt**2)\n",
    "    #print(seqNum, deltaAlt, deltaAzCosAlt, delta)\n",
    "median_offset = [np.median(deltaAlts), np.median(deltaAzCosAlts)]\n",
    "# Now plot it\n",
    "%matplotlib inline\n",
    "plt.subplot(1,2,1)\n",
    "plt.title(\"deltaAlts\")\n",
    "plt.hist(deltaAlts)\n",
    "plt.text(-150,70,f\"Median={median_offset[0]:.1f}\")\n",
    "plt.xlim(-600, 600)\n",
    "plt.xlabel(\"Fast-Narrow deltaAlt(arcseconds)\")\n",
    "plt.subplot(1,2,2)\n",
    "plt.title(\"deltaAzCosAlts\")\n",
    "plt.hist(deltaAzCosAlts)\n",
    "plt.text(-150,70,f\"Median={median_offset[1]:.1f}\")\n",
    "plt.xlim(-600, 600)\n",
    "plt.xlabel(\"Fast-Narrow deltaAzCosAlt(arcseconds)\")\n",
    "plt.savefig(f'/home/craiglagegit/DATA/Fast_Camera_Offset_20230321.png')"
   ]
  },
  {
   "cell_type": "markdown",
   "metadata": {},
   "source": [
    "## Now look at a representative image and plot the offsets as a check"
   ]
  },
  {
   "cell_type": "markdown",
   "metadata": {},
   "source": [
    "### First solve the narrow image"
   ]
  },
  {
   "cell_type": "code",
   "execution_count": null,
   "metadata": {
    "execution": {
     "iopub.execute_input": "2023-04-05T17:50:52.419059Z",
     "iopub.status.busy": "2023-04-05T17:50:52.418774Z",
     "iopub.status.idle": "2023-04-05T17:50:56.742894Z",
     "shell.execute_reply": "2023-04-05T17:50:56.742303Z",
     "shell.execute_reply.started": "2023-04-05T17:50:52.419042Z"
    },
    "tags": []
   },
   "outputs": [],
   "source": [
    "cameras = [['Narrow', 102]]\n",
    "dates = [20230321]\n",
    "seqNum = 1254\n",
    "for [camera, num] in cameras:\n",
    "    for date in dates:\n",
    "        year = int(date/10000)\n",
    "        month = int((date - 10000 * year)/100)\n",
    "        day = int((date - 10000 * year - 100 * month))\n",
    "        path = f\"/project/GenericCamera/{num}/{year}/{month:02}/{day:02}/\"\n",
    "        filename = path + f\"GC{num}_O_{date}_{seqNum:06}.fits\"\n",
    "        narrow_exp = starTrackerFileToExposure(filename)\n",
    "        results = runCharactierizeImage(narrow_exp, 5, 25)\n",
    "        filteredCat = filterSourceCatOnBrightest(results.sourceCat, 0.2, maxSources=100)\n",
    "        # Need to loosen percentageScaleError because header SECPIX is wrong\n",
    "        solverResults = solver.run(narrow_exp, filteredCat, percentageScaleError=60.0, isWideField=True)\n",
    "narrow_wcs = solverResults.wcs"
   ]
  },
  {
   "cell_type": "markdown",
   "metadata": {},
   "source": [
    "### Next solve the fast image"
   ]
  },
  {
   "cell_type": "code",
   "execution_count": null,
   "metadata": {
    "execution": {
     "iopub.execute_input": "2023-04-05T16:10:00.256686Z",
     "iopub.status.busy": "2023-04-05T16:10:00.256401Z",
     "iopub.status.idle": "2023-04-05T16:10:00.262960Z",
     "shell.execute_reply": "2023-04-05T16:10:00.262597Z",
     "shell.execute_reply.started": "2023-04-05T16:10:00.256669Z"
    },
    "tags": []
   },
   "outputs": [],
   "source": [
    "# Code from Merlin Fisher-Levine to solve fast camera images\n",
    "def runCharactierizeImage(exp, snr, minPix):\n",
    "    \"\"\"Run the image characterization task, finding only bright sources.\n",
    "\n",
    "    Parameters\n",
    "    ----------\n",
    "    exp : `lsst.afw.image.Exposure`\n",
    "        The exposure to characterize.\n",
    "    snr : `float`\n",
    "        The SNR threshold for detection.\n",
    "    minPix : `int`\n",
    "        The minimum number of pixels to count as a source.\n",
    "\n",
    "    Returns\n",
    "    -------\n",
    "    result : `lsst.pipe.base.Struct`\n",
    "        The result from the image characterization task.\n",
    "    \"\"\"\n",
    "    charConfig = CharacterizeImageConfig()\n",
    "    charConfig.doMeasurePsf = False\n",
    "    charConfig.doApCorr = False\n",
    "    charConfig.doDeblend = False\n",
    "    charConfig.repair.doCosmicRay = False\n",
    "\n",
    "    charConfig.detection.minPixels = minPix\n",
    "    charConfig.detection.thresholdValue = snr\n",
    "    charConfig.detection.includeThresholdMultiplier = 1\n",
    "    charConfig.detection.nSigmaToGrow = 0\n",
    "\n",
    "    charConfig.psfIterations = 1\n",
    "    charConfig.installSimplePsf.fwhm = 5\n",
    "    charConfig.installSimplePsf.width = 51\n",
    "    \n",
    "    # fit background with the most simple thing possible as we don't need\n",
    "    # much sophistication here. weighting=False is *required* for very\n",
    "    # large binSizes.\n",
    "#     charConfig.background.algorithm = 'AKIMA'\n",
    "    charConfig.background.approxOrderX = 1\n",
    "    charConfig.background.approxOrderY = -1\n",
    "    charConfig.background.binSize = max(exp.getWidth(), exp.getHeight())\n",
    "    charConfig.background.weighting = False\n",
    "\n",
    "    # set this to use all the same minimal settings as those above\n",
    "    charConfig.detection.background = charConfig.background\n",
    "\n",
    "    charTask = CharacterizeImageTask(config=charConfig)\n",
    "\n",
    "    charResult = charTask.run(exp)\n",
    "    return charResult\n",
    "\n",
    "def solveFastCamera(filename, doPlot=False):\n",
    "    exp = starTrackerFileToExposure(filename)\n",
    "    exp.image.array = median_filter(exp.image.array, 2, mode='reflect')\n",
    "    result = runCharactierizeImage(exp, 5, 25)\n",
    "    sources = filterSourceCatOnBrightest(result.sourceCat, .5, minSources=5)\n",
    "    if doPlot:\n",
    "        plot(exp, sources, doSmooth=False)\n",
    "    result = solver.run(exp, sources, True, useGaia=True, percentageScaleError=10, radius=5)\n",
    "    if result is not None:\n",
    "        fastWcs = result.wcs\n",
    "        fastVisitInfo = exp.visitInfo\n",
    "    else:\n",
    "        print('fit failed')\n",
    "        return None\n",
    "    return fastWcs"
   ]
  },
  {
   "cell_type": "code",
   "execution_count": null,
   "metadata": {
    "execution": {
     "iopub.execute_input": "2023-04-05T17:51:00.149555Z",
     "iopub.status.busy": "2023-04-05T17:51:00.149178Z",
     "iopub.status.idle": "2023-04-05T17:51:02.347255Z",
     "shell.execute_reply": "2023-04-05T17:51:02.346654Z",
     "shell.execute_reply.started": "2023-04-05T17:51:00.149537Z"
    },
    "tags": []
   },
   "outputs": [],
   "source": [
    "#Enter which image you want to look at\n",
    "[camera, num] = ['Fast', 103]\n",
    "date = 20230321\n",
    "year = int(date/10000)\n",
    "month = int((date - 10000 * year)/100)\n",
    "day = int((date - 10000 * year - 100 * month))\n",
    "\n",
    "path = f\"/project/GenericCamera/{num}/{year}/{month:02}/{day:02}/\"\n",
    "print(path)\n",
    "filename = path + f\"GC{num}_O_{date}_{seqNum:06}.fits\"\n",
    "fast_exp = starTrackerFileToExposure(filename)\n",
    "result = solveFastCamera(filename, doPlot=False)\n",
    "fast_wcs = result\n",
    "\n",
    "# This is a back-up\n",
    "#from lsst.afw.geom import SkyWcs\n",
    "#fast_wcs = SkyWcs.readFits('/home/mfisherlevine/temp/fastCamFits/GC103_O_20230321_001160_wcs.fits')"
   ]
  },
  {
   "cell_type": "markdown",
   "metadata": {},
   "source": [
    "## Now plot and overlay the results to check the offsets"
   ]
  },
  {
   "cell_type": "code",
   "execution_count": null,
   "metadata": {
    "execution": {
     "iopub.execute_input": "2023-04-05T17:51:05.004526Z",
     "iopub.status.busy": "2023-04-05T17:51:05.004144Z",
     "iopub.status.idle": "2023-04-05T17:51:06.562044Z",
     "shell.execute_reply": "2023-04-05T17:51:06.561432Z",
     "shell.execute_reply.started": "2023-04-05T17:51:05.004508Z"
    },
    "tags": []
   },
   "outputs": [],
   "source": [
    "# Now plot the data with matplotlib\n",
    "%matplotlib inline\n",
    "from matplotlib.path import Path\n",
    "from matplotlib.patches import PathPatch\n",
    "def fast_corners(fast_wcs, narrow_wcs):\n",
    "    # This calculates where th fast camera is within the narrow camera image\n",
    "    scale_ratio = fast_wcs.getPixelScale().asArcseconds() / narrow_wcs.getPixelScale().asArcseconds()\n",
    "    theta = fast_wcs.getRelativeRotationToWcs(narrow_wcs).asRadians()\n",
    "    center = narrow_wcs.skyToPixel(fast_wcs.getSkyOrigin())\n",
    "    dx0 = fast_wcs.getPixelOrigin().x * scale_ratio\n",
    "    dy0 = fast_wcs.getPixelOrigin().y * scale_ratio\n",
    "    rot = np.array([[np.cos(theta), -np.sin(theta)], [np.sin(theta), np.cos(theta)]])\n",
    "    corners = []\n",
    "    for [i, j] in[[-1,-1],[-1,1],[1,1],[1,-1],[-1,-1]]:\n",
    "        d0 = np.array([i*dx0, j*dy0])\n",
    "        d = np.dot(rot, d0)\n",
    "        dx = d[0]; dy = d[1]\n",
    "        corners.append([center.x+dx, center.y+dy])   \n",
    "    return corners\n",
    "\n",
    "def alt_az_arrows(narrow_wcs, narrow_exp):\n",
    "    # This calculates the Alt Az directions\n",
    "    mData = narrow_exp.getInfo().getMetadata()\n",
    "    time = Time((Time(mData[\"DATE-BEG\"], scale='tai').unix_tai + Time(mData[\"DATE-END\"], scale='tai').unix_tai)/2.0, \\\n",
    "                format='unix_tai', scale='tai')\n",
    "    altAz = AltAz(obstime=time, location=SIMONYI_LOCATION)\n",
    "    center = np.array((int(narrow_exp.image.array.shape[1] / 2), int(narrow_exp.image.array.shape[0] / 2)))\n",
    "    center_raDec = narrow_wcs.pixelToSky(center[0], center[1])\n",
    "    skyLocation = SkyCoord(center_raDec.getRa().asDegrees() * u.deg, center_raDec.getDec().asDegrees() * u.deg)\n",
    "    obsAltAz = skyLocation.transform_to(altAz)\n",
    "    az = obsAltAz.az.deg\n",
    "    alt = obsAltAz.alt.deg\n",
    "    azPlus = az + 500.0 / 3600.0 / np.cos(obsAltAz.alt.rad) # add 500 arcseconds\n",
    "    altPlus = alt + 500.0 / 3600.0 # add 500 arcseconds\n",
    "    altAzPlus = SkyCoord(AltAz(alt=alt*u.deg, az=azPlus*u.deg, obstime=time, location=SIMONYI_LOCATION))\n",
    "    RaDecAzPlus = altAzPlus.transform_to(ICRS)\n",
    "    SpherePointAzPlus = SpherePoint(Angle(RaDecAzPlus.ra.rad), Angle(RaDecAzPlus.dec.rad))\n",
    "    azPlusPixels = narrow_wcs.skyToPixel(SpherePointAzPlus)\n",
    "    altPlusAz = SkyCoord(AltAz(alt=altPlus*u.deg, az=az*u.deg, obstime=time, location=SIMONYI_LOCATION))\n",
    "    RaDecAltPlus = altPlusAz.transform_to(ICRS)\n",
    "    SpherePointAltPlus = SpherePoint(Angle(RaDecAltPlus.ra.rad), Angle(RaDecAltPlus.dec.rad))\n",
    "    altPlusPixels = narrow_wcs.skyToPixel(SpherePointAltPlus)\n",
    "    azPlusArrowLength = np.array(azPlusPixels) - np.array(center)\n",
    "    altPlusArrowLength = np.array(altPlusPixels) - np.array(center)\n",
    "    print(az, alt)\n",
    "    print(mData[\"AZSTART\"], mData[\"ELSTART\"])\n",
    "    print(center, azPlusPixels, altPlusPixels)\n",
    "    return [center, azPlusArrowLength, altPlusArrowLength]\n",
    "\n",
    "def offset_arrow(narrow_wcs, narrow_exp, deltaAlt, deltaAz):\n",
    "    # This calculates the relative offset as a check\n",
    "    mData = narrow_exp.getInfo().getMetadata()\n",
    "    time = Time((Time(mData[\"DATE-BEG\"], scale='tai').unix_tai + Time(mData[\"DATE-END\"], scale='tai').unix_tai)/2.0, \\\n",
    "                format='unix_tai', scale='tai')\n",
    "    altAz = AltAz(obstime=time, location=SIMONYI_LOCATION)\n",
    "    #boresight = narrow_wcs.getPixelOrigin()\n",
    "    boresight_raDec = narrow_wcs.pixelToSky(boresight.x, boresight.y)\n",
    "    boresight_raDec = narrow_wcs.getSkyOrigin()\n",
    "    skyLocation = SkyCoord(boresight_raDec.getRa().asDegrees() * u.deg, boresight_raDec.getDec().asDegrees() * u.deg)\n",
    "    obsAltAz = skyLocation.transform_to(altAz)\n",
    "    az = obsAltAz.az.deg\n",
    "    alt = obsAltAz.alt.deg\n",
    "    azPlus = az + deltaAz / 3600.0 / np.cos(obsAltAz.alt.rad)\n",
    "    altPlus = alt + deltaAlt / 3600.0\n",
    "    altAzPlus = SkyCoord(AltAz(alt=altPlus*u.deg, az=azPlus*u.deg, obstime=time, location=SIMONYI_LOCATION))\n",
    "    RaDecAltAzPlus = altAzPlus.transform_to(ICRS)\n",
    "    SpherePointAltAzPlus = SpherePoint(Angle(RaDecAltAzPlus.ra.rad), Angle(RaDecAltAzPlus.dec.rad))\n",
    "    altAzPlusPixels = narrow_wcs.skyToPixel(SpherePointAltAzPlus)\n",
    "    altAzPlusArrowLength = np.array(altAzPlusPixels) - np.array(boresight)\n",
    "    return [boresight, altAzPlusArrowLength]\n",
    "\n",
    "\n",
    "fig, ax = plt.subplots(figsize=(16,16))\n",
    "ax.set_title(f\"StarTracker Narrow and Fast, SeqNum {seqNum}\")\n",
    "ax.imshow(narrow_exp.image.array,  interpolation='Nearest', cmap='gray', vmin=0.1, vmax=1, origin='lower')\n",
    "narrow_boresight = narrow_wcs.getPixelOrigin()\n",
    "ax.scatter(narrow_boresight.x, narrow_boresight.y, \\\n",
    "            facecolors='cyan', edgecolors='cyan', marker='X', s=200, lw=1)\n",
    "ax.text(narrow_boresight.x+50, narrow_boresight.y-10, \"Boresight\", color='cyan', fontsize=18)\n",
    "[center, azPlusArrowLength, altPlusArrowLength] = alt_az_arrows(narrow_wcs, narrow_exp)\n",
    "ax.arrow(center[0], center[1], azPlusArrowLength[0], azPlusArrowLength[1], color='lightgreen', \\\n",
    "        head_width=50, head_length=100, lw = 2)\n",
    "ax.text(center[0] + azPlusArrowLength[0]+50, center[1] + azPlusArrowLength[1]-100, \\\n",
    "        'Plus AzCosAlt\\n500\"', color='lightgreen', fontsize=18)\n",
    "ax.arrow(center[0], center[1], altPlusArrowLength[0], altPlusArrowLength[1], color='lightgreen', \\\n",
    "        head_width=50, head_length=100, lw = 2)\n",
    "ax.text(center[0] + altPlusArrowLength[0]+100, center[1] + altPlusArrowLength[1], \\\n",
    "        'Plus Alt\\n500\"', color='lightgreen', fontsize=18)\n",
    "\n",
    "\n",
    "path = Path(fast_corners(fast_wcs, narrow_wcs))\n",
    "patch = PathPatch(path, facecolor='none', edgecolor='lightblue')\n",
    "ax.add_patch(patch)\n",
    "im = plt.imshow(fast_exp.image.array,  interpolation='Nearest', cmap='gray', vmin=1, vmax=1000, origin='lower', \\\n",
    "               extent=[0,narrow_exp.image.array.shape[1],0,narrow_exp.image.array.shape[0]], clip_path=patch, clip_on=True, alpha=0.5)\n",
    "fast_center = narrow_wcs.skyToPixel(fast_wcs.getSkyOrigin())\n",
    "ax.scatter(fast_center.x, fast_center.y, \\\n",
    "                    facecolors='lightblue', edgecolors='lightblue', marker='X', s=200, lw=1)\n",
    "ax.text(fast_center.x+150, fast_center.y, \"Fast Camera\", color='lightblue', fontsize=18)\n",
    "im.set_clip_path(patch)\n",
    "\n",
    "[boresight, altAzPlusArrowLength] = offset_arrow(narrow_wcs, narrow_exp, median_offset[0], median_offset[1])\n",
    "ax.arrow(boresight.x, boresight.y, altAzPlusArrowLength[0], altAzPlusArrowLength[1], color='pink', \\\n",
    "        head_width=10, head_length=20, lw = 2)\n",
    "ax.text(boresight.x-700, boresight.y-400, \\\n",
    "        f\"Median offset\\nAlt = {median_offset[0]:.1f}\\nAzCosAlt = {median_offset[1]:.1f}\\nPixelX = {fast_center.x-boresight.x:.0f}\\nPixelY = {fast_center.y-boresight.y:.0f}\", \\\n",
    "        color='pink', fontsize=18)\n",
    "\n",
    "print(f\"Pixel_offsets = ({fast_center.x-boresight.x}, {fast_center.y-boresight.y})\")\n",
    "\n",
    "plt.savefig(f\"/home/craiglagegit/DATA/StarTracker_Fast_Offset_{date}_{seqNum}.pdf\")"
   ]
  },
  {
   "cell_type": "code",
   "execution_count": null,
   "metadata": {},
   "outputs": [],
   "source": []
  }
 ],
 "metadata": {
  "kernelspec": {
   "display_name": "LSST",
   "language": "python",
   "name": "lsst"
  },
  "language_info": {
   "codemirror_mode": {
    "name": "ipython",
    "version": 3
   },
   "file_extension": ".py",
   "mimetype": "text/x-python",
   "name": "python",
   "nbconvert_exporter": "python",
   "pygments_lexer": "ipython3",
   "version": "3.10.9"
  }
 },
 "nbformat": 4,
 "nbformat_minor": 4
}
