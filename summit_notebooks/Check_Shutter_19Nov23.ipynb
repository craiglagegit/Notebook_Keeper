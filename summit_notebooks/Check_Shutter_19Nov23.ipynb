{
 "cells": [
  {
   "cell_type": "code",
   "execution_count": null,
   "metadata": {
    "execution": {
     "iopub.execute_input": "2023-11-17T10:05:30.124318Z",
     "iopub.status.busy": "2023-11-17T10:05:30.123704Z",
     "iopub.status.idle": "2023-11-17T10:05:30.788344Z",
     "shell.execute_reply": "2023-11-17T10:05:30.787885Z",
     "shell.execute_reply.started": "2023-11-17T10:05:30.124285Z"
    },
    "tags": []
   },
   "outputs": [],
   "source": [
    "import sys, time, os, asyncio, glob\n",
    "import numpy as np\n",
    "import pandas as pd\n",
    "import matplotlib.pyplot as plt\n",
    "from astropy.time import Time, TimeDelta\n",
    "from lsst_efd_client import EfdClient"
   ]
  },
  {
   "cell_type": "code",
   "execution_count": null,
   "metadata": {
    "execution": {
     "iopub.execute_input": "2023-11-17T10:05:31.484312Z",
     "iopub.status.busy": "2023-11-17T10:05:31.483957Z",
     "iopub.status.idle": "2023-11-17T10:05:32.843218Z",
     "shell.execute_reply": "2023-11-17T10:05:32.842709Z",
     "shell.execute_reply.started": "2023-11-17T10:05:31.484277Z"
    },
    "tags": []
   },
   "outputs": [],
   "source": [
    "client = EfdClient('summit_efd')"
   ]
  },
  {
   "cell_type": "code",
   "execution_count": null,
   "metadata": {
    "execution": {
     "iopub.execute_input": "2023-11-17T10:06:26.185589Z",
     "iopub.status.busy": "2023-11-17T10:06:26.185355Z",
     "iopub.status.idle": "2023-11-17T10:06:26.189438Z",
     "shell.execute_reply": "2023-11-17T10:06:26.189042Z",
     "shell.execute_reply.started": "2023-11-17T10:06:26.185572Z"
    },
    "tags": []
   },
   "outputs": [],
   "source": [
    "# Afternoon tests\n",
    "start = Time(\"2023-11-16T20:00:00Z\", scale='utc')\n",
    "end = Time(\"2023-11-17T10:00:00Z\", scale='utc')\n",
    "#start = Time(\"2023-07-05 22:20:00Z\", scale='utc')\n",
    "#end = Time(\"2023-07-05 22:35:00Z\", scale='utc')"
   ]
  },
  {
   "cell_type": "code",
   "execution_count": null,
   "metadata": {
    "execution": {
     "iopub.execute_input": "2023-11-17T10:06:27.185031Z",
     "iopub.status.busy": "2023-11-17T10:06:27.184528Z",
     "iopub.status.idle": "2023-11-17T10:06:28.273381Z",
     "shell.execute_reply": "2023-11-17T10:06:28.272710Z",
     "shell.execute_reply.started": "2023-11-17T10:06:27.185000Z"
    },
    "tags": []
   },
   "outputs": [],
   "source": [
    "\n",
    "state = await client.select_time_series('lsst.sal.ATDome.logevent_mainDoorState', \\\n",
    "                                            ['*'],  start, end)\n",
    "cmd = await client.select_time_series('lsst.sal.ATDome.logevent_mainDoorCommandedState', \\\n",
    "                                            ['*'],  start, end)\n",
    "az = await client.select_time_series('lsst.sal.ATDome.logevent_azimuthCommandedState', \\\n",
    "                                            ['*'],  start, end)\n",
    "shut = await client.select_time_series('lsst.sal.ATDome.position', \\\n",
    "                                            ['mainDoorOpeningPercentage'],  start, end)\n",
    "close_command = await client.select_time_series('lsst.sal.ATDome.command_closeShutter', \\\n",
    "                                            ['*'],  start, end)"
   ]
  },
  {
   "cell_type": "code",
   "execution_count": null,
   "metadata": {
    "execution": {
     "iopub.execute_input": "2023-11-17T10:06:28.365533Z",
     "iopub.status.busy": "2023-11-17T10:06:28.364979Z",
     "iopub.status.idle": "2023-11-17T10:06:28.369466Z",
     "shell.execute_reply": "2023-11-17T10:06:28.368801Z",
     "shell.execute_reply.started": "2023-11-17T10:06:28.365508Z"
    },
    "tags": []
   },
   "outputs": [],
   "source": [
    "print(len(state), len(cmd), len(shut), len(close_command))"
   ]
  },
  {
   "cell_type": "code",
   "execution_count": null,
   "metadata": {
    "execution": {
     "iopub.execute_input": "2023-11-17T10:06:29.419604Z",
     "iopub.status.busy": "2023-11-17T10:06:29.418893Z",
     "iopub.status.idle": "2023-11-17T10:06:31.895538Z",
     "shell.execute_reply": "2023-11-17T10:06:31.895074Z",
     "shell.execute_reply.started": "2023-11-17T10:06:29.419573Z"
    },
    "tags": []
   },
   "outputs": [],
   "source": [
    "fig, ax = plt.subplots(1,1, figsize=(15,5))\n",
    "state['state'].plot(ax=ax, color='blue', label='Actual State')\n",
    "#cmd['commandedState'].plot(ax=ax, color='magenta', ls='--', label='Commanded State')\n",
    "ax.set_yticks([1,2,3,4,5,6,7])\n",
    "ax.set_yticklabels(['Closed', 'Opened', 'Ajar', 'Opening', 'Closing','',''])\n",
    "ax.set_ylabel(\"Door State\")\n",
    "ax1 = ax.twinx()\n",
    "shut['mainDoorOpeningPercentage'].plot(ax=ax1, color='red', label='Shutter Open Percentage')\n",
    "ax1.set_ylabel(\"Open percentage\")\n",
    "ax1.set_ylim(0,115)\n",
    "for close in close_command.index:\n",
    "    ax1.axvline(close, ls='--', color='green', label='Close Command')\n",
    "ax.legend(loc='lower left')\n",
    "ax1.legend(loc='upper left')\n",
    "plt.savefig(f\"/home/craiglagegit/DATA/Shutter_State_16Nov23.png\")"
   ]
  },
  {
   "cell_type": "code",
   "execution_count": null,
   "metadata": {},
   "outputs": [],
   "source": []
  }
 ],
 "metadata": {
  "kernelspec": {
   "display_name": "LSST",
   "language": "python",
   "name": "lsst"
  },
  "language_info": {
   "codemirror_mode": {
    "name": "ipython",
    "version": 3
   },
   "file_extension": ".py",
   "mimetype": "text/x-python",
   "name": "python",
   "nbconvert_exporter": "python",
   "pygments_lexer": "ipython3",
   "version": "3.11.4"
  }
 },
 "nbformat": 4,
 "nbformat_minor": 4
}
