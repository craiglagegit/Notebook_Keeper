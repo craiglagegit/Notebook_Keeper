{
 "cells": [
  {
   "cell_type": "code",
   "execution_count": null,
   "metadata": {
    "execution": {
     "iopub.execute_input": "2023-11-16T12:24:23.293071Z",
     "iopub.status.busy": "2023-11-16T12:24:23.292239Z",
     "iopub.status.idle": "2023-11-16T12:24:23.296826Z",
     "shell.execute_reply": "2023-11-16T12:24:23.296235Z",
     "shell.execute_reply.started": "2023-11-16T12:24:23.293041Z"
    },
    "tags": []
   },
   "outputs": [],
   "source": [
    "import sys, time, os, asyncio, glob\n",
    "import numpy as np\n",
    "import pandas as pd\n",
    "import matplotlib.pyplot as plt\n",
    "from astropy.time import Time, TimeDelta\n",
    "from lsst_efd_client import EfdClient"
   ]
  },
  {
   "cell_type": "code",
   "execution_count": null,
   "metadata": {
    "execution": {
     "iopub.execute_input": "2023-11-14T18:38:20.097754Z",
     "iopub.status.busy": "2023-11-14T18:38:20.097416Z",
     "iopub.status.idle": "2023-11-14T18:38:21.370586Z",
     "shell.execute_reply": "2023-11-14T18:38:21.369561Z",
     "shell.execute_reply.started": "2023-11-14T18:38:20.097726Z"
    },
    "tags": []
   },
   "outputs": [],
   "source": [
    "client = EfdClient('summit_efd')"
   ]
  },
  {
   "cell_type": "code",
   "execution_count": null,
   "metadata": {
    "execution": {
     "iopub.execute_input": "2023-05-04T14:13:38.384413Z",
     "iopub.status.busy": "2023-05-04T14:13:38.384041Z",
     "iopub.status.idle": "2023-05-04T14:13:38.388195Z",
     "shell.execute_reply": "2023-05-04T14:13:38.387594Z",
     "shell.execute_reply.started": "2023-05-04T14:13:38.384396Z"
    },
    "tags": []
   },
   "outputs": [],
   "source": [
    "# Morning tests\n",
    "start = Time(\"2023-07-04 13:20:00Z\", scale='utc')\n",
    "end = Time(\"2023-05-04 14:15:00Z\", scale='utc')"
   ]
  },
  {
   "cell_type": "code",
   "execution_count": null,
   "metadata": {
    "execution": {
     "iopub.execute_input": "2023-05-04T14:13:39.638425Z",
     "iopub.status.busy": "2023-05-04T14:13:39.638045Z",
     "iopub.status.idle": "2023-05-04T14:13:39.700468Z",
     "shell.execute_reply": "2023-05-04T14:13:39.699848Z",
     "shell.execute_reply.started": "2023-05-04T14:13:39.638406Z"
    },
    "tags": []
   },
   "outputs": [],
   "source": [
    "state = await client.select_time_series('lsst.sal.ATDome.logevent_mainDoorState', \\\n",
    "                                            ['*'],  start, end)\n",
    "cmd = await client.select_time_series('lsst.sal.ATDome.logevent_mainDoorCommandedState', \\\n",
    "                                            ['*'],  start, end)"
   ]
  },
  {
   "cell_type": "code",
   "execution_count": null,
   "metadata": {
    "execution": {
     "iopub.execute_input": "2023-05-04T14:13:40.251046Z",
     "iopub.status.busy": "2023-05-04T14:13:40.250670Z",
     "iopub.status.idle": "2023-05-04T14:13:40.253996Z",
     "shell.execute_reply": "2023-05-04T14:13:40.253618Z",
     "shell.execute_reply.started": "2023-05-04T14:13:40.251028Z"
    },
    "tags": []
   },
   "outputs": [],
   "source": [
    "print(len(state), len(cmd))"
   ]
  },
  {
   "cell_type": "code",
   "execution_count": null,
   "metadata": {
    "execution": {
     "iopub.execute_input": "2023-05-04T19:03:15.246157Z",
     "iopub.status.busy": "2023-05-04T19:03:15.245880Z",
     "iopub.status.idle": "2023-05-04T19:03:15.550588Z",
     "shell.execute_reply": "2023-05-04T19:03:15.550113Z",
     "shell.execute_reply.started": "2023-05-04T19:03:15.246140Z"
    },
    "tags": []
   },
   "outputs": [],
   "source": [
    "fig, ax = plt.subplots(1,1, figsize=(15,5))\n",
    "state['state'].plot(ax=ax, color='blue', label='Actual State')\n",
    "ax.set_yticks([1,2,3,4,5])\n",
    "ax.set_yticklabels(['Closed', 'Opened', 'Ajar', 'Opening', 'Closing'])\n",
    "ax.set_ylabel(\"Door State\")\n",
    "ax1 = ax.twinx()\n",
    "cmd['commandedState'].plot(ax=ax1, color='red', label='Commanded State')\n",
    "ax1.set_yticks([2,3])\n",
    "ax1.set_yticklabels(['Closed', 'Opened'])\n",
    "ax1.set_ylabel(\"Commanded State\")\n",
    "ax.legend(loc='upper right')\n",
    "ax1.legend(loc='upper left')\n",
    "plt.savefig(f\"/home/craiglagegit/DATA/Shutter_Test_AM_04May23.png\")"
   ]
  },
  {
   "cell_type": "code",
   "execution_count": null,
   "metadata": {
    "execution": {
     "iopub.execute_input": "2023-05-04T19:35:13.507212Z",
     "iopub.status.busy": "2023-05-04T19:35:13.506945Z",
     "iopub.status.idle": "2023-05-04T19:35:13.510456Z",
     "shell.execute_reply": "2023-05-04T19:35:13.510036Z",
     "shell.execute_reply.started": "2023-05-04T19:35:13.507195Z"
    },
    "tags": []
   },
   "outputs": [],
   "source": [
    "# Afternoon tests\n",
    "start = Time(\"2023-05-04 17:25:00Z\", scale='utc')\n",
    "end = Time(\"2023-05-04 19:35:00Z\", scale='utc')"
   ]
  },
  {
   "cell_type": "code",
   "execution_count": null,
   "metadata": {
    "execution": {
     "iopub.execute_input": "2023-05-04T19:35:14.716472Z",
     "iopub.status.busy": "2023-05-04T19:35:14.716192Z",
     "iopub.status.idle": "2023-05-04T19:35:14.743286Z",
     "shell.execute_reply": "2023-05-04T19:35:14.742739Z",
     "shell.execute_reply.started": "2023-05-04T19:35:14.716455Z"
    },
    "tags": []
   },
   "outputs": [],
   "source": [
    "\n",
    "state = await client.select_time_series('lsst.sal.ATDome.logevent_mainDoorState', \\\n",
    "                                            ['*'],  start, end)\n",
    "cmd = await client.select_time_series('lsst.sal.ATDome.logevent_mainDoorCommandedState', \\\n",
    "                                            ['*'],  start, end)"
   ]
  },
  {
   "cell_type": "code",
   "execution_count": null,
   "metadata": {
    "execution": {
     "iopub.execute_input": "2023-05-04T19:35:15.346285Z",
     "iopub.status.busy": "2023-05-04T19:35:15.345570Z",
     "iopub.status.idle": "2023-05-04T19:35:15.349399Z",
     "shell.execute_reply": "2023-05-04T19:35:15.348890Z",
     "shell.execute_reply.started": "2023-05-04T19:35:15.346260Z"
    },
    "tags": []
   },
   "outputs": [],
   "source": [
    "print(len(state), len(cmd))"
   ]
  },
  {
   "cell_type": "code",
   "execution_count": null,
   "metadata": {
    "execution": {
     "iopub.execute_input": "2023-05-04T19:35:16.227870Z",
     "iopub.status.busy": "2023-05-04T19:35:16.227517Z",
     "iopub.status.idle": "2023-05-04T19:35:16.522969Z",
     "shell.execute_reply": "2023-05-04T19:35:16.522432Z",
     "shell.execute_reply.started": "2023-05-04T19:35:16.227852Z"
    },
    "tags": []
   },
   "outputs": [],
   "source": [
    "fig, ax = plt.subplots(1,1, figsize=(15,5))\n",
    "state['state'].plot(ax=ax, color='blue', label='Actual State')\n",
    "ax.set_yticks([1,2,3,4,5])\n",
    "ax.set_yticklabels(['Closed', 'Opened', 'Ajar', 'Opening', 'Closing'])\n",
    "ax.set_ylabel(\"Door State\")\n",
    "ax1 = ax.twinx()\n",
    "cmd['commandedState'].plot(ax=ax1, color='red', label='Commanded State')\n",
    "ax1.set_yticks([2,3])\n",
    "ax1.set_yticklabels(['Closed', 'Opened'])\n",
    "ax1.set_ylabel(\"Commanded State\")\n",
    "ax.legend(loc='upper right')\n",
    "ax1.legend(loc='upper left')\n",
    "plt.savefig(f\"/home/craiglagegit/DATA/Shutter_Test_PM_04May23.png\")"
   ]
  },
  {
   "cell_type": "code",
   "execution_count": null,
   "metadata": {
    "execution": {
     "iopub.execute_input": "2023-11-16T12:24:47.187358Z",
     "iopub.status.busy": "2023-11-16T12:24:47.187004Z",
     "iopub.status.idle": "2023-11-16T12:24:47.191181Z",
     "shell.execute_reply": "2023-11-16T12:24:47.190634Z",
     "shell.execute_reply.started": "2023-11-16T12:24:47.187343Z"
    },
    "tags": []
   },
   "outputs": [],
   "source": [
    "# Afternoon tests\n",
    "start = Time(\"2023-11-15T15:00:00Z\", scale='utc')\n",
    "end = Time(\"2023-11-16T10:00:00Z\", scale='utc')\n",
    "#start = Time(\"2023-07-05 22:20:00Z\", scale='utc')\n",
    "#end = Time(\"2023-07-05 22:35:00Z\", scale='utc')"
   ]
  },
  {
   "cell_type": "code",
   "execution_count": null,
   "metadata": {
    "execution": {
     "iopub.execute_input": "2023-11-16T12:24:48.624257Z",
     "iopub.status.busy": "2023-11-16T12:24:48.623941Z",
     "iopub.status.idle": "2023-11-16T12:24:49.774043Z",
     "shell.execute_reply": "2023-11-16T12:24:49.773409Z",
     "shell.execute_reply.started": "2023-11-16T12:24:48.624231Z"
    },
    "tags": []
   },
   "outputs": [],
   "source": [
    "\n",
    "state = await client.select_time_series('lsst.sal.ATDome.logevent_mainDoorState', \\\n",
    "                                            ['*'],  start, end)\n",
    "cmd = await client.select_time_series('lsst.sal.ATDome.logevent_mainDoorCommandedState', \\\n",
    "                                            ['*'],  start, end)\n",
    "az = await client.select_time_series('lsst.sal.ATDome.logevent_azimuthCommandedState', \\\n",
    "                                            ['*'],  start, end)\n",
    "shut = await client.select_time_series('lsst.sal.ATDome.position', \\\n",
    "                                            ['mainDoorOpeningPercentage'],  start, end)\n",
    "close_command = await client.select_time_series('lsst.sal.ATDome.command_closeShutter', \\\n",
    "                                            ['*'],  start, end)"
   ]
  },
  {
   "cell_type": "code",
   "execution_count": null,
   "metadata": {
    "execution": {
     "iopub.execute_input": "2023-11-16T12:24:50.135729Z",
     "iopub.status.busy": "2023-11-16T12:24:50.135449Z",
     "iopub.status.idle": "2023-11-16T12:24:50.139881Z",
     "shell.execute_reply": "2023-11-16T12:24:50.139233Z",
     "shell.execute_reply.started": "2023-11-16T12:24:50.135706Z"
    },
    "tags": []
   },
   "outputs": [],
   "source": [
    "print(len(state), len(cmd), len(shut), len(close_command))"
   ]
  },
  {
   "cell_type": "code",
   "execution_count": null,
   "metadata": {
    "execution": {
     "iopub.execute_input": "2023-11-16T12:24:51.182372Z",
     "iopub.status.busy": "2023-11-16T12:24:51.181929Z",
     "iopub.status.idle": "2023-11-16T12:24:51.186420Z",
     "shell.execute_reply": "2023-11-16T12:24:51.186037Z",
     "shell.execute_reply.started": "2023-11-16T12:24:51.182351Z"
    },
    "tags": []
   },
   "outputs": [],
   "source": [
    "close_command.index"
   ]
  },
  {
   "cell_type": "code",
   "execution_count": null,
   "metadata": {
    "execution": {
     "iopub.execute_input": "2023-11-16T12:24:58.842947Z",
     "iopub.status.busy": "2023-11-16T12:24:58.842024Z",
     "iopub.status.idle": "2023-11-16T12:25:01.648057Z",
     "shell.execute_reply": "2023-11-16T12:25:01.647448Z",
     "shell.execute_reply.started": "2023-11-16T12:24:58.842915Z"
    },
    "tags": []
   },
   "outputs": [],
   "source": [
    "fig, ax = plt.subplots(1,1, figsize=(15,5))\n",
    "state['state'].plot(ax=ax, color='blue', label='Actual State')\n",
    "#cmd['commandedState'].plot(ax=ax, color='magenta', ls='--', label='Commanded State')\n",
    "ax.set_yticks([1,2,3,4,5,6,7])\n",
    "ax.set_yticklabels(['Closed', 'Opened', 'Ajar', 'Opening', 'Closing','',''])\n",
    "ax.set_ylabel(\"Door State\")\n",
    "ax1 = ax.twinx()\n",
    "shut['mainDoorOpeningPercentage'].plot(ax=ax1, color='red', label='Shutter Open Percentage')\n",
    "ax1.set_ylabel(\"Open percentage\")\n",
    "ax1.set_ylim(0,115)\n",
    "for close in close_command.index:\n",
    "    ax1.axvline(close, ls='--', color='green', label='Close Command')\n",
    "ax.legend(loc='lower left')\n",
    "ax1.legend(loc='upper left')\n",
    "plt.savefig(f\"/home/craiglagegit/DATA/Shutter_State_15Nov23.png\")"
   ]
  },
  {
   "cell_type": "code",
   "execution_count": null,
   "metadata": {
    "execution": {
     "iopub.execute_input": "2023-07-06T01:17:04.089631Z",
     "iopub.status.busy": "2023-07-06T01:17:04.089346Z",
     "iopub.status.idle": "2023-07-06T01:17:04.098122Z",
     "shell.execute_reply": "2023-07-06T01:17:04.097750Z",
     "shell.execute_reply.started": "2023-07-06T01:17:04.089614Z"
    }
   },
   "outputs": [],
   "source": [
    "state"
   ]
  },
  {
   "cell_type": "code",
   "execution_count": null,
   "metadata": {},
   "outputs": [],
   "source": []
  }
 ],
 "metadata": {
  "kernelspec": {
   "display_name": "LSST",
   "language": "python",
   "name": "lsst"
  },
  "language_info": {
   "codemirror_mode": {
    "name": "ipython",
    "version": 3
   },
   "file_extension": ".py",
   "mimetype": "text/x-python",
   "name": "python",
   "nbconvert_exporter": "python",
   "pygments_lexer": "ipython3",
   "version": "3.11.4"
  }
 },
 "nbformat": 4,
 "nbformat_minor": 4
}
