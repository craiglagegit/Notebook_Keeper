{
 "cells": [
  {
   "cell_type": "markdown",
   "metadata": {},
   "source": [
    "## Looking at the azimuth wrapping as a cause of oscillation fails\n",
    "\n",
    "Craig Lage - 10-Apr-23"
   ]
  },
  {
   "cell_type": "code",
   "execution_count": null,
   "metadata": {
    "execution": {
     "iopub.execute_input": "2023-04-21T12:44:17.100173Z",
     "iopub.status.busy": "2023-04-21T12:44:17.099907Z",
     "iopub.status.idle": "2023-04-21T12:44:17.778349Z",
     "shell.execute_reply": "2023-04-21T12:44:17.777884Z",
     "shell.execute_reply.started": "2023-04-21T12:44:17.100156Z"
    },
    "tags": []
   },
   "outputs": [],
   "source": [
    "import sys, time, os, asyncio\n",
    "from datetime import datetime\n",
    "import numpy as np\n",
    "import matplotlib.pyplot as plt\n",
    "import pandas as pd\n",
    "from astropy.time import Time, TimeDelta\n",
    "from lsst_efd_client import EfdClient\n",
    "from lsst.daf.butler import Butler"
   ]
  },
  {
   "cell_type": "code",
   "execution_count": null,
   "metadata": {
    "execution": {
     "iopub.execute_input": "2023-04-21T12:44:18.711218Z",
     "iopub.status.busy": "2023-04-21T12:44:18.710927Z",
     "iopub.status.idle": "2023-04-21T12:44:21.075141Z",
     "shell.execute_reply": "2023-04-21T12:44:21.074678Z",
     "shell.execute_reply.started": "2023-04-21T12:44:18.711191Z"
    },
    "tags": []
   },
   "outputs": [],
   "source": [
    "client = EfdClient('summit_efd')\n",
    "butler = Butler('/repo/LATISS', collections=[\"LATISS/raw/all\", \"LATISS/calib\"])"
   ]
  },
  {
   "cell_type": "code",
   "execution_count": null,
   "metadata": {
    "tags": []
   },
   "outputs": [],
   "source": [
    "fig, ax1 = plt.subplots(1,1,figsize = (8,8))\n",
    "ax1.plot(times, azs)\n",
    "ax1.set_ylabel(\"Azimuth(degrees)\")\n",
    "ax1.set_xlabel(\"Time(seconds)\")\n",
    "ax2 = ax1.twinx()\n",
    "mount_times = []\n",
    "mount_motions = []\n",
    "for seqNum in df.index.values.tolist():\n",
    "    if seqNum >= 81 and seqNum <= 153:\n",
    "        if seqNum in [89, 95, 108, 109, 127, 140]:\n",
    "            continue\n",
    "        time = Time(f\"2023-04-13T{df.loc[seqNum]['TAI']}\", format='isot', scale='tai')\n",
    "        mount_times.append(time.utc.unix_tai - t0)\n",
    "        mount_motions.append(df.loc[seqNum]['Mount motion image degradation'])\n",
    "ax2.scatter(mount_times, mount_motions, marker='x', color='g')\n",
    "ax2.set_ylabel(\"Mount jitter (arcseconds)\")\n",
    "plt.savefig(f\"/home/craiglagegit/DATA/auxtel_azimuth_oscillations_13apr23/Both_Direction_Test_13Apr23.png\")\n"
   ]
  },
  {
   "cell_type": "code",
   "execution_count": null,
   "metadata": {
    "tags": []
   },
   "outputs": [],
   "source": [
    "time = Time(f\"2023-04-13T{df.loc[seqNum]['TAI']}\", format='isot', scale='tai')"
   ]
  },
  {
   "cell_type": "code",
   "execution_count": null,
   "metadata": {
    "tags": []
   },
   "outputs": [],
   "source": [
    "time.utc.unix_tai"
   ]
  },
  {
   "cell_type": "code",
   "execution_count": null,
   "metadata": {
    "tags": []
   },
   "outputs": [],
   "source": [
    "az['azimuthCalculatedAngle'].plot()\n",
    "plotStart = Time(\"2023-04-13 16:57:00Z\", scale='utc').isot\n",
    "plotEnd = Time(\"2023-04-13 16:59:00Z\", scale='utc').isot\n",
    "plt.xlim(plotStart, plotEnd)"
   ]
  },
  {
   "cell_type": "code",
   "execution_count": null,
   "metadata": {
    "tags": []
   },
   "outputs": [],
   "source": [
    "ave_tracking_torques = []\n",
    "ave_slew_torques = []\n",
    "mount_motions = []\n",
    "\n",
    "for seqNum in range(82, 154):\n",
    "    \n",
    "    if seqNum in [89, 95, 108, 109, 127, 140]:\n",
    "        continue\n",
    "    expId = 2023041300000 + seqNum\n",
    "    mount_motion = df.loc[seqNum]['Mount motion image degradation']\n",
    "    fig, ax = plt.subplots(1,1,figsize = (8,8))\n",
    "    az_torque['azimuthMotor1Torque'].plot(ax=ax)\n",
    "    mData = butler.get('raw.metadata', detector=0, exposure=expId)\n",
    "    expStart = Time(mData['DATE-BEG'], scale='tai')\n",
    "    ax.axvline(expStart.utc.isot, color=\"g\", linestyle=\"--\", label='Exp Start')\n",
    "    expEnd = Time(mData['DATE-END'], scale='tai')\n",
    "    ax.axvline(expEnd.utc.isot, color=\"r\", linestyle=\"--\", label='Exp End')\n",
    "    mDataLast = butler.get('raw.metadata', detector=0, exposure=expId-1)\n",
    "    expEndLast = Time(mDataLast['DATE-END'], scale='tai')\n",
    "    slewStart = expEndLast  + TimeDelta(5.0, format='sec')\n",
    "    slewEnd = expEndLast  + TimeDelta(10.0, format='sec')\n",
    "    ax.axvline(slewStart.utc.isot, color=\"magenta\", linestyle=\"--\", label='Slew Start')\n",
    "    ax.axvline(slewEnd.utc.isot, color=\"cyan\", linestyle=\"--\", label='Slew End')\n",
    "    plotStart = expStart + TimeDelta(-30.0, format='sec')\n",
    "    plotEnd = expEnd + TimeDelta(30.0, format='sec')\n",
    "    tracking_torque =  await client.select_packed_time_series(\"lsst.sal.ATMCS.measuredTorque\", \"azimuthMotor1Torque\", \\\n",
    "                                                              expStart.utc, expEnd.utc)\n",
    "    ave_tracking_torque = np.mean(tracking_torque['azimuthMotor1Torque'].values)\n",
    "    slew_torque =  await client.select_packed_time_series(\"lsst.sal.ATMCS.measuredTorque\", \"azimuthMotor1Torque\", \\\n",
    "                                                              slewStart.utc, slewEnd.utc)\n",
    "    ave_slew_torque = np.mean(slew_torque['azimuthMotor1Torque'].values)\n",
    "    print(seqNum, ave_tracking_torque, ave_slew_torque, mount_motion)\n",
    "    #az_torque['azimuthMotor2Torque'].plot(ax=ax)\n",
    "    plt.xlim(plotStart.utc.isot, plotEnd.utc.isot)\n",
    "    plt.legend()\n",
    "    plt.savefig(f\"/home/craiglagegit/DATA/auxtel_azimuth_oscillations_13apr23/Torques_{expId}.png\")\n",
    "    plt.close()\n",
    "    \n",
    "    \n",
    "    \n",
    "    ave_tracking_torques.append(ave_tracking_torque)\n",
    "    ave_slew_torques.append(ave_slew_torque)\n",
    "    mount_motions.append(mount_motion)\n",
    "    \n",
    "    "
   ]
  },
  {
   "cell_type": "code",
   "execution_count": null,
   "metadata": {},
   "outputs": [],
   "source": [
    "print(len(ave_tracking_torques), len(ave_slew_torques), len(mount_motions))"
   ]
  },
  {
   "cell_type": "code",
   "execution_count": null,
   "metadata": {
    "tags": []
   },
   "outputs": [],
   "source": [
    "plt.scatter(np.array(ave_tracking_torques) / np.array(ave_slew_torques), mount_motions)"
   ]
  },
  {
   "cell_type": "code",
   "execution_count": null,
   "metadata": {
    "tags": []
   },
   "outputs": [],
   "source": [
    "plt.scatter(abs(np.array(ave_tracking_torques) / np.array(ave_slew_torques)), mount_motions)"
   ]
  },
  {
   "cell_type": "code",
   "execution_count": null,
   "metadata": {
    "tags": []
   },
   "outputs": [],
   "source": [
    "plt.scatter(np.array(ave_tracking_torques), mount_motions)"
   ]
  },
  {
   "cell_type": "code",
   "execution_count": null,
   "metadata": {
    "tags": []
   },
   "outputs": [],
   "source": [
    "plt.scatter(np.array(ave_slew_torques), mount_motions)"
   ]
  },
  {
   "cell_type": "code",
   "execution_count": null,
   "metadata": {
    "tags": []
   },
   "outputs": [],
   "source": [
    "colors = ['r' if x > 0.25 else 'g' for x in mount_motions]\n",
    "plt.title(\"Mount motion failures vs torques - 13Apr23\", fontsize=18)\n",
    "plt.scatter(ave_tracking_torques, ave_slew_torques, c=colors, alpha=0.5, s=100)\n",
    "plt.xlabel('Tracking Torque (amps)')\n",
    "plt.xlim(-1.5,1.5)\n",
    "plt.ylabel('Slewing Torque (amps)')\n",
    "plt.ylim(-1.5,1.5)\n",
    "plt.savefig(f\"/home/craiglagegit/DATA/auxtel_azimuth_oscillations_13apr23/Fails_vs_Torques_13Apr23.png\")"
   ]
  },
  {
   "cell_type": "code",
   "execution_count": null,
   "metadata": {
    "tags": []
   },
   "outputs": [],
   "source": [
    "plt.clf()\n",
    "fig, [ax1,ax2] = plt.subplots(2,1,figsize = (16,8))\n",
    "plt.subplots_adjust(hspace=0.5)\n",
    "ax1.set_title(\"Impact of unwrapping on mount motion\", fontsize = 18)\n",
    "ax1.plot(times, azs, color='green', label=\"Azimuth\")\n",
    "ax1.set_ylabel(\"Degrees\")\n",
    "ax1.set_xlabel(\"Time (seconds)\")\n",
    "\n",
    "ax2.set_title(\"Azimuth Motor 1 Torque\", fontsize=18)\n",
    "ax2.plot(times, torques)\n",
    "ax2.plot([times[0], times[-1]], [0.0,0.0], ls='--', color='red')\n",
    "ax2.set_ylabel(\"Torque(amps)\")\n",
    "ax2.set_xlabel(\"Time (seconds)\")\n",
    "\n",
    "\n",
    "#plt.savefig(f\"/home/craiglagegit/DATA/stiction_04apr23/Unwrapping_10Apr23.png\")\n"
   ]
  },
  {
   "cell_type": "code",
   "execution_count": null,
   "metadata": {
    "tags": []
   },
   "outputs": [],
   "source": [
    "# Times to start looking at encoder values\n",
    "start = Time(\"2023-04-11 14:31:40Z\", scale='utc')\n",
    "end = Time(\"2023-04-11 14:42:00Z\", scale='utc')\n",
    "plotStart = (start + TimeDelta(0.0, format='sec')).to_datetime()\n",
    "plotEnd = (end + TimeDelta(0.0, format='sec')).to_datetime()"
   ]
  },
  {
   "cell_type": "code",
   "execution_count": null,
   "metadata": {
    "tags": []
   },
   "outputs": [],
   "source": [
    "az = await client.select_packed_time_series(\"lsst.sal.ATMCS.mount_AzEl_Encoders\", \"azimuthCalculatedAngle\", start, end)\n",
    "azs = az['azimuthCalculatedAngle'].values\n",
    "times = az['times'].values\n",
    "t0 = times[0]\n",
    "times -= t0\n",
    "tmax = times[-1]\n",
    "\n",
    "az_torque_1 =  await client.select_packed_time_series(\"lsst.sal.ATMCS.measuredTorque\", \"azimuthMotor1Torque\", start, end)\n",
    "torques = az_torque_1['azimuthMotor1Torque'].values"
   ]
  },
  {
   "cell_type": "code",
   "execution_count": null,
   "metadata": {
    "tags": []
   },
   "outputs": [],
   "source": [
    "azs[-1]"
   ]
  },
  {
   "cell_type": "code",
   "execution_count": null,
   "metadata": {
    "tags": []
   },
   "outputs": [],
   "source": [
    "plt.clf()\n",
    "fig, [ax1,ax2] = plt.subplots(2,1,figsize = (16,8))\n",
    "plt.subplots_adjust(hspace=0.5)\n",
    "ax1.set_title(\"Impact of unwrapping on mount motion\", fontsize = 18)\n",
    "ax1.plot(times, azs, color='green', label=\"Azimuth\")\n",
    "ax1.set_ylabel(\"Degrees\")\n",
    "ax1.set_xlabel(\"Time (seconds)\")\n",
    "\n",
    "ax2.set_title(\"Azimuth Motor 1 Torque\", fontsize=18)\n",
    "ax2.plot(times, torques)\n",
    "ax2.plot([times[0], times[-1]], [0.0,0.0], ls='--', color='red')\n",
    "ax2.set_ylabel(\"Torque(amps)\")\n",
    "ax2.set_xlabel(\"Time (seconds)\")\n",
    "\n",
    "\n",
    "#plt.savefig(f\"/home/craiglagegit/DATA/stiction_04apr23/Unwrapping_10Apr23.png\")\n"
   ]
  },
  {
   "cell_type": "code",
   "execution_count": null,
   "metadata": {
    "tags": []
   },
   "outputs": [],
   "source": [
    "plt.figure()\n",
    "plt.title(\"Azimuth Torque vs Angle - 11Apr23\", fontsize=18)\n",
    "plt.plot(azs, torques)\n",
    "#plt.plot([-160,160],[3.0,3.0], color='red', ls='--')\n",
    "#plt.plot([-160,160],[-3.0,-3.0], color='red', ls='--')\n",
    "plt.arrow(-140, 1.5, 50,0, width=0.1,head_length = 5.0, color='green')\n",
    "plt.arrow(140, -1.5, -50,0, width=0.1,head_length = 5.0, color='green')\n",
    "plt.ylim(-2.0,2.0)\n",
    "plt.xlabel(\"Azimuth(degrees)\")\n",
    "plt.ylabel(\"Torque (amps)\")\n",
    "plt.savefig(\"/home/craiglagegit/DATA/Azimuth_Torque_vs_Angle_11Apr23.pdf\")"
   ]
  },
  {
   "cell_type": "code",
   "execution_count": null,
   "metadata": {},
   "outputs": [],
   "source": []
  },
  {
   "cell_type": "code",
   "execution_count": null,
   "metadata": {
    "execution": {
     "iopub.execute_input": "2023-04-21T12:44:27.434906Z",
     "iopub.status.busy": "2023-04-21T12:44:27.434633Z",
     "iopub.status.idle": "2023-04-21T12:44:27.450128Z",
     "shell.execute_reply": "2023-04-21T12:44:27.449706Z",
     "shell.execute_reply.started": "2023-04-21T12:44:27.434889Z"
    },
    "tags": []
   },
   "outputs": [],
   "source": [
    "# Times to start looking at encoder values\n",
    "start = Time(\"2023-04-20 16:28:00Z\", scale='utc')\n",
    "end = Time(\"2023-04-20 19:01:00Z\", scale='utc')\n",
    "plotStart = (start + TimeDelta(0.0, format='sec')).to_datetime()\n",
    "plotEnd = (end + TimeDelta(0.0, format='sec')).to_datetime()"
   ]
  },
  {
   "cell_type": "code",
   "execution_count": null,
   "metadata": {
    "execution": {
     "iopub.execute_input": "2023-04-21T12:44:33.608399Z",
     "iopub.status.busy": "2023-04-21T12:44:33.608116Z",
     "iopub.status.idle": "2023-04-21T12:45:01.095757Z",
     "shell.execute_reply": "2023-04-21T12:45:01.095238Z",
     "shell.execute_reply.started": "2023-04-21T12:44:33.608382Z"
    },
    "tags": []
   },
   "outputs": [],
   "source": [
    "az = await client.select_packed_time_series(\"lsst.sal.ATMCS.mount_AzEl_Encoders\", \"azimuthCalculatedAngle\", start, end)\n",
    "azs = az['azimuthCalculatedAngle'].values\n",
    "times = az['times'].values\n",
    "t0 = times[0]\n",
    "times -= t0\n",
    "tmax = times[-1]\n",
    "\n",
    "az_torque_1 =  await client.select_packed_time_series(\"lsst.sal.ATMCS.measuredTorque\", \"azimuthMotor1Torque\", start, end)\n",
    "torques = az_torque_1['azimuthMotor1Torque'].values\n",
    "torqueTimes = az_torque_1['times'].values - t0\n",
    "\n",
    "\n",
    "mount_speed = await client.select_packed_time_series(\"lsst.sal.ATMCS.measuredMotorVelocity\", \\\n",
    "                                                     ['azimuthMotor1Velocity', 'azimuthMotor2Velocity'], \\\n",
    "                                                      start, end)\n",
    "speed1 = mount_speed['azimuthMotor1Velocity'].values\n",
    "speed2 = mount_speed['azimuthMotor1Velocity'].values\n",
    "speedTimes = mount_speed['times'].values - t0"
   ]
  },
  {
   "cell_type": "code",
   "execution_count": null,
   "metadata": {
    "execution": {
     "iopub.execute_input": "2023-04-21T12:50:42.338461Z",
     "iopub.status.busy": "2023-04-21T12:50:42.338088Z",
     "iopub.status.idle": "2023-04-21T12:50:42.341839Z",
     "shell.execute_reply": "2023-04-21T12:50:42.341475Z",
     "shell.execute_reply.started": "2023-04-21T12:50:42.338445Z"
    },
    "tags": []
   },
   "outputs": [],
   "source": [
    "speed1"
   ]
  },
  {
   "cell_type": "code",
   "execution_count": null,
   "metadata": {
    "execution": {
     "iopub.execute_input": "2023-04-21T12:45:01.107140Z",
     "iopub.status.busy": "2023-04-21T12:45:01.106787Z",
     "iopub.status.idle": "2023-04-21T12:45:01.145370Z",
     "shell.execute_reply": "2023-04-21T12:45:01.144969Z",
     "shell.execute_reply.started": "2023-04-21T12:45:01.107126Z"
    },
    "tags": []
   },
   "outputs": [],
   "source": [
    "# Get Rubin TV JSON\n",
    "filename = f'/scratch/cslage/starTracker/auxtel_2023-04-20.json'\n",
    "df = pd.read_json(filename)\n",
    "df = df.transpose()\n"
   ]
  },
  {
   "cell_type": "code",
   "execution_count": null,
   "metadata": {
    "execution": {
     "iopub.execute_input": "2023-04-20T19:15:12.367307Z",
     "iopub.status.busy": "2023-04-20T19:15:12.366918Z",
     "iopub.status.idle": "2023-04-20T19:15:12.808560Z",
     "shell.execute_reply": "2023-04-20T19:15:12.808142Z",
     "shell.execute_reply.started": "2023-04-20T19:15:12.367290Z"
    },
    "tags": []
   },
   "outputs": [],
   "source": [
    "fig, ax1 = plt.subplots(1,1,figsize = (8,8))\n",
    "ax1.plot(times, azs)\n",
    "ax1.set_ylabel(\"Azimuth(degrees)\")\n",
    "ax1.set_xlabel(\"Time(seconds)\")\n",
    "ax2 = ax1.twinx()\n",
    "mount_times = []\n",
    "mount_motions = []\n",
    "for seqNum in df.index.values.tolist():\n",
    "    if seqNum >= 22 and seqNum <= 202:\n",
    "        #print(seqNum, df.loc[seqNum]['Mount motion image degradation'])\n",
    "        time = Time(f\"2023-04-20T{df.loc[seqNum]['TAI']}\", format='isot', scale='tai')\n",
    "        mount_times.append(time.utc.unix_tai - t0)\n",
    "        mount_motions.append(df.loc[seqNum]['Mount motion image degradation'])\n",
    "ax2.scatter(mount_times, mount_motions, marker='x', color='g')\n",
    "ax2.set_ylabel(\"Mount jitter (arcseconds)\")\n",
    "plt.savefig(f\"/home/craiglagegit/DATA/auxtel_azimuth_oscillations_13apr23/Both_Direction_Test_20Apr23.png\")\n"
   ]
  },
  {
   "cell_type": "code",
   "execution_count": null,
   "metadata": {
    "execution": {
     "iopub.execute_input": "2023-04-20T19:52:25.156890Z",
     "iopub.status.busy": "2023-04-20T19:52:25.156618Z",
     "iopub.status.idle": "2023-04-20T19:52:25.398769Z",
     "shell.execute_reply": "2023-04-20T19:52:25.398314Z",
     "shell.execute_reply.started": "2023-04-20T19:52:25.156874Z"
    },
    "tags": []
   },
   "outputs": [],
   "source": [
    "fig, ax1 = plt.subplots(1,1,figsize = (8,8))\n",
    "ax1.plot(times, azs)\n",
    "ax1.set_ylabel(\"Azimuth(degrees)\")\n",
    "ax1.set_xlabel(\"Time(seconds)\")\n",
    "ax2 = ax1.twinx()\n",
    "ax2.plot(torqueTimes, torques)\n",
    "ax1.set_xlim(1000,1500)"
   ]
  },
  {
   "cell_type": "code",
   "execution_count": null,
   "metadata": {
    "execution": {
     "iopub.execute_input": "2023-04-21T13:13:04.668335Z",
     "iopub.status.busy": "2023-04-21T13:13:04.667965Z",
     "iopub.status.idle": "2023-04-21T13:13:09.536061Z",
     "shell.execute_reply": "2023-04-21T13:13:09.535517Z",
     "shell.execute_reply.started": "2023-04-21T13:13:04.668317Z"
    },
    "tags": []
   },
   "outputs": [],
   "source": [
    "dirs = [['Neg', 'blue', 22, 112], ['Pos', 'magenta', 112, 202]]\n",
    "plt.figure(figsize = (8,8))\n",
    "plt.subplots_adjust(hspace=0.5, wspace=0.5)\n",
    "for [name, color, nstart, nend] in dirs:\n",
    "    mount_times = []\n",
    "    mount_motions = []\n",
    "    tracking_torques = []\n",
    "    azSpeed1 = []\n",
    "    azSpeed2 = []\n",
    "    azs = []\n",
    "    for seqNum in df.index.values.tolist():\n",
    "        if seqNum >= nstart and seqNum <= nend:\n",
    "            expId = 2023042000000 + seqNum\n",
    "            mData = butler.get('raw.metadata', detector=0, exposure=expId)\n",
    "            time = Time(f\"2023-04-20T{df.loc[seqNum]['TAI']}\", format='isot', scale='tai')\n",
    "            mount_times.append(time.utc.unix_tai - t0)\n",
    "            mount_motions.append(df.loc[seqNum]['Mount motion image degradation'])\n",
    "            azs.append(mData['AZSTART'])\n",
    "            startExp = Time(mData['DATE-BEG'], scale='tai').unix_tai\n",
    "            endExp = Time(mData['DATE-END'], scale='tai').unix_tai\n",
    "            thisTorque = az_torque_1[(az_torque_1['times'] > startExp) & (az_torque_1['times'] < endExp)]\n",
    "            tracking_torques.append(np.mean(thisTorque.values[:,0]))\n",
    "            thisSpeed = mount_speed[(mount_speed['times'] > startExp) & (mount_speed['times'] < endExp)]\n",
    "            azSpeed1.append(np.mean(thisSpeed.values[:,0])*3600.0)\n",
    "            azSpeed2.append(np.mean(thisSpeed.values[:,1])*3600.0)\n",
    "\n",
    "            \n",
    "    plt.subplot(2,2,1)\n",
    "    plt.title(\"Mount fails vs Torque\")\n",
    "    plt.scatter(tracking_torques, mount_motions, color=color, label=name)\n",
    "    plt.xlabel(\"Tracking Torque (amps)\")\n",
    "    plt.ylabel(\"Mount jitter (arcseconds)\")\n",
    "    plt.legend()\n",
    "    plt.subplot(2,2,2)\n",
    "    plt.title(\"Tracking torques vs tracking speed\")\n",
    "    plt.scatter(tracking_torques, azSpeed1, color=color, label=name)\n",
    "    plt.xlabel(\"Tracking Torque (amps)\")\n",
    "    plt.ylabel(\"Tracking Velocity (arcseconds/sec)\")\n",
    "    plt.legend()  \n",
    "    plt.subplot(2,2,3)\n",
    "    plt.title(\"Tracking torques vs azimuth\")\n",
    "    plt.scatter(azs, tracking_torques, color=color, label=name)\n",
    "    plt.xlabel(\"Azimuth (degrees)\")\n",
    "    plt.ylabel(\"Tracking Torque (amps)\")\n",
    "    plt.legend()      \n",
    "    plt.subplot(2,2,4)\n",
    "    plt.title(\"Tracking speed vs azimuth\")\n",
    "    plt.scatter(azs, azSpeed1, color=color, label=name)\n",
    "    plt.xlabel(\"Azimuth (degrees)\")\n",
    "    plt.ylabel(\"Tracking Velocity (arcseconds/sec)\")\n",
    "    plt.legend()      \n",
    "    \n",
    "plt.savefig(f\"/home/craiglagegit/DATA/auxtel_azimuth_oscillations_13apr23/Torques_and_Speeds_20Apr23.png\")    "
   ]
  },
  {
   "cell_type": "code",
   "execution_count": null,
   "metadata": {
    "execution": {
     "iopub.execute_input": "2023-04-21T12:53:12.851841Z",
     "iopub.status.busy": "2023-04-21T12:53:12.851466Z",
     "iopub.status.idle": "2023-04-21T12:53:12.983597Z",
     "shell.execute_reply": "2023-04-21T12:53:12.983125Z",
     "shell.execute_reply.started": "2023-04-21T12:53:12.851824Z"
    },
    "tags": []
   },
   "outputs": [],
   "source": [
    "plt.scatter(azSpeed1, azSpeed2)"
   ]
  },
  {
   "cell_type": "code",
   "execution_count": null,
   "metadata": {
    "execution": {
     "iopub.execute_input": "2023-04-20T20:06:08.895868Z",
     "iopub.status.busy": "2023-04-20T20:06:08.895508Z",
     "iopub.status.idle": "2023-04-20T20:06:09.080800Z",
     "shell.execute_reply": "2023-04-20T20:06:09.080393Z",
     "shell.execute_reply.started": "2023-04-20T20:06:08.895851Z"
    },
    "tags": []
   },
   "outputs": [],
   "source": [
    "plt.title(\"Mount Fails vs Tracking Torque\")\n",
    "plt.scatter(tracking_torques, mount_motions)\n",
    "plt.ylabel(\"Mount jitter (arcseconds)\")\n",
    "plt.xlabel(\"Tracking Torque (amps)\")\n",
    "plt.savefig(f\"/home/craiglagegit/DATA/auxtel_azimuth_oscillations_13apr23/Fails_vs_Tracking_Torque_20Apr23.png\")"
   ]
  },
  {
   "cell_type": "code",
   "execution_count": null,
   "metadata": {
    "execution": {
     "iopub.execute_input": "2023-04-20T20:14:06.807988Z",
     "iopub.status.busy": "2023-04-20T20:14:06.807615Z",
     "iopub.status.idle": "2023-04-20T20:14:10.992411Z",
     "shell.execute_reply": "2023-04-20T20:14:10.991844Z",
     "shell.execute_reply.started": "2023-04-20T20:14:06.807970Z"
    },
    "tags": []
   },
   "outputs": [],
   "source": [
    "fig, ax1 = plt.subplots(1,1,figsize = (8,8))\n",
    "ax1.plot(times, azs)\n",
    "ax1.set_ylabel(\"Azimuth(degrees)\")\n",
    "ax1.set_xlabel(\"Time(seconds)\")\n",
    "ax2 = ax1.twinx()\n",
    "mount_times = []\n",
    "mount_motions = []\n",
    "tracking_torques = []\n",
    "for seqNum in df.index.values.tolist():\n",
    "    if seqNum >= 22 and seqNum <= 202:\n",
    "        expId = 2023042000000 + seqNum\n",
    "        mData = butler.get('raw.metadata', detector=0, exposure=expId)\n",
    "        time = Time(f\"2023-04-20T{df.loc[seqNum]['TAI']}\", format='isot', scale='tai')\n",
    "        mount_times.append(time.utc.unix_tai - t0)\n",
    "        mount_motions.append(df.loc[seqNum]['Mount motion image degradation'])\n",
    "        startExp = Time(mData['DATE-BEG'], scale='tai').unix_tai\n",
    "        endExp = Time(mData['DATE-END'], scale='tai').unix_tai\n",
    "        thisTorque = az_torque_1[(az_torque_1['times'] > startExp) & (az_torque_1['times'] < endExp)]\n",
    "        tracking_torques.append(np.mean(thisTorque.values[:,0]))\n",
    "ax2.scatter(mount_times, tracking_torques, marker='x', color='g')\n",
    "ax2.set_ylabel(\"Tracking Torque (Amps)\")\n",
    "plt.savefig(f\"/home/craiglagegit/DATA/auxtel_azimuth_oscillations_13apr23/Both_Direction_Torques_20Apr23.png\")\n"
   ]
  },
  {
   "cell_type": "code",
   "execution_count": null,
   "metadata": {},
   "outputs": [],
   "source": []
  }
 ],
 "metadata": {
  "kernelspec": {
   "display_name": "LSST",
   "language": "python",
   "name": "lsst"
  },
  "language_info": {
   "codemirror_mode": {
    "name": "ipython",
    "version": 3
   },
   "file_extension": ".py",
   "mimetype": "text/x-python",
   "name": "python",
   "nbconvert_exporter": "python",
   "pygments_lexer": "ipython3",
   "version": "3.10.9"
  }
 },
 "nbformat": 4,
 "nbformat_minor": 4
}
