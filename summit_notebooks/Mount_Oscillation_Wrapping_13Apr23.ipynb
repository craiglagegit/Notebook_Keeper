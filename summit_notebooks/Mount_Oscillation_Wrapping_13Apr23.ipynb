{
 "cells": [
  {
   "cell_type": "markdown",
   "metadata": {},
   "source": [
    "## Looking at the azimuth wrapping as a cause of oscillation fails\n",
    "\n",
    "Craig Lage - 10-Apr-23"
   ]
  },
  {
   "cell_type": "code",
   "execution_count": null,
   "metadata": {
    "execution": {
     "iopub.execute_input": "2023-04-14T13:26:16.008330Z",
     "iopub.status.busy": "2023-04-14T13:26:16.007959Z",
     "iopub.status.idle": "2023-04-14T13:26:16.702064Z",
     "shell.execute_reply": "2023-04-14T13:26:16.701457Z",
     "shell.execute_reply.started": "2023-04-14T13:26:16.008313Z"
    },
    "tags": []
   },
   "outputs": [],
   "source": [
    "import sys, time, os, asyncio\n",
    "from datetime import datetime\n",
    "import numpy as np\n",
    "import matplotlib.pyplot as plt\n",
    "import pandas as pd\n",
    "from astropy.time import Time, TimeDelta\n",
    "from lsst_efd_client import EfdClient\n",
    "from lsst.daf.butler import Butler"
   ]
  },
  {
   "cell_type": "code",
   "execution_count": null,
   "metadata": {
    "execution": {
     "iopub.execute_input": "2023-04-14T14:35:57.709145Z",
     "iopub.status.busy": "2023-04-14T14:35:57.708758Z",
     "iopub.status.idle": "2023-04-14T14:35:58.022602Z",
     "shell.execute_reply": "2023-04-14T14:35:58.022148Z",
     "shell.execute_reply.started": "2023-04-14T14:35:57.709128Z"
    },
    "tags": []
   },
   "outputs": [],
   "source": [
    "fig, ax1 = plt.subplots(1,1,figsize = (8,8))\n",
    "ax1.plot(times, azs)\n",
    "ax1.set_ylabel(\"Azimuth(degrees)\")\n",
    "ax1.set_xlabel(\"Time(seconds)\")\n",
    "ax2 = ax1.twinx()\n",
    "mount_times = []\n",
    "mount_motions = []\n",
    "for seqNum in df.index.values.tolist():\n",
    "    if seqNum >= 81 and seqNum <= 153:\n",
    "        if seqNum in [89, 95, 108, 109, 127, 140]:\n",
    "            continue\n",
    "        time = Time(f\"2023-04-13T{df.loc[seqNum]['TAI']}\", format='isot', scale='tai')\n",
    "        mount_times.append(time.utc.unix_tai - t0)\n",
    "        mount_motions.append(df.loc[seqNum]['Mount motion image degradation'])\n",
    "ax2.scatter(mount_times, mount_motions, marker='x', color='g')\n",
    "ax2.set_ylabel(\"Mount jitter (arcseconds)\")\n",
    "plt.savefig(f\"/home/craiglagegit/DATA/auxtel_azimuth_oscillations_13apr23/Both_Direction_Test_13Apr23.png\")\n"
   ]
  },
  {
   "cell_type": "code",
   "execution_count": null,
   "metadata": {
    "execution": {
     "iopub.execute_input": "2023-04-13T19:51:23.166482Z",
     "iopub.status.busy": "2023-04-13T19:51:23.166116Z",
     "iopub.status.idle": "2023-04-13T19:51:23.170070Z",
     "shell.execute_reply": "2023-04-13T19:51:23.169550Z",
     "shell.execute_reply.started": "2023-04-13T19:51:23.166464Z"
    },
    "tags": []
   },
   "outputs": [],
   "source": [
    "time = Time(f\"2023-04-13T{df.loc[seqNum]['TAI']}\", format='isot', scale='tai')"
   ]
  },
  {
   "cell_type": "code",
   "execution_count": null,
   "metadata": {
    "execution": {
     "iopub.execute_input": "2023-04-13T19:51:30.591913Z",
     "iopub.status.busy": "2023-04-13T19:51:30.591557Z",
     "iopub.status.idle": "2023-04-13T19:51:30.596062Z",
     "shell.execute_reply": "2023-04-13T19:51:30.595601Z",
     "shell.execute_reply.started": "2023-04-13T19:51:30.591895Z"
    },
    "tags": []
   },
   "outputs": [],
   "source": [
    "time.utc.unix_tai"
   ]
  },
  {
   "cell_type": "code",
   "execution_count": null,
   "metadata": {
    "execution": {
     "iopub.execute_input": "2023-04-13T19:24:22.385183Z",
     "iopub.status.busy": "2023-04-13T19:24:22.384812Z",
     "iopub.status.idle": "2023-04-13T19:24:23.159645Z",
     "shell.execute_reply": "2023-04-13T19:24:23.159075Z",
     "shell.execute_reply.started": "2023-04-13T19:24:22.385166Z"
    },
    "tags": []
   },
   "outputs": [],
   "source": [
    "az['azimuthCalculatedAngle'].plot()\n",
    "plotStart = Time(\"2023-04-13 16:57:00Z\", scale='utc').isot\n",
    "plotEnd = Time(\"2023-04-13 16:59:00Z\", scale='utc').isot\n",
    "plt.xlim(plotStart, plotEnd)"
   ]
  },
  {
   "cell_type": "code",
   "execution_count": null,
   "metadata": {
    "execution": {
     "iopub.execute_input": "2023-04-14T14:30:05.349488Z",
     "iopub.status.busy": "2023-04-14T14:30:05.349098Z",
     "iopub.status.idle": "2023-04-14T14:31:38.349303Z",
     "shell.execute_reply": "2023-04-14T14:31:38.348844Z",
     "shell.execute_reply.started": "2023-04-14T14:30:05.349471Z"
    },
    "tags": []
   },
   "outputs": [],
   "source": [
    "ave_tracking_torques = []\n",
    "ave_slew_torques = []\n",
    "mount_motions = []\n",
    "\n",
    "for seqNum in range(82, 154):\n",
    "    \n",
    "    if seqNum in [89, 95, 108, 109, 127, 140]:\n",
    "        continue\n",
    "    expId = 2023041300000 + seqNum\n",
    "    mount_motion = df.loc[seqNum]['Mount motion image degradation']\n",
    "    fig, ax = plt.subplots(1,1,figsize = (8,8))\n",
    "    az_torque['azimuthMotor1Torque'].plot(ax=ax)\n",
    "    mData = butler.get('raw.metadata', detector=0, exposure=expId)\n",
    "    expStart = Time(mData['DATE-BEG'], scale='tai')\n",
    "    ax.axvline(expStart.utc.isot, color=\"g\", linestyle=\"--\", label='Exp Start')\n",
    "    expEnd = Time(mData['DATE-END'], scale='tai')\n",
    "    ax.axvline(expEnd.utc.isot, color=\"r\", linestyle=\"--\", label='Exp End')\n",
    "    mDataLast = butler.get('raw.metadata', detector=0, exposure=expId-1)\n",
    "    expEndLast = Time(mDataLast['DATE-END'], scale='tai')\n",
    "    slewStart = expEndLast  + TimeDelta(5.0, format='sec')\n",
    "    slewEnd = expEndLast  + TimeDelta(10.0, format='sec')\n",
    "    ax.axvline(slewStart.utc.isot, color=\"magenta\", linestyle=\"--\", label='Slew Start')\n",
    "    ax.axvline(slewEnd.utc.isot, color=\"cyan\", linestyle=\"--\", label='Slew End')\n",
    "    plotStart = expStart + TimeDelta(-30.0, format='sec')\n",
    "    plotEnd = expEnd + TimeDelta(30.0, format='sec')\n",
    "    tracking_torque =  await client.select_packed_time_series(\"lsst.sal.ATMCS.measuredTorque\", \"azimuthMotor1Torque\", \\\n",
    "                                                              expStart.utc, expEnd.utc)\n",
    "    ave_tracking_torque = np.mean(tracking_torque['azimuthMotor1Torque'].values)\n",
    "    slew_torque =  await client.select_packed_time_series(\"lsst.sal.ATMCS.measuredTorque\", \"azimuthMotor1Torque\", \\\n",
    "                                                              slewStart.utc, slewEnd.utc)\n",
    "    ave_slew_torque = np.mean(slew_torque['azimuthMotor1Torque'].values)\n",
    "    print(seqNum, ave_tracking_torque, ave_slew_torque, mount_motion)\n",
    "    #az_torque['azimuthMotor2Torque'].plot(ax=ax)\n",
    "    plt.xlim(plotStart.utc.isot, plotEnd.utc.isot)\n",
    "    plt.legend()\n",
    "    plt.savefig(f\"/home/craiglagegit/DATA/auxtel_azimuth_oscillations_13apr23/Torques_{expId}.png\")\n",
    "    plt.close()\n",
    "    \n",
    "    \n",
    "    \n",
    "    ave_tracking_torques.append(ave_tracking_torque)\n",
    "    ave_slew_torques.append(ave_slew_torque)\n",
    "    mount_motions.append(mount_motion)\n",
    "    \n",
    "    "
   ]
  },
  {
   "cell_type": "code",
   "execution_count": null,
   "metadata": {
    "execution": {
     "iopub.execute_input": "2023-04-14T14:21:01.595976Z",
     "iopub.status.busy": "2023-04-14T14:21:01.595591Z",
     "iopub.status.idle": "2023-04-14T14:21:01.599370Z",
     "shell.execute_reply": "2023-04-14T14:21:01.598856Z",
     "shell.execute_reply.started": "2023-04-14T14:21:01.595959Z"
    }
   },
   "outputs": [],
   "source": [
    "print(len(ave_tracking_torques), len(ave_slew_torques), len(mount_motions))"
   ]
  },
  {
   "cell_type": "code",
   "execution_count": null,
   "metadata": {
    "execution": {
     "iopub.execute_input": "2023-04-14T14:21:04.462242Z",
     "iopub.status.busy": "2023-04-14T14:21:04.461504Z",
     "iopub.status.idle": "2023-04-14T14:21:04.568228Z",
     "shell.execute_reply": "2023-04-14T14:21:04.567636Z",
     "shell.execute_reply.started": "2023-04-14T14:21:04.462223Z"
    },
    "tags": []
   },
   "outputs": [],
   "source": [
    "plt.scatter(np.array(ave_tracking_torques) / np.array(ave_slew_torques), mount_motions)"
   ]
  },
  {
   "cell_type": "code",
   "execution_count": null,
   "metadata": {
    "execution": {
     "iopub.execute_input": "2023-04-14T14:21:08.219320Z",
     "iopub.status.busy": "2023-04-14T14:21:08.218567Z",
     "iopub.status.idle": "2023-04-14T14:21:08.323937Z",
     "shell.execute_reply": "2023-04-14T14:21:08.323394Z",
     "shell.execute_reply.started": "2023-04-14T14:21:08.219302Z"
    },
    "tags": []
   },
   "outputs": [],
   "source": [
    "plt.scatter(abs(np.array(ave_tracking_torques) / np.array(ave_slew_torques)), mount_motions)"
   ]
  },
  {
   "cell_type": "code",
   "execution_count": null,
   "metadata": {
    "execution": {
     "iopub.execute_input": "2023-04-14T14:21:10.120632Z",
     "iopub.status.busy": "2023-04-14T14:21:10.120358Z",
     "iopub.status.idle": "2023-04-14T14:21:10.223420Z",
     "shell.execute_reply": "2023-04-14T14:21:10.222891Z",
     "shell.execute_reply.started": "2023-04-14T14:21:10.120616Z"
    },
    "tags": []
   },
   "outputs": [],
   "source": [
    "plt.scatter(np.array(ave_tracking_torques), mount_motions)"
   ]
  },
  {
   "cell_type": "code",
   "execution_count": null,
   "metadata": {
    "execution": {
     "iopub.execute_input": "2023-04-14T14:21:12.270677Z",
     "iopub.status.busy": "2023-04-14T14:21:12.270404Z",
     "iopub.status.idle": "2023-04-14T14:21:12.376015Z",
     "shell.execute_reply": "2023-04-14T14:21:12.375442Z",
     "shell.execute_reply.started": "2023-04-14T14:21:12.270661Z"
    },
    "tags": []
   },
   "outputs": [],
   "source": [
    "plt.scatter(np.array(ave_slew_torques), mount_motions)"
   ]
  },
  {
   "cell_type": "code",
   "execution_count": null,
   "metadata": {
    "execution": {
     "iopub.execute_input": "2023-04-14T14:33:00.782725Z",
     "iopub.status.busy": "2023-04-14T14:33:00.782357Z",
     "iopub.status.idle": "2023-04-14T14:33:00.947029Z",
     "shell.execute_reply": "2023-04-14T14:33:00.946632Z",
     "shell.execute_reply.started": "2023-04-14T14:33:00.782709Z"
    },
    "tags": []
   },
   "outputs": [],
   "source": [
    "colors = ['r' if x > 0.25 else 'g' for x in mount_motions]\n",
    "plt.title(\"Mount motion failures vs torques - 13Apr23\", fontsize=18)\n",
    "plt.scatter(ave_tracking_torques, ave_slew_torques, c=colors, alpha=0.5, s=100)\n",
    "plt.xlabel('Tracking Torque (amps)')\n",
    "plt.xlim(-1.5,1.5)\n",
    "plt.ylabel('Slewing Torque (amps)')\n",
    "plt.ylim(-1.5,1.5)\n",
    "plt.savefig(f\"/home/craiglagegit/DATA/auxtel_azimuth_oscillations_13apr23/Fails_vs_Torques_13Apr23.png\")"
   ]
  },
  {
   "cell_type": "code",
   "execution_count": null,
   "metadata": {
    "execution": {
     "iopub.execute_input": "2023-04-14T14:25:14.008410Z",
     "iopub.status.busy": "2023-04-14T14:25:14.007652Z",
     "iopub.status.idle": "2023-04-14T14:25:14.011100Z",
     "shell.execute_reply": "2023-04-14T14:25:14.010616Z",
     "shell.execute_reply.started": "2023-04-14T14:25:14.008391Z"
    }
   },
   "outputs": [],
   "source": [
    "colors = ['r' if x > 0.25 else 'g' for x in mount_motions]"
   ]
  },
  {
   "cell_type": "code",
   "execution_count": null,
   "metadata": {
    "execution": {
     "iopub.execute_input": "2023-04-14T14:25:22.668576Z",
     "iopub.status.busy": "2023-04-14T14:25:22.668169Z",
     "iopub.status.idle": "2023-04-14T14:25:22.672846Z",
     "shell.execute_reply": "2023-04-14T14:25:22.672361Z",
     "shell.execute_reply.started": "2023-04-14T14:25:22.668559Z"
    }
   },
   "outputs": [],
   "source": [
    "colors"
   ]
  },
  {
   "cell_type": "code",
   "execution_count": null,
   "metadata": {
    "execution": {
     "iopub.execute_input": "2023-04-11T14:27:52.887752Z",
     "iopub.status.busy": "2023-04-11T14:27:52.887474Z",
     "iopub.status.idle": "2023-04-11T14:27:53.193537Z",
     "shell.execute_reply": "2023-04-11T14:27:53.193118Z",
     "shell.execute_reply.started": "2023-04-11T14:27:52.887736Z"
    },
    "tags": []
   },
   "outputs": [],
   "source": [
    "plt.clf()\n",
    "fig, [ax1,ax2] = plt.subplots(2,1,figsize = (16,8))\n",
    "plt.subplots_adjust(hspace=0.5)\n",
    "ax1.set_title(\"Impact of unwrapping on mount motion\", fontsize = 18)\n",
    "ax1.plot(times, azs, color='green', label=\"Azimuth\")\n",
    "ax1.set_ylabel(\"Degrees\")\n",
    "ax1.set_xlabel(\"Time (seconds)\")\n",
    "\n",
    "ax2.set_title(\"Azimuth Motor 1 Torque\", fontsize=18)\n",
    "ax2.plot(times, torques)\n",
    "ax2.plot([times[0], times[-1]], [0.0,0.0], ls='--', color='red')\n",
    "ax2.set_ylabel(\"Torque(amps)\")\n",
    "ax2.set_xlabel(\"Time (seconds)\")\n",
    "\n",
    "\n",
    "#plt.savefig(f\"/home/craiglagegit/DATA/stiction_04apr23/Unwrapping_10Apr23.png\")\n"
   ]
  },
  {
   "cell_type": "code",
   "execution_count": null,
   "metadata": {
    "execution": {
     "iopub.execute_input": "2023-04-11T14:43:27.122180Z",
     "iopub.status.busy": "2023-04-11T14:43:27.121800Z",
     "iopub.status.idle": "2023-04-11T14:43:27.126927Z",
     "shell.execute_reply": "2023-04-11T14:43:27.126422Z",
     "shell.execute_reply.started": "2023-04-11T14:43:27.122161Z"
    },
    "tags": []
   },
   "outputs": [],
   "source": [
    "# Times to start looking at encoder values\n",
    "start = Time(\"2023-04-11 14:31:40Z\", scale='utc')\n",
    "end = Time(\"2023-04-11 14:42:00Z\", scale='utc')\n",
    "plotStart = (start + TimeDelta(0.0, format='sec')).to_datetime()\n",
    "plotEnd = (end + TimeDelta(0.0, format='sec')).to_datetime()"
   ]
  },
  {
   "cell_type": "code",
   "execution_count": null,
   "metadata": {
    "execution": {
     "iopub.execute_input": "2023-04-11T14:43:27.986800Z",
     "iopub.status.busy": "2023-04-11T14:43:27.986421Z",
     "iopub.status.idle": "2023-04-11T14:43:29.247234Z",
     "shell.execute_reply": "2023-04-11T14:43:29.246655Z",
     "shell.execute_reply.started": "2023-04-11T14:43:27.986782Z"
    },
    "tags": []
   },
   "outputs": [],
   "source": [
    "az = await client.select_packed_time_series(\"lsst.sal.ATMCS.mount_AzEl_Encoders\", \"azimuthCalculatedAngle\", start, end)\n",
    "azs = az['azimuthCalculatedAngle'].values\n",
    "times = az['times'].values\n",
    "t0 = times[0]\n",
    "times -= t0\n",
    "tmax = times[-1]\n",
    "\n",
    "az_torque_1 =  await client.select_packed_time_series(\"lsst.sal.ATMCS.measuredTorque\", \"azimuthMotor1Torque\", start, end)\n",
    "torques = az_torque_1['azimuthMotor1Torque'].values"
   ]
  },
  {
   "cell_type": "code",
   "execution_count": null,
   "metadata": {
    "execution": {
     "iopub.execute_input": "2023-04-11T14:42:15.390670Z",
     "iopub.status.busy": "2023-04-11T14:42:15.390306Z",
     "iopub.status.idle": "2023-04-11T14:42:15.394362Z",
     "shell.execute_reply": "2023-04-11T14:42:15.393835Z",
     "shell.execute_reply.started": "2023-04-11T14:42:15.390652Z"
    },
    "tags": []
   },
   "outputs": [],
   "source": [
    "azs[-1]"
   ]
  },
  {
   "cell_type": "code",
   "execution_count": null,
   "metadata": {
    "execution": {
     "iopub.execute_input": "2023-04-11T14:43:31.790384Z",
     "iopub.status.busy": "2023-04-11T14:43:31.789999Z",
     "iopub.status.idle": "2023-04-11T14:43:32.098226Z",
     "shell.execute_reply": "2023-04-11T14:43:32.097625Z",
     "shell.execute_reply.started": "2023-04-11T14:43:31.790366Z"
    },
    "tags": []
   },
   "outputs": [],
   "source": [
    "plt.clf()\n",
    "fig, [ax1,ax2] = plt.subplots(2,1,figsize = (16,8))\n",
    "plt.subplots_adjust(hspace=0.5)\n",
    "ax1.set_title(\"Impact of unwrapping on mount motion\", fontsize = 18)\n",
    "ax1.plot(times, azs, color='green', label=\"Azimuth\")\n",
    "ax1.set_ylabel(\"Degrees\")\n",
    "ax1.set_xlabel(\"Time (seconds)\")\n",
    "\n",
    "ax2.set_title(\"Azimuth Motor 1 Torque\", fontsize=18)\n",
    "ax2.plot(times, torques)\n",
    "ax2.plot([times[0], times[-1]], [0.0,0.0], ls='--', color='red')\n",
    "ax2.set_ylabel(\"Torque(amps)\")\n",
    "ax2.set_xlabel(\"Time (seconds)\")\n",
    "\n",
    "\n",
    "#plt.savefig(f\"/home/craiglagegit/DATA/stiction_04apr23/Unwrapping_10Apr23.png\")\n"
   ]
  },
  {
   "cell_type": "code",
   "execution_count": null,
   "metadata": {
    "execution": {
     "iopub.execute_input": "2023-04-11T14:48:24.690118Z",
     "iopub.status.busy": "2023-04-11T14:48:24.689828Z",
     "iopub.status.idle": "2023-04-11T14:48:24.940166Z",
     "shell.execute_reply": "2023-04-11T14:48:24.939743Z",
     "shell.execute_reply.started": "2023-04-11T14:48:24.690101Z"
    },
    "tags": []
   },
   "outputs": [],
   "source": [
    "plt.figure()\n",
    "plt.title(\"Azimuth Torque vs Angle - 11Apr23\", fontsize=18)\n",
    "plt.plot(azs, torques)\n",
    "#plt.plot([-160,160],[3.0,3.0], color='red', ls='--')\n",
    "#plt.plot([-160,160],[-3.0,-3.0], color='red', ls='--')\n",
    "plt.arrow(-140, 1.5, 50,0, width=0.1,head_length = 5.0, color='green')\n",
    "plt.arrow(140, -1.5, -50,0, width=0.1,head_length = 5.0, color='green')\n",
    "plt.ylim(-2.0,2.0)\n",
    "plt.xlabel(\"Azimuth(degrees)\")\n",
    "plt.ylabel(\"Torque (amps)\")\n",
    "plt.savefig(\"/home/craiglagegit/DATA/Azimuth_Torque_vs_Angle_11Apr23.pdf\")"
   ]
  },
  {
   "cell_type": "code",
   "execution_count": null,
   "metadata": {},
   "outputs": [],
   "source": []
  }
 ],
 "metadata": {
  "kernelspec": {
   "display_name": "LSST",
   "language": "python",
   "name": "lsst"
  },
  "language_info": {
   "codemirror_mode": {
    "name": "ipython",
    "version": 3
   },
   "file_extension": ".py",
   "mimetype": "text/x-python",
   "name": "python",
   "nbconvert_exporter": "python",
   "pygments_lexer": "ipython3",
   "version": "3.10.9"
  }
 },
 "nbformat": 4,
 "nbformat_minor": 4
}
