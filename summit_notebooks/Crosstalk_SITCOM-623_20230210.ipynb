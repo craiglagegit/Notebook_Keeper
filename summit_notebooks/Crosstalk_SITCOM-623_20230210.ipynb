{
 "cells": [
  {
   "cell_type": "markdown",
   "metadata": {},
   "source": [
    "# Take images for crosstalk determination\n",
    "\n",
    "This notebook will find a bright star and take saturated images with the star in each amp\\\n",
    "See SITCOM-623 \\\n",
    "Craig Lage - 12Feb23"
   ]
  },
  {
   "cell_type": "code",
   "execution_count": null,
   "metadata": {
    "execution": {
     "iopub.execute_input": "2023-02-15T19:31:01.892034Z",
     "iopub.status.busy": "2023-02-15T19:31:01.891771Z",
     "iopub.status.idle": "2023-02-15T19:31:05.403522Z",
     "shell.execute_reply": "2023-02-15T19:31:05.402897Z",
     "shell.execute_reply.started": "2023-02-15T19:31:01.892018Z"
    },
    "tags": []
   },
   "outputs": [],
   "source": [
    "import sys\n",
    "import asyncio\n",
    "import time\n",
    "import astropy\n",
    "import numpy as np\n",
    "import logging \n",
    "import yaml\n",
    "import os\n",
    "\n",
    "from lsst.ts import salobj\n",
    "from lsst.ts.idl.enums.Script import ScriptState\n",
    "from lsst.ts.externalscripts.auxtel.latiss_acquire_and_take_sequence import LatissAcquireAndTakeSequence\n",
    "import astropy.units as u\n",
    "from astropy.coordinates import Angle\n",
    "from astroquery.simbad import Simbad"
   ]
  },
  {
   "cell_type": "code",
   "execution_count": null,
   "metadata": {
    "execution": {
     "iopub.execute_input": "2023-02-16T01:03:23.798365Z",
     "iopub.status.busy": "2023-02-16T01:03:23.797977Z",
     "iopub.status.idle": "2023-02-16T01:03:23.802581Z",
     "shell.execute_reply": "2023-02-16T01:03:23.802062Z",
     "shell.execute_reply.started": "2023-02-16T01:03:23.798347Z"
    },
    "tags": []
   },
   "outputs": [],
   "source": [
    "stream_handler = logging.StreamHandler(sys.stdout)\n",
    "# if you want logging\n",
    "logger = logging.getLogger()\n",
    "logger.addHandler(stream_handler)\n",
    "logger.level = logging.INFO\n",
    "\n",
    "# turn off logging for matplotlib\n",
    "mpl_logger = logging.getLogger('matplotlib')\n",
    "mpl_logger.setLevel(logging.WARNING)"
   ]
  },
  {
   "cell_type": "code",
   "execution_count": null,
   "metadata": {
    "execution": {
     "iopub.execute_input": "2023-02-15T19:31:08.334667Z",
     "iopub.status.busy": "2023-02-15T19:31:08.334308Z",
     "iopub.status.idle": "2023-02-15T19:31:08.338783Z",
     "shell.execute_reply": "2023-02-15T19:31:08.338264Z",
     "shell.execute_reply.started": "2023-02-15T19:31:08.334647Z"
    },
    "tags": []
   },
   "outputs": [],
   "source": [
    "print(f'Your UID is {os.getuid()}')\n",
    "index=os.getuid()*10+np.random.randint(0,9)\n",
    "print(f'The generated index is {index}')"
   ]
  },
  {
   "cell_type": "code",
   "execution_count": null,
   "metadata": {
    "execution": {
     "iopub.execute_input": "2023-02-15T19:31:09.058024Z",
     "iopub.status.busy": "2023-02-15T19:31:09.057670Z",
     "iopub.status.idle": "2023-02-15T19:31:10.153711Z",
     "shell.execute_reply": "2023-02-15T19:31:10.153132Z",
     "shell.execute_reply.started": "2023-02-15T19:31:09.058007Z"
    },
    "jupyter": {
     "outputs_hidden": true
    },
    "tags": []
   },
   "outputs": [],
   "source": [
    "# We will use this script to acquire and center the star\n",
    "script = LatissAcquireAndTakeSequence(index=index)  # this essentially calls the init method"
   ]
  },
  {
   "cell_type": "code",
   "execution_count": null,
   "metadata": {
    "execution": {
     "iopub.execute_input": "2023-02-15T19:31:15.686861Z",
     "iopub.status.busy": "2023-02-15T19:31:15.686140Z",
     "iopub.status.idle": "2023-02-15T19:31:15.689559Z",
     "shell.execute_reply": "2023-02-15T19:31:15.688966Z",
     "shell.execute_reply.started": "2023-02-15T19:31:15.686839Z"
    },
    "tags": []
   },
   "outputs": [],
   "source": [
    "# make sure all remotes etc are running\n",
    "await script.start_task"
   ]
  },
  {
   "cell_type": "code",
   "execution_count": null,
   "metadata": {},
   "outputs": [],
   "source": [
    "# ATAOS must be on and corrections enabled, do as follows if required\n",
    "# await script.atcs.rem.ataos.cmd_enableCorrection.set_start(m1=True, hexapod=True, atspectrograph=True)"
   ]
  },
  {
   "cell_type": "markdown",
   "metadata": {},
   "source": [
    "# Find a bright target"
   ]
  },
  {
   "cell_type": "code",
   "execution_count": null,
   "metadata": {
    "execution": {
     "iopub.execute_input": "2023-02-16T00:32:00.571382Z",
     "iopub.status.busy": "2023-02-16T00:32:00.570987Z",
     "iopub.status.idle": "2023-02-16T00:32:00.575060Z",
     "shell.execute_reply": "2023-02-16T00:32:00.574540Z",
     "shell.execute_reply.started": "2023-02-16T00:32:00.571363Z"
    },
    "tags": []
   },
   "outputs": [],
   "source": [
    "#target_name = await script.atcs.find_target(az=90.0,el=60,mag_limit=9.0)\n",
    "target_name = 'HD25025'\n",
    "print(target_name)\n",
    "\n",
    "#Here's a list of possible targets For early Wed, 15-Feb-23\n",
    "# Last time (Feb, 2021) we used a very bright start (m~2.5) and 2 second exposures\n",
    "# Maybe using an m=7 star and 30 second exposures is a bad idea\n",
    "\n",
    "#HD37286 - m=6.4 - Good\n",
    "#HD37430 - m=6.4 - Good\n",
    "#HD25025 - m=2.95 much brighter Good\n",
    "#HD32887 - m=3.15 Also good\n",
    "#HD36673 - m=2.55 very bright"
   ]
  },
  {
   "cell_type": "markdown",
   "metadata": {},
   "source": [
    "# Make sure there are no bright stars nearby"
   ]
  },
  {
   "cell_type": "markdown",
   "metadata": {},
   "source": [
    "# Now acquire the object and the script will center it in the field"
   ]
  },
  {
   "cell_type": "code",
   "execution_count": null,
   "metadata": {
    "execution": {
     "iopub.execute_input": "2023-02-16T01:05:22.891594Z",
     "iopub.status.busy": "2023-02-16T01:05:22.891219Z",
     "iopub.status.idle": "2023-02-16T01:05:22.894847Z",
     "shell.execute_reply": "2023-02-16T01:05:22.894279Z",
     "shell.execute_reply.started": "2023-02-16T01:05:22.891577Z"
    },
    "tags": []
   },
   "outputs": [],
   "source": [
    "# Needed to run the script a 2nd time \n",
    "await script.set_state(ScriptState.UNCONFIGURED)"
   ]
  },
  {
   "cell_type": "code",
   "execution_count": null,
   "metadata": {
    "execution": {
     "iopub.execute_input": "2023-02-16T01:05:24.332021Z",
     "iopub.status.busy": "2023-02-16T01:05:24.331638Z",
     "iopub.status.idle": "2023-02-16T01:05:24.345624Z",
     "shell.execute_reply": "2023-02-16T01:05:24.344999Z",
     "shell.execute_reply.started": "2023-02-16T01:05:24.332003Z"
    },
    "tags": []
   },
   "outputs": [],
   "source": [
    "configuration = yaml.safe_dump({\"object_name\": target_name,\n",
    "                                \"do_acquire\": True,\n",
    "                                \"acq_filter\" : 'SDSSr_65mm',\n",
    "                                \"acq_grating\" : 'empty_1',\n",
    "                                \"do_take_sequence\": False})\n",
    "print(configuration)"
   ]
  },
  {
   "cell_type": "code",
   "execution_count": null,
   "metadata": {
    "execution": {
     "iopub.execute_input": "2023-02-16T01:05:27.700671Z",
     "iopub.status.busy": "2023-02-16T01:05:27.700256Z",
     "iopub.status.idle": "2023-02-16T01:05:28.420941Z",
     "shell.execute_reply": "2023-02-16T01:05:28.420331Z",
     "shell.execute_reply.started": "2023-02-16T01:05:27.700653Z"
    },
    "tags": []
   },
   "outputs": [],
   "source": [
    "config_data = script.cmd_configure.DataType()\n",
    "config_data.config = configuration\n",
    "await script.do_configure(config_data)"
   ]
  },
  {
   "cell_type": "code",
   "execution_count": null,
   "metadata": {
    "execution": {
     "iopub.execute_input": "2023-02-16T01:25:53.625682Z",
     "iopub.status.busy": "2023-02-16T01:25:53.625322Z",
     "iopub.status.idle": "2023-02-16T01:25:53.630264Z",
     "shell.execute_reply": "2023-02-16T01:25:53.629667Z",
     "shell.execute_reply.started": "2023-02-16T01:25:53.625663Z"
    },
    "tags": []
   },
   "outputs": [],
   "source": [
    "# These commands were only used to diagnose a problem with the dome\n",
    "await script.atcs.disable_dome_following()"
   ]
  },
  {
   "cell_type": "code",
   "execution_count": null,
   "metadata": {
    "execution": {
     "iopub.execute_input": "2023-02-16T01:35:24.836769Z",
     "iopub.status.busy": "2023-02-16T01:35:24.836387Z",
     "iopub.status.idle": "2023-02-16T01:35:24.841761Z",
     "shell.execute_reply": "2023-02-16T01:35:24.841020Z",
     "shell.execute_reply.started": "2023-02-16T01:35:24.836751Z"
    },
    "tags": []
   },
   "outputs": [],
   "source": [
    "# These commands were only used to diagnose a problem with the dome\n",
    "await script.atcs.enable_dome_following()"
   ]
  },
  {
   "cell_type": "code",
   "execution_count": null,
   "metadata": {
    "execution": {
     "iopub.execute_input": "2023-02-16T01:05:32.282231Z",
     "iopub.status.busy": "2023-02-16T01:05:32.281923Z",
     "iopub.status.idle": "2023-02-16T01:06:26.623396Z",
     "shell.execute_reply": "2023-02-16T01:06:26.622778Z",
     "shell.execute_reply.started": "2023-02-16T01:05:32.282212Z"
    },
    "jupyter": {
     "outputs_hidden": true
    },
    "tags": []
   },
   "outputs": [],
   "source": [
    "# Run the script\n",
    "group_id_data = script.cmd_setGroupId.DataType(\n",
    "                groupId=astropy.time.Time.now().isot\n",
    "            )\n",
    "await script.do_setGroupId(group_id_data)\n",
    "\n",
    "run_data = script.cmd_run.DataType()\n",
    "await script.arun()"
   ]
  },
  {
   "cell_type": "code",
   "execution_count": null,
   "metadata": {
    "tags": []
   },
   "outputs": [],
   "source": [
    "# Center if necessary\n",
    "#await script.atcs.offset_xy(x=-30, y=-20) # Move to upper left amp\n",
    "#await script.latiss.take_object(exptime=5.0, n=1, filter='SDSSr_65mm',grating='empty_1')"
   ]
  },
  {
   "cell_type": "markdown",
   "metadata": {
    "tags": []
   },
   "source": [
    "# Now take an image.\n",
    "## Verify that the star is centered in the field and that the image is saturated.\n",
    "## If it is not saturated, increase the exposure time until it is."
   ]
  },
  {
   "cell_type": "code",
   "execution_count": null,
   "metadata": {
    "execution": {
     "iopub.execute_input": "2023-02-16T01:14:54.906129Z",
     "iopub.status.busy": "2023-02-16T01:14:54.905602Z",
     "iopub.status.idle": "2023-02-16T01:15:13.002067Z",
     "shell.execute_reply": "2023-02-16T01:15:13.001425Z",
     "shell.execute_reply.started": "2023-02-16T01:14:54.906110Z"
    },
    "tags": []
   },
   "outputs": [],
   "source": [
    "expTime = 5.0 # Took a series at 1.0 seconds and a series at 5.0 seconds\n",
    "await script.latiss.take_object(exptime=expTime, n=1, filter='SDSSr_65mm',grating='empty_1')"
   ]
  },
  {
   "cell_type": "markdown",
   "metadata": {
    "tags": []
   },
   "source": [
    "# Now center the star in the upper right amp and take another image\n",
    "## Verify that the star is approximately centered in the upper right amp."
   ]
  },
  {
   "cell_type": "code",
   "execution_count": null,
   "metadata": {
    "execution": {
     "iopub.execute_input": "2023-02-16T01:14:23.702976Z",
     "iopub.status.busy": "2023-02-16T01:14:23.702591Z",
     "iopub.status.idle": "2023-02-16T01:14:43.885420Z",
     "shell.execute_reply": "2023-02-16T01:14:43.884860Z",
     "shell.execute_reply.started": "2023-02-16T01:14:23.702958Z"
    },
    "tags": []
   },
   "outputs": [],
   "source": [
    "await script.atcs.offset_xy(x=0, y=-200) # Move to upper left amp\n",
    "await script.latiss.take_object(exptime=expTime, n=1, filter='SDSSr_65mm',grating='empty_1')"
   ]
  },
  {
   "cell_type": "markdown",
   "metadata": {
    "tags": []
   },
   "source": [
    "# Now run the loop to walk the star through all 16 amps\n",
    "## Verify that each of the 16 images has the star approximately centered in the 16 amps"
   ]
  },
  {
   "cell_type": "code",
   "execution_count": null,
   "metadata": {
    "execution": {
     "iopub.execute_input": "2023-02-16T01:15:32.023104Z",
     "iopub.status.busy": "2023-02-16T01:15:32.022404Z",
     "iopub.status.idle": "2023-02-16T01:21:34.332981Z",
     "shell.execute_reply": "2023-02-16T01:21:34.332491Z",
     "shell.execute_reply.started": "2023-02-16T01:15:32.023073Z"
    },
    "jupyter": {
     "outputs_hidden": true
    },
    "tags": []
   },
   "outputs": [],
   "source": [
    "for i in range(2):\n",
    "    if i == 0:\n",
    "        direction = 1.0\n",
    "    else:\n",
    "        direction = -1.0\n",
    "        await script.atcs.offset_xy(x=0, y=200) # Shift to bottom amps\n",
    "        await script.latiss.take_object(exptime=expTime, n=1, filter='SDSSr_65mm',grating='empty_1')\n",
    "    for j in range(7):\n",
    "        await script.atcs.offset_xy(x=direction*50.9, y=0) # Shift to next amp\n",
    "        await script.latiss.take_object(exptime=expTime, n=1, filter='SDSSr_65mm',grating='empty_1')"
   ]
  },
  {
   "cell_type": "markdown",
   "metadata": {},
   "source": [
    "## If the 16 images are good, then we are done."
   ]
  },
  {
   "cell_type": "code",
   "execution_count": null,
   "metadata": {},
   "outputs": [],
   "source": [
    "await script.atcs.stop_tracking()"
   ]
  },
  {
   "cell_type": "code",
   "execution_count": null,
   "metadata": {
    "execution": {
     "iopub.execute_input": "2023-02-16T01:33:20.453545Z",
     "iopub.status.busy": "2023-02-16T01:33:20.453165Z",
     "iopub.status.idle": "2023-02-16T01:33:20.459282Z",
     "shell.execute_reply": "2023-02-16T01:33:20.458701Z",
     "shell.execute_reply.started": "2023-02-16T01:33:20.453526Z"
    },
    "tags": []
   },
   "outputs": [],
   "source": [
    "# This was used to diagnose a problem with the dome\n",
    "await script.atcs.rem.atdome.cmd_exitControl.start()"
   ]
  },
  {
   "cell_type": "code",
   "execution_count": null,
   "metadata": {},
   "outputs": [],
   "source": []
  }
 ],
 "metadata": {
  "kernelspec": {
   "display_name": "LSST",
   "language": "python",
   "name": "lsst"
  },
  "language_info": {
   "codemirror_mode": {
    "name": "ipython",
    "version": 3
   },
   "file_extension": ".py",
   "mimetype": "text/x-python",
   "name": "python",
   "nbconvert_exporter": "python",
   "pygments_lexer": "ipython3",
   "version": "3.10.9"
  }
 },
 "nbformat": 4,
 "nbformat_minor": 4
}
