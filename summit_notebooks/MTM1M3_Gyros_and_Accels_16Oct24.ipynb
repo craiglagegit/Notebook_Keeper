{
 "cells": [
  {
   "cell_type": "markdown",
   "metadata": {},
   "source": [
    "# Query the EFD\n",
    "\n",
    "Craig Lage - 06-Aug-24"
   ]
  },
  {
   "cell_type": "code",
   "execution_count": null,
   "metadata": {
    "execution": {
     "iopub.execute_input": "2024-10-16T15:47:35.862835Z",
     "iopub.status.busy": "2024-10-16T15:47:35.862471Z",
     "iopub.status.idle": "2024-10-16T15:47:36.672155Z",
     "shell.execute_reply": "2024-10-16T15:47:36.671594Z",
     "shell.execute_reply.started": "2024-10-16T15:47:35.862815Z"
    },
    "tags": []
   },
   "outputs": [],
   "source": [
    "import sys, time, os, asyncio, glob\n",
    "import numpy as np\n",
    "import pandas as pd\n",
    "import matplotlib.pyplot as plt\n",
    "from astropy.time import Time, TimeDelta\n",
    "from lsst_efd_client import EfdClient"
   ]
  },
  {
   "cell_type": "code",
   "execution_count": null,
   "metadata": {
    "execution": {
     "iopub.execute_input": "2024-10-16T15:47:36.989088Z",
     "iopub.status.busy": "2024-10-16T15:47:36.988610Z",
     "iopub.status.idle": "2024-10-16T15:47:39.157008Z",
     "shell.execute_reply": "2024-10-16T15:47:39.156456Z",
     "shell.execute_reply.started": "2024-10-16T15:47:36.989066Z"
    },
    "tags": []
   },
   "outputs": [],
   "source": [
    "client = EfdClient('summit_efd') # 'usdf_efd' at USDF"
   ]
  },
  {
   "cell_type": "markdown",
   "metadata": {},
   "source": [
    "# Get the data and plot"
   ]
  },
  {
   "cell_type": "code",
   "execution_count": null,
   "metadata": {
    "execution": {
     "iopub.execute_input": "2024-10-16T19:11:42.405818Z",
     "iopub.status.busy": "2024-10-16T19:11:42.405475Z",
     "iopub.status.idle": "2024-10-16T19:11:54.464810Z",
     "shell.execute_reply": "2024-10-16T19:11:54.464034Z",
     "shell.execute_reply.started": "2024-10-16T19:11:42.405799Z"
    }
   },
   "outputs": [],
   "source": [
    "start = Time(\"2024-10-16T18:24:00\", scale='utc')\n",
    "end = Time(\"2024-10-16T19:00:00\", scale='utc')\n",
    "gyro = await client.select_time_series(\"lsst.sal.MTM1M3.gyroData\", \\\n",
    "                                            ['*'], \\\n",
    "                                             start, end)\n",
    "acc = await client.select_time_series(\"lsst.sal.MTM1M3.accelerometerData\", \\\n",
    "                                            ['*'], \\\n",
    "                                             start, end)\n",
    "mtMount = await client.select_time_series(\"lsst.sal.MTMount.azimuth\", \\\n",
    "                                            ['*'], \\\n",
    "                                             start, end)\n"
   ]
  },
  {
   "cell_type": "code",
   "execution_count": null,
   "metadata": {
    "execution": {
     "iopub.execute_input": "2024-10-16T19:11:57.249849Z",
     "iopub.status.busy": "2024-10-16T19:11:57.249474Z",
     "iopub.status.idle": "2024-10-16T19:12:09.882130Z",
     "shell.execute_reply": "2024-10-16T19:12:09.881652Z",
     "shell.execute_reply.started": "2024-10-16T19:11:57.249831Z"
    }
   },
   "outputs": [],
   "source": [
    "fig = plt.figure(figsize=(10,8))\n",
    "plt.subplots_adjust(hspace=0.5)\n",
    "plt.subplot(2,3,1)\n",
    "plt.title('Azimuth position', fontsize=18)\n",
    "mtMount['actualPosition'].plot()\n",
    "plt.subplot(2,3,2)\n",
    "plt.title('Azimuth velocity', fontsize=18)\n",
    "mtMount['actualVelocity'].plot()\n",
    "plt.ylim(0.20, -0.20)\n",
    "plt.subplot(2,3,3)\n",
    "plt.title('Azimuth acceleration', fontsize=18)\n",
    "mtMount['actualAcceleration'].plot()\n",
    "plt.ylim(-5.0, 5.0)\n",
    "plt.subplot(2,3,5)\n",
    "plt.title('MTM1M3 Gyros', fontsize=18) \n",
    "axes = ['X', 'Y', 'Z']\n",
    "for axis in axes:\n",
    "    gyro[f'angularVelocity{axis}'].plot(label=f'{axis}')\n",
    "plt.legend(bbox_to_anchor=(-0.1, 0.8))\n",
    "plt.subplot(2,3,6)\n",
    "plt.title('MTM1M3 Accels', fontsize=18) \n",
    "for i in range(8):\n",
    "    acc[f'accelerometer{i}'].plot(label=f'{i}')\n",
    "plt.ylim(-0.2, 0.2)\n",
    "plt.legend(bbox_to_anchor=(1.05, 0.9))\n",
    "\n",
    "plt.savefig(\"/home/cslage/DATA/MTM13_Gyros_Accels_16Oct24.png\")"
   ]
  },
  {
   "cell_type": "code",
   "execution_count": null,
   "metadata": {},
   "outputs": [],
   "source": []
  }
 ],
 "metadata": {
  "kernelspec": {
   "display_name": "LSST",
   "language": "python",
   "name": "lsst"
  },
  "language_info": {
   "codemirror_mode": {
    "name": "ipython",
    "version": 3
   },
   "file_extension": ".py",
   "mimetype": "text/x-python",
   "name": "python",
   "nbconvert_exporter": "python",
   "pygments_lexer": "ipython3",
   "version": "3.11.10"
  }
 },
 "nbformat": 4,
 "nbformat_minor": 4
}
