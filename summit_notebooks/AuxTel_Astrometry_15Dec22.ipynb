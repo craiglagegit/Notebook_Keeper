{
 "cells": [
  {
   "cell_type": "markdown",
   "id": "b1860733-8579-4373-9add-40720bd2e41f",
   "metadata": {},
   "source": [
    "## Measuring shift on AuxTel Hysteresis run - 12-Dec-22\n",
    "\n",
    "Craig Lage"
   ]
  },
  {
   "cell_type": "code",
   "execution_count": null,
   "id": "61f6538a-7a03-4fbf-976c-577f14fff9cc",
   "metadata": {
    "execution": {
     "iopub.execute_input": "2022-12-15T22:50:04.334751Z",
     "iopub.status.busy": "2022-12-15T22:50:04.334592Z",
     "iopub.status.idle": "2022-12-15T22:50:07.481696Z",
     "shell.execute_reply": "2022-12-15T22:50:07.481013Z",
     "shell.execute_reply.started": "2022-12-15T22:50:04.334735Z"
    },
    "tags": []
   },
   "outputs": [],
   "source": [
    "import sys, time, os, asyncio, glob\n",
    "\n",
    "from datetime import datetime\n",
    "import numpy as np\n",
    "import matplotlib.pyplot as plt\n",
    "import astropy.io.fits as pf\n",
    "from astropy.time import Time, TimeDelta\n",
    "from astropy.coordinates import AltAz, ICRS, EarthLocation, Angle, FK5\n",
    "import astropy.units as u\n",
    "from astropy.table import Table\n",
    "from astroquery.astrometry_net import AstrometryNet\n",
    "from lsst.obs.lsst.translators.latiss import AUXTEL_LOCATION\n",
    "from lsst.summit.utils import BestEffortIsr\n",
    "from lsst.daf.butler import Butler\n",
    "from lsst.pipe.tasks.characterizeImage import CharacterizeImageTask, CharacterizeImageConfig"
   ]
  },
  {
   "cell_type": "code",
   "execution_count": null,
   "id": "c23fbc40-2570-498c-8428-b2e7470aa356",
   "metadata": {
    "tags": []
   },
   "outputs": [],
   "source": [
    "butler = Butler('/repo/LATISS', collections=[\"LATISS/raw/all\", \"LATISS/calib\"])\n",
    "best_effort_isr = BestEffortIsr()"
   ]
  },
  {
   "cell_type": "code",
   "execution_count": null,
   "id": "0b4fb075-e551-473f-9db7-a3120023cc29",
   "metadata": {
    "tags": []
   },
   "outputs": [],
   "source": [
    "# Run one just to get it working\n",
    "exposure = 2022121300200\n",
    "dataId = {'exposure':exposure, 'detector':0, \"instrument\":'LATISS'}\n",
    "best_effort_isr.doWrite = False  # Don't write to butler database\n",
    "exp = best_effort_isr.getExposure(dataId, skipCosmics=False)"
   ]
  },
  {
   "cell_type": "code",
   "execution_count": null,
   "id": "7673f052-ce56-4319-a628-1f71ca4f9151",
   "metadata": {
    "tags": []
   },
   "outputs": [],
   "source": [
    "charConfig = CharacterizeImageConfig()\n",
    "charConfig.doMeasurePsf = False\n",
    "charConfig.doApCorr = False\n",
    "charConfig.doDeblend = False\n",
    "charConfig.repair.doCosmicRay = True\n",
    "charConfig.repair.doInterpolate = True   \n",
    "charConfig.detection.minPixels = 500\n",
    "charTask = CharacterizeImageTask(config=charConfig)\n",
    "\n",
    "mData = exp.getMetadata()\n",
    "charResult = charTask.run(exp)\n",
    "sourceCatalog = charResult.sourceCat\n",
    "maxFlux = np.nanmax(sourceCatalog['base_CircularApertureFlux_3_0_instFlux'])\n",
    "selectBrightestSource = sourceCatalog['base_CircularApertureFlux_3_0_instFlux'] > maxFlux * 0.99\n",
    "brightestSource = sourceCatalog.subset(selectBrightestSource)\n",
    "brightestCentroid = (brightestSource['base_SdssCentroid_x'][0], \\\n",
    "                     brightestSource['base_SdssCentroid_y'][0])\n",
    "brightCatalog = sourceCatalog.subset(sourceCatalog['base_CircularApertureFlux_3_0_instFlux'] > maxFlux * 0.001)\n",
    "print(f\"exposure:{exposure}. Found {len(sourceCatalog)} sources, {len(brightCatalog)} bright sources\")\n",
    "print(f\"Brightest centroid at {brightestCentroid}\")\n",
    "pixelScale = exp.getWcs().getPixelScale().asArcseconds()\n",
    "detectorCenter = (2048.5, 2000.5)\n",
    "xoff = (brightestCentroid[0] - detectorCenter[0]) * pixelScale\n",
    "yoff = (brightestCentroid[1] - detectorCenter[1]) * pixelScale\n",
    "off = np.sqrt(xoff*xoff + yoff*yoff)\n",
    "\n",
    "rotpa = Angle(mData['ROTPA']*u.deg)\n",
    "el = Angle(mData['ELSTART'] * u.deg)\n",
    "az = Angle(mData['AZSTART'] * u.deg)\n",
    "dec = Angle(mData['DECSTART'] * u.deg)\n",
    "sinTheta =  np.cos(AUXTEL_LOCATION.lat) / np.cos(dec) * np.sin(az)\n",
    "theta = Angle(np.arcsin(sinTheta))\n",
    "rotAzEl = rotpa - theta - Angle(90.0 * u.deg)   \n",
    "offset = (off * np.cos(rotAzEl), off * np.sin(rotAzEl))\n",
    "print(f\"Az_offset = {offset[0]} arcseconds, El_offset = {offset[1]} arcseconds\")"
   ]
  },
  {
   "cell_type": "code",
   "execution_count": null,
   "id": "636d1d57-082d-4e57-8c34-121734dbd5ae",
   "metadata": {
    "tags": []
   },
   "outputs": [],
   "source": [
    "cat = brightCatalog\n",
    "from matplotlib.colors import LogNorm\n",
    "%matplotlib inline\n",
    "Ncenter = (700, 900)\n",
    "Nlength = 500.0\n",
    "NcenterAzEl = (3200, 700)\n",
    "Nlabel = 650.0\n",
    "yShift = 150.0\n",
    "\n",
    "plt.figure(figsize=(16,16))\n",
    "plt.title(f\"AuxTel Azimuth hysteresis, {exposure}\", fontsize = 24)\n",
    "arr = exp.image.array\n",
    "arr = np.clip(arr, 1, 100000) # This image has some negative values, and this removes them\n",
    "img = plt.imshow(arr, norm=LogNorm(vmin=1, vmax=1000),  interpolation='Nearest', cmap='gray')\n",
    "\n",
    "plt.scatter(brightestCentroid[0],brightestCentroid[1]\\\n",
    "            ,color='red', marker='x', s=1000)\n",
    "\n",
    "rotpa = Angle(mData['ROTPA']*u.deg)\n",
    "plt.arrow(Ncenter[0],Ncenter[1], -Nlength*np.sin(rotpa), Nlength*np.cos(rotpa),\\\n",
    "    color='green', width = 20)\n",
    "plt.text(Ncenter[0]-Nlabel*np.sin(rotpa),Ncenter[1]+Nlabel*np.cos(rotpa), 'N', \\\n",
    "    color='green', fontsize=12, weight='bold')\n",
    "plt.arrow(Ncenter[0],Ncenter[1], Nlength*np.cos(rotpa), Nlength*np.sin(rotpa),\\\n",
    "    color='green', width = 20)\n",
    "plt.text(Ncenter[0]+Nlabel*np.cos(rotpa),Ncenter[1]+Nlabel*np.sin(rotpa), 'E', \\\n",
    "    color='green', fontsize=12, weight='bold')\n",
    "\n",
    "el = Angle(mData['ELSTART'] * u.deg)\n",
    "az = Angle(mData['AZSTART'] * u.deg)\n",
    "dec = Angle(mData['DECSTART'] * u.deg)\n",
    "sinTheta =  np.cos(AUXTEL_LOCATION.lat) / np.cos(dec) * np.sin(az)\n",
    "theta = Angle(np.arcsin(sinTheta))\n",
    "rotAzEl = rotpa - theta - Angle(90.0 * u.deg)   \n",
    "print(theta.deg, rotpa.deg, rotAzEl.deg)\n",
    "plt.arrow(NcenterAzEl[0],NcenterAzEl[1], -Nlength*np.sin(rotAzEl), Nlength*np.cos(rotAzEl),\\\n",
    "    color='cyan', width = 20)\n",
    "plt.text(NcenterAzEl[0]-Nlabel*np.sin(rotAzEl),NcenterAzEl[1]+Nlabel*np.cos(rotAzEl), 'EL', \\\n",
    "    color='cyan', fontsize=12, weight='bold')\n",
    "plt.arrow(NcenterAzEl[0],NcenterAzEl[1], Nlength*np.cos(rotAzEl), Nlength*np.sin(rotAzEl),\\\n",
    "    color='cyan', width = 20)\n",
    "plt.text(NcenterAzEl[0]+Nlabel*np.cos(rotAzEl),NcenterAzEl[1]+Nlabel*np.sin(rotAzEl), 'AZ', \\\n",
    "    color='cyan', fontsize=12, weight='bold')\n",
    "\n",
    "plt.text(brightestCentroid[0]-200.0,brightestCentroid[1] - 200.0,  \\\n",
    "    f\"Az_offset = {offset[0]:.2f} arcseconds, El_offset = {offset[1]:.2f} arcseconds\", \\\n",
    "         color='yellow', fontsize=12, weight='bold')\n",
    "\n",
    "plt.savefig(f\"/home/craiglagegit/DATA/AuxTel_Azimuth_Hysteresis_{exposure}_13Dec22.pdf\")"
   ]
  },
  {
   "cell_type": "code",
   "execution_count": null,
   "id": "a97cacd0-ea6a-41b9-ab5c-100e0e60a41f",
   "metadata": {
    "tags": []
   },
   "outputs": [],
   "source": [
    "# Now run them all\n",
    "\n",
    "\n",
    "outfile = \"/home/craiglagegit/DATA/AuxTel_Azimuth_Hysteresis_13Dec22.txt\"\n",
    "file = open(outfile, \"w\")\n",
    "file.write(\"Exposure\\tAz(degrees)\\tEl(degrees)\\tDeltaAz(sec)\\tDeltaEl(sec)\\n\")\n",
    "for exposure in range(2022121300011, 2022121300322):\n",
    "    dataId = {'exposure':exposure, 'detector':0, \"instrument\":'LATISS'}\n",
    "    best_effort_isr.doWrite = False  # Don't write to butler database\n",
    "    exp = best_effort_isr.getExposure(dataId, skipCosmics=False)\n",
    "    mData = exp.getMetadata()\n",
    "    rotpa = Angle(mData['ROTPA']*u.deg)\n",
    "    el = Angle(mData['ELSTART'] * u.deg)\n",
    "    az = Angle(mData['AZSTART'] * u.deg)\n",
    "    dec = Angle(mData['DECSTART'] * u.deg)\n",
    "    sinTheta =  np.cos(AUXTEL_LOCATION.lat) / np.cos(dec) * np.sin(az)\n",
    "    theta = Angle(np.arcsin(sinTheta))\n",
    "    rotAzEl = rotpa - theta - Angle(90.0 * u.deg)   \n",
    "    az = mData[\"AZSTART\"]\n",
    "    el = mData[\"ELSTART\"]\n",
    "\n",
    "    pixelScale = exp.getWcs().getPixelScale().asArcseconds()\n",
    "    detectorCenter = (2048.5, 2000.5)\n",
    "\n",
    "    charResult = charTask.run(exp)\n",
    "    sourceCatalog = charResult.sourceCat\n",
    "    maxFlux = np.nanmax(sourceCatalog['base_CircularApertureFlux_3_0_instFlux'])\n",
    "    selectBrightestSource = sourceCatalog['base_CircularApertureFlux_3_0_instFlux'] > maxFlux * 0.99\n",
    "    brightestSource = sourceCatalog.subset(selectBrightestSource)\n",
    "    brightestCentroid = (brightestSource['base_SdssCentroid_x'][0], \\\n",
    "                         brightestSource['base_SdssCentroid_y'][0])\n",
    "    brightCatalog = sourceCatalog.subset(sourceCatalog['base_CircularApertureFlux_3_0_instFlux'] > maxFlux * 0.001)\n",
    "    print(f\"exposure:{exposure}. Found {len(sourceCatalog)} sources, {len(brightCatalog)} bright sources\")\n",
    "    print(f\"Brightest centroid at {brightestCentroid}\")\n",
    "    xoff = (brightestCentroid[0] - detectorCenter[0]) * pixelScale\n",
    "    yoff = (brightestCentroid[1] - detectorCenter[1]) * pixelScale\n",
    "    off = np.sqrt(xoff*xoff + yoff*yoff)\n",
    "\n",
    "    offset = (off * np.cos(rotAzEl), off * np.sin(rotAzEl))\n",
    "    print(f\"Az_offset = {offset[0]} arcseconds, El_offset = {offset[1]} arcseconds\")\n",
    "    file.write(f\"{exposure}\\t{az:.4f}\\t{el:.4f}\\t{offset[0]:.2f}\\t{offset[1]:.2f}\\n\")\n",
    "file.close()"
   ]
  },
  {
   "cell_type": "code",
   "execution_count": null,
   "id": "4ef34166-be53-49ef-ae4d-f59feb9a8db9",
   "metadata": {
    "execution": {
     "iopub.execute_input": "2022-12-15T22:50:14.256074Z",
     "iopub.status.busy": "2022-12-15T22:50:14.255701Z",
     "iopub.status.idle": "2022-12-15T22:50:14.262509Z",
     "shell.execute_reply": "2022-12-15T22:50:14.262027Z",
     "shell.execute_reply.started": "2022-12-15T22:50:14.256056Z"
    },
    "tags": []
   },
   "outputs": [],
   "source": [
    "# Now read in the data and plot it.\n",
    "outfile = \"/home/craiglagegit/DATA/AuxTel_Azimuth_Hysteresis_Large_13Dec22.txt\"\n",
    "data = np.loadtxt(outfile, skiprows=1)\n",
    "exposures = []\n",
    "Azs = []\n",
    "Els = []\n",
    "deltaAzs = []\n",
    "deltaEls = []\n",
    "for j in range(data.shape[0]):\n",
    "    [exposure, Az, El, deltaAz, deltaEl] = data[j]\n",
    "    Azs.append(Az)\n",
    "    Els.append(El)\n",
    "    deltaAzs.append(deltaAz)\n",
    "    deltaEls.append(deltaEl)\n",
    "    exposures.append(exposure - 2022121300000)\n"
   ]
  },
  {
   "cell_type": "code",
   "execution_count": null,
   "id": "2d0c5b8a-a47b-4df5-9d5a-68ad9891e8c3",
   "metadata": {
    "execution": {
     "iopub.execute_input": "2022-12-15T22:50:28.728816Z",
     "iopub.status.busy": "2022-12-15T22:50:28.728442Z",
     "iopub.status.idle": "2022-12-15T22:50:29.109917Z",
     "shell.execute_reply": "2022-12-15T22:50:29.109349Z",
     "shell.execute_reply.started": "2022-12-15T22:50:28.728796Z"
    },
    "tags": []
   },
   "outputs": [],
   "source": [
    "%matplotlib inline\n",
    "plt.figure(figsize=(8, 10))\n",
    "plt.subplots_adjust(hspace = 0.5)\n",
    "plt.subplot(2,1,1)\n",
    "plt.title(f\"AuxTel Azimuth Hysteresis DeltaAz\", fontsize = 24)\n",
    "plt.scatter(exposures, deltaAzs)\n",
    "plt.xlabel(\"Sequence Number\")\n",
    "plt.ylabel(\"DeltaAz (arcseconds)\")\n",
    "#plt.xlim(273, 280)\n",
    "plt.subplot(2,1,2)\n",
    "plt.title(f\"AuxTel Elevation Hysteresis DeltaEl\", fontsize = 24)\n",
    "plt.scatter(exposures, deltaEls)\n",
    "plt.xlabel(\"Sequence Number\")\n",
    "plt.ylabel(\"DeltaEl (arcseconds)\")\n",
    "plt.savefig(f\"/home/craiglagegit/DATA/AuxTel_Azimuth_Hysteresis_13Dec22.pdf\")"
   ]
  },
  {
   "cell_type": "code",
   "execution_count": null,
   "id": "8a5bf88c-2c51-4a21-b23d-ed5a7e8bbac2",
   "metadata": {
    "execution": {
     "iopub.execute_input": "2022-12-15T22:50:33.793346Z",
     "iopub.status.busy": "2022-12-15T22:50:33.792852Z",
     "iopub.status.idle": "2022-12-15T22:50:34.143725Z",
     "shell.execute_reply": "2022-12-15T22:50:34.143273Z",
     "shell.execute_reply.started": "2022-12-15T22:50:33.793307Z"
    },
    "tags": []
   },
   "outputs": [],
   "source": [
    "plt.figure(figsize=(8, 10))\n",
    "plt.subplots_adjust(hspace = 0.5)\n",
    "plt.subplot(2,1,1)\n",
    "plt.title(f\"AuxTel Azimuth\", fontsize = 24)\n",
    "plt.scatter(exposures, Azs)\n",
    "plt.xlabel(\"Sequence Number\")\n",
    "plt.ylabel(\"Az(degrees)\")\n",
    "plt.subplot(2,1,2)\n",
    "plt.title(f\"AuxTel Elevation \", fontsize = 24)\n",
    "plt.scatter(exposures, Els)\n",
    "plt.xlabel(\"Sequence Number\")\n",
    "plt.ylabel(\"El(degrees)\")\n",
    "plt.savefig(f\"/home/craiglagegit/DATA/AuxTel_Azimuth_Hysteresis_Images_13Dec22.pdf\")"
   ]
  },
  {
   "cell_type": "code",
   "execution_count": null,
   "id": "8cdb2783-4e27-4e54-b75e-75ad0641d59e",
   "metadata": {
    "execution": {
     "iopub.execute_input": "2022-12-15T22:51:35.338489Z",
     "iopub.status.busy": "2022-12-15T22:51:35.338190Z",
     "iopub.status.idle": "2022-12-15T22:51:35.343317Z",
     "shell.execute_reply": "2022-12-15T22:51:35.342906Z",
     "shell.execute_reply.started": "2022-12-15T22:51:35.338472Z"
    },
    "jupyter": {
     "outputs_hidden": true
    },
    "tags": []
   },
   "outputs": [],
   "source": [
    "# Use this to set the pos and neg exposures.\n",
    "for i in range(len(exposures)):\n",
    "    print(i, exposures[i], Azs[i])"
   ]
  },
  {
   "cell_type": "code",
   "execution_count": null,
   "id": "a816e5d6-1400-442b-9482-c9ea6a5d6079",
   "metadata": {
    "execution": {
     "iopub.execute_input": "2022-12-15T22:51:42.608750Z",
     "iopub.status.busy": "2022-12-15T22:51:42.608133Z",
     "iopub.status.idle": "2022-12-15T22:51:42.612857Z",
     "shell.execute_reply": "2022-12-15T22:51:42.612437Z",
     "shell.execute_reply.started": "2022-12-15T22:51:42.608723Z"
    },
    "tags": []
   },
   "outputs": [],
   "source": [
    "# Set the positive and negative exposures.\n",
    "Az_pos = Azs[0:33] + Azs[63:96] + Azs[123:153]\n",
    "DeltaAz_pos = deltaAzs[0:33] + deltaAzs[63:96] + deltaAzs[123:153]\n",
    "Az_neg = Azs[33:63] + Azs[96:123] + Azs[153:183]\n",
    "DeltaAz_neg = deltaAzs[33:63] + deltaAzs[96:123] + deltaAzs[153:183]\n",
    "exp_pos = exposures[0:33] + exposures[63:96] + exposures[123:153]\n",
    "exp_neg = exposures[33:63] + exposures[96:123] + exposures[153:183]"
   ]
  },
  {
   "cell_type": "code",
   "execution_count": null,
   "id": "6ac7ba65-3eab-4ecc-a7b8-53e54a4a9ae2",
   "metadata": {
    "execution": {
     "iopub.execute_input": "2022-12-15T22:51:46.293327Z",
     "iopub.status.busy": "2022-12-15T22:51:46.292828Z",
     "iopub.status.idle": "2022-12-15T22:51:46.527192Z",
     "shell.execute_reply": "2022-12-15T22:51:46.526773Z",
     "shell.execute_reply.started": "2022-12-15T22:51:46.293305Z"
    },
    "tags": []
   },
   "outputs": [],
   "source": [
    "xaxis = np.linspace(150, 220, 100)\n",
    "fit_pos = np.polyfit(Az_pos, DeltaAz_pos, 1)\n",
    "fit_neg = np.polyfit(Az_neg, DeltaAz_neg, 1)\n",
    "yaxis_pos = np.polyval(fit_pos, xaxis)\n",
    "yaxis_neg = np.polyval(fit_neg, xaxis)\n",
    "%matplotlib inline\n",
    "plt.figure(figsize=(8, 8))\n",
    "plt.subplots_adjust(hspace = 0.5)\n",
    "plt.subplot(1,1,1)\n",
    "plt.title(f\"AuxTel Azimuth\", fontsize = 24)\n",
    "#plt.plot(xaxis, yaxis_pos, ls='--', color='red')\n",
    "#plt.text(-25, -1.0, f\"Slope={fit_pos[0]:.2f} arcsec/deg, Intercept={fit_pos[1]:.2f} arcsec\", color='red')\n",
    "plt.scatter(Az_neg, DeltaAz_neg, color='blue', marker = 'x', s=100, label = \"Negative\")\n",
    "plt.scatter(Az_pos, DeltaAz_pos, color='red', label = \"Positive\")\n",
    "\n",
    "#plt.plot(xaxis, yaxis_neg, ls='--', color='blue')\n",
    "#plt.text(-40, -5.0, f\"Slope={fit_neg[0]:.2f} arcsec/deg, Intercept={fit_neg[1]:.2f} arcsec\", color='blue')\n",
    "plt.xlabel(\"Az(degrees)\")\n",
    "plt.ylabel(\"DeltaAz(arcseconds)\")\n",
    "plt.legend()\n",
    "plt.savefig(f\"/home/craiglagegit/DATA/AuxTel_Azimuth_Hysteresis_Summary_13Dec22.pdf\")"
   ]
  },
  {
   "cell_type": "code",
   "execution_count": null,
   "id": "871c083a-43e2-4e58-bcbb-a0e19de33cd4",
   "metadata": {
    "tags": []
   },
   "outputs": [],
   "source": [
    "print(exp_pos)\n",
    "print(exp_neg)"
   ]
  },
  {
   "cell_type": "code",
   "execution_count": null,
   "id": "824513fa-4ce9-45ca-b0cb-244fe87126bd",
   "metadata": {
    "tags": []
   },
   "outputs": [],
   "source": []
  },
  {
   "cell_type": "code",
   "execution_count": null,
   "id": "796c2f8c-45f0-4b31-88b0-7859efe2a58b",
   "metadata": {},
   "outputs": [],
   "source": []
  }
 ],
 "metadata": {
  "kernelspec": {
   "display_name": "LSST",
   "language": "python",
   "name": "lsst"
  },
  "language_info": {
   "codemirror_mode": {
    "name": "ipython",
    "version": 3
   },
   "file_extension": ".py",
   "mimetype": "text/x-python",
   "name": "python",
   "nbconvert_exporter": "python",
   "pygments_lexer": "ipython3",
   "version": "3.10.6"
  }
 },
 "nbformat": 4,
 "nbformat_minor": 5
}
