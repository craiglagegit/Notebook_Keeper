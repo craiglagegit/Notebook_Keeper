{
 "cells": [
  {
   "cell_type": "code",
   "execution_count": null,
   "metadata": {
    "execution": {
     "iopub.execute_input": "2023-02-13T15:53:59.614393Z",
     "iopub.status.busy": "2023-02-13T15:53:59.614000Z",
     "iopub.status.idle": "2023-02-13T15:54:00.099992Z",
     "shell.execute_reply": "2023-02-13T15:54:00.099413Z",
     "shell.execute_reply.started": "2023-02-13T15:53:59.614376Z"
    }
   },
   "outputs": [],
   "source": [
    "import sys, time, os, asyncio, glob\n",
    "\n",
    "from datetime import datetime\n",
    "import numpy as np\n",
    "import matplotlib.pyplot as plt\n",
    "from matplotlib.colors import LogNorm\n",
    "%matplotlib widget\n",
    "import pickle as pkl\n",
    "import pandas as pd\n",
    "import astropy.io.fits as pf\n",
    "from astropy.time import Time, TimeDelta\n",
    "\n",
    "from lsst_efd_client import EfdClient"
   ]
  },
  {
   "cell_type": "code",
   "execution_count": null,
   "metadata": {
    "execution": {
     "iopub.execute_input": "2023-02-13T15:54:00.995184Z",
     "iopub.status.busy": "2023-02-13T15:54:00.994810Z",
     "iopub.status.idle": "2023-02-13T15:54:02.545070Z",
     "shell.execute_reply": "2023-02-13T15:54:02.544493Z",
     "shell.execute_reply.started": "2023-02-13T15:54:00.995168Z"
    }
   },
   "outputs": [],
   "source": [
    "client = EfdClient('summit_efd')"
   ]
  },
  {
   "cell_type": "code",
   "execution_count": null,
   "metadata": {
    "execution": {
     "iopub.execute_input": "2023-02-13T16:07:48.795011Z",
     "iopub.status.busy": "2023-02-13T16:07:48.794624Z",
     "iopub.status.idle": "2023-02-13T16:07:48.801086Z",
     "shell.execute_reply": "2023-02-13T16:07:48.800585Z",
     "shell.execute_reply.started": "2023-02-13T16:07:48.794993Z"
    },
    "tags": []
   },
   "outputs": [],
   "source": [
    "# Times to start looking at data\n",
    "start = Time(\"2023-02-13 15:10:00Z\", scale='utc')\n",
    "end = Time(\"2023-02-13 15:32:00Z\", scale='utc')\n",
    "# Times of fan adjustments\n",
    "vent_open = Time(\"2023-02-13 15:13:00Z\", scale='utc')\n",
    "fan_10 = Time(\"2023-02-13 15:16:00Z\", scale='utc')\n",
    "fan_20 = Time(\"2023-02-13 15:18:00Z\", scale='utc')\n",
    "fan_30 = Time(\"2023-02-13 15:20:00Z\", scale='utc')\n",
    "fan_40 = Time(\"2023-02-13 15:22:00Z\", scale='utc')\n",
    "fan_50 = Time(\"2023-02-13 15:24:00Z\", scale='utc')\n",
    "fan_off = Time(\"2023-02-13 15:26:00Z\", scale='utc')\n",
    "vent_closed = Time(\"2023-02-13 15:28:00Z\", scale='utc')"
   ]
  },
  {
   "cell_type": "code",
   "execution_count": null,
   "metadata": {
    "execution": {
     "iopub.execute_input": "2023-02-13T15:55:57.812715Z",
     "iopub.status.busy": "2023-02-13T15:55:57.812346Z",
     "iopub.status.idle": "2023-02-13T15:55:57.922903Z",
     "shell.execute_reply": "2023-02-13T15:55:57.922371Z",
     "shell.execute_reply.started": "2023-02-13T15:55:57.812698Z"
    }
   },
   "outputs": [],
   "source": [
    "speed = await client.select_time_series('lsst.sal.ESS.airFlow', \\\n",
    "                                                ['speed'],  start, end)\n"
   ]
  },
  {
   "cell_type": "code",
   "execution_count": null,
   "metadata": {
    "execution": {
     "iopub.execute_input": "2023-02-13T15:56:02.905319Z",
     "iopub.status.busy": "2023-02-13T15:56:02.904956Z",
     "iopub.status.idle": "2023-02-13T15:56:02.908933Z",
     "shell.execute_reply": "2023-02-13T15:56:02.908391Z",
     "shell.execute_reply.started": "2023-02-13T15:56:02.905302Z"
    }
   },
   "outputs": [],
   "source": [
    "len(speed)"
   ]
  },
  {
   "cell_type": "code",
   "execution_count": null,
   "metadata": {
    "execution": {
     "iopub.execute_input": "2023-02-13T16:15:15.244430Z",
     "iopub.status.busy": "2023-02-13T16:15:15.244130Z",
     "iopub.status.idle": "2023-02-13T16:15:15.394602Z",
     "shell.execute_reply": "2023-02-13T16:15:15.394196Z",
     "shell.execute_reply.started": "2023-02-13T16:15:15.244412Z"
    },
    "tags": []
   },
   "outputs": [],
   "source": [
    "plt.figure(figsize=(8,4))\n",
    "plt.subplots_adjust(wspace=0.5)\n",
    "plt.suptitle(\"AuxTel 2D Anemometer Fan Test - 20230213\")\n",
    "plt.subplot(1,1,1)\n",
    "#plt.title(\"Wind Speed\")\n",
    "ax1 = speed['speed'].plot(label = \"Speed\", color='green')\n",
    "ax1.axvline(vent_open.isot, label=\"Vent Open\", color='black')\n",
    "ax1.axvline(fan_10.isot, label=\"Fan-10Hz\", color='blue')\n",
    "ax1.axvline(fan_20.isot, label=\"Fan-20Hz\", color='orange')\n",
    "ax1.axvline(fan_30.isot, label=\"Fan-30Hz\", color='brown')\n",
    "ax1.axvline(fan_40.isot, label=\"Fan-40Hz\", color='cyan')\n",
    "ax1.axvline(fan_50.isot, label=\"Fan-50Hz\", color='magenta')\n",
    "ax1.axvline(fan_off.isot, label=\"Fan-Off\", color='red')\n",
    "ax1.axvline(vent_closed.isot, label=\"Vent Closed\", color='black')\n",
    "plt.legend(loc='upper left')\n",
    "plt.ylim(0,1.0)\n",
    "plt.ylabel(\"Wind Speed (m/sec)\")\n",
    "plt.savefig(f\"/home/craiglagegit/DATA/Anemometer_2D_Test_13Feb23.png\")"
   ]
  },
  {
   "cell_type": "code",
   "execution_count": null,
   "metadata": {},
   "outputs": [],
   "source": [
    "plt.savefig(\"/home/craiglagegit/DATA/Anemometer_3D_29Sep22.pdf\")"
   ]
  },
  {
   "cell_type": "code",
   "execution_count": null,
   "metadata": {},
   "outputs": [],
   "source": []
  }
 ],
 "metadata": {
  "kernelspec": {
   "display_name": "LSST",
   "language": "python",
   "name": "lsst"
  },
  "language_info": {
   "codemirror_mode": {
    "name": "ipython",
    "version": 3
   },
   "file_extension": ".py",
   "mimetype": "text/x-python",
   "name": "python",
   "nbconvert_exporter": "python",
   "pygments_lexer": "ipython3",
   "version": "3.10.9"
  }
 },
 "nbformat": 4,
 "nbformat_minor": 4
}
