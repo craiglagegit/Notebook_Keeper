{
 "cells": [
  {
   "cell_type": "markdown",
   "metadata": {},
   "source": [
    "# Take a set of calibrations\n",
    "The script is built for the scriptQueue but for the moment should be run from the notebook"
   ]
  },
  {
   "cell_type": "markdown",
   "metadata": {},
   "source": [
    "This script is used to take flats with the AuxTel calibration illumination system. <br>\n",
    "It is being used as a stand-in until the proper functionality is build into the control system."
   ]
  },
  {
   "cell_type": "code",
   "execution_count": null,
   "metadata": {
    "execution": {
     "iopub.execute_input": "2023-01-10T17:19:41.923544Z",
     "iopub.status.busy": "2023-01-10T17:19:41.923353Z",
     "iopub.status.idle": "2023-01-10T17:19:45.322598Z",
     "shell.execute_reply": "2023-01-10T17:19:45.321965Z",
     "shell.execute_reply.started": "2023-01-10T17:19:41.923527Z"
    },
    "tags": []
   },
   "outputs": [],
   "source": [
    "import sys\n",
    "import asyncio\n",
    "import time\n",
    "import os\n",
    "\n",
    "import numpy as np\n",
    "import logging \n",
    "import yaml\n",
    "import astropy\n",
    "\n",
    "from lsst.ts import salobj\n",
    "# from lsst.ts.externalscripts.auxtel.latiss_take_flats import LatissTakeFlats\n",
    "from lsst.ts.externalscripts.auxtel import LatissTakeFlats\n",
    "\n",
    "from lsst.ts.idl.enums.Script import ScriptState\n",
    "\n",
    "from lsst.ts.observing.utilities.decorated_logger import DecoratedLogger"
   ]
  },
  {
   "cell_type": "code",
   "execution_count": null,
   "metadata": {
    "execution": {
     "iopub.execute_input": "2023-01-10T17:19:45.325565Z",
     "iopub.status.busy": "2023-01-10T17:19:45.325402Z",
     "iopub.status.idle": "2023-01-10T17:19:45.327967Z",
     "shell.execute_reply": "2023-01-10T17:19:45.327517Z",
     "shell.execute_reply.started": "2023-01-10T17:19:45.325549Z"
    },
    "tags": []
   },
   "outputs": [],
   "source": [
    "logger = DecoratedLogger.get_decorated_logger()\n",
    "logger.level = logging.DEBUG"
   ]
  },
  {
   "cell_type": "code",
   "execution_count": null,
   "metadata": {},
   "outputs": [],
   "source": []
  },
  {
   "cell_type": "markdown",
   "metadata": {},
   "source": [
    "## Define funtion used to create the instrument setup for each flat that gets passed to the script"
   ]
  },
  {
   "cell_type": "code",
   "execution_count": null,
   "metadata": {
    "execution": {
     "iopub.execute_input": "2023-01-10T17:36:18.561193Z",
     "iopub.status.busy": "2023-01-10T17:36:18.560822Z",
     "iopub.status.idle": "2023-01-10T17:36:18.566002Z",
     "shell.execute_reply": "2023-01-10T17:36:18.565443Z",
     "shell.execute_reply.started": "2023-01-10T17:36:18.561175Z"
    },
    "tags": []
   },
   "outputs": [],
   "source": [
    "def step_config(min_wave: float=500, max_wave: float=700, w_steps: int=10, grating: int = 1, \n",
    "                ent_slit: float = 4.5, exit_slit: float = 4.5, exp_time: float = 3,\n",
    "                n_exp: int = 3, fs_exp_time: int = 3, fs_n_exp: int =1, em_exp_time: float=3, em_n_exp:int=1):\n",
    "    waves = np.arange(min_wave,max_wave,w_steps) # r-band\n",
    "\n",
    "    # config=dict(steps=[])\n",
    "    steps = []\n",
    "    \n",
    "    spec_res = 999 # dummy value for now\n",
    "    \n",
    "    for wave in waves:\n",
    "        step = {\n",
    "    \"wavelength\": int(wave), # changed from float\n",
    "    \"grating\": grating,  # enums.ATMonochromator.Grating.RED,  --> Enums are wrong!\n",
    "    \"spec_res\": -1, # place holder until we know this\n",
    "    \"exit_slit_width\": exit_slit,\n",
    "    \"entrance_slit_width\": ent_slit,\n",
    "    \"exp_time\": exp_time,\n",
    "    \"n_exp\": n_exp,\n",
    "    \"fs_exp_time\": fs_exp_time,\n",
    "    \"fs_n_exp\": fs_n_exp,\n",
    "    \"em_exp_time\": em_exp_time,\n",
    "    \"em_n_exp\": em_n_exp}\n",
    "    \n",
    "        steps.append(step)\n",
    "    \n",
    "    # convert to yaml\n",
    "    steps_for_script = yaml.safe_dump(steps)\n",
    "    return steps_for_script"
   ]
  },
  {
   "cell_type": "markdown",
   "metadata": {
    "execution": {
     "iopub.execute_input": "2022-12-12T17:14:28.707685Z",
     "iopub.status.busy": "2022-12-12T17:14:28.706994Z",
     "iopub.status.idle": "2022-12-12T17:14:28.710806Z",
     "shell.execute_reply": "2022-12-12T17:14:28.710312Z",
     "shell.execute_reply.started": "2022-12-12T17:14:28.707665Z"
    },
    "tags": []
   },
   "source": [
    "## Declare LATISS filter/grating combination"
   ]
  },
  {
   "cell_type": "code",
   "execution_count": null,
   "metadata": {
    "execution": {
     "iopub.execute_input": "2023-01-10T17:19:53.024584Z",
     "iopub.status.busy": "2023-01-10T17:19:53.024306Z",
     "iopub.status.idle": "2023-01-10T17:19:53.027206Z",
     "shell.execute_reply": "2023-01-10T17:19:53.026742Z",
     "shell.execute_reply.started": "2023-01-10T17:19:53.024567Z"
    },
    "tags": []
   },
   "outputs": [],
   "source": [
    "latiss_filter = 'SDSSg_65mm' #'g'  # must be, g, r, i\n",
    "latiss_grating= 'empty_1'"
   ]
  },
  {
   "cell_type": "code",
   "execution_count": null,
   "metadata": {
    "execution": {
     "iopub.execute_input": "2023-01-10T17:19:54.014552Z",
     "iopub.status.busy": "2023-01-10T17:19:54.014268Z",
     "iopub.status.idle": "2023-01-10T17:19:54.017751Z",
     "shell.execute_reply": "2023-01-10T17:19:54.017259Z",
     "shell.execute_reply.started": "2023-01-10T17:19:54.014535Z"
    },
    "tags": []
   },
   "outputs": [],
   "source": [
    "if latiss_filter =='SDSSg_65mm':\n",
    "    min_wave = 420; max_wave = 530  # g-band\n",
    "elif latiss_filter == 'r':\n",
    "    min_wave = 550; max_wave = 690  # r-band\n",
    "elif latiss_filter == 'i':\n",
    "    min_wave = 700; max_wave = 890  # i-band\n",
    "else:\n",
    "    raise \"Filter not supported\""
   ]
  },
  {
   "cell_type": "code",
   "execution_count": null,
   "metadata": {
    "execution": {
     "iopub.execute_input": "2023-01-10T17:36:27.618152Z",
     "iopub.status.busy": "2023-01-10T17:36:27.617798Z",
     "iopub.status.idle": "2023-01-10T17:36:27.625528Z",
     "shell.execute_reply": "2023-01-10T17:36:27.624994Z",
     "shell.execute_reply.started": "2023-01-10T17:36:27.618132Z"
    },
    "tags": []
   },
   "outputs": [],
   "source": [
    "w_steps = 20  # steps over the wavelength range\n",
    "n_exp = 1 # number of LATISS exposures\n",
    "exp_time = 5 # exposure time for each exposure\n",
    "# Fiber spectrograph and electrometer must currently use the same exposure time.\n",
    "fs_exp_time = exp_time \n",
    "em_exp_time = exp_time\n",
    "fs_n_exp = n_exp\n",
    "em_n_exp = n_exp\n",
    "# following step creates the sequence\n",
    "steps_for_config = step_config(min_wave=min_wave, max_wave=max_wave, w_steps=w_steps, \n",
    "                               exp_time=exp_time, n_exp=n_exp, fs_exp_time=fs_exp_time,\n",
    "                               fs_n_exp=fs_n_exp, em_exp_time=em_exp_time, em_n_exp=em_n_exp)\n"
   ]
  },
  {
   "cell_type": "markdown",
   "metadata": {},
   "source": [
    "## Instantiate the Script\n",
    "\n",
    "First derive and index for the script that is specific to your user"
   ]
  },
  {
   "cell_type": "code",
   "execution_count": null,
   "metadata": {
    "execution": {
     "iopub.execute_input": "2023-01-10T17:23:58.931421Z",
     "iopub.status.busy": "2023-01-10T17:23:58.931149Z",
     "iopub.status.idle": "2023-01-10T17:23:58.936190Z",
     "shell.execute_reply": "2023-01-10T17:23:58.935825Z",
     "shell.execute_reply.started": "2023-01-10T17:23:58.931403Z"
    },
    "tags": []
   },
   "outputs": [],
   "source": [
    "logger.info(f'Your UID is {os.getuid()}')\n",
    "index=os.getuid()*10+np.random.randint(0,9)\n",
    "logger.info(f'The generated index is {index}')"
   ]
  },
  {
   "cell_type": "markdown",
   "metadata": {},
   "source": [
    "Instantiate the script then start all remotes"
   ]
  },
  {
   "cell_type": "code",
   "execution_count": null,
   "metadata": {
    "execution": {
     "iopub.execute_input": "2023-01-10T17:24:02.231672Z",
     "iopub.status.busy": "2023-01-10T17:24:02.231389Z",
     "iopub.status.idle": "2023-01-10T17:24:03.028521Z",
     "shell.execute_reply": "2023-01-10T17:24:03.027980Z",
     "shell.execute_reply.started": "2023-01-10T17:24:02.231656Z"
    },
    "jupyter": {
     "outputs_hidden": true
    },
    "tags": []
   },
   "outputs": [],
   "source": [
    "script = LatissTakeFlats(index=index, remotes=True)  # this essentially calls the init method\n",
    "await script.start_task"
   ]
  },
  {
   "cell_type": "markdown",
   "metadata": {},
   "source": [
    "Set the script to have a DEBUG log level"
   ]
  },
  {
   "cell_type": "code",
   "execution_count": null,
   "metadata": {
    "tags": []
   },
   "outputs": [],
   "source": [
    "# !conda info envs"
   ]
  },
  {
   "cell_type": "code",
   "execution_count": null,
   "metadata": {
    "execution": {
     "iopub.execute_input": "2023-01-10T17:24:08.331755Z",
     "iopub.status.busy": "2023-01-10T17:24:08.331463Z",
     "iopub.status.idle": "2023-01-10T17:24:08.334240Z",
     "shell.execute_reply": "2023-01-10T17:24:08.333858Z",
     "shell.execute_reply.started": "2023-01-10T17:24:08.331738Z"
    },
    "tags": []
   },
   "outputs": [],
   "source": [
    "script.log.level = logging.DEBUG"
   ]
  },
  {
   "cell_type": "markdown",
   "metadata": {},
   "source": [
    "Print the available instrument filter and gratings. <br>\n",
    "This is useful both for slewing and for the configuration steps below"
   ]
  },
  {
   "cell_type": "code",
   "execution_count": null,
   "metadata": {
    "execution": {
     "iopub.execute_input": "2023-01-10T17:24:10.821702Z",
     "iopub.status.busy": "2023-01-10T17:24:10.821401Z",
     "iopub.status.idle": "2023-01-10T17:24:10.825711Z",
     "shell.execute_reply": "2023-01-10T17:24:10.825189Z",
     "shell.execute_reply.started": "2023-01-10T17:24:10.821684Z"
    },
    "tags": []
   },
   "outputs": [],
   "source": [
    "inst_setup = await script.latiss.get_available_instrument_setup()\n",
    "logger.info(f'filters are: {inst_setup[0]},\\ngratings are: {inst_setup[1]}')"
   ]
  },
  {
   "cell_type": "markdown",
   "metadata": {},
   "source": [
    "## Configure the script"
   ]
  },
  {
   "cell_type": "code",
   "execution_count": null,
   "metadata": {
    "execution": {
     "iopub.execute_input": "2023-01-10T17:36:39.355989Z",
     "iopub.status.busy": "2023-01-10T17:36:39.355618Z",
     "iopub.status.idle": "2023-01-10T17:36:39.360408Z",
     "shell.execute_reply": "2023-01-10T17:36:39.359910Z",
     "shell.execute_reply.started": "2023-01-10T17:36:39.355971Z"
    },
    "tags": []
   },
   "outputs": [],
   "source": [
    "configuration = yaml.safe_dump({\"latiss_filter\": latiss_filter, \n",
    "                                \"latiss_grating\": latiss_grating,\n",
    "                                \"sequence\": steps_for_config,\n",
    "                                })"
   ]
  },
  {
   "cell_type": "markdown",
   "metadata": {},
   "source": [
    "Set script state to UNCONFIGURED. <br>\n",
    "The next line is not required the first time the script is run, however, in each additional instance the cell is run, an error will be thrown if it is not included. <br>\n",
    "Therefore, it is included here despite being a non-operation in the first instance."
   ]
  },
  {
   "cell_type": "code",
   "execution_count": null,
   "metadata": {
    "tags": []
   },
   "outputs": [],
   "source": [
    "# ENUMS ARE WRONG!\n",
    "# from lsst.ts.idl import enums\n",
    "# enums.ATMonochromator.Grating.RED"
   ]
  },
  {
   "cell_type": "code",
   "execution_count": null,
   "metadata": {
    "execution": {
     "iopub.execute_input": "2023-01-10T17:36:45.193094Z",
     "iopub.status.busy": "2023-01-10T17:36:45.192410Z",
     "iopub.status.idle": "2023-01-10T17:36:45.196099Z",
     "shell.execute_reply": "2023-01-10T17:36:45.195596Z",
     "shell.execute_reply.started": "2023-01-10T17:36:45.193075Z"
    },
    "tags": []
   },
   "outputs": [],
   "source": [
    "await script.set_state(ScriptState.UNCONFIGURED)"
   ]
  },
  {
   "cell_type": "markdown",
   "metadata": {},
   "source": [
    "#### Put the ScriptState to CONFIGURED"
   ]
  },
  {
   "cell_type": "code",
   "execution_count": null,
   "metadata": {
    "execution": {
     "iopub.execute_input": "2023-01-10T17:36:48.687083Z",
     "iopub.status.busy": "2023-01-10T17:36:48.686714Z",
     "iopub.status.idle": "2023-01-10T17:36:48.703949Z",
     "shell.execute_reply": "2023-01-10T17:36:48.703431Z",
     "shell.execute_reply.started": "2023-01-10T17:36:48.687065Z"
    },
    "jupyter": {
     "outputs_hidden": true
    },
    "tags": []
   },
   "outputs": [],
   "source": [
    "config_data = script.cmd_configure.DataType()\n",
    "config_data.config = configuration\n",
    "await script.do_configure(config_data)"
   ]
  },
  {
   "cell_type": "markdown",
   "metadata": {},
   "source": [
    "Set these script parameters to None to verify a re-reduction does not happen of the images"
   ]
  },
  {
   "cell_type": "markdown",
   "metadata": {},
   "source": [
    "### Set groupID and launch the script\n",
    "This sets the same group ID for all exposures taken in the script"
   ]
  },
  {
   "cell_type": "code",
   "execution_count": null,
   "metadata": {
    "execution": {
     "iopub.execute_input": "2023-01-10T17:36:55.879356Z",
     "iopub.status.busy": "2023-01-10T17:36:55.878660Z",
     "iopub.status.idle": "2023-01-10T17:38:05.474964Z",
     "shell.execute_reply": "2023-01-10T17:38:05.474384Z",
     "shell.execute_reply.started": "2023-01-10T17:36:55.879336Z"
    },
    "jupyter": {
     "outputs_hidden": true
    },
    "tags": []
   },
   "outputs": [],
   "source": [
    "group_id_data = script.cmd_setGroupId.DataType(\n",
    "                groupId=astropy.time.Time.now().isot\n",
    "            )\n",
    "await script.do_setGroupId(group_id_data)\n",
    "await script.arun()"
   ]
  },
  {
   "cell_type": "markdown",
   "metadata": {},
   "source": [
    "## Elana Test: Loop through filters, wavelengths, and gratings\n",
    "\n",
    "Note: will loop through g, r, i\n",
    "\n",
    "Should we also loop through illuminator gratings? And what is the appropriate exposure time?"
   ]
  },
  {
   "cell_type": "code",
   "execution_count": null,
   "metadata": {},
   "outputs": [],
   "source": []
  }
 ],
 "metadata": {
  "kernelspec": {
   "display_name": "LSST",
   "language": "python",
   "name": "lsst"
  },
  "language_info": {
   "codemirror_mode": {
    "name": "ipython",
    "version": 3
   },
   "file_extension": ".py",
   "mimetype": "text/x-python",
   "name": "python",
   "nbconvert_exporter": "python",
   "pygments_lexer": "ipython3",
   "version": "3.10.6"
  }
 },
 "nbformat": 4,
 "nbformat_minor": 4
}
