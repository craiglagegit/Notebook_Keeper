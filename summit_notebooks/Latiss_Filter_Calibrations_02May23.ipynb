{
 "cells": [
  {
   "cell_type": "markdown",
   "metadata": {},
   "source": [
    "# Take a set of calibrations\n",
    "The script is built for the scriptQueue but for the moment should be run from the notebook"
   ]
  },
  {
   "cell_type": "markdown",
   "metadata": {},
   "source": [
    "This script is used to take flats with the AuxTel calibration illumination system. <br>\n",
    "It is being used as a stand-in until the proper functionality is build into the control system."
   ]
  },
  {
   "cell_type": "code",
   "execution_count": null,
   "metadata": {
    "execution": {
     "iopub.execute_input": "2023-05-02T18:15:27.400245Z",
     "iopub.status.busy": "2023-05-02T18:15:27.399965Z",
     "iopub.status.idle": "2023-05-02T18:15:27.403308Z",
     "shell.execute_reply": "2023-05-02T18:15:27.402909Z",
     "shell.execute_reply.started": "2023-05-02T18:15:27.400216Z"
    },
    "tags": []
   },
   "outputs": [],
   "source": [
    "import sys\n",
    "import asyncio\n",
    "import time\n",
    "import os\n",
    "import pickle as pkl\n",
    "import numpy as np\n",
    "\n",
    "from lsst.ts import salobj\n",
    "\n",
    "from lsst.ts.observatory.control.auxtel.atcs import ATCS\n",
    "from lsst.ts.observatory.control.auxtel.latiss import LATISS"
   ]
  },
  {
   "cell_type": "markdown",
   "metadata": {},
   "source": [
    "## First, enable LATISS and ATCS and position telescope"
   ]
  },
  {
   "cell_type": "code",
   "execution_count": null,
   "metadata": {
    "execution": {
     "iopub.execute_input": "2023-05-02T15:57:26.828411Z",
     "iopub.status.busy": "2023-05-02T15:57:26.828032Z",
     "iopub.status.idle": "2023-05-02T15:57:28.222577Z",
     "shell.execute_reply": "2023-05-02T15:57:28.219823Z",
     "shell.execute_reply.started": "2023-05-02T15:57:26.828394Z"
    },
    "jupyter": {
     "outputs_hidden": true
    },
    "tags": []
   },
   "outputs": [],
   "source": [
    "domain = salobj.Domain()\n",
    "atcs = ATCS(domain)\n",
    "latiss = LATISS(domain)\n",
    "await asyncio.gather(atcs.start_task, latiss.start_task)"
   ]
  },
  {
   "cell_type": "code",
   "execution_count": null,
   "metadata": {
    "execution": {
     "iopub.execute_input": "2023-04-25T14:16:55.597603Z",
     "iopub.status.busy": "2023-04-25T14:16:55.597478Z",
     "iopub.status.idle": "2023-04-25T14:17:11.541379Z",
     "shell.execute_reply": "2023-04-25T14:17:11.540802Z",
     "shell.execute_reply.started": "2023-04-25T14:16:55.597591Z"
    },
    "tags": []
   },
   "outputs": [],
   "source": [
    "await latiss.enable()"
   ]
  },
  {
   "cell_type": "code",
   "execution_count": null,
   "metadata": {
    "execution": {
     "iopub.execute_input": "2023-05-02T15:57:34.139732Z",
     "iopub.status.busy": "2023-05-02T15:57:34.139439Z",
     "iopub.status.idle": "2023-05-02T15:57:39.408658Z",
     "shell.execute_reply": "2023-05-02T15:57:39.408160Z",
     "shell.execute_reply.started": "2023-05-02T15:57:34.139714Z"
    },
    "tags": []
   },
   "outputs": [],
   "source": [
    "await atcs.enable()"
   ]
  },
  {
   "cell_type": "code",
   "execution_count": null,
   "metadata": {},
   "outputs": [],
   "source": [
    "await atcs.prepare_for_flatfield()"
   ]
  },
  {
   "cell_type": "code",
   "execution_count": null,
   "metadata": {},
   "outputs": [],
   "source": [
    "await atcs.disable_dome_following()"
   ]
  },
  {
   "cell_type": "code",
   "execution_count": null,
   "metadata": {},
   "outputs": [],
   "source": [
    "await atcs.slew_dome_to(355.0)"
   ]
  },
  {
   "cell_type": "code",
   "execution_count": null,
   "metadata": {},
   "outputs": [],
   "source": [
    "start_az=181.7\n",
    "start_el=39.0\n",
    "start_rot=0\n",
    "await atcs.point_azel(az=start_az, el=start_el, rot_tel=start_rot)"
   ]
  },
  {
   "cell_type": "markdown",
   "metadata": {},
   "source": [
    "## Now connect to the ATCalSys CSCs"
   ]
  },
  {
   "cell_type": "code",
   "execution_count": null,
   "metadata": {
    "execution": {
     "iopub.execute_input": "2023-04-13T16:03:09.273511Z",
     "iopub.status.busy": "2023-04-13T16:03:09.273243Z",
     "iopub.status.idle": "2023-04-13T16:03:09.520939Z",
     "shell.execute_reply": "2023-04-13T16:03:09.520326Z",
     "shell.execute_reply.started": "2023-04-13T16:03:09.273495Z"
    },
    "tags": []
   },
   "outputs": [],
   "source": [
    "atmonochromator = salobj.Remote(d, 'ATMonochromator')\n",
    "FiberSpectrograph = salobj.Remote(name=\"FiberSpectrograph\", domain=d, index=3)\n",
    "electrometer = salobj.Remote(name=\"Electrometer\", domain=d, index=201) \n",
    "WhiteLightSource = salobj.Remote(name='ATWhiteLight', domain=d)"
   ]
  },
  {
   "cell_type": "markdown",
   "metadata": {},
   "source": [
    "## Bring in needed subroutines"
   ]
  },
  {
   "cell_type": "code",
   "execution_count": null,
   "metadata": {},
   "outputs": [],
   "source": [
    "# functions to run the electromter measurements\n",
    "def get_file_transfer(lfa):\n",
    "    filename = os.path.split(lfa.url)[1]\n",
    "    save_dir = os.path.join(data_dir, filename.split(':')[0])\n",
    "    if not os.path.exists(save_dir):\n",
    "        os.mkdir(save_dir)\n",
    "    save_file = os.path.join(save_dir, filename)\n",
    "    os.system(f\"curl {lfa.url} --output {save_file}\")\n",
    "    return save_file\n",
    "\n",
    "async def elec_meas(exp_time):\n",
    "    electrometer.evt_largeFileObjectAvailable.flush()\n",
    "    tmp1=await electrometer.cmd_startScan.set_start(timeout=10)\n",
    "    await asyncio.sleep(exp_time)\n",
    "    tmp2=await electrometer.cmd_stopScan.set_start(timeout=10)\n",
    "    lfa = await electrometer.evt_largeFileObjectAvailable.next(flush=False, timeout=10)\n",
    "    filename = get_file_transfer(lfa)\n",
    "    filename = filename.replace(\":\", \"_\")\n",
    "    elec_filen = os.path.join(data_dir, filename)\n",
    "    os.system(f\"curl {lfa.url} --output {elec_filen}\")\n",
    "    hdu = fits.open(f'{elec_filen}')\n",
    "    data = hdu[1].data\n",
    "    return filename, lfa, data\n",
    "\n",
    "async def fiber_meas(exp_time):\n",
    "    FiberSpectrograph.evt_largeFileObjectAvailable.flush()\n",
    "    tmp1 = await FiberSpectrograph.cmd_expose.set_start(duration=exp_time, numExposures=1)\n",
    "    lfa = await FiberSpectrograph.evt_largeFileObjectAvailable.next(flush=False, timeout=10)\n",
    "    filename = get_file_transfer(lfa)\n",
    "    filename = filename.replace(\":\", \"_\")\n",
    "    spec_filen = os.path.join(data_dir, filename)\n",
    "    os.system(f\"curl {lfa.url} --output {spec_filen}\")\n",
    "    hdu = fits.open(f'{spec_filen}')\n",
    "    wavelength = hdu[1].data['wavelength'].flatten()\n",
    "    spectrum = hdu[0].data\n",
    "    return filename, lfa, wavelength, spectrum\n"
   ]
  },
  {
   "cell_type": "markdown",
   "metadata": {},
   "source": [
    "## Set up electrometer"
   ]
  },
  {
   "cell_type": "code",
   "execution_count": null,
   "metadata": {},
   "outputs": [],
   "source": [
    "await electrometer.cmd_performZeroCalib.set_start(timeout=10)\n",
    "await electrometer.cmd_setDigitalFilter.set_start(activateFilter=False, activateAvgFilter=False, activateMedFilter=False, timeout=10)  \n",
    "await electrometer.cmd_setIntegrationTime.set_start(intTime=0.1) \n",
    "await electrometer.cmd_setRange.set_start(setRange=-1)"
   ]
  },
  {
   "cell_type": "markdown",
   "metadata": {},
   "source": [
    "## Take 20 biases for system warm-up"
   ]
  },
  {
   "cell_type": "code",
   "execution_count": null,
   "metadata": {
    "execution": {
     "iopub.execute_input": "2023-04-27T13:59:03.880721Z",
     "iopub.status.busy": "2023-04-27T13:59:03.880361Z",
     "iopub.status.idle": "2023-04-27T14:00:33.773495Z",
     "shell.execute_reply": "2023-04-27T14:00:33.772886Z",
     "shell.execute_reply.started": "2023-04-27T13:59:03.880704Z"
    },
    "tags": []
   },
   "outputs": [],
   "source": [
    "# Take 20 biases for system warm-up\n",
    "for i in range(20):\n",
    "    await latiss.take_bias(1)\n",
    "    await asyncio.sleep(2.0)\n"
   ]
  },
  {
   "cell_type": "markdown",
   "metadata": {
    "execution": {
     "iopub.execute_input": "2022-12-12T17:14:28.707685Z",
     "iopub.status.busy": "2022-12-12T17:14:28.706994Z",
     "iopub.status.idle": "2022-12-12T17:14:28.710806Z",
     "shell.execute_reply": "2022-12-12T17:14:28.710312Z",
     "shell.execute_reply.started": "2022-12-12T17:14:28.707665Z"
    },
    "tags": []
   },
   "source": [
    "## Now run all three filters"
   ]
  },
  {
   "cell_type": "code",
   "execution_count": null,
   "metadata": {
    "execution": {
     "iopub.execute_input": "2023-02-01T20:42:33.651839Z",
     "iopub.status.busy": "2023-02-01T20:42:33.651474Z",
     "iopub.status.idle": "2023-02-01T20:42:33.654862Z",
     "shell.execute_reply": "2023-02-01T20:42:33.654486Z",
     "shell.execute_reply.started": "2023-02-01T20:42:33.651821Z"
    },
    "tags": []
   },
   "outputs": [],
   "source": [
    "latiss_grating= 'empty_1'\n",
    "wave_step = 5 # Wavelength step in nm\n",
    "exp_time = 60.0\n",
    "num_latiss_exps = 1\n",
    "\n",
    "# Dictionary to hold the results\n",
    "results = {}\n",
    "for latiss_filter in ['SDSSg_65mm', 'SDSSr_65mm', 'SDSSg_65mm']:\n",
    "    if latiss_filter =='SDSSg_65mm':\n",
    "        min_wave = 350; max_wave = 600; grating = 0; slit_1 = 5.0; slit_2 = 5.0\n",
    "    elif latiss_filter == 'SDSSr_65mm':\n",
    "        min_wave = 500; max_wave = 750; grating = 1; slit_1 = 5.0; slit_2 = 5.0\n",
    "    elif latiss_filter == 'SDSSi_65mm':\n",
    "        min_wave = 640; max_wave = 880; grating = 1; slit_1 = 5.0; slit_2 = 5.0\n",
    "    else:\n",
    "        raise \"Filter not supported\"\n",
    "    await atmonochromator.cmd_selectGrating.set_start(gratingType=grating, timeout=180)        \n",
    "    await atmonochromator.cmd_changeSlitWidth.set_start(slit=1, slitWidth=slit_1)  \n",
    "    await atmonochromator.cmd_changeSlitWidth.set_start(slit=2, slitWidth=slit_2) \n",
    "    wave = min_wave\n",
    "    # This loop steps through the wavelengths for each filter\n",
    "    while wave < max_wave + wave_step / 2.0:\n",
    "        await atmonochromator.cmd_changeWavelength.set_start(wavelength=wave)\n",
    "        key = f\"{latiss_filter}_{wave:.1f}\"\n",
    "        filename, electrometer_lfa, electrometer_data = await elec_meas(1.0)\n",
    "        for (t,current) in electrometer_data:\n",
    "            electrometer_current = current\n",
    "        filename, fiber_lfa, wavelengths, spectrum = await fiber_meas(exp_time)\n",
    "        spec_max = np.max(spectrum)\n",
    "        # The loop below prevents the spectrum from saturating\n",
    "        while spec_max > 15900:\n",
    "            exp_time /= 2.0\n",
    "            filename, fiber_lfa, wavelengths, spectrum = await fiber_meas(exp_time)\n",
    "            spec_max = np.max(spectrum)\n",
    "        await latiss.take_flats(exp_time, num_latiss_exps, filter=latiss_filter, grating=latiss_grating)\n",
    "        wave += wave_step\n",
    "        print(electrometer_current, exp_time, spec_max)\n",
    "        results[key] = {}\n",
    "        results[key]['electrometer_lfa_url']=electrometer_lfa.url\n",
    "        results[key]['fiber_lfa_url']=fiber_lfa.url\n",
    "        results[key]['electrometer_current']=electrometer_current\n",
    "        results[key]['fiber_data']=[wavelengths, spectrum, exp_time]\n",
    "        print(f\"Done with {latiss_filter}, {wave}\")"
   ]
  },
  {
   "cell_type": "code",
   "execution_count": null,
   "metadata": {},
   "outputs": [],
   "source": [
    "# Pickle the data\n",
    "filename = \"/scratch/cslage/filter_cals/filter_cal_02May23.pkl\"\n",
    "file = open(filename, \"wb\")\n",
    "pkl.dump(results, file)\n",
    "file.close()"
   ]
  }
 ],
 "metadata": {
  "kernelspec": {
   "display_name": "LSST",
   "language": "python",
   "name": "lsst"
  },
  "language_info": {
   "codemirror_mode": {
    "name": "ipython",
    "version": 3
   },
   "file_extension": ".py",
   "mimetype": "text/x-python",
   "name": "python",
   "nbconvert_exporter": "python",
   "pygments_lexer": "ipython3",
   "version": "3.10.9"
  }
 },
 "nbformat": 4,
 "nbformat_minor": 4
}
