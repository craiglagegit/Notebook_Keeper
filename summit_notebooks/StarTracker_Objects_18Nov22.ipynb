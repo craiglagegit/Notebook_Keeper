{
 "cells": [
  {
   "cell_type": "markdown",
   "metadata": {},
   "source": [
    "## Plotting stars on StarTracker images - 18-Nov-22\n",
    "\n",
    "Craig Lage"
   ]
  },
  {
   "cell_type": "code",
   "execution_count": null,
   "metadata": {
    "execution": {
     "iopub.execute_input": "2022-12-01T17:10:51.779178Z",
     "iopub.status.busy": "2022-12-01T17:10:51.778736Z",
     "iopub.status.idle": "2022-12-01T17:10:57.485122Z",
     "shell.execute_reply": "2022-12-01T17:10:57.484609Z",
     "shell.execute_reply.started": "2022-12-01T17:10:51.779132Z"
    },
    "tags": []
   },
   "outputs": [],
   "source": [
    "import sys, time, os, asyncio, glob\n",
    "from datetime import datetime\n",
    "import numpy as np\n",
    "import matplotlib.pyplot as plt\n",
    "from astropy.time import Time, TimeDelta\n",
    "from astropy.coordinates import AltAz, ICRS, EarthLocation, Angle, FK5, SkyCoord\n",
    "import astropy.units as u\n",
    "from lsst.obs.lsst.translators.lsst import SIMONYI_LOCATION\n",
    "%matplotlib inline\n",
    "\n",
    "import lsst.afw.image as afwImage\n",
    "from lsst.geom import SpherePoint\n",
    "from lsst.geom import Angle as afwAngle\n",
    "from lsst.summit.utils.blindSolving import runImchar, genericCameraHeaderToWcs, CommandLineSolver"
   ]
  },
  {
   "cell_type": "code",
   "execution_count": null,
   "metadata": {
    "execution": {
     "iopub.execute_input": "2022-12-01T17:10:57.486562Z",
     "iopub.status.busy": "2022-12-01T17:10:57.486283Z",
     "iopub.status.idle": "2022-12-01T17:10:57.490722Z",
     "shell.execute_reply": "2022-12-01T17:10:57.490235Z",
     "shell.execute_reply.started": "2022-12-01T17:10:57.486546Z"
    },
    "tags": []
   },
   "outputs": [],
   "source": [
    "def get_catalog():\n",
    "    # There's an existing catalog of stars down to 6th magnitude\n",
    "    from lsst.ts.observatory.control.utils import get_catalogs_path\n",
    "    from os.path import splitext\n",
    "    from astropy.table import Row, Table\n",
    "    catalogs = [splitext(file_name.name)[0]\n",
    "                    for file_name in get_catalogs_path().glob(\"*.pd\")]\n",
    "    catalog_name = catalogs[0]\n",
    "    print(catalog_name)\n",
    "    catalog = Table.read(get_catalogs_path() / f\"{catalog_name}.pd\",\n",
    "                format=\"pandas.json\")\n",
    "    catalog_coordinates = SkyCoord(\n",
    "                Angle(catalog[\"RA\"], unit=u.hourangle),\n",
    "                Angle(catalog[\"DEC\"], unit=u.deg),\n",
    "                frame=\"icrs\")    \n",
    "    return catalog, catalog_coordinates"
   ]
  },
  {
   "cell_type": "code",
   "execution_count": null,
   "metadata": {
    "execution": {
     "iopub.execute_input": "2022-12-01T16:43:35.333762Z",
     "iopub.status.busy": "2022-12-01T16:43:35.333588Z",
     "iopub.status.idle": "2022-12-01T16:43:35.831389Z",
     "shell.execute_reply": "2022-12-01T16:43:35.830933Z",
     "shell.execute_reply.started": "2022-12-01T16:43:35.333746Z"
    }
   },
   "outputs": [],
   "source": [
    "solver = CommandLineSolver(indexFiles='/scratch/mfisherlevine/astrometry_net/broiler.astrometry.net/~dstn/4100',\n",
    "                           checkInParallel=True)\n",
    "\n",
    "catalog, catalog_coordinates = get_catalog()\n",
    "path = '/project/GenericCamera/101/2022/11/15/'"
   ]
  },
  {
   "cell_type": "code",
   "execution_count": null,
   "metadata": {
    "execution": {
     "iopub.execute_input": "2022-12-01T16:43:50.999853Z",
     "iopub.status.busy": "2022-12-01T16:43:50.999582Z",
     "iopub.status.idle": "2022-12-01T16:43:55.830401Z",
     "shell.execute_reply": "2022-12-01T16:43:55.829791Z",
     "shell.execute_reply.started": "2022-12-01T16:43:50.999836Z"
    }
   },
   "outputs": [],
   "source": [
    "# Get the image and solve for the WCS\n",
    "seqNum = 28\n",
    "filename = path + f'GC101_O_20221115_{seqNum:06}.fits'\n",
    "exp = afwImage.ExposureF(filename)\n",
    "wcs = genericCameraHeaderToWcs(exp)\n",
    "exp.setWcs(wcs)\n",
    "results = runImchar(exp, 5, 25)\n",
    "solverResults = solver.run(exp, results.sourceCat, silent=True)\n",
    "newWcs = solverResults.wcs\n",
    "raSolve = newWcs.getSkyOrigin().getRa().asDegrees()\n",
    "decSolve = newWcs.getSkyOrigin().getDec().asDegrees()\n",
    "   \n",
    "# Now find objects within the image    \n",
    "skyLocation = SkyCoord(raSolve*u.deg, decSolve*u.deg)\n",
    "d2d = skyLocation.separation(catalog_coordinates)\n",
    "catalogmask = d2d < 3.0 * u.deg # Chose 3 degrees because the image is roughly 6 degrees across\n",
    "list = catalog_coordinates[catalogmask]\n",
    "xs = []\n",
    "ys = []\n",
    "names = []\n",
    "for item in list:\n",
    "    spherePoint = SpherePoint(afwAngle(item.ra.rad), afwAngle(item.dec.rad))\n",
    "    point = newWcs.skyToPixel(spherePoint)\n",
    "    xs.append(point.x)\n",
    "    ys.append(point.y)\n",
    "    match = item.match_to_catalog_sky(catalog_coordinates)\n",
    "    name = catalog[match[0]][0]\n",
    "    names.append(name)"
   ]
  },
  {
   "cell_type": "code",
   "execution_count": null,
   "metadata": {
    "execution": {
     "iopub.execute_input": "2022-12-01T16:51:43.667758Z",
     "iopub.status.busy": "2022-12-01T16:51:43.667288Z",
     "iopub.status.idle": "2022-12-01T16:51:44.187441Z",
     "shell.execute_reply": "2022-12-01T16:51:44.186859Z",
     "shell.execute_reply.started": "2022-12-01T16:51:43.667712Z"
    },
    "tags": []
   },
   "outputs": [],
   "source": [
    "# Now plot the data with matplotlib\n",
    "%matplotlib inline\n",
    "def colorbar(mappable):\n",
    "    from mpl_toolkits.axes_grid1 import make_axes_locatable\n",
    "    last_axes = plt.gca()\n",
    "    ax = mappable.axes\n",
    "    fig = ax.figure\n",
    "    divider = make_axes_locatable(ax)\n",
    "    cax = divider.append_axes(\"right\", size=\"5%\", pad=0.05)\n",
    "    cbar = fig.colorbar(mappable, cax=cax)\n",
    "    plt.sca(last_axes)\n",
    "    return cbar\n",
    "\n",
    "plt.figure(figsize=(8,8))\n",
    "plt.title(\"StarTracker Wide Field = 20221115 seqNo 28\")\n",
    "img = plt.imshow(exp.image.array,  interpolation='Nearest', cmap='gray')\n",
    "plt.scatter(xs, ys\\\n",
    "            ,facecolors='none', edgecolors='g', s=200, lw=2)\n",
    "for x, y, name in zip(xs, ys, names):\n",
    "    plt.text(x+50,y, name, color='g')\n",
    "colorbar(img)\n",
    "plt.tight_layout(h_pad=1)\n",
    "plt.savefig(\"/home/craiglagegit/DATA/StarTracker_Labels_20221115_28.pdf\")"
   ]
  }
 ],
 "metadata": {
  "kernelspec": {
   "display_name": "LSST",
   "language": "python",
   "name": "lsst"
  },
  "language_info": {
   "codemirror_mode": {
    "name": "ipython",
    "version": 3
   },
   "file_extension": ".py",
   "mimetype": "text/x-python",
   "name": "python",
   "nbconvert_exporter": "python",
   "pygments_lexer": "ipython3",
   "version": "3.10.6"
  }
 },
 "nbformat": 4,
 "nbformat_minor": 4
}
