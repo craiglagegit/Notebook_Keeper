{
 "cells": [
  {
   "cell_type": "markdown",
   "id": "0dd0a988-c53b-4063-9081-04bab3355c4b",
   "metadata": {
    "tags": []
   },
   "source": [
    "## Analyzing dome monitor with a labJack T7\n",
    "Uses 2 analog input (AINs) to read the data.\n",
    "\n",
    "Craig Lage - Jul 5, 2023"
   ]
  },
  {
   "cell_type": "code",
   "execution_count": null,
   "id": "dbd14b82-0a82-488c-a615-db33e5ffa5a6",
   "metadata": {
    "execution": {
     "iopub.execute_input": "2024-02-13T12:31:48.526542Z",
     "iopub.status.busy": "2024-02-13T12:31:48.526351Z",
     "iopub.status.idle": "2024-02-13T12:31:49.501954Z",
     "shell.execute_reply": "2024-02-13T12:31:49.501469Z",
     "shell.execute_reply.started": "2024-02-13T12:31:48.526524Z"
    },
    "tags": []
   },
   "outputs": [],
   "source": [
    "import sys, os, re\n",
    "import time, datetime\n",
    "import numpy as np\n",
    "import pandas as pd\n",
    "import pickle as pkl\n",
    "import matplotlib.pyplot as plt\n",
    "from matplotlib.backends.backend_pdf import PdfPages\n",
    "from astropy.time import Time, TimeDelta\n",
    "from lsst_efd_client import EfdClient"
   ]
  },
  {
   "cell_type": "code",
   "execution_count": null,
   "id": "9a8454c2-f633-4eba-accf-0c586818c744",
   "metadata": {
    "execution": {
     "iopub.execute_input": "2024-02-13T12:31:49.503241Z",
     "iopub.status.busy": "2024-02-13T12:31:49.502929Z",
     "iopub.status.idle": "2024-02-13T12:31:51.313630Z",
     "shell.execute_reply": "2024-02-13T12:31:51.312765Z",
     "shell.execute_reply.started": "2024-02-13T12:31:49.503225Z"
    },
    "tags": []
   },
   "outputs": [],
   "source": [
    "dir = \"/scratch/labJackData/\"\n",
    "\n",
    "files = os.listdir(dir)\n",
    "counter = 0\n",
    "for file in files:\n",
    "    split_file = re.split('_|T|\\Z.', file)\n",
    "    if split_file[0] == \"Dome\":\n",
    "        if (split_file[1] == '20240213') or \\\n",
    "            (split_file[1] == '20240212' and int(list(split_file[2])[0]) > 1):\n",
    "            filename = dir+file\n",
    "\n",
    "            pkl_file = open(filename, 'rb')\n",
    "            df = pkl.load(pkl_file)\n",
    "            pkl_file.close()\n",
    "            print(filename, len(df), df.columns)\n",
    "            if counter == 0:\n",
    "                merged_df = df\n",
    "            else:\n",
    "                merged_df = pd.concat([merged_df, df])\n",
    "            #if counter == 2:\n",
    "            #    break\n",
    "            counter += 1\n"
   ]
  },
  {
   "cell_type": "code",
   "execution_count": null,
   "id": "7cd3b3c7-090b-4c77-a064-a0b27a26c493",
   "metadata": {
    "execution": {
     "iopub.execute_input": "2024-02-13T12:31:57.236034Z",
     "iopub.status.busy": "2024-02-13T12:31:57.235264Z",
     "iopub.status.idle": "2024-02-13T12:31:57.240786Z",
     "shell.execute_reply": "2024-02-13T12:31:57.239909Z",
     "shell.execute_reply.started": "2024-02-13T12:31:57.235999Z"
    },
    "tags": []
   },
   "outputs": [],
   "source": [
    "print(len(df), len(merged_df))"
   ]
  },
  {
   "cell_type": "code",
   "execution_count": null,
   "id": "be26549a-3109-430b-8f19-505c30df78a7",
   "metadata": {
    "execution": {
     "iopub.execute_input": "2024-02-13T12:31:58.302726Z",
     "iopub.status.busy": "2024-02-13T12:31:58.302344Z",
     "iopub.status.idle": "2024-02-13T12:31:58.308495Z",
     "shell.execute_reply": "2024-02-13T12:31:58.307670Z",
     "shell.execute_reply.started": "2024-02-13T12:31:58.302696Z"
    },
    "tags": []
   },
   "outputs": [],
   "source": [
    "merged_df.columns"
   ]
  },
  {
   "cell_type": "code",
   "execution_count": null,
   "id": "f71863c4-9b90-445a-8410-833d43ca681d",
   "metadata": {
    "execution": {
     "iopub.execute_input": "2024-02-13T12:32:02.032344Z",
     "iopub.status.busy": "2024-02-13T12:32:02.031955Z",
     "iopub.status.idle": "2024-02-13T12:32:03.339102Z",
     "shell.execute_reply": "2024-02-13T12:32:03.338182Z",
     "shell.execute_reply.started": "2024-02-13T12:32:02.032314Z"
    },
    "tags": []
   },
   "outputs": [],
   "source": [
    "client = EfdClient('summit_efd')\n",
    "start = Time(\"2024-02-12T16:00:00Z\", scale='utc')\n",
    "end = Time(\"2024-02-13T10:00:00Z\", scale='utc')\n",
    "state = await client.select_time_series('lsst.sal.ATDome.logevent_mainDoorState', \\\n",
    "                                            ['*'],  start, end)\n"
   ]
  },
  {
   "cell_type": "code",
   "execution_count": null,
   "id": "84e42cec-39a6-4da8-99f2-095661bf2244",
   "metadata": {
    "tags": []
   },
   "outputs": [],
   "source": [
    "print(len(state), len(df), len(merged_df))"
   ]
  },
  {
   "cell_type": "code",
   "execution_count": null,
   "id": "ece131bc-bd3f-4c3f-b47a-e0c34965337c",
   "metadata": {
    "tags": []
   },
   "outputs": [],
   "source": [
    "fig, ax = plt.subplots(1,1)\n",
    "ax2 = ax.twinx()\n",
    "state['state'].plot(ax=ax2, color='blue', label='Actual State')\n",
    "ax2.set_ylim(0,6)\n",
    "ax2.set_yticks([1,2,3,4,5])\n",
    "ax2.set_yticklabels(['Closed', 'Opened', 'Ajar', 'Opening', 'Closing'])\n",
    "\n",
    "\n",
    "merged_df[\"AIN0\"].plot(ax=ax, label=\"cRIO power supply\", color='red')\n",
    "merged_df[\"AIN1\"].plot(ax=ax, label=\"Motor relay\", color='green')\n",
    "ax.set_ylim(-0.5,10.0)\n",
    "ax.set_title(\"AuxTel Dome Closing Monitor 20240212\", fontsize=16)\n",
    "\n",
    "ax.legend(loc='upper left')\n",
    "#for start_time in start_times:\n",
    "#    ax.axvline(start_time, ls='--', color='black')\n",
    "plt.savefig(f\"/home/craiglagegit/DATA/Dome_Monitor_12Feb24.png\")"
   ]
  },
  {
   "cell_type": "code",
   "execution_count": null,
   "id": "3e617ab5-bc9e-4f9f-8190-fb463640cd8f",
   "metadata": {
    "tags": []
   },
   "outputs": [],
   "source": [
    "fig, ax = plt.subplots(1,1)\n",
    "ax2 = ax.twinx()\n",
    "state['state'].plot(ax=ax2, color='blue', label='Actual State', ls='--')\n",
    "ax2.set_ylim(0,6)\n",
    "ax2.set_yticks([1,2,3,4,5])\n",
    "ax2.set_yticklabels(['Closed', 'Opened', 'Ajar', 'Opening', 'Closing'])\n",
    "start_plot = Time(\"2023-09-27T21:33:50Z\", scale='utc')\n",
    "end_plot = Time(\"2023-09-27T21:34:00Z\", scale='utc')\n",
    "\n",
    "merged_df[\"AIN0\"].plot(ax=ax, label=\"Close button\", color='red')\n",
    "merged_df[\"AIN1\"].plot(ax=ax, label=\"Motor relay\", color='green')\n",
    "#merged_df[\"AIN2\"].plot(ax=ax, label=\"Rain sensor\", color='magenta')\n",
    "ax.set_title(\"AuxTel Dome Closing Monitor 20230927\", fontsize=16)\n",
    "ax.set_ylim(-0.5,10.0)\n",
    "ax.set_xlim(start_plot.isot, end_plot.isot)\n",
    "ax.legend()\n",
    "plt.savefig(f\"/home/craiglagegit/DATA/Dome_Monitor_BlowUp_27Sep23.png\")"
   ]
  },
  {
   "cell_type": "code",
   "execution_count": null,
   "id": "62e3c5ca-ce0e-48d9-bef9-af5319557022",
   "metadata": {
    "tags": []
   },
   "outputs": [],
   "source": [
    "fig, ax = plt.subplots(1,1)\n",
    "ax2 = ax.twinx()\n",
    "state['state'].plot(ax=ax2, color='blue', label='Actual State', marker='x')\n",
    "ax2.set_ylim(0,6)\n",
    "ax2.set_yticks([1,2,3,4,5])\n",
    "ax2.set_yticklabels(['Closed', 'Opened', 'Ajar', 'Opening', 'Closing'])\n",
    "start_plot = Time(\"2023-08-29T23:43:36Z\", scale='utc')\n",
    "end_plot = Time(\"2023-08-29T23:43:37Z\", scale='utc')\n",
    "\n",
    "merged_df[\"AIN0\"].plot(ax=ax, label=\"Close button\", color='red')\n",
    "merged_df[\"AIN1\"].plot(ax=ax, label=\"Motor relay\", color='green')\n",
    "merged_df[\"AIN2\"].plot(ax=ax, label=\"Rain sensor\", color='magenta')\n",
    "ax.set_title(\"AuxTel Dome Closing Monitor 20230824\", fontsize=16)\n",
    "ax.set_ylim(-2.0,10.0)\n",
    "ax.set_xlim(start_plot.isot, end_plot.isot)\n",
    "ax.legend()\n",
    "plt.savefig(f\"/home/craiglagegit/DATA/Dome_Monitor_BlowUp_6_29Aug23.png\")"
   ]
  },
  {
   "cell_type": "code",
   "execution_count": null,
   "id": "7cce4941-0d9f-475c-9303-f0834fe346ca",
   "metadata": {
    "execution": {
     "iopub.execute_input": "2024-02-13T12:32:13.022185Z",
     "iopub.status.busy": "2024-02-13T12:32:13.021817Z",
     "iopub.status.idle": "2024-02-13T12:32:58.390427Z",
     "shell.execute_reply": "2024-02-13T12:32:58.389591Z",
     "shell.execute_reply.started": "2024-02-13T12:32:13.022154Z"
    },
    "jupyter": {
     "outputs_hidden": true
    },
    "tags": []
   },
   "outputs": [],
   "source": [
    "# Find the times of the events\n",
    "close_df = merged_df[merged_df['AIN1'] > 6.0]\n",
    "start_times = []\n",
    "end_times = []\n",
    "durations = []\n",
    "for i in range(len(close_df)):\n",
    "    if i == 0:\n",
    "        start_time = close_df.index[0]\n",
    "        continue\n",
    "    if Time(close_df.index[i].isoformat()).unix_tai - Time(close_df.index[i-1].isoformat()).unix_tai < 0.05:\n",
    "        continue\n",
    "    else:\n",
    "        end_time = close_df.index[i-1]\n",
    "        duration = Time(end_time.isoformat()).unix_tai - Time(start_time.isoformat()).unix_tai\n",
    "        print(start_time, end_time, duration)\n",
    "        start_times.append(start_time)\n",
    "        end_times.append(end_time)\n",
    "        durations.append(duration)        \n",
    "        start_time = close_df.index[i]\n"
   ]
  },
  {
   "cell_type": "code",
   "execution_count": null,
   "id": "43fe9510-786f-4621-9bbf-f5b69266720a",
   "metadata": {
    "tags": []
   },
   "outputs": [],
   "source": [
    "print(len(durations))\n",
    "plt.title(\"Phantom close durations 20230829\", fontsize=16)\n",
    "plt.hist(durations, range=(0,0.25))\n",
    "plt.xlabel(\"Duration(seconds)\")\n",
    "plt.savefig(f\"/home/craiglagegit/DATA/Dome_Monitor_Durations_14Sep23.png\")"
   ]
  },
  {
   "cell_type": "markdown",
   "id": "0e097f83-dc36-4d48-8c8c-596e84ff4458",
   "metadata": {},
   "source": [
    "## The code below fills in the state DataFrame with the last state"
   ]
  },
  {
   "cell_type": "code",
   "execution_count": null,
   "id": "974b531b-0bde-4f8a-8df5-9317274829ef",
   "metadata": {
    "execution": {
     "iopub.execute_input": "2024-02-13T12:33:35.290380Z",
     "iopub.status.busy": "2024-02-13T12:33:35.289992Z",
     "iopub.status.idle": "2024-02-13T12:33:35.295901Z",
     "shell.execute_reply": "2024-02-13T12:33:35.295098Z",
     "shell.execute_reply.started": "2024-02-13T12:33:35.290351Z"
    },
    "tags": []
   },
   "outputs": [],
   "source": [
    "cols = list(state.columns)\n",
    "cols.remove('state')\n",
    "newState = state.drop(cols, axis=1)"
   ]
  },
  {
   "cell_type": "code",
   "execution_count": null,
   "id": "e2b203a4-ba56-4d89-9f0c-47123a6b348a",
   "metadata": {
    "execution": {
     "iopub.execute_input": "2024-02-13T12:33:35.924468Z",
     "iopub.status.busy": "2024-02-13T12:33:35.924164Z",
     "iopub.status.idle": "2024-02-13T12:34:24.169373Z",
     "shell.execute_reply": "2024-02-13T12:34:24.168587Z",
     "shell.execute_reply.started": "2024-02-13T12:33:35.924439Z"
    },
    "tags": []
   },
   "outputs": [],
   "source": [
    "times = []\n",
    "vals = []\n",
    "values = newState['state'].values\n",
    "for i in range(len(newState)-1):\n",
    "    n = int((state.index[i+1] - state.index[i]).total_seconds() * 100)\n",
    "    #print(n)\n",
    "    #continue\n",
    "    value = values[i]\n",
    "    for j in range(n):\n",
    "        times.append(state.index[i] + pd.Timedelta(milliseconds=(j+1)*10))\n",
    "        vals.append(value)\n",
    "    "
   ]
  },
  {
   "cell_type": "code",
   "execution_count": null,
   "id": "b60092b6-53bb-408f-9cb0-a23680188b52",
   "metadata": {
    "execution": {
     "iopub.execute_input": "2024-02-13T12:35:58.662960Z",
     "iopub.status.busy": "2024-02-13T12:35:58.662808Z",
     "iopub.status.idle": "2024-02-13T12:36:18.374099Z",
     "shell.execute_reply": "2024-02-13T12:36:18.373382Z",
     "shell.execute_reply.started": "2024-02-13T12:35:58.662946Z"
    },
    "tags": []
   },
   "outputs": [],
   "source": [
    "holdState = pd.DataFrame(vals, columns=['state'], index=times)"
   ]
  },
  {
   "cell_type": "code",
   "execution_count": null,
   "id": "b6f52245-528e-4e91-9d14-3b9f2a062c99",
   "metadata": {
    "execution": {
     "iopub.execute_input": "2024-02-13T12:36:18.375387Z",
     "iopub.status.busy": "2024-02-13T12:36:18.375227Z",
     "iopub.status.idle": "2024-02-13T12:36:18.378582Z",
     "shell.execute_reply": "2024-02-13T12:36:18.378189Z",
     "shell.execute_reply.started": "2024-02-13T12:36:18.375373Z"
    },
    "tags": []
   },
   "outputs": [],
   "source": [
    "len(holdState)"
   ]
  },
  {
   "cell_type": "code",
   "execution_count": null,
   "id": "76223a25-da8f-4097-9be1-b79b752432f1",
   "metadata": {
    "execution": {
     "iopub.execute_input": "2024-02-13T12:36:18.379385Z",
     "iopub.status.busy": "2024-02-13T12:36:18.379158Z",
     "iopub.status.idle": "2024-02-13T12:36:18.389346Z",
     "shell.execute_reply": "2024-02-13T12:36:18.388542Z",
     "shell.execute_reply.started": "2024-02-13T12:36:18.379365Z"
    },
    "tags": []
   },
   "outputs": [],
   "source": [
    "holdState.head(3)"
   ]
  },
  {
   "cell_type": "code",
   "execution_count": null,
   "id": "d10199f8-2121-4986-9c29-5f77ad795d78",
   "metadata": {
    "execution": {
     "iopub.execute_input": "2024-02-13T12:36:18.390968Z",
     "iopub.status.busy": "2024-02-13T12:36:18.390324Z",
     "iopub.status.idle": "2024-02-13T12:36:18.406364Z",
     "shell.execute_reply": "2024-02-13T12:36:18.405460Z",
     "shell.execute_reply.started": "2024-02-13T12:36:18.390938Z"
    },
    "tags": []
   },
   "outputs": [],
   "source": [
    "plotState = pd.concat([newState, holdState])"
   ]
  },
  {
   "cell_type": "code",
   "execution_count": null,
   "id": "9aab7981-37ac-4042-9fce-982a02b740c9",
   "metadata": {
    "execution": {
     "iopub.execute_input": "2024-02-13T12:36:18.407960Z",
     "iopub.status.busy": "2024-02-13T12:36:18.407388Z",
     "iopub.status.idle": "2024-02-13T12:36:27.442346Z",
     "shell.execute_reply": "2024-02-13T12:36:27.441833Z",
     "shell.execute_reply.started": "2024-02-13T12:36:18.407930Z"
    },
    "tags": []
   },
   "outputs": [],
   "source": [
    "# Plot blow-ups of the events\n",
    "pdf = PdfPages(\"/home/craiglagegit/DATA/Dome_Monitor_Plots_Test_12Feb24.pdf\")\n",
    "fig = plt.figure(figsize=(8,8))\n",
    "\n",
    " \n",
    "for i in range(len(start_times)):\n",
    "    if durations[i] >5.0:\n",
    "        continue\n",
    "    ax = fig.add_axes([0.1,0.1,0.8,0.8])\n",
    "    ax2 = ax.twinx()\n",
    "    ax2.set_ylim(0,6)\n",
    "    ax2.set_yticks([1,2,3,4,5])\n",
    "    ax2.set_yticklabels(['Closed', 'Opened', 'Ajar', 'Opening', 'Closing'])\n",
    "    start_plot = Time(start_times[i].isoformat(), scale='utc') - TimeDelta(0.5, format='sec')\n",
    "    end_plot = Time(end_times[i].isoformat(), scale='utc') + TimeDelta(0.5, format='sec')\n",
    "    sub_df = merged_df.loc[(merged_df.index >= start_plot.isot) & (merged_df.index <= end_plot.isot)]\n",
    "    sub_state = plotState.loc[(plotState.index >= start_plot.isot) & (plotState.index <= end_plot.isot)]\n",
    "    sub_state['state'].plot(ax=ax2, color='blue', label='Actual State')\n",
    "    print(start_plot, end_plot)\n",
    "    sub_df[\"AIN0\"].plot(ax=ax, label=\"cRIO Power Supply\", color='red')\n",
    "    sub_df[\"AIN1\"].plot(ax=ax, label=\"Motor relay\", color='green')\n",
    "    #sub_df[\"AIN2\"].plot(ax=ax, label=\"Rain sensor\", color='magenta')\n",
    "    timestamp = start_times[i].isoformat().split('.')[0].replace('-','').replace(':','')\n",
    "    ax.set_title(f\"AuxTel Dome Closing Monitor {timestamp}\", fontsize=16)\n",
    "    ax.set_ylim(-2.0,10.0)\n",
    "    ax.set_xlim(start_plot.isot, end_plot.isot)\n",
    "    ax.text(start_plot.isot, 5.0, f\"  Duration={durations[i]:.4f} sec.\")\n",
    "    ax.legend(loc='upper right')\n",
    "    ax2.legend(loc='upper left')\n",
    "    pdf.savefig(fig)  # saves the current figure into a pdf page\n",
    "    plt.clf()\n",
    "pdf.close()\n"
   ]
  },
  {
   "cell_type": "code",
   "execution_count": null,
   "id": "7b4694f8-1403-43f8-b85b-da60b6581c38",
   "metadata": {},
   "outputs": [],
   "source": []
  }
 ],
 "metadata": {
  "kernelspec": {
   "display_name": "LSST",
   "language": "python",
   "name": "lsst"
  },
  "language_info": {
   "codemirror_mode": {
    "name": "ipython",
    "version": 3
   },
   "file_extension": ".py",
   "mimetype": "text/x-python",
   "name": "python",
   "nbconvert_exporter": "python",
   "pygments_lexer": "ipython3",
   "version": "3.11.7"
  }
 },
 "nbformat": 4,
 "nbformat_minor": 5
}
