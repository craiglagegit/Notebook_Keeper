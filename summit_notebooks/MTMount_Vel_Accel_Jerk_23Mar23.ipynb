{
 "cells": [
  {
   "cell_type": "code",
   "execution_count": null,
   "metadata": {
    "execution": {
     "iopub.execute_input": "2023-03-23T17:29:53.844601Z",
     "iopub.status.busy": "2023-03-23T17:29:53.844361Z",
     "iopub.status.idle": "2023-03-23T17:29:54.332684Z",
     "shell.execute_reply": "2023-03-23T17:29:54.332222Z",
     "shell.execute_reply.started": "2023-03-23T17:29:53.844585Z"
    },
    "tags": []
   },
   "outputs": [],
   "source": [
    "import sys, time, os, asyncio, glob\n",
    "from datetime import datetime\n",
    "import numpy as np\n",
    "import matplotlib.pyplot as plt\n",
    "import pickle as pkl\n",
    "from astropy.time import Time, TimeDelta\n",
    "from scipy.interpolate import UnivariateSpline\n",
    "from lsst_efd_client import EfdClient"
   ]
  },
  {
   "cell_type": "code",
   "execution_count": null,
   "metadata": {
    "execution": {
     "iopub.execute_input": "2023-03-23T17:29:54.337106Z",
     "iopub.status.busy": "2023-03-23T17:29:54.336941Z",
     "iopub.status.idle": "2023-03-23T17:29:55.696203Z",
     "shell.execute_reply": "2023-03-23T17:29:55.695755Z",
     "shell.execute_reply.started": "2023-03-23T17:29:54.337092Z"
    },
    "tags": []
   },
   "outputs": [],
   "source": [
    "client = EfdClient('summit_efd')"
   ]
  },
  {
   "cell_type": "code",
   "execution_count": null,
   "metadata": {
    "execution": {
     "iopub.execute_input": "2023-03-23T17:29:55.698474Z",
     "iopub.status.busy": "2023-03-23T17:29:55.698220Z",
     "iopub.status.idle": "2023-03-23T17:29:55.780998Z",
     "shell.execute_reply": "2023-03-23T17:29:55.780593Z",
     "shell.execute_reply.started": "2023-03-23T17:29:55.698459Z"
    },
    "tags": []
   },
   "outputs": [],
   "source": [
    "# Now let's try to expand it to the whole run\n",
    "start = Time(\"2023-01-26T09:00:50\", scale='utc')\n",
    "end = Time(\"2023-01-26T09:01:00\", scale='utc')\n",
    "\n",
    "az = await client.select_time_series('lsst.sal.MTMount.azimuth', \\\n",
    "                                            ['*'],  start, end)"
   ]
  },
  {
   "cell_type": "code",
   "execution_count": null,
   "metadata": {
    "execution": {
     "iopub.execute_input": "2023-03-23T17:29:55.782925Z",
     "iopub.status.busy": "2023-03-23T17:29:55.782713Z",
     "iopub.status.idle": "2023-03-23T17:30:09.344483Z",
     "shell.execute_reply": "2023-03-23T17:30:09.344059Z",
     "shell.execute_reply.started": "2023-03-23T17:29:55.782911Z"
    },
    "tags": []
   },
   "outputs": [],
   "source": [
    "# Now let's try to expand it to the whole run\n",
    "start = Time(\"2023-01-26T06:51:00\", scale='utc')\n",
    "end = Time(\"2023-01-26T09:50:00\", scale='utc')\n",
    "\n",
    "az = await client.select_time_series('lsst.sal.MTMount.azimuth', \\\n",
    "                                            ['*'],  start, end)\n",
    "el = await client.select_time_series('lsst.sal.MTMount.elevation', \\\n",
    "                                            ['*'],  start, end)    \n",
    "\n",
    "az_track = await client.select_time_series('lsst.sal.MTMount.command_trackTarget', \\\n",
    "                                            ['azimuth', 'taiTime'],  start, end)\n",
    "el_track = await client.select_time_series('lsst.sal.MTMount.command_trackTarget', \\\n",
    "                                            ['elevation', 'taiTime'],  start, end)   \n",
    "print(len(az_track), len(el_track))"
   ]
  },
  {
   "cell_type": "code",
   "execution_count": null,
   "metadata": {
    "execution": {
     "iopub.execute_input": "2023-03-23T17:30:09.402228Z",
     "iopub.status.busy": "2023-03-23T17:30:09.402063Z",
     "iopub.status.idle": "2023-03-23T17:30:11.422028Z",
     "shell.execute_reply": "2023-03-23T17:30:11.421635Z",
     "shell.execute_reply.started": "2023-03-23T17:30:09.402215Z"
    },
    "tags": []
   },
   "outputs": [],
   "source": [
    "az['actualPosition'].plot()"
   ]
  },
  {
   "cell_type": "code",
   "execution_count": null,
   "metadata": {
    "execution": {
     "iopub.execute_input": "2023-03-23T17:30:11.422818Z",
     "iopub.status.busy": "2023-03-23T17:30:11.422639Z",
     "iopub.status.idle": "2023-03-23T17:30:11.439402Z",
     "shell.execute_reply": "2023-03-23T17:30:11.439018Z",
     "shell.execute_reply.started": "2023-03-23T17:30:11.422803Z"
    },
    "tags": []
   },
   "outputs": [],
   "source": [
    "azPos = await client.select_time_series('lsst.sal.MTMount.logevent_azimuthInPosition', \\\n",
    "                                            ['inPosition', 'private_kafkaStamp'],  start, end)\n",
    "azPos = azPos[azPos['inPosition']] # Select only the True values\n",
    "elPos = await client.select_time_series('lsst.sal.MTMount.logevent_elevationInPosition', \\\n",
    "                                            ['inPosition', 'private_kafkaStamp'],  start, end)\n",
    "elPos = elPos[elPos['inPosition']] # Select only the True values\n",
    "print(len(azPos), len(elPos))"
   ]
  },
  {
   "cell_type": "code",
   "execution_count": null,
   "metadata": {
    "execution": {
     "iopub.execute_input": "2023-03-23T17:30:11.440229Z",
     "iopub.status.busy": "2023-03-23T17:30:11.439946Z",
     "iopub.status.idle": "2023-03-23T17:30:11.674652Z",
     "shell.execute_reply": "2023-03-23T17:30:11.674233Z",
     "shell.execute_reply.started": "2023-03-23T17:30:11.440214Z"
    },
    "tags": []
   },
   "outputs": [],
   "source": [
    "# Find all of the time stamps\n",
    "\n",
    "# Start with start_slew times\n",
    "\n",
    "azs = az_track.values[:,0]\n",
    "els = el_track.values[:,0]\n",
    "times = az_track.values[:,1]\n",
    "start_slew_times_1 = []\n",
    "slew_dist_1 = []\n",
    "slew_times_1 = []\n",
    "for i in range(1,len(az_track)):\n",
    "    az_shift = abs(azs[i] - azs[i-1])\n",
    "    el_shift = abs(els[i] - els[i-1])\n",
    "    if (az_shift > 0.1) or (el_shift > 0.1):\n",
    "        start_slew_times_1.append(times[i])\n",
    "        az_shift_mod = az_shift * np.cos(els[i]*np.pi/180.0)\n",
    "        shift = np.sqrt(el_shift*el_shift + az_shift_mod*az_shift_mod)\n",
    "        slew_dist_1.append(shift)\n",
    "print(len(start_slew_times_1))\n",
    "\n",
    "# Now in position timestamps\n",
    "\n",
    "inPos_1 = []\n",
    "azPosValues = azPos.values[:,1]\n",
    "elPosValues = elPos.values[:,1]\n",
    "\n",
    "# Subtract 1 second from the inPos values, because the mount has stabilized well before the inPos signal\n",
    "for i in range(len(azPos)):\n",
    "    if azPosValues[i] > elPosValues[i]:\n",
    "        inPos_1.append(azPosValues[i] - 1.0)\n",
    "    else:\n",
    "        inPos_1.append(elPosValues[i] - 1.0)\n",
    "\n",
    "print(len(inPos_1))\n",
    "\n",
    "# Now pair them up\n",
    "\n",
    "pairMin = 1.0\n",
    "pairMax = 6.0\n",
    "\n",
    "start_slew_times = []\n",
    "slew_dist = []\n",
    "slew_times = []\n",
    "inPos = []\n",
    "\n",
    "for i in range(len(start_slew_times_1)):\n",
    "    for j in range(len(inPos_1)):\n",
    "        deltaT = inPos_1[j] - start_slew_times_1[i] \n",
    "        if deltaT > pairMin and deltaT < pairMax:\n",
    "            inPos.append(inPos_1[j])\n",
    "            start_slew_times.append(start_slew_times_1[i])\n",
    "            slew_times.append(deltaT)\n",
    "            slew_dist.append(slew_dist_1[i])\n",
    "        \n",
    "print(len(inPos), len(start_slew_times), len(slew_times), len(slew_dist))"
   ]
  },
  {
   "cell_type": "code",
   "execution_count": null,
   "metadata": {
    "execution": {
     "iopub.execute_input": "2023-03-23T21:28:34.855037Z",
     "iopub.status.busy": "2023-03-23T21:28:34.854760Z",
     "iopub.status.idle": "2023-03-23T21:31:03.669726Z",
     "shell.execute_reply": "2023-03-23T21:31:03.669272Z",
     "shell.execute_reply.started": "2023-03-23T21:28:34.855020Z"
    },
    "tags": []
   },
   "outputs": [],
   "source": [
    "# Plotting the mount plots\n",
    "maxAzVels = []\n",
    "maxAzAccels = []\n",
    "maxAzJerks = []\n",
    "maxElVels = []\n",
    "maxElAccels = []\n",
    "maxElJerks = []\n",
    "fig = plt.figure(figsize = (8,8))\n",
    "for index in range(len(inPos) - 1):\n",
    "\n",
    "    plotAz = az[(az['timestamp'] > start_slew_times[index]) & (az['timestamp'] < inPos[index])]\n",
    "    plotEl = el[(el['timestamp'] > start_slew_times[index]) & (el['timestamp'] < inPos[index])]\n",
    "    ss_time = Time(start_slew_times[index], format='unix_tai', scale='utc').isot\n",
    "    ip_time = Time(inPos[index], format='unix_tai', scale='utc').isot\n",
    "    \n",
    "    # Now calculates the spline fit and differentiate it to get the acceleration and jerk\n",
    "    azYs = plotAz['actualVelocity'].values\n",
    "    azXs = plotAz['timestamp'].values - plotAz['timestamp'].values[0]    \n",
    "    elYs = plotEl['actualVelocity'].values\n",
    "    elXs = plotEl['timestamp'].values - plotEl['timestamp'].values[0]\n",
    "    plotAzXs = np.linspace(azXs[0], azXs[-1], 1000)\n",
    "    plotElXs = np.linspace(elXs[0], elXs[-1], 1000)\n",
    "    azSpline = UnivariateSpline(azXs, azYs, s=0.2) \n",
    "    elSpline = UnivariateSpline(elXs, elYs, s=0.2) \n",
    "    azAccel = azSpline.derivative()\n",
    "    azJerk = azAccel.derivative()\n",
    "    elAccel = elSpline.derivative()\n",
    "    elJerk = elAccel.derivative()\n",
    "    \n",
    "    fig.clear()\n",
    "    plt.subplots_adjust(wspace=0.3, hspace=0.5)\n",
    "    plt.suptitle(f\"MT Mount Slews - {ip_time}\", fontsize = 18)\n",
    "    plt.subplot(4,2,1)\n",
    "    ax1 = plotAz['actualPosition'].plot(legend=True, color='red', marker='x')\n",
    "    ax1.axvline(ss_time, color=\"black\", linestyle=\"--\", label=\"Start slew\")\n",
    "    ax1.axvline(ip_time, color=\"blue\", linestyle=\"--\", label=\"InPosition\")\n",
    "    ax1.set_title(f\"Azimuth\")\n",
    "    ax1.set_ylabel(\"Degrees\")\n",
    "    ax1.legend()\n",
    "    plt.subplot(4,2,2)\n",
    "    ax2 = plotEl['actualPosition'].plot(legend=True, color='green', marker='x')\n",
    "    ax2.axvline(ss_time, color=\"black\", linestyle=\"--\", label=\"Start slew\")\n",
    "    ax2.axvline(ip_time, color=\"blue\", linestyle=\"--\", label=\"InPosition\")\n",
    "    ax2.set_title(f\"Elevation\")\n",
    "    ax2.set_ylabel(\"Degrees\")\n",
    "    ax2.legend()\n",
    "    plt.subplot(4,2,3)\n",
    "    plt.plot(plotAzXs, azSpline(plotAzXs), lw=3, color='r', label='Spline fit')\n",
    "    plt.scatter(azXs, azYs, marker='x', color='red', s=100, label='Measured points')\n",
    "    plt.title(f\"Azimuth Velocity\")\n",
    "    plt.ylabel(\"Degrees/sec?\")\n",
    "    plt.legend()\n",
    "    plt.subplot(4,2,4)\n",
    "    plt.plot(plotElXs, elSpline(plotElXs), lw=3, color='g', label='Spline fit')\n",
    "    plt.scatter(elXs, elYs, marker='x', color='g', s=100, label='Measured points')\n",
    "    plt.title(f\"Elevation Velocity\")\n",
    "    plt.ylabel(\"Degrees/sec?\")\n",
    "    plt.legend()\n",
    "    plt.subplot(4,2,5)\n",
    "    plt.plot(plotAzXs, azAccel(plotAzXs), lw=3, color='r', label='Acceleration')\n",
    "    plt.title(f\"Azimuth Acceleration\")\n",
    "    plt.ylabel(\"Degrees/sec^2\")\n",
    "    plt.legend()\n",
    "    plt.subplot(4,2,6)\n",
    "    plt.plot(plotElXs, elAccel(plotElXs), lw=3, color='g', label='Acceleration')\n",
    "    plt.title(f\"Elevation Acceleration\")\n",
    "    plt.ylabel(\"Degrees/sec^2\")\n",
    "    plt.legend()\n",
    "    plt.subplot(4,2,7)\n",
    "    plt.plot(plotAzXs, azJerk(plotAzXs), lw=3, color='r', label='Jerk')\n",
    "    plt.title(f\"Azimuth Jerk\")\n",
    "    plt.ylabel(\"Degrees/sec^3\")\n",
    "    plt.legend()\n",
    "    plt.subplot(4,2,8)\n",
    "    plt.plot(plotElXs, elJerk(plotElXs), lw=3, color='g', label='Jerk')\n",
    "    plt.title(f\"Elevation Jerk\")\n",
    "    plt.ylabel(\"Degrees/sec^3\")\n",
    "    plt.legend()\n",
    "    timestamp = ip_time.split('.')[0].replace('-','').replace(':','')\n",
    "    plt.savefig(f\"/home/craiglagegit/DATA/MTMount_26jan23/MT_Mount_Accel_Jerk_{timestamp}.pdf\")\n",
    "    maxAzVel = np.max(abs(azSpline(plotAzXs)))\n",
    "    maxAzAccel = np.max(abs(azAccel(plotAzXs)))\n",
    "    maxAzJerk = np.max(abs(azJerk(plotAzXs)))\n",
    "    maxElAccel = np.max(abs(elAccel(plotAzXs)))\n",
    "    maxElJerk = np.max(abs(elJerk(plotAzXs)))\n",
    "    maxElVel = np.max(abs(elSpline(plotAzXs)))\n",
    "    maxAzVels.append(maxAzVel)\n",
    "    maxAzAccels.append(maxAzAccel)\n",
    "    maxAzJerks.append(maxAzJerk)\n",
    "    maxElVels.append(maxElVel)\n",
    "    maxElAccels.append(maxElAccel)\n",
    "    maxElJerks.append(maxElJerk)\n",
    "    \n",
    "\n"
   ]
  },
  {
   "cell_type": "code",
   "execution_count": null,
   "metadata": {
    "execution": {
     "iopub.execute_input": "2023-03-23T21:44:48.823368Z",
     "iopub.status.busy": "2023-03-23T21:44:48.823095Z",
     "iopub.status.idle": "2023-03-23T21:44:49.727044Z",
     "shell.execute_reply": "2023-03-23T21:44:49.726603Z",
     "shell.execute_reply.started": "2023-03-23T21:44:48.823350Z"
    },
    "tags": []
   },
   "outputs": [],
   "source": [
    "fig = plt.figure(figsize=(8,8))\n",
    "plt.subplots_adjust(wspace=0.3, hspace=0.5)\n",
    "plt.suptitle(f\"MT Mount Accels and Jerks\", fontsize = 18)\n",
    "plt.subplot(2,3,1)\n",
    "plt.title(\"Az Max Velocity\")\n",
    "plt.hist(maxAzVels, color='orange')\n",
    "plt.xlabel(\"Velocity(deg/s)\")\n",
    "plt.ylim(0,120)\n",
    "plt.plot([10.5, 10.5],[0,120],color='red', ls='--', label='Max')\n",
    "plt.plot([7.0, 7.0],[0,120],color='blue', ls='--', label='Design')\n",
    "plt.legend()\n",
    "plt.subplot(2,3,2)\n",
    "plt.title(\"Az Max Accels\")\n",
    "plt.hist(maxAzAccels, color='orange')\n",
    "plt.xlabel(\"Accel(deg/s^2)\")\n",
    "plt.ylim(0,120)\n",
    "plt.plot([10.5, 10.5],[0,120],color='red', ls='--', label='Max')\n",
    "plt.plot([7.0, 7.0],[0,120],color='blue', ls='--', label='Design')\n",
    "plt.legend()\n",
    "plt.subplot(2,3,3)\n",
    "plt.title(\"Az Max Jerk\")\n",
    "plt.hist(maxAzJerks, color='orange')\n",
    "plt.xlabel(\"Jerk(deg/s^3)\")\n",
    "plt.ylim(0,120)\n",
    "plt.plot([42.0, 42.0],[0,120],color='red', ls='--', label='Max')\n",
    "plt.plot([28.0, 28.0],[0,120],color='blue', ls='--', label='Design')\n",
    "plt.legend()\n",
    "plt.subplot(2,3,4)\n",
    "plt.title(\"El Max Velocity\")\n",
    "plt.hist(maxElVels, color='orange')\n",
    "plt.xlabel(\"Velocity(deg/s)\")\n",
    "plt.ylim(0,120)\n",
    "plt.plot([5.25, 5.25],[0,120],color='red', ls='--', label='Max')\n",
    "plt.plot([3.5, 3.5],[0,120],color='blue', ls='--', label='Design')\n",
    "plt.legend()\n",
    "plt.subplot(2,3,5)\n",
    "plt.title(\"El Max Accels\")\n",
    "plt.hist(maxElAccels, color='orange')\n",
    "plt.xlabel(\"Accel(deg/s^2)\")\n",
    "plt.ylim(0,120)\n",
    "plt.plot([5.25, 5.25],[0,120],color='red', ls='--', label='Max')\n",
    "plt.plot([3.5, 3.5],[0,120],color='blue', ls='--', label='Design')\n",
    "plt.legend()\n",
    "plt.subplot(2,3,6)\n",
    "plt.title(\"El Max Jerk\")\n",
    "plt.hist(maxElJerks, color='orange')\n",
    "plt.xlabel(\"Jerk(deg/s^3)\")\n",
    "plt.ylim(0,120)\n",
    "plt.plot([21, 21],[0,120],color='red', ls='--', label='Max')\n",
    "plt.plot([14.0, 14.0],[0,120],color='blue', ls='--', label='Design')\n",
    "plt.legend()\n",
    "\n",
    "plt.savefig(f\"/home/craiglagegit/DATA/MTMount_26jan23/Max_Accel_Jerks_26Jan23.pdf\")"
   ]
  },
  {
   "cell_type": "code",
   "execution_count": null,
   "metadata": {},
   "outputs": [],
   "source": []
  }
 ],
 "metadata": {
  "kernelspec": {
   "display_name": "LSST",
   "language": "python",
   "name": "lsst"
  },
  "language_info": {
   "codemirror_mode": {
    "name": "ipython",
    "version": 3
   },
   "file_extension": ".py",
   "mimetype": "text/x-python",
   "name": "python",
   "nbconvert_exporter": "python",
   "pygments_lexer": "ipython3",
   "version": "3.10.9"
  }
 },
 "nbformat": 4,
 "nbformat_minor": 4
}
