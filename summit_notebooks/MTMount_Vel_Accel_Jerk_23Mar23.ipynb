{
 "cells": [
  {
   "cell_type": "code",
   "execution_count": null,
   "metadata": {
    "execution": {
     "iopub.execute_input": "2023-03-24T10:54:05.684541Z",
     "iopub.status.busy": "2023-03-24T10:54:05.684165Z",
     "iopub.status.idle": "2023-03-24T10:54:06.203559Z",
     "shell.execute_reply": "2023-03-24T10:54:06.203016Z",
     "shell.execute_reply.started": "2023-03-24T10:54:05.684524Z"
    },
    "tags": []
   },
   "outputs": [],
   "source": [
    "import sys, time, os, asyncio, glob\n",
    "from datetime import datetime\n",
    "import numpy as np\n",
    "import matplotlib.pyplot as plt\n",
    "import pickle as pkl\n",
    "from astropy.time import Time, TimeDelta\n",
    "from scipy.interpolate import UnivariateSpline\n",
    "from lsst_efd_client import EfdClient"
   ]
  },
  {
   "cell_type": "code",
   "execution_count": null,
   "metadata": {
    "execution": {
     "iopub.execute_input": "2023-03-24T10:54:07.056722Z",
     "iopub.status.busy": "2023-03-24T10:54:07.056449Z",
     "iopub.status.idle": "2023-03-24T10:54:08.236640Z",
     "shell.execute_reply": "2023-03-24T10:54:08.236086Z",
     "shell.execute_reply.started": "2023-03-24T10:54:07.056705Z"
    },
    "tags": []
   },
   "outputs": [],
   "source": [
    "client = EfdClient('summit_efd')"
   ]
  },
  {
   "cell_type": "code",
   "execution_count": null,
   "metadata": {
    "execution": {
     "iopub.execute_input": "2023-03-23T17:29:55.698474Z",
     "iopub.status.busy": "2023-03-23T17:29:55.698220Z",
     "iopub.status.idle": "2023-03-23T17:29:55.780998Z",
     "shell.execute_reply": "2023-03-23T17:29:55.780593Z",
     "shell.execute_reply.started": "2023-03-23T17:29:55.698459Z"
    },
    "tags": []
   },
   "outputs": [],
   "source": [
    "# Now let's try to expand it to the whole run\n",
    "start = Time(\"2023-01-26T06:51:00\", scale='utc')\n",
    "end = Time(\"2023-01-26T09:50:00\", scale='utc')\n",
    "\n",
    "az = await client.select_time_series('lsst.sal.MTMount.azimuth', \\\n",
    "                                            ['*'],  start, end)"
   ]
  },
  {
   "cell_type": "code",
   "execution_count": null,
   "metadata": {
    "execution": {
     "iopub.execute_input": "2023-03-24T11:22:30.956937Z",
     "iopub.status.busy": "2023-03-24T11:22:30.956638Z",
     "iopub.status.idle": "2023-03-24T11:22:44.319657Z",
     "shell.execute_reply": "2023-03-24T11:22:44.319188Z",
     "shell.execute_reply.started": "2023-03-24T11:22:30.956919Z"
    },
    "tags": []
   },
   "outputs": [],
   "source": [
    "# Now let's try to expand it to the whole run\n",
    "start = Time(\"2023-01-26T06:51:00\", scale='utc')\n",
    "end = Time(\"2023-01-26T09:50:00\", scale='utc')\n",
    "# Second more recent run\n",
    "#start = Time(\"2023-03-23T06:50:00\", scale='utc')\n",
    "#end = Time(\"2023-03-23T09:15:00\", scale='utc')\n",
    "\n",
    "az = await client.select_time_series('lsst.sal.MTMount.azimuth', \\\n",
    "                                            ['*'],  start, end)\n",
    "el = await client.select_time_series('lsst.sal.MTMount.elevation', \\\n",
    "                                            ['*'],  start, end)    \n",
    "\n",
    "az_track = await client.select_time_series('lsst.sal.MTMount.command_trackTarget', \\\n",
    "                                            ['azimuth', 'taiTime'],  start, end)\n",
    "el_track = await client.select_time_series('lsst.sal.MTMount.command_trackTarget', \\\n",
    "                                            ['elevation', 'taiTime'],  start, end)   \n",
    "print(len(az_track), len(el_track))"
   ]
  },
  {
   "cell_type": "code",
   "execution_count": null,
   "metadata": {
    "execution": {
     "iopub.execute_input": "2023-03-24T11:22:47.271740Z",
     "iopub.status.busy": "2023-03-24T11:22:47.271350Z",
     "iopub.status.idle": "2023-03-24T11:22:49.417887Z",
     "shell.execute_reply": "2023-03-24T11:22:49.417470Z",
     "shell.execute_reply.started": "2023-03-24T11:22:47.271722Z"
    },
    "tags": []
   },
   "outputs": [],
   "source": [
    "az['actualPosition'].plot()"
   ]
  },
  {
   "cell_type": "code",
   "execution_count": null,
   "metadata": {
    "execution": {
     "iopub.execute_input": "2023-03-24T11:22:51.839178Z",
     "iopub.status.busy": "2023-03-24T11:22:51.838895Z",
     "iopub.status.idle": "2023-03-24T11:22:51.856404Z",
     "shell.execute_reply": "2023-03-24T11:22:51.855825Z",
     "shell.execute_reply.started": "2023-03-24T11:22:51.839161Z"
    },
    "tags": []
   },
   "outputs": [],
   "source": [
    "azPos = await client.select_time_series('lsst.sal.MTMount.logevent_azimuthInPosition', \\\n",
    "                                            ['inPosition', 'private_kafkaStamp'],  start, end)\n",
    "azPos = azPos[azPos['inPosition']] # Select only the True values\n",
    "elPos = await client.select_time_series('lsst.sal.MTMount.logevent_elevationInPosition', \\\n",
    "                                            ['inPosition', 'private_kafkaStamp'],  start, end)\n",
    "elPos = elPos[elPos['inPosition']] # Select only the True values\n",
    "print(len(azPos), len(elPos))"
   ]
  },
  {
   "cell_type": "code",
   "execution_count": null,
   "metadata": {
    "execution": {
     "iopub.execute_input": "2023-03-24T11:22:53.712091Z",
     "iopub.status.busy": "2023-03-24T11:22:53.711812Z",
     "iopub.status.idle": "2023-03-24T11:22:53.936581Z",
     "shell.execute_reply": "2023-03-24T11:22:53.936141Z",
     "shell.execute_reply.started": "2023-03-24T11:22:53.712074Z"
    },
    "tags": []
   },
   "outputs": [],
   "source": [
    "# Find all of the time stamps\n",
    "\n",
    "# Start with start_slew times\n",
    "\n",
    "azs = az_track.values[:,0]\n",
    "els = el_track.values[:,0]\n",
    "times = az_track.values[:,1]\n",
    "start_slew_times_1 = []\n",
    "slew_dist_1 = []\n",
    "slew_times_1 = []\n",
    "for i in range(1,len(az_track)):\n",
    "    az_shift = abs(azs[i] - azs[i-1])\n",
    "    el_shift = abs(els[i] - els[i-1])\n",
    "    if (az_shift > 0.1) or (el_shift > 0.1):\n",
    "        start_slew_times_1.append(times[i])\n",
    "        az_shift_mod = az_shift * np.cos(els[i]*np.pi/180.0)\n",
    "        shift = np.sqrt(el_shift*el_shift + az_shift_mod*az_shift_mod)\n",
    "        slew_dist_1.append(shift)\n",
    "print(len(start_slew_times_1))\n",
    "\n",
    "# Now in position timestamps\n",
    "\n",
    "inPos_1 = []\n",
    "azPosValues = azPos.values[:,1]\n",
    "elPosValues = elPos.values[:,1]\n",
    "\n",
    "# Subtract 1 second from the inPos values, because the mount has stabilized well before the inPos signal\n",
    "for i in range(len(azPos)):\n",
    "    if azPosValues[i] > elPosValues[i]:\n",
    "        inPos_1.append(azPosValues[i])\n",
    "    else:\n",
    "        inPos_1.append(elPosValues[i])\n",
    "\n",
    "print(len(inPos_1))\n",
    "\n",
    "# Now pair them up\n",
    "\n",
    "pairMin = 1.0\n",
    "pairMax = 6.0\n",
    "\n",
    "start_slew_times = []\n",
    "slew_dist = []\n",
    "slew_times = []\n",
    "inPos = []\n",
    "\n",
    "for i in range(len(start_slew_times_1)):\n",
    "    for j in range(len(inPos_1)):\n",
    "        deltaT = inPos_1[j] - start_slew_times_1[i] \n",
    "        if deltaT > pairMin and deltaT < pairMax:\n",
    "            inPos.append(inPos_1[j])\n",
    "            start_slew_times.append(start_slew_times_1[i])\n",
    "            slew_times.append(deltaT)\n",
    "            slew_dist.append(slew_dist_1[i])\n",
    "        \n",
    "print(len(inPos), len(start_slew_times), len(slew_times), len(slew_dist))"
   ]
  },
  {
   "cell_type": "code",
   "execution_count": null,
   "metadata": {
    "execution": {
     "iopub.execute_input": "2023-03-24T11:22:55.760381Z",
     "iopub.status.busy": "2023-03-24T11:22:55.759980Z",
     "iopub.status.idle": "2023-03-24T11:25:30.315431Z",
     "shell.execute_reply": "2023-03-24T11:25:30.314977Z",
     "shell.execute_reply.started": "2023-03-24T11:22:55.760364Z"
    },
    "tags": []
   },
   "outputs": [],
   "source": [
    "# Plotting the mount plots\n",
    "maxAzVels = []\n",
    "maxAzAccels = []\n",
    "maxAzJerks = []\n",
    "maxElVels = []\n",
    "maxElAccels = []\n",
    "maxElJerks = []\n",
    "fig = plt.figure(figsize = (8,8))\n",
    "for index in range(len(inPos) - 1):\n",
    "\n",
    "    plotAz = az[(az['timestamp'] > (start_slew_times[index]-0.5)) & (az['timestamp'] < (inPos[index]-1.0))]\n",
    "    plotEl = el[(el['timestamp'] > (start_slew_times[index]-0.5)) & (el['timestamp'] < (inPos[index]-1.0))]\n",
    "    ss_time = Time(start_slew_times[index], format='unix_tai', scale='utc').isot\n",
    "    ip_time = Time(inPos[index], format='unix_tai', scale='utc').isot\n",
    "    \n",
    "    # Now calculates the spline fit and differentiate it to get the acceleration and jerk\n",
    "    azYs = plotAz['actualVelocity'].values\n",
    "    azXs = plotAz['timestamp'].values - plotAz['timestamp'].values[0]    \n",
    "    elYs = plotEl['actualVelocity'].values\n",
    "    elXs = plotEl['timestamp'].values - plotEl['timestamp'].values[0]\n",
    "    plotAzXs = np.linspace(azXs[0], azXs[-1], 1000)\n",
    "    plotElXs = np.linspace(elXs[0], elXs[-1], 1000)\n",
    "    # The s values below are how much smoothing is done\n",
    "    # Results are heavily dependent on these values\n",
    "    # Currently running more smoothing on the jerks\n",
    "    azSpline = UnivariateSpline(azXs, azYs, s=0.10) \n",
    "    elSpline = UnivariateSpline(elXs, elYs, s=0.10) \n",
    "    azJerkSpline = UnivariateSpline(azXs, azYs, s=0.25) \n",
    "    elJerkSpline = UnivariateSpline(elXs, elYs, s=0.25) \n",
    "    azAccel = azSpline.derivative()\n",
    "    azJerk = azJerkSpline.derivative(n=2)\n",
    "    elAccel = elSpline.derivative()\n",
    "    elJerk = elJerkSpline.derivative(n=2)\n",
    "    \n",
    "    fig.clear()\n",
    "    plt.subplots_adjust(wspace=0.3, hspace=0.5)\n",
    "    plt.suptitle(f\"MT Mount Slews - {ip_time}\", fontsize = 18)\n",
    "    plt.subplot(4,2,1)\n",
    "    ax1 = plotAz['actualPosition'].plot(legend=True, color='red', marker='x')\n",
    "    ax1.axvline(ss_time, color=\"black\", linestyle=\"--\", label=\"Start slew\")\n",
    "    ax1.axvline(ip_time, color=\"blue\", linestyle=\"--\", label=\"InPosition\")\n",
    "    ax1.set_title(f\"Azimuth\")\n",
    "    ax1.set_ylabel(\"Degrees\")\n",
    "    ax1.legend()\n",
    "    plt.subplot(4,2,2)\n",
    "    ax2 = plotEl['actualPosition'].plot(legend=True, color='green', marker='x')\n",
    "    ax2.axvline(ss_time, color=\"black\", linestyle=\"--\", label=\"Start slew\")\n",
    "    ax2.axvline(ip_time, color=\"blue\", linestyle=\"--\", label=\"InPosition\")\n",
    "    ax2.set_title(f\"Elevation\")\n",
    "    ax2.set_ylabel(\"Degrees\")\n",
    "    ax2.legend()\n",
    "    plt.subplot(4,2,3)\n",
    "    plt.plot(plotAzXs, azSpline(plotAzXs), lw=3, color='r', label='Spline fit')\n",
    "    plt.scatter(azXs, azYs, marker='x', color='red', s=100, label='Measured points')\n",
    "    plt.title(f\"Azimuth Velocity\")\n",
    "    plt.ylabel(\"Degrees/sec?\")\n",
    "    plt.legend()\n",
    "    plt.subplot(4,2,4)\n",
    "    plt.plot(plotElXs, elSpline(plotElXs), lw=3, color='g', label='Spline fit')\n",
    "    plt.scatter(elXs, elYs, marker='x', color='g', s=100, label='Measured points')\n",
    "    plt.title(f\"Elevation Velocity\")\n",
    "    plt.ylabel(\"Degrees/sec?\")\n",
    "    plt.legend()\n",
    "    plt.subplot(4,2,5)\n",
    "    plt.plot(plotAzXs, azAccel(plotAzXs), lw=3, color='r', label='Acceleration')\n",
    "    plt.title(f\"Azimuth Acceleration\")\n",
    "    plt.ylabel(\"Degrees/sec^2\")\n",
    "    plt.legend()\n",
    "    plt.subplot(4,2,6)\n",
    "    plt.plot(plotElXs, elAccel(plotElXs), lw=3, color='g', label='Acceleration')\n",
    "    plt.title(f\"Elevation Acceleration\")\n",
    "    plt.ylabel(\"Degrees/sec^2\")\n",
    "    plt.legend()\n",
    "    plt.subplot(4,2,7)\n",
    "    plt.plot(plotAzXs, azJerk(plotAzXs), lw=3, color='r', label='Jerk')\n",
    "    plt.title(f\"Azimuth Jerk\")\n",
    "    plt.ylabel(\"Degrees/sec^3\")\n",
    "    plt.legend()\n",
    "    plt.subplot(4,2,8)\n",
    "    plt.plot(plotElXs, elJerk(plotElXs), lw=3, color='g', label='Jerk')\n",
    "    plt.title(f\"Elevation Jerk\")\n",
    "    plt.ylabel(\"Degrees/sec^3\")\n",
    "    plt.legend()\n",
    "    timestamp = ip_time.split('.')[0].replace('-','').replace(':','')\n",
    "    plt.savefig(f\"/home/craiglagegit/DATA/MTMount_22mar23/MT_Mount_Accel_Jerk_{timestamp}.pdf\")\n",
    "    maxAzVel = np.max(abs(azSpline(plotAzXs)))\n",
    "    maxAzAccel = np.max(abs(azAccel(plotAzXs)))\n",
    "    maxAzJerk = np.max(abs(azJerk(plotAzXs)))\n",
    "    maxElAccel = np.max(abs(elAccel(plotAzXs)))\n",
    "    maxElJerk = np.max(abs(elJerk(plotAzXs)))\n",
    "    maxElVel = np.max(abs(elSpline(plotAzXs)))\n",
    "    maxAzVels.append(maxAzVel)\n",
    "    maxAzAccels.append(maxAzAccel)\n",
    "    maxAzJerks.append(maxAzJerk)\n",
    "    maxElVels.append(maxElVel)\n",
    "    maxElAccels.append(maxElAccel)\n",
    "    maxElJerks.append(maxElJerk)\n",
    "    if maxAzJerk > 42.0 or maxElJerk > 21.0 or maxAzAccel > 10.5 or maxElAccel > 5.25:\n",
    "        plt.savefig(f\"/home/craiglagegit/DATA/MTMount_accel_jerk_fails/MT_Mount_Accel_Jerk_{timestamp}.pdf\")\n",
    "        print(timestamp)\n",
    "    \n",
    "\n"
   ]
  },
  {
   "cell_type": "code",
   "execution_count": null,
   "metadata": {
    "execution": {
     "iopub.execute_input": "2023-03-24T11:26:38.685250Z",
     "iopub.status.busy": "2023-03-24T11:26:38.684965Z",
     "iopub.status.idle": "2023-03-24T11:26:39.634773Z",
     "shell.execute_reply": "2023-03-24T11:26:39.634332Z",
     "shell.execute_reply.started": "2023-03-24T11:26:38.685234Z"
    },
    "tags": []
   },
   "outputs": [],
   "source": [
    "fig = plt.figure(figsize=(8,8))\n",
    "plt.subplots_adjust(wspace=0.3, hspace=0.5)\n",
    "plt.suptitle(f\"MT Mount Accels and Jerks\", fontsize = 18)\n",
    "plt.subplot(2,3,1)\n",
    "plt.title(\"Az Max Velocity\")\n",
    "plt.hist(maxAzVels, color='orange')\n",
    "plt.xlabel(\"Velocity(deg/s)\")\n",
    "plt.ylim(0,120)\n",
    "plt.plot([10.5, 10.5],[0,120],color='red', ls='--', label='Max')\n",
    "plt.plot([7.0, 7.0],[0,120],color='blue', ls='--', label='Design')\n",
    "plt.legend()\n",
    "plt.subplot(2,3,2)\n",
    "plt.title(\"Az Max Accels\")\n",
    "plt.hist(maxAzAccels, color='orange')\n",
    "plt.xlabel(\"Accel(deg/s^2)\")\n",
    "plt.ylim(0,120)\n",
    "plt.plot([10.5, 10.5],[0,120],color='red', ls='--', label='Max')\n",
    "plt.plot([7.0, 7.0],[0,120],color='blue', ls='--', label='Design')\n",
    "plt.legend()\n",
    "plt.subplot(2,3,3)\n",
    "plt.title(\"Az Max Jerk\")\n",
    "plt.hist(maxAzJerks, color='orange')\n",
    "plt.xlabel(\"Jerk(deg/s^3)\")\n",
    "plt.ylim(0,120)\n",
    "plt.plot([42.0, 42.0],[0,120],color='red', ls='--', label='Max')\n",
    "plt.plot([28.0, 28.0],[0,120],color='blue', ls='--', label='Design')\n",
    "plt.legend()\n",
    "plt.subplot(2,3,4)\n",
    "plt.title(\"El Max Velocity\")\n",
    "plt.hist(maxElVels, color='orange')\n",
    "plt.xlabel(\"Velocity(deg/s)\")\n",
    "plt.ylim(0,120)\n",
    "plt.plot([5.25, 5.25],[0,120],color='red', ls='--', label='Max')\n",
    "plt.plot([3.5, 3.5],[0,120],color='blue', ls='--', label='Design')\n",
    "plt.legend()\n",
    "plt.subplot(2,3,5)\n",
    "plt.title(\"El Max Accels\")\n",
    "plt.hist(maxElAccels, color='orange')\n",
    "plt.xlabel(\"Accel(deg/s^2)\")\n",
    "plt.ylim(0,120)\n",
    "plt.plot([5.25, 5.25],[0,120],color='red', ls='--', label='Max')\n",
    "plt.plot([3.5, 3.5],[0,120],color='blue', ls='--', label='Design')\n",
    "plt.legend()\n",
    "plt.subplot(2,3,6)\n",
    "plt.title(\"El Max Jerk\")\n",
    "plt.hist(maxElJerks, color='orange')\n",
    "plt.xlabel(\"Jerk(deg/s^3)\")\n",
    "plt.ylim(0,120)\n",
    "plt.plot([21, 21],[0,120],color='red', ls='--', label='Max')\n",
    "plt.plot([14.0, 14.0],[0,120],color='blue', ls='--', label='Design')\n",
    "plt.legend()\n",
    "\n",
    "plt.savefig(f\"/home/craiglagegit/DATA/MTMount_26jan23/Max_Accel_Jerks_26Jan23.pdf\")"
   ]
  },
  {
   "cell_type": "code",
   "execution_count": null,
   "metadata": {},
   "outputs": [],
   "source": []
  }
 ],
 "metadata": {
  "kernelspec": {
   "display_name": "LSST",
   "language": "python",
   "name": "lsst"
  },
  "language_info": {
   "codemirror_mode": {
    "name": "ipython",
    "version": 3
   },
   "file_extension": ".py",
   "mimetype": "text/x-python",
   "name": "python",
   "nbconvert_exporter": "python",
   "pygments_lexer": "ipython3",
   "version": "3.10.9"
  }
 },
 "nbformat": 4,
 "nbformat_minor": 4
}
