{
 "cells": [
  {
   "cell_type": "markdown",
   "id": "153412e6",
   "metadata": {},
   "source": [
    "# AuxTel accelerometers\n",
    "Querying AuxTel accelerometers \\\n",
    "Craig Lage - 11-May-23"
   ]
  },
  {
   "cell_type": "code",
   "execution_count": null,
   "id": "fcd0a71e",
   "metadata": {
    "execution": {
     "iopub.execute_input": "2023-10-04T16:15:28.741583Z",
     "iopub.status.busy": "2023-10-04T16:15:28.740814Z",
     "iopub.status.idle": "2023-10-04T16:15:29.339592Z",
     "shell.execute_reply": "2023-10-04T16:15:29.339226Z",
     "shell.execute_reply.started": "2023-10-04T16:15:28.741548Z"
    },
    "tags": []
   },
   "outputs": [],
   "source": [
    "import sys, time, os, asyncio\n",
    "import numpy as np\n",
    "import matplotlib.pyplot as plt\n",
    "import pandas as pd\n",
    "from astropy.time import Time, TimeDelta\n",
    "from lsst_efd_client.efd_helper import EfdClient, merge_packed_time_series"
   ]
  },
  {
   "cell_type": "code",
   "execution_count": null,
   "id": "aed2b09e",
   "metadata": {
    "execution": {
     "iopub.execute_input": "2023-10-04T16:15:29.666569Z",
     "iopub.status.busy": "2023-10-04T16:15:29.666275Z",
     "iopub.status.idle": "2023-10-04T16:15:31.145128Z",
     "shell.execute_reply": "2023-10-04T16:15:31.144470Z",
     "shell.execute_reply.started": "2023-10-04T16:15:29.666540Z"
    },
    "tags": []
   },
   "outputs": [],
   "source": [
    "# Get EFD client\n",
    "client = EfdClient('summit_efd')"
   ]
  },
  {
   "cell_type": "code",
   "execution_count": null,
   "id": "b8c90662-31f2-4da1-8647-01c6fa8e5a45",
   "metadata": {
    "execution": {
     "iopub.execute_input": "2023-10-04T16:17:58.768684Z",
     "iopub.status.busy": "2023-10-04T16:17:58.768311Z",
     "iopub.status.idle": "2023-10-04T16:17:58.774635Z",
     "shell.execute_reply": "2023-10-04T16:17:58.773906Z",
     "shell.execute_reply.started": "2023-10-04T16:17:58.768653Z"
    },
    "tags": []
   },
   "outputs": [],
   "source": [
    "# Times to look at the data\n",
    "start = Time(\"2023-10-04 14:15:00Z\", scale='utc')\n",
    "end = Time(\"2023-10-04 14:40:00Z\", scale='utc')"
   ]
  },
  {
   "cell_type": "code",
   "execution_count": null,
   "id": "8a14d41e-cda6-438b-9199-f11ffd8aebd4",
   "metadata": {
    "execution": {
     "iopub.execute_input": "2023-10-04T16:17:59.672761Z",
     "iopub.status.busy": "2023-10-04T16:17:59.672029Z",
     "iopub.status.idle": "2023-10-04T16:17:59.677267Z",
     "shell.execute_reply": "2023-10-04T16:17:59.676159Z",
     "shell.execute_reply.started": "2023-10-04T16:17:59.672726Z"
    },
    "tags": []
   },
   "outputs": [],
   "source": [
    "baseFields = ['accelerationX', 'accelerationY', 'accelerationZ']\n",
    "sensorNames = ['AuxTel-Truss', 'AuxTel-M1', 'AuxTel-M2'] "
   ]
  },
  {
   "cell_type": "markdown",
   "id": "9335c693-dae0-4c1c-900e-61730f6c8572",
   "metadata": {},
   "source": [
    "##  Get all of the data for the selected times"
   ]
  },
  {
   "cell_type": "code",
   "execution_count": null,
   "id": "07eca9b2-9c6b-4d11-b1a2-04f3dc57927c",
   "metadata": {
    "execution": {
     "iopub.execute_input": "2023-10-04T16:18:01.679382Z",
     "iopub.status.busy": "2023-10-04T16:18:01.678749Z",
     "iopub.status.idle": "2023-10-04T16:18:11.701570Z",
     "shell.execute_reply": "2023-10-04T16:18:11.700861Z",
     "shell.execute_reply.started": "2023-10-04T16:18:01.679351Z"
    },
    "tags": []
   },
   "outputs": [],
   "source": [
    "packed_dataframe = await client.select_time_series(\"lsst.sal.ESS.accelerometer\", [\"*\"], start, end)"
   ]
  },
  {
   "cell_type": "markdown",
   "id": "df351c57-a238-4bda-a908-03565a90547d",
   "metadata": {},
   "source": [
    "## Now unpack it and plot it by sensor"
   ]
  },
  {
   "cell_type": "code",
   "execution_count": null,
   "id": "7e4739e4-4572-406f-8475-70e9f20d8080",
   "metadata": {
    "execution": {
     "iopub.execute_input": "2023-10-04T16:18:11.732300Z",
     "iopub.status.busy": "2023-10-04T16:18:11.732163Z",
     "iopub.status.idle": "2023-10-04T16:18:35.811837Z",
     "shell.execute_reply": "2023-10-04T16:18:35.811347Z",
     "shell.execute_reply.started": "2023-10-04T16:18:11.732288Z"
    },
    "tags": []
   },
   "outputs": [],
   "source": [
    "fig, axs = plt.subplots(1,3, figsize = (10,5))\n",
    "plt.subplots_adjust(hspace=0.5, wspace=0.5)\n",
    "\n",
    "for i, sensorName in enumerate(sensorNames):\n",
    "    sub_dataframe = packed_dataframe.loc[packed_dataframe.sensorName==sensorName]\n",
    "    ax = axs[i]\n",
    "    ax.set_title(sensorName)\n",
    "    ax.set_ylabel(\"Accel(m/s^2)\")\n",
    "    for baseField in baseFields:\n",
    "        df = merge_packed_time_series(sub_dataframe, baseField, stride=1,\n",
    "                             ref_timestamp_col=\"timestamp\", fmt='unix_tai',\n",
    "                             scale='tai')\n",
    "        df[baseField].plot(ax=ax, label=list(baseField)[-1])\n",
    "    ax.legend()\n",
    "plt.savefig(\"/home/craiglagegit/DATA/AuxTel_Accel_EStop_1_04Oct23.png\")"
   ]
  },
  {
   "cell_type": "code",
   "execution_count": null,
   "id": "9e5ef449-e615-49f8-a10d-9e369606c7d4",
   "metadata": {
    "execution": {
     "iopub.execute_input": "2023-10-04T16:31:53.675980Z",
     "iopub.status.busy": "2023-10-04T16:31:53.675620Z",
     "iopub.status.idle": "2023-10-04T16:32:12.520971Z",
     "shell.execute_reply": "2023-10-04T16:32:12.520516Z",
     "shell.execute_reply.started": "2023-10-04T16:31:53.675954Z"
    },
    "tags": []
   },
   "outputs": [],
   "source": [
    "fig, axs = plt.subplots(1,3, figsize = (10,5))\n",
    "plt.subplots_adjust(hspace=0.5, wspace=0.5)\n",
    "start_plot = Time(\"2023-10-04T14:33:30Z\", scale='utc')\n",
    "end_plot = Time(\"2023-10-04T14:34:30Z\", scale='utc')\n",
    "\n",
    "for i, sensorName in enumerate(sensorNames):\n",
    "    sub_dataframe = packed_dataframe.loc[packed_dataframe.sensorName==sensorName]\n",
    "    ax = axs[i]\n",
    "    ax.set_title(sensorName)\n",
    "    ax.set_ylabel(\"Accel(m/s^2)\")\n",
    "    for baseField in baseFields:\n",
    "        df = merge_packed_time_series(sub_dataframe, baseField, stride=1,\n",
    "                             ref_timestamp_col=\"timestamp\", fmt='unix_tai',\n",
    "                             scale='tai')\n",
    "        df[baseField].plot(ax=ax, label=list(baseField)[-1])\n",
    "    ax.legend()\n",
    "    ax.set_xlim(start_plot.isot, end_plot.isot)\n",
    "plt.savefig(\"/home/craiglagegit/DATA/AuxTel_Accel_EStop_4_04Oct23.png\")"
   ]
  },
  {
   "cell_type": "code",
   "execution_count": null,
   "id": "48c50815-8530-42e3-8728-e5ee477a27dc",
   "metadata": {
    "execution": {
     "iopub.execute_input": "2023-10-04T16:33:46.722965Z",
     "iopub.status.busy": "2023-10-04T16:33:46.722621Z",
     "iopub.status.idle": "2023-10-04T16:34:04.776481Z",
     "shell.execute_reply": "2023-10-04T16:34:04.776008Z",
     "shell.execute_reply.started": "2023-10-04T16:33:46.722938Z"
    },
    "tags": []
   },
   "outputs": [],
   "source": [
    "fig, axs = plt.subplots(1,3, figsize = (10,5))\n",
    "plt.subplots_adjust(hspace=0.5, wspace=0.5)\n",
    "start_plot = Time(\"2023-10-04T14:33:58Z\", scale='utc')\n",
    "end_plot = Time(\"2023-10-04T14:34:02Z\", scale='utc')\n",
    "\n",
    "for i, sensorName in enumerate(sensorNames):\n",
    "    sub_dataframe = packed_dataframe.loc[packed_dataframe.sensorName==sensorName]\n",
    "    ax = axs[i]\n",
    "    ax.set_title(sensorName)\n",
    "    ax.set_ylabel(\"Accel(m/s^2)\")\n",
    "    for baseField in baseFields:\n",
    "        df = merge_packed_time_series(sub_dataframe, baseField, stride=1,\n",
    "                             ref_timestamp_col=\"timestamp\", fmt='unix_tai',\n",
    "                             scale='tai')\n",
    "        df[baseField].plot(ax=ax, label=list(baseField)[-1])\n",
    "    ax.legend()\n",
    "    ax.set_xlim(start_plot.isot, end_plot.isot)\n",
    "plt.savefig(\"/home/craiglagegit/DATA/AuxTel_Accel_EStop_5_04Oct23.png\")"
   ]
  },
  {
   "cell_type": "code",
   "execution_count": null,
   "id": "0d7521ed-ecdc-4cf1-beff-7826dc5cc136",
   "metadata": {},
   "outputs": [],
   "source": []
  }
 ],
 "metadata": {
  "jupytext": {
   "formats": "ipynb,markdown//md"
  },
  "kernelspec": {
   "display_name": "LSST",
   "language": "python",
   "name": "lsst"
  },
  "language_info": {
   "codemirror_mode": {
    "name": "ipython",
    "version": 3
   },
   "file_extension": ".py",
   "mimetype": "text/x-python",
   "name": "python",
   "nbconvert_exporter": "python",
   "pygments_lexer": "ipython3",
   "version": "3.11.4"
  }
 },
 "nbformat": 4,
 "nbformat_minor": 5
}
