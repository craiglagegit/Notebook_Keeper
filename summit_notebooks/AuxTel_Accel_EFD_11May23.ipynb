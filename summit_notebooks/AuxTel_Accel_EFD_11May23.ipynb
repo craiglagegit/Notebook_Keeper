{
 "cells": [
  {
   "cell_type": "markdown",
   "id": "153412e6",
   "metadata": {},
   "source": [
    "# AuxTel accelerometers\n",
    "Querying AuxTel accelerometers \\\n",
    "Craig Lage - 11-May-23"
   ]
  },
  {
   "cell_type": "code",
   "execution_count": null,
   "id": "fcd0a71e",
   "metadata": {
    "execution": {
     "iopub.execute_input": "2023-05-11T14:46:56.134984Z",
     "iopub.status.busy": "2023-05-11T14:46:56.134705Z",
     "iopub.status.idle": "2023-05-11T14:46:56.138024Z",
     "shell.execute_reply": "2023-05-11T14:46:56.137545Z",
     "shell.execute_reply.started": "2023-05-11T14:46:56.134965Z"
    },
    "tags": []
   },
   "outputs": [],
   "source": [
    "import sys, time, os, asyncio\n",
    "import numpy as np\n",
    "import matplotlib.pyplot as plt\n",
    "import pandas as pd\n",
    "from astropy.time import Time, TimeDelta\n",
    "from lsst_efd_client.efd_helper import EfdClient, merge_packed_time_series"
   ]
  },
  {
   "cell_type": "code",
   "execution_count": null,
   "id": "aed2b09e",
   "metadata": {
    "execution": {
     "iopub.execute_input": "2023-05-11T14:46:56.990882Z",
     "iopub.status.busy": "2023-05-11T14:46:56.990615Z",
     "iopub.status.idle": "2023-05-11T14:46:58.034387Z",
     "shell.execute_reply": "2023-05-11T14:46:58.033899Z",
     "shell.execute_reply.started": "2023-05-11T14:46:56.990865Z"
    },
    "tags": []
   },
   "outputs": [],
   "source": [
    "# Get EFD client\n",
    "client = EfdClient('summit_efd')"
   ]
  },
  {
   "cell_type": "code",
   "execution_count": null,
   "id": "b8c90662-31f2-4da1-8647-01c6fa8e5a45",
   "metadata": {
    "execution": {
     "iopub.execute_input": "2023-05-11T14:46:59.426274Z",
     "iopub.status.busy": "2023-05-11T14:46:59.425993Z",
     "iopub.status.idle": "2023-05-11T14:46:59.429554Z",
     "shell.execute_reply": "2023-05-11T14:46:59.429140Z",
     "shell.execute_reply.started": "2023-05-11T14:46:59.426256Z"
    },
    "tags": []
   },
   "outputs": [],
   "source": [
    "# Times to look at the data\n",
    "start = Time(\"2023-05-11 05:26:00Z\", scale='utc')\n",
    "end = Time(\"2023-05-11 05:28:00Z\", scale='utc')"
   ]
  },
  {
   "cell_type": "code",
   "execution_count": null,
   "id": "8a14d41e-cda6-438b-9199-f11ffd8aebd4",
   "metadata": {
    "execution": {
     "iopub.execute_input": "2023-05-11T14:48:02.699503Z",
     "iopub.status.busy": "2023-05-11T14:48:02.699231Z",
     "iopub.status.idle": "2023-05-11T14:48:02.702047Z",
     "shell.execute_reply": "2023-05-11T14:48:02.701668Z",
     "shell.execute_reply.started": "2023-05-11T14:48:02.699486Z"
    },
    "tags": []
   },
   "outputs": [],
   "source": [
    "baseFields = ['accelerationX', 'accelerationY', 'accelerationZ']\n",
    "sensorNames = ['AuxTel-Truss', 'AuxTel-M1', 'AuxTel-M2'] "
   ]
  },
  {
   "cell_type": "markdown",
   "id": "9335c693-dae0-4c1c-900e-61730f6c8572",
   "metadata": {},
   "source": [
    "##  Get all of the data for the selected times"
   ]
  },
  {
   "cell_type": "code",
   "execution_count": null,
   "id": "07eca9b2-9c6b-4d11-b1a2-04f3dc57927c",
   "metadata": {
    "execution": {
     "iopub.execute_input": "2023-05-11T14:47:03.463679Z",
     "iopub.status.busy": "2023-05-11T14:47:03.463415Z",
     "iopub.status.idle": "2023-05-11T14:47:07.413438Z",
     "shell.execute_reply": "2023-05-11T14:47:07.412953Z",
     "shell.execute_reply.started": "2023-05-11T14:47:03.463663Z"
    },
    "tags": []
   },
   "outputs": [],
   "source": [
    "packed_dataframe = await client.select_time_series(\"lsst.sal.ESS.accelerometer\", [\"*\"], start, end)"
   ]
  },
  {
   "cell_type": "markdown",
   "id": "df351c57-a238-4bda-a908-03565a90547d",
   "metadata": {},
   "source": [
    "## Now unpack it and plot it by sensor"
   ]
  },
  {
   "cell_type": "code",
   "execution_count": null,
   "id": "7e4739e4-4572-406f-8475-70e9f20d8080",
   "metadata": {
    "execution": {
     "iopub.execute_input": "2023-05-11T14:49:14.089560Z",
     "iopub.status.busy": "2023-05-11T14:49:14.089289Z",
     "iopub.status.idle": "2023-05-11T14:49:17.264719Z",
     "shell.execute_reply": "2023-05-11T14:49:17.264298Z",
     "shell.execute_reply.started": "2023-05-11T14:49:14.089542Z"
    },
    "tags": []
   },
   "outputs": [],
   "source": [
    "fig, axs = plt.subplots(1,3, figsize = (10,5))\n",
    "plt.subplots_adjust(hspace=0.5, wspace=0.5)\n",
    "\n",
    "for i, sensorName in enumerate(sensorNames):\n",
    "    sub_dataframe = packed_dataframe.loc[packed_dataframe.sensorName==sensorName]\n",
    "    ax = axs[i]\n",
    "    ax.set_title(sensorName)\n",
    "    ax.set_ylabel(\"Accel(m/s^2)\")\n",
    "    for baseField in baseFields:\n",
    "        df = merge_packed_time_series(sub_dataframe, baseField, stride=1,\n",
    "                             ref_timestamp_col=\"timestamp\", fmt='unix_tai',\n",
    "                             scale='tai')\n",
    "        df[baseField].plot(ax=ax, label=list(baseField)[-1])\n",
    "    ax.legend()\n",
    "#plt.savefig(\"/home/craiglagegit/DATA/MT_accels/MT_Accel_22Mar23.png\")"
   ]
  },
  {
   "cell_type": "code",
   "execution_count": null,
   "id": "0d7521ed-ecdc-4cf1-beff-7826dc5cc136",
   "metadata": {},
   "outputs": [],
   "source": []
  }
 ],
 "metadata": {
  "jupytext": {
   "formats": "ipynb,markdown//md"
  },
  "kernelspec": {
   "display_name": "LSST",
   "language": "python",
   "name": "lsst"
  },
  "language_info": {
   "codemirror_mode": {
    "name": "ipython",
    "version": 3
   },
   "file_extension": ".py",
   "mimetype": "text/x-python",
   "name": "python",
   "nbconvert_exporter": "python",
   "pygments_lexer": "ipython3",
   "version": "3.10.10"
  }
 },
 "nbformat": 4,
 "nbformat_minor": 5
}
