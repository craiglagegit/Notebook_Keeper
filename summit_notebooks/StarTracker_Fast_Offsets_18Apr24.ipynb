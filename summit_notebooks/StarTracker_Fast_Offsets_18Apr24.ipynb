{
 "cells": [
  {
   "cell_type": "markdown",
   "metadata": {},
   "source": [
    "## StarTracker Fast Camera rotation\n",
    "\n",
    "Craig Lage - 17-Apr-24"
   ]
  },
  {
   "cell_type": "code",
   "execution_count": null,
   "metadata": {
    "execution": {
     "iopub.execute_input": "2024-04-19T00:40:17.047329Z",
     "iopub.status.busy": "2024-04-19T00:40:17.047179Z",
     "iopub.status.idle": "2024-04-19T00:40:24.770504Z",
     "shell.execute_reply": "2024-04-19T00:40:24.769659Z",
     "shell.execute_reply.started": "2024-04-19T00:40:17.047313Z"
    },
    "tags": []
   },
   "outputs": [],
   "source": [
    "import sys, time, os, asyncio, glob\n",
    "from datetime import datetime\n",
    "import numpy as np\n",
    "from scipy.ndimage import median_filter\n",
    "import matplotlib.pyplot as plt\n",
    "import astropy.io.fits as pf\n",
    "import pandas as pd\n",
    "from astropy.time import Time, TimeDelta\n",
    "from astropy.coordinates import AltAz, ICRS, EarthLocation, Angle, FK5, SkyCoord\n",
    "import astropy.units as u\n",
    "from lsst.obs.lsst.translators.latiss import AUXTEL_LOCATION\n",
    "from lsst.obs.lsst.translators.lsst import SIMONYI_LOCATION\n",
    "from lsst.geom import Point2D, SpherePoint, Angle, AngleUnit\n",
    "\n",
    "import lsst.afw.image as afwImage\n",
    "from lsst.geom import SpherePoint\n",
    "from lsst.geom import Angle as afwAngle\n",
    "from astroquery.simbad import Simbad\n",
    "\n",
    "import lsst.afw.image as afwImage\n",
    "from lsst.summit.utils.utils import starTrackerFileToExposure\n",
    "from lsst.summit.utils.astrometry.anet import CommandLineSolver\n",
    "from lsst.summit.utils.astrometry.utils import runCharactierizeImage, filterSourceCatOnBrightest\n",
    "from lsst.pipe.tasks.characterizeImage import CharacterizeImageTask, CharacterizeImageConfig"
   ]
  },
  {
   "cell_type": "code",
   "execution_count": null,
   "metadata": {
    "execution": {
     "iopub.execute_input": "2024-04-19T00:40:29.006270Z",
     "iopub.status.busy": "2024-04-19T00:40:29.005884Z",
     "iopub.status.idle": "2024-04-19T00:40:29.011769Z",
     "shell.execute_reply": "2024-04-19T00:40:29.010961Z",
     "shell.execute_reply.started": "2024-04-19T00:40:29.006240Z"
    },
    "tags": []
   },
   "outputs": [],
   "source": [
    "solver = CommandLineSolver('/project/shared/ref_cats/astrometry_net/')"
   ]
  },
  {
   "cell_type": "markdown",
   "metadata": {},
   "source": [
    "### Next solve the fast image"
   ]
  },
  {
   "cell_type": "code",
   "execution_count": null,
   "metadata": {
    "execution": {
     "iopub.execute_input": "2024-04-19T00:40:31.583642Z",
     "iopub.status.busy": "2024-04-19T00:40:31.583038Z",
     "iopub.status.idle": "2024-04-19T00:40:31.596037Z",
     "shell.execute_reply": "2024-04-19T00:40:31.595139Z",
     "shell.execute_reply.started": "2024-04-19T00:40:31.583606Z"
    },
    "tags": []
   },
   "outputs": [],
   "source": [
    "# Code from Merlin Fisher-Levine to solve fast camera images\n",
    "def runCharactierizeImage(exp, snr, minPix):\n",
    "    \"\"\"Run the image characterization task, finding only bright sources.\n",
    "\n",
    "    Parameters\n",
    "    ----------\n",
    "    exp : `lsst.afw.image.Exposure`\n",
    "        The exposure to characterize.\n",
    "    snr : `float`\n",
    "        The SNR threshold for detection.\n",
    "    minPix : `int`\n",
    "        The minimum number of pixels to count as a source.\n",
    "\n",
    "    Returns\n",
    "    -------\n",
    "    result : `lsst.pipe.base.Struct`\n",
    "        The result from the image characterization task.\n",
    "    \"\"\"\n",
    "    charConfig = CharacterizeImageConfig()\n",
    "    charConfig.doMeasurePsf = False\n",
    "    charConfig.doApCorr = False\n",
    "    charConfig.doDeblend = False\n",
    "    charConfig.repair.doCosmicRay = False\n",
    "\n",
    "    charConfig.detection.minPixels = minPix\n",
    "    charConfig.detection.thresholdValue = snr\n",
    "    charConfig.detection.includeThresholdMultiplier = 1\n",
    "    charConfig.detection.nSigmaToGrow = 0\n",
    "\n",
    "    charConfig.psfIterations = 1\n",
    "    charConfig.installSimplePsf.fwhm = 5\n",
    "    charConfig.installSimplePsf.width = 51\n",
    "    \n",
    "    # fit background with the most simple thing possible as we don't need\n",
    "    # much sophistication here. weighting=False is *required* for very\n",
    "    # large binSizes.\n",
    "#     charConfig.background.algorithm = 'AKIMA'\n",
    "    charConfig.background.approxOrderX = 1\n",
    "    charConfig.background.approxOrderY = -1\n",
    "    charConfig.background.binSize = max(exp.getWidth(), exp.getHeight())\n",
    "    charConfig.background.weighting = False\n",
    "\n",
    "    # set this to use all the same minimal settings as those above\n",
    "    charConfig.detection.background = charConfig.background\n",
    "\n",
    "    charTask = CharacterizeImageTask(config=charConfig)\n",
    "\n",
    "    charResult = charTask.run(exp)\n",
    "    return charResult\n",
    "\n",
    "def solveFastCamera(filename, doPlot=False):\n",
    "    exp = starTrackerFileToExposure(filename)\n",
    "    exp.image.array = median_filter(exp.image.array, 2, mode='reflect')\n",
    "    result = runCharactierizeImage(exp, 5, 25)\n",
    "    sources = filterSourceCatOnBrightest(result.sourceCat, .5, minSources=5)\n",
    "    if doPlot:\n",
    "        plot(exp, sources, doSmooth=False)\n",
    "    result = solver.run(exp, sources, True, useGaia=True, percentageScaleError=10, radius=5)\n",
    "    if result is not None:\n",
    "        fastWcs = result.wcs\n",
    "        fastVisitInfo = exp.visitInfo\n",
    "    else:\n",
    "        print('fit failed')\n",
    "        return None\n",
    "    return fastWcs"
   ]
  },
  {
   "cell_type": "code",
   "execution_count": null,
   "metadata": {
    "execution": {
     "iopub.execute_input": "2024-04-19T00:41:21.762239Z",
     "iopub.status.busy": "2024-04-19T00:41:21.761847Z",
     "iopub.status.idle": "2024-04-19T00:41:24.538116Z",
     "shell.execute_reply": "2024-04-19T00:41:24.537514Z",
     "shell.execute_reply.started": "2024-04-19T00:41:21.762193Z"
    },
    "tags": []
   },
   "outputs": [],
   "source": [
    "#Enter which image you want to look at\n",
    "[camera, num] = ['Fast', 103]\n",
    "dayObs = 20240417\n",
    "year = int(dayObs/10000)\n",
    "month = int((dayObs - 10000 * year)/100)\n",
    "day = int((dayObs - 10000 * year - 100 * month))\n",
    "seqNum = 1108\n",
    "path = f\"/project/GenericCamera/{num}/{year}/{month:02}/{day:02}/\"\n",
    "print(path)\n",
    "filename = path + f\"GC{num}_O_{dayObs}_{seqNum:06}.fits\"\n",
    "print(filename)\n",
    "fast_exp = starTrackerFileToExposure(filename)\n",
    "result = solveFastCamera(filename, doPlot=False)\n",
    "fast_wcs = result\n",
    "\n",
    "# This is a back-up\n",
    "#from lsst.afw.geom import SkyWcs\n",
    "#fast_wcs = SkyWcs.readFits('/home/mfisherlevine/temp/fastCamFits/GC103_O_20230321_001160_wcs.fits')"
   ]
  },
  {
   "cell_type": "markdown",
   "metadata": {},
   "source": [
    "## Now calculate the rotation and plot the results"
   ]
  },
  {
   "cell_type": "code",
   "execution_count": null,
   "metadata": {
    "execution": {
     "iopub.execute_input": "2024-04-19T00:41:28.866450Z",
     "iopub.status.busy": "2024-04-19T00:41:28.865606Z",
     "iopub.status.idle": "2024-04-19T00:41:28.877869Z",
     "shell.execute_reply": "2024-04-19T00:41:28.876877Z",
     "shell.execute_reply.started": "2024-04-19T00:41:28.866418Z"
    },
    "tags": []
   },
   "outputs": [],
   "source": [
    "def alt_az_arrows(fast_wcs, fast_exp):\n",
    "    # This calculates the Alt Az directions\n",
    "    mData = fast_exp.getInfo().getMetadata()\n",
    "    time = Time((Time(mData[\"DATE-BEG\"], scale='tai').unix_tai + Time(mData[\"DATE-END\"], scale='tai').unix_tai)/2.0, \\\n",
    "                format='unix_tai', scale='tai')\n",
    "    altAz = AltAz(obstime=time, location=SIMONYI_LOCATION)\n",
    "    center = np.array((int(fast_exp.image.array.shape[1] / 2), int(fast_exp.image.array.shape[0] / 2)))\n",
    "    center_raDec = fast_wcs.pixelToSky(center[0], center[1])\n",
    "    skyLocation = SkyCoord(center_raDec.getRa().asDegrees() * u.deg, center_raDec.getDec().asDegrees() * u.deg)\n",
    "    obsAltAz = skyLocation.transform_to(altAz)\n",
    "    az = obsAltAz.az.deg\n",
    "    alt = obsAltAz.alt.deg\n",
    "    azPlus = az + 50.0 / 3600.0 / np.cos(obsAltAz.alt.rad) # add 500 arcseconds\n",
    "    altPlus = alt + 50.0 / 3600.0 # add 500 arcseconds\n",
    "    altAzPlus = SkyCoord(AltAz(alt=alt*u.deg, az=azPlus*u.deg, obstime=time, location=SIMONYI_LOCATION))\n",
    "    RaDecAzPlus = altAzPlus.transform_to(ICRS)\n",
    "    SpherePointAzPlus = SpherePoint(Angle(RaDecAzPlus.ra.rad), Angle(RaDecAzPlus.dec.rad))\n",
    "    azPlusPixels = fast_wcs.skyToPixel(SpherePointAzPlus)\n",
    "    altPlusAz = SkyCoord(AltAz(alt=altPlus*u.deg, az=az*u.deg, obstime=time, location=SIMONYI_LOCATION))\n",
    "    RaDecAltPlus = altPlusAz.transform_to(ICRS)\n",
    "    SpherePointAltPlus = SpherePoint(Angle(RaDecAltPlus.ra.rad), Angle(RaDecAltPlus.dec.rad))\n",
    "    altPlusPixels = fast_wcs.skyToPixel(SpherePointAltPlus)\n",
    "    azPlusArrowLength = np.array(azPlusPixels) - np.array(center)\n",
    "    altPlusArrowLength = np.array(altPlusPixels) - np.array(center)\n",
    "    return [center, azPlusArrowLength, altPlusArrowLength]\n"
   ]
  },
  {
   "cell_type": "code",
   "execution_count": null,
   "metadata": {
    "execution": {
     "iopub.execute_input": "2024-04-19T00:41:32.884847Z",
     "iopub.status.busy": "2024-04-19T00:41:32.883989Z",
     "iopub.status.idle": "2024-04-19T00:41:33.886619Z",
     "shell.execute_reply": "2024-04-19T00:41:33.886184Z",
     "shell.execute_reply.started": "2024-04-19T00:41:32.884812Z"
    }
   },
   "outputs": [],
   "source": [
    "%matplotlib inline\n",
    "fig, ax = plt.subplots(figsize=(10,8))\n",
    "ax.set_title(f\"StarTracker Fast, 20240417 SeqNum {seqNum}\")\n",
    "ax.imshow(fast_exp.image.array,  interpolation='Nearest', cmap='gray', vmin=10, vmax=100, origin='lower')\n",
    "[center, azPlusArrowLength, altPlusArrowLength] = alt_az_arrows(fast_wcs, fast_exp)\n",
    "ax.arrow(center[0], center[1], azPlusArrowLength[0], azPlusArrowLength[1], color='lightgreen', \\\n",
    "        head_width=5, head_length=10, lw = 2)\n",
    "ax.text(center[0] + azPlusArrowLength[0]+5, center[1] + azPlusArrowLength[1]-10, \\\n",
    "        'Plus AzCosAlt\\n50\"', color='lightgreen', fontsize=18)\n",
    "ax.arrow(center[0], center[1], altPlusArrowLength[0], altPlusArrowLength[1], color='lightgreen', \\\n",
    "        head_width=5, head_length=10, lw = 2)\n",
    "ax.text(center[0] + altPlusArrowLength[0]+10, center[1] + altPlusArrowLength[1], \\\n",
    "        'Plus Alt\\n50\"', color='lightgreen', fontsize=18)\n",
    "# Calculate angle from vertical to +Alt\n",
    "altAngle = 90.0 - np.arctan(altPlusArrowLength[1] / altPlusArrowLength[0]) * 180.0 / np.pi\n",
    "ax.text(100, 100, \\\n",
    "        f\"Angle from vertical to +Alt = {altAngle:.2f} degrees\", color='lightgreen', fontsize=18)\n",
    "\n",
    "plt.savefig(F\"/home/cslage/DATA/Fast_Camera_Axes_{dayObs}_{seqNum}.png\")"
   ]
  },
  {
   "cell_type": "code",
   "execution_count": null,
   "metadata": {
    "execution": {
     "iopub.execute_input": "2024-04-19T00:41:38.827865Z",
     "iopub.status.busy": "2024-04-19T00:41:38.826891Z",
     "iopub.status.idle": "2024-04-19T00:41:38.834818Z",
     "shell.execute_reply": "2024-04-19T00:41:38.834110Z",
     "shell.execute_reply.started": "2024-04-19T00:41:38.827833Z"
    }
   },
   "outputs": [],
   "source": [
    "fast_wcs.getPixelScale"
   ]
  }
 ],
 "metadata": {
  "kernelspec": {
   "display_name": "LSST",
   "language": "python",
   "name": "lsst"
  },
  "language_info": {
   "codemirror_mode": {
    "name": "ipython",
    "version": 3
   },
   "file_extension": ".py",
   "mimetype": "text/x-python",
   "name": "python",
   "nbconvert_exporter": "python",
   "pygments_lexer": "ipython3",
   "version": "3.11.7"
  }
 },
 "nbformat": 4,
 "nbformat_minor": 4
}
