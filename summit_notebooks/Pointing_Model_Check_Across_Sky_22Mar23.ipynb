{
 "cells": [
  {
   "cell_type": "markdown",
   "metadata": {},
   "source": [
    "## StarTracker Coordinate Check - 08-Mar-23\n",
    "\n",
    "Craig Lage - Double checking coordinate transformations"
   ]
  },
  {
   "cell_type": "code",
   "execution_count": null,
   "metadata": {
    "execution": {
     "iopub.execute_input": "2023-03-23T11:37:52.219798Z",
     "iopub.status.busy": "2023-03-23T11:37:52.219538Z",
     "iopub.status.idle": "2023-03-23T11:37:53.914385Z",
     "shell.execute_reply": "2023-03-23T11:37:53.913713Z",
     "shell.execute_reply.started": "2023-03-23T11:37:52.219781Z"
    },
    "tags": []
   },
   "outputs": [],
   "source": [
    "import sys, time, os, asyncio, glob\n",
    "from datetime import datetime\n",
    "import numpy as np\n",
    "import matplotlib.pyplot as plt\n",
    "import pandas as pd\n",
    "import astropy.io.fits as pf\n",
    "from astropy.time import Time, TimeDelta\n",
    "from astropy.coordinates import AltAz, ICRS, EarthLocation, Angle, FK5, SkyCoord\n",
    "import astropy.units as u\n",
    "from lsst.obs.lsst.translators.latiss import AUXTEL_LOCATION\n",
    "from lsst.obs.lsst.translators.lsst import SIMONYI_LOCATION"
   ]
  },
  {
   "cell_type": "code",
   "execution_count": null,
   "metadata": {
    "execution": {
     "iopub.execute_input": "2023-03-22T18:29:34.434214Z",
     "iopub.status.busy": "2023-03-22T18:29:34.433917Z",
     "iopub.status.idle": "2023-03-22T18:30:00.316143Z",
     "shell.execute_reply": "2023-03-22T18:30:00.315649Z",
     "shell.execute_reply.started": "2023-03-22T18:29:34.434196Z"
    },
    "jupyter": {
     "outputs_hidden": true
    },
    "tags": []
   },
   "outputs": [],
   "source": [
    "dates = ['2023-03-09', '2023-03-15', '2023-03-21']\n",
    "azs = []\n",
    "alts = []\n",
    "deltaAzs = []\n",
    "deltaAlts = []\n",
    "\n",
    "for date in dates:\n",
    "    filename = f'/scratch/cslage/starTracker/startracker_{date}.json'\n",
    "    frame = ICRS\n",
    "    df = pd.read_json(filename)\n",
    "    df = df.transpose()\n",
    "    df = df.dropna()\n",
    "    for seqNum in df.index.values.tolist():\n",
    "        if date == '2023-03-09' and seqNum < 1138:\n",
    "            continue\n",
    "        row = df.loc[seqNum]\n",
    "        skyLocation = SkyCoord(row['Ra']*u.deg, row['Dec']*u.deg, frame=frame)\n",
    "        time = Time(row['MJD'], format='mjd', scale='tai')\n",
    "        altAz1 = AltAz(obstime=time, location=SIMONYI_LOCATION)\n",
    "        obsAltAz1 = skyLocation.transform_to(altAz1)\n",
    "        print(f\"Header AltAz values =             ({row['Alt']:.6f}, {row['Az']:.6f})\")\n",
    "        print(f\"AltAz from header Ra/Dec values = ({obsAltAz1.alt.deg:.6f}, {obsAltAz1.az.deg:.6f})\")\n",
    "        deltaAlt = (row['Alt'] - obsAltAz1.alt.deg) * 3600.0\n",
    "        deltaAz = (row['Az'] - obsAltAz1.az.deg) * 3600.0\n",
    "        print(f\"DeltaAlt = {deltaAlt:.1f} arcseconds, DeltaAz = {deltaAz:.1f} arcseconds\")\n",
    "        print()\n",
    "        # Now go the other way\n",
    "        altAz2 = SkyCoord(AltAz(alt=row['Alt']*u.deg, az=row['Az']*u.deg, obstime=time, location=SIMONYI_LOCATION))\n",
    "        RaDec = altAz2.transform_to(frame)\n",
    "        print(f\"Header RA/Dec values =            ({row['Ra']:.6f}, {row['Dec']:.6f})\")\n",
    "        print(f\"RA/Dec from header AltAz values = ({RaDec.ra.deg:.6f}, {RaDec.dec.deg:.6f})\")\n",
    "        deltaRA = (row['Ra'] - RaDec.ra.deg) * 3600.0\n",
    "        deltaDec = (row['Dec'] - RaDec.dec.deg) * 3600.0\n",
    "        print(f\"DeltaRA = {deltaRA:.1f} arcseconds, DeltaDec = {deltaDec:.1f} arcseconds\")\n",
    "        print()\n",
    "        azs.append(row['Az'] * np.pi / 180.0)\n",
    "        alts.append(row['Alt'])\n",
    "        deltaAzs.append(deltaAz)\n",
    "        deltaAlts.append(deltaAlt)\n"
   ]
  },
  {
   "cell_type": "code",
   "execution_count": null,
   "metadata": {
    "execution": {
     "iopub.execute_input": "2023-03-22T18:30:03.890923Z",
     "iopub.status.busy": "2023-03-22T18:30:03.890630Z",
     "iopub.status.idle": "2023-03-22T18:30:03.894215Z",
     "shell.execute_reply": "2023-03-22T18:30:03.893817Z",
     "shell.execute_reply.started": "2023-03-22T18:30:03.890904Z"
    },
    "tags": []
   },
   "outputs": [],
   "source": [
    "len(azs)"
   ]
  },
  {
   "cell_type": "code",
   "execution_count": null,
   "metadata": {
    "execution": {
     "iopub.execute_input": "2023-03-22T18:30:07.430478Z",
     "iopub.status.busy": "2023-03-22T18:30:07.430175Z",
     "iopub.status.idle": "2023-03-22T18:30:08.944427Z",
     "shell.execute_reply": "2023-03-22T18:30:08.943961Z",
     "shell.execute_reply.started": "2023-03-22T18:30:07.430459Z"
    },
    "tags": []
   },
   "outputs": [],
   "source": [
    "fig=plt.figure(figsize=(16,16))\n",
    "#plt.suptitle(\"RADec vs AltAz Error, 20230309\")\n",
    "#plt.subplots_adjust(wspace = 1.0)\n",
    "vmin = -20.0\n",
    "vmax = 20.0\n",
    "levels = np.linspace(vmin, vmax, 51)\n",
    "ax1 = plt.subplot(121, projection='polar')\n",
    "ax1.set_title(f\"Azimuth Error (arcseconds)\\nMultiple dates\")\n",
    "ax1.invert_yaxis()\n",
    "ax1.set_rlim(90,0)\n",
    "contourf_1 = ax1.tricontourf(azs, alts, deltaAzs, levels=levels)\n",
    "cax1 = fig.add_axes([ax1.get_position().x1+0.01,ax1.get_position().y0,0.02,ax1.get_position().height])\n",
    "plt.colorbar(contourf_1, cax=cax1)\n",
    "ax2 = plt.subplot(122, projection='polar')\n",
    "ax2.set_title(f\"Elevation Error (arcseconds)\\nMultiple dates\")\n",
    "ax2.invert_yaxis()\n",
    "ax2.set_rlim(90,0)\n",
    "contourf_2 = ax2.tricontourf(azs, alts, deltaAlts, levels=levels)\n",
    "cax2 = fig.add_axes([ax2.get_position().x1+0.01,ax2.get_position().y0,0.02,ax2.get_position().height])\n",
    "plt.colorbar(contourf_2, cax=cax2)\n",
    "plt.savefig(f'/scratch/cslage/starTracker/Header_Discrepancy_Multiple.png')"
   ]
  },
  {
   "cell_type": "code",
   "execution_count": null,
   "metadata": {
    "execution": {
     "iopub.execute_input": "2023-03-22T17:26:02.002858Z",
     "iopub.status.busy": "2023-03-22T17:26:02.002498Z",
     "iopub.status.idle": "2023-03-22T17:26:02.006199Z",
     "shell.execute_reply": "2023-03-22T17:26:02.005844Z",
     "shell.execute_reply.started": "2023-03-22T17:26:02.002841Z"
    },
    "tags": []
   },
   "outputs": [],
   "source": [
    "np.max(deltaAlts)"
   ]
  },
  {
   "cell_type": "code",
   "execution_count": null,
   "metadata": {
    "execution": {
     "iopub.execute_input": "2023-03-22T18:43:42.493082Z",
     "iopub.status.busy": "2023-03-22T18:43:42.492702Z",
     "iopub.status.idle": "2023-03-22T18:44:08.770816Z",
     "shell.execute_reply": "2023-03-22T18:44:08.770392Z",
     "shell.execute_reply.started": "2023-03-22T18:43:42.493063Z"
    },
    "tags": []
   },
   "outputs": [],
   "source": [
    "dates = ['2023-03-09', '2023-03-15', '2023-03-21']\n",
    "\n",
    "for i, date in enumerate(dates):\n",
    "    azs = []\n",
    "    alts = []\n",
    "    deltaAzs = []\n",
    "    deltaAlts = []\n",
    "\n",
    "    filename = f'/scratch/cslage/starTracker/startracker_{date}.json'\n",
    "    frame = ICRS\n",
    "    df = pd.read_json(filename)\n",
    "    df = df.transpose()\n",
    "    df = df.dropna()\n",
    "    for seqNum in df.index.values.tolist():\n",
    "        if date == '2023-03-09' and seqNum < 1138:\n",
    "            continue\n",
    "        row = df.loc[seqNum]\n",
    "        skyLocation = SkyCoord(row['Ra']*u.deg, row['Dec']*u.deg, frame=frame)\n",
    "        time = Time(row['MJD'], format='mjd', scale='tai')\n",
    "        altAz1 = AltAz(obstime=time, location=SIMONYI_LOCATION)\n",
    "        obsAltAz1 = skyLocation.transform_to(altAz1)\n",
    "        deltaAlt = (row['Alt'] - obsAltAz1.alt.deg) * 3600.0\n",
    "        deltaAz = (row['Az'] - obsAltAz1.az.deg) * 3600.0\n",
    "        azs.append(row['Az'] * np.pi / 180.0)\n",
    "        alts.append(row['Alt'])\n",
    "        deltaAzs.append(deltaAz)\n",
    "        deltaAlts.append(deltaAlt)\n",
    "    plt.subplot(3,2,2*i+1)\n",
    "    plt.title(f\"{date}, deltaAzs\")\n",
    "    plt.hist(deltaAzs, bins=50, range=(-50,50))\n",
    "    plt.xlim(-50,50)\n",
    "    plt.xlabel(\"Header discrepancy(arcseconds)\")\n",
    "    plt.subplot(3,2,2*i+2)\n",
    "    plt.title(f\"{date}, deltaAlts\")\n",
    "    plt.hist(deltaAlts, bins=50, range=(-50,50))\n",
    "    plt.xlim(-50,50)\n",
    "    plt.xlabel(\"Header discrepancy(arcseconds)\")\n",
    "plt.subplots_adjust(hspace=1.0)\n",
    "plt.savefig(f'/scratch/cslage/starTracker/Header_Discrepancy_Histograms.png')"
   ]
  },
  {
   "cell_type": "code",
   "execution_count": null,
   "metadata": {
    "execution": {
     "iopub.execute_input": "2023-03-22T19:01:03.258143Z",
     "iopub.status.busy": "2023-03-22T19:01:03.257776Z",
     "iopub.status.idle": "2023-03-22T19:01:05.343397Z",
     "shell.execute_reply": "2023-03-22T19:01:05.342953Z",
     "shell.execute_reply.started": "2023-03-22T19:01:03.258124Z"
    },
    "tags": []
   },
   "outputs": [],
   "source": [
    "date = '2023-03-21'\n",
    "i=0\n",
    "azs = []\n",
    "alts = []\n",
    "deltaAzs = []\n",
    "deltaAlts = []\n",
    "\n",
    "filename = f'/scratch/cslage/starTracker/startracker_{date}.json'\n",
    "frame = ICRS\n",
    "df = pd.read_json(filename)\n",
    "df = df.transpose()\n",
    "df = df.dropna()\n",
    "for seqNum in df.index.values.tolist():\n",
    "    row = df.loc[seqNum]\n",
    "    skyLocation = SkyCoord(row['Ra']*u.deg, row['Dec']*u.deg, frame=frame)\n",
    "    time = Time(row['MJD'], format='mjd', scale='tai')\n",
    "    altAz1 = AltAz(obstime=time, location=SIMONYI_LOCATION)\n",
    "    obsAltAz1 = skyLocation.transform_to(altAz1)\n",
    "    deltaAlt = (row['Alt'] - obsAltAz1.alt.deg) * 3600.0\n",
    "    deltaAz = (row['Az'] - obsAltAz1.az.deg) * 3600.0\n",
    "    azs.append(row['Az'] * np.pi / 180.0)\n",
    "    alts.append(row['Alt'])\n",
    "    deltaAzs.append(deltaAz)\n",
    "    deltaAlts.append(deltaAlt)\n",
    "plt.subplot(1,2,2*i+1)\n",
    "plt.title(f\"{date}, deltaAzs\")\n",
    "plt.hist(deltaAzs, bins=10, range=(-75,75))\n",
    "plt.xlim(-100, 100)\n",
    "plt.xlabel(\"Header discrepancy(arcseconds)\")\n",
    "plt.subplot(1,2,2*i+2)\n",
    "plt.title(f\"{date}, deltaAlts\")\n",
    "plt.hist(deltaAlts, bins=10, range=(-25,25))\n",
    "plt.xlim(-25,25)\n",
    "plt.xlabel(\"Header discrepancy(arcseconds)\")\n",
    "plt.subplots_adjust(hspace=1.0)\n",
    "plt.savefig(f'/scratch/cslage/starTracker/Header_Discrepancy_Histograms_20230321.png')"
   ]
  },
  {
   "cell_type": "code",
   "execution_count": null,
   "metadata": {},
   "outputs": [],
   "source": []
  }
 ],
 "metadata": {
  "kernelspec": {
   "display_name": "LSST",
   "language": "python",
   "name": "lsst"
  },
  "language_info": {
   "codemirror_mode": {
    "name": "ipython",
    "version": 3
   },
   "file_extension": ".py",
   "mimetype": "text/x-python",
   "name": "python",
   "nbconvert_exporter": "python",
   "pygments_lexer": "ipython3",
   "version": "3.10.9"
  }
 },
 "nbformat": 4,
 "nbformat_minor": 4
}
