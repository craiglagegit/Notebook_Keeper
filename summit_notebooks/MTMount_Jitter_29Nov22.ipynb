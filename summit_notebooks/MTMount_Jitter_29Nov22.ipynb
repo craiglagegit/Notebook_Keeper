{
 "cells": [
  {
   "cell_type": "code",
   "execution_count": null,
   "metadata": {
    "execution": {
     "iopub.execute_input": "2022-11-30T19:41:08.979778Z",
     "iopub.status.busy": "2022-11-30T19:41:08.978963Z",
     "iopub.status.idle": "2022-11-30T19:41:09.344348Z",
     "shell.execute_reply": "2022-11-30T19:41:09.343826Z",
     "shell.execute_reply.started": "2022-11-30T19:41:08.979700Z"
    }
   },
   "outputs": [],
   "source": [
    "import sys, time, os, asyncio, glob\n",
    "from datetime import datetime\n",
    "import numpy as np\n",
    "import matplotlib.pyplot as plt\n",
    "from astropy.time import Time, TimeDelta\n",
    "\n",
    "from lsst_efd_client import EfdClient"
   ]
  },
  {
   "cell_type": "code",
   "execution_count": null,
   "metadata": {
    "execution": {
     "iopub.execute_input": "2022-11-30T19:41:09.346029Z",
     "iopub.status.busy": "2022-11-30T19:41:09.345368Z",
     "iopub.status.idle": "2022-11-30T19:41:10.365745Z",
     "shell.execute_reply": "2022-11-30T19:41:10.365208Z",
     "shell.execute_reply.started": "2022-11-30T19:41:09.346009Z"
    }
   },
   "outputs": [],
   "source": [
    "client = EfdClient('summit_efd')"
   ]
  },
  {
   "cell_type": "code",
   "execution_count": null,
   "metadata": {
    "execution": {
     "iopub.execute_input": "2022-11-30T19:41:10.366584Z",
     "iopub.status.busy": "2022-11-30T19:41:10.366419Z",
     "iopub.status.idle": "2022-11-30T19:41:10.370185Z",
     "shell.execute_reply": "2022-11-30T19:41:10.369733Z",
     "shell.execute_reply.started": "2022-11-30T19:41:10.366567Z"
    }
   },
   "outputs": [],
   "source": [
    "# Times to start looking at the mount data\n",
    "# We were slewing a small random distance, then tracking for 32 seconds\n",
    "# We'll query the EFD during that time\n",
    "start = Time(\"2022-11-29 00:00:00Z\", scale='utc')\n",
    "end = Time(\"2022-11-29 09:00:00Z\", scale='utc')"
   ]
  },
  {
   "cell_type": "code",
   "execution_count": null,
   "metadata": {
    "execution": {
     "iopub.execute_input": "2022-11-30T19:41:10.370972Z",
     "iopub.status.busy": "2022-11-30T19:41:10.370820Z",
     "iopub.status.idle": "2022-11-30T19:41:10.400286Z",
     "shell.execute_reply": "2022-11-30T19:41:10.399824Z",
     "shell.execute_reply.started": "2022-11-30T19:41:10.370956Z"
    }
   },
   "outputs": [],
   "source": [
    "startTrack = await client.select_time_series('lsst.sal.MTMount.command_startTracking', \\\n",
    "                                                ['*'],  start, end)\n",
    "stopTrack = await client.select_time_series('lsst.sal.MTMount.command_stopTracking', \\\n",
    "                                                ['*'],  start, end)"
   ]
  },
  {
   "cell_type": "code",
   "execution_count": null,
   "metadata": {
    "execution": {
     "iopub.execute_input": "2022-11-30T19:41:10.401334Z",
     "iopub.status.busy": "2022-11-30T19:41:10.400946Z",
     "iopub.status.idle": "2022-11-30T19:41:10.408055Z",
     "shell.execute_reply": "2022-11-30T19:41:10.407672Z",
     "shell.execute_reply.started": "2022-11-30T19:41:10.401316Z"
    }
   },
   "outputs": [],
   "source": [
    "# Only three - I thought there would be more ??\n",
    "len(startTrack)"
   ]
  },
  {
   "cell_type": "code",
   "execution_count": null,
   "metadata": {
    "execution": {
     "iopub.execute_input": "2022-11-30T19:41:10.408918Z",
     "iopub.status.busy": "2022-11-30T19:41:10.408596Z",
     "iopub.status.idle": "2022-11-30T19:41:10.417608Z",
     "shell.execute_reply": "2022-11-30T19:41:10.417257Z",
     "shell.execute_reply.started": "2022-11-30T19:41:10.408902Z"
    }
   },
   "outputs": [],
   "source": [
    "startTrack"
   ]
  },
  {
   "cell_type": "code",
   "execution_count": null,
   "metadata": {},
   "outputs": [],
   "source": [
    "# Plotting the mount plots\n",
    "%matplotlib inline\n",
    "track_counter = 2 # This chooses one of the tracking times\n",
    "start = Time(startTrack.index[track_counter]) + TimeDelta(5.0, format='sec') # Need to shift to be sure mount has stabilized\n",
    "end  = Time(stopTrack.index[track_counter])\n",
    "\n",
    "az = await client.select_time_series('lsst.sal.MTMount.azimuth', \\\n",
    "                                            ['actualPosition'],  start, end)\n",
    "el = await client.select_time_series('lsst.sal.MTMount.elevation', \\\n",
    "                                            ['actualPosition'],  start, end)    \n",
    "# Calculate the tracking errors\n",
    "az_vals = np.array(az.values[:,0])\n",
    "el_vals = np.array(el.values[:,0])\n",
    "times_az = az.index\n",
    "times_el = el.index\n",
    "# The fits are much better if the time variable\n",
    "# is centered in the interval\n",
    "fit_times_az = [(times_az[i]-times_az[int(len(az.values) / 2)]).total_seconds() for i in range(len(times_az))]\n",
    "fit_times_el = [(times_el[i]-times_el[int(len(el.values) / 2)]).total_seconds() for i in range(len(times_el))]\n",
    "\n",
    "# Fit with a polynomial\n",
    "az_fit = np.polyfit(fit_times_az, az_vals, 4)\n",
    "el_fit = np.polyfit(fit_times_el, el_vals, 4)\n",
    "az_model = np.polyval(az_fit, fit_times_az)\n",
    "el_model = np.polyval(el_fit, fit_times_el)\n",
    "\n",
    "# Errors in arcseconds\n",
    "az_error = (az_vals - az_model) * 3600\n",
    "el_error = (el_vals - el_model) * 3600\n",
    "\n",
    "# Calculate RMS\n",
    "az_rms = np.sqrt(np.mean(az_error * az_error))\n",
    "el_rms = np.sqrt(np.mean(el_error * el_error))\n",
    "\n",
    "# Calculate Image impact RMS\n",
    "# We are less sensitive to Az errors near the zenith\n",
    "image_az_rms = az_rms * np.cos(el_vals[0] * np.pi / 180.0)\n",
    "image_el_rms = el_rms \n",
    "\n",
    "fig = plt.figure(figsize = (8,8))\n",
    "plt.subplots_adjust(wspace=0.3, hspace=0.5)\n",
    "plt.suptitle(f\"MT Mount Jitter - 20221128\", fontsize = 18)\n",
    "plt.subplot(2,2,1)\n",
    "ax1 = az['actualPosition'].plot(legend=True, color='red')\n",
    "ax1.set_title(\"Azimuth\")\n",
    "ax1.set_ylabel(\"Degrees\")\n",
    "plt.subplot(2,2,2)\n",
    "ax3 = el['actualPosition'].plot(legend=True, color='green')\n",
    "ax3.set_title(\"Elevation\")\n",
    "ax3.set_ylabel(\"Degrees\")\n",
    "\n",
    "plt.subplot(2,2,3)\n",
    "plt.plot(fit_times_az, az_error, color='red')\n",
    "plt.title(f\"Azimuth RMS error = {az_rms:.2f} arcseconds\\n\"\n",
    "          f\"  Image RMS error = {image_az_rms:.2f} arcseconds\", fontsize=10)\n",
    "plt.ylim(-10.0,10.0)\n",
    "plt.xticks([])\n",
    "plt.ylabel(\"ArcSeconds\")\n",
    "plt.subplot(2,2,4)\n",
    "plt.plot(fit_times_el, el_error, color='green')\n",
    "plt.title(f\"Elevation RMS error = {el_rms:.2f} arcseconds\\n\"\n",
    "          f\"  Image RMS error = {image_el_rms:.2f} arcseconds\", fontsize=10)\n",
    "plt.ylim(-10.0,10.0)\n",
    "plt.xticks([])\n",
    "plt.ylabel(\"ArcSeconds\")\n",
    "plt.savefig(f\"/home/craiglagegit/DATA/MT_Mount_Jitter_20221128_{track_counter}.pdf\")\n"
   ]
  },
  {
   "cell_type": "code",
   "execution_count": null,
   "metadata": {},
   "outputs": [],
   "source": [
    "fig = plt.figure(figsize = (6,4))\n",
    "plt.plot(fit_times_az[0:100], az_error[0:100], color='red')\n",
    "plt.xlabel(\"Time from center of track (seconds)\")\n",
    "plt.ylabel(\"Azimuth Error (arcseconds)\")\n",
    "plt.ylim(-2,2)\n",
    "plt.savefig(f\"/home/craiglagegit/DATA/MT_Mount_Jitter_Blowup_20221128_{track_counter}.pdf\")"
   ]
  },
  {
   "cell_type": "code",
   "execution_count": null,
   "metadata": {},
   "outputs": [],
   "source": [
    "len(az_error)"
   ]
  },
  {
   "cell_type": "code",
   "execution_count": null,
   "metadata": {},
   "outputs": [],
   "source": []
  }
 ],
 "metadata": {
  "kernelspec": {
   "display_name": "LSST",
   "language": "python",
   "name": "lsst"
  },
  "language_info": {
   "codemirror_mode": {
    "name": "ipython",
    "version": 3
   },
   "file_extension": ".py",
   "mimetype": "text/x-python",
   "name": "python",
   "nbconvert_exporter": "python",
   "pygments_lexer": "ipython3",
   "version": "3.10.6"
  }
 },
 "nbformat": 4,
 "nbformat_minor": 4
}
