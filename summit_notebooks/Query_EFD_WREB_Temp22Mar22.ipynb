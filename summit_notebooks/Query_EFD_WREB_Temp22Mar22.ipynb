{
 "cells": [
  {
   "cell_type": "code",
   "execution_count": null,
   "metadata": {
    "execution": {
     "iopub.execute_input": "2023-03-22T11:40:29.048291Z",
     "iopub.status.busy": "2023-03-22T11:40:29.047942Z",
     "iopub.status.idle": "2023-03-22T11:40:29.051568Z",
     "shell.execute_reply": "2023-03-22T11:40:29.051095Z",
     "shell.execute_reply.started": "2023-03-22T11:40:29.048273Z"
    },
    "tags": []
   },
   "outputs": [],
   "source": [
    "import sys, time, os, asyncio, glob\n",
    "import numpy as np\n",
    "import matplotlib.pyplot as plt\n",
    "import pandas as pd\n",
    "from astropy.time import Time, TimeDelta\n",
    "from lsst_efd_client import EfdClient"
   ]
  },
  {
   "cell_type": "code",
   "execution_count": null,
   "metadata": {
    "execution": {
     "iopub.execute_input": "2023-03-22T11:30:54.287827Z",
     "iopub.status.busy": "2023-03-22T11:30:54.287438Z",
     "iopub.status.idle": "2023-03-22T11:30:55.720827Z",
     "shell.execute_reply": "2023-03-22T11:30:55.720215Z",
     "shell.execute_reply.started": "2023-03-22T11:30:54.287809Z"
    },
    "tags": []
   },
   "outputs": [],
   "source": [
    "client = EfdClient('summit_efd')"
   ]
  },
  {
   "cell_type": "code",
   "execution_count": null,
   "metadata": {
    "execution": {
     "iopub.execute_input": "2023-03-17T23:00:58.618352Z",
     "iopub.status.busy": "2023-03-17T23:00:58.617969Z",
     "iopub.status.idle": "2023-03-17T23:00:58.870063Z",
     "shell.execute_reply": "2023-03-17T23:00:58.869546Z",
     "shell.execute_reply.started": "2023-03-17T23:00:58.618335Z"
    },
    "jupyter": {
     "outputs_hidden": true
    },
    "tags": []
   },
   "outputs": [],
   "source": [
    "await client.get_topics()"
   ]
  },
  {
   "cell_type": "code",
   "execution_count": null,
   "metadata": {
    "execution": {
     "iopub.execute_input": "2023-03-22T11:30:58.246484Z",
     "iopub.status.busy": "2023-03-22T11:30:58.246108Z",
     "iopub.status.idle": "2023-03-22T11:30:58.334085Z",
     "shell.execute_reply": "2023-03-22T11:30:58.333489Z",
     "shell.execute_reply.started": "2023-03-22T11:30:58.246467Z"
    },
    "jupyter": {
     "outputs_hidden": true
    },
    "tags": []
   },
   "outputs": [],
   "source": [
    "topics = await client.get_topics()\n",
    "for topic in topics:\n",
    "    if 'ATCamera' in topic:\n",
    "        print(topic)"
   ]
  },
  {
   "cell_type": "code",
   "execution_count": null,
   "metadata": {},
   "outputs": [],
   "source": []
  },
  {
   "cell_type": "code",
   "execution_count": null,
   "metadata": {
    "execution": {
     "iopub.execute_input": "2023-03-22T11:46:33.648921Z",
     "iopub.status.busy": "2023-03-22T11:46:33.648434Z",
     "iopub.status.idle": "2023-03-22T11:46:33.743396Z",
     "shell.execute_reply": "2023-03-22T11:46:33.742856Z",
     "shell.execute_reply.started": "2023-03-22T11:46:33.648895Z"
    },
    "jupyter": {
     "outputs_hidden": true
    },
    "tags": []
   },
   "outputs": [],
   "source": [
    "await client.get_fields('lsst.sal.ATCamera.focal_plane_Reb')"
   ]
  },
  {
   "cell_type": "code",
   "execution_count": null,
   "metadata": {
    "execution": {
     "iopub.execute_input": "2023-03-22T12:13:18.252696Z",
     "iopub.status.busy": "2023-03-22T12:13:18.252303Z",
     "iopub.status.idle": "2023-03-22T12:13:18.540229Z",
     "shell.execute_reply": "2023-03-22T12:13:18.539625Z",
     "shell.execute_reply.started": "2023-03-22T12:13:18.252677Z"
    },
    "tags": []
   },
   "outputs": [],
   "source": [
    "start = Time(\"2023-03-20 23:30:00Z\", scale='utc')\n",
    "end = Time(\"2023-03-21 12:10:00Z\", scale='utc')\n",
    "temps_uncontrolled = await client.select_time_series('lsst.sal.ATCamera.focal_plane_Reb', \\\n",
    "                                            ['temp20', 'private_kafkaStamp'],  start, end)\n",
    "start = Time(\"2023-03-21 23:30:00Z\", scale='utc')\n",
    "end = Time(\"2023-03-22 12:10:00Z\", scale='utc')\n",
    "temps_controlled = await client.select_time_series('lsst.sal.ATCamera.focal_plane_Reb', \\\n",
    "                                            ['temp20', 'private_kafkaStamp'],  start, end)\n",
    "temps_controlled = temps_controlled.dropna()\n",
    "temps_uncontrolled = temps_uncontrolled.dropna()\n",
    "\n",
    "t1_vals = np.array(temps_uncontrolled.values[:,0])\n",
    "t2_vals = np.array(temps_controlled.values[:,0])\n",
    "times1 = np.array(temps_uncontrolled.values[:, 1])\n",
    "times1 -= times1[0]\n",
    "times2 = np.array(temps_controlled.values[:, 1])\n",
    "times2 -= times2[0]\n"
   ]
  },
  {
   "cell_type": "code",
   "execution_count": null,
   "metadata": {
    "execution": {
     "iopub.execute_input": "2023-03-22T12:13:19.711282Z",
     "iopub.status.busy": "2023-03-22T12:13:19.711008Z",
     "iopub.status.idle": "2023-03-22T12:13:19.907617Z",
     "shell.execute_reply": "2023-03-22T12:13:19.907084Z",
     "shell.execute_reply.started": "2023-03-22T12:13:19.711266Z"
    },
    "tags": []
   },
   "outputs": [],
   "source": [
    "plt.title(\"AuxTel WREB fan temperature control\\n 20:30 CLT - 09:10 CLT\")\n",
    "plt.plot(times2, t2_vals, color='green', label='Controlled - 22Mar23')\n",
    "plt.plot(times1, t1_vals, color='blue', label='Uncontrolled - 21Mar23')\n",
    "plt.legend(loc='lower left')\n",
    "plt.ylabel(\"WREB Temp2 (C)\")\n",
    "plt.xlabel(\"Times (sec)\")\n",
    "plt.savefig(\"/home/craiglagegit/DATA/WREB_Temp_Control_22Mar23\")"
   ]
  },
  {
   "cell_type": "code",
   "execution_count": null,
   "metadata": {},
   "outputs": [],
   "source": []
  }
 ],
 "metadata": {
  "kernelspec": {
   "display_name": "LSST",
   "language": "python",
   "name": "lsst"
  },
  "language_info": {
   "codemirror_mode": {
    "name": "ipython",
    "version": 3
   },
   "file_extension": ".py",
   "mimetype": "text/x-python",
   "name": "python",
   "nbconvert_exporter": "python",
   "pygments_lexer": "ipython3",
   "version": "3.10.9"
  }
 },
 "nbformat": 4,
 "nbformat_minor": 4
}
