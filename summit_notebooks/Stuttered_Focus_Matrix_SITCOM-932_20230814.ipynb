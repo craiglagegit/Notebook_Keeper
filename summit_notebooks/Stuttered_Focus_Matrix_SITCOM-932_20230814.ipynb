{
 "cells": [
  {
   "cell_type": "markdown",
   "metadata": {},
   "source": [
    "# Generate a focus matrix with a single stuttered image\n",
    "This notebook will take a stuttered image with sub images \\\n",
    "at varied focus positions. \\\n",
    "See SITCOM-932 \\\n",
    "Craig Lage - 30Jun23"
   ]
  },
  {
   "cell_type": "code",
   "execution_count": null,
   "metadata": {
    "execution": {
     "iopub.execute_input": "2023-08-15T23:09:55.043877Z",
     "iopub.status.busy": "2023-08-15T23:09:55.043608Z",
     "iopub.status.idle": "2023-08-15T23:09:58.173413Z",
     "shell.execute_reply": "2023-08-15T23:09:58.172853Z",
     "shell.execute_reply.started": "2023-08-15T23:09:55.043860Z"
    },
    "tags": []
   },
   "outputs": [],
   "source": [
    "import sys, asyncio, time, os\n",
    "import numpy as np\n",
    "from astropy.time import Time, TimeDelta\n",
    "from astropy import units as u\n",
    "\n",
    "from lsst.ts import salobj\n",
    "\n",
    "from lsst.ts.observatory.control.auxtel.atcs import ATCS\n",
    "from lsst.ts.observatory.control.auxtel.latiss import LATISS\n",
    "from lsst.ts.observatory.control.utils import RotType"
   ]
  },
  {
   "cell_type": "code",
   "execution_count": null,
   "metadata": {
    "execution": {
     "iopub.execute_input": "2023-08-15T23:09:59.527877Z",
     "iopub.status.busy": "2023-08-15T23:09:59.527513Z",
     "iopub.status.idle": "2023-08-15T23:09:59.530732Z",
     "shell.execute_reply": "2023-08-15T23:09:59.530344Z",
     "shell.execute_reply.started": "2023-08-15T23:09:59.527859Z"
    },
    "tags": []
   },
   "outputs": [],
   "source": [
    "stream_handler = logging.StreamHandler(sys.stdout)\n",
    "# if you want logging\n",
    "logger = logging.getLogger()\n",
    "logger.addHandler(stream_handler)\n",
    "logger.level = logging.DEBUG"
   ]
  },
  {
   "cell_type": "markdown",
   "metadata": {},
   "source": [
    "### Instantiate the control classes"
   ]
  },
  {
   "cell_type": "code",
   "execution_count": null,
   "metadata": {
    "execution": {
     "iopub.execute_input": "2023-08-15T23:10:17.971648Z",
     "iopub.status.busy": "2023-08-15T23:10:17.970918Z",
     "iopub.status.idle": "2023-08-15T23:10:26.169496Z",
     "shell.execute_reply": "2023-08-15T23:10:26.168940Z",
     "shell.execute_reply.started": "2023-08-15T23:10:17.971626Z"
    },
    "jupyter": {
     "outputs_hidden": true
    },
    "tags": []
   },
   "outputs": [],
   "source": [
    "domain = salobj.Domain()\n",
    "atcs = ATCS(domain)\n",
    "latiss = LATISS(domain)\n",
    "await asyncio.gather(atcs.start_task, latiss.start_task)"
   ]
  },
  {
   "cell_type": "markdown",
   "metadata": {},
   "source": [
    "## Assumes ATCS and LATISS are enabled and the telescope has run prepare_for_on_sky."
   ]
  },
  {
   "cell_type": "markdown",
   "metadata": {},
   "source": [
    "# Find a bright target\n",
    "\n",
    "I think m=8.0 is about right, but this may take some testing."
   ]
  },
  {
   "cell_type": "code",
   "execution_count": null,
   "metadata": {
    "execution": {
     "iopub.execute_input": "2023-08-15T23:20:54.605682Z",
     "iopub.status.busy": "2023-08-15T23:20:54.605026Z",
     "iopub.status.idle": "2023-08-15T23:20:56.161087Z",
     "shell.execute_reply": "2023-08-15T23:20:56.160657Z",
     "shell.execute_reply.started": "2023-08-15T23:20:54.605663Z"
    },
    "tags": []
   },
   "outputs": [],
   "source": [
    "target_name = await atcs.find_target(az=180.0,el=60,mag_limit=7.0)\n",
    "print(target_name)"
   ]
  },
  {
   "cell_type": "markdown",
   "metadata": {},
   "source": [
    "# Now slew to the object\n",
    "### This will also set the correct rotator angle."
   ]
  },
  {
   "cell_type": "code",
   "execution_count": null,
   "metadata": {
    "execution": {
     "iopub.execute_input": "2023-08-15T23:21:00.623939Z",
     "iopub.status.busy": "2023-08-15T23:21:00.623327Z",
     "iopub.status.idle": "2023-08-15T23:21:15.583185Z",
     "shell.execute_reply": "2023-08-15T23:21:15.582689Z",
     "shell.execute_reply.started": "2023-08-15T23:21:00.623896Z"
    },
    "jupyter": {
     "outputs_hidden": true
    },
    "tags": []
   },
   "outputs": [],
   "source": [
    "await atcs.slew_object(target_name, rot=0.0, rot_type=RotType.PhysicalSky)"
   ]
  },
  {
   "cell_type": "markdown",
   "metadata": {
    "tags": []
   },
   "source": [
    "# Now take an image.\n",
    "### Verify that the star is centered in the field.  If not, center as needed."
   ]
  },
  {
   "cell_type": "code",
   "execution_count": null,
   "metadata": {
    "execution": {
     "iopub.execute_input": "2023-08-15T23:21:23.953757Z",
     "iopub.status.busy": "2023-08-15T23:21:23.953275Z",
     "iopub.status.idle": "2023-08-15T23:21:28.869424Z",
     "shell.execute_reply": "2023-08-15T23:21:28.868863Z",
     "shell.execute_reply.started": "2023-08-15T23:21:23.953712Z"
    },
    "tags": []
   },
   "outputs": [],
   "source": [
    "await latiss.take_object(exptime=2.0, n=1, filter='SDSSr_65mm' ,grating='empty_1', reason='SITCOM-932')"
   ]
  },
  {
   "cell_type": "markdown",
   "metadata": {},
   "source": [
    "# Now we have to offset the star to center it in the first stripe.\n",
    "It will require moving the image slightly to get it positioned. \\\n",
    "Ideally, it should be 50 pixels (5.0 arcseconds) above the midline. \\\n",
    "The step below should do this if it is perfectly centered to begin with. \\\n",
    "Then take a new image to verify \\\n",
    "This may take a few iterations to get it in the right place.\n"
   ]
  },
  {
   "cell_type": "code",
   "execution_count": null,
   "metadata": {
    "execution": {
     "iopub.execute_input": "2023-08-15T23:22:13.076160Z",
     "iopub.status.busy": "2023-08-15T23:22:13.075444Z",
     "iopub.status.idle": "2023-08-15T23:22:24.436135Z",
     "shell.execute_reply": "2023-08-15T23:22:24.435596Z",
     "shell.execute_reply.started": "2023-08-15T23:22:13.076138Z"
    },
    "jupyter": {
     "outputs_hidden": true
    },
    "tags": []
   },
   "outputs": [],
   "source": [
    "await atcs.offset_xy(y=-5.0, x=0)\n",
    "await latiss.take_object(exptime=2., n=1, filter='SDSSr_65mm',grating='empty_1', reason='SITCOM-932')"
   ]
  },
  {
   "cell_type": "markdown",
   "metadata": {
    "tags": []
   },
   "source": [
    "# Now try taking the stuttered focus matrix.\n",
    "As currently configured, there will be 20 100 pixel strips. \\\n",
    "The even numbered strips will be the ones to be used for building the focus parabola. \\\n",
    "There will be 9 of these running from z_offset_start to z_offset_end. \\\n",
    "The odd numbered strips are where the focus is being shifted and should not be used for building the focus parabola. \\\n",
    "Note that the first exposure is at the top of the image and the last exposure is at the bottom"
   ]
  },
  {
   "cell_type": "markdown",
   "metadata": {},
   "source": [
    "## First, we need to disable the ataos corrections, then re-enable with moveWhileExposing=True"
   ]
  },
  {
   "cell_type": "code",
   "execution_count": null,
   "metadata": {
    "execution": {
     "iopub.execute_input": "2023-08-15T23:32:45.953385Z",
     "iopub.status.busy": "2023-08-15T23:32:45.953072Z",
     "iopub.status.idle": "2023-08-15T23:32:46.368177Z",
     "shell.execute_reply": "2023-08-15T23:32:46.367627Z",
     "shell.execute_reply.started": "2023-08-15T23:32:45.953367Z"
    },
    "tags": []
   },
   "outputs": [],
   "source": [
    "await atcs.rem.ataos.cmd_disableCorrection.set_start(hexapod=True)\n",
    "await atcs.rem.ataos.cmd_enableCorrection.set_start(hexapod=True, moveWhileExposing=True)"
   ]
  },
  {
   "cell_type": "code",
   "execution_count": null,
   "metadata": {
    "execution": {
     "iopub.execute_input": "2023-08-15T23:32:48.743785Z",
     "iopub.status.busy": "2023-08-15T23:32:48.743055Z",
     "iopub.status.idle": "2023-08-15T23:33:54.700226Z",
     "shell.execute_reply": "2023-08-15T23:33:54.699675Z",
     "shell.execute_reply.started": "2023-08-15T23:32:48.743765Z"
    },
    "tags": []
   },
   "outputs": [],
   "source": [
    "z_offset_start = -0.2 # mm\n",
    "z_offset_step = 0.050 # mm\n",
    "z_offset_end = -z_offset_start\n",
    "n_focus_shifts = int(abs(z_offset_start / z_offset_step)) * 2 + 1\n",
    "# Shift the focus in the negative direction\n",
    "await atcs.rem.ataos.cmd_offset.set_start(z=z_offset_start)\n",
    "total_focus = z_offset_start\n",
    "await asyncio.sleep(2)\n",
    "\n",
    "exptime = 2.0\n",
    "expcount = 20\n",
    "rowshift = 100\n",
    "buffer = 30.0 # Time buffer for timeout\n",
    "timeout = exptime * expcount + buffer\n",
    "\n",
    "await latiss.rem.atcamera.cmd_enableCalibration.set_start()\n",
    "keyValueMap = f\"groupId: {Time.now().isot},imageType: ENGTEST\"\n",
    "print(keyValueMap)\n",
    "latiss.rem.atcamera.cmd_startImage.set(shutter=True, keyValueMap=keyValueMap, timeout=timeout)\n",
    "await latiss.rem.atcamera.cmd_startImage.start()\n",
    "n_shifts = 0\n",
    "for i in range(expcount - 1):\n",
    "    if ((i + 1) % 2 == 0) and (n_shifts < n_focus_shifts - 1):\n",
    "        total_focus += z_offset_step\n",
    "        # The steps below wait to make sure the focus offset has been applied (I hope)\n",
    "        start = time.time()\n",
    "        atcs.rem.athexapod.evt_positionUpdate.flush()\n",
    "        await atcs.rem.ataos.cmd_offset.set_start(z=z_offset_step)\n",
    "        try:\n",
    "            await atcs.rem.athexapod.evt_positionUpdate.next(\n",
    "                flush=False, timeout=5.0)\n",
    "        except asyncio.TimeoutError:\n",
    "            print(\"Did not received position update from ATHexapod.\")\n",
    "            pass\n",
    "        n_shifts += 1\n",
    "        finish = time.time()\n",
    "        print(f\"Shifted focus by {z_offset_step}, Elapsed time for focus shift = {(finish-start):.3f} seconds\")\n",
    "    print(f\"Exposing {exptime} seconds. Focus = {total_focus:.3f}\")\n",
    "    await asyncio.sleep(exptime)\n",
    "    latiss.rem.atcamera.cmd_discardRows.set(nRows=rowshift)\n",
    "    print(f\"Shifting {rowshift} rows.\")\n",
    "    await latiss.rem.atcamera.cmd_discardRows.start()\n",
    "await asyncio.sleep(exptime)\n",
    "await latiss.rem.atcamera.cmd_endImage.start()\n",
    "await latiss.rem.atcamera.cmd_disableCalibration.start()\n",
    "# Move back to the original focus offset position\n",
    "await atcs.rem.ataos.cmd_offset.set_start(z= -z_offset_end)\n"
   ]
  },
  {
   "cell_type": "markdown",
   "metadata": {},
   "source": [
    "## Put the moveWhileExposing back to False"
   ]
  },
  {
   "cell_type": "code",
   "execution_count": null,
   "metadata": {
    "execution": {
     "iopub.execute_input": "2023-08-15T23:34:41.324326Z",
     "iopub.status.busy": "2023-08-15T23:34:41.323962Z",
     "iopub.status.idle": "2023-08-15T23:34:42.113738Z",
     "shell.execute_reply": "2023-08-15T23:34:42.113185Z",
     "shell.execute_reply.started": "2023-08-15T23:34:41.324308Z"
    },
    "tags": []
   },
   "outputs": [],
   "source": [
    "await atcs.rem.ataos.cmd_disableCorrection.set_start(hexapod=True)\n",
    "await atcs.rem.ataos.cmd_enableCorrection.set_start(hexapod=True, moveWhileExposing=False)"
   ]
  },
  {
   "cell_type": "code",
   "execution_count": null,
   "metadata": {},
   "outputs": [],
   "source": []
  }
 ],
 "metadata": {
  "kernelspec": {
   "display_name": "LSST",
   "language": "python",
   "name": "lsst"
  },
  "language_info": {
   "codemirror_mode": {
    "name": "ipython",
    "version": 3
   },
   "file_extension": ".py",
   "mimetype": "text/x-python",
   "name": "python",
   "nbconvert_exporter": "python",
   "pygments_lexer": "ipython3",
   "version": "3.11.4"
  }
 },
 "nbformat": 4,
 "nbformat_minor": 4
}
