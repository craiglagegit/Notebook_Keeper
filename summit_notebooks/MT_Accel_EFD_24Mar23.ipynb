{
 "cells": [
  {
   "cell_type": "markdown",
   "id": "153412e6",
   "metadata": {},
   "source": [
    "# MTMount accelerometers\n",
    "Querying MTMount accelerometers \\\n",
    "Craig Lage - 22-Mar-23"
   ]
  },
  {
   "cell_type": "code",
   "execution_count": null,
   "id": "fcd0a71e",
   "metadata": {
    "execution": {
     "iopub.execute_input": "2023-03-31T18:13:05.669045Z",
     "iopub.status.busy": "2023-03-31T18:13:05.668784Z",
     "iopub.status.idle": "2023-03-31T18:13:06.108370Z",
     "shell.execute_reply": "2023-03-31T18:13:06.107912Z",
     "shell.execute_reply.started": "2023-03-31T18:13:05.669028Z"
    },
    "tags": []
   },
   "outputs": [],
   "source": [
    "import sys, time, os, asyncio\n",
    "import numpy as np\n",
    "import matplotlib.pyplot as plt\n",
    "import pandas as pd\n",
    "from astropy.time import Time, TimeDelta\n",
    "from lsst_efd_client.efd_helper import EfdClient, merge_packed_time_series"
   ]
  },
  {
   "cell_type": "code",
   "execution_count": null,
   "id": "aed2b09e",
   "metadata": {
    "execution": {
     "iopub.execute_input": "2023-03-31T18:13:06.807922Z",
     "iopub.status.busy": "2023-03-31T18:13:06.807653Z",
     "iopub.status.idle": "2023-03-31T18:13:08.260833Z",
     "shell.execute_reply": "2023-03-31T18:13:08.260310Z",
     "shell.execute_reply.started": "2023-03-31T18:13:06.807904Z"
    },
    "tags": []
   },
   "outputs": [],
   "source": [
    "# Get EFD client\n",
    "client = EfdClient('summit_efd')"
   ]
  },
  {
   "cell_type": "code",
   "execution_count": null,
   "id": "b8c90662-31f2-4da1-8647-01c6fa8e5a45",
   "metadata": {
    "execution": {
     "iopub.execute_input": "2023-03-31T18:21:42.506196Z",
     "iopub.status.busy": "2023-03-31T18:21:42.505911Z",
     "iopub.status.idle": "2023-03-31T18:21:42.509455Z",
     "shell.execute_reply": "2023-03-31T18:21:42.508962Z",
     "shell.execute_reply.started": "2023-03-31T18:21:42.506170Z"
    },
    "tags": []
   },
   "outputs": [],
   "source": [
    "# Times to look at the data\n",
    "start = Time(\"2023-03-22 08:00:00Z\", scale='utc')\n",
    "end = Time(\"2023-03-22 08:10:00Z\", scale='utc')"
   ]
  },
  {
   "cell_type": "code",
   "execution_count": null,
   "id": "8a14d41e-cda6-438b-9199-f11ffd8aebd4",
   "metadata": {
    "execution": {
     "iopub.execute_input": "2023-03-31T18:21:43.622189Z",
     "iopub.status.busy": "2023-03-31T18:21:43.621916Z",
     "iopub.status.idle": "2023-03-31T18:21:43.624717Z",
     "shell.execute_reply": "2023-03-31T18:21:43.624335Z",
     "shell.execute_reply.started": "2023-03-31T18:21:43.622165Z"
    },
    "tags": []
   },
   "outputs": [],
   "source": [
    "baseFields = ['accelerationX', 'accelerationY', 'accelerationZ']\n",
    "sensorNames = ['SST top end ring +x -y', 'SST top end ring -x -y', 'SST spider spindle', 'SST M2 surrogate'] "
   ]
  },
  {
   "cell_type": "markdown",
   "id": "9335c693-dae0-4c1c-900e-61730f6c8572",
   "metadata": {},
   "source": [
    "##  Get all of the data for the selected times"
   ]
  },
  {
   "cell_type": "code",
   "execution_count": null,
   "id": "07eca9b2-9c6b-4d11-b1a2-04f3dc57927c",
   "metadata": {
    "execution": {
     "iopub.execute_input": "2023-03-31T18:21:45.307562Z",
     "iopub.status.busy": "2023-03-31T18:21:45.307298Z",
     "iopub.status.idle": "2023-03-31T18:21:48.540334Z",
     "shell.execute_reply": "2023-03-31T18:21:48.539868Z",
     "shell.execute_reply.started": "2023-03-31T18:21:45.307545Z"
    },
    "tags": []
   },
   "outputs": [],
   "source": [
    "packed_dataframe = await client.select_time_series(\"lsst.sal.ESS.accelerometer\", [\"*\"], start, end)"
   ]
  },
  {
   "cell_type": "markdown",
   "id": "df351c57-a238-4bda-a908-03565a90547d",
   "metadata": {},
   "source": [
    "## Now unpack it and plot it by sensor"
   ]
  },
  {
   "cell_type": "code",
   "execution_count": null,
   "id": "7e4739e4-4572-406f-8475-70e9f20d8080",
   "metadata": {
    "execution": {
     "iopub.execute_input": "2023-03-31T18:22:22.609457Z",
     "iopub.status.busy": "2023-03-31T18:22:22.609001Z",
     "iopub.status.idle": "2023-03-31T18:22:38.216486Z",
     "shell.execute_reply": "2023-03-31T18:22:38.216039Z",
     "shell.execute_reply.started": "2023-03-31T18:22:22.609412Z"
    },
    "tags": []
   },
   "outputs": [],
   "source": [
    "fig, axs = plt.subplots(2,2, figsize = (8,8))\n",
    "plt.subplots_adjust(hspace=0.5, wspace=0.5)\n",
    "for i, sensorName in enumerate(sensorNames):\n",
    "    sub_dataframe = packed_dataframe.loc[packed_dataframe.sensorName==sensorName]\n",
    "    plotx = i%2\n",
    "    ploty = int(i/2)\n",
    "    ax = axs[plotx][ploty]\n",
    "    ax.set_title(sensorName)\n",
    "    ax.set_ylabel(\"Accel(m/s^2)\")\n",
    "    for baseField in baseFields:\n",
    "        df = merge_packed_time_series(sub_dataframe, baseField, stride=1,\n",
    "                             ref_timestamp_col=\"timestamp\", fmt='unix_tai',\n",
    "                             scale='tai')\n",
    "        df[baseField].plot(ax=ax, label=list(baseField)[-1])\n",
    "    ax.legend()\n",
    "plt.savefig(\"/home/craiglagegit/DATA/MT_accels/MT_Accel_22Mar23.png\")"
   ]
  },
  {
   "cell_type": "code",
   "execution_count": null,
   "id": "d1c58a74-c7fd-4819-9a79-c4501bfbee43",
   "metadata": {
    "execution": {
     "iopub.execute_input": "2023-03-31T18:22:45.586440Z",
     "iopub.status.busy": "2023-03-31T18:22:45.586161Z",
     "iopub.status.idle": "2023-03-31T18:22:46.218098Z",
     "shell.execute_reply": "2023-03-31T18:22:46.217679Z",
     "shell.execute_reply.started": "2023-03-31T18:22:45.586423Z"
    }
   },
   "outputs": [],
   "source": [
    "df['times'].plot(marker='x')"
   ]
  },
  {
   "cell_type": "code",
   "execution_count": null,
   "id": "1565f96d-c866-4c2e-9f86-f0417e36a7b4",
   "metadata": {
    "execution": {
     "iopub.execute_input": "2023-03-31T18:22:04.636512Z",
     "iopub.status.busy": "2023-03-31T18:22:04.636333Z",
     "iopub.status.idle": "2023-03-31T18:22:12.760058Z",
     "shell.execute_reply": "2023-03-31T18:22:12.759388Z",
     "shell.execute_reply.started": "2023-03-31T18:22:04.636497Z"
    },
    "tags": []
   },
   "outputs": [],
   "source": [
    "# Plot magnitude of accel\n",
    "fig, axs = plt.subplots(2,2, figsize = (8,8))\n",
    "plt.subplots_adjust(hspace=0.5, wspace=0.5)\n",
    "for i, sensorName in enumerate(sensorNames):\n",
    "    sub_dataframe = packed_dataframe.loc[packed_dataframe.sensorName==sensorName]\n",
    "    plotx = i%2\n",
    "    ploty = int(i/2)\n",
    "    ax = axs[plotx][ploty]\n",
    "    ax.set_title(sensorName)\n",
    "    ax.set_ylabel(\"Accel(m/s^2)\")\n",
    "    for baseField in baseFields:\n",
    "        df = merge_packed_time_series(sub_dataframe, baseField, stride=1,\n",
    "                             ref_timestamp_col=\"timestamp\", fmt='unix_tai',\n",
    "                             scale='tai')\n",
    "        if baseField == 'accelerationX':\n",
    "            plotX = df['times'].values\n",
    "            plotX -= plotX[0] # Subtract off t0\n",
    "            plotY = df[baseField].values * df[baseField].values\n",
    "        else:\n",
    "            plotY += df[baseField].values * df[baseField].values\n",
    "    plotY = np.sqrt(plotY)\n",
    "    ax.plot(plotX, plotY)\n",
    "    ax.set_xlim(20,40)\n",
    "#plt.savefig(\"/home/craiglagegit/DATA/MT_accels/MT_Accel_22Mar23.png\")"
   ]
  },
  {
   "cell_type": "code",
   "execution_count": null,
   "id": "635e6cba-07d0-4e2f-a901-baf5f03a052a",
   "metadata": {
    "execution": {
     "iopub.execute_input": "2023-03-31T18:13:16.489324Z",
     "iopub.status.busy": "2023-03-31T18:13:16.489041Z",
     "iopub.status.idle": "2023-03-31T18:13:16.492514Z",
     "shell.execute_reply": "2023-03-31T18:13:16.492097Z",
     "shell.execute_reply.started": "2023-03-31T18:13:16.489306Z"
    },
    "tags": []
   },
   "outputs": [],
   "source": [
    "# Times to look at the data\n",
    "# Earthquake\n",
    "start = Time(\"2023-03-24 06:13:40Z\", scale='utc')\n",
    "end = Time(\"2023-03-24 06:14:00Z\", scale='utc')"
   ]
  },
  {
   "cell_type": "markdown",
   "id": "a76b8cfb-c5ef-4a9d-a779-c04d8386845c",
   "metadata": {},
   "source": [
    "##  Get all of the data for the selected times"
   ]
  },
  {
   "cell_type": "code",
   "execution_count": null,
   "id": "1316f699-5747-4de6-9a58-94ac00c74670",
   "metadata": {
    "execution": {
     "iopub.execute_input": "2023-03-31T18:13:17.954595Z",
     "iopub.status.busy": "2023-03-31T18:13:17.954335Z",
     "iopub.status.idle": "2023-03-31T18:13:19.994707Z",
     "shell.execute_reply": "2023-03-31T18:13:19.994172Z",
     "shell.execute_reply.started": "2023-03-31T18:13:17.954578Z"
    },
    "tags": []
   },
   "outputs": [],
   "source": [
    "packed_dataframe = await client.select_time_series(\"lsst.sal.ESS.accelerometer\", [\"*\"], start, end)"
   ]
  },
  {
   "cell_type": "markdown",
   "id": "89221a17-de02-4d57-80ce-566c90d3146e",
   "metadata": {},
   "source": [
    "## Now unpack it and plot it by sensor"
   ]
  },
  {
   "cell_type": "code",
   "execution_count": null,
   "id": "aac5cbb5-3299-4130-8e62-abc5569ba187",
   "metadata": {
    "execution": {
     "iopub.execute_input": "2023-03-31T18:16:44.401169Z",
     "iopub.status.busy": "2023-03-31T18:16:44.400901Z",
     "iopub.status.idle": "2023-03-31T18:16:45.918051Z",
     "shell.execute_reply": "2023-03-31T18:16:45.917643Z",
     "shell.execute_reply.started": "2023-03-31T18:16:44.401151Z"
    },
    "tags": []
   },
   "outputs": [],
   "source": [
    "fig, axs = plt.subplots(2,2, figsize = (8,8))\n",
    "plt.subplots_adjust(hspace=0.5, wspace=0.5)\n",
    "for i, sensorName in enumerate(sensorNames):\n",
    "    sub_dataframe = packed_dataframe.loc[packed_dataframe.sensorName==sensorName]\n",
    "    plotx = i%2\n",
    "    ploty = int(i/2)\n",
    "    ax = axs[plotx][ploty]\n",
    "    ax.set_title(sensorName)\n",
    "    ax.set_ylabel(\"Accel(m/s^2)\")\n",
    "    for baseField in baseFields:\n",
    "        df = merge_packed_time_series(sub_dataframe, baseField, stride=1,\n",
    "                             ref_timestamp_col=\"timestamp\", fmt='unix_tai',\n",
    "                             scale='tai')\n",
    "        df[baseField].plot(ax=ax, label=list(baseField)[-1])\n",
    "    ax.legend()\n",
    "#plt.savefig(\"/home/craiglagegit/DATA/MT_accels/MT_Accel_Earthquake_24Mar23.png\")"
   ]
  },
  {
   "cell_type": "code",
   "execution_count": null,
   "id": "92201fe6-629b-409f-a542-6e0d3be0bd3c",
   "metadata": {
    "execution": {
     "iopub.execute_input": "2023-03-31T18:15:23.928951Z",
     "iopub.status.busy": "2023-03-31T18:15:23.928685Z",
     "iopub.status.idle": "2023-03-31T18:15:23.932272Z",
     "shell.execute_reply": "2023-03-31T18:15:23.931885Z",
     "shell.execute_reply.started": "2023-03-31T18:15:23.928934Z"
    },
    "tags": []
   },
   "outputs": [],
   "source": [
    "packed_dataframe['accelerationZ69'].size"
   ]
  },
  {
   "cell_type": "code",
   "execution_count": null,
   "id": "9f8026cf-c97d-4acc-90b5-e441f6e3aa22",
   "metadata": {
    "execution": {
     "iopub.execute_input": "2023-03-31T18:15:28.037703Z",
     "iopub.status.busy": "2023-03-31T18:15:28.037442Z",
     "iopub.status.idle": "2023-03-31T18:15:28.040849Z",
     "shell.execute_reply": "2023-03-31T18:15:28.040475Z",
     "shell.execute_reply.started": "2023-03-31T18:15:28.037687Z"
    }
   },
   "outputs": [],
   "source": [
    "packed_dataframe['timestamp'].size"
   ]
  },
  {
   "cell_type": "code",
   "execution_count": null,
   "id": "5eb26d86-0e98-4335-a51a-e3575b17c802",
   "metadata": {
    "execution": {
     "iopub.execute_input": "2023-03-31T18:16:49.178621Z",
     "iopub.status.busy": "2023-03-31T18:16:49.178355Z",
     "iopub.status.idle": "2023-03-31T18:16:49.182396Z",
     "shell.execute_reply": "2023-03-31T18:16:49.181911Z",
     "shell.execute_reply.started": "2023-03-31T18:16:49.178604Z"
    },
    "tags": []
   },
   "outputs": [],
   "source": [
    "df.columns"
   ]
  },
  {
   "cell_type": "code",
   "execution_count": null,
   "id": "03c1fb8a-7a2c-4501-a606-3e0a8f8d9bd9",
   "metadata": {
    "execution": {
     "iopub.execute_input": "2023-03-31T18:17:12.310904Z",
     "iopub.status.busy": "2023-03-31T18:17:12.310634Z",
     "iopub.status.idle": "2023-03-31T18:17:12.314456Z",
     "shell.execute_reply": "2023-03-31T18:17:12.313882Z",
     "shell.execute_reply.started": "2023-03-31T18:17:12.310886Z"
    }
   },
   "outputs": [],
   "source": [
    "df['times'].size"
   ]
  },
  {
   "cell_type": "code",
   "execution_count": null,
   "id": "24efb500-b955-498f-9ce6-26d8183b43a5",
   "metadata": {
    "execution": {
     "iopub.execute_input": "2023-03-31T18:24:30.082983Z",
     "iopub.status.busy": "2023-03-31T18:24:30.082716Z",
     "iopub.status.idle": "2023-03-31T18:24:30.173378Z",
     "shell.execute_reply": "2023-03-31T18:24:30.172968Z",
     "shell.execute_reply.started": "2023-03-31T18:24:30.082966Z"
    },
    "tags": []
   },
   "outputs": [],
   "source": [
    "df['times'][2900:3100].plot(marker='x')"
   ]
  },
  {
   "cell_type": "code",
   "execution_count": null,
   "id": "21652884-3b3f-4f46-b04c-a99ca39af189",
   "metadata": {
    "execution": {
     "iopub.execute_input": "2023-03-31T19:22:45.879719Z",
     "iopub.status.busy": "2023-03-31T19:22:45.879446Z",
     "iopub.status.idle": "2023-03-31T19:22:45.882967Z",
     "shell.execute_reply": "2023-03-31T19:22:45.882585Z",
     "shell.execute_reply.started": "2023-03-31T19:22:45.879701Z"
    },
    "tags": []
   },
   "outputs": [],
   "source": [
    "# These times show the gaps\n",
    "#start = Time(\"2023-03-25T01:26:30\", scale='utc')\n",
    "#end = Time(\"2023-03-25T01:26:60\", scale='utc')\n",
    "# These times show it as well\n",
    "start = Time(\"2023-03-24 06:13:00Z\", scale='utc')\n",
    "end = Time(\"2023-03-24 06:13:30Z\", scale='utc')"
   ]
  },
  {
   "cell_type": "code",
   "execution_count": null,
   "id": "f3a95adc-73e7-442d-bd8d-4f2eedc55389",
   "metadata": {
    "execution": {
     "iopub.execute_input": "2023-03-31T19:22:47.379649Z",
     "iopub.status.busy": "2023-03-31T19:22:47.379388Z",
     "iopub.status.idle": "2023-03-31T19:22:48.136008Z",
     "shell.execute_reply": "2023-03-31T19:22:48.135429Z",
     "shell.execute_reply.started": "2023-03-31T19:22:47.379632Z"
    },
    "tags": []
   },
   "outputs": [],
   "source": [
    "packed_dataframe = await client.select_time_series(\"lsst.sal.ESS.accelerometer\", [\"*\"], start, end)"
   ]
  },
  {
   "cell_type": "markdown",
   "id": "a2771450-f9ab-4774-8718-fbdda11e9770",
   "metadata": {},
   "source": [
    "## Now unpack it and plot it by sensor"
   ]
  },
  {
   "cell_type": "code",
   "execution_count": null,
   "id": "d29b3373-902a-4cfe-8346-da7d065176b8",
   "metadata": {
    "execution": {
     "iopub.execute_input": "2023-03-31T19:22:49.555112Z",
     "iopub.status.busy": "2023-03-31T19:22:49.554846Z",
     "iopub.status.idle": "2023-03-31T19:22:51.230240Z",
     "shell.execute_reply": "2023-03-31T19:22:51.229775Z",
     "shell.execute_reply.started": "2023-03-31T19:22:49.555095Z"
    },
    "tags": []
   },
   "outputs": [],
   "source": [
    "fig, axs = plt.subplots(2,2, figsize = (8,8))\n",
    "plt.subplots_adjust(hspace=0.5, wspace=0.5)\n",
    "for i, sensorName in enumerate(sensorNames):\n",
    "    sub_dataframe = packed_dataframe.loc[packed_dataframe.sensorName==sensorName]\n",
    "    plotx = i%2\n",
    "    ploty = int(i/2)\n",
    "    ax = axs[plotx][ploty]\n",
    "    ax.set_title(sensorName)\n",
    "    ax.set_ylabel(\"Accel(m/s^2)\")\n",
    "    for baseField in baseFields:\n",
    "        df = merge_packed_time_series(sub_dataframe, baseField, stride=1,\n",
    "                             ref_timestamp_col=\"timestamp\", fmt='unix_tai',\n",
    "                             scale='tai')\n",
    "        df[baseField].plot(ax=ax, label=list(baseField)[-1])\n",
    "    ax.legend()\n",
    "#plt.savefig(\"/home/craiglagegit/DATA/MT_accels/MT_Accel_Earthquake_24Mar23.png\")"
   ]
  },
  {
   "cell_type": "code",
   "execution_count": null,
   "id": "88a68a46-3644-450a-9b01-5edf1d4a9d9d",
   "metadata": {
    "execution": {
     "iopub.execute_input": "2023-03-31T19:22:53.259290Z",
     "iopub.status.busy": "2023-03-31T19:22:53.259009Z",
     "iopub.status.idle": "2023-03-31T19:22:53.375666Z",
     "shell.execute_reply": "2023-03-31T19:22:53.375265Z",
     "shell.execute_reply.started": "2023-03-31T19:22:53.259273Z"
    },
    "tags": []
   },
   "outputs": [],
   "source": [
    "df['times'][0:1000].plot(marker='x')\n",
    "sub_dataframe['timestamp'][0:5].plot(marker='+', color='r')"
   ]
  },
  {
   "cell_type": "code",
   "execution_count": null,
   "id": "b67d26aa-1320-4430-b511-6e8a2a40f57d",
   "metadata": {
    "execution": {
     "iopub.execute_input": "2023-03-31T19:22:55.108378Z",
     "iopub.status.busy": "2023-03-31T19:22:55.108097Z",
     "iopub.status.idle": "2023-03-31T19:22:55.111612Z",
     "shell.execute_reply": "2023-03-31T19:22:55.111234Z",
     "shell.execute_reply.started": "2023-03-31T19:22:55.108360Z"
    },
    "tags": []
   },
   "outputs": [],
   "source": [
    "df['times'].size"
   ]
  },
  {
   "cell_type": "code",
   "execution_count": null,
   "id": "7d0bd069-065a-4309-9503-1d985ff243b3",
   "metadata": {
    "execution": {
     "iopub.execute_input": "2023-03-31T19:22:56.331227Z",
     "iopub.status.busy": "2023-03-31T19:22:56.330946Z",
     "iopub.status.idle": "2023-03-31T19:22:56.334462Z",
     "shell.execute_reply": "2023-03-31T19:22:56.334068Z",
     "shell.execute_reply.started": "2023-03-31T19:22:56.331209Z"
    },
    "tags": []
   },
   "outputs": [],
   "source": [
    "sub_dataframe['accelerationZ69'].size"
   ]
  },
  {
   "cell_type": "code",
   "execution_count": null,
   "id": "8194a1da-9e5c-4626-81aa-7db81ad82eb7",
   "metadata": {
    "execution": {
     "iopub.execute_input": "2023-03-31T19:22:57.311200Z",
     "iopub.status.busy": "2023-03-31T19:22:57.310922Z",
     "iopub.status.idle": "2023-03-31T19:22:57.314554Z",
     "shell.execute_reply": "2023-03-31T19:22:57.314129Z",
     "shell.execute_reply.started": "2023-03-31T19:22:57.311171Z"
    },
    "tags": []
   },
   "outputs": [],
   "source": [
    "sub_dataframe['timestamp'].size"
   ]
  },
  {
   "cell_type": "code",
   "execution_count": null,
   "id": "f5393ba1-c3f2-4ee5-9041-0e54825d251e",
   "metadata": {
    "execution": {
     "iopub.execute_input": "2023-03-31T19:22:58.487666Z",
     "iopub.status.busy": "2023-03-31T19:22:58.487199Z",
     "iopub.status.idle": "2023-03-31T19:22:58.589633Z",
     "shell.execute_reply": "2023-03-31T19:22:58.589214Z",
     "shell.execute_reply.started": "2023-03-31T19:22:58.487620Z"
    },
    "tags": []
   },
   "outputs": [],
   "source": [
    "sub_dataframe['timestamp'][0:5].plot(marker='x')"
   ]
  },
  {
   "cell_type": "code",
   "execution_count": null,
   "id": "41066a59-9520-47e0-a0f7-962d9803ad9b",
   "metadata": {
    "execution": {
     "iopub.execute_input": "2023-03-31T19:23:04.296533Z",
     "iopub.status.busy": "2023-03-31T19:23:04.296260Z",
     "iopub.status.idle": "2023-03-31T19:23:04.300453Z",
     "shell.execute_reply": "2023-03-31T19:23:04.299880Z",
     "shell.execute_reply.started": "2023-03-31T19:23:04.296516Z"
    },
    "tags": []
   },
   "outputs": [],
   "source": [
    "df['times'].size"
   ]
  },
  {
   "cell_type": "code",
   "execution_count": null,
   "id": "b58ed4df-7ff1-4b51-9faf-609febe6e6e5",
   "metadata": {
    "execution": {
     "iopub.execute_input": "2023-03-31T19:23:05.791084Z",
     "iopub.status.busy": "2023-03-31T19:23:05.790708Z",
     "iopub.status.idle": "2023-03-31T19:23:05.794008Z",
     "shell.execute_reply": "2023-03-31T19:23:05.793506Z",
     "shell.execute_reply.started": "2023-03-31T19:23:05.791065Z"
    },
    "tags": []
   },
   "outputs": [],
   "source": [
    "timestamps = sub_dataframe['timestamp'].values"
   ]
  },
  {
   "cell_type": "code",
   "execution_count": null,
   "id": "3d33cf88-6d7f-4f4e-ba78-c6f2aa334276",
   "metadata": {
    "execution": {
     "iopub.execute_input": "2023-03-31T19:23:07.374463Z",
     "iopub.status.busy": "2023-03-31T19:23:07.374178Z",
     "iopub.status.idle": "2023-03-31T19:23:07.377457Z",
     "shell.execute_reply": "2023-03-31T19:23:07.377039Z",
     "shell.execute_reply.started": "2023-03-31T19:23:07.374444Z"
    },
    "tags": []
   },
   "outputs": [],
   "source": [
    "for i in range(1,30):\n",
    "    print(i, timestamps[i] - timestamps[i-1])"
   ]
  },
  {
   "cell_type": "code",
   "execution_count": null,
   "id": "356172bf-9bcd-4a93-ae97-0e937f4742e1",
   "metadata": {},
   "outputs": [],
   "source": []
  }
 ],
 "metadata": {
  "jupytext": {
   "formats": "ipynb,markdown//md"
  },
  "kernelspec": {
   "display_name": "LSST",
   "language": "python",
   "name": "lsst"
  },
  "language_info": {
   "codemirror_mode": {
    "name": "ipython",
    "version": 3
   },
   "file_extension": ".py",
   "mimetype": "text/x-python",
   "name": "python",
   "nbconvert_exporter": "python",
   "pygments_lexer": "ipython3",
   "version": "3.10.9"
  }
 },
 "nbformat": 4,
 "nbformat_minor": 5
}
