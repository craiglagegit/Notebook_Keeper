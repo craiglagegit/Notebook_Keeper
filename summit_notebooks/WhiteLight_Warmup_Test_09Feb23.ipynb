{
 "cells": [
  {
   "cell_type": "markdown",
   "id": "66953411",
   "metadata": {},
   "source": [
    "# AuxTel Calibration Illumination System Lamp Warm-up test"
   ]
  },
  {
   "cell_type": "markdown",
   "id": "5fc900e0",
   "metadata": {},
   "source": [
    "Craig Lage - 09Feb23"
   ]
  },
  {
   "cell_type": "code",
   "execution_count": null,
   "id": "4fdba962",
   "metadata": {
    "execution": {
     "iopub.execute_input": "2023-02-14T12:27:41.068834Z",
     "iopub.status.busy": "2023-02-14T12:27:41.068546Z",
     "iopub.status.idle": "2023-02-14T12:27:42.501436Z",
     "shell.execute_reply": "2023-02-14T12:27:42.500851Z",
     "shell.execute_reply.started": "2023-02-14T12:27:41.068818Z"
    },
    "tags": []
   },
   "outputs": [],
   "source": [
    "import asyncio\n",
    "import sys, time, os\n",
    "from lsst.ts import utils\n",
    "\n",
    "import numpy as np\n",
    "import pandas as pd\n",
    "import matplotlib.pyplot as plt\n",
    "from IPython import display\n",
    "\n",
    "from astropy.io import fits\n",
    "from astropy.time import Time, TimeDelta\n",
    "from astropy.table import Table\n",
    "\n",
    "from lsst_efd_client import EfdClient\n",
    "client = EfdClient('summit_efd')\n",
    "\n",
    "from lsst.ts import salobj"
   ]
  },
  {
   "cell_type": "code",
   "execution_count": null,
   "id": "582744d1",
   "metadata": {
    "execution": {
     "iopub.execute_input": "2023-02-14T12:01:12.102078Z",
     "iopub.status.busy": "2023-02-14T12:01:12.101932Z",
     "iopub.status.idle": "2023-02-14T12:01:12.104507Z",
     "shell.execute_reply": "2023-02-14T12:01:12.104039Z",
     "shell.execute_reply.started": "2023-02-14T12:01:12.102063Z"
    },
    "tags": []
   },
   "outputs": [],
   "source": [
    "# change this to a local directory\n",
    "data_dir = '/home/craiglagegit/DATA'"
   ]
  },
  {
   "cell_type": "code",
   "execution_count": null,
   "id": "ca265d8d",
   "metadata": {
    "execution": {
     "iopub.execute_input": "2023-02-14T12:01:12.106429Z",
     "iopub.status.busy": "2023-02-14T12:01:12.106298Z",
     "iopub.status.idle": "2023-02-14T12:01:12.128083Z",
     "shell.execute_reply": "2023-02-14T12:01:12.127551Z",
     "shell.execute_reply.started": "2023-02-14T12:01:12.106417Z"
    },
    "tags": []
   },
   "outputs": [],
   "source": [
    "d = salobj.Domain()"
   ]
  },
  {
   "cell_type": "markdown",
   "id": "bd0fe9a6",
   "metadata": {},
   "source": [
    "### Connect to CSCs"
   ]
  },
  {
   "cell_type": "code",
   "execution_count": null,
   "id": "804e9aac",
   "metadata": {
    "execution": {
     "iopub.execute_input": "2023-02-14T12:01:12.133276Z",
     "iopub.status.busy": "2023-02-14T12:01:12.132910Z",
     "iopub.status.idle": "2023-02-14T12:01:12.364001Z",
     "shell.execute_reply": "2023-02-14T12:01:12.363400Z",
     "shell.execute_reply.started": "2023-02-14T12:01:12.133261Z"
    },
    "tags": []
   },
   "outputs": [],
   "source": [
    "atmonochromator = salobj.Remote(d, 'ATMonochromator')\n",
    "FiberSpectrograph = salobj.Remote(name=\"FiberSpectrograph\", domain=d, index=3)\n",
    "electrometer = salobj.Remote(name=\"Electrometer\", domain=d, index=201) \n",
    "WhiteLightSource = salobj.Remote(name='ATWhiteLight', domain=d)"
   ]
  },
  {
   "cell_type": "code",
   "execution_count": null,
   "id": "06512f70",
   "metadata": {
    "execution": {
     "iopub.execute_input": "2023-02-14T12:01:12.366510Z",
     "iopub.status.busy": "2023-02-14T12:01:12.366363Z",
     "iopub.status.idle": "2023-02-14T12:01:12.402657Z",
     "shell.execute_reply": "2023-02-14T12:01:12.402156Z",
     "shell.execute_reply.started": "2023-02-14T12:01:12.366496Z"
    },
    "tags": []
   },
   "outputs": [],
   "source": [
    "await atmonochromator.start_task\n",
    "await FiberSpectrograph.start_task\n",
    "await electrometer.start_task\n",
    "await WhiteLightSource.start_task"
   ]
  },
  {
   "cell_type": "code",
   "execution_count": null,
   "id": "7baa8f01",
   "metadata": {
    "execution": {
     "iopub.execute_input": "2023-02-14T12:31:28.065594Z",
     "iopub.status.busy": "2023-02-14T12:31:28.065247Z",
     "iopub.status.idle": "2023-02-14T12:31:28.070793Z",
     "shell.execute_reply": "2023-02-14T12:31:28.070305Z",
     "shell.execute_reply.started": "2023-02-14T12:31:28.065577Z"
    },
    "tags": []
   },
   "outputs": [],
   "source": [
    "# Check that the monochromator is in white light mode - grating 2, wavelength 0\n",
    "async def get_params():\n",
    "    tmp1 = await atmonochromator.evt_wavelength.aget()\n",
    "    tmp2 = await atmonochromator.evt_entrySlitWidth.aget()\n",
    "    tmp3 = await atmonochromator.evt_exitSlitWidth.aget()\n",
    "    tmp4 = await atmonochromator.evt_selectedGrating.aget()\n",
    "    return (tmp1.wavelength, tmp2.width, tmp3.width, tmp4.gratingType)\n",
    "\n",
    "# functions to run the electromter measurements\n",
    "def get_file_transfer(lfa):\n",
    "    filename = os.path.split(lfa.url)[1]\n",
    "    save_dir = os.path.join(data_dir, filename.split(':')[0])\n",
    "    if not os.path.exists(save_dir):\n",
    "        os.mkdir(save_dir)\n",
    "    save_file = os.path.join(save_dir, filename)\n",
    "    os.system(f\"curl {lfa.url} --output {save_file}\")\n",
    "    return save_file\n",
    "\n",
    "async def elec_meas(exp_time):\n",
    "    electrometer.evt_largeFileObjectAvailable.flush()\n",
    "    tmp1=await electrometer.cmd_startScan.set_start(timeout=10)\n",
    "    await asyncio.sleep(exp_time)\n",
    "    tmp2=await electrometer.cmd_stopScan.set_start(timeout=10)\n",
    "    lfa = await electrometer.evt_largeFileObjectAvailable.next(flush=False, timeout=10)\n",
    "    filename = get_file_transfer(lfa)\n",
    "    return filename, lfa"
   ]
  },
  {
   "cell_type": "code",
   "execution_count": null,
   "id": "09c64f73",
   "metadata": {
    "execution": {
     "iopub.execute_input": "2023-02-14T12:44:46.523179Z",
     "iopub.status.busy": "2023-02-14T12:44:46.522526Z",
     "iopub.status.idle": "2023-02-14T12:44:46.647458Z",
     "shell.execute_reply": "2023-02-14T12:44:46.646870Z",
     "shell.execute_reply.started": "2023-02-14T12:44:46.523150Z"
    },
    "tags": []
   },
   "outputs": [],
   "source": [
    "# Run electrometer calibration\n",
    "await electrometer.cmd_performZeroCalib.set_start(timeout=10)\n",
    "await electrometer.cmd_setDigitalFilter.set_start(activateFilter=False, activateAvgFilter=False, activateMedFilter=False, timeout=10)    "
   ]
  },
  {
   "cell_type": "code",
   "execution_count": null,
   "id": "aa224de0",
   "metadata": {
    "execution": {
     "iopub.execute_input": "2023-02-14T12:31:33.912975Z",
     "iopub.status.busy": "2023-02-14T12:31:33.912693Z",
     "iopub.status.idle": "2023-02-14T12:31:34.083344Z",
     "shell.execute_reply": "2023-02-14T12:31:34.082875Z",
     "shell.execute_reply.started": "2023-02-14T12:31:33.912957Z"
    },
    "tags": []
   },
   "outputs": [],
   "source": [
    "#Start chiller\n",
    "tmp = await WhiteLightSource.cmd_setChillerTemperature.set_start(temperature=20)\n",
    "tmp = await WhiteLightSource.cmd_startChiller.set_start()\n",
    "# Confirm that the chiller has started and running at 20C"
   ]
  },
  {
   "cell_type": "markdown",
   "id": "1460e654",
   "metadata": {},
   "source": [
    "### Test Electrometer"
   ]
  },
  {
   "cell_type": "code",
   "execution_count": null,
   "id": "24a99796",
   "metadata": {
    "execution": {
     "iopub.execute_input": "2023-02-14T12:44:59.003017Z",
     "iopub.status.busy": "2023-02-14T12:44:59.002734Z",
     "iopub.status.idle": "2023-02-14T12:44:59.006490Z",
     "shell.execute_reply": "2023-02-14T12:44:59.005970Z",
     "shell.execute_reply.started": "2023-02-14T12:44:59.003000Z"
    },
    "tags": []
   },
   "outputs": [],
   "source": [
    "mode = await electrometer.evt_measureType.aget()\n",
    "intTime = await electrometer.evt_integrationTime.aget()\n",
    "range_ = await electrometer.evt_measureRange.aget()\n",
    "print(f'Mode: {mode.mode}; Int. Time: {intTime.intTime}; Range: {range_.rangeValue}')"
   ]
  },
  {
   "cell_type": "code",
   "execution_count": null,
   "id": "fa3d6d82-d20b-499b-afd4-b94b43c76205",
   "metadata": {
    "execution": {
     "iopub.execute_input": "2023-02-14T12:44:56.775638Z",
     "iopub.status.busy": "2023-02-14T12:44:56.775359Z",
     "iopub.status.idle": "2023-02-14T12:44:56.807985Z",
     "shell.execute_reply": "2023-02-14T12:44:56.807512Z",
     "shell.execute_reply.started": "2023-02-14T12:44:56.775621Z"
    },
    "tags": []
   },
   "outputs": [],
   "source": [
    "# To change range.  -1 is autorange\n",
    "await electrometer.cmd_setRange.set_start(setRange=-1)"
   ]
  },
  {
   "cell_type": "markdown",
   "id": "ae20e06b-ed6c-432a-b73b-139e99dedd0b",
   "metadata": {},
   "source": [
    "### Check monochromator state\n",
    "### Assumes ATWhiteLight, Electrometer, and Monochromator are enabled and working"
   ]
  },
  {
   "cell_type": "code",
   "execution_count": null,
   "id": "60a77fde-ea0d-4062-a51b-289e56407992",
   "metadata": {
    "execution": {
     "iopub.execute_input": "2023-02-14T14:48:21.145644Z",
     "iopub.status.busy": "2023-02-14T14:48:21.145268Z",
     "iopub.status.idle": "2023-02-14T14:48:21.149106Z",
     "shell.execute_reply": "2023-02-14T14:48:21.148732Z",
     "shell.execute_reply.started": "2023-02-14T14:48:21.145626Z"
    },
    "tags": []
   },
   "outputs": [],
   "source": [
    "# This test was done with white light\n",
    "await get_params()"
   ]
  },
  {
   "cell_type": "code",
   "execution_count": null,
   "id": "59a5344c",
   "metadata": {
    "execution": {
     "iopub.execute_input": "2023-02-14T13:45:52.398826Z",
     "iopub.status.busy": "2023-02-14T13:45:52.398444Z",
     "iopub.status.idle": "2023-02-14T14:04:33.544690Z",
     "shell.execute_reply": "2023-02-14T14:04:33.544077Z",
     "shell.execute_reply.started": "2023-02-14T13:45:52.398808Z"
    },
    "tags": []
   },
   "outputs": [],
   "source": [
    "#Turn on lamp and continue readings.  Then continue for ~ 1 hour\n",
    "\n",
    "#readings_on = []\n",
    "fig = plt.figure(figsize = (4,4))\n",
    "for i in range(200):\n",
    "    plt.cla()\n",
    "    if i == 2:\n",
    "        tmp = await WhiteLightSource.cmd_turnLampOn.set_start(power = 910)\n",
    "    start_time = Time(time.time(),format='unix', scale='utc')\n",
    "    exp_time = 20 #sec\n",
    "    filename, lfa = await elec_meas(exp_time)\n",
    "    filename = filename.replace(\":\", \"_\")\n",
    "    elec_filen = os.path.join(data_dir, filename)\n",
    "    os.system(f\"curl {lfa.url} --output {elec_filen}\")\n",
    "    hdu = fits.open(f'{elec_filen}')\n",
    "    data = hdu[1].data\n",
    "    for (t,current) in data:\n",
    "        obs_time = start_time + TimeDelta(t, format='sec')\n",
    "        readings_on.append([obs_time.unix_tai, -current])\n",
    "    \n",
    "    plot_stuff = np.array(readings_on)\n",
    "    display.clear_output(wait=True)\n",
    "    plt.plot(plot_stuff[:,0]-plot_stuff[0,0], plot_stuff[:,1])\n",
    "    plt.ylim(-0.1E-5,5E-5)\n",
    "    display.display(plt.gcf())\n",
    "\n"
   ]
  },
  {
   "cell_type": "code",
   "execution_count": null,
   "id": "0465d7ca-970e-44c5-89ae-711b0fd160e1",
   "metadata": {
    "execution": {
     "iopub.execute_input": "2023-02-14T14:05:16.646455Z",
     "iopub.status.busy": "2023-02-14T14:05:16.646053Z",
     "iopub.status.idle": "2023-02-14T14:23:57.855868Z",
     "shell.execute_reply": "2023-02-14T14:23:57.855278Z",
     "shell.execute_reply.started": "2023-02-14T14:05:16.646437Z"
    },
    "tags": []
   },
   "outputs": [],
   "source": [
    "#Turn lamp power up and continue readings.  Then continue for ~ 30 minutes\n",
    "\n",
    "fig = plt.figure(figsize = (4,4))\n",
    "for i in range(100):\n",
    "    plt.cla()\n",
    "    if i == 2:\n",
    "        tmp = await WhiteLightSource.cmd_turnLampOn.set_start(power=1000)\n",
    "    start_time = Time(time.time(),format='unix', scale='utc')\n",
    "    exp_time = 20 #sec\n",
    "    filename, lfa = await elec_meas(exp_time)\n",
    "    filename = filename.replace(\":\", \"_\")\n",
    "    elec_filen = os.path.join(data_dir, filename)\n",
    "    os.system(f\"curl {lfa.url} --output {elec_filen}\")\n",
    "    hdu = fits.open(f'{elec_filen}')\n",
    "    data = hdu[1].data\n",
    "    for (t,current) in data:\n",
    "        obs_time = start_time + TimeDelta(t, format='sec')\n",
    "        readings_on.append([obs_time.unix_tai, -current])\n",
    "    \n",
    "    plot_stuff = np.array(readings_on)\n",
    "    display.clear_output(wait=True)\n",
    "    plt.plot(plot_stuff[:,0]-plot_stuff[0,0], plot_stuff[:,1])\n",
    "    plt.ylim(-0.1E-5,5E-5)\n",
    "    display.display(plt.gcf())\n",
    "\n"
   ]
  },
  {
   "cell_type": "code",
   "execution_count": null,
   "id": "323033f1-4ba6-41fc-9b1b-d7829d418ef0",
   "metadata": {
    "execution": {
     "iopub.execute_input": "2023-02-14T14:37:38.185097Z",
     "iopub.status.busy": "2023-02-14T14:37:38.184805Z",
     "iopub.status.idle": "2023-02-14T14:37:38.470701Z",
     "shell.execute_reply": "2023-02-14T14:37:38.470156Z",
     "shell.execute_reply.started": "2023-02-14T14:37:38.185080Z"
    },
    "tags": []
   },
   "outputs": [],
   "source": [
    "fig = plt.figure(figsize = (4,4))\n",
    "plt.title(\"WhiteLight Lamp Stability study - 14Feb23\")\n",
    "plt.plot(plot_stuff[:,0]-plot_stuff[0,0], plot_stuff[:,1])\n",
    "plt.ylim(-0.1E-5,4E-5)\n",
    "plt.plot([0.0,0.0],[2.0E-5,2.5E-5], color='black')\n",
    "plt.text(50, 2.5E-5, \"Lamp on 920 W\")\n",
    "plt.plot([4600.0,4600.0],[2.0E-5,2.5E-5], color='black')\n",
    "plt.text(3000, 1.8E-5, \"Lamp up to 1000 W\")\n",
    "plt.plot([5400.0,5400.0],[3.0E-5,3.5E-5], color='black')\n",
    "plt.text(4000, 3.6E-5, \"Lamp faulted\")\n",
    "plt.xlabel(\"Time(sec)\")\n",
    "plt.ylabel(\"Current (Amps)\")\n",
    "plt.savefig(f\"/home/craiglagegit/DATA/WhiteLight_WarmUp_14Feb23.pdf\")"
   ]
  },
  {
   "cell_type": "code",
   "execution_count": null,
   "id": "2c4dfcbf-14ea-4580-9222-b0f60f195646",
   "metadata": {},
   "outputs": [],
   "source": []
  }
 ],
 "metadata": {
  "kernelspec": {
   "display_name": "LSST",
   "language": "python",
   "name": "lsst"
  },
  "language_info": {
   "codemirror_mode": {
    "name": "ipython",
    "version": 3
   },
   "file_extension": ".py",
   "mimetype": "text/x-python",
   "name": "python",
   "nbconvert_exporter": "python",
   "pygments_lexer": "ipython3",
   "version": "3.10.9"
  }
 },
 "nbformat": 4,
 "nbformat_minor": 5
}
