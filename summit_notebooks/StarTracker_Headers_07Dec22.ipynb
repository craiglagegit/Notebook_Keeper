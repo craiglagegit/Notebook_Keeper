{
 "cells": [
  {
   "cell_type": "markdown",
   "metadata": {},
   "source": [
    "## StarTracker Read headers - 07-Dec-22\n",
    "\n",
    "Craig Lage"
   ]
  },
  {
   "cell_type": "code",
   "execution_count": null,
   "metadata": {
    "execution": {
     "iopub.execute_input": "2022-12-07T15:58:29.420597Z",
     "iopub.status.busy": "2022-12-07T15:58:29.420319Z",
     "iopub.status.idle": "2022-12-07T15:58:29.423537Z",
     "shell.execute_reply": "2022-12-07T15:58:29.422990Z",
     "shell.execute_reply.started": "2022-12-07T15:58:29.420581Z"
    },
    "tags": []
   },
   "outputs": [],
   "source": [
    "import sys, time, os, asyncio, glob\n",
    "from datetime import datetime\n",
    "import numpy as np\n",
    "import matplotlib.pyplot as plt\n",
    "import astropy.io.fits as pf\n"
   ]
  },
  {
   "cell_type": "code",
   "execution_count": null,
   "metadata": {
    "execution": {
     "iopub.execute_input": "2022-12-07T15:58:42.203159Z",
     "iopub.status.busy": "2022-12-07T15:58:42.202894Z",
     "iopub.status.idle": "2022-12-07T15:58:43.280873Z",
     "shell.execute_reply": "2022-12-07T15:58:43.280216Z",
     "shell.execute_reply.started": "2022-12-07T15:58:42.203143Z"
    },
    "tags": []
   },
   "outputs": [],
   "source": [
    "cameras = [['Wide', 101], ['Narrow', 102]]\n",
    "dates = [22]\n",
    "for [camera, num] in cameras:\n",
    "    for date in dates:\n",
    "        path = f\"/project/GenericCamera/{num}/2022/11/{date}/\"\n",
    "        for seqNum in range(100):\n",
    "            try:    \n",
    "                filename = path + f\"GC{num}_O_202211{date}_{seqNum:06}.fits\"\n",
    "                hdulist = pf.open(filename)\n",
    "                header = hdulist[0].header\n",
    "                elStart = header[\"ELSTART\"]\n",
    "                elEnd = header[\"ELEND\"]\n",
    "                print(f\"{camera}, 202211{date}_{seqNum}, {elStart:.5f}, {elEnd:.5f}\")\n",
    "            except:\n",
    "                continue\n",
    "    "
   ]
  },
  {
   "cell_type": "code",
   "execution_count": null,
   "metadata": {},
   "outputs": [],
   "source": []
  }
 ],
 "metadata": {
  "kernelspec": {
   "display_name": "LSST",
   "language": "python",
   "name": "lsst"
  },
  "language_info": {
   "codemirror_mode": {
    "name": "ipython",
    "version": 3
   },
   "file_extension": ".py",
   "mimetype": "text/x-python",
   "name": "python",
   "nbconvert_exporter": "python",
   "pygments_lexer": "ipython3",
   "version": "3.10.6"
  }
 },
 "nbformat": 4,
 "nbformat_minor": 4
}
