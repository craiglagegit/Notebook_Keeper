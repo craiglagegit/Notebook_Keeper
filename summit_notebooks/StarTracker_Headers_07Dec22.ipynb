{
 "cells": [
  {
   "cell_type": "markdown",
   "metadata": {},
   "source": [
    "## StarTracker Read headers - 07-Dec-22\n",
    "\n",
    "Craig Lage"
   ]
  },
  {
   "cell_type": "code",
   "execution_count": null,
   "metadata": {
    "execution": {
     "iopub.execute_input": "2024-03-02T01:46:49.340444Z",
     "iopub.status.busy": "2024-03-02T01:46:49.340130Z",
     "iopub.status.idle": "2024-03-02T01:46:49.619065Z",
     "shell.execute_reply": "2024-03-02T01:46:49.618271Z",
     "shell.execute_reply.started": "2024-03-02T01:46:49.340412Z"
    },
    "tags": []
   },
   "outputs": [],
   "source": [
    "import sys, time, os, asyncio, glob\n",
    "from datetime import datetime\n",
    "import numpy as np\n",
    "import matplotlib.pyplot as plt\n",
    "import astropy.io.fits as pf\n"
   ]
  },
  {
   "cell_type": "code",
   "execution_count": null,
   "metadata": {
    "execution": {
     "iopub.execute_input": "2024-03-02T01:47:16.252809Z",
     "iopub.status.busy": "2024-03-02T01:47:16.252022Z",
     "iopub.status.idle": "2024-03-02T01:47:16.274200Z",
     "shell.execute_reply": "2024-03-02T01:47:16.273483Z",
     "shell.execute_reply.started": "2024-03-02T01:47:16.252776Z"
    },
    "tags": []
   },
   "outputs": [],
   "source": [
    "cameras = [['Wide', 101], ['Narrow', 102]]\n",
    "dates = [1]\n",
    "for [camera, num] in cameras:\n",
    "    for date in dates:\n",
    "        path = f\"/project/GenericCamera/{num}/2024/03/01/\"\n",
    "        for seqNum in range(100):\n",
    "            try:    \n",
    "                filename = path + f\"GC{num}_O_20211{date}_{seqNum:06}.fits\"\n",
    "                hdulist = pf.open(filename)\n",
    "                header = hdulist[0].header\n",
    "                elStart = header[\"ELSTART\"]\n",
    "                elEnd = header[\"ELEND\"]\n",
    "                print(f\"{camera}, 202211{date}_{seqNum}, {elStart:.5f}, {elEnd:.5f}\")\n",
    "            except:\n",
    "                continue\n",
    "    "
   ]
  },
  {
   "cell_type": "code",
   "execution_count": null,
   "metadata": {
    "execution": {
     "iopub.execute_input": "2024-03-02T01:49:47.271894Z",
     "iopub.status.busy": "2024-03-02T01:49:47.271623Z",
     "iopub.status.idle": "2024-03-02T01:49:47.279497Z",
     "shell.execute_reply": "2024-03-02T01:49:47.279028Z",
     "shell.execute_reply.started": "2024-03-02T01:49:47.271879Z"
    },
    "tags": []
   },
   "outputs": [],
   "source": [
    "cameras = [['Wide', 101], ['Narrow', 102]]\n",
    "dates = [1]\n",
    "for [camera, num] in cameras:\n",
    "    for date in dates:\n",
    "        path = f\"/project/GenericCamera/{num}/2024/03/01/\"\n",
    "        for seqNum in [20]:\n",
    "            try:    \n",
    "                filename = path + f\"GC{num}_O_20240301_{seqNum:06}.fits\"\n",
    "                hdulist = pf.open(filename)\n",
    "                header = hdulist[0].header\n",
    "                elStart = header[\"ELSTART\"]\n",
    "                elEnd = header[\"ELEND\"]\n",
    "                print(f\"{camera}, 20240301_{seqNum}, {elStart:.5f}, {elEnd:.5f}\")\n",
    "            except:\n",
    "                continue\n",
    "    "
   ]
  },
  {
   "cell_type": "code",
   "execution_count": null,
   "metadata": {
    "execution": {
     "iopub.execute_input": "2024-03-02T01:57:53.807349Z",
     "iopub.status.busy": "2024-03-02T01:57:53.806619Z",
     "iopub.status.idle": "2024-03-02T01:57:53.815129Z",
     "shell.execute_reply": "2024-03-02T01:57:53.814100Z",
     "shell.execute_reply.started": "2024-03-02T01:57:53.807319Z"
    }
   },
   "outputs": [],
   "source": [
    "for key in header.keys():\n",
    "    info = header[key]\n",
    "    #print(type(info))\n",
    "    #print(list(info)[0])\n",
    "    if type(info) == str or type(info) == float:\n",
    "        print(key, header[key])\n",
    "    "
   ]
  },
  {
   "cell_type": "code",
   "execution_count": null,
   "metadata": {},
   "outputs": [],
   "source": []
  }
 ],
 "metadata": {
  "kernelspec": {
   "display_name": "LSST",
   "language": "python",
   "name": "lsst"
  },
  "language_info": {
   "codemirror_mode": {
    "name": "ipython",
    "version": 3
   },
   "file_extension": ".py",
   "mimetype": "text/x-python",
   "name": "python",
   "nbconvert_exporter": "python",
   "pygments_lexer": "ipython3",
   "version": "3.11.7"
  }
 },
 "nbformat": 4,
 "nbformat_minor": 4
}
