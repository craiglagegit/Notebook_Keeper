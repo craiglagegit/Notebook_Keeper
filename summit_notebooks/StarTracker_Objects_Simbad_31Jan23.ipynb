{
 "cells": [
  {
   "cell_type": "markdown",
   "metadata": {},
   "source": [
    "## StarTracker WCS solutions - 31-Jan-23\n",
    "\n",
    "Craig Lage - Reworked to work with the new summit_utils code"
   ]
  },
  {
   "cell_type": "code",
   "execution_count": null,
   "metadata": {
    "execution": {
     "iopub.execute_input": "2024-04-10T15:42:17.686505Z",
     "iopub.status.busy": "2024-04-10T15:42:17.685832Z",
     "iopub.status.idle": "2024-04-10T15:42:25.971375Z",
     "shell.execute_reply": "2024-04-10T15:42:25.970582Z",
     "shell.execute_reply.started": "2024-04-10T15:42:17.686474Z"
    },
    "tags": []
   },
   "outputs": [],
   "source": [
    "import sys, time, os, asyncio, glob\n",
    "from datetime import datetime\n",
    "import numpy as np\n",
    "import matplotlib.pyplot as plt\n",
    "import astropy.io.fits as pf\n",
    "from astropy.time import Time, TimeDelta\n",
    "from astropy.coordinates import AltAz, ICRS, EarthLocation, Angle, FK5, SkyCoord\n",
    "import astropy.units as u\n",
    "from lsst.obs.lsst.translators.latiss import AUXTEL_LOCATION\n",
    "from lsst.obs.lsst.translators.lsst import SIMONYI_LOCATION\n",
    "\n",
    "import lsst.afw.image as afwImage\n",
    "from lsst.geom import SpherePoint\n",
    "from lsst.geom import Angle as afwAngle\n",
    "from astroquery.simbad import Simbad\n",
    "\n",
    "from lsst.summit.utils.utils import starTrackerFileToExposure\n",
    "from lsst.summit.utils.astrometry.anet import CommandLineSolver\n",
    "from lsst.summit.utils.astrometry.utils import runCharactierizeImage"
   ]
  },
  {
   "cell_type": "code",
   "execution_count": null,
   "metadata": {
    "execution": {
     "iopub.execute_input": "2024-04-10T15:42:29.347481Z",
     "iopub.status.busy": "2024-04-10T15:42:29.347081Z",
     "iopub.status.idle": "2024-04-10T15:42:29.355479Z",
     "shell.execute_reply": "2024-04-10T15:42:29.354641Z",
     "shell.execute_reply.started": "2024-04-10T15:42:29.347449Z"
    },
    "tags": []
   },
   "outputs": [],
   "source": [
    "solver = CommandLineSolver('/project/shared/ref_cats/astrometry_net/')"
   ]
  },
  {
   "cell_type": "code",
   "execution_count": null,
   "metadata": {
    "execution": {
     "iopub.execute_input": "2024-04-10T15:47:01.276896Z",
     "iopub.status.busy": "2024-04-10T15:47:01.276543Z",
     "iopub.status.idle": "2024-04-10T15:47:06.242407Z",
     "shell.execute_reply": "2024-04-10T15:47:06.241566Z",
     "shell.execute_reply.started": "2024-04-10T15:47:01.276869Z"
    },
    "tags": []
   },
   "outputs": [],
   "source": [
    "#Enter which image you want to look at\n",
    "[camera, num] = ['Narrow', 102]\n",
    "#[camera, num] = ['Wide', 101]\n",
    "date = 20240301\n",
    "seqNum = 200\n",
    "\n",
    "\n",
    "year = int(date/10000)\n",
    "month = int((date - 10000 * year)/100)\n",
    "day = int((date - 10000 * year - 100 * month))\n",
    "\n",
    "path = f\"/project/GenericCamera/{num}/{year}/{month:02}/{day:02}/\"\n",
    "print(path)\n",
    "filename = path + f\"GC{num}_O_{date}_{seqNum:06}.fits\"\n",
    "exp = starTrackerFileToExposure(filename)\n",
    "results = runCharactierizeImage(exp, 100, 25)\n",
    "if camera == 'Narrow':\n",
    "    # Need to loosen percentageScaleError because header SECPIX is wrong\n",
    "    solverResults = solver.run(exp, results.sourceCat, percentageScaleError=60.0, isWideField=False)\n",
    "if camera == 'Wide':\n",
    "    solverResults = solver.run(exp, results.sourceCat, isWideField=True)\n",
    "newWcs = solverResults.wcs\n",
    "rms_error = solverResults.rmsErrorArsec\n",
    "raSolve = newWcs.getSkyOrigin().getRa().asDegrees()\n",
    "decSolve = newWcs.getSkyOrigin().getDec().asDegrees()\n",
    "\n",
    "hdulist = pf.open(filename)\n",
    "header = hdulist[0].header\n",
    "raStart = header[\"RASTART\"]\n",
    "decStart = header[\"DECSTART\"]\n",
    "azStart = header[\"AZSTART\"]\n",
    "#azStart = 360.0 - azStart # Compensating for Az sign error\n",
    "if azStart > 360.0:\n",
    "    azStart -= 360.0\n",
    "if azStart < 0.0:\n",
    "    azStart += 360.0\n",
    "\n",
    "elStart = header[\"ELSTART\"]\n",
    "rotpa = header[\"ROTPA\"]\n",
    "rot = newWcs.getRelativeRotationToWcs(exp.getWcs()).asDegrees()\n",
    "time = Time(header[\"DATE-OBS\"], scale='tai')\n",
    "altAz = AltAz(obstime=time, location=SIMONYI_LOCATION)\n",
    "skyLocation = SkyCoord(raSolve * u.deg, decSolve * u.deg)\n",
    "obsAltAz = skyLocation.transform_to(altAz)\n",
    "az = obsAltAz.az.deg\n",
    "el = obsAltAz.alt.deg\n",
    "deltaAz = azStart - az\n",
    "if deltaAz > 360.0:\n",
    "    deltaAz -= 360.0\n",
    "if deltaAz < 0.0:\n",
    "    deltaAz += 360.0\n",
    "deltaEl = elStart - el\n",
    "print(f\"{camera}, 202212{date:02}_{seqNum}, {deltaAz:.5f}, {deltaEl:.5f}\")\n",
    "\n",
    "# Now find objects within the image\n",
    "if camera == 'Narrow':\n",
    "    radius = 0.5\n",
    "    mag_range = 9.5\n",
    "if camera == 'Wide':\n",
    "    radius = 3.0\n",
    "    mag_range = 7.5\n",
    "mag_limit = 0.0\n",
    "criteria = (f\"region(circle,ICRS,{raSolve} {decSolve},{radius}d) & \"\n",
    "            f\"Vmag > {mag_limit} & Vmag < {mag_limit+mag_range} & \"\n",
    "            \"cat = HD\")\n",
    "results = Simbad.query_criteria(criteria)\n",
    "#print(results)\n",
    "xs = []\n",
    "ys = []\n",
    "names = []\n",
    "for i in range(len(results)):\n",
    "    ra = Angle(results[i][1] + 'hours')\n",
    "    dec = Angle(results[i][2] + 'degrees')\n",
    "    spherePoint = SpherePoint(afwAngle(ra.rad), afwAngle(dec.rad))\n",
    "    point = newWcs.skyToPixel(spherePoint)\n",
    "    xs.append(point.x)\n",
    "    ys.append(point.y)\n",
    "    name = results[i][0]\n",
    "    names.append(name)"
   ]
  },
  {
   "cell_type": "code",
   "execution_count": null,
   "metadata": {
    "execution": {
     "iopub.execute_input": "2024-04-10T15:43:31.564870Z",
     "iopub.status.busy": "2024-04-10T15:43:31.564075Z",
     "iopub.status.idle": "2024-04-10T15:43:32.027060Z",
     "shell.execute_reply": "2024-04-10T15:43:32.026396Z",
     "shell.execute_reply.started": "2024-04-10T15:43:31.564835Z"
    },
    "tags": []
   },
   "outputs": [],
   "source": [
    "# Now plot the data with matplotlib\n",
    "%matplotlib inline\n",
    "def colorbar(mappable):\n",
    "    from mpl_toolkits.axes_grid1 import make_axes_locatable\n",
    "    last_axes = plt.gca()\n",
    "    ax = mappable.axes\n",
    "    fig = ax.figure\n",
    "    divider = make_axes_locatable(ax)\n",
    "    cax = divider.append_axes(\"right\", size=\"5%\", pad=0.05)\n",
    "    cbar = fig.colorbar(mappable, cax=cax)\n",
    "    plt.sca(last_axes)\n",
    "    return cbar\n",
    "\n",
    "plt.figure(figsize=(16,16))\n",
    "plt.title(f\"StarTracker {camera}\")\n",
    "img = plt.imshow(exp.image.array,  interpolation='Nearest', cmap='gray', vmin=1000, vmax=10000)\n",
    "plt.scatter(xs, ys\\\n",
    "            ,facecolors='none', edgecolors='g', s=200, lw=2)\n",
    "for x, y, name in zip(xs, ys, names):\n",
    "    plt.text(x+50,y, name, color='g')\n",
    "colorbar(img)\n",
    "plt.tight_layout(h_pad=1)\n",
    "#plt.savefig(f\"/home/craiglagegit/DATA/StarTracker_Labels_Simbad_{camera}_{date}_{seqNum}.pdf\")"
   ]
  },
  {
   "cell_type": "code",
   "execution_count": null,
   "metadata": {
    "execution": {
     "iopub.execute_input": "2024-04-10T15:45:16.268219Z",
     "iopub.status.busy": "2024-04-10T15:45:16.267830Z",
     "iopub.status.idle": "2024-04-10T15:45:16.276306Z",
     "shell.execute_reply": "2024-04-10T15:45:16.275546Z",
     "shell.execute_reply.started": "2024-04-10T15:45:16.268178Z"
    },
    "tags": []
   },
   "outputs": [],
   "source": [
    "newWcs.getPixelScale"
   ]
  },
  {
   "cell_type": "code",
   "execution_count": null,
   "metadata": {
    "execution": {
     "iopub.execute_input": "2024-04-10T15:45:19.082890Z",
     "iopub.status.busy": "2024-04-10T15:45:19.082536Z",
     "iopub.status.idle": "2024-04-10T15:45:19.089841Z",
     "shell.execute_reply": "2024-04-10T15:45:19.089128Z",
     "shell.execute_reply.started": "2024-04-10T15:45:19.082864Z"
    }
   },
   "outputs": [],
   "source": [
    "from lsst.summit.utils import quickSmooth\n",
    "from mpl_toolkits.axes_grid1 import make_axes_locatable\n",
    "def plotExp(exposure):\n",
    "    # Borrowed from summit utils\n",
    "    #data = quickSmooth(exposure.image.array, 1)\n",
    "    data = exposure.image.array\n",
    "    #data = exposure.image.array[1000:1200, 1000:1200]\n",
    "    vmin = np.nanpercentile(data, 1)\n",
    "    vmax = np.nanpercentile(data, 99)\n",
    "    print(vmin, vmax)\n",
    "    figure = plt.figure(figsize=(12,12))\n",
    "    figure.clear()\n",
    "    ax1 = figure.add_subplot(111)\n",
    "    #ax1.set_title(f\"{expId}\")\n",
    "    im1 = ax1.imshow(data, cmap='gray', origin='lower', vmin=vmin, vmax=vmax)\n",
    "    ax1.tick_params(which=\"major\", direction=\"in\", top=True, right=True, labelsize=8)\n",
    "    divider = make_axes_locatable(ax1)\n",
    "    cax = divider.append_axes(\"right\", size=\"5%\", pad=0.05)\n",
    "    plt.colorbar(im1, cax=cax)\n",
    "    plt.tight_layout()\n",
    "    #plt.show()\n",
    "    return figure, vmin, vmax\n"
   ]
  },
  {
   "cell_type": "code",
   "execution_count": null,
   "metadata": {
    "execution": {
     "iopub.execute_input": "2024-04-10T15:45:20.829004Z",
     "iopub.status.busy": "2024-04-10T15:45:20.828599Z",
     "iopub.status.idle": "2024-04-10T15:45:21.962195Z",
     "shell.execute_reply": "2024-04-10T15:45:21.961641Z",
     "shell.execute_reply.started": "2024-04-10T15:45:20.828974Z"
    }
   },
   "outputs": [],
   "source": [
    "%matplotlib inline\n",
    "plotExp(exp)"
   ]
  },
  {
   "cell_type": "code",
   "execution_count": null,
   "metadata": {
    "execution": {
     "iopub.execute_input": "2024-03-02T19:37:55.116027Z",
     "iopub.status.busy": "2024-03-02T19:37:55.115144Z",
     "iopub.status.idle": "2024-03-02T19:37:55.181648Z",
     "shell.execute_reply": "2024-03-02T19:37:55.180943Z",
     "shell.execute_reply.started": "2024-03-02T19:37:55.115995Z"
    }
   },
   "outputs": [],
   "source": [
    "[camera, num] = ['Wide', 101]\n",
    "date = 20240228\n",
    "seqNum = 20\n",
    "\n",
    "\n",
    "year = int(date/10000)\n",
    "month = int((date - 10000 * year)/100)\n",
    "day = int((date - 10000 * year - 100 * month))\n",
    "\n",
    "path = f\"/project/GenericCamera/{num}/{year}/{month:02}/{day:02}/\"\n",
    "print(path)\n",
    "filename = path + f\"GC{num}_O_{date}_{seqNum:06}.fits\"\n",
    "biasExp = starTrackerFileToExposure(filename)\n"
   ]
  },
  {
   "cell_type": "code",
   "execution_count": null,
   "metadata": {
    "execution": {
     "iopub.execute_input": "2024-03-02T19:38:13.229183Z",
     "iopub.status.busy": "2024-03-02T19:38:13.228766Z",
     "iopub.status.idle": "2024-03-02T19:38:13.599511Z",
     "shell.execute_reply": "2024-03-02T19:38:13.598849Z",
     "shell.execute_reply.started": "2024-03-02T19:38:13.229163Z"
    }
   },
   "outputs": [],
   "source": [
    "plotExp(biasExp)"
   ]
  },
  {
   "cell_type": "code",
   "execution_count": null,
   "metadata": {
    "execution": {
     "iopub.execute_input": "2024-03-02T19:40:17.476661Z",
     "iopub.status.busy": "2024-03-02T19:40:17.476285Z",
     "iopub.status.idle": "2024-03-02T19:40:17.491530Z",
     "shell.execute_reply": "2024-03-02T19:40:17.490973Z",
     "shell.execute_reply.started": "2024-03-02T19:40:17.476631Z"
    }
   },
   "outputs": [],
   "source": [
    "exp.image.array = exp.image.array - biasExp.image.array"
   ]
  },
  {
   "cell_type": "code",
   "execution_count": null,
   "metadata": {
    "execution": {
     "iopub.execute_input": "2024-03-02T19:41:18.209498Z",
     "iopub.status.busy": "2024-03-02T19:41:18.208713Z",
     "iopub.status.idle": "2024-03-02T19:41:19.469625Z",
     "shell.execute_reply": "2024-03-02T19:41:19.469063Z",
     "shell.execute_reply.started": "2024-03-02T19:41:18.209467Z"
    }
   },
   "outputs": [],
   "source": [
    "plotExp(exp)"
   ]
  },
  {
   "cell_type": "code",
   "execution_count": null,
   "metadata": {
    "execution": {
     "iopub.execute_input": "2024-03-02T19:42:55.032671Z",
     "iopub.status.busy": "2024-03-02T19:42:55.032199Z",
     "iopub.status.idle": "2024-03-02T19:42:55.168361Z",
     "shell.execute_reply": "2024-03-02T19:42:55.167806Z",
     "shell.execute_reply.started": "2024-03-02T19:42:55.032640Z"
    }
   },
   "outputs": [],
   "source": [
    "results = runCharactierizeImage(exp, 100,25)"
   ]
  },
  {
   "cell_type": "code",
   "execution_count": null,
   "metadata": {},
   "outputs": [],
   "source": []
  }
 ],
 "metadata": {
  "kernelspec": {
   "display_name": "LSST",
   "language": "python",
   "name": "lsst"
  },
  "language_info": {
   "codemirror_mode": {
    "name": "ipython",
    "version": 3
   },
   "file_extension": ".py",
   "mimetype": "text/x-python",
   "name": "python",
   "nbconvert_exporter": "python",
   "pygments_lexer": "ipython3",
   "version": "3.11.7"
  }
 },
 "nbformat": 4,
 "nbformat_minor": 4
}
