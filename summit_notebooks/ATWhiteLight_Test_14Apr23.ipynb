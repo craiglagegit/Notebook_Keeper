{
 "cells": [
  {
   "cell_type": "markdown",
   "id": "66953411",
   "metadata": {},
   "source": [
    "# Testing ATWhiteLight"
   ]
  },
  {
   "cell_type": "markdown",
   "id": "5fc900e0",
   "metadata": {},
   "source": [
    "This notebook is meant to be used a functional checkout of the AuxTel illumination system. It includes all functionality but doesn't necessarily show how the system should be used in operation. It was written within the context of the Tucson Teststand and should be modified to be run on the summit."
   ]
  },
  {
   "cell_type": "code",
   "execution_count": null,
   "id": "4fdba962",
   "metadata": {
    "execution": {
     "iopub.execute_input": "2023-04-14T13:10:04.180582Z",
     "iopub.status.busy": "2023-04-14T13:10:04.180195Z",
     "iopub.status.idle": "2023-04-14T13:10:04.183936Z",
     "shell.execute_reply": "2023-04-14T13:10:04.183400Z",
     "shell.execute_reply.started": "2023-04-14T13:10:04.180564Z"
    },
    "tags": []
   },
   "outputs": [],
   "source": [
    "import asyncio, time\n",
    "from lsst.ts import utils\n",
    "\n",
    "import numpy as np\n",
    "import pandas as pd\n",
    "import matplotlib.pyplot as plt\n",
    "\n",
    "from astropy.io import fits\n",
    "from astropy.time import Time\n",
    "from astropy.table import Table\n",
    "from lsst.ts import salobj\n",
    "\n",
    "from labjack import ljm"
   ]
  },
  {
   "cell_type": "markdown",
   "id": "bd0fe9a6",
   "metadata": {},
   "source": [
    "### Connect to CSC"
   ]
  },
  {
   "cell_type": "code",
   "execution_count": null,
   "id": "804e9aac",
   "metadata": {
    "execution": {
     "iopub.execute_input": "2023-04-14T13:01:20.233800Z",
     "iopub.status.busy": "2023-04-14T13:01:20.233528Z",
     "iopub.status.idle": "2023-04-14T13:01:28.330167Z",
     "shell.execute_reply": "2023-04-14T13:01:28.329737Z",
     "shell.execute_reply.started": "2023-04-14T13:01:20.233783Z"
    },
    "tags": []
   },
   "outputs": [],
   "source": [
    "d = salobj.Domain()\n",
    "WhiteLightSource = salobj.Remote(name='ATWhiteLight', domain=d)\n",
    "await WhiteLightSource.start_task"
   ]
  },
  {
   "cell_type": "markdown",
   "id": "18741343-fec2-4929-9f81-2b4893ea8ff3",
   "metadata": {},
   "source": [
    "### Connect to LabJack"
   ]
  },
  {
   "cell_type": "code",
   "execution_count": null,
   "id": "cf7179de-1d20-4541-ae6c-e707404ff420",
   "metadata": {
    "execution": {
     "iopub.execute_input": "2023-04-14T16:54:03.215828Z",
     "iopub.status.busy": "2023-04-14T16:54:03.215462Z",
     "iopub.status.idle": "2023-04-14T16:54:03.225157Z",
     "shell.execute_reply": "2023-04-14T16:54:03.224560Z",
     "shell.execute_reply.started": "2023-04-14T16:54:03.215811Z"
    },
    "tags": []
   },
   "outputs": [],
   "source": [
    "handle = ljm.openS(\"T4\", \"ETHERNET\", \"139.229.170.19\") \n",
    "names = [\"AIN0_NEGATIVE_CH\", \"AIN0_RANGE\", \"AIN0_RESOLUTION_INDEX\", \"AIN0_SETTLING_US\",\n",
    "         \"AIN1_NEGATIVE_CH\", \"AIN1_RANGE\", \"AIN1_RESOLUTION_INDEX\", \"AIN1_SETTLING_US\",\n",
    "        \"AIN2_NEGATIVE_CH\", \"AIN2_RANGE\", \"AIN2_RESOLUTION_INDEX\", \"AIN2_SETTLING_US\"]\n",
    "aValues = [199, 10.0, 0, 0,\n",
    "           199, 10.0, 0, 0,\n",
    "            199, 10.0, 0, 0]\n",
    "numFrames = len(names)\n",
    "ljm.eWriteNames(handle, numFrames, names, aValues)\n",
    "\n",
    "def readPhotodiode():\n",
    "    loopAmount = 10\n",
    "    # Read AIN's from the LabJack with eReadNames in a loop.\n",
    "    names = [\"AIN0\"]\n",
    "    numFrames = 1\n",
    "    intervalHandle = 1\n",
    "    ljm.startInterval(intervalHandle, 50000)  # Delay between readings (in microseconds)\n",
    "    Readings= []\n",
    "    start = time.time()\n",
    "    for n in range(loopAmount):\n",
    "        results = ljm.eReadNames(handle, numFrames, names)\n",
    "        Readings.append(results[0])\n",
    "        ljm.waitForNextInterval(intervalHandle)\n",
    "        stamp = time.time()\n",
    "        delay = stamp - start\n",
    "        start = stamp\n",
    "    \n",
    "    reading = np.mean(Readings)\n",
    "    if reading > 0.5:\n",
    "        lightOn = True\n",
    "    else:\n",
    "        lightOn = False\n",
    "    return lightOn"
   ]
  },
  {
   "cell_type": "code",
   "execution_count": null,
   "id": "de9a864e-df7e-42d0-aad6-b9937d8753b6",
   "metadata": {
    "execution": {
     "iopub.execute_input": "2023-04-14T16:54:06.875046Z",
     "iopub.status.busy": "2023-04-14T16:54:06.874643Z",
     "iopub.status.idle": "2023-04-14T16:54:07.378907Z",
     "shell.execute_reply": "2023-04-14T16:54:07.378383Z",
     "shell.execute_reply.started": "2023-04-14T16:54:06.875029Z"
    },
    "tags": []
   },
   "outputs": [],
   "source": [
    "readPhotodiode()"
   ]
  },
  {
   "cell_type": "markdown",
   "id": "80d7373d",
   "metadata": {},
   "source": [
    "### Test White Light Source"
   ]
  },
  {
   "cell_type": "code",
   "execution_count": null,
   "id": "90c7eee2-0a6e-4982-9636-c0e81600c23f",
   "metadata": {
    "execution": {
     "iopub.execute_input": "2023-04-14T13:03:49.928233Z",
     "iopub.status.busy": "2023-04-14T13:03:49.927844Z",
     "iopub.status.idle": "2023-04-14T13:03:50.748139Z",
     "shell.execute_reply": "2023-04-14T13:03:50.747573Z",
     "shell.execute_reply.started": "2023-04-14T13:03:49.928215Z"
    },
    "tags": []
   },
   "outputs": [],
   "source": [
    "await WhiteLightSource.cmd_start.start()"
   ]
  },
  {
   "cell_type": "code",
   "execution_count": null,
   "id": "13431e42",
   "metadata": {
    "execution": {
     "iopub.execute_input": "2023-04-14T13:03:58.988428Z",
     "iopub.status.busy": "2023-04-14T13:03:58.987754Z",
     "iopub.status.idle": "2023-04-14T13:03:58.993576Z",
     "shell.execute_reply": "2023-04-14T13:03:58.993015Z",
     "shell.execute_reply.started": "2023-04-14T13:03:58.988408Z"
    },
    "tags": []
   },
   "outputs": [],
   "source": [
    "state = salobj.State.ENABLED\n",
    "tmp = await salobj.set_summary_state(WhiteLightSource, state)"
   ]
  },
  {
   "cell_type": "code",
   "execution_count": null,
   "id": "aa224de0",
   "metadata": {
    "execution": {
     "iopub.execute_input": "2023-04-14T16:53:24.814677Z",
     "iopub.status.busy": "2023-04-14T16:53:24.814290Z",
     "iopub.status.idle": "2023-04-14T16:53:24.987514Z",
     "shell.execute_reply": "2023-04-14T16:53:24.986913Z",
     "shell.execute_reply.started": "2023-04-14T16:53:24.814659Z"
    },
    "tags": []
   },
   "outputs": [],
   "source": [
    "#Start chiller\n",
    "tmp = await WhiteLightSource.cmd_setChillerTemperature.set_start(temperature=20)\n",
    "tmp = await WhiteLightSource.cmd_startChiller.set_start()\n",
    "# Confirm that the chiller has started and running at 20C"
   ]
  },
  {
   "cell_type": "markdown",
   "id": "f5db6ee1-5015-4550-b7b9-bf144f4d972f",
   "metadata": {},
   "source": [
    "### Cycle turning the light on and off"
   ]
  },
  {
   "cell_type": "code",
   "execution_count": null,
   "id": "cbef0cdd-cc7c-4996-9268-7519e357324e",
   "metadata": {
    "execution": {
     "iopub.execute_input": "2023-04-14T16:54:31.149512Z",
     "iopub.status.busy": "2023-04-14T16:54:31.149133Z",
     "iopub.status.idle": "2023-04-14T19:31:14.713686Z",
     "shell.execute_reply": "2023-04-14T19:31:14.713096Z",
     "shell.execute_reply.started": "2023-04-14T16:54:31.149495Z"
    },
    "tags": []
   },
   "outputs": [],
   "source": [
    "for i in range(5):\n",
    "    tmp = await WhiteLightSource.cmd_turnLampOn.set_start(power = 910)\n",
    "    await asyncio.sleep(20.0)\n",
    "    if readPhotodiode():\n",
    "        print(f\"Test {i+1} Light came on\")\n",
    "    else:\n",
    "        print(f\"Test {i+1} Light failed to come on\")\n",
    "    await asyncio.sleep(930.0)\n",
    "    tmp = await WhiteLightSource.cmd_turnLampOff.set_start()\n",
    "    await asyncio.sleep(930.0)\n",
    "    \n",
    "    "
   ]
  },
  {
   "cell_type": "markdown",
   "id": "605585d3-0209-4aed-9094-d5bb8ff12eee",
   "metadata": {},
   "source": [
    "### Cycle turning the light on and off while also cycling the CSC"
   ]
  },
  {
   "cell_type": "code",
   "execution_count": null,
   "id": "28182e1f-5d33-48e5-9a15-6edfb2898f26",
   "metadata": {
    "execution": {
     "iopub.execute_input": "2023-04-14T13:15:20.810932Z",
     "iopub.status.busy": "2023-04-14T13:15:20.810255Z"
    },
    "jupyter": {
     "outputs_hidden": true
    },
    "tags": []
   },
   "outputs": [],
   "source": [
    "# Haven't run this yet.\n",
    "for i in range(5):\n",
    "    tmp = await WhiteLightSource.cmd_turnLampOn.set_start(power = 910)\n",
    "    await asyncio.sleep(20.0)\n",
    "    if readPhotodiode():\n",
    "        print(f\"Test {i+1} Light came on\")\n",
    "    else:\n",
    "        print(f\"Test {i+1} Light failed to come on\")\n",
    "    await asyncio.sleep(930.0)\n",
    "    tmp = await WhiteLightSource.cmd_turnLampOff.set_start()\n",
    "    await asyncio.sleep(930.0)\n",
    "    # Stop chiller\n",
    "    tmp = await WhiteLightSource.cmd_stopChiller.start()\n",
    "    state = salobj.State.DISABLED\n",
    "    tmp = await salobj.set_summary_state(WhiteLightSource, state)\n",
    "    state = salobj.State.STANDBY\n",
    "    tmp = await salobj.set_summary_state(WhiteLightSource, state)\n",
    "    await asyncio.sleep(30.0)\n",
    "    await WhiteLightSource.cmd_start.start()\n",
    "    state = salobj.State.ENABLED\n",
    "    tmp = await salobj.set_summary_state(WhiteLightSource, state)\n",
    "    await asyncio.sleep(10.0)\n",
    "    #Start chiller\n",
    "    tmp = await WhiteLightSource.cmd_setChillerTemperature.set_start(temperature=20)\n",
    "    tmp = await WhiteLightSource.cmd_startChiller.set_start()\n",
    "    await asyncio.sleep(30.0)\n",
    "\n",
    "    \n",
    "    "
   ]
  },
  {
   "cell_type": "code",
   "execution_count": null,
   "id": "8e424fb1-f5da-4fd8-8395-485b53a5fc20",
   "metadata": {
    "execution": {
     "iopub.execute_input": "2023-04-14T20:56:48.819046Z",
     "iopub.status.busy": "2023-04-14T20:56:48.818688Z",
     "iopub.status.idle": "2023-04-14T20:56:48.931107Z",
     "shell.execute_reply": "2023-04-14T20:56:48.930587Z",
     "shell.execute_reply.started": "2023-04-14T20:56:48.819028Z"
    },
    "tags": []
   },
   "outputs": [],
   "source": [
    "#Turn off the chiller\n",
    "tmp = await WhiteLightSource.cmd_stopChiller.start()"
   ]
  },
  {
   "cell_type": "code",
   "execution_count": null,
   "id": "4fc60ee0-e485-484e-9adb-4a0a338449de",
   "metadata": {
    "execution": {
     "iopub.status.busy": "2023-04-14T16:14:16.949005Z",
     "iopub.status.idle": "2023-04-14T16:14:16.949179Z",
     "shell.execute_reply": "2023-04-14T16:14:16.949097Z",
     "shell.execute_reply.started": "2023-04-14T16:14:16.949088Z"
    },
    "tags": []
   },
   "outputs": [],
   "source": [
    "ljm.closeAll()"
   ]
  },
  {
   "cell_type": "code",
   "execution_count": null,
   "id": "5268a866-85b3-4e85-af82-f772022f64c1",
   "metadata": {
    "execution": {
     "iopub.execute_input": "2023-04-14T20:56:44.214993Z",
     "iopub.status.busy": "2023-04-14T20:56:44.214639Z",
     "iopub.status.idle": "2023-04-14T20:56:44.217836Z",
     "shell.execute_reply": "2023-04-14T20:56:44.217356Z",
     "shell.execute_reply.started": "2023-04-14T20:56:44.214976Z"
    },
    "tags": []
   },
   "outputs": [],
   "source": [
    "ljm.close(handle)"
   ]
  },
  {
   "cell_type": "code",
   "execution_count": null,
   "id": "7656de3f-e4e6-461a-bc70-6b96a257fd6f",
   "metadata": {},
   "outputs": [],
   "source": []
  }
 ],
 "metadata": {
  "kernelspec": {
   "display_name": "LSST",
   "language": "python",
   "name": "lsst"
  },
  "language_info": {
   "codemirror_mode": {
    "name": "ipython",
    "version": 3
   },
   "file_extension": ".py",
   "mimetype": "text/x-python",
   "name": "python",
   "nbconvert_exporter": "python",
   "pygments_lexer": "ipython3",
   "version": "3.10.9"
  }
 },
 "nbformat": 4,
 "nbformat_minor": 5
}
