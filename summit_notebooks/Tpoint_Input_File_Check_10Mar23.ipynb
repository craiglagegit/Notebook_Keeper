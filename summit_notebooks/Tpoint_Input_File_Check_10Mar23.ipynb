{
 "cells": [
  {
   "cell_type": "code",
   "execution_count": null,
   "id": "e10463c5-3817-4914-aa80-e22ef27ed291",
   "metadata": {
    "execution": {
     "iopub.execute_input": "2023-03-10T14:50:25.258699Z",
     "iopub.status.busy": "2023-03-10T14:50:25.258540Z",
     "iopub.status.idle": "2023-03-10T14:50:25.702312Z",
     "shell.execute_reply": "2023-03-10T14:50:25.701857Z",
     "shell.execute_reply.started": "2023-03-10T14:50:25.258685Z"
    },
    "tags": []
   },
   "outputs": [],
   "source": [
    "import numpy as np\n",
    "from datetime import date\n",
    "import matplotlib\n",
    "import matplotlib.pyplot as plt\n",
    "import pandas as pd\n",
    "import astropy.io.fits as pf\n",
    "from astropy.time import Time, TimeDelta\n",
    "from lsst_efd_client import EfdClient"
   ]
  },
  {
   "cell_type": "code",
   "execution_count": null,
   "id": "f6052eaa-3723-4b4c-b73a-875f1a6df7c8",
   "metadata": {
    "execution": {
     "iopub.execute_input": "2023-03-10T14:50:25.707168Z",
     "iopub.status.busy": "2023-03-10T14:50:25.707034Z",
     "iopub.status.idle": "2023-03-10T14:50:26.869279Z",
     "shell.execute_reply": "2023-03-10T14:50:26.868742Z",
     "shell.execute_reply.started": "2023-03-10T14:50:25.707154Z"
    },
    "tags": []
   },
   "outputs": [],
   "source": [
    "client = EfdClient('summit_efd')"
   ]
  },
  {
   "cell_type": "code",
   "execution_count": null,
   "id": "199459e1-2f12-4aa9-976e-0b8a33fabf6b",
   "metadata": {
    "execution": {
     "iopub.execute_input": "2023-03-10T14:50:26.872352Z",
     "iopub.status.busy": "2023-03-10T14:50:26.872047Z",
     "iopub.status.idle": "2023-03-10T14:50:26.875902Z",
     "shell.execute_reply": "2023-03-10T14:50:26.875557Z",
     "shell.execute_reply.started": "2023-03-10T14:50:26.872334Z"
    },
    "tags": []
   },
   "outputs": [],
   "source": [
    "def  readRubinTV_json(date, camera):\n",
    "    year = int(date/10000)\n",
    "    month = int((date - 10000 * year)/100)\n",
    "    day = int((date - 10000 * year - 100 * month))\n",
    "    if camera == 'Wide':\n",
    "        filename = f'/scratch/cslage/starTracker/startracker-wide_{year}-{month:02}-{day:02}.json'\n",
    "    elif camera == 'Narrow':\n",
    "        filename = f'/scratch/cslage/starTracker/startracker_{year}-{month:02}-{day:02}.json'\n",
    "    elif camera == 'AuxTel':\n",
    "        filename = f'/scratch/cslage/starTracker/auxtel_{year}-{month:02}-{day:02}.json'\n",
    "    df = pd.read_json(filename)\n",
    "    df = df.transpose()\n",
    "    print(filename)\n",
    "    return df"
   ]
  },
  {
   "cell_type": "markdown",
   "id": "6964119a-4caf-4e76-8e89-00c4213adfb2",
   "metadata": {},
   "source": [
    "## This generates the tpoint input format\n",
    "### One camera, one date only"
   ]
  },
  {
   "cell_type": "code",
   "execution_count": null,
   "id": "f08cc10e-41bb-4fcb-9030-70d8102afc0e",
   "metadata": {
    "execution": {
     "iopub.execute_input": "2023-03-10T16:41:41.128753Z",
     "iopub.status.busy": "2023-03-10T16:41:41.128331Z",
     "iopub.status.idle": "2023-03-10T16:41:42.744887Z",
     "shell.execute_reply": "2023-03-10T16:41:42.744460Z",
     "shell.execute_reply.started": "2023-03-10T16:41:41.128736Z"
    },
    "tags": []
   },
   "outputs": [],
   "source": [
    "[camera, num] = ['Narrow', 102]\n",
    "date = 20230307\n",
    "year = int(date/10000)\n",
    "month = int((date - 10000 * year)/100)\n",
    "day = int((date - 10000 * year - 100 * month))\n",
    "df = readRubinTV_json(date, camera)\n",
    "df = df[~df.isnull().any(axis=1)]\n",
    "\n",
    "exp1 = 251\n",
    "exp2 = 265\n",
    "\n",
    "start_time = Time(df.loc[249]['MJD'], format='mjd', scale='tai')\n",
    "end_time = Time(df.loc[294]['MJD'], format='mjd', scale='tai')\n",
    "azMTM = await client.select_time_series('lsst.sal.MTMount.azimuth', \\\n",
    "                                ['actualPosition'],  start_time.utc, end_time.utc)\n",
    "elMTM = await client.select_time_series('lsst.sal.MTMount.elevation', \\\n",
    "                                ['actualPosition'],  start_time.utc, end_time.utc) \n",
    "#fig = plt.figure(figsize=(16,4))\n",
    "ax1 = azMTM.plot(color='blue')\n",
    "ax1.set_title(f\"StarTracker Narrow 20220307, SeqNums {exp1}-{exp2}, Azimuth\")\n",
    "ax1.set_xlim(start_plot.utc.isot, end_plot.utc.isot)\n",
    "ax2 = elMTM.plot(color='blue')\n",
    "ax2.set_title(f\"StarTracker Narrow 20220307, SeqNums {exp1}-{exp2}, Elevation\")\n",
    "row1 = df.loc[exp1]\n",
    "time1 = Time(row1['MJD'], format='mjd', scale='tai')\n",
    "expTime1 = row1['Exposure Time']\n",
    "start_plot = time1 - TimeDelta(expTime1/2.0, format='sec') - TimeDelta(30.0, format='sec')\n",
    "row2 = df.loc[exp2]\n",
    "time2 = Time(row2['MJD'], format='mjd', scale='tai')\n",
    "expTime2 = row2['Exposure Time']\n",
    "end_plot = time2 + TimeDelta(expTime2/2.0, format='sec') + TimeDelta(30.0, format='sec')\n",
    "ax1.set_ylim(-45.0, -35.0)\n",
    "ax2.set_xlim(start_plot.utc.isot, end_plot.utc.isot)\n",
    "for seqNum in df.index.values.tolist():\n",
    "    if seqNum < exp1 or seqNum > exp2:\n",
    "        continue\n",
    "    row = df.loc[seqNum]\n",
    "    time = Time(row['MJD'], format='mjd', scale='tai')\n",
    "    expTime = row['Exposure Time']\n",
    "    start_exp = time - TimeDelta(expTime/2.0, format='sec')\n",
    "    end_exp = time + TimeDelta(expTime/2.0, format='sec')\n",
    "    #print(seqNum, start_exp.isot, end_exp.isot)\n",
    "    ax1.axvline(start_exp.utc.isot, color='green', linestyle='--')\n",
    "    ax1.axvline(end_exp.utc.isot, color='red', linestyle='--')\n",
    "    ax2.axvline(start_exp.utc.isot, color='green', linestyle='--')\n",
    "    ax2.axvline(end_exp.utc.isot, color='red', linestyle='--')\n",
    "ax1.axvline(start_exp.utc.isot, color='green', linestyle='--', label='ExpStart')\n",
    "ax1.axvline(end_exp.utc.isot, color='red', linestyle='--', label='ExpEnd')\n",
    "ax2.axvline(start_exp.utc.isot, color='green', linestyle='--', label='ExpStart')\n",
    "ax2.axvline(end_exp.utc.isot, color='red', linestyle='--', label='ExpEnd')\n",
    "ax1.legend()\n",
    "ax2.legend()\n",
    "plt.savefig(\"/scratch/cslage/starTracker/EFD_Timing_Check_1_10Mar23.png\")"
   ]
  },
  {
   "cell_type": "code",
   "execution_count": null,
   "id": "5db059a0-682e-4f0b-863a-78063485de97",
   "metadata": {
    "execution": {
     "iopub.execute_input": "2023-03-10T16:43:32.457894Z",
     "iopub.status.busy": "2023-03-10T16:43:32.457614Z",
     "iopub.status.idle": "2023-03-10T16:43:33.337523Z",
     "shell.execute_reply": "2023-03-10T16:43:33.336965Z",
     "shell.execute_reply.started": "2023-03-10T16:43:32.457877Z"
    },
    "tags": []
   },
   "outputs": [],
   "source": [
    "[camera, num] = ['Narrow', 102]\n",
    "date = 20230307\n",
    "year = int(date/10000)\n",
    "month = int((date - 10000 * year)/100)\n",
    "day = int((date - 10000 * year - 100 * month))\n",
    "df = readRubinTV_json(date, camera)\n",
    "df = df[~df.isnull().any(axis=1)]\n",
    "exp1 = 251\n",
    "path = f\"/project/GenericCamera/{num}/{year}/{month:02}/{day:02}/\"\n",
    "filename = path + f\"GC{num}_O_{date}_{exp1:06}.fits\"\n",
    "hdulist = pf.open(filename)\n",
    "header = hdulist[0].header\n",
    "dateBeg = Time(header['DATE-BEG'], scale='tai')\n",
    "dateEnd = Time(header['DATE-END'], scale='tai')\n",
    "\n",
    "start_time = Time(df.loc[249]['MJD'], format='mjd', scale='tai')\n",
    "end_time = Time(df.loc[294]['MJD'], format='mjd', scale='tai')\n",
    "azMTM = await client.select_time_series('lsst.sal.MTMount.azimuth', \\\n",
    "                                ['actualPosition'],  start_time.utc, end_time.utc)\n",
    "elMTM = await client.select_time_series('lsst.sal.MTMount.elevation', \\\n",
    "                                ['actualPosition'],  start_time.utc, end_time.utc) \n",
    "fig = plt.figure(figsize=(16,4))\n",
    "ax1 = elMTM.plot(color='blue')\n",
    "ax1.set_title(f\"StarTracker Narrow 20220307, SeqNum {exp1}, Elevation\")\n",
    "\n",
    "row = df.loc[exp1]\n",
    "time = Time(row['MJD'], format='mjd', scale='tai')\n",
    "expTime = row['Exposure Time']\n",
    "start_exp = time - TimeDelta(expTime/2.0, format='sec')\n",
    "end_exp = time + TimeDelta(expTime/2.0, format='sec')\n",
    "\n",
    "start_plot = time - TimeDelta(expTime/2.0, format='sec') - TimeDelta(2.0, format='sec')\n",
    "end_plot = time + TimeDelta(expTime/2.0, format='sec') + TimeDelta(2.0, format='sec')\n",
    "ax1.set_xlim(start_plot.utc.isot, end_plot.utc.isot)\n",
    "ax1.axvline(start_exp.utc.isot, color='green', linestyle='--', label='ExpStart')\n",
    "ax1.axvline(end_exp.utc.isot, color='red', linestyle='--', label='ExpEnd')\n",
    "\n",
    "ax1.axvline(time.utc.isot, color='cyan', linestyle='--', label='RubinTV MJD')\n",
    "ax1.axvline(dateBeg.utc.isot, color='orange', linestyle='-.', label='Header DATE-BEG')\n",
    "ax1.axvline(dateEnd.utc.isot, color='magenta', linestyle='-.', label='Header DATE-END')\n",
    "ax1.legend()\n",
    "ax1.text((start_exp+TimeDelta(0.2, format='sec')).utc.isot, 30.0, \"Using the average value between \\nthe read and green lines\", color=\"black\")\n",
    "plt.savefig(\"/scratch/cslage/starTracker/EFD_Timing_Check_2_10Mar23.png\")"
   ]
  },
  {
   "cell_type": "code",
   "execution_count": null,
   "id": "941475e6-fc1c-43bb-b0d1-ad587ab2d21e",
   "metadata": {
    "execution": {
     "iopub.execute_input": "2023-03-10T16:31:34.708553Z",
     "iopub.status.busy": "2023-03-10T16:31:34.708257Z",
     "iopub.status.idle": "2023-03-10T16:31:34.711399Z",
     "shell.execute_reply": "2023-03-10T16:31:34.711013Z",
     "shell.execute_reply.started": "2023-03-10T16:31:34.708536Z"
    },
    "tags": []
   },
   "outputs": [],
   "source": [
    "print((dateEnd.jd-dateBeg.jd)*86400.0, expTime)"
   ]
  },
  {
   "cell_type": "code",
   "execution_count": null,
   "id": "c04a69d5-a9db-4e1f-90ae-76b73840ad86",
   "metadata": {},
   "outputs": [],
   "source": []
  }
 ],
 "metadata": {
  "kernelspec": {
   "display_name": "LSST",
   "language": "python",
   "name": "lsst"
  },
  "language_info": {
   "codemirror_mode": {
    "name": "ipython",
    "version": 3
   },
   "file_extension": ".py",
   "mimetype": "text/x-python",
   "name": "python",
   "nbconvert_exporter": "python",
   "pygments_lexer": "ipython3",
   "version": "3.10.9"
  }
 },
 "nbformat": 4,
 "nbformat_minor": 5
}
