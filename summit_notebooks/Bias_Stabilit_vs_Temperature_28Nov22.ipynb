{
 "cells": [
  {
   "cell_type": "code",
   "execution_count": null,
   "metadata": {},
   "outputs": [],
   "source": [
    "import sys, time, os, asyncio, glob\n",
    "\n",
    "import numpy as np\n",
    "import matplotlib.pyplot as plt\n",
    "%matplotlib inline\n",
    "from astropy.time import Time, TimeDelta\n",
    "\n",
    "from lsst_efd_client import EfdClient\n",
    "from lsst.daf.butler import Butler"
   ]
  },
  {
   "cell_type": "code",
   "execution_count": null,
   "metadata": {},
   "outputs": [],
   "source": [
    "client = EfdClient('summit_efd')\n",
    "butler = Butler('/repo/LATISS', collections=\"LATISS/raw/all\")"
   ]
  },
  {
   "cell_type": "code",
   "execution_count": null,
   "metadata": {},
   "outputs": [],
   "source": [
    "max_slopes = [[2022110300020, 212],\n",
    " [2022110800013, 205],\n",
    " [2022110900005, 181],\n",
    " [2022111000500, 143],\n",
    " [2022111000600, 140]]"
   ]
  },
  {
   "cell_type": "code",
   "execution_count": null,
   "metadata": {},
   "outputs": [],
   "source": [
    "shift_index = []\n",
    "reb_temps = []\n",
    "expIds = []\n",
    "for [expId, max_slope] in max_slopes:\n",
    "    mData = butler.get('raw.metadata', detector=0, exposure=expId)\n",
    "    start = Time(mData['DATE-BEG']) - TimeDelta(30.0, format='sec')\n",
    "    end = Time(mData['DATE-END']) + TimeDelta(30.0, format='sec')\n",
    "    reb_temp_data = await client.select_time_series(\"lsst.sal.ATCamera.focal_plane_Reb\", [\"temp20\"], start, end)\n",
    "    reb_temp = reb_temp_data.values[0][0]\n",
    "    shift_index.append(max_slope)\n",
    "    reb_temps.append(reb_temp)\n",
    "    expIds.append(expId)\n",
    "    "
   ]
  },
  {
   "cell_type": "code",
   "execution_count": null,
   "metadata": {},
   "outputs": [],
   "source": [
    "plt.figure(figsize=(8,8))\n",
    "plt.title(\"AuxTel bias shift vs WREB temperature\")\n",
    "plt.scatter(reb_temps, shift_index)\n",
    "for i, expId in enumerate(expIds):\n",
    "    plt.text(reb_temps[i] + 0.5, shift_index[i], f\"{expId}\")\n",
    "plt.ylabel(\"Bias wave max slope index\")\n",
    "plt.xlabel(\"WREB temp (C)\")\n",
    "xplot = np.linspace(15,35,100)\n",
    "fit = np.polyfit(reb_temps, shift_index, 1)\n",
    "yplot = fit[0] * xplot + fit[1]\n",
    "plt.plot(xplot, yplot, ls = '--', color='green')\n",
    "                    \n",
    "plt.xlim(15, 35)\n",
    "plt.savefig(f\"/home/craiglagegit/DATA/AuxTel_Bias_Shift_vs_Temperature_28Nov22.pdf\")"
   ]
  },
  {
   "cell_type": "code",
   "execution_count": null,
   "metadata": {},
   "outputs": [],
   "source": [
    "plt.figure(figsize=(16,8))\n",
    "plt.suptitle(\"AuxTel bias shift vs WREB temperature\", fontsize=24)\n",
    "plt.subplots_adjust(wspace=0.5)\n",
    "\n",
    "temps = ['temp10', 'temp20', 'temp30', 'temp40', 'temp50', 'temp60', 'aspicl_Temp00', 'aspicu_Temp00']\n",
    "for i, temp in enumerate(temps):\n",
    "    shift_index = []\n",
    "    reb_temps = []\n",
    "    expIds = []\n",
    "    for [expId, max_slope] in max_slopes:\n",
    "        mData = butler.get('raw.metadata', detector=0, exposure=expId)\n",
    "        start = Time(mData['DATE-BEG']) - TimeDelta(30.0, format='sec')\n",
    "        end = Time(mData['DATE-END']) + TimeDelta(30.0, format='sec')\n",
    "        reb_temp_data = await client.select_time_series(\"lsst.sal.ATCamera.focal_plane_Reb\", [temp], start, end)\n",
    "        reb_temp = reb_temp_data.values[0][0]\n",
    "        shift_index.append(max_slope)\n",
    "        reb_temps.append(reb_temp)\n",
    "        expIds.append(expId)\n",
    "    plt.subplot(2,4,i+1)\n",
    "    plt.scatter(reb_temps, shift_index)\n",
    "    for i, expId in enumerate(expIds):\n",
    "        plt.text(reb_temps[i] + 0.5, shift_index[i], f\"{expId}\", fontsize=6)\n",
    "    plt.ylabel(\"Bias wave max slope index\")\n",
    "    plt.xlabel(f\"WREB temp {temp} (C)\")\n",
    "    xplot = np.linspace(0,35,100)\n",
    "    fit = np.polyfit(reb_temps, shift_index, 1)\n",
    "    yplot = fit[0] * xplot + fit[1]\n",
    "    plt.plot(xplot, yplot, ls = '--', color='green')\n",
    "    plt.xlim(0, 35)\n",
    "plt.savefig(f\"/home/craiglagegit/DATA/AuxTel_Bias_Shift_vs_Temperature_30Nov22.pdf\")    "
   ]
  },
  {
   "cell_type": "code",
   "execution_count": null,
   "metadata": {},
   "outputs": [],
   "source": []
  }
 ],
 "metadata": {
  "kernelspec": {
   "display_name": "LSST",
   "language": "python",
   "name": "lsst"
  },
  "language_info": {
   "codemirror_mode": {
    "name": "ipython",
    "version": 3
   },
   "file_extension": ".py",
   "mimetype": "text/x-python",
   "name": "python",
   "nbconvert_exporter": "python",
   "pygments_lexer": "ipython3",
   "version": "3.10.6"
  }
 },
 "nbformat": 4,
 "nbformat_minor": 4
}
