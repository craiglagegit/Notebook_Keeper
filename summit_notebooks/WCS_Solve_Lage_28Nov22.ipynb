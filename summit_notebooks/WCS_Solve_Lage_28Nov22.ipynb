{
 "cells": [
  {
   "cell_type": "markdown",
   "metadata": {},
   "source": [
    "## StarTracker WCS solutions - 28-Nov-22\n",
    "\n",
    "Craig Lage - basically copying code from Merlin Fisher-Levine\\\n",
    "This version has the TAI correction."
   ]
  },
  {
   "cell_type": "code",
   "execution_count": null,
   "metadata": {},
   "outputs": [],
   "source": [
    "import sys, time, os, asyncio, glob\n",
    "from datetime import datetime\n",
    "import numpy as np\n",
    "import matplotlib.pyplot as plt\n",
    "import astropy.io.fits as pf\n",
    "from astropy.time import Time, TimeDelta\n",
    "from astropy.coordinates import AltAz, ICRS, EarthLocation, Angle, FK5, SkyCoord\n",
    "import astropy.units as u\n",
    "from lsst.obs.lsst.translators.latiss import AUXTEL_LOCATION\n",
    "from lsst.obs.lsst.translators.lsst import SIMONYI_LOCATION\n",
    "\n",
    "import lsst.afw.image as afwImage\n",
    "from lsst.summit.utils.blindSolving import runImchar, genericCameraHeaderToWcs, CommandLineSolver\n",
    "# This requires the tickets/DM-31175 of summit_utils"
   ]
  },
  {
   "cell_type": "code",
   "execution_count": null,
   "metadata": {},
   "outputs": [],
   "source": [
    "solver = CommandLineSolver(indexFiles='/scratch/mfisherlevine/astrometry_net/broiler.astrometry.net/~dstn/4100',\n",
    "                           checkInParallel=True)"
   ]
  },
  {
   "cell_type": "code",
   "execution_count": null,
   "metadata": {
    "tags": []
   },
   "outputs": [],
   "source": [
    "cameras = [['Wide', 101], ['Narrow', 102]]\n",
    "dates = [16, 22, 23, 24]\n",
    "for [camera, num] in cameras:\n",
    "    for date in dates:\n",
    "        if camera == 'Narrow' and date in [15, 16, 22]:\n",
    "            # No narrow camera data in early dates\n",
    "            continue\n",
    "        \n",
    "        outfile = open(f\"/scratch/cslage/starTracker/StarTracker_Summary_{camera}_202211{date}.txt\", \"w\")\n",
    "        outfile.write(\"SeqNum\\tRA(header)\\tDec(header)\\tRA(Solve)\\tDec(Solve)\\tAz(hdr-fix)\\tEl(header)\\tAz(solve)\\tEl(solve)\\tDeltaAz\\tDeltaEl\\tRot\\tRMS(asec)\\n\")\n",
    "        path = f\"/project/GenericCamera/{num}/2022/11/{date}/\"\n",
    "        for seqNum in range(200):\n",
    "            try:    \n",
    "                filename = path + f\"GC{num}_O_202211{date}_{seqNum:06}.fits\"\n",
    "                exp = afwImage.ExposureF(filename)\n",
    "                wcs = genericCameraHeaderToWcs(exp)\n",
    "                exp.setWcs(wcs)\n",
    "                results = runImchar(exp, 5, 25)\n",
    "                if camera == 'Narrow':\n",
    "                    # Need to loosen percentageScaleError because header SECPIX is wrong\n",
    "                    solverResults = solver.run(exp, results.sourceCat,  percentageScaleError=60.0, silent=True)\n",
    "                if camera == 'Wide':\n",
    "                    solverResults = solver.run(exp, results.sourceCat, silent=True)\n",
    "                newWcs = solverResults.wcs\n",
    "                rms_error = solverResults.scatterArcseconds\n",
    "                raSolve = newWcs.getSkyOrigin().getRa().asDegrees()\n",
    "                decSolve = newWcs.getSkyOrigin().getDec().asDegrees()\n",
    "\n",
    "            except:\n",
    "                print(f\"{camera}, 202211{date}_{seqNum} Failed!\")\n",
    "                continue\n",
    "            hdulist = pf.open(filename)\n",
    "            header = hdulist[0].header\n",
    "            raStart = header[\"RASTART\"]\n",
    "            decStart = header[\"DECSTART\"]\n",
    "            azStart = header[\"AZSTART\"]\n",
    "            azStart = 360.0 - azStart # Compensating for Az sign error\n",
    "            if azStart > 360.0:\n",
    "                azStart -= 360.0\n",
    "            if azStart < 0.0:\n",
    "                azStart += 360.0\n",
    "\n",
    "            elStart = header[\"ELSTART\"]\n",
    "            rotpa = header[\"ROTPA\"]\n",
    "            rot = newWcs.getRelativeRotationToWcs(wcs).asDegrees()\n",
    "            time = Time(header[\"DATE-OBS\"], scale='tai')\n",
    "            altAz = AltAz(obstime=time, location=SIMONYI_LOCATION)\n",
    "            skyLocation = SkyCoord(raSolve * u.deg, decSolve * u.deg)\n",
    "            obsAltAz = skyLocation.transform_to(altAz)\n",
    "            az = obsAltAz.az.deg\n",
    "            el = obsAltAz.alt.deg\n",
    "            deltaAz = azStart - az\n",
    "            if deltaAz > 360.0:\n",
    "                deltaAz -= 360.0\n",
    "            if deltaAz < 0.0:\n",
    "                deltaAz += 360.0\n",
    "            deltaEl = elStart - el\n",
    "            print(f\"{camera}, 202211{date}_{seqNum}, {deltaAz:.5f}, {deltaEl:.5f}\")\n",
    "            outfile.write(f\"{seqNum}\\t{raStart:.5f}\\t{decStart:.5f}\\t{raSolve:.5f}\\t{decSolve:.5f}\\t{azStart:.5f}\\t{elStart:.5f}\\t{az:.5f}\\t{el:.5f}\\t{deltaAz:.5f}\\t{deltaEl:.5f}\\t{rot:.5f}\\t{rms_error:.5f}\\n\")\n",
    "        outfile.close()\n",
    "    "
   ]
  },
  {
   "cell_type": "code",
   "execution_count": null,
   "metadata": {},
   "outputs": [],
   "source": []
  }
 ],
 "metadata": {
  "kernelspec": {
   "display_name": "LSST",
   "language": "python",
   "name": "lsst"
  },
  "language_info": {
   "codemirror_mode": {
    "name": "ipython",
    "version": 3
   },
   "file_extension": ".py",
   "mimetype": "text/x-python",
   "name": "python",
   "nbconvert_exporter": "python",
   "pygments_lexer": "ipython3",
   "version": "3.10.6"
  }
 },
 "nbformat": 4,
 "nbformat_minor": 4
}
