{
 "cells": [
  {
   "cell_type": "markdown",
   "id": "3dbf3c0c",
   "metadata": {},
   "source": [
    "# Exposure Logger\n"
   ]
  },
  {
   "cell_type": "code",
   "execution_count": null,
   "id": "b9b61b70",
   "metadata": {
    "tags": []
   },
   "outputs": [],
   "source": [
    "import panel as pn\n",
    "from lsst.ts.bokeh.apps.observatory_log import ObservatoryLog\n",
    "pn.extension('tabulator', sizing_mode=\"stretch_width\")"
   ]
  },
  {
   "cell_type": "code",
   "execution_count": null,
   "id": "df80a7e0-12da-46d8-8aaa-a75af046d661",
   "metadata": {
    "tags": []
   },
   "outputs": [],
   "source": [
    "observatory_log = ObservatoryLog(\"LATISS\", 2022110900000)"
   ]
  },
  {
   "cell_type": "code",
   "execution_count": null,
   "id": "ccdc61ee-98f7-43ad-8b9e-a6caf539134d",
   "metadata": {
    "jupyter": {
     "outputs_hidden": true
    },
    "tags": []
   },
   "outputs": [],
   "source": [
    "component = observatory_log.component()\n",
    "component"
   ]
  },
  {
   "cell_type": "code",
   "execution_count": null,
   "id": "6b74bc40-f0d5-4c11-ab8f-13a693135b2f",
   "metadata": {},
   "outputs": [],
   "source": []
  },
  {
   "cell_type": "code",
   "execution_count": null,
   "id": "b94d0896-9d81-43ce-a0e6-80542d871781",
   "metadata": {},
   "outputs": [],
   "source": [
    "observatory_log.df.to_csv(\"~/LATISS_20221109_Log.csv\") "
   ]
  },
  {
   "cell_type": "code",
   "execution_count": null,
   "id": "0a56d07e",
   "metadata": {},
   "outputs": [],
   "source": []
  }
 ],
 "metadata": {
  "kernelspec": {
   "display_name": "LSST",
   "language": "python",
   "name": "lsst"
  },
  "language_info": {
   "codemirror_mode": {
    "name": "ipython",
    "version": 3
   },
   "file_extension": ".py",
   "mimetype": "text/x-python",
   "name": "python",
   "nbconvert_exporter": "python",
   "pygments_lexer": "ipython3",
   "version": "3.10.5"
  }
 },
 "nbformat": 4,
 "nbformat_minor": 5
}
