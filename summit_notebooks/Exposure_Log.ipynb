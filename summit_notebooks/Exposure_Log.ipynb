{
 "cells": [
  {
   "cell_type": "markdown",
   "id": "3dbf3c0c",
   "metadata": {},
   "source": [
    "# Exposure Logger\n"
   ]
  },
  {
   "cell_type": "code",
   "execution_count": null,
   "id": "b9b61b70",
   "metadata": {
    "execution": {
     "iopub.execute_input": "2023-02-01T07:42:57.563543Z",
     "iopub.status.busy": "2023-02-01T07:42:57.563344Z",
     "iopub.status.idle": "2023-02-01T07:42:58.469167Z",
     "shell.execute_reply": "2023-02-01T07:42:58.468742Z",
     "shell.execute_reply.started": "2023-02-01T07:42:57.563526Z"
    },
    "tags": []
   },
   "outputs": [],
   "source": [
    "import panel as pn\n",
    "from lsst.ts.bokeh.apps.observatory_log import ObservatoryLog\n",
    "pn.extension('tabulator', sizing_mode=\"stretch_width\")"
   ]
  },
  {
   "cell_type": "code",
   "execution_count": null,
   "id": "df80a7e0-12da-46d8-8aaa-a75af046d661",
   "metadata": {
    "execution": {
     "iopub.execute_input": "2023-02-01T09:39:54.240673Z",
     "iopub.status.busy": "2023-02-01T09:39:54.240299Z",
     "iopub.status.idle": "2023-02-01T09:40:31.804910Z",
     "shell.execute_reply": "2023-02-01T09:40:31.804324Z",
     "shell.execute_reply.started": "2023-02-01T09:39:54.240653Z"
    },
    "tags": []
   },
   "outputs": [],
   "source": [
    "observatory_log = ObservatoryLog(\"LATISS\", 2023013100000)"
   ]
  },
  {
   "cell_type": "code",
   "execution_count": null,
   "id": "ccdc61ee-98f7-43ad-8b9e-a6caf539134d",
   "metadata": {
    "execution": {
     "iopub.execute_input": "2023-02-01T09:40:36.247032Z",
     "iopub.status.busy": "2023-02-01T09:40:36.246553Z",
     "iopub.status.idle": "2023-02-01T09:40:36.324313Z",
     "shell.execute_reply": "2023-02-01T09:40:36.323751Z",
     "shell.execute_reply.started": "2023-02-01T09:40:36.247005Z"
    },
    "tags": []
   },
   "outputs": [],
   "source": [
    "component = observatory_log.component()\n",
    "component"
   ]
  },
  {
   "cell_type": "code",
   "execution_count": null,
   "id": "6b74bc40-f0d5-4c11-ab8f-13a693135b2f",
   "metadata": {},
   "outputs": [],
   "source": []
  },
  {
   "cell_type": "code",
   "execution_count": null,
   "id": "b94d0896-9d81-43ce-a0e6-80542d871781",
   "metadata": {
    "execution": {
     "iopub.execute_input": "2023-02-01T09:40:47.872129Z",
     "iopub.status.busy": "2023-02-01T09:40:47.871757Z",
     "iopub.status.idle": "2023-02-01T09:40:47.881025Z",
     "shell.execute_reply": "2023-02-01T09:40:47.880502Z",
     "shell.execute_reply.started": "2023-02-01T09:40:47.872111Z"
    },
    "tags": []
   },
   "outputs": [],
   "source": [
    "observatory_log.df.to_csv(\"~/LATISS_20230131_Log.csv\") "
   ]
  },
  {
   "cell_type": "code",
   "execution_count": null,
   "id": "0a56d07e",
   "metadata": {},
   "outputs": [],
   "source": []
  }
 ],
 "metadata": {
  "kernelspec": {
   "display_name": "LSST",
   "language": "python",
   "name": "lsst"
  },
  "language_info": {
   "codemirror_mode": {
    "name": "ipython",
    "version": 3
   },
   "file_extension": ".py",
   "mimetype": "text/x-python",
   "name": "python",
   "nbconvert_exporter": "python",
   "pygments_lexer": "ipython3",
   "version": "3.10.6"
  }
 },
 "nbformat": 4,
 "nbformat_minor": 5
}
