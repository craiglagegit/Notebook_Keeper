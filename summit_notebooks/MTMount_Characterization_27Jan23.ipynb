{
 "cells": [
  {
   "cell_type": "code",
   "execution_count": null,
   "metadata": {
    "execution": {
     "iopub.execute_input": "2023-01-27T14:06:56.585227Z",
     "iopub.status.busy": "2023-01-27T14:06:56.584946Z",
     "iopub.status.idle": "2023-01-27T14:06:57.024930Z",
     "shell.execute_reply": "2023-01-27T14:06:57.024391Z",
     "shell.execute_reply.started": "2023-01-27T14:06:56.585210Z"
    },
    "tags": []
   },
   "outputs": [],
   "source": [
    "import sys, time, os, asyncio, glob\n",
    "from datetime import datetime\n",
    "import numpy as np\n",
    "import matplotlib.pyplot as plt\n",
    "from astropy.time import Time, TimeDelta\n",
    "\n",
    "from lsst_efd_client import EfdClient"
   ]
  },
  {
   "cell_type": "code",
   "execution_count": null,
   "metadata": {
    "execution": {
     "iopub.execute_input": "2023-01-27T14:06:57.259063Z",
     "iopub.status.busy": "2023-01-27T14:06:57.258696Z",
     "iopub.status.idle": "2023-01-27T14:06:58.832454Z",
     "shell.execute_reply": "2023-01-27T14:06:58.831870Z",
     "shell.execute_reply.started": "2023-01-27T14:06:57.259045Z"
    },
    "tags": []
   },
   "outputs": [],
   "source": [
    "client = EfdClient('summit_efd')"
   ]
  },
  {
   "cell_type": "code",
   "execution_count": null,
   "metadata": {
    "execution": {
     "iopub.execute_input": "2023-01-27T14:24:35.857220Z",
     "iopub.status.busy": "2023-01-27T14:24:35.856844Z",
     "iopub.status.idle": "2023-01-27T14:24:35.860627Z",
     "shell.execute_reply": "2023-01-27T14:24:35.860250Z",
     "shell.execute_reply.started": "2023-01-27T14:24:35.857201Z"
    },
    "tags": []
   },
   "outputs": [],
   "source": [
    "start = Time(\"2023-01-26T05:20:36\", scale='utc')\n",
    "end = Time(\"2023-01-26T05:22:36\", scale='utc')"
   ]
  },
  {
   "cell_type": "code",
   "execution_count": null,
   "metadata": {
    "execution": {
     "iopub.execute_input": "2023-01-27T14:24:36.597536Z",
     "iopub.status.busy": "2023-01-27T14:24:36.596933Z",
     "iopub.status.idle": "2023-01-27T14:24:36.940535Z",
     "shell.execute_reply": "2023-01-27T14:24:36.939938Z",
     "shell.execute_reply.started": "2023-01-27T14:24:36.597516Z"
    },
    "tags": []
   },
   "outputs": [],
   "source": [
    "az = await client.select_time_series('lsst.sal.MTMount.azimuth', \\\n",
    "                                            ['actualPosition', 'timestamp'],  start, end)\n",
    "el = await client.select_time_series('lsst.sal.MTMount.elevation', \\\n",
    "                                            ['actualPosition', 'timestamp'],  start, end)    \n"
   ]
  },
  {
   "cell_type": "code",
   "execution_count": null,
   "metadata": {
    "execution": {
     "iopub.execute_input": "2023-01-27T14:24:37.305132Z",
     "iopub.status.busy": "2023-01-27T14:24:37.304823Z",
     "iopub.status.idle": "2023-01-27T14:24:37.308818Z",
     "shell.execute_reply": "2023-01-27T14:24:37.308338Z",
     "shell.execute_reply.started": "2023-01-27T14:24:37.305114Z"
    },
    "tags": []
   },
   "outputs": [],
   "source": [
    "len(az)"
   ]
  },
  {
   "cell_type": "code",
   "execution_count": null,
   "metadata": {
    "execution": {
     "iopub.execute_input": "2023-01-27T14:24:38.206153Z",
     "iopub.status.busy": "2023-01-27T14:24:38.205879Z",
     "iopub.status.idle": "2023-01-27T14:24:38.507961Z",
     "shell.execute_reply": "2023-01-27T14:24:38.507425Z",
     "shell.execute_reply.started": "2023-01-27T14:24:38.206136Z"
    },
    "tags": []
   },
   "outputs": [],
   "source": [
    "plt.subplot(1,2,1)\n",
    "az['actualPosition'].plot(legend=True, color='red')\n",
    "plt.subplot(1,2,2)\n",
    "el['actualPosition'].plot(legend=True, color='green')"
   ]
  },
  {
   "cell_type": "code",
   "execution_count": null,
   "metadata": {
    "execution": {
     "iopub.execute_input": "2023-01-27T14:25:00.875196Z",
     "iopub.status.busy": "2023-01-27T14:25:00.874589Z",
     "iopub.status.idle": "2023-01-27T14:25:00.923748Z",
     "shell.execute_reply": "2023-01-27T14:25:00.923184Z",
     "shell.execute_reply.started": "2023-01-27T14:25:00.875165Z"
    },
    "tags": []
   },
   "outputs": [],
   "source": [
    "az_track = await client.select_time_series('lsst.sal.MTMount.command_trackTarget', \\\n",
    "                                            ['azimuth', 'timestamp'],  start, end)\n",
    "el_track = await client.select_time_series('lsst.sal.MTMount.command_trackTarget', \\\n",
    "                                            ['elevation', 'timestamp'],  start, end)    \n"
   ]
  },
  {
   "cell_type": "code",
   "execution_count": null,
   "metadata": {
    "execution": {
     "iopub.execute_input": "2023-01-27T14:25:01.435604Z",
     "iopub.status.busy": "2023-01-27T14:25:01.435239Z",
     "iopub.status.idle": "2023-01-27T14:25:01.439331Z",
     "shell.execute_reply": "2023-01-27T14:25:01.438842Z",
     "shell.execute_reply.started": "2023-01-27T14:25:01.435587Z"
    },
    "tags": []
   },
   "outputs": [],
   "source": [
    "len(az_track)"
   ]
  },
  {
   "cell_type": "code",
   "execution_count": null,
   "metadata": {
    "execution": {
     "iopub.execute_input": "2023-01-27T14:25:01.946559Z",
     "iopub.status.busy": "2023-01-27T14:25:01.946202Z",
     "iopub.status.idle": "2023-01-27T14:25:02.246777Z",
     "shell.execute_reply": "2023-01-27T14:25:02.246150Z",
     "shell.execute_reply.started": "2023-01-27T14:25:01.946542Z"
    },
    "tags": []
   },
   "outputs": [],
   "source": [
    "plt.subplot(1,2,1)\n",
    "az_track['azimuth'].plot(legend=True, color='red')\n",
    "plt.subplot(1,2,2)\n",
    "el_track['elevation'].plot(legend=True, color='green')"
   ]
  },
  {
   "cell_type": "code",
   "execution_count": null,
   "metadata": {
    "execution": {
     "iopub.execute_input": "2023-01-27T14:26:39.721363Z",
     "iopub.status.busy": "2023-01-27T14:26:39.720990Z",
     "iopub.status.idle": "2023-01-27T14:26:39.725203Z",
     "shell.execute_reply": "2023-01-27T14:26:39.724579Z",
     "shell.execute_reply.started": "2023-01-27T14:26:39.721346Z"
    },
    "tags": []
   },
   "outputs": [],
   "source": [
    "start = Time(\"2023-01-26T05:21:05\", scale='utc')\n",
    "end = Time(\"2023-01-26T05:21:10\", scale='utc')"
   ]
  },
  {
   "cell_type": "code",
   "execution_count": null,
   "metadata": {
    "execution": {
     "iopub.execute_input": "2023-01-27T14:26:40.541865Z",
     "iopub.status.busy": "2023-01-27T14:26:40.541505Z",
     "iopub.status.idle": "2023-01-27T14:26:40.564221Z",
     "shell.execute_reply": "2023-01-27T14:26:40.563664Z",
     "shell.execute_reply.started": "2023-01-27T14:26:40.541848Z"
    },
    "tags": []
   },
   "outputs": [],
   "source": [
    "az = await client.select_time_series('lsst.sal.MTMount.azimuth', \\\n",
    "                                            ['actualPosition', 'timestamp'],  start, end)\n",
    "el = await client.select_time_series('lsst.sal.MTMount.elevation', \\\n",
    "                                            ['actualPosition', 'timestamp'],  start, end)    \n"
   ]
  },
  {
   "cell_type": "code",
   "execution_count": null,
   "metadata": {
    "execution": {
     "iopub.execute_input": "2023-01-27T14:26:41.130273Z",
     "iopub.status.busy": "2023-01-27T14:26:41.129895Z",
     "iopub.status.idle": "2023-01-27T14:26:41.134247Z",
     "shell.execute_reply": "2023-01-27T14:26:41.133621Z",
     "shell.execute_reply.started": "2023-01-27T14:26:41.130256Z"
    },
    "tags": []
   },
   "outputs": [],
   "source": [
    "len(az)"
   ]
  },
  {
   "cell_type": "code",
   "execution_count": null,
   "metadata": {
    "execution": {
     "iopub.execute_input": "2023-01-27T14:38:30.758258Z",
     "iopub.status.busy": "2023-01-27T14:38:30.757978Z",
     "iopub.status.idle": "2023-01-27T14:38:30.849328Z",
     "shell.execute_reply": "2023-01-27T14:38:30.848714Z",
     "shell.execute_reply.started": "2023-01-27T14:38:30.758241Z"
    },
    "tags": []
   },
   "outputs": [],
   "source": [
    "az_track = await client.select_time_series('lsst.sal.MTMount.command_trackTarget', \\\n",
    "                                            ['azimuth', 'taiTime'],  start, end)\n",
    "el_track = await client.select_time_series('lsst.sal.MTMount.command_trackTarget', \\\n",
    "                                            ['elevation', 'taiTime'],  start, end)    \n"
   ]
  },
  {
   "cell_type": "code",
   "execution_count": null,
   "metadata": {
    "execution": {
     "iopub.execute_input": "2023-01-27T14:38:35.188427Z",
     "iopub.status.busy": "2023-01-27T14:38:35.188033Z",
     "iopub.status.idle": "2023-01-27T14:38:35.192054Z",
     "shell.execute_reply": "2023-01-27T14:38:35.191562Z",
     "shell.execute_reply.started": "2023-01-27T14:38:35.188410Z"
    },
    "tags": []
   },
   "outputs": [],
   "source": [
    "len(az_track)"
   ]
  },
  {
   "cell_type": "code",
   "execution_count": null,
   "metadata": {
    "execution": {
     "iopub.execute_input": "2023-01-27T14:59:19.398250Z",
     "iopub.status.busy": "2023-01-27T14:59:19.397965Z",
     "iopub.status.idle": "2023-01-27T14:59:19.402381Z",
     "shell.execute_reply": "2023-01-27T14:59:19.401911Z",
     "shell.execute_reply.started": "2023-01-27T14:59:19.398233Z"
    },
    "tags": []
   },
   "outputs": [],
   "source": [
    "azs = az_track.values[:,0]\n",
    "times = az_track.values[:,1]\n",
    "\n",
    "for i in range(1,len(az_track)):\n",
    "    if abs(azs[i] - azs[i-1]) > 0.5:\n",
    "        shift = times[i]\n",
    "        break\n",
    "    \n",
    "shift_time =  Time(shift, format='unix_tai', scale='utc').isot   \n",
    "               "
   ]
  },
  {
   "cell_type": "code",
   "execution_count": null,
   "metadata": {
    "execution": {
     "iopub.execute_input": "2023-01-27T14:59:20.889284Z",
     "iopub.status.busy": "2023-01-27T14:59:20.888997Z",
     "iopub.status.idle": "2023-01-27T14:59:20.892370Z",
     "shell.execute_reply": "2023-01-27T14:59:20.891998Z",
     "shell.execute_reply.started": "2023-01-27T14:59:20.889268Z"
    },
    "tags": []
   },
   "outputs": [],
   "source": [
    "shift_time"
   ]
  },
  {
   "cell_type": "code",
   "execution_count": null,
   "metadata": {
    "execution": {
     "iopub.execute_input": "2023-01-27T15:00:12.167534Z",
     "iopub.status.busy": "2023-01-27T15:00:12.167260Z",
     "iopub.status.idle": "2023-01-27T15:00:12.424517Z",
     "shell.execute_reply": "2023-01-27T15:00:12.424089Z",
     "shell.execute_reply.started": "2023-01-27T15:00:12.167517Z"
    },
    "tags": []
   },
   "outputs": [],
   "source": [
    "plt.subplot(1,2,1)\n",
    "ax1 = az['actualPosition'].plot(legend=True, color='red')\n",
    "ax1.axvline(shift_time, color=\"black\", linestyle=\"--\", label=\"Start slew\")\n",
    "plt.subplot(1,2,2)\n",
    "ax2 = el['actualPosition'].plot(legend=True, color='green')\n",
    "ax2.axvline(shift_time, color=\"black\", linestyle=\"--\", label=\"Start slew\")\n"
   ]
  },
  {
   "cell_type": "code",
   "execution_count": null,
   "metadata": {
    "execution": {
     "iopub.execute_input": "2023-01-27T15:43:40.390735Z",
     "iopub.status.busy": "2023-01-27T15:43:40.390056Z",
     "iopub.status.idle": "2023-01-27T15:43:41.178691Z",
     "shell.execute_reply": "2023-01-27T15:43:41.178133Z",
     "shell.execute_reply.started": "2023-01-27T15:43:40.390716Z"
    },
    "tags": []
   },
   "outputs": [],
   "source": [
    "# Plotting the mount plots\n",
    "%matplotlib inline\n",
    "track_counter = 4 # This chooses one of the tracking times\n",
    "start = Time(\"2023-01-26T05:21:07.5\", scale='utc')\n",
    "end = Time(\"2023-01-26T05:21:45\", scale='utc')\n",
    "label = ''.join(filter(lambda x: x not in \"-:.\", str(start.isot)))\n",
    "az = await client.select_time_series('lsst.sal.MTMount.azimuth', \\\n",
    "                                            ['actualPosition', 'timestamp'],  start, end)\n",
    "el = await client.select_time_series('lsst.sal.MTMount.elevation', \\\n",
    "                                            ['actualPosition', 'timestamp'],  start, end)    \n",
    "# Calculate the tracking errors\n",
    "az_vals = np.array(az.values[:,0])\n",
    "el_vals = np.array(el.values[:,0])\n",
    "times_az = az.values[:,1]\n",
    "times_el = el.values[:,1]\n",
    "# The fits are much better if the time variable\n",
    "# is centered in the interval\n",
    "time_delta_az = times_az[int(len(az.values) / 2)]\n",
    "time_delta_el = times_el[int(len(el.values) / 2)]\n",
    "fit_times_az = [(times_az[i]-time_delta_az) for i in range(len(times_az))]\n",
    "fit_times_el = [(times_el[i]-time_delta_el) for i in range(len(times_el))]\n",
    "\n",
    "# Fit with a polynomial\n",
    "az_fit = np.polyfit(fit_times_az[20:-1], az_vals[20:-1], 4)\n",
    "el_fit = np.polyfit(fit_times_el[20:-1], el_vals[20:-1], 4)\n",
    "az_model = np.polyval(az_fit, fit_times_az)\n",
    "el_model = np.polyval(el_fit, fit_times_el)\n",
    "\n",
    "# Errors in arcseconds\n",
    "az_error = (az_vals - az_model) * 3600\n",
    "el_error = (el_vals - el_model) * 3600\n",
    "for i in range(len(az_error)):\n",
    "    if (abs(az_error[i]) < 0.005) and (abs(el_error[i]) < 0.005):\n",
    "        settled = fit_times_az[i]\n",
    "        break\n",
    "settled_time =  Time(settled + time_delta_az, format='unix_tai', scale='utc').isot   \n",
    "print(settled)\n",
    "\n",
    "# Calculate RMS\n",
    "az_rms = np.sqrt(np.mean(az_error * az_error))\n",
    "el_rms = np.sqrt(np.mean(el_error * el_error))\n",
    "\n",
    "# Calculate Image impact RMS\n",
    "# We are less sensitive to Az errors near the zenith\n",
    "image_az_rms = az_rms * np.cos(el_vals[0] * np.pi / 180.0)\n",
    "image_el_rms = el_rms \n",
    "\n",
    "fig = plt.figure(figsize = (8,8))\n",
    "plt.subplots_adjust(wspace=0.3, hspace=0.5)\n",
    "plt.suptitle(f\"MT Mount Jitter - 20221214\", fontsize = 18)\n",
    "plt.subplot(2,2,1)\n",
    "ax1 = az['actualPosition'].plot(legend=True, color='red')\n",
    "ax1.axvline(settled_time, color=\"black\", linestyle=\"--\", label=\"Settled\")\n",
    "ax1.set_title(\"Azimuth\")\n",
    "ax1.set_ylabel(\"Degrees\")\n",
    "plt.subplot(2,2,2)\n",
    "ax3 = el['actualPosition'].plot(legend=True, color='green')\n",
    "ax3.axvline(settled_time, color=\"black\", linestyle=\"--\", label=\"Settled\")\n",
    "ax3.set_title(\"Elevation\")\n",
    "ax3.set_ylabel(\"Degrees\")\n",
    "\n",
    "plt.subplot(2,2,3)\n",
    "plt.plot(fit_times_az, az_error, color='red')\n",
    "plt.plot([settled, settled],[-0.5,0.5], ls='--', color='black')\n",
    "plt.title(f\"Azimuth RMS error = {az_rms:.2f} arcseconds\\n\"\n",
    "          f\"  Image RMS error = {image_az_rms:.2f} arcseconds\", fontsize=10)\n",
    "plt.ylim(-0.5,0.5)\n",
    "plt.xticks([])\n",
    "plt.ylabel(\"ArcSeconds\")\n",
    "plt.subplot(2,2,4)\n",
    "plt.plot(fit_times_el, el_error, color='green')\n",
    "plt.plot([settled, settled],[-0.5,0.5], ls='--', color='black')\n",
    "plt.title(f\"Elevation RMS error = {el_rms:.2f} arcseconds\\n\"\n",
    "          f\"  Image RMS error = {image_el_rms:.2f} arcseconds\", fontsize=10)\n",
    "plt.ylim(-0.5,0.5)\n",
    "plt.xticks([])\n",
    "plt.ylabel(\"ArcSeconds\")\n",
    "#plt.savefig(f\"/home/craiglagegit/DATA/MT_Mount_Jitter_{label}.pdf\")\n",
    "\n"
   ]
  },
  {
   "cell_type": "code",
   "execution_count": null,
   "metadata": {
    "execution": {
     "iopub.execute_input": "2023-01-27T19:18:40.714786Z",
     "iopub.status.busy": "2023-01-27T19:18:40.714520Z",
     "iopub.status.idle": "2023-01-27T19:18:46.864596Z",
     "shell.execute_reply": "2023-01-27T19:18:46.863972Z",
     "shell.execute_reply.started": "2023-01-27T19:18:40.714769Z"
    },
    "tags": []
   },
   "outputs": [],
   "source": [
    "# Now let's try to expand it to the whole run\n",
    "start = Time(\"2023-01-26T06:51:00\", scale='utc')\n",
    "end = Time(\"2023-01-26T09:50:00\", scale='utc')\n",
    "#start = Time(\"2023-01-26T08:09:00\", scale='utc')\n",
    "#end = Time(\"2023-01-26T08:51:00\", scale='utc')\n",
    "\n",
    "az = await client.select_time_series('lsst.sal.MTMount.azimuth', \\\n",
    "                                            ['actualPosition', 'timestamp'],  start, end)\n",
    "el = await client.select_time_series('lsst.sal.MTMount.elevation', \\\n",
    "                                            ['actualPosition', 'timestamp'],  start, end)    \n",
    "\n",
    "az_track = await client.select_time_series('lsst.sal.MTMount.command_trackTarget', \\\n",
    "                                            ['azimuth', 'taiTime'],  start, end)\n",
    "el_track = await client.select_time_series('lsst.sal.MTMount.command_trackTarget', \\\n",
    "                                            ['elevation', 'taiTime'],  start, end)   \n",
    "print(len(az_track), len(el_track))"
   ]
  },
  {
   "cell_type": "code",
   "execution_count": null,
   "metadata": {
    "execution": {
     "iopub.execute_input": "2023-01-27T19:18:52.255315Z",
     "iopub.status.busy": "2023-01-27T19:18:52.254653Z",
     "iopub.status.idle": "2023-01-27T19:18:52.272399Z",
     "shell.execute_reply": "2023-01-27T19:18:52.271804Z",
     "shell.execute_reply.started": "2023-01-27T19:18:52.255296Z"
    },
    "tags": []
   },
   "outputs": [],
   "source": [
    "azPos = await client.select_time_series('lsst.sal.MTMount.logevent_azimuthInPosition', \\\n",
    "                                            ['inPosition', 'private_efdStamp'],  start, end)\n",
    "azPos = azPos[azPos['inPosition']] # Select only the True values\n",
    "elPos = await client.select_time_series('lsst.sal.MTMount.logevent_elevationInPosition', \\\n",
    "                                            ['inPosition', 'private_efdStamp'],  start, end)\n",
    "elPos = elPos[elPos['inPosition']] # Select only the True values\n",
    "print(len(azPos), len(elPos))"
   ]
  },
  {
   "cell_type": "code",
   "execution_count": null,
   "metadata": {
    "execution": {
     "iopub.execute_input": "2023-01-27T19:31:01.653067Z",
     "iopub.status.busy": "2023-01-27T19:31:01.652546Z",
     "iopub.status.idle": "2023-01-27T19:31:01.873514Z",
     "shell.execute_reply": "2023-01-27T19:31:01.872895Z",
     "shell.execute_reply.started": "2023-01-27T19:31:01.653046Z"
    },
    "tags": []
   },
   "outputs": [],
   "source": [
    "azs = az_track.values[:,0]\n",
    "els = el_track.values[:,0]\n",
    "times = az_track.values[:,1]\n",
    "start_slew_times_1 = []\n",
    "slew_dist_1 = []\n",
    "slew_times_1 = []\n",
    "for i in range(1,len(az_track)):\n",
    "    az_shift = abs(azs[i] - azs[i-1])\n",
    "    el_shift = abs(els[i] - els[i-1])\n",
    "    if (az_shift > 0.1) or (el_shift > 0.1):\n",
    "        start_slew_times_1.append(times[i])\n",
    "        az_shift_mod = az_shift * np.cos(els[i]*np.pi/180.0)\n",
    "        shift = np.sqrt(el_shift*el_shift + az_shift_mod*az_shift_mod)\n",
    "        slew_dist_1.append(shift)\n",
    "print(len(start_slew_times_1))\n",
    "\n",
    "\n",
    "inPos_1 = []\n",
    "azPosValues = azPos.values[:,1]\n",
    "elPosValues = elPos.values[:,1]\n",
    "\n",
    "for i in range(len(azPos)):\n",
    "    if azPosValues[i] > elPosValues[i]:\n",
    "        inPos_1.append(azPosValues[i])\n",
    "    else:\n",
    "        inPos_1.append(elPosValues[i])\n",
    "\n",
    "print(len(inPos_1))\n",
    "# Now pair them up\n",
    "pairMin = 8.0\n",
    "pairMax = 17.0\n",
    "\n",
    "start_slew_times = []\n",
    "slew_dist = []\n",
    "slew_times = []\n",
    "inPos = []\n",
    "\n",
    "for i in range(len(start_slew_times_1)):\n",
    "    for j in range(len(inPos_1)):\n",
    "        deltaT = inPos_1[j] - start_slew_times_1[i] \n",
    "        if deltaT > pairMin and deltaT < pairMax:\n",
    "            inPos.append(inPos_1[j])\n",
    "            start_slew_times.append(start_slew_times_1[i])\n",
    "            slew_times.append(deltaT)\n",
    "            slew_dist.append(slew_dist_1[i])\n",
    "        \n",
    "print(len(inPos), len(start_slew_times), len(slew_times), len(slew_dist))"
   ]
  },
  {
   "cell_type": "code",
   "execution_count": null,
   "metadata": {
    "execution": {
     "iopub.execute_input": "2023-01-27T19:31:05.216684Z",
     "iopub.status.busy": "2023-01-27T19:31:05.215908Z",
     "iopub.status.idle": "2023-01-27T19:31:05.406579Z",
     "shell.execute_reply": "2023-01-27T19:31:05.405931Z",
     "shell.execute_reply.started": "2023-01-27T19:31:05.216664Z"
    },
    "tags": []
   },
   "outputs": [],
   "source": [
    "plt.subplots_adjust(wspace=0.5)\n",
    "plt.subplot(1,2,1)\n",
    "plt.hist(slew_times)\n",
    "plt.xlabel(\"Slew time (seconds)\")\n",
    "plt.xlim(10.0, 20.0)\n",
    "plt.subplot(1,2,2)\n",
    "plt.scatter(slew_dist, slew_times)\n",
    "plt.ylabel(\"Slew and settle time(sec)\")\n",
    "plt.xlabel(\"Slew distance (degrees)\")"
   ]
  },
  {
   "cell_type": "code",
   "execution_count": null,
   "metadata": {
    "execution": {
     "iopub.execute_input": "2023-01-27T18:56:05.375397Z",
     "iopub.status.busy": "2023-01-27T18:56:05.375038Z",
     "iopub.status.idle": "2023-01-27T18:56:05.387279Z",
     "shell.execute_reply": "2023-01-27T18:56:05.386784Z",
     "shell.execute_reply.started": "2023-01-27T18:56:05.375379Z"
    },
    "jupyter": {
     "outputs_hidden": true
    },
    "tags": []
   },
   "outputs": [],
   "source": [
    "for i, start_slew_time in enumerate(start_slew_times):\n",
    "    print(i, start_slew_times[i+1]-start_slew_time, slew_dist[i])\n",
    "               "
   ]
  },
  {
   "cell_type": "code",
   "execution_count": null,
   "metadata": {
    "execution": {
     "iopub.execute_input": "2023-01-27T19:36:58.634219Z",
     "iopub.status.busy": "2023-01-27T19:36:58.633928Z",
     "iopub.status.idle": "2023-01-27T19:37:02.319713Z",
     "shell.execute_reply": "2023-01-27T19:37:02.319188Z",
     "shell.execute_reply.started": "2023-01-27T19:36:58.634200Z"
    },
    "tags": []
   },
   "outputs": [],
   "source": [
    "delta1 = 0\n",
    "delta = 120\n",
    "azPos_values = azPos.values[:,1]\n",
    "plt.subplot(1,1,1)\n",
    "ax1 = az['actualPosition'].plot(color='red')\n",
    "for start_slew_time in start_slew_times:\n",
    "    ss_time = Time(start_slew_time, format='unix_tai', scale='utc').isot  \n",
    "    ax1.axvline(ss_time, color=\"black\", linestyle=\"--\")\n",
    "for inP in inPos:\n",
    "    ip_time = Time(inP, format='unix_tai', scale='utc').isot  \n",
    "    ax1.axvline(ip_time, color=\"blue\", linestyle=\"--\")\n",
    "ax1.set_xlim((start+TimeDelta(delta1, format='sec')).isot, (start+TimeDelta(delta, format='sec')).isot)\n",
    "ax1.axvline(ss_time, color=\"black\", linestyle=\"--\", label=\"Start slew\")\n",
    "ax1.axvline(ip_time, color=\"blue\", linestyle=\"--\", label=\"InPosition\")\n",
    "#ax1.set_ylim(-80, -65)\n",
    "ax1.legend()"
   ]
  },
  {
   "cell_type": "code",
   "execution_count": null,
   "metadata": {
    "execution": {
     "iopub.execute_input": "2023-01-27T17:45:14.659803Z",
     "iopub.status.busy": "2023-01-27T17:45:14.659106Z",
     "iopub.status.idle": "2023-01-27T17:45:14.665140Z",
     "shell.execute_reply": "2023-01-27T17:45:14.664494Z",
     "shell.execute_reply.started": "2023-01-27T17:45:14.659778Z"
    },
    "tags": []
   },
   "outputs": [],
   "source": [
    "plotAz = az[(az['timestamp'] > inPos[index]) & (az['timestamp'] < start_slew_times[index+1])]\n",
    "print(len(plotAz))"
   ]
  },
  {
   "cell_type": "code",
   "execution_count": null,
   "metadata": {
    "execution": {
     "iopub.execute_input": "2023-01-27T18:44:16.954742Z",
     "iopub.status.busy": "2023-01-27T18:44:16.954412Z",
     "iopub.status.idle": "2023-01-27T18:44:17.425776Z",
     "shell.execute_reply": "2023-01-27T18:44:17.425235Z",
     "shell.execute_reply.started": "2023-01-27T18:44:16.954724Z"
    },
    "tags": []
   },
   "outputs": [],
   "source": [
    "# Plotting the mount plots\n",
    "\n",
    "index = 69\n",
    "plotAz = az[(az['timestamp'] > inPos[index]) & (az['timestamp'] < start_slew_times[index])]\n",
    "plotEl = el[(el['timestamp'] > inPos[index]) & (el['timestamp'] < start_slew_times[index])]\n",
    "ss_time = Time(start_slew_times[index], format='unix_tai', scale='utc').isot\n",
    "ip_time = Time(inPos[index], format='unix_tai', scale='utc').isot\n",
    "\n",
    "\n",
    "# Calculate the tracking errors\n",
    "az_vals = np.array(plotAz.values[:,0])\n",
    "el_vals = np.array(plotEl.values[:,0])\n",
    "times_az = plotAz.values[:,1]\n",
    "times_el = plotEl.values[:,1]\n",
    "# The fits are much better if the time variable\n",
    "# is centered in the interval\n",
    "time_delta_az = times_az[int(len(plotAz.values) / 2)]\n",
    "time_delta_el = times_el[int(len(plotEl.values) / 2)]\n",
    "fit_times_az = [(times_az[i]-time_delta_az) for i in range(len(times_az))]\n",
    "fit_times_el = [(times_el[i]-time_delta_el) for i in range(len(times_el))]\n",
    "\n",
    "# Fit with a polynomial\n",
    "az_fit = np.polyfit(fit_times_az, az_vals, 4)\n",
    "el_fit = np.polyfit(fit_times_el, el_vals, 4)\n",
    "az_model = np.polyval(az_fit, fit_times_az)\n",
    "el_model = np.polyval(el_fit, fit_times_el)\n",
    "\n",
    "# Errors in arcseconds\n",
    "az_error = (az_vals - az_model) * 3600\n",
    "el_error = (el_vals - el_model) * 3600\n",
    "\n",
    "# Calculate RMS\n",
    "az_rms = np.sqrt(np.mean(az_error * az_error))\n",
    "el_rms = np.sqrt(np.mean(el_error * el_error))\n",
    "\n",
    "# Calculate Image impact RMS\n",
    "# We are less sensitive to Az errors near the zenith\n",
    "image_az_rms = az_rms * np.cos(el_vals[0] * np.pi / 180.0)\n",
    "image_el_rms = el_rms \n",
    "\n",
    "fig = plt.figure(figsize = (8,8))\n",
    "plt.subplots_adjust(wspace=0.3, hspace=0.5)\n",
    "plt.suptitle(f\"MT Mount Jitter - {ip_time}\", fontsize = 18)\n",
    "plt.subplot(2,2,1)\n",
    "ax1 = plotAz['actualPosition'].plot(legend=True, color='red')\n",
    "ax1.axvline(ss_time, color=\"black\", linestyle=\"--\", label=\"Start slew\")\n",
    "ax1.axvline(ip_time, color=\"blue\", linestyle=\"--\", label=\"InPosition\")\n",
    "ax1.set_title(\"Azimuth\")\n",
    "ax1.set_ylabel(\"Degrees\")\n",
    "ax1.legend()\n",
    "plt.subplot(2,2,2)\n",
    "ax3 = plotEl['actualPosition'].plot(legend=True, color='green')\n",
    "ax3.axvline(ss_time, color=\"black\", linestyle=\"--\", label=\"Start slew\")\n",
    "ax3.axvline(ip_time, color=\"blue\", linestyle=\"--\", label=\"InPosition\")\n",
    "ax3.set_title(\"Elevation\")\n",
    "ax3.set_ylabel(\"Degrees\")\n",
    "ax3.legend()\n",
    "plt.subplot(2,2,3)\n",
    "plt.plot(fit_times_az, az_error, color='red')\n",
    "plt.title(f\"Azimuth RMS error = {az_rms:.3f} arcseconds\\n\"\n",
    "          f\"  Image RMS error = {image_az_rms:.3f} arcseconds\", fontsize=10)\n",
    "plt.ylim(-0.2,0.2)\n",
    "plt.xticks([])\n",
    "plt.ylabel(\"ArcSeconds\")\n",
    "plt.subplot(2,2,4)\n",
    "plt.plot(fit_times_el, el_error, color='green')\n",
    "plt.title(f\"Elevation RMS error = {el_rms:.3f} arcseconds\\n\"\n",
    "          f\"  Image RMS error = {image_el_rms:.3f} arcseconds\", fontsize=10)\n",
    "plt.ylim(-0.2,0.2)\n",
    "plt.xticks([])\n",
    "plt.ylabel(\"ArcSeconds\")\n",
    "#plt.savefig(f\"/home/craiglagegit/DATA/MT_Mount_Jitter_{label}.pdf\")\n",
    "\n"
   ]
  },
  {
   "cell_type": "code",
   "execution_count": null,
   "metadata": {},
   "outputs": [],
   "source": []
  }
 ],
 "metadata": {
  "kernelspec": {
   "display_name": "LSST",
   "language": "python",
   "name": "lsst"
  },
  "language_info": {
   "codemirror_mode": {
    "name": "ipython",
    "version": 3
   },
   "file_extension": ".py",
   "mimetype": "text/x-python",
   "name": "python",
   "nbconvert_exporter": "python",
   "pygments_lexer": "ipython3",
   "version": "3.10.6"
  }
 },
 "nbformat": 4,
 "nbformat_minor": 4
}
