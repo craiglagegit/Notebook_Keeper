{
 "cells": [
  {
   "cell_type": "markdown",
   "metadata": {},
   "source": [
    "## StarTracker Coordinate Check - 08-Mar-23\n",
    "\n",
    "Craig Lage - Double checking coordinate transformations"
   ]
  },
  {
   "cell_type": "code",
   "execution_count": null,
   "metadata": {
    "execution": {
     "iopub.execute_input": "2023-03-10T10:30:15.681060Z",
     "iopub.status.busy": "2023-03-10T10:30:15.680794Z",
     "iopub.status.idle": "2023-03-10T10:30:15.684335Z",
     "shell.execute_reply": "2023-03-10T10:30:15.683964Z",
     "shell.execute_reply.started": "2023-03-10T10:30:15.681044Z"
    },
    "tags": []
   },
   "outputs": [],
   "source": [
    "import sys, time, os, asyncio, glob\n",
    "from datetime import datetime\n",
    "import numpy as np\n",
    "import matplotlib.pyplot as plt\n",
    "import pandas as pd\n",
    "import astropy.io.fits as pf\n",
    "from astropy.time import Time, TimeDelta\n",
    "from astropy.coordinates import AltAz, ICRS, EarthLocation, Angle, FK5, SkyCoord\n",
    "import astropy.units as u\n",
    "from lsst.obs.lsst.translators.latiss import AUXTEL_LOCATION\n",
    "from lsst.obs.lsst.translators.lsst import SIMONYI_LOCATION"
   ]
  },
  {
   "cell_type": "code",
   "execution_count": null,
   "metadata": {
    "execution": {
     "iopub.execute_input": "2023-03-09T12:50:49.185826Z",
     "iopub.status.busy": "2023-03-09T12:50:49.185557Z",
     "iopub.status.idle": "2023-03-09T12:50:49.190355Z",
     "shell.execute_reply": "2023-03-09T12:50:49.189797Z",
     "shell.execute_reply.started": "2023-03-09T12:50:49.185810Z"
    },
    "tags": []
   },
   "outputs": [],
   "source": [
    "print(SIMONYI_LOCATION.lat.deg, SIMONYI_LOCATION.lon.deg)"
   ]
  },
  {
   "cell_type": "code",
   "execution_count": null,
   "metadata": {
    "execution": {
     "iopub.execute_input": "2023-03-10T11:14:37.853971Z",
     "iopub.status.busy": "2023-03-10T11:14:37.853706Z",
     "iopub.status.idle": "2023-03-10T11:14:37.857239Z",
     "shell.execute_reply": "2023-03-10T11:14:37.856860Z",
     "shell.execute_reply.started": "2023-03-10T11:14:37.853955Z"
    },
    "tags": []
   },
   "outputs": [],
   "source": [
    "tcsLocation = EarthLocation.from_geodetic(\n",
    "            lon=-70.747698 * u.deg, lat=-30.244728 * u.deg, height=2663.0 * u.m)"
   ]
  },
  {
   "cell_type": "code",
   "execution_count": null,
   "metadata": {
    "execution": {
     "iopub.execute_input": "2023-03-09T12:55:43.804213Z",
     "iopub.status.busy": "2023-03-09T12:55:43.803935Z",
     "iopub.status.idle": "2023-03-09T12:55:43.809229Z",
     "shell.execute_reply": "2023-03-09T12:55:43.808734Z",
     "shell.execute_reply.started": "2023-03-09T12:55:43.804195Z"
    }
   },
   "outputs": [],
   "source": [
    "(SIMONYI_LOCATION.lon.deg - tcsLocation.lon.deg) * 3600.0"
   ]
  },
  {
   "cell_type": "code",
   "execution_count": null,
   "metadata": {
    "execution": {
     "iopub.execute_input": "2023-03-09T13:04:50.734667Z",
     "iopub.status.busy": "2023-03-09T13:04:50.734397Z",
     "iopub.status.idle": "2023-03-09T13:04:50.739506Z",
     "shell.execute_reply": "2023-03-09T13:04:50.739030Z",
     "shell.execute_reply.started": "2023-03-09T13:04:50.734650Z"
    }
   },
   "outputs": [],
   "source": [
    "(SIMONYI_LOCATION.lat.deg - tcsLocation.lat.deg) * 3600.0"
   ]
  },
  {
   "cell_type": "code",
   "execution_count": null,
   "metadata": {
    "execution": {
     "iopub.execute_input": "2023-03-10T15:03:37.405831Z",
     "iopub.status.busy": "2023-03-10T15:03:37.405564Z",
     "iopub.status.idle": "2023-03-10T15:03:37.409511Z",
     "shell.execute_reply": "2023-03-10T15:03:37.409122Z",
     "shell.execute_reply.started": "2023-03-10T15:03:37.405814Z"
    },
    "tags": []
   },
   "outputs": [],
   "source": [
    "def  readRubinTV_json(date, camera):\n",
    "    year = int(date/10000)\n",
    "    month = int((date - 10000 * year)/100)\n",
    "    day = int((date - 10000 * year - 100 * month))\n",
    "    if camera == 'Wide':\n",
    "        filename = f'/scratch/cslage/starTracker/startracker-wide_{year}-{month:02}-{day:02}.json'\n",
    "    elif camera == 'Narrow':\n",
    "        filename = f'/scratch/cslage/starTracker/startracker_{year}-{month:02}-{day:02}.json'\n",
    "    elif camera == 'AuxTel':\n",
    "        filename = f'/scratch/cslage/starTracker/auxtel_{year}-{month:02}-{day:02}.json'\n",
    "    df = pd.read_json(filename)\n",
    "    df = df.transpose()\n",
    "    print(filename)\n",
    "    return df"
   ]
  },
  {
   "cell_type": "code",
   "execution_count": null,
   "metadata": {
    "execution": {
     "iopub.execute_input": "2023-03-10T15:03:39.206055Z",
     "iopub.status.busy": "2023-03-10T15:03:39.205789Z",
     "iopub.status.idle": "2023-03-10T15:03:39.405569Z",
     "shell.execute_reply": "2023-03-10T15:03:39.405142Z",
     "shell.execute_reply.started": "2023-03-10T15:03:39.206039Z"
    },
    "tags": []
   },
   "outputs": [],
   "source": [
    "[camera, num] = ['Narrow', 102]\n",
    "date = 20230307\n",
    "year = int(date/10000)\n",
    "month = int((date - 10000 * year)/100)\n",
    "day = int((date - 10000 * year - 100 * month))\n",
    "df = readRubinTV_json(date, camera)"
   ]
  },
  {
   "cell_type": "code",
   "execution_count": null,
   "metadata": {
    "execution": {
     "iopub.execute_input": "2023-03-08T19:15:41.988962Z",
     "iopub.status.busy": "2023-03-08T19:15:41.988690Z",
     "iopub.status.idle": "2023-03-08T19:15:42.016637Z",
     "shell.execute_reply": "2023-03-08T19:15:42.016148Z",
     "shell.execute_reply.started": "2023-03-08T19:15:41.988945Z"
    },
    "tags": []
   },
   "outputs": [],
   "source": [
    "row = df.loc[11]\n",
    "# First check the header values\n",
    "# First go from RA/Dec to AltAz\n",
    "skyLocation = SkyCoord(row['Ra']*u.deg, row['Dec']*u.deg)\n",
    "time = Time(row['MJD'], format='mjd', scale='tai')\n",
    "altAz1 = AltAz(obstime=time, location=SIMONYI_LOCATION)\n",
    "obsAltAz1 = skyLocation.transform_to(altAz1)\n",
    "print(f\"Header AltAz values =             ({row['Alt']}, {row['Az']})\")\n",
    "print(f\"AltAz from header Ra/Dec values = ({obsAltAz1.alt.deg}, {obsAltAz1.az.deg})\")\n",
    "# Now go the other way\n",
    "altAz2 = SkyCoord(AltAz(alt=row['Alt']*u.deg, az=row['Az']*u.deg, obstime=time, location=SIMONYI_LOCATION))\n",
    "RaDec = altAz2.transform_to(ICRS)\n",
    "print(f\"Header RA/Dec values =            ({row['Ra']}, {row['Dec']})\")\n",
    "print(f\"RA/Dec from header AltAz values = ({RaDec.ra.deg}, {RaDec.dec.deg})\")\n",
    "print()\n",
    "\n",
    "# Now check the calculated values\n",
    "# First go from RA/Dec to AltAz\n",
    "skyLocation = SkyCoord(row['Calculated Ra']*u.deg, row['Calculated Dec']*u.deg)\n",
    "time = Time(row['MJD'], format='mjd', scale='tai')\n",
    "altAz1 = AltAz(obstime=time, location=SIMONYI_LOCATION)\n",
    "obsAltAz1 = skyLocation.transform_to(altAz1)\n",
    "print(f\"Calculated AltAz values =             ({row['Calculated Alt']}, {row['Calculated Az']})\")\n",
    "print(f\"AltAz from calculated Ra/Dec values = ({obsAltAz1.alt.deg}, {obsAltAz1.az.deg})\")\n",
    "# Now go the other way\n",
    "altAz2 = SkyCoord(AltAz(alt=row['Calculated Alt']*u.deg, az=row['Calculated Az']*u.deg, obstime=time, location=SIMONYI_LOCATION))\n",
    "RaDec = altAz2.transform_to(ICRS)\n",
    "print(f\"Calculated RA/Dec values =            ({row['Calculated Ra']}, {row['Calculated Dec']})\")\n",
    "print(f\"RA/Dec from calculated AltAz values = ({RaDec.ra.deg}, {RaDec.dec.deg})\")\n"
   ]
  },
  {
   "cell_type": "code",
   "execution_count": null,
   "metadata": {
    "execution": {
     "iopub.execute_input": "2023-03-10T15:05:31.904841Z",
     "iopub.status.busy": "2023-03-10T15:05:31.904575Z",
     "iopub.status.idle": "2023-03-10T15:05:31.922081Z",
     "shell.execute_reply": "2023-03-10T15:05:31.921670Z",
     "shell.execute_reply.started": "2023-03-10T15:05:31.904825Z"
    }
   },
   "outputs": [],
   "source": [
    "row = df.loc[11]\n",
    "# Now check the calculated values\n",
    "# First go from RA/Dec to AltAz\n",
    "skyLocation = SkyCoord(row['Calculated Ra']*u.deg, row['Calculated Dec']*u.deg)\n",
    "time = Time(row['MJD'], format='mjd', scale='tai')\n",
    "altAz1 = AltAz(obstime=time, location=SIMONYI_LOCATION)\n",
    "obsAltAz1 = skyLocation.transform_to(altAz1)\n",
    "print(f\"Calculated AltAz values =             ({row['Calculated Alt']}, {row['Calculated Az']})\")\n",
    "print(f\"AltAz from calculated Ra/Dec values = ({obsAltAz1.alt.deg}, {obsAltAz1.az.deg})\")\n",
    "deltaAlt = (row['Calculated Alt'] - obsAltAz1.alt.deg) * 3600.0\n",
    "deltaAz = (row['Calculated Az'] - obsAltAz1.az.deg) * 3600.0\n",
    "print(f\"DeltaAlt = {deltaAlt:.1f} arcseconds, DeltaAz = {deltaAz:.1f} arcseconds\")\n",
    "print()\n",
    "\n",
    "# Now go the other way\n",
    "altAz2 = SkyCoord(AltAz(alt=row['Calculated Alt']*u.deg, az=row['Calculated Az']*u.deg, obstime=time, location=SIMONYI_LOCATION))\n",
    "RaDec = altAz2.transform_to(ICRS)\n",
    "print(f\"Calculated RA/Dec values =            ({row['Calculated Ra']}, {row['Calculated Dec']})\")\n",
    "print(f\"RA/Dec from calculated AltAz values = ({RaDec.ra.deg}, {RaDec.dec.deg})\")\n",
    "deltaRA = (row['Calculated Ra'] - RaDec.ra.deg) * 3600.0\n",
    "deltaDec = (row['Calculated Dec'] - RaDec.dec.deg) * 3600.0\n",
    "print(f\"DeltaRA = {deltaRA:.1f} arcseconds, DeltaDec = {deltaDec:.1f} arcseconds\")\n"
   ]
  },
  {
   "cell_type": "code",
   "execution_count": null,
   "metadata": {
    "execution": {
     "iopub.execute_input": "2023-03-08T19:28:14.514539Z",
     "iopub.status.busy": "2023-03-08T19:28:14.514256Z",
     "iopub.status.idle": "2023-03-08T19:28:14.594285Z",
     "shell.execute_reply": "2023-03-08T19:28:14.593815Z",
     "shell.execute_reply.started": "2023-03-08T19:28:14.514522Z"
    }
   },
   "outputs": [],
   "source": [
    "camera = 'AuxTel'\n",
    "date = 20230302\n",
    "year = int(date/10000)\n",
    "month = int((date - 10000 * year)/100)\n",
    "day = int((date - 10000 * year - 100 * month))\n",
    "df = readRubinTV_json(date, camera)"
   ]
  },
  {
   "cell_type": "code",
   "execution_count": null,
   "metadata": {
    "execution": {
     "iopub.execute_input": "2023-03-08T19:35:15.785252Z",
     "iopub.status.busy": "2023-03-08T19:35:15.784981Z",
     "iopub.status.idle": "2023-03-08T19:35:15.795390Z",
     "shell.execute_reply": "2023-03-08T19:35:15.794834Z",
     "shell.execute_reply.started": "2023-03-08T19:35:15.785235Z"
    },
    "tags": []
   },
   "outputs": [],
   "source": [
    "row = df.loc[151]\n",
    "# First check the header values\n",
    "# First go from RA/Dec to AltAz\n",
    "skyLocation = SkyCoord(row['RA']*u.deg, row['Dec']*u.deg)\n",
    "time = Time(f\"{year}-{month:02}-{day:02}T{row['TAI']}\", scale='tai')\n",
    "altAz1 = AltAz(obstime=time, location=AUXTEL_LOCATION)\n",
    "obsAltAz1 = skyLocation.transform_to(altAz1)\n",
    "print(\"AuxTel\")\n",
    "print(f\"Header AltAz values =             ({row['Altitude']}, {row['Azimuth']})\")\n",
    "print(f\"AltAz from header Ra/Dec values = ({obsAltAz1.alt.deg}, {obsAltAz1.az.deg})\")\n"
   ]
  },
  {
   "cell_type": "code",
   "execution_count": null,
   "metadata": {
    "execution": {
     "iopub.execute_input": "2023-03-09T13:05:44.653766Z",
     "iopub.status.busy": "2023-03-09T13:05:44.653498Z",
     "iopub.status.idle": "2023-03-09T13:05:45.615163Z",
     "shell.execute_reply": "2023-03-09T13:05:45.614573Z",
     "shell.execute_reply.started": "2023-03-09T13:05:44.653749Z"
    },
    "tags": []
   },
   "outputs": [],
   "source": [
    "from lsst.daf.butler import Butler\n",
    "butler = Butler('/repo/LATISS', collections=[\"LATISS/raw/all\", \"LATISS/calib\"])"
   ]
  },
  {
   "cell_type": "code",
   "execution_count": null,
   "metadata": {
    "execution": {
     "iopub.execute_input": "2023-03-08T20:30:38.270506Z",
     "iopub.status.busy": "2023-03-08T20:30:38.270131Z",
     "iopub.status.idle": "2023-03-08T20:30:38.302125Z",
     "shell.execute_reply": "2023-03-08T20:30:38.301499Z",
     "shell.execute_reply.started": "2023-03-08T20:30:38.270488Z"
    },
    "tags": []
   },
   "outputs": [],
   "source": [
    "expId = 2023030200099\n",
    "mData = butler.get('raw.metadata', detector=0, exposure=expId)\n",
    "skyLocation = SkyCoord(mData['RASTART']*u.deg, mData['DECSTART']*u.deg)\n",
    "time = Time(mData['DATE-BEG'], scale='tai')\n",
    "altAz1 = AltAz(obstime=time, location=AUXTEL_LOCATION)\n",
    "obsAltAz1 = skyLocation.transform_to(altAz1)\n",
    "print(f\"AuxTel - {expId}\")\n",
    "print(f\"Header AltAz values =             ({mData['ELSTART']}, {mData['AZSTART']})\")\n",
    "print(f\"AltAz from header Ra/Dec values = ({obsAltAz1.alt.deg}, {obsAltAz1.az.deg})\")\n"
   ]
  },
  {
   "cell_type": "code",
   "execution_count": null,
   "metadata": {
    "execution": {
     "iopub.execute_input": "2023-03-08T20:17:56.090823Z",
     "iopub.status.busy": "2023-03-08T20:17:56.090548Z",
     "iopub.status.idle": "2023-03-08T20:17:56.413584Z",
     "shell.execute_reply": "2023-03-08T20:17:56.413072Z",
     "shell.execute_reply.started": "2023-03-08T20:17:56.090806Z"
    },
    "tags": []
   },
   "outputs": [],
   "source": [
    "expId = 2023030200099\n",
    "exp = butler.get('raw', detector=0, exposure=expId)\n",
    "wcs = exp.getWcs()\n",
    "print(wcs.getSkyOrigin())\n",
    "print(mData['RASTART'], mData['DECSTART'])"
   ]
  },
  {
   "cell_type": "code",
   "execution_count": null,
   "metadata": {
    "execution": {
     "iopub.execute_input": "2023-03-08T20:44:35.201041Z",
     "iopub.status.busy": "2023-03-08T20:44:35.200718Z",
     "iopub.status.idle": "2023-03-08T20:44:35.247345Z",
     "shell.execute_reply": "2023-03-08T20:44:35.246948Z",
     "shell.execute_reply.started": "2023-03-08T20:44:35.201022Z"
    },
    "tags": []
   },
   "outputs": [],
   "source": [
    "for expId in [2023030200099, 2023030200151]:\n",
    "    mData = butler.get('raw.metadata', detector=0, exposure=expId)\n",
    "    time = Time(mData['DATE-BEG'], scale='tai')\n",
    "    print(f\"{expId}, DATE-BEG = {time.isot}\")"
   ]
  },
  {
   "cell_type": "code",
   "execution_count": null,
   "metadata": {
    "execution": {
     "iopub.execute_input": "2023-03-09T13:24:16.782727Z",
     "iopub.status.busy": "2023-03-09T13:24:16.782431Z",
     "iopub.status.idle": "2023-03-09T13:24:16.785995Z",
     "shell.execute_reply": "2023-03-09T13:24:16.785618Z",
     "shell.execute_reply.started": "2023-03-09T13:24:16.782711Z"
    },
    "tags": []
   },
   "outputs": [],
   "source": [
    "bogusLocation=EarthLocation.from_geodetic(\n",
    "            lon=-70.749417 * u.deg, lat=-30.244639 * u.deg, height=2665.0 * u.m)\n",
    "#-30.244639 -70.749417"
   ]
  },
  {
   "cell_type": "code",
   "execution_count": null,
   "metadata": {
    "execution": {
     "iopub.execute_input": "2023-03-09T14:03:32.003556Z",
     "iopub.status.busy": "2023-03-09T14:03:32.003281Z",
     "iopub.status.idle": "2023-03-09T14:03:32.038168Z",
     "shell.execute_reply": "2023-03-09T14:03:32.037618Z",
     "shell.execute_reply.started": "2023-03-09T14:03:32.003539Z"
    },
    "tags": []
   },
   "outputs": [],
   "source": [
    "expId = 2023030200099\n",
    "mData = butler.get('raw.metadata', detector=0, exposure=expId)\n",
    "skyLocation = SkyCoord(mData['RASTART']*u.deg, mData['DECSTART']*u.deg, frame=FK5, equinox='J2022.25')\n",
    "time = Time(mData['DATE-BEG'], scale='tai') + TimeDelta(0.0, format='sec')\n",
    "altAz1 = AltAz(obstime=time, location=AUXTEL_LOCATION)\n",
    "obsAltAz1 = skyLocation.transform_to(altAz1)\n",
    "print(f\"AuxTel - {expId}\")\n",
    "print(f\"Header AltAz values =             ({mData['ELSTART']}, {mData['AZSTART']})\")\n",
    "print(f\"AltAz from header Ra/Dec values = ({obsAltAz1.alt.deg}, {obsAltAz1.az.deg})\")\n"
   ]
  },
  {
   "cell_type": "code",
   "execution_count": null,
   "metadata": {
    "execution": {
     "iopub.execute_input": "2023-03-10T10:32:52.996610Z",
     "iopub.status.busy": "2023-03-10T10:32:52.996335Z",
     "iopub.status.idle": "2023-03-10T10:32:53.299570Z",
     "shell.execute_reply": "2023-03-10T10:32:53.298972Z",
     "shell.execute_reply.started": "2023-03-10T10:32:52.996593Z"
    },
    "tags": []
   },
   "outputs": [],
   "source": [
    "filename = '/scratch/cslage/starTracker/startracker_2023-03-09.json'\n",
    "df = pd.read_json(filename)\n",
    "df = df.transpose()\n",
    "\n",
    "row = df.loc[1798]\n",
    "print(\"StarTracker Narrow 2023-03-09 SeqNum 1798\")\n",
    "print()\n",
    "for frame in [ICRS, FK5(equinox='J2023')]:\n",
    "    print(f\"Frame = {frame}\")\n",
    "    print()\n",
    "    skyLocation = SkyCoord(row['Ra']*u.deg, row['Dec']*u.deg, frame=frame)\n",
    "    time = Time(row['MJD'], format='mjd', scale='tai')\n",
    "    altAz1 = AltAz(obstime=time, location=SIMONYI_LOCATION)\n",
    "    obsAltAz1 = skyLocation.transform_to(altAz1)\n",
    "    print(f\"Header AltAz values =             ({row['Alt']}, {row['Az']})\")\n",
    "    print(f\"AltAz from header Ra/Dec values = ({obsAltAz1.alt.deg}, {obsAltAz1.az.deg})\")\n",
    "    deltaAlt = (row['Alt'] - obsAltAz1.alt.deg) * 3600.0\n",
    "    deltaAz = (row['Az'] - obsAltAz1.az.deg) * 3600.0\n",
    "    print(f\"DeltaAlt = {deltaAlt:.1f} arcseconds, DeltaAz = {deltaAz:.1f} arcseconds\")\n",
    "    print()\n",
    "    # Now go the other way\n",
    "    altAz2 = SkyCoord(AltAz(alt=row['Alt']*u.deg, az=row['Az']*u.deg, obstime=time, location=SIMONYI_LOCATION))\n",
    "    RaDec = altAz2.transform_to(frame)\n",
    "    print(f\"Header RA/Dec values =            ({row['Ra']}, {row['Dec']})\")\n",
    "    print(f\"RA/Dec from header AltAz values = ({RaDec.ra.deg}, {RaDec.dec.deg})\")\n",
    "    deltaRA = (row['Ra'] - RaDec.ra.deg) * 3600.0\n",
    "    deltaDec = (row['Dec'] - RaDec.dec.deg) * 3600.0\n",
    "    print(f\"DeltaRA = {deltaRA:.1f} arcseconds, DeltaDec = {deltaDec:.1f} arcseconds\")\n",
    "    print()\n"
   ]
  },
  {
   "cell_type": "code",
   "execution_count": null,
   "metadata": {
    "execution": {
     "iopub.execute_input": "2023-03-10T11:15:50.442961Z",
     "iopub.status.busy": "2023-03-10T11:15:50.442692Z",
     "iopub.status.idle": "2023-03-10T11:15:50.750674Z",
     "shell.execute_reply": "2023-03-10T11:15:50.750231Z",
     "shell.execute_reply.started": "2023-03-10T11:15:50.442945Z"
    },
    "tags": []
   },
   "outputs": [],
   "source": [
    "#Why is there still a ~10 arcsecond discrepancy?\n",
    "\n",
    "filename = '/scratch/cslage/starTracker/startracker_2023-03-09.json'\n",
    "df = pd.read_json(filename)\n",
    "df = df.transpose()\n",
    "location = tcsLocation\n",
    "row = df.loc[1798]\n",
    "print(\"StarTracker Narrow 2023-03-09 SeqNum 1798\")\n",
    "print()\n",
    "for frame in [ICRS, FK5(equinox='J2023')]:\n",
    "    print(f\"Frame = {frame}\")\n",
    "    print()\n",
    "    skyLocation = SkyCoord(row['Ra']*u.deg, row['Dec']*u.deg, frame=frame)\n",
    "    time = Time(row['MJD'], format='mjd', scale='tai') + TimeDelta(-2.0, format='sec')\n",
    "    altAz1 = AltAz(obstime=time, location=location)\n",
    "    obsAltAz1 = skyLocation.transform_to(altAz1)\n",
    "    print(f\"Header AltAz values =             ({row['Alt']}, {row['Az']})\")\n",
    "    print(f\"AltAz from header Ra/Dec values = ({obsAltAz1.alt.deg}, {obsAltAz1.az.deg})\")\n",
    "    deltaAlt = (row['Alt'] - obsAltAz1.alt.deg) * 3600.0\n",
    "    deltaAz = (row['Az'] - obsAltAz1.az.deg) * 3600.0\n",
    "    print(f\"DeltaAlt = {deltaAlt:.1f} arcseconds, DeltaAz = {deltaAz:.1f} arcseconds\")\n",
    "    print()\n",
    "    # Now go the other way\n",
    "    altAz2 = SkyCoord(AltAz(alt=row['Alt']*u.deg, az=row['Az']*u.deg, obstime=time, location=location))\n",
    "    RaDec = altAz2.transform_to(frame)\n",
    "    print(f\"Header RA/Dec values =            ({row['Ra']}, {row['Dec']})\")\n",
    "    print(f\"RA/Dec from header AltAz values = ({RaDec.ra.deg}, {RaDec.dec.deg})\")\n",
    "    deltaRA = (row['Ra'] - RaDec.ra.deg) * 3600.0\n",
    "    deltaDec = (row['Dec'] - RaDec.dec.deg) * 3600.0\n",
    "    print(f\"DeltaRA = {deltaRA:.1f} arcseconds, DeltaDec = {deltaDec:.1f} arcseconds\")\n",
    "    print()\n"
   ]
  },
  {
   "cell_type": "code",
   "execution_count": null,
   "metadata": {
    "execution": {
     "iopub.execute_input": "2023-03-09T15:06:48.643583Z",
     "iopub.status.busy": "2023-03-09T15:06:48.642905Z",
     "iopub.status.idle": "2023-03-09T15:06:48.680877Z",
     "shell.execute_reply": "2023-03-09T15:06:48.680311Z",
     "shell.execute_reply.started": "2023-03-09T15:06:48.643563Z"
    },
    "tags": []
   },
   "outputs": [],
   "source": [
    "expId = 2023030200099\n",
    "mData = butler.get('raw.metadata', detector=0, exposure=expId)\n",
    "print(f\"AuxTel - {expId}\")\n",
    "print()\n",
    "\n",
    "for frame in [ICRS, FK5(equinox='J2023')]:\n",
    "    print(f\"Frame = {frame}\")\n",
    "    skyLocation = SkyCoord(mData['RASTART']*u.deg, mData['DECSTART']*u.deg, frame=frame)\n",
    "    time = Time(mData['DATE-BEG'], scale='tai') + TimeDelta(0.0, format='sec')\n",
    "    altAz1 = AltAz(obstime=time, location=AUXTEL_LOCATION)\n",
    "    obsAltAz1 = skyLocation.transform_to(altAz1)\n",
    "    print(f\"Header AltAz values =             ({mData['ELSTART']}, {mData['AZSTART']})\")\n",
    "    print(f\"AltAz from header Ra/Dec values = ({obsAltAz1.alt.deg}, {obsAltAz1.az.deg})\")\n",
    "    deltaAlt = (mData['ELSTART'] - obsAltAz1.alt.deg) * 3600.0\n",
    "    deltaAz = (mData['AZSTART'] - obsAltAz1.az.deg) * 3600.0\n",
    "    print(f\"DeltaAlt = {deltaAlt:.1f} arcseconds, DeltaAz = {deltaAz:.1f} arcseconds\")\n",
    "    print()\n"
   ]
  },
  {
   "cell_type": "code",
   "execution_count": null,
   "metadata": {},
   "outputs": [],
   "source": []
  },
  {
   "cell_type": "code",
   "execution_count": null,
   "metadata": {},
   "outputs": [],
   "source": []
  },
  {
   "cell_type": "code",
   "execution_count": null,
   "metadata": {
    "execution": {
     "iopub.execute_input": "2023-03-09T19:44:29.769950Z",
     "iopub.status.busy": "2023-03-09T19:44:29.769683Z",
     "iopub.status.idle": "2023-03-09T19:44:29.962401Z",
     "shell.execute_reply": "2023-03-09T19:44:29.961936Z",
     "shell.execute_reply.started": "2023-03-09T19:44:29.769933Z"
    },
    "tags": []
   },
   "outputs": [],
   "source": [
    "filename = '/scratch/cslage/starTracker/startracker_2023-03-07.json'\n",
    "df = pd.read_json(filename)\n",
    "df = df.transpose()\n",
    "row = df.loc[11]\n",
    "\n",
    "icrs = ICRS; fk5 = FK5(equinox='J2023')\n",
    "skyLocation = SkyCoord(row['Calculated Ra']*u.deg, row['Calculated Dec']*u.deg, frame=icrs)\n",
    "time = Time(row['MJD'], format='mjd', scale='tai')\n",
    "altAz = AltAz(obstime=time, location=SIMONYI_LOCATION)\n",
    "obsAltAz1 = skyLocation.transform_to(altAz)\n",
    "\n",
    "skyLocation2 = skyLocation.transform_to(fk5)\n",
    "obsAltAz2 = skyLocation2.transform_to(altAz)\n",
    "deltaAlt = (obsAltAz2.alt.deg - obsAltAz1.alt.deg) * 3600.0\n",
    "deltaAz = (obsAltAz2.az.deg - obsAltAz1.az.deg) * 3600.0\n",
    "print(f\"DeltaAlt = {deltaAlt:.1f} arcseconds, DeltaAz = {deltaAz:.1f} arcseconds\")\n",
    "# Surprisingly at first, this is zero.  However, thinking some more,\n",
    "# it says that the same location on the sky is at the same AltAz\n",
    "# regardless of which coordinate system you use."
   ]
  },
  {
   "cell_type": "code",
   "execution_count": null,
   "metadata": {
    "execution": {
     "iopub.execute_input": "2023-03-10T13:47:20.620233Z",
     "iopub.status.busy": "2023-03-10T13:47:20.619966Z",
     "iopub.status.idle": "2023-03-10T13:47:20.816896Z",
     "shell.execute_reply": "2023-03-10T13:47:20.816377Z",
     "shell.execute_reply.started": "2023-03-10T13:47:20.620217Z"
    },
    "tags": []
   },
   "outputs": [],
   "source": [
    "filename = '/scratch/cslage/starTracker/startracker_2023-03-07.json'\n",
    "df = pd.read_json(filename)\n",
    "df = df.transpose()\n",
    "row = df.loc[27]\n",
    "\n",
    "icrs = ICRS; fk5 = FK5(equinox='J2023')\n",
    "time = Time(row['MJD'], format='mjd', scale='tai')\n",
    "skyLocation = SkyCoord(row['Ra']*u.deg, row['Dec']*u.deg, frame=icrs)\n",
    "altAz = AltAz(obstime=time, location=SIMONYI_LOCATION)\n",
    "obsAltAz1 = skyLocation.transform_to(altAz)\n",
    "deltaAlt = (row['Calculated Alt'] - obsAltAz1.alt.deg) * 3600.0\n",
    "deltaAz = (row['Calculated Az'] - obsAltAz1.az.deg) * 3600.0\n",
    "print(f\"{seqNum}: DeltaAlt = {deltaAlt:.1f} arcseconds, DeltaAz = {deltaAz:.1f} arcseconds\")"
   ]
  },
  {
   "cell_type": "code",
   "execution_count": null,
   "metadata": {
    "execution": {
     "iopub.execute_input": "2023-03-10T14:02:52.747610Z",
     "iopub.status.busy": "2023-03-10T14:02:52.747332Z",
     "iopub.status.idle": "2023-03-10T14:02:53.045566Z",
     "shell.execute_reply": "2023-03-10T14:02:53.045086Z",
     "shell.execute_reply.started": "2023-03-10T14:02:52.747594Z"
    },
    "jupyter": {
     "outputs_hidden": true
    },
    "tags": []
   },
   "outputs": [],
   "source": [
    "filename = '/scratch/cslage/starTracker/startracker_2023-03-09.json'\n",
    "df = pd.read_json(filename)\n",
    "df = df.transpose()\n",
    "df = df[~df.isnull().any(axis=1)]\n",
    "alts = []\n",
    "azs = []\n",
    "deltaAlts = []\n",
    "deltaAzs = []\n",
    "\n",
    "for seqNum in df.index.values.tolist():\n",
    "    if seqNum < 1654:\n",
    "        continue\n",
    "    row = df.loc[seqNum]\n",
    "    alts.append(row['Alt'])\n",
    "    azs.append(row['Az'])\n",
    "    deltaAlt = row['Delta Alt Arcsec']\n",
    "    deltaAz = row['Delta Az Arcsec']\n",
    "    deltaAlts.append(deltaAlt)\n",
    "    deltaAzs.append(deltaAz)\n",
    "    print(f\"{seqNum}: DeltaAlt = {deltaAlt:.1f} arcseconds, DeltaAz = {deltaAz:.1f} arcseconds\")\n"
   ]
  },
  {
   "cell_type": "code",
   "execution_count": null,
   "metadata": {
    "execution": {
     "iopub.execute_input": "2023-03-10T14:02:58.580625Z",
     "iopub.status.busy": "2023-03-10T14:02:58.580327Z",
     "iopub.status.idle": "2023-03-10T14:02:59.004122Z",
     "shell.execute_reply": "2023-03-10T14:02:59.003687Z",
     "shell.execute_reply.started": "2023-03-10T14:02:58.580608Z"
    },
    "tags": []
   },
   "outputs": [],
   "source": [
    "plt.figure(figsize=(8,8))\n",
    "plt.suptitle(\"StarTracker 20230309 Delta AltAz after header fix\")\n",
    "plt.subplots_adjust(hspace=0.3, wspace=0.3)\n",
    "plt.subplot(2,2,1)\n",
    "plt.scatter(alts, deltaAlts)\n",
    "plt.xlabel('Alt')\n",
    "plt.xlim(0,90)\n",
    "plt.ylabel('Delta Alt arcsec')\n",
    "plt.subplot(2,2,2)\n",
    "plt.scatter(azs, deltaAlts)\n",
    "plt.xlabel('Az')\n",
    "plt.xlim(0,360)\n",
    "plt.ylabel('Delta Alt arcsec')\n",
    "plt.subplot(2,2,3)\n",
    "plt.scatter(alts, deltaAzs)\n",
    "plt.xlabel('Alt')\n",
    "plt.xlim(0,90)\n",
    "plt.ylabel('Delta Az arcsec')\n",
    "plt.subplot(2,2,4)\n",
    "plt.scatter(azs, deltaAzs)\n",
    "plt.xlabel('Az')\n",
    "plt.xlim(0,360)\n",
    "plt.ylabel('Delta Az arcsec')\n",
    "plt.savefig(\"/scratch/cslage/starTracker/Delta_AltAz_20230309.png\")\n"
   ]
  },
  {
   "cell_type": "code",
   "execution_count": null,
   "metadata": {
    "execution": {
     "iopub.execute_input": "2023-03-09T20:38:52.768988Z",
     "iopub.status.busy": "2023-03-09T20:38:52.768724Z",
     "iopub.status.idle": "2023-03-09T20:38:56.980606Z",
     "shell.execute_reply": "2023-03-09T20:38:56.980164Z",
     "shell.execute_reply.started": "2023-03-09T20:38:52.768968Z"
    },
    "jupyter": {
     "outputs_hidden": true
    },
    "tags": []
   },
   "outputs": [],
   "source": [
    "filename = '/scratch/cslage/starTracker/startracker_2023-03-07.json'\n",
    "icrs = ICRS; fk5 = FK5(equinox='J2023')\n",
    "df = pd.read_json(filename)\n",
    "df = df.transpose()\n",
    "df = df[~df.isnull().any(axis=1)]\n",
    "alts = []\n",
    "azs = []\n",
    "deltaAlts = []\n",
    "deltaAzs = []\n",
    "\n",
    "for seqNum in df.index.values.tolist():\n",
    "    row = df.loc[seqNum]\n",
    "    time = Time(row['MJD'], format='mjd', scale='tai')\n",
    "    skyLocation = SkyCoord(row['Ra']*u.deg, row['Dec']*u.deg, frame=icrs)\n",
    "    altAz = AltAz(obstime=time, location=SIMONYI_LOCATION)\n",
    "    obsAltAz1 = skyLocation.transform_to(altAz)\n",
    "    deltaAlt = (row['Calculated Alt'] - obsAltAz1.alt.deg) * 3600.0\n",
    "    deltaAz = (row['Calculated Az'] - obsAltAz1.az.deg) * 3600.0\n",
    "    alts.append(row['Alt'])\n",
    "    azs.append(row['Az'])\n",
    "    deltaAlts.append(deltaAlt)\n",
    "    deltaAzs.append(deltaAz)\n",
    "    print(f\"{seqNum}  DeltaAlt = {deltaAlt:.1f} arcseconds, DeltaAz = {deltaAz:.1f} arcseconds\")"
   ]
  },
  {
   "cell_type": "code",
   "execution_count": null,
   "metadata": {
    "execution": {
     "iopub.execute_input": "2023-03-09T20:56:37.090963Z",
     "iopub.status.busy": "2023-03-09T20:56:37.090703Z",
     "iopub.status.idle": "2023-03-09T20:56:37.559975Z",
     "shell.execute_reply": "2023-03-09T20:56:37.559552Z",
     "shell.execute_reply.started": "2023-03-09T20:56:37.090946Z"
    },
    "tags": []
   },
   "outputs": [],
   "source": [
    "plt.figure(figsize=(8,8))\n",
    "plt.suptitle(\"StarTracker 20230307 Delta AltAz Assuming:\\nHeader RADec are in ICRS and translate those into AltAz to compare with anet solution\")\n",
    "plt.subplots_adjust(hspace=0.3, wspace=0.3)\n",
    "plt.subplot(2,2,1)\n",
    "plt.scatter(alts, deltaAlts)\n",
    "plt.xlabel('Alt')\n",
    "plt.xlim(0,90)\n",
    "plt.ylabel('Delta Alt arcsec')\n",
    "plt.subplot(2,2,2)\n",
    "plt.scatter(azs, deltaAlts)\n",
    "plt.xlabel('Az')\n",
    "plt.xlim(0,360)\n",
    "plt.ylabel('Delta Alt arcsec')\n",
    "plt.subplot(2,2,3)\n",
    "plt.scatter(alts, deltaAzs)\n",
    "plt.xlabel('Alt')\n",
    "plt.xlim(0,90)\n",
    "plt.ylabel('Delta Az arcsec')\n",
    "plt.subplot(2,2,4)\n",
    "plt.scatter(azs, deltaAzs)\n",
    "plt.xlabel('Az')\n",
    "plt.xlim(0,360)\n",
    "plt.ylabel('Delta Az arcsec')\n",
    "plt.savefig(\"/scratch/cslage/starTracker/Delta_AltAz_20230307.png\")\n"
   ]
  },
  {
   "cell_type": "code",
   "execution_count": null,
   "metadata": {
    "execution": {
     "iopub.execute_input": "2023-03-10T14:46:48.813735Z",
     "iopub.status.busy": "2023-03-10T14:46:48.813469Z",
     "iopub.status.idle": "2023-03-10T14:46:48.817642Z",
     "shell.execute_reply": "2023-03-10T14:46:48.817157Z",
     "shell.execute_reply.started": "2023-03-10T14:46:48.813720Z"
    }
   },
   "outputs": [],
   "source": [
    "df.columns"
   ]
  },
  {
   "cell_type": "code",
   "execution_count": null,
   "metadata": {},
   "outputs": [],
   "source": []
  }
 ],
 "metadata": {
  "kernelspec": {
   "display_name": "LSST",
   "language": "python",
   "name": "lsst"
  },
  "language_info": {
   "codemirror_mode": {
    "name": "ipython",
    "version": 3
   },
   "file_extension": ".py",
   "mimetype": "text/x-python",
   "name": "python",
   "nbconvert_exporter": "python",
   "pygments_lexer": "ipython3",
   "version": "3.10.9"
  }
 },
 "nbformat": 4,
 "nbformat_minor": 4
}
