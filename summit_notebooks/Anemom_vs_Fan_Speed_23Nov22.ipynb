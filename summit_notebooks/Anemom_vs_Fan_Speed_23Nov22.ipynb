{
 "cells": [
  {
   "cell_type": "code",
   "execution_count": null,
   "metadata": {},
   "outputs": [],
   "source": [
    "import sys, time, os, asyncio, glob\n",
    "from datetime import datetime\n",
    "import numpy as np\n",
    "import matplotlib.pyplot as plt\n",
    "import pickle as pkl\n",
    "import pandas as pd\n",
    "from astropy.time import Time, TimeDelta\n",
    "\n",
    "from lsst_efd_client import EfdClient\n",
    "from lsst.daf.butler import Butler\n",
    "%matplotlib inline"
   ]
  },
  {
   "cell_type": "code",
   "execution_count": null,
   "metadata": {},
   "outputs": [],
   "source": [
    "client = EfdClient('summit_efd')\n",
    "butler = Butler('/repo/LATISS', collections=\"LATISS/raw/all\")"
   ]
  },
  {
   "cell_type": "code",
   "execution_count": null,
   "metadata": {},
   "outputs": [],
   "source": [
    "# Get the timestamps of the desired image:\n",
    "expId = 2022112300044\n",
    "mData = butler.get('raw.metadata', detector=0, exposure=expId)\n",
    "start = Time(mData['DATE-BEG'])\n",
    "end = Time(mData['DATE-END'])\n",
    "print(start, end)"
   ]
  },
  {
   "cell_type": "code",
   "execution_count": null,
   "metadata": {
    "jupyter": {
     "outputs_hidden": true
    },
    "tags": []
   },
   "outputs": [],
   "source": [
    "for expId in range(2022112300016, 2022112300046):\n",
    "    i = expId - 2022112300016\n",
    "    print(expId, int((i - i%5) / 5))"
   ]
  },
  {
   "cell_type": "code",
   "execution_count": null,
   "metadata": {
    "tags": []
   },
   "outputs": [],
   "source": [
    "ux_means = []\n",
    "ux_stds = []\n",
    "uy_means = []\n",
    "uy_stds = []\n",
    "uz_means = []\n",
    "uz_stds = []\n",
    "fans = []\n",
    "\n",
    "fan_speeds = [0.0,10.0,20.0,30.0,40.0,50.0]\n",
    "for expId in range(2022112300016, 2022112300046):\n",
    "    i = expId - 2022112300016\n",
    "    fan_index = int((i - i%5) / 5)\n",
    "    fans.append(fan_speeds[fan_index])\n",
    "    mData = butler.get('raw.metadata', detector=0, exposure=expId)\n",
    "    start = Time(mData['DATE-BEG'])\n",
    "    end = Time(mData['DATE-END'])\n",
    "    anemom_start = start - TimeDelta(30.0, format='sec')\n",
    "    anemom_end = start + TimeDelta(30.0, format='sec')\n",
    "\n",
    "    ane = await client.select_time_series('lsst.sal.ESS.airTurbulence', \\\n",
    "                                            ['*'],  anemom_start, anemom_end)\n",
    "    ux_mean = ane['speed0'].values[0]\n",
    "    ux_std = ane['speedStdDev0'].values[0]\n",
    "    uy_mean = ane['speed1'].values[0]\n",
    "    uy_std = ane['speedStdDev1'].values[0]\n",
    "    uz_mean = ane['speed2'].values[0]\n",
    "    uz_std = ane['speedStdDev2'].values[0]\n",
    "    ux_means.append(ux_mean)\n",
    "    ux_stds.append(ux_std)\n",
    "    uy_means.append(uy_mean)\n",
    "    uy_stds.append(uy_std)\n",
    "    uz_means.append(uz_mean)\n",
    "    uz_stds.append(uz_std)\n",
    "\n",
    "\n"
   ]
  },
  {
   "cell_type": "code",
   "execution_count": null,
   "metadata": {},
   "outputs": [],
   "source": [
    "\n",
    "plt.figure(figsize=(8,8))\n",
    "plt.subplots_adjust(hspace=0.5, wspace=0.5)\n",
    "plt.subplot(3,2,1)\n",
    "plt.title(\"Ux Mean\")\n",
    "plt.scatter(fans, ux_means)\n",
    "plt.ylim(-0.5, 0.5)\n",
    "plt.ylabel(\"V(m/s)\")\n",
    "plt.xlabel(\"Fan speed (Hz)\")\n",
    "plt.subplot(3,2,2)\n",
    "plt.title(\"Ux Std\")\n",
    "plt.scatter(fans, ux_stds)\n",
    "plt.ylim(0, 0.5)\n",
    "plt.ylabel(\"V(m/s)\")\n",
    "plt.xlabel(\"Fan speed (Hz)\")\n",
    "plt.subplot(3,2,3)\n",
    "plt.title(\"Uy Mean\")\n",
    "plt.scatter(fans, uy_means)\n",
    "plt.ylim(-0.5, 0.5)\n",
    "plt.ylabel(\"V(m/s)\")\n",
    "plt.xlabel(\"Fan speed (Hz)\")\n",
    "plt.subplot(3,2,4)\n",
    "plt.title(\"Uy Std\")\n",
    "plt.scatter(fans, uy_stds)\n",
    "plt.ylim(0, 0.5)\n",
    "plt.ylabel(\"V(m/s)\")\n",
    "plt.xlabel(\"Fan speed (Hz)\")\n",
    "plt.subplot(3,2,5)\n",
    "plt.title(\"Uz Mean\")\n",
    "plt.scatter(fans, uz_means)\n",
    "plt.ylim(-0.5, 0.5)\n",
    "plt.ylabel(\"V(m/s)\")\n",
    "plt.xlabel(\"Fan speed (Hz)\")\n",
    "plt.subplot(3,2,6)\n",
    "plt.title(\"Uz Std\")\n",
    "plt.scatter(fans, uz_stds)\n",
    "plt.ylim(0, 0.5)\n",
    "plt.ylabel(\"V(m/s)\")\n",
    "plt.xlabel(\"Fan speed (Hz)\")\n",
    "plt.savefig(f\"/home/craiglagegit/DATA/Anemom_vs_Fan_Speed_23Nov22.pdf\")\n"
   ]
  },
  {
   "cell_type": "code",
   "execution_count": null,
   "metadata": {},
   "outputs": [],
   "source": [
    "len(fans)"
   ]
  },
  {
   "cell_type": "code",
   "execution_count": null,
   "metadata": {},
   "outputs": [],
   "source": []
  }
 ],
 "metadata": {
  "kernelspec": {
   "display_name": "LSST",
   "language": "python",
   "name": "lsst"
  },
  "language_info": {
   "codemirror_mode": {
    "name": "ipython",
    "version": 3
   },
   "file_extension": ".py",
   "mimetype": "text/x-python",
   "name": "python",
   "nbconvert_exporter": "python",
   "pygments_lexer": "ipython3",
   "version": "3.10.6"
  }
 },
 "nbformat": 4,
 "nbformat_minor": 4
}
