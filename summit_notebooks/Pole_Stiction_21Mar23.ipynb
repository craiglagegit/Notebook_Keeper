{
 "cells": [
  {
   "cell_type": "markdown",
   "id": "3dbf3c0c",
   "metadata": {},
   "source": [
    "# Pole stiction\n",
    "\n",
    "This notebook is intended to characterize the slow speed stiction problem \\\n",
    "at the pole by spiraling into the pole where the tracking speeds will be slower and slower. \\\n",
    "Craig Lage - 17-Oct-22"
   ]
  },
  {
   "cell_type": "code",
   "execution_count": null,
   "id": "b9b61b70",
   "metadata": {
    "execution": {
     "iopub.execute_input": "2023-03-21T12:49:31.529821Z",
     "iopub.status.busy": "2023-03-21T12:49:31.529452Z",
     "iopub.status.idle": "2023-03-21T12:49:34.172658Z",
     "shell.execute_reply": "2023-03-21T12:49:34.172047Z",
     "shell.execute_reply.started": "2023-03-21T12:49:31.529804Z"
    }
   },
   "outputs": [],
   "source": [
    "import asyncio\n",
    "import time\n",
    "import os\n",
    "import numpy as np\n",
    "import matplotlib.pyplot as plt\n",
    "from astropy.time import Time\n",
    "\n",
    "from lsst.ts import salobj\n",
    "\n",
    "from lsst.ts.observatory.control.auxtel.atcs import ATCS\n",
    "from lsst.ts.observatory.control.auxtel.latiss import LATISS\n",
    "from lsst.ts.observatory.control.utils import RotType"
   ]
  },
  {
   "cell_type": "code",
   "execution_count": null,
   "id": "0755fd07",
   "metadata": {
    "execution": {
     "iopub.execute_input": "2023-03-21T12:49:34.178524Z",
     "iopub.status.busy": "2023-03-21T12:49:34.178371Z",
     "iopub.status.idle": "2023-03-21T12:49:34.181447Z",
     "shell.execute_reply": "2023-03-21T12:49:34.180959Z",
     "shell.execute_reply.started": "2023-03-21T12:49:34.178510Z"
    }
   },
   "outputs": [],
   "source": [
    "logger = logging.getLogger(f\"Daytime Checkout {Time.now()} UT\")\n",
    "logger.level = logging.DEBUG"
   ]
  },
  {
   "cell_type": "code",
   "execution_count": null,
   "id": "e80647f9",
   "metadata": {
    "execution": {
     "iopub.execute_input": "2023-03-21T12:49:34.182468Z",
     "iopub.status.busy": "2023-03-21T12:49:34.182315Z",
     "iopub.status.idle": "2023-03-21T12:49:34.190486Z",
     "shell.execute_reply": "2023-03-21T12:49:34.190026Z",
     "shell.execute_reply.started": "2023-03-21T12:49:34.182455Z"
    }
   },
   "outputs": [],
   "source": [
    "logger.info(os.environ[\"OSPL_URI\"])\n",
    "logger.info(os.environ[\"LSST_DDS_PARTITION_PREFIX\"])"
   ]
  },
  {
   "cell_type": "markdown",
   "id": "a9cd22ea",
   "metadata": {},
   "source": [
    "### Instantiate the control classes"
   ]
  },
  {
   "cell_type": "code",
   "execution_count": null,
   "id": "f651e5d9",
   "metadata": {
    "execution": {
     "iopub.execute_input": "2023-03-21T12:49:37.828100Z",
     "iopub.status.busy": "2023-03-21T12:49:37.827720Z",
     "iopub.status.idle": "2023-03-21T12:49:39.864187Z",
     "shell.execute_reply": "2023-03-21T12:49:39.863606Z",
     "shell.execute_reply.started": "2023-03-21T12:49:37.828084Z"
    },
    "jupyter": {
     "outputs_hidden": true
    },
    "tags": []
   },
   "outputs": [],
   "source": [
    "domain = salobj.Domain()\n",
    "atcs = ATCS(domain)\n",
    "latiss = LATISS(domain)\n",
    "await asyncio.gather(atcs.start_task, latiss.start_task)\n",
    "await atcs.assert_liveliness()"
   ]
  },
  {
   "cell_type": "markdown",
   "id": "50d3b4be",
   "metadata": {},
   "source": [
    "## Enable LATISS and ATCS"
   ]
  },
  {
   "cell_type": "code",
   "execution_count": null,
   "id": "ab6d900c",
   "metadata": {
    "tags": []
   },
   "outputs": [],
   "source": [
    "# Didn't come up.  Brought up with LOVE\n",
    "await latiss.enable()\n",
    "await atcs.enable()\n",
    "await atcs.assert_all_enabled()"
   ]
  },
  {
   "cell_type": "markdown",
   "id": "014ff42a-1d20-4a15-a145-3a59306459e2",
   "metadata": {
    "tags": []
   },
   "source": [
    "If ATCamera and/or ATOODS don't come up, see section `Quick Troubleshooting` for support commands. "
   ]
  },
  {
   "cell_type": "markdown",
   "id": "a85209e7",
   "metadata": {
    "tags": []
   },
   "source": [
    "### Bias verification"
   ]
  },
  {
   "cell_type": "code",
   "execution_count": null,
   "id": "7761429f",
   "metadata": {
    "execution": {
     "iopub.execute_input": "2023-03-21T15:59:18.682512Z",
     "iopub.status.busy": "2023-03-21T15:59:18.682160Z",
     "iopub.status.idle": "2023-03-21T15:59:41.155539Z",
     "shell.execute_reply": "2023-03-21T15:59:41.154944Z",
     "shell.execute_reply.started": "2023-03-21T15:59:18.682488Z"
    },
    "tags": []
   },
   "outputs": [],
   "source": [
    "for i in range(5):\n",
    "    await latiss.take_bias(nbias=1)\n",
    "    await asyncio.sleep(2.0)"
   ]
  },
  {
   "cell_type": "code",
   "execution_count": null,
   "id": "eb8e7dab-9da0-42a9-995c-34977879aa1a",
   "metadata": {
    "execution": {
     "iopub.execute_input": "2023-03-21T15:58:51.613174Z",
     "iopub.status.busy": "2023-03-21T15:58:51.612791Z",
     "iopub.status.idle": "2023-03-21T15:58:51.618260Z",
     "shell.execute_reply": "2023-03-21T15:58:51.617774Z",
     "shell.execute_reply.started": "2023-03-21T15:58:51.613156Z"
    },
    "tags": []
   },
   "outputs": [],
   "source": [
    "await atcs.disable_dome_following()"
   ]
  },
  {
   "cell_type": "markdown",
   "id": "e3119deb-3ae5-46d3-812f-39df473b799e",
   "metadata": {
    "tags": []
   },
   "source": [
    "### Plot planned locations in RA/Dec space"
   ]
  },
  {
   "cell_type": "code",
   "execution_count": null,
   "id": "e2e2859e-c2c2-4b6a-8ff3-35715a811c6f",
   "metadata": {
    "execution": {
     "iopub.execute_input": "2023-03-21T13:26:03.541258Z",
     "iopub.status.busy": "2023-03-21T13:26:03.540862Z",
     "iopub.status.idle": "2023-03-21T13:26:03.768774Z",
     "shell.execute_reply": "2023-03-21T13:26:03.768220Z",
     "shell.execute_reply.started": "2023-03-21T13:26:03.541239Z"
    },
    "tags": []
   },
   "outputs": [],
   "source": [
    "%matplotlib inline\n",
    "ra = 12.0\n",
    "deltaRa = 2.5\n",
    "logCosDec = -0.8\n",
    "deltaLogCosDec = -0.1\n",
    "thetas = []\n",
    "decs = []\n",
    "for i in range(22):\n",
    "    theta = ra * 15.0\n",
    "    dec = - np.arccos(10**logCosDec) * 180.0 / np.pi\n",
    "    #print(logCosDec, dec, 90.0-dec)\n",
    "    thetas.append(theta / 180.0 * np.pi)\n",
    "    decs.append(90.0 + dec)\n",
    "    #print(theta, 90.0-dec)\n",
    "    ra += deltaRa\n",
    "    logCosDec += deltaLogCosDec\n",
    "fig, ax = plt.subplots(subplot_kw={'projection': 'polar'})\n",
    "ax.plot(thetas, decs, marker = 'x')\n",
    "ax.set_rmax(10.0)\n",
    "ax.set_rticks([5.0, 10.0])  # Less radial ticks\n",
    "#ax.set_rlabel_position(-22.5)  # Move radial labels away from plotted line\n",
    "ax.grid(True)\n",
    "\n",
    "ax.set_title(\"Planned Stiction Points\\nR shows distance from pole in degrees\\n 40 points total\")\n",
    "plt.show()"
   ]
  },
  {
   "cell_type": "markdown",
   "id": "3fc32bc5-5f36-4e5a-bcfd-27c3a9eeec21",
   "metadata": {
    "tags": []
   },
   "source": [
    "### Now run the actual test, taking a 30 second image at each location."
   ]
  },
  {
   "cell_type": "code",
   "execution_count": null,
   "id": "449950cc-ce9a-4e4a-8367-fe880a4982b2",
   "metadata": {
    "execution": {
     "iopub.execute_input": "2023-03-21T12:52:15.629395Z",
     "iopub.status.busy": "2023-03-21T12:52:15.628999Z",
     "iopub.status.idle": "2023-03-21T12:54:23.250192Z",
     "shell.execute_reply": "2023-03-21T12:54:23.249772Z",
     "shell.execute_reply.started": "2023-03-21T12:52:15.629377Z"
    },
    "tags": []
   },
   "outputs": [],
   "source": [
    "# Move to starting location\n",
    "ra = 12.0\n",
    "logCosDec = -0.8\n",
    "start_rot = 0.0\n",
    "dec = - np.arccos(10**logCosDec) * 180.0 / np.pi\n",
    "print(ra, dec)\n",
    "await atcs.slew_icrs(ra, dec, start_rot)"
   ]
  },
  {
   "cell_type": "code",
   "execution_count": null,
   "id": "eeb62b3b-9b34-4511-87bc-07587a3ce772",
   "metadata": {
    "execution": {
     "iopub.execute_input": "2023-03-21T12:55:12.041369Z",
     "iopub.status.busy": "2023-03-21T12:55:12.040990Z",
     "iopub.status.idle": "2023-03-21T12:55:46.024092Z",
     "shell.execute_reply": "2023-03-21T12:55:46.023570Z",
     "shell.execute_reply.started": "2023-03-21T12:55:12.041351Z"
    }
   },
   "outputs": [],
   "source": [
    "await latiss.take_engtest(30.0, filter='empty_1',grating='empty_1')"
   ]
  },
  {
   "cell_type": "code",
   "execution_count": null,
   "id": "6897aaac-84b7-4a47-adae-e03bf57288b9",
   "metadata": {
    "execution": {
     "iopub.execute_input": "2023-03-21T12:56:12.085121Z",
     "iopub.status.busy": "2023-03-21T12:56:12.084727Z",
     "iopub.status.idle": "2023-03-21T13:17:19.110778Z",
     "shell.execute_reply": "2023-03-21T13:17:19.109991Z",
     "shell.execute_reply.started": "2023-03-21T12:56:12.085103Z"
    },
    "tags": []
   },
   "outputs": [],
   "source": [
    "# Now run the actual test\n",
    "# First image is 2023032100008\n",
    "# ATPtg faulted at seqNum 23 for rotator out of range\n",
    "# Moving on to reverse direction, setting rotator to physical 0\n",
    "# This will speed things up.\n",
    "ra = 12.0\n",
    "deltaRa = 2.5\n",
    "logCosDec = -0.8\n",
    "deltaLogCosDec = -0.1\n",
    "start_rot = 0.0\n",
    "for i in range(22):\n",
    "    dec = - np.arccos(10**logCosDec) * 180.0 / np.pi\n",
    "    ra += deltaRa\n",
    "    logCosDec += deltaLogCosDec\n",
    "    await atcs.slew_icrs(ra, dec, rot=start_rot, rot_type=RotType.Physical)\n",
    "    await latiss.take_engtest(30.0, filter='empty_1',grating='empty_1')\n"
   ]
  },
  {
   "cell_type": "markdown",
   "id": "499090ed-7621-40ed-bfa3-625cb1410c4b",
   "metadata": {
    "tags": []
   },
   "source": [
    "### Plot planned locations in RA/Dec space - reverse direction"
   ]
  },
  {
   "cell_type": "code",
   "execution_count": null,
   "id": "cc8036fb-a7ff-4ebc-a223-b90f40f4de17",
   "metadata": {
    "execution": {
     "iopub.execute_input": "2023-03-21T13:26:23.217996Z",
     "iopub.status.busy": "2023-03-21T13:26:23.217285Z",
     "iopub.status.idle": "2023-03-21T13:26:23.429924Z",
     "shell.execute_reply": "2023-03-21T13:26:23.429359Z",
     "shell.execute_reply.started": "2023-03-21T13:26:23.217975Z"
    },
    "tags": []
   },
   "outputs": [],
   "source": [
    "ra = 12.0\n",
    "deltaRa = 2.5\n",
    "logCosDec = -0.8\n",
    "deltaLogCosDec = -0.1\n",
    "thetas = []\n",
    "decs = []\n",
    "for i in range(22):\n",
    "    theta = ra * 15.0\n",
    "    dec = - np.arccos(10**logCosDec) * 180.0 / np.pi\n",
    "    #print(logCosDec, dec, 90.0-dec)\n",
    "    thetas.append(theta / 180.0 * np.pi)\n",
    "    decs.append(90.0 + dec)\n",
    "    #print(theta, 90.0-dec)\n",
    "    ra -= deltaRa\n",
    "    logCosDec += deltaLogCosDec\n",
    "fig, ax = plt.subplots(subplot_kw={'projection': 'polar'})\n",
    "ax.plot(thetas, decs, marker = 'x')\n",
    "ax.set_rmax(10.0)\n",
    "ax.set_rticks([5.0, 10.0])  # Less radial ticks\n",
    "#ax.set_rlabel_position(-22.5)  # Move radial labels away from plotted line\n",
    "ax.grid(True)\n",
    "\n",
    "ax.set_title(\"Planned Stiction Points\\nR shows distance from pole in degrees\\n 40 points total\")\n",
    "plt.show()"
   ]
  },
  {
   "cell_type": "markdown",
   "id": "8b361d59-7982-4ea8-8299-c64305af7524",
   "metadata": {
    "tags": []
   },
   "source": [
    "### Now run the actual test, taking a 30 second image at each location. Reverse direction"
   ]
  },
  {
   "cell_type": "code",
   "execution_count": null,
   "id": "815568ff-2c47-4f3d-b420-f1a095d82a4d",
   "metadata": {
    "execution": {
     "iopub.execute_input": "2023-03-21T13:27:24.809142Z",
     "iopub.status.busy": "2023-03-21T13:27:24.808780Z",
     "iopub.status.idle": "2023-03-21T13:29:00.149243Z",
     "shell.execute_reply": "2023-03-21T13:29:00.148687Z",
     "shell.execute_reply.started": "2023-03-21T13:27:24.809123Z"
    },
    "jupyter": {
     "outputs_hidden": true
    },
    "tags": []
   },
   "outputs": [],
   "source": [
    "# Move to starting location\n",
    "ra = 12.0\n",
    "logCosDec = -0.8\n",
    "start_rot = 0.0\n",
    "dec = - np.arccos(10**logCosDec) * 180.0 / np.pi\n",
    "print(ra, dec)\n",
    "await atcs.slew_icrs(ra, dec, start_rot, rot_type=RotType.Physical)"
   ]
  },
  {
   "cell_type": "code",
   "execution_count": null,
   "id": "f0844c2a-7711-4826-9f10-4d39b68372fc",
   "metadata": {
    "execution": {
     "iopub.execute_input": "2023-03-21T13:29:26.987377Z",
     "iopub.status.busy": "2023-03-21T13:29:26.986694Z",
     "iopub.status.idle": "2023-03-21T13:46:09.585998Z",
     "shell.execute_reply": "2023-03-21T13:46:09.585431Z",
     "shell.execute_reply.started": "2023-03-21T13:29:26.987357Z"
    },
    "jupyter": {
     "outputs_hidden": true
    },
    "tags": []
   },
   "outputs": [],
   "source": [
    "# Now run the actual test\n",
    "# First image is 2023032100024\n",
    "ra = 12.0\n",
    "deltaRa = 2.5\n",
    "logCosDec = -0.8\n",
    "deltaLogCosDec = -0.1\n",
    "start_rot = 0.0\n",
    "for i in range(22):\n",
    "    dec = - np.arccos(10**logCosDec) * 180.0 / np.pi\n",
    "    ra -= deltaRa\n",
    "    logCosDec += deltaLogCosDec\n",
    "    await atcs.slew_icrs(ra, dec, rot=start_rot, rot_type=RotType.Physical)\n",
    "    await latiss.take_engtest(30.0, filter='empty_1',grating='empty_1')\n"
   ]
  },
  {
   "cell_type": "markdown",
   "id": "2b0bb4da-531e-4953-8a45-0581f19fd9f2",
   "metadata": {
    "tags": []
   },
   "source": [
    "### Now run the actual test, taking a 30 second image at each location.\n",
    "### Reverse direction.  Fan on @ 40 Hz."
   ]
  },
  {
   "cell_type": "code",
   "execution_count": null,
   "id": "c16284e6-1442-433b-91d0-479f8935099d",
   "metadata": {
    "execution": {
     "iopub.execute_input": "2023-03-21T16:01:33.363477Z",
     "iopub.status.busy": "2023-03-21T16:01:33.363126Z",
     "iopub.status.idle": "2023-03-21T16:01:59.204154Z",
     "shell.execute_reply": "2023-03-21T16:01:59.203615Z",
     "shell.execute_reply.started": "2023-03-21T16:01:33.363458Z"
    },
    "jupyter": {
     "outputs_hidden": true
    },
    "tags": []
   },
   "outputs": [],
   "source": [
    "# Move to starting location\n",
    "ra = 12.0\n",
    "logCosDec = -0.8\n",
    "start_rot = 0.0\n",
    "dec = - np.arccos(10**logCosDec) * 180.0 / np.pi\n",
    "print(ra, dec)\n",
    "await atcs.slew_icrs(ra, dec, start_rot, rot_type=RotType.Physical)"
   ]
  },
  {
   "cell_type": "code",
   "execution_count": null,
   "id": "32cfd1a5-d194-46c1-a502-09df38e7a3e7",
   "metadata": {
    "execution": {
     "iopub.execute_input": "2023-03-21T16:12:45.033199Z",
     "iopub.status.busy": "2023-03-21T16:12:45.032753Z",
     "iopub.status.idle": "2023-03-21T16:29:12.545574Z",
     "shell.execute_reply": "2023-03-21T16:29:12.544984Z",
     "shell.execute_reply.started": "2023-03-21T16:12:45.033150Z"
    },
    "jupyter": {
     "outputs_hidden": true
    },
    "tags": []
   },
   "outputs": [],
   "source": [
    "# Now run the actual test\n",
    "# First image is 2023032100046\n",
    "# Re-starting after ATCamera fault\n",
    "# First image is 2023032100054\n",
    "# Need to run darks, engtests are saturating\n",
    "ra = 12.0\n",
    "deltaRa = 2.5\n",
    "logCosDec = -0.8\n",
    "deltaLogCosDec = -0.1\n",
    "start_rot = 0.0\n",
    "for i in range(22):\n",
    "    dec = - np.arccos(10**logCosDec) * 180.0 / np.pi\n",
    "    ra -= deltaRa\n",
    "    logCosDec += deltaLogCosDec\n",
    "    await atcs.slew_icrs(ra, dec, rot=start_rot, rot_type=RotType.Physical)\n",
    "    await latiss.take_darks(30.0, 1)\n"
   ]
  },
  {
   "cell_type": "code",
   "execution_count": null,
   "id": "3ea5225b",
   "metadata": {},
   "outputs": [],
   "source": [
    "# Stop tracking\n",
    "await atcs.stop_tracking()"
   ]
  },
  {
   "cell_type": "markdown",
   "id": "a435880e",
   "metadata": {},
   "source": [
    "## Shutdown all ATCS components"
   ]
  },
  {
   "cell_type": "code",
   "execution_count": null,
   "id": "723d22b0",
   "metadata": {
    "jupyter": {
     "outputs_hidden": true
    },
    "tags": []
   },
   "outputs": [],
   "source": [
    "await atcs.shutdown()"
   ]
  },
  {
   "cell_type": "markdown",
   "id": "621b5407",
   "metadata": {},
   "source": [
    "## Put LATISS in standby"
   ]
  },
  {
   "cell_type": "code",
   "execution_count": null,
   "id": "80517626",
   "metadata": {
    "tags": []
   },
   "outputs": [],
   "source": [
    "await latiss.standby()"
   ]
  },
  {
   "cell_type": "code",
   "execution_count": null,
   "id": "7db406fb-1aba-4e52-bb87-250f5c1de5ab",
   "metadata": {},
   "outputs": [],
   "source": []
  }
 ],
 "metadata": {
  "kernelspec": {
   "display_name": "LSST",
   "language": "python",
   "name": "lsst"
  },
  "language_info": {
   "codemirror_mode": {
    "name": "ipython",
    "version": 3
   },
   "file_extension": ".py",
   "mimetype": "text/x-python",
   "name": "python",
   "nbconvert_exporter": "python",
   "pygments_lexer": "ipython3",
   "version": "3.11.7"
  }
 },
 "nbformat": 4,
 "nbformat_minor": 5
}
