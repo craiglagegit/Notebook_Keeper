{
 "cells": [
  {
   "cell_type": "markdown",
   "metadata": {},
   "source": [
    "# Generate filter calibration curves\n",
    "This script runs the monochromator through a series of wavelength steps, taking flats at each step to provide filter transmission curves for each filter."
   ]
  },
  {
   "cell_type": "code",
   "execution_count": null,
   "metadata": {
    "execution": {
     "iopub.execute_input": "2023-05-02T19:21:29.515727Z",
     "iopub.status.busy": "2023-05-02T19:21:29.515343Z",
     "iopub.status.idle": "2023-05-02T19:21:29.519738Z",
     "shell.execute_reply": "2023-05-02T19:21:29.519116Z",
     "shell.execute_reply.started": "2023-05-02T19:21:29.515709Z"
    },
    "tags": []
   },
   "outputs": [],
   "source": [
    "import sys\n",
    "import asyncio\n",
    "import time\n",
    "import os\n",
    "import pickle as pkl\n",
    "import numpy as np\n",
    "import matplotlib.pyplot as plt\n",
    "from astropy.io import fits\n",
    "from astropy.time import Time\n",
    "from astropy.table import Table\n",
    "\n",
    "from lsst.ts import salobj\n",
    "\n",
    "from lsst.ts.observatory.control.auxtel.atcs import ATCS\n",
    "from lsst.ts.observatory.control.auxtel.latiss import LATISS"
   ]
  },
  {
   "cell_type": "code",
   "execution_count": null,
   "metadata": {
    "execution": {
     "iopub.execute_input": "2023-05-02T19:09:08.743394Z",
     "iopub.status.busy": "2023-05-02T19:09:08.743003Z",
     "iopub.status.idle": "2023-05-02T19:09:08.746005Z",
     "shell.execute_reply": "2023-05-02T19:09:08.745510Z",
     "shell.execute_reply.started": "2023-05-02T19:09:08.743376Z"
    }
   },
   "outputs": [],
   "source": [
    "# change this to a local directory\n",
    "data_dir = '/home/craiglagegit/DATA'"
   ]
  },
  {
   "cell_type": "markdown",
   "metadata": {},
   "source": [
    "## First, enable LATISS and ATCS and position telescope"
   ]
  },
  {
   "cell_type": "code",
   "execution_count": null,
   "metadata": {
    "execution": {
     "iopub.execute_input": "2023-05-02T18:50:23.183809Z",
     "iopub.status.busy": "2023-05-02T18:50:23.183436Z",
     "iopub.status.idle": "2023-05-02T18:50:24.507563Z",
     "shell.execute_reply": "2023-05-02T18:50:24.506904Z",
     "shell.execute_reply.started": "2023-05-02T18:50:23.183792Z"
    },
    "jupyter": {
     "outputs_hidden": true
    },
    "tags": []
   },
   "outputs": [],
   "source": [
    "domain = salobj.Domain()\n",
    "atcs = ATCS(domain)\n",
    "latiss = LATISS(domain)\n",
    "await asyncio.gather(atcs.start_task, latiss.start_task)"
   ]
  },
  {
   "cell_type": "code",
   "execution_count": null,
   "metadata": {
    "execution": {
     "iopub.execute_input": "2023-05-02T19:47:54.080637Z",
     "iopub.status.busy": "2023-05-02T19:47:54.080284Z",
     "iopub.status.idle": "2023-05-02T19:48:09.963146Z",
     "shell.execute_reply": "2023-05-02T19:48:09.962651Z",
     "shell.execute_reply.started": "2023-05-02T19:47:54.080620Z"
    },
    "tags": []
   },
   "outputs": [],
   "source": [
    "await latiss.enable()"
   ]
  },
  {
   "cell_type": "code",
   "execution_count": null,
   "metadata": {
    "execution": {
     "iopub.execute_input": "2023-05-02T18:50:45.161503Z",
     "iopub.status.busy": "2023-05-02T18:50:45.161197Z",
     "iopub.status.idle": "2023-05-02T18:50:50.431318Z",
     "shell.execute_reply": "2023-05-02T18:50:50.430814Z",
     "shell.execute_reply.started": "2023-05-02T18:50:45.161488Z"
    },
    "tags": []
   },
   "outputs": [],
   "source": [
    "await atcs.enable()"
   ]
  },
  {
   "cell_type": "code",
   "execution_count": null,
   "metadata": {
    "execution": {
     "iopub.execute_input": "2023-05-02T18:56:03.605622Z",
     "iopub.status.busy": "2023-05-02T18:56:03.605235Z",
     "iopub.status.idle": "2023-05-02T18:59:31.353370Z",
     "shell.execute_reply": "2023-05-02T18:59:31.352759Z",
     "shell.execute_reply.started": "2023-05-02T18:56:03.605605Z"
    },
    "jupyter": {
     "outputs_hidden": true
    },
    "tags": []
   },
   "outputs": [],
   "source": [
    "await atcs.prepare_for_flatfield()"
   ]
  },
  {
   "cell_type": "code",
   "execution_count": null,
   "metadata": {
    "execution": {
     "iopub.execute_input": "2023-05-02T18:59:56.993683Z",
     "iopub.status.busy": "2023-05-02T18:59:56.993382Z",
     "iopub.status.idle": "2023-05-02T18:59:56.997613Z",
     "shell.execute_reply": "2023-05-02T18:59:56.997133Z",
     "shell.execute_reply.started": "2023-05-02T18:59:56.993667Z"
    }
   },
   "outputs": [],
   "source": [
    "await atcs.disable_dome_following()"
   ]
  },
  {
   "cell_type": "code",
   "execution_count": null,
   "metadata": {
    "execution": {
     "iopub.execute_input": "2023-05-02T18:59:34.313844Z",
     "iopub.status.busy": "2023-05-02T18:59:34.313476Z",
     "iopub.status.idle": "2023-05-02T18:59:56.988452Z",
     "shell.execute_reply": "2023-05-02T18:59:56.987842Z",
     "shell.execute_reply.started": "2023-05-02T18:59:34.313826Z"
    },
    "tags": []
   },
   "outputs": [],
   "source": [
    "# This is for the new dome flat illuminator\n",
    "await atcs.slew_dome_to(355.0)"
   ]
  },
  {
   "cell_type": "code",
   "execution_count": null,
   "metadata": {
    "execution": {
     "iopub.execute_input": "2023-05-02T19:00:02.202040Z",
     "iopub.status.busy": "2023-05-02T19:00:02.201661Z",
     "iopub.status.idle": "2023-05-02T19:01:20.989565Z",
     "shell.execute_reply": "2023-05-02T19:01:20.988978Z",
     "shell.execute_reply.started": "2023-05-02T19:00:02.202023Z"
    },
    "jupyter": {
     "outputs_hidden": true
    },
    "tags": []
   },
   "outputs": [],
   "source": [
    "# This is for the new dome flat illuminator\n",
    "start_az=181.7\n",
    "start_el=39.0\n",
    "start_rot=0\n",
    "await atcs.point_azel(az=start_az, el=start_el, rot_tel=start_rot)"
   ]
  },
  {
   "cell_type": "markdown",
   "metadata": {},
   "source": [
    "## Now connect to the ATCalSys CSCs"
   ]
  },
  {
   "cell_type": "code",
   "execution_count": null,
   "metadata": {
    "execution": {
     "iopub.execute_input": "2023-05-02T19:02:46.501267Z",
     "iopub.status.busy": "2023-05-02T19:02:46.500800Z",
     "iopub.status.idle": "2023-05-02T19:02:46.765103Z",
     "shell.execute_reply": "2023-05-02T19:02:46.764483Z",
     "shell.execute_reply.started": "2023-05-02T19:02:46.501218Z"
    },
    "jupyter": {
     "outputs_hidden": true
    },
    "tags": []
   },
   "outputs": [],
   "source": [
    "atmonochromator = salobj.Remote(domain, 'ATMonochromator')\n",
    "FiberSpectrograph = salobj.Remote(name=\"FiberSpectrograph\", domain=domain, index=3)\n",
    "electrometer = salobj.Remote(name=\"Electrometer\", domain=domain, index=201) \n",
    "WhiteLightSource = salobj.Remote(name='ATWhiteLight', domain=domain)"
   ]
  },
  {
   "cell_type": "markdown",
   "metadata": {},
   "source": [
    "## Bring in needed subroutines"
   ]
  },
  {
   "cell_type": "code",
   "execution_count": null,
   "metadata": {
    "execution": {
     "iopub.execute_input": "2023-05-02T19:03:22.635299Z",
     "iopub.status.busy": "2023-05-02T19:03:22.634898Z",
     "iopub.status.idle": "2023-05-02T19:03:22.850973Z",
     "shell.execute_reply": "2023-05-02T19:03:22.850520Z",
     "shell.execute_reply.started": "2023-05-02T19:03:22.635281Z"
    }
   },
   "outputs": [],
   "source": [
    "# functions to run the electromter measurements\n",
    "def get_file_transfer(lfa):\n",
    "    filename = os.path.split(lfa.url)[1]\n",
    "    save_dir = os.path.join(data_dir, filename.split(':')[0])\n",
    "    if not os.path.exists(save_dir):\n",
    "        os.mkdir(save_dir)\n",
    "    save_file = os.path.join(save_dir, filename)\n",
    "    os.system(f\"curl {lfa.url} --output {save_file}\")\n",
    "    return save_file\n",
    "\n",
    "async def elec_meas(exp_time):\n",
    "    electrometer.evt_largeFileObjectAvailable.flush()\n",
    "    tmp1=await electrometer.cmd_startScan.set_start(timeout=10)\n",
    "    await asyncio.sleep(exp_time)\n",
    "    tmp2=await electrometer.cmd_stopScan.set_start(timeout=10)\n",
    "    lfa = await electrometer.evt_largeFileObjectAvailable.next(flush=False, timeout=10)\n",
    "    filename = get_file_transfer(lfa)\n",
    "    filename = filename.replace(\":\", \"_\")\n",
    "    elec_filen = os.path.join(data_dir, filename)\n",
    "    os.system(f\"curl {lfa.url} --output {elec_filen}\")\n",
    "    hdu = fits.open(f'{elec_filen}')\n",
    "    data = hdu[1].data\n",
    "    return filename, lfa, data\n",
    "\n",
    "async def fiber_meas(exp_time):\n",
    "    FiberSpectrograph.evt_largeFileObjectAvailable.flush()\n",
    "    tmp1 = await FiberSpectrograph.cmd_expose.set_start(duration=exp_time, numExposures=1)\n",
    "    lfa = await FiberSpectrograph.evt_largeFileObjectAvailable.next(flush=False, timeout=10)\n",
    "    filename = get_file_transfer(lfa)\n",
    "    filename = filename.replace(\":\", \"_\")\n",
    "    spec_filen = os.path.join(data_dir, filename)\n",
    "    os.system(f\"curl {lfa.url} --output {spec_filen}\")\n",
    "    hdu = fits.open(f'{spec_filen}')\n",
    "    wavelength = hdu[1].data['wavelength'].flatten()\n",
    "    spectrum = hdu[0].data\n",
    "    return filename, lfa, wavelength, spectrum\n"
   ]
  },
  {
   "cell_type": "markdown",
   "metadata": {},
   "source": [
    "## Set up electrometer"
   ]
  },
  {
   "cell_type": "code",
   "execution_count": null,
   "metadata": {
    "execution": {
     "iopub.execute_input": "2023-05-02T19:03:36.348853Z",
     "iopub.status.busy": "2023-05-02T19:03:36.348502Z",
     "iopub.status.idle": "2023-05-02T19:03:36.532333Z",
     "shell.execute_reply": "2023-05-02T19:03:36.531748Z",
     "shell.execute_reply.started": "2023-05-02T19:03:36.348836Z"
    }
   },
   "outputs": [],
   "source": [
    "await electrometer.cmd_performZeroCalib.set_start(timeout=10)\n",
    "await electrometer.cmd_setDigitalFilter.set_start(activateFilter=False, activateAvgFilter=False, activateMedFilter=False, timeout=10)  \n",
    "await electrometer.cmd_setIntegrationTime.set_start(intTime=0.1) \n",
    "await electrometer.cmd_setRange.set_start(setRange=-1)"
   ]
  },
  {
   "cell_type": "markdown",
   "metadata": {},
   "source": [
    "## Take 20 biases for system warm-up"
   ]
  },
  {
   "cell_type": "code",
   "execution_count": null,
   "metadata": {
    "execution": {
     "iopub.execute_input": "2023-05-02T23:09:26.416955Z",
     "iopub.status.busy": "2023-05-02T23:09:26.416602Z",
     "iopub.status.idle": "2023-05-02T23:10:56.571097Z",
     "shell.execute_reply": "2023-05-02T23:10:56.570510Z",
     "shell.execute_reply.started": "2023-05-02T23:09:26.416937Z"
    },
    "tags": []
   },
   "outputs": [],
   "source": [
    "# Take 20 biases for system warm-up\n",
    "for i in range(20):\n",
    "    await latiss.take_bias(1)\n",
    "    await asyncio.sleep(2.0)\n"
   ]
  },
  {
   "cell_type": "markdown",
   "metadata": {
    "execution": {
     "iopub.execute_input": "2022-12-12T17:14:28.707685Z",
     "iopub.status.busy": "2022-12-12T17:14:28.706994Z",
     "iopub.status.idle": "2022-12-12T17:14:28.710806Z",
     "shell.execute_reply": "2022-12-12T17:14:28.710312Z",
     "shell.execute_reply.started": "2022-12-12T17:14:28.707665Z"
    },
    "tags": []
   },
   "source": [
    "## Now run all three filters"
   ]
  },
  {
   "cell_type": "code",
   "execution_count": null,
   "metadata": {
    "execution": {
     "iopub.execute_input": "2023-05-02T23:12:34.597807Z",
     "iopub.status.busy": "2023-05-02T23:12:34.597450Z",
     "iopub.status.idle": "2023-05-03T02:02:32.368711Z",
     "shell.execute_reply": "2023-05-03T02:02:32.368146Z",
     "shell.execute_reply.started": "2023-05-02T23:12:34.597788Z"
    },
    "jupyter": {
     "outputs_hidden": true
    },
    "tags": []
   },
   "outputs": [],
   "source": [
    "latiss_grating= 'empty_1'\n",
    "wave_step = 5 # Wavelength step in nm\n",
    "latiss_exp_time = 60.0\n",
    "num_latiss_exps = 1\n",
    "\n",
    "# Dictionary to hold the results\n",
    "results = {}\n",
    "for latiss_filter in ['SDSSr_65mm', 'SDSSi_65mm']:#['SDSSg_65mm', 'SDSSr_65mm', 'SDSSi_65mm']:\n",
    "    if latiss_filter =='SDSSg_65mm':\n",
    "        min_wave = 350; max_wave = 600; grating = 0; slit_1 = 5.0; slit_2 = 5.0\n",
    "    elif latiss_filter == 'SDSSr_65mm':\n",
    "        min_wave = 500; max_wave = 750; grating = 1; slit_1 = 5.0; slit_2 = 5.0\n",
    "    elif latiss_filter == 'SDSSi_65mm':\n",
    "        min_wave = 640; max_wave = 880; grating = 1; slit_1 = 5.0; slit_2 = 5.0\n",
    "    else:\n",
    "        raise \"Filter not supported\"\n",
    "    await atmonochromator.cmd_selectGrating.set_start(gratingType=grating, timeout=180)        \n",
    "    await atmonochromator.cmd_changeSlitWidth.set_start(slit=1, slitWidth=slit_1)  \n",
    "    await atmonochromator.cmd_changeSlitWidth.set_start(slit=2, slitWidth=slit_2) \n",
    "    wave = min_wave\n",
    "    # This loop steps through the wavelengths for each filter\n",
    "    while wave < max_wave + wave_step / 2.0:\n",
    "        await atmonochromator.cmd_changeWavelength.set_start(wavelength=wave)\n",
    "        key = f\"{latiss_filter}_{wave:.0f}\"\n",
    "        print(key)\n",
    "        filename, electrometer_lfa, electrometer_data = await elec_meas(1.0)\n",
    "        for (t,current) in electrometer_data:\n",
    "            electrometer_current = current\n",
    "        exp_time = 0.5\n",
    "        filename, fiber_lfa, wavelengths, spectrum = await fiber_meas(exp_time)\n",
    "        spec_max = np.max(spectrum)\n",
    "        # The loop below prevents the spectrum from saturating\n",
    "        while spec_max > 15900:\n",
    "            exp_time /= 2.0\n",
    "            filename, fiber_lfa, wavelengths, spectrum = await fiber_meas(exp_time)\n",
    "            spec_max = np.max(spectrum)\n",
    "        # Take one flat with the filter and one without\n",
    "        await latiss.take_flats(latiss_exp_time, num_latiss_exps, filter=latiss_filter, grating=latiss_grating, reason=f'flat_{wave:.1f}')\n",
    "        await latiss.take_flats(latiss_exp_time, num_latiss_exps, filter='empty_1', grating=latiss_grating, reason=f'flat_{wave:.1f}')\n",
    "        \n",
    "        print(electrometer_current, exp_time, spec_max)\n",
    "        results[key] = {}\n",
    "        results[key]['electrometer_lfa_url']=electrometer_lfa.url\n",
    "        results[key]['fiber_lfa_url']=fiber_lfa.url\n",
    "        results[key]['electrometer_current']=electrometer_current\n",
    "        results[key]['fiber_data']=[wavelengths, spectrum, exp_time]\n",
    "        print(f\"Done with {latiss_filter}, {wave}\")\n",
    "        wave += wave_step"
   ]
  },
  {
   "cell_type": "code",
   "execution_count": null,
   "metadata": {
    "execution": {
     "iopub.execute_input": "2023-05-03T02:02:53.894984Z",
     "iopub.status.busy": "2023-05-03T02:02:53.894610Z",
     "iopub.status.idle": "2023-05-03T02:02:53.923032Z",
     "shell.execute_reply": "2023-05-03T02:02:53.922407Z",
     "shell.execute_reply.started": "2023-05-03T02:02:53.894966Z"
    },
    "tags": []
   },
   "outputs": [],
   "source": [
    "# Pickle the data\n",
    "filename = \"/scratch/cslage/filter_cals/filter_cal_02May23.pkl\"\n",
    "file = open(filename, \"wb\")\n",
    "pkl.dump(results, file)\n",
    "file.close()"
   ]
  },
  {
   "cell_type": "code",
   "execution_count": null,
   "metadata": {
    "execution": {
     "iopub.execute_input": "2023-05-03T02:03:04.349994Z",
     "iopub.status.busy": "2023-05-03T02:03:04.349632Z",
     "iopub.status.idle": "2023-05-03T02:03:04.457507Z",
     "shell.execute_reply": "2023-05-03T02:03:04.456924Z",
     "shell.execute_reply.started": "2023-05-03T02:03:04.349976Z"
    }
   },
   "outputs": [],
   "source": [
    "# Turn off the lamp\n",
    "tmp = await WhiteLightSource.cmd_turnLampOff.set_start()"
   ]
  },
  {
   "cell_type": "code",
   "execution_count": null,
   "metadata": {
    "execution": {
     "iopub.execute_input": "2023-05-03T02:03:07.367036Z",
     "iopub.status.busy": "2023-05-03T02:03:07.366676Z",
     "iopub.status.idle": "2023-05-03T02:03:07.537872Z",
     "shell.execute_reply": "2023-05-03T02:03:07.537381Z",
     "shell.execute_reply.started": "2023-05-03T02:03:07.367018Z"
    },
    "tags": []
   },
   "outputs": [],
   "source": [
    "await latiss.standby()"
   ]
  },
  {
   "cell_type": "code",
   "execution_count": null,
   "metadata": {
    "execution": {
     "iopub.execute_input": "2023-05-03T02:03:13.858289Z",
     "iopub.status.busy": "2023-05-03T02:03:13.857920Z",
     "iopub.status.idle": "2023-05-03T02:06:44.019241Z",
     "shell.execute_reply": "2023-05-03T02:06:44.018709Z",
     "shell.execute_reply.started": "2023-05-03T02:03:13.858271Z"
    },
    "jupyter": {
     "outputs_hidden": true
    },
    "tags": []
   },
   "outputs": [],
   "source": [
    "await atcs.shutdown()"
   ]
  },
  {
   "cell_type": "markdown",
   "metadata": {},
   "source": [
    "## Below shows how to unpickle the spectrum and electrometer data and plot a spectrum"
   ]
  },
  {
   "cell_type": "code",
   "execution_count": null,
   "metadata": {
    "execution": {
     "iopub.execute_input": "2023-05-02T19:48:36.191190Z",
     "iopub.status.busy": "2023-05-02T19:48:36.190800Z",
     "iopub.status.idle": "2023-05-02T19:48:36.195556Z",
     "shell.execute_reply": "2023-05-02T19:48:36.195059Z",
     "shell.execute_reply.started": "2023-05-02T19:48:36.191171Z"
    },
    "tags": []
   },
   "outputs": [],
   "source": [
    "# Unpickle the data\n",
    "filename = \"/scratch/cslage/filter_cals/filter_cal_02May23.pkl\"\n",
    "file = open(filename, \"rb\")\n",
    "results = pkl.load(file)\n",
    "file.close()"
   ]
  },
  {
   "cell_type": "code",
   "execution_count": null,
   "metadata": {
    "execution": {
     "iopub.execute_input": "2023-05-02T19:48:39.073847Z",
     "iopub.status.busy": "2023-05-02T19:48:39.073103Z",
     "iopub.status.idle": "2023-05-02T19:48:39.076589Z",
     "shell.execute_reply": "2023-05-02T19:48:39.076094Z",
     "shell.execute_reply.started": "2023-05-02T19:48:39.073828Z"
    },
    "tags": []
   },
   "outputs": [],
   "source": [
    "[wavelengths, spectrum, exp_time] = results['SDSSr_65mm_610']['fiber_data']"
   ]
  },
  {
   "cell_type": "code",
   "execution_count": null,
   "metadata": {
    "execution": {
     "iopub.execute_input": "2023-05-02T23:09:16.280939Z",
     "iopub.status.busy": "2023-05-02T23:09:16.280566Z",
     "iopub.status.idle": "2023-05-02T23:09:16.391747Z",
     "shell.execute_reply": "2023-05-02T23:09:16.391186Z",
     "shell.execute_reply.started": "2023-05-02T23:09:16.280921Z"
    },
    "tags": []
   },
   "outputs": [],
   "source": [
    "%matplotlib inline\n",
    "plt.plot(wavelengths, spectrum)\n",
    "plt.xlim(600, 620)"
   ]
  },
  {
   "cell_type": "code",
   "execution_count": null,
   "metadata": {},
   "outputs": [],
   "source": []
  }
 ],
 "metadata": {
  "kernelspec": {
   "display_name": "LSST",
   "language": "python",
   "name": "lsst"
  },
  "language_info": {
   "codemirror_mode": {
    "name": "ipython",
    "version": 3
   },
   "file_extension": ".py",
   "mimetype": "text/x-python",
   "name": "python",
   "nbconvert_exporter": "python",
   "pygments_lexer": "ipython3",
   "version": "3.11.6"
  }
 },
 "nbformat": 4,
 "nbformat_minor": 4
}
