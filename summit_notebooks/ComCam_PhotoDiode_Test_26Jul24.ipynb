{
 "cells": [
  {
   "cell_type": "markdown",
   "metadata": {},
   "source": [
    "# Test ComCam photodiode\n",
    "\n",
    "Craig Lage - 28-Jul-24"
   ]
  },
  {
   "cell_type": "code",
   "execution_count": null,
   "metadata": {
    "execution": {
     "iopub.execute_input": "2024-07-28T16:02:33.199281Z",
     "iopub.status.busy": "2024-07-28T16:02:33.199148Z",
     "iopub.status.idle": "2024-07-28T16:02:33.922711Z",
     "shell.execute_reply": "2024-07-28T16:02:33.922208Z",
     "shell.execute_reply.started": "2024-07-28T16:02:33.199267Z"
    },
    "tags": []
   },
   "outputs": [],
   "source": [
    "import sys, asyncio, time, os\n",
    "import pickle as pkl\n",
    "import numpy as np\n",
    "import matplotlib.pyplot as plt\n",
    "from astropy.time import Time\n",
    "from astropy.io import fits\n",
    "\n",
    "from lsst.ts import salobj"
   ]
  },
  {
   "cell_type": "markdown",
   "metadata": {},
   "source": [
    "## Now connect to ComCam and the Electrometer CSC"
   ]
  },
  {
   "cell_type": "code",
   "execution_count": null,
   "metadata": {
    "execution": {
     "iopub.execute_input": "2024-07-28T16:02:33.925301Z",
     "iopub.status.busy": "2024-07-28T16:02:33.925152Z",
     "iopub.status.idle": "2024-07-28T16:02:33.927774Z",
     "shell.execute_reply": "2024-07-28T16:02:33.927270Z",
     "shell.execute_reply.started": "2024-07-28T16:02:33.925286Z"
    }
   },
   "outputs": [],
   "source": [
    "# change this to a local directory\n",
    "data_dir = '/home/cslage/DATA'"
   ]
  },
  {
   "cell_type": "code",
   "execution_count": null,
   "metadata": {
    "execution": {
     "iopub.execute_input": "2024-07-28T16:02:33.930147Z",
     "iopub.status.busy": "2024-07-28T16:02:33.929992Z",
     "iopub.status.idle": "2024-07-28T16:02:33.933236Z",
     "shell.execute_reply": "2024-07-28T16:02:33.932814Z",
     "shell.execute_reply.started": "2024-07-28T16:02:33.930133Z"
    },
    "tags": []
   },
   "outputs": [],
   "source": [
    "logger = logging.getLogger(f\"Daytime Checkout {Time.now()} UT\")\n",
    "logger.level = logging.DEBUG"
   ]
  },
  {
   "cell_type": "code",
   "execution_count": null,
   "metadata": {
    "execution": {
     "iopub.execute_input": "2024-07-28T16:02:33.938563Z",
     "iopub.status.busy": "2024-07-28T16:02:33.938422Z",
     "iopub.status.idle": "2024-07-28T16:02:33.943368Z",
     "shell.execute_reply": "2024-07-28T16:02:33.942808Z",
     "shell.execute_reply.started": "2024-07-28T16:02:33.938549Z"
    },
    "tags": []
   },
   "outputs": [],
   "source": [
    "logger.info(os.environ[\"OSPL_URI\"])\n",
    "logger.info(os.environ[\"LSST_DDS_PARTITION_PREFIX\"])"
   ]
  },
  {
   "cell_type": "code",
   "execution_count": null,
   "metadata": {
    "execution": {
     "iopub.execute_input": "2024-07-28T16:02:33.945611Z",
     "iopub.status.busy": "2024-07-28T16:02:33.945470Z",
     "iopub.status.idle": "2024-07-28T16:02:34.058315Z",
     "shell.execute_reply": "2024-07-28T16:02:34.057713Z",
     "shell.execute_reply.started": "2024-07-28T16:02:33.945597Z"
    },
    "tags": []
   },
   "outputs": [],
   "source": [
    "domain = salobj.Domain()\n",
    "electrometer = salobj.Remote(name=\"Electrometer\", domain=domain, index=101) # Check SAL index"
   ]
  },
  {
   "cell_type": "code",
   "execution_count": null,
   "metadata": {
    "execution": {
     "iopub.execute_input": "2024-07-28T16:02:34.060867Z",
     "iopub.status.busy": "2024-07-28T16:02:34.060715Z",
     "iopub.status.idle": "2024-07-28T16:02:34.076622Z",
     "shell.execute_reply": "2024-07-28T16:02:34.076130Z",
     "shell.execute_reply.started": "2024-07-28T16:02:34.060852Z"
    }
   },
   "outputs": [],
   "source": [
    "await electrometer.start_task"
   ]
  },
  {
   "cell_type": "code",
   "execution_count": null,
   "metadata": {
    "execution": {
     "iopub.execute_input": "2024-07-28T16:02:34.078946Z",
     "iopub.status.busy": "2024-07-28T16:02:34.078788Z",
     "iopub.status.idle": "2024-07-28T16:02:34.082158Z",
     "shell.execute_reply": "2024-07-28T16:02:34.081634Z",
     "shell.execute_reply.started": "2024-07-28T16:02:34.078931Z"
    }
   },
   "outputs": [],
   "source": [
    "elec_tmp = await electrometer.evt_summaryState.aget()\n",
    "print('Electrometer: ',salobj.State(elec_tmp.summaryState))"
   ]
  },
  {
   "cell_type": "code",
   "execution_count": null,
   "metadata": {
    "execution": {
     "iopub.execute_input": "2024-07-28T16:02:34.084452Z",
     "iopub.status.busy": "2024-07-28T16:02:34.084291Z",
     "iopub.status.idle": "2024-07-28T16:02:34.088673Z",
     "shell.execute_reply": "2024-07-28T16:02:34.088253Z",
     "shell.execute_reply.started": "2024-07-28T16:02:34.084435Z"
    }
   },
   "outputs": [],
   "source": [
    "elec_tmp.salIndex"
   ]
  },
  {
   "cell_type": "code",
   "execution_count": null,
   "metadata": {
    "execution": {
     "iopub.execute_input": "2024-07-28T16:02:34.090951Z",
     "iopub.status.busy": "2024-07-28T16:02:34.090795Z",
     "iopub.status.idle": "2024-07-28T16:02:34.094213Z",
     "shell.execute_reply": "2024-07-28T16:02:34.093741Z",
     "shell.execute_reply.started": "2024-07-28T16:02:34.090936Z"
    }
   },
   "outputs": [],
   "source": [
    "test = electrometer.evt_detailedState.get()\n",
    "print(test)"
   ]
  },
  {
   "cell_type": "markdown",
   "metadata": {},
   "source": [
    "# Test the Electrometer before running the PTC script.  Currents are pA."
   ]
  },
  {
   "cell_type": "code",
   "execution_count": null,
   "metadata": {
    "execution": {
     "iopub.execute_input": "2024-07-28T16:02:54.175237Z",
     "iopub.status.busy": "2024-07-28T16:02:54.174844Z",
     "iopub.status.idle": "2024-07-28T16:02:54.180663Z",
     "shell.execute_reply": "2024-07-28T16:02:54.179697Z",
     "shell.execute_reply.started": "2024-07-28T16:02:54.175208Z"
    },
    "jupyter": {
     "outputs_hidden": true
    }
   },
   "outputs": [],
   "source": [
    "mode = await electrometer.evt_measureType.aget()\n",
    "intTime = await electrometer.evt_integrationTime.aget()\n",
    "range_ = await electrometer.evt_measureRange.aget()\n",
    "print(f'Mode: {mode.mode}; Int. Time: {intTime.intTime}; Range: {range_.rangeValue}')"
   ]
  },
  {
   "cell_type": "code",
   "execution_count": null,
   "metadata": {
    "execution": {
     "iopub.execute_input": "2024-07-28T16:03:45.847947Z",
     "iopub.status.busy": "2024-07-28T16:03:45.847608Z",
     "iopub.status.idle": "2024-07-28T16:03:54.163817Z",
     "shell.execute_reply": "2024-07-28T16:03:54.163119Z",
     "shell.execute_reply.started": "2024-07-28T16:03:45.847922Z"
    }
   },
   "outputs": [],
   "source": [
    "exp_time = 1 #sec\n",
    "electrometer.evt_largeFileObjectAvailable.flush()\n",
    "await electrometer.cmd_startScan.set_start(timeout=10)\n",
    "await asyncio.sleep(exp_time)\n",
    "await electrometer.cmd_stopScan.set_start(timeout=exp_time+20)"
   ]
  },
  {
   "cell_type": "code",
   "execution_count": null,
   "metadata": {
    "execution": {
     "iopub.execute_input": "2024-07-28T16:03:55.623856Z",
     "iopub.status.busy": "2024-07-28T16:03:55.623612Z",
     "iopub.status.idle": "2024-07-28T16:03:56.030077Z",
     "shell.execute_reply": "2024-07-28T16:03:56.029222Z",
     "shell.execute_reply.started": "2024-07-28T16:03:55.623839Z"
    }
   },
   "outputs": [],
   "source": [
    "lfa = await electrometer.evt_largeFileObjectAvailable.next(flush=False, timeout=10)\n",
    "filename= os.path.split(lfa.url)[1]\n",
    "print(filename)\n",
    "elec_filen = os.path.join(data_dir, filename)\n",
    "os.system(f\"curl {lfa.url} --output {elec_filen}\")"
   ]
  },
  {
   "cell_type": "code",
   "execution_count": null,
   "metadata": {
    "execution": {
     "iopub.execute_input": "2024-07-28T16:04:02.683829Z",
     "iopub.status.busy": "2024-07-28T16:04:02.683581Z",
     "iopub.status.idle": "2024-07-28T16:04:02.695207Z",
     "shell.execute_reply": "2024-07-28T16:04:02.694525Z",
     "shell.execute_reply.started": "2024-07-28T16:04:02.683811Z"
    }
   },
   "outputs": [],
   "source": [
    "# Look at Data\n",
    "hdu = fits.open(f'{elec_filen}')\n",
    "data = hdu[1].data\n",
    "print(data)"
   ]
  },
  {
   "cell_type": "markdown",
   "metadata": {},
   "source": [
    "# Test the Electrometer after running the PTC script.  Currents are 100's of nA."
   ]
  },
  {
   "cell_type": "code",
   "execution_count": null,
   "metadata": {
    "execution": {
     "iopub.execute_input": "2024-07-28T16:10:16.887062Z",
     "iopub.status.busy": "2024-07-28T16:10:16.886394Z",
     "iopub.status.idle": "2024-07-28T16:10:16.894417Z",
     "shell.execute_reply": "2024-07-28T16:10:16.891407Z",
     "shell.execute_reply.started": "2024-07-28T16:10:16.887011Z"
    }
   },
   "outputs": [],
   "source": [
    "mode = await electrometer.evt_measureType.aget()\n",
    "intTime = await electrometer.evt_integrationTime.aget()\n",
    "range_ = await electrometer.evt_measureRange.aget()\n",
    "print(f'Mode: {mode.mode}; Int. Time: {intTime.intTime}; Range: {range_.rangeValue}')"
   ]
  },
  {
   "cell_type": "code",
   "execution_count": null,
   "metadata": {
    "execution": {
     "iopub.execute_input": "2024-07-28T16:10:19.407057Z",
     "iopub.status.busy": "2024-07-28T16:10:19.406209Z",
     "iopub.status.idle": "2024-07-28T16:10:27.141547Z",
     "shell.execute_reply": "2024-07-28T16:10:27.140832Z",
     "shell.execute_reply.started": "2024-07-28T16:10:19.407008Z"
    }
   },
   "outputs": [],
   "source": [
    "exp_time = 1 #sec\n",
    "electrometer.evt_largeFileObjectAvailable.flush()\n",
    "await electrometer.cmd_startScan.set_start(timeout=10)\n",
    "await asyncio.sleep(exp_time)\n",
    "await electrometer.cmd_stopScan.set_start(timeout=exp_time+20)"
   ]
  },
  {
   "cell_type": "code",
   "execution_count": null,
   "metadata": {
    "execution": {
     "iopub.execute_input": "2024-07-28T16:10:32.209044Z",
     "iopub.status.busy": "2024-07-28T16:10:32.208676Z",
     "iopub.status.idle": "2024-07-28T16:10:32.287429Z",
     "shell.execute_reply": "2024-07-28T16:10:32.286652Z",
     "shell.execute_reply.started": "2024-07-28T16:10:32.209026Z"
    }
   },
   "outputs": [],
   "source": [
    "lfa = await electrometer.evt_largeFileObjectAvailable.next(flush=False, timeout=10)\n",
    "filename= os.path.split(lfa.url)[1]\n",
    "print(filename)\n",
    "elec_filen = os.path.join(data_dir, filename)\n",
    "os.system(f\"curl {lfa.url} --output {elec_filen}\")"
   ]
  },
  {
   "cell_type": "code",
   "execution_count": null,
   "metadata": {
    "execution": {
     "iopub.execute_input": "2024-07-28T16:10:35.906000Z",
     "iopub.status.busy": "2024-07-28T16:10:35.905624Z",
     "iopub.status.idle": "2024-07-28T16:10:35.919117Z",
     "shell.execute_reply": "2024-07-28T16:10:35.918328Z",
     "shell.execute_reply.started": "2024-07-28T16:10:35.905972Z"
    }
   },
   "outputs": [],
   "source": [
    "# Look at Data\n",
    "hdu = fits.open(f'{elec_filen}')\n",
    "data = hdu[1].data\n",
    "print(data)"
   ]
  },
  {
   "cell_type": "markdown",
   "metadata": {},
   "source": [
    "# Set to autorange and test the Electrometer again after running the PTC script.  Currents are still 100's of nA."
   ]
  },
  {
   "cell_type": "code",
   "execution_count": null,
   "metadata": {
    "execution": {
     "iopub.execute_input": "2024-07-28T16:11:25.263973Z",
     "iopub.status.busy": "2024-07-28T16:11:25.263731Z",
     "iopub.status.idle": "2024-07-28T16:11:27.762965Z",
     "shell.execute_reply": "2024-07-28T16:11:27.762234Z",
     "shell.execute_reply.started": "2024-07-28T16:11:25.263956Z"
    }
   },
   "outputs": [],
   "source": [
    "await electrometer.cmd_setRange.set_start(setRange=-1) # -1 is autorange"
   ]
  },
  {
   "cell_type": "code",
   "execution_count": null,
   "metadata": {
    "execution": {
     "iopub.execute_input": "2024-07-28T16:11:29.627587Z",
     "iopub.status.busy": "2024-07-28T16:11:29.626813Z",
     "iopub.status.idle": "2024-07-28T16:11:29.631643Z",
     "shell.execute_reply": "2024-07-28T16:11:29.631039Z",
     "shell.execute_reply.started": "2024-07-28T16:11:29.627559Z"
    }
   },
   "outputs": [],
   "source": [
    "mode = await electrometer.evt_measureType.aget()\n",
    "intTime = await electrometer.evt_integrationTime.aget()\n",
    "range_ = await electrometer.evt_measureRange.aget()\n",
    "print(f'Mode: {mode.mode}; Int. Time: {intTime.intTime}; Range: {range_.rangeValue}')"
   ]
  },
  {
   "cell_type": "code",
   "execution_count": null,
   "metadata": {
    "execution": {
     "iopub.execute_input": "2024-07-28T16:11:31.127593Z",
     "iopub.status.busy": "2024-07-28T16:11:31.127248Z",
     "iopub.status.idle": "2024-07-28T16:11:38.799240Z",
     "shell.execute_reply": "2024-07-28T16:11:38.798576Z",
     "shell.execute_reply.started": "2024-07-28T16:11:31.127575Z"
    }
   },
   "outputs": [],
   "source": [
    "exp_time = 1 #sec\n",
    "electrometer.evt_largeFileObjectAvailable.flush()\n",
    "await electrometer.cmd_startScan.set_start(timeout=10)\n",
    "await asyncio.sleep(exp_time)\n",
    "await electrometer.cmd_stopScan.set_start(timeout=exp_time+20)"
   ]
  },
  {
   "cell_type": "code",
   "execution_count": null,
   "metadata": {
    "execution": {
     "iopub.execute_input": "2024-07-28T16:11:42.684239Z",
     "iopub.status.busy": "2024-07-28T16:11:42.683836Z",
     "iopub.status.idle": "2024-07-28T16:11:42.967257Z",
     "shell.execute_reply": "2024-07-28T16:11:42.966350Z",
     "shell.execute_reply.started": "2024-07-28T16:11:42.684210Z"
    }
   },
   "outputs": [],
   "source": [
    "lfa = await electrometer.evt_largeFileObjectAvailable.next(flush=False, timeout=10)\n",
    "filename= os.path.split(lfa.url)[1]\n",
    "print(filename)\n",
    "elec_filen = os.path.join(data_dir, filename)\n",
    "os.system(f\"curl {lfa.url} --output {elec_filen}\")"
   ]
  },
  {
   "cell_type": "code",
   "execution_count": null,
   "metadata": {
    "execution": {
     "iopub.execute_input": "2024-07-28T16:11:46.147823Z",
     "iopub.status.busy": "2024-07-28T16:11:46.147478Z",
     "iopub.status.idle": "2024-07-28T16:11:46.160322Z",
     "shell.execute_reply": "2024-07-28T16:11:46.159507Z",
     "shell.execute_reply.started": "2024-07-28T16:11:46.147799Z"
    }
   },
   "outputs": [],
   "source": [
    "# Look at Data\n",
    "hdu = fits.open(f'{elec_filen}')\n",
    "data = hdu[1].data\n",
    "print(data)"
   ]
  },
  {
   "cell_type": "markdown",
   "metadata": {},
   "source": [
    "# Get the first LFA file run by PTC script.  Currents are 100's of nA."
   ]
  },
  {
   "cell_type": "code",
   "execution_count": null,
   "metadata": {
    "execution": {
     "iopub.execute_input": "2024-07-28T16:15:46.189741Z",
     "iopub.status.busy": "2024-07-28T16:15:46.189332Z",
     "iopub.status.idle": "2024-07-28T16:15:46.408984Z",
     "shell.execute_reply": "2024-07-28T16:15:46.407859Z",
     "shell.execute_reply.started": "2024-07-28T16:15:46.189709Z"
    }
   },
   "outputs": [],
   "source": [
    "url='https://s3.cp.lsst.org/rubinobs-lfa-cp/Electrometer:101/fits/2024/07/28/Electrometer:101_fits_2024-07-28T16:08:31.701.fits'\n",
    "filename= os.path.split(url)[1]\n",
    "print(filename)\n",
    "elec_filen = os.path.join(data_dir, filename)\n",
    "os.system(f\"curl {url} --output {elec_filen}\")"
   ]
  },
  {
   "cell_type": "code",
   "execution_count": null,
   "metadata": {
    "execution": {
     "iopub.execute_input": "2024-07-28T16:15:47.304878Z",
     "iopub.status.busy": "2024-07-28T16:15:47.304633Z",
     "iopub.status.idle": "2024-07-28T16:15:47.315256Z",
     "shell.execute_reply": "2024-07-28T16:15:47.314476Z",
     "shell.execute_reply.started": "2024-07-28T16:15:47.304862Z"
    }
   },
   "outputs": [],
   "source": [
    "# Look at Data\n",
    "hdu = fits.open(f'{elec_filen}')\n",
    "data = hdu[1].data\n",
    "print(data)"
   ]
  },
  {
   "cell_type": "markdown",
   "metadata": {},
   "source": [
    "# Cycle the CSC and test the Electrometer again after running the PTC script.  Currents are still 100's on nA."
   ]
  },
  {
   "cell_type": "code",
   "execution_count": null,
   "metadata": {
    "execution": {
     "iopub.execute_input": "2024-07-28T16:29:36.953207Z",
     "iopub.status.busy": "2024-07-28T16:29:36.952488Z",
     "iopub.status.idle": "2024-07-28T16:29:39.132774Z",
     "shell.execute_reply": "2024-07-28T16:29:39.132226Z",
     "shell.execute_reply.started": "2024-07-28T16:29:36.953179Z"
    }
   },
   "outputs": [],
   "source": [
    "await electrometer.cmd_setRange.set_start(setRange=-1) # -1 is autorange"
   ]
  },
  {
   "cell_type": "code",
   "execution_count": null,
   "metadata": {
    "execution": {
     "iopub.execute_input": "2024-07-28T16:29:42.012394Z",
     "iopub.status.busy": "2024-07-28T16:29:42.011575Z",
     "iopub.status.idle": "2024-07-28T16:29:42.017522Z",
     "shell.execute_reply": "2024-07-28T16:29:42.016636Z",
     "shell.execute_reply.started": "2024-07-28T16:29:42.012362Z"
    }
   },
   "outputs": [],
   "source": [
    "mode = await electrometer.evt_measureType.aget()\n",
    "intTime = await electrometer.evt_integrationTime.aget()\n",
    "range_ = await electrometer.evt_measureRange.aget()\n",
    "print(f'Mode: {mode.mode}; Int. Time: {intTime.intTime}; Range: {range_.rangeValue}')"
   ]
  },
  {
   "cell_type": "code",
   "execution_count": null,
   "metadata": {
    "execution": {
     "iopub.execute_input": "2024-07-28T16:29:45.152353Z",
     "iopub.status.busy": "2024-07-28T16:29:45.151974Z",
     "iopub.status.idle": "2024-07-28T16:29:53.727291Z",
     "shell.execute_reply": "2024-07-28T16:29:53.726486Z",
     "shell.execute_reply.started": "2024-07-28T16:29:45.152325Z"
    }
   },
   "outputs": [],
   "source": [
    "exp_time = 1 #sec\n",
    "electrometer.evt_largeFileObjectAvailable.flush()\n",
    "await electrometer.cmd_startScan.set_start(timeout=10)\n",
    "await asyncio.sleep(exp_time)\n",
    "await electrometer.cmd_stopScan.set_start(timeout=exp_time+20)"
   ]
  },
  {
   "cell_type": "code",
   "execution_count": null,
   "metadata": {
    "execution": {
     "iopub.execute_input": "2024-07-28T16:29:57.015318Z",
     "iopub.status.busy": "2024-07-28T16:29:57.014917Z",
     "iopub.status.idle": "2024-07-28T16:29:57.357963Z",
     "shell.execute_reply": "2024-07-28T16:29:57.357147Z",
     "shell.execute_reply.started": "2024-07-28T16:29:57.015290Z"
    }
   },
   "outputs": [],
   "source": [
    "lfa = await electrometer.evt_largeFileObjectAvailable.next(flush=False, timeout=10)\n",
    "filename= os.path.split(lfa.url)[1]\n",
    "print(filename)\n",
    "elec_filen = os.path.join(data_dir, filename)\n",
    "os.system(f\"curl {lfa.url} --output {elec_filen}\")"
   ]
  },
  {
   "cell_type": "code",
   "execution_count": null,
   "metadata": {
    "execution": {
     "iopub.execute_input": "2024-07-28T16:30:05.382660Z",
     "iopub.status.busy": "2024-07-28T16:30:05.381756Z",
     "iopub.status.idle": "2024-07-28T16:30:05.392915Z",
     "shell.execute_reply": "2024-07-28T16:30:05.392196Z",
     "shell.execute_reply.started": "2024-07-28T16:30:05.382629Z"
    }
   },
   "outputs": [],
   "source": [
    "# Look at Data\n",
    "hdu = fits.open(f'{elec_filen}')\n",
    "data = hdu[1].data\n",
    "print(data)"
   ]
  },
  {
   "cell_type": "code",
   "execution_count": null,
   "metadata": {},
   "outputs": [],
   "source": []
  }
 ],
 "metadata": {
  "kernelspec": {
   "display_name": "LSST",
   "language": "python",
   "name": "lsst"
  },
  "language_info": {
   "codemirror_mode": {
    "name": "ipython",
    "version": 3
   },
   "file_extension": ".py",
   "mimetype": "text/x-python",
   "name": "python",
   "nbconvert_exporter": "python",
   "pygments_lexer": "ipython3",
   "version": "3.11.9"
  }
 },
 "nbformat": 4,
 "nbformat_minor": 4
}
