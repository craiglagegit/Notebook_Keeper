{
 "cells": [
  {
   "cell_type": "markdown",
   "id": "26525486-1a72-4bb6-a865-66c9b9fa942e",
   "metadata": {},
   "source": [
    "## TAI testing - Summit\n",
    "Craig Lage - Mar 9, 2022 \\\n",
    "Repeating - May 4, 2022"
   ]
  },
  {
   "cell_type": "code",
   "execution_count": null,
   "id": "3d026929-a396-45f9-b03e-be09905b54a7",
   "metadata": {},
   "outputs": [],
   "source": [
    "from astropy.time import Time\n",
    "t = Time('2022-03-08', scale='utc')\n",
    "t.unix_tai - t.unix"
   ]
  },
  {
   "cell_type": "code",
   "execution_count": null,
   "id": "40b80127-300a-4e80-8bf2-110a267c98ee",
   "metadata": {},
   "outputs": [],
   "source": [
    "from astropy import __version__ as astropyVersion\n",
    "print(astropyVersion)"
   ]
  },
  {
   "cell_type": "code",
   "execution_count": null,
   "id": "eab982b6-95a3-4254-b45a-35847b5e7184",
   "metadata": {},
   "outputs": [],
   "source": []
  }
 ],
 "metadata": {
  "kernelspec": {
   "display_name": "LSST",
   "language": "python",
   "name": "lsst"
  },
  "language_info": {
   "codemirror_mode": {
    "name": "ipython",
    "version": 3
   },
   "file_extension": ".py",
   "mimetype": "text/x-python",
   "name": "python",
   "nbconvert_exporter": "python",
   "pygments_lexer": "ipython3",
   "version": "3.8.13"
  }
 },
 "nbformat": 4,
 "nbformat_minor": 5
}
