{
 "cells": [
  {
   "cell_type": "code",
   "execution_count": null,
   "metadata": {
    "execution": {
     "iopub.execute_input": "2023-02-03T12:11:11.326089Z",
     "iopub.status.busy": "2023-02-03T12:11:11.325751Z",
     "iopub.status.idle": "2023-02-03T12:11:11.759886Z",
     "shell.execute_reply": "2023-02-03T12:11:11.759323Z",
     "shell.execute_reply.started": "2023-02-03T12:11:11.326069Z"
    },
    "tags": []
   },
   "outputs": [],
   "source": [
    "import sys, time, os, asyncio, glob\n",
    "from datetime import datetime\n",
    "import numpy as np\n",
    "import matplotlib.pyplot as plt\n",
    "import pickle as pkl\n",
    "import pandas as pd\n",
    "import astropy.io.fits as pf\n",
    "from astropy.time import Time, TimeDelta\n",
    "import json\n",
    "from lsst_efd_client import EfdClient"
   ]
  },
  {
   "cell_type": "code",
   "execution_count": null,
   "metadata": {
    "execution": {
     "iopub.execute_input": "2023-02-03T14:27:29.987620Z",
     "iopub.status.busy": "2023-02-03T14:27:29.987348Z",
     "iopub.status.idle": "2023-02-03T14:27:30.131394Z",
     "shell.execute_reply": "2023-02-03T14:27:30.130959Z",
     "shell.execute_reply.started": "2023-02-03T14:27:29.987603Z"
    },
    "tags": []
   },
   "outputs": [],
   "source": [
    "# This file needs to be manually downloaded from RubinTV\n",
    "filename = '/home/craiglagegit/DATA/auxtel_anemom_01feb23/auxtel_2023-02-01.json'\n",
    "df = pd.read_json(filename)\n",
    "df = df.transpose()\n",
    "limit = 0.25 # Limit in arcseconds\n",
    "df_bad = df[df['Mount motion image degradation'] > limit]\n",
    "df_good = df[df['Mount motion image degradation'] <= limit]\n",
    "mount_degradation = df['Mount motion image degradation']\n",
    "total = np.count_nonzero(~pd.isna(mount_degradation.values))\n",
    "print(f\" There are {len(df_bad)} values > {limit} out of {total} values\")"
   ]
  },
  {
   "cell_type": "code",
   "execution_count": null,
   "metadata": {
    "execution": {
     "iopub.execute_input": "2023-02-03T14:28:00.987877Z",
     "iopub.status.busy": "2023-02-03T14:28:00.987599Z",
     "iopub.status.idle": "2023-02-03T14:28:00.992348Z",
     "shell.execute_reply": "2023-02-03T14:28:00.991934Z",
     "shell.execute_reply.started": "2023-02-03T14:28:00.987857Z"
    },
    "tags": []
   },
   "outputs": [],
   "source": [
    "columns_to_keep = ['Altitude', 'Azimuth', 'Exposure id', 'Mount motion image degradation', 'TAI']\n",
    "df_bad = df_bad[columns_to_keep]\n",
    "df_bad['Type'] = 'Other'\n",
    "df_good = df_good[columns_to_keep]"
   ]
  },
  {
   "cell_type": "markdown",
   "metadata": {},
   "source": [
    "## Now we manually look at the plots to determine the failure type"
   ]
  },
  {
   "cell_type": "code",
   "execution_count": null,
   "metadata": {
    "execution": {
     "iopub.execute_input": "2023-02-02T19:16:19.823200Z",
     "iopub.status.busy": "2023-02-02T19:16:19.822912Z",
     "iopub.status.idle": "2023-02-02T19:35:31.280434Z",
     "shell.execute_reply": "2023-02-02T19:35:31.279866Z",
     "shell.execute_reply.started": "2023-02-02T19:16:19.823183Z"
    },
    "jupyter": {
     "outputs_hidden": true
    },
    "tags": []
   },
   "outputs": [],
   "source": [
    "# \n",
    "for index in df_bad.index.to_list():\n",
    "    type = input(f\"Which type is {index}? (C = Cogging, S = Stiction, W = Wind, O = Other\")\n",
    "    if type == \"\" or type == 'O':\n",
    "        df_bad.loc[index]['Type'] = 'Other'\n",
    "    if type == 'C':\n",
    "        df_bad.loc[index]['Type'] = 'Cogging'\n",
    "    if type == 'S':\n",
    "        df_bad.loc[index]['Type'] = 'Stiction'\n",
    "    if type == 'W':\n",
    "        df_bad.loc[index]['Type'] = 'Wind'\n"
   ]
  },
  {
   "cell_type": "code",
   "execution_count": null,
   "metadata": {
    "execution": {
     "iopub.execute_input": "2023-02-02T19:37:58.482032Z",
     "iopub.status.busy": "2023-02-02T19:37:58.481768Z",
     "iopub.status.idle": "2023-02-02T19:37:58.486154Z",
     "shell.execute_reply": "2023-02-02T19:37:58.485775Z",
     "shell.execute_reply.started": "2023-02-02T19:37:58.482015Z"
    },
    "tags": []
   },
   "outputs": [],
   "source": [
    "# Pickle the dataframe so I don't have to categorize them again\n",
    "file = open('/home/craiglagegit/DATA/auxtel_anemom_01feb23/df.pkl', 'wb')\n",
    "pkl.dump(df_bad, file)\n",
    "file.close()\n"
   ]
  },
  {
   "cell_type": "code",
   "execution_count": null,
   "metadata": {
    "execution": {
     "iopub.execute_input": "2023-02-03T14:28:05.863720Z",
     "iopub.status.busy": "2023-02-03T14:28:05.863438Z",
     "iopub.status.idle": "2023-02-03T14:28:05.866764Z",
     "shell.execute_reply": "2023-02-03T14:28:05.866347Z",
     "shell.execute_reply.started": "2023-02-03T14:28:05.863702Z"
    },
    "tags": []
   },
   "outputs": [],
   "source": [
    "# Now unpickle them\n",
    "file = open('/home/craiglagegit/DATA/auxtel_anemom_01feb23/df.pkl', 'rb')\n",
    "df_bad = pkl.load(file)\n",
    "file.close()"
   ]
  },
  {
   "cell_type": "markdown",
   "metadata": {},
   "source": [
    "## Now we plot the mount fails against the anemometer wind speed"
   ]
  },
  {
   "cell_type": "code",
   "execution_count": null,
   "metadata": {
    "execution": {
     "iopub.execute_input": "2023-02-03T12:11:36.434588Z",
     "iopub.status.busy": "2023-02-03T12:11:36.434306Z",
     "iopub.status.idle": "2023-02-03T12:11:37.660430Z",
     "shell.execute_reply": "2023-02-03T12:11:37.659829Z",
     "shell.execute_reply.started": "2023-02-03T12:11:36.434569Z"
    },
    "tags": []
   },
   "outputs": [],
   "source": [
    "client = EfdClient('summit_efd')"
   ]
  },
  {
   "cell_type": "code",
   "execution_count": null,
   "metadata": {
    "execution": {
     "iopub.execute_input": "2023-02-03T14:51:24.817937Z",
     "iopub.status.busy": "2023-02-03T14:51:24.817625Z",
     "iopub.status.idle": "2023-02-03T14:51:24.821416Z",
     "shell.execute_reply": "2023-02-03T14:51:24.820900Z",
     "shell.execute_reply.started": "2023-02-03T14:51:24.817907Z"
    },
    "tags": []
   },
   "outputs": [],
   "source": [
    "# Times to start looking at data\n",
    "start = Time(\"2023-02-02 00:20:00Z\", scale='utc')\n",
    "end = Time(\"2023-02-02 08:00:00Z\", scale='utc')"
   ]
  },
  {
   "cell_type": "code",
   "execution_count": null,
   "metadata": {
    "execution": {
     "iopub.execute_input": "2023-02-03T14:51:26.601998Z",
     "iopub.status.busy": "2023-02-03T14:51:26.601500Z",
     "iopub.status.idle": "2023-02-03T14:51:26.640419Z",
     "shell.execute_reply": "2023-02-03T14:51:26.639961Z",
     "shell.execute_reply.started": "2023-02-03T14:51:26.601954Z"
    },
    "tags": []
   },
   "outputs": [],
   "source": [
    "u = await client.select_time_series('lsst.sal.ESS.airTurbulence', \\\n",
    "                                                ['*'],  start, end)"
   ]
  },
  {
   "cell_type": "code",
   "execution_count": null,
   "metadata": {
    "execution": {
     "iopub.execute_input": "2023-02-03T16:36:15.728296Z",
     "iopub.status.busy": "2023-02-03T16:36:15.728020Z",
     "iopub.status.idle": "2023-02-03T16:36:15.764892Z",
     "shell.execute_reply": "2023-02-03T16:36:15.764254Z",
     "shell.execute_reply.started": "2023-02-03T16:36:15.728279Z"
    },
    "tags": []
   },
   "outputs": [],
   "source": [
    "# the \"speedMagnitude' values in u are not right, so\n",
    "# We create a new column with the correct values\n",
    "u['uMag'] = u.apply(lambda row: np.sqrt(row.speed0*row.speed0 + row.speed1*row.speed1 + row.speed2*row.speed2), axis=1)\n",
    "u['sdMag'] = u.apply(lambda row: np.sqrt(row.speedStdDev0*row.speedStdDev0 + row.speedStdDev1*row.speedStdDev1 + row.speedStdDev2*row.speedStdDev2), axis=1)"
   ]
  },
  {
   "cell_type": "code",
   "execution_count": null,
   "metadata": {
    "execution": {
     "iopub.execute_input": "2023-02-03T16:40:27.620978Z",
     "iopub.status.busy": "2023-02-03T16:40:27.620687Z",
     "iopub.status.idle": "2023-02-03T16:40:27.840217Z",
     "shell.execute_reply": "2023-02-03T16:40:27.839732Z",
     "shell.execute_reply.started": "2023-02-03T16:40:27.620960Z"
    },
    "tags": []
   },
   "outputs": [],
   "source": [
    "# Categorize mount failures against wind speed\n",
    "\n",
    "uMagValues = u['speedMagnitude'].values\n",
    "timestamps = u['timestamp'].values\n",
    "uMagsGood = []\n",
    "uMagsWind = []\n",
    "uMagsStiction = []\n",
    "mountValsGood = []\n",
    "mountValsWind = []\n",
    "mountValsStiction = []\n",
    "for index in df_good.index.to_list():\n",
    "    if int(df_good['TAI'].loc[index].split(':')[0]) > 8:\n",
    "        obs_time = Time(\"2023-02-01T\"+df_good['TAI'].loc[index], scale='tai')\n",
    "    else:\n",
    "        obs_time = Time(\"2023-02-02T\"+df_good['TAI'].loc[index], scale='tai')\n",
    "    mountVal = df_good['Mount motion image degradation'].loc[index]\n",
    "    uMag = np.interp(obs_time.unix_tai, timestamps, uMagValues)\n",
    "    if np.isnan(mountVal):\n",
    "        continue\n",
    "    mountValsGood.append(mountVal)\n",
    "    uMagsGood.append(uMag)\n",
    "for index in df_bad[df_bad['Type']=='Wind'].index.to_list():\n",
    "    if int(df_bad[df_bad['Type']=='Wind']['TAI'].loc[index].split(':')[0]) > 8:\n",
    "        obs_time = Time(\"2023-02-01T\"+df_bad[df_bad['Type']=='Wind']['TAI'].loc[index], scale='tai')\n",
    "    else:\n",
    "        obs_time = Time(\"2023-02-02T\"+df_bad[df_bad['Type']=='Wind']['TAI'].loc[index], scale='tai')\n",
    "    mountVal = df_bad[df_bad['Type']=='Wind']['Mount motion image degradation'].loc[index]\n",
    "    uMag = np.interp(obs_time.unix_tai, timestamps, uMagValues)\n",
    "    if np.isnan(mountVal):\n",
    "        continue\n",
    "    mountValsWind.append(mountVal)\n",
    "    uMagsWind.append(uMag)\n",
    "for index in df_bad[df_bad['Type']=='Stiction'].index.to_list():\n",
    "    if int(df_bad[df_bad['Type']=='Stiction']['TAI'].loc[index].split(':')[0]) > 8:\n",
    "        obs_time = Time(\"2023-02-01T\"+df_bad[df_bad['Type']=='Stiction']['TAI'].loc[index], scale='tai')\n",
    "    else:\n",
    "        obs_time = Time(\"2023-02-02T\"+df_bad[df_bad['Type']=='Stiction']['TAI'].loc[index], scale='tai')\n",
    "    mountVal = df_bad[df_bad['Type']=='Stiction']['Mount motion image degradation'].loc[index]\n",
    "    uMag = np.interp(obs_time.unix_tai, timestamps, uMagValues)\n",
    "    if np.isnan(mountVal):\n",
    "        continue\n",
    "    mountValsStiction.append(mountVal)\n",
    "    uMagsStiction.append(uMag)\n"
   ]
  },
  {
   "cell_type": "code",
   "execution_count": null,
   "metadata": {
    "execution": {
     "iopub.execute_input": "2023-02-03T16:40:52.523795Z",
     "iopub.status.busy": "2023-02-03T16:40:52.523316Z",
     "iopub.status.idle": "2023-02-03T16:40:52.896389Z",
     "shell.execute_reply": "2023-02-03T16:40:52.895842Z",
     "shell.execute_reply.started": "2023-02-03T16:40:52.523752Z"
    },
    "tags": []
   },
   "outputs": [],
   "source": [
    "# Now plot the results.  Wind fails only occur at high wind speeds\n",
    "fig = plt.figure(figsize = (12,4))\n",
    "plt.suptitle(\"Mount fails 20230202\")\n",
    "plt.subplots_adjust(wspace=0.5)\n",
    "plt.subplot(1,2,1)\n",
    "plt.scatter(uMagsGood, mountValsGood, color='green', label='Good')\n",
    "plt.scatter(uMagsWind, mountValsWind, color='red', label='Wind')\n",
    "plt.ylabel(\"Mount motion image degradation\")\n",
    "plt.xlabel(\"Anemometer SpeedMag, (units?)\")\n",
    "plt.legend()\n",
    "plt.subplot(1,2,2)\n",
    "plt.scatter(uMagsGood, mountValsGood, color='green', label='Good')\n",
    "plt.scatter(uMagsStiction, mountValsStiction, color='orange', label='Stiction')\n",
    "plt.ylabel(\"Mount motion image degradation\")\n",
    "plt.xlabel(\"Anemometer SpeedMag, (units?)\")\n",
    "plt.legend()\n",
    "\n",
    "plt.savefig('/home/craiglagegit/DATA/auxtel_anemom_01feb23/Speed_vs_Fails_20230202.png')"
   ]
  },
  {
   "cell_type": "code",
   "execution_count": null,
   "metadata": {
    "execution": {
     "iopub.execute_input": "2023-02-03T16:41:33.123330Z",
     "iopub.status.busy": "2023-02-03T16:41:33.123053Z",
     "iopub.status.idle": "2023-02-03T16:41:35.817449Z",
     "shell.execute_reply": "2023-02-03T16:41:35.816847Z",
     "shell.execute_reply.started": "2023-02-03T16:41:33.123312Z"
    },
    "tags": []
   },
   "outputs": [],
   "source": [
    "# Now plot when the failures occurred vs wind speed\n",
    "fig = plt.figure(figsize = (16,8))\n",
    "plt.suptitle(\"Mount fails 20230202\")\n",
    "plt.subplots_adjust(hspace=0.5)\n",
    "plt.subplot(2,1,1)\n",
    "ax1 = u['speedMagnitude'].plot()\n",
    "for index in df_bad[df_bad['Type'] == 'Wind'].index.to_list():\n",
    "    bad_time = Time(\"2023-02-02T\"+df_bad['TAI'].loc[index], scale='tai').isot  \n",
    "    ax1.axvline(bad_time, color=\"red\")\n",
    "ax1.axvline(bad_time, color=\"red\", label= \"Wind\")\n",
    "for index in df_bad[df_bad['Type'] == 'Stiction'].index.to_list():\n",
    "    bad_time = Time(\"2023-02-02T\"+df_bad['TAI'].loc[index], scale='tai').isot  \n",
    "    ax1.axvline(bad_time, color=\"orange\")\n",
    "ax1.axvline(bad_time, color=\"orange\", label=\"Stiction\")\n",
    "ax1.legend()\n",
    "plt.subplot(2,1,2)\n",
    "ax2 = u['speedMagnitude'].plot()\n",
    "for index in df_good.index.to_list():\n",
    "    if int(df_good['TAI'].loc[index].split(':')[0]) > 8:\n",
    "        continue\n",
    "    good_time = Time(\"2023-02-02T\"+df_good['TAI'].loc[index], scale='tai').isot  \n",
    "    ax2.axvline(good_time, color=\"green\")\n",
    "ax2.axvline(good_time, color=\"green\", label=\"Good\")\n",
    "ax2.legend()\n",
    "plt.savefig('/home/craiglagegit/DATA/auxtel_anemom_01feb23/Time_of_Fails_vs_20230202.png')\n"
   ]
  },
  {
   "cell_type": "markdown",
   "metadata": {},
   "source": [
    "## In this section, we are trying to understand why the wind speed is varying during the night.\n",
    "## It depends on where the telescope is pointing."
   ]
  },
  {
   "cell_type": "code",
   "execution_count": null,
   "metadata": {
    "execution": {
     "iopub.execute_input": "2023-02-03T14:38:25.125795Z",
     "iopub.status.busy": "2023-02-03T14:38:25.125521Z",
     "iopub.status.idle": "2023-02-03T14:38:25.129123Z",
     "shell.execute_reply": "2023-02-03T14:38:25.128681Z",
     "shell.execute_reply.started": "2023-02-03T14:38:25.125778Z"
    },
    "tags": []
   },
   "outputs": [],
   "source": [
    "# Times to start looking at data\n",
    "start = Time(\"2023-02-03 04:39:00Z\", scale='utc')\n",
    "end = Time(\"2023-02-03 08:55:00Z\", scale='utc')"
   ]
  },
  {
   "cell_type": "code",
   "execution_count": null,
   "metadata": {
    "execution": {
     "iopub.execute_input": "2023-02-03T14:38:26.800899Z",
     "iopub.status.busy": "2023-02-03T14:38:26.800625Z",
     "iopub.status.idle": "2023-02-03T14:38:50.853088Z",
     "shell.execute_reply": "2023-02-03T14:38:50.852535Z",
     "shell.execute_reply.started": "2023-02-03T14:38:26.800881Z"
    },
    "tags": []
   },
   "outputs": [],
   "source": [
    "u = await client.select_time_series('lsst.sal.ESS.airTurbulence', \\\n",
    "                                                ['*'],  start, end)\n",
    "az = await client.select_packed_time_series(\"lsst.sal.ATMCS.mount_AzEl_Encoders\", \\\n",
    "                                      ['azimuthCalculatedAngle'],  start, end)\n",
    "el = await client.select_packed_time_series(\"lsst.sal.ATMCS.mount_AzEl_Encoders\", \\\n",
    "                                      ['elevationCalculatedAngle'],  start, end)\n"
   ]
  },
  {
   "cell_type": "code",
   "execution_count": null,
   "metadata": {
    "execution": {
     "iopub.execute_input": "2023-02-03T14:38:50.888989Z",
     "iopub.status.busy": "2023-02-03T14:38:50.888799Z",
     "iopub.status.idle": "2023-02-03T14:38:53.654449Z",
     "shell.execute_reply": "2023-02-03T14:38:53.653954Z",
     "shell.execute_reply.started": "2023-02-03T14:38:50.888973Z"
    },
    "tags": []
   },
   "outputs": [],
   "source": [
    "plt.subplots_adjust(hspace=0.5)\n",
    "plt.suptitle(f\"Anemom Speed2 vs Azimuth 20230203\")\n",
    "plt.subplot(2,1,1)\n",
    "u['speed2'].plot()\n",
    "plt.ylabel(\"Speed2 (m/s)\")\n",
    "plt.subplot(2,1,2)\n",
    "az['azimuthCalculatedAngle'].plot()\n",
    "plt.ylabel(\"azimuth(degrees)\")\n",
    "plt.savefig('/home/craiglagegit/DATA/auxtel_anemom_01feb23/Speed_vs_Az_20230203.png')"
   ]
  },
  {
   "cell_type": "code",
   "execution_count": null,
   "metadata": {
    "execution": {
     "iopub.execute_input": "2023-02-03T16:19:35.334055Z",
     "iopub.status.busy": "2023-02-03T16:19:35.333762Z",
     "iopub.status.idle": "2023-02-03T16:19:35.337721Z",
     "shell.execute_reply": "2023-02-03T16:19:35.337220Z",
     "shell.execute_reply.started": "2023-02-03T16:19:35.334037Z"
    }
   },
   "outputs": [],
   "source": [
    "u.columns"
   ]
  },
  {
   "cell_type": "code",
   "execution_count": null,
   "metadata": {
    "execution": {
     "iopub.execute_input": "2023-02-03T16:22:42.992967Z",
     "iopub.status.busy": "2023-02-03T16:22:42.992686Z",
     "iopub.status.idle": "2023-02-03T16:22:43.012205Z",
     "shell.execute_reply": "2023-02-03T16:22:43.011772Z",
     "shell.execute_reply.started": "2023-02-03T16:22:42.992950Z"
    }
   },
   "outputs": [],
   "source": [
    "u['uMag'] = u.apply(lambda row: np.sqrt(row.speed0*row.speed0 + row.speed1*row.speed1 + row.speed2*row.speed2), axis=1)"
   ]
  },
  {
   "cell_type": "code",
   "execution_count": null,
   "metadata": {
    "execution": {
     "iopub.execute_input": "2023-02-03T16:23:36.161910Z",
     "iopub.status.busy": "2023-02-03T16:23:36.161621Z",
     "iopub.status.idle": "2023-02-03T16:23:36.315107Z",
     "shell.execute_reply": "2023-02-03T16:23:36.314698Z",
     "shell.execute_reply.started": "2023-02-03T16:23:36.161891Z"
    },
    "tags": []
   },
   "outputs": [],
   "source": [
    "u['uMag'].plot()\n",
    "u['speedMagnitude'].plot()"
   ]
  },
  {
   "cell_type": "code",
   "execution_count": null,
   "metadata": {
    "execution": {
     "iopub.execute_input": "2023-02-03T16:34:07.068583Z",
     "iopub.status.busy": "2023-02-03T16:34:07.068292Z",
     "iopub.status.idle": "2023-02-03T16:34:07.178654Z",
     "shell.execute_reply": "2023-02-03T16:34:07.178207Z",
     "shell.execute_reply.started": "2023-02-03T16:34:07.068566Z"
    },
    "tags": []
   },
   "outputs": [],
   "source": [
    "plt.scatter(u['uMag'], u['speedMagnitude'])"
   ]
  },
  {
   "cell_type": "code",
   "execution_count": null,
   "metadata": {},
   "outputs": [],
   "source": []
  }
 ],
 "metadata": {
  "kernelspec": {
   "display_name": "LSST",
   "language": "python",
   "name": "lsst"
  },
  "language_info": {
   "codemirror_mode": {
    "name": "ipython",
    "version": 3
   },
   "file_extension": ".py",
   "mimetype": "text/x-python",
   "name": "python",
   "nbconvert_exporter": "python",
   "pygments_lexer": "ipython3",
   "version": "3.10.6"
  }
 },
 "nbformat": 4,
 "nbformat_minor": 4
}
