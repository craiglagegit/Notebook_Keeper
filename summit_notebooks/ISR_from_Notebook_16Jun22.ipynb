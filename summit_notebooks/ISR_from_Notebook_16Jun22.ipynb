{
 "cells": [
  {
   "cell_type": "markdown",
   "metadata": {},
   "source": [
    "## Running ISR from a notebook\n",
    "\n",
    "Craig Lage - 16-Jun-22"
   ]
  },
  {
   "cell_type": "markdown",
   "metadata": {},
   "source": [
    "    \n",
    "        Here's an example of running ISR with a pipetask using the yaml file:\n",
    "\n",
    "          isr:\n",
    "            class: lsst.ip.isr.IsrTask\n",
    "            config:\n",
    "              connections.ccdExposure: raw\n",
    "              connections.outputExposure: parameters.exposureName\n",
    "              doWrite: true\n",
    "              doOverscan: true\n",
    "              doAssembleCcd: true\n",
    "              doBias: true\n",
    "              doVariance: true\n",
    "              doLinearize: false\n",
    "              doCrosstalk: false\n",
    "              doBrighterFatter: false\n",
    "              doDark: true\n",
    "              doStrayLight: false\n",
    "              doFlat: false\n",
    "              doFringe: false\n",
    "              doApplyGains: false\n",
    "              doDefect: true\n",
    "              doNanMasking: true\n",
    "              doInterpolate: false\n",
    "              doSaturation: false\n",
    "              doSaturationInterpolation: false\n",
    "              growSaturationFootprintSize: 0\n",
    "     "
   ]
  },
  {
   "cell_type": "code",
   "execution_count": null,
   "metadata": {
    "execution": {
     "iopub.execute_input": "2023-06-29T23:42:16.117164Z",
     "iopub.status.busy": "2023-06-29T23:42:16.116917Z",
     "iopub.status.idle": "2023-06-29T23:42:17.742600Z",
     "shell.execute_reply": "2023-06-29T23:42:17.741968Z",
     "shell.execute_reply.started": "2023-06-29T23:42:16.117147Z"
    },
    "tags": []
   },
   "outputs": [],
   "source": [
    "import numpy as np\n",
    "import matplotlib.pyplot as plt\n",
    "import astropy.io.fits as pf\n",
    "from lsst.ip.isr import IsrTask, IsrTaskConfig\n",
    "from lsst.daf.butler import Butler"
   ]
  },
  {
   "cell_type": "code",
   "execution_count": null,
   "metadata": {
    "execution": {
     "iopub.execute_input": "2023-06-29T23:42:17.776178Z",
     "iopub.status.busy": "2023-06-29T23:42:17.775882Z",
     "iopub.status.idle": "2023-06-29T23:42:18.616331Z",
     "shell.execute_reply": "2023-06-29T23:42:18.615724Z",
     "shell.execute_reply.started": "2023-06-29T23:42:17.776163Z"
    },
    "tags": []
   },
   "outputs": [],
   "source": [
    "butler = Butler('/repo/LATISS', collections=[\"LATISS/raw/all\", \"LATISS/calib\"])"
   ]
  },
  {
   "cell_type": "code",
   "execution_count": null,
   "metadata": {
    "execution": {
     "iopub.execute_input": "2023-06-29T23:44:05.195320Z",
     "iopub.status.busy": "2023-06-29T23:44:05.195042Z",
     "iopub.status.idle": "2023-06-29T23:44:05.226208Z",
     "shell.execute_reply": "2023-06-29T23:44:05.225804Z",
     "shell.execute_reply.started": "2023-06-29T23:44:05.195303Z"
    },
    "tags": []
   },
   "outputs": [],
   "source": [
    "isrConfig = IsrTaskConfig()\n",
    "isrConfig.doLinearize=False\n",
    "isrConfig.doOverscan=True\n",
    "isrConfig.overscan.fitType='MEDIAN_PER_ROW'\n",
    "isrConfig.overscan.doParallelOverscan=True\n",
    "isrConfig.doAssembleCcd=True\n",
    "isrConfig.doBias=False\n",
    "isrConfig.doVariance=True\n",
    "isrConfig.doLinearize=False\n",
    "isrConfig.doCrosstalk=False\n",
    "isrConfig.doBrighterFatter=False\n",
    "isrConfig.doDark=False\n",
    "isrConfig.doStrayLight=False\n",
    "isrConfig.doFlat=False\n",
    "isrConfig.doFringe=False\n",
    "isrConfig.doApplyGains=False\n",
    "isrConfig.doDefect=False\n",
    "isrConfig.doNanMasking=True\n",
    "isrConfig.doInterpolate=False\n",
    "isrConfig.doSaturation=False\n",
    "isrConfig.doSaturationInterpolation=False\n",
    "\n",
    "\n",
    "# Adjust these as needed and add as many more as you want"
   ]
  },
  {
   "cell_type": "code",
   "execution_count": null,
   "metadata": {
    "execution": {
     "iopub.execute_input": "2023-06-29T23:44:06.695054Z",
     "iopub.status.busy": "2023-06-29T23:44:06.694788Z",
     "iopub.status.idle": "2023-06-29T23:44:06.698553Z",
     "shell.execute_reply": "2023-06-29T23:44:06.698047Z",
     "shell.execute_reply.started": "2023-06-29T23:44:06.695037Z"
    },
    "tags": []
   },
   "outputs": [],
   "source": [
    "isrTask = IsrTask(config=isrConfig)"
   ]
  },
  {
   "cell_type": "code",
   "execution_count": null,
   "metadata": {
    "execution": {
     "iopub.execute_input": "2023-06-29T23:44:49.751302Z",
     "iopub.status.busy": "2023-06-29T23:44:49.750595Z",
     "iopub.status.idle": "2023-06-29T23:44:50.150752Z",
     "shell.execute_reply": "2023-06-29T23:44:50.150101Z",
     "shell.execute_reply.started": "2023-06-29T23:44:49.751258Z"
    },
    "tags": []
   },
   "outputs": [],
   "source": [
    "expId = 2023062900056\n",
    "exp = butler.get('raw', detector=0, exposure=expId)"
   ]
  },
  {
   "cell_type": "code",
   "execution_count": null,
   "metadata": {
    "execution": {
     "iopub.execute_input": "2023-06-29T23:44:57.798716Z",
     "iopub.status.busy": "2023-06-29T23:44:57.798327Z",
     "iopub.status.idle": "2023-06-29T23:45:00.023501Z",
     "shell.execute_reply": "2023-06-29T23:45:00.023012Z",
     "shell.execute_reply.started": "2023-06-29T23:44:57.798699Z"
    },
    "tags": []
   },
   "outputs": [],
   "source": [
    "isrResult = isrTask.run(exp)"
   ]
  },
  {
   "cell_type": "code",
   "execution_count": null,
   "metadata": {
    "execution": {
     "iopub.execute_input": "2023-06-29T23:50:04.746050Z",
     "iopub.status.busy": "2023-06-29T23:50:04.745665Z",
     "iopub.status.idle": "2023-06-29T23:50:05.154458Z",
     "shell.execute_reply": "2023-06-29T23:50:05.153996Z",
     "shell.execute_reply.started": "2023-06-29T23:50:04.746031Z"
    },
    "tags": []
   },
   "outputs": [],
   "source": [
    "# Now look at the data with matplotlib\n",
    "from matplotlib.colors import LogNorm\n",
    "\n",
    "def colorbar(mappable):\n",
    "    from mpl_toolkits.axes_grid1 import make_axes_locatable\n",
    "    last_axes = plt.gca()\n",
    "    ax = mappable.axes\n",
    "    fig = ax.figure\n",
    "    divider = make_axes_locatable(ax)\n",
    "    cax = divider.append_axes(\"right\", size=\"5%\", pad=0.05)\n",
    "    cbar = fig.colorbar(mappable, cax=cax)\n",
    "    plt.sca(last_axes)\n",
    "    return cbar\n",
    "\n",
    "plt.figure(figsize=(8,8))\n",
    "plt.suptitle(f\"Image\",fontsize=18)\n",
    "arr = isrResult.exposure.image.array[2750:3250,250:750]\n",
    "img = plt.imshow(arr, vmin=1, vmax=10, interpolation='Nearest', cmap='gray')\n",
    "colorbar(img)\n",
    "plt.tight_layout(h_pad=1)\n",
    "plt.savefig(\"/home/craiglagegit/DATA/Dark_2023062900056.png\")"
   ]
  },
  {
   "cell_type": "code",
   "execution_count": null,
   "metadata": {},
   "outputs": [],
   "source": []
  }
 ],
 "metadata": {
  "kernelspec": {
   "display_name": "LSST",
   "language": "python",
   "name": "lsst"
  },
  "language_info": {
   "codemirror_mode": {
    "name": "ipython",
    "version": 3
   },
   "file_extension": ".py",
   "mimetype": "text/x-python",
   "name": "python",
   "nbconvert_exporter": "python",
   "pygments_lexer": "ipython3",
   "version": "3.10.11"
  }
 },
 "nbformat": 4,
 "nbformat_minor": 4
}
