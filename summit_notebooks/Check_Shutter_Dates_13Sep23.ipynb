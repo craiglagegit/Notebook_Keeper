{
 "cells": [
  {
   "cell_type": "code",
   "execution_count": null,
   "metadata": {
    "execution": {
     "iopub.execute_input": "2024-02-20T12:36:18.770123Z",
     "iopub.status.busy": "2024-02-20T12:36:18.769837Z",
     "iopub.status.idle": "2024-02-20T12:36:18.774679Z",
     "shell.execute_reply": "2024-02-20T12:36:18.774055Z",
     "shell.execute_reply.started": "2024-02-20T12:36:18.770099Z"
    },
    "tags": []
   },
   "outputs": [],
   "source": [
    "import sys, time, os, asyncio, glob\n",
    "import numpy as np\n",
    "import pandas as pd\n",
    "import matplotlib.pyplot as plt\n",
    "from matplotlib.backends.backend_pdf import PdfPages\n",
    "from astropy.time import Time, TimeDelta\n",
    "from lsst_efd_client import EfdClient\n",
    "from lsst.summit.utils.utils import dayObsIntToString\n",
    "from lsst.summit.utils.efdUtils import calcNextDay\n"
   ]
  },
  {
   "cell_type": "code",
   "execution_count": null,
   "metadata": {
    "execution": {
     "iopub.execute_input": "2024-02-13T14:06:32.241680Z",
     "iopub.status.busy": "2024-02-13T14:06:32.241510Z",
     "iopub.status.idle": "2024-02-13T14:06:33.503899Z",
     "shell.execute_reply": "2024-02-13T14:06:33.503125Z",
     "shell.execute_reply.started": "2024-02-13T14:06:32.241664Z"
    },
    "tags": []
   },
   "outputs": [],
   "source": [
    "client = EfdClient('summit_efd')"
   ]
  },
  {
   "cell_type": "code",
   "execution_count": null,
   "metadata": {
    "execution": {
     "iopub.execute_input": "2024-02-20T17:34:18.359731Z",
     "iopub.status.busy": "2024-02-20T17:34:18.359377Z",
     "iopub.status.idle": "2024-02-20T17:34:20.258008Z",
     "shell.execute_reply": "2024-02-20T17:34:20.257508Z",
     "shell.execute_reply.started": "2024-02-20T17:34:18.359703Z"
    },
    "tags": []
   },
   "outputs": [],
   "source": [
    "pdf = PdfPages(\"/home/craiglagegit/DATA/Shutter_State_Multiple_20Feb24.pdf\")\n",
    "startDay = 20240220\n",
    "endDay = 20240220\n",
    "fig = plt.figure(figsize=(15,5))\n",
    "dayObs = startDay\n",
    "while dayObs <= endDay:\n",
    "    nextDayObs = calcNextDay(dayObs)\n",
    "    dayString = dayObsIntToString(dayObs)\n",
    "    nextDayString = dayObsIntToString(nextDayObs)\n",
    "    \n",
    "    try:\n",
    "        start = Time(f\"{dayString}T10:00:00\", scale='utc')\n",
    "        end = Time(f\"{nextDayString}T10:00:00\", scale='utc')\n",
    "    \n",
    "        state = await client.select_time_series('lsst.sal.ATDome.logevent_mainDoorState', \\\n",
    "                                            ['*'],  start, end)\n",
    "        shut = await client.select_time_series('lsst.sal.ATDome.position', \\\n",
    "                                                    ['mainDoorOpeningPercentage'],  start, end)\n",
    "        close_command = await client.select_time_series('lsst.sal.ATDome.command_closeShutter', \\\n",
    "                                                    ['*'],  start, end)\n",
    "        open_command = await client.select_time_series('lsst.sal.ATDome.command_openShutter', \\\n",
    "                                                    ['*'],  start, end)\n",
    "        summary_state = await client.select_time_series('lsst.sal.ATDome.logevent_summaryState', \\\n",
    "                                                    ['*'],  start, end)\n",
    "\n",
    "        dome_move = await client.select_time_series('lsst.sal.ATDome.command_moveAzimuth', \\\n",
    "                                                    ['*'],  start, end)\n",
    "        print(len(state), len(shut), len(close_command), len(summary_state), len(dome_move))\n",
    "        if len(shut) == 0:\n",
    "            dayObs = calcNextDay(dayObs)\n",
    "            continue\n",
    "        ax = fig.subplots(1,1)\n",
    "        ax.set_title(f\"Shutter_State_{dayObs}\", fontsize=24)\n",
    "        state['state'].plot(ax=ax, color='blue', label='Actual State')\n",
    "        ax.set_yticks([1,2,3,4,5,6,7])\n",
    "    \n",
    "        ax.set_yticklabels(['Closed', 'Opened', 'Ajar', 'Opening', 'Closing','',''])\n",
    "        ax.set_ylabel(\"Door State\")\n",
    "        ax1 = ax.twinx()\n",
    "        shut['mainDoorOpeningPercentage'].plot(ax=ax1, color='red', label='Shutter Open Percentage')\n",
    "        ax1.set_ylabel(\"Open percentage\")\n",
    "        ax1.set_ylim(-2,115)\n",
    "    \n",
    "        disabled = summary_state[summary_state['summaryState'] == 1]\n",
    "        enabled = summary_state[summary_state['summaryState'] == 2]\n",
    "        standby = summary_state[summary_state['summaryState'] == 5]\n",
    "        fault = summary_state[summary_state['summaryState'] == 3]\n",
    "    \n",
    "        \"\"\"\n",
    "        disabled = Time(\"2024-02-12T12:00:00\", scale='utc')\n",
    "        enabled = Time(\"2024-02-12T18:44:00\", scale='utc')\n",
    "        ax1.axvline(disabled.isot, ls='--', color='cyan', label='DISABLED')\n",
    "        ax1.axvline(enabled.isot, ls='--', color='orange', label='ENABLED')\n",
    "        \"\"\"\n",
    "        for close in close_command.index[0:1]:\n",
    "            ax1.axvline(close, ls='-.', color='green', label='Close Command')\n",
    "        for open in open_command.index[0:1]:\n",
    "            ax1.axvline(open, ls='-.', color='magenta', label='Open Command')\n",
    "        for disable in disabled.index[0:1]:\n",
    "            ax1.axvline(disable, ls='--', color='cyan', label='Disabled')\n",
    "        for enable in enabled.index[0:1]:\n",
    "            ax1.axvline(enable, ls='--', color='darkgreen', label='Enabled')\n",
    "        for std in standby.index[0:1]:\n",
    "            ax1.axvline(std, ls='--', color='orange', label='Standby')\n",
    "        for flt in fault.index[0:1]:\n",
    "            ax1.axvline(flt, ls='--', color='red', label='Fault')\n",
    "        for move in dome_move.index[0:1]:\n",
    "            ax1.axvline(move, ymin=0, ymax=0.1, ls='--', color='black', label='Dome_Move')\n",
    "        \"\"\"    \n",
    "        for i, this_enable in enumerate(enables):\n",
    "            for en in this_enable.index[0:1]:\n",
    "                print(cscs[i], en)\n",
    "                ax1.axvline(en, ls='--',  label=cscs[i])\n",
    "        \n",
    "        for i, this_enable in enumerate(enables):\n",
    "            for en in this_enable.index:\n",
    "                print(cscs[i], en)\n",
    "                ax1.axvline(en, ls='--',  label='')\n",
    "        \"\"\"        \n",
    "    \n",
    "        for close in close_command.index:\n",
    "            ax1.axvline(close, ls='-.', color='green', label='')\n",
    "        for open in open_command.index:\n",
    "            ax1.axvline(open, ls='-.', color='magenta', label='')\n",
    "        for disable in disabled.index:\n",
    "            ax1.axvline(disable, ls='--', color='cyan', label='')\n",
    "        for enable in enabled.index:\n",
    "            ax1.axvline(enable, ls='--', color='darkgreen', label='')\n",
    "        for std in standby.index:\n",
    "            ax1.axvline(std, ls='--', color='orange', label='')\n",
    "        for flt in fault.index:\n",
    "            ax1.axvline(flt, ls='--', color='red', label='')\n",
    "        for move in dome_move.index:\n",
    "            ax1.axvline(move, ymin=0, ymax=0.1, ls='--', color='black', label='')\n",
    "    \n",
    "    \n",
    "        ax.legend(loc='lower left')\n",
    "        ax1.legend(loc='upper left')\n",
    "    \n",
    "        \n",
    "        pdf.savefig(fig)  # saves the current figure into a pdf page\n",
    "        plt.clf()\n",
    "        dayObs = calcNextDay(dayObs)\n",
    "    except:\n",
    "        dayObs = calcNextDay(dayObs)\n",
    "        continue\n",
    "pdf.close()\n"
   ]
  },
  {
   "cell_type": "code",
   "execution_count": null,
   "metadata": {
    "execution": {
     "iopub.execute_input": "2024-02-13T14:29:45.909505Z",
     "iopub.status.busy": "2024-02-13T14:29:45.909122Z",
     "iopub.status.idle": "2024-02-13T14:29:45.916433Z",
     "shell.execute_reply": "2024-02-13T14:29:45.915582Z",
     "shell.execute_reply.started": "2024-02-13T14:29:45.909468Z"
    }
   },
   "outputs": [],
   "source": [
    "close_command.index[0]"
   ]
  },
  {
   "cell_type": "code",
   "execution_count": null,
   "metadata": {
    "execution": {
     "iopub.execute_input": "2024-02-14T16:29:15.587801Z",
     "iopub.status.busy": "2024-02-14T16:29:15.587409Z",
     "iopub.status.idle": "2024-02-14T16:29:15.634197Z",
     "shell.execute_reply": "2024-02-14T16:29:15.633347Z",
     "shell.execute_reply.started": "2024-02-14T16:29:15.587770Z"
    },
    "jupyter": {
     "outputs_hidden": true
    }
   },
   "outputs": [],
   "source": [
    "for i, move in enumerate(dome_move.index):\n",
    "    print(move, dome_move['azimuth'][i])"
   ]
  },
  {
   "cell_type": "code",
   "execution_count": null,
   "metadata": {
    "execution": {
     "iopub.execute_input": "2024-02-14T16:27:29.293849Z",
     "iopub.status.busy": "2024-02-14T16:27:29.292772Z",
     "iopub.status.idle": "2024-02-14T16:27:29.467149Z",
     "shell.execute_reply": "2024-02-14T16:27:29.466528Z",
     "shell.execute_reply.started": "2024-02-14T16:27:29.293809Z"
    }
   },
   "outputs": [],
   "source": [
    "dome_move['azimuth'].plot()"
   ]
  },
  {
   "cell_type": "code",
   "execution_count": null,
   "metadata": {
    "execution": {
     "iopub.execute_input": "2024-02-14T15:47:16.620167Z",
     "iopub.status.busy": "2024-02-14T15:47:16.619773Z",
     "iopub.status.idle": "2024-02-14T15:47:16.626512Z",
     "shell.execute_reply": "2024-02-14T15:47:16.625597Z",
     "shell.execute_reply.started": "2024-02-14T15:47:16.620137Z"
    }
   },
   "outputs": [],
   "source": [
    "len(open_command)"
   ]
  },
  {
   "cell_type": "code",
   "execution_count": null,
   "metadata": {
    "execution": {
     "iopub.execute_input": "2024-02-14T16:00:59.225130Z",
     "iopub.status.busy": "2024-02-14T16:00:59.224744Z",
     "iopub.status.idle": "2024-02-14T16:00:59.231437Z",
     "shell.execute_reply": "2024-02-14T16:00:59.230482Z",
     "shell.execute_reply.started": "2024-02-14T16:00:59.225098Z"
    }
   },
   "outputs": [],
   "source": [
    "end"
   ]
  },
  {
   "cell_type": "code",
   "execution_count": null,
   "metadata": {
    "execution": {
     "iopub.execute_input": "2024-02-14T16:05:28.939304Z",
     "iopub.status.busy": "2024-02-14T16:05:28.938913Z",
     "iopub.status.idle": "2024-02-14T16:05:28.999833Z",
     "shell.execute_reply": "2024-02-14T16:05:28.999080Z",
     "shell.execute_reply.started": "2024-02-14T16:05:28.939272Z"
    }
   },
   "outputs": [],
   "source": [
    "enables = []\n",
    "cscs = ['ATDome', 'ATDomeTrajectory', 'ATMCS', 'ATPtg', 'ATAOS', 'ATHexapod', 'ATPneumatics']\n",
    "\n",
    "for csc in cscs:\n",
    "    query = f'lsst.sal.{csc}.logevent_summaryState'\n",
    "    these_states = await client.select_time_series(query, ['*'],  start, end)\n",
    "    enable = these_states[these_states['summaryState'] == 2]\n",
    "    print(csc, len(enable))\n",
    "    enables.append(enable)\n",
    "\n"
   ]
  },
  {
   "cell_type": "code",
   "execution_count": null,
   "metadata": {
    "execution": {
     "iopub.execute_input": "2024-02-06T15:08:52.471149Z",
     "iopub.status.busy": "2024-02-06T15:08:52.470760Z",
     "iopub.status.idle": "2024-02-06T15:08:53.378955Z",
     "shell.execute_reply": "2024-02-06T15:08:53.378156Z",
     "shell.execute_reply.started": "2024-02-06T15:08:52.471118Z"
    }
   },
   "outputs": [],
   "source": [
    "heartbeat = await client.select_time_series('lsst.sal.ATDome.logevent_heartbeat', \\\n",
    "                                            ['*'],  start, end)"
   ]
  },
  {
   "cell_type": "code",
   "execution_count": null,
   "metadata": {
    "execution": {
     "iopub.execute_input": "2024-02-06T13:27:22.219609Z",
     "iopub.status.busy": "2024-02-06T13:27:22.219235Z",
     "iopub.status.idle": "2024-02-06T13:27:22.225555Z",
     "shell.execute_reply": "2024-02-06T13:27:22.224787Z",
     "shell.execute_reply.started": "2024-02-06T13:27:22.219579Z"
    }
   },
   "outputs": [],
   "source": [
    "len(heartbeat)"
   ]
  },
  {
   "cell_type": "code",
   "execution_count": null,
   "metadata": {
    "execution": {
     "iopub.execute_input": "2024-02-06T15:08:58.804251Z",
     "iopub.status.busy": "2024-02-06T15:08:58.803916Z",
     "iopub.status.idle": "2024-02-06T15:08:58.833662Z",
     "shell.execute_reply": "2024-02-06T15:08:58.832964Z",
     "shell.execute_reply.started": "2024-02-06T15:08:58.804225Z"
    }
   },
   "outputs": [],
   "source": [
    "times = heartbeat['private_efdStamp'].values\n",
    "times = times - times[0]\n",
    "deltas = []\n",
    "for i,time in enumerate(times):\n",
    "    if i == 0:\n",
    "        delta = times[1] - times[0]\n",
    "        deltas.append(delta)\n",
    "    else:\n",
    "        delta = times[i] - times[i-1]\n",
    "        deltas.append(delta)\n",
    "        "
   ]
  },
  {
   "cell_type": "code",
   "execution_count": null,
   "metadata": {
    "execution": {
     "iopub.execute_input": "2024-02-06T15:09:18.953540Z",
     "iopub.status.busy": "2024-02-06T15:09:18.953209Z",
     "iopub.status.idle": "2024-02-06T15:09:19.190202Z",
     "shell.execute_reply": "2024-02-06T15:09:19.189476Z",
     "shell.execute_reply.started": "2024-02-06T15:09:18.953514Z"
    }
   },
   "outputs": [],
   "source": [
    "plt.plot(times, deltas)"
   ]
  },
  {
   "cell_type": "code",
   "execution_count": null,
   "metadata": {
    "execution": {
     "iopub.execute_input": "2024-02-06T14:12:32.399398Z",
     "iopub.status.busy": "2024-02-06T14:12:32.399020Z",
     "iopub.status.idle": "2024-02-06T14:12:33.003666Z",
     "shell.execute_reply": "2024-02-06T14:12:33.003238Z",
     "shell.execute_reply.started": "2024-02-06T14:12:32.399369Z"
    }
   },
   "outputs": [],
   "source": [
    "startPlot = Time(\"2024-02-06T01:14:00\", scale='utc')\n",
    "endPlot = Time(\"2024-02-06T01:35:00\", scale='utc')\n",
    "startPlot2 = startPlot.unix_tai - start.unix_tai\n",
    "endPlot2 = endPlot.unix_tai - start.unix_tai\n",
    "\n",
    "fig = plt.figure(figsize=(5,8))\n",
    "plt.subplots_adjust(hspace = 0.5)\n",
    "axs = fig.subplots(2,1)\n",
    "axs[0].set_title(f\"Shutter_State_{dayObs}\", fontsize=16)\n",
    "state['state'].plot(ax=axs[0], color='blue', label='Actual State')\n",
    "axs[0].set_yticks([1,2,3,4,5,6,7])\n",
    "\n",
    "axs[0].set_yticklabels(['Closed', 'Opened', 'Ajar', 'Opening', 'Closing','',''])\n",
    "axs[0].set_ylabel(\"Door State\")\n",
    "axs[0].set_xlim(startPlot.isot, endPlot.isot)\n",
    "axs[1].set_title(\"Time between heartbeats\", fontsize=16)\n",
    "axs[1].plot(times, deltas)\n",
    "axs[1].set_xlim(startPlot2, endPlot2)\n",
    "axs[1].set_ylabel(\"Time between successive\\n heartbeats (sec)\")\n",
    "axs[1].set_xlabel(\"Time since plot start (sec)\")\n",
    "for time in state['private_kafkaStamp']:\n",
    "    axs[1].axvline(time - start.unix_tai, ls = '-.', color='k')\n",
    "for time in state['private_kafkaStamp']:\n",
    "    axs[0].axvline(Time(time, format='unix_tai').utc.isot, ls = '-.', color='k')\n",
    "plt.savefig(\"/home/craiglagegit/DATA/ATDome_Heartbeats_06Feb24.png\")"
   ]
  },
  {
   "cell_type": "code",
   "execution_count": null,
   "metadata": {
    "execution": {
     "iopub.execute_input": "2024-02-07T17:27:19.940803Z",
     "iopub.status.busy": "2024-02-07T17:27:19.940390Z",
     "iopub.status.idle": "2024-02-07T17:27:20.146578Z",
     "shell.execute_reply": "2024-02-07T17:27:20.145755Z",
     "shell.execute_reply.started": "2024-02-07T17:27:19.940760Z"
    }
   },
   "outputs": [],
   "source": [
    "startPlot = Time(\"2024-02-06T01:14:00\", scale='utc')\n",
    "endPlot = Time(\"2024-02-06T01:35:00\", scale='utc')\n",
    "\n",
    "test = await client.select_time_series('lsst.sal.ATDome.logevent_doorEncoderExtremes', \\\n",
    "                                            ['*'],  startPlot, endPlot)\n",
    "#test = await client.select_time_series('lsst.sal.ATDome.command_moveShutterMainDoor', \\\n",
    "#                                            ['*'],  start, end)\n",
    "print(len(test))"
   ]
  },
  {
   "cell_type": "code",
   "execution_count": null,
   "metadata": {
    "execution": {
     "iopub.execute_input": "2024-02-07T17:17:17.517438Z",
     "iopub.status.busy": "2024-02-07T17:17:17.517064Z",
     "iopub.status.idle": "2024-02-07T17:17:17.523779Z",
     "shell.execute_reply": "2024-02-07T17:17:17.522884Z",
     "shell.execute_reply.started": "2024-02-07T17:17:17.517410Z"
    }
   },
   "outputs": [],
   "source": [
    "test.columns"
   ]
  },
  {
   "cell_type": "code",
   "execution_count": null,
   "metadata": {},
   "outputs": [],
   "source": []
  },
  {
   "cell_type": "code",
   "execution_count": null,
   "metadata": {},
   "outputs": [],
   "source": []
  },
  {
   "cell_type": "code",
   "execution_count": null,
   "metadata": {
    "execution": {
     "iopub.execute_input": "2024-02-07T17:27:24.684381Z",
     "iopub.status.busy": "2024-02-07T17:27:24.684000Z",
     "iopub.status.idle": "2024-02-07T17:27:29.911125Z",
     "shell.execute_reply": "2024-02-07T17:27:29.910521Z",
     "shell.execute_reply.started": "2024-02-07T17:27:24.684353Z"
    }
   },
   "outputs": [],
   "source": [
    "startPlot2 = startPlot.unix_tai - start.unix_tai\n",
    "endPlot2 = endPlot.unix_tai - start.unix_tai\n",
    "\n",
    "fig = plt.figure(figsize=(5,8))\n",
    "plt.subplots_adjust(hspace = 0.5)\n",
    "axs = fig.subplots(2,1)\n",
    "axs[0].set_title(f\"Shutter_State_{dayObs}\", fontsize=16)\n",
    "state['state'].plot(ax=axs[0], color='blue', label='Actual State')\n",
    "axs[0].set_yticks([1,2,3,4,5,6,7])\n",
    "\n",
    "axs[0].set_yticklabels(['Closed', 'Opened', 'Ajar', 'Opening', 'Closing','',''])\n",
    "axs[0].set_ylabel(\"Door State\")\n",
    "axs[0].set_xlim(startPlot.isot, endPlot.isot)\n",
    "\n",
    "\n",
    "\n",
    "\n",
    "\n",
    "\n",
    "\n",
    "axs[1].set_title(\"Test\", fontsize=16)\n",
    "test['mainClosed'].plot(ax=axs[1], color='red', label='mainClosed')\n",
    "test['mainOpened'].plot(ax=axs[1], color='red', label='mainOpened')\n",
    "#axs[1].plot(times, deltas)\n",
    "axs[1].set_xlim(startPlot.isot, endPlot.isot)\n",
    "#axs[1].set_ylabel(\"Time between successive\\n heartbeats (sec)\")\n",
    "#axs[1].set_xlabel(\"Time since plot start (sec)\")\n",
    "for time in state['private_kafkaStamp']:\n",
    "    axs[1].axvline(Time(time, format='unix_tai').utc.isot, ls = '-.', color='k')\n",
    "for time in test['private_kafkaStamp']:\n",
    "    axs[0].axvline(Time(time, format='unix_tai').utc.isot, ls = '-.', color='k')\n",
    "#plt.savefig(\"/home/craiglagegit/DATA/ATDome_Heartbeats_06Feb24.png\")"
   ]
  },
  {
   "cell_type": "code",
   "execution_count": null,
   "metadata": {
    "execution": {
     "iopub.execute_input": "2024-02-14T11:26:58.581238Z",
     "iopub.status.busy": "2024-02-14T11:26:58.580852Z",
     "iopub.status.idle": "2024-02-14T11:26:58.606373Z",
     "shell.execute_reply": "2024-02-14T11:26:58.605500Z",
     "shell.execute_reply.started": "2024-02-14T11:26:58.581208Z"
    }
   },
   "outputs": [],
   "source": [
    "summary_state = await client.select_time_series('lsst.sal.ATDome.logevent_summaryState', \\\n",
    "                                                    ['*'],  start, end)"
   ]
  },
  {
   "cell_type": "code",
   "execution_count": null,
   "metadata": {
    "execution": {
     "iopub.execute_input": "2024-02-14T11:28:42.837044Z",
     "iopub.status.busy": "2024-02-14T11:28:42.836663Z",
     "iopub.status.idle": "2024-02-14T11:28:42.844083Z",
     "shell.execute_reply": "2024-02-14T11:28:42.843013Z",
     "shell.execute_reply.started": "2024-02-14T11:28:42.837014Z"
    }
   },
   "outputs": [],
   "source": [
    "summary_state.columns"
   ]
  },
  {
   "cell_type": "code",
   "execution_count": null,
   "metadata": {
    "execution": {
     "iopub.execute_input": "2024-02-14T11:28:53.246090Z",
     "iopub.status.busy": "2024-02-14T11:28:53.245721Z",
     "iopub.status.idle": "2024-02-14T11:28:53.251808Z",
     "shell.execute_reply": "2024-02-14T11:28:53.250909Z",
     "shell.execute_reply.started": "2024-02-14T11:28:53.246060Z"
    }
   },
   "outputs": [],
   "source": [
    "disabled = summary_state[summary_state['summaryState'] == 1]\n",
    "enabled = summary_state[summary_state['summaryState'] == 2]\n",
    "standby = summary_state[summary_state['summaryState'] == 5]\n",
    "fault = summary_state[summary_state['summaryState'] == 3]"
   ]
  },
  {
   "cell_type": "code",
   "execution_count": null,
   "metadata": {
    "execution": {
     "iopub.execute_input": "2024-02-14T11:28:59.935307Z",
     "iopub.status.busy": "2024-02-14T11:28:59.934927Z",
     "iopub.status.idle": "2024-02-14T11:28:59.953248Z",
     "shell.execute_reply": "2024-02-14T11:28:59.952479Z",
     "shell.execute_reply.started": "2024-02-14T11:28:59.935275Z"
    }
   },
   "outputs": [],
   "source": [
    "disabled"
   ]
  },
  {
   "cell_type": "code",
   "execution_count": null,
   "metadata": {},
   "outputs": [],
   "source": []
  }
 ],
 "metadata": {
  "kernelspec": {
   "display_name": "LSST",
   "language": "python",
   "name": "lsst"
  },
  "language_info": {
   "codemirror_mode": {
    "name": "ipython",
    "version": 3
   },
   "file_extension": ".py",
   "mimetype": "text/x-python",
   "name": "python",
   "nbconvert_exporter": "python",
   "pygments_lexer": "ipython3",
   "version": "3.11.7"
  }
 },
 "nbformat": 4,
 "nbformat_minor": 4
}
