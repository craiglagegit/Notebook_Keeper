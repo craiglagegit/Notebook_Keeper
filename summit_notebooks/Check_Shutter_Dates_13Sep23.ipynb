{
 "cells": [
  {
   "cell_type": "code",
   "execution_count": null,
   "metadata": {
    "execution": {
     "iopub.execute_input": "2024-08-29T13:04:23.166169Z",
     "iopub.status.busy": "2024-08-29T13:04:23.165662Z",
     "iopub.status.idle": "2024-08-29T13:04:29.095407Z",
     "shell.execute_reply": "2024-08-29T13:04:29.094948Z",
     "shell.execute_reply.started": "2024-08-29T13:04:23.166148Z"
    },
    "tags": []
   },
   "outputs": [],
   "source": [
    "import sys, time, os, asyncio, glob\n",
    "import numpy as np\n",
    "import pandas as pd\n",
    "import matplotlib.pyplot as plt\n",
    "from matplotlib.backends.backend_pdf import PdfPages\n",
    "from astropy.time import Time, TimeDelta\n",
    "from lsst_efd_client import EfdClient\n",
    "from lsst.summit.utils.utils import dayObsIntToString\n",
    "from lsst.summit.utils.efdUtils import calcNextDay\n"
   ]
  },
  {
   "cell_type": "code",
   "execution_count": null,
   "metadata": {
    "execution": {
     "iopub.execute_input": "2024-08-29T13:04:29.105941Z",
     "iopub.status.busy": "2024-08-29T13:04:29.105803Z",
     "iopub.status.idle": "2024-08-29T13:04:30.879777Z",
     "shell.execute_reply": "2024-08-29T13:04:30.879264Z",
     "shell.execute_reply.started": "2024-08-29T13:04:29.105927Z"
    },
    "tags": []
   },
   "outputs": [],
   "source": [
    "client = EfdClient('summit_efd')"
   ]
  },
  {
   "cell_type": "code",
   "execution_count": null,
   "metadata": {
    "execution": {
     "iopub.execute_input": "2024-08-29T13:56:12.925325Z",
     "iopub.status.busy": "2024-08-29T13:56:12.924988Z",
     "iopub.status.idle": "2024-08-29T13:56:15.825631Z",
     "shell.execute_reply": "2024-08-29T13:56:15.825178Z",
     "shell.execute_reply.started": "2024-08-29T13:56:12.925306Z"
    },
    "tags": []
   },
   "outputs": [],
   "source": [
    "pdf = PdfPages(\"/home/cslage/DATA/Shutter_State_26Aug24.pdf\")\n",
    "startDay = 20240826\n",
    "endDay = 20240826\n",
    "fig = plt.figure(figsize=(15,5))\n",
    "dayObs = startDay\n",
    "while dayObs <= endDay:\n",
    "    nextDayObs = calcNextDay(dayObs)\n",
    "    dayString = dayObsIntToString(dayObs)\n",
    "    nextDayString = dayObsIntToString(nextDayObs)\n",
    "    \n",
    "    try:\n",
    "        start = Time(f\"{dayString}T18:00:00\", scale='utc')\n",
    "        end = Time(f\"{nextDayString}T10:00:00\", scale='utc')\n",
    "    \n",
    "        state = await client.select_time_series('lsst.sal.ATDome.logevent_mainDoorState', \\\n",
    "                                            ['*'],  start, end)\n",
    "        shut = await client.select_time_series('lsst.sal.ATDome.position', \\\n",
    "                                                    ['mainDoorOpeningPercentage'],  start, end)\n",
    "        close_command = await client.select_time_series('lsst.sal.ATDome.command_closeShutter', \\\n",
    "                                                    ['*'],  start, end)\n",
    "        open_command = await client.select_time_series('lsst.sal.ATDome.command_openShutter', \\\n",
    "                                                    ['*'],  start, end)\n",
    "        summary_state = await client.select_time_series('lsst.sal.ATDome.logevent_summaryState', \\\n",
    "                                                    ['*'],  start, end)\n",
    "\n",
    "        dome_move = await client.select_time_series('lsst.sal.ATDome.command_moveAzimuth', \\\n",
    "                                                    ['*'],  start, end)\n",
    "        comm = await client.select_time_series('lsst.sal.ATDome.logevent_scbLink', \\\n",
    "                                                    ['active'],  start, end)\n",
    "        comm_loss = comm[comm['active']==False]\n",
    "        \n",
    "        print(len(state), len(shut), len(close_command), len(summary_state), len(dome_move))\n",
    "        if len(shut) == 0:\n",
    "            dayObs = calcNextDay(dayObs)\n",
    "            continue\n",
    "        plt.clf()\n",
    "        ax = fig.subplots(1,1)\n",
    "        ax.set_title(f\"Shutter_State_{dayObs}\", fontsize=24)\n",
    "        #state['state'].plot(ax=ax, color='blue', label='Actual State')\n",
    "        states = state['state'].values\n",
    "        tstates = tstates = state.index\n",
    "        ax.step(tstates, states, color='blue', label='Actual State', where='post')        \n",
    "        \n",
    "        ax.set_yticks([1,2,3,4,5,6,7])\n",
    "    \n",
    "        ax.set_yticklabels(['Closed', 'Opened', 'Ajar', 'Opening', 'Closing','',''])\n",
    "        ax.set_ylabel(\"Door State\")\n",
    "        ax1 = ax.twinx()\n",
    "        shut['mainDoorOpeningPercentage'].plot(ax=ax1, color='red', label='Shutter Open Percentage')\n",
    "        ax1.set_ylabel(\"Open percentage\")\n",
    "        ax1.set_ylim(-2,115)\n",
    "    \n",
    "        disabled = summary_state[summary_state['summaryState'] == 1]\n",
    "        enabled = summary_state[summary_state['summaryState'] == 2]\n",
    "        standby = summary_state[summary_state['summaryState'] == 5]\n",
    "        fault = summary_state[summary_state['summaryState'] == 3]\n",
    "    \n",
    "        \"\"\"\n",
    "        disabled = Time(\"2024-02-12T12:00:00\", scale='utc')\n",
    "        enabled = Time(\"2024-02-12T18:44:00\", scale='utc')\n",
    "        ax1.axvline(disabled.isot, ls='--', color='cyan', label='DISABLED')\n",
    "        ax1.axvline(enabled.isot, ls='--', color='orange', label='ENABLED')\n",
    "        \"\"\"\n",
    "        for close in close_command.index[0:1]:\n",
    "            ax1.axvline(close, ls='-.', color='green', label='Close Command')\n",
    "        for open in open_command.index[0:1]:\n",
    "            ax1.axvline(open, ls='-.', color='magenta', label='Open Command')\n",
    "        for disable in disabled.index[0:1]:\n",
    "            ax1.axvline(disable, ls='--', color='cyan', label='Disabled')\n",
    "        for enable in enabled.index[0:1]:\n",
    "            ax1.axvline(enable, ls='--', color='darkgreen', label='Enabled')\n",
    "        for std in standby.index[0:1]:\n",
    "            ax1.axvline(std, ls='--', color='orange', label='Standby')\n",
    "        for flt in fault.index[0:1]:\n",
    "            ax1.axvline(flt, ls='--', color='red', label='Fault')\n",
    "        for move in dome_move.index[0:1]:\n",
    "            ax1.axvline(move, ymin=0, ymax=0.1, ls='--', color='black', label='Dome_Move')\n",
    "        for loss in comm_loss.index[0:1]:\n",
    "            ax1.axvline(loss, ls='--', color='lime', label='Main/Top Comm Loss')\n",
    "        \"\"\"    \n",
    "        for i, this_enable in enumerate(enables):\n",
    "            for en in this_enable.index[0:1]:\n",
    "                print(cscs[i], en)\n",
    "                ax1.axvline(en, ls='--',  label=cscs[i])\n",
    "        \n",
    "        for i, this_enable in enumerate(enables):\n",
    "            for en in this_enable.index:\n",
    "                print(cscs[i], en)\n",
    "                ax1.axvline(en, ls='--',  label='')\n",
    "        \"\"\"        \n",
    "    \n",
    "        for close in close_command.index:\n",
    "            ax1.axvline(close, ls='-.', color='green', label='')\n",
    "        for open in open_command.index:\n",
    "            ax1.axvline(open, ls='-.', color='magenta', label='')\n",
    "        for disable in disabled.index:\n",
    "            ax1.axvline(disable, ls='--', color='cyan', label='')\n",
    "        for enable in enabled.index:\n",
    "            ax1.axvline(enable, ls='--', color='darkgreen', label='')\n",
    "        for std in standby.index:\n",
    "            ax1.axvline(std, ls='--', color='orange', label='')\n",
    "        for flt in fault.index:\n",
    "            ax1.axvline(flt, ls='--', color='red', label='')\n",
    "        for move in dome_move.index:\n",
    "            ax1.axvline(move, ymin=0, ymax=0.1, ls='--', color='black', label='')\n",
    "        for loss in comm_loss.index:\n",
    "            ax1.axvline(loss, ls='--', color='lime', label='')\n",
    "    \n",
    "    \n",
    "        ax.legend(loc='lower left')\n",
    "        ax1.legend(loc='upper left')\n",
    "        #startPlot = pd.Timestamp(\"2024-07-16T22:00:00\", tz='UTC')\n",
    "        #endPlot = pd.Timestamp(\"2024-07-17T02:30:00\", tz='UTC')\n",
    "        #ax.set_xlim(startPlot, endPlot)\n",
    "        \n",
    "        pdf.savefig(fig)  # saves the current figure into a pdf page\n",
    "        plt.clf()\n",
    "        dayObs = calcNextDay(dayObs)\n",
    "    except:\n",
    "        dayObs = calcNextDay(dayObs)\n",
    "        continue\n",
    "pdf.close()\n"
   ]
  },
  {
   "cell_type": "code",
   "execution_count": null,
   "metadata": {
    "execution": {
     "iopub.execute_input": "2024-08-29T13:09:09.529480Z",
     "iopub.status.busy": "2024-08-29T13:09:09.529067Z",
     "iopub.status.idle": "2024-08-29T13:09:09.583597Z",
     "shell.execute_reply": "2024-08-29T13:09:09.583110Z",
     "shell.execute_reply.started": "2024-08-29T13:09:09.529458Z"
    }
   },
   "outputs": [],
   "source": [
    "%matplotlib inline\n",
    "summary_state['summaryState'].plot()\n"
   ]
  },
  {
   "cell_type": "code",
   "execution_count": null,
   "metadata": {
    "execution": {
     "iopub.execute_input": "2024-08-29T13:09:27.912813Z",
     "iopub.status.busy": "2024-08-29T13:09:27.912526Z",
     "iopub.status.idle": "2024-08-29T13:09:27.916917Z",
     "shell.execute_reply": "2024-08-29T13:09:27.916494Z",
     "shell.execute_reply.started": "2024-08-29T13:09:27.912796Z"
    }
   },
   "outputs": [],
   "source": [
    "summary_state['summaryState']"
   ]
  },
  {
   "cell_type": "code",
   "execution_count": null,
   "metadata": {},
   "outputs": [],
   "source": []
  }
 ],
 "metadata": {
  "kernelspec": {
   "display_name": "LSST",
   "language": "python",
   "name": "lsst"
  },
  "language_info": {
   "codemirror_mode": {
    "name": "ipython",
    "version": 3
   },
   "file_extension": ".py",
   "mimetype": "text/x-python",
   "name": "python",
   "nbconvert_exporter": "python",
   "pygments_lexer": "ipython3",
   "version": "3.11.9"
  }
 },
 "nbformat": 4,
 "nbformat_minor": 4
}
