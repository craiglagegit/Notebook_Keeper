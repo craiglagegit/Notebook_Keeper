{
 "cells": [
  {
   "cell_type": "code",
   "execution_count": null,
   "id": "e60fed96-73d5-40ca-8230-3238eafd125c",
   "metadata": {
    "execution": {
     "iopub.execute_input": "2023-10-25T10:54:12.821448Z",
     "iopub.status.busy": "2023-10-25T10:54:12.820911Z",
     "iopub.status.idle": "2023-10-25T10:54:16.719872Z",
     "shell.execute_reply": "2023-10-25T10:54:16.719058Z",
     "shell.execute_reply.started": "2023-10-25T10:54:12.821430Z"
    }
   },
   "outputs": [],
   "source": [
    "from lsst.obs.lsst.translators.latiss import AUXTEL_LOCATION\n",
    "from lsst.obs.lsst.translators.lsst import SIMONYI_LOCATION\n"
   ]
  },
  {
   "cell_type": "code",
   "execution_count": null,
   "id": "a89ea21f-9f8f-4d96-bb72-e9dbc61d352f",
   "metadata": {
    "execution": {
     "iopub.execute_input": "2023-10-25T11:01:31.117717Z",
     "iopub.status.busy": "2023-10-25T11:01:31.117285Z",
     "iopub.status.idle": "2023-10-25T11:01:31.125571Z",
     "shell.execute_reply": "2023-10-25T11:01:31.124919Z",
     "shell.execute_reply.started": "2023-10-25T11:01:31.117668Z"
    },
    "tags": []
   },
   "outputs": [],
   "source": [
    "from lsst.obs.lsst.translators.latiss import AUXTEL_LOCATION\n",
    "print(f\"lat={AUXTEL_LOCATION.lat.deg:.7f}, lon={AUXTEL_LOCATION.lon.deg:.7f}, alt={AUXTEL_LOCATION.height.value:.1f}\")"
   ]
  },
  {
   "cell_type": "code",
   "execution_count": null,
   "id": "33ab5f54-7f0d-4464-afd9-b79108a83365",
   "metadata": {},
   "outputs": [],
   "source": []
  }
 ],
 "metadata": {
  "kernelspec": {
   "display_name": "LSST",
   "language": "python",
   "name": "lsst"
  },
  "language_info": {
   "codemirror_mode": {
    "name": "ipython",
    "version": 3
   },
   "file_extension": ".py",
   "mimetype": "text/x-python",
   "name": "python",
   "nbconvert_exporter": "python",
   "pygments_lexer": "ipython3",
   "version": "3.11.4"
  }
 },
 "nbformat": 4,
 "nbformat_minor": 5
}
