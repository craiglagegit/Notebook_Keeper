{
 "cells": [
  {
   "cell_type": "markdown",
   "metadata": {},
   "source": [
    "# Generate filter calibration curves\n",
    "This script runs the monochromator through a series of wavelength steps, taking flats at each step to provide filter transmission curves for each filter."
   ]
  },
  {
   "cell_type": "code",
   "execution_count": null,
   "metadata": {
    "execution": {
     "iopub.execute_input": "2023-12-21T13:13:10.294224Z",
     "iopub.status.busy": "2023-12-21T13:13:10.294047Z",
     "iopub.status.idle": "2023-12-21T13:13:15.517007Z",
     "shell.execute_reply": "2023-12-21T13:13:15.516330Z",
     "shell.execute_reply.started": "2023-12-21T13:13:10.294207Z"
    },
    "tags": []
   },
   "outputs": [],
   "source": [
    "import sys\n",
    "import asyncio\n",
    "import time\n",
    "import os\n",
    "import pickle as pkl\n",
    "import numpy as np\n",
    "import matplotlib.pyplot as plt\n",
    "from astropy.io import fits\n",
    "from astropy.time import Time\n",
    "from astropy.table import Table\n",
    "\n",
    "from lsst.ts import salobj\n",
    "from lsst.ts.observatory.control.auxtel.latiss import LATISS"
   ]
  },
  {
   "cell_type": "code",
   "execution_count": null,
   "metadata": {
    "execution": {
     "iopub.execute_input": "2023-12-21T13:13:15.523035Z",
     "iopub.status.busy": "2023-12-21T13:13:15.522902Z",
     "iopub.status.idle": "2023-12-21T13:13:15.525786Z",
     "shell.execute_reply": "2023-12-21T13:13:15.525253Z",
     "shell.execute_reply.started": "2023-12-21T13:13:15.523021Z"
    }
   },
   "outputs": [],
   "source": [
    "# change this to a local directory\n",
    "data_dir = '/home/craiglagegit/DATA'"
   ]
  },
  {
   "cell_type": "markdown",
   "metadata": {},
   "source": [
    "## Now connect to LATISS and the ATCalSys CSCs"
   ]
  },
  {
   "cell_type": "code",
   "execution_count": null,
   "metadata": {
    "execution": {
     "iopub.execute_input": "2023-12-21T13:13:15.528497Z",
     "iopub.status.busy": "2023-12-21T13:13:15.528076Z",
     "iopub.status.idle": "2023-12-21T13:13:16.483439Z",
     "shell.execute_reply": "2023-12-21T13:13:16.482788Z",
     "shell.execute_reply.started": "2023-12-21T13:13:15.528482Z"
    },
    "tags": []
   },
   "outputs": [],
   "source": [
    "domain = salobj.Domain()\n",
    "latiss = LATISS(domain)\n",
    "atmonochromator = salobj.Remote(domain, 'ATMonochromator')\n",
    "FiberSpectrograph = salobj.Remote(name=\"FiberSpectrograph\", domain=domain, index=3)\n",
    "electrometer = salobj.Remote(name=\"Electrometer\", domain=domain, index=201) \n",
    "WhiteLightSource = salobj.Remote(name='ATWhiteLight', domain=domain)"
   ]
  },
  {
   "cell_type": "markdown",
   "metadata": {},
   "source": [
    "## Bring in needed subroutines"
   ]
  },
  {
   "cell_type": "code",
   "execution_count": null,
   "metadata": {
    "execution": {
     "iopub.execute_input": "2023-12-21T13:13:17.749019Z",
     "iopub.status.busy": "2023-12-21T13:13:17.748583Z",
     "iopub.status.idle": "2023-12-21T13:13:17.758370Z",
     "shell.execute_reply": "2023-12-21T13:13:17.757839Z",
     "shell.execute_reply.started": "2023-12-21T13:13:17.748992Z"
    }
   },
   "outputs": [],
   "source": [
    "# functions to run the electrometer measurements\n",
    "def get_file_transfer(lfa):\n",
    "    filename = os.path.split(lfa.url)[1]\n",
    "    save_dir = os.path.join(data_dir, filename.split(':')[0])\n",
    "    if not os.path.exists(save_dir):\n",
    "        os.mkdir(save_dir)\n",
    "    save_file = os.path.join(save_dir, filename)\n",
    "    os.system(f\"curl {lfa.url} --output {save_file}\")\n",
    "    return save_file\n",
    "\n",
    "async def elec_meas(exp_time):\n",
    "    electrometer.evt_largeFileObjectAvailable.flush()\n",
    "    tmp1=await electrometer.cmd_startScan.set_start(timeout=10)\n",
    "    await asyncio.sleep(exp_time)\n",
    "    tmp2=await electrometer.cmd_stopScan.set_start(timeout=10)\n",
    "    lfa = await electrometer.evt_largeFileObjectAvailable.next(flush=False, timeout=10)\n",
    "    filename = get_file_transfer(lfa)\n",
    "    filename = filename.replace(\":\", \"_\")\n",
    "    elec_filen = os.path.join(data_dir, filename)\n",
    "    os.system(f\"curl {lfa.url} --output {elec_filen}\")\n",
    "    hdu = fits.open(f'{elec_filen}')\n",
    "    data = hdu[1].data\n",
    "    return filename, lfa, data\n",
    "\n",
    "async def fiber_meas(exp_time):\n",
    "    FiberSpectrograph.evt_largeFileObjectAvailable.flush()\n",
    "    tmp1 = await FiberSpectrograph.cmd_expose.set_start(duration=exp_time, numExposures=1)\n",
    "    lfa = await FiberSpectrograph.evt_largeFileObjectAvailable.next(flush=False, timeout=10)\n",
    "    filename = get_file_transfer(lfa)\n",
    "    filename = filename.replace(\":\", \"_\")\n",
    "    spec_filen = os.path.join(data_dir, filename)\n",
    "    os.system(f\"curl {lfa.url} --output {spec_filen}\")\n",
    "    hdu = fits.open(f'{spec_filen}')\n",
    "    wavelength = hdu[1].data['wavelength'].flatten()\n",
    "    spectrum = hdu[0].data\n",
    "    return filename, lfa, wavelength, spectrum\n"
   ]
  },
  {
   "cell_type": "markdown",
   "metadata": {},
   "source": [
    "## Set up electrometer"
   ]
  },
  {
   "cell_type": "code",
   "execution_count": null,
   "metadata": {
    "execution": {
     "iopub.execute_input": "2023-12-21T13:13:21.714336Z",
     "iopub.status.busy": "2023-12-21T13:13:21.713539Z",
     "iopub.status.idle": "2023-12-21T13:13:21.902989Z",
     "shell.execute_reply": "2023-12-21T13:13:21.902240Z",
     "shell.execute_reply.started": "2023-12-21T13:13:21.714305Z"
    }
   },
   "outputs": [],
   "source": [
    "await electrometer.cmd_performZeroCalib.set_start(timeout=10)\n",
    "await electrometer.cmd_setDigitalFilter.set_start(activateFilter=False, activateAvgFilter=False, activateMedFilter=False, timeout=10)  \n",
    "await electrometer.cmd_setIntegrationTime.set_start(intTime=0.1) \n",
    "await electrometer.cmd_setRange.set_start(setRange=-1)"
   ]
  },
  {
   "cell_type": "markdown",
   "metadata": {},
   "source": [
    "# Take an electrometer reading with slits closed for zero point offset"
   ]
  },
  {
   "cell_type": "code",
   "execution_count": null,
   "metadata": {
    "execution": {
     "iopub.execute_input": "2023-12-21T13:15:10.427345Z",
     "iopub.status.busy": "2023-12-21T13:15:10.426297Z",
     "iopub.status.idle": "2023-12-21T13:15:13.072342Z",
     "shell.execute_reply": "2023-12-21T13:15:13.071319Z",
     "shell.execute_reply.started": "2023-12-21T13:15:10.427310Z"
    }
   },
   "outputs": [],
   "source": [
    "filename, electrometer_lfa, electrometer_data = await elec_meas(1.0)\n",
    "for (t,current) in electrometer_data:\n",
    "    electrometer_current = current\n",
    "print(f\"Zero point current = {current}\")\n"
   ]
  },
  {
   "cell_type": "markdown",
   "metadata": {},
   "source": [
    "## Take 20 biases for system warm-up"
   ]
  },
  {
   "cell_type": "code",
   "execution_count": null,
   "metadata": {
    "execution": {
     "iopub.execute_input": "2023-12-21T13:16:08.959590Z",
     "iopub.status.busy": "2023-12-21T13:16:08.959071Z",
     "iopub.status.idle": "2023-12-21T13:17:39.045645Z",
     "shell.execute_reply": "2023-12-21T13:17:39.044971Z",
     "shell.execute_reply.started": "2023-12-21T13:16:08.959558Z"
    },
    "tags": []
   },
   "outputs": [],
   "source": [
    "# Take 20 biases for system warm-up\n",
    "for i in range(20):\n",
    "    await latiss.take_bias(1)\n",
    "    await asyncio.sleep(2.0)\n"
   ]
  },
  {
   "cell_type": "markdown",
   "metadata": {
    "execution": {
     "iopub.execute_input": "2022-12-12T17:14:28.707685Z",
     "iopub.status.busy": "2022-12-12T17:14:28.706994Z",
     "iopub.status.idle": "2022-12-12T17:14:28.710806Z",
     "shell.execute_reply": "2022-12-12T17:14:28.710312Z",
     "shell.execute_reply.started": "2022-12-12T17:14:28.707665Z"
    },
    "tags": []
   },
   "source": [
    "## Now run QE test"
   ]
  },
  {
   "cell_type": "markdown",
   "metadata": {},
   "source": [
    "# 202312210021 is the first exposure"
   ]
  },
  {
   "cell_type": "code",
   "execution_count": null,
   "metadata": {
    "execution": {
     "iopub.execute_input": "2023-12-21T13:20:28.353563Z",
     "iopub.status.busy": "2023-12-21T13:20:28.353206Z",
     "iopub.status.idle": "2023-12-21T13:53:10.296990Z",
     "shell.execute_reply": "2023-12-21T13:53:10.296042Z",
     "shell.execute_reply.started": "2023-12-21T13:20:28.353516Z"
    },
    "tags": []
   },
   "outputs": [],
   "source": [
    "latiss_grating = 'empty_1'\n",
    "latiss_filter = 'empty_1'\n",
    "wave_step = 25 # Wavelength step in nm\n",
    "latiss_exp_time = 60.0\n",
    "num_latiss_exps = 1\n",
    "min_wave = 350; max_wave = 1050; grating = 1; slit_1 = 5.0; slit_2 = 5.0\n",
    "# Dictionary to hold the results\n",
    "results = {}\n",
    "results['zero_point_current'] = current\n",
    "await atmonochromator.cmd_updateMonochromatorSetup.set_start(wavelength=min_wave, gratingType=grating, \\\n",
    "                                                         fontEntranceSlitWidth=slit_1, fontExitSlitWidth=slit_2, timeout=180)        \n",
    "wave = min_wave\n",
    "# This loop steps through the wavelengths for each filter\n",
    "while wave < max_wave + wave_step / 2.0:\n",
    "    await atmonochromator.cmd_updateMonochromatorSetup.set_start(wavelength=wave, gratingType=grating, \\\n",
    "                                                         fontEntranceSlitWidth=slit_1, fontExitSlitWidth=slit_2, timeout=180)        \n",
    "    key = f\"{wave:.0f}\"\n",
    "    print(key)\n",
    "    filename, electrometer_lfa, electrometer_data = await elec_meas(1.0)\n",
    "    for (t,current) in electrometer_data:\n",
    "        electrometer_current = current\n",
    "    exp_time = 0.5\n",
    "    filename, fiber_lfa, wavelengths, spectrum = await fiber_meas(exp_time)\n",
    "    spec_max = np.max(spectrum)\n",
    "    # The loop below prevents the spectrum from saturating\n",
    "    while spec_max > 15900:\n",
    "        exp_time /= 2.0\n",
    "        filename, fiber_lfa, wavelengths, spectrum = await fiber_meas(exp_time)\n",
    "        spec_max = np.max(spectrum)\n",
    "    # Take one flat \n",
    "    await latiss.take_flats(latiss_exp_time, num_latiss_exps, filter=latiss_filter, grating=latiss_grating, reason=f'flat_{wave:.1f}')\n",
    "    \n",
    "    print(wave, electrometer_current, exp_time, spec_max)\n",
    "    results[key] = {}\n",
    "    results[key]['electrometer_lfa_url']=electrometer_lfa.url\n",
    "    results[key]['fiber_lfa_url']=fiber_lfa.url\n",
    "    results[key]['electrometer_current']=electrometer_current\n",
    "    results[key]['fiber_data']=[wavelengths, spectrum, exp_time]\n",
    "    print(f\"Done with {latiss_filter}, {wave}\")\n",
    "    wave += wave_step"
   ]
  },
  {
   "cell_type": "code",
   "execution_count": null,
   "metadata": {
    "execution": {
     "iopub.execute_input": "2023-12-21T13:53:37.837257Z",
     "iopub.status.busy": "2023-12-21T13:53:37.836890Z",
     "iopub.status.idle": "2023-12-21T13:53:37.847941Z",
     "shell.execute_reply": "2023-12-21T13:53:37.847257Z",
     "shell.execute_reply.started": "2023-12-21T13:53:37.837227Z"
    },
    "tags": []
   },
   "outputs": [],
   "source": [
    "# Pickle the data\n",
    "filename = \"/scratch/cslage/filter_cals/qe_test_21Dec23.pkl\"\n",
    "file = open(filename, \"wb\")\n",
    "pkl.dump(results, file)\n",
    "file.close()"
   ]
  },
  {
   "cell_type": "code",
   "execution_count": null,
   "metadata": {},
   "outputs": [],
   "source": [
    "# Turn off the lamp\n",
    "tmp = await WhiteLightSource.cmd_turnLampOff.set_start()"
   ]
  },
  {
   "cell_type": "markdown",
   "metadata": {},
   "source": [
    "## Below shows how to unpickle the spectrum and electrometer data and plot a spectrum"
   ]
  },
  {
   "cell_type": "code",
   "execution_count": null,
   "metadata": {
    "execution": {
     "iopub.execute_input": "2023-12-21T14:27:34.766842Z",
     "iopub.status.busy": "2023-12-21T14:27:34.766467Z",
     "iopub.status.idle": "2023-12-21T14:27:34.773375Z",
     "shell.execute_reply": "2023-12-21T14:27:34.772634Z",
     "shell.execute_reply.started": "2023-12-21T14:27:34.766813Z"
    },
    "tags": []
   },
   "outputs": [],
   "source": [
    "# Unpickle the data\n",
    "filename = \"/scratch/cslage/filter_cals/qe_test_21Dec23.pkl\"\n",
    "file = open(filename, \"rb\")\n",
    "results = pkl.load(file)\n",
    "file.close()"
   ]
  },
  {
   "cell_type": "code",
   "execution_count": null,
   "metadata": {
    "execution": {
     "iopub.execute_input": "2023-12-21T14:28:52.033013Z",
     "iopub.status.busy": "2023-12-21T14:28:52.032722Z",
     "iopub.status.idle": "2023-12-21T14:28:52.036936Z",
     "shell.execute_reply": "2023-12-21T14:28:52.036357Z",
     "shell.execute_reply.started": "2023-12-21T14:28:52.032990Z"
    },
    "tags": []
   },
   "outputs": [],
   "source": [
    "[wavelengths, spectrum, exp_time] = results['950']['fiber_data']"
   ]
  },
  {
   "cell_type": "code",
   "execution_count": null,
   "metadata": {
    "execution": {
     "iopub.execute_input": "2023-12-21T14:28:55.298038Z",
     "iopub.status.busy": "2023-12-21T14:28:55.297257Z",
     "iopub.status.idle": "2023-12-21T14:28:55.432941Z",
     "shell.execute_reply": "2023-12-21T14:28:55.432187Z",
     "shell.execute_reply.started": "2023-12-21T14:28:55.298006Z"
    },
    "tags": []
   },
   "outputs": [],
   "source": [
    "%matplotlib inline\n",
    "plt.plot(wavelengths, spectrum)\n",
    "plt.xlim(350, 1050)"
   ]
  },
  {
   "cell_type": "code",
   "execution_count": null,
   "metadata": {
    "execution": {
     "iopub.execute_input": "2023-12-21T14:26:13.882906Z",
     "iopub.status.busy": "2023-12-21T14:26:13.882526Z",
     "iopub.status.idle": "2023-12-21T14:26:13.894917Z",
     "shell.execute_reply": "2023-12-21T14:26:13.894157Z",
     "shell.execute_reply.started": "2023-12-21T14:26:13.882876Z"
    },
    "tags": []
   },
   "outputs": [],
   "source": [
    "# Unpickle the data\n",
    "filename = \"/scratch/cslage/filter_cals/filter_cal_02May23.pkl\"\n",
    "file = open(filename, \"rb\")\n",
    "results = pkl.load(file)\n",
    "file.close()"
   ]
  },
  {
   "cell_type": "code",
   "execution_count": null,
   "metadata": {
    "execution": {
     "iopub.execute_input": "2023-12-21T14:26:17.960450Z",
     "iopub.status.busy": "2023-12-21T14:26:17.960086Z",
     "iopub.status.idle": "2023-12-21T14:26:17.964937Z",
     "shell.execute_reply": "2023-12-21T14:26:17.964115Z",
     "shell.execute_reply.started": "2023-12-21T14:26:17.960420Z"
    },
    "tags": []
   },
   "outputs": [],
   "source": [
    "[wavelengths, spectrum, exp_time] = results['SDSSi_65mm_850']['fiber_data']"
   ]
  },
  {
   "cell_type": "code",
   "execution_count": null,
   "metadata": {
    "execution": {
     "iopub.execute_input": "2023-12-21T14:26:19.231860Z",
     "iopub.status.busy": "2023-12-21T14:26:19.231526Z",
     "iopub.status.idle": "2023-12-21T14:26:19.389828Z",
     "shell.execute_reply": "2023-12-21T14:26:19.389241Z",
     "shell.execute_reply.started": "2023-12-21T14:26:19.231835Z"
    },
    "tags": []
   },
   "outputs": [],
   "source": [
    "%matplotlib inline\n",
    "plt.plot(wavelengths, spectrum)\n",
    "plt.xlim(350, 1050)"
   ]
  },
  {
   "cell_type": "code",
   "execution_count": null,
   "metadata": {},
   "outputs": [],
   "source": []
  }
 ],
 "metadata": {
  "kernelspec": {
   "display_name": "LSST",
   "language": "python",
   "name": "lsst"
  },
  "language_info": {
   "codemirror_mode": {
    "name": "ipython",
    "version": 3
   },
   "file_extension": ".py",
   "mimetype": "text/x-python",
   "name": "python",
   "nbconvert_exporter": "python",
   "pygments_lexer": "ipython3",
   "version": "3.11.6"
  }
 },
 "nbformat": 4,
 "nbformat_minor": 4
}
