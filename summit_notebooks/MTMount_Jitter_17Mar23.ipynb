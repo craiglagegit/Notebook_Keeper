{
 "cells": [
  {
   "cell_type": "code",
   "execution_count": null,
   "metadata": {
    "execution": {
     "iopub.execute_input": "2023-06-20T21:15:29.961755Z",
     "iopub.status.busy": "2023-06-20T21:15:29.961483Z",
     "iopub.status.idle": "2023-06-20T21:15:30.644989Z",
     "shell.execute_reply": "2023-06-20T21:15:30.644535Z",
     "shell.execute_reply.started": "2023-06-20T21:15:29.961739Z"
    },
    "tags": []
   },
   "outputs": [],
   "source": [
    "import sys, time, os, asyncio, glob\n",
    "from datetime import datetime\n",
    "import numpy as np\n",
    "import matplotlib.pyplot as plt\n",
    "from astropy.time import Time, TimeDelta\n",
    "\n",
    "from lsst_efd_client import EfdClient"
   ]
  },
  {
   "cell_type": "code",
   "execution_count": null,
   "metadata": {
    "execution": {
     "iopub.execute_input": "2023-06-20T21:15:31.779025Z",
     "iopub.status.busy": "2023-06-20T21:15:31.778756Z",
     "iopub.status.idle": "2023-06-20T21:15:32.987639Z",
     "shell.execute_reply": "2023-06-20T21:15:32.987083Z",
     "shell.execute_reply.started": "2023-06-20T21:15:31.779007Z"
    },
    "tags": []
   },
   "outputs": [],
   "source": [
    "client = EfdClient('summit_efd')"
   ]
  },
  {
   "cell_type": "code",
   "execution_count": null,
   "metadata": {
    "execution": {
     "iopub.execute_input": "2023-06-20T22:55:51.816902Z",
     "iopub.status.busy": "2023-06-20T22:55:51.816630Z",
     "iopub.status.idle": "2023-06-20T22:55:51.820113Z",
     "shell.execute_reply": "2023-06-20T22:55:51.819731Z",
     "shell.execute_reply.started": "2023-06-20T22:55:51.816886Z"
    },
    "tags": []
   },
   "outputs": [],
   "source": [
    "# Times to start looking at the mount data\n",
    "# We were slewing a small random distance, then tracking for 32 seconds\n",
    "# We'll query the EFD during that time\n",
    "start = Time(\"2023-03-17 05:12:00Z\", scale='utc')\n",
    "end = Time(\"2023-03-17 09:26:00Z\", scale='utc')"
   ]
  },
  {
   "cell_type": "code",
   "execution_count": null,
   "metadata": {
    "execution": {
     "iopub.execute_input": "2023-06-20T22:56:06.021768Z",
     "iopub.status.busy": "2023-06-20T22:56:06.021494Z",
     "iopub.status.idle": "2023-06-20T22:56:06.138187Z",
     "shell.execute_reply": "2023-06-20T22:56:06.137652Z",
     "shell.execute_reply.started": "2023-06-20T22:56:06.021751Z"
    },
    "tags": []
   },
   "outputs": [],
   "source": [
    "startTrack = await client.select_time_series('lsst.sal.MTMount.command_startTracking', \\\n",
    "                                                ['*'],  start, end)\n",
    "stopTrack = await client.select_time_series('lsst.sal.MTMount.command_stopTracking', \\\n",
    "                                                ['*'],  start, end)"
   ]
  },
  {
   "cell_type": "code",
   "execution_count": null,
   "metadata": {
    "execution": {
     "iopub.execute_input": "2023-06-20T22:56:08.036929Z",
     "iopub.status.busy": "2023-06-20T22:56:08.036658Z",
     "iopub.status.idle": "2023-06-20T22:56:08.040513Z",
     "shell.execute_reply": "2023-06-20T22:56:08.039980Z",
     "shell.execute_reply.started": "2023-06-20T22:56:08.036912Z"
    },
    "tags": []
   },
   "outputs": [],
   "source": [
    "# Only three - I thought there would be more ??\n",
    "len(startTrack)"
   ]
  },
  {
   "cell_type": "code",
   "execution_count": null,
   "metadata": {
    "execution": {
     "iopub.execute_input": "2023-06-20T22:56:09.873040Z",
     "iopub.status.busy": "2023-06-20T22:56:09.872775Z",
     "iopub.status.idle": "2023-06-20T22:56:09.882557Z",
     "shell.execute_reply": "2023-06-20T22:56:09.882148Z",
     "shell.execute_reply.started": "2023-06-20T22:56:09.873024Z"
    },
    "tags": []
   },
   "outputs": [],
   "source": [
    "startTrack"
   ]
  },
  {
   "cell_type": "code",
   "execution_count": null,
   "metadata": {
    "execution": {
     "iopub.execute_input": "2022-12-19T17:02:16.935116Z",
     "iopub.status.busy": "2022-12-19T17:02:16.934834Z",
     "iopub.status.idle": "2022-12-19T17:02:17.841883Z",
     "shell.execute_reply": "2022-12-19T17:02:17.841430Z",
     "shell.execute_reply.started": "2022-12-19T17:02:16.935099Z"
    },
    "tags": []
   },
   "outputs": [],
   "source": [
    "# Plotting the mount plots\n",
    "%matplotlib inline\n",
    "track_counter = 4 # This chooses one of the tracking times\n",
    "start = Time(\"2022-12-15T05:34:30\", scale='utc')\n",
    "end = Time(\"2022-12-15T05:35:50\", scale='utc')\n",
    "label = ''.join(filter(lambda x: x not in \"-:.\", str(start.isot)))\n",
    "az = await client.select_time_series('lsst.sal.MTMount.azimuth', \\\n",
    "                                            ['actualPosition', 'timestamp'],  start, end)\n",
    "el = await client.select_time_series('lsst.sal.MTMount.elevation', \\\n",
    "                                            ['actualPosition', 'timestamp'],  start, end)    \n",
    "# Calculate the tracking errors\n",
    "az_vals = np.array(az.values[:,0])\n",
    "el_vals = np.array(el.values[:,0])\n",
    "times_az = az.values[:,1]\n",
    "times_el = el.values[:,1]\n",
    "# The fits are much better if the time variable\n",
    "# is centered in the interval\n",
    "fit_times_az = [(times_az[i]-times_az[int(len(az.values) / 2)]) for i in range(len(times_az))]\n",
    "fit_times_el = [(times_el[i]-times_el[int(len(el.values) / 2)]) for i in range(len(times_el))]\n",
    "\n",
    "# Fit with a polynomial\n",
    "az_fit = np.polyfit(fit_times_az, az_vals, 4)\n",
    "el_fit = np.polyfit(fit_times_el, el_vals, 4)\n",
    "az_model = np.polyval(az_fit, fit_times_az)\n",
    "el_model = np.polyval(el_fit, fit_times_el)\n",
    "\n",
    "# Errors in arcseconds\n",
    "az_error = (az_vals - az_model) * 3600\n",
    "el_error = (el_vals - el_model) * 3600\n",
    "\n",
    "# Calculate RMS\n",
    "az_rms = np.sqrt(np.mean(az_error * az_error))\n",
    "el_rms = np.sqrt(np.mean(el_error * el_error))\n",
    "\n",
    "# Calculate Image impact RMS\n",
    "# We are less sensitive to Az errors near the zenith\n",
    "image_az_rms = az_rms * np.cos(el_vals[0] * np.pi / 180.0)\n",
    "image_el_rms = el_rms \n",
    "\n",
    "fig = plt.figure(figsize = (8,8))\n",
    "plt.subplots_adjust(wspace=0.3, hspace=0.5)\n",
    "plt.suptitle(f\"MT Mount Jitter - 20221214\", fontsize = 18)\n",
    "plt.subplot(2,2,1)\n",
    "ax1 = az['actualPosition'].plot(legend=True, color='red')\n",
    "ax1.set_title(\"Azimuth\")\n",
    "ax1.set_ylabel(\"Degrees\")\n",
    "plt.subplot(2,2,2)\n",
    "ax3 = el['actualPosition'].plot(legend=True, color='green')\n",
    "ax3.set_title(\"Elevation\")\n",
    "ax3.set_ylabel(\"Degrees\")\n",
    "\n",
    "plt.subplot(2,2,3)\n",
    "plt.plot(fit_times_az, az_error, color='red')\n",
    "plt.title(f\"Azimuth RMS error = {az_rms:.2f} arcseconds\\n\"\n",
    "          f\"  Image RMS error = {image_az_rms:.2f} arcseconds\", fontsize=10)\n",
    "plt.ylim(-5.0,5.0)\n",
    "plt.xticks([])\n",
    "plt.ylabel(\"ArcSeconds\")\n",
    "plt.subplot(2,2,4)\n",
    "plt.plot(fit_times_el, el_error, color='green')\n",
    "plt.title(f\"Elevation RMS error = {el_rms:.2f} arcseconds\\n\"\n",
    "          f\"  Image RMS error = {image_el_rms:.2f} arcseconds\", fontsize=10)\n",
    "plt.ylim(-5.0,5.0)\n",
    "plt.xticks([])\n",
    "plt.ylabel(\"ArcSeconds\")\n",
    "plt.savefig(f\"/home/craiglagegit/DATA/MT_Mount_Jitter_{label}.pdf\")\n",
    "\n"
   ]
  },
  {
   "cell_type": "code",
   "execution_count": null,
   "metadata": {
    "execution": {
     "iopub.execute_input": "2022-12-19T16:57:25.934833Z",
     "iopub.status.busy": "2022-12-19T16:57:25.934564Z",
     "iopub.status.idle": "2022-12-19T16:57:28.644982Z",
     "shell.execute_reply": "2022-12-19T16:57:28.644449Z",
     "shell.execute_reply.started": "2022-12-19T16:57:25.934816Z"
    },
    "tags": []
   },
   "outputs": [],
   "source": [
    "# Plotting the mount plots\n",
    "%matplotlib inline\n",
    "track_counter = 4 # This chooses one of the tracking times\n",
    "start = Time(\"2022-11-29T03:28:00\", scale='utc')\n",
    "end = Time(\"2022-11-29T03:28:10\", scale='utc')\n",
    "label = ''.join(filter(lambda x: x not in \"-:.\", str(start.isot)))\n",
    "\n",
    "az = await client.select_time_series('lsst.sal.MTMount.azimuth', \\\n",
    "                                            ['actualPosition', 'timestamp'],  start, end)\n",
    "el = await client.select_time_series('lsst.sal.MTMount.elevation', \\\n",
    "                                            ['actualPosition', 'timestamp'],  start, end)    \n",
    "# Calculate the tracking errors\n",
    "az_vals = np.array(az.values[:,0])\n",
    "el_vals = np.array(el.values[:,0])\n",
    "times_az = az.values[:,1]\n",
    "times_el = el.values[:,1]\n",
    "# The fits are much better if the time variable\n",
    "# is centered in the interval\n",
    "fit_times_az = [(times_az[i]-times_az[int(len(az.values) / 2)]) for i in range(len(times_az))]\n",
    "fit_times_el = [(times_el[i]-times_el[int(len(el.values) / 2)]) for i in range(len(times_el))]\n",
    "\n",
    "# Fit with a polynomial\n",
    "az_fit = np.polyfit(fit_times_az, az_vals, 4)\n",
    "el_fit = np.polyfit(fit_times_el, el_vals, 4)\n",
    "az_model = np.polyval(az_fit, fit_times_az)\n",
    "el_model = np.polyval(el_fit, fit_times_el)\n",
    "\n",
    "# Errors in arcseconds\n",
    "az_error = (az_vals - az_model) * 3600\n",
    "el_error = (el_vals - el_model) * 3600\n",
    "\n",
    "# Calculate RMS\n",
    "az_rms = np.sqrt(np.mean(az_error * az_error))\n",
    "el_rms = np.sqrt(np.mean(el_error * el_error))\n",
    "\n",
    "# Calculate Image impact RMS\n",
    "# We are less sensitive to Az errors near the zenith\n",
    "image_az_rms = az_rms * np.cos(el_vals[0] * np.pi / 180.0)\n",
    "image_el_rms = el_rms \n",
    "\n",
    "fig = plt.figure(figsize = (8,8))\n",
    "plt.subplots_adjust(wspace=0.3, hspace=0.5)\n",
    "plt.suptitle(f\"MT Mount Jitter - 20221128\", fontsize = 18)\n",
    "plt.subplot(2,2,1)\n",
    "ax1 = az['actualPosition'].plot(legend=True, color='red')\n",
    "ax1.set_title(\"Azimuth\")\n",
    "ax1.set_ylabel(\"Degrees\")\n",
    "plt.subplot(2,2,2)\n",
    "ax3 = el['actualPosition'].plot(legend=True, color='green')\n",
    "ax3.set_title(\"Elevation\")\n",
    "ax3.set_ylabel(\"Degrees\")\n",
    "\n",
    "plt.subplot(2,2,3)\n",
    "plt.plot(fit_times_az, az_error, color='red')\n",
    "plt.title(f\"Azimuth RMS error = {az_rms:.2f} arcseconds\\n\"\n",
    "          f\"  Image RMS error = {image_az_rms:.2f} arcseconds\", fontsize=10)\n",
    "plt.ylim(-5.0,5.0)\n",
    "plt.xticks([])\n",
    "plt.ylabel(\"ArcSeconds\")\n",
    "plt.subplot(2,2,4)\n",
    "plt.plot(fit_times_el, el_error, color='green')\n",
    "plt.title(f\"Elevation RMS error = {el_rms:.2f} arcseconds\\n\"\n",
    "          f\"  Image RMS error = {image_el_rms:.2f} arcseconds\", fontsize=10)\n",
    "plt.ylim(-5.0,5.0)\n",
    "plt.xticks([])\n",
    "plt.ylabel(\"ArcSeconds\")\n",
    "plt.savefig(f\"/home/craiglagegit/DATA/MT_Mount_Jitter_{label}.pdf\")\n"
   ]
  },
  {
   "cell_type": "code",
   "execution_count": null,
   "metadata": {
    "execution": {
     "iopub.execute_input": "2022-12-19T16:52:14.445440Z",
     "iopub.status.busy": "2022-12-19T16:52:14.445164Z",
     "iopub.status.idle": "2022-12-19T16:52:14.447862Z",
     "shell.execute_reply": "2022-12-19T16:52:14.447478Z",
     "shell.execute_reply.started": "2022-12-19T16:52:14.445423Z"
    },
    "tags": []
   },
   "outputs": [],
   "source": [
    "temp = str(start.isot)"
   ]
  },
  {
   "cell_type": "code",
   "execution_count": null,
   "metadata": {
    "execution": {
     "iopub.execute_input": "2022-12-19T16:51:35.446710Z",
     "iopub.status.busy": "2022-12-19T16:51:35.446435Z",
     "iopub.status.idle": "2022-12-19T16:51:35.450009Z",
     "shell.execute_reply": "2022-12-19T16:51:35.449631Z",
     "shell.execute_reply.started": "2022-12-19T16:51:35.446691Z"
    },
    "tags": []
   },
   "outputs": [],
   "source": [
    "type(temp)"
   ]
  },
  {
   "cell_type": "code",
   "execution_count": null,
   "metadata": {
    "execution": {
     "iopub.execute_input": "2022-12-19T16:53:57.145425Z",
     "iopub.status.busy": "2022-12-19T16:53:57.145154Z",
     "iopub.status.idle": "2022-12-19T16:53:57.148680Z",
     "shell.execute_reply": "2022-12-19T16:53:57.148304Z",
     "shell.execute_reply.started": "2022-12-19T16:53:57.145408Z"
    },
    "tags": []
   },
   "outputs": [],
   "source": [
    "temp.strip('0')"
   ]
  },
  {
   "cell_type": "code",
   "execution_count": null,
   "metadata": {
    "execution": {
     "iopub.execute_input": "2022-12-19T16:56:35.841241Z",
     "iopub.status.busy": "2022-12-19T16:56:35.840969Z",
     "iopub.status.idle": "2022-12-19T16:56:35.845086Z",
     "shell.execute_reply": "2022-12-19T16:56:35.844581Z",
     "shell.execute_reply.started": "2022-12-19T16:56:35.841223Z"
    }
   },
   "outputs": [],
   "source": [
    "''.join(filter(lambda x: x not in \"-:.\", temp))"
   ]
  },
  {
   "cell_type": "code",
   "execution_count": null,
   "metadata": {},
   "outputs": [],
   "source": []
  }
 ],
 "metadata": {
  "kernelspec": {
   "display_name": "LSST",
   "language": "python",
   "name": "lsst"
  },
  "language_info": {
   "codemirror_mode": {
    "name": "ipython",
    "version": 3
   },
   "file_extension": ".py",
   "mimetype": "text/x-python",
   "name": "python",
   "nbconvert_exporter": "python",
   "pygments_lexer": "ipython3",
   "version": "3.10.11"
  }
 },
 "nbformat": 4,
 "nbformat_minor": 4
}
