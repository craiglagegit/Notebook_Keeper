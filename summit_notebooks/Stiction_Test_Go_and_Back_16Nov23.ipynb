{
 "cells": [
  {
   "cell_type": "markdown",
   "id": "3dbf3c0c",
   "metadata": {},
   "source": [
    "# Azimuth oscillations \n",
    "\n",
    "Repeating the azimuth oscillations in preparation for trying the \\\n",
    "\"go past and come back\" idea.\n",
    "Craig Lage - 22Sep23"
   ]
  },
  {
   "cell_type": "code",
   "execution_count": null,
   "id": "b9b61b70",
   "metadata": {
    "execution": {
     "iopub.execute_input": "2023-11-16T14:44:49.718874Z",
     "iopub.status.busy": "2023-11-16T14:44:49.718750Z",
     "iopub.status.idle": "2023-11-16T14:44:58.515812Z",
     "shell.execute_reply": "2023-11-16T14:44:58.515004Z",
     "shell.execute_reply.started": "2023-11-16T14:44:49.718860Z"
    },
    "tags": []
   },
   "outputs": [],
   "source": [
    "import asyncio\n",
    "import time\n",
    "import os\n",
    "import numpy as np\n",
    "import matplotlib.pyplot as plt\n",
    "import pandas as pd\n",
    "from astropy.time import Time\n",
    "\n",
    "from lsst.ts import salobj\n",
    "\n",
    "from lsst.ts.observatory.control.auxtel.atcs import ATCS\n",
    "from lsst.ts.observatory.control.auxtel.latiss import LATISS\n",
    "from lsst.ts.observatory.control.utils import RotType\n",
    "\n",
    "from lsst_efd_client import EfdClient"
   ]
  },
  {
   "cell_type": "code",
   "execution_count": null,
   "id": "0755fd07",
   "metadata": {
    "execution": {
     "iopub.execute_input": "2023-11-16T14:44:58.519012Z",
     "iopub.status.busy": "2023-11-16T14:44:58.518768Z",
     "iopub.status.idle": "2023-11-16T14:44:58.522214Z",
     "shell.execute_reply": "2023-11-16T14:44:58.521699Z",
     "shell.execute_reply.started": "2023-11-16T14:44:58.518996Z"
    },
    "tags": []
   },
   "outputs": [],
   "source": [
    "logger = logging.getLogger(f\"Daytime Checkout {Time.now()} UT\")\n",
    "logger.level = logging.DEBUG"
   ]
  },
  {
   "cell_type": "code",
   "execution_count": null,
   "id": "e80647f9",
   "metadata": {
    "execution": {
     "iopub.execute_input": "2023-11-16T14:44:58.524694Z",
     "iopub.status.busy": "2023-11-16T14:44:58.524557Z",
     "iopub.status.idle": "2023-11-16T14:44:58.529630Z",
     "shell.execute_reply": "2023-11-16T14:44:58.529124Z",
     "shell.execute_reply.started": "2023-11-16T14:44:58.524681Z"
    },
    "tags": []
   },
   "outputs": [],
   "source": [
    "logger.info(os.environ[\"OSPL_URI\"])\n",
    "logger.info(os.environ[\"LSST_DDS_PARTITION_PREFIX\"])"
   ]
  },
  {
   "cell_type": "markdown",
   "id": "a9cd22ea",
   "metadata": {},
   "source": [
    "### Instantiate the control classes"
   ]
  },
  {
   "cell_type": "code",
   "execution_count": null,
   "id": "f651e5d9",
   "metadata": {
    "execution": {
     "iopub.execute_input": "2023-11-16T14:44:58.544311Z",
     "iopub.status.busy": "2023-11-16T14:44:58.544175Z",
     "iopub.status.idle": "2023-11-16T14:45:00.927630Z",
     "shell.execute_reply": "2023-11-16T14:45:00.926750Z",
     "shell.execute_reply.started": "2023-11-16T14:44:58.544298Z"
    },
    "jupyter": {
     "outputs_hidden": true
    },
    "tags": []
   },
   "outputs": [],
   "source": [
    "domain = salobj.Domain()\n",
    "atcs = ATCS(domain)\n",
    "latiss = LATISS(domain)\n",
    "await asyncio.gather(atcs.start_task, latiss.start_task)\n",
    "await atcs.assert_liveliness()"
   ]
  },
  {
   "cell_type": "markdown",
   "id": "014ff42a-1d20-4a15-a145-3a59306459e2",
   "metadata": {
    "tags": []
   },
   "source": [
    "If ATCamera and/or ATOODS don't come up, see section `Quick Troubleshooting` for support commands. "
   ]
  },
  {
   "cell_type": "code",
   "execution_count": null,
   "id": "e55f5b72-87ea-4a8b-a094-c0f469c8e326",
   "metadata": {
    "execution": {
     "iopub.execute_input": "2023-11-16T14:45:43.712283Z",
     "iopub.status.busy": "2023-11-16T14:45:43.711462Z",
     "iopub.status.idle": "2023-11-16T14:45:43.718047Z",
     "shell.execute_reply": "2023-11-16T14:45:43.717492Z",
     "shell.execute_reply.started": "2023-11-16T14:45:43.712249Z"
    }
   },
   "outputs": [],
   "source": [
    "atcs._overslew_az"
   ]
  },
  {
   "cell_type": "markdown",
   "id": "a85209e7",
   "metadata": {
    "tags": []
   },
   "source": [
    "### Bias verification"
   ]
  },
  {
   "cell_type": "code",
   "execution_count": null,
   "id": "7761429f",
   "metadata": {
    "tags": []
   },
   "outputs": [],
   "source": [
    "for i in range(5):\n",
    "    await latiss.take_bias(nbias=1)\n",
    "    await asyncio.sleep(2.0)"
   ]
  },
  {
   "cell_type": "code",
   "execution_count": null,
   "id": "eb8e7dab-9da0-42a9-995c-34977879aa1a",
   "metadata": {
    "execution": {
     "iopub.execute_input": "2023-11-16T14:47:00.664338Z",
     "iopub.status.busy": "2023-11-16T14:47:00.664039Z",
     "iopub.status.idle": "2023-11-16T14:47:00.670080Z",
     "shell.execute_reply": "2023-11-16T14:47:00.669149Z",
     "shell.execute_reply.started": "2023-11-16T14:47:00.664316Z"
    },
    "tags": []
   },
   "outputs": [],
   "source": [
    "await atcs.disable_dome_following()"
   ]
  },
  {
   "cell_type": "markdown",
   "id": "3fc32bc5-5f36-4e5a-bcfd-27c3a9eeec21",
   "metadata": {
    "tags": []
   },
   "source": [
    "### Now run the actual test, taking a 30 second image at each location."
   ]
  },
  {
   "cell_type": "code",
   "execution_count": null,
   "id": "449950cc-ce9a-4e4a-8367-fe880a4982b2",
   "metadata": {
    "execution": {
     "iopub.execute_input": "2023-11-16T14:56:41.817401Z",
     "iopub.status.busy": "2023-11-16T14:56:41.817033Z",
     "iopub.status.idle": "2023-11-16T14:57:35.548105Z",
     "shell.execute_reply": "2023-11-16T14:57:35.547279Z",
     "shell.execute_reply.started": "2023-11-16T14:56:41.817373Z"
    },
    "jupyter": {
     "outputs_hidden": true
    },
    "tags": []
   },
   "outputs": [],
   "source": [
    "# Move to starting location\n",
    "coord=atcs.radec_from_azel(az=270, el=45)\n",
    "await atcs.slew_icrs(coord.ra, coord.dec, rot=0.0, rot_type=RotType.Physical)"
   ]
  },
  {
   "cell_type": "code",
   "execution_count": null,
   "id": "6897aaac-84b7-4a47-adae-e03bf57288b9",
   "metadata": {
    "execution": {
     "iopub.execute_input": "2023-11-16T14:59:15.351106Z",
     "iopub.status.busy": "2023-11-16T14:59:15.350717Z",
     "iopub.status.idle": "2023-11-16T16:23:31.572446Z",
     "shell.execute_reply": "2023-11-16T16:23:31.571746Z",
     "shell.execute_reply.started": "2023-11-16T14:59:15.351077Z"
    },
    "jupyter": {
     "outputs_hidden": true
    },
    "tags": []
   },
   "outputs": [],
   "source": [
    "# Now run the actual test \n",
    "# First image is 2023111600015\n",
    "\n",
    "az = 270.0\n",
    "await latiss.take_darks(30.0, 1)\n",
    "for i in range(90):\n",
    "    az -= 2.0\n",
    "    coord=atcs.radec_from_azel(az=az, el=45)\n",
    "    await atcs.slew_icrs(coord.ra, coord.dec, rot=0.0, rot_type=RotType.Physical)\n",
    "    await latiss.take_darks(30.0, 1)\n"
   ]
  },
  {
   "cell_type": "code",
   "execution_count": null,
   "id": "47647445-769b-4ce5-bc41-d482aa82afb3",
   "metadata": {
    "execution": {
     "iopub.execute_input": "2023-11-16T16:31:17.449021Z",
     "iopub.status.busy": "2023-11-16T16:31:17.448312Z",
     "iopub.status.idle": "2023-11-16T17:06:53.946899Z",
     "shell.execute_reply": "2023-11-16T17:06:53.945914Z",
     "shell.execute_reply.started": "2023-11-16T16:31:17.448990Z"
    },
    "tags": []
   },
   "outputs": [],
   "source": [
    "# ATPtg faulted Re-starting\n",
    "\n",
    "az = 146.0\n",
    "await latiss.take_darks(30.0, 1)\n",
    "for i in range(28):\n",
    "    az -= 2.0\n",
    "    coord=atcs.radec_from_azel(az=az, el=45)\n",
    "    await atcs.slew_icrs(coord.ra, coord.dec, rot=0.0, rot_type=RotType.Physical)\n",
    "    await latiss.take_darks(30.0, 1)\n"
   ]
  },
  {
   "cell_type": "code",
   "execution_count": null,
   "id": "3ea5225b",
   "metadata": {
    "execution": {
     "iopub.execute_input": "2023-11-16T17:09:01.845927Z",
     "iopub.status.busy": "2023-11-16T17:09:01.845453Z",
     "iopub.status.idle": "2023-11-16T17:09:02.146932Z",
     "shell.execute_reply": "2023-11-16T17:09:02.146157Z",
     "shell.execute_reply.started": "2023-11-16T17:09:01.845902Z"
    },
    "tags": []
   },
   "outputs": [],
   "source": [
    "# Stop tracking\n",
    "await atcs.stop_tracking()"
   ]
  },
  {
   "cell_type": "code",
   "execution_count": null,
   "id": "58009d48-693f-452a-b497-ccc6008c1975",
   "metadata": {},
   "outputs": [],
   "source": []
  }
 ],
 "metadata": {
  "kernelspec": {
   "display_name": "LSST",
   "language": "python",
   "name": "lsst"
  },
  "language_info": {
   "codemirror_mode": {
    "name": "ipython",
    "version": 3
   },
   "file_extension": ".py",
   "mimetype": "text/x-python",
   "name": "python",
   "nbconvert_exporter": "python",
   "pygments_lexer": "ipython3",
   "version": "3.11.9"
  }
 },
 "nbformat": 4,
 "nbformat_minor": 5
}
