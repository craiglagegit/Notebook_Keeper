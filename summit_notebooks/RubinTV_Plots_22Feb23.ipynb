{
 "cells": [
  {
   "cell_type": "code",
   "execution_count": null,
   "id": "3ad6695a-41da-4efd-93b5-469d6f26a843",
   "metadata": {
    "execution": {
     "iopub.execute_input": "2023-02-22T14:36:31.013388Z",
     "iopub.status.busy": "2023-02-22T14:36:31.013102Z",
     "iopub.status.idle": "2023-02-22T14:36:31.027247Z",
     "shell.execute_reply": "2023-02-22T14:36:31.026680Z",
     "shell.execute_reply.started": "2023-02-22T14:36:31.013371Z"
    },
    "tags": []
   },
   "outputs": [],
   "source": [
    "import os\n",
    "import pandas as pd\n",
    "import numpy as np\n",
    "import matplotlib.pyplot as plt\n",
    "\n",
    "from lsst.rubintv.production.plotting.nightReportPlotBase import StarTrackerPlot\n",
    "%matplotlib inline"
   ]
  },
  {
   "cell_type": "code",
   "execution_count": null,
   "id": "cf8b775a-107d-4bef-8928-1998d462c8ef",
   "metadata": {
    "execution": {
     "iopub.execute_input": "2023-02-22T14:36:33.763152Z",
     "iopub.status.busy": "2023-02-22T14:36:33.762856Z",
     "iopub.status.idle": "2023-02-22T14:36:33.799031Z",
     "shell.execute_reply": "2023-02-22T14:36:33.798444Z",
     "shell.execute_reply.started": "2023-02-22T14:36:33.763135Z"
    },
    "tags": []
   },
   "outputs": [],
   "source": [
    "dayObs = 20230221\n",
    "mdFilename = os.path.join('/project/rubintv/starTracker/sidecar_metadata', f'dayObs_{dayObs}.json')\n",
    "metadata = pd.read_json(mdFilename).T\n",
    "metadata = metadata.sort_index()"
   ]
  },
  {
   "cell_type": "code",
   "execution_count": null,
   "id": "51166f65-e1a0-4956-80e3-d127be423930",
   "metadata": {
    "execution": {
     "iopub.execute_input": "2023-02-22T14:36:35.073295Z",
     "iopub.status.busy": "2023-02-22T14:36:35.073017Z",
     "iopub.status.idle": "2023-02-22T14:36:35.076337Z",
     "shell.execute_reply": "2023-02-22T14:36:35.075813Z",
     "shell.execute_reply.started": "2023-02-22T14:36:35.073279Z"
    },
    "tags": []
   },
   "outputs": [],
   "source": [
    "# any classes added to __all__ will automatically be added to the night\n",
    "# report channel, with each being replotted for each image taken.\n",
    "__all__ = ['RaDecAltAzOverTime',\n",
    "           'DeltasPlot',\n",
    "           'SourcesAndScatters',\n",
    "           'AltAzCoverageTopDown',\n",
    "           'AltAzCoverage',\n",
    "           ]\n",
    "\n",
    "COLORS = 'bgrcmyk'  # these get use in order to automatically give a series of colors for data series"
   ]
  },
  {
   "cell_type": "code",
   "execution_count": null,
   "id": "d45a3ef7-7d22-4267-944a-cf9a15aa7937",
   "metadata": {
    "execution": {
     "iopub.execute_input": "2023-02-22T14:53:48.251083Z",
     "iopub.status.busy": "2023-02-22T14:53:48.250782Z",
     "iopub.status.idle": "2023-02-22T14:53:48.257468Z",
     "shell.execute_reply": "2023-02-22T14:53:48.257055Z",
     "shell.execute_reply.started": "2023-02-22T14:53:48.251065Z"
    },
    "tags": []
   },
   "outputs": [],
   "source": [
    "class AltAzCoverageTopDown(StarTrackerPlot):\n",
    "    _PlotName = 'Alt-Az-top-down'\n",
    "    _PlotGroup = 'Coverage'\n",
    "\n",
    "    def __init__(self,\n",
    "                 dayObs,\n",
    "                 locationConfig=None,\n",
    "                 uploader=None):\n",
    "        super().__init__(dayObs=dayObs,\n",
    "                         plotName=self._PlotName,\n",
    "                         plotGroup=self._PlotGroup,\n",
    "                         locationConfig=locationConfig,\n",
    "                         uploader=uploader)\n",
    "\n",
    "    def plot(self, metadata):\n",
    "        \"\"\"Create a sample plot using data from the StarTracker page tables.\n",
    "\n",
    "        Parameters\n",
    "        ----------\n",
    "        metadata : `pandas.DataFrame`\n",
    "            The data from all three StarTracker page tables, as a dataframe.\n",
    "\n",
    "        Returns\n",
    "        -------\n",
    "        success : `bool`\n",
    "            Did the plotting succeed, and thus upload should be performed?\n",
    "        \"\"\"\n",
    "        # TODO: get a figure you can reuse to avoid matplotlib memory leak\n",
    "        _ = plt.figure(figsize=(10, 10))\n",
    "        ax = plt.subplot(111, polar=True)\n",
    "\n",
    "        alts = metadata['Alt']\n",
    "        azes = metadata['Az']\n",
    "        ax.plot([az*np.pi/180 for az in azes], alts, 'or', label='Pointing')\n",
    "        hasWideSolve = metadata.dropna(subset=['Calculated Dec wide'])\n",
    "        wideAlts = hasWideSolve['Alt']\n",
    "        wideAzes = hasWideSolve['Az']\n",
    "        ax.scatter([az*np.pi/180 for az in wideAzes], wideAlts, marker='o', s=200, facecolors='none', edgecolors='b', label='Wide Solve')\n",
    "        hasNarrowSolve = metadata.dropna(subset=['Calculated Dec'])\n",
    "        narrowAlts = hasNarrowSolve['Alt']\n",
    "        narrowAzes = hasNarrowSolve['Az']\n",
    "        ax.scatter([az*np.pi/180 for az in narrowAzes], narrowAlts, marker='o', s=400, facecolors='none', edgecolors='g', label='Narrow Solve')\n",
    "\n",
    "        ax.set_title(\"Axial coverage - azimuth (theta) vs altitude(r)\"\n",
    "                     \"\\n 'Top down' view with zenith at center\", va='bottom')\n",
    "        ax.set_theta_zero_location(\"N\")\n",
    "        ax.set_theta_direction(-1)\n",
    "        ax.set_rlim(0, 90)\n",
    "        ax.legend()\n",
    "\n",
    "        ax.invert_yaxis()  # puts 90 (the zenith) at the center\n",
    "        return True"
   ]
  },
  {
   "cell_type": "code",
   "execution_count": null,
   "id": "e8ccf4e4-f4ff-472c-b333-e4359829e374",
   "metadata": {
    "execution": {
     "iopub.execute_input": "2023-02-22T14:59:25.340165Z",
     "iopub.status.busy": "2023-02-22T14:59:25.339860Z",
     "iopub.status.idle": "2023-02-22T14:59:25.848058Z",
     "shell.execute_reply": "2023-02-22T14:59:25.847612Z",
     "shell.execute_reply.started": "2023-02-22T14:59:25.340148Z"
    },
    "tags": []
   },
   "outputs": [],
   "source": [
    "plot = AltAzCoverageTopDown(dayObs)\n",
    "plot.plot(metadata)\n",
    "plt.savefig(\"/home/craiglagegit/DATA/StarTracker_Coverage_Plot_22Feb23.png\")"
   ]
  },
  {
   "cell_type": "code",
   "execution_count": null,
   "id": "c56563e3-1f60-4cb5-a209-33a48364697f",
   "metadata": {
    "execution": {
     "iopub.execute_input": "2023-02-22T14:38:04.014794Z",
     "iopub.status.busy": "2023-02-22T14:38:04.014410Z",
     "iopub.status.idle": "2023-02-22T14:38:04.018531Z",
     "shell.execute_reply": "2023-02-22T14:38:04.018110Z",
     "shell.execute_reply.started": "2023-02-22T14:38:04.014777Z"
    }
   },
   "outputs": [],
   "source": [
    "metadata.columns"
   ]
  },
  {
   "cell_type": "code",
   "execution_count": null,
   "id": "87417d3e-1058-4e3f-b4ee-34bbe2cf8a05",
   "metadata": {
    "execution": {
     "iopub.execute_input": "2023-02-22T14:39:16.532989Z",
     "iopub.status.busy": "2023-02-22T14:39:16.532451Z",
     "iopub.status.idle": "2023-02-22T14:39:16.536618Z",
     "shell.execute_reply": "2023-02-22T14:39:16.536254Z",
     "shell.execute_reply.started": "2023-02-22T14:39:16.532970Z"
    }
   },
   "outputs": [],
   "source": [
    "metadata['Calculated Dec wide'].values"
   ]
  },
  {
   "cell_type": "code",
   "execution_count": null,
   "id": "f528431c-dab5-44a7-8ee1-cb09902fef94",
   "metadata": {
    "execution": {
     "iopub.execute_input": "2023-02-22T14:42:17.261912Z",
     "iopub.status.busy": "2023-02-22T14:42:17.261510Z",
     "iopub.status.idle": "2023-02-22T14:42:17.266431Z",
     "shell.execute_reply": "2023-02-22T14:42:17.266030Z",
     "shell.execute_reply.started": "2023-02-22T14:42:17.261887Z"
    },
    "tags": []
   },
   "outputs": [],
   "source": [
    "md2 = metadata.dropna(subset=['Calculated Dec wide'])"
   ]
  },
  {
   "cell_type": "code",
   "execution_count": null,
   "id": "fde4ab70-d9b9-43cc-adda-38556341b1ce",
   "metadata": {
    "execution": {
     "iopub.execute_input": "2023-02-22T14:42:21.725505Z",
     "iopub.status.busy": "2023-02-22T14:42:21.724650Z",
     "iopub.status.idle": "2023-02-22T14:42:21.742753Z",
     "shell.execute_reply": "2023-02-22T14:42:21.742337Z",
     "shell.execute_reply.started": "2023-02-22T14:42:21.725485Z"
    }
   },
   "outputs": [],
   "source": [
    "md2"
   ]
  },
  {
   "cell_type": "code",
   "execution_count": null,
   "id": "897bd26c-3e1e-47f6-82b3-3e643472215f",
   "metadata": {},
   "outputs": [],
   "source": []
  }
 ],
 "metadata": {
  "kernelspec": {
   "display_name": "LSST",
   "language": "python",
   "name": "lsst"
  },
  "language_info": {
   "codemirror_mode": {
    "name": "ipython",
    "version": 3
   },
   "file_extension": ".py",
   "mimetype": "text/x-python",
   "name": "python",
   "nbconvert_exporter": "python",
   "pygments_lexer": "ipython3",
   "version": "3.10.9"
  }
 },
 "nbformat": 4,
 "nbformat_minor": 5
}
