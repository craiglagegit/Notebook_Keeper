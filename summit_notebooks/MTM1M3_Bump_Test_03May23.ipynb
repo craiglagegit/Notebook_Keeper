{
 "cells": [
  {
   "cell_type": "markdown",
   "metadata": {},
   "source": [
    "# M1M3 cell learning\n",
    "Craig Lage - 14-Apr-23 \\\n",
    "The 17 tons of mirror are supported by 156 pneumatic actuators where 44 are single-axis and provide support only on the axial direction, 100 are dual-axis providing support in the axial and lateral direction, and 12 are dual-axis providing support in the axial and cross lateral directions. \\\n",
    "Positioning is provided by 6 hard points in a hexapod configuration which moves the mirror to a fixed operational position that shall be maintained during telescope operations. The remaining optical elements will be moved relative to this position in order to align the telescope optics. Support and optical figure correction is provided by 112 dual axis and 44 single axis pneumatic actuators. "
   ]
  },
  {
   "cell_type": "code",
   "execution_count": null,
   "metadata": {
    "execution": {
     "iopub.execute_input": "2023-10-13T12:08:24.894057Z",
     "iopub.status.busy": "2023-10-13T12:08:24.893291Z",
     "iopub.status.idle": "2023-10-13T12:08:25.400234Z",
     "shell.execute_reply": "2023-10-13T12:08:25.399778Z",
     "shell.execute_reply.started": "2023-10-13T12:08:24.894026Z"
    },
    "tags": []
   },
   "outputs": [],
   "source": [
    "import sys, time, os, asyncio, glob\n",
    "from datetime import datetime\n",
    "import numpy as np\n",
    "import matplotlib.pyplot as plt\n",
    "from matplotlib.backends.backend_pdf import PdfPages\n",
    "import pickle as pkl\n",
    "from astropy.time import Time, TimeDelta\n",
    "#import lsst.ts.cRIOpy.M1M3FATable as M1M3FATable\n",
    "from scipy.interpolate import UnivariateSpline\n",
    "from lsst_efd_client import EfdClient"
   ]
  },
  {
   "cell_type": "code",
   "execution_count": null,
   "metadata": {
    "execution": {
     "iopub.execute_input": "2023-10-13T12:08:30.918520Z",
     "iopub.status.busy": "2023-10-13T12:08:30.918144Z",
     "iopub.status.idle": "2023-10-13T12:08:32.272319Z",
     "shell.execute_reply": "2023-10-13T12:08:32.271626Z",
     "shell.execute_reply.started": "2023-10-13T12:08:30.918491Z"
    },
    "tags": []
   },
   "outputs": [],
   "source": [
    "client = EfdClient('summit_efd')\n",
    "#FATABLE = M1M3FATable.FATABLE"
   ]
  },
  {
   "cell_type": "code",
   "execution_count": null,
   "metadata": {
    "execution": {
     "iopub.execute_input": "2023-10-13T12:08:34.246659Z",
     "iopub.status.busy": "2023-10-13T12:08:34.246303Z",
     "iopub.status.idle": "2023-10-13T12:08:34.252476Z",
     "shell.execute_reply": "2023-10-13T12:08:34.251709Z",
     "shell.execute_reply.started": "2023-10-13T12:08:34.246634Z"
    },
    "tags": []
   },
   "outputs": [],
   "source": [
    "# Times of bump test\n",
    "start = Time(\"2023-04-17T10:00:00\", scale='utc')\n",
    "end = Time(\"2023-04-17T11:15:00\", scale='utc')"
   ]
  },
  {
   "cell_type": "code",
   "execution_count": null,
   "metadata": {
    "execution": {
     "iopub.execute_input": "2023-10-13T12:08:37.095759Z",
     "iopub.status.busy": "2023-10-13T12:08:37.095413Z",
     "iopub.status.idle": "2023-10-13T12:08:37.157001Z",
     "shell.execute_reply": "2023-10-13T12:08:37.156087Z",
     "shell.execute_reply.started": "2023-10-13T12:08:37.095733Z"
    },
    "tags": []
   },
   "outputs": [],
   "source": [
    "bumps = await client.select_time_series(\"lsst.sal.MTM1M3.logevent_forceActuatorBumpTestStatus\", \"*\", start, end)"
   ]
  },
  {
   "cell_type": "code",
   "execution_count": null,
   "metadata": {
    "execution": {
     "iopub.execute_input": "2023-10-13T12:08:38.256791Z",
     "iopub.status.busy": "2023-10-13T12:08:38.256475Z",
     "iopub.status.idle": "2023-10-13T12:08:38.262209Z",
     "shell.execute_reply": "2023-10-13T12:08:38.261334Z",
     "shell.execute_reply.started": "2023-10-13T12:08:38.256766Z"
    },
    "tags": []
   },
   "outputs": [],
   "source": [
    "len(bumps)"
   ]
  },
  {
   "cell_type": "markdown",
   "metadata": {},
   "source": [
    "## Given an actuator ID, this plots the bump test result"
   ]
  },
  {
   "cell_type": "code",
   "execution_count": null,
   "metadata": {
    "execution": {
     "iopub.execute_input": "2023-05-05T11:56:35.742407Z",
     "iopub.status.busy": "2023-05-05T11:56:35.742126Z",
     "iopub.status.idle": "2023-05-05T11:56:35.752180Z",
     "shell.execute_reply": "2023-05-05T11:56:35.751650Z",
     "shell.execute_reply.started": "2023-05-05T11:56:35.742390Z"
    },
    "tags": []
   },
   "outputs": [],
   "source": [
    "async def plotBumpTestResults(fig, bumps, id):\n",
    "    thisBump = bumps[bumps['actuatorId']==id]\n",
    "    index = M1M3FATable.actuatorIDToIndex(id)\n",
    "    # The pass/fail results are actually in the next test.\n",
    "    lastThisBumpIndex = bumps[bumps['actuatorId']==id].last_valid_index()\n",
    "    passFail = bumps.iloc[bumps.index.get_loc(lastThisBumpIndex)+1]\n",
    "    primaryBump = f\"primaryTest{FATABLE[index][M1M3FATable.FATABLE_ZINDEX]}\"\n",
    "    primaryForce = f\"zForce{FATABLE[index][M1M3FATable.FATABLE_ZINDEX]}\"\n",
    "    if FATABLE[index][M1M3FATable.FATABLE_TYPE] == 'DAA':\n",
    "        if FATABLE[index][M1M3FATable.FATABLE_ORIENTATION] in ['+Y', '-Y']:\n",
    "            secondaryBump = f\"secondaryTest{FATABLE[index][M1M3FATable.FATABLE_SINDEX]}\"\n",
    "            secondaryForce = f\"yForce{FATABLE[index][M1M3FATable.FATABLE_YINDEX]}\"\n",
    "            secondaryName = FATABLE[index][M1M3FATable.FATABLE_ORIENTATION]\n",
    "        else:\n",
    "            secondaryBump = f\"secondaryTest{FATABLE[index][M1M3FATable.FATABLE_SINDEX]}\"\n",
    "            secondaryForce = f\"xForce{FATABLE[index][M1M3FATable.FATABLE_XINDEX]}\"\n",
    "            secondaryName = FATABLE[index][M1M3FATable.FATABLE_ORIENTATION]\n",
    "    else:\n",
    "        secondaryName = None\n",
    "\n",
    "    plt.subplots_adjust(wspace=0.3)\n",
    "    plt.subplot(1,2,1)\n",
    "    plotStart = thisBump[thisBump[primaryBump]==2]['timestamp'].values[0] - 1.0\n",
    "    plotEnd = plotStart + 14.0 #thisBump[thisBump[primaryBump]==5]['timestamp'].values[0] + 2.0\n",
    "    start = Time(plotStart, format='unix_tai', scale='tai')\n",
    "    end = Time(plotEnd, format='unix_tai', scale='tai')\n",
    "    forces = await client.select_time_series(\"lsst.sal.MTM1M3.forceActuatorData\", [primaryForce, 'timestamp'], start.utc, end.utc)\n",
    "    times = forces['timestamp'].values\n",
    "    t0 = times[0]\n",
    "    times -= t0\n",
    "    plotStart -= t0\n",
    "    plotEnd -= t0\n",
    "    plt.title(f\"Primary - Z - ID:{id}\")\n",
    "    plt.plot(times, forces[primaryForce].values)\n",
    "    if passFail[primaryBump] == 6:\n",
    "        plt.text(2.0, 350.0, \"PASSED\", color='g')\n",
    "    elif passFail[primaryBump] == 7:\n",
    "        plt.text(2.0, 350.0, \"FAILED\", color='r')\n",
    "\n",
    "    plt.xlim(plotStart, plotEnd)\n",
    "    plt.ylim(-400,400)\n",
    "    plt.xlabel(\"Time (seconds)\")\n",
    "    plt.ylabel(\"Force (nt)\")\n",
    "    plt.subplot(1,2,2)\n",
    "    if secondaryName is not None:\n",
    "        plt.title(f\"Secondary - {secondaryName} - ID:{id}\")\n",
    "        plotStart = thisBump[thisBump[secondaryBump]==2]['timestamp'].values[0] - 1.0\n",
    "        plotEnd = plotStart + 14.0 #thisBump[thisBump[secondaryBump]==5]['timestamp'].values[0] + 2.0\n",
    "        start = Time(plotStart, format='unix_tai', scale='tai')\n",
    "        end = Time(plotEnd, format='unix_tai', scale='tai')\n",
    "        forces = await client.select_time_series(\"lsst.sal.MTM1M3.forceActuatorData\", [secondaryForce, 'timestamp'], start.utc, end.utc)\n",
    "        times = forces['timestamp'].values\n",
    "        t0 = times[0]\n",
    "        times -= t0\n",
    "        plotStart -= t0\n",
    "        plotEnd -= t0\n",
    "        plt.plot(times, forces[secondaryForce].values)\n",
    "        if passFail[secondaryBump] == 6:\n",
    "            plt.text(2.0, 350.0, \"PASSED\", color='g')\n",
    "        elif passFail[secondaryBump] == 7:\n",
    "            plt.text(2.0, 350.0, \"FAILED\", color='r')\n",
    "        plt.xlim(plotStart, plotEnd)\n",
    "        plt.ylim(-400,400)\n",
    "        plt.xlabel(\"Time (seconds)\")\n",
    "        plt.ylabel(\"Force (nt)\")\n",
    "    else:\n",
    "        plt.title(\"No Secondary\")\n",
    "        plt.xticks([])\n",
    "        plt.yticks([])\n",
    "    return"
   ]
  },
  {
   "cell_type": "code",
   "execution_count": null,
   "metadata": {
    "execution": {
     "iopub.execute_input": "2023-05-05T11:56:36.696051Z",
     "iopub.status.busy": "2023-05-05T11:56:36.695785Z",
     "iopub.status.idle": "2023-05-05T11:56:37.403616Z",
     "shell.execute_reply": "2023-05-05T11:56:37.402992Z",
     "shell.execute_reply.started": "2023-05-05T11:56:36.696034Z"
    },
    "tags": []
   },
   "outputs": [],
   "source": [
    "fig = plt.figure(figsize=(10,5))\n",
    "await plotBumpTestResults(fig, bumps, 227)"
   ]
  },
  {
   "cell_type": "markdown",
   "metadata": {},
   "source": [
    "## Now let's look at more of them"
   ]
  },
  {
   "cell_type": "code",
   "execution_count": null,
   "metadata": {
    "execution": {
     "iopub.execute_input": "2023-05-07T13:21:52.516976Z",
     "iopub.status.busy": "2023-05-07T13:21:52.516698Z",
     "iopub.status.idle": "2023-05-07T13:21:52.520064Z",
     "shell.execute_reply": "2023-05-07T13:21:52.519688Z",
     "shell.execute_reply.started": "2023-05-07T13:21:52.516958Z"
    },
    "tags": []
   },
   "outputs": [],
   "source": [
    "# Times of bump test\n",
    "start = Time(\"2022-11-01T00:00:00\", scale='utc')\n",
    "end = Time(\"2023-04-20T00:00:00\", scale='utc')"
   ]
  },
  {
   "cell_type": "code",
   "execution_count": null,
   "metadata": {
    "execution": {
     "iopub.execute_input": "2023-05-07T13:21:53.120043Z",
     "iopub.status.busy": "2023-05-07T13:21:53.119772Z",
     "iopub.status.idle": "2023-05-07T13:22:03.167531Z",
     "shell.execute_reply": "2023-05-07T13:22:03.167040Z",
     "shell.execute_reply.started": "2023-05-07T13:21:53.120025Z"
    },
    "tags": []
   },
   "outputs": [],
   "source": [
    "manyBumps = await client.select_time_series(\"lsst.sal.MTM1M3.logevent_forceActuatorBumpTestStatus\", \"*\", start, end)"
   ]
  },
  {
   "cell_type": "code",
   "execution_count": null,
   "metadata": {
    "execution": {
     "iopub.execute_input": "2023-05-07T13:22:03.191947Z",
     "iopub.status.busy": "2023-05-07T13:22:03.191784Z",
     "iopub.status.idle": "2023-05-07T13:22:03.199514Z",
     "shell.execute_reply": "2023-05-07T13:22:03.199130Z",
     "shell.execute_reply.started": "2023-05-07T13:22:03.191933Z"
    },
    "tags": []
   },
   "outputs": [],
   "source": [
    "len(manyBumps)"
   ]
  },
  {
   "cell_type": "code",
   "execution_count": null,
   "metadata": {
    "execution": {
     "iopub.execute_input": "2023-05-04T15:09:14.908934Z",
     "iopub.status.busy": "2023-05-04T15:09:14.908794Z",
     "iopub.status.idle": "2023-05-04T15:09:14.921729Z",
     "shell.execute_reply": "2023-05-04T15:09:14.921376Z",
     "shell.execute_reply.started": "2023-05-04T15:09:14.908921Z"
    },
    "tags": []
   },
   "outputs": [],
   "source": [
    "async def plotMultipleBumpTestResults(fig, manyBumps, id):\n",
    "    theseBumps = manyBumps[manyBumps['actuatorId']==id]\n",
    "    index = M1M3FATable.actuatorIDToIndex(id)\n",
    "    primaryBump = f\"primaryTest{FATABLE[index][M1M3FATable.FATABLE_ZINDEX]}\"\n",
    "    primaryForce = f\"zForce{FATABLE[index][M1M3FATable.FATABLE_ZINDEX]}\"\n",
    "    if FATABLE[index][M1M3FATable.FATABLE_TYPE] == 'DAA':\n",
    "        if FATABLE[index][M1M3FATable.FATABLE_ORIENTATION] in ['+Y', '-Y']:\n",
    "            secondaryBump = f\"secondaryTest{FATABLE[index][M1M3FATable.FATABLE_SINDEX]}\"\n",
    "            secondaryForce = f\"yForce{FATABLE[index][M1M3FATable.FATABLE_YINDEX]}\"\n",
    "            secondaryName = FATABLE[index][M1M3FATable.FATABLE_ORIENTATION]\n",
    "        else:\n",
    "            secondaryBump = f\"secondaryTest{FATABLE[index][M1M3FATable.FATABLE_SINDEX]}\"\n",
    "            secondaryForce = f\"xForce{FATABLE[index][M1M3FATable.FATABLE_XINDEX]}\"\n",
    "            secondaryName = FATABLE[index][M1M3FATable.FATABLE_ORIENTATION]\n",
    "    else:\n",
    "        secondaryName = None\n",
    "    plt.subplots_adjust(wspace=0.3)\n",
    "    plt.suptitle(f\"Multiple bump tests Actuator ID {id}\", fontsize=18)\n",
    "\n",
    "    # Now find the separate tests\n",
    "    times = theseBumps['timestamp'].values\n",
    "    startTimes = []\n",
    "    endTimes = []\n",
    "    for i, time in enumerate(times):\n",
    "        if i == 0:\n",
    "            startTimes.append(time)\n",
    "            continue\n",
    "        if (time - times[i-1]) > 60.0:\n",
    "            startTimes.append(time)\n",
    "            endTimes.append(times[i-1])\n",
    "    endTimes.append(times[-1])\n",
    "    numPlots = 0\n",
    "    passCount = 0\n",
    "    failCount = 0\n",
    "    for i in range(len(startTimes)):\n",
    "        startTime = startTimes[i]\n",
    "        endTime = endTimes[i]\n",
    "        thisBump = theseBumps[(theseBumps['timestamp'] >= startTime) & (theseBumps['timestamp'] <= endTime)]\n",
    "        try:\n",
    "            numPlots += 1\n",
    "            plt.subplot(1,2,1)\n",
    "            plotStart = thisBump[thisBump[primaryBump]==2]['timestamp'].values[0] - 1.0\n",
    "            plotEnd = plotStart + 14.0\n",
    "            start = Time(plotStart, format='unix_tai', scale='tai')\n",
    "            end = Time(plotEnd, format='unix_tai', scale='tai')\n",
    "            forces = await client.select_time_series(\"lsst.sal.MTM1M3.forceActuatorData\", [primaryForce, 'timestamp'], \\\n",
    "                                                     start.utc, end.utc)\n",
    "            times = forces['timestamp'].values\n",
    "            t0 = times[0]\n",
    "            times -= t0\n",
    "            plotStart -= t0\n",
    "            plotEnd -= t0\n",
    "            lastIndex = bumps[bumps['actuatorId']==id].last_valid_index()\n",
    "            passFail = bumps.iloc[bumps.index.get_loc(lastIndex)+1][primaryBump]\n",
    "            if passFail == 6:\n",
    "                passCount += 1\n",
    "                #print(\"PASSED\")\n",
    "            elif passFail == 7:\n",
    "                failCount += 1\n",
    "                #print(\"FAILED\")\n",
    "            \n",
    "            plt.title(\"Primary   Z\")\n",
    "            plt.plot(times, forces[primaryForce].values)\n",
    "            plt.xlim(plotStart, plotEnd)\n",
    "            plt.ylim(-400,400)\n",
    "            plt.xlabel(\"Time (seconds)\")\n",
    "            plt.ylabel(\"Force (nt)\")\n",
    "            plt.subplot(1,2,2)\n",
    "            if secondaryName is not None:\n",
    "                plt.title(f\"Secondary   {secondaryName}\")\n",
    "                plotStart = thisBump[thisBump[secondaryBump]==2]['timestamp'].values[0] - 1.0\n",
    "                plotEnd = plotStart + 14.0\n",
    "                start = Time(plotStart, format='unix_tai', scale='tai')\n",
    "                end = Time(plotEnd, format='unix_tai', scale='tai')\n",
    "                forces = await client.select_time_series(\"lsst.sal.MTM1M3.forceActuatorData\", [secondaryForce, 'timestamp'], \\\n",
    "                                                         start.utc, end.utc)\n",
    "                times = forces['timestamp'].values\n",
    "                t0 = times[0]\n",
    "                times -= t0\n",
    "                plotStart -= t0\n",
    "                plotEnd -= t0\n",
    "                plt.plot(times, forces[secondaryForce].values)\n",
    "                plt.xlim(plotStart, plotEnd)\n",
    "                plt.ylim(-400,400)\n",
    "                plt.xlabel(\"Time (seconds)\")\n",
    "                plt.ylabel(\"Force (nt)\")\n",
    "            else:\n",
    "                plt.title(\"No Secondary\")\n",
    "                plt.xticks([])\n",
    "                plt.yticks([])\n",
    "        except:\n",
    "            continue\n",
    "            \n",
    "    plt.subplot(1,2,1)\n",
    "    plt.text(2.0, 350, f\"{numPlots} tests, {passCount} passed, {failCount} failed\")\n",
    "    plt.subplot(1,2,2)\n",
    "    plt.text(2.0, 350, f\"{numPlots} tests, {passCount} passed, {failCount} failed\")\n",
    "    return"
   ]
  },
  {
   "cell_type": "code",
   "execution_count": null,
   "metadata": {
    "execution": {
     "iopub.execute_input": "2023-05-04T15:15:44.162014Z",
     "iopub.status.busy": "2023-05-04T15:15:44.161737Z",
     "iopub.status.idle": "2023-05-04T15:15:45.354588Z",
     "shell.execute_reply": "2023-05-04T15:15:45.354130Z",
     "shell.execute_reply.started": "2023-05-04T15:15:44.161996Z"
    },
    "tags": []
   },
   "outputs": [],
   "source": [
    "id = 109\n",
    "fig = plt.figure(figsize=(10,5))\n",
    "await plotMultipleBumpTestResults(fig, manyBumps, id)\n",
    "#plt.savefig(f\"/scratch/cslage/m1m3_data/Bump_Test_{id}_17Apr23.png\")"
   ]
  },
  {
   "cell_type": "markdown",
   "metadata": {},
   "source": [
    "## Now generate the dictionary of average splines"
   ]
  },
  {
   "cell_type": "code",
   "execution_count": null,
   "metadata": {
    "tags": []
   },
   "outputs": [],
   "source": [
    "async def generateAverageBumpTest(manyBumps, averageSplineDict, id):\n",
    "    # Get representative splines to be used to weed out bad runs\n",
    "    [averagePrimarySpline, averageSecondarySpline] = averageSplineDict[999]\n",
    "    theseBumps = manyBumps[manyBumps['actuatorId']==id]\n",
    "    index = M1M3FATable.actuatorIDToIndex(id)\n",
    "    primaryBump = f\"primaryTest{FATABLE[index][M1M3FATable.FATABLE_ZINDEX]}\"\n",
    "    primaryForce = f\"zForce{FATABLE[index][M1M3FATable.FATABLE_ZINDEX]}\"\n",
    "    if FATABLE[index][M1M3FATable.FATABLE_TYPE] == 'DAA':\n",
    "        if FATABLE[index][M1M3FATable.FATABLE_ORIENTATION] in ['+Y', '-Y']:\n",
    "            secondaryBump = f\"secondaryTest{FATABLE[index][M1M3FATable.FATABLE_SINDEX]}\"\n",
    "            secondaryForce = f\"yForce{FATABLE[index][M1M3FATable.FATABLE_YINDEX]}\"\n",
    "            secondaryName = FATABLE[index][M1M3FATable.FATABLE_ORIENTATION]\n",
    "        else:\n",
    "            secondaryBump = f\"secondaryTest{FATABLE[index][M1M3FATable.FATABLE_SINDEX]}\"\n",
    "            secondaryForce = f\"xForce{FATABLE[index][M1M3FATable.FATABLE_XINDEX]}\"\n",
    "            secondaryName = FATABLE[index][M1M3FATable.FATABLE_ORIENTATION]\n",
    "    else:\n",
    "        secondaryName = None\n",
    "\n",
    "    # Now find the separate tests\n",
    "    times = theseBumps['timestamp'].values\n",
    "    startTimes = []\n",
    "    endTimes = []\n",
    "    for i, time in enumerate(times):\n",
    "        if i == 0:\n",
    "            startTimes.append(time)\n",
    "            continue\n",
    "        if (time - times[i-1]) > 60.0:\n",
    "            startTimes.append(time)\n",
    "            endTimes.append(times[i-1])\n",
    "    endTimes.append(times[-1])\n",
    "    numPlots = 0\n",
    "    primarySplines = []\n",
    "    secondarySplines = []\n",
    "    for i in range(len(startTimes)):\n",
    "        startTime = startTimes[i]\n",
    "        endTime = endTimes[i]\n",
    "        thisBump = theseBumps[(theseBumps['timestamp'] >= startTime) & (theseBumps['timestamp'] <= endTime)]\n",
    "        # The pass/fail results are actually in the next test.\n",
    "        lastThisBumpIndex = bumps[bumps['actuatorId']==id].last_valid_index()\n",
    "        passFail = bumps.iloc[bumps.index.get_loc(lastThisBumpIndex)+1]\n",
    "        if passFail[primaryBump] == 7:\n",
    "            # Don't include fails\n",
    "            continue\n",
    "        try:\n",
    "            plotStart = thisBump[thisBump[primaryBump]==2]['timestamp'].values[0] - 1.0\n",
    "            plotEnd = plotStart + 14.0\n",
    "            start = Time(plotStart, format='unix_tai', scale='tai')\n",
    "            end = Time(plotEnd, format='unix_tai', scale='tai')\n",
    "            forces = await client.select_time_series(\"lsst.sal.MTM1M3.forceActuatorData\", [primaryForce, 'timestamp'], \\\n",
    "                                                     start.utc, end.utc)\n",
    "            times = forces['timestamp'].values\n",
    "            t0 = times[0]\n",
    "            times -= t0\n",
    "            primaryForces = forces[primaryForce].values\n",
    "            if averagePrimarySpline is not None:\n",
    "                rmsError = np.sqrt(np.mean((primaryForces-averagePrimarySpline(times))**2))\n",
    "            else:\n",
    "                rmsError = 0.0\n",
    "            if rmsError < 50.0:\n",
    "                # Only include good fits in the average\n",
    "                primarySpline = UnivariateSpline(times, primaryForces, s=0.0)\n",
    "                primarySplines.append(primarySpline)\n",
    "            if secondaryName is not None:\n",
    "                if passFail[secondaryBump] == 7:\n",
    "                    # Don't include fails\n",
    "                    continue\n",
    "                plotStart = thisBump[thisBump[secondaryBump]==2]['timestamp'].values[0] - 1.0\n",
    "                plotEnd = plotStart + 14.0\n",
    "                start = Time(plotStart, format='unix_tai', scale='tai')\n",
    "                end = Time(plotEnd, format='unix_tai', scale='tai')\n",
    "                forces = await client.select_time_series(\"lsst.sal.MTM1M3.forceActuatorData\", [secondaryForce, 'timestamp'], \\\n",
    "                                                         start.utc, end.utc)\n",
    "                times = forces['timestamp'].values\n",
    "                t0 = times[0]\n",
    "                times -= t0\n",
    "                secondaryForces = forces[secondaryForce].values\n",
    "                if averageSecondarySpline is not None:\n",
    "                    rmsError = np.sqrt(np.mean((secondaryForces-averageSecondarySpline(times))**2))\n",
    "                else:\n",
    "                    rmsError = 0.0\n",
    "                if rmsError < 50.0:\n",
    "                    # Only include good fits in the average\n",
    "                    secondarySpline = UnivariateSpline(times, secondaryForces, s=0.0)\n",
    "                    secondarySplines.append(secondarySpline)\n",
    "        except:\n",
    "            continue\n",
    "    # Now calculate the average spline\n",
    "    ts = np.linspace(0,14,5000)\n",
    "    fs = np.zeros_like(ts)\n",
    "    numSplines = 0\n",
    "    for spline in primarySplines:\n",
    "        numSplines += 1\n",
    "        fs += spline(ts)\n",
    "    fs /= numSplines\n",
    "    averagePrimarySpline = UnivariateSpline(ts, fs)\n",
    "    fs = np.zeros_like(ts)\n",
    "    if secondaryName is not None:\n",
    "        numSplines = 0\n",
    "        for spline in secondarySplines:\n",
    "            numSplines += 1\n",
    "            fs += spline(ts)\n",
    "        fs /= numSplines\n",
    "        averageSecondarySpline = UnivariateSpline(ts, fs)\n",
    "    else:\n",
    "        averageSecondarySpline = None\n",
    "    return [averagePrimarySpline, averageSecondarySpline]"
   ]
  },
  {
   "cell_type": "markdown",
   "metadata": {},
   "source": [
    "## This cell generates the dictionary with a set of plots of the average spline"
   ]
  },
  {
   "cell_type": "code",
   "execution_count": null,
   "metadata": {
    "tags": []
   },
   "outputs": [],
   "source": [
    "# First seed the averageSplineDict with a typical bump test\n",
    "# This is used to weed out bad tests\n",
    "averageSplineDict = {}\n",
    "averageSplineDict[999] = [None, None]\n",
    "[averagePrimarySpline, averageSecondarySpline] = await generateAverageBumpTest(manyBumps, averageSplineDict, 227)\n",
    "averageSplineDict[999] = [averagePrimarySpline, averageSecondarySpline]\n",
    "# Now run all of the actuators\n",
    "pdf = PdfPages(\"/scratch/cslage/m1m3_data/Average_Spline_Dict_28Apr23.pdf\")\n",
    "for index in range(len(FATABLE)):\n",
    "    id = FATABLE[index][M1M3FATable.FATABLE_ID]\n",
    "    primaryName = 'Z'\n",
    "    if FATABLE[index][M1M3FATable.FATABLE_TYPE] == 'DAA':\n",
    "        if FATABLE[index][M1M3FATable.FATABLE_ORIENTATION] in ['+Y', '-Y']:\n",
    "            secondaryName = FATABLE[index][M1M3FATable.FATABLE_ORIENTATION]\n",
    "        else:\n",
    "            secondaryName = FATABLE[index][M1M3FATable.FATABLE_ORIENTATION]\n",
    "    else:\n",
    "        secondaryName = None\n",
    "\n",
    "    [averagePrimarySpline, averageSecondarySpline] = await generateAverageBumpTest(manyBumps, averageSplineDict, id)\n",
    "    averageSplineDict[id] = [averagePrimarySpline, averageSecondarySpline]\n",
    "    fig = plt.figure(figsize=(10,5))\n",
    "    ts = np.linspace(0,14,5000)\n",
    "    plt.suptitle(f\"Average Spline bumps for ID = {id}\")\n",
    "    plt.subplot(1,2,1)\n",
    "    plt.title(f\"Primary  {primaryName}\")\n",
    "    plt.plot(ts, averagePrimarySpline(ts))\n",
    "    plt.subplot(1,2,2)\n",
    "    plt.title(f\"Secondary   {secondaryName}\")\n",
    "    if averageSecondarySpline is not None:\n",
    "        plt.plot(ts, averageSecondarySpline(ts))\n",
    "    else:\n",
    "        plt.xticks([])\n",
    "        plt.yticks([])\n",
    "                  \n",
    "    pdf.savefig(fig)  # saves the current figure into a pdf page\n",
    "    plt.clf()\n",
    "pdf.close()\n"
   ]
  },
  {
   "cell_type": "markdown",
   "metadata": {},
   "source": [
    "## Pickle the dictionary for future use"
   ]
  },
  {
   "cell_type": "code",
   "execution_count": null,
   "metadata": {
    "tags": []
   },
   "outputs": [],
   "source": [
    "filename = '/scratch/cslage/m1m3_data/average_spline_dict_28apr23.pkl'\n",
    "file = open(filename, 'wb')\n",
    "pkl.dump(averageSplineDict, file)\n",
    "file.close()"
   ]
  },
  {
   "cell_type": "code",
   "execution_count": null,
   "metadata": {
    "execution": {
     "iopub.execute_input": "2023-05-05T11:56:50.948875Z",
     "iopub.status.busy": "2023-05-05T11:56:50.948583Z",
     "iopub.status.idle": "2023-05-05T11:56:51.008049Z",
     "shell.execute_reply": "2023-05-05T11:56:51.007419Z",
     "shell.execute_reply.started": "2023-05-05T11:56:50.948857Z"
    },
    "tags": []
   },
   "outputs": [],
   "source": [
    "filename = '/scratch/cslage/m1m3_data/average_spline_dict_28apr23.pkl'\n",
    "file = open(filename, 'rb')\n",
    "averageSplineDict = pkl.load(file)\n",
    "file.close()"
   ]
  },
  {
   "cell_type": "markdown",
   "metadata": {},
   "source": [
    "## Now plot the residuals against the average"
   ]
  },
  {
   "cell_type": "code",
   "execution_count": null,
   "metadata": {
    "execution": {
     "iopub.execute_input": "2023-05-05T13:08:41.801760Z",
     "iopub.status.busy": "2023-05-05T13:08:41.801489Z",
     "iopub.status.idle": "2023-05-05T13:08:41.815787Z",
     "shell.execute_reply": "2023-05-05T13:08:41.815369Z",
     "shell.execute_reply.started": "2023-05-05T13:08:41.801744Z"
    },
    "tags": []
   },
   "outputs": [],
   "source": [
    "async def plotBumpResultsAndResiduals(fig, bumps, averageSplineDict, id):\n",
    "    [averagePrimarySpline, averageSecondarySpline] = averageSplineDict[id]\n",
    "    thisBump = bumps[bumps['actuatorId']==id]\n",
    "    timestamp = thisBump.index[0].isoformat().split('.')[0].replace('-','').replace(':','')\n",
    "    index = M1M3FATable.actuatorIDToIndex(id)\n",
    "    # The pass/fail results are actually in the next test.\n",
    "    lastThisBumpIndex = bumps[bumps['actuatorId']==id].last_valid_index()\n",
    "    passFail = bumps.iloc[bumps.index.get_loc(lastThisBumpIndex)+1]\n",
    "    primaryBump = f\"primaryTest{FATABLE[index][M1M3FATable.FATABLE_ZINDEX]}\"\n",
    "    primaryForce = f\"zForce{FATABLE[index][M1M3FATable.FATABLE_ZINDEX]}\"\n",
    "    if FATABLE[index][M1M3FATable.FATABLE_TYPE] == 'DAA':\n",
    "        if FATABLE[index][M1M3FATable.FATABLE_ORIENTATION] in ['+Y', '-Y']:\n",
    "            secondaryBump = f\"secondaryTest{FATABLE[index][M1M3FATable.FATABLE_SINDEX]}\"\n",
    "            secondaryForce = f\"yForce{FATABLE[index][M1M3FATable.FATABLE_YINDEX]}\"\n",
    "            secondaryName = FATABLE[index][M1M3FATable.FATABLE_ORIENTATION]\n",
    "        else:\n",
    "            secondaryBump = f\"secondaryTest{FATABLE[index][M1M3FATable.FATABLE_SINDEX]}\"\n",
    "            secondaryForce = f\"xForce{FATABLE[index][M1M3FATable.FATABLE_XINDEX]}\"\n",
    "            secondaryName = FATABLE[index][M1M3FATable.FATABLE_ORIENTATION]\n",
    "    else:\n",
    "        secondaryName = None\n",
    "\n",
    "    plt.subplots_adjust(wspace=0.3)\n",
    "    plt.suptitle(f\"Bump Test with Residuals. Actuator ID {id}\\n{timestamp}\", fontsize=18)\n",
    "    plotStart = thisBump[thisBump[primaryBump]==2]['timestamp'].values[0] - 1.0\n",
    "    plotEnd = plotStart + 14.0 \n",
    "    start = Time(plotStart, format='unix_tai', scale='tai')\n",
    "    end = Time(plotEnd, format='unix_tai', scale='tai')\n",
    "    forces = await client.select_time_series(\"lsst.sal.MTM1M3.forceActuatorData\", [primaryForce, 'timestamp'], start.utc, end.utc)\n",
    "    times = forces['timestamp'].values\n",
    "    t0 = times[0]\n",
    "    times -= t0\n",
    "    primaryForces = forces[primaryForce].values\n",
    "    residuals = primaryForces-averagePrimarySpline(times)\n",
    "    rmsError = np.sqrt(np.mean(residuals**2))\n",
    "    plotStart -= t0\n",
    "    plotEnd -= t0\n",
    "    plt.subplot(2,2,1)\n",
    "    plt.title(\"Primary - Z\")\n",
    "    plt.plot(times, averagePrimarySpline(times), label='Average')\n",
    "    plt.plot(times, primaryForces, label='Data')\n",
    "    if passFail[primaryBump] == 6:\n",
    "        plt.text(2.0, 350.0, \"PASSED\", color='g')\n",
    "    elif passFail[primaryBump] == 7:\n",
    "        plt.text(2.0, 350.0, \"FAILED\", color='r')\n",
    "    plt.xlim(plotStart, plotEnd)\n",
    "    plt.ylim(-400,400)\n",
    "    plt.xlabel(\"Time (seconds)\")\n",
    "    plt.ylabel(\"Force (nt)\")\n",
    "    plt.legend()\n",
    "    plt.subplot(2,2,3)\n",
    "    plt.plot(times, residuals)\n",
    "    if passFail[primaryBump] == 6:\n",
    "        plt.text(2.0, 75.0, f\"RMS = {rmsError:.2f}\", color='g')\n",
    "    elif passFail[primaryBump] == 7:\n",
    "        plt.text(2.0, 75.0, f\"RMS = {rmsError:.2f}\", color='r')\n",
    "    plt.xlim(plotStart, plotEnd)\n",
    "    plt.ylim(-100,100)\n",
    "    plt.xlabel(\"Time (seconds)\")\n",
    "    plt.ylabel(\"Residuals (nt)\")\n",
    "    \n",
    "    if secondaryName is not None:\n",
    "        plotStart = thisBump[thisBump[secondaryBump]==2]['timestamp'].values[0] - 1.0\n",
    "        plotEnd = plotStart + 14.0\n",
    "        start = Time(plotStart, format='unix_tai', scale='tai')\n",
    "        end = Time(plotEnd, format='unix_tai', scale='tai')\n",
    "        forces = await client.select_time_series(\"lsst.sal.MTM1M3.forceActuatorData\", [secondaryForce, 'timestamp'], start.utc, end.utc)\n",
    "        times = forces['timestamp'].values\n",
    "        t0 = times[0]\n",
    "        times -= t0\n",
    "        secondaryForces = forces[secondaryForce].values\n",
    "        residuals = secondaryForces-averageSecondarySpline(times)\n",
    "        rmsError = np.sqrt(np.mean(residuals**2))\n",
    "        plotStart -= t0\n",
    "        plotEnd -= t0\n",
    "        plt.subplot(2,2,2)\n",
    "        plt.title(f\"Secondary - {secondaryName}\")\n",
    "        plt.plot(times, averageSecondarySpline(times), label='Average')\n",
    "        plt.plot(times, secondaryForces, label='Data')\n",
    "        if passFail[primaryBump] == 6:\n",
    "            plt.text(2.0, 350.0, \"PASSED\", color='g')\n",
    "        elif passFail[primaryBump] == 7:\n",
    "            plt.text(2.0, 350.0, \"FAILED\", color='r')\n",
    "        plt.xlim(plotStart, plotEnd)\n",
    "        plt.ylim(-400,400)\n",
    "        plt.xlabel(\"Time (seconds)\")\n",
    "        plt.ylabel(\"Force (nt)\")\n",
    "        plt.legend()\n",
    "        plt.subplot(2,2,4)\n",
    "        plt.plot(times, residuals)\n",
    "        if passFail[primaryBump] == 6:\n",
    "            plt.text(2.0, 75.0, f\"RMS = {rmsError:.2f}\", color='g')\n",
    "        elif passFail[primaryBump] == 7:\n",
    "            plt.text(2.0, 75.0, f\"RMS = {rmsError:.2f}\", color='r')\n",
    "        plt.xlim(plotStart, plotEnd)\n",
    "        plt.ylim(-100,100)\n",
    "        plt.xlabel(\"Time (seconds)\")\n",
    "        plt.ylabel(\"Residuals (nt)\")\n",
    "    else:\n",
    "        plt.subplot(2,2,2)\n",
    "        plt.title(\"No Secondary\")\n",
    "        plt.xticks([])\n",
    "        plt.yticks([])\n",
    "        plt.subplot(2,2,4)\n",
    "        plt.xticks([])\n",
    "        plt.yticks([])\n",
    "    return"
   ]
  },
  {
   "cell_type": "code",
   "execution_count": null,
   "metadata": {
    "execution": {
     "iopub.execute_input": "2023-05-04T15:09:18.911722Z",
     "iopub.status.busy": "2023-05-04T15:09:18.911366Z",
     "iopub.status.idle": "2023-05-04T15:09:19.597159Z",
     "shell.execute_reply": "2023-05-04T15:09:19.596638Z",
     "shell.execute_reply.started": "2023-05-04T15:09:18.911705Z"
    },
    "tags": []
   },
   "outputs": [],
   "source": [
    "id = 324\n",
    "fig = plt.figure(figsize=(10,10))\n",
    "await plotBumpResultsAndResiduals(fig, bumps, averageSplineDict, id)\n",
    "#plt.savefig(f\"/scratch/cslage/m1m3_data/Bump_Test_Residuals_{id}_28Apr23.png\")"
   ]
  },
  {
   "cell_type": "markdown",
   "metadata": {},
   "source": [
    "# Now run the whole bump test"
   ]
  },
  {
   "cell_type": "code",
   "execution_count": null,
   "metadata": {
    "execution": {
     "iopub.execute_input": "2023-04-28T16:36:37.192734Z",
     "iopub.status.busy": "2023-04-28T16:36:37.192457Z",
     "iopub.status.idle": "2023-04-28T16:37:10.259762Z",
     "shell.execute_reply": "2023-04-28T16:37:10.259202Z",
     "shell.execute_reply.started": "2023-04-28T16:36:37.192717Z"
    },
    "tags": []
   },
   "outputs": [],
   "source": [
    "timestamp = bumps.index[0].isoformat().split('.')[0].replace('-','').replace(':','')\n",
    "pdf = PdfPages(f\"/scratch/cslage/m1m3_data/Bump_Test{timestamp}.pdf\")\n",
    "\n",
    "for index in range(len(FATABLE)):\n",
    "    id = FATABLE[index][M1M3FATable.FATABLE_ID]\n",
    "    fig = plt.figure(figsize=(10,10))\n",
    "    await plotBumpResultsAndResiduals(fig, bumps, averageSplineDict, id)\n",
    "    pdf.savefig(fig)  # saves the current figure into a pdf page\n",
    "    plt.close()\n",
    "pdf.close()\n"
   ]
  },
  {
   "cell_type": "code",
   "execution_count": null,
   "metadata": {},
   "outputs": [],
   "source": []
  }
 ],
 "metadata": {
  "kernelspec": {
   "display_name": "LSST",
   "language": "python",
   "name": "lsst"
  },
  "language_info": {
   "codemirror_mode": {
    "name": "ipython",
    "version": 3
   },
   "file_extension": ".py",
   "mimetype": "text/x-python",
   "name": "python",
   "nbconvert_exporter": "python",
   "pygments_lexer": "ipython3",
   "version": "3.11.4"
  }
 },
 "nbformat": 4,
 "nbformat_minor": 4
}
