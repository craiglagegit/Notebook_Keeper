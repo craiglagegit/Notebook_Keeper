{
 "cells": [
  {
   "cell_type": "code",
   "execution_count": null,
   "metadata": {
    "execution": {
     "iopub.execute_input": "2023-09-29T16:21:35.631305Z",
     "iopub.status.busy": "2023-09-29T16:21:35.630910Z",
     "iopub.status.idle": "2023-09-29T16:21:36.634417Z",
     "shell.execute_reply": "2023-09-29T16:21:36.633626Z",
     "shell.execute_reply.started": "2023-09-29T16:21:35.631273Z"
    },
    "tags": []
   },
   "outputs": [],
   "source": [
    "import sys, time, os, asyncio, glob\n",
    "import numpy as np\n",
    "import pandas as pd\n",
    "import matplotlib.pyplot as plt\n",
    "from matplotlib.backends.backend_pdf import PdfPages\n",
    "from astropy.time import Time, TimeDelta\n",
    "from lsst_efd_client import EfdClient"
   ]
  },
  {
   "cell_type": "code",
   "execution_count": null,
   "metadata": {
    "execution": {
     "iopub.execute_input": "2023-09-29T16:21:37.601660Z",
     "iopub.status.busy": "2023-09-29T16:21:37.601280Z",
     "iopub.status.idle": "2023-09-29T16:21:39.130081Z",
     "shell.execute_reply": "2023-09-29T16:21:39.129228Z",
     "shell.execute_reply.started": "2023-09-29T16:21:37.601627Z"
    },
    "tags": []
   },
   "outputs": [],
   "source": [
    "client = EfdClient('summit_efd')"
   ]
  },
  {
   "cell_type": "code",
   "execution_count": null,
   "metadata": {
    "execution": {
     "iopub.execute_input": "2023-09-29T16:28:13.327364Z",
     "iopub.status.busy": "2023-09-29T16:28:13.326836Z",
     "iopub.status.idle": "2023-09-29T16:28:14.759289Z",
     "shell.execute_reply": "2023-09-29T16:28:14.758620Z",
     "shell.execute_reply.started": "2023-09-29T16:28:13.327330Z"
    },
    "jupyter": {
     "outputs_hidden": true
    },
    "tags": []
   },
   "outputs": [],
   "source": [
    "dates = [\"2023-07-04\",\"2023-07-05\",\"2023-07-06\",\\\n",
    "         \"2023-07-18\",\"2023-07-20\",\"2023-08-01\",\"2023-08-02\",\"2023-08-03\",\"2023-08-15\",\"2023-08-16\",\"2023-08-17\",\\\n",
    "         \"2023-08-29\",\"2023-09-12\",\"2023-09-13\",\"2023-09-14\",\"2023-09-26\",\"2023-09-27\",\"2023-09-28\"]\n",
    "closes = []\n",
    "winds = []\n",
    "for date in dates:\n",
    "    start = Time(f\"{date}T16:00:00Z\", scale='utc')\n",
    "    date_split = date.split('-')\n",
    "    end_date = f\"{date_split[0]}-{date_split[1]}-{int(date_split[2])+1:02}\"\n",
    "    print(date, end_date)\n",
    "    end = Time(f\"{end_date}T10:00:00Z\", scale='utc')\n",
    "    try:\n",
    "        state = await client.select_time_series('lsst.sal.ATDome.logevent_mainDoorState', \\\n",
    "                                            ['state'],  start, end)\n",
    "        wind = await client.select_time_series('lsst.sal.ESS.airFlow', \\\n",
    "                                                    ['speed'],  start, end)\n",
    "        print(len(state), len(wind))\n",
    "        close = state[state['state'] == 5]\n",
    "        windMed = np.median(wind.values)\n",
    "        closes.append(len(close))\n",
    "        winds.append(windMed)\n",
    "    except:\n",
    "        continue\n"
   ]
  },
  {
   "cell_type": "code",
   "execution_count": null,
   "metadata": {
    "execution": {
     "iopub.execute_input": "2023-09-29T16:32:08.238004Z",
     "iopub.status.busy": "2023-09-29T16:32:08.237048Z",
     "iopub.status.idle": "2023-09-29T16:32:08.524292Z",
     "shell.execute_reply": "2023-09-29T16:32:08.523621Z",
     "shell.execute_reply.started": "2023-09-29T16:32:08.237965Z"
    },
    "tags": []
   },
   "outputs": [],
   "source": [
    "fig, ax = plt.subplots(1,1, figsize=(5,5))\n",
    "ax.set_title(f\"Phantom Closes vs Wind Speed\", fontsize=16)\n",
    "ax.scatter(winds, closes)\n",
    "ax.set_ylabel(\"Number of close events per night\")\n",
    "ax.set_xlabel(\"Median wind speed (m/s)\")\n",
    "plt.savefig(\"/home/craiglagegit/DATA/Shutter_Closes_vs_Wind_Speed_29Sep23.png\")\n"
   ]
  },
  {
   "cell_type": "code",
   "execution_count": null,
   "metadata": {},
   "outputs": [],
   "source": []
  }
 ],
 "metadata": {
  "kernelspec": {
   "display_name": "LSST",
   "language": "python",
   "name": "lsst"
  },
  "language_info": {
   "codemirror_mode": {
    "name": "ipython",
    "version": 3
   },
   "file_extension": ".py",
   "mimetype": "text/x-python",
   "name": "python",
   "nbconvert_exporter": "python",
   "pygments_lexer": "ipython3",
   "version": "3.11.4"
  }
 },
 "nbformat": 4,
 "nbformat_minor": 4
}
