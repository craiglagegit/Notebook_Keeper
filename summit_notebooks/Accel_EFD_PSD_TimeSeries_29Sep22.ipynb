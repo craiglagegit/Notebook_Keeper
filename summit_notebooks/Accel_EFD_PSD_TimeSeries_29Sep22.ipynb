{
 "cells": [
  {
   "cell_type": "markdown",
   "id": "153412e6",
   "metadata": {},
   "source": [
    "# AuxTel accelerometer PSD - 29-Sep-22\n",
    "Diagnosing bad accelerometer channel \\\n",
    "Craig Lage"
   ]
  },
  {
   "cell_type": "code",
   "execution_count": null,
   "id": "fcd0a71e",
   "metadata": {},
   "outputs": [],
   "source": [
    "import sys, time, os, asyncio\n",
    "from datetime import datetime\n",
    "import numpy as np\n",
    "import matplotlib.pyplot as plt\n",
    "from matplotlib.backends.backend_pdf import PdfPages\n",
    "import pandas as pd\n",
    "from astropy.time import Time, TimeDelta\n",
    "from lsst.daf.butler import Butler\n",
    "from lsst_efd_client.efd_helper import EfdClient\n",
    "#from lsst_efd_client.efd_utils import merge_packed_PSD"
   ]
  },
  {
   "cell_type": "code",
   "execution_count": null,
   "id": "aed2b09e",
   "metadata": {},
   "outputs": [],
   "source": [
    "# Get EFD client\n",
    "client = EfdClient('summit_efd')"
   ]
  },
  {
   "cell_type": "code",
   "execution_count": null,
   "id": "67ae66e7-19bd-401c-9468-b56b74bc53d8",
   "metadata": {},
   "outputs": [],
   "source": [
    "# Just using this in the notebook for now.\n",
    "def merge_packed_PSD(packed_dataframe, base_field, sensor_names):\n",
    "    \"\"\"Select fields that represent the Power Spectral Density of \\                                                          \n",
    "    a sensor and unpack them into a dataframe with PSD vs frequency.                                                         \n",
    "    Parameters                                                                                                               \n",
    "    ----------                                                                                                               \n",
    "    packed_dataframe : `pandas.DataFrame`                                                                                    \n",
    "        packed data frame containing the desired data                                                                        \n",
    "    base_field :  `str`                                                                                                      \n",
    "        Base field name that will be expanded to query all                                                                   \n",
    "        vector entries.                                                                                                      \n",
    "    sensor_name :  `str` or list                                                                                             \n",
    "        Name of the sensor(s) of interest.                                                                                   \n",
    "    Returns                                                                                                                  \n",
    "    -------                                                                                                                  \n",
    "    result : `pandas.DataFrame`                                                                                              \n",
    "        A `pandas.DataFrame` containing the results of the query.                                                            \n",
    "    \"\"\"\n",
    "    minPSDFrequency = packed_dataframe['minPSDFrequency'][0]\n",
    "    maxPSDFrequency = packed_dataframe['maxPSDFrequency'][0]\n",
    "    numDataPoints = packed_dataframe['numDataPoints'][0]\n",
    "    if isinstance(sensor_names, str):\n",
    "        sensor_names = [sensor_names, ]\n",
    "\n",
    "    packed_dataframe = packed_dataframe.loc[packed_dataframe.sensorName.isin(sensor_names)]\n",
    "    packed_fields = [k for k in packed_dataframe.keys()\n",
    "                     if k.startswith(base_field) and k[len(base_field):].isdigit()]\n",
    "    packed_fields = sorted(packed_fields, key=lambda k: int(k[len(base_field):]))  # sort by pack ID                         \n",
    "    npack = len(packed_fields)\n",
    "    assert numDataPoints == npack, \"Number of packed data points does not match numDataPoints!\"\n",
    "    packed_len = len(packed_dataframe)\n",
    "    output = np.empty(npack * packed_len)\n",
    "    deltaF = float(maxPSDFrequency - minPSDFrequency) / (npack - 1) # Frequency step                                         \n",
    "    columns = []\n",
    "    for i in range(npack):\n",
    "        label = f\"{base_field}{i}\"\n",
    "        columns.append(minPSDFrequency + i * deltaF)\n",
    "        output[i::npack] = packed_dataframe[label]\n",
    "    output = np.reshape(output, (packed_len, npack))\n",
    "    return pd.DataFrame(data=output, columns=columns, index=packed_dataframe.index)\n",
    "\n",
    "# This dictionary defines the axis scramble\n",
    "trueAxes = {'AuxTel-M1':{'X':'El', 'Y':'Az', 'Z':'Opt'}, \\\n",
    "            'AuxTel-M2':{'X':'El', 'Y':'Az', 'Z':'Opt'}, \\\n",
    "            'AuxTel-Truss':{'X':'El', 'Y':'Opt', 'Z':'Az'}}\n"
   ]
  },
  {
   "cell_type": "code",
   "execution_count": null,
   "id": "21f8bf24-ce7e-403c-96be-024a6bcc187b",
   "metadata": {},
   "outputs": [],
   "source": [
    "# Times to start looking at PSD data\n",
    "start = Time(\"2022-10-04 13:24:40Z\", scale='utc')\n",
    "end = Time(\"2022-10-04 13:24:60Z\", scale='utc')\n",
    "accel_data = await client.select_time_series(\"lsst.sal.ESS.accelerometerPSD\", [\"*\"], start, end)\n",
    "axis='X'\n",
    "sensor = \"AuxTel-Truss\"\n",
    "plotCounter = 1\n",
    "base_field = f\"accelerationPSD{axis}\"\n",
    "df = merge_packed_PSD(accel_data, base_field, sensor)\n",
    "\n",
    "times = df.index.to_list()\n",
    "freqs = df.columns\n",
    "\n",
    "centerFreq = 10.0\n",
    "deltaFreq = 0.2 # Plus/minus 20%\n",
    "minFreq = centerFreq * (1.0 - deltaFreq)\n",
    "maxFreq = centerFreq * (1.0 + deltaFreq)\n",
    "plotTimes = []\n",
    "sums = []\n",
    "for i in range(len(df)):\n",
    "    plotTimes.append(times[i])\n",
    "    PSD_vals = df.iloc[i].to_list()\n",
    "    sum = 0.0\n",
    "    for j,f in enumerate(freqs):\n",
    "        if f > minFreq and f < maxFreq:\n",
    "            sum += PSD_vals[j]\n",
    "    sums.append(sum)\n",
    "plt.scatter(plotTimes, sums)"
   ]
  },
  {
   "cell_type": "code",
   "execution_count": null,
   "id": "1ddc2588-e13b-406d-ac46-233b85e7b2c7",
   "metadata": {},
   "outputs": [],
   "source": [
    "# Times to start looking at PSD data\n",
    "start = Time(\"2022-10-04 13:26:00Z\", scale='utc')\n",
    "end = Time(\"2022-10-04 13:26:30Z\", scale='utc')\n",
    "accel_data = await client.select_time_series(\"lsst.sal.ESS.accelerometerPSD\", [\"*\"], start, end)\n",
    "axis='Z'\n",
    "sensor = \"AuxTel-Truss\"\n",
    "plotCounter = 1\n",
    "base_field = f\"accelerationPSD{axis}\"\n",
    "df = merge_packed_PSD(accel_data, base_field, sensor)\n",
    "\n",
    "times = df.index.to_list()\n",
    "freqs = df.columns\n",
    "\n",
    "centerFreq = 68.0\n",
    "deltaFreq = 0.2 # Plus/minus 20%\n",
    "minFreq = centerFreq * (1.0 - deltaFreq)\n",
    "maxFreq = centerFreq * (1.0 + deltaFreq)\n",
    "plotTimes = []\n",
    "sums = []\n",
    "for i in range(len(df)):\n",
    "    plotTimes.append(times[i])\n",
    "    PSD_vals = df.iloc[i].to_list()\n",
    "    sum = 0.0\n",
    "    for j,f in enumerate(freqs):\n",
    "        if f > minFreq and f < maxFreq:\n",
    "            sum += PSD_vals[j]\n",
    "    sums.append(sum)\n",
    "plt.scatter(plotTimes, sums)"
   ]
  },
  {
   "cell_type": "code",
   "execution_count": null,
   "id": "d5b90df8-2e2b-4f5c-af91-7fd4efdd43d3",
   "metadata": {},
   "outputs": [],
   "source": [
    "peaks = [[\"AuxTel-M2\", \"Z\", 10.0], [\"AuxTel-Truss\", \"X\", 10.0], [\"AuxTel-Truss\", \"Y\", 10.0], \\\n",
    "         [\"AuxTel-Truss\", \"Z\", 68.0]]\n",
    "\n",
    "start = Time(\"2022-09-29 22:00:00Z\", scale='utc')\n",
    "end = Time(\"2022-09-30 04:00:00Z\", scale='utc')\n",
    "#accel_data = await client.select_time_series(\"lsst.sal.ESS.accelerometerPSD\", [\"*\"], start, end)\n",
    "plotCounter = 1\n",
    "plt.figure(figsize=(8,8))\n",
    "plt.suptitle(\"Time Evolution of AuxTel Accelerometer Peaks 2022-09-29\")\n",
    "for [sensor, axis, centerFreq] in peaks:\n",
    "    base_field = f\"accelerationPSD{axis}\"\n",
    "    trueAxis = trueAxes[sensor][axis]\n",
    "    df = merge_packed_PSD(accel_data, base_field, sensor)\n",
    "    times = df.index.to_list()\n",
    "    freqs = df.columns\n",
    "    deltaFreq = 0.2 # Plus/minus 20%\n",
    "    minFreq = centerFreq * (1.0 - deltaFreq)\n",
    "    maxFreq = centerFreq * (1.0 + deltaFreq)\n",
    "    plotTimes = []\n",
    "    sums = []\n",
    "    for i in range(len(df)):\n",
    "        plotTime = (times[i].day-29)*24.0 + times[i].hour + times[i].minute/60.0 + times[i].second/3600.0\n",
    "        plotTimes.append(plotTime)\n",
    "        PSD_vals = df.iloc[i].to_list()\n",
    "        sum = 0.0\n",
    "        for j,f in enumerate(freqs):\n",
    "            if f > minFreq and f < maxFreq:\n",
    "                sum += PSD_vals[j]\n",
    "        sums.append(sum)\n",
    "        #if sensor=='AuxTel-Truss' and trueAxis=='El' and sum>5.0E-9:\n",
    "        #    print(plotTimes[-1], sum)\n",
    "    plt.subplot(2,2,plotCounter)\n",
    "    plt.title(f\"{sensor}-{trueAxis}-{centerFreq} Hz\")\n",
    "    plt.scatter(plotTimes, sums)\n",
    "    plt.ylim(0,50.0E-10)\n",
    "    plotCounter += 1\n",
    "plt.savefig(\"/home/craiglagegit/DATA/Accel_PSD_Time_Evolution_30Sep22.pdf\")"
   ]
  },
  {
   "cell_type": "code",
   "execution_count": null,
   "id": "45268b61-710d-4afe-becd-703bc42bd1f1",
   "metadata": {
    "jupyter": {
     "outputs_hidden": true
    },
    "tags": []
   },
   "outputs": [],
   "source": [
    "plotTimes"
   ]
  },
  {
   "cell_type": "code",
   "execution_count": null,
   "id": "1817d10f-0b15-4a8b-8258-78e32f9a0d31",
   "metadata": {},
   "outputs": [],
   "source": [
    "test = plotTimes[-1]"
   ]
  },
  {
   "cell_type": "code",
   "execution_count": null,
   "id": "650a3d47-08e5-422b-9af4-d63b004d6d9f",
   "metadata": {},
   "outputs": [],
   "source": [
    "test.hour + test.minute / 60.0 + test.second / 3600"
   ]
  },
  {
   "cell_type": "code",
   "execution_count": null,
   "id": "ec9cae89-8125-4b54-94f4-b881b23f0cdb",
   "metadata": {},
   "outputs": [],
   "source": [
    "i=5000"
   ]
  },
  {
   "cell_type": "code",
   "execution_count": null,
   "id": "54d0c3d4-e9ca-48d9-8c8f-89b8f0edcfbc",
   "metadata": {},
   "outputs": [],
   "source": [
    "\n",
    "(times[i].day-29)*24.0 + times[i].hour + times[i].minute/60.0 + times[i].second/3600.0"
   ]
  },
  {
   "cell_type": "code",
   "execution_count": null,
   "id": "a2767311-0434-40fc-99bb-2b8a1dff3b92",
   "metadata": {},
   "outputs": [],
   "source": [
    "times[5000].day"
   ]
  },
  {
   "cell_type": "code",
   "execution_count": null,
   "id": "fac13b26-0f03-47c6-80f8-82d78d2d4d3a",
   "metadata": {},
   "outputs": [],
   "source": []
  }
 ],
 "metadata": {
  "jupytext": {
   "formats": "ipynb,markdown//md"
  },
  "kernelspec": {
   "display_name": "LSST",
   "language": "python",
   "name": "lsst"
  },
  "language_info": {
   "codemirror_mode": {
    "name": "ipython",
    "version": 3
   },
   "file_extension": ".py",
   "mimetype": "text/x-python",
   "name": "python",
   "nbconvert_exporter": "python",
   "pygments_lexer": "ipython3",
   "version": "3.10.5"
  }
 },
 "nbformat": 4,
 "nbformat_minor": 5
}
