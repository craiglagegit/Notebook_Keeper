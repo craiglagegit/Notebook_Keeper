{
 "cells": [
  {
   "cell_type": "markdown",
   "id": "153412e6",
   "metadata": {},
   "source": [
    "# MTMount accelerometers\n",
    "Querying MTMount accelerometers \\\n",
    "Craig Lage - 22-Mar-23"
   ]
  },
  {
   "cell_type": "code",
   "execution_count": null,
   "id": "fcd0a71e",
   "metadata": {
    "execution": {
     "iopub.execute_input": "2023-05-10T15:51:02.416735Z",
     "iopub.status.busy": "2023-05-10T15:51:02.416465Z",
     "iopub.status.idle": "2023-05-10T15:51:02.836190Z",
     "shell.execute_reply": "2023-05-10T15:51:02.835725Z",
     "shell.execute_reply.started": "2023-05-10T15:51:02.416717Z"
    },
    "tags": []
   },
   "outputs": [],
   "source": [
    "import sys, time, os, asyncio\n",
    "import numpy as np\n",
    "import matplotlib.pyplot as plt\n",
    "import pandas as pd\n",
    "from astropy.time import Time, TimeDelta\n",
    "from lsst_efd_client.efd_helper import EfdClient, merge_packed_time_series"
   ]
  },
  {
   "cell_type": "code",
   "execution_count": null,
   "id": "aed2b09e",
   "metadata": {
    "execution": {
     "iopub.execute_input": "2023-05-10T15:51:03.165304Z",
     "iopub.status.busy": "2023-05-10T15:51:03.165036Z",
     "iopub.status.idle": "2023-05-10T15:51:04.516635Z",
     "shell.execute_reply": "2023-05-10T15:51:04.516105Z",
     "shell.execute_reply.started": "2023-05-10T15:51:03.165289Z"
    },
    "tags": []
   },
   "outputs": [],
   "source": [
    "# Get EFD client\n",
    "client = EfdClient('summit_efd')"
   ]
  },
  {
   "cell_type": "code",
   "execution_count": null,
   "id": "b8c90662-31f2-4da1-8647-01c6fa8e5a45",
   "metadata": {
    "execution": {
     "iopub.execute_input": "2023-05-10T15:51:04.522204Z",
     "iopub.status.busy": "2023-05-10T15:51:04.521995Z",
     "iopub.status.idle": "2023-05-10T15:51:04.525113Z",
     "shell.execute_reply": "2023-05-10T15:51:04.524729Z",
     "shell.execute_reply.started": "2023-05-10T15:51:04.522182Z"
    },
    "tags": []
   },
   "outputs": [],
   "source": [
    "# Times to look at the data\n",
    "start = Time(\"2023-03-22 08:00:00Z\", scale='utc')\n",
    "end = Time(\"2023-03-22 08:10:00Z\", scale='utc')"
   ]
  },
  {
   "cell_type": "code",
   "execution_count": null,
   "id": "8a14d41e-cda6-438b-9199-f11ffd8aebd4",
   "metadata": {
    "execution": {
     "iopub.execute_input": "2023-05-10T15:51:07.983754Z",
     "iopub.status.busy": "2023-05-10T15:51:07.983481Z",
     "iopub.status.idle": "2023-05-10T15:51:07.986312Z",
     "shell.execute_reply": "2023-05-10T15:51:07.985935Z",
     "shell.execute_reply.started": "2023-05-10T15:51:07.983737Z"
    },
    "tags": []
   },
   "outputs": [],
   "source": [
    "baseFields = ['accelerationX', 'accelerationY', 'accelerationZ']\n",
    "sensorNames = ['SST top end ring +x -y', 'SST top end ring -x -y', 'SST spider spindle', 'SST M2 surrogate'] "
   ]
  },
  {
   "cell_type": "markdown",
   "id": "9335c693-dae0-4c1c-900e-61730f6c8572",
   "metadata": {},
   "source": [
    "##  Get all of the data for the selected times"
   ]
  },
  {
   "cell_type": "code",
   "execution_count": null,
   "id": "07eca9b2-9c6b-4d11-b1a2-04f3dc57927c",
   "metadata": {
    "execution": {
     "iopub.execute_input": "2023-03-24T21:19:08.197281Z",
     "iopub.status.busy": "2023-03-24T21:19:08.196970Z",
     "iopub.status.idle": "2023-03-24T21:19:12.353297Z",
     "shell.execute_reply": "2023-03-24T21:19:12.352659Z",
     "shell.execute_reply.started": "2023-03-24T21:19:08.197263Z"
    },
    "tags": []
   },
   "outputs": [],
   "source": [
    "packed_dataframe = await client.select_time_series(\"lsst.sal.ESS.accelerometer\", [\"*\"], start, end)"
   ]
  },
  {
   "cell_type": "markdown",
   "id": "df351c57-a238-4bda-a908-03565a90547d",
   "metadata": {},
   "source": [
    "## Now unpack it and plot it by sensor"
   ]
  },
  {
   "cell_type": "code",
   "execution_count": null,
   "id": "7e4739e4-4572-406f-8475-70e9f20d8080",
   "metadata": {
    "execution": {
     "iopub.execute_input": "2023-03-24T21:19:16.658270Z",
     "iopub.status.busy": "2023-03-24T21:19:16.657993Z",
     "iopub.status.idle": "2023-03-24T21:19:32.491363Z",
     "shell.execute_reply": "2023-03-24T21:19:32.490912Z",
     "shell.execute_reply.started": "2023-03-24T21:19:16.658253Z"
    },
    "tags": []
   },
   "outputs": [],
   "source": [
    "fig, axs = plt.subplots(2,2, figsize = (8,8))\n",
    "plt.subplots_adjust(hspace=0.5, wspace=0.5)\n",
    "for i, sensorName in enumerate(sensorNames):\n",
    "    sub_dataframe = packed_dataframe.loc[packed_dataframe.sensorName==sensorName]\n",
    "    plotx = i%2\n",
    "    ploty = int(i/2)\n",
    "    ax = axs[plotx][ploty]\n",
    "    ax.set_title(sensorName)\n",
    "    ax.set_ylabel(\"Accel(m/s^2)\")\n",
    "    for baseField in baseFields:\n",
    "        df = merge_packed_time_series(sub_dataframe, baseField, stride=1,\n",
    "                             ref_timestamp_col=\"timestamp\", fmt='unix_tai',\n",
    "                             scale='tai')\n",
    "        df[baseField].plot(ax=ax, label=list(baseField)[-1])\n",
    "    ax.legend()\n",
    "plt.savefig(\"/home/craiglagegit/DATA/MT_accels/MT_Accel_22Mar23.png\")"
   ]
  },
  {
   "cell_type": "markdown",
   "id": "19698755-15bb-4c4c-9cb7-e1fb70638516",
   "metadata": {},
   "source": [
    "## Testing notebook_vandv version"
   ]
  },
  {
   "cell_type": "code",
   "execution_count": null,
   "id": "92d44591-1666-48f1-9971-ce5577f374d0",
   "metadata": {
    "execution": {
     "iopub.execute_input": "2023-05-10T15:50:55.066444Z",
     "iopub.status.busy": "2023-05-10T15:50:55.066146Z",
     "iopub.status.idle": "2023-05-10T15:50:55.072384Z",
     "shell.execute_reply": "2023-05-10T15:50:55.071868Z",
     "shell.execute_reply.started": "2023-05-10T15:50:55.066427Z"
    },
    "tags": []
   },
   "outputs": [],
   "source": [
    "def unpack_tma_accel(df, axis, time_format=\"seconds\"):\n",
    "    \"\"\"Unpack TMA accelerometer data from given dataframe.\n",
    "\n",
    "    Parameters\n",
    "    ----------\n",
    "    df: pd.DataFrame\n",
    "        The dataframe of values.\n",
    "    axis: str\n",
    "        Must be \"X\", \"Y\", or \"Z\".\n",
    "    time_format: str\n",
    "        If \"seconds\", returns relative time in seconds.\n",
    "        If \"stamps\", returns time stamps.\n",
    "\n",
    "    Returns\n",
    "    -------\n",
    "    np.ndarray\n",
    "        Time of acceleration data.\n",
    "    np.ndarray\n",
    "        Accelerations in m/s^2.\n",
    "    \"\"\"\n",
    "    # validate parameters\n",
    "    if axis not in [\"X\", \"Y\", \"Z\"]:\n",
    "        raise ValueError(f\"axis {axis} invalid; must be 'X', 'Y', or 'Z'.\")\n",
    "    if time_format not in [\"seconds\", \"stamps\"]:\n",
    "        raise ValueError(\n",
    "            f\"time_format {time_format} invalid; must be 'seconds' or 'stamps'.\"\n",
    "        )\n",
    "\n",
    "    # now, let's make sure the timestamps are in order\n",
    "    df = df.sort_index()\n",
    "\n",
    "    # pull out the initial time stamp and the intervals\n",
    "    stamp0 = df.index[0]\n",
    "    intervals = df.interval.to_numpy()\n",
    "\n",
    "    # select acceleration columns for the specified axis\n",
    "    df = df[[col for col in df.columns if axis in col]]\n",
    "\n",
    "    # rename columns with integer time step\n",
    "    df = df.rename(columns=lambda col: int(col.split(axis)[1]))\n",
    "\n",
    "    # put the columns in order\n",
    "    df = df.sort_index(axis=1)\n",
    "\n",
    "    # convert index to dt in seconds\n",
    "    df.index = (df.index - df.index[0]).total_seconds()\n",
    "\n",
    "    # pull out the times (again, in seconds)\n",
    "    row_times = df.index.to_numpy()\n",
    "    column_times = intervals[:, None] * df.columns.to_numpy()[None, :]\n",
    "    times = row_times[:, None] + column_times\n",
    "\n",
    "    # finally, extract the times and accelerometer data\n",
    "    t = times.flatten()\n",
    "    accel = df.to_numpy().flatten()\n",
    "\n",
    "    # convert to time stamps?\n",
    "    if time_format == \"stamps\":\n",
    "        t = stamp0 + pd.to_timedelta(t, \"s\")\n",
    "\n",
    "    return t, accel"
   ]
  },
  {
   "cell_type": "code",
   "execution_count": null,
   "id": "4e631196-3d36-4ad8-b8f1-6b0919d3d79d",
   "metadata": {
    "execution": {
     "iopub.execute_input": "2023-05-10T15:57:30.482121Z",
     "iopub.status.busy": "2023-05-10T15:57:30.481844Z",
     "iopub.status.idle": "2023-05-10T15:57:33.266991Z",
     "shell.execute_reply": "2023-05-10T15:57:33.266577Z",
     "shell.execute_reply.started": "2023-05-10T15:57:30.482102Z"
    },
    "tags": []
   },
   "outputs": [],
   "source": [
    "axes = ['X', 'Y', 'Z']\n",
    "sensorNames = ['SST top end ring +x -y', 'SST top end ring -x -y', 'SST spider spindle', 'SST M2 surrogate'] \n",
    "fig, axs = plt.subplots(2,2, figsize = (8,8))\n",
    "plt.subplots_adjust(hspace=0.5, wspace=0.5)\n",
    "for i, sensorName in enumerate(sensorNames):\n",
    "    sub_dataframe = packed_dataframe.loc[packed_dataframe.sensorName==sensorName]\n",
    "    plotx = i%2\n",
    "    ploty = int(i/2)\n",
    "    ax = axs[plotx][ploty]\n",
    "    ax.set_title(sensorName)\n",
    "    ax.set_ylabel(\"Accel(m/s^2)\")\n",
    "    for axis in axes:\n",
    "        t, accel = unpack_tma_accel(sub_dataframe, axis=axis) \n",
    "        ax.plot(t, accel, label=axis)\n",
    "        ax.legend()\n"
   ]
  },
  {
   "cell_type": "code",
   "execution_count": null,
   "id": "0d7521ed-ecdc-4cf1-beff-7826dc5cc136",
   "metadata": {},
   "outputs": [],
   "source": []
  }
 ],
 "metadata": {
  "jupytext": {
   "formats": "ipynb,markdown//md"
  },
  "kernelspec": {
   "display_name": "LSST",
   "language": "python",
   "name": "lsst"
  },
  "language_info": {
   "codemirror_mode": {
    "name": "ipython",
    "version": 3
   },
   "file_extension": ".py",
   "mimetype": "text/x-python",
   "name": "python",
   "nbconvert_exporter": "python",
   "pygments_lexer": "ipython3",
   "version": "3.10.10"
  }
 },
 "nbformat": 4,
 "nbformat_minor": 5
}
