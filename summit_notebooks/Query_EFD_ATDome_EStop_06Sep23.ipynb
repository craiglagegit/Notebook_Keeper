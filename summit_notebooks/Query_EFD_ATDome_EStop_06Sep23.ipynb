{
 "cells": [
  {
   "cell_type": "code",
   "execution_count": null,
   "metadata": {
    "execution": {
     "iopub.execute_input": "2023-09-06T12:02:31.616918Z",
     "iopub.status.busy": "2023-09-06T12:02:31.616082Z",
     "iopub.status.idle": "2023-09-06T12:02:32.051772Z",
     "shell.execute_reply": "2023-09-06T12:02:32.051075Z",
     "shell.execute_reply.started": "2023-09-06T12:02:31.616885Z"
    },
    "tags": []
   },
   "outputs": [],
   "source": [
    "import sys, time, os, asyncio, glob\n",
    "import numpy as np\n",
    "import pandas as pd\n",
    "from astropy.time import Time, TimeDelta\n",
    "from lsst_efd_client import EfdClient"
   ]
  },
  {
   "cell_type": "code",
   "execution_count": null,
   "metadata": {
    "execution": {
     "iopub.execute_input": "2023-09-06T12:02:32.101094Z",
     "iopub.status.busy": "2023-09-06T12:02:32.100962Z",
     "iopub.status.idle": "2023-09-06T12:02:33.360723Z",
     "shell.execute_reply": "2023-09-06T12:02:33.359694Z",
     "shell.execute_reply.started": "2023-09-06T12:02:32.101083Z"
    },
    "tags": []
   },
   "outputs": [],
   "source": [
    "client = EfdClient('summit_efd')"
   ]
  },
  {
   "cell_type": "code",
   "execution_count": null,
   "metadata": {
    "execution": {
     "iopub.execute_input": "2023-09-06T12:25:23.441958Z",
     "iopub.status.busy": "2023-09-06T12:25:23.441475Z",
     "iopub.status.idle": "2023-09-06T12:25:23.470986Z",
     "shell.execute_reply": "2023-09-06T12:25:23.470051Z",
     "shell.execute_reply.started": "2023-09-06T12:25:23.441931Z"
    },
    "tags": []
   },
   "outputs": [],
   "source": [
    "start = Time(\"2023-08-14 00:00:00Z\", scale='utc')\n",
    "end = Time(\"2023-08-19 00:00:00Z\", scale='utc')\n",
    "eStop = await client.select_time_series('lsst.sal.ATDome.logevent_emergencyStop', ['*'], start, end)\n",
    "state = await client.select_time_series('lsst.sal.ATDome.logevent_summaryState', ['summaryState'], start, end)\n"
   ]
  },
  {
   "cell_type": "code",
   "execution_count": null,
   "metadata": {
    "execution": {
     "iopub.execute_input": "2023-09-06T12:25:39.363987Z",
     "iopub.status.busy": "2023-09-06T12:25:39.363497Z",
     "iopub.status.idle": "2023-09-06T12:25:39.369059Z",
     "shell.execute_reply": "2023-09-06T12:25:39.368216Z",
     "shell.execute_reply.started": "2023-09-06T12:25:39.363959Z"
    },
    "tags": []
   },
   "outputs": [],
   "source": [
    "print(len(state),len(eStop))"
   ]
  },
  {
   "cell_type": "code",
   "execution_count": null,
   "metadata": {},
   "outputs": [],
   "source": []
  },
  {
   "cell_type": "code",
   "execution_count": null,
   "metadata": {},
   "outputs": [],
   "source": []
  },
  {
   "cell_type": "code",
   "execution_count": null,
   "metadata": {},
   "outputs": [],
   "source": []
  },
  {
   "cell_type": "code",
   "execution_count": null,
   "metadata": {},
   "outputs": [],
   "source": []
  },
  {
   "cell_type": "code",
   "execution_count": null,
   "metadata": {},
   "outputs": [],
   "source": []
  },
  {
   "cell_type": "code",
   "execution_count": null,
   "metadata": {
    "execution": {
     "iopub.execute_input": "2023-09-06T12:04:36.848168Z",
     "iopub.status.busy": "2023-09-06T12:04:36.847900Z",
     "iopub.status.idle": "2023-09-06T12:04:36.861430Z",
     "shell.execute_reply": "2023-09-06T12:04:36.860710Z",
     "shell.execute_reply.started": "2023-09-06T12:04:36.848148Z"
    },
    "tags": []
   },
   "outputs": [],
   "source": [
    "eStop"
   ]
  },
  {
   "cell_type": "code",
   "execution_count": null,
   "metadata": {
    "execution": {
     "iopub.execute_input": "2023-03-16T10:29:49.920826Z",
     "iopub.status.busy": "2023-03-16T10:29:49.920526Z",
     "iopub.status.idle": "2023-03-16T10:29:49.924676Z",
     "shell.execute_reply": "2023-03-16T10:29:49.924191Z",
     "shell.execute_reply.started": "2023-03-16T10:29:49.920808Z"
    },
    "tags": []
   },
   "outputs": [],
   "source": [
    "for i in range(11, 17):\n",
    "    print(i, ptg.iloc[i]['pointingModelTermValues'])"
   ]
  },
  {
   "cell_type": "code",
   "execution_count": null,
   "metadata": {
    "execution": {
     "iopub.execute_input": "2023-03-15T14:05:47.513093Z",
     "iopub.status.busy": "2023-03-15T14:05:47.512807Z",
     "iopub.status.idle": "2023-03-15T14:05:47.989200Z",
     "shell.execute_reply": "2023-03-15T14:05:47.988784Z",
     "shell.execute_reply.started": "2023-03-15T14:05:47.513076Z"
    },
    "tags": []
   },
   "outputs": [],
   "source": [
    "az['actualPosition'].plot()"
   ]
  },
  {
   "cell_type": "code",
   "execution_count": null,
   "metadata": {
    "execution": {
     "iopub.execute_input": "2023-03-16T10:31:25.472426Z",
     "iopub.status.busy": "2023-03-16T10:31:25.472150Z",
     "iopub.status.idle": "2023-03-16T10:31:25.481093Z",
     "shell.execute_reply": "2023-03-16T10:31:25.480652Z",
     "shell.execute_reply.started": "2023-03-16T10:31:25.472409Z"
    }
   },
   "outputs": [],
   "source": [
    "file"
   ]
  },
  {
   "cell_type": "code",
   "execution_count": null,
   "metadata": {
    "execution": {
     "iopub.execute_input": "2023-03-17T23:04:52.625598Z",
     "iopub.status.busy": "2023-03-17T23:04:52.625203Z",
     "iopub.status.idle": "2023-03-17T23:04:52.767822Z",
     "shell.execute_reply": "2023-03-17T23:04:52.767212Z",
     "shell.execute_reply.started": "2023-03-17T23:04:52.625581Z"
    }
   },
   "outputs": [],
   "source": [
    "client.select_time_series?"
   ]
  },
  {
   "cell_type": "code",
   "execution_count": null,
   "metadata": {
    "execution": {
     "iopub.execute_input": "2023-03-17T23:09:40.481399Z",
     "iopub.status.busy": "2023-03-17T23:09:40.481018Z",
     "iopub.status.idle": "2023-03-17T23:09:45.485523Z",
     "shell.execute_reply": "2023-03-17T23:09:45.484941Z",
     "shell.execute_reply.started": "2023-03-17T23:09:40.481379Z"
    },
    "tags": []
   },
   "outputs": [],
   "source": [
    "start = Time(\"2023-03-17 20:00:00Z\", scale='utc')\n",
    "end = Time(\"2023-03-17 20:05:00Z\", scale='utc')\n",
    "test1 = await client.select_time_series('lsst.sal.ESS.accelerometerPSD', \\\n",
    "                                            ['*'],  start, end, index=202)\n"
   ]
  },
  {
   "cell_type": "code",
   "execution_count": null,
   "metadata": {
    "execution": {
     "iopub.execute_input": "2023-03-17T23:09:45.509941Z",
     "iopub.status.busy": "2023-03-17T23:09:45.509643Z",
     "iopub.status.idle": "2023-03-17T23:09:45.512912Z",
     "shell.execute_reply": "2023-03-17T23:09:45.512457Z",
     "shell.execute_reply.started": "2023-03-17T23:09:45.509925Z"
    },
    "tags": []
   },
   "outputs": [],
   "source": [
    "len(test1)"
   ]
  },
  {
   "cell_type": "code",
   "execution_count": null,
   "metadata": {
    "execution": {
     "iopub.execute_input": "2023-03-17T23:11:06.637031Z",
     "iopub.status.busy": "2023-03-17T23:11:06.636664Z",
     "iopub.status.idle": "2023-03-17T23:11:06.640314Z",
     "shell.execute_reply": "2023-03-17T23:11:06.639932Z",
     "shell.execute_reply.started": "2023-03-17T23:11:06.637013Z"
    },
    "tags": []
   },
   "outputs": [],
   "source": [
    "len(test1.columns)"
   ]
  },
  {
   "cell_type": "code",
   "execution_count": null,
   "metadata": {
    "execution": {
     "iopub.execute_input": "2023-03-17T23:10:11.689590Z",
     "iopub.status.busy": "2023-03-17T23:10:11.689207Z",
     "iopub.status.idle": "2023-03-17T23:10:11.695280Z",
     "shell.execute_reply": "2023-03-17T23:10:11.694781Z",
     "shell.execute_reply.started": "2023-03-17T23:10:11.689573Z"
    }
   },
   "outputs": [],
   "source": [
    "test1['salIndex']"
   ]
  },
  {
   "cell_type": "code",
   "execution_count": null,
   "metadata": {
    "execution": {
     "iopub.execute_input": "2023-03-17T23:10:16.857662Z",
     "iopub.status.busy": "2023-03-17T23:10:16.857296Z",
     "iopub.status.idle": "2023-03-17T23:10:18.153199Z",
     "shell.execute_reply": "2023-03-17T23:10:18.152504Z",
     "shell.execute_reply.started": "2023-03-17T23:10:16.857644Z"
    },
    "tags": []
   },
   "outputs": [],
   "source": [
    "start = Time(\"2023-03-17 20:00:00Z\", scale='utc')\n",
    "end = Time(\"2023-03-17 20:05:00Z\", scale='utc')\n",
    "test2 = await client.select_time_series('lsst.sal.ESS.accelerometerPSD', \\\n",
    "                                            ['*'],  start, end, index=104)\n"
   ]
  },
  {
   "cell_type": "code",
   "execution_count": null,
   "metadata": {
    "execution": {
     "iopub.execute_input": "2023-03-17T23:10:19.196130Z",
     "iopub.status.busy": "2023-03-17T23:10:19.195771Z",
     "iopub.status.idle": "2023-03-17T23:10:19.199666Z",
     "shell.execute_reply": "2023-03-17T23:10:19.199172Z",
     "shell.execute_reply.started": "2023-03-17T23:10:19.196113Z"
    },
    "tags": []
   },
   "outputs": [],
   "source": [
    "len(test2)"
   ]
  },
  {
   "cell_type": "code",
   "execution_count": null,
   "metadata": {
    "execution": {
     "iopub.execute_input": "2023-03-17T23:10:54.835570Z",
     "iopub.status.busy": "2023-03-17T23:10:54.835200Z",
     "iopub.status.idle": "2023-03-17T23:10:54.838892Z",
     "shell.execute_reply": "2023-03-17T23:10:54.838531Z",
     "shell.execute_reply.started": "2023-03-17T23:10:54.835553Z"
    },
    "tags": []
   },
   "outputs": [],
   "source": [
    "len(test2.columns)"
   ]
  },
  {
   "cell_type": "code",
   "execution_count": null,
   "metadata": {
    "execution": {
     "iopub.execute_input": "2023-03-17T23:10:46.367866Z",
     "iopub.status.busy": "2023-03-17T23:10:46.367503Z",
     "iopub.status.idle": "2023-03-17T23:10:46.372481Z",
     "shell.execute_reply": "2023-03-17T23:10:46.372012Z",
     "shell.execute_reply.started": "2023-03-17T23:10:46.367848Z"
    }
   },
   "outputs": [],
   "source": [
    "test2['salIndex']"
   ]
  },
  {
   "cell_type": "code",
   "execution_count": null,
   "metadata": {},
   "outputs": [],
   "source": []
  }
 ],
 "metadata": {
  "kernelspec": {
   "display_name": "LSST",
   "language": "python",
   "name": "lsst"
  },
  "language_info": {
   "codemirror_mode": {
    "name": "ipython",
    "version": 3
   },
   "file_extension": ".py",
   "mimetype": "text/x-python",
   "name": "python",
   "nbconvert_exporter": "python",
   "pygments_lexer": "ipython3",
   "version": "3.11.4"
  }
 },
 "nbformat": 4,
 "nbformat_minor": 4
}
