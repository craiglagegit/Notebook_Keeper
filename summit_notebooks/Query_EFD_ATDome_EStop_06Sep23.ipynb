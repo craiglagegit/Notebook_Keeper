{
 "cells": [
  {
   "cell_type": "code",
   "execution_count": null,
   "metadata": {
    "execution": {
     "iopub.execute_input": "2023-09-11T10:45:24.080027Z",
     "iopub.status.busy": "2023-09-11T10:45:24.079608Z",
     "iopub.status.idle": "2023-09-11T10:45:24.084993Z",
     "shell.execute_reply": "2023-09-11T10:45:24.084200Z",
     "shell.execute_reply.started": "2023-09-11T10:45:24.079999Z"
    },
    "tags": []
   },
   "outputs": [],
   "source": [
    "import sys, time, os, asyncio, glob, re\n",
    "import numpy as np\n",
    "import pandas as pd\n",
    "import matplotlib.pyplot as plt\n",
    "from astropy.time import Time, TimeDelta\n",
    "from lsst_efd_client import EfdClient"
   ]
  },
  {
   "cell_type": "code",
   "execution_count": null,
   "metadata": {
    "execution": {
     "iopub.execute_input": "2023-09-11T10:33:30.352863Z",
     "iopub.status.busy": "2023-09-11T10:33:30.352444Z",
     "iopub.status.idle": "2023-09-11T10:33:31.615296Z",
     "shell.execute_reply": "2023-09-11T10:33:31.614361Z",
     "shell.execute_reply.started": "2023-09-11T10:33:30.352831Z"
    },
    "tags": []
   },
   "outputs": [],
   "source": [
    "client = EfdClient('summit_efd')"
   ]
  },
  {
   "cell_type": "code",
   "execution_count": null,
   "metadata": {
    "execution": {
     "iopub.execute_input": "2023-09-11T18:50:25.533762Z",
     "iopub.status.busy": "2023-09-11T18:50:25.533423Z",
     "iopub.status.idle": "2023-09-11T18:51:24.571812Z",
     "shell.execute_reply": "2023-09-11T18:51:24.571358Z",
     "shell.execute_reply.started": "2023-09-11T18:50:25.533736Z"
    },
    "tags": []
   },
   "outputs": [],
   "source": [
    "start = Time(\"2023-01-01 00:00:00Z\", scale='utc')\n",
    "end = start + TimeDelta(86400, format='sec')\n",
    "finish = Time(\"2023-09-11 00:00:00Z\", scale='utc')\n",
    "\n",
    "dates = []\n",
    "num_estops = []\n",
    "months = []\n",
    "month_labels = []\n",
    "while start.unix_tai < finish.unix_tai:\n",
    "    eStop = await client.select_time_series('lsst.sal.ATDome.logevent_emergencyStop', ['*'], start, end)\n",
    "    gis = await client.select_time_series('lsst.sal.GIS.logevent_heartbeat', ['heartbeat'], start, end)\n",
    "    print(start.isot, len(eStop), len(gis))\n",
    "    dates.append(start.isot)\n",
    "    if int(re.split('-|T|:',start.isot)[2]) == 1:\n",
    "        months.append(start.isot)\n",
    "        month_labels.append(Time(start, format='iso', out_subfmt='date').iso)\n",
    "    num_estops.append(len(eStop))\n",
    "    start = start + TimeDelta(86400, format='sec')\n",
    "    end = start + TimeDelta(86400, format='sec')\n",
    "\n",
    "fig, axs = plt.subplots(2,1, figsize=(10,10))\n",
    "plt.subplots_adjust(hspace=0.5)\n",
    "plt.suptitle(\"AuxTel EStop events - 2023\", fontsize=24)\n",
    "axs[0].plot(dates, num_estops)\n",
    "axs[0].set_xticks(months)\n",
    "axs[0].set_xticklabels(month_labels, rotation=45)\n",
    "axs[0].set_ylabel(\"Number of Estop events/day\")\n",
    "\n",
    "axs[1].plot(dates, num_estops)\n",
    "axs[1].set_xlim(months[-2], finish.isot)\n",
    "axs[1].set_xticks(months[7:9])\n",
    "axs[1].set_xticklabels(month_labels[7:9], rotation=45)\n",
    "axs[1].set_ylabel(\"Number of Estop events/day\")\n",
    "plt.savefig(f\"/home/craiglagegit/DATA/EStop_Issue_History_11Sep23.png\")"
   ]
  },
  {
   "cell_type": "code",
   "execution_count": null,
   "metadata": {},
   "outputs": [],
   "source": []
  }
 ],
 "metadata": {
  "kernelspec": {
   "display_name": "LSST",
   "language": "python",
   "name": "lsst"
  },
  "language_info": {
   "codemirror_mode": {
    "name": "ipython",
    "version": 3
   },
   "file_extension": ".py",
   "mimetype": "text/x-python",
   "name": "python",
   "nbconvert_exporter": "python",
   "pygments_lexer": "ipython3",
   "version": "3.11.4"
  }
 },
 "nbformat": 4,
 "nbformat_minor": 4
}
