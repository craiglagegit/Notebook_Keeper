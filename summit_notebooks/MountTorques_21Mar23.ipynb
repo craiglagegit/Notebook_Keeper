{
 "cells": [
  {
   "cell_type": "markdown",
   "id": "e8cc3a14-f377-44f4-ab4c-97c9c3047697",
   "metadata": {},
   "source": [
    "# Using the RubinTV Mount Plotting to quantify mount errors\n",
    "\n",
    "Craig Lage - 06-Oct-22"
   ]
  },
  {
   "cell_type": "code",
   "execution_count": null,
   "id": "a148b369-8943-4861-a51e-9cbeea70feb3",
   "metadata": {
    "execution": {
     "iopub.execute_input": "2023-04-04T13:55:54.641970Z",
     "iopub.status.busy": "2023-04-04T13:55:54.641581Z",
     "iopub.status.idle": "2023-04-04T13:55:57.305317Z",
     "shell.execute_reply": "2023-04-04T13:55:57.304733Z",
     "shell.execute_reply.started": "2023-04-04T13:55:54.641952Z"
    },
    "tags": []
   },
   "outputs": [],
   "source": [
    "import nest_asyncio\n",
    "nest_asyncio.apply()\n",
    "import sys, time, os, asyncio\n",
    "from datetime import datetime\n",
    "import numpy as np\n",
    "import pickle as pkl\n",
    "import matplotlib.pyplot as plt\n",
    "from lsst.rubintv.production import mountTorques\n",
    "\n",
    "from lsst_efd_client import EfdClient\n",
    "from lsst.daf.butler import Butler\n",
    "from lsst.ts.observing.utilities.decorated_logger import DecoratedLogger"
   ]
  },
  {
   "cell_type": "code",
   "execution_count": null,
   "id": "db1b3867-c6db-43d3-8248-ecfcd41d3fbc",
   "metadata": {
    "execution": {
     "iopub.execute_input": "2023-04-04T13:55:57.307182Z",
     "iopub.status.busy": "2023-04-04T13:55:57.306474Z",
     "iopub.status.idle": "2023-04-04T13:55:59.289707Z",
     "shell.execute_reply": "2023-04-04T13:55:59.289078Z",
     "shell.execute_reply.started": "2023-04-04T13:55:57.307164Z"
    },
    "tags": []
   },
   "outputs": [],
   "source": [
    "client = EfdClient('summit_efd')\n",
    "butler = Butler('/repo/LATISS', collections=[\"LATISS/raw/all\", \"LATISS/calib\"])\n",
    "logger = DecoratedLogger.get_decorated_logger()"
   ]
  },
  {
   "cell_type": "code",
   "execution_count": null,
   "id": "cdbdc212-2b15-477b-a019-1228c2e0bab8",
   "metadata": {
    "execution": {
     "iopub.execute_input": "2023-04-04T15:32:43.017020Z",
     "iopub.status.busy": "2023-04-04T15:32:43.016655Z",
     "iopub.status.idle": "2023-04-04T15:34:32.920663Z",
     "shell.execute_reply": "2023-04-04T15:34:32.919931Z",
     "shell.execute_reply.started": "2023-04-04T15:32:43.017001Z"
    },
    "jupyter": {
     "outputs_hidden": true
    },
    "tags": []
   },
   "outputs": [],
   "source": [
    "figure = plt.figure(figsize=(16,22))\n",
    "saveFilename = None\n",
    "dayObss = [20230404]\n",
    "errs = []\n",
    "for dayObs in dayObss:\n",
    "    exposureList = []\n",
    "    for record in butler.registry.queryDimensionRecords(\"exposure\", where=\"exposure.day_obs=%d\"%dayObs):\n",
    "        #print(record.id, record.observation_type)\n",
    "        if record.observation_type in ['dark']:\n",
    "            try:\n",
    "                exposureList.append([record.id, 90.0-record.zenith_angle, record.azimuth])\n",
    "            except:\n",
    "                continue\n",
    "    print(\"ExpId              Elevation       Azimuth         Mount Error\")\n",
    "    for [expId,alt,az] in exposureList:\n",
    "        dataId = {'detector':0, 'exposure':expId}\n",
    "        saveFileName = f\"/home/craiglagegit/DATA/stiction_04apr23/Mount_Graph_{expId}.pdf\"\n",
    "        err = mountTorques.calculateMountErrors(dataId, butler, client, figure, saveFileName, logger)\n",
    "        print(f\"{expId}       {alt:.2f}          {az:.2f}              {err['image_az_rms']:.3f}\")\n"
   ]
  },
  {
   "cell_type": "code",
   "execution_count": null,
   "id": "e6adebfb-5a29-4f8a-9336-bc9c19bef499",
   "metadata": {},
   "outputs": [],
   "source": []
  }
 ],
 "metadata": {
  "kernelspec": {
   "display_name": "LSST",
   "language": "python",
   "name": "lsst"
  },
  "language_info": {
   "codemirror_mode": {
    "name": "ipython",
    "version": 3
   },
   "file_extension": ".py",
   "mimetype": "text/x-python",
   "name": "python",
   "nbconvert_exporter": "python",
   "pygments_lexer": "ipython3",
   "version": "3.10.9"
  },
  "toc-autonumbering": false,
  "toc-showcode": false,
  "toc-showmarkdowntxt": true
 },
 "nbformat": 4,
 "nbformat_minor": 5
}
