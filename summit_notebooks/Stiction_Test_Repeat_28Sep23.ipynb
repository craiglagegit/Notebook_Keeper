{
 "cells": [
  {
   "cell_type": "markdown",
   "id": "3dbf3c0c",
   "metadata": {},
   "source": [
    "# Azimuth oscillations \n",
    "\n",
    "Repeating the azimuth oscillations in preparation for trying the \\\n",
    "\"go past and come back\" idea.\n",
    "Craig Lage - 22Sep23"
   ]
  },
  {
   "cell_type": "code",
   "execution_count": null,
   "id": "b9b61b70",
   "metadata": {
    "execution": {
     "iopub.execute_input": "2023-09-28T12:57:47.670648Z",
     "iopub.status.busy": "2023-09-28T12:57:47.670288Z",
     "iopub.status.idle": "2023-09-28T12:57:54.541844Z",
     "shell.execute_reply": "2023-09-28T12:57:54.541165Z",
     "shell.execute_reply.started": "2023-09-28T12:57:47.670618Z"
    },
    "tags": []
   },
   "outputs": [],
   "source": [
    "import asyncio\n",
    "import time\n",
    "import os\n",
    "import numpy as np\n",
    "import matplotlib.pyplot as plt\n",
    "import pandas as pd\n",
    "from astropy.time import Time\n",
    "\n",
    "from lsst.ts import salobj\n",
    "\n",
    "from lsst.ts.observatory.control.auxtel.atcs import ATCS\n",
    "from lsst.ts.observatory.control.auxtel.latiss import LATISS\n",
    "from lsst.ts.observatory.control.utils import RotType\n",
    "\n",
    "from lsst_efd_client import EfdClient"
   ]
  },
  {
   "cell_type": "code",
   "execution_count": null,
   "id": "0755fd07",
   "metadata": {
    "execution": {
     "iopub.execute_input": "2023-09-28T12:57:54.548235Z",
     "iopub.status.busy": "2023-09-28T12:57:54.548094Z",
     "iopub.status.idle": "2023-09-28T12:57:54.551459Z",
     "shell.execute_reply": "2023-09-28T12:57:54.550899Z",
     "shell.execute_reply.started": "2023-09-28T12:57:54.548221Z"
    },
    "tags": []
   },
   "outputs": [],
   "source": [
    "logger = logging.getLogger(f\"Daytime Checkout {Time.now()} UT\")\n",
    "logger.level = logging.DEBUG"
   ]
  },
  {
   "cell_type": "code",
   "execution_count": null,
   "id": "e80647f9",
   "metadata": {
    "execution": {
     "iopub.execute_input": "2023-09-28T12:57:54.552511Z",
     "iopub.status.busy": "2023-09-28T12:57:54.552367Z",
     "iopub.status.idle": "2023-09-28T12:57:54.557998Z",
     "shell.execute_reply": "2023-09-28T12:57:54.557486Z",
     "shell.execute_reply.started": "2023-09-28T12:57:54.552497Z"
    },
    "tags": []
   },
   "outputs": [],
   "source": [
    "logger.info(os.environ[\"OSPL_URI\"])\n",
    "logger.info(os.environ[\"LSST_DDS_PARTITION_PREFIX\"])"
   ]
  },
  {
   "cell_type": "markdown",
   "id": "a9cd22ea",
   "metadata": {},
   "source": [
    "### Instantiate the control classes"
   ]
  },
  {
   "cell_type": "code",
   "execution_count": null,
   "id": "f651e5d9",
   "metadata": {
    "execution": {
     "iopub.execute_input": "2023-09-28T12:57:57.054959Z",
     "iopub.status.busy": "2023-09-28T12:57:57.054627Z",
     "iopub.status.idle": "2023-09-28T12:57:59.485205Z",
     "shell.execute_reply": "2023-09-28T12:57:59.484275Z",
     "shell.execute_reply.started": "2023-09-28T12:57:57.054935Z"
    },
    "jupyter": {
     "outputs_hidden": true
    },
    "tags": []
   },
   "outputs": [],
   "source": [
    "domain = salobj.Domain()\n",
    "atcs = ATCS(domain)\n",
    "latiss = LATISS(domain)\n",
    "await asyncio.gather(atcs.start_task, latiss.start_task)\n",
    "await atcs.assert_liveliness()"
   ]
  },
  {
   "cell_type": "markdown",
   "id": "014ff42a-1d20-4a15-a145-3a59306459e2",
   "metadata": {
    "tags": []
   },
   "source": [
    "If ATCamera and/or ATOODS don't come up, see section `Quick Troubleshooting` for support commands. "
   ]
  },
  {
   "cell_type": "markdown",
   "id": "a85209e7",
   "metadata": {
    "tags": []
   },
   "source": [
    "### Bias verification"
   ]
  },
  {
   "cell_type": "code",
   "execution_count": null,
   "id": "7761429f",
   "metadata": {
    "execution": {
     "iopub.execute_input": "2023-09-28T12:58:35.712993Z",
     "iopub.status.busy": "2023-09-28T12:58:35.712603Z",
     "iopub.status.idle": "2023-09-28T12:58:58.217062Z",
     "shell.execute_reply": "2023-09-28T12:58:58.216313Z",
     "shell.execute_reply.started": "2023-09-28T12:58:35.712960Z"
    },
    "tags": []
   },
   "outputs": [],
   "source": [
    "for i in range(5):\n",
    "    await latiss.take_bias(nbias=1)\n",
    "    await asyncio.sleep(2.0)"
   ]
  },
  {
   "cell_type": "code",
   "execution_count": null,
   "id": "eb8e7dab-9da0-42a9-995c-34977879aa1a",
   "metadata": {
    "execution": {
     "iopub.execute_input": "2023-09-28T12:59:34.956998Z",
     "iopub.status.busy": "2023-09-28T12:59:34.956614Z",
     "iopub.status.idle": "2023-09-28T12:59:34.962595Z",
     "shell.execute_reply": "2023-09-28T12:59:34.961790Z",
     "shell.execute_reply.started": "2023-09-28T12:59:34.956970Z"
    },
    "tags": []
   },
   "outputs": [],
   "source": [
    "await atcs.disable_dome_following()"
   ]
  },
  {
   "cell_type": "markdown",
   "id": "3fc32bc5-5f36-4e5a-bcfd-27c3a9eeec21",
   "metadata": {
    "tags": []
   },
   "source": [
    "### Now run the actual test, taking a 30 second image at each location."
   ]
  },
  {
   "cell_type": "code",
   "execution_count": null,
   "id": "449950cc-ce9a-4e4a-8367-fe880a4982b2",
   "metadata": {
    "execution": {
     "iopub.execute_input": "2023-09-28T12:59:39.134283Z",
     "iopub.status.busy": "2023-09-28T12:59:39.133365Z",
     "iopub.status.idle": "2023-09-28T13:01:44.451297Z",
     "shell.execute_reply": "2023-09-28T13:01:44.450309Z",
     "shell.execute_reply.started": "2023-09-28T12:59:39.134242Z"
    },
    "jupyter": {
     "outputs_hidden": true
    },
    "tags": []
   },
   "outputs": [],
   "source": [
    "# Move to starting location\n",
    "coord=atcs.radec_from_azel(az=200, el=45)\n",
    "await atcs.slew_icrs(coord.ra, coord.dec, rot=0.0, rot_type=RotType.Physical)"
   ]
  },
  {
   "cell_type": "code",
   "execution_count": null,
   "id": "e54405bf-e504-40e5-a923-b4901f0e1ee1",
   "metadata": {
    "execution": {
     "iopub.execute_input": "2023-09-28T13:02:02.128257Z",
     "iopub.status.busy": "2023-09-28T13:02:02.127290Z",
     "iopub.status.idle": "2023-09-28T13:04:44.648754Z",
     "shell.execute_reply": "2023-09-28T13:04:44.647836Z",
     "shell.execute_reply.started": "2023-09-28T13:02:02.128197Z"
    },
    "tags": []
   },
   "outputs": [],
   "source": [
    "# These should have oscillations\n",
    "# 2023092800006-10\n",
    "for i in range(5):\n",
    "    await latiss.take_darks(30.0, 1)\n"
   ]
  },
  {
   "cell_type": "code",
   "execution_count": null,
   "id": "ad9dfcfe-68e6-45b0-adf2-bd9f3f601397",
   "metadata": {
    "execution": {
     "iopub.execute_input": "2023-09-28T13:04:58.782411Z",
     "iopub.status.busy": "2023-09-28T13:04:58.782024Z",
     "iopub.status.idle": "2023-09-28T13:05:19.701798Z",
     "shell.execute_reply": "2023-09-28T13:05:19.700920Z",
     "shell.execute_reply.started": "2023-09-28T13:04:58.782380Z"
    },
    "jupyter": {
     "outputs_hidden": true
    },
    "tags": []
   },
   "outputs": [],
   "source": [
    "# Of course they don't trying again\n",
    "# Move to starting location\n",
    "coord=atcs.radec_from_azel(az=190, el=45)\n",
    "await atcs.slew_icrs(coord.ra, coord.dec, rot=0.0, rot_type=RotType.Physical)"
   ]
  },
  {
   "cell_type": "code",
   "execution_count": null,
   "id": "0392c197-f42c-4057-8b2f-4f6a99ebc86c",
   "metadata": {
    "execution": {
     "iopub.execute_input": "2023-09-28T13:05:25.865620Z",
     "iopub.status.busy": "2023-09-28T13:05:25.865254Z",
     "iopub.status.idle": "2023-09-28T13:08:08.401674Z",
     "shell.execute_reply": "2023-09-28T13:08:08.400765Z",
     "shell.execute_reply.started": "2023-09-28T13:05:25.865590Z"
    },
    "tags": []
   },
   "outputs": [],
   "source": [
    "# These should have oscillations\n",
    "# 20230928000011-15\n",
    "for i in range(5):\n",
    "    await latiss.take_darks(30.0, 1)\n"
   ]
  },
  {
   "cell_type": "code",
   "execution_count": null,
   "id": "07be691b-fd72-4220-9e68-90879933807e",
   "metadata": {
    "execution": {
     "iopub.execute_input": "2023-09-28T13:11:13.513392Z",
     "iopub.status.busy": "2023-09-28T13:11:13.512456Z",
     "iopub.status.idle": "2023-09-28T13:13:53.303034Z",
     "shell.execute_reply": "2023-09-28T13:13:53.302170Z",
     "shell.execute_reply.started": "2023-09-28T13:11:13.513360Z"
    },
    "jupyter": {
     "outputs_hidden": true
    },
    "tags": []
   },
   "outputs": [],
   "source": [
    "# Still none.  running standard test\n",
    "# Move to starting location\n",
    "coord=atcs.radec_from_azel(az=270, el=45)\n",
    "await atcs.slew_icrs(coord.ra, coord.dec, rot=0.0, rot_type=RotType.Physical)"
   ]
  },
  {
   "cell_type": "code",
   "execution_count": null,
   "id": "610905b0-0d5f-4ccc-a59e-61a3c0fc5d1f",
   "metadata": {
    "execution": {
     "iopub.execute_input": "2023-09-28T13:15:34.956906Z",
     "iopub.status.busy": "2023-09-28T13:15:34.956544Z",
     "iopub.status.idle": "2023-09-28T13:16:07.484406Z",
     "shell.execute_reply": "2023-09-28T13:16:07.483428Z",
     "shell.execute_reply.started": "2023-09-28T13:15:34.956876Z"
    },
    "tags": []
   },
   "outputs": [],
   "source": [
    "# Major oscillations - SeqNo 16\n",
    "az = 270.0\n",
    "await latiss.take_darks(30.0, 1)"
   ]
  },
  {
   "cell_type": "code",
   "execution_count": null,
   "id": "52fe0288-ddad-4728-bf1d-425c31d4fccd",
   "metadata": {
    "execution": {
     "iopub.execute_input": "2023-09-28T13:17:30.864049Z",
     "iopub.status.busy": "2023-09-28T13:17:30.863683Z",
     "iopub.status.idle": "2023-09-28T13:20:13.403814Z",
     "shell.execute_reply": "2023-09-28T13:20:13.402843Z",
     "shell.execute_reply.started": "2023-09-28T13:17:30.864019Z"
    },
    "tags": []
   },
   "outputs": [],
   "source": [
    "# These should have oscillations\n",
    "# 20230928000017-21\n",
    "for i in range(5):\n",
    "    await latiss.take_darks(30.0, 1)\n"
   ]
  },
  {
   "cell_type": "code",
   "execution_count": null,
   "id": "eeab619e-4922-4b02-9f44-8546a622bca2",
   "metadata": {
    "execution": {
     "iopub.execute_input": "2023-09-28T13:20:36.505864Z",
     "iopub.status.busy": "2023-09-28T13:20:36.505558Z",
     "iopub.status.idle": "2023-09-28T13:26:30.035453Z",
     "shell.execute_reply": "2023-09-28T13:26:30.034407Z",
     "shell.execute_reply.started": "2023-09-28T13:20:36.505837Z"
    },
    "jupyter": {
     "outputs_hidden": true
    },
    "tags": []
   },
   "outputs": [],
   "source": [
    "# What if I take multiple images after the go and come back?\n",
    "# Images 2023092800022-31\n",
    "deltaAz = 2.0\n",
    "wait_time = 0.0\n",
    "coord=atcs.radec_from_azel(az=az-deltaAz, el=45)\n",
    "await atcs.slew_icrs(coord.ra, coord.dec, rot=0.0, rot_type=RotType.Physical)\n",
    "await asyncio.sleep(wait_time)\n",
    "coord=atcs.radec_from_azel(az=az, el=45)\n",
    "await atcs.slew_icrs(coord.ra, coord.dec, rot=0.0, rot_type=RotType.Physical)\n",
    "for i in range(10):\n",
    "    await latiss.take_darks(30.0, 1)\n"
   ]
  },
  {
   "cell_type": "code",
   "execution_count": null,
   "id": "39f6285c-46e6-4fab-afb2-6a5f4e9eac61",
   "metadata": {
    "execution": {
     "iopub.execute_input": "2023-09-28T13:27:54.959702Z",
     "iopub.status.busy": "2023-09-28T13:27:54.959330Z",
     "iopub.status.idle": "2023-09-28T13:33:20.029194Z",
     "shell.execute_reply": "2023-09-28T13:33:20.028206Z",
     "shell.execute_reply.started": "2023-09-28T13:27:54.959672Z"
    },
    "tags": []
   },
   "outputs": [],
   "source": [
    "#Taking 10 more 32-41\n",
    "for i in range(10):\n",
    "    await latiss.take_darks(30.0, 1)\n"
   ]
  },
  {
   "cell_type": "code",
   "execution_count": null,
   "id": "3ea5225b",
   "metadata": {
    "execution": {
     "iopub.execute_input": "2023-09-28T13:38:51.641787Z",
     "iopub.status.busy": "2023-09-28T13:38:51.641396Z",
     "iopub.status.idle": "2023-09-28T13:38:51.905084Z",
     "shell.execute_reply": "2023-09-28T13:38:51.904170Z",
     "shell.execute_reply.started": "2023-09-28T13:38:51.641755Z"
    },
    "tags": []
   },
   "outputs": [],
   "source": [
    "# Stop tracking\n",
    "await atcs.stop_tracking()"
   ]
  },
  {
   "cell_type": "code",
   "execution_count": null,
   "id": "58009d48-693f-452a-b497-ccc6008c1975",
   "metadata": {},
   "outputs": [],
   "source": []
  }
 ],
 "metadata": {
  "kernelspec": {
   "display_name": "LSST",
   "language": "python",
   "name": "lsst"
  },
  "language_info": {
   "codemirror_mode": {
    "name": "ipython",
    "version": 3
   },
   "file_extension": ".py",
   "mimetype": "text/x-python",
   "name": "python",
   "nbconvert_exporter": "python",
   "pygments_lexer": "ipython3",
   "version": "3.11.4"
  }
 },
 "nbformat": 4,
 "nbformat_minor": 5
}
