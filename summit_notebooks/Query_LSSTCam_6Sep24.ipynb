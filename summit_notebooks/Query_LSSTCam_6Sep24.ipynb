{
 "cells": [
  {
   "cell_type": "markdown",
   "metadata": {},
   "source": [
    "## Queries - LSSTCam\n",
    "\n",
    "In this notebook, we show how to query the LSSTCam repository\\\n",
    "and view the resulting images.\\\n",
    "Craig Lage - 13-Jul-24"
   ]
  },
  {
   "cell_type": "code",
   "execution_count": null,
   "metadata": {
    "execution": {
     "iopub.execute_input": "2024-10-10T11:59:40.270417Z",
     "iopub.status.busy": "2024-10-10T11:59:40.270047Z",
     "iopub.status.idle": "2024-10-10T11:59:40.273827Z",
     "shell.execute_reply": "2024-10-10T11:59:40.273360Z",
     "shell.execute_reply.started": "2024-10-10T11:59:40.270396Z"
    },
    "tags": []
   },
   "outputs": [],
   "source": [
    "import numpy as np\n",
    "import matplotlib.pyplot as plt\n",
    "import astropy.io.fits as pf\n",
    "from lsst.daf.butler import Butler\n",
    "from lsst.ip.isr import IsrTask, IsrTaskConfig\n",
    "from lsst.summit.utils.plotting import plot\n",
    "import lsst.afw.cameraGeom.utils as camGeomUtils\n",
    "from lsst.resources import ResourcePath"
   ]
  },
  {
   "cell_type": "code",
   "execution_count": null,
   "metadata": {
    "execution": {
     "iopub.execute_input": "2024-10-10T11:59:41.067998Z",
     "iopub.status.busy": "2024-10-10T11:59:41.067711Z",
     "iopub.status.idle": "2024-10-10T11:59:41.226967Z",
     "shell.execute_reply": "2024-10-10T11:59:41.226495Z",
     "shell.execute_reply.started": "2024-10-10T11:59:41.067979Z"
    },
    "tags": []
   },
   "outputs": [],
   "source": [
    "butler = Butler('LSSTCam',instrument='LSSTCam',collections='LSSTCam/raw/all')"
   ]
  },
  {
   "cell_type": "markdown",
   "metadata": {},
   "source": [
    "## First, get a list of exposures\n",
    "### These should match what you see in RubinTV."
   ]
  },
  {
   "cell_type": "code",
   "execution_count": null,
   "metadata": {
    "execution": {
     "iopub.execute_input": "2024-10-10T11:59:42.533816Z",
     "iopub.status.busy": "2024-10-10T11:59:42.533493Z",
     "iopub.status.idle": "2024-10-10T11:59:42.574019Z",
     "shell.execute_reply": "2024-10-10T11:59:42.573557Z",
     "shell.execute_reply.started": "2024-10-10T11:59:42.533799Z"
    },
    "jupyter": {
     "outputs_hidden": true
    },
    "tags": []
   },
   "outputs": [],
   "source": [
    "dayObs = 20241009\n",
    "instrument = \"LSSTCam\"\n",
    "\n",
    "exposureList = []\n",
    "for record in butler.registry.queryDimensionRecords(\"exposure\", \n",
    "                    where=f\"exposure.day_obs={dayObs} and instrument='LSSTCam'\"):\n",
    "    exposureList.append([record.id, record])\n",
    "exposureList.sort(key=lambda x: x[0])\n",
    "for [id,record] in exposureList:\n",
    "    print(record.id, record.observation_type, record.exposure_time, record.physical_filter)\n"
   ]
  },
  {
   "cell_type": "markdown",
   "metadata": {
    "execution": {
     "iopub.execute_input": "2024-07-10T18:00:56.931372Z",
     "iopub.status.busy": "2024-07-10T18:00:56.930578Z",
     "iopub.status.idle": "2024-07-10T18:00:56.935059Z",
     "shell.execute_reply": "2024-07-10T18:00:56.934337Z",
     "shell.execute_reply.started": "2024-07-10T18:00:56.931336Z"
    }
   },
   "source": [
    "# Get the data from the headers"
   ]
  },
  {
   "cell_type": "code",
   "execution_count": null,
   "metadata": {
    "execution": {
     "iopub.execute_input": "2024-09-06T20:14:24.172244Z",
     "iopub.status.busy": "2024-09-06T20:14:24.171938Z",
     "iopub.status.idle": "2024-09-06T20:14:24.444070Z",
     "shell.execute_reply": "2024-09-06T20:14:24.443627Z",
     "shell.execute_reply.started": "2024-09-06T20:14:24.172228Z"
    },
    "jupyter": {
     "outputs_hidden": true
    }
   },
   "outputs": [],
   "source": [
    "expId = 2024090400079\n",
    "mData = butler.get('raw.metadata', detector=4, exposure=expId, instrument=instrument)\n",
    "for key in mData.keys():\n",
    "    print(key, mData[key])"
   ]
  },
  {
   "cell_type": "code",
   "execution_count": null,
   "metadata": {
    "execution": {
     "iopub.execute_input": "2024-10-10T12:09:49.474680Z",
     "iopub.status.busy": "2024-10-10T12:09:49.474269Z",
     "iopub.status.idle": "2024-10-10T12:09:50.823220Z",
     "shell.execute_reply": "2024-10-10T12:09:50.822688Z",
     "shell.execute_reply.started": "2024-10-10T12:09:49.474654Z"
    }
   },
   "outputs": [],
   "source": [
    "expId = 2024100900377\n",
    "n = 0\n",
    "for detector in range(189):\n",
    "    try:\n",
    "        mData = butler.get('raw.metadata', detector=detector, exposure=expId, instrument=instrument)\n",
    "        print(detector, mData['SEQNUM'])\n",
    "        n += 1\n",
    "    except:\n",
    "        print(f\"Detector {detector} not found\")\n",
    "print(f\"{n} raws found\")"
   ]
  },
  {
   "cell_type": "markdown",
   "metadata": {},
   "source": [
    "# Now get the raw data"
   ]
  },
  {
   "cell_type": "markdown",
   "metadata": {},
   "source": [
    "## Next, look at the raw data from one of the exposures.\n",
    "### Because of the large pedestal, we don't see much.  We need to do ISR"
   ]
  },
  {
   "cell_type": "code",
   "execution_count": null,
   "metadata": {
    "execution": {
     "iopub.execute_input": "2024-09-06T20:15:29.220681Z",
     "iopub.status.busy": "2024-09-06T20:15:29.220351Z",
     "iopub.status.idle": "2024-09-06T20:15:31.164831Z",
     "shell.execute_reply": "2024-09-06T20:15:31.164449Z",
     "shell.execute_reply.started": "2024-09-06T20:15:29.220666Z"
    },
    "tags": []
   },
   "outputs": [],
   "source": [
    "expId = 2024090400079\n",
    "raw = butler.get('raw', detector=4, exposure=expId, instrument=instrument)\n"
   ]
  },
  {
   "cell_type": "markdown",
   "metadata": {},
   "source": [
    "## Some people have expressed the desire to download the FITS files.  This cell will do that.  "
   ]
  },
  {
   "cell_type": "code",
   "execution_count": null,
   "metadata": {
    "execution": {
     "iopub.execute_input": "2024-09-06T20:19:38.375436Z",
     "iopub.status.busy": "2024-09-06T20:19:38.375148Z",
     "iopub.status.idle": "2024-09-06T20:19:38.465453Z",
     "shell.execute_reply": "2024-09-06T20:19:38.465093Z",
     "shell.execute_reply.started": "2024-09-06T20:19:38.375420Z"
    }
   },
   "outputs": [],
   "source": [
    "filename = \"/home/t/ttyson/notebooks/2024090400079_100_raw.fits\"\n",
    "raw.image.writeFits(filename)"
   ]
  },
  {
   "cell_type": "code",
   "execution_count": null,
   "metadata": {
    "execution": {
     "iopub.execute_input": "2024-09-06T20:20:15.656231Z",
     "iopub.status.busy": "2024-09-06T20:20:15.655941Z",
     "iopub.status.idle": "2024-09-06T20:20:17.624377Z",
     "shell.execute_reply": "2024-09-06T20:20:17.623934Z",
     "shell.execute_reply.started": "2024-09-06T20:20:15.656216Z"
    }
   },
   "outputs": [],
   "source": [
    "%matplotlib inline        \n",
    "x = plot(raw, stretch='ccs')"
   ]
  },
  {
   "cell_type": "markdown",
   "metadata": {},
   "source": [
    "## Define a simple ISR\n",
    "### Just overscan subtraction and bias subtraction."
   ]
  },
  {
   "cell_type": "code",
   "execution_count": null,
   "metadata": {
    "execution": {
     "iopub.execute_input": "2024-09-06T20:20:42.620200Z",
     "iopub.status.busy": "2024-09-06T20:20:42.619851Z",
     "iopub.status.idle": "2024-09-06T20:20:42.645851Z",
     "shell.execute_reply": "2024-09-06T20:20:42.645481Z",
     "shell.execute_reply.started": "2024-09-06T20:20:42.620185Z"
    },
    "tags": []
   },
   "outputs": [],
   "source": [
    "isrConfig = IsrTaskConfig()\n",
    "isrConfig.doLinearize=False\n",
    "isrConfig.doOverscan=True\n",
    "isrConfig.overscan.fitType=\"MEDIAN_PER_ROW\"\n",
    "isrConfig.overscan.doParallelOverscan=True\n",
    "isrConfig.doAssembleCcd=True\n",
    "isrConfig.doBias=True\n",
    "isrConfig.doVariance=False\n",
    "isrConfig.doCrosstalk=False\n",
    "isrConfig.doBrighterFatter=False\n",
    "isrConfig.doDark=False\n",
    "isrConfig.doStrayLight=False\n",
    "isrConfig.doFlat=False\n",
    "isrConfig.doFringe=False\n",
    "isrConfig.doApplyGains=True\n",
    "isrConfig.doDefect=False\n",
    "isrConfig.doNanMasking=True\n",
    "isrConfig.doInterpolate=False\n",
    "isrConfig.doSaturation=False\n",
    "isrConfig.doSaturationInterpolation=False\n",
    "isrTask = IsrTask(config=isrConfig)"
   ]
  },
  {
   "cell_type": "markdown",
   "metadata": {},
   "source": [
    "## Run the ISR and look at the result"
   ]
  },
  {
   "cell_type": "code",
   "execution_count": null,
   "metadata": {
    "execution": {
     "iopub.execute_input": "2024-09-06T20:24:02.717806Z",
     "iopub.status.busy": "2024-09-06T20:24:02.717299Z",
     "iopub.status.idle": "2024-09-06T20:24:03.028825Z",
     "shell.execute_reply": "2024-09-06T20:24:03.028168Z",
     "shell.execute_reply.started": "2024-09-06T20:24:02.717786Z"
    },
    "tags": []
   },
   "outputs": [],
   "source": [
    "expId = 2024090400079\n",
    "exp = butler.get('raw', detector=100, exposure=expId, instrument=instrument)\n",
    "biasExp = butler.get('bias', detector=100, exposure=expId, instrument=instrument) # This is a bias image associated with the data\n",
    "isrResult = isrTask.run(exp, bias=biasExp) # This runs the ISR"
   ]
  },
  {
   "cell_type": "code",
   "execution_count": null,
   "metadata": {
    "execution": {
     "iopub.execute_input": "2024-09-02T20:24:10.422396Z",
     "iopub.status.busy": "2024-09-02T20:24:10.422069Z",
     "iopub.status.idle": "2024-09-02T20:24:14.918415Z",
     "shell.execute_reply": "2024-09-02T20:24:14.918030Z",
     "shell.execute_reply.started": "2024-09-02T20:24:10.422381Z"
    }
   },
   "outputs": [],
   "source": [
    "%matplotlib inline\n",
    "x = plot(isrResult.exposure, stretch='linear')\n",
    "#plt.savefig(f\"/home/c/cslage/u/ComCam/images/ComCam_{expId}.png\")"
   ]
  },
  {
   "cell_type": "markdown",
   "metadata": {
    "execution": {
     "iopub.execute_input": "2024-07-10T18:10:52.234053Z",
     "iopub.status.busy": "2024-07-10T18:10:52.233642Z",
     "iopub.status.idle": "2024-07-10T18:10:52.238254Z",
     "shell.execute_reply": "2024-07-10T18:10:52.237362Z",
     "shell.execute_reply.started": "2024-07-10T18:10:52.234022Z"
    }
   },
   "source": [
    "# Plot a small region"
   ]
  },
  {
   "cell_type": "code",
   "execution_count": null,
   "metadata": {
    "execution": {
     "iopub.execute_input": "2024-08-29T01:00:51.863737Z",
     "iopub.status.busy": "2024-08-29T01:00:51.863492Z",
     "iopub.status.idle": "2024-08-29T01:00:52.108890Z",
     "shell.execute_reply": "2024-08-29T01:00:52.108493Z",
     "shell.execute_reply.started": "2024-08-29T01:00:51.863722Z"
    }
   },
   "outputs": [],
   "source": [
    "x = plot(isrResult.exposure.image.array[800:1200, 2400:2600])"
   ]
  },
  {
   "cell_type": "markdown",
   "metadata": {
    "execution": {
     "iopub.execute_input": "2024-08-23T11:15:50.535189Z",
     "iopub.status.busy": "2024-08-23T11:15:50.534798Z",
     "iopub.status.idle": "2024-08-23T11:15:50.537838Z",
     "shell.execute_reply": "2024-08-23T11:15:50.537222Z",
     "shell.execute_reply.started": "2024-08-23T11:15:50.535166Z"
    }
   },
   "source": [
    "# Get the value of a particular pixel"
   ]
  },
  {
   "cell_type": "code",
   "execution_count": null,
   "metadata": {
    "execution": {
     "iopub.execute_input": "2024-08-29T01:01:43.179656Z",
     "iopub.status.busy": "2024-08-29T01:01:43.179109Z",
     "iopub.status.idle": "2024-08-29T01:01:43.182702Z",
     "shell.execute_reply": "2024-08-29T01:01:43.182327Z",
     "shell.execute_reply.started": "2024-08-29T01:01:43.179629Z"
    }
   },
   "outputs": [],
   "source": [
    "isrResult.exposure.image.array[2100, 2100]"
   ]
  },
  {
   "cell_type": "markdown",
   "metadata": {},
   "source": [
    "# Plot the cross-chip uniformity"
   ]
  },
  {
   "cell_type": "code",
   "execution_count": null,
   "metadata": {
    "execution": {
     "iopub.execute_input": "2024-08-29T01:02:45.943772Z",
     "iopub.status.busy": "2024-08-29T01:02:45.943257Z",
     "iopub.status.idle": "2024-08-29T01:02:46.072256Z",
     "shell.execute_reply": "2024-08-29T01:02:46.071799Z",
     "shell.execute_reply.started": "2024-08-29T01:02:45.943757Z"
    }
   },
   "outputs": [],
   "source": [
    "plt.title(f\"ComCam {expId}, Bias\")\n",
    "plt.plot(isrResult.exposure.image.array[2100, :], label='X cut')\n",
    "plt.plot(isrResult.exposure.image.array[:, 2100], label='Y cut')\n",
    "plt.ylim(0,50000)\n",
    "#plt.ylim(-50, 50)\n",
    "plt.ylabel(\"Flux (electrons)\")\n",
    "plt.xlabel(\"Pixels\")\n",
    "plt.legend()\n",
    "#plt.savefig(f\"/home/c/cslage/u/ComCam/images/ComCam_Slices_{expId}.png\")"
   ]
  },
  {
   "cell_type": "markdown",
   "metadata": {},
   "source": [
    "## Some people have expressed the desire to download the FITS files.  This cell will do that.  "
   ]
  },
  {
   "cell_type": "code",
   "execution_count": null,
   "metadata": {},
   "outputs": [],
   "source": [
    "filename = \"/home/c/cslage/u/ComCam/images/2024080800029_4_isr.fits\"\n",
    "isrResult.exposure.image.writeFits(filename)"
   ]
  },
  {
   "cell_type": "markdown",
   "metadata": {},
   "source": [
    "# Now assemble all 189 CCDs and plot the result"
   ]
  },
  {
   "cell_type": "code",
   "execution_count": null,
   "metadata": {
    "execution": {
     "iopub.execute_input": "2024-08-29T01:04:36.632838Z",
     "iopub.status.busy": "2024-08-29T01:04:36.632574Z",
     "iopub.status.idle": "2024-08-29T01:04:36.637483Z",
     "shell.execute_reply": "2024-08-29T01:04:36.637031Z",
     "shell.execute_reply.started": "2024-08-29T01:04:36.632819Z"
    }
   },
   "outputs": [],
   "source": [
    "def myCallback(im, ccd, imageSource):\n",
    "    \"\"\"Assemble the CCD image and do basic ISR\"\"\"\n",
    "    dayObs = imageSource.kwargs['day_obs']\n",
    "    seqNum = imageSource.kwargs['seq_num']\n",
    "    exp = imageSource.butler.get('raw', detector=ccd.getId(), day_obs=dayObs, seq_num=seqNum)\n",
    "    biasExp = imageSource.butler.get('bias', detector=ccd.getId(), day_obs=dayObs, seq_num=seqNum)\n",
    "    isrResult = isrTask.run(exp, bias=biasExp)\n",
    "    oim = isrResult.exposure.image\n",
    "    return oim"
   ]
  },
  {
   "cell_type": "code",
   "execution_count": null,
   "metadata": {
    "execution": {
     "iopub.execute_input": "2024-08-29T01:05:06.376314Z",
     "iopub.status.busy": "2024-08-29T01:05:06.376064Z",
     "iopub.status.idle": "2024-08-29T01:05:50.080081Z",
     "shell.execute_reply": "2024-08-29T01:05:50.079672Z",
     "shell.execute_reply.started": "2024-08-29T01:05:06.376299Z"
    }
   },
   "outputs": [],
   "source": [
    "%matplotlib inline\n",
    "instrument = \"LSSTCam\"\n",
    "camera = butler.get('camera', instrument=instrument)\n",
    "fig = plt.figure(figsize=(12,12))\n",
    "import lsst.afw.display as afwDisplay\n",
    "disp = afwDisplay.Display(1, \"matplotlib\")\n",
    "#disp.scale('linear', min = 45000, max=65000)\n",
    "disp.scale('linear', min='zscale')\n",
    "dayObs = 20240808\n",
    "seqNum = 29\n",
    "dataType='raw'\n",
    "mos = camGeomUtils.showCamera(camera,\n",
    "                              camGeomUtils.ButlerImage(butler, dataType, \n",
    "                                                       instrument=instrument, raft=\"R22\",\n",
    "                                                       day_obs=dayObs, seq_num=seqNum,\n",
    "                                                       verbose=False, callback=myCallback,\n",
    "                                                       background=np.nan),\n",
    "                              binSize=16, display=disp, overlay=False,\n",
    "                              title=\"%d %d\" % (dayObs, seqNum))\n",
    "\n",
    "#plt.savefig(f\"/home/c/cslage/u/ComCam/images/ComCam_Stuttered_{dayObs}_{seqNum}.png\")"
   ]
  },
  {
   "cell_type": "markdown",
   "metadata": {},
   "source": [
    "# Plot the cross-detector uniformity"
   ]
  },
  {
   "cell_type": "code",
   "execution_count": null,
   "metadata": {
    "execution": {
     "iopub.execute_input": "2024-08-29T01:06:31.510125Z",
     "iopub.status.busy": "2024-08-29T01:06:31.509872Z",
     "iopub.status.idle": "2024-08-29T01:06:31.652422Z",
     "shell.execute_reply": "2024-08-29T01:06:31.652034Z",
     "shell.execute_reply.started": "2024-08-29T01:06:31.510109Z"
    }
   },
   "outputs": [],
   "source": [
    "%matplotlib inline\n",
    "plt.title(f\"ComCam {dayObs}_{seqNum}\")\n",
    "plt.plot(mos.array[6000, :], label=\"X slice\")\n",
    "plt.plot(mos.array[:, 6000], label=\"Y slice\")\n",
    "plt.ylim(0, 60000)\n",
    "#plt.ylim(-50, 50)\n",
    "plt.ylabel(\"Flux (electrons)\")\n",
    "plt.xlabel(\"Pixels\")\n",
    "plt.legend()\n",
    "#plt.savefig(f\"/home/c/cslage/u/ComCam/images/ComCam_Slices_{dayObs}_{seqNum}.png\")"
   ]
  },
  {
   "cell_type": "markdown",
   "metadata": {
    "execution": {
     "iopub.execute_input": "2024-07-10T18:10:52.234053Z",
     "iopub.status.busy": "2024-07-10T18:10:52.233642Z",
     "iopub.status.idle": "2024-07-10T18:10:52.238254Z",
     "shell.execute_reply": "2024-07-10T18:10:52.237362Z",
     "shell.execute_reply.started": "2024-07-10T18:10:52.234022Z"
    }
   },
   "source": [
    "# Plot a small region"
   ]
  },
  {
   "cell_type": "code",
   "execution_count": null,
   "metadata": {
    "execution": {
     "iopub.execute_input": "2024-08-29T01:09:51.800371Z",
     "iopub.status.busy": "2024-08-29T01:09:51.800165Z",
     "iopub.status.idle": "2024-08-29T01:09:51.977040Z",
     "shell.execute_reply": "2024-08-29T01:09:51.976628Z",
     "shell.execute_reply.started": "2024-08-29T01:09:51.800356Z"
    }
   },
   "outputs": [],
   "source": [
    "x = plot(mos.array[6000:6100, 6000:6100])"
   ]
  },
  {
   "cell_type": "markdown",
   "metadata": {
    "execution": {
     "iopub.execute_input": "2024-07-13T13:01:31.616243Z",
     "iopub.status.busy": "2024-07-13T13:01:31.615843Z",
     "iopub.status.idle": "2024-07-13T13:01:31.619977Z",
     "shell.execute_reply": "2024-07-13T13:01:31.619248Z",
     "shell.execute_reply.started": "2024-07-13T13:01:31.616214Z"
    }
   },
   "source": [
    "# The cell below will save the combined image as a FITS file"
   ]
  },
  {
   "cell_type": "code",
   "execution_count": null,
   "metadata": {},
   "outputs": [],
   "source": [
    "filename = \"/home/c/cslage/u/ComCam/images/FITS_2024080800029.fits\"\n",
    "mos.writeFits(filename)"
   ]
  },
  {
   "cell_type": "code",
   "execution_count": null,
   "metadata": {},
   "outputs": [],
   "source": [
    "type(raw.image)"
   ]
  },
  {
   "cell_type": "markdown",
   "metadata": {},
   "source": [
    "# Variability per amp"
   ]
  },
  {
   "cell_type": "code",
   "execution_count": null,
   "metadata": {},
   "outputs": [],
   "source": [
    "%matplotlib inline\n",
    "clip = 10.0\n",
    "expId = 2024071200007\n",
    "\n",
    "for det in range(9):\n",
    "    exp = butler.get('raw', detector=det, exposure=expId)\n",
    "    biasExp = butler.get('bias', detector=det, exposure=expId) # This is a bias image associated with the data\n",
    "    isrResult = isrTask.run(exp, bias=biasExp) # This runs the ISR\n",
    "    for amp in exp.getDetector().getAmplifiers():\n",
    "        data = isrResult.exposure[amp.getBBox()].image.array.flatten()\n",
    "        data = (data - np.median(data)) / np.median(data) * 100.0\n",
    "        sortedData = np.sort(data)\n",
    "        sortedTrimmedData = np.clip(sortedData, np.percentile(sortedData, clip), np.percentile(sortedData, 100 - clip))\n",
    "        plt.plot(sortedTrimmedData)\n",
    "plt.ylim(-5.0, 5.0)\n",
    "plt.title(f\"ComCam {expId}, per amp variability - 10->90 percentiles\")\n",
    "plt.xlabel(\"Pixel count\")\n",
    "plt.ylabel(\"Percent variation from Median\")\n",
    "plt.savefig(f\"/home/c/cslage/u/ComCam/images/ComCam_Amp_Nonuniformity_{expId}.png\")"
   ]
  }
 ],
 "metadata": {
  "kernelspec": {
   "display_name": "LSST",
   "language": "python",
   "name": "lsst"
  },
  "language_info": {
   "codemirror_mode": {
    "name": "ipython",
    "version": 3
   },
   "file_extension": ".py",
   "mimetype": "text/x-python",
   "name": "python",
   "nbconvert_exporter": "python",
   "pygments_lexer": "ipython3",
   "version": "3.11.10"
  }
 },
 "nbformat": 4,
 "nbformat_minor": 4
}
