{
 "cells": [
  {
   "cell_type": "markdown",
   "id": "0dd0a988-c53b-4063-9081-04bab3355c4b",
   "metadata": {
    "tags": []
   },
   "source": [
    "## Analyzing dome monitor with a labJack T7\n",
    "Uses 2 analog input (AINs) to read the data.\n",
    "\n",
    "Craig Lage - Jul 5, 2023"
   ]
  },
  {
   "cell_type": "code",
   "execution_count": null,
   "id": "dbd14b82-0a82-488c-a615-db33e5ffa5a6",
   "metadata": {
    "execution": {
     "iopub.execute_input": "2024-04-30T20:12:01.580870Z",
     "iopub.status.busy": "2024-04-30T20:12:01.580596Z",
     "iopub.status.idle": "2024-04-30T20:12:02.177139Z",
     "shell.execute_reply": "2024-04-30T20:12:02.176256Z",
     "shell.execute_reply.started": "2024-04-30T20:12:01.580835Z"
    },
    "tags": []
   },
   "outputs": [],
   "source": [
    "import sys, os, re\n",
    "import time, datetime\n",
    "import numpy as np\n",
    "import pandas as pd\n",
    "import pickle as pkl\n",
    "import matplotlib.pyplot as plt\n",
    "from matplotlib.backends.backend_pdf import PdfPages\n",
    "from astropy.time import Time, TimeDelta\n",
    "from lsst_efd_client import EfdClient"
   ]
  },
  {
   "cell_type": "code",
   "execution_count": null,
   "id": "9a8454c2-f633-4eba-accf-0c586818c744",
   "metadata": {
    "execution": {
     "iopub.execute_input": "2024-04-30T20:12:03.017664Z",
     "iopub.status.busy": "2024-04-30T20:12:03.017275Z",
     "iopub.status.idle": "2024-04-30T20:12:10.215449Z",
     "shell.execute_reply": "2024-04-30T20:12:10.214811Z",
     "shell.execute_reply.started": "2024-04-30T20:12:03.017634Z"
    },
    "jupyter": {
     "outputs_hidden": true
    },
    "tags": []
   },
   "outputs": [],
   "source": [
    "dir = \"/scratch/labJackData/\"\n",
    "\n",
    "files = os.listdir(dir)\n",
    "counter = 0\n",
    "for file in files:\n",
    "    split_file = re.split('_|T|\\Z.', file)\n",
    "    if split_file[0] == \"Gill\":\n",
    "        if (split_file[1] == '20231112') or \\\n",
    "            (split_file[1] == '20231111' and int(list(split_file[2])[0]) > 1):\n",
    "            filename = dir+file\n",
    "\n",
    "            pkl_file = open(filename, 'rb')\n",
    "            df = pkl.load(pkl_file)\n",
    "            pkl_file.close()\n",
    "            print(filename, len(df), df.columns)\n",
    "            if counter == 0:\n",
    "                merged_df = df\n",
    "            else:\n",
    "                merged_df = pd.concat([merged_df, df])\n",
    "            #if counter == 1:\n",
    "            #    break\n",
    "            counter += 1\n"
   ]
  },
  {
   "cell_type": "code",
   "execution_count": null,
   "id": "7cd3b3c7-090b-4c77-a064-a0b27a26c493",
   "metadata": {
    "execution": {
     "iopub.execute_input": "2024-04-30T20:12:10.230055Z",
     "iopub.status.busy": "2024-04-30T20:12:10.229917Z",
     "iopub.status.idle": "2024-04-30T20:12:10.233485Z",
     "shell.execute_reply": "2024-04-30T20:12:10.232851Z",
     "shell.execute_reply.started": "2024-04-30T20:12:10.230043Z"
    },
    "tags": []
   },
   "outputs": [],
   "source": [
    "print(len(df), len(merged_df))"
   ]
  },
  {
   "cell_type": "code",
   "execution_count": null,
   "id": "f71863c4-9b90-445a-8410-833d43ca681d",
   "metadata": {
    "tags": []
   },
   "outputs": [],
   "source": [
    "client = EfdClient('summit_efd')\n",
    "start = Time(\"2023-11-11T20:38:00Z\", scale='utc')\n",
    "end = Time(\"2023-11-12T20:29:00Z\", scale='utc')\n",
    "campbellVels = await client.select_time_series('lsst.sal.ESS.airTurbulence', \\\n",
    "                                            ['*'],  start, end)\n",
    "temps = await client.select_time_series('lsst.sal.ESS.temperature', \\\n",
    "                                            ['temperatureItem2'],  start, end)"
   ]
  },
  {
   "cell_type": "code",
   "execution_count": null,
   "id": "0aad49f0-da8c-4257-b58f-fe94e4ce925c",
   "metadata": {},
   "outputs": [],
   "source": [
    "t0 = Time(\"2023-11-12T02:00:00Z\", scale='utc').isot\n",
    "t1 = Time(\"2023-11-12T09:00:00Z\", scale='utc').isot\n",
    "t2 = Time(\"2023-11-12T12:00:00Z\", scale='utc').isot\n",
    "\n",
    "sub_df = merged_df.loc[t0:t1]\n",
    "sub_campbell =campbellVels.loc[t0:t1]\n",
    "gill_sigma_vx = np.std(sub_df['vx_ms'].values)\n",
    "gill_sigma_vy = np.std(sub_df['vy_ms'].values)\n",
    "gill_sigma_vz = np.std(sub_df['vz_ms'].values)\n",
    "campbell_sigma_vx = np.std(sub_campbell['speed0'].values)\n",
    "campbell_sigma_vy = np.std(sub_campbell['speed1'].values)\n",
    "campbell_sigma_vz = np.std(sub_campbell['speed2'].values)"
   ]
  },
  {
   "cell_type": "code",
   "execution_count": null,
   "id": "84e42cec-39a6-4da8-99f2-095661bf2244",
   "metadata": {
    "tags": []
   },
   "outputs": [],
   "source": [
    "print(len(campbellVels), len(df), len(merged_df))"
   ]
  },
  {
   "cell_type": "code",
   "execution_count": null,
   "id": "ece131bc-bd3f-4c3f-b47a-e0c34965337c",
   "metadata": {
    "tags": []
   },
   "outputs": [],
   "source": [
    "fig, axs = plt.subplots(3,1, figsize=(6,12))\n",
    "plt.subplots_adjust(hspace=0.5)\n",
    "\n",
    "nb_row = 6000 # rows to average\n",
    "plot0 = merged_df['vx_ms'].rolling(nb_row).mean()[nb_row::nb_row].plot(ax=axs[0], label=\"Gill_vx\", color='red')\n",
    "merged_df['vy_ms'].rolling(nb_row).mean()[nb_row::nb_row].plot(ax=axs[0], label=\"Gill_vy\", color='blue')\n",
    "merged_df['vz_ms'].rolling(nb_row).mean()[nb_row::nb_row].plot(ax=axs[0], label=\"Gill_vz\", color='green')\n",
    "plot0.axvline(t0, ls='--', color='k')\n",
    "plot0.axvline(t1, ls='--', color='k')\n",
    "axs[0].set_ylim(-0.2, 0.2)\n",
    "axs[0].set_ylabel(\"Wind speed(m/s)\")\n",
    "axs[0].set_title(\"Gill wind velocities\", fontsize=16)\n",
    "axs[0].legend(loc='upper left')\n",
    "axs[0].text(t2, -0.08, f\"sigmaVx={gill_sigma_vx:.3f}\")\n",
    "axs[0].text(t2, -0.12, f\"sigmaVy={gill_sigma_vy:.3f}\")\n",
    "axs[0].text(t2, -0.16, f\"sigmaVz={gill_sigma_vz:.3f}\")\n",
    "\n",
    "plot1 = campbellVels[\"speed0\"].plot(ax=axs[1], label=\"Campbell_vx\", color='red')\n",
    "campbellVels[\"speed1\"].plot(ax=axs[1], label=\"Campbell_vy\", color='blue')\n",
    "campbellVels[\"speed2\"].plot(ax=axs[1], label=\"Campbell_vz\", color='green')\n",
    "plot1.axvline(t0, ls='--', color='k')\n",
    "plot1.axvline(t1, ls='--', color='k')\n",
    "axs[1].set_ylim(-0.2, 0.2)\n",
    "axs[1].set_ylabel(\"Wind speed(m/s)\")\n",
    "axs[1].set_title(\"Campbell wind velocities\", fontsize=16)\n",
    "axs[1].legend(loc='upper left')\n",
    "axs[1].text(t2, -0.08, f\"sigmaVx={campbell_sigma_vx:.3f}\")\n",
    "axs[1].text(t2, -0.12, f\"sigmaVy={campbell_sigma_vy:.3f}\")\n",
    "axs[1].text(t2, -0.16, f\"sigmaVz={campbell_sigma_vz:.3f}\")\n",
    "\n",
    "\n",
    "merged_df['tsonic'].rolling(nb_row).mean()[nb_row::nb_row].plot(ax=axs[2], label=\"Gill_tsonic\", color='red')\n",
    "campbellVels[\"sonicTemperature\"].plot(ax=axs[2], label=\"Campbell_tsonic\", color='blue')\n",
    "temps[\"temperatureItem2\"].rolling(nb_row).mean()[nb_row::nb_row].plot(ax=axs[2], label=\"Air temperature\", color='green')\n",
    "axs[2].set_ylim(5.0, 20.0)\n",
    "axs[2].set_ylabel(\"Temperature (C)\")\n",
    "axs[2].set_title(\"Sonic Temperature\", fontsize=16)\n",
    "axs[2].legend(loc='lower left')\n",
    "\n",
    "\n",
    "plt.savefig(f\"/home/craiglagegit/DATA/Gill_vs_Campbell_11Nov23.png\")"
   ]
  },
  {
   "cell_type": "code",
   "execution_count": null,
   "id": "f8bd2ed4-a8c1-4300-a4c0-e8cf20238a0e",
   "metadata": {},
   "outputs": [],
   "source": []
  }
 ],
 "metadata": {
  "kernelspec": {
   "display_name": "LSST",
   "language": "python",
   "name": "lsst"
  },
  "language_info": {
   "codemirror_mode": {
    "name": "ipython",
    "version": 3
   },
   "file_extension": ".py",
   "mimetype": "text/x-python",
   "name": "python",
   "nbconvert_exporter": "python",
   "pygments_lexer": "ipython3",
   "version": "3.11.7"
  }
 },
 "nbformat": 4,
 "nbformat_minor": 5
}
