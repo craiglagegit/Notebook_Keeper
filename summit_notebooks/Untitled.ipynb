{
 "cells": [
  {
   "cell_type": "code",
   "execution_count": null,
   "id": "1699b31f-d4c2-48ff-b6b8-f7310d9887a7",
   "metadata": {},
   "outputs": [],
   "source": [
    "import nest_asyncio\n",
    "nest_asyncio.apply()\n",
    "import sys, time, os, asyncio\n",
    "from datetime import datetime\n",
    "import numpy as np\n",
    "import pickle as pkl\n",
    "import matplotlib.pyplot as plt\n",
    "from astropy.time import Time, TimeDelta\n",
    "\n",
    "from lsst_efd_client import EfdClient\n",
    "from lsst.daf.butler import Butler\n",
    "from lsst.ts.observing.utilities.decorated_logger import DecoratedLogger\n",
    "\n",
    "import lsst.summit.utils.butlerUtils as butlerUtils\n",
    "from lsst.summit.utils.utils import dayObsIntToString\n",
    "from astro_metadata_translator import ObservationInfo\n",
    "from lsst_efd_client import merge_packed_time_series as mpts\n",
    "\n",
    "from scipy.fft import fft, fftfreq\n",
    "from scipy.signal import find_peaks"
   ]
  },
  {
   "cell_type": "code",
   "execution_count": null,
   "id": "2d3fdec5-b5e1-4ac7-aadc-af2c2f1cc772",
   "metadata": {},
   "outputs": [],
   "source": [
    "client = EfdClient('summit_efd')"
   ]
  },
  {
   "cell_type": "code",
   "execution_count": null,
   "id": "111cf683-a820-41cb-913d-8006c1dc8c2c",
   "metadata": {},
   "outputs": [],
   "source": [
    "start = Time(\"2023-12-19 22:00:00Z\", scale='utc')\n",
    "end = Time(\"2023-12-20 10:00:00Z\", scale='utc')\n",
    "az = _getEfdData(client, \"lsst.sal.MTMount.azimuth\", start, end)\n",
    "azCw = _getEfdData(client, \"lsst.sal.MTMount.azimuthCableWrap\", start, end)"
   ]
  },
  {
   "cell_type": "code",
   "execution_count": null,
   "id": "429271d7-19ea-40dd-adf3-348851eb60d9",
   "metadata": {},
   "outputs": [],
   "source": []
  },
  {
   "cell_type": "code",
   "execution_count": null,
   "id": "1ea94e32-59e6-425d-baf4-31f4070b497e",
   "metadata": {},
   "outputs": [],
   "source": []
  }
 ],
 "metadata": {
  "kernelspec": {
   "display_name": "LSST",
   "language": "python",
   "name": "lsst"
  },
  "language_info": {
   "codemirror_mode": {
    "name": "ipython",
    "version": 3
   },
   "file_extension": ".py",
   "mimetype": "text/x-python",
   "name": "python",
   "nbconvert_exporter": "python",
   "pygments_lexer": "ipython3",
   "version": "3.11.4"
  }
 },
 "nbformat": 4,
 "nbformat_minor": 5
}
