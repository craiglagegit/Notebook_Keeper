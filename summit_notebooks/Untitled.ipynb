{
 "cells": [
  {
   "cell_type": "code",
   "execution_count": null,
   "id": "0d7a787f-5d86-43c2-93bd-245d44616296",
   "metadata": {},
   "outputs": [],
   "source": [
    "#first you need to create a DomeFlatController object\n",
    "from auxtel_domeflat_controller import DomeFlatController\n",
    "\n",
    "\n",
    "dfc = DomeFlatController()"
   ]
  },
  {
   "cell_type": "code",
   "execution_count": null,
   "id": "6f105a9f-8423-404c-94f5-5a705c0640cb",
   "metadata": {},
   "outputs": [],
   "source": [
    "import sys\n",
    "print(sys.path)"
   ]
  },
  {
   "cell_type": "code",
   "execution_count": null,
   "id": "07db7a19-7760-45a8-8504-5435e5781dad",
   "metadata": {},
   "outputs": [],
   "source": []
  }
 ],
 "metadata": {
  "kernelspec": {
   "display_name": "LSST",
   "language": "python",
   "name": "lsst"
  },
  "language_info": {
   "codemirror_mode": {
    "name": "ipython",
    "version": 3
   },
   "file_extension": ".py",
   "mimetype": "text/x-python",
   "name": "python",
   "nbconvert_exporter": "python",
   "pygments_lexer": "ipython3",
   "version": "3.10.5"
  }
 },
 "nbformat": 4,
 "nbformat_minor": 5
}
