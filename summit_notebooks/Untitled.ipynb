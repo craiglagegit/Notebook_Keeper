{
 "cells": [
  {
   "cell_type": "code",
   "execution_count": null,
   "id": "aaa6ca82-aaf0-4e42-a6a9-68d223df9448",
   "metadata": {
    "execution": {
     "iopub.execute_input": "2024-09-18T22:29:37.019727Z",
     "iopub.status.busy": "2024-09-18T22:29:37.019331Z",
     "iopub.status.idle": "2024-09-18T22:29:37.148004Z",
     "shell.execute_reply": "2024-09-18T22:29:37.147423Z",
     "shell.execute_reply.started": "2024-09-18T22:29:37.019701Z"
    }
   },
   "outputs": [],
   "source": [
    "from astropy.io import fits\n",
    "from lsst.resources import ResourcePath\n",
    "filename = 's3://embargo@rubin-summit/LSSTCam/20240916/MC_C_20240916_000327/MC_C_20240916_000327_R00_SG0_guider.fits'\n",
    "rp = ResourcePath(filename)\n",
    "with rp.open(mode=\"rb\") as f:\n",
    "    hdu_list = fits.open(f)\n"
   ]
  },
  {
   "cell_type": "code",
   "execution_count": null,
   "id": "f0837a06-f22b-40b8-b464-557b3ab58240",
   "metadata": {},
   "outputs": [],
   "source": []
  }
 ],
 "metadata": {
  "kernelspec": {
   "display_name": "LSST",
   "language": "python",
   "name": "lsst"
  },
  "language_info": {
   "codemirror_mode": {
    "name": "ipython",
    "version": 3
   },
   "file_extension": ".py",
   "mimetype": "text/x-python",
   "name": "python",
   "nbconvert_exporter": "python",
   "pygments_lexer": "ipython3",
   "version": "3.11.10"
  }
 },
 "nbformat": 4,
 "nbformat_minor": 5
}
