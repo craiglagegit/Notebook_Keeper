{
 "cells": [
  {
   "cell_type": "code",
   "execution_count": null,
   "id": "4b390978-4d8d-4688-b741-f3296abb140f",
   "metadata": {
    "execution": {
     "iopub.execute_input": "2023-07-13T18:02:15.707042Z",
     "iopub.status.busy": "2023-07-13T18:02:15.706778Z",
     "iopub.status.idle": "2023-07-13T18:02:23.012609Z",
     "shell.execute_reply": "2023-07-13T18:02:23.012162Z",
     "shell.execute_reply.started": "2023-07-13T18:02:15.707026Z"
    },
    "tags": []
   },
   "outputs": [],
   "source": [
    "from lsst.summit.utils.tmaUtils import TMAEventMaker\n",
    "from lsst.summit.utils.efdUtils import (makeEfdClient,\n",
    "                                        getEfdData,\n",
    "                                        getMostRecentRowWithDataBefore,\n",
    "                                        efdTimestampToAstropy,\n",
    "                                       )\n",
    "\n",
    "client = makeEfdClient()\n",
    "dayObs = 20230627\n",
    "eventMaker = TMAEventMaker()\n",
    "events = eventMaker.getEvents(dayObs)\n",
    "print(f'Found {len(events)} for {dayObs=}')"
   ]
  },
  {
   "cell_type": "code",
   "execution_count": null,
   "id": "96d9f5b7-4bd8-4211-887a-ddf310718a11",
   "metadata": {},
   "outputs": [],
   "source": []
  }
 ],
 "metadata": {
  "kernelspec": {
   "display_name": "LSST",
   "language": "python",
   "name": "lsst"
  },
  "language_info": {
   "codemirror_mode": {
    "name": "ipython",
    "version": 3
   },
   "file_extension": ".py",
   "mimetype": "text/x-python",
   "name": "python",
   "nbconvert_exporter": "python",
   "pygments_lexer": "ipython3",
   "version": "3.10.11"
  }
 },
 "nbformat": 4,
 "nbformat_minor": 5
}
