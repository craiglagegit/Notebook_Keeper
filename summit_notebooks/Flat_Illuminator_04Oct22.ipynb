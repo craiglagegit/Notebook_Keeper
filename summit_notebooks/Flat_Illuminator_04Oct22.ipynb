{
 "cells": [
  {
   "cell_type": "code",
   "execution_count": null,
   "id": "687b5098-b807-44dc-9fd6-edf58940f60a",
   "metadata": {
    "tags": []
   },
   "outputs": [],
   "source": [
    "# First git clone the repository at \n",
    "# https://github.com/weatherhead99/auxtel_domeflat_controller/\n",
    "\n",
    "import sys\n",
    "sys.path.append('/home/craiglagegit/WORK/auxtel_domeflat_controller')\n",
    "from auxtel_domeflat_controller import DomeFlatController\n",
    "\n",
    "dfc = DomeFlatController()"
   ]
  },
  {
   "cell_type": "code",
   "execution_count": null,
   "id": "2935bc60-28bf-47d2-a28b-21c51ee0e2af",
   "metadata": {},
   "outputs": [],
   "source": [
    "#To read back the current state:\n",
    "\n",
    "print(dfc.domeFlatState)\n",
    "#this returns a bool - False for flat is off, True for flat is on"
   ]
  },
  {
   "cell_type": "code",
   "execution_count": null,
   "id": "6801efcc-84d1-4aa3-a3d8-ea62d653d771",
   "metadata": {},
   "outputs": [],
   "source": [
    "#to set the flat field illuminator state ON\n",
    "dfc.domeFlatState = True\n",
    "\n",
    "#similar for OFF"
   ]
  },
  {
   "cell_type": "code",
   "execution_count": null,
   "id": "07b2a0dd-1db5-4fef-b394-579c7a84fcd8",
   "metadata": {},
   "outputs": [],
   "source": [
    "#To read back the current state:\n",
    "\n",
    "print(dfc.domeFlatState)\n",
    "#this returns a bool - False for flat is off, True for flat is on"
   ]
  },
  {
   "cell_type": "code",
   "execution_count": null,
   "id": "a813ff12-01ca-4592-9566-7878c2da8fed",
   "metadata": {},
   "outputs": [],
   "source": []
  }
 ],
 "metadata": {
  "kernelspec": {
   "display_name": "LSST",
   "language": "python",
   "name": "lsst"
  },
  "language_info": {
   "codemirror_mode": {
    "name": "ipython",
    "version": 3
   },
   "file_extension": ".py",
   "mimetype": "text/x-python",
   "name": "python",
   "nbconvert_exporter": "python",
   "pygments_lexer": "ipython3",
   "version": "3.10.6"
  }
 },
 "nbformat": 4,
 "nbformat_minor": 5
}
