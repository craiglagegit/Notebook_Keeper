{
 "cells": [
  {
   "cell_type": "markdown",
   "metadata": {},
   "source": [
    "## StarTracker WCS solutions - 31-Jan-23\n",
    "\n",
    "Craig Lage - Reworked to work with the new summit_utils code"
   ]
  },
  {
   "cell_type": "code",
   "execution_count": null,
   "metadata": {
    "execution": {
     "iopub.execute_input": "2023-04-05T13:09:59.826776Z",
     "iopub.status.busy": "2023-04-05T13:09:59.826384Z",
     "iopub.status.idle": "2023-04-05T13:09:59.832124Z",
     "shell.execute_reply": "2023-04-05T13:09:59.831507Z",
     "shell.execute_reply.started": "2023-04-05T13:09:59.826757Z"
    },
    "tags": []
   },
   "outputs": [],
   "source": [
    "import sys, time, os, asyncio, glob\n",
    "from datetime import datetime\n",
    "import numpy as np\n",
    "from scipy.ndimage import median_filter\n",
    "import matplotlib.pyplot as plt\n",
    "import astropy.io.fits as pf\n",
    "import pandas as pd\n",
    "from astropy.time import Time, TimeDelta\n",
    "from astropy.coordinates import AltAz, ICRS, EarthLocation, Angle, FK5, SkyCoord\n",
    "import astropy.units as u\n",
    "from lsst.obs.lsst.translators.latiss import AUXTEL_LOCATION\n",
    "from lsst.obs.lsst.translators.lsst import SIMONYI_LOCATION\n",
    "from lsst.geom import Point2D, SpherePoint, Angle, AngleUnit\n",
    "\n",
    "import lsst.afw.image as afwImage\n",
    "from lsst.geom import SpherePoint\n",
    "from lsst.geom import Angle as afwAngle\n",
    "from astroquery.simbad import Simbad\n",
    "\n",
    "import lsst.afw.image as afwImage\n",
    "from lsst.summit.utils.utils import starTrackerFileToExposure\n",
    "from lsst.summit.utils.astrometry.anet import CommandLineSolver\n",
    "from lsst.summit.utils.astrometry.utils import runCharactierizeImage, filterSourceCatOnBrightest\n",
    "from lsst.pipe.tasks.characterizeImage import CharacterizeImageTask, CharacterizeImageConfig"
   ]
  },
  {
   "cell_type": "code",
   "execution_count": null,
   "metadata": {
    "execution": {
     "iopub.execute_input": "2023-04-05T12:17:24.779739Z",
     "iopub.status.busy": "2023-04-05T12:17:24.779589Z",
     "iopub.status.idle": "2023-04-05T12:17:24.784714Z",
     "shell.execute_reply": "2023-04-05T12:17:24.784253Z",
     "shell.execute_reply.started": "2023-04-05T12:17:24.779726Z"
    },
    "tags": []
   },
   "outputs": [],
   "source": [
    "solver = CommandLineSolver('/project/shared/ref_cats/astrometry_net/')"
   ]
  },
  {
   "cell_type": "code",
   "execution_count": null,
   "metadata": {
    "execution": {
     "iopub.execute_input": "2023-04-05T18:49:33.573450Z",
     "iopub.status.busy": "2023-04-05T18:49:33.573163Z",
     "iopub.status.idle": "2023-04-05T18:49:44.232667Z",
     "shell.execute_reply": "2023-04-05T18:49:44.232071Z",
     "shell.execute_reply.started": "2023-04-05T18:49:33.573432Z"
    },
    "tags": []
   },
   "outputs": [],
   "source": [
    "cameras = [['Wide', 101]]\n",
    "#cameras = [['Narrow', 102]]\n",
    "dates = [20230321]\n",
    "for [camera, num] in cameras:\n",
    "    for date in dates:\n",
    "        year = int(date/10000)\n",
    "        month = int((date - 10000 * year)/100)\n",
    "        day = int((date - 10000 * year - 100 * month))\n",
    "        path = f\"/project/GenericCamera/{num}/{year}/{month:02}/{day:02}/\"\n",
    "        for seqNum in range(1160, 1161):\n",
    "            filename = path + f\"GC{num}_O_{date}_{seqNum:06}.fits\"\n",
    "            narrow_exp = starTrackerFileToExposure(filename)\n",
    "            results = runCharactierizeImage(narrow_exp, 5, 25)\n",
    "            filteredCat = filterSourceCatOnBrightest(results.sourceCat, 0.2, maxSources=100)\n",
    "            # Need to loosen percentageScaleError because header SECPIX is wrong\n",
    "            solverResults = solver.run(narrow_exp, filteredCat, percentageScaleError=60.0, isWideField=True)\n",
    "narrow_wcs = solverResults.wcs"
   ]
  },
  {
   "cell_type": "code",
   "execution_count": null,
   "metadata": {
    "execution": {
     "iopub.execute_input": "2023-04-05T12:17:37.776000Z",
     "iopub.status.busy": "2023-04-05T12:17:37.775627Z",
     "iopub.status.idle": "2023-04-05T12:17:37.782365Z",
     "shell.execute_reply": "2023-04-05T12:17:37.781984Z",
     "shell.execute_reply.started": "2023-04-05T12:17:37.775981Z"
    },
    "tags": []
   },
   "outputs": [],
   "source": [
    "# Code from Merlin Fisher-Levine to solve fast camera images\n",
    "def runCharactierizeImage(exp, snr, minPix):\n",
    "    \"\"\"Run the image characterization task, finding only bright sources.\n",
    "\n",
    "    Parameters\n",
    "    ----------\n",
    "    exp : `lsst.afw.image.Exposure`\n",
    "        The exposure to characterize.\n",
    "    snr : `float`\n",
    "        The SNR threshold for detection.\n",
    "    minPix : `int`\n",
    "        The minimum number of pixels to count as a source.\n",
    "\n",
    "    Returns\n",
    "    -------\n",
    "    result : `lsst.pipe.base.Struct`\n",
    "        The result from the image characterization task.\n",
    "    \"\"\"\n",
    "    charConfig = CharacterizeImageConfig()\n",
    "    charConfig.doMeasurePsf = False\n",
    "    charConfig.doApCorr = False\n",
    "    charConfig.doDeblend = False\n",
    "    charConfig.repair.doCosmicRay = False\n",
    "\n",
    "    charConfig.detection.minPixels = minPix\n",
    "    charConfig.detection.thresholdValue = snr\n",
    "    charConfig.detection.includeThresholdMultiplier = 1\n",
    "    charConfig.detection.nSigmaToGrow = 0\n",
    "\n",
    "    charConfig.psfIterations = 1\n",
    "    charConfig.installSimplePsf.fwhm = 5\n",
    "    charConfig.installSimplePsf.width = 51\n",
    "    \n",
    "    # fit background with the most simple thing possible as we don't need\n",
    "    # much sophistication here. weighting=False is *required* for very\n",
    "    # large binSizes.\n",
    "#     charConfig.background.algorithm = 'AKIMA'\n",
    "    charConfig.background.approxOrderX = 1\n",
    "    charConfig.background.approxOrderY = -1\n",
    "    charConfig.background.binSize = max(exp.getWidth(), exp.getHeight())\n",
    "    charConfig.background.weighting = False\n",
    "\n",
    "    # set this to use all the same minimal settings as those above\n",
    "    charConfig.detection.background = charConfig.background\n",
    "\n",
    "    charTask = CharacterizeImageTask(config=charConfig)\n",
    "\n",
    "    charResult = charTask.run(exp)\n",
    "    return charResult\n",
    "\n",
    "def solveFastCamera(filename, doPlot=False):\n",
    "    exp = starTrackerFileToExposure(filename)\n",
    "    exp.image.array = median_filter(exp.image.array, 2, mode='reflect')\n",
    "    result = runCharactierizeImage(exp, 5, 25)\n",
    "    sources = filterSourceCatOnBrightest(result.sourceCat, .5, minSources=5)\n",
    "    if doPlot:\n",
    "        plot(exp, sources, doSmooth=False)\n",
    "    result = solver.run(exp, sources, True, useGaia=True, percentageScaleError=10, radius=5)\n",
    "    if result is not None:\n",
    "        fastWcs = result.wcs\n",
    "        fastVisitInfo = exp.visitInfo\n",
    "    else:\n",
    "        print('fit failed')\n",
    "        return None\n",
    "    return fastWcs"
   ]
  },
  {
   "cell_type": "code",
   "execution_count": null,
   "metadata": {
    "execution": {
     "iopub.execute_input": "2023-04-05T12:17:55.361186Z",
     "iopub.status.busy": "2023-04-05T12:17:55.360780Z",
     "iopub.status.idle": "2023-04-05T12:17:59.801107Z",
     "shell.execute_reply": "2023-04-05T12:17:59.800503Z",
     "shell.execute_reply.started": "2023-04-05T12:17:55.361169Z"
    },
    "tags": []
   },
   "outputs": [],
   "source": [
    "#Enter which image you want to look at\n",
    "[camera, num] = ['Fast', 103]\n",
    "#[camera, num] = ['Narrow', 102]\n",
    "#[camera, num] = ['Wide', 101]\n",
    "date = 20230321\n",
    "seqNum = 1160\n",
    "\n",
    "\n",
    "year = int(date/10000)\n",
    "month = int((date - 10000 * year)/100)\n",
    "day = int((date - 10000 * year - 100 * month))\n",
    "\n",
    "path = f\"/project/GenericCamera/{num}/{year}/{month:02}/{day:02}/\"\n",
    "print(path)\n",
    "filename = path + f\"GC{num}_O_{date}_{seqNum:06}.fits\"\n",
    "fast_exp = starTrackerFileToExposure(filename)\n",
    "result = solveFastCamera(filename, doPlot=False)\n",
    "fast_wcs = result"
   ]
  },
  {
   "cell_type": "markdown",
   "metadata": {},
   "source": [
    "## Now calculate the deltas from the narrow camera to the fast camera."
   ]
  },
  {
   "cell_type": "code",
   "execution_count": null,
   "metadata": {
    "tags": []
   },
   "outputs": [],
   "source": [
    "# This is a back-up\n",
    "#from lsst.afw.geom import SkyWcs\n",
    "#fast_wcs = SkyWcs.readFits('/home/mfisherlevine/temp/fastCamFits/GC103_O_20230321_001160_wcs.fits')"
   ]
  },
  {
   "cell_type": "code",
   "execution_count": null,
   "metadata": {
    "execution": {
     "iopub.execute_input": "2023-04-05T13:48:55.214899Z",
     "iopub.status.busy": "2023-04-05T13:48:55.214621Z",
     "iopub.status.idle": "2023-04-05T13:48:56.141652Z",
     "shell.execute_reply": "2023-04-05T13:48:56.141219Z",
     "shell.execute_reply.started": "2023-04-05T13:48:55.214882Z"
    },
    "tags": []
   },
   "outputs": [],
   "source": [
    "# Now plot the data with matplotlib\n",
    "%matplotlib inline\n",
    "from matplotlib.path import Path\n",
    "from matplotlib.patches import PathPatch\n",
    "def fast_corners(fast_wcs, narrow_wcs):\n",
    "    scale_ratio = fast_wcs.getPixelScale().asArcseconds() / narrow_wcs.getPixelScale().asArcseconds()\n",
    "    theta = fast_wcs.getRelativeRotationToWcs(narrow_wcs).asRadians()\n",
    "    center = narrow_wcs.skyToPixel(fast_wcs.getSkyOrigin())\n",
    "    dx0 = fast_wcs.getPixelOrigin().x * scale_ratio\n",
    "    dy0 = fast_wcs.getPixelOrigin().y * scale_ratio\n",
    "    rot = np.array([[np.cos(theta), -np.sin(theta)], [np.sin(theta), np.cos(theta)]])\n",
    "    corners = []\n",
    "    for [i, j] in[[-1,-1],[-1,1],[1,1],[1,-1],[-1,-1]]:\n",
    "        d0 = np.array([i*dx0, j*dy0])\n",
    "        d = np.dot(rot, d0)\n",
    "        dx = d[0]; dy = d[1]\n",
    "        corners.append([center.x+dx, center.y+dy])   \n",
    "    return corners\n",
    "\n",
    "def alt_az_arrows(narrow_wcs, narrow_exp):\n",
    "    mData = narrow_exp.getInfo().getMetadata()\n",
    "    time = Time((Time(mData[\"DATE-BEG\"], scale='tai').unix_tai + Time(mData[\"DATE-END\"], scale='tai').unix_tai)/2.0, \\\n",
    "                format='unix_tai', scale='tai')\n",
    "    altAz = AltAz(obstime=time, location=SIMONYI_LOCATION)\n",
    "    center = np.array((int(narrow_exp.image.array.shape[0] / 2), int(narrow_exp.image.array.shape[1] / 2)))\n",
    "    center_raDec = narrow_wcs.pixelToSky(center[0], center[1])\n",
    "    skyLocation = SkyCoord(center_raDec.getRa().asDegrees() * u.deg, center_raDec.getDec().asDegrees() * u.deg)\n",
    "    obsAltAz = skyLocation.transform_to(altAz)\n",
    "    az = obsAltAz.az.deg\n",
    "    alt = obsAltAz.alt.deg\n",
    "    azPlus = az + 500.0 / 3600.0 / np.cos(obsAltAz.alt.rad) # add 500 arcseconds\n",
    "    altPlus = alt + 500.0 / 3600.0 # add 500 arcseconds\n",
    "    altAzPlus = SkyCoord(AltAz(alt=alt*u.deg, az=azPlus*u.deg, obstime=time, location=SIMONYI_LOCATION))\n",
    "    RaDecAzPlus = altAzPlus.transform_to(ICRS)\n",
    "    SpherePointAzPlus = SpherePoint(Angle(RaDecAzPlus.ra.rad), Angle(RaDecAzPlus.dec.rad))\n",
    "    azPlusPixels = narrow_wcs.skyToPixel(SpherePointAzPlus)\n",
    "    altPlusAz = SkyCoord(AltAz(alt=altPlus*u.deg, az=az*u.deg, obstime=time, location=SIMONYI_LOCATION))\n",
    "    RaDecAltPlus = altPlusAz.transform_to(ICRS)\n",
    "    SpherePointAltPlus = SpherePoint(Angle(RaDecAltPlus.ra.rad), Angle(RaDecAltPlus.dec.rad))\n",
    "    altPlusPixels = narrow_wcs.skyToPixel(SpherePointAltPlus)\n",
    "    azPlusArrowLength = np.array(azPlusPixels) - np.array(center)\n",
    "    altPlusArrowLength = np.array(altPlusPixels) - np.array(center)\n",
    "    print(az, alt)\n",
    "    print(mData[\"AZSTART\"], mData[\"ELSTART\"])\n",
    "    print(center, azPlusPixels, altPlusPixels)\n",
    "    return [center, azPlusArrowLength, altPlusArrowLength]\n",
    "\n",
    "\n",
    "fig, ax = plt.subplots(figsize=(16,16))\n",
    "ax.set_title(f\"StarTracker Narrow and Fast, SeqNum {seqNum}\")\n",
    "ax.imshow(narrow_exp.image.array,  interpolation='Nearest', cmap='gray', vmin=0.1, vmax=1, origin='lower')\n",
    "narrow_boresight = narrow_wcs.getPixelOrigin()\n",
    "ax.scatter(narrow_boresight.x, narrow_boresight.y, \\\n",
    "            facecolors='cyan', edgecolors='cyan', marker='X', s=200, lw=1)\n",
    "ax.text(narrow_boresight.x+50, narrow_boresight.y-10, \"Boresight\", color='cyan', fontsize=18)\n",
    "[center, azPlusArrowLength, altPlusArrowLength] = alt_az_arrows(narrow_wcs, narrow_exp)\n",
    "ax.arrow(center[1], center[0], azPlusArrowLength[1], azPlusArrowLength[0], color='lightgreen', \\\n",
    "        head_width=50, head_length=100, lw = 2)\n",
    "ax.text(center[1] + azPlusArrowLength[1]+50, center[0] + azPlusArrowLength[0]-100, \\\n",
    "        'Plus Az\\n500\"', color='lightgreen', fontsize=18)\n",
    "ax.arrow(center[1], center[0], altPlusArrowLength[1], altPlusArrowLength[0], color='lightgreen', \\\n",
    "        head_width=50, head_length=100, lw = 2)\n",
    "ax.text(center[1] + altPlusArrowLength[1]+100, center[0] + altPlusArrowLength[0], \\\n",
    "        'Plus Alt\\n500\"', color='lightgreen', fontsize=18)\n",
    "path = Path(fast_corners(fast_wcs, narrow_wcs))\n",
    "patch = PathPatch(path, facecolor='none', edgecolor='y')\n",
    "ax.add_patch(patch)\n",
    "im = plt.imshow(fast_exp.image.array,  interpolation='Nearest', cmap='gray', vmin=1, vmax=1000, origin='lower', \\\n",
    "               extent=[0,narrow_exp.image.array.shape[1],0,narrow_exp.image.array.shape[0]], clip_path=patch, clip_on=True, alpha=0.5)\n",
    "fast_center = narrow_wcs.skyToPixel(fast_wcs.getSkyOrigin())\n",
    "ax.scatter(fast_center.x, fast_center.y, \\\n",
    "                    facecolors='y', edgecolors='y', marker='X', s=200, lw=1)\n",
    "ax.text(fast_center.x+150, fast_center.y, \"Fast Camera\", color='y', fontsize=18)\n",
    "im.set_clip_path(patch)\n",
    "\n",
    "#plt.savefig(f\"/home/craiglagegit/DATA/StarTracker_Labels_Simbad_{camera}_{date}_{seqNum}.pdf\")"
   ]
  },
  {
   "cell_type": "code",
   "execution_count": null,
   "metadata": {
    "execution": {
     "iopub.execute_input": "2023-04-05T18:51:30.407227Z",
     "iopub.status.busy": "2023-04-05T18:51:30.406623Z",
     "iopub.status.idle": "2023-04-05T18:51:30.410468Z",
     "shell.execute_reply": "2023-04-05T18:51:30.410102Z",
     "shell.execute_reply.started": "2023-04-05T18:51:30.407206Z"
    },
    "tags": []
   },
   "outputs": [],
   "source": [
    "fast_wcs.getPixelScale().asArcseconds()"
   ]
  },
  {
   "cell_type": "code",
   "execution_count": null,
   "metadata": {
    "execution": {
     "iopub.execute_input": "2023-04-05T18:51:58.166659Z",
     "iopub.status.busy": "2023-04-05T18:51:58.166279Z",
     "iopub.status.idle": "2023-04-05T18:51:58.170125Z",
     "shell.execute_reply": "2023-04-05T18:51:58.169741Z",
     "shell.execute_reply.started": "2023-04-05T18:51:58.166640Z"
    },
    "tags": []
   },
   "outputs": [],
   "source": [
    "0.62*500/60"
   ]
  },
  {
   "cell_type": "code",
   "execution_count": null,
   "metadata": {},
   "outputs": [],
   "source": []
  }
 ],
 "metadata": {
  "kernelspec": {
   "display_name": "LSST",
   "language": "python",
   "name": "lsst"
  },
  "language_info": {
   "codemirror_mode": {
    "name": "ipython",
    "version": 3
   },
   "file_extension": ".py",
   "mimetype": "text/x-python",
   "name": "python",
   "nbconvert_exporter": "python",
   "pygments_lexer": "ipython3",
   "version": "3.10.9"
  }
 },
 "nbformat": 4,
 "nbformat_minor": 4
}
