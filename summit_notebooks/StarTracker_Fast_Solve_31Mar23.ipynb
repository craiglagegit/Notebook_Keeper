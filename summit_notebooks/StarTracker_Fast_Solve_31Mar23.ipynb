{
 "cells": [
  {
   "cell_type": "markdown",
   "metadata": {},
   "source": [
    "## StarTracker WCS solutions - 31-Jan-23\n",
    "\n",
    "Craig Lage - Reworked to work with the new summit_utils code"
   ]
  },
  {
   "cell_type": "code",
   "execution_count": null,
   "metadata": {
    "execution": {
     "iopub.execute_input": "2023-04-03T15:32:53.082802Z",
     "iopub.status.busy": "2023-04-03T15:32:53.082521Z",
     "iopub.status.idle": "2023-04-03T15:32:55.307046Z",
     "shell.execute_reply": "2023-04-03T15:32:55.306453Z",
     "shell.execute_reply.started": "2023-04-03T15:32:53.082785Z"
    },
    "tags": []
   },
   "outputs": [],
   "source": [
    "import sys, time, os, asyncio, glob\n",
    "from datetime import datetime\n",
    "import numpy as np\n",
    "from scipy.ndimage import median_filter\n",
    "import matplotlib.pyplot as plt\n",
    "import astropy.io.fits as pf\n",
    "import pandas as pd\n",
    "from astropy.time import Time, TimeDelta\n",
    "from astropy.coordinates import AltAz, ICRS, EarthLocation, Angle, FK5, SkyCoord\n",
    "import astropy.units as u\n",
    "from lsst.obs.lsst.translators.latiss import AUXTEL_LOCATION\n",
    "from lsst.obs.lsst.translators.lsst import SIMONYI_LOCATION\n",
    "\n",
    "import lsst.afw.image as afwImage\n",
    "from lsst.geom import SpherePoint\n",
    "from lsst.geom import Angle as afwAngle\n",
    "from astroquery.simbad import Simbad\n",
    "\n",
    "import lsst.afw.image as afwImage\n",
    "from lsst.summit.utils.utils import starTrackerFileToExposure\n",
    "from lsst.summit.utils.astrometry.anet import CommandLineSolver\n",
    "from lsst.summit.utils.astrometry.utils import runCharactierizeImage, filterSourceCatOnBrightest\n",
    "from lsst.pipe.tasks.characterizeImage import CharacterizeImageTask, CharacterizeImageConfig"
   ]
  },
  {
   "cell_type": "code",
   "execution_count": null,
   "metadata": {
    "execution": {
     "iopub.execute_input": "2023-04-03T15:32:55.309469Z",
     "iopub.status.busy": "2023-04-03T15:32:55.309322Z",
     "iopub.status.idle": "2023-04-03T15:32:55.312594Z",
     "shell.execute_reply": "2023-04-03T15:32:55.312117Z",
     "shell.execute_reply.started": "2023-04-03T15:32:55.309455Z"
    },
    "tags": []
   },
   "outputs": [],
   "source": [
    "solver = CommandLineSolver('/project/shared/ref_cats/astrometry_net/')"
   ]
  },
  {
   "cell_type": "code",
   "execution_count": null,
   "metadata": {
    "execution": {
     "iopub.execute_input": "2023-04-03T15:44:48.324398Z",
     "iopub.status.busy": "2023-04-03T15:44:48.324037Z",
     "iopub.status.idle": "2023-04-03T15:44:52.671581Z",
     "shell.execute_reply": "2023-04-03T15:44:52.670963Z",
     "shell.execute_reply.started": "2023-04-03T15:44:48.324380Z"
    },
    "tags": []
   },
   "outputs": [],
   "source": [
    "#cameras = [['Wide', 101], ['Narrow', 102]]\n",
    "cameras = [['Narrow', 102]]\n",
    "dates = [20230321]\n",
    "for [camera, num] in cameras:\n",
    "    for date in dates:\n",
    "        year = int(date/10000)\n",
    "        month = int((date - 10000 * year)/100)\n",
    "        day = int((date - 10000 * year - 100 * month))\n",
    "        path = f\"/project/GenericCamera/{num}/{year}/{month:02}/{day:02}/\"\n",
    "        for seqNum in range(1160, 1161):\n",
    "            filename = path + f\"GC{num}_O_{date}_{seqNum:06}.fits\"\n",
    "            narrow_exp = starTrackerFileToExposure(filename)\n",
    "            results = runCharactierizeImage(narrow_exp, 5, 25)\n",
    "            filteredCat = filterSourceCatOnBrightest(results.sourceCat, 0.2, maxSources=100)\n",
    "            # Need to loosen percentageScaleError because header SECPIX is wrong\n",
    "            solverResults = solver.run(narrow_exp, filteredCat, percentageScaleError=60.0, isWideField=True)\n"
   ]
  },
  {
   "cell_type": "code",
   "execution_count": null,
   "metadata": {
    "execution": {
     "iopub.execute_input": "2023-04-03T15:44:56.661121Z",
     "iopub.status.busy": "2023-04-03T15:44:56.660846Z",
     "iopub.status.idle": "2023-04-03T15:44:56.663925Z",
     "shell.execute_reply": "2023-04-03T15:44:56.663421Z",
     "shell.execute_reply.started": "2023-04-03T15:44:56.661104Z"
    },
    "tags": []
   },
   "outputs": [],
   "source": [
    "narrow_wcs = solverResults.wcs"
   ]
  },
  {
   "cell_type": "code",
   "execution_count": null,
   "metadata": {
    "execution": {
     "iopub.execute_input": "2023-04-03T15:45:01.484838Z",
     "iopub.status.busy": "2023-04-03T15:45:01.484561Z",
     "iopub.status.idle": "2023-04-03T15:45:01.491365Z",
     "shell.execute_reply": "2023-04-03T15:45:01.490878Z",
     "shell.execute_reply.started": "2023-04-03T15:45:01.484821Z"
    },
    "tags": []
   },
   "outputs": [],
   "source": [
    "def runCharactierizeImage(exp, snr, minPix):\n",
    "    \"\"\"Run the image characterization task, finding only bright sources.\n",
    "\n",
    "    Parameters\n",
    "    ----------\n",
    "    exp : `lsst.afw.image.Exposure`\n",
    "        The exposure to characterize.\n",
    "    snr : `float`\n",
    "        The SNR threshold for detection.\n",
    "    minPix : `int`\n",
    "        The minimum number of pixels to count as a source.\n",
    "\n",
    "    Returns\n",
    "    -------\n",
    "    result : `lsst.pipe.base.Struct`\n",
    "        The result from the image characterization task.\n",
    "    \"\"\"\n",
    "    charConfig = CharacterizeImageConfig()\n",
    "    charConfig.doMeasurePsf = False\n",
    "    charConfig.doApCorr = False\n",
    "    charConfig.doDeblend = False\n",
    "    charConfig.repair.doCosmicRay = False\n",
    "\n",
    "    charConfig.detection.minPixels = minPix\n",
    "    charConfig.detection.thresholdValue = snr\n",
    "    charConfig.detection.includeThresholdMultiplier = 1\n",
    "    charConfig.detection.nSigmaToGrow = 0\n",
    "\n",
    "    charConfig.psfIterations = 1\n",
    "    charConfig.installSimplePsf.fwhm = 5\n",
    "    charConfig.installSimplePsf.width = 51\n",
    "    \n",
    "    # fit background with the most simple thing possible as we don't need\n",
    "    # much sophistication here. weighting=False is *required* for very\n",
    "    # large binSizes.\n",
    "#     charConfig.background.algorithm = 'AKIMA'\n",
    "    charConfig.background.approxOrderX = 1\n",
    "    charConfig.background.approxOrderY = -1\n",
    "    charConfig.background.binSize = max(exp.getWidth(), exp.getHeight())\n",
    "    charConfig.background.weighting = False\n",
    "\n",
    "    # set this to use all the same minimal settings as those above\n",
    "    charConfig.detection.background = charConfig.background\n",
    "\n",
    "    charTask = CharacterizeImageTask(config=charConfig)\n",
    "\n",
    "    charResult = charTask.run(exp)\n",
    "    return charResult\n",
    "\n",
    "def solveFastCamera(filename, doPlot=False):\n",
    "    exp = starTrackerFileToExposure(filename)\n",
    "    exp.image.array = median_filter(exp.image.array, 2, mode='reflect')\n",
    "    result = runCharactierizeImage(exp, 5, 25)\n",
    "    sources = filterSourceCatOnBrightest(result.sourceCat, .5, minSources=5)\n",
    "    if doPlot:\n",
    "        plot(exp, sources, doSmooth=False)\n",
    "    result = solver.run(exp, sources, True, useGaia=True, percentageScaleError=10, radius=5)\n",
    "    if result is not None:\n",
    "        fastWcs = result.wcs\n",
    "        fastVisitInfo = exp.visitInfo\n",
    "    else:\n",
    "        print('fit failed')\n",
    "        return None\n",
    "    return fastWcs"
   ]
  },
  {
   "cell_type": "markdown",
   "metadata": {
    "execution": {
     "iopub.execute_input": "2023-03-20T17:06:53.537246Z",
     "iopub.status.busy": "2023-03-20T17:06:53.536874Z",
     "iopub.status.idle": "2023-03-20T17:06:53.541698Z",
     "shell.execute_reply": "2023-03-20T17:06:53.541073Z",
     "shell.execute_reply.started": "2023-03-20T17:06:53.537228Z"
    },
    "tags": []
   },
   "source": [
    "# Starting again"
   ]
  },
  {
   "cell_type": "code",
   "execution_count": null,
   "metadata": {
    "execution": {
     "iopub.execute_input": "2023-04-03T15:45:48.901863Z",
     "iopub.status.busy": "2023-04-03T15:45:48.901516Z",
     "iopub.status.idle": "2023-04-03T15:45:51.605539Z",
     "shell.execute_reply": "2023-04-03T15:45:51.604951Z",
     "shell.execute_reply.started": "2023-04-03T15:45:48.901845Z"
    },
    "tags": []
   },
   "outputs": [],
   "source": [
    "#Enter which image you want to look at\n",
    "[camera, num] = ['Fast', 103]\n",
    "#[camera, num] = ['Narrow', 102]\n",
    "#[camera, num] = ['Wide', 101]\n",
    "date = 20230321\n",
    "seqNum = 1160\n",
    "\n",
    "\n",
    "year = int(date/10000)\n",
    "month = int((date - 10000 * year)/100)\n",
    "day = int((date - 10000 * year - 100 * month))\n",
    "\n",
    "path = f\"/project/GenericCamera/{num}/{year}/{month:02}/{day:02}/\"\n",
    "print(path)\n",
    "filename = path + f\"GC{num}_O_{date}_{seqNum:06}.fits\"\n",
    "fast_exp = starTrackerFileToExposure(filename)\n",
    "result = solveFastCamera(filename, doPlot=False)\n"
   ]
  },
  {
   "cell_type": "markdown",
   "metadata": {},
   "source": [
    "## Now calculate the deltas from the narrow camera to the fast camera."
   ]
  },
  {
   "cell_type": "code",
   "execution_count": null,
   "metadata": {
    "tags": []
   },
   "outputs": [],
   "source": [
    "# This is a back-up\n",
    "#from lsst.afw.geom import SkyWcs\n",
    "#fast_wcs = SkyWcs.readFits('/home/mfisherlevine/temp/fastCamFits/GC103_O_20230321_001160_wcs.fits')"
   ]
  },
  {
   "cell_type": "code",
   "execution_count": null,
   "metadata": {
    "execution": {
     "iopub.execute_input": "2023-04-03T15:46:11.708249Z",
     "iopub.status.busy": "2023-04-03T15:46:11.707860Z",
     "iopub.status.idle": "2023-04-03T15:46:11.711115Z",
     "shell.execute_reply": "2023-04-03T15:46:11.710607Z",
     "shell.execute_reply.started": "2023-04-03T15:46:11.708231Z"
    },
    "tags": []
   },
   "outputs": [],
   "source": [
    "fast_wcs = result"
   ]
  },
  {
   "cell_type": "code",
   "execution_count": null,
   "metadata": {
    "execution": {
     "iopub.execute_input": "2023-04-03T19:38:34.903037Z",
     "iopub.status.busy": "2023-04-03T19:38:34.902765Z",
     "iopub.status.idle": "2023-04-03T19:38:34.906577Z",
     "shell.execute_reply": "2023-04-03T19:38:34.906170Z",
     "shell.execute_reply.started": "2023-04-03T19:38:34.903019Z"
    },
    "tags": []
   },
   "outputs": [],
   "source": [
    "rot = fast_wcs.getRelativeRotationToWcs(narrow_wcs)"
   ]
  },
  {
   "cell_type": "code",
   "execution_count": null,
   "metadata": {
    "execution": {
     "iopub.execute_input": "2023-04-03T19:38:55.942743Z",
     "iopub.status.busy": "2023-04-03T19:38:55.942464Z",
     "iopub.status.idle": "2023-04-03T19:38:55.946068Z",
     "shell.execute_reply": "2023-04-03T19:38:55.945683Z",
     "shell.execute_reply.started": "2023-04-03T19:38:55.942726Z"
    }
   },
   "outputs": [],
   "source": [
    "rot.asRadians()"
   ]
  },
  {
   "cell_type": "code",
   "execution_count": null,
   "metadata": {
    "execution": {
     "iopub.execute_input": "2023-04-03T15:36:38.434944Z",
     "iopub.status.busy": "2023-04-03T15:36:38.434672Z",
     "iopub.status.idle": "2023-04-03T15:36:38.437393Z",
     "shell.execute_reply": "2023-04-03T15:36:38.436994Z",
     "shell.execute_reply.started": "2023-04-03T15:36:38.434927Z"
    },
    "tags": []
   },
   "outputs": [],
   "source": [
    "fast_sky_origin = fast_wcs.getSkyOrigin()"
   ]
  },
  {
   "cell_type": "code",
   "execution_count": null,
   "metadata": {
    "execution": {
     "iopub.execute_input": "2023-04-03T15:36:39.214579Z",
     "iopub.status.busy": "2023-04-03T15:36:39.214312Z",
     "iopub.status.idle": "2023-04-03T15:36:39.217617Z",
     "shell.execute_reply": "2023-04-03T15:36:39.217254Z",
     "shell.execute_reply.started": "2023-04-03T15:36:39.214563Z"
    },
    "tags": []
   },
   "outputs": [],
   "source": [
    "fast_sky_origin"
   ]
  },
  {
   "cell_type": "code",
   "execution_count": null,
   "metadata": {
    "execution": {
     "iopub.execute_input": "2023-04-03T19:00:32.044827Z",
     "iopub.status.busy": "2023-04-03T19:00:32.044552Z",
     "iopub.status.idle": "2023-04-03T19:00:32.048281Z",
     "shell.execute_reply": "2023-04-03T19:00:32.047861Z",
     "shell.execute_reply.started": "2023-04-03T19:00:32.044811Z"
    },
    "tags": []
   },
   "outputs": [],
   "source": [
    "fast_wcs.getPixelScale().asArcseconds() / narrow_wcs.getPixelScale().asArcseconds()"
   ]
  },
  {
   "cell_type": "code",
   "execution_count": null,
   "metadata": {
    "execution": {
     "iopub.execute_input": "2023-04-03T18:59:48.170173Z",
     "iopub.status.busy": "2023-04-03T18:59:48.169894Z",
     "iopub.status.idle": "2023-04-03T18:59:48.173372Z",
     "shell.execute_reply": "2023-04-03T18:59:48.172961Z",
     "shell.execute_reply.started": "2023-04-03T18:59:48.170157Z"
    },
    "tags": []
   },
   "outputs": [],
   "source": [
    "test.asArcseconds()"
   ]
  },
  {
   "cell_type": "code",
   "execution_count": null,
   "metadata": {
    "execution": {
     "iopub.execute_input": "2023-04-03T15:38:20.063170Z",
     "iopub.status.busy": "2023-04-03T15:38:20.062888Z",
     "iopub.status.idle": "2023-04-03T15:38:20.066840Z",
     "shell.execute_reply": "2023-04-03T15:38:20.066420Z",
     "shell.execute_reply.started": "2023-04-03T15:38:20.063152Z"
    },
    "tags": []
   },
   "outputs": [],
   "source": [
    "narrow_wcs.skyToPixel(fast_sky_origin)\n"
   ]
  },
  {
   "cell_type": "code",
   "execution_count": null,
   "metadata": {
    "execution": {
     "iopub.execute_input": "2023-04-03T18:43:42.163408Z",
     "iopub.status.busy": "2023-04-03T18:43:42.163127Z",
     "iopub.status.idle": "2023-04-03T18:43:42.166780Z",
     "shell.execute_reply": "2023-04-03T18:43:42.166357Z",
     "shell.execute_reply.started": "2023-04-03T18:43:42.163391Z"
    },
    "tags": []
   },
   "outputs": [],
   "source": [
    "fast_exp.image.array.shape"
   ]
  },
  {
   "cell_type": "code",
   "execution_count": null,
   "metadata": {
    "execution": {
     "iopub.execute_input": "2023-04-03T19:42:19.818380Z",
     "iopub.status.busy": "2023-04-03T19:42:19.817996Z",
     "iopub.status.idle": "2023-04-03T19:42:19.823205Z",
     "shell.execute_reply": "2023-04-03T19:42:19.822814Z",
     "shell.execute_reply.started": "2023-04-03T19:42:19.818362Z"
    },
    "tags": []
   },
   "outputs": [],
   "source": [
    "def fast_corners(fast_wcs, narrow_wcs):\n",
    "    scale_ratio = fast_wcs.getPixelScale().asArcseconds() / narrow_wcs.getPixelScale().asArcseconds()\n",
    "    theta = fast_wcs.getRelativeRotationToWcs(narrow_wcs).asRadians()\n",
    "    center = narrow_wcs.skyToPixel(fast_wcs.getSkyOrigin())\n",
    "    dx0 = fast_wcs.getPixelOrigin().x * scale_ratio\n",
    "    dy0 = fast_wcs.getPixelOrigin().y * scale_ratio\n",
    "    d0 = np.array([dx0, dy0])\n",
    "    rot = np.array([[np.cos(theta), -np.sin(theta)], [np.sin(theta), np.cos(theta)]])\n",
    "\n",
    "    d = np.dot(rot, d0)\n",
    "    dx = d[0]; dy = d[1]\n",
    "    print(dx0, dy0)\n",
    "    print(dx, dy)\n",
    "    LL = [center.x-dx, center.y-dy]\n",
    "    UL = [center.x-dx, center.y+dy]\n",
    "    UR = [center.x+dx, center.y+dy]\n",
    "    LR = [center.x+dx, center.y-dy]\n",
    "    return [LL,UL,UR,LR,LL]"
   ]
  },
  {
   "cell_type": "code",
   "execution_count": null,
   "metadata": {
    "execution": {
     "iopub.execute_input": "2023-04-03T19:42:22.513204Z",
     "iopub.status.busy": "2023-04-03T19:42:22.512817Z",
     "iopub.status.idle": "2023-04-03T19:42:23.785766Z",
     "shell.execute_reply": "2023-04-03T19:42:23.785336Z",
     "shell.execute_reply.started": "2023-04-03T19:42:22.513187Z"
    },
    "tags": []
   },
   "outputs": [],
   "source": [
    "# Now plot the data with matplotlib\n",
    "%matplotlib inline\n",
    "from matplotlib.path import Path\n",
    "from matplotlib.patches import PathPatch\n",
    "def colorbar(mappable):\n",
    "    from mpl_toolkits.axes_grid1 import make_axes_locatable\n",
    "    last_axes = plt.gca()\n",
    "    ax = mappable.axes\n",
    "    fig = ax.figure\n",
    "    divider = make_axes_locatable(ax)\n",
    "    cax = divider.append_axes(\"right\", size=\"5%\", pad=0.05)\n",
    "    cbar = fig.colorbar(mappable, cax=cax)\n",
    "    plt.sca(last_axes)\n",
    "    return cbar\n",
    "\n",
    "fig, ax = plt.subplots(figsize=(16,16))\n",
    "ax.set_title(f\"StarTracker {camera}, SeqNum {seqNum}\")\n",
    "ax.imshow(narrow_exp.image.array,  interpolation='Nearest', cmap='gray', vmin=0.1, vmax=1, origin='lower')\n",
    "path = Path(fast_corners(fast_wcs, narrow_wcs))\n",
    "patch = PathPatch(path, facecolor='none', edgecolor='y')\n",
    "ax.add_patch(patch)\n",
    "im =plt.imshow(fast_exp.image.array,  interpolation='Nearest', cmap='gray', vmin=1, vmax=1000, origin='lower', \\\n",
    "               extent=[0,narrow_exp.image.array.shape[1],0,narrow_exp.image.array.shape[0]], clip_path=patch, clip_on=True, alpha=0.5)\n",
    "im.set_clip_path(patch)\n",
    "\n",
    "\n",
    "#im = ax.imshow(image)\n",
    "#patch = patches.Circle((260, 200), radius=200, transform=ax.transData)\n",
    "#im.set_clip_path(patch)\n",
    "\n",
    "#plt.imshow(fast_exp.image.array, alpha=0.5, interpolation='Nearest', cmap='gray', vmin=1, vmax=1000)\n",
    "#plt.scatter(xs, ys\\\n",
    "#            ,facecolors='none', edgecolors='g', s=1000, lw=2)\n",
    "#plt.scatter(boresight[0], boresight[1]\\\n",
    "#            ,facecolors='r', edgecolors='r', marker='X', s=100, lw=2)\n",
    "#plt.scatter(shiftX, shiftY\\\n",
    "#            ,facecolors='y', edgecolors='y', marker='X', s=100, lw=2)\n",
    "\n",
    "#for x, y, name in zip(xs, ys, names):\n",
    "#    plt.text(x+50,y, name, color='g', fontsize = 36)\n",
    "#colorbar(ax)\n",
    "plt.tight_layout(h_pad=1)\n",
    "#plt.savefig(f\"/home/craiglagegit/DATA/StarTracker_Labels_Simbad_{camera}_{date}_{seqNum}.pdf\")"
   ]
  },
  {
   "cell_type": "code",
   "execution_count": null,
   "metadata": {},
   "outputs": [],
   "source": []
  }
 ],
 "metadata": {
  "kernelspec": {
   "display_name": "LSST",
   "language": "python",
   "name": "lsst"
  },
  "language_info": {
   "codemirror_mode": {
    "name": "ipython",
    "version": 3
   },
   "file_extension": ".py",
   "mimetype": "text/x-python",
   "name": "python",
   "nbconvert_exporter": "python",
   "pygments_lexer": "ipython3",
   "version": "3.10.9"
  }
 },
 "nbformat": 4,
 "nbformat_minor": 4
}
