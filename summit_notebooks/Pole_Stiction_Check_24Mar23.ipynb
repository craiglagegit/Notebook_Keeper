{
 "cells": [
  {
   "cell_type": "markdown",
   "id": "3dbf3c0c",
   "metadata": {},
   "source": [
    "# Pole stiction\n",
    "\n",
    "This notebook is intended to characterize the slow speed stiction problem \\\n",
    "at the pole by spiraling into the pole where the tracking speeds will be slower and slower. \\\n",
    "Craig Lage - 17-Oct-22"
   ]
  },
  {
   "cell_type": "code",
   "execution_count": null,
   "id": "b9b61b70",
   "metadata": {
    "execution": {
     "iopub.execute_input": "2023-03-24T16:09:15.591966Z",
     "iopub.status.busy": "2023-03-24T16:09:15.591604Z",
     "iopub.status.idle": "2023-03-24T16:09:15.595734Z",
     "shell.execute_reply": "2023-03-24T16:09:15.595251Z",
     "shell.execute_reply.started": "2023-03-24T16:09:15.591948Z"
    },
    "tags": []
   },
   "outputs": [],
   "source": [
    "import asyncio\n",
    "import time\n",
    "import os\n",
    "import numpy as np\n",
    "import matplotlib.pyplot as plt\n",
    "from astropy.time import Time\n",
    "from astropy.coordinates import AltAz, ICRS, EarthLocation, Angle, FK5, SkyCoord\n",
    "import astropy.units as u\n",
    "from lsst.ts import salobj\n",
    "\n",
    "from lsst.ts.observatory.control.auxtel.atcs import ATCS\n",
    "from lsst.ts.observatory.control.auxtel.latiss import LATISS\n",
    "from lsst.ts.observatory.control.utils import RotType"
   ]
  },
  {
   "cell_type": "code",
   "execution_count": null,
   "id": "0755fd07",
   "metadata": {
    "execution": {
     "iopub.execute_input": "2023-03-24T16:04:18.084671Z",
     "iopub.status.busy": "2023-03-24T16:04:18.084499Z",
     "iopub.status.idle": "2023-03-24T16:04:18.087174Z",
     "shell.execute_reply": "2023-03-24T16:04:18.086830Z",
     "shell.execute_reply.started": "2023-03-24T16:04:18.084656Z"
    },
    "tags": []
   },
   "outputs": [],
   "source": [
    "logger = logging.getLogger(f\"Daytime Checkout {Time.now()} UT\")\n",
    "logger.level = logging.DEBUG"
   ]
  },
  {
   "cell_type": "code",
   "execution_count": null,
   "id": "e80647f9",
   "metadata": {
    "execution": {
     "iopub.execute_input": "2023-03-24T16:04:18.088182Z",
     "iopub.status.busy": "2023-03-24T16:04:18.087965Z",
     "iopub.status.idle": "2023-03-24T16:04:18.095895Z",
     "shell.execute_reply": "2023-03-24T16:04:18.095534Z",
     "shell.execute_reply.started": "2023-03-24T16:04:18.088168Z"
    },
    "tags": []
   },
   "outputs": [],
   "source": [
    "logger.info(os.environ[\"OSPL_URI\"])\n",
    "logger.info(os.environ[\"LSST_DDS_PARTITION_PREFIX\"])"
   ]
  },
  {
   "cell_type": "markdown",
   "id": "a9cd22ea",
   "metadata": {},
   "source": [
    "### Instantiate the control classes"
   ]
  },
  {
   "cell_type": "code",
   "execution_count": null,
   "id": "f651e5d9",
   "metadata": {
    "execution": {
     "iopub.execute_input": "2023-03-24T16:04:38.172200Z",
     "iopub.status.busy": "2023-03-24T16:04:38.171921Z",
     "iopub.status.idle": "2023-03-24T16:04:53.360051Z",
     "shell.execute_reply": "2023-03-24T16:04:53.359449Z",
     "shell.execute_reply.started": "2023-03-24T16:04:38.172184Z"
    },
    "tags": []
   },
   "outputs": [],
   "source": [
    "domain = salobj.Domain()\n",
    "atcs = ATCS(domain)\n",
    "latiss = LATISS(domain)\n",
    "await asyncio.gather(atcs.start_task, latiss.start_task)\n",
    "await atcs.assert_liveliness()"
   ]
  },
  {
   "cell_type": "markdown",
   "id": "50d3b4be",
   "metadata": {},
   "source": [
    "## Enable LATISS and ATCS"
   ]
  },
  {
   "cell_type": "markdown",
   "id": "e3119deb-3ae5-46d3-812f-39df473b799e",
   "metadata": {
    "tags": []
   },
   "source": [
    "### Plot planned locations in RA/Dec space"
   ]
  },
  {
   "cell_type": "code",
   "execution_count": null,
   "id": "e2e2859e-c2c2-4b6a-8ff3-35715a811c6f",
   "metadata": {
    "execution": {
     "iopub.execute_input": "2023-03-24T16:06:18.578202Z",
     "iopub.status.busy": "2023-03-24T16:06:18.577819Z",
     "iopub.status.idle": "2023-03-24T16:06:18.800252Z",
     "shell.execute_reply": "2023-03-24T16:06:18.799714Z",
     "shell.execute_reply.started": "2023-03-24T16:06:18.578183Z"
    },
    "tags": []
   },
   "outputs": [],
   "source": [
    "%matplotlib inline\n",
    "ra = 12.0\n",
    "deltaRa = 2.5\n",
    "logCosDec = -0.8\n",
    "deltaLogCosDec = -0.1\n",
    "thetas = []\n",
    "decs = []\n",
    "for i in range(22):\n",
    "    theta = ra * 15.0\n",
    "    dec = - np.arccos(10**logCosDec) * 180.0 / np.pi\n",
    "    #print(logCosDec, dec, 90.0-dec)\n",
    "    thetas.append(theta / 180.0 * np.pi)\n",
    "    decs.append(90.0 + dec)\n",
    "    #print(theta, 90.0-dec)\n",
    "    ra += deltaRa\n",
    "    logCosDec += deltaLogCosDec\n",
    "fig, ax = plt.subplots(subplot_kw={'projection': 'polar'})\n",
    "ax.plot(thetas, decs, marker = 'x')\n",
    "ax.set_rmax(10.0)\n",
    "ax.set_rticks([5.0, 10.0])  # Less radial ticks\n",
    "#ax.set_rlabel_position(-22.5)  # Move radial labels away from plotted line\n",
    "ax.grid(True)\n",
    "\n",
    "ax.set_title(\"Planned Stiction Points\\nR shows distance from pole in degrees\\n 40 points total\")\n",
    "plt.show()"
   ]
  },
  {
   "cell_type": "markdown",
   "id": "3fc32bc5-5f36-4e5a-bcfd-27c3a9eeec21",
   "metadata": {
    "tags": []
   },
   "source": [
    "### Now run the actual test, taking a 30 second image at each location."
   ]
  },
  {
   "cell_type": "code",
   "execution_count": null,
   "id": "449950cc-ce9a-4e4a-8367-fe880a4982b2",
   "metadata": {
    "execution": {
     "iopub.execute_input": "2023-03-24T16:04:57.220926Z",
     "iopub.status.busy": "2023-03-24T16:04:57.220547Z",
     "iopub.status.idle": "2023-03-24T16:04:57.225256Z",
     "shell.execute_reply": "2023-03-24T16:04:57.224755Z",
     "shell.execute_reply.started": "2023-03-24T16:04:57.220907Z"
    },
    "tags": []
   },
   "outputs": [],
   "source": [
    "# Move to starting location\n",
    "ra = 12.0\n",
    "logCosDec = -0.8\n",
    "start_rot = 0.0\n",
    "dec = - np.arccos(10**logCosDec) * 180.0 / np.pi\n",
    "print(ra, dec)\n",
    "#await atcs.slew_icrs(ra, dec, start_rot)"
   ]
  },
  {
   "cell_type": "code",
   "execution_count": null,
   "id": "6897aaac-84b7-4a47-adae-e03bf57288b9",
   "metadata": {
    "execution": {
     "iopub.execute_input": "2023-03-24T16:10:10.273025Z",
     "iopub.status.busy": "2023-03-24T16:10:10.272630Z",
     "iopub.status.idle": "2023-03-24T16:10:10.379022Z",
     "shell.execute_reply": "2023-03-24T16:10:10.378406Z",
     "shell.execute_reply.started": "2023-03-24T16:10:10.273006Z"
    },
    "tags": []
   },
   "outputs": [],
   "source": [
    "# Now run the actual test\n",
    "# First image is 2023032100008\n",
    "# ATPtg faulted at seqNum 23 for rotator out of range\n",
    "# Moving on to reverse direction, setting rotator to physical 0\n",
    "# This will speed things up.\n",
    "ra = 12.0\n",
    "deltaRa = 2.5\n",
    "logCosDec = -0.8\n",
    "deltaLogCosDec = -0.1\n",
    "start_rot = 0.0\n",
    "for i in range(22):\n",
    "    dec = - np.arccos(10**logCosDec) * 180.0 / np.pi\n",
    "    ra += deltaRa\n",
    "    logCosDec += deltaLogCosDec\n",
    "    azel = atcs.azel_from_radec(Angle(ra*u.deg), Angle(dec*u.deg))\n",
    "    print(ra, dec, azel.az.deg, azel.alt.deg)\n",
    "    #await atcs.slew_icrs(ra, dec, rot=start_rot, rot_type=RotType.Physical)\n",
    "    #await latiss.take_engtest(30.0, filter='empty_1',grating='empty_1')\n"
   ]
  },
  {
   "cell_type": "code",
   "execution_count": null,
   "id": "d87f7ffb-23a0-40e0-8843-0bc61d8d7561",
   "metadata": {},
   "outputs": [],
   "source": []
  }
 ],
 "metadata": {
  "kernelspec": {
   "display_name": "LSST",
   "language": "python",
   "name": "lsst"
  },
  "language_info": {
   "codemirror_mode": {
    "name": "ipython",
    "version": 3
   },
   "file_extension": ".py",
   "mimetype": "text/x-python",
   "name": "python",
   "nbconvert_exporter": "python",
   "pygments_lexer": "ipython3",
   "version": "3.10.9"
  }
 },
 "nbformat": 4,
 "nbformat_minor": 5
}
