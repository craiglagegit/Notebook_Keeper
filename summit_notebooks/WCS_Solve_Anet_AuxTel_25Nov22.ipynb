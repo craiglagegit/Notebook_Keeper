{
 "cells": [
  {
   "cell_type": "markdown",
   "metadata": {},
   "source": [
    "## WCS solutions for AuxTel - 24-Nov-22\n",
    "\n",
    "Craig Lage "
   ]
  },
  {
   "cell_type": "code",
   "execution_count": null,
   "metadata": {},
   "outputs": [],
   "source": [
    "import sys, time, os, asyncio, glob\n",
    "from datetime import datetime\n",
    "import numpy as np\n",
    "import matplotlib.pyplot as plt\n",
    "import astropy.io.fits as pf\n",
    "from astropy.time import Time, TimeDelta\n",
    "from astropy.coordinates import AltAz, ICRS, EarthLocation, Angle, FK5, SkyCoord\n",
    "import astropy.units as u\n",
    "from lsst.obs.lsst.translators.latiss import AUXTEL_LOCATION\n",
    "from lsst.obs.lsst.translators.lsst import SIMONYI_LOCATION\n",
    "from astroquery.astrometry_net import AstrometryNet\n",
    "\n",
    "import lsst.afw.image as afwImage\n",
    "from lsst.summit.utils.blindSolving import runImchar, CommandLineSolver\n",
    "# This requires to be on the tickets/DM-31175 of summit_utils\n",
    "from lsst.summit.utils import BestEffortIsr\n",
    "from lsst.daf.butler import Butler"
   ]
  },
  {
   "cell_type": "code",
   "execution_count": null,
   "metadata": {},
   "outputs": [],
   "source": [
    "solver = CommandLineSolver(indexFiles='/scratch/mfisherlevine/astrometry_net/broiler.astrometry.net/~dstn/4100',\n",
    "                           checkInParallel=True)\n",
    "best_effort_isr = BestEffortIsr()"
   ]
  },
  {
   "cell_type": "code",
   "execution_count": null,
   "metadata": {
    "tags": []
   },
   "outputs": [],
   "source": [
    "butler = Butler('/repo/LATISS', collections=[\"LATISS/raw/all\", \"LATISS/calib\"])\n",
    "dataId = {'day_obs': 20221025, 'seq_num': 253, 'detector': 0, \"instrument\": 'LATISS'}\n",
    "best_effort_isr.doWrite = False  # Don't write to butler database\n",
    "exp = best_effort_isr.getExposure(dataId, skipCosmics=False)\n",
    "mData = butler.get('raw.metadata', dataId=dataId)"
   ]
  },
  {
   "cell_type": "code",
   "execution_count": null,
   "metadata": {},
   "outputs": [],
   "source": [
    "# This uses the local solver, but has been failing to solve.\n",
    "# I don't know why\n",
    "results = runImchar(exp, 5, 25)\n",
    "solverResults = solver.run(exp, results.sourceCat, silent=True)\n"
   ]
  },
  {
   "cell_type": "code",
   "execution_count": null,
   "metadata": {},
   "outputs": [],
   "source": [
    "# So we'll use the remote astrometry.net solver\n",
    "ast = AstrometryNet()\n",
    "ast.api_key = 'xxawwhvleirxcswx'"
   ]
  },
  {
   "cell_type": "code",
   "execution_count": null,
   "metadata": {},
   "outputs": [],
   "source": [
    "sourceCat = results.sourceCat\n",
    "x = sourceCat.getColumnView().getX()\n",
    "y = sourceCat.getColumnView().getY()\n",
    "wcs = exp.getWcs()\n",
    "image_width = int(mData['DETSIZE'].strip('[]').split(',')[0].split(':')[1])\n",
    "image_height = int(mData['DETSIZE'].strip('[]').split(',')[1].split(':')[1])\n",
    "scale_units = 'arcsecperpix'\n",
    "scale_type='ev' # ev means submit estimate and % error\n",
    "scale_est = wcs.getPixelScale().asArcseconds()\n",
    "scale_err = 2.0\n",
    "center_ra = mData['RA']\n",
    "center_dec = mData['DEC']\n",
    "radius = 0.5\n",
    "wcs_anet = ast.solve_from_source_list(x, y, \n",
    "                                        image_width, image_height, scale_units=scale_units,\n",
    "                                        scale_type=scale_type, scale_est=scale_est, scale_err=scale_err,\n",
    "                                        center_ra=center_ra, center_dec=center_dec, radius=radius,\n",
    "                                        crpix_center=True, solve_timeout=240)"
   ]
  },
  {
   "cell_type": "markdown",
   "metadata": {},
   "source": [
    "### Now compare the results\n",
    "\n",
    "\n",
    "We've constrained a.net to put the pixel origin in the center, but this is not the case for\\\n",
    "the DM wcs.  So we need to find the DM wcs coordinates at the origin, and then compare to \\\n",
    "the a.net solution."
   ]
  },
  {
   "cell_type": "code",
   "execution_count": null,
   "metadata": {},
   "outputs": [],
   "source": [
    "# Get the DM wcs coordinates of the center pixel:\n",
    "DM_center = wcs.pixelToSky(wcs_anet['CRPIX1'], wcs_anet['CRPIX2'])\n",
    "DM_RA_Dec = (DM_center.getRa().asDegrees(), DM_center.getDec().asDegrees())\n",
    "print(f\"DM center pix RA/Dec = {DM_RA_Dec[0]}, {DM_RA_Dec[1]} degrees\")\n",
    "Anet_RA_Dec = (wcs_anet['CRVAL1'], wcs_anet['CRVAL2'])\n",
    "print(f\"Anet center pix RA/Dec = {Anet_RA_Dec[0]}, {Anet_RA_Dec[1]} degrees\")\n",
    "Diff = ((DM_RA_Dec[0] - Anet_RA_Dec[0]) * 3600.0, (DM_RA_Dec[1] - Anet_RA_Dec[1]) * 3600.0)\n",
    "print(f\"Difference center pix RA/Dec = {Diff[0]}, {Diff[1]} arcseconds\")"
   ]
  },
  {
   "cell_type": "code",
   "execution_count": null,
   "metadata": {},
   "outputs": [],
   "source": [
    "# Now look at the data with matplotlib\n",
    "# This shows which objects were used by a.net\n",
    "%matplotlib inline\n",
    "from matplotlib.colors import LogNorm\n",
    "\n",
    "def colorbar(mappable):\n",
    "    from mpl_toolkits.axes_grid1 import make_axes_locatable\n",
    "    last_axes = plt.gca()\n",
    "    ax = mappable.axes\n",
    "    fig = ax.figure\n",
    "    divider = make_axes_locatable(ax)\n",
    "    cax = divider.append_axes(\"right\", size=\"5%\", pad=0.05)\n",
    "    cbar = fig.colorbar(mappable, cax=cax)\n",
    "    plt.sca(last_axes)\n",
    "    return cbar\n",
    "\n",
    "plt.figure(figsize=(8,8))\n",
    "plt.suptitle(f\"Image\",fontsize=18)\n",
    "arr = exp.image.array\n",
    "img = plt.imshow(arr, vmin=1, vmax=20, interpolation='Nearest', cmap='gray')\n",
    "colorbar(img)\n",
    "plt.tight_layout(h_pad=1)\n",
    "plt.scatter(x,y,facecolors='none', edgecolors='y', s=200, lw=2)"
   ]
  },
  {
   "cell_type": "code",
   "execution_count": null,
   "metadata": {},
   "outputs": [],
   "source": []
  }
 ],
 "metadata": {
  "kernelspec": {
   "display_name": "LSST",
   "language": "python",
   "name": "lsst"
  },
  "language_info": {
   "codemirror_mode": {
    "name": "ipython",
    "version": 3
   },
   "file_extension": ".py",
   "mimetype": "text/x-python",
   "name": "python",
   "nbconvert_exporter": "python",
   "pygments_lexer": "ipython3",
   "version": "3.10.6"
  }
 },
 "nbformat": 4,
 "nbformat_minor": 4
}
