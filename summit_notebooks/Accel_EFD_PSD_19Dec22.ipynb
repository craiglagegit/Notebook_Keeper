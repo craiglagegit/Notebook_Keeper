{
 "cells": [
  {
   "cell_type": "markdown",
   "id": "153412e6",
   "metadata": {},
   "source": [
    "# AuxTel accelerometer PSD - 19-Dec-22\n",
    "Querying AuxTel accelerometers \\\n",
    "Craig Lage"
   ]
  },
  {
   "cell_type": "code",
   "execution_count": null,
   "id": "fcd0a71e",
   "metadata": {
    "execution": {
     "iopub.execute_input": "2022-12-19T14:47:58.627694Z",
     "iopub.status.busy": "2022-12-19T14:47:58.627426Z",
     "iopub.status.idle": "2022-12-19T14:47:59.612955Z",
     "shell.execute_reply": "2022-12-19T14:47:59.612487Z",
     "shell.execute_reply.started": "2022-12-19T14:47:58.627677Z"
    }
   },
   "outputs": [],
   "source": [
    "import sys, time, os, asyncio\n",
    "from datetime import datetime\n",
    "import numpy as np\n",
    "import matplotlib.pyplot as plt\n",
    "from matplotlib.backends.backend_pdf import PdfPages\n",
    "import pandas as pd\n",
    "from astropy.time import Time, TimeDelta\n",
    "from lsst.daf.butler import Butler\n",
    "from lsst_efd_client.efd_helper import EfdClient"
   ]
  },
  {
   "cell_type": "code",
   "execution_count": null,
   "id": "aed2b09e",
   "metadata": {
    "execution": {
     "iopub.execute_input": "2022-12-19T14:47:59.619544Z",
     "iopub.status.busy": "2022-12-19T14:47:59.619200Z",
     "iopub.status.idle": "2022-12-19T14:48:06.960636Z",
     "shell.execute_reply": "2022-12-19T14:48:06.960164Z",
     "shell.execute_reply.started": "2022-12-19T14:47:59.619523Z"
    }
   },
   "outputs": [],
   "source": [
    "# Get EFD client\n",
    "client = EfdClient('summit_efd')"
   ]
  },
  {
   "cell_type": "code",
   "execution_count": null,
   "id": "67ae66e7-19bd-401c-9468-b56b74bc53d8",
   "metadata": {
    "execution": {
     "iopub.execute_input": "2022-12-19T14:48:06.965623Z",
     "iopub.status.busy": "2022-12-19T14:48:06.965426Z",
     "iopub.status.idle": "2022-12-19T14:48:06.971891Z",
     "shell.execute_reply": "2022-12-19T14:48:06.971534Z",
     "shell.execute_reply.started": "2022-12-19T14:48:06.965607Z"
    }
   },
   "outputs": [],
   "source": [
    "# Just using this in the notebook for now.\n",
    "def merge_packed_PSD(packed_dataframe, base_field, sensor_names):\n",
    "    \"\"\"Select fields that represent the Power Spectral Density of \\                                                          \n",
    "    a sensor and unpack them into a dataframe with PSD vs frequency.                                                         \n",
    "    Parameters                                                                                                               \n",
    "    ----------                                                                                                               \n",
    "    packed_dataframe : `pandas.DataFrame`                                                                                    \n",
    "        packed data frame containing the desired data                                                                        \n",
    "    base_field :  `str`                                                                                                      \n",
    "        Base field name that will be expanded to query all                                                                   \n",
    "        vector entries.                                                                                                      \n",
    "    sensor_name :  `str` or list                                                                                             \n",
    "        Name of the sensor(s) of interest.                                                                                   \n",
    "    Returns                                                                                                                  \n",
    "    -------                                                                                                                  \n",
    "    result : `pandas.DataFrame`                                                                                              \n",
    "        A `pandas.DataFrame` containing the results of the query.                                                            \n",
    "    \"\"\"\n",
    "    minPSDFrequency = packed_dataframe['minPSDFrequency'][0]\n",
    "    maxPSDFrequency = packed_dataframe['maxPSDFrequency'][0]\n",
    "    numDataPoints = packed_dataframe['numDataPoints'][0]\n",
    "    if isinstance(sensor_names, str):\n",
    "        sensor_names = [sensor_names, ]\n",
    "\n",
    "    packed_dataframe = packed_dataframe.loc[packed_dataframe.sensorName.isin(sensor_names)]\n",
    "    packed_fields = [k for k in packed_dataframe.keys()\n",
    "                     if k.startswith(base_field) and k[len(base_field):].isdigit()]\n",
    "    packed_fields = sorted(packed_fields, key=lambda k: int(k[len(base_field):]))  # sort by pack ID                         \n",
    "    npack = len(packed_fields)\n",
    "    assert numDataPoints == npack, \"Number of packed data points does not match numDataPoints!\"\n",
    "    packed_len = len(packed_dataframe)\n",
    "    output = np.empty(npack * packed_len)\n",
    "    deltaF = float(maxPSDFrequency - minPSDFrequency) / (npack - 1) # Frequency step                                         \n",
    "    columns = []\n",
    "    for i in range(npack):\n",
    "        label = f\"{base_field}{i}\"\n",
    "        columns.append(minPSDFrequency + i * deltaF)\n",
    "        output[i::npack] = packed_dataframe[label]\n",
    "    output = np.reshape(output, (packed_len, npack))\n",
    "    return pd.DataFrame(data=output, columns=columns, index=packed_dataframe.index)\n",
    "\n",
    "# This dictionary defines the axis scramble\n",
    "trueAxes = {'AuxTel-M1':{'X':'El', 'Y':'Az', 'Z':'Opt'}, \\\n",
    "            'AuxTel-M2':{'X':'El', 'Y':'Az', 'Z':'Opt'}, \\\n",
    "            'AuxTel-Truss':{'X':'El', 'Y':'Opt', 'Z':'Az'}}"
   ]
  },
  {
   "cell_type": "code",
   "execution_count": null,
   "id": "b8c90662-31f2-4da1-8647-01c6fa8e5a45",
   "metadata": {
    "execution": {
     "iopub.execute_input": "2022-12-19T14:48:55.647822Z",
     "iopub.status.busy": "2022-12-19T14:48:55.647552Z",
     "iopub.status.idle": "2022-12-19T14:48:55.651217Z",
     "shell.execute_reply": "2022-12-19T14:48:55.650804Z",
     "shell.execute_reply.started": "2022-12-19T14:48:55.647804Z"
    },
    "tags": []
   },
   "outputs": [],
   "source": [
    "# Times to start looking at PSD data\n",
    "start = Time(\"2022-12-19 13:00:00Z\", scale='utc')\n",
    "end = Time(\"2022-12-19 13:00:30Z\", scale='utc')"
   ]
  },
  {
   "cell_type": "code",
   "execution_count": null,
   "id": "92c618db-2e1d-41f3-bbc2-f9152474d6f4",
   "metadata": {
    "execution": {
     "iopub.execute_input": "2022-12-19T14:50:20.113284Z",
     "iopub.status.busy": "2022-12-19T14:50:20.112805Z",
     "iopub.status.idle": "2022-12-19T14:50:23.425427Z",
     "shell.execute_reply": "2022-12-19T14:50:23.424997Z",
     "shell.execute_reply.started": "2022-12-19T14:50:20.113237Z"
    },
    "tags": []
   },
   "outputs": [],
   "source": [
    "accel_data = await client.select_time_series(\"lsst.sal.ESS.accelerometerPSD\", [\"*\"], start, end)\n",
    "\n",
    "indexCounter = 0\n",
    "plt.figure(figsize=(16,16))\n",
    "plt.subplots_adjust(wspace=0.5, hspace=0.3)\n",
    "axes = ['X', 'Y', 'Z']\n",
    "sensors = [\"AuxTel-M1\", \"AuxTel-M2\", \"AuxTel-Truss\"]\n",
    "plotCounter = 1\n",
    "for sensor in sensors:\n",
    "    for axis in axes:\n",
    "        base_field = f\"accelerationPSD{axis}\"\n",
    "        plt.subplot(3,3,plotCounter)\n",
    "        plt.title(f\"{sensor} - {axis}\", fontsize=12)\n",
    "        df = merge_packed_PSD(accel_data, base_field, sensor)\n",
    "        row = df.iloc[indexCounter][2:]\n",
    "        row.plot()\n",
    "        plt.xlabel('Frequency [Hz]')\n",
    "        plt.ylabel('PSD [m^2/(Hz s^4)]')\n",
    "        plt.ylim(0.0, 5.0E-10)\n",
    "        plotCounter += 1\n",
    "timestamp = df.index[0].strftime(\"%Y%m%dT%H%M%SZ\")\n",
    "plt.suptitle(f\"Accelerometer Power Spectral Density - {timestamp}\", fontsize=16)\n",
    "#plt.savefig(f\"/home/craiglagegit/DATA/Accel_PSD_{timestamp}.pdf\")\n"
   ]
  },
  {
   "cell_type": "code",
   "execution_count": null,
   "id": "fedff787-90a8-4df1-9982-52f4c4962926",
   "metadata": {},
   "outputs": [],
   "source": []
  }
 ],
 "metadata": {
  "jupytext": {
   "formats": "ipynb,markdown//md"
  },
  "kernelspec": {
   "display_name": "LSST",
   "language": "python",
   "name": "lsst"
  },
  "language_info": {
   "codemirror_mode": {
    "name": "ipython",
    "version": 3
   },
   "file_extension": ".py",
   "mimetype": "text/x-python",
   "name": "python",
   "nbconvert_exporter": "python",
   "pygments_lexer": "ipython3",
   "version": "3.10.6"
  }
 },
 "nbformat": 4,
 "nbformat_minor": 5
}
