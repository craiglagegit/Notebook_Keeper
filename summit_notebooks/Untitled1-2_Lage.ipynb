{
 "cells": [
  {
   "cell_type": "code",
   "execution_count": null,
   "id": "68d07a79-3bf8-4013-9a13-51325b4c98a3",
   "metadata": {
    "execution": {
     "iopub.execute_input": "2024-02-26T17:53:34.909864Z",
     "iopub.status.busy": "2024-02-26T17:53:34.909689Z",
     "iopub.status.idle": "2024-02-26T17:53:38.564061Z",
     "shell.execute_reply": "2024-02-26T17:53:38.563468Z",
     "shell.execute_reply.started": "2024-02-26T17:53:34.909848Z"
    }
   },
   "outputs": [],
   "source": [
    "from lsst.daf.butler import Butler\n",
    "import lsst.afw.display as afwDisplay\n",
    "import lsst.afw.image as afwImage\n",
    "import matplotlib.pyplot as plt\n",
    "from lsst.ip.isr.isrTask import IsrTask\n",
    "import numpy\n",
    "from matplotlib.patches import Rectangle\n",
    "import pylab\n",
    "from astropy.stats import mad_std\n"
   ]
  },
  {
   "cell_type": "code",
   "execution_count": null,
   "id": "219210bc-1c4e-4af4-a903-51ff801c1587",
   "metadata": {},
   "outputs": [],
   "source": [
    "def display(exposure,title=None,frame=0):\n",
    "    afw_display = afwDisplay.Display(frame=frame, backend='matplotlib')\n",
    "    afw_display.scale('asinh', 'zscale')\n",
    "    afw_display.setMaskTransparency(20)\n",
    "#    afw_display.mtv(exposure.getMaskedImage())\n",
    "    afw_display.mtv(exposure.getImage())\n",
    "    \n",
    "    maskPlaneDict = exposure.getMask().getMaskPlaneDict()\n",
    "    maskKeyColorList = []\n",
    "    for k in maskPlaneDict.keys():\n",
    "        if afw_display.getMaskPlaneColor(k) is not None:\n",
    "            maskKeyColorList.append(k + \":\" + afw_display.getMaskPlaneColor(k))\n",
    "    print(maskKeyColorList)\n",
    "    plt.title(title)\n",
    "\n"
   ]
  },
  {
   "cell_type": "code",
   "execution_count": null,
   "id": "7202c80c-34e9-4bd3-9d84-3dea129ae58a",
   "metadata": {
    "execution": {
     "iopub.execute_input": "2024-02-26T17:53:38.569671Z",
     "iopub.status.busy": "2024-02-26T17:53:38.569344Z",
     "iopub.status.idle": "2024-02-26T17:53:38.840417Z",
     "shell.execute_reply": "2024-02-26T17:53:38.839850Z",
     "shell.execute_reply.started": "2024-02-26T17:53:38.569652Z"
    }
   },
   "outputs": [],
   "source": [
    "butler = Butler('/repo/LATISS', collections=[\"LATISS/raw/all\", \"LATISS/calib\", \"LATISS/runs/quickLook\",'LATISS/calib/daily'])\n",
    "dataId = dict(day_obs=20240223, detector=0, seq_num=577)"
   ]
  },
  {
   "cell_type": "code",
   "execution_count": null,
   "id": "905a2fd2-6c61-438b-9f37-4715536a4b07",
   "metadata": {
    "execution": {
     "iopub.execute_input": "2024-02-26T17:53:38.842721Z",
     "iopub.status.busy": "2024-02-26T17:53:38.842569Z",
     "iopub.status.idle": "2024-02-26T17:53:43.500209Z",
     "shell.execute_reply": "2024-02-26T17:53:43.499585Z",
     "shell.execute_reply.started": "2024-02-26T17:53:38.842696Z"
    }
   },
   "outputs": [],
   "source": [
    "from lsst.summit.utils.bestEffort import BestEffortIsr\n",
    "bestEffort = BestEffortIsr()\n",
    "\n",
    "be=bestEffort.getExposure(dataId)"
   ]
  },
  {
   "cell_type": "code",
   "execution_count": null,
   "id": "4da14a56-94a9-4352-8f23-fc76157836a8",
   "metadata": {
    "execution": {
     "iopub.execute_input": "2024-02-26T17:54:57.427605Z",
     "iopub.status.busy": "2024-02-26T17:54:57.427333Z",
     "iopub.status.idle": "2024-02-26T17:54:58.158979Z",
     "shell.execute_reply": "2024-02-26T17:54:58.158402Z",
     "shell.execute_reply.started": "2024-02-26T17:54:57.427586Z"
    }
   },
   "outputs": [],
   "source": [
    "%matplotlib inline\n",
    "display(be)"
   ]
  },
  {
   "cell_type": "code",
   "execution_count": null,
   "id": "09c6ced0-329a-4318-af55-9ea4538bdef0",
   "metadata": {
    "execution": {
     "iopub.execute_input": "2024-02-26T17:54:53.935342Z",
     "iopub.status.busy": "2024-02-26T17:54:53.934965Z",
     "iopub.status.idle": "2024-02-26T17:54:53.942035Z",
     "shell.execute_reply": "2024-02-26T17:54:53.941088Z",
     "shell.execute_reply.started": "2024-02-26T17:54:53.935312Z"
    }
   },
   "outputs": [],
   "source": [
    "def display(exposure,title=None):\n",
    "    afwDisplay.setDefaultBackend('matplotlib') \n",
    "    fig = plt.figure(figsize=(10,10))\n",
    "    afw_display = afwDisplay.Display(1)\n",
    "    afw_display.scale('linear', 'zscale')\n",
    "    afw_display.mtv(exposure.getImage())\n",
    "    plt.title(title)"
   ]
  },
  {
   "cell_type": "code",
   "execution_count": null,
   "id": "4f1ae9b3-af83-4bf0-ac2b-78f280420b6d",
   "metadata": {
    "execution": {
     "iopub.execute_input": "2024-02-26T18:42:03.752631Z",
     "iopub.status.busy": "2024-02-26T18:42:03.751969Z",
     "iopub.status.idle": "2024-02-26T18:42:03.760696Z",
     "shell.execute_reply": "2024-02-26T18:42:03.759892Z",
     "shell.execute_reply.started": "2024-02-26T18:42:03.752597Z"
    }
   },
   "outputs": [],
   "source": [
    "from lsst.summit.utils import quickSmooth\n",
    "from mpl_toolkits.axes_grid1 import make_axes_locatable\n",
    "import numpy as np\n",
    "def plotExp(exposure):\n",
    "    # Borrowed from summit utils\n",
    "    data = quickSmooth(exposure.image.array, 1)\n",
    "    vmin = np.nanpercentile(data, 1)\n",
    "    vmax = np.nanpercentile(data, 99)\n",
    "    print(vmin, vmax)\n",
    "    figure = plt.figure(figsize=(12,12))\n",
    "    figure.clear()\n",
    "    ax1 = figure.add_subplot(111)\n",
    "    im1 = ax1.imshow(data, cmap='gray', origin='lower', vmin=vmin, vmax=vmax)\n",
    "    ax1.tick_params(which=\"major\", direction=\"in\", top=True, right=True, labelsize=8)\n",
    "    divider = make_axes_locatable(ax1)\n",
    "    cax = divider.append_axes(\"right\", size=\"5%\", pad=0.05)\n",
    "    plt.colorbar(im1, cax=cax)\n",
    "    plt.tight_layout()\n",
    "    return figure, vmin, vmax\n"
   ]
  },
  {
   "cell_type": "code",
   "execution_count": null,
   "id": "2b72b3ab-39d2-4f3d-9943-bdaa56e25b01",
   "metadata": {
    "execution": {
     "iopub.execute_input": "2024-02-26T18:43:39.363772Z",
     "iopub.status.busy": "2024-02-26T18:43:39.362917Z",
     "iopub.status.idle": "2024-02-26T18:43:42.504510Z",
     "shell.execute_reply": "2024-02-26T18:43:42.503725Z",
     "shell.execute_reply.started": "2024-02-26T18:43:39.363740Z"
    }
   },
   "outputs": [],
   "source": [
    "plotExp(be)\n",
    "plt.savefig(\"Test.png\")"
   ]
  },
  {
   "cell_type": "code",
   "execution_count": null,
   "id": "ad438666-0445-4d51-bb24-497b22687afb",
   "metadata": {},
   "outputs": [],
   "source": []
  }
 ],
 "metadata": {
  "kernelspec": {
   "display_name": "LSST",
   "language": "python",
   "name": "lsst"
  },
  "language_info": {
   "codemirror_mode": {
    "name": "ipython",
    "version": 3
   },
   "file_extension": ".py",
   "mimetype": "text/x-python",
   "name": "python",
   "nbconvert_exporter": "python",
   "pygments_lexer": "ipython3",
   "version": "3.11.7"
  }
 },
 "nbformat": 4,
 "nbformat_minor": 5
}
