{
 "cells": [
  {
   "cell_type": "markdown",
   "id": "3dbf3c0c",
   "metadata": {},
   "source": [
    "# Azimuth oscillations \n",
    "\n",
    "Repeating the azimuth oscillations in preparation for trying the \\\n",
    "\"go past and come back\" idea.\n",
    "Craig Lage - 22Sep23"
   ]
  },
  {
   "cell_type": "code",
   "execution_count": null,
   "id": "b9b61b70",
   "metadata": {
    "execution": {
     "iopub.execute_input": "2023-09-22T18:43:39.659752Z",
     "iopub.status.busy": "2023-09-22T18:43:39.659374Z",
     "iopub.status.idle": "2023-09-22T18:43:39.719019Z",
     "shell.execute_reply": "2023-09-22T18:43:39.718162Z",
     "shell.execute_reply.started": "2023-09-22T18:43:39.659724Z"
    },
    "tags": []
   },
   "outputs": [],
   "source": [
    "import asyncio\n",
    "import time\n",
    "import os\n",
    "import numpy as np\n",
    "import matplotlib.pyplot as plt\n",
    "import pandas as pd\n",
    "from astropy.time import Time\n",
    "\n",
    "from lsst.ts import salobj\n",
    "\n",
    "from lsst.ts.observatory.control.auxtel.atcs import ATCS\n",
    "from lsst.ts.observatory.control.auxtel.latiss import LATISS\n",
    "from lsst.ts.observatory.control.utils import RotType\n",
    "\n",
    "from lsst_efd_client import EfdClient"
   ]
  },
  {
   "cell_type": "code",
   "execution_count": null,
   "id": "10c7864d-ea34-490e-822a-a1841ba45c97",
   "metadata": {
    "execution": {
     "iopub.execute_input": "2023-09-22T18:43:42.410249Z",
     "iopub.status.busy": "2023-09-22T18:43:42.409868Z",
     "iopub.status.idle": "2023-09-22T18:43:44.036679Z",
     "shell.execute_reply": "2023-09-22T18:43:44.035890Z",
     "shell.execute_reply.started": "2023-09-22T18:43:42.410218Z"
    },
    "tags": []
   },
   "outputs": [],
   "source": [
    "client = EfdClient('summit_efd')"
   ]
  },
  {
   "cell_type": "code",
   "execution_count": null,
   "id": "0755fd07",
   "metadata": {
    "execution": {
     "iopub.execute_input": "2023-09-22T14:02:04.485681Z",
     "iopub.status.busy": "2023-09-22T14:02:04.485534Z",
     "iopub.status.idle": "2023-09-22T14:02:04.488958Z",
     "shell.execute_reply": "2023-09-22T14:02:04.488409Z",
     "shell.execute_reply.started": "2023-09-22T14:02:04.485668Z"
    },
    "tags": []
   },
   "outputs": [],
   "source": [
    "logger = logging.getLogger(f\"Daytime Checkout {Time.now()} UT\")\n",
    "logger.level = logging.DEBUG"
   ]
  },
  {
   "cell_type": "code",
   "execution_count": null,
   "id": "e80647f9",
   "metadata": {
    "execution": {
     "iopub.execute_input": "2023-09-22T14:02:04.490095Z",
     "iopub.status.busy": "2023-09-22T14:02:04.489948Z",
     "iopub.status.idle": "2023-09-22T14:02:04.496358Z",
     "shell.execute_reply": "2023-09-22T14:02:04.495944Z",
     "shell.execute_reply.started": "2023-09-22T14:02:04.490082Z"
    },
    "tags": []
   },
   "outputs": [],
   "source": [
    "logger.info(os.environ[\"OSPL_URI\"])\n",
    "logger.info(os.environ[\"LSST_DDS_PARTITION_PREFIX\"])"
   ]
  },
  {
   "cell_type": "markdown",
   "id": "a9cd22ea",
   "metadata": {},
   "source": [
    "### Instantiate the control classes"
   ]
  },
  {
   "cell_type": "code",
   "execution_count": null,
   "id": "f651e5d9",
   "metadata": {
    "execution": {
     "iopub.execute_input": "2023-09-22T14:02:04.496984Z",
     "iopub.status.busy": "2023-09-22T14:02:04.496847Z",
     "iopub.status.idle": "2023-09-22T14:02:06.810268Z",
     "shell.execute_reply": "2023-09-22T14:02:06.809379Z",
     "shell.execute_reply.started": "2023-09-22T14:02:04.496971Z"
    },
    "jupyter": {
     "outputs_hidden": true
    },
    "tags": []
   },
   "outputs": [],
   "source": [
    "domain = salobj.Domain()\n",
    "atcs = ATCS(domain)\n",
    "latiss = LATISS(domain)\n",
    "await asyncio.gather(atcs.start_task, latiss.start_task)\n",
    "await atcs.assert_liveliness()"
   ]
  },
  {
   "cell_type": "markdown",
   "id": "014ff42a-1d20-4a15-a145-3a59306459e2",
   "metadata": {
    "tags": []
   },
   "source": [
    "If ATCamera and/or ATOODS don't come up, see section `Quick Troubleshooting` for support commands. "
   ]
  },
  {
   "cell_type": "markdown",
   "id": "a85209e7",
   "metadata": {
    "tags": []
   },
   "source": [
    "### Bias verification"
   ]
  },
  {
   "cell_type": "code",
   "execution_count": null,
   "id": "7761429f",
   "metadata": {
    "execution": {
     "iopub.execute_input": "2023-09-22T14:02:43.980156Z",
     "iopub.status.busy": "2023-09-22T14:02:43.979805Z",
     "iopub.status.idle": "2023-09-22T14:03:06.512331Z",
     "shell.execute_reply": "2023-09-22T14:03:06.511405Z",
     "shell.execute_reply.started": "2023-09-22T14:02:43.980119Z"
    },
    "tags": []
   },
   "outputs": [],
   "source": [
    "for i in range(5):\n",
    "    await latiss.take_bias(nbias=1)\n",
    "    await asyncio.sleep(2.0)"
   ]
  },
  {
   "cell_type": "code",
   "execution_count": null,
   "id": "eb8e7dab-9da0-42a9-995c-34977879aa1a",
   "metadata": {
    "execution": {
     "iopub.execute_input": "2023-09-22T14:03:16.914709Z",
     "iopub.status.busy": "2023-09-22T14:03:16.914386Z",
     "iopub.status.idle": "2023-09-22T14:03:16.920461Z",
     "shell.execute_reply": "2023-09-22T14:03:16.919648Z",
     "shell.execute_reply.started": "2023-09-22T14:03:16.914683Z"
    },
    "tags": []
   },
   "outputs": [],
   "source": [
    "await atcs.disable_dome_following()"
   ]
  },
  {
   "cell_type": "markdown",
   "id": "3fc32bc5-5f36-4e5a-bcfd-27c3a9eeec21",
   "metadata": {
    "tags": []
   },
   "source": [
    "### Now run the actual test, taking a 30 second image at each location."
   ]
  },
  {
   "cell_type": "code",
   "execution_count": null,
   "id": "449950cc-ce9a-4e4a-8367-fe880a4982b2",
   "metadata": {
    "execution": {
     "iopub.execute_input": "2023-09-22T14:03:26.665878Z",
     "iopub.status.busy": "2023-09-22T14:03:26.665504Z",
     "iopub.status.idle": "2023-09-22T14:04:31.701668Z",
     "shell.execute_reply": "2023-09-22T14:04:31.700864Z",
     "shell.execute_reply.started": "2023-09-22T14:03:26.665843Z"
    },
    "jupyter": {
     "outputs_hidden": true
    },
    "tags": []
   },
   "outputs": [],
   "source": [
    "# Move to starting location\n",
    "coord=atcs.radec_from_azel(az=270, el=45)\n",
    "await atcs.slew_icrs(coord.ra, coord.dec, rot=0.0, rot_type=RotType.Physical)"
   ]
  },
  {
   "cell_type": "code",
   "execution_count": null,
   "id": "6897aaac-84b7-4a47-adae-e03bf57288b9",
   "metadata": {
    "execution": {
     "iopub.execute_input": "2023-09-22T14:04:42.310685Z",
     "iopub.status.busy": "2023-09-22T14:04:42.310306Z",
     "iopub.status.idle": "2023-09-22T16:33:10.964849Z",
     "shell.execute_reply": "2023-09-22T16:33:10.963873Z",
     "shell.execute_reply.started": "2023-09-22T14:04:42.310656Z"
    },
    "jupyter": {
     "outputs_hidden": true
    },
    "tags": []
   },
   "outputs": [],
   "source": [
    "# Now run the actual test \n",
    "# First image is 2023092200006\n",
    "\n",
    "az = 270.0\n",
    "await latiss.take_darks(30.0, 1)\n",
    "for i in range(90):\n",
    "    az -= 2.0\n",
    "    coord=atcs.radec_from_azel(az=az, el=45)\n",
    "    await atcs.slew_icrs(coord.ra, coord.dec, rot=0.0, rot_type=RotType.Physical)\n",
    "    await latiss.take_darks(30.0, 1)\n",
    "for i in range(90):\n",
    "    az += 2.0\n",
    "    coord=atcs.radec_from_azel(az=az, el=45)\n",
    "    await atcs.slew_icrs(coord.ra, coord.dec, rot=0.0, rot_type=RotType.Physical)\n",
    "    await latiss.take_darks(30.0, 1)\n"
   ]
  },
  {
   "cell_type": "code",
   "execution_count": null,
   "id": "eeab619e-4922-4b02-9f44-8546a622bca2",
   "metadata": {
    "execution": {
     "iopub.execute_input": "2023-09-22T16:44:23.768468Z",
     "iopub.status.busy": "2023-09-22T16:44:23.768118Z",
     "iopub.status.idle": "2023-09-22T18:38:54.957635Z",
     "shell.execute_reply": "2023-09-22T18:38:54.956824Z",
     "shell.execute_reply.started": "2023-09-22T16:44:23.768441Z"
    },
    "jupyter": {
     "outputs_hidden": true
    },
    "tags": []
   },
   "outputs": [],
   "source": [
    "# Now run the actual test with go-and-come-back only while slewing negative in Az.\n",
    "# First image is 2023092200187\n",
    "deltaAz = 2.0\n",
    "az = 270.0\n",
    "await latiss.take_darks(30.0, 1)\n",
    "for i in range(90):\n",
    "    az -= 2.0\n",
    "    coord=atcs.radec_from_azel(az=az-deltaAz, el=45)\n",
    "    await atcs.slew_icrs(coord.ra, coord.dec, rot=0.0, rot_type=RotType.Physical)\n",
    "    await asyncio.sleep(2.0)\n",
    "    coord=atcs.radec_from_azel(az=az, el=45)\n",
    "    await atcs.slew_icrs(coord.ra, coord.dec, rot=0.0, rot_type=RotType.Physical)\n",
    "    await latiss.take_darks(30.0, 1)\n",
    "for i in range(90):\n",
    "    az += 2.0\n",
    "    coord=atcs.radec_from_azel(az=az, el=45)\n",
    "    await atcs.slew_icrs(coord.ra, coord.dec, rot=0.0, rot_type=RotType.Physical)\n",
    "    await latiss.take_darks(30.0, 1)\n"
   ]
  },
  {
   "cell_type": "markdown",
   "id": "6a7ed1f6-998f-41f8-8f1f-f2dd5f04a40c",
   "metadata": {},
   "source": [
    "### Stopping early because out of time."
   ]
  },
  {
   "cell_type": "code",
   "execution_count": null,
   "id": "3ea5225b",
   "metadata": {
    "execution": {
     "iopub.execute_input": "2023-09-22T18:41:41.610674Z",
     "iopub.status.busy": "2023-09-22T18:41:41.610295Z",
     "iopub.status.idle": "2023-09-22T18:41:41.618864Z",
     "shell.execute_reply": "2023-09-22T18:41:41.618161Z",
     "shell.execute_reply.started": "2023-09-22T18:41:41.610644Z"
    },
    "jupyter": {
     "outputs_hidden": true
    },
    "tags": []
   },
   "outputs": [],
   "source": [
    "# Stop tracking\n",
    "await atcs.stop_tracking()"
   ]
  },
  {
   "cell_type": "code",
   "execution_count": null,
   "id": "3ea8b955-7c58-42d5-beab-61fe643a87ea",
   "metadata": {
    "execution": {
     "iopub.execute_input": "2023-09-22T18:43:49.550250Z",
     "iopub.status.busy": "2023-09-22T18:43:49.549865Z",
     "iopub.status.idle": "2023-09-22T18:43:49.621465Z",
     "shell.execute_reply": "2023-09-22T18:43:49.620728Z",
     "shell.execute_reply.started": "2023-09-22T18:43:49.550221Z"
    },
    "tags": []
   },
   "outputs": [],
   "source": [
    "# Get Rubin TV JSON\n",
    "filename = f'/scratch/cslage/starTracker/auxtel_2023-09-22.json'\n",
    "df = pd.read_json(filename)\n",
    "df = df.transpose()"
   ]
  },
  {
   "cell_type": "code",
   "execution_count": null,
   "id": "e95032a9-29bd-4fca-84d7-1831d85fdd83",
   "metadata": {
    "execution": {
     "iopub.execute_input": "2023-09-22T18:49:13.416279Z",
     "iopub.status.busy": "2023-09-22T18:49:13.415899Z",
     "iopub.status.idle": "2023-09-22T18:49:25.086893Z",
     "shell.execute_reply": "2023-09-22T18:49:25.086071Z",
     "shell.execute_reply.started": "2023-09-22T18:49:13.416250Z"
    },
    "tags": []
   },
   "outputs": [],
   "source": [
    "%matplotlib inline\n",
    "fig, axs = plt.subplots(2,1,figsize = (12,8))\n",
    "plt.subplots_adjust(hspace=0.5)\n",
    "images = [[6, 186, \"2023-09-22\", \"Baseline\"], [187, 293, \"2023-09-22\", \"Go-and-come-back\"]]\n",
    "for i, [firstImage, lastImage, dayObs, name] in enumerate(images):\n",
    "    start = Time(f\"{dayObs}T{df.loc[firstImage]['TAI']}\", format='isot', scale='tai')\n",
    "    end = Time(f\"{dayObs}T{df.loc[lastImage]['TAI']}\", format='isot', scale='tai')\n",
    "    az = await client.select_packed_time_series(\"lsst.sal.ATMCS.mount_AzEl_Encoders\", \"azimuthCalculatedAngle\",\\\n",
    "                                                start.utc, end.utc)\n",
    "    azs = az['azimuthCalculatedAngle'].values\n",
    "    times = az['times'].values\n",
    "    t0 = times[0]\n",
    "    times -= t0\n",
    "    tmax = times[-1]\n",
    "\n",
    "    axs[i].set_title(f\"{name} - {dayObs}\", fontsize=24)\n",
    "    axs[i].plot(times, azs)\n",
    "    axs[i].set_ylabel(\"Azimuth(degrees)\")\n",
    "    axs[i].set_xlabel(\"Time(seconds)\")\n",
    "    axs[i].set_xlim(0,9000)\n",
    "    ax2 = axs[i].twinx()\n",
    "    mount_times = []\n",
    "    mount_motions = []\n",
    "    for seqNum in df.index.values.tolist():\n",
    "        if seqNum >= firstImage and seqNum <= lastImage:\n",
    "            time = Time(f\"{dayObs}T{df.loc[seqNum]['TAI']}\", format='isot', scale='tai')\n",
    "            mount_times.append(time.utc.unix_tai - t0)\n",
    "            mount_motions.append(df.loc[seqNum]['Mount motion image degradation'])\n",
    "    ax2.scatter(mount_times, mount_motions, marker='x', color='g')\n",
    "    ax2.set_ylabel(\"Mount jitter (arcseconds)\")\n",
    "    ax2.set_ylim(0, 1.5)\n",
    "plt.savefig(f\"/home/craiglagegit/DATA/Go-and-Come-Back_Test_22Sep23.png\")\n"
   ]
  },
  {
   "cell_type": "code",
   "execution_count": null,
   "id": "58009d48-693f-452a-b497-ccc6008c1975",
   "metadata": {},
   "outputs": [],
   "source": []
  }
 ],
 "metadata": {
  "kernelspec": {
   "display_name": "LSST",
   "language": "python",
   "name": "lsst"
  },
  "language_info": {
   "codemirror_mode": {
    "name": "ipython",
    "version": 3
   },
   "file_extension": ".py",
   "mimetype": "text/x-python",
   "name": "python",
   "nbconvert_exporter": "python",
   "pygments_lexer": "ipython3",
   "version": "3.11.4"
  }
 },
 "nbformat": 4,
 "nbformat_minor": 5
}
