{
 "cells": [
  {
   "cell_type": "markdown",
   "metadata": {},
   "source": [
    "# Take a set of calibrations\n",
    "The script is built for the scriptQueue but for the moment should be run from the notebook"
   ]
  },
  {
   "cell_type": "markdown",
   "metadata": {},
   "source": [
    "This script is used to take flats with the AuxTel calibration illumination system. <br>\n",
    "It is being used as a stand-in until the proper functionality is build into the control system."
   ]
  },
  {
   "cell_type": "code",
   "execution_count": null,
   "metadata": {
    "execution": {
     "iopub.execute_input": "2023-01-16T16:48:24.689952Z",
     "iopub.status.busy": "2023-01-16T16:48:24.689776Z",
     "iopub.status.idle": "2023-01-16T16:48:28.399500Z",
     "shell.execute_reply": "2023-01-16T16:48:28.398974Z",
     "shell.execute_reply.started": "2023-01-16T16:48:24.689937Z"
    },
    "tags": []
   },
   "outputs": [],
   "source": [
    "import sys\n",
    "import asyncio\n",
    "import time\n",
    "import os\n",
    "\n",
    "import numpy as np\n",
    "import logging \n",
    "import yaml\n",
    "import astropy\n",
    "\n",
    "from lsst.ts import salobj\n",
    "# from lsst.ts.externalscripts.auxtel.latiss_take_flats import LatissTakeFlats\n",
    "from lsst.ts.externalscripts.auxtel import LatissTakeFlats\n",
    "\n",
    "from lsst.ts.idl.enums.Script import ScriptState\n",
    "\n",
    "from lsst.ts.observing.utilities.decorated_logger import DecoratedLogger"
   ]
  },
  {
   "cell_type": "code",
   "execution_count": null,
   "metadata": {
    "execution": {
     "iopub.execute_input": "2023-01-16T16:48:29.333009Z",
     "iopub.status.busy": "2023-01-16T16:48:29.332531Z",
     "iopub.status.idle": "2023-01-16T16:48:29.335318Z",
     "shell.execute_reply": "2023-01-16T16:48:29.334917Z",
     "shell.execute_reply.started": "2023-01-16T16:48:29.332991Z"
    },
    "tags": []
   },
   "outputs": [],
   "source": [
    "logger = DecoratedLogger.get_decorated_logger()\n",
    "logger.level = logging.DEBUG"
   ]
  },
  {
   "cell_type": "code",
   "execution_count": null,
   "metadata": {},
   "outputs": [],
   "source": []
  },
  {
   "cell_type": "markdown",
   "metadata": {},
   "source": [
    "## Define function used to create the instrument setup for each flat that gets passed to the script"
   ]
  },
  {
   "cell_type": "code",
   "execution_count": null,
   "metadata": {
    "execution": {
     "iopub.execute_input": "2023-01-16T16:48:33.636523Z",
     "iopub.status.busy": "2023-01-16T16:48:33.636235Z",
     "iopub.status.idle": "2023-01-16T16:48:33.640704Z",
     "shell.execute_reply": "2023-01-16T16:48:33.640330Z",
     "shell.execute_reply.started": "2023-01-16T16:48:33.636506Z"
    },
    "tags": []
   },
   "outputs": [],
   "source": [
    "def step_config(min_wave: float=500, max_wave: float=700, w_steps: int=10, grating: int = 1, \n",
    "                ent_slit: float = 4.5, exit_slit: float = 4.5, exp_time: float = 3,\n",
    "                n_exp: int = 3, fs_exp_time: int = 3, fs_n_exp: int =1, em_exp_time: float=3, em_n_exp:int=1):\n",
    "    waves = np.arange(min_wave,max_wave,w_steps) # r-band\n",
    "\n",
    "    # config=dict(steps=[])\n",
    "    steps = []\n",
    "    \n",
    "    spec_res = 999 # dummy value for now\n",
    "    \n",
    "    for wave in waves:\n",
    "        step = {\n",
    "    \"wavelength\": int(wave), # changed from float\n",
    "    \"grating\": grating,  # enums.ATMonochromator.Grating.RED,  --> Enums are wrong!\n",
    "    \"spec_res\": -1, # place holder until we know this\n",
    "    \"exit_slit_width\": exit_slit,\n",
    "    \"entrance_slit_width\": ent_slit,\n",
    "    \"exp_time\": exp_time,\n",
    "    \"n_exp\": n_exp,\n",
    "    \"fs_exp_time\": fs_exp_time,\n",
    "    \"fs_n_exp\": fs_n_exp,\n",
    "    \"em_exp_time\": em_exp_time,\n",
    "    \"em_n_exp\": em_n_exp}\n",
    "    \n",
    "        steps.append(step)\n",
    "    \n",
    "    # convert to yaml\n",
    "    steps_for_script = yaml.safe_dump(steps)\n",
    "    return steps_for_script"
   ]
  },
  {
   "cell_type": "markdown",
   "metadata": {
    "execution": {
     "iopub.execute_input": "2022-12-12T17:14:28.707685Z",
     "iopub.status.busy": "2022-12-12T17:14:28.706994Z",
     "iopub.status.idle": "2022-12-12T17:14:28.710806Z",
     "shell.execute_reply": "2022-12-12T17:14:28.710312Z",
     "shell.execute_reply.started": "2022-12-12T17:14:28.707665Z"
    },
    "tags": []
   },
   "source": [
    "## Declare LATISS filter/grating combination"
   ]
  },
  {
   "cell_type": "code",
   "execution_count": null,
   "metadata": {
    "execution": {
     "iopub.execute_input": "2023-01-16T16:48:47.143245Z",
     "iopub.status.busy": "2023-01-16T16:48:47.142969Z",
     "iopub.status.idle": "2023-01-16T16:48:47.145536Z",
     "shell.execute_reply": "2023-01-16T16:48:47.145168Z",
     "shell.execute_reply.started": "2023-01-16T16:48:47.143228Z"
    },
    "tags": []
   },
   "outputs": [],
   "source": [
    "latiss_filter = 'SDSSr_65mm' #'g'  # must be, g, r, i\n",
    "latiss_grating= 'empty_1'"
   ]
  },
  {
   "cell_type": "code",
   "execution_count": null,
   "metadata": {
    "execution": {
     "iopub.execute_input": "2023-01-16T16:48:50.364159Z",
     "iopub.status.busy": "2023-01-16T16:48:50.363893Z",
     "iopub.status.idle": "2023-01-16T16:48:50.366906Z",
     "shell.execute_reply": "2023-01-16T16:48:50.366535Z",
     "shell.execute_reply.started": "2023-01-16T16:48:50.364143Z"
    },
    "tags": []
   },
   "outputs": [],
   "source": [
    "if latiss_filter =='BG40_65mm_1':\n",
    "    min_wave = 300; max_wave = 550\n",
    "elif latiss_filter == 'SDSSr_65mm':\n",
    "    min_wave = 550; max_wave = 690  # r-band\n",
    "elif latiss_filter == 'OG550_65mm_1':\n",
    "    min_wave = 500; max_wave = 1100\n",
    "else:\n",
    "    raise \"Filter not supported\""
   ]
  },
  {
   "cell_type": "code",
   "execution_count": null,
   "metadata": {
    "execution": {
     "iopub.execute_input": "2023-01-16T16:49:55.014163Z",
     "iopub.status.busy": "2023-01-16T16:49:55.013895Z",
     "iopub.status.idle": "2023-01-16T16:49:55.020832Z",
     "shell.execute_reply": "2023-01-16T16:49:55.020451Z",
     "shell.execute_reply.started": "2023-01-16T16:49:55.014147Z"
    },
    "tags": []
   },
   "outputs": [],
   "source": [
    "w_steps = 20  # steps over the wavelength range\n",
    "n_exp = 2 # number of LATISS exposures\n",
    "exp_time = 60 # exposure time for each exposure\n",
    "# Fiber spectrograph and electrometer must currently use the same exposure time.\n",
    "fs_exp_time = exp_time \n",
    "em_exp_time = exp_time\n",
    "fs_n_exp = n_exp\n",
    "em_n_exp = n_exp\n",
    "# following step creates the sequence\n",
    "steps_for_config = step_config(min_wave=min_wave, max_wave=max_wave, w_steps=w_steps, \n",
    "                               exp_time=exp_time, n_exp=n_exp, fs_exp_time=fs_exp_time,\n",
    "                               fs_n_exp=fs_n_exp, em_exp_time=em_exp_time, em_n_exp=em_n_exp)\n"
   ]
  },
  {
   "cell_type": "markdown",
   "metadata": {},
   "source": [
    "## Instantiate the Script\n",
    "\n",
    "First derive and index for the script that is specific to your user"
   ]
  },
  {
   "cell_type": "code",
   "execution_count": null,
   "metadata": {
    "execution": {
     "iopub.execute_input": "2023-01-16T16:49:58.490666Z",
     "iopub.status.busy": "2023-01-16T16:49:58.490407Z",
     "iopub.status.idle": "2023-01-16T16:49:58.495168Z",
     "shell.execute_reply": "2023-01-16T16:49:58.494796Z",
     "shell.execute_reply.started": "2023-01-16T16:49:58.490650Z"
    },
    "tags": []
   },
   "outputs": [],
   "source": [
    "logger.info(f'Your UID is {os.getuid()}')\n",
    "index=os.getuid()*10+np.random.randint(0,9)\n",
    "logger.info(f'The generated index is {index}')"
   ]
  },
  {
   "cell_type": "markdown",
   "metadata": {},
   "source": [
    "Instantiate the script then start all remotes"
   ]
  },
  {
   "cell_type": "code",
   "execution_count": null,
   "metadata": {
    "execution": {
     "iopub.execute_input": "2023-01-16T17:31:10.491409Z",
     "iopub.status.busy": "2023-01-16T17:31:10.490712Z",
     "iopub.status.idle": "2023-01-16T17:31:11.234547Z",
     "shell.execute_reply": "2023-01-16T17:31:11.234000Z",
     "shell.execute_reply.started": "2023-01-16T17:31:10.491389Z"
    },
    "jupyter": {
     "outputs_hidden": true
    },
    "tags": []
   },
   "outputs": [],
   "source": [
    "script = LatissTakeFlats(index=index, remotes=True)  # this essentially calls the init method\n",
    "await script.start_task"
   ]
  },
  {
   "cell_type": "markdown",
   "metadata": {},
   "source": [
    "Set the script to have a DEBUG log level"
   ]
  },
  {
   "cell_type": "code",
   "execution_count": null,
   "metadata": {
    "tags": []
   },
   "outputs": [],
   "source": [
    "# !conda info envs"
   ]
  },
  {
   "cell_type": "code",
   "execution_count": null,
   "metadata": {
    "execution": {
     "iopub.execute_input": "2023-01-16T17:31:16.253702Z",
     "iopub.status.busy": "2023-01-16T17:31:16.253007Z",
     "iopub.status.idle": "2023-01-16T17:31:16.256222Z",
     "shell.execute_reply": "2023-01-16T17:31:16.255734Z",
     "shell.execute_reply.started": "2023-01-16T17:31:16.253683Z"
    },
    "tags": []
   },
   "outputs": [],
   "source": [
    "script.log.level = logging.DEBUG"
   ]
  },
  {
   "cell_type": "markdown",
   "metadata": {},
   "source": [
    "Print the available instrument filter and gratings. <br>\n",
    "This is useful both for slewing and for the configuration steps below"
   ]
  },
  {
   "cell_type": "code",
   "execution_count": null,
   "metadata": {
    "execution": {
     "iopub.execute_input": "2023-01-16T17:31:19.010877Z",
     "iopub.status.busy": "2023-01-16T17:31:19.010177Z",
     "iopub.status.idle": "2023-01-16T17:31:19.014690Z",
     "shell.execute_reply": "2023-01-16T17:31:19.014204Z",
     "shell.execute_reply.started": "2023-01-16T17:31:19.010858Z"
    },
    "tags": []
   },
   "outputs": [],
   "source": [
    "inst_setup = await script.latiss.get_available_instrument_setup()\n",
    "logger.info(f'filters are: {inst_setup[0]},\\ngratings are: {inst_setup[1]}')"
   ]
  },
  {
   "cell_type": "markdown",
   "metadata": {},
   "source": [
    "## Configure the script"
   ]
  },
  {
   "cell_type": "code",
   "execution_count": null,
   "metadata": {
    "execution": {
     "iopub.execute_input": "2023-01-16T17:32:02.575940Z",
     "iopub.status.busy": "2023-01-16T17:32:02.575397Z",
     "iopub.status.idle": "2023-01-16T17:32:02.579970Z",
     "shell.execute_reply": "2023-01-16T17:32:02.579580Z",
     "shell.execute_reply.started": "2023-01-16T17:32:02.575920Z"
    },
    "tags": []
   },
   "outputs": [],
   "source": [
    "configuration = yaml.safe_dump({\"latiss_filter\": latiss_filter, \n",
    "                                \"latiss_grating\": latiss_grating,\n",
    "                                \"sequence\": steps_for_config,\n",
    "                                })"
   ]
  },
  {
   "cell_type": "markdown",
   "metadata": {},
   "source": [
    "Set script state to UNCONFIGURED. <br>\n",
    "The next line is not required the first time the script is run, however, in each additional instance the cell is run, an error will be thrown if it is not included. <br>\n",
    "Therefore, it is included here despite being a non-operation in the first instance."
   ]
  },
  {
   "cell_type": "code",
   "execution_count": null,
   "metadata": {
    "tags": []
   },
   "outputs": [],
   "source": [
    "# ENUMS ARE WRONG!\n",
    "# from lsst.ts.idl import enums\n",
    "# enums.ATMonochromator.Grating.RED"
   ]
  },
  {
   "cell_type": "code",
   "execution_count": null,
   "metadata": {
    "execution": {
     "iopub.execute_input": "2023-01-16T17:32:05.355228Z",
     "iopub.status.busy": "2023-01-16T17:32:05.354954Z",
     "iopub.status.idle": "2023-01-16T17:32:05.358156Z",
     "shell.execute_reply": "2023-01-16T17:32:05.357664Z",
     "shell.execute_reply.started": "2023-01-16T17:32:05.355211Z"
    },
    "tags": []
   },
   "outputs": [],
   "source": [
    "await script.set_state(ScriptState.UNCONFIGURED)"
   ]
  },
  {
   "cell_type": "markdown",
   "metadata": {},
   "source": [
    "#### Put the ScriptState to CONFIGURED"
   ]
  },
  {
   "cell_type": "code",
   "execution_count": null,
   "metadata": {
    "execution": {
     "iopub.execute_input": "2023-01-16T17:32:07.419545Z",
     "iopub.status.busy": "2023-01-16T17:32:07.419274Z",
     "iopub.status.idle": "2023-01-16T17:32:07.436819Z",
     "shell.execute_reply": "2023-01-16T17:32:07.436306Z",
     "shell.execute_reply.started": "2023-01-16T17:32:07.419528Z"
    },
    "tags": []
   },
   "outputs": [],
   "source": [
    "config_data = script.cmd_configure.DataType()\n",
    "config_data.config = configuration\n",
    "await script.do_configure(config_data)"
   ]
  },
  {
   "cell_type": "markdown",
   "metadata": {},
   "source": [
    "Set these script parameters to None to verify a re-reduction does not happen of the images"
   ]
  },
  {
   "cell_type": "markdown",
   "metadata": {},
   "source": [
    "### Set groupID and launch the script\n",
    "This sets the same group ID for all exposures taken in the script"
   ]
  },
  {
   "cell_type": "code",
   "execution_count": null,
   "metadata": {
    "execution": {
     "iopub.execute_input": "2023-01-16T17:39:35.928117Z",
     "iopub.status.busy": "2023-01-16T17:39:35.927748Z",
     "iopub.status.idle": "2023-01-16T17:48:32.938265Z",
     "shell.execute_reply": "2023-01-16T17:48:32.937560Z",
     "shell.execute_reply.started": "2023-01-16T17:39:35.928099Z"
    },
    "tags": []
   },
   "outputs": [],
   "source": [
    "group_id_data = script.cmd_setGroupId.DataType(\n",
    "                groupId=astropy.time.Time.now().isot\n",
    "            )\n",
    "await script.do_setGroupId(group_id_data)\n",
    "await script.arun()"
   ]
  },
  {
   "cell_type": "markdown",
   "metadata": {},
   "source": [
    "## Elana Test: Loop through filters, wavelengths, and gratings\n",
    "\n",
    "Note: will loop through g, r, i\n",
    "\n",
    "Should we also loop through illuminator gratings? And what is the appropriate exposure time?"
   ]
  },
  {
   "cell_type": "code",
   "execution_count": null,
   "metadata": {},
   "outputs": [],
   "source": []
  }
 ],
 "metadata": {
  "kernelspec": {
   "display_name": "LSST",
   "language": "python",
   "name": "lsst"
  },
  "language_info": {
   "codemirror_mode": {
    "name": "ipython",
    "version": 3
   },
   "file_extension": ".py",
   "mimetype": "text/x-python",
   "name": "python",
   "nbconvert_exporter": "python",
   "pygments_lexer": "ipython3",
   "version": "3.10.6"
  }
 },
 "nbformat": 4,
 "nbformat_minor": 4
}
