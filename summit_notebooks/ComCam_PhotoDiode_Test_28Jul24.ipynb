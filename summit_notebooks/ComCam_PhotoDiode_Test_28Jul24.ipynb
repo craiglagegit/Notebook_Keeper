{
 "cells": [
  {
   "cell_type": "markdown",
   "metadata": {},
   "source": [
    "# Test ComCam photodiode\n",
    "\n",
    "Craig Lage - 28-Jul-24"
   ]
  },
  {
   "cell_type": "code",
   "execution_count": null,
   "metadata": {
    "execution": {
     "iopub.execute_input": "2024-08-06T13:57:27.825416Z",
     "iopub.status.busy": "2024-08-06T13:57:27.825285Z",
     "iopub.status.idle": "2024-08-06T13:57:28.584029Z",
     "shell.execute_reply": "2024-08-06T13:57:28.583200Z",
     "shell.execute_reply.started": "2024-08-06T13:57:27.825402Z"
    },
    "tags": []
   },
   "outputs": [],
   "source": [
    "import sys, asyncio, time, os\n",
    "import pickle as pkl\n",
    "import numpy as np\n",
    "import matplotlib.pyplot as plt\n",
    "from astropy.time import Time\n",
    "from astropy.io import fits\n",
    "\n",
    "from lsst.ts import salobj"
   ]
  },
  {
   "cell_type": "markdown",
   "metadata": {},
   "source": [
    "## Now connect to ComCam and the Electrometer CSC"
   ]
  },
  {
   "cell_type": "code",
   "execution_count": null,
   "metadata": {
    "execution": {
     "iopub.execute_input": "2024-08-06T13:57:28.586875Z",
     "iopub.status.busy": "2024-08-06T13:57:28.586737Z",
     "iopub.status.idle": "2024-08-06T13:57:28.589978Z",
     "shell.execute_reply": "2024-08-06T13:57:28.589407Z",
     "shell.execute_reply.started": "2024-08-06T13:57:28.586861Z"
    }
   },
   "outputs": [],
   "source": [
    "# change this to a local directory\n",
    "data_dir = '/home/cslage/DATA'"
   ]
  },
  {
   "cell_type": "code",
   "execution_count": null,
   "metadata": {
    "execution": {
     "iopub.execute_input": "2024-08-06T13:57:28.595889Z",
     "iopub.status.busy": "2024-08-06T13:57:28.595759Z",
     "iopub.status.idle": "2024-08-06T13:57:28.599350Z",
     "shell.execute_reply": "2024-08-06T13:57:28.598751Z",
     "shell.execute_reply.started": "2024-08-06T13:57:28.595875Z"
    },
    "tags": []
   },
   "outputs": [],
   "source": [
    "logger = logging.getLogger(f\"Daytime Checkout {Time.now()} UT\")\n",
    "logger.level = logging.DEBUG"
   ]
  },
  {
   "cell_type": "code",
   "execution_count": null,
   "metadata": {
    "execution": {
     "iopub.execute_input": "2024-08-06T13:57:28.601683Z",
     "iopub.status.busy": "2024-08-06T13:57:28.601545Z",
     "iopub.status.idle": "2024-08-06T13:57:28.606600Z",
     "shell.execute_reply": "2024-08-06T13:57:28.606165Z",
     "shell.execute_reply.started": "2024-08-06T13:57:28.601670Z"
    },
    "tags": []
   },
   "outputs": [],
   "source": [
    "logger.info(os.environ[\"OSPL_URI\"])\n",
    "logger.info(os.environ[\"LSST_DDS_PARTITION_PREFIX\"])"
   ]
  },
  {
   "cell_type": "code",
   "execution_count": null,
   "metadata": {
    "execution": {
     "iopub.execute_input": "2024-08-06T13:57:28.608931Z",
     "iopub.status.busy": "2024-08-06T13:57:28.608782Z",
     "iopub.status.idle": "2024-08-06T13:57:28.738496Z",
     "shell.execute_reply": "2024-08-06T13:57:28.737685Z",
     "shell.execute_reply.started": "2024-08-06T13:57:28.608918Z"
    },
    "tags": []
   },
   "outputs": [],
   "source": [
    "domain = salobj.Domain()\n",
    "electrometer = salobj.Remote(name=\"Electrometer\", domain=domain, index=101) # Check SAL index"
   ]
  },
  {
   "cell_type": "code",
   "execution_count": null,
   "metadata": {
    "execution": {
     "iopub.execute_input": "2024-08-06T13:57:28.741109Z",
     "iopub.status.busy": "2024-08-06T13:57:28.740958Z",
     "iopub.status.idle": "2024-08-06T13:57:28.752205Z",
     "shell.execute_reply": "2024-08-06T13:57:28.751630Z",
     "shell.execute_reply.started": "2024-08-06T13:57:28.741093Z"
    }
   },
   "outputs": [],
   "source": [
    "await electrometer.start_task"
   ]
  },
  {
   "cell_type": "code",
   "execution_count": null,
   "metadata": {
    "execution": {
     "iopub.execute_input": "2024-08-06T13:57:28.754575Z",
     "iopub.status.busy": "2024-08-06T13:57:28.754396Z",
     "iopub.status.idle": "2024-08-06T13:57:28.760725Z",
     "shell.execute_reply": "2024-08-06T13:57:28.760087Z",
     "shell.execute_reply.started": "2024-08-06T13:57:28.754561Z"
    }
   },
   "outputs": [],
   "source": [
    "await electrometer.cmd_setLogLevel.set_start(level=10)"
   ]
  },
  {
   "cell_type": "code",
   "execution_count": null,
   "metadata": {
    "execution": {
     "iopub.execute_input": "2024-08-08T13:04:47.769190Z",
     "iopub.status.busy": "2024-08-08T13:04:47.768821Z",
     "iopub.status.idle": "2024-08-08T13:04:47.772959Z",
     "shell.execute_reply": "2024-08-08T13:04:47.772378Z",
     "shell.execute_reply.started": "2024-08-08T13:04:47.769172Z"
    }
   },
   "outputs": [],
   "source": [
    "elec_tmp = await electrometer.evt_summaryState.aget()\n",
    "print('Electrometer: ',salobj.State(elec_tmp.summaryState))"
   ]
  },
  {
   "cell_type": "code",
   "execution_count": null,
   "metadata": {
    "execution": {
     "iopub.execute_input": "2024-08-08T13:04:48.977950Z",
     "iopub.status.busy": "2024-08-08T13:04:48.976846Z",
     "iopub.status.idle": "2024-08-08T13:04:48.983247Z",
     "shell.execute_reply": "2024-08-08T13:04:48.982465Z",
     "shell.execute_reply.started": "2024-08-08T13:04:48.977913Z"
    }
   },
   "outputs": [],
   "source": [
    "elec_tmp.salIndex"
   ]
  },
  {
   "cell_type": "code",
   "execution_count": null,
   "metadata": {
    "execution": {
     "iopub.execute_input": "2024-08-06T13:59:47.488229Z",
     "iopub.status.busy": "2024-08-06T13:59:47.487217Z",
     "iopub.status.idle": "2024-08-06T13:59:47.492261Z",
     "shell.execute_reply": "2024-08-06T13:59:47.491526Z",
     "shell.execute_reply.started": "2024-08-06T13:59:47.488196Z"
    }
   },
   "outputs": [],
   "source": [
    "test = electrometer.evt_detailedState.get()\n",
    "print(test)"
   ]
  },
  {
   "cell_type": "markdown",
   "metadata": {},
   "source": [
    "# Test the Electrometer."
   ]
  },
  {
   "cell_type": "code",
   "execution_count": null,
   "metadata": {
    "execution": {
     "iopub.execute_input": "2024-08-06T14:18:30.936757Z",
     "iopub.status.busy": "2024-08-06T14:18:30.936350Z",
     "iopub.status.idle": "2024-08-06T14:18:33.119022Z",
     "shell.execute_reply": "2024-08-06T14:18:33.118121Z",
     "shell.execute_reply.started": "2024-08-06T14:18:30.936725Z"
    }
   },
   "outputs": [],
   "source": [
    "await electrometer.cmd_setRange.set_start(setRange=2E-8) # -1 is autorange"
   ]
  },
  {
   "cell_type": "code",
   "execution_count": null,
   "metadata": {
    "execution": {
     "iopub.execute_input": "2024-08-08T18:36:19.944464Z",
     "iopub.status.busy": "2024-08-08T18:36:19.944006Z",
     "iopub.status.idle": "2024-08-08T18:36:19.949549Z",
     "shell.execute_reply": "2024-08-08T18:36:19.948727Z",
     "shell.execute_reply.started": "2024-08-08T18:36:19.944431Z"
    }
   },
   "outputs": [],
   "source": [
    "mode = await electrometer.evt_measureType.aget()\n",
    "intTime = await electrometer.evt_integrationTime.aget()\n",
    "range_ = await electrometer.evt_measureRange.aget()\n",
    "print(f'Mode: {mode.mode}; Int. Time: {intTime.intTime}; Range: {range_.rangeValue}')"
   ]
  },
  {
   "cell_type": "code",
   "execution_count": null,
   "metadata": {
    "execution": {
     "iopub.execute_input": "2024-08-08T18:36:26.270126Z",
     "iopub.status.busy": "2024-08-08T18:36:26.269720Z",
     "iopub.status.idle": "2024-08-08T18:36:36.343139Z",
     "shell.execute_reply": "2024-08-08T18:36:36.342194Z",
     "shell.execute_reply.started": "2024-08-08T18:36:26.270096Z"
    }
   },
   "outputs": [],
   "source": [
    "exp_time = 1 #sec\n",
    "electrometer.evt_largeFileObjectAvailable.flush()\n",
    "await electrometer.cmd_startScan.set_start(timeout=10)\n",
    "await asyncio.sleep(exp_time)\n",
    "await electrometer.cmd_stopScan.set_start(timeout=exp_time+20)"
   ]
  },
  {
   "cell_type": "code",
   "execution_count": null,
   "metadata": {
    "execution": {
     "iopub.execute_input": "2024-08-06T14:18:58.252745Z",
     "iopub.status.busy": "2024-08-06T14:18:58.252363Z",
     "iopub.status.idle": "2024-08-06T14:18:58.594581Z",
     "shell.execute_reply": "2024-08-06T14:18:58.593641Z",
     "shell.execute_reply.started": "2024-08-06T14:18:58.252715Z"
    }
   },
   "outputs": [],
   "source": [
    "lfa = await electrometer.evt_largeFileObjectAvailable.next(flush=False, timeout=10)\n",
    "filename= os.path.split(lfa.url)[1]\n",
    "print(filename)\n",
    "elec_filen = os.path.join(data_dir, filename)\n",
    "os.system(f\"curl {lfa.url} --output {elec_filen}\")"
   ]
  },
  {
   "cell_type": "code",
   "execution_count": null,
   "metadata": {
    "execution": {
     "iopub.execute_input": "2024-08-06T14:19:04.263466Z",
     "iopub.status.busy": "2024-08-06T14:19:04.262293Z",
     "iopub.status.idle": "2024-08-06T14:19:04.276773Z",
     "shell.execute_reply": "2024-08-06T14:19:04.276104Z",
     "shell.execute_reply.started": "2024-08-06T14:19:04.263423Z"
    }
   },
   "outputs": [],
   "source": [
    "# Look at Data\n",
    "hdu = fits.open(f'{elec_filen}')\n",
    "data = hdu[1].data\n",
    "print(data)"
   ]
  },
  {
   "cell_type": "code",
   "execution_count": null,
   "metadata": {
    "execution": {
     "iopub.execute_input": "2024-08-08T13:04:56.874171Z",
     "iopub.status.busy": "2024-08-08T13:04:56.873777Z",
     "iopub.status.idle": "2024-08-08T13:05:03.702015Z",
     "shell.execute_reply": "2024-08-08T13:05:03.701273Z",
     "shell.execute_reply.started": "2024-08-08T13:04:56.874141Z"
    }
   },
   "outputs": [],
   "source": [
    "electrometer_mode = 1\n",
    "range = 2E-8\n",
    "integration_time = 0.1\n",
    "\n",
    "await electrometer.cmd_setMode.set_start(\n",
    "            mode=electrometer_mode,\n",
    "        )\n",
    "await electrometer.cmd_setRange.set_start(\n",
    "    setRange=range,\n",
    ")\n",
    "await electrometer.cmd_setIntegrationTime.set_start(\n",
    "    intTime=integration_time,\n",
    ")\n",
    "await electrometer.cmd_performZeroCalib.start()\n",
    "await electrometer.cmd_setDigitalFilter.set_start(\n",
    "    activateFilter=False,\n",
    "    activateAvgFilter=False,\n",
    "    activateMedFilter=False,\n",
    ")"
   ]
  },
  {
   "cell_type": "code",
   "execution_count": null,
   "metadata": {
    "execution": {
     "iopub.execute_input": "2024-08-08T13:05:07.003039Z",
     "iopub.status.busy": "2024-08-08T13:05:07.002711Z",
     "iopub.status.idle": "2024-08-08T13:05:07.008081Z",
     "shell.execute_reply": "2024-08-08T13:05:07.007352Z",
     "shell.execute_reply.started": "2024-08-08T13:05:07.003014Z"
    }
   },
   "outputs": [],
   "source": [
    "mode = await electrometer.evt_measureType.aget()\n",
    "intTime = await electrometer.evt_integrationTime.aget()\n",
    "range_ = await electrometer.evt_measureRange.aget()\n",
    "print(f'Mode: {mode.mode}; Int. Time: {intTime.intTime}; Range: {range_.rangeValue}')"
   ]
  },
  {
   "cell_type": "code",
   "execution_count": null,
   "metadata": {
    "execution": {
     "iopub.execute_input": "2024-08-08T18:35:53.539249Z",
     "iopub.status.busy": "2024-08-08T18:35:53.538866Z",
     "iopub.status.idle": "2024-08-08T18:36:03.765843Z",
     "shell.execute_reply": "2024-08-08T18:36:03.765158Z",
     "shell.execute_reply.started": "2024-08-08T18:35:53.539220Z"
    }
   },
   "outputs": [],
   "source": [
    "exp_time = 1 #sec\n",
    "electrometer.evt_largeFileObjectAvailable.flush()\n",
    "await electrometer.cmd_startScan.set_start(timeout=10)\n",
    "await asyncio.sleep(exp_time)\n",
    "await electrometer.cmd_stopScan.set_start(timeout=exp_time+20)"
   ]
  },
  {
   "cell_type": "code",
   "execution_count": null,
   "metadata": {
    "execution": {
     "iopub.status.busy": "2024-08-08T18:36:03.766898Z",
     "iopub.status.idle": "2024-08-08T18:36:03.767068Z",
     "shell.execute_reply": "2024-08-08T18:36:03.766988Z",
     "shell.execute_reply.started": "2024-08-08T18:36:03.766980Z"
    }
   },
   "outputs": [],
   "source": [
    "lfa = await electrometer.evt_largeFileObjectAvailable.next(flush=False, timeout=10)\n",
    "filename= os.path.split(lfa.url)[1]\n",
    "print(filename)\n",
    "elec_filen = os.path.join(data_dir, filename)\n",
    "os.system(f\"curl {lfa.url} --output {elec_filen}\")"
   ]
  },
  {
   "cell_type": "code",
   "execution_count": null,
   "metadata": {
    "execution": {
     "iopub.status.busy": "2024-08-08T18:36:03.767778Z",
     "iopub.status.idle": "2024-08-08T18:36:03.767956Z",
     "shell.execute_reply": "2024-08-08T18:36:03.767875Z",
     "shell.execute_reply.started": "2024-08-08T18:36:03.767867Z"
    }
   },
   "outputs": [],
   "source": [
    "# Look at Data\n",
    "hdu = fits.open(f'{elec_filen}')\n",
    "data = hdu[1].data\n",
    "print(data)"
   ]
  },
  {
   "cell_type": "code",
   "execution_count": null,
   "metadata": {},
   "outputs": [],
   "source": [
    "url='https://s3.cp.lsst.org/rubinobs-lfa-cp/Electrometer:101/fits/2024/07/29/Electrometer:101_fits_2024-07-29T21:09:15.986.fits'\n",
    "filename= os.path.split(url)[1]\n",
    "print(filename)\n",
    "elec_filen = os.path.join(data_dir, filename)\n",
    "os.system(f\"curl {url} --output {elec_filen}\")"
   ]
  },
  {
   "cell_type": "code",
   "execution_count": null,
   "metadata": {},
   "outputs": [],
   "source": [
    "# Look at Data\n",
    "hdu = fits.open(f'{elec_filen}')\n",
    "data = hdu[1].data\n",
    "print(data)"
   ]
  },
  {
   "cell_type": "code",
   "execution_count": null,
   "metadata": {},
   "outputs": [],
   "source": [
    "vals = []\n",
    "for dat in data:\n",
    "    vals.append(dat[0])\n",
    "print(np.mean(vals), np.std(vals))"
   ]
  },
  {
   "cell_type": "code",
   "execution_count": null,
   "metadata": {},
   "outputs": [],
   "source": [
    "# Plot Data\n",
    "timestamp = filename.split('_')[2].split('.')[0]\n",
    "plt.plot(data['Elapsed Time'], data['Signal'],marker='x')\n",
    "plt.xlabel('ElapsedTime')\n",
    "plt.ylabel('Signal')\n",
    "plt.ylim(-2E-8, 0)\n",
    "plt.savefig(f\"/home/cslage/DATA/ComCam_Keysight_Scan_{timestamp}.png\")"
   ]
  },
  {
   "cell_type": "code",
   "execution_count": null,
   "metadata": {},
   "outputs": [],
   "source": [
    "hdu[0].header"
   ]
  },
  {
   "cell_type": "code",
   "execution_count": null,
   "metadata": {},
   "outputs": [],
   "source": []
  }
 ],
 "metadata": {
  "kernelspec": {
   "display_name": "LSST",
   "language": "python",
   "name": "lsst"
  },
  "language_info": {
   "codemirror_mode": {
    "name": "ipython",
    "version": 3
   },
   "file_extension": ".py",
   "mimetype": "text/x-python",
   "name": "python",
   "nbconvert_exporter": "python",
   "pygments_lexer": "ipython3",
   "version": "3.11.9"
  }
 },
 "nbformat": 4,
 "nbformat_minor": 4
}
