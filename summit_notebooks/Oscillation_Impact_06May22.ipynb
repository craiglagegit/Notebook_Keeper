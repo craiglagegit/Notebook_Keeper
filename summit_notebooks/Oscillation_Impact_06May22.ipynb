{
 "cells": [
  {
   "cell_type": "markdown",
   "metadata": {},
   "source": [
    "## Estimating the impact of AuxTel mount oscillations on Image Quality.\n",
    "Craig Lage 06-May-22"
   ]
  },
  {
   "cell_type": "code",
   "execution_count": null,
   "metadata": {},
   "outputs": [],
   "source": [
    "import sys, time, os, asyncio, glob\n",
    "from datetime import datetime, timedelta\n",
    "import numpy as np\n",
    "import matplotlib.pyplot as plt\n",
    "from astropy.time import Time, TimeDelta\n",
    "from astropy.coordinates import AltAz, ICRS, EarthLocation, Angle, FK5, SkyCoord\n",
    "import astropy.units as u\n",
    "from lsst.obs.lsst.translators.latiss import AUXTEL_LOCATION"
   ]
  },
  {
   "cell_type": "code",
   "execution_count": null,
   "metadata": {},
   "outputs": [],
   "source": [
    "def dAzdT(ALT, AZ):\n",
    "    # I tried doing this anlytically, but then went to\n",
    "    # this brute force method that is guaranteed to work.\n",
    "    deltaT = 10.0\n",
    "    time = datetime.now()\n",
    "    shiftedTime = time + timedelta(seconds=deltaT)\n",
    "    altAz = AltAz(obstime=time, location=AUXTEL_LOCATION)\n",
    "    shiftedAltAz = AltAz(obstime=shiftedTime, location=AUXTEL_LOCATION)\n",
    "    skyLocation = SkyCoord(AZ, ALT, frame=altAz)\n",
    "    az1 = skyLocation.altaz.az.deg\n",
    "    shiftedSkyLocation = skyLocation.transform_to(shiftedAltAz)\n",
    "    az2 = shiftedSkyLocation.altaz.az.deg\n",
    "    deltaAz = abs(az1 - az2)\n",
    "    if deltaAz > 1.0:\n",
    "        deltaAz = abs(deltaAz - 360.0)\n",
    "    azSpeed = abs(deltaAz) / deltaT * 3600.0\n",
    "    if azSpeed > 500.0:\n",
    "        return 0.0\n",
    "    else:\n",
    "        return azSpeed\n",
    "\n",
    "def AverageDeviation(period, amplitude, exptime):\n",
    "    nTrials = 100\n",
    "    times = np.linspace(0, exptime, 100)\n",
    "    deviations = []\n",
    "    for i in range(nTrials):\n",
    "        phase = 2.0 * np.pi * np.random.random()\n",
    "        motion = amplitude * np.cos(2.0 * np.pi * times / period + phase)\n",
    "        deviation = motion.std()\n",
    "        deviations.append(deviation)\n",
    "        #print(i, phase, deviation)\n",
    "    return np.mean(deviations)\n",
    "        \n",
    "def ImageImpact(ALT, AZ): \n",
    "    exptime = 30.0 # seconds\n",
    "    coggingPeriod = 675.0 # arcseconds\n",
    "    azSpeed = dAzdT(ALT, AZ)\n",
    "    period = coggingPeriod / azSpeed\n",
    "    azFreq = azSpeed / coggingPeriod\n",
    "    amplitude = 12.96 * azFreq # Empirical relation - arcseconds\n",
    "    #print(azSpeed, period, azFreq, amplitude)\n",
    "    imageImpact = AverageDeviation(period, amplitude, exptime) * np.cos(ALT)\n",
    "    return abs(imageImpact)"
   ]
  },
  {
   "cell_type": "code",
   "execution_count": null,
   "metadata": {},
   "outputs": [],
   "source": [
    "nx = 50\n",
    "ny = 100\n",
    "\n",
    "alts = np.linspace(5.0, 80.0, nx)\n",
    "azs = np.linspace(-179.9, 179.9, ny)\n",
    "alt_1, az_1 = np.meshgrid(alts, azs)\n",
    "z = np.zeros([ny, nx])\n",
    "for i, alt in enumerate(alts):\n",
    "    for j, az in enumerate(azs):\n",
    "        z[j,i] = dAzdT(Angle(alt * u.deg), Angle(az * u.deg))\n",
    "        #print(alt, az, z[i,j])\n",
    "        "
   ]
  },
  {
   "cell_type": "code",
   "execution_count": null,
   "metadata": {},
   "outputs": [],
   "source": [
    "plt.contourf(alt_1, az_1, z)\n",
    "plt.colorbar()\n",
    "plt.xlabel(\"Altitude (degrees)\")\n",
    "plt.ylabel(\"Azimuth (degrees)\")\n",
    "plt.title(\"Azimuth tracking speed (arseconds / second)\")\n"
   ]
  },
  {
   "cell_type": "code",
   "execution_count": null,
   "metadata": {},
   "outputs": [],
   "source": [
    "nx = 100\n",
    "ny = 200\n",
    "alts = np.linspace(5.0, 85.0, nx)\n",
    "azs = np.linspace(-179.9, 179.9, ny)\n",
    "alt_1, az_1 = np.meshgrid(alts, azs)\n",
    "IIz = np.zeros([ny, nx])\n",
    "for i, alt in enumerate(alts):\n",
    "    for j, az in enumerate(azs):\n",
    "        IIz[j,i] = ImageImpact(Angle(alt * u.deg), Angle(az * u.deg))\n",
    "\n",
    "plt.contourf(alt_1, az_1, IIz)\n",
    "plt.colorbar() \n",
    "plt.xlabel(\"Altitude (degrees)\")\n",
    "plt.ylabel(\"Azimuth (degrees)\")\n",
    "plt.title(\"Image impact of mount oscillations (arcseconds)\")\n"
   ]
  },
  {
   "cell_type": "code",
   "execution_count": null,
   "metadata": {},
   "outputs": [],
   "source": [
    "plt.contourf(alt_1, az_1, IIz)\n",
    "plt.colorbar() \n",
    "plt.xlabel(\"Altitude (degrees)\")\n",
    "plt.ylabel(\"Azimuth (degrees)\")\n",
    "plt.title(\"Image impact of mount oscillations (arcseconds)\")\n",
    "\n",
    "plt.savefig(\"/home/craiglagegit/DATA/Oscillation_Image_Impact_06May22.png\")"
   ]
  },
  {
   "cell_type": "code",
   "execution_count": null,
   "metadata": {},
   "outputs": [],
   "source": []
  }
 ],
 "metadata": {
  "kernelspec": {
   "display_name": "LSST",
   "language": "python",
   "name": "lsst"
  },
  "language_info": {
   "codemirror_mode": {
    "name": "ipython",
    "version": 3
   },
   "file_extension": ".py",
   "mimetype": "text/x-python",
   "name": "python",
   "nbconvert_exporter": "python",
   "pygments_lexer": "ipython3",
   "version": "3.8.13"
  }
 },
 "nbformat": 4,
 "nbformat_minor": 4
}
