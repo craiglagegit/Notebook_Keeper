{
 "cells": [
  {
   "cell_type": "markdown",
   "metadata": {},
   "source": [
    "# Query the EFD\n",
    "\n",
    "Craig Lage - 06-Aug-24"
   ]
  },
  {
   "cell_type": "code",
   "execution_count": null,
   "metadata": {
    "execution": {
     "iopub.execute_input": "2024-10-16T12:29:20.085141Z",
     "iopub.status.busy": "2024-10-16T12:29:20.084792Z",
     "iopub.status.idle": "2024-10-16T12:29:20.844882Z",
     "shell.execute_reply": "2024-10-16T12:29:20.844363Z",
     "shell.execute_reply.started": "2024-10-16T12:29:20.085121Z"
    },
    "tags": []
   },
   "outputs": [],
   "source": [
    "import sys, time, os, asyncio, glob\n",
    "import numpy as np\n",
    "import pandas as pd\n",
    "import matplotlib.pyplot as plt\n",
    "from astropy.time import Time, TimeDelta\n",
    "from lsst_efd_client import EfdClient"
   ]
  },
  {
   "cell_type": "code",
   "execution_count": null,
   "metadata": {
    "execution": {
     "iopub.execute_input": "2024-10-16T12:29:21.703897Z",
     "iopub.status.busy": "2024-10-16T12:29:21.703173Z",
     "iopub.status.idle": "2024-10-16T12:29:22.915512Z",
     "shell.execute_reply": "2024-10-16T12:29:22.914989Z",
     "shell.execute_reply.started": "2024-10-16T12:29:21.703870Z"
    },
    "tags": []
   },
   "outputs": [],
   "source": [
    "client = EfdClient('summit_efd') # 'usdf_efd' at USDF"
   ]
  },
  {
   "cell_type": "markdown",
   "metadata": {},
   "source": [
    "# Sample query"
   ]
  },
  {
   "cell_type": "code",
   "execution_count": null,
   "metadata": {
    "execution": {
     "iopub.execute_input": "2024-10-09T23:48:57.225537Z",
     "iopub.status.busy": "2024-10-09T23:48:57.225186Z",
     "iopub.status.idle": "2024-10-09T23:48:58.483786Z",
     "shell.execute_reply": "2024-10-09T23:48:58.483380Z",
     "shell.execute_reply.started": "2024-10-09T23:48:57.225519Z"
    }
   },
   "outputs": [],
   "source": [
    "start = Time(\"2024-10-09 23:00:00Z\", scale='utc')\n",
    "end = Time(\"2024-10-09 23:40:00Z\", scale='utc')\n",
    "rot = await client.select_packed_time_series('lsst.sal.ATMCS.mount_Nasmyth_Encoders', ['nasmyth1CalculatedAngle'], start, end)\n",
    "len(rot)"
   ]
  },
  {
   "cell_type": "code",
   "execution_count": null,
   "metadata": {
    "execution": {
     "iopub.execute_input": "2024-10-09T23:49:04.967626Z",
     "iopub.status.busy": "2024-10-09T23:49:04.967031Z",
     "iopub.status.idle": "2024-10-09T23:49:05.236313Z",
     "shell.execute_reply": "2024-10-09T23:49:05.235923Z",
     "shell.execute_reply.started": "2024-10-09T23:49:04.967600Z"
    }
   },
   "outputs": [],
   "source": [
    "rot['nasmyth1CalculatedAngle'].plot()"
   ]
  },
  {
   "cell_type": "code",
   "execution_count": null,
   "metadata": {
    "execution": {
     "iopub.execute_input": "2024-07-30T18:44:43.803996Z",
     "iopub.status.busy": "2024-07-30T18:44:43.803185Z",
     "iopub.status.idle": "2024-07-30T18:44:43.810018Z",
     "shell.execute_reply": "2024-07-30T18:44:43.809184Z",
     "shell.execute_reply.started": "2024-07-30T18:44:43.803965Z"
    }
   },
   "outputs": [],
   "source": [
    "az.columns"
   ]
  },
  {
   "cell_type": "code",
   "execution_count": null,
   "metadata": {
    "execution": {
     "iopub.execute_input": "2024-07-30T18:45:56.040095Z",
     "iopub.status.busy": "2024-07-30T18:45:56.039689Z",
     "iopub.status.idle": "2024-07-30T18:45:56.057168Z",
     "shell.execute_reply": "2024-07-30T18:45:56.056527Z",
     "shell.execute_reply.started": "2024-07-30T18:45:56.040044Z"
    }
   },
   "outputs": [],
   "source": [
    "az.head(3)"
   ]
  },
  {
   "cell_type": "code",
   "execution_count": null,
   "metadata": {
    "execution": {
     "iopub.execute_input": "2024-07-30T18:45:17.999271Z",
     "iopub.status.busy": "2024-07-30T18:45:17.998869Z",
     "iopub.status.idle": "2024-07-30T18:45:19.232579Z",
     "shell.execute_reply": "2024-07-30T18:45:19.231565Z",
     "shell.execute_reply.started": "2024-07-30T18:45:17.999239Z"
    }
   },
   "outputs": [],
   "source": [
    "az['azimuthPosition'].plot()"
   ]
  },
  {
   "cell_type": "markdown",
   "metadata": {},
   "source": [
    "# Querying available topics"
   ]
  },
  {
   "cell_type": "code",
   "execution_count": null,
   "metadata": {
    "execution": {
     "iopub.execute_input": "2024-07-30T18:42:07.784911Z",
     "iopub.status.busy": "2024-07-30T18:42:07.784123Z",
     "iopub.status.idle": "2024-07-30T18:42:07.862310Z",
     "shell.execute_reply": "2024-07-30T18:42:07.861412Z",
     "shell.execute_reply.started": "2024-07-30T18:42:07.784878Z"
    },
    "jupyter": {
     "outputs_hidden": true
    },
    "tags": []
   },
   "outputs": [],
   "source": [
    "await client.get_topics()"
   ]
  },
  {
   "cell_type": "code",
   "execution_count": null,
   "metadata": {
    "execution": {
     "iopub.execute_input": "2024-07-30T18:42:32.539309Z",
     "iopub.status.busy": "2024-07-30T18:42:32.539054Z",
     "iopub.status.idle": "2024-07-30T18:42:32.571523Z",
     "shell.execute_reply": "2024-07-30T18:42:32.570607Z",
     "shell.execute_reply.started": "2024-07-30T18:42:32.539290Z"
    },
    "tags": []
   },
   "outputs": [],
   "source": [
    "topics = await client.get_topics()\n",
    "for topic in topics:\n",
    "    if 'Hexapod' in topic:\n",
    "        print(topic)"
   ]
  },
  {
   "cell_type": "code",
   "execution_count": null,
   "metadata": {
    "execution": {
     "iopub.execute_input": "2024-10-16T12:29:52.594364Z",
     "iopub.status.busy": "2024-10-16T12:29:52.594024Z",
     "iopub.status.idle": "2024-10-16T12:30:14.636746Z",
     "shell.execute_reply": "2024-10-16T12:30:14.636210Z",
     "shell.execute_reply.started": "2024-10-16T12:29:52.594344Z"
    }
   },
   "outputs": [],
   "source": [
    "start = Time(\"2024-10-07T12:00:00\", scale='utc')\n",
    "end = Time(\"2024-10-07T15:00:00\", scale='utc')\n",
    "acc = await client.select_time_series(\"lsst.sal.MTM1M3.accelerometerData\", \\\n",
    "                                            ['*'], \\\n",
    "                                             start, end)\n",
    "gyro = await client.select_time_series(\"lsst.sal.MTM1M3.gyroData\", \\\n",
    "                                            ['*'], \\\n",
    "                                             start, end)\n",
    "print(len(acc), len(gyro))"
   ]
  },
  {
   "cell_type": "code",
   "execution_count": null,
   "metadata": {
    "execution": {
     "iopub.execute_input": "2024-10-07T16:55:00.926835Z",
     "iopub.status.busy": "2024-10-07T16:55:00.926472Z",
     "iopub.status.idle": "2024-10-07T16:55:00.941698Z",
     "shell.execute_reply": "2024-10-07T16:55:00.941305Z",
     "shell.execute_reply.started": "2024-10-07T16:55:00.926814Z"
    }
   },
   "outputs": [],
   "source": [
    "acc.head(2)"
   ]
  },
  {
   "cell_type": "code",
   "execution_count": null,
   "metadata": {
    "execution": {
     "iopub.execute_input": "2024-10-07T16:55:03.857988Z",
     "iopub.status.busy": "2024-10-07T16:55:03.857580Z",
     "iopub.status.idle": "2024-10-07T16:55:03.871590Z",
     "shell.execute_reply": "2024-10-07T16:55:03.871113Z",
     "shell.execute_reply.started": "2024-10-07T16:55:03.857967Z"
    }
   },
   "outputs": [],
   "source": [
    "acc.tail(2)"
   ]
  },
  {
   "cell_type": "code",
   "execution_count": null,
   "metadata": {
    "execution": {
     "iopub.execute_input": "2024-10-16T12:59:51.949932Z",
     "iopub.status.busy": "2024-10-16T12:59:51.949565Z",
     "iopub.status.idle": "2024-10-16T13:00:04.104563Z",
     "shell.execute_reply": "2024-10-16T13:00:04.104039Z",
     "shell.execute_reply.started": "2024-10-16T12:59:51.949911Z"
    }
   },
   "outputs": [],
   "source": [
    "start = Time(\"2024-10-07T18:40:00\", scale='utc')\n",
    "end = Time(\"2024-10-07T19:30:00\", scale='utc')\n",
    "acc = await client.select_time_series(\"lsst.sal.MTM1M3.accelerometerData\", \\\n",
    "                                            ['*'], \\\n",
    "                                             start, end)\n",
    "\n",
    "plt.title('MTM1M3 Accelerometers - 07-Oct-24', fontsize=18) \n",
    "for i in range(8):\n",
    "    acc[f'accelerometer{i}'].plot(label=f'{i}')\n",
    "plt.ylim(-0.5, 0.5)\n",
    "plt.legend(loc='upper left')\n",
    "plt.savefig(\"/home/cslage/DATA/MTM13_Accelerometers_07Oct24.png\")"
   ]
  },
  {
   "cell_type": "code",
   "execution_count": null,
   "metadata": {},
   "outputs": [],
   "source": [
    "start = Time(\"2024-10-07T18:40:00\", scale='utc')\n",
    "end = Time(\"2024-10-07T19:30:00\", scale='utc')\n",
    "gyro = await client.select_time_series(\"lsst.sal.MTM1M3.gyroData\", \\\n",
    "                                            ['*'], \\\n",
    "                                             start, end)\n",
    "acc = await client.select_time_series(\"lsst.sal.MTM1M3.accelerometerData\", \\\n",
    "                                            ['*'], \\\n",
    "                                             start, end)\n",
    "mtMount = await client.select_time_series(\"lsst.sal.MTMount.azimuth\", \\\n",
    "                                            ['*'], \\\n",
    "                                             start, end)\n"
   ]
  },
  {
   "cell_type": "code",
   "execution_count": null,
   "metadata": {
    "execution": {
     "iopub.execute_input": "2024-10-16T13:16:24.087649Z",
     "iopub.status.busy": "2024-10-16T13:16:24.087225Z",
     "iopub.status.idle": "2024-10-16T13:16:34.364475Z",
     "shell.execute_reply": "2024-10-16T13:16:34.363784Z",
     "shell.execute_reply.started": "2024-10-16T13:16:24.087627Z"
    }
   },
   "outputs": [],
   "source": [
    "fig = plt.figure(figsize=(10,8))\n",
    "plt.subplots_adjust(hspace=0.5)\n",
    "plt.subplot(2,3,1)\n",
    "plt.title('Azimuth position', fontsize=18)\n",
    "mtMount['actualPosition'].plot()\n",
    "plt.subplot(2,3,2)\n",
    "plt.title('Azimuth velocity', fontsize=18)\n",
    "mtMount['actualVelocity'].plot()\n",
    "plt.ylim(0.20, -0.20)\n",
    "plt.subplot(2,3,3)\n",
    "plt.title('Azimuth acceleration', fontsize=18)\n",
    "mtMount['actualAcceleration'].plot()\n",
    "plt.ylim(-5.0, 5.0)\n",
    "plt.subplot(2,3,5)\n",
    "plt.title('MTM1M3 Gyros', fontsize=18) \n",
    "axes = ['X', 'Y', 'Z']\n",
    "for axis in axes:\n",
    "    gyro[f'angularVelocity{axis}'].plot(label=f'{axis}')\n",
    "plt.legend(bbox_to_anchor=(-0.1, 0.8))\n",
    "plt.subplot(2,3,6)\n",
    "plt.title('MTM1M3 Accels', fontsize=18) \n",
    "for i in range(8):\n",
    "    acc[f'accelerometer{i}'].plot(label=f'{i}')\n",
    "plt.ylim(-0.2, 0.2)\n",
    "plt.legend(bbox_to_anchor=(1.05, 0.9))\n",
    "\n",
    "plt.savefig(\"/home/cslage/DATA/MTM13_Gyros_Accels_07Oct24.png\")"
   ]
  },
  {
   "cell_type": "code",
   "execution_count": null,
   "metadata": {},
   "outputs": [],
   "source": []
  }
 ],
 "metadata": {
  "kernelspec": {
   "display_name": "LSST",
   "language": "python",
   "name": "lsst"
  },
  "language_info": {
   "codemirror_mode": {
    "name": "ipython",
    "version": 3
   },
   "file_extension": ".py",
   "mimetype": "text/x-python",
   "name": "python",
   "nbconvert_exporter": "python",
   "pygments_lexer": "ipython3",
   "version": "3.11.10"
  }
 },
 "nbformat": 4,
 "nbformat_minor": 4
}
