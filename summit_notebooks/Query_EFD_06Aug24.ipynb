{
 "cells": [
  {
   "cell_type": "markdown",
   "metadata": {},
   "source": [
    "# Query the EFD\n",
    "\n",
    "Craig Lage - 06-Aug-24"
   ]
  },
  {
   "cell_type": "code",
   "execution_count": null,
   "metadata": {
    "execution": {
     "iopub.execute_input": "2025-02-28T14:22:10.500634Z",
     "iopub.status.busy": "2025-02-28T14:22:10.500267Z",
     "iopub.status.idle": "2025-02-28T14:22:11.247422Z",
     "shell.execute_reply": "2025-02-28T14:22:11.246973Z",
     "shell.execute_reply.started": "2025-02-28T14:22:10.500616Z"
    },
    "tags": []
   },
   "outputs": [],
   "source": [
    "import sys, time, os, asyncio, glob\n",
    "import numpy as np\n",
    "import pandas as pd\n",
    "import matplotlib.pyplot as plt\n",
    "from astropy.time import Time, TimeDelta\n",
    "from lsst_efd_client import EfdClient"
   ]
  },
  {
   "cell_type": "code",
   "execution_count": null,
   "metadata": {
    "execution": {
     "iopub.execute_input": "2025-02-28T14:22:11.277252Z",
     "iopub.status.busy": "2025-02-28T14:22:11.276794Z",
     "iopub.status.idle": "2025-02-28T14:22:12.322598Z",
     "shell.execute_reply": "2025-02-28T14:22:12.322078Z",
     "shell.execute_reply.started": "2025-02-28T14:22:11.277232Z"
    },
    "tags": []
   },
   "outputs": [],
   "source": [
    "client = EfdClient('summit_efd') # 'usdf_efd' at USDF"
   ]
  },
  {
   "cell_type": "markdown",
   "metadata": {},
   "source": [
    "# Sample query"
   ]
  },
  {
   "cell_type": "code",
   "execution_count": null,
   "metadata": {
    "execution": {
     "iopub.execute_input": "2025-01-27T11:07:29.391915Z",
     "iopub.status.busy": "2025-01-27T11:07:29.391496Z",
     "iopub.status.idle": "2025-01-27T11:07:29.728383Z",
     "shell.execute_reply": "2025-01-27T11:07:29.727897Z",
     "shell.execute_reply.started": "2025-01-27T11:07:29.391892Z"
    }
   },
   "outputs": [],
   "source": [
    "start = Time(\"2025-01-25 14:00:00Z\", scale='utc')\n",
    "end = Time(\"2025-01-27 11:00:00Z\", scale='utc')\n",
    "#start = Time(\"2025-01-25 14:45:00Z\", scale='utc')\n",
    "#end = Time(\"2025-01-25 14:50:00Z\", scale='utc')\n",
    "vac = await client.select_time_series('lsst.sal.ATCamera.vacuum', ['*'], start, end)\n",
    "len(temps)"
   ]
  },
  {
   "cell_type": "code",
   "execution_count": null,
   "metadata": {
    "execution": {
     "iopub.execute_input": "2025-01-23T16:54:19.695907Z",
     "iopub.status.busy": "2025-01-23T16:54:19.695599Z",
     "iopub.status.idle": "2025-01-23T16:54:19.699769Z",
     "shell.execute_reply": "2025-01-23T16:54:19.699319Z",
     "shell.execute_reply.started": "2025-01-23T16:54:19.695880Z"
    }
   },
   "outputs": [],
   "source": [
    "vac.columns"
   ]
  },
  {
   "cell_type": "code",
   "execution_count": null,
   "metadata": {
    "execution": {
     "iopub.execute_input": "2025-01-25T17:49:47.188808Z",
     "iopub.status.busy": "2025-01-25T17:49:47.188366Z",
     "iopub.status.idle": "2025-01-25T17:49:47.207347Z",
     "shell.execute_reply": "2025-01-25T17:49:47.206712Z",
     "shell.execute_reply.started": "2025-01-25T17:49:47.188766Z"
    },
    "jupyter": {
     "outputs_hidden": true
    }
   },
   "outputs": [],
   "source": [
    "vac"
   ]
  },
  {
   "cell_type": "code",
   "execution_count": null,
   "metadata": {},
   "outputs": [],
   "source": []
  },
  {
   "cell_type": "code",
   "execution_count": null,
   "metadata": {
    "execution": {
     "iopub.execute_input": "2025-01-27T11:05:46.160324Z",
     "iopub.status.busy": "2025-01-27T11:05:46.160050Z",
     "iopub.status.idle": "2025-01-27T11:05:46.318472Z",
     "shell.execute_reply": "2025-01-27T11:05:46.318047Z",
     "shell.execute_reply.started": "2025-01-27T11:05:46.160308Z"
    }
   },
   "outputs": [],
   "source": [
    "vac['private_sndStamp'].plot(marker='x')\n",
    "plt.ylabel(\"lsst.sal.ATCamera.vacuum.private_sndStamp\")\n",
    "#plt.title(\"2025-01-22T22:01:34 UTC\")\n",
    "#plt.title(\"2025-01-25T14:47:15 UTC\")"
   ]
  },
  {
   "cell_type": "code",
   "execution_count": null,
   "metadata": {
    "execution": {
     "iopub.execute_input": "2025-01-25T18:01:44.853770Z",
     "iopub.status.busy": "2025-01-25T18:01:44.853213Z",
     "iopub.status.idle": "2025-01-25T18:01:44.857825Z",
     "shell.execute_reply": "2025-01-25T18:01:44.857269Z",
     "shell.execute_reply.started": "2025-01-25T18:01:44.853753Z"
    }
   },
   "outputs": [],
   "source": [
    "vac['private_sndStamp'].values - vac['private_sndStamp'].values[0]"
   ]
  },
  {
   "cell_type": "code",
   "execution_count": null,
   "metadata": {
    "execution": {
     "iopub.execute_input": "2025-01-22T17:43:16.668762Z",
     "iopub.status.busy": "2025-01-22T17:43:16.668475Z",
     "iopub.status.idle": "2025-01-22T17:43:17.299947Z",
     "shell.execute_reply": "2025-01-22T17:43:17.299449Z",
     "shell.execute_reply.started": "2025-01-22T17:43:16.668743Z"
    }
   },
   "outputs": [],
   "source": [
    "temps['temp10'].plot()\n",
    "temps['temp1'].plot()"
   ]
  },
  {
   "cell_type": "code",
   "execution_count": null,
   "metadata": {
    "execution": {
     "iopub.execute_input": "2025-01-23T17:14:40.809877Z",
     "iopub.status.busy": "2025-01-23T17:14:40.809463Z",
     "iopub.status.idle": "2025-01-23T17:14:40.974130Z",
     "shell.execute_reply": "2025-01-23T17:14:40.973451Z",
     "shell.execute_reply.started": "2025-01-23T17:14:40.809858Z"
    }
   },
   "outputs": [],
   "source": [
    "start = Time(\"2025-01-22 20:00:00Z\", scale='utc')\n",
    "end = Time(\"2025-01-23 17:00:00Z\", scale='utc')\n",
    "vac = await client.select_time_series('lsst.sal.ATCamera.vacuum', ['*'], start, end)\n",
    "len(vac)"
   ]
  },
  {
   "cell_type": "code",
   "execution_count": null,
   "metadata": {},
   "outputs": [],
   "source": []
  },
  {
   "cell_type": "code",
   "execution_count": null,
   "metadata": {
    "execution": {
     "iopub.execute_input": "2025-02-28T15:07:07.135844Z",
     "iopub.status.busy": "2025-02-28T15:07:07.135466Z",
     "iopub.status.idle": "2025-02-28T15:07:07.211747Z",
     "shell.execute_reply": "2025-02-28T15:07:07.211243Z",
     "shell.execute_reply.started": "2025-02-28T15:07:07.135826Z"
    }
   },
   "outputs": [],
   "source": [
    "start = Time(\"2025-02-27 16:20:00Z\", scale='utc')\n",
    "end = Time(\"2025-02-27 16:26:00Z\", scale='utc')\n",
    "sal = await client.select_time_series('lsst.sal.Script.logevent_description', ['*'], start, end)\n",
    "salIndex = sal['salIndex'].values[0]\n",
    "print(salIndex)\n",
    "msg = await client.select_time_series('lsst.sal.Script.logevent_logMessage', ['*'], start, end)\n",
    "for i in range(len(msg)):\n",
    "    if msg.iloc[i]['salIndex'] == salIndex:\n",
    "        print(msg.iloc[i]['traceback'])"
   ]
  },
  {
   "cell_type": "code",
   "execution_count": null,
   "metadata": {
    "execution": {
     "iopub.execute_input": "2025-01-27T11:07:34.704410Z",
     "iopub.status.busy": "2025-01-27T11:07:34.704078Z",
     "iopub.status.idle": "2025-01-27T11:07:34.867025Z",
     "shell.execute_reply": "2025-01-27T11:07:34.866367Z",
     "shell.execute_reply.started": "2025-01-27T11:07:34.704393Z"
    }
   },
   "outputs": [],
   "source": [
    "sndStamps = vac[\"private_sndStamp\"]\n",
    "timestamps = sndStamps.values\n",
    "print(len(timestamps))\n",
    "deltaTs = []\n",
    "for n in range(1, len(timestamps)):\n",
    "    deltaTs.append(timestamps[n] - timestamps[n-1])\n",
    "sig = np.std(deltaTs)\n",
    "%matplotlib inline\n",
    "plt.title(f\"private_sndStamps deltas\")\n",
    "plt.plot(deltaTs, marker='x')\n",
    "#plt.text(2.0, 2.2,f\"DeltaT sigma = {sig:.2g}\")\n",
    "plt.xlabel(\"Time(sec)\")\n",
    "plt.ylabel(\"DeltaT between successive timestamps (sec)\")\n"
   ]
  },
  {
   "cell_type": "code",
   "execution_count": null,
   "metadata": {},
   "outputs": [],
   "source": []
  },
  {
   "cell_type": "code",
   "execution_count": null,
   "metadata": {},
   "outputs": [],
   "source": []
  },
  {
   "cell_type": "code",
   "execution_count": null,
   "metadata": {},
   "outputs": [],
   "source": []
  },
  {
   "cell_type": "code",
   "execution_count": null,
   "metadata": {
    "execution": {
     "iopub.execute_input": "2024-10-09T23:49:04.967626Z",
     "iopub.status.busy": "2024-10-09T23:49:04.967031Z",
     "iopub.status.idle": "2024-10-09T23:49:05.236313Z",
     "shell.execute_reply": "2024-10-09T23:49:05.235923Z",
     "shell.execute_reply.started": "2024-10-09T23:49:04.967600Z"
    }
   },
   "outputs": [],
   "source": [
    "rot['nasmyth1CalculatedAngle'].plot()"
   ]
  },
  {
   "cell_type": "code",
   "execution_count": null,
   "metadata": {
    "execution": {
     "iopub.execute_input": "2024-07-30T18:44:43.803996Z",
     "iopub.status.busy": "2024-07-30T18:44:43.803185Z",
     "iopub.status.idle": "2024-07-30T18:44:43.810018Z",
     "shell.execute_reply": "2024-07-30T18:44:43.809184Z",
     "shell.execute_reply.started": "2024-07-30T18:44:43.803965Z"
    }
   },
   "outputs": [],
   "source": [
    "az.columns"
   ]
  },
  {
   "cell_type": "code",
   "execution_count": null,
   "metadata": {
    "execution": {
     "iopub.execute_input": "2024-07-30T18:45:56.040095Z",
     "iopub.status.busy": "2024-07-30T18:45:56.039689Z",
     "iopub.status.idle": "2024-07-30T18:45:56.057168Z",
     "shell.execute_reply": "2024-07-30T18:45:56.056527Z",
     "shell.execute_reply.started": "2024-07-30T18:45:56.040044Z"
    }
   },
   "outputs": [],
   "source": [
    "az.head(3)"
   ]
  },
  {
   "cell_type": "code",
   "execution_count": null,
   "metadata": {
    "execution": {
     "iopub.execute_input": "2024-07-30T18:45:17.999271Z",
     "iopub.status.busy": "2024-07-30T18:45:17.998869Z",
     "iopub.status.idle": "2024-07-30T18:45:19.232579Z",
     "shell.execute_reply": "2024-07-30T18:45:19.231565Z",
     "shell.execute_reply.started": "2024-07-30T18:45:17.999239Z"
    }
   },
   "outputs": [],
   "source": [
    "az['azimuthPosition'].plot()"
   ]
  },
  {
   "cell_type": "markdown",
   "metadata": {},
   "source": [
    "# Querying available topics"
   ]
  },
  {
   "cell_type": "code",
   "execution_count": null,
   "metadata": {
    "execution": {
     "iopub.execute_input": "2025-01-22T16:54:24.011210Z",
     "iopub.status.busy": "2025-01-22T16:54:24.010868Z",
     "iopub.status.idle": "2025-01-22T16:54:24.048341Z",
     "shell.execute_reply": "2025-01-22T16:54:24.047857Z",
     "shell.execute_reply.started": "2025-01-22T16:54:24.011192Z"
    },
    "jupyter": {
     "outputs_hidden": true
    },
    "tags": []
   },
   "outputs": [],
   "source": [
    "await client.get_topics()"
   ]
  },
  {
   "cell_type": "code",
   "execution_count": null,
   "metadata": {
    "execution": {
     "iopub.execute_input": "2024-07-30T18:42:32.539309Z",
     "iopub.status.busy": "2024-07-30T18:42:32.539054Z",
     "iopub.status.idle": "2024-07-30T18:42:32.571523Z",
     "shell.execute_reply": "2024-07-30T18:42:32.570607Z",
     "shell.execute_reply.started": "2024-07-30T18:42:32.539290Z"
    },
    "tags": []
   },
   "outputs": [],
   "source": [
    "topics = await client.get_topics()\n",
    "for topic in topics:\n",
    "    if 'Hexapod' in topic:\n",
    "        print(topic)"
   ]
  },
  {
   "cell_type": "code",
   "execution_count": null,
   "metadata": {
    "execution": {
     "iopub.execute_input": "2024-10-16T12:29:52.594364Z",
     "iopub.status.busy": "2024-10-16T12:29:52.594024Z",
     "iopub.status.idle": "2024-10-16T12:30:14.636746Z",
     "shell.execute_reply": "2024-10-16T12:30:14.636210Z",
     "shell.execute_reply.started": "2024-10-16T12:29:52.594344Z"
    }
   },
   "outputs": [],
   "source": [
    "start = Time(\"2024-10-07T12:00:00\", scale='utc')\n",
    "end = Time(\"2024-10-07T15:00:00\", scale='utc')\n",
    "acc = await client.select_time_series(\"lsst.sal.MTM1M3.accelerometerData\", \\\n",
    "                                            ['*'], \\\n",
    "                                             start, end)\n",
    "gyro = await client.select_time_series(\"lsst.sal.MTM1M3.gyroData\", \\\n",
    "                                            ['*'], \\\n",
    "                                             start, end)\n",
    "print(len(acc), len(gyro))"
   ]
  },
  {
   "cell_type": "code",
   "execution_count": null,
   "metadata": {
    "execution": {
     "iopub.execute_input": "2024-10-07T16:55:00.926835Z",
     "iopub.status.busy": "2024-10-07T16:55:00.926472Z",
     "iopub.status.idle": "2024-10-07T16:55:00.941698Z",
     "shell.execute_reply": "2024-10-07T16:55:00.941305Z",
     "shell.execute_reply.started": "2024-10-07T16:55:00.926814Z"
    }
   },
   "outputs": [],
   "source": [
    "acc.head(2)"
   ]
  },
  {
   "cell_type": "code",
   "execution_count": null,
   "metadata": {
    "execution": {
     "iopub.execute_input": "2024-10-07T16:55:03.857988Z",
     "iopub.status.busy": "2024-10-07T16:55:03.857580Z",
     "iopub.status.idle": "2024-10-07T16:55:03.871590Z",
     "shell.execute_reply": "2024-10-07T16:55:03.871113Z",
     "shell.execute_reply.started": "2024-10-07T16:55:03.857967Z"
    }
   },
   "outputs": [],
   "source": [
    "acc.tail(2)"
   ]
  },
  {
   "cell_type": "code",
   "execution_count": null,
   "metadata": {
    "execution": {
     "iopub.execute_input": "2024-10-16T12:59:51.949932Z",
     "iopub.status.busy": "2024-10-16T12:59:51.949565Z",
     "iopub.status.idle": "2024-10-16T13:00:04.104563Z",
     "shell.execute_reply": "2024-10-16T13:00:04.104039Z",
     "shell.execute_reply.started": "2024-10-16T12:59:51.949911Z"
    }
   },
   "outputs": [],
   "source": [
    "start = Time(\"2024-10-07T18:40:00\", scale='utc')\n",
    "end = Time(\"2024-10-07T19:30:00\", scale='utc')\n",
    "acc = await client.select_time_series(\"lsst.sal.MTM1M3.accelerometerData\", \\\n",
    "                                            ['*'], \\\n",
    "                                             start, end)\n",
    "\n",
    "plt.title('MTM1M3 Accelerometers - 07-Oct-24', fontsize=18) \n",
    "for i in range(8):\n",
    "    acc[f'accelerometer{i}'].plot(label=f'{i}')\n",
    "plt.ylim(-0.5, 0.5)\n",
    "plt.legend(loc='upper left')\n",
    "plt.savefig(\"/home/cslage/DATA/MTM13_Accelerometers_07Oct24.png\")"
   ]
  },
  {
   "cell_type": "code",
   "execution_count": null,
   "metadata": {},
   "outputs": [],
   "source": [
    "start = Time(\"2024-10-07T18:40:00\", scale='utc')\n",
    "end = Time(\"2024-10-07T19:30:00\", scale='utc')\n",
    "gyro = await client.select_time_series(\"lsst.sal.MTM1M3.gyroData\", \\\n",
    "                                            ['*'], \\\n",
    "                                             start, end)\n",
    "acc = await client.select_time_series(\"lsst.sal.MTM1M3.accelerometerData\", \\\n",
    "                                            ['*'], \\\n",
    "                                             start, end)\n",
    "mtMount = await client.select_time_series(\"lsst.sal.MTMount.azimuth\", \\\n",
    "                                            ['*'], \\\n",
    "                                             start, end)\n"
   ]
  },
  {
   "cell_type": "code",
   "execution_count": null,
   "metadata": {
    "execution": {
     "iopub.execute_input": "2024-10-16T13:16:24.087649Z",
     "iopub.status.busy": "2024-10-16T13:16:24.087225Z",
     "iopub.status.idle": "2024-10-16T13:16:34.364475Z",
     "shell.execute_reply": "2024-10-16T13:16:34.363784Z",
     "shell.execute_reply.started": "2024-10-16T13:16:24.087627Z"
    }
   },
   "outputs": [],
   "source": [
    "fig = plt.figure(figsize=(10,8))\n",
    "plt.subplots_adjust(hspace=0.5)\n",
    "plt.subplot(2,3,1)\n",
    "plt.title('Azimuth position', fontsize=18)\n",
    "mtMount['actualPosition'].plot()\n",
    "plt.subplot(2,3,2)\n",
    "plt.title('Azimuth velocity', fontsize=18)\n",
    "mtMount['actualVelocity'].plot()\n",
    "plt.ylim(0.20, -0.20)\n",
    "plt.subplot(2,3,3)\n",
    "plt.title('Azimuth acceleration', fontsize=18)\n",
    "mtMount['actualAcceleration'].plot()\n",
    "plt.ylim(-5.0, 5.0)\n",
    "plt.subplot(2,3,5)\n",
    "plt.title('MTM1M3 Gyros', fontsize=18) \n",
    "axes = ['X', 'Y', 'Z']\n",
    "for axis in axes:\n",
    "    gyro[f'angularVelocity{axis}'].plot(label=f'{axis}')\n",
    "plt.legend(bbox_to_anchor=(-0.1, 0.8))\n",
    "plt.subplot(2,3,6)\n",
    "plt.title('MTM1M3 Accels', fontsize=18) \n",
    "for i in range(8):\n",
    "    acc[f'accelerometer{i}'].plot(label=f'{i}')\n",
    "plt.ylim(-0.2, 0.2)\n",
    "plt.legend(bbox_to_anchor=(1.05, 0.9))\n",
    "\n",
    "plt.savefig(\"/home/cslage/DATA/MTM13_Gyros_Accels_07Oct24.png\")"
   ]
  },
  {
   "cell_type": "code",
   "execution_count": null,
   "metadata": {},
   "outputs": [],
   "source": []
  }
 ],
 "metadata": {
  "kernelspec": {
   "display_name": "LSST",
   "language": "python",
   "name": "lsst"
  },
  "language_info": {
   "codemirror_mode": {
    "name": "ipython",
    "version": 3
   },
   "file_extension": ".py",
   "mimetype": "text/x-python",
   "name": "python",
   "nbconvert_exporter": "python",
   "pygments_lexer": "ipython3",
   "version": "3.11.11"
  }
 },
 "nbformat": 4,
 "nbformat_minor": 4
}
