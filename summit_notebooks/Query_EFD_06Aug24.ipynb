{
 "cells": [
  {
   "cell_type": "markdown",
   "metadata": {},
   "source": [
    "# Query the EFD\n",
    "\n",
    "Craig Lage - 06-Aug-24"
   ]
  },
  {
   "cell_type": "code",
   "execution_count": null,
   "metadata": {
    "execution": {
     "iopub.execute_input": "2024-07-30T18:40:56.932515Z",
     "iopub.status.busy": "2024-07-30T18:40:56.932109Z",
     "iopub.status.idle": "2024-07-30T18:40:57.060599Z",
     "shell.execute_reply": "2024-07-30T18:40:57.059937Z",
     "shell.execute_reply.started": "2024-07-30T18:40:56.932483Z"
    },
    "tags": []
   },
   "outputs": [],
   "source": [
    "import sys, time, os, asyncio, glob\n",
    "import numpy as np\n",
    "import pandas as pd\n",
    "from astropy.time import Time, TimeDelta\n",
    "from lsst_efd_client import EfdClient"
   ]
  },
  {
   "cell_type": "code",
   "execution_count": null,
   "metadata": {
    "execution": {
     "iopub.execute_input": "2024-07-30T18:41:01.555542Z",
     "iopub.status.busy": "2024-07-30T18:41:01.555286Z",
     "iopub.status.idle": "2024-07-30T18:41:02.650842Z",
     "shell.execute_reply": "2024-07-30T18:41:02.649799Z",
     "shell.execute_reply.started": "2024-07-30T18:41:01.555523Z"
    },
    "tags": []
   },
   "outputs": [],
   "source": [
    "client = EfdClient('summit_efd') # 'usdf_efd' at USDF"
   ]
  },
  {
   "cell_type": "markdown",
   "metadata": {},
   "source": [
    "# Sample query"
   ]
  },
  {
   "cell_type": "code",
   "execution_count": null,
   "metadata": {
    "execution": {
     "iopub.execute_input": "2024-07-30T18:44:26.259928Z",
     "iopub.status.busy": "2024-07-30T18:44:26.259475Z",
     "iopub.status.idle": "2024-07-30T18:44:27.515901Z",
     "shell.execute_reply": "2024-07-30T18:44:27.515154Z",
     "shell.execute_reply.started": "2024-07-30T18:44:26.259894Z"
    }
   },
   "outputs": [],
   "source": [
    "start = Time(\"2024-07-29 18:30:00Z\", scale='utc')\n",
    "end = Time(\"2024-07-29 23:40:00Z\", scale='utc')\n",
    "az = await client.select_time_series('lsst.sal.ATDome.position', ['*'], start, end)\n",
    "len(az)"
   ]
  },
  {
   "cell_type": "code",
   "execution_count": null,
   "metadata": {
    "execution": {
     "iopub.execute_input": "2024-07-30T18:44:43.803996Z",
     "iopub.status.busy": "2024-07-30T18:44:43.803185Z",
     "iopub.status.idle": "2024-07-30T18:44:43.810018Z",
     "shell.execute_reply": "2024-07-30T18:44:43.809184Z",
     "shell.execute_reply.started": "2024-07-30T18:44:43.803965Z"
    }
   },
   "outputs": [],
   "source": [
    "az.columns"
   ]
  },
  {
   "cell_type": "code",
   "execution_count": null,
   "metadata": {
    "execution": {
     "iopub.execute_input": "2024-07-30T18:45:56.040095Z",
     "iopub.status.busy": "2024-07-30T18:45:56.039689Z",
     "iopub.status.idle": "2024-07-30T18:45:56.057168Z",
     "shell.execute_reply": "2024-07-30T18:45:56.056527Z",
     "shell.execute_reply.started": "2024-07-30T18:45:56.040044Z"
    }
   },
   "outputs": [],
   "source": [
    "az.head(3)"
   ]
  },
  {
   "cell_type": "code",
   "execution_count": null,
   "metadata": {
    "execution": {
     "iopub.execute_input": "2024-07-30T18:45:17.999271Z",
     "iopub.status.busy": "2024-07-30T18:45:17.998869Z",
     "iopub.status.idle": "2024-07-30T18:45:19.232579Z",
     "shell.execute_reply": "2024-07-30T18:45:19.231565Z",
     "shell.execute_reply.started": "2024-07-30T18:45:17.999239Z"
    }
   },
   "outputs": [],
   "source": [
    "az['azimuthPosition'].plot()"
   ]
  },
  {
   "cell_type": "markdown",
   "metadata": {},
   "source": [
    "# Querying available topics"
   ]
  },
  {
   "cell_type": "code",
   "execution_count": null,
   "metadata": {
    "execution": {
     "iopub.execute_input": "2024-07-30T18:42:07.784911Z",
     "iopub.status.busy": "2024-07-30T18:42:07.784123Z",
     "iopub.status.idle": "2024-07-30T18:42:07.862310Z",
     "shell.execute_reply": "2024-07-30T18:42:07.861412Z",
     "shell.execute_reply.started": "2024-07-30T18:42:07.784878Z"
    },
    "jupyter": {
     "outputs_hidden": true
    },
    "tags": []
   },
   "outputs": [],
   "source": [
    "await client.get_topics()"
   ]
  },
  {
   "cell_type": "code",
   "execution_count": null,
   "metadata": {
    "execution": {
     "iopub.execute_input": "2024-07-30T18:42:32.539309Z",
     "iopub.status.busy": "2024-07-30T18:42:32.539054Z",
     "iopub.status.idle": "2024-07-30T18:42:32.571523Z",
     "shell.execute_reply": "2024-07-30T18:42:32.570607Z",
     "shell.execute_reply.started": "2024-07-30T18:42:32.539290Z"
    },
    "tags": []
   },
   "outputs": [],
   "source": [
    "topics = await client.get_topics()\n",
    "for topic in topics:\n",
    "    if 'Hexapod' in topic:\n",
    "        print(topic)"
   ]
  },
  {
   "cell_type": "code",
   "execution_count": null,
   "metadata": {},
   "outputs": [],
   "source": []
  }
 ],
 "metadata": {
  "kernelspec": {
   "display_name": "LSST",
   "language": "python",
   "name": "lsst"
  },
  "language_info": {
   "codemirror_mode": {
    "name": "ipython",
    "version": 3
   },
   "file_extension": ".py",
   "mimetype": "text/x-python",
   "name": "python",
   "nbconvert_exporter": "python",
   "pygments_lexer": "ipython3",
   "version": "3.11.9"
  }
 },
 "nbformat": 4,
 "nbformat_minor": 4
}
