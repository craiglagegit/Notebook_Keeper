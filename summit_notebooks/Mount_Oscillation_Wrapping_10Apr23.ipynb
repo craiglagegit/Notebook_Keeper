{
 "cells": [
  {
   "cell_type": "markdown",
   "metadata": {},
   "source": [
    "## Looking at the azimuth wrapping as a cause of oscillation fails\n",
    "\n",
    "Craig Lage - 10-Apr-23"
   ]
  },
  {
   "cell_type": "code",
   "execution_count": null,
   "metadata": {
    "execution": {
     "iopub.execute_input": "2023-04-11T18:26:58.612794Z",
     "iopub.status.busy": "2023-04-11T18:26:58.612424Z",
     "iopub.status.idle": "2023-04-11T18:26:59.287146Z",
     "shell.execute_reply": "2023-04-11T18:26:59.286570Z",
     "shell.execute_reply.started": "2023-04-11T18:26:58.612777Z"
    },
    "tags": []
   },
   "outputs": [],
   "source": [
    "import sys, time, os, asyncio\n",
    "from datetime import datetime\n",
    "import numpy as np\n",
    "import matplotlib.pyplot as plt\n",
    "import pandas as pd\n",
    "from astropy.time import Time, TimeDelta\n",
    "from lsst_efd_client import EfdClient\n",
    "from lsst.daf.butler import Butler"
   ]
  },
  {
   "cell_type": "code",
   "execution_count": null,
   "metadata": {
    "execution": {
     "iopub.execute_input": "2023-04-11T18:33:58.632730Z",
     "iopub.status.busy": "2023-04-11T18:33:58.632381Z",
     "iopub.status.idle": "2023-04-11T18:34:00.535366Z",
     "shell.execute_reply": "2023-04-11T18:34:00.534744Z",
     "shell.execute_reply.started": "2023-04-11T18:33:58.632711Z"
    },
    "tags": []
   },
   "outputs": [],
   "source": [
    "# Get EFD client and butler\n",
    "client = EfdClient('summit_efd')\n",
    "butler = Butler('/repo/LATISS', collections=[\"LATISS/raw/all\", \"LATISS/calib\"])"
   ]
  },
  {
   "cell_type": "code",
   "execution_count": null,
   "metadata": {
    "execution": {
     "iopub.execute_input": "2023-04-10T14:11:48.573527Z",
     "iopub.status.busy": "2023-04-10T14:11:48.573242Z",
     "iopub.status.idle": "2023-04-10T14:11:48.578073Z",
     "shell.execute_reply": "2023-04-10T14:11:48.577679Z",
     "shell.execute_reply.started": "2023-04-10T14:11:48.573509Z"
    },
    "tags": []
   },
   "outputs": [],
   "source": [
    "# Times to start looking at encoder values\n",
    "start = Time(\"2023-04-04 14:12:00Z\", scale='utc')\n",
    "end = Time(\"2023-04-04 15:27:00Z\", scale='utc')\n",
    "plotStart = (start + TimeDelta(0.0, format='sec')).to_datetime()\n",
    "plotEnd = (end + TimeDelta(0.0, format='sec')).to_datetime()"
   ]
  },
  {
   "cell_type": "code",
   "execution_count": null,
   "metadata": {
    "execution": {
     "iopub.execute_input": "2023-04-10T14:57:51.514206Z",
     "iopub.status.busy": "2023-04-10T14:57:51.513929Z",
     "iopub.status.idle": "2023-04-10T14:57:58.370137Z",
     "shell.execute_reply": "2023-04-10T14:57:58.369628Z",
     "shell.execute_reply.started": "2023-04-10T14:57:51.514188Z"
    },
    "tags": []
   },
   "outputs": [],
   "source": [
    "az = await client.select_packed_time_series(\"lsst.sal.ATMCS.mount_AzEl_Encoders\", \"azimuthCalculatedAngle\", start, end)\n",
    "azs = az['azimuthCalculatedAngle'].values\n",
    "times = az['times'].values\n",
    "t0 = times[0]\n",
    "times -= t0\n",
    "tmax = times[-1]\n",
    "\n",
    "az_torque_1 =  await client.select_packed_time_series(\"lsst.sal.ATMCS.measuredTorque\", \"azimuthMotor1Torque\", start, end)\n",
    "torques = az_torque_1['azimuthMotor1Torque'].values"
   ]
  },
  {
   "cell_type": "code",
   "execution_count": null,
   "metadata": {
    "execution": {
     "iopub.execute_input": "2023-04-10T14:58:13.252397Z",
     "iopub.status.busy": "2023-04-10T14:58:13.252119Z",
     "iopub.status.idle": "2023-04-10T14:58:13.255673Z",
     "shell.execute_reply": "2023-04-10T14:58:13.255289Z",
     "shell.execute_reply.started": "2023-04-10T14:58:13.252379Z"
    },
    "tags": []
   },
   "outputs": [],
   "source": [
    "t0"
   ]
  },
  {
   "cell_type": "code",
   "execution_count": null,
   "metadata": {
    "execution": {
     "iopub.execute_input": "2023-04-10T15:06:50.793703Z",
     "iopub.status.busy": "2023-04-10T15:06:50.793336Z",
     "iopub.status.idle": "2023-04-10T15:06:51.483776Z",
     "shell.execute_reply": "2023-04-10T15:06:51.483352Z",
     "shell.execute_reply.started": "2023-04-10T15:06:50.793680Z"
    },
    "tags": []
   },
   "outputs": [],
   "source": [
    "plt.clf()\n",
    "fig, [ax1,ax2] = plt.subplots(2,1,figsize = (16,8))\n",
    "plt.subplots_adjust(hspace=0.5)\n",
    "ax1.set_title(\"Impact of unwrapping on mount motion\", fontsize = 18)\n",
    "ax1.plot(times, azs, color='green', label=\"Azimuth\")\n",
    "ax1.set_ylabel(\"Degrees\")\n",
    "ax1.set_xlabel(\"Time (seconds)\")\n",
    "ax3=ax1.twinx()\n",
    "\n",
    "ax2.set_title(\"Azimuth Motor 1 Torque\", fontsize=18)\n",
    "ax2.plot(times, torques)\n",
    "ax2.plot([times[0], times[-1]], [0.0,0.0], ls='--', color='red')\n",
    "ax2.set_ylabel(\"Torque(amps)\")\n",
    "ax2.set_xlabel(\"Time (seconds)\")\n",
    "\n",
    "\n",
    "mount_times = []\n",
    "mount_motions = []\n",
    "for seqNum in df.index.values.tolist():\n",
    "    if seqNum >= 14 and seqNum <= 86:\n",
    "        time = Time(f\"2023-04-04T{df.loc[seqNum]['TAI']}\", format='isot', scale='tai')\n",
    "        mount_times.append(time.unix_tai - t0)\n",
    "        mount_motions.append(df.loc[seqNum]['Mount motion image degradation'])\n",
    "\n",
    "ax3.scatter(mount_times, mount_motions, marker='x', label=\"Mount motion\")\n",
    "ax3.set_ylim(0, 2.5)\n",
    "ax3.set_ylabel(\"Mount motion image degradation (arcseconds)\")\n",
    "        \n",
    "ax1.legend(loc=\"upper left\")\n",
    "ax3.legend()\n",
    "plt.savefig(f\"/home/craiglagegit/DATA/stiction_04apr23/Unwrapping_10Apr23.png\")\n"
   ]
  },
  {
   "cell_type": "code",
   "execution_count": null,
   "metadata": {
    "execution": {
     "iopub.execute_input": "2023-04-10T16:24:48.383610Z",
     "iopub.status.busy": "2023-04-10T16:24:48.383286Z",
     "iopub.status.idle": "2023-04-10T16:24:48.899468Z",
     "shell.execute_reply": "2023-04-10T16:24:48.898938Z",
     "shell.execute_reply.started": "2023-04-10T16:24:48.383592Z"
    }
   },
   "outputs": [],
   "source": [
    "butler = Butler('/repo/LATISS', collections=[\"LATISS/raw/all\", \"LATISS/calib\"])"
   ]
  },
  {
   "cell_type": "code",
   "execution_count": null,
   "metadata": {
    "execution": {
     "iopub.execute_input": "2023-04-11T18:34:05.627087Z",
     "iopub.status.busy": "2023-04-11T18:34:05.626732Z",
     "iopub.status.idle": "2023-04-11T18:34:16.335582Z",
     "shell.execute_reply": "2023-04-11T18:34:16.334993Z",
     "shell.execute_reply.started": "2023-04-11T18:34:05.627069Z"
    },
    "tags": []
   },
   "outputs": [],
   "source": [
    "torques = []\n",
    "mount_motions = []\n",
    "for seqNum in df.index.values.tolist():\n",
    "    if seqNum >= 14 and seqNum <= 86:\n",
    "        \n",
    "        expId = 2023040400000 + seqNum\n",
    "        mData = butler.get('raw.metadata', detector=0, exposure=expId)\n",
    "        tstart = Time(mData['DATE-BEG'], scale='tai')\n",
    "        tend = tstart + TimeDelta(30.0, format='sec')\n",
    "        \n",
    "        az_torque =  await client.select_packed_time_series(\"lsst.sal.ATMCS.measuredTorque\", \"azimuthMotor1Torque\", tstart.utc, tend.utc)\n",
    "        ave_torque = np.mean(abs(az_torque['azimuthMotor1Torque'].values))\n",
    "        #print(expId, tstart, tend, max_torque)\n",
    "        torques.append(ave_torque)\n",
    "        mount_motions.append(df.loc[seqNum]['Mount motion image degradation'])\n",
    "\n",
    "        \n",
    "        \n",
    "        "
   ]
  },
  {
   "cell_type": "code",
   "execution_count": null,
   "metadata": {
    "execution": {
     "iopub.execute_input": "2023-04-10T17:06:51.085755Z",
     "iopub.status.busy": "2023-04-10T17:06:51.085482Z",
     "iopub.status.idle": "2023-04-10T17:06:51.260157Z",
     "shell.execute_reply": "2023-04-10T17:06:51.259739Z",
     "shell.execute_reply.started": "2023-04-10T17:06:51.085738Z"
    },
    "tags": []
   },
   "outputs": [],
   "source": [
    "plt.scatter(torques, mount_motions)\n",
    "plt.title(\"Mount Errors vs tracking torque\", fontsize=18)\n",
    "plt.xlabel(\"Mean(abs(azimuth torque while tracking)) (amps)\")\n",
    "plt.ylabel(\"Mount motion image degradation(arcseconds)\")\n",
    "plt.savefig(f\"/home/craiglagegit/DATA/stiction_04apr23/Errors_vs_Torque_10Apr23.png\")"
   ]
  },
  {
   "cell_type": "code",
   "execution_count": null,
   "metadata": {
    "execution": {
     "iopub.execute_input": "2023-04-10T19:11:26.232451Z",
     "iopub.status.busy": "2023-04-10T19:11:26.232165Z",
     "iopub.status.idle": "2023-04-10T19:11:36.849469Z",
     "shell.execute_reply": "2023-04-10T19:11:36.848999Z",
     "shell.execute_reply.started": "2023-04-10T19:11:26.232435Z"
    },
    "tags": []
   },
   "outputs": [],
   "source": [
    "velocities = []\n",
    "mount_motions = []\n",
    "for seqNum in df.index.values.tolist():\n",
    "    if seqNum >= 14 and seqNum <= 86:\n",
    "        \n",
    "        expId = 2023040400000 + seqNum\n",
    "        mData = butler.get('raw.metadata', detector=0, exposure=expId)\n",
    "        tstart = Time(mData['DATE-BEG'], scale='tai')\n",
    "        tend = tstart + TimeDelta(30.0, format='sec')\n",
    "        \n",
    "        az_velocity =  await client.select_packed_time_series(\"lsst.sal.ATMCS.measuredMotorVelocity\", \"azimuthMotor1Velocity\", tstart.utc, tend.utc)\n",
    "        ave_velocity = np.mean(abs(az_velocity['azimuthMotor1Velocity'].values))\n",
    "        #print(expId, tstart, tend, max_torque)\n",
    "        velocities.append(ave_velocity)\n",
    "        mount_motions.append(df.loc[seqNum]['Mount motion image degradation'])\n",
    "\n",
    "        \n",
    "        \n",
    "        "
   ]
  },
  {
   "cell_type": "code",
   "execution_count": null,
   "metadata": {
    "execution": {
     "iopub.execute_input": "2023-04-10T19:12:50.938386Z",
     "iopub.status.busy": "2023-04-10T19:12:50.938110Z",
     "iopub.status.idle": "2023-04-10T19:12:51.121173Z",
     "shell.execute_reply": "2023-04-10T19:12:51.120734Z",
     "shell.execute_reply.started": "2023-04-10T19:12:50.938361Z"
    },
    "tags": []
   },
   "outputs": [],
   "source": [
    "plt.scatter(velocities, mount_motions)\n",
    "plt.title(\"Mount Errors vs azimuth velocity\", fontsize=18)\n",
    "plt.xlabel(\"Mean(abs(azimuth velocity while tracking)) (deg/sec)\")\n",
    "plt.ylabel(\"Mount motion image degradation(arcseconds)\")\n",
    "plt.savefig(f\"/home/craiglagegit/DATA/stiction_04apr23/Errors_vs_Velocity_10Apr23.png\")"
   ]
  },
  {
   "cell_type": "code",
   "execution_count": null,
   "metadata": {
    "execution": {
     "iopub.execute_input": "2023-04-11T18:27:06.764656Z",
     "iopub.status.busy": "2023-04-11T18:27:06.764281Z",
     "iopub.status.idle": "2023-04-11T18:27:06.779971Z",
     "shell.execute_reply": "2023-04-11T18:27:06.779416Z",
     "shell.execute_reply.started": "2023-04-11T18:27:06.764638Z"
    },
    "tags": []
   },
   "outputs": [],
   "source": [
    "# Times to start looking at encoder values\n",
    "start = Time(\"2023-04-11 16:51:00Z\", scale='utc')\n",
    "end = Time(\"2023-04-11 18:17:00Z\", scale='utc')\n",
    "plotStart = (start + TimeDelta(0.0, format='sec')).to_datetime()\n",
    "plotEnd = (end + TimeDelta(0.0, format='sec')).to_datetime()"
   ]
  },
  {
   "cell_type": "code",
   "execution_count": null,
   "metadata": {
    "execution": {
     "iopub.execute_input": "2023-04-11T18:27:10.194004Z",
     "iopub.status.busy": "2023-04-11T18:27:10.193624Z",
     "iopub.status.idle": "2023-04-11T18:27:10.218201Z",
     "shell.execute_reply": "2023-04-11T18:27:10.217670Z",
     "shell.execute_reply.started": "2023-04-11T18:27:10.193986Z"
    },
    "tags": []
   },
   "outputs": [],
   "source": [
    "# Get Rubin TV JSON\n",
    "filename = f'/scratch/cslage/starTracker/auxtel_2023-04-11.json'\n",
    "df = pd.read_json(filename)\n",
    "df = df.transpose()\n"
   ]
  },
  {
   "cell_type": "code",
   "execution_count": null,
   "metadata": {
    "execution": {
     "iopub.execute_input": "2023-04-11T18:42:01.326264Z",
     "iopub.status.busy": "2023-04-11T18:42:01.325976Z",
     "iopub.status.idle": "2023-04-11T18:42:08.668393Z",
     "shell.execute_reply": "2023-04-11T18:42:08.667819Z",
     "shell.execute_reply.started": "2023-04-11T18:42:01.326247Z"
    },
    "tags": []
   },
   "outputs": [],
   "source": [
    "az = await client.select_packed_time_series(\"lsst.sal.ATMCS.mount_AzEl_Encoders\", \"azimuthCalculatedAngle\", start, end)\n",
    "azs = az['azimuthCalculatedAngle'].values\n",
    "times = az['times'].values\n",
    "t0 = times[0]\n",
    "times -= t0\n",
    "tmax = times[-1]\n",
    "\n",
    "az_torque_1 =  await client.select_packed_time_series(\"lsst.sal.ATMCS.measuredTorque\", \"azimuthMotor1Torque\", start, end)\n",
    "torques = az_torque_1['azimuthMotor1Torque'].values"
   ]
  },
  {
   "cell_type": "code",
   "execution_count": null,
   "metadata": {
    "execution": {
     "iopub.execute_input": "2023-04-11T18:42:11.562270Z",
     "iopub.status.busy": "2023-04-11T18:42:11.561880Z",
     "iopub.status.idle": "2023-04-11T18:42:12.255327Z",
     "shell.execute_reply": "2023-04-11T18:42:12.254742Z",
     "shell.execute_reply.started": "2023-04-11T18:42:11.562251Z"
    },
    "tags": []
   },
   "outputs": [],
   "source": [
    "plt.clf()\n",
    "fig, [ax1,ax2] = plt.subplots(2,1,figsize = (16,8))\n",
    "plt.subplots_adjust(hspace=0.5)\n",
    "ax1.set_title(\"Impact of unwrapping on mount motion\", fontsize = 18)\n",
    "ax1.plot(times, azs, color='green', label=\"Azimuth\")\n",
    "ax1.set_ylabel(\"Degrees\")\n",
    "ax1.set_xlabel(\"Time (seconds)\")\n",
    "ax3=ax1.twinx()\n",
    "\n",
    "ax2.set_title(\"Azimuth Motor 1 Torque\", fontsize=18)\n",
    "ax2.plot(times, torques)\n",
    "ax2.plot([times[0], times[-1]], [0.0,0.0], ls='--', color='red')\n",
    "ax2.set_ylabel(\"Torque(amps)\")\n",
    "ax2.set_xlabel(\"Time (seconds)\")\n",
    "\n",
    "\n",
    "mount_times = []\n",
    "mount_motions = []\n",
    "for seqNum in df.index.values.tolist():\n",
    "    if seqNum >= 6 and seqNum <= 97:\n",
    "        time = Time(f\"2023-04-11T{df.loc[seqNum]['TAI']}\", format='isot', scale='tai')\n",
    "        mount_times.append(time.unix_tai - t0)\n",
    "        mount_motions.append(df.loc[seqNum]['Mount motion image degradation'])\n",
    "\n",
    "ax3.scatter(mount_times, mount_motions, marker='x', label=\"Mount motion\")\n",
    "ax3.set_ylim(0, 2.5)\n",
    "ax3.set_ylabel(\"Mount motion image degradation (arcseconds)\")\n",
    "        \n",
    "ax1.legend(loc=\"upper left\")\n",
    "ax3.legend()\n",
    "plt.savefig(f\"/home/craiglagegit/DATA/stiction_11apr23/Unwrapping_11Apr23.png\")\n"
   ]
  },
  {
   "cell_type": "code",
   "execution_count": null,
   "metadata": {
    "execution": {
     "iopub.execute_input": "2023-04-11T18:42:42.234408Z",
     "iopub.status.busy": "2023-04-11T18:42:42.234041Z",
     "iopub.status.idle": "2023-04-11T18:42:54.405437Z",
     "shell.execute_reply": "2023-04-11T18:42:54.404970Z",
     "shell.execute_reply.started": "2023-04-11T18:42:42.234390Z"
    },
    "tags": []
   },
   "outputs": [],
   "source": [
    "torques = []\n",
    "mount_motions = []\n",
    "for seqNum in df.index.values.tolist():\n",
    "    if seqNum >= 6 and seqNum <= 97:\n",
    "        \n",
    "        expId = 2023041100000 + seqNum\n",
    "        mData = butler.get('raw.metadata', detector=0, exposure=expId)\n",
    "        tstart = Time(mData['DATE-BEG'], scale='tai')\n",
    "        tend = tstart + TimeDelta(30.0, format='sec')\n",
    "        \n",
    "        az_torque =  await client.select_packed_time_series(\"lsst.sal.ATMCS.measuredTorque\", \"azimuthMotor1Torque\", tstart.utc, tend.utc)\n",
    "        ave_torque = np.mean(abs(az_torque['azimuthMotor1Torque'].values))\n",
    "        #print(expId, tstart, tend, max_torque)\n",
    "        torques.append(ave_torque)\n",
    "        mount_motions.append(df.loc[seqNum]['Mount motion image degradation'])\n",
    "\n",
    "        \n",
    "        \n",
    "        "
   ]
  },
  {
   "cell_type": "code",
   "execution_count": null,
   "metadata": {
    "execution": {
     "iopub.execute_input": "2023-04-11T18:43:46.340584Z",
     "iopub.status.busy": "2023-04-11T18:43:46.340197Z",
     "iopub.status.idle": "2023-04-11T18:43:46.531084Z",
     "shell.execute_reply": "2023-04-11T18:43:46.530682Z",
     "shell.execute_reply.started": "2023-04-11T18:43:46.340567Z"
    },
    "tags": []
   },
   "outputs": [],
   "source": [
    "plt.scatter(torques, mount_motions)\n",
    "plt.title(\"Mount Errors vs tracking torque\", fontsize=18)\n",
    "plt.xlabel(\"Mean(abs(azimuth torque while tracking)) (amps)\")\n",
    "plt.ylabel(\"Mount motion image degradation(arcseconds)\")\n",
    "plt.savefig(f\"/home/craiglagegit/DATA/stiction_11apr23/Errors_vs_Torque_11Apr23.png\")"
   ]
  },
  {
   "cell_type": "code",
   "execution_count": null,
   "metadata": {
    "execution": {
     "iopub.execute_input": "2023-04-10T19:11:26.232451Z",
     "iopub.status.busy": "2023-04-10T19:11:26.232165Z",
     "iopub.status.idle": "2023-04-10T19:11:36.849469Z",
     "shell.execute_reply": "2023-04-10T19:11:36.848999Z",
     "shell.execute_reply.started": "2023-04-10T19:11:26.232435Z"
    },
    "tags": []
   },
   "outputs": [],
   "source": [
    "velocities = []\n",
    "mount_motions = []\n",
    "for seqNum in df.index.values.tolist():\n",
    "    if seqNum >= 14 and seqNum <= 86:\n",
    "        \n",
    "        expId = 2023040400000 + seqNum\n",
    "        mData = butler.get('raw.metadata', detector=0, exposure=expId)\n",
    "        tstart = Time(mData['DATE-BEG'], scale='tai')\n",
    "        tend = tstart + TimeDelta(30.0, format='sec')\n",
    "        \n",
    "        az_velocity =  await client.select_packed_time_series(\"lsst.sal.ATMCS.measuredMotorVelocity\", \"azimuthMotor1Velocity\", tstart.utc, tend.utc)\n",
    "        ave_velocity = np.mean(abs(az_velocity['azimuthMotor1Velocity'].values))\n",
    "        #print(expId, tstart, tend, max_torque)\n",
    "        velocities.append(ave_velocity)\n",
    "        mount_motions.append(df.loc[seqNum]['Mount motion image degradation'])\n",
    "\n",
    "        \n",
    "        \n",
    "        "
   ]
  },
  {
   "cell_type": "code",
   "execution_count": null,
   "metadata": {
    "execution": {
     "iopub.execute_input": "2023-04-10T19:12:50.938386Z",
     "iopub.status.busy": "2023-04-10T19:12:50.938110Z",
     "iopub.status.idle": "2023-04-10T19:12:51.121173Z",
     "shell.execute_reply": "2023-04-10T19:12:51.120734Z",
     "shell.execute_reply.started": "2023-04-10T19:12:50.938361Z"
    },
    "tags": []
   },
   "outputs": [],
   "source": [
    "plt.scatter(velocities, mount_motions)\n",
    "plt.title(\"Mount Errors vs azimuth velocity\", fontsize=18)\n",
    "plt.xlabel(\"Mean(abs(azimuth velocity while tracking)) (deg/sec)\")\n",
    "plt.ylabel(\"Mount motion image degradation(arcseconds)\")\n",
    "plt.savefig(f\"/home/craiglagegit/DATA/stiction_04apr23/Errors_vs_Velocity_10Apr23.png\")"
   ]
  },
  {
   "cell_type": "code",
   "execution_count": null,
   "metadata": {},
   "outputs": [],
   "source": []
  }
 ],
 "metadata": {
  "kernelspec": {
   "display_name": "LSST",
   "language": "python",
   "name": "lsst"
  },
  "language_info": {
   "codemirror_mode": {
    "name": "ipython",
    "version": 3
   },
   "file_extension": ".py",
   "mimetype": "text/x-python",
   "name": "python",
   "nbconvert_exporter": "python",
   "pygments_lexer": "ipython3",
   "version": "3.10.9"
  }
 },
 "nbformat": 4,
 "nbformat_minor": 4
}
