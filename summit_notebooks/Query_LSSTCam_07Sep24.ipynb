{
 "cells": [
  {
   "cell_type": "markdown",
   "id": "83bd39f6-7f00-436f-a208-571e2ae1fb71",
   "metadata": {},
   "source": [
    "## Queries - LSSTCam\n",
    "\n",
    "In this notebook, we show how to query the LSSTCam repository\\\n",
    "and view the resulting images.\\\n",
    "\n",
    "Craig Lage - 06-Sep-24"
   ]
  },
  {
   "cell_type": "code",
   "execution_count": null,
   "id": "24e99ca4-dc2b-4d67-b202-bc4e403acf06",
   "metadata": {
    "execution": {
     "iopub.execute_input": "2024-09-07T12:19:43.573220Z",
     "iopub.status.busy": "2024-09-07T12:19:43.572574Z",
     "iopub.status.idle": "2024-09-07T12:19:49.259324Z",
     "shell.execute_reply": "2024-09-07T12:19:49.258805Z",
     "shell.execute_reply.started": "2024-09-07T12:19:43.573196Z"
    }
   },
   "outputs": [],
   "source": [
    "import numpy as np\n",
    "import matplotlib.pyplot as plt\n",
    "import astropy.io.fits as pf\n",
    "from lsst.daf.butler import Butler\n",
    "from lsst.ip.isr import IsrTask, IsrTaskConfig\n",
    "from lsst.summit.utils.plotting import plot\n",
    "import lsst.afw.cameraGeom.utils as camGeomUtils\n",
    "import lsst.afw.math as afwMath"
   ]
  },
  {
   "cell_type": "code",
   "execution_count": null,
   "id": "d0e3b676-2b89-4cff-b130-1eeb691bd413",
   "metadata": {
    "execution": {
     "iopub.execute_input": "2024-09-07T12:36:22.788118Z",
     "iopub.status.busy": "2024-09-07T12:36:22.787753Z",
     "iopub.status.idle": "2024-09-07T12:36:22.853552Z",
     "shell.execute_reply": "2024-09-07T12:36:22.852917Z",
     "shell.execute_reply.started": "2024-09-07T12:36:22.788095Z"
    }
   },
   "outputs": [],
   "source": [
    "butler = Butler('embargo_new', collections=['LSSTCam/raw/all', 'LSSTCam/calib/unbounded'])"
   ]
  },
  {
   "cell_type": "code",
   "execution_count": null,
   "id": "ec0ddabf-a6aa-4a2e-a9d6-5a6bddfc96f3",
   "metadata": {},
   "outputs": [],
   "source": []
  }
 ],
 "metadata": {
  "kernelspec": {
   "display_name": "LSST",
   "language": "python",
   "name": "lsst"
  },
  "language_info": {
   "codemirror_mode": {
    "name": "ipython",
    "version": 3
   },
   "file_extension": ".py",
   "mimetype": "text/x-python",
   "name": "python",
   "nbconvert_exporter": "python",
   "pygments_lexer": "ipython3",
   "version": "3.11.9"
  }
 },
 "nbformat": 4,
 "nbformat_minor": 5
}
