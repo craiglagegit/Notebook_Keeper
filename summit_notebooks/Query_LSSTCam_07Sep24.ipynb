{
 "cells": [
  {
   "cell_type": "markdown",
   "id": "83bd39f6-7f00-436f-a208-571e2ae1fb71",
   "metadata": {},
   "source": [
    "## Queries - LSSTCam\n",
    "\n",
    "In this notebook, we show how to query the LSSTCam repository\\\n",
    "and view the resulting images.\\\n",
    "\n",
    "Craig Lage - 06-Sep-24"
   ]
  },
  {
   "cell_type": "code",
   "execution_count": null,
   "id": "24e99ca4-dc2b-4d67-b202-bc4e403acf06",
   "metadata": {
    "execution": {
     "iopub.execute_input": "2024-10-08T19:43:40.970019Z",
     "iopub.status.busy": "2024-10-08T19:43:40.969668Z",
     "iopub.status.idle": "2024-10-08T19:43:46.652223Z",
     "shell.execute_reply": "2024-10-08T19:43:46.651723Z",
     "shell.execute_reply.started": "2024-10-08T19:43:40.969999Z"
    }
   },
   "outputs": [],
   "source": [
    "import numpy as np\n",
    "import matplotlib.pyplot as plt\n",
    "import astropy.io.fits as pf\n",
    "from lsst.daf.butler import Butler\n",
    "from lsst.ip.isr import IsrTask, IsrTaskConfig\n",
    "from lsst.summit.utils.plotting import plot\n",
    "import lsst.afw.cameraGeom.utils as camGeomUtils\n",
    "import lsst.afw.math as afwMath"
   ]
  },
  {
   "cell_type": "code",
   "execution_count": null,
   "id": "d0e3b676-2b89-4cff-b130-1eeb691bd413",
   "metadata": {
    "execution": {
     "iopub.execute_input": "2024-10-09T17:28:10.905122Z",
     "iopub.status.busy": "2024-10-09T17:28:10.904781Z",
     "iopub.status.idle": "2024-10-09T17:28:11.027694Z",
     "shell.execute_reply": "2024-10-09T17:28:11.027221Z",
     "shell.execute_reply.started": "2024-10-09T17:28:10.905104Z"
    }
   },
   "outputs": [],
   "source": [
    "butler = Butler(\n",
    "    'LSSTCam',\n",
    "    instrument='LSSTCam',\n",
    "    collections='LSSTCam/raw/all'\n",
    ")"
   ]
  },
  {
   "cell_type": "code",
   "execution_count": null,
   "id": "ec0ddabf-a6aa-4a2e-a9d6-5a6bddfc96f3",
   "metadata": {
    "execution": {
     "iopub.execute_input": "2024-10-10T11:59:12.552419Z",
     "iopub.status.busy": "2024-10-10T11:59:12.552052Z",
     "iopub.status.idle": "2024-10-10T11:59:12.588891Z",
     "shell.execute_reply": "2024-10-10T11:59:12.588399Z",
     "shell.execute_reply.started": "2024-10-10T11:59:12.552402Z"
    }
   },
   "outputs": [],
   "source": [
    "dayObs = 20241009\n",
    "instrument = \"LSSTCam\"\n",
    "\n",
    "exposureList = []\n",
    "for record in butler.registry.queryDimensionRecords(\"exposure\", \n",
    "                    where=f\"exposure.day_obs={dayObs} and instrument='LSSTCam'\"):\n",
    "    exposureList.append([record.id, record])\n",
    "exposureList.sort(key=lambda x: x[0])\n",
    "for [id,record] in exposureList:\n",
    "    print(record.id, record.observation_type, record.exposure_time, record.physical_filter)"
   ]
  },
  {
   "cell_type": "code",
   "execution_count": null,
   "id": "5741cf4e-7642-4657-9cd7-90b22e71298a",
   "metadata": {},
   "outputs": [],
   "source": []
  }
 ],
 "metadata": {
  "kernelspec": {
   "display_name": "LSST",
   "language": "python",
   "name": "lsst"
  },
  "language_info": {
   "codemirror_mode": {
    "name": "ipython",
    "version": 3
   },
   "file_extension": ".py",
   "mimetype": "text/x-python",
   "name": "python",
   "nbconvert_exporter": "python",
   "pygments_lexer": "ipython3",
   "version": "3.11.10"
  }
 },
 "nbformat": 4,
 "nbformat_minor": 5
}
