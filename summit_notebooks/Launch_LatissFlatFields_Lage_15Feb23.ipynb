{
 "cells": [
  {
   "cell_type": "markdown",
   "metadata": {},
   "source": [
    "# Take a set of calibrations\n",
    "The script is built for the scriptQueue but for the moment should be run from the notebook"
   ]
  },
  {
   "cell_type": "markdown",
   "metadata": {},
   "source": [
    "This script is used to take flats with the AuxTel calibration illumination system. <br>\n",
    "It is being used as a stand-in until the proper functionality is build into the control system."
   ]
  },
  {
   "cell_type": "code",
   "execution_count": null,
   "metadata": {
    "execution": {
     "iopub.execute_input": "2023-02-01T19:30:11.695303Z",
     "iopub.status.busy": "2023-02-01T19:30:11.695166Z",
     "iopub.status.idle": "2023-02-01T19:30:15.349827Z",
     "shell.execute_reply": "2023-02-01T19:30:15.349193Z",
     "shell.execute_reply.started": "2023-02-01T19:30:11.695287Z"
    },
    "tags": []
   },
   "outputs": [],
   "source": [
    "import sys\n",
    "import asyncio\n",
    "import time\n",
    "import os\n",
    "\n",
    "import numpy as np\n",
    "import logging \n",
    "import yaml\n",
    "import astropy\n",
    "\n",
    "from lsst.ts import salobj\n",
    "# from lsst.ts.externalscripts.auxtel.latiss_take_flats import LatissTakeFlats\n",
    "from lsst.ts.externalscripts.auxtel import LatissTakeFlats\n",
    "\n",
    "from lsst.ts.idl.enums.Script import ScriptState\n",
    "\n",
    "from lsst.ts.observing.utilities.decorated_logger import DecoratedLogger"
   ]
  },
  {
   "cell_type": "code",
   "execution_count": null,
   "metadata": {
    "execution": {
     "iopub.execute_input": "2023-02-01T19:30:19.594518Z",
     "iopub.status.busy": "2023-02-01T19:30:19.594130Z",
     "iopub.status.idle": "2023-02-01T19:30:19.597320Z",
     "shell.execute_reply": "2023-02-01T19:30:19.596814Z",
     "shell.execute_reply.started": "2023-02-01T19:30:19.594500Z"
    },
    "tags": []
   },
   "outputs": [],
   "source": [
    "logger = DecoratedLogger.get_decorated_logger()\n",
    "logger.level = logging.DEBUG"
   ]
  },
  {
   "cell_type": "code",
   "execution_count": null,
   "metadata": {},
   "outputs": [],
   "source": []
  },
  {
   "cell_type": "markdown",
   "metadata": {},
   "source": [
    "## Define function used to create the instrument setup for each flat that gets passed to the script"
   ]
  },
  {
   "cell_type": "code",
   "execution_count": null,
   "metadata": {
    "execution": {
     "iopub.execute_input": "2023-02-01T19:31:42.579661Z",
     "iopub.status.busy": "2023-02-01T19:31:42.579300Z",
     "iopub.status.idle": "2023-02-01T19:31:42.584363Z",
     "shell.execute_reply": "2023-02-01T19:31:42.583859Z",
     "shell.execute_reply.started": "2023-02-01T19:31:42.579643Z"
    },
    "tags": []
   },
   "outputs": [],
   "source": [
    "def step_config(min_wave: float=500, max_wave: float=700, w_steps: int=50, grating: int = 1, \n",
    "                ent_slit: float = 4.5, exit_slit: float = 4.5, exp_time: float = 3,\n",
    "                n_exp: int = 3, fs_exp_time: int = 1, fs_n_exp: int =1, em_exp_time: float=1, em_n_exp:int=1):\n",
    "    waves = np.arange(min_wave,max_wave,w_steps) # r-band\n",
    "\n",
    "    # config=dict(steps=[])\n",
    "    steps = []\n",
    "    \n",
    "    spec_res = 999 # dummy value for now\n",
    "    \n",
    "    for wave in waves:\n",
    "        step = {\n",
    "    \"wavelength\": int(wave), # changed from float\n",
    "    \"grating\": grating,  # enums.ATMonochromator.Grating.RED,  --> Enums are wrong!\n",
    "    \"spec_res\": -1, # place holder until we know this\n",
    "    \"exit_slit_width\": exit_slit,\n",
    "    \"entrance_slit_width\": ent_slit,\n",
    "    \"exp_time\": exp_time,\n",
    "    \"n_exp\": n_exp,\n",
    "    \"fs_exp_time\": fs_exp_time,\n",
    "    \"fs_n_exp\": fs_n_exp,\n",
    "    \"em_exp_time\": em_exp_time,\n",
    "    \"em_n_exp\": em_n_exp}\n",
    "    \n",
    "        steps.append(step)\n",
    "    \n",
    "    # convert to yaml\n",
    "    steps_for_script = yaml.safe_dump(steps)\n",
    "    return steps_for_script"
   ]
  },
  {
   "cell_type": "markdown",
   "metadata": {},
   "source": [
    "## Instantiate the Script\n",
    "\n",
    "First derive and index for the script that is specific to your user"
   ]
  },
  {
   "cell_type": "code",
   "execution_count": null,
   "metadata": {
    "execution": {
     "iopub.execute_input": "2023-02-01T20:42:36.858005Z",
     "iopub.status.busy": "2023-02-01T20:42:36.857642Z",
     "iopub.status.idle": "2023-02-01T20:42:36.863032Z",
     "shell.execute_reply": "2023-02-01T20:42:36.862638Z",
     "shell.execute_reply.started": "2023-02-01T20:42:36.857986Z"
    },
    "tags": []
   },
   "outputs": [],
   "source": [
    "logger.info(f'Your UID is {os.getuid()}')\n",
    "index=os.getuid()*10+np.random.randint(0,9)\n",
    "logger.info(f'The generated index is {index}')"
   ]
  },
  {
   "cell_type": "markdown",
   "metadata": {},
   "source": [
    "Instantiate the script then start all remotes"
   ]
  },
  {
   "cell_type": "code",
   "execution_count": null,
   "metadata": {
    "execution": {
     "iopub.execute_input": "2023-02-01T20:42:38.585836Z",
     "iopub.status.busy": "2023-02-01T20:42:38.585493Z",
     "iopub.status.idle": "2023-02-01T20:42:39.377796Z",
     "shell.execute_reply": "2023-02-01T20:42:39.377294Z",
     "shell.execute_reply.started": "2023-02-01T20:42:38.585818Z"
    },
    "jupyter": {
     "outputs_hidden": true
    },
    "tags": []
   },
   "outputs": [],
   "source": [
    "script = LatissTakeFlats(index=index, remotes=True)  # this essentially calls the init method\n",
    "await script.start_task"
   ]
  },
  {
   "cell_type": "markdown",
   "metadata": {},
   "source": [
    "Set the script to have a DEBUG log level"
   ]
  },
  {
   "cell_type": "code",
   "execution_count": null,
   "metadata": {
    "execution": {
     "iopub.execute_input": "2023-02-01T20:42:52.031437Z",
     "iopub.status.busy": "2023-02-01T20:42:52.030993Z",
     "iopub.status.idle": "2023-02-01T20:42:52.034261Z",
     "shell.execute_reply": "2023-02-01T20:42:52.033776Z",
     "shell.execute_reply.started": "2023-02-01T20:42:52.031418Z"
    },
    "tags": []
   },
   "outputs": [],
   "source": [
    "script.log.level = logging.DEBUG"
   ]
  },
  {
   "cell_type": "markdown",
   "metadata": {},
   "source": [
    "Print the available instrument filter and gratings. <br>\n",
    "This is useful both for slewing and for the configuration steps below"
   ]
  },
  {
   "cell_type": "code",
   "execution_count": null,
   "metadata": {
    "execution": {
     "iopub.execute_input": "2023-02-01T20:42:57.529085Z",
     "iopub.status.busy": "2023-02-01T20:42:57.528710Z",
     "iopub.status.idle": "2023-02-01T20:42:57.533622Z",
     "shell.execute_reply": "2023-02-01T20:42:57.533229Z",
     "shell.execute_reply.started": "2023-02-01T20:42:57.529068Z"
    },
    "tags": []
   },
   "outputs": [],
   "source": [
    "inst_setup = await script.latiss.get_available_instrument_setup()\n",
    "logger.info(f'filters are: {inst_setup[0]},\\ngratings are: {inst_setup[1]}')"
   ]
  },
  {
   "cell_type": "markdown",
   "metadata": {
    "execution": {
     "iopub.execute_input": "2022-12-12T17:14:28.707685Z",
     "iopub.status.busy": "2022-12-12T17:14:28.706994Z",
     "iopub.status.idle": "2022-12-12T17:14:28.710806Z",
     "shell.execute_reply": "2022-12-12T17:14:28.710312Z",
     "shell.execute_reply.started": "2022-12-12T17:14:28.707665Z"
    },
    "tags": []
   },
   "source": [
    "## Now run all three filters"
   ]
  },
  {
   "cell_type": "code",
   "execution_count": null,
   "metadata": {
    "execution": {
     "iopub.execute_input": "2023-02-01T20:42:33.651839Z",
     "iopub.status.busy": "2023-02-01T20:42:33.651474Z",
     "iopub.status.idle": "2023-02-01T20:42:33.654862Z",
     "shell.execute_reply": "2023-02-01T20:42:33.654486Z",
     "shell.execute_reply.started": "2023-02-01T20:42:33.651821Z"
    },
    "tags": []
   },
   "outputs": [],
   "source": [
    "latiss_grating= 'empty_1'\n",
    "for latiss_filter in ['BG40_65mm_1', 'SDSSr_65mm', 'OG550_65mm_1']:\n",
    "    if latiss_filter =='BG40_65mm_1':\n",
    "        min_wave = 300; max_wave = 650; grating = 0\n",
    "    elif latiss_filter == 'SDSSr_65mm':\n",
    "        min_wave = 550; max_wave = 800; grating = 1\n",
    "    elif latiss_filter == 'OG550_65mm_1':\n",
    "        min_wave = 500; max_wave = 1100; grating = 1\n",
    "    else:\n",
    "        raise \"Filter not supported\"\n",
    "        \n",
    "    w_steps = 10  # steps over the wavelength range\n",
    "    n_exp = 2 # number of LATISS exposures\n",
    "    exp_time = 20 # exposure time for each exposure\n",
    "    # Fiber spectrograph and electrometer must currently use the same exposure time.\n",
    "    fs_exp_time = 1\n",
    "    em_exp_time = 1\n",
    "    fs_n_exp = n_exp\n",
    "    em_n_exp = n_exp\n",
    "    # following step creates the sequence\n",
    "    steps_for_config = step_config(min_wave=min_wave, max_wave=max_wave, w_steps=w_steps, \n",
    "                                   exp_time=exp_time, n_exp=n_exp, fs_exp_time=fs_exp_time,\n",
    "                                   fs_n_exp=fs_n_exp, em_exp_time=em_exp_time, em_n_exp=em_n_exp, grating=grating)\n",
    "\n",
    "    configuration = yaml.safe_dump({\"latiss_filter\": latiss_filter, \n",
    "                                    \"latiss_grating\": latiss_grating,\n",
    "                                    \"sequence\": steps_for_config,\n",
    "                                    })\n",
    "    \n",
    "    await script.set_state(ScriptState.UNCONFIGURED)\n",
    "    config_data = script.cmd_configure.DataType()\n",
    "    config_data.config = configuration\n",
    "    await script.do_configure(config_data)\n",
    "    group_id_data = script.cmd_setGroupId.DataType(\n",
    "                groupId=astropy.time.Time.now().isot\n",
    "            )\n",
    "    await script.do_setGroupId(group_id_data)\n",
    "    await script.arun()"
   ]
  }
 ],
 "metadata": {
  "kernelspec": {
   "display_name": "LSST",
   "language": "python",
   "name": "lsst"
  },
  "language_info": {
   "codemirror_mode": {
    "name": "ipython",
    "version": 3
   },
   "file_extension": ".py",
   "mimetype": "text/x-python",
   "name": "python",
   "nbconvert_exporter": "python",
   "pygments_lexer": "ipython3",
   "version": "3.10.9"
  }
 },
 "nbformat": 4,
 "nbformat_minor": 4
}
