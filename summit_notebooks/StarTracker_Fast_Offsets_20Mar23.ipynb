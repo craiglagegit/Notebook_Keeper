{
 "cells": [
  {
   "cell_type": "markdown",
   "metadata": {},
   "source": [
    "## StarTracker WCS solutions - 31-Jan-23\n",
    "\n",
    "Craig Lage - Reworked to work with the new summit_utils code"
   ]
  },
  {
   "cell_type": "code",
   "execution_count": null,
   "metadata": {
    "execution": {
     "iopub.execute_input": "2023-03-22T18:14:34.395706Z",
     "iopub.status.busy": "2023-03-22T18:14:34.395433Z",
     "iopub.status.idle": "2023-03-22T18:14:39.095708Z",
     "shell.execute_reply": "2023-03-22T18:14:39.095088Z",
     "shell.execute_reply.started": "2023-03-22T18:14:34.395688Z"
    },
    "tags": []
   },
   "outputs": [],
   "source": [
    "import sys, time, os, asyncio, glob\n",
    "from datetime import datetime\n",
    "import numpy as np\n",
    "import matplotlib.pyplot as plt\n",
    "import astropy.io.fits as pf\n",
    "import pandas as pd\n",
    "from astropy.time import Time, TimeDelta\n",
    "from astropy.coordinates import AltAz, ICRS, EarthLocation, Angle, FK5, SkyCoord\n",
    "import astropy.units as u\n",
    "from lsst.obs.lsst.translators.latiss import AUXTEL_LOCATION\n",
    "from lsst.obs.lsst.translators.lsst import SIMONYI_LOCATION\n",
    "\n",
    "import lsst.afw.image as afwImage\n",
    "from lsst.geom import SpherePoint\n",
    "from lsst.geom import Angle as afwAngle\n",
    "from astroquery.simbad import Simbad\n",
    "\n",
    "import lsst.afw.image as afwImage\n",
    "from lsst.summit.utils.utils import starTrackerFileToExposure\n",
    "from lsst.summit.utils.astrometry.anet import CommandLineSolver\n",
    "from lsst.summit.utils.astrometry.utils import runCharactierizeImage, filterSourceCatOnBrightest"
   ]
  },
  {
   "cell_type": "code",
   "execution_count": null,
   "metadata": {
    "execution": {
     "iopub.execute_input": "2023-03-20T18:31:04.003991Z",
     "iopub.status.busy": "2023-03-20T18:31:04.003724Z",
     "iopub.status.idle": "2023-03-20T18:31:04.006708Z",
     "shell.execute_reply": "2023-03-20T18:31:04.006343Z",
     "shell.execute_reply.started": "2023-03-20T18:31:04.003974Z"
    },
    "tags": []
   },
   "outputs": [],
   "source": [
    "solver = CommandLineSolver('/project/shared/ref_cats/astrometry_net/')"
   ]
  },
  {
   "cell_type": "markdown",
   "metadata": {
    "execution": {
     "iopub.execute_input": "2023-03-20T17:06:53.537246Z",
     "iopub.status.busy": "2023-03-20T17:06:53.536874Z",
     "iopub.status.idle": "2023-03-20T17:06:53.541698Z",
     "shell.execute_reply": "2023-03-20T17:06:53.541073Z",
     "shell.execute_reply.started": "2023-03-20T17:06:53.537228Z"
    },
    "tags": []
   },
   "source": [
    "# Starting again"
   ]
  },
  {
   "cell_type": "code",
   "execution_count": null,
   "metadata": {
    "execution": {
     "iopub.execute_input": "2023-03-20T18:41:10.062878Z",
     "iopub.status.busy": "2023-03-20T18:41:10.062588Z",
     "iopub.status.idle": "2023-03-20T18:41:14.181566Z",
     "shell.execute_reply": "2023-03-20T18:41:14.180873Z",
     "shell.execute_reply.started": "2023-03-20T18:41:10.062860Z"
    },
    "tags": []
   },
   "outputs": [],
   "source": [
    "#Enter which image you want to look at\n",
    "[camera, num] = ['Narrow', 102]\n",
    "#[camera, num] = ['Wide', 101]\n",
    "date = 20230317\n",
    "seqNum = 24\n",
    "\n",
    "\n",
    "year = int(date/10000)\n",
    "month = int((date - 10000 * year)/100)\n",
    "day = int((date - 10000 * year - 100 * month))\n",
    "\n",
    "path = f\"/project/GenericCamera/{num}/{year}/{month:02}/{day:02}/\"\n",
    "print(path)\n",
    "filename = path + f\"GC{num}_O_{date}_{seqNum:06}.fits\"\n",
    "exp = starTrackerFileToExposure(filename)\n",
    "results = runCharactierizeImage(exp, 5, 25)\n",
    "filteredCat = filterSourceCatOnBrightest(results.sourceCat, 0.2, maxSources=100)\n",
    "if camera == 'Narrow':\n",
    "    # Need to loosen percentageScaleError because header SECPIX is wrong\n",
    "    solverResults = solver.run(exp, filteredCat, percentageScaleError=60.0, isWideField=True)\n",
    "    boresight = (1898.10, 998.47)\n",
    "if camera == 'Wide':\n",
    "    solverResults = solver.run(exp, filteredCat, isWideField=True)\n",
    "    boresight = (1560.85, 1257.15)\n",
    "newWcs = solverResults.wcs\n",
    "rms_error = solverResults.rmsErrorArsec\n",
    "raSolve = newWcs.getSkyOrigin().getRa().asDegrees()\n",
    "decSolve = newWcs.getSkyOrigin().getDec().asDegrees()\n",
    "\n",
    "hdulist = pf.open(filename)\n",
    "header = hdulist[0].header\n",
    "raStart = header[\"RASTART\"]\n",
    "decStart = header[\"DECSTART\"]\n",
    "azStart = header[\"AZSTART\"]\n",
    "#azStart = 360.0 - azStart # Compensating for Az sign error\n",
    "if azStart > 360.0:\n",
    "    azStart -= 360.0\n",
    "if azStart < 0.0:\n",
    "    azStart += 360.0\n",
    "\n",
    "elStart = header[\"ELSTART\"]\n",
    "rotpa = header[\"ROTPA\"]\n",
    "rot = newWcs.getRelativeRotationToWcs(exp.getWcs()).asDegrees()\n",
    "time = Time(header[\"DATE-OBS\"], scale='tai')\n",
    "\n",
    "altAz = AltAz(obstime=time, location=SIMONYI_LOCATION)\n",
    "skyLocation = SkyCoord(raSolve * u.deg, decSolve * u.deg)\n",
    "obsAltAz = skyLocation.transform_to(altAz)\n",
    "az = obsAltAz.az.deg\n",
    "el = obsAltAz.alt.deg\n",
    "deltaAz = azStart - az\n",
    "if deltaAz > 360.0:\n",
    "    deltaAz -= 360.0\n",
    "if deltaAz < 0.0:\n",
    "    deltaAz += 360.0\n",
    "deltaEl = elStart - el\n",
    "print(f\"{camera}, 202212{date:02}_{seqNum}, {deltaAz:.5f}, {deltaEl:.5f}, {rot:.5f}\")\n",
    "\n",
    "# Now find objects within the image\n",
    "if camera == 'Narrow':\n",
    "    radius = 0.5\n",
    "    mag_range = 4.0\n",
    "if camera == 'Wide':\n",
    "    radius = 3.0\n",
    "    mag_range = 7.5\n",
    "mag_limit = 0.0\n",
    "criteria = (f\"region(circle,ICRS,{raSolve} {decSolve},{radius}d) & \"\n",
    "            f\"Vmag > {mag_limit} & Vmag < {mag_limit+mag_range} & \"\n",
    "            \"cat = HD\")\n",
    "results = Simbad.query_criteria(criteria)\n",
    "#print(results)\n",
    "xs = []\n",
    "ys = []\n",
    "names = []\n",
    "for i in range(len(results)):\n",
    "    ra = Angle(results[i][1] + 'hours')\n",
    "    dec = Angle(results[i][2] + 'degrees')\n",
    "    print(ra.deg, dec.deg)\n",
    "    spherePoint = SpherePoint(afwAngle(ra.rad), afwAngle(dec.rad))\n",
    "    point = newWcs.skyToPixel(spherePoint)\n",
    "    xs.append(point.x)\n",
    "    ys.append(point.y)\n",
    "    name = results[i][0]\n",
    "    names.append(name)\n",
    "    print(point)\n",
    "deltaPix = np.sqrt((point[0] - boresight[0])**2 + (point[1] - boresight[1])**2)\n",
    "print(f\"DeltaPix = {deltaPix:.2f} pixels\")\n"
   ]
  },
  {
   "cell_type": "markdown",
   "metadata": {},
   "source": [
    "## Now calculate the deltas from the narrow camera to the fast camera."
   ]
  },
  {
   "cell_type": "code",
   "execution_count": null,
   "metadata": {
    "execution": {
     "iopub.execute_input": "2023-03-20T18:44:06.197432Z",
     "iopub.status.busy": "2023-03-20T18:44:06.197134Z",
     "iopub.status.idle": "2023-03-20T18:44:06.349046Z",
     "shell.execute_reply": "2023-03-20T18:44:06.348627Z",
     "shell.execute_reply.started": "2023-03-20T18:44:06.197415Z"
    },
    "tags": []
   },
   "outputs": [],
   "source": [
    "filename = \"/scratch/cslage/starTracker/startracker_2023-03-17.json\"\n",
    "df = pd.read_json(filename)\n",
    "df = df.transpose()\n",
    "row = df.loc[24]\n",
    "time = Time(row['MJD'], format='mjd', scale='tai')\n",
    "\n",
    "gam02Vol_RA = Angle(results[0][1] + 'hours')\n",
    "gam02Vol_Dec = Angle(results[0][2] + 'degrees')\n",
    "\n",
    "skyLocation = SkyCoord(gam02Vol_RA, gam02Vol_Dec)\n",
    "altAz = AltAz(obstime=time, location=SIMONYI_LOCATION)\n",
    "gam02Vol_AltAz = skyLocation.transform_to(altAz)\n",
    "\n",
    "# These are for the narrow camera\n",
    "ra = row['Ra']\n",
    "dec = row['Dec']\n",
    "alt = row['Alt']\n",
    "az = row['Az']\n",
    "\n",
    "deltaRA = ra - gam02Vol_RA.deg\n",
    "deltaDec = dec - gam02Vol_Dec.deg\n",
    "print(f\"gam02Vol Ra/Dec = ({gam02Vol_RA.deg:.5f}, {gam02Vol_Dec.deg:.5f}) \")\n",
    "print(f\"Narrow RA/Dec (20230317 seqNum 24) = ({ra:.5f}, {dec:.5f})\")\n",
    "print(f\"Offset RA/Dec = ({deltaRA:.5f}, {deltaDec:.5f})\")\n",
    "raDecShift = np.sqrt(deltaDec**2 + (deltaRA * np.cos(Angle(dec * u.deg)))**2) * 3600.0\n",
    "print(f\"RaDec shift = {raDecShift:.2f} arcseconds\")\n",
    "print()\n",
    "deltaAlt = (alt - gam02Vol_AltAz.alt.deg) * 3600.0\n",
    "deltaAz = (az - gam02Vol_AltAz.az.deg) * 3600.0\n",
    "print(f\"gam02Vol Alt/Az = ({gam02Vol_AltAz.alt.deg:.5f}, {gam02Vol_AltAz.az.deg:.5f}) \")\n",
    "print(f\"Narrow Alt/Az (20230317 seqNum 24) = ({alt:.5f}, {az:.5f})\")\n",
    "print(f\"Offset Alt/Az (arcseconds) = ({deltaAlt:.5f}, {deltaAz:.5f})\")\n",
    "altAzShift = np.sqrt(deltaAlt**2 + (deltaAz * np.cos(Angle(alt * u.deg)))**2)\n",
    "print(f\"AltAz shift = {altAzShift:.2f} arcseconds\")"
   ]
  },
  {
   "cell_type": "code",
   "execution_count": null,
   "metadata": {
    "execution": {
     "iopub.execute_input": "2023-03-20T18:44:11.737304Z",
     "iopub.status.busy": "2023-03-20T18:44:11.737025Z",
     "iopub.status.idle": "2023-03-20T18:44:12.662986Z",
     "shell.execute_reply": "2023-03-20T18:44:12.662570Z",
     "shell.execute_reply.started": "2023-03-20T18:44:11.737287Z"
    },
    "tags": []
   },
   "outputs": [],
   "source": [
    "# Now plot the data with matplotlib\n",
    "%matplotlib inline\n",
    "def colorbar(mappable):\n",
    "    from mpl_toolkits.axes_grid1 import make_axes_locatable\n",
    "    last_axes = plt.gca()\n",
    "    ax = mappable.axes\n",
    "    fig = ax.figure\n",
    "    divider = make_axes_locatable(ax)\n",
    "    cax = divider.append_axes(\"right\", size=\"5%\", pad=0.05)\n",
    "    cbar = fig.colorbar(mappable, cax=cax)\n",
    "    plt.sca(last_axes)\n",
    "    return cbar\n",
    "\n",
    "shiftedAlt = alt - deltaAlt / 3600.0\n",
    "shiftedAz = az - deltaAz / 3600.0\n",
    "#shiftedAlt = alt - 0.0 / 3600.0\n",
    "#shiftedAz = az - 00.0 / 3600.0\n",
    "\n",
    "altAz2 = SkyCoord(AltAz(alt=shiftedAlt*u.deg, az=shiftedAz*u.deg, obstime=time, location=SIMONYI_LOCATION))\n",
    "RaDec = altAz2.transform_to(ICRS)\n",
    "\n",
    "shiftedRa = Angle(RaDec.ra.deg * u.deg)\n",
    "shiftedDec = Angle(RaDec.dec.deg * u.deg)\n",
    "spherePoint = SpherePoint(afwAngle(shiftedRa.rad), afwAngle(shiftedDec.rad))\n",
    "point = newWcs.skyToPixel(spherePoint)\n",
    "shiftX = point.x\n",
    "shiftY = point.y\n",
    "\n",
    "plt.figure(figsize=(16,16))\n",
    "plt.title(f\"StarTracker {camera}\")\n",
    "img = plt.imshow(exp.image.array,  interpolation='Nearest', cmap='gray', vmin=1, vmax=10)\n",
    "plt.scatter(xs, ys\\\n",
    "            ,facecolors='none', edgecolors='g', s=1000, lw=2)\n",
    "plt.scatter(boresight[0], boresight[1]\\\n",
    "            ,facecolors='r', edgecolors='r', marker='X', s=100, lw=2)\n",
    "plt.scatter(shiftX, shiftY\\\n",
    "            ,facecolors='y', edgecolors='y', marker='X', s=100, lw=2)\n",
    "\n",
    "for x, y, name in zip(xs, ys, names):\n",
    "    plt.text(x+50,y, name, color='g', fontsize = 36)\n",
    "colorbar(img)\n",
    "plt.tight_layout(h_pad=1)\n",
    "plt.savefig(f\"/home/craiglagegit/DATA/StarTracker_Labels_Simbad_{camera}_{date}_{seqNum}.pdf\")"
   ]
  },
  {
   "cell_type": "code",
   "execution_count": null,
   "metadata": {
    "execution": {
     "iopub.execute_input": "2023-03-20T18:44:16.280110Z",
     "iopub.status.busy": "2023-03-20T18:44:16.279831Z",
     "iopub.status.idle": "2023-03-20T18:44:20.426048Z",
     "shell.execute_reply": "2023-03-20T18:44:20.425464Z",
     "shell.execute_reply.started": "2023-03-20T18:44:16.280093Z"
    },
    "tags": []
   },
   "outputs": [],
   "source": [
    "#Enter which image you want to look at\n",
    "[camera, num] = ['Narrow', 102]\n",
    "#[camera, num] = ['Wide', 101]\n",
    "date = 20230315\n",
    "seqNum = 1044\n",
    "\n",
    "\n",
    "year = int(date/10000)\n",
    "month = int((date - 10000 * year)/100)\n",
    "day = int((date - 10000 * year - 100 * month))\n",
    "\n",
    "path = f\"/project/GenericCamera/{num}/{year}/{month:02}/{day:02}/\"\n",
    "print(path)\n",
    "filename = path + f\"GC{num}_O_{date}_{seqNum:06}.fits\"\n",
    "exp = starTrackerFileToExposure(filename)\n",
    "results = runCharactierizeImage(exp, 5, 25)\n",
    "filteredCat = filterSourceCatOnBrightest(results.sourceCat, 0.2, maxSources=100)\n",
    "if camera == 'Narrow':\n",
    "    # Need to loosen percentageScaleError because header SECPIX is wrong\n",
    "    solverResults = solver.run(exp, filteredCat, percentageScaleError=60.0, isWideField=True)\n",
    "    boresight = (1898.10, 998.47)\n",
    "if camera == 'Wide':\n",
    "    solverResults = solver.run(exp, filteredCat, isWideField=True)\n",
    "    boresight = (1560.85, 1257.15)\n",
    "newWcs = solverResults.wcs\n",
    "rms_error = solverResults.rmsErrorArsec\n",
    "raSolve = newWcs.getSkyOrigin().getRa().asDegrees()\n",
    "decSolve = newWcs.getSkyOrigin().getDec().asDegrees()\n",
    "\n",
    "hdulist = pf.open(filename)\n",
    "header = hdulist[0].header\n",
    "raStart = header[\"RASTART\"]\n",
    "decStart = header[\"DECSTART\"]\n",
    "azStart = header[\"AZSTART\"]\n",
    "#azStart = 360.0 - azStart # Compensating for Az sign error\n",
    "if azStart > 360.0:\n",
    "    azStart -= 360.0\n",
    "if azStart < 0.0:\n",
    "    azStart += 360.0\n",
    "\n",
    "elStart = header[\"ELSTART\"]\n",
    "rotpa = header[\"ROTPA\"]\n",
    "rot = newWcs.getRelativeRotationToWcs(exp.getWcs()).asDegrees()\n",
    "time = Time(header[\"DATE-OBS\"], scale='tai')\n",
    "\n",
    "altAz = AltAz(obstime=time, location=SIMONYI_LOCATION)\n",
    "skyLocation = SkyCoord(raSolve * u.deg, decSolve * u.deg)\n",
    "obsAltAz = skyLocation.transform_to(altAz)\n",
    "az = obsAltAz.az.deg\n",
    "el = obsAltAz.alt.deg\n",
    "deltaAz = azStart - az\n",
    "if deltaAz > 360.0:\n",
    "    deltaAz -= 360.0\n",
    "if deltaAz < 0.0:\n",
    "    deltaAz += 360.0\n",
    "deltaEl = elStart - el\n",
    "print(f\"{camera}, 202212{date:02}_{seqNum}, {deltaAz:.5f}, {deltaEl:.5f}, {rot:.5f}\")\n",
    "\n",
    "# Now find objects within the image\n",
    "if camera == 'Narrow':\n",
    "    radius = 0.5\n",
    "    mag_range = 4.0\n",
    "if camera == 'Wide':\n",
    "    radius = 3.0\n",
    "    mag_range = 7.5\n",
    "mag_limit = 0.0\n",
    "criteria = (f\"region(circle,ICRS,{raSolve} {decSolve},{radius}d) & \"\n",
    "            f\"Vmag > {mag_limit} & Vmag < {mag_limit+mag_range} & \"\n",
    "            \"cat = HD\")\n",
    "results = Simbad.query_criteria(criteria)\n",
    "#print(results)\n",
    "xs = []\n",
    "ys = []\n",
    "names = []\n",
    "for i in range(len(results)):\n",
    "    ra = Angle(results[i][1] + 'hours')\n",
    "    dec = Angle(results[i][2] + 'degrees')\n",
    "    print(ra.deg, dec.deg)\n",
    "    spherePoint = SpherePoint(afwAngle(ra.rad), afwAngle(dec.rad))\n",
    "    point = newWcs.skyToPixel(spherePoint)\n",
    "    xs.append(point.x)\n",
    "    ys.append(point.y)\n",
    "    name = results[i][0]\n",
    "    names.append(name)\n",
    "    print(point)\n",
    "deltaPix = np.sqrt((point[0] - boresight[0])**2 + (point[1] - boresight[1])**2)\n",
    "print(f\"DeltaPix = {deltaPix:.2f} pixels\")\n"
   ]
  },
  {
   "cell_type": "code",
   "execution_count": null,
   "metadata": {
    "execution": {
     "iopub.execute_input": "2023-03-20T18:44:39.161779Z",
     "iopub.status.busy": "2023-03-20T18:44:39.161490Z",
     "iopub.status.idle": "2023-03-20T18:44:39.460595Z",
     "shell.execute_reply": "2023-03-20T18:44:39.460095Z",
     "shell.execute_reply.started": "2023-03-20T18:44:39.161762Z"
    },
    "tags": []
   },
   "outputs": [],
   "source": [
    "filename = \"/scratch/cslage/starTracker/startracker_2023-03-15.json\"\n",
    "df = pd.read_json(filename)\n",
    "df = df.transpose()\n",
    "row = df.loc[1024]\n",
    "time = Time(row['MJD'], format='mjd', scale='tai')\n",
    "\n",
    "alf02Lib_RA = Angle(results[0][1] + 'hours')\n",
    "alf02Lib_Dec = Angle(results[0][2] + 'degrees')\n",
    "\n",
    "skyLocation = SkyCoord(alf02Lib_RA, alf02Lib_Dec)\n",
    "altAz = AltAz(obstime=time, location=SIMONYI_LOCATION)\n",
    "alf02Lib_AltAz = skyLocation.transform_to(altAz)\n",
    "\n",
    "# These are for the narrow camera\n",
    "ra = row['Ra']\n",
    "dec = row['Dec']\n",
    "alt = row['Alt']\n",
    "az = row['Az']\n",
    "\n",
    "deltaRA = ra - alf02Lib_RA.deg\n",
    "deltaDec = dec - alf02Lib_Dec.deg\n",
    "print(f\"alf02Lib Ra/Dec = ({alf02Lib_RA.deg:.5f}, {alf02Lib_Dec.deg:.5f}) \")\n",
    "print(f\"Narrow RA/Dec (20230315 seqNum 1044) = ({ra:.5f}, {dec:.5f})\")\n",
    "print(f\"Offset RA/Dec = ({deltaRA:.5f}, {deltaDec:.5f})\")\n",
    "raDecShift = np.sqrt(deltaDec**2 + (deltaRA * np.cos(Angle(dec * u.deg)))**2) * 3600.0\n",
    "print(f\"RaDec shift = {raDecShift:.2f} arcseconds\")\n",
    "print()\n",
    "deltaAlt = (alt - alf02Lib_AltAz.alt.deg) * 3600.0\n",
    "deltaAz = (az - alf02Lib_AltAz.az.deg) * 3600.0\n",
    "print(f\"alf02Lib Alt/Az = ({alf02Lib_AltAz.alt.deg:.5f}, {alf02Lib_AltAz.az.deg:.5f}) \")\n",
    "print(f\"Narrow Alt/Az (20230315 seqNum 1044) = ({alt:.5f}, {az:.5f})\")\n",
    "print(f\"Offset Alt/Az (arcseconds) = ({deltaAlt:.5f}, {deltaAz:.5f})\")\n",
    "altAzShift = np.sqrt(deltaAlt**2 + (deltaAz * np.cos(Angle(alt * u.deg)))**2)\n",
    "print(f\"AltAz shift = {altAzShift:.2f} arcseconds\")"
   ]
  },
  {
   "cell_type": "code",
   "execution_count": null,
   "metadata": {
    "execution": {
     "iopub.execute_input": "2023-03-20T18:44:45.470623Z",
     "iopub.status.busy": "2023-03-20T18:44:45.470318Z",
     "iopub.status.idle": "2023-03-20T18:44:46.399697Z",
     "shell.execute_reply": "2023-03-20T18:44:46.399210Z",
     "shell.execute_reply.started": "2023-03-20T18:44:45.470604Z"
    },
    "tags": []
   },
   "outputs": [],
   "source": [
    "# Now plot the data with matplotlib\n",
    "%matplotlib inline\n",
    "def colorbar(mappable):\n",
    "    from mpl_toolkits.axes_grid1 import make_axes_locatable\n",
    "    last_axes = plt.gca()\n",
    "    ax = mappable.axes\n",
    "    fig = ax.figure\n",
    "    divider = make_axes_locatable(ax)\n",
    "    cax = divider.append_axes(\"right\", size=\"5%\", pad=0.05)\n",
    "    cbar = fig.colorbar(mappable, cax=cax)\n",
    "    plt.sca(last_axes)\n",
    "    return cbar\n",
    "\n",
    "#shiftedAlt = alt - deltaAlt / 3600.0\n",
    "#shiftedAz = az - deltaAz / 3600.0\n",
    "shiftedAlt = alt - 0.0 / 3600.0\n",
    "shiftedAz = az - 0.0 / 3600.0\n",
    "\n",
    "altAz2 = SkyCoord(AltAz(alt=shiftedAlt*u.deg, az=shiftedAz*u.deg, obstime=time, location=SIMONYI_LOCATION))\n",
    "RaDec = altAz2.transform_to(ICRS)\n",
    "\n",
    "shiftedRa = Angle(RaDec.ra.deg * u.deg)\n",
    "shiftedDec = Angle(RaDec.dec.deg * u.deg)\n",
    "spherePoint = SpherePoint(afwAngle(shiftedRa.rad), afwAngle(shiftedDec.rad))\n",
    "point = newWcs.skyToPixel(spherePoint)\n",
    "shiftX = point.x\n",
    "shiftY = point.y\n",
    "\n",
    "plt.figure(figsize=(16,16))\n",
    "plt.title(f\"StarTracker {camera}\")\n",
    "img = plt.imshow(exp.image.array,  interpolation='Nearest', cmap='gray', vmin=1, vmax=10)\n",
    "plt.scatter(xs, ys\\\n",
    "            ,facecolors='none', edgecolors='g', s=1000, lw=2)\n",
    "plt.scatter(boresight[0], boresight[1]\\\n",
    "            ,facecolors='r', edgecolors='r', marker='X', s=100, lw=2)\n",
    "plt.scatter(shiftX, shiftY\\\n",
    "            ,facecolors='y', edgecolors='y', marker='X', s=100, lw=2)\n",
    "\n",
    "for x, y, name in zip(xs, ys, names):\n",
    "    plt.text(x+50,y, name, color='g', fontsize = 36)\n",
    "colorbar(img)\n",
    "plt.tight_layout(h_pad=1)\n",
    "plt.savefig(f\"/home/craiglagegit/DATA/StarTracker_Labels_Simbad_{camera}_{date}_{seqNum}.pdf\")"
   ]
  },
  {
   "cell_type": "code",
   "execution_count": null,
   "metadata": {
    "execution": {
     "iopub.execute_input": "2023-03-22T19:30:58.740221Z",
     "iopub.status.busy": "2023-03-22T19:30:58.739949Z",
     "iopub.status.idle": "2023-03-22T19:30:59.001819Z",
     "shell.execute_reply": "2023-03-22T19:30:59.001242Z",
     "shell.execute_reply.started": "2023-03-22T19:30:58.740203Z"
    },
    "tags": []
   },
   "outputs": [],
   "source": [
    "filename = f'/scratch/cslage/starTracker/startracker_2023-03-21.json'\n",
    "df = pd.read_json(filename)\n",
    "df = df.transpose()\n",
    "df = df.dropna()\n"
   ]
  },
  {
   "cell_type": "code",
   "execution_count": null,
   "metadata": {
    "execution": {
     "iopub.execute_input": "2023-03-22T19:31:04.151406Z",
     "iopub.status.busy": "2023-03-22T19:31:04.151129Z",
     "iopub.status.idle": "2023-03-22T19:31:04.154512Z",
     "shell.execute_reply": "2023-03-22T19:31:04.154025Z",
     "shell.execute_reply.started": "2023-03-22T19:31:04.151388Z"
    },
    "tags": []
   },
   "outputs": [],
   "source": [
    "print(len(df))"
   ]
  },
  {
   "cell_type": "code",
   "execution_count": null,
   "metadata": {
    "execution": {
     "iopub.execute_input": "2023-03-22T19:44:48.669703Z",
     "iopub.status.busy": "2023-03-22T19:44:48.669394Z",
     "iopub.status.idle": "2023-03-22T19:44:48.673431Z",
     "shell.execute_reply": "2023-03-22T19:44:48.673015Z",
     "shell.execute_reply.started": "2023-03-22T19:44:48.669683Z"
    },
    "tags": []
   },
   "outputs": [],
   "source": [
    "df.columns"
   ]
  },
  {
   "cell_type": "code",
   "execution_count": null,
   "metadata": {
    "execution": {
     "iopub.execute_input": "2023-03-22T19:54:52.800627Z",
     "iopub.status.busy": "2023-03-22T19:54:52.799955Z",
     "iopub.status.idle": "2023-03-22T19:54:52.854761Z",
     "shell.execute_reply": "2023-03-22T19:54:52.854130Z",
     "shell.execute_reply.started": "2023-03-22T19:54:52.800605Z"
    },
    "jupyter": {
     "outputs_hidden": true
    },
    "tags": []
   },
   "outputs": [],
   "source": [
    "\n",
    "deltaAlts = []\n",
    "deltaAzCosAlts = []\n",
    "for seqNum in df.index.values.tolist():\n",
    "    row = df.loc[seqNum]\n",
    "    deltaAz = (row['Calculated Az'] - row['Calculated Az fast']) * 3600.0\n",
    "    deltaAzCosAlt = deltaAz * np.cos(row['Calculated Alt'] * np.pi / 180.0)\n",
    "    deltaAlt = (row['Calculated Alt'] - row['Calculated Alt fast']) * 3600.0\n",
    "    deltaAlts.append(deltaAlt)\n",
    "    deltaAzCosAlts.append(deltaAzCosAlt)\n",
    "    delta = np.sqrt(deltaAlt**2 + deltaAzCosAlt**2)\n",
    "    print(seqNum, deltaAlt, deltaAzCosAlt, delta)\n"
   ]
  },
  {
   "cell_type": "code",
   "execution_count": null,
   "metadata": {
    "execution": {
     "iopub.execute_input": "2023-03-22T19:59:34.831596Z",
     "iopub.status.busy": "2023-03-22T19:59:34.831311Z",
     "iopub.status.idle": "2023-03-22T19:59:35.141949Z",
     "shell.execute_reply": "2023-03-22T19:59:35.141530Z",
     "shell.execute_reply.started": "2023-03-22T19:59:34.831578Z"
    },
    "tags": []
   },
   "outputs": [],
   "source": [
    "%matplotlib inline\n",
    "plt.subplot(1,2,1)\n",
    "plt.title(\"deltaAzCosAlts\")\n",
    "plt.hist(deltaAzCosAlts)\n",
    "plt.text(-150,70,f\"Median={np.median(deltaAzCosAlts):.1f}\")\n",
    "plt.xlim(-600, 600)\n",
    "plt.xlabel(\"Fast-Narrow deltaAz*cos(alt)(arcseconds)\")\n",
    "plt.subplot(1,2,2)\n",
    "plt.title(\"deltaAlts\")\n",
    "plt.hist(deltaAlts)\n",
    "plt.text(-150,70,f\"Median={np.median(deltaAlts):.1f}\")\n",
    "plt.xlim(-600, 600)\n",
    "plt.xlabel(\"Fast-Narrow deltaAlt(arcseconds)\")\n",
    "plt.savefig(f'/scratch/cslage/starTracker/Fast_Camera_Offset_20230321.png')"
   ]
  },
  {
   "cell_type": "code",
   "execution_count": null,
   "metadata": {},
   "outputs": [],
   "source": []
  }
 ],
 "metadata": {
  "kernelspec": {
   "display_name": "LSST",
   "language": "python",
   "name": "lsst"
  },
  "language_info": {
   "codemirror_mode": {
    "name": "ipython",
    "version": 3
   },
   "file_extension": ".py",
   "mimetype": "text/x-python",
   "name": "python",
   "nbconvert_exporter": "python",
   "pygments_lexer": "ipython3",
   "version": "3.10.9"
  }
 },
 "nbformat": 4,
 "nbformat_minor": 4
}
