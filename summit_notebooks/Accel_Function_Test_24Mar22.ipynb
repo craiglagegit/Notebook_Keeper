{
 "cells": [
  {
   "cell_type": "markdown",
   "id": "2dd614f7",
   "metadata": {},
   "source": [
    "## How to import the functions to read the labJack T7-Pro\n",
    "Uses 9 analog inputs (AINs) to read the data at 200 Hz.\n",
    "This notebook reads the accelerometers while taking an image\n",
    "for mount tracking purposes.  To run it, you will first have to do the following:\n",
    "\n",
    "(1) pip install labjack-ljm.  This will build the labJack Python code\n",
    "    in your local directory at ~/.local/lib/python3.8/site-packages/labjack \\\n",
    "(2) In your ~/notebooks/.user_setups file, add the following lines: \\\n",
    "      export LD_LIBRARY_PATH=\\\\$LD_LIBRARY_PATH:/scratch/lib \\\n",
    "      export PYTHONPATH=\\\\$PYTHONPATH:/scratch/cslage/labJack\n",
    "\n",
    "Craig Lage - Mar 10, 2022"
   ]
  },
  {
   "cell_type": "code",
   "execution_count": null,
   "id": "02609e84",
   "metadata": {},
   "outputs": [],
   "source": [
    "import sys, time, datetime, asyncio\n",
    "import numpy as np\n",
    "import matplotlib.pyplot as plt\n",
    "import pandas as pd\n",
    "import pickle as pkl\n",
    "from lsst.ts import salobj\n",
    "from lsst.ts.observatory.control.auxtel.atcs import ATCS\n",
    "from lsst.ts.observatory.control.auxtel.latiss import LATISS\n",
    "from labjack_functions import LabJackFunctions"
   ]
  },
  {
   "cell_type": "code",
   "execution_count": null,
   "id": "01ce09b9-9144-4da8-8fbd-9db2ff910aeb",
   "metadata": {},
   "outputs": [],
   "source": [
    "# for tab completion to work in current notebook instance\n",
    "%config IPCompleter.use_jedi = False"
   ]
  },
  {
   "cell_type": "code",
   "execution_count": null,
   "id": "ab13d4de-3d40-4d31-a495-814b5207cb0d",
   "metadata": {},
   "outputs": [],
   "source": [
    "import logging\n",
    "stream_handler = logging.StreamHandler(sys.stdout)\n",
    "logger = logging.getLogger()\n",
    "logger.addHandler(stream_handler)\n",
    "logger.level = logging.DEBUG"
   ]
  },
  {
   "cell_type": "code",
   "execution_count": null,
   "id": "78967548-f08f-4035-b324-d1390135eee0",
   "metadata": {
    "jupyter": {
     "outputs_hidden": true
    },
    "tags": []
   },
   "outputs": [],
   "source": [
    "#Start classes\n",
    "domain = salobj.Domain()\n",
    "await asyncio.sleep(10) # This can be removed in the future...\n",
    "#atcs = ATCS(domain)\n",
    "latiss = LATISS(domain)\n",
    "#await asyncio.gather(atcs.start_task, latiss.start_task)\n",
    "await asyncio.gather(latiss.start_task)"
   ]
  },
  {
   "cell_type": "code",
   "execution_count": null,
   "id": "543ad2e4-9c4e-49cd-bf44-debe45c7a7df",
   "metadata": {
    "jupyter": {
     "outputs_hidden": true
    },
    "tags": []
   },
   "outputs": [],
   "source": [
    "# enable components\n",
    "#wait atcs.enable({\"atdome\": \"current\", \"ataos\": \"current\", \"athexapod\": \"current\"})\n",
    "await latiss.enable()"
   ]
  },
  {
   "cell_type": "code",
   "execution_count": null,
   "id": "4428b1eb-e6cb-47a8-b051-25cec3ce465a",
   "metadata": {},
   "outputs": [],
   "source": []
  },
  {
   "cell_type": "code",
   "execution_count": null,
   "id": "4c9ea7eb-ee46-4ad8-9708-8214df1f7fee",
   "metadata": {
    "tags": []
   },
   "outputs": [],
   "source": [
    "await salobj.set_summary_state(latiss.rem.atarchiver, salobj.State.STANDBY)"
   ]
  },
  {
   "cell_type": "code",
   "execution_count": null,
   "id": "d13f8ccb-78c7-42f1-a8e0-269c98c14732",
   "metadata": {},
   "outputs": [],
   "source": [
    "# ATArchiver didn't come up\n",
    "tmp=await latiss.rem.atarchiver.cmd_start.set_start()\n",
    "print(tmp)"
   ]
  },
  {
   "cell_type": "code",
   "execution_count": null,
   "id": "a93a9184-90b5-41f0-ad26-4901497b4da9",
   "metadata": {
    "tags": []
   },
   "outputs": [],
   "source": [
    "await salobj.set_summary_state(latiss.rem.atarchiver, salobj.State.ENABLED)"
   ]
  },
  {
   "cell_type": "code",
   "execution_count": null,
   "id": "9ca3c381-2d2d-4819-bfd6-1dddc0dcb946",
   "metadata": {
    "tags": []
   },
   "outputs": [],
   "source": [
    "await salobj.set_summary_state(latiss.rem.atcamera, salobj.State.STANDBY)"
   ]
  },
  {
   "cell_type": "code",
   "execution_count": null,
   "id": "9176134c-b08f-4e13-88c2-043ef5b6cf36",
   "metadata": {},
   "outputs": [],
   "source": [
    "# ATArchiver didn't come up\n",
    "tmp=await latiss.rem.atcamera.cmd_start.set_start()\n",
    "print(tmp)"
   ]
  },
  {
   "cell_type": "code",
   "execution_count": null,
   "id": "a0a403c1-b49f-4ff0-bd1f-159bd44bfa7b",
   "metadata": {
    "tags": []
   },
   "outputs": [],
   "source": [
    "await salobj.set_summary_state(latiss.rem.atcamera, salobj.State.ENABLED)"
   ]
  },
  {
   "cell_type": "code",
   "execution_count": null,
   "id": "ce39b69e-5fed-4a3b-92e3-6c672ad245e0",
   "metadata": {},
   "outputs": [],
   "source": [
    "# ATArchiver didn't come up\n",
    "tmp=await latiss.rem.atheaderservice.cmd_start.set_start()\n",
    "print(tmp)"
   ]
  },
  {
   "cell_type": "code",
   "execution_count": null,
   "id": "4666d51f-e98a-4047-b106-fbb32216b216",
   "metadata": {
    "tags": []
   },
   "outputs": [],
   "source": [
    "await salobj.set_summary_state(latiss.rem.atheaderservice, salobj.State.ENABLED)"
   ]
  },
  {
   "cell_type": "code",
   "execution_count": null,
   "id": "c37cf6fd-fd97-4e29-8b5f-6d33c7553a98",
   "metadata": {},
   "outputs": [],
   "source": [
    "await latiss.take_bias(1)"
   ]
  },
  {
   "cell_type": "code",
   "execution_count": null,
   "id": "49c2e307-5e39-4781-b831-d62f3193e92e",
   "metadata": {
    "tags": []
   },
   "outputs": [],
   "source": [
    "# Take 5 biases to make sure things are working\n",
    "# Added wait to stop killing the recent images\n",
    "for i in range(5):\n",
    "    await asyncio.sleep(2.0)\n",
    "    await latiss.take_bias(1)"
   ]
  },
  {
   "cell_type": "code",
   "execution_count": null,
   "id": "2efdff88-f42e-43b8-bd05-0a7e6e37f2e9",
   "metadata": {
    "tags": []
   },
   "outputs": [],
   "source": [
    "test = await latiss.take_object(5.0, 1)\n",
    "print(test)"
   ]
  },
  {
   "cell_type": "code",
   "execution_count": null,
   "id": "855129aa-cff0-4625-a464-0d6e1982f58f",
   "metadata": {},
   "outputs": [],
   "source": [
    "lj = LabJackFunctions(latiss)"
   ]
  },
  {
   "cell_type": "code",
   "execution_count": null,
   "id": "69e8b82b-18dd-4bdc-82c5-bfd8b838fd80",
   "metadata": {},
   "outputs": [],
   "source": [
    "lj.setTimeout(60.0)"
   ]
  },
  {
   "cell_type": "code",
   "execution_count": null,
   "id": "4a108822-72f4-4abe-8a8c-e5ef5bb92395",
   "metadata": {},
   "outputs": [],
   "source": [
    "# Take one 5 second image with accelerometer data\n",
    "await lj.take_object_with_accel_data(5.0, filter='empty_1', grating='empty_1')"
   ]
  },
  {
   "cell_type": "code",
   "execution_count": null,
   "id": "235584fc-4086-45eb-932c-438ff02729dd",
   "metadata": {
    "tags": []
   },
   "outputs": [],
   "source": [
    "# Take 1800 seconds of accelerometer data not tied to an image\n",
    "await lj.take_accel_data(1800)"
   ]
  },
  {
   "cell_type": "code",
   "execution_count": null,
   "id": "cd4e6b1a-bf46-444b-abbd-6b300a13929f",
   "metadata": {},
   "outputs": [],
   "source": [
    "lj.close()"
   ]
  },
  {
   "cell_type": "code",
   "execution_count": null,
   "id": "7fec5bdc-7fc9-4b72-9128-854353bbf697",
   "metadata": {},
   "outputs": [],
   "source": [
    "await latiss.standby()"
   ]
  },
  {
   "cell_type": "code",
   "execution_count": null,
   "id": "a827b210-6499-4cc4-8155-d4a8ed989d8c",
   "metadata": {},
   "outputs": [],
   "source": []
  }
 ],
 "metadata": {
  "kernelspec": {
   "display_name": "LSST",
   "language": "python",
   "name": "lsst"
  },
  "language_info": {
   "codemirror_mode": {
    "name": "ipython",
    "version": 3
   },
   "file_extension": ".py",
   "mimetype": "text/x-python",
   "name": "python",
   "nbconvert_exporter": "python",
   "pygments_lexer": "ipython3",
   "version": "3.8.13"
  }
 },
 "nbformat": 4,
 "nbformat_minor": 5
}
