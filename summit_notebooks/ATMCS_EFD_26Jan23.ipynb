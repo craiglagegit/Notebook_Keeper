{
 "cells": [
  {
   "cell_type": "markdown",
   "metadata": {},
   "source": [
    "## AuxTel Mount status 26-Jan-23\n",
    "Craig Lage"
   ]
  },
  {
   "cell_type": "code",
   "execution_count": null,
   "metadata": {
    "execution": {
     "iopub.execute_input": "2023-01-26T13:02:37.954963Z",
     "iopub.status.busy": "2023-01-26T13:02:37.954599Z",
     "iopub.status.idle": "2023-01-26T13:02:38.397017Z",
     "shell.execute_reply": "2023-01-26T13:02:38.396434Z",
     "shell.execute_reply.started": "2023-01-26T13:02:37.954947Z"
    }
   },
   "outputs": [],
   "source": [
    "import sys, time, os, asyncio\n",
    "\n",
    "from datetime import datetime\n",
    "import numpy as np\n",
    "import matplotlib.pyplot as plt\n",
    "import pandas as pd\n",
    "from astropy.time import Time, TimeDelta\n",
    "from astropy.coordinates import AltAz, ICRS, EarthLocation, Angle, FK5\n",
    "import astropy.units as u\n",
    "from lsst_efd_client import EfdClient\n"
   ]
  },
  {
   "cell_type": "code",
   "execution_count": null,
   "metadata": {
    "execution": {
     "iopub.execute_input": "2023-01-26T13:02:41.854541Z",
     "iopub.status.busy": "2023-01-26T13:02:41.854173Z",
     "iopub.status.idle": "2023-01-26T13:02:43.995954Z",
     "shell.execute_reply": "2023-01-26T13:02:43.995363Z",
     "shell.execute_reply.started": "2023-01-26T13:02:41.854524Z"
    },
    "tags": []
   },
   "outputs": [],
   "source": [
    "# Get EFD client and bring in Lupton's unpacking code\n",
    "client = EfdClient('summit_efd')"
   ]
  },
  {
   "cell_type": "code",
   "execution_count": null,
   "metadata": {
    "execution": {
     "iopub.execute_input": "2023-01-26T13:06:47.525142Z",
     "iopub.status.busy": "2023-01-26T13:06:47.524756Z",
     "iopub.status.idle": "2023-01-26T13:06:53.471272Z",
     "shell.execute_reply": "2023-01-26T13:06:53.470624Z",
     "shell.execute_reply.started": "2023-01-26T13:06:47.525124Z"
    },
    "tags": []
   },
   "outputs": [],
   "source": [
    "t_start = Time(\"2022-12-08T00:00:00\", scale='utc')\n",
    "t_end = Time(\"2022-12-08T01:00:00\", scale='utc')\n",
    "\n",
    "az = await client.select_packed_time_series(\"lsst.sal.ATMCS.mount_AzEl_Encoders\", ['azimuthCalculatedAngle'],\n",
    "                                              t_start, t_end)\n",
    "el = await client.select_packed_time_series(\"lsst.sal.ATMCS.mount_AzEl_Encoders\", ['elevationCalculatedAngle'],\n",
    "                                              t_start, t_end)"
   ]
  },
  {
   "cell_type": "code",
   "execution_count": null,
   "metadata": {
    "execution": {
     "iopub.execute_input": "2023-01-26T13:08:02.281952Z",
     "iopub.status.busy": "2023-01-26T13:08:02.281600Z",
     "iopub.status.idle": "2023-01-26T13:08:04.335690Z",
     "shell.execute_reply": "2023-01-26T13:08:04.335104Z",
     "shell.execute_reply.started": "2023-01-26T13:08:02.281934Z"
    },
    "tags": []
   },
   "outputs": [],
   "source": [
    "fig = plt.figure(figsize = (16,8))\n",
    "plt.suptitle(f\"Mount Tracking \", fontsize = 18)\n",
    "plt.subplot(2,1,1)\n",
    "ax1 = az['azimuthCalculatedAngle'].plot(legend=True, color='red')\n",
    "plt.subplot(2,1,2)\n",
    "ax2 = el['elevationCalculatedAngle'].plot(legend=True, color='green')\n"
   ]
  }
 ],
 "metadata": {
  "kernelspec": {
   "display_name": "LSST",
   "language": "python",
   "name": "lsst"
  },
  "language_info": {
   "codemirror_mode": {
    "name": "ipython",
    "version": 3
   },
   "file_extension": ".py",
   "mimetype": "text/x-python",
   "name": "python",
   "nbconvert_exporter": "python",
   "pygments_lexer": "ipython3",
   "version": "3.10.6"
  }
 },
 "nbformat": 4,
 "nbformat_minor": 4
}
