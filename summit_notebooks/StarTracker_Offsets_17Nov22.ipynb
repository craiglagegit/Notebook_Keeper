{
 "cells": [
  {
   "cell_type": "markdown",
   "metadata": {},
   "source": [
    "## StarTracker Offsets - 17-Nov-22\n",
    "\n",
    "Craig Lage"
   ]
  },
  {
   "cell_type": "code",
   "execution_count": null,
   "metadata": {},
   "outputs": [],
   "source": [
    "import sys, time, os, asyncio, glob\n",
    "from datetime import datetime\n",
    "import numpy as np\n",
    "import matplotlib.pyplot as plt\n",
    "import astropy.io.fits as pf\n",
    "from astropy.time import Time, TimeDelta\n",
    "from astropy.coordinates import AltAz, ICRS, EarthLocation, Angle, FK5, SkyCoord\n",
    "import astropy.units as u\n",
    "from lsst.obs.lsst.translators.latiss import AUXTEL_LOCATION\n",
    "from lsst.obs.lsst.translators.lsst import SIMONYI_LOCATION"
   ]
  },
  {
   "cell_type": "code",
   "execution_count": null,
   "metadata": {},
   "outputs": [],
   "source": []
  },
  {
   "cell_type": "code",
   "execution_count": null,
   "metadata": {},
   "outputs": [],
   "source": [
    "DIR = \"/project/GenericCamera/101/2022/11/16/\"\n",
    "HEAD = \"GC101_O_20221116_\""
   ]
  },
  {
   "cell_type": "code",
   "execution_count": null,
   "metadata": {},
   "outputs": [],
   "source": [
    "seqNum = 45\n",
    "hdulist = pf.open(f\"{DIR}{HEAD}0000{seqNum}.fits\") "
   ]
  },
  {
   "cell_type": "code",
   "execution_count": null,
   "metadata": {},
   "outputs": [],
   "source": [
    "header = hdulist[0].header"
   ]
  },
  {
   "cell_type": "code",
   "execution_count": null,
   "metadata": {},
   "outputs": [],
   "source": [
    "header[\"ELSTART\"]"
   ]
  },
  {
   "cell_type": "code",
   "execution_count": null,
   "metadata": {},
   "outputs": [],
   "source": [
    "seqNums = [11, 18, 30, 40, 45, 100, 116]\n",
    "raSolves = [96.11, 99.817, 93.139, 113.751, 123.969, 150.451, 29.153]\n",
    "decSolves = [-79.872, -80.975, -86.485, -86.391, -85.575, -81.966, -31.01]\n",
    "\n",
    "print(\"SeqNum   RA(header)  Dec(header)  RA(Solve)   Dec(Solve)  Az(header)  El(header)  Az(solve)  El(solve)  DeltaAz  DeltaEl\")\n",
    "#print(\"SeqNum     DeltaAz     DeltaEl\")\n",
    "for i, seqNum in enumerate(seqNums):\n",
    "    if seqNum < 100:\n",
    "        hdulist = pf.open(f\"{DIR}{HEAD}0000{seqNum}.fits\") \n",
    "    else:\n",
    "        hdulist = pf.open(f\"{DIR}{HEAD}000{seqNum}.fits\")\n",
    "    header = hdulist[0].header\n",
    "    raStart = header[\"RASTART\"]\n",
    "    decStart = header[\"DECSTART\"]\n",
    "    azStart = header[\"AZSTART\"]\n",
    "    elStart = header[\"ELSTART\"]\n",
    "    raSolve = raSolves[i]\n",
    "    decSolve = decSolves[i]\n",
    "    time = Time(header[\"DATE-OBS\"])\n",
    "    altAz = AltAz(obstime=time, location=SIMONYI_LOCATION)\n",
    "    skyLocation = SkyCoord(raSolve*u.deg, decSolve*u.deg)\n",
    "    obsAltAz = skyLocation.transform_to(altAz)\n",
    "    az = obsAltAz.az.deg\n",
    "    el = obsAltAz.alt.deg\n",
    "    deltaAz = azStart - az\n",
    "    deltaEl = elStart - el\n",
    "    #print(f\"{seqNum}        {deltaAz:.2f}         {deltaEl:.2f}\")\n",
    "    print(f\"{seqNum}       {raStart:.2f}      {decStart:.2f}        {raSolve:.2f}      {decSolve:.2f}      {azStart:.2f}      {elStart:.2f}      {az:.2f}      {el:.2f}      {deltaAz:.2f}      {deltaEl:.2f}\")\n",
    "    \n",
    "        "
   ]
  },
  {
   "cell_type": "code",
   "execution_count": null,
   "metadata": {},
   "outputs": [],
   "source": []
  },
  {
   "cell_type": "code",
   "execution_count": null,
   "metadata": {},
   "outputs": [],
   "source": [
    "seqNums = [11, 20, 40, 45, 116]\n",
    "raSolves = [105.579, 107.268, 111.429, 102.351, 29.509]\n",
    "decSolves = [-77.665, -81.871, -85.306, -86.154, -30.450]\n",
    "\n",
    "print(\"SeqNum RA(header) Dec(header) RA(Solve) Dec(Solve) Az(hdr-fix) El(header) Az(solve) El(solve) DeltaAz DeltaEl\")\n",
    "#print(\"SeqNum     DeltaAz     DeltaEl\")\n",
    "for i, seqNum in enumerate(seqNums):\n",
    "    if seqNum < 100:\n",
    "        hdulist = pf.open(f\"{DIR}{HEAD}0000{seqNum}.fits\") \n",
    "    else:\n",
    "        hdulist = pf.open(f\"{DIR}{HEAD}000{seqNum}.fits\")\n",
    "    header = hdulist[0].header\n",
    "    raStart = header[\"RASTART\"]\n",
    "    decStart = header[\"DECSTART\"]\n",
    "    azStart = header[\"AZSTART\"]\n",
    "    azStart = 360.0 - azStart # Compensating for Az sign error\n",
    "    elStart = header[\"ELSTART\"]\n",
    "    raSolve = raSolves[i]\n",
    "    decSolve = decSolves[i]\n",
    "    time = Time(header[\"DATE-OBS\"])\n",
    "    altAz = AltAz(obstime=time, location=SIMONYI_LOCATION)\n",
    "    skyLocation = SkyCoord(raSolve*u.deg, decSolve*u.deg)\n",
    "    obsAltAz = skyLocation.transform_to(altAz)\n",
    "    az = obsAltAz.az.deg\n",
    "    el = obsAltAz.alt.deg\n",
    "    deltaAz = azStart - az\n",
    "    deltaEl = elStart - el\n",
    "    #print(f\"{seqNum}        {deltaAz:.2f}         {deltaEl:.2f}\"\n",
    "    print(f\"{seqNum}      {raStart:.2f}     {decStart:.2f}       {raSolve:.2f}     {decSolve:.2f}     {azStart:.2f}       {elStart:.2f}     {az:.2f}     {el:.2f}    {deltaAz:.2f}    {deltaEl:.2f}\")\n",
    "\n",
    "        "
   ]
  },
  {
   "cell_type": "code",
   "execution_count": null,
   "metadata": {},
   "outputs": [],
   "source": []
  },
  {
   "cell_type": "code",
   "execution_count": null,
   "metadata": {},
   "outputs": [],
   "source": []
  }
 ],
 "metadata": {
  "kernelspec": {
   "display_name": "LSST",
   "language": "python",
   "name": "lsst"
  },
  "language_info": {
   "codemirror_mode": {
    "name": "ipython",
    "version": 3
   },
   "file_extension": ".py",
   "mimetype": "text/x-python",
   "name": "python",
   "nbconvert_exporter": "python",
   "pygments_lexer": "ipython3",
   "version": "3.10.6"
  }
 },
 "nbformat": 4,
 "nbformat_minor": 4
}
