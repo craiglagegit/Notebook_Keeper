{
 "cells": [
  {
   "cell_type": "markdown",
   "id": "3dbf3c0c",
   "metadata": {},
   "source": [
    "# Pole stiction\n",
    "\n",
    "This notebook is intended to characterize the slow speed stiction problem \\\n",
    "at the pole by spiraling into the pole where the tracking speeds will be slower and slower. \\\n",
    "Craig Lage - 17-Oct-22"
   ]
  },
  {
   "cell_type": "code",
   "execution_count": null,
   "id": "b9b61b70",
   "metadata": {
    "execution": {
     "iopub.execute_input": "2024-08-27T14:56:23.176567Z",
     "iopub.status.busy": "2024-08-27T14:56:23.176249Z",
     "iopub.status.idle": "2024-08-27T14:56:29.778465Z",
     "shell.execute_reply": "2024-08-27T14:56:29.777941Z",
     "shell.execute_reply.started": "2024-08-27T14:56:23.176550Z"
    },
    "tags": []
   },
   "outputs": [],
   "source": [
    "import asyncio\n",
    "import time\n",
    "import os\n",
    "import numpy as np\n",
    "import matplotlib.pyplot as plt\n",
    "from astropy.time import Time\n",
    "\n",
    "from lsst.ts import salobj\n",
    "\n",
    "from lsst.ts.observatory.control.auxtel.atcs import ATCS\n",
    "from lsst.ts.observatory.control.auxtel.latiss import LATISS\n",
    "from lsst.ts.observatory.control.utils import RotType"
   ]
  },
  {
   "cell_type": "code",
   "execution_count": null,
   "id": "0755fd07",
   "metadata": {
    "execution": {
     "iopub.execute_input": "2024-08-27T14:56:29.790246Z",
     "iopub.status.busy": "2024-08-27T14:56:29.789864Z",
     "iopub.status.idle": "2024-08-27T14:56:29.792840Z",
     "shell.execute_reply": "2024-08-27T14:56:29.792424Z",
     "shell.execute_reply.started": "2024-08-27T14:56:29.790230Z"
    },
    "tags": []
   },
   "outputs": [],
   "source": [
    "logger = logging.getLogger(f\"Daytime Checkout {Time.now()} UT\")\n",
    "logger.level = logging.DEBUG"
   ]
  },
  {
   "cell_type": "code",
   "execution_count": null,
   "id": "e80647f9",
   "metadata": {
    "execution": {
     "iopub.execute_input": "2024-08-27T14:56:29.794169Z",
     "iopub.status.busy": "2024-08-27T14:56:29.793814Z",
     "iopub.status.idle": "2024-08-27T14:56:29.798635Z",
     "shell.execute_reply": "2024-08-27T14:56:29.798229Z",
     "shell.execute_reply.started": "2024-08-27T14:56:29.794153Z"
    },
    "tags": []
   },
   "outputs": [],
   "source": [
    "logger.info(os.environ[\"OSPL_URI\"])\n",
    "logger.info(os.environ[\"LSST_DDS_PARTITION_PREFIX\"])"
   ]
  },
  {
   "cell_type": "markdown",
   "id": "a9cd22ea",
   "metadata": {},
   "source": [
    "### Instantiate the control classes"
   ]
  },
  {
   "cell_type": "code",
   "execution_count": null,
   "id": "f651e5d9",
   "metadata": {
    "execution": {
     "iopub.execute_input": "2024-08-27T14:56:29.799579Z",
     "iopub.status.busy": "2024-08-27T14:56:29.799234Z",
     "iopub.status.idle": "2024-08-27T14:57:33.104962Z",
     "shell.execute_reply": "2024-08-27T14:57:33.104202Z",
     "shell.execute_reply.started": "2024-08-27T14:56:29.799563Z"
    },
    "jupyter": {
     "outputs_hidden": true
    },
    "tags": []
   },
   "outputs": [],
   "source": [
    "domain = salobj.Domain()\n",
    "atcs = ATCS(domain)\n",
    "latiss = LATISS(domain)\n",
    "await asyncio.gather(atcs.start_task, latiss.start_task)\n",
    "await atcs.assert_liveliness()"
   ]
  },
  {
   "cell_type": "code",
   "execution_count": null,
   "id": "c4f94ecb-c3be-465c-8f6c-67532a989f61",
   "metadata": {
    "execution": {
     "iopub.execute_input": "2024-08-27T18:14:34.713933Z",
     "iopub.status.busy": "2024-08-27T18:14:34.713555Z",
     "iopub.status.idle": "2024-08-27T18:14:34.731193Z",
     "shell.execute_reply": "2024-08-27T18:14:34.730753Z",
     "shell.execute_reply.started": "2024-08-27T18:14:34.713912Z"
    }
   },
   "outputs": [],
   "source": [
    "atcs._overslew_az"
   ]
  },
  {
   "cell_type": "code",
   "execution_count": null,
   "id": "8e6e4070-5a91-44b4-a87b-68128e083bfe",
   "metadata": {
    "execution": {
     "iopub.execute_input": "2024-04-30T13:46:18.352121Z",
     "iopub.status.busy": "2024-04-30T13:46:18.351617Z",
     "iopub.status.idle": "2024-04-30T13:46:18.356080Z",
     "shell.execute_reply": "2024-04-30T13:46:18.355307Z",
     "shell.execute_reply.started": "2024-04-30T13:46:18.352094Z"
    }
   },
   "outputs": [],
   "source": [
    "atcs._overslew_az = False"
   ]
  },
  {
   "cell_type": "code",
   "execution_count": null,
   "id": "64658e2b-a266-42b8-b696-3459c6203959",
   "metadata": {
    "execution": {
     "iopub.execute_input": "2024-04-30T13:46:19.369061Z",
     "iopub.status.busy": "2024-04-30T13:46:19.367913Z",
     "iopub.status.idle": "2024-04-30T13:46:19.374432Z",
     "shell.execute_reply": "2024-04-30T13:46:19.373604Z",
     "shell.execute_reply.started": "2024-04-30T13:46:19.369027Z"
    }
   },
   "outputs": [],
   "source": [
    "atcs._overslew_az"
   ]
  },
  {
   "cell_type": "markdown",
   "id": "50d3b4be",
   "metadata": {},
   "source": [
    "## Enable LATISS and ATCS"
   ]
  },
  {
   "cell_type": "markdown",
   "id": "a85209e7",
   "metadata": {
    "tags": []
   },
   "source": [
    "### Bias verification"
   ]
  },
  {
   "cell_type": "code",
   "execution_count": null,
   "id": "7761429f",
   "metadata": {
    "execution": {
     "iopub.execute_input": "2024-04-30T14:43:30.405264Z",
     "iopub.status.busy": "2024-04-30T14:43:30.404817Z",
     "iopub.status.idle": "2024-04-30T14:43:52.953564Z",
     "shell.execute_reply": "2024-04-30T14:43:52.952583Z",
     "shell.execute_reply.started": "2024-04-30T14:43:30.405233Z"
    },
    "tags": []
   },
   "outputs": [],
   "source": [
    "for i in range(5):\n",
    "    await latiss.take_bias(nbias=1)\n",
    "    await asyncio.sleep(2.0)"
   ]
  },
  {
   "cell_type": "code",
   "execution_count": null,
   "id": "eb8e7dab-9da0-42a9-995c-34977879aa1a",
   "metadata": {
    "execution": {
     "iopub.execute_input": "2024-08-27T18:14:40.804405Z",
     "iopub.status.busy": "2024-08-27T18:14:40.804066Z",
     "iopub.status.idle": "2024-08-27T18:14:40.808111Z",
     "shell.execute_reply": "2024-08-27T18:14:40.807649Z",
     "shell.execute_reply.started": "2024-08-27T18:14:40.804387Z"
    },
    "tags": []
   },
   "outputs": [],
   "source": [
    "await atcs.disable_dome_following()"
   ]
  },
  {
   "cell_type": "markdown",
   "id": "3fc32bc5-5f36-4e5a-bcfd-27c3a9eeec21",
   "metadata": {
    "tags": []
   },
   "source": [
    "### Now run the actual test, taking a 30 second image at each location."
   ]
  },
  {
   "cell_type": "code",
   "execution_count": null,
   "id": "593b310c-4429-479c-912b-5c57f20c3fcd",
   "metadata": {
    "execution": {
     "iopub.execute_input": "2024-08-27T18:58:04.350039Z",
     "iopub.status.busy": "2024-08-27T18:58:04.349742Z",
     "iopub.status.idle": "2024-08-27T19:00:38.817279Z",
     "shell.execute_reply": "2024-08-27T19:00:38.816817Z",
     "shell.execute_reply.started": "2024-08-27T18:58:04.350022Z"
    },
    "jupyter": {
     "outputs_hidden": true
    },
    "tags": []
   },
   "outputs": [],
   "source": [
    "# Move to starting location\n",
    "coord=atcs.radec_from_azel(az=270, el=45)\n",
    "await atcs.slew_icrs(coord.ra, coord.dec, rot=0.0, rot_type=RotType.Physical)\n",
    "await latiss.take_engtest(30.0, 1)"
   ]
  },
  {
   "cell_type": "code",
   "execution_count": null,
   "id": "709e6e27-33f6-41e9-ae90-aa74de789392",
   "metadata": {
    "execution": {
     "iopub.execute_input": "2024-08-27T19:00:54.022354Z",
     "iopub.status.busy": "2024-08-27T19:00:54.022017Z",
     "iopub.status.idle": "2024-08-27T19:01:26.764384Z",
     "shell.execute_reply": "2024-08-27T19:01:26.763884Z",
     "shell.execute_reply.started": "2024-08-27T19:00:54.022337Z"
    }
   },
   "outputs": [],
   "source": []
  },
  {
   "cell_type": "code",
   "execution_count": null,
   "id": "51c78b57-ea95-46dc-a476-0bde3e98bf6c",
   "metadata": {
    "execution": {
     "iopub.execute_input": "2024-08-27T19:01:47.817255Z",
     "iopub.status.busy": "2024-08-27T19:01:47.816702Z",
     "iopub.status.idle": "2024-08-27T19:40:42.548490Z",
     "shell.execute_reply": "2024-08-27T19:40:42.547976Z",
     "shell.execute_reply.started": "2024-08-27T19:01:47.817237Z"
    },
    "jupyter": {
     "outputs_hidden": true
    },
    "tags": []
   },
   "outputs": [],
   "source": [
    "# Now run the actual test \n",
    "# First image is 2024082700059\n",
    "\n",
    "az = 270.0\n",
    "el = 45\n",
    "for i in range(45):\n",
    "    az -= 2.0\n",
    "    coord=atcs.radec_from_azel(az=az, el=el)\n",
    "    await atcs.slew_icrs(coord.ra, coord.dec, rot=0.0, rot_type=RotType.Physical)\n",
    "    await latiss.take_engtest(30.0, 1)\n"
   ]
  },
  {
   "cell_type": "code",
   "execution_count": null,
   "id": "3ea5225b",
   "metadata": {
    "execution": {
     "iopub.execute_input": "2024-04-30T18:22:08.209904Z",
     "iopub.status.busy": "2024-04-30T18:22:08.209502Z",
     "iopub.status.idle": "2024-04-30T18:22:08.490981Z",
     "shell.execute_reply": "2024-04-30T18:22:08.490149Z",
     "shell.execute_reply.started": "2024-04-30T18:22:08.209834Z"
    },
    "tags": []
   },
   "outputs": [],
   "source": [
    "# Stop tracking\n",
    "await atcs.stop_tracking()"
   ]
  },
  {
   "cell_type": "markdown",
   "id": "a435880e",
   "metadata": {},
   "source": [
    "## Shutdown all ATCS components"
   ]
  },
  {
   "cell_type": "code",
   "execution_count": null,
   "id": "723d22b0",
   "metadata": {
    "jupyter": {
     "outputs_hidden": true
    },
    "tags": []
   },
   "outputs": [],
   "source": [
    "await atcs.shutdown()"
   ]
  },
  {
   "cell_type": "markdown",
   "id": "621b5407",
   "metadata": {},
   "source": [
    "## Put LATISS in standby"
   ]
  },
  {
   "cell_type": "code",
   "execution_count": null,
   "id": "80517626",
   "metadata": {
    "tags": []
   },
   "outputs": [],
   "source": [
    "await latiss.standby()"
   ]
  },
  {
   "cell_type": "code",
   "execution_count": null,
   "id": "58009d48-693f-452a-b497-ccc6008c1975",
   "metadata": {},
   "outputs": [],
   "source": []
  }
 ],
 "metadata": {
  "kernelspec": {
   "display_name": "LSST",
   "language": "python",
   "name": "lsst"
  },
  "language_info": {
   "codemirror_mode": {
    "name": "ipython",
    "version": 3
   },
   "file_extension": ".py",
   "mimetype": "text/x-python",
   "name": "python",
   "nbconvert_exporter": "python",
   "pygments_lexer": "ipython3",
   "version": "3.11.9"
  }
 },
 "nbformat": 4,
 "nbformat_minor": 5
}
