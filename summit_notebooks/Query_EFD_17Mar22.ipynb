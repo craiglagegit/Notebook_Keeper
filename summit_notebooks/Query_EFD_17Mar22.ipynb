{
 "cells": [
  {
   "cell_type": "code",
   "execution_count": null,
   "metadata": {
    "execution": {
     "iopub.execute_input": "2023-11-15T13:37:51.549367Z",
     "iopub.status.busy": "2023-11-15T13:37:51.548381Z",
     "iopub.status.idle": "2023-11-15T13:37:51.939001Z",
     "shell.execute_reply": "2023-11-15T13:37:51.938481Z",
     "shell.execute_reply.started": "2023-11-15T13:37:51.549324Z"
    },
    "tags": []
   },
   "outputs": [],
   "source": [
    "import sys, time, os, asyncio, glob\n",
    "import numpy as np\n",
    "import pandas as pd\n",
    "from astropy.time import Time, TimeDelta\n",
    "from lsst_efd_client import EfdClient"
   ]
  },
  {
   "cell_type": "code",
   "execution_count": null,
   "metadata": {
    "execution": {
     "iopub.execute_input": "2023-11-15T13:37:51.940818Z",
     "iopub.status.busy": "2023-11-15T13:37:51.940213Z",
     "iopub.status.idle": "2023-11-15T13:37:53.228031Z",
     "shell.execute_reply": "2023-11-15T13:37:53.227277Z",
     "shell.execute_reply.started": "2023-11-15T13:37:51.940797Z"
    },
    "tags": []
   },
   "outputs": [],
   "source": [
    "client = EfdClient('summit_efd')"
   ]
  },
  {
   "cell_type": "code",
   "execution_count": null,
   "metadata": {
    "execution": {
     "iopub.execute_input": "2023-04-12T15:59:41.409422Z",
     "iopub.status.busy": "2023-04-12T15:59:41.409286Z",
     "iopub.status.idle": "2023-04-12T15:59:41.622259Z",
     "shell.execute_reply": "2023-04-12T15:59:41.621858Z",
     "shell.execute_reply.started": "2023-04-12T15:59:41.409410Z"
    },
    "jupyter": {
     "outputs_hidden": true
    },
    "tags": []
   },
   "outputs": [],
   "source": [
    "await client.get_topics()"
   ]
  },
  {
   "cell_type": "code",
   "execution_count": null,
   "metadata": {
    "execution": {
     "iopub.execute_input": "2023-04-12T15:59:54.142286Z",
     "iopub.status.busy": "2023-04-12T15:59:54.142008Z",
     "iopub.status.idle": "2023-04-12T15:59:54.156091Z",
     "shell.execute_reply": "2023-04-12T15:59:54.155678Z",
     "shell.execute_reply.started": "2023-04-12T15:59:54.142270Z"
    },
    "tags": []
   },
   "outputs": [],
   "source": [
    "topics = await client.get_topics()\n",
    "for topic in topics:\n",
    "    if 'M1M3' in topic:\n",
    "        print(topic)"
   ]
  },
  {
   "cell_type": "code",
   "execution_count": null,
   "metadata": {},
   "outputs": [],
   "source": []
  },
  {
   "cell_type": "code",
   "execution_count": null,
   "metadata": {
    "execution": {
     "iopub.execute_input": "2023-03-23T16:02:57.916676Z",
     "iopub.status.busy": "2023-03-23T16:02:57.916376Z",
     "iopub.status.idle": "2023-03-23T16:02:57.974375Z",
     "shell.execute_reply": "2023-03-23T16:02:57.973878Z",
     "shell.execute_reply.started": "2023-03-23T16:02:57.916659Z"
    },
    "tags": []
   },
   "outputs": [],
   "source": [
    "await client.get_fields('lsst.sal.MTMount.encoder')"
   ]
  },
  {
   "cell_type": "code",
   "execution_count": null,
   "metadata": {
    "execution": {
     "iopub.execute_input": "2023-03-16T10:31:17.861434Z",
     "iopub.status.busy": "2023-03-16T10:31:17.861148Z",
     "iopub.status.idle": "2023-03-16T10:31:18.173004Z",
     "shell.execute_reply": "2023-03-16T10:31:18.172465Z",
     "shell.execute_reply.started": "2023-03-16T10:31:17.861417Z"
    },
    "tags": []
   },
   "outputs": [],
   "source": [
    "start = Time(\"2023-03-07 00:00:00Z\", scale='utc')\n",
    "end = Time(\"2023-03-16 09:00:00Z\", scale='utc')\n",
    "ptg = await client.select_time_series('lsst.sal.MTPtg.logevent_pointingModel', \\\n",
    "                                            ['*'],  start, end)\n",
    "file = await client.select_time_series('lsst.sal.MTPtg.logevent_pointingFile', \\\n",
    "                                            ['*'],  start, end)"
   ]
  },
  {
   "cell_type": "code",
   "execution_count": null,
   "metadata": {
    "execution": {
     "iopub.execute_input": "2023-03-16T10:26:44.043461Z",
     "iopub.status.busy": "2023-03-16T10:26:44.043087Z",
     "iopub.status.idle": "2023-03-16T10:26:44.047602Z",
     "shell.execute_reply": "2023-03-16T10:26:44.046948Z",
     "shell.execute_reply.started": "2023-03-16T10:26:44.043443Z"
    },
    "tags": []
   },
   "outputs": [],
   "source": [
    "len(ptg)"
   ]
  },
  {
   "cell_type": "code",
   "execution_count": null,
   "metadata": {
    "execution": {
     "iopub.execute_input": "2023-03-16T10:26:49.325507Z",
     "iopub.status.busy": "2023-03-16T10:26:49.325133Z",
     "iopub.status.idle": "2023-03-16T10:26:49.329789Z",
     "shell.execute_reply": "2023-03-16T10:26:49.329147Z",
     "shell.execute_reply.started": "2023-03-16T10:26:49.325489Z"
    },
    "tags": []
   },
   "outputs": [],
   "source": [
    "ptg.columns"
   ]
  },
  {
   "cell_type": "code",
   "execution_count": null,
   "metadata": {
    "execution": {
     "iopub.execute_input": "2023-03-16T10:27:00.661806Z",
     "iopub.status.busy": "2023-03-16T10:27:00.661430Z",
     "iopub.status.idle": "2023-03-16T10:27:00.677152Z",
     "shell.execute_reply": "2023-03-16T10:27:00.676484Z",
     "shell.execute_reply.started": "2023-03-16T10:27:00.661788Z"
    }
   },
   "outputs": [],
   "source": [
    "ptg"
   ]
  },
  {
   "cell_type": "code",
   "execution_count": null,
   "metadata": {
    "execution": {
     "iopub.execute_input": "2023-03-16T10:29:49.920826Z",
     "iopub.status.busy": "2023-03-16T10:29:49.920526Z",
     "iopub.status.idle": "2023-03-16T10:29:49.924676Z",
     "shell.execute_reply": "2023-03-16T10:29:49.924191Z",
     "shell.execute_reply.started": "2023-03-16T10:29:49.920808Z"
    },
    "tags": []
   },
   "outputs": [],
   "source": [
    "for i in range(11, 17):\n",
    "    print(i, ptg.iloc[i]['pointingModelTermValues'])"
   ]
  },
  {
   "cell_type": "code",
   "execution_count": null,
   "metadata": {
    "execution": {
     "iopub.execute_input": "2023-03-15T14:05:47.513093Z",
     "iopub.status.busy": "2023-03-15T14:05:47.512807Z",
     "iopub.status.idle": "2023-03-15T14:05:47.989200Z",
     "shell.execute_reply": "2023-03-15T14:05:47.988784Z",
     "shell.execute_reply.started": "2023-03-15T14:05:47.513076Z"
    },
    "tags": []
   },
   "outputs": [],
   "source": [
    "az['actualPosition'].plot()"
   ]
  },
  {
   "cell_type": "code",
   "execution_count": null,
   "metadata": {
    "execution": {
     "iopub.execute_input": "2023-03-16T10:31:25.472426Z",
     "iopub.status.busy": "2023-03-16T10:31:25.472150Z",
     "iopub.status.idle": "2023-03-16T10:31:25.481093Z",
     "shell.execute_reply": "2023-03-16T10:31:25.480652Z",
     "shell.execute_reply.started": "2023-03-16T10:31:25.472409Z"
    }
   },
   "outputs": [],
   "source": [
    "file"
   ]
  },
  {
   "cell_type": "code",
   "execution_count": null,
   "metadata": {
    "execution": {
     "iopub.execute_input": "2023-03-17T23:04:52.625598Z",
     "iopub.status.busy": "2023-03-17T23:04:52.625203Z",
     "iopub.status.idle": "2023-03-17T23:04:52.767822Z",
     "shell.execute_reply": "2023-03-17T23:04:52.767212Z",
     "shell.execute_reply.started": "2023-03-17T23:04:52.625581Z"
    }
   },
   "outputs": [],
   "source": [
    "client.select_time_series?"
   ]
  },
  {
   "cell_type": "code",
   "execution_count": null,
   "metadata": {
    "execution": {
     "iopub.execute_input": "2023-03-17T23:09:40.481399Z",
     "iopub.status.busy": "2023-03-17T23:09:40.481018Z",
     "iopub.status.idle": "2023-03-17T23:09:45.485523Z",
     "shell.execute_reply": "2023-03-17T23:09:45.484941Z",
     "shell.execute_reply.started": "2023-03-17T23:09:40.481379Z"
    },
    "tags": []
   },
   "outputs": [],
   "source": [
    "start = Time(\"2023-03-17 20:00:00Z\", scale='utc')\n",
    "end = Time(\"2023-03-17 20:05:00Z\", scale='utc')\n",
    "test1 = await client.select_time_series('lsst.sal.ESS.accelerometerPSD', \\\n",
    "                                            ['*'],  start, end, index=202)\n"
   ]
  },
  {
   "cell_type": "code",
   "execution_count": null,
   "metadata": {
    "execution": {
     "iopub.execute_input": "2023-03-17T23:09:45.509941Z",
     "iopub.status.busy": "2023-03-17T23:09:45.509643Z",
     "iopub.status.idle": "2023-03-17T23:09:45.512912Z",
     "shell.execute_reply": "2023-03-17T23:09:45.512457Z",
     "shell.execute_reply.started": "2023-03-17T23:09:45.509925Z"
    },
    "tags": []
   },
   "outputs": [],
   "source": [
    "len(test1)"
   ]
  },
  {
   "cell_type": "code",
   "execution_count": null,
   "metadata": {
    "execution": {
     "iopub.execute_input": "2023-03-17T23:11:06.637031Z",
     "iopub.status.busy": "2023-03-17T23:11:06.636664Z",
     "iopub.status.idle": "2023-03-17T23:11:06.640314Z",
     "shell.execute_reply": "2023-03-17T23:11:06.639932Z",
     "shell.execute_reply.started": "2023-03-17T23:11:06.637013Z"
    },
    "tags": []
   },
   "outputs": [],
   "source": [
    "len(test1.columns)"
   ]
  },
  {
   "cell_type": "code",
   "execution_count": null,
   "metadata": {
    "execution": {
     "iopub.execute_input": "2023-03-17T23:10:11.689590Z",
     "iopub.status.busy": "2023-03-17T23:10:11.689207Z",
     "iopub.status.idle": "2023-03-17T23:10:11.695280Z",
     "shell.execute_reply": "2023-03-17T23:10:11.694781Z",
     "shell.execute_reply.started": "2023-03-17T23:10:11.689573Z"
    }
   },
   "outputs": [],
   "source": [
    "test1['salIndex']"
   ]
  },
  {
   "cell_type": "code",
   "execution_count": null,
   "metadata": {
    "execution": {
     "iopub.execute_input": "2023-03-17T23:10:16.857662Z",
     "iopub.status.busy": "2023-03-17T23:10:16.857296Z",
     "iopub.status.idle": "2023-03-17T23:10:18.153199Z",
     "shell.execute_reply": "2023-03-17T23:10:18.152504Z",
     "shell.execute_reply.started": "2023-03-17T23:10:16.857644Z"
    },
    "tags": []
   },
   "outputs": [],
   "source": [
    "start = Time(\"2023-03-17 20:00:00Z\", scale='utc')\n",
    "end = Time(\"2023-03-17 20:05:00Z\", scale='utc')\n",
    "test2 = await client.select_time_series('lsst.sal.ESS.accelerometerPSD', \\\n",
    "                                            ['*'],  start, end, index=104)\n"
   ]
  },
  {
   "cell_type": "code",
   "execution_count": null,
   "metadata": {
    "execution": {
     "iopub.execute_input": "2023-03-17T23:10:19.196130Z",
     "iopub.status.busy": "2023-03-17T23:10:19.195771Z",
     "iopub.status.idle": "2023-03-17T23:10:19.199666Z",
     "shell.execute_reply": "2023-03-17T23:10:19.199172Z",
     "shell.execute_reply.started": "2023-03-17T23:10:19.196113Z"
    },
    "tags": []
   },
   "outputs": [],
   "source": [
    "len(test2)"
   ]
  },
  {
   "cell_type": "code",
   "execution_count": null,
   "metadata": {
    "execution": {
     "iopub.execute_input": "2023-03-17T23:10:54.835570Z",
     "iopub.status.busy": "2023-03-17T23:10:54.835200Z",
     "iopub.status.idle": "2023-03-17T23:10:54.838892Z",
     "shell.execute_reply": "2023-03-17T23:10:54.838531Z",
     "shell.execute_reply.started": "2023-03-17T23:10:54.835553Z"
    },
    "tags": []
   },
   "outputs": [],
   "source": [
    "len(test2.columns)"
   ]
  },
  {
   "cell_type": "code",
   "execution_count": null,
   "metadata": {
    "execution": {
     "iopub.execute_input": "2023-03-17T23:10:46.367866Z",
     "iopub.status.busy": "2023-03-17T23:10:46.367503Z",
     "iopub.status.idle": "2023-03-17T23:10:46.372481Z",
     "shell.execute_reply": "2023-03-17T23:10:46.372012Z",
     "shell.execute_reply.started": "2023-03-17T23:10:46.367848Z"
    }
   },
   "outputs": [],
   "source": [
    "test2['salIndex']"
   ]
  },
  {
   "cell_type": "code",
   "execution_count": null,
   "metadata": {
    "execution": {
     "iopub.execute_input": "2023-11-15T13:40:28.392115Z",
     "iopub.status.busy": "2023-11-15T13:40:28.391744Z",
     "iopub.status.idle": "2023-11-15T13:40:29.508196Z",
     "shell.execute_reply": "2023-11-15T13:40:29.507559Z",
     "shell.execute_reply.started": "2023-11-15T13:40:28.392087Z"
    }
   },
   "outputs": [],
   "source": [
    "client = EfdClient('summit_efd')\n",
    "start = Time(\"2023-11-08 06:45:00Z\", scale='utc')\n",
    "end = Time(\"2023-11-08 06:55:00Z\", scale='utc')\n",
    "\n",
    "cRIO_ts = await client.select_time_series(\"lsst.sal.ATMCS.mount_AzEl_Encoders\", \\\n",
    "                                            [\"cRIO_timestamp\"],  start, end)\n",
    "print(len(cRIO_ts))"
   ]
  },
  {
   "cell_type": "code",
   "execution_count": null,
   "metadata": {
    "execution": {
     "iopub.execute_input": "2023-11-15T13:42:48.489651Z",
     "iopub.status.busy": "2023-11-15T13:42:48.488608Z",
     "iopub.status.idle": "2023-11-15T13:42:49.651440Z",
     "shell.execute_reply": "2023-11-15T13:42:49.650791Z",
     "shell.execute_reply.started": "2023-11-15T13:42:48.489617Z"
    }
   },
   "outputs": [],
   "source": [
    "client = EfdClient('summit_efd')\n",
    "start = Time(\"2023-09-22 03:45:00Z\", scale='utc')\n",
    "end = Time(\"2023-09-22 03:55:00Z\", scale='utc')\n",
    "\n",
    "cRIO_ts = await client.select_time_series(\"lsst.sal.ATMCS.mount_AzEl_Encoders\", \\\n",
    "                                            [\"cRIO_timestamp\"],  start, end)\n",
    "print(len(cRIO_ts))"
   ]
  },
  {
   "cell_type": "code",
   "execution_count": null,
   "metadata": {},
   "outputs": [],
   "source": []
  },
  {
   "cell_type": "code",
   "execution_count": null,
   "metadata": {},
   "outputs": [],
   "source": []
  },
  {
   "cell_type": "code",
   "execution_count": null,
   "metadata": {},
   "outputs": [],
   "source": []
  },
  {
   "cell_type": "code",
   "execution_count": null,
   "metadata": {},
   "outputs": [],
   "source": []
  }
 ],
 "metadata": {
  "kernelspec": {
   "display_name": "LSST",
   "language": "python",
   "name": "lsst"
  },
  "language_info": {
   "codemirror_mode": {
    "name": "ipython",
    "version": 3
   },
   "file_extension": ".py",
   "mimetype": "text/x-python",
   "name": "python",
   "nbconvert_exporter": "python",
   "pygments_lexer": "ipython3",
   "version": "3.11.4"
  }
 },
 "nbformat": 4,
 "nbformat_minor": 4
}
