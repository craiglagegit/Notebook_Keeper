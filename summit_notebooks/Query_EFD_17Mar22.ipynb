{
 "cells": [
  {
   "cell_type": "code",
   "execution_count": null,
   "metadata": {
    "execution": {
     "iopub.execute_input": "2023-03-15T13:01:54.483974Z",
     "iopub.status.busy": "2023-03-15T13:01:54.483814Z",
     "iopub.status.idle": "2023-03-15T13:01:54.583519Z",
     "shell.execute_reply": "2023-03-15T13:01:54.582992Z",
     "shell.execute_reply.started": "2023-03-15T13:01:54.483949Z"
    },
    "tags": []
   },
   "outputs": [],
   "source": [
    "import sys, time, os, asyncio, glob\n",
    "import numpy as np\n",
    "import pandas as pd\n",
    "from astropy.time import Time, TimeDelta\n",
    "from lsst_efd_client import EfdClient"
   ]
  },
  {
   "cell_type": "code",
   "execution_count": null,
   "metadata": {
    "execution": {
     "iopub.execute_input": "2023-03-15T13:01:55.807049Z",
     "iopub.status.busy": "2023-03-15T13:01:55.806766Z",
     "iopub.status.idle": "2023-03-15T13:01:57.271358Z",
     "shell.execute_reply": "2023-03-15T13:01:57.270765Z",
     "shell.execute_reply.started": "2023-03-15T13:01:55.807032Z"
    },
    "tags": []
   },
   "outputs": [],
   "source": [
    "client = EfdClient('summit_efd')"
   ]
  },
  {
   "cell_type": "code",
   "execution_count": null,
   "metadata": {
    "execution": {
     "iopub.execute_input": "2023-03-15T13:01:57.996934Z",
     "iopub.status.busy": "2023-03-15T13:01:57.996549Z",
     "iopub.status.idle": "2023-03-15T13:01:58.216457Z",
     "shell.execute_reply": "2023-03-15T13:01:58.215931Z",
     "shell.execute_reply.started": "2023-03-15T13:01:57.996916Z"
    },
    "jupyter": {
     "outputs_hidden": true
    },
    "tags": []
   },
   "outputs": [],
   "source": [
    "await client.get_topics()"
   ]
  },
  {
   "cell_type": "code",
   "execution_count": null,
   "metadata": {
    "execution": {
     "iopub.execute_input": "2023-03-15T14:04:19.493669Z",
     "iopub.status.busy": "2023-03-15T14:04:19.493399Z",
     "iopub.status.idle": "2023-03-15T14:04:19.677539Z",
     "shell.execute_reply": "2023-03-15T14:04:19.677124Z",
     "shell.execute_reply.started": "2023-03-15T14:04:19.493653Z"
    },
    "jupyter": {
     "outputs_hidden": true
    },
    "tags": []
   },
   "outputs": [],
   "source": [
    "topics = await client.get_topics()\n",
    "for topic in topics:\n",
    "    if 'MTMount' in topic:\n",
    "        print(topic)"
   ]
  },
  {
   "cell_type": "code",
   "execution_count": null,
   "metadata": {},
   "outputs": [],
   "source": []
  },
  {
   "cell_type": "code",
   "execution_count": null,
   "metadata": {
    "execution": {
     "iopub.execute_input": "2023-03-15T13:02:16.341582Z",
     "iopub.status.busy": "2023-03-15T13:02:16.341208Z",
     "iopub.status.idle": "2023-03-15T13:02:16.386991Z",
     "shell.execute_reply": "2023-03-15T13:02:16.386476Z",
     "shell.execute_reply.started": "2023-03-15T13:02:16.341565Z"
    },
    "tags": []
   },
   "outputs": [],
   "source": [
    "await client.get_fields('lsst.sal.MTMount.azimuth')"
   ]
  },
  {
   "cell_type": "code",
   "execution_count": null,
   "metadata": {
    "execution": {
     "iopub.execute_input": "2023-03-15T14:05:22.081996Z",
     "iopub.status.busy": "2023-03-15T14:05:22.081719Z",
     "iopub.status.idle": "2023-03-15T14:05:22.586001Z",
     "shell.execute_reply": "2023-03-15T14:05:22.585465Z",
     "shell.execute_reply.started": "2023-03-15T14:05:22.081979Z"
    },
    "tags": []
   },
   "outputs": [],
   "source": [
    "start = Time(\"2023-03-10 03:00:00Z\", scale='utc')\n",
    "end = Time(\"2023-03-10 03:30:00Z\", scale='utc')\n",
    "az = await client.select_time_series('lsst.sal.MTMount.azimuth', \\\n",
    "                                            ['actualPosition', 'timestamp'],  start, end)"
   ]
  },
  {
   "cell_type": "code",
   "execution_count": null,
   "metadata": {
    "execution": {
     "iopub.execute_input": "2023-03-15T14:05:26.167736Z",
     "iopub.status.busy": "2023-03-15T14:05:26.167460Z",
     "iopub.status.idle": "2023-03-15T14:05:26.171020Z",
     "shell.execute_reply": "2023-03-15T14:05:26.170610Z",
     "shell.execute_reply.started": "2023-03-15T14:05:26.167717Z"
    },
    "tags": []
   },
   "outputs": [],
   "source": [
    "type(az)"
   ]
  },
  {
   "cell_type": "code",
   "execution_count": null,
   "metadata": {
    "execution": {
     "iopub.execute_input": "2023-03-15T14:05:32.306789Z",
     "iopub.status.busy": "2023-03-15T14:05:32.306524Z",
     "iopub.status.idle": "2023-03-15T14:05:32.309884Z",
     "shell.execute_reply": "2023-03-15T14:05:32.309498Z",
     "shell.execute_reply.started": "2023-03-15T14:05:32.306772Z"
    },
    "tags": []
   },
   "outputs": [],
   "source": [
    "len(az)"
   ]
  },
  {
   "cell_type": "code",
   "execution_count": null,
   "metadata": {
    "execution": {
     "iopub.execute_input": "2023-03-15T14:05:42.908509Z",
     "iopub.status.busy": "2023-03-15T14:05:42.908231Z",
     "iopub.status.idle": "2023-03-15T14:05:42.911870Z",
     "shell.execute_reply": "2023-03-15T14:05:42.911496Z",
     "shell.execute_reply.started": "2023-03-15T14:05:42.908491Z"
    },
    "tags": []
   },
   "outputs": [],
   "source": [
    "az.columns"
   ]
  },
  {
   "cell_type": "code",
   "execution_count": null,
   "metadata": {
    "execution": {
     "iopub.execute_input": "2023-03-15T14:05:47.513093Z",
     "iopub.status.busy": "2023-03-15T14:05:47.512807Z",
     "iopub.status.idle": "2023-03-15T14:05:47.989200Z",
     "shell.execute_reply": "2023-03-15T14:05:47.988784Z",
     "shell.execute_reply.started": "2023-03-15T14:05:47.513076Z"
    },
    "tags": []
   },
   "outputs": [],
   "source": [
    "az['actualPosition'].plot()"
   ]
  },
  {
   "cell_type": "code",
   "execution_count": null,
   "metadata": {},
   "outputs": [],
   "source": []
  }
 ],
 "metadata": {
  "kernelspec": {
   "display_name": "LSST",
   "language": "python",
   "name": "lsst"
  },
  "language_info": {
   "codemirror_mode": {
    "name": "ipython",
    "version": 3
   },
   "file_extension": ".py",
   "mimetype": "text/x-python",
   "name": "python",
   "nbconvert_exporter": "python",
   "pygments_lexer": "ipython3",
   "version": "3.10.9"
  }
 },
 "nbformat": 4,
 "nbformat_minor": 4
}
