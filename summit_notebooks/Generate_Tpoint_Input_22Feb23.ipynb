{
 "cells": [
  {
   "cell_type": "code",
   "execution_count": null,
   "id": "e10463c5-3817-4914-aa80-e22ef27ed291",
   "metadata": {
    "execution": {
     "iopub.execute_input": "2023-02-24T13:09:21.366373Z",
     "iopub.status.busy": "2023-02-24T13:09:21.366091Z",
     "iopub.status.idle": "2023-02-24T13:09:21.811363Z",
     "shell.execute_reply": "2023-02-24T13:09:21.810548Z",
     "shell.execute_reply.started": "2023-02-24T13:09:21.366356Z"
    },
    "tags": []
   },
   "outputs": [],
   "source": [
    "import numpy as np\n",
    "from datetime import date\n",
    "import matplotlib\n",
    "import matplotlib.pyplot as plt\n",
    "import pandas as pd\n",
    "import astropy.io.fits as pf\n",
    "from astropy.time import Time, TimeDelta\n",
    "from lsst_efd_client import EfdClient"
   ]
  },
  {
   "cell_type": "code",
   "execution_count": null,
   "id": "dc02f819-7ca0-4699-af79-9719e2bf6cd3",
   "metadata": {
    "execution": {
     "iopub.execute_input": "2023-02-24T13:09:22.096474Z",
     "iopub.status.busy": "2023-02-24T13:09:22.096082Z",
     "iopub.status.idle": "2023-02-24T13:09:22.098934Z",
     "shell.execute_reply": "2023-02-24T13:09:22.098553Z",
     "shell.execute_reply.started": "2023-02-24T13:09:22.096456Z"
    },
    "tags": []
   },
   "outputs": [],
   "source": [
    "scratchDir = \"/scratch/cslage/starTracker\""
   ]
  },
  {
   "cell_type": "code",
   "execution_count": null,
   "id": "f6052eaa-3723-4b4c-b73a-875f1a6df7c8",
   "metadata": {
    "execution": {
     "iopub.execute_input": "2023-02-24T13:09:22.816078Z",
     "iopub.status.busy": "2023-02-24T13:09:22.815704Z",
     "iopub.status.idle": "2023-02-24T13:09:24.340842Z",
     "shell.execute_reply": "2023-02-24T13:09:24.340316Z",
     "shell.execute_reply.started": "2023-02-24T13:09:22.816061Z"
    },
    "tags": []
   },
   "outputs": [],
   "source": [
    "client = EfdClient('summit_efd')"
   ]
  },
  {
   "cell_type": "markdown",
   "id": "6964119a-4caf-4e76-8e89-00c4213adfb2",
   "metadata": {},
   "source": [
    "## This generates the tpoint input format\n",
    "### One camera, one date only"
   ]
  },
  {
   "cell_type": "code",
   "execution_count": null,
   "id": "f08cc10e-41bb-4fcb-9030-70d8102afc0e",
   "metadata": {
    "execution": {
     "iopub.execute_input": "2023-02-24T13:13:12.795752Z",
     "iopub.status.busy": "2023-02-24T13:13:12.795424Z",
     "iopub.status.idle": "2023-02-24T13:13:14.545495Z",
     "shell.execute_reply": "2023-02-24T13:13:14.545062Z",
     "shell.execute_reply.started": "2023-02-24T13:13:12.795730Z"
    },
    "tags": []
   },
   "outputs": [],
   "source": [
    "[camera, num] = ['Narrow', 102]\n",
    "date = 20230221\n",
    "year = int(date/10000)\n",
    "month = int((date - 10000 * year)/100)\n",
    "day = int((date - 10000 * year - 100 * month))\n",
    "path = f\"/project/GenericCamera/{num}/{year}/{month:02}/{day:02}/\"\n",
    "outfilename = f\"Tpoint_Input_{camera}_{date}.dat\"\n",
    "outfile = open(scratchDir + \"/\" + outfilename, 'w')\n",
    "outfile.write(\"!\" + outfilename + \"\\n\")\n",
    "outfile.write(\"!LSST Main Telescope, 2023 Feb 21 \\n\")\n",
    "outfile.write(\": ALTAZ\\n\")\n",
    "outfile.write(\": ROTNR\\n\")\n",
    "outfile.write(\"-30 14 40.2\\n\")\n",
    "filename = f\"StarTracker_Summary_Boresight_{camera}_{date}.txt\"\n",
    "data = np.loadtxt(scratchDir+\"/\"+filename, skiprows=1)\n",
    "for j in range(data.shape[0]):\n",
    "    [seqNum,ra,dec,el,az,raSolve,decSolve,deltaRA,deltDec,elSolve,azSolve,deltaEl,deltaAz,\\\n",
    "     rot,rms_error] = data[j]\n",
    "    seqNum = int(seqNum)\n",
    "    filename = path + f\"GC{num}_O_{date}_{seqNum:06}.fits\"\n",
    "    hdulist = pf.open(filename)\n",
    "    header = hdulist[0].header\n",
    "    expTime = header['EXPTIME']\n",
    "    start_time = Time(header[\"DATE-OBS\"], scale='tai')\n",
    "    #time = Time((Time(header[\"DATE-BEG\"], scale='tai').unix_tai + Time(header[\"DATE-END\"], scale='tai').unix_tai)/2.0, format='unix_tai', scale='tai')\n",
    "    #if seqNum == 160:\n",
    "    #    print(time.isot, time.utc.isot)\n",
    "    #    break\n",
    "\n",
    "    end_time = start_time + TimeDelta(expTime, format='sec')\n",
    "\n",
    "    azMTM = await client.select_time_series('lsst.sal.MTMount.azimuth', \\\n",
    "                                    ['actualPosition'],  start_time.utc, end_time.utc)\n",
    "    elMTM = await client.select_time_series('lsst.sal.MTMount.elevation', \\\n",
    "                                    ['actualPosition'],  start_time.utc, end_time.utc) \n",
    "    azMTMount = (azMTM.values[:,0][0] + azMTM.values[:,0][-1]) / 2.0\n",
    "    azMTMount = azMTMount % 360\n",
    "    elMTMount = (elMTM.values[:,0][0] + elMTM.values[:,0][-1]) / 2.0\n",
    "    #outfile.write(f\"{azSolve:.6f}\\t{elSolve:.6f}\\t{azMTMount:.6f}\\t{elMTMount:.6f}\\t{rot:.6f}\\n\")\n",
    "#outfile.write(\"END\\n\")\n",
    "#outfile.close()"
   ]
  },
  {
   "cell_type": "markdown",
   "id": "ef8a17fa-9d79-4464-b7e1-72d1ea7f2728",
   "metadata": {},
   "source": [
    "## This generates the tpoint input format\n",
    "### One camera, multiple dates"
   ]
  },
  {
   "cell_type": "code",
   "execution_count": null,
   "id": "f7cb6986-4674-4cbd-85c0-0a65b5f8b6e1",
   "metadata": {
    "execution": {
     "iopub.execute_input": "2023-02-23T17:36:41.058260Z",
     "iopub.status.busy": "2023-02-23T17:36:41.057990Z",
     "iopub.status.idle": "2023-02-23T17:36:47.081338Z",
     "shell.execute_reply": "2023-02-23T17:36:47.080716Z",
     "shell.execute_reply.started": "2023-02-23T17:36:41.058243Z"
    },
    "tags": []
   },
   "outputs": [],
   "source": [
    "[camera, num] = ['Narrow', 102]\n",
    "outfilename = f\"Tpoint_Input_Narrow_20230221_22.dat\"\n",
    "outfile = open(scratchDir + \"/\" + outfilename, 'w')\n",
    "outfile.write(\"!\" + outfilename + \"\\n\")\n",
    "outfile.write(\"!LSST Main Telescope, 2023 Feb 21_22 \\n\")\n",
    "outfile.write(\": ALTAZ\\n\")\n",
    "outfile.write(\": ROTNR\\n\")\n",
    "outfile.write(\"-30 14 40.2\\n\")\n",
    "\n",
    "dates = [20230221, 20230222]\n",
    "for date in dates:\n",
    "    year = int(date/10000)\n",
    "    month = int((date - 10000 * year)/100)\n",
    "    day = int((date - 10000 * year - 100 * month))\n",
    "    path = f\"/project/GenericCamera/{num}/{year}/{month:02}/{day:02}/\"\n",
    "    filename = f\"StarTracker_Summary_Boresight_{camera}_{date}.txt\"\n",
    "    data = np.loadtxt(scratchDir+\"/\"+filename, skiprows=1)\n",
    "    for j in range(data.shape[0]):\n",
    "        [seqNum,ra,dec,el,az,raSolve,decSolve,deltaRA,deltDec,elSolve,azSolve,deltaEl,deltaAz,\\\n",
    "         rot,rms_error] = data[j]\n",
    "        seqNum = int(seqNum)\n",
    "        filename = path + f\"GC{num}_O_{date}_{seqNum:06}.fits\"\n",
    "        hdulist = pf.open(filename)\n",
    "        header = hdulist[0].header\n",
    "        expTime = header['EXPTIME']\n",
    "        start_time = Time(header[\"DATE-OBS\"], scale='tai')\n",
    "        end_time = start_time + TimeDelta(expTime, format='sec')\n",
    "\n",
    "        azMTM = await client.select_time_series('lsst.sal.MTMount.azimuth', \\\n",
    "                                        ['actualPosition'],  start_time.utc, end_time.utc)\n",
    "        elMTM = await client.select_time_series('lsst.sal.MTMount.elevation', \\\n",
    "                                        ['actualPosition'],  start_time.utc, end_time.utc) \n",
    "        azMTMount = (azMTM.values[:,0][0] + azMTM.values[:,0][-1]) / 2.0\n",
    "        azMTMount = azMTMount % 360\n",
    "        elMTMount = (elMTM.values[:,0][0] + elMTM.values[:,0][-1]) / 2.0\n",
    "        outfile.write(f\"{azSolve:.6f}\\t{elSolve:.6f}\\t{azMTMount:.6f}\\t{elMTMount:.6f}\\t{rot:.6f}\\n\")\n",
    "outfile.write(\"END\\n\")\n",
    "outfile.close()"
   ]
  },
  {
   "cell_type": "markdown",
   "id": "77400544-f0ef-4f2f-9819-c078340ac258",
   "metadata": {},
   "source": [
    "## This generates the tpoint input format\n",
    "### Multiple cameras, multiple dates"
   ]
  },
  {
   "cell_type": "code",
   "execution_count": null,
   "id": "91d917f6-2b88-48af-9fe4-3f76f27c21f8",
   "metadata": {
    "execution": {
     "iopub.execute_input": "2023-02-23T17:57:54.578564Z",
     "iopub.status.busy": "2023-02-23T17:57:54.578286Z",
     "iopub.status.idle": "2023-02-23T17:58:06.501510Z",
     "shell.execute_reply": "2023-02-23T17:58:06.500906Z",
     "shell.execute_reply.started": "2023-02-23T17:57:54.578546Z"
    },
    "tags": []
   },
   "outputs": [],
   "source": [
    "cameras = [['Wide', 101], ['Narrow', 102]]\n",
    "outfilename = f\"Tpoint_Input_Test_Both_20230221_22.dat\"\n",
    "outfile = open(scratchDir + \"/\" + outfilename, 'w')\n",
    "outfile.write(\"!\" + outfilename + \"\\n\")\n",
    "outfile.write(\"!LSST Main Telescope, 2023 Feb 21_22 \\n\")\n",
    "outfile.write(\": ALTAZ\\n\")\n",
    "outfile.write(\": ROTNR\\n\")\n",
    "outfile.write(\"-30 14 40.2\\n\")\n",
    "\n",
    "dates = [20230221, 20230222]\n",
    "for [camera, num] in cameras:\n",
    "    for date in dates:\n",
    "        year = int(date/10000)\n",
    "        month = int((date - 10000 * year)/100)\n",
    "        day = int((date - 10000 * year - 100 * month))\n",
    "        path = f\"/project/GenericCamera/{num}/{year}/{month:02}/{day:02}/\"\n",
    "        filename = f\"StarTracker_Summary_Boresight_{camera}_{date}.txt\"\n",
    "        data = np.loadtxt(scratchDir+\"/\"+filename, skiprows=1)\n",
    "        for j in range(data.shape[0]):\n",
    "            [seqNum,ra,dec,el,az,raSolve,decSolve,deltaRA,deltDec,elSolve,azSolve,deltaEl,deltaAz,\\\n",
    "             rot,rms_error] = data[j]\n",
    "            seqNum = int(seqNum)\n",
    "            filename = path + f\"GC{num}_O_{date}_{seqNum:06}.fits\"\n",
    "            hdulist = pf.open(filename)\n",
    "            header = hdulist[0].header\n",
    "            expTime = header['EXPTIME']\n",
    "            start_time = Time(header[\"DATE-OBS\"], scale='tai')\n",
    "            end_time = start_time + TimeDelta(expTime, format='sec')\n",
    "\n",
    "            azMTM = await client.select_time_series('lsst.sal.MTMount.azimuth', \\\n",
    "                                            ['actualPosition'],  start_time.utc, end_time.utc)\n",
    "            elMTM = await client.select_time_series('lsst.sal.MTMount.elevation', \\\n",
    "                                            ['actualPosition'],  start_time.utc, end_time.utc) \n",
    "            azMTMount = (azMTM.values[:,0][0] + azMTM.values[:,0][-1]) / 2.0\n",
    "            azMTMount = azMTMount % 360\n",
    "            elMTMount = (elMTM.values[:,0][0] + elMTM.values[:,0][-1]) / 2.0\n",
    "            outfile.write(f\"{azSolve:.6f}\\t{elSolve:.6f}\\t{azMTMount:.6f}\\t{elMTMount:.6f}\\t{rot:.6f}\\n\")\n",
    "outfile.write(\"END\\n\")\n",
    "outfile.close()"
   ]
  },
  {
   "cell_type": "code",
   "execution_count": null,
   "id": "44b93ea8-0691-4e37-bb0e-8ef0f4db66b7",
   "metadata": {},
   "outputs": [],
   "source": []
  }
 ],
 "metadata": {
  "kernelspec": {
   "display_name": "LSST",
   "language": "python",
   "name": "lsst"
  },
  "language_info": {
   "codemirror_mode": {
    "name": "ipython",
    "version": 3
   },
   "file_extension": ".py",
   "mimetype": "text/x-python",
   "name": "python",
   "nbconvert_exporter": "python",
   "pygments_lexer": "ipython3",
   "version": "3.10.9"
  }
 },
 "nbformat": 4,
 "nbformat_minor": 5
}
