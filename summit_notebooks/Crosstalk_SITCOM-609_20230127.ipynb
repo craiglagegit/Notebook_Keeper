{
 "cells": [
  {
   "cell_type": "markdown",
   "metadata": {},
   "source": [
    "# Take images for crosstalk determination\n",
    "\n",
    "This notebook will find a bright star and take saturated images with the star in each amp\\\n",
    "See SITCOM-609 \\\n",
    "Craig Lage - 27Jan23"
   ]
  },
  {
   "cell_type": "code",
   "execution_count": null,
   "metadata": {
    "execution": {
     "iopub.execute_input": "2023-01-27T12:57:29.426136Z",
     "iopub.status.busy": "2023-01-27T12:57:29.425859Z",
     "iopub.status.idle": "2023-01-27T12:57:33.350900Z",
     "shell.execute_reply": "2023-01-27T12:57:33.350293Z",
     "shell.execute_reply.started": "2023-01-27T12:57:29.426118Z"
    }
   },
   "outputs": [],
   "source": [
    "import sys\n",
    "import asyncio\n",
    "import time\n",
    "import astropy\n",
    "import numpy as np\n",
    "import logging \n",
    "import yaml\n",
    "import os\n",
    "\n",
    "from lsst.ts import salobj\n",
    "from lsst.ts.idl.enums.Script import ScriptState\n",
    "from lsst.ts.externalscripts.auxtel.latiss_acquire_and_take_sequence import LatissAcquireAndTakeSequence"
   ]
  },
  {
   "cell_type": "code",
   "execution_count": null,
   "metadata": {
    "execution": {
     "iopub.execute_input": "2023-01-27T12:58:03.827427Z",
     "iopub.status.busy": "2023-01-27T12:58:03.826755Z",
     "iopub.status.idle": "2023-01-27T12:58:03.830784Z",
     "shell.execute_reply": "2023-01-27T12:58:03.830283Z",
     "shell.execute_reply.started": "2023-01-27T12:58:03.827408Z"
    }
   },
   "outputs": [],
   "source": [
    "stream_handler = logging.StreamHandler(sys.stdout)\n",
    "# if you want logging\n",
    "logger = logging.getLogger()\n",
    "logger.addHandler(stream_handler)\n",
    "logger.level = logging.DEBUG\n",
    "\n",
    "# turn off logging for matplotlib\n",
    "mpl_logger = logging.getLogger('matplotlib')\n",
    "mpl_logger.setLevel(logging.WARNING)"
   ]
  },
  {
   "cell_type": "code",
   "execution_count": null,
   "metadata": {
    "execution": {
     "iopub.execute_input": "2023-01-27T12:58:43.083439Z",
     "iopub.status.busy": "2023-01-27T12:58:43.083133Z",
     "iopub.status.idle": "2023-01-27T12:58:43.087026Z",
     "shell.execute_reply": "2023-01-27T12:58:43.086501Z",
     "shell.execute_reply.started": "2023-01-27T12:58:43.083422Z"
    }
   },
   "outputs": [],
   "source": [
    "print(f'Your UID is {os.getuid()}')\n",
    "index=os.getuid()*10+np.random.randint(0,9)\n",
    "print(f'The generated index is {index}')"
   ]
  },
  {
   "cell_type": "code",
   "execution_count": null,
   "metadata": {
    "execution": {
     "iopub.execute_input": "2023-01-27T12:58:53.350623Z",
     "iopub.status.busy": "2023-01-27T12:58:53.350354Z",
     "iopub.status.idle": "2023-01-27T12:58:54.326587Z",
     "shell.execute_reply": "2023-01-27T12:58:54.325862Z",
     "shell.execute_reply.started": "2023-01-27T12:58:53.350605Z"
    },
    "jupyter": {
     "outputs_hidden": true
    },
    "tags": []
   },
   "outputs": [],
   "source": [
    "# We will use this script to acquire and center the star\n",
    "script = LatissAcquireAndTakeSequence(index=index)  # this essentially calls the init method"
   ]
  },
  {
   "cell_type": "code",
   "execution_count": null,
   "metadata": {
    "execution": {
     "iopub.execute_input": "2023-01-27T12:59:08.993450Z",
     "iopub.status.busy": "2023-01-27T12:59:08.993077Z",
     "iopub.status.idle": "2023-01-27T12:59:08.996176Z",
     "shell.execute_reply": "2023-01-27T12:59:08.995686Z",
     "shell.execute_reply.started": "2023-01-27T12:59:08.993432Z"
    }
   },
   "outputs": [],
   "source": [
    "# make sure all remotes etc are running\n",
    "await script.start_task"
   ]
  },
  {
   "cell_type": "code",
   "execution_count": null,
   "metadata": {},
   "outputs": [],
   "source": [
    "# ATAOS must be on and corrections enabled, do as follows if required\n",
    "# await script.atcs.rem.ataos.cmd_enableCorrection.set_start(m1=True, hexapod=True, atspectrograph=True)"
   ]
  },
  {
   "cell_type": "markdown",
   "metadata": {},
   "source": [
    "# Find a bright target"
   ]
  },
  {
   "cell_type": "code",
   "execution_count": null,
   "metadata": {
    "execution": {
     "iopub.execute_input": "2023-01-27T12:59:51.032509Z",
     "iopub.status.busy": "2023-01-27T12:59:51.032099Z",
     "iopub.status.idle": "2023-01-27T12:59:52.685950Z",
     "shell.execute_reply": "2023-01-27T12:59:52.685319Z",
     "shell.execute_reply.started": "2023-01-27T12:59:51.032488Z"
    }
   },
   "outputs": [],
   "source": [
    "target_name = await script.atcs.find_target(az=180.0,el=70,mag_limit=7.0)\n",
    "print(target_name)"
   ]
  },
  {
   "cell_type": "markdown",
   "metadata": {},
   "source": [
    "# Now acquire the object and the script will center it in the field"
   ]
  },
  {
   "cell_type": "code",
   "execution_count": null,
   "metadata": {
    "execution": {
     "iopub.execute_input": "2023-01-27T13:01:09.516859Z",
     "iopub.status.busy": "2023-01-27T13:01:09.516490Z",
     "iopub.status.idle": "2023-01-27T13:01:09.520522Z",
     "shell.execute_reply": "2023-01-27T13:01:09.520001Z",
     "shell.execute_reply.started": "2023-01-27T13:01:09.516841Z"
    }
   },
   "outputs": [],
   "source": [
    "# Needed to run the script a 2nd time \n",
    "script.set_state(ScriptState.UNCONFIGURED)"
   ]
  },
  {
   "cell_type": "code",
   "execution_count": null,
   "metadata": {
    "execution": {
     "iopub.execute_input": "2023-01-27T13:01:11.642570Z",
     "iopub.status.busy": "2023-01-27T13:01:11.642200Z",
     "iopub.status.idle": "2023-01-27T13:01:11.646493Z",
     "shell.execute_reply": "2023-01-27T13:01:11.645939Z",
     "shell.execute_reply.started": "2023-01-27T13:01:11.642550Z"
    },
    "tags": []
   },
   "outputs": [],
   "source": [
    "configuration = yaml.safe_dump({\"object_name\": target_name,\n",
    "                                \"do_acquire\": True,\n",
    "                                \"acq_filter\" : 'SDSSr_65mm',\n",
    "                                \"acq_grating\" : 'empty_1',\n",
    "                                \"do_take_sequence\": False})\n",
    "print(configuration)"
   ]
  },
  {
   "cell_type": "code",
   "execution_count": null,
   "metadata": {
    "execution": {
     "iopub.execute_input": "2023-01-27T13:01:26.498662Z",
     "iopub.status.busy": "2023-01-27T13:01:26.498280Z",
     "iopub.status.idle": "2023-01-27T13:01:27.687603Z",
     "shell.execute_reply": "2023-01-27T13:01:27.687070Z",
     "shell.execute_reply.started": "2023-01-27T13:01:26.498644Z"
    },
    "jupyter": {
     "outputs_hidden": true
    },
    "tags": []
   },
   "outputs": [],
   "source": [
    "config_data = script.cmd_configure.DataType()\n",
    "config_data.config = configuration\n",
    "await script.do_configure(config_data)"
   ]
  },
  {
   "cell_type": "code",
   "execution_count": null,
   "metadata": {
    "jupyter": {
     "outputs_hidden": true
    },
    "tags": []
   },
   "outputs": [],
   "source": [
    "# Run the script\n",
    "group_id_data = script.cmd_setGroupId.DataType(\n",
    "                groupId=astropy.time.Time.now().isot\n",
    "            )\n",
    "await script.do_setGroupId(group_id_data)\n",
    "\n",
    "run_data = script.cmd_run.DataType()\n",
    "await script.arun()"
   ]
  },
  {
   "cell_type": "markdown",
   "metadata": {
    "tags": []
   },
   "source": [
    "# Now take an image.\n",
    "## Verify that the star is centered in the field and that the image is saturated.\n",
    "## If it is not saturated, increase the exposure time until it is."
   ]
  },
  {
   "cell_type": "code",
   "execution_count": null,
   "metadata": {},
   "outputs": [],
   "source": [
    "expTime = 30.0\n",
    "await script.latiss.take_object(exptime=expTime, n=1, filter='SDSSr_65mm',grating='empty_1')"
   ]
  },
  {
   "cell_type": "markdown",
   "metadata": {
    "tags": []
   },
   "source": [
    "# Now center the star in the upper left amp and take another image\n",
    "## Verify that the star is approximately centered in the upper left amp."
   ]
  },
  {
   "cell_type": "code",
   "execution_count": null,
   "metadata": {
    "tags": []
   },
   "outputs": [],
   "source": [
    "await script.atcs.offset_xy(x=-175, y=-100) # Move to upper left amp\n",
    "await script.latiss.take_object(exptime=expTime, n=1, filter='SDSSr_65mm',grating='empty_1')"
   ]
  },
  {
   "cell_type": "markdown",
   "metadata": {
    "tags": []
   },
   "source": [
    "# Now run the loop to walk the star through all 16 amps\n",
    "## Verify that each of the 16 images has the star approximately centered in the 16 amps"
   ]
  },
  {
   "cell_type": "code",
   "execution_count": null,
   "metadata": {
    "tags": []
   },
   "outputs": [],
   "source": [
    "for i in range(2):\n",
    "    if i == 0:\n",
    "        direction = 1.0\n",
    "    else:\n",
    "        direction = -1.0\n",
    "        await script.atcs.offset_xy(x=0, y=200) # Shift to bottom amps\n",
    "        await script.latiss.take_object(exptime=expTime, n=1, filter='SDSSr_65mm',grating='empty_1')\n",
    "    for j in range(7):\n",
    "        await script.atcs.offset_xy(x=direction*50.9, y=0) # Shift to next amp\n",
    "        await script.latiss.take_object(exptime=expTime, n=1, filter='SDSSr_65mm',grating='empty_1')"
   ]
  },
  {
   "cell_type": "markdown",
   "metadata": {},
   "source": [
    "## If the 16 images are good, then we are done."
   ]
  },
  {
   "cell_type": "code",
   "execution_count": null,
   "metadata": {},
   "outputs": [],
   "source": [
    "await script.atcs.stop_tracking()"
   ]
  }
 ],
 "metadata": {
  "kernelspec": {
   "display_name": "LSST",
   "language": "python",
   "name": "lsst"
  },
  "language_info": {
   "codemirror_mode": {
    "name": "ipython",
    "version": 3
   },
   "file_extension": ".py",
   "mimetype": "text/x-python",
   "name": "python",
   "nbconvert_exporter": "python",
   "pygments_lexer": "ipython3",
   "version": "3.10.6"
  }
 },
 "nbformat": 4,
 "nbformat_minor": 4
}
