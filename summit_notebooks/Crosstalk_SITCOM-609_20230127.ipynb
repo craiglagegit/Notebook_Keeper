{
 "cells": [
  {
   "cell_type": "markdown",
   "metadata": {},
   "source": [
    "# Take images for crosstalk determination\n",
    "\n",
    "This notebook will find a bright star and take saturated images with the star in each amp\\\n",
    "See SITCOM-609 \\\n",
    "Craig Lage - 27Jan23"
   ]
  },
  {
   "cell_type": "code",
   "execution_count": null,
   "metadata": {
    "execution": {
     "iopub.execute_input": "2023-02-08T21:50:04.280804Z",
     "iopub.status.busy": "2023-02-08T21:50:04.280533Z",
     "iopub.status.idle": "2023-02-08T21:50:04.284189Z",
     "shell.execute_reply": "2023-02-08T21:50:04.283786Z",
     "shell.execute_reply.started": "2023-02-08T21:50:04.280786Z"
    },
    "tags": []
   },
   "outputs": [],
   "source": [
    "import sys\n",
    "import asyncio\n",
    "import time\n",
    "import astropy\n",
    "import numpy as np\n",
    "import logging \n",
    "import yaml\n",
    "import os\n",
    "\n",
    "from lsst.ts import salobj\n",
    "from lsst.ts.idl.enums.Script import ScriptState\n",
    "from lsst.ts.externalscripts.auxtel.latiss_acquire_and_take_sequence import LatissAcquireAndTakeSequence\n",
    "import astropy.units as u\n",
    "from astropy.coordinates import Angle\n",
    "from astroquery.simbad import Simbad"
   ]
  },
  {
   "cell_type": "code",
   "execution_count": null,
   "metadata": {
    "execution": {
     "iopub.execute_input": "2023-02-08T21:50:05.199947Z",
     "iopub.status.busy": "2023-02-08T21:50:05.199670Z",
     "iopub.status.idle": "2023-02-08T21:50:05.203230Z",
     "shell.execute_reply": "2023-02-08T21:50:05.202844Z",
     "shell.execute_reply.started": "2023-02-08T21:50:05.199930Z"
    },
    "tags": []
   },
   "outputs": [],
   "source": [
    "stream_handler = logging.StreamHandler(sys.stdout)\n",
    "# if you want logging\n",
    "logger = logging.getLogger()\n",
    "logger.addHandler(stream_handler)\n",
    "logger.level = logging.DEBUG\n",
    "\n",
    "# turn off logging for matplotlib\n",
    "mpl_logger = logging.getLogger('matplotlib')\n",
    "mpl_logger.setLevel(logging.WARNING)"
   ]
  },
  {
   "cell_type": "code",
   "execution_count": null,
   "metadata": {
    "execution": {
     "iopub.execute_input": "2023-02-08T21:50:06.232140Z",
     "iopub.status.busy": "2023-02-08T21:50:06.231759Z",
     "iopub.status.idle": "2023-02-08T21:50:06.235769Z",
     "shell.execute_reply": "2023-02-08T21:50:06.235237Z",
     "shell.execute_reply.started": "2023-02-08T21:50:06.232120Z"
    },
    "tags": []
   },
   "outputs": [],
   "source": [
    "print(f'Your UID is {os.getuid()}')\n",
    "index=os.getuid()*10+np.random.randint(0,9)\n",
    "print(f'The generated index is {index}')"
   ]
  },
  {
   "cell_type": "code",
   "execution_count": null,
   "metadata": {
    "execution": {
     "iopub.execute_input": "2023-02-08T21:50:24.654844Z",
     "iopub.status.busy": "2023-02-08T21:50:24.654570Z",
     "iopub.status.idle": "2023-02-08T21:50:25.678606Z",
     "shell.execute_reply": "2023-02-08T21:50:25.677998Z",
     "shell.execute_reply.started": "2023-02-08T21:50:24.654828Z"
    },
    "jupyter": {
     "outputs_hidden": true
    },
    "tags": []
   },
   "outputs": [],
   "source": [
    "# We will use this script to acquire and center the star\n",
    "script = LatissAcquireAndTakeSequence(index=index)  # this essentially calls the init method"
   ]
  },
  {
   "cell_type": "code",
   "execution_count": null,
   "metadata": {
    "execution": {
     "iopub.execute_input": "2023-02-01T08:23:24.290488Z",
     "iopub.status.busy": "2023-02-01T08:23:24.290106Z",
     "iopub.status.idle": "2023-02-01T08:23:24.293292Z",
     "shell.execute_reply": "2023-02-01T08:23:24.292783Z",
     "shell.execute_reply.started": "2023-02-01T08:23:24.290467Z"
    },
    "tags": []
   },
   "outputs": [],
   "source": [
    "# make sure all remotes etc are running\n",
    "await script.start_task"
   ]
  },
  {
   "cell_type": "code",
   "execution_count": null,
   "metadata": {},
   "outputs": [],
   "source": [
    "# ATAOS must be on and corrections enabled, do as follows if required\n",
    "# await script.atcs.rem.ataos.cmd_enableCorrection.set_start(m1=True, hexapod=True, atspectrograph=True)"
   ]
  },
  {
   "cell_type": "markdown",
   "metadata": {},
   "source": [
    "# Find a bright target"
   ]
  },
  {
   "cell_type": "code",
   "execution_count": null,
   "metadata": {
    "execution": {
     "iopub.execute_input": "2023-02-08T22:08:32.929961Z",
     "iopub.status.busy": "2023-02-08T22:08:32.929576Z",
     "iopub.status.idle": "2023-02-08T22:08:32.933978Z",
     "shell.execute_reply": "2023-02-08T22:08:32.933490Z",
     "shell.execute_reply.started": "2023-02-08T22:08:32.929941Z"
    },
    "tags": []
   },
   "outputs": [],
   "source": [
    "def countStarsNearby(target, mag_range=13.0, mag_limit=0.0):\n",
    "    obj_results = Simbad.query_object(target)\n",
    "    ra = str(Angle(test['RA'].value[0]+'hours').deg)\n",
    "    dec = str(Angle(test['DEC'].value[0]+'degrees').deg)\n",
    "    radius = 8.0 / 60.0 # 8 arcminutes\n",
    "    print(ra, dec)\n",
    "    criteria = (f\"region(circle,ICRS,{ra} {dec},{radius}d) & \"\n",
    "            f\"Vmag > {mag_limit} & Vmag < {mag_limit+mag_range}\")\n",
    "    results = Simbad.query_criteria(criteria)\n",
    "    if results == None:\n",
    "        num = 0\n",
    "    else:\n",
    "        num = len(results)\n",
    "    print(f\" There are {num} within 8 arcminutes\")\n",
    "    return\n",
    "\n",
    "    "
   ]
  },
  {
   "cell_type": "code",
   "execution_count": null,
   "metadata": {
    "execution": {
     "iopub.execute_input": "2023-02-08T22:08:37.750355Z",
     "iopub.status.busy": "2023-02-08T22:08:37.749974Z",
     "iopub.status.idle": "2023-02-08T22:08:38.428597Z",
     "shell.execute_reply": "2023-02-08T22:08:38.427911Z",
     "shell.execute_reply.started": "2023-02-08T22:08:37.750337Z"
    },
    "tags": []
   },
   "outputs": [],
   "source": [
    "\n",
    "target_name = await script.atcs.find_target(az=90.0,el=60,mag_limit=7.0)\n",
    "print(target_name)\n",
    "countStarsNearby(target_name, mag_range = 0.0, mag_limit=13.0)"
   ]
  },
  {
   "cell_type": "markdown",
   "metadata": {},
   "source": [
    "# Make sure there are no bright stars nearby"
   ]
  },
  {
   "cell_type": "code",
   "execution_count": null,
   "metadata": {
    "execution": {
     "iopub.execute_input": "2023-02-08T21:59:09.978865Z",
     "iopub.status.busy": "2023-02-08T21:59:09.978466Z",
     "iopub.status.idle": "2023-02-08T21:59:09.988967Z",
     "shell.execute_reply": "2023-02-08T21:59:09.988421Z",
     "shell.execute_reply.started": "2023-02-08T21:59:09.978842Z"
    },
    "tags": []
   },
   "outputs": [],
   "source": [
    "# This is what we used last time.\n",
    "test = Simbad.query_object(\"HD 88014\")"
   ]
  },
  {
   "cell_type": "code",
   "execution_count": null,
   "metadata": {
    "execution": {
     "iopub.execute_input": "2023-02-08T22:08:53.383777Z",
     "iopub.status.busy": "2023-02-08T22:08:53.383429Z",
     "iopub.status.idle": "2023-02-08T22:08:53.390854Z",
     "shell.execute_reply": "2023-02-08T22:08:53.390359Z",
     "shell.execute_reply.started": "2023-02-08T22:08:53.383759Z"
    },
    "tags": []
   },
   "outputs": [],
   "source": [
    "test = Simbad.query_object(target_name)"
   ]
  },
  {
   "cell_type": "code",
   "execution_count": null,
   "metadata": {
    "execution": {
     "iopub.execute_input": "2023-02-08T21:45:39.765992Z",
     "iopub.status.busy": "2023-02-08T21:45:39.765719Z",
     "iopub.status.idle": "2023-02-08T21:45:39.769110Z",
     "shell.execute_reply": "2023-02-08T21:45:39.768691Z",
     "shell.execute_reply.started": "2023-02-08T21:45:39.765974Z"
    },
    "tags": []
   },
   "outputs": [],
   "source": [
    "test.columns"
   ]
  },
  {
   "cell_type": "code",
   "execution_count": null,
   "metadata": {
    "execution": {
     "iopub.execute_input": "2023-02-08T20:57:17.799150Z",
     "iopub.status.busy": "2023-02-08T20:57:17.798878Z",
     "iopub.status.idle": "2023-02-08T20:57:17.801538Z",
     "shell.execute_reply": "2023-02-08T20:57:17.801151Z",
     "shell.execute_reply.started": "2023-02-08T20:57:17.799132Z"
    },
    "tags": []
   },
   "outputs": [],
   "source": [
    "test2 = test['DEC']"
   ]
  },
  {
   "cell_type": "code",
   "execution_count": null,
   "metadata": {
    "execution": {
     "iopub.execute_input": "2023-02-08T20:57:21.334645Z",
     "iopub.status.busy": "2023-02-08T20:57:21.334357Z",
     "iopub.status.idle": "2023-02-08T20:57:21.338457Z",
     "shell.execute_reply": "2023-02-08T20:57:21.337961Z",
     "shell.execute_reply.started": "2023-02-08T20:57:21.334626Z"
    },
    "tags": []
   },
   "outputs": [],
   "source": [
    "test2.value[0]"
   ]
  },
  {
   "cell_type": "code",
   "execution_count": null,
   "metadata": {
    "execution": {
     "iopub.execute_input": "2023-02-08T22:09:11.524542Z",
     "iopub.status.busy": "2023-02-08T22:09:11.524169Z",
     "iopub.status.idle": "2023-02-08T22:09:11.527825Z",
     "shell.execute_reply": "2023-02-08T22:09:11.527330Z",
     "shell.execute_reply.started": "2023-02-08T22:09:11.524523Z"
    },
    "tags": []
   },
   "outputs": [],
   "source": [
    "RA = Angle(test['RA'].value[0]+'hours')"
   ]
  },
  {
   "cell_type": "code",
   "execution_count": null,
   "metadata": {
    "execution": {
     "iopub.execute_input": "2023-02-08T22:09:12.945533Z",
     "iopub.status.busy": "2023-02-08T22:09:12.945177Z",
     "iopub.status.idle": "2023-02-08T22:09:12.949203Z",
     "shell.execute_reply": "2023-02-08T22:09:12.948714Z",
     "shell.execute_reply.started": "2023-02-08T22:09:12.945514Z"
    },
    "tags": []
   },
   "outputs": [],
   "source": [
    "RA.deg"
   ]
  },
  {
   "cell_type": "code",
   "execution_count": null,
   "metadata": {
    "execution": {
     "iopub.execute_input": "2023-02-08T22:09:15.130277Z",
     "iopub.status.busy": "2023-02-08T22:09:15.129903Z",
     "iopub.status.idle": "2023-02-08T22:09:15.133538Z",
     "shell.execute_reply": "2023-02-08T22:09:15.133034Z",
     "shell.execute_reply.started": "2023-02-08T22:09:15.130258Z"
    },
    "tags": []
   },
   "outputs": [],
   "source": [
    "Dec = Angle(test['DEC'].value[0]+'degrees')"
   ]
  },
  {
   "cell_type": "code",
   "execution_count": null,
   "metadata": {
    "execution": {
     "iopub.execute_input": "2023-02-08T22:09:15.962977Z",
     "iopub.status.busy": "2023-02-08T22:09:15.962594Z",
     "iopub.status.idle": "2023-02-08T22:09:15.966557Z",
     "shell.execute_reply": "2023-02-08T22:09:15.966078Z",
     "shell.execute_reply.started": "2023-02-08T22:09:15.962956Z"
    },
    "tags": []
   },
   "outputs": [],
   "source": [
    "Dec.deg"
   ]
  },
  {
   "cell_type": "code",
   "execution_count": null,
   "metadata": {
    "execution": {
     "iopub.execute_input": "2023-02-08T22:09:17.770944Z",
     "iopub.status.busy": "2023-02-08T22:09:17.770559Z",
     "iopub.status.idle": "2023-02-08T22:09:17.774343Z",
     "shell.execute_reply": "2023-02-08T22:09:17.773819Z",
     "shell.execute_reply.started": "2023-02-08T22:09:17.770925Z"
    },
    "tags": []
   },
   "outputs": [],
   "source": [
    "dec = str(Dec.deg)\n",
    "ra = str(RA.deg)\n",
    "print(ra, dec)"
   ]
  },
  {
   "cell_type": "code",
   "execution_count": null,
   "metadata": {
    "execution": {
     "iopub.execute_input": "2023-02-08T22:09:19.750145Z",
     "iopub.status.busy": "2023-02-08T22:09:19.749767Z",
     "iopub.status.idle": "2023-02-08T22:09:19.752962Z",
     "shell.execute_reply": "2023-02-08T22:09:19.752474Z",
     "shell.execute_reply.started": "2023-02-08T22:09:19.750126Z"
    },
    "tags": []
   },
   "outputs": [],
   "source": [
    "radius = 8.0 / 60.0\n",
    "mag_range = mag_limit + 6.0\n",
    "\n"
   ]
  },
  {
   "cell_type": "code",
   "execution_count": null,
   "metadata": {
    "execution": {
     "iopub.execute_input": "2023-02-08T22:09:21.306363Z",
     "iopub.status.busy": "2023-02-08T22:09:21.306106Z",
     "iopub.status.idle": "2023-02-08T22:09:22.162497Z",
     "shell.execute_reply": "2023-02-08T22:09:22.161933Z",
     "shell.execute_reply.started": "2023-02-08T22:09:21.306344Z"
    },
    "tags": []
   },
   "outputs": [],
   "source": [
    "# Shoot for no stars > 10.0 within 8 arcminutes\n",
    "criteria = (f\"region(circle,ICRS,{ra} {dec},{radius}d) & \"\n",
    "            f\"Vmag > {mag_limit} & Vmag < {mag_limit+mag_range}\")\n",
    "results = Simbad.query_criteria(criteria)\n",
    "print(len(results))\n"
   ]
  },
  {
   "cell_type": "markdown",
   "metadata": {},
   "source": [
    "# Now acquire the object and the script will center it in the field"
   ]
  },
  {
   "cell_type": "code",
   "execution_count": null,
   "metadata": {
    "execution": {
     "iopub.execute_input": "2023-02-01T08:23:28.454527Z",
     "iopub.status.busy": "2023-02-01T08:23:28.454176Z",
     "iopub.status.idle": "2023-02-01T08:23:28.458127Z",
     "shell.execute_reply": "2023-02-01T08:23:28.457635Z",
     "shell.execute_reply.started": "2023-02-01T08:23:28.454509Z"
    },
    "tags": []
   },
   "outputs": [],
   "source": [
    "# Needed to run the script a 2nd time \n",
    "script.set_state(ScriptState.UNCONFIGURED)"
   ]
  },
  {
   "cell_type": "code",
   "execution_count": null,
   "metadata": {
    "execution": {
     "iopub.execute_input": "2023-02-01T08:23:30.411050Z",
     "iopub.status.busy": "2023-02-01T08:23:30.410679Z",
     "iopub.status.idle": "2023-02-01T08:23:30.415537Z",
     "shell.execute_reply": "2023-02-01T08:23:30.415028Z",
     "shell.execute_reply.started": "2023-02-01T08:23:30.411031Z"
    },
    "tags": []
   },
   "outputs": [],
   "source": [
    "configuration = yaml.safe_dump({\"object_name\": target_name,\n",
    "                                \"do_acquire\": True,\n",
    "                                \"acq_filter\" : 'SDSSr_65mm',\n",
    "                                \"acq_grating\" : 'empty_1',\n",
    "                                \"do_take_sequence\": False})\n",
    "print(configuration)"
   ]
  },
  {
   "cell_type": "code",
   "execution_count": null,
   "metadata": {
    "execution": {
     "iopub.execute_input": "2023-02-01T08:23:33.077781Z",
     "iopub.status.busy": "2023-02-01T08:23:33.077410Z",
     "iopub.status.idle": "2023-02-01T08:23:33.876270Z",
     "shell.execute_reply": "2023-02-01T08:23:33.875477Z",
     "shell.execute_reply.started": "2023-02-01T08:23:33.077762Z"
    },
    "jupyter": {
     "outputs_hidden": true
    },
    "tags": []
   },
   "outputs": [],
   "source": [
    "config_data = script.cmd_configure.DataType()\n",
    "config_data.config = configuration\n",
    "await script.do_configure(config_data)"
   ]
  },
  {
   "cell_type": "code",
   "execution_count": null,
   "metadata": {
    "execution": {
     "iopub.execute_input": "2023-02-01T08:23:38.137008Z",
     "iopub.status.busy": "2023-02-01T08:23:38.136623Z",
     "iopub.status.idle": "2023-02-01T08:24:36.258470Z",
     "shell.execute_reply": "2023-02-01T08:24:36.257604Z",
     "shell.execute_reply.started": "2023-02-01T08:23:38.136989Z"
    },
    "jupyter": {
     "outputs_hidden": true
    },
    "tags": []
   },
   "outputs": [],
   "source": [
    "# Run the script\n",
    "group_id_data = script.cmd_setGroupId.DataType(\n",
    "                groupId=astropy.time.Time.now().isot\n",
    "            )\n",
    "await script.do_setGroupId(group_id_data)\n",
    "\n",
    "run_data = script.cmd_run.DataType()\n",
    "await script.arun()"
   ]
  },
  {
   "cell_type": "code",
   "execution_count": null,
   "metadata": {
    "execution": {
     "iopub.execute_input": "2023-02-01T04:41:01.960324Z",
     "iopub.status.busy": "2023-02-01T04:41:01.959979Z",
     "iopub.status.idle": "2023-02-01T04:41:26.171935Z",
     "shell.execute_reply": "2023-02-01T04:41:26.171385Z",
     "shell.execute_reply.started": "2023-02-01T04:41:01.960305Z"
    },
    "jupyter": {
     "outputs_hidden": true
    },
    "tags": []
   },
   "outputs": [],
   "source": [
    "# Not very well centered.  Centering\n",
    "await script.atcs.offset_xy(x=-30, y=-20) # Move to upper left amp\n",
    "await script.latiss.take_object(exptime=5.0, n=1, filter='SDSSr_65mm',grating='empty_1')"
   ]
  },
  {
   "cell_type": "markdown",
   "metadata": {
    "tags": []
   },
   "source": [
    "# Now take an image.\n",
    "## Verify that the star is centered in the field and that the image is saturated.\n",
    "## If it is not saturated, increase the exposure time until it is."
   ]
  },
  {
   "cell_type": "code",
   "execution_count": null,
   "metadata": {
    "execution": {
     "iopub.execute_input": "2023-02-01T04:42:11.501193Z",
     "iopub.status.busy": "2023-02-01T04:42:11.500507Z",
     "iopub.status.idle": "2023-02-01T04:42:54.438620Z",
     "shell.execute_reply": "2023-02-01T04:42:54.438063Z",
     "shell.execute_reply.started": "2023-02-01T04:42:11.501173Z"
    },
    "jupyter": {
     "outputs_hidden": true
    },
    "tags": []
   },
   "outputs": [],
   "source": [
    "expTime = 30.0\n",
    "await script.latiss.take_object(exptime=expTime, n=1, filter='SDSSr_65mm',grating='empty_1')"
   ]
  },
  {
   "cell_type": "code",
   "execution_count": null,
   "metadata": {
    "execution": {
     "iopub.execute_input": "2023-02-01T04:44:26.944125Z",
     "iopub.status.busy": "2023-02-01T04:44:26.943765Z",
     "iopub.status.idle": "2023-02-01T04:45:24.852822Z",
     "shell.execute_reply": "2023-02-01T04:45:24.852296Z",
     "shell.execute_reply.started": "2023-02-01T04:44:26.944107Z"
    },
    "jupyter": {
     "outputs_hidden": true
    },
    "tags": []
   },
   "outputs": [],
   "source": [
    "# Not well saturated\n",
    "expTime = 45.0\n",
    "await script.latiss.take_object(exptime=expTime, n=1, filter='SDSSr_65mm',grating='empty_1')"
   ]
  },
  {
   "cell_type": "markdown",
   "metadata": {
    "tags": []
   },
   "source": [
    "# Now center the star in the upper right amp and take another image\n",
    "## Verify that the star is approximately centered in the upper right amp."
   ]
  },
  {
   "cell_type": "code",
   "execution_count": null,
   "metadata": {
    "execution": {
     "iopub.execute_input": "2023-02-01T04:46:11.243869Z",
     "iopub.status.busy": "2023-02-01T04:46:11.243498Z",
     "iopub.status.idle": "2023-02-01T04:47:15.467117Z",
     "shell.execute_reply": "2023-02-01T04:47:15.466576Z",
     "shell.execute_reply.started": "2023-02-01T04:46:11.243850Z"
    },
    "jupyter": {
     "outputs_hidden": true
    },
    "tags": []
   },
   "outputs": [],
   "source": [
    "await script.atcs.offset_xy(x=-175, y=-100) # Move to upper left amp\n",
    "await script.latiss.take_object(exptime=expTime, n=1, filter='SDSSr_65mm',grating='empty_1')"
   ]
  },
  {
   "cell_type": "markdown",
   "metadata": {
    "tags": []
   },
   "source": [
    "# Now run the loop to walk the star through all 16 amps\n",
    "## Verify that each of the 16 images has the star approximately centered in the 16 amps"
   ]
  },
  {
   "cell_type": "code",
   "execution_count": null,
   "metadata": {
    "execution": {
     "iopub.execute_input": "2023-02-01T04:47:59.296436Z",
     "iopub.status.busy": "2023-02-01T04:47:59.296053Z",
     "iopub.status.idle": "2023-02-01T05:04:01.938448Z",
     "shell.execute_reply": "2023-02-01T05:04:01.937838Z",
     "shell.execute_reply.started": "2023-02-01T04:47:59.296418Z"
    },
    "jupyter": {
     "outputs_hidden": true
    },
    "tags": []
   },
   "outputs": [],
   "source": [
    "for i in range(2):\n",
    "    if i == 0:\n",
    "        direction = 1.0\n",
    "    else:\n",
    "        direction = -1.0\n",
    "        await script.atcs.offset_xy(x=0, y=200) # Shift to bottom amps\n",
    "        await script.latiss.take_object(exptime=expTime, n=1, filter='SDSSr_65mm',grating='empty_1')\n",
    "    for j in range(7):\n",
    "        await script.atcs.offset_xy(x=direction*50.9, y=0) # Shift to next amp\n",
    "        await script.latiss.take_object(exptime=expTime, n=1, filter='SDSSr_65mm',grating='empty_1')"
   ]
  },
  {
   "cell_type": "markdown",
   "metadata": {},
   "source": [
    "## If the 16 images are good, then we are done."
   ]
  },
  {
   "cell_type": "code",
   "execution_count": null,
   "metadata": {
    "execution": {
     "iopub.execute_input": "2023-02-01T05:04:13.651373Z",
     "iopub.status.busy": "2023-02-01T05:04:13.650694Z",
     "iopub.status.idle": "2023-02-01T05:04:13.883352Z",
     "shell.execute_reply": "2023-02-01T05:04:13.882804Z",
     "shell.execute_reply.started": "2023-02-01T05:04:13.651348Z"
    }
   },
   "outputs": [],
   "source": [
    "await script.atcs.stop_tracking()"
   ]
  },
  {
   "cell_type": "code",
   "execution_count": null,
   "metadata": {},
   "outputs": [],
   "source": []
  }
 ],
 "metadata": {
  "kernelspec": {
   "display_name": "LSST",
   "language": "python",
   "name": "lsst"
  },
  "language_info": {
   "codemirror_mode": {
    "name": "ipython",
    "version": 3
   },
   "file_extension": ".py",
   "mimetype": "text/x-python",
   "name": "python",
   "nbconvert_exporter": "python",
   "pygments_lexer": "ipython3",
   "version": "3.10.8"
  }
 },
 "nbformat": 4,
 "nbformat_minor": 4
}
