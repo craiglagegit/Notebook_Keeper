{
 "cells": [
  {
   "cell_type": "markdown",
   "metadata": {},
   "source": [
    "# Take images for crosstalk determination\n",
    "\n",
    "This notebook will find a bright star and take saturated images with the star in each amp\\\n",
    "See SITCOM-609 \\\n",
    "Craig Lage - 27Jan23"
   ]
  },
  {
   "cell_type": "code",
   "execution_count": null,
   "metadata": {
    "execution": {
     "iopub.execute_input": "2023-02-01T08:11:46.982002Z",
     "iopub.status.busy": "2023-02-01T08:11:46.981715Z",
     "iopub.status.idle": "2023-02-01T08:11:50.620484Z",
     "shell.execute_reply": "2023-02-01T08:11:50.619892Z",
     "shell.execute_reply.started": "2023-02-01T08:11:46.981984Z"
    },
    "tags": []
   },
   "outputs": [],
   "source": [
    "import sys\n",
    "import asyncio\n",
    "import time\n",
    "import astropy\n",
    "import numpy as np\n",
    "import logging \n",
    "import yaml\n",
    "import os\n",
    "\n",
    "from lsst.ts import salobj\n",
    "from lsst.ts.idl.enums.Script import ScriptState\n",
    "from lsst.ts.externalscripts.auxtel.latiss_acquire_and_take_sequence import LatissAcquireAndTakeSequence"
   ]
  },
  {
   "cell_type": "code",
   "execution_count": null,
   "metadata": {
    "execution": {
     "iopub.execute_input": "2023-02-01T08:11:50.634027Z",
     "iopub.status.busy": "2023-02-01T08:11:50.633827Z",
     "iopub.status.idle": "2023-02-01T08:11:50.637057Z",
     "shell.execute_reply": "2023-02-01T08:11:50.636597Z",
     "shell.execute_reply.started": "2023-02-01T08:11:50.634012Z"
    },
    "tags": []
   },
   "outputs": [],
   "source": [
    "stream_handler = logging.StreamHandler(sys.stdout)\n",
    "# if you want logging\n",
    "logger = logging.getLogger()\n",
    "logger.addHandler(stream_handler)\n",
    "logger.level = logging.DEBUG\n",
    "\n",
    "# turn off logging for matplotlib\n",
    "mpl_logger = logging.getLogger('matplotlib')\n",
    "mpl_logger.setLevel(logging.WARNING)"
   ]
  },
  {
   "cell_type": "code",
   "execution_count": null,
   "metadata": {
    "execution": {
     "iopub.execute_input": "2023-02-01T08:11:50.638173Z",
     "iopub.status.busy": "2023-02-01T08:11:50.637992Z",
     "iopub.status.idle": "2023-02-01T08:11:50.644864Z",
     "shell.execute_reply": "2023-02-01T08:11:50.644393Z",
     "shell.execute_reply.started": "2023-02-01T08:11:50.638158Z"
    },
    "tags": []
   },
   "outputs": [],
   "source": [
    "print(f'Your UID is {os.getuid()}')\n",
    "index=os.getuid()*10+np.random.randint(0,9)\n",
    "print(f'The generated index is {index}')"
   ]
  },
  {
   "cell_type": "code",
   "execution_count": null,
   "metadata": {
    "execution": {
     "iopub.execute_input": "2023-02-01T08:23:19.944199Z",
     "iopub.status.busy": "2023-02-01T08:23:19.943820Z",
     "iopub.status.idle": "2023-02-01T08:23:21.097742Z",
     "shell.execute_reply": "2023-02-01T08:23:21.097299Z",
     "shell.execute_reply.started": "2023-02-01T08:23:19.944181Z"
    },
    "jupyter": {
     "outputs_hidden": true
    },
    "tags": []
   },
   "outputs": [],
   "source": [
    "# We will use this script to acquire and center the star\n",
    "script = LatissAcquireAndTakeSequence(index=index)  # this essentially calls the init method"
   ]
  },
  {
   "cell_type": "code",
   "execution_count": null,
   "metadata": {
    "execution": {
     "iopub.execute_input": "2023-02-01T08:23:24.290488Z",
     "iopub.status.busy": "2023-02-01T08:23:24.290106Z",
     "iopub.status.idle": "2023-02-01T08:23:24.293292Z",
     "shell.execute_reply": "2023-02-01T08:23:24.292783Z",
     "shell.execute_reply.started": "2023-02-01T08:23:24.290467Z"
    },
    "tags": []
   },
   "outputs": [],
   "source": [
    "# make sure all remotes etc are running\n",
    "await script.start_task"
   ]
  },
  {
   "cell_type": "code",
   "execution_count": null,
   "metadata": {},
   "outputs": [],
   "source": [
    "# ATAOS must be on and corrections enabled, do as follows if required\n",
    "# await script.atcs.rem.ataos.cmd_enableCorrection.set_start(m1=True, hexapod=True, atspectrograph=True)"
   ]
  },
  {
   "cell_type": "markdown",
   "metadata": {},
   "source": [
    "# Find a bright target"
   ]
  },
  {
   "cell_type": "code",
   "execution_count": null,
   "metadata": {
    "execution": {
     "iopub.execute_input": "2023-02-01T08:23:01.749113Z",
     "iopub.status.busy": "2023-02-01T08:23:01.748749Z",
     "iopub.status.idle": "2023-02-01T08:23:03.175318Z",
     "shell.execute_reply": "2023-02-01T08:23:03.174722Z",
     "shell.execute_reply.started": "2023-02-01T08:23:01.749094Z"
    },
    "tags": []
   },
   "outputs": [],
   "source": [
    "target_name = await script.atcs.find_target(az=90.0,el=70,mag_limit=7.0)\n",
    "print(target_name)"
   ]
  },
  {
   "cell_type": "markdown",
   "metadata": {},
   "source": [
    "# Now acquire the object and the script will center it in the field"
   ]
  },
  {
   "cell_type": "code",
   "execution_count": null,
   "metadata": {
    "execution": {
     "iopub.execute_input": "2023-02-01T08:23:28.454527Z",
     "iopub.status.busy": "2023-02-01T08:23:28.454176Z",
     "iopub.status.idle": "2023-02-01T08:23:28.458127Z",
     "shell.execute_reply": "2023-02-01T08:23:28.457635Z",
     "shell.execute_reply.started": "2023-02-01T08:23:28.454509Z"
    },
    "tags": []
   },
   "outputs": [],
   "source": [
    "# Needed to run the script a 2nd time \n",
    "script.set_state(ScriptState.UNCONFIGURED)"
   ]
  },
  {
   "cell_type": "code",
   "execution_count": null,
   "metadata": {
    "execution": {
     "iopub.execute_input": "2023-02-01T08:23:30.411050Z",
     "iopub.status.busy": "2023-02-01T08:23:30.410679Z",
     "iopub.status.idle": "2023-02-01T08:23:30.415537Z",
     "shell.execute_reply": "2023-02-01T08:23:30.415028Z",
     "shell.execute_reply.started": "2023-02-01T08:23:30.411031Z"
    },
    "tags": []
   },
   "outputs": [],
   "source": [
    "configuration = yaml.safe_dump({\"object_name\": target_name,\n",
    "                                \"do_acquire\": True,\n",
    "                                \"acq_filter\" : 'SDSSr_65mm',\n",
    "                                \"acq_grating\" : 'empty_1',\n",
    "                                \"do_take_sequence\": False})\n",
    "print(configuration)"
   ]
  },
  {
   "cell_type": "code",
   "execution_count": null,
   "metadata": {
    "execution": {
     "iopub.execute_input": "2023-02-01T08:23:33.077781Z",
     "iopub.status.busy": "2023-02-01T08:23:33.077410Z",
     "iopub.status.idle": "2023-02-01T08:23:33.876270Z",
     "shell.execute_reply": "2023-02-01T08:23:33.875477Z",
     "shell.execute_reply.started": "2023-02-01T08:23:33.077762Z"
    },
    "jupyter": {
     "outputs_hidden": true
    },
    "tags": []
   },
   "outputs": [],
   "source": [
    "config_data = script.cmd_configure.DataType()\n",
    "config_data.config = configuration\n",
    "await script.do_configure(config_data)"
   ]
  },
  {
   "cell_type": "code",
   "execution_count": null,
   "metadata": {
    "execution": {
     "iopub.execute_input": "2023-02-01T08:23:38.137008Z",
     "iopub.status.busy": "2023-02-01T08:23:38.136623Z",
     "iopub.status.idle": "2023-02-01T08:24:36.258470Z",
     "shell.execute_reply": "2023-02-01T08:24:36.257604Z",
     "shell.execute_reply.started": "2023-02-01T08:23:38.136989Z"
    },
    "jupyter": {
     "outputs_hidden": true
    },
    "tags": []
   },
   "outputs": [],
   "source": [
    "# Run the script\n",
    "group_id_data = script.cmd_setGroupId.DataType(\n",
    "                groupId=astropy.time.Time.now().isot\n",
    "            )\n",
    "await script.do_setGroupId(group_id_data)\n",
    "\n",
    "run_data = script.cmd_run.DataType()\n",
    "await script.arun()"
   ]
  },
  {
   "cell_type": "code",
   "execution_count": null,
   "metadata": {
    "execution": {
     "iopub.execute_input": "2023-02-01T04:41:01.960324Z",
     "iopub.status.busy": "2023-02-01T04:41:01.959979Z",
     "iopub.status.idle": "2023-02-01T04:41:26.171935Z",
     "shell.execute_reply": "2023-02-01T04:41:26.171385Z",
     "shell.execute_reply.started": "2023-02-01T04:41:01.960305Z"
    },
    "jupyter": {
     "outputs_hidden": true
    },
    "tags": []
   },
   "outputs": [],
   "source": [
    "# Not very well centered.  Centering\n",
    "await script.atcs.offset_xy(x=-30, y=-20) # Move to upper left amp\n",
    "await script.latiss.take_object(exptime=5.0, n=1, filter='SDSSr_65mm',grating='empty_1')"
   ]
  },
  {
   "cell_type": "markdown",
   "metadata": {
    "tags": []
   },
   "source": [
    "# Now take an image.\n",
    "## Verify that the star is centered in the field and that the image is saturated.\n",
    "## If it is not saturated, increase the exposure time until it is."
   ]
  },
  {
   "cell_type": "code",
   "execution_count": null,
   "metadata": {
    "execution": {
     "iopub.execute_input": "2023-02-01T04:42:11.501193Z",
     "iopub.status.busy": "2023-02-01T04:42:11.500507Z",
     "iopub.status.idle": "2023-02-01T04:42:54.438620Z",
     "shell.execute_reply": "2023-02-01T04:42:54.438063Z",
     "shell.execute_reply.started": "2023-02-01T04:42:11.501173Z"
    },
    "jupyter": {
     "outputs_hidden": true
    },
    "tags": []
   },
   "outputs": [],
   "source": [
    "expTime = 30.0\n",
    "await script.latiss.take_object(exptime=expTime, n=1, filter='SDSSr_65mm',grating='empty_1')"
   ]
  },
  {
   "cell_type": "code",
   "execution_count": null,
   "metadata": {
    "execution": {
     "iopub.execute_input": "2023-02-01T04:44:26.944125Z",
     "iopub.status.busy": "2023-02-01T04:44:26.943765Z",
     "iopub.status.idle": "2023-02-01T04:45:24.852822Z",
     "shell.execute_reply": "2023-02-01T04:45:24.852296Z",
     "shell.execute_reply.started": "2023-02-01T04:44:26.944107Z"
    },
    "jupyter": {
     "outputs_hidden": true
    },
    "tags": []
   },
   "outputs": [],
   "source": [
    "# Not well saturated\n",
    "expTime = 45.0\n",
    "await script.latiss.take_object(exptime=expTime, n=1, filter='SDSSr_65mm',grating='empty_1')"
   ]
  },
  {
   "cell_type": "markdown",
   "metadata": {
    "tags": []
   },
   "source": [
    "# Now center the star in the upper right amp and take another image\n",
    "## Verify that the star is approximately centered in the upper right amp."
   ]
  },
  {
   "cell_type": "code",
   "execution_count": null,
   "metadata": {
    "execution": {
     "iopub.execute_input": "2023-02-01T04:46:11.243869Z",
     "iopub.status.busy": "2023-02-01T04:46:11.243498Z",
     "iopub.status.idle": "2023-02-01T04:47:15.467117Z",
     "shell.execute_reply": "2023-02-01T04:47:15.466576Z",
     "shell.execute_reply.started": "2023-02-01T04:46:11.243850Z"
    },
    "jupyter": {
     "outputs_hidden": true
    },
    "tags": []
   },
   "outputs": [],
   "source": [
    "await script.atcs.offset_xy(x=-175, y=-100) # Move to upper left amp\n",
    "await script.latiss.take_object(exptime=expTime, n=1, filter='SDSSr_65mm',grating='empty_1')"
   ]
  },
  {
   "cell_type": "markdown",
   "metadata": {
    "tags": []
   },
   "source": [
    "# Now run the loop to walk the star through all 16 amps\n",
    "## Verify that each of the 16 images has the star approximately centered in the 16 amps"
   ]
  },
  {
   "cell_type": "code",
   "execution_count": null,
   "metadata": {
    "execution": {
     "iopub.execute_input": "2023-02-01T04:47:59.296436Z",
     "iopub.status.busy": "2023-02-01T04:47:59.296053Z",
     "iopub.status.idle": "2023-02-01T05:04:01.938448Z",
     "shell.execute_reply": "2023-02-01T05:04:01.937838Z",
     "shell.execute_reply.started": "2023-02-01T04:47:59.296418Z"
    },
    "jupyter": {
     "outputs_hidden": true
    },
    "tags": []
   },
   "outputs": [],
   "source": [
    "for i in range(2):\n",
    "    if i == 0:\n",
    "        direction = 1.0\n",
    "    else:\n",
    "        direction = -1.0\n",
    "        await script.atcs.offset_xy(x=0, y=200) # Shift to bottom amps\n",
    "        await script.latiss.take_object(exptime=expTime, n=1, filter='SDSSr_65mm',grating='empty_1')\n",
    "    for j in range(7):\n",
    "        await script.atcs.offset_xy(x=direction*50.9, y=0) # Shift to next amp\n",
    "        await script.latiss.take_object(exptime=expTime, n=1, filter='SDSSr_65mm',grating='empty_1')"
   ]
  },
  {
   "cell_type": "markdown",
   "metadata": {},
   "source": [
    "## If the 16 images are good, then we are done."
   ]
  },
  {
   "cell_type": "code",
   "execution_count": null,
   "metadata": {
    "execution": {
     "iopub.execute_input": "2023-02-01T05:04:13.651373Z",
     "iopub.status.busy": "2023-02-01T05:04:13.650694Z",
     "iopub.status.idle": "2023-02-01T05:04:13.883352Z",
     "shell.execute_reply": "2023-02-01T05:04:13.882804Z",
     "shell.execute_reply.started": "2023-02-01T05:04:13.651348Z"
    }
   },
   "outputs": [],
   "source": [
    "await script.atcs.stop_tracking()"
   ]
  },
  {
   "cell_type": "code",
   "execution_count": null,
   "metadata": {},
   "outputs": [],
   "source": []
  }
 ],
 "metadata": {
  "kernelspec": {
   "display_name": "LSST",
   "language": "python",
   "name": "lsst"
  },
  "language_info": {
   "codemirror_mode": {
    "name": "ipython",
    "version": 3
   },
   "file_extension": ".py",
   "mimetype": "text/x-python",
   "name": "python",
   "nbconvert_exporter": "python",
   "pygments_lexer": "ipython3",
   "version": "3.10.6"
  }
 },
 "nbformat": 4,
 "nbformat_minor": 4
}
