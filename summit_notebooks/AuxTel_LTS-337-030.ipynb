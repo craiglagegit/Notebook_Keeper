{
 "cells": [
  {
   "cell_type": "markdown",
   "metadata": {
    "tags": []
   },
   "source": [
    "AuxTel test LTS-337-030 (Auxiliary Telescope Dome Rotation Requirement)\n",
    "\n",
    "In this notebook, we check the speed of the dome rotation. As part of the dome refurbishment effort, the minimum dome rotation speed shall be increased to a minimum of Aux_Tel_dome_rot_spd. The contractor shall supply the required hardware to support 4 drive motors. \n",
    "\n",
    "| Description | Value       | Unit          |   Name     |\n",
    "| :---        |    :----:   |       :----:  |       ---: |\n",
    "|The azimuth rotational speed for the Auxiliary Telescope Dome shall be a minimum of: | 4.0       | degrees/sec   |Aux_Tel_dome_rot_spd|\n",
    "\n",
    "An azimuth angular rotation of three different rotation angles will be commanded and timed. The ellapsed time, angular rotation angle and motion speed will get printed in the notebook. This calculated average speed includes the acceleration and decceleration of the dome. The instantaneous speed of the dome will be calculated with the gradient at each position and an average slew speed will be obtained from the slope of a linear regression of the position vs time in the uniform motion interval of the move. Results will be saved in a text file (Attached AuxTel_LTS-337-030_20220311.txt)\n",
    "\n",
    "This notebook is divided into 6 sections:\n",
    "1. Notebook and ATCS Setup \n",
    "2. Test Long Angular Rotation - 210 deg \n",
    "3. Test Medium Angular Rotation - 90 degrees\n",
    "4. Test Short Angular Rotation - 30 degrees \n",
    "5. Shutdown \n",
    "6. Offline analysis of observing run dome speed (2022-02-16) \n",
    "7. Conclusion. "
   ]
  },
  {
   "cell_type": "markdown",
   "metadata": {
    "tags": []
   },
   "source": [
    "# Notebook and ATCS Setup. "
   ]
  },
  {
   "cell_type": "code",
   "execution_count": null,
   "metadata": {
    "tags": []
   },
   "outputs": [],
   "source": [
    "import sys, time, os, asyncio\n",
    "import pandas as pd\n",
    "\n",
    "from lsst.ts.observatory.control.auxtel.atcs import ATCS\n",
    "from lsst.ts import salobj\n",
    "from astropy.time import Time, TimeDelta\n",
    "from datetime import datetime, date\n",
    "\n",
    "from lsst_efd_client import EfdClient\n",
    "\n",
    "import matplotlib.pyplot as plt\n",
    "import matplotlib.dates as mdates\n",
    "import seaborn as sns\n",
    "import pandas as pd\n",
    "import numpy as np"
   ]
  },
  {
   "cell_type": "code",
   "execution_count": null,
   "metadata": {},
   "outputs": [],
   "source": [
    "from lsst.ts.observing.utilities.decorated_logger import DecoratedLogger\n",
    "logger = DecoratedLogger.get_decorated_logger()\n",
    "logger.level = logging.DEBUG"
   ]
  },
  {
   "cell_type": "code",
   "execution_count": null,
   "metadata": {
    "tags": []
   },
   "outputs": [],
   "source": [
    "# Get EFD client\n",
    "client = EfdClient('summit_efd')"
   ]
  },
  {
   "cell_type": "code",
   "execution_count": null,
   "metadata": {},
   "outputs": [],
   "source": [
    "domain = salobj.Domain()"
   ]
  },
  {
   "cell_type": "code",
   "execution_count": null,
   "metadata": {
    "tags": []
   },
   "outputs": [],
   "source": [
    "atcs = ATCS(domain)\n",
    "await asyncio.gather(atcs.start_task)"
   ]
  },
  {
   "cell_type": "code",
   "execution_count": null,
   "metadata": {
    "tags": []
   },
   "outputs": [],
   "source": [
    "# Enable components ATCS\n",
    "await atcs.enable({\"atdome\": \"current\", \"ataos\": \"current\", \"athexapod\": \"current\"})"
   ]
  },
  {
   "cell_type": "code",
   "execution_count": null,
   "metadata": {},
   "outputs": [],
   "source": [
    "# Disable Dome following \n",
    "await atcs.disable_dome_following()"
   ]
  },
  {
   "cell_type": "code",
   "execution_count": null,
   "metadata": {
    "tags": []
   },
   "outputs": [],
   "source": [
    "await atcs.slew_dome_to(20.0)"
   ]
  },
  {
   "cell_type": "code",
   "execution_count": null,
   "metadata": {
    "tags": []
   },
   "outputs": [],
   "source": [
    "await atcs.home_dome()"
   ]
  },
  {
   "cell_type": "code",
   "execution_count": null,
   "metadata": {},
   "outputs": [],
   "source": [
    "# Enter the filename where to save the results.\n",
    "filename = 'AuxTel_LTS-337-014_' + date.today().strftime(\"%y%m%d\") + '.txt'\n",
    "print(filename)"
   ]
  },
  {
   "cell_type": "markdown",
   "metadata": {
    "tags": []
   },
   "source": [
    "# Test Long Rotation - 210 degrees"
   ]
  },
  {
   "cell_type": "code",
   "execution_count": null,
   "metadata": {},
   "outputs": [],
   "source": [
    "# Long Rotation 210 degrees\n",
    "test_type = 'Long Rotation - 210 deg'\n",
    "initial_position = 260\n",
    "final_position = 50\n",
    "\n",
    "print(f'The initial position is {initial_position} degrees \\n'\n",
    "      f'The final position is {final_position} degrees \\n'\n",
    "      f'Results will be saved in {filename}')"
   ]
  },
  {
   "cell_type": "code",
   "execution_count": null,
   "metadata": {
    "tags": []
   },
   "outputs": [],
   "source": [
    " # Move to initial position \n",
    "print(f'Moving to initial azimuth position = '\n",
    "      f'{initial_position} degrees on {time.asctime()}')\n",
    "\n",
    "await atcs.slew_dome_to(az=initial_position)\n",
    "\n",
    "# Get dome azimuth initial position and move start time \n",
    "start_time = Time(Time.now(), format='fits', \n",
    "                         scale='utc')\n",
    "\n",
    "dome_azimuth = await client.select_top_n(\n",
    "    \"lsst.sal.ATDome.position\", 'azimuthPosition', 1)\n",
    "az_origin = dome_azimuth.iat[0,0]\n",
    "print(f'Initial azimuth position is = {az_origin} degrees '\n",
    "      f'on {start_time}')\n",
    "\n",
    "# Move to final position\n",
    "print(f'Moving to final azimuth position = '\n",
    "      f'{final_position} degrees on {time.asctime()}')\n",
    "await atcs.slew_dome_to(az=final_position)\n",
    "\n",
    "# Get dome azimuth final position and move end time\n",
    "end_time = Time(Time.now(), format='fits', scale='utc')\n",
    "\n",
    "dome_azimuth = await client.select_top_n(\n",
    "    \"lsst.sal.ATDome.position\", 'azimuthPosition', 1)\n",
    "az_final = dome_azimuth.iat[0,0]\n",
    "print(f'Final azimuth position is = {az_final} degrees ' \n",
    "      f'on {end_time}')\n",
    "\n",
    "\n",
    "# Some quick calculations and print results. \n",
    "duration_time= TimeDelta(end_time - start_time, \n",
    "                         format='sec')\n",
    "rotation_angle = abs(az_origin - az_final)\n",
    "\n",
    "long_speed = rotation_angle/duration_time.value"
   ]
  },
  {
   "cell_type": "markdown",
   "metadata": {
    "tags": []
   },
   "source": [
    "## Results"
   ]
  },
  {
   "cell_type": "code",
   "execution_count": null,
   "metadata": {},
   "outputs": [],
   "source": [
    "print(f'######################################################### \\n'\n",
    "          f'The move lasted {duration_time.value:.2f} seconds \\n'\n",
    "          f'for an angular rotation of {rotation_angle:.2f} degrees \\n'\n",
    "          f'with an average rotational speed of {long_speed:.2f} degrees/sec\\n'\n",
    "          f'#########################################################')\n",
    "    "
   ]
  },
  {
   "cell_type": "markdown",
   "metadata": {
    "tags": []
   },
   "source": [
    "## Dome azimuth speed"
   ]
  },
  {
   "cell_type": "code",
   "execution_count": null,
   "metadata": {},
   "outputs": [],
   "source": [
    "# Get EFD azimuth position time series between start_time and end_time\n",
    "df_longslew = await client.select_time_series(\"lsst.sal.ATDome.position\", 'azimuthPosition', \n",
    "                                                    start_time, end_time)"
   ]
  },
  {
   "cell_type": "code",
   "execution_count": null,
   "metadata": {},
   "outputs": [],
   "source": [
    "azimuth = np.array(df_longslew.values.tolist())[:,0]\n",
    "times=(df_longslew.index - df_longslew.index[0]).total_seconds()\n",
    "speed_deriv = np.gradient(azimuth, times)\n"
   ]
  },
  {
   "cell_type": "code",
   "execution_count": null,
   "metadata": {},
   "outputs": [],
   "source": [
    "%matplotlib inline\n",
    "fig, ax = plt.subplots(num='Long Slew', figsize=(20, 6))\n",
    "\n",
    "ax.plot(times, azimuth, 'C0o-', \n",
    "        label='Azimuth Position', lw=0.5, zorder=3)\n",
    "ax.set_xlabel('Time [s]')\n",
    "ax.set_ylabel('Azimuth Position [degrees]')\n",
    "ax.set_title(f'Long Slew Dome Rotation test')\n",
    "\n",
    "ax2 = ax.twinx()\n",
    "ax2.plot(times, speed_deriv, 'x', color = 'green',\n",
    "                label='Azimuth Speed', lw=0.5)\n",
    "ax2.set_ylabel('Azimuth Speed [deg/s]')\n",
    "ax2.set_ylim(-4.5,4.5)\n",
    "plt.hlines(y=[-4, 4], xmin=[times[0]], xmax=[times[-1]], colors='orange', \n",
    "           linestyles='--', lw=2, label='Minimum Dome Rotation Speed Requirement')\n",
    "fig.legend()\n",
    "plt.show()\n"
   ]
  },
  {
   "cell_type": "markdown",
   "metadata": {},
   "source": [
    "The dome azimuth speeed (green) is smaller than the required 4 deg/s along the move (orange dotted horizontal lines). \n",
    "If we remove the acceleration/decceleration parts of the move and focus in the uniform motion:\n"
   ]
  },
  {
   "cell_type": "code",
   "execution_count": null,
   "metadata": {},
   "outputs": [],
   "source": [
    "fig, ax = plt.subplots(num='Long Slew', figsize=(20, 6))\n",
    "[i1,i2] = [140,180]\n",
    "\n",
    "ax.plot(times[i1:i2], azimuth[i1:i2], 'C0o-', \n",
    "        label='Azimuth Position', lw=0.5, zorder=3)\n",
    "ax.set_xlabel('Time [s]')\n",
    "ax.set_ylabel('Azimuth Position [degrees]')\n",
    "ax.set_title(f'Long Slew Dome Rotation test - Focus on uniform motion')\n",
    "\n",
    "ax2 = ax.twinx()\n",
    "ax2.plot(times[i1:i2], speed_deriv[i1:i2], 'x', color = 'green',\n",
    "                label='Azimuth Speed', lw=0.5)\n",
    "ax2.set_ylabel('Azimuth Speed [deg/s]')\n",
    "ax2.set_ylim(-5,5)\n",
    "plt.hlines(y=[-4, 4], xmin=[times[i1]-2], xmax=[times[i2]+2], colors='orange', \n",
    "           linestyles='--', lw=2, label='Minimum Dome Rotation Speed Requirement')\n",
    "fig.legend()\n",
    "plt.show()"
   ]
  },
  {
   "cell_type": "code",
   "execution_count": null,
   "metadata": {},
   "outputs": [],
   "source": [
    "max_speed_longslew = np.max(abs(speed_deriv[i1:i2]))\n",
    "print(f'The maximum slew speed is {max_speed_longslew:0.2f} deg/s')"
   ]
  },
  {
   "cell_type": "code",
   "execution_count": null,
   "metadata": {},
   "outputs": [],
   "source": [
    "# Linear regression\n",
    "model = np.polyfit(times[i1:i2], azimuth[i1:i2], 1)\n",
    "slope_longslew = model[0]\n",
    "print(f'The average slew speed is {abs(slope_longslew):0.2f} deg/s')"
   ]
  },
  {
   "cell_type": "code",
   "execution_count": null,
   "metadata": {},
   "outputs": [],
   "source": [
    "# Save test results in a file (See file attached)\n",
    "with open(filename, 'a') as f:\n",
    "    f.write('\\n{} test on {} \\n'.format(test_type, time.asctime()))\n",
    "    f.write('Start Time, End Time, Rotation angle (degrees), ' \n",
    "            'Rotational speed (degrees/sec) \\n')\n",
    "    f.write(f'{start_time.value}, {end_time.value},' \n",
    "            f'{round(rotation_angle,2)},{round(long_speed,2)} \\n')\n",
    "    f.write(f'The maximum slew speed is {max_speed_longslew:0.2f} deg/s \\n')\n",
    "    f.write(f'The average slew speed is {abs(slope_longslew):0.2f} deg/s \\n')\n",
    "f.close()\n",
    "print(f'Start and end move times, rotation angle (degrees) and rotational speeds ' \n",
    "      f'(degrees/sec) are saved in {filename}')"
   ]
  },
  {
   "cell_type": "markdown",
   "metadata": {
    "tags": []
   },
   "source": [
    "# Test Medium Rotation - 90 degrees"
   ]
  },
  {
   "cell_type": "code",
   "execution_count": null,
   "metadata": {},
   "outputs": [],
   "source": [
    "# # Medium rotation - 90 degrees\n",
    "test_type = 'Medium Rotation - 90 deg'\n",
    "initial_position = 90\n",
    "final_position = 180\n",
    "\n",
    "print(f'The initial position is {initial_position} degrees \\n'\n",
    "      f'The final position is {final_position} degrees \\n'\n",
    "      f'Results will be saved in {filename}')"
   ]
  },
  {
   "cell_type": "code",
   "execution_count": null,
   "metadata": {
    "tags": []
   },
   "outputs": [],
   "source": [
    " # Move to initial position \n",
    "print(f'Moving to initial azimuth position = '\n",
    "      f'{initial_position} degrees on {time.asctime()}')\n",
    "\n",
    "await atcs.slew_dome_to(az=initial_position)\n",
    "\n",
    "# Get dome azimuth initial position and move start time \n",
    "start_time = Time(Time.now(), format='fits', \n",
    "                         scale='utc')\n",
    "\n",
    "dome_azimuth = await client.select_top_n(\n",
    "    \"lsst.sal.ATDome.position\", 'azimuthPosition', 1)\n",
    "az_origin = dome_azimuth.iat[0,0]\n",
    "print(f'Initial azimuth position is = {az_origin} degrees '\n",
    "      f'on {start_time}')\n",
    "\n",
    "# Move to final position\n",
    "print(f'Moving to final azimuth position = '\n",
    "      f'{final_position} degrees on {time.asctime()}')\n",
    "await atcs.slew_dome_to(az=final_position)\n",
    "\n",
    "# Get dome azimuth final position and move end time\n",
    "end_time = Time(Time.now(), format='fits', scale='utc')\n",
    "\n",
    "dome_azimuth = await client.select_top_n(\n",
    "    \"lsst.sal.ATDome.position\", 'azimuthPosition', 1)\n",
    "az_final = dome_azimuth.iat[0,0]\n",
    "print(f'Final azimuth position is = {az_final} degrees ' \n",
    "      f'on {end_time}')\n",
    "\n",
    "\n",
    "# Some quick calculations and print results. \n",
    "duration_time= TimeDelta(end_time - start_time, \n",
    "                         format='sec')\n",
    "rotation_angle = abs(az_origin - az_final)\n",
    "\n",
    "med_speed = rotation_angle/duration_time.value"
   ]
  },
  {
   "cell_type": "markdown",
   "metadata": {},
   "source": [
    "## Results"
   ]
  },
  {
   "cell_type": "code",
   "execution_count": null,
   "metadata": {},
   "outputs": [],
   "source": [
    "print(f'######################################################### \\n'\n",
    "          f'The move lasted {duration_time.value:.2f} seconds \\n'\n",
    "          f'for an angular rotation of {rotation_angle:.2f} degrees \\n'\n",
    "          f'with an average rotational speed of {med_speed:.2f} degrees/sec\\n'\n",
    "          f'#########################################################')\n",
    "    "
   ]
  },
  {
   "cell_type": "markdown",
   "metadata": {
    "tags": []
   },
   "source": [
    "## Dome azimuth speed"
   ]
  },
  {
   "cell_type": "code",
   "execution_count": null,
   "metadata": {},
   "outputs": [],
   "source": [
    "# Get EFD azimuth position time series between start_time and end_time\n",
    "df_mediumslew = await client.select_time_series(\"lsst.sal.ATDome.position\", 'azimuthPosition', \n",
    "                                                    start_time, end_time)"
   ]
  },
  {
   "cell_type": "code",
   "execution_count": null,
   "metadata": {},
   "outputs": [],
   "source": [
    "azimuth = np.array(df_mediumslew.values.tolist())[:,0]\n",
    "times=(df_mediumslew.index - df_mediumslew.index[0]).total_seconds()\n",
    "speed_deriv = np.gradient(azimuth, times)\n"
   ]
  },
  {
   "cell_type": "code",
   "execution_count": null,
   "metadata": {},
   "outputs": [],
   "source": [
    "%matplotlib inline\n",
    "fig, ax = plt.subplots(num='Medium Slew', figsize=(20, 6))\n",
    "\n",
    "ax.plot(times, azimuth, 'C0o-', \n",
    "        label='Azimuth Position', lw=0.5, zorder=3)\n",
    "ax.set_xlabel('Time [s]')\n",
    "ax.set_ylabel('Azimuth Position [degrees]')\n",
    "ax.set_title(f'Medium Slew Dome Rotation test')\n",
    "\n",
    "ax2 = ax.twinx()\n",
    "ax2.plot(times, speed_deriv, 'x', color = 'green',\n",
    "                label='Azimuth Speed', lw=0.5)\n",
    "ax2.set_ylabel('Azimuth Speed [deg/s]')\n",
    "ax2.set_ylim(-4.5,4.5)\n",
    "plt.hlines(y=[-4, 4], xmin=[times[0]], xmax=[times[-1]], colors='orange', \n",
    "           linestyles='--', lw=2, label='Minimum Dome Rotation Speed Requirement')\n",
    "fig.legend()\n",
    "plt.show()"
   ]
  },
  {
   "cell_type": "markdown",
   "metadata": {},
   "source": [
    "The dome azimuth speeed (green) is smaller than the required 4 deg/s along the move (orange horizontal dotted lines). \n",
    "If we remove the acceleration/decceleration parts of the move and focus in the uniform motion:\n"
   ]
  },
  {
   "cell_type": "code",
   "execution_count": null,
   "metadata": {},
   "outputs": [],
   "source": [
    "fig, ax = plt.subplots(num='Medium Slew', figsize=(20, 6))\n",
    "[i1,i2] = [75,105]\n",
    "\n",
    "ax.plot(times[i1:i2], azimuth[i1:i2], 'C0o-', \n",
    "        label='Azimuth Position', lw=0.5, zorder=3)\n",
    "ax.set_xlabel('Time [s]')\n",
    "ax.set_ylabel('Azimuth Position [degrees]')\n",
    "ax.set_title(f'Medium Slew Dome Rotation test - Focus on uniform motion')\n",
    "\n",
    "ax2 = ax.twinx()\n",
    "ax2.plot(times[i1:i2], speed_deriv[i1:i2], 'x', color = 'green',\n",
    "                label='Azimuth Speed', lw=0.5)\n",
    "ax2.set_ylabel('Azimuth Speed [deg/s]')\n",
    "ax2.set_ylim(-5,5)\n",
    "plt.hlines(y=[-4, 4], xmin=[times[i1]-2], xmax=[times[i2]+2], colors='orange', \n",
    "           linestyles='--', lw=2, label='Minimum Dome Rotation Speed Requirement')\n",
    "fig.legend()\n",
    "plt.show()"
   ]
  },
  {
   "cell_type": "code",
   "execution_count": null,
   "metadata": {},
   "outputs": [],
   "source": [
    "max_speed_medslew = np.max(abs(speed_deriv[i1:i2]))\n",
    "print(f'The maximum slew speed is {max_speed_medslew:0.2f} deg/s')"
   ]
  },
  {
   "cell_type": "code",
   "execution_count": null,
   "metadata": {},
   "outputs": [],
   "source": [
    "# Linear regression\n",
    "model = np.polyfit(times[i1:i2], azimuth[i1:i2], 1)\n",
    "slope_medslew = model[0]\n",
    "print(f'The average slew speed is {abs(slope_medslew):0.2f} deg/s')"
   ]
  },
  {
   "cell_type": "markdown",
   "metadata": {},
   "source": [
    "## Save results"
   ]
  },
  {
   "cell_type": "code",
   "execution_count": null,
   "metadata": {
    "tags": []
   },
   "outputs": [],
   "source": [
    "# Save test results in a file (See file attached)\n",
    "with open(filename, 'a') as f:\n",
    "    f.write('\\n{} test on {} \\n'.format(test_type, time.asctime()))\n",
    "    f.write('Start Time, End Time, Rotation angle (degrees), ' \n",
    "            'Rotational speed (degrees/sec) \\n')\n",
    "    f.write(f'{start_time.value}, {end_time.value},' \n",
    "            f'{round(rotation_angle,2)},{round(med_speed,2)} \\n')\n",
    "    f.write(f'The maximum slew speed is {max_speed_medslew:0.2f} deg/s \\n')\n",
    "    f.write(f'The average slew speed is {abs(slope_medslew):0.2f} deg/s \\n')\n",
    "f.close()\n",
    "print(f'Start and end move times, rotation angle (degrees) and rotational speeds ' \n",
    "      f'(degrees/sec) are saved in {filename}')"
   ]
  },
  {
   "cell_type": "markdown",
   "metadata": {
    "tags": []
   },
   "source": [
    "# Test Short Rotation - 30 degrees"
   ]
  },
  {
   "cell_type": "code",
   "execution_count": null,
   "metadata": {},
   "outputs": [],
   "source": [
    "# # Short rotation - 30 degrees\n",
    "test_type = 'Short Rotation - 30 deg'\n",
    "initial_position = 180\n",
    "final_position = 210\n",
    "\n",
    "print(f'The initial position is {initial_position} degrees \\n'\n",
    "      f'The final position is {final_position} degrees \\n'\n",
    "      f'Results will be saved in {filename}')"
   ]
  },
  {
   "cell_type": "code",
   "execution_count": null,
   "metadata": {
    "tags": []
   },
   "outputs": [],
   "source": [
    " # Move to initial position \n",
    "print(f'Moving to initial azimuth position = '\n",
    "      f'{initial_position} degrees on {time.asctime()}')\n",
    "\n",
    "await atcs.slew_dome_to(az=initial_position)\n",
    "\n",
    "# Get dome azimuth initial position and move start time \n",
    "start_time = Time(Time.now(), format='fits', \n",
    "                         scale='utc')\n",
    "\n",
    "dome_azimuth = await client.select_top_n(\n",
    "    \"lsst.sal.ATDome.position\", 'azimuthPosition', 1)\n",
    "az_origin = dome_azimuth.iat[0,0]\n",
    "print(f'Initial azimuth position is = {az_origin} degrees '\n",
    "      f'on {start_time}')\n",
    "\n",
    "# Move to final position\n",
    "print(f'Moving to final azimuth position = '\n",
    "      f'{final_position} degrees on {time.asctime()}')\n",
    "await atcs.slew_dome_to(az=final_position)\n",
    "\n",
    "# Get dome azimuth final position and move end time\n",
    "end_time = Time(Time.now(), format='fits', scale='utc')\n",
    "\n",
    "dome_azimuth = await client.select_top_n(\n",
    "    \"lsst.sal.ATDome.position\", 'azimuthPosition', 1)\n",
    "az_final = dome_azimuth.iat[0,0]\n",
    "print(f'Final azimuth position is = {az_final} degrees ' \n",
    "      f'on {end_time}')\n",
    "\n",
    "\n",
    "# Some quick calculations and print results. \n",
    "duration_time= TimeDelta(end_time - start_time, \n",
    "                         format='sec')\n",
    "rotation_angle = abs(az_origin - az_final)\n",
    "\n",
    "short_speed = rotation_angle/duration_time.value"
   ]
  },
  {
   "cell_type": "markdown",
   "metadata": {},
   "source": [
    "## Results"
   ]
  },
  {
   "cell_type": "code",
   "execution_count": null,
   "metadata": {},
   "outputs": [],
   "source": [
    "print(f'######################################################### \\n'\n",
    "          f'The move lasted {duration_time.value:.2f} seconds \\n'\n",
    "          f'for an angular rotation of {rotation_angle:.2f} degrees \\n'\n",
    "          f'with an average rotational speed of {short_speed:.2f} degrees/sec\\n'\n",
    "          f'#########################################################')\n",
    "    "
   ]
  },
  {
   "cell_type": "markdown",
   "metadata": {
    "tags": []
   },
   "source": [
    "## Dome azimuth speed"
   ]
  },
  {
   "cell_type": "code",
   "execution_count": null,
   "metadata": {},
   "outputs": [],
   "source": [
    "# Get EFD azimuth position time series between start_time and end_time\n",
    "df_shortslew = await client.select_time_series(\"lsst.sal.ATDome.position\", 'azimuthPosition', \n",
    "                                                    start_time, end_time)"
   ]
  },
  {
   "cell_type": "code",
   "execution_count": null,
   "metadata": {},
   "outputs": [],
   "source": [
    "azimuth = np.array(df_shortslew.values.tolist())[:,0]\n",
    "times=(df_shortslew.index - df_shortslew.index[0]).total_seconds()\n",
    "speed_deriv = np.gradient(azimuth, times)"
   ]
  },
  {
   "cell_type": "code",
   "execution_count": null,
   "metadata": {},
   "outputs": [],
   "source": [
    "%matplotlib inline\n",
    "fig, ax = plt.subplots(num='Short Slew', figsize=(20, 6))\n",
    "\n",
    "ax.plot(times, azimuth, 'C0o-', \n",
    "        label='Azimuth Position', lw=0.5, zorder=3)\n",
    "# ax.grid('-', alpha=0.2)\n",
    "ax.set_xlabel('Time [s]')\n",
    "ax.set_ylabel('Azimuth Position [degrees]')\n",
    "ax.set_title(f'Short Slew Dome Rotation test')\n",
    "\n",
    "ax2 = ax.twinx()\n",
    "ax2.plot(times, speed_deriv, 'x', color = 'green',\n",
    "                label='Azimuth Speed', lw=0.5)\n",
    "ax2.set_ylabel('Azimuth Speed [deg/s]')\n",
    "ax2.set_ylim(-4.5,4.5)\n",
    "plt.hlines(y=[-4, 4], xmin=[times[0]], xmax=[times[-1]], colors='red', \n",
    "           linestyles='--', lw=2, label='Minimum Dome Rotation Speed Requirement')\n",
    "fig.legend()\n",
    "plt.show()"
   ]
  },
  {
   "cell_type": "markdown",
   "metadata": {
    "tags": []
   },
   "source": [
    "We can see that in this shorter slew, the dome speed (green) was increasing and decreasing and didn't stay in a cruising speed for long. But in any case, the speed also stay smaller than the required 4 deg/s. Below is the maximum azimuth speed of this rotation:"
   ]
  },
  {
   "cell_type": "code",
   "execution_count": null,
   "metadata": {},
   "outputs": [],
   "source": [
    "max_speed_shortslew = np.max(abs(speed_deriv))\n",
    "print(f'The maximum slew speed is {max_speed_shortslew:0.2f} deg/s')"
   ]
  },
  {
   "cell_type": "markdown",
   "metadata": {},
   "source": [
    "## Save results"
   ]
  },
  {
   "cell_type": "code",
   "execution_count": null,
   "metadata": {},
   "outputs": [],
   "source": [
    "# Save test results in a file (See file attached)\n",
    "with open(filename, 'a') as f:\n",
    "    f.write('\\n{} test on {} \\n'.format(test_type, time.asctime()))\n",
    "    f.write('Start Time, End Time, Rotation angle (degrees), ' \n",
    "            'Rotational speed (degrees/sec) \\n')\n",
    "    f.write(f'{start_time.value}, {end_time.value},' \n",
    "            f'{round(rotation_angle,2)},{round(short_speed,2)} \\n')\n",
    "    f.write(f'The maximum slew speed is {max_speed_shortslew:0.2f} deg/s \\n')\n",
    "f.close()\n",
    "print(f'Start and end move times, rotation angle (degrees) and rotational speeds ' \n",
    "      f'(degrees/sec) are saved in {filename}')"
   ]
  },
  {
   "cell_type": "markdown",
   "metadata": {
    "tags": []
   },
   "source": [
    "# Shutdown"
   ]
  },
  {
   "cell_type": "code",
   "execution_count": null,
   "metadata": {
    "tags": []
   },
   "outputs": [],
   "source": [
    "await atcs.home_dome()"
   ]
  },
  {
   "cell_type": "code",
   "execution_count": null,
   "metadata": {},
   "outputs": [],
   "source": [
    "# Back in standby.\n",
    "await atcs.standby()"
   ]
  },
  {
   "cell_type": "markdown",
   "metadata": {
    "tags": []
   },
   "source": [
    "# Offline analysis of observing run dome speed (2022-02-16) "
   ]
  },
  {
   "cell_type": "markdown",
   "metadata": {},
   "source": [
    "A graph of the dome speed during the night of 2022-02-16 shows that the maximum dome azimuth speed was never above 4 deg/sec as the LTS-337-030 (Auxiliary Telescope Dome Rotation) requires."
   ]
  },
  {
   "cell_type": "code",
   "execution_count": null,
   "metadata": {},
   "outputs": [],
   "source": [
    "# Night dome speed during 2022 February observing run. "
   ]
  },
  {
   "cell_type": "code",
   "execution_count": null,
   "metadata": {},
   "outputs": [],
   "source": [
    "# Get EFD azimuth position time series between start_time and end_time\n",
    "start_time = Time('2022-02-16T00:00:01.00', scale = 'utc')\n",
    "end_time = Time('2022-02-16T09:00:00.00', scale = 'utc')\n",
    "df_nightslew = await client.select_time_series(\"lsst.sal.ATDome.position\", 'azimuthPosition', \n",
    "                                                    start_time, end_time)"
   ]
  },
  {
   "cell_type": "code",
   "execution_count": null,
   "metadata": {},
   "outputs": [],
   "source": [
    "azimuth = np.array(df_nightslew.values.tolist())[:,0]\n",
    "times=(df_nightslew.index - df_nightslew.index[0]).total_seconds()\n",
    "speed_deriv = np.gradient(azimuth, times)\n"
   ]
  },
  {
   "cell_type": "code",
   "execution_count": null,
   "metadata": {},
   "outputs": [],
   "source": [
    "%matplotlib inline\n",
    "fig, ax = plt.subplots(num='Night Slew', figsize=(20, 6))\n",
    "\n",
    "ax.plot(times, azimuth, 'C0o-', \n",
    "        label='Azimuth Position', lw=0.5, zorder=3)\n",
    "ax.set_xlabel('Time [s]')\n",
    "ax.set_ylabel('Azimuth Position [degrees]')\n",
    "ax.set_title(f'Dome Position and Speed during night 2022-02-16')\n",
    "\n",
    "ax2 = ax.twinx()\n",
    "ax2.plot(times, speed_deriv, 'x', color = 'green',\n",
    "                label='Azimuth Speed', lw=0.5)\n",
    "ax2.set_ylabel('Azimuth Speed [deg/s]')\n",
    "ax2.set_ylim(-4.5,4.5)\n",
    "plt.hlines(y=[-4, 4], xmin=[times[0]], xmax=[times[-1]], \n",
    "           colors='orange', linestyles='--', lw=2, label='Minimum Dome Rotation Speed Requirement')\n",
    "fig.legend()\n",
    "plt.show()\n"
   ]
  },
  {
   "cell_type": "code",
   "execution_count": null,
   "metadata": {},
   "outputs": [],
   "source": [
    "max_speed_allnightslew = np.max(abs(speed_deriv))\n",
    "print(f'The maximum dome speed in the night 2022-02-16 was {max_speed_allnightslew:0.2f} deg/s')"
   ]
  },
  {
   "cell_type": "code",
   "execution_count": null,
   "metadata": {},
   "outputs": [],
   "source": [
    "# Choosing a random slew"
   ]
  },
  {
   "cell_type": "code",
   "execution_count": null,
   "metadata": {},
   "outputs": [],
   "source": [
    "# Get EFD azimuth position time series between start_time and end_time\n",
    "start_time = Time('2022-02-16T05:12:19.138', scale = 'utc')\n",
    "end_time = Time('2022-02-16T05:14:46.782', scale = 'utc')\n",
    "df_randomslew = await client.select_time_series(\"lsst.sal.ATDome.position\", 'azimuthPosition', \n",
    "                                                    start_time, end_time)"
   ]
  },
  {
   "cell_type": "code",
   "execution_count": null,
   "metadata": {},
   "outputs": [],
   "source": [
    "azimuth = np.array(df_randomslew.values.tolist())[:,0]\n",
    "times=(df_randomslew.index - df_randomslew.index[0]).total_seconds()\n",
    "speed_deriv = np.gradient(azimuth, times)\n"
   ]
  },
  {
   "cell_type": "code",
   "execution_count": null,
   "metadata": {},
   "outputs": [],
   "source": [
    "%matplotlib inline\n",
    "fig, ax = plt.subplots(num='Random Slew', figsize=(20, 6))\n",
    "\n",
    "ax.plot(times, azimuth, 'C0o-', \n",
    "        label='Azimuth Position', lw=0.5, zorder=3)\n",
    "# ax.grid('-', alpha=0.2)\n",
    "ax.set_xlabel('Time [s]')\n",
    "ax.set_ylabel('Azimuth Position [degrees]')\n",
    "ax.set_title(f'Random Dome Slew during night 2022-02-16')\n",
    "\n",
    "ax2 = ax.twinx()\n",
    "ax2.plot(times, speed_deriv, 'x', color = 'green',\n",
    "                label='Azimuth Speed', lw=0.5)\n",
    "ax2.set_ylabel('Azimuth Speed [deg/s]')\n",
    "ax2.set_ylim(-4.5,4.5)\n",
    "#ax2.xaxis.set_major_formatter(mdates.DateFormatter('%H:%M'))\n",
    "plt.hlines(y=[-4, 4], xmin=[times[0]], xmax=[times[-1]], \n",
    "           colors='orange', linestyles='--', lw=2, label='Minimum Dome Rotation Speed Requirement')\n",
    "fig.legend()\n",
    "plt.show()\n"
   ]
  },
  {
   "cell_type": "code",
   "execution_count": null,
   "metadata": {},
   "outputs": [],
   "source": [
    "max_speed_randomslew = np.max(abs(speed_deriv))\n",
    "print(f'The maximum speed during this random dome slew is {max_speed_randomslew:0.2f} deg/s')"
   ]
  },
  {
   "cell_type": "markdown",
   "metadata": {},
   "source": [
    "****"
   ]
  },
  {
   "cell_type": "markdown",
   "metadata": {},
   "source": [
    "# Conclusion"
   ]
  },
  {
   "cell_type": "markdown",
   "metadata": {},
   "source": [
    "The dome azimuth rotation speed has been examined in 3 dedicated rotation tests of different rotation angles (210, 90 and 30 degrees) and an offline analysis of an observing night, to replicate the dome operations cadence.\n",
    "In none of these test cases, the azimuth rotational speed has been above the minimum 4 deg/sec speed requirement from LTS-337-030 (Auxiliary Telescope Dome Rotation Requirement). \n"
   ]
  },
  {
   "cell_type": "code",
   "execution_count": null,
   "metadata": {},
   "outputs": [],
   "source": []
  }
 ],
 "metadata": {
  "kernelspec": {
   "display_name": "LSST",
   "language": "python",
   "name": "lsst"
  },
  "language_info": {
   "codemirror_mode": {
    "name": "ipython",
    "version": 3
   },
   "file_extension": ".py",
   "mimetype": "text/x-python",
   "name": "python",
   "nbconvert_exporter": "python",
   "pygments_lexer": "ipython3",
   "version": "3.8.13"
  },
  "toc-autonumbering": true,
  "toc-showcode": false,
  "toc-showmarkdowntxt": false,
  "toc-showtags": false
 },
 "nbformat": 4,
 "nbformat_minor": 4
}
