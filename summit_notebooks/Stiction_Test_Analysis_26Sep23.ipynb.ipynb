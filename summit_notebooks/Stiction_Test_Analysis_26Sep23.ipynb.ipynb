{
 "cells": [
  {
   "cell_type": "markdown",
   "id": "461e5b43-f7b4-4d27-9ad8-80088a4a1b44",
   "metadata": {
    "execution": {
     "iopub.execute_input": "2023-09-26T16:40:26.718833Z",
     "iopub.status.busy": "2023-09-26T16:40:26.718462Z",
     "iopub.status.idle": "2023-09-26T16:40:26.724991Z",
     "shell.execute_reply": "2023-09-26T16:40:26.723927Z",
     "shell.execute_reply.started": "2023-09-26T16:40:26.718800Z"
    },
    "tags": []
   },
   "source": [
    "# Azimuth oscillation analysis\n",
    "\n",
    "Analyzing the go-and-come-back idea\n",
    "Craig Lage - 26Sep23"
   ]
  },
  {
   "cell_type": "code",
   "execution_count": null,
   "id": "703856c4-06c9-4f2b-b2de-bbda9b33cf94",
   "metadata": {
    "execution": {
     "iopub.execute_input": "2023-11-16T16:23:09.835572Z",
     "iopub.status.busy": "2023-11-16T16:23:09.835200Z",
     "iopub.status.idle": "2023-11-16T16:23:10.417831Z",
     "shell.execute_reply": "2023-11-16T16:23:10.417036Z",
     "shell.execute_reply.started": "2023-11-16T16:23:09.835528Z"
    },
    "tags": []
   },
   "outputs": [],
   "source": [
    "import os, time\n",
    "import numpy as np\n",
    "import matplotlib.pyplot as plt\n",
    "import pandas as pd\n",
    "from astropy.time import Time\n",
    "from lsst_efd_client import EfdClient"
   ]
  },
  {
   "cell_type": "code",
   "execution_count": null,
   "id": "da8cc867-ac9e-4634-b23f-5b2aeb40847b",
   "metadata": {
    "execution": {
     "iopub.execute_input": "2023-11-16T16:23:11.224374Z",
     "iopub.status.busy": "2023-11-16T16:23:11.223882Z",
     "iopub.status.idle": "2023-11-16T16:23:12.872959Z",
     "shell.execute_reply": "2023-11-16T16:23:12.872103Z",
     "shell.execute_reply.started": "2023-11-16T16:23:11.224345Z"
    },
    "tags": []
   },
   "outputs": [],
   "source": [
    "client = EfdClient('summit_efd')"
   ]
  },
  {
   "cell_type": "code",
   "execution_count": null,
   "id": "505fd3d0-4f11-443c-a40a-774930dbb79e",
   "metadata": {
    "execution": {
     "iopub.execute_input": "2023-11-16T16:56:12.530728Z",
     "iopub.status.busy": "2023-11-16T16:56:12.530338Z",
     "iopub.status.idle": "2023-11-16T16:57:43.688625Z",
     "shell.execute_reply": "2023-11-16T16:57:43.687560Z",
     "shell.execute_reply.started": "2023-11-16T16:56:12.530696Z"
    },
    "tags": []
   },
   "outputs": [],
   "source": [
    "%matplotlib inline\n",
    "fig, axs = plt.subplots(5,1,figsize = (8,12))\n",
    "plt.subplots_adjust(hspace=0.5)\n",
    "images = [[6, 96, \"2023-09-22\", \"Baseline\", 52], [7, 97, \"2023-09-26\", \"Go-and-come-back: 2 degree overshoot, 2 sec wait\", 65], \\\n",
    "         [98, 188, \"2023-09-26\", \"Go-and-come-back: 2 degree overshoot, 0 sec wait\", 62], \\\n",
    "         [189, 245, \"2023-09-26\", \"Go-and-come-back: 1 degree overshoot, 0 sec wait\", 61], \\\n",
    "         [15, 92, \"2023-09-26\", \"Programmed overslew\", 0]]\n",
    "for i, [firstImage, lastImage, dayObs, name, cycleTime] in enumerate(images):\n",
    "    # Get Rubin TV JSON\n",
    "    filename = f'/scratch/cslage/starTracker/auxtel_{dayObs}.json'\n",
    "    print(filename)\n",
    "    df = pd.read_json(filename)\n",
    "    df = df.transpose()\n",
    "    start = Time(f\"{dayObs}T{df.loc[firstImage]['TAI']}\", format='isot', scale='tai')\n",
    "    end = Time(f\"{dayObs}T{df.loc[lastImage]['TAI']}\", format='isot', scale='tai')\n",
    "    az = await client.select_packed_time_series(\"lsst.sal.ATMCS.mount_AzEl_Encoders\", \"azimuthCalculatedAngle\",\\\n",
    "                                                start.utc, end.utc)\n",
    "    azs = az['azimuthCalculatedAngle'].values\n",
    "    times = az['times'].values\n",
    "    t0 = times[0]\n",
    "    times -= t0\n",
    "    tmax = times[-1]\n",
    "\n",
    "    axs[i].set_title(f\"{name} - {dayObs}\", fontsize=16)\n",
    "    axs[i].plot(times, azs)\n",
    "    axs[i].set_ylabel(\"Azimuth(degrees)\")\n",
    "    axs[i].set_xlabel(\"Time(seconds)\")\n",
    "    axs[i].set_xlim(0,6100)\n",
    "    #axs[i].text(4500, 200, f\"Cycle time = {cycleTime} sec.\")\n",
    "    ax2 = axs[i].twinx()\n",
    "    mount_times = []\n",
    "    mount_motions = []\n",
    "    for seqNum in df.index.values.tolist():\n",
    "        if seqNum >= firstImage and seqNum <= lastImage:\n",
    "            time = Time(f\"{dayObs}T{df.loc[seqNum]['TAI']}\", format='isot', scale='tai')\n",
    "            mount_times.append(time.utc.unix_tai - t0)\n",
    "            mount_motions.append(df.loc[seqNum]['Mount motion image degradation'])\n",
    "    ax2.scatter(mount_times, mount_motions, marker='x', color='g')\n",
    "    ax2.set_ylabel(\"Mount jitter (arcseconds)\")\n",
    "    ax2.set_ylim(0, 1.5)\n",
    "#plt.savefig(f\"/home/craiglagegit/DATA/Go-and-Come-Back_Test_26Sep23.png\")\n"
   ]
  },
  {
   "cell_type": "code",
   "execution_count": null,
   "id": "735eb58f-46fb-4866-858d-da8643b60a07",
   "metadata": {},
   "outputs": [],
   "source": []
  }
 ],
 "metadata": {
  "kernelspec": {
   "display_name": "LSST",
   "language": "python",
   "name": "lsst"
  },
  "language_info": {
   "codemirror_mode": {
    "name": "ipython",
    "version": 3
   },
   "file_extension": ".py",
   "mimetype": "text/x-python",
   "name": "python",
   "nbconvert_exporter": "python",
   "pygments_lexer": "ipython3",
   "version": "3.11.4"
  }
 },
 "nbformat": 4,
 "nbformat_minor": 5
}
