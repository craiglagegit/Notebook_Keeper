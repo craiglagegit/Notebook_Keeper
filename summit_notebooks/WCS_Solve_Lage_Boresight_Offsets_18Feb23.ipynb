{
 "cells": [
  {
   "cell_type": "markdown",
   "metadata": {},
   "source": [
    "## StarTracker WCS solutions - 20-Feb-23\n",
    "\n",
    "Craig Lage - Exploring moving to boresight locations."
   ]
  },
  {
   "cell_type": "code",
   "execution_count": null,
   "metadata": {
    "execution": {
     "iopub.execute_input": "2023-02-20T13:26:16.593522Z",
     "iopub.status.busy": "2023-02-20T13:26:16.593231Z",
     "iopub.status.idle": "2023-02-20T13:26:18.876047Z",
     "shell.execute_reply": "2023-02-20T13:26:18.875522Z",
     "shell.execute_reply.started": "2023-02-20T13:26:16.593505Z"
    },
    "tags": []
   },
   "outputs": [],
   "source": [
    "import sys, time, os, asyncio, glob\n",
    "from datetime import datetime\n",
    "import numpy as np\n",
    "import matplotlib.pyplot as plt\n",
    "import astropy.io.fits as pf\n",
    "from astropy.time import Time, TimeDelta\n",
    "from astropy.coordinates import AltAz, ICRS, EarthLocation, Angle, FK5, SkyCoord\n",
    "import astropy.units as u\n",
    "from lsst.obs.lsst.translators.latiss import AUXTEL_LOCATION\n",
    "from lsst.obs.lsst.translators.lsst import SIMONYI_LOCATION\n",
    "\n",
    "import lsst.afw.image as afwImage\n",
    "from lsst.summit.utils.utils import starTrackerFileToExposure\n",
    "from lsst.summit.utils.astrometry.anet import CommandLineSolver\n",
    "from lsst.summit.utils.astrometry.utils import runCharactierizeImage"
   ]
  },
  {
   "cell_type": "code",
   "execution_count": null,
   "metadata": {
    "execution": {
     "iopub.execute_input": "2023-02-20T13:26:18.882620Z",
     "iopub.status.busy": "2023-02-20T13:26:18.882344Z",
     "iopub.status.idle": "2023-02-20T13:26:18.885184Z",
     "shell.execute_reply": "2023-02-20T13:26:18.884849Z",
     "shell.execute_reply.started": "2023-02-20T13:26:18.882606Z"
    },
    "tags": []
   },
   "outputs": [],
   "source": [
    "solver = CommandLineSolver('/project/shared/ref_cats/astrometry_net/')"
   ]
  },
  {
   "cell_type": "code",
   "execution_count": null,
   "metadata": {
    "execution": {
     "iopub.execute_input": "2023-02-20T19:12:15.611458Z",
     "iopub.status.busy": "2023-02-20T19:12:15.611179Z",
     "iopub.status.idle": "2023-02-20T19:51:00.791016Z",
     "shell.execute_reply": "2023-02-20T19:51:00.790570Z",
     "shell.execute_reply.started": "2023-02-20T19:12:15.611441Z"
    },
    "jupyter": {
     "outputs_hidden": true
    },
    "tags": []
   },
   "outputs": [],
   "source": [
    "cameras = [['Wide', 101], ['Narrow', 102]]\n",
    "dates = [20230130]\n",
    "dRAs = []\n",
    "dDecs = []\n",
    "for date in dates:\n",
    "    #outfile = open(f\"/scratch/cslage/starTracker/StarTracker_boresight_Diffs_{date}.txt\", \"w\")\n",
    "    #outfile.write(\"SeqNum\\tRA(solve)\\tDec(Solve)\\tAz(Solve)\\tEl(Solve)\\tdeltaRA\\tDeltaDec\\n\")\n",
    "\n",
    "    for seqNum in range(150):\n",
    "        RADecs = {}\n",
    "        AltAzs = {}\n",
    "        for [camera, num] in cameras:\n",
    "            year = int(date/10000)\n",
    "            month = int((date - 10000 * year)/100)\n",
    "            day = int((date - 10000 * year - 100 * month))\n",
    "            path = f\"/project/GenericCamera/{num}/{year}/{month:02}/{day:02}/\"\n",
    "            try:    \n",
    "                filename = path + f\"GC{num}_O_{date}_{seqNum:06}.fits\"\n",
    "                exp = starTrackerFileToExposure(filename)\n",
    "                results = runCharactierizeImage(exp, 4, 20)\n",
    "                if camera == 'Narrow':\n",
    "                    # Need to loosen percentageScaleError because header SECPIX is wrong\n",
    "                    solverResults = solver.run(exp, results.sourceCat, percentageScaleError=60.0, isWideField=False)\n",
    "                    #boresight = (1867.87, 974.58) # From Adrian\n",
    "                    boresight = (1898.10, 998.47) # From assuming Wide is correct.\n",
    "                if camera == 'Wide':\n",
    "                    solverResults = solver.run(exp, results.sourceCat, isWideField=True)\n",
    "                    boresight = (1560.85, 1257.151)\n",
    "                newWcs = solverResults.wcs\n",
    "                rms_error = solverResults.rmsErrorArsec\n",
    "                #raSolve = newWcs.getSkyOrigin().getRa().asDegrees()\n",
    "                #decSolve = newWcs.getSkyOrigin().getDec().asDegrees()\n",
    "\n",
    "                boresight_RaDec = newWcs.pixelToSky(boresight[0], boresight[1])\n",
    "                raSolve = boresight_RaDec.getRa().asDegrees()\n",
    "                decSolve = boresight_RaDec.getDec().asDegrees()\n",
    "                RADecs[camera] = [raSolve, decSolve]\n",
    "            except:\n",
    "                print(f\"{camera}, {date}_{seqNum} Failed!\")\n",
    "                continue\n",
    "            hdulist = pf.open(filename)\n",
    "            header = hdulist[0].header\n",
    "            raStart = header[\"RASTART\"]\n",
    "            decStart = header[\"DECSTART\"]\n",
    "            azHdr = (header[\"AZSTART\"] + header[\"AZEND\"]) / 2.0\n",
    "            azHdr = azHdr % 360\n",
    "            elHdr = (header[\"ELSTART\"] + header[\"ELEND\"]) / 2.0\n",
    "            rotpa = header[\"ROTPA\"]\n",
    "            rot = newWcs.getRelativeRotationToWcs(exp.getWcs()).asDegrees()\n",
    "            #time = Time(header[\"DATE-OBS\"], scale='tai')\n",
    "            time = Time((Time(header[\"DATE-BEG\"], scale='tai').unix_tai + Time(header[\"DATE-END\"], scale='tai').unix_tai)/2.0, format='unix_tai', scale='tai')\n",
    "            altAz = AltAz(obstime=time, location=SIMONYI_LOCATION)\n",
    "            skyLocation = SkyCoord(raSolve * u.deg, decSolve * u.deg)\n",
    "            obsAltAz = skyLocation.transform_to(altAz)\n",
    "            az = obsAltAz.az.deg\n",
    "            az = az % 360\n",
    "            el = obsAltAz.alt.deg\n",
    "            AltAzs[camera] = [az, el]\n",
    "            deltaAz = (azHdr - az) * 3600.0\n",
    "            deltaEl = (elHdr - el) * 3600.0\n",
    "            deltaRA = (raStart - raSolve) * 3600.0\n",
    "            deltaDec = (decStart - decSolve) * 3600.0\n",
    "            print(f\"{camera}, {date}_{seqNum}, {raSolve:.5f}, {decSolve:.5f}, {az:.5f}, {el:.5f}\")\n",
    "        try:\n",
    "            dRA = (RADecs['Wide'][0] - RADecs['Narrow'][0]) * 3600 * np.cos(decSolve)\n",
    "            dDec = (RADecs['Wide'][1] - RADecs['Narrow'][1]) * 3600\n",
    "            dRAs.append(dRA)\n",
    "            dDecs.append(dDec)\n",
    "            print(dRA, dDec)\n",
    "            #outfile.write(f\"{seqNum}\\t{raSolve:.5f}\\t{decSolve:.5f}\\t{az:.5f}\\t{el:.5f}\\t{dRA:.1f}\\t{dDec:.1f}\\n\")\n",
    "        except:\n",
    "            continue\n",
    "    #outfile.close()\n",
    "    "
   ]
  },
  {
   "cell_type": "code",
   "execution_count": null,
   "metadata": {
    "execution": {
     "iopub.execute_input": "2023-02-20T19:09:25.483263Z",
     "iopub.status.busy": "2023-02-20T19:09:25.482990Z",
     "iopub.status.idle": "2023-02-20T19:09:25.487579Z",
     "shell.execute_reply": "2023-02-20T19:09:25.486959Z",
     "shell.execute_reply.started": "2023-02-20T19:09:25.483245Z"
    },
    "tags": []
   },
   "outputs": [],
   "source": [
    "# This calculates (for image 115)  what the narrow camera boresight would be if we translate the wide camera\n",
    "# boresight into the narrow camera.\n",
    "# Result = (1898.1, 998.47)\n",
    "\n",
    "import lsst.afw.image as afwImage\n",
    "from lsst.geom import SpherePoint\n",
    "from lsst.geom import Angle as afwAngle\n",
    "\n",
    "spherePoint = SpherePoint(afwAngle(RADecs['Wide'][0]*np.pi/180.0), afwAngle(RADecs['Wide'][1]*np.pi/180.0))\n",
    "point = newWcs.skyToPixel(spherePoint)\n",
    "print(point)"
   ]
  },
  {
   "cell_type": "code",
   "execution_count": null,
   "metadata": {
    "execution": {
     "iopub.execute_input": "2023-02-20T19:56:27.566397Z",
     "iopub.status.busy": "2023-02-20T19:56:27.566123Z",
     "iopub.status.idle": "2023-02-20T19:56:27.569230Z",
     "shell.execute_reply": "2023-02-20T19:56:27.568852Z",
     "shell.execute_reply.started": "2023-02-20T19:56:27.566381Z"
    },
    "tags": []
   },
   "outputs": [],
   "source": [
    "dRAs2 = np.array(dRAs)\n",
    "dDecs2 = np.array(dDecs)\n",
    "RMS = np.sqrt(np.sum(dRAs2*dRAs2 + dDecs2*dDecs2)) / len(dRAs)"
   ]
  },
  {
   "cell_type": "code",
   "execution_count": null,
   "metadata": {
    "execution": {
     "iopub.execute_input": "2023-02-20T19:56:52.621890Z",
     "iopub.status.busy": "2023-02-20T19:56:52.621612Z",
     "iopub.status.idle": "2023-02-20T19:56:52.829224Z",
     "shell.execute_reply": "2023-02-20T19:56:52.828799Z",
     "shell.execute_reply.started": "2023-02-20T19:56:52.621872Z"
    },
    "tags": []
   },
   "outputs": [],
   "source": [
    "%matplotlib inline\n",
    "plt.subplot(1,1,1,aspect=1)\n",
    "plt.title(\"StarTracker Boresight Deltas (Wide-Narrow) 20230130\")\n",
    "plt.scatter(dRAs, dDecs, marker='o', color='red', label='Wide boresight')\n",
    "plt.scatter([0.0], [0.0], marker='X', color='green', s=100, label='Narrow boresight')\n",
    "plt.legend()\n",
    "plt.xlim(-150.0, 150.0)\n",
    "plt.ylim(-150.0, 150.0)\n",
    "plt.xlabel(\"DeltaRA (arcseconds)\")\n",
    "plt.ylabel(\"DeltaDec (arcseconds)\")\n",
    "plt.text(-100.0, 50.0, f\"RMS offset = {RMS:.2f} arcseconds\")\n",
    "plt.savefig(f\"/scratch/cslage/starTracker/StarTracker_Boresight_Diffs_Assumes_Wide_Correct_{date}.png\")"
   ]
  },
  {
   "cell_type": "code",
   "execution_count": null,
   "metadata": {
    "execution": {
     "iopub.execute_input": "2023-02-20T15:15:14.418257Z",
     "iopub.status.busy": "2023-02-20T15:15:14.417983Z",
     "iopub.status.idle": "2023-02-20T15:15:14.423276Z",
     "shell.execute_reply": "2023-02-20T15:15:14.422879Z",
     "shell.execute_reply.started": "2023-02-20T15:15:14.418239Z"
    },
    "tags": []
   },
   "outputs": [],
   "source": [
    "filename='/scratch/cslage/starTracker/StarTracker_boresight_Diffs_20230130.txt'\n",
    "data = np.loadtxt(filename, skiprows=1)\n",
    "Azs = []\n",
    "Els = []\n",
    "RAs = []\n",
    "Decs = []\n",
    "dRAs = []\n",
    "dDecs = []\n",
    "dist = []\n",
    "for j in range(data.shape[0]):\n",
    "    [seqNum,ra,dec,az,el,dRA,dDec] = data[j]\n",
    "    RAs.append(ra)\n",
    "    Decs.append(dec)\n",
    "    Azs.append(az)\n",
    "    Els.append(el)\n",
    "    dRAs.append(dRA)\n",
    "    dDecs.append(dDec)\n",
    "    dist.append(np.sqrt(dRA*dRA + dDec*dDec))\n",
    "    \n"
   ]
  },
  {
   "cell_type": "code",
   "execution_count": null,
   "metadata": {
    "execution": {
     "iopub.execute_input": "2023-02-20T16:21:47.956307Z",
     "iopub.status.busy": "2023-02-20T16:21:47.955931Z",
     "iopub.status.idle": "2023-02-20T16:21:48.372266Z",
     "shell.execute_reply": "2023-02-20T16:21:48.371858Z",
     "shell.execute_reply.started": "2023-02-20T16:21:47.956289Z"
    },
    "tags": []
   },
   "outputs": [],
   "source": [
    "plt.subplots_adjust(hspace=0.5, wspace=0.5)\n",
    "plt.subplot(2,2,1)\n",
    "plt.title(\"DeltaRA vs Az\")\n",
    "plt.scatter(Azs, dRAs)\n",
    "plt.subplot(2,2,2)\n",
    "plt.title(\"DeltaRA vs El\")\n",
    "plt.scatter(Els, dRAs)\n",
    "plt.subplot(2,2,3)\n",
    "plt.title(\"DeltaDec vs Az\")\n",
    "plt.scatter(Azs, dDecs)\n",
    "plt.subplot(2,2,4)\n",
    "plt.title(\"DeltaDec vs El\")\n",
    "plt.scatter(Els, dDecs)\n",
    "plt.savefig(f\"/scratch/cslage/starTracker/Boresight_Diffs_vs AzEl_{date}.png\")"
   ]
  },
  {
   "cell_type": "code",
   "execution_count": null,
   "metadata": {},
   "outputs": [],
   "source": []
  }
 ],
 "metadata": {
  "kernelspec": {
   "display_name": "LSST",
   "language": "python",
   "name": "lsst"
  },
  "language_info": {
   "codemirror_mode": {
    "name": "ipython",
    "version": 3
   },
   "file_extension": ".py",
   "mimetype": "text/x-python",
   "name": "python",
   "nbconvert_exporter": "python",
   "pygments_lexer": "ipython3",
   "version": "3.10.9"
  }
 },
 "nbformat": 4,
 "nbformat_minor": 4
}
