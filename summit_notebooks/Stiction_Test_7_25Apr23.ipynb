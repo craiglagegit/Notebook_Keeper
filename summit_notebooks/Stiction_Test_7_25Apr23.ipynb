{
 "cells": [
  {
   "cell_type": "markdown",
   "id": "3dbf3c0c",
   "metadata": {},
   "source": [
    "# Pole stiction\n",
    "\n",
    "This notebook is intended to characterize the slow speed stiction problem \\\n",
    "at the pole by spiraling into the pole where the tracking speeds will be slower and slower. \\\n",
    "Craig Lage - 17-Oct-22"
   ]
  },
  {
   "cell_type": "code",
   "execution_count": null,
   "id": "b9b61b70",
   "metadata": {
    "execution": {
     "iopub.execute_input": "2023-08-17T19:53:50.158109Z",
     "iopub.status.busy": "2023-08-17T19:53:50.157839Z",
     "iopub.status.idle": "2023-08-17T19:53:53.230337Z",
     "shell.execute_reply": "2023-08-17T19:53:53.229867Z",
     "shell.execute_reply.started": "2023-08-17T19:53:50.158092Z"
    },
    "tags": []
   },
   "outputs": [],
   "source": [
    "import asyncio\n",
    "import time\n",
    "import os\n",
    "import numpy as np\n",
    "import matplotlib.pyplot as plt\n",
    "from astropy.time import Time\n",
    "\n",
    "from lsst.ts import salobj\n",
    "\n",
    "from lsst.ts.observatory.control.auxtel.atcs import ATCS\n",
    "from lsst.ts.observatory.control.auxtel.latiss import LATISS\n",
    "from lsst.ts.observatory.control.utils import RotType"
   ]
  },
  {
   "cell_type": "code",
   "execution_count": null,
   "id": "0755fd07",
   "metadata": {
    "execution": {
     "iopub.execute_input": "2023-04-25T18:02:29.568680Z",
     "iopub.status.busy": "2023-04-25T18:02:29.568534Z",
     "iopub.status.idle": "2023-04-25T18:02:29.571575Z",
     "shell.execute_reply": "2023-04-25T18:02:29.571092Z",
     "shell.execute_reply.started": "2023-04-25T18:02:29.568665Z"
    },
    "tags": []
   },
   "outputs": [],
   "source": [
    "logger = logging.getLogger(f\"Daytime Checkout {Time.now()} UT\")\n",
    "logger.level = logging.DEBUG"
   ]
  },
  {
   "cell_type": "code",
   "execution_count": null,
   "id": "e80647f9",
   "metadata": {
    "execution": {
     "iopub.execute_input": "2023-04-25T18:02:29.573657Z",
     "iopub.status.busy": "2023-04-25T18:02:29.573523Z",
     "iopub.status.idle": "2023-04-25T18:02:29.581545Z",
     "shell.execute_reply": "2023-04-25T18:02:29.581071Z",
     "shell.execute_reply.started": "2023-04-25T18:02:29.573645Z"
    },
    "tags": []
   },
   "outputs": [],
   "source": [
    "logger.info(os.environ[\"OSPL_URI\"])\n",
    "logger.info(os.environ[\"LSST_DDS_PARTITION_PREFIX\"])"
   ]
  },
  {
   "cell_type": "markdown",
   "id": "a9cd22ea",
   "metadata": {},
   "source": [
    "### Instantiate the control classes"
   ]
  },
  {
   "cell_type": "code",
   "execution_count": null,
   "id": "f651e5d9",
   "metadata": {
    "execution": {
     "iopub.execute_input": "2023-08-17T19:54:32.517909Z",
     "iopub.status.busy": "2023-08-17T19:54:32.517634Z",
     "iopub.status.idle": "2023-08-17T19:54:34.483331Z",
     "shell.execute_reply": "2023-08-17T19:54:34.482673Z",
     "shell.execute_reply.started": "2023-08-17T19:54:32.517892Z"
    },
    "tags": []
   },
   "outputs": [],
   "source": [
    "domain = salobj.Domain()\n",
    "atcs = ATCS(domain)\n",
    "latiss = LATISS(domain)\n",
    "await asyncio.gather(atcs.start_task, latiss.start_task)\n",
    "await atcs.assert_liveliness()"
   ]
  },
  {
   "cell_type": "markdown",
   "id": "50d3b4be",
   "metadata": {},
   "source": [
    "## Enable LATISS and ATCS"
   ]
  },
  {
   "cell_type": "code",
   "execution_count": null,
   "id": "ab6d900c",
   "metadata": {
    "tags": []
   },
   "outputs": [],
   "source": [
    "# Didn't come up.  Brought up with LOVE\n",
    "await latiss.enable()\n",
    "await atcs.enable()\n",
    "await atcs.assert_all_enabled()"
   ]
  },
  {
   "cell_type": "markdown",
   "id": "014ff42a-1d20-4a15-a145-3a59306459e2",
   "metadata": {
    "tags": []
   },
   "source": [
    "If ATCamera and/or ATOODS don't come up, see section `Quick Troubleshooting` for support commands. "
   ]
  },
  {
   "cell_type": "markdown",
   "id": "a85209e7",
   "metadata": {
    "tags": []
   },
   "source": [
    "### Bias verification"
   ]
  },
  {
   "cell_type": "code",
   "execution_count": null,
   "id": "7761429f",
   "metadata": {
    "tags": []
   },
   "outputs": [],
   "source": [
    "for i in range(5):\n",
    "    await latiss.take_bias(nbias=1)\n",
    "    await asyncio.sleep(2.0)"
   ]
  },
  {
   "cell_type": "code",
   "execution_count": null,
   "id": "eb8e7dab-9da0-42a9-995c-34977879aa1a",
   "metadata": {
    "tags": []
   },
   "outputs": [],
   "source": [
    "await atcs.disable_dome_following()"
   ]
  },
  {
   "cell_type": "markdown",
   "id": "3fc32bc5-5f36-4e5a-bcfd-27c3a9eeec21",
   "metadata": {
    "tags": []
   },
   "source": [
    "### Now run the actual test, taking a 30 second image at each location."
   ]
  },
  {
   "cell_type": "code",
   "execution_count": null,
   "id": "449950cc-ce9a-4e4a-8367-fe880a4982b2",
   "metadata": {
    "tags": []
   },
   "outputs": [],
   "source": [
    "# Move to starting location\n",
    "coord=atcs.radec_from_azel(az=220, el=45)\n",
    "await atcs.slew_icrs(coord.ra, coord.dec, rot=0.0, rot_type=RotType.Physical)\n",
    "await latiss.take_darks(30.0, 1)"
   ]
  },
  {
   "cell_type": "code",
   "execution_count": null,
   "id": "cadd4ae3-b5aa-4878-8c98-135a7fd4f0e3",
   "metadata": {},
   "outputs": [],
   "source": [
    "await latiss.take_darks(30.0, 1)"
   ]
  },
  {
   "cell_type": "code",
   "execution_count": null,
   "id": "5bbf7cc6-8fa3-45bf-8303-8a631e3f1352",
   "metadata": {
    "execution": {
     "iopub.execute_input": "2023-04-25T18:07:54.638314Z",
     "iopub.status.busy": "2023-04-25T18:07:54.637906Z",
     "iopub.status.idle": "2023-04-25T18:08:46.392664Z",
     "shell.execute_reply": "2023-04-25T18:08:46.392111Z",
     "shell.execute_reply.started": "2023-04-25T18:07:54.638295Z"
    },
    "tags": []
   },
   "outputs": [],
   "source": [
    "# Move to a region probably free of oscillations\n",
    "coord=atcs.radec_from_azel(az=300, el=45)\n",
    "await atcs.slew_icrs(coord.ra, coord.dec, rot=0.0, rot_type=RotType.Physical)\n",
    "\n",
    "await latiss.take_darks(30.0, 1)"
   ]
  },
  {
   "cell_type": "code",
   "execution_count": null,
   "id": "344de26e-5051-435a-9073-c135771cbdc0",
   "metadata": {
    "tags": []
   },
   "outputs": [],
   "source": [
    "# Move to starting location\n",
    "coord=atcs.radec_from_azel(az=222, el=45)\n",
    "await atcs.slew_icrs(coord.ra, coord.dec, rot=0.0, rot_type=RotType.Physical)\n",
    "coord=atcs.radec_from_azel(az=220, el=45)\n",
    "await atcs.slew_icrs(coord.ra, coord.dec, rot=0.0, rot_type=RotType.Physical)\n",
    "\n",
    "await latiss.take_darks(30.0, 1)"
   ]
  },
  {
   "cell_type": "code",
   "execution_count": null,
   "id": "e4adeb65-0228-4b05-89ca-80ad661f08be",
   "metadata": {
    "tags": []
   },
   "outputs": [],
   "source": [
    "await latiss.take_darks(30.0, 1)"
   ]
  },
  {
   "cell_type": "code",
   "execution_count": null,
   "id": "6897aaac-84b7-4a47-adae-e03bf57288b9",
   "metadata": {
    "tags": []
   },
   "outputs": [],
   "source": [
    "# Now run a test with noise injection of 0.5\n",
    "# First image is 2023042500138\n",
    "coord=atcs.radec_from_azel(az=270, el=45)\n",
    "await atcs.slew_icrs(coord.ra, coord.dec, rot=0.0, rot_type=RotType.Physical)\n",
    "await latiss.take_darks(30.0, 1)\n",
    "az = 270.0\n",
    "await latiss.take_darks(30.0, 1)\n",
    "for i in range(90):\n",
    "    az -= 2.0\n",
    "    coord=atcs.radec_from_azel(az=az, el=45)\n",
    "    await atcs.slew_icrs(coord.ra, coord.dec, rot=0.0, rot_type=RotType.Physical)\n",
    "    await latiss.take_darks(30.0, 1)\n"
   ]
  },
  {
   "cell_type": "code",
   "execution_count": null,
   "id": "3ea5225b",
   "metadata": {
    "execution": {
     "iopub.execute_input": "2023-04-25T18:05:00.171564Z",
     "iopub.status.busy": "2023-04-25T18:05:00.171170Z",
     "iopub.status.idle": "2023-04-25T18:05:00.440611Z",
     "shell.execute_reply": "2023-04-25T18:05:00.439999Z",
     "shell.execute_reply.started": "2023-04-25T18:05:00.171539Z"
    },
    "tags": []
   },
   "outputs": [],
   "source": [
    "# Stop tracking\n",
    "await atcs.stop_tracking()"
   ]
  },
  {
   "cell_type": "markdown",
   "id": "a435880e",
   "metadata": {},
   "source": [
    "## Shutdown all ATCS components"
   ]
  },
  {
   "cell_type": "code",
   "execution_count": null,
   "id": "723d22b0",
   "metadata": {
    "tags": []
   },
   "outputs": [],
   "source": [
    "await atcs.shutdown()"
   ]
  },
  {
   "cell_type": "markdown",
   "id": "621b5407",
   "metadata": {},
   "source": [
    "## Put LATISS in standby"
   ]
  },
  {
   "cell_type": "code",
   "execution_count": null,
   "id": "80517626",
   "metadata": {
    "tags": []
   },
   "outputs": [],
   "source": [
    "await latiss.standby()"
   ]
  },
  {
   "cell_type": "code",
   "execution_count": null,
   "id": "58009d48-693f-452a-b497-ccc6008c1975",
   "metadata": {
    "execution": {
     "iopub.execute_input": "2023-08-17T19:54:45.930408Z",
     "iopub.status.busy": "2023-08-17T19:54:45.929978Z",
     "iopub.status.idle": "2023-08-17T19:54:45.934087Z",
     "shell.execute_reply": "2023-08-17T19:54:45.933545Z",
     "shell.execute_reply.started": "2023-08-17T19:54:45.930390Z"
    }
   },
   "outputs": [],
   "source": [
    "atcs."
   ]
  },
  {
   "cell_type": "code",
   "execution_count": null,
   "id": "4b809405-a7f9-420c-8d55-219aa477d0a3",
   "metadata": {},
   "outputs": [],
   "source": []
  }
 ],
 "metadata": {
  "kernelspec": {
   "display_name": "LSST",
   "language": "python",
   "name": "lsst"
  },
  "language_info": {
   "codemirror_mode": {
    "name": "ipython",
    "version": 3
   },
   "file_extension": ".py",
   "mimetype": "text/x-python",
   "name": "python",
   "nbconvert_exporter": "python",
   "pygments_lexer": "ipython3",
   "version": "3.10.11"
  }
 },
 "nbformat": 4,
 "nbformat_minor": 5
}
