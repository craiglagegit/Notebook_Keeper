{
 "cells": [
  {
   "cell_type": "markdown",
   "metadata": {},
   "source": [
    "## Orienting waffle images with bright star cause\n",
    "\n",
    "Craig Lage 25-Sep-23\n"
   ]
  },
  {
   "cell_type": "code",
   "execution_count": null,
   "metadata": {
    "execution": {
     "iopub.execute_input": "2023-09-27T16:33:18.859956Z",
     "iopub.status.busy": "2023-09-27T16:33:18.859598Z",
     "iopub.status.idle": "2023-09-27T16:33:22.902854Z",
     "shell.execute_reply": "2023-09-27T16:33:22.902070Z",
     "shell.execute_reply.started": "2023-09-27T16:33:18.859925Z"
    },
    "tags": []
   },
   "outputs": [],
   "source": [
    "import sys, time, os, asyncio, glob\n",
    "from datetime import datetime\n",
    "import numpy as np\n",
    "import matplotlib.pyplot as plt\n",
    "from matplotlib.colors import LogNorm\n",
    "import pickle as pkl\n",
    "import pandas as pd\n",
    "import astropy.io.fits as pf\n",
    "from astropy.time import Time, TimeDelta\n",
    "from astropy.coordinates import AltAz, ICRS, EarthLocation, Angle, FK5, SkyCoord\n",
    "import astropy.units as u\n",
    "from lsst.obs.lsst.translators.latiss import AUXTEL_LOCATION\n",
    "import lsst.geom as geom\n",
    "from lsst.daf.butler import Butler\n",
    "from lsst_efd_client import EfdClient\n",
    "from lsst.geom import Box2I, Point2I, SpherePoint\n",
    "from lsst.pipe.tasks.characterizeImage import CharacterizeImageTask, CharacterizeImageConfig"
   ]
  },
  {
   "cell_type": "code",
   "execution_count": null,
   "metadata": {
    "execution": {
     "iopub.execute_input": "2023-09-27T16:33:22.910968Z",
     "iopub.status.busy": "2023-09-27T16:33:22.910601Z",
     "iopub.status.idle": "2023-09-27T16:33:24.175055Z",
     "shell.execute_reply": "2023-09-27T16:33:24.174262Z",
     "shell.execute_reply.started": "2023-09-27T16:33:22.910950Z"
    },
    "tags": []
   },
   "outputs": [],
   "source": [
    "butler = Butler('/repo/LATISS', collections=\"LATISS/runs/quickLook\")"
   ]
  },
  {
   "cell_type": "code",
   "execution_count": null,
   "metadata": {
    "execution": {
     "iopub.execute_input": "2023-09-25T18:36:52.375676Z",
     "iopub.status.busy": "2023-09-25T18:36:52.375333Z",
     "iopub.status.idle": "2023-09-25T18:36:53.055203Z",
     "shell.execute_reply": "2023-09-25T18:36:53.054510Z",
     "shell.execute_reply.started": "2023-09-25T18:36:52.375648Z"
    },
    "tags": []
   },
   "outputs": [],
   "source": [
    "# Now get the image data and the metadata\n",
    "\n",
    "waffles = [[2023052300612, \"HD143275\", 240.08330, -22.622], [2023071800284, \"M8\", 270.904, -24.378], \\\n",
    "          [2023092100484, \"HD216956\", 344.415, -29.6235], [2023092100502, \"HD214952\", 340.6682, -46.8844]]\n",
    "expId = 2023052300612\n",
    "objectRA = Angle(240.08330 * u.deg)\n",
    "objectDec = Angle(-22.622 * u.deg)\n",
    "\n",
    "expId = 2023071800284\n",
    "objectRA = Angle(270.904 * u.deg)\n",
    "objectDec = Angle(-24.378 * u.deg)\n",
    "\n",
    "#expId = 2023092100484\n",
    "#objectRA = Angle(344.415 * u.deg)\n",
    "#objectDec = Angle(-29.6235 * u.deg)\n",
    "\n",
    "#expId = 2023092100502\n",
    "#objectRA = Angle(340.6682 * u.deg)\n",
    "#objectDec = Angle(-46.8844 * u.deg)\n",
    "\n"
   ]
  },
  {
   "cell_type": "code",
   "execution_count": null,
   "metadata": {
    "execution": {
     "iopub.execute_input": "2023-09-27T18:01:09.025270Z",
     "iopub.status.busy": "2023-09-27T18:01:09.024858Z",
     "iopub.status.idle": "2023-09-27T18:01:14.175004Z",
     "shell.execute_reply": "2023-09-27T18:01:14.174391Z",
     "shell.execute_reply.started": "2023-09-27T18:01:09.025241Z"
    },
    "tags": []
   },
   "outputs": [],
   "source": [
    "waffles = [[2023052300612, \"HD143275\", 240.08330, -22.622], [2023071800284, \"M8\", 270.904, -24.378], \\\n",
    "          [2023092100484, \"HD216956\", 344.415, -29.6235], [2023092100502, \"HD214952\", 340.6682, -46.8844]]\n",
    "waffles = [[2023052300612, \"HD142990\", 239.6452, -24.8317], [2023071800284, \"M8\", 270.904, -24.378], \\\n",
    "          [2023092100484, \"HD216956\", 344.415, -29.6235], [2023092100502, \"HD214952\", 340.6682, -46.8844]]\n",
    "waffles = [[2023092100479, \"HD216956\", 344.415, -29.6235]]\n",
    "waffles = [[2023092100475, \"HD216956\", 344.415, -29.6235]]\n",
    "waffles = [[2023092100525, \"HD216956\", 344.41269272, -29.62223703]] # ICRS from simbad\n",
    "for [expId, objectID, RA, Dec] in waffles:\n",
    "    exp = butler.get('quickLookExp', detector=0, exposure=expId)\n",
    "    mData = exp.getMetadata()\n",
    "    date_beg = Time(mData['DATE-BEG'], format='isot', scale='tai')\n",
    "    time = date_beg.utc\n",
    "    print(expId, time)\n",
    "    \n",
    "    objectRA = Angle(RA * u.deg)\n",
    "    objectDec = Angle(Dec * u.deg)\n",
    "\n",
    "    # Used for arrow locations\n",
    "    Ncenter = (700.0, 900.0)\n",
    "    Nlength = 500.0\n",
    "    NcenterAzEl = (3200, 700)\n",
    "    NcenterPA = (3000, 2000)\n",
    "    Nlabel = 650.0\n",
    "    yShift = 150.0\n",
    "    NcenterFW = (3200, 3000)\n",
    "    FW_shift = 100\n",
    "    labelShift = 40\n",
    "\n",
    "    el = Angle(mData['ELSTART'] * u.deg)\n",
    "    az = Angle(mData['AZSTART'] * u.deg)\n",
    "    dec = Angle(mData['DECSTART'] * u.deg)\n",
    "\n",
    "    plt.figure(figsize=(16,16))\n",
    "    arr = exp.image.array\n",
    "    arr = np.clip(arr, 1, 100000) # This image has some negative values, and this removes them\n",
    "    img = plt.imshow(arr, norm=LogNorm(vmin=1000, vmax=100000),  interpolation='Nearest', cmap='gray')\n",
    "\n",
    "    # Get Az, El shift from wcs:\n",
    "    wcs = exp.getWcs()\n",
    "    origin = wcs.getSkyOrigin()\n",
    "    vi = exp.getInfo().getVisitInfo()\n",
    "\n",
    "    skyLocation = SkyCoord(origin.getRa().asRadians(), origin.getDec().asRadians(), unit=u.rad)\n",
    "    altAz = AltAz(obstime=vi.date.toPython(), location=AUXTEL_LOCATION)\n",
    "    obsAltAz = skyLocation.transform_to(altAz)\n",
    "    shiftInArcsec = 50.0\n",
    "    altShifted = SkyCoord(obsAltAz.az, obsAltAz.alt + Angle(shiftInArcsec * u.arcsec), frame=altAz)\n",
    "    altShiftedSpherePoint = SpherePoint(altShifted.icrs.ra.deg*geom.degrees, altShifted.icrs.dec.deg*geom.degrees)\n",
    "    azShifted = SkyCoord(obsAltAz.az + Angle(shiftInArcsec / np.cos(obsAltAz.alt) * u.arcsec), obsAltAz.alt, frame=altAz)\n",
    "    azShiftedSpherePoint = SpherePoint(azShifted.icrs.ra.deg*geom.degrees, azShifted.icrs.dec.deg*geom.degrees)\n",
    "    originPixel = wcs.skyToPixel(origin)\n",
    "    altShiftedPixel = wcs.skyToPixel(altShiftedSpherePoint)\n",
    "    altShift = altShiftedPixel - originPixel\n",
    "    azShiftedPixel = wcs.skyToPixel(azShiftedSpherePoint)\n",
    "    azShift = azShiftedPixel - originPixel\n",
    "\n",
    "    # Now plot the Az El arrows as determined by wcs\n",
    "    plt.arrow(originPixel.x, originPixel.y, azShift.x, azShift.y,\\\n",
    "        color='orange', width = 20)\n",
    "    plt.text(azShiftedPixel.x + labelShift, azShiftedPixel.y + labelShift  , 'AZ - WCS', fontsize=12, weight='bold', color='orange')\n",
    "    plt.arrow(originPixel.x, originPixel.y, altShift.x, altShift.y,\\\n",
    "        color='orange', width = 20)    \n",
    "    plt.text(altShiftedPixel.x + labelShift  , altShiftedPixel.y + labelShift  , 'EL - WCS', fontsize=12, weight='bold', color='orange')\n",
    "\n",
    "\n",
    "    # Get N, E shift from wcs:\n",
    "    decShifted = SkyCoord(skyLocation.ra, skyLocation.dec + Angle(shiftInArcsec * u.arcsec))\n",
    "    decShiftedSpherePoint = SpherePoint(decShifted.ra.deg*geom.degrees, decShifted.dec.deg*geom.degrees)\n",
    "    raShifted = SkyCoord(skyLocation.ra + Angle((shiftInArcsec / np.cos(skyLocation.dec)) * u.arcsec), skyLocation.dec)\n",
    "    raShiftedSpherePoint = SpherePoint(raShifted.ra.deg*geom.degrees, raShifted.dec.deg*geom.degrees)\n",
    "    originPixel = wcs.skyToPixel(origin)\n",
    "    decShiftedPixel = wcs.skyToPixel(decShiftedSpherePoint)\n",
    "    decShift = decShiftedPixel - originPixel\n",
    "    raShiftedPixel = wcs.skyToPixel(raShiftedSpherePoint)\n",
    "    raShift = raShiftedPixel - originPixel\n",
    "\n",
    "    # Now plot the N E arrows as determined by wcs\n",
    "    plt.arrow(originPixel.x, originPixel.y, decShift.x, decShift.y,\\\n",
    "        color='magenta', width = 20)\n",
    "    plt.text(decShiftedPixel.x + labelShift, decShiftedPixel.y + labelShift  , 'N - WCS', fontsize=12, weight='bold', color='magenta')\n",
    "    plt.arrow(originPixel.x, originPixel.y, raShift.x, raShift.y,\\\n",
    "       color='magenta', width = 20)    \n",
    "    plt.text(raShiftedPixel.x + labelShift  , raShiftedPixel.y + labelShift  , 'E - WCS', fontsize=12, weight='bold', color='magenta')\n",
    "\n",
    "    # Now plot the N, E arrows as determined by ROTPA\n",
    "    rotpa = Angle(mData['ROTPA']*u.deg)\n",
    "    plt.arrow(Ncenter[0], Ncenter[1], -Nlength*np.sin(rotpa.rad), Nlength*np.cos(rotpa.rad),\\\n",
    "              color='lightgreen', width = 20)\n",
    "    plt.text(Ncenter[0]-Nlabel*np.sin(rotpa),Ncenter[1]+Nlabel*np.cos(rotpa), 'N', \\\n",
    "        color='lightgreen', fontsize=12, weight='bold')\n",
    "    plt.arrow(Ncenter[0],Ncenter[1], Nlength*np.cos(rotpa.rad), Nlength*np.sin(rotpa.rad),\\\n",
    "        color='lightgreen', width = 20)\n",
    "    plt.text(Ncenter[0]+Nlabel*np.cos(rotpa),Ncenter[1]+Nlabel*np.sin(rotpa), 'E', \\\n",
    "        color='lightgreen', fontsize=12, weight='bold')\n",
    "\n",
    "    # Now calculate and plot the Az, El arrows from my algorithm\n",
    "    sinTheta = max(-1.0, min(1.0,float(np.cos(AUXTEL_LOCATION.lat) / np.cos(dec) * np.sin(az))))\n",
    "    cosTheta = (np.sin(el) * np.sin(dec) - np.sin(AUXTEL_LOCATION.lat)) / (np.cos(el) * np.cos(dec))\n",
    "    #print(sinTheta, cosTheta)\n",
    "    theta = Angle(np.arcsin(sinTheta) * u.rad)\n",
    "    if cosTheta > 0:\n",
    "        rotAzEl = rotpa - theta\n",
    "    else:    \n",
    "        rotAzEl = rotpa - (Angle(180.0 * u.deg) - theta)\n",
    "\n",
    "\n",
    "    plt.arrow(NcenterAzEl[0],NcenterAzEl[1], Nlength*np.sin(rotAzEl.rad),-Nlength*np.cos(rotAzEl.rad),\\\n",
    "        color='cyan', width = 20)\n",
    "    plt.text(NcenterAzEl[0] + Nlabel*np.sin(rotAzEl),NcenterAzEl[1] - Nlabel*np.cos(rotAzEl), 'EL', \\\n",
    "        color='cyan', fontsize=12, weight='bold')\n",
    "    plt.arrow(NcenterAzEl[0],NcenterAzEl[1], Nlength*np.cos(rotAzEl.rad), Nlength*np.sin(rotAzEl.rad),\\\n",
    "        color='cyan', width = 20)\n",
    "    plt.text(NcenterAzEl[0]+Nlabel*np.cos(rotAzEl),NcenterAzEl[1]+Nlabel*np.sin(rotAzEl), 'AZ', \\\n",
    "        color='cyan', fontsize=12, weight='bold')\n",
    "\n",
    "\n",
    "    #print(az.deg, el.deg)\n",
    "    #print(theta.deg, rotpa.deg, rotAzEl.deg)\n",
    "\n",
    "    object = SkyCoord(objectRA, objectDec)\n",
    "    objectSpherePoint = SpherePoint(object.icrs.ra.deg*geom.degrees, object.icrs.dec.deg*geom.degrees)\n",
    "    objectPixels = wcs.skyToPixel(objectSpherePoint)\n",
    "    plt.text(objectPixels.x, objectPixels.y, \"X\", fontsize=48, color='red')\n",
    "    print(objectPixels.x, objectPixels.y, \\\n",
    "          f\"Total distance = {np.sqrt(objectPixels.x**2+objectPixels.y**2)/10.0/3600.0} degrees\")\n",
    "    #plt.xlim(-10000, 5000)\n",
    "    #plt.ylim(-10000, 5000)\n",
    "    plt.savefig(f'/home/craiglagegit/DATA/Waffle_{expId}.png')"
   ]
  },
  {
   "cell_type": "code",
   "execution_count": null,
   "metadata": {
    "execution": {
     "iopub.execute_input": "2023-09-25T11:40:29.479529Z",
     "iopub.status.busy": "2023-09-25T11:40:29.479146Z",
     "iopub.status.idle": "2023-09-25T11:40:29.485453Z",
     "shell.execute_reply": "2023-09-25T11:40:29.484772Z",
     "shell.execute_reply.started": "2023-09-25T11:40:29.479499Z"
    },
    "tags": []
   },
   "outputs": [],
   "source": [
    "rotpa.rad"
   ]
  },
  {
   "cell_type": "code",
   "execution_count": null,
   "metadata": {
    "execution": {
     "iopub.execute_input": "2023-09-25T11:46:22.931864Z",
     "iopub.status.busy": "2023-09-25T11:46:22.931477Z",
     "iopub.status.idle": "2023-09-25T11:46:22.937104Z",
     "shell.execute_reply": "2023-09-25T11:46:22.936240Z",
     "shell.execute_reply.started": "2023-09-25T11:46:22.931835Z"
    },
    "tags": []
   },
   "outputs": [],
   "source": [
    "print(origin.getRa().asDegrees(), origin.getDec().asDegrees())"
   ]
  },
  {
   "cell_type": "code",
   "execution_count": null,
   "metadata": {
    "execution": {
     "iopub.execute_input": "2023-09-25T11:53:02.914848Z",
     "iopub.status.busy": "2023-09-25T11:53:02.914465Z",
     "iopub.status.idle": "2023-09-25T11:53:02.920082Z",
     "shell.execute_reply": "2023-09-25T11:53:02.919267Z",
     "shell.execute_reply.started": "2023-09-25T11:53:02.914817Z"
    },
    "tags": []
   },
   "outputs": [],
   "source": [
    "objectRA = Angle(240.08330 * u.deg)\n",
    "objectDec = Angle(-22.622 * u.deg)"
   ]
  },
  {
   "cell_type": "code",
   "execution_count": null,
   "metadata": {
    "execution": {
     "iopub.execute_input": "2023-09-25T11:53:29.262888Z",
     "iopub.status.busy": "2023-09-25T11:53:29.262096Z",
     "iopub.status.idle": "2023-09-25T11:53:29.267816Z",
     "shell.execute_reply": "2023-09-25T11:53:29.267100Z",
     "shell.execute_reply.started": "2023-09-25T11:53:29.262857Z"
    },
    "tags": []
   },
   "outputs": [],
   "source": [
    "object = SkyCoord(objectRA, objectDec)"
   ]
  },
  {
   "cell_type": "code",
   "execution_count": null,
   "metadata": {
    "execution": {
     "iopub.execute_input": "2023-09-25T11:54:59.562261Z",
     "iopub.status.busy": "2023-09-25T11:54:59.561857Z",
     "iopub.status.idle": "2023-09-25T11:54:59.568099Z",
     "shell.execute_reply": "2023-09-25T11:54:59.567393Z",
     "shell.execute_reply.started": "2023-09-25T11:54:59.562231Z"
    },
    "tags": []
   },
   "outputs": [],
   "source": [
    "objectSpherePoint = SpherePoint(object.icrs.ra.deg*geom.degrees, object.icrs.dec.deg*geom.degrees)"
   ]
  },
  {
   "cell_type": "code",
   "execution_count": null,
   "metadata": {
    "execution": {
     "iopub.execute_input": "2023-09-25T11:56:58.961157Z",
     "iopub.status.busy": "2023-09-25T11:56:58.960790Z",
     "iopub.status.idle": "2023-09-25T11:56:58.965905Z",
     "shell.execute_reply": "2023-09-25T11:56:58.964961Z",
     "shell.execute_reply.started": "2023-09-25T11:56:58.961118Z"
    },
    "tags": []
   },
   "outputs": [],
   "source": [
    "objectPixels = wcs.skyToPixel(objectSpherePoint)"
   ]
  },
  {
   "cell_type": "code",
   "execution_count": null,
   "metadata": {
    "execution": {
     "iopub.execute_input": "2023-09-25T12:01:17.086371Z",
     "iopub.status.busy": "2023-09-25T12:01:17.085991Z",
     "iopub.status.idle": "2023-09-25T12:01:17.092186Z",
     "shell.execute_reply": "2023-09-25T12:01:17.091471Z",
     "shell.execute_reply.started": "2023-09-25T12:01:17.086340Z"
    },
    "tags": []
   },
   "outputs": [],
   "source": [
    "objectPixels.y"
   ]
  },
  {
   "cell_type": "code",
   "execution_count": null,
   "metadata": {
    "execution": {
     "iopub.execute_input": "2023-09-25T16:46:51.537286Z",
     "iopub.status.busy": "2023-09-25T16:46:51.536882Z",
     "iopub.status.idle": "2023-09-25T16:46:51.543377Z",
     "shell.execute_reply": "2023-09-25T16:46:51.542582Z",
     "shell.execute_reply.started": "2023-09-25T16:46:51.537252Z"
    },
    "tags": []
   },
   "outputs": [],
   "source": [
    "sinTheta =  np.cos(AUXTEL_LOCATION.lat) / np.cos(dec) * np.sin(az)"
   ]
  },
  {
   "cell_type": "code",
   "execution_count": null,
   "metadata": {
    "execution": {
     "iopub.execute_input": "2023-09-25T16:46:55.694961Z",
     "iopub.status.busy": "2023-09-25T16:46:55.694628Z",
     "iopub.status.idle": "2023-09-25T16:46:55.701360Z",
     "shell.execute_reply": "2023-09-25T16:46:55.700603Z",
     "shell.execute_reply.started": "2023-09-25T16:46:55.694934Z"
    },
    "tags": []
   },
   "outputs": [],
   "source": [
    "sinTheta"
   ]
  },
  {
   "cell_type": "code",
   "execution_count": null,
   "metadata": {},
   "outputs": [],
   "source": []
  }
 ],
 "metadata": {
  "kernelspec": {
   "display_name": "LSST",
   "language": "python",
   "name": "lsst"
  },
  "language_info": {
   "codemirror_mode": {
    "name": "ipython",
    "version": 3
   },
   "file_extension": ".py",
   "mimetype": "text/x-python",
   "name": "python",
   "nbconvert_exporter": "python",
   "pygments_lexer": "ipython3",
   "version": "3.11.4"
  }
 },
 "nbformat": 4,
 "nbformat_minor": 4
}
