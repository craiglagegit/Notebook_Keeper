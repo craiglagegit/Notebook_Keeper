{
 "cells": [
  {
   "cell_type": "code",
   "execution_count": null,
   "metadata": {
    "execution": {
     "iopub.execute_input": "2023-04-19T16:02:12.824216Z",
     "iopub.status.busy": "2023-04-19T16:02:12.823928Z",
     "iopub.status.idle": "2023-04-19T16:02:13.250647Z",
     "shell.execute_reply": "2023-04-19T16:02:13.250184Z",
     "shell.execute_reply.started": "2023-04-19T16:02:12.824192Z"
    },
    "tags": []
   },
   "outputs": [],
   "source": [
    "import sys, time, os, asyncio, glob\n",
    "from datetime import datetime\n",
    "import numpy as np\n",
    "import matplotlib.pyplot as plt\n",
    "import pickle as pkl\n",
    "from astropy.time import Time, TimeDelta\n",
    "\n",
    "from lsst_efd_client import EfdClient"
   ]
  },
  {
   "cell_type": "code",
   "execution_count": null,
   "metadata": {
    "execution": {
     "iopub.execute_input": "2023-04-19T16:02:14.411399Z",
     "iopub.status.busy": "2023-04-19T16:02:14.411121Z",
     "iopub.status.idle": "2023-04-19T16:02:16.100657Z",
     "shell.execute_reply": "2023-04-19T16:02:16.100095Z",
     "shell.execute_reply.started": "2023-04-19T16:02:14.411384Z"
    },
    "tags": []
   },
   "outputs": [],
   "source": [
    "client = EfdClient('summit_efd')"
   ]
  },
  {
   "cell_type": "code",
   "execution_count": null,
   "metadata": {
    "execution": {
     "iopub.execute_input": "2023-04-19T16:11:28.099842Z",
     "iopub.status.busy": "2023-04-19T16:11:28.099572Z",
     "iopub.status.idle": "2023-04-19T16:11:28.700849Z",
     "shell.execute_reply": "2023-04-19T16:11:28.700398Z",
     "shell.execute_reply.started": "2023-04-19T16:11:28.099826Z"
    },
    "tags": []
   },
   "outputs": [],
   "source": [
    "# Now let's try to expand it to the whole run\n",
    "start = Time(\"2023-03-23T09:40:00\", scale='utc')\n",
    "end = Time(\"2023-03-23T10:00:00\", scale='utc')\n",
    "\n",
    "az = await client.select_time_series('lsst.sal.MTMount.azimuth', \\\n",
    "                                            ['actualPosition', 'timestamp'],  start, end)\n",
    "el = await client.select_time_series('lsst.sal.MTMount.elevation', \\\n",
    "                                            ['actualPosition', 'timestamp'],  start, end)    \n",
    "\n",
    "az_track = await client.select_time_series('lsst.sal.MTMount.command_trackTarget', \\\n",
    "                                            ['azimuth', 'taiTime'],  start, end)\n",
    "el_track = await client.select_time_series('lsst.sal.MTMount.command_trackTarget', \\\n",
    "                                            ['elevation', 'taiTime'],  start, end)   \n",
    "print(len(az_track), len(el_track))"
   ]
  },
  {
   "cell_type": "code",
   "execution_count": null,
   "metadata": {
    "execution": {
     "iopub.execute_input": "2023-04-19T16:11:28.840243Z",
     "iopub.status.busy": "2023-04-19T16:11:28.839982Z",
     "iopub.status.idle": "2023-04-19T16:11:29.098638Z",
     "shell.execute_reply": "2023-04-19T16:11:29.098233Z",
     "shell.execute_reply.started": "2023-04-19T16:11:28.840228Z"
    },
    "tags": []
   },
   "outputs": [],
   "source": [
    "az['actualPosition'].plot()"
   ]
  },
  {
   "cell_type": "code",
   "execution_count": null,
   "metadata": {
    "execution": {
     "iopub.execute_input": "2023-04-19T16:11:37.310788Z",
     "iopub.status.busy": "2023-04-19T16:11:37.310515Z",
     "iopub.status.idle": "2023-04-19T16:11:37.329322Z",
     "shell.execute_reply": "2023-04-19T16:11:37.328712Z",
     "shell.execute_reply.started": "2023-04-19T16:11:37.310770Z"
    },
    "tags": []
   },
   "outputs": [],
   "source": [
    "azPos = await client.select_time_series('lsst.sal.MTMount.logevent_azimuthInPosition', \\\n",
    "                                            ['inPosition', 'private_kafkaStamp'],  start, end)\n",
    "azPos = azPos[azPos['inPosition']] # Select only the True values\n",
    "elPos = await client.select_time_series('lsst.sal.MTMount.logevent_elevationInPosition', \\\n",
    "                                            ['inPosition', 'private_kafkaStamp'],  start, end)\n",
    "elPos = elPos[elPos['inPosition']] # Select only the True values\n",
    "print(len(azPos), len(elPos))"
   ]
  },
  {
   "cell_type": "code",
   "execution_count": null,
   "metadata": {
    "execution": {
     "iopub.execute_input": "2023-04-19T16:11:40.772777Z",
     "iopub.status.busy": "2023-04-19T16:11:40.772505Z",
     "iopub.status.idle": "2023-04-19T16:11:40.803047Z",
     "shell.execute_reply": "2023-04-19T16:11:40.802650Z",
     "shell.execute_reply.started": "2023-04-19T16:11:40.772761Z"
    },
    "tags": []
   },
   "outputs": [],
   "source": [
    "# Find all of the time stamps\n",
    "\n",
    "# Start with start_slew times\n",
    "\n",
    "azs = az_track.values[:,0]\n",
    "els = el_track.values[:,0]\n",
    "times = az_track.values[:,1]\n",
    "start_slew_times_1 = []\n",
    "slew_dist_1 = []\n",
    "slew_times_1 = []\n",
    "for i in range(1,len(az_track)):\n",
    "    az_shift = abs(azs[i] - azs[i-1])\n",
    "    el_shift = abs(els[i] - els[i-1])\n",
    "    if (az_shift > 0.1) or (el_shift > 0.1):\n",
    "        start_slew_times_1.append(times[i])\n",
    "        az_shift_mod = az_shift * np.cos(els[i]*np.pi/180.0)\n",
    "        shift = np.sqrt(el_shift*el_shift + az_shift_mod*az_shift_mod)\n",
    "        slew_dist_1.append(shift)\n",
    "print(len(start_slew_times_1))\n",
    "\n",
    "# Now in position timestamps\n",
    "\n",
    "inPos_1 = []\n",
    "azPosValues = azPos.values[:,1]\n",
    "elPosValues = elPos.values[:,1]\n",
    "\n",
    "for i in range(len(azPos)):\n",
    "    if azPosValues[i] > elPosValues[i]:\n",
    "        inPos_1.append(azPosValues[i])\n",
    "    else:\n",
    "        inPos_1.append(elPosValues[i])\n",
    "\n",
    "print(len(inPos_1))\n",
    "\n",
    "# Now pair them up\n",
    "\n",
    "pairMin = 1.0\n",
    "pairMax = 6.0\n",
    "\n",
    "start_slew_times = []\n",
    "slew_dist = []\n",
    "slew_times = []\n",
    "inPos = []\n",
    "\n",
    "for i in range(len(start_slew_times_1)):\n",
    "    for j in range(len(inPos_1)):\n",
    "        deltaT = inPos_1[j] - start_slew_times_1[i] \n",
    "        if deltaT > pairMin and deltaT < pairMax:\n",
    "            inPos.append(inPos_1[j])\n",
    "            start_slew_times.append(start_slew_times_1[i])\n",
    "            slew_times.append(deltaT)\n",
    "            slew_dist.append(slew_dist_1[i])\n",
    "        \n",
    "print(len(inPos), len(start_slew_times), len(slew_times), len(slew_dist))"
   ]
  },
  {
   "cell_type": "code",
   "execution_count": null,
   "metadata": {
    "execution": {
     "iopub.execute_input": "2023-04-19T17:17:23.130487Z",
     "iopub.status.busy": "2023-04-19T17:17:23.130213Z",
     "iopub.status.idle": "2023-04-19T17:17:23.982630Z",
     "shell.execute_reply": "2023-04-19T17:17:23.982174Z",
     "shell.execute_reply.started": "2023-04-19T17:17:23.130471Z"
    },
    "tags": []
   },
   "outputs": [],
   "source": [
    "# Plotting the mount plots\n",
    "fig = plt.figure(figsize = (8,8))\n",
    "for index in [5]:#range(len(inPos) - 1):\n",
    "\n",
    "    plotAz = az[(az['timestamp'] > inPos[index]-10.0) & (az['timestamp'] < start_slew_times[index+1])]\n",
    "    plotEl = el[(el['timestamp'] > inPos[index]-10.0) & (el['timestamp'] < start_slew_times[index+1])]\n",
    "    ss_time = Time(start_slew_times[index+1], format='unix_tai', scale='utc').isot\n",
    "    ip_time = Time(inPos[index], format='unix_tai', scale='utc').isot\n",
    "\n",
    "    fig.clear()\n",
    "    plt.subplots_adjust(wspace=0.3, hspace=0.5)\n",
    "    plt.suptitle(f\"MT Mount Jitter - {ip_time}\", fontsize = 18)\n",
    "    plt.subplot(3,2,1)\n",
    "    ax1 = plotAz['actualPosition'].plot(legend=True, color='red')\n",
    "    ax1.axvline(ss_time, color=\"black\", linestyle=\"--\", label=\"Start slew\")\n",
    "    ax1.axvline(ip_time, color=\"blue\", linestyle=\"--\", label=\"InPosition\")\n",
    "    ax1.set_title(f\"Azimuth\")\n",
    "    ax1.set_ylabel(\"Degrees\")\n",
    "    ax1.legend()\n",
    "    plt.subplot(3,2,2)\n",
    "    ax2 = plotEl['actualPosition'].plot(legend=True, color='green')\n",
    "    ax2.axvline(ss_time, color=\"black\", linestyle=\"--\", label=\"Start slew\")\n",
    "    ax2.axvline(ip_time, color=\"blue\", linestyle=\"--\", label=\"InPosition\")\n",
    "    ax2.set_title(f\"Elevation\")\n",
    "    ax2.set_ylabel(\"Degrees\")\n",
    "    ax2.legend()\n",
    "    \n",
    "    plotAz = az[(az['timestamp'] > inPos[index]) & (az['timestamp'] < start_slew_times[index+1])]\n",
    "    plotEl = el[(el['timestamp'] > inPos[index]) & (el['timestamp'] < start_slew_times[index+1])]\n",
    "\n",
    "    plotAzTrack = az_track[(az_track['taiTime'] > inPos[index]) & (az_track['taiTime'] < start_slew_times[index+1])]\n",
    "    plotElTrack = el_track[(el_track['taiTime'] > inPos[index]) & (el_track['taiTime'] < start_slew_times[index+1])]\n",
    "\n",
    "    plt.subplot(3,2,3)\n",
    "    plt.title(\"Azimuth\")\n",
    "    plt.plot(plotAz.values[:,1], plotAz.values[:,0], color='red', label='Measured')\n",
    "    plt.plot(plotAzTrack.values[:,1], plotAzTrack.values[:,0], color='blue', ls='--', label='Commanded')\n",
    "    plt.ylabel(\"Degrees\")\n",
    "    plt.xlim(1679564860.4, 1679564860.6)\n",
    "    plt.ylim(-39.316, -39.314)\n",
    "    plt.legend()\n",
    "    plt.subplot(3,2,4)\n",
    "    plt.title(\"Elevation\")\n",
    "    plt.plot(plotEl.values[:,1], plotEl.values[:,0], color='green', label='Measured')\n",
    "    plt.plot(plotElTrack.values[:,1], plotElTrack.values[:,0], color='magenta', ls='--', label='Commanded')\n",
    "    plt.ylabel(\"Degrees\")\n",
    "    plt.xlim(1679564860.4, 1679564860.6)\n",
    "    plt.ylim(25.539, 25.541)\n",
    "    plt.legend()\n",
    "    \n",
    "    # Calculate the difference between measured and commanded\n",
    "    plotAzTrackAtPlotAzTimes = np.interp(plotAz.values[:,1], plotAzTrack.values[:,1], plotAzTrack.values[:,0])\n",
    "    azErrors = (plotAz.values[:,0] - plotAzTrackAtPlotAzTimes) * 3600.0\n",
    "    plotElTrackAtPlotElTimes = np.interp(plotEl.values[:,1], plotElTrack.values[:,1], plotElTrack.values[:,0])\n",
    "    elErrors = (plotEl.values[:,0] - plotElTrackAtPlotElTimes) * 3600.0\n",
    "    \n",
    "    plt.subplot(3,2,5)\n",
    "    plt.title(\"Measured - Commanded\")\n",
    "    plt.plot(plotAz.values[:,1], azErrors, color='r')\n",
    "    plt.ylabel(\"Error(arcseconds)\")\n",
    "    plt.ylim(-1.0, 1.0)\n",
    "    plt.subplot(3,2,6)\n",
    "    plt.title(\"Measured - Commanded\")\n",
    "    plt.plot(plotEl.values[:,1], elErrors, color='g')\n",
    "    plt.ylabel(\"Error(arcseconds)\")\n",
    "    plt.ylim(-1.0, 1.0)\n",
    "\n",
    "    \n",
    "    \n",
    "    timestamp = ip_time.split('.')[0].replace('-','').replace(':','')\n",
    "    plt.savefig(f\"/home/craiglagegit/DATA/MTMount_22mar23/MT_Mount_Measured_vs_Commanded_BlowUp_{timestamp}.pdf\")\n",
    "\n"
   ]
  },
  {
   "cell_type": "code",
   "execution_count": null,
   "metadata": {},
   "outputs": [],
   "source": []
  },
  {
   "cell_type": "code",
   "execution_count": null,
   "metadata": {
    "execution": {
     "iopub.execute_input": "2023-04-19T17:39:18.551011Z",
     "iopub.status.busy": "2023-04-19T17:39:18.550732Z",
     "iopub.status.idle": "2023-04-19T17:39:19.845216Z",
     "shell.execute_reply": "2023-04-19T17:39:19.844744Z",
     "shell.execute_reply.started": "2023-04-19T17:39:18.550994Z"
    },
    "tags": []
   },
   "outputs": [],
   "source": [
    "# Now let's try to expand it to the whole run\n",
    "start = Time(\"2023-03-23T09:40:00\", scale='utc')\n",
    "end = Time(\"2023-03-23T10:00:00\", scale='utc')\n",
    "\n",
    "az = await client.select_time_series('lsst.sal.MTMount.azimuth', \\\n",
    "                                            ['actualPosition', 'demandPosition', 'timestamp'],  start, end)\n",
    "el = await client.select_time_series('lsst.sal.MTMount.elevation', \\\n",
    "                                            ['actualPosition', 'demandPosition', 'timestamp'],  start, end)    \n",
    "\n",
    "az_track = await client.select_time_series('lsst.sal.MTMount.command_trackTarget', \\\n",
    "                                            ['azimuth', 'taiTime'],  start, end)\n",
    "el_track = await client.select_time_series('lsst.sal.MTMount.command_trackTarget', \\\n",
    "                                            ['elevation', 'taiTime'],  start, end)   \n",
    "print(len(az_track), len(el_track))"
   ]
  },
  {
   "cell_type": "code",
   "execution_count": null,
   "metadata": {
    "execution": {
     "iopub.execute_input": "2023-04-19T17:39:23.144014Z",
     "iopub.status.busy": "2023-04-19T17:39:23.143733Z",
     "iopub.status.idle": "2023-04-19T17:39:23.403945Z",
     "shell.execute_reply": "2023-04-19T17:39:23.403478Z",
     "shell.execute_reply.started": "2023-04-19T17:39:23.143998Z"
    },
    "tags": []
   },
   "outputs": [],
   "source": [
    "az['actualPosition'].plot()"
   ]
  },
  {
   "cell_type": "code",
   "execution_count": null,
   "metadata": {
    "execution": {
     "iopub.execute_input": "2023-04-19T17:39:26.318517Z",
     "iopub.status.busy": "2023-04-19T17:39:26.318243Z",
     "iopub.status.idle": "2023-04-19T17:39:26.330797Z",
     "shell.execute_reply": "2023-04-19T17:39:26.330356Z",
     "shell.execute_reply.started": "2023-04-19T17:39:26.318501Z"
    },
    "tags": []
   },
   "outputs": [],
   "source": [
    "azPos = await client.select_time_series('lsst.sal.MTMount.logevent_azimuthInPosition', \\\n",
    "                                            ['inPosition', 'private_kafkaStamp'],  start, end)\n",
    "azPos = azPos[azPos['inPosition']] # Select only the True values\n",
    "elPos = await client.select_time_series('lsst.sal.MTMount.logevent_elevationInPosition', \\\n",
    "                                            ['inPosition', 'private_kafkaStamp'],  start, end)\n",
    "elPos = elPos[elPos['inPosition']] # Select only the True values\n",
    "print(len(azPos), len(elPos))"
   ]
  },
  {
   "cell_type": "code",
   "execution_count": null,
   "metadata": {
    "execution": {
     "iopub.execute_input": "2023-04-19T17:39:28.341825Z",
     "iopub.status.busy": "2023-04-19T17:39:28.341551Z",
     "iopub.status.idle": "2023-04-19T17:39:28.372054Z",
     "shell.execute_reply": "2023-04-19T17:39:28.371649Z",
     "shell.execute_reply.started": "2023-04-19T17:39:28.341809Z"
    },
    "tags": []
   },
   "outputs": [],
   "source": [
    "# Find all of the time stamps\n",
    "\n",
    "# Start with start_slew times\n",
    "\n",
    "azs = az_track.values[:,0]\n",
    "els = el_track.values[:,0]\n",
    "times = az_track.values[:,1]\n",
    "start_slew_times_1 = []\n",
    "slew_dist_1 = []\n",
    "slew_times_1 = []\n",
    "for i in range(1,len(az_track)):\n",
    "    az_shift = abs(azs[i] - azs[i-1])\n",
    "    el_shift = abs(els[i] - els[i-1])\n",
    "    if (az_shift > 0.1) or (el_shift > 0.1):\n",
    "        start_slew_times_1.append(times[i])\n",
    "        az_shift_mod = az_shift * np.cos(els[i]*np.pi/180.0)\n",
    "        shift = np.sqrt(el_shift*el_shift + az_shift_mod*az_shift_mod)\n",
    "        slew_dist_1.append(shift)\n",
    "print(len(start_slew_times_1))\n",
    "\n",
    "# Now in position timestamps\n",
    "\n",
    "inPos_1 = []\n",
    "azPosValues = azPos.values[:,1]\n",
    "elPosValues = elPos.values[:,1]\n",
    "\n",
    "for i in range(len(azPos)):\n",
    "    if azPosValues[i] > elPosValues[i]:\n",
    "        inPos_1.append(azPosValues[i])\n",
    "    else:\n",
    "        inPos_1.append(elPosValues[i])\n",
    "\n",
    "print(len(inPos_1))\n",
    "\n",
    "# Now pair them up\n",
    "\n",
    "pairMin = 1.0\n",
    "pairMax = 6.0\n",
    "\n",
    "start_slew_times = []\n",
    "slew_dist = []\n",
    "slew_times = []\n",
    "inPos = []\n",
    "\n",
    "for i in range(len(start_slew_times_1)):\n",
    "    for j in range(len(inPos_1)):\n",
    "        deltaT = inPos_1[j] - start_slew_times_1[i] \n",
    "        if deltaT > pairMin and deltaT < pairMax:\n",
    "            inPos.append(inPos_1[j])\n",
    "            start_slew_times.append(start_slew_times_1[i])\n",
    "            slew_times.append(deltaT)\n",
    "            slew_dist.append(slew_dist_1[i])\n",
    "        \n",
    "print(len(inPos), len(start_slew_times), len(slew_times), len(slew_dist))"
   ]
  },
  {
   "cell_type": "code",
   "execution_count": null,
   "metadata": {
    "execution": {
     "iopub.execute_input": "2023-04-19T17:45:23.652517Z",
     "iopub.status.busy": "2023-04-19T17:45:23.652246Z",
     "iopub.status.idle": "2023-04-19T17:45:24.465679Z",
     "shell.execute_reply": "2023-04-19T17:45:24.465269Z",
     "shell.execute_reply.started": "2023-04-19T17:45:23.652501Z"
    },
    "tags": []
   },
   "outputs": [],
   "source": [
    "# Plotting the mount plots\n",
    "fig = plt.figure(figsize = (8,8))\n",
    "for index in [5]:#range(len(inPos) - 1):\n",
    "\n",
    "    plotAz = az[(az['timestamp'] > inPos[index]-10.0) & (az['timestamp'] < start_slew_times[index+1])]\n",
    "    plotEl = el[(el['timestamp'] > inPos[index]-10.0) & (el['timestamp'] < start_slew_times[index+1])]\n",
    "    ss_time = Time(start_slew_times[index+1], format='unix_tai', scale='utc').isot\n",
    "    ip_time = Time(inPos[index], format='unix_tai', scale='utc').isot\n",
    "\n",
    "    fig.clear()\n",
    "    plt.subplots_adjust(wspace=0.3, hspace=0.5)\n",
    "    plt.suptitle(f\"MT Mount Jitter - {ip_time}\", fontsize = 18)\n",
    "    plt.subplot(3,2,1)\n",
    "    ax1 = plotAz['actualPosition'].plot(legend=True, color='red')\n",
    "    ax1.axvline(ss_time, color=\"black\", linestyle=\"--\", label=\"Start slew\")\n",
    "    ax1.axvline(ip_time, color=\"blue\", linestyle=\"--\", label=\"InPosition\")\n",
    "    ax1.set_title(f\"Azimuth\")\n",
    "    ax1.set_ylabel(\"Degrees\")\n",
    "    ax1.legend()\n",
    "    plt.subplot(3,2,2)\n",
    "    ax2 = plotEl['actualPosition'].plot(legend=True, color='green')\n",
    "    ax2.axvline(ss_time, color=\"black\", linestyle=\"--\", label=\"Start slew\")\n",
    "    ax2.axvline(ip_time, color=\"blue\", linestyle=\"--\", label=\"InPosition\")\n",
    "    ax2.set_title(f\"Elevation\")\n",
    "    ax2.set_ylabel(\"Degrees\")\n",
    "    ax2.legend()\n",
    "    \n",
    "    plotAz = az[(az['timestamp'] > inPos[index]) & (az['timestamp'] < start_slew_times[index+1])]\n",
    "    plotEl = el[(el['timestamp'] > inPos[index]) & (el['timestamp'] < start_slew_times[index+1])]\n",
    "\n",
    "    plt.subplot(3,2,3)\n",
    "    plt.title(\"Azimuth\")\n",
    "    plt.plot(plotAz.values[:,2], plotAz.values[:,0], color='red', label='Measured')\n",
    "    plt.plot(plotAz.values[:,2], plotAz.values[:,1], color='blue', ls='--', label='Demand')\n",
    "    plt.ylabel(\"Degrees\")\n",
    "    plt.legend()\n",
    "    plt.subplot(3,2,4)\n",
    "    plt.title(\"Elevation\")\n",
    "    plt.plot(plotEl.values[:,2], plotEl.values[:,0], color='green', label='Measured')\n",
    "    plt.plot(plotEl.values[:,2], plotEl.values[:,1], color='magenta', ls='--', label='Demand')\n",
    "    plt.ylabel(\"Degrees\")\n",
    "    plt.legend()\n",
    "    \n",
    "    # Calculate the difference between measured and commanded\n",
    "    azErrors = (plotAz.values[:,0] - plotAz.values[:,1]) * 3600.0\n",
    "    elErrors = (plotEl.values[:,0] - plotEl.values[:,1]) * 3600.0\n",
    "    \n",
    "    plt.subplot(3,2,5)\n",
    "    plt.title(\"Measured - Demand\")\n",
    "    plt.plot(plotAz.values[:,2], azErrors, color='r')\n",
    "    plt.ylabel(\"Error(arcseconds)\")\n",
    "    plt.ylim(-1.0, 1.0)\n",
    "    plt.subplot(3,2,6)\n",
    "    plt.title(\"Measured - Demand\")\n",
    "    plt.plot(plotEl.values[:,2], elErrors, color='g')\n",
    "    plt.ylabel(\"Error(arcseconds)\")\n",
    "    plt.ylim(-1.0, 1.0)\n",
    "\n",
    "    \n",
    "    \n",
    "    timestamp = ip_time.split('.')[0].replace('-','').replace(':','')\n",
    "    plt.savefig(f\"/home/craiglagegit/DATA/MTMount_22mar23/MT_Mount_Measured_vs_Demand_{timestamp}.png\")\n",
    "\n"
   ]
  },
  {
   "cell_type": "code",
   "execution_count": null,
   "metadata": {},
   "outputs": [],
   "source": []
  }
 ],
 "metadata": {
  "kernelspec": {
   "display_name": "LSST",
   "language": "python",
   "name": "lsst"
  },
  "language_info": {
   "codemirror_mode": {
    "name": "ipython",
    "version": 3
   },
   "file_extension": ".py",
   "mimetype": "text/x-python",
   "name": "python",
   "nbconvert_exporter": "python",
   "pygments_lexer": "ipython3",
   "version": "3.10.9"
  }
 },
 "nbformat": 4,
 "nbformat_minor": 4
}
