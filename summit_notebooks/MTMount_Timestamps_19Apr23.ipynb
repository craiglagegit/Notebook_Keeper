{
 "cells": [
  {
   "cell_type": "code",
   "execution_count": null,
   "metadata": {
    "execution": {
     "iopub.execute_input": "2023-04-20T13:07:51.079404Z",
     "iopub.status.busy": "2023-04-20T13:07:51.079128Z",
     "iopub.status.idle": "2023-04-20T13:07:51.500666Z",
     "shell.execute_reply": "2023-04-20T13:07:51.500192Z",
     "shell.execute_reply.started": "2023-04-20T13:07:51.079388Z"
    },
    "tags": []
   },
   "outputs": [],
   "source": [
    "import sys, time, os, asyncio, glob\n",
    "from datetime import datetime\n",
    "import numpy as np\n",
    "import matplotlib.pyplot as plt\n",
    "import pickle as pkl\n",
    "from astropy.time import Time, TimeDelta\n",
    "\n",
    "from lsst_efd_client import EfdClient"
   ]
  },
  {
   "cell_type": "code",
   "execution_count": null,
   "metadata": {
    "execution": {
     "iopub.execute_input": "2023-04-20T13:07:51.799617Z",
     "iopub.status.busy": "2023-04-20T13:07:51.799349Z",
     "iopub.status.idle": "2023-04-20T13:07:53.308848Z",
     "shell.execute_reply": "2023-04-20T13:07:53.308388Z",
     "shell.execute_reply.started": "2023-04-20T13:07:51.799599Z"
    },
    "tags": []
   },
   "outputs": [],
   "source": [
    "client = EfdClient('summit_efd')"
   ]
  },
  {
   "cell_type": "code",
   "execution_count": null,
   "metadata": {
    "execution": {
     "iopub.execute_input": "2023-04-20T13:07:53.313980Z",
     "iopub.status.busy": "2023-04-20T13:07:53.313840Z",
     "iopub.status.idle": "2023-04-20T13:07:54.161560Z",
     "shell.execute_reply": "2023-04-20T13:07:54.161131Z",
     "shell.execute_reply.started": "2023-04-20T13:07:53.313966Z"
    },
    "tags": []
   },
   "outputs": [],
   "source": [
    "# Now let's try to expand it to the whole run\n",
    "start = Time(\"2023-03-23T09:40:00\", scale='utc')\n",
    "end = Time(\"2023-03-23T10:00:00\", scale='utc')\n",
    "\n",
    "az = await client.select_time_series('lsst.sal.MTMount.azimuth', \\\n",
    "                                            ['actualPosition', 'timestamp'],  start, end)\n",
    "el = await client.select_time_series('lsst.sal.MTMount.elevation', \\\n",
    "                                            ['actualPosition', 'timestamp'],  start, end)    \n",
    "\n",
    "az_track = await client.select_time_series('lsst.sal.MTMount.command_trackTarget', \\\n",
    "                                            ['azimuth', 'taiTime'],  start, end)\n",
    "el_track = await client.select_time_series('lsst.sal.MTMount.command_trackTarget', \\\n",
    "                                            ['elevation', 'taiTime'],  start, end)   \n",
    "print(len(az_track), len(el_track))"
   ]
  },
  {
   "cell_type": "code",
   "execution_count": null,
   "metadata": {
    "execution": {
     "iopub.execute_input": "2023-04-20T13:07:54.208223Z",
     "iopub.status.busy": "2023-04-20T13:07:54.208039Z",
     "iopub.status.idle": "2023-04-20T13:07:54.479020Z",
     "shell.execute_reply": "2023-04-20T13:07:54.478561Z",
     "shell.execute_reply.started": "2023-04-20T13:07:54.208208Z"
    },
    "tags": []
   },
   "outputs": [],
   "source": [
    "az['actualPosition'].plot()"
   ]
  },
  {
   "cell_type": "code",
   "execution_count": null,
   "metadata": {
    "execution": {
     "iopub.execute_input": "2023-04-20T13:07:57.262143Z",
     "iopub.status.busy": "2023-04-20T13:07:57.261860Z",
     "iopub.status.idle": "2023-04-20T13:07:57.275244Z",
     "shell.execute_reply": "2023-04-20T13:07:57.274619Z",
     "shell.execute_reply.started": "2023-04-20T13:07:57.262125Z"
    },
    "tags": []
   },
   "outputs": [],
   "source": [
    "azPos = await client.select_time_series('lsst.sal.MTMount.logevent_azimuthInPosition', \\\n",
    "                                            ['inPosition', 'private_kafkaStamp'],  start, end)\n",
    "azPos = azPos[azPos['inPosition']] # Select only the True values\n",
    "elPos = await client.select_time_series('lsst.sal.MTMount.logevent_elevationInPosition', \\\n",
    "                                            ['inPosition', 'private_kafkaStamp'],  start, end)\n",
    "elPos = elPos[elPos['inPosition']] # Select only the True values\n",
    "print(len(azPos), len(elPos))"
   ]
  },
  {
   "cell_type": "code",
   "execution_count": null,
   "metadata": {
    "execution": {
     "iopub.execute_input": "2023-04-20T13:07:57.944744Z",
     "iopub.status.busy": "2023-04-20T13:07:57.944480Z",
     "iopub.status.idle": "2023-04-20T13:07:57.975168Z",
     "shell.execute_reply": "2023-04-20T13:07:57.974761Z",
     "shell.execute_reply.started": "2023-04-20T13:07:57.944727Z"
    },
    "tags": []
   },
   "outputs": [],
   "source": [
    "# Find all of the time stamps\n",
    "\n",
    "# Start with start_slew times\n",
    "\n",
    "azs = az_track.values[:,0]\n",
    "els = el_track.values[:,0]\n",
    "times = az_track.values[:,1]\n",
    "start_slew_times_1 = []\n",
    "slew_dist_1 = []\n",
    "slew_times_1 = []\n",
    "for i in range(1,len(az_track)):\n",
    "    az_shift = abs(azs[i] - azs[i-1])\n",
    "    el_shift = abs(els[i] - els[i-1])\n",
    "    if (az_shift > 0.1) or (el_shift > 0.1):\n",
    "        start_slew_times_1.append(times[i])\n",
    "        az_shift_mod = az_shift * np.cos(els[i]*np.pi/180.0)\n",
    "        shift = np.sqrt(el_shift*el_shift + az_shift_mod*az_shift_mod)\n",
    "        slew_dist_1.append(shift)\n",
    "print(len(start_slew_times_1))\n",
    "\n",
    "# Now in position timestamps\n",
    "\n",
    "inPos_1 = []\n",
    "azPosValues = azPos.values[:,1]\n",
    "elPosValues = elPos.values[:,1]\n",
    "\n",
    "for i in range(len(azPos)):\n",
    "    if azPosValues[i] > elPosValues[i]:\n",
    "        inPos_1.append(azPosValues[i])\n",
    "    else:\n",
    "        inPos_1.append(elPosValues[i])\n",
    "\n",
    "print(len(inPos_1))\n",
    "\n",
    "# Now pair them up\n",
    "\n",
    "pairMin = 1.0\n",
    "pairMax = 6.0\n",
    "\n",
    "start_slew_times = []\n",
    "slew_dist = []\n",
    "slew_times = []\n",
    "inPos = []\n",
    "\n",
    "for i in range(len(start_slew_times_1)):\n",
    "    for j in range(len(inPos_1)):\n",
    "        deltaT = inPos_1[j] - start_slew_times_1[i] \n",
    "        if deltaT > pairMin and deltaT < pairMax:\n",
    "            inPos.append(inPos_1[j])\n",
    "            start_slew_times.append(start_slew_times_1[i])\n",
    "            slew_times.append(deltaT)\n",
    "            slew_dist.append(slew_dist_1[i])\n",
    "        \n",
    "print(len(inPos), len(start_slew_times), len(slew_times), len(slew_dist))"
   ]
  },
  {
   "cell_type": "code",
   "execution_count": null,
   "metadata": {
    "execution": {
     "iopub.execute_input": "2023-04-20T13:26:20.583759Z",
     "iopub.status.busy": "2023-04-20T13:26:20.583426Z",
     "iopub.status.idle": "2023-04-20T13:26:21.625741Z",
     "shell.execute_reply": "2023-04-20T13:26:21.625258Z",
     "shell.execute_reply.started": "2023-04-20T13:26:20.583741Z"
    },
    "tags": []
   },
   "outputs": [],
   "source": [
    "# Plotting the mount plots\n",
    "fig = plt.figure(figsize = (8,10))\n",
    "plt.subplots_adjust(hspace=0.7)\n",
    "for index in [5]:#range(len(inPos) - 1):\n",
    "\n",
    "    plotAz = az[(az['timestamp'] > inPos[index]-10.0) & (az['timestamp'] < start_slew_times[index+1])]\n",
    "    plotEl = el[(el['timestamp'] > inPos[index]-10.0) & (el['timestamp'] < start_slew_times[index+1])]\n",
    "    ss_time = Time(start_slew_times[index+1], format='unix_tai', scale='utc').isot\n",
    "    ip_time = Time(inPos[index], format='unix_tai', scale='utc').isot\n",
    "\n",
    "    fig.clear()\n",
    "    plt.subplots_adjust(wspace=0.3, hspace=0.5)\n",
    "    plt.suptitle(f\"MT Mount Jitter - {ip_time}\", fontsize = 18)\n",
    "    plt.subplot(4,2,1)\n",
    "    ax1 = plotAz['actualPosition'].plot(legend=True, color='red')\n",
    "    ax1.axvline(ss_time, color=\"black\", linestyle=\"--\", label=\"Start slew\")\n",
    "    ax1.axvline(ip_time, color=\"blue\", linestyle=\"--\", label=\"InPosition\")\n",
    "    ax1.set_title(f\"Azimuth\")\n",
    "    ax1.set_ylabel(\"Degrees\")\n",
    "    ax1.legend()\n",
    "    plt.subplot(4,2,2)\n",
    "    ax2 = plotEl['actualPosition'].plot(legend=True, color='green')\n",
    "    ax2.axvline(ss_time, color=\"black\", linestyle=\"--\", label=\"Start slew\")\n",
    "    ax2.axvline(ip_time, color=\"blue\", linestyle=\"--\", label=\"InPosition\")\n",
    "    ax2.set_title(f\"Elevation\")\n",
    "    ax2.set_ylabel(\"Degrees\")\n",
    "    ax2.legend()\n",
    "    \n",
    "    plotAz = az[(az['timestamp'] > inPos[index]) & (az['timestamp'] < start_slew_times[index+1])]\n",
    "    plotEl = el[(el['timestamp'] > inPos[index]) & (el['timestamp'] < start_slew_times[index+1])]\n",
    "\n",
    "    plotAzTrack = az_track[(az_track['taiTime'] > inPos[index]) & (az_track['taiTime'] < start_slew_times[index+1])]\n",
    "    plotElTrack = el_track[(el_track['taiTime'] > inPos[index]) & (el_track['taiTime'] < start_slew_times[index+1])]\n",
    "    \n",
    "    plt.subplot(4,2,3)\n",
    "    plt.title(\"Azimuth\")\n",
    "    plt.plot(plotAz.values[:,1], plotAz.values[:,0], color='red', label='Measured')\n",
    "    plt.plot(plotAzTrack.values[:,1], plotAzTrack.values[:,0], color='blue', ls='--', label='Commanded')\n",
    "    plt.ylabel(\"Degrees\")\n",
    "    plt.legend()\n",
    "    plt.subplot(4,2,4)\n",
    "    plt.title(\"Elevation\")\n",
    "    plt.plot(plotEl.values[:,1], plotEl.values[:,0], color='green', label='Measured')\n",
    "    plt.plot(plotElTrack.values[:,1], plotElTrack.values[:,0], color='magenta', ls='--', label='Commanded')\n",
    "    plt.ylabel(\"Degrees\")\n",
    "    plt.legend()\n",
    "\n",
    "    midTime = (inPos[index] + start_slew_times[index+1]) / 2.0\n",
    "    plotAzBlowUp = az[(az['timestamp'] > midTime-0.2) & (az['timestamp'] < midTime+0.2)]\n",
    "    plotElBlowUp = el[(el['timestamp'] > midTime-0.2) & (el['timestamp'] < midTime+0.2)]\n",
    "    plotAzTrackBlowUp = az_track[(az_track['taiTime'] > midTime-0.2) & (az_track['taiTime'] < midTime+0.2)]\n",
    "    plotElTrackBlowUp = el_track[(el_track['taiTime'] > midTime-0.2) & (el_track['taiTime'] < midTime+0.2)]\n",
    "\n",
    "    azMin = np.min(plotAzBlowUp.values[:,0])\n",
    "    azMax = np.max(plotAzBlowUp.values[:,0])\n",
    "    elMin = np.min(plotElBlowUp.values[:,0])\n",
    "    elMax = np.max(plotElBlowUp.values[:,0])\n",
    "    plt.subplot(4,2,5)\n",
    "    plt.title(\"Azimuth\")\n",
    "    plt.plot(plotAzBlowUp.values[:,1], plotAzBlowUp.values[:,0], color='red', label='Measured')\n",
    "    plt.plot(plotAzTrackBlowUp.values[:,1], plotAzTrackBlowUp.values[:,0], color='blue', ls='--', label='Commanded')\n",
    "    plt.ylabel(\"Degrees\")\n",
    "    plt.ylim(azMin, azMax)\n",
    "    plt.legend()\n",
    "    plt.subplot(4,2,6)\n",
    "    plt.title(\"Elevation\")\n",
    "    plt.plot(plotElBlowUp.values[:,1], plotElBlowUp.values[:,0], color='green', label='Measured')\n",
    "    plt.plot(plotElTrackBlowUp.values[:,1], plotElTrackBlowUp.values[:,0], color='magenta', ls='--', label='Commanded')\n",
    "    plt.ylabel(\"Degrees\")\n",
    "    plt.ylim(elMin, elMax)\n",
    "    plt.legend()\n",
    "    \n",
    "    # Calculate the difference between measured and commanded\n",
    "    plotAzTrackAtPlotAzTimes = np.interp(plotAz.values[:,1], plotAzTrack.values[:,1], plotAzTrack.values[:,0])\n",
    "    azErrors = (plotAz.values[:,0] - plotAzTrackAtPlotAzTimes) * 3600.0\n",
    "    plotElTrackAtPlotElTimes = np.interp(plotEl.values[:,1], plotElTrack.values[:,1], plotElTrack.values[:,0])\n",
    "    elErrors = (plotEl.values[:,0] - plotElTrackAtPlotElTimes) * 3600.0\n",
    "    \n",
    "    plt.subplot(4,2,7)\n",
    "    plt.title(\"Measured - Commanded\")\n",
    "    plt.plot(plotAz.values[:,1], azErrors, color='r')\n",
    "    plt.ylabel(\"Error(arcseconds)\")\n",
    "    plt.ylim(-1.0, 1.0)\n",
    "    plt.subplot(4,2,8)\n",
    "    plt.title(\"Measured - Commanded\")\n",
    "    plt.plot(plotEl.values[:,1], elErrors, color='g')\n",
    "    plt.ylabel(\"Error(arcseconds)\")\n",
    "    plt.ylim(-1.0, 1.0)\n",
    "\n",
    "    \n",
    "    \n",
    "    timestamp = ip_time.split('.')[0].replace('-','').replace(':','')\n",
    "    plt.savefig(f\"/home/craiglagegit/DATA/MTMount_22mar23/MT_Mount_Measured_vs_Commanded_BlowUp_{timestamp}.pdf\")\n",
    "\n"
   ]
  },
  {
   "cell_type": "code",
   "execution_count": null,
   "metadata": {},
   "outputs": [],
   "source": []
  },
  {
   "cell_type": "code",
   "execution_count": null,
   "metadata": {
    "execution": {
     "iopub.execute_input": "2023-04-20T13:29:12.727727Z",
     "iopub.status.busy": "2023-04-20T13:29:12.727457Z",
     "iopub.status.idle": "2023-04-20T13:29:13.783982Z",
     "shell.execute_reply": "2023-04-20T13:29:13.783523Z",
     "shell.execute_reply.started": "2023-04-20T13:29:12.727710Z"
    },
    "tags": []
   },
   "outputs": [],
   "source": [
    "# Now let's try to expand it to the whole run\n",
    "start = Time(\"2023-03-23T09:40:00\", scale='utc')\n",
    "end = Time(\"2023-03-23T10:00:00\", scale='utc')\n",
    "\n",
    "az = await client.select_time_series('lsst.sal.MTMount.azimuth', \\\n",
    "                                            ['actualPosition', 'demandPosition', 'timestamp'],  start, end)\n",
    "el = await client.select_time_series('lsst.sal.MTMount.elevation', \\\n",
    "                                            ['actualPosition', 'demandPosition', 'timestamp'],  start, end)    \n",
    "\n",
    "az_track = await client.select_time_series('lsst.sal.MTMount.command_trackTarget', \\\n",
    "                                            ['azimuth', 'taiTime'],  start, end)\n",
    "el_track = await client.select_time_series('lsst.sal.MTMount.command_trackTarget', \\\n",
    "                                            ['elevation', 'taiTime'],  start, end)   \n",
    "print(len(az_track), len(el_track))"
   ]
  },
  {
   "cell_type": "code",
   "execution_count": null,
   "metadata": {
    "execution": {
     "iopub.execute_input": "2023-04-20T13:29:14.421670Z",
     "iopub.status.busy": "2023-04-20T13:29:14.421403Z",
     "iopub.status.idle": "2023-04-20T13:29:14.683555Z",
     "shell.execute_reply": "2023-04-20T13:29:14.683147Z",
     "shell.execute_reply.started": "2023-04-20T13:29:14.421653Z"
    },
    "tags": []
   },
   "outputs": [],
   "source": [
    "az['actualPosition'].plot()"
   ]
  },
  {
   "cell_type": "code",
   "execution_count": null,
   "metadata": {
    "execution": {
     "iopub.execute_input": "2023-04-20T13:29:17.360385Z",
     "iopub.status.busy": "2023-04-20T13:29:17.360101Z",
     "iopub.status.idle": "2023-04-20T13:29:17.372785Z",
     "shell.execute_reply": "2023-04-20T13:29:17.372215Z",
     "shell.execute_reply.started": "2023-04-20T13:29:17.360368Z"
    },
    "tags": []
   },
   "outputs": [],
   "source": [
    "azPos = await client.select_time_series('lsst.sal.MTMount.logevent_azimuthInPosition', \\\n",
    "                                            ['inPosition', 'private_kafkaStamp'],  start, end)\n",
    "azPos = azPos[azPos['inPosition']] # Select only the True values\n",
    "elPos = await client.select_time_series('lsst.sal.MTMount.logevent_elevationInPosition', \\\n",
    "                                            ['inPosition', 'private_kafkaStamp'],  start, end)\n",
    "elPos = elPos[elPos['inPosition']] # Select only the True values\n",
    "print(len(azPos), len(elPos))"
   ]
  },
  {
   "cell_type": "code",
   "execution_count": null,
   "metadata": {
    "execution": {
     "iopub.execute_input": "2023-04-20T13:29:17.991568Z",
     "iopub.status.busy": "2023-04-20T13:29:17.991302Z",
     "iopub.status.idle": "2023-04-20T13:29:18.021153Z",
     "shell.execute_reply": "2023-04-20T13:29:18.020735Z",
     "shell.execute_reply.started": "2023-04-20T13:29:17.991552Z"
    },
    "tags": []
   },
   "outputs": [],
   "source": [
    "# Find all of the time stamps\n",
    "\n",
    "# Start with start_slew times\n",
    "\n",
    "azs = az_track.values[:,0]\n",
    "els = el_track.values[:,0]\n",
    "times = az_track.values[:,1]\n",
    "start_slew_times_1 = []\n",
    "slew_dist_1 = []\n",
    "slew_times_1 = []\n",
    "for i in range(1,len(az_track)):\n",
    "    az_shift = abs(azs[i] - azs[i-1])\n",
    "    el_shift = abs(els[i] - els[i-1])\n",
    "    if (az_shift > 0.1) or (el_shift > 0.1):\n",
    "        start_slew_times_1.append(times[i])\n",
    "        az_shift_mod = az_shift * np.cos(els[i]*np.pi/180.0)\n",
    "        shift = np.sqrt(el_shift*el_shift + az_shift_mod*az_shift_mod)\n",
    "        slew_dist_1.append(shift)\n",
    "print(len(start_slew_times_1))\n",
    "\n",
    "# Now in position timestamps\n",
    "\n",
    "inPos_1 = []\n",
    "azPosValues = azPos.values[:,1]\n",
    "elPosValues = elPos.values[:,1]\n",
    "\n",
    "for i in range(len(azPos)):\n",
    "    if azPosValues[i] > elPosValues[i]:\n",
    "        inPos_1.append(azPosValues[i])\n",
    "    else:\n",
    "        inPos_1.append(elPosValues[i])\n",
    "\n",
    "print(len(inPos_1))\n",
    "\n",
    "# Now pair them up\n",
    "\n",
    "pairMin = 1.0\n",
    "pairMax = 6.0\n",
    "\n",
    "start_slew_times = []\n",
    "slew_dist = []\n",
    "slew_times = []\n",
    "inPos = []\n",
    "\n",
    "for i in range(len(start_slew_times_1)):\n",
    "    for j in range(len(inPos_1)):\n",
    "        deltaT = inPos_1[j] - start_slew_times_1[i] \n",
    "        if deltaT > pairMin and deltaT < pairMax:\n",
    "            inPos.append(inPos_1[j])\n",
    "            start_slew_times.append(start_slew_times_1[i])\n",
    "            slew_times.append(deltaT)\n",
    "            slew_dist.append(slew_dist_1[i])\n",
    "        \n",
    "print(len(inPos), len(start_slew_times), len(slew_times), len(slew_dist))"
   ]
  },
  {
   "cell_type": "code",
   "execution_count": null,
   "metadata": {
    "execution": {
     "iopub.execute_input": "2023-04-20T13:34:35.461903Z",
     "iopub.status.busy": "2023-04-20T13:34:35.461627Z",
     "iopub.status.idle": "2023-04-20T13:34:36.493166Z",
     "shell.execute_reply": "2023-04-20T13:34:36.492623Z",
     "shell.execute_reply.started": "2023-04-20T13:34:35.461886Z"
    },
    "tags": []
   },
   "outputs": [],
   "source": [
    "# Plotting the mount plots\n",
    "fig = plt.figure(figsize = (8,10))\n",
    "plt.subplots_adjust(hspace=0.7)\n",
    "for index in [5]:#range(len(inPos) - 1):\n",
    "\n",
    "    plotAz = az[(az['timestamp'] > inPos[index]-10.0) & (az['timestamp'] < start_slew_times[index+1])]\n",
    "    plotEl = el[(el['timestamp'] > inPos[index]-10.0) & (el['timestamp'] < start_slew_times[index+1])]\n",
    "    ss_time = Time(start_slew_times[index+1], format='unix_tai', scale='utc').isot\n",
    "    ip_time = Time(inPos[index], format='unix_tai', scale='utc').isot\n",
    "\n",
    "    fig.clear()\n",
    "    plt.subplots_adjust(wspace=0.3, hspace=0.5)\n",
    "    plt.suptitle(f\"MT Mount Jitter - {ip_time}\", fontsize = 18)\n",
    "    plt.subplot(4,2,1)\n",
    "    ax1 = plotAz['actualPosition'].plot(legend=True, color='red')\n",
    "    ax1.axvline(ss_time, color=\"black\", linestyle=\"--\", label=\"Start slew\")\n",
    "    ax1.axvline(ip_time, color=\"blue\", linestyle=\"--\", label=\"InPosition\")\n",
    "    ax1.set_title(f\"Azimuth\")\n",
    "    ax1.set_ylabel(\"Degrees\")\n",
    "    ax1.legend()\n",
    "    plt.subplot(4,2,2)\n",
    "    ax2 = plotEl['actualPosition'].plot(legend=True, color='green')\n",
    "    ax2.axvline(ss_time, color=\"black\", linestyle=\"--\", label=\"Start slew\")\n",
    "    ax2.axvline(ip_time, color=\"blue\", linestyle=\"--\", label=\"InPosition\")\n",
    "    ax2.set_title(f\"Elevation\")\n",
    "    ax2.set_ylabel(\"Degrees\")\n",
    "    ax2.legend()\n",
    "    \n",
    "    plotAz = az[(az['timestamp'] > inPos[index]) & (az['timestamp'] < start_slew_times[index+1])]\n",
    "    plotEl = el[(el['timestamp'] > inPos[index]) & (el['timestamp'] < start_slew_times[index+1])]\n",
    "\n",
    "    plt.subplot(4,2,3)\n",
    "    plt.title(\"Azimuth\")\n",
    "    plt.plot(plotAz.values[:,2], plotAz.values[:,0], color='red', label='Measured')\n",
    "    plt.plot(plotAz.values[:,2], plotAz.values[:,1], color='blue', ls='--', label='Demand')\n",
    "    plt.ylabel(\"Degrees\")\n",
    "    plt.legend()\n",
    "    plt.subplot(4,2,4)\n",
    "    plt.title(\"Elevation\")\n",
    "    plt.plot(plotEl.values[:,2], plotEl.values[:,0], color='green', label='Measured')\n",
    "    plt.plot(plotEl.values[:,2], plotEl.values[:,1], color='magenta', ls='--', label='Demand')\n",
    "    plt.ylabel(\"Degrees\")\n",
    "    plt.legend()\n",
    "    \n",
    "    midTime = (inPos[index] + start_slew_times[index+1]) / 2.0\n",
    "    plotAzBlowUp = az[(az['timestamp'] > midTime+0.3) & (az['timestamp'] < midTime+1.1)]\n",
    "    plotElBlowUp = el[(el['timestamp'] > midTime-0.4) & (el['timestamp'] < midTime+0.4)]\n",
    "\n",
    "    plt.subplot(4,2,5)\n",
    "    plt.title(\"Azimuth\")\n",
    "    plt.plot(plotAzBlowUp.values[:,2], plotAzBlowUp.values[:,0], color='red', label='Measured')\n",
    "    plt.plot(plotAzBlowUp.values[:,2], plotAzBlowUp.values[:,1], color='blue', ls='--', label='Demand')\n",
    "    plt.ylabel(\"Degrees\")\n",
    "    plt.legend()\n",
    "    plt.subplot(4,2,6)\n",
    "    plt.title(\"Elevation\")\n",
    "    plt.plot(plotElBlowUp.values[:,2], plotElBlowUp.values[:,0], color='green', label='Measured')\n",
    "    plt.plot(plotElBlowUp.values[:,2], plotElBlowUp.values[:,1], color='magenta', ls='--', label='Demand')\n",
    "    plt.ylabel(\"Degrees\")\n",
    "    plt.legend()\n",
    "\n",
    "    # Calculate the difference between measured and commanded\n",
    "    azErrors = (plotAz.values[:,0] - plotAz.values[:,1]) * 3600.0\n",
    "    elErrors = (plotEl.values[:,0] - plotEl.values[:,1]) * 3600.0\n",
    "    \n",
    "    plt.subplot(4,2,7)\n",
    "    plt.title(\"Measured - Demand\")\n",
    "    plt.plot(plotAz.values[:,2], azErrors, color='r')\n",
    "    plt.ylabel(\"Error(arcseconds)\")\n",
    "    plt.ylim(-1.0, 1.0)\n",
    "    plt.subplot(4,2,8)\n",
    "    plt.title(\"Measured - Demand\")\n",
    "    plt.plot(plotEl.values[:,2], elErrors, color='g')\n",
    "    plt.ylabel(\"Error(arcseconds)\")\n",
    "    plt.ylim(-1.0, 1.0)\n",
    "\n",
    "    \n",
    "    \n",
    "    timestamp = ip_time.split('.')[0].replace('-','').replace(':','')\n",
    "    plt.savefig(f\"/home/craiglagegit/DATA/MTMount_22mar23/MT_Mount_Measured_vs_Demand_{timestamp}.png\")\n",
    "\n"
   ]
  },
  {
   "cell_type": "code",
   "execution_count": null,
   "metadata": {
    "execution": {
     "iopub.execute_input": "2023-04-20T14:12:05.506926Z",
     "iopub.status.busy": "2023-04-20T14:12:05.506650Z",
     "iopub.status.idle": "2023-04-20T14:12:05.513806Z",
     "shell.execute_reply": "2023-04-20T14:12:05.513300Z",
     "shell.execute_reply.started": "2023-04-20T14:12:05.506909Z"
    },
    "tags": []
   },
   "outputs": [],
   "source": [
    "plotElBlowUp"
   ]
  },
  {
   "cell_type": "code",
   "execution_count": null,
   "metadata": {
    "execution": {
     "iopub.execute_input": "2023-04-20T14:13:09.229874Z",
     "iopub.status.busy": "2023-04-20T14:13:09.229592Z",
     "iopub.status.idle": "2023-04-20T14:13:09.235376Z",
     "shell.execute_reply": "2023-04-20T14:13:09.234893Z",
     "shell.execute_reply.started": "2023-04-20T14:13:09.229856Z"
    },
    "tags": []
   },
   "outputs": [],
   "source": [
    "plotEl = el[(el['timestamp'] > inPos[index]) & (el['timestamp'] < start_slew_times[index+1])]\n",
    "measured = plotEl.values[:,0]\n",
    "demand = plotEl.values[:,1]\n",
    "\n",
    "for i in range(len(measured)):\n",
    "    delta = abs(measured[i] - demand[i])\n",
    "    if delta > 1.0E-5:\n",
    "        print(i, demand[i], delta)"
   ]
  },
  {
   "cell_type": "code",
   "execution_count": null,
   "metadata": {
    "execution": {
     "iopub.execute_input": "2023-04-20T14:13:24.510938Z",
     "iopub.status.busy": "2023-04-20T14:13:24.510666Z",
     "iopub.status.idle": "2023-04-20T14:13:24.517564Z",
     "shell.execute_reply": "2023-04-20T14:13:24.516983Z",
     "shell.execute_reply.started": "2023-04-20T14:13:24.510921Z"
    },
    "tags": []
   },
   "outputs": [],
   "source": [
    "plotEl.iloc[369:372]"
   ]
  },
  {
   "cell_type": "code",
   "execution_count": null,
   "metadata": {
    "execution": {
     "iopub.execute_input": "2023-04-20T14:16:20.159194Z",
     "iopub.status.busy": "2023-04-20T14:16:20.158914Z",
     "iopub.status.idle": "2023-04-20T14:16:20.163033Z",
     "shell.execute_reply": "2023-04-20T14:16:20.162578Z",
     "shell.execute_reply.started": "2023-04-20T14:16:20.159177Z"
    },
    "tags": []
   },
   "outputs": [],
   "source": [
    "def cleanDemand(df):\n",
    "    measured = df.values[:,0]\n",
    "    demand = df.values[:,1]\n",
    "    new_df = df.copy(deep=True)\n",
    "    for i in range(len(measured)):\n",
    "        delta = abs(measured[i] - demand[i])\n",
    "        if delta > 1.0E-5:\n",
    "            new_df.iloc[i, df.columns.get_loc('demandPosition')] = (demand[i-1] + demand[i+1]) / 2.0\n",
    "            new_df.iloc[i, df.columns.get_loc('actualPosition')] = (measured[i-1] + measured[i+1]) / 2.0\n",
    "    return new_df\n"
   ]
  },
  {
   "cell_type": "code",
   "execution_count": null,
   "metadata": {
    "execution": {
     "iopub.execute_input": "2023-04-20T14:00:11.925769Z",
     "iopub.status.busy": "2023-04-20T14:00:11.925485Z",
     "iopub.status.idle": "2023-04-20T14:00:11.929338Z",
     "shell.execute_reply": "2023-04-20T14:00:11.928869Z",
     "shell.execute_reply.started": "2023-04-20T14:00:11.925751Z"
    }
   },
   "outputs": [],
   "source": [
    "plotEl.columns"
   ]
  },
  {
   "cell_type": "code",
   "execution_count": null,
   "metadata": {
    "execution": {
     "iopub.execute_input": "2023-04-20T14:16:25.199086Z",
     "iopub.status.busy": "2023-04-20T14:16:25.198811Z",
     "iopub.status.idle": "2023-04-20T14:16:25.204152Z",
     "shell.execute_reply": "2023-04-20T14:16:25.203642Z",
     "shell.execute_reply.started": "2023-04-20T14:16:25.199070Z"
    },
    "tags": []
   },
   "outputs": [],
   "source": [
    "plotEl = cleanDemand(plotEl)"
   ]
  },
  {
   "cell_type": "code",
   "execution_count": null,
   "metadata": {
    "execution": {
     "iopub.execute_input": "2023-04-20T14:16:26.043337Z",
     "iopub.status.busy": "2023-04-20T14:16:26.043040Z",
     "iopub.status.idle": "2023-04-20T14:16:26.049386Z",
     "shell.execute_reply": "2023-04-20T14:16:26.048940Z",
     "shell.execute_reply.started": "2023-04-20T14:16:26.043318Z"
    },
    "tags": []
   },
   "outputs": [],
   "source": [
    "plotEl.iloc[369:372]"
   ]
  },
  {
   "cell_type": "code",
   "execution_count": null,
   "metadata": {},
   "outputs": [],
   "source": []
  },
  {
   "cell_type": "code",
   "execution_count": null,
   "metadata": {
    "execution": {
     "iopub.execute_input": "2023-04-20T14:18:26.308536Z",
     "iopub.status.busy": "2023-04-20T14:18:26.308257Z",
     "iopub.status.idle": "2023-04-20T14:18:27.154191Z",
     "shell.execute_reply": "2023-04-20T14:18:27.153749Z",
     "shell.execute_reply.started": "2023-04-20T14:18:26.308519Z"
    },
    "tags": []
   },
   "outputs": [],
   "source": [
    "# Plotting the mount plots\n",
    "fig = plt.figure(figsize = (8,10))\n",
    "plt.subplots_adjust(hspace=0.7)\n",
    "for index in [5]:#range(len(inPos) - 1):\n",
    "\n",
    "    plotAz = az[(az['timestamp'] > inPos[index]-10.0) & (az['timestamp'] < start_slew_times[index+1])]\n",
    "    plotEl = el[(el['timestamp'] > inPos[index]-10.0) & (el['timestamp'] < start_slew_times[index+1])]\n",
    "    ss_time = Time(start_slew_times[index+1], format='unix_tai', scale='utc').isot\n",
    "    ip_time = Time(inPos[index], format='unix_tai', scale='utc').isot\n",
    "\n",
    "    fig.clear()\n",
    "    plt.subplots_adjust(wspace=0.3, hspace=0.5)\n",
    "    plt.suptitle(f\"MT Mount Jitter - {ip_time}\", fontsize = 18)\n",
    "    plt.subplot(4,2,1)\n",
    "    ax1 = plotAz['actualPosition'].plot(legend=True, color='red')\n",
    "    ax1.axvline(ss_time, color=\"black\", linestyle=\"--\", label=\"Start slew\")\n",
    "    ax1.axvline(ip_time, color=\"blue\", linestyle=\"--\", label=\"InPosition\")\n",
    "    ax1.set_title(f\"Azimuth\")\n",
    "    ax1.set_ylabel(\"Degrees\")\n",
    "    ax1.legend()\n",
    "    plt.subplot(4,2,2)\n",
    "    ax2 = plotEl['actualPosition'].plot(legend=True, color='green')\n",
    "    ax2.axvline(ss_time, color=\"black\", linestyle=\"--\", label=\"Start slew\")\n",
    "    ax2.axvline(ip_time, color=\"blue\", linestyle=\"--\", label=\"InPosition\")\n",
    "    ax2.set_title(f\"Elevation\")\n",
    "    ax2.set_ylabel(\"Degrees\")\n",
    "    ax2.legend()\n",
    "    \n",
    "    plotAz = az[(az['timestamp'] > inPos[index]) & (az['timestamp'] < start_slew_times[index+1])]\n",
    "    plotEl = el[(el['timestamp'] > inPos[index]) & (el['timestamp'] < start_slew_times[index+1])]\n",
    "    plotAz = cleanDemand(plotAz)\n",
    "    plotEl = cleanDemand(plotEl)\n",
    "    plt.subplot(4,2,3)\n",
    "    plt.title(\"Azimuth\")\n",
    "    plt.plot(plotAz.values[:,2], plotAz.values[:,0], color='red', label='Measured')\n",
    "    plt.plot(plotAz.values[:,2], plotAz.values[:,1], color='blue', ls='--', label='Demand')\n",
    "    plt.ylabel(\"Degrees\")\n",
    "    plt.legend()\n",
    "    plt.subplot(4,2,4)\n",
    "    plt.title(\"Elevation\")\n",
    "    plt.plot(plotEl.values[:,2], plotEl.values[:,0], color='green', label='Measured')\n",
    "    plt.plot(plotEl.values[:,2], plotEl.values[:,1], color='magenta', ls='--', label='Demand')\n",
    "    plt.ylabel(\"Degrees\")\n",
    "    plt.legend()\n",
    "    \n",
    "    midTime = (inPos[index] + start_slew_times[index+1]) / 2.0\n",
    "    plotAzBlowUp = az[(az['timestamp'] > midTime+0.3) & (az['timestamp'] < midTime+1.1)]\n",
    "    plotElBlowUp = el[(el['timestamp'] > midTime-0.4) & (el['timestamp'] < midTime+0.4)]\n",
    "    plotAzBlowUp = cleanDemand(plotAzBlowUp)\n",
    "    plotElBlowUp = cleanDemand(plotElBlowUp)\n",
    "\n",
    "    plt.subplot(4,2,5)\n",
    "    plt.title(\"Azimuth\")\n",
    "    plt.plot(plotAzBlowUp.values[:,2], plotAzBlowUp.values[:,0], color='red', label='Measured')\n",
    "    plt.plot(plotAzBlowUp.values[:,2], plotAzBlowUp.values[:,1], color='blue', ls='--', label='Demand')\n",
    "    plt.ylabel(\"Degrees\")\n",
    "    plt.legend()\n",
    "    plt.subplot(4,2,6)\n",
    "    plt.title(\"Elevation\")\n",
    "    plt.plot(plotElBlowUp.values[:,2], plotElBlowUp.values[:,0], color='green', label='Measured')\n",
    "    plt.plot(plotElBlowUp.values[:,2], plotElBlowUp.values[:,1], color='magenta', ls='--', label='Demand')\n",
    "    plt.ylabel(\"Degrees\")\n",
    "    plt.legend()\n",
    "\n",
    "    # Calculate the difference between measured and commanded\n",
    "    azErrors = (plotAz.values[:,0] - plotAz.values[:,1]) * 3600.0\n",
    "    elErrors = (plotEl.values[:,0] - plotEl.values[:,1]) * 3600.0\n",
    "    \n",
    "    plt.subplot(4,2,7)\n",
    "    plt.title(\"Measured - Demand\")\n",
    "    plt.plot(plotAz.values[:,2], azErrors, color='r')\n",
    "    plt.ylabel(\"Error(arcseconds)\")\n",
    "    plt.ylim(-0.05,0.05)\n",
    "    plt.subplot(4,2,8)\n",
    "    plt.title(\"Measured - Demand\")\n",
    "    plt.plot(plotEl.values[:,2], elErrors, color='g')\n",
    "    plt.ylabel(\"Error(arcseconds)\")\n",
    "    plt.ylim(-0.05,0.05)\n",
    "\n",
    "    \n",
    "    \n",
    "    timestamp = ip_time.split('.')[0].replace('-','').replace(':','')\n",
    "    #plt.savefig(f\"/home/craiglagegit/DATA/MTMount_22mar23/MT_Mount_Measured_vs_Demand_{timestamp}.png\")\n",
    "\n"
   ]
  },
  {
   "cell_type": "code",
   "execution_count": null,
   "metadata": {},
   "outputs": [],
   "source": []
  }
 ],
 "metadata": {
  "kernelspec": {
   "display_name": "LSST",
   "language": "python",
   "name": "lsst"
  },
  "language_info": {
   "codemirror_mode": {
    "name": "ipython",
    "version": 3
   },
   "file_extension": ".py",
   "mimetype": "text/x-python",
   "name": "python",
   "nbconvert_exporter": "python",
   "pygments_lexer": "ipython3",
   "version": "3.10.9"
  }
 },
 "nbformat": 4,
 "nbformat_minor": 4
}
