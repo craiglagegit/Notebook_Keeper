{
 "cells": [
  {
   "cell_type": "markdown",
   "id": "3dbf3c0c",
   "metadata": {},
   "source": [
    "# Pole stiction\n",
    "\n",
    "This notebook is intended to characterize the slow speed stiction problem \\\n",
    "at the pole by spiraling into the pole where the tracking speeds will be slower and slower. \\\n",
    "Craig Lage - 17-Oct-22"
   ]
  },
  {
   "cell_type": "code",
   "execution_count": null,
   "id": "b9b61b70",
   "metadata": {
    "execution": {
     "iopub.execute_input": "2023-04-04T13:41:38.749099Z",
     "iopub.status.busy": "2023-04-04T13:41:38.748831Z",
     "iopub.status.idle": "2023-04-04T13:41:41.558702Z",
     "shell.execute_reply": "2023-04-04T13:41:41.558139Z",
     "shell.execute_reply.started": "2023-04-04T13:41:38.749082Z"
    },
    "tags": []
   },
   "outputs": [],
   "source": [
    "import asyncio\n",
    "import time\n",
    "import os\n",
    "import numpy as np\n",
    "import matplotlib.pyplot as plt\n",
    "from astropy.time import Time\n",
    "\n",
    "from lsst.ts import salobj\n",
    "\n",
    "from lsst.ts.observatory.control.auxtel.atcs import ATCS\n",
    "from lsst.ts.observatory.control.auxtel.latiss import LATISS\n",
    "from lsst.ts.observatory.control.utils import RotType"
   ]
  },
  {
   "cell_type": "code",
   "execution_count": null,
   "id": "0755fd07",
   "metadata": {
    "execution": {
     "iopub.execute_input": "2023-04-04T13:41:41.564681Z",
     "iopub.status.busy": "2023-04-04T13:41:41.564536Z",
     "iopub.status.idle": "2023-04-04T13:41:41.567327Z",
     "shell.execute_reply": "2023-04-04T13:41:41.566976Z",
     "shell.execute_reply.started": "2023-04-04T13:41:41.564666Z"
    },
    "tags": []
   },
   "outputs": [],
   "source": [
    "logger = logging.getLogger(f\"Daytime Checkout {Time.now()} UT\")\n",
    "logger.level = logging.DEBUG"
   ]
  },
  {
   "cell_type": "code",
   "execution_count": null,
   "id": "e80647f9",
   "metadata": {
    "execution": {
     "iopub.execute_input": "2023-03-21T12:49:34.182468Z",
     "iopub.status.busy": "2023-03-21T12:49:34.182315Z",
     "iopub.status.idle": "2023-03-21T12:49:34.190486Z",
     "shell.execute_reply": "2023-03-21T12:49:34.190026Z",
     "shell.execute_reply.started": "2023-03-21T12:49:34.182455Z"
    }
   },
   "outputs": [],
   "source": [
    "logger.info(os.environ[\"OSPL_URI\"])\n",
    "logger.info(os.environ[\"LSST_DDS_PARTITION_PREFIX\"])"
   ]
  },
  {
   "cell_type": "markdown",
   "id": "a9cd22ea",
   "metadata": {},
   "source": [
    "### Instantiate the control classes"
   ]
  },
  {
   "cell_type": "code",
   "execution_count": null,
   "id": "f651e5d9",
   "metadata": {
    "execution": {
     "iopub.execute_input": "2023-04-04T13:42:04.877562Z",
     "iopub.status.busy": "2023-04-04T13:42:04.877204Z",
     "iopub.status.idle": "2023-04-04T13:42:13.439834Z",
     "shell.execute_reply": "2023-04-04T13:42:13.439215Z",
     "shell.execute_reply.started": "2023-04-04T13:42:04.877543Z"
    },
    "jupyter": {
     "outputs_hidden": true
    },
    "tags": []
   },
   "outputs": [],
   "source": [
    "domain = salobj.Domain()\n",
    "atcs = ATCS(domain)\n",
    "latiss = LATISS(domain)\n",
    "await asyncio.gather(atcs.start_task, latiss.start_task)\n",
    "await atcs.assert_liveliness()"
   ]
  },
  {
   "cell_type": "markdown",
   "id": "50d3b4be",
   "metadata": {},
   "source": [
    "## Enable LATISS and ATCS"
   ]
  },
  {
   "cell_type": "code",
   "execution_count": null,
   "id": "ab6d900c",
   "metadata": {
    "execution": {
     "iopub.execute_input": "2023-04-04T13:42:18.239368Z",
     "iopub.status.busy": "2023-04-04T13:42:18.238418Z",
     "iopub.status.idle": "2023-04-04T13:42:39.654537Z",
     "shell.execute_reply": "2023-04-04T13:42:39.653830Z",
     "shell.execute_reply.started": "2023-04-04T13:42:18.239341Z"
    },
    "jupyter": {
     "outputs_hidden": true
    },
    "tags": []
   },
   "outputs": [],
   "source": [
    "# Didn't come up.  Brought up with LOVE\n",
    "await latiss.enable()\n",
    "await atcs.enable()\n",
    "await atcs.assert_all_enabled()"
   ]
  },
  {
   "cell_type": "markdown",
   "id": "014ff42a-1d20-4a15-a145-3a59306459e2",
   "metadata": {
    "tags": []
   },
   "source": [
    "If ATCamera and/or ATOODS don't come up, see section `Quick Troubleshooting` for support commands. "
   ]
  },
  {
   "cell_type": "markdown",
   "id": "a85209e7",
   "metadata": {
    "tags": []
   },
   "source": [
    "### Bias verification"
   ]
  },
  {
   "cell_type": "code",
   "execution_count": null,
   "id": "7761429f",
   "metadata": {
    "execution": {
     "iopub.execute_input": "2023-04-04T19:30:00.798221Z",
     "iopub.status.busy": "2023-04-04T19:30:00.797930Z",
     "iopub.status.idle": "2023-04-04T19:30:23.283228Z",
     "shell.execute_reply": "2023-04-04T19:30:23.282653Z",
     "shell.execute_reply.started": "2023-04-04T19:30:00.798204Z"
    },
    "tags": []
   },
   "outputs": [],
   "source": [
    "for i in range(5):\n",
    "    await latiss.take_bias(nbias=1)\n",
    "    await asyncio.sleep(2.0)"
   ]
  },
  {
   "cell_type": "code",
   "execution_count": null,
   "id": "eb8e7dab-9da0-42a9-995c-34977879aa1a",
   "metadata": {
    "execution": {
     "iopub.execute_input": "2023-04-04T13:46:06.863329Z",
     "iopub.status.busy": "2023-04-04T13:46:06.862958Z",
     "iopub.status.idle": "2023-04-04T13:46:06.867149Z",
     "shell.execute_reply": "2023-04-04T13:46:06.866767Z",
     "shell.execute_reply.started": "2023-04-04T13:46:06.863309Z"
    },
    "tags": []
   },
   "outputs": [],
   "source": [
    "await atcs.disable_dome_following()"
   ]
  },
  {
   "cell_type": "markdown",
   "id": "3fc32bc5-5f36-4e5a-bcfd-27c3a9eeec21",
   "metadata": {
    "tags": []
   },
   "source": [
    "### Now run the actual test, taking a 30 second image at each location."
   ]
  },
  {
   "cell_type": "code",
   "execution_count": null,
   "id": "449950cc-ce9a-4e4a-8367-fe880a4982b2",
   "metadata": {
    "execution": {
     "iopub.execute_input": "2023-04-04T14:09:10.759780Z",
     "iopub.status.busy": "2023-04-04T14:09:10.759431Z",
     "iopub.status.idle": "2023-04-04T14:11:15.196194Z",
     "shell.execute_reply": "2023-04-04T14:11:15.195657Z",
     "shell.execute_reply.started": "2023-04-04T14:09:10.759762Z"
    },
    "jupyter": {
     "outputs_hidden": true
    },
    "tags": []
   },
   "outputs": [],
   "source": [
    "# Move to starting location\n",
    "coord=atcs.radec_from_azel(az=270, el=45)\n",
    "await atcs.slew_icrs(coord.ra, coord.dec, rot=0.0, rot_type=RotType.Physical)"
   ]
  },
  {
   "cell_type": "code",
   "execution_count": null,
   "id": "eeb62b3b-9b34-4511-87bc-07587a3ce772",
   "metadata": {
    "execution": {
     "iopub.execute_input": "2023-04-04T14:11:18.468111Z",
     "iopub.status.busy": "2023-04-04T14:11:18.467717Z",
     "iopub.status.idle": "2023-04-04T14:11:50.970705Z",
     "shell.execute_reply": "2023-04-04T14:11:50.970144Z",
     "shell.execute_reply.started": "2023-04-04T14:11:18.468091Z"
    },
    "tags": []
   },
   "outputs": [],
   "source": [
    "await latiss.take_darks(30.0, 1)"
   ]
  },
  {
   "cell_type": "code",
   "execution_count": null,
   "id": "6897aaac-84b7-4a47-adae-e03bf57288b9",
   "metadata": {
    "execution": {
     "iopub.execute_input": "2023-04-04T14:11:58.695330Z",
     "iopub.status.busy": "2023-04-04T14:11:58.694970Z",
     "iopub.status.idle": "2023-04-04T15:26:59.421751Z",
     "shell.execute_reply": "2023-04-04T15:26:59.421122Z",
     "shell.execute_reply.started": "2023-04-04T14:11:58.695310Z"
    },
    "jupyter": {
     "outputs_hidden": true
    },
    "tags": []
   },
   "outputs": [],
   "source": [
    "# Now run the actual test\n",
    "# First image is 2023040400014\n",
    "az = 270.0\n",
    "for i in range(90):\n",
    "    az -= 2.0\n",
    "    coord=atcs.radec_from_azel(az=az, el=45)\n",
    "    await atcs.slew_icrs(coord.ra, coord.dec, rot=0.0, rot_type=RotType.Physical)\n",
    "    await latiss.take_darks(30.0, 1)\n"
   ]
  },
  {
   "cell_type": "code",
   "execution_count": null,
   "id": "3ea5225b",
   "metadata": {
    "execution": {
     "iopub.execute_input": "2023-04-04T15:51:59.816765Z",
     "iopub.status.busy": "2023-04-04T15:51:59.816472Z",
     "iopub.status.idle": "2023-04-04T15:52:24.242535Z",
     "shell.execute_reply": "2023-04-04T15:52:24.241971Z",
     "shell.execute_reply.started": "2023-04-04T15:51:59.816746Z"
    },
    "jupyter": {
     "outputs_hidden": true
    },
    "tags": []
   },
   "outputs": [],
   "source": [
    "# Stop tracking\n",
    "await atcs.stop_tracking()"
   ]
  },
  {
   "cell_type": "markdown",
   "id": "a435880e",
   "metadata": {},
   "source": [
    "## Shutdown all ATCS components"
   ]
  },
  {
   "cell_type": "code",
   "execution_count": null,
   "id": "723d22b0",
   "metadata": {
    "jupyter": {
     "outputs_hidden": true
    },
    "tags": []
   },
   "outputs": [],
   "source": [
    "await atcs.shutdown()"
   ]
  },
  {
   "cell_type": "markdown",
   "id": "621b5407",
   "metadata": {},
   "source": [
    "## Put LATISS in standby"
   ]
  },
  {
   "cell_type": "code",
   "execution_count": null,
   "id": "80517626",
   "metadata": {
    "tags": []
   },
   "outputs": [],
   "source": [
    "await latiss.standby()"
   ]
  },
  {
   "cell_type": "code",
   "execution_count": null,
   "id": "58009d48-693f-452a-b497-ccc6008c1975",
   "metadata": {},
   "outputs": [],
   "source": []
  }
 ],
 "metadata": {
  "kernelspec": {
   "display_name": "LSST",
   "language": "python",
   "name": "lsst"
  },
  "language_info": {
   "codemirror_mode": {
    "name": "ipython",
    "version": 3
   },
   "file_extension": ".py",
   "mimetype": "text/x-python",
   "name": "python",
   "nbconvert_exporter": "python",
   "pygments_lexer": "ipython3",
   "version": "3.10.9"
  }
 },
 "nbformat": 4,
 "nbformat_minor": 5
}
