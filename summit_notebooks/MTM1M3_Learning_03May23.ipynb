{
 "cells": [
  {
   "cell_type": "markdown",
   "metadata": {},
   "source": [
    "# M1M3 cell learning\n",
    "Craig Lage - 14-Apr-23 \\\n",
    "The 17 tons of mirror are supported by 156 pneumatic actuators where 44 are single-axis and provide support only on the axial direction, 100 are dual-axis providing support in the axial and lateral direction, and 12 are dual-axis providing support in the axial and cross lateral directions. \\\n",
    "Positioning is provided by 6 hard points in a hexapod configuration which moves the mirror to a fixed operational position that shall be maintained during telescope operations. The remaining optical elements will be moved relative to this position in order to align the telescope optics. Support and optical figure correction is provided by 112 dual axis and 44 single axis pneumatic actuators. "
   ]
  },
  {
   "cell_type": "code",
   "execution_count": null,
   "metadata": {
    "execution": {
     "iopub.execute_input": "2023-05-03T14:04:23.688316Z",
     "iopub.status.busy": "2023-05-03T14:04:23.688162Z",
     "iopub.status.idle": "2023-05-03T14:04:24.142183Z",
     "shell.execute_reply": "2023-05-03T14:04:24.141666Z",
     "shell.execute_reply.started": "2023-05-03T14:04:23.688303Z"
    },
    "tags": []
   },
   "outputs": [],
   "source": [
    "import sys, time, os, asyncio, glob\n",
    "from datetime import datetime\n",
    "import numpy as np\n",
    "import matplotlib.pyplot as plt\n",
    "import matplotlib as mpl\n",
    "from matplotlib.colors import LightSource as LS\n",
    "import pickle as pkl\n",
    "from astropy.time import Time, TimeDelta\n",
    "import lsst.ts.cRIOpy.M1M3FATable as M1M3FATable\n",
    "\n",
    "from lsst_efd_client import EfdClient\n",
    "\n"
   ]
  },
  {
   "cell_type": "code",
   "execution_count": null,
   "metadata": {
    "execution": {
     "iopub.execute_input": "2023-05-03T14:04:24.144680Z",
     "iopub.status.busy": "2023-05-03T14:04:24.144415Z",
     "iopub.status.idle": "2023-05-03T14:04:25.559148Z",
     "shell.execute_reply": "2023-05-03T14:04:25.558556Z",
     "shell.execute_reply.started": "2023-05-03T14:04:24.144663Z"
    },
    "tags": []
   },
   "outputs": [],
   "source": [
    "client = EfdClient('summit_efd')\n",
    "FATABLE = M1M3FATable.FATABLE"
   ]
  },
  {
   "cell_type": "code",
   "execution_count": null,
   "metadata": {
    "execution": {
     "iopub.execute_input": "2023-05-03T14:04:25.561532Z",
     "iopub.status.busy": "2023-05-03T14:04:25.561385Z",
     "iopub.status.idle": "2023-05-03T14:04:25.847359Z",
     "shell.execute_reply": "2023-05-03T14:04:25.846804Z",
     "shell.execute_reply.started": "2023-05-03T14:04:25.561517Z"
    },
    "tags": []
   },
   "outputs": [],
   "source": [
    "fig = plt.figure(figsize=(8,8))\n",
    "plt.subplot(1,1,1,aspect=1.0)\n",
    "plt.xlabel(\"X position (m)\")\n",
    "plt.ylabel(\"Y position (m)\")\n",
    "plt.title(\"M1M3 Actuator positions and type\\nHardpoints are approximate\", fontsize=18)\n",
    "types = [['SAA','NA', 'o', 'Z', 'b'], ['DAA','+Y', '^', '+Y','g'], ['DAA','-Y', 'v', '-Y', 'cyan'], \\\n",
    "         ['DAA','+X', '>', '+X', 'r'], ['DAA','-X', '<', '-X', 'r']]\n",
    "for [type, orient, marker, label, color] in types: \n",
    "    xs = []\n",
    "    ys = []\n",
    "    for i in range(len(FATABLE)):\n",
    "        x = FATABLE[i][M1M3FATable.FATABLE_XPOSITION]\n",
    "        y = FATABLE[i][M1M3FATable.FATABLE_YPOSITION]\n",
    "        if FATABLE[i][M1M3FATable.FATABLE_TYPE] == type and FATABLE[i][M1M3FATable.FATABLE_ORIENTATION] == orient:\n",
    "            xs.append(x)\n",
    "            ys.append(y)\n",
    "        else:\n",
    "            continue\n",
    "    plt.scatter(xs, ys, marker=marker, color=color, s=200, label=label)        \n",
    "\n",
    "# Now plot approximate hardpoint location\n",
    "Rhp = 3.1 # Radius in meters\n",
    "for i in range(6):\n",
    "    theta = 2.0 * np.pi / 6.0 * float(i)\n",
    "    if i == 0:\n",
    "        plt.scatter(Rhp * np.cos(theta), Rhp * np.sin(theta), marker='o', color='magenta', s=200, label='HP')\n",
    "    else:\n",
    "        plt.scatter(Rhp * np.cos(theta), Rhp * np.sin(theta), marker='o', color='magenta', s=200, label='_nolegend_')\n",
    "plt.legend(loc='lower left', fontsize=9)"
   ]
  },
  {
   "cell_type": "code",
   "execution_count": null,
   "metadata": {
    "execution": {
     "iopub.execute_input": "2023-05-03T14:05:03.713344Z",
     "iopub.status.busy": "2023-05-03T14:05:03.713064Z",
     "iopub.status.idle": "2023-05-03T14:05:03.716571Z",
     "shell.execute_reply": "2023-05-03T14:05:03.716177Z",
     "shell.execute_reply.started": "2023-05-03T14:05:03.713328Z"
    },
    "tags": []
   },
   "outputs": [],
   "source": [
    "# Times of bump test\n",
    "start = Time(\"2020-06-01T00:00:00\", scale='utc')\n",
    "#end = Time(\"2022-06-01T00:00:00\", scale='utc')\n",
    "end = Time(\"2023-04-20T00:00:00\", scale='utc')"
   ]
  },
  {
   "cell_type": "code",
   "execution_count": null,
   "metadata": {
    "execution": {
     "iopub.execute_input": "2023-05-03T14:05:47.997470Z",
     "iopub.status.busy": "2023-05-03T14:05:47.997169Z",
     "iopub.status.idle": "2023-05-03T14:05:50.661526Z",
     "shell.execute_reply": "2023-05-03T14:05:50.661076Z",
     "shell.execute_reply.started": "2023-05-03T14:05:47.997453Z"
    }
   },
   "outputs": [],
   "source": [
    "tests = await client.select_time_series(\"lsst.sal.MTM1M3.command_forceActuatorBumpTest\", \"*\", start.utc, end.utc)"
   ]
  },
  {
   "cell_type": "code",
   "execution_count": null,
   "metadata": {
    "execution": {
     "iopub.execute_input": "2023-05-03T14:05:57.476495Z",
     "iopub.status.busy": "2023-05-03T14:05:57.476201Z",
     "iopub.status.idle": "2023-05-03T14:05:57.479590Z",
     "shell.execute_reply": "2023-05-03T14:05:57.479217Z",
     "shell.execute_reply.started": "2023-05-03T14:05:57.476479Z"
    }
   },
   "outputs": [],
   "source": [
    "len(tests)"
   ]
  },
  {
   "cell_type": "code",
   "execution_count": null,
   "metadata": {
    "execution": {
     "iopub.execute_input": "2023-05-03T14:06:11.743255Z",
     "iopub.status.busy": "2023-05-03T14:06:11.742966Z",
     "iopub.status.idle": "2023-05-03T14:06:11.746571Z",
     "shell.execute_reply": "2023-05-03T14:06:11.746182Z",
     "shell.execute_reply.started": "2023-05-03T14:06:11.743239Z"
    }
   },
   "outputs": [],
   "source": [
    "tests.columns"
   ]
  },
  {
   "cell_type": "code",
   "execution_count": null,
   "metadata": {
    "execution": {
     "iopub.execute_input": "2023-05-03T14:07:27.047061Z",
     "iopub.status.busy": "2023-05-03T14:07:27.046781Z",
     "iopub.status.idle": "2023-05-03T14:07:27.057444Z",
     "shell.execute_reply": "2023-05-03T14:07:27.057042Z",
     "shell.execute_reply.started": "2023-05-03T14:07:27.047045Z"
    },
    "tags": []
   },
   "outputs": [],
   "source": [
    "tests.head(5)"
   ]
  },
  {
   "cell_type": "code",
   "execution_count": null,
   "metadata": {
    "execution": {
     "iopub.execute_input": "2023-05-03T14:09:11.259414Z",
     "iopub.status.busy": "2023-05-03T14:09:11.259121Z",
     "iopub.status.idle": "2023-05-03T14:09:11.435597Z",
     "shell.execute_reply": "2023-05-03T14:09:11.435179Z",
     "shell.execute_reply.started": "2023-05-03T14:09:11.259397Z"
    }
   },
   "outputs": [],
   "source": [
    "tests['actuatorId'].plot()"
   ]
  },
  {
   "cell_type": "code",
   "execution_count": null,
   "metadata": {
    "execution": {
     "iopub.execute_input": "2023-05-03T14:11:16.848090Z",
     "iopub.status.busy": "2023-05-03T14:11:16.847809Z",
     "iopub.status.idle": "2023-05-03T14:11:26.646987Z",
     "shell.execute_reply": "2023-05-03T14:11:26.646390Z",
     "shell.execute_reply.started": "2023-05-03T14:11:16.848073Z"
    }
   },
   "outputs": [],
   "source": [
    "manyBumps = await client.select_time_series(\"lsst.sal.MTM1M3.logevent_forceActuatorBumpTestStatus\", \"*\", start, end)"
   ]
  },
  {
   "cell_type": "code",
   "execution_count": null,
   "metadata": {
    "execution": {
     "iopub.execute_input": "2023-05-03T14:43:00.597743Z",
     "iopub.status.busy": "2023-05-03T14:43:00.597389Z",
     "iopub.status.idle": "2023-05-03T14:43:00.608584Z",
     "shell.execute_reply": "2023-05-03T14:43:00.608069Z",
     "shell.execute_reply.started": "2023-05-03T14:43:00.597726Z"
    },
    "tags": []
   },
   "outputs": [],
   "source": [
    "id = 227\n",
    "theseBumps = manyBumps[manyBumps['actuatorId']==id]\n",
    "index = M1M3FATable.actuatorIDToIndex(id)\n",
    "primaryBump = f\"primaryTest{FATABLE[index][M1M3FATable.FATABLE_ZINDEX]}\"\n",
    "primaryForce = f\"zForce{FATABLE[index][M1M3FATable.FATABLE_ZINDEX]}\"\n",
    "if FATABLE[index][M1M3FATable.FATABLE_TYPE] == 'DAA':\n",
    "    if FATABLE[index][M1M3FATable.FATABLE_ORIENTATION] in ['+Y', '-Y']:\n",
    "        secondaryBump = f\"secondaryTest{FATABLE[index][M1M3FATable.FATABLE_SINDEX]}\"\n",
    "        secondaryForce = f\"yForce{FATABLE[index][M1M3FATable.FATABLE_YINDEX]}\"\n",
    "        secondaryName = FATABLE[index][M1M3FATable.FATABLE_ORIENTATION]\n",
    "    else:\n",
    "        secondaryBump = f\"secondaryTest{FATABLE[index][M1M3FATable.FATABLE_SINDEX]}\"\n",
    "        secondaryForce = f\"xForce{FATABLE[index][M1M3FATable.FATABLE_XINDEX]}\"\n",
    "        secondaryName = FATABLE[index][M1M3FATable.FATABLE_ORIENTATION]\n",
    "else:\n",
    "    secondaryName = None\n",
    "plt.subplots_adjust(wspace=0.3)\n",
    "plt.suptitle(f\"Multiple bump tests Actuator ID {id}\", fontsize=18)\n",
    "\n",
    "# Now find the separate tests\n",
    "times = theseBumps['timestamp'].values\n",
    "startTimes = []\n",
    "endTimes = []\n",
    "for i, time in enumerate(times):\n",
    "    if i == 0:\n",
    "        startTimes.append(time)\n",
    "        continue\n",
    "    if (time - times[i-1]) > 60.0:\n",
    "        startTimes.append(time)\n",
    "        endTimes.append(times[i-1])\n",
    "endTimes.append(times[-1])\n"
   ]
  },
  {
   "cell_type": "code",
   "execution_count": null,
   "metadata": {
    "execution": {
     "iopub.execute_input": "2023-05-03T14:43:45.551311Z",
     "iopub.status.busy": "2023-05-03T14:43:45.551025Z",
     "iopub.status.idle": "2023-05-03T14:43:45.556134Z",
     "shell.execute_reply": "2023-05-03T14:43:45.555742Z",
     "shell.execute_reply.started": "2023-05-03T14:43:45.551296Z"
    },
    "tags": []
   },
   "outputs": [],
   "source": [
    "print(len(startTimes))\n",
    "for time in startTimes:\n",
    "    print(Time(time, format='unix_tai').isot)"
   ]
  },
  {
   "cell_type": "markdown",
   "metadata": {},
   "source": [
    "## Looking at hardpoint tests"
   ]
  },
  {
   "cell_type": "code",
   "execution_count": null,
   "metadata": {},
   "outputs": [],
   "source": [
    "# Times of bump test\n",
    "start = Time(\"2023-04-17T00:00:00\", scale='utc')\n",
    "end = Time(\"2023-04-17T00:00:00\", scale='utc')"
   ]
  }
 ],
 "metadata": {
  "kernelspec": {
   "display_name": "LSST",
   "language": "python",
   "name": "lsst"
  },
  "language_info": {
   "codemirror_mode": {
    "name": "ipython",
    "version": 3
   },
   "file_extension": ".py",
   "mimetype": "text/x-python",
   "name": "python",
   "nbconvert_exporter": "python",
   "pygments_lexer": "ipython3",
   "version": "3.10.9"
  }
 },
 "nbformat": 4,
 "nbformat_minor": 4
}
