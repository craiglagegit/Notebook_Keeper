{
 "cells": [
  {
   "cell_type": "markdown",
   "metadata": {},
   "source": [
    "## Twilight Calculator\n",
    "\n",
    "Craig Lage - 29-Jun-22"
   ]
  },
  {
   "cell_type": "code",
   "execution_count": null,
   "metadata": {
    "execution": {
     "iopub.execute_input": "2023-08-15T19:49:16.538085Z",
     "iopub.status.busy": "2023-08-15T19:49:16.537938Z",
     "iopub.status.idle": "2023-08-15T19:49:18.555319Z",
     "shell.execute_reply": "2023-08-15T19:49:18.554780Z",
     "shell.execute_reply.started": "2023-08-15T19:49:16.538068Z"
    },
    "tags": []
   },
   "outputs": [],
   "source": [
    "import numpy as np\n",
    "import matplotlib.pyplot as plt\n",
    "import astropy.io.fits as pf\n",
    "from astropy.time import Time, TimeDelta\n",
    "from astropy.coordinates import AltAz, ICRS, EarthLocation, Angle, FK5, SkyCoord\n",
    "import astropy.units as u\n",
    "from lsst.obs.lsst.translators.latiss import AUXTEL_LOCATION\n",
    "from astroplan import Observer\n",
    "from pytz import timezone"
   ]
  },
  {
   "cell_type": "code",
   "execution_count": null,
   "metadata": {
    "execution": {
     "iopub.execute_input": "2023-08-15T19:49:19.350308Z",
     "iopub.status.busy": "2023-08-15T19:49:19.349963Z",
     "iopub.status.idle": "2023-08-15T19:49:21.527558Z",
     "shell.execute_reply": "2023-08-15T19:49:21.527082Z",
     "shell.execute_reply.started": "2023-08-15T19:49:19.350291Z"
    },
    "tags": []
   },
   "outputs": [],
   "source": [
    "tz = timezone(\"Chile/Continental\")\n",
    "rubin = Observer(location=AUXTEL_LOCATION, name=\"Rubin\", timezone=tz)\n",
    "sun_rise = rubin.sun_rise_time(Time.now()).to_datetime(timezone=tz)\n",
    "sun_set = rubin.sun_set_time(Time.now()).to_datetime(timezone=tz)\n",
    "evening_astronomical = rubin.twilight_evening_astronomical(Time.now()).to_datetime(timezone=tz)\n",
    "morning_astronomical = rubin.twilight_morning_astronomical(Time.now()).to_datetime(timezone=tz)\n",
    "evening_nautical = rubin.twilight_evening_nautical(Time.now()).to_datetime(timezone=tz)\n",
    "morning_nautical = rubin.twilight_morning_nautical(Time.now()).to_datetime(timezone=tz)\n",
    "print(f\"Sun rise is {sun_rise.ctime()}\")\n",
    "print(f\"Sun set is {sun_set.ctime()}\")\n",
    "print(f\"End of evening nautical twilight is {evening_nautical.ctime()}\")\n",
    "print(f\"End of evening astronomical twilight is {evening_astronomical.ctime()}\")\n",
    "print(f\"Start of morning astronomical twilight is {morning_astronomical.ctime()}\")\n",
    "print(f\"Start of morning nautical twilight is {morning_nautical.ctime()}\")"
   ]
  },
  {
   "cell_type": "code",
   "execution_count": null,
   "metadata": {
    "execution": {
     "iopub.execute_input": "2023-03-21T15:58:57.756233Z",
     "iopub.status.busy": "2023-03-21T15:58:57.755890Z",
     "iopub.status.idle": "2023-03-21T15:58:57.768426Z",
     "shell.execute_reply": "2023-03-21T15:58:57.768043Z",
     "shell.execute_reply.started": "2023-03-21T15:58:57.756216Z"
    },
    "tags": []
   },
   "outputs": [],
   "source": [
    "rubin.sun_altaz(Time.now())"
   ]
  },
  {
   "cell_type": "code",
   "execution_count": null,
   "metadata": {
    "execution": {
     "iopub.execute_input": "2023-03-20T23:38:25.256303Z",
     "iopub.status.busy": "2023-03-20T23:38:25.256016Z",
     "iopub.status.idle": "2023-03-20T23:38:25.260006Z",
     "shell.execute_reply": "2023-03-20T23:38:25.259603Z",
     "shell.execute_reply.started": "2023-03-20T23:38:25.256286Z"
    }
   },
   "outputs": [],
   "source": [
    "EarthLocation?"
   ]
  },
  {
   "cell_type": "code",
   "execution_count": null,
   "metadata": {
    "execution": {
     "iopub.execute_input": "2023-03-20T23:42:44.670072Z",
     "iopub.status.busy": "2023-03-20T23:42:44.669793Z",
     "iopub.status.idle": "2023-03-20T23:42:44.682907Z",
     "shell.execute_reply": "2023-03-20T23:42:44.682501Z",
     "shell.execute_reply.started": "2023-03-20T23:42:44.670054Z"
    },
    "tags": []
   },
   "outputs": [],
   "source": [
    "from astropy.time import Time\n",
    "from astropy.coordinates import EarthLocation\n",
    "import astropy.units as u\n",
    "myLocation = Observer(location=EarthLocation(lon=-65.0*u.deg, lat=+45.0*u.deg, height=100.0*u.m))\n",
    "time = Time.now()\n",
    "print(myLocation.sun_altaz(time))"
   ]
  },
  {
   "cell_type": "code",
   "execution_count": null,
   "metadata": {},
   "outputs": [],
   "source": []
  }
 ],
 "metadata": {
  "kernelspec": {
   "display_name": "LSST",
   "language": "python",
   "name": "lsst"
  },
  "language_info": {
   "codemirror_mode": {
    "name": "ipython",
    "version": 3
   },
   "file_extension": ".py",
   "mimetype": "text/x-python",
   "name": "python",
   "nbconvert_exporter": "python",
   "pygments_lexer": "ipython3",
   "version": "3.10.11"
  }
 },
 "nbformat": 4,
 "nbformat_minor": 4
}
