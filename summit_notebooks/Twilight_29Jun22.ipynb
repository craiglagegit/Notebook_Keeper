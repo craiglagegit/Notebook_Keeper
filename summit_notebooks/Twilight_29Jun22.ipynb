{
 "cells": [
  {
   "cell_type": "markdown",
   "metadata": {},
   "source": [
    "## Twilight Calculator\n",
    "\n",
    "Craig Lage - 29-Jun-22"
   ]
  },
  {
   "cell_type": "code",
   "execution_count": null,
   "metadata": {
    "execution": {
     "iopub.execute_input": "2024-06-25T22:40:20.051182Z",
     "iopub.status.busy": "2024-06-25T22:40:20.050935Z",
     "iopub.status.idle": "2024-06-25T22:40:23.086744Z",
     "shell.execute_reply": "2024-06-25T22:40:23.086234Z",
     "shell.execute_reply.started": "2024-06-25T22:40:20.051157Z"
    },
    "tags": []
   },
   "outputs": [],
   "source": [
    "import numpy as np\n",
    "import matplotlib.pyplot as plt\n",
    "import astropy.io.fits as pf\n",
    "from astropy.time import Time, TimeDelta\n",
    "from astropy.coordinates import AltAz, ICRS, EarthLocation, Angle, FK5, SkyCoord\n",
    "import astropy.units as u\n",
    "from lsst.obs.lsst.translators.latiss import AUXTEL_LOCATION\n",
    "from astroplan import Observer\n",
    "from pytz import timezone"
   ]
  },
  {
   "cell_type": "code",
   "execution_count": null,
   "metadata": {
    "execution": {
     "iopub.execute_input": "2024-06-25T22:40:24.513818Z",
     "iopub.status.busy": "2024-06-25T22:40:24.513339Z",
     "iopub.status.idle": "2024-06-25T22:40:47.676705Z",
     "shell.execute_reply": "2024-06-25T22:40:47.675913Z",
     "shell.execute_reply.started": "2024-06-25T22:40:24.513803Z"
    },
    "tags": []
   },
   "outputs": [],
   "source": [
    "tz = timezone(\"Chile/Continental\")\n",
    "rubin = Observer(location=AUXTEL_LOCATION, name=\"Rubin\", timezone=tz)\n",
    "sun_rise = rubin.sun_rise_time(Time.now()).to_datetime(timezone=tz)\n",
    "sun_set = rubin.sun_set_time(Time.now()).to_datetime(timezone=tz)\n",
    "evening_astronomical = rubin.twilight_evening_astronomical(Time.now()).to_datetime(timezone=tz)\n",
    "morning_astronomical = rubin.twilight_morning_astronomical(Time.now()).to_datetime(timezone=tz)\n",
    "evening_nautical = rubin.twilight_evening_nautical(Time.now()).to_datetime(timezone=tz)\n",
    "morning_nautical = rubin.twilight_morning_nautical(Time.now()).to_datetime(timezone=tz)\n",
    "print(f\"Sun rise is {sun_rise.ctime()}\")\n",
    "print(f\"Sun set is {sun_set.ctime()}\")\n",
    "print(f\"End of evening nautical twilight is {evening_nautical.ctime()}\")\n",
    "print(f\"End of evening astronomical twilight is {evening_astronomical.ctime()}\")\n",
    "print(f\"Start of morning astronomical twilight is {morning_astronomical.ctime()}\")\n",
    "print(f\"Start of morning nautical twilight is {morning_nautical.ctime()}\")"
   ]
  },
  {
   "cell_type": "code",
   "execution_count": null,
   "metadata": {
    "execution": {
     "iopub.execute_input": "2024-02-08T14:51:23.547887Z",
     "iopub.status.busy": "2024-02-08T14:51:23.547473Z",
     "iopub.status.idle": "2024-02-08T14:51:23.568925Z",
     "shell.execute_reply": "2024-02-08T14:51:23.568327Z",
     "shell.execute_reply.started": "2024-02-08T14:51:23.547856Z"
    },
    "tags": []
   },
   "outputs": [],
   "source": [
    "rubin.sun_altaz(Time.now())"
   ]
  },
  {
   "cell_type": "code",
   "execution_count": null,
   "metadata": {
    "execution": {
     "iopub.execute_input": "2024-02-08T17:16:52.509361Z",
     "iopub.status.busy": "2024-02-08T17:16:52.508986Z",
     "iopub.status.idle": "2024-02-08T17:16:52.720915Z",
     "shell.execute_reply": "2024-02-08T17:16:52.720331Z",
     "shell.execute_reply.started": "2024-02-08T17:16:52.509332Z"
    }
   },
   "outputs": [],
   "source": [
    "sun_rise = rubin.sun_rise_time(Time.now()).to_datetime(timezone=tz)\n",
    "sun_set = rubin.sun_set_time(Time.now()).to_datetime(timezone=tz)\n"
   ]
  },
  {
   "cell_type": "code",
   "execution_count": null,
   "metadata": {
    "execution": {
     "iopub.execute_input": "2024-02-08T17:21:08.519930Z",
     "iopub.status.busy": "2024-02-08T17:21:08.519534Z",
     "iopub.status.idle": "2024-02-08T17:21:13.674062Z",
     "shell.execute_reply": "2024-02-08T17:21:13.673237Z",
     "shell.execute_reply.started": "2024-02-08T17:21:08.519898Z"
    }
   },
   "outputs": [],
   "source": [
    "alts = []\n",
    "azs = []\n",
    "time = Time(sun_rise)\n",
    "while time < Time(sun_set):\n",
    "    result = rubin.sun_altaz(time)\n",
    "    alts.append(result.alt.deg)\n",
    "    azs.append(result.az.rad)\n",
    "    time += TimeDelta(60.0, format='sec')"
   ]
  },
  {
   "cell_type": "code",
   "execution_count": null,
   "metadata": {
    "execution": {
     "iopub.execute_input": "2024-02-08T17:24:38.190060Z",
     "iopub.status.busy": "2024-02-08T17:24:38.189731Z",
     "iopub.status.idle": "2024-02-08T17:24:38.499371Z",
     "shell.execute_reply": "2024-02-08T17:24:38.498909Z",
     "shell.execute_reply.started": "2024-02-08T17:24:38.190020Z"
    }
   },
   "outputs": [],
   "source": [
    "fig=plt.figure(figsize=(8,8))\n",
    "ax1 = plt.subplot(111, projection='polar')\n",
    "ax1.invert_yaxis()\n",
    "ax1.set_title(\"Sun location\")\n",
    "ax1.scatter(azs, alts, color='red', marker='x')\n"
   ]
  },
  {
   "cell_type": "code",
   "execution_count": null,
   "metadata": {},
   "outputs": [],
   "source": []
  }
 ],
 "metadata": {
  "kernelspec": {
   "display_name": "LSST",
   "language": "python",
   "name": "lsst"
  },
  "language_info": {
   "codemirror_mode": {
    "name": "ipython",
    "version": 3
   },
   "file_extension": ".py",
   "mimetype": "text/x-python",
   "name": "python",
   "nbconvert_exporter": "python",
   "pygments_lexer": "ipython3",
   "version": "3.11.9"
  }
 },
 "nbformat": 4,
 "nbformat_minor": 4
}
