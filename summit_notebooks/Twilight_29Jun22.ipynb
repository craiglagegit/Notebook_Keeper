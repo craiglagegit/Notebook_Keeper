{
 "cells": [
  {
   "cell_type": "markdown",
   "metadata": {},
   "source": [
    "## Twilight Calculator\n",
    "\n",
    "Craig Lage - 29-Jun-22"
   ]
  },
  {
   "cell_type": "code",
   "execution_count": null,
   "metadata": {
    "execution": {
     "iopub.execute_input": "2024-07-29T22:44:45.464303Z",
     "iopub.status.busy": "2024-07-29T22:44:45.464168Z",
     "iopub.status.idle": "2024-07-29T22:44:47.715207Z",
     "shell.execute_reply": "2024-07-29T22:44:47.714321Z",
     "shell.execute_reply.started": "2024-07-29T22:44:45.464288Z"
    },
    "tags": []
   },
   "outputs": [],
   "source": [
    "from astropy.time import Time\n",
    "from lsst.obs.lsst.translators.latiss import AUXTEL_LOCATION\n",
    "from astroplan import Observer\n",
    "from pytz import timezone"
   ]
  },
  {
   "cell_type": "code",
   "execution_count": null,
   "metadata": {
    "execution": {
     "iopub.execute_input": "2024-07-29T22:44:47.718727Z",
     "iopub.status.busy": "2024-07-29T22:44:47.718550Z",
     "iopub.status.idle": "2024-07-29T22:44:48.914492Z",
     "shell.execute_reply": "2024-07-29T22:44:48.913614Z",
     "shell.execute_reply.started": "2024-07-29T22:44:47.718709Z"
    },
    "tags": []
   },
   "outputs": [],
   "source": [
    "tz = timezone(\"Chile/Continental\")\n",
    "rubin = Observer(location=AUXTEL_LOCATION, name=\"Rubin\", timezone=tz)\n",
    "sun_rise = rubin.sun_rise_time(Time.now()).to_datetime(timezone=tz)\n",
    "sun_set = rubin.sun_set_time(Time.now()).to_datetime(timezone=tz)\n",
    "evening_astronomical = rubin.twilight_evening_astronomical(Time.now()).to_datetime(timezone=tz)\n",
    "morning_astronomical = rubin.twilight_morning_astronomical(Time.now()).to_datetime(timezone=tz)\n",
    "evening_nautical = rubin.twilight_evening_nautical(Time.now()).to_datetime(timezone=tz)\n",
    "morning_nautical = rubin.twilight_morning_nautical(Time.now()).to_datetime(timezone=tz)\n",
    "print(f\"Sun rise is {sun_rise.ctime()}\")\n",
    "print(f\"Sun set is {sun_set.ctime()}\")\n",
    "print(f\"End of evening nautical twilight is {evening_nautical.ctime()}\")\n",
    "print(f\"End of evening astronomical twilight is {evening_astronomical.ctime()}\")\n",
    "print(f\"Start of morning astronomical twilight is {morning_astronomical.ctime()}\")\n",
    "print(f\"Start of morning nautical twilight is {morning_nautical.ctime()}\")"
   ]
  },
  {
   "cell_type": "code",
   "execution_count": null,
   "metadata": {},
   "outputs": [],
   "source": []
  }
 ],
 "metadata": {
  "kernelspec": {
   "display_name": "LSST",
   "language": "python",
   "name": "lsst"
  },
  "language_info": {
   "codemirror_mode": {
    "name": "ipython",
    "version": 3
   },
   "file_extension": ".py",
   "mimetype": "text/x-python",
   "name": "python",
   "nbconvert_exporter": "python",
   "pygments_lexer": "ipython3",
   "version": "3.11.9"
  }
 },
 "nbformat": 4,
 "nbformat_minor": 4
}
