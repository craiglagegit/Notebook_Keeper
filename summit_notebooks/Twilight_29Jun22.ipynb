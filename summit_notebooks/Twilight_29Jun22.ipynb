{
 "cells": [
  {
   "cell_type": "markdown",
   "metadata": {},
   "source": [
    "## Twilight Calculator\n",
    "\n",
    "Craig Lage - 29-Jun-22"
   ]
  },
  {
   "cell_type": "code",
   "execution_count": null,
   "metadata": {
    "execution": {
     "iopub.execute_input": "2023-01-31T19:55:55.468534Z",
     "iopub.status.busy": "2023-01-31T19:55:55.468245Z",
     "iopub.status.idle": "2023-01-31T19:55:57.354931Z",
     "shell.execute_reply": "2023-01-31T19:55:57.354323Z",
     "shell.execute_reply.started": "2023-01-31T19:55:55.468514Z"
    }
   },
   "outputs": [],
   "source": [
    "import numpy as np\n",
    "import matplotlib.pyplot as plt\n",
    "import astropy.io.fits as pf\n",
    "from astropy.time import Time, TimeDelta\n",
    "from astropy.coordinates import AltAz, ICRS, EarthLocation, Angle, FK5, SkyCoord\n",
    "import astropy.units as u\n",
    "from lsst.obs.lsst.translators.latiss import AUXTEL_LOCATION\n",
    "from astroplan import Observer\n",
    "from pytz import timezone"
   ]
  },
  {
   "cell_type": "code",
   "execution_count": null,
   "metadata": {
    "execution": {
     "iopub.execute_input": "2023-01-31T19:55:57.360607Z",
     "iopub.status.busy": "2023-01-31T19:55:57.360388Z",
     "iopub.status.idle": "2023-01-31T19:55:58.558821Z",
     "shell.execute_reply": "2023-01-31T19:55:58.558232Z",
     "shell.execute_reply.started": "2023-01-31T19:55:57.360585Z"
    }
   },
   "outputs": [],
   "source": [
    "tz = timezone(\"Chile/Continental\")\n",
    "rubin = Observer(location=AUXTEL_LOCATION, name=\"Rubin\", timezone=tz)\n",
    "sun_rise = rubin.sun_rise_time(Time.now()).to_datetime(timezone=tz)\n",
    "sun_set = rubin.sun_set_time(Time.now()).to_datetime(timezone=tz)\n",
    "evening_astronomical = rubin.twilight_evening_astronomical(Time.now()).to_datetime(timezone=tz)\n",
    "morning_astronomical = rubin.twilight_morning_astronomical(Time.now()).to_datetime(timezone=tz)\n",
    "evening_nautical = rubin.twilight_evening_nautical(Time.now()).to_datetime(timezone=tz)\n",
    "morning_nautical = rubin.twilight_morning_nautical(Time.now()).to_datetime(timezone=tz)\n",
    "print(f\"Sun rise is {sun_rise.ctime()}\")\n",
    "print(f\"Sun set is {sun_set.ctime()}\")\n",
    "print(f\"End of evening nautical twilight is {evening_nautical.ctime()}\")\n",
    "print(f\"End of evening astronomical twilight is {evening_astronomical.ctime()}\")\n",
    "print(f\"Start of morning astronomical twilight is {morning_astronomical.ctime()}\")\n",
    "print(f\"Start of morning nautical twilight is {morning_nautical.ctime()}\")"
   ]
  },
  {
   "cell_type": "code",
   "execution_count": null,
   "metadata": {},
   "outputs": [],
   "source": []
  }
 ],
 "metadata": {
  "kernelspec": {
   "display_name": "LSST",
   "language": "python",
   "name": "lsst"
  },
  "language_info": {
   "codemirror_mode": {
    "name": "ipython",
    "version": 3
   },
   "file_extension": ".py",
   "mimetype": "text/x-python",
   "name": "python",
   "nbconvert_exporter": "python",
   "pygments_lexer": "ipython3",
   "version": "3.10.6"
  }
 },
 "nbformat": 4,
 "nbformat_minor": 4
}
