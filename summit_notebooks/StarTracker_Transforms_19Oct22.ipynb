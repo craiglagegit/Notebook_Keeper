{
 "cells": [
  {
   "cell_type": "markdown",
   "metadata": {},
   "source": [
    "## Astronomical coordinate Conversion - 16-Nov-22\n",
    "\n",
    "Craig Lage"
   ]
  },
  {
   "cell_type": "code",
   "execution_count": null,
   "metadata": {},
   "outputs": [],
   "source": [
    "import sys, time, os, asyncio, glob\n",
    "from datetime import datetime\n",
    "import numpy as np\n",
    "import matplotlib.pyplot as plt\n",
    "from astropy.time import Time, TimeDelta\n",
    "from astropy.coordinates import AltAz, ICRS, EarthLocation, Angle, FK5, SkyCoord\n",
    "import astropy.units as u\n",
    "from lsst.obs.lsst.translators.latiss import AUXTEL_LOCATION\n",
    "from lsst.obs.lsst.translators.lsst import SIMONYI_LOCATION"
   ]
  },
  {
   "cell_type": "code",
   "execution_count": null,
   "metadata": {},
   "outputs": [],
   "source": [
    "# RA, Dec to AltAz\n",
    "RA = +95.99\n",
    "Dec = -52.69\n",
    "skyLocation = SkyCoord(RA*u.deg, Dec*u.deg)\n",
    "now = Time(datetime.now())\n",
    "altAz = AltAz(obstime=now, location=AUXTEL_LOCATION)\n",
    "obsAltAz = skyLocation.transform_to(altAz)\n",
    "print(RA, Dec, obsAltAz.az.deg, obsAltAz.alt.deg)"
   ]
  },
  {
   "cell_type": "code",
   "execution_count": null,
   "metadata": {},
   "outputs": [],
   "source": [
    "# RA, Dec to AltAz\n",
    "RA = +95.99\n",
    "Dec = -52.69\n",
    "skyLocation = SkyCoord(RA*u.deg, Dec*u.deg)\n",
    "now = Time('2022-10-27T06:00:00')\n",
    "altAz = AltAz(obstime=now, location=AUXTEL_LOCATION)\n",
    "obsAltAz = skyLocation.transform_to(altAz)\n",
    "print(RA, Dec, obsAltAz.az.deg, obsAltAz.alt.deg)"
   ]
  },
  {
   "cell_type": "code",
   "execution_count": null,
   "metadata": {},
   "outputs": [],
   "source": [
    "# AltAz to RA, Dec\n",
    "Alt = 32.21002\n",
    "Az = 182.104\n",
    "now = Time(datetime.now())\n",
    "altAz = SkyCoord(AltAz(alt=Alt*u.deg, az=Az*u.deg, obstime=now, location=AUXTEL_LOCATION))\n",
    "RaDec = altAz.transform_to(ICRS)\n",
    "print(Alt, Az, RaDec.ra.deg, RaDec.dec.deg)"
   ]
  },
  {
   "cell_type": "code",
   "execution_count": null,
   "metadata": {},
   "outputs": [],
   "source": [
    "# AltAz to RA, Dec\n",
    "Alt = 32.21002\n",
    "Az = -182.104\n",
    "now = Time('2022-06-30T03:59:13.360')\n",
    "altAz = SkyCoord(AltAz(alt=Alt*u.deg, az=Az*u.deg, obstime=now, location=AUXTEL_LOCATION))\n",
    "RaDec = altAz.transform_to(ICRS)\n",
    "print(Alt, Az, RaDec.ra.deg, RaDec.dec.deg)"
   ]
  },
  {
   "cell_type": "markdown",
   "metadata": {},
   "source": [
    "## StarTracker Conversions - 19-Oct-22\n"
   ]
  },
  {
   "cell_type": "code",
   "execution_count": null,
   "metadata": {},
   "outputs": [],
   "source": [
    "delta_TAI = -37.0"
   ]
  },
  {
   "cell_type": "code",
   "execution_count": null,
   "metadata": {},
   "outputs": [],
   "source": [
    "# Merlin's solution\n",
    "Image = 2022111500112\n",
    "RA_solve = 116.903\n",
    "Dec_solve = -76.796\n",
    "Az_point = 191.956\n",
    "El_point = 29.617\n",
    "skyLocation = SkyCoord(RA_solve*u.deg, Dec_solve*u.deg)\n",
    "now = Time('2022-11-16T03:18:07.099') + TimeDelta(delta_TAI, format='sec')\n",
    "altAz = AltAz(obstime=now, location=SIMONYI_LOCATION)\n",
    "obsAltAz = skyLocation.transform_to(altAz)\n",
    "deltaAz = Az_point - obsAltAz.az.deg\n",
    "deltaEl = El_point - obsAltAz.alt.deg\n",
    "print(f\"Image:{Image}, DeltaAz = {deltaAz:.3f} degrees, DeltaEl = {deltaEl:.3f} degrees\")"
   ]
  },
  {
   "cell_type": "code",
   "execution_count": null,
   "metadata": {},
   "outputs": [],
   "source": [
    "# Merlin's solution\n",
    "Image = 2022111500103\n",
    "RA_solve = 120.757\n",
    "Dec_solve = -77.887\n",
    "Az_point = 191.956\n",
    "El_point = 29.617\n",
    "skyLocation = SkyCoord(RA_solve*u.deg, Dec_solve*u.deg)\n",
    "now = Time('2022-11-16T03:15:28.189') + TimeDelta(delta_TAI, format='sec')\n",
    "altAz = AltAz(obstime=now, location=SIMONYI_LOCATION)\n",
    "obsAltAz = skyLocation.transform_to(altAz)\n",
    "deltaAz = Az_point - obsAltAz.az.deg\n",
    "deltaEl = El_point - obsAltAz.alt.deg\n",
    "print(f\"Image:{Image}, DeltaAz = {deltaAz:.3f} degrees, DeltaEl = {deltaEl:.3f} degrees\")"
   ]
  },
  {
   "cell_type": "code",
   "execution_count": null,
   "metadata": {},
   "outputs": [],
   "source": [
    "# Merlin's solution\n",
    "Image = 2022111500070\n",
    "RA_solve = 117.375\n",
    "Dec_solve = -79.443\n",
    "Az_point = 191.956\n",
    "El_point = 29.617\n",
    "skyLocation = SkyCoord(RA_solve*u.deg, Dec_solve*u.deg)\n",
    "now = Time('2022-11-16T03:07:38.932') + TimeDelta(delta_TAI, format='sec')\n",
    "altAz = AltAz(obstime=now, location=SIMONYI_LOCATION)\n",
    "obsAltAz = skyLocation.transform_to(altAz)\n",
    "deltaAz = Az_point - obsAltAz.az.deg\n",
    "deltaEl = El_point - obsAltAz.alt.deg\n",
    "print(f\"Image:{Image}, DeltaAz = {deltaAz:.3f} degrees, DeltaEl = {deltaEl:.3f} degrees\")"
   ]
  },
  {
   "cell_type": "code",
   "execution_count": null,
   "metadata": {},
   "outputs": [],
   "source": [
    "# Holger's solution with central pixel as reference pixel\n",
    "# There seems to be no doubt that this is a valid solution.\n",
    "Image = 2022111500028\n",
    "RA_solve = 47.394\n",
    "Dec_solve = -67.399\n",
    "Az_point = 194.084\n",
    "El_point = 48.277\n",
    "skyLocation = SkyCoord(RA_solve*u.deg, Dec_solve*u.deg)\n",
    "now = Time('2022-11-16T03:09:34.657') + TimeDelta(delta_TAI, format='sec')\n",
    "altAz = AltAz(obstime=now, location=SIMONYI_LOCATION)\n",
    "obsAltAz = skyLocation.transform_to(altAz)\n",
    "deltaAz = Az_point - obsAltAz.az.deg\n",
    "deltaEl = El_point - obsAltAz.alt.deg\n",
    "print(f\"Image:{Image}, DeltaAz = {deltaAz:.3f} degrees, DeltaEl = {deltaEl:.3f} degrees\")"
   ]
  },
  {
   "cell_type": "code",
   "execution_count": null,
   "metadata": {},
   "outputs": [],
   "source": [
    "# Holger's solution for image 100\n",
    "# There seems to be no doubt that this is a valid solution.\n",
    "Image = 2022111500100\n",
    "RA_solve = 122.55307\n",
    "Dec_solve = -75.89348\n",
    "Az_point = 191.9556\n",
    "El_point = 29.6168\n",
    "skyLocation = SkyCoord(RA_solve*u.deg, Dec_solve*u.deg)\n",
    "now = Time('2022-11-16T03:09:34.657') + TimeDelta(delta_TAI, format='sec')\n",
    "altAz = AltAz(obstime=now, location=SIMONYI_LOCATION)\n",
    "obsAltAz = skyLocation.transform_to(altAz)\n",
    "deltaAz = Az_point - obsAltAz.az.deg\n",
    "deltaEl = El_point - obsAltAz.alt.deg\n",
    "print(f\"Image:{Image}, Az = {obsAltAz.az.deg}, Alt = {obsAltAz.alt.deg}, DeltaAz = {deltaAz:.3f} degrees, DeltaEl = {deltaEl:.3f} degrees\")"
   ]
  },
  {
   "cell_type": "code",
   "execution_count": null,
   "metadata": {},
   "outputs": [],
   "source": []
  }
 ],
 "metadata": {
  "kernelspec": {
   "display_name": "LSST",
   "language": "python",
   "name": "lsst"
  },
  "language_info": {
   "codemirror_mode": {
    "name": "ipython",
    "version": 3
   },
   "file_extension": ".py",
   "mimetype": "text/x-python",
   "name": "python",
   "nbconvert_exporter": "python",
   "pygments_lexer": "ipython3",
   "version": "3.10.6"
  }
 },
 "nbformat": 4,
 "nbformat_minor": 4
}
