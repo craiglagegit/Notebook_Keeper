{
 "cells": [
  {
   "cell_type": "markdown",
   "metadata": {},
   "source": [
    "# Test the components of the take_stuttered script with focus shift\n",
    "\n",
    "Craig Lage - 29Aug23"
   ]
  },
  {
   "cell_type": "code",
   "execution_count": null,
   "metadata": {
    "execution": {
     "iopub.execute_input": "2023-09-04T12:06:30.542319Z",
     "iopub.status.busy": "2023-09-04T12:06:30.542200Z",
     "iopub.status.idle": "2023-09-04T12:06:33.774397Z",
     "shell.execute_reply": "2023-09-04T12:06:33.773589Z",
     "shell.execute_reply.started": "2023-09-04T12:06:30.542305Z"
    },
    "tags": []
   },
   "outputs": [],
   "source": [
    "import sys, asyncio, time, os\n",
    "import typing\n",
    "import numpy as np\n",
    "from astropy.time import Time, TimeDelta\n",
    "from astropy import units as u\n",
    "\n",
    "from lsst.ts.observatory.control.base_camera import BaseCamera\n",
    "from lsst.ts.observatory.control.utils.camera_exposure import CameraExposure\n"
   ]
  },
  {
   "cell_type": "code",
   "execution_count": null,
   "metadata": {
    "execution": {
     "iopub.execute_input": "2023-09-04T12:14:43.006872Z",
     "iopub.status.busy": "2023-09-04T12:14:43.006535Z",
     "iopub.status.idle": "2023-09-04T12:14:43.011964Z",
     "shell.execute_reply": "2023-09-04T12:14:43.010876Z",
     "shell.execute_reply.started": "2023-09-04T12:14:43.006845Z"
    },
    "tags": []
   },
   "outputs": [],
   "source": [
    "async def offset_hexapod(msg):\n",
    "    print(msg)\n",
    "    await asyncio.sleep(2)\n",
    "    print(\"Finished\")"
   ]
  },
  {
   "cell_type": "code",
   "execution_count": null,
   "metadata": {
    "execution": {
     "iopub.execute_input": "2023-09-04T12:14:46.678641Z",
     "iopub.status.busy": "2023-09-04T12:14:46.678282Z",
     "iopub.status.idle": "2023-09-04T12:14:46.683804Z",
     "shell.execute_reply": "2023-09-04T12:14:46.683077Z",
     "shell.execute_reply.started": "2023-09-04T12:14:46.678614Z"
    },
    "tags": []
   },
   "outputs": [],
   "source": [
    "imgtype=\"STUTTERED\"\n",
    "\n",
    "camera_exposure = CameraExposure(\n",
    "    exp_time=1.0,\n",
    "    shutter=imgtype not in [\"BIAS\", \"DARK\"],\n",
    "    image_type=imgtype,\n",
    "    group_id=None,\n",
    "    n=1,\n",
    "    n_snaps=1,\n",
    "    n_shift=20,\n",
    "    row_shift=100,\n",
    "    checkpoint=offset_hexapod,\n",
    "    test_type=None,\n",
    "    reason=None,\n",
    "    program=None,\n",
    "    sensors=None,\n",
    "    note=None,\n",
    "    \n",
    ")\n"
   ]
  },
  {
   "cell_type": "code",
   "execution_count": null,
   "metadata": {
    "execution": {
     "iopub.execute_input": "2023-09-04T12:14:49.541871Z",
     "iopub.status.busy": "2023-09-04T12:14:49.541466Z",
     "iopub.status.idle": "2023-09-04T12:14:51.548385Z",
     "shell.execute_reply": "2023-09-04T12:14:51.547561Z",
     "shell.execute_reply.started": "2023-09-04T12:14:49.541843Z"
    },
    "tags": []
   },
   "outputs": [],
   "source": [
    "await camera_exposure.checkpoint(\"Test\")"
   ]
  },
  {
   "cell_type": "code",
   "execution_count": null,
   "metadata": {
    "tags": []
   },
   "outputs": [],
   "source": [
    "imgtype=\"BIAS\"\n",
    "\n",
    "camera_exposure = CameraExposure(\n",
    "    exp_time=1.0,\n",
    "    shutter=imgtype not in [\"BIAS\", \"DARK\"],\n",
    "    image_type=imgtype,\n",
    "    group_id=None,\n",
    "    n=1,\n",
    "    n_snaps=1,\n",
    "    n_shift=20,\n",
    "    row_shift=100,\n",
    "    checkpoint=None,\n",
    "    test_type=None,\n",
    "    reason=None,\n",
    "    program=None,\n",
    "    sensors=None,\n",
    "    note=None,\n",
    "    \n",
    ")\n"
   ]
  },
  {
   "cell_type": "code",
   "execution_count": null,
   "metadata": {
    "jupyter": {
     "source_hidden": true
    },
    "tags": []
   },
   "outputs": [],
   "source": [
    "camera_exposure.checkpoint"
   ]
  },
  {
   "cell_type": "code",
   "execution_count": null,
   "metadata": {},
   "outputs": [],
   "source": []
  }
 ],
 "metadata": {
  "kernelspec": {
   "display_name": "LSST",
   "language": "python",
   "name": "lsst"
  },
  "language_info": {
   "codemirror_mode": {
    "name": "ipython",
    "version": 3
   },
   "file_extension": ".py",
   "mimetype": "text/x-python",
   "name": "python",
   "nbconvert_exporter": "python",
   "pygments_lexer": "ipython3",
   "version": "3.11.4"
  }
 },
 "nbformat": 4,
 "nbformat_minor": 4
}
