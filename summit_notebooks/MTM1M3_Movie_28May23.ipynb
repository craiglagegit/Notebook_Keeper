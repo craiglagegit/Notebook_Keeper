{
 "cells": [
  {
   "cell_type": "markdown",
   "metadata": {},
   "source": [
    "# M1M3 actuator movies\n",
    "Craig Lage - 20-Apr-23 \\\n",
    "The 17 tons of mirror are supported by 156 pneumatic actuators where 44 are single-axis and provide support only on the axial direction, 100 are dual-axis providing support in the axial and lateral direction, and 12 are dual-axis providing support in the axial and cross lateral directions. \\\n",
    "Positioning is provided by 6 hard points in a hexapod configuration which moves the mirror to a fixed operational position that shall be maintained during telescope operations. The remaining optical elements will be moved relative to this position in order to align the telescope optics. Support and optical figure correction is provided by 112 dual axis and 44 single axis pneumatic actuators. "
   ]
  },
  {
   "cell_type": "code",
   "execution_count": null,
   "metadata": {
    "tags": []
   },
   "outputs": [],
   "source": [
    "import sys, time, os, asyncio, glob\n",
    "import shlex, subprocess\n",
    "from datetime import datetime\n",
    "import numpy as np\n",
    "import matplotlib.pyplot as plt\n",
    "from matplotlib.colors import LightSource\n",
    "from astropy.time import Time, TimeDelta\n",
    "import lsst.ts.cRIOpy.M1M3FATable as M1M3FATable\n",
    "from lsst_efd_client import EfdClient"
   ]
  },
  {
   "cell_type": "markdown",
   "metadata": {},
   "source": [
    "## Set up the necessary subroutines"
   ]
  },
  {
   "cell_type": "code",
   "execution_count": null,
   "metadata": {
    "tags": []
   },
   "outputs": [],
   "source": [
    "def actuatorLayout(ax, FATABLE):\n",
    "    ax.set_xlabel(\"X position (m)\")\n",
    "    ax.set_ylabel(\"Y position (m)\")\n",
    "    ax.set_title(\"M1M3 Actuator positions and type\\nHardpoints are approximate\", fontsize=18)\n",
    "    types = [['SAA','NA', 'o', 'Z', 'b'], ['DAA','+Y', '^', '+Y','g'], ['DAA','-Y', 'v', '-Y', 'cyan'], \\\n",
    "             ['DAA','+X', '>', '+X', 'r'], ['DAA','-X', '<', '-X', 'r']]\n",
    "    for [type, orient, marker, label, color] in types:\n",
    "        xs = []\n",
    "        ys = []\n",
    "        for i in range(len(FATABLE)):\n",
    "            x = FATABLE[i][M1M3FATable.FATABLE_XPOSITION]\n",
    "            y = FATABLE[i][M1M3FATable.FATABLE_YPOSITION]\n",
    "            if FATABLE[i][M1M3FATable.FATABLE_TYPE] == type and FATABLE[i][M1M3FATable.FATABLE_ORIENTATION] == orient:\n",
    "                xs.append(x)\n",
    "                ys.append(y)\n",
    "            else:\n",
    "                continue\n",
    "        ax.scatter(xs, ys, marker=marker, color=color, s=200, label=label)\n",
    "\n",
    "    # Now plot approximate hardpoint location\n",
    "    Rhp = 3.1 # Radius in meters\n",
    "    for i in range(6):\n",
    "        theta = 2.0 * np.pi / 6.0 * float(i)\n",
    "        if i == 0:\n",
    "            ax.scatter(Rhp * np.cos(theta), Rhp * np.sin(theta), marker='o', color='magenta', \\\n",
    "                       s=200, label='HP')\n",
    "        else:\n",
    "            ax.scatter(Rhp * np.cos(theta), Rhp * np.sin(theta), marker='o', color='magenta', \\\n",
    "                       s=200, label='_nolegend_')\n",
    "    ax.legend(loc='lower left', fontsize=9)\n",
    "    \n",
    "    \n",
    "def barChartZ(df, df_zero, ax, FATABLE, index, zmin, zmax):\n",
    "    ax.set_xlabel(\"X position (m)\")\n",
    "    ax.set_ylabel(\"Y position (m)\")\n",
    "    ax.set_zlabel(\"Force (nt)\")\n",
    "    ax.set_title(\"M1M3 Actuator Z forces\", fontsize=18)\n",
    "\n",
    "    lightsource = LightSource(azdeg=180, altdeg=78)\n",
    "    greyColor = '0.9'\n",
    "    colors = []\n",
    "    xs = []\n",
    "    ys = []\n",
    "    for i in range(len(FATABLE)):\n",
    "        x = FATABLE[i][M1M3FATable.FATABLE_XPOSITION]\n",
    "        y = FATABLE[i][M1M3FATable.FATABLE_YPOSITION]\n",
    "        xs.append(x)\n",
    "        ys.append(y)\n",
    "        if FATABLE[i][M1M3FATable.FATABLE_TYPE] == 'SAA':\n",
    "            colors.append('blue'); colors.append('blue')\n",
    "            colors.append(greyColor); colors.append(greyColor)\n",
    "            colors.append(greyColor); colors.append(greyColor)\n",
    "        else:\n",
    "            if FATABLE[i][M1M3FATable.FATABLE_ORIENTATION] in ['+Y', '-Y']:\n",
    "                colors.append('green'); colors.append('green')\n",
    "                colors.append(greyColor); colors.append(greyColor)\n",
    "                colors.append(greyColor); colors.append(greyColor)\n",
    "            if FATABLE[i][M1M3FATable.FATABLE_ORIENTATION] in ['+X', '-X']:\n",
    "                colors.append('red'); colors.append('red')\n",
    "                colors.append(greyColor); colors.append(greyColor)\n",
    "                colors.append(greyColor); colors.append(greyColor)\n",
    "\n",
    "    zs = np.zeros([len(FATABLE)])\n",
    "    for i in range(len(FATABLE)):\n",
    "        name=f\"zForce{i}\"\n",
    "        zs[i] = df.iloc[index+1][name] - df_zero.iloc[0][name]\n",
    "\n",
    "    dxs = 0.2 * np.ones([len(FATABLE)])\n",
    "    dys = 0.2 * np.ones([len(FATABLE)])\n",
    "    bottom = np.zeros([len(FATABLE)])\n",
    "    ax.bar3d(xs, ys, bottom, dxs, dys, zs, shade=True, alpha=0.5, lightsource=lightsource, color=colors)\n",
    "    ax.set_zlim(zmin, zmax)\n",
    "    ax.view_init(elev=30., azim=225)\n",
    "    #ax.view_init(elev=60., azim=90)\n",
    "    \n",
    "\n",
    "def heatMapZ(df, df_zero, ax, FATABLE, index, zmin, zmax):\n",
    "    ax.set_xlabel(\"X position (m)\")\n",
    "    ax.set_ylabel(\"Y position (m)\")\n",
    "    ax.set_title(\"M1M3 Actuator Z forces (nt)\", fontsize=18)\n",
    "\n",
    "    types = [['SAA','NA', 'o', 'Z'], ['DAA','+Y', '^', '+Y'], ['DAA','-Y', 'v', '-Y'], ['DAA','+X', '>', '+X'], ['DAA','-X', '<', '-X']]\n",
    "\n",
    "    for [type, orient, marker, label] in types:\n",
    "        xs = []\n",
    "        ys = []\n",
    "        zs = []\n",
    "        for i in range(len(FATABLE)):\n",
    "            x = FATABLE[i][M1M3FATable.FATABLE_XPOSITION]\n",
    "            y = FATABLE[i][M1M3FATable.FATABLE_YPOSITION]\n",
    "            if FATABLE[i][M1M3FATable.FATABLE_TYPE] == type and FATABLE[i][M1M3FATable.FATABLE_ORIENTATION] == orient:\n",
    "                xs.append(x)\n",
    "                ys.append(y)\n",
    "                name=f\"zForce{i}\"\n",
    "                zs.append(df.iloc[index+1][name] - df_zero.iloc[0][name])\n",
    "        im = ax.scatter(xs, ys, marker=marker, c=zs, cmap='RdBu_r', vmin=zmin, vmax=zmax, s=50, label=label)\n",
    "    plt.colorbar(im, ax=ax,fraction=0.055, pad=0.02, cmap='RdBu_r')  \n",
    "    \n",
    "    \n",
    "    \n",
    "def lateralForces(df, df_zero, ax, FATABLE, index, forceMax):\n",
    "    ax.set_xlabel(\"X position (m)\")\n",
    "    ax.set_ylabel(\"Y position (m)\")\n",
    "    ax.set_title(\"M1M3 lateral forces (nt)\", fontsize=18)\n",
    "    ax.set_xlim(-4.5,4.5)\n",
    "    ax.set_ylim(-4.5,4.5)\n",
    "    types = [['DAA','+Y', '^', '+Y','g'], ['DAA','-Y', 'v', '-Y', 'cyan'], \\\n",
    "             ['DAA','+X', '>', '+X', 'r'], ['DAA','-X', '<', '-X', 'r']]\n",
    "    for [type, orient, marker, label, color] in types:\n",
    "        xs = []\n",
    "        ys = []\n",
    "        arrowXs = []\n",
    "        arrowYs = []\n",
    "        for i in range(len(FATABLE)):\n",
    "            x = FATABLE[i][M1M3FATable.FATABLE_XPOSITION]\n",
    "            y = FATABLE[i][M1M3FATable.FATABLE_YPOSITION]\n",
    "            if FATABLE[i][M1M3FATable.FATABLE_TYPE] == type and FATABLE[i][M1M3FATable.FATABLE_ORIENTATION] == orient:\n",
    "                xs.append(x)\n",
    "                ys.append(y)\n",
    "                if orient == '+X':\n",
    "                    name = f\"xForce{FATABLE[i][M1M3FATable.FATABLE_XINDEX]}\"\n",
    "                    arrowXs.append(df.iloc[index+1][name] / forceMax)\n",
    "                    arrowYs.append(0.0)\n",
    "                if orient == '-X':\n",
    "                    name = f\"xForce{FATABLE[i][M1M3FATable.FATABLE_XINDEX]}\"\n",
    "                    arrowXs.append(df.iloc[index+1][name] / forceMax)\n",
    "                    arrowYs.append(0.0)\n",
    "                if orient == '+Y':\n",
    "                    name = f\"yForce{FATABLE[i][M1M3FATable.FATABLE_YINDEX]}\"\n",
    "                    arrowXs.append(0.0)\n",
    "                    arrowYs.append(df.iloc[index+1][name] / forceMax)\n",
    "                if orient == '-Y':\n",
    "                    name = f\"yForce{FATABLE[i][M1M3FATable.FATABLE_YINDEX]}\"\n",
    "                    arrowXs.append(0.0)\n",
    "                    arrowYs.append(df.iloc[index+1][name] / forceMax)\n",
    "            else:\n",
    "                continue\n",
    "        ax.scatter(xs, ys, marker=marker, color=color, s=50, label=label)\n",
    "        for ii in range(len(xs)):\n",
    "            ax.arrow(xs[ii], ys[ii], arrowXs[ii], arrowYs[ii], color=color, width=0.02)\n",
    "\n",
    "    ax.plot([-4.0,-3.0], [-4.0,-4.0], color='g')\n",
    "    ax.text(-4.0, -4.3, f\"{forceMax} nt\")\n",
    "\n",
    "\n",
    "def getZeroValuesAndLimits(df, subtractBaseline, t0, t1):\n",
    "    # First define the zero values\n",
    "    df_zero = df.head(1)\n",
    "    for column_name in df_zero.columns:\n",
    "        try:\n",
    "            if subtractBaseline:\n",
    "                df_zero.iloc[0, df_zero.columns.get_loc(column_name)] = np.median(df[column_name].values[t0:t1])\n",
    "            else:\n",
    "                df_zero.iloc[0, df_zero.columns.get_loc(column_name)] = 0.0\n",
    "        except:\n",
    "            continue\n",
    "    # Now calculate the limits \n",
    "    types = [['SAA','NA'], ['DAA','+Y'], ['DAA','-Y'], ['DAA','+X'], ['DAA','-X']]\n",
    "    zmin = 0.0; ymin = 0.0; xmin = 0.0; zmax = 0.0; ymax = 0.0; xmax = 0.0\n",
    "    for [type, orient] in types:\n",
    "            for i in range(len(FATABLE)):\n",
    "                if type == 'SAA':\n",
    "                    name = f\"zForce{FATABLE[i][M1M3FATable.FATABLE_ZINDEX]}\"\n",
    "                    zmin = min(zmin, np.min(df[name] - df_zero.iloc[0][name]))                \n",
    "                    zmax = max(zmax, np.max(df[name] - df_zero.iloc[0][name]))\n",
    "                if orient in ['+Y', '-Y']:\n",
    "                    index = FATABLE[i][M1M3FATable.FATABLE_YINDEX]\n",
    "                    if index:\n",
    "                        name = f\"yForce{FATABLE[i][M1M3FATable.FATABLE_YINDEX]}\"\n",
    "                        ymin = min(ymin, np.min(df[name] - df_zero.iloc[0][name]))                \n",
    "                        ymax = max(ymax, np.max(df[name] - df_zero.iloc[0][name]))\n",
    "                if orient in ['+X', '-X']:\n",
    "                    index = FATABLE[i][M1M3FATable.FATABLE_XINDEX]\n",
    "                    if index:\n",
    "                        name = f\"xForce{FATABLE[i][M1M3FATable.FATABLE_XINDEX]}\"\n",
    "                        xmin = min(xmin, np.min(df[name] - df_zero.iloc[0][name]))                \n",
    "                        xmax = max(xmax, np.max(df[name] - df_zero.iloc[0][name]))\n",
    "\n",
    "    lateralMax = max(xmax, ymax, -xmin, -ymin)\n",
    "    return [round(zmin), round(zmax), round(lateralMax), df_zero]\n"
   ]
  },
  {
   "cell_type": "markdown",
   "metadata": {},
   "source": [
    "## Define the times and options"
   ]
  },
  {
   "cell_type": "code",
   "execution_count": null,
   "metadata": {
    "tags": []
   },
   "outputs": [],
   "source": [
    "# Times to start looking at encoder values\n",
    "start = Time(\"2023-05-26 16:25:00Z\", scale='utc')\n",
    "end = Time(\"2023-05-26 17:05:00Z\", scale='utc')\n",
    "\n",
    "autoScale = False\n",
    "# The following are only used if autoScale = False\n",
    "zmin = 0.0\n",
    "zmax = 2000.0\n",
    "lateralMax = 2000.0\n",
    "\n",
    "# The following average the first 100 data points\n",
    "# and subtract these from the measurements\n",
    "# If subtractBasline = False, the unmodified values will be plotted\n",
    "subtractBaseline = False\n",
    "baselineT0 = 0.0\n",
    "baselineT1 = 100.0\n",
    "\n",
    "# The following allows you to plot only every nth data point\n",
    "# If this value is 1, a frame will be made for every data point\n",
    "# Of course, this takes longer\n",
    "# If this value is 50, it will make a frame every second\n",
    "frameN = 50"
   ]
  },
  {
   "cell_type": "markdown",
   "metadata": {},
   "source": [
    "## Now generate the frames\n",
    "### This will take some time"
   ]
  },
  {
   "cell_type": "code",
   "execution_count": null,
   "metadata": {
    "tags": []
   },
   "outputs": [],
   "source": [
    "client = EfdClient('summit_efd')\n",
    "FATABLE = M1M3FATable.FATABLE\n",
    "timestamp = start.isot.split('.')[0].replace('-','').replace(':','')\n",
    "dirName = f\"/scratch/cslage/m1m3movies/movie_{timestamp}\"\n",
    "%mkdir -p {dirName}\n",
    "fig = plt.figure(figsize=(16,16))\n",
    "# Run the data in 5 minute steps\n",
    "frameStep = int(300 * 50)\n",
    "numSteps = int((end.unix_tai-start.unix_tai) / 300.0) + 1\n",
    "for ii in range(numSteps):\n",
    "    subStart = start + TimeDelta(ii * 300.0, format='sec')\n",
    "    subEnd = subStart + TimeDelta(300.0, format='sec')\n",
    "    if end.unix_tai < subEnd.unix_tai:\n",
    "        subEnd = end\n",
    "    forces = await client.select_time_series(\"lsst.sal.MTM1M3.forceActuatorData\", \"*\", subStart, subEnd)\n",
    "    [autoZmin, autoZmax, autoLateralMax, forces_zero] = getZeroValuesAndLimits(forces, subtractBaseline, baselineT0, baselineT1)\n",
    "    if autoScale:\n",
    "        zmin = autoZmin\n",
    "        zmax = autoZmax\n",
    "        lateralMax = autoLateralMax\n",
    "\n",
    "    # Build the individual frames\n",
    "    for n in range(0, len(forces), frameN):\n",
    "        ax1 = fig.add_subplot(2,2,1)\n",
    "        ax2 = fig.add_subplot(2,2,2, projection='3d')\n",
    "        ax3 = fig.add_subplot(2,2,3)\n",
    "        ax4 = fig.add_subplot(2,2,4)\n",
    "        actuatorLayout(ax1, FATABLE)\n",
    "        barChartZ(forces, forces_zero, ax2, FATABLE, n, zmin, zmax)\n",
    "        lateralForces(forces, forces_zero, ax3, FATABLE, n, lateralMax)\n",
    "        heatMapZ(forces, forces_zero, ax4, FATABLE, n, zmin, zmax)\n",
    "        plt.savefig(f\"{dirName}/Frame_{(frameStep * ii + n):06d}.png\")\n",
    "        plt.clf()"
   ]
  },
  {
   "cell_type": "markdown",
   "metadata": {},
   "source": [
    "## Now build the movie"
   ]
  },
  {
   "cell_type": "code",
   "execution_count": null,
   "metadata": {
    "tags": []
   },
   "outputs": [],
   "source": [
    "print(f\"\\033[1mThe movie name will be: {dirName}/m1m3_movie.mp4\\033[0m\")\n",
    "\n",
    "command = f\"ffmpeg -pattern_type glob -i '{dirName}/*.png' -f mp4 -vcodec libx264 -pix_fmt yuv420p -framerate 200 -y {dirName}/m1m3_movie.mp4\"\n",
    "args = shlex.split(command)\n",
    "build_movie = subprocess.Popen(args)\n",
    "build_movie.wait()"
   ]
  },
  {
   "cell_type": "code",
   "execution_count": null,
   "metadata": {
    "tags": []
   },
   "outputs": [],
   "source": [
    "df = forces\n",
    "for i in range(len(FATABLE)):\n",
    "    x = FATABLE[i][M1M3FATable.FATABLE_XPOSITION]\n",
    "    y = FATABLE[i][M1M3FATable.FATABLE_YPOSITION]\n",
    "\n",
    "    name=f\"zForce{i}\"\n",
    "    print(name, FATABLE[i][M1M3FATable.FATABLE_ID], x, y, df.iloc[index][name])\n",
    "        \n"
   ]
  },
  {
   "cell_type": "code",
   "execution_count": null,
   "metadata": {
    "tags": []
   },
   "outputs": [],
   "source": [
    "fig= plt.figure(figsize=(8,8))\n",
    "ax = fig.add_subplot(1,1,1, projection='3d')\n",
    "barChartZ(forces, forces_zero, ax, FATABLE, 1, 0, 700)"
   ]
  },
  {
   "cell_type": "code",
   "execution_count": null,
   "metadata": {
    "tags": []
   },
   "outputs": [],
   "source": [
    "FATABLE = M1M3FATable.FATABLE\n",
    "types = [['DAA','+Y', '^', '+Y','g'], ['DAA','-Y', 'v', '-Y', 'cyan']]\n",
    "for [type, orient, marker, label, color] in types:\n",
    "    for i in range(len(FATABLE)):\n",
    "        if FATABLE[i][M1M3FATable.FATABLE_TYPE] == type and FATABLE[i][M1M3FATable.FATABLE_ORIENTATION] == orient:\n",
    "            print(i, orient, FATABLE[i][M1M3FATable.FATABLE_ID], FATABLE[i][M1M3FATable.FATABLE_SINDEX])\n"
   ]
  },
  {
   "cell_type": "code",
   "execution_count": null,
   "metadata": {},
   "outputs": [],
   "source": []
  }
 ],
 "metadata": {
  "kernelspec": {
   "display_name": "LSST",
   "language": "python",
   "name": "lsst"
  },
  "language_info": {
   "codemirror_mode": {
    "name": "ipython",
    "version": 3
   },
   "file_extension": ".py",
   "mimetype": "text/x-python",
   "name": "python",
   "nbconvert_exporter": "python",
   "pygments_lexer": "ipython3",
   "version": "3.10.10"
  }
 },
 "nbformat": 4,
 "nbformat_minor": 4
}
