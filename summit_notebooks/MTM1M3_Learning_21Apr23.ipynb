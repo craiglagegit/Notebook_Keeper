{
 "cells": [
  {
   "cell_type": "markdown",
   "metadata": {},
   "source": [
    "# M1M3 cell learning\n",
    "Craig Lage - 14-Apr-23 \\\n",
    "The 17 tons of mirror are supported by 156 pneumatic actuators where 44 are single-axis and provide support only on the axial direction, 100 are dual-axis providing support in the axial and lateral direction, and 12 are dual-axis providing support in the axial and cross lateral directions. \\\n",
    "Positioning is provided by 6 hard points in a hexapod configuration which moves the mirror to a fixed operational position that shall be maintained during telescope operations. The remaining optical elements will be moved relative to this position in order to align the telescope optics. Support and optical figure correction is provided by 112 dual axis and 44 single axis pneumatic actuators. "
   ]
  },
  {
   "cell_type": "code",
   "execution_count": null,
   "metadata": {
    "execution": {
     "iopub.execute_input": "2023-04-26T13:44:52.951591Z",
     "iopub.status.busy": "2023-04-26T13:44:52.951318Z",
     "iopub.status.idle": "2023-04-26T13:44:53.425492Z",
     "shell.execute_reply": "2023-04-26T13:44:53.424892Z",
     "shell.execute_reply.started": "2023-04-26T13:44:52.951574Z"
    },
    "tags": []
   },
   "outputs": [],
   "source": [
    "import sys, time, os, asyncio, glob\n",
    "from datetime import datetime\n",
    "import numpy as np\n",
    "import matplotlib.pyplot as plt\n",
    "import matplotlib as mpl\n",
    "from matplotlib.colors import LightSource as LS\n",
    "import pickle as pkl\n",
    "from astropy.time import Time, TimeDelta\n",
    "import lsst.ts.cRIOpy.M1M3FATable as M1M3FATable\n",
    "\n",
    "from lsst_efd_client import EfdClient\n",
    "\n"
   ]
  },
  {
   "cell_type": "code",
   "execution_count": null,
   "metadata": {
    "execution": {
     "iopub.execute_input": "2023-04-26T13:44:53.634612Z",
     "iopub.status.busy": "2023-04-26T13:44:53.634342Z",
     "iopub.status.idle": "2023-04-26T13:44:54.921124Z",
     "shell.execute_reply": "2023-04-26T13:44:54.920566Z",
     "shell.execute_reply.started": "2023-04-26T13:44:53.634596Z"
    },
    "tags": []
   },
   "outputs": [],
   "source": [
    "client = EfdClient('summit_efd')\n",
    "FATABLE = M1M3FATable.FATABLE"
   ]
  },
  {
   "cell_type": "code",
   "execution_count": null,
   "metadata": {
    "execution": {
     "iopub.execute_input": "2023-04-26T13:44:55.124770Z",
     "iopub.status.busy": "2023-04-26T13:44:55.124160Z",
     "iopub.status.idle": "2023-04-26T13:44:55.418387Z",
     "shell.execute_reply": "2023-04-26T13:44:55.417832Z",
     "shell.execute_reply.started": "2023-04-26T13:44:55.124752Z"
    },
    "tags": []
   },
   "outputs": [],
   "source": [
    "fig = plt.figure(figsize=(8,8))\n",
    "plt.subplot(1,1,1,aspect=1.0)\n",
    "plt.xlabel(\"X position (m)\")\n",
    "plt.ylabel(\"Y position (m)\")\n",
    "plt.title(\"M1M3 Actuator positions and type\\nHardpoints are approximate\", fontsize=18)\n",
    "types = [['SAA','NA', 'o', 'Z', 'b'], ['DAA','+Y', '^', '+Y','g'], ['DAA','-Y', 'v', '-Y', 'cyan'], \\\n",
    "         ['DAA','+X', '>', '+X', 'r'], ['DAA','-X', '<', '-X', 'r']]\n",
    "for [type, orient, marker, label, color] in types: \n",
    "    xs = []\n",
    "    ys = []\n",
    "    for i in range(len(FATABLE)):\n",
    "        x = FATABLE[i][M1M3FATable.FATABLE_XPOSITION]\n",
    "        y = FATABLE[i][M1M3FATable.FATABLE_YPOSITION]\n",
    "        if FATABLE[i][M1M3FATable.FATABLE_TYPE] == type and FATABLE[i][M1M3FATable.FATABLE_ORIENTATION] == orient:\n",
    "            xs.append(x)\n",
    "            ys.append(y)\n",
    "        else:\n",
    "            continue\n",
    "    plt.scatter(xs, ys, marker=marker, color=color, s=200, label=label)        \n",
    "\n",
    "# Now plot approximate hardpoint location\n",
    "Rhp = 3.1 # Radius in meters\n",
    "for i in range(6):\n",
    "    theta = 2.0 * np.pi / 6.0 * float(i)\n",
    "    if i == 0:\n",
    "        plt.scatter(Rhp * np.cos(theta), Rhp * np.sin(theta), marker='o', color='magenta', s=200, label='HP')\n",
    "    else:\n",
    "        plt.scatter(Rhp * np.cos(theta), Rhp * np.sin(theta), marker='o', color='magenta', s=200, label='_nolegend_')\n",
    "plt.legend(loc='lower left', fontsize=9)"
   ]
  },
  {
   "cell_type": "markdown",
   "metadata": {},
   "source": [
    "## The plots below compare the \"appliedForces\"  to the \"forceActuatorData\"\n",
    "### I now understand the the \"appliedForces\" entry in the EFD is the targte force, and the \"forceActuatorData\"  is the measured force."
   ]
  },
  {
   "cell_type": "code",
   "execution_count": null,
   "metadata": {
    "execution": {
     "iopub.execute_input": "2023-04-24T13:06:39.984387Z",
     "iopub.status.busy": "2023-04-24T13:06:39.984101Z",
     "iopub.status.idle": "2023-04-24T13:06:39.987604Z",
     "shell.execute_reply": "2023-04-24T13:06:39.987227Z",
     "shell.execute_reply.started": "2023-04-24T13:06:39.984370Z"
    },
    "tags": []
   },
   "outputs": [],
   "source": [
    "# Times to start looking at encoder values\n",
    "start = Time(\"2023-04-18T16:10:00\", scale='tai')\n",
    "end = Time(\"2023-04-18T16:15:00\", scale='tai')"
   ]
  },
  {
   "cell_type": "code",
   "execution_count": null,
   "metadata": {
    "execution": {
     "iopub.execute_input": "2023-04-24T13:06:43.761226Z",
     "iopub.status.busy": "2023-04-24T13:06:43.760932Z",
     "iopub.status.idle": "2023-04-24T13:06:53.513709Z",
     "shell.execute_reply": "2023-04-24T13:06:53.513207Z",
     "shell.execute_reply.started": "2023-04-24T13:06:43.761208Z"
    },
    "tags": []
   },
   "outputs": [],
   "source": [
    "forces = await client.select_time_series(\"lsst.sal.MTM1M3.appliedForces\", \"*\", start.utc, end.utc)"
   ]
  },
  {
   "cell_type": "code",
   "execution_count": null,
   "metadata": {
    "execution": {
     "iopub.execute_input": "2023-04-24T13:07:05.996047Z",
     "iopub.status.busy": "2023-04-24T13:07:05.995780Z",
     "iopub.status.idle": "2023-04-24T13:07:06.378193Z",
     "shell.execute_reply": "2023-04-24T13:07:06.377792Z",
     "shell.execute_reply.started": "2023-04-24T13:07:05.996031Z"
    }
   },
   "outputs": [],
   "source": [
    "forces['zForces99'].plot()"
   ]
  },
  {
   "cell_type": "code",
   "execution_count": null,
   "metadata": {
    "execution": {
     "iopub.execute_input": "2023-04-24T13:08:27.467924Z",
     "iopub.status.busy": "2023-04-24T13:08:27.467654Z",
     "iopub.status.idle": "2023-04-24T13:08:46.924997Z",
     "shell.execute_reply": "2023-04-24T13:08:46.924478Z",
     "shell.execute_reply.started": "2023-04-24T13:08:27.467908Z"
    }
   },
   "outputs": [],
   "source": [
    "otherForces = await client.select_time_series(\"lsst.sal.MTM1M3.forceActuatorData\", \"*\", start.utc, end.utc)"
   ]
  },
  {
   "cell_type": "code",
   "execution_count": null,
   "metadata": {
    "execution": {
     "iopub.execute_input": "2023-04-24T13:09:41.878891Z",
     "iopub.status.busy": "2023-04-24T13:09:41.878263Z",
     "iopub.status.idle": "2023-04-24T13:09:42.443572Z",
     "shell.execute_reply": "2023-04-24T13:09:42.443159Z",
     "shell.execute_reply.started": "2023-04-24T13:09:41.878874Z"
    },
    "tags": []
   },
   "outputs": [],
   "source": [
    "ax = otherForces['zForce99'].plot()\n",
    "forces['zForces99'].plot(ax=ax)"
   ]
  },
  {
   "cell_type": "code",
   "execution_count": null,
   "metadata": {
    "execution": {
     "iopub.execute_input": "2023-04-26T16:56:26.028100Z",
     "iopub.status.busy": "2023-04-26T16:56:26.027711Z",
     "iopub.status.idle": "2023-04-26T16:56:26.031715Z",
     "shell.execute_reply": "2023-04-26T16:56:26.031191Z",
     "shell.execute_reply.started": "2023-04-26T16:56:26.028080Z"
    },
    "tags": []
   },
   "outputs": [],
   "source": [
    "# Times of bump test\n",
    "start = Time(\"2023-04-17T10:00:00\", scale='utc')\n",
    "end = Time(\"2023-04-17T11:15:00\", scale='utc')"
   ]
  },
  {
   "cell_type": "code",
   "execution_count": null,
   "metadata": {
    "execution": {
     "iopub.execute_input": "2023-04-26T16:56:27.358062Z",
     "iopub.status.busy": "2023-04-26T16:56:27.357688Z",
     "iopub.status.idle": "2023-04-26T16:56:28.225829Z",
     "shell.execute_reply": "2023-04-26T16:56:28.225223Z",
     "shell.execute_reply.started": "2023-04-26T16:56:27.358045Z"
    },
    "tags": []
   },
   "outputs": [],
   "source": [
    "bumps = await client.select_time_series(\"lsst.sal.MTM1M3.logevent_forceActuatorBumpTestStatus\", \"*\", start, end)"
   ]
  },
  {
   "cell_type": "code",
   "execution_count": null,
   "metadata": {
    "execution": {
     "iopub.execute_input": "2023-04-26T16:56:29.479550Z",
     "iopub.status.busy": "2023-04-26T16:56:29.479179Z",
     "iopub.status.idle": "2023-04-26T16:56:29.483368Z",
     "shell.execute_reply": "2023-04-26T16:56:29.482856Z",
     "shell.execute_reply.started": "2023-04-26T16:56:29.479533Z"
    },
    "tags": []
   },
   "outputs": [],
   "source": [
    "len(bumps)"
   ]
  },
  {
   "cell_type": "code",
   "execution_count": null,
   "metadata": {
    "execution": {
     "iopub.execute_input": "2023-04-26T14:33:41.258570Z",
     "iopub.status.busy": "2023-04-26T14:33:41.258302Z",
     "iopub.status.idle": "2023-04-26T14:33:41.272548Z",
     "shell.execute_reply": "2023-04-26T14:33:41.272152Z",
     "shell.execute_reply.started": "2023-04-26T14:33:41.258553Z"
    },
    "tags": []
   },
   "outputs": [],
   "source": [
    "bumps.head(20)"
   ]
  },
  {
   "cell_type": "code",
   "execution_count": null,
   "metadata": {
    "execution": {
     "iopub.execute_input": "2023-04-26T14:42:44.127180Z",
     "iopub.status.busy": "2023-04-26T14:42:44.126908Z",
     "iopub.status.idle": "2023-04-26T14:42:44.352304Z",
     "shell.execute_reply": "2023-04-26T14:42:44.351894Z",
     "shell.execute_reply.started": "2023-04-26T14:42:44.127164Z"
    },
    "tags": []
   },
   "outputs": [],
   "source": [
    "plotStart = (start + TimeDelta(40.0, format='sec')).isot\n",
    "plotEnd = (start + TimeDelta(160.0, format='sec')).isot\n",
    "bumps['primaryTest0'].plot(label='P0')\n",
    "bumps['secondaryTest0'].plot(label='S0')\n",
    "bumps['primaryTest1'].plot(label='P1')\n",
    "bumps['secondaryTest1'].plot(label='S1')\n",
    "bumps['primaryTest2'].plot(label='P2')\n",
    "bumps['secondaryTest2'].plot(label='S2')\n",
    "plt.xlim(plotStart, plotEnd)\n",
    "plt.legend()"
   ]
  },
  {
   "cell_type": "code",
   "execution_count": null,
   "metadata": {
    "execution": {
     "iopub.execute_input": "2023-04-26T14:18:11.836238Z",
     "iopub.status.busy": "2023-04-26T14:18:11.835955Z",
     "iopub.status.idle": "2023-04-26T14:18:11.839455Z",
     "shell.execute_reply": "2023-04-26T14:18:11.838979Z",
     "shell.execute_reply.started": "2023-04-26T14:18:11.836222Z"
    },
    "tags": []
   },
   "outputs": [],
   "source": [
    "test = Time(bumps['timestamp'].values[0], format='unix_tai', scale='tai')"
   ]
  },
  {
   "cell_type": "code",
   "execution_count": null,
   "metadata": {
    "execution": {
     "iopub.execute_input": "2023-04-26T14:18:20.378297Z",
     "iopub.status.busy": "2023-04-26T14:18:20.378019Z",
     "iopub.status.idle": "2023-04-26T14:18:20.381760Z",
     "shell.execute_reply": "2023-04-26T14:18:20.381382Z",
     "shell.execute_reply.started": "2023-04-26T14:18:20.378280Z"
    }
   },
   "outputs": [],
   "source": [
    "test.utc.isot"
   ]
  },
  {
   "cell_type": "code",
   "execution_count": null,
   "metadata": {
    "execution": {
     "iopub.execute_input": "2023-04-26T14:43:29.245152Z",
     "iopub.status.busy": "2023-04-26T14:43:29.244878Z",
     "iopub.status.idle": "2023-04-26T14:43:29.453765Z",
     "shell.execute_reply": "2023-04-26T14:43:29.453350Z",
     "shell.execute_reply.started": "2023-04-26T14:43:29.245135Z"
    },
    "tags": []
   },
   "outputs": [],
   "source": [
    "unixTAIStart = bumps['timestamp'].values[1]\n",
    "unixTAIEnd = bumps['timestamp'].values[40]\n",
    "plt.subplot(3,1,1)\n",
    "plt.plot(forces['timestamp'].values, forces['zForce0'].values)\n",
    "plt.plot(forces['timestamp'].values, forces['yForce0'].values)\n",
    "plt.xlim(unixTAIStart, unixTAIEnd)\n",
    "plt.subplot(3,1,2)\n",
    "plt.plot(forces['timestamp'].values, forces['zForce1'].values)\n",
    "plt.plot(forces['timestamp'].values, forces['yForce1'].values)\n",
    "plt.xlim(unixTAIStart, unixTAIEnd)\n",
    "plt.subplot(3,1,3)\n",
    "plt.plot(forces['timestamp'].values, forces['zForce2'].values)\n",
    "plt.plot(forces['timestamp'].values, forces['yForce2'].values)\n",
    "plt.xlim(unixTAIStart, unixTAIEnd)"
   ]
  },
  {
   "cell_type": "code",
   "execution_count": null,
   "metadata": {
    "execution": {
     "iopub.execute_input": "2023-04-26T15:20:44.414758Z",
     "iopub.status.busy": "2023-04-26T15:20:44.414485Z",
     "iopub.status.idle": "2023-04-26T15:20:44.419697Z",
     "shell.execute_reply": "2023-04-26T15:20:44.419319Z",
     "shell.execute_reply.started": "2023-04-26T15:20:44.414741Z"
    },
    "tags": []
   },
   "outputs": [],
   "source": [
    "for i in range(len(FATABLE)):\n",
    "    print(FATABLE[i][M1M3FATable.FATABLE_ID], FATABLE[i][M1M3FATable.FATABLE_TYPE], FATABLE[i][M1M3FATable.FATABLE_ORIENTATION], \\\n",
    "         FATABLE[i][M1M3FATable.FATABLE_XINDEX], FATABLE[i][M1M3FATable.FATABLE_YINDEX], FATABLE[i][M1M3FATable.FATABLE_ZINDEX])\n"
   ]
  },
  {
   "cell_type": "code",
   "execution_count": null,
   "metadata": {
    "execution": {
     "iopub.execute_input": "2023-04-26T18:54:12.338575Z",
     "iopub.status.busy": "2023-04-26T18:54:12.338300Z",
     "iopub.status.idle": "2023-04-26T18:54:12.342527Z",
     "shell.execute_reply": "2023-04-26T18:54:12.342062Z",
     "shell.execute_reply.started": "2023-04-26T18:54:12.338558Z"
    },
    "tags": []
   },
   "outputs": [],
   "source": [
    "FATABLE[28]"
   ]
  },
  {
   "cell_type": "code",
   "execution_count": null,
   "metadata": {
    "execution": {
     "iopub.execute_input": "2023-04-26T15:11:00.576702Z",
     "iopub.status.busy": "2023-04-26T15:11:00.576427Z",
     "iopub.status.idle": "2023-04-26T15:11:00.579898Z",
     "shell.execute_reply": "2023-04-26T15:11:00.579519Z",
     "shell.execute_reply.started": "2023-04-26T15:11:00.576685Z"
    },
    "tags": []
   },
   "outputs": [],
   "source": [
    "thisBump = bumps[bumps['actuatorId']==102]"
   ]
  },
  {
   "cell_type": "code",
   "execution_count": null,
   "metadata": {
    "execution": {
     "iopub.execute_input": "2023-04-26T15:11:05.826298Z",
     "iopub.status.busy": "2023-04-26T15:11:05.826017Z",
     "iopub.status.idle": "2023-04-26T15:11:05.830259Z",
     "shell.execute_reply": "2023-04-26T15:11:05.829874Z",
     "shell.execute_reply.started": "2023-04-26T15:11:05.826281Z"
    },
    "tags": []
   },
   "outputs": [],
   "source": [
    "thisBump['secondaryTest0']"
   ]
  },
  {
   "cell_type": "code",
   "execution_count": null,
   "metadata": {
    "execution": {
     "iopub.execute_input": "2023-04-26T15:12:14.993279Z",
     "iopub.status.busy": "2023-04-26T15:12:14.992992Z",
     "iopub.status.idle": "2023-04-26T15:12:15.003497Z",
     "shell.execute_reply": "2023-04-26T15:12:15.003088Z",
     "shell.execute_reply.started": "2023-04-26T15:12:14.993262Z"
    }
   },
   "outputs": [],
   "source": [
    "thisBump[thisBump['secondaryTest0']==2]"
   ]
  },
  {
   "cell_type": "code",
   "execution_count": null,
   "metadata": {
    "execution": {
     "iopub.execute_input": "2023-04-26T15:07:15.951949Z",
     "iopub.status.busy": "2023-04-26T15:07:15.951575Z",
     "iopub.status.idle": "2023-04-26T15:07:15.956090Z",
     "shell.execute_reply": "2023-04-26T15:07:15.955720Z",
     "shell.execute_reply.started": "2023-04-26T15:07:15.951933Z"
    },
    "tags": []
   },
   "outputs": [],
   "source": [
    "thisBump[thisBump['primaryTest1']==2]['timestamp'].values[0]"
   ]
  },
  {
   "cell_type": "code",
   "execution_count": null,
   "metadata": {
    "execution": {
     "iopub.execute_input": "2023-04-26T19:17:11.803997Z",
     "iopub.status.busy": "2023-04-26T19:17:11.803629Z",
     "iopub.status.idle": "2023-04-26T19:17:12.082582Z",
     "shell.execute_reply": "2023-04-26T19:17:12.082059Z",
     "shell.execute_reply.started": "2023-04-26T19:17:11.803980Z"
    },
    "tags": []
   },
   "outputs": [],
   "source": [
    "id = 229\n",
    "thisBump = bumps[bumps['actuatorId']==id]\n",
    "index = M1M3FATable.actuatorIDToIndex(id)\n",
    "primaryBump = f\"primaryTest{FATABLE[index][M1M3FATable.FATABLE_ZINDEX]}\"\n",
    "primaryForce = f\"zForce{FATABLE[index][M1M3FATable.FATABLE_ZINDEX]}\"\n",
    "if FATABLE[index][M1M3FATable.FATABLE_TYPE] == 'DAA':\n",
    "    if FATABLE[index][M1M3FATable.FATABLE_ORIENTATION] in ['+Y', '-Y']:\n",
    "        secondaryBump = f\"secondaryTest{FATABLE[index][M1M3FATable.FATABLE_SINDEX]}\"\n",
    "        secondaryForce = f\"yForce{FATABLE[index][M1M3FATable.FATABLE_YINDEX]}\"\n",
    "        secondaryName = FATABLE[index][M1M3FATable.FATABLE_ORIENTATION]\n",
    "    else:\n",
    "        secondaryBump = f\"secondaryTest{FATABLE[index][M1M3FATable.FATABLE_SINDEX]}\"\n",
    "        secondaryForce = f\"xForce{FATABLE[index][M1M3FATable.FATABLE_XINDEX]}\"\n",
    "        secondaryName = FATABLE[index][M1M3FATable.FATABLE_ORIENTATION]\n",
    "else:\n",
    "    secondaryName = None\n",
    "\n",
    "print(primaryBump, primaryForce, secondaryBump, secondaryForce)\n",
    "plt.figure(figsize=(10,5))\n",
    "plt.subplots_adjust(wspace=0.5)\n",
    "plt.subplot(1,2,1)\n",
    "plotStart = thisBump[thisBump[primaryBump]==2]['timestamp'].values[0] - 1.0\n",
    "plotEnd = plotStart + 14.0 #thisBump[thisBump[primaryBump]==5]['timestamp'].values[0] + 2.0\n",
    "start = Time(plotStart, format='unix_tai', scale='tai')\n",
    "end = Time(plotEnd, format='unix_tai', scale='tai')\n",
    "forces = await client.select_time_series(\"lsst.sal.MTM1M3.forceActuatorData\", [primaryForce, 'timestamp'], start.utc, end.utc)\n",
    "times = forces['timestamp'].values\n",
    "t0 = times[0]\n",
    "times -= t0\n",
    "plotStart -= t0\n",
    "plotEnd -= t0\n",
    "plt.title(f\"Primary - Z - ID:{id}\")\n",
    "plt.plot(times, forces[primaryForce].values)\n",
    "if thisBump[primaryBump].values[-1] == 6:\n",
    "    plt.text(2.0, 350.0, \"PASSED\", color='g')\n",
    "elif thisBump[primaryBump].values[-1] == 7:\n",
    "    plt.text(2.0, 350.0, \"FAILED\", color='r')\n",
    "\n",
    "plt.xlim(plotStart, plotEnd)\n",
    "plt.ylim(-400,400)\n",
    "plt.xlabel(\"Time (seconds)\")\n",
    "plt.ylabel(\"Force (nt)\")\n",
    "plt.subplot(1,2,2)\n",
    "if secondaryName is not None:\n",
    "    plt.title(f\"Secondary - {secondaryName} - ID:{id}\")\n",
    "    plotStart = thisBump[thisBump[secondaryBump]==2]['timestamp'].values[0] - 1.0\n",
    "    plotEnd = plotStart + 14.0 #thisBump[thisBump[secondaryBump]==5]['timestamp'].values[0] + 2.0\n",
    "    start = Time(plotStart, format='unix_tai', scale='tai')\n",
    "    end = Time(plotEnd, format='unix_tai', scale='tai')\n",
    "    forces = await client.select_time_series(\"lsst.sal.MTM1M3.forceActuatorData\", [secondaryForce, 'timestamp'], start.utc, end.utc)\n",
    "    times = forces['timestamp'].values\n",
    "    t0 = times[0]\n",
    "    times -= t0\n",
    "    plotStart -= t0\n",
    "    plotEnd -= t0\n",
    "    plt.plot(times, forces[secondaryForce].values)\n",
    "    if thisBump[secondaryBump].values[-1] >= 5:\n",
    "        plt.text(2.0, 350.0, \"PASSED\", color='g')\n",
    "    elif thisBump[secondaryBump].values[-1] == 7:\n",
    "        plt.text(2.0, 350.0, \"FAILED\", color='r')\n",
    "    plt.xlim(plotStart, plotEnd)\n",
    "    plt.ylim(-400,400)\n",
    "    plt.xlabel(\"Time (seconds)\")\n",
    "    plt.ylabel(\"Force (nt)\")\n",
    "else:\n",
    "    plt.title(\"No Secondary\")\n",
    "    plt.xticks([])\n",
    "    plt.yticks([])\n"
   ]
  },
  {
   "cell_type": "code",
   "execution_count": null,
   "metadata": {
    "execution": {
     "iopub.execute_input": "2023-04-26T19:12:47.358728Z",
     "iopub.status.busy": "2023-04-26T19:12:47.358077Z",
     "iopub.status.idle": "2023-04-26T19:12:47.374479Z",
     "shell.execute_reply": "2023-04-26T19:12:47.374100Z",
     "shell.execute_reply.started": "2023-04-26T19:12:47.358710Z"
    },
    "tags": []
   },
   "outputs": [],
   "source": [
    "thisBump"
   ]
  },
  {
   "cell_type": "code",
   "execution_count": null,
   "metadata": {
    "execution": {
     "iopub.execute_input": "2023-04-26T17:49:28.042094Z",
     "iopub.status.busy": "2023-04-26T17:49:28.041822Z",
     "iopub.status.idle": "2023-04-26T17:49:28.046062Z",
     "shell.execute_reply": "2023-04-26T17:49:28.045637Z",
     "shell.execute_reply.started": "2023-04-26T17:49:28.042078Z"
    },
    "tags": []
   },
   "outputs": [],
   "source": [
    "thisBump['primaryTest1']"
   ]
  },
  {
   "cell_type": "code",
   "execution_count": null,
   "metadata": {
    "execution": {
     "iopub.execute_input": "2023-04-26T15:24:27.144141Z",
     "iopub.status.busy": "2023-04-26T15:24:27.143850Z",
     "iopub.status.idle": "2023-04-26T15:24:27.147556Z",
     "shell.execute_reply": "2023-04-26T15:24:27.147129Z",
     "shell.execute_reply.started": "2023-04-26T15:24:27.144124Z"
    }
   },
   "outputs": [],
   "source": [
    "M1M3FATable.actuatorIDToIndex(102)"
   ]
  },
  {
   "cell_type": "code",
   "execution_count": null,
   "metadata": {},
   "outputs": [],
   "source": [
    "M1M3FATable."
   ]
  },
  {
   "cell_type": "code",
   "execution_count": null,
   "metadata": {
    "execution": {
     "iopub.execute_input": "2023-04-26T18:59:22.938542Z",
     "iopub.status.busy": "2023-04-26T18:59:22.938267Z",
     "iopub.status.idle": "2023-04-26T18:59:22.942176Z",
     "shell.execute_reply": "2023-04-26T18:59:22.941727Z",
     "shell.execute_reply.started": "2023-04-26T18:59:22.938525Z"
    },
    "tags": []
   },
   "outputs": [],
   "source": [
    "FATABLE[28][M1M3FATable.FATABLE_SINDEX]"
   ]
  },
  {
   "cell_type": "code",
   "execution_count": null,
   "metadata": {
    "execution": {
     "iopub.execute_input": "2023-04-26T18:55:49.939122Z",
     "iopub.status.busy": "2023-04-26T18:55:49.938851Z",
     "iopub.status.idle": "2023-04-26T18:55:49.942697Z",
     "shell.execute_reply": "2023-04-26T18:55:49.942250Z",
     "shell.execute_reply.started": "2023-04-26T18:55:49.939105Z"
    }
   },
   "outputs": [],
   "source": [
    "[M1M3FATable.FATABLE_ZFA]"
   ]
  },
  {
   "cell_type": "code",
   "execution_count": null,
   "metadata": {},
   "outputs": [],
   "source": []
  }
 ],
 "metadata": {
  "kernelspec": {
   "display_name": "LSST",
   "language": "python",
   "name": "lsst"
  },
  "language_info": {
   "codemirror_mode": {
    "name": "ipython",
    "version": 3
   },
   "file_extension": ".py",
   "mimetype": "text/x-python",
   "name": "python",
   "nbconvert_exporter": "python",
   "pygments_lexer": "ipython3",
   "version": "3.10.9"
  }
 },
 "nbformat": 4,
 "nbformat_minor": 4
}
