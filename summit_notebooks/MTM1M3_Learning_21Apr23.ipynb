{
 "cells": [
  {
   "cell_type": "markdown",
   "metadata": {},
   "source": [
    "# M1M3 cell learning\n",
    "Craig Lage - 14-Apr-23 \\\n",
    "The 17 tons of mirror are supported by 156 pneumatic actuators where 44 are single-axis and provide support only on the axial direction, 100 are dual-axis providing support in the axial and lateral direction, and 12 are dual-axis providing support in the axial and cross lateral directions. \\\n",
    "Positioning is provided by 6 hard points in a hexapod configuration which moves the mirror to a fixed operational position that shall be maintained during telescope operations. The remaining optical elements will be moved relative to this position in order to align the telescope optics. Support and optical figure correction is provided by 112 dual axis and 44 single axis pneumatic actuators. "
   ]
  },
  {
   "cell_type": "code",
   "execution_count": null,
   "metadata": {
    "execution": {
     "iopub.execute_input": "2023-04-24T13:06:24.352049Z",
     "iopub.status.busy": "2023-04-24T13:06:24.351782Z",
     "iopub.status.idle": "2023-04-24T13:06:24.840139Z",
     "shell.execute_reply": "2023-04-24T13:06:24.839616Z",
     "shell.execute_reply.started": "2023-04-24T13:06:24.352033Z"
    },
    "tags": []
   },
   "outputs": [],
   "source": [
    "import sys, time, os, asyncio, glob\n",
    "from datetime import datetime\n",
    "import numpy as np\n",
    "import matplotlib.pyplot as plt\n",
    "import matplotlib as mpl\n",
    "from matplotlib.colors import LightSource as LS\n",
    "import pickle as pkl\n",
    "from astropy.time import Time, TimeDelta\n",
    "import lsst.ts.cRIOpy.M1M3FATable as M1M3FATable\n",
    "\n",
    "from lsst_efd_client import EfdClient\n",
    "\n"
   ]
  },
  {
   "cell_type": "code",
   "execution_count": null,
   "metadata": {
    "execution": {
     "iopub.execute_input": "2023-04-24T13:06:25.218606Z",
     "iopub.status.busy": "2023-04-24T13:06:25.218305Z",
     "iopub.status.idle": "2023-04-24T13:06:26.672840Z",
     "shell.execute_reply": "2023-04-24T13:06:26.672326Z",
     "shell.execute_reply.started": "2023-04-24T13:06:25.218589Z"
    },
    "tags": []
   },
   "outputs": [],
   "source": [
    "client = EfdClient('summit_efd')\n",
    "FATABLE = M1M3FATable.FATABLE"
   ]
  },
  {
   "cell_type": "code",
   "execution_count": null,
   "metadata": {
    "execution": {
     "iopub.execute_input": "2023-04-24T13:13:51.976551Z",
     "iopub.status.busy": "2023-04-24T13:13:51.976278Z",
     "iopub.status.idle": "2023-04-24T13:13:52.241754Z",
     "shell.execute_reply": "2023-04-24T13:13:52.241345Z",
     "shell.execute_reply.started": "2023-04-24T13:13:51.976534Z"
    },
    "tags": []
   },
   "outputs": [],
   "source": [
    "fig = plt.figure(figsize=(8,8))\n",
    "plt.subplot(1,1,1,aspect=1.0)\n",
    "plt.xlabel(\"X position (m)\")\n",
    "plt.ylabel(\"Y position (m)\")\n",
    "plt.title(\"M1M3 Actuator positions and type\\nHardpoints are approximate\", fontsize=18)\n",
    "types = [['SAA','NA', 'o', 'Z', 'b'], ['DAA','+Y', '^', '+Y','g'], ['DAA','-Y', 'v', '-Y', 'cyan'], \\\n",
    "         ['DAA','+X', '>', '+X', 'r'], ['DAA','-X', '<', '-X', 'r']]\n",
    "for [type, orient, marker, label, color] in types: \n",
    "    xs = []\n",
    "    ys = []\n",
    "    for i in range(len(FATABLE)):\n",
    "        x = FATABLE[i][M1M3FATable.FATABLE_XPOSITION]\n",
    "        y = FATABLE[i][M1M3FATable.FATABLE_YPOSITION]\n",
    "        if FATABLE[i][M1M3FATable.FATABLE_TYPE] == type and FATABLE[i][M1M3FATable.FATABLE_ORIENTATION] == orient:\n",
    "            xs.append(x)\n",
    "            ys.append(y)\n",
    "        else:\n",
    "            continue\n",
    "    plt.scatter(xs, ys, marker=marker, color=color, s=200, label=label)        \n",
    "\n",
    "# Now plot approximate hardpoint location\n",
    "Rhp = 3.1 # Radius in meters\n",
    "for i in range(6):\n",
    "    theta = 2.0 * np.pi / 6.0 * float(i)\n",
    "    if i == 0:\n",
    "        plt.scatter(Rhp * np.cos(theta), Rhp * np.sin(theta), marker='o', color='magenta', s=200, label='HP')\n",
    "    else:\n",
    "        plt.scatter(Rhp * np.cos(theta), Rhp * np.sin(theta), marker='o', color='magenta', s=200, label='_nolegend_')\n",
    "plt.legend(loc='lower left', fontsize=9)"
   ]
  },
  {
   "cell_type": "code",
   "execution_count": null,
   "metadata": {
    "execution": {
     "iopub.execute_input": "2023-04-24T13:06:39.984387Z",
     "iopub.status.busy": "2023-04-24T13:06:39.984101Z",
     "iopub.status.idle": "2023-04-24T13:06:39.987604Z",
     "shell.execute_reply": "2023-04-24T13:06:39.987227Z",
     "shell.execute_reply.started": "2023-04-24T13:06:39.984370Z"
    },
    "tags": []
   },
   "outputs": [],
   "source": [
    "# Times to start looking at encoder values\n",
    "start = Time(\"2023-04-18T16:10:00\", scale='tai')\n",
    "end = Time(\"2023-04-18T16:15:00\", scale='tai')"
   ]
  },
  {
   "cell_type": "code",
   "execution_count": null,
   "metadata": {
    "execution": {
     "iopub.execute_input": "2023-04-24T13:06:43.761226Z",
     "iopub.status.busy": "2023-04-24T13:06:43.760932Z",
     "iopub.status.idle": "2023-04-24T13:06:53.513709Z",
     "shell.execute_reply": "2023-04-24T13:06:53.513207Z",
     "shell.execute_reply.started": "2023-04-24T13:06:43.761208Z"
    },
    "tags": []
   },
   "outputs": [],
   "source": [
    "forces = await client.select_time_series(\"lsst.sal.MTM1M3.appliedForces\", \"*\", start.utc, end.utc)"
   ]
  },
  {
   "cell_type": "code",
   "execution_count": null,
   "metadata": {
    "execution": {
     "iopub.execute_input": "2023-04-24T13:07:05.996047Z",
     "iopub.status.busy": "2023-04-24T13:07:05.995780Z",
     "iopub.status.idle": "2023-04-24T13:07:06.378193Z",
     "shell.execute_reply": "2023-04-24T13:07:06.377792Z",
     "shell.execute_reply.started": "2023-04-24T13:07:05.996031Z"
    }
   },
   "outputs": [],
   "source": [
    "forces['zForces99'].plot()"
   ]
  },
  {
   "cell_type": "code",
   "execution_count": null,
   "metadata": {
    "execution": {
     "iopub.execute_input": "2023-04-24T13:08:27.467924Z",
     "iopub.status.busy": "2023-04-24T13:08:27.467654Z",
     "iopub.status.idle": "2023-04-24T13:08:46.924997Z",
     "shell.execute_reply": "2023-04-24T13:08:46.924478Z",
     "shell.execute_reply.started": "2023-04-24T13:08:27.467908Z"
    }
   },
   "outputs": [],
   "source": [
    "otherForces = await client.select_time_series(\"lsst.sal.MTM1M3.forceActuatorData\", \"*\", start.utc, end.utc)"
   ]
  },
  {
   "cell_type": "code",
   "execution_count": null,
   "metadata": {
    "execution": {
     "iopub.execute_input": "2023-04-24T13:09:41.878891Z",
     "iopub.status.busy": "2023-04-24T13:09:41.878263Z",
     "iopub.status.idle": "2023-04-24T13:09:42.443572Z",
     "shell.execute_reply": "2023-04-24T13:09:42.443159Z",
     "shell.execute_reply.started": "2023-04-24T13:09:41.878874Z"
    },
    "tags": []
   },
   "outputs": [],
   "source": [
    "ax = otherForces['zForce99'].plot()\n",
    "forces['zForces99'].plot(ax=ax)"
   ]
  },
  {
   "cell_type": "code",
   "execution_count": null,
   "metadata": {},
   "outputs": [],
   "source": []
  }
 ],
 "metadata": {
  "kernelspec": {
   "display_name": "LSST",
   "language": "python",
   "name": "lsst"
  },
  "language_info": {
   "codemirror_mode": {
    "name": "ipython",
    "version": 3
   },
   "file_extension": ".py",
   "mimetype": "text/x-python",
   "name": "python",
   "nbconvert_exporter": "python",
   "pygments_lexer": "ipython3",
   "version": "3.10.9"
  }
 },
 "nbformat": 4,
 "nbformat_minor": 4
}
