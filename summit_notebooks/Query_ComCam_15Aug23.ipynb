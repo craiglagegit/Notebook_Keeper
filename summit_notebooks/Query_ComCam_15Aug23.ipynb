{
 "cells": [
  {
   "cell_type": "markdown",
   "metadata": {},
   "source": [
    "## Queries - Gen3\n",
    "\n",
    "In this notebook, we show how to query the ComCam repository\\\n",
    "and view the resulting images.\\\n",
    "Craig Lage - 15-Aug-23"
   ]
  },
  {
   "cell_type": "code",
   "execution_count": null,
   "metadata": {
    "execution": {
     "iopub.execute_input": "2024-04-25T18:04:05.810341Z",
     "iopub.status.busy": "2024-04-25T18:04:05.809882Z",
     "iopub.status.idle": "2024-04-25T18:04:05.815303Z",
     "shell.execute_reply": "2024-04-25T18:04:05.814384Z",
     "shell.execute_reply.started": "2024-04-25T18:04:05.810297Z"
    },
    "tags": []
   },
   "outputs": [],
   "source": [
    "import numpy as np\n",
    "import matplotlib.pyplot as plt\n",
    "import astropy.io.fits as pf\n",
    "from lsst.daf.butler import Butler\n",
    "from lsst.ip.isr import IsrTask, IsrTaskConfig"
   ]
  },
  {
   "cell_type": "code",
   "execution_count": null,
   "metadata": {
    "execution": {
     "iopub.execute_input": "2024-04-25T19:35:30.650036Z",
     "iopub.status.busy": "2024-04-25T19:35:30.649656Z",
     "iopub.status.idle": "2024-04-25T19:35:30.808948Z",
     "shell.execute_reply": "2024-04-25T19:35:30.808363Z",
     "shell.execute_reply.started": "2024-04-25T19:35:30.650005Z"
    },
    "tags": []
   },
   "outputs": [],
   "source": [
    "butler = Butler('/repo/LSSTComCam', collections=[\"LSSTComCamSim/raw/all\",\"LSSTComCamSim/calib\", \"refcats\"])"
   ]
  },
  {
   "cell_type": "markdown",
   "metadata": {},
   "source": [
    "## First, get a list of exposures\n",
    "### These should match what you see in RubinTV."
   ]
  },
  {
   "cell_type": "code",
   "execution_count": null,
   "metadata": {
    "execution": {
     "iopub.execute_input": "2024-04-25T19:19:30.606336Z",
     "iopub.status.busy": "2024-04-25T19:19:30.605973Z",
     "iopub.status.idle": "2024-04-25T19:19:30.637497Z",
     "shell.execute_reply": "2024-04-25T19:19:30.637087Z",
     "shell.execute_reply.started": "2024-04-25T19:19:30.606307Z"
    },
    "tags": []
   },
   "outputs": [],
   "source": [
    "dayObs = 20240425\n",
    "exposureList = []\n",
    "for record in butler.registry.queryDimensionRecords(\"exposure\", where=\"exposure.day_obs=%d\"%dayObs):\n",
    "    exposureList.append([record.id, record])\n",
    "exposureList.sort(key=lambda x: x[0])\n",
    "for [id,record] in exposureList:\n",
    "    print(record.id, record.observation_type, record.exposure_time, record.physical_filter)\n"
   ]
  },
  {
   "cell_type": "code",
   "execution_count": null,
   "metadata": {
    "execution": {
     "iopub.execute_input": "2024-04-25T19:35:38.501455Z",
     "iopub.status.busy": "2024-04-25T19:35:38.501119Z",
     "iopub.status.idle": "2024-04-25T19:35:38.506004Z",
     "shell.execute_reply": "2024-04-25T19:35:38.505118Z",
     "shell.execute_reply.started": "2024-04-25T19:35:38.501428Z"
    }
   },
   "outputs": [],
   "source": [
    "dataId = {'instrument': 'LSSTComCamSim', 'detector': 6, 'visit': 7024042500023, 'band': 'g', 'physical_filter': 'g_01'}"
   ]
  },
  {
   "cell_type": "code",
   "execution_count": null,
   "metadata": {
    "execution": {
     "iopub.execute_input": "2024-04-25T19:35:39.442646Z",
     "iopub.status.busy": "2024-04-25T19:35:39.442249Z",
     "iopub.status.idle": "2024-04-25T19:35:39.520701Z",
     "shell.execute_reply": "2024-04-25T19:35:39.519627Z",
     "shell.execute_reply.started": "2024-04-25T19:35:39.442610Z"
    }
   },
   "outputs": [],
   "source": [
    "raw = butler.get('raw', dataId=dataId)"
   ]
  },
  {
   "cell_type": "code",
   "execution_count": null,
   "metadata": {
    "execution": {
     "iopub.execute_input": "2024-04-25T19:19:47.205901Z",
     "iopub.status.busy": "2024-04-25T19:19:47.204900Z",
     "iopub.status.idle": "2024-04-25T19:19:47.209681Z",
     "shell.execute_reply": "2024-04-25T19:19:47.208985Z",
     "shell.execute_reply.started": "2024-04-25T19:19:47.205869Z"
    }
   },
   "outputs": [],
   "source": [
    "dataId = {'instrument': 'LSSTComCamSim', 'detector': 6, 'exposure': 7024042500023, 'band': 'g', 'physical_filter': 'g_01'}"
   ]
  },
  {
   "cell_type": "code",
   "execution_count": null,
   "metadata": {
    "execution": {
     "iopub.execute_input": "2024-04-25T19:19:48.187221Z",
     "iopub.status.busy": "2024-04-25T19:19:48.186815Z",
     "iopub.status.idle": "2024-04-25T19:19:48.582086Z",
     "shell.execute_reply": "2024-04-25T19:19:48.581481Z",
     "shell.execute_reply.started": "2024-04-25T19:19:48.187190Z"
    }
   },
   "outputs": [],
   "source": [
    "raw = butler.get('raw', dataId=dataId)"
   ]
  },
  {
   "cell_type": "code",
   "execution_count": null,
   "metadata": {
    "execution": {
     "iopub.execute_input": "2024-04-25T18:08:31.014783Z",
     "iopub.status.busy": "2024-04-25T18:08:31.014412Z",
     "iopub.status.idle": "2024-04-25T18:08:31.020971Z",
     "shell.execute_reply": "2024-04-25T18:08:31.020205Z",
     "shell.execute_reply.started": "2024-04-25T18:08:31.014754Z"
    }
   },
   "outputs": [],
   "source": [
    "record"
   ]
  },
  {
   "cell_type": "markdown",
   "metadata": {},
   "source": [
    "## Next, look at the raw data from one of the exposures.\n",
    "### Because of the large pedestal, we don't see much.  We need to do ISR"
   ]
  },
  {
   "cell_type": "code",
   "execution_count": null,
   "metadata": {
    "execution": {
     "iopub.execute_input": "2023-08-15T16:22:47.995070Z",
     "iopub.status.busy": "2023-08-15T16:22:47.994801Z",
     "iopub.status.idle": "2023-08-15T16:22:49.139943Z",
     "shell.execute_reply": "2023-08-15T16:22:49.139379Z",
     "shell.execute_reply.started": "2023-08-15T16:22:47.995053Z"
    },
    "tags": []
   },
   "outputs": [],
   "source": [
    "expId = 2023080100175\n",
    "raw = butler.get('raw', detector=0, exposure=expId)"
   ]
  },
  {
   "cell_type": "code",
   "execution_count": null,
   "metadata": {
    "execution": {
     "iopub.execute_input": "2023-08-15T16:22:50.268068Z",
     "iopub.status.busy": "2023-08-15T16:22:50.267797Z",
     "iopub.status.idle": "2023-08-15T16:22:53.145607Z",
     "shell.execute_reply": "2023-08-15T16:22:53.145170Z",
     "shell.execute_reply.started": "2023-08-15T16:22:50.268051Z"
    },
    "tags": []
   },
   "outputs": [],
   "source": [
    "# Now look at the data with matplotlib\n",
    "from matplotlib.colors import LogNorm\n",
    "\n",
    "def colorbar(mappable):\n",
    "    from mpl_toolkits.axes_grid1 import make_axes_locatable\n",
    "    last_axes = plt.gca()\n",
    "    ax = mappable.axes\n",
    "    fig = ax.figure\n",
    "    divider = make_axes_locatable(ax)\n",
    "    cax = divider.append_axes(\"right\", size=\"5%\", pad=0.05)\n",
    "    cbar = fig.colorbar(mappable, cax=cax)\n",
    "    plt.sca(last_axes)\n",
    "    return cbar\n",
    "\n",
    "plt.figure(figsize=(8,8))\n",
    "plt.suptitle(f\"Image\",fontsize=18)\n",
    "arr = raw.image.array\n",
    "img = plt.imshow(arr, norm=LogNorm(vmin=20000, vmax=25000), interpolation='Nearest', cmap='gray')\n",
    "colorbar(img)\n",
    "plt.tight_layout(h_pad=1)\n"
   ]
  },
  {
   "cell_type": "markdown",
   "metadata": {},
   "source": [
    "## Define a simple ISR\n",
    "### Just overscan subtraction and bias subtraction.\n",
    "### This should be enough to look at cosmic rays"
   ]
  },
  {
   "cell_type": "code",
   "execution_count": null,
   "metadata": {
    "execution": {
     "iopub.execute_input": "2023-08-15T16:22:57.943538Z",
     "iopub.status.busy": "2023-08-15T16:22:57.943253Z",
     "iopub.status.idle": "2023-08-15T16:22:57.971596Z",
     "shell.execute_reply": "2023-08-15T16:22:57.971180Z",
     "shell.execute_reply.started": "2023-08-15T16:22:57.943521Z"
    },
    "tags": []
   },
   "outputs": [],
   "source": [
    "isrConfig = IsrTaskConfig()\n",
    "isrConfig.doLinearize=False\n",
    "isrConfig.doOverscan=True\n",
    "isrConfig.doAssembleCcd=True\n",
    "isrConfig.doBias=True\n",
    "isrConfig.doVariance=False\n",
    "isrConfig.doLinearize=False\n",
    "isrConfig.doCrosstalk=False\n",
    "isrConfig.doBrighterFatter=False\n",
    "isrConfig.doDark=False\n",
    "isrConfig.doStrayLight=False\n",
    "isrConfig.doFlat=False\n",
    "isrConfig.doFringe=False\n",
    "isrConfig.doApplyGains=False\n",
    "isrConfig.doDefect=False\n",
    "isrConfig.doNanMasking=True\n",
    "isrConfig.doInterpolate=False\n",
    "isrConfig.doSaturation=False\n",
    "isrConfig.doSaturationInterpolation=False\n",
    "isrTask = IsrTask(config=isrConfig)"
   ]
  },
  {
   "cell_type": "markdown",
   "metadata": {},
   "source": [
    "## Run the ISR and look at the result\n",
    "### Here I've taken an exposure where I found a cosmic ray using the RUbinTV CCS image viewer image"
   ]
  },
  {
   "cell_type": "code",
   "execution_count": null,
   "metadata": {
    "execution": {
     "iopub.execute_input": "2023-08-15T16:23:01.941449Z",
     "iopub.status.busy": "2023-08-15T16:23:01.941171Z",
     "iopub.status.idle": "2023-08-15T16:23:04.607630Z",
     "shell.execute_reply": "2023-08-15T16:23:04.607141Z",
     "shell.execute_reply.started": "2023-08-15T16:23:01.941432Z"
    },
    "tags": []
   },
   "outputs": [],
   "source": [
    "expId = 2023080100168\n",
    "exp = butler.get('raw', detector=3, exposure=expId) # This is the raw data\n",
    "biasExp = butler.get('bias', detector=3, exposure=expId) # This is a bias image associated with the data\n",
    "isrResult = isrTask.run(exp, bias=biasExp) # This runs the ISR"
   ]
  },
  {
   "cell_type": "code",
   "execution_count": null,
   "metadata": {
    "execution": {
     "iopub.execute_input": "2023-08-15T16:23:06.818356Z",
     "iopub.status.busy": "2023-08-15T16:23:06.818077Z",
     "iopub.status.idle": "2023-08-15T16:23:07.366397Z",
     "shell.execute_reply": "2023-08-15T16:23:07.365950Z",
     "shell.execute_reply.started": "2023-08-15T16:23:06.818333Z"
    },
    "tags": []
   },
   "outputs": [],
   "source": [
    "# Now look at the data with matplotlib\n",
    "# No cosmics are visible at this scale\n",
    "from matplotlib.colors import LogNorm\n",
    "\n",
    "def colorbar(mappable):\n",
    "    from mpl_toolkits.axes_grid1 import make_axes_locatable\n",
    "    last_axes = plt.gca()\n",
    "    ax = mappable.axes\n",
    "    fig = ax.figure\n",
    "    divider = make_axes_locatable(ax)\n",
    "    cax = divider.append_axes(\"right\", size=\"5%\", pad=0.05)\n",
    "    cbar = fig.colorbar(mappable, cax=cax)\n",
    "    plt.sca(last_axes)\n",
    "    return cbar\n",
    "\n",
    "plt.figure(figsize=(8,8))\n",
    "plt.suptitle(f\"Image\",fontsize=18)\n",
    "arr = isrResult.exposure.image.array\n",
    "img = plt.imshow(arr, vmin=-1, vmax=5, interpolation='Nearest', cmap='gray')\n",
    "colorbar(img)\n",
    "plt.tight_layout(h_pad=1)\n"
   ]
  },
  {
   "cell_type": "markdown",
   "metadata": {},
   "source": [
    "## Now zoom in on a cosmic ray that I found with the RubinTV CCS image viewer"
   ]
  },
  {
   "cell_type": "code",
   "execution_count": null,
   "metadata": {
    "execution": {
     "iopub.execute_input": "2023-08-15T16:23:10.869019Z",
     "iopub.status.busy": "2023-08-15T16:23:10.868737Z",
     "iopub.status.idle": "2023-08-15T16:23:11.113581Z",
     "shell.execute_reply": "2023-08-15T16:23:11.113140Z",
     "shell.execute_reply.started": "2023-08-15T16:23:10.869001Z"
    },
    "tags": []
   },
   "outputs": [],
   "source": [
    "# Now look at the data with matplotlib\n",
    "from matplotlib.colors import LogNorm\n",
    "\n",
    "def colorbar(mappable):\n",
    "    from mpl_toolkits.axes_grid1 import make_axes_locatable\n",
    "    last_axes = plt.gca()\n",
    "    ax = mappable.axes\n",
    "    fig = ax.figure\n",
    "    divider = make_axes_locatable(ax)\n",
    "    cax = divider.append_axes(\"right\", size=\"5%\", pad=0.05)\n",
    "    cbar = fig.colorbar(mappable, cax=cax)\n",
    "    plt.sca(last_axes)\n",
    "    return cbar\n",
    "\n",
    "plt.figure(figsize=(8,8))\n",
    "plt.suptitle(f\"Image\",fontsize=18)\n",
    "arr = isrResult.exposure.image.array[2200:2400,2000:2200] # These coordinates need some explanation\n",
    "img = plt.imshow(arr, vmin=1, vmax=100, interpolation='Nearest', cmap='gray')\n",
    "colorbar(img)\n",
    "plt.tight_layout(h_pad=1)\n"
   ]
  },
  {
   "cell_type": "code",
   "execution_count": null,
   "metadata": {
    "execution": {
     "iopub.execute_input": "2024-04-25T19:22:04.153226Z",
     "iopub.status.busy": "2024-04-25T19:22:04.152776Z",
     "iopub.status.idle": "2024-04-25T19:22:04.327328Z",
     "shell.execute_reply": "2024-04-25T19:22:04.326508Z",
     "shell.execute_reply.started": "2024-04-25T19:22:04.153193Z"
    }
   },
   "outputs": [],
   "source": [
    "butler = Butler('/repo/LSSTComCam')"
   ]
  },
  {
   "cell_type": "code",
   "execution_count": null,
   "metadata": {
    "execution": {
     "iopub.execute_input": "2024-04-25T19:33:53.537454Z",
     "iopub.status.busy": "2024-04-25T19:33:53.537204Z",
     "iopub.status.idle": "2024-04-25T19:33:53.826357Z",
     "shell.execute_reply": "2024-04-25T19:33:53.825199Z",
     "shell.execute_reply.started": "2024-04-25T19:33:53.537434Z"
    }
   },
   "outputs": [],
   "source": [
    "collections = butler.registry.queryCollections()\n",
    "for item in collections:\n",
    "    if \"cat\" in item:\n",
    "        print(item)"
   ]
  },
  {
   "cell_type": "code",
   "execution_count": null,
   "metadata": {},
   "outputs": [],
   "source": []
  }
 ],
 "metadata": {
  "kernelspec": {
   "display_name": "LSST",
   "language": "python",
   "name": "lsst"
  },
  "language_info": {
   "codemirror_mode": {
    "name": "ipython",
    "version": 3
   },
   "file_extension": ".py",
   "mimetype": "text/x-python",
   "name": "python",
   "nbconvert_exporter": "python",
   "pygments_lexer": "ipython3",
   "version": "3.11.7"
  }
 },
 "nbformat": 4,
 "nbformat_minor": 4
}
