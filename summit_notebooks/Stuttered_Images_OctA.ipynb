{
 "cells": [
  {
   "cell_type": "markdown",
   "id": "6d4d5e4d-8439-490e-89ac-7a084c6d7cb0",
   "metadata": {},
   "source": [
    "# Notebook for taking stuttered images of candidate double stars\n",
    "\n",
    "This notebook finds candidate double stars from wds for use in stuttered image tests. \\\n",
    "Then takes stuttered images of them.\n",
    "\n",
    "Elana Urbach, Craig Lage - 07Oct22"
   ]
  },
  {
   "cell_type": "code",
   "execution_count": null,
   "id": "90e65c2c-29f4-40dd-a561-5df648ff728b",
   "metadata": {},
   "outputs": [],
   "source": [
    "import sys, asyncio, time, os\n",
    "import numpy as np\n",
    "import pandas as pd\n",
    "from astropy.coordinates import AltAz, ICRS, EarthLocation, Angle, FK5, SkyCoord\n",
    "from astropy.time import Time, TimeDelta\n",
    "from astropy import units as u\n",
    "from lsst.obs.lsst.translators.latiss import AUXTEL_LOCATION\n",
    "\n",
    "from lsst.ts import salobj\n",
    "from lsst.ts.observatory.control.auxtel.atcs import ATCS\n",
    "from lsst.ts.observatory.control.auxtel.latiss import LATISS\n",
    "from lsst.ts.observatory.control.utils.enums import RotType"
   ]
  },
  {
   "cell_type": "code",
   "execution_count": null,
   "id": "90a92e05-5096-4835-a4ef-ba351821dc3b",
   "metadata": {},
   "outputs": [],
   "source": [
    "import logging\n",
    "stream_handler = logging.StreamHandler(sys.stdout)\n",
    "logger = logging.getLogger()\n",
    "logger.addHandler(stream_handler)\n",
    "logger.level = logging.DEBUG"
   ]
  },
  {
   "cell_type": "code",
   "execution_count": null,
   "id": "6aa0471f-427b-4b70-8303-a3c4704570c8",
   "metadata": {
    "jupyter": {
     "outputs_hidden": true
    },
    "tags": []
   },
   "outputs": [],
   "source": [
    "#Start classes\n",
    "domain = salobj.Domain()\n",
    "atcs = ATCS(domain)\n",
    "latiss = LATISS(domain)\n",
    "await asyncio.gather(latiss.start_task, atcs.start_task)"
   ]
  },
  {
   "cell_type": "code",
   "execution_count": null,
   "id": "c6343c56-8b86-47c8-8711-7659bd30dffe",
   "metadata": {
    "tags": []
   },
   "outputs": [],
   "source": [
    "# enable components if not already done\n",
    "await atcs.enable()\n",
    "await latiss.enable()"
   ]
  },
  {
   "cell_type": "markdown",
   "id": "d2c25291-e765-4ea8-8876-006ec8be0cb5",
   "metadata": {},
   "source": [
    "### Now find candidate stars\n",
    "First load in the candidate stars (preselected for being between magnitudes 6 and 9 and 9 to 200 arcsec separation).\n",
    "\n",
    "The output dataframe contains the wds identifier, the separation between the stars in arcsec, the magnitudes of the two stars, and their RA and DEC in SkyCoord."
   ]
  },
  {
   "cell_type": "code",
   "execution_count": null,
   "id": "63cf1233-f7f3-4cd8-837d-d69c1dfadef8",
   "metadata": {},
   "outputs": [],
   "source": [
    "double_stars = pd.read_csv('Double_Stars_Stuttered_Image.csv')\n",
    "\n",
    "double_stars['skycoord'] = [SkyCoord(str(int(double_stars['RA h'][i])) + ' ' +  str(int(double_stars['RA m'][i])) + ' ' + str(double_stars['RA s'][i]), \\\n",
    "                            str(int(double_stars['DEC h'][i])) + ' ' +  str(int(double_stars['DEC m'][i])) + ' ' + str(double_stars['DEC s'][i]), \\\n",
    "                                  unit = (u.hourangle, u.deg, u.arcsec)) for i in range(len(double_stars))]\n",
    "\n",
    "double_stars = double_stars.drop(['RA h', 'RA m', 'RA s', 'DEC h', 'DEC m', 'DEC s', 'Unnamed: 0'], axis = 1)"
   ]
  },
  {
   "cell_type": "markdown",
   "id": "74410f99-d1c2-46b0-b726-a665949a4ded",
   "metadata": {},
   "source": [
    "### Select stars\n",
    "\n",
    "Select stars by entering the date and time."
   ]
  },
  {
   "cell_type": "markdown",
   "id": "0ff215fe-7454-4bf9-ae31-7124baa81075",
   "metadata": {},
   "source": [
    "### ENTER THE CURRENT DATE AND TIME HERE"
   ]
  },
  {
   "cell_type": "code",
   "execution_count": null,
   "id": "beb4bf95-6a26-4b00-942b-6df143099b35",
   "metadata": {},
   "outputs": [],
   "source": [
    "# ENTER THE CURRENT DATE AND TIME\n",
    "# current_time = '2022-10-12T01:00:00'\n",
    "\n",
    "# obstime = Time(current_time, format = 'isot', scale = 'utc')\n",
    "obstime = Time.now()"
   ]
  },
  {
   "cell_type": "code",
   "execution_count": null,
   "id": "0720b64d-3aa2-4ae7-a782-1ceb6632f6d4",
   "metadata": {},
   "outputs": [],
   "source": [
    "# Calculate altitude and azimuth based on the current time\n",
    "\n",
    "# altAz = AltAz(obstime=vi.date.toPython(), location=AUXTEL_LOCATION)\n",
    "altAz = AltAz(obstime=obstime, location=AUXTEL_LOCATION)\n",
    "double_stars['obsAltAz'] = [double_stars.skycoord[i].transform_to(altAz) for i in range(len(double_stars))]\n",
    "double_stars['Alt'] = [double_stars.obsAltAz[i].alt.deg for i in range(len(double_stars))]\n",
    "double_stars['Az'] = [double_stars.obsAltAz[i].az.deg for i in range(len(double_stars))]\n",
    "\n",
    "#select stars that are above 50 degrees altitude and before transit, ~ 20 degrees azimuth\n",
    "candidates = double_stars.loc[double_stars.Alt > 50].loc[double_stars.Az > 15].loc[double_stars.Az < 25] \n",
    "candidates = candidates.reset_index()"
   ]
  },
  {
   "cell_type": "code",
   "execution_count": null,
   "id": "525217d1-e96a-4f7c-8932-21e0096dcf98",
   "metadata": {},
   "outputs": [],
   "source": [
    "candidates"
   ]
  },
  {
   "cell_type": "code",
   "execution_count": null,
   "id": "8f4b5561-3860-4910-bcae-d231d2ad22e5",
   "metadata": {},
   "outputs": [],
   "source": [
    "# get RA and DEC for candidates.\n",
    "for i in range(len(candidates)):\n",
    "    print(candidates.index[i])\n",
    "    print('RA (deg): ', candidates.skycoord[i].ra.deg)\n",
    "    print('DEC (deg): ', candidates.skycoord[i].dec.deg)\n",
    "    print('Theta (deg): ', candidates['Theta (deg)'][i])"
   ]
  },
  {
   "cell_type": "markdown",
   "id": "32295743-307c-468f-b93d-553feb0e46e9",
   "metadata": {},
   "source": [
    "### Now choose a candidate, slew to it, and take an image\n",
    "\n",
    "Choose the index from the above list"
   ]
  },
  {
   "cell_type": "code",
   "execution_count": null,
   "id": "7a44cfbd-489d-47da-8e12-dd3e5cc55931",
   "metadata": {
    "tags": []
   },
   "outputs": [],
   "source": [
    "index = 0\n",
    "PA = candidates['Theta (deg)'][index]\n",
    "print(PA)\n",
    "await atcs.slew_icrs(candidates.skycoord[index].ra.hour, candidates.skycoord[index].dec.deg, \\\n",
    "                     rot=PA-90.0, rot_type=RotType.PhysicalSky, offset_x = 0, offset_y = -2.5)\n",
    "await latiss.take_object(exptime=2., n=1, filter='SDSSr_65mm',grating='empty_1', reason='SITCOM-468')"
   ]
  },
  {
   "cell_type": "code",
   "execution_count": null,
   "id": "e2fcaab4-6f6d-43f8-ae6f-7319811276c0",
   "metadata": {
    "tags": []
   },
   "outputs": [],
   "source": [
    "# It may require moving the image slightly to get it positioned.\n",
    "# Ideally, it should be 25 pixels (2.5 arcseconds) above the midline.\n",
    "# The step below should do this if it is perfectly centered to begin with.\n",
    "# Then take a new image to verify\n",
    "# This may take a few iterations to get it in the right place.\n",
    "# await atcs.offset_xy(y=-2.5, x=0)\n",
    "# await latiss.take_object(exptime=2., n=1, filter='SDSSr_65mm',grating='empty_1', reason='SITCOM-468')"
   ]
  },
  {
   "cell_type": "markdown",
   "id": "946f94a8-c3b1-45b8-a100-34b25339b534",
   "metadata": {},
   "source": [
    "### Now take two sets of stuttered images\n",
    "\n",
    "One set at 1\" exposure and one set at 0.5 seconds."
   ]
  },
  {
   "cell_type": "code",
   "execution_count": null,
   "id": "9ed96117-04e7-40cd-bff1-d71fa7f8f2ca",
   "metadata": {
    "tags": []
   },
   "outputs": [],
   "source": [
    "# take stuttered image\n",
    "await latiss.take_stuttered(n=5, exptime=1.0, n_shift=40, row_shift=50, reason='SITCOM-468')\n",
    "await latiss.take_stuttered(n=5, exptime=0.5, n_shift=40, row_shift=50, reason='SITCOM-468')"
   ]
  },
  {
   "cell_type": "markdown",
   "id": "8b48b4ee-e6ea-4880-b23e-f4e688c3a5af",
   "metadata": {},
   "source": [
    "### Now repeat with a second object"
   ]
  },
  {
   "cell_type": "code",
   "execution_count": null,
   "id": "cdfc6e6b-c29a-4364-9715-35805c50296c",
   "metadata": {},
   "outputs": [],
   "source": []
  }
 ],
 "metadata": {
  "kernelspec": {
   "display_name": "LSST",
   "language": "python",
   "name": "lsst"
  },
  "language_info": {
   "codemirror_mode": {
    "name": "ipython",
    "version": 3
   },
   "file_extension": ".py",
   "mimetype": "text/x-python",
   "name": "python",
   "nbconvert_exporter": "python",
   "pygments_lexer": "ipython3",
   "version": "3.10.5"
  }
 },
 "nbformat": 4,
 "nbformat_minor": 5
}
