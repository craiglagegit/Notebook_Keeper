{
 "cells": [
  {
   "cell_type": "code",
   "execution_count": null,
   "metadata": {
    "execution": {
     "iopub.execute_input": "2023-06-22T16:10:34.617772Z",
     "iopub.status.busy": "2023-06-22T16:10:34.617503Z",
     "iopub.status.idle": "2023-06-22T16:10:35.295100Z",
     "shell.execute_reply": "2023-06-22T16:10:35.294557Z",
     "shell.execute_reply.started": "2023-06-22T16:10:34.617755Z"
    },
    "tags": []
   },
   "outputs": [],
   "source": [
    "import sys, time, os, asyncio, glob\n",
    "from datetime import datetime\n",
    "import numpy as np\n",
    "import matplotlib.pyplot as plt\n",
    "import pickle as pkl\n",
    "from astropy.time import Time, TimeDelta\n",
    "\n",
    "from lsst_efd_client import EfdClient"
   ]
  },
  {
   "cell_type": "code",
   "execution_count": null,
   "metadata": {
    "execution": {
     "iopub.execute_input": "2023-06-22T16:10:36.478748Z",
     "iopub.status.busy": "2023-06-22T16:10:36.478351Z",
     "iopub.status.idle": "2023-06-22T16:10:37.707390Z",
     "shell.execute_reply": "2023-06-22T16:10:37.706934Z",
     "shell.execute_reply.started": "2023-06-22T16:10:36.478730Z"
    },
    "tags": []
   },
   "outputs": [],
   "source": [
    "client = EfdClient('summit_efd')"
   ]
  },
  {
   "cell_type": "code",
   "execution_count": null,
   "metadata": {
    "execution": {
     "iopub.execute_input": "2023-06-22T16:17:36.327567Z",
     "iopub.status.busy": "2023-06-22T16:17:36.327286Z",
     "iopub.status.idle": "2023-06-22T16:17:37.854318Z",
     "shell.execute_reply": "2023-06-22T16:17:37.853850Z",
     "shell.execute_reply.started": "2023-06-22T16:17:36.327550Z"
    },
    "tags": []
   },
   "outputs": [],
   "source": [
    "# Now let's try to expand it to the whole run\n",
    "start = Time(\"2023-03-15T20:27:00Z\", scale='utc')\n",
    "end = Time(\"2023-03-15T21:11:00Z\", scale='utc')\n",
    "az = await client.select_time_series('lsst.sal.MTMount.azimuth', \\\n",
    "                                            ['actualPosition', 'timestamp'],  start, end)\n",
    "el = await client.select_time_series('lsst.sal.MTMount.elevation', \\\n",
    "                                            ['actualPosition', 'timestamp'],  start, end)    \n",
    "\n",
    "az_track = await client.select_time_series('lsst.sal.MTMount.command_trackTarget', \\\n",
    "                                            ['azimuth', 'taiTime'],  start, end)\n",
    "el_track = await client.select_time_series('lsst.sal.MTMount.command_trackTarget', \\\n",
    "                                            ['elevation', 'taiTime'],  start, end)   \n",
    "print(len(az), len(el))"
   ]
  },
  {
   "cell_type": "code",
   "execution_count": null,
   "metadata": {
    "execution": {
     "iopub.execute_input": "2023-06-22T16:17:37.950493Z",
     "iopub.status.busy": "2023-06-22T16:17:37.950290Z",
     "iopub.status.idle": "2023-06-22T16:17:38.871331Z",
     "shell.execute_reply": "2023-06-22T16:17:38.870875Z",
     "shell.execute_reply.started": "2023-06-22T16:17:37.950477Z"
    },
    "tags": []
   },
   "outputs": [],
   "source": [
    "fig, axs = plt.subplots(2,1)\n",
    "plt.suptitle(\"Slew and Tracking - 20230315\")\n",
    "plt.subplots_adjust(hspace=1.0)\n",
    "az['actualPosition'].plot(ax = axs[0], color='red')\n",
    "axs[0].set_title(\"Azimuth\")\n",
    "el['actualPosition'].plot(ax= axs[1], color='blue')\n",
    "axs[1].set_title(\"Elevation\")\n",
    "plt.savefig(f\"/home/craiglagegit/DATA/MTMount_15mar23/Tracks.png\")"
   ]
  },
  {
   "cell_type": "code",
   "execution_count": null,
   "metadata": {
    "execution": {
     "iopub.execute_input": "2023-06-22T16:17:39.634390Z",
     "iopub.status.busy": "2023-06-22T16:17:39.634062Z",
     "iopub.status.idle": "2023-06-22T16:17:39.647510Z",
     "shell.execute_reply": "2023-06-22T16:17:39.646915Z",
     "shell.execute_reply.started": "2023-06-22T16:17:39.634369Z"
    },
    "tags": []
   },
   "outputs": [],
   "source": [
    "azPos = await client.select_time_series('lsst.sal.MTMount.logevent_azimuthInPosition', \\\n",
    "                                            ['inPosition', 'private_kafkaStamp'],  start, end)\n",
    "azPos = azPos[azPos['inPosition']] # Select only the True values\n",
    "elPos = await client.select_time_series('lsst.sal.MTMount.logevent_elevationInPosition', \\\n",
    "                                            ['inPosition', 'private_kafkaStamp'],  start, end)\n",
    "elPos = elPos[elPos['inPosition']] # Select only the True values\n",
    "print(len(azPos), len(elPos))"
   ]
  },
  {
   "cell_type": "code",
   "execution_count": null,
   "metadata": {
    "execution": {
     "iopub.execute_input": "2023-06-22T16:17:40.908242Z",
     "iopub.status.busy": "2023-06-22T16:17:40.907753Z",
     "iopub.status.idle": "2023-06-22T16:17:40.955563Z",
     "shell.execute_reply": "2023-06-22T16:17:40.955121Z",
     "shell.execute_reply.started": "2023-06-22T16:17:40.908189Z"
    },
    "tags": []
   },
   "outputs": [],
   "source": [
    "# Find all of the time stamps\n",
    "\n",
    "# Start with start_slew times\n",
    "\n",
    "azs = az_track.values[:,0]\n",
    "els = el_track.values[:,0]\n",
    "times = az_track.values[:,1]\n",
    "start_slew_times_1 = []\n",
    "slew_dist_1 = []\n",
    "slew_times_1 = []\n",
    "for i in range(1,len(az_track)):\n",
    "    az_shift = abs(azs[i] - azs[i-1])\n",
    "    el_shift = abs(els[i] - els[i-1])\n",
    "    if (az_shift > 0.1) or (el_shift > 0.1):\n",
    "        start_slew_times_1.append(times[i])\n",
    "        az_shift_mod = az_shift * np.cos(els[i]*np.pi/180.0)\n",
    "        shift = np.sqrt(el_shift*el_shift + az_shift_mod*az_shift_mod)\n",
    "        slew_dist_1.append(shift)\n",
    "print(len(start_slew_times_1))\n",
    "\n",
    "# Now in position timestamps\n",
    "\n",
    "inPos_1 = []\n",
    "azPosValues = azPos.values[:,1]\n",
    "elPosValues = elPos.values[:,1]\n",
    "\n",
    "for i in range(len(azPos)):\n",
    "    if azPosValues[i] > elPosValues[i]:\n",
    "        inPos_1.append(azPosValues[i])\n",
    "    else:\n",
    "        inPos_1.append(elPosValues[i])\n",
    "\n",
    "print(len(inPos_1))\n",
    "\n",
    "# Now pair them up\n",
    "\n",
    "pairMin = 1.0\n",
    "pairMax = 6.0\n",
    "\n",
    "start_slew_times = []\n",
    "slew_dist = []\n",
    "slew_times = []\n",
    "inPos = []\n",
    "\n",
    "for i in range(len(start_slew_times_1)):\n",
    "    for j in range(len(inPos_1)):\n",
    "        deltaT = inPos_1[j] - start_slew_times_1[i] \n",
    "        if deltaT > pairMin and deltaT < pairMax:\n",
    "            inPos.append(inPos_1[j])\n",
    "            start_slew_times.append(start_slew_times_1[i])\n",
    "            slew_times.append(deltaT)\n",
    "            slew_dist.append(slew_dist_1[i])\n",
    "        \n",
    "print(len(inPos), len(start_slew_times), len(slew_times), len(slew_dist))"
   ]
  },
  {
   "cell_type": "code",
   "execution_count": null,
   "metadata": {
    "execution": {
     "iopub.execute_input": "2023-06-22T16:17:46.368984Z",
     "iopub.status.busy": "2023-06-22T16:17:46.368516Z",
     "iopub.status.idle": "2023-06-22T16:17:46.401498Z",
     "shell.execute_reply": "2023-06-22T16:17:46.401058Z",
     "shell.execute_reply.started": "2023-06-22T16:17:46.368938Z"
    },
    "tags": []
   },
   "outputs": [],
   "source": [
    "plt.subplots_adjust(wspace=0.5)\n",
    "plt.subplot(1,2,1)\n",
    "plt.hist(slew_times)\n",
    "plt.xlabel(\"Slew and settle time (seconds)\")\n",
    "plt.xlim(0.0, 10.0)\n",
    "plt.subplot(1,2,2)\n",
    "plt.scatter(slew_dist, slew_times)\n",
    "plt.ylabel(\"Slew and settle time(sec)\")\n",
    "plt.xlabel(\"Slew distance (degrees)\")\n",
    "#plt.savefig(f\"/home/craiglagegit/DATA/MTMount_26jan23/Slew_Settle_Times_Corrected.pdf\")"
   ]
  },
  {
   "cell_type": "code",
   "execution_count": null,
   "metadata": {
    "execution": {
     "iopub.execute_input": "2023-06-22T16:18:17.710449Z",
     "iopub.status.busy": "2023-06-22T16:18:17.710162Z",
     "iopub.status.idle": "2023-06-22T16:18:18.890351Z",
     "shell.execute_reply": "2023-06-22T16:18:18.889824Z",
     "shell.execute_reply.started": "2023-06-22T16:18:17.710431Z"
    },
    "tags": []
   },
   "outputs": [],
   "source": [
    "%matplotlib inline\n",
    "delta1 =300\n",
    "delta = 440\n",
    "azPos_values = azPos.values[:,1]\n",
    "plt.subplot(1,1,1)\n",
    "plt.title(\"Azimuth Slew and Tracking\")\n",
    "ax1 = az['actualPosition'].plot(color='red')\n",
    "for start_slew_time in start_slew_times:\n",
    "    ss_time = Time(start_slew_time, format='unix_tai', scale='utc').isot  \n",
    "    ax1.axvline(ss_time, color=\"black\", linestyle=\"--\")\n",
    "for inP in inPos:\n",
    "    ip_time = Time(inP, format='unix_tai', scale='utc').isot  \n",
    "    ax1.axvline(ip_time, color=\"blue\", linestyle=\"--\")\n",
    "ax1.set_xlim((start+TimeDelta(delta1, format='sec')).isot, (start+TimeDelta(delta, format='sec')).isot)\n",
    "ax1.axvline(ss_time, color=\"black\", linestyle=\"--\", label=\"Start slew\")\n",
    "ax1.axvline(ip_time, color=\"blue\", linestyle=\"--\", label=\"InPosition\")\n",
    "ax1.set_ylim(160, 170)\n",
    "ax1.legend()\n",
    "#plt.savefig(f\"/home/craiglagegit/DATA/MTMount_15mar23/Slew_Track_Example.png\")"
   ]
  },
  {
   "cell_type": "code",
   "execution_count": null,
   "metadata": {
    "execution": {
     "iopub.execute_input": "2023-06-21T12:06:28.859811Z",
     "iopub.status.busy": "2023-06-21T12:06:28.859657Z",
     "iopub.status.idle": "2023-06-21T12:06:48.948650Z",
     "shell.execute_reply": "2023-06-21T12:06:48.948073Z",
     "shell.execute_reply.started": "2023-06-21T12:06:28.859796Z"
    },
    "tags": []
   },
   "outputs": [],
   "source": [
    "# Plotting the mount plots\n",
    "azRmsVals = []\n",
    "elRmsVals = []\n",
    "imRmsVals = []\n",
    "fig = plt.figure(figsize = (8,8))\n",
    "for index in range(len(inPos) - 1):\n",
    "\n",
    "    plotAz = az[(az['timestamp'] > inPos[index]) & (az['timestamp'] < start_slew_times[index+1])]\n",
    "    plotEl = el[(el['timestamp'] > inPos[index]) & (el['timestamp'] < start_slew_times[index+1])]\n",
    "    ss_time = Time(start_slew_times[index+1], format='unix_tai', scale='utc').isot\n",
    "    ip_time = Time(inPos[index], format='unix_tai', scale='utc').isot\n",
    "\n",
    "\n",
    "    # Calculate the tracking errors\n",
    "    az_vals = np.array(plotAz.values[:,0])\n",
    "    el_vals = np.array(plotEl.values[:,0])\n",
    "    times_az = plotAz.values[:,1]\n",
    "    times_el = plotEl.values[:,1]\n",
    "    # The fits are much better if the time variable\n",
    "    # is centered in the interval\n",
    "    time_delta_az = times_az[int(len(plotAz.values) / 2)]\n",
    "    time_delta_el = times_el[int(len(plotEl.values) / 2)]\n",
    "    fit_times_az = [(times_az[i]-time_delta_az) for i in range(len(times_az))]\n",
    "    fit_times_el = [(times_el[i]-time_delta_el) for i in range(len(times_el))]\n",
    "\n",
    "    # Fit with a polynomial\n",
    "    az_fit = np.polyfit(fit_times_az, az_vals, 4)\n",
    "    el_fit = np.polyfit(fit_times_el, el_vals, 4)\n",
    "    az_model = np.polyval(az_fit, fit_times_az)\n",
    "    el_model = np.polyval(el_fit, fit_times_el)\n",
    "\n",
    "    # Errors in arcseconds\n",
    "    az_error = (az_vals - az_model) * 3600\n",
    "    el_error = (el_vals - el_model) * 3600\n",
    "    \n",
    "    # Drive velocities\n",
    "    az_vel = (az_model[-1] - az_model[0]) / (fit_times_az[-1] - fit_times_az[0]) * 3600.0\n",
    "    el_vel = (el_model[-1] - el_model[0]) / (fit_times_el[-1] - fit_times_el[0]) * 3600.0\n",
    "    \n",
    "    # Calculate RMS\n",
    "    az_rms = np.sqrt(np.mean(az_error * az_error))\n",
    "    el_rms = np.sqrt(np.mean(el_error * el_error))\n",
    "    azRmsVals.append(az_rms)\n",
    "    elRmsVals.append(el_rms)\n",
    "    # Calculate Image impact RMS\n",
    "    # We are less sensitive to Az errors near the zenith\n",
    "    image_az_rms = az_rms * np.cos(el_vals[0] * np.pi / 180.0)\n",
    "    image_el_rms = el_rms\n",
    "    imRmsVals.append(np.sqrt(image_az_rms*image_az_rms + image_el_rms*image_el_rms))\n",
    "\n",
    "    fig.clear()\n",
    "    plt.subplots_adjust(wspace=0.3, hspace=0.5)\n",
    "    plt.suptitle(f\"MT Mount Jitter - {ip_time}\", fontsize = 18)\n",
    "    plt.subplot(2,2,1)\n",
    "    ax1 = plotAz['actualPosition'].plot(legend=True, color='red')\n",
    "    ax1.axvline(ss_time, color=\"black\", linestyle=\"--\", label=\"Start slew\")\n",
    "    ax1.axvline(ip_time, color=\"blue\", linestyle=\"--\", label=\"InPosition\")\n",
    "    ax1.set_title(f\"Azimuth\\nAve velocity={az_vel:.1f} arcsec/sec\")\n",
    "    ax1.set_ylabel(\"Degrees\")\n",
    "    ax1.legend()\n",
    "    plt.subplot(2,2,2)\n",
    "    ax3 = plotEl['actualPosition'].plot(legend=True, color='green')\n",
    "    ax3.axvline(ss_time, color=\"black\", linestyle=\"--\", label=\"Start slew\")\n",
    "    ax3.axvline(ip_time, color=\"blue\", linestyle=\"--\", label=\"InPosition\")\n",
    "    ax3.set_title(f\"Elevation\\nAve velocity={el_vel:.1f} arcsec/sec\")\n",
    "    ax3.set_ylabel(\"Degrees\")\n",
    "    ax3.legend()\n",
    "    plt.subplot(2,2,3)\n",
    "    plt.plot(fit_times_az, az_error, color='red')\n",
    "    plt.title(f\"Azimuth RMS error = {az_rms:.3f} arcseconds\\n\"\n",
    "              f\"  Image RMS error = {image_az_rms:.3f} arcseconds\", fontsize=10)\n",
    "    plt.ylim(-0.2,0.2)\n",
    "    plt.xticks([])\n",
    "    plt.ylabel(\"ArcSeconds\")\n",
    "    plt.subplot(2,2,4)\n",
    "    plt.plot(fit_times_el, el_error, color='green')\n",
    "    plt.title(f\"Elevation RMS error = {el_rms:.3f} arcseconds\\n\"\n",
    "              f\"  Image RMS error = {image_el_rms:.3f} arcseconds\", fontsize=10)\n",
    "    plt.ylim(-0.2,0.2)\n",
    "    plt.xticks([])\n",
    "    plt.ylabel(\"ArcSeconds\")\n",
    "    timestamp = ip_time.split('.')[0].replace('-','').replace(':','')\n",
    "    plt.savefig(f\"/home/craiglagegit/DATA/MTMount_15mar23/MT_Mount_Jitter_Corrrected_{timestamp}.pdf\")\n",
    "\n",
    "\n",
    "mount_data = {}\n",
    "mount_data['start_slew_times'] = start_slew_times\n",
    "mount_data['inPos'] = inPos\n",
    "mount_data['slew_times'] = slew_times\n",
    "mount_data['slew_dist'] = slew_dist\n",
    "mount_data['azRmsVals'] = azRmsVals\n",
    "mount_data['elRmsVals'] = elRmsVals\n",
    "mount_data['imRmsVals'] = imRmsVals\n",
    "\n",
    "filename = \"/home/craiglagegit/DATA/MTMount_15mar23/mount_data_corrected.pkl\"\n",
    "file = open(filename, 'wb')\n",
    "pkl.dump(mount_data, file)\n",
    "file.close()\n",
    "\n"
   ]
  },
  {
   "cell_type": "code",
   "execution_count": null,
   "metadata": {
    "execution": {
     "iopub.execute_input": "2023-06-21T12:06:48.951434Z",
     "iopub.status.busy": "2023-06-21T12:06:48.951129Z",
     "iopub.status.idle": "2023-06-21T12:06:48.955319Z",
     "shell.execute_reply": "2023-06-21T12:06:48.954849Z",
     "shell.execute_reply.started": "2023-06-21T12:06:48.951417Z"
    },
    "tags": []
   },
   "outputs": [],
   "source": [
    "filename = \"/home/craiglagegit/DATA/MTMount_15mar23/mount_data_corrected.pkl\"\n",
    "file = open(filename, 'rb')\n",
    "mount_data = pkl.load(file)\n",
    "file.close()"
   ]
  },
  {
   "cell_type": "code",
   "execution_count": null,
   "metadata": {
    "execution": {
     "iopub.execute_input": "2023-06-21T12:06:48.956200Z",
     "iopub.status.busy": "2023-06-21T12:06:48.956053Z",
     "iopub.status.idle": "2023-06-21T12:06:49.353419Z",
     "shell.execute_reply": "2023-06-21T12:06:49.352866Z",
     "shell.execute_reply.started": "2023-06-21T12:06:48.956186Z"
    },
    "tags": []
   },
   "outputs": [],
   "source": [
    "fig = plt.figure(figsize=(16,8))\n",
    "plt.suptitle(\"MT Mount RMS Jitter - 20230315\", fontsize = 18)\n",
    "azRmsVals = mount_data['azRmsVals']\n",
    "elRmsVals = mount_data['elRmsVals']\n",
    "imRmsVals = mount_data['imRmsVals']\n",
    "azMed = np.median(azRmsVals)\n",
    "elMed = np.median(elRmsVals)\n",
    "imMed = np.median(imRmsVals)\n",
    "plt.subplots_adjust(wspace=0.2)\n",
    "plt.subplot(1,3,1)\n",
    "plt.title(f\"Azimuth RMS, N={len(azRmsVals)}\")\n",
    "plt.hist(azRmsVals, range=(0,0.2))\n",
    "plt.text(0.1,40, f\"Median={azMed:.3f}\", fontsize=12)\n",
    "plt.xlim(0,0.2)\n",
    "plt.xlabel(\"RMS Jitter (arcseconds)\")\n",
    "plt.subplot(1,3,2)\n",
    "plt.title(f\"Elevation RMS, N={len(azRmsVals)}\")\n",
    "plt.hist(elRmsVals, range=(0,0.2))\n",
    "plt.text(0.1,40, f\"Median={elMed:.3f}\", fontsize=12)\n",
    "plt.xlim(0,0.2)\n",
    "plt.xlabel(\"RMS Jitter (arcseconds)\")\n",
    "plt.subplot(1,3,3)\n",
    "plt.title(f\"Image Impact RMS, N={len(azRmsVals)}\")\n",
    "plt.hist(imRmsVals, range=(0,0.2))\n",
    "plt.text(0.1,40, f\"Median={imMed:.3f}\", fontsize=12)\n",
    "plt.xlim(0,0.2)\n",
    "plt.xlabel(\"RMS Jitter (arcseconds)\")\n",
    "#plt.savefig(f\"/home/craiglagegit/DATA/MTMount_26jan23/Jitter_Summary_Corrected.pdf\")"
   ]
  },
  {
   "cell_type": "code",
   "execution_count": null,
   "metadata": {
    "execution": {
     "iopub.execute_input": "2023-06-22T16:11:11.014782Z",
     "iopub.status.busy": "2023-06-22T16:11:11.014503Z",
     "iopub.status.idle": "2023-06-22T16:11:12.634325Z",
     "shell.execute_reply": "2023-06-22T16:11:12.633796Z",
     "shell.execute_reply.started": "2023-06-22T16:11:11.014765Z"
    },
    "tags": []
   },
   "outputs": [],
   "source": [
    "from lsst.summit.utils.tmaUtils import TMAEventMaker, TMAState\n",
    "dayObs = 20230316\n",
    "eventMaker = TMAEventMaker()\n",
    "events = eventMaker.getEvents(dayObs)\n",
    "\n",
    "slews = [e for e in events if e.type==TMAState.SLEWING]\n",
    "tracks = [e for e in events if e.type==TMAState.TRACKING]\n",
    "print(f'Found {len(slews)} slews and {len(tracks)} tracks')"
   ]
  },
  {
   "cell_type": "code",
   "execution_count": null,
   "metadata": {
    "execution": {
     "iopub.execute_input": "2023-06-22T16:45:46.629590Z",
     "iopub.status.busy": "2023-06-22T16:45:46.629302Z",
     "iopub.status.idle": "2023-06-22T16:45:46.633020Z",
     "shell.execute_reply": "2023-06-22T16:45:46.632462Z",
     "shell.execute_reply.started": "2023-06-22T16:45:46.629573Z"
    },
    "tags": []
   },
   "outputs": [],
   "source": [
    "e = events[17]\n",
    "print(e)"
   ]
  },
  {
   "cell_type": "code",
   "execution_count": null,
   "metadata": {
    "execution": {
     "iopub.execute_input": "2023-06-22T16:47:36.292299Z",
     "iopub.status.busy": "2023-06-22T16:47:36.292033Z",
     "iopub.status.idle": "2023-06-22T16:47:36.295920Z",
     "shell.execute_reply": "2023-06-22T16:47:36.295442Z",
     "shell.execute_reply.started": "2023-06-22T16:47:36.292282Z"
    },
    "tags": []
   },
   "outputs": [],
   "source": [
    "e.begin.utc.isot"
   ]
  },
  {
   "cell_type": "code",
   "execution_count": null,
   "metadata": {
    "execution": {
     "iopub.execute_input": "2023-06-22T17:19:13.685250Z",
     "iopub.status.busy": "2023-06-22T17:19:13.684974Z",
     "iopub.status.idle": "2023-06-22T17:19:13.689489Z",
     "shell.execute_reply": "2023-06-22T17:19:13.689082Z",
     "shell.execute_reply.started": "2023-06-22T17:19:13.685232Z"
    },
    "tags": []
   },
   "outputs": [],
   "source": [
    "import matplotlib.dates as mdates\n",
    "import pandas as pd\n",
    "print(pd.to_datetime(e.begin.utc.isot))\n",
    "print(mdates.date2num(pd.to_datetime(e.begin.utc.isot)))"
   ]
  },
  {
   "cell_type": "code",
   "execution_count": null,
   "metadata": {
    "execution": {
     "iopub.execute_input": "2023-06-22T17:36:40.968819Z",
     "iopub.status.busy": "2023-06-22T17:36:40.968544Z",
     "iopub.status.idle": "2023-06-22T17:36:41.946563Z",
     "shell.execute_reply": "2023-06-22T17:36:41.946145Z",
     "shell.execute_reply.started": "2023-06-22T17:36:40.968803Z"
    },
    "tags": []
   },
   "outputs": [],
   "source": [
    "%matplotlib inline\n",
    "delta1 =417\n",
    "delta = 423\n",
    "\n",
    "azPos_values = azPos.values[:,1]\n",
    "plt.subplot(1,1,1)\n",
    "plt.title(\"Azimuth Slew and Tracking\")\n",
    "ax1 = az['actualPosition'].plot(color='red')\n",
    "for start_slew_time in start_slew_times:\n",
    "    if (start_slew_time > (start+TimeDelta(delta1, format='sec')).unix_tai) and (start_slew_time < (start+TimeDelta(delta, format='sec')).unix_tai):\n",
    "        ss_time = Time(start_slew_time, format='unix_tai', scale='utc')\n",
    "        ax1.axvline(ss_time.isot, color=\"black\", linestyle=\"--\")\n",
    "for inP in inPos:\n",
    "    if (inP > (start+TimeDelta(delta1, format='sec')).unix_tai) and (inP < (start+TimeDelta(delta, format='sec')).unix_tai):\n",
    "        ip_time = Time(inP, format='unix_tai', scale='utc')  \n",
    "        ax1.axvline(ip_time.isot, color=\"blue\", linestyle=\"--\")\n",
    "    \n",
    "for e in events:\n",
    "    if e.type==TMAState.SLEWING:\n",
    "        if (e.begin.unix_tai > (start+TimeDelta(delta1, format='sec')).unix_tai) and (e.begin.unix_tai < (start+TimeDelta(delta, format='sec')).unix_tai):\n",
    "            ax1.axvline(e.begin.utc.isot, color=\"orange\", linestyle=\":\")\n",
    "            ax1.axvline(e.end.utc.isot, color=\"cyan\", linestyle=\":\")\n",
    "            print(f\"Slew begin delta = {ss_time.unix_tai - e.begin.unix_tai}\")\n",
    "            print(f\"Slew end delta = {ip_time.unix_tai - e.end.unix_tai}\")\n",
    "            ax1.text(pd.to_datetime(e.begin.utc.isot), 162, f\"Slew begin delta = {(ss_time.unix_tai - e.begin.unix_tai):.4f} seconds\")\n",
    "            ax1.text(pd.to_datetime(e.begin.utc.isot), 161, f\"Slew end delta = {(ip_time.unix_tai - e.end.unix_tai):.4f} seconds\")\n",
    "        \n",
    "    \n",
    "    else:\n",
    "        continue\n",
    "    \n",
    "ax1.set_xlim((start+TimeDelta(delta1, format='sec')).isot, (start+TimeDelta(delta, format='sec')).isot)\n",
    "ax1.axvline(ss_time.isot, color=\"black\", linestyle=\"--\", label=\"Start slew - Craig\")\n",
    "ax1.axvline(ip_time.isot, color=\"blue\", linestyle=\"--\", label=\"InPosition - Craig\")\n",
    "ax1.axvline(e.begin.utc.isot, color=\"orange\", linestyle=\":\", label=\"Start slew - Merlin\")\n",
    "ax1.axvline(e.end.utc.isot, color=\"cyan\", linestyle=\":\", label=\"End slew - Merlin\")\n",
    "\n",
    "ax1.set_ylim(160, 170)\n",
    "ax1.legend()\n",
    "plt.savefig(f\"/home/craiglagegit/DATA/MTMount_15mar23/Slew_Time_Deltas_3.png\")"
   ]
  },
  {
   "cell_type": "code",
   "execution_count": null,
   "metadata": {
    "execution": {
     "iopub.execute_input": "2023-06-22T17:27:30.834780Z",
     "iopub.status.busy": "2023-06-22T17:27:30.834506Z",
     "iopub.status.idle": "2023-06-22T17:27:32.252987Z",
     "shell.execute_reply": "2023-06-22T17:27:32.252470Z",
     "shell.execute_reply.started": "2023-06-22T17:27:30.834763Z"
    },
    "tags": []
   },
   "outputs": [],
   "source": [
    "%matplotlib inline\n",
    "delta1 =300\n",
    "delta = 440\n",
    "\n",
    "azPos_values = azPos.values[:,1]\n",
    "plt.subplot(1,1,1)\n",
    "plt.title(\"Azimuth Slew and Tracking\")\n",
    "ax1 = az['actualPosition'].plot(color='red')\n",
    "for start_slew_time in start_slew_times:\n",
    "    ss_time = Time(start_slew_time, format='unix_tai', scale='utc').isot  \n",
    "    ax1.axvline(ss_time, color=\"black\", linestyle=\"--\")\n",
    "for inP in inPos:\n",
    "    ip_time = Time(inP, format='unix_tai', scale='utc').isot  \n",
    "    ax1.axvline(ip_time, color=\"blue\", linestyle=\"--\")\n",
    "    \n",
    "for e in events:\n",
    "    if e.type==TMAState.SLEWING:\n",
    "        if (e.begin.unix_tai > (start+TimeDelta(delta1, format='sec')).unix_tai) and (e.begin.unix_tai < (start+TimeDelta(delta, format='sec')).unix_tai):\n",
    "            ax1.axvline(e.begin.utc.isot, color=\"orange\", linestyle=\":\")\n",
    "            ax1.axvline(e.end.utc.isot, color=\"cyan\", linestyle=\":\")\n",
    "        \n",
    "    \n",
    "    else:\n",
    "        continue\n",
    "    \n",
    "ax1.set_xlim((start+TimeDelta(delta1, format='sec')).isot, (start+TimeDelta(delta, format='sec')).isot)\n",
    "ax1.axvline(ss_time, color=\"black\", linestyle=\"--\", label=\"Start slew - Craig\")\n",
    "ax1.axvline(ip_time, color=\"blue\", linestyle=\"--\", label=\"InPosition - Craig\")\n",
    "ax1.axvline(e.begin.utc.isot, color=\"orange\", linestyle=\":\", label=\"Start slew - Merlin\")\n",
    "ax1.axvline(e.end.utc.isot, color=\"cyan\", linestyle=\":\", label=\"End slew - Merlin\")\n",
    "\n",
    "ax1.set_ylim(160, 170)\n",
    "ax1.legend()\n",
    "plt.savefig(f\"/home/craiglagegit/DATA/MTMount_15mar23/Slew_Times.png\")"
   ]
  },
  {
   "cell_type": "code",
   "execution_count": null,
   "metadata": {},
   "outputs": [],
   "source": []
  }
 ],
 "metadata": {
  "kernelspec": {
   "display_name": "LSST",
   "language": "python",
   "name": "lsst"
  },
  "language_info": {
   "codemirror_mode": {
    "name": "ipython",
    "version": 3
   },
   "file_extension": ".py",
   "mimetype": "text/x-python",
   "name": "python",
   "nbconvert_exporter": "python",
   "pygments_lexer": "ipython3",
   "version": "3.10.11"
  }
 },
 "nbformat": 4,
 "nbformat_minor": 4
}
