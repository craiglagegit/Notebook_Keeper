{
 "cells": [
  {
   "cell_type": "markdown",
   "metadata": {},
   "source": [
    "## Plotting Azimuth axis on StarTracker images - 05-Dec-22\n",
    "\n",
    "Craig Lage"
   ]
  },
  {
   "cell_type": "code",
   "execution_count": null,
   "metadata": {
    "execution": {
     "iopub.execute_input": "2022-12-07T16:03:52.193672Z",
     "iopub.status.busy": "2022-12-07T16:03:52.193306Z",
     "iopub.status.idle": "2022-12-07T16:03:55.018680Z",
     "shell.execute_reply": "2022-12-07T16:03:55.018274Z",
     "shell.execute_reply.started": "2022-12-07T16:03:52.193654Z"
    },
    "tags": []
   },
   "outputs": [],
   "source": [
    "import sys, time, os, asyncio, glob\n",
    "from datetime import datetime\n",
    "import numpy as np\n",
    "import astropy.io.fits as pf\n",
    "import matplotlib.pyplot as plt\n",
    "from astropy.time import Time, TimeDelta\n",
    "from astropy.coordinates import AltAz, ICRS, EarthLocation, Angle, FK5, SkyCoord\n",
    "import astropy.units as u\n",
    "from lsst.obs.lsst.translators.lsst import SIMONYI_LOCATION\n",
    "%matplotlib inline\n",
    "\n",
    "import lsst.afw.image as afwImage\n",
    "from lsst.geom import SpherePoint\n",
    "from lsst.geom import Angle as afwAngle\n",
    "from astroquery.simbad import Simbad\n",
    "from lsst.summit.utils.blindSolving import runImchar, genericCameraHeaderToWcs, CommandLineSolver"
   ]
  },
  {
   "cell_type": "code",
   "execution_count": null,
   "metadata": {
    "execution": {
     "iopub.execute_input": "2022-12-07T16:03:55.024466Z",
     "iopub.status.busy": "2022-12-07T16:03:55.024185Z",
     "iopub.status.idle": "2022-12-07T16:03:55.026597Z",
     "shell.execute_reply": "2022-12-07T16:03:55.026247Z",
     "shell.execute_reply.started": "2022-12-07T16:03:55.024452Z"
    },
    "tags": []
   },
   "outputs": [],
   "source": [
    "solver = CommandLineSolver(indexFiles='/scratch/mfisherlevine/astrometry_net/broiler.astrometry.net/~dstn/4100',\n",
    "                           checkInParallel=True)\n",
    "\n",
    "path = '/project/GenericCamera/101/2022/11/22/'"
   ]
  },
  {
   "cell_type": "code",
   "execution_count": null,
   "metadata": {
    "execution": {
     "iopub.execute_input": "2022-12-07T16:19:28.309832Z",
     "iopub.status.busy": "2022-12-07T16:19:28.309559Z",
     "iopub.status.idle": "2022-12-07T16:19:33.473394Z",
     "shell.execute_reply": "2022-12-07T16:19:33.472746Z",
     "shell.execute_reply.started": "2022-12-07T16:19:28.309814Z"
    },
    "tags": []
   },
   "outputs": [],
   "source": [
    "# Get the image and solve for the WCS\n",
    "seqNum = 39\n",
    "filename = path + f'GC101_O_20221122_{seqNum:06}.fits'\n",
    "exp = afwImage.ExposureF(filename)\n",
    "wcs = genericCameraHeaderToWcs(exp)\n",
    "exp.setWcs(wcs)\n",
    "results = runImchar(exp, 5, 25)\n",
    "solverResults = solver.run(exp, results.sourceCat, silent=True)\n",
    "newWcs = solverResults.wcs\n",
    "raSolve = newWcs.getSkyOrigin().getRa().asDegrees()\n",
    "decSolve = newWcs.getSkyOrigin().getDec().asDegrees()"
   ]
  },
  {
   "cell_type": "code",
   "execution_count": null,
   "metadata": {
    "execution": {
     "iopub.execute_input": "2022-12-07T16:19:36.955583Z",
     "iopub.status.busy": "2022-12-07T16:19:36.955211Z",
     "iopub.status.idle": "2022-12-07T16:19:36.968702Z",
     "shell.execute_reply": "2022-12-07T16:19:36.968120Z",
     "shell.execute_reply.started": "2022-12-07T16:19:36.955566Z"
    },
    "tags": []
   },
   "outputs": [],
   "source": [
    "DIR = \"/project/GenericCamera/101/2022/11/22/\"\n",
    "HEAD = \"GC101_O_20221122_\"\n",
    "hdulist = pf.open(f\"{DIR}{HEAD}0000{seqNum}.fits\")\n",
    "header = hdulist[0].header\n",
    "time = Time(header[\"DATE-OBS\"])\n",
    "\n",
    "Alt = 90.0\n",
    "Az = 180.0\n",
    "now = Time(datetime.now())\n",
    "altAz = SkyCoord(AltAz(alt=Alt*u.deg, az=Az*u.deg, obstime=time, location=SIMONYI_LOCATION))\n",
    "RaDec = altAz.transform_to(ICRS)\n",
    "spherePoint = SpherePoint(afwAngle(RaDec.ra.rad), afwAngle(RaDec.dec.rad))\n",
    "point = newWcs.skyToPixel(spherePoint)\n",
    "print(point)"
   ]
  },
  {
   "cell_type": "code",
   "execution_count": null,
   "metadata": {
    "execution": {
     "iopub.execute_input": "2022-12-07T16:19:42.450524Z",
     "iopub.status.busy": "2022-12-07T16:19:42.450244Z",
     "iopub.status.idle": "2022-12-07T16:19:42.453979Z",
     "shell.execute_reply": "2022-12-07T16:19:42.453412Z",
     "shell.execute_reply.started": "2022-12-07T16:19:42.450506Z"
    },
    "tags": []
   },
   "outputs": [],
   "source": [
    "azimuth_axis = (1552.4894809, 1260.80584883) # From Adrian Shestakov\n",
    "separation = np.sqrt((point.x - azimuth_axis[0])**2 + (point.y - azimuth_axis[1])**2)\n",
    "separation += newWcs.getPixelScale().asArcseconds()"
   ]
  },
  {
   "cell_type": "code",
   "execution_count": null,
   "metadata": {
    "execution": {
     "iopub.execute_input": "2022-12-07T16:19:50.139750Z",
     "iopub.status.busy": "2022-12-07T16:19:50.139482Z",
     "iopub.status.idle": "2022-12-07T16:19:50.629490Z",
     "shell.execute_reply": "2022-12-07T16:19:50.629029Z",
     "shell.execute_reply.started": "2022-12-07T16:19:50.139733Z"
    },
    "tags": []
   },
   "outputs": [],
   "source": [
    "# Now plot the data with matplotlib\n",
    "%matplotlib inline\n",
    "def colorbar(mappable):\n",
    "    from mpl_toolkits.axes_grid1 import make_axes_locatable\n",
    "    last_axes = plt.gca()\n",
    "    ax = mappable.axes\n",
    "    fig = ax.figure\n",
    "    divider = make_axes_locatable(ax)\n",
    "    cax = divider.append_axes(\"right\", size=\"5%\", pad=0.05)\n",
    "    cbar = fig.colorbar(mappable, cax=cax)\n",
    "    plt.sca(last_axes)\n",
    "    return cbar\n",
    "\n",
    "plt.figure(figsize=(8,8))\n",
    "plt.title(\"StarTracker Wide Field\")\n",
    "img = plt.imshow(exp.image.array,  vmin=100, vmax=2000, interpolation='Nearest', cmap='gray')\n",
    "plt.scatter(point.x, point.y, marker='+', color='green', s=200,lw=2)\n",
    "plt.text(point.x+200, point.y, \"Astronomical Zenith\", color='green', fontsize=18)\n",
    "plt.scatter(azimuth_axis[0], azimuth_axis[1], marker='+', color='red', s=200,lw=2)\n",
    "plt.text(azimuth_axis[0]-1000, azimuth_axis[1], \"Azimuth Axis\", color='red', fontsize=18)\n",
    "colorbar(img)\n",
    "plt.tight_layout(h_pad=1)\n",
    "plt.savefig(\"/home/craiglagegit/DATA/StarTracker_Azimuth_Axis_20221122_39.pdf\")"
   ]
  },
  {
   "cell_type": "code",
   "execution_count": null,
   "metadata": {
    "execution": {
     "iopub.execute_input": "2022-12-07T16:21:42.172315Z",
     "iopub.status.busy": "2022-12-07T16:21:42.171950Z",
     "iopub.status.idle": "2022-12-07T16:21:42.710839Z",
     "shell.execute_reply": "2022-12-07T16:21:42.710357Z",
     "shell.execute_reply.started": "2022-12-07T16:21:42.172298Z"
    },
    "tags": []
   },
   "outputs": [],
   "source": [
    "seqNum = 43\n",
    "filename = path + f'GC101_O_20221122_{seqNum:06}.fits'\n",
    "exp = afwImage.ExposureF(filename)\n",
    "\n",
    "\n",
    "\n",
    "# Now plot the data with matplotlib\n",
    "%matplotlib inline\n",
    "def colorbar(mappable):\n",
    "    from mpl_toolkits.axes_grid1 import make_axes_locatable\n",
    "    last_axes = plt.gca()\n",
    "    ax = mappable.axes\n",
    "    fig = ax.figure\n",
    "    divider = make_axes_locatable(ax)\n",
    "    cax = divider.append_axes(\"right\", size=\"5%\", pad=0.05)\n",
    "    cbar = fig.colorbar(mappable, cax=cax)\n",
    "    plt.sca(last_axes)\n",
    "    return cbar\n",
    "\n",
    "plt.figure(figsize=(8,8))\n",
    "plt.title(\"StarTracker Wide Field\")\n",
    "img = plt.imshow(exp.image.array,  vmin=10, vmax=8000, interpolation='Nearest', cmap='gray')\n",
    "plt.scatter(point.x, point.y, marker='+', color='green', s=200,lw=2)\n",
    "plt.text(point.x+200, point.y, \"Astronomical Zenith\", color='green', fontsize=18)\n",
    "plt.scatter(azimuth_axis[0], azimuth_axis[1], marker='+', color='red', s=200,lw=2)\n",
    "plt.text(azimuth_axis[0]-1000, azimuth_axis[1], \"Azimuth Axis\", color='red', fontsize=18)\n",
    "plt.text(azimuth_axis[0]-500, azimuth_axis[1]+500, f\"Separation = {separation:.2f} arcseconds\", color='red', fontsize=18)\n",
    "colorbar(img)\n",
    "plt.tight_layout(h_pad=1)\n",
    "plt.savefig(\"/home/craiglagegit/DATA/StarTracker_Azimuth_Axis_20221122_43.pdf\")"
   ]
  },
  {
   "cell_type": "code",
   "execution_count": null,
   "metadata": {
    "execution": {
     "iopub.execute_input": "2022-12-07T16:34:09.889908Z",
     "iopub.status.busy": "2022-12-07T16:34:09.889638Z",
     "iopub.status.idle": "2022-12-07T16:34:10.452114Z",
     "shell.execute_reply": "2022-12-07T16:34:10.451684Z",
     "shell.execute_reply.started": "2022-12-07T16:34:09.889891Z"
    },
    "tags": []
   },
   "outputs": [],
   "source": [
    "seqNum = 43\n",
    "filename = path + f'GC101_O_20221122_{seqNum:06}.fits'\n",
    "exp = afwImage.ExposureF(filename)\n",
    "\n",
    "Ncenter = (300, 1800)\n",
    "Nlength = 500.0\n",
    "Nlabel = 650.0\n",
    "\n",
    "\n",
    "# Now plot the data with matplotlib\n",
    "%matplotlib inline\n",
    "def colorbar(mappable):\n",
    "    from mpl_toolkits.axes_grid1 import make_axes_locatable\n",
    "    last_axes = plt.gca()\n",
    "    ax = mappable.axes\n",
    "    fig = ax.figure\n",
    "    divider = make_axes_locatable(ax)\n",
    "    cax = divider.append_axes(\"right\", size=\"5%\", pad=0.05)\n",
    "    cbar = fig.colorbar(mappable, cax=cax)\n",
    "    plt.sca(last_axes)\n",
    "    return cbar\n",
    "\n",
    "plt.figure(figsize=(8,8))\n",
    "plt.title(\"StarTracker Wide Field 2022112200043\")\n",
    "img = plt.imshow(exp.image.array,  vmin=10, vmax=8000, interpolation='Nearest', cmap='gray')\n",
    "plt.scatter(point.x, point.y, marker='+', color='green', s=200,lw=2)\n",
    "plt.text(point.x+200, point.y, \"Astronomical Zenith\", color='green', fontsize=18)\n",
    "plt.scatter(azimuth_axis[0], azimuth_axis[1], marker='+', color='red', s=200,lw=2)\n",
    "plt.text(azimuth_axis[0]-1000, azimuth_axis[1], \"Azimuth Axis\", color='red', fontsize=18)\n",
    "plt.text(azimuth_axis[0]-500, azimuth_axis[1]+500, f\"Separation = {separation:.2f} arcseconds\", color='red', fontsize=18)\n",
    "# Now plot the N, E arrows as determined by ROTPA\n",
    "rot = Angle(newWcs.getRelativeRotationToWcs(wcs).asDegrees()*u.deg)\n",
    "plt.arrow(Ncenter[0],Ncenter[1], -Nlength*np.sin(rot), Nlength*np.cos(rot),\\\n",
    "    color='lightgreen', width = 20)\n",
    "plt.text(Ncenter[0]-Nlabel*np.sin(rot),Ncenter[1]+Nlabel*np.cos(rot), 'N', \\\n",
    "    color='lightgreen', fontsize=12, weight='bold')\n",
    "plt.arrow(Ncenter[0],Ncenter[1], Nlength*np.cos(rot), Nlength*np.sin(rot),\\\n",
    "    color='lightgreen', width = 20)\n",
    "plt.text(Ncenter[0]+Nlabel*np.cos(rot),Ncenter[1]+Nlabel*np.sin(rot), 'E', \\\n",
    "    color='lightgreen', fontsize=12, weight='bold')\n",
    "\n",
    "colorbar(img)\n",
    "plt.tight_layout(h_pad=1)\n",
    "plt.savefig(\"/home/craiglagegit/DATA/StarTracker_Azimuth_Axis_20221122_43.pdf\")"
   ]
  },
  {
   "cell_type": "code",
   "execution_count": null,
   "metadata": {
    "execution": {
     "iopub.execute_input": "2022-12-07T16:55:28.257330Z",
     "iopub.status.busy": "2022-12-07T16:55:28.257054Z",
     "iopub.status.idle": "2022-12-07T16:55:28.828442Z",
     "shell.execute_reply": "2022-12-07T16:55:28.827993Z",
     "shell.execute_reply.started": "2022-12-07T16:55:28.257312Z"
    },
    "tags": []
   },
   "outputs": [],
   "source": [
    "seqNum = 43\n",
    "filename = path + f'GC101_O_20221122_{seqNum:06}.fits'\n",
    "exp = afwImage.ExposureF(filename)\n",
    "\n",
    "Ncenter = (300, 1800)\n",
    "Nlength = 500.0\n",
    "Nlabel = 650.0\n",
    "\n",
    "\n",
    "# Now plot the data with matplotlib\n",
    "%matplotlib inline\n",
    "def colorbar(mappable):\n",
    "    from mpl_toolkits.axes_grid1 import make_axes_locatable\n",
    "    last_axes = plt.gca()\n",
    "    ax = mappable.axes\n",
    "    fig = ax.figure\n",
    "    divider = make_axes_locatable(ax)\n",
    "    cax = divider.append_axes(\"right\", size=\"5%\", pad=0.05)\n",
    "    cbar = fig.colorbar(mappable, cax=cax)\n",
    "    plt.sca(last_axes)\n",
    "    return cbar\n",
    "\n",
    "plt.figure(figsize=(8,8))\n",
    "plt.title(\"StarTracker Wide Field 2022112200043\")\n",
    "img = plt.imshow(exp.image.array,  vmin=10, vmax=8000, interpolation='Nearest', cmap='gray')\n",
    "plt.scatter(point.x, point.y, marker='+', color='green', s=200,lw=2)\n",
    "plt.text(point.x+200, point.y, \"Astronomical Zenith\", color='green', fontsize=18)\n",
    "plt.scatter(azimuth_axis[0], azimuth_axis[1], marker='+', color='red', s=200,lw=2)\n",
    "plt.text(azimuth_axis[0]-1000, azimuth_axis[1], \"Azimuth Axis\", color='red', fontsize=18)\n",
    "plt.scatter(newWcs.getPixelOrigin().x, newWcs.getPixelOrigin().y, marker='+', color='yellow', s=200,lw=2)\n",
    "plt.text(newWcs.getPixelOrigin().x-100,newWcs.getPixelOrigin().x-700, \"Image center\", color='yellow', fontsize=18)\n",
    "\n",
    "plt.text(azimuth_axis[0]-500, azimuth_axis[1]+500, f\"Separation = {separation:.2f} arcseconds\", color='red', fontsize=18)\n",
    "# Now plot the N, E arrows as determined by ROTPA\n",
    "rot = Angle(newWcs.getRelativeRotationToWcs(wcs).asDegrees()*u.deg)\n",
    "plt.arrow(Ncenter[0],Ncenter[1], -Nlength*np.sin(rot), Nlength*np.cos(rot),\\\n",
    "    color='lightgreen', width = 20)\n",
    "plt.text(Ncenter[0]-Nlabel*np.sin(rot),Ncenter[1]+Nlabel*np.cos(rot), 'N', \\\n",
    "    color='lightgreen', fontsize=12, weight='bold')\n",
    "plt.arrow(Ncenter[0],Ncenter[1], Nlength*np.cos(rot), Nlength*np.sin(rot),\\\n",
    "    color='lightgreen', width = 20)\n",
    "plt.text(Ncenter[0]+Nlabel*np.cos(rot),Ncenter[1]+Nlabel*np.sin(rot), 'E', \\\n",
    "    color='lightgreen', fontsize=12, weight='bold')\n",
    "\n",
    "colorbar(img)\n",
    "plt.tight_layout(h_pad=1)\n",
    "plt.savefig(\"/home/craiglagegit/DATA/StarTracker_Azimuth_Axis_Center_20221122_43.pdf\")"
   ]
  },
  {
   "cell_type": "code",
   "execution_count": null,
   "metadata": {
    "execution": {
     "iopub.execute_input": "2022-12-07T16:52:11.745297Z",
     "iopub.status.busy": "2022-12-07T16:52:11.745018Z",
     "iopub.status.idle": "2022-12-07T16:52:11.748727Z",
     "shell.execute_reply": "2022-12-07T16:52:11.748277Z",
     "shell.execute_reply.started": "2022-12-07T16:52:11.745279Z"
    }
   },
   "outputs": [],
   "source": [
    "newWcs.getPixelOrigin()"
   ]
  },
  {
   "cell_type": "code",
   "execution_count": null,
   "metadata": {
    "execution": {
     "iopub.execute_input": "2022-12-07T16:53:08.839251Z",
     "iopub.status.busy": "2022-12-07T16:53:08.838976Z",
     "iopub.status.idle": "2022-12-07T16:53:08.842863Z",
     "shell.execute_reply": "2022-12-07T16:53:08.842369Z",
     "shell.execute_reply.started": "2022-12-07T16:53:08.839234Z"
    },
    "tags": []
   },
   "outputs": [],
   "source": [
    "newWcs.getPixelOrigin().x"
   ]
  },
  {
   "cell_type": "code",
   "execution_count": null,
   "metadata": {},
   "outputs": [],
   "source": []
  }
 ],
 "metadata": {
  "kernelspec": {
   "display_name": "LSST",
   "language": "python",
   "name": "lsst"
  },
  "language_info": {
   "codemirror_mode": {
    "name": "ipython",
    "version": 3
   },
   "file_extension": ".py",
   "mimetype": "text/x-python",
   "name": "python",
   "nbconvert_exporter": "python",
   "pygments_lexer": "ipython3",
   "version": "3.10.8"
  }
 },
 "nbformat": 4,
 "nbformat_minor": 4
}
