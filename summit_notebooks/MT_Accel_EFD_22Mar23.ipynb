{
 "cells": [
  {
   "cell_type": "markdown",
   "id": "153412e6",
   "metadata": {},
   "source": [
    "# MTMount accelerometers\n",
    "Querying MTMount accelerometers \\\n",
    "Craig Lage - 22-Mar-23"
   ]
  },
  {
   "cell_type": "code",
   "execution_count": null,
   "id": "fcd0a71e",
   "metadata": {
    "execution": {
     "iopub.execute_input": "2023-03-22T14:12:51.633506Z",
     "iopub.status.busy": "2023-03-22T14:12:51.633349Z",
     "iopub.status.idle": "2023-03-22T14:12:52.124122Z",
     "shell.execute_reply": "2023-03-22T14:12:52.123535Z",
     "shell.execute_reply.started": "2023-03-22T14:12:51.633491Z"
    },
    "tags": []
   },
   "outputs": [],
   "source": [
    "import sys, time, os, asyncio\n",
    "import matplotlib.pyplot as plt\n",
    "import pandas as pd\n",
    "from astropy.time import Time, TimeDelta\n",
    "from lsst_efd_client.efd_helper import EfdClient, merge_packed_time_series"
   ]
  },
  {
   "cell_type": "code",
   "execution_count": null,
   "id": "aed2b09e",
   "metadata": {
    "execution": {
     "iopub.execute_input": "2023-03-22T14:12:52.126623Z",
     "iopub.status.busy": "2023-03-22T14:12:52.126482Z",
     "iopub.status.idle": "2023-03-22T14:12:53.422544Z",
     "shell.execute_reply": "2023-03-22T14:12:53.422063Z",
     "shell.execute_reply.started": "2023-03-22T14:12:52.126608Z"
    },
    "tags": []
   },
   "outputs": [],
   "source": [
    "# Get EFD client\n",
    "client = EfdClient('summit_efd')"
   ]
  },
  {
   "cell_type": "code",
   "execution_count": null,
   "id": "b8c90662-31f2-4da1-8647-01c6fa8e5a45",
   "metadata": {
    "execution": {
     "iopub.execute_input": "2023-03-22T14:12:53.426963Z",
     "iopub.status.busy": "2023-03-22T14:12:53.426795Z",
     "iopub.status.idle": "2023-03-22T14:12:53.429909Z",
     "shell.execute_reply": "2023-03-22T14:12:53.429548Z",
     "shell.execute_reply.started": "2023-03-22T14:12:53.426948Z"
    },
    "tags": []
   },
   "outputs": [],
   "source": [
    "# Times to look at the data\n",
    "start = Time(\"2023-03-22 08:00:00Z\", scale='utc')\n",
    "end = Time(\"2023-03-22 08:10:00Z\", scale='utc')"
   ]
  },
  {
   "cell_type": "code",
   "execution_count": null,
   "id": "8a14d41e-cda6-438b-9199-f11ffd8aebd4",
   "metadata": {
    "execution": {
     "iopub.execute_input": "2023-03-22T14:12:53.431686Z",
     "iopub.status.busy": "2023-03-22T14:12:53.431519Z",
     "iopub.status.idle": "2023-03-22T14:12:53.437516Z",
     "shell.execute_reply": "2023-03-22T14:12:53.437147Z",
     "shell.execute_reply.started": "2023-03-22T14:12:53.431673Z"
    },
    "tags": []
   },
   "outputs": [],
   "source": [
    "baseFields = ['accelerationX', 'accelerationY', 'accelerationZ']\n",
    "sensorNames = ['SST top end ring +x -y', 'SST top end ring -x -y', 'SST spider spindle', 'SST M2 surrogate'] "
   ]
  },
  {
   "cell_type": "markdown",
   "id": "9335c693-dae0-4c1c-900e-61730f6c8572",
   "metadata": {},
   "source": [
    "##  Get all of the data for the selected times"
   ]
  },
  {
   "cell_type": "code",
   "execution_count": null,
   "id": "07eca9b2-9c6b-4d11-b1a2-04f3dc57927c",
   "metadata": {
    "execution": {
     "iopub.execute_input": "2023-03-22T14:12:53.439285Z",
     "iopub.status.busy": "2023-03-22T14:12:53.439124Z",
     "iopub.status.idle": "2023-03-22T14:12:57.402872Z",
     "shell.execute_reply": "2023-03-22T14:12:57.402405Z",
     "shell.execute_reply.started": "2023-03-22T14:12:53.439272Z"
    },
    "tags": []
   },
   "outputs": [],
   "source": [
    "packed_dataframe = await client.select_time_series(\"lsst.sal.ESS.accelerometer\", [\"*\"], start, end)"
   ]
  },
  {
   "cell_type": "markdown",
   "id": "df351c57-a238-4bda-a908-03565a90547d",
   "metadata": {},
   "source": [
    "## Now unpack it and plot it by sensor"
   ]
  },
  {
   "cell_type": "code",
   "execution_count": null,
   "id": "7e4739e4-4572-406f-8475-70e9f20d8080",
   "metadata": {
    "execution": {
     "iopub.execute_input": "2023-03-22T14:13:07.995156Z",
     "iopub.status.busy": "2023-03-22T14:13:07.994884Z",
     "iopub.status.idle": "2023-03-22T14:13:24.018083Z",
     "shell.execute_reply": "2023-03-22T14:13:24.017667Z",
     "shell.execute_reply.started": "2023-03-22T14:13:07.995138Z"
    },
    "tags": []
   },
   "outputs": [],
   "source": [
    "fig, axs = plt.subplots(2,2, figsize = (8,8))\n",
    "plt.subplots_adjust(hspace=0.5, wspace=0.5)\n",
    "for i, sensorName in enumerate(sensorNames):\n",
    "    sub_dataframe = packed_dataframe.loc[packed_dataframe.sensorName==sensorName]\n",
    "    plotx = i%2\n",
    "    ploty = int(i/2)\n",
    "    ax = axs[plotx][ploty]\n",
    "    ax.set_title(sensorName)\n",
    "    ax.set_ylabel(\"Accel(m/s^2)\")\n",
    "    for baseField in baseFields:\n",
    "        df = merge_packed_time_series(sub_dataframe, baseField, stride=1,\n",
    "                             ref_timestamp_col=\"timestamp\", fmt='unix_tai',\n",
    "                             scale='tai')\n",
    "        df[baseField].plot(ax=ax, label=list(baseField)[-1])\n",
    "    ax.legend()\n",
    "plt.savefig(\"/home/craiglagegit/DATA/MT_accels/MT_Accel_22Mar23.png\")"
   ]
  },
  {
   "cell_type": "code",
   "execution_count": null,
   "id": "fedff787-90a8-4df1-9982-52f4c4962926",
   "metadata": {},
   "outputs": [],
   "source": []
  }
 ],
 "metadata": {
  "jupytext": {
   "formats": "ipynb,markdown//md"
  },
  "kernelspec": {
   "display_name": "LSST",
   "language": "python",
   "name": "lsst"
  },
  "language_info": {
   "codemirror_mode": {
    "name": "ipython",
    "version": 3
   },
   "file_extension": ".py",
   "mimetype": "text/x-python",
   "name": "python",
   "nbconvert_exporter": "python",
   "pygments_lexer": "ipython3",
   "version": "3.10.9"
  }
 },
 "nbformat": 4,
 "nbformat_minor": 5
}
