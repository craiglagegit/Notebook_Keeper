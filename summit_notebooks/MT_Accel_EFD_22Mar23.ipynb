{
 "cells": [
  {
   "cell_type": "markdown",
   "id": "153412e6",
   "metadata": {},
   "source": [
    "# MTMount accelerometers\n",
    "Querying MTMount accelerometers \\\n",
    "Craig Lage - 22-Mar-23"
   ]
  },
  {
   "cell_type": "code",
   "execution_count": null,
   "id": "fcd0a71e",
   "metadata": {
    "execution": {
     "iopub.execute_input": "2023-03-24T21:23:17.237596Z",
     "iopub.status.busy": "2023-03-24T21:23:17.237305Z",
     "iopub.status.idle": "2023-03-24T21:23:17.240801Z",
     "shell.execute_reply": "2023-03-24T21:23:17.240282Z",
     "shell.execute_reply.started": "2023-03-24T21:23:17.237578Z"
    },
    "tags": []
   },
   "outputs": [],
   "source": [
    "import sys, time, os, asyncio\n",
    "import numpy as np\n",
    "import matplotlib.pyplot as plt\n",
    "import pandas as pd\n",
    "from astropy.time import Time, TimeDelta\n",
    "from lsst_efd_client.efd_helper import EfdClient, merge_packed_time_series"
   ]
  },
  {
   "cell_type": "code",
   "execution_count": null,
   "id": "aed2b09e",
   "metadata": {
    "execution": {
     "iopub.execute_input": "2023-03-24T21:19:03.278609Z",
     "iopub.status.busy": "2023-03-24T21:19:03.278372Z",
     "iopub.status.idle": "2023-03-24T21:19:04.654914Z",
     "shell.execute_reply": "2023-03-24T21:19:04.654425Z",
     "shell.execute_reply.started": "2023-03-24T21:19:03.278593Z"
    },
    "tags": []
   },
   "outputs": [],
   "source": [
    "# Get EFD client\n",
    "client = EfdClient('summit_efd')"
   ]
  },
  {
   "cell_type": "code",
   "execution_count": null,
   "id": "b8c90662-31f2-4da1-8647-01c6fa8e5a45",
   "metadata": {
    "execution": {
     "iopub.execute_input": "2023-03-24T21:19:04.659682Z",
     "iopub.status.busy": "2023-03-24T21:19:04.659542Z",
     "iopub.status.idle": "2023-03-24T21:19:04.662680Z",
     "shell.execute_reply": "2023-03-24T21:19:04.662313Z",
     "shell.execute_reply.started": "2023-03-24T21:19:04.659668Z"
    },
    "tags": []
   },
   "outputs": [],
   "source": [
    "# Times to look at the data\n",
    "start = Time(\"2023-03-22 08:00:00Z\", scale='utc')\n",
    "end = Time(\"2023-03-22 08:10:00Z\", scale='utc')"
   ]
  },
  {
   "cell_type": "code",
   "execution_count": null,
   "id": "8a14d41e-cda6-438b-9199-f11ffd8aebd4",
   "metadata": {
    "execution": {
     "iopub.execute_input": "2023-03-24T21:19:04.783853Z",
     "iopub.status.busy": "2023-03-24T21:19:04.783628Z",
     "iopub.status.idle": "2023-03-24T21:19:04.786276Z",
     "shell.execute_reply": "2023-03-24T21:19:04.785907Z",
     "shell.execute_reply.started": "2023-03-24T21:19:04.783838Z"
    },
    "tags": []
   },
   "outputs": [],
   "source": [
    "baseFields = ['accelerationX', 'accelerationY', 'accelerationZ']\n",
    "sensorNames = ['SST top end ring +x -y', 'SST top end ring -x -y', 'SST spider spindle', 'SST M2 surrogate'] "
   ]
  },
  {
   "cell_type": "markdown",
   "id": "9335c693-dae0-4c1c-900e-61730f6c8572",
   "metadata": {},
   "source": [
    "##  Get all of the data for the selected times"
   ]
  },
  {
   "cell_type": "code",
   "execution_count": null,
   "id": "07eca9b2-9c6b-4d11-b1a2-04f3dc57927c",
   "metadata": {
    "execution": {
     "iopub.execute_input": "2023-03-24T21:19:08.197281Z",
     "iopub.status.busy": "2023-03-24T21:19:08.196970Z",
     "iopub.status.idle": "2023-03-24T21:19:12.353297Z",
     "shell.execute_reply": "2023-03-24T21:19:12.352659Z",
     "shell.execute_reply.started": "2023-03-24T21:19:08.197263Z"
    },
    "tags": []
   },
   "outputs": [],
   "source": [
    "packed_dataframe = await client.select_time_series(\"lsst.sal.ESS.accelerometer\", [\"*\"], start, end)"
   ]
  },
  {
   "cell_type": "markdown",
   "id": "df351c57-a238-4bda-a908-03565a90547d",
   "metadata": {},
   "source": [
    "## Now unpack it and plot it by sensor"
   ]
  },
  {
   "cell_type": "code",
   "execution_count": null,
   "id": "7e4739e4-4572-406f-8475-70e9f20d8080",
   "metadata": {
    "execution": {
     "iopub.execute_input": "2023-03-24T21:19:16.658270Z",
     "iopub.status.busy": "2023-03-24T21:19:16.657993Z",
     "iopub.status.idle": "2023-03-24T21:19:32.491363Z",
     "shell.execute_reply": "2023-03-24T21:19:32.490912Z",
     "shell.execute_reply.started": "2023-03-24T21:19:16.658253Z"
    },
    "tags": []
   },
   "outputs": [],
   "source": [
    "fig, axs = plt.subplots(2,2, figsize = (8,8))\n",
    "plt.subplots_adjust(hspace=0.5, wspace=0.5)\n",
    "for i, sensorName in enumerate(sensorNames):\n",
    "    sub_dataframe = packed_dataframe.loc[packed_dataframe.sensorName==sensorName]\n",
    "    plotx = i%2\n",
    "    ploty = int(i/2)\n",
    "    ax = axs[plotx][ploty]\n",
    "    ax.set_title(sensorName)\n",
    "    ax.set_ylabel(\"Accel(m/s^2)\")\n",
    "    for baseField in baseFields:\n",
    "        df = merge_packed_time_series(sub_dataframe, baseField, stride=1,\n",
    "                             ref_timestamp_col=\"timestamp\", fmt='unix_tai',\n",
    "                             scale='tai')\n",
    "        df[baseField].plot(ax=ax, label=list(baseField)[-1])\n",
    "    ax.legend()\n",
    "plt.savefig(\"/home/craiglagegit/DATA/MT_accels/MT_Accel_22Mar23.png\")"
   ]
  },
  {
   "cell_type": "code",
   "execution_count": null,
   "id": "92201fe6-629b-409f-a542-6e0d3be0bd3c",
   "metadata": {},
   "outputs": [],
   "source": []
  }
 ],
 "metadata": {
  "jupytext": {
   "formats": "ipynb,markdown//md"
  },
  "kernelspec": {
   "display_name": "LSST",
   "language": "python",
   "name": "lsst"
  },
  "language_info": {
   "codemirror_mode": {
    "name": "ipython",
    "version": 3
   },
   "file_extension": ".py",
   "mimetype": "text/x-python",
   "name": "python",
   "nbconvert_exporter": "python",
   "pygments_lexer": "ipython3",
   "version": "3.10.9"
  }
 },
 "nbformat": 4,
 "nbformat_minor": 5
}
