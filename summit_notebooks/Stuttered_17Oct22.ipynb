{
 "cells": [
  {
   "cell_type": "markdown",
   "id": "3dbf3c0c",
   "metadata": {},
   "source": [
    "# Short stuttered tests\n",
    "\n",
    "Craig Lage - 17-Oct-22 - and - 18-Oct-22"
   ]
  },
  {
   "cell_type": "code",
   "execution_count": null,
   "id": "b9b61b70",
   "metadata": {},
   "outputs": [],
   "source": [
    "import asyncio\n",
    "import time\n",
    "import os\n",
    "import numpy as np\n",
    "import matplotlib.pyplot as plt\n",
    "from astropy.time import Time\n",
    "\n",
    "from lsst.ts import salobj\n",
    "\n",
    "from lsst.ts.observatory.control.auxtel.atcs import ATCS\n",
    "from lsst.ts.observatory.control.auxtel.latiss import LATISS\n",
    "from lsst.ts.observatory.control.utils import RotType"
   ]
  },
  {
   "cell_type": "code",
   "execution_count": null,
   "id": "0755fd07",
   "metadata": {},
   "outputs": [],
   "source": [
    "logger = logging.getLogger(f\"Daytime Checkout {Time.now()} UT\")\n",
    "logger.level = logging.DEBUG"
   ]
  },
  {
   "cell_type": "code",
   "execution_count": null,
   "id": "e80647f9",
   "metadata": {},
   "outputs": [],
   "source": [
    "logger.info(os.environ[\"OSPL_URI\"])\n",
    "logger.info(os.environ[\"LSST_DDS_PARTITION_PREFIX\"])"
   ]
  },
  {
   "cell_type": "markdown",
   "id": "a9cd22ea",
   "metadata": {},
   "source": [
    "### Instantiate the control classes"
   ]
  },
  {
   "cell_type": "code",
   "execution_count": null,
   "id": "f651e5d9",
   "metadata": {
    "jupyter": {
     "outputs_hidden": true
    },
    "tags": []
   },
   "outputs": [],
   "source": [
    "domain = salobj.Domain()\n",
    "atcs = ATCS(domain)\n",
    "latiss = LATISS(domain)\n",
    "await asyncio.gather(atcs.start_task, latiss.start_task)\n",
    "await atcs.assert_liveliness()"
   ]
  },
  {
   "cell_type": "markdown",
   "id": "50d3b4be",
   "metadata": {},
   "source": [
    "## Enable LATISS and ATCS"
   ]
  },
  {
   "cell_type": "code",
   "execution_count": null,
   "id": "ab6d900c",
   "metadata": {
    "tags": []
   },
   "outputs": [],
   "source": [
    "# 8-Oct-22 - ATCamera didn't come up.  Enabled with LOVE.\n",
    "await latiss.enable()\n",
    "#await atcs.enable()\n",
    "#await atcs.assert_all_enabled()"
   ]
  },
  {
   "cell_type": "markdown",
   "id": "014ff42a-1d20-4a15-a145-3a59306459e2",
   "metadata": {
    "tags": []
   },
   "source": [
    "If ATCamera and/or ATOODS don't come up, see section `Quick Troubleshooting` for support commands. "
   ]
  },
  {
   "cell_type": "markdown",
   "id": "a85209e7",
   "metadata": {
    "tags": []
   },
   "source": [
    "### Bias verification"
   ]
  },
  {
   "cell_type": "code",
   "execution_count": null,
   "id": "dba9c331-bb71-4cdf-8dc1-c5be84bd58d4",
   "metadata": {},
   "outputs": [],
   "source": [
    "await latiss.take_bias(nbias=1)"
   ]
  },
  {
   "cell_type": "code",
   "execution_count": null,
   "id": "7761429f",
   "metadata": {
    "tags": []
   },
   "outputs": [],
   "source": [
    "for i in range(5):\n",
    "    await latiss.take_bias(nbias=1)\n",
    "    await asyncio.sleep(2.0)"
   ]
  },
  {
   "cell_type": "markdown",
   "id": "c726f845-8b62-4685-9177-fb5686bd1b41",
   "metadata": {
    "tags": []
   },
   "source": [
    "### Try take_stuttered with short expTimes"
   ]
  },
  {
   "cell_type": "code",
   "execution_count": null,
   "id": "f2e8fc20-bd64-4211-a899-1376063fb0ba",
   "metadata": {},
   "outputs": [],
   "source": [
    "await latiss.take_stuttered(n=1, exptime=0.1, n_shift=40, row_shift=50)"
   ]
  },
  {
   "cell_type": "code",
   "execution_count": null,
   "id": "bbe473f8-89b8-4af7-af08-c455aa60bc31",
   "metadata": {
    "jupyter": {
     "outputs_hidden": true
    },
    "tags": []
   },
   "outputs": [],
   "source": [
    "await latiss.take_stuttered(n=1, exptime=0.01, n_shift=40, row_shift=50)"
   ]
  },
  {
   "cell_type": "code",
   "execution_count": null,
   "id": "b5ae4471-e3ae-4788-a4fe-c53e44fd2494",
   "metadata": {},
   "outputs": [],
   "source": [
    "await latiss.take_stuttered(n=1, exptime=0.1, n_shift=200, row_shift=10)"
   ]
  },
  {
   "cell_type": "code",
   "execution_count": null,
   "id": "40c82bfd-5865-4978-980c-5383c62bba32",
   "metadata": {
    "jupyter": {
     "outputs_hidden": true
    },
    "tags": []
   },
   "outputs": [],
   "source": [
    "await latiss.take_stuttered(n=1, exptime=0.1, n_shift=1000, row_shift=2)"
   ]
  },
  {
   "cell_type": "code",
   "execution_count": null,
   "id": "20fdba26-083b-451c-bd58-3c4670e5e4ef",
   "metadata": {
    "tags": []
   },
   "outputs": [],
   "source": [
    "await latiss.take_stuttered(n=1, exptime=0.1, n_shift=1, row_shift=2000)"
   ]
  },
  {
   "cell_type": "code",
   "execution_count": null,
   "id": "8abc1043-3fad-4d33-8406-d45e411b3431",
   "metadata": {},
   "outputs": [],
   "source": [
    "# With dome flat illuminator on\n",
    "await latiss.take_stuttered(n=1, exptime=0.1, n_shift=1, row_shift=2000)"
   ]
  },
  {
   "cell_type": "code",
   "execution_count": null,
   "id": "090354b3-6e42-4b58-8804-284136c6aa82",
   "metadata": {},
   "outputs": [],
   "source": [
    "# With dome flat illuminator on\n",
    "await latiss.take_stuttered(n=1, exptime=0.1, n_shift=1, row_shift=1999)"
   ]
  },
  {
   "cell_type": "code",
   "execution_count": null,
   "id": "b57f3a20-ab21-4454-9da2-c353217620bd",
   "metadata": {},
   "outputs": [],
   "source": [
    "# With dome flat illuminator on\n",
    "await latiss.take_stuttered(n=1, exptime=0.1, n_shift=2, row_shift=1000)"
   ]
  },
  {
   "cell_type": "code",
   "execution_count": null,
   "id": "98be6b79-06d3-4ee1-8781-12451bb076e4",
   "metadata": {},
   "outputs": [],
   "source": [
    "# With dome flat illuminator on\n",
    "await latiss.take_stuttered(n=1, exptime=0.1, n_shift=2, row_shift=2000)"
   ]
  },
  {
   "cell_type": "code",
   "execution_count": null,
   "id": "09011ab8-a79f-4cc5-9ae2-f777818d97ea",
   "metadata": {},
   "outputs": [],
   "source": [
    "# 26-Oct-22 failed with script queue\n",
    "await latiss.take_stuttered(n=1, exptime=0.1, n_shift=2, row_shift=2000)"
   ]
  },
  {
   "cell_type": "code",
   "execution_count": null,
   "id": "b36cabb0-204c-486d-91f9-055b0cecf119",
   "metadata": {
    "tags": []
   },
   "outputs": [],
   "source": [
    "for i in range(5):\n",
    "    await latiss.take_bias(nbias=1)\n",
    "    await asyncio.sleep(2.0)"
   ]
  },
  {
   "cell_type": "code",
   "execution_count": null,
   "id": "7db406fb-1aba-4e52-bb87-250f5c1de5ab",
   "metadata": {},
   "outputs": [],
   "source": [
    "await latiss.standby()"
   ]
  },
  {
   "cell_type": "code",
   "execution_count": null,
   "id": "330e747c-ffc4-4bb1-a886-54f0763fe14b",
   "metadata": {},
   "outputs": [],
   "source": []
  }
 ],
 "metadata": {
  "kernelspec": {
   "display_name": "LSST",
   "language": "python",
   "name": "lsst"
  },
  "language_info": {
   "codemirror_mode": {
    "name": "ipython",
    "version": 3
   },
   "file_extension": ".py",
   "mimetype": "text/x-python",
   "name": "python",
   "nbconvert_exporter": "python",
   "pygments_lexer": "ipython3",
   "version": "3.10.5"
  }
 },
 "nbformat": 4,
 "nbformat_minor": 5
}
