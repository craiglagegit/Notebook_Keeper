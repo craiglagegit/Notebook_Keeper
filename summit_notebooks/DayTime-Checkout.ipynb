{
 "cells": [
  {
   "cell_type": "markdown",
   "id": "3dbf3c0c",
   "metadata": {},
   "source": [
    "# DayTime Checkout\n",
    "\n",
    "This notebook is intended to run a series of tests to ensure the system responds as expected.\n",
    "It begins with LATISS, but can also be used with the telescope ATCS components only."
   ]
  },
  {
   "cell_type": "code",
   "execution_count": null,
   "id": "b9b61b70",
   "metadata": {
    "execution": {
     "iopub.execute_input": "2023-01-26T17:54:17.630583Z",
     "iopub.status.busy": "2023-01-26T17:54:17.630240Z",
     "iopub.status.idle": "2023-01-26T17:54:21.036815Z",
     "shell.execute_reply": "2023-01-26T17:54:21.036217Z",
     "shell.execute_reply.started": "2023-01-26T17:54:17.630566Z"
    },
    "tags": []
   },
   "outputs": [],
   "source": [
    "import asyncio\n",
    "import time\n",
    "import os\n",
    "import numpy as np\n",
    "from astropy.time import Time\n",
    "\n",
    "from lsst.ts import salobj\n",
    "\n",
    "from lsst.ts.observatory.control.auxtel.atcs import ATCS\n",
    "from lsst.ts.observatory.control.auxtel.latiss import LATISS\n",
    "from lsst.ts.observatory.control.utils import RotType"
   ]
  },
  {
   "cell_type": "code",
   "execution_count": null,
   "id": "0755fd07",
   "metadata": {
    "execution": {
     "iopub.execute_input": "2023-01-26T17:54:21.042529Z",
     "iopub.status.busy": "2023-01-26T17:54:21.042388Z",
     "iopub.status.idle": "2023-01-26T17:54:21.045348Z",
     "shell.execute_reply": "2023-01-26T17:54:21.044888Z",
     "shell.execute_reply.started": "2023-01-26T17:54:21.042517Z"
    },
    "tags": []
   },
   "outputs": [],
   "source": [
    "logger = logging.getLogger(f\"Daytime Checkout {Time.now()} UT\")\n",
    "logger.level = logging.DEBUG"
   ]
  },
  {
   "cell_type": "code",
   "execution_count": null,
   "id": "e80647f9",
   "metadata": {
    "execution": {
     "iopub.execute_input": "2023-01-26T17:54:21.046376Z",
     "iopub.status.busy": "2023-01-26T17:54:21.046229Z",
     "iopub.status.idle": "2023-01-26T17:54:21.054475Z",
     "shell.execute_reply": "2023-01-26T17:54:21.053953Z",
     "shell.execute_reply.started": "2023-01-26T17:54:21.046362Z"
    },
    "tags": []
   },
   "outputs": [],
   "source": [
    "logger.info(os.environ[\"OSPL_URI\"])\n",
    "logger.info(os.environ[\"LSST_DDS_PARTITION_PREFIX\"])"
   ]
  },
  {
   "cell_type": "markdown",
   "id": "82b5ed46-aa63-43bb-a5f4-e7a41bd551ae",
   "metadata": {},
   "source": [
    "Helper function"
   ]
  },
  {
   "cell_type": "code",
   "execution_count": null,
   "id": "c1ec08aa-614e-40a7-b612-4062cd64ddd2",
   "metadata": {
    "execution": {
     "iopub.execute_input": "2023-01-26T17:54:21.077133Z",
     "iopub.status.busy": "2023-01-26T17:54:21.076952Z",
     "iopub.status.idle": "2023-01-26T17:54:21.079518Z",
     "shell.execute_reply": "2023-01-26T17:54:21.079173Z",
     "shell.execute_reply.started": "2023-01-26T17:54:21.077119Z"
    },
    "tags": []
   },
   "outputs": [],
   "source": [
    "def check_evt_time(evt):\n",
    "    event_time = Time(evt.private_sndStamp, format=\"unix\", scale=\"tai\")\n",
    "    event_time.format = \"iso\"\n",
    "    event_time = event_time.utc\n",
    "    return event_time"
   ]
  },
  {
   "cell_type": "markdown",
   "id": "a9cd22ea",
   "metadata": {},
   "source": [
    "### Instantiate the control classes"
   ]
  },
  {
   "cell_type": "code",
   "execution_count": null,
   "id": "f651e5d9",
   "metadata": {
    "execution": {
     "iopub.execute_input": "2023-01-26T17:54:26.437201Z",
     "iopub.status.busy": "2023-01-26T17:54:26.436923Z",
     "iopub.status.idle": "2023-01-26T17:54:27.480924Z",
     "shell.execute_reply": "2023-01-26T17:54:27.480370Z",
     "shell.execute_reply.started": "2023-01-26T17:54:26.437179Z"
    },
    "jupyter": {
     "outputs_hidden": true
    },
    "tags": []
   },
   "outputs": [],
   "source": [
    "domain = salobj.Domain()\n",
    "atcs = ATCS(domain)\n",
    "latiss = LATISS(domain)\n",
    "await asyncio.gather(atcs.start_task, latiss.start_task)"
   ]
  },
  {
   "cell_type": "markdown",
   "id": "23e76b2b",
   "metadata": {
    "tags": []
   },
   "source": [
    "## Indicate if LATISS is part of the checkout"
   ]
  },
  {
   "cell_type": "code",
   "execution_count": null,
   "id": "1b482bc2",
   "metadata": {
    "execution": {
     "iopub.execute_input": "2023-01-26T17:54:36.130863Z",
     "iopub.status.busy": "2023-01-26T17:54:36.130476Z",
     "iopub.status.idle": "2023-01-26T17:54:36.133828Z",
     "shell.execute_reply": "2023-01-26T17:54:36.133338Z",
     "shell.execute_reply.started": "2023-01-26T17:54:36.130846Z"
    },
    "tags": []
   },
   "outputs": [],
   "source": [
    "with_latiss=False"
   ]
  },
  {
   "cell_type": "markdown",
   "id": "50d3b4be",
   "metadata": {},
   "source": [
    "## Enable LATISS"
   ]
  },
  {
   "cell_type": "code",
   "execution_count": null,
   "id": "ab6d900c",
   "metadata": {
    "execution": {
     "iopub.execute_input": "2023-01-26T12:29:19.951473Z",
     "iopub.status.busy": "2023-01-26T12:29:19.951192Z",
     "iopub.status.idle": "2023-01-26T12:29:40.141087Z",
     "shell.execute_reply": "2023-01-26T12:29:40.140524Z",
     "shell.execute_reply.started": "2023-01-26T12:29:19.951457Z"
    },
    "jupyter": {
     "outputs_hidden": true
    },
    "tags": []
   },
   "outputs": [],
   "source": [
    "if with_latiss:\n",
    "    await latiss.enable()"
   ]
  },
  {
   "cell_type": "markdown",
   "id": "f1db1274-31bf-4635-8e0a-09f2ab4cc3b7",
   "metadata": {},
   "source": [
    "## Check LATISS filters"
   ]
  },
  {
   "cell_type": "code",
   "execution_count": null,
   "id": "0e289471-165e-4f39-8e39-e2e1ef88288e",
   "metadata": {
    "execution": {
     "iopub.execute_input": "2023-01-16T12:31:01.899393Z",
     "iopub.status.busy": "2023-01-16T12:31:01.898658Z",
     "iopub.status.idle": "2023-01-16T12:31:01.903151Z",
     "shell.execute_reply": "2023-01-16T12:31:01.902668Z",
     "shell.execute_reply.started": "2023-01-16T12:31:01.899374Z"
    },
    "tags": []
   },
   "outputs": [],
   "source": [
    "available_setup = await latiss.get_available_instrument_setup()\n",
    "logger.info(f'\\n The available filters are {available_setup[0]} \\n and gratings are {available_setup[1]} ')"
   ]
  },
  {
   "cell_type": "markdown",
   "id": "014ff42a-1d20-4a15-a145-3a59306459e2",
   "metadata": {
    "tags": []
   },
   "source": [
    "If ATCamera and/or ATOODS don't come up, see section `Quick Troubleshooting` for support commands. "
   ]
  },
  {
   "cell_type": "markdown",
   "id": "a85209e7",
   "metadata": {},
   "source": [
    "## LATISS image and ingestion verification\n",
    "\n",
    "### Bias verification"
   ]
  },
  {
   "cell_type": "code",
   "execution_count": null,
   "id": "034decba",
   "metadata": {
    "execution": {
     "iopub.execute_input": "2023-01-16T12:31:28.454883Z",
     "iopub.status.busy": "2023-01-16T12:31:28.454105Z",
     "iopub.status.idle": "2023-01-16T12:31:34.310713Z",
     "shell.execute_reply": "2023-01-16T12:31:34.310202Z",
     "shell.execute_reply.started": "2023-01-16T12:31:28.454863Z"
    },
    "tags": []
   },
   "outputs": [],
   "source": [
    "if with_latiss:\n",
    "    latiss.rem.atoods.evt_imageInOODS.flush()\n",
    "    await latiss.take_bias(nbias=1)\n",
    "    ingest_event = await latiss.rem.atoods.evt_imageInOODS.next(flush=False, timeout=10)\n",
    "    ingest_event_time = check_evt_time(ingest_event)\n",
    "    logger.info(f'The last ingested image was \\n \\t {ingest_event.obsid} at {ingest_event_time} UT')\n",
    "    assert ingest_event.statusCode == 0, 'Ingestion was not successful!'"
   ]
  },
  {
   "cell_type": "code",
   "execution_count": null,
   "id": "ba3ab954-916d-4a33-8b7f-6eef6897a43d",
   "metadata": {
    "execution": {
     "iopub.execute_input": "2023-01-18T16:25:49.008610Z",
     "iopub.status.busy": "2023-01-18T16:25:49.008267Z",
     "iopub.status.idle": "2023-01-18T16:26:01.046146Z",
     "shell.execute_reply": "2023-01-18T16:26:01.045601Z",
     "shell.execute_reply.started": "2023-01-18T16:25:49.008591Z"
    },
    "tags": []
   },
   "outputs": [],
   "source": [
    "await latiss.take_bias(nbias=5)"
   ]
  },
  {
   "cell_type": "markdown",
   "id": "f32825fe",
   "metadata": {},
   "source": [
    "Check that the bias pops up in the monitor (https://roundtable.lsst.codes/rubintv/monitor_current)\n",
    "If it fails, let Patrick or Merlin know\n",
    "\n",
    "You can check that it ingested at USDF with this link: ******* <b>Add when available<b>\n"
   ]
  },
  {
   "cell_type": "markdown",
   "id": "18af4378",
   "metadata": {
    "tags": []
   },
   "source": [
    "### Engineering test frame verification\n",
    "This is analogous to a science frame"
   ]
  },
  {
   "cell_type": "markdown",
   "id": "416f0984-0a2e-4b14-ba4c-529a83ceb297",
   "metadata": {},
   "source": [
    "These are the filters and grating configurations available. "
   ]
  },
  {
   "cell_type": "code",
   "execution_count": null,
   "id": "530471f0-8a70-48c5-a69c-1f2e6631d955",
   "metadata": {
    "execution": {
     "iopub.execute_input": "2023-01-16T12:32:11.062426Z",
     "iopub.status.busy": "2023-01-16T12:32:11.061712Z",
     "iopub.status.idle": "2023-01-16T12:32:11.066190Z",
     "shell.execute_reply": "2023-01-16T12:32:11.065706Z",
     "shell.execute_reply.started": "2023-01-16T12:32:11.062408Z"
    }
   },
   "outputs": [],
   "source": [
    "available_setup = await latiss.get_available_instrument_setup()\n",
    "logger.info(f'\\n The available filters are {available_setup[0]} \\n and gratings are {available_setup[1]} ')"
   ]
  },
  {
   "cell_type": "code",
   "execution_count": null,
   "id": "415322c5",
   "metadata": {
    "execution": {
     "iopub.execute_input": "2023-01-16T12:32:44.407442Z",
     "iopub.status.busy": "2023-01-16T12:32:44.407141Z",
     "iopub.status.idle": "2023-01-16T12:32:58.448207Z",
     "shell.execute_reply": "2023-01-16T12:32:58.447821Z",
     "shell.execute_reply.started": "2023-01-16T12:32:44.407423Z"
    },
    "tags": []
   },
   "outputs": [],
   "source": [
    "if with_latiss:\n",
    "    latiss.rem.atoods.evt_imageInOODS.flush()\n",
    "    await latiss.take_engtest(5, filter='empty_1',grating='empty_1')\n",
    "    ingest_event = await latiss.rem.atoods.evt_imageInOODS.next(flush=False, timeout=10)\n",
    "    ingest_event_time = check_evt_time(ingest_event)\n",
    "    inst_setup = await latiss.get_setup()\n",
    "    logger.info(f'The last ingested image was \\n \\t {ingest_event.obsid} at {ingest_event_time.utc} UT \\n \\t with {inst_setup[0]} filter and {inst_setup[1]} grating ')\n",
    "    assert ingest_event.statusCode == 0, 'Ingestion was not successful!'"
   ]
  },
  {
   "cell_type": "markdown",
   "id": "6da39a4b",
   "metadata": {
    "tags": []
   },
   "source": [
    "## Enable ATCS"
   ]
  },
  {
   "cell_type": "code",
   "execution_count": null,
   "id": "b8820a7f",
   "metadata": {
    "execution": {
     "iopub.execute_input": "2023-01-26T17:54:53.999076Z",
     "iopub.status.busy": "2023-01-26T17:54:53.998680Z",
     "iopub.status.idle": "2023-01-26T17:54:54.004783Z",
     "shell.execute_reply": "2023-01-26T17:54:54.004267Z",
     "shell.execute_reply.started": "2023-01-26T17:54:53.999058Z"
    },
    "tags": []
   },
   "outputs": [],
   "source": [
    "await atcs.enable()"
   ]
  },
  {
   "cell_type": "markdown",
   "id": "e1dc8c7d-1178-4986-8485-557cd3b0dfe4",
   "metadata": {},
   "source": [
    "If any of the ATCS CSCs failed to transition to enabled state with the above command, see `Quick Troubleshooting` section for more commands. "
   ]
  },
  {
   "cell_type": "markdown",
   "id": "f2c90358",
   "metadata": {},
   "source": [
    "## Pneumatics Functionality Verification"
   ]
  },
  {
   "cell_type": "markdown",
   "id": "34fec12f",
   "metadata": {},
   "source": [
    "Check ATPneumatics air pressure. "
   ]
  },
  {
   "cell_type": "code",
   "execution_count": null,
   "id": "39e586cb",
   "metadata": {
    "execution": {
     "iopub.execute_input": "2023-01-26T17:55:06.236029Z",
     "iopub.status.busy": "2023-01-26T17:55:06.235656Z",
     "iopub.status.idle": "2023-01-26T17:55:06.289389Z",
     "shell.execute_reply": "2023-01-26T17:55:06.288910Z",
     "shell.execute_reply.started": "2023-01-26T17:55:06.236011Z"
    },
    "tags": []
   },
   "outputs": [],
   "source": [
    "await atcs.open_valves()\n",
    "pressure = await atcs.rem.atpneumatics.tel_mainAirSourcePressure.next(flush=True, timeout=5)\n",
    "if pressure.pressure > 300000:\n",
    "    logger.info(f'Air pressure is {pressure.pressure:0.0f} Pascals, which is fine.')\n",
    "else:\n",
    "    raise AssertionError(f'Air pressure is {pressure.pressure}, which is too low. It needs to be between ~275790 and ~413000 Pascals (40 and 60 PSI). \\n Check that compressor and dryer are running. Then check that the regulator inside the pier is set correctly. ')"
   ]
  },
  {
   "cell_type": "markdown",
   "id": "fe8a839f",
   "metadata": {},
   "source": [
    "Turn on ATAOS correction(s), without spectrograph (if the tests were skipped above).<br>\n",
    "Note there is a race condition in the ATPneumatics that might result in this failing, so you'll have to run in twice"
   ]
  },
  {
   "cell_type": "code",
   "execution_count": null,
   "id": "81d8e8f7",
   "metadata": {
    "execution": {
     "iopub.execute_input": "2023-01-26T17:55:08.976180Z",
     "iopub.status.busy": "2023-01-26T17:55:08.975793Z",
     "iopub.status.idle": "2023-01-26T17:55:13.439993Z",
     "shell.execute_reply": "2023-01-26T17:55:13.439510Z",
     "shell.execute_reply.started": "2023-01-26T17:55:08.976162Z"
    },
    "tags": []
   },
   "outputs": [],
   "source": [
    "cmd = await atcs.rem.ataos.cmd_enableCorrection.set_start(m1=True, hexapod=True, atspectrograph=with_latiss)\n",
    "cmd_time = check_evt_time(cmd)\n",
    "logger.info(f'ATAOS corrections enabled -- {cmd.result} at {cmd_time} UT')"
   ]
  },
  {
   "cell_type": "code",
   "execution_count": null,
   "id": "81b3f544",
   "metadata": {
    "execution": {
     "iopub.execute_input": "2023-01-26T17:55:15.186733Z",
     "iopub.status.busy": "2023-01-26T17:55:15.186358Z",
     "iopub.status.idle": "2023-01-26T17:55:15.190595Z",
     "shell.execute_reply": "2023-01-26T17:55:15.190098Z",
     "shell.execute_reply.started": "2023-01-26T17:55:15.186716Z"
    },
    "tags": []
   },
   "outputs": [],
   "source": [
    "m1_pressure = await atcs.rem.atpneumatics.tel_m1AirPressure.aget(timeout=5)\n",
    "logger.info(f'M1 Air pressure with enabled ATAOS corrections is {m1_pressure.pressure:0.0f} Pascals')"
   ]
  },
  {
   "cell_type": "markdown",
   "id": "963fda08",
   "metadata": {},
   "source": [
    "Turn off ATAOS correction(s), without spectrograph (if the tests were skipped above)"
   ]
  },
  {
   "cell_type": "code",
   "execution_count": null,
   "id": "c4d7b436",
   "metadata": {
    "execution": {
     "iopub.execute_input": "2023-01-26T17:55:17.536728Z",
     "iopub.status.busy": "2023-01-26T17:55:17.536364Z",
     "iopub.status.idle": "2023-01-26T17:55:17.542832Z",
     "shell.execute_reply": "2023-01-26T17:55:17.542365Z",
     "shell.execute_reply.started": "2023-01-26T17:55:17.536711Z"
    },
    "tags": []
   },
   "outputs": [],
   "source": [
    "cmd = await atcs.rem.ataos.cmd_disableCorrection.set_start(m1=True, hexapod=True, atspectrograph=with_latiss)\n",
    "cmd_time = check_evt_time(cmd)\n",
    "logger.info(f'Corrections disabled -- {cmd.result} at {cmd_time} UT')"
   ]
  },
  {
   "cell_type": "markdown",
   "id": "4b478432",
   "metadata": {},
   "source": [
    "Lower mirror back on hardpoints"
   ]
  },
  {
   "cell_type": "code",
   "execution_count": null,
   "id": "6813e58c",
   "metadata": {
    "execution": {
     "iopub.execute_input": "2023-01-26T17:55:22.199265Z",
     "iopub.status.busy": "2023-01-26T17:55:22.198883Z",
     "iopub.status.idle": "2023-01-26T17:55:22.700611Z",
     "shell.execute_reply": "2023-01-26T17:55:22.700120Z",
     "shell.execute_reply.started": "2023-01-26T17:55:22.199246Z"
    },
    "tags": []
   },
   "outputs": [],
   "source": [
    "cmd = await atcs.rem.atpneumatics.cmd_m1SetPressure.set_start(pressure=0)\n",
    "m1_pressure = await atcs.rem.atpneumatics.tel_m1AirPressure.aget(timeout=5)\n",
    "logger.info(f'M1 air pressure when lowered back on hardpoints is {m1_pressure.pressure:0.0f} Pascals')"
   ]
  },
  {
   "cell_type": "markdown",
   "id": "336b109b",
   "metadata": {},
   "source": [
    "Turn on ATAOS correction(s), without spectrograph (if the tests were skipped above). <br>\n",
    "This should not ever fail."
   ]
  },
  {
   "cell_type": "code",
   "execution_count": null,
   "id": "c170ff2b",
   "metadata": {
    "execution": {
     "iopub.execute_input": "2023-01-26T17:55:29.856667Z",
     "iopub.status.busy": "2023-01-26T17:55:29.856289Z",
     "iopub.status.idle": "2023-01-26T17:55:34.187914Z",
     "shell.execute_reply": "2023-01-26T17:55:34.187413Z",
     "shell.execute_reply.started": "2023-01-26T17:55:29.856649Z"
    },
    "tags": []
   },
   "outputs": [],
   "source": [
    "cmd = await atcs.rem.ataos.cmd_enableCorrection.set_start(m1=True, hexapod=True, atspectrograph=with_latiss)\n",
    "cmd_time = check_evt_time(cmd)\n",
    "logger.info(f'ATAOS corrections enabled -- {cmd.result} at {cmd_time} UT')"
   ]
  },
  {
   "cell_type": "markdown",
   "id": "294e5f91",
   "metadata": {},
   "source": [
    "## Start Telescope testing"
   ]
  },
  {
   "cell_type": "markdown",
   "id": "a0631baa",
   "metadata": {},
   "source": [
    "Turn off dome following\n",
    "\n",
    "The commands below will put the telescope in positionn for the new dome flat illuminator."
   ]
  },
  {
   "cell_type": "code",
   "execution_count": null,
   "id": "7761429f",
   "metadata": {
    "execution": {
     "iopub.execute_input": "2023-01-26T18:06:09.326364Z",
     "iopub.status.busy": "2023-01-26T18:06:09.325991Z",
     "iopub.status.idle": "2023-01-26T18:06:09.330999Z",
     "shell.execute_reply": "2023-01-26T18:06:09.330480Z",
     "shell.execute_reply.started": "2023-01-26T18:06:09.326345Z"
    },
    "tags": []
   },
   "outputs": [],
   "source": [
    "await atcs.disable_dome_following()"
   ]
  },
  {
   "cell_type": "code",
   "execution_count": null,
   "id": "e497d648-afd9-4541-b9a5-cb7eeb78c3a6",
   "metadata": {
    "execution": {
     "iopub.execute_input": "2023-01-26T18:06:11.547993Z",
     "iopub.status.busy": "2023-01-26T18:06:11.547651Z",
     "iopub.status.idle": "2023-01-26T18:07:13.084487Z",
     "shell.execute_reply": "2023-01-26T18:07:13.083707Z",
     "shell.execute_reply.started": "2023-01-26T18:06:11.547975Z"
    },
    "tags": []
   },
   "outputs": [],
   "source": [
    "await atcs.slew_dome_to(355.0)"
   ]
  },
  {
   "cell_type": "markdown",
   "id": "56aa867e",
   "metadata": {},
   "source": [
    "### Test Point AzEl"
   ]
  },
  {
   "cell_type": "code",
   "execution_count": null,
   "id": "564a0327-11bb-4f6d-9848-07237e9bef2f",
   "metadata": {
    "execution": {
     "iopub.execute_input": "2023-01-26T17:56:24.546714Z",
     "iopub.status.busy": "2023-01-26T17:56:24.545960Z",
     "iopub.status.idle": "2023-01-26T17:58:19.344563Z",
     "shell.execute_reply": "2023-01-26T17:58:19.343965Z",
     "shell.execute_reply.started": "2023-01-26T17:56:24.546695Z"
    },
    "jupyter": {
     "outputs_hidden": true
    },
    "tags": []
   },
   "outputs": [],
   "source": [
    "start_az=0\n",
    "start_el=80.0\n",
    "start_rot=0\n",
    "await atcs.point_azel(az=start_az, el=start_el, rot_tel=start_rot)"
   ]
  },
  {
   "cell_type": "code",
   "execution_count": null,
   "id": "0f056863",
   "metadata": {
    "execution": {
     "iopub.execute_input": "2023-01-26T17:16:52.526671Z",
     "iopub.status.busy": "2023-01-26T17:16:52.526159Z",
     "iopub.status.idle": "2023-01-26T17:18:47.687259Z",
     "shell.execute_reply": "2023-01-26T17:18:47.686786Z",
     "shell.execute_reply.started": "2023-01-26T17:16:52.526652Z"
    },
    "jupyter": {
     "outputs_hidden": true
    },
    "tags": []
   },
   "outputs": [],
   "source": [
    "start_az=180.7\n",
    "start_el=39.0\n",
    "start_rot=0\n",
    "await atcs.point_azel(az=start_az, el=start_el, rot_tel=start_rot)"
   ]
  },
  {
   "cell_type": "code",
   "execution_count": null,
   "id": "ff414e04-4961-44ee-9089-994ead25db69",
   "metadata": {
    "execution": {
     "iopub.execute_input": "2023-01-18T18:13:15.787111Z",
     "iopub.status.busy": "2023-01-18T18:13:15.786757Z",
     "iopub.status.idle": "2023-01-18T18:13:39.203053Z",
     "shell.execute_reply": "2023-01-18T18:13:39.202530Z",
     "shell.execute_reply.started": "2023-01-18T18:13:15.787092Z"
    },
    "tags": []
   },
   "outputs": [],
   "source": [
    "await latiss.take_flats(2.0, 5, filter='empty_1', grating='empty_1')"
   ]
  },
  {
   "cell_type": "code",
   "execution_count": null,
   "id": "3ea5225b",
   "metadata": {
    "execution": {
     "iopub.execute_input": "2023-01-26T17:55:43.135661Z",
     "iopub.status.busy": "2023-01-26T17:55:43.135262Z",
     "iopub.status.idle": "2023-01-26T17:55:43.472486Z",
     "shell.execute_reply": "2023-01-26T17:55:43.471876Z",
     "shell.execute_reply.started": "2023-01-26T17:55:43.135643Z"
    },
    "tags": []
   },
   "outputs": [],
   "source": [
    "# Stop tracking\n",
    "await atcs.stop_tracking()"
   ]
  },
  {
   "cell_type": "markdown",
   "id": "1f48857b",
   "metadata": {},
   "source": [
    "### Test Sidereal tracking\n",
    "but do so starting from the same position"
   ]
  },
  {
   "cell_type": "code",
   "execution_count": null,
   "id": "1e004cec",
   "metadata": {
    "execution": {
     "iopub.execute_input": "2023-01-26T17:58:53.547258Z",
     "iopub.status.busy": "2023-01-26T17:58:53.546880Z",
     "iopub.status.idle": "2023-01-26T17:59:08.237726Z",
     "shell.execute_reply": "2023-01-26T17:59:08.237194Z",
     "shell.execute_reply.started": "2023-01-26T17:58:53.547240Z"
    },
    "tags": []
   },
   "outputs": [],
   "source": [
    "coord=atcs.radec_from_azel(az=start_az+5, el=start_el+5)\n",
    "await atcs.slew_icrs(coord.ra, coord.dec, rot=start_rot, stop_before_slew=False, rot_type=RotType.PhysicalSky)"
   ]
  },
  {
   "cell_type": "code",
   "execution_count": null,
   "id": "aebd7711-eab7-4962-8c3a-9f0318f5bd01",
   "metadata": {
    "execution": {
     "iopub.execute_input": "2023-01-16T12:36:38.002175Z",
     "iopub.status.busy": "2023-01-16T12:36:38.001889Z",
     "iopub.status.idle": "2023-01-16T12:36:48.661414Z",
     "shell.execute_reply": "2023-01-16T12:36:48.660849Z",
     "shell.execute_reply.started": "2023-01-16T12:36:38.002158Z"
    },
    "tags": []
   },
   "outputs": [],
   "source": [
    "await latiss.take_engtest(5, filter='empty_1',grating='empty_1')"
   ]
  },
  {
   "cell_type": "code",
   "execution_count": null,
   "id": "13cb5e79",
   "metadata": {
    "execution": {
     "iopub.execute_input": "2023-01-26T17:59:13.702310Z",
     "iopub.status.busy": "2023-01-26T17:59:13.701913Z",
     "iopub.status.idle": "2023-01-26T17:59:13.937343Z",
     "shell.execute_reply": "2023-01-26T17:59:13.936713Z",
     "shell.execute_reply.started": "2023-01-26T17:59:13.702290Z"
    },
    "tags": []
   },
   "outputs": [],
   "source": [
    "# Stop tracking\n",
    "await atcs.stop_tracking()"
   ]
  },
  {
   "cell_type": "markdown",
   "id": "592276fa",
   "metadata": {},
   "source": [
    "## Verify dome functions"
   ]
  },
  {
   "cell_type": "markdown",
   "id": "36fe77eb-d67c-4db6-9671-eef28a8568a2",
   "metadata": {},
   "source": [
    "Check that dome moves\n"
   ]
  },
  {
   "cell_type": "code",
   "execution_count": null,
   "id": "09b6111c-f32b-47c5-8e39-78653f84245b",
   "metadata": {
    "execution": {
     "iopub.execute_input": "2023-01-26T17:59:19.725860Z",
     "iopub.status.busy": "2023-01-26T17:59:19.725481Z",
     "iopub.status.idle": "2023-01-26T18:00:25.491753Z",
     "shell.execute_reply": "2023-01-26T18:00:25.491137Z",
     "shell.execute_reply.started": "2023-01-26T17:59:19.725842Z"
    },
    "tags": []
   },
   "outputs": [],
   "source": [
    "await atcs.slew_dome_to(180.0)"
   ]
  },
  {
   "cell_type": "code",
   "execution_count": null,
   "id": "d39afc9e-4986-42b4-8eda-449b46ff3c78",
   "metadata": {
    "execution": {
     "iopub.execute_input": "2023-01-26T18:00:46.423490Z",
     "iopub.status.busy": "2023-01-26T18:00:46.423205Z",
     "iopub.status.idle": "2023-01-26T18:00:46.427291Z",
     "shell.execute_reply": "2023-01-26T18:00:46.426819Z",
     "shell.execute_reply.started": "2023-01-26T18:00:46.423472Z"
    },
    "tags": []
   },
   "outputs": [],
   "source": [
    "await atcs.home_dome()"
   ]
  },
  {
   "cell_type": "code",
   "execution_count": null,
   "id": "09fa95bb",
   "metadata": {
    "execution": {
     "iopub.execute_input": "2023-01-26T18:00:59.960019Z",
     "iopub.status.busy": "2023-01-26T18:00:59.959739Z",
     "iopub.status.idle": "2023-01-26T18:01:00.162654Z",
     "shell.execute_reply": "2023-01-26T18:01:00.162155Z",
     "shell.execute_reply.started": "2023-01-26T18:00:59.960003Z"
    },
    "tags": []
   },
   "outputs": [],
   "source": [
    "dome_az = await atcs.rem.atdome.tel_position.next(flush=True,timeout=10)\n",
    "logger.info(f'Dome currently thinks it is at an azimuth position of {dome_az.azimuthPosition} degrees.\\n Note the dome may not be properly homed at this time')"
   ]
  },
  {
   "cell_type": "code",
   "execution_count": null,
   "id": "2d2fa038-38f0-4437-8a14-bec5372542e3",
   "metadata": {
    "execution": {
     "iopub.execute_input": "2023-01-26T18:01:17.420861Z",
     "iopub.status.busy": "2023-01-26T18:01:17.420130Z",
     "iopub.status.idle": "2023-01-26T18:01:17.469467Z",
     "shell.execute_reply": "2023-01-26T18:01:17.468950Z",
     "shell.execute_reply.started": "2023-01-26T18:01:17.420841Z"
    },
    "tags": []
   },
   "outputs": [],
   "source": [
    "d_az=15\n",
    "await atcs.rem.atdome.cmd_moveAzimuth.set_start(azimuth=dome_az.azimuthPosition+d_az)\n",
    "dome_az = await atcs.rem.atdome.tel_position.next(flush=True,timeout=10)\n",
    "logger.info(f'After the commanded {d_az} degrees motion, the dome is at an azimuth position of {dome_az.azimuthPosition} degrees')"
   ]
  },
  {
   "cell_type": "markdown",
   "id": "ee6c0c67-41a2-41df-bbc8-ded1ddc2f22b",
   "metadata": {},
   "source": [
    "## Prepare telescope and dome for flatfield"
   ]
  },
  {
   "cell_type": "markdown",
   "id": "a75cb281",
   "metadata": {},
   "source": [
    "### Setup telescope to run the \"prepare for flats\" script so it maximizes the internal functionality of the script"
   ]
  },
  {
   "cell_type": "code",
   "execution_count": null,
   "id": "88c542db",
   "metadata": {
    "execution": {
     "iopub.execute_input": "2023-01-26T18:01:50.908622Z",
     "iopub.status.busy": "2023-01-26T18:01:50.907702Z",
     "iopub.status.idle": "2023-01-26T18:01:50.921173Z",
     "shell.execute_reply": "2023-01-26T18:01:50.920597Z",
     "shell.execute_reply.started": "2023-01-26T18:01:50.908595Z"
    },
    "tags": []
   },
   "outputs": [],
   "source": [
    "# Turn off ATAOS correction(s)\n",
    "cmd = await atcs.rem.ataos.cmd_disableCorrection.set_start(m1=True, hexapod=True, atspectrograph=with_latiss)\n",
    "cmd_time = check_evt_time(cmd)\n",
    "logger.info(f'Corrections disabled -- {cmd.result} at {cmd_time} UT')"
   ]
  },
  {
   "cell_type": "code",
   "execution_count": null,
   "id": "9b67b94e-636a-4e01-9b61-a1892528a4f1",
   "metadata": {
    "execution": {
     "iopub.execute_input": "2023-01-26T18:01:56.020154Z",
     "iopub.status.busy": "2023-01-26T18:01:56.019874Z",
     "iopub.status.idle": "2023-01-26T18:01:56.483615Z",
     "shell.execute_reply": "2023-01-26T18:01:56.483089Z",
     "shell.execute_reply.started": "2023-01-26T18:01:56.020137Z"
    },
    "tags": []
   },
   "outputs": [],
   "source": [
    "# Put mirror back on the hardpoints\n",
    "cmd = await atcs.rem.atpneumatics.cmd_m1SetPressure.set_start(pressure=0)\n",
    "m1_pressure = await atcs.rem.atpneumatics.tel_m1AirPressure.aget(timeout=5)\n",
    "logger.info(f'M1 air pressure when lowered back on hardpoints is {m1_pressure.pressure:0.0f} Pascals')"
   ]
  },
  {
   "cell_type": "code",
   "execution_count": null,
   "id": "d4f68b75",
   "metadata": {
    "execution": {
     "iopub.execute_input": "2023-01-26T18:01:59.534570Z",
     "iopub.status.busy": "2023-01-26T18:01:59.534285Z",
     "iopub.status.idle": "2023-01-26T18:02:01.516101Z",
     "shell.execute_reply": "2023-01-26T18:02:01.515616Z",
     "shell.execute_reply.started": "2023-01-26T18:01:59.534552Z"
    },
    "tags": []
   },
   "outputs": [],
   "source": [
    "# Shut off the valves so we can test the pneumatics\n",
    "cmd = await atcs.rem.atpneumatics.cmd_closeMasterAirSupply.start()\n",
    "cmd = await atcs.rem.atpneumatics.cmd_closeInstrumentAirValve.start()\n",
    "cmd_time = check_evt_time(cmd)\n",
    "logger.info(f'Valves closed -- {cmd.result} at {cmd_time} UT')"
   ]
  },
  {
   "cell_type": "code",
   "execution_count": null,
   "id": "47583b32",
   "metadata": {
    "execution": {
     "iopub.execute_input": "2023-01-26T18:02:07.271709Z",
     "iopub.status.busy": "2023-01-26T18:02:07.271431Z",
     "iopub.status.idle": "2023-01-26T18:02:29.313583Z",
     "shell.execute_reply": "2023-01-26T18:02:29.312971Z",
     "shell.execute_reply.started": "2023-01-26T18:02:07.271692Z"
    },
    "tags": []
   },
   "outputs": [],
   "source": [
    "# Open mirror covers and vents\n",
    "# Note that there is currently a race conditions that might make this fail in the first attempt\n",
    "await atcs.open_m1_cover()\n",
    "await atcs.open_m1_vent()"
   ]
  },
  {
   "cell_type": "code",
   "execution_count": null,
   "id": "0ade8e23",
   "metadata": {
    "execution": {
     "iopub.execute_input": "2023-01-26T18:02:31.067807Z",
     "iopub.status.busy": "2023-01-26T18:02:31.067462Z",
     "iopub.status.idle": "2023-01-26T18:03:03.334435Z",
     "shell.execute_reply": "2023-01-26T18:03:03.333842Z",
     "shell.execute_reply.started": "2023-01-26T18:02:31.067790Z"
    },
    "tags": []
   },
   "outputs": [],
   "source": [
    "# Close mirror covers and vents\n",
    "await atcs.close_m1_cover()\n",
    "await atcs.close_m1_vent()"
   ]
  },
  {
   "cell_type": "markdown",
   "id": "91df4b4a",
   "metadata": {},
   "source": [
    "### Run prepare_for_flats\n",
    "First we home the dome to make sure it knows where it is."
   ]
  },
  {
   "cell_type": "code",
   "execution_count": null,
   "id": "cfb0758b-8e92-4794-981b-045d266f58f2",
   "metadata": {
    "execution": {
     "iopub.execute_input": "2023-01-26T18:03:14.691257Z",
     "iopub.status.busy": "2023-01-26T18:03:14.690859Z",
     "iopub.status.idle": "2023-01-26T18:03:14.773207Z",
     "shell.execute_reply": "2023-01-26T18:03:14.772707Z",
     "shell.execute_reply.started": "2023-01-26T18:03:14.691239Z"
    },
    "tags": []
   },
   "outputs": [],
   "source": [
    "await atcs.home_dome()\n",
    "dome_az = await atcs.rem.atdome.tel_position.next(flush=True,timeout=10)\n",
    "logger.info(f'The dome is homed at an azimuth position of {dome_az.azimuthPosition} degrees.')"
   ]
  },
  {
   "cell_type": "code",
   "execution_count": null,
   "id": "7c77e81f",
   "metadata": {
    "execution": {
     "iopub.execute_input": "2023-01-26T18:03:17.489322Z",
     "iopub.status.busy": "2023-01-26T18:03:17.488925Z",
     "iopub.status.idle": "2023-01-26T18:03:35.164478Z",
     "shell.execute_reply": "2023-01-26T18:03:35.163749Z",
     "shell.execute_reply.started": "2023-01-26T18:03:17.489295Z"
    },
    "tags": []
   },
   "outputs": [],
   "source": [
    "await atcs.prepare_for_flatfield()"
   ]
  },
  {
   "cell_type": "markdown",
   "id": "2bdfd62d",
   "metadata": {},
   "source": [
    "## Perform slew of Full Observatory\n",
    "This will also take test images"
   ]
  },
  {
   "cell_type": "markdown",
   "id": "b5bc6aa2",
   "metadata": {},
   "source": [
    "Now close the mirror cover just to keep things safe - this will move the telescope to a higher position (El~70)"
   ]
  },
  {
   "cell_type": "code",
   "execution_count": null,
   "id": "6d44a40a",
   "metadata": {
    "execution": {
     "iopub.execute_input": "2023-01-26T18:04:04.945702Z",
     "iopub.status.busy": "2023-01-26T18:04:04.945344Z",
     "iopub.status.idle": "2023-01-26T18:04:32.026055Z",
     "shell.execute_reply": "2023-01-26T18:04:32.025547Z",
     "shell.execute_reply.started": "2023-01-26T18:04:04.945685Z"
    },
    "tags": []
   },
   "outputs": [],
   "source": [
    "await atcs.close_m1_cover()\n",
    "await atcs.close_m1_vent()"
   ]
  },
  {
   "cell_type": "markdown",
   "id": "434e8cef",
   "metadata": {},
   "source": [
    "Turn on dome following which will align the dome with the telescope"
   ]
  },
  {
   "cell_type": "code",
   "execution_count": null,
   "id": "32c92859",
   "metadata": {
    "execution": {
     "iopub.execute_input": "2023-01-16T12:43:20.080816Z",
     "iopub.status.busy": "2023-01-16T12:43:20.080082Z",
     "iopub.status.idle": "2023-01-16T12:43:20.085043Z",
     "shell.execute_reply": "2023-01-16T12:43:20.084506Z",
     "shell.execute_reply.started": "2023-01-16T12:43:20.080796Z"
    },
    "tags": []
   },
   "outputs": [],
   "source": [
    "await atcs.enable_dome_following()"
   ]
  },
  {
   "cell_type": "markdown",
   "id": "74bd7c7b",
   "metadata": {},
   "source": [
    "Turn on ATAOS correction(s), without spectrograph (if the tests were skipped above). <br>\n",
    "Note there is a race condition in the ATPneumatics that might result in this failing. <br>\n",
    "If it fails, you'll have to run in twice"
   ]
  },
  {
   "cell_type": "code",
   "execution_count": null,
   "id": "bd858bbd",
   "metadata": {
    "execution": {
     "iopub.execute_input": "2023-01-16T12:44:28.991676Z",
     "iopub.status.busy": "2023-01-16T12:44:28.991312Z",
     "iopub.status.idle": "2023-01-16T12:44:32.853497Z",
     "shell.execute_reply": "2023-01-16T12:44:32.852969Z",
     "shell.execute_reply.started": "2023-01-16T12:44:28.991659Z"
    }
   },
   "outputs": [],
   "source": [
    "cmd = await atcs.rem.ataos.cmd_enableCorrection.set_start(m1=True, hexapod=True, atspectrograph=with_latiss)\n",
    "cmd_time = check_evt_time(cmd)\n",
    "logger.info(f'ATAOS corrections enabled -- {cmd.result} at {cmd_time} UT')"
   ]
  },
  {
   "cell_type": "markdown",
   "id": "f827e464",
   "metadata": {},
   "source": [
    "Now start tracking a siderial target, but starting from the same position. <br>\n",
    "Then take a test image engineering test frame (analogous to a science frame) and make sure it lands"
   ]
  },
  {
   "cell_type": "code",
   "execution_count": null,
   "id": "77c7ed22",
   "metadata": {
    "execution": {
     "iopub.execute_input": "2023-01-16T12:44:41.724111Z",
     "iopub.status.busy": "2023-01-16T12:44:41.723740Z",
     "iopub.status.idle": "2023-01-16T12:46:27.101543Z",
     "shell.execute_reply": "2023-01-16T12:46:27.100990Z",
     "shell.execute_reply.started": "2023-01-16T12:44:41.724093Z"
    },
    "jupyter": {
     "outputs_hidden": true
    },
    "tags": []
   },
   "outputs": [],
   "source": [
    "start_az=45\n",
    "start_el=45\n",
    "start_rot=0\n",
    "coord=atcs.radec_from_azel(az=start_az, el=start_el)\n",
    "await atcs.slew_icrs(coord.ra, coord.dec, rot=start_rot, stop_before_slew=False, rot_type=RotType.PhysicalSky)"
   ]
  },
  {
   "cell_type": "code",
   "execution_count": null,
   "id": "7e397391",
   "metadata": {
    "execution": {
     "iopub.execute_input": "2023-01-16T12:46:36.671301Z",
     "iopub.status.busy": "2023-01-16T12:46:36.670957Z",
     "iopub.status.idle": "2023-01-16T12:46:46.179277Z",
     "shell.execute_reply": "2023-01-16T12:46:46.178793Z",
     "shell.execute_reply.started": "2023-01-16T12:46:36.671283Z"
    }
   },
   "outputs": [],
   "source": [
    "if with_latiss:\n",
    "    latiss.rem.atoods.evt_imageInOODS.flush()\n",
    "    await latiss.take_engtest(2, filter=3, grating=3)\n",
    "    ingest_event = await latiss.rem.atoods.evt_imageInOODS.next(flush=False, timeout=10)\n",
    "    ingest_event_time = check_evt_time(ingest_event)\n",
    "    inst_setup = await latiss.get_setup()\n",
    "    logger.info(f'The last ingested image was \\n \\t {ingest_event.obsid} at {ingest_event_time} UT \\n \\t with {inst_setup[0]} filter and {inst_setup[1]} grating ')\n",
    "    assert ingest_event.statusCode == 0, 'Ingestion was not successful!'"
   ]
  },
  {
   "cell_type": "markdown",
   "id": "382d7995",
   "metadata": {},
   "source": [
    "Pause here and let it track for at least a couple minutes"
   ]
  },
  {
   "cell_type": "markdown",
   "id": "1ca821a3",
   "metadata": {},
   "source": [
    "### Slew to target #2\n",
    "Then take an image with a different spectrograph setup."
   ]
  },
  {
   "cell_type": "code",
   "execution_count": null,
   "id": "41bedda3",
   "metadata": {
    "execution": {
     "iopub.execute_input": "2023-01-16T12:47:01.475718Z",
     "iopub.status.busy": "2023-01-16T12:47:01.475373Z",
     "iopub.status.idle": "2023-01-16T12:47:42.810401Z",
     "shell.execute_reply": "2023-01-16T12:47:42.809873Z",
     "shell.execute_reply.started": "2023-01-16T12:47:01.475699Z"
    },
    "jupyter": {
     "outputs_hidden": true
    },
    "tags": []
   },
   "outputs": [],
   "source": [
    "start_az=0.0\n",
    "start_el=80\n",
    "start_rot=0\n",
    "coord=atcs.radec_from_azel(az=start_az, el=start_el)\n",
    "await atcs.slew_icrs(coord.ra, coord.dec, rot=start_rot, stop_before_slew=False, rot_type=RotType.PhysicalSky)"
   ]
  },
  {
   "cell_type": "code",
   "execution_count": null,
   "id": "2b28329f",
   "metadata": {
    "execution": {
     "iopub.execute_input": "2023-01-16T12:47:45.560669Z",
     "iopub.status.busy": "2023-01-16T12:47:45.560329Z",
     "iopub.status.idle": "2023-01-16T12:47:54.337356Z",
     "shell.execute_reply": "2023-01-16T12:47:54.336862Z",
     "shell.execute_reply.started": "2023-01-16T12:47:45.560651Z"
    }
   },
   "outputs": [],
   "source": [
    "if with_latiss:\n",
    "    latiss.rem.atoods.evt_imageInOODS.flush()\n",
    "    await latiss.take_engtest(2, filter=0, grating=0)\n",
    "    iingest_event = await latiss.rem.atoods.evt_imageInOODS.next(flush=False, timeout=10)\n",
    "    ingest_event_time = check_evt_time(ingest_event)\n",
    "    inst_setup = await latiss.get_setup()\n",
    "    logger.info(f'The last ingested image was \\n \\t {ingest_event.obsid} at {ingest_event_time} UT \\n \\t with {inst_setup[0]} filter and {inst_setup[1]} grating ')\n",
    "    assert ingest_event.statusCode == 0, 'Ingestion was not successful!'"
   ]
  },
  {
   "cell_type": "markdown",
   "id": "85924833-229f-4874-b124-f40ffc320bdd",
   "metadata": {},
   "source": [
    "## M3 functionality "
   ]
  },
  {
   "cell_type": "markdown",
   "id": "1342903d-bde0-44ef-9c53-244ab84e90e1",
   "metadata": {},
   "source": [
    "M3 verification is not required every time this daytime checkout is run. Check the DayTime Checkout historical data to corroborate if this section is meant to run today.  \n",
    "\n",
    "Confirm M3 mirror rotation is operational and its valve is routinely exercized by running the following commands. \n",
    "\n",
    "First, move to the zenith where the Nasmyth motor can function with ease.  "
   ]
  },
  {
   "cell_type": "code",
   "execution_count": null,
   "id": "33670114-7406-469c-8272-3ece1fce9bed",
   "metadata": {
    "execution": {
     "iopub.execute_input": "2022-12-15T20:42:07.496429Z",
     "iopub.status.busy": "2022-12-15T20:42:07.496027Z",
     "iopub.status.idle": "2022-12-15T20:42:12.578975Z",
     "shell.execute_reply": "2022-12-15T20:42:12.578256Z",
     "shell.execute_reply.started": "2022-12-15T20:42:07.496409Z"
    },
    "jupyter": {
     "outputs_hidden": true
    },
    "tags": []
   },
   "outputs": [],
   "source": [
    "start_az=0.0\n",
    "start_el=17.0\n",
    "start_rot=10\n",
    "await atcs.point_azel(az=start_az, el=start_el, rot_tel=start_rot)"
   ]
  },
  {
   "cell_type": "markdown",
   "id": "0ce20ca9-469d-4fc3-a7ab-4ec9229264fd",
   "metadata": {},
   "source": [
    "Once the enumerations have been updated in the class M3ExitPort https://github.com/lsst-ts/ts_idl/blob/2add7a88bba16f2b13448c3ea6f78ef6d988ce83/python/lsst/ts/idl/enums/ATMCS.py#L34-L37, substitute the following five cells with: \n",
    "\n",
    "`from lsst.ts.idl.enums.ATMCS import M3ExitPort`\n",
    "Move to the Nasmyth1 port\n",
    "`await atcs.rem.atmcs.cmd_setInstrumentPort.set_start(port=M3ExitPort.NASMYTH1)`\n",
    "and back to Nasmyth 2\n",
    "`await atcs.rem.atmcs.cmd_setInstrumentPort.set_start(port=M3ExitPort.NASMYTH2)`"
   ]
  },
  {
   "cell_type": "code",
   "execution_count": null,
   "id": "bcc29ae1-b11f-4b9b-81b8-5ee9331f4c0c",
   "metadata": {
    "execution": {
     "iopub.execute_input": "2022-12-15T20:40:15.973819Z",
     "iopub.status.busy": "2022-12-15T20:40:15.973534Z",
     "iopub.status.idle": "2022-12-15T20:40:15.976689Z",
     "shell.execute_reply": "2022-12-15T20:40:15.976176Z",
     "shell.execute_reply.started": "2022-12-15T20:40:15.973801Z"
    }
   },
   "outputs": [],
   "source": [
    "from lsst.ts.idl.enums.ATMCS import M3ExitPort"
   ]
  },
  {
   "cell_type": "code",
   "execution_count": null,
   "id": "1c4ab8c4-5252-45e5-af17-d345222d7bc3",
   "metadata": {
    "execution": {
     "iopub.execute_input": "2022-12-15T20:41:03.323512Z",
     "iopub.status.busy": "2022-12-15T20:41:03.323192Z",
     "iopub.status.idle": "2022-12-15T20:41:07.671713Z",
     "shell.execute_reply": "2022-12-15T20:41:07.671006Z",
     "shell.execute_reply.started": "2022-12-15T20:41:03.323494Z"
    },
    "jupyter": {
     "outputs_hidden": true
    },
    "tags": []
   },
   "outputs": [],
   "source": [
    "await atcs.rem.atmcs.evt_m3PortSelected.aget()"
   ]
  },
  {
   "cell_type": "code",
   "execution_count": null,
   "id": "ce590743-6633-4a48-a963-69c065a2e543",
   "metadata": {},
   "outputs": [],
   "source": [
    "M3ExitPort = {'NASMYTH1': 1, 'NASMYTH2':2}"
   ]
  },
  {
   "cell_type": "markdown",
   "id": "71e75bf0-2157-4a65-9b18-8098a22abef9",
   "metadata": {},
   "source": [
    "Move to the Nasmyth1 port"
   ]
  },
  {
   "cell_type": "code",
   "execution_count": null,
   "id": "1a7f725c-9aed-474b-9c9b-ebe57305de5e",
   "metadata": {},
   "outputs": [],
   "source": [
    "await atcs.rem.atmcs.cmd_setInstrumentPort.set_start(port=M3ExitPort['NASMYTH1'])\n",
    "m3 = await atcs.rem.atmcs.evt_m3PortSelected.aget()\n",
    "m3_time = check_evt_time(m3)\n",
    "logger.info(f'M3 Port selected -- {m3.selected} at {m3_time} UT')"
   ]
  },
  {
   "cell_type": "markdown",
   "id": "e8cf7f7b-5f61-4dee-95e9-39c0365b84ae",
   "metadata": {},
   "source": [
    "and back to Nasmyth 2"
   ]
  },
  {
   "cell_type": "code",
   "execution_count": null,
   "id": "19069d0e-8402-4a16-9809-ad77c53cc92e",
   "metadata": {},
   "outputs": [],
   "source": [
    "await atcs.rem.atmcs.cmd_setInstrumentPort.set_start(port=M3ExitPort['NASMYTH2'])\n",
    "m3 = await atcs.rem.atmcs.evt_m3PortSelected.aget()\n",
    "m3_time = check_evt_time(m3)\n",
    "logger.info(f'M3 Port selected -- {m3.selected} at {m3_time} UT')"
   ]
  },
  {
   "cell_type": "markdown",
   "id": "a435880e",
   "metadata": {},
   "source": [
    "## Shutdown all ATCS components"
   ]
  },
  {
   "cell_type": "code",
   "execution_count": null,
   "id": "723d22b0",
   "metadata": {
    "execution": {
     "iopub.execute_input": "2023-01-26T18:38:42.114587Z",
     "iopub.status.busy": "2023-01-26T18:38:42.114299Z",
     "iopub.status.idle": "2023-01-26T18:39:58.159431Z",
     "shell.execute_reply": "2023-01-26T18:39:58.158889Z",
     "shell.execute_reply.started": "2023-01-26T18:38:42.114570Z"
    },
    "jupyter": {
     "outputs_hidden": true
    },
    "tags": []
   },
   "outputs": [],
   "source": [
    "await atcs.shutdown()"
   ]
  },
  {
   "cell_type": "code",
   "execution_count": null,
   "id": "5468d87c-fb1f-4d8a-83b1-13f8744b0b26",
   "metadata": {
    "execution": {
     "iopub.execute_input": "2023-01-18T15:04:33.782313Z",
     "iopub.status.busy": "2023-01-18T15:04:33.781929Z",
     "iopub.status.idle": "2023-01-18T15:04:35.431283Z",
     "shell.execute_reply": "2023-01-18T15:04:35.430786Z",
     "shell.execute_reply.started": "2023-01-18T15:04:33.782295Z"
    },
    "tags": []
   },
   "outputs": [],
   "source": [
    "await atcs.standby()"
   ]
  },
  {
   "cell_type": "markdown",
   "id": "621b5407",
   "metadata": {},
   "source": [
    "## Put LATISS in standby"
   ]
  },
  {
   "cell_type": "code",
   "execution_count": null,
   "id": "80517626",
   "metadata": {
    "execution": {
     "iopub.execute_input": "2023-01-10T17:49:04.263705Z",
     "iopub.status.busy": "2023-01-10T17:49:04.263301Z",
     "iopub.status.idle": "2023-01-10T17:49:04.884074Z",
     "shell.execute_reply": "2023-01-10T17:49:04.883528Z",
     "shell.execute_reply.started": "2023-01-10T17:49:04.263685Z"
    },
    "tags": []
   },
   "outputs": [],
   "source": [
    "await latiss.standby()"
   ]
  },
  {
   "cell_type": "markdown",
   "id": "f2427c84-de49-43ca-ae1e-3a06afbdc1fd",
   "metadata": {},
   "source": [
    "# Quick Troubleshooting"
   ]
  },
  {
   "cell_type": "markdown",
   "id": "0ba5ab6c-b5d6-45c1-a9b4-66d8f9671a08",
   "metadata": {},
   "source": [
    "## LATISS CSCs failed to transition to ENABLED state. \n",
    "The current DDS configuration results in history being lost when CSCs are restarted and/or a small network outage occurs. If this happens, then to receive the summaryState event, which is required by salobj.get_summary_state (and used extensively in the atcs), it is necessary to manually change the state of a CSC. The commands below can be used to perform this action.\n",
    "\n",
    "A new DDS configuration is now ready to be tested and will hopefully be released in the near future."
   ]
  },
  {
   "cell_type": "markdown",
   "id": "5233ad88-d7eb-497c-8119-aabb86f4e37c",
   "metadata": {},
   "source": [
    "### ATOODs didn't come up"
   ]
  },
  {
   "cell_type": "code",
   "execution_count": null,
   "id": "398422df-64ad-4da9-80c5-df4e02626141",
   "metadata": {
    "jupyter": {
     "outputs_hidden": true
    },
    "tags": []
   },
   "outputs": [],
   "source": [
    "tmp=await latiss.rem.atoods.cmd_start.set_start(timeout=10)\n",
    "print(tmp)"
   ]
  },
  {
   "cell_type": "code",
   "execution_count": null,
   "id": "728bcdae-3e1e-4651-9519-50ec1fde129b",
   "metadata": {
    "jupyter": {
     "outputs_hidden": true
    },
    "tags": []
   },
   "outputs": [],
   "source": [
    "await salobj.set_summary_state(latiss.rem.atoods, salobj.State.STANDBY)"
   ]
  },
  {
   "cell_type": "code",
   "execution_count": null,
   "id": "aa223e1a-5501-4489-ae3e-f2b8ba523153",
   "metadata": {
    "tags": []
   },
   "outputs": [],
   "source": [
    "await salobj.set_summary_state(latiss.rem.atoods, salobj.State.ENABLED)"
   ]
  },
  {
   "cell_type": "markdown",
   "id": "fae0e74f-d0c0-49d0-9bbe-d4ebf38a93c9",
   "metadata": {},
   "source": [
    "### ATSpectrograph didn't come up"
   ]
  },
  {
   "cell_type": "code",
   "execution_count": null,
   "id": "9518a12e-ee3c-4eb6-a8ab-e23ff1b42bce",
   "metadata": {
    "execution": {
     "iopub.execute_input": "2023-01-12T15:28:10.670485Z",
     "iopub.status.busy": "2023-01-12T15:28:10.670105Z",
     "iopub.status.idle": "2023-01-12T15:28:10.681346Z",
     "shell.execute_reply": "2023-01-12T15:28:10.680942Z",
     "shell.execute_reply.started": "2023-01-12T15:28:10.670467Z"
    },
    "tags": []
   },
   "outputs": [],
   "source": [
    "tmp=await latiss.rem.atspectrograph.cmd_start.set_start(timeout=10)\n",
    "print(tmp)"
   ]
  },
  {
   "cell_type": "code",
   "execution_count": null,
   "id": "73919e71-40d1-469a-805f-f80464d88e67",
   "metadata": {
    "execution": {
     "iopub.execute_input": "2023-01-12T15:28:07.599847Z",
     "iopub.status.busy": "2023-01-12T15:28:07.599436Z",
     "iopub.status.idle": "2023-01-12T15:28:07.604751Z",
     "shell.execute_reply": "2023-01-12T15:28:07.604386Z",
     "shell.execute_reply.started": "2023-01-12T15:28:07.599828Z"
    },
    "tags": []
   },
   "outputs": [],
   "source": [
    "await salobj.set_summary_state(latiss.rem.atspectrograph, salobj.State.STANDBY)"
   ]
  },
  {
   "cell_type": "code",
   "execution_count": null,
   "id": "a04131e0-7cc1-4741-a8e1-af780d7a2f8e",
   "metadata": {
    "execution": {
     "iopub.execute_input": "2023-01-12T15:28:22.733604Z",
     "iopub.status.busy": "2023-01-12T15:28:22.733209Z",
     "iopub.status.idle": "2023-01-12T15:28:38.626620Z",
     "shell.execute_reply": "2023-01-12T15:28:38.626212Z",
     "shell.execute_reply.started": "2023-01-12T15:28:22.733585Z"
    },
    "tags": []
   },
   "outputs": [],
   "source": [
    "await salobj.set_summary_state(latiss.rem.atspectrograph, salobj.State.ENABLED)"
   ]
  },
  {
   "cell_type": "raw",
   "id": "7fb68aa4-373a-434a-b91b-bb229acb7d61",
   "metadata": {},
   "source": []
  },
  {
   "cell_type": "markdown",
   "id": "459400af-6568-4438-a6b0-7f8fd15e491b",
   "metadata": {},
   "source": [
    "### ATHeaderService didn't come up"
   ]
  },
  {
   "cell_type": "code",
   "execution_count": null,
   "id": "2a617a2b-70fa-495f-90b1-e5ba3714ac81",
   "metadata": {
    "jupyter": {
     "outputs_hidden": true
    },
    "tags": []
   },
   "outputs": [],
   "source": [
    "tmp=await latiss.rem.atheaderservice.cmd_start.set_start(timeout=10)\n",
    "print(tmp)"
   ]
  },
  {
   "cell_type": "code",
   "execution_count": null,
   "id": "59cd58c8-f133-404a-81a5-8a98b6e0bfa4",
   "metadata": {
    "tags": []
   },
   "outputs": [],
   "source": [
    "await salobj.set_summary_state(latiss.rem.atheaderservice, salobj.State.ENABLED)"
   ]
  },
  {
   "cell_type": "code",
   "execution_count": null,
   "id": "7bb6f725-3e91-4d51-ae02-d4acca2e7c99",
   "metadata": {
    "jupyter": {
     "source_hidden": true
    },
    "tags": []
   },
   "outputs": [],
   "source": [
    "await salobj.set_summary_state(latiss.rem.atoods, salobj.State.ENABLED)"
   ]
  },
  {
   "cell_type": "markdown",
   "id": "1475a0f5-49a8-4727-aa9e-520301f9ee53",
   "metadata": {},
   "source": [
    "### ATCamera didn't come up"
   ]
  },
  {
   "cell_type": "code",
   "execution_count": null,
   "id": "36387d0e-d027-4872-a313-c3bccf63af35",
   "metadata": {
    "execution": {
     "iopub.execute_input": "2023-01-26T16:33:21.724829Z",
     "iopub.status.busy": "2023-01-26T16:33:21.724235Z",
     "iopub.status.idle": "2023-01-26T16:33:22.051725Z",
     "shell.execute_reply": "2023-01-26T16:33:22.050965Z",
     "shell.execute_reply.started": "2023-01-26T16:33:21.724810Z"
    },
    "tags": []
   },
   "outputs": [],
   "source": [
    "tmp=await latiss.rem.atcamera.cmd_start.set_start(timeout=10)\n",
    "print(tmp)"
   ]
  },
  {
   "cell_type": "code",
   "execution_count": null,
   "id": "34ce130f-e542-4d19-9aea-55aa04f929d6",
   "metadata": {
    "tags": []
   },
   "outputs": [],
   "source": [
    "await salobj.set_summary_state(latiss.rem.atcamera, salobj.State.STANDBY)"
   ]
  },
  {
   "cell_type": "code",
   "execution_count": null,
   "id": "b255cf42-0d89-4de9-ba51-debe4ff32ca5",
   "metadata": {
    "tags": []
   },
   "outputs": [],
   "source": [
    "await salobj.set_summary_state(latiss.rem.atcamera, salobj.State.ENABLED)"
   ]
  },
  {
   "cell_type": "markdown",
   "id": "555017ce-70b9-4452-ac33-bad347d263d8",
   "metadata": {},
   "source": [
    "## ATCS CSCs failed to transition to ENABLED state. "
   ]
  },
  {
   "cell_type": "markdown",
   "id": "879c2bff-8434-4fbf-b0be-d1c202d29659",
   "metadata": {},
   "source": [
    "### ATHexapod "
   ]
  },
  {
   "cell_type": "code",
   "execution_count": null,
   "id": "3640d622-8a81-4aac-9779-0ae167b01404",
   "metadata": {
    "tags": []
   },
   "outputs": [],
   "source": [
    "tmp=await atcs.rem.athexapod.cmd_start.set_start(timeout=10)\n",
    "print(tmp)"
   ]
  },
  {
   "cell_type": "code",
   "execution_count": null,
   "id": "9eba1435-7d92-422e-9c33-1ae4fe8edfb1",
   "metadata": {
    "execution": {
     "iopub.execute_input": "2023-01-10T14:22:46.642742Z",
     "iopub.status.busy": "2023-01-10T14:22:46.642070Z",
     "iopub.status.idle": "2023-01-10T14:22:47.575278Z",
     "shell.execute_reply": "2023-01-10T14:22:47.574752Z",
     "shell.execute_reply.started": "2023-01-10T14:22:46.642722Z"
    },
    "tags": []
   },
   "outputs": [],
   "source": [
    "await salobj.set_summary_state(atcs.rem.athexapod, salobj.State.STANDBY)"
   ]
  },
  {
   "cell_type": "markdown",
   "id": "6c72cd53-fe30-491b-8033-3b37d2c71bfd",
   "metadata": {},
   "source": [
    "### ATPneumatics"
   ]
  },
  {
   "cell_type": "code",
   "execution_count": null,
   "id": "9832da12-1188-4a7d-a283-f758ee8a3098",
   "metadata": {
    "tags": []
   },
   "outputs": [],
   "source": [
    "tmp=await atcs.rem.atpneumatics.cmd_start.set_start(timeout=10)\n",
    "print(tmp)"
   ]
  },
  {
   "cell_type": "code",
   "execution_count": null,
   "id": "b3979e9d-30f6-44f1-8d8f-9725aa645167",
   "metadata": {
    "execution": {
     "iopub.execute_input": "2023-01-10T14:22:56.899589Z",
     "iopub.status.busy": "2023-01-10T14:22:56.898890Z",
     "iopub.status.idle": "2023-01-10T14:23:15.349621Z",
     "shell.execute_reply": "2023-01-10T14:23:15.348934Z",
     "shell.execute_reply.started": "2023-01-10T14:22:56.899568Z"
    },
    "jupyter": {
     "outputs_hidden": true
    },
    "tags": []
   },
   "outputs": [],
   "source": [
    "await salobj.set_summary_state(atcs.rem.atpneumatics, salobj.State.STANDBY)"
   ]
  },
  {
   "cell_type": "markdown",
   "id": "06ff0cce-8c35-4a8e-a35d-f162e53e0f2a",
   "metadata": {},
   "source": [
    "### ATPtg "
   ]
  },
  {
   "cell_type": "code",
   "execution_count": null,
   "id": "9049a9fe-0b39-4b77-a9e3-683f7a06a037",
   "metadata": {
    "tags": []
   },
   "outputs": [],
   "source": [
    "tmp=await atcs.rem.atptg.cmd_start.set_start(timeout=10)\n",
    "print(tmp)"
   ]
  },
  {
   "cell_type": "code",
   "execution_count": null,
   "id": "7da2c93c-dd9e-44ee-b261-fe9362aab128",
   "metadata": {
    "execution": {
     "iopub.execute_input": "2023-01-10T14:23:21.147590Z",
     "iopub.status.busy": "2023-01-10T14:23:21.146882Z",
     "iopub.status.idle": "2023-01-10T14:23:21.345657Z",
     "shell.execute_reply": "2023-01-10T14:23:21.345082Z",
     "shell.execute_reply.started": "2023-01-10T14:23:21.147570Z"
    },
    "tags": []
   },
   "outputs": [],
   "source": [
    "await salobj.set_summary_state(atcs.rem.atptg, salobj.State.STANDBY)"
   ]
  },
  {
   "cell_type": "code",
   "execution_count": null,
   "id": "712b2813-5454-4e10-b4dd-cdc6531b5be2",
   "metadata": {
    "tags": []
   },
   "outputs": [],
   "source": [
    "await salobj.set_summary_state(atcs.rem.atptg, salobj.State.ENABLED)"
   ]
  },
  {
   "cell_type": "markdown",
   "id": "d5946409-e5cb-466c-8f8d-c8571e919e59",
   "metadata": {},
   "source": [
    "### ATMCS "
   ]
  },
  {
   "cell_type": "code",
   "execution_count": null,
   "id": "5a44eea8-a3c5-4d37-be19-fb3790f59883",
   "metadata": {
    "execution": {
     "iopub.execute_input": "2023-01-10T14:12:06.477039Z",
     "iopub.status.busy": "2023-01-10T14:12:06.476363Z",
     "iopub.status.idle": "2023-01-10T14:12:11.261682Z",
     "shell.execute_reply": "2023-01-10T14:12:11.260891Z",
     "shell.execute_reply.started": "2023-01-10T14:12:06.477019Z"
    },
    "tags": []
   },
   "outputs": [],
   "source": [
    "tmp=await atcs.rem.atmcs.cmd_start.set_start(timeout=10)\n",
    "print(tmp)"
   ]
  },
  {
   "cell_type": "code",
   "execution_count": null,
   "id": "88bdee3c-30c4-403b-ad4e-445c91dfbeb9",
   "metadata": {
    "execution": {
     "iopub.execute_input": "2023-01-10T15:09:36.694081Z",
     "iopub.status.busy": "2023-01-10T15:09:36.693584Z",
     "iopub.status.idle": "2023-01-10T15:09:38.395975Z",
     "shell.execute_reply": "2023-01-10T15:09:38.395421Z",
     "shell.execute_reply.started": "2023-01-10T15:09:36.694062Z"
    },
    "tags": []
   },
   "outputs": [],
   "source": [
    "await salobj.set_summary_state(atcs.rem.atmcs, salobj.State.STANDBY)"
   ]
  },
  {
   "cell_type": "markdown",
   "id": "3cfffae4-b5fd-444d-bce7-9026dbbe186c",
   "metadata": {},
   "source": [
    "### Nov 3, 2022 - taking calibration images with new configuration."
   ]
  },
  {
   "cell_type": "code",
   "execution_count": null,
   "id": "c0950b3c-0941-49dc-918f-4f52c8431d5c",
   "metadata": {},
   "outputs": [],
   "source": [
    "await latiss.take_bias(nbias=1)"
   ]
  },
  {
   "cell_type": "code",
   "execution_count": null,
   "id": "8874ad2a-6a86-43bd-9075-efeb57d721b0",
   "metadata": {},
   "outputs": [],
   "source": [
    "await atcs.rem.atdome.cmd_openShutter.set_start()"
   ]
  },
  {
   "cell_type": "code",
   "execution_count": null,
   "id": "6a18cede-e3bf-4d6e-99ab-47b899ec6316",
   "metadata": {},
   "outputs": [],
   "source": []
  },
  {
   "cell_type": "code",
   "execution_count": null,
   "id": "2d617522-c752-447c-9227-7068ec1aa556",
   "metadata": {},
   "outputs": [],
   "source": []
  },
  {
   "cell_type": "code",
   "execution_count": null,
   "id": "8b912c3b-7492-47f6-a211-43b562246c3b",
   "metadata": {
    "execution": {
     "iopub.execute_input": "2022-12-16T04:17:06.611916Z",
     "iopub.status.busy": "2022-12-16T04:17:06.611534Z",
     "iopub.status.idle": "2022-12-16T04:17:09.821320Z",
     "shell.execute_reply": "2022-12-16T04:17:09.820722Z",
     "shell.execute_reply.started": "2022-12-16T04:17:06.611894Z"
    },
    "tags": []
   },
   "outputs": [],
   "source": [
    "await atcs.rem.ataos.cmd_offset.set_start(z=+0.5)"
   ]
  },
  {
   "cell_type": "code",
   "execution_count": null,
   "id": "64d5c2bc-a889-43fd-959b-b271b51e5fa2",
   "metadata": {
    "execution": {
     "iopub.execute_input": "2023-01-10T14:24:01.414139Z",
     "iopub.status.busy": "2023-01-10T14:24:01.413776Z",
     "iopub.status.idle": "2023-01-10T14:24:01.623153Z",
     "shell.execute_reply": "2023-01-10T14:24:01.622598Z",
     "shell.execute_reply.started": "2023-01-10T14:24:01.414120Z"
    }
   },
   "outputs": [],
   "source": [
    "await salobj.set_summary_state(atcs.rem.atdome, salobj.State.STANDBY)"
   ]
  },
  {
   "cell_type": "code",
   "execution_count": null,
   "id": "ba9d14b2-4d74-4d15-bf80-93eaef8babf1",
   "metadata": {
    "execution": {
     "iopub.execute_input": "2023-01-10T14:24:12.682553Z",
     "iopub.status.busy": "2023-01-10T14:24:12.681848Z",
     "iopub.status.idle": "2023-01-10T14:24:12.689539Z",
     "shell.execute_reply": "2023-01-10T14:24:12.689044Z",
     "shell.execute_reply.started": "2023-01-10T14:24:12.682532Z"
    }
   },
   "outputs": [],
   "source": [
    "await salobj.set_summary_state(atcs.rem.atdometrajectory, salobj.State.STANDBY)"
   ]
  },
  {
   "cell_type": "code",
   "execution_count": null,
   "id": "6d33c975-ce6a-404c-871a-97294f8af57c",
   "metadata": {
    "execution": {
     "iopub.execute_input": "2023-01-10T14:24:25.920270Z",
     "iopub.status.busy": "2023-01-10T14:24:25.919623Z",
     "iopub.status.idle": "2023-01-10T14:24:25.927353Z",
     "shell.execute_reply": "2023-01-10T14:24:25.926856Z",
     "shell.execute_reply.started": "2023-01-10T14:24:25.920249Z"
    }
   },
   "outputs": [],
   "source": [
    "await salobj.set_summary_state(atcs.rem.ataos, salobj.State.STANDBY)"
   ]
  },
  {
   "cell_type": "code",
   "execution_count": null,
   "id": "196e29ea-c9a0-479f-adef-96060d5bd2a0",
   "metadata": {
    "execution": {
     "iopub.execute_input": "2023-01-10T14:24:44.549547Z",
     "iopub.status.busy": "2023-01-10T14:24:44.548861Z",
     "iopub.status.idle": "2023-01-10T14:24:50.052590Z",
     "shell.execute_reply": "2023-01-10T14:24:50.051902Z",
     "shell.execute_reply.started": "2023-01-10T14:24:44.549526Z"
    },
    "jupyter": {
     "outputs_hidden": true
    },
    "tags": []
   },
   "outputs": [],
   "source": [
    "await salobj.set_summary_state(atcs.rem.atpneumatics, salobj.State.STANDBY)"
   ]
  },
  {
   "cell_type": "code",
   "execution_count": null,
   "id": "6d32869c-df3f-4f87-89d9-67d85330bfb1",
   "metadata": {},
   "outputs": [],
   "source": []
  }
 ],
 "metadata": {
  "kernelspec": {
   "display_name": "LSST",
   "language": "python",
   "name": "lsst"
  },
  "language_info": {
   "codemirror_mode": {
    "name": "ipython",
    "version": 3
   },
   "file_extension": ".py",
   "mimetype": "text/x-python",
   "name": "python",
   "nbconvert_exporter": "python",
   "pygments_lexer": "ipython3",
   "version": "3.10.6"
  }
 },
 "nbformat": 4,
 "nbformat_minor": 5
}
