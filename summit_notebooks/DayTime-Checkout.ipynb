{
 "cells": [
  {
   "cell_type": "markdown",
   "id": "3dbf3c0c",
   "metadata": {},
   "source": [
    "# DayTime Checkout\n",
    "\n",
    "This notebook is intended to run a series of tests to ensure the system responds as expected.\n",
    "It begins with LATISS, but can also be used with the telescope ATCS components only."
   ]
  },
  {
   "cell_type": "code",
   "execution_count": null,
   "id": "b9b61b70",
   "metadata": {
    "execution": {
     "iopub.execute_input": "2023-05-02T15:57:04.500038Z",
     "iopub.status.busy": "2023-05-02T15:57:04.499775Z",
     "iopub.status.idle": "2023-05-02T15:57:07.978715Z",
     "shell.execute_reply": "2023-05-02T15:57:07.978112Z",
     "shell.execute_reply.started": "2023-05-02T15:57:04.500022Z"
    },
    "tags": []
   },
   "outputs": [],
   "source": [
    "import asyncio\n",
    "import time\n",
    "import os\n",
    "import numpy as np\n",
    "from astropy.time import Time\n",
    "\n",
    "from lsst.ts import salobj\n",
    "\n",
    "from lsst.ts.observatory.control.auxtel.atcs import ATCS\n",
    "from lsst.ts.observatory.control.auxtel.latiss import LATISS\n",
    "from lsst.ts.observatory.control.utils import RotType"
   ]
  },
  {
   "cell_type": "code",
   "execution_count": null,
   "id": "0755fd07",
   "metadata": {
    "execution": {
     "iopub.execute_input": "2023-05-02T15:57:07.984744Z",
     "iopub.status.busy": "2023-05-02T15:57:07.984445Z",
     "iopub.status.idle": "2023-05-02T15:57:07.987502Z",
     "shell.execute_reply": "2023-05-02T15:57:07.987017Z",
     "shell.execute_reply.started": "2023-05-02T15:57:07.984729Z"
    },
    "tags": []
   },
   "outputs": [],
   "source": [
    "logger = logging.getLogger(f\"Daytime Checkout {Time.now()} UT\")\n",
    "logger.level = logging.DEBUG"
   ]
  },
  {
   "cell_type": "code",
   "execution_count": null,
   "id": "e80647f9",
   "metadata": {
    "execution": {
     "iopub.execute_input": "2023-05-02T15:57:07.988751Z",
     "iopub.status.busy": "2023-05-02T15:57:07.988430Z",
     "iopub.status.idle": "2023-05-02T15:57:07.996519Z",
     "shell.execute_reply": "2023-05-02T15:57:07.996065Z",
     "shell.execute_reply.started": "2023-05-02T15:57:07.988736Z"
    },
    "tags": []
   },
   "outputs": [],
   "source": [
    "logger.info(os.environ[\"OSPL_URI\"])\n",
    "logger.info(os.environ[\"LSST_DDS_PARTITION_PREFIX\"])"
   ]
  },
  {
   "cell_type": "markdown",
   "id": "82b5ed46-aa63-43bb-a5f4-e7a41bd551ae",
   "metadata": {},
   "source": [
    "Helper function"
   ]
  },
  {
   "cell_type": "code",
   "execution_count": null,
   "id": "c1ec08aa-614e-40a7-b612-4062cd64ddd2",
   "metadata": {
    "execution": {
     "iopub.execute_input": "2023-04-27T13:12:11.309900Z",
     "iopub.status.busy": "2023-04-27T13:12:11.309629Z",
     "iopub.status.idle": "2023-04-27T13:12:11.312983Z",
     "shell.execute_reply": "2023-04-27T13:12:11.312496Z",
     "shell.execute_reply.started": "2023-04-27T13:12:11.309884Z"
    },
    "tags": []
   },
   "outputs": [],
   "source": [
    "def check_evt_time(evt):\n",
    "    event_time = Time(evt.private_sndStamp, format=\"unix\", scale=\"tai\")\n",
    "    event_time.format = \"iso\"\n",
    "    event_time = event_time.utc\n",
    "    return event_time"
   ]
  },
  {
   "cell_type": "markdown",
   "id": "a9cd22ea",
   "metadata": {},
   "source": [
    "### Instantiate the control classes"
   ]
  },
  {
   "cell_type": "code",
   "execution_count": null,
   "id": "72f4af3c-390b-4599-bf2b-73e90c1811d4",
   "metadata": {},
   "outputs": [],
   "source": [
    "await latiss.take_bias(nbias=10)"
   ]
  },
  {
   "cell_type": "markdown",
   "id": "014ff42a-1d20-4a15-a145-3a59306459e2",
   "metadata": {
    "tags": []
   },
   "source": [
    "If ATCamera and/or ATOODS don't come up, see section `Quick Troubleshooting` for support commands. "
   ]
  },
  {
   "cell_type": "markdown",
   "id": "a85209e7",
   "metadata": {},
   "source": [
    "## LATISS image and ingestion verification\n",
    "\n",
    "### Bias verification"
   ]
  },
  {
   "cell_type": "code",
   "execution_count": null,
   "id": "034decba",
   "metadata": {
    "tags": []
   },
   "outputs": [],
   "source": [
    "if with_latiss:\n",
    "    latiss.rem.atoods.evt_imageInOODS.flush()\n",
    "    await latiss.take_bias(nbias=1)\n",
    "    ingest_event = await latiss.rem.atoods.evt_imageInOODS.next(flush=False, timeout=10)\n",
    "    ingest_event_time = check_evt_time(ingest_event)\n",
    "    logger.info(f'The last ingested image was \\n \\t {ingest_event.obsid} at {ingest_event_time} UT')\n",
    "    assert ingest_event.statusCode == 0, 'Ingestion was not successful!'"
   ]
  },
  {
   "cell_type": "markdown",
   "id": "f32825fe",
   "metadata": {},
   "source": [
    "Check that the bias pops up in the monitor (https://roundtable.lsst.codes/rubintv/monitor_current)\n",
    "If it fails, let Patrick or Merlin know\n",
    "\n",
    "You can check that it ingested at USDF with this link: ******* <b>Add when available<b>\n"
   ]
  },
  {
   "cell_type": "markdown",
   "id": "18af4378",
   "metadata": {
    "tags": []
   },
   "source": [
    "### Engineering test frame verification\n",
    "This is analogous to a science frame"
   ]
  },
  {
   "cell_type": "markdown",
   "id": "416f0984-0a2e-4b14-ba4c-529a83ceb297",
   "metadata": {},
   "source": [
    "These are the filters and grating configurations available. "
   ]
  },
  {
   "cell_type": "code",
   "execution_count": null,
   "id": "530471f0-8a70-48c5-a69c-1f2e6631d955",
   "metadata": {},
   "outputs": [],
   "source": [
    "available_setup = await latiss.get_available_instrument_setup()\n",
    "logger.info(f'\\n The available filters are {available_setup[0]} \\n and gratings are {available_setup[1]} ')"
   ]
  },
  {
   "cell_type": "code",
   "execution_count": null,
   "id": "415322c5",
   "metadata": {
    "tags": []
   },
   "outputs": [],
   "source": [
    "if with_latiss:\n",
    "    latiss.rem.atoods.evt_imageInOODS.flush()\n",
    "    await latiss.take_engtest(2, filter='empty_1',grating='holo4_003')\n",
    "    ingest_event = await latiss.rem.atoods.evt_imageInOODS.next(flush=False, timeout=10)\n",
    "    ingest_event_time = check_evt_time(ingest_event)\n",
    "    inst_setup = await latiss.get_setup()\n",
    "    logger.info(f'The last ingested image was \\n \\t {ingest_event.obsid} at {ingest_event_time.utc} UT \\n \\t with {inst_setup[0]} filter and {inst_setup[1]} grating ')\n",
    "    assert ingest_event.statusCode == 0, 'Ingestion was not successful!'"
   ]
  },
  {
   "cell_type": "markdown",
   "id": "6da39a4b",
   "metadata": {
    "tags": []
   },
   "source": [
    "## Enable ATCS"
   ]
  },
  {
   "cell_type": "code",
   "execution_count": null,
   "id": "b8820a7f",
   "metadata": {
    "execution": {
     "iopub.execute_input": "2023-05-02T15:57:34.139732Z",
     "iopub.status.busy": "2023-05-02T15:57:34.139439Z",
     "iopub.status.idle": "2023-05-02T15:57:39.408658Z",
     "shell.execute_reply": "2023-05-02T15:57:39.408160Z",
     "shell.execute_reply.started": "2023-05-02T15:57:34.139714Z"
    },
    "tags": []
   },
   "outputs": [],
   "source": [
    "await atcs.enable()"
   ]
  },
  {
   "cell_type": "markdown",
   "id": "e1dc8c7d-1178-4986-8485-557cd3b0dfe4",
   "metadata": {},
   "source": [
    "If any of the ATCS CSCs failed to transition to enabled state with the above command, see `Quick Troubleshooting` section for more commands. "
   ]
  },
  {
   "cell_type": "markdown",
   "id": "f2c90358",
   "metadata": {},
   "source": [
    "## Pneumatics Functionality Verification"
   ]
  },
  {
   "cell_type": "markdown",
   "id": "34fec12f",
   "metadata": {},
   "source": [
    "Check ATPneumatics air pressure. "
   ]
  },
  {
   "cell_type": "code",
   "execution_count": null,
   "id": "39e586cb",
   "metadata": {},
   "outputs": [],
   "source": [
    "await atcs.open_valves()\n",
    "pressure = await atcs.rem.atpneumatics.tel_mainAirSourcePressure.next(flush=True, timeout=5)\n",
    "if pressure.pressure > 300000:\n",
    "    logger.info(f'Air pressure is {pressure.pressure:0.0f} Pascals, which is fine.')\n",
    "else:\n",
    "    raise AssertionError(f'Air pressure is {pressure.pressure}, which is too low. It needs to be between ~275790 and ~413000 Pascals (40 and 60 PSI). \\n Check that compressor and dryer are running. Then check that the regulator inside the pier is set correctly. ')"
   ]
  },
  {
   "cell_type": "markdown",
   "id": "fe8a839f",
   "metadata": {},
   "source": [
    "Turn on ATAOS correction(s), without spectrograph (if the tests were skipped above).<br>\n",
    "Note there is a race condition in the ATPneumatics that might result in this failing, so you'll have to run in twice"
   ]
  },
  {
   "cell_type": "code",
   "execution_count": null,
   "id": "81d8e8f7",
   "metadata": {
    "tags": []
   },
   "outputs": [],
   "source": [
    "cmd = await atcs.rem.ataos.cmd_enableCorrection.set_start(m1=True, hexapod=True, atspectrograph=with_latiss)\n",
    "cmd_time = check_evt_time(cmd)\n",
    "logger.info(f'ATAOS corrections enabled -- {cmd.result} at {cmd_time} UT')"
   ]
  },
  {
   "cell_type": "code",
   "execution_count": null,
   "id": "81b3f544",
   "metadata": {},
   "outputs": [],
   "source": [
    "m1_pressure = await atcs.rem.atpneumatics.tel_m1AirPressure.aget(timeout=5)\n",
    "logger.info(f'M1 Air pressure with enabled ATAOS corrections is {m1_pressure.pressure:0.0f} Pascals')"
   ]
  },
  {
   "cell_type": "markdown",
   "id": "963fda08",
   "metadata": {},
   "source": [
    "Turn off ATAOS correction(s), without spectrograph (if the tests were skipped above)"
   ]
  },
  {
   "cell_type": "code",
   "execution_count": null,
   "id": "c4d7b436",
   "metadata": {},
   "outputs": [],
   "source": [
    "cmd = await atcs.rem.ataos.cmd_disableCorrection.set_start(m1=True, hexapod=True, atspectrograph=with_latiss)\n",
    "cmd_time = check_evt_time(cmd)\n",
    "logger.info(f'Corrections disabled -- {cmd.result} at {cmd_time} UT')"
   ]
  },
  {
   "cell_type": "markdown",
   "id": "4b478432",
   "metadata": {},
   "source": [
    "Lower mirror back on hardpoints"
   ]
  },
  {
   "cell_type": "code",
   "execution_count": null,
   "id": "6813e58c",
   "metadata": {},
   "outputs": [],
   "source": [
    "cmd = await atcs.rem.atpneumatics.cmd_m1SetPressure.set_start(pressure=0)\n",
    "m1_pressure = await atcs.rem.atpneumatics.tel_m1AirPressure.aget(timeout=5)\n",
    "logger.info(f'M1 air pressure when lowered back on hardpoints is {m1_pressure.pressure:0.0f} Pascals')"
   ]
  },
  {
   "cell_type": "markdown",
   "id": "336b109b",
   "metadata": {},
   "source": [
    "Turn on ATAOS correction(s), without spectrograph (if the tests were skipped above). <br>\n",
    "This should not ever fail."
   ]
  },
  {
   "cell_type": "code",
   "execution_count": null,
   "id": "c170ff2b",
   "metadata": {
    "tags": []
   },
   "outputs": [],
   "source": [
    "cmd = await atcs.rem.ataos.cmd_enableCorrection.set_start(m1=True, hexapod=True, atspectrograph=with_latiss)\n",
    "cmd_time = check_evt_time(cmd)\n",
    "logger.info(f'ATAOS corrections enabled -- {cmd.result} at {cmd_time} UT')"
   ]
  },
  {
   "cell_type": "markdown",
   "id": "294e5f91",
   "metadata": {},
   "source": [
    "## Start Telescope testing"
   ]
  },
  {
   "cell_type": "markdown",
   "id": "a0631baa",
   "metadata": {},
   "source": [
    "Turn off dome following"
   ]
  },
  {
   "cell_type": "code",
   "execution_count": null,
   "id": "7761429f",
   "metadata": {
    "execution": {
     "iopub.execute_input": "2023-04-27T17:00:22.522720Z",
     "iopub.status.busy": "2023-04-27T17:00:22.522376Z",
     "iopub.status.idle": "2023-04-27T17:00:22.526874Z",
     "shell.execute_reply": "2023-04-27T17:00:22.526399Z",
     "shell.execute_reply.started": "2023-04-27T17:00:22.522703Z"
    },
    "tags": []
   },
   "outputs": [],
   "source": [
    "await atcs.disable_dome_following()"
   ]
  },
  {
   "cell_type": "markdown",
   "id": "56aa867e",
   "metadata": {},
   "source": [
    "### Test Point AzEl"
   ]
  },
  {
   "cell_type": "code",
   "execution_count": null,
   "id": "0f056863",
   "metadata": {
    "tags": []
   },
   "outputs": [],
   "source": [
    "start_az=0.0\n",
    "start_el=80.0\n",
    "start_rot=0\n",
    "await atcs.point_azel(az=start_az, el=start_el, rot_tel=start_rot)"
   ]
  },
  {
   "cell_type": "code",
   "execution_count": null,
   "id": "3ea5225b",
   "metadata": {
    "execution": {
     "iopub.execute_input": "2023-04-25T14:58:32.579154Z",
     "iopub.status.busy": "2023-04-25T14:58:32.579003Z",
     "iopub.status.idle": "2023-04-25T14:58:32.834571Z",
     "shell.execute_reply": "2023-04-25T14:58:32.833999Z",
     "shell.execute_reply.started": "2023-04-25T14:58:32.579141Z"
    }
   },
   "outputs": [],
   "source": [
    "# Stop tracking\n",
    "await atcs.stop_tracking()"
   ]
  },
  {
   "cell_type": "markdown",
   "id": "1f48857b",
   "metadata": {},
   "source": [
    "### Test Sidereal tracking\n",
    "but do so starting from the same position"
   ]
  },
  {
   "cell_type": "code",
   "execution_count": null,
   "id": "1e004cec",
   "metadata": {
    "tags": []
   },
   "outputs": [],
   "source": [
    "coord=atcs.radec_from_azel(az=start_az+5, el=start_el-5)\n",
    "await atcs.slew_icrs(coord.ra, coord.dec, rot=start_rot, stop_before_slew=False, rot_type=RotType.PhysicalSky)"
   ]
  },
  {
   "cell_type": "code",
   "execution_count": null,
   "id": "13cb5e79",
   "metadata": {},
   "outputs": [],
   "source": [
    "# Stop tracking\n",
    "await atcs.stop_tracking()"
   ]
  },
  {
   "cell_type": "markdown",
   "id": "592276fa",
   "metadata": {},
   "source": [
    "## Verify dome functions"
   ]
  },
  {
   "cell_type": "markdown",
   "id": "36fe77eb-d67c-4db6-9671-eef28a8568a2",
   "metadata": {},
   "source": [
    "Check that dome moves\n"
   ]
  },
  {
   "cell_type": "code",
   "execution_count": null,
   "id": "75afd71a-38b9-486a-b52e-abeef9f04fd1",
   "metadata": {
    "tags": []
   },
   "outputs": [],
   "source": [
    "await atcs.home_dome(force=True)"
   ]
  },
  {
   "cell_type": "code",
   "execution_count": null,
   "id": "5c826020-9102-4814-a6c4-8e7aa55b0fad",
   "metadata": {
    "execution": {
     "iopub.execute_input": "2023-05-02T16:13:55.538097Z",
     "iopub.status.busy": "2023-05-02T16:13:55.537730Z",
     "iopub.status.idle": "2023-05-02T16:14:36.211304Z",
     "shell.execute_reply": "2023-05-02T16:14:36.210761Z",
     "shell.execute_reply.started": "2023-05-02T16:13:55.538079Z"
    },
    "tags": []
   },
   "outputs": [],
   "source": [
    "await atcs.slew_dome_to(180.0)"
   ]
  },
  {
   "cell_type": "code",
   "execution_count": null,
   "id": "09fa95bb",
   "metadata": {},
   "outputs": [],
   "source": [
    "dome_az = await atcs.rem.atdome.tel_position.next(flush=True,timeout=10)\n",
    "logger.info(f'Dome currently thinks it is at an azimuth position of {dome_az.azimuthPosition} degrees.\\n Note the dome may not be properly homed at this time')"
   ]
  },
  {
   "cell_type": "code",
   "execution_count": null,
   "id": "2d2fa038-38f0-4437-8a14-bec5372542e3",
   "metadata": {},
   "outputs": [],
   "source": [
    "d_az=15\n",
    "await atcs.rem.atdome.cmd_moveAzimuth.set_start(azimuth=dome_az.azimuthPosition+d_az)\n",
    "dome_az = await atcs.rem.atdome.tel_position.next(flush=True,timeout=10)\n",
    "logger.info(f'After the commanded {d_az} degrees motion, the dome is at an azimuth position of {dome_az.azimuthPosition} degrees')"
   ]
  },
  {
   "cell_type": "markdown",
   "id": "ee6c0c67-41a2-41df-bbc8-ded1ddc2f22b",
   "metadata": {},
   "source": [
    "## Prepare telescope and dome for flatfield"
   ]
  },
  {
   "cell_type": "markdown",
   "id": "a75cb281",
   "metadata": {},
   "source": [
    "### Setup telescope to run the \"prepare for flats\" script so it maximizes the internal functionality of the script"
   ]
  },
  {
   "cell_type": "code",
   "execution_count": null,
   "id": "88c542db",
   "metadata": {
    "execution": {
     "iopub.execute_input": "2023-04-25T14:56:20.105057Z",
     "iopub.status.busy": "2023-04-25T14:56:20.104666Z",
     "iopub.status.idle": "2023-04-25T14:56:21.119092Z",
     "shell.execute_reply": "2023-04-25T14:56:21.118592Z",
     "shell.execute_reply.started": "2023-04-25T14:56:20.105035Z"
    }
   },
   "outputs": [],
   "source": [
    "# Turn off ATAOS correction(s)\n",
    "cmd = await atcs.rem.ataos.cmd_disableCorrection.set_start(m1=True, hexapod=True, atspectrograph=with_latiss)\n",
    "cmd_time = check_evt_time(cmd)\n",
    "logger.info(f'Corrections disabled -- {cmd.result} at {cmd_time} UT')"
   ]
  },
  {
   "cell_type": "code",
   "execution_count": null,
   "id": "9b67b94e-636a-4e01-9b61-a1892528a4f1",
   "metadata": {
    "tags": []
   },
   "outputs": [],
   "source": [
    "# Put mirror back on the hardpoints\n",
    "cmd = await atcs.rem.atpneumatics.cmd_m1SetPressure.set_start(pressure=0)\n",
    "m1_pressure = await atcs.rem.atpneumatics.tel_m1AirPressure.aget(timeout=5)\n",
    "logger.info(f'M1 air pressure when lowered back on hardpoints is {m1_pressure.pressure:0.0f} Pascals')"
   ]
  },
  {
   "cell_type": "code",
   "execution_count": null,
   "id": "d4f68b75",
   "metadata": {},
   "outputs": [],
   "source": [
    "# Shut off the valves so we can test the pneumatics\n",
    "cmd = await atcs.rem.atpneumatics.cmd_closeMasterAirSupply.start()\n",
    "cmd = await atcs.rem.atpneumatics.cmd_closeInstrumentAirValve.start()\n",
    "cmd_time = check_evt_time(cmd)\n",
    "logger.info(f'Valves closed -- {cmd.result} at {cmd_time} UT')"
   ]
  },
  {
   "cell_type": "code",
   "execution_count": null,
   "id": "47583b32",
   "metadata": {
    "tags": []
   },
   "outputs": [],
   "source": [
    "# Open mirror covers and vents\n",
    "# Note that there is currently a race conditions that might make this fail in the first attempt\n",
    "await atcs.open_m1_cover()\n",
    "await atcs.open_m1_vent()"
   ]
  },
  {
   "cell_type": "code",
   "execution_count": null,
   "id": "0ade8e23",
   "metadata": {
    "execution": {
     "iopub.execute_input": "2023-04-25T14:56:24.157437Z",
     "iopub.status.busy": "2023-04-25T14:56:24.157043Z",
     "iopub.status.idle": "2023-04-25T14:57:31.052083Z",
     "shell.execute_reply": "2023-04-25T14:57:31.051575Z",
     "shell.execute_reply.started": "2023-04-25T14:56:24.157419Z"
    },
    "tags": []
   },
   "outputs": [],
   "source": [
    "# Close mirror covers and vents\n",
    "await atcs.close_m1_cover()\n",
    "await atcs.close_m1_vent()"
   ]
  },
  {
   "cell_type": "markdown",
   "id": "91df4b4a",
   "metadata": {},
   "source": [
    "### Run prepare_for_flats\n",
    "First we home the dome to make sure it knows where it is."
   ]
  },
  {
   "cell_type": "code",
   "execution_count": null,
   "id": "cfb0758b-8e92-4794-981b-045d266f58f2",
   "metadata": {
    "tags": []
   },
   "outputs": [],
   "source": [
    "await atcs.home_dome()\n",
    "dome_az = await atcs.rem.atdome.tel_position.next(flush=True,timeout=10)\n",
    "logger.info(f'The dome is homed at an azimuth position of {dome_az.azimuthPosition} degrees.')"
   ]
  },
  {
   "cell_type": "code",
   "execution_count": null,
   "id": "7c77e81f",
   "metadata": {
    "tags": []
   },
   "outputs": [],
   "source": [
    "await atcs.prepare_for_flatfield()"
   ]
  },
  {
   "cell_type": "code",
   "execution_count": null,
   "id": "3541dba0-4bc2-455b-9d9e-65d0d9cb858f",
   "metadata": {},
   "outputs": [],
   "source": []
  },
  {
   "cell_type": "markdown",
   "id": "1c59f9eb-3bf2-4103-a37b-b9f076d48185",
   "metadata": {},
   "source": [
    "## Testing new dome flat illuminator"
   ]
  },
  {
   "cell_type": "code",
   "execution_count": null,
   "id": "c1691401-c076-4f54-90ec-7956efaad736",
   "metadata": {
    "tags": []
   },
   "outputs": [],
   "source": [
    "await atcs.slew_dome_to(355.0)"
   ]
  },
  {
   "cell_type": "code",
   "execution_count": null,
   "id": "87f6b838-b779-4066-b48e-254a50329606",
   "metadata": {
    "tags": []
   },
   "outputs": [],
   "source": [
    "start_az=181.7\n",
    "start_el=39.0\n",
    "start_rot=0\n",
    "await atcs.point_azel(az=start_az, el=start_el, rot_tel=start_rot)"
   ]
  },
  {
   "cell_type": "code",
   "execution_count": null,
   "id": "fe99772c-521d-463a-9d34-659ab502e1a5",
   "metadata": {
    "execution": {
     "iopub.execute_input": "2023-04-27T13:55:33.850684Z",
     "iopub.status.busy": "2023-04-27T13:55:33.850346Z",
     "iopub.status.idle": "2023-04-27T13:57:30.476905Z",
     "shell.execute_reply": "2023-04-27T13:57:30.476377Z",
     "shell.execute_reply.started": "2023-04-27T13:55:33.850666Z"
    },
    "tags": []
   },
   "outputs": [],
   "source": [
    "await latiss.take_flats(3.0, 20, filter='SDSSg_65mm', grating='empty_1')"
   ]
  },
  {
   "cell_type": "markdown",
   "id": "2bdfd62d",
   "metadata": {},
   "source": [
    "## Perform slew of Full Observatory\n",
    "This will also take test images"
   ]
  },
  {
   "cell_type": "markdown",
   "id": "b5bc6aa2",
   "metadata": {},
   "source": [
    "Now close the mirror cover just to keep things safe - this will move the telescope to a higher position (El~70)"
   ]
  },
  {
   "cell_type": "code",
   "execution_count": null,
   "id": "6d44a40a",
   "metadata": {
    "tags": []
   },
   "outputs": [],
   "source": [
    "await atcs.close_m1_cover()\n",
    "await atcs.close_m1_vent()"
   ]
  },
  {
   "cell_type": "markdown",
   "id": "434e8cef",
   "metadata": {},
   "source": [
    "Turn on dome following which will align the dome with the telescope"
   ]
  },
  {
   "cell_type": "code",
   "execution_count": null,
   "id": "32c92859",
   "metadata": {},
   "outputs": [],
   "source": [
    "await atcs.enable_dome_following()"
   ]
  },
  {
   "cell_type": "markdown",
   "id": "74bd7c7b",
   "metadata": {},
   "source": [
    "Turn on ATAOS correction(s), without spectrograph (if the tests were skipped above). <br>\n",
    "Note there is a race condition in the ATPneumatics that might result in this failing. <br>\n",
    "If it fails, you'll have to run in twice"
   ]
  },
  {
   "cell_type": "code",
   "execution_count": null,
   "id": "bd858bbd",
   "metadata": {},
   "outputs": [],
   "source": [
    "cmd = await atcs.rem.ataos.cmd_enableCorrection.set_start(m1=True, hexapod=True, atspectrograph=with_latiss)\n",
    "cmd_time = check_evt_time(cmd)\n",
    "logger.info(f'ATAOS corrections enabled -- {cmd.result} at {cmd_time} UT')"
   ]
  },
  {
   "cell_type": "markdown",
   "id": "f827e464",
   "metadata": {},
   "source": [
    "Now start tracking a siderial target, but starting from the same position. <br>\n",
    "Then take a test image engineering test frame (analogous to a science frame) and make sure it lands"
   ]
  },
  {
   "cell_type": "code",
   "execution_count": null,
   "id": "77c7ed22",
   "metadata": {
    "tags": []
   },
   "outputs": [],
   "source": [
    "start_az=45\n",
    "start_el=45\n",
    "start_rot=0\n",
    "coord=atcs.radec_from_azel(az=start_az, el=start_el)\n",
    "await atcs.slew_icrs(coord.ra, coord.dec, rot=start_rot, stop_before_slew=False, rot_type=RotType.PhysicalSky)"
   ]
  },
  {
   "cell_type": "code",
   "execution_count": null,
   "id": "7e397391",
   "metadata": {},
   "outputs": [],
   "source": [
    "if with_latiss:\n",
    "    latiss.rem.atoods.evt_imageInOODS.flush()\n",
    "    await latiss.take_engtest(2, filter=3, grating=3)\n",
    "    ingest_event = await latiss.rem.atoods.evt_imageInOODS.next(flush=False, timeout=10)\n",
    "    ingest_event_time = check_evt_time(ingest_event)\n",
    "    inst_setup = await latiss.get_setup()\n",
    "    logger.info(f'The last ingested image was \\n \\t {ingest_event.obsid} at {ingest_event_time} UT \\n \\t with {inst_setup[0]} filter and {inst_setup[1]} grating ')\n",
    "    assert ingest_event.statusCode == 0, 'Ingestion was not successful!'"
   ]
  },
  {
   "cell_type": "markdown",
   "id": "382d7995",
   "metadata": {},
   "source": [
    "Pause here and let it track for at least a couple minutes"
   ]
  },
  {
   "cell_type": "markdown",
   "id": "1ca821a3",
   "metadata": {},
   "source": [
    "### Slew to target #2\n",
    "Then take an image with a different spectrograph setup."
   ]
  },
  {
   "cell_type": "code",
   "execution_count": null,
   "id": "41bedda3",
   "metadata": {
    "tags": []
   },
   "outputs": [],
   "source": [
    "start_az=0.0\n",
    "start_el=80\n",
    "start_rot=0\n",
    "coord=atcs.radec_from_azel(az=start_az, el=start_el)\n",
    "await atcs.slew_icrs(coord.ra, coord.dec, rot=start_rot, stop_before_slew=False, rot_type=RotType.PhysicalSky)"
   ]
  },
  {
   "cell_type": "code",
   "execution_count": null,
   "id": "2b28329f",
   "metadata": {},
   "outputs": [],
   "source": [
    "if with_latiss:\n",
    "    latiss.rem.atoods.evt_imageInOODS.flush()\n",
    "    await latiss.take_engtest(2, filter=0, grating=0)\n",
    "    iingest_event = await latiss.rem.atoods.evt_imageInOODS.next(flush=False, timeout=10)\n",
    "    ingest_event_time = check_evt_time(ingest_event)\n",
    "    inst_setup = await latiss.get_setup()\n",
    "    logger.info(f'The last ingested image was \\n \\t {ingest_event.obsid} at {ingest_event_time} UT \\n \\t with {inst_setup[0]} filter and {inst_setup[1]} grating ')\n",
    "    assert ingest_event.statusCode == 0, 'Ingestion was not successful!'"
   ]
  },
  {
   "cell_type": "markdown",
   "id": "85924833-229f-4874-b124-f40ffc320bdd",
   "metadata": {},
   "source": [
    "## M3 functionality "
   ]
  },
  {
   "cell_type": "markdown",
   "id": "1342903d-bde0-44ef-9c53-244ab84e90e1",
   "metadata": {},
   "source": [
    "M3 verification is not required every time this daytime checkout is run. Check the DayTime Checkout historical data to corroborate if this section is meant to run today.  \n",
    "\n",
    "Confirm M3 mirror rotation is operational and its valve is routinely exercized by running the following commands. \n",
    "\n",
    "First, move to the zenith where the Nasmyth motor can function with ease.  "
   ]
  },
  {
   "cell_type": "code",
   "execution_count": null,
   "id": "33670114-7406-469c-8272-3ece1fce9bed",
   "metadata": {},
   "outputs": [],
   "source": [
    "start_az=0.0\n",
    "start_el=80.0\n",
    "start_rot=0\n",
    "await atcs.point_azel(az=start_az, el=start_el, rot_tel=start_rot)"
   ]
  },
  {
   "cell_type": "markdown",
   "id": "0ce20ca9-469d-4fc3-a7ab-4ec9229264fd",
   "metadata": {},
   "source": [
    "Once the enumerations have been updated in the class M3ExitPort https://github.com/lsst-ts/ts_idl/blob/2add7a88bba16f2b13448c3ea6f78ef6d988ce83/python/lsst/ts/idl/enums/ATMCS.py#L34-L37, substitute the following five cells with: \n",
    "\n",
    "`from lsst.ts.idl.enums.ATMCS import M3ExitPort`\n",
    "Move to the Nasmyth1 port\n",
    "`await atcs.rem.atmcs.cmd_setInstrumentPort.set_start(port=M3ExitPort.NASMYTH1)`\n",
    "and back to Nasmyth 2\n",
    "`await atcs.rem.atmcs.cmd_setInstrumentPort.set_start(port=M3ExitPort.NASMYTH2)`"
   ]
  },
  {
   "cell_type": "code",
   "execution_count": null,
   "id": "ce590743-6633-4a48-a963-69c065a2e543",
   "metadata": {},
   "outputs": [],
   "source": [
    "M3ExitPort = {'NASMYTH1': 1, 'NASMYTH2':2}"
   ]
  },
  {
   "cell_type": "markdown",
   "id": "71e75bf0-2157-4a65-9b18-8098a22abef9",
   "metadata": {},
   "source": [
    "Move to the Nasmyth1 port"
   ]
  },
  {
   "cell_type": "code",
   "execution_count": null,
   "id": "1a7f725c-9aed-474b-9c9b-ebe57305de5e",
   "metadata": {},
   "outputs": [],
   "source": [
    "await atcs.rem.atmcs.cmd_setInstrumentPort.set_start(port=M3ExitPort['NASMYTH1'])\n",
    "m3 = await atcs.rem.atmcs.evt_m3PortSelected.aget()\n",
    "m3_time = check_evt_time(m3)\n",
    "logger.info(f'M3 Port selected -- {m3.selected} at {m3_time} UT')"
   ]
  },
  {
   "cell_type": "markdown",
   "id": "e8cf7f7b-5f61-4dee-95e9-39c0365b84ae",
   "metadata": {},
   "source": [
    "and back to Nasmyth 2"
   ]
  },
  {
   "cell_type": "code",
   "execution_count": null,
   "id": "19069d0e-8402-4a16-9809-ad77c53cc92e",
   "metadata": {},
   "outputs": [],
   "source": [
    "await atcs.rem.atmcs.cmd_setInstrumentPort.set_start(port=M3ExitPort['NASMYTH2'])\n",
    "m3 = await atcs.rem.atmcs.evt_m3PortSelected.aget()\n",
    "m3_time = check_evt_time(m3)\n",
    "logger.info(f'M3 Port selected -- {m3.selected} at {m3_time} UT')"
   ]
  },
  {
   "cell_type": "markdown",
   "id": "a435880e",
   "metadata": {},
   "source": [
    "## Shutdown all ATCS components"
   ]
  },
  {
   "cell_type": "code",
   "execution_count": null,
   "id": "723d22b0",
   "metadata": {
    "tags": []
   },
   "outputs": [],
   "source": [
    "await atcs.shutdown()"
   ]
  },
  {
   "cell_type": "code",
   "execution_count": null,
   "id": "b4042f03-3d06-4c9a-87ab-825b3220f1cd",
   "metadata": {
    "execution": {
     "iopub.execute_input": "2023-05-02T16:38:07.611882Z",
     "iopub.status.busy": "2023-05-02T16:38:07.611508Z",
     "iopub.status.idle": "2023-05-02T16:38:09.160917Z",
     "shell.execute_reply": "2023-05-02T16:38:09.160417Z",
     "shell.execute_reply.started": "2023-05-02T16:38:07.611863Z"
    }
   },
   "outputs": [],
   "source": [
    "await atcs.standby()"
   ]
  },
  {
   "cell_type": "markdown",
   "id": "621b5407",
   "metadata": {},
   "source": [
    "## Put LATISS in standby"
   ]
  },
  {
   "cell_type": "code",
   "execution_count": null,
   "id": "80517626",
   "metadata": {
    "tags": []
   },
   "outputs": [],
   "source": [
    "await latiss.standby()"
   ]
  },
  {
   "cell_type": "markdown",
   "id": "f2427c84-de49-43ca-ae1e-3a06afbdc1fd",
   "metadata": {},
   "source": [
    "# Quick Troubleshooting"
   ]
  },
  {
   "cell_type": "markdown",
   "id": "0ba5ab6c-b5d6-45c1-a9b4-66d8f9671a08",
   "metadata": {},
   "source": [
    "## LATISS CSCs failed to transition to ENABLED state. \n",
    "The current DDS configuration results in history being lost when CSCs are restarted and/or a small network outage occurs. If this happens, then to receive the summaryState event, which is required by salobj.get_summary_state (and used extensively in the atcs), it is necessary to manually change the state of a CSC. The commands below can be used to perform this action.\n",
    "\n",
    "A new DDS configuration is now ready to be tested and will hopefully be released in the near future."
   ]
  },
  {
   "cell_type": "markdown",
   "id": "5233ad88-d7eb-497c-8119-aabb86f4e37c",
   "metadata": {},
   "source": [
    "### ATOODs didn't come up"
   ]
  },
  {
   "cell_type": "code",
   "execution_count": null,
   "id": "398422df-64ad-4da9-80c5-df4e02626141",
   "metadata": {},
   "outputs": [],
   "source": [
    "tmp=await latiss.rem.atoods.cmd_start.set_start()\n",
    "print(tmp)"
   ]
  },
  {
   "cell_type": "code",
   "execution_count": null,
   "id": "728bcdae-3e1e-4651-9519-50ec1fde129b",
   "metadata": {
    "tags": []
   },
   "outputs": [],
   "source": [
    "await salobj.set_summary_state(latiss.rem.atoods, salobj.State.STANDBY)"
   ]
  },
  {
   "cell_type": "code",
   "execution_count": null,
   "id": "aa223e1a-5501-4489-ae3e-f2b8ba523153",
   "metadata": {
    "tags": []
   },
   "outputs": [],
   "source": [
    "await salobj.set_summary_state(latiss.rem.atoods, salobj.State.ENABLED)"
   ]
  },
  {
   "cell_type": "markdown",
   "id": "1475a0f5-49a8-4727-aa9e-520301f9ee53",
   "metadata": {},
   "source": [
    "### ATCamera didn't come up"
   ]
  },
  {
   "cell_type": "code",
   "execution_count": null,
   "id": "36387d0e-d027-4872-a313-c3bccf63af35",
   "metadata": {
    "tags": []
   },
   "outputs": [],
   "source": [
    "tmp=await latiss.rem.atcamera.cmd_start.set_start(timeout=10)\n",
    "print(tmp)"
   ]
  },
  {
   "cell_type": "code",
   "execution_count": null,
   "id": "34ce130f-e542-4d19-9aea-55aa04f929d6",
   "metadata": {
    "tags": []
   },
   "outputs": [],
   "source": [
    "await salobj.set_summary_state(latiss.rem.atcamera, salobj.State.STANDBY)"
   ]
  },
  {
   "cell_type": "code",
   "execution_count": null,
   "id": "b255cf42-0d89-4de9-ba51-debe4ff32ca5",
   "metadata": {
    "tags": []
   },
   "outputs": [],
   "source": [
    "await salobj.set_summary_state(latiss.rem.atcamera, salobj.State.ENABLED)"
   ]
  },
  {
   "cell_type": "markdown",
   "id": "555017ce-70b9-4452-ac33-bad347d263d8",
   "metadata": {},
   "source": [
    "## ATCS CSCs failed to transition to ENABLED state. "
   ]
  },
  {
   "cell_type": "markdown",
   "id": "879c2bff-8434-4fbf-b0be-d1c202d29659",
   "metadata": {},
   "source": [
    "### ATHexapod "
   ]
  },
  {
   "cell_type": "code",
   "execution_count": null,
   "id": "3640d622-8a81-4aac-9779-0ae167b01404",
   "metadata": {
    "tags": []
   },
   "outputs": [],
   "source": [
    "tmp=await atcs.rem.athexapod.cmd_start.set_start(timeout=10)\n",
    "print(tmp)"
   ]
  },
  {
   "cell_type": "code",
   "execution_count": null,
   "id": "9eba1435-7d92-422e-9c33-1ae4fe8edfb1",
   "metadata": {
    "tags": []
   },
   "outputs": [],
   "source": [
    "await salobj.set_summary_state(atcs.rem.athexapod, salobj.State.ENABLED)"
   ]
  },
  {
   "cell_type": "markdown",
   "id": "6c72cd53-fe30-491b-8033-3b37d2c71bfd",
   "metadata": {},
   "source": [
    "### ATPneumatics"
   ]
  },
  {
   "cell_type": "code",
   "execution_count": null,
   "id": "9832da12-1188-4a7d-a283-f758ee8a3098",
   "metadata": {
    "tags": []
   },
   "outputs": [],
   "source": [
    "tmp=await atcs.rem.atpneumatics.cmd_start.set_start(timeout=10)\n",
    "print(tmp)"
   ]
  },
  {
   "cell_type": "code",
   "execution_count": null,
   "id": "b3979e9d-30f6-44f1-8d8f-9725aa645167",
   "metadata": {
    "tags": []
   },
   "outputs": [],
   "source": [
    "await salobj.set_summary_state(atcs.rem.atpneumatics, salobj.State.ENABLED)"
   ]
  },
  {
   "cell_type": "markdown",
   "id": "06ff0cce-8c35-4a8e-a35d-f162e53e0f2a",
   "metadata": {},
   "source": [
    "### ATPtg "
   ]
  },
  {
   "cell_type": "code",
   "execution_count": null,
   "id": "9049a9fe-0b39-4b77-a9e3-683f7a06a037",
   "metadata": {
    "tags": []
   },
   "outputs": [],
   "source": [
    "tmp=await atcs.rem.atptg.cmd_start.set_start(timeout=10)\n",
    "print(tmp)"
   ]
  },
  {
   "cell_type": "code",
   "execution_count": null,
   "id": "7da2c93c-dd9e-44ee-b261-fe9362aab128",
   "metadata": {
    "tags": []
   },
   "outputs": [],
   "source": [
    "await salobj.set_summary_state(atcs.rem.atptg, salobj.State.STANDBY)"
   ]
  },
  {
   "cell_type": "code",
   "execution_count": null,
   "id": "712b2813-5454-4e10-b4dd-cdc6531b5be2",
   "metadata": {
    "tags": []
   },
   "outputs": [],
   "source": [
    "await salobj.set_summary_state(atcs.rem.atptg, salobj.State.ENABLED)"
   ]
  },
  {
   "cell_type": "code",
   "execution_count": null,
   "id": "b8cc4e67-25d5-4796-9472-2dc2cd3f5520",
   "metadata": {},
   "outputs": [],
   "source": [
    "from lsst.ts.observatory.control.maintel.mtcs import MTCS"
   ]
  },
  {
   "cell_type": "code",
   "execution_count": null,
   "id": "eb809e0c-4658-4d61-9bd2-5be197bdc491",
   "metadata": {
    "tags": []
   },
   "outputs": [],
   "source": [
    "mtcs = MTCS(domain)"
   ]
  },
  {
   "cell_type": "code",
   "execution_count": null,
   "id": "29ed6b48-8eb5-483b-af82-34f6f3227022",
   "metadata": {
    "tags": []
   },
   "outputs": [],
   "source": [
    "from astropy.coordinates import AltAz, ICRS, EarthLocation, Angle, FK5, SkyCoord\n",
    "import astropy.units as u\n",
    "offsetAz = -0.11711\n",
    "offsetEl = 0.47175\n",
    "targetRa = 222.71964\n",
    "targetDec = -16.04178\n",
    "azEl = mtcs.azel_from_radec(Angle(targetRa*u.deg), Angle(targetDec*u.deg))\n",
    "coord = mtcs.radec_from_azel(az=(azEl.az.deg + offsetAz), el=(azEl.alt.deg + offsetEl))\n",
    "print(coord)\n",
    "#await mtcs.slew_icrs(coord.ra, coord.dec)"
   ]
  },
  {
   "cell_type": "code",
   "execution_count": null,
   "id": "e4868b46-80e7-4937-9b2f-071e14e4b373",
   "metadata": {
    "tags": []
   },
   "outputs": [],
   "source": [
    "offsetAz = -0.11711 * 3600.0\n",
    "offsetEl = 0.47175 * 3600.0\n",
    "targetRa = 222.71964\n",
    "targetDec = -16.04178\n",
    "await mtcs.slew_icrs(targetRa, targetDec)\n",
    "await mtcs.offset_azel(offsetAz, offsetEl)"
   ]
  },
  {
   "cell_type": "code",
   "execution_count": null,
   "id": "7357208e-af97-4f5a-a9a8-f83f84a1816a",
   "metadata": {
    "tags": []
   },
   "outputs": [],
   "source": [
    "atcs.azel_from_radec?"
   ]
  },
  {
   "cell_type": "code",
   "execution_count": null,
   "id": "c0950b3c-0941-49dc-918f-4f52c8431d5c",
   "metadata": {},
   "outputs": [],
   "source": [
    "coord=atcs.radec_from_azel(az=start_az+5, el=start_el-5)\n",
    "await atcs.slew_icrs(coord.ra, coord.dec, rot=start_rot, stop_before_slew=False, rot_type=RotType.PhysicalSky)"
   ]
  },
  {
   "cell_type": "markdown",
   "id": "4f0a802b-fac5-4b3c-bbc8-4f57c4f00b46",
   "metadata": {},
   "source": [
    "## Running PTC to check NoRG"
   ]
  },
  {
   "cell_type": "code",
   "execution_count": null,
   "id": "3a48dd97-fb84-4fbc-8aaf-d3c8737de13c",
   "metadata": {},
   "outputs": [],
   "source": []
  },
  {
   "cell_type": "code",
   "execution_count": null,
   "id": "f4d558a1-5e60-4630-9779-9026851d1b47",
   "metadata": {
    "tags": []
   },
   "outputs": [],
   "source": [
    "await latiss.take_bias(nbias=20)"
   ]
  },
  {
   "cell_type": "code",
   "execution_count": null,
   "id": "e05a1ac5-73c2-4792-904d-547600256f49",
   "metadata": {
    "tags": []
   },
   "outputs": [],
   "source": [
    "await latiss.take_darks(30.0, ndarks=20)"
   ]
  },
  {
   "cell_type": "code",
   "execution_count": null,
   "id": "83a020a5-d736-46e3-ae71-d08e0649cb9c",
   "metadata": {
    "tags": []
   },
   "outputs": [],
   "source": [
    "await latiss.setup_instrument(filter='empty_1', grating='empty_1')"
   ]
  },
  {
   "cell_type": "code",
   "execution_count": null,
   "id": "f5ef377a-7ce5-40fd-a391-904d18c5720e",
   "metadata": {
    "tags": []
   },
   "outputs": [],
   "source": [
    "await latiss.take_flats(10.0, nflats=1)"
   ]
  },
  {
   "cell_type": "code",
   "execution_count": null,
   "id": "c38e270d-0bbc-4401-ad7d-a8f313c577a6",
   "metadata": {
    "tags": []
   },
   "outputs": [],
   "source": [
    "# Now take PTC sequence\n",
    "# This is with V26\n",
    "# SeqNums 93 - 192\n",
    "for i in range(50):\n",
    "    expTime = 0.2 * (i + 1)\n",
    "    await latiss.take_flats(expTime, nflats=2)\n",
    "    "
   ]
  },
  {
   "cell_type": "code",
   "execution_count": null,
   "id": "e919e3e5-149f-4ac7-9e22-c06ea5877305",
   "metadata": {},
   "outputs": [],
   "source": [
    "# Now take PTC sequence\n",
    "# This is with V26_no_RG\n",
    "# SeqNums 213 - 312 \n",
    "for i in range(50):\n",
    "    expTime = 0.2 * (i + 1)\n",
    "    await latiss.take_flats(expTime, nflats=2)"
   ]
  },
  {
   "cell_type": "code",
   "execution_count": null,
   "id": "a803a9a7-0993-473c-8532-94ddf8b9485a",
   "metadata": {},
   "outputs": [],
   "source": []
  }
 ],
 "metadata": {
  "kernelspec": {
   "display_name": "LSST",
   "language": "python",
   "name": "lsst"
  },
  "language_info": {
   "codemirror_mode": {
    "name": "ipython",
    "version": 3
   },
   "file_extension": ".py",
   "mimetype": "text/x-python",
   "name": "python",
   "nbconvert_exporter": "python",
   "pygments_lexer": "ipython3",
   "version": "3.10.9"
  }
 },
 "nbformat": 4,
 "nbformat_minor": 5
}
