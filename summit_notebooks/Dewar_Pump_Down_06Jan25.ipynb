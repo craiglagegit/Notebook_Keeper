{
 "cells": [
  {
   "cell_type": "code",
   "execution_count": null,
   "id": "accaad16-76d9-4da2-bd3d-b9e9700e58b5",
   "metadata": {
    "execution": {
     "iopub.execute_input": "2025-01-06T19:46:47.997040Z",
     "iopub.status.busy": "2025-01-06T19:46:47.996901Z",
     "iopub.status.idle": "2025-01-06T19:46:48.332755Z",
     "shell.execute_reply": "2025-01-06T19:46:48.332225Z",
     "shell.execute_reply.started": "2025-01-06T19:46:47.997023Z"
    }
   },
   "outputs": [],
   "source": [
    "import numpy as np\n",
    "import matplotlib.pyplot as plt"
   ]
  },
  {
   "cell_type": "code",
   "execution_count": null,
   "id": "8f31147f-7170-48cc-97ba-02c0d1e4cc34",
   "metadata": {
    "execution": {
     "iopub.execute_input": "2025-01-06T19:46:48.336989Z",
     "iopub.status.busy": "2025-01-06T19:46:48.336853Z",
     "iopub.status.idle": "2025-01-06T19:46:48.339688Z",
     "shell.execute_reply": "2025-01-06T19:46:48.339262Z",
     "shell.execute_reply.started": "2025-01-06T19:46:48.336973Z"
    }
   },
   "outputs": [],
   "source": [
    "pressures = np.array([1.49E-4, 9.73E-5, 5.82E-5, 3.02E-5, 2.3E-5, 1.87E-5, 1.62E-5, 1.46E-5])\n",
    "times = np.array([0.0, 10.0, 50, 120, 180, 240, 300, 360]) # T=0 = 13:30"
   ]
  },
  {
   "cell_type": "code",
   "execution_count": null,
   "id": "474f8f3a-8d5b-44f2-a207-97fcbede4e7a",
   "metadata": {
    "execution": {
     "iopub.execute_input": "2025-01-06T19:46:48.341575Z",
     "iopub.status.busy": "2025-01-06T19:46:48.341304Z",
     "iopub.status.idle": "2025-01-06T19:46:48.344111Z",
     "shell.execute_reply": "2025-01-06T19:46:48.343720Z",
     "shell.execute_reply.started": "2025-01-06T19:46:48.341559Z"
    }
   },
   "outputs": [],
   "source": [
    "fit = np.polyfit(times[-3:-1], np.log10(pressures[-3:-1]), 1)"
   ]
  },
  {
   "cell_type": "code",
   "execution_count": null,
   "id": "119ea23a-0ca8-4a89-aaee-b0a26ba43968",
   "metadata": {
    "execution": {
     "iopub.execute_input": "2025-01-06T19:46:48.345818Z",
     "iopub.status.busy": "2025-01-06T19:46:48.345687Z",
     "iopub.status.idle": "2025-01-06T19:46:48.349034Z",
     "shell.execute_reply": "2025-01-06T19:46:48.348579Z",
     "shell.execute_reply.started": "2025-01-06T19:46:48.345803Z"
    }
   },
   "outputs": [],
   "source": [
    "fit"
   ]
  },
  {
   "cell_type": "code",
   "execution_count": null,
   "id": "00721b78-ce90-48a1-be10-b5c1d1df0d5e",
   "metadata": {
    "execution": {
     "iopub.execute_input": "2025-01-06T19:46:48.350821Z",
     "iopub.status.busy": "2025-01-06T19:46:48.350679Z",
     "iopub.status.idle": "2025-01-06T19:46:48.353250Z",
     "shell.execute_reply": "2025-01-06T19:46:48.352848Z",
     "shell.execute_reply.started": "2025-01-06T19:46:48.350806Z"
    }
   },
   "outputs": [],
   "source": [
    "xs = np.linspace(-10, 1400, 100)\n",
    "ys = xs * fit[0] + fit[1]"
   ]
  },
  {
   "cell_type": "code",
   "execution_count": null,
   "id": "2e8b18ae-0077-49bf-aaa9-495cd2f8b4aa",
   "metadata": {
    "execution": {
     "iopub.execute_input": "2025-01-06T19:46:48.355090Z",
     "iopub.status.busy": "2025-01-06T19:46:48.354867Z",
     "iopub.status.idle": "2025-01-06T19:46:48.483145Z",
     "shell.execute_reply": "2025-01-06T19:46:48.482717Z",
     "shell.execute_reply.started": "2025-01-06T19:46:48.355077Z"
    }
   },
   "outputs": [],
   "source": [
    "plt.plot(xs, ys, color='red', ls='--')\n",
    "plt.scatter(times, np.log10(pressures), marker='x', color='black', s=100)\n",
    "plt.axhline(np.log10(2E-6), color='black', ls='--')\n",
    "plt.xlabel(\"Time (minutes)\")\n",
    "plt.ylabel(\"Log10 Pressure (torr)\")\n",
    "plt.title(\"AuxTel Dewar pump-down - 06Jan25\")"
   ]
  },
  {
   "cell_type": "code",
   "execution_count": null,
   "id": "6ca1f2f9-23c5-4608-8440-784ea8a89dfe",
   "metadata": {
    "execution": {
     "iopub.execute_input": "2025-02-03T13:24:51.247352Z",
     "iopub.status.busy": "2025-02-03T13:24:51.246860Z",
     "iopub.status.idle": "2025-02-03T13:24:52.046168Z",
     "shell.execute_reply": "2025-02-03T13:24:52.045638Z",
     "shell.execute_reply.started": "2025-02-03T13:24:51.247332Z"
    }
   },
   "outputs": [],
   "source": [
    "import sys, time, os, asyncio, glob\n",
    "import numpy as np\n",
    "import pandas as pd\n",
    "import matplotlib.pyplot as plt\n",
    "from astropy.time import Time, TimeDelta\n",
    "from lsst_efd_client import EfdClient"
   ]
  },
  {
   "cell_type": "code",
   "execution_count": null,
   "id": "48873431-fe10-4e3c-84b2-6a17ef00f4a5",
   "metadata": {
    "execution": {
     "iopub.execute_input": "2025-02-03T13:24:54.066564Z",
     "iopub.status.busy": "2025-02-03T13:24:54.066095Z",
     "iopub.status.idle": "2025-02-03T13:24:55.846232Z",
     "shell.execute_reply": "2025-02-03T13:24:55.845476Z",
     "shell.execute_reply.started": "2025-02-03T13:24:54.066544Z"
    }
   },
   "outputs": [],
   "source": [
    "client = EfdClient('summit_efd') # 'usdf_efd' at USDF"
   ]
  },
  {
   "cell_type": "code",
   "execution_count": null,
   "id": "d318e924-c598-4032-8b34-203eb39ff3c5",
   "metadata": {
    "execution": {
     "iopub.execute_input": "2025-01-06T20:52:58.558490Z",
     "iopub.status.busy": "2025-01-06T20:52:58.558188Z",
     "iopub.status.idle": "2025-01-06T20:52:58.635111Z",
     "shell.execute_reply": "2025-01-06T20:52:58.634662Z",
     "shell.execute_reply.started": "2025-01-06T20:52:58.558470Z"
    }
   },
   "outputs": [],
   "source": [
    "start = Time(\"2025-01-06 13:30:00Z\", scale='utc')\n",
    "end = Time.now()\n",
    "plotEnd = Time(\"2025-01-07 14:30:00Z\", scale='utc')\n",
    "vac = await client.select_time_series(\"lsst.sal.ATCamera.vacuum\", \\\n",
    "                                            ['*'], \\\n",
    "                                             start, end)\n"
   ]
  },
  {
   "cell_type": "code",
   "execution_count": null,
   "id": "a3b6aaa0-6778-4ce2-9ced-bb507de8b196",
   "metadata": {
    "execution": {
     "iopub.execute_input": "2025-01-06T20:52:59.101299Z",
     "iopub.status.busy": "2025-01-06T20:52:59.100773Z",
     "iopub.status.idle": "2025-01-06T20:52:59.105690Z",
     "shell.execute_reply": "2025-01-06T20:52:59.105197Z",
     "shell.execute_reply.started": "2025-01-06T20:52:59.101281Z"
    }
   },
   "outputs": [],
   "source": [
    "times = vac['private_efdStamp'].values\n",
    "t0 = times[0]\n",
    "fit = np.polyfit(times[-100:-1], np.log10(vac['vacuum'].values[-100:-1]), 1)\n",
    "print(fit)\n",
    "xs = np.linspace(t0, plotEnd.unix_tai, 500)\n",
    "ys = xs * fit[0] + fit[1]\n"
   ]
  },
  {
   "cell_type": "code",
   "execution_count": null,
   "id": "f5c5ab7e-b6be-41d6-beb6-5a60423b03a4",
   "metadata": {
    "execution": {
     "iopub.execute_input": "2025-01-06T20:52:59.919610Z",
     "iopub.status.busy": "2025-01-06T20:52:59.919286Z",
     "iopub.status.idle": "2025-01-06T20:52:59.928794Z",
     "shell.execute_reply": "2025-01-06T20:52:59.928243Z",
     "shell.execute_reply.started": "2025-01-06T20:52:59.919589Z"
    }
   },
   "outputs": [],
   "source": [
    "firstTick = Time(\"2025-01-06 14:00:00Z\", scale='utc').unix_tai\n",
    "xticks = []\n",
    "xticklabels = []\n",
    "for i in range(13):\n",
    "    tick = firstTick + i * 7200\n",
    "    label = Time(tick, scale='utc', format='unix_tai').isot\n",
    "    label = label.split('-')[1:3]\n",
    "    label = label[0]+'-'+label[1].split(':')[0]\n",
    "    xticks.append(tick)\n",
    "    xticklabels.append(label)\n"
   ]
  },
  {
   "cell_type": "code",
   "execution_count": null,
   "id": "eeaf88bc-ab67-4085-b8d4-c726ab83ab30",
   "metadata": {
    "execution": {
     "iopub.execute_input": "2025-01-06T20:53:00.694437Z",
     "iopub.status.busy": "2025-01-06T20:53:00.694152Z",
     "iopub.status.idle": "2025-01-06T20:53:00.866829Z",
     "shell.execute_reply": "2025-01-06T20:53:00.866350Z",
     "shell.execute_reply.started": "2025-01-06T20:53:00.694411Z"
    }
   },
   "outputs": [],
   "source": [
    "fig, ax = plt.subplots(1,1)\n",
    "ax.plot(vac['private_efdStamp'].values, np.log10(vac['vacuum'].values), lw=4)\n",
    "#np.log10(vac['vacuum']).plot()\n",
    "ax.set_ylim(-6, -4)\n",
    "#plt.xlim(start.isot, plotEnd.isot)\n",
    "ax.plot(xs, ys, color='red', ls='--')\n",
    "ax.axhline(-5.0, label='1E-5', ls='--', color='blue')\n",
    "ax.axhline(np.log10(5E-6), label='5E-6', ls='--', color='cyan')\n",
    "ax.axhline(np.log10(2E-6), label=2E-6, ls='--', color='green')\n",
    "ax.axvline(Time(\"2025-01-07 11:30:00Z\", scale='utc').unix_tai, color='black',ls='--')\n",
    "ax.set_xticks(xticks)\n",
    "ax.set_xticklabels(xticklabels, rotation=30)\n",
    "ax.legend(loc='upper center')  \n",
    "ax.set_xlabel(\"Time (UTC)\")\n",
    "ax.set_ylabel(\"Log10 Pressure (Torr)\")\n",
    "ax.set_title(\"AuxTel Dewar pump-down - 06Jan25\")\n",
    "print(vac['vacuum'].values[-1])"
   ]
  },
  {
   "cell_type": "code",
   "execution_count": null,
   "id": "e6d5f734-ffb5-48e3-b434-954bf25d8b39",
   "metadata": {
    "execution": {
     "iopub.execute_input": "2025-02-03T18:34:11.811410Z",
     "iopub.status.busy": "2025-02-03T18:34:11.811086Z",
     "iopub.status.idle": "2025-02-03T18:34:11.992269Z",
     "shell.execute_reply": "2025-02-03T18:34:11.991855Z",
     "shell.execute_reply.started": "2025-02-03T18:34:11.811390Z"
    }
   },
   "outputs": [],
   "source": [
    "start = Time(\"2025-02-03 13:15:00Z\", scale='utc')\n",
    "end = Time.now()\n",
    "plotEnd = Time(\"2025-02-03 23:00:00Z\", scale='utc')\n",
    "vac = await client.select_time_series(\"lsst.sal.ATCamera.vacuum\", \\\n",
    "                                            ['*'], \\\n",
    "                                             start, end)\n",
    "len(vac)"
   ]
  },
  {
   "cell_type": "code",
   "execution_count": null,
   "id": "3a769cb0-0feb-4628-9391-cace140759b5",
   "metadata": {
    "execution": {
     "iopub.execute_input": "2025-02-03T18:34:13.002287Z",
     "iopub.status.busy": "2025-02-03T18:34:13.002019Z",
     "iopub.status.idle": "2025-02-03T18:34:13.006806Z",
     "shell.execute_reply": "2025-02-03T18:34:13.006390Z",
     "shell.execute_reply.started": "2025-02-03T18:34:13.002268Z"
    }
   },
   "outputs": [],
   "source": [
    "times = vac['private_efdStamp'].values\n",
    "t0 = times[0]\n",
    "fit = np.polyfit(times[-100:-1], vac['tempCCD'].values[-100:-1], 1)\n",
    "print(fit)\n",
    "xs = np.linspace(t0, plotEnd.unix_tai, 500)\n",
    "ys = xs * fit[0] + fit[1]\n"
   ]
  },
  {
   "cell_type": "code",
   "execution_count": null,
   "id": "35d4eccc-6bfe-4a7b-bbf1-0fff48ad63be",
   "metadata": {
    "execution": {
     "iopub.execute_input": "2025-02-03T18:34:13.978015Z",
     "iopub.status.busy": "2025-02-03T18:34:13.977729Z",
     "iopub.status.idle": "2025-02-03T18:34:13.987553Z",
     "shell.execute_reply": "2025-02-03T18:34:13.987138Z",
     "shell.execute_reply.started": "2025-02-03T18:34:13.977997Z"
    }
   },
   "outputs": [],
   "source": [
    "firstTick = Time(\"2025-02-03 13:00:00Z\", scale='utc').unix_tai\n",
    "xticks = []\n",
    "xticklabels = []\n",
    "for i in range(13):\n",
    "    tick = firstTick + i * 3600\n",
    "    label = Time(tick, scale='utc', format='unix_tai').isot\n",
    "    label = label.split('-')[1:3]\n",
    "    label = label[0]+'-'+label[1].split(':')[0]\n",
    "    xticks.append(tick)\n",
    "    xticklabels.append(label)\n"
   ]
  },
  {
   "cell_type": "code",
   "execution_count": null,
   "id": "1fc8405a-e349-4137-a273-252124df8042",
   "metadata": {
    "execution": {
     "iopub.execute_input": "2025-02-03T18:34:14.654672Z",
     "iopub.status.busy": "2025-02-03T18:34:14.654391Z",
     "iopub.status.idle": "2025-02-03T18:34:14.801425Z",
     "shell.execute_reply": "2025-02-03T18:34:14.800893Z",
     "shell.execute_reply.started": "2025-02-03T18:34:14.654653Z"
    }
   },
   "outputs": [],
   "source": [
    "fig, ax = plt.subplots(1,1)\n",
    "ax.plot(vac['private_efdStamp'].values, vac['tempCCD'].values, lw=4)\n",
    "#np.log10(vac['vacuum']).plot()\n",
    "ax.set_ylim(-120, 30)\n",
    "ax.plot(xs, ys, color='red', ls='--')\n",
    "ax.axhline(10.0,  ls='--', color='blue')\n",
    "ax.axvline(Time(\"2025-02-03 19:00:00Z\", scale='utc').unix_tai, color='black',ls='--')\n",
    "ax.set_xticks(xticks)\n",
    "ax.set_xticklabels(xticklabels, rotation=30)\n",
    "#ax.legend(loc='upper center')  \n",
    "ax.set_xlabel(\"Time (UTC)\")\n",
    "ax.set_ylabel(\"TempCCD (C)\")\n",
    "ax.set_title(\"AuxTel warm-up - 03Feb25\")\n"
   ]
  },
  {
   "cell_type": "code",
   "execution_count": null,
   "id": "fcc26a6a-485b-4365-8aa3-1a0b4a68eb52",
   "metadata": {
    "execution": {
     "iopub.execute_input": "2025-02-03T14:12:06.309952Z",
     "iopub.status.busy": "2025-02-03T14:12:06.309615Z",
     "iopub.status.idle": "2025-02-03T14:12:06.313699Z",
     "shell.execute_reply": "2025-02-03T14:12:06.313172Z",
     "shell.execute_reply.started": "2025-02-03T14:12:06.309925Z"
    }
   },
   "outputs": [],
   "source": [
    "times[7] - times[6]"
   ]
  },
  {
   "cell_type": "code",
   "execution_count": null,
   "id": "718e69dd-fcc7-40c0-b3c3-eeda056c9716",
   "metadata": {
    "execution": {
     "iopub.execute_input": "2025-02-03T14:14:31.003443Z",
     "iopub.status.busy": "2025-02-03T14:14:31.003146Z",
     "iopub.status.idle": "2025-02-03T14:14:31.007341Z",
     "shell.execute_reply": "2025-02-03T14:14:31.006810Z",
     "shell.execute_reply.started": "2025-02-03T14:14:31.003425Z"
    }
   },
   "outputs": [],
   "source": [
    "3.8E-3*3600"
   ]
  },
  {
   "cell_type": "code",
   "execution_count": null,
   "id": "6915ff04-64fe-424f-a215-23a22a8147cd",
   "metadata": {},
   "outputs": [],
   "source": []
  }
 ],
 "metadata": {
  "kernelspec": {
   "display_name": "LSST",
   "language": "python",
   "name": "lsst"
  },
  "language_info": {
   "codemirror_mode": {
    "name": "ipython",
    "version": 3
   },
   "file_extension": ".py",
   "mimetype": "text/x-python",
   "name": "python",
   "nbconvert_exporter": "python",
   "pygments_lexer": "ipython3",
   "version": "3.11.11"
  }
 },
 "nbformat": 4,
 "nbformat_minor": 5
}
