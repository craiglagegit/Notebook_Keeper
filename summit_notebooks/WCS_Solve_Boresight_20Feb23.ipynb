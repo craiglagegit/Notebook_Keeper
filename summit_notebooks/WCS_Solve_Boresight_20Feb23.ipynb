{
 "cells": [
  {
   "cell_type": "markdown",
   "metadata": {},
   "source": [
    "## StarTracker WCS solutions - 20-Feb-23\n",
    "\n",
    "Craig Lage - Using the boresights as the reported location"
   ]
  },
  {
   "cell_type": "code",
   "execution_count": null,
   "metadata": {
    "execution": {
     "iopub.execute_input": "2023-03-17T15:48:10.382182Z",
     "iopub.status.busy": "2023-03-17T15:48:10.381734Z",
     "iopub.status.idle": "2023-03-17T15:48:12.690866Z",
     "shell.execute_reply": "2023-03-17T15:48:12.690283Z",
     "shell.execute_reply.started": "2023-03-17T15:48:10.382137Z"
    },
    "tags": []
   },
   "outputs": [],
   "source": [
    "import sys, time, os, asyncio, glob\n",
    "from datetime import datetime\n",
    "import numpy as np\n",
    "import matplotlib.pyplot as plt\n",
    "import astropy.io.fits as pf\n",
    "from astropy.time import Time, TimeDelta\n",
    "from astropy.coordinates import AltAz, ICRS, EarthLocation, Angle, FK5, SkyCoord\n",
    "import astropy.units as u\n",
    "from lsst.obs.lsst.translators.latiss import AUXTEL_LOCATION\n",
    "from lsst.obs.lsst.translators.lsst import SIMONYI_LOCATION\n",
    "\n",
    "import lsst.afw.image as afwImage\n",
    "from lsst.summit.utils.utils import starTrackerFileToExposure\n",
    "from lsst.summit.utils.astrometry.anet import CommandLineSolver\n",
    "from lsst.summit.utils.astrometry.utils import runCharactierizeImage, filterSourceCatOnBrightest"
   ]
  },
  {
   "cell_type": "code",
   "execution_count": null,
   "metadata": {
    "execution": {
     "iopub.execute_input": "2023-03-17T15:48:12.697733Z",
     "iopub.status.busy": "2023-03-17T15:48:12.697593Z",
     "iopub.status.idle": "2023-03-17T15:48:12.700673Z",
     "shell.execute_reply": "2023-03-17T15:48:12.700226Z",
     "shell.execute_reply.started": "2023-03-17T15:48:12.697719Z"
    },
    "tags": []
   },
   "outputs": [],
   "source": [
    "solver = CommandLineSolver('/project/shared/ref_cats/astrometry_net/')"
   ]
  },
  {
   "cell_type": "code",
   "execution_count": null,
   "metadata": {
    "execution": {
     "iopub.execute_input": "2023-03-17T15:48:15.618451Z",
     "iopub.status.busy": "2023-03-17T15:48:15.618166Z",
     "iopub.status.idle": "2023-03-17T15:48:24.520578Z",
     "shell.execute_reply": "2023-03-17T15:48:24.520126Z",
     "shell.execute_reply.started": "2023-03-17T15:48:15.618434Z"
    },
    "tags": []
   },
   "outputs": [],
   "source": [
    "cameras = [['Wide', 101], ['Narrow', 102]]\n",
    "dates = [20230307]\n",
    "for [camera, num] in cameras:\n",
    "    for date in dates:\n",
    "        year = int(date/10000)\n",
    "        month = int((date - 10000 * year)/100)\n",
    "        day = int((date - 10000 * year - 100 * month))\n",
    "        path = f\"/project/GenericCamera/{num}/{year}/{month:02}/{day:02}/\"\n",
    "        outfile = open(f\"/scratch/cslage/starTracker/StarTracker_Summary_Boresight_{camera}_{date}.txt\", \"w\")\n",
    "        outfile.write(\"SeqNum\\tRA(header)\\tDec(header)\\tEl(header)\\tAz(header)\\tRA(Solve)\\tDec(Solve)\\tDeltaRA\\tDeltaDec\\tEl(solve)\\tAz(solve)\\tDeltaEl\\tDeltaAz\\tRot\\tRMS(asec)\\n\")\n",
    "        for seqNum in range(11,12):\n",
    "            try:    \n",
    "                filename = path + f\"GC{num}_O_{date}_{seqNum:06}.fits\"\n",
    "                exp = starTrackerFileToExposure(filename)\n",
    "                results = runCharactierizeImage(exp, 5, 25)\n",
    "                filteredCat = filterSourceCatOnBrightest(results.sourceCat, 0.2, maxSources=100)\n",
    "                if camera == 'Narrow':\n",
    "                    # Need to loosen percentageScaleError because header SECPIX is wrong\n",
    "                    solverResults = solver.run(exp, filteredCat, percentageScaleError=60.0, isWideField=True)\n",
    "                    boresight = (1898.10, 998.47)\n",
    "                if camera == 'Wide':\n",
    "                    solverResults = solver.run(exp, filteredCat, isWideField=True)\n",
    "                    boresight = (1560.85, 1257.15)\n",
    "                newWcs = solverResults.wcs\n",
    "                rms_error = solverResults.rmsErrorArsec\n",
    "                boresight_RaDec = newWcs.pixelToSky(boresight[0], boresight[1])\n",
    "                raSolve = boresight_RaDec.getRa().asDegrees()\n",
    "                decSolve = boresight_RaDec.getDec().asDegrees()\n",
    "            except:\n",
    "                print(f\"{camera}, {date}_{seqNum} Failed!\")\n",
    "                continue\n",
    "            hdulist = pf.open(filename)\n",
    "            header = hdulist[0].header\n",
    "            raStart = header[\"RASTART\"]\n",
    "            decStart = header[\"DECSTART\"]\n",
    "            azHdr = (header[\"AZSTART\"] + header[\"AZEND\"]) / 2.0\n",
    "            azHdr = azHdr % 360\n",
    "            elHdr = (header[\"ELSTART\"] + header[\"ELEND\"]) / 2.0\n",
    "            rotpa = header[\"ROTPA\"]\n",
    "            rot = newWcs.getRelativeRotationToWcs(exp.getWcs()).asDegrees()\n",
    "            #time = Time(header[\"DATE-OBS\"], scale='tai')\n",
    "            time = Time((Time(header[\"DATE-BEG\"], scale='tai').unix_tai + Time(header[\"DATE-END\"], scale='tai').unix_tai)/2.0, format='unix_tai', scale='tai')\n",
    "            altAz = AltAz(obstime=time, location=SIMONYI_LOCATION)\n",
    "            skyLocation = SkyCoord(raSolve * u.deg, decSolve * u.deg)\n",
    "            obsAltAz = skyLocation.transform_to(altAz)\n",
    "            az = obsAltAz.az.deg\n",
    "            az = az % 360\n",
    "            el = obsAltAz.alt.deg\n",
    "            deltaAz = (azHdr - az) * 3600.0\n",
    "            deltaEl = (elHdr - el) * 3600.0\n",
    "            deltaRA = (raStart - raSolve) * 3600.0\n",
    "            deltaDec = (decStart - decSolve) * 3600.0\n",
    "            print(f\"{camera}, {date}_{seqNum}, {deltaAz:.5f}, {deltaEl:.5f}\")\n",
    "            outfile.write(f\"{seqNum}\\t{raStart:.5f}\\t{decStart:.5f}\\t{elHdr:.5f}\\t{azHdr:.5f}\\t{raSolve:.5f}\\t{decSolve:.5f}\\t{deltaRA:.5f}\\t{deltaDec:.5f}\\t{el:.5f}\\t{az:.5f}\\t{deltaEl:.5f}\\t{deltaAz:.5f}\\t{rot:.5f}\\t{rms_error:.5f}\\n\")\n",
    "        outfile.close()\n",
    "    "
   ]
  },
  {
   "cell_type": "code",
   "execution_count": null,
   "metadata": {
    "execution": {
     "iopub.execute_input": "2023-03-08T16:46:11.337517Z",
     "iopub.status.busy": "2023-03-08T16:46:11.336972Z",
     "iopub.status.idle": "2023-03-08T16:46:11.340701Z",
     "shell.execute_reply": "2023-03-08T16:46:11.340344Z",
     "shell.execute_reply.started": "2023-03-08T16:46:11.337496Z"
    }
   },
   "outputs": [],
   "source": [
    "header['ROTPA']"
   ]
  },
  {
   "cell_type": "code",
   "execution_count": null,
   "metadata": {
    "execution": {
     "iopub.execute_input": "2023-03-08T17:11:42.608214Z",
     "iopub.status.busy": "2023-03-08T17:11:42.607920Z",
     "iopub.status.idle": "2023-03-08T17:11:42.612499Z",
     "shell.execute_reply": "2023-03-08T17:11:42.612035Z",
     "shell.execute_reply.started": "2023-03-08T17:11:42.608194Z"
    },
    "tags": []
   },
   "outputs": [],
   "source": [
    "newWcs.getRelativeRotationToWcs(exp.getWcs())"
   ]
  },
  {
   "cell_type": "code",
   "execution_count": null,
   "metadata": {},
   "outputs": [],
   "source": []
  }
 ],
 "metadata": {
  "kernelspec": {
   "display_name": "LSST",
   "language": "python",
   "name": "lsst"
  },
  "language_info": {
   "codemirror_mode": {
    "name": "ipython",
    "version": 3
   },
   "file_extension": ".py",
   "mimetype": "text/x-python",
   "name": "python",
   "nbconvert_exporter": "python",
   "pygments_lexer": "ipython3",
   "version": "3.10.9"
  }
 },
 "nbformat": 4,
 "nbformat_minor": 4
}
