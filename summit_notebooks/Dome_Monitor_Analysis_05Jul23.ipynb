{
 "cells": [
  {
   "cell_type": "markdown",
   "id": "0dd0a988-c53b-4063-9081-04bab3355c4b",
   "metadata": {
    "tags": []
   },
   "source": [
    "## Analyzing dome monitor with a labJack T7\n",
    "Uses 2 analog input (AINs) to read the data.\n",
    "\n",
    "Craig Lage - Jul 5, 2023"
   ]
  },
  {
   "cell_type": "code",
   "execution_count": null,
   "id": "dbd14b82-0a82-488c-a615-db33e5ffa5a6",
   "metadata": {
    "execution": {
     "iopub.execute_input": "2023-07-06T01:21:43.892531Z",
     "iopub.status.busy": "2023-07-06T01:21:43.892266Z",
     "iopub.status.idle": "2023-07-06T01:21:43.975859Z",
     "shell.execute_reply": "2023-07-06T01:21:43.975418Z",
     "shell.execute_reply.started": "2023-07-06T01:21:43.892514Z"
    },
    "tags": []
   },
   "outputs": [],
   "source": [
    "import sys, os\n",
    "import time, datetime\n",
    "import numpy as np\n",
    "import pandas as pd\n",
    "import pickle as pkl\n",
    "import matplotlib.pyplot as plt\n",
    "from astropy.time import Time, TimeDelta\n",
    "from lsst_efd_client import EfdClient"
   ]
  },
  {
   "cell_type": "code",
   "execution_count": null,
   "id": "9a8454c2-f633-4eba-accf-0c586818c744",
   "metadata": {
    "execution": {
     "iopub.execute_input": "2023-07-06T01:14:44.804040Z",
     "iopub.status.busy": "2023-07-06T01:14:44.803771Z",
     "iopub.status.idle": "2023-07-06T01:14:46.293040Z",
     "shell.execute_reply": "2023-07-06T01:14:46.292543Z",
     "shell.execute_reply.started": "2023-07-06T01:14:44.804022Z"
    },
    "tags": []
   },
   "outputs": [],
   "source": [
    "dir = \"/scratch/labJackData/\"\n",
    "\n",
    "files = os.listdir(dir)\n",
    "counter = 0\n",
    "for file in files:\n",
    "    if file.split(\"_\")[0] == \"Dome\":\n",
    "        filename = dir+file\n",
    "        \n",
    "        pkl_file = open(filename, 'rb')\n",
    "        df = pkl.load(pkl_file)\n",
    "        pkl_file.close()\n",
    "        print(filename, len(df), df.columns)\n",
    "        if counter == 0:\n",
    "            merged_df = df\n",
    "        else:\n",
    "            merged_df = pd.concat([merged_df, df], axis=1)\n",
    "        counter += 1\n"
   ]
  },
  {
   "cell_type": "code",
   "execution_count": null,
   "id": "84e42cec-39a6-4da8-99f2-095661bf2244",
   "metadata": {
    "execution": {
     "iopub.execute_input": "2023-07-06T01:14:48.973551Z",
     "iopub.status.busy": "2023-07-06T01:14:48.973287Z",
     "iopub.status.idle": "2023-07-06T01:14:48.976891Z",
     "shell.execute_reply": "2023-07-06T01:14:48.976442Z",
     "shell.execute_reply.started": "2023-07-06T01:14:48.973534Z"
    },
    "tags": []
   },
   "outputs": [],
   "source": [
    "len(merged_df)"
   ]
  },
  {
   "cell_type": "code",
   "execution_count": null,
   "id": "f71863c4-9b90-445a-8410-833d43ca681d",
   "metadata": {
    "execution": {
     "iopub.execute_input": "2023-07-06T01:24:57.320967Z",
     "iopub.status.busy": "2023-07-06T01:24:57.320696Z",
     "iopub.status.idle": "2023-07-06T01:24:58.435326Z",
     "shell.execute_reply": "2023-07-06T01:24:58.434713Z",
     "shell.execute_reply.started": "2023-07-06T01:24:57.320948Z"
    },
    "tags": []
   },
   "outputs": [],
   "source": [
    "client = EfdClient('summit_efd')\n",
    "start = Time(\"2023-07-05 22:31:30Z\", scale='utc')\n",
    "end = Time(\"2023-07-06 01:02:00Z\", scale='utc')\n",
    "state = await client.select_time_series('lsst.sal.ATDome.logevent_mainDoorState', \\\n",
    "                                            ['*'],  start, end)\n"
   ]
  },
  {
   "cell_type": "code",
   "execution_count": null,
   "id": "ece131bc-bd3f-4c3f-b47a-e0c34965337c",
   "metadata": {
    "execution": {
     "iopub.execute_input": "2023-07-06T01:36:10.638123Z",
     "iopub.status.busy": "2023-07-06T01:36:10.637859Z",
     "iopub.status.idle": "2023-07-06T01:36:45.515148Z",
     "shell.execute_reply": "2023-07-06T01:36:45.514658Z",
     "shell.execute_reply.started": "2023-07-06T01:36:10.638107Z"
    },
    "tags": []
   },
   "outputs": [],
   "source": [
    "fig, ax = plt.subplots(1,1)\n",
    "ax2 = ax.twinx()\n",
    "state['state'].plot(ax=ax2, color='blue', label='Actual State')\n",
    "ax2.set_ylim(0,6)\n",
    "ax2.set_yticks([1,2,3,4,5])\n",
    "ax2.set_yticklabels(['Closed', 'Opened', 'Ajar', 'Opening', 'Closing'])\n",
    "\n",
    "\n",
    "merged_df[\"AIN0\"].plot(ax=ax, label=\"Monitor\")\n",
    "ax.set_ylim(-0.5,10.0)\n",
    "start_plot = Time(\"2023-07-06 00:40:00Z\", scale='utc')\n",
    "end_plot = Time(\"2023-07-06 00:52:00Z\", scale='utc')\n",
    "\n",
    "ax.set_xlim(start_plot.isot, end_plot.isot)\n",
    "ax.get_legend().remove()\n",
    "plt.savefig(f\"/home/craiglagegit/DATA/Dome_Monitor_05Jul23.png\")"
   ]
  },
  {
   "cell_type": "code",
   "execution_count": null,
   "id": "a70863f4-e9ec-4ed3-a122-ab835d4b2bcb",
   "metadata": {
    "execution": {
     "iopub.execute_input": "2023-07-06T01:34:59.157251Z",
     "iopub.status.busy": "2023-07-06T01:34:59.156971Z",
     "iopub.status.idle": "2023-07-06T01:34:59.174894Z",
     "shell.execute_reply": "2023-07-06T01:34:59.174503Z",
     "shell.execute_reply.started": "2023-07-06T01:34:59.157234Z"
    },
    "tags": []
   },
   "outputs": [],
   "source": []
  },
  {
   "cell_type": "code",
   "execution_count": null,
   "id": "575ac891-be40-4d98-a0ca-2d7f03699111",
   "metadata": {},
   "outputs": [],
   "source": []
  }
 ],
 "metadata": {
  "kernelspec": {
   "display_name": "LSST",
   "language": "python",
   "name": "lsst"
  },
  "language_info": {
   "codemirror_mode": {
    "name": "ipython",
    "version": 3
   },
   "file_extension": ".py",
   "mimetype": "text/x-python",
   "name": "python",
   "nbconvert_exporter": "python",
   "pygments_lexer": "ipython3",
   "version": "3.10.11"
  }
 },
 "nbformat": 4,
 "nbformat_minor": 5
}
