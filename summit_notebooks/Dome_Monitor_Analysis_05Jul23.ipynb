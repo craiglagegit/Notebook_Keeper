{
 "cells": [
  {
   "cell_type": "markdown",
   "id": "0dd0a988-c53b-4063-9081-04bab3355c4b",
   "metadata": {
    "tags": []
   },
   "source": [
    "## Analyzing dome monitor with a labJack T7\n",
    "Uses 2 analog input (AINs) to read the data.\n",
    "\n",
    "Craig Lage - Jul 5, 2023"
   ]
  },
  {
   "cell_type": "code",
   "execution_count": null,
   "id": "dbd14b82-0a82-488c-a615-db33e5ffa5a6",
   "metadata": {
    "execution": {
     "iopub.execute_input": "2023-08-18T10:32:52.852582Z",
     "iopub.status.busy": "2023-08-18T10:32:52.852299Z",
     "iopub.status.idle": "2023-08-18T10:32:53.511198Z",
     "shell.execute_reply": "2023-08-18T10:32:53.510671Z",
     "shell.execute_reply.started": "2023-08-18T10:32:52.852564Z"
    },
    "tags": []
   },
   "outputs": [],
   "source": [
    "import sys, os, re\n",
    "import time, datetime\n",
    "import numpy as np\n",
    "import pandas as pd\n",
    "import pickle as pkl\n",
    "import matplotlib.pyplot as plt\n",
    "from astropy.time import Time, TimeDelta\n",
    "from lsst_efd_client import EfdClient"
   ]
  },
  {
   "cell_type": "code",
   "execution_count": null,
   "id": "9a8454c2-f633-4eba-accf-0c586818c744",
   "metadata": {
    "execution": {
     "iopub.execute_input": "2023-08-18T10:36:07.781270Z",
     "iopub.status.busy": "2023-08-18T10:36:07.780886Z",
     "iopub.status.idle": "2023-08-18T10:36:12.766704Z",
     "shell.execute_reply": "2023-08-18T10:36:12.766028Z",
     "shell.execute_reply.started": "2023-08-18T10:36:07.781253Z"
    },
    "tags": []
   },
   "outputs": [],
   "source": [
    "dir = \"/scratch/labJackData/\"\n",
    "\n",
    "files = os.listdir(dir)\n",
    "counter = 0\n",
    "for file in files:\n",
    "    split_file = re.split('_|T|\\Z.', file)\n",
    "    if split_file[0] == \"Dome\":\n",
    "        if (split_file[1] == '20230818') or \\\n",
    "            (split_file[1] == '20230817' and int(list(split_file[2])[0]) > 0):\n",
    "            filename = dir+file\n",
    "\n",
    "            pkl_file = open(filename, 'rb')\n",
    "            df = pkl.load(pkl_file)\n",
    "            pkl_file.close()\n",
    "            print(filename, len(df), df.columns)\n",
    "            if counter == 0:\n",
    "                merged_df = df\n",
    "            else:\n",
    "                merged_df = pd.concat([merged_df, df], axis=1)\n",
    "            counter += 1\n"
   ]
  },
  {
   "cell_type": "code",
   "execution_count": null,
   "id": "f71863c4-9b90-445a-8410-833d43ca681d",
   "metadata": {
    "execution": {
     "iopub.execute_input": "2023-08-18T10:52:26.176872Z",
     "iopub.status.busy": "2023-08-18T10:52:26.176490Z",
     "iopub.status.idle": "2023-08-18T10:52:27.372321Z",
     "shell.execute_reply": "2023-08-18T10:52:27.371773Z",
     "shell.execute_reply.started": "2023-08-18T10:52:26.176854Z"
    },
    "tags": []
   },
   "outputs": [],
   "source": [
    "client = EfdClient('summit_efd')\n",
    "start = Time(\"2023-08-17 21:30:00Z\", scale='utc')\n",
    "end = Time(\"2023-08-18 06:00:00Z\", scale='utc')\n",
    "state = await client.select_time_series('lsst.sal.ATDome.logevent_mainDoorState', \\\n",
    "                                            ['*'],  start, end)\n"
   ]
  },
  {
   "cell_type": "code",
   "execution_count": null,
   "id": "84e42cec-39a6-4da8-99f2-095661bf2244",
   "metadata": {
    "execution": {
     "iopub.execute_input": "2023-08-18T10:36:24.047618Z",
     "iopub.status.busy": "2023-08-18T10:36:24.047319Z",
     "iopub.status.idle": "2023-08-18T10:36:24.051288Z",
     "shell.execute_reply": "2023-08-18T10:36:24.050799Z",
     "shell.execute_reply.started": "2023-08-18T10:36:24.047601Z"
    },
    "tags": []
   },
   "outputs": [],
   "source": [
    "len(merged_df)"
   ]
  },
  {
   "cell_type": "code",
   "execution_count": null,
   "id": "ece131bc-bd3f-4c3f-b47a-e0c34965337c",
   "metadata": {
    "execution": {
     "iopub.execute_input": "2023-08-18T11:16:48.592422Z",
     "iopub.status.busy": "2023-08-18T11:16:48.592133Z",
     "iopub.status.idle": "2023-08-18T11:19:06.931520Z",
     "shell.execute_reply": "2023-08-18T11:19:06.930972Z",
     "shell.execute_reply.started": "2023-08-18T11:16:48.592403Z"
    },
    "tags": []
   },
   "outputs": [],
   "source": [
    "fig, ax = plt.subplots(1,1)\n",
    "ax2 = ax.twinx()\n",
    "state['state'].plot(ax=ax2, color='blue', label='Actual State')\n",
    "ax2.set_ylim(0,6)\n",
    "ax2.set_yticks([1,2,3,4,5])\n",
    "ax2.set_yticklabels(['Closed', 'Opened', 'Ajar', 'Opening', 'Closing'])\n",
    "\n",
    "\n",
    "merged_df[\"AIN0\"].plot(ax=ax, label=\"Monitor_0\", color='red')\n",
    "merged_df[\"AIN1\"].plot(ax=ax, label=\"Monitor_1\", color='green')\n",
    "ax.set_ylim(-0.5,10.0)\n",
    "ax.set_title(\"AuxTel Dome Closing Monitor 20230817\", fontsize=16)\n",
    "\n",
    "ax.get_legend().remove()\n",
    "plt.savefig(f\"/home/craiglagegit/DATA/Dome_Monitor_17Aug23.png\")"
   ]
  },
  {
   "cell_type": "code",
   "execution_count": null,
   "id": "41fadd37-bb90-4b4a-91bd-7f87696b8e5f",
   "metadata": {
    "execution": {
     "iopub.execute_input": "2023-08-18T11:07:58.816190Z",
     "iopub.status.busy": "2023-08-18T11:07:58.815917Z",
     "iopub.status.idle": "2023-08-18T11:07:58.826240Z",
     "shell.execute_reply": "2023-08-18T11:07:58.825719Z",
     "shell.execute_reply.started": "2023-08-18T11:07:58.816173Z"
    },
    "tags": []
   },
   "outputs": [],
   "source": [
    "start_plot = Time(\"2023-08-18 01:30:00Z\", scale='utc')\n",
    "end_plot = Time(\"2023-08-18 01:32:00Z\", scale='utc')\n",
    "sub_df = merged_df.loc[(merged_df.index >= start_plot.isot) & (merged_df.index <= end_plot.isot)]"
   ]
  },
  {
   "cell_type": "code",
   "execution_count": null,
   "id": "4ecf243d-3243-490e-a9b0-aaf9d463a027",
   "metadata": {
    "execution": {
     "iopub.execute_input": "2023-08-18T11:07:59.837279Z",
     "iopub.status.busy": "2023-08-18T11:07:59.836962Z",
     "iopub.status.idle": "2023-08-18T11:07:59.841002Z",
     "shell.execute_reply": "2023-08-18T11:07:59.840547Z",
     "shell.execute_reply.started": "2023-08-18T11:07:59.837254Z"
    },
    "tags": []
   },
   "outputs": [],
   "source": [
    "len(sub_df)"
   ]
  },
  {
   "cell_type": "code",
   "execution_count": null,
   "id": "3e617ab5-bc9e-4f9f-8190-fb463640cd8f",
   "metadata": {
    "execution": {
     "iopub.execute_input": "2023-08-18T11:19:06.943295Z",
     "iopub.status.busy": "2023-08-18T11:19:06.943152Z",
     "iopub.status.idle": "2023-08-18T11:19:11.133195Z",
     "shell.execute_reply": "2023-08-18T11:19:11.132656Z",
     "shell.execute_reply.started": "2023-08-18T11:19:06.943281Z"
    },
    "tags": []
   },
   "outputs": [],
   "source": [
    "fig, ax = plt.subplots(1,1)\n",
    "ax2 = ax.twinx()\n",
    "state['state'].plot(ax=ax2, color='blue', label='Actual State')\n",
    "ax2.set_ylim(0,6)\n",
    "ax2.set_yticks([1,2,3,4,5])\n",
    "ax2.set_yticklabels(['Closed', 'Opened', 'Ajar', 'Opening', 'Closing'])\n",
    "\n",
    "\n",
    "sub_df[\"AIN0\"].plot(ax=ax, label=\"Monitor_0\", color='red')\n",
    "sub_df[\"AIN1\"].plot(ax=ax, label=\"Monitor_1\", color='green')\n",
    "ax.set_title(\"AuxTel Dome Closing Monitor 20230817\", fontsize=16)\n",
    "ax.set_ylim(-0.5,10.0)\n",
    "ax.text(\"2023-08-18 01:30:30Z\", 1.0, \"AIN0\", color='red')\n",
    "ax.text(\"2023-08-18 01:30:45Z\", 8.0, \"AIN1\", color='green')\n",
    "ax.set_xlim(start_plot.isot, end_plot.isot)\n",
    "ax.get_legend().remove()\n",
    "plt.savefig(f\"/home/craiglagegit/DATA/Dome_Monitor_BlowUp_17Aug23.png\")"
   ]
  },
  {
   "cell_type": "code",
   "execution_count": null,
   "id": "061f1b02-741e-4f55-ba8b-2fb58ca2479b",
   "metadata": {
    "execution": {
     "iopub.execute_input": "2023-08-18T11:12:15.445107Z",
     "iopub.status.busy": "2023-08-18T11:12:15.444836Z",
     "iopub.status.idle": "2023-08-18T11:12:15.497287Z",
     "shell.execute_reply": "2023-08-18T11:12:15.496640Z",
     "shell.execute_reply.started": "2023-08-18T11:12:15.445090Z"
    },
    "tags": []
   },
   "outputs": [],
   "source": []
  },
  {
   "cell_type": "code",
   "execution_count": null,
   "id": "7cce4941-0d9f-475c-9303-f0834fe346ca",
   "metadata": {},
   "outputs": [],
   "source": []
  }
 ],
 "metadata": {
  "kernelspec": {
   "display_name": "LSST",
   "language": "python",
   "name": "lsst"
  },
  "language_info": {
   "codemirror_mode": {
    "name": "ipython",
    "version": 3
   },
   "file_extension": ".py",
   "mimetype": "text/x-python",
   "name": "python",
   "nbconvert_exporter": "python",
   "pygments_lexer": "ipython3",
   "version": "3.10.11"
  }
 },
 "nbformat": 4,
 "nbformat_minor": 5
}
