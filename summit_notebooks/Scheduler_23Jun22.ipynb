{
 "cells": [
  {
   "cell_type": "code",
   "execution_count": null,
   "id": "5a6eb41e-d39f-40a1-8479-0f2b2343b110",
   "metadata": {
    "jupyter": {
     "outputs_hidden": true
    },
    "tags": []
   },
   "outputs": [],
   "source": [
    "import io\n",
    "import os\n",
    "import math\n",
    "import pickle\n",
    "import importlib\n",
    "\n",
    "import urllib.request\n",
    "\n",
    "import numpy as np\n",
    "import healpy as hp"
   ]
  },
  {
   "cell_type": "code",
   "execution_count": null,
   "id": "fbc63224-8ada-4582-8eae-a11404f230fc",
   "metadata": {},
   "outputs": [],
   "source": [
    "uri = \"https://s3.cp.lsst.org/rubinobs-lfa-cp/Scheduler:2/Scheduler:2/2022/06/09/Scheduler:2_Scheduler:2_2022-06-10T10:35:24.496.p\""
   ]
  },
  {
   "cell_type": "code",
   "execution_count": null,
   "id": "cd8d0261-ecee-4dfa-8470-0185327796ac",
   "metadata": {},
   "outputs": [],
   "source": [
    "dest, _ = urllib.request.urlretrieve(url=uri, filename=\"./scheduler_snapshot.p\")"
   ]
  },
  {
   "cell_type": "code",
   "execution_count": null,
   "id": "7246f1a4-c8f1-4f91-89d3-a6391bd89e21",
   "metadata": {},
   "outputs": [],
   "source": [
    "with open(dest, \"rb\") as fp:\n",
    "    scheduler, conditions = pickle.load(fp)"
   ]
  },
  {
   "cell_type": "code",
   "execution_count": null,
   "id": "18f9a9a8-13a1-4a42-a742-649bd393fbfb",
   "metadata": {
    "jupyter": {
     "outputs_hidden": true
    },
    "tags": []
   },
   "outputs": [],
   "source": [
    "[attr for attr in dir(conditions) if not attr.startswith(\"__\")]"
   ]
  },
  {
   "cell_type": "code",
   "execution_count": null,
   "id": "0425cf7e-df5c-46b8-88a0-0af6ba8ad2c0",
   "metadata": {},
   "outputs": [],
   "source": [
    "hp.mollview(conditions.slewtime)"
   ]
  },
  {
   "cell_type": "code",
   "execution_count": null,
   "id": "c7d7ea13-9cb2-40b3-8175-7ba9a462b749",
   "metadata": {},
   "outputs": [],
   "source": []
  }
 ],
 "metadata": {
  "kernelspec": {
   "display_name": "scheduler-dev",
   "language": "python",
   "name": "scheduler-dev"
  },
  "language_info": {
   "codemirror_mode": {
    "name": "ipython",
    "version": 3
   },
   "file_extension": ".py",
   "mimetype": "text/x-python",
   "name": "python",
   "nbconvert_exporter": "python",
   "pygments_lexer": "ipython3",
   "version": "3.8.13"
  }
 },
 "nbformat": 4,
 "nbformat_minor": 5
}
