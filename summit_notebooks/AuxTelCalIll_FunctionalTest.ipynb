{
 "cells": [
  {
   "cell_type": "markdown",
   "id": "66953411",
   "metadata": {},
   "source": [
    "# AuxTel Calibration Illumination System Functional Test"
   ]
  },
  {
   "cell_type": "markdown",
   "id": "5fc900e0",
   "metadata": {},
   "source": [
    "This notebook is meant to be used a functional checkout of the AuxTel illumination system. It includes all functionality but doesn't necessarily show how the system should be used in operation. It was written within the context of the Tucson Teststand and should be modified to be run on the summit."
   ]
  },
  {
   "cell_type": "code",
   "execution_count": null,
   "id": "4fdba962",
   "metadata": {
    "execution": {
     "iopub.execute_input": "2023-04-20T14:56:09.392226Z",
     "iopub.status.busy": "2023-04-20T14:56:09.392030Z",
     "iopub.status.idle": "2023-04-20T14:56:11.456311Z",
     "shell.execute_reply": "2023-04-20T14:56:11.455735Z",
     "shell.execute_reply.started": "2023-04-20T14:56:09.392211Z"
    },
    "tags": []
   },
   "outputs": [],
   "source": [
    "import asyncio\n",
    "from lsst.ts import utils\n",
    "\n",
    "import numpy as np\n",
    "import pandas as pd\n",
    "import matplotlib.pyplot as plt\n",
    "\n",
    "from astropy.io import fits\n",
    "from astropy.time import Time\n",
    "from astropy.table import Table\n",
    "\n",
    "from lsst_efd_client import EfdClient\n",
    "client = EfdClient('summit_efd')\n",
    "\n",
    "from lsst.ts import salobj"
   ]
  },
  {
   "cell_type": "code",
   "execution_count": null,
   "id": "582744d1",
   "metadata": {
    "execution": {
     "iopub.execute_input": "2023-04-20T14:56:11.457721Z",
     "iopub.status.busy": "2023-04-20T14:56:11.457320Z",
     "iopub.status.idle": "2023-04-20T14:56:11.459978Z",
     "shell.execute_reply": "2023-04-20T14:56:11.459589Z",
     "shell.execute_reply.started": "2023-04-20T14:56:11.457703Z"
    },
    "tags": []
   },
   "outputs": [],
   "source": [
    "# change this to a local directory\n",
    "data_dir = '/home/craiglagegit/DATA'"
   ]
  },
  {
   "cell_type": "code",
   "execution_count": null,
   "id": "ca265d8d",
   "metadata": {
    "execution": {
     "iopub.execute_input": "2023-04-20T14:56:28.848398Z",
     "iopub.status.busy": "2023-04-20T14:56:28.848110Z",
     "iopub.status.idle": "2023-04-20T14:56:28.862688Z",
     "shell.execute_reply": "2023-04-20T14:56:28.862276Z",
     "shell.execute_reply.started": "2023-04-20T14:56:28.848381Z"
    },
    "tags": []
   },
   "outputs": [],
   "source": [
    "d = salobj.Domain()"
   ]
  },
  {
   "cell_type": "code",
   "execution_count": null,
   "id": "0a333766-d1f5-4a0c-a1a8-3a75dae25fbc",
   "metadata": {},
   "outputs": [],
   "source": []
  },
  {
   "cell_type": "markdown",
   "id": "bd0fe9a6",
   "metadata": {},
   "source": [
    "### Connect to CSCs"
   ]
  },
  {
   "cell_type": "code",
   "execution_count": null,
   "id": "804e9aac",
   "metadata": {
    "execution": {
     "iopub.execute_input": "2023-04-20T14:56:32.041272Z",
     "iopub.status.busy": "2023-04-20T14:56:32.040994Z",
     "iopub.status.idle": "2023-04-20T14:56:32.286324Z",
     "shell.execute_reply": "2023-04-20T14:56:32.285670Z",
     "shell.execute_reply.started": "2023-04-20T14:56:32.041255Z"
    },
    "tags": []
   },
   "outputs": [],
   "source": [
    "atmonochromator = salobj.Remote(d, 'ATMonochromator')\n",
    "FiberSpectrograph = salobj.Remote(name=\"FiberSpectrograph\", domain=d, index=3)\n",
    "electrometer = salobj.Remote(name=\"Electrometer\", domain=d, index=201) \n",
    "WhiteLightSource = salobj.Remote(name='ATWhiteLight', domain=d)"
   ]
  },
  {
   "cell_type": "code",
   "execution_count": null,
   "id": "06512f70",
   "metadata": {
    "execution": {
     "iopub.execute_input": "2023-04-20T14:56:36.385482Z",
     "iopub.status.busy": "2023-04-20T14:56:36.385101Z",
     "iopub.status.idle": "2023-04-20T14:56:36.388237Z",
     "shell.execute_reply": "2023-04-20T14:56:36.387773Z",
     "shell.execute_reply.started": "2023-04-20T14:56:36.385465Z"
    },
    "tags": []
   },
   "outputs": [],
   "source": [
    "await atmonochromator.start_task\n",
    "await FiberSpectrograph.start_task\n",
    "await electrometer.start_task\n",
    "await WhiteLightSource.start_task"
   ]
  },
  {
   "cell_type": "code",
   "execution_count": null,
   "id": "89835bba",
   "metadata": {
    "execution": {
     "iopub.execute_input": "2023-04-20T14:56:36.998481Z",
     "iopub.status.busy": "2023-04-20T14:56:36.998089Z",
     "iopub.status.idle": "2023-04-20T14:56:37.002165Z",
     "shell.execute_reply": "2023-04-20T14:56:37.001660Z",
     "shell.execute_reply.started": "2023-04-20T14:56:36.998456Z"
    },
    "tags": []
   },
   "outputs": [],
   "source": [
    "async def get_status():\n",
    "    mono_tmp = await atmonochromator.evt_summaryState.aget()\n",
    "    spec_tmp = await FiberSpectrograph.evt_summaryState.aget()\n",
    "    elec_tmp = await electrometer.evt_summaryState.aget()\n",
    "    wls_tmp = await WhiteLightSource.evt_summaryState.aget()\n",
    "    print('Monochromator: ',salobj.State(mono_tmp.summaryState))\n",
    "    print('Fiber Spectrometer: ',salobj.State(spec_tmp.summaryState))\n",
    "    print('Electrometer: ',salobj.State(elec_tmp.summaryState))\n",
    "    print('WhiteLightSource: ',salobj.State(wls_tmp.summaryState))"
   ]
  },
  {
   "cell_type": "markdown",
   "id": "f289e5b7-4b8d-4b7d-b776-13e26370c190",
   "metadata": {},
   "source": [
    "## Try one at a time"
   ]
  },
  {
   "cell_type": "code",
   "execution_count": null,
   "id": "332468e3-60ae-4c2e-9397-343f3acf7d75",
   "metadata": {
    "tags": []
   },
   "outputs": [],
   "source": [
    "mono_tmp = await atmonochromator.evt_summaryState.aget()\n",
    "print('Monochromator: ',salobj.State(mono_tmp.summaryState))"
   ]
  },
  {
   "cell_type": "code",
   "execution_count": null,
   "id": "a3931ebc-dbc7-4eb6-a210-b6ba1c46db60",
   "metadata": {
    "tags": []
   },
   "outputs": [],
   "source": [
    "spec_tmp = await FiberSpectrograph.evt_summaryState.aget()\n",
    "print('Fiber Spectrometer: ',salobj.State(spec_tmp.summaryState))"
   ]
  },
  {
   "cell_type": "code",
   "execution_count": null,
   "id": "c8f91359-8c6c-4d8c-805d-5f0c20b98d1b",
   "metadata": {
    "tags": []
   },
   "outputs": [],
   "source": [
    "elec_tmp = await electrometer.evt_summaryState.aget()\n",
    "print('Electrometer: ',salobj.State(elec_tmp.summaryState))"
   ]
  },
  {
   "cell_type": "code",
   "execution_count": null,
   "id": "bcb88ae8-17d4-45c8-a792-bb531fb866f4",
   "metadata": {
    "tags": []
   },
   "outputs": [],
   "source": [
    "wls_tmp = await WhiteLightSource.evt_summaryState.aget()\n",
    "print('WhiteLightSource: ',salobj.State(wls_tmp.summaryState))"
   ]
  },
  {
   "cell_type": "code",
   "execution_count": null,
   "id": "37002c43",
   "metadata": {
    "execution": {
     "iopub.execute_input": "2023-04-20T14:56:41.165378Z",
     "iopub.status.busy": "2023-04-20T14:56:41.165095Z",
     "iopub.status.idle": "2023-04-20T14:56:41.168520Z",
     "shell.execute_reply": "2023-04-20T14:56:41.167985Z",
     "shell.execute_reply.started": "2023-04-20T14:56:41.165361Z"
    },
    "tags": []
   },
   "outputs": [],
   "source": [
    "await get_status()"
   ]
  },
  {
   "cell_type": "markdown",
   "id": "80d7373d",
   "metadata": {},
   "source": [
    "### Test White Light Source"
   ]
  },
  {
   "cell_type": "markdown",
   "id": "6cc96efe",
   "metadata": {},
   "source": [
    "Note: don't cycle the WLS between Standby and Enabled. You will have to wait 15 minutes on either side of turning it on and off. You can power cycle the other CSCs"
   ]
  },
  {
   "cell_type": "code",
   "execution_count": null,
   "id": "221d48a5-f33e-4271-b107-7802c90f1813",
   "metadata": {
    "tags": []
   },
   "outputs": [],
   "source": [
    "await WhiteLightSource.cmd_setLogLevel.set_start(level=10)"
   ]
  },
  {
   "cell_type": "code",
   "execution_count": null,
   "id": "1bd15b8e-7e80-40e6-860f-85d2c7ca1d26",
   "metadata": {
    "tags": []
   },
   "outputs": [],
   "source": [
    "data = WhiteLightSource.evt_errorCode.get()\n",
    "print(f\"{data.errorCode=}; {data.errorReport=}\")"
   ]
  },
  {
   "cell_type": "code",
   "execution_count": null,
   "id": "13431e42",
   "metadata": {
    "tags": []
   },
   "outputs": [],
   "source": [
    "state = salobj.State.STANDBY\n",
    "tmp = await salobj.set_summary_state(WhiteLightSource, state)"
   ]
  },
  {
   "cell_type": "code",
   "execution_count": null,
   "id": "90c7eee2-0a6e-4982-9636-c0e81600c23f",
   "metadata": {
    "tags": []
   },
   "outputs": [],
   "source": [
    "await WhiteLightSource.cmd_start.start()"
   ]
  },
  {
   "cell_type": "code",
   "execution_count": null,
   "id": "aa224de0",
   "metadata": {
    "execution": {
     "iopub.execute_input": "2023-04-20T14:57:06.444847Z",
     "iopub.status.busy": "2023-04-20T14:57:06.444573Z",
     "iopub.status.idle": "2023-04-20T14:57:06.618347Z",
     "shell.execute_reply": "2023-04-20T14:57:06.617878Z",
     "shell.execute_reply.started": "2023-04-20T14:57:06.444830Z"
    },
    "tags": []
   },
   "outputs": [],
   "source": [
    "#Start chiller\n",
    "tmp = await WhiteLightSource.cmd_setChillerTemperature.set_start(temperature=20)\n",
    "tmp = await WhiteLightSource.cmd_startChiller.set_start()\n",
    "# Confirm that the chiller has started and running at 20C"
   ]
  },
  {
   "cell_type": "code",
   "execution_count": null,
   "id": "062ca52c",
   "metadata": {
    "tags": []
   },
   "outputs": [],
   "source": [
    "#Test shutters\n",
    "tmp = await WhiteLightSource.cmd_closeShutter.set_start()"
   ]
  },
  {
   "cell_type": "code",
   "execution_count": null,
   "id": "188eef09",
   "metadata": {
    "execution": {
     "iopub.execute_input": "2023-04-20T14:57:17.332609Z",
     "iopub.status.busy": "2023-04-20T14:57:17.332340Z",
     "iopub.status.idle": "2023-04-20T14:57:24.518952Z",
     "shell.execute_reply": "2023-04-20T14:57:24.518384Z",
     "shell.execute_reply.started": "2023-04-20T14:57:17.332592Z"
    },
    "tags": []
   },
   "outputs": [],
   "source": [
    "tmp = await WhiteLightSource.cmd_openShutter.set_start()\n",
    "#Keep shutter open so you can see the lamp turned on"
   ]
  },
  {
   "cell_type": "code",
   "execution_count": null,
   "id": "f46fcf0b-2dcf-4e66-b5e8-b5caed3ea120",
   "metadata": {
    "tags": []
   },
   "outputs": [],
   "source": [
    "tmp = WhiteLightSource.evt_shutterState.get()\n",
    "print(tmp)"
   ]
  },
  {
   "cell_type": "code",
   "execution_count": null,
   "id": "4c19610f",
   "metadata": {
    "execution": {
     "iopub.execute_input": "2023-04-20T15:03:37.923997Z",
     "iopub.status.busy": "2023-04-20T15:03:37.923718Z",
     "iopub.status.idle": "2023-04-20T15:03:38.030756Z",
     "shell.execute_reply": "2023-04-20T15:03:38.030354Z",
     "shell.execute_reply.started": "2023-04-20T15:03:37.923980Z"
    },
    "tags": []
   },
   "outputs": [],
   "source": [
    "#Turn on lamp. It will then go into a warm up period before it will turn on \n",
    "tmp = await WhiteLightSource.cmd_turnLampOn.set_start(power = 910)"
   ]
  },
  {
   "cell_type": "code",
   "execution_count": null,
   "id": "7067572d",
   "metadata": {
    "tags": []
   },
   "outputs": [],
   "source": [
    "LampBasicState = {0:'Unknown',1:'Off',2:'On',3:'?',4:'Cooldown',5:'Warmup'}\n",
    "LampControllerError = {-1:'NoError',0:'Unknown',1:'KillSwitch',2:'ChassisOverheating',\n",
    "                       3:'AccessDoor',4:'BallastOverheasting',5:'USBDisconnected',6:'AirflowMalfunction',\n",
    "                       7:'LampStuckOn',8:'AirflowMalfunction'}\n",
    "LampControllerState = {0:'Unknown',1:'Off',2:'StandbyOrOn',3:'Cooldown',4:'Error'}"
   ]
  },
  {
   "cell_type": "code",
   "execution_count": null,
   "id": "4f26f735-3e5b-4054-9b51-7876391ec809",
   "metadata": {
    "tags": []
   },
   "outputs": [],
   "source": [
    "state = await WhiteLightSource.evt_lampState.aget()\n",
    "print(state)"
   ]
  },
  {
   "cell_type": "code",
   "execution_count": null,
   "id": "d306b879",
   "metadata": {
    "tags": []
   },
   "outputs": [],
   "source": [
    "state = await WhiteLightSource.evt_lampState.aget()\n",
    "print('Lamp State: ', LampBasicState[state.basicState])\n",
    "print('Lamp Controller State: ', LampControllerState[state.controllerState])\n",
    "print('Lamp Controller Error: ', LampControllerError[state.controllerError])\n",
    "\n",
    "if LampBasicState[state.basicState] == 'Cooldown':\n",
    "    time_left = state.cooldownEndTime - state.private_rcvStamp\n",
    "    print('Time Left: {} min.'.format(time_left/60.))\n",
    "\n",
    "elif LampBasicState[state.basicState] == 'Warmup':\n",
    "    time_left = state.warmupEndTime - state.private_rcvStamp\n",
    "    print('Time Left: {} min.'.format(time_left/60.))"
   ]
  },
  {
   "cell_type": "code",
   "execution_count": null,
   "id": "9b308a07-9e2f-4e99-b384-2f44e4257e05",
   "metadata": {
    "tags": []
   },
   "outputs": [],
   "source": [
    "print(state)\n",
    "print(f\"cooldown time left: {state.cooldownEndTime - state.private_rcvStamp}s\")\n",
    "print(f\"warmup time left: {state.warmupEndTime - state.private_rcvStamp}s\")\n",
    "print(f'last published event [UTC]: {utils.astropy_time_from_tai_unix(state.private_rcvStamp).isot}')"
   ]
  },
  {
   "cell_type": "code",
   "execution_count": null,
   "id": "e587ff0e-666a-4047-b278-d63494d03798",
   "metadata": {
    "tags": []
   },
   "outputs": [],
   "source": [
    "tmp=WhiteLightSource.tel_chillerTECDrive.get()\n",
    "print(tmp)"
   ]
  },
  {
   "cell_type": "code",
   "execution_count": null,
   "id": "432e966b-105f-4d26-937c-2ae0e09684b9",
   "metadata": {
    "tags": []
   },
   "outputs": [],
   "source": [
    "from lsst.ts import utils\n",
    "utils.astropy_time_from_tai_unix(state.warmupEndTime).isot"
   ]
  },
  {
   "cell_type": "code",
   "execution_count": null,
   "id": "fb6c32da",
   "metadata": {
    "tags": []
   },
   "outputs": [],
   "source": [
    "# When it is done warming up, turn up the lamp\n",
    "tmp = await WhiteLightSource.cmd_turnLampOn.set_start(power=1000)"
   ]
  },
  {
   "cell_type": "code",
   "execution_count": null,
   "id": "8fb7ec6b-06e3-422c-978e-7ad2255cc0e6",
   "metadata": {
    "execution": {
     "iopub.execute_input": "2023-04-20T16:25:21.494501Z",
     "iopub.status.busy": "2023-04-20T16:25:21.494236Z",
     "iopub.status.idle": "2023-04-20T16:25:21.601628Z",
     "shell.execute_reply": "2023-04-20T16:25:21.601228Z",
     "shell.execute_reply.started": "2023-04-20T16:25:21.494483Z"
    },
    "tags": []
   },
   "outputs": [],
   "source": [
    "# Turn off the lamp\n",
    "#tmp = await WhiteLightSource.cmd_turnLampOff.set_start(force=True)\n",
    "tmp = await WhiteLightSource.cmd_turnLampOff.set_start()"
   ]
  },
  {
   "cell_type": "code",
   "execution_count": null,
   "id": "8e424fb1-f5da-4fd8-8395-485b53a5fc20",
   "metadata": {
    "execution": {
     "iopub.execute_input": "2023-04-20T16:44:20.948345Z",
     "iopub.status.busy": "2023-04-20T16:44:20.948002Z",
     "iopub.status.idle": "2023-04-20T16:44:21.059917Z",
     "shell.execute_reply": "2023-04-20T16:44:21.059393Z",
     "shell.execute_reply.started": "2023-04-20T16:44:20.948326Z"
    },
    "tags": []
   },
   "outputs": [],
   "source": [
    "#Turn off the chiller\n",
    "tmp = await WhiteLightSource.cmd_stopChiller.start()"
   ]
  },
  {
   "cell_type": "markdown",
   "id": "fb78a8e8",
   "metadata": {},
   "source": [
    "### Test Monochromator"
   ]
  },
  {
   "cell_type": "code",
   "execution_count": null,
   "id": "95f49f1c-4655-4954-8b0b-cb1c50e4c11c",
   "metadata": {
    "tags": []
   },
   "outputs": [],
   "source": [
    "tmp=await atmonochromator.cmd_standby.start()"
   ]
  },
  {
   "cell_type": "code",
   "execution_count": null,
   "id": "26f6d2ed-5540-49fa-aa96-ca22b381337f",
   "metadata": {
    "tags": []
   },
   "outputs": [],
   "source": [
    "# tmp=await atmonochromator.cmd_standby.start()\n",
    "await atmonochromator.cmd_start.start()"
   ]
  },
  {
   "cell_type": "code",
   "execution_count": null,
   "id": "9c4906f6",
   "metadata": {
    "tags": []
   },
   "outputs": [],
   "source": [
    "state = salobj.State.STANDBY\n",
    "tmp = await salobj.set_summary_state(atmonochromator, state, timeout=60)"
   ]
  },
  {
   "cell_type": "code",
   "execution_count": null,
   "id": "7baa8f01",
   "metadata": {
    "execution": {
     "iopub.execute_input": "2023-04-20T15:04:25.914100Z",
     "iopub.status.busy": "2023-04-20T15:04:25.913836Z",
     "iopub.status.idle": "2023-04-20T15:04:25.917010Z",
     "shell.execute_reply": "2023-04-20T15:04:25.916625Z",
     "shell.execute_reply.started": "2023-04-20T15:04:25.914083Z"
    },
    "tags": []
   },
   "outputs": [],
   "source": [
    "async def get_params():\n",
    "    tmp1 = await atmonochromator.evt_wavelength.aget()\n",
    "    tmp2 = await atmonochromator.evt_entrySlitWidth.aget()\n",
    "    tmp3 = await atmonochromator.evt_exitSlitWidth.aget()\n",
    "    tmp4 = await atmonochromator.evt_selectedGrating.aget()\n",
    "    return (tmp1.wavelength, tmp2.width, tmp3.width, tmp4.gratingType)"
   ]
  },
  {
   "cell_type": "code",
   "execution_count": null,
   "id": "8f70a132",
   "metadata": {
    "execution": {
     "iopub.execute_input": "2023-04-20T15:04:29.746251Z",
     "iopub.status.busy": "2023-04-20T15:04:29.745980Z",
     "iopub.status.idle": "2023-04-20T15:04:29.749498Z",
     "shell.execute_reply": "2023-04-20T15:04:29.749108Z",
     "shell.execute_reply.started": "2023-04-20T15:04:29.746235Z"
    },
    "tags": []
   },
   "outputs": [],
   "source": [
    "await get_params()"
   ]
  },
  {
   "cell_type": "code",
   "execution_count": null,
   "id": "03dab6b4-88a4-4258-be4c-271bbdb979de",
   "metadata": {
    "execution": {
     "iopub.execute_input": "2023-04-20T16:15:37.912313Z",
     "iopub.status.busy": "2023-04-20T16:15:37.912159Z",
     "iopub.status.idle": "2023-04-20T16:15:40.290094Z",
     "shell.execute_reply": "2023-04-20T16:15:40.289537Z",
     "shell.execute_reply.started": "2023-04-20T16:15:37.912299Z"
    },
    "tags": []
   },
   "outputs": [],
   "source": [
    "wave=500\n",
    "await atmonochromator.cmd_changeWavelength.set_start(wavelength=wave)"
   ]
  },
  {
   "cell_type": "code",
   "execution_count": null,
   "id": "1221a3d0-9bd1-4db2-9869-a22a8e2b7cf3",
   "metadata": {
    "execution": {
     "iopub.execute_input": "2023-04-20T16:12:54.509226Z",
     "iopub.status.busy": "2023-04-20T16:12:54.508947Z",
     "iopub.status.idle": "2023-04-20T16:12:55.949399Z",
     "shell.execute_reply": "2023-04-20T16:12:55.948884Z",
     "shell.execute_reply.started": "2023-04-20T16:12:54.509207Z"
    },
    "tags": []
   },
   "outputs": [],
   "source": [
    "entry_width=5.0\n",
    "exit_width=5.0\n",
    "await atmonochromator.cmd_changeSlitWidth.set_start(slit=1, slitWidth=entry_width)\n",
    "await atmonochromator.cmd_changeSlitWidth.set_start(slit=2, slitWidth=exit_width)"
   ]
  },
  {
   "cell_type": "code",
   "execution_count": null,
   "id": "3e5b776c-3dea-4dbe-9d8f-f437aaa1d70a",
   "metadata": {
    "execution": {
     "iopub.execute_input": "2023-04-20T16:14:29.493263Z",
     "iopub.status.busy": "2023-04-20T16:14:29.492975Z",
     "iopub.status.idle": "2023-04-20T16:15:37.899879Z",
     "shell.execute_reply": "2023-04-20T16:15:37.899349Z",
     "shell.execute_reply.started": "2023-04-20T16:14:29.493245Z"
    },
    "tags": []
   },
   "outputs": [],
   "source": [
    "grating=0 # which is which? 1 appears to be red, 0 appears to be blue, 2 is the mirror?\n",
    "# takes ~40s from 0->1, (timed)\n",
    "# takes ~180s from 1->0 (guess)\n",
    "# takes 0->2 ~115s (measured)\n",
    "# 2->0 takes 60s (measured)  -remeasured at 36s\n",
    "# 2->1 takes 69s (measured)\n",
    "# 1->2 takes 35s \n",
    "# Use grating 0 from 300-550 nm\n",
    "# Use grating 1 from 550-115 0nm\n",
    "await atmonochromator.cmd_selectGrating.set_start(gratingType=grating, timeout=180)"
   ]
  },
  {
   "cell_type": "code",
   "execution_count": null,
   "id": "888211e0",
   "metadata": {},
   "outputs": [],
   "source": [
    "# Change wavelength. Confirm that the color changes\n",
    "for wave in [400, 500, 600, 700]:\n",
    "    await atmonochromator.cmd_changeWavelength.set_start(wavelength=wave)"
   ]
  },
  {
   "cell_type": "code",
   "execution_count": null,
   "id": "cfaabcd1",
   "metadata": {},
   "outputs": [],
   "source": [
    "# Change slit size. Confirm that the brightness changes by eye\n",
    "for entry in [0.5, 4.5]:\n",
    "    for exit in [0.5, 4.5]:\n",
    "        await atmonochromator.cmd_changeSlitWidth.set_start(slit=1, slitWidth=entry_width)\n",
    "        await atmonochromator.cmd_changeSlitWidth.set_start(slit=2, slitWidth=exit_width)"
   ]
  },
  {
   "cell_type": "code",
   "execution_count": null,
   "id": "80e8655a",
   "metadata": {},
   "outputs": [],
   "source": [
    "# Change grating. If this times out, send monochromator to STANDBY and then back to ENABLED. \n",
    "# It takes a long time to change the grating.\n",
    "for grating in [0,1]:\n",
    "    await atmonochromator.cmd_selectGrating.set_start(gratingType=grating, timeout=60)"
   ]
  },
  {
   "cell_type": "markdown",
   "id": "1460e654",
   "metadata": {},
   "source": [
    "### Test Electrometer"
   ]
  },
  {
   "cell_type": "code",
   "execution_count": null,
   "id": "7ece1942",
   "metadata": {
    "tags": []
   },
   "outputs": [],
   "source": [
    "state = salobj.State.STANDBY\n",
    "tmp = await salobj.set_summary_state(electrometer, state, override='summit_auxtel.yaml',timeout=20)\n",
    "print(tmp)"
   ]
  },
  {
   "cell_type": "code",
   "execution_count": null,
   "id": "50762f16-242d-48a7-890e-023363b6433a",
   "metadata": {
    "tags": []
   },
   "outputs": [],
   "source": [
    "await electrometer.cmd_start.start()"
   ]
  },
  {
   "cell_type": "code",
   "execution_count": null,
   "id": "09c64f73",
   "metadata": {
    "execution": {
     "iopub.execute_input": "2023-04-20T15:05:32.171139Z",
     "iopub.status.busy": "2023-04-20T15:05:32.170800Z",
     "iopub.status.idle": "2023-04-20T15:05:32.298313Z",
     "shell.execute_reply": "2023-04-20T15:05:32.297777Z",
     "shell.execute_reply.started": "2023-04-20T15:05:32.171121Z"
    },
    "tags": []
   },
   "outputs": [],
   "source": [
    "await electrometer.cmd_performZeroCalib.set_start(timeout=10)\n",
    "await electrometer.cmd_setDigitalFilter.set_start(activateFilter=False, activateAvgFilter=False, activateMedFilter=False, timeout=10)    "
   ]
  },
  {
   "cell_type": "code",
   "execution_count": null,
   "id": "c49d68fc-f4ae-4ba5-8903-0882d604e4fe",
   "metadata": {
    "tags": []
   },
   "outputs": [],
   "source": [
    "# await electrometer.cmd_setMode.set_start(mode=2)"
   ]
  },
  {
   "cell_type": "code",
   "execution_count": null,
   "id": "24a99796",
   "metadata": {
    "execution": {
     "iopub.execute_input": "2023-04-20T15:05:34.927967Z",
     "iopub.status.busy": "2023-04-20T15:05:34.927604Z",
     "iopub.status.idle": "2023-04-20T15:05:34.931379Z",
     "shell.execute_reply": "2023-04-20T15:05:34.930850Z",
     "shell.execute_reply.started": "2023-04-20T15:05:34.927949Z"
    },
    "tags": []
   },
   "outputs": [],
   "source": [
    "mode = await electrometer.evt_measureType.aget()\n",
    "intTime = await electrometer.evt_integrationTime.aget()\n",
    "range_ = await electrometer.evt_measureRange.aget()\n",
    "print(f'Mode: {mode.mode}; Int. Time: {intTime.intTime}; Range: {range_.rangeValue}')"
   ]
  },
  {
   "cell_type": "code",
   "execution_count": null,
   "id": "ee29e7fe-3132-407c-8c79-af63a7935703",
   "metadata": {
    "execution": {
     "iopub.execute_input": "2023-04-20T15:08:50.727143Z",
     "iopub.status.busy": "2023-04-20T15:08:50.726873Z",
     "iopub.status.idle": "2023-04-20T15:08:50.761701Z",
     "shell.execute_reply": "2023-04-20T15:08:50.761321Z",
     "shell.execute_reply.started": "2023-04-20T15:08:50.727125Z"
    },
    "tags": []
   },
   "outputs": [],
   "source": [
    "# To change integration time\n",
    "await electrometer.cmd_setIntegrationTime.set_start(intTime=0.01) "
   ]
  },
  {
   "cell_type": "code",
   "execution_count": null,
   "id": "d458d4d8-dbf8-4c27-9694-12bbd9fbe77f",
   "metadata": {
    "execution": {
     "iopub.execute_input": "2023-04-20T15:08:13.386916Z",
     "iopub.status.busy": "2023-04-20T15:08:13.386644Z",
     "iopub.status.idle": "2023-04-20T15:08:13.418768Z",
     "shell.execute_reply": "2023-04-20T15:08:13.418381Z",
     "shell.execute_reply.started": "2023-04-20T15:08:13.386899Z"
    },
    "tags": []
   },
   "outputs": [],
   "source": [
    "# To change range.  -1 is autorange\n",
    "await electrometer.cmd_setRange.set_start(setRange=-1)"
   ]
  },
  {
   "cell_type": "code",
   "execution_count": null,
   "id": "3325f0a0-d178-49ab-9d0c-f862b934d2bb",
   "metadata": {
    "execution": {
     "iopub.execute_input": "2023-04-20T15:06:13.922861Z",
     "iopub.status.busy": "2023-04-20T15:06:13.922503Z",
     "iopub.status.idle": "2023-04-20T15:06:13.925566Z",
     "shell.execute_reply": "2023-04-20T15:06:13.925088Z",
     "shell.execute_reply.started": "2023-04-20T15:06:13.922843Z"
    },
    "tags": []
   },
   "outputs": [],
   "source": [
    "electrometer.evt_largeFileObjectAvailable.flush()"
   ]
  },
  {
   "cell_type": "code",
   "execution_count": null,
   "id": "59a5344c",
   "metadata": {
    "execution": {
     "iopub.execute_input": "2023-04-20T15:08:53.703810Z",
     "iopub.status.busy": "2023-04-20T15:08:53.703538Z",
     "iopub.status.idle": "2023-04-20T15:08:56.724367Z",
     "shell.execute_reply": "2023-04-20T15:08:56.723839Z",
     "shell.execute_reply.started": "2023-04-20T15:08:53.703793Z"
    },
    "tags": []
   },
   "outputs": [],
   "source": [
    "exp_time = 2 #sec\n",
    "electrometer.evt_largeFileObjectAvailable.flush()\n",
    "etmp1=await electrometer.cmd_startScan.set_start(timeout=10)\n",
    "await asyncio.sleep(exp_time)\n",
    "tmp2=await electrometer.cmd_stopScan.set_start(timeout=10)\n"
   ]
  },
  {
   "cell_type": "code",
   "execution_count": null,
   "id": "d24de575-44cb-4a28-9e99-42445cd0bae5",
   "metadata": {
    "execution": {
     "iopub.execute_input": "2023-04-20T15:08:57.321537Z",
     "iopub.status.busy": "2023-04-20T15:08:57.321256Z",
     "iopub.status.idle": "2023-04-20T15:08:57.324222Z",
     "shell.execute_reply": "2023-04-20T15:08:57.323772Z",
     "shell.execute_reply.started": "2023-04-20T15:08:57.321519Z"
    },
    "tags": []
   },
   "outputs": [],
   "source": [
    "lfa = await electrometer.evt_largeFileObjectAvailable.next(flush=False, timeout=10)\n",
    "filename= os.path.split(lfa.url)[1]"
   ]
  },
  {
   "cell_type": "code",
   "execution_count": null,
   "id": "0897391e-ad0c-4c33-a73c-3c42e555cd48",
   "metadata": {
    "execution": {
     "iopub.execute_input": "2023-04-20T15:08:58.100905Z",
     "iopub.status.busy": "2023-04-20T15:08:58.100632Z",
     "iopub.status.idle": "2023-04-20T15:08:58.103555Z",
     "shell.execute_reply": "2023-04-20T15:08:58.103173Z",
     "shell.execute_reply.started": "2023-04-20T15:08:58.100888Z"
    },
    "tags": []
   },
   "outputs": [],
   "source": [
    "filename = filename.replace(\":\", \"_\")\n",
    "print(filename)"
   ]
  },
  {
   "cell_type": "code",
   "execution_count": null,
   "id": "c4b8a80a",
   "metadata": {
    "execution": {
     "iopub.execute_input": "2023-04-20T15:08:58.877982Z",
     "iopub.status.busy": "2023-04-20T15:08:58.877592Z",
     "iopub.status.idle": "2023-04-20T15:08:59.225152Z",
     "shell.execute_reply": "2023-04-20T15:08:59.224374Z",
     "shell.execute_reply.started": "2023-04-20T15:08:58.877964Z"
    },
    "tags": []
   },
   "outputs": [],
   "source": [
    "#transfer file to your machine so you can look at it\n",
    "elec_filen = os.path.join(data_dir, filename)\n",
    "os.system(f\"curl {lfa.url} --output {elec_filen}\")"
   ]
  },
  {
   "cell_type": "code",
   "execution_count": null,
   "id": "171c5f5c",
   "metadata": {
    "execution": {
     "iopub.execute_input": "2023-04-20T15:09:00.049038Z",
     "iopub.status.busy": "2023-04-20T15:09:00.048667Z",
     "iopub.status.idle": "2023-04-20T15:09:00.062006Z",
     "shell.execute_reply": "2023-04-20T15:09:00.061441Z",
     "shell.execute_reply.started": "2023-04-20T15:09:00.049020Z"
    },
    "tags": []
   },
   "outputs": [],
   "source": [
    "# Look at Data\n",
    "hdu = fits.open(f'{elec_filen}')\n",
    "data = hdu[1].data\n",
    "print(data)"
   ]
  },
  {
   "cell_type": "code",
   "execution_count": null,
   "id": "d95a8ddd",
   "metadata": {
    "execution": {
     "iopub.execute_input": "2023-04-20T15:09:00.973758Z",
     "iopub.status.busy": "2023-04-20T15:09:00.973479Z",
     "iopub.status.idle": "2023-04-20T15:09:01.085539Z",
     "shell.execute_reply": "2023-04-20T15:09:01.085121Z",
     "shell.execute_reply.started": "2023-04-20T15:09:00.973740Z"
    },
    "tags": []
   },
   "outputs": [],
   "source": [
    "# Plot Data\n",
    "plt.plot(data['Elapsed Time'], data['Signal'],'.')\n",
    "plt.xlabel('ElapsedTime')\n",
    "plt.ylabel('Signal')\n",
    "plt.ylim(-2E-6, 0)"
   ]
  },
  {
   "cell_type": "markdown",
   "id": "51b057ae",
   "metadata": {},
   "source": [
    "### Test Fiber Spectrograph"
   ]
  },
  {
   "cell_type": "code",
   "execution_count": null,
   "id": "9a908a53",
   "metadata": {
    "tags": []
   },
   "outputs": [],
   "source": [
    "state = salobj.State.STANDBY\n",
    "tmp = await salobj.set_summary_state(FiberSpectrograph, state)"
   ]
  },
  {
   "cell_type": "code",
   "execution_count": null,
   "id": "e0dddaa4-3484-4f5f-9c14-6f95e65a9d49",
   "metadata": {
    "tags": []
   },
   "outputs": [],
   "source": [
    "await FiberSpectrograph.cmd_start.start()"
   ]
  },
  {
   "cell_type": "code",
   "execution_count": null,
   "id": "2136d487-dc02-459a-8114-1892a642f15c",
   "metadata": {
    "tags": []
   },
   "outputs": [],
   "source": [
    "state = salobj.State.STANDBY\n",
    "tmp = await salobj.set_summary_state(FiberSpectrograph, state, timeout=20)\n",
    "print(tmp)"
   ]
  },
  {
   "cell_type": "code",
   "execution_count": null,
   "id": "81d4e209",
   "metadata": {
    "execution": {
     "iopub.execute_input": "2023-04-20T15:09:48.600942Z",
     "iopub.status.busy": "2023-04-20T15:09:48.600563Z",
     "iopub.status.idle": "2023-04-20T15:09:48.932113Z",
     "shell.execute_reply": "2023-04-20T15:09:48.931520Z",
     "shell.execute_reply.started": "2023-04-20T15:09:48.600923Z"
    },
    "tags": []
   },
   "outputs": [],
   "source": [
    "exp_time = 0.1 #sec\n",
    "FiberSpectrograph.evt_largeFileObjectAvailable.flush()\n",
    "tmp1 = await FiberSpectrograph.cmd_expose.set_start(duration=exp_time, numExposures=1)\n",
    "lfa = await FiberSpectrograph.evt_largeFileObjectAvailable.next(flush=False, timeout=10)\n",
    "filename = os.path.split(lfa.url)[1]"
   ]
  },
  {
   "cell_type": "code",
   "execution_count": null,
   "id": "82a06f49-1ba2-4864-80e2-382210c9b1d2",
   "metadata": {
    "tags": []
   },
   "outputs": [],
   "source": [
    "lfa.url"
   ]
  },
  {
   "cell_type": "code",
   "execution_count": null,
   "id": "b3abd84e-990d-4762-8833-0a399b0eaf70",
   "metadata": {
    "tags": []
   },
   "outputs": [],
   "source": [
    "filename"
   ]
  },
  {
   "cell_type": "code",
   "execution_count": null,
   "id": "81158976",
   "metadata": {
    "execution": {
     "iopub.execute_input": "2023-04-20T15:09:52.214587Z",
     "iopub.status.busy": "2023-04-20T15:09:52.214226Z",
     "iopub.status.idle": "2023-04-20T15:09:52.328326Z",
     "shell.execute_reply": "2023-04-20T15:09:52.327677Z",
     "shell.execute_reply.started": "2023-04-20T15:09:52.214569Z"
    },
    "tags": []
   },
   "outputs": [],
   "source": [
    "#transfer file to your machine so you can look at it\n",
    "spec_filen = os.path.join(data_dir, filename)\n",
    "os.system(f\"curl {lfa.url} --output {spec_filen}\")"
   ]
  },
  {
   "cell_type": "code",
   "execution_count": null,
   "id": "19321570-5863-4f8c-ac9b-9798e8918a22",
   "metadata": {
    "execution": {
     "iopub.execute_input": "2023-04-20T15:09:53.523552Z",
     "iopub.status.busy": "2023-04-20T15:09:53.523173Z",
     "iopub.status.idle": "2023-04-20T15:09:53.526991Z",
     "shell.execute_reply": "2023-04-20T15:09:53.526526Z",
     "shell.execute_reply.started": "2023-04-20T15:09:53.523534Z"
    },
    "tags": []
   },
   "outputs": [],
   "source": [
    "spec_filen"
   ]
  },
  {
   "cell_type": "code",
   "execution_count": null,
   "id": "f662ef5d",
   "metadata": {
    "execution": {
     "iopub.execute_input": "2023-04-20T15:09:54.322001Z",
     "iopub.status.busy": "2023-04-20T15:09:54.321687Z",
     "iopub.status.idle": "2023-04-20T15:09:54.330159Z",
     "shell.execute_reply": "2023-04-20T15:09:54.329677Z",
     "shell.execute_reply.started": "2023-04-20T15:09:54.321985Z"
    },
    "tags": []
   },
   "outputs": [],
   "source": [
    "# Look at Data\n",
    "hdu = fits.open(f'{spec_filen}')\n",
    "wavelength = hdu[1].data['wavelength'].flatten()\n",
    "spectra = hdu[0].data"
   ]
  },
  {
   "cell_type": "code",
   "execution_count": null,
   "id": "214df3e5",
   "metadata": {
    "execution": {
     "iopub.execute_input": "2023-04-20T15:09:55.234186Z",
     "iopub.status.busy": "2023-04-20T15:09:55.233890Z",
     "iopub.status.idle": "2023-04-20T15:09:57.531585Z",
     "shell.execute_reply": "2023-04-20T15:09:57.530914Z",
     "shell.execute_reply.started": "2023-04-20T15:09:55.234169Z"
    },
    "tags": []
   },
   "outputs": [],
   "source": [
    "# Plot data\n",
    "for spec in spectra: #there is probably only one\n",
    "    plt.plot(wavelength, spectra)\n",
    "plt.xlabel('Wavelength (nm)')\n",
    "plt.ylabel('Counts')\n",
    "plt.xlim(490, 510)"
   ]
  },
  {
   "cell_type": "markdown",
   "id": "cafde913",
   "metadata": {},
   "source": [
    "## Test all Components Together"
   ]
  },
  {
   "cell_type": "code",
   "execution_count": null,
   "id": "8f1ef778",
   "metadata": {},
   "outputs": [],
   "source": [
    "async def set_params(wave, entry_width, exit_width, grating):\n",
    "    await atmonochromator.cmd_changeSlitWidth.set_start(slit=1, slitWidth=entry_width)\n",
    "    await atmonochromator.cmd_changeSlitWidth.set_start(slit=2, slitWidth=exit_width)\n",
    "    await atmonochromator.cmd_changeWavelength.set_start(wavelength=wave)\n",
    "    await atmonochromator.cmd_selectGrating.set_start(gratingType=grating, timeout=60)\n",
    "   \n",
    "    tmp1 = await atmonochromator.evt_wavelength.aget()\n",
    "    tmp2 = await atmonochromator.evt_entrySlitWidth.aget()\n",
    "    tmp3 = await atmonochromator.evt_exitSlitWidth.aget()\n",
    "    tmp4 = await atmonochromator.evt_selectedGrating.aget()\n",
    "    return (tmp1.wavelength, tmp2.width, tmp3.width, tmp4.gratingType)"
   ]
  },
  {
   "cell_type": "code",
   "execution_count": null,
   "id": "6d3d807e",
   "metadata": {},
   "outputs": [],
   "source": [
    "def get_file_transfer(lfa):\n",
    "    filename = os.path.split(lfa.url)[1]\n",
    "    save_dir = os.path.join(data_dir, filename.split(':')[0])\n",
    "    if not os.path.exists(save_dir):\n",
    "        os.mkdir(save_dir)\n",
    "    save_file = os.path.join(save_dir, filename)\n",
    "    os.system(f\"curl {lfa.url} --output {save_file}\")\n",
    "    return save_file"
   ]
  },
  {
   "cell_type": "code",
   "execution_count": null,
   "id": "9e200e21",
   "metadata": {},
   "outputs": [],
   "source": [
    "async def elec_meas(exp_time):\n",
    "    tmp1=await electrometer.cmd_startScan.set_start(timeout=10)\n",
    "    await asyncio.sleep(exp_time)\n",
    "    tmp2=await electrometer.cmd_stopScan.set_start(timeout=10)\n",
    "    lfa = await electrometer.evt_largeFileObjectAvailable.next(flush=False, timeout=10)\n",
    "    filename = get_file_transfer(lfa)\n",
    "    return filename"
   ]
  },
  {
   "cell_type": "code",
   "execution_count": null,
   "id": "be9eb04a",
   "metadata": {},
   "outputs": [],
   "source": [
    "async def spect_meas(exp_time):\n",
    "    tmp1 = await FiberSpectrograph.cmd_expose.set_start(duration=exp_time, numExposures=1)\n",
    "    lfa = await FiberSpectrograph.evt_largeFileObjectAvailable.next(flush=False, timeout=10)\n",
    "    filename = get_file_transfer(lfa)\n",
    "    return filename"
   ]
  },
  {
   "cell_type": "code",
   "execution_count": null,
   "id": "88147b44",
   "metadata": {},
   "outputs": [],
   "source": [
    "data = []\n",
    "exp_time = 1.\n",
    "start = Time.now()\n",
    "for wls_power in [800, 900, 1000, 1100]:\n",
    "    tmp = await WhiteLightSource.cmd_turnLampOn.set_start(power=wls_power)\n",
    "    for wave in np.linspace(300, 1200, 10):\n",
    "        print(wave, Time.now())\n",
    "        for entry_width in [0.5, 4.9]: #[, 0.1]: #, 3., 4., 4.9]:\n",
    "            for exit_width in [0.5, 4.9]: #[0.02,0.04, 0.06, 0.08, 0.1]: #, 3., 4., 4.9]:\n",
    "                start_meas = Time.now().isot\n",
    "                wavelength, entry_width, exit_width, gratingType = await set_params(wave, entry_width, exit_width, grating)\n",
    "                await elec_meas(exp_time)   \n",
    "                spec_fn = await spect_meas(exp_time)\n",
    "                await asyncio.sleep(5.)\n",
    "                end_meas = Time.now().isot\n",
    "                data.append([start_meas, end_meas, wls_power, exp_time, wavelength, entry_width, exit_width, gratingType, spec_fn])"
   ]
  },
  {
   "cell_type": "code",
   "execution_count": null,
   "id": "9c45d9ec",
   "metadata": {},
   "outputs": [],
   "source": [
    "data = []\n",
    "exp_time = 1.\n",
    "start = Time.now()\n",
    "for wls_power in [800, 900, 1000, 1100]:\n",
    "    tmp = await WhiteLightSource.cmd_turnLampOn.set_start(power=wls_power)\n",
    "    for wave in np.linspace(500, 800, 3):\n",
    "        print(wave, Time.now())\n",
    "        for entry_width in [0.5, 4.9]: #[, 0.1]: #, 3., 4., 4.9]:\n",
    "            for exit_width in [0.5, 4.9]: #[0.02,0.04, 0.06, 0.08, 0.1]: #, 3., 4., 4.9]:\n",
    "                start_meas = Time.now().isot\n",
    "                wavelength, entry_width, exit_width, gratingType = await set_params(wave, entry_width, exit_width, grating)\n",
    "                elec_fn = await elec_meas(exp_time)   \n",
    "                spec_fn = await spect_meas(exp_time)\n",
    "                await asyncio.sleep(5.)\n",
    "                end_meas = Time.now().isot\n",
    "                data.append([start_meas, end_meas, wls_power, exp_time, wavelength, entry_width, exit_width, gratingType, spec_fn, elec_fn])"
   ]
  },
  {
   "cell_type": "code",
   "execution_count": null,
   "id": "3afd05bd",
   "metadata": {},
   "outputs": [],
   "source": [
    "df = pd.DataFrame(data, columns = ['start', 'end', 'wls_power', 'exp_time', 'wavelength','entry_slit', 'exit_slit', \n",
    "                                  'grating', 'spec_fn', 'elec_fn'])\n",
    "t = Table.from_pandas(df)"
   ]
  },
  {
   "cell_type": "markdown",
   "id": "8a2f5936",
   "metadata": {},
   "source": [
    "### Save Data into a single fits file"
   ]
  },
  {
   "cell_type": "code",
   "execution_count": null,
   "id": "e11ff2df",
   "metadata": {},
   "outputs": [],
   "source": [
    "# Save data into a single fits file\n",
    "elec_time = []\n",
    "elec_data = []\n",
    "wave = []\n",
    "spectra = []\n",
    "\n",
    "for row in t:\n",
    "    spec_fn = row[-2]\n",
    "    hdu = fits.open(spec_fn)\n",
    "    spectra.append(hdu[0].data)\n",
    "    wave.append(hdu[1].data['wavelength'].flatten())\n",
    "    \n",
    "    elec_fn = row[-1]\n",
    "    hdu = fits.open(elec_fn)\n",
    "    d = hdu[1].data\n",
    "    elec_time.append(d['Elapsed Time'])\n",
    "    elec_data.append(d['Signal'])\n",
    "    \n",
    "#Reshape the data to put it all in a fits file. Sorry, this is ugly\n",
    "shape_elec = max([len(l) for l in elec_time])\n",
    "shape_wave = max([len(l) for l in wave])\n",
    "\n",
    "elec_time2 = np.zeros((len(elec_time), shape_elec))\n",
    "elec_data2 = np.zeros((len(elec_time), shape_elec))\n",
    "for i, row in enumerate(elec_time):\n",
    "    elec_time2[i][0:row.shape[0]] = row\n",
    "    elec_data2[i][0:row.shape[0]] = np.array(elec_data)[i]\n",
    "\n",
    "hdulist = fits.HDUList()\n",
    "empty_primary = fits.PrimaryHDU()\n",
    "hdulist.append(empty_primary)\n",
    "\n",
    "#Make a rec array of the data\n",
    "hdulist.append(fits.BinTableHDU(t.as_array(), name='CONFIG'))\n",
    "\n",
    "hdulist.append(fits.ImageHDU(np.vstack(elec_time2), name='ELEC_TIME'))\n",
    "hdulist.append(fits.ImageHDU(np.vstack(elec_data2), name='ELEC_DATA'))\n",
    "hdulist.append(fits.ImageHDU(np.vstack(wave), name='WAVELENGTH'))\n",
    "hdulist.append(fits.ImageHDU(np.vstack(spectra), name='SPECTRA'))\n",
    "\n",
    "save_filen = '{}/{}.fits'.format(os.path.join(data_dir,'AuxTel'), 'test_20221209')\n",
    "hdulist.writeto(save_filen, overwrite=True)\n",
    "print('Data Saved to {}'.format(save_filen))"
   ]
  },
  {
   "cell_type": "code",
   "execution_count": null,
   "id": "81ea6314",
   "metadata": {},
   "outputs": [],
   "source": [
    "hdu = fits.open(save_filen)\n",
    "hdu.info()"
   ]
  },
  {
   "cell_type": "code",
   "execution_count": null,
   "id": "95ce995e",
   "metadata": {},
   "outputs": [],
   "source": [
    "Table(hdu[1].data)"
   ]
  },
  {
   "cell_type": "code",
   "execution_count": null,
   "id": "5c2f72a8",
   "metadata": {},
   "outputs": [],
   "source": [
    "waves = hdu[4].data\n",
    "spectra = hdu[5].data\n",
    "ret = plt.plot(waves, spectra)"
   ]
  },
  {
   "cell_type": "code",
   "execution_count": null,
   "id": "436bdac3-7f12-4dc4-8ddc-bdb7f2b0dc38",
   "metadata": {},
   "outputs": [],
   "source": []
  },
  {
   "cell_type": "code",
   "execution_count": null,
   "id": "30212c3c-cb10-4805-ba35-67b100befa24",
   "metadata": {},
   "outputs": [],
   "source": [
    "import yaml"
   ]
  },
  {
   "cell_type": "code",
   "execution_count": null,
   "id": "169d06d6-82a4-4e47-8c7d-e2b690f575d5",
   "metadata": {},
   "outputs": [],
   "source": [
    "step1 = {\n",
    "    \"wavelength\": 580,\n",
    "    \"grating\": 1,  # enums.ATMonochromator.Grating.RED,  --> Enums are wrong!\n",
    "    \"spec_res\": 7,\n",
    "    \"exit_slit_width\": 4.5,\n",
    "    \"entrance_slit_width\": 4.5,\n",
    "    \"exp_time\": 3,\n",
    "    \"n_exp\": 3,\n",
    "    \"fs_exp_time\": 1,\n",
    "    \"fs_n_exp\": 1,\n",
    "    \"em_exp_time\": 5,\n",
    "    \"em_n_exp\": 1,\n",
    "}"
   ]
  },
  {
   "cell_type": "code",
   "execution_count": null,
   "id": "80f52856-8e51-42c7-b692-9d9b9b5728a3",
   "metadata": {
    "tags": []
   },
   "outputs": [],
   "source": [
    "def step_config(min_wave: float=500, max_wave: float=700, w_steps: int=10, grating: int = 1, \n",
    "                ent_slit: float = 4.5, exit_slit: float = 4.5, exp_time: float = 3,\n",
    "                n_exp: int = 3, fs_exp_time: int = 3, fs_n_exp: int =1, em_exp_time: float=3, em_n_exp:int=1):\n",
    "    waves = np.arange(min_wave,max_wave,w_steps) # r-band\n",
    "    \n",
    "    # config=dict(steps=[])\n",
    "    steps = []\n",
    "    \n",
    "    spec_res = 999 # dummy value for now\n",
    "    \n",
    "    for wave in waves:\n",
    "        step = {\n",
    "    \"wavelength\": float(wave),\n",
    "    \"grating\": grating,  # enums.ATMonochromator.Grating.RED,  --> Enums are wrong!\n",
    "    \"spec_res\": -1, # place holder until we know this\n",
    "    \"exit_slit_width\": exit_slit,\n",
    "    \"entrance_slit_width\": ent_slit,\n",
    "    \"exp_time\": exp_time,\n",
    "    \"n_exp\": n_exp,\n",
    "    \"fs_exp_time\": fs_exp_time,\n",
    "    \"fs_n_exp\": fs_n_exp,\n",
    "    \"em_exp_time\": em_exp_time,\n",
    "    \"em_n_exp\": em_n_exp}\n",
    "    \n",
    "        steps.append(step)\n",
    "    \n",
    "    # print(steps)\n",
    "    # convert to yaml\n",
    "    steps_for_script = yaml.safe_dump(steps)\n",
    "    return steps_for_script"
   ]
  },
  {
   "cell_type": "code",
   "execution_count": null,
   "id": "953e0dba-91cb-47e5-802a-b4eb51750e56",
   "metadata": {
    "tags": []
   },
   "outputs": [],
   "source": [
    "min_wave = 530.0\n",
    "max_wave = 570.0\n",
    "w_steps = 5\n",
    "\n",
    "yaml_string = step_config(min_wave, max_wave, w_steps)\n",
    "print(yaml_string)"
   ]
  },
  {
   "cell_type": "code",
   "execution_count": null,
   "id": "ead47947-8671-4349-a8bd-c660551ae2cc",
   "metadata": {
    "tags": []
   },
   "outputs": [],
   "source": [
    "blah2 = yaml.safe_load(yaml_string)\n",
    "print(blah2)"
   ]
  },
  {
   "cell_type": "code",
   "execution_count": null,
   "id": "6d49aeb9-5e65-4ae7-a3da-619db5b459aa",
   "metadata": {
    "tags": []
   },
   "outputs": [],
   "source": [
    "central_wave = 600\n",
    "wrange = np.arange(540,700,10) # r-band\n",
    "steps = 10\n",
    "\n",
    "for wave in wrange:\n",
    "    print(wave)"
   ]
  },
  {
   "cell_type": "code",
   "execution_count": null,
   "id": "a4125630-ed70-4847-83b6-0e326e6d9d50",
   "metadata": {
    "tags": []
   },
   "outputs": [],
   "source": [
    "await electrometer.evt_largeFileObjectAvailable.next(flush=False)"
   ]
  },
  {
   "cell_type": "code",
   "execution_count": null,
   "id": "8b43d298-8a1f-4d4f-8d90-401fd78c2e85",
   "metadata": {},
   "outputs": [],
   "source": [
    "electrometer.evt_largeFileObjectAvailable.aget?"
   ]
  },
  {
   "cell_type": "code",
   "execution_count": null,
   "id": "9c2f873f-1045-4222-9981-b59521b0cede",
   "metadata": {
    "tags": []
   },
   "outputs": [],
   "source": [
    "tmp = await electrometer.evt_largeFileObjectAvailable.aget()"
   ]
  },
  {
   "cell_type": "code",
   "execution_count": null,
   "id": "9aa07679-4613-41da-a874-9fda01171b86",
   "metadata": {
    "tags": []
   },
   "outputs": [],
   "source": [
    "tmp.url"
   ]
  },
  {
   "cell_type": "code",
   "execution_count": null,
   "id": "f42b82e2-ad36-462f-9a91-94afcdbe0d69",
   "metadata": {},
   "outputs": [],
   "source": [
    "print(1)"
   ]
  },
  {
   "cell_type": "code",
   "execution_count": null,
   "id": "4fc60ee0-e485-484e-9adb-4a0a338449de",
   "metadata": {},
   "outputs": [],
   "source": []
  }
 ],
 "metadata": {
  "kernelspec": {
   "display_name": "LSST",
   "language": "python",
   "name": "lsst"
  },
  "language_info": {
   "codemirror_mode": {
    "name": "ipython",
    "version": 3
   },
   "file_extension": ".py",
   "mimetype": "text/x-python",
   "name": "python",
   "nbconvert_exporter": "python",
   "pygments_lexer": "ipython3",
   "version": "3.10.9"
  }
 },
 "nbformat": 4,
 "nbformat_minor": 5
}
