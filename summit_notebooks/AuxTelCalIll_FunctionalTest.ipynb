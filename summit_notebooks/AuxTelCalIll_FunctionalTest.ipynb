{
 "cells": [
  {
   "cell_type": "markdown",
   "id": "66953411",
   "metadata": {},
   "source": [
    "# AuxTel Calibration Illumination System Functional Test"
   ]
  },
  {
   "cell_type": "markdown",
   "id": "5fc900e0",
   "metadata": {},
   "source": [
    "This notebook is meant to be used a functional checkout of the AuxTel illumination system. It includes all functionality but doesn't necessarily show how the system should be used in operation. It was written within the context of the Tucson Teststand and should be modified to be run on the summit."
   ]
  },
  {
   "cell_type": "code",
   "execution_count": null,
   "id": "4fdba962",
   "metadata": {
    "execution": {
     "iopub.execute_input": "2023-02-01T15:38:02.540304Z",
     "iopub.status.busy": "2023-02-01T15:38:02.540042Z",
     "iopub.status.idle": "2023-02-01T15:38:04.335571Z",
     "shell.execute_reply": "2023-02-01T15:38:04.334969Z",
     "shell.execute_reply.started": "2023-02-01T15:38:02.540288Z"
    },
    "tags": []
   },
   "outputs": [],
   "source": [
    "import asyncio\n",
    "from lsst.ts import utils\n",
    "\n",
    "import numpy as np\n",
    "import pandas as pd\n",
    "import matplotlib.pyplot as plt\n",
    "\n",
    "from astropy.io import fits\n",
    "from astropy.time import Time\n",
    "from astropy.table import Table\n",
    "\n",
    "from lsst_efd_client import EfdClient\n",
    "client = EfdClient('summit_efd')\n",
    "\n",
    "from lsst.ts import salobj"
   ]
  },
  {
   "cell_type": "code",
   "execution_count": null,
   "id": "582744d1",
   "metadata": {
    "execution": {
     "iopub.execute_input": "2023-02-01T15:38:06.059772Z",
     "iopub.status.busy": "2023-02-01T15:38:06.059428Z",
     "iopub.status.idle": "2023-02-01T15:38:06.062430Z",
     "shell.execute_reply": "2023-02-01T15:38:06.061948Z",
     "shell.execute_reply.started": "2023-02-01T15:38:06.059754Z"
    },
    "tags": []
   },
   "outputs": [],
   "source": [
    "# change this to a local directory\n",
    "data_dir = '/home/craiglagegit/DATA'"
   ]
  },
  {
   "cell_type": "code",
   "execution_count": null,
   "id": "ca265d8d",
   "metadata": {
    "execution": {
     "iopub.execute_input": "2023-02-01T15:38:08.289362Z",
     "iopub.status.busy": "2023-02-01T15:38:08.289016Z",
     "iopub.status.idle": "2023-02-01T15:38:08.308449Z",
     "shell.execute_reply": "2023-02-01T15:38:08.307837Z",
     "shell.execute_reply.started": "2023-02-01T15:38:08.289344Z"
    },
    "tags": []
   },
   "outputs": [],
   "source": [
    "d = salobj.Domain()"
   ]
  },
  {
   "cell_type": "markdown",
   "id": "bd0fe9a6",
   "metadata": {},
   "source": [
    "### Connect to CSCs"
   ]
  },
  {
   "cell_type": "code",
   "execution_count": null,
   "id": "804e9aac",
   "metadata": {
    "execution": {
     "iopub.execute_input": "2023-02-01T15:38:10.445190Z",
     "iopub.status.busy": "2023-02-01T15:38:10.444838Z",
     "iopub.status.idle": "2023-02-01T15:38:10.685379Z",
     "shell.execute_reply": "2023-02-01T15:38:10.684759Z",
     "shell.execute_reply.started": "2023-02-01T15:38:10.445173Z"
    },
    "tags": []
   },
   "outputs": [],
   "source": [
    "atmonochromator = salobj.Remote(d, 'ATMonochromator')\n",
    "FiberSpectrograph = salobj.Remote(name=\"FiberSpectrograph\", domain=d, index=3)\n",
    "electrometer = salobj.Remote(name=\"Electrometer\", domain=d, index=201) \n",
    "WhiteLightSource = salobj.Remote(name='ATWhiteLight', domain=d)"
   ]
  },
  {
   "cell_type": "code",
   "execution_count": null,
   "id": "06512f70",
   "metadata": {
    "execution": {
     "iopub.execute_input": "2023-02-01T15:38:14.085554Z",
     "iopub.status.busy": "2023-02-01T15:38:14.084742Z",
     "iopub.status.idle": "2023-02-01T15:38:14.088218Z",
     "shell.execute_reply": "2023-02-01T15:38:14.087713Z",
     "shell.execute_reply.started": "2023-02-01T15:38:14.085535Z"
    },
    "tags": []
   },
   "outputs": [],
   "source": [
    "await atmonochromator.start_task\n",
    "await FiberSpectrograph.start_task\n",
    "await electrometer.start_task\n",
    "await WhiteLightSource.start_task"
   ]
  },
  {
   "cell_type": "code",
   "execution_count": null,
   "id": "89835bba",
   "metadata": {
    "execution": {
     "iopub.execute_input": "2023-02-01T15:38:15.988762Z",
     "iopub.status.busy": "2023-02-01T15:38:15.988076Z",
     "iopub.status.idle": "2023-02-01T15:38:15.992139Z",
     "shell.execute_reply": "2023-02-01T15:38:15.991639Z",
     "shell.execute_reply.started": "2023-02-01T15:38:15.988742Z"
    },
    "tags": []
   },
   "outputs": [],
   "source": [
    "async def get_status():\n",
    "    mono_tmp = await atmonochromator.evt_summaryState.aget()\n",
    "    spec_tmp = await FiberSpectrograph.evt_summaryState.aget()\n",
    "    elec_tmp = await electrometer.evt_summaryState.aget()\n",
    "    wls_tmp = await WhiteLightSource.evt_summaryState.aget()\n",
    "    print('Monochromator: ',salobj.State(mono_tmp.summaryState))\n",
    "    print('Fiber Spectrometer: ',salobj.State(spec_tmp.summaryState))\n",
    "    print('Electrometer: ',salobj.State(elec_tmp.summaryState))\n",
    "    print('WhiteLightSource: ',salobj.State(wls_tmp.summaryState))"
   ]
  },
  {
   "cell_type": "markdown",
   "id": "f289e5b7-4b8d-4b7d-b776-13e26370c190",
   "metadata": {},
   "source": [
    "## Try one at a time"
   ]
  },
  {
   "cell_type": "code",
   "execution_count": null,
   "id": "332468e3-60ae-4c2e-9397-343f3acf7d75",
   "metadata": {
    "execution": {
     "iopub.execute_input": "2023-02-01T19:05:31.656730Z",
     "iopub.status.busy": "2023-02-01T19:05:31.656393Z",
     "iopub.status.idle": "2023-02-01T19:05:31.660162Z",
     "shell.execute_reply": "2023-02-01T19:05:31.659627Z",
     "shell.execute_reply.started": "2023-02-01T19:05:31.656711Z"
    },
    "tags": []
   },
   "outputs": [],
   "source": [
    "mono_tmp = await atmonochromator.evt_summaryState.aget()\n",
    "print('Monochromator: ',salobj.State(mono_tmp.summaryState))"
   ]
  },
  {
   "cell_type": "code",
   "execution_count": null,
   "id": "a3931ebc-dbc7-4eb6-a210-b6ba1c46db60",
   "metadata": {
    "execution": {
     "iopub.execute_input": "2023-02-01T19:05:46.506658Z",
     "iopub.status.busy": "2023-02-01T19:05:46.506324Z",
     "iopub.status.idle": "2023-02-01T19:05:46.510009Z",
     "shell.execute_reply": "2023-02-01T19:05:46.509453Z",
     "shell.execute_reply.started": "2023-02-01T19:05:46.506640Z"
    },
    "tags": []
   },
   "outputs": [],
   "source": [
    "spec_tmp = await FiberSpectrograph.evt_summaryState.aget()\n",
    "print('Fiber Spectrometer: ',salobj.State(spec_tmp.summaryState))"
   ]
  },
  {
   "cell_type": "code",
   "execution_count": null,
   "id": "c8f91359-8c6c-4d8c-805d-5f0c20b98d1b",
   "metadata": {
    "execution": {
     "iopub.execute_input": "2023-02-01T19:05:55.999214Z",
     "iopub.status.busy": "2023-02-01T19:05:55.998863Z",
     "iopub.status.idle": "2023-02-01T19:05:56.002664Z",
     "shell.execute_reply": "2023-02-01T19:05:56.002108Z",
     "shell.execute_reply.started": "2023-02-01T19:05:55.999197Z"
    },
    "tags": []
   },
   "outputs": [],
   "source": [
    "elec_tmp = await electrometer.evt_summaryState.aget()\n",
    "print('Electrometer: ',salobj.State(elec_tmp.summaryState))"
   ]
  },
  {
   "cell_type": "code",
   "execution_count": null,
   "id": "bcb88ae8-17d4-45c8-a792-bb531fb866f4",
   "metadata": {
    "execution": {
     "iopub.execute_input": "2023-02-01T19:05:02.485068Z",
     "iopub.status.busy": "2023-02-01T19:05:02.484710Z",
     "iopub.status.idle": "2023-02-01T19:05:02.488545Z",
     "shell.execute_reply": "2023-02-01T19:05:02.487992Z",
     "shell.execute_reply.started": "2023-02-01T19:05:02.485051Z"
    },
    "tags": []
   },
   "outputs": [],
   "source": [
    "wls_tmp = await WhiteLightSource.evt_summaryState.aget()\n",
    "print('WhiteLightSource: ',salobj.State(wls_tmp.summaryState))"
   ]
  },
  {
   "cell_type": "code",
   "execution_count": null,
   "id": "37002c43",
   "metadata": {
    "execution": {
     "iopub.execute_input": "2023-02-01T21:39:01.264166Z",
     "iopub.status.busy": "2023-02-01T21:39:01.263889Z",
     "iopub.status.idle": "2023-02-01T21:39:01.267351Z",
     "shell.execute_reply": "2023-02-01T21:39:01.266858Z",
     "shell.execute_reply.started": "2023-02-01T21:39:01.264149Z"
    },
    "tags": []
   },
   "outputs": [],
   "source": [
    "await get_status()"
   ]
  },
  {
   "cell_type": "markdown",
   "id": "80d7373d",
   "metadata": {},
   "source": [
    "### Test White Light Source"
   ]
  },
  {
   "cell_type": "markdown",
   "id": "6cc96efe",
   "metadata": {},
   "source": [
    "Note: don't cycle the WLS between Standby and Enabled. You will have to wait 15 minutes on either side of turning it on and off. You can power cycle the other CSCs"
   ]
  },
  {
   "cell_type": "code",
   "execution_count": null,
   "id": "221d48a5-f33e-4271-b107-7802c90f1813",
   "metadata": {
    "tags": []
   },
   "outputs": [],
   "source": [
    "await WhiteLightSource.cmd_setLogLevel.set_start(level=10)"
   ]
  },
  {
   "cell_type": "code",
   "execution_count": null,
   "id": "13431e42",
   "metadata": {
    "execution": {
     "iopub.execute_input": "2023-02-01T21:37:47.512141Z",
     "iopub.status.busy": "2023-02-01T21:37:47.511625Z",
     "iopub.status.idle": "2023-02-01T21:37:47.518442Z",
     "shell.execute_reply": "2023-02-01T21:37:47.517942Z",
     "shell.execute_reply.started": "2023-02-01T21:37:47.512120Z"
    },
    "tags": []
   },
   "outputs": [],
   "source": [
    "state = salobj.State.STANDBY\n",
    "tmp = await salobj.set_summary_state(WhiteLightSource, state)"
   ]
  },
  {
   "cell_type": "code",
   "execution_count": null,
   "id": "90c7eee2-0a6e-4982-9636-c0e81600c23f",
   "metadata": {
    "tags": []
   },
   "outputs": [],
   "source": [
    "await WhiteLightSource.cmd_start.start()"
   ]
  },
  {
   "cell_type": "code",
   "execution_count": null,
   "id": "aa224de0",
   "metadata": {
    "execution": {
     "iopub.execute_input": "2023-02-01T19:06:26.346629Z",
     "iopub.status.busy": "2023-02-01T19:06:26.346200Z",
     "iopub.status.idle": "2023-02-01T19:06:26.527835Z",
     "shell.execute_reply": "2023-02-01T19:06:26.527239Z",
     "shell.execute_reply.started": "2023-02-01T19:06:26.346607Z"
    },
    "tags": []
   },
   "outputs": [],
   "source": [
    "#Start chiller\n",
    "tmp = await WhiteLightSource.cmd_setChillerTemperature.set_start(temperature=20)\n",
    "tmp = await WhiteLightSource.cmd_startChiller.set_start()\n",
    "# Confirm that the chiller has started and running at 20C"
   ]
  },
  {
   "cell_type": "code",
   "execution_count": null,
   "id": "062ca52c",
   "metadata": {
    "tags": []
   },
   "outputs": [],
   "source": [
    "#Test shutters\n",
    "tmp = await WhiteLightSource.cmd_closeShutter.set_start()"
   ]
  },
  {
   "cell_type": "code",
   "execution_count": null,
   "id": "188eef09",
   "metadata": {
    "tags": []
   },
   "outputs": [],
   "source": [
    "tmp = await WhiteLightSource.cmd_openShutter.set_start()\n",
    "#Keep shutter open so you can see the lamp turned on"
   ]
  },
  {
   "cell_type": "code",
   "execution_count": null,
   "id": "f46fcf0b-2dcf-4e66-b5e8-b5caed3ea120",
   "metadata": {
    "tags": []
   },
   "outputs": [],
   "source": [
    "tmp = WhiteLightSource.evt_shutterState.get()\n",
    "print(tmp)"
   ]
  },
  {
   "cell_type": "code",
   "execution_count": null,
   "id": "4c19610f",
   "metadata": {
    "execution": {
     "iopub.execute_input": "2023-02-01T19:07:26.286992Z",
     "iopub.status.busy": "2023-02-01T19:07:26.286633Z",
     "iopub.status.idle": "2023-02-01T19:07:26.292390Z",
     "shell.execute_reply": "2023-02-01T19:07:26.291863Z",
     "shell.execute_reply.started": "2023-02-01T19:07:26.286973Z"
    },
    "tags": []
   },
   "outputs": [],
   "source": [
    "#Turn on lamp. It will then go into a warm up period before it will turn on \n",
    "tmp = await WhiteLightSource.cmd_turnLampOn.set_start(power = 910)"
   ]
  },
  {
   "cell_type": "code",
   "execution_count": null,
   "id": "7067572d",
   "metadata": {
    "tags": []
   },
   "outputs": [],
   "source": [
    "LampBasicState = {0:'Unknown',1:'Off',2:'On',3:'?',4:'Cooldown',5:'Warmup'}\n",
    "LampControllerError = {-1:'NoError',0:'Unknown',1:'KillSwitch',2:'ChassisOverheating',\n",
    "                       3:'AccessDoor',4:'BallastOverheasting',5:'USBDisconnected',6:'AirflowMalfunction',\n",
    "                       7:'LampStuckOn',8:'AirflowMalfunction'}\n",
    "LampControllerState = {0:'Unknown',1:'Off',2:'StandbyOrOn',3:'Cooldown',4:'Error'}"
   ]
  },
  {
   "cell_type": "code",
   "execution_count": null,
   "id": "d306b879",
   "metadata": {
    "tags": []
   },
   "outputs": [],
   "source": [
    "state = await WhiteLightSource.evt_lampState.aget()\n",
    "print('Lamp State: ', LampBasicState[state.basicState])\n",
    "print('Lamp Controller State: ', LampControllerState[state.controllerState])\n",
    "print('Lamp Controller Error: ', LampControllerError[state.controllerError])\n",
    "\n",
    "if LampBasicState[state.basicState] == 'Cooldown':\n",
    "    time_left = state.cooldownEndTime - state.private_rcvStamp\n",
    "    print('Time Left: {} min.'.format(time_left/60.))\n",
    "\n",
    "elif LampBasicState[state.basicState] == 'Warmup':\n",
    "    time_left = state.warmupEndTime - state.private_rcvStamp\n",
    "    print('Time Left: {} min.'.format(time_left/60.))"
   ]
  },
  {
   "cell_type": "code",
   "execution_count": null,
   "id": "9b308a07-9e2f-4e99-b384-2f44e4257e05",
   "metadata": {
    "tags": []
   },
   "outputs": [],
   "source": [
    "print(state)\n",
    "print(f\"cooldown time left: {state.cooldownEndTime - state.private_rcvStamp}s\")\n",
    "print(f\"warmup time left: {state.warmupEndTime - state.private_rcvStamp}s\")\n",
    "print(f'last published event [UTC]: {utils.astropy_time_from_tai_unix(state.private_rcvStamp).isot}')"
   ]
  },
  {
   "cell_type": "code",
   "execution_count": null,
   "id": "e587ff0e-666a-4047-b278-d63494d03798",
   "metadata": {
    "tags": []
   },
   "outputs": [],
   "source": [
    "tmp=WhiteLightSource.tel_chillerTECDrive.get()\n",
    "print(tmp)"
   ]
  },
  {
   "cell_type": "code",
   "execution_count": null,
   "id": "432e966b-105f-4d26-937c-2ae0e09684b9",
   "metadata": {
    "tags": []
   },
   "outputs": [],
   "source": [
    "from lsst.ts import utils\n",
    "utils.astropy_time_from_tai_unix(state.warmupEndTime).isot"
   ]
  },
  {
   "cell_type": "code",
   "execution_count": null,
   "id": "fb6c32da",
   "metadata": {
    "execution": {
     "iopub.execute_input": "2023-02-01T16:01:36.204248Z",
     "iopub.status.busy": "2023-02-01T16:01:36.203898Z",
     "iopub.status.idle": "2023-02-01T16:01:36.209002Z",
     "shell.execute_reply": "2023-02-01T16:01:36.208509Z",
     "shell.execute_reply.started": "2023-02-01T16:01:36.204229Z"
    },
    "tags": []
   },
   "outputs": [],
   "source": [
    "# When it is done warming up, turn up the lamp\n",
    "tmp = await WhiteLightSource.cmd_turnLampOn.set_start(power=1000)"
   ]
  },
  {
   "cell_type": "code",
   "execution_count": null,
   "id": "8fb7ec6b-06e3-422c-978e-7ad2255cc0e6",
   "metadata": {
    "execution": {
     "iopub.execute_input": "2023-02-01T21:05:12.747877Z",
     "iopub.status.busy": "2023-02-01T21:05:12.747526Z",
     "iopub.status.idle": "2023-02-01T21:05:12.752678Z",
     "shell.execute_reply": "2023-02-01T21:05:12.752186Z",
     "shell.execute_reply.started": "2023-02-01T21:05:12.747858Z"
    },
    "tags": []
   },
   "outputs": [],
   "source": [
    "# Turn off the lamp\n",
    "tmp = await WhiteLightSource.cmd_turnLampOff.start()"
   ]
  },
  {
   "cell_type": "code",
   "execution_count": null,
   "id": "8e424fb1-f5da-4fd8-8395-485b53a5fc20",
   "metadata": {
    "execution": {
     "iopub.execute_input": "2023-02-01T21:37:14.122687Z",
     "iopub.status.busy": "2023-02-01T21:37:14.122345Z",
     "iopub.status.idle": "2023-02-01T21:37:14.233602Z",
     "shell.execute_reply": "2023-02-01T21:37:14.233100Z",
     "shell.execute_reply.started": "2023-02-01T21:37:14.122668Z"
    },
    "tags": []
   },
   "outputs": [],
   "source": [
    "#Turn off the chiller\n",
    "tmp = await WhiteLightSource.cmd_stopChiller.start()"
   ]
  },
  {
   "cell_type": "markdown",
   "id": "fb78a8e8",
   "metadata": {},
   "source": [
    "### Test Monochromator"
   ]
  },
  {
   "cell_type": "code",
   "execution_count": null,
   "id": "95f49f1c-4655-4954-8b0b-cb1c50e4c11c",
   "metadata": {
    "tags": []
   },
   "outputs": [],
   "source": [
    "tmp=await atmonochromator.cmd_standby.start()"
   ]
  },
  {
   "cell_type": "code",
   "execution_count": null,
   "id": "26f6d2ed-5540-49fa-aa96-ca22b381337f",
   "metadata": {
    "tags": []
   },
   "outputs": [],
   "source": [
    "# tmp=await atmonochromator.cmd_standby.start()\n",
    "await atmonochromator.cmd_start.start()"
   ]
  },
  {
   "cell_type": "code",
   "execution_count": null,
   "id": "9c4906f6",
   "metadata": {
    "execution": {
     "iopub.execute_input": "2023-02-01T21:37:27.966705Z",
     "iopub.status.busy": "2023-02-01T21:37:27.966358Z",
     "iopub.status.idle": "2023-02-01T21:37:27.971938Z",
     "shell.execute_reply": "2023-02-01T21:37:27.971418Z",
     "shell.execute_reply.started": "2023-02-01T21:37:27.966686Z"
    },
    "tags": []
   },
   "outputs": [],
   "source": [
    "state = salobj.State.STANDBY\n",
    "tmp = await salobj.set_summary_state(atmonochromator, state, timeout=60)"
   ]
  },
  {
   "cell_type": "code",
   "execution_count": null,
   "id": "7baa8f01",
   "metadata": {
    "execution": {
     "iopub.execute_input": "2023-02-01T19:13:05.550385Z",
     "iopub.status.busy": "2023-02-01T19:13:05.550029Z",
     "iopub.status.idle": "2023-02-01T19:13:05.553875Z",
     "shell.execute_reply": "2023-02-01T19:13:05.553374Z",
     "shell.execute_reply.started": "2023-02-01T19:13:05.550366Z"
    },
    "tags": []
   },
   "outputs": [],
   "source": [
    "async def get_params():\n",
    "    tmp1 = await atmonochromator.evt_wavelength.aget()\n",
    "    tmp2 = await atmonochromator.evt_entrySlitWidth.aget()\n",
    "    tmp3 = await atmonochromator.evt_exitSlitWidth.aget()\n",
    "    tmp4 = await atmonochromator.evt_selectedGrating.aget()\n",
    "    return (tmp1.wavelength, tmp2.width, tmp3.width, tmp4.gratingType)"
   ]
  },
  {
   "cell_type": "code",
   "execution_count": null,
   "id": "8f70a132",
   "metadata": {
    "execution": {
     "iopub.execute_input": "2023-02-01T19:17:15.921173Z",
     "iopub.status.busy": "2023-02-01T19:17:15.920607Z",
     "iopub.status.idle": "2023-02-01T19:17:15.924917Z",
     "shell.execute_reply": "2023-02-01T19:17:15.924446Z",
     "shell.execute_reply.started": "2023-02-01T19:17:15.921153Z"
    },
    "tags": []
   },
   "outputs": [],
   "source": [
    "await get_params()"
   ]
  },
  {
   "cell_type": "code",
   "execution_count": null,
   "id": "03dab6b4-88a4-4258-be4c-271bbdb979de",
   "metadata": {
    "execution": {
     "iopub.execute_input": "2023-02-01T19:21:16.632476Z",
     "iopub.status.busy": "2023-02-01T19:21:16.631969Z",
     "iopub.status.idle": "2023-02-01T19:21:19.070646Z",
     "shell.execute_reply": "2023-02-01T19:21:19.070038Z",
     "shell.execute_reply.started": "2023-02-01T19:21:16.632456Z"
    },
    "tags": []
   },
   "outputs": [],
   "source": [
    "wave=650\n",
    "await atmonochromator.cmd_changeWavelength.set_start(wavelength=wave)"
   ]
  },
  {
   "cell_type": "code",
   "execution_count": null,
   "id": "1221a3d0-9bd1-4db2-9869-a22a8e2b7cf3",
   "metadata": {
    "execution": {
     "iopub.execute_input": "2023-01-26T18:15:17.433463Z",
     "iopub.status.busy": "2023-01-26T18:15:17.433167Z",
     "iopub.status.idle": "2023-01-26T18:15:21.179432Z",
     "shell.execute_reply": "2023-01-26T18:15:21.178866Z",
     "shell.execute_reply.started": "2023-01-26T18:15:17.433446Z"
    },
    "tags": []
   },
   "outputs": [],
   "source": [
    "entry_width=7.0\n",
    "exit_width=7.0\n",
    "await atmonochromator.cmd_changeSlitWidth.set_start(slit=1, slitWidth=entry_width)\n",
    "await atmonochromator.cmd_changeSlitWidth.set_start(slit=2, slitWidth=exit_width)"
   ]
  },
  {
   "cell_type": "code",
   "execution_count": null,
   "id": "3e5b776c-3dea-4dbe-9d8f-f437aaa1d70a",
   "metadata": {
    "execution": {
     "iopub.execute_input": "2023-02-01T20:41:15.495701Z",
     "iopub.status.busy": "2023-02-01T20:41:15.495321Z",
     "iopub.status.idle": "2023-02-01T20:42:23.649532Z",
     "shell.execute_reply": "2023-02-01T20:42:23.648988Z",
     "shell.execute_reply.started": "2023-02-01T20:41:15.495683Z"
    },
    "tags": []
   },
   "outputs": [],
   "source": [
    "grating=0 # which is which? 1 appears to be red, 0 appears to be blue, 2 is the mirror?\n",
    "# takes ~40s from 0->1, (timed)\n",
    "# takes ~180s from 1->0 (guess)\n",
    "# takes 0->2 ~115s (measured)\n",
    "# 2->0 takes 60s (measured)  -remeasured at 36s\n",
    "# 2->1 takes 69s (measured)\n",
    "# 1->2 takes 35s \n",
    "# Use grating 0 from 300-550 nm\n",
    "# Use grating 1 from 550-115 0nm\n",
    "await atmonochromator.cmd_selectGrating.set_start(gratingType=grating, timeout=180)"
   ]
  },
  {
   "cell_type": "code",
   "execution_count": null,
   "id": "888211e0",
   "metadata": {},
   "outputs": [],
   "source": [
    "# Change wavelength. Confirm that the color changes\n",
    "for wave in [400, 500, 600, 700]:\n",
    "    await atmonochromator.cmd_changeWavelength.set_start(wavelength=wave)"
   ]
  },
  {
   "cell_type": "code",
   "execution_count": null,
   "id": "cfaabcd1",
   "metadata": {},
   "outputs": [],
   "source": [
    "# Change slit size. Confirm that the brightness changes by eye\n",
    "for entry in [0.5, 4.5]:\n",
    "    for exit in [0.5, 4.5]:\n",
    "        await atmonochromator.cmd_changeSlitWidth.set_start(slit=1, slitWidth=entry_width)\n",
    "        await atmonochromator.cmd_changeSlitWidth.set_start(slit=2, slitWidth=exit_width)"
   ]
  },
  {
   "cell_type": "code",
   "execution_count": null,
   "id": "80e8655a",
   "metadata": {},
   "outputs": [],
   "source": [
    "# Change grating. If this times out, send monochromator to STANDBY and then back to ENABLED. \n",
    "# It takes a long time to change the grating.\n",
    "for grating in [0,1]:\n",
    "    await atmonochromator.cmd_selectGrating.set_start(gratingType=grating, timeout=60)"
   ]
  },
  {
   "cell_type": "markdown",
   "id": "1460e654",
   "metadata": {},
   "source": [
    "### Test Electrometer"
   ]
  },
  {
   "cell_type": "code",
   "execution_count": null,
   "id": "7ece1942",
   "metadata": {
    "execution": {
     "iopub.execute_input": "2023-02-01T21:38:00.421575Z",
     "iopub.status.busy": "2023-02-01T21:38:00.421302Z",
     "iopub.status.idle": "2023-02-01T21:38:00.428090Z",
     "shell.execute_reply": "2023-02-01T21:38:00.427573Z",
     "shell.execute_reply.started": "2023-02-01T21:38:00.421557Z"
    },
    "tags": []
   },
   "outputs": [],
   "source": [
    "state = salobj.State.STANDBY\n",
    "tmp = await salobj.set_summary_state(electrometer, state, override='summit_auxtel.yaml',timeout=20)\n",
    "print(tmp)"
   ]
  },
  {
   "cell_type": "code",
   "execution_count": null,
   "id": "50762f16-242d-48a7-890e-023363b6433a",
   "metadata": {
    "tags": []
   },
   "outputs": [],
   "source": [
    "await electrometer.cmd_start.start()"
   ]
  },
  {
   "cell_type": "code",
   "execution_count": null,
   "id": "09c64f73",
   "metadata": {
    "tags": []
   },
   "outputs": [],
   "source": [
    "await electrometer.cmd_performZeroCalib.set_start(timeout=10)\n",
    "await electrometer.cmd_setDigitalFilter.set_start(activateFilter=False, activateAvgFilter=False, activateMedFilter=False, timeout=10)    "
   ]
  },
  {
   "cell_type": "code",
   "execution_count": null,
   "id": "c49d68fc-f4ae-4ba5-8903-0882d604e4fe",
   "metadata": {
    "tags": []
   },
   "outputs": [],
   "source": [
    "# await electrometer.cmd_setMode.set_start(mode=2)"
   ]
  },
  {
   "cell_type": "code",
   "execution_count": null,
   "id": "24a99796",
   "metadata": {
    "tags": []
   },
   "outputs": [],
   "source": [
    "mode = await electrometer.evt_measureType.aget()\n",
    "intTime = await electrometer.evt_integrationTime.aget()\n",
    "range_ = await electrometer.evt_measureRange.aget()\n",
    "print(f'Mode: {mode.mode}; Int. Time: {intTime.intTime}; Range: {range_.rangeValue}')"
   ]
  },
  {
   "cell_type": "code",
   "execution_count": null,
   "id": "59a5344c",
   "metadata": {
    "tags": []
   },
   "outputs": [],
   "source": [
    "exp_time = 20 #sec\n",
    "etmp1=await electrometer.cmd_startScan.set_start(timeout=10)\n",
    "await asyncio.sleep(exp_time)\n",
    "tmp2=await electrometer.cmd_stopScan.set_start(timeout=10)\n"
   ]
  },
  {
   "cell_type": "code",
   "execution_count": null,
   "id": "d24de575-44cb-4a28-9e99-42445cd0bae5",
   "metadata": {
    "tags": []
   },
   "outputs": [],
   "source": [
    "lfa = await electrometer.evt_largeFileObjectAvailable.next(flush=False, timeout=10)\n",
    "filename= os.path.split(lfa.url)[1]"
   ]
  },
  {
   "cell_type": "code",
   "execution_count": null,
   "id": "0897391e-ad0c-4c33-a73c-3c42e555cd48",
   "metadata": {
    "tags": []
   },
   "outputs": [],
   "source": [
    "filename = filename.replace(\":\", \"_\")"
   ]
  },
  {
   "cell_type": "code",
   "execution_count": null,
   "id": "c4b8a80a",
   "metadata": {
    "tags": []
   },
   "outputs": [],
   "source": [
    "#transfer file to your machine so you can look at it\n",
    "elec_filen = os.path.join(data_dir, filename)\n",
    "os.system(f\"curl {lfa.url} --output {elec_filen}\")"
   ]
  },
  {
   "cell_type": "code",
   "execution_count": null,
   "id": "171c5f5c",
   "metadata": {
    "tags": []
   },
   "outputs": [],
   "source": [
    "# Look at Data\n",
    "hdu = fits.open(f'{elec_filen}')\n",
    "data = hdu[1].data\n",
    "print(data)"
   ]
  },
  {
   "cell_type": "code",
   "execution_count": null,
   "id": "d95a8ddd",
   "metadata": {
    "tags": []
   },
   "outputs": [],
   "source": [
    "# Plot Data\n",
    "plt.plot(data['Elapsed Time'], data['Signal'],'.')\n",
    "plt.xlabel('ElapsedTime')\n",
    "plt.ylabel('Signal')"
   ]
  },
  {
   "cell_type": "markdown",
   "id": "51b057ae",
   "metadata": {},
   "source": [
    "### Test Fiber Spectrograph"
   ]
  },
  {
   "cell_type": "code",
   "execution_count": null,
   "id": "9a908a53",
   "metadata": {
    "tags": []
   },
   "outputs": [],
   "source": [
    "state = salobj.State.ENABLED\n",
    "tmp = await salobj.set_summary_state(FiberSpectrograph, state)"
   ]
  },
  {
   "cell_type": "code",
   "execution_count": null,
   "id": "2136d487-dc02-459a-8114-1892a642f15c",
   "metadata": {
    "execution": {
     "iopub.execute_input": "2023-02-01T21:38:10.034119Z",
     "iopub.status.busy": "2023-02-01T21:38:10.033836Z",
     "iopub.status.idle": "2023-02-01T21:38:10.490905Z",
     "shell.execute_reply": "2023-02-01T21:38:10.490338Z",
     "shell.execute_reply.started": "2023-02-01T21:38:10.034101Z"
    },
    "tags": []
   },
   "outputs": [],
   "source": [
    "state = salobj.State.STANDBY\n",
    "tmp = await salobj.set_summary_state(FiberSpectrograph, state, timeout=20)\n",
    "print(tmp)"
   ]
  },
  {
   "cell_type": "code",
   "execution_count": null,
   "id": "81d4e209",
   "metadata": {
    "execution": {
     "iopub.execute_input": "2023-02-01T19:21:42.109423Z",
     "iopub.status.busy": "2023-02-01T19:21:42.109069Z",
     "iopub.status.idle": "2023-02-01T19:21:43.283616Z",
     "shell.execute_reply": "2023-02-01T19:21:43.283037Z",
     "shell.execute_reply.started": "2023-02-01T19:21:42.109405Z"
    },
    "tags": []
   },
   "outputs": [],
   "source": [
    "exp_time = 1 #sec\n",
    "FiberSpectrograph.evt_largeFileObjectAvailable.flush()\n",
    "tmp1 = await FiberSpectrograph.cmd_expose.set_start(duration=exp_time, numExposures=1)\n",
    "lfa = await FiberSpectrograph.evt_largeFileObjectAvailable.next(flush=False, timeout=10)\n",
    "filename = os.path.split(lfa.url)[1]"
   ]
  },
  {
   "cell_type": "code",
   "execution_count": null,
   "id": "b3abd84e-990d-4762-8833-0a399b0eaf70",
   "metadata": {
    "execution": {
     "iopub.execute_input": "2023-02-01T19:21:43.291263Z",
     "iopub.status.busy": "2023-02-01T19:21:43.291120Z",
     "iopub.status.idle": "2023-02-01T19:21:43.294363Z",
     "shell.execute_reply": "2023-02-01T19:21:43.293902Z",
     "shell.execute_reply.started": "2023-02-01T19:21:43.291249Z"
    },
    "tags": []
   },
   "outputs": [],
   "source": [
    "filename"
   ]
  },
  {
   "cell_type": "code",
   "execution_count": null,
   "id": "81158976",
   "metadata": {
    "execution": {
     "iopub.execute_input": "2023-02-01T19:21:44.360082Z",
     "iopub.status.busy": "2023-02-01T19:21:44.359711Z",
     "iopub.status.idle": "2023-02-01T19:21:44.481726Z",
     "shell.execute_reply": "2023-02-01T19:21:44.481045Z",
     "shell.execute_reply.started": "2023-02-01T19:21:44.360064Z"
    },
    "tags": []
   },
   "outputs": [],
   "source": [
    "#transfer file to your machine so you can look at it\n",
    "spec_filen = os.path.join(data_dir, filename)\n",
    "os.system(f\"curl {lfa.url} --output {spec_filen}\")"
   ]
  },
  {
   "cell_type": "code",
   "execution_count": null,
   "id": "f662ef5d",
   "metadata": {
    "execution": {
     "iopub.execute_input": "2023-02-01T19:21:45.292496Z",
     "iopub.status.busy": "2023-02-01T19:21:45.292147Z",
     "iopub.status.idle": "2023-02-01T19:21:45.301236Z",
     "shell.execute_reply": "2023-02-01T19:21:45.300725Z",
     "shell.execute_reply.started": "2023-02-01T19:21:45.292477Z"
    },
    "tags": []
   },
   "outputs": [],
   "source": [
    "# Look at Data\n",
    "hdu = fits.open(f'{spec_filen}')\n",
    "wavelength = hdu[1].data['wavelength'].flatten()\n",
    "spectra = hdu[0].data"
   ]
  },
  {
   "cell_type": "code",
   "execution_count": null,
   "id": "214df3e5",
   "metadata": {
    "execution": {
     "iopub.execute_input": "2023-02-01T19:21:46.563272Z",
     "iopub.status.busy": "2023-02-01T19:21:46.562921Z",
     "iopub.status.idle": "2023-02-01T19:21:51.311217Z",
     "shell.execute_reply": "2023-02-01T19:21:51.310646Z",
     "shell.execute_reply.started": "2023-02-01T19:21:46.563254Z"
    },
    "tags": []
   },
   "outputs": [],
   "source": [
    "# Plot data\n",
    "for spec in spectra: #there is probably only one\n",
    "    plt.plot(wavelength, spectra)\n",
    "plt.xlabel('Wavelength (nm)')\n",
    "plt.ylabel('Counts')"
   ]
  },
  {
   "cell_type": "markdown",
   "id": "cafde913",
   "metadata": {},
   "source": [
    "## Test all Components Together"
   ]
  },
  {
   "cell_type": "code",
   "execution_count": null,
   "id": "8f1ef778",
   "metadata": {},
   "outputs": [],
   "source": [
    "async def set_params(wave, entry_width, exit_width, grating):\n",
    "    await atmonochromator.cmd_changeSlitWidth.set_start(slit=1, slitWidth=entry_width)\n",
    "    await atmonochromator.cmd_changeSlitWidth.set_start(slit=2, slitWidth=exit_width)\n",
    "    await atmonochromator.cmd_changeWavelength.set_start(wavelength=wave)\n",
    "    await atmonochromator.cmd_selectGrating.set_start(gratingType=grating, timeout=60)\n",
    "   \n",
    "    tmp1 = await atmonochromator.evt_wavelength.aget()\n",
    "    tmp2 = await atmonochromator.evt_entrySlitWidth.aget()\n",
    "    tmp3 = await atmonochromator.evt_exitSlitWidth.aget()\n",
    "    tmp4 = await atmonochromator.evt_selectedGrating.aget()\n",
    "    return (tmp1.wavelength, tmp2.width, tmp3.width, tmp4.gratingType)"
   ]
  },
  {
   "cell_type": "code",
   "execution_count": null,
   "id": "6d3d807e",
   "metadata": {},
   "outputs": [],
   "source": [
    "def get_file_transfer(lfa):\n",
    "    filename = os.path.split(lfa.url)[1]\n",
    "    save_dir = os.path.join(data_dir, filename.split(':')[0])\n",
    "    if not os.path.exists(save_dir):\n",
    "        os.mkdir(save_dir)\n",
    "    save_file = os.path.join(save_dir, filename)\n",
    "    os.system(f\"curl {lfa.url} --output {save_file}\")\n",
    "    return save_file"
   ]
  },
  {
   "cell_type": "code",
   "execution_count": null,
   "id": "9e200e21",
   "metadata": {},
   "outputs": [],
   "source": [
    "async def elec_meas(exp_time):\n",
    "    tmp1=await electrometer.cmd_startScan.set_start(timeout=10)\n",
    "    await asyncio.sleep(exp_time)\n",
    "    tmp2=await electrometer.cmd_stopScan.set_start(timeout=10)\n",
    "    lfa = await electrometer.evt_largeFileObjectAvailable.next(flush=False, timeout=10)\n",
    "    filename = get_file_transfer(lfa)\n",
    "    return filename"
   ]
  },
  {
   "cell_type": "code",
   "execution_count": null,
   "id": "be9eb04a",
   "metadata": {},
   "outputs": [],
   "source": [
    "async def spect_meas(exp_time):\n",
    "    tmp1 = await FiberSpectrograph.cmd_expose.set_start(duration=exp_time, numExposures=1)\n",
    "    lfa = await FiberSpectrograph.evt_largeFileObjectAvailable.next(flush=False, timeout=10)\n",
    "    filename = get_file_transfer(lfa)\n",
    "    return filename"
   ]
  },
  {
   "cell_type": "code",
   "execution_count": null,
   "id": "88147b44",
   "metadata": {},
   "outputs": [],
   "source": [
    "data = []\n",
    "exp_time = 1.\n",
    "start = Time.now()\n",
    "for wls_power in [800, 900, 1000, 1100]:\n",
    "    tmp = await WhiteLightSource.cmd_turnLampOn.set_start(power=wls_power)\n",
    "    for wave in np.linspace(300, 1200, 10):\n",
    "        print(wave, Time.now())\n",
    "        for entry_width in [0.5, 4.9]: #[, 0.1]: #, 3., 4., 4.9]:\n",
    "            for exit_width in [0.5, 4.9]: #[0.02,0.04, 0.06, 0.08, 0.1]: #, 3., 4., 4.9]:\n",
    "                start_meas = Time.now().isot\n",
    "                wavelength, entry_width, exit_width, gratingType = await set_params(wave, entry_width, exit_width, grating)\n",
    "                await elec_meas(exp_time)   \n",
    "                spec_fn = await spect_meas(exp_time)\n",
    "                await asyncio.sleep(5.)\n",
    "                end_meas = Time.now().isot\n",
    "                data.append([start_meas, end_meas, wls_power, exp_time, wavelength, entry_width, exit_width, gratingType, spec_fn])"
   ]
  },
  {
   "cell_type": "code",
   "execution_count": null,
   "id": "9c45d9ec",
   "metadata": {},
   "outputs": [],
   "source": [
    "data = []\n",
    "exp_time = 1.\n",
    "start = Time.now()\n",
    "for wls_power in [800, 900, 1000, 1100]:\n",
    "    tmp = await WhiteLightSource.cmd_turnLampOn.set_start(power=wls_power)\n",
    "    for wave in np.linspace(500, 800, 3):\n",
    "        print(wave, Time.now())\n",
    "        for entry_width in [0.5, 4.9]: #[, 0.1]: #, 3., 4., 4.9]:\n",
    "            for exit_width in [0.5, 4.9]: #[0.02,0.04, 0.06, 0.08, 0.1]: #, 3., 4., 4.9]:\n",
    "                start_meas = Time.now().isot\n",
    "                wavelength, entry_width, exit_width, gratingType = await set_params(wave, entry_width, exit_width, grating)\n",
    "                elec_fn = await elec_meas(exp_time)   \n",
    "                spec_fn = await spect_meas(exp_time)\n",
    "                await asyncio.sleep(5.)\n",
    "                end_meas = Time.now().isot\n",
    "                data.append([start_meas, end_meas, wls_power, exp_time, wavelength, entry_width, exit_width, gratingType, spec_fn, elec_fn])"
   ]
  },
  {
   "cell_type": "code",
   "execution_count": null,
   "id": "3afd05bd",
   "metadata": {},
   "outputs": [],
   "source": [
    "df = pd.DataFrame(data, columns = ['start', 'end', 'wls_power', 'exp_time', 'wavelength','entry_slit', 'exit_slit', \n",
    "                                  'grating', 'spec_fn', 'elec_fn'])\n",
    "t = Table.from_pandas(df)"
   ]
  },
  {
   "cell_type": "markdown",
   "id": "8a2f5936",
   "metadata": {},
   "source": [
    "### Save Data into a single fits file"
   ]
  },
  {
   "cell_type": "code",
   "execution_count": null,
   "id": "e11ff2df",
   "metadata": {},
   "outputs": [],
   "source": [
    "# Save data into a single fits file\n",
    "elec_time = []\n",
    "elec_data = []\n",
    "wave = []\n",
    "spectra = []\n",
    "\n",
    "for row in t:\n",
    "    spec_fn = row[-2]\n",
    "    hdu = fits.open(spec_fn)\n",
    "    spectra.append(hdu[0].data)\n",
    "    wave.append(hdu[1].data['wavelength'].flatten())\n",
    "    \n",
    "    elec_fn = row[-1]\n",
    "    hdu = fits.open(elec_fn)\n",
    "    d = hdu[1].data\n",
    "    elec_time.append(d['Elapsed Time'])\n",
    "    elec_data.append(d['Signal'])\n",
    "    \n",
    "#Reshape the data to put it all in a fits file. Sorry, this is ugly\n",
    "shape_elec = max([len(l) for l in elec_time])\n",
    "shape_wave = max([len(l) for l in wave])\n",
    "\n",
    "elec_time2 = np.zeros((len(elec_time), shape_elec))\n",
    "elec_data2 = np.zeros((len(elec_time), shape_elec))\n",
    "for i, row in enumerate(elec_time):\n",
    "    elec_time2[i][0:row.shape[0]] = row\n",
    "    elec_data2[i][0:row.shape[0]] = np.array(elec_data)[i]\n",
    "\n",
    "hdulist = fits.HDUList()\n",
    "empty_primary = fits.PrimaryHDU()\n",
    "hdulist.append(empty_primary)\n",
    "\n",
    "#Make a rec array of the data\n",
    "hdulist.append(fits.BinTableHDU(t.as_array(), name='CONFIG'))\n",
    "\n",
    "hdulist.append(fits.ImageHDU(np.vstack(elec_time2), name='ELEC_TIME'))\n",
    "hdulist.append(fits.ImageHDU(np.vstack(elec_data2), name='ELEC_DATA'))\n",
    "hdulist.append(fits.ImageHDU(np.vstack(wave), name='WAVELENGTH'))\n",
    "hdulist.append(fits.ImageHDU(np.vstack(spectra), name='SPECTRA'))\n",
    "\n",
    "save_filen = '{}/{}.fits'.format(os.path.join(data_dir,'AuxTel'), 'test_20221209')\n",
    "hdulist.writeto(save_filen, overwrite=True)\n",
    "print('Data Saved to {}'.format(save_filen))"
   ]
  },
  {
   "cell_type": "code",
   "execution_count": null,
   "id": "81ea6314",
   "metadata": {},
   "outputs": [],
   "source": [
    "hdu = fits.open(save_filen)\n",
    "hdu.info()"
   ]
  },
  {
   "cell_type": "code",
   "execution_count": null,
   "id": "95ce995e",
   "metadata": {},
   "outputs": [],
   "source": [
    "Table(hdu[1].data)"
   ]
  },
  {
   "cell_type": "code",
   "execution_count": null,
   "id": "5c2f72a8",
   "metadata": {},
   "outputs": [],
   "source": [
    "waves = hdu[4].data\n",
    "spectra = hdu[5].data\n",
    "ret = plt.plot(waves, spectra)"
   ]
  },
  {
   "cell_type": "code",
   "execution_count": null,
   "id": "436bdac3-7f12-4dc4-8ddc-bdb7f2b0dc38",
   "metadata": {},
   "outputs": [],
   "source": []
  },
  {
   "cell_type": "code",
   "execution_count": null,
   "id": "30212c3c-cb10-4805-ba35-67b100befa24",
   "metadata": {},
   "outputs": [],
   "source": [
    "import yaml"
   ]
  },
  {
   "cell_type": "code",
   "execution_count": null,
   "id": "169d06d6-82a4-4e47-8c7d-e2b690f575d5",
   "metadata": {},
   "outputs": [],
   "source": [
    "step1 = {\n",
    "    \"wavelength\": 580,\n",
    "    \"grating\": 1,  # enums.ATMonochromator.Grating.RED,  --> Enums are wrong!\n",
    "    \"spec_res\": 7,\n",
    "    \"exit_slit_width\": 4.5,\n",
    "    \"entrance_slit_width\": 4.5,\n",
    "    \"exp_time\": 3,\n",
    "    \"n_exp\": 3,\n",
    "    \"fs_exp_time\": 1,\n",
    "    \"fs_n_exp\": 1,\n",
    "    \"em_exp_time\": 5,\n",
    "    \"em_n_exp\": 1,\n",
    "}"
   ]
  },
  {
   "cell_type": "code",
   "execution_count": null,
   "id": "80f52856-8e51-42c7-b692-9d9b9b5728a3",
   "metadata": {
    "tags": []
   },
   "outputs": [],
   "source": [
    "def step_config(min_wave: float=500, max_wave: float=700, w_steps: int=10, grating: int = 1, \n",
    "                ent_slit: float = 4.5, exit_slit: float = 4.5, exp_time: float = 3,\n",
    "                n_exp: int = 3, fs_exp_time: int = 3, fs_n_exp: int =1, em_exp_time: float=3, em_n_exp:int=1):\n",
    "    waves = np.arange(min_wave,max_wave,w_steps) # r-band\n",
    "    \n",
    "    # config=dict(steps=[])\n",
    "    steps = []\n",
    "    \n",
    "    spec_res = 999 # dummy value for now\n",
    "    \n",
    "    for wave in waves:\n",
    "        step = {\n",
    "    \"wavelength\": float(wave),\n",
    "    \"grating\": grating,  # enums.ATMonochromator.Grating.RED,  --> Enums are wrong!\n",
    "    \"spec_res\": -1, # place holder until we know this\n",
    "    \"exit_slit_width\": exit_slit,\n",
    "    \"entrance_slit_width\": ent_slit,\n",
    "    \"exp_time\": exp_time,\n",
    "    \"n_exp\": n_exp,\n",
    "    \"fs_exp_time\": fs_exp_time,\n",
    "    \"fs_n_exp\": fs_n_exp,\n",
    "    \"em_exp_time\": em_exp_time,\n",
    "    \"em_n_exp\": em_n_exp}\n",
    "    \n",
    "        steps.append(step)\n",
    "    \n",
    "    # print(steps)\n",
    "    # convert to yaml\n",
    "    steps_for_script = yaml.safe_dump(steps)\n",
    "    return steps_for_script"
   ]
  },
  {
   "cell_type": "code",
   "execution_count": null,
   "id": "953e0dba-91cb-47e5-802a-b4eb51750e56",
   "metadata": {
    "tags": []
   },
   "outputs": [],
   "source": [
    "min_wave = 530.0\n",
    "max_wave = 570.0\n",
    "w_steps = 5\n",
    "\n",
    "yaml_string = step_config(min_wave, max_wave, w_steps)\n",
    "print(yaml_string)"
   ]
  },
  {
   "cell_type": "code",
   "execution_count": null,
   "id": "ead47947-8671-4349-a8bd-c660551ae2cc",
   "metadata": {
    "tags": []
   },
   "outputs": [],
   "source": [
    "blah2 = yaml.safe_load(yaml_string)\n",
    "print(blah2)"
   ]
  },
  {
   "cell_type": "code",
   "execution_count": null,
   "id": "6d49aeb9-5e65-4ae7-a3da-619db5b459aa",
   "metadata": {
    "tags": []
   },
   "outputs": [],
   "source": [
    "central_wave = 600\n",
    "wrange = np.arange(540,700,10) # r-band\n",
    "steps = 10\n",
    "\n",
    "for wave in wrange:\n",
    "    print(wave)"
   ]
  },
  {
   "cell_type": "code",
   "execution_count": null,
   "id": "a4125630-ed70-4847-83b6-0e326e6d9d50",
   "metadata": {},
   "outputs": [],
   "source": [
    "tmp = "
   ]
  }
 ],
 "metadata": {
  "kernelspec": {
   "display_name": "LSST",
   "language": "python",
   "name": "lsst"
  },
  "language_info": {
   "codemirror_mode": {
    "name": "ipython",
    "version": 3
   },
   "file_extension": ".py",
   "mimetype": "text/x-python",
   "name": "python",
   "nbconvert_exporter": "python",
   "pygments_lexer": "ipython3",
   "version": "3.10.6"
  }
 },
 "nbformat": 4,
 "nbformat_minor": 5
}
