{
 "cells": [
  {
   "cell_type": "code",
   "execution_count": null,
   "metadata": {
    "execution": {
     "iopub.execute_input": "2023-04-11T20:20:44.268295Z",
     "iopub.status.busy": "2023-04-11T20:20:44.267817Z",
     "iopub.status.idle": "2023-04-11T20:20:44.271216Z",
     "shell.execute_reply": "2023-04-11T20:20:44.270708Z",
     "shell.execute_reply.started": "2023-04-11T20:20:44.268249Z"
    },
    "tags": []
   },
   "outputs": [],
   "source": [
    "## Johnny's modification\n",
    "# - savgol_filter to do the derivations"
   ]
  },
  {
   "cell_type": "code",
   "execution_count": null,
   "metadata": {
    "execution": {
     "iopub.execute_input": "2023-04-12T12:57:04.523489Z",
     "iopub.status.busy": "2023-04-12T12:57:04.523216Z",
     "iopub.status.idle": "2023-04-12T12:57:05.120551Z",
     "shell.execute_reply": "2023-04-12T12:57:05.119990Z",
     "shell.execute_reply.started": "2023-04-12T12:57:04.523471Z"
    },
    "tags": []
   },
   "outputs": [],
   "source": [
    "import sys, time, os, asyncio, glob\n",
    "from datetime import datetime\n",
    "import numpy as np\n",
    "import matplotlib.pyplot as plt\n",
    "import pickle as pkl\n",
    "from astropy.time import Time, TimeDelta\n",
    "from scipy.interpolate import UnivariateSpline\n",
    "from lsst_efd_client import EfdClient"
   ]
  },
  {
   "cell_type": "code",
   "execution_count": null,
   "metadata": {
    "execution": {
     "iopub.execute_input": "2023-04-12T12:57:06.961391Z",
     "iopub.status.busy": "2023-04-12T12:57:06.961107Z",
     "iopub.status.idle": "2023-04-12T12:57:08.453844Z",
     "shell.execute_reply": "2023-04-12T12:57:08.453320Z",
     "shell.execute_reply.started": "2023-04-12T12:57:06.961374Z"
    },
    "tags": []
   },
   "outputs": [],
   "source": [
    "client = EfdClient('summit_efd')"
   ]
  },
  {
   "cell_type": "code",
   "execution_count": null,
   "metadata": {
    "execution": {
     "iopub.execute_input": "2023-04-12T12:57:08.459754Z",
     "iopub.status.busy": "2023-04-12T12:57:08.459439Z",
     "iopub.status.idle": "2023-04-12T12:57:22.081301Z",
     "shell.execute_reply": "2023-04-12T12:57:22.080844Z",
     "shell.execute_reply.started": "2023-04-12T12:57:08.459737Z"
    },
    "tags": []
   },
   "outputs": [],
   "source": [
    "# Now let's try to expand it to the whole run\n",
    "start = Time(\"2023-01-26T06:51:00\", scale='utc')\n",
    "end = Time(\"2023-01-26T09:50:00\", scale='utc')\n",
    "# Second more recent run\n",
    "#start = Time(\"2023-03-23T06:50:00\", scale='utc')\n",
    "#end = Time(\"2023-03-23T09:15:00\", scale='utc')\n",
    "\n",
    "az = await client.select_time_series('lsst.sal.MTMount.azimuth', \\\n",
    "                                            ['*'],  start, end)\n",
    "el = await client.select_time_series('lsst.sal.MTMount.elevation', \\\n",
    "                                            ['*'],  start, end)    \n",
    "\n",
    "az_track = await client.select_time_series('lsst.sal.MTMount.command_trackTarget', \\\n",
    "                                            ['azimuth', 'taiTime'],  start, end)\n",
    "el_track = await client.select_time_series('lsst.sal.MTMount.command_trackTarget', \\\n",
    "                                            ['elevation', 'taiTime'],  start, end)   \n",
    "print(len(az_track), len(el_track))"
   ]
  },
  {
   "cell_type": "code",
   "execution_count": null,
   "metadata": {
    "execution": {
     "iopub.execute_input": "2023-04-12T12:57:22.090696Z",
     "iopub.status.busy": "2023-04-12T12:57:22.090549Z",
     "iopub.status.idle": "2023-04-12T12:57:24.107792Z",
     "shell.execute_reply": "2023-04-12T12:57:24.107388Z",
     "shell.execute_reply.started": "2023-04-12T12:57:22.090682Z"
    },
    "tags": []
   },
   "outputs": [],
   "source": [
    "az['actualPosition'].plot()"
   ]
  },
  {
   "cell_type": "code",
   "execution_count": null,
   "metadata": {
    "execution": {
     "iopub.execute_input": "2023-04-12T12:57:31.623494Z",
     "iopub.status.busy": "2023-04-12T12:57:31.622969Z",
     "iopub.status.idle": "2023-04-12T12:57:31.640042Z",
     "shell.execute_reply": "2023-04-12T12:57:31.639488Z",
     "shell.execute_reply.started": "2023-04-12T12:57:31.623475Z"
    },
    "tags": []
   },
   "outputs": [],
   "source": [
    "azPos = await client.select_time_series('lsst.sal.MTMount.logevent_azimuthInPosition', \\\n",
    "                                            ['inPosition', 'private_kafkaStamp'],  start, end)\n",
    "azPos = azPos[azPos['inPosition']] # Select only the True values\n",
    "elPos = await client.select_time_series('lsst.sal.MTMount.logevent_elevationInPosition', \\\n",
    "                                            ['inPosition', 'private_kafkaStamp'],  start, end)\n",
    "elPos = elPos[elPos['inPosition']] # Select only the True values\n",
    "print(len(azPos), len(elPos))"
   ]
  },
  {
   "cell_type": "code",
   "execution_count": null,
   "metadata": {
    "execution": {
     "iopub.execute_input": "2023-04-12T12:57:33.392320Z",
     "iopub.status.busy": "2023-04-12T12:57:33.391942Z",
     "iopub.status.idle": "2023-04-12T12:57:33.619645Z",
     "shell.execute_reply": "2023-04-12T12:57:33.619187Z",
     "shell.execute_reply.started": "2023-04-12T12:57:33.392302Z"
    },
    "tags": []
   },
   "outputs": [],
   "source": [
    "# Find all of the time stamps\n",
    "\n",
    "# Start with start_slew times\n",
    "\n",
    "azs = az_track.values[:,0]\n",
    "els = el_track.values[:,0]\n",
    "times = az_track.values[:,1]\n",
    "start_slew_times_1 = []\n",
    "slew_dist_1 = []\n",
    "slew_times_1 = []\n",
    "for i in range(1,len(az_track)):\n",
    "    az_shift = abs(azs[i] - azs[i-1])\n",
    "    el_shift = abs(els[i] - els[i-1])\n",
    "    if (az_shift > 0.1) or (el_shift > 0.1):\n",
    "        start_slew_times_1.append(times[i])\n",
    "        az_shift_mod = az_shift * np.cos(els[i]*np.pi/180.0)\n",
    "        shift = np.sqrt(el_shift*el_shift + az_shift_mod*az_shift_mod)\n",
    "        slew_dist_1.append(shift)\n",
    "print(len(start_slew_times_1))\n",
    "\n",
    "# Now in position timestamps\n",
    "\n",
    "inPos_1 = []\n",
    "azPosValues = azPos.values[:,1]\n",
    "elPosValues = elPos.values[:,1]\n",
    "\n",
    "# Subtract 1 second from the inPos values, because the mount has stabilized well before the inPos signal\n",
    "for i in range(len(azPos)):\n",
    "    if azPosValues[i] > elPosValues[i]:\n",
    "        inPos_1.append(azPosValues[i])\n",
    "    else:\n",
    "        inPos_1.append(elPosValues[i])\n",
    "\n",
    "print(len(inPos_1))\n",
    "\n",
    "# Now pair them up\n",
    "\n",
    "pairMin = 1.0\n",
    "pairMax = 6.0\n",
    "\n",
    "start_slew_times = []\n",
    "slew_dist = []\n",
    "slew_times = []\n",
    "inPos = []\n",
    "\n",
    "for i in range(len(start_slew_times_1)):\n",
    "    for j in range(len(inPos_1)):\n",
    "        deltaT = inPos_1[j] - start_slew_times_1[i] \n",
    "        if deltaT > pairMin and deltaT < pairMax:\n",
    "            inPos.append(inPos_1[j])\n",
    "            start_slew_times.append(start_slew_times_1[i])\n",
    "            slew_times.append(deltaT)\n",
    "            slew_dist.append(slew_dist_1[i])\n",
    "        \n",
    "print(len(inPos), len(start_slew_times), len(slew_times), len(slew_dist))"
   ]
  },
  {
   "cell_type": "code",
   "execution_count": null,
   "metadata": {
    "execution": {
     "iopub.execute_input": "2023-04-12T13:43:28.443175Z",
     "iopub.status.busy": "2023-04-12T13:43:28.442897Z",
     "iopub.status.idle": "2023-04-12T13:43:28.446288Z",
     "shell.execute_reply": "2023-04-12T13:43:28.445888Z",
     "shell.execute_reply.started": "2023-04-12T13:43:28.443157Z"
    },
    "tags": []
   },
   "outputs": [],
   "source": [
    "from scipy.signal import savgol_filter\n",
    "from scipy.interpolate import interp1d\n",
    "\n",
    "def savgolFilter(pos, x, window=31, deriv=1):\n",
    "    der = savgol_filter(pos, window_length=window, deriv=deriv, polyorder=5, delta=(x[1]-x[0]))\n",
    "    return der"
   ]
  },
  {
   "cell_type": "code",
   "execution_count": null,
   "metadata": {
    "execution": {
     "iopub.execute_input": "2023-04-12T13:43:29.023163Z",
     "iopub.status.busy": "2023-04-12T13:43:29.022886Z",
     "iopub.status.idle": "2023-04-12T13:43:29.856354Z",
     "shell.execute_reply": "2023-04-12T13:43:29.855829Z",
     "shell.execute_reply.started": "2023-04-12T13:43:29.023146Z"
    },
    "tags": []
   },
   "outputs": [],
   "source": [
    "# Plotting the mount plots\n",
    "maxAzVels = []\n",
    "maxAzAccels = []\n",
    "maxAzJerks = []\n",
    "maxElVels = []\n",
    "maxElAccels = []\n",
    "maxElJerks = []\n",
    "smoothingFactor = 0.2 # In spline creation\n",
    "kernel_size = 100 # In convolution\n",
    "kernel = np.ones(kernel_size) / kernel_size\n",
    "\n",
    "fig = plt.figure(figsize = (8,8))\n",
    "for index in [3]:#range(len(inPos)):\n",
    "\n",
    "    plotAz = az[(az['timestamp'] > (start_slew_times[index]-2.0)) & (az['timestamp'] < (inPos[index])+1.0)]\n",
    "    plotEl = el[(el['timestamp'] > (start_slew_times[index]-2.0)) & (el['timestamp'] < (inPos[index])+1.0)]\n",
    "    \n",
    "    ss_time = Time(start_slew_times[index], format='unix_tai', scale='utc').isot\n",
    "    ip_time = Time(inPos[index], format='unix_tai', scale='utc').isot\n",
    "    \n",
    "    # Now calculates the spline fit and differentiate it to get the acceleration and jerk\n",
    "    azPs = plotAz['actualPosition'].values\n",
    "    azVs = plotAz['actualVelocity'].values\n",
    "    azXs = plotAz['timestamp'].values - plotAz['timestamp'].values[0]  \n",
    "    elPs = plotEl['actualPosition'].values\n",
    "    elVs = plotEl['actualVelocity'].values\n",
    "    elXs = plotEl['timestamp'].values - plotEl['timestamp'].values[0]\n",
    "    plotStart = azXs[0] + 1.0\n",
    "    plotEnd = azXs[-1]\n",
    "    inPosPlot = inPos[index] - plotAz['timestamp'].values[0]\n",
    "    print(f\" InPosition = {inPosPlot:.2f}\")\n",
    "    \n",
    "    plotAzXs = np.linspace(plotStart, plotEnd, 2000)\n",
    "    plotElXs = np.linspace(plotStart, plotEnd, 2000)\n",
    "    \n",
    "    azPSpline = UnivariateSpline(azXs, azPs, s=0.005,k=5)\n",
    "    elPSpline = UnivariateSpline(elXs, elPs, s=0.005,k=5)\n",
    "    \n",
    "    smoothedAzVel = savgolFilter(azPSpline(plotAzXs), plotAzXs, deriv=1)\n",
    "    smoothedAzAcc = savgolFilter(azPSpline(plotAzXs), plotAzXs, deriv=2)\n",
    "    smoothedAzJer = savgolFilter(azPSpline(plotAzXs), plotAzXs, deriv=3)\n",
    "    \n",
    "    smoothedElVel = savgolFilter(elPSpline(plotAzXs), plotAzXs, deriv=1)\n",
    "    smoothedElAcc = savgolFilter(elPSpline(plotAzXs), plotAzXs, deriv=2)\n",
    "    smoothedElJer = savgolFilter(elPSpline(plotAzXs), plotAzXs, deriv=3)\n",
    "\n",
    "#     smoothedAzVel = interp1d(azXs, savgolFilter(azPs, azXs, deriv=1))(plotAzXs)\n",
    "#     smoothedAzAcc = interp1d(azXs, savgolFilter(azPs, azXs, deriv=2))(plotAzXs)\n",
    "#     smoothedAzJer = interp1d(azXs, savgolFilter(azPs, azXs, deriv=3))(plotAzXs)\n",
    "    \n",
    "#     smoothedElVel = interp1d(elXs, savgolFilter(elPs, elXs, deriv=1))(plotAzXs)\n",
    "#     smoothedElAcc = interp1d(elXs, savgolFilter(elPs, elXs, deriv=2))(plotAzXs)\n",
    "#     smoothedElJer = interp1d(elXs, savgolFilter(elPs, elXs, deriv=3))(plotAzXs)\n",
    "    \n",
    "    fig.clear()\n",
    "    plt.subplots_adjust(wspace=0.3, hspace=0.5)\n",
    "    plt.suptitle(f\"MT Mount Slews - {ip_time}\", fontsize = 18)\n",
    "    plt.subplot(4,2,1)\n",
    "    plt.plot(plotAzXs, azPSpline(plotAzXs), lw=3, color='r', label='Spline fit')\n",
    "    plt.scatter(azXs, azPs, marker='x', color='red', s=100, label='Measured points')\n",
    "    plt.plot([2.0,2.0], [np.min(azPs), np.max(azPs)], ls=':', color='b', label=\"Slew start\")\n",
    "    plt.plot([inPosPlot, inPosPlot], [np.min(azPs), np.max(azPs)], ls=':', color='g', label=\"In Position\")\n",
    "    plt.title(f\"Azimuth\")\n",
    "    plt.ylabel(\"Degrees\")\n",
    "    plt.xlim(plotStart, plotEnd)\n",
    "    #plt.legend()\n",
    "    plt.subplot(4,2,2)\n",
    "    plt.plot(plotElXs, elPSpline(plotElXs), lw=3, color='g', label='Spline fit')\n",
    "    plt.scatter(elXs, elPs, marker='x', color='g', s=100, label='Measured points')\n",
    "    plt.plot([2.0,2.0], [np.min(elPs), np.max(elPs)], ls=':', color='b', label=\"Slew start\")\n",
    "    plt.plot([inPosPlot, inPosPlot], [np.min(elPs), np.max(elPs)], ls=':', color='g', label=\"In Position\")\n",
    "    plt.title(f\"Elevation\")\n",
    "    plt.ylabel(\"Degrees\")\n",
    "    plt.xlim(plotStart, plotEnd)\n",
    "    #plt.legend()\n",
    "    plt.subplot(4,2,3)\n",
    "    plt.plot(plotAzXs, smoothedAzVel, lw=3, color='r', label='Spline fit')\n",
    "    plt.scatter(azXs, azVs, marker='x', color='red', s=100, label='Measured points')\n",
    "    plt.plot([2.0,2.0], [np.min(azVs), np.max(azVs)], ls=':', color='b', label=\"Slew start\")\n",
    "    plt.plot([inPosPlot, inPosPlot], [np.min(azVs), np.max(azVs)], ls=':', color='g', label=\"In Position\")\n",
    "    plt.title(f\"Azimuth Velocity\")\n",
    "    plt.ylabel(\"Degrees/sec\")\n",
    "    plt.xlim(plotStart, plotEnd)\n",
    "    #plt.legend()\n",
    "    plt.subplot(4,2,4)\n",
    "    plt.plot(plotElXs, smoothedElVel, lw=3, color='g', label='Spline fit')\n",
    "    plt.scatter(elXs, elVs, marker='x', color='g', s=100, label='Measured points')\n",
    "    plt.plot([2.0,2.0], [np.min(elVs), np.max(elVs)], ls=':', color='b', label=\"Slew start\")\n",
    "    plt.plot([inPosPlot, inPosPlot], [np.min(elVs), np.max(elVs)], ls=':', color='g', label=\"In Position\")\n",
    "    plt.title(f\"Elevation Velocity\")\n",
    "    plt.ylabel(\"Degrees/sec\")\n",
    "    plt.xlim(plotStart, plotEnd)\n",
    "    #plt.legend()\n",
    "    plt.subplot(4,2,5)\n",
    "    plt.plot(plotAzXs, smoothedAzAcc, lw=3, color='r', label='Acceleration')\n",
    "    plt.plot([2.0,2.0], [np.min(smoothedAzAcc), np.max(smoothedAzAcc)], ls=':', color='b', label=\"Slew start\")\n",
    "    plt.plot([inPosPlot, inPosPlot], [np.min(smoothedAzAcc), np.max(smoothedAzAcc)], ls=':', color='g', label=\"In Position\")\n",
    "    plt.title(f\"Azimuth Acceleration\")\n",
    "    plt.ylabel(\"Degrees/sec^2\")\n",
    "    plt.xlim(plotStart, plotEnd)\n",
    "    #plt.legend()\n",
    "    plt.subplot(4,2,6)\n",
    "    plt.plot(plotElXs, smoothedElAcc, lw=3, color='g', label='Acceleration')\n",
    "    plt.plot([2.0,2.0], [np.min(smoothedElAcc), np.max(smoothedElAcc)], ls=':', color='b', label=\"Slew start\")\n",
    "    plt.plot([inPosPlot, inPosPlot], [np.min(smoothedElAcc), np.max(smoothedElAcc)], ls=':', color='g', label=\"In Position\")\n",
    "    plt.title(f\"Elevation Acceleration\")\n",
    "    plt.ylabel(\"Degrees/sec^2\")\n",
    "    plt.xlim(plotStart, plotEnd)\n",
    "    #plt.legend()\n",
    "    plt.subplot(4,2,7)\n",
    "    plt.plot(plotAzXs, smoothedAzJer, lw=3, color='r', label='Jerk')\n",
    "    plt.plot([2.0,2.0], [np.min(smoothedAzJer), np.max(smoothedAzJer)], ls=':', color='b', label=\"Slew start\")\n",
    "    plt.plot([inPosPlot, inPosPlot], [np.min(smoothedAzJer), np.max(smoothedAzJer)], ls=':', color='g', label=\"In Position\")\n",
    "    plt.title(f\"Azimuth Jerk\")\n",
    "    plt.ylabel(\"Degrees/sec^3\")\n",
    "    plt.xlim(plotStart, plotEnd)\n",
    "    #plt.legend()\n",
    "    plt.subplot(4,2,8)\n",
    "    plt.plot(plotElXs, smoothedElJer, lw=3, color='g', label='Jerk')\n",
    "    plt.plot([2.0,2.0], [np.min(smoothedElJer), np.max(smoothedElJer)], ls=':', color='b', label=\"Slew start\")\n",
    "    plt.plot([inPosPlot, inPosPlot], [np.min(smoothedElJer), np.max(smoothedElJer)], ls=':', color='g', label=\"In Position\")\n",
    "    plt.title(f\"Elevation Jerk\")\n",
    "    plt.ylabel(\"Degrees/sec^3\")\n",
    "    plt.xlim(plotStart, plotEnd)\n",
    "    #plt.legend()\n",
    "    timestamp = ip_time.split('.')[0].replace('-','').replace(':','')\n",
    "    plt.savefig(f\"/home/craiglagegit/DATA/MTMount_26jan23/MT_Mount_Accel_Jerk_Savgol_{timestamp}.png\")\n",
    "    maxAzVel = np.max(abs(smoothedAzVel))\n",
    "    maxAzAccel = np.max(abs(smoothedAzAcc))\n",
    "    maxAzJerk = np.max(abs(smoothedAzJer))\n",
    "    maxElVel = np.max(abs(smoothedElVel))\n",
    "    maxElAccel = np.max(abs(smoothedElAcc))\n",
    "    maxElJerk = np.max(abs(smoothedElJer))\n",
    "    maxAzVels.append(maxAzVel)\n",
    "    maxAzAccels.append(maxAzAccel)\n",
    "    maxAzJerks.append(maxAzJerk)\n",
    "    maxElVels.append(maxElVel)\n",
    "    maxElAccels.append(maxElAccel)\n",
    "    maxElJerks.append(maxElJerk)\n",
    "    if maxAzJerk > 42.0 or maxElJerk > 21.0 or maxAzAccel > 10.5 or maxElAccel > 5.25:\n",
    "        print('Index : %i'%index)\n",
    "        print(maxAzVel, maxAzAccel, maxAzJerk, maxElVel, maxElAccel, maxElJerk)\n",
    "        plt.savefig(f'../MT_Mount_Accel_Jerk_{timestamp}.png')\n",
    "        print(timestamp)\n",
    "    \n"
   ]
  },
  {
   "cell_type": "code",
   "execution_count": null,
   "metadata": {
    "execution": {
     "iopub.execute_input": "2023-04-11T20:09:29.051193Z",
     "iopub.status.busy": "2023-04-11T20:09:29.050904Z",
     "iopub.status.idle": "2023-04-11T20:09:29.054377Z",
     "shell.execute_reply": "2023-04-11T20:09:29.053938Z",
     "shell.execute_reply.started": "2023-04-11T20:09:29.051175Z"
    },
    "tags": []
   },
   "outputs": [],
   "source": [
    "# I visually inspect the cases that were higher than the requirements\n",
    "# only two exposures had bad fits\n",
    "\n",
    "bad_fits = [82,137]\n",
    "goods = ~np.in1d(np.arange(len(inPos),dtype=np.int), bad_fits)"
   ]
  },
  {
   "cell_type": "code",
   "execution_count": null,
   "metadata": {
    "tags": []
   },
   "outputs": [],
   "source": []
  },
  {
   "cell_type": "code",
   "execution_count": null,
   "metadata": {
    "execution": {
     "iopub.execute_input": "2023-04-11T20:12:55.323414Z",
     "iopub.status.busy": "2023-04-11T20:12:55.322799Z",
     "iopub.status.idle": "2023-04-11T20:12:56.210771Z",
     "shell.execute_reply": "2023-04-11T20:12:56.210236Z",
     "shell.execute_reply.started": "2023-04-11T20:12:55.323395Z"
    },
    "tags": []
   },
   "outputs": [],
   "source": [
    "fig = plt.figure(figsize=(8,8))\n",
    "plt.subplots_adjust(wspace=0.3, hspace=0.5)\n",
    "plt.suptitle(f\"MT Mount Accels and Jerks\", fontsize = 18)\n",
    "plt.subplot(2,3,1)\n",
    "plt.title(\"Az Max Velocity\")\n",
    "plt.hist(np.array(maxAzVels)[goods], color='orange')\n",
    "plt.xlabel(\"Velocity(deg/s)\")\n",
    "# plt.ylim(0,120)\n",
    "plt.axvline(10.5, color='red', ls='--', label='Max')\n",
    "plt.axvline(7,0, color='blue', ls='--', label='Design')\n",
    "plt.legend()\n",
    "plt.subplot(2,3,2)\n",
    "plt.title(\"Az Max Accels\")\n",
    "plt.hist(np.array(maxAzAccels)[goods], color='orange')\n",
    "plt.xlabel(\"Accel(deg/s^2)\")\n",
    "# plt.ylim(0,120)\n",
    "plt.axvline(10.5, color='red', ls='--', label='Max')\n",
    "plt.axvline(7,0, color='blue', ls='--', label='Design')\n",
    "plt.legend()\n",
    "plt.subplot(2,3,3)\n",
    "plt.title(\"Az Max Jerk\")\n",
    "plt.hist(np.array(maxAzJerks)[goods], color='orange')\n",
    "plt.xlabel(\"Jerk(deg/s^3)\")\n",
    "# plt.ylim(0,120)\n",
    "plt.axvline(42.0, color='red', ls='--', label='Max')\n",
    "plt.axvline(28.0, color='blue', ls='--', label='Design')\n",
    "\n",
    "# plt.plot([42.0, 42.0],[0,120],color='red', ls='--', label='Max')\n",
    "# plt.plot([28.0, 28.0],[0,120],color='blue', ls='--', label='Design')\n",
    "plt.legend()\n",
    "plt.subplot(2,3,4)\n",
    "plt.title(\"El Max Velocity\")\n",
    "plt.hist(np.array(maxElVels)[goods], color='orange')\n",
    "plt.xlabel(\"Velocity(deg/s)\")\n",
    "# plt.ylim(0,120)\n",
    "plt.axvline(5.25, color='red', ls='--', label='Max')\n",
    "plt.axvline(3.5, color='blue', ls='--', label='Design')\n",
    "plt.legend()\n",
    "plt.subplot(2,3,5)\n",
    "plt.title(\"El Max Accels\")\n",
    "plt.hist(np.array(maxElAccels)[goods], color='orange')\n",
    "plt.xlabel(\"Accel(deg/s^2)\")\n",
    "plt.axvline(5.25, color='red', ls='--', label='Max')\n",
    "plt.axvline(3.5, color='blue', ls='--', label='Design')\n",
    "# plt.ylim(0,120)\n",
    "# plt.plot([5.25, 5.25],[0,120],color='red', ls='--', label='Max')\n",
    "# plt.plot([3.5, 3.5],[0,120],color='blue', ls='--', label='Design')\n",
    "plt.legend()\n",
    "plt.subplot(2,3,6)\n",
    "plt.title(\"El Max Jerk\")\n",
    "plt.hist(np.array(maxElJerks)[goods], color='orange')\n",
    "plt.xlabel(\"Jerk(deg/s^3)\")\n",
    "plt.axvline(21., color='red', ls='--', label='Max')\n",
    "plt.axvline(14., color='blue', ls='--', label='Design')\n",
    "\n",
    "# plt.ylim(0,120)\n",
    "# plt.plot([21, 21],[0,120],color='red', ls='--', label='Max')\n",
    "# plt.plot([14.0, 14.0],[0,120],color='blue', ls='--', label='Design')\n",
    "plt.legend()\n",
    "plt.savefig('Max_Accel_Jerks_26Jan23.pdf')\n",
    "# plt.savefig(f\"/home/craiglagegit/DATA/MTMount_26jan23/Max_Accel_Jerks_26Jan23.pdf\")"
   ]
  },
  {
   "cell_type": "code",
   "execution_count": null,
   "metadata": {
    "execution": {
     "iopub.execute_input": "2023-04-11T20:12:23.749964Z",
     "iopub.status.busy": "2023-04-11T20:12:23.749683Z",
     "iopub.status.idle": "2023-04-11T20:12:23.753815Z",
     "shell.execute_reply": "2023-04-11T20:12:23.753233Z",
     "shell.execute_reply.started": "2023-04-11T20:12:23.749946Z"
    },
    "tags": []
   },
   "outputs": [],
   "source": [
    "len(inPos)"
   ]
  },
  {
   "cell_type": "code",
   "execution_count": null,
   "metadata": {
    "tags": []
   },
   "outputs": [],
   "source": []
  },
  {
   "cell_type": "code",
   "execution_count": null,
   "metadata": {},
   "outputs": [],
   "source": []
  }
 ],
 "metadata": {
  "kernelspec": {
   "display_name": "LSST",
   "language": "python",
   "name": "lsst"
  },
  "language_info": {
   "codemirror_mode": {
    "name": "ipython",
    "version": 3
   },
   "file_extension": ".py",
   "mimetype": "text/x-python",
   "name": "python",
   "nbconvert_exporter": "python",
   "pygments_lexer": "ipython3",
   "version": "3.10.9"
  }
 },
 "nbformat": 4,
 "nbformat_minor": 4
}
