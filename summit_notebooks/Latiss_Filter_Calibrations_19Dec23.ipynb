{
 "cells": [
  {
   "cell_type": "markdown",
   "metadata": {},
   "source": [
    "# Generate filter calibration curves\n",
    "This script runs the monochromator through a series of wavelength steps, taking flats at each step to provide filter transmission curves for each filter."
   ]
  },
  {
   "cell_type": "code",
   "execution_count": null,
   "metadata": {
    "tags": []
   },
   "outputs": [],
   "source": [
    "import sys\n",
    "import asyncio\n",
    "import time\n",
    "import os\n",
    "import pickle as pkl\n",
    "import numpy as np\n",
    "import matplotlib.pyplot as plt\n",
    "from astropy.io import fits\n",
    "from astropy.time import Time\n",
    "from astropy.table import Table\n",
    "\n",
    "from lsst.ts import salobj\n",
    "from lsst.ts.observatory.control.auxtel.latiss import LATISS"
   ]
  },
  {
   "cell_type": "code",
   "execution_count": null,
   "metadata": {},
   "outputs": [],
   "source": [
    "# change this to a local directory\n",
    "data_dir = '/home/craiglagegit/DATA'"
   ]
  },
  {
   "cell_type": "markdown",
   "metadata": {},
   "source": [
    "## Now connect to LATISS and the ATCalSys CSCs"
   ]
  },
  {
   "cell_type": "code",
   "execution_count": null,
   "metadata": {
    "tags": []
   },
   "outputs": [],
   "source": [
    "domain = salobj.Domain()\n",
    "latiss = LATISS(domain)\n",
    "atmonochromator = salobj.Remote(domain, 'ATMonochromator')\n",
    "FiberSpectrograph = salobj.Remote(name=\"FiberSpectrograph\", domain=domain, index=3)\n",
    "electrometer = salobj.Remote(name=\"Electrometer\", domain=domain, index=201) \n",
    "WhiteLightSource = salobj.Remote(name='ATWhiteLight', domain=domain)"
   ]
  },
  {
   "cell_type": "markdown",
   "metadata": {},
   "source": [
    "## Bring in needed subroutines"
   ]
  },
  {
   "cell_type": "code",
   "execution_count": null,
   "metadata": {},
   "outputs": [],
   "source": [
    "# functions to run the electrometer measurements\n",
    "def get_file_transfer(lfa):\n",
    "    filename = os.path.split(lfa.url)[1]\n",
    "    save_dir = os.path.join(data_dir, filename.split(':')[0])\n",
    "    if not os.path.exists(save_dir):\n",
    "        os.mkdir(save_dir)\n",
    "    save_file = os.path.join(save_dir, filename)\n",
    "    os.system(f\"curl {lfa.url} --output {save_file}\")\n",
    "    return save_file\n",
    "\n",
    "async def elec_meas(exp_time):\n",
    "    electrometer.evt_largeFileObjectAvailable.flush()\n",
    "    tmp1=await electrometer.cmd_startScan.set_start(timeout=10)\n",
    "    await asyncio.sleep(exp_time)\n",
    "    tmp2=await electrometer.cmd_stopScan.set_start(timeout=10)\n",
    "    lfa = await electrometer.evt_largeFileObjectAvailable.next(flush=False, timeout=10)\n",
    "    filename = get_file_transfer(lfa)\n",
    "    filename = filename.replace(\":\", \"_\")\n",
    "    elec_filen = os.path.join(data_dir, filename)\n",
    "    os.system(f\"curl {lfa.url} --output {elec_filen}\")\n",
    "    hdu = fits.open(f'{elec_filen}')\n",
    "    data = hdu[1].data\n",
    "    return filename, lfa, data\n",
    "\n",
    "async def fiber_meas(exp_time):\n",
    "    FiberSpectrograph.evt_largeFileObjectAvailable.flush()\n",
    "    tmp1 = await FiberSpectrograph.cmd_expose.set_start(duration=exp_time, numExposures=1)\n",
    "    lfa = await FiberSpectrograph.evt_largeFileObjectAvailable.next(flush=False, timeout=10)\n",
    "    filename = get_file_transfer(lfa)\n",
    "    filename = filename.replace(\":\", \"_\")\n",
    "    spec_filen = os.path.join(data_dir, filename)\n",
    "    os.system(f\"curl {lfa.url} --output {spec_filen}\")\n",
    "    hdu = fits.open(f'{spec_filen}')\n",
    "    wavelength = hdu[1].data['wavelength'].flatten()\n",
    "    spectrum = hdu[0].data\n",
    "    return filename, lfa, wavelength, spectrum\n"
   ]
  },
  {
   "cell_type": "markdown",
   "metadata": {},
   "source": [
    "## Set up electrometer"
   ]
  },
  {
   "cell_type": "code",
   "execution_count": null,
   "metadata": {},
   "outputs": [],
   "source": [
    "await electrometer.cmd_performZeroCalib.set_start(timeout=10)\n",
    "await electrometer.cmd_setDigitalFilter.set_start(activateFilter=False, activateAvgFilter=False, activateMedFilter=False, timeout=10)  \n",
    "await electrometer.cmd_setIntegrationTime.set_start(intTime=0.1) \n",
    "await electrometer.cmd_setRange.set_start(setRange=-1)"
   ]
  },
  {
   "cell_type": "markdown",
   "metadata": {},
   "source": [
    "## Take 20 biases for system warm-up"
   ]
  },
  {
   "cell_type": "code",
   "execution_count": null,
   "metadata": {
    "tags": []
   },
   "outputs": [],
   "source": [
    "# Take 20 biases for system warm-up\n",
    "for i in range(20):\n",
    "    await latiss.take_bias(1)\n",
    "    await asyncio.sleep(2.0)\n"
   ]
  },
  {
   "cell_type": "markdown",
   "metadata": {
    "execution": {
     "iopub.execute_input": "2022-12-12T17:14:28.707685Z",
     "iopub.status.busy": "2022-12-12T17:14:28.706994Z",
     "iopub.status.idle": "2022-12-12T17:14:28.710806Z",
     "shell.execute_reply": "2022-12-12T17:14:28.710312Z",
     "shell.execute_reply.started": "2022-12-12T17:14:28.707665Z"
    },
    "tags": []
   },
   "source": [
    "## Now run SDSSr filter"
   ]
  },
  {
   "cell_type": "markdown",
   "metadata": {},
   "source": [
    "### 202312190024 is the first exposure"
   ]
  },
  {
   "cell_type": "code",
   "execution_count": null,
   "metadata": {
    "tags": []
   },
   "outputs": [],
   "source": [
    "latiss_grating= 'empty_1'\n",
    "wave_step = 5 # Wavelength step in nm\n",
    "latiss_exp_time = 60.0\n",
    "num_latiss_exps = 1\n",
    "\n",
    "# Dictionary to hold the results\n",
    "results = {}\n",
    "for latiss_filter in ['SDSSr_65mm']:#['SDSSg_65mm', 'SDSSr_65mm', 'SDSSi_65mm']:\n",
    "    if latiss_filter =='SDSSg_65mm':\n",
    "        min_wave = 350; max_wave = 600; grating = 0; slit_1 = 5.0; slit_2 = 5.0\n",
    "    elif latiss_filter == 'SDSSr_65mm':\n",
    "        min_wave = 500; max_wave = 750; grating = 1; slit_1 = 5.0; slit_2 = 5.0\n",
    "    elif latiss_filter == 'SDSSi_65mm':\n",
    "        min_wave = 640; max_wave = 880; grating = 1; slit_1 = 5.0; slit_2 = 5.0\n",
    "    else:\n",
    "        raise \"Filter not supported\"\n",
    "    await atmonochromator.cmd_updateMonochromatorSetup.set_start(wavelength=min_wave, gratingType=grating, \\\n",
    "                                                             fontEntranceSlitWidth=slit_1, fontExitSlitWidth=slit_2, timeout=180)        \n",
    "    wave = min_wave\n",
    "    # This loop steps through the wavelengths for each filter\n",
    "    while wave < max_wave + wave_step / 2.0:\n",
    "        await atmonochromator.cmd_updateMonochromatorSetup.set_start(wavelength=wave, gratingType=grating, \\\n",
    "                                                             fontEntranceSlitWidth=slit_1, fontExitSlitWidth=slit_2, timeout=180)        \n",
    "        key = f\"{latiss_filter}_{wave:.0f}\"\n",
    "        print(key)\n",
    "        filename, electrometer_lfa, electrometer_data = await elec_meas(1.0)\n",
    "        for (t,current) in electrometer_data:\n",
    "            electrometer_current = current\n",
    "        exp_time = 0.5\n",
    "        filename, fiber_lfa, wavelengths, spectrum = await fiber_meas(exp_time)\n",
    "        spec_max = np.max(spectrum)\n",
    "        # The loop below prevents the spectrum from saturating\n",
    "        while spec_max > 15900:\n",
    "            exp_time /= 2.0\n",
    "            filename, fiber_lfa, wavelengths, spectrum = await fiber_meas(exp_time)\n",
    "            spec_max = np.max(spectrum)\n",
    "        # Take one flat with the filter and one without\n",
    "        await latiss.take_flats(latiss_exp_time, num_latiss_exps, filter=latiss_filter, grating=latiss_grating, reason=f'flat_{wave:.1f}')\n",
    "        await latiss.take_flats(latiss_exp_time, num_latiss_exps, filter='empty_1', grating=latiss_grating, reason=f'flat_{wave:.1f}')\n",
    "        \n",
    "        print(wave, electrometer_current, exp_time, spec_max)\n",
    "        results[key] = {}\n",
    "        results[key]['electrometer_lfa_url']=electrometer_lfa.url\n",
    "        results[key]['fiber_lfa_url']=fiber_lfa.url\n",
    "        results[key]['electrometer_current']=electrometer_current\n",
    "        results[key]['fiber_data']=[wavelengths, spectrum, exp_time]\n",
    "        print(f\"Done with {latiss_filter}, {wave}\")\n",
    "        wave += wave_step"
   ]
  },
  {
   "cell_type": "code",
   "execution_count": null,
   "metadata": {
    "tags": []
   },
   "outputs": [],
   "source": [
    "# Pickle the data\n",
    "filename = \"/scratch/cslage/filter_cals/filter_cal_19Dec23.pkl\"\n",
    "file = open(filename, \"wb\")\n",
    "pkl.dump(results, file)\n",
    "file.close()"
   ]
  },
  {
   "cell_type": "code",
   "execution_count": null,
   "metadata": {},
   "outputs": [],
   "source": [
    "# Turn off the lamp\n",
    "tmp = await WhiteLightSource.cmd_turnLampOff.set_start()"
   ]
  },
  {
   "cell_type": "markdown",
   "metadata": {},
   "source": [
    "## Below shows how to unpickle the spectrum and electrometer data and plot a spectrum"
   ]
  },
  {
   "cell_type": "code",
   "execution_count": null,
   "metadata": {
    "tags": []
   },
   "outputs": [],
   "source": [
    "# Unpickle the data\n",
    "filename = \"/scratch/cslage/filter_cals/filter_cal_19Dec23.pkl\"\n",
    "file = open(filename, \"rb\")\n",
    "results = pkl.load(file)\n",
    "file.close()"
   ]
  },
  {
   "cell_type": "code",
   "execution_count": null,
   "metadata": {
    "tags": []
   },
   "outputs": [],
   "source": [
    "[wavelengths, spectrum, exp_time] = results['SDSSr_65mm_610']['fiber_data']"
   ]
  },
  {
   "cell_type": "code",
   "execution_count": null,
   "metadata": {
    "tags": []
   },
   "outputs": [],
   "source": [
    "%matplotlib inline\n",
    "plt.plot(wavelengths, spectrum)\n",
    "plt.xlim(560, 660)"
   ]
  },
  {
   "cell_type": "code",
   "execution_count": null,
   "metadata": {},
   "outputs": [],
   "source": [
    "current = results['SDSSr_65mm_610']['electrometer_current']"
   ]
  },
  {
   "cell_type": "code",
   "execution_count": null,
   "metadata": {},
   "outputs": [],
   "source": [
    "current"
   ]
  },
  {
   "cell_type": "code",
   "execution_count": null,
   "metadata": {},
   "outputs": [],
   "source": []
  }
 ],
 "metadata": {
  "kernelspec": {
   "display_name": "LSST",
   "language": "python",
   "name": "lsst"
  },
  "language_info": {
   "codemirror_mode": {
    "name": "ipython",
    "version": 3
   },
   "file_extension": ".py",
   "mimetype": "text/x-python",
   "name": "python",
   "nbconvert_exporter": "python",
   "pygments_lexer": "ipython3",
   "version": "3.11.9"
  }
 },
 "nbformat": 4,
 "nbformat_minor": 4
}
