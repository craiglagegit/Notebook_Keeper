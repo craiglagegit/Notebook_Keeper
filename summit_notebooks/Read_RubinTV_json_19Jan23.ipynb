{
 "cells": [
  {
   "cell_type": "code",
   "execution_count": null,
   "id": "94e16da1-ddcf-47d1-9adb-683ffa6044b8",
   "metadata": {},
   "outputs": [],
   "source": [
    "import pandas as pd\n",
    "import numpy as np\n",
    "import matplotlib.pyplot as plt\n",
    "import json"
   ]
  },
  {
   "cell_type": "code",
   "execution_count": null,
   "id": "f8650c21-8f72-4406-8eb8-0b675809ab0a",
   "metadata": {},
   "outputs": [],
   "source": [
    "filename = \"/Users/cslage/Downloads/auxtel_2023-01-18.json\""
   ]
  },
  {
   "cell_type": "code",
   "execution_count": null,
   "id": "081fd63b-8c96-41e3-a454-3bafa09cf550",
   "metadata": {},
   "outputs": [],
   "source": [
    "df = pd.read_json(filename)"
   ]
  },
  {
   "cell_type": "code",
   "execution_count": null,
   "id": "942d2620-17aa-4c1b-8628-a2b0ef26ed05",
   "metadata": {
    "jupyter": {
     "outputs_hidden": true
    },
    "tags": []
   },
   "outputs": [],
   "source": [
    "df.head(50)"
   ]
  },
  {
   "cell_type": "code",
   "execution_count": null,
   "id": "fefce32d-b17e-450c-9c18-5afb56a09323",
   "metadata": {},
   "outputs": [],
   "source": [
    "df = df.transpose()"
   ]
  },
  {
   "cell_type": "code",
   "execution_count": null,
   "id": "3872952c-17e5-4660-bf25-fcb4f73c7c2a",
   "metadata": {},
   "outputs": [],
   "source": [
    "df.columns"
   ]
  },
  {
   "cell_type": "code",
   "execution_count": null,
   "id": "0f76d0f4-8ffc-4ea9-94e6-b4fae5015cc5",
   "metadata": {},
   "outputs": [],
   "source": [
    "mount_degradation = df['Mount motion image degradation']"
   ]
  },
  {
   "cell_type": "code",
   "execution_count": null,
   "id": "fedc0615-fcd7-4ffe-bd66-2342055eb5ce",
   "metadata": {},
   "outputs": [],
   "source": [
    "np.count_nonzero(~pd.isna(mount_degradation.values))"
   ]
  },
  {
   "cell_type": "code",
   "execution_count": null,
   "id": "3aaf65a6-a7b6-4356-bf39-6369ccc7dd1f",
   "metadata": {},
   "outputs": [],
   "source": [
    "np.where(mount_degradation.values > 0.4)[0].shape"
   ]
  },
  {
   "cell_type": "code",
   "execution_count": null,
   "id": "6d207184-e1d9-49f3-b744-fbc56bc1a865",
   "metadata": {},
   "outputs": [],
   "source": [
    "plt.hist(mount_degradation.values, range=(0,1.0))\n"
   ]
  },
  {
   "cell_type": "code",
   "execution_count": null,
   "id": "4835f7e0-10be-4240-bff4-163be16767d6",
   "metadata": {},
   "outputs": [],
   "source": []
  }
 ],
 "metadata": {
  "kernelspec": {
   "display_name": "LSST",
   "language": "python",
   "name": "lsst"
  },
  "language_info": {
   "codemirror_mode": {
    "name": "ipython",
    "version": 3
   },
   "file_extension": ".py",
   "mimetype": "text/x-python",
   "name": "python",
   "nbconvert_exporter": "python",
   "pygments_lexer": "ipython3",
   "version": "3.10.6"
  }
 },
 "nbformat": 4,
 "nbformat_minor": 5
}
