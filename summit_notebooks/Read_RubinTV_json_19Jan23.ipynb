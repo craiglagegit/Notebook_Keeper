{
 "cells": [
  {
   "cell_type": "code",
   "execution_count": null,
   "id": "94e16da1-ddcf-47d1-9adb-683ffa6044b8",
   "metadata": {
    "execution": {
     "iopub.execute_input": "2023-03-17T16:20:09.565980Z",
     "iopub.status.busy": "2023-03-17T16:20:09.565798Z",
     "iopub.status.idle": "2023-03-17T16:20:09.830280Z",
     "shell.execute_reply": "2023-03-17T16:20:09.829752Z",
     "shell.execute_reply.started": "2023-03-17T16:20:09.565965Z"
    },
    "tags": []
   },
   "outputs": [],
   "source": [
    "import pandas as pd\n",
    "import numpy as np\n",
    "import matplotlib.pyplot as plt\n",
    "import json"
   ]
  },
  {
   "cell_type": "code",
   "execution_count": null,
   "id": "f8650c21-8f72-4406-8eb8-0b675809ab0a",
   "metadata": {
    "execution": {
     "iopub.execute_input": "2023-03-17T16:20:09.831726Z",
     "iopub.status.busy": "2023-03-17T16:20:09.831294Z",
     "iopub.status.idle": "2023-03-17T16:20:09.834159Z",
     "shell.execute_reply": "2023-03-17T16:20:09.833714Z",
     "shell.execute_reply.started": "2023-03-17T16:20:09.831707Z"
    },
    "tags": []
   },
   "outputs": [],
   "source": [
    "filename = \"/scratch/cslage/starTracker/startracker_2023-03-15.json\""
   ]
  },
  {
   "cell_type": "code",
   "execution_count": null,
   "id": "081fd63b-8c96-41e3-a454-3bafa09cf550",
   "metadata": {
    "execution": {
     "iopub.execute_input": "2023-03-17T16:20:09.834891Z",
     "iopub.status.busy": "2023-03-17T16:20:09.834715Z",
     "iopub.status.idle": "2023-03-17T16:20:10.233239Z",
     "shell.execute_reply": "2023-03-17T16:20:10.232721Z",
     "shell.execute_reply.started": "2023-03-17T16:20:09.834877Z"
    },
    "tags": []
   },
   "outputs": [],
   "source": [
    "df = pd.read_json(filename)\n",
    "df = df.transpose()"
   ]
  },
  {
   "cell_type": "code",
   "execution_count": null,
   "id": "942d2620-17aa-4c1b-8628-a2b0ef26ed05",
   "metadata": {
    "execution": {
     "iopub.execute_input": "2023-03-17T16:20:10.234045Z",
     "iopub.status.busy": "2023-03-17T16:20:10.233857Z",
     "iopub.status.idle": "2023-03-17T16:20:10.238948Z",
     "shell.execute_reply": "2023-03-17T16:20:10.238589Z",
     "shell.execute_reply.started": "2023-03-17T16:20:10.234029Z"
    },
    "tags": []
   },
   "outputs": [],
   "source": [
    "df.columns"
   ]
  },
  {
   "cell_type": "code",
   "execution_count": null,
   "id": "32fe6aa3-55ab-4deb-9e94-a884a346ace0",
   "metadata": {
    "execution": {
     "iopub.execute_input": "2023-03-17T16:29:24.760294Z",
     "iopub.status.busy": "2023-03-17T16:29:24.760022Z",
     "iopub.status.idle": "2023-03-17T16:29:24.764418Z",
     "shell.execute_reply": "2023-03-17T16:29:24.763930Z",
     "shell.execute_reply.started": "2023-03-17T16:29:24.760279Z"
    },
    "tags": []
   },
   "outputs": [],
   "source": [
    "alf02Lib = np.array([222.71964, -16.0418])\n",
    "Narrow_pointing = np.array([df.loc[1044]['Ra'], df.loc[1044]['Dec']])\n",
    "\n",
    "delta = Narrow_pointing - alf02Lib\n",
    "print(f\"alf02Lib Ra/Dec = {alf02Lib}\")\n",
    "print(f\"Narrow camera pointing (20230315 seqNum 1044) = {Narrow_pointing}\")\n",
    "print(f\"Offset = {delta}\")"
   ]
  },
  {
   "cell_type": "code",
   "execution_count": null,
   "id": "89bba9a3-516a-4e91-96c2-d157a87476de",
   "metadata": {
    "execution": {
     "iopub.execute_input": "2023-03-17T16:57:57.326293Z",
     "iopub.status.busy": "2023-03-17T16:57:57.326019Z",
     "iopub.status.idle": "2023-03-17T16:57:57.330119Z",
     "shell.execute_reply": "2023-03-17T16:57:57.329608Z",
     "shell.execute_reply.started": "2023-03-17T16:57:57.326277Z"
    }
   },
   "outputs": [],
   "source": [
    "df.loc[1044]['MJD']"
   ]
  },
  {
   "cell_type": "code",
   "execution_count": null,
   "id": "fefce32d-b17e-450c-9c18-5afb56a09323",
   "metadata": {
    "execution": {
     "iopub.execute_input": "2023-03-08T10:09:07.128958Z",
     "iopub.status.busy": "2023-03-08T10:09:07.128557Z",
     "iopub.status.idle": "2023-03-08T10:09:07.132924Z",
     "shell.execute_reply": "2023-03-08T10:09:07.132311Z",
     "shell.execute_reply.started": "2023-03-08T10:09:07.128939Z"
    },
    "tags": []
   },
   "outputs": [],
   "source": [
    "seqNums = list(np.arange(391,476)) + list(np.arange(477,481))\n",
    "tracking_test = df.loc[seqNums]"
   ]
  },
  {
   "cell_type": "code",
   "execution_count": null,
   "id": "a1e8bc91-ce85-4ed8-a197-f1c5118d5782",
   "metadata": {
    "execution": {
     "iopub.execute_input": "2023-03-08T10:09:10.962982Z",
     "iopub.status.busy": "2023-03-08T10:09:10.962711Z",
     "iopub.status.idle": "2023-03-08T10:09:10.976769Z",
     "shell.execute_reply": "2023-03-08T10:09:10.976356Z",
     "shell.execute_reply.started": "2023-03-08T10:09:10.962965Z"
    },
    "jupyter": {
     "outputs_hidden": true
    },
    "tags": []
   },
   "outputs": [],
   "source": [
    "tracking_test"
   ]
  },
  {
   "cell_type": "code",
   "execution_count": null,
   "id": "3872952c-17e5-4660-bf25-fcb4f73c7c2a",
   "metadata": {
    "execution": {
     "iopub.execute_input": "2023-03-08T10:10:05.135148Z",
     "iopub.status.busy": "2023-03-08T10:10:05.134872Z",
     "iopub.status.idle": "2023-03-08T10:10:05.256229Z",
     "shell.execute_reply": "2023-03-08T10:10:05.255663Z",
     "shell.execute_reply.started": "2023-03-08T10:10:05.135130Z"
    },
    "tags": []
   },
   "outputs": [],
   "source": [
    "tracking_test['Ra'].plot()\n",
    "tracking_test['Calculated Ra'].plot()"
   ]
  },
  {
   "cell_type": "code",
   "execution_count": null,
   "id": "02f46a1e-4b96-4629-80a6-77a41275fe69",
   "metadata": {
    "execution": {
     "iopub.execute_input": "2023-03-08T10:11:26.745117Z",
     "iopub.status.busy": "2023-03-08T10:11:26.744844Z",
     "iopub.status.idle": "2023-03-08T10:11:26.869650Z",
     "shell.execute_reply": "2023-03-08T10:11:26.869114Z",
     "shell.execute_reply.started": "2023-03-08T10:11:26.745101Z"
    }
   },
   "outputs": [],
   "source": [
    "tracking_test['Dec'].plot()\n",
    "tracking_test['Calculated Dec'].plot()"
   ]
  },
  {
   "cell_type": "code",
   "execution_count": null,
   "id": "bf761ea2-1456-4806-b9c6-158a527e53c7",
   "metadata": {
    "execution": {
     "iopub.execute_input": "2023-03-08T10:16:23.610533Z",
     "iopub.status.busy": "2023-03-08T10:16:23.610248Z",
     "iopub.status.idle": "2023-03-08T10:16:23.614228Z",
     "shell.execute_reply": "2023-03-08T10:16:23.613638Z",
     "shell.execute_reply.started": "2023-03-08T10:16:23.610517Z"
    },
    "tags": []
   },
   "outputs": [],
   "source": [
    "seqNums = list(np.arange(983, 1065)) + list(np.arange(1066,1072))\n",
    "tracking_test = df.loc[seqNums]"
   ]
  },
  {
   "cell_type": "code",
   "execution_count": null,
   "id": "8bd71dc9-b02e-4483-b939-32dc7b4cd9e2",
   "metadata": {
    "execution": {
     "iopub.execute_input": "2023-03-08T10:09:10.962982Z",
     "iopub.status.busy": "2023-03-08T10:09:10.962711Z",
     "iopub.status.idle": "2023-03-08T10:09:10.976769Z",
     "shell.execute_reply": "2023-03-08T10:09:10.976356Z",
     "shell.execute_reply.started": "2023-03-08T10:09:10.962965Z"
    },
    "jupyter": {
     "outputs_hidden": true
    },
    "tags": []
   },
   "outputs": [],
   "source": [
    "tracking_test"
   ]
  },
  {
   "cell_type": "code",
   "execution_count": null,
   "id": "85033cbb-c530-43a2-8192-af4bd1bffa00",
   "metadata": {
    "execution": {
     "iopub.execute_input": "2023-03-08T10:16:28.627537Z",
     "iopub.status.busy": "2023-03-08T10:16:28.627246Z",
     "iopub.status.idle": "2023-03-08T10:16:28.735088Z",
     "shell.execute_reply": "2023-03-08T10:16:28.734581Z",
     "shell.execute_reply.started": "2023-03-08T10:16:28.627519Z"
    },
    "tags": []
   },
   "outputs": [],
   "source": [
    "tracking_test['Ra'].plot()\n",
    "tracking_test['Calculated Ra'].plot()"
   ]
  },
  {
   "cell_type": "code",
   "execution_count": null,
   "id": "0bf20c5b-0ec7-4003-99ea-7ba68c4a1c94",
   "metadata": {
    "execution": {
     "iopub.execute_input": "2023-03-08T10:16:37.563211Z",
     "iopub.status.busy": "2023-03-08T10:16:37.562930Z",
     "iopub.status.idle": "2023-03-08T10:16:37.669370Z",
     "shell.execute_reply": "2023-03-08T10:16:37.668943Z",
     "shell.execute_reply.started": "2023-03-08T10:16:37.563194Z"
    },
    "tags": []
   },
   "outputs": [],
   "source": [
    "tracking_test['Dec'].plot()\n",
    "tracking_test['Calculated Dec'].plot()"
   ]
  },
  {
   "cell_type": "code",
   "execution_count": null,
   "id": "0f76d0f4-8ffc-4ea9-94e6-b4fae5015cc5",
   "metadata": {},
   "outputs": [],
   "source": [
    "mount_degradation = df['Mount motion image degradation']"
   ]
  },
  {
   "cell_type": "code",
   "execution_count": null,
   "id": "fedc0615-fcd7-4ffe-bd66-2342055eb5ce",
   "metadata": {},
   "outputs": [],
   "source": [
    "np.count_nonzero(~pd.isna(mount_degradation.values))"
   ]
  },
  {
   "cell_type": "code",
   "execution_count": null,
   "id": "3aaf65a6-a7b6-4356-bf39-6369ccc7dd1f",
   "metadata": {},
   "outputs": [],
   "source": [
    "np.where(mount_degradation.values > 0.4)[0].shape"
   ]
  },
  {
   "cell_type": "code",
   "execution_count": null,
   "id": "6d207184-e1d9-49f3-b744-fbc56bc1a865",
   "metadata": {},
   "outputs": [],
   "source": [
    "plt.hist(mount_degradation.values, range=(0,1.0))\n"
   ]
  },
  {
   "cell_type": "code",
   "execution_count": null,
   "id": "4835f7e0-10be-4240-bff4-163be16767d6",
   "metadata": {
    "execution": {
     "iopub.execute_input": "2023-02-21T15:23:05.121146Z",
     "iopub.status.busy": "2023-02-21T15:23:05.120853Z",
     "iopub.status.idle": "2023-02-21T15:23:05.148240Z",
     "shell.execute_reply": "2023-02-21T15:23:05.147833Z",
     "shell.execute_reply.started": "2023-02-21T15:23:05.121128Z"
    }
   },
   "outputs": [],
   "source": [
    "import pandas as pd\n",
    "import json\n",
    "filename = \"/scratch/cslage/starTracker/startracker-wide_2023-02-20.json\"\n",
    "df = pd.read_json(filename)\n",
    "df = df.transpose()"
   ]
  },
  {
   "cell_type": "code",
   "execution_count": null,
   "id": "fe8e5108-03df-40d8-a8f3-8df653f54fa9",
   "metadata": {},
   "outputs": [],
   "source": []
  }
 ],
 "metadata": {
  "kernelspec": {
   "display_name": "LSST",
   "language": "python",
   "name": "lsst"
  },
  "language_info": {
   "codemirror_mode": {
    "name": "ipython",
    "version": 3
   },
   "file_extension": ".py",
   "mimetype": "text/x-python",
   "name": "python",
   "nbconvert_exporter": "python",
   "pygments_lexer": "ipython3",
   "version": "3.10.9"
  }
 },
 "nbformat": 4,
 "nbformat_minor": 5
}
