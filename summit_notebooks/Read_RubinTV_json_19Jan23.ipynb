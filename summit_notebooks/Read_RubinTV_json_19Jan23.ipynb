{
 "cells": [
  {
   "cell_type": "code",
   "execution_count": null,
   "id": "94e16da1-ddcf-47d1-9adb-683ffa6044b8",
   "metadata": {
    "execution": {
     "iopub.execute_input": "2023-02-21T15:15:08.121040Z",
     "iopub.status.busy": "2023-02-21T15:15:08.120761Z",
     "iopub.status.idle": "2023-02-21T15:15:08.373339Z",
     "shell.execute_reply": "2023-02-21T15:15:08.372861Z",
     "shell.execute_reply.started": "2023-02-21T15:15:08.121024Z"
    }
   },
   "outputs": [],
   "source": [
    "import pandas as pd\n",
    "import numpy as np\n",
    "import matplotlib.pyplot as plt\n",
    "import json"
   ]
  },
  {
   "cell_type": "code",
   "execution_count": null,
   "id": "f8650c21-8f72-4406-8eb8-0b675809ab0a",
   "metadata": {
    "execution": {
     "iopub.execute_input": "2023-02-21T15:18:09.237353Z",
     "iopub.status.busy": "2023-02-21T15:18:09.237077Z",
     "iopub.status.idle": "2023-02-21T15:18:09.239760Z",
     "shell.execute_reply": "2023-02-21T15:18:09.239379Z",
     "shell.execute_reply.started": "2023-02-21T15:18:09.237337Z"
    },
    "tags": []
   },
   "outputs": [],
   "source": [
    "filename = \"/scratch/cslage/starTracker/startracker-wide_2023-02-20.json\""
   ]
  },
  {
   "cell_type": "code",
   "execution_count": null,
   "id": "081fd63b-8c96-41e3-a454-3bafa09cf550",
   "metadata": {
    "execution": {
     "iopub.execute_input": "2023-02-21T15:18:09.991014Z",
     "iopub.status.busy": "2023-02-21T15:18:09.990705Z",
     "iopub.status.idle": "2023-02-21T15:18:10.021511Z",
     "shell.execute_reply": "2023-02-21T15:18:10.021033Z",
     "shell.execute_reply.started": "2023-02-21T15:18:09.990996Z"
    },
    "tags": []
   },
   "outputs": [],
   "source": [
    "df = pd.read_json(filename)"
   ]
  },
  {
   "cell_type": "code",
   "execution_count": null,
   "id": "942d2620-17aa-4c1b-8628-a2b0ef26ed05",
   "metadata": {
    "execution": {
     "iopub.execute_input": "2023-02-21T15:18:18.551556Z",
     "iopub.status.busy": "2023-02-21T15:18:18.551281Z",
     "iopub.status.idle": "2023-02-21T15:18:18.563622Z",
     "shell.execute_reply": "2023-02-21T15:18:18.563266Z",
     "shell.execute_reply.started": "2023-02-21T15:18:18.551540Z"
    },
    "tags": []
   },
   "outputs": [],
   "source": [
    "df.head(2)"
   ]
  },
  {
   "cell_type": "code",
   "execution_count": null,
   "id": "fefce32d-b17e-450c-9c18-5afb56a09323",
   "metadata": {
    "execution": {
     "iopub.execute_input": "2023-02-21T15:18:22.823680Z",
     "iopub.status.busy": "2023-02-21T15:18:22.823398Z",
     "iopub.status.idle": "2023-02-21T15:18:22.826618Z",
     "shell.execute_reply": "2023-02-21T15:18:22.826244Z",
     "shell.execute_reply.started": "2023-02-21T15:18:22.823664Z"
    }
   },
   "outputs": [],
   "source": [
    "df = df.transpose()"
   ]
  },
  {
   "cell_type": "code",
   "execution_count": null,
   "id": "3872952c-17e5-4660-bf25-fcb4f73c7c2a",
   "metadata": {
    "execution": {
     "iopub.execute_input": "2023-02-21T15:18:25.764683Z",
     "iopub.status.busy": "2023-02-21T15:18:25.764412Z",
     "iopub.status.idle": "2023-02-21T15:18:25.768332Z",
     "shell.execute_reply": "2023-02-21T15:18:25.767976Z",
     "shell.execute_reply.started": "2023-02-21T15:18:25.764668Z"
    }
   },
   "outputs": [],
   "source": [
    "df.columns"
   ]
  },
  {
   "cell_type": "code",
   "execution_count": null,
   "id": "0f76d0f4-8ffc-4ea9-94e6-b4fae5015cc5",
   "metadata": {},
   "outputs": [],
   "source": [
    "mount_degradation = df['Mount motion image degradation']"
   ]
  },
  {
   "cell_type": "code",
   "execution_count": null,
   "id": "fedc0615-fcd7-4ffe-bd66-2342055eb5ce",
   "metadata": {},
   "outputs": [],
   "source": [
    "np.count_nonzero(~pd.isna(mount_degradation.values))"
   ]
  },
  {
   "cell_type": "code",
   "execution_count": null,
   "id": "3aaf65a6-a7b6-4356-bf39-6369ccc7dd1f",
   "metadata": {},
   "outputs": [],
   "source": [
    "np.where(mount_degradation.values > 0.4)[0].shape"
   ]
  },
  {
   "cell_type": "code",
   "execution_count": null,
   "id": "6d207184-e1d9-49f3-b744-fbc56bc1a865",
   "metadata": {},
   "outputs": [],
   "source": [
    "plt.hist(mount_degradation.values, range=(0,1.0))\n"
   ]
  },
  {
   "cell_type": "code",
   "execution_count": null,
   "id": "4835f7e0-10be-4240-bff4-163be16767d6",
   "metadata": {
    "execution": {
     "iopub.execute_input": "2023-02-21T15:23:05.121146Z",
     "iopub.status.busy": "2023-02-21T15:23:05.120853Z",
     "iopub.status.idle": "2023-02-21T15:23:05.148240Z",
     "shell.execute_reply": "2023-02-21T15:23:05.147833Z",
     "shell.execute_reply.started": "2023-02-21T15:23:05.121128Z"
    }
   },
   "outputs": [],
   "source": [
    "import pandas as pd\n",
    "import json\n",
    "filename = \"/scratch/cslage/starTracker/startracker-wide_2023-02-20.json\"\n",
    "df = pd.read_json(filename)\n",
    "df = df.transpose()"
   ]
  },
  {
   "cell_type": "code",
   "execution_count": null,
   "id": "fe8e5108-03df-40d8-a8f3-8df653f54fa9",
   "metadata": {},
   "outputs": [],
   "source": []
  }
 ],
 "metadata": {
  "kernelspec": {
   "display_name": "LSST",
   "language": "python",
   "name": "lsst"
  },
  "language_info": {
   "codemirror_mode": {
    "name": "ipython",
    "version": 3
   },
   "file_extension": ".py",
   "mimetype": "text/x-python",
   "name": "python",
   "nbconvert_exporter": "python",
   "pygments_lexer": "ipython3",
   "version": "3.10.9"
  }
 },
 "nbformat": 4,
 "nbformat_minor": 5
}
