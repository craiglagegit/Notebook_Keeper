{
 "cells": [
  {
   "cell_type": "markdown",
   "id": "3dbf3c0c",
   "metadata": {},
   "source": [
    "# DayTime Checkout\n",
    "\n",
    "This notebook is intended to run a series of tests to ensure the system responds as expected.\n",
    "It begins with LATISS, but can also be used with the telescope ATCS components only."
   ]
  },
  {
   "cell_type": "code",
   "execution_count": null,
   "id": "b9b61b70",
   "metadata": {},
   "outputs": [],
   "source": [
    "import asyncio\n",
    "import time\n",
    "import os\n",
    "import numpy as np\n",
    "from astropy.time import Time\n",
    "\n",
    "from lsst.ts import salobj\n",
    "\n",
    "from lsst.ts.observatory.control.auxtel.atcs import ATCS\n",
    "from lsst.ts.observatory.control.auxtel.latiss import LATISS\n",
    "from lsst.ts.observatory.control.utils import RotType"
   ]
  },
  {
   "cell_type": "code",
   "execution_count": null,
   "id": "0755fd07",
   "metadata": {},
   "outputs": [],
   "source": [
    "logger = logging.getLogger(f\"Daytime Checkout {Time.now()} UT\")\n",
    "logger.level = logging.DEBUG"
   ]
  },
  {
   "cell_type": "code",
   "execution_count": null,
   "id": "e80647f9",
   "metadata": {},
   "outputs": [],
   "source": [
    "logger.info(os.environ[\"OSPL_URI\"])\n",
    "logger.info(os.environ[\"LSST_DDS_PARTITION_PREFIX\"])"
   ]
  },
  {
   "cell_type": "markdown",
   "id": "82b5ed46-aa63-43bb-a5f4-e7a41bd551ae",
   "metadata": {},
   "source": [
    "Helper function"
   ]
  },
  {
   "cell_type": "markdown",
   "id": "a9cd22ea",
   "metadata": {},
   "source": [
    "### Instantiate the control classes"
   ]
  },
  {
   "cell_type": "code",
   "execution_count": null,
   "id": "f651e5d9",
   "metadata": {
    "jupyter": {
     "outputs_hidden": true
    },
    "tags": []
   },
   "outputs": [],
   "source": [
    "domain = salobj.Domain()\n",
    "atcs = ATCS(domain)\n",
    "latiss = LATISS(domain)\n",
    "await asyncio.gather(atcs.start_task, latiss.start_task)"
   ]
  },
  {
   "cell_type": "code",
   "execution_count": null,
   "id": "ab6d900c",
   "metadata": {
    "tags": []
   },
   "outputs": [],
   "source": [
    "await latiss.enable()\n",
    "await atcs.enable()"
   ]
  },
  {
   "cell_type": "code",
   "execution_count": null,
   "id": "3571a66f-82ba-4e7d-8ddb-c3f26687580d",
   "metadata": {},
   "outputs": [],
   "source": [
    "await atcs.slew_dome_to(180.0)"
   ]
  },
  {
   "cell_type": "code",
   "execution_count": null,
   "id": "89aa1da4-87a8-4935-8bb6-3bf8d8a714c5",
   "metadata": {
    "jupyter": {
     "outputs_hidden": true
    },
    "tags": []
   },
   "outputs": [],
   "source": [
    "await atcs.open_dome_shutter()"
   ]
  },
  {
   "cell_type": "code",
   "execution_count": null,
   "id": "7761429f",
   "metadata": {},
   "outputs": [],
   "source": [
    "await atcs.disable_dome_following()"
   ]
  },
  {
   "cell_type": "code",
   "execution_count": null,
   "id": "0f056863",
   "metadata": {
    "tags": []
   },
   "outputs": [],
   "source": [
    "start_az=180.0\n",
    "start_el=70.0\n",
    "start_rot=0\n",
    "await atcs.point_azel(az=start_az, el=start_el, rot_tel=start_rot)"
   ]
  },
  {
   "cell_type": "code",
   "execution_count": null,
   "id": "571bb620-8246-4868-b506-c34c98eed423",
   "metadata": {
    "jupyter": {
     "outputs_hidden": true
    },
    "tags": []
   },
   "outputs": [],
   "source": [
    "coord=atcs.radec_from_azel(az=start_az, el=start_el)\n",
    "await atcs.slew_icrs(coord.ra, coord.dec, rot=start_rot, stop_before_slew=False, rot_type=RotType.PhysicalSky)"
   ]
  },
  {
   "cell_type": "code",
   "execution_count": null,
   "id": "3efd1934-6e12-4220-9f02-403795591c04",
   "metadata": {},
   "outputs": [],
   "source": [
    "# Current Gemini wind speed 3.6 m/s from 302 degrees."
   ]
  },
  {
   "cell_type": "markdown",
   "id": "c4b7788e-a038-473b-94a9-d9be8f43597c",
   "metadata": {},
   "source": [
    "### Off"
   ]
  },
  {
   "cell_type": "code",
   "execution_count": null,
   "id": "257f0ff7-378b-4847-b229-94bbe441cb44",
   "metadata": {},
   "outputs": [],
   "source": [
    "await latiss.take_darks(30.0, ndarks=5)"
   ]
  },
  {
   "cell_type": "markdown",
   "id": "5bf23556-352f-49ca-8ad6-516b203a6aad",
   "metadata": {},
   "source": [
    "### 10Hz"
   ]
  },
  {
   "cell_type": "code",
   "execution_count": null,
   "id": "27a62d5d-dfd6-41b1-9ca1-bf4530bfac21",
   "metadata": {},
   "outputs": [],
   "source": [
    "await latiss.take_darks(30.0, ndarks=5)"
   ]
  },
  {
   "cell_type": "markdown",
   "id": "0ba42cf4-8491-4976-9e95-add958cb36fd",
   "metadata": {},
   "source": [
    "### 20 Hz"
   ]
  },
  {
   "cell_type": "code",
   "execution_count": null,
   "id": "a6cf80de-0717-4bfd-b690-bebc1e58ce35",
   "metadata": {},
   "outputs": [],
   "source": [
    "await latiss.take_darks(30.0, ndarks=5)"
   ]
  },
  {
   "cell_type": "markdown",
   "id": "76e890fe-9501-4c82-8ae8-6a4aab31e8ac",
   "metadata": {},
   "source": [
    "### 30 Hz"
   ]
  },
  {
   "cell_type": "code",
   "execution_count": null,
   "id": "3c7b8cb8-9c97-49ee-8d48-8d79d629424b",
   "metadata": {},
   "outputs": [],
   "source": [
    "await latiss.take_darks(30.0, ndarks=5)"
   ]
  },
  {
   "cell_type": "markdown",
   "id": "ec536c4a-bca3-4439-9b5e-59a565e61b9f",
   "metadata": {},
   "source": [
    "### 40 Hz"
   ]
  },
  {
   "cell_type": "code",
   "execution_count": null,
   "id": "738a61bd-6f08-410a-9410-4a7b8eea9228",
   "metadata": {},
   "outputs": [],
   "source": [
    "await latiss.take_darks(30.0, ndarks=5)"
   ]
  },
  {
   "cell_type": "markdown",
   "id": "cfe39ec7-af21-4222-ab9f-9875d612390c",
   "metadata": {},
   "source": [
    "### 50 Hz"
   ]
  },
  {
   "cell_type": "code",
   "execution_count": null,
   "id": "1600f4f8-4c6e-4b65-9ddd-62dba0e60f73",
   "metadata": {},
   "outputs": [],
   "source": [
    "await latiss.take_darks(30.0, ndarks=5)"
   ]
  },
  {
   "cell_type": "code",
   "execution_count": null,
   "id": "40a04f77-f283-454a-9028-88e58ed6d57d",
   "metadata": {},
   "outputs": [],
   "source": [
    "await atcs.close_dome()"
   ]
  },
  {
   "cell_type": "code",
   "execution_count": null,
   "id": "67c2b394-90ba-403b-872c-bc9bdd1aac5d",
   "metadata": {},
   "outputs": [],
   "source": [
    "# Stop tracking\n",
    "await atcs.stop_tracking()"
   ]
  },
  {
   "cell_type": "code",
   "execution_count": null,
   "id": "a3cc9be0-5e10-4d21-8345-362de201611a",
   "metadata": {
    "jupyter": {
     "outputs_hidden": true
    },
    "tags": []
   },
   "outputs": [],
   "source": [
    "start_az=0.0\n",
    "start_el=80.0\n",
    "start_rot=0\n",
    "await atcs.point_azel(az=start_az, el=start_el, rot_tel=start_rot)"
   ]
  },
  {
   "cell_type": "markdown",
   "id": "a435880e",
   "metadata": {},
   "source": [
    "## Shutdown all ATCS components"
   ]
  },
  {
   "cell_type": "code",
   "execution_count": null,
   "id": "723d22b0",
   "metadata": {
    "tags": []
   },
   "outputs": [],
   "source": [
    "await atcs.shutdown()"
   ]
  },
  {
   "cell_type": "markdown",
   "id": "621b5407",
   "metadata": {},
   "source": [
    "## Put LATISS in standby"
   ]
  },
  {
   "cell_type": "code",
   "execution_count": null,
   "id": "80517626",
   "metadata": {
    "tags": []
   },
   "outputs": [],
   "source": [
    "await latiss.standby()"
   ]
  },
  {
   "cell_type": "code",
   "execution_count": null,
   "id": "8874ad2a-6a86-43bd-9075-efeb57d721b0",
   "metadata": {},
   "outputs": [],
   "source": []
  },
  {
   "cell_type": "code",
   "execution_count": null,
   "id": "18744805-4cec-4452-8e99-925e32edec32",
   "metadata": {},
   "outputs": [],
   "source": []
  }
 ],
 "metadata": {
  "kernelspec": {
   "display_name": "LSST",
   "language": "python",
   "name": "lsst"
  },
  "language_info": {
   "codemirror_mode": {
    "name": "ipython",
    "version": 3
   },
   "file_extension": ".py",
   "mimetype": "text/x-python",
   "name": "python",
   "nbconvert_exporter": "python",
   "pygments_lexer": "ipython3",
   "version": "3.10.5"
  }
 },
 "nbformat": 4,
 "nbformat_minor": 5
}
