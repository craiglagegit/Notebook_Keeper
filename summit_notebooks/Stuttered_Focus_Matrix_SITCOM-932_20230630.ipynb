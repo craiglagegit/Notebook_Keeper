{
 "cells": [
  {
   "cell_type": "markdown",
   "metadata": {},
   "source": [
    "# Generate a focus matrix with a single stuttered image\n",
    "This notebook will take a stuttered image with sub images \\\n",
    "at varied focus positions. \\\n",
    "See SITCOM-932 \\\n",
    "Craig Lage - 30Jun23"
   ]
  },
  {
   "cell_type": "code",
   "execution_count": null,
   "metadata": {
    "execution": {
     "iopub.execute_input": "2023-07-19T01:35:42.020959Z",
     "iopub.status.busy": "2023-07-19T01:35:42.020678Z",
     "iopub.status.idle": "2023-07-19T01:35:45.882080Z",
     "shell.execute_reply": "2023-07-19T01:35:45.881564Z",
     "shell.execute_reply.started": "2023-07-19T01:35:42.020942Z"
    },
    "tags": []
   },
   "outputs": [],
   "source": [
    "import sys, asyncio, time, os\n",
    "import numpy as np\n",
    "from astropy.time import Time, TimeDelta\n",
    "from astropy import units as u\n",
    "\n",
    "from lsst.ts import salobj\n",
    "\n",
    "from lsst.ts.observatory.control.auxtel.atcs import ATCS\n",
    "from lsst.ts.observatory.control.auxtel.latiss import LATISS\n",
    "from lsst.ts.observatory.control.utils import RotType"
   ]
  },
  {
   "cell_type": "code",
   "execution_count": null,
   "metadata": {
    "execution": {
     "iopub.execute_input": "2023-07-19T01:35:47.648552Z",
     "iopub.status.busy": "2023-07-19T01:35:47.648281Z",
     "iopub.status.idle": "2023-07-19T01:35:47.651365Z",
     "shell.execute_reply": "2023-07-19T01:35:47.650921Z",
     "shell.execute_reply.started": "2023-07-19T01:35:47.648534Z"
    },
    "tags": []
   },
   "outputs": [],
   "source": [
    "stream_handler = logging.StreamHandler(sys.stdout)\n",
    "# if you want logging\n",
    "logger = logging.getLogger()\n",
    "logger.addHandler(stream_handler)\n",
    "logger.level = logging.DEBUG"
   ]
  },
  {
   "cell_type": "markdown",
   "metadata": {},
   "source": [
    "### Instantiate the control classes"
   ]
  },
  {
   "cell_type": "code",
   "execution_count": null,
   "metadata": {
    "execution": {
     "iopub.execute_input": "2023-07-19T01:35:52.225321Z",
     "iopub.status.busy": "2023-07-19T01:35:52.225050Z",
     "iopub.status.idle": "2023-07-19T01:35:53.971601Z",
     "shell.execute_reply": "2023-07-19T01:35:53.968076Z",
     "shell.execute_reply.started": "2023-07-19T01:35:52.225304Z"
    },
    "jupyter": {
     "outputs_hidden": true
    },
    "tags": []
   },
   "outputs": [],
   "source": [
    "domain = salobj.Domain()\n",
    "atcs = ATCS(domain)\n",
    "latiss = LATISS(domain)\n",
    "await asyncio.gather(atcs.start_task, latiss.start_task)"
   ]
  },
  {
   "cell_type": "markdown",
   "metadata": {},
   "source": [
    "## Assumes ATCS and LATISS are enabled and the telescope has run prepare_for_on_sky."
   ]
  },
  {
   "cell_type": "markdown",
   "metadata": {},
   "source": [
    "# Find a bright target\n",
    "\n",
    "I think m=8.0 is about right, but this may take some testing."
   ]
  },
  {
   "cell_type": "code",
   "execution_count": null,
   "metadata": {
    "execution": {
     "iopub.execute_input": "2023-07-19T01:49:19.905220Z",
     "iopub.status.busy": "2023-07-19T01:49:19.904795Z",
     "iopub.status.idle": "2023-07-19T01:49:22.971264Z",
     "shell.execute_reply": "2023-07-19T01:49:22.970523Z",
     "shell.execute_reply.started": "2023-07-19T01:49:19.905201Z"
    },
    "tags": []
   },
   "outputs": [],
   "source": [
    "target_name = await atcs.find_target(az=90.0,el=70,mag_limit=8.0)\n",
    "print(target_name)"
   ]
  },
  {
   "cell_type": "markdown",
   "metadata": {},
   "source": [
    "# Now slew to the object\n",
    "### This will also set the correct rotator angle."
   ]
  },
  {
   "cell_type": "code",
   "execution_count": null,
   "metadata": {
    "execution": {
     "iopub.execute_input": "2023-07-19T01:49:30.225156Z",
     "iopub.status.busy": "2023-07-19T01:49:30.224782Z",
     "iopub.status.idle": "2023-07-19T01:49:53.362520Z",
     "shell.execute_reply": "2023-07-19T01:49:53.362003Z",
     "shell.execute_reply.started": "2023-07-19T01:49:30.225138Z"
    },
    "jupyter": {
     "outputs_hidden": true
    },
    "tags": []
   },
   "outputs": [],
   "source": [
    "await atcs.slew_object(target_name, rot=0.0, rot_type=RotType.PhysicalSky)"
   ]
  },
  {
   "cell_type": "markdown",
   "metadata": {
    "tags": []
   },
   "source": [
    "# Now take an image.\n",
    "### Verify that the star is centered in the field.  If not, center as needed."
   ]
  },
  {
   "cell_type": "code",
   "execution_count": null,
   "metadata": {
    "execution": {
     "iopub.execute_input": "2023-07-19T01:50:08.792347Z",
     "iopub.status.busy": "2023-07-19T01:50:08.791760Z",
     "iopub.status.idle": "2023-07-19T01:50:13.891290Z",
     "shell.execute_reply": "2023-07-19T01:50:13.890714Z",
     "shell.execute_reply.started": "2023-07-19T01:50:08.792326Z"
    },
    "tags": []
   },
   "outputs": [],
   "source": [
    "await latiss.take_object(exptime=2.0, n=1, filter='SDSSr_65mm' ,grating='empty_1', reason='SITCOM-932')"
   ]
  },
  {
   "cell_type": "markdown",
   "metadata": {},
   "source": [
    "# Now we have to offset the star to center it in the first stripe.\n",
    "It will require moving the image slightly to get it positioned. \\\n",
    "Ideally, it should be 50 pixels (5.0 arcseconds) above the midline. \\\n",
    "The step below should do this if it is perfectly centered to begin with. \\\n",
    "Then take a new image to verify \\\n",
    "This may take a few iterations to get it in the right place.\n"
   ]
  },
  {
   "cell_type": "code",
   "execution_count": null,
   "metadata": {
    "execution": {
     "iopub.execute_input": "2023-07-19T01:52:15.190254Z",
     "iopub.status.busy": "2023-07-19T01:52:15.189878Z",
     "iopub.status.idle": "2023-07-19T01:52:30.035405Z",
     "shell.execute_reply": "2023-07-19T01:52:30.034884Z",
     "shell.execute_reply.started": "2023-07-19T01:52:15.190236Z"
    },
    "jupyter": {
     "outputs_hidden": true
    },
    "tags": []
   },
   "outputs": [],
   "source": [
    "await atcs.offset_xy(y=33.0, x=0)\n",
    "await latiss.take_object(exptime=2., n=1, filter='SDSSr_65mm',grating='empty_1', reason='SITCOM-932')"
   ]
  },
  {
   "cell_type": "code",
   "execution_count": null,
   "metadata": {
    "execution": {
     "iopub.execute_input": "2023-07-19T02:40:04.659820Z",
     "iopub.status.busy": "2023-07-19T02:40:04.659171Z",
     "iopub.status.idle": "2023-07-19T02:40:09.672654Z",
     "shell.execute_reply": "2023-07-19T02:40:09.672101Z",
     "shell.execute_reply.started": "2023-07-19T02:40:04.659798Z"
    },
    "tags": []
   },
   "outputs": [],
   "source": [
    "await latiss.take_object(exptime=2., n=1, filter='SDSSr_65mm',grating='empty_1', reason='SITCOM-932')"
   ]
  },
  {
   "cell_type": "markdown",
   "metadata": {
    "tags": []
   },
   "source": [
    "# Now try taking the stuttered focus matrix.\n",
    "As currently configured, there will be 20 100 pixel strips. \\\n",
    "The even numbered strips will be the ones to be used for building the focus parabola. \\\n",
    "There will be 9 of these running from z_offset_start to z_offset_end. \\\n",
    "The odd numbered strips are where the focus is being shifted and should not be used for building the focus parabola."
   ]
  },
  {
   "cell_type": "code",
   "execution_count": null,
   "metadata": {
    "execution": {
     "iopub.execute_input": "2023-07-19T02:15:04.582179Z",
     "iopub.status.busy": "2023-07-19T02:15:04.581602Z",
     "iopub.status.idle": "2023-07-19T02:15:59.161870Z",
     "shell.execute_reply": "2023-07-19T02:15:59.161321Z",
     "shell.execute_reply.started": "2023-07-19T02:15:04.582160Z"
    },
    "jupyter": {
     "outputs_hidden": true
    },
    "tags": []
   },
   "outputs": [],
   "source": [
    "z_offset_start = -0.1 # mm\n",
    "z_offset_step = 0.025 # mm\n",
    "z_offset_end = -z_offset_start\n",
    "n_focus_shifts = int(abs(z_offset_start / z_offset_step)) * 2 + 1\n",
    "# Shift the focus in the negative direction\n",
    "await atcs.rem.ataos.cmd_offset.set_start(z=z_offset_start)\n",
    "total_focus = z_offset_start\n",
    "await asyncio.sleep(2)\n",
    "\n",
    "exptime = 2.0\n",
    "expcount = 20\n",
    "rowshift = 100\n",
    "buffer = 30.0 # Time buffer for timeout\n",
    "timeout = exptime * expcount + buffer\n",
    "\n",
    "await latiss.rem.atcamera.cmd_enableCalibration.set_start()\n",
    "keyValueMap = f\"groupId: {Time.now().isot},imageType: ENGTEST\"\n",
    "print(keyValueMap)\n",
    "latiss.rem.atcamera.cmd_startImage.set(shutter=True, keyValueMap=keyValueMap, timeout=timeout)\n",
    "await latiss.rem.atcamera.cmd_startImage.start()\n",
    "n_shifts = 0\n",
    "for i in range(expcount - 1):\n",
    "    if ((i + 1) % 2 == 0) and (n_shifts < n_focus_shifts - 1):\n",
    "        print(f\"Shifting focus by {z_offset_step}\")\n",
    "        total_focus += z_offset_step\n",
    "        await atcs.rem.ataos.cmd_offset.set_start(z=z_offset_step)\n",
    "        n_shifts += 1\n",
    "    print(f\"Exposing {exptime} seconds. Focus = {total_focus:.3f}\")\n",
    "    await asyncio.sleep(exptime)\n",
    "    latiss.rem.atcamera.cmd_discardRows.set(nRows=rowshift)\n",
    "    print(f\"Shifting {rowshift} rows.\")\n",
    "    await latiss.rem.atcamera.cmd_discardRows.start()\n",
    "await asyncio.sleep(exptime)\n",
    "await latiss.rem.atcamera.cmd_endImage.start()\n",
    "await latiss.rem.atcamera.cmd_disableCalibration.start()\n",
    "# Move back to the original focus offset position\n",
    "await atcs.rem.ataos.cmd_offset.set_start(z= -z_offset_end)\n"
   ]
  },
  {
   "cell_type": "code",
   "execution_count": null,
   "metadata": {
    "execution": {
     "iopub.execute_input": "2023-07-19T02:41:02.400268Z",
     "iopub.status.busy": "2023-07-19T02:41:02.399893Z",
     "iopub.status.idle": "2023-07-19T02:41:07.046742Z",
     "shell.execute_reply": "2023-07-19T02:41:07.046064Z",
     "shell.execute_reply.started": "2023-07-19T02:41:02.400249Z"
    },
    "tags": []
   },
   "outputs": [],
   "source": [
    "z_offset_start = -0.2 # mm\n",
    "z_offset_step = 0.05 # mm\n",
    "z_offset_end = -z_offset_start\n",
    "n_focus_shifts = int(abs(z_offset_start / z_offset_step)) * 2 + 1\n",
    "# Shift the focus in the negative direction\n",
    "await atcs.rem.ataos.cmd_offset.set_start(z=z_offset_start)\n",
    "total_focus = z_offset_start\n",
    "await asyncio.sleep(2)\n",
    "\n",
    "exptime = 2.0\n",
    "expcount = 20\n",
    "rowshift = 100\n",
    "buffer = 30.0 # Time buffer for timeout\n",
    "timeout = exptime * expcount + buffer\n",
    "\n",
    "await latiss.rem.atcamera.cmd_enableCalibration.set_start()\n",
    "keyValueMap = f\"groupId: {Time.now().isot},imageType: ENGTEST\"\n",
    "print(keyValueMap)\n",
    "latiss.rem.atcamera.cmd_startImage.set(shutter=True, keyValueMap=keyValueMap, timeout=timeout)\n",
    "await latiss.rem.atcamera.cmd_startImage.start()\n",
    "n_shifts = 0\n",
    "for i in range(expcount - 1):\n",
    "    if ((i + 1) % 2 == 0) and (n_shifts < n_focus_shifts - 1):\n",
    "        print(f\"Shifting focus by {z_offset_step}\")\n",
    "        total_focus += z_offset_step\n",
    "        await atcs.rem.ataos.cmd_offset.set_start(z=z_offset_step)\n",
    "        n_shifts += 1\n",
    "    print(f\"Exposing {exptime} seconds. Focus = {total_focus:.3f}\")\n",
    "    await asyncio.sleep(exptime)\n",
    "    latiss.rem.atcamera.cmd_discardRows.set(nRows=rowshift)\n",
    "    print(f\"Shifting {rowshift} rows.\")\n",
    "    await latiss.rem.atcamera.cmd_discardRows.start()\n",
    "await asyncio.sleep(exptime)\n",
    "await latiss.rem.atcamera.cmd_endImage.start()\n",
    "await latiss.rem.atcamera.cmd_disableCalibration.start()\n",
    "# Move back to the original focus offset position\n",
    "await atcs.rem.ataos.cmd_offset.set_start(z= -z_offset_end)\n"
   ]
  },
  {
   "cell_type": "code",
   "execution_count": null,
   "metadata": {},
   "outputs": [],
   "source": []
  }
 ],
 "metadata": {
  "kernelspec": {
   "display_name": "LSST",
   "language": "python",
   "name": "lsst"
  },
  "language_info": {
   "codemirror_mode": {
    "name": "ipython",
    "version": 3
   },
   "file_extension": ".py",
   "mimetype": "text/x-python",
   "name": "python",
   "nbconvert_exporter": "python",
   "pygments_lexer": "ipython3",
   "version": "3.10.11"
  }
 },
 "nbformat": 4,
 "nbformat_minor": 4
}
