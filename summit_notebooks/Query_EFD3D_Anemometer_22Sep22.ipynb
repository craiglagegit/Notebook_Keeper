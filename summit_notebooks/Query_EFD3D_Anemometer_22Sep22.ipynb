{
 "cells": [
  {
   "cell_type": "code",
   "execution_count": null,
   "metadata": {},
   "outputs": [],
   "source": [
    "import sys, time, os, asyncio, glob\n",
    "\n",
    "from datetime import datetime\n",
    "import numpy as np\n",
    "import matplotlib.pyplot as plt\n",
    "from matplotlib.colors import LogNorm\n",
    "%matplotlib widget\n",
    "import pickle as pkl\n",
    "import pandas as pd\n",
    "import astropy.io.fits as pf\n",
    "from astropy.time import Time, TimeDelta\n",
    "\n",
    "from lsst_efd_client import EfdClient"
   ]
  },
  {
   "cell_type": "code",
   "execution_count": null,
   "metadata": {},
   "outputs": [],
   "source": [
    "client = EfdClient('summit_efd')"
   ]
  },
  {
   "cell_type": "code",
   "execution_count": null,
   "metadata": {},
   "outputs": [],
   "source": [
    "# Times to start looking at data\n",
    "start = Time(\"2022-09-29 18:00:00Z\", scale='utc')\n",
    "end = Time(\"2022-09-30 10:40:00Z\", scale='utc')"
   ]
  },
  {
   "cell_type": "code",
   "execution_count": null,
   "metadata": {},
   "outputs": [],
   "source": [
    "ux = await client.select_time_series('lsst.sal.ESS.airTurbulence', \\\n",
    "                                                ['ux'],  start, end)\n",
    "uy = await client.select_time_series('lsst.sal.ESS.airTurbulence', \\\n",
    "                                                ['uy'],  start, end)\n",
    "uz = await client.select_time_series('lsst.sal.ESS.airTurbulence', \\\n",
    "                                                ['uz'],  start, end)"
   ]
  },
  {
   "cell_type": "code",
   "execution_count": null,
   "metadata": {},
   "outputs": [],
   "source": [
    "len(ux)"
   ]
  },
  {
   "cell_type": "code",
   "execution_count": null,
   "metadata": {},
   "outputs": [],
   "source": [
    "print(ux.head(1), ux.tail(1))"
   ]
  },
  {
   "cell_type": "code",
   "execution_count": null,
   "metadata": {},
   "outputs": [],
   "source": [
    "windSpeed = await client.select_time_series('lsst.sal.WeatherStation.windSpeed', \\\n",
    "                                                ['*'],  start, end)"
   ]
  },
  {
   "cell_type": "code",
   "execution_count": null,
   "metadata": {},
   "outputs": [],
   "source": [
    "# Weather tower still down!\n",
    "len(windSpeed)"
   ]
  },
  {
   "cell_type": "code",
   "execution_count": null,
   "metadata": {},
   "outputs": [],
   "source": [
    "# Smooth the data with a rolling average\n",
    "rolling = 1000 \n",
    "ux_roll = ux.rolling(rolling).sum() / rolling\n",
    "uy_roll = uy.rolling(rolling).sum() / rolling\n",
    "uz_roll = uz.rolling(rolling).sum() / rolling"
   ]
  },
  {
   "cell_type": "code",
   "execution_count": null,
   "metadata": {},
   "outputs": [],
   "source": [
    "plt.figure(figsize=(8,4))\n",
    "plt.subplots_adjust(wspace=0.5)\n",
    "plt.suptitle(\"AuxTel Anemometer Summary - 20220929\")\n",
    "plt.subplot(1,3,1)\n",
    "plt.title(\"UX\")\n",
    "ux_roll['ux'].plot()\n",
    "plt.ylim(-0.5,0.5)\n",
    "plt.subplot(1,3,2)\n",
    "plt.title(\"UY\")\n",
    "uy_roll['uy'].plot()\n",
    "plt.ylim(-0.5,0.5)\n",
    "plt.subplot(1,3,3)\n",
    "plt.title(\"UZ\")\n",
    "uz_roll['uz'].plot()\n",
    "plt.ylim(-0.5,0.5)\n"
   ]
  },
  {
   "cell_type": "code",
   "execution_count": null,
   "metadata": {},
   "outputs": [],
   "source": [
    "plt.savefig(\"/home/craiglagegit/DATA/Anemometer_3D_29Sep22.pdf\")"
   ]
  },
  {
   "cell_type": "code",
   "execution_count": null,
   "metadata": {},
   "outputs": [],
   "source": []
  }
 ],
 "metadata": {
  "kernelspec": {
   "display_name": "LSST",
   "language": "python",
   "name": "lsst"
  },
  "language_info": {
   "codemirror_mode": {
    "name": "ipython",
    "version": 3
   },
   "file_extension": ".py",
   "mimetype": "text/x-python",
   "name": "python",
   "nbconvert_exporter": "python",
   "pygments_lexer": "ipython3",
   "version": "3.10.6"
  }
 },
 "nbformat": 4,
 "nbformat_minor": 4
}
