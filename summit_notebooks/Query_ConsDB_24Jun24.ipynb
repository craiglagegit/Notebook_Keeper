{
 "cells": [
  {
   "cell_type": "markdown",
   "metadata": {},
   "source": [
    "## Query consDB\n",
    "\n",
    "Craig Lage - 24-Jun-24"
   ]
  },
  {
   "cell_type": "code",
   "execution_count": null,
   "metadata": {
    "execution": {
     "iopub.execute_input": "2024-06-24T15:18:47.105857Z",
     "iopub.status.busy": "2024-06-24T15:18:47.105120Z",
     "iopub.status.idle": "2024-06-24T15:19:04.468191Z",
     "shell.execute_reply": "2024-06-24T15:19:04.467461Z",
     "shell.execute_reply.started": "2024-06-24T15:18:47.105822Z"
    },
    "tags": []
   },
   "outputs": [],
   "source": [
    "import numpy as np\n",
    "import matplotlib.pyplot as plt\n",
    "\n",
    "from lsst.summit.utils import ConsDbClient"
   ]
  },
  {
   "cell_type": "code",
   "execution_count": null,
   "metadata": {
    "execution": {
     "iopub.execute_input": "2024-06-24T15:19:08.235108Z",
     "iopub.status.busy": "2024-06-24T15:19:08.234738Z",
     "iopub.status.idle": "2024-06-24T15:19:08.265157Z",
     "shell.execute_reply": "2024-06-24T15:19:08.264243Z",
     "shell.execute_reply.started": "2024-06-24T15:19:08.235080Z"
    }
   },
   "outputs": [],
   "source": [
    "client = ConsDbClient('http://consdb-pq.consdb:8080/consdb')\n",
    "print(client.schema())  # list the instruments\n",
    "print(client.schema('lsstcomcamsim'))  # list tables for an instrument\n",
    "print(client.schema('lsstcomcamsim', 'cdb_lsstcomcamsim.exposure'))\n"
   ]
  },
  {
   "cell_type": "code",
   "execution_count": null,
   "metadata": {},
   "outputs": [],
   "source": []
  }
 ],
 "metadata": {
  "kernelspec": {
   "display_name": "LSST",
   "language": "python",
   "name": "lsst"
  },
  "language_info": {
   "codemirror_mode": {
    "name": "ipython",
    "version": 3
   },
   "file_extension": ".py",
   "mimetype": "text/x-python",
   "name": "python",
   "nbconvert_exporter": "python",
   "pygments_lexer": "ipython3",
   "version": "3.11.9"
  }
 },
 "nbformat": 4,
 "nbformat_minor": 4
}
