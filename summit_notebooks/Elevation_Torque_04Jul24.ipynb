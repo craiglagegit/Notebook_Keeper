{
 "cells": [
  {
   "cell_type": "markdown",
   "metadata": {},
   "source": [
    "## Testing Elevation Drive\n",
    "\n",
    "Craig Lage - 04-Jul-24\n"
   ]
  },
  {
   "cell_type": "code",
   "execution_count": null,
   "metadata": {
    "execution": {
     "iopub.execute_input": "2024-07-05T14:56:39.878193Z",
     "iopub.status.busy": "2024-07-05T14:56:39.876996Z",
     "iopub.status.idle": "2024-07-05T14:56:46.680943Z",
     "shell.execute_reply": "2024-07-05T14:56:46.680215Z",
     "shell.execute_reply.started": "2024-07-05T14:56:39.878159Z"
    }
   },
   "outputs": [],
   "source": [
    "import sys, time, os, asyncio\n",
    "\n",
    "import numpy as np\n",
    "import matplotlib.pyplot as plt\n",
    "import pandas as pd\n",
    "\n",
    "import logging\n",
    "\n",
    "from lsst.ts import salobj\n",
    "\n",
    "from lsst.ts.observatory.control.auxtel.atcs import ATCS\n",
    "from lsst.ts.observatory.control.auxtel.latiss import LATISS\n",
    "from lsst.ts.observatory.control.utils import RotType\n",
    "\n",
    "from lsst.ts.observing.utilities.decorated_logger import DecoratedLogger\n",
    "\n",
    "from astropy.time import Time, TimeDelta\n",
    "from lsst_efd_client import EfdClient"
   ]
  },
  {
   "cell_type": "code",
   "execution_count": null,
   "metadata": {
    "execution": {
     "iopub.execute_input": "2024-07-04T20:38:35.890000Z",
     "iopub.status.busy": "2024-07-04T20:38:35.889857Z",
     "iopub.status.idle": "2024-07-04T20:38:35.893729Z",
     "shell.execute_reply": "2024-07-04T20:38:35.892844Z",
     "shell.execute_reply.started": "2024-07-04T20:38:35.889987Z"
    }
   },
   "outputs": [],
   "source": [
    "logger = DecoratedLogger.get_decorated_logger()\n",
    "logger.level = logging.DEBUG"
   ]
  },
  {
   "cell_type": "code",
   "execution_count": null,
   "metadata": {
    "execution": {
     "iopub.execute_input": "2024-07-04T20:38:35.895222Z",
     "iopub.status.busy": "2024-07-04T20:38:35.895038Z",
     "iopub.status.idle": "2024-07-04T20:38:35.901745Z",
     "shell.execute_reply": "2024-07-04T20:38:35.901025Z",
     "shell.execute_reply.started": "2024-07-04T20:38:35.895205Z"
    }
   },
   "outputs": [],
   "source": [
    "logger.info(os.environ[\"OSPL_URI\"])\n",
    "logger.info(os.environ[\"LSST_DDS_PARTITION_PREFIX\"])"
   ]
  },
  {
   "cell_type": "markdown",
   "metadata": {},
   "source": [
    "### Instantiate the control classes"
   ]
  },
  {
   "cell_type": "code",
   "execution_count": null,
   "metadata": {
    "execution": {
     "iopub.execute_input": "2024-07-04T20:38:52.698391Z",
     "iopub.status.busy": "2024-07-04T20:38:52.697976Z",
     "iopub.status.idle": "2024-07-04T20:38:53.710377Z",
     "shell.execute_reply": "2024-07-04T20:38:53.709897Z",
     "shell.execute_reply.started": "2024-07-04T20:38:52.698361Z"
    },
    "jupyter": {
     "outputs_hidden": true
    },
    "tags": []
   },
   "outputs": [],
   "source": [
    "domain = salobj.Domain()\n",
    "atcs = ATCS(domain)\n",
    "#latiss = LATISS(domain)\n",
    "await asyncio.gather(atcs.start_task)#, latiss.start_task)"
   ]
  },
  {
   "cell_type": "code",
   "execution_count": null,
   "metadata": {
    "jupyter": {
     "outputs_hidden": true
    },
    "tags": []
   },
   "outputs": [],
   "source": [
    "await atcs.enable()"
   ]
  },
  {
   "cell_type": "code",
   "execution_count": null,
   "metadata": {
    "jupyter": {
     "outputs_hidden": true
    },
    "tags": []
   },
   "outputs": [],
   "source": [
    "current_az = 0.0\n",
    "current_el = 80.0\n",
    "current_rot = 0.0\n",
    "await atcs.point_azel(current_az, current_el, rot_tel=current_rot)"
   ]
  },
  {
   "cell_type": "code",
   "execution_count": null,
   "metadata": {
    "jupyter": {
     "outputs_hidden": true
    },
    "tags": []
   },
   "outputs": [],
   "source": [
    "current_az = 180.0\n",
    "current_el = 80.0\n",
    "current_rot = -160.0\n",
    "await atcs.point_azel(current_az, current_el, rot_tel=current_rot)"
   ]
  },
  {
   "cell_type": "code",
   "execution_count": null,
   "metadata": {
    "jupyter": {
     "outputs_hidden": true
    },
    "tags": []
   },
   "outputs": [],
   "source": [
    "current_az = 180.0\n",
    "current_el = 80.0\n",
    "current_rot = 160.0\n",
    "await atcs.point_azel(current_az, current_el, rot_tel=current_rot)"
   ]
  },
  {
   "cell_type": "code",
   "execution_count": null,
   "metadata": {
    "jupyter": {
     "outputs_hidden": true
    },
    "tags": []
   },
   "outputs": [],
   "source": [
    "current_az = 180.0\n",
    "current_el = 80.0\n",
    "current_rot = -160.0\n",
    "await atcs.point_azel(current_az, current_el, rot_tel=current_rot)"
   ]
  },
  {
   "cell_type": "code",
   "execution_count": null,
   "metadata": {
    "jupyter": {
     "outputs_hidden": true
    },
    "tags": []
   },
   "outputs": [],
   "source": [
    "current_az = 180.0\n",
    "current_el = 80.0\n",
    "current_rot = 0.0\n",
    "await atcs.point_azel(current_az, current_el, rot_tel=current_rot)"
   ]
  },
  {
   "cell_type": "code",
   "execution_count": null,
   "metadata": {
    "jupyter": {
     "outputs_hidden": true
    },
    "tags": []
   },
   "outputs": [],
   "source": [
    "current_az = 180.0\n",
    "current_el = 80.0\n",
    "current_rot = 80.0\n",
    "await atcs.point_azel(current_az, current_el, rot_tel=current_rot)"
   ]
  },
  {
   "cell_type": "markdown",
   "metadata": {},
   "source": [
    "Now we'll analyze the data.\n",
    "\n",
    "We'll access the EFD instance deployed at the Summit."
   ]
  },
  {
   "cell_type": "code",
   "execution_count": null,
   "metadata": {
    "execution": {
     "iopub.execute_input": "2024-07-05T14:56:54.296580Z",
     "iopub.status.busy": "2024-07-05T14:56:54.296189Z",
     "iopub.status.idle": "2024-07-05T14:56:55.572393Z",
     "shell.execute_reply": "2024-07-05T14:56:55.571347Z",
     "shell.execute_reply.started": "2024-07-05T14:56:54.296552Z"
    },
    "tags": []
   },
   "outputs": [],
   "source": [
    "client = EfdClient('summit_efd')"
   ]
  },
  {
   "cell_type": "code",
   "execution_count": null,
   "metadata": {
    "execution": {
     "iopub.execute_input": "2024-07-05T14:57:31.961221Z",
     "iopub.status.busy": "2024-07-05T14:57:31.960815Z",
     "iopub.status.idle": "2024-07-05T14:57:33.948223Z",
     "shell.execute_reply": "2024-07-05T14:57:33.947410Z",
     "shell.execute_reply.started": "2024-07-05T14:57:31.961189Z"
    },
    "tags": []
   },
   "outputs": [],
   "source": [
    "#t_end = Time(time.time(),format='unix', scale='utc')\n",
    "t_end = Time(\"2024-07-04T21:05:00\", scale='utc')   # timestamp at end of desired data \n",
    "nsec = 0.6*3600 # how many seconds of data to retrieve\n",
    "torque = await client.select_packed_time_series(\"lsst.sal.ATMCS.measuredTorque\", 'elevationMotorTorque',\n",
    "                                              t_end - TimeDelta(nsec, format='sec'), t_end)\n",
    "angle = await client.select_packed_time_series(\"lsst.sal.ATMCS.mount_AzEl_Encoders\", 'elevationCalculatedAngle',\n",
    "                                              t_end - TimeDelta(nsec, format='sec'), t_end)\n",
    "\n",
    "vel = await client.select_packed_time_series(\"lsst.sal.ATMCS.measuredMotorVelocity\", 'elevationMotorVelocity',\n",
    "                                              t_end - TimeDelta(nsec, format='sec'), t_end)\n",
    "\n",
    "err = await client.select_time_series(\"lsst.sal.ATMCS.logevent_errorCode\", 'errorCode',\n",
    "                                              t_end - TimeDelta(nsec, format='sec'), t_end)\n"
   ]
  },
  {
   "cell_type": "code",
   "execution_count": null,
   "metadata": {
    "execution": {
     "iopub.execute_input": "2024-07-05T14:57:38.375164Z",
     "iopub.status.busy": "2024-07-05T14:57:38.374172Z",
     "iopub.status.idle": "2024-07-05T14:57:38.380198Z",
     "shell.execute_reply": "2024-07-05T14:57:38.379522Z",
     "shell.execute_reply.started": "2024-07-05T14:57:38.375127Z"
    }
   },
   "outputs": [],
   "source": [
    "print(len(torque), len(angle), len(vel), len(err))"
   ]
  },
  {
   "cell_type": "code",
   "execution_count": null,
   "metadata": {
    "execution": {
     "iopub.execute_input": "2024-07-05T14:57:46.924731Z",
     "iopub.status.busy": "2024-07-05T14:57:46.924431Z",
     "iopub.status.idle": "2024-07-05T14:57:48.064387Z",
     "shell.execute_reply": "2024-07-05T14:57:48.063437Z",
     "shell.execute_reply.started": "2024-07-05T14:57:46.924711Z"
    },
    "tags": []
   },
   "outputs": [],
   "source": [
    "%matplotlib inline\n",
    "ax1 = torque['elevationMotorTorque'].plot(figsize=(16,8), title='Elevation motor torque', legend=True)\n",
    "#ax1 = vel['elevationMotorVelocity'].plot(figsize=(16,8), title='Elevation motor torque', legend=True)\n",
    "ax1.axhline(3.0, color=\"blue\", linestyle=\"--\")\n",
    "ax1.axhline(-3.0, color=\"blue\", linestyle=\"--\")\n",
    "plt.ylim(-3.5,3.5)\n",
    "angle['elevationCalculatedAngle'].plot(legend=True, secondary_y=True)\n",
    "#plt.savefig(\"/home/cslage/DATA/Elevation_Torque_04Jul24.png\")\n"
   ]
  },
  {
   "cell_type": "code",
   "execution_count": null,
   "metadata": {
    "execution": {
     "iopub.execute_input": "2024-07-05T14:58:00.873176Z",
     "iopub.status.busy": "2024-07-05T14:58:00.872790Z",
     "iopub.status.idle": "2024-07-05T14:58:04.463250Z",
     "shell.execute_reply": "2024-07-05T14:58:04.462518Z",
     "shell.execute_reply.started": "2024-07-05T14:58:00.873147Z"
    },
    "tags": []
   },
   "outputs": [],
   "source": [
    "%matplotlib inline\n",
    "ax1 = vel['elevationMotorVelocity'].plot(figsize=(16,8), title='Elevation motor velocity', legend=True)\n",
    "for t in err.index:\n",
    "    for t2 in angle.index:\n",
    "        if t2.to_julian_date() > t.to_julian_date():\n",
    "            break\n",
    "    index = angle.index.searchsorted(t2)\n",
    "    fail = angle.iloc[index]['elevationCalculatedAngle']\n",
    "    ax1.axvline(t, color=\"red\", linestyle=\"--\")\n",
    "    ax1.text(t, -3.0, f\"     {fail:.2f} degrees\")\n",
    "plt.ylim(-5, 5)\n",
    "angle['elevationCalculatedAngle'].plot(legend=True, secondary_y=True)\n",
    "#plt.savefig(\"/home/cslage/DATA/Elevation_Velocity_04Jul24.png\")\n"
   ]
  },
  {
   "cell_type": "code",
   "execution_count": null,
   "metadata": {
    "execution": {
     "iopub.execute_input": "2024-07-05T15:01:13.485448Z",
     "iopub.status.busy": "2024-07-05T15:01:13.484818Z",
     "iopub.status.idle": "2024-07-05T15:01:18.016201Z",
     "shell.execute_reply": "2024-07-05T15:01:18.015706Z",
     "shell.execute_reply.started": "2024-07-05T15:01:13.485416Z"
    },
    "tags": []
   },
   "outputs": [],
   "source": [
    "%matplotlib inline\n",
    "fig = plt.figure(figsize=(10,8))\n",
    "ax1 = vel['elevationMotorVelocity'].plot(figsize=(16,8), title='Elevation motor velocity', legend=True)\n",
    "for t in err.index:\n",
    "    for t2 in angle.index:\n",
    "        if t2.to_julian_date() > t.to_julian_date():\n",
    "            break\n",
    "    index = angle.index.searchsorted(t2)\n",
    "    fail = angle.iloc[index]['elevationCalculatedAngle']\n",
    "    ax1.axvline(t, color=\"red\", linestyle=\"--\")\n",
    "    ax1.text(t, -3.0, f\"     {fail:.2f} degrees\")\n",
    "plt.ylim(-5, 5)\n",
    "angle['elevationCalculatedAngle'].plot(legend=True, secondary_y=True)\n",
    "plt.xlim(Time(\"2024-07-04T20:34:03\", scale='utc').isot, Time(\"2024-07-04T20:34:40\", scale='utc').isot)\n",
    "#plt.savefig(\"/home/cslage/DATA/Elevation_Velocity_04Jul24.png\")\n"
   ]
  },
  {
   "cell_type": "code",
   "execution_count": null,
   "metadata": {
    "execution": {
     "iopub.execute_input": "2024-07-04T21:23:06.608146Z",
     "iopub.status.busy": "2024-07-04T21:23:06.607003Z",
     "iopub.status.idle": "2024-07-04T21:23:08.233573Z",
     "shell.execute_reply": "2024-07-04T21:23:08.232688Z",
     "shell.execute_reply.started": "2024-07-04T21:23:06.608110Z"
    }
   },
   "outputs": [],
   "source": [
    "for t in err.index:\n",
    "    for t2 in angle.index:\n",
    "        if t2.to_julian_date() > t.to_julian_date():\n",
    "            print(t2)\n",
    "            break\n",
    "    index = angle.index.searchsorted(t2)\n",
    "    print(angle.iloc[index]['elevationCalculatedAngle'])\n",
    "    "
   ]
  },
  {
   "cell_type": "code",
   "execution_count": null,
   "metadata": {
    "execution": {
     "iopub.execute_input": "2024-07-04T21:20:18.497881Z",
     "iopub.status.busy": "2024-07-04T21:20:18.497466Z",
     "iopub.status.idle": "2024-07-04T21:20:18.503762Z",
     "shell.execute_reply": "2024-07-04T21:20:18.502921Z",
     "shell.execute_reply.started": "2024-07-04T21:20:18.497850Z"
    }
   },
   "outputs": [],
   "source": [
    "t2.to_julian_date()"
   ]
  },
  {
   "cell_type": "code",
   "execution_count": null,
   "metadata": {
    "execution": {
     "iopub.execute_input": "2024-07-04T20:55:21.213725Z",
     "iopub.status.busy": "2024-07-04T20:55:21.212585Z",
     "iopub.status.idle": "2024-07-04T20:55:21.776150Z",
     "shell.execute_reply": "2024-07-04T20:55:21.775286Z",
     "shell.execute_reply.started": "2024-07-04T20:55:21.213691Z"
    }
   },
   "outputs": [],
   "source": [
    "torqueList = torque.values.tolist()\n",
    "angleList = angle.values.tolist()\n",
    "plt.figure()\n",
    "plt.plot(np.array(angleList)[:,0],np.array(torqueList)[:,0])\n",
    "plt.plot([0,90],[3.0,3.0], color='red', ls='--')\n",
    "plt.plot([0,90],[-3.0,-3.0], color='red', ls='--')\n",
    "#plt.arrow(20, 2.5, 10,0, width=0.1,head_length = 5.0, color='green')\n",
    "#plt.arrow(60, -2.5, -10,0, width=0.1,head_length = 5.0, color='green')\n",
    "plt.xlabel(\"Rotator angle(degrees)\")\n",
    "plt.ylabel(\"Torque (amps)\")\n",
    "#plt.savefig(\"/home/craiglagegit/DATA/Torque_vs_Angle_12Jul22.pdf\")"
   ]
  },
  {
   "cell_type": "code",
   "execution_count": null,
   "metadata": {
    "execution": {
     "iopub.execute_input": "2024-07-04T20:55:32.697761Z",
     "iopub.status.busy": "2024-07-04T20:55:32.697285Z",
     "iopub.status.idle": "2024-07-04T20:55:32.891984Z",
     "shell.execute_reply": "2024-07-04T20:55:32.891520Z",
     "shell.execute_reply.started": "2024-07-04T20:55:32.697726Z"
    }
   },
   "outputs": [],
   "source": [
    "velList = vel.values.tolist()\n",
    "angleList = angle.values.tolist()\n",
    "plt.figure()\n",
    "plt.plot(np.array(angleList)[:,0],np.array(velList)[:,0])\n",
    "#plt.plot([0,90],[3.0,3.0], color='red', ls='--')\n",
    "#plt.plot([0,90],[-3.0,-3.0], color='red', ls='--')\n",
    "#plt.arrow(20, 2.5, 10,0, width=0.1,head_length = 5.0, color='green')\n",
    "#plt.arrow(60, -2.5, -10,0, width=0.1,head_length = 5.0, color='green')\n",
    "plt.xlabel(\"Rotator angle(degrees)\")\n",
    "plt.ylabel(\"Velocity \")\n",
    "#plt.savefig(\"/home/craiglagegit/DATA/Torque_vs_Angle_12Jul22.pdf\")"
   ]
  },
  {
   "cell_type": "code",
   "execution_count": null,
   "metadata": {},
   "outputs": [],
   "source": []
  }
 ],
 "metadata": {
  "kernelspec": {
   "display_name": "LSST",
   "language": "python",
   "name": "lsst"
  },
  "language_info": {
   "codemirror_mode": {
    "name": "ipython",
    "version": 3
   },
   "file_extension": ".py",
   "mimetype": "text/x-python",
   "name": "python",
   "nbconvert_exporter": "python",
   "pygments_lexer": "ipython3",
   "version": "3.11.9"
  }
 },
 "nbformat": 4,
 "nbformat_minor": 4
}
