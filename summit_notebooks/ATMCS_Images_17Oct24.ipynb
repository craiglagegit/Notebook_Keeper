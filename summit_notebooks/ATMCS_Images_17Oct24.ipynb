{
 "cells": [
  {
   "cell_type": "code",
   "execution_count": null,
   "id": "5bf8d16d-8450-48ca-a5c2-79a050cd9419",
   "metadata": {
    "execution": {
     "iopub.execute_input": "2024-10-17T17:07:58.623802Z",
     "iopub.status.busy": "2024-10-17T17:07:58.623450Z",
     "iopub.status.idle": "2024-10-17T17:08:00.018355Z",
     "shell.execute_reply": "2024-10-17T17:08:00.017751Z",
     "shell.execute_reply.started": "2024-10-17T17:07:58.623784Z"
    }
   },
   "outputs": [],
   "source": [
    "import numpy as np\n",
    "import matplotlib.pyplot as plt\n",
    "import pandas as pd\n",
    "from astropy.time import Time, TimeDelta\n",
    "from lsst.daf.butler import Butler\n",
    "from lsst_efd_client import EfdClient\n"
   ]
  },
  {
   "cell_type": "code",
   "execution_count": null,
   "id": "35788a9e-0d22-4540-b120-9cc96c9db52c",
   "metadata": {
    "execution": {
     "iopub.execute_input": "2024-10-17T17:08:00.019724Z",
     "iopub.status.busy": "2024-10-17T17:08:00.019203Z",
     "iopub.status.idle": "2024-10-17T17:08:01.619668Z",
     "shell.execute_reply": "2024-10-17T17:08:01.618947Z",
     "shell.execute_reply.started": "2024-10-17T17:08:00.019707Z"
    }
   },
   "outputs": [],
   "source": [
    "butler = Butler('/repo/LATISS', collections=[\"LATISS/raw/all\", \"LATISS/calib\"])\n",
    "client = EfdClient('summit_efd')"
   ]
  },
  {
   "cell_type": "code",
   "execution_count": null,
   "id": "d17ee3ef-cc39-466a-855f-9f1506529050",
   "metadata": {
    "execution": {
     "iopub.execute_input": "2024-10-17T17:08:48.105957Z",
     "iopub.status.busy": "2024-10-17T17:08:48.105623Z",
     "iopub.status.idle": "2024-10-17T17:08:49.488881Z",
     "shell.execute_reply": "2024-10-17T17:08:49.488360Z",
     "shell.execute_reply.started": "2024-10-17T17:08:48.105937Z"
    }
   },
   "outputs": [],
   "source": [
    "expId = 2024101700002\n",
    "mData = butler.get('raw.metadata', detector=0, exposure=expId)\n"
   ]
  },
  {
   "cell_type": "code",
   "execution_count": null,
   "id": "ad9e89c2-edf0-43fa-b79b-49677a344c1c",
   "metadata": {
    "execution": {
     "iopub.execute_input": "2024-10-17T18:37:21.122385Z",
     "iopub.status.busy": "2024-10-17T18:37:21.122055Z",
     "iopub.status.idle": "2024-10-17T18:37:21.289351Z",
     "shell.execute_reply": "2024-10-17T18:37:21.288839Z",
     "shell.execute_reply.started": "2024-10-17T18:37:21.122364Z"
    }
   },
   "outputs": [],
   "source": [
    "expId = 2024101700002\n",
    "mData = butler.get('raw.metadata', detector=0, exposure=expId)\n",
    "tStart = mData['DATE-BEG']\n",
    "tEnd = mData['DATE-END']\n",
    "startExp = Time(tStart, scale='tai').utc\n",
    "endExp = Time(tEnd, scale='tai').utc\n",
    "\n",
    "t_start = startExp - TimeDelta(5.0, format='sec')\n",
    "t_end = endExp + TimeDelta(5.0, format='sec')\n",
    "mount_position = await client.select_packed_time_series(\"lsst.sal.ATMCS.mount_AzEl_Encoders\", \\\n",
    "                            ['azimuthCalculatedAngle', 'elevationCalculatedAngle'], t_start.utc, t_end.utc)\n",
    "mount_raw = await client.select_time_series(\"lsst.sal.ATMCS.mount_AzEl_Encoders\", \\\n",
    "                            ['*'], t_start.utc, t_end.utc)\n",
    "\n",
    "inPos = await client.select_time_series(\"lsst.sal.ATMCS.logevent_allAxesInPosition\", \\\n",
    "                            ['*'], t_start, t_end)\n",
    "inPos = inPos[inPos['inPosition'] == True]\n",
    "print(len(inPos))\n",
    "print(len(mount_raw))"
   ]
  },
  {
   "cell_type": "code",
   "execution_count": null,
   "id": "1688212f-2dd3-48d5-8f9f-a060a03720a5",
   "metadata": {
    "execution": {
     "iopub.execute_input": "2024-10-17T17:46:21.911760Z",
     "iopub.status.busy": "2024-10-17T17:46:21.911358Z",
     "iopub.status.idle": "2024-10-17T17:46:22.061440Z",
     "shell.execute_reply": "2024-10-17T17:46:22.060920Z",
     "shell.execute_reply.started": "2024-10-17T17:46:21.911738Z"
    }
   },
   "outputs": [],
   "source": [
    "fig, ax = plt.subplots(1,1,figsize=(6,5))\n",
    "mount_position['azimuthCalculatedAngle'].plot(ax=ax)\n",
    "for time in inPos.index:\n",
    "    ax.axvline(time, ls='--', color='black', label=\"AllAxesInPos\")\n",
    "ax.axvline(startExp.isot, ls='--', color='green', label=\"Start Exposure\")\n",
    "ax.axvline(endExp.isot, ls='--', color='red', label=\"End Exposure\")\n",
    "ax.set_ylabel(\"Azimuth(deg)\")\n",
    "ax.set_title(f\"Image {expId} Python ATMCS CSC\")\n",
    "plt.legend(loc='lower left')\n",
    "#plt.savefig(f\"/home/cslage/DATA/Python_ATMCS_{expId}_17Oct24.png\")"
   ]
  },
  {
   "cell_type": "code",
   "execution_count": null,
   "id": "f307905d-9b76-446e-9b9b-1d50cb1bba28",
   "metadata": {
    "execution": {
     "iopub.execute_input": "2024-10-17T18:37:26.869308Z",
     "iopub.status.busy": "2024-10-17T18:37:26.868959Z",
     "iopub.status.idle": "2024-10-17T18:37:26.877821Z",
     "shell.execute_reply": "2024-10-17T18:37:26.877256Z",
     "shell.execute_reply.started": "2024-10-17T18:37:26.869290Z"
    }
   },
   "outputs": [],
   "source": [
    "azs = []\n",
    "for j in range(3):\n",
    "    for i in range(100):\n",
    "        azs.append(mount_raw[f\"azimuthCalculatedAngle{i}\"][j])\n",
    "    "
   ]
  },
  {
   "cell_type": "code",
   "execution_count": null,
   "id": "8bb607a2-9dc8-4580-9d8f-ab0a4d448d19",
   "metadata": {
    "execution": {
     "iopub.execute_input": "2024-10-17T18:37:29.850054Z",
     "iopub.status.busy": "2024-10-17T18:37:29.849698Z",
     "iopub.status.idle": "2024-10-17T18:37:30.014450Z",
     "shell.execute_reply": "2024-10-17T18:37:30.013901Z",
     "shell.execute_reply.started": "2024-10-17T18:37:29.850037Z"
    }
   },
   "outputs": [],
   "source": [
    "plt.plot(azs, marker='x')\n",
    "plt.title(f\"Raw Azimuth Data {expId}\")\n",
    "plt.ylabel(\"Azimuth(deg)\")\n",
    "plt.savefig(f\"/home/cslage/DATA/Python_ATMCS_Raw_Azimuth_{expId}_17Oct24.png\")"
   ]
  },
  {
   "cell_type": "code",
   "execution_count": null,
   "id": "f3b7cb7a-1f38-4612-9bec-4597dcf9f0ca",
   "metadata": {},
   "outputs": [],
   "source": []
  }
 ],
 "metadata": {
  "kernelspec": {
   "display_name": "LSST",
   "language": "python",
   "name": "lsst"
  },
  "language_info": {
   "codemirror_mode": {
    "name": "ipython",
    "version": 3
   },
   "file_extension": ".py",
   "mimetype": "text/x-python",
   "name": "python",
   "nbconvert_exporter": "python",
   "pygments_lexer": "ipython3",
   "version": "3.11.10"
  }
 },
 "nbformat": 4,
 "nbformat_minor": 5
}
