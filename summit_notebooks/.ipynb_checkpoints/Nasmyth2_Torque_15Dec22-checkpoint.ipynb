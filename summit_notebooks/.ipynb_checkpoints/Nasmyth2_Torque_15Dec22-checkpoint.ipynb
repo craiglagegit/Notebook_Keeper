{
 "cells": [
  {
   "cell_type": "markdown",
   "metadata": {},
   "source": [
    "## Testing Nasmyth2 Rotator\n",
    "\n",
    "Craig Lage - 29 Jun 22\n"
   ]
  },
  {
   "cell_type": "code",
   "execution_count": null,
   "metadata": {
    "execution": {
     "iopub.execute_input": "2023-01-10T14:29:06.919730Z",
     "iopub.status.busy": "2023-01-10T14:29:06.919556Z",
     "iopub.status.idle": "2023-01-10T14:29:07.749983Z",
     "shell.execute_reply": "2023-01-10T14:29:07.749412Z",
     "shell.execute_reply.started": "2023-01-10T14:29:06.919691Z"
    },
    "tags": []
   },
   "outputs": [],
   "source": [
    "import sys, time, os\n",
    "\n",
    "import numpy as np\n",
    "import matplotlib.pyplot as plt\n",
    "import pandas as pd\n",
    "\n",
    "import logging\n",
    "\n",
    "from lsst.ts import salobj\n",
    "\n",
    "from lsst.ts.observatory.control.auxtel.atcs import ATCS\n",
    "from lsst.ts.observatory.control.auxtel.latiss import LATISS\n",
    "from lsst.ts.observatory.control.utils import RotType\n",
    "\n",
    "from lsst.ts.observing.utilities.decorated_logger import DecoratedLogger\n",
    "\n",
    "from astropy.time import Time, TimeDelta\n",
    "from lsst_efd_client import EfdClient"
   ]
  },
  {
   "cell_type": "code",
   "execution_count": null,
   "metadata": {
    "execution": {
     "iopub.execute_input": "2023-01-10T14:29:09.271470Z",
     "iopub.status.busy": "2023-01-10T14:29:09.271103Z",
     "iopub.status.idle": "2023-01-10T14:29:09.274163Z",
     "shell.execute_reply": "2023-01-10T14:29:09.273683Z",
     "shell.execute_reply.started": "2023-01-10T14:29:09.271453Z"
    },
    "tags": []
   },
   "outputs": [],
   "source": [
    "logger = DecoratedLogger.get_decorated_logger()\n",
    "logger.level = logging.DEBUG"
   ]
  },
  {
   "cell_type": "code",
   "execution_count": null,
   "metadata": {
    "execution": {
     "iopub.execute_input": "2023-01-10T14:29:09.901165Z",
     "iopub.status.busy": "2023-01-10T14:29:09.900812Z",
     "iopub.status.idle": "2023-01-10T14:29:09.905831Z",
     "shell.execute_reply": "2023-01-10T14:29:09.905313Z",
     "shell.execute_reply.started": "2023-01-10T14:29:09.901149Z"
    },
    "tags": []
   },
   "outputs": [],
   "source": [
    "logger.info(os.environ[\"OSPL_URI\"])\n",
    "logger.info(os.environ[\"LSST_DDS_PARTITION_PREFIX\"])"
   ]
  },
  {
   "cell_type": "markdown",
   "metadata": {},
   "source": [
    "### Instantiate the control classes"
   ]
  },
  {
   "cell_type": "code",
   "execution_count": null,
   "metadata": {
    "execution": {
     "iopub.execute_input": "2023-01-10T14:29:13.771569Z",
     "iopub.status.busy": "2023-01-10T14:29:13.771191Z",
     "iopub.status.idle": "2023-01-10T14:29:14.480676Z",
     "shell.execute_reply": "2023-01-10T14:29:14.479451Z",
     "shell.execute_reply.started": "2023-01-10T14:29:13.771552Z"
    },
    "jupyter": {
     "outputs_hidden": true
    },
    "tags": []
   },
   "outputs": [],
   "source": [
    "domain = salobj.Domain()\n",
    "atcs = ATCS(domain)\n",
    "#latiss = LATISS(domain)\n",
    "await asyncio.gather(atcs.start_task)#, latiss.start_task)"
   ]
  },
  {
   "cell_type": "code",
   "execution_count": null,
   "metadata": {
    "execution": {
     "iopub.execute_input": "2022-12-15T15:57:13.218254Z",
     "iopub.status.busy": "2022-12-15T15:57:13.217882Z",
     "iopub.status.idle": "2022-12-15T15:57:18.516176Z",
     "shell.execute_reply": "2022-12-15T15:57:18.515590Z",
     "shell.execute_reply.started": "2022-12-15T15:57:13.218236Z"
    },
    "jupyter": {
     "outputs_hidden": true
    },
    "tags": []
   },
   "outputs": [],
   "source": [
    "await atcs.enable()"
   ]
  },
  {
   "cell_type": "code",
   "execution_count": null,
   "metadata": {
    "execution": {
     "iopub.execute_input": "2023-01-10T14:29:24.369418Z",
     "iopub.status.busy": "2023-01-10T14:29:24.369025Z",
     "iopub.status.idle": "2023-01-10T14:29:50.723488Z",
     "shell.execute_reply": "2023-01-10T14:29:50.723104Z",
     "shell.execute_reply.started": "2023-01-10T14:29:24.369399Z"
    },
    "jupyter": {
     "outputs_hidden": true
    },
    "tags": []
   },
   "outputs": [],
   "source": [
    "current_az = 0.0\n",
    "current_el = 80.0\n",
    "current_rot = 0.0\n",
    "await atcs.point_azel(current_az, current_el, rot_tel=current_rot)"
   ]
  },
  {
   "cell_type": "code",
   "execution_count": null,
   "metadata": {
    "execution": {
     "iopub.execute_input": "2023-01-10T14:30:21.571620Z",
     "iopub.status.busy": "2023-01-10T14:30:21.571243Z",
     "iopub.status.idle": "2023-01-10T14:31:59.874818Z",
     "shell.execute_reply": "2023-01-10T14:31:59.874295Z",
     "shell.execute_reply.started": "2023-01-10T14:30:21.571602Z"
    },
    "jupyter": {
     "outputs_hidden": true
    },
    "tags": []
   },
   "outputs": [],
   "source": [
    "current_az = 0.0\n",
    "current_el = 80.0\n",
    "current_rot = -160.0\n",
    "await atcs.point_azel(current_az, current_el, rot_tel=current_rot)"
   ]
  },
  {
   "cell_type": "code",
   "execution_count": null,
   "metadata": {
    "execution": {
     "iopub.execute_input": "2023-01-10T14:32:05.667083Z",
     "iopub.status.busy": "2023-01-10T14:32:05.666716Z",
     "iopub.status.idle": "2023-01-10T14:32:11.866147Z",
     "shell.execute_reply": "2023-01-10T14:32:11.865446Z",
     "shell.execute_reply.started": "2023-01-10T14:32:05.667065Z"
    },
    "jupyter": {
     "outputs_hidden": true
    },
    "tags": []
   },
   "outputs": [],
   "source": [
    "current_az = 0.0\n",
    "current_el = 80.0\n",
    "current_rot = 160.0\n",
    "await atcs.point_azel(current_az, current_el, rot_tel=current_rot)"
   ]
  },
  {
   "cell_type": "code",
   "execution_count": null,
   "metadata": {
    "execution": {
     "iopub.execute_input": "2023-01-10T14:35:14.757414Z",
     "iopub.status.busy": "2023-01-10T14:35:14.757028Z",
     "iopub.status.idle": "2023-01-10T14:35:14.788823Z",
     "shell.execute_reply": "2023-01-10T14:35:14.788312Z",
     "shell.execute_reply.started": "2023-01-10T14:35:14.757395Z"
    },
    "jupyter": {
     "outputs_hidden": true
    },
    "tags": []
   },
   "outputs": [],
   "source": [
    "current_az = 0.0\n",
    "current_el = 80.0\n",
    "current_rot = -160.0\n",
    "await atcs.point_azel(current_az, current_el, rot_tel=current_rot)"
   ]
  },
  {
   "cell_type": "code",
   "execution_count": null,
   "metadata": {
    "execution": {
     "iopub.execute_input": "2023-01-10T14:38:03.196484Z",
     "iopub.status.busy": "2023-01-10T14:38:03.196093Z",
     "iopub.status.idle": "2023-01-10T14:39:41.522895Z",
     "shell.execute_reply": "2023-01-10T14:39:41.522332Z",
     "shell.execute_reply.started": "2023-01-10T14:38:03.196465Z"
    },
    "jupyter": {
     "outputs_hidden": true
    },
    "tags": []
   },
   "outputs": [],
   "source": [
    "current_az = 0.0\n",
    "current_el = 80.0\n",
    "current_rot = 0.0\n",
    "await atcs.point_azel(current_az, current_el, rot_tel=current_rot)"
   ]
  },
  {
   "cell_type": "markdown",
   "metadata": {},
   "source": [
    "Now we'll analyze the data.\n",
    "\n",
    "We'll access the EFD instance deployed at the Summit."
   ]
  },
  {
   "cell_type": "code",
   "execution_count": null,
   "metadata": {
    "execution": {
     "iopub.execute_input": "2023-01-10T14:39:44.380952Z",
     "iopub.status.busy": "2023-01-10T14:39:44.380566Z",
     "iopub.status.idle": "2023-01-10T14:39:45.464685Z",
     "shell.execute_reply": "2023-01-10T14:39:45.464141Z",
     "shell.execute_reply.started": "2023-01-10T14:39:44.380934Z"
    },
    "tags": []
   },
   "outputs": [],
   "source": [
    "client = EfdClient('summit_efd')"
   ]
  },
  {
   "cell_type": "code",
   "execution_count": null,
   "metadata": {
    "execution": {
     "iopub.execute_input": "2023-01-10T14:41:36.425820Z",
     "iopub.status.busy": "2023-01-10T14:41:36.425411Z",
     "iopub.status.idle": "2023-01-10T14:41:37.942716Z",
     "shell.execute_reply": "2023-01-10T14:41:37.942135Z",
     "shell.execute_reply.started": "2023-01-10T14:41:36.425801Z"
    },
    "jupyter": {
     "outputs_hidden": true
    },
    "tags": []
   },
   "outputs": [],
   "source": [
    "t_end = Time(time.time(),format='unix', scale='utc')\n",
    "#t_end = Time(\"2021-05-04T22:04:00\", scale='utc')   # timestamp at end of desired data \n",
    "nsec = 0.20*3600 # how many seconds of data to retrieve\n",
    "torque = await client.select_packed_time_series(\"lsst.sal.ATMCS.measuredTorque\", 'nasmyth2MotorTorque',\n",
    "                                              t_end - TimeDelta(nsec, format='sec'), t_end)\n",
    "angle = await client.select_packed_time_series(\"lsst.sal.ATMCS.mount_Nasmyth_Encoders\", 'nasmyth2CalculatedAngle',\n",
    "                                              t_end - TimeDelta(nsec, format='sec'), t_end)\n",
    "\n"
   ]
  },
  {
   "cell_type": "code",
   "execution_count": null,
   "metadata": {
    "execution": {
     "iopub.execute_input": "2023-01-10T14:41:41.902309Z",
     "iopub.status.busy": "2023-01-10T14:41:41.901937Z",
     "iopub.status.idle": "2023-01-10T14:41:42.881308Z",
     "shell.execute_reply": "2023-01-10T14:41:42.880742Z",
     "shell.execute_reply.started": "2023-01-10T14:41:41.902290Z"
    },
    "tags": []
   },
   "outputs": [],
   "source": [
    "ax1 = torque['nasmyth2MotorTorque'].plot(figsize=(16,8), title='Nasmyth motor torque', legend=True)\n",
    "ax1.axhline(3.0, color=\"blue\", linestyle=\"--\")\n",
    "ax1.axhline(-3.0, color=\"blue\", linestyle=\"--\")\n",
    "plt.ylim(-3.5,3.5)\n",
    "angle['nasmyth2CalculatedAngle'].plot(legend=True, secondary_y=True)\n",
    "plt.savefig(\"/home/craiglagegit/DATA/Nasmyth_Torque_10Jan23.pdf\")"
   ]
  },
  {
   "cell_type": "code",
   "execution_count": null,
   "metadata": {},
   "outputs": [],
   "source": []
  },
  {
   "cell_type": "code",
   "execution_count": null,
   "metadata": {
    "execution": {
     "iopub.execute_input": "2023-01-10T14:41:55.513366Z",
     "iopub.status.busy": "2023-01-10T14:41:55.512950Z",
     "iopub.status.idle": "2023-01-10T14:41:55.973473Z",
     "shell.execute_reply": "2023-01-10T14:41:55.972938Z",
     "shell.execute_reply.started": "2023-01-10T14:41:55.513348Z"
    },
    "tags": []
   },
   "outputs": [],
   "source": [
    "torqueList = torque.values.tolist()\n",
    "angleList = angle.values.tolist()\n",
    "plt.figure()\n",
    "plt.plot(np.array(angleList)[:,0],np.array(torqueList)[:,0])\n",
    "plt.plot([-160,160],[3.0,3.0], color='red', ls='--')\n",
    "plt.plot([-160,160],[-3.0,-3.0], color='red', ls='--')\n",
    "plt.arrow(-140, 2.5, 50,0, width=0.1,head_length = 5.0, color='green')\n",
    "plt.arrow(140, -2.5, -50,0, width=0.1,head_length = 5.0, color='green')\n",
    "plt.xlabel(\"Rotator angle(degrees)\")\n",
    "plt.ylabel(\"Torque (amps)\")\n",
    "plt.savefig(\"/home/craiglagegit/DATA/Torque_vs_Angle_10Jan23.pdf\")"
   ]
  },
  {
   "cell_type": "code",
   "execution_count": null,
   "metadata": {
    "execution": {
     "iopub.execute_input": "2023-01-10T14:44:44.278410Z",
     "iopub.status.busy": "2023-01-10T14:44:44.278023Z",
     "iopub.status.idle": "2023-01-10T14:46:44.339042Z",
     "shell.execute_reply": "2023-01-10T14:46:44.338338Z",
     "shell.execute_reply.started": "2023-01-10T14:44:44.278392Z"
    },
    "tags": []
   },
   "outputs": [],
   "source": [
    "await atcs.standby()"
   ]
  },
  {
   "cell_type": "code",
   "execution_count": null,
   "metadata": {},
   "outputs": [],
   "source": []
  },
  {
   "cell_type": "code",
   "execution_count": null,
   "metadata": {
    "execution": {
     "iopub.execute_input": "2022-12-15T16:13:45.147205Z",
     "iopub.status.busy": "2022-12-15T16:13:45.146664Z",
     "iopub.status.idle": "2022-12-15T16:14:49.139850Z",
     "shell.execute_reply": "2022-12-15T16:14:49.139433Z",
     "shell.execute_reply.started": "2022-12-15T16:13:45.147179Z"
    },
    "jupyter": {
     "outputs_hidden": true
    },
    "tags": []
   },
   "outputs": [],
   "source": [
    "current_az = 0.0\n",
    "current_el = 80.0\n",
    "current_rot = 0.0\n",
    "await atcs.point_azel(current_az, current_el, rot_tel=current_rot)"
   ]
  },
  {
   "cell_type": "code",
   "execution_count": null,
   "metadata": {},
   "outputs": [],
   "source": []
  }
 ],
 "metadata": {
  "kernelspec": {
   "display_name": "LSST",
   "language": "python",
   "name": "lsst"
  },
  "language_info": {
   "codemirror_mode": {
    "name": "ipython",
    "version": 3
   },
   "file_extension": ".py",
   "mimetype": "text/x-python",
   "name": "python",
   "nbconvert_exporter": "python",
   "pygments_lexer": "ipython3",
   "version": "3.10.8"
  }
 },
 "nbformat": 4,
 "nbformat_minor": 4
}
