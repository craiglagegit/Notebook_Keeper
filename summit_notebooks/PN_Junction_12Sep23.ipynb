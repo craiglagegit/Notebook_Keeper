{
 "cells": [
  {
   "cell_type": "markdown",
   "id": "c4b7bf70-4c68-4994-bb5c-df27871f7ba2",
   "metadata": {
    "execution": {
     "iopub.execute_input": "2023-09-12T14:38:59.078607Z",
     "iopub.status.busy": "2023-09-12T14:38:59.078239Z",
     "iopub.status.idle": "2023-09-12T14:38:59.082438Z",
     "shell.execute_reply": "2023-09-12T14:38:59.081607Z",
     "shell.execute_reply.started": "2023-09-12T14:38:59.078579Z"
    },
    "tags": []
   },
   "source": [
    "## PN junction in one dimension\n",
    "### Craig Lage 12Sep23"
   ]
  },
  {
   "cell_type": "code",
   "execution_count": null,
   "id": "96750619-0e0e-47eb-831d-fa34fbec7bb2",
   "metadata": {
    "execution": {
     "iopub.execute_input": "2023-09-12T23:56:20.851995Z",
     "iopub.status.busy": "2023-09-12T23:56:20.851744Z",
     "iopub.status.idle": "2023-09-12T23:56:21.279960Z",
     "shell.execute_reply": "2023-09-12T23:56:21.279299Z",
     "shell.execute_reply.started": "2023-09-12T23:56:20.851969Z"
    },
    "tags": []
   },
   "outputs": [],
   "source": [
    "import numpy as np\n",
    "import matplotlib.pyplot as plt"
   ]
  },
  {
   "cell_type": "markdown",
   "id": "087d206a-e2b8-4224-8056-36bb9df522fa",
   "metadata": {},
   "source": [
    "### 1D arrays to hold the data"
   ]
  },
  {
   "cell_type": "code",
   "execution_count": null,
   "id": "c18f8e64-16f4-4be2-97e3-757805689745",
   "metadata": {
    "execution": {
     "iopub.execute_input": "2023-09-12T23:56:21.285608Z",
     "iopub.status.busy": "2023-09-12T23:56:21.285498Z",
     "iopub.status.idle": "2023-09-12T23:56:21.289459Z",
     "shell.execute_reply": "2023-09-12T23:56:21.288812Z",
     "shell.execute_reply.started": "2023-09-12T23:56:21.285596Z"
    },
    "tags": []
   },
   "outputs": [],
   "source": [
    "class Array1d:\n",
    "    def __init__(self,xmin,xmax,nx):\n",
    "        self.nx=nx\n",
    "        self.xmin=xmin\n",
    "        self.xmax=xmax\n",
    "        self.dx=(xmax-xmin)/nx\n",
    "        self.x=np.linspace(xmin+self.dx/2,xmax-self.dx/2,nx)\n",
    "        self.data=np.zeros([nx])"
   ]
  },
  {
   "cell_type": "markdown",
   "id": "be7ebfff-cf1e-4a34-991a-5545cfc6e510",
   "metadata": {},
   "source": [
    "### First set up and initialize the arrays.  Make the junction 10:1 asymmetric\n",
    "### Linear dimensions are in microns, and doping densities in micron^-3\n",
    "### Set initial values for the mobile charge densities and potentials."
   ]
  },
  {
   "cell_type": "code",
   "execution_count": null,
   "id": "bf2016b1-1bdb-4c47-ae45-a46ee93558cb",
   "metadata": {
    "execution": {
     "iopub.execute_input": "2023-09-12T23:56:21.291799Z",
     "iopub.status.busy": "2023-09-12T23:56:21.291690Z",
     "iopub.status.idle": "2023-09-12T23:56:21.298696Z",
     "shell.execute_reply": "2023-09-12T23:56:21.298108Z",
     "shell.execute_reply.started": "2023-09-12T23:56:21.291788Z"
    },
    "tags": []
   },
   "outputs": [],
   "source": [
    "ni = 1.5E-2 # Silicon free carrier density in carriers/micron^3\n",
    "qe = 1.6E-19 # Coulombs\n",
    "kTq = 0.026 # kT/qe in eV at room T\n",
    "eps = 11.7 * 8.85E-18 # Silicon dielectric constant in Farads/micron\n",
    "\n",
    "xmin = -4.0\n",
    "xmax = 4.0\n",
    "nx = 1000\n",
    "\n",
    "doping = Array1d(xmin, xmax, nx)\n",
    "n = Array1d(xmin, xmax, nx)\n",
    "p = Array1d(xmin, xmax, nx)\n",
    "phi = Array1d(xmin, xmax, nx)\n",
    "phiF = 0 # Fermi level\n",
    "\n",
    "hsquared = doping.dx**2\n",
    "Na = 1.0E3  # 1.0E15 cm^-3 on the P side\n",
    "Nd = 1.0E2  # 1.0E14 cm^-3 on the N side\n",
    "phiP = kTq * np.log(Na / ni)\n",
    "phiN =  - kTq * np.log(Nd / ni)\n",
    "\n",
    "for i in range(nx):\n",
    "    if doping.x[i] < 0.0:\n",
    "        doping.data[i] = -Na\n",
    "        phi.data[i] = phiP\n",
    "        p.data[i] = Na\n",
    "        n.data[i] = 0.0\n",
    "    else:\n",
    "        doping.data[i] = Nd\n",
    "        phi.data[i] = phiN\n",
    "        p.data[i] = 0.0\n",
    "        n.data[i] = Nd\n"
   ]
  },
  {
   "cell_type": "code",
   "execution_count": null,
   "id": "041c92ab-1b50-4225-b9f0-7e1514ee7373",
   "metadata": {
    "execution": {
     "iopub.execute_input": "2023-09-12T23:56:21.300825Z",
     "iopub.status.busy": "2023-09-12T23:56:21.300717Z",
     "iopub.status.idle": "2023-09-12T23:58:31.225594Z",
     "shell.execute_reply": "2023-09-12T23:58:31.224995Z",
     "shell.execute_reply.started": "2023-09-12T23:56:21.300814Z"
    },
    "tags": []
   },
   "outputs": [],
   "source": [
    "w = 1.8 # Successive over-relaxation factor - speeds convergence.\n",
    "for j in range(10000):\n",
    "    iterLimit = 100\n",
    "    for i in range(2, nx-2):\n",
    "        term1 = (phi.data[i+1] + phi.data[i-1] - hsquared * qe / eps * doping.data[i]) / 2.0\n",
    "        mult = hsquared * ni * qe / (2.0 * eps)\n",
    "        newphi = phi.data[i] #term1 - mult * np.exp(exponent) + mult * np.exp(-exponent)\n",
    "\n",
    "        # Newton's method \"Inner Loop\"\n",
    "        counter = 0\n",
    "        tol = 1.0\n",
    "        while ((tol > 1.0E-9) and (counter < iterLimit)):\n",
    "            oldnewphi = newphi\n",
    "            exponent = (newphi - phiF) / kTq\n",
    "            f = newphi - term1 - mult * np.exp(-exponent) + mult * np.exp(exponent)\n",
    "            fPrime = 1.0 + mult / kTq * np.exp(-exponent) + mult / kTq * np.exp(exponent)\n",
    "            newphi = newphi - f / fPrime\n",
    "            tol = abs(newphi - oldnewphi)\n",
    "            counter += 1\n",
    "        # Successive over-relaxation\n",
    "        phi.data[i] = phi.data[i] + w * (newphi - phi.data[i])\n",
    "        exponent = (phi.data[i] - phiF) / kTq\n",
    "        n.data[i] = ni * np.exp(-exponent)\n",
    "        p.data[i] = ni * np.exp(exponent)\n"
   ]
  },
  {
   "cell_type": "code",
   "execution_count": null,
   "id": "d47a1458-21a8-4110-8e7b-c5b4699bc4b6",
   "metadata": {
    "execution": {
     "iopub.execute_input": "2023-09-12T23:58:49.281763Z",
     "iopub.status.busy": "2023-09-12T23:58:49.281260Z",
     "iopub.status.idle": "2023-09-12T23:58:49.734321Z",
     "shell.execute_reply": "2023-09-12T23:58:49.733819Z",
     "shell.execute_reply.started": "2023-09-12T23:58:49.281734Z"
    },
    "tags": []
   },
   "outputs": [],
   "source": [
    "fig, axs = plt.subplots(2,1,figsize=(10,10))\n",
    "axs[0].set_title(\"Charges\")\n",
    "axs[0].set_xlabel(\"X (microns)\")\n",
    "axs[0].set_ylabel(\"Carrier concentrations (microns^-3)\")\n",
    "\n",
    "axs[0].plot(doping.x, doping.data, ls='--', lw=4, label=\"Doping\")\n",
    "axs[0].plot(doping.x, n.data, label='Electrons')\n",
    "axs[0].plot(doping.x, p.data, label='Holes')\n",
    "\n",
    "# Plot theoretical depletion region widths\n",
    "wP = np.sqrt(2.0 * eps / qe * Nd / Na / (Na + Nd) * (phiP - phiN))\n",
    "wN = np.sqrt(2.0 * eps / qe * Na / Nd / (Na + Nd) * (phiP - phiN))\n",
    "axs[0].plot([-wP,-wP],[0,1000], ls='--', color='black', label=\"P depletion width\")\n",
    "axs[0].plot([wN,wN],[0,1000], ls='--', color='black', label=\"N depletion width\")\n",
    "axs[0].legend()\n",
    "\n",
    "axs[1].set_title(\"Potentials\")\n",
    "axs[1].set_xlabel(\"X (microns)\")\n",
    "axs[1].set_ylabel(\"Potential (V)\")\n",
    "axs[1].plot(doping.x, phi.data, label=\"Potential\")\n",
    "axs[1].plot([doping.xmin, doping.xmax], [0,0], ls='--', label=\"Fermi level\")\n",
    "axs[1].legend()"
   ]
  },
  {
   "cell_type": "code",
   "execution_count": null,
   "id": "e77d7baf-7b5a-4b8e-a1f5-4a09a6b3720e",
   "metadata": {
    "tags": []
   },
   "outputs": [],
   "source": []
  },
  {
   "cell_type": "code",
   "execution_count": null,
   "id": "5e6537bb-bab7-459e-be26-631f1e2a25ed",
   "metadata": {
    "tags": []
   },
   "outputs": [],
   "source": []
  },
  {
   "cell_type": "code",
   "execution_count": null,
   "id": "a49e7fb2-cdcb-4dbd-937e-c8405c09ee6f",
   "metadata": {},
   "outputs": [],
   "source": []
  }
 ],
 "metadata": {
  "kernelspec": {
   "display_name": "LSST",
   "language": "python",
   "name": "lsst"
  },
  "language_info": {
   "codemirror_mode": {
    "name": "ipython",
    "version": 3
   },
   "file_extension": ".py",
   "mimetype": "text/x-python",
   "name": "python",
   "nbconvert_exporter": "python",
   "pygments_lexer": "ipython3",
   "version": "3.11.4"
  }
 },
 "nbformat": 4,
 "nbformat_minor": 5
}
