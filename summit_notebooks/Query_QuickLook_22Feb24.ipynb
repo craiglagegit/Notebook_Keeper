{
 "cells": [
  {
   "cell_type": "markdown",
   "metadata": {},
   "source": [
    "## Query header\n",
    "\n",
    "In this notebook, we show several ways to query the fits headers with Gen3\\\n",
    "Craig Lage - 03-Jun-21"
   ]
  },
  {
   "cell_type": "code",
   "execution_count": null,
   "metadata": {
    "execution": {
     "iopub.execute_input": "2024-03-13T12:17:43.563513Z",
     "iopub.status.busy": "2024-03-13T12:17:43.563214Z",
     "iopub.status.idle": "2024-03-13T12:17:51.086346Z",
     "shell.execute_reply": "2024-03-13T12:17:51.085330Z",
     "shell.execute_reply.started": "2024-03-13T12:17:43.563497Z"
    },
    "tags": []
   },
   "outputs": [],
   "source": [
    "import numpy as np\n",
    "import matplotlib.pyplot as plt\n",
    "\n",
    "import lsst.summit.utils.butlerUtils as butlerUtils\n",
    "from lsst.summit.utils.bestEffort import BestEffortIsr\n",
    "from lsst.summit.utils.plotting import plot\n",
    "from lsst.summit.utils import quickSmooth\n",
    "from mpl_toolkits.axes_grid1 import make_axes_locatable\n",
    "from matplotlib.colors import LogNorm"
   ]
  },
  {
   "cell_type": "code",
   "execution_count": null,
   "metadata": {
    "execution": {
     "iopub.execute_input": "2024-03-13T12:17:56.222404Z",
     "iopub.status.busy": "2024-03-13T12:17:56.222009Z",
     "iopub.status.idle": "2024-03-13T12:17:56.781508Z",
     "shell.execute_reply": "2024-03-13T12:17:56.780680Z",
     "shell.execute_reply.started": "2024-03-13T12:17:56.222373Z"
    },
    "tags": []
   },
   "outputs": [],
   "source": [
    "butler = butlerUtils.makeDefaultLatissButler(embargo=False)"
   ]
  },
  {
   "cell_type": "code",
   "execution_count": null,
   "metadata": {
    "execution": {
     "iopub.execute_input": "2024-03-11T11:52:44.023393Z",
     "iopub.status.busy": "2024-03-11T11:52:44.022997Z",
     "iopub.status.idle": "2024-03-11T11:52:44.029170Z",
     "shell.execute_reply": "2024-03-11T11:52:44.028469Z",
     "shell.execute_reply.started": "2024-03-11T11:52:44.023362Z"
    }
   },
   "outputs": [],
   "source": [
    "butler.collections"
   ]
  },
  {
   "cell_type": "code",
   "execution_count": null,
   "metadata": {
    "execution": {
     "iopub.execute_input": "2024-02-22T17:17:38.618753Z",
     "iopub.status.busy": "2024-02-22T17:17:38.618362Z",
     "iopub.status.idle": "2024-02-22T17:17:38.627402Z",
     "shell.execute_reply": "2024-02-22T17:17:38.626503Z",
     "shell.execute_reply.started": "2024-02-22T17:17:38.618722Z"
    },
    "jupyter": {
     "outputs_hidden": true
    }
   },
   "outputs": [],
   "source": [
    "butler.registry.queryDatasetTypes()"
   ]
  },
  {
   "cell_type": "code",
   "execution_count": null,
   "metadata": {
    "execution": {
     "iopub.execute_input": "2024-03-13T16:31:24.947317Z",
     "iopub.status.busy": "2024-03-13T16:31:24.946951Z",
     "iopub.status.idle": "2024-03-13T16:31:25.011016Z",
     "shell.execute_reply": "2024-03-13T16:31:25.010109Z",
     "shell.execute_reply.started": "2024-03-13T16:31:24.947290Z"
    },
    "tags": []
   },
   "outputs": [],
   "source": [
    "dayObs = 20240313\n",
    "exposureList = []\n",
    "for record in butler.registry.queryDimensionRecords(\"exposure\", where=\"exposure.day_obs=%d\"%dayObs):\n",
    "    exposureList.append([record.id, record])\n",
    "exposureList.sort(key=lambda x: x[0])\n",
    "for [id,record] in exposureList:\n",
    "    print(record.id, record.observation_type, record.exposure_time, record.physical_filter, record.target_name)\n"
   ]
  },
  {
   "cell_type": "code",
   "execution_count": null,
   "metadata": {
    "execution": {
     "iopub.execute_input": "2024-03-13T12:50:25.677844Z",
     "iopub.status.busy": "2024-03-13T12:50:25.677476Z",
     "iopub.status.idle": "2024-03-13T12:50:25.747157Z",
     "shell.execute_reply": "2024-03-13T12:50:25.746549Z",
     "shell.execute_reply.started": "2024-03-13T12:50:25.677816Z"
    },
    "jupyter": {
     "outputs_hidden": true
    }
   },
   "outputs": [],
   "source": [
    "expId = 2024031300003\n",
    "mData = butler.get('raw.metadata', detector=0, exposure=expId)\n",
    "for key in mData.keys():\n",
    "    print(key, mData[key])"
   ]
  },
  {
   "cell_type": "code",
   "execution_count": null,
   "metadata": {
    "execution": {
     "iopub.execute_input": "2024-03-11T16:14:10.309931Z",
     "iopub.status.busy": "2024-03-11T16:14:10.309544Z",
     "iopub.status.idle": "2024-03-11T16:14:12.277526Z",
     "shell.execute_reply": "2024-03-11T16:14:12.277006Z",
     "shell.execute_reply.started": "2024-03-11T16:14:10.309904Z"
    }
   },
   "outputs": [],
   "source": [
    "dataId = dict(day_obs=20240308, detector=0, seq_num=199)\n",
    "bestEffort = BestEffortIsr(embargo=False)\n",
    "bestEffort.getExposure(dataId)\n",
    "dataType = 'quickLookExp'\n",
    "exp = butler.get(dataType, dataId)"
   ]
  },
  {
   "cell_type": "code",
   "execution_count": null,
   "metadata": {
    "execution": {
     "iopub.execute_input": "2024-03-11T16:14:16.156276Z",
     "iopub.status.busy": "2024-03-11T16:14:16.155862Z",
     "iopub.status.idle": "2024-03-11T16:14:18.884551Z",
     "shell.execute_reply": "2024-03-11T16:14:18.883968Z",
     "shell.execute_reply.started": "2024-03-11T16:14:16.156226Z"
    }
   },
   "outputs": [],
   "source": [
    "%matplotlib inline\n",
    "fig = plt.figure(figsize=(10,10))\n",
    "plot(exp, figure=fig, stretch='ccs')\n",
    "[ax1, ax2] = fig.axes\n",
    "ax1.set_title(f\"AuxTel, 20240308 seqNum 199\", fontsize = 24)\n",
    "slices = [[1830, 0.45, 0.6], [500, 0.85, 1.0], [3500, 0.1, 0.25]]\n",
    "for [y, xmin, xmax] in slices:\n",
    "    ax1.axhline(y, xmin, xmax, color='yellow')\n",
    "plt.savefig(\"/home/cslage/DATA/Defects_1_20240308_199.png\")"
   ]
  },
  {
   "cell_type": "code",
   "execution_count": null,
   "metadata": {
    "execution": {
     "iopub.execute_input": "2024-03-11T16:35:09.124233Z",
     "iopub.status.busy": "2024-03-11T16:35:09.123395Z",
     "iopub.status.idle": "2024-03-11T16:35:09.295659Z",
     "shell.execute_reply": "2024-03-11T16:35:09.294887Z",
     "shell.execute_reply.started": "2024-03-11T16:35:09.124201Z"
    }
   },
   "outputs": [],
   "source": [
    "mask = exp.getMaskedImage().getArrays()[1]\n",
    "fig, axs = plt.subplots(2,1,figsize = (5,5))\n",
    "axs[0].plot(exp.image.array[1830, 2130:2180], marker='x')\n",
    "axs[1].plot(mask[1830, 2130:2180], marker='x')"
   ]
  },
  {
   "cell_type": "code",
   "execution_count": null,
   "metadata": {
    "execution": {
     "iopub.execute_input": "2024-03-11T16:26:36.663300Z",
     "iopub.status.busy": "2024-03-11T16:26:36.662499Z",
     "iopub.status.idle": "2024-03-11T16:26:36.668765Z",
     "shell.execute_reply": "2024-03-11T16:26:36.667871Z",
     "shell.execute_reply.started": "2024-03-11T16:26:36.663280Z"
    }
   },
   "outputs": [],
   "source": [
    "len(im.getArrays())"
   ]
  },
  {
   "cell_type": "code",
   "execution_count": null,
   "metadata": {
    "execution": {
     "iopub.execute_input": "2024-03-11T16:28:10.679738Z",
     "iopub.status.busy": "2024-03-11T16:28:10.679363Z",
     "iopub.status.idle": "2024-03-11T16:28:10.859596Z",
     "shell.execute_reply": "2024-03-11T16:28:10.859009Z",
     "shell.execute_reply.started": "2024-03-11T16:28:10.679710Z"
    }
   },
   "outputs": [],
   "source": [
    "plt.imshow(mask[1700:2100, 1950:2350 ])\n",
    "plt.colorbar()"
   ]
  },
  {
   "cell_type": "code",
   "execution_count": null,
   "metadata": {
    "execution": {
     "iopub.execute_input": "2024-03-11T16:30:07.950634Z",
     "iopub.status.busy": "2024-03-11T16:30:07.949727Z",
     "iopub.status.idle": "2024-03-11T16:30:08.097542Z",
     "shell.execute_reply": "2024-03-11T16:30:08.096951Z",
     "shell.execute_reply.started": "2024-03-11T16:30:07.950602Z"
    }
   },
   "outputs": [],
   "source": [
    "plt.plot(mask[1830, 2130:2180], marker='x')"
   ]
  },
  {
   "cell_type": "code",
   "execution_count": null,
   "metadata": {
    "execution": {
     "iopub.execute_input": "2024-03-11T16:23:32.067346Z",
     "iopub.status.busy": "2024-03-11T16:23:32.066951Z",
     "iopub.status.idle": "2024-03-11T16:23:33.119230Z",
     "shell.execute_reply": "2024-03-11T16:23:33.118722Z",
     "shell.execute_reply.started": "2024-03-11T16:23:32.067317Z"
    }
   },
   "outputs": [],
   "source": [
    "im = exp.getMaskedImage()\n",
    "fig = plt.figure(figsize=(10,10))\n",
    "_ = plot(im[1950:2350, 1700:2100], figure=fig, stretch='ccs')\n",
    "[ax1, ax2] = fig.axes\n",
    "ax1.imshow(mask.array[1700:2100, 1950:2350 ])"
   ]
  },
  {
   "cell_type": "code",
   "execution_count": null,
   "metadata": {
    "execution": {
     "iopub.execute_input": "2024-02-26T18:40:56.183973Z",
     "iopub.status.busy": "2024-02-26T18:40:56.183611Z",
     "iopub.status.idle": "2024-02-26T18:40:56.192584Z",
     "shell.execute_reply": "2024-02-26T18:40:56.191583Z",
     "shell.execute_reply.started": "2024-02-26T18:40:56.183946Z"
    }
   },
   "outputs": [],
   "source": [
    "from lsst.summit.utils import quickSmooth\n",
    "from mpl_toolkits.axes_grid1 import make_axes_locatable\n",
    "def plotExp(exposure):\n",
    "    # Borrowed from summit utils\n",
    "    data = quickSmooth(exposure.image.array, 1)\n",
    "    vmin = np.nanpercentile(data, 1)\n",
    "    vmax = np.nanpercentile(data, 99)\n",
    "    print(vmin, vmax)\n",
    "    figure = plt.figure(figsize=(12,12))\n",
    "    figure.clear()\n",
    "    ax1 = figure.add_subplot(111)\n",
    "    ax1.set_title(f\"{expId}\")\n",
    "    im1 = ax1.imshow(data, cmap='gray', origin='lower', vmin=vmin, vmax=vmax)\n",
    "    ax1.tick_params(which=\"major\", direction=\"in\", top=True, right=True, labelsize=8)\n",
    "    divider = make_axes_locatable(ax1)\n",
    "    cax = divider.append_axes(\"right\", size=\"5%\", pad=0.05)\n",
    "    plt.colorbar(im1, cax=cax)\n",
    "    plt.tight_layout()\n",
    "    #plt.show()\n",
    "    return figure, vmin, vmax\n"
   ]
  },
  {
   "cell_type": "code",
   "execution_count": null,
   "metadata": {
    "execution": {
     "iopub.execute_input": "2024-02-26T18:41:03.804387Z",
     "iopub.status.busy": "2024-02-26T18:41:03.803394Z",
     "iopub.status.idle": "2024-02-26T18:41:03.830606Z",
     "shell.execute_reply": "2024-02-26T18:41:03.829618Z",
     "shell.execute_reply.started": "2024-02-26T18:41:03.804354Z"
    }
   },
   "outputs": [],
   "source": [
    "plotExp(be)"
   ]
  },
  {
   "cell_type": "code",
   "execution_count": null,
   "metadata": {
    "execution": {
     "iopub.execute_input": "2024-02-22T17:37:32.819147Z",
     "iopub.status.busy": "2024-02-22T17:37:32.818775Z",
     "iopub.status.idle": "2024-02-22T17:37:34.939037Z",
     "shell.execute_reply": "2024-02-22T17:37:34.938425Z",
     "shell.execute_reply.started": "2024-02-22T17:37:32.819116Z"
    }
   },
   "outputs": [],
   "source": [
    "%matplotlib inline\n",
    "fig = plotExp(exp)\n",
    "plt.suptitle(f\" quickLookExp {expId}\")\n",
    "#fig.savefig(f\"/home/c/cslage/u/AuxTel/isr/before_after/Before.png\")"
   ]
  },
  {
   "cell_type": "code",
   "execution_count": null,
   "metadata": {
    "execution": {
     "iopub.execute_input": "2024-02-22T17:42:35.763432Z",
     "iopub.status.busy": "2024-02-22T17:42:35.763049Z",
     "iopub.status.idle": "2024-02-22T17:42:36.487684Z",
     "shell.execute_reply": "2024-02-22T17:42:36.486874Z",
     "shell.execute_reply.started": "2024-02-22T17:42:35.763400Z"
    }
   },
   "outputs": [],
   "source": [
    "expId=2024022200254\n",
    "mine = butler.get(\"postISRCCD\", instrument=\"LATISS\", detector=0, exposure=expId, collections='u/czw/tests/t.20240222a')"
   ]
  },
  {
   "cell_type": "code",
   "execution_count": null,
   "metadata": {
    "execution": {
     "iopub.execute_input": "2024-02-22T17:42:39.182673Z",
     "iopub.status.busy": "2024-02-22T17:42:39.182198Z",
     "iopub.status.idle": "2024-02-22T17:42:41.268037Z",
     "shell.execute_reply": "2024-02-22T17:42:41.267506Z",
     "shell.execute_reply.started": "2024-02-22T17:42:39.182640Z"
    }
   },
   "outputs": [],
   "source": [
    "fig = plotExp(mine)\n",
    "plt.suptitle(f\"Chris' run with full ISR {expId}\")"
   ]
  },
  {
   "cell_type": "code",
   "execution_count": null,
   "metadata": {
    "execution": {
     "iopub.execute_input": "2024-02-22T18:14:38.936222Z",
     "iopub.status.busy": "2024-02-22T18:14:38.935362Z",
     "iopub.status.idle": "2024-02-22T18:14:39.105196Z",
     "shell.execute_reply": "2024-02-22T18:14:39.104722Z",
     "shell.execute_reply.started": "2024-02-22T18:14:38.936186Z"
    },
    "jupyter": {
     "outputs_hidden": true
    }
   },
   "outputs": [],
   "source": [
    "for i in range(50):\n",
    "    y = int(1750 + 2 * i)\n",
    "    plt.plot(exp.image.array[y, 2000:2400])\n",
    "    print(y, np.max(exp.image.array[y, 2000:2400]))"
   ]
  },
  {
   "cell_type": "code",
   "execution_count": null,
   "metadata": {
    "execution": {
     "iopub.execute_input": "2024-02-22T18:39:16.165999Z",
     "iopub.status.busy": "2024-02-22T18:39:16.165595Z",
     "iopub.status.idle": "2024-02-22T18:39:16.312564Z",
     "shell.execute_reply": "2024-02-22T18:39:16.311726Z",
     "shell.execute_reply.started": "2024-02-22T18:39:16.165967Z"
    }
   },
   "outputs": [],
   "source": [
    "plt.title(f\"Chris' full ISR, slice at Y=1820  {expId}\")\n",
    "plt.plot(mine.image.array[1820, :], marker='x')\n",
    "plt.xlim(2100,2200)\n",
    "plt.xlabel(\"X (pixels)\")\n",
    "plt.ylabel(\"Signal(ADU)\")"
   ]
  },
  {
   "cell_type": "code",
   "execution_count": null,
   "metadata": {
    "execution": {
     "iopub.execute_input": "2024-02-22T18:38:10.818988Z",
     "iopub.status.busy": "2024-02-22T18:38:10.818132Z",
     "iopub.status.idle": "2024-02-22T18:38:10.981495Z",
     "shell.execute_reply": "2024-02-22T18:38:10.980851Z",
     "shell.execute_reply.started": "2024-02-22T18:38:10.818964Z"
    }
   },
   "outputs": [],
   "source": [
    "plt.title(f\"Chris' full ISR, slice at Y=1820  {expId}\")\n",
    "plt.plot(mine.image.array[1820, :], marker='x')\n",
    "plt.xlim(2145, 2152)\n",
    "plt.xlabel(\"X (pixels)\")\n",
    "plt.ylabel(\"Signal(ADU)\")"
   ]
  },
  {
   "cell_type": "code",
   "execution_count": null,
   "metadata": {},
   "outputs": [],
   "source": []
  }
 ],
 "metadata": {
  "kernelspec": {
   "display_name": "LSST",
   "language": "python",
   "name": "lsst"
  },
  "language_info": {
   "codemirror_mode": {
    "name": "ipython",
    "version": 3
   },
   "file_extension": ".py",
   "mimetype": "text/x-python",
   "name": "python",
   "nbconvert_exporter": "python",
   "pygments_lexer": "ipython3",
   "version": "3.11.7"
  }
 },
 "nbformat": 4,
 "nbformat_minor": 4
}
