{
 "cells": [
  {
   "cell_type": "markdown",
   "metadata": {},
   "source": [
    "## Looking at azimuth oscillations as a function of mount speed.\n",
    "\n",
    "Craig Lage - Mar 7, 2023"
   ]
  },
  {
   "cell_type": "code",
   "execution_count": null,
   "metadata": {
    "execution": {
     "iopub.execute_input": "2023-03-07T20:41:47.973641Z",
     "iopub.status.busy": "2023-03-07T20:41:47.973251Z",
     "iopub.status.idle": "2023-03-07T20:41:47.978057Z",
     "shell.execute_reply": "2023-03-07T20:41:47.977496Z",
     "shell.execute_reply.started": "2023-03-07T20:41:47.973622Z"
    },
    "tags": []
   },
   "outputs": [],
   "source": [
    "import sys, time, os, asyncio, glob\n",
    "from datetime import datetime\n",
    "import numpy as np\n",
    "import matplotlib.pyplot as plt\n",
    "from mpl_toolkits.axes_grid1 import make_axes_locatable\n",
    "import astropy.io.fits as pf\n",
    "from astropy.time import Time, TimeDelta\n",
    "from astropy.coordinates import AltAz, ICRS, EarthLocation, Angle, FK5, SkyCoord\n",
    "import astropy.units as u\n",
    "from lsst.obs.lsst.translators.latiss import AUXTEL_LOCATION\n",
    "import pickle as pkl\n",
    "import pandas as pd\n",
    "import json\n",
    "from lsst_efd_client import EfdClient\n",
    "from lsst.daf.butler import Butler"
   ]
  },
  {
   "cell_type": "code",
   "execution_count": null,
   "metadata": {
    "execution": {
     "iopub.execute_input": "2023-03-07T19:19:58.970475Z",
     "iopub.status.busy": "2023-03-07T19:19:58.970188Z",
     "iopub.status.idle": "2023-03-07T19:19:58.975290Z",
     "shell.execute_reply": "2023-03-07T19:19:58.974683Z",
     "shell.execute_reply.started": "2023-03-07T19:19:58.970458Z"
    },
    "tags": []
   },
   "outputs": [],
   "source": [
    "def mountSpeed(az, el):\n",
    "    # Calculate theoretical drive speed vs Az/El\n",
    "    t0 = Time('2023-01-01T00:00:00') # doesn't really matter when\n",
    "    altAz0 = SkyCoord(AltAz(alt=el*u.deg, az=az*u.deg, obstime=t0, location=AUXTEL_LOCATION))\n",
    "    RaDec = altAz0.transform_to(ICRS)\n",
    "    t1 = t0 + TimeDelta(1.0, format='sec')\n",
    "    altAz1 = RaDec.transform_to(AltAz(obstime=t1, location=AUXTEL_LOCATION))\n",
    "    #print(altAz1)\n",
    "    newAz = altAz1.az.deg\n",
    "    if az < 5.0 and newAz > 355.0:\n",
    "        delta = newAz -360.0 - az\n",
    "    else:\n",
    "        delta = newAz - az\n",
    "\n",
    "    azVel = abs(delta) * 3600.0\n",
    "    elVel = abs(altAz1.alt.deg - el) * 3600.0\n",
    "    #print(az, altAz1.az.deg, el, altAz1.alt.deg)\n",
    "    return(azVel, elVel)\n",
    "    "
   ]
  },
  {
   "cell_type": "markdown",
   "metadata": {},
   "source": [
    "## Now we get the json data from RubinTV"
   ]
  },
  {
   "cell_type": "code",
   "execution_count": null,
   "metadata": {
    "execution": {
     "iopub.execute_input": "2023-03-07T19:28:40.343902Z",
     "iopub.status.busy": "2023-03-07T19:28:40.343576Z",
     "iopub.status.idle": "2023-03-07T19:28:40.435819Z",
     "shell.execute_reply": "2023-03-07T19:28:40.435387Z",
     "shell.execute_reply.started": "2023-03-07T19:28:40.343885Z"
    },
    "tags": []
   },
   "outputs": [],
   "source": [
    "# This file needs to be manually downloaded from RubinTV\n",
    "filename = '/home/craiglagegit/DATA/stiction_vs_speed_20230302/auxtel_2023-03-02.json'\n",
    "df = pd.read_json(filename)\n",
    "df = df.transpose()\n",
    "limit = 0.40 # Limit in arcseconds\n",
    "df_bad = df[df['Mount motion image degradation'] > limit]\n",
    "df_good = df[df['Mount motion image degradation'] <= limit]\n",
    "mount_degradation = df['Mount motion image degradation']\n",
    "total = np.count_nonzero(~pd.isna(mount_degradation.values))\n",
    "print(f\" There are {len(df_bad)} values > {limit} out of {total} values\")"
   ]
  },
  {
   "cell_type": "code",
   "execution_count": null,
   "metadata": {
    "execution": {
     "iopub.execute_input": "2023-03-07T19:28:48.259226Z",
     "iopub.status.busy": "2023-03-07T19:28:48.258949Z",
     "iopub.status.idle": "2023-03-07T19:28:48.264342Z",
     "shell.execute_reply": "2023-03-07T19:28:48.263866Z",
     "shell.execute_reply.started": "2023-03-07T19:28:48.259209Z"
    },
    "tags": []
   },
   "outputs": [],
   "source": [
    "columns_to_keep = ['Altitude', 'Azimuth', 'Exposure id', 'Mount motion image degradation', 'TAI']\n",
    "df_bad = df_bad[columns_to_keep]\n",
    "df_bad['Type'] = 'Other'\n",
    "df_good = df_good[columns_to_keep]"
   ]
  },
  {
   "cell_type": "markdown",
   "metadata": {},
   "source": [
    "## Now we manually look at the plots to determine the failure type"
   ]
  },
  {
   "cell_type": "code",
   "execution_count": null,
   "metadata": {
    "execution": {
     "iopub.execute_input": "2023-03-07T19:29:47.515405Z",
     "iopub.status.busy": "2023-03-07T19:29:47.515115Z",
     "iopub.status.idle": "2023-03-07T19:46:35.678532Z",
     "shell.execute_reply": "2023-03-07T19:46:35.677896Z",
     "shell.execute_reply.started": "2023-03-07T19:29:47.515388Z"
    },
    "jupyter": {
     "outputs_hidden": true
    },
    "tags": []
   },
   "outputs": [],
   "source": [
    "# \n",
    "for index in df_bad.index.to_list():\n",
    "    type = input(f\"Which type is {index}? (C = Cogging, S = Stiction, W = Wind, O = Other\")\n",
    "    if type == \"\" or type == 'O':\n",
    "        df_bad.loc[index]['Type'] = 'Other'\n",
    "    if type == 'C':\n",
    "        df_bad.loc[index]['Type'] = 'Cogging'\n",
    "    if type == 'S':\n",
    "        df_bad.loc[index]['Type'] = 'Stiction'\n",
    "    if type == 'W':\n",
    "        df_bad.loc[index]['Type'] = 'Wind'\n"
   ]
  },
  {
   "cell_type": "code",
   "execution_count": null,
   "metadata": {
    "execution": {
     "iopub.execute_input": "2023-03-07T19:48:19.557739Z",
     "iopub.status.busy": "2023-03-07T19:48:19.557368Z",
     "iopub.status.idle": "2023-03-07T19:48:19.562031Z",
     "shell.execute_reply": "2023-03-07T19:48:19.561616Z",
     "shell.execute_reply.started": "2023-03-07T19:48:19.557722Z"
    },
    "tags": []
   },
   "outputs": [],
   "source": [
    "# Pickle the dataframe so I don't have to categorize them again\n",
    "file = open('/home/craiglagegit/DATA/stiction_vs_speed_20230302/df.pkl', 'wb')\n",
    "pkl.dump(df_bad, file)\n",
    "file.close()\n"
   ]
  },
  {
   "cell_type": "code",
   "execution_count": null,
   "metadata": {
    "execution": {
     "iopub.execute_input": "2023-03-07T19:48:46.372450Z",
     "iopub.status.busy": "2023-03-07T19:48:46.372078Z",
     "iopub.status.idle": "2023-03-07T19:48:46.376627Z",
     "shell.execute_reply": "2023-03-07T19:48:46.376215Z",
     "shell.execute_reply.started": "2023-03-07T19:48:46.372432Z"
    },
    "tags": []
   },
   "outputs": [],
   "source": [
    "# Now unpickle them\n",
    "file = open('/home/craiglagegit/DATA/stiction_vs_speed_20230302/df.pkl', 'rb')\n",
    "df_bad = pkl.load(file)\n",
    "file.close()"
   ]
  },
  {
   "cell_type": "markdown",
   "metadata": {},
   "source": [
    "## Now we plot the mount fails against the azimuth mount speed"
   ]
  },
  {
   "cell_type": "code",
   "execution_count": null,
   "metadata": {
    "execution": {
     "iopub.execute_input": "2023-03-07T20:03:59.228577Z",
     "iopub.status.busy": "2023-03-07T20:03:59.228187Z",
     "iopub.status.idle": "2023-03-07T20:04:39.423074Z",
     "shell.execute_reply": "2023-03-07T20:04:39.422597Z",
     "shell.execute_reply.started": "2023-03-07T20:03:59.228560Z"
    },
    "tags": []
   },
   "outputs": [],
   "source": [
    "alts = df_bad['Altitude'].values\n",
    "azs = df_bad['Azimuth'].values\n",
    "radAzs = np.radians(azs.astype(float))\n",
    "Naz = 100\n",
    "Nel = 50\n",
    "azimuths = np.linspace(0, 360, Naz)\n",
    "els = np.linspace(5, 85, Nel)\n",
    "azValues = np.zeros([Naz, Nel])\n",
    "elValues = np.zeros([Naz, Nel])\n",
    "for i, az in enumerate(azimuths):\n",
    "    for j, el in enumerate(els):\n",
    "        [azSpeed, elSpeed] = mountSpeed(az, el)\n",
    "        azValues[i,j] = azSpeed\n",
    "        elValues[i,j] = elSpeed\n",
    "        #print(az, el, mountSpeed(az, el)[0])\n",
    "    \n",
    "r, theta = np.meshgrid(els, np.radians(azimuths))\n",
    "\n"
   ]
  },
  {
   "cell_type": "code",
   "execution_count": null,
   "metadata": {
    "execution": {
     "iopub.execute_input": "2023-03-07T21:35:43.339606Z",
     "iopub.status.busy": "2023-03-07T21:35:43.339225Z",
     "iopub.status.idle": "2023-03-07T21:35:43.904313Z",
     "shell.execute_reply": "2023-03-07T21:35:43.903883Z",
     "shell.execute_reply.started": "2023-03-07T21:35:43.339588Z"
    },
    "tags": []
   },
   "outputs": [],
   "source": [
    "#-- Plot... ------------------------------------------------\n",
    "fig=plt.figure(figsize=(16,16))\n",
    "#plt.subplots_adjust(wspace = 1.0)\n",
    "vmin = -2.0\n",
    "vmax = 2.0\n",
    "levels = np.linspace(vmin, vmax, 9)\n",
    "ax1 = plt.subplot(121, projection='polar')\n",
    "ax1.set_title(\"Log10(Theoretical Azimuth speed (arcseconds/sec))\")\n",
    "ax1.invert_yaxis()\n",
    "contourf_1 = ax1.contourf(theta, r, np.log10(azValues), levels=levels)\n",
    "cax1 = fig.add_axes([ax1.get_position().x1+0.01,ax1.get_position().y0,0.02,ax1.get_position().height])\n",
    "plt.colorbar(contourf_1, cax=cax1)\n",
    "ax1.scatter([np.pi], [-AUXTEL_LOCATION.lat.deg], color='cyan', marker='x', s=200, label=\"SCP\")\n",
    "ax1.scatter(radAzs, alts, color='red', marker='x', label=\"Mount motion > 0.4\")\n",
    "ax1.legend()\n",
    "plt.savefig('/home/craiglagegit/DATA/stiction_vs_speed_20230302/Mount_Fails_Positions_20230302.pdf')"
   ]
  },
  {
   "cell_type": "code",
   "execution_count": null,
   "metadata": {
    "execution": {
     "iopub.execute_input": "2023-03-07T21:10:25.794457Z",
     "iopub.status.busy": "2023-03-07T21:10:25.793695Z",
     "iopub.status.idle": "2023-03-07T21:10:26.446733Z",
     "shell.execute_reply": "2023-03-07T21:10:26.446209Z",
     "shell.execute_reply.started": "2023-03-07T21:10:25.794437Z"
    },
    "tags": []
   },
   "outputs": [],
   "source": [
    "badAlts = df_bad['Altitude'].values\n",
    "badAzs = df_bad['Azimuth'].values\n",
    "badAzSpeeds = []\n",
    "for i in range(len(badAzs)):\n",
    "    [azSpeed, elSpeed] = mountSpeed(badAzs[i], badAlts[i])\n",
    "    badAzSpeeds.append(azSpeed)\n",
    "goodAlts = df_good['Altitude'].values\n",
    "goodAzs = df_good['Azimuth'].values\n",
    "goodAzSpeeds = []\n",
    "for i in range(len(goodAzs)):\n",
    "    [azSpeed, elSpeed] = mountSpeed(goodAzs[i], goodAlts[i])\n",
    "    goodAzSpeeds.append(azSpeed)\n",
    "        "
   ]
  },
  {
   "cell_type": "code",
   "execution_count": null,
   "metadata": {
    "execution": {
     "iopub.execute_input": "2023-03-07T21:28:55.837726Z",
     "iopub.status.busy": "2023-03-07T21:28:55.837341Z",
     "iopub.status.idle": "2023-03-07T21:28:56.351834Z",
     "shell.execute_reply": "2023-03-07T21:28:56.351396Z",
     "shell.execute_reply.started": "2023-03-07T21:28:55.837708Z"
    },
    "tags": []
   },
   "outputs": [],
   "source": [
    "bins = np.linspace(0.0,50.0,100)\n",
    "plt.title(\"Mount speed histogram - Theoretical\")\n",
    "plt.hist(badAzSpeeds, bins, alpha=0.5, color='red', label='Bad')\n",
    "plt.hist(goodAzSpeeds, bins, alpha=0.5, color='green', label='Good')\n",
    "plt.ylim(0,30)\n",
    "plt.legend()\n",
    "plt.xlabel(\"Azimuth drive speed (arcseconds/sec)\")\n",
    "plt.savefig('/home/craiglagegit/DATA/stiction_vs_speed_20230302/Mount_Fails_Speed_Histogram_20230302.pdf')"
   ]
  },
  {
   "cell_type": "markdown",
   "metadata": {},
   "source": [
    "## Now we look at the actual speeds from the EFD"
   ]
  },
  {
   "cell_type": "code",
   "execution_count": null,
   "metadata": {
    "execution": {
     "iopub.execute_input": "2023-03-07T20:43:58.168314Z",
     "iopub.status.busy": "2023-03-07T20:43:58.167943Z",
     "iopub.status.idle": "2023-03-07T20:44:00.389780Z",
     "shell.execute_reply": "2023-03-07T20:44:00.389158Z",
     "shell.execute_reply.started": "2023-03-07T20:43:58.168295Z"
    },
    "tags": []
   },
   "outputs": [],
   "source": [
    "client = EfdClient('summit_efd')\n",
    "butler = Butler('/repo/LATISS', collections=\"LATISS/raw/all\")"
   ]
  },
  {
   "cell_type": "code",
   "execution_count": null,
   "metadata": {
    "execution": {
     "iopub.execute_input": "2023-03-07T21:15:41.853166Z",
     "iopub.status.busy": "2023-03-07T21:15:41.852890Z",
     "iopub.status.idle": "2023-03-07T21:19:27.614383Z",
     "shell.execute_reply": "2023-03-07T21:19:27.613783Z",
     "shell.execute_reply.started": "2023-03-07T21:15:41.853149Z"
    },
    "jupyter": {
     "outputs_hidden": true
    },
    "tags": []
   },
   "outputs": [],
   "source": [
    "expIds_bad = df_bad['Exposure id'].values.astype('int')\n",
    "bad_motor1_speeds = []\n",
    "bad_motor2_speeds = []\n",
    "for expId in expIds_bad:\n",
    "    exp = butler.get('raw', detector=0, exposure=expId)\n",
    "    mData = exp.getMetadata()\n",
    "    start = Time(mData['DATE-BEG'], format='isot', scale='tai')\n",
    "    end = Time(mData['DATE-END'], format='isot', scale='tai')\n",
    "    mount_speed = await client.select_packed_time_series(\"lsst.sal.ATMCS.measuredMotorVelocity\", ['azimuthMotor1Velocity', 'azimuthMotor2Velocity'],\n",
    "                                              start.utc, end.utc)\n",
    "    bad_motor1_speeds.append(abs(mount_speed['azimuthMotor1Velocity'].values.mean()*3600.0))\n",
    "    bad_motor2_speeds.append(abs(mount_speed['azimuthMotor2Velocity'].values.mean()*3600.0))\n",
    "\n",
    "expIds_good = df_good['Exposure id'].values.astype('int')\n",
    "good_motor1_speeds = []\n",
    "good_motor2_speeds = []\n",
    "for expId in expIds_good:\n",
    "    exp = butler.get('raw', detector=0, exposure=expId)\n",
    "    mData = exp.getMetadata()\n",
    "    start = Time(mData['DATE-BEG'], format='isot', scale='tai')\n",
    "    end = Time(mData['DATE-END'], format='isot', scale='tai')\n",
    "    mount_speed = await client.select_packed_time_series(\"lsst.sal.ATMCS.measuredMotorVelocity\", ['azimuthMotor1Velocity', 'azimuthMotor2Velocity'],\n",
    "                                              start.utc, end.utc)\n",
    "    good_motor1_speeds.append(abs(mount_speed['azimuthMotor1Velocity'].values.mean()*3600.0))\n",
    "    good_motor2_speeds.append(abs(mount_speed['azimuthMotor2Velocity'].values.mean()*3600.0))\n"
   ]
  },
  {
   "cell_type": "code",
   "execution_count": null,
   "metadata": {
    "execution": {
     "iopub.execute_input": "2023-03-07T21:06:49.126751Z",
     "iopub.status.busy": "2023-03-07T21:06:49.126374Z",
     "iopub.status.idle": "2023-03-07T21:06:49.249859Z",
     "shell.execute_reply": "2023-03-07T21:06:49.249254Z",
     "shell.execute_reply.started": "2023-03-07T21:06:49.126734Z"
    },
    "tags": []
   },
   "outputs": [],
   "source": [
    "# Both motors have about the same speed\n",
    "plt.scatter(bad_motor1_speeds, bad_motor2_speeds)"
   ]
  },
  {
   "cell_type": "code",
   "execution_count": null,
   "metadata": {
    "execution": {
     "iopub.execute_input": "2023-03-07T21:12:50.241097Z",
     "iopub.status.busy": "2023-03-07T21:12:50.240416Z",
     "iopub.status.idle": "2023-03-07T21:12:50.341053Z",
     "shell.execute_reply": "2023-03-07T21:12:50.340628Z",
     "shell.execute_reply.started": "2023-03-07T21:12:50.241076Z"
    },
    "tags": []
   },
   "outputs": [],
   "source": [
    "# General agreement between EFD measured speed and theoretical speed, but more scatter than I would expect.\n",
    "plt.scatter(bad_motor1_speeds, badAzSpeeds)"
   ]
  },
  {
   "cell_type": "code",
   "execution_count": null,
   "metadata": {
    "execution": {
     "iopub.execute_input": "2023-03-07T21:23:34.563697Z",
     "iopub.status.busy": "2023-03-07T21:23:34.563304Z",
     "iopub.status.idle": "2023-03-07T21:23:35.059978Z",
     "shell.execute_reply": "2023-03-07T21:23:35.059555Z",
     "shell.execute_reply.started": "2023-03-07T21:23:34.563678Z"
    },
    "tags": []
   },
   "outputs": [],
   "source": [
    "bins = np.linspace(0.0,50.0,100)\n",
    "plt.title(\"Mount speed histogram - EFD\")\n",
    "plt.hist(bad_motor1_speeds, bins, alpha=0.5, color='red', label='Bad')\n",
    "plt.hist(good_motor1_speeds, bins, alpha=0.5, color='green', label='Good')\n",
    "plt.ylim(0,30)\n",
    "plt.legend()\n",
    "plt.xlabel(\"Azimuth drive speed (arcseconds/sec)\")\n",
    "plt.savefig('/home/craiglagegit/DATA/stiction_vs_speed_20230302/Mount_Fails_EFD_Speed_Histogram_20230302.pdf')"
   ]
  },
  {
   "cell_type": "code",
   "execution_count": null,
   "metadata": {},
   "outputs": [],
   "source": []
  }
 ],
 "metadata": {
  "kernelspec": {
   "display_name": "LSST",
   "language": "python",
   "name": "lsst"
  },
  "language_info": {
   "codemirror_mode": {
    "name": "ipython",
    "version": 3
   },
   "file_extension": ".py",
   "mimetype": "text/x-python",
   "name": "python",
   "nbconvert_exporter": "python",
   "pygments_lexer": "ipython3",
   "version": "3.10.9"
  }
 },
 "nbformat": 4,
 "nbformat_minor": 4
}
