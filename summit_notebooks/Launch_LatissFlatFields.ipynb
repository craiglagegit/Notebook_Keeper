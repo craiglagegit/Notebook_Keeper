{
 "cells": [
  {
   "cell_type": "markdown",
   "metadata": {},
   "source": [
    "# Take a set of calibrations\n",
    "The script is built for the scriptQueue but for the moment should be run from the notebook"
   ]
  },
  {
   "cell_type": "markdown",
   "metadata": {},
   "source": [
    "This script is used to take flats with the AuxTel calibration illumination system. <br>\n",
    "It is being used as a stand-in until the proper functionality is build into the control system."
   ]
  },
  {
   "cell_type": "code",
   "execution_count": null,
   "metadata": {
    "execution": {
     "iopub.execute_input": "2023-01-09T18:51:31.492589Z",
     "iopub.status.busy": "2023-01-09T18:51:31.492216Z",
     "iopub.status.idle": "2023-01-09T18:51:35.777348Z",
     "shell.execute_reply": "2023-01-09T18:51:35.776703Z",
     "shell.execute_reply.started": "2023-01-09T18:51:31.492571Z"
    },
    "tags": []
   },
   "outputs": [],
   "source": [
    "import sys\n",
    "import asyncio\n",
    "import time\n",
    "import os\n",
    "\n",
    "import numpy as np\n",
    "import logging \n",
    "import yaml\n",
    "import astropy\n",
    "\n",
    "from lsst.ts import salobj\n",
    "# from lsst.ts.externalscripts.auxtel.latiss_take_flats import LatissTakeFlats\n",
    "from lsst.ts.externalscripts.auxtel import LatissTakeFlats\n",
    "\n",
    "from lsst.ts.idl.enums.Script import ScriptState\n",
    "\n",
    "from lsst.ts.observing.utilities.decorated_logger import DecoratedLogger"
   ]
  },
  {
   "cell_type": "code",
   "execution_count": null,
   "metadata": {
    "execution": {
     "iopub.execute_input": "2022-12-13T19:04:29.781909Z",
     "iopub.status.busy": "2022-12-13T19:04:29.781767Z",
     "iopub.status.idle": "2022-12-13T19:04:29.784215Z",
     "shell.execute_reply": "2022-12-13T19:04:29.783856Z",
     "shell.execute_reply.started": "2022-12-13T19:04:29.781894Z"
    },
    "tags": []
   },
   "outputs": [],
   "source": [
    "logger = DecoratedLogger.get_decorated_logger()\n",
    "logger.level = logging.DEBUG"
   ]
  },
  {
   "cell_type": "code",
   "execution_count": null,
   "metadata": {},
   "outputs": [],
   "source": []
  },
  {
   "cell_type": "markdown",
   "metadata": {},
   "source": [
    "## Define funtion used to create the instrument setup for each flat that gets passed to the script"
   ]
  },
  {
   "cell_type": "code",
   "execution_count": null,
   "metadata": {
    "execution": {
     "iopub.execute_input": "2022-12-13T19:04:29.785960Z",
     "iopub.status.busy": "2022-12-13T19:04:29.785826Z",
     "iopub.status.idle": "2022-12-13T19:04:29.793344Z",
     "shell.execute_reply": "2022-12-13T19:04:29.792986Z",
     "shell.execute_reply.started": "2022-12-13T19:04:29.785947Z"
    },
    "tags": []
   },
   "outputs": [],
   "source": [
    "def step_config(min_wave: float=500, max_wave: float=700, w_steps: int=10, grating: int = 1, \n",
    "                ent_slit: float = 4.5, exit_slit: float = 4.5, exp_time: float = 3,\n",
    "                n_exp: int = 3, fs_exp_time: int = 3, fs_n_exp: int =1, em_exp_time: float=3, em_n_exp:int=1):\n",
    "    waves = np.arange(min_wave,max_wave,w_steps) # r-band\n",
    "    \n",
    "    # config=dict(steps=[])\n",
    "    steps = []\n",
    "    \n",
    "    spec_res = 999 # dummy value for now\n",
    "    \n",
    "    for wave in waves:\n",
    "        step = {\n",
    "    \"wavelength\": int(wave), # changed from float\n",
    "    \"grating\": grating,  # enums.ATMonochromator.Grating.RED,  --> Enums are wrong!\n",
    "    \"spec_res\": -1, # place holder until we know this\n",
    "    \"exit_slit_width\": exit_slit,\n",
    "    \"entrance_slit_width\": ent_slit,\n",
    "    \"exp_time\": exp_time,\n",
    "    \"n_exp\": n_exp,\n",
    "    \"fs_exp_time\": fs_exp_time,\n",
    "    \"fs_n_exp\": fs_n_exp,\n",
    "    \"em_exp_time\": em_exp_time,\n",
    "    \"em_n_exp\": em_n_exp}\n",
    "    \n",
    "        steps.append(step)\n",
    "    \n",
    "    # convert to yaml\n",
    "    steps_for_script = yaml.safe_dump(steps)\n",
    "    return steps_for_script"
   ]
  },
  {
   "cell_type": "markdown",
   "metadata": {
    "execution": {
     "iopub.execute_input": "2022-12-12T17:14:28.707685Z",
     "iopub.status.busy": "2022-12-12T17:14:28.706994Z",
     "iopub.status.idle": "2022-12-12T17:14:28.710806Z",
     "shell.execute_reply": "2022-12-12T17:14:28.710312Z",
     "shell.execute_reply.started": "2022-12-12T17:14:28.707665Z"
    },
    "tags": []
   },
   "source": [
    "## Declare LATISS filter/grating combination"
   ]
  },
  {
   "cell_type": "code",
   "execution_count": null,
   "metadata": {
    "execution": {
     "iopub.execute_input": "2022-12-13T19:04:29.795134Z",
     "iopub.status.busy": "2022-12-13T19:04:29.794972Z",
     "iopub.status.idle": "2022-12-13T19:04:29.800764Z",
     "shell.execute_reply": "2022-12-13T19:04:29.800376Z",
     "shell.execute_reply.started": "2022-12-13T19:04:29.795121Z"
    },
    "tags": []
   },
   "outputs": [],
   "source": [
    "latiss_filter = 'SDSSg_65mm' #'g'  # must be, g, r, i\n",
    "latiss_grating= 'empty_1'"
   ]
  },
  {
   "cell_type": "code",
   "execution_count": null,
   "metadata": {
    "execution": {
     "iopub.execute_input": "2022-12-13T19:04:29.804743Z",
     "iopub.status.busy": "2022-12-13T19:04:29.804612Z",
     "iopub.status.idle": "2022-12-13T19:04:29.807848Z",
     "shell.execute_reply": "2022-12-13T19:04:29.807491Z",
     "shell.execute_reply.started": "2022-12-13T19:04:29.804730Z"
    },
    "tags": []
   },
   "outputs": [],
   "source": [
    "if latiss_filter =='SDSSg_65mm':\n",
    "    min_wave = 420; max_wave = 530  # g-band\n",
    "elif latiss_filter == 'r':\n",
    "    min_wave = 550; max_wave = 690  # r-band\n",
    "elif latiss_filter == 'i':\n",
    "    min_wave = 700; max_wave = 890  # i-band\n",
    "else:\n",
    "    raise \"Filter not supported\""
   ]
  },
  {
   "cell_type": "code",
   "execution_count": null,
   "metadata": {
    "execution": {
     "iopub.execute_input": "2022-12-13T19:04:29.809594Z",
     "iopub.status.busy": "2022-12-13T19:04:29.809425Z",
     "iopub.status.idle": "2022-12-13T19:04:29.818869Z",
     "shell.execute_reply": "2022-12-13T19:04:29.818506Z",
     "shell.execute_reply.started": "2022-12-13T19:04:29.809581Z"
    },
    "tags": []
   },
   "outputs": [],
   "source": [
    "w_steps = 20  # steps over the wavelength range\n",
    "n_exp = 5 # number of LATISS exposures\n",
    "exp_time = 5 # exposure time for each exposure\n",
    "# Fiber spectrograph and electrometer must currently use the same exposure time.\n",
    "fs_exp_time = exp_time \n",
    "em_exp_time = exp_time\n",
    "# following step creates the sequence\n",
    "steps_for_config = step_config(min_wave=min_wave, max_wave=max_wave, w_steps=w_steps, \n",
    "                               n_exp=n_exp, fs_exp_time= fs_exp_time, em_exp_time=em_exp_time  )"
   ]
  },
  {
   "cell_type": "code",
   "execution_count": null,
   "metadata": {},
   "outputs": [],
   "source": []
  },
  {
   "cell_type": "markdown",
   "metadata": {},
   "source": [
    "## Instantiate the Script\n",
    "\n",
    "First derive and index for the script that is specific to your user"
   ]
  },
  {
   "cell_type": "code",
   "execution_count": null,
   "metadata": {
    "execution": {
     "iopub.execute_input": "2022-12-13T19:04:29.820623Z",
     "iopub.status.busy": "2022-12-13T19:04:29.820451Z",
     "iopub.status.idle": "2022-12-13T19:04:29.828606Z",
     "shell.execute_reply": "2022-12-13T19:04:29.828257Z",
     "shell.execute_reply.started": "2022-12-13T19:04:29.820609Z"
    },
    "tags": []
   },
   "outputs": [],
   "source": [
    "logger.info(f'Your UID is {os.getuid()}')\n",
    "index=os.getuid()*10+np.random.randint(0,9)\n",
    "logger.info(f'The generated index is {index}')"
   ]
  },
  {
   "cell_type": "markdown",
   "metadata": {},
   "source": [
    "Instantiate the script then start all remotes"
   ]
  },
  {
   "cell_type": "code",
   "execution_count": null,
   "metadata": {
    "execution": {
     "iopub.execute_input": "2022-12-13T19:04:29.839400Z",
     "iopub.status.busy": "2022-12-13T19:04:29.839235Z",
     "iopub.status.idle": "2022-12-13T19:04:30.675600Z",
     "shell.execute_reply": "2022-12-13T19:04:30.675204Z",
     "shell.execute_reply.started": "2022-12-13T19:04:29.839387Z"
    },
    "tags": []
   },
   "outputs": [],
   "source": [
    "script = LatissTakeFlats(index=index, remotes=True)  # this essentially calls the init method\n",
    "await script.start_task"
   ]
  },
  {
   "cell_type": "markdown",
   "metadata": {},
   "source": [
    "Set the script to have a DEBUG log level"
   ]
  },
  {
   "cell_type": "code",
   "execution_count": null,
   "metadata": {
    "execution": {
     "iopub.execute_input": "2022-12-13T19:04:33.517106Z",
     "iopub.status.busy": "2022-12-13T19:04:33.516747Z",
     "iopub.status.idle": "2022-12-13T19:04:33.519555Z",
     "shell.execute_reply": "2022-12-13T19:04:33.519177Z",
     "shell.execute_reply.started": "2022-12-13T19:04:33.517089Z"
    },
    "tags": []
   },
   "outputs": [],
   "source": [
    "# !conda info envs"
   ]
  },
  {
   "cell_type": "code",
   "execution_count": null,
   "metadata": {
    "execution": {
     "iopub.execute_input": "2022-12-13T19:04:34.214295Z",
     "iopub.status.busy": "2022-12-13T19:04:34.213951Z",
     "iopub.status.idle": "2022-12-13T19:04:34.216788Z",
     "shell.execute_reply": "2022-12-13T19:04:34.216411Z",
     "shell.execute_reply.started": "2022-12-13T19:04:34.214277Z"
    },
    "tags": []
   },
   "outputs": [],
   "source": [
    "script.log.level = logging.DEBUG"
   ]
  },
  {
   "cell_type": "markdown",
   "metadata": {},
   "source": [
    "Print the available instrument filter and gratings. <br>\n",
    "This is useful both for slewing and for the configuration steps below"
   ]
  },
  {
   "cell_type": "code",
   "execution_count": null,
   "metadata": {
    "execution": {
     "iopub.execute_input": "2022-12-13T19:04:35.246707Z",
     "iopub.status.busy": "2022-12-13T19:04:35.246345Z",
     "iopub.status.idle": "2022-12-13T19:04:35.250312Z",
     "shell.execute_reply": "2022-12-13T19:04:35.249939Z",
     "shell.execute_reply.started": "2022-12-13T19:04:35.246690Z"
    },
    "tags": []
   },
   "outputs": [],
   "source": [
    "inst_setup = await script.latiss.get_available_instrument_setup()\n",
    "logger.info(f'filters are: {inst_setup[0]},\\ngratings are: {inst_setup[1]}')"
   ]
  },
  {
   "cell_type": "markdown",
   "metadata": {},
   "source": [
    "## Configure the script"
   ]
  },
  {
   "cell_type": "code",
   "execution_count": null,
   "metadata": {
    "execution": {
     "iopub.execute_input": "2022-12-13T19:04:36.501329Z",
     "iopub.status.busy": "2022-12-13T19:04:36.500972Z",
     "iopub.status.idle": "2022-12-13T19:04:36.505342Z",
     "shell.execute_reply": "2022-12-13T19:04:36.504959Z",
     "shell.execute_reply.started": "2022-12-13T19:04:36.501311Z"
    },
    "tags": []
   },
   "outputs": [],
   "source": [
    "configuration = yaml.safe_dump({\"latiss_filter\": latiss_filter, \n",
    "                                \"latiss_grating\": latiss_grating,\n",
    "                                \"sequences\": steps_for_config,\n",
    "                                })"
   ]
  },
  {
   "cell_type": "markdown",
   "metadata": {},
   "source": [
    "Set script state to UNCONFIGURED. <br>\n",
    "The next line is not required the first time the script is run, however, in each additional instance the cell is run, an error will be thrown if it is not included. <br>\n",
    "Therefore, it is included here despite being a non-operation in the first instance."
   ]
  },
  {
   "cell_type": "code",
   "execution_count": null,
   "metadata": {
    "execution": {
     "iopub.execute_input": "2022-12-13T19:04:37.636292Z",
     "iopub.status.busy": "2022-12-13T19:04:37.635936Z",
     "iopub.status.idle": "2022-12-13T19:04:37.638953Z",
     "shell.execute_reply": "2022-12-13T19:04:37.638453Z",
     "shell.execute_reply.started": "2022-12-13T19:04:37.636276Z"
    },
    "tags": []
   },
   "outputs": [],
   "source": [
    "# ENUMS ARE WRONG!\n",
    "# from lsst.ts.idl import enums\n",
    "# enums.ATMonochromator.Grating.RED"
   ]
  },
  {
   "cell_type": "code",
   "execution_count": null,
   "metadata": {
    "execution": {
     "iopub.execute_input": "2022-12-13T19:04:41.091416Z",
     "iopub.status.busy": "2022-12-13T19:04:41.091050Z",
     "iopub.status.idle": "2022-12-13T19:04:41.094548Z",
     "shell.execute_reply": "2022-12-13T19:04:41.094053Z",
     "shell.execute_reply.started": "2022-12-13T19:04:41.091398Z"
    },
    "tags": []
   },
   "outputs": [],
   "source": [
    "await script.set_state(ScriptState.UNCONFIGURED)"
   ]
  },
  {
   "cell_type": "markdown",
   "metadata": {},
   "source": [
    "#### Put the ScriptState to CONFIGURED"
   ]
  },
  {
   "cell_type": "code",
   "execution_count": null,
   "metadata": {
    "execution": {
     "iopub.execute_input": "2022-12-13T19:04:42.697214Z",
     "iopub.status.busy": "2022-12-13T19:04:42.696867Z",
     "iopub.status.idle": "2022-12-13T19:04:42.706066Z",
     "shell.execute_reply": "2022-12-13T19:04:42.705526Z",
     "shell.execute_reply.started": "2022-12-13T19:04:42.697198Z"
    },
    "tags": []
   },
   "outputs": [],
   "source": [
    "config_data = script.cmd_configure.DataType()\n",
    "config_data.config = configuration\n",
    "await script.do_configure(config_data)"
   ]
  },
  {
   "cell_type": "markdown",
   "metadata": {},
   "source": [
    "Set these script parameters to None to verify a re-reduction does not happen of the images"
   ]
  },
  {
   "cell_type": "markdown",
   "metadata": {},
   "source": [
    "### Set groupID and launch the script\n",
    "This sets the same group ID for all exposures taken in the script"
   ]
  },
  {
   "cell_type": "code",
   "execution_count": null,
   "metadata": {
    "execution": {
     "iopub.execute_input": "2022-12-13T19:04:45.232408Z",
     "iopub.status.busy": "2022-12-13T19:04:45.232056Z",
     "iopub.status.idle": "2022-12-13T19:04:47.002338Z",
     "shell.execute_reply": "2022-12-13T19:04:47.001639Z",
     "shell.execute_reply.started": "2022-12-13T19:04:45.232390Z"
    },
    "tags": []
   },
   "outputs": [],
   "source": [
    "group_id_data = script.cmd_setGroupId.DataType(\n",
    "                groupId=astropy.time.Time.now().isot\n",
    "            )\n",
    "await script.do_setGroupId(group_id_data)\n",
    "await script.arun()"
   ]
  },
  {
   "cell_type": "markdown",
   "metadata": {},
   "source": [
    "## Elana Test: Loop through filters, wavelengths, and gratings\n",
    "\n",
    "Note: will loop through g, r, i\n",
    "\n",
    "Should we also loop through illuminator gratings? And what is the appropriate exposure time?"
   ]
  },
  {
   "cell_type": "code",
   "execution_count": null,
   "metadata": {},
   "outputs": [],
   "source": []
  }
 ],
 "metadata": {
  "kernelspec": {
   "display_name": "LSST",
   "language": "python",
   "name": "lsst"
  },
  "language_info": {
   "codemirror_mode": {
    "name": "ipython",
    "version": 3
   },
   "file_extension": ".py",
   "mimetype": "text/x-python",
   "name": "python",
   "nbconvert_exporter": "python",
   "pygments_lexer": "ipython3",
   "version": "3.10.6"
  }
 },
 "nbformat": 4,
 "nbformat_minor": 4
}
