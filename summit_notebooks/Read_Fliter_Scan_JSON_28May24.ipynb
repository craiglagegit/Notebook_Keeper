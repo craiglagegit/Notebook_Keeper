{
 "cells": [
  {
   "cell_type": "code",
   "execution_count": null,
   "id": "47d7b30a-0085-4c0d-b3a8-d1b815ac5e3c",
   "metadata": {},
   "outputs": [],
   "source": [
    "import json"
   ]
  },
  {
   "cell_type": "code",
   "execution_count": null,
   "id": "576ad78e-b686-4879-a300-ad7064ba8a40",
   "metadata": {
    "execution": {
     "iopub.execute_input": "2024-05-28T18:27:51.455737Z",
     "iopub.status.busy": "2024-05-28T18:27:51.455347Z",
     "iopub.status.idle": "2024-05-28T18:27:51.460764Z",
     "shell.execute_reply": "2024-05-28T18:27:51.459937Z",
     "shell.execute_reply.started": "2024-05-28T18:27:51.455707Z"
    }
   },
   "outputs": [],
   "source": [
    "filename = '/home/cslage/DATA/Script_200338_publish_sequence_summary_2024-05-28T18_11_16.294.json'\n",
    "\n",
    "def js_r(filename: str):\n",
    "    with open(filename) as f_in:\n",
    "        return json.load(f_in)"
   ]
  },
  {
   "cell_type": "code",
   "execution_count": null,
   "id": "0f6c4fe1-a2a5-4aa6-90e0-c66b6156af9a",
   "metadata": {
    "execution": {
     "iopub.execute_input": "2024-05-28T18:27:52.432680Z",
     "iopub.status.busy": "2024-05-28T18:27:52.432421Z",
     "iopub.status.idle": "2024-05-28T18:27:52.437120Z",
     "shell.execute_reply": "2024-05-28T18:27:52.436518Z",
     "shell.execute_reply.started": "2024-05-28T18:27:52.432662Z"
    }
   },
   "outputs": [],
   "source": [
    "dict = js_r(filename)"
   ]
  },
  {
   "cell_type": "code",
   "execution_count": null,
   "id": "3a4ae1c7-9656-469d-bf7a-54d88fe2abda",
   "metadata": {
    "execution": {
     "iopub.execute_input": "2024-05-28T18:27:58.422103Z",
     "iopub.status.busy": "2024-05-28T18:27:58.421711Z",
     "iopub.status.idle": "2024-05-28T18:27:58.427896Z",
     "shell.execute_reply": "2024-05-28T18:27:58.427086Z",
     "shell.execute_reply.started": "2024-05-28T18:27:58.422073Z"
    }
   },
   "outputs": [],
   "source": [
    "dict.keys()"
   ]
  },
  {
   "cell_type": "code",
   "execution_count": null,
   "id": "7911a5eb-b310-437c-a613-84c4e744acb5",
   "metadata": {
    "execution": {
     "iopub.execute_input": "2024-05-28T18:28:18.027728Z",
     "iopub.status.busy": "2024-05-28T18:28:18.027355Z",
     "iopub.status.idle": "2024-05-28T18:28:18.046112Z",
     "shell.execute_reply": "2024-05-28T18:28:18.045495Z",
     "shell.execute_reply.started": "2024-05-28T18:28:18.027697Z"
    },
    "jupyter": {
     "outputs_hidden": true
    }
   },
   "outputs": [],
   "source": [
    "dict['steps']"
   ]
  },
  {
   "cell_type": "code",
   "execution_count": null,
   "id": "fd5415a6-dbf0-4ceb-bd3b-71e731d7907d",
   "metadata": {
    "execution": {
     "iopub.execute_input": "2024-05-28T18:32:35.619233Z",
     "iopub.status.busy": "2024-05-28T18:32:35.618581Z",
     "iopub.status.idle": "2024-05-28T18:32:35.624628Z",
     "shell.execute_reply": "2024-05-28T18:32:35.623895Z",
     "shell.execute_reply.started": "2024-05-28T18:32:35.619200Z"
    }
   },
   "outputs": [],
   "source": [
    "dict['sequence_name']"
   ]
  },
  {
   "cell_type": "code",
   "execution_count": null,
   "id": "01ec7a11-8f52-4e88-b6c3-8fe568b1ce23",
   "metadata": {
    "execution": {
     "iopub.execute_input": "2024-05-28T18:33:37.246193Z",
     "iopub.status.busy": "2024-05-28T18:33:37.245827Z",
     "iopub.status.idle": "2024-05-28T18:33:37.251484Z",
     "shell.execute_reply": "2024-05-28T18:33:37.250788Z",
     "shell.execute_reply.started": "2024-05-28T18:33:37.246167Z"
    }
   },
   "outputs": [],
   "source": [
    "dict['steps'][0]['wavelength']"
   ]
  },
  {
   "cell_type": "code",
   "execution_count": null,
   "id": "d44271f9-dfd7-4724-9c49-051efb501ab1",
   "metadata": {
    "execution": {
     "iopub.execute_input": "2024-05-28T18:41:30.366610Z",
     "iopub.status.busy": "2024-05-28T18:41:30.366236Z",
     "iopub.status.idle": "2024-05-28T18:41:30.373373Z",
     "shell.execute_reply": "2024-05-28T18:41:30.372473Z",
     "shell.execute_reply.started": "2024-05-28T18:41:30.366581Z"
    }
   },
   "outputs": [],
   "source": [
    "dict['steps'][0]['latiss_exposure_info']['2024052800043']"
   ]
  },
  {
   "cell_type": "code",
   "execution_count": null,
   "id": "d7ba1cd3-3ce4-4bcd-a469-7a68f9dd3127",
   "metadata": {
    "execution": {
     "iopub.execute_input": "2024-05-28T18:43:43.737567Z",
     "iopub.status.busy": "2024-05-28T18:43:43.737181Z",
     "iopub.status.idle": "2024-05-28T18:43:43.745257Z",
     "shell.execute_reply": "2024-05-28T18:43:43.744434Z",
     "shell.execute_reply.started": "2024-05-28T18:43:43.737537Z"
    }
   },
   "outputs": [],
   "source": [
    "exps = ['Filter', 'No Filter']\n",
    "for i in range(13):\n",
    "    print(dict['steps'][i]['wavelength'])\n",
    "    for j, key in enumerate(dict['steps'][i]['latiss_exposure_info'].keys()):\n",
    "        print(key, exps[j])\n",
    "        print(dict['steps'][i]['latiss_exposure_info'][key]['fiber_spectrum_exposure_result'][0])\n",
    "        print(dict['steps'][i]['latiss_exposure_info'][key]['electrometer_exposure_result'][0])\n",
    "\n",
    "    "
   ]
  },
  {
   "cell_type": "code",
   "execution_count": null,
   "id": "3a10c377-a18d-48ab-8227-04f8394a477c",
   "metadata": {},
   "outputs": [],
   "source": []
  }
 ],
 "metadata": {
  "kernelspec": {
   "display_name": "LSST",
   "language": "python",
   "name": "lsst"
  },
  "language_info": {
   "codemirror_mode": {
    "name": "ipython",
    "version": 3
   },
   "file_extension": ".py",
   "mimetype": "text/x-python",
   "name": "python",
   "nbconvert_exporter": "python",
   "pygments_lexer": "ipython3",
   "version": "3.11.7"
  }
 },
 "nbformat": 4,
 "nbformat_minor": 5
}
