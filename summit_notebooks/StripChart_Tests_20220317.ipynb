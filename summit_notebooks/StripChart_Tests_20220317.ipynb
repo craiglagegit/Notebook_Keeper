{
 "cells": [
  {
   "cell_type": "code",
   "execution_count": null,
   "metadata": {},
   "outputs": [],
   "source": [
    "import sys\n",
    "import asyncio\n",
    "import time\n",
    "import os\n",
    "import numpy as np\n",
    "from lsst.ts import salobj\n",
    "from lsst.ts.observatory.control.auxtel.atcs import ATCS\n",
    "from lsst.ts.observatory.control.auxtel.latiss import LATISS\n",
    "from astropy.time import Time, TimeDelta"
   ]
  },
  {
   "cell_type": "code",
   "execution_count": null,
   "metadata": {},
   "outputs": [],
   "source": [
    "import logging\n",
    "stream_handler = logging.StreamHandler(sys.stdout)\n",
    "logger = logging.getLogger()\n",
    "logger.addHandler(stream_handler)\n",
    "logger.level = logging.DEBUG"
   ]
  },
  {
   "cell_type": "code",
   "execution_count": null,
   "metadata": {
    "jupyter": {
     "outputs_hidden": true
    },
    "tags": []
   },
   "outputs": [],
   "source": [
    "#Start classes\n",
    "domain = salobj.Domain()\n",
    "await asyncio.sleep(10) # This can be removed in the future...\n",
    "#atcs = ATCS(domain)\n",
    "latiss = LATISS(domain)\n",
    "await asyncio.gather(latiss.start_task)"
   ]
  },
  {
   "cell_type": "code",
   "execution_count": null,
   "metadata": {
    "tags": []
   },
   "outputs": [],
   "source": [
    "# enable components\n",
    "#await atcs.enable({\"atdome\": \"current\", \"ataos\": \"current\", \"athexapod\": \"current\"})\n",
    "await latiss.enable()"
   ]
  },
  {
   "cell_type": "code",
   "execution_count": null,
   "metadata": {},
   "outputs": [],
   "source": [
    "# ATCamera didn't come up\n",
    "tmp=await latiss.rem.atcamera.cmd_start.set_start(timeout=10)\n",
    "print(tmp)"
   ]
  },
  {
   "cell_type": "code",
   "execution_count": null,
   "metadata": {
    "tags": []
   },
   "outputs": [],
   "source": [
    "await salobj.set_summary_state(latiss.rem.atcamera, salobj.State.ENABLED)"
   ]
  },
  {
   "cell_type": "code",
   "execution_count": null,
   "metadata": {
    "tags": []
   },
   "outputs": [],
   "source": [
    "# enable components\n",
    "#await atcs.enable({\"atdome\": \"current\", \"ataos\": \"current\", \"athexapod\": \"current\"})\n",
    "await latiss.enable()"
   ]
  },
  {
   "cell_type": "code",
   "execution_count": null,
   "metadata": {},
   "outputs": [],
   "source": [
    "# ATArchiver also didn't come up\n",
    "tmp=await latiss.rem.atarchiver.cmd_start.set_start()\n",
    "print(tmp)"
   ]
  },
  {
   "cell_type": "code",
   "execution_count": null,
   "metadata": {
    "tags": []
   },
   "outputs": [],
   "source": [
    "await salobj.set_summary_state(latiss.rem.atarchiver, salobj.State.ENABLED)"
   ]
  },
  {
   "cell_type": "code",
   "execution_count": null,
   "metadata": {},
   "outputs": [],
   "source": [
    "# All up now"
   ]
  },
  {
   "cell_type": "code",
   "execution_count": null,
   "metadata": {},
   "outputs": [],
   "source": [
    "# Take a bias to see if everything is working.\n",
    "await latiss.take_bias(1)"
   ]
  },
  {
   "cell_type": "code",
   "execution_count": null,
   "metadata": {
    "tags": []
   },
   "outputs": [],
   "source": [
    "# Take 10 biases \n",
    "# Added wait to stop killing the recent images\n",
    "for i in range(10):\n",
    "    await asyncio.sleep(2.0)\n",
    "    await latiss.take_bias(1)"
   ]
  },
  {
   "cell_type": "code",
   "execution_count": null,
   "metadata": {},
   "outputs": [],
   "source": [
    "# Take a flat to see if everything is working.\n",
    "await latiss.take_flats(2.0, 1)"
   ]
  },
  {
   "cell_type": "code",
   "execution_count": null,
   "metadata": {},
   "outputs": [],
   "source": [
    "# Now try the OCS version of the shifting"
   ]
  },
  {
   "cell_type": "code",
   "execution_count": null,
   "metadata": {},
   "outputs": [],
   "source": [
    "# Needed this because the set below failed in the middle\n",
    "await latiss.rem.atcamera.cmd_disableCalibration.set_start()"
   ]
  },
  {
   "cell_type": "code",
   "execution_count": null,
   "metadata": {},
   "outputs": [],
   "source": [
    "await latiss.rem.atcamera.cmd_enableCalibration.set_start()\n",
    "await latiss.rem.atcamera.cmd_clear.set_start(nClears=2)\n",
    "keyValueMap = f\"groupId: {Time.now().isot},imageType: ENGTEST\"\n",
    "print(keyValueMap)\n",
    "latiss.rem.atcamera.cmd_startImage.set(shutter=True, keyValueMap=keyValueMap, timeout=100.0)\n",
    "await latiss.rem.atcamera.cmd_startImage.start()\n",
    "for i in range(4):\n",
    "    await asyncio.sleep(2.0)\n",
    "    latiss.rem.atcamera.cmd_discardRows.set(nRows=500)\n",
    "    await latiss.rem.atcamera.cmd_discardRows.start()\n",
    "await asyncio.sleep(2.0)\n",
    "await latiss.rem.atcamera.cmd_endImage.start()\n",
    "await latiss.rem.atcamera.cmd_disableCalibration.start()\n"
   ]
  },
  {
   "cell_type": "code",
   "execution_count": null,
   "metadata": {},
   "outputs": [],
   "source": [
    "await latiss.rem.atcamera.cmd_enableCalibration.set_start()\n",
    "await latiss.rem.atcamera.cmd_clear.set_start(nClears=2)\n",
    "keyValueMap = f\"groupId: {Time.now().isot},imageType: ENGTEST\"\n",
    "print(keyValueMap)\n",
    "latiss.rem.atcamera.cmd_startImage.set(shutter=True, keyValueMap=keyValueMap, timeout=100.0)\n",
    "await latiss.rem.atcamera.cmd_startImage.start()\n",
    "for i in range(8):\n",
    "    await asyncio.sleep(2.0)\n",
    "    latiss.rem.atcamera.cmd_discardRows.set(nRows=100)\n",
    "    await latiss.rem.atcamera.cmd_discardRows.start()\n",
    "await asyncio.sleep(2.0)\n",
    "await latiss.rem.atcamera.cmd_endImage.start()\n",
    "await latiss.rem.atcamera.cmd_disableCalibration.start()\n"
   ]
  },
  {
   "cell_type": "code",
   "execution_count": null,
   "metadata": {
    "tags": []
   },
   "outputs": [],
   "source": [
    "# This is the one to use\n",
    "# HD48115\n",
    "# Seq #a 213 and 214\n",
    "exptime = 2.0\n",
    "expcount = 20\n",
    "rowshift = 100\n",
    "buffer = 30.0 # Time buffer for timeout\n",
    "timeout = exptime * expcount + buffer\n",
    "\n",
    "await latiss.rem.atcamera.cmd_enableCalibration.set_start()\n",
    "await latiss.rem.atcamera.cmd_clear.set_start(nClears=2)\n",
    "keyValueMap = f\"groupId: {Time.now().isot},imageType: ENGTEST\"\n",
    "print(keyValueMap)\n",
    "latiss.rem.atcamera.cmd_startImage.set(shutter=True, keyValueMap=keyValueMap, timeout=timeout)\n",
    "await latiss.rem.atcamera.cmd_startImage.start()\n",
    "for i in range(expcount - 1):\n",
    "    print(f\"Exposing {exptime} seconds.\")\n",
    "    await asyncio.sleep(exptime)\n",
    "    latiss.rem.atcamera.cmd_discardRows.set(nRows=rowshift)\n",
    "    print(f\"Shifting {rowshift} rows.\")\n",
    "    await latiss.rem.atcamera.cmd_discardRows.start()\n",
    "await asyncio.sleep(exptime)\n",
    "await latiss.rem.atcamera.cmd_endImage.start()\n",
    "await latiss.rem.atcamera.cmd_disableCalibration.start()\n"
   ]
  },
  {
   "cell_type": "code",
   "execution_count": null,
   "metadata": {
    "tags": []
   },
   "outputs": [],
   "source": [
    "# Tried running donuts on HD48115\n",
    "# Why did this fail?\n",
    "\n",
    "exptime = 10.0\n",
    "expcount = 10\n",
    "rowshift = 200\n",
    "buffer = 30.0 # Time buffer for timeout\n",
    "timeout = exptime * expcount + buffer\n",
    "\n",
    "await latiss.rem.atcamera.cmd_enableCalibration.set_start()\n",
    "await latiss.rem.atcamera.cmd_clear.set_start(nClears=2)\n",
    "keyValueMap = f\"groupId: {Time.now().isot},imageType: ENGTEST\"\n",
    "print(keyValueMap)\n",
    "latiss.rem.atcamera.cmd_startImage.set(shutter=True, keyValueMap=keyValueMap, timeout=timeout)\n",
    "await latiss.rem.atcamera.cmd_startImage.start()\n",
    "for i in range(expcount - 1):\n",
    "    print(f\"Exposing {exptime} seconds.\")\n",
    "    await asyncio.sleep(exptime)\n",
    "    latiss.rem.atcamera.cmd_discardRows.set(nRows=rowshift)\n",
    "    print(f\"Shifting {rowshift} rows.\")\n",
    "    await latiss.rem.atcamera.cmd_discardRows.start()\n",
    "await asyncio.sleep(exptime)\n",
    "await latiss.rem.atcamera.cmd_endImage.start()\n",
    "await latiss.rem.atcamera.cmd_disableCalibration.start()\n"
   ]
  },
  {
   "cell_type": "code",
   "execution_count": null,
   "metadata": {},
   "outputs": [],
   "source": [
    "# Needed this because the set above failed\n",
    "await latiss.rem.atcamera.cmd_disableCalibration.set_start()"
   ]
  },
  {
   "cell_type": "code",
   "execution_count": null,
   "metadata": {},
   "outputs": [],
   "source": [
    "# Take a flat to see if everything is working.\n",
    "await latiss.take_flats(2.0, 1)"
   ]
  },
  {
   "cell_type": "code",
   "execution_count": null,
   "metadata": {},
   "outputs": [],
   "source": [
    "# Doing it step-by-step.  This is image 29\n",
    "await latiss.rem.atcamera.cmd_enableCalibration.set_start()"
   ]
  },
  {
   "cell_type": "code",
   "execution_count": null,
   "metadata": {},
   "outputs": [],
   "source": [
    "await latiss.rem.atcamera.cmd_clear.set_start(nClears=2)"
   ]
  },
  {
   "cell_type": "code",
   "execution_count": null,
   "metadata": {},
   "outputs": [],
   "source": [
    "keyValueMap = f\"groupId: {Time.now().isot},imageType: ENGTEST\""
   ]
  },
  {
   "cell_type": "code",
   "execution_count": null,
   "metadata": {},
   "outputs": [],
   "source": [
    "latiss.rem.atcamera.cmd_startImage.set(shutter=True, keyValueMap=keyValueMap, timeout=100.0)"
   ]
  },
  {
   "cell_type": "code",
   "execution_count": null,
   "metadata": {},
   "outputs": [],
   "source": [
    "await latiss.rem.atcamera.cmd_startImage.start()"
   ]
  },
  {
   "cell_type": "code",
   "execution_count": null,
   "metadata": {},
   "outputs": [],
   "source": [
    "await asyncio.sleep(10.0)"
   ]
  },
  {
   "cell_type": "code",
   "execution_count": null,
   "metadata": {},
   "outputs": [],
   "source": [
    "latiss.rem.atcamera.cmd_discardRows.set(nRows=500)"
   ]
  },
  {
   "cell_type": "code",
   "execution_count": null,
   "metadata": {},
   "outputs": [],
   "source": [
    "await latiss.rem.atcamera.cmd_discardRows.start()"
   ]
  },
  {
   "cell_type": "code",
   "execution_count": null,
   "metadata": {},
   "outputs": [],
   "source": [
    "await latiss.rem.atcamera.cmd_endImage.set_start()"
   ]
  },
  {
   "cell_type": "code",
   "execution_count": null,
   "metadata": {},
   "outputs": [],
   "source": [
    "await latiss.rem.atcamera.cmd_disableCalibration.set_start()"
   ]
  },
  {
   "cell_type": "code",
   "execution_count": null,
   "metadata": {},
   "outputs": [],
   "source": [
    "# Take a flat to see if everything is working.\n",
    "await latiss.take_flats(10.0, 1)"
   ]
  },
  {
   "cell_type": "code",
   "execution_count": null,
   "metadata": {},
   "outputs": [],
   "source": [
    "await latiss.standby()"
   ]
  }
 ],
 "metadata": {
  "kernelspec": {
   "display_name": "LSST",
   "language": "python",
   "name": "lsst"
  },
  "language_info": {
   "codemirror_mode": {
    "name": "ipython",
    "version": 3
   },
   "file_extension": ".py",
   "mimetype": "text/x-python",
   "name": "python",
   "nbconvert_exporter": "python",
   "pygments_lexer": "ipython3",
   "version": "3.8.13"
  }
 },
 "nbformat": 4,
 "nbformat_minor": 4
}
