{
 "cells": [
  {
   "cell_type": "markdown",
   "metadata": {},
   "source": [
    "## Query header\n",
    "\n",
    "In this notebook, we show several ways to query the fits headers with Gen3\\\n",
    "Craig Lage - 03-Jun-21"
   ]
  },
  {
   "cell_type": "code",
   "execution_count": null,
   "metadata": {
    "execution": {
     "iopub.execute_input": "2023-03-21T18:43:47.345928Z",
     "iopub.status.busy": "2023-03-21T18:43:47.345657Z",
     "iopub.status.idle": "2023-03-21T18:43:47.924602Z",
     "shell.execute_reply": "2023-03-21T18:43:47.923984Z",
     "shell.execute_reply.started": "2023-03-21T18:43:47.345912Z"
    },
    "tags": []
   },
   "outputs": [],
   "source": [
    "import numpy as np\n",
    "import matplotlib.pyplot as plt\n",
    "import astropy.io.fits as pf\n",
    "from lsst.daf.butler import Butler"
   ]
  },
  {
   "cell_type": "code",
   "execution_count": null,
   "metadata": {
    "execution": {
     "iopub.execute_input": "2023-03-21T18:43:48.709159Z",
     "iopub.status.busy": "2023-03-21T18:43:48.708804Z",
     "iopub.status.idle": "2023-03-21T18:43:49.626917Z",
     "shell.execute_reply": "2023-03-21T18:43:49.626323Z",
     "shell.execute_reply.started": "2023-03-21T18:43:48.709142Z"
    },
    "tags": []
   },
   "outputs": [],
   "source": [
    "butler = Butler('/repo/LATISS', collections=[\"LATISS/raw/all\", \"LATISS/calib\"])"
   ]
  },
  {
   "cell_type": "code",
   "execution_count": null,
   "metadata": {
    "execution": {
     "iopub.execute_input": "2023-03-14T19:15:57.759559Z",
     "iopub.status.busy": "2023-03-14T19:15:57.759205Z",
     "iopub.status.idle": "2023-03-14T19:15:57.818299Z",
     "shell.execute_reply": "2023-03-14T19:15:57.817679Z",
     "shell.execute_reply.started": "2023-03-14T19:15:57.759542Z"
    },
    "tags": []
   },
   "outputs": [],
   "source": [
    "dayObs = 20230314\n",
    "exposureList = []\n",
    "for record in butler.registry.queryDimensionRecords(\"exposure\", where=\"exposure.day_obs=%d\"%dayObs):\n",
    "    exposureList.append([record.id, record])\n",
    "exposureList.sort(key=lambda x: x[0])\n",
    "for [id,record] in exposureList:\n",
    "    print(record.id, record.observation_type, record.exposure_time, record.physical_filter, record.target_name)\n"
   ]
  },
  {
   "cell_type": "code",
   "execution_count": null,
   "metadata": {
    "jupyter": {
     "outputs_hidden": true
    },
    "tags": []
   },
   "outputs": [],
   "source": [
    "print(\"ExpId,            RA                   Dec\")\n",
    "for exp in range(2022101800025, 2022101800047):\n",
    "    mData = butler.get('raw.metadata', detector=0, exposure=exp)\n",
    "    print(exp, mData['RASTART'], mData['DECSTART'])\n",
    "    "
   ]
  },
  {
   "cell_type": "code",
   "execution_count": null,
   "metadata": {},
   "outputs": [],
   "source": [
    "expId = 2022110800097\n",
    "mBias = butler.get('raw', detector=0, exposure=expId)"
   ]
  },
  {
   "cell_type": "code",
   "execution_count": null,
   "metadata": {},
   "outputs": [],
   "source": [
    "# Now look at the data with matplotlib\n",
    "from matplotlib.colors import LogNorm\n",
    "\n",
    "def colorbar(mappable):\n",
    "    from mpl_toolkits.axes_grid1 import make_axes_locatable\n",
    "    last_axes = plt.gca()\n",
    "    ax = mappable.axes\n",
    "    fig = ax.figure\n",
    "    divider = make_axes_locatable(ax)\n",
    "    cax = divider.append_axes(\"right\", size=\"5%\", pad=0.05)\n",
    "    cbar = fig.colorbar(mappable, cax=cax)\n",
    "    plt.sca(last_axes)\n",
    "    return cbar\n",
    "\n",
    "plt.figure(figsize=(8,8))\n",
    "plt.suptitle(f\"Image\",fontsize=18)\n",
    "arr = mBias.image.array\n",
    "img = plt.imshow(arr, norm=LogNorm(vmin=20000, vmax=30000), interpolation='Nearest', cmap='gray')\n",
    "colorbar(img)\n",
    "plt.tight_layout(h_pad=1)\n"
   ]
  },
  {
   "cell_type": "code",
   "execution_count": null,
   "metadata": {},
   "outputs": [],
   "source": [
    "ycoord = 3500\n",
    "\n",
    "plt.figure(figsize=(4,8))\n",
    "plt.subplots_adjust(hspace=0.5)\n",
    "plotCounter = 1\n",
    "plt.suptitle(\"AuxTel darks with shorter exposure time.\")\n",
    "for expId in [2022110900030, 2022110900095, 2022110900150]:\n",
    "    mData = butler.get('raw.metadata', detector=0, exposure=expId)\n",
    "    rawData = butler.get('raw', detector=0, exposure=expId)\n",
    "    arr = rawData.image.array\n",
    "    plt.subplot(3,1,plotCounter)\n",
    "    plt.plot(arr[ycoord,:])\n",
    "    plt.title(f\"{expId}, Dark Exposure Time = {mData['EXPTIME']}, Ycoord = {ycoord}\")\n",
    "    plotCounter += 1"
   ]
  },
  {
   "cell_type": "code",
   "execution_count": null,
   "metadata": {},
   "outputs": [],
   "source": [
    "exposureList[:][27]"
   ]
  },
  {
   "cell_type": "code",
   "execution_count": null,
   "metadata": {},
   "outputs": [],
   "source": [
    "exposureList[0][1].fields"
   ]
  },
  {
   "cell_type": "code",
   "execution_count": null,
   "metadata": {},
   "outputs": [],
   "source": [
    "from lsst.daf.butler import Butler\n",
    "\n",
    "\n",
    "nTot=0\n",
    "for [expId,record] in exposureList:\n",
    "    nExp = 0\n",
    "    for detector in range(9):\n",
    "        try:\n",
    "            mData = butler.get('raw.metadata', detector=detector, exposure=expId)\n",
    "        except:\n",
    "            nTot += 1\n",
    "            nExp += 1\n",
    "            #print(f\"Detector {detector} from expId {expId} missing\")\n",
    "    if nExp != 0:\n",
    "        print(f\" expId {expId} is missing {nExp} files.\")\n",
    "print(f\" Total of {n} exposures missing\")"
   ]
  },
  {
   "cell_type": "code",
   "execution_count": null,
   "metadata": {
    "execution": {
     "iopub.execute_input": "2023-03-14T19:19:22.097562Z",
     "iopub.status.busy": "2023-03-14T19:19:22.096859Z",
     "iopub.status.idle": "2023-03-14T19:19:22.151756Z",
     "shell.execute_reply": "2023-03-14T19:19:22.151224Z",
     "shell.execute_reply.started": "2023-03-14T19:19:22.097543Z"
    },
    "tags": []
   },
   "outputs": [],
   "source": [
    "expId = 2023031400282\n",
    "mData = butler.get('raw.metadata', detector=0, exposure=expId)\n",
    "for key in mData.keys():\n",
    "    #if 'E' in key:\n",
    "    print(key, mData[key])"
   ]
  },
  {
   "cell_type": "code",
   "execution_count": null,
   "metadata": {},
   "outputs": [],
   "source": [
    "expId = 2022040600654\n",
    "exp = butler.get('quickLookExp', detector=0, exposure=expId)\n"
   ]
  },
  {
   "cell_type": "code",
   "execution_count": null,
   "metadata": {},
   "outputs": [],
   "source": []
  },
  {
   "cell_type": "code",
   "execution_count": null,
   "metadata": {},
   "outputs": [],
   "source": [
    "butler = Butler('/repo/LATISS', collections=[\"LATISS/raw/all\", \"LATISS/calib\"])\n",
    "mBias = butler.get('bias', detector=0, exposure=2022092900947)"
   ]
  },
  {
   "cell_type": "code",
   "execution_count": null,
   "metadata": {},
   "outputs": [],
   "source": []
  }
 ],
 "metadata": {
  "kernelspec": {
   "display_name": "LSST",
   "language": "python",
   "name": "lsst"
  },
  "language_info": {
   "codemirror_mode": {
    "name": "ipython",
    "version": 3
   },
   "file_extension": ".py",
   "mimetype": "text/x-python",
   "name": "python",
   "nbconvert_exporter": "python",
   "pygments_lexer": "ipython3",
   "version": "3.10.9"
  }
 },
 "nbformat": 4,
 "nbformat_minor": 4
}
