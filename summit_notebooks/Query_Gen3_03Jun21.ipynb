{
 "cells": [
  {
   "cell_type": "markdown",
   "metadata": {},
   "source": [
    "## Query header\n",
    "\n",
    "In this notebook, we show several ways to query the fits headers with Gen3\\\n",
    "Craig Lage - 03-Jun-21"
   ]
  },
  {
   "cell_type": "code",
   "execution_count": null,
   "metadata": {
    "execution": {
     "iopub.execute_input": "2023-11-27T12:07:12.592875Z",
     "iopub.status.busy": "2023-11-27T12:07:12.592484Z",
     "iopub.status.idle": "2023-11-27T12:07:13.171211Z",
     "shell.execute_reply": "2023-11-27T12:07:13.170393Z",
     "shell.execute_reply.started": "2023-11-27T12:07:12.592843Z"
    },
    "tags": []
   },
   "outputs": [],
   "source": [
    "import numpy as np\n",
    "import matplotlib.pyplot as plt\n",
    "import astropy.io.fits as pf\n",
    "from lsst.daf.butler import Butler"
   ]
  },
  {
   "cell_type": "code",
   "execution_count": null,
   "metadata": {
    "execution": {
     "iopub.execute_input": "2023-11-27T12:07:14.102014Z",
     "iopub.status.busy": "2023-11-27T12:07:14.101625Z",
     "iopub.status.idle": "2023-11-27T12:07:15.000569Z",
     "shell.execute_reply": "2023-11-27T12:07:15.000066Z",
     "shell.execute_reply.started": "2023-11-27T12:07:14.101984Z"
    },
    "tags": []
   },
   "outputs": [],
   "source": [
    "butler = Butler('/repo/LATISS', collections=[\"LATISS/raw/all\", \"LATISS/calib\"])"
   ]
  },
  {
   "cell_type": "code",
   "execution_count": null,
   "metadata": {
    "execution": {
     "iopub.execute_input": "2023-11-03T00:42:29.214033Z",
     "iopub.status.busy": "2023-11-03T00:42:29.213652Z",
     "iopub.status.idle": "2023-11-03T00:42:29.261715Z",
     "shell.execute_reply": "2023-11-03T00:42:29.261236Z",
     "shell.execute_reply.started": "2023-11-03T00:42:29.213997Z"
    },
    "tags": []
   },
   "outputs": [],
   "source": [
    "dayObs = 20231102\n",
    "exposureList = []\n",
    "for record in butler.registry.queryDimensionRecords(\"exposure\", where=\"exposure.day_obs=%d\"%dayObs):\n",
    "    exposureList.append([record.id, record])\n",
    "exposureList.sort(key=lambda x: x[0])\n",
    "for [id,record] in exposureList:\n",
    "    print(record.id, record.observation_type, record.exposure_time, record.physical_filter, record.target_name)\n"
   ]
  },
  {
   "cell_type": "code",
   "execution_count": null,
   "metadata": {
    "tags": []
   },
   "outputs": [],
   "source": [
    "record.observation_reason"
   ]
  },
  {
   "cell_type": "code",
   "execution_count": null,
   "metadata": {
    "tags": []
   },
   "outputs": [],
   "source": [
    "print(\"ExpId,            RA                   Dec\")\n",
    "for exp in range(2022101800025, 2022101800047):\n",
    "    mData = butler.get('raw.metadata', detector=0, exposure=exp)\n",
    "    print(exp, mData['RASTART'], mData['DECSTART'])\n",
    "    "
   ]
  },
  {
   "cell_type": "code",
   "execution_count": null,
   "metadata": {
    "execution": {
     "iopub.execute_input": "2023-11-27T12:07:56.085030Z",
     "iopub.status.busy": "2023-11-27T12:07:56.084694Z",
     "iopub.status.idle": "2023-11-27T12:08:00.659047Z",
     "shell.execute_reply": "2023-11-27T12:08:00.658307Z",
     "shell.execute_reply.started": "2023-11-27T12:07:56.085003Z"
    },
    "tags": []
   },
   "outputs": [],
   "source": [
    "expId = 2023110800415\n",
    "raw = butler.get('raw', detector=0, exposure=expId)"
   ]
  },
  {
   "cell_type": "code",
   "execution_count": null,
   "metadata": {
    "tags": []
   },
   "outputs": [],
   "source": [
    "# Now look at the data with matplotlib\n",
    "from matplotlib.colors import LogNorm\n",
    "\n",
    "def colorbar(mappable):\n",
    "    from mpl_toolkits.axes_grid1 import make_axes_locatable\n",
    "    last_axes = plt.gca()\n",
    "    ax = mappable.axes\n",
    "    fig = ax.figure\n",
    "    divider = make_axes_locatable(ax)\n",
    "    cax = divider.append_axes(\"right\", size=\"5%\", pad=0.05)\n",
    "    cbar = fig.colorbar(mappable, cax=cax)\n",
    "    plt.sca(last_axes)\n",
    "    return cbar\n",
    "\n",
    "plt.figure(figsize=(8,8))\n",
    "plt.suptitle(f\"Image\",fontsize=18)\n",
    "arr = raw.image.array\n",
    "img = plt.imshow(arr, norm=LogNorm(vmin=10000, vmax=30000), interpolation='Nearest', cmap='gray')\n",
    "colorbar(img)\n",
    "plt.tight_layout(h_pad=1)\n"
   ]
  },
  {
   "cell_type": "code",
   "execution_count": null,
   "metadata": {},
   "outputs": [],
   "source": [
    "ycoord = 3500\n",
    "\n",
    "plt.figure(figsize=(4,8))\n",
    "plt.subplots_adjust(hspace=0.5)\n",
    "plotCounter = 1\n",
    "plt.suptitle(\"AuxTel darks with shorter exposure time.\")\n",
    "for expId in [2022110900030, 2022110900095, 2022110900150]:\n",
    "    mData = butler.get('raw.metadata', detector=0, exposure=expId)\n",
    "    rawData = butler.get('raw', detector=0, exposure=expId)\n",
    "    arr = rawData.image.array\n",
    "    plt.subplot(3,1,plotCounter)\n",
    "    plt.plot(arr[ycoord,:])\n",
    "    plt.title(f\"{expId}, Dark Exposure Time = {mData['EXPTIME']}, Ycoord = {ycoord}\")\n",
    "    plotCounter += 1"
   ]
  },
  {
   "cell_type": "code",
   "execution_count": null,
   "metadata": {},
   "outputs": [],
   "source": [
    "exposureList[:][27]"
   ]
  },
  {
   "cell_type": "code",
   "execution_count": null,
   "metadata": {},
   "outputs": [],
   "source": [
    "exposureList[0][1].fields"
   ]
  },
  {
   "cell_type": "code",
   "execution_count": null,
   "metadata": {},
   "outputs": [],
   "source": [
    "from lsst.daf.butler import Butler\n",
    "\n",
    "\n",
    "nTot=0\n",
    "for [expId,record] in exposureList:\n",
    "    nExp = 0\n",
    "    for detector in range(9):\n",
    "        try:\n",
    "            mData = butler.get('raw.metadata', detector=detector, exposure=expId)\n",
    "        except:\n",
    "            nTot += 1\n",
    "            nExp += 1\n",
    "            #print(f\"Detector {detector} from expId {expId} missing\")\n",
    "    if nExp != 0:\n",
    "        print(f\" expId {expId} is missing {nExp} files.\")\n",
    "print(f\" Total of {n} exposures missing\")"
   ]
  },
  {
   "cell_type": "code",
   "execution_count": null,
   "metadata": {
    "execution": {
     "iopub.execute_input": "2023-07-04T22:54:08.046900Z",
     "iopub.status.busy": "2023-07-04T22:54:08.046259Z",
     "iopub.status.idle": "2023-07-04T22:54:08.086132Z",
     "shell.execute_reply": "2023-07-04T22:54:08.085498Z",
     "shell.execute_reply.started": "2023-07-04T22:54:08.046881Z"
    },
    "tags": []
   },
   "outputs": [],
   "source": [
    "expId1 = 2023070400115\n",
    "expId2 = 2023042000200\n",
    "mData1 = butler.get('raw.metadata', detector=0, exposure=expId1)\n",
    "mData2 = butler.get('raw.metadata', detector=0, exposure=expId2)\n",
    "for key in mData.keys():\n",
    "    #if 'E' in key:\n",
    "    print(key, mData1[key])#, mData2[key])"
   ]
  },
  {
   "cell_type": "code",
   "execution_count": null,
   "metadata": {},
   "outputs": [],
   "source": [
    "expId = 2022040600654\n",
    "exp = butler.get('quickLookExp', detector=0, exposure=expId)\n"
   ]
  },
  {
   "cell_type": "code",
   "execution_count": null,
   "metadata": {},
   "outputs": [],
   "source": []
  },
  {
   "cell_type": "code",
   "execution_count": null,
   "metadata": {},
   "outputs": [],
   "source": [
    "butler = Butler('/repo/LATISS', collections=[\"LATISS/raw/all\", \"LATISS/calib\"])\n",
    "mBias = butler.get('bias', detector=0, exposure=2022092900947)"
   ]
  },
  {
   "cell_type": "code",
   "execution_count": null,
   "metadata": {},
   "outputs": [],
   "source": [
    "from pathlib import Path"
   ]
  },
  {
   "cell_type": "code",
   "execution_count": null,
   "metadata": {},
   "outputs": [],
   "source": [
    "dir = \"/home/craiglagegit/WORK/Notebook_Keeper/summit_notebooks\""
   ]
  }
 ],
 "metadata": {
  "kernelspec": {
   "display_name": "LSST",
   "language": "python",
   "name": "lsst"
  },
  "language_info": {
   "codemirror_mode": {
    "name": "ipython",
    "version": 3
   },
   "file_extension": ".py",
   "mimetype": "text/x-python",
   "name": "python",
   "nbconvert_exporter": "python",
   "pygments_lexer": "ipython3",
   "version": "3.11.4"
  }
 },
 "nbformat": 4,
 "nbformat_minor": 4
}
