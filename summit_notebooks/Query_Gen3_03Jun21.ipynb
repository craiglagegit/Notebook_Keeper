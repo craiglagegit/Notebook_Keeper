{
 "cells": [
  {
   "cell_type": "markdown",
   "metadata": {},
   "source": [
    "## Query header\n",
    "\n",
    "In this notebook, we show several ways to query the fits headers with Gen3\\\n",
    "Craig Lage - 03-Jun-21"
   ]
  },
  {
   "cell_type": "code",
   "execution_count": null,
   "metadata": {
    "execution": {
     "iopub.execute_input": "2024-12-10T14:46:05.230846Z",
     "iopub.status.busy": "2024-12-10T14:46:05.230697Z",
     "iopub.status.idle": "2024-12-10T14:46:06.389444Z",
     "shell.execute_reply": "2024-12-10T14:46:06.388891Z",
     "shell.execute_reply.started": "2024-12-10T14:46:05.230830Z"
    },
    "tags": []
   },
   "outputs": [],
   "source": [
    "import numpy as np\n",
    "import matplotlib.pyplot as plt\n",
    "import astropy.io.fits as pf\n",
    "from lsst.daf.butler import Butler"
   ]
  },
  {
   "cell_type": "code",
   "execution_count": null,
   "metadata": {
    "execution": {
     "iopub.execute_input": "2024-12-10T14:46:06.392167Z",
     "iopub.status.busy": "2024-12-10T14:46:06.391889Z",
     "iopub.status.idle": "2024-12-10T14:46:06.638745Z",
     "shell.execute_reply": "2024-12-10T14:46:06.638238Z",
     "shell.execute_reply.started": "2024-12-10T14:46:06.392152Z"
    },
    "tags": []
   },
   "outputs": [],
   "source": [
    "butler = Butler('/repo/LATISS', collections=[\"LATISS/raw/all\", \"LATISS/calib\", \"LATISS/runs/quickLook\"])"
   ]
  },
  {
   "cell_type": "code",
   "execution_count": null,
   "metadata": {
    "execution": {
     "iopub.execute_input": "2024-04-04T18:20:05.393505Z",
     "iopub.status.busy": "2024-04-04T18:20:05.392488Z",
     "iopub.status.idle": "2024-04-04T18:20:05.464267Z",
     "shell.execute_reply": "2024-04-04T18:20:05.463444Z",
     "shell.execute_reply.started": "2024-04-04T18:20:05.393471Z"
    },
    "jupyter": {
     "outputs_hidden": true
    },
    "tags": []
   },
   "outputs": [],
   "source": [
    "butler = Butler('/repo/embargo', collections=[\"LSSTComCamSim/quickLook/24\"])"
   ]
  },
  {
   "cell_type": "code",
   "execution_count": null,
   "metadata": {
    "execution": {
     "iopub.execute_input": "2024-12-10T17:47:23.548260Z",
     "iopub.status.busy": "2024-12-10T17:47:23.547857Z",
     "iopub.status.idle": "2024-12-10T17:47:23.568262Z",
     "shell.execute_reply": "2024-12-10T17:47:23.567801Z",
     "shell.execute_reply.started": "2024-12-10T17:47:23.548237Z"
    },
    "tags": []
   },
   "outputs": [],
   "source": [
    "dayObs = 20241210\n",
    "exposureList = []\n",
    "for record in butler.registry.queryDimensionRecords(\"exposure\", where=\"exposure.day_obs=%d\"%dayObs):\n",
    "    exposureList.append([record.id, record])\n",
    "exposureList.sort(key=lambda x: x[0])\n",
    "for [id,record] in exposureList:\n",
    "    print(record.id, record.observation_type, record.exposure_time, record.physical_filter, record.target_name)\n"
   ]
  },
  {
   "cell_type": "code",
   "execution_count": null,
   "metadata": {
    "execution": {
     "iopub.execute_input": "2024-10-17T18:40:46.191912Z",
     "iopub.status.busy": "2024-10-17T18:40:46.191546Z",
     "iopub.status.idle": "2024-10-17T18:40:46.257445Z",
     "shell.execute_reply": "2024-10-17T18:40:46.256941Z",
     "shell.execute_reply.started": "2024-10-17T18:40:46.191893Z"
    }
   },
   "outputs": [],
   "source": [
    "expId = 2024101700004\n",
    "mData = butler.get('raw.metadata', detector=0, exposure=expId)\n",
    "for key in mData.keys():\n",
    "    print(key, mData[key])"
   ]
  },
  {
   "cell_type": "code",
   "execution_count": null,
   "metadata": {
    "tags": []
   },
   "outputs": [],
   "source": [
    "record.observation_reason"
   ]
  },
  {
   "cell_type": "code",
   "execution_count": null,
   "metadata": {
    "tags": []
   },
   "outputs": [],
   "source": [
    "print(\"ExpId,            RA                   Dec\")\n",
    "for exp in range(2022101800025, 2022101800047):\n",
    "    mData = butler.get('raw.metadata', detector=0, exposure=exp)\n",
    "    print(exp, mData['RASTART'], mData['DECSTART'])\n",
    "    "
   ]
  },
  {
   "cell_type": "code",
   "execution_count": null,
   "metadata": {
    "execution": {
     "iopub.execute_input": "2023-11-27T12:07:56.085030Z",
     "iopub.status.busy": "2023-11-27T12:07:56.084694Z",
     "iopub.status.idle": "2023-11-27T12:08:00.659047Z",
     "shell.execute_reply": "2023-11-27T12:08:00.658307Z",
     "shell.execute_reply.started": "2023-11-27T12:07:56.085003Z"
    },
    "tags": []
   },
   "outputs": [],
   "source": [
    "expId = 2023110800415\n",
    "raw = butler.get('raw', detector=0, exposure=expId)"
   ]
  },
  {
   "cell_type": "code",
   "execution_count": null,
   "metadata": {
    "tags": []
   },
   "outputs": [],
   "source": [
    "# Now look at the data with matplotlib\n",
    "from matplotlib.colors import LogNorm\n",
    "\n",
    "def colorbar(mappable):\n",
    "    from mpl_toolkits.axes_grid1 import make_axes_locatable\n",
    "    last_axes = plt.gca()\n",
    "    ax = mappable.axes\n",
    "    fig = ax.figure\n",
    "    divider = make_axes_locatable(ax)\n",
    "    cax = divider.append_axes(\"right\", size=\"5%\", pad=0.05)\n",
    "    cbar = fig.colorbar(mappable, cax=cax)\n",
    "    plt.sca(last_axes)\n",
    "    return cbar\n",
    "\n",
    "plt.figure(figsize=(8,8))\n",
    "plt.suptitle(f\"Image\",fontsize=18)\n",
    "arr = raw.image.array\n",
    "img = plt.imshow(arr, norm=LogNorm(vmin=10000, vmax=30000), interpolation='Nearest', cmap='gray')\n",
    "colorbar(img)\n",
    "plt.tight_layout(h_pad=1)\n"
   ]
  },
  {
   "cell_type": "code",
   "execution_count": null,
   "metadata": {},
   "outputs": [],
   "source": [
    "ycoord = 3500\n",
    "\n",
    "plt.figure(figsize=(4,8))\n",
    "plt.subplots_adjust(hspace=0.5)\n",
    "plotCounter = 1\n",
    "plt.suptitle(\"AuxTel darks with shorter exposure time.\")\n",
    "for expId in [2022110900030, 2022110900095, 2022110900150]:\n",
    "    mData = butler.get('raw.metadata', detector=0, exposure=expId)\n",
    "    rawData = butler.get('raw', detector=0, exposure=expId)\n",
    "    arr = rawData.image.array\n",
    "    plt.subplot(3,1,plotCounter)\n",
    "    plt.plot(arr[ycoord,:])\n",
    "    plt.title(f\"{expId}, Dark Exposure Time = {mData['EXPTIME']}, Ycoord = {ycoord}\")\n",
    "    plotCounter += 1"
   ]
  },
  {
   "cell_type": "code",
   "execution_count": null,
   "metadata": {},
   "outputs": [],
   "source": [
    "exposureList[:][27]"
   ]
  },
  {
   "cell_type": "code",
   "execution_count": null,
   "metadata": {},
   "outputs": [],
   "source": [
    "exposureList[0][1].fields"
   ]
  },
  {
   "cell_type": "code",
   "execution_count": null,
   "metadata": {},
   "outputs": [],
   "source": [
    "from lsst.daf.butler import Butler\n",
    "\n",
    "\n",
    "nTot=0\n",
    "for [expId,record] in exposureList:\n",
    "    nExp = 0\n",
    "    for detector in range(9):\n",
    "        try:\n",
    "            mData = butler.get('raw.metadata', detector=detector, exposure=expId)\n",
    "        except:\n",
    "            nTot += 1\n",
    "            nExp += 1\n",
    "            #print(f\"Detector {detector} from expId {expId} missing\")\n",
    "    if nExp != 0:\n",
    "        print(f\" expId {expId} is missing {nExp} files.\")\n",
    "print(f\" Total of {n} exposures missing\")"
   ]
  },
  {
   "cell_type": "code",
   "execution_count": null,
   "metadata": {
    "execution": {
     "iopub.execute_input": "2023-07-04T22:54:08.046900Z",
     "iopub.status.busy": "2023-07-04T22:54:08.046259Z",
     "iopub.status.idle": "2023-07-04T22:54:08.086132Z",
     "shell.execute_reply": "2023-07-04T22:54:08.085498Z",
     "shell.execute_reply.started": "2023-07-04T22:54:08.046881Z"
    },
    "jupyter": {
     "outputs_hidden": true
    },
    "tags": []
   },
   "outputs": [],
   "source": [
    "expId1 = 2023070400115\n",
    "expId2 = 2023042000200\n",
    "mData1 = butler.get('raw.metadata', detector=0, exposure=expId1)\n",
    "mData2 = butler.get('raw.metadata', detector=0, exposure=expId2)\n",
    "for key in mData.keys():\n",
    "    #if 'E' in key:\n",
    "    print(key, mData1[key])#, mData2[key])"
   ]
  },
  {
   "cell_type": "code",
   "execution_count": null,
   "metadata": {
    "execution": {
     "iopub.execute_input": "2024-02-22T17:11:39.491466Z",
     "iopub.status.busy": "2024-02-22T17:11:39.491144Z",
     "iopub.status.idle": "2024-02-22T17:11:40.488797Z",
     "shell.execute_reply": "2024-02-22T17:11:40.488237Z",
     "shell.execute_reply.started": "2024-02-22T17:11:39.491441Z"
    }
   },
   "outputs": [],
   "source": [
    "butler = Butler('/repo/LATISS', collections=[\"LATISS/raw/all\", \"LATISS/calib\", \"LATISS/runs/quickLook\"])\n",
    "dataId = dict(day_obs=20240222, detector=0, seq_num=254)\n",
    "\n",
    "dataType = 'quickLookExp'\n",
    "exp = butler.get(dataType, dataId)"
   ]
  },
  {
   "cell_type": "code",
   "execution_count": null,
   "metadata": {},
   "outputs": [],
   "source": []
  },
  {
   "cell_type": "code",
   "execution_count": null,
   "metadata": {
    "execution": {
     "iopub.execute_input": "2024-02-22T17:01:54.968440Z",
     "iopub.status.busy": "2024-02-22T17:01:54.968023Z",
     "iopub.status.idle": "2024-02-22T17:01:54.973931Z",
     "shell.execute_reply": "2024-02-22T17:01:54.973199Z",
     "shell.execute_reply.started": "2024-02-22T17:01:54.968405Z"
    }
   },
   "outputs": [],
   "source": [
    "butler.collections"
   ]
  },
  {
   "cell_type": "code",
   "execution_count": null,
   "metadata": {
    "execution": {
     "iopub.execute_input": "2024-02-22T17:09:36.425101Z",
     "iopub.status.busy": "2024-02-22T17:09:36.424725Z",
     "iopub.status.idle": "2024-02-22T17:09:36.433364Z",
     "shell.execute_reply": "2024-02-22T17:09:36.432624Z",
     "shell.execute_reply.started": "2024-02-22T17:09:36.425072Z"
    },
    "jupyter": {
     "outputs_hidden": true
    }
   },
   "outputs": [],
   "source": [
    "butler.registry.queryDatasetTypes()"
   ]
  },
  {
   "cell_type": "code",
   "execution_count": null,
   "metadata": {
    "execution": {
     "iopub.execute_input": "2024-02-22T17:00:56.176559Z",
     "iopub.status.busy": "2024-02-22T17:00:56.176172Z",
     "iopub.status.idle": "2024-02-22T17:00:56.636910Z",
     "shell.execute_reply": "2024-02-22T17:00:56.636251Z",
     "shell.execute_reply.started": "2024-02-22T17:00:56.176531Z"
    }
   },
   "outputs": [],
   "source": [
    "expId = 2024022200254\n",
    "exp = butler.get('raw', detector=0, exposure=expId)\n"
   ]
  },
  {
   "cell_type": "code",
   "execution_count": null,
   "metadata": {
    "execution": {
     "iopub.execute_input": "2024-02-22T17:01:03.956485Z",
     "iopub.status.busy": "2024-02-22T17:01:03.956016Z",
     "iopub.status.idle": "2024-02-22T17:01:04.026762Z",
     "shell.execute_reply": "2024-02-22T17:01:04.025787Z",
     "shell.execute_reply.started": "2024-02-22T17:01:03.956454Z"
    },
    "jupyter": {
     "outputs_hidden": true
    }
   },
   "outputs": [],
   "source": [
    "expId = 2024022200254\n",
    "exp = butler.get('quickLookExp', detector=0, exposure=expId)\n"
   ]
  },
  {
   "cell_type": "code",
   "execution_count": null,
   "metadata": {},
   "outputs": [],
   "source": []
  },
  {
   "cell_type": "code",
   "execution_count": null,
   "metadata": {},
   "outputs": [],
   "source": [
    "butler = Butler('/repo/LATISS', collections=[\"LATISS/raw/all\", \"LATISS/calib\"])\n",
    "mBias = butler.get('bias', detector=0, exposure=2022092900947)"
   ]
  },
  {
   "cell_type": "code",
   "execution_count": null,
   "metadata": {},
   "outputs": [],
   "source": [
    "from pathlib import Path"
   ]
  },
  {
   "cell_type": "code",
   "execution_count": null,
   "metadata": {},
   "outputs": [],
   "source": [
    "dir = \"/home/craiglagegit/WORK/Notebook_Keeper/summit_notebooks\""
   ]
  }
 ],
 "metadata": {
  "kernelspec": {
   "display_name": "LSST",
   "language": "python",
   "name": "lsst"
  },
  "language_info": {
   "codemirror_mode": {
    "name": "ipython",
    "version": 3
   },
   "file_extension": ".py",
   "mimetype": "text/x-python",
   "name": "python",
   "nbconvert_exporter": "python",
   "pygments_lexer": "ipython3",
   "version": "3.11.10"
  }
 },
 "nbformat": 4,
 "nbformat_minor": 4
}
