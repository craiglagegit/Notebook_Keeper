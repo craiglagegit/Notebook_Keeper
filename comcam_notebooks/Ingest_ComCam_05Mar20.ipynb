{
 "cells": [
  {
   "cell_type": "markdown",
   "metadata": {},
   "source": [
    "# Notebook for ingesting ComCam pinhole images.\n",
    "\n",
    "Initially written 04 Mar 2020 by Craig Lage\\\n",
    "This ingests the images into my own repo, \\\n",
    "and does assembly.  ISR is just CCD assembly, and bias subtraction.\\\n",
    "I applied the gains from last year's PTC measurements.\\\n",
    "The assembly of the raft is still manual at this point."
   ]
  },
  {
   "cell_type": "code",
   "execution_count": null,
   "metadata": {},
   "outputs": [],
   "source": [
    "! eups list -s | grep lsst_distrib"
   ]
  },
  {
   "cell_type": "code",
   "execution_count": null,
   "metadata": {},
   "outputs": [],
   "source": [
    "import eups\n",
    "import sys, os, glob\n",
    "import pickle as pkl\n",
    "import numpy as np\n",
    "import matplotlib.pyplot as plt\n",
    "import astropy.io.fits as pf\n",
    "\n",
    "from lsst.daf.persistence import Butler\n",
    "from lsst.ip.isr.isrTask import IsrTask\n",
    "from lsst.pipe.tasks.characterizeImage import CharacterizeImageTask, CharacterizeImageConfig"
   ]
  },
  {
   "cell_type": "code",
   "execution_count": null,
   "metadata": {},
   "outputs": [],
   "source": [
    "DATA_DIR = '/lsstdata/offline/teststand/comcam/CCS/storage/'\n",
    "REPO_DIR = '/project/cslage/ComCam/20200303/'\n",
    "OUTPUT_DIR = '/project/cslage/ComCam/20200303/'\n",
    "! mkdir -p {'/project/cslage/ComCam/20200303/images'}\n",
    "DETECTOR = 4\n",
    "raftName = 'R22'"
   ]
  },
  {
   "cell_type": "code",
   "execution_count": null,
   "metadata": {
    "jupyter": {
     "outputs_hidden": true
    }
   },
   "outputs": [],
   "source": [
    "# First check the exposure times\n",
    "filedir = DATA_DIR+'20200303/'\n",
    "files = glob.glob(filedir+'CC_C_20200303_00????/CC_C_20200303_00????_R22_S11.fits')\n",
    "files = np.sort(files)\n",
    "numFiles = len(files)\n",
    "print(numFiles)\n",
    "\n",
    "for file in files:\n",
    "    hdulist = pf.open(file, mode='readonly', do_not_scale_image_data=True)\n",
    "        \n",
    "    phdr=hdulist[0].header\n",
    "    filename = file.split('/')[8][14:]#phdr['FILENAME']\n",
    "    exptime = phdr['EXPTIME']\n",
    "    imgtype = phdr['IMGTYPE'] \n",
    "    print(\"%s\\t%s\\t%f\"%(filename, imgtype, exptime))\n"
   ]
  },
  {
   "cell_type": "code",
   "execution_count": null,
   "metadata": {
    "jupyter": {
     "outputs_hidden": true
    }
   },
   "outputs": [],
   "source": [
    "# Now ingest the images\n",
    "! mkdir -p {REPO_DIR}\n",
    "! echo \"lsst.obs.lsst.comCam.LsstComCamMapper\" > {REPO_DIR+\"_mapper\"}\n",
    "args = REPO_DIR + \" \" + DATA_DIR + \"20200303/*/*_R22_S??.fits\" + \" \" + \"--mode=link\"\n",
    "! ingestImages.py {args}"
   ]
  },
  {
   "cell_type": "code",
   "execution_count": null,
   "metadata": {
    "jupyter": {
     "outputs_hidden": true
    }
   },
   "outputs": [],
   "source": [
    "# Now create a master bias set\n",
    "start=3020030300005\n",
    "end=3020030300015\n",
    "CALIB_DIR = REPO_DIR + \"CALIB\"\n",
    "RERUN_DIR = REPO_DIR + \"calib_construction\"\n",
    "! mkdir -p {CALIB_DIR}\n",
    "args = REPO_DIR + \" --calib \" + CALIB_DIR + \" --rerun \" + RERUN_DIR + \" --id visit=%d..%d\"%(start,end) + \\\n",
    "\" --batch-type=None\" + \" -c isr.doCrosstalk=False\" + \" --clobber-config\"\n",
    "! constructBias.py {args}"
   ]
  },
  {
   "cell_type": "code",
   "execution_count": null,
   "metadata": {
    "jupyter": {
     "outputs_hidden": true
    }
   },
   "outputs": [],
   "source": [
    "# Now ingest the master bias images\n",
    "args = REPO_DIR + \" \" + RERUN_DIR + \"/bias/*/*.fits\" + \" --validity 9999\" + \" --calib \" + CALIB_DIR + \" --mode=link\"\n",
    "! ingestCalibs.py {args} "
   ]
  },
  {
   "cell_type": "code",
   "execution_count": null,
   "metadata": {
    "jupyter": {
     "outputs_hidden": true
    }
   },
   "outputs": [],
   "source": [
    "# Now create a master dark set\n",
    "visits = []\n",
    "starting_visit = 3020030300022\n",
    "ending_visit = 3020030300026\n",
    "visit = starting_visit\n",
    "while visit < ending_visit + 1:\n",
    "    visits.append(visit)\n",
    "    visit += 2\n",
    "print(len(visits))\n",
    "CALIB_DIR = REPO_DIR + \"CALIB\"\n",
    "RERUN_DIR = REPO_DIR + \"calib_construction\"\n",
    "\n",
    "args = REPO_DIR + \" --calib \" + CALIB_DIR + \" --rerun \" + RERUN_DIR + \" --id visit=\"\n",
    "for visit in visits:\n",
    "    if visit != starting_visit:\n",
    "        args += \"^\"\n",
    "    args += str(visit)\n",
    "\n",
    "args += \" --batch-type=None\" + \" -c isr.doCrosstalk=False\" + \" --clobber-config\"\n",
    "print(args)\n",
    "! constructDark.py {args}"
   ]
  },
  {
   "cell_type": "code",
   "execution_count": null,
   "metadata": {
    "jupyter": {
     "outputs_hidden": true
    }
   },
   "outputs": [],
   "source": [
    "# Now ingest the master dark images\n",
    "args = REPO_DIR + \" \" + RERUN_DIR + \"/dark/*/*.fits\" + \" --validity 9999\" + \" --calib \" + CALIB_DIR + \" --mode=link\"\n",
    "! ingestCalibs.py {args} "
   ]
  },
  {
   "cell_type": "code",
   "execution_count": null,
   "metadata": {},
   "outputs": [],
   "source": [
    "# Set up the ISR task\n",
    "# For now, this is just applying the bias and the gains\n",
    "# For some reason, the darks are not working\n",
    "isrConfig = IsrTask.ConfigClass()\n",
    "isrConfig.doLinearize = False\n",
    "isrConfig.doBias = True\n",
    "isrConfig.doApplyGains = True\n",
    "isrConfig.doFlat = False\n",
    "isrConfig.doDark = False\n",
    "isrConfig.doFringe = False\n",
    "isrConfig.doDefect = False\n",
    "isrConfig.doAddDistortionModel = False\n",
    "isrConfig.doWrite = False\n",
    "isrTask = IsrTask(config=isrConfig)\n",
    "butler = Butler(REPO_DIR)"
   ]
  },
  {
   "cell_type": "code",
   "execution_count": null,
   "metadata": {},
   "outputs": [],
   "source": [
    "# Apply gains from PTC data from last year\n",
    "# and assemble all 9 CCDs\n",
    "# Run all three pinhole images in two colors with and without gaps.\n",
    "# The gaps are realistic estimates of the gaps between CCDs\n",
    "GAIN_DIR = '/home/cslage/ComCam/20191113/'\n",
    "\n",
    "aSize = 0.32 # Size of the pixel array\n",
    "for vis in [34, 60, 64]:\n",
    "    # 34 = Brian selfie, 60 = Rubin blouse, 64 = Rubin face\n",
    "    if vis == 34:\n",
    "        vmax = 8000\n",
    "    else:\n",
    "        vmax = 150000\n",
    "    visit = 3020030300000 + vis\n",
    "    for gap in ['Gap', 'NoGap']:\n",
    "        for color in ['gray', 'viridis']:\n",
    "            if gap == 'Gap':\n",
    "                xGap = 0.0072 # Gap between imaging arrays\n",
    "                yGap = 0.0032 # Gap between imaging arrays\n",
    "            else:\n",
    "                xGap = 0.0\n",
    "                yGap = 0.0\n",
    "            plt.figure(figsize=(16,16))\n",
    "            xs = [0.0,aSize+xGap,2*(aSize+xGap),0.0,aSize+xGap,2*(aSize+xGap),0.0,aSize+xGap,2*(aSize+xGap)]\n",
    "            ys = [0.0,0.0,0.0,aSize+yGap,aSize+yGap,aSize+yGap,2*(aSize+yGap),2*(aSize+yGap),2*(aSize+yGap)]\n",
    "            for detector in range(9):\n",
    "                gain_pickle_file = GAIN_DIR+'calibrations/ptc/ptcDataGainAndNoise-det%03d.pkl'%detector\n",
    "                gain_file = open(gain_pickle_file, 'rb')\n",
    "                gain_data = pkl.load(gain_file)\n",
    "                raw = butler.get('raw', detector=detector, visit=visit)\n",
    "                dataRef = butler.dataRef('raw', detector=detector, visit=visit)\n",
    "                ccd = raw.getDetector()\n",
    "                for amp in ccd:\n",
    "                    amp = amp.rebuild()\n",
    "                    amp.setGain(gain_data['gain'][amp.getName()][0])\n",
    "                    amp.finish()\n",
    "                    #print(detector, amp.getName(), amp.getGain())\n",
    "                postIsr = isrTask.runDataRef(dataRef).exposure\n",
    "                ax=plt.axes([xs[detector],ys[detector],aSize*(509.0/500.0),aSize],aspect=1)\n",
    "                ax.set_xticks([])\n",
    "                ax.set_yticks([])\n",
    "                #ax.imshow(np.log10(postIsr.image.array[0:4072,0:4000]),vmin=2.5, vmax=vmax, cmap=color)\n",
    "                ax.imshow(postIsr.image.array[0:4072,0:4000],vmin=10, vmax=vmax, cmap=color)\n",
    "            plt.savefig(OUTPUT_DIR+\"images/Image_Lin_%d_%s_%s.png\"%(vis,gap,color))"
   ]
  },
  {
   "cell_type": "code",
   "execution_count": null,
   "metadata": {},
   "outputs": [],
   "source": []
  }
 ],
 "metadata": {
  "jupytext": {
   "formats": "ipynb,markdown//md"
  },
  "kernelspec": {
   "display_name": "LSST",
   "language": "python",
   "name": "lsst"
  },
  "language_info": {
   "codemirror_mode": {
    "name": "ipython",
    "version": 3
   },
   "file_extension": ".py",
   "mimetype": "text/x-python",
   "name": "python",
   "nbconvert_exporter": "python",
   "pygments_lexer": "ipython3",
   "version": "3.7.6"
  }
 },
 "nbformat": 4,
 "nbformat_minor": 4
}
