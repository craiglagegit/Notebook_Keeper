{
 "cells": [
  {
   "cell_type": "markdown",
   "id": "8e844390",
   "metadata": {},
   "source": [
    "## Image viewer\n",
    "\n",
    "In this notebook, we show several ways to look at images\\\n",
    "Craig Lage - 28-May-21"
   ]
  },
  {
   "cell_type": "code",
   "execution_count": null,
   "id": "446e7cf1",
   "metadata": {},
   "outputs": [],
   "source": [
    "import numpy as np\n",
    "import matplotlib.pyplot as plt\n",
    "import astropy.io.fits as pf\n",
    "from lsst.daf.persistence import Butler\n",
    "import lsst.afw.cameraGeom.utils as camGeomUtils\n",
    "import lsst.afw.display as afwDisplay"
   ]
  },
  {
   "cell_type": "code",
   "execution_count": null,
   "id": "228f50fd",
   "metadata": {},
   "outputs": [],
   "source": [
    "# Instantiate the butler\n",
    "REPO_DIR = '/project/shared/comCam'\n",
    "butler = Butler(REPO_DIR)"
   ]
  },
  {
   "cell_type": "code",
   "execution_count": null,
   "id": "5ed229b1",
   "metadata": {},
   "outputs": [],
   "source": [
    "# Get the raw data\n",
    "dayObs = '2021-05-28'\n",
    "expId=2021052800003\n",
    "for det in range(9):\n",
    "    exp = butler.get('raw', detector=det, expId=expId)\n",
    "    mean = np.mean(exp.getMaskedImage().getArrays()[0])\n",
    "    std = np.std(exp.getMaskedImage().getArrays()[0])\n",
    "    print(f\"Detector {det}, Mean = {mean:.1f}, Std = {std:.1f}\")"
   ]
  },
  {
   "cell_type": "code",
   "execution_count": null,
   "id": "b0619726",
   "metadata": {},
   "outputs": [],
   "source": [
    "# Look at the data with matplotlib\n",
    "# The raw data doesn't look very good, because of the large pedestal of about 15,000 ADU\n",
    "expId=2021052800003\n",
    "det = 4\n",
    "exp = butler.get('raw', detector=det, expId=expId)\n",
    "\n",
    "from matplotlib.colors import LogNorm\n",
    "# Now let's look at ithem\n",
    "def colorbar(mappable):\n",
    "    from mpl_toolkits.axes_grid1 import make_axes_locatable\n",
    "    last_axes = plt.gca()\n",
    "    ax = mappable.axes\n",
    "    fig = ax.figure\n",
    "    divider = make_axes_locatable(ax)\n",
    "    cax = divider.append_axes(\"right\", size=\"5%\", pad=0.05)\n",
    "    cbar = fig.colorbar(mappable, cax=cax)\n",
    "    plt.sca(last_axes)\n",
    "    return cbar\n",
    "\n",
    "plt.figure(figsize=(8,8))\n",
    "plt.suptitle(f\"Image {expId}\",fontsize=18)\n",
    "arr = exp.image.array\n",
    "img = plt.imshow(arr, norm=LogNorm(vmin=14000, vmax=100000), interpolation='Nearest', cmap='gray')\n",
    "colorbar(img)\n",
    "plt.tight_layout(h_pad=1)"
   ]
  },
  {
   "cell_type": "code",
   "execution_count": null,
   "id": "92aa6055",
   "metadata": {},
   "outputs": [],
   "source": []
  }
 ],
 "metadata": {
  "kernelspec": {
   "display_name": "LSST",
   "language": "python",
   "name": "lsst"
  },
  "language_info": {
   "codemirror_mode": {
    "name": "ipython",
    "version": 3
   },
   "file_extension": ".py",
   "mimetype": "text/x-python",
   "name": "python",
   "nbconvert_exporter": "python",
   "pygments_lexer": "ipython3",
   "version": "3.8.8"
  }
 },
 "nbformat": 4,
 "nbformat_minor": 5
}
