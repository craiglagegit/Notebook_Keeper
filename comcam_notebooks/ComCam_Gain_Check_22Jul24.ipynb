{
 "cells": [
  {
   "cell_type": "markdown",
   "metadata": {},
   "source": [
    "## Queries - ComCam\n",
    "\n",
    "In this notebook, we show how to query the ComCam repository\\\n",
    "and view the resulting images.\\\n",
    "Craig Lage - 13-Jul-24"
   ]
  },
  {
   "cell_type": "code",
   "execution_count": null,
   "metadata": {
    "execution": {
     "iopub.execute_input": "2024-09-13T10:49:01.925345Z",
     "iopub.status.busy": "2024-09-13T10:49:01.925192Z",
     "iopub.status.idle": "2024-09-13T10:49:07.126891Z",
     "shell.execute_reply": "2024-09-13T10:49:07.126440Z",
     "shell.execute_reply.started": "2024-09-13T10:49:01.925332Z"
    },
    "tags": []
   },
   "outputs": [],
   "source": [
    "import numpy as np\n",
    "import matplotlib.pyplot as plt\n",
    "import astropy.io.fits as pf\n",
    "from lsst.daf.butler import Butler\n",
    "from lsst.ip.isr import IsrTask, IsrTaskConfig\n",
    "from lsst.summit.utils.plotting import plot\n",
    "import lsst.afw.cameraGeom.utils as camGeomUtils"
   ]
  },
  {
   "cell_type": "code",
   "execution_count": null,
   "metadata": {
    "execution": {
     "iopub.execute_input": "2024-08-30T19:38:18.298389Z",
     "iopub.status.busy": "2024-08-30T19:38:18.297848Z",
     "iopub.status.idle": "2024-08-30T19:38:18.556085Z",
     "shell.execute_reply": "2024-08-30T19:38:18.555641Z",
     "shell.execute_reply.started": "2024-08-30T19:38:18.298373Z"
    },
    "tags": []
   },
   "outputs": [],
   "source": [
    "#butler = Butler('/repo/embargo', collections=[\"LSSTComCam/raw/all\",\"LSSTComCam/calib\"])\n",
    "butler = Butler('/repo/embargo', collections=[\"LSSTComCam/raw/all\", ,\"LSSTComCam/calib\",\n",
    "                                              \"u/abrought/LSSTComCam/calibs/w_2024_28/bias.08132024a\",\n",
    "                                             \"u/abrought/LSSTComCam/calibs/w_2024_28/ptc_r03.08132024a\"])"
   ]
  },
  {
   "cell_type": "markdown",
   "metadata": {},
   "source": [
    "## Define a simple ISR\n",
    "### Just overscan subtraction and bias subtraction."
   ]
  },
  {
   "cell_type": "code",
   "execution_count": null,
   "metadata": {
    "execution": {
     "iopub.execute_input": "2024-08-30T19:42:04.676698Z",
     "iopub.status.busy": "2024-08-30T19:42:04.676506Z",
     "iopub.status.idle": "2024-08-30T19:42:04.726356Z",
     "shell.execute_reply": "2024-08-30T19:42:04.725906Z",
     "shell.execute_reply.started": "2024-08-30T19:42:04.676685Z"
    },
    "tags": []
   },
   "outputs": [],
   "source": [
    "isrConfig1 = IsrTaskConfig()\n",
    "isrConfig1.doLinearize=False\n",
    "isrConfig1.doOverscan=True\n",
    "isrConfig1.overscan.fitType=\"MEDIAN_PER_ROW\"\n",
    "isrConfig1.overscan.doParallelOverscan=False\n",
    "isrConfig1.doAssembleCcd=True\n",
    "isrConfig1.doBias=True\n",
    "isrConfig1.doVariance=False\n",
    "isrConfig1.doCrosstalk=False\n",
    "isrConfig1.doBrighterFatter=False\n",
    "isrConfig1.doDark=False\n",
    "isrConfig1.doStrayLight=False\n",
    "isrConfig1.doFlat=False\n",
    "isrConfig1.doFringe=False\n",
    "isrConfig1.doApplyGains=True\n",
    "isrConfig1.usePtcGains=True\n",
    "isrConfig1.doDefect=False\n",
    "isrConfig1.doNanMasking=True\n",
    "isrConfig1.doInterpolate=False\n",
    "isrConfig1.doSaturation=False\n",
    "isrConfig1.doSaturationInterpolation=False\n",
    "isrTask1 = IsrTask(config=isrConfig1)\n",
    "\n",
    "isrConfig2 = IsrTaskConfig()\n",
    "isrConfig2.doLinearize=False\n",
    "isrConfig2.doOverscan=True\n",
    "isrConfig2.overscan.fitType=\"MEDIAN_PER_ROW\"\n",
    "isrConfig2.overscan.doParallelOverscan=False\n",
    "isrConfig2.doAssembleCcd=True\n",
    "isrConfig2.doBias=True\n",
    "isrConfig2.doVariance=False\n",
    "isrConfig2.doCrosstalk=False\n",
    "isrConfig2.doBrighterFatter=False\n",
    "isrConfig2.doDark=False\n",
    "isrConfig2.doStrayLight=False\n",
    "isrConfig2.doFlat=False\n",
    "isrConfig2.doFringe=False\n",
    "isrConfig2.doApplyGains=False\n",
    "isrConfig2.doDefect=False\n",
    "isrConfig2.doNanMasking=True\n",
    "isrConfig2.doInterpolate=False\n",
    "isrConfig2.doSaturation=False\n",
    "isrConfig2.doSaturationInterpolation=False\n",
    "isrTask2 = IsrTask(config=isrConfig2)"
   ]
  },
  {
   "cell_type": "code",
   "execution_count": null,
   "metadata": {
    "execution": {
     "iopub.execute_input": "2024-08-30T19:39:41.229085Z",
     "iopub.status.busy": "2024-08-30T19:39:41.228666Z",
     "iopub.status.idle": "2024-08-30T19:39:41.231639Z",
     "shell.execute_reply": "2024-08-30T19:39:41.231283Z",
     "shell.execute_reply.started": "2024-08-30T19:39:41.229067Z"
    }
   },
   "outputs": [],
   "source": [
    "isrConfig2."
   ]
  },
  {
   "cell_type": "code",
   "execution_count": null,
   "metadata": {},
   "outputs": [],
   "source": [
    "isrTask2.config.doApplyGains"
   ]
  },
  {
   "cell_type": "code",
   "execution_count": null,
   "metadata": {
    "execution": {
     "iopub.execute_input": "2024-08-30T19:37:43.010128Z",
     "iopub.status.busy": "2024-08-30T19:37:43.009944Z",
     "iopub.status.idle": "2024-08-30T19:37:43.049254Z",
     "shell.execute_reply": "2024-08-30T19:37:43.048866Z",
     "shell.execute_reply.started": "2024-08-30T19:37:43.010116Z"
    }
   },
   "outputs": [],
   "source": [
    "expId = 2024080600349\n",
    "instrument = \"LSSTComCam\"\n",
    "ptc = butler.get('ptc', detector=0, instrument=\"LSSTComCam\", \n",
    "                 collections=\"u/abrought/LSSTComCam/calibs/w_2024_28/ptc_r03.08132024a\")"
   ]
  },
  {
   "cell_type": "code",
   "execution_count": null,
   "metadata": {
    "execution": {
     "iopub.execute_input": "2024-08-30T19:38:00.436237Z",
     "iopub.status.busy": "2024-08-30T19:38:00.435922Z",
     "iopub.status.idle": "2024-08-30T19:38:00.439300Z",
     "shell.execute_reply": "2024-08-30T19:38:00.438940Z",
     "shell.execute_reply.started": "2024-08-30T19:38:00.436223Z"
    },
    "jupyter": {
     "outputs_hidden": true
    }
   },
   "outputs": [],
   "source": [
    "ptc.gain"
   ]
  },
  {
   "cell_type": "markdown",
   "metadata": {},
   "source": [
    "## Run the ISR and look at the result"
   ]
  },
  {
   "cell_type": "code",
   "execution_count": null,
   "metadata": {
    "execution": {
     "iopub.execute_input": "2024-08-30T19:44:23.240550Z",
     "iopub.status.busy": "2024-08-30T19:44:23.240342Z",
     "iopub.status.idle": "2024-08-30T19:45:01.921307Z",
     "shell.execute_reply": "2024-08-30T19:45:01.920833Z",
     "shell.execute_reply.started": "2024-08-30T19:44:23.240537Z"
    },
    "jupyter": {
     "outputs_hidden": true
    },
    "tags": []
   },
   "outputs": [],
   "source": [
    "expId = 2024080600349\n",
    "instrument = \"LSSTComCam\"\n",
    "for detector in range(9):\n",
    "    bias = butler.get('bias', detector=detector, exposure=expId, instrument=instrument)\n",
    "    exp1 = butler.get('raw', detector=detector, exposure=expId, instrument=instrument)\n",
    "    isrResult1 = isrTask1.run(exp1, bias=bias, ptc=ptc) # This runs the ISR\n",
    "    exp2 = butler.get('raw', detector=detector, exposure=expId, instrument=instrument)\n",
    "    isrResult2 = isrTask2.run(exp2, bias=bias, ptc=ptc) # This runs the ISR\n",
    "    for amp in exp1.getDetector().getAmplifiers():\n",
    "        data1 = isrResult1.exposure[amp.getBBox()].image.array\n",
    "        data2 = isrResult2.exposure[amp.getBBox()].image.array\n",
    "        ratio = np.nanmedian(data1 / data2)\n",
    "        print(detector, amp.getName(), ratio)\n"
   ]
  },
  {
   "cell_type": "code",
   "execution_count": null,
   "metadata": {
    "execution": {
     "iopub.execute_input": "2024-09-13T11:42:47.843594Z",
     "iopub.status.busy": "2024-09-13T11:42:47.843302Z",
     "iopub.status.idle": "2024-09-13T11:42:48.452607Z",
     "shell.execute_reply": "2024-09-13T11:42:48.452136Z",
     "shell.execute_reply.started": "2024-09-13T11:42:47.843578Z"
    },
    "tags": []
   },
   "outputs": [],
   "source": [
    "butler = Butler('/repo/embargo', collections=[\"LSSTComCam/raw/all\",\"LSSTComCam/calib\"])\n"
   ]
  },
  {
   "cell_type": "markdown",
   "metadata": {},
   "source": [
    "## Define a simple ISR\n",
    "### Just overscan subtraction and bias subtraction."
   ]
  },
  {
   "cell_type": "code",
   "execution_count": null,
   "metadata": {
    "execution": {
     "iopub.execute_input": "2024-09-13T11:44:46.085912Z",
     "iopub.status.busy": "2024-09-13T11:44:46.085731Z",
     "iopub.status.idle": "2024-09-13T11:44:46.132935Z",
     "shell.execute_reply": "2024-09-13T11:44:46.132505Z",
     "shell.execute_reply.started": "2024-09-13T11:44:46.085899Z"
    },
    "tags": []
   },
   "outputs": [],
   "source": [
    "isrConfig1 = IsrTaskConfig()\n",
    "isrConfig1.doLinearize=False\n",
    "isrConfig1.doOverscan=True\n",
    "isrConfig1.overscan.fitType=\"MEDIAN_PER_ROW\"\n",
    "isrConfig1.overscan.doParallelOverscan=False\n",
    "isrConfig1.doAssembleCcd=True\n",
    "isrConfig1.doBias=False\n",
    "isrConfig1.doVariance=False\n",
    "isrConfig1.doCrosstalk=False\n",
    "isrConfig1.doBrighterFatter=False\n",
    "isrConfig1.doDark=False\n",
    "isrConfig1.doStrayLight=False\n",
    "isrConfig1.doFlat=False\n",
    "isrConfig1.doFringe=False\n",
    "isrConfig1.doApplyGains=True\n",
    "isrConfig1.usePtcGains=False\n",
    "isrConfig1.doDefect=False\n",
    "isrConfig1.doNanMasking=True\n",
    "isrConfig1.doInterpolate=False\n",
    "isrConfig1.doSaturation=False\n",
    "isrConfig1.doSaturationInterpolation=False\n",
    "isrTask1 = IsrTask(config=isrConfig1)\n",
    "\n",
    "isrConfig2 = IsrTaskConfig()\n",
    "isrConfig2.doLinearize=False\n",
    "isrConfig2.doOverscan=True\n",
    "isrConfig2.overscan.fitType=\"MEDIAN_PER_ROW\"\n",
    "isrConfig2.overscan.doParallelOverscan=False\n",
    "isrConfig2.doAssembleCcd=True\n",
    "isrConfig2.doBias=False\n",
    "isrConfig2.doVariance=False\n",
    "isrConfig2.doCrosstalk=False\n",
    "isrConfig2.doBrighterFatter=False\n",
    "isrConfig2.doDark=False\n",
    "isrConfig2.doStrayLight=False\n",
    "isrConfig2.doFlat=False\n",
    "isrConfig2.doFringe=False\n",
    "isrConfig2.doApplyGains=False\n",
    "isrConfig2.doDefect=False\n",
    "isrConfig2.doNanMasking=True\n",
    "isrConfig2.doInterpolate=False\n",
    "isrConfig2.doSaturation=False\n",
    "isrConfig2.doSaturationInterpolation=False\n",
    "isrTask2 = IsrTask(config=isrConfig2)"
   ]
  },
  {
   "cell_type": "markdown",
   "metadata": {},
   "source": [
    "## Run the ISR and look at the result"
   ]
  },
  {
   "cell_type": "code",
   "execution_count": null,
   "metadata": {
    "execution": {
     "iopub.execute_input": "2024-09-13T11:44:49.164121Z",
     "iopub.status.busy": "2024-09-13T11:44:49.163849Z",
     "iopub.status.idle": "2024-09-13T11:45:19.442046Z",
     "shell.execute_reply": "2024-09-13T11:45:19.441602Z",
     "shell.execute_reply.started": "2024-09-13T11:44:49.164108Z"
    },
    "jupyter": {
     "outputs_hidden": true
    },
    "tags": []
   },
   "outputs": [],
   "source": [
    "expId = 2024080600349\n",
    "instrument = \"LSSTComCam\"\n",
    "for detector in range(9):\n",
    "    exp1 = butler.get('raw', detector=detector, exposure=expId, instrument=instrument)\n",
    "    isrResult1 = isrTask1.run(exp1) # This runs the ISR\n",
    "    exp2 = butler.get('raw', detector=detector, exposure=expId, instrument=instrument)\n",
    "    isrResult2 = isrTask2.run(exp2) # This runs the ISR\n",
    "    for amp in exp1.getDetector().getAmplifiers():\n",
    "        data1 = isrResult1.exposure[amp.getBBox()].image.array\n",
    "        data2 = isrResult2.exposure[amp.getBBox()].image.array\n",
    "        ratio = np.nanmedian(data1 / data2)\n",
    "        print(detector, amp.getName(), ratio)\n"
   ]
  },
  {
   "cell_type": "code",
   "execution_count": null,
   "metadata": {},
   "outputs": [],
   "source": [
    "expId = 2024080600349\n",
    "instrument = \"LSSTComCam\"\n",
    "raw = butler.get('raw', detector=4, exposure=expId, instrument=instrument)"
   ]
  },
  {
   "cell_type": "code",
   "execution_count": null,
   "metadata": {},
   "outputs": [],
   "source": [
    "ptc = butler.get('ptc', detector=4, exposure=expId, instrument=instrument)"
   ]
  },
  {
   "cell_type": "code",
   "execution_count": null,
   "metadata": {},
   "outputs": [],
   "source": []
  }
 ],
 "metadata": {
  "kernelspec": {
   "display_name": "LSST",
   "language": "python",
   "name": "lsst"
  },
  "language_info": {
   "codemirror_mode": {
    "name": "ipython",
    "version": 3
   },
   "file_extension": ".py",
   "mimetype": "text/x-python",
   "name": "python",
   "nbconvert_exporter": "python",
   "pygments_lexer": "ipython3",
   "version": "3.11.9"
  }
 },
 "nbformat": 4,
 "nbformat_minor": 4
}
