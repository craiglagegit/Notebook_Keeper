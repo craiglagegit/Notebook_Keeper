{
 "cells": [
  {
   "cell_type": "markdown",
   "metadata": {},
   "source": [
    "# Notebook for querying BOT data.\n",
    "\n",
    "Initially written 27 May 2020 by Craig Lage\\\n",
    "Allows inspecting the image type and exposure time of the \\\n",
    "BOT images used for characterizing BF."
   ]
  },
  {
   "cell_type": "code",
   "execution_count": null,
   "metadata": {},
   "outputs": [],
   "source": [
    "! eups list -s | grep lsst_distrib\n",
    "! eups list -s cp_pipe"
   ]
  },
  {
   "cell_type": "code",
   "execution_count": null,
   "metadata": {},
   "outputs": [],
   "source": [
    "import sys, os, glob, subprocess\n",
    "import pickle as pkl\n",
    "import numpy as np\n",
    "import matplotlib.pyplot as plt\n",
    "import astropy.io.fits as pf\n",
    "from lsst.daf.persistence import Butler"
   ]
  },
  {
   "cell_type": "code",
   "execution_count": null,
   "metadata": {},
   "outputs": [],
   "source": [
    "RAFT = 'R22'\n",
    "SENSOR = 'S11'\n",
    "DATA_DIR = '/project/shared/comCam/'"
   ]
  },
  {
   "cell_type": "code",
   "execution_count": null,
   "metadata": {},
   "outputs": [],
   "source": [
    "DATA_DIR = '/project/shared/comCam/'\n",
    "dayObs='2021-05-25'\n",
    "detector=4\n",
    "butler = Butler(DATA_DIR)\n",
    "visits = butler.queryMetadata('raw', ['expId', 'EXPTIME', 'TESTTYPE', 'FILTER'], detector=detector, dayObs=dayObs)\n",
    "visits.sort(key = lambda x: x[0]) \n",
    "\n",
    "for (expId, exptime, testtype, filter) in visits:\n",
    "    print(expId, exptime, testtype, filter)"
   ]
  },
  {
   "cell_type": "code",
   "execution_count": null,
   "metadata": {},
   "outputs": [],
   "source": [
    "expId = 2021040200028\n",
    "RERUN_DIR = '/project/shared/comCam/rerun/cslage/PTC_2021-04-02/'\n",
    "butler = Butler(RERUN_DIR)\n",
    "test = butler.get('raw', detector=4,  expId=expId)"
   ]
  },
  {
   "cell_type": "code",
   "execution_count": null,
   "metadata": {},
   "outputs": [],
   "source": [
    "test = butler.get('bias', detector=4,  expId=expId)"
   ]
  },
  {
   "cell_type": "code",
   "execution_count": null,
   "metadata": {},
   "outputs": [],
   "source": [
    "test = butler.get('dark', detector=4,  expId=expId)"
   ]
  },
  {
   "cell_type": "code",
   "execution_count": null,
   "metadata": {},
   "outputs": [],
   "source": [
    "test = butler.get('defects', detector=0,  expId=expId)"
   ]
  },
  {
   "cell_type": "code",
   "execution_count": null,
   "metadata": {},
   "outputs": [],
   "source": [
    "test = butler.get('defects', detector=2,  expId=expId)"
   ]
  },
  {
   "cell_type": "code",
   "execution_count": null,
   "metadata": {},
   "outputs": [],
   "source": [
    "test = butler.get('defects', dataId={'detector': 2, 'expId': 2021040200025, 'dayObs': '2021-04-02', 'raftName': 'R22', 'detectorName': 'S02'})"
   ]
  },
  {
   "cell_type": "code",
   "execution_count": null,
   "metadata": {},
   "outputs": [],
   "source": [
    "test = butler.get('defects', dataId={'detector': 2, 'expId': 2021040200025, 'dayObs':'2021-04-02', 'raftName':'R22'})"
   ]
  },
  {
   "cell_type": "code",
   "execution_count": null,
   "metadata": {},
   "outputs": [],
   "source": [
    "# RUN = '12597'\n",
    "butler = Butler(DATA_DIR)\n",
    "visits = butler.queryMetadata('raw', ['run', 'expId', 'EXPTIME', 'TESTTYPE'], raftName=RAFT,\\\n",
    "                              detectorName=SENSOR, dayObs='2020-10-06')\n",
    "for (run, expId, exptime, testtype) in visits:\n",
    "    print(run, expId, exptime, testtype)"
   ]
  },
  {
   "cell_type": "code",
   "execution_count": null,
   "metadata": {},
   "outputs": [],
   "source": [
    "butler = Butler(DATA_DIR)\n",
    "visits = butler.queryMetadata('raw', ['expId', 'EXPTIME', 'TESTTYPE'], raftName=RAFT,\\\n",
    "                              detectorName=SENSOR, dayObs='2020-08-28')\n",
    "for (expId, exptime, testtype) in visits:\n",
    "    print(expId, exptime, testtype)"
   ]
  },
  {
   "cell_type": "code",
   "execution_count": null,
   "metadata": {},
   "outputs": [],
   "source": [
    "RUN = '12539'\n",
    "butler = Butler(DATA_DIR)\n",
    "dets = butler.queryMetadata('raw', ['raftName','detector'],run=RUN)\n",
    "print(\"Total CCDs = %d\"%len(dets))\n",
    "imDets = []\n",
    "for [raftName, det] in dets:\n",
    "    if raftName in ['R00', 'R04', 'R40', 'R44']:\n",
    "        continue\n",
    "    else:\n",
    "        imDets.append(det)\n",
    "print(\"Imaging CCDs = %d\"%len(imDets))\n",
    "print(np.sort(imDets))"
   ]
  },
  {
   "cell_type": "code",
   "execution_count": null,
   "metadata": {},
   "outputs": [],
   "source": [
    "# First check the flats\n",
    "DATA_DIR = '/project/shared/comCam-CCS/'\n",
    "filedir = DATA_DIR+'_parent/raw/'\n",
    "files = glob.glob(filedir+'*/*/3020122800???-%s-%s-det004.fits'%(RAFT,SENSOR))\n",
    "files = np.sort(files)\n",
    "numFiles = len(files)\n",
    "print(numFiles)\n",
    "print(files[0])\n",
    "\n",
    "for file in files:\n",
    "    hdulist = pf.open(file, mode='readonly', do_not_scale_image_data=True)\n",
    "    phdr=hdulist[0].header\n",
    "    filenumber = file.split('/')[-1][0:13]\n",
    "    seq = int(file.split('/')[-1][8:13])\n",
    "    try:\n",
    "        exptime = phdr['EXPTIME']\n",
    "    except:\n",
    "        exptime = 'None'\n",
    "    try:\n",
    "        filter = phdr['FILTER']\n",
    "    except:\n",
    "        filter = 'None'\n",
    "    imgtype = phdr['IMGTYPE'] \n",
    "    print(filenumber, seq, imgtype, exptime, filter)"
   ]
  },
  {
   "cell_type": "code",
   "execution_count": null,
   "metadata": {},
   "outputs": [],
   "source": [
    "for key in phdr.keys():\n",
    "    print(key, phdr[key])"
   ]
  },
  {
   "cell_type": "code",
   "execution_count": null,
   "metadata": {},
   "outputs": [],
   "source": []
  }
 ],
 "metadata": {
  "jupytext": {
   "formats": "ipynb,markdown//md"
  },
  "kernelspec": {
   "display_name": "LSST",
   "language": "python",
   "name": "lsst"
  },
  "language_info": {
   "codemirror_mode": {
    "name": "ipython",
    "version": 3
   },
   "file_extension": ".py",
   "mimetype": "text/x-python",
   "name": "python",
   "nbconvert_exporter": "python",
   "pygments_lexer": "ipython3",
   "version": "3.8.8"
  }
 },
 "nbformat": 4,
 "nbformat_minor": 4
}
