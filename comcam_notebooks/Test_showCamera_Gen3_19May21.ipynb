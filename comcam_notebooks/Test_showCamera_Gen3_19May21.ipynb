{
 "cells": [
  {
   "cell_type": "markdown",
   "metadata": {},
   "source": [
    "# Notebook for testing showCamera.\n",
    "Initially written by Michael Reuter.\\\n",
    "Testing with comCam data from 2021-04-02."
   ]
  },
  {
   "cell_type": "code",
   "execution_count": null,
   "metadata": {
    "execution": {
     "iopub.execute_input": "2024-11-20T15:10:15.128389Z",
     "iopub.status.busy": "2024-11-20T15:10:15.127925Z",
     "iopub.status.idle": "2024-11-20T15:10:16.388717Z",
     "shell.execute_reply": "2024-11-20T15:10:16.388286Z",
     "shell.execute_reply.started": "2024-11-20T15:10:15.128371Z"
    }
   },
   "outputs": [],
   "source": [
    "import logging\n",
    "import sys\n",
    "\n",
    "import matplotlib.pyplot as plt\n",
    "import numpy as np\n",
    "\n",
    "import lsst.afw.cameraGeom.utils as camGeomUtils\n",
    "import lsst.afw.display as afwDisplay\n",
    "import lsst.daf.butler as dafButler\n",
    "\n",
    "%matplotlib inline \n",
    "%config InlineBackend.figure_format = 'retina'\n",
    "\n",
    "afwDisplay.setDefaultBackend(\"matplotlib\")"
   ]
  },
  {
   "cell_type": "code",
   "execution_count": null,
   "metadata": {
    "execution": {
     "iopub.execute_input": "2024-11-20T15:10:17.552060Z",
     "iopub.status.busy": "2024-11-20T15:10:17.551616Z",
     "iopub.status.idle": "2024-11-20T15:10:17.554765Z",
     "shell.execute_reply": "2024-11-20T15:10:17.554398Z",
     "shell.execute_reply.started": "2024-11-20T15:10:17.552043Z"
    }
   },
   "outputs": [],
   "source": [
    "def myCallback(im, ccd, imageSource):\n",
    "    \"\"\"Assemble the CCD image.  Just bias subtraction and gain correction\"\"\"\n",
    "    oim = camGeomUtils.rawCallback(im, ccd, imageSource,\n",
    "                                   subtractBias=False, correctGain=True)\n",
    "    return oim"
   ]
  },
  {
   "cell_type": "code",
   "execution_count": null,
   "metadata": {
    "execution": {
     "iopub.execute_input": "2024-11-20T15:10:22.923927Z",
     "iopub.status.busy": "2024-11-20T15:10:22.923500Z",
     "iopub.status.idle": "2024-11-20T15:10:23.282127Z",
     "shell.execute_reply": "2024-11-20T15:10:23.281698Z",
     "shell.execute_reply.started": "2024-11-20T15:10:22.923910Z"
    }
   },
   "outputs": [],
   "source": [
    "dataPath = \"/repo/main\"\n",
    "instrument = \"LSSTComCam\"\n",
    "butler = dafButler.Butler(dataPath, \n",
    "                          collections=[\"LSSTComCam/raw/all\", \"LSSTComCam/calib/unbounded\"],\n",
    "                          instrument=instrument)\n"
   ]
  },
  {
   "cell_type": "code",
   "execution_count": null,
   "metadata": {
    "execution": {
     "iopub.execute_input": "2024-11-20T15:10:27.335536Z",
     "iopub.status.busy": "2024-11-20T15:10:27.335116Z",
     "iopub.status.idle": "2024-11-20T15:10:27.337831Z",
     "shell.execute_reply": "2024-11-20T15:10:27.337538Z",
     "shell.execute_reply.started": "2024-11-20T15:10:27.335520Z"
    }
   },
   "outputs": [],
   "source": [
    "day_obs = 20210401\n",
    "seq_num = 27\n",
    "raftName = \"R22\"\n",
    "dataId = {\"instrument\": instrument, \"detector.raft\": raftName,\n",
    "          \"exposure.day_obs\": day_obs, \"exposure.seq_num\": seq_num}"
   ]
  },
  {
   "cell_type": "code",
   "execution_count": null,
   "metadata": {
    "execution": {
     "iopub.execute_input": "2024-11-20T15:10:29.644421Z",
     "iopub.status.busy": "2024-11-20T15:10:29.643933Z",
     "iopub.status.idle": "2024-11-20T15:10:30.143753Z",
     "shell.execute_reply": "2024-11-20T15:10:30.143330Z",
     "shell.execute_reply.started": "2024-11-20T15:10:29.644403Z"
    }
   },
   "outputs": [],
   "source": [
    "camera = butler.get('camera', instrument=instrument)"
   ]
  },
  {
   "cell_type": "code",
   "execution_count": null,
   "metadata": {
    "execution": {
     "iopub.execute_input": "2024-11-20T15:10:31.139935Z",
     "iopub.status.busy": "2024-11-20T15:10:31.139494Z",
     "iopub.status.idle": "2024-11-20T15:10:34.406397Z",
     "shell.execute_reply": "2024-11-20T15:10:34.405963Z",
     "shell.execute_reply.started": "2024-11-20T15:10:31.139917Z"
    }
   },
   "outputs": [],
   "source": [
    "metadata = butler.get('raw.visitInfo', {**dataId, \"detector.id\": 0})"
   ]
  },
  {
   "cell_type": "code",
   "execution_count": null,
   "metadata": {
    "execution": {
     "iopub.execute_input": "2024-11-20T15:10:34.407246Z",
     "iopub.status.busy": "2024-11-20T15:10:34.407100Z",
     "iopub.status.idle": "2024-11-20T15:10:34.409755Z",
     "shell.execute_reply": "2024-11-20T15:10:34.409402Z",
     "shell.execute_reply.started": "2024-11-20T15:10:34.407232Z"
    }
   },
   "outputs": [],
   "source": [
    "print(metadata)"
   ]
  },
  {
   "cell_type": "code",
   "execution_count": null,
   "metadata": {
    "execution": {
     "iopub.execute_input": "2024-11-20T15:10:40.787208Z",
     "iopub.status.busy": "2024-11-20T15:10:40.786935Z",
     "iopub.status.idle": "2024-11-20T15:11:30.827185Z",
     "shell.execute_reply": "2024-11-20T15:11:30.826756Z",
     "shell.execute_reply.started": "2024-11-20T15:10:40.787193Z"
    },
    "jupyter": {
     "outputs_hidden": true
    }
   },
   "outputs": [],
   "source": [
    "for det in range(9):\n",
    "    exp = butler.get('raw', {**dataId, \"detector.id\": det})\n",
    "    arr = arr = exp.image.array\n",
    "    print(det, arr.min(), arr.max(), arr.mean(), arr.std())"
   ]
  },
  {
   "cell_type": "code",
   "execution_count": null,
   "metadata": {
    "execution": {
     "iopub.execute_input": "2024-11-20T15:11:33.728280Z",
     "iopub.status.busy": "2024-11-20T15:11:33.727852Z",
     "iopub.status.idle": "2024-11-20T15:11:36.319629Z",
     "shell.execute_reply": "2024-11-20T15:11:36.319198Z",
     "shell.execute_reply.started": "2024-11-20T15:11:33.728264Z"
    }
   },
   "outputs": [],
   "source": [
    "fig = plt.figure(figsize=(12,12))\n",
    "disp = afwDisplay.Display(1, \"matplotlib\")\n",
    "#disp.scale('asinh', 'zscale')\n",
    "#disp.scale('linear', 0, max=8000)\n",
    "\n",
    "dataType='raw'\n",
    "mos = camGeomUtils.showCamera(camera,\n",
    "                              camGeomUtils.ButlerImage(butler, dataType, \n",
    "                                                       instrument=instrument, raft=raftName,\n",
    "                                                       day_obs=day_obs, seq_num=seq_num,\n",
    "                                                       verbose=True, callback=myCallback,\n",
    "                                                       background=np.nan),\n",
    "                              binSize=16, display=disp, overlay=False,\n",
    "                              title=\"%d %d %s\" % (day_obs, seq_num, dataType))"
   ]
  },
  {
   "cell_type": "code",
   "execution_count": null,
   "metadata": {},
   "outputs": [],
   "source": []
  }
 ],
 "metadata": {
  "jupytext": {
   "formats": "ipynb,markdown//md"
  },
  "kernelspec": {
   "display_name": "LSST",
   "language": "python",
   "name": "lsst"
  },
  "language_info": {
   "codemirror_mode": {
    "name": "ipython",
    "version": 3
   },
   "file_extension": ".py",
   "mimetype": "text/x-python",
   "name": "python",
   "nbconvert_exporter": "python",
   "pygments_lexer": "ipython3",
   "version": "3.11.9"
  }
 },
 "nbformat": 4,
 "nbformat_minor": 4
}
