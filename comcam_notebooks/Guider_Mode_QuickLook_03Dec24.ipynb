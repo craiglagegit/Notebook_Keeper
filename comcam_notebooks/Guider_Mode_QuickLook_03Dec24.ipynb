{
 "cells": [
  {
   "cell_type": "markdown",
   "id": "192ec44c-3199-4c4e-b76e-d0356073756b",
   "metadata": {
    "execution": {
     "iopub.execute_input": "2024-08-02T16:24:58.781988Z",
     "iopub.status.busy": "2024-08-02T16:24:58.781677Z",
     "iopub.status.idle": "2024-08-02T16:24:58.785379Z",
     "shell.execute_reply": "2024-08-02T16:24:58.784744Z",
     "shell.execute_reply.started": "2024-08-02T16:24:58.781960Z"
    }
   },
   "source": [
    "# Guider mode quick look\n",
    "This is intended to unpack the rawStamps from guider mode FITS files and \n",
    "give a quick look of all 16 stamps for all 4 CCDs. \\\n",
    "Craig Lage - 03-Dec-24"
   ]
  },
  {
   "cell_type": "code",
   "execution_count": null,
   "id": "3088ee0a-aa8e-48a7-b287-3ae645b3faab",
   "metadata": {
    "execution": {
     "iopub.execute_input": "2025-03-28T14:27:08.280921Z",
     "iopub.status.busy": "2025-03-28T14:27:08.280619Z",
     "iopub.status.idle": "2025-03-28T14:27:08.688129Z",
     "shell.execute_reply": "2025-03-28T14:27:08.687641Z",
     "shell.execute_reply.started": "2025-03-28T14:27:08.280905Z"
    }
   },
   "outputs": [],
   "source": [
    "import os\n",
    "import shlex, subprocess\n",
    "import matplotlib.pyplot as plt\n",
    "from mpl_toolkits.axes_grid1 import make_axes_locatable\n",
    "import numpy as np\n",
    "from astropy.io import fits\n",
    "from lsst.resources import ResourcePath"
   ]
  },
  {
   "cell_type": "markdown",
   "id": "f8cb8445-f7da-40e7-8edf-752a18fef668",
   "metadata": {},
   "source": [
    "# Get the main header and the information it contains"
   ]
  },
  {
   "cell_type": "code",
   "execution_count": null,
   "id": "c268c7f6-5b2f-404f-aaa2-2ac69c9a1d8e",
   "metadata": {
    "execution": {
     "iopub.execute_input": "2025-03-28T14:27:10.650468Z",
     "iopub.status.busy": "2025-03-28T14:27:10.650026Z",
     "iopub.status.idle": "2025-03-28T14:27:10.653757Z",
     "shell.execute_reply": "2025-03-28T14:27:10.653341Z",
     "shell.execute_reply.started": "2025-03-28T14:27:10.650450Z"
    }
   },
   "outputs": [],
   "source": [
    "def getMainHeaderInfo(hdu_list):\n",
    "    hdr0 = hdu_list[0].header\n",
    "    #raft = hdr0['RAFTBAY']\n",
    "    #ccd = hdr0['CCDSLOT']\n",
    "    #dayObs = hdr0['DAYOBS']\n",
    "    #seqNum = hdr0['SEQNUM']\n",
    "    roiCols = hdr0['ROICOLS']\n",
    "    roiRows = hdr0['ROIROWS']\n",
    "    try:\n",
    "        roiUnder = hdr0['ROIUNDER']\n",
    "    except:\n",
    "        roiUnder = 6\n",
    "    nStamps = hdr0['N_STAMPS']\n",
    "    \n",
    "    # Set the xor value - Guider CCDs are different from science CCDs\n",
    "    if raft in ['R00', 'R04', 'R40', 'R44']:\n",
    "        # Guider rafts\n",
    "        xor = 0x20000\n",
    "    else:\n",
    "        # Science rafts\n",
    "        xor = 0x1ffff\n",
    "    return [roiRows, roiCols, roiUnder, nStamps, xor]"
   ]
  },
  {
   "cell_type": "markdown",
   "id": "38f9dce1-6a04-4347-8a53-63699f775387",
   "metadata": {},
   "source": [
    "# Now define the code to unpack the rawStamps:"
   ]
  },
  {
   "cell_type": "code",
   "execution_count": null,
   "id": "2e51d1a5-eccb-41d5-aea3-7f87778d5ce4",
   "metadata": {
    "execution": {
     "iopub.execute_input": "2025-03-28T14:27:13.427967Z",
     "iopub.status.busy": "2025-03-28T14:27:13.427676Z",
     "iopub.status.idle": "2025-03-28T14:27:13.431831Z",
     "shell.execute_reply": "2025-03-28T14:27:13.431473Z",
     "shell.execute_reply.started": "2025-03-28T14:27:13.427952Z"
    }
   },
   "outputs": [],
   "source": [
    "def unpackStamps(hduNum):\n",
    "    data = (hdu_list[hduNum].data['rawStamp'][0]).astype('>u4')\n",
    "    data.byteswap(inplace=True)\n",
    "    totalCols = roiCols + roiUnder\n",
    "    size = roiRows * totalCols\n",
    "    out = np.zeros([16, size], dtype=int)\n",
    "    image_out = np.zeros([16, roiRows, roiCols], dtype=int)\n",
    "    \n",
    "    for n in range(size):\n",
    "        # Get 9 32 bit words of data\n",
    "        res = ''\n",
    "        for i in range(9):\n",
    "            d = data[(size - n) * 9 - i - 1]\n",
    "            d = format(d, '#034b')\n",
    "            d = d.split('b')[1]\n",
    "            res += d\n",
    "        # Now extract 16 18 bit words from the data\n",
    "        for i in range(16):\n",
    "            bin_value = res[i * 18:(i + 1) * 18]\n",
    "            int_value = int(bin_value, 2)\n",
    "            final_value = int_value ^ xor\n",
    "            out[i,n] = final_value  \n",
    "    for i in range(16):\n",
    "        reshaped = out[i,:].reshape(roiRows, totalCols)\n",
    "        image_out[i,:,:] = np.flipud(np.fliplr(reshaped[:,0:roiCols]))\n",
    "    return image_out"
   ]
  },
  {
   "cell_type": "code",
   "execution_count": null,
   "id": "7051b07a-49ac-4aeb-9c0f-1bd992dfeedc",
   "metadata": {
    "execution": {
     "iopub.execute_input": "2025-03-28T14:27:15.640638Z",
     "iopub.status.busy": "2025-03-28T14:27:15.640432Z",
     "iopub.status.idle": "2025-03-28T14:27:15.642915Z",
     "shell.execute_reply": "2025-03-28T14:27:15.642623Z",
     "shell.execute_reply.started": "2025-03-28T14:27:15.640622Z"
    }
   },
   "outputs": [],
   "source": [
    "# Set the scaling\n",
    "autoscale = True\n",
    "# Scale to use if autoscale = False\n",
    "vmin = 10000\n",
    "vmax = 30000"
   ]
  },
  {
   "cell_type": "markdown",
   "id": "257863ea-f430-4370-952a-ce33f372e16b",
   "metadata": {},
   "source": [
    "# Get a quick look at one frame for all 4 CCDs"
   ]
  },
  {
   "cell_type": "code",
   "execution_count": null,
   "id": "afd5de3d-6c0a-4bd9-aed1-f003eefa78e4",
   "metadata": {
    "execution": {
     "iopub.execute_input": "2025-03-28T14:27:18.539506Z",
     "iopub.status.busy": "2025-03-28T14:27:18.539288Z",
     "iopub.status.idle": "2025-03-28T14:27:27.889789Z",
     "shell.execute_reply": "2025-03-28T14:27:27.889370Z",
     "shell.execute_reply.started": "2025-03-28T14:27:18.539491Z"
    },
    "jupyter": {
     "outputs_hidden": true
    }
   },
   "outputs": [],
   "source": [
    "%matplotlib inline\n",
    "\n",
    "dayObs = 20241204\n",
    "seqNum = 134\n",
    "expId = int(f\"{dayObs}{seqNum:05d}\")\n",
    "raft = 'R22'\n",
    "ccds = ['S00', 'S01', 'S21', 'S22']\n",
    "n = 2 # This just unpacks one frame.  This chooses which frame\n",
    "\n",
    "for ccd in ccds:\n",
    "    filename = f\"s3://embargo@rubin-summit/LSSTComCam/{dayObs}/CC_O_{dayObs}_{seqNum:06d}/CC_O_{dayObs}_{seqNum:06d}_{raft}_{ccd}_guider.fits\"\n",
    "    \n",
    "    rp = ResourcePath(filename)\n",
    "    with rp.open(mode=\"rb\") as f:\n",
    "        hdu_list = fits.open(f)\n",
    "    [roiRows, roiCols, roiUnder, nStamps, xor] = getMainHeaderInfo(hdu_list)\n",
    "    hduNum = 2 * n + 1\n",
    "    hdrn = hdu_list[hduNum].header\n",
    "    timestamp = hdrn['STMPTIME']\n",
    "    image_out = unpackStamps(hduNum)\n",
    "    fig = plt.figure(figsize=(10,10))\n",
    "    axs = fig.subplots(4,4)\n",
    "    plt.subplots_adjust(wspace=.7, hspace=-0.2)\n",
    "    plt.suptitle(f\"Guider mode {raft} {ccd} {expId}, Frame {n+1}\\n{timestamp}\", fontsize=24)\n",
    "    for i in range(4):\n",
    "        for j in range(4):\n",
    "            seg = i + 4 * j\n",
    "            axs[i][j].set_title(f\"segment {seg}\")\n",
    "            if autoscale:\n",
    "                im = axs[i][j].imshow(image_out[seg], interpolation='nearest', origin='upper', cmap='Greys')\n",
    "            else:\n",
    "                im = axs[i][j].imshow(image_out[seg], interpolation='nearest', origin='upper', vmin=vmin, vmax=vmax, cmap='Greys')\n",
    "            divider = make_axes_locatable(axs[i][j])\n",
    "            cax = divider.append_axes(\"right\", size=\"5%\", pad=0.05)\n",
    "            fig.colorbar(im, cax=cax)\n",
    "            \n",
    "    plt.savefig(f\"/home/c/cslage/u/Guider_Mode/quick_looks/Guider_QuickLook_{expId}_{raft}_{ccd}.png\")"
   ]
  },
  {
   "cell_type": "markdown",
   "id": "8f287a32-a1ef-46b3-86e6-2e73d46a2ce1",
   "metadata": {
    "execution": {
     "iopub.execute_input": "2024-12-06T12:37:35.605996Z",
     "iopub.status.busy": "2024-12-06T12:37:35.605697Z",
     "iopub.status.idle": "2024-12-06T12:37:35.608485Z",
     "shell.execute_reply": "2024-12-06T12:37:35.608027Z",
     "shell.execute_reply.started": "2024-12-06T12:37:35.605979Z"
    }
   },
   "source": [
    "# Quick look at one of the headers"
   ]
  },
  {
   "cell_type": "code",
   "execution_count": null,
   "id": "79d2ff8b-4b90-497d-88cc-4654cdd7257c",
   "metadata": {
    "execution": {
     "iopub.execute_input": "2025-03-28T14:28:15.245263Z",
     "iopub.status.busy": "2025-03-28T14:28:15.244941Z",
     "iopub.status.idle": "2025-03-28T14:28:15.254867Z",
     "shell.execute_reply": "2025-03-28T14:28:15.254495Z",
     "shell.execute_reply.started": "2025-03-28T14:28:15.245248Z"
    }
   },
   "outputs": [],
   "source": [
    "hduNum = 7\n",
    "hdr_test = hdu_list[hduNum].header\n",
    "for key in hdr_test.keys():\n",
    "    print(key, hdr_test[key])"
   ]
  },
  {
   "cell_type": "code",
   "execution_count": null,
   "id": "4781f32c-d07c-4517-8fd9-d47ab1e38cef",
   "metadata": {
    "execution": {
     "iopub.execute_input": "2024-12-11T15:18:52.321118Z",
     "iopub.status.busy": "2024-12-11T15:18:52.320813Z",
     "iopub.status.idle": "2024-12-11T15:18:52.398608Z",
     "shell.execute_reply": "2024-12-11T15:18:52.398281Z",
     "shell.execute_reply.started": "2024-12-11T15:18:52.321102Z"
    }
   },
   "outputs": [],
   "source": [
    "seg = 13\n",
    "arr = np.array(image_out[seg])\n",
    "arr = arr - np.median(arr)\n",
    "(ycen, xcen) = np.unravel_index(arr.argmax(), arr.shape)\n",
    "stamp = 30\n",
    "x1 = int(xcen - stamp / 2)\n",
    "x2 = x1 + stamp\n",
    "\n",
    "y1 = int(ycen - stamp / 2)\n",
    "y2 = y1 + stamp\n",
    "print(x1, x2, y1, y2, xcen, ycen)\n",
    "plt.imshow(arr[y1:y2, x1:x2], interpolation='nearest', origin='lower')#, cmap='Greys')"
   ]
  },
  {
   "cell_type": "code",
   "execution_count": null,
   "id": "7ad64c06-217c-48af-bf53-31eda9be0303",
   "metadata": {
    "execution": {
     "iopub.execute_input": "2024-12-11T15:17:52.563968Z",
     "iopub.status.busy": "2024-12-11T15:17:52.563659Z",
     "iopub.status.idle": "2024-12-11T15:17:52.567120Z",
     "shell.execute_reply": "2024-12-11T15:17:52.566791Z",
     "shell.execute_reply.started": "2024-12-11T15:17:52.563953Z"
    }
   },
   "outputs": [],
   "source": [
    "np.unravel_index(arr.argmax(), arr.shape)"
   ]
  },
  {
   "cell_type": "code",
   "execution_count": null,
   "id": "517fa7e4-66a4-47c9-bf71-aca5c234707b",
   "metadata": {
    "execution": {
     "iopub.execute_input": "2024-12-11T15:05:28.759734Z",
     "iopub.status.busy": "2024-12-11T15:05:28.759434Z",
     "iopub.status.idle": "2024-12-11T15:05:28.763359Z",
     "shell.execute_reply": "2024-12-11T15:05:28.762976Z",
     "shell.execute_reply.started": "2024-12-11T15:05:28.759718Z"
    }
   },
   "outputs": [],
   "source": [
    "arr"
   ]
  },
  {
   "cell_type": "code",
   "execution_count": null,
   "id": "5b489632-7d46-4c20-ac86-248db0f1c33f",
   "metadata": {
    "execution": {
     "iopub.execute_input": "2024-12-11T15:06:03.364713Z",
     "iopub.status.busy": "2024-12-11T15:06:03.364416Z",
     "iopub.status.idle": "2024-12-11T15:06:03.425203Z",
     "shell.execute_reply": "2024-12-11T15:06:03.424744Z",
     "shell.execute_reply.started": "2024-12-11T15:06:03.364698Z"
    }
   },
   "outputs": [],
   "source": []
  },
  {
   "cell_type": "code",
   "execution_count": null,
   "id": "a55ce30b-68d9-4fc9-baf9-064b8a88ce64",
   "metadata": {
    "execution": {
     "iopub.execute_input": "2024-12-11T15:06:26.013027Z",
     "iopub.status.busy": "2024-12-11T15:06:26.012534Z",
     "iopub.status.idle": "2024-12-11T15:06:26.016508Z",
     "shell.execute_reply": "2024-12-11T15:06:26.016127Z",
     "shell.execute_reply.started": "2024-12-11T15:06:26.013009Z"
    }
   },
   "outputs": [],
   "source": [
    "com(arr)"
   ]
  },
  {
   "cell_type": "code",
   "execution_count": null,
   "id": "ec552b15-877f-45ba-b63d-7ea542da0c7f",
   "metadata": {},
   "outputs": [],
   "source": []
  }
 ],
 "metadata": {
  "kernelspec": {
   "display_name": "LSST",
   "language": "python",
   "name": "lsst"
  },
  "language_info": {
   "codemirror_mode": {
    "name": "ipython",
    "version": 3
   },
   "file_extension": ".py",
   "mimetype": "text/x-python",
   "name": "python",
   "nbconvert_exporter": "python",
   "pygments_lexer": "ipython3",
   "version": "3.12.9"
  }
 },
 "nbformat": 4,
 "nbformat_minor": 5
}
