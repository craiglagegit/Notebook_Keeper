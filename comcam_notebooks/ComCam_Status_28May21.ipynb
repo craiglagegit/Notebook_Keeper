{
 "cells": [
  {
   "cell_type": "markdown",
   "metadata": {},
   "source": [
    "## ComCam status\n",
    "\n",
    "Query ComCam camera status from NCSA\\\n",
    "Craig Lage - 28-May-21"
   ]
  },
  {
   "cell_type": "code",
   "execution_count": null,
   "metadata": {},
   "outputs": [],
   "source": [
    "import sys, time, os, asyncio, glob\n",
    "from datetime import datetime\n",
    "import numpy as np\n",
    "import matplotlib.pyplot as plt\n",
    "from astropy.time import Time, TimeDelta\n",
    "from lsst_efd_client import EfdClient"
   ]
  },
  {
   "cell_type": "code",
   "execution_count": null,
   "metadata": {},
   "outputs": [],
   "source": [
    "# Get EFD client\n",
    "client = EfdClient('summit_efd')"
   ]
  },
  {
   "cell_type": "code",
   "execution_count": null,
   "metadata": {},
   "outputs": [],
   "source": [
    "t_end = Time(time.time(),format='unix', scale='tai')\n",
    "t_start = t_end - TimeDelta(864000, format='sec') # Get transitions for last 10 days\n",
    "archiver = await client.select_time_series(\"lsst.sal.CCArchiver.logevent_summaryState\", ['*'],\n",
    "                                      t_start, t_end)\n",
    "camera = await client.select_time_series(\"lsst.sal.CCCamera.logevent_summaryState\", ['*'],\n",
    "                                      t_start, t_end)\n",
    "headerService = await client.select_time_series(\"lsst.sal.CCHeaderService.logevent_summaryState\", ['*'],\n",
    "                                      t_start, t_end)\n",
    "\n",
    "filter = await client.select_time_series(\"lsst.sal.CCCamera.logevent_endSetFilter\", ['*'],\n",
    "                                      t_start, t_end)\n",
    "\n",
    "for [sal, name] in [[archiver, \"CCArchiver\"], [camera, \"CCCamera\"], [headerService, \"CCHeaderService\"]]:\n",
    "    summaryState = sal['summaryState'][-1]\n",
    "    if summaryState == 1:\n",
    "        print(name + \" is in state DISABLED\")\n",
    "    elif summaryState == 2:\n",
    "        print(name + \" is in state ENABLED\")\n",
    "    elif summaryState == 3:\n",
    "        print(name + \" is in state FAULT\")\n",
    "    elif summaryState == 4:\n",
    "        print(name + \" is in state OFFLINE\")\n",
    "    elif summaryState == 5:\n",
    "        print(name + \" is in state STANDBY\")\n",
    "\n",
    "print(\"Current filter is \" + filter['filterName'][-1])"
   ]
  },
  {
   "cell_type": "code",
   "execution_count": null,
   "metadata": {},
   "outputs": [],
   "source": []
  }
 ],
 "metadata": {
  "jupytext": {
   "formats": "ipynb,markdown//md"
  },
  "kernelspec": {
   "display_name": "LSST",
   "language": "python",
   "name": "lsst"
  },
  "language_info": {
   "codemirror_mode": {
    "name": "ipython",
    "version": 3
   },
   "file_extension": ".py",
   "mimetype": "text/x-python",
   "name": "python",
   "nbconvert_exporter": "python",
   "pygments_lexer": "ipython3",
   "version": "3.8.8"
  }
 },
 "nbformat": 4,
 "nbformat_minor": 4
}
