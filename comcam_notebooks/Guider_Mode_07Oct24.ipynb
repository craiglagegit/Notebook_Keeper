{
 "cells": [
  {
   "cell_type": "markdown",
   "id": "192ec44c-3199-4c4e-b76e-d0356073756b",
   "metadata": {
    "execution": {
     "iopub.execute_input": "2024-08-02T16:24:58.781988Z",
     "iopub.status.busy": "2024-08-02T16:24:58.781677Z",
     "iopub.status.idle": "2024-08-02T16:24:58.785379Z",
     "shell.execute_reply": "2024-08-02T16:24:58.784744Z",
     "shell.execute_reply.started": "2024-08-02T16:24:58.781960Z"
    }
   },
   "source": [
    "# Guider mode image reduction\n",
    "Craig Lage - 07-Oct-24"
   ]
  },
  {
   "cell_type": "code",
   "execution_count": null,
   "id": "3088ee0a-aa8e-48a7-b287-3ae645b3faab",
   "metadata": {
    "execution": {
     "iopub.execute_input": "2024-10-08T21:42:24.614355Z",
     "iopub.status.busy": "2024-10-08T21:42:24.613971Z",
     "iopub.status.idle": "2024-10-08T21:42:24.625769Z",
     "shell.execute_reply": "2024-10-08T21:42:24.625425Z",
     "shell.execute_reply.started": "2024-10-08T21:42:24.614340Z"
    }
   },
   "outputs": [],
   "source": [
    "import os\n",
    "import shlex, subprocess\n",
    "import matplotlib.pyplot as plt\n",
    "from mpl_toolkits.axes_grid1 import make_axes_locatable\n",
    "import numpy as np\n",
    "from astropy.io import fits\n",
    "from astropy.table import Table"
   ]
  },
  {
   "cell_type": "code",
   "execution_count": null,
   "id": "02eebe1c-781c-4d09-9f15-c84f70d14517",
   "metadata": {
    "execution": {
     "iopub.execute_input": "2024-10-08T21:32:08.322856Z",
     "iopub.status.busy": "2024-10-08T21:32:08.322449Z",
     "iopub.status.idle": "2024-10-08T21:32:08.327863Z",
     "shell.execute_reply": "2024-10-08T21:32:08.327508Z",
     "shell.execute_reply.started": "2024-10-08T21:32:08.322837Z"
    }
   },
   "outputs": [],
   "source": [
    "filename = \"/home/c/cslage/u/ComCam/guider_mode/MC_C_20241005_000148_R04_SG1_guider.fits\"\n",
    "hdu_list = fits.open(filename, do_not_scale_image_data=True)"
   ]
  },
  {
   "cell_type": "code",
   "execution_count": null,
   "id": "84da7275-2de8-4821-bec4-f6b26b00c305",
   "metadata": {
    "execution": {
     "iopub.execute_input": "2024-10-08T21:32:09.654632Z",
     "iopub.status.busy": "2024-10-08T21:32:09.654316Z",
     "iopub.status.idle": "2024-10-08T21:32:09.659114Z",
     "shell.execute_reply": "2024-10-08T21:32:09.658744Z",
     "shell.execute_reply.started": "2024-10-08T21:32:09.654619Z"
    }
   },
   "outputs": [],
   "source": [
    "hdu_list[0].header"
   ]
  },
  {
   "cell_type": "code",
   "execution_count": null,
   "id": "33103c2f-aaa3-4f41-aa10-60dda3aa3429",
   "metadata": {
    "execution": {
     "iopub.execute_input": "2024-10-09T13:44:10.459553Z",
     "iopub.status.busy": "2024-10-09T13:44:10.459271Z",
     "iopub.status.idle": "2024-10-09T13:44:10.462339Z",
     "shell.execute_reply": "2024-10-09T13:44:10.462022Z",
     "shell.execute_reply.started": "2024-10-09T13:44:10.459540Z"
    }
   },
   "outputs": [],
   "source": [
    "hdu_list[3].header"
   ]
  },
  {
   "cell_type": "code",
   "execution_count": null,
   "id": "77f6ba5d-d677-48f6-bd60-c0e312af6c55",
   "metadata": {},
   "outputs": [],
   "source": [
    "expId = 2024100500148\n",
    "dirName = f\"/home/c/cslage/u/ComCam/guider_mode/movie_{expId}\"\n",
    "%mkdir -p {dirName}\n",
    "movieName = f\"Guider_{expId}.mp4\"\n",
    "print(movieName)\n",
    "\n",
    "# Build the individual frames\n",
    "fig = plt.figure(figsize=(8, 8))\n",
    "nStamps = int(hdu_list[0].header['N_STAMPS'])\n",
    "for n in range(nStamps):\n",
    "    data = hdu_list[2 * n + 2].data\n",
    "    plt.imshow(data, interpolation='nearest')\n",
    "    plt.title(f\"ComCam guider mode {expId}, Frame {n+1}\", fontsize=12)\n",
    "    plt.savefig(f\"{dirName}/Frame_{n:03d}.png\")\n",
    "    plt.clf()\n"
   ]
  },
  {
   "cell_type": "code",
   "execution_count": null,
   "id": "7c3415e9-b5cd-47e4-ba47-144fce897822",
   "metadata": {},
   "outputs": [],
   "source": [
    "print(f\"\\033[1mThe movie name will be: {dirName}/{movieName}\\033[0m\")\n",
    "\n",
    "command = f\"ffmpeg -pattern_type glob -i '{dirName}/*.png' -f mp4 -vcodec libx264 -pix_fmt yuv420p -framerate 50 -y {dirName}/{movieName}\"\n",
    "args = shlex.split(command)\n",
    "build_movie = subprocess.Popen(args)\n",
    "build_movie.wait()"
   ]
  },
  {
   "cell_type": "code",
   "execution_count": null,
   "id": "d0a748c5-4937-4708-9712-0f6367c12ed5",
   "metadata": {
    "execution": {
     "iopub.execute_input": "2024-10-09T12:18:07.318315Z",
     "iopub.status.busy": "2024-10-09T12:18:07.318011Z",
     "iopub.status.idle": "2024-10-09T12:18:07.321177Z",
     "shell.execute_reply": "2024-10-09T12:18:07.320888Z",
     "shell.execute_reply.started": "2024-10-09T12:18:07.318302Z"
    }
   },
   "outputs": [],
   "source": [
    "data = hdu_list[5].data[0][0]\n",
    "data.shape"
   ]
  },
  {
   "cell_type": "code",
   "execution_count": null,
   "id": "2e883f31-7353-431f-bb89-2707d892a82f",
   "metadata": {
    "execution": {
     "iopub.execute_input": "2024-10-08T21:33:25.872842Z",
     "iopub.status.busy": "2024-10-08T21:33:25.872649Z",
     "iopub.status.idle": "2024-10-08T21:33:25.875639Z",
     "shell.execute_reply": "2024-10-08T21:33:25.875336Z",
     "shell.execute_reply.started": "2024-10-08T21:33:25.872829Z"
    }
   },
   "outputs": [],
   "source": [
    "23850/9/50"
   ]
  },
  {
   "cell_type": "code",
   "execution_count": null,
   "id": "059b50ff-9c6c-45cd-9113-ebb95ac689ae",
   "metadata": {
    "execution": {
     "iopub.execute_input": "2024-10-09T12:18:13.960767Z",
     "iopub.status.busy": "2024-10-09T12:18:13.960373Z",
     "iopub.status.idle": "2024-10-09T12:18:13.979084Z",
     "shell.execute_reply": "2024-10-09T12:18:13.978685Z",
     "shell.execute_reply.started": "2024-10-09T12:18:13.960752Z"
    }
   },
   "outputs": [],
   "source": [
    "data = (hdu_list[5].data['rawStamp'][0]).astype('>u4')\n",
    "data.byteswap(inplace=True)\n",
    "xor = 0x20000\n",
    "size = 50 * 53\n",
    "out = np.zeros([16, size], dtype=int)\n",
    "image_out = np.zeros([16, 50,50], dtype=int)\n",
    "for n in range(size):\n",
    "    res = ''\n",
    "    for i in range(9):\n",
    "        d = data[(size-n)*9-i-1]\n",
    "        d = format(d, '#034b')\n",
    "        d = d.split('b')[1]\n",
    "        res += d\n",
    "    for i in range(16):\n",
    "        bin_value = res[i*18:(i+1)*18]\n",
    "        int_value = int(bin_value, 2)\n",
    "        final_value = int_value ^ xor\n",
    "        out[i,n] = final_value  \n",
    "for i in range(16):\n",
    "    reshaped = out[i,:].reshape(50,53)\n",
    "    image_out[i,:,:] = np.fliplr(reshaped[:,0:50])"
   ]
  },
  {
   "cell_type": "code",
   "execution_count": null,
   "id": "917afd42-84c8-4b13-bf09-20f9a4f929ab",
   "metadata": {
    "execution": {
     "iopub.execute_input": "2024-10-08T21:40:14.428841Z",
     "iopub.status.busy": "2024-10-08T21:40:14.428471Z",
     "iopub.status.idle": "2024-10-08T21:40:14.433847Z",
     "shell.execute_reply": "2024-10-08T21:40:14.433458Z",
     "shell.execute_reply.started": "2024-10-08T21:40:14.428827Z"
    },
    "jupyter": {
     "outputs_hidden": true
    }
   },
   "outputs": [],
   "source": [
    "plt.imshow?"
   ]
  },
  {
   "cell_type": "code",
   "execution_count": null,
   "id": "6117a876-4abe-4311-9adb-383a86d6c1ea",
   "metadata": {
    "execution": {
     "iopub.execute_input": "2024-10-08T21:40:37.336803Z",
     "iopub.status.busy": "2024-10-08T21:40:37.336473Z",
     "iopub.status.idle": "2024-10-08T21:40:37.442076Z",
     "shell.execute_reply": "2024-10-08T21:40:37.441753Z",
     "shell.execute_reply.started": "2024-10-08T21:40:37.336790Z"
    }
   },
   "outputs": [],
   "source": [
    "plt.imshow(image_out[13], interpolation='nearest', origin='lower')\n",
    "plt.colorbar()"
   ]
  },
  {
   "cell_type": "code",
   "execution_count": null,
   "id": "cc3ad8cf-5eb5-4b79-92e3-1c18984140e9",
   "metadata": {
    "execution": {
     "iopub.execute_input": "2024-10-08T21:51:18.963082Z",
     "iopub.status.busy": "2024-10-08T21:51:18.962830Z",
     "iopub.status.idle": "2024-10-08T21:51:20.309322Z",
     "shell.execute_reply": "2024-10-08T21:51:20.308957Z",
     "shell.execute_reply.started": "2024-10-08T21:51:18.963067Z"
    }
   },
   "outputs": [],
   "source": [
    "fig, axs = plt.subplots(4,4,figsize=(10,10))\n",
    "plt.subplots_adjust(wspace=.7, hspace=-0.2)\n",
    "for i in range(4):\n",
    "    for j in range(4):\n",
    "        n = i + 4 * j\n",
    "        axs[i][j].set_title(f\"segment {n}\")\n",
    "        im = axs[i][j].imshow(image_out[n], interpolation='nearest', origin='lower')\n",
    "        divider = make_axes_locatable(axs[i][j])\n",
    "        cax = divider.append_axes(\"right\", size=\"5%\", pad=0.05)\n",
    "        plt.colorbar(im, cax=cax)\n"
   ]
  },
  {
   "cell_type": "code",
   "execution_count": null,
   "id": "efc9afe0-504b-4eb6-9b01-a95ac77dd3a5",
   "metadata": {
    "execution": {
     "iopub.execute_input": "2024-10-08T21:52:08.667164Z",
     "iopub.status.busy": "2024-10-08T21:52:08.666766Z",
     "iopub.status.idle": "2024-10-08T21:52:08.775045Z",
     "shell.execute_reply": "2024-10-08T21:52:08.774676Z",
     "shell.execute_reply.started": "2024-10-08T21:52:08.667150Z"
    }
   },
   "outputs": [],
   "source": [
    "data = hdu_list[6].data\n",
    "plt.imshow(data, interpolation='nearest')\n",
    "plt.colorbar()\n",
    "data.shape"
   ]
  },
  {
   "cell_type": "code",
   "execution_count": null,
   "id": "4560c585-4df0-47a0-850b-0c78689073c2",
   "metadata": {
    "execution": {
     "iopub.execute_input": "2024-10-08T21:52:14.506823Z",
     "iopub.status.busy": "2024-10-08T21:52:14.506471Z",
     "iopub.status.idle": "2024-10-08T21:52:14.510192Z",
     "shell.execute_reply": "2024-10-08T21:52:14.509834Z",
     "shell.execute_reply.started": "2024-10-08T21:52:14.506809Z"
    }
   },
   "outputs": [],
   "source": [
    "for i in range(16):\n",
    "    diff = image_out[i] - data\n",
    "    print(i, np.max(diff), np.min(diff))\n"
   ]
  },
  {
   "cell_type": "code",
   "execution_count": null,
   "id": "093bf237-525a-452f-a6f3-55beae917fad",
   "metadata": {
    "execution": {
     "iopub.execute_input": "2024-10-08T21:52:40.274079Z",
     "iopub.status.busy": "2024-10-08T21:52:40.273704Z",
     "iopub.status.idle": "2024-10-08T21:52:40.278171Z",
     "shell.execute_reply": "2024-10-08T21:52:40.277805Z",
     "shell.execute_reply.started": "2024-10-08T21:52:40.274065Z"
    }
   },
   "outputs": [],
   "source": [
    "a = image_out[13]\n",
    "i,j = np.unravel_index(a.argmax(), a.shape)\n",
    "print(i,j)\n",
    "print(a[i,j])\n",
    "b = data\n",
    "i,j = np.unravel_index(b.argmax(), b.shape)\n",
    "print(i,j)\n",
    "print(b[i,j])\n",
    "a = image_out[13]\n",
    "i,j = np.unravel_index(a.argmin(), a.shape)\n",
    "print(i,j)\n",
    "print(a[i,j])\n",
    "b = data\n",
    "i,j = np.unravel_index(b.argmin(), b.shape)\n",
    "print(i,j)\n",
    "print(b[i,j])"
   ]
  },
  {
   "cell_type": "code",
   "execution_count": null,
   "id": "5ffdf742-840e-4a2f-af1f-b379bc20ab38",
   "metadata": {},
   "outputs": [],
   "source": [
    "data = (hdu_list[5].data['rawStamp'][0]).astype('>u4')\n",
    "d = data[0]\n",
    "print(d)\n",
    "print(bin(d))\n",
    "d = format(d, '#034b')\n",
    "d = d.split('b')[1]\n",
    "print(d)\n",
    "last_18 = d[14::]\n",
    "print(last_18)\n",
    "print(int(last_18, 2))"
   ]
  },
  {
   "cell_type": "code",
   "execution_count": null,
   "id": "d9011453-5053-451b-a768-8d1bfb52a93a",
   "metadata": {},
   "outputs": [],
   "source": [
    "format(0x4, '#06b')"
   ]
  },
  {
   "cell_type": "code",
   "execution_count": null,
   "id": "05da90bc-8f9f-4d1a-adc4-9cd52ac0e53d",
   "metadata": {},
   "outputs": [],
   "source": [
    "filename = \"/home/c/cslage/u/ComCam/guider_mode/MC_C_20241005_000148_R04_SG1_guider.fits\"\n",
    "hdu_list = fits.open(filename)\n",
    "data = (hdu_list[5].data['rawStamp'][0]).astype('>u4')\n",
    "data.byteswap(inplace=True)\n",
    "mask = 0x3ffff\n",
    "xor = 0x20000\n",
    "print(data[0])\n",
    "print(hex(data[0]))\n",
    "print(bin(data[0]))\n",
    "print(bin(mask))\n",
    "first_18 = data[0] & mask\n",
    "print(bin(first_18))\n",
    "print(first_18)\n",
    "xored = first_18 ^ xor\n",
    "print(bin(xored))\n",
    "print(xored)\n"
   ]
  },
  {
   "cell_type": "code",
   "execution_count": null,
   "id": "ea7a33ab-17ac-4e97-bc8e-0038204613f6",
   "metadata": {
    "execution": {
     "iopub.execute_input": "2024-10-08T22:05:55.339739Z",
     "iopub.status.busy": "2024-10-08T22:05:55.339386Z",
     "iopub.status.idle": "2024-10-08T22:05:55.342201Z",
     "shell.execute_reply": "2024-10-08T22:05:55.341844Z",
     "shell.execute_reply.started": "2024-10-08T22:05:55.339722Z"
    }
   },
   "outputs": [],
   "source": [
    "from sys import byteorder\n",
    "print(byteorder)"
   ]
  },
  {
   "cell_type": "code",
   "execution_count": null,
   "id": "05f72c7b-ff42-4300-a35a-29429a817dbb",
   "metadata": {},
   "outputs": [],
   "source": [
    "mask = 0x3ffff\n",
    "print(mask)\n",
    "print(bin(mask))"
   ]
  },
  {
   "cell_type": "code",
   "execution_count": null,
   "id": "fd18df1b-53eb-4741-88c3-9f5935106534",
   "metadata": {},
   "outputs": [],
   "source": [
    "size = 2\n",
    "for n in range(size):\n",
    "    for i in range(9):\n",
    "        print(n, i, (size-n)*9-i-1)"
   ]
  },
  {
   "cell_type": "code",
   "execution_count": null,
   "id": "50641e37-0924-49b8-9464-f1daa334ced6",
   "metadata": {},
   "outputs": [],
   "source": []
  }
 ],
 "metadata": {
  "kernelspec": {
   "display_name": "LSST",
   "language": "python",
   "name": "lsst"
  },
  "language_info": {
   "codemirror_mode": {
    "name": "ipython",
    "version": 3
   },
   "file_extension": ".py",
   "mimetype": "text/x-python",
   "name": "python",
   "nbconvert_exporter": "python",
   "pygments_lexer": "ipython3",
   "version": "3.11.9"
  }
 },
 "nbformat": 4,
 "nbformat_minor": 5
}
