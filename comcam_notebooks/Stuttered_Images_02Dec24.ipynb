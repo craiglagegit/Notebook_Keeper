{
 "cells": [
  {
   "cell_type": "markdown",
   "metadata": {},
   "source": [
    "# ComCam pointing errors\n",
    "\n",
    "Craig Lage - 14-Nov-24"
   ]
  },
  {
   "cell_type": "code",
   "execution_count": null,
   "metadata": {
    "execution": {
     "iopub.execute_input": "2024-12-02T20:03:52.374115Z",
     "iopub.status.busy": "2024-12-02T20:03:52.373846Z",
     "iopub.status.idle": "2024-12-02T20:03:57.836603Z",
     "shell.execute_reply": "2024-12-02T20:03:57.836174Z",
     "shell.execute_reply.started": "2024-12-02T20:03:52.374101Z"
    },
    "tags": []
   },
   "outputs": [],
   "source": [
    "import numpy as np\n",
    "import pickle as pkl\n",
    "import matplotlib.pyplot as plt\n",
    "from astropy.time import Time, TimeDelta\n",
    "from lsst.daf.butler import Butler\n",
    "from lsst.summit.utils.utils import dayObsIntToString\n",
    "from lsst.summit.utils.efdUtils import calcNextDay"
   ]
  },
  {
   "cell_type": "code",
   "execution_count": null,
   "metadata": {
    "execution": {
     "iopub.execute_input": "2024-12-03T12:11:56.350938Z",
     "iopub.status.busy": "2024-12-03T12:11:56.350620Z",
     "iopub.status.idle": "2024-12-03T12:12:02.976101Z",
     "shell.execute_reply": "2024-12-03T12:12:02.975492Z",
     "shell.execute_reply.started": "2024-12-03T12:11:56.350924Z"
    },
    "jupyter": {
     "outputs_hidden": true
    }
   },
   "outputs": [],
   "source": [
    "butler = Butler('/repo/embargo_old', collections=[\"LSSTComCam/raw/all\",\"LSSTComCam/calib\"])\n",
    "instrument = 'LSSTComCam'\n",
    "\n",
    "startDay = 20240723\n",
    "endDay = 20240801\n",
    "dayObs = startDay\n",
    "\n",
    "while dayObs <= endDay:\n",
    "    exposureList = []\n",
    "    for record in butler.registry.queryDimensionRecords(\"exposure\", \n",
    "                where=f\"exposure.day_obs={dayObs} and instrument='LSSTComCam'\"):\n",
    "        exposureList.append([record.id, record])\n",
    "    exposureList.sort(key=lambda x: x[0])\n",
    "    print(dayObs, len(exposureList))\n",
    "    for [id,record] in exposureList:\n",
    "        mData = butler.get('raw.metadata', detector=4, exposure=id, instrument=instrument)\n",
    "        if mData['STUTTER ROWS'] == None:\n",
    "            continue\n",
    "        if int(mData['STUTTER ROWS']) > 0:\n",
    "            print(mData['STUTTER ROWS'], mData['STUTTER DELAY'], mData['STUTTER NSHIFTS'])\n",
    "    \n",
    "    dayObs = calcNextDay(dayObs)\n",
    "\n"
   ]
  },
  {
   "cell_type": "code",
   "execution_count": null,
   "metadata": {
    "execution": {
     "iopub.execute_input": "2024-12-03T12:12:17.764522Z",
     "iopub.status.busy": "2024-12-03T12:12:17.764322Z",
     "iopub.status.idle": "2024-12-03T12:12:17.904434Z",
     "shell.execute_reply": "2024-12-03T12:12:17.903981Z",
     "shell.execute_reply.started": "2024-12-03T12:12:17.764507Z"
    }
   },
   "outputs": [],
   "source": [
    "expId = 2024072400012\n",
    "mData = butler.get('raw.metadata', detector=4, exposure=expId, instrument=instrument)\n",
    "for key in mData.keys():\n",
    "    print(key, mData[key])"
   ]
  },
  {
   "cell_type": "code",
   "execution_count": null,
   "metadata": {},
   "outputs": [],
   "source": []
  }
 ],
 "metadata": {
  "kernelspec": {
   "display_name": "LSST",
   "language": "python",
   "name": "lsst"
  },
  "language_info": {
   "codemirror_mode": {
    "name": "ipython",
    "version": 3
   },
   "file_extension": ".py",
   "mimetype": "text/x-python",
   "name": "python",
   "nbconvert_exporter": "python",
   "pygments_lexer": "ipython3",
   "version": "3.11.9"
  }
 },
 "nbformat": 4,
 "nbformat_minor": 4
}
