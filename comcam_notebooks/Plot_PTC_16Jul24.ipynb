{
 "cells": [
  {
   "cell_type": "markdown",
   "id": "e8cc3a14-f377-44f4-ab4c-97c9c3047697",
   "metadata": {},
   "source": [
    "# ComCam PTC plots with longer exposure times.\n",
    "\n",
    "Craig Lage 16-Jul-24"
   ]
  },
  {
   "cell_type": "code",
   "execution_count": null,
   "id": "a148b369-8943-4861-a51e-9cbeea70feb3",
   "metadata": {
    "execution": {
     "iopub.execute_input": "2024-07-17T11:39:58.977827Z",
     "iopub.status.busy": "2024-07-17T11:39:58.977633Z",
     "iopub.status.idle": "2024-07-17T11:39:58.981864Z",
     "shell.execute_reply": "2024-07-17T11:39:58.981480Z",
     "shell.execute_reply.started": "2024-07-17T11:39:58.977815Z"
    },
    "tags": []
   },
   "outputs": [],
   "source": [
    "import numpy as np\n",
    "from matplotlib import pyplot as plt\n",
    "\n",
    "from lsst.daf.butler import Butler\n",
    "from lsst.ip.isr import IsrTask, IsrTaskConfig\n",
    "from mpl_toolkits.axes_grid1 import make_axes_locatable\n",
    "from matplotlib.colors import LogNorm\n",
    "from lsst.cp.pipe.ptc import PlotPhotonTransferCurveTask, PlotPhotonTransferCurveConfig\n",
    "%matplotlib inline\n",
    "from IPython.display import Image, display\n",
    "from PIL import Image as PILImage\n",
    "from PIL import ImageDraw as PILImageDraw\n",
    "import img2pdf"
   ]
  },
  {
   "cell_type": "code",
   "execution_count": null,
   "id": "26a0cd7e-fae9-447f-9e4e-eceb35151e9d",
   "metadata": {
    "execution": {
     "iopub.execute_input": "2024-07-17T11:05:37.243027Z",
     "iopub.status.busy": "2024-07-17T11:05:37.242434Z",
     "iopub.status.idle": "2024-07-17T11:05:37.878871Z",
     "shell.execute_reply": "2024-07-17T11:05:37.878449Z",
     "shell.execute_reply.started": "2024-07-17T11:05:37.243012Z"
    }
   },
   "outputs": [],
   "source": [
    "plotButler = Butler(\"/repo/embargo\", collections=[\"u/cslage/sdf/comcam/ptc_20240716\"])"
   ]
  },
  {
   "cell_type": "code",
   "execution_count": null,
   "id": "210fe143-dc0c-44b8-abd2-8e02b978d579",
   "metadata": {
    "execution": {
     "iopub.execute_input": "2024-07-17T11:34:36.775652Z",
     "iopub.status.busy": "2024-07-17T11:34:36.775336Z",
     "iopub.status.idle": "2024-07-17T11:34:38.185695Z",
     "shell.execute_reply": "2024-07-17T11:34:38.185270Z",
     "shell.execute_reply.started": "2024-07-17T11:34:36.775641Z"
    }
   },
   "outputs": [],
   "source": [
    "filename = \"/home/c/cslage/u/ComCam/gains/PTC_20240716.pdf\"\n",
    "plotName = 'ptcVarMean'\n",
    "imList = []\n",
    "for detector in range(9):\n",
    "    ref = plotButler.registry.findDataset(plotName, detector=detector)\n",
    "    uri = plotButler.getURI(ref)\n",
    "    imList.append(uri.read())\n",
    "\n",
    "with open(filename, \"wb\") as f:\n",
    "    f.write(img2pdf.convert(imList))\n",
    "f.close()\n"
   ]
  },
  {
   "cell_type": "code",
   "execution_count": null,
   "id": "076bb03e-c7be-4841-87e8-4e46c5a48ecc",
   "metadata": {},
   "outputs": [],
   "source": []
  },
  {
   "cell_type": "code",
   "execution_count": null,
   "id": "d199ee93-a5e2-415a-8858-6380a73d74d6",
   "metadata": {},
   "outputs": [],
   "source": []
  },
  {
   "cell_type": "code",
   "execution_count": null,
   "id": "39709823-e98d-48ca-800d-23d3ede7cf56",
   "metadata": {},
   "outputs": [],
   "source": [
    "plotNames = ['ptcVarMean', 'ptcVarMeanLog']\n",
    "for detector in range(9):\n",
    "    for plotName in plotNames:\n",
    "        ref = plotButler.registry.findDataset(plotName, detector=detector)\n",
    "        filename = f\"/home/c/cslage/u/ComCam/gains/{plotName}_20240716_{detector}.png\"\n",
    "        uri = plotButler.getURI(ref)\n",
    "        with open(filename, \"wb\") as f:\n",
    "            \n"
   ]
  },
  {
   "cell_type": "code",
   "execution_count": null,
   "id": "b4230423-1e4e-422b-b53f-8448ff11e1ac",
   "metadata": {},
   "outputs": [],
   "source": [
    "ref = plotButler.registry.findDataset('ptcVarMean', detector=4)"
   ]
  },
  {
   "cell_type": "code",
   "execution_count": null,
   "id": "0fb761de-9c0f-4a8a-949a-cebd61991f1b",
   "metadata": {},
   "outputs": [],
   "source": [
    "ref"
   ]
  },
  {
   "cell_type": "code",
   "execution_count": null,
   "id": "bbba3734-2c7e-4dc6-b2d8-447c16bf026a",
   "metadata": {},
   "outputs": [],
   "source": [
    "uri = plotButler.getURI(ref)\n",
    "test = display(Image(data=uri.read()))\n",
    "#plt.savefig(\"/home/c/cslage/u/ComCam/gains/test.pdf\")"
   ]
  },
  {
   "cell_type": "code",
   "execution_count": null,
   "id": "2f12b734-56f1-4679-a6a9-7507a05efe28",
   "metadata": {
    "tags": []
   },
   "outputs": [],
   "source": [
    "# To save them\n",
    "\n",
    "detector=0\n",
    "plotNames = ['ptcVarMean', 'ptcVarMeanLog']\n",
    "for plotName in plotNames:\n",
    "    ref = plotButler.registry.findDataset(plotName, detector=detector)\n",
    "    filename = f\"/home/c/cslage/u/AuxTel/gains/{plotName}_20240429_2.png\"\n",
    "    uri = plotButler.getURI(ref)\n",
    "    with open(filename, \"wb\") as f:\n",
    "        f.write(uri.read())\n"
   ]
  },
  {
   "cell_type": "code",
   "execution_count": null,
   "id": "438c2988-9186-43a7-91ed-83763aa0e767",
   "metadata": {},
   "outputs": [],
   "source": [
    "type(test)"
   ]
  },
  {
   "cell_type": "code",
   "execution_count": null,
   "id": "7d2f547c-3b33-4dba-93e5-60e469ccd78f",
   "metadata": {
    "tags": []
   },
   "outputs": [],
   "source": [
    "# Just to view them\n",
    "plotButler = Butler(\"/repo/embargo\", collections=[\"u/cslage/sdf/latiss/ptc_20240429_2\"])\n",
    "detector=0\n",
    "plotNames = ['ptcVarMean', 'ptcVarMeanLog']\n",
    "for plotName in plotNames:\n",
    "    ref = plotButler.registry.findDataset(plotName, detector=detector)\n",
    "    uri = plotButler.getURI(ref)\n",
    "    display(Image(data=uri.read()))\n"
   ]
  },
  {
   "cell_type": "code",
   "execution_count": null,
   "id": "9189949f-b38a-4e04-bb25-f428a5775c5a",
   "metadata": {
    "tags": []
   },
   "outputs": [],
   "source": [
    "# Get the PTC data\n",
    "ptcButler = Butler(\"/repo/embargo\", collections=[\"u/cslage/sdf/latiss/ptc_20240429_2\"])\n",
    "ptc = ptcButler.get('ptc', instrument=\"LATISS\", detector=0)\n"
   ]
  },
  {
   "cell_type": "code",
   "execution_count": null,
   "id": "6bdcb4d4-eed9-488e-9a52-f327954c8a6d",
   "metadata": {
    "tags": []
   },
   "outputs": [],
   "source": [
    "ptc.rawExpTimes['C10'].shape"
   ]
  },
  {
   "cell_type": "code",
   "execution_count": null,
   "id": "9fa9e4fd-26b7-49d4-bbbd-76bf1657e204",
   "metadata": {
    "tags": []
   },
   "outputs": [],
   "source": [
    "ptc.getExpIdsUsed('C10')"
   ]
  },
  {
   "cell_type": "code",
   "execution_count": null,
   "id": "dd5af289-02ec-4c4a-aa48-4277dd512756",
   "metadata": {
    "execution": {
     "iopub.execute_input": "2024-07-17T12:00:41.557905Z",
     "iopub.status.busy": "2024-07-17T12:00:41.557388Z",
     "iopub.status.idle": "2024-07-17T12:00:43.286292Z",
     "shell.execute_reply": "2024-07-17T12:00:43.285853Z",
     "shell.execute_reply.started": "2024-07-17T12:00:41.557891Z"
    }
   },
   "outputs": [],
   "source": [
    "plt.figure(figsize=(8,8))\n",
    "plt.subplots_adjust(hspace=0.5, wspace=0.5)\n",
    "plt.suptitle(\"ComCam Gains - 20240716\", fontsize=24)\n",
    "exposure = 2024071600044\n",
    "plotcounter = 0\n",
    "for detector in range(9):\n",
    "    plotcounter += 1\n",
    "    plt.subplot(3,3,plotcounter)\n",
    "    plt.title(\"Detector%d\"%detector, fontsize = 12)\n",
    "    ptcDataset = plotButler.get('ptc', exposure=exposure, detector=detector)\n",
    "    gain_data = ptcDataset.gain\n",
    "    gain_err_data = ptcDataset.gainErr\n",
    "    amps = gain_data.keys()\n",
    "    gains = []\n",
    "    gain_err = []\n",
    "    amp_nums = []\n",
    "    for ii, amp in enumerate(amps):\n",
    "        gains.append(gain_data[amp])\n",
    "        gain_err.append(gain_err_data[amp])\n",
    "        amp_nums.append(ii)\n",
    "    plt.errorbar(amp_nums, gains, yerr=gain_err, marker = 'x')\n",
    "    plt.ylim(1.4, 1.8)\n",
    "    plt.ylabel(\"Gain\", fontsize = 12)\n",
    "    plt.xticks(amp_nums,amps, fontsize=6, rotation=90)\n",
    "plt.savefig('/home/c/cslage/u/ComCam/gains/Gain_Summary_16Jul24.pdf')\n"
   ]
  },
  {
   "cell_type": "code",
   "execution_count": null,
   "id": "30780268-7070-4e3e-be3c-667f28b29b18",
   "metadata": {},
   "outputs": [],
   "source": []
  }
 ],
 "metadata": {
  "kernelspec": {
   "display_name": "LSST",
   "language": "python",
   "name": "lsst"
  },
  "language_info": {
   "codemirror_mode": {
    "name": "ipython",
    "version": 3
   },
   "file_extension": ".py",
   "mimetype": "text/x-python",
   "name": "python",
   "nbconvert_exporter": "python",
   "pygments_lexer": "ipython3",
   "version": "3.11.9"
  },
  "toc-autonumbering": false,
  "toc-showcode": false,
  "toc-showmarkdowntxt": true
 },
 "nbformat": 4,
 "nbformat_minor": 5
}
