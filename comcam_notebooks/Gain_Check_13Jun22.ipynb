{
 "cells": [
  {
   "cell_type": "markdown",
   "id": "9d6adc35-0cdf-41a3-b203-75f8025e179b",
   "metadata": {},
   "source": [
    "# Checking gain and noise values on all three cameras\n",
    "\n",
    "Initially written 13 Jul 2022 by Craig Lage"
   ]
  },
  {
   "cell_type": "code",
   "execution_count": null,
   "id": "3e6f333d-c575-41ae-877e-e69bbffbb096",
   "metadata": {},
   "outputs": [],
   "source": [
    "import sys, os, glob, time\n",
    "import pickle as pkl\n",
    "import numpy as np\n",
    "import matplotlib.pyplot as plt\n",
    "from matplotlib.backends.backend_pdf import PdfPages\n",
    "import astropy.io.fits as pf\n",
    "from lsst.daf.butler import Butler\n",
    "import lsst.afw.math as afwMath"
   ]
  },
  {
   "cell_type": "code",
   "execution_count": null,
   "id": "37df3c94-6208-4f38-8bac-dada5fc3a668",
   "metadata": {},
   "outputs": [],
   "source": [
    "pdf = PdfPages(\"/project/cslage/gain_noise/Gain_Noise_Summary_13Jul22.pdf\")"
   ]
  },
  {
   "cell_type": "code",
   "execution_count": null,
   "id": "2ef95ece-3513-4db1-b950-22668425fefd",
   "metadata": {
    "jupyter": {
     "outputs_hidden": true
    },
    "tags": []
   },
   "outputs": [],
   "source": [
    "butler = Butler(\"/repo/main\", collections=[\"LSSTCam/raw/all\", \"LSSTCam/calib/unbounded\", \\\n",
    "                                          \"u/cslage/bps_13144M\"])\n",
    "LSSTCam_camera = butler.get('camera', instrument='LSSTCam')"
   ]
  },
  {
   "cell_type": "code",
   "execution_count": null,
   "id": "7815159f-bb60-43e0-9850-72d01324d2d0",
   "metadata": {
    "tags": []
   },
   "outputs": [],
   "source": [
    "expId = 3021120600575\n",
    "plotcounter = 0\n",
    "fig1 = plt.figure(figsize=(16,16))\n",
    "plt.subplots_adjust(hspace=0.3)\n",
    "\n",
    "for plotData in [\"Gain\", \"Noise\"]:\n",
    "    plt.suptitle(\"LSSTCam Gain and Noise - 13Jul22\", fontsize=24)\n",
    "    for detector in [54, 55, 56, 73, 74, 77]:\n",
    "        plotcounter += 1\n",
    "        plt.subplot(4,3,plotcounter)\n",
    "        plt.title(\"%s\"%LSSTCam_camera[detector].getName(), fontsize = 12)\n",
    "        ptcDataset = butler.get('ptc', exposure=expId, detector=detector)\n",
    "        if plotData == \"Gain\":\n",
    "            data = ptcDataset.gain\n",
    "            err_data = ptcDataset.gainErr\n",
    "        else:\n",
    "            data = ptcDataset.noise\n",
    "            err_data = ptcDataset.noiseErr\n",
    "        amps = data.keys()\n",
    "\n",
    "        yvals = []\n",
    "        stored_yvals = []\n",
    "        err = []\n",
    "        amp_nums = []\n",
    "        for ii, amp in enumerate(amps):\n",
    "            yvals.append(data[amp])\n",
    "            err.append(err_data[amp])\n",
    "            amp_nums.append(ii)\n",
    "            amps = data.keys()\n",
    "            if plotData == \"Gain\":\n",
    "                stored_yvals.append(LSSTCam_camera[detector].getAmplifiers()[ii].getGain())\n",
    "            else:\n",
    "                stored_yvals.append(LSSTCam_camera[detector].getAmplifiers()[ii].getReadNoise())\n",
    "        plt.errorbar(amp_nums, yvals, yerr=err, label=\"Meas_13144\")\n",
    "        plt.plot(amp_nums, stored_yvals, marker='x', label=\"DM Camera Values\")\n",
    "        if plotData == \"Gain\":\n",
    "            plt.ylim(1.0, 2.4)\n",
    "            plt.ylabel(\"Gain (e-/ADU)\", fontsize = 12)\n",
    "        else:\n",
    "            plt.ylim(0.0,20.0)\n",
    "            plt.ylabel(\"Read noise (electrons)\", fontsize = 12)\n",
    "        plt.xticks(amp_nums,amps, fontsize=8)\n",
    "        plt.legend(loc = 'upper right', fontsize = 12)\n",
    "pdf.savefig(fig1)"
   ]
  },
  {
   "cell_type": "code",
   "execution_count": null,
   "id": "3dae1bb5-be3f-44fc-a80e-cc7df6f583a1",
   "metadata": {
    "tags": []
   },
   "outputs": [],
   "source": [
    "butler = Butler(\"/repo/main\", collections=[\"LSSTComCam/raw/all\", \"LSSTComCam/calib/unbounded\",  \\\n",
    "                                           \"u/cslage/comcam/ptc_20220218\"])\n",
    "LSSTComCam_camera = butler.get('camera', instrument='LSSTComCam')"
   ]
  },
  {
   "cell_type": "code",
   "execution_count": null,
   "id": "180dd0d7-a367-4c38-ae38-9907f1b078ea",
   "metadata": {
    "tags": []
   },
   "outputs": [],
   "source": [
    "expId = 2022021800078\n",
    "plotcounter = 0\n",
    "fig2 = plt.figure(figsize=(16,16))\n",
    "plt.subplots_adjust(hspace=0.3)\n",
    "\n",
    "for plotData in [\"Gain\", \"Noise\"]:\n",
    "    plt.suptitle(\"LSSTComCam Gain and Noise - 13Jul22\", fontsize=24)\n",
    "    for detector in range(9):\n",
    "        plotcounter += 1\n",
    "        plt.subplot(6,3,plotcounter)\n",
    "        plt.title(\"%s\"%LSSTComCam_camera[detector].getName(), fontsize = 12)\n",
    "        ptcDataset = butler.get('ptc', exposure=expId, detector=detector)\n",
    "        if plotData == \"Gain\":\n",
    "            data = ptcDataset.gain\n",
    "            err_data = ptcDataset.gainErr\n",
    "        else:\n",
    "            data = ptcDataset.noise\n",
    "            err_data = ptcDataset.noiseErr\n",
    "        amps = data.keys()\n",
    "\n",
    "        yvals = []\n",
    "        stored_yvals = []\n",
    "        err = []\n",
    "        amp_nums = []\n",
    "        for ii, amp in enumerate(amps):\n",
    "            yvals.append(data[amp])\n",
    "            err.append(err_data[amp])\n",
    "            amp_nums.append(ii)\n",
    "            amps = data.keys()\n",
    "            if plotData == \"Gain\":\n",
    "                stored_yvals.append(LSSTComCam_camera[detector].getAmplifiers()[ii].getGain())\n",
    "            else:\n",
    "                stored_yvals.append(LSSTComCam_camera[detector].getAmplifiers()[ii].getReadNoise())\n",
    "        plt.errorbar(amp_nums, yvals, yerr=err, label=\"Meas_20220218\")\n",
    "        plt.plot(amp_nums, stored_yvals, marker='x', label=\"DM Camera Values\")\n",
    "        if plotData == \"Gain\":\n",
    "            plt.ylim(1.0, 2.4)\n",
    "            plt.ylabel(\"Gain (e-/ADU)\", fontsize = 12)\n",
    "        else:\n",
    "            plt.ylim(0.0,50.0)\n",
    "            plt.ylabel(\"Read noise (electrons)\", fontsize = 12)\n",
    "        plt.xticks(amp_nums,amps, fontsize=8)\n",
    "        plt.legend(loc = 'upper right', fontsize = 12)\n",
    "pdf.savefig(fig2)"
   ]
  },
  {
   "cell_type": "code",
   "execution_count": null,
   "id": "eb5e95b4-bbe1-4301-bbbb-7a995a05b3cf",
   "metadata": {
    "tags": []
   },
   "outputs": [],
   "source": [
    "butler = Butler(\"/repo/main\", collections=[\"LATISS/raw/all\", \"LATISS/calib/unbounded\", \\\n",
    "                                          \"u/cslage/latiss/ptc_20210217\"])\n",
    "LATISS_camera = butler.get('camera', instrument='LATISS')"
   ]
  },
  {
   "cell_type": "code",
   "execution_count": null,
   "id": "409f5a64-520f-4745-82ce-3f017461d869",
   "metadata": {},
   "outputs": [],
   "source": [
    "expId = 2021021700096\n",
    "plotcounter = 0\n",
    "fig3 = plt.figure(figsize=(16,8))\n",
    "plt.subplots_adjust(hspace=0.3)\n",
    "\n",
    "for plotData in [\"Gain\", \"Noise\"]:\n",
    "    plt.suptitle(\"LATISS Gain and Noise - 13Jul22\", fontsize=24)\n",
    "    for detector in range(1):\n",
    "        plotcounter += 1\n",
    "        plt.subplot(1,2,plotcounter)\n",
    "        plt.title(\"%s\"%LATISS_camera[detector].getName(), fontsize = 12)\n",
    "        ptcDataset = butler.get('ptc', exposure=expId, detector=detector)\n",
    "        if plotData == \"Gain\":\n",
    "            data = ptcDataset.gain\n",
    "            err_data = ptcDataset.gainErr\n",
    "        else:\n",
    "            data = ptcDataset.noise\n",
    "            err_data = ptcDataset.noiseErr\n",
    "        amps = data.keys()\n",
    "\n",
    "        yvals = []\n",
    "        stored_yvals = []\n",
    "        err = []\n",
    "        amp_nums = []\n",
    "        for ii, amp in enumerate(amps):\n",
    "            yvals.append(data[amp])\n",
    "            err.append(err_data[amp])\n",
    "            amp_nums.append(ii)\n",
    "            amps = data.keys()\n",
    "            if plotData == \"Gain\":\n",
    "                stored_yvals.append(LATISS_camera[detector].getAmplifiers()[ii].getGain())\n",
    "            else:\n",
    "                stored_yvals.append(LATISS_camera[detector].getAmplifiers()[ii].getReadNoise())\n",
    "        plt.errorbar(amp_nums, yvals, yerr=err, label=\"Meas_20210217\")\n",
    "        plt.plot(amp_nums, stored_yvals, marker='x', label=\"DM Camera Values\")\n",
    "        if plotData == \"Gain\":\n",
    "            plt.ylim(0.5, 4.0)\n",
    "            plt.ylabel(\"Gain (e-/ADU)\", fontsize = 12)\n",
    "        else:\n",
    "            plt.ylim(0.0,50.0)\n",
    "            plt.ylabel(\"Read noise (electrons)\", fontsize = 12)\n",
    "        plt.xticks(amp_nums,amps, fontsize=8)\n",
    "        plt.legend(loc = 'upper right', fontsize = 12)\n",
    "pdf.savefig(fig3)\n",
    "pdf.close()"
   ]
  },
  {
   "cell_type": "code",
   "execution_count": null,
   "id": "7729435f-f022-400b-b79a-86c43fba03f3",
   "metadata": {},
   "outputs": [],
   "source": [
    "LATISS_camera[0][7].getGain()"
   ]
  },
  {
   "cell_type": "code",
   "execution_count": null,
   "id": "f09bd15e-0454-4583-b49e-17774d05160e",
   "metadata": {},
   "outputs": [],
   "source": [
    "LATISS_camera[0].getName()"
   ]
  },
  {
   "cell_type": "code",
   "execution_count": null,
   "id": "6700d51f-5436-485c-985b-5e2c0b791676",
   "metadata": {},
   "outputs": [],
   "source": [
    "LSSTComCam_fits_Filename = '/repo/main/LSSTComCam/calib/DM-28636/unbounded/camera/camera_LSSTComCam_LSSTComCam_calib_DM-28636_unbounded.fits'"
   ]
  },
  {
   "cell_type": "code",
   "execution_count": null,
   "id": "28f7be4a-1cea-4129-97a3-bca8788f2ad6",
   "metadata": {},
   "outputs": [],
   "source": [
    "hdulist = pf.open(LSSTComCam_fits_Filename)"
   ]
  },
  {
   "cell_type": "code",
   "execution_count": null,
   "id": "b51bb436-41f8-417f-a526-d7193f562fb4",
   "metadata": {},
   "outputs": [],
   "source": [
    "hdulist[6].header"
   ]
  },
  {
   "cell_type": "code",
   "execution_count": null,
   "id": "99da05aa-300f-4b15-9c46-ce379c983268",
   "metadata": {},
   "outputs": [],
   "source": []
  }
 ],
 "metadata": {
  "jupytext": {
   "formats": "ipynb,markdown//md"
  },
  "kernelspec": {
   "display_name": "LSST",
   "language": "python",
   "name": "lsst"
  },
  "language_info": {
   "codemirror_mode": {
    "name": "ipython",
    "version": 3
   },
   "file_extension": ".py",
   "mimetype": "text/x-python",
   "name": "python",
   "nbconvert_exporter": "python",
   "pygments_lexer": "ipython3",
   "version": "3.10.4"
  }
 },
 "nbformat": 4,
 "nbformat_minor": 5
}
