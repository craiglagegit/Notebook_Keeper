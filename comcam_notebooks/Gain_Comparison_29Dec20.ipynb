{
 "cells": [
  {
   "cell_type": "markdown",
   "metadata": {},
   "source": [
    "# Notebook for plotting ComCam gains.\n",
    "\n",
    "Initially written 28 Aug 2020 by Craig Lage."
   ]
  },
  {
   "cell_type": "code",
   "execution_count": null,
   "metadata": {},
   "outputs": [],
   "source": [
    "! eups list -s | grep lsst_distrib\n",
    "! eups list -s | grep cp_pipe"
   ]
  },
  {
   "cell_type": "code",
   "execution_count": null,
   "metadata": {},
   "outputs": [],
   "source": [
    "import sys, os, glob, time\n",
    "import numpy as np\n",
    "import matplotlib.pyplot as plt\n",
    "from lsst.daf.persistence import Butler"
   ]
  },
  {
   "cell_type": "code",
   "execution_count": null,
   "metadata": {},
   "outputs": [],
   "source": [
    "DIR_1 = '/project/shared/comCam/rerun/cslage/PTC_2021-04-01/'\n",
    "DIR_2 = '/project/shared/comCam/rerun/cslage/PTC_2021-04-02/'\n",
    "DIR_3 = '/project/shared/comCam-CCS/rerun/cslage/PTC_2020-12-29/'\n",
    "RAFT = 'R22'\n",
    "#dirs = [DIR_1, DIR_2, DIR_3]\n",
    "#dirs = [DIR_2, DIR_3]\n",
    "dirs = [DIR_3]\n",
    "#run_names = ['Summit-2021-04-01_Rband', 'Summit-2021-04-02-Iband', 'Summit-2020-12-29-Iband?']\n",
    "#run_names = ['Summit-2021-04-02-Iband', 'Summit-2020-12-29-Iband?']\n",
    "run_names = ['Summit-2020-12-29-Iband?']\n",
    "markers = ['o', 'x', '+', '*', '^', 'v']"
   ]
  },
  {
   "cell_type": "code",
   "execution_count": null,
   "metadata": {},
   "outputs": [],
   "source": [
    "datasetFile = dir+'/calibrations/ptc/ptcDataset-det%03d.fits'%detector\n",
    "hdulist = pf.open(datasetFile, mode='readonly', do_not_scale_image_data=True)\n",
    "data=hdulist[1].data\n",
    "\n",
    "gain_data = data['GAIN']\n"
   ]
  },
  {
   "cell_type": "code",
   "execution_count": null,
   "metadata": {},
   "outputs": [],
   "source": [
    "test=butler.get('photonTransferCurveDataset', raftName=RAFT, detector=detector)"
   ]
  },
  {
   "cell_type": "code",
   "execution_count": null,
   "metadata": {},
   "outputs": [],
   "source": [
    "plt.figure(figsize=(16,8))\n",
    "plt.subplots_adjust(hspace=0.5)\n",
    "plt.suptitle(\"ComCam Gains - Summit\", fontsize=24)\n",
    "for i,dir in enumerate(dirs):\n",
    "    butler = Butler(dir)\n",
    "    run_name = run_names[i]\n",
    "    plotcounter = 0\n",
    "    for detector in range(9):\n",
    "        plotcounter += 1\n",
    "        plt.subplot(3,3,plotcounter)\n",
    "        plt.title(\"Detector%d\"%detector, fontsize = 12)\n",
    "        ptcDataset = butler.get('photonTransferCurveDataset', raftName=RAFT, detector=detector)\n",
    "        gain_data = ptcDataset.gain\n",
    "        gain_err_data = ptcDataset.gainErr\n",
    "        amps = gain_data.keys()\n",
    "        gains = []\n",
    "        gain_err = []\n",
    "        names = []\n",
    "        for amp in amps:\n",
    "            gains.append(gain_data[amp])\n",
    "            gain_err.append(gain_err_data[amp])\n",
    "            names.append(amp)\n",
    "        plt.errorbar(amps, gains, yerr=gain_err, marker = 'x', label = run_name)\n",
    "        plt.ylim(0.0, 1.5)\n",
    "        plt.ylabel(\"Gain\", fontsize = 12)\n",
    "        plt.xticks(list(range(16)),names, fontsize=8)\n",
    "        plt.legend(loc = 'lower right', fontsize = 12)\n",
    "#plt.savefig(DIR_3+'plots/Gain_Summary_30Dec20.pdf')\n"
   ]
  },
  {
   "cell_type": "code",
   "execution_count": null,
   "metadata": {},
   "outputs": [],
   "source": []
  }
 ],
 "metadata": {
  "jupytext": {
   "formats": "ipynb,markdown//md"
  },
  "kernelspec": {
   "display_name": "LSST",
   "language": "python",
   "name": "lsst"
  },
  "language_info": {
   "codemirror_mode": {
    "name": "ipython",
    "version": 3
   },
   "file_extension": ".py",
   "mimetype": "text/x-python",
   "name": "python",
   "nbconvert_exporter": "python",
   "pygments_lexer": "ipython3",
   "version": "3.8.8"
  }
 },
 "nbformat": 4,
 "nbformat_minor": 4
}
