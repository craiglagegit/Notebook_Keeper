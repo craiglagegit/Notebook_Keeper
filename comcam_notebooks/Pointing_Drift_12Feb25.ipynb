{
 "cells": [
  {
   "cell_type": "markdown",
   "metadata": {},
   "source": [
    "# ComCam pointing drift\n",
    "\n",
    "This notebook calculates the drift of an image due to the known pointing error during the ComCam campaign.\n",
    "\n",
    "Craig Lage - 06-Feb-25"
   ]
  },
  {
   "cell_type": "code",
   "execution_count": null,
   "metadata": {
    "execution": {
     "iopub.execute_input": "2025-02-17T13:46:43.997228Z",
     "iopub.status.busy": "2025-02-17T13:46:43.997015Z",
     "iopub.status.idle": "2025-02-17T13:46:44.001041Z",
     "shell.execute_reply": "2025-02-17T13:46:44.000570Z",
     "shell.execute_reply.started": "2025-02-17T13:46:43.997213Z"
    },
    "tags": []
   },
   "outputs": [],
   "source": [
    "import numpy as np\n",
    "import pickle as pkl\n",
    "import matplotlib.pyplot as plt\n",
    "from astropy.time import Time, TimeDelta\n",
    "from lsst.daf.butler import Butler\n",
    "import lsst.summit.utils.butlerUtils as butlerUtils\n",
    "from lsst.summit.utils.utils import dayObsIntToString\n",
    "from lsst.summit.utils.efdUtils import calcNextDay\n",
    "from astropy.coordinates import AltAz, ICRS, EarthLocation, Angle, FK5, SkyCoord\n",
    "import astropy.units as u\n",
    "from lsst.obs.lsst.translators.lsst import SIMONYI_LOCATION"
   ]
  },
  {
   "cell_type": "code",
   "execution_count": null,
   "metadata": {
    "execution": {
     "iopub.execute_input": "2025-02-17T14:08:27.375301Z",
     "iopub.status.busy": "2025-02-17T14:08:27.374816Z",
     "iopub.status.idle": "2025-02-17T14:08:27.378916Z",
     "shell.execute_reply": "2025-02-17T14:08:27.378558Z",
     "shell.execute_reply.started": "2025-02-17T14:08:27.375287Z"
    }
   },
   "outputs": [],
   "source": [
    "# Below is the wavelength center point for the LSST filters:\n",
    "wavelengths = {'u':3671, 'g':4827, 'r':6223, 'i':7546, 'z':8691, 'y':9712}\n",
    "\n",
    "def DeltaAltAz (el, az):\n",
    "    # This calculates the offset due to the pointing model\n",
    "#    # as extracted from ComCam images.\n",
    "    deltaEl = 125.4 - 187.9 * np.sin(az * np.pi / 180.0)\n",
    "    deltaAz = -222.0 + 348.1 * np.cos(az * np.pi / 360.0)\n",
    "    elPrime = el + deltaEl / 3600.0\n",
    "    azPrime = az + deltaAz / 3600.0\n",
    "    return [elPrime, azPrime]\n",
    "\n"
   ]
  },
  {
   "cell_type": "code",
   "execution_count": null,
   "metadata": {
    "execution": {
     "iopub.execute_input": "2025-02-16T20:10:06.537248Z",
     "iopub.status.busy": "2025-02-16T20:10:06.537015Z",
     "iopub.status.idle": "2025-02-16T20:10:06.766376Z",
     "shell.execute_reply": "2025-02-16T20:10:06.765938Z",
     "shell.execute_reply.started": "2025-02-16T20:10:06.537232Z"
    }
   },
   "outputs": [],
   "source": [
    "butler = Butler('/sdf/group/rubin/repo/main', collections=[\"LSSTComCam/raw/all\",\"LSSTComCam/calib\"])\n",
    "instrument = 'LSSTComCam'\n",
    "\n",
    "\n",
    "def CalculateDrift(expId):\n",
    "    md = butler.get('raw.metadata', detector=4, exposure=expId, instrument=instrument)\n",
    "    filter = md['FILTBAND']\n",
    "    pressure = md['PRESSURE'] * u.pascal\n",
    "    temperature = md['AIRTEMP'] * u.Celsius\n",
    "    hum = md['HUMIDITY']\n",
    "    time1 = Time(md['MJD-BEG'], format='mjd', scale='tai')\n",
    "    time2 = Time(md['MJD-END'], format='mjd', scale='tai')\n",
    "    ra = md['RASTART']\n",
    "    dec = md['DECSTART']\n",
    "    skyLocation = SkyCoord(ra*u.deg, dec*u.deg)\n",
    "    wl = wavelengths[filter] * u.angstrom\n",
    "    altAz1 = AltAz(obstime=time1, location=SIMONYI_LOCATION, pressure=pressure, \n",
    "                 temperature=temperature, relative_humidity=hum, obswl=wl)\n",
    "    altAz2 = AltAz(obstime=time2, location=SIMONYI_LOCATION, pressure=pressure, \n",
    "                 temperature=temperature, relative_humidity=hum, obswl=wl)\n",
    "    obsAltAz1 = skyLocation.transform_to(altAz1)\n",
    "    obsAltAz2 = skyLocation.transform_to(altAz2)\n",
    "    # 1 is at the beginning of the exposure, 2 is at the end\n",
    "    # el, az are the actual values, prime values reflect the pointing model\n",
    "    # These are all in degrees\n",
    "    el1 = obsAltAz1.alt.deg\n",
    "    az1 = obsAltAz1.az.deg\n",
    "    el2 = obsAltAz2.alt.deg\n",
    "    az2 = obsAltAz2.az.deg\n",
    "    [elPrime1, azPrime1] = DeltaAltAz (el1, az1)\n",
    "    [elPrime2, azPrime2] = DeltaAltAz (el2, az2)\n",
    "    # Change values are the change from the beginning to the end of the exposure, in arcseconds\n",
    "    azChange = (az2 - az1) * 3600.0\n",
    "    elChange = (el2 - el1) * 3600.0\n",
    "    azPrimeChange = (azPrime2 - azPrime1) * 3600.0\n",
    "    elPrimeChange = (elPrime2 - elPrime1) * 3600.0\n",
    "    azDrift = azChange - azPrimeChange\n",
    "    elDrift = elChange - elPrimeChange\n",
    "    print(f\" For {expId}, Azimuth drift = {azDrift:.2f} arcseconds, Elevation drift = {elDrift:.2f} arcseconds\")\n",
    "    return\n",
    "\n",
    "def CalculateDriftMultiple(expId1, expId2):\n",
    "    md1 = butler.get('raw.metadata', detector=4, exposure=expId1, instrument=instrument)\n",
    "    md2 = butler.get('raw.metadata', detector=4, exposure=expId2, instrument=instrument)\n",
    "    filter = md1['FILTBAND']\n",
    "    pressure = md1['PRESSURE'] * u.pascal\n",
    "    temperature = md1['AIRTEMP'] * u.Celsius\n",
    "    hum = md1['HUMIDITY']\n",
    "    time1 = Time(md1['MJD-BEG'], format='mjd', scale='tai')\n",
    "    time2 = Time(md2['MJD-END'], format='mjd', scale='tai')\n",
    "    ra = md1['RASTART']\n",
    "    dec = md1['DECSTART']\n",
    "    skyLocation = SkyCoord(ra*u.deg, dec*u.deg)\n",
    "    wl = wavelengths[filter] * u.angstrom\n",
    "    altAz1 = AltAz(obstime=time1, location=SIMONYI_LOCATION, pressure=pressure, \n",
    "                 temperature=temperature, relative_humidity=hum, obswl=wl)\n",
    "    altAz2 = AltAz(obstime=time2, location=SIMONYI_LOCATION, pressure=pressure, \n",
    "                 temperature=temperature, relative_humidity=hum, obswl=wl)\n",
    "    obsAltAz1 = skyLocation.transform_to(altAz1)\n",
    "    obsAltAz2 = skyLocation.transform_to(altAz2)\n",
    "    # 1 is at the beginning of the exposure, 2 is at the end\n",
    "    # el, az are the actual values, prime values reflect the pointing model\n",
    "    # These are all in degrees\n",
    "    el1 = obsAltAz1.alt.deg\n",
    "    az1 = obsAltAz1.az.deg\n",
    "    el2 = obsAltAz2.alt.deg\n",
    "    az2 = obsAltAz2.az.deg\n",
    "    [elPrime1, azPrime1] = DeltaAltAz (el1, az1)\n",
    "    [elPrime2, azPrime2] = DeltaAltAz (el2, az2)\n",
    "    # Change values are the change from the beginning to the end of the exposure, in arcseconds\n",
    "    azChange = (az2 - az1) * 3600.0\n",
    "    elChange = (el2 - el1) * 3600.0\n",
    "    azPrimeChange = (azPrime2 - azPrime1) * 3600.0\n",
    "    elPrimeChange = (elPrime2 - elPrime1) * 3600.0\n",
    "    azDrift = azChange - azPrimeChange\n",
    "    elDrift = elChange - elPrimeChange\n",
    "    print(f\" For exposures from {expId1} to {expId2}, Azimuth drift = {azDrift:.2f} arcseconds, Elevation drift = {elDrift:.2f} arcseconds\")\n",
    "    return\n"
   ]
  },
  {
   "cell_type": "code",
   "execution_count": null,
   "metadata": {},
   "outputs": [],
   "source": [
    "CalculateDrift(2024120700551)"
   ]
  },
  {
   "cell_type": "code",
   "execution_count": null,
   "metadata": {},
   "outputs": [],
   "source": [
    "CalculateDrift(2024120800407)"
   ]
  },
  {
   "cell_type": "code",
   "execution_count": null,
   "metadata": {},
   "outputs": [],
   "source": [
    "CalculateDriftMultiple(2024110900229, 2024110900248)"
   ]
  },
  {
   "cell_type": "code",
   "execution_count": null,
   "metadata": {
    "execution": {
     "iopub.execute_input": "2025-02-17T13:48:22.987874Z",
     "iopub.status.busy": "2025-02-17T13:48:22.987560Z",
     "iopub.status.idle": "2025-02-17T13:48:23.218237Z",
     "shell.execute_reply": "2025-02-17T13:48:23.217798Z",
     "shell.execute_reply.started": "2025-02-17T13:48:22.987858Z"
    },
    "tags": []
   },
   "outputs": [],
   "source": [
    "#butler = butlerUtils.makeDefaultButler(\"LSSTComCam\", embargo=True)\n",
    "butler = Butler('embargo', collections=[\"LSSTComCam/raw/all\",\n",
    "                   \"LSSTComCam/calib\",\n",
    "                    \"LSSTComCam/runs/nightlyValidation/20241109/d_2024_11_05/DM-47059\"])\n",
    "#butler = Butler('/repo/main', collections=[\"LSSTComCam/raw/all\",\n",
    "#                   \"LSSTComCam/calib\",\n",
    "#                    \"LSSTComCam/runs/DRP/DP1/w_2025_07/DM-48940\"])\n",
    "\n",
    "instrument = 'LSSTComCam'"
   ]
  },
  {
   "cell_type": "code",
   "execution_count": null,
   "metadata": {
    "execution": {
     "iopub.execute_input": "2025-02-17T13:48:25.060637Z",
     "iopub.status.busy": "2025-02-17T13:48:25.060334Z",
     "iopub.status.idle": "2025-02-17T13:48:26.456517Z",
     "shell.execute_reply": "2025-02-17T13:48:26.456059Z",
     "shell.execute_reply.started": "2025-02-17T13:48:25.060622Z"
    }
   },
   "outputs": [],
   "source": [
    "expId = 2024110900229\n",
    "calExp = butler.get('calexp', detector=4, visit=expId, instrument=\"LSSTComCam\")\n",
    "rawExp = butler.get('raw', detector=4, exposure=expId, instrument=\"LSSTComCam\")"
   ]
  },
  {
   "cell_type": "code",
   "execution_count": null,
   "metadata": {
    "execution": {
     "iopub.execute_input": "2025-02-17T14:13:34.933501Z",
     "iopub.status.busy": "2025-02-17T14:13:34.932918Z",
     "iopub.status.idle": "2025-02-17T14:13:34.936927Z",
     "shell.execute_reply": "2025-02-17T14:13:34.936535Z",
     "shell.execute_reply.started": "2025-02-17T14:13:34.933486Z"
    }
   },
   "outputs": [],
   "source": [
    "# Below is the wavelength center point for the LSST filters:\n",
    "wavelengths = {'u':3671, 'g':4827, 'r':6223, 'i':7546, 'z':8691, 'y':9712}\n",
    "\n",
    "def DeltaAltAz (el, az):\n",
    "    # This calculates the offset due to the pointing model\n",
    "#    # as extracted from ComCam images.\n",
    "    deltaEl = -125.4 - 187.9 * np.sin(az * np.pi / 180.0)\n",
    "    deltaAz = -222.0 - 348.1 * np.cos(az * np.pi / 360.0)\n",
    "    elPrime = el + deltaEl / 3600.0\n",
    "    azPrime = az + deltaAz / 3600.0\n",
    "    return [elPrime, azPrime]\n",
    "\n",
    "def DeltaAltAz2 (el, az):\n",
    "    # This calculates the offset due to the pointing model\n",
    "#    # as extracted from ComCam images.\n",
    "    deltaEl = 125.4 - 187.9 * np.sin(az * np.pi / 180.0)\n",
    "    deltaAz = 222.0 + 348.1 * np.cos(az * np.pi / 360.0)\n",
    "    return [deltaEl, deltaAz]\n"
   ]
  },
  {
   "cell_type": "code",
   "execution_count": null,
   "metadata": {
    "execution": {
     "iopub.execute_input": "2025-02-17T14:19:20.075737Z",
     "iopub.status.busy": "2025-02-17T14:19:20.075151Z",
     "iopub.status.idle": "2025-02-17T14:19:46.102042Z",
     "shell.execute_reply": "2025-02-17T14:19:46.101577Z",
     "shell.execute_reply.started": "2025-02-17T14:19:20.075721Z"
    }
   },
   "outputs": [],
   "source": [
    "rawRas = []\n",
    "rawDecs = []\n",
    "rawEls = []\n",
    "rawAzs = []\n",
    "calRas = []\n",
    "calDecs = []\n",
    "calEls = []\n",
    "calAzs = []\n",
    "deltaRas = []\n",
    "deltaDecs = []\n",
    "for expId in range(2024110900229, 2024110900249):\n",
    "    md = butler.get('raw.metadata', detector=4, exposure=expId, instrument=instrument)\n",
    "    filter = md['FILTBAND']\n",
    "    pressure = md['PRESSURE'] * u.pascal\n",
    "    temperature = md['AIRTEMP'] * u.Celsius\n",
    "    hum = md['HUMIDITY']\n",
    "    time1 = Time(md['MJD-BEG'], format='mjd', scale='tai')\n",
    "    time2 = Time(md['MJD-END'], format='mjd', scale='tai')\n",
    "    time = time1\n",
    "    ra = md['RASTART']\n",
    "    dec = md['DECSTART']\n",
    "    rawSkyLocation = SkyCoord(ra=ra*u.deg, dec=dec*u.deg, frame='icrs')\n",
    "    wl = wavelengths[filter] * u.angstrom\n",
    "    altAz = AltAz(obstime=time, location=SIMONYI_LOCATION, pressure=pressure, \n",
    "                 temperature=temperature, relative_humidity=hum, obswl=wl)\n",
    "    rawAltAz = rawSkyLocation.transform_to(altAz)\n",
    "    rawEl = rawAltAz.alt.deg\n",
    "    rawAz = rawAltAz.az.deg\n",
    "    rawEls.append(rawEl)\n",
    "    rawAzs.append(rawAz)\n",
    "    #[calEl, calAz] = DeltaAltAz (rawEl, rawAz)\n",
    "\n",
    "    calExp = butler.get('calexp', detector=4, visit=expId, instrument=\"LSSTComCam\")\n",
    "    rawExp = butler.get('raw', detector=4, exposure=expId, instrument=\"LSSTComCam\")\n",
    "    cWcs = calExp.getWcs()\n",
    "    rWcs = rawExp.getWcs()\n",
    "    rawSkyCenter = rWcs.getSkyOrigin()\n",
    "    calExpSkyCenter = cWcs.pixelToSky(rWcs.getPixelOrigin())\n",
    "    rawRa = rawSkyCenter.getRa().asDegrees()\n",
    "    rawDec = rawSkyCenter.getDec().asDegrees()\n",
    "    rawRas.append(rawRa)\n",
    "    rawDecs.append(rawDec)\n",
    "    calRa = calExpSkyCenter.getRa().asDegrees()\n",
    "    calDec = calExpSkyCenter.getDec().asDegrees()\n",
    "    calSkyLocation = SkyCoord(ra=calRa*u.deg, dec=calDec*u.deg, frame='icrs')\n",
    "    calAltAz = calSkyLocation.transform_to(altAz)\n",
    "    calEl = calAltAz.alt.deg\n",
    "    calAz = calAltAz.az.deg\n",
    "    calEls.append(calEl)\n",
    "    calAzs.append(calAz)\n",
    "\n",
    "    calRas.append(calRa)\n",
    "    calDecs.append(calDec)\n",
    "    deltaRa = (rawRa - calRa) * 3600.0\n",
    "    deltaDec = (rawDec - calDec) * 3600.0\n",
    "    deltaRas.append(deltaRa)\n",
    "    deltaDecs.append(deltaDec)\n",
    "    print(expId, deltaRa, deltaDec)\n",
    "    deltaEl = (rawEl - calEl) * 3600.0\n",
    "    deltaAz = (rawAz - calAz) * 3600.0\n",
    "    [deltaEl2, deltaAz2] = DeltaAltAz2 (rawEl, rawAz)\n",
    "\n",
    "    print(expId, deltaEl, deltaAz)\n",
    "    print(expId, deltaEl2, deltaAz2)\n",
    "    print(rawEl, rawAz)\n",
    "    print(calEl, calAz)"
   ]
  },
  {
   "cell_type": "code",
   "execution_count": null,
   "metadata": {
    "execution": {
     "iopub.execute_input": "2025-02-17T14:19:52.906439Z",
     "iopub.status.busy": "2025-02-17T14:19:52.906088Z",
     "iopub.status.idle": "2025-02-17T14:19:53.026705Z",
     "shell.execute_reply": "2025-02-17T14:19:53.026287Z",
     "shell.execute_reply.started": "2025-02-17T14:19:52.906418Z"
    }
   },
   "outputs": [],
   "source": [
    "fig, ax = plt.subplots(1,1, figsize=(5,5))\n",
    "ax.plot(deltaRas, color='red')\n",
    "ax1 = ax.twinx()\n",
    "ax1.plot(deltaDecs, color='blue')\n"
   ]
  },
  {
   "cell_type": "code",
   "execution_count": null,
   "metadata": {
    "execution": {
     "iopub.execute_input": "2025-02-17T14:19:57.076119Z",
     "iopub.status.busy": "2025-02-17T14:19:57.075822Z",
     "iopub.status.idle": "2025-02-17T14:19:57.197806Z",
     "shell.execute_reply": "2025-02-17T14:19:57.197380Z",
     "shell.execute_reply.started": "2025-02-17T14:19:57.076104Z"
    }
   },
   "outputs": [],
   "source": [
    "fig, axs = plt.subplots(1,2, figsize=(10,5))\n",
    "axs[0].plot(rawRas)\n",
    "axs[0].plot(calRas)\n",
    "axs[1].plot(rawDecs)\n",
    "axs[1].plot(calDecs)"
   ]
  },
  {
   "cell_type": "code",
   "execution_count": null,
   "metadata": {
    "execution": {
     "iopub.execute_input": "2025-02-17T14:20:02.168152Z",
     "iopub.status.busy": "2025-02-17T14:20:02.167869Z",
     "iopub.status.idle": "2025-02-17T14:20:02.302412Z",
     "shell.execute_reply": "2025-02-17T14:20:02.302014Z",
     "shell.execute_reply.started": "2025-02-17T14:20:02.168139Z"
    }
   },
   "outputs": [],
   "source": [
    "fig, axs = plt.subplots(1,2, figsize=(10,5))\n",
    "axs[0].plot(rawEls)\n",
    "axs[0].plot(calEls)\n",
    "axs[1].plot(rawAzs)\n",
    "axs[1].plot(calAzs)"
   ]
  },
  {
   "cell_type": "code",
   "execution_count": null,
   "metadata": {
    "execution": {
     "iopub.execute_input": "2025-02-17T13:49:53.994662Z",
     "iopub.status.busy": "2025-02-17T13:49:53.994358Z",
     "iopub.status.idle": "2025-02-17T13:49:53.997629Z",
     "shell.execute_reply": "2025-02-17T13:49:53.997112Z",
     "shell.execute_reply.started": "2025-02-17T13:49:53.994646Z"
    }
   },
   "outputs": [],
   "source": [
    "print(ra, dec)\n",
    "print(rawRa, rawDec)\n",
    "print(calRa, calDec)"
   ]
  },
  {
   "cell_type": "code",
   "execution_count": null,
   "metadata": {},
   "outputs": [],
   "source": []
  }
 ],
 "metadata": {
  "kernelspec": {
   "display_name": "LSST",
   "language": "python",
   "name": "lsst"
  },
  "language_info": {
   "codemirror_mode": {
    "name": "ipython",
    "version": 3
   },
   "file_extension": ".py",
   "mimetype": "text/x-python",
   "name": "python",
   "nbconvert_exporter": "python",
   "pygments_lexer": "ipython3",
   "version": "3.11.9"
  }
 },
 "nbformat": 4,
 "nbformat_minor": 4
}
