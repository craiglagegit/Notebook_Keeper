{
 "cells": [
  {
   "cell_type": "code",
   "execution_count": null,
   "id": "bdcf78c9-5c26-4d49-be4e-21d9fe7031ff",
   "metadata": {
    "execution": {
     "iopub.execute_input": "2024-12-02T10:43:39.761252Z",
     "iopub.status.busy": "2024-12-02T10:43:39.760971Z",
     "iopub.status.idle": "2024-12-02T10:43:39.763723Z",
     "shell.execute_reply": "2024-12-02T10:43:39.763279Z",
     "shell.execute_reply.started": "2024-12-02T10:43:39.761238Z"
    }
   },
   "outputs": [],
   "source": [
    "from rubin_sim.phot_utils import PhotometricParameters, Sed, rubin_bandpasses\n",
    "import numpy as np"
   ]
  },
  {
   "cell_type": "code",
   "execution_count": null,
   "id": "696ae7d0-a73d-4938-837b-65c425365e48",
   "metadata": {
    "execution": {
     "iopub.execute_input": "2024-12-02T10:35:59.766941Z",
     "iopub.status.busy": "2024-12-02T10:35:59.766640Z",
     "iopub.status.idle": "2024-12-02T10:35:59.770060Z",
     "shell.execute_reply": "2024-12-02T10:35:59.769616Z",
     "shell.execute_reply.started": "2024-12-02T10:35:59.766923Z"
    }
   },
   "outputs": [],
   "source": [
    "exptime=0.1\n",
    "nexp=2\n",
    "readnoise=8.8 \n",
    "othernoise=0 \n",
    "darkcurrent=0.2\n",
    "effarea=np.pi*(6.423/2*100)**2\n",
    "X=1.0\n",
    "\n",
    "# PhotometricParameters object for standard m5 calculations.\n",
    "photParams_std = PhotometricParameters(exptime=exptime, nexp=nexp,\n",
    "                                           gain=1.0, effarea=effarea, readnoise=readnoise,\n",
    "                                           othernoise=othernoise, darkcurrent=darkcurrent)"
   ]
  },
  {
   "cell_type": "code",
   "execution_count": null,
   "id": "3a2bb2eb-836c-496e-9b3b-4a31a7a88834",
   "metadata": {
    "execution": {
     "iopub.execute_input": "2024-12-02T10:45:23.946957Z",
     "iopub.status.busy": "2024-12-02T10:45:23.946366Z",
     "iopub.status.idle": "2024-12-02T10:45:23.949223Z",
     "shell.execute_reply": "2024-12-02T10:45:23.948853Z",
     "shell.execute_reply.started": "2024-12-02T10:45:23.946939Z"
    }
   },
   "outputs": [],
   "source": [
    "source = Sed()"
   ]
  },
  {
   "cell_type": "code",
   "execution_count": null,
   "id": "e601328f-afc4-43d6-bce0-da9c27fcdc8a",
   "metadata": {
    "execution": {
     "iopub.execute_input": "2024-12-02T10:45:24.871959Z",
     "iopub.status.busy": "2024-12-02T10:45:24.871407Z",
     "iopub.status.idle": "2024-12-02T10:45:24.874230Z",
     "shell.execute_reply": "2024-12-02T10:45:24.873866Z",
     "shell.execute_reply.started": "2024-12-02T10:45:24.871928Z"
    }
   },
   "outputs": [],
   "source": [
    "sed = source.set_flat_sed()"
   ]
  },
  {
   "cell_type": "code",
   "execution_count": null,
   "id": "f201bb7a-8b95-4ca6-8927-baba0429d4ee",
   "metadata": {
    "execution": {
     "iopub.execute_input": "2024-12-02T10:48:45.926284Z",
     "iopub.status.busy": "2024-12-02T10:48:45.925929Z",
     "iopub.status.idle": "2024-12-02T10:48:45.975551Z",
     "shell.execute_reply": "2024-12-02T10:48:45.975037Z",
     "shell.execute_reply.started": "2024-12-02T10:48:45.926269Z"
    }
   },
   "outputs": [],
   "source": [
    "filter_dict = rubin_bandpasses()"
   ]
  },
  {
   "cell_type": "code",
   "execution_count": null,
   "id": "af6a6517-872b-43d9-abbc-7e680c1621da",
   "metadata": {
    "execution": {
     "iopub.execute_input": "2024-12-02T10:48:37.582852Z",
     "iopub.status.busy": "2024-12-02T10:48:37.582535Z",
     "iopub.status.idle": "2024-12-02T10:48:37.592933Z",
     "shell.execute_reply": "2024-12-02T10:48:37.592470Z",
     "shell.execute_reply.started": "2024-12-02T10:48:37.582838Z"
    }
   },
   "outputs": [],
   "source": [
    "filter_dict['r']"
   ]
  },
  {
   "cell_type": "code",
   "execution_count": null,
   "id": "cc0817f2-a4af-4dad-b5f5-eeb56a1a8878",
   "metadata": {
    "execution": {
     "iopub.execute_input": "2024-12-02T10:46:49.107323Z",
     "iopub.status.busy": "2024-12-02T10:46:49.106795Z",
     "iopub.status.idle": "2024-12-02T10:46:49.118915Z",
     "shell.execute_reply": "2024-12-02T10:46:49.118413Z",
     "shell.execute_reply.started": "2024-12-02T10:46:49.107307Z"
    }
   },
   "outputs": [],
   "source": [
    "adu = source.calc_adu(filter_dict['r'], photParams=photParamsstd)"
   ]
  },
  {
   "cell_type": "code",
   "execution_count": null,
   "id": "da75b428-d844-47a0-9182-49a09912b129",
   "metadata": {
    "execution": {
     "iopub.execute_input": "2024-12-02T10:46:25.216837Z",
     "iopub.status.busy": "2024-12-02T10:46:25.216538Z",
     "iopub.status.idle": "2024-12-02T10:46:25.220117Z",
     "shell.execute_reply": "2024-12-02T10:46:25.219779Z",
     "shell.execute_reply.started": "2024-12-02T10:46:25.216822Z"
    }
   },
   "outputs": [],
   "source": [
    "dir(source)"
   ]
  },
  {
   "cell_type": "code",
   "execution_count": null,
   "id": "48e785e6-a456-435f-bcd0-d7d6dee9cf01",
   "metadata": {},
   "outputs": [],
   "source": []
  },
  {
   "cell_type": "code",
   "execution_count": null,
   "id": "ba014997-8c7a-4e83-a225-c041b3c6ea97",
   "metadata": {},
   "outputs": [],
   "source": [
    "    flatsource = Sed()\n",
    "    flatsource.setFlatSED(wavelen_min=system[f].wavelen_min, wavelen_max=system[f].wavelen_max,\n",
    "                              wavelen_step=system[f].wavelen_step)\n",
    "    adu = flatsource.calcADU(system[f], photParams=photParams_dt)\n"
   ]
  }
 ],
 "metadata": {
  "kernelspec": {
   "display_name": "LSST",
   "language": "python",
   "name": "lsst"
  },
  "language_info": {
   "codemirror_mode": {
    "name": "ipython",
    "version": 3
   },
   "file_extension": ".py",
   "mimetype": "text/x-python",
   "name": "python",
   "nbconvert_exporter": "python",
   "pygments_lexer": "ipython3",
   "version": "3.11.9"
  }
 },
 "nbformat": 4,
 "nbformat_minor": 5
}
