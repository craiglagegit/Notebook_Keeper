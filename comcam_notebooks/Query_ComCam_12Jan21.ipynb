{
 "cells": [
  {
   "cell_type": "markdown",
   "metadata": {},
   "source": [
    "# Notebook for querying BOT data.\n",
    "\n",
    "Initially written 27 May 2020 by Craig Lage\\\n",
    "Allows inspecting the image type and exposure time of the \\\n",
    "BOT images used for characterizing BF."
   ]
  },
  {
   "cell_type": "code",
   "execution_count": null,
   "metadata": {},
   "outputs": [],
   "source": [
    "! eups list -s | grep lsst_distrib\n",
    "! eups list -s cp_pipe"
   ]
  },
  {
   "cell_type": "code",
   "execution_count": null,
   "metadata": {},
   "outputs": [],
   "source": [
    "import sys, os, glob, subprocess\n",
    "import pickle as pkl\n",
    "import numpy as np\n",
    "import matplotlib.pyplot as plt\n",
    "import astropy.io.fits as pf\n",
    "from astropy.time import Time\n",
    "from lsst.daf.persistence import Butler"
   ]
  },
  {
   "cell_type": "code",
   "execution_count": null,
   "metadata": {},
   "outputs": [],
   "source": [
    "RAFT = 'R22'\n",
    "SENSOR = 'S11'\n",
    "DATA_DIR = '/project/shared/comCam-CCS/'"
   ]
  },
  {
   "cell_type": "code",
   "execution_count": null,
   "metadata": {
    "jupyter": {
     "outputs_hidden": true
    }
   },
   "outputs": [],
   "source": [
    "REPO_DIR = '/project/shared/comCam-CCS/rerun/cslage/PTCTemp_2020-12-29'\n",
    "butler = Butler(REPO_DIR)"
   ]
  },
  {
   "cell_type": "code",
   "execution_count": null,
   "metadata": {},
   "outputs": [],
   "source": [
    "expId = 3020122900047\n",
    "butler.get('raw', raftName=RAFT,detector=3, expId=expId)"
   ]
  },
  {
   "cell_type": "code",
   "execution_count": null,
   "metadata": {},
   "outputs": [],
   "source": [
    "expId = 3020122900047\n",
    "butler.get('bias', raftName=RAFT,detectorName=SENSOR, expId=expId)"
   ]
  },
  {
   "cell_type": "code",
   "execution_count": null,
   "metadata": {},
   "outputs": [],
   "source": [
    "expId = 3020122900047\n",
    "butler.get('dark', raftName=RAFT,detectorName=SENSOR, expId=expId)"
   ]
  },
  {
   "cell_type": "code",
   "execution_count": null,
   "metadata": {},
   "outputs": [],
   "source": [
    "expId = 3020122900047\n",
    "butler.get('flat', raftName=RAFT,detectorName=SENSOR, expId=expId)"
   ]
  },
  {
   "cell_type": "code",
   "execution_count": null,
   "metadata": {},
   "outputs": [],
   "source": [
    "expId = 3020122900047\n",
    "butler.get('defects', raftName=RAFT,detectorName=SENSOR, expId=expId)"
   ]
  },
  {
   "cell_type": "code",
   "execution_count": null,
   "metadata": {},
   "outputs": [],
   "source": [
    "dayObs='2021-01-11'\n",
    "butler = Butler(DATA_DIR)\n",
    "visits = butler.queryMetadata('raw', ['expId', 'EXPTIME', 'TESTTYPE', 'DATE'], raftName=RAFT,\\\n",
    "                              detectorName=SENSOR, dayObs=dayObs)\n",
    "visits.sort(key = lambda x: x[3]) \n",
    "\n",
    "for (expId, exptime, testtype, date) in visits:\n",
    "    print(date, expId, exptime, testtype)"
   ]
  },
  {
   "cell_type": "code",
   "execution_count": null,
   "metadata": {},
   "outputs": [],
   "source": [
    "# CCS All headers\n",
    "filedir = DATA_DIR+'_parent/raw/'\n",
    "files = glob.glob(filedir+'*/*/202101110000?-%s-%s-det004.fits'%(RAFT,SENSOR))\n",
    "files = np.sort(files)\n",
    "numFiles = len(files)\n",
    "print(numFiles)\n",
    "\n",
    "expIds = []\n",
    "CCS_unix = []\n",
    "for file in files:\n",
    "    hdulist = pf.open(file, mode='readonly', do_not_scale_image_data=True)\n",
    "    for i in range(1):\n",
    "        hdr=hdulist[i].header\n",
    "        for key in hdr.keys():\n",
    "            if key == 'DATE-OBS':\n",
    "                print(i,file[50:63],key, hdr[key])\n",
    "                expIds.append(file[50:63])\n",
    "                #CCS_unix.append(Time(hdr[key]).unix)\n",
    "                CCS_unix.append(hdr[key])\n"
   ]
  },
  {
   "cell_type": "code",
   "execution_count": null,
   "metadata": {},
   "outputs": [],
   "source": [
    "RAFT = 'R22'\n",
    "SENSOR = 'S11'\n",
    "DATA_DIR = '/project/shared/comCam/'"
   ]
  },
  {
   "cell_type": "code",
   "execution_count": null,
   "metadata": {},
   "outputs": [],
   "source": [
    "dayObs='2021-01-11'\n",
    "butler = Butler(DATA_DIR)\n",
    "visits = butler.queryMetadata('raw', ['expId', 'EXPTIME', 'TESTTYPE', 'DATE'], raftName=RAFT,\\\n",
    "                              detectorName=SENSOR, dayObs=dayObs)\n",
    "visits.sort(key = lambda x: x[3]) \n",
    "\n",
    "for (expId, exptime, testtype, date) in visits:\n",
    "    print(date, expId, exptime, testtype)"
   ]
  },
  {
   "cell_type": "code",
   "execution_count": null,
   "metadata": {},
   "outputs": [],
   "source": [
    "# OCS All headers\n",
    "filedir = DATA_DIR+'_parent/raw/'\n",
    "files = glob.glob(filedir+'*/*/202101110000?-%s-%s-det004.fits'%(RAFT,SENSOR))\n",
    "files = np.sort(files)\n",
    "numFiles = len(files)\n",
    "print(numFiles)\n",
    "\n",
    "OCS_unix = []\n",
    "for file in files:\n",
    "    hdulist = pf.open(file, mode='readonly', do_not_scale_image_data=True)\n",
    "    for i in range(1):\n",
    "        hdr=hdulist[i].header\n",
    "        for key in hdr.keys():\n",
    "            if key == 'DATE-OBS':\n",
    "                print(i,file[30:63],key, hdr[key])\n",
    "                #OCS_unix.append(Time(hdr[key]).unix)\n",
    "                OCS_unix.append(hdr[key])\n"
   ]
  },
  {
   "cell_type": "code",
   "execution_count": null,
   "metadata": {},
   "outputs": [],
   "source": [
    "print('expId             OCS_DATE_OBS - CCS_DATE_OBS')\n",
    "for i, ocs_t in enumerate(OCS_unix):\n",
    "    print('%s \\t \\t %f'%(expIds[i+2], ocs_t - CCS_unix[i+2]))"
   ]
  },
  {
   "cell_type": "code",
   "execution_count": null,
   "metadata": {},
   "outputs": [],
   "source": [
    "print('expId              OCS_DATE_OBS                    CCS_DATE_OBS')\n",
    "for i, ocs_t in enumerate(OCS_unix):\n",
    "    print('%s \\t %s \\t %s'%(expIds[i+2], ocs_t , CCS_unix[i+2]))"
   ]
  },
  {
   "cell_type": "code",
   "execution_count": null,
   "metadata": {},
   "outputs": [],
   "source": []
  }
 ],
 "metadata": {
  "kernelspec": {
   "display_name": "LSST",
   "language": "python",
   "name": "lsst"
  },
  "language_info": {
   "codemirror_mode": {
    "name": "ipython",
    "version": 3
   },
   "file_extension": ".py",
   "mimetype": "text/x-python",
   "name": "python",
   "nbconvert_exporter": "python",
   "pygments_lexer": "ipython3",
   "version": "3.8.6"
  }
 },
 "nbformat": 4,
 "nbformat_minor": 4
}
