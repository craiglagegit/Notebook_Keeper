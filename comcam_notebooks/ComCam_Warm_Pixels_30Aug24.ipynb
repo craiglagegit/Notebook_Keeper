{
 "cells": [
  {
   "cell_type": "markdown",
   "metadata": {},
   "source": [
    "## ComCam \"Warm\" pixels\n",
    "\n",
    "Investigating ComCam pixels that seems to have amplification.\n",
    "Craig Lage - 30-Aug-24"
   ]
  },
  {
   "cell_type": "code",
   "execution_count": null,
   "metadata": {
    "execution": {
     "iopub.execute_input": "2024-09-04T18:37:45.259439Z",
     "iopub.status.busy": "2024-09-04T18:37:45.259307Z",
     "iopub.status.idle": "2024-09-04T18:37:51.025610Z",
     "shell.execute_reply": "2024-09-04T18:37:51.025086Z",
     "shell.execute_reply.started": "2024-09-04T18:37:45.259418Z"
    },
    "tags": []
   },
   "outputs": [],
   "source": [
    "import numpy as np\n",
    "import matplotlib.pyplot as plt\n",
    "import astropy.io.fits as pf\n",
    "from lsst.daf.butler import Butler\n",
    "from lsst.ip.isr import IsrTask, IsrTaskConfig\n",
    "from lsst.summit.utils.plotting import plot\n",
    "import lsst.afw.cameraGeom.utils as camGeomUtils"
   ]
  },
  {
   "cell_type": "code",
   "execution_count": null,
   "metadata": {
    "execution": {
     "iopub.execute_input": "2024-09-04T18:37:51.033937Z",
     "iopub.status.busy": "2024-09-04T18:37:51.033807Z",
     "iopub.status.idle": "2024-09-04T18:37:51.572574Z",
     "shell.execute_reply": "2024-09-04T18:37:51.572051Z",
     "shell.execute_reply.started": "2024-09-04T18:37:51.033925Z"
    },
    "tags": []
   },
   "outputs": [],
   "source": [
    "butler = Butler('/repo/embargo', collections=[\"LSSTComCam/raw/all\", \"LSSTComCam/calib\",\n",
    "                                              \"u/abrought/LSSTComCam/calibs/w_2024_28/bias.08132024a\",\n",
    "                                            \"u/abrought/LSSTComCam/calibs/w_2024_28/defects.08132024a\",\n",
    "                                            \"u/abrought/LSSTComCam/calibs/w_2024_28/dark.08132024c\",\n",
    "                                            \"u/abrought/LSSTComCam/calibs/w_2024_28/flat_r03.08132024a\",\n",
    "                                             \"u/abrought/LSSTComCam/calibs/w_2024_28/ptc_r03.08132024a\",\n",
    "                                                ])"
   ]
  },
  {
   "cell_type": "markdown",
   "metadata": {},
   "source": [
    "# Define a plotting subroutine"
   ]
  },
  {
   "cell_type": "code",
   "execution_count": null,
   "metadata": {
    "execution": {
     "iopub.execute_input": "2024-09-04T18:37:51.573389Z",
     "iopub.status.busy": "2024-09-04T18:37:51.573257Z",
     "iopub.status.idle": "2024-09-04T18:37:51.582734Z",
     "shell.execute_reply": "2024-09-04T18:37:51.582346Z",
     "shell.execute_reply.started": "2024-09-04T18:37:51.573377Z"
    }
   },
   "outputs": [],
   "source": [
    "import astropy.visualization as vis\n",
    "import matplotlib.colors as colors\n",
    "import matplotlib\n",
    "from lsst.summit.utils import getQuantiles\n",
    "from mpl_toolkits.axes_grid1.axes_divider import make_axes_locatable\n",
    "import lsst.afw.geom as afwGeom\n",
    "import lsst.afw.image as afwImage\n",
    "\n",
    "\n",
    "def localPlot(\n",
    "    imageData: np.ndarray,\n",
    "    stretch: str = \"linear\",\n",
    "    percentile: float = 99.0,\n",
    "    cmap: str = \"gray\",\n",
    "    center: tuple = (1000,1000),\n",
    "    extent: tuple = (50,50)\n",
    ") -> matplotlib.figure.Figure:\n",
    "\n",
    "    # Copied and modified from lsst.summit.utils.plotting.plot.py\n",
    "    xmin = int(center[0] - extent[0] / 2)\n",
    "    xmax = int(center[0] + extent[0] / 2)\n",
    "    ymin = int(center[1] - extent[1] / 2)\n",
    "    ymax = int(center[1] + extent[1] / 2)\n",
    "    figure, axs = plt.subplots(2, 2, figsize=(10, 10))\n",
    "    \n",
    "\n",
    "    stretchData = imageData[ymin:ymax, xmin:xmax]\n",
    "    interval = vis.PercentileInterval(percentile)\n",
    "    match stretch:\n",
    "        case \"ccs\":\n",
    "            quantiles = getQuantiles(stretchData, 256)\n",
    "            norm = colors.BoundaryNorm(quantiles, 256)\n",
    "        case \"asinh\":\n",
    "            norm = vis.ImageNormalize(stretchData, interval=interval, stretch=vis.AsinhStretch(a=0.1))\n",
    "        case \"power\":\n",
    "            norm = vis.ImageNormalize(stretchData, interval=interval, stretch=vis.PowerStretch(a=2))\n",
    "        case \"log\":\n",
    "            norm = vis.ImageNormalize(stretchData, interval=interval, stretch=vis.LogStretch(a=1))\n",
    "        case \"linear\":\n",
    "            norm = vis.ImageNormalize(stretchData, interval=interval, stretch=vis.LinearStretch())\n",
    "        case \"sqrt\":\n",
    "            norm = vis.ImageNormalize(stretchData, interval=interval, stretch=vis.SqrtStretch())\n",
    "        case _:\n",
    "            raise ValueError(\n",
    "                f\"Invalid value for stretch : {stretch}. \"\n",
    "                \"Accepted options are: ccs, asinh, power, log, linear, sqrt.\"\n",
    "            )\n",
    "\n",
    "    im = axs[0][0].imshow(imageData, cmap=cmap, origin=\"lower\", norm=norm, aspect=\"equal\")\n",
    "    div = make_axes_locatable(axs[0][0])\n",
    "    cax = div.append_axes(\"right\", size=\"5%\", pad=0.05)\n",
    "    figure.colorbar(im, cax=cax)\n",
    "    axs[0][0].set_xlim(xmin, xmax)\n",
    "    axs[0][0].set_ylim(ymin, ymax)\n",
    "\n",
    "    less_stamp = np.zeros_like(stretchData)\n",
    "    more_stamp = np.zeros_like(stretchData)\n",
    "    med = np.median(stretchData)\n",
    "    sig = np.sqrt(med)\n",
    "    \n",
    "    for i in range(stretchData.shape[0]):\n",
    "        for j in range(stretchData.shape[1]):\n",
    "            if stretchData[i,j] < (med - 3.0 * sig):\n",
    "                less_stamp[i,j] = (med - stretchData[i,j])\n",
    "            if stretchData[i,j] > (med + 3.0 * sig):\n",
    "                more_stamp[i,j] = (stretchData[i,j] - med)\n",
    "    \n",
    "    axs[0][1].plot(stretchData[int(stretchData.shape[1] / 2),:], marker='x')\n",
    "    axs[0][1].axhline(med, ls='--', color='red')\n",
    "    axs[0][1].yaxis.set_label_position(\"right\")\n",
    "    axs[0][1].yaxis.tick_right()\n",
    "    axs[0][1].set_ylabel(\"Signal(e-)\")\n",
    "\n",
    "    axs[1][0].imshow(less_stamp, origin=\"lower\",)\n",
    "    axs[1][0].set_title(\"Pixels < median-3*sig\")\n",
    "    axs[1][0].text(5, 25, f\"Sum = {np.sum(less_stamp):.0f}\", color='white', fontsize=12)\n",
    "    \n",
    "    axs[1][1].imshow(more_stamp, origin=\"lower\",)\n",
    "    axs[1][1].set_title(\"Pixels > median+3*sig\")\n",
    "    axs[1][1].text(5, 25, f\"Sum = {np.sum(more_stamp):.0f}\", color='white', fontsize=12)\n",
    "    \n",
    "    return figure"
   ]
  },
  {
   "cell_type": "markdown",
   "metadata": {},
   "source": [
    "## Define a simple ISR\n",
    "### Just overscan subtraction and bias subtraction."
   ]
  },
  {
   "cell_type": "code",
   "execution_count": null,
   "metadata": {
    "execution": {
     "iopub.execute_input": "2024-09-04T18:37:51.583320Z",
     "iopub.status.busy": "2024-09-04T18:37:51.583200Z",
     "iopub.status.idle": "2024-09-04T18:37:51.611924Z",
     "shell.execute_reply": "2024-09-04T18:37:51.611545Z",
     "shell.execute_reply.started": "2024-09-04T18:37:51.583309Z"
    },
    "tags": []
   },
   "outputs": [],
   "source": [
    "isrConfig = IsrTaskConfig()\n",
    "isrConfig.doLinearize=False\n",
    "isrConfig.doOverscan=True\n",
    "isrConfig.overscan.fitType=\"MEDIAN_PER_ROW\"\n",
    "isrConfig.overscan.doParallelOverscan=True\n",
    "isrConfig.doAssembleCcd=True\n",
    "isrConfig.doBias=True\n",
    "isrConfig.doVariance=False\n",
    "isrConfig.doCrosstalk=False\n",
    "isrConfig.doBrighterFatter=False\n",
    "isrConfig.doDark=False\n",
    "isrConfig.doStrayLight=False\n",
    "isrConfig.doFlat=False\n",
    "isrConfig.doFringe=False\n",
    "isrConfig.doApplyGains=True\n",
    "isrConfig.usePtcGains=True\n",
    "isrConfig.doDefect=False\n",
    "isrConfig.doNanMasking=True\n",
    "isrConfig.doInterpolate=False\n",
    "isrConfig.doSaturation=False\n",
    "isrConfig.doSaturationInterpolation=False\n",
    "isrTask = IsrTask(config=isrConfig)"
   ]
  },
  {
   "cell_type": "markdown",
   "metadata": {},
   "source": [
    "## Run the ISR and look at the result"
   ]
  },
  {
   "cell_type": "code",
   "execution_count": null,
   "metadata": {
    "tags": []
   },
   "outputs": [],
   "source": [
    "expId = 2024072900237\n",
    "#expId = 2024072900244\n",
    "#expId = 2024072900232\n",
    "#expId = 2024072900075 # Dark\n",
    "instrument = \"LSSTComCam\"\n",
    "detector = 2\n",
    "mData = butler.get('raw.metadata', detector=detector, exposure=expId, instrument=instrument)\n",
    "exp = butler.get('raw', detector=detector, exposure=expId, instrument=instrument)\n",
    "biasExp = butler.get('bias', detector=detector, exposure=expId, instrument=instrument) # This is a bias image associated with the data\n",
    "ptc = butler.get('ptc', detector=detector, instrument=instrument,\n",
    "                 collections=\"u/abrought/LSSTComCam/calibs/w_2024_28/ptc_r03.08132024a\")\n",
    "isrResult = isrTask.run(exp, bias=biasExp, ptc=ptc) # This runs the ISR"
   ]
  },
  {
   "cell_type": "code",
   "execution_count": null,
   "metadata": {},
   "outputs": [],
   "source": [
    "center=(3159, 558)\n",
    "\n",
    "fig = localPlot(isrResult.exposure.image.array, center=center, extent=(30,30), stretch='ccs')\n",
    "fig.suptitle(f\"Warm pixels, {expId}, expTime={mData['EXPTIME']} sec\\n Detector = {detector}, Center = {center}\", fontsize=18)"
   ]
  },
  {
   "cell_type": "code",
   "execution_count": null,
   "metadata": {},
   "outputs": [],
   "source": []
  },
  {
   "cell_type": "code",
   "execution_count": null,
   "metadata": {
    "execution": {
     "iopub.execute_input": "2024-09-04T18:38:40.417774Z",
     "iopub.status.busy": "2024-09-04T18:38:40.417477Z",
     "iopub.status.idle": "2024-09-04T18:38:45.298574Z",
     "shell.execute_reply": "2024-09-04T18:38:45.298107Z",
     "shell.execute_reply.started": "2024-09-04T18:38:40.417760Z"
    }
   },
   "outputs": [],
   "source": [
    "expIdF = 2024072900237 # Flat\n",
    "expIdD = 2024072900075 # Dark\n",
    "instrument = \"LSSTComCam\"\n",
    "detector = 2\n",
    "expF = butler.get('raw', detector=detector, exposure=expIdF, instrument=instrument)\n",
    "biasExpF = butler.get('bias', detector=detector, exposure=expIdF, instrument=instrument)\n",
    "expD = butler.get('raw', detector=detector, exposure=expIdD, instrument=instrument)\n",
    "biasExpD = butler.get('bias', detector=detector, exposure=expIdD, instrument=instrument)\n",
    "ptc = butler.get('ptc', detector=detector, instrument=instrument,\n",
    "                 collections=\"u/abrought/LSSTComCam/calibs/w_2024_28/ptc_r03.08132024a\")\n",
    "isrResultF = isrTask.run(expF, bias=biasExpF, ptc=ptc)\n",
    "arrF = isrResultF.exposure.image.array\n",
    "isrResultD = isrTask.run(expD, bias=biasExpD, ptc=ptc)\n",
    "arrD = isrResultD.exposure.image.array"
   ]
  },
  {
   "cell_type": "code",
   "execution_count": null,
   "metadata": {
    "execution": {
     "iopub.execute_input": "2024-09-04T18:39:02.572095Z",
     "iopub.status.busy": "2024-09-04T18:39:02.571654Z",
     "iopub.status.idle": "2024-09-04T18:39:02.574919Z",
     "shell.execute_reply": "2024-09-04T18:39:02.574609Z",
     "shell.execute_reply.started": "2024-09-04T18:39:02.572080Z"
    }
   },
   "outputs": [],
   "source": [
    "arrF.shape"
   ]
  },
  {
   "cell_type": "code",
   "execution_count": null,
   "metadata": {
    "execution": {
     "iopub.execute_input": "2024-09-04T19:39:38.454471Z",
     "iopub.status.busy": "2024-09-04T19:39:38.453910Z",
     "iopub.status.idle": "2024-09-04T19:40:03.758901Z",
     "shell.execute_reply": "2024-09-04T19:40:03.758409Z",
     "shell.execute_reply.started": "2024-09-04T19:39:38.454443Z"
    }
   },
   "outputs": [],
   "source": [
    "for i in range(arrF.shape[0]):\n",
    "    for j in range(arrF.shape[1]):\n",
    "        if arrF[i,j] > 30000 and arrD[i,j] > 500:\n",
    "            print(i,j, arrD[i,j])\n"
   ]
  },
  {
   "cell_type": "code",
   "execution_count": null,
   "metadata": {
    "execution": {
     "iopub.execute_input": "2024-09-04T19:55:45.698743Z",
     "iopub.status.busy": "2024-09-04T19:55:45.698272Z",
     "iopub.status.idle": "2024-09-04T19:58:52.015240Z",
     "shell.execute_reply": "2024-09-04T19:58:52.014840Z",
     "shell.execute_reply.started": "2024-09-04T19:55:45.698727Z"
    },
    "jupyter": {
     "outputs_hidden": true
    }
   },
   "outputs": [],
   "source": [
    "instrument = \"LSSTComCam\"\n",
    "detector = 2\n",
    "centers = [(315, 289), (3159, 558), (2533, 1442), (1438, 2159)]\n",
    "expIds = [2024072900232, 2024072900244, 2024072900239, 2024072900261, 2024072900237,\n",
    "         2024072900187, 2024072900275, 2024072900347, 2024072900242, 2024072900247,\n",
    "         2024072900212, 2024072900252]\n",
    "expTimes = np.zeros([len(centers), len(expIds)])\n",
    "peakValues = np.zeros([len(centers), len(expIds)])\n",
    "for n, center in enumerate(centers):\n",
    "    for m, expId in enumerate(expIds):\n",
    "        mData = butler.get('raw.metadata', detector=detector, exposure=expId, instrument=instrument)\n",
    "        expTimes[n,m] = mData['EXPTIME']\n",
    "        exp = butler.get('raw', detector=detector, exposure=expId, instrument=instrument)\n",
    "        biasExp = butler.get('bias', detector=detector, exposure=expId, instrument=instrument)\n",
    "        ptc = butler.get('ptc', detector=detector, instrument=instrument,\n",
    "                         collections=\"u/abrought/LSSTComCam/calibs/w_2024_28/ptc_r03.08132024a\")\n",
    "        isrResult = isrTask.run(exp, bias=biasExp, ptc=ptc) # This runs the ISR\n",
    "        peakValues[n,m] = isrResult.exposure.image.array[center[1], center[0]]\n",
    "        fig = localPlot(isrResult.exposure.image.array, center=center, extent=(30,30), stretch='ccs')\n",
    "        fig.suptitle(f\"Warm pixels, {expId}, expTime={mData['EXPTIME']} sec\\n Detector = {detector}, Center = {center}\", fontsize=18)\n",
    "        plt.savefig(f\"/home/c/cslage/u/ComCam/warm_pixels/Warm_Pixel_{center[0]}_{center[1]}_{expId}.png\")\n"
   ]
  },
  {
   "cell_type": "code",
   "execution_count": null,
   "metadata": {
    "execution": {
     "iopub.execute_input": "2024-09-04T20:18:42.049080Z",
     "iopub.status.busy": "2024-09-04T20:18:42.048630Z",
     "iopub.status.idle": "2024-09-04T20:18:42.317651Z",
     "shell.execute_reply": "2024-09-04T20:18:42.317269Z",
     "shell.execute_reply.started": "2024-09-04T20:18:42.049064Z"
    }
   },
   "outputs": [],
   "source": [
    "%matplotlib inline\n",
    "colors = ['red', 'blue', 'green', 'orange']\n",
    "fig = plt.figure(figsize=(8,5))\n",
    "for i in range(len(centers)):\n",
    "    plt.plot(expTimes[i,:], peakValues[i,:], marker='x', label=f\"{centers[i]}\", color=colors[i])\n",
    "    plt.scatter([30.0], [arrD[centers[i][1], centers[i][0]]], marker='o', color=colors[i], label='')\n",
    "plt.scatter([30.0], [arrD[centers[0][1], centers[0][0]]], marker='o', color = 'red', label='Dark')\n",
    "plt.legend()\n",
    "plt.xlabel(\"Exposure time (seconds)\")\n",
    "plt.ylabel(\"Peak pixel flux (e-)\")\n",
    "plt.title(f\"Warm Pixel Peak Flux, ComCam Detector {detector}\")\n",
    "plt.savefig(f\"/home/c/cslage/u/ComCam/warm_pixels/Warm_Pixel_Flux_vs_ExpTime_04Sep24.png\")"
   ]
  },
  {
   "cell_type": "code",
   "execution_count": null,
   "metadata": {},
   "outputs": [],
   "source": []
  }
 ],
 "metadata": {
  "kernelspec": {
   "display_name": "LSST",
   "language": "python",
   "name": "lsst"
  },
  "language_info": {
   "codemirror_mode": {
    "name": "ipython",
    "version": 3
   },
   "file_extension": ".py",
   "mimetype": "text/x-python",
   "name": "python",
   "nbconvert_exporter": "python",
   "pygments_lexer": "ipython3",
   "version": "3.11.9"
  }
 },
 "nbformat": 4,
 "nbformat_minor": 4
}
