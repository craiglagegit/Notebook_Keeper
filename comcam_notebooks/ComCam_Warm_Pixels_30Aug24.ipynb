{
 "cells": [
  {
   "cell_type": "markdown",
   "metadata": {},
   "source": [
    "## ComCam \"Warm\" pixels\n",
    "\n",
    "Investigating ComCam pixels that seems to have amplification.\n",
    "Craig Lage - 30-Aug-24"
   ]
  },
  {
   "cell_type": "code",
   "execution_count": null,
   "metadata": {
    "execution": {
     "iopub.execute_input": "2024-11-25T11:19:38.442687Z",
     "iopub.status.busy": "2024-11-25T11:19:38.442303Z",
     "iopub.status.idle": "2024-11-25T11:19:43.697080Z",
     "shell.execute_reply": "2024-11-25T11:19:43.696627Z",
     "shell.execute_reply.started": "2024-11-25T11:19:38.442669Z"
    },
    "tags": []
   },
   "outputs": [],
   "source": [
    "import numpy as np\n",
    "import matplotlib.pyplot as plt\n",
    "import astropy.io.fits as pf\n",
    "from lsst.daf.butler import Butler\n",
    "from lsst.ip.isr import IsrTask, IsrTaskConfig\n",
    "from lsst.summit.utils.plotting import plot\n",
    "import lsst.afw.cameraGeom.utils as camGeomUtils"
   ]
  },
  {
   "cell_type": "code",
   "execution_count": null,
   "metadata": {
    "execution": {
     "iopub.execute_input": "2024-11-20T15:18:02.962565Z",
     "iopub.status.busy": "2024-11-20T15:18:02.962245Z",
     "iopub.status.idle": "2024-11-20T15:18:03.353539Z",
     "shell.execute_reply": "2024-11-20T15:18:03.353110Z",
     "shell.execute_reply.started": "2024-11-20T15:18:02.962548Z"
    },
    "tags": []
   },
   "outputs": [],
   "source": [
    "butler = Butler('/repo/embargo_old', collections=[\"LSSTComCam/raw/all\", \"LSSTComCam/calib\",\n",
    "                                              \"u/abrought/LSSTComCam/calibs/w_2024_28/bias.08132024a\",\n",
    "                                            \"u/abrought/LSSTComCam/calibs/w_2024_28/defects.08132024a\",\n",
    "                                            \"u/abrought/LSSTComCam/calibs/w_2024_28/dark.08132024c\",\n",
    "                                            \"u/abrought/LSSTComCam/calibs/w_2024_28/flat_r03.08132024a\",\n",
    "                                             \"u/abrought/LSSTComCam/calibs/w_2024_28/ptc_r03.08132024a\",\n",
    "                                                ])"
   ]
  },
  {
   "cell_type": "markdown",
   "metadata": {},
   "source": [
    "# Define a plotting subroutine"
   ]
  },
  {
   "cell_type": "code",
   "execution_count": null,
   "metadata": {
    "execution": {
     "iopub.execute_input": "2024-11-25T11:19:45.847586Z",
     "iopub.status.busy": "2024-11-25T11:19:45.846741Z",
     "iopub.status.idle": "2024-11-25T11:19:45.857485Z",
     "shell.execute_reply": "2024-11-25T11:19:45.857106Z",
     "shell.execute_reply.started": "2024-11-25T11:19:45.847569Z"
    }
   },
   "outputs": [],
   "source": [
    "import astropy.visualization as vis\n",
    "import matplotlib.colors as colors\n",
    "import matplotlib\n",
    "from lsst.summit.utils import getQuantiles\n",
    "from mpl_toolkits.axes_grid1.axes_divider import make_axes_locatable\n",
    "import lsst.afw.geom as afwGeom\n",
    "import lsst.afw.image as afwImage\n",
    "\n",
    "\n",
    "def localPlot(\n",
    "    imageData: np.ndarray,\n",
    "    stretch: str = \"linear\",\n",
    "    percentile: float = 99.0,\n",
    "    cmap: str = \"gray\",\n",
    "    center: tuple = (1000,1000),\n",
    "    extent: tuple = (50,50)\n",
    ") -> matplotlib.figure.Figure:\n",
    "\n",
    "    # Copied and modified from lsst.summit.utils.plotting.plot.py\n",
    "    xmin = int(center[0] - extent[0] / 2)\n",
    "    xmax = int(center[0] + extent[0] / 2)\n",
    "    ymin = int(center[1] - extent[1] / 2)\n",
    "    ymax = int(center[1] + extent[1] / 2)\n",
    "    figure, axs = plt.subplots(2, 2, figsize=(10, 10))\n",
    "    \n",
    "\n",
    "    stretchData = imageData[ymin:ymax, xmin:xmax]\n",
    "    interval = vis.PercentileInterval(percentile)\n",
    "    match stretch:\n",
    "        case \"ccs\":\n",
    "            quantiles = getQuantiles(stretchData, 256)\n",
    "            norm = colors.BoundaryNorm(quantiles, 256)\n",
    "        case \"asinh\":\n",
    "            norm = vis.ImageNormalize(stretchData, interval=interval, stretch=vis.AsinhStretch(a=0.1))\n",
    "        case \"power\":\n",
    "            norm = vis.ImageNormalize(stretchData, interval=interval, stretch=vis.PowerStretch(a=2))\n",
    "        case \"log\":\n",
    "            norm = vis.ImageNormalize(stretchData, interval=interval, stretch=vis.LogStretch(a=1))\n",
    "        case \"linear\":\n",
    "            norm = vis.ImageNormalize(stretchData, interval=interval, stretch=vis.LinearStretch())\n",
    "        case \"sqrt\":\n",
    "            norm = vis.ImageNormalize(stretchData, interval=interval, stretch=vis.SqrtStretch())\n",
    "        case _:\n",
    "            raise ValueError(\n",
    "                f\"Invalid value for stretch : {stretch}. \"\n",
    "                \"Accepted options are: ccs, asinh, power, log, linear, sqrt.\"\n",
    "            )\n",
    "\n",
    "    im = axs[0][0].imshow(imageData, cmap=cmap, origin=\"lower\", norm=norm, aspect=\"equal\")\n",
    "    div = make_axes_locatable(axs[0][0])\n",
    "    cax = div.append_axes(\"right\", size=\"5%\", pad=0.05)\n",
    "    figure.colorbar(im, cax=cax)\n",
    "    axs[0][0].set_xlim(xmin, xmax)\n",
    "    axs[0][0].set_ylim(ymin, ymax)\n",
    "\n",
    "    less_stamp = np.zeros_like(stretchData)\n",
    "    more_stamp = np.zeros_like(stretchData)\n",
    "    med = np.median(stretchData)\n",
    "    sig = np.sqrt(med)\n",
    "    \n",
    "    for i in range(stretchData.shape[0]):\n",
    "        for j in range(stretchData.shape[1]):\n",
    "            if stretchData[i,j] < (med - 3.0 * sig):\n",
    "                less_stamp[i,j] = (med - stretchData[i,j])\n",
    "            if stretchData[i,j] > (med + 3.0 * sig):\n",
    "                more_stamp[i,j] = (stretchData[i,j] - med)\n",
    "    \n",
    "    axs[0][1].plot(stretchData[int(stretchData.shape[1] / 2),:], marker='x')\n",
    "    axs[0][1].axhline(med, ls='--', color='red')\n",
    "    axs[0][1].yaxis.set_label_position(\"right\")\n",
    "    axs[0][1].yaxis.tick_right()\n",
    "    axs[0][1].set_ylabel(\"Signal(e-)\")\n",
    "    \n",
    "    axs[1][0].imshow(less_stamp, origin=\"lower\",)\n",
    "    axs[1][0].set_title(\"Pixels < median-3*sig\")\n",
    "    axs[1][0].text(5, 25, f\"Sum = {np.sum(less_stamp):.0f}\", color='white', fontsize=12)\n",
    "    \n",
    "    axs[1][1].imshow(more_stamp, origin=\"lower\",)\n",
    "    axs[1][1].set_title(\"Pixels > median+3*sig\")\n",
    "    axs[1][1].text(5, 25, f\"Sum = {np.sum(more_stamp):.0f}\", color='white', fontsize=12)\n",
    "    \n",
    "    return figure"
   ]
  },
  {
   "cell_type": "markdown",
   "metadata": {},
   "source": [
    "## Define a simple ISR\n",
    "### Just overscan subtraction and bias subtraction."
   ]
  },
  {
   "cell_type": "code",
   "execution_count": null,
   "metadata": {
    "execution": {
     "iopub.execute_input": "2024-11-20T15:17:23.695768Z",
     "iopub.status.busy": "2024-11-20T15:17:23.695497Z",
     "iopub.status.idle": "2024-11-20T15:17:23.721473Z",
     "shell.execute_reply": "2024-11-20T15:17:23.721059Z",
     "shell.execute_reply.started": "2024-11-20T15:17:23.695754Z"
    },
    "tags": []
   },
   "outputs": [],
   "source": [
    "isrConfig = IsrTaskConfig()\n",
    "isrConfig.doLinearize=False\n",
    "isrConfig.doOverscan=True\n",
    "isrConfig.overscan.fitType=\"MEDIAN_PER_ROW\"\n",
    "isrConfig.overscan.doParallelOverscan=True\n",
    "isrConfig.doAssembleCcd=True\n",
    "isrConfig.doBias=True\n",
    "isrConfig.doVariance=False\n",
    "isrConfig.doCrosstalk=False\n",
    "isrConfig.doBrighterFatter=False\n",
    "isrConfig.doDark=False\n",
    "isrConfig.doStrayLight=False\n",
    "isrConfig.doFlat=False\n",
    "isrConfig.doFringe=False\n",
    "isrConfig.doApplyGains=True\n",
    "isrConfig.usePtcGains=True\n",
    "isrConfig.doDefect=False\n",
    "isrConfig.doNanMasking=True\n",
    "isrConfig.doInterpolate=False\n",
    "isrConfig.doSaturation=False\n",
    "isrConfig.doSaturationInterpolation=False\n",
    "isrTask = IsrTask(config=isrConfig)"
   ]
  },
  {
   "cell_type": "markdown",
   "metadata": {},
   "source": [
    "## Run the ISR and look at the result"
   ]
  },
  {
   "cell_type": "code",
   "execution_count": null,
   "metadata": {
    "execution": {
     "iopub.execute_input": "2024-11-20T15:18:10.309506Z",
     "iopub.status.busy": "2024-11-20T15:18:10.309295Z",
     "iopub.status.idle": "2024-11-20T15:18:14.090384Z",
     "shell.execute_reply": "2024-11-20T15:18:14.089864Z",
     "shell.execute_reply.started": "2024-11-20T15:18:10.309492Z"
    },
    "tags": []
   },
   "outputs": [],
   "source": [
    "expId = 2024072900237\n",
    "#expId = 2024072900244\n",
    "#expId = 2024072900232\n",
    "#expId = 2024072900075 # Dark\n",
    "instrument = \"LSSTComCam\"\n",
    "detector = 2\n",
    "mData = butler.get('raw.metadata', detector=detector, exposure=expId, instrument=instrument)\n",
    "exp = butler.get('raw', detector=detector, exposure=expId, instrument=instrument)\n",
    "biasExp = butler.get('bias', detector=detector, exposure=expId, instrument=instrument) # This is a bias image associated with the data\n",
    "ptc = butler.get('ptc', detector=detector, instrument=instrument,\n",
    "                 collections=\"u/abrought/LSSTComCam/calibs/w_2024_28/ptc_r03.08132024a\")\n",
    "isrResult = isrTask.run(exp, bias=biasExp, ptc=ptc) # This runs the ISR"
   ]
  },
  {
   "cell_type": "code",
   "execution_count": null,
   "metadata": {
    "execution": {
     "iopub.execute_input": "2024-11-20T15:18:21.015550Z",
     "iopub.status.busy": "2024-11-20T15:18:21.015261Z",
     "iopub.status.idle": "2024-11-20T15:18:21.962018Z",
     "shell.execute_reply": "2024-11-20T15:18:21.961590Z",
     "shell.execute_reply.started": "2024-11-20T15:18:21.015537Z"
    }
   },
   "outputs": [],
   "source": [
    "center=(3159, 558)\n",
    "\n",
    "fig = localPlot(isrResult.exposure.image.array, center=center, extent=(30,30), stretch='ccs')\n",
    "fig.suptitle(f\"Warm pixels, {expId}, expTime={mData['EXPTIME']} sec\\n Detector = {detector}, Center = {center}\", fontsize=18)"
   ]
  },
  {
   "cell_type": "code",
   "execution_count": null,
   "metadata": {},
   "outputs": [],
   "source": []
  },
  {
   "cell_type": "code",
   "execution_count": null,
   "metadata": {
    "execution": {
     "iopub.execute_input": "2024-09-04T18:38:40.417774Z",
     "iopub.status.busy": "2024-09-04T18:38:40.417477Z",
     "iopub.status.idle": "2024-09-04T18:38:45.298574Z",
     "shell.execute_reply": "2024-09-04T18:38:45.298107Z",
     "shell.execute_reply.started": "2024-09-04T18:38:40.417760Z"
    }
   },
   "outputs": [],
   "source": [
    "expIdF = 2024072900237 # Flat\n",
    "expIdD = 2024072900075 # Dark\n",
    "instrument = \"LSSTComCam\"\n",
    "detector = 2\n",
    "expF = butler.get('raw', detector=detector, exposure=expIdF, instrument=instrument)\n",
    "biasExpF = butler.get('bias', detector=detector, exposure=expIdF, instrument=instrument)\n",
    "expD = butler.get('raw', detector=detector, exposure=expIdD, instrument=instrument)\n",
    "biasExpD = butler.get('bias', detector=detector, exposure=expIdD, instrument=instrument)\n",
    "ptc = butler.get('ptc', detector=detector, instrument=instrument,\n",
    "                 collections=\"u/abrought/LSSTComCam/calibs/w_2024_28/ptc_r03.08132024a\")\n",
    "isrResultF = isrTask.run(expF, bias=biasExpF, ptc=ptc)\n",
    "arrF = isrResultF.exposure.image.array\n",
    "isrResultD = isrTask.run(expD, bias=biasExpD, ptc=ptc)\n",
    "arrD = isrResultD.exposure.image.array"
   ]
  },
  {
   "cell_type": "code",
   "execution_count": null,
   "metadata": {
    "execution": {
     "iopub.execute_input": "2024-09-04T18:39:02.572095Z",
     "iopub.status.busy": "2024-09-04T18:39:02.571654Z",
     "iopub.status.idle": "2024-09-04T18:39:02.574919Z",
     "shell.execute_reply": "2024-09-04T18:39:02.574609Z",
     "shell.execute_reply.started": "2024-09-04T18:39:02.572080Z"
    }
   },
   "outputs": [],
   "source": [
    "arrF.shape"
   ]
  },
  {
   "cell_type": "code",
   "execution_count": null,
   "metadata": {
    "execution": {
     "iopub.execute_input": "2024-09-04T19:39:38.454471Z",
     "iopub.status.busy": "2024-09-04T19:39:38.453910Z",
     "iopub.status.idle": "2024-09-04T19:40:03.758901Z",
     "shell.execute_reply": "2024-09-04T19:40:03.758409Z",
     "shell.execute_reply.started": "2024-09-04T19:39:38.454443Z"
    }
   },
   "outputs": [],
   "source": [
    "for i in range(arrF.shape[0]):\n",
    "    for j in range(arrF.shape[1]):\n",
    "        if arrF[i,j] > 30000 and arrD[i,j] > 500:\n",
    "            print(i,j, arrD[i,j])\n"
   ]
  },
  {
   "cell_type": "code",
   "execution_count": null,
   "metadata": {
    "execution": {
     "iopub.execute_input": "2024-09-04T19:55:45.698743Z",
     "iopub.status.busy": "2024-09-04T19:55:45.698272Z",
     "iopub.status.idle": "2024-09-04T19:58:52.015240Z",
     "shell.execute_reply": "2024-09-04T19:58:52.014840Z",
     "shell.execute_reply.started": "2024-09-04T19:55:45.698727Z"
    },
    "jupyter": {
     "outputs_hidden": true
    }
   },
   "outputs": [],
   "source": [
    "instrument = \"LSSTComCam\"\n",
    "detector = 2\n",
    "centers = [(315, 289), (3159, 558), (2533, 1442), (1438, 2159)]\n",
    "expIds = [2024072900232, 2024072900244, 2024072900239, 2024072900261, 2024072900237,\n",
    "         2024072900187, 2024072900275, 2024072900347, 2024072900242, 2024072900247,\n",
    "         2024072900212, 2024072900252]\n",
    "expTimes = np.zeros([len(centers), len(expIds)])\n",
    "peakValues = np.zeros([len(centers), len(expIds)])\n",
    "for n, center in enumerate(centers):\n",
    "    for m, expId in enumerate(expIds):\n",
    "        mData = butler.get('raw.metadata', detector=detector, exposure=expId, instrument=instrument)\n",
    "        expTimes[n,m] = mData['EXPTIME']\n",
    "        exp = butler.get('raw', detector=detector, exposure=expId, instrument=instrument)\n",
    "        biasExp = butler.get('bias', detector=detector, exposure=expId, instrument=instrument)\n",
    "        ptc = butler.get('ptc', detector=detector, instrument=instrument,\n",
    "                         collections=\"u/abrought/LSSTComCam/calibs/w_2024_28/ptc_r03.08132024a\")\n",
    "        isrResult = isrTask.run(exp, bias=biasExp, ptc=ptc) # This runs the ISR\n",
    "        peakValues[n,m] = isrResult.exposure.image.array[center[1], center[0]]\n",
    "        fig = localPlot(isrResult.exposure.image.array, center=center, extent=(30,30), stretch='ccs')\n",
    "        fig.suptitle(f\"Warm pixels, {expId}, expTime={mData['EXPTIME']} sec\\n Detector = {detector}, Center = {center}\", fontsize=18)\n",
    "        plt.savefig(f\"/home/c/cslage/u/ComCam/warm_pixels/Warm_Pixel_{center[0]}_{center[1]}_{expId}.png\")\n"
   ]
  },
  {
   "cell_type": "code",
   "execution_count": null,
   "metadata": {},
   "outputs": [],
   "source": []
  },
  {
   "cell_type": "code",
   "execution_count": null,
   "metadata": {
    "execution": {
     "iopub.execute_input": "2024-09-04T20:18:42.049080Z",
     "iopub.status.busy": "2024-09-04T20:18:42.048630Z",
     "iopub.status.idle": "2024-09-04T20:18:42.317651Z",
     "shell.execute_reply": "2024-09-04T20:18:42.317269Z",
     "shell.execute_reply.started": "2024-09-04T20:18:42.049064Z"
    }
   },
   "outputs": [],
   "source": [
    "%matplotlib inline\n",
    "colors = ['red', 'blue', 'green', 'orange']\n",
    "fig = plt.figure(figsize=(8,5))\n",
    "for i in range(len(centers)):\n",
    "    plt.plot(expTimes[i,:], peakValues[i,:], marker='x', label=f\"{centers[i]}\", color=colors[i])\n",
    "    plt.scatter([30.0], [arrD[centers[i][1], centers[i][0]]], marker='o', color=colors[i], label='')\n",
    "plt.scatter([30.0], [arrD[centers[0][1], centers[0][0]]], marker='o', color = 'red', label='Dark')\n",
    "plt.legend()\n",
    "plt.xlabel(\"Exposure time (seconds)\")\n",
    "plt.ylabel(\"Peak pixel flux (e-)\")\n",
    "plt.title(f\"Warm Pixel Peak Flux, ComCam Detector {detector}\")\n",
    "plt.savefig(f\"/home/c/cslage/u/ComCam/warm_pixels/Warm_Pixel_Flux_vs_ExpTime_04Sep24.png\")"
   ]
  },
  {
   "cell_type": "code",
   "execution_count": null,
   "metadata": {},
   "outputs": [],
   "source": []
  },
  {
   "cell_type": "markdown",
   "metadata": {},
   "source": [
    "## Check images with different filters"
   ]
  },
  {
   "cell_type": "code",
   "execution_count": null,
   "metadata": {
    "execution": {
     "iopub.execute_input": "2024-10-07T16:24:26.040038Z",
     "iopub.status.busy": "2024-10-07T16:24:26.039803Z",
     "iopub.status.idle": "2024-10-07T16:24:49.668990Z",
     "shell.execute_reply": "2024-10-07T16:24:49.668611Z",
     "shell.execute_reply.started": "2024-10-07T16:24:26.040019Z"
    }
   },
   "outputs": [],
   "source": [
    "instrument = \"LSSTComCam\"\n",
    "detector = 2\n",
    "centers = [(3159, 558)]\n",
    "expIds = [2024080800120, 2024080800055, 2024080800025, 2024080800095, 2024080800145, 2024080800180]\n",
    "filters = ['U', 'G', 'R', 'I', 'Z', 'Y']\n",
    "expTimes = np.zeros([len(centers), len(expIds)])\n",
    "peakValues = np.zeros([len(centers), len(expIds)])\n",
    "for n, center in enumerate(centers):\n",
    "    for m, expId in enumerate(expIds):\n",
    "        mData = butler.get('raw.metadata', detector=detector, exposure=expId, instrument=instrument)\n",
    "        expTimes[n,m] = mData['EXPTIME']\n",
    "        exp = butler.get('raw', detector=detector, exposure=expId, instrument=instrument)\n",
    "        biasExp = butler.get('bias', detector=detector, exposure=expId, instrument=instrument)\n",
    "        ptc = butler.get('ptc', detector=detector, instrument=instrument,\n",
    "                         collections=\"u/abrought/LSSTComCam/calibs/w_2024_28/ptc_r03.08132024a\")\n",
    "        isrResult = isrTask.run(exp, bias=biasExp, ptc=ptc) # This runs the ISR\n",
    "        peakValues[n,m] = isrResult.exposure.image.array[center[1], center[0]]\n",
    "        fig = localPlot(isrResult.exposure.image.array, center=center, extent=(30,30), stretch='ccs')\n",
    "        fig.suptitle(f\"Warm pixels, {expId}, expTime={mData['EXPTIME']} sec\\n Detector = {detector}, Center = {center} Filter={filters[m]}\", fontsize=18)\n",
    "        plt.savefig(f\"/home/c/cslage/u/ComCam/warm_pixels/Warm_Pixel_{center[0]}_{center[1]}_{expId}_{filters[m]}.png\")\n"
   ]
  },
  {
   "cell_type": "code",
   "execution_count": null,
   "metadata": {
    "execution": {
     "iopub.execute_input": "2024-10-07T16:24:26.040038Z",
     "iopub.status.busy": "2024-10-07T16:24:26.039803Z",
     "iopub.status.idle": "2024-10-07T16:24:49.668990Z",
     "shell.execute_reply": "2024-10-07T16:24:49.668611Z",
     "shell.execute_reply.started": "2024-10-07T16:24:26.040019Z"
    }
   },
   "outputs": [],
   "source": [
    "instrument = \"LSSTComCam\"\n",
    "detector = 2\n",
    "centers = [(3159, 558)]\n",
    "expIds = [2024080800120, 2024080800055, 2024080800025, 2024080800095, 2024080800145, 2024080800180]\n",
    "filters = ['U', 'G', 'R', 'I', 'Z', 'Y']\n",
    "expTimes = np.zeros([len(centers), len(expIds)])\n",
    "peakValues = np.zeros([len(centers), len(expIds)])\n",
    "for n, center in enumerate(centers):\n",
    "    for m, expId in enumerate(expIds):\n",
    "        mData = butler.get('raw.metadata', detector=detector, exposure=expId, instrument=instrument)\n",
    "        expTimes[n,m] = mData['EXPTIME']\n",
    "        exp = butler.get('raw', detector=detector, exposure=expId, instrument=instrument)\n",
    "        biasExp = butler.get('bias', detector=detector, exposure=expId, instrument=instrument)\n",
    "        ptc = butler.get('ptc', detector=detector, instrument=instrument,\n",
    "                         collections=\"u/abrought/LSSTComCam/calibs/w_2024_28/ptc_r03.08132024a\")\n",
    "        isrResult = isrTask.run(exp, bias=biasExp, ptc=ptc) # This runs the ISR\n",
    "        peakValues[n,m] = isrResult.exposure.image.array[center[1], center[0]]\n",
    "        fig = localPlot(isrResult.exposure.image.array, center=center, extent=(30,30), stretch='ccs')\n",
    "        fig.suptitle(f\"Warm pixels, {expId}, expTime={mData['EXPTIME']} sec\\n Detector = {detector}, Center = {center} Filter={filters[m]}\", fontsize=18)\n",
    "        plt.savefig(f\"/home/c/cslage/u/ComCam/warm_pixels/Warm_Pixel_{center[0]}_{center[1]}_{expId}_{filters[m]}.png\")\n"
   ]
  },
  {
   "cell_type": "code",
   "execution_count": null,
   "metadata": {},
   "outputs": [],
   "source": []
  },
  {
   "cell_type": "code",
   "execution_count": null,
   "metadata": {
    "execution": {
     "iopub.execute_input": "2024-11-20T18:42:35.425149Z",
     "iopub.status.busy": "2024-11-20T18:42:35.424662Z",
     "iopub.status.idle": "2024-11-20T18:42:36.183904Z",
     "shell.execute_reply": "2024-11-20T18:42:36.183485Z",
     "shell.execute_reply.started": "2024-11-20T18:42:35.425133Z"
    },
    "tags": []
   },
   "outputs": [],
   "source": []
  },
  {
   "cell_type": "code",
   "execution_count": null,
   "metadata": {
    "execution": {
     "iopub.execute_input": "2024-11-25T11:20:16.112062Z",
     "iopub.status.busy": "2024-11-25T11:20:16.111549Z",
     "iopub.status.idle": "2024-11-25T11:20:16.138346Z",
     "shell.execute_reply": "2024-11-25T11:20:16.137867Z",
     "shell.execute_reply.started": "2024-11-25T11:20:16.112046Z"
    },
    "tags": []
   },
   "outputs": [],
   "source": [
    "isrConfig = IsrTaskConfig()\n",
    "isrConfig.doLinearize=False\n",
    "isrConfig.doOverscan=True\n",
    "isrConfig.overscan.fitType=\"MEDIAN_PER_ROW\"\n",
    "isrConfig.overscan.doParallelOverscan=True\n",
    "isrConfig.doAssembleCcd=True\n",
    "isrConfig.doBias=False\n",
    "isrConfig.doVariance=False\n",
    "isrConfig.doCrosstalk=False\n",
    "isrConfig.doBrighterFatter=False\n",
    "isrConfig.doDark=False\n",
    "isrConfig.doStrayLight=False\n",
    "isrConfig.doFlat=False\n",
    "isrConfig.doFringe=False\n",
    "isrConfig.doApplyGains=True\n",
    "isrConfig.usePtcGains=False\n",
    "isrConfig.doDefect=False\n",
    "isrConfig.doNanMasking=True\n",
    "isrConfig.doInterpolate=False\n",
    "isrConfig.doSaturation=False\n",
    "isrConfig.doSaturationInterpolation=False\n",
    "isrTask = IsrTask(config=isrConfig)"
   ]
  },
  {
   "cell_type": "code",
   "execution_count": null,
   "metadata": {
    "execution": {
     "iopub.execute_input": "2024-11-20T15:27:51.655960Z",
     "iopub.status.busy": "2024-11-20T15:27:51.655749Z",
     "iopub.status.idle": "2024-11-20T15:28:17.772200Z",
     "shell.execute_reply": "2024-11-20T15:28:17.771819Z",
     "shell.execute_reply.started": "2024-11-20T15:27:51.655946Z"
    }
   },
   "outputs": [],
   "source": [
    "instrument = \"LSSTComCam\"\n",
    "detector = 2\n",
    "centers = [(3159, 558)]\n",
    "expIds = [2024072900232, 2024072900244, 2024072900239, 2024072900261, 2024072900237,\n",
    "         2024072900187, 2024072900275, 2024072900347, 2024072900242, 2024072900247,\n",
    "         2024072900212, 2024072900252]\n",
    "expTimes = np.zeros([len(centers), len(expIds)])\n",
    "peakValues = np.zeros([len(centers), len(expIds)])\n",
    "for n, center in enumerate(centers):\n",
    "    for m, expId in enumerate(expIds):\n",
    "        mData = butler.get('raw.metadata', detector=detector, exposure=expId, instrument=instrument)\n",
    "        expTimes[n,m] = mData['EXPTIME']\n",
    "        exp = butler.get('raw', detector=detector, exposure=expId, instrument=instrument)\n",
    "        isrResult = isrTask.run(exp) # This runs the ISR\n",
    "        print(expId, mData['EXPTIME'], np.nanmedian(isrResult.exposure.image.array))\n",
    "        #peakValues[n,m] = isrResult.exposure.image.array[center[1], center[0]]\n",
    "        #fig = localPlot(isrResult.exposure.image.array, center=center, extent=(30,30), stretch='ccs')\n",
    "        #fig.suptitle(f\"Warm pixels, {expId}, expTime={mData['EXPTIME']} sec\\n Detector = {detector}, Center = {center}\", fontsize=18)\n",
    "        #plt.savefig(f\"/home/c/cslage/u/ComCam/warm_pixels/Warm_Pixel_{center[0]}_{center[1]}_{expId}.png\")\n"
   ]
  },
  {
   "cell_type": "code",
   "execution_count": null,
   "metadata": {
    "execution": {
     "iopub.execute_input": "2024-11-20T16:47:32.896263Z",
     "iopub.status.busy": "2024-11-20T16:47:32.895984Z",
     "iopub.status.idle": "2024-11-20T16:47:39.293920Z",
     "shell.execute_reply": "2024-11-20T16:47:39.293531Z",
     "shell.execute_reply.started": "2024-11-20T16:47:32.896248Z"
    }
   },
   "outputs": [],
   "source": [
    "butler0 = Butler('/repo/main', collections=[\"LSSTComCam/raw/all\", \"LSSTComCam/calib\"])\n",
    "butler1 = Butler('/repo/embargo_old', collections=[\"LSSTComCam/raw/all\", \"LSSTComCam/calib\"])\n",
    "butlers = [butler0, butler1]\n",
    "instrument = \"LSSTComCam\"\n",
    "detector = 2\n",
    "centers = [(3159, 558)]\n",
    "expIds = [2021040100045, 2024072900275]\n",
    "expTimes = np.zeros([len(centers), len(expIds)])\n",
    "peakValues = np.zeros([len(centers), len(expIds)])\n",
    "for n, center in enumerate(centers):\n",
    "    for m, expId in enumerate(expIds):\n",
    "        mData = butlers[m].get('raw.metadata', detector=detector, exposure=expId, instrument=instrument)\n",
    "        expTimes[n,m] = mData['EXPTIME']\n",
    "        exp = butlers[m].get('raw', detector=detector, exposure=expId, instrument=instrument)\n",
    "        isrResult = isrTask.run(exp) # This runs the ISR\n",
    "        peakValues[n,m] = isrResult.exposure.image.array[center[1], center[0]]\n",
    "        fig = localPlot(isrResult.exposure.image.array, center=center, extent=(30,30), stretch='ccs')\n",
    "        fig.suptitle(f\"Vampire pixel, {expId}, expTime={mData['EXPTIME']} sec\\n Detector = {detector}, Center = {center}\", fontsize=18)\n",
    "        plt.savefig(f\"/home/c/cslage/u/ComCam/warm_pixels/Vampires_{center[0]}_{center[1]}_{expId}.png\")\n"
   ]
  },
  {
   "cell_type": "code",
   "execution_count": null,
   "metadata": {},
   "outputs": [],
   "source": []
  },
  {
   "cell_type": "code",
   "execution_count": null,
   "metadata": {
    "execution": {
     "iopub.execute_input": "2024-11-20T17:04:13.709651Z",
     "iopub.status.busy": "2024-11-20T17:04:13.709149Z",
     "iopub.status.idle": "2024-11-20T17:04:19.337590Z",
     "shell.execute_reply": "2024-11-20T17:04:19.337204Z",
     "shell.execute_reply.started": "2024-11-20T17:04:13.709636Z"
    }
   },
   "outputs": [],
   "source": [
    "instrument = \"LSSTComCam\"\n",
    "detector = 2\n",
    "centers = [(3159, 558)]\n",
    "expIds = [2022051900090, 2022053100041]\n",
    "Vbb = ['Vbb_OFF', 'Vbb_ON']\n",
    "expTimes = np.zeros([len(centers), len(expIds)])\n",
    "peakValues = np.zeros([len(centers), len(expIds)])\n",
    "for n, center in enumerate(centers):\n",
    "    for m, expId in enumerate(expIds):\n",
    "        mData = butlers[0].get('raw.metadata', detector=detector, exposure=expId, instrument=instrument)\n",
    "        exp = butlers[0].get('raw', detector=detector, exposure=expId, instrument=instrument)\n",
    "        isrResult = isrTask.run(exp) # This runs the ISR\n",
    "        fig = localPlot(isrResult.exposure.image.array, center=center, extent=(30,30), stretch='ccs')\n",
    "        fig.suptitle(f\"Vampire pixel, {expId}, expTime={mData['EXPTIME']} sec\\n Detector = {detector}, Center = {center}, {Vbb[m]}\", fontsize=18)\n",
    "        plt.savefig(f\"/home/c/cslage/u/ComCam/warm_pixels/Vampires_{center[0]}_{center[1]}_{expId}_{Vbb[m]}.png\")\n"
   ]
  },
  {
   "cell_type": "code",
   "execution_count": null,
   "metadata": {
    "execution": {
     "iopub.execute_input": "2024-11-20T18:50:14.593726Z",
     "iopub.status.busy": "2024-11-20T18:50:14.593214Z",
     "iopub.status.idle": "2024-11-20T18:50:21.980740Z",
     "shell.execute_reply": "2024-11-20T18:50:21.980320Z",
     "shell.execute_reply.started": "2024-11-20T18:50:14.593709Z"
    }
   },
   "outputs": [],
   "source": [
    "butler0 = Butler('/repo/main', collections=[\"LSSTComCam/raw/all\", \"LSSTComCam/calib\"])\n",
    "butler1 = Butler('/repo/embargo_old', collections=[\"LSSTComCam/raw/all\", \"LSSTComCam/calib\"])\n",
    "butler2 = Butler('/repo/embargo_new', collections=[\"LSSTComCam/raw/all\", \"LSSTComCam/calib\", \"LSSTComCam/nightlyValidation\"])\n",
    "butlers = [butler2, butler1]\n",
    "instrument = \"LSSTComCam\"\n",
    "detector = 2\n",
    "centers = [(3159, 558)]\n",
    "expIds = [2024111900013, 2024071100061]\n",
    "Vbb = ['Vbb_OFF', 'Vbb_ON']\n",
    "expTimes = np.zeros([len(centers), len(expIds)])\n",
    "peakValues = np.zeros([len(centers), len(expIds)])\n",
    "for n, center in enumerate(centers):\n",
    "    for m, expId in enumerate(expIds):\n",
    "        mData = butlers[m].get('raw.metadata', detector=detector, exposure=expId, instrument=instrument)\n",
    "        exp = butlers[m].get('raw', detector=detector, exposure=expId, instrument=instrument)\n",
    "        isrResult = isrTask.run(exp) # This runs the ISR\n",
    "        fig = localPlot(isrResult.exposure.image.array, center=center, extent=(30,30), stretch='ccs')\n",
    "        fig.suptitle(f\"Vampire pixel, {expId}, expTime={mData['EXPTIME']} sec\\n Detector = {detector}, Center = {center}, {Vbb[m]}\", fontsize=18)\n",
    "        plt.savefig(f\"/home/c/cslage/u/ComCam/warm_pixels/Vampires_{center[0]}_{center[1]}_{expId}_{Vbb[m]}.png\")\n"
   ]
  },
  {
   "cell_type": "code",
   "execution_count": null,
   "metadata": {
    "execution": {
     "iopub.execute_input": "2024-11-20T19:44:40.571736Z",
     "iopub.status.busy": "2024-11-20T19:44:40.571392Z",
     "iopub.status.idle": "2024-11-20T19:44:48.040197Z",
     "shell.execute_reply": "2024-11-20T19:44:48.039797Z",
     "shell.execute_reply.started": "2024-11-20T19:44:40.571720Z"
    }
   },
   "outputs": [],
   "source": [
    "butler0 = Butler('/repo/main', collections=[\"LSSTComCam/raw/all\", \"LSSTComCam/calib\"])\n",
    "butler1 = Butler('/repo/embargo_old', collections=[\"LSSTComCam/raw/all\", \"LSSTComCam/calib\"])\n",
    "butler2 = Butler('/repo/embargo_new', collections=[\"LSSTComCam/raw/all\", \"LSSTComCam/calib\", \"LSSTComCam/nightlyValidation\"])\n",
    "butlers = [butler0, butler1, butler2]\n",
    "instrument = \"LSSTComCam\"\n",
    "detector = 3\n",
    "centers = [(1538, 1711), (2005, 1676), (1900, 1869), (3429, 2819)]\n",
    "expIds = [2024111900027]\n",
    "Vbb = ['Vbb_OFF', 'Vbb_ON']\n",
    "expTimes = np.zeros([len(centers), len(expIds)])\n",
    "peakValues = np.zeros([len(centers), len(expIds)])\n",
    "for n, center in enumerate(centers):\n",
    "    for m, expId in enumerate(expIds):\n",
    "        mData = butlers[2].get('raw.metadata', detector=detector, exposure=expId, instrument=instrument)\n",
    "        exp = butlers[2].get('postISRCCD', detector=detector, exposure=expId, instrument=instrument)\n",
    "        fig = localPlot(exp.image.array, center=center, extent=(30,30), stretch='ccs')\n",
    "        fig.suptitle(f\"Vampire pixel, {expId}, expTime={mData['EXPTIME']} sec\\n Detector = {detector}, Center = {center}\", fontsize=18)\n",
    "        plt.savefig(f\"/home/c/cslage/u/ComCam/warm_pixels/Vampires_{center[0]}_{center[1]}_{expId}.png\")\n"
   ]
  },
  {
   "cell_type": "code",
   "execution_count": null,
   "metadata": {
    "execution": {
     "iopub.execute_input": "2024-11-25T11:22:41.327461Z",
     "iopub.status.busy": "2024-11-25T11:22:41.327147Z",
     "iopub.status.idle": "2024-11-25T11:23:09.478973Z",
     "shell.execute_reply": "2024-11-25T11:23:09.478558Z",
     "shell.execute_reply.started": "2024-11-25T11:22:41.327445Z"
    }
   },
   "outputs": [],
   "source": [
    "butler0 = Butler('/repo/main', collections=[\"LSSTComCam/raw/all\", \"LSSTComCam/calib\"])\n",
    "butler1 = Butler('/repo/embargo_old', collections=[\"LSSTComCam/raw/all\", \"LSSTComCam/calib\"])\n",
    "butler2 = Butler('/repo/embargo_new', collections=[\"LSSTComCam/raw/all\", \"LSSTComCam/calib\"])\n",
    "butlers = [butler0, butler1, butler2]\n",
    "instrument = \"LSSTComCam\"\n",
    "detector = 2\n",
    "centers = [(315, 289), (3159, 558), (2533, 1442), (1438, 2159)]\n",
    "expIds = [2024112300013, 2024112300014]\n",
    "expTimes = np.zeros([len(centers), len(expIds)])\n",
    "peakValues = np.zeros([len(centers), len(expIds)])\n",
    "for n, center in enumerate(centers):\n",
    "    for m, expId in enumerate(expIds):\n",
    "        mData = butlers[2].get('raw.metadata', detector=detector, exposure=expId, instrument=instrument)\n",
    "        expTimes[n,m] = mData['EXPTIME']\n",
    "        exp = butlers[2].get('raw', detector=detector, exposure=expId, instrument=instrument)\n",
    "        isrResult = isrTask.run(exp) # This runs the ISR\n",
    "        peakValues[n,m] = isrResult.exposure.image.array[center[1], center[0]]\n",
    "        fig = localPlot(isrResult.exposure.image.array, center=center, extent=(30,30), stretch='ccs')\n",
    "        fig.suptitle(f\"Vampire pixel, {expId}, expTime={mData['EXPTIME']} sec\\n Detector = {detector}, Center = {center}\", fontsize=18)\n",
    "        plt.savefig(f\"/home/c/cslage/u/ComCam/warm_pixels/Vampires_{center[0]}_{center[1]}_{expId}.png\")\n"
   ]
  },
  {
   "cell_type": "code",
   "execution_count": null,
   "metadata": {},
   "outputs": [],
   "source": []
  }
 ],
 "metadata": {
  "kernelspec": {
   "display_name": "LSST",
   "language": "python",
   "name": "lsst"
  },
  "language_info": {
   "codemirror_mode": {
    "name": "ipython",
    "version": 3
   },
   "file_extension": ".py",
   "mimetype": "text/x-python",
   "name": "python",
   "nbconvert_exporter": "python",
   "pygments_lexer": "ipython3",
   "version": "3.11.9"
  }
 },
 "nbformat": 4,
 "nbformat_minor": 4
}
