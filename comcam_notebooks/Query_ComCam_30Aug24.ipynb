{
 "cells": [
  {
   "cell_type": "markdown",
   "metadata": {},
   "source": [
    "## Queries - ComCam\n",
    "\n",
    "In this notebook, we show how to query the ComCam repository\\\n",
    "and view the resulting images.\\\n",
    "This notebook uses the most recent calibrations\n",
    "Craig Lage - 30-Aug-24"
   ]
  },
  {
   "cell_type": "code",
   "execution_count": null,
   "metadata": {
    "execution": {
     "iopub.execute_input": "2024-08-30T19:48:21.602489Z",
     "iopub.status.busy": "2024-08-30T19:48:21.602261Z",
     "iopub.status.idle": "2024-08-30T19:48:26.604728Z",
     "shell.execute_reply": "2024-08-30T19:48:26.604289Z",
     "shell.execute_reply.started": "2024-08-30T19:48:21.602473Z"
    },
    "tags": []
   },
   "outputs": [],
   "source": [
    "import numpy as np\n",
    "import matplotlib.pyplot as plt\n",
    "import astropy.io.fits as pf\n",
    "from lsst.daf.butler import Butler\n",
    "from lsst.ip.isr import IsrTask, IsrTaskConfig\n",
    "from lsst.summit.utils.plotting import plot\n",
    "import lsst.afw.cameraGeom.utils as camGeomUtils"
   ]
  },
  {
   "cell_type": "code",
   "execution_count": null,
   "metadata": {
    "execution": {
     "iopub.execute_input": "2024-08-30T19:48:36.895801Z",
     "iopub.status.busy": "2024-08-30T19:48:36.895502Z",
     "iopub.status.idle": "2024-08-30T19:48:37.583034Z",
     "shell.execute_reply": "2024-08-30T19:48:37.582601Z",
     "shell.execute_reply.started": "2024-08-30T19:48:36.895787Z"
    },
    "tags": []
   },
   "outputs": [],
   "source": [
    "butler = Butler('/repo/embargo', collections=[\"LSSTComCam/raw/all\", \"LSSTComCam/calib\",\n",
    "                                              \"u/abrought/LSSTComCam/calibs/w_2024_28/bias.08132024a\",\n",
    "                                            \"u/abrought/LSSTComCam/calibs/w_2024_28/defects.08132024a\",\n",
    "                                            \"u/abrought/LSSTComCam/calibs/w_2024_28/dark.08132024c\",\n",
    "                                            \"u/abrought/LSSTComCam/calibs/w_2024_28/flat_r03.08132024a\",\n",
    "                                             \"u/abrought/LSSTComCam/calibs/w_2024_28/ptc_r03.08132024a\",\n",
    "                                                ])"
   ]
  },
  {
   "cell_type": "markdown",
   "metadata": {},
   "source": [
    "## First, get a list of exposures\n",
    "### These should match what you see in RubinTV."
   ]
  },
  {
   "cell_type": "code",
   "execution_count": null,
   "metadata": {
    "execution": {
     "iopub.execute_input": "2024-08-30T19:48:44.359171Z",
     "iopub.status.busy": "2024-08-30T19:48:44.358857Z",
     "iopub.status.idle": "2024-08-30T19:48:44.448841Z",
     "shell.execute_reply": "2024-08-30T19:48:44.448451Z",
     "shell.execute_reply.started": "2024-08-30T19:48:44.359157Z"
    },
    "jupyter": {
     "outputs_hidden": true
    },
    "tags": []
   },
   "outputs": [],
   "source": [
    "dayObs = 20240808\n",
    "instrument = \"LSSTComCam\"\n",
    "\n",
    "exposureList = []\n",
    "for record in butler.registry.queryDimensionRecords(\"exposure\", \n",
    "                    where=f\"exposure.day_obs={dayObs} and instrument='LSSTComCam'\"):\n",
    "    exposureList.append([record.id, record])\n",
    "exposureList.sort(key=lambda x: x[0])\n",
    "for [id,record] in exposureList:\n",
    "    print(record.id, record.observation_type, record.exposure_time, record.physical_filter)\n"
   ]
  },
  {
   "cell_type": "markdown",
   "metadata": {
    "execution": {
     "iopub.execute_input": "2024-07-10T18:00:56.931372Z",
     "iopub.status.busy": "2024-07-10T18:00:56.930578Z",
     "iopub.status.idle": "2024-07-10T18:00:56.935059Z",
     "shell.execute_reply": "2024-07-10T18:00:56.934337Z",
     "shell.execute_reply.started": "2024-07-10T18:00:56.931336Z"
    }
   },
   "source": [
    "# Get the data from the headers"
   ]
  },
  {
   "cell_type": "code",
   "execution_count": null,
   "metadata": {
    "execution": {
     "iopub.execute_input": "2024-08-23T14:29:00.963945Z",
     "iopub.status.busy": "2024-08-23T14:29:00.963406Z",
     "iopub.status.idle": "2024-08-23T14:29:01.588893Z",
     "shell.execute_reply": "2024-08-23T14:29:01.588474Z",
     "shell.execute_reply.started": "2024-08-23T14:29:00.963920Z"
    },
    "jupyter": {
     "outputs_hidden": true
    }
   },
   "outputs": [],
   "source": [
    "expId = 2024080800029\n",
    "mData = butler.get('raw.metadata', detector=4, exposure=expId, instrument=instrument)\n",
    "for key in mData.keys():\n",
    "    print(key, mData[key])"
   ]
  },
  {
   "cell_type": "markdown",
   "metadata": {},
   "source": [
    "# Now get the raw data"
   ]
  },
  {
   "cell_type": "markdown",
   "metadata": {},
   "source": [
    "## Next, look at the raw data from one of the exposures.\n",
    "### Because of the large pedestal, we don't see much.  We need to do ISR"
   ]
  },
  {
   "cell_type": "code",
   "execution_count": null,
   "metadata": {
    "execution": {
     "iopub.execute_input": "2024-08-23T14:29:50.782959Z",
     "iopub.status.busy": "2024-08-23T14:29:50.782308Z",
     "iopub.status.idle": "2024-08-23T14:29:51.622862Z",
     "shell.execute_reply": "2024-08-23T14:29:51.622414Z",
     "shell.execute_reply.started": "2024-08-23T14:29:50.782941Z"
    },
    "tags": []
   },
   "outputs": [],
   "source": [
    "expId = 2024080800029\n",
    "raw = butler.get('raw', detector=4, exposure=expId, instrument=instrument)\n"
   ]
  },
  {
   "cell_type": "markdown",
   "metadata": {},
   "source": [
    "## Some people have expressed the desire to download the FITS files.  This cell will do that.  "
   ]
  },
  {
   "cell_type": "code",
   "execution_count": null,
   "metadata": {},
   "outputs": [],
   "source": [
    "filename = \"/home/c/cslage/u/ComCam/images/2024080800029_4_raw.fits\"\n",
    "raw.image.writeFits(filename)"
   ]
  },
  {
   "cell_type": "code",
   "execution_count": null,
   "metadata": {
    "execution": {
     "iopub.execute_input": "2024-08-23T14:29:58.776489Z",
     "iopub.status.busy": "2024-08-23T14:29:58.776011Z",
     "iopub.status.idle": "2024-08-23T14:30:01.347998Z",
     "shell.execute_reply": "2024-08-23T14:30:01.347564Z",
     "shell.execute_reply.started": "2024-08-23T14:29:58.776473Z"
    }
   },
   "outputs": [],
   "source": [
    "%matplotlib inline        \n",
    "x = plot(raw, stretch='ccs')"
   ]
  },
  {
   "cell_type": "markdown",
   "metadata": {},
   "source": [
    "## Define a simple ISR\n",
    "### Just overscan subtraction and bias subtraction."
   ]
  },
  {
   "cell_type": "code",
   "execution_count": null,
   "metadata": {
    "execution": {
     "iopub.execute_input": "2024-08-30T19:49:00.409540Z",
     "iopub.status.busy": "2024-08-30T19:49:00.409247Z",
     "iopub.status.idle": "2024-08-30T19:49:00.434510Z",
     "shell.execute_reply": "2024-08-30T19:49:00.434087Z",
     "shell.execute_reply.started": "2024-08-30T19:49:00.409526Z"
    },
    "tags": []
   },
   "outputs": [],
   "source": [
    "isrConfig = IsrTaskConfig()\n",
    "isrConfig.doLinearize=False\n",
    "isrConfig.doOverscan=True\n",
    "isrConfig.overscan.fitType=\"MEDIAN_PER_ROW\"\n",
    "isrConfig.overscan.doParallelOverscan=True\n",
    "isrConfig.doAssembleCcd=True\n",
    "isrConfig.doBias=True\n",
    "isrConfig.doVariance=False\n",
    "isrConfig.doCrosstalk=False\n",
    "isrConfig.doBrighterFatter=False\n",
    "isrConfig.doDark=False\n",
    "isrConfig.doStrayLight=False\n",
    "isrConfig.doFlat=False\n",
    "isrConfig.doFringe=False\n",
    "isrConfig.doApplyGains=True\n",
    "isrConfig.usePtcGains=True\n",
    "isrConfig.doDefect=False\n",
    "isrConfig.doNanMasking=True\n",
    "isrConfig.doInterpolate=False\n",
    "isrConfig.doSaturation=False\n",
    "isrConfig.doSaturationInterpolation=False\n",
    "isrTask = IsrTask(config=isrConfig)"
   ]
  },
  {
   "cell_type": "markdown",
   "metadata": {},
   "source": [
    "## Run the ISR and look at the result"
   ]
  },
  {
   "cell_type": "code",
   "execution_count": null,
   "metadata": {
    "execution": {
     "iopub.execute_input": "2024-08-30T19:51:42.685505Z",
     "iopub.status.busy": "2024-08-30T19:51:42.685017Z",
     "iopub.status.idle": "2024-08-30T19:51:45.633826Z",
     "shell.execute_reply": "2024-08-30T19:51:45.633347Z",
     "shell.execute_reply.started": "2024-08-30T19:51:42.685490Z"
    },
    "tags": []
   },
   "outputs": [],
   "source": [
    "expId = 2024080800029\n",
    "exp = butler.get('raw', detector=2, exposure=expId, instrument=instrument)\n",
    "biasExp = butler.get('bias', detector=2, exposure=expId, instrument=instrument) # This is a bias image associated with the data\n",
    "ptc = butler.get('ptc', detector=2, instrument=instrument,\n",
    "                 collections=\"u/abrought/LSSTComCam/calibs/w_2024_28/ptc_r03.08132024a\")\n",
    "isrResult = isrTask.run(exp, bias=biasExp, ptc=ptc) # This runs the ISR"
   ]
  },
  {
   "cell_type": "code",
   "execution_count": null,
   "metadata": {
    "execution": {
     "iopub.execute_input": "2024-08-30T19:51:49.156593Z",
     "iopub.status.busy": "2024-08-30T19:51:49.156068Z",
     "iopub.status.idle": "2024-08-30T19:51:50.813496Z",
     "shell.execute_reply": "2024-08-30T19:51:50.813059Z",
     "shell.execute_reply.started": "2024-08-30T19:51:49.156576Z"
    }
   },
   "outputs": [],
   "source": [
    "%matplotlib inline\n",
    "x = plot(isrResult.exposure, stretch='linear')\n",
    "plt.savefig(f\"/home/c/cslage/u/ComCam/images/ComCam_{expId}.png\")"
   ]
  },
  {
   "cell_type": "markdown",
   "metadata": {
    "execution": {
     "iopub.execute_input": "2024-07-10T18:10:52.234053Z",
     "iopub.status.busy": "2024-07-10T18:10:52.233642Z",
     "iopub.status.idle": "2024-07-10T18:10:52.238254Z",
     "shell.execute_reply": "2024-07-10T18:10:52.237362Z",
     "shell.execute_reply.started": "2024-07-10T18:10:52.234022Z"
    }
   },
   "source": [
    "# Plot a small region"
   ]
  },
  {
   "cell_type": "code",
   "execution_count": null,
   "metadata": {
    "execution": {
     "iopub.execute_input": "2024-08-23T14:30:58.207730Z",
     "iopub.status.busy": "2024-08-23T14:30:58.207133Z",
     "iopub.status.idle": "2024-08-23T14:30:58.377706Z",
     "shell.execute_reply": "2024-08-23T14:30:58.377259Z",
     "shell.execute_reply.started": "2024-08-23T14:30:58.207712Z"
    }
   },
   "outputs": [],
   "source": [
    "x = plot(isrResult.exposure.image.array[2200:2300, 2600:2700])"
   ]
  },
  {
   "cell_type": "markdown",
   "metadata": {
    "execution": {
     "iopub.execute_input": "2024-08-23T11:15:50.535189Z",
     "iopub.status.busy": "2024-08-23T11:15:50.534798Z",
     "iopub.status.idle": "2024-08-23T11:15:50.537838Z",
     "shell.execute_reply": "2024-08-23T11:15:50.537222Z",
     "shell.execute_reply.started": "2024-08-23T11:15:50.535166Z"
    }
   },
   "source": [
    "# Get the value of a particular pixel"
   ]
  },
  {
   "cell_type": "code",
   "execution_count": null,
   "metadata": {
    "execution": {
     "iopub.execute_input": "2024-08-23T14:31:15.121507Z",
     "iopub.status.busy": "2024-08-23T14:31:15.121044Z",
     "iopub.status.idle": "2024-08-23T14:31:15.124535Z",
     "shell.execute_reply": "2024-08-23T14:31:15.124170Z",
     "shell.execute_reply.started": "2024-08-23T14:31:15.121491Z"
    }
   },
   "outputs": [],
   "source": [
    "isrResult.exposure.image.array[2100, 2100]"
   ]
  },
  {
   "cell_type": "markdown",
   "metadata": {},
   "source": [
    "# Plot the cross-chip uniformity"
   ]
  },
  {
   "cell_type": "code",
   "execution_count": null,
   "metadata": {
    "execution": {
     "iopub.execute_input": "2024-08-23T14:31:19.091544Z",
     "iopub.status.busy": "2024-08-23T14:31:19.091013Z",
     "iopub.status.idle": "2024-08-23T14:31:19.253220Z",
     "shell.execute_reply": "2024-08-23T14:31:19.252844Z",
     "shell.execute_reply.started": "2024-08-23T14:31:19.091526Z"
    }
   },
   "outputs": [],
   "source": [
    "plt.title(f\"ComCam {expId}, Bias\")\n",
    "plt.plot(isrResult.exposure.image.array[2100, :], label='X cut')\n",
    "plt.plot(isrResult.exposure.image.array[:, 2100], label='Y cut')\n",
    "plt.ylim(0,50000)\n",
    "#plt.ylim(-50, 50)\n",
    "plt.ylabel(\"Flux (electrons)\")\n",
    "plt.xlabel(\"Pixels\")\n",
    "plt.legend()\n",
    "plt.savefig(f\"/home/c/cslage/u/ComCam/images/ComCam_Slices_{expId}.png\")"
   ]
  },
  {
   "cell_type": "markdown",
   "metadata": {},
   "source": [
    "## Some people have expressed the desire to download the FITS files.  This cell will do that.  "
   ]
  },
  {
   "cell_type": "code",
   "execution_count": null,
   "metadata": {},
   "outputs": [],
   "source": [
    "filename = \"/home/c/cslage/u/ComCam/images/2024080800029_4_isr.fits\"\n",
    "isrResult.exposure.image.writeFits(filename)"
   ]
  },
  {
   "cell_type": "markdown",
   "metadata": {},
   "source": [
    "# Now assemble all 9 CCDs and plot the result"
   ]
  },
  {
   "cell_type": "code",
   "execution_count": null,
   "metadata": {
    "execution": {
     "iopub.execute_input": "2024-08-23T14:31:48.647120Z",
     "iopub.status.busy": "2024-08-23T14:31:48.646437Z",
     "iopub.status.idle": "2024-08-23T14:31:48.650563Z",
     "shell.execute_reply": "2024-08-23T14:31:48.650210Z",
     "shell.execute_reply.started": "2024-08-23T14:31:48.647101Z"
    }
   },
   "outputs": [],
   "source": [
    "def myCallback(im, ccd, imageSource):\n",
    "    \"\"\"Assemble the CCD image and do basic ISR\"\"\"\n",
    "    dayObs = imageSource.kwargs['day_obs']\n",
    "    seqNum = imageSource.kwargs['seq_num']\n",
    "    exp = imageSource.butler.get('raw', detector=ccd.getId(), day_obs=dayObs, seq_num=seqNum)\n",
    "    biasExp = imageSource.butler.get('bias', detector=ccd.getId(), day_obs=dayObs, seq_num=seqNum)\n",
    "    isrResult = isrTask.run(exp, bias=biasExp)\n",
    "    oim = isrResult.exposure.image\n",
    "    return oim"
   ]
  },
  {
   "cell_type": "code",
   "execution_count": null,
   "metadata": {
    "execution": {
     "iopub.execute_input": "2024-08-23T14:31:56.649625Z",
     "iopub.status.busy": "2024-08-23T14:31:56.649326Z",
     "iopub.status.idle": "2024-08-23T14:32:33.152938Z",
     "shell.execute_reply": "2024-08-23T14:32:33.152516Z",
     "shell.execute_reply.started": "2024-08-23T14:31:56.649611Z"
    },
    "jupyter": {
     "outputs_hidden": true
    }
   },
   "outputs": [],
   "source": [
    "%matplotlib inline\n",
    "instrument = \"LSSTComCam\"\n",
    "camera = butler.get('camera', instrument=instrument)\n",
    "fig = plt.figure(figsize=(12,12))\n",
    "import lsst.afw.display as afwDisplay\n",
    "disp = afwDisplay.Display(1, \"matplotlib\")\n",
    "#disp.scale('linear', min = 45000, max=65000)\n",
    "disp.scale('linear', min='zscale')\n",
    "dayObs = 20240808\n",
    "seqNum = 29\n",
    "dataType='raw'\n",
    "mos = camGeomUtils.showCamera(camera,\n",
    "                              camGeomUtils.ButlerImage(butler, dataType, \n",
    "                                                       instrument=instrument, raft=\"R22\",\n",
    "                                                       day_obs=dayObs, seq_num=seqNum,\n",
    "                                                       verbose=False, callback=myCallback,\n",
    "                                                       background=np.nan),\n",
    "                              binSize=1, display=disp, overlay=False,\n",
    "                              title=\"%d %d\" % (dayObs, seqNum))\n",
    "\n",
    "plt.savefig(f\"/home/c/cslage/u/ComCam/images/ComCam_Stuttered_{dayObs}_{seqNum}.png\")"
   ]
  },
  {
   "cell_type": "markdown",
   "metadata": {},
   "source": [
    "# Plot the cross-detector uniformity"
   ]
  },
  {
   "cell_type": "code",
   "execution_count": null,
   "metadata": {
    "execution": {
     "iopub.execute_input": "2024-08-23T14:33:08.025822Z",
     "iopub.status.busy": "2024-08-23T14:33:08.025373Z",
     "iopub.status.idle": "2024-08-23T14:33:08.216198Z",
     "shell.execute_reply": "2024-08-23T14:33:08.215860Z",
     "shell.execute_reply.started": "2024-08-23T14:33:08.025802Z"
    }
   },
   "outputs": [],
   "source": [
    "%matplotlib inline\n",
    "plt.title(f\"ComCam {dayObs}_{seqNum}\")\n",
    "plt.plot(mos.array[6000, :], label=\"X slice\")\n",
    "plt.plot(mos.array[:, 6000], label=\"Y slice\")\n",
    "plt.ylim(0, 60000)\n",
    "#plt.ylim(-50, 50)\n",
    "plt.ylabel(\"Flux (electrons)\")\n",
    "plt.xlabel(\"Pixels\")\n",
    "plt.legend()\n",
    "plt.savefig(f\"/home/c/cslage/u/ComCam/images/ComCam_Slices_{dayObs}_{seqNum}.png\")"
   ]
  },
  {
   "cell_type": "markdown",
   "metadata": {
    "execution": {
     "iopub.execute_input": "2024-07-10T18:10:52.234053Z",
     "iopub.status.busy": "2024-07-10T18:10:52.233642Z",
     "iopub.status.idle": "2024-07-10T18:10:52.238254Z",
     "shell.execute_reply": "2024-07-10T18:10:52.237362Z",
     "shell.execute_reply.started": "2024-07-10T18:10:52.234022Z"
    }
   },
   "source": [
    "# Plot a small region"
   ]
  },
  {
   "cell_type": "code",
   "execution_count": null,
   "metadata": {
    "execution": {
     "iopub.execute_input": "2024-08-23T14:33:45.997261Z",
     "iopub.status.busy": "2024-08-23T14:33:45.996892Z",
     "iopub.status.idle": "2024-08-23T14:33:46.166936Z",
     "shell.execute_reply": "2024-08-23T14:33:46.166551Z",
     "shell.execute_reply.started": "2024-08-23T14:33:45.997244Z"
    }
   },
   "outputs": [],
   "source": [
    "x = plot(mos.array[6000:6100, 6000:6100])"
   ]
  },
  {
   "cell_type": "markdown",
   "metadata": {
    "execution": {
     "iopub.execute_input": "2024-07-13T13:01:31.616243Z",
     "iopub.status.busy": "2024-07-13T13:01:31.615843Z",
     "iopub.status.idle": "2024-07-13T13:01:31.619977Z",
     "shell.execute_reply": "2024-07-13T13:01:31.619248Z",
     "shell.execute_reply.started": "2024-07-13T13:01:31.616214Z"
    }
   },
   "source": [
    "# The cell below will save the combined image as a FITS file"
   ]
  },
  {
   "cell_type": "code",
   "execution_count": null,
   "metadata": {},
   "outputs": [],
   "source": [
    "filename = \"/home/c/cslage/u/ComCam/images/FITS_2024080800029.fits\"\n",
    "mos.writeFits(filename)"
   ]
  },
  {
   "cell_type": "code",
   "execution_count": null,
   "metadata": {},
   "outputs": [],
   "source": [
    "type(raw.image)"
   ]
  },
  {
   "cell_type": "markdown",
   "metadata": {},
   "source": [
    "# Variability per amp"
   ]
  },
  {
   "cell_type": "code",
   "execution_count": null,
   "metadata": {},
   "outputs": [],
   "source": [
    "%matplotlib inline\n",
    "clip = 10.0\n",
    "expId = 2024071200007\n",
    "\n",
    "for det in range(9):\n",
    "    exp = butler.get('raw', detector=det, exposure=expId)\n",
    "    biasExp = butler.get('bias', detector=det, exposure=expId) # This is a bias image associated with the data\n",
    "    isrResult = isrTask.run(exp, bias=biasExp) # This runs the ISR\n",
    "    for amp in exp.getDetector().getAmplifiers():\n",
    "        data = isrResult.exposure[amp.getBBox()].image.array.flatten()\n",
    "        data = (data - np.median(data)) / np.median(data) * 100.0\n",
    "        sortedData = np.sort(data)\n",
    "        sortedTrimmedData = np.clip(sortedData, np.percentile(sortedData, clip), np.percentile(sortedData, 100 - clip))\n",
    "        plt.plot(sortedTrimmedData)\n",
    "plt.ylim(-5.0, 5.0)\n",
    "plt.title(f\"ComCam {expId}, per amp variability - 10->90 percentiles\")\n",
    "plt.xlabel(\"Pixel count\")\n",
    "plt.ylabel(\"Percent variation from Median\")\n",
    "plt.savefig(f\"/home/c/cslage/u/ComCam/images/ComCam_Amp_Nonuniformity_{expId}.png\")"
   ]
  }
 ],
 "metadata": {
  "kernelspec": {
   "display_name": "LSST",
   "language": "python",
   "name": "lsst"
  },
  "language_info": {
   "codemirror_mode": {
    "name": "ipython",
    "version": 3
   },
   "file_extension": ".py",
   "mimetype": "text/x-python",
   "name": "python",
   "nbconvert_exporter": "python",
   "pygments_lexer": "ipython3",
   "version": "3.11.9"
  }
 },
 "nbformat": 4,
 "nbformat_minor": 4
}
