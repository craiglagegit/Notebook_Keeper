{
 "cells": [
  {
   "cell_type": "markdown",
   "metadata": {},
   "source": [
    "## Queries - ComCam\n",
    "\n",
    "In this notebook, we show how to query the ComCam repository\\\n",
    "and view the resulting images.\\\n",
    "This notebook uses the most recent calibrations\n",
    "Craig Lage - 30-Aug-24"
   ]
  },
  {
   "cell_type": "code",
   "execution_count": null,
   "metadata": {
    "execution": {
     "iopub.execute_input": "2025-03-18T19:06:50.948902Z",
     "iopub.status.busy": "2025-03-18T19:06:50.948671Z",
     "iopub.status.idle": "2025-03-18T19:07:01.635490Z",
     "shell.execute_reply": "2025-03-18T19:07:01.635079Z",
     "shell.execute_reply.started": "2025-03-18T19:06:50.948885Z"
    },
    "tags": []
   },
   "outputs": [],
   "source": [
    "import numpy as np\n",
    "import matplotlib.pyplot as plt\n",
    "from mpl_toolkits.axes_grid1.axes_divider import make_axes_locatable\n",
    "import astropy.io.fits as pf\n",
    "from lsst.daf.butler import Butler\n",
    "from lsst.ip.isr import IsrTask, IsrTaskConfig\n",
    "from lsst.summit.utils.plotting import plot\n",
    "import lsst.afw.cameraGeom.utils as camGeomUtils"
   ]
  },
  {
   "cell_type": "code",
   "execution_count": null,
   "metadata": {
    "execution": {
     "iopub.execute_input": "2024-11-19T19:03:32.952048Z",
     "iopub.status.busy": "2024-11-19T19:03:32.951726Z",
     "iopub.status.idle": "2024-11-19T19:03:33.590276Z",
     "shell.execute_reply": "2024-11-19T19:03:33.589855Z",
     "shell.execute_reply.started": "2024-11-19T19:03:32.952033Z"
    },
    "tags": []
   },
   "outputs": [],
   "source": [
    "butler = Butler('/repo/embargo_old', collections=[\"LSSTComCam/raw/all\", \"LSSTComCam/calib\", \"LSSTComCam/nightlyValidation\"])\n",
    "instrument = \"LSSTComCam\""
   ]
  },
  {
   "cell_type": "code",
   "execution_count": null,
   "metadata": {
    "execution": {
     "iopub.execute_input": "2025-03-18T19:11:25.251474Z",
     "iopub.status.busy": "2025-03-18T19:11:25.250916Z",
     "iopub.status.idle": "2025-03-18T19:11:25.700269Z",
     "shell.execute_reply": "2025-03-18T19:11:25.699723Z",
     "shell.execute_reply.started": "2025-03-18T19:11:25.251450Z"
    }
   },
   "outputs": [],
   "source": [
    "butler = Butler('/sdf/group/rubin/repo/main', collections=[\"LSSTComCam/raw/all\",\"LSSTComCam/calib\"])\n",
    "instrument = 'LSSTComCam'\n",
    "expId = 2024112800374\n",
    "raw = butler.get('raw', detector=3, exposure=expId, instrument='LSSTComCam')\n",
    "\n",
    "\n",
    "#raw = butler.get('raw', detector=3, visit=expId, instrument='LSSTComCam')"
   ]
  },
  {
   "cell_type": "markdown",
   "metadata": {},
   "source": [
    "## First, get a list of exposures\n",
    "### These should match what you see in RubinTV."
   ]
  },
  {
   "cell_type": "code",
   "execution_count": null,
   "metadata": {
    "execution": {
     "iopub.execute_input": "2024-11-21T15:11:56.920340Z",
     "iopub.status.busy": "2024-11-21T15:11:56.920024Z",
     "iopub.status.idle": "2024-11-21T15:11:57.117390Z",
     "shell.execute_reply": "2024-11-21T15:11:57.116911Z",
     "shell.execute_reply.started": "2024-11-21T15:11:56.920323Z"
    },
    "jupyter": {
     "outputs_hidden": true
    },
    "tags": []
   },
   "outputs": [],
   "source": [
    "butler = Butler('/repo/embargo_new', collections=[\"LSSTComCam/raw/all\", \"LSSTComCam/calib\", \"LSSTComCam/nightlyValidation\"])\n",
    "dayObs = 20241119\n",
    "instrument = \"LSSTComCam\"\n",
    "\n",
    "exposureList = []\n",
    "for record in butler.registry.queryDimensionRecords(\"exposure\", \n",
    "                    where=f\"exposure.day_obs={dayObs} and instrument='LSSTComCam'\"):\n",
    "    exposureList.append([record.id, record])\n",
    "exposureList.sort(key=lambda x: x[0])\n",
    "for [id,record] in exposureList:\n",
    "    print(record.id, record.observation_type, record.exposure_time, record.physical_filter)\n"
   ]
  },
  {
   "cell_type": "code",
   "execution_count": null,
   "metadata": {
    "execution": {
     "iopub.execute_input": "2024-11-21T15:12:16.380023Z",
     "iopub.status.busy": "2024-11-21T15:12:16.379637Z",
     "iopub.status.idle": "2024-11-21T15:12:16.382802Z",
     "shell.execute_reply": "2024-11-21T15:12:16.382445Z",
     "shell.execute_reply.started": "2024-11-21T15:12:16.380008Z"
    }
   },
   "outputs": [],
   "source": [
    "record.seq_num"
   ]
  },
  {
   "cell_type": "markdown",
   "metadata": {
    "execution": {
     "iopub.execute_input": "2024-07-10T18:00:56.931372Z",
     "iopub.status.busy": "2024-07-10T18:00:56.930578Z",
     "iopub.status.idle": "2024-07-10T18:00:56.935059Z",
     "shell.execute_reply": "2024-07-10T18:00:56.934337Z",
     "shell.execute_reply.started": "2024-07-10T18:00:56.931336Z"
    }
   },
   "source": [
    "# Get the data from the headers"
   ]
  },
  {
   "cell_type": "code",
   "execution_count": null,
   "metadata": {
    "execution": {
     "iopub.execute_input": "2024-11-20T17:21:17.637137Z",
     "iopub.status.busy": "2024-11-20T17:21:17.636829Z",
     "iopub.status.idle": "2024-11-20T17:21:29.001613Z",
     "shell.execute_reply": "2024-11-20T17:21:29.001204Z",
     "shell.execute_reply.started": "2024-11-20T17:21:17.637120Z"
    }
   },
   "outputs": [],
   "source": [
    "butler = Butler('/repo/embargo_old', collections=[\"LSSTComCam/raw/all\", \"LSSTComCam/calib\", \"LSSTComCam/nightlyValidation\"])\n",
    "expId = 2024072300063\n",
    "mData = butler.get('raw.metadata', detector=1, exposure=expId, instrument=instrument)\n",
    "for key in mData.keys():\n",
    "    print(key, mData[key])"
   ]
  },
  {
   "cell_type": "markdown",
   "metadata": {},
   "source": [
    "# Now get the raw data"
   ]
  },
  {
   "cell_type": "markdown",
   "metadata": {},
   "source": [
    "## Next, look at the raw data from one of the exposures.\n",
    "### Because of the large pedestal, we don't see much.  We need to do ISR"
   ]
  },
  {
   "cell_type": "code",
   "execution_count": null,
   "metadata": {
    "tags": []
   },
   "outputs": [],
   "source": [
    "expId = 2024080800029\n",
    "raw = butler.get('raw', detector=4, exposure=expId, instrument=instrument)\n"
   ]
  },
  {
   "cell_type": "markdown",
   "metadata": {},
   "source": [
    "## Some people have expressed the desire to download the FITS files.  This cell will do that.  "
   ]
  },
  {
   "cell_type": "code",
   "execution_count": null,
   "metadata": {},
   "outputs": [],
   "source": [
    "filename = \"/home/c/cslage/u/ComCam/images/2024080800029_4_raw.fits\"\n",
    "raw.image.writeFits(filename)"
   ]
  },
  {
   "cell_type": "code",
   "execution_count": null,
   "metadata": {},
   "outputs": [],
   "source": [
    "%matplotlib inline        \n",
    "x = plot(raw, stretch='ccs')"
   ]
  },
  {
   "cell_type": "markdown",
   "metadata": {},
   "source": [
    "## Define a simple ISR\n",
    "### Just overscan subtraction and bias subtraction."
   ]
  },
  {
   "cell_type": "code",
   "execution_count": null,
   "metadata": {
    "tags": []
   },
   "outputs": [],
   "source": [
    "isrConfig = IsrTaskConfig()\n",
    "isrConfig.doLinearize=False\n",
    "isrConfig.doOverscan=True\n",
    "isrConfig.overscan.fitType=\"MEDIAN_PER_ROW\"\n",
    "isrConfig.overscan.doParallelOverscan=False\n",
    "isrConfig.doAssembleCcd=True\n",
    "isrConfig.doBias=False\n",
    "isrConfig.doVariance=False\n",
    "isrConfig.doCrosstalk=False\n",
    "isrConfig.doBrighterFatter=False\n",
    "isrConfig.doDark=False\n",
    "isrConfig.doStrayLight=False\n",
    "isrConfig.doFlat=False\n",
    "isrConfig.doFringe=False\n",
    "isrConfig.doApplyGains=False\n",
    "isrConfig.usePtcGains=False\n",
    "isrConfig.doDefect=False\n",
    "isrConfig.doNanMasking=False\n",
    "isrConfig.doInterpolate=False\n",
    "isrConfig.doSaturation=False\n",
    "isrConfig.doSaturationInterpolation=False\n",
    "isrTask = IsrTask(config=isrConfig)"
   ]
  },
  {
   "cell_type": "code",
   "execution_count": null,
   "metadata": {},
   "outputs": [],
   "source": [
    "expIds = [2024103000016, 2024103000052]\n",
    "med_dict = {}\n",
    "for expId in expIds:\n",
    "    meds = []\n",
    "    for detector in range(9):\n",
    "        exp = butler.get('raw', detector=detector, exposure=expId, instrument=instrument)\n",
    "        isrResult = isrTask.run(exp)\n",
    "        med = np.nanmedian(isrResult.exposure.image.array)\n",
    "        meds.append(med)\n",
    "    med_dict[expId] = meds\n",
    "    \n",
    "    "
   ]
  },
  {
   "cell_type": "code",
   "execution_count": null,
   "metadata": {},
   "outputs": [],
   "source": [
    "print(med_dict)"
   ]
  },
  {
   "cell_type": "code",
   "execution_count": null,
   "metadata": {},
   "outputs": [],
   "source": [
    "x=plot(isrResult.exposure, stretch='ccs')"
   ]
  },
  {
   "cell_type": "code",
   "execution_count": null,
   "metadata": {
    "execution": {
     "iopub.execute_input": "2024-11-20T19:18:15.701691Z",
     "iopub.status.busy": "2024-11-20T19:18:15.701333Z",
     "iopub.status.idle": "2024-11-20T19:18:18.252492Z",
     "shell.execute_reply": "2024-11-20T19:18:18.252086Z",
     "shell.execute_reply.started": "2024-11-20T19:18:15.701676Z"
    },
    "tags": []
   },
   "outputs": [],
   "source": [
    "expId = 2024111900027\n",
    "exp = butler.get('postISRCCD', detector=3, exposure=expId, instrument=instrument)\n",
    "#biasExp = butler.get('bias', detector=4, exposure=expId, instrument=instrument) # This is a bias image associated with the data\n",
    "#flatExp = butler.get('flat', detector=4, exposure=expId, instrument=instrument) # This is a bias image associated with the data\n",
    "#isrResult = isrTask.run(exp, bias=biasExp, flat=flatExp) # This runs the ISR\n",
    "#isrResult = isrTask.run(exp) # This runs the ISR\n",
    "x=plot(exp, stretch='ccs')\n",
    "#plt.savefig(f\"/home/c/cslage/u/ComCam/images/ComCam_Saturated_Raw_Full_2_{expId}.png\")"
   ]
  },
  {
   "cell_type": "code",
   "execution_count": null,
   "metadata": {
    "execution": {
     "iopub.execute_input": "2024-11-20T19:41:59.612341Z",
     "iopub.status.busy": "2024-11-20T19:41:59.612064Z",
     "iopub.status.idle": "2024-11-20T19:42:00.478258Z",
     "shell.execute_reply": "2024-11-20T19:42:00.477849Z",
     "shell.execute_reply.started": "2024-11-20T19:41:59.612326Z"
    }
   },
   "outputs": [],
   "source": [
    "x = plot(exp.image.array[2500:3000, 3400:3500], stretch='ccs')\n",
    "x.axes[0].set_title(f\"ComCam {expId}, Det 8\")\n",
    "#x.axes[0].set_xlim(2500, 3000)\n",
    "#x.axes[0].set_ylim(2000, 2090)\n",
    "#plt.savefig(f\"/home/c/cslage/u/ComCam/images/ComCam_Saturated_Raw_3_{expId}.png\")"
   ]
  },
  {
   "cell_type": "code",
   "execution_count": null,
   "metadata": {},
   "outputs": [],
   "source": [
    "Y1 = 3200\n",
    "Y2 = 3400\n",
    "plt.title(f\"ComCam {expId}, Median of Y={Y1}-{Y2}\")\n",
    "plt.plot(np.nanmedian(exp.image.array[Y1:Y2, :], axis=0), marker='x')\n",
    "plt.xlim(2750, 2850)\n",
    "plt.ylim(30000, 31000)\n",
    "plt.ylabel(\"Flux (electrons)\")\n",
    "plt.xlabel(\"Pixels\")\n",
    "plt.savefig(f\"/home/c/cslage/u/ComCam/images/ComCam_Slice_2_{expId}.png\")"
   ]
  },
  {
   "cell_type": "code",
   "execution_count": null,
   "metadata": {},
   "outputs": [],
   "source": [
    "collections=['LSSTComCam/nightlyValidation']\n",
    "registry = butler.registry\n",
    "for dtype in registry.queryDatasetTypes()[:]:\n",
    "    try:\n",
    "        datasetRefs = list(registry.queryDatasets(datasetType=dtype,collections=collections))\n",
    "        if len(datasetRefs) > 0:\n",
    "            print(len(datasetRefs), dtype )\n",
    "    except:\n",
    "        print(\"Error\", dtype )"
   ]
  },
  {
   "cell_type": "code",
   "execution_count": null,
   "metadata": {},
   "outputs": [],
   "source": [
    "expId = 2024102800104\n",
    "calexp = butler.get('calexp', detector=4, visit=expId)\n"
   ]
  },
  {
   "cell_type": "code",
   "execution_count": null,
   "metadata": {},
   "outputs": [],
   "source": [
    "x=plot(calexp, stretch='ccs')\n",
    "plt.savefig(f\"/home/c/cslage/u/ComCam/images/ComCam_Calexp_{expId}.png\")"
   ]
  },
  {
   "cell_type": "code",
   "execution_count": null,
   "metadata": {},
   "outputs": [],
   "source": [
    "butler = Butler('/repo/embargo_new', collections=[\"LSSTComCam/raw/all\", \\\n",
    "                \"LSSTComCam/calib\", \"LSSTComCam/nightlyValidation\", 'u/yusra/testPipelines'])\n",
    "expId = 2024102700069\n",
    "calExp = butler.get('calexp', detector=4, visit=expId, instrument=instrument)\n",
    "rawExp = butler.get('raw', detector=4, exposure=expId, instrument=instrument)\n",
    "cWcs = calExp.getWcs()\n",
    "rWcs = rawExp.getWcs()\n",
    "rawSkyCenter = rWcs.getSkyOrigin()\n",
    "calExpSkyCenter = cWcs.pixelToSky(rWcs.getPixelOrigin())\n",
    "deltaRa = rawSkyCenter.getRa().asArcseconds() - calExpSkyCenter.getRa().asArcseconds()\n",
    "deltaDec = rawSkyCenter.getDec().asArcseconds() - calExpSkyCenter.getDec().asArcseconds()\n",
    "print(f\"DeltaRa = {deltaRa:.2f}, DeltaDec = {deltaDec:.2f}\")"
   ]
  },
  {
   "cell_type": "code",
   "execution_count": null,
   "metadata": {},
   "outputs": [],
   "source": [
    "instrument=\"LSSTComCam\"\n",
    "butler = Butler('/repo/embargo_new', collections=[\"LSSTComCam/raw/all\", \\\n",
    "                \"LSSTComCam/calib\", \"LSSTComCam/nightlyValidation\"])\n",
    "expId = 2024110600252\n",
    "calExp = butler.get('calexp', detector=4, visit=expId, instrument=instrument)\n",
    "rawExp = butler.get('raw', detector=4, exposure=expId, instrument=instrument)\n",
    "cWcs = calExp.getWcs()\n",
    "rWcs = rawExp.getWcs()\n",
    "rawSkyCenter = rWcs.getSkyOrigin()\n",
    "calExpSkyCenter = cWcs.pixelToSky(rWcs.getPixelOrigin())\n",
    "deltaRa = rawSkyCenter.getRa().asArcseconds() - calExpSkyCenter.getRa().asArcseconds()\n",
    "deltaDec = rawSkyCenter.getDec().asArcseconds() - calExpSkyCenter.getDec().asArcseconds()\n",
    "print(f\"DeltaRa = {deltaRa:.2f}, DeltaDec = {deltaDec:.2f}\")"
   ]
  },
  {
   "cell_type": "code",
   "execution_count": null,
   "metadata": {},
   "outputs": [],
   "source": [
    "expId = 2024110600252\n",
    "exp = butler.get('postISRCCD', detector=4, exposure=expId, instrument=instrument)\n"
   ]
  },
  {
   "cell_type": "code",
   "execution_count": null,
   "metadata": {},
   "outputs": [],
   "source": [
    "expId = 2024110600252\n",
    "exp = butler.get('postISRCCD', detector=4, exposure=expId, instrument=instrument)\n",
    "%matplotlib inline\n",
    "x = plot(exp, stretch='ccs')\n",
    "x.axes[0].set_title(f\"ComCam {expId} Det 4\", fontsize=18)\n",
    "plt.savefig(f\"/home/c/cslage/u/ComCam/images/ComCam_postISR_{expId}.png\")"
   ]
  },
  {
   "cell_type": "code",
   "execution_count": null,
   "metadata": {},
   "outputs": [],
   "source": [
    "fig, ax = plt.subplots(1,1,figsize=(5,5))\n",
    "im = ax.imshow(exp.image.array[2595:2615, 2008:2028], vmin=0, vmax=25000)\n",
    "div = make_axes_locatable(ax)\n",
    "cax = div.append_axes(\"right\", size=\"5%\", pad=0.05)\n",
    "fig.colorbar(im, cax=cax)\n",
    "\n",
    "ax.set_title(f\"ComCam {expId}, Det 4\")\n",
    "plt.savefig(f\"/home/c/cslage/u/ComCam/images/ComCam_Star_Core_{expId}.png\")"
   ]
  },
  {
   "cell_type": "code",
   "execution_count": null,
   "metadata": {},
   "outputs": [],
   "source": [
    "Y=2602\n",
    "plt.title(f\"ComCam {expId}, Y={Y}\")\n",
    "plt.plot(exp.image.array[Y, 1990:2040])\n",
    "plt.axhline(14000, ls='--', color='black')\n",
    "plt.axvline(24.8, ls='--', color='black')\n",
    "plt.axvline(29.0, ls='--', color='black')\n",
    "plt.text(32, 20000, \"FWHM = 0.84 arcsec\")\n",
    "plt.ylim(0, 30000)\n",
    "plt.ylabel(\"Flux (electrons)\")\n",
    "plt.xlabel(\"Pixels\")\n",
    "plt.savefig(f\"/home/c/cslage/u/ComCam/images/ComCam_FWHM_Slice_{expId}.png\")"
   ]
  },
  {
   "cell_type": "code",
   "execution_count": null,
   "metadata": {},
   "outputs": [],
   "source": [
    "expId = 2024110600252\n",
    "exp = butler.get('postISRCCD', detector=6, exposure=expId, instrument=instrument)\n",
    "%matplotlib inline\n",
    "x = plot(exp, stretch='ccs')\n",
    "x.axes[0].set_title(f\"ComCam {expId} Det 6\", fontsize=18)\n",
    "plt.savefig(f\"/home/c/cslage/u/ComCam/images/ComCam_postISR_{expId}.png\")"
   ]
  },
  {
   "cell_type": "code",
   "execution_count": null,
   "metadata": {},
   "outputs": [],
   "source": [
    "fig, ax = plt.subplots(1,1,figsize=(5,5))\n",
    "im = ax.imshow(exp.image.array[2500:2520, 1685:1705], vmin=0, vmax=25000)\n",
    "div = make_axes_locatable(ax)\n",
    "cax = div.append_axes(\"right\", size=\"5%\", pad=0.05)\n",
    "fig.colorbar(im, cax=cax)\n",
    "\n",
    "ax.set_title(f\"ComCam {expId}, Det 6\")\n",
    "plt.savefig(f\"/home/c/cslage/u/ComCam/images/ComCam_Star_Core_{expId}.png\")"
   ]
  },
  {
   "cell_type": "code",
   "execution_count": null,
   "metadata": {},
   "outputs": [],
   "source": [
    "Y=2508\n",
    "plt.title(f\"ComCam {expId}, Y={Y}\")\n",
    "plt.plot(exp.image.array[Y, 1675:1725])\n",
    "plt.axhline(12500, ls='--', color='black')\n",
    "plt.axvline(19.0, ls='--', color='black')\n",
    "plt.axvline(23.2, ls='--', color='black')\n",
    "plt.text(32, 20000, \"FWHM = 0.84 arcsec\")\n",
    "plt.ylim(0, 25000)\n",
    "plt.ylabel(\"Flux (electrons)\")\n",
    "plt.xlabel(\"Pixels\")\n",
    "plt.savefig(f\"/home/c/cslage/u/ComCam/images/ComCam_FWHM_Slice_{expId}.png\")"
   ]
  },
  {
   "cell_type": "code",
   "execution_count": null,
   "metadata": {},
   "outputs": [],
   "source": [
    "expId = 2024110400129\n",
    "exp = butler.get('raw', detector=1, exposure=expId, instrument=instrument)\n",
    "#biasExp = butler.get('bias', detector=4, exposure=expId, instrument=instrument) # This is a bias image associated with the data\n",
    "#flatExp = butler.get('flat', detector=4, exposure=expId, instrument=instrument) # This is a bias image associated with the data\n",
    "#isrResult = isrTask.run(exp, bias=biasExp, flat=flatExp) # This runs the ISR\n",
    "isrResult = isrTask.run(exp) # This runs the ISR\n",
    "x=plot(isrResult.exposure, stretch='ccs')\n"
   ]
  },
  {
   "cell_type": "code",
   "execution_count": null,
   "metadata": {},
   "outputs": [],
   "source": [
    "x = plot(isrResult.exposure.image.array, stretch='ccs')\n",
    "x.axes[0].set_title(f\"ComCam {expId}, Det 1\")\n",
    "x.axes[0].set_xlim(1500, 1700)\n",
    "x.axes[0].set_ylim(2500, 3200)\n",
    "plt.savefig(f\"/home/c/cslage/u/ComCam/images/ComCam_Sat_{expId}.png\")"
   ]
  },
  {
   "cell_type": "code",
   "execution_count": null,
   "metadata": {},
   "outputs": [],
   "source": [
    "Y = 2520\n",
    "plt.title(f\"ComCam {expId}, Y = {Y}\")\n",
    "plt.plot(exp.image.array[Y, :], marker='x')\n",
    "plt.xlim(1900, 2000)\n",
    "plt.axhline(3000, ls='--', color='k')\n",
    "plt.axvline(1935, ls='--', color='k')\n",
    "plt.axvline(1943.5, ls='--', color='k')\n",
    "plt.text(1960, 5000, \"FWHM = 1.7 arcseconds\")\n",
    "plt.ylabel(\"Flux (electrons)\")\n",
    "plt.xlabel(\"Pixels\")\n",
    "plt.savefig(f\"/home/c/cslage/u/ComCam/images/ComCam_Slice_{expId}.png\")"
   ]
  },
  {
   "cell_type": "code",
   "execution_count": null,
   "metadata": {},
   "outputs": [],
   "source": [
    "import scipy.ndimage as ndimage\n",
    "img = isrResult.exposure.image.array\n",
    "#img = ndimage.gaussian_filter(img, sigma=(5,5), order=0)\n",
    "x = plot(img, stretch='ccs')\n",
    "x.axes[0].set_title(f\"ComCam {expId}, Det 1\")\n",
    "x.axes[0].set_xlim(1000, 1300)\n",
    "x.axes[0].set_ylim(2500, 3200)\n",
    "plt.savefig(f\"/home/c/cslage/u/ComCam/images/ComCam_Sat_{expId}.png\")"
   ]
  },
  {
   "cell_type": "code",
   "execution_count": null,
   "metadata": {},
   "outputs": [],
   "source": [
    "Y1 = 2400\n",
    "Y2 = 2900\n",
    "Y3 = 3500\n",
    "img = isrResult.exposure.image.array\n",
    "plt.subplots_adjust(hspace=0.5)\n",
    "plt.suptitle(f\"ComCam Saturated star{expId}\")\n",
    "plt.subplot(2,1,1)\n",
    "plt.title(f\"Y = {Y1}\")\n",
    "plt.plot(img[Y1, :], marker='x')\n",
    "plt.xlim(1550, 1750)\n",
    "plt.ylim(0, 5000)\n",
    "plt.axvline(1610, ls='--', color='black')\n",
    "plt.ylabel(\"Flux (electrons)\")\n",
    "plt.xlabel(\"Pixels\")\n",
    "plt.subplot(2,1,2)\n",
    "plt.title(f\"Y = median of {Y2} to {Y3}\")\n",
    "plt.plot(np.nanmedian(img[Y2:Y3, :], axis=0), marker='x')\n",
    "plt.axvline(1610, ls='--', color='black')\n",
    "plt.xlim(1550, 1750)\n",
    "plt.ylim(600, 700)\n",
    "#plt.subplot(3,1,3)\n",
    "#plt.plot(np.nanmedian(img[Y2:Y3, :], axis=0), marker='x')\n",
    "#plt.xlim(1550-509, 1750-509)\n",
    "#plt.ylim(600, 700)\n",
    "\n",
    "plt.savefig(f\"/home/c/cslage/u/ComCam/images/ComCam_Slice_{expId}.png\")"
   ]
  },
  {
   "cell_type": "code",
   "execution_count": null,
   "metadata": {},
   "outputs": [],
   "source": [
    "expId = 2024110400129\n",
    "exp = butler.get('raw', detector=1, exposure=expId, instrument=instrument)\n",
    "%matplotlib inline\n",
    "x = plot(exp, stretch='ccs')\n",
    "x.axes[0].set_title(f\"ComCam {expId} Det 4\", fontsize=18)\n",
    "plt.savefig(f\"/home/c/cslage/u/ComCam/images/ComCam_Calexp_{expId}.png\")"
   ]
  },
  {
   "cell_type": "code",
   "execution_count": null,
   "metadata": {},
   "outputs": [],
   "source": [
    "\n",
    "x = plot(exp.image.array, stretch='ccs')\n",
    "x.axes[0].set_title(f\"ComCam {expId}, Det 1\")\n",
    "x.axes[0].set_xlim(1800, 2000)\n",
    "x.axes[0].set_ylim(2250, 3500)\n",
    "plt.savefig(f\"/home/c/cslage/u/ComCam/images/ComCam_Sat_{expId}.png\")"
   ]
  },
  {
   "cell_type": "code",
   "execution_count": null,
   "metadata": {},
   "outputs": [],
   "source": [
    "Y = 3000\n",
    "plt.title(f\"ComCam {expId}, Y = {Y}\")\n",
    "plt.plot(exp.image.array[Y, :], marker='x')\n",
    "plt.xlim(1800, 2000)\n",
    "plt.ylim(23500, 24000)\n",
    "plt.ylabel(\"Flux (electrons)\")\n",
    "plt.xlabel(\"Pixels\")\n",
    "plt.savefig(f\"/home/c/cslage/u/ComCam/images/ComCam_Slice_{expId}.png\")"
   ]
  },
  {
   "cell_type": "code",
   "execution_count": null,
   "metadata": {},
   "outputs": [],
   "source": []
  },
  {
   "cell_type": "code",
   "execution_count": null,
   "metadata": {},
   "outputs": [],
   "source": [
    "expIds = [2024102400077, 2024102400118, 2024102400202, \\\n",
    "          2024102500048, 2024102500091, 2024102500124]\n",
    "medians = np.zeros([6,9])\n",
    "for i, expId in enumerate(expIds):\n",
    "    for det in range(9):\n",
    "        exp = butler.get('postISRCCD', detector=det, exposure=expId, instrument=instrument)\n",
    "        med = np.nanmedian(exp.image.array)\n",
    "        medians[i, det] = med\n"
   ]
  },
  {
   "cell_type": "code",
   "execution_count": null,
   "metadata": {},
   "outputs": [],
   "source": [
    "for det in range(9):\n",
    "    ratios = []\n",
    "    for i in range(6):\n",
    "        ratios.append((medians[i,det] / medians[i,4]))\n",
    "    print(f\"Detector {det}, Mean ratio = {np.mean(ratios):.3f}, Std = {np.std(ratios):.3f}\")"
   ]
  },
  {
   "cell_type": "code",
   "execution_count": null,
   "metadata": {},
   "outputs": [],
   "source": [
    "x = plot(exp.image.array[1925:1975, 2100:2150], stretch='linear')\n",
    "plt.savefig(f\"/home/c/cslage/u/ComCam/images/ComCam_Star_Core_{expId}.png\")"
   ]
  },
  {
   "cell_type": "code",
   "execution_count": null,
   "metadata": {},
   "outputs": [],
   "source": [
    "Y=1943\n",
    "plt.title(f\"ComCam {expId}, Y={Y}\")\n",
    "plt.plot(exp.image.array[Y, 2100:2150])\n",
    "plt.axhline(27500, ls='--', color='black')\n",
    "plt.axvline(17.5, ls='--', color='black')\n",
    "plt.axvline(25, ls='--', color='black')\n",
    "plt.text(30, 40000, \"FWHM = 1.5arcsec\")\n",
    "#plt.ylim(500, 1500)\n",
    "plt.ylabel(\"Flux (electrons)\")\n",
    "plt.xlabel(\"Pixels\")\n",
    "plt.savefig(f\"/home/c/cslage/u/ComCam/images/ComCam_FWHM_Slice_{expId}.png\")"
   ]
  },
  {
   "cell_type": "code",
   "execution_count": null,
   "metadata": {},
   "outputs": [],
   "source": []
  },
  {
   "cell_type": "markdown",
   "metadata": {},
   "source": [
    "## Run the ISR and look at the result"
   ]
  },
  {
   "cell_type": "code",
   "execution_count": null,
   "metadata": {},
   "outputs": [],
   "source": [
    "%matplotlib inline\n",
    "x = plot(isrResult.exposure, stretch='ccs')\n",
    "plt.savefig(f\"/home/c/cslage/u/ComCam/images/ComCam_{expId}.png\")"
   ]
  },
  {
   "cell_type": "markdown",
   "metadata": {
    "execution": {
     "iopub.execute_input": "2024-07-10T18:10:52.234053Z",
     "iopub.status.busy": "2024-07-10T18:10:52.233642Z",
     "iopub.status.idle": "2024-07-10T18:10:52.238254Z",
     "shell.execute_reply": "2024-07-10T18:10:52.237362Z",
     "shell.execute_reply.started": "2024-07-10T18:10:52.234022Z"
    }
   },
   "source": [
    "# Plot a small region"
   ]
  },
  {
   "cell_type": "code",
   "execution_count": null,
   "metadata": {},
   "outputs": [],
   "source": [
    "x = plot(isrResult.exposure.image.array[2225:2275, 1350:1400])"
   ]
  },
  {
   "cell_type": "markdown",
   "metadata": {
    "execution": {
     "iopub.execute_input": "2024-08-23T11:15:50.535189Z",
     "iopub.status.busy": "2024-08-23T11:15:50.534798Z",
     "iopub.status.idle": "2024-08-23T11:15:50.537838Z",
     "shell.execute_reply": "2024-08-23T11:15:50.537222Z",
     "shell.execute_reply.started": "2024-08-23T11:15:50.535166Z"
    }
   },
   "source": [
    "# Get the value of a particular pixel"
   ]
  },
  {
   "cell_type": "code",
   "execution_count": null,
   "metadata": {},
   "outputs": [],
   "source": [
    "isrResult.exposure.image.array[2100, 2100]"
   ]
  },
  {
   "cell_type": "markdown",
   "metadata": {},
   "source": [
    "# Plot the cross-chip uniformity"
   ]
  },
  {
   "cell_type": "code",
   "execution_count": null,
   "metadata": {},
   "outputs": [],
   "source": [
    "plt.title(f\"ComCam {expId}, Bias\")\n",
    "plt.plot(isrResult.exposure.image.array[2100, :], label='X cut')\n",
    "plt.plot(isrResult.exposure.image.array[:, 2100], label='Y cut')\n",
    "plt.ylim(0,50000)\n",
    "#plt.ylim(-50, 50)\n",
    "plt.ylabel(\"Flux (electrons)\")\n",
    "plt.xlabel(\"Pixels\")\n",
    "plt.legend()\n",
    "plt.savefig(f\"/home/c/cslage/u/ComCam/images/ComCam_Slices_{expId}.png\")"
   ]
  },
  {
   "cell_type": "markdown",
   "metadata": {},
   "source": [
    "## Some people have expressed the desire to download the FITS files.  This cell will do that.  "
   ]
  },
  {
   "cell_type": "code",
   "execution_count": null,
   "metadata": {},
   "outputs": [],
   "source": [
    "filename = \"/home/c/cslage/u/ComCam/images/2024080800029_4_isr.fits\"\n",
    "isrResult.exposure.image.writeFits(filename)"
   ]
  },
  {
   "cell_type": "markdown",
   "metadata": {},
   "source": [
    "# Now assemble all 9 CCDs and plot the result"
   ]
  },
  {
   "cell_type": "code",
   "execution_count": null,
   "metadata": {},
   "outputs": [],
   "source": [
    "def myCallback(im, ccd, imageSource):\n",
    "    \"\"\"Assemble the CCD image and do basic ISR\"\"\"\n",
    "    dayObs = imageSource.kwargs['day_obs']\n",
    "    seqNum = imageSource.kwargs['seq_num']\n",
    "    exp = imageSource.butler.get('raw', detector=ccd.getId(), day_obs=dayObs, seq_num=seqNum)\n",
    "    biasExp = imageSource.butler.get('bias', detector=ccd.getId(), day_obs=dayObs, seq_num=seqNum)\n",
    "    ptc = butler.get('ptc', detector=ccd.getId(), instrument=instrument,\n",
    "                 collections=\"u/abrought/LSSTComCam/calibs/w_2024_28/ptc_r03.08132024a\")\n",
    "    isrResult = isrTask.run(exp, bias=biasExp, ptc=ptc) # This runs the ISR\n",
    "    oim = isrResult.exposure.image\n",
    "    return oim"
   ]
  },
  {
   "cell_type": "code",
   "execution_count": null,
   "metadata": {},
   "outputs": [],
   "source": [
    "def myCallback(im, ccd, imageSource):\n",
    "    dayObs = imageSource.kwargs['day_obs']\n",
    "    seqNum = imageSource.kwargs['seq_num']\n",
    "    exp = imageSource.butler.get('calexp', detector=ccd.getId(), day_obs=dayObs, seq_num=seqNum)\n",
    "    print(np.nanmedian(exp.image.array))\n",
    "    oim = exp.image\n",
    "    return oim"
   ]
  },
  {
   "cell_type": "code",
   "execution_count": null,
   "metadata": {},
   "outputs": [],
   "source": [
    "%matplotlib inline\n",
    "instrument = \"LSSTComCam\"\n",
    "camera = butler.get('camera', instrument=instrument)\n",
    "fig = plt.figure(figsize=(12,12))\n",
    "import lsst.afw.display as afwDisplay\n",
    "disp = afwDisplay.Display(1, \"matplotlib\")\n",
    "#disp.scale('linear', min = 45000, max=65000)\n",
    "disp.scale('asinh', min=0, max=100)\n",
    "dayObs = 20241028\n",
    "seqNum = 104\n",
    "dataType='calexp'\n",
    "mos = camGeomUtils.showCamera(camera,\n",
    "                              camGeomUtils.ButlerImage(butler, dataType, \n",
    "                                                       instrument=instrument, raft=\"R22\",\n",
    "                                                       day_obs=dayObs, seq_num=seqNum,\n",
    "                                                       verbose=False, callback=myCallback,\n",
    "                                                       background=np.nan),\n",
    "                              binSize=1, display=disp, overlay=False,\n",
    "                              title=\"%d %d\" % (dayObs, seqNum))\n",
    "\n",
    "plt.savefig(f\"/home/c/cslage/u/ComCam/images/ComCam_CalExp_{dayObs}_{seqNum}.png\")"
   ]
  },
  {
   "cell_type": "markdown",
   "metadata": {},
   "source": [
    "# Plot the cross-detector uniformity"
   ]
  },
  {
   "cell_type": "code",
   "execution_count": null,
   "metadata": {},
   "outputs": [],
   "source": [
    "%matplotlib inline\n",
    "plt.title(f\"ComCam {dayObs}_{seqNum}\")\n",
    "plt.plot(mos.array[6000, :], label=\"X slice\")\n",
    "plt.plot(mos.array[:, 6000], label=\"Y slice\")\n",
    "plt.ylim(0, 60000)\n",
    "#plt.ylim(-50, 50)\n",
    "plt.ylabel(\"Flux (electrons)\")\n",
    "plt.xlabel(\"Pixels\")\n",
    "plt.legend()\n",
    "plt.savefig(f\"/home/c/cslage/u/ComCam/images/ComCam_Slices_{dayObs}_{seqNum}.png\")"
   ]
  },
  {
   "cell_type": "markdown",
   "metadata": {
    "execution": {
     "iopub.execute_input": "2024-07-10T18:10:52.234053Z",
     "iopub.status.busy": "2024-07-10T18:10:52.233642Z",
     "iopub.status.idle": "2024-07-10T18:10:52.238254Z",
     "shell.execute_reply": "2024-07-10T18:10:52.237362Z",
     "shell.execute_reply.started": "2024-07-10T18:10:52.234022Z"
    }
   },
   "source": [
    "# Plot a small region"
   ]
  },
  {
   "cell_type": "code",
   "execution_count": null,
   "metadata": {},
   "outputs": [],
   "source": [
    "x = plot(mos.array[6000:6100, 6000:6100])"
   ]
  },
  {
   "cell_type": "markdown",
   "metadata": {
    "execution": {
     "iopub.execute_input": "2024-07-13T13:01:31.616243Z",
     "iopub.status.busy": "2024-07-13T13:01:31.615843Z",
     "iopub.status.idle": "2024-07-13T13:01:31.619977Z",
     "shell.execute_reply": "2024-07-13T13:01:31.619248Z",
     "shell.execute_reply.started": "2024-07-13T13:01:31.616214Z"
    }
   },
   "source": [
    "# The cell below will save the combined image as a FITS file"
   ]
  },
  {
   "cell_type": "code",
   "execution_count": null,
   "metadata": {},
   "outputs": [],
   "source": [
    "filename = f\"/home/c/cslage/u/ComCam/images/FITS_{dayObs}_{seqNum}.fits\"\n",
    "mos.writeFits(filename)"
   ]
  },
  {
   "cell_type": "code",
   "execution_count": null,
   "metadata": {},
   "outputs": [],
   "source": [
    "type(raw.image)"
   ]
  },
  {
   "cell_type": "markdown",
   "metadata": {},
   "source": [
    "# Variability per amp"
   ]
  },
  {
   "cell_type": "code",
   "execution_count": null,
   "metadata": {},
   "outputs": [],
   "source": [
    "%matplotlib inline\n",
    "clip = 10.0\n",
    "expId = 2024071200007\n",
    "\n",
    "for det in range(9):\n",
    "    exp = butler.get('raw', detector=det, exposure=expId)\n",
    "    biasExp = butler.get('bias', detector=det, exposure=expId) # This is a bias image associated with the data\n",
    "    isrResult = isrTask.run(exp, bias=biasExp) # This runs the ISR\n",
    "    for amp in exp.getDetector().getAmplifiers():\n",
    "        data = isrResult.exposure[amp.getBBox()].image.array.flatten()\n",
    "        data = (data - np.median(data)) / np.median(data) * 100.0\n",
    "        sortedData = np.sort(data)\n",
    "        sortedTrimmedData = np.clip(sortedData, np.percentile(sortedData, clip), np.percentile(sortedData, 100 - clip))\n",
    "        plt.plot(sortedTrimmedData)\n",
    "plt.ylim(-5.0, 5.0)\n",
    "plt.title(f\"ComCam {expId}, per amp variability - 10->90 percentiles\")\n",
    "plt.xlabel(\"Pixel count\")\n",
    "plt.ylabel(\"Percent variation from Median\")\n",
    "plt.savefig(f\"/home/c/cslage/u/ComCam/images/ComCam_Amp_Nonuniformity_{expId}.png\")"
   ]
  },
  {
   "cell_type": "code",
   "execution_count": null,
   "metadata": {},
   "outputs": [],
   "source": [
    "disp."
   ]
  },
  {
   "cell_type": "code",
   "execution_count": null,
   "metadata": {},
   "outputs": [],
   "source": [
    "butlerEmbargo = Butler('embargo_new', collections=['LSSTComCam/nightlyValidation'])\n",
    "dataRefs = list(butlerEmbargo.registry.queryDatasets('calexp', where=f\"instrument='LSSTComCam' \\\n",
    "and day_obs = 20241102\").expanded())"
   ]
  },
  {
   "cell_type": "code",
   "execution_count": null,
   "metadata": {},
   "outputs": [],
   "source": [
    "len(dataRefs)"
   ]
  },
  {
   "cell_type": "code",
   "execution_count": null,
   "metadata": {},
   "outputs": [],
   "source": []
  }
 ],
 "metadata": {
  "kernelspec": {
   "display_name": "LSST",
   "language": "python",
   "name": "lsst"
  },
  "language_info": {
   "codemirror_mode": {
    "name": "ipython",
    "version": 3
   },
   "file_extension": ".py",
   "mimetype": "text/x-python",
   "name": "python",
   "nbconvert_exporter": "python",
   "pygments_lexer": "ipython3",
   "version": "3.12.9"
  }
 },
 "nbformat": 4,
 "nbformat_minor": 4
}
