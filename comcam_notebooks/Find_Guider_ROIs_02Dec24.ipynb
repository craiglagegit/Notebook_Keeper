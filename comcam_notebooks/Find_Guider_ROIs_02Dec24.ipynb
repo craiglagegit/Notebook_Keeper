{
 "cells": [
  {
   "cell_type": "markdown",
   "metadata": {},
   "source": [
    "## Find Guider mode ROIs for ComCam\n",
    "Craig Lage - 02Dec-24"
   ]
  },
  {
   "cell_type": "code",
   "execution_count": null,
   "metadata": {
    "execution": {
     "iopub.execute_input": "2024-12-02T20:58:12.776511Z",
     "iopub.status.busy": "2024-12-02T20:58:12.776203Z",
     "iopub.status.idle": "2024-12-02T20:58:19.012134Z",
     "shell.execute_reply": "2024-12-02T20:58:19.011663Z",
     "shell.execute_reply.started": "2024-12-02T20:58:12.776491Z"
    },
    "tags": []
   },
   "outputs": [],
   "source": [
    "import numpy as np\n",
    "import matplotlib.pyplot as plt\n",
    "import astropy.io.fits as pf\n",
    "from lsst.daf.butler import Butler\n",
    "import lsst.summit.utils.butlerUtils as butlerUtils\n",
    "from lsst.summit.utils.plotting import plot\n",
    "from astroquery.gaia import Gaia\n",
    "from astropy.coordinates import SkyCoord\n",
    "import astropy.units as u"
   ]
  },
  {
   "cell_type": "code",
   "execution_count": null,
   "metadata": {
    "execution": {
     "iopub.execute_input": "2024-12-02T20:58:19.013010Z",
     "iopub.status.busy": "2024-12-02T20:58:19.012856Z",
     "iopub.status.idle": "2024-12-02T20:58:21.221436Z",
     "shell.execute_reply": "2024-12-02T20:58:21.220890Z",
     "shell.execute_reply.started": "2024-12-02T20:58:19.012995Z"
    },
    "tags": []
   },
   "outputs": [],
   "source": [
    "butler = butlerUtils.makeDefaultButler(\"LSSTComCam\")\n",
    "instrument = 'LSSTComCam'"
   ]
  },
  {
   "cell_type": "markdown",
   "metadata": {
    "execution": {
     "iopub.execute_input": "2024-07-10T18:00:56.931372Z",
     "iopub.status.busy": "2024-07-10T18:00:56.930578Z",
     "iopub.status.idle": "2024-07-10T18:00:56.935059Z",
     "shell.execute_reply": "2024-07-10T18:00:56.934337Z",
     "shell.execute_reply.started": "2024-07-10T18:00:56.931336Z"
    }
   },
   "source": [
    "# Find the ROIs.  This cell takes longer but finds the magnitudes."
   ]
  },
  {
   "cell_type": "code",
   "execution_count": null,
   "metadata": {
    "execution": {
     "iopub.execute_input": "2024-12-02T20:58:21.222134Z",
     "iopub.status.busy": "2024-12-02T20:58:21.221997Z",
     "iopub.status.idle": "2024-12-02T20:58:55.049246Z",
     "shell.execute_reply": "2024-12-02T20:58:55.048847Z",
     "shell.execute_reply.started": "2024-12-02T20:58:21.222120Z"
    }
   },
   "outputs": [],
   "source": [
    "expId = 2024120100406\n",
    "\n",
    "detNames = ['S00', 'S01', 'S21', 'S22']\n",
    "for i, detector in enumerate([0, 1, 7, 8]):\n",
    "    exp = butler.get('calexp', detector=detector, visit=expId, instrument=instrument)\n",
    "    cat = butler.get('src', detector=detector, visit=expId, instrument=instrument)\n",
    "    sources = cat.asAstropy()\n",
    "    sources.keep_columns(['base_SdssCentroid_x', 'base_SdssCentroid_y', \\\n",
    "                          'coord_ra', 'coord_dec', 'base_PsfFlux_chi2'])\n",
    "    sources.sort('base_PsfFlux_chi2', reverse=True)\n",
    "    \n",
    "    index = 0\n",
    "    while True:\n",
    "        x = sources[index]['base_SdssCentroid_x']\n",
    "        y = sources[index]['base_SdssCentroid_y']\n",
    "        for amp in exp.getDetector().getAmplifiers():\n",
    "            name = amp.getName()\n",
    "            bbox = amp.getBBox()\n",
    "            if x > bbox.beginX and x < bbox.endX and y > bbox.beginY and y < bbox.endY:\n",
    "                ampX = x - bbox.beginX\n",
    "                ampY = y - bbox.beginY\n",
    "                start_row = int(ampX - 50)\n",
    "                start_col = int(ampY - 50)\n",
    "                break\n",
    "        # Check that there are no stars nearby                \n",
    "        coord = SkyCoord(sources[index]['coord_ra'], sources[index]['coord_dec'], unit=\"rad\")\n",
    "        result = Gaia.query_object_async(coordinate=coord, radius = 5.0 * u.arcsec)\n",
    "        print(f\" GAIA found {len(result)} stars\")\n",
    "\n",
    "        if start_row > 50 and start_col > 50 and start_row < 450 and \\\n",
    "        start_col < 1900 and len(result) == 1:\n",
    "            break\n",
    "        else:\n",
    "            index += 1\n",
    "\n",
    "    print(f\"For {detNames[i]}, segment={name}, start_row={start_row}, start_col={start_col}\")\n",
    "    # Extract magnitudes from the result\n",
    "    g_mag = result['phot_g_mean_mag']\n",
    "    bp_mag = result['phot_bp_mean_mag']\n",
    "    rp_mag = result['phot_rp_mean_mag']\n",
    "\n",
    "    # Loop over each row and print G, BP, and RP magnitudes on the same line\n",
    "    print(\"g_mag, bp_mag, rp_mag\")\n",
    "    for g, bp, rp in zip(g_mag, bp_mag, rp_mag):\n",
    "        print(f\"{g:.2f}, {bp:.2f}, {rp:.2f}\")\n",
    "\n",
    "    x = plot(exp, stretch='asinh')\n",
    "    ax = x.get_axes()[0]\n",
    "    ax.scatter([sources[index]['base_SdssCentroid_x']], [sources[index]['base_SdssCentroid_y']], \\\n",
    "               marker='x', s=500, color='green')\n",
    "        \n",
    "    plt.savefig(f\"/home/c/cslage/u/ComCam/images/Guider_{expId}_{detector}.png\")\n"
   ]
  },
  {
   "cell_type": "code",
   "execution_count": null,
   "metadata": {},
   "outputs": [],
   "source": []
  }
 ],
 "metadata": {
  "kernelspec": {
   "display_name": "LSST",
   "language": "python",
   "name": "lsst"
  },
  "language_info": {
   "codemirror_mode": {
    "name": "ipython",
    "version": 3
   },
   "file_extension": ".py",
   "mimetype": "text/x-python",
   "name": "python",
   "nbconvert_exporter": "python",
   "pygments_lexer": "ipython3",
   "version": "3.11.9"
  }
 },
 "nbformat": 4,
 "nbformat_minor": 4
}
