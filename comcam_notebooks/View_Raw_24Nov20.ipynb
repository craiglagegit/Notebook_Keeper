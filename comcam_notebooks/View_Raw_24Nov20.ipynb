{
 "cells": [
  {
   "cell_type": "markdown",
   "metadata": {},
   "source": [
    "# Notebook for viewing postISRCCD images.\n",
    "\n",
    "Initially written 29 May 2020 by Craig Lage\\\n",
    "Re-tested 08 Sep 2020 with latest code."
   ]
  },
  {
   "cell_type": "code",
   "execution_count": null,
   "metadata": {},
   "outputs": [],
   "source": [
    "! eups list -s | grep lsst_distrib\n",
    "! eups list -s cp_pipe"
   ]
  },
  {
   "cell_type": "code",
   "execution_count": null,
   "metadata": {},
   "outputs": [],
   "source": [
    "import sys, os, glob, subprocess\n",
    "import pickle as pkl\n",
    "import numpy as np\n",
    "import matplotlib.pyplot as plt\n",
    "import astropy.io.fits as pf\n",
    "from lsst.daf.persistence import Butler"
   ]
  },
  {
   "cell_type": "code",
   "execution_count": null,
   "metadata": {},
   "outputs": [],
   "source": [
    "DATA_DIR = '/project/shared/comCam-CCS'\n",
    "RAFT = 'R22'\n",
    "SENSOR ='S22'\n",
    "DETECTOR = 4\n",
    "expId1 = 3020112300030\n",
    "expId2 = 3020112300044\n",
    "butler = Butler(DATA_DIR)"
   ]
  },
  {
   "cell_type": "code",
   "execution_count": null,
   "metadata": {},
   "outputs": [],
   "source": [
    "# Now let's get the raw files.\n",
    "exp1 = butler.get('raw', raftName=RAFT, detectorName=SENSOR, expId=expId1)\n",
    "exp2 = butler.get('raw', raftName=RAFT, detectorName=SENSOR, expId=expId2)"
   ]
  },
  {
   "cell_type": "code",
   "execution_count": null,
   "metadata": {},
   "outputs": [],
   "source": [
    "from matplotlib.colors import LogNorm\n",
    "# Now let's look at ithem\n",
    "def colorbar(mappable):\n",
    "    from mpl_toolkits.axes_grid1 import make_axes_locatable\n",
    "    last_axes = plt.gca()\n",
    "    ax = mappable.axes\n",
    "    fig = ax.figure\n",
    "    divider = make_axes_locatable(ax)\n",
    "    cax = divider.append_axes(\"right\", size=\"5%\", pad=0.05)\n",
    "    cbar = fig.colorbar(mappable, cax=cax)\n",
    "    plt.sca(last_axes)\n",
    "    return cbar\n",
    "\n",
    "fig, (ax1, ax2) = plt.subplots(ncols=2, figsize=(16,8))\n",
    "arr = exp1.image.array\n",
    "mean = np.mean(arr)\n",
    "std = np.std(arr)\n",
    "img1 = ax1.imshow(arr, norm=LogNorm(vmin=16000, vmax=22000))\n",
    "colorbar(img1)\n",
    "ax1.set_title(\"Raw %s %s%s; Mean = %.3f, Std = %.3f\"%(RAFT,SENSOR,expId1,mean, std))\n",
    "arr = exp2.image.array\n",
    "mean = np.mean(arr)\n",
    "std = np.std(arr)\n",
    "img2 = ax2.imshow(arr, norm=LogNorm(vmin=16000, vmax=22000))\n",
    "colorbar(img1)\n",
    "ax2.set_title(\"Raw %s %s%s; Mean = %.3f, Std = %.3f\"%(RAFT,SENSOR,expId2,mean, std))\n",
    "\n",
    "plt.tight_layout(h_pad=1)\n",
    "#plt.savefig(E2V_REPO_DIR+\"plots/Master_Biases_08Sep20.pdf\")\n",
    "#plt.savefig(ITL_REPO_DIR+\"plots/Master_Biases_08Sep20.pdf\")"
   ]
  },
  {
   "cell_type": "code",
   "execution_count": null,
   "metadata": {},
   "outputs": [],
   "source": [
    "ccd1 = exp1.getDetector()\n",
    "ampName = 'C04'\n",
    "for ampObject in ccd1:\n",
    "\n",
    "    amp = ampObject.getName()\n",
    "    mask = exp1.getMask()\n",
    "    maskimg1 = mask[ampObject.getBBox()].getArray()\n",
    "    data = exp1[ampObject.getBBox()].image.array\n",
    "    if amp == ampName:\n",
    "        break\n",
    "print(data.max(), data.min())\n",
    "print(maskimg1[100,0:20])\n",
    "plt.subplot(1,2,1)\n",
    "plt.imshow(maskimg1[0:100,0:100])\n",
    "plt.subplot(1,2,2)\n",
    "plt.imshow(data[0:100,0:100])\n",
    "plt.show()\n"
   ]
  },
  {
   "cell_type": "code",
   "execution_count": null,
   "metadata": {},
   "outputs": [],
   "source": [
    "ccd1 = exp1.getDetector()\n",
    "for ampObject in ccd1:\n",
    "    amp = ampObject.getName()\n",
    "    mask = exp1.getMask()\n",
    "    maskimg1 = mask[ampObject.getBBox()].getArray()\n",
    "    print(amp, maskimg1[100,0:15])\n"
   ]
  },
  {
   "cell_type": "code",
   "execution_count": null,
   "metadata": {},
   "outputs": [],
   "source": []
  },
  {
   "cell_type": "code",
   "execution_count": null,
   "metadata": {},
   "outputs": [],
   "source": [
    "DATA_DIR = '/project/shared/BOT/rerun/cslage/PTC_LSSTCAM_New_12606'\n",
    "RAFT = 'R43'\n",
    "SENSOR ='S12'\n",
    "DETECTOR = 185\n",
    "expId1 = 3020100800155\n",
    "expId2 = 3020100800156\n",
    "butler = Butler(DATA_DIR)\n",
    "exp3 = butler.get('postISRCCD', raftName=RAFT, detectorName=SENSOR, expId=expId1)"
   ]
  },
  {
   "cell_type": "code",
   "execution_count": null,
   "metadata": {},
   "outputs": [],
   "source": [
    "ccd3 = exp3.getDetector()\n",
    "for ampObject in ccd1:\n",
    "    amp = ampObject.getName()\n",
    "    mask = exp3.getMask()\n",
    "    maskimg3 = mask[ampObject.getBBox()].getArray()\n",
    "    print(amp, maskimg3[100,0:15])\n"
   ]
  },
  {
   "cell_type": "code",
   "execution_count": null,
   "metadata": {},
   "outputs": [],
   "source": [
    "print(type(exp1.getImage().array))"
   ]
  },
  {
   "cell_type": "code",
   "execution_count": null,
   "metadata": {},
   "outputs": [],
   "source": [
    "def1 = butler.get('defects', raftName=RAFT, detectorName=SENSOR, expId=expId1)"
   ]
  },
  {
   "cell_type": "code",
   "execution_count": null,
   "metadata": {},
   "outputs": [],
   "source": [
    "print(dir(def1))"
   ]
  },
  {
   "cell_type": "code",
   "execution_count": null,
   "metadata": {},
   "outputs": [],
   "source": [
    "print(def1.toSimpleTable())\n",
    "print(def1.getMetadata())\n",
    "print(def1.toFitsRegionTable()[17])\n",
    "print(dir(def1.toFitsRegionTable()))"
   ]
  },
  {
   "cell_type": "code",
   "execution_count": null,
   "metadata": {},
   "outputs": [],
   "source": [
    "arr = def1.toFitsRegionTable().getAllBits().array"
   ]
  },
  {
   "cell_type": "code",
   "execution_count": null,
   "metadata": {},
   "outputs": [],
   "source": [
    "print(arr.shape)"
   ]
  },
  {
   "cell_type": "code",
   "execution_count": null,
   "metadata": {},
   "outputs": [],
   "source": []
  },
  {
   "cell_type": "code",
   "execution_count": null,
   "metadata": {},
   "outputs": [],
   "source": [
    "DATA_DIR = '/project/shared/BOT/rerun/cslage/PTC_LSSTCAM_New_12606'\n",
    "RAFT = 'R43'\n",
    "SENSOR ='S01'\n",
    "DETECTOR = 181\n",
    "expId1 = 3020100800155\n",
    "expId2 = 3020100800156\n",
    "butler = Butler(DATA_DIR)"
   ]
  },
  {
   "cell_type": "code",
   "execution_count": null,
   "metadata": {},
   "outputs": [],
   "source": [
    "def2 = butler.get('defects', raftName=RAFT, detectorName=SENSOR, expId=expId1)\n",
    "print(def2.toSimpleTable())"
   ]
  },
  {
   "cell_type": "code",
   "execution_count": null,
   "metadata": {},
   "outputs": [],
   "source": [
    "for i in range(1878):\n",
    "    print(def1.toFitsRegionTable()[i])"
   ]
  },
  {
   "cell_type": "code",
   "execution_count": null,
   "metadata": {},
   "outputs": [],
   "source": []
  }
 ],
 "metadata": {
  "jupytext": {
   "formats": "ipynb,markdown//md"
  },
  "kernelspec": {
   "display_name": "LSST",
   "language": "python",
   "name": "lsst"
  },
  "language_info": {
   "codemirror_mode": {
    "name": "ipython",
    "version": 3
   },
   "file_extension": ".py",
   "mimetype": "text/x-python",
   "name": "python",
   "nbconvert_exporter": "python",
   "pygments_lexer": "ipython3",
   "version": "3.8.8"
  }
 },
 "nbformat": 4,
 "nbformat_minor": 4
}
