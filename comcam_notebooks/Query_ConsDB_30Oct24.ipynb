{
 "cells": [
  {
   "cell_type": "markdown",
   "metadata": {},
   "source": [
    "# Query ConsDB\n",
    "\n",
    "A basic notebook to learn about querying the ConsDb\n",
    "\n",
    "Craig Lage - 09-Sep-24"
   ]
  },
  {
   "cell_type": "code",
   "execution_count": null,
   "metadata": {
    "execution": {
     "iopub.execute_input": "2024-11-13T11:48:30.774390Z",
     "iopub.status.busy": "2024-11-13T11:48:30.774275Z",
     "iopub.status.idle": "2024-11-13T11:48:36.317361Z",
     "shell.execute_reply": "2024-11-13T11:48:36.316941Z",
     "shell.execute_reply.started": "2024-11-13T11:48:30.774377Z"
    },
    "tags": []
   },
   "outputs": [],
   "source": [
    "import numpy as np\n",
    "import matplotlib.pyplot as plt\n",
    "import astropy.io.fits as pf\n",
    "from astropy.time import Time, TimeDelta\n",
    "import pandas as pd\n",
    "import os\n",
    "os.environ[\"no_proxy\"] += \",.consdb\"\n",
    "from lsst.summit.utils import ConsDbClient\n",
    "from lsst.summit.utils.utils import computeCcdExposureId"
   ]
  },
  {
   "cell_type": "code",
   "execution_count": null,
   "metadata": {
    "execution": {
     "iopub.execute_input": "2024-11-13T11:48:36.340035Z",
     "iopub.status.busy": "2024-11-13T11:48:36.339919Z",
     "iopub.status.idle": "2024-11-13T11:48:36.347011Z",
     "shell.execute_reply": "2024-11-13T11:48:36.346650Z",
     "shell.execute_reply.started": "2024-11-13T11:48:36.340022Z"
    }
   },
   "outputs": [],
   "source": [
    "client = ConsDbClient('http://consdb-pq.consdb:8080/consdb')\n",
    "print(client.schema())  # list the instruments"
   ]
  },
  {
   "cell_type": "code",
   "execution_count": null,
   "metadata": {
    "execution": {
     "iopub.execute_input": "2024-11-13T11:48:36.347539Z",
     "iopub.status.busy": "2024-11-13T11:48:36.347418Z",
     "iopub.status.idle": "2024-11-13T11:48:36.351700Z",
     "shell.execute_reply": "2024-11-13T11:48:36.351364Z",
     "shell.execute_reply.started": "2024-11-13T11:48:36.347527Z"
    }
   },
   "outputs": [],
   "source": [
    "client.schema('lsstcomcam') # List tables for an instrument"
   ]
  },
  {
   "cell_type": "code",
   "execution_count": null,
   "metadata": {
    "execution": {
     "iopub.execute_input": "2024-11-13T11:48:49.317347Z",
     "iopub.status.busy": "2024-11-13T11:48:49.317056Z",
     "iopub.status.idle": "2024-11-13T11:48:49.328268Z",
     "shell.execute_reply": "2024-11-13T11:48:49.327914Z",
     "shell.execute_reply.started": "2024-11-13T11:48:49.317330Z"
    },
    "jupyter": {
     "outputs_hidden": true
    }
   },
   "outputs": [],
   "source": [
    "client.schema('lsstcomcam', 'cdb_lsstcomcam.visit1_quicklook') # List values in a table"
   ]
  },
  {
   "cell_type": "code",
   "execution_count": null,
   "metadata": {
    "execution": {
     "iopub.execute_input": "2024-11-13T11:49:22.103662Z",
     "iopub.status.busy": "2024-11-13T11:49:22.103125Z",
     "iopub.status.idle": "2024-11-13T11:49:22.111100Z",
     "shell.execute_reply": "2024-11-13T11:49:22.110768Z",
     "shell.execute_reply.started": "2024-11-13T11:49:22.103646Z"
    },
    "jupyter": {
     "outputs_hidden": true
    }
   },
   "outputs": [],
   "source": [
    "client.schema('lsstcomcam', 'cdb_lsstcomcam.exposure') # List values in a table"
   ]
  },
  {
   "cell_type": "code",
   "execution_count": null,
   "metadata": {},
   "outputs": [],
   "source": [
    "# Get a particluar value from a particular visit\n",
    "data = client.query('SELECT astrom_offset_mean_median from cdb_lsstcomcam.visit1_quicklook where day_obs = 20241029 and seq_num = 98')\n",
    "data"
   ]
  },
  {
   "cell_type": "code",
   "execution_count": null,
   "metadata": {},
   "outputs": [],
   "source": [
    "# Get all of the values for a particular table and visit\n",
    "data = client.query('SELECT * from cdb_lsstcomcam.exposure where exposure_id = 2024102900098')\n",
    "for name in data.colnames:\n",
    "    print(name, data[name].value[0])"
   ]
  },
  {
   "cell_type": "code",
   "execution_count": null,
   "metadata": {
    "execution": {
     "iopub.execute_input": "2024-11-14T15:20:06.458111Z",
     "iopub.status.busy": "2024-11-14T15:20:06.457623Z",
     "iopub.status.idle": "2024-11-14T15:20:06.482617Z",
     "shell.execute_reply": "2024-11-14T15:20:06.482132Z",
     "shell.execute_reply.started": "2024-11-14T15:20:06.458096Z"
    }
   },
   "outputs": [],
   "source": [
    "# Get all of the values for a particular table and visit\n",
    "data = client.query('SELECT * from cdb_lsstcomcam.visit1_quicklook where visit_id = 2024102900098')\n",
    "for name in data.colnames:\n",
    "    print(name, data[name].value[0])"
   ]
  },
  {
   "cell_type": "code",
   "execution_count": null,
   "metadata": {},
   "outputs": [],
   "source": [
    "ccdvisit_id = computeCcdExposureId('latiss', 2024053000592, 0)\n",
    "print(ccdvisit_id)\n",
    "data = client.query(f'SELECT * from cdb_latiss.ccdvisit1_quicklook where ccdvisit_id = {ccdvisit_id}')\n",
    "for name in data.colnames:\n",
    "    print(name, data[name].value[0])"
   ]
  },
  {
   "cell_type": "code",
   "execution_count": null,
   "metadata": {},
   "outputs": [],
   "source": [
    "# I guess this just isn't populated yet?\n",
    "data = client.query('SELECT ccdvisit_id from cdb_latiss.ccdvisit1_quicklook where ccdvisit_id > 1')\n",
    "data"
   ]
  },
  {
   "cell_type": "code",
   "execution_count": null,
   "metadata": {},
   "outputs": [],
   "source": [
    "# I guess this just isn't populated yet?\n",
    "data = client.query('SELECT visit_id from cdb_latiss.visit1_quicklook where visit_id > 1')\n",
    "data"
   ]
  },
  {
   "cell_type": "code",
   "execution_count": null,
   "metadata": {},
   "outputs": [],
   "source": [
    "data = client.query('SELECT astrom_offset_mean_median from cdb_lsstcomcam.visit1_quicklook where visit_id = 2024102800083')\n",
    "data"
   ]
  },
  {
   "cell_type": "code",
   "execution_count": null,
   "metadata": {},
   "outputs": [],
   "source": [
    "data = client.query('SELECT seq_num, obs_start, azimuth, zenith_distance from cdb_lsstcomcamsim.exposure where (seq_num > 0 and seq_num < 10 and day_obs = 20240621)')\n",
    "data"
   ]
  },
  {
   "cell_type": "code",
   "execution_count": null,
   "metadata": {},
   "outputs": [],
   "source": [
    "data = client.query('SELECT * from cdb_lsstcomcamsim.exposure where exposure_id = 7024062700764')\n",
    "for name in data.colnames:\n",
    "    print(name, data[name].value[0])\n"
   ]
  },
  {
   "cell_type": "code",
   "execution_count": null,
   "metadata": {
    "execution": {
     "iopub.execute_input": "2024-11-13T11:55:04.210908Z",
     "iopub.status.busy": "2024-11-13T11:55:04.210256Z",
     "iopub.status.idle": "2024-11-13T11:55:04.230316Z",
     "shell.execute_reply": "2024-11-13T11:55:04.229936Z",
     "shell.execute_reply.started": "2024-11-13T11:55:04.210890Z"
    },
    "jupyter": {
     "outputs_hidden": true
    }
   },
   "outputs": [],
   "source": [
    "# Get a particluar value from a particular visit\n",
    "query = 'SELECT exp_time, exposure_id, obs_start, obs_end '\n",
    "query += 'from cdb_lsstcomcam.exposure where day_obs = 20241112 and seq_num > 27 and seq_num < 383'\n",
    "data = client.query(query)\n",
    "data"
   ]
  },
  {
   "cell_type": "code",
   "execution_count": null,
   "metadata": {
    "execution": {
     "iopub.execute_input": "2024-11-13T12:03:54.551964Z",
     "iopub.status.busy": "2024-11-13T12:03:54.551678Z",
     "iopub.status.idle": "2024-11-13T12:03:54.555947Z",
     "shell.execute_reply": "2024-11-13T12:03:54.555589Z",
     "shell.execute_reply.started": "2024-11-13T12:03:54.551950Z"
    }
   },
   "outputs": [],
   "source": [
    "shutter_open = np.sum(data['exp_time'])\n",
    "total_time = (Time(data['obs_end'][-1], scale ='tai').jd - Time(data['obs_start'][0], scale='tai').jd) * 86400\n",
    "print(shutter_open, total_time, f\"Percent open = {(shutter_open / total_time * 100.0):.1f}%\")"
   ]
  },
  {
   "cell_type": "code",
   "execution_count": null,
   "metadata": {},
   "outputs": [],
   "source": []
  }
 ],
 "metadata": {
  "kernelspec": {
   "display_name": "LSST",
   "language": "python",
   "name": "lsst"
  },
  "language_info": {
   "codemirror_mode": {
    "name": "ipython",
    "version": 3
   },
   "file_extension": ".py",
   "mimetype": "text/x-python",
   "name": "python",
   "nbconvert_exporter": "python",
   "pygments_lexer": "ipython3",
   "version": "3.11.9"
  }
 },
 "nbformat": 4,
 "nbformat_minor": 4
}
