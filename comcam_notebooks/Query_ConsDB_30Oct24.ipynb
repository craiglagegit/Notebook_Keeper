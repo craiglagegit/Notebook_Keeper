{
 "cells": [
  {
   "cell_type": "markdown",
   "metadata": {},
   "source": [
    "# Query ConsDB\n",
    "\n",
    "A basic notebook to learn about querying the ConsDb\n",
    "\n",
    "Craig Lage - 09-Sep-24"
   ]
  },
  {
   "cell_type": "code",
   "execution_count": null,
   "metadata": {
    "tags": []
   },
   "outputs": [],
   "source": [
    "import numpy as np\n",
    "import matplotlib.pyplot as plt\n",
    "import astropy.io.fits as pf\n",
    "from astropy.time import Time, TimeDelta\n",
    "import pandas as pd\n",
    "import os\n",
    "os.environ[\"no_proxy\"] += \",.consdb\"\n",
    "from lsst.summit.utils import ConsDbClient\n",
    "from lsst.summit.utils.utils import computeCcdExposureId"
   ]
  },
  {
   "cell_type": "code",
   "execution_count": null,
   "metadata": {},
   "outputs": [],
   "source": [
    "client = ConsDbClient('http://consdb-pq.consdb:8080/consdb')\n",
    "print(client.schema())  # list the instruments"
   ]
  },
  {
   "cell_type": "code",
   "execution_count": null,
   "metadata": {},
   "outputs": [],
   "source": [
    "client.schema('lsstcomcam') # List tables for an instrument"
   ]
  },
  {
   "cell_type": "code",
   "execution_count": null,
   "metadata": {},
   "outputs": [],
   "source": [
    "client.schema('lsstcomcam', 'cdb_lsstcomcam.visit1_quicklook') # List values in a table"
   ]
  },
  {
   "cell_type": "code",
   "execution_count": null,
   "metadata": {},
   "outputs": [],
   "source": [
    "client.schema('lsstcomcam', 'cdb_lsstcomcam.exposure') # List values in a table"
   ]
  },
  {
   "cell_type": "code",
   "execution_count": null,
   "metadata": {},
   "outputs": [],
   "source": [
    "# Get a particluar value from a particular visit\n",
    "data = client.query('SELECT astrom_offset_mean_median from cdb_lsstcomcam.visit1_quicklook where day_obs = 20241029 and seq_num = 98')\n",
    "data"
   ]
  },
  {
   "cell_type": "code",
   "execution_count": null,
   "metadata": {},
   "outputs": [],
   "source": [
    "# Get all of the values for a particular table and visit\n",
    "data = client.query('SELECT * from cdb_lsstcomcam.exposure where exposure_id = 2024102900098')\n",
    "for name in data.colnames:\n",
    "    print(name, data[name].value[0])"
   ]
  },
  {
   "cell_type": "code",
   "execution_count": null,
   "metadata": {},
   "outputs": [],
   "source": [
    "# Get all of the values for a particular table and visit\n",
    "data = client.query('SELECT * from cdb_lsstcomcam.visit1_quicklook where visit_id = 2024102900098')\n",
    "for name in data.colnames:\n",
    "    print(name, data[name].value[0])"
   ]
  },
  {
   "cell_type": "code",
   "execution_count": null,
   "metadata": {},
   "outputs": [],
   "source": [
    "ccdvisit_id = computeCcdExposureId('latiss', 2024053000592, 0)\n",
    "print(ccdvisit_id)\n",
    "data = client.query(f'SELECT * from cdb_latiss.ccdvisit1_quicklook where ccdvisit_id = {ccdvisit_id}')\n",
    "for name in data.colnames:\n",
    "    print(name, data[name].value[0])"
   ]
  },
  {
   "cell_type": "code",
   "execution_count": null,
   "metadata": {},
   "outputs": [],
   "source": [
    "# I guess this just isn't populated yet?\n",
    "data = client.query('SELECT ccdvisit_id from cdb_latiss.ccdvisit1_quicklook where ccdvisit_id > 1')\n",
    "data"
   ]
  },
  {
   "cell_type": "code",
   "execution_count": null,
   "metadata": {},
   "outputs": [],
   "source": [
    "# I guess this just isn't populated yet?\n",
    "data = client.query('SELECT visit_id from cdb_latiss.visit1_quicklook where visit_id > 1')\n",
    "data"
   ]
  },
  {
   "cell_type": "code",
   "execution_count": null,
   "metadata": {},
   "outputs": [],
   "source": [
    "data = client.query('SELECT astrom_offset_mean_median from cdb_lsstcomcam.visit1_quicklook where visit_id = 2024102800083')\n",
    "data"
   ]
  },
  {
   "cell_type": "code",
   "execution_count": null,
   "metadata": {},
   "outputs": [],
   "source": [
    "data = client.query('SELECT seq_num, obs_start, azimuth, zenith_distance from cdb_lsstcomcamsim.exposure where (seq_num > 0 and seq_num < 10 and day_obs = 20240621)')\n",
    "data"
   ]
  },
  {
   "cell_type": "code",
   "execution_count": null,
   "metadata": {},
   "outputs": [],
   "source": [
    "data = client.query('SELECT * from cdb_lsstcomcamsim.exposure where exposure_id = 7024062700764')\n",
    "for name in data.colnames:\n",
    "    print(name, data[name].value[0])\n"
   ]
  },
  {
   "cell_type": "code",
   "execution_count": null,
   "metadata": {},
   "outputs": [],
   "source": [
    "# Get a particluar value from a particular visit\n",
    "query = 'SELECT exp_time, exposure_id, obs_start, obs_end '\n",
    "query += 'from cdb_lsstcomcam.exposure where day_obs = 20241112 and seq_num > 27 and seq_num < 383'\n",
    "data = client.query(query)\n",
    "data"
   ]
  },
  {
   "cell_type": "code",
   "execution_count": null,
   "metadata": {},
   "outputs": [],
   "source": [
    "shutter_open = np.sum(data['exp_time'])\n",
    "total_time = (Time(data['obs_end'][-1], scale ='tai').jd - Time(data['obs_start'][0], scale='tai').jd) * 86400\n",
    "print(shutter_open, total_time, f\"Percent open = {(shutter_open / total_time * 100.0):.1f}%\")"
   ]
  },
  {
   "cell_type": "code",
   "execution_count": null,
   "metadata": {},
   "outputs": [],
   "source": []
  }
 ],
 "metadata": {
  "kernelspec": {
   "display_name": "LSST",
   "language": "python",
   "name": "lsst"
  },
  "language_info": {
   "codemirror_mode": {
    "name": "ipython",
    "version": 3
   },
   "file_extension": ".py",
   "mimetype": "text/x-python",
   "name": "python",
   "nbconvert_exporter": "python",
   "pygments_lexer": "ipython3",
   "version": "3.11.9"
  }
 },
 "nbformat": 4,
 "nbformat_minor": 4
}
