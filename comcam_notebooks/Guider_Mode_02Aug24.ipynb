{
 "cells": [
  {
   "cell_type": "markdown",
   "id": "192ec44c-3199-4c4e-b76e-d0356073756b",
   "metadata": {
    "execution": {
     "iopub.execute_input": "2024-08-02T16:24:58.781988Z",
     "iopub.status.busy": "2024-08-02T16:24:58.781677Z",
     "iopub.status.idle": "2024-08-02T16:24:58.785379Z",
     "shell.execute_reply": "2024-08-02T16:24:58.784744Z",
     "shell.execute_reply.started": "2024-08-02T16:24:58.781960Z"
    }
   },
   "source": [
    "# Guider mode image reduction\n",
    "Craig Lage - 02-Aug-24"
   ]
  },
  {
   "cell_type": "code",
   "execution_count": null,
   "id": "3088ee0a-aa8e-48a7-b287-3ae645b3faab",
   "metadata": {
    "execution": {
     "iopub.execute_input": "2024-10-08T21:43:43.398804Z",
     "iopub.status.busy": "2024-10-08T21:43:43.398473Z",
     "iopub.status.idle": "2024-10-08T21:43:43.408688Z",
     "shell.execute_reply": "2024-10-08T21:43:43.408256Z",
     "shell.execute_reply.started": "2024-10-08T21:43:43.398787Z"
    }
   },
   "outputs": [],
   "source": [
    "import os\n",
    "import shlex, subprocess\n",
    "import matplotlib.pyplot as plt\n",
    "from mpl_toolkits.axes_grid1 import make_axes_locatable\n",
    "import numpy as np\n",
    "from astropy.io import fits\n",
    "from lsst.resources import ResourcePath"
   ]
  },
  {
   "cell_type": "code",
   "execution_count": null,
   "id": "02eebe1c-781c-4d09-9f15-c84f70d14517",
   "metadata": {
    "execution": {
     "iopub.execute_input": "2024-10-08T21:36:13.895055Z",
     "iopub.status.busy": "2024-10-08T21:36:13.894690Z",
     "iopub.status.idle": "2024-10-08T21:36:14.340542Z",
     "shell.execute_reply": "2024-10-08T21:36:14.340176Z",
     "shell.execute_reply.started": "2024-10-08T21:36:13.895037Z"
    }
   },
   "outputs": [],
   "source": [
    "dayObs = 20240807\n",
    "seqNum = 9\n",
    "raft = 'R22'\n",
    "ccd = 'S00'\n",
    "filename = f\"s3://rubin-summit/LSSTComCam/{dayObs}/CC_O_{dayObs}_{seqNum:06d}/CC_O_{dayObs}_{seqNum:06d}_{raft}_{ccd}_guider.fits\"\n",
    "rp = ResourcePath(filename)\n",
    "with rp.open(mode=\"rb\") as f:\n",
    "    hdu_list = fits.open(f)"
   ]
  },
  {
   "cell_type": "code",
   "execution_count": null,
   "id": "84da7275-2de8-4821-bec4-f6b26b00c305",
   "metadata": {
    "execution": {
     "iopub.execute_input": "2024-10-08T21:36:15.953875Z",
     "iopub.status.busy": "2024-10-08T21:36:15.953439Z",
     "iopub.status.idle": "2024-10-08T21:36:15.957089Z",
     "shell.execute_reply": "2024-10-08T21:36:15.956771Z",
     "shell.execute_reply.started": "2024-10-08T21:36:15.953860Z"
    },
    "jupyter": {
     "outputs_hidden": true
    }
   },
   "outputs": [],
   "source": [
    "hdu_list[0].header"
   ]
  },
  {
   "cell_type": "code",
   "execution_count": null,
   "id": "2e51d1a5-eccb-41d5-aea3-7f87778d5ce4",
   "metadata": {
    "execution": {
     "iopub.execute_input": "2024-10-08T21:36:22.931793Z",
     "iopub.status.busy": "2024-10-08T21:36:22.931528Z",
     "iopub.status.idle": "2024-10-08T21:36:23.171031Z",
     "shell.execute_reply": "2024-10-08T21:36:23.170706Z",
     "shell.execute_reply.started": "2024-10-08T21:36:22.931775Z"
    },
    "jupyter": {
     "outputs_hidden": true
    }
   },
   "outputs": [],
   "source": [
    "hdu_list[4].header"
   ]
  },
  {
   "cell_type": "code",
   "execution_count": null,
   "id": "dc9c72a4-33f7-4940-aa87-276b7cc119ab",
   "metadata": {
    "execution": {
     "iopub.execute_input": "2024-10-08T21:36:33.090048Z",
     "iopub.status.busy": "2024-10-08T21:36:33.089627Z",
     "iopub.status.idle": "2024-10-08T21:36:33.172273Z",
     "shell.execute_reply": "2024-10-08T21:36:33.171920Z",
     "shell.execute_reply.started": "2024-10-08T21:36:33.090031Z"
    }
   },
   "outputs": [],
   "source": [
    "data = hdu_list[4].data"
   ]
  },
  {
   "cell_type": "code",
   "execution_count": null,
   "id": "efc9afe0-504b-4eb6-9b01-a95ac77dd3a5",
   "metadata": {
    "execution": {
     "iopub.execute_input": "2024-10-08T21:36:33.913848Z",
     "iopub.status.busy": "2024-10-08T21:36:33.913456Z",
     "iopub.status.idle": "2024-10-08T21:36:34.045330Z",
     "shell.execute_reply": "2024-10-08T21:36:34.045016Z",
     "shell.execute_reply.started": "2024-10-08T21:36:33.913833Z"
    }
   },
   "outputs": [],
   "source": [
    "plt.title(f\"ComCam guider mode\", fontsize=12)\n",
    "plt.imshow(data, interpolation='nearest')\n",
    "plt.colorbar()"
   ]
  },
  {
   "cell_type": "code",
   "execution_count": null,
   "id": "77f6ba5d-d677-48f6-bd60-c0e312af6c55",
   "metadata": {},
   "outputs": [],
   "source": [
    "expId = int(f\"{dayObs}{seqNum:05d}\")\n",
    "dirName = f\"/home/c/cslage/u/ComCam/guider_mode/movie_{expId}\"\n",
    "%mkdir -p {dirName}\n",
    "movieName = f\"Guider_{expId}.mp4\"\n",
    "print(movieName)\n",
    "\n",
    "# Build the individual frames\n",
    "fig = plt.figure(figsize=(8, 8))\n",
    "nStamps = int(hdu_list[0].header['N_STAMPS'])\n",
    "for n in range(nStamps):\n",
    "    data = hdu_list[2 * n + 2].data\n",
    "    plt.imshow(data, interpolation='nearest')\n",
    "    plt.colorbar()\n",
    "    plt.title(f\"ComCam guider mode {expId}, Frame {n+1}\", fontsize=12)\n",
    "    plt.savefig(f\"{dirName}/Frame_{n:03d}.png\")\n",
    "    plt.clf()\n",
    "    print(f\"Finished {2 * n + 2}\")\n"
   ]
  },
  {
   "cell_type": "code",
   "execution_count": null,
   "id": "7c3415e9-b5cd-47e4-ba47-144fce897822",
   "metadata": {},
   "outputs": [],
   "source": [
    "print(f\"\\033[1mThe movie name will be: {dirName}/{movieName}\\033[0m\")\n",
    "\n",
    "command = f\"ffmpeg -pattern_type glob -i '{dirName}/*.png' -f mp4 -vcodec libx264 -pix_fmt yuv420p -framerate 50 -y {dirName}/{movieName}\"\n",
    "args = shlex.split(command)\n",
    "build_movie = subprocess.Popen(args)\n",
    "build_movie.wait()"
   ]
  },
  {
   "cell_type": "code",
   "execution_count": null,
   "id": "00ffb508-139a-49f9-87d0-3a41eca1158b",
   "metadata": {
    "execution": {
     "iopub.execute_input": "2024-10-08T21:36:50.011693Z",
     "iopub.status.busy": "2024-10-08T21:36:50.011400Z",
     "iopub.status.idle": "2024-10-08T21:36:51.264256Z",
     "shell.execute_reply": "2024-10-08T21:36:51.263798Z",
     "shell.execute_reply.started": "2024-10-08T21:36:50.011680Z"
    }
   },
   "outputs": [],
   "source": [
    "data = (hdu_list[25].data['rawStamp'][0]).astype('>u4')\n",
    "data.byteswap(inplace=True)\n",
    "xor = 0x1ffff\n",
    "size = 50 * 53\n",
    "out = np.zeros([16, size], dtype=int)\n",
    "image_out = np.zeros([16, 50,50], dtype=int)\n",
    "for n in range(size):\n",
    "    res = ''\n",
    "    for i in range(9):\n",
    "        d = data[(size-n)*9-i-1]\n",
    "        d = format(d, '#034b')\n",
    "        d = d.split('b')[1]\n",
    "        res += d\n",
    "    for i in range(16):\n",
    "        bin_value = res[i*18:(i+1)*18]\n",
    "        int_value = int(bin_value, 2)\n",
    "        final_value = int_value ^ xor\n",
    "        out[i,n] = final_value  \n",
    "for i in range(16):\n",
    "    reshaped = out[i,:].reshape(50,53)\n",
    "    image_out[i,:,:] = np.flipud(np.fliplr(reshaped[:,0:50]))"
   ]
  },
  {
   "cell_type": "code",
   "execution_count": null,
   "id": "3f523660-5245-431a-bf47-2b4e83f9a521",
   "metadata": {
    "execution": {
     "iopub.execute_input": "2024-10-08T21:50:39.878336Z",
     "iopub.status.busy": "2024-10-08T21:50:39.877958Z",
     "iopub.status.idle": "2024-10-08T21:50:41.194820Z",
     "shell.execute_reply": "2024-10-08T21:50:41.194296Z",
     "shell.execute_reply.started": "2024-10-08T21:50:39.878313Z"
    }
   },
   "outputs": [],
   "source": [
    "fig, axs = plt.subplots(4,4,figsize=(10,10))\n",
    "plt.subplots_adjust(wspace=.7, hspace=-0.2)\n",
    "for i in range(4):\n",
    "    for j in range(4):\n",
    "        n = i + 4 * j\n",
    "        axs[i][j].set_title(f\"segment {n}\")\n",
    "        im = axs[i][j].imshow(image_out[n], interpolation='nearest', origin='lower')\n",
    "        divider = make_axes_locatable(axs[i][j])\n",
    "        cax = divider.append_axes(\"right\", size=\"5%\", pad=0.05)\n",
    "        plt.colorbar(im, cax=cax)\n"
   ]
  },
  {
   "cell_type": "code",
   "execution_count": null,
   "id": "40c8bd2d-1be0-44d8-9f65-78909c8f08a5",
   "metadata": {},
   "outputs": [],
   "source": []
  }
 ],
 "metadata": {
  "kernelspec": {
   "display_name": "LSST",
   "language": "python",
   "name": "lsst"
  },
  "language_info": {
   "codemirror_mode": {
    "name": "ipython",
    "version": 3
   },
   "file_extension": ".py",
   "mimetype": "text/x-python",
   "name": "python",
   "nbconvert_exporter": "python",
   "pygments_lexer": "ipython3",
   "version": "3.11.9"
  }
 },
 "nbformat": 4,
 "nbformat_minor": 5
}
