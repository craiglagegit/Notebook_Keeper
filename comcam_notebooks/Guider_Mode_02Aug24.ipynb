{
 "cells": [
  {
   "cell_type": "markdown",
   "id": "192ec44c-3199-4c4e-b76e-d0356073756b",
   "metadata": {
    "execution": {
     "iopub.execute_input": "2024-08-02T16:24:58.781988Z",
     "iopub.status.busy": "2024-08-02T16:24:58.781677Z",
     "iopub.status.idle": "2024-08-02T16:24:58.785379Z",
     "shell.execute_reply": "2024-08-02T16:24:58.784744Z",
     "shell.execute_reply.started": "2024-08-02T16:24:58.781960Z"
    }
   },
   "source": [
    "# Guider mode image reduction\n",
    "Craig Lage - 02-Aug-24"
   ]
  },
  {
   "cell_type": "code",
   "execution_count": null,
   "id": "3088ee0a-aa8e-48a7-b287-3ae645b3faab",
   "metadata": {},
   "outputs": [],
   "source": [
    "import os\n",
    "import shlex, subprocess\n",
    "import matplotlib.pyplot as plt\n",
    "from astropy.io import fits\n",
    "from lsst.resources import ResourcePath"
   ]
  },
  {
   "cell_type": "code",
   "execution_count": null,
   "id": "02eebe1c-781c-4d09-9f15-c84f70d14517",
   "metadata": {},
   "outputs": [],
   "source": [
    "dayObs = 20240807\n",
    "seqNum = 9\n",
    "raft = 'R22'\n",
    "ccd = 'S00'\n",
    "filename = f\"s3://rubin-summit/LSSTComCam/{dayObs}/CC_O_{dayObs}_{seqNum:06d}/CC_O_{dayObs}_{seqNum:06d}_{raft}_{ccd}_guider.fits\"\n",
    "rp = ResourcePath(filename)\n",
    "with rp.open(mode=\"rb\") as f:\n",
    "    hdu_list = fits.open(f)"
   ]
  },
  {
   "cell_type": "code",
   "execution_count": null,
   "id": "84da7275-2de8-4821-bec4-f6b26b00c305",
   "metadata": {},
   "outputs": [],
   "source": [
    "hdu_list[0].header"
   ]
  },
  {
   "cell_type": "code",
   "execution_count": null,
   "id": "2e51d1a5-eccb-41d5-aea3-7f87778d5ce4",
   "metadata": {},
   "outputs": [],
   "source": [
    "hdu_list[2].header"
   ]
  },
  {
   "cell_type": "code",
   "execution_count": null,
   "id": "dc9c72a4-33f7-4940-aa87-276b7cc119ab",
   "metadata": {},
   "outputs": [],
   "source": [
    "data = hdu_list[4].data"
   ]
  },
  {
   "cell_type": "code",
   "execution_count": null,
   "id": "efc9afe0-504b-4eb6-9b01-a95ac77dd3a5",
   "metadata": {},
   "outputs": [],
   "source": [
    "plt.imshow(data, interpolation='nearest')"
   ]
  },
  {
   "cell_type": "code",
   "execution_count": null,
   "id": "77f6ba5d-d677-48f6-bd60-c0e312af6c55",
   "metadata": {},
   "outputs": [],
   "source": [
    "expId = int(f\"{dayObs}{seqNum:05d}\")\n",
    "dirName = f\"/home/c/cslage/u/ComCam/guider_mode/movie_{expId}\"\n",
    "%mkdir -p {dirName}\n",
    "movieName = f\"Guider_{expId}.mp4\"\n",
    "print(movieName)\n",
    "\n",
    "# Build the individual frames\n",
    "fig = plt.figure(figsize=(8, 8))\n",
    "nStamps = int(hdu_list[0].header['N_STAMPS'])\n",
    "for n in range(nStamps):\n",
    "    data = hdu_list[2 * n + 2].data\n",
    "    plt.imshow(data, interpolation='nearest')\n",
    "    plt.title(f\"ComCam guider mode {expId}, Frame {n+1}\", fontsize=12)\n",
    "    plt.savefig(f\"{dirName}/Frame_{n:03d}.png\")\n",
    "    plt.clf()\n"
   ]
  },
  {
   "cell_type": "code",
   "execution_count": null,
   "id": "7c3415e9-b5cd-47e4-ba47-144fce897822",
   "metadata": {},
   "outputs": [],
   "source": [
    "print(f\"\\033[1mThe movie name will be: {dirName}/{movieName}\\033[0m\")\n",
    "\n",
    "command = f\"ffmpeg -pattern_type glob -i '{dirName}/*.png' -f mp4 -vcodec libx264 -pix_fmt yuv420p -framerate 50 -y {dirName}/{movieName}\"\n",
    "args = shlex.split(command)\n",
    "build_movie = subprocess.Popen(args)\n",
    "build_movie.wait()"
   ]
  },
  {
   "cell_type": "code",
   "execution_count": null,
   "id": "00ffb508-139a-49f9-87d0-3a41eca1158b",
   "metadata": {},
   "outputs": [],
   "source": []
  }
 ],
 "metadata": {
  "kernelspec": {
   "display_name": "LSST",
   "language": "python",
   "name": "lsst"
  },
  "language_info": {
   "codemirror_mode": {
    "name": "ipython",
    "version": 3
   },
   "file_extension": ".py",
   "mimetype": "text/x-python",
   "name": "python",
   "nbconvert_exporter": "python",
   "pygments_lexer": "ipython3",
   "version": "3.11.9"
  }
 },
 "nbformat": 4,
 "nbformat_minor": 5
}
