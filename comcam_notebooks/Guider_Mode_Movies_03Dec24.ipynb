{
 "cells": [
  {
   "cell_type": "markdown",
   "id": "192ec44c-3199-4c4e-b76e-d0356073756b",
   "metadata": {
    "execution": {
     "iopub.execute_input": "2024-08-02T16:24:58.781988Z",
     "iopub.status.busy": "2024-08-02T16:24:58.781677Z",
     "iopub.status.idle": "2024-08-02T16:24:58.785379Z",
     "shell.execute_reply": "2024-08-02T16:24:58.784744Z",
     "shell.execute_reply.started": "2024-08-02T16:24:58.781960Z"
    }
   },
   "source": [
    "# Guider mode image reduction\n",
    "This is intended to unpack the rawStamps from guider mode FITS files and build a movie of all 16 stamps.\\\n",
    "Craig Lage - 03-Dec-24"
   ]
  },
  {
   "cell_type": "code",
   "execution_count": null,
   "id": "3088ee0a-aa8e-48a7-b287-3ae645b3faab",
   "metadata": {
    "execution": {
     "iopub.execute_input": "2024-12-11T15:25:58.607493Z",
     "iopub.status.busy": "2024-12-11T15:25:58.607082Z",
     "iopub.status.idle": "2024-12-11T15:25:58.960411Z",
     "shell.execute_reply": "2024-12-11T15:25:58.960007Z",
     "shell.execute_reply.started": "2024-12-11T15:25:58.607469Z"
    }
   },
   "outputs": [],
   "source": [
    "import os\n",
    "import shlex, subprocess\n",
    "import matplotlib.pyplot as plt\n",
    "from mpl_toolkits.axes_grid1 import make_axes_locatable\n",
    "import numpy as np\n",
    "from astropy.io import fits\n",
    "from lsst.resources import ResourcePath"
   ]
  },
  {
   "cell_type": "code",
   "execution_count": null,
   "id": "a80d5236-49e1-42ae-813a-97af1da0bf23",
   "metadata": {},
   "outputs": [],
   "source": [
    "# Example of getting a FITS file stored at USDF\n",
    "# LSSTComCam science CCD\n",
    "filename = \"s3://rubin-summit/LSSTComCam/20240807/CC_O_20240807_000009/CC_O_20240807_000009_R22_S00_guider.fits\"\n",
    "\n",
    "# LSSTcam guider CCD\n",
    "#filename = \"s3://embargo@rubin-summit/LSSTCam/20241008/MC_C_20241008_000025/MC_C_20241008_000025_R00_SG0_guider.fits\"\n",
    "\n",
    "rp = ResourcePath(filename)\n",
    "with rp.open(mode=\"rb\") as f:\n",
    "    hdu_list = fits.open(f)\n",
    "len(hdu_list)"
   ]
  },
  {
   "cell_type": "markdown",
   "id": "f8cb8445-f7da-40e7-8edf-752a18fef668",
   "metadata": {},
   "source": [
    "# Get the main header and the information it contains"
   ]
  },
  {
   "cell_type": "code",
   "execution_count": null,
   "id": "84da7275-2de8-4821-bec4-f6b26b00c305",
   "metadata": {
    "execution": {
     "iopub.execute_input": "2024-12-11T15:26:05.226752Z",
     "iopub.status.busy": "2024-12-11T15:26:05.226012Z",
     "iopub.status.idle": "2024-12-11T15:26:05.229940Z",
     "shell.execute_reply": "2024-12-11T15:26:05.229579Z",
     "shell.execute_reply.started": "2024-12-11T15:26:05.226731Z"
    }
   },
   "outputs": [],
   "source": [
    "def getMainHeaderInfo(hdu_list):\n",
    "    hdr0 = hdu_list[0].header\n",
    "    #raft = hdr0['RAFTBAY']\n",
    "    #ccd = hdr0['CCDSLOT']\n",
    "    #dayObs = hdr0['DAYOBS']\n",
    "    #seqNum = hdr0['SEQNUM']\n",
    "    roiCols = hdr0['ROICOLS']\n",
    "    roiRows = hdr0['ROIROWS']\n",
    "    try:\n",
    "        roiUnder = hdr0['ROIUNDER']\n",
    "    except:\n",
    "        roiUnder = 6\n",
    "    nStamps = hdr0['N_STAMPS']\n",
    "    \n",
    "    # Set the xor value - Guider CCDs are different from science CCDs\n",
    "    if raft in ['R00', 'R04', 'R40', 'R44']:\n",
    "        # Guider rafts\n",
    "        xor = 0x20000\n",
    "    else:\n",
    "        # Science rafts\n",
    "        xor = 0x1ffff\n",
    "    return [roiRows, roiCols, roiUnder, nStamps, xor]"
   ]
  },
  {
   "cell_type": "markdown",
   "id": "38f9dce1-6a04-4347-8a53-63699f775387",
   "metadata": {},
   "source": [
    "# Now define the code to unpack the rawStamps:"
   ]
  },
  {
   "cell_type": "code",
   "execution_count": null,
   "id": "2e51d1a5-eccb-41d5-aea3-7f87778d5ce4",
   "metadata": {
    "execution": {
     "iopub.execute_input": "2024-12-11T15:26:08.214751Z",
     "iopub.status.busy": "2024-12-11T15:26:08.214265Z",
     "iopub.status.idle": "2024-12-11T15:26:08.218997Z",
     "shell.execute_reply": "2024-12-11T15:26:08.218661Z",
     "shell.execute_reply.started": "2024-12-11T15:26:08.214733Z"
    }
   },
   "outputs": [],
   "source": [
    "def unpackStamps(hduNum):\n",
    "    data = (hdu_list[hduNum].data['rawStamp'][0]).astype('>u4')\n",
    "    data.byteswap(inplace=True)\n",
    "    totalCols = roiCols + roiUnder\n",
    "    size = roiRows * totalCols\n",
    "    out = np.zeros([16, size], dtype=int)\n",
    "    image_out = np.zeros([16, roiRows, roiCols], dtype=int)\n",
    "    \n",
    "    for n in range(size):\n",
    "        # Get 9 32 bit words of data\n",
    "        res = ''\n",
    "        for i in range(9):\n",
    "            d = data[(size - n) * 9 - i - 1]\n",
    "            d = format(d, '#034b')\n",
    "            d = d.split('b')[1]\n",
    "            res += d\n",
    "        # Now extract 16 18 bit words from the data\n",
    "        for i in range(16):\n",
    "            bin_value = res[i * 18:(i + 1) * 18]\n",
    "            int_value = int(bin_value, 2)\n",
    "            final_value = int_value ^ xor\n",
    "            out[i,n] = final_value  \n",
    "    for i in range(16):\n",
    "        reshaped = out[i,:].reshape(roiRows, totalCols)\n",
    "        image_out[i,:,:] = np.flipud(np.fliplr(reshaped[:,0:roiCols]))\n",
    "    return image_out"
   ]
  },
  {
   "cell_type": "code",
   "execution_count": null,
   "id": "7051b07a-49ac-4aeb-9c0f-1bd992dfeedc",
   "metadata": {
    "execution": {
     "iopub.execute_input": "2024-12-11T15:26:11.839367Z",
     "iopub.status.busy": "2024-12-11T15:26:11.838887Z",
     "iopub.status.idle": "2024-12-11T15:26:11.841543Z",
     "shell.execute_reply": "2024-12-11T15:26:11.841210Z",
     "shell.execute_reply.started": "2024-12-11T15:26:11.839349Z"
    }
   },
   "outputs": [],
   "source": [
    "# Set the scaling\n",
    "autoscale = True\n",
    "# Scale to use if autoscale = False\n",
    "vmin = 10000\n",
    "vmax = 30000"
   ]
  },
  {
   "cell_type": "markdown",
   "id": "d072c16c-a0e3-4241-aeae-5fe1382f10a3",
   "metadata": {},
   "source": [
    "# Now build the individual movie frames"
   ]
  },
  {
   "cell_type": "code",
   "execution_count": null,
   "id": "77f6ba5d-d677-48f6-bd60-c0e312af6c55",
   "metadata": {
    "execution": {
     "iopub.execute_input": "2024-12-05T06:43:13.498366Z",
     "iopub.status.busy": "2024-12-05T06:43:13.497880Z",
     "iopub.status.idle": "2024-12-05T06:45:17.939496Z",
     "shell.execute_reply": "2024-12-05T06:45:17.939069Z",
     "shell.execute_reply.started": "2024-12-05T06:43:13.498351Z"
    }
   },
   "outputs": [],
   "source": [
    "dayObs = 20241204\n",
    "seqNum = 134\n",
    "expId = int(f\"{dayObs}{seqNum:05d}\")\n",
    "raft = 'R22'\n",
    "ccd = 'S22'\n",
    "\n",
    "#filename = f\"s3://rubin-summit/LSSTComCam/{dayObs}/CC_O_{dayObs}_{seqNum:06d}/CC_O_{dayObs}_{seqNum:06d}_{raft}_{ccd}_guider.fits\"\n",
    "filename = f\"s3://embargo@rubin-summit/LSSTComCam/{dayObs}/CC_O_{dayObs}_{seqNum:06d}/CC_O_{dayObs}_{seqNum:06d}_{raft}_{ccd}_guider.fits\" \n",
    "rp = ResourcePath(filename)\n",
    "with rp.open(mode=\"rb\") as f:\n",
    "    hdu_list = fits.open(f)\n",
    "[roiRows, roiCols, roiUnder, nStamps, xor] = getMainHeaderInfo(hdu_list)\n",
    "\n",
    "dirName = f\"/home/c/cslage/u/Guider_Mode/movie_{expId}_{raft}_{ccd}\"\n",
    "%mkdir -p {dirName}\n",
    "movieName = f\"Guider_{expId}_{raft}_{ccd}.mp4\"\n",
    "print(movieName)\n",
    "[roiRows, roiCols, roiUnder, nStamps, xor] = getMainHeaderInfo(hdu_list)\n",
    "# Build the individual frames\n",
    "fig = plt.figure(figsize=(10,10))\n",
    "for n in range(nStamps):\n",
    "    hduNum = 2 * n + 1\n",
    "    hdrn = hdu_list[hduNum].header\n",
    "    timestamp = hdrn['STMPTIME']\n",
    "    image_out = unpackStamps(hduNum)\n",
    "    axs = fig.subplots(4,4)\n",
    "    plt.subplots_adjust(wspace=.7, hspace=-0.2)\n",
    "    plt.suptitle(f\"Guider mode {raft} {ccd} {expId}, Frame {n+1}\\n{timestamp}\", fontsize=24)\n",
    "    for i in range(4):\n",
    "        for j in range(4):\n",
    "            seg = i + 4 * j\n",
    "            axs[i][j].set_title(f\"segment {seg}\")\n",
    "            if autoscale:\n",
    "                im = axs[i][j].imshow(image_out[seg], interpolation='nearest', origin='upper', cmap='Greys')\n",
    "            else:\n",
    "                im = axs[i][j].imshow(image_out[seg], interpolation='nearest', origin='upper', vmin=vmin, vmax=vmax, cmap='Greys')\n",
    "            divider = make_axes_locatable(axs[i][j])\n",
    "            cax = divider.append_axes(\"right\", size=\"5%\", pad=0.05)\n",
    "            fig.colorbar(im, cax=cax)\n",
    "    plt.savefig(f\"{dirName}/Frame_{n:03d}.png\")\n",
    "    plt.clf()\n",
    "    if n % 10 == 0:\n",
    "        print(f\"Finished frame {n}\")\n",
    "print(\"Done building frames\")"
   ]
  },
  {
   "cell_type": "markdown",
   "id": "57795982-f9e1-452c-9552-b6298b4f6488",
   "metadata": {},
   "source": [
    "# Now make the movie"
   ]
  },
  {
   "cell_type": "code",
   "execution_count": null,
   "id": "7c3415e9-b5cd-47e4-ba47-144fce897822",
   "metadata": {
    "execution": {
     "iopub.execute_input": "2024-12-05T06:45:21.244455Z",
     "iopub.status.busy": "2024-12-05T06:45:21.243799Z",
     "iopub.status.idle": "2024-12-05T06:45:22.965427Z",
     "shell.execute_reply": "2024-12-05T06:45:22.964999Z",
     "shell.execute_reply.started": "2024-12-05T06:45:21.244415Z"
    }
   },
   "outputs": [],
   "source": [
    "print(f\"\\033[1mThe movie name will be: {dirName}/{movieName}\\033[0m\")\n",
    "\n",
    "command = f\"ffmpeg -pattern_type glob -i '{dirName}/*.png' -f mp4 -vcodec libx264 -pix_fmt yuv420p -framerate 50 -y {dirName}/{movieName}\"\n",
    "args = shlex.split(command)\n",
    "build_movie = subprocess.Popen(args)\n",
    "build_movie.wait()"
   ]
  },
  {
   "cell_type": "markdown",
   "id": "46ae9d44-f19e-49ae-8bda-089d24dc4e57",
   "metadata": {},
   "source": [
    "# Comparing Unpacked BINTABLE to the corresponding IMAGE header"
   ]
  },
  {
   "cell_type": "code",
   "execution_count": null,
   "id": "c3a15ad3-96d1-431b-b802-3ae022103813",
   "metadata": {},
   "outputs": [],
   "source": [
    "fig, axs = plt.subplots(1,2,figsize=(12,5))\n",
    "plt.subplots_adjust(hspace=1.0)\n",
    "plt.suptitle(f\"Guider mode comparison {raft} {expId}\", fontsize=18)\n",
    "data = hdu_list[6].data\n",
    "axs[0].set_title(\"IMAGE header 6\")\n",
    "im1 = axs[0].imshow(data, interpolation='nearest', vmin=10000, vmax=30000, origin='upper')\n",
    "axs[0].text(38,4, '+', color='black')\n",
    "divider = make_axes_locatable(axs[0])\n",
    "cax = divider.append_axes(\"right\", size=\"5%\", pad=0.05)\n",
    "plt.colorbar(im1, cax=cax)\n",
    "\n",
    "image_out = unpackStamps(5)\n",
    "axs[1].set_title(\"Unpacked BINTABLE header 5 - Seg13\")\n",
    "im2 = axs[1].imshow(image_out[13], interpolation='nearest', vmin=10000, vmax=30000, origin='upper')\n",
    "axs[1].text(38,4, '+', color='black')\n",
    "divider = make_axes_locatable(axs[1])\n",
    "cax = divider.append_axes(\"right\", size=\"5%\", pad=0.05)\n",
    "plt.colorbar(im2, cax=cax)\n",
    "plt.savefig(f\"/home/c/cslage/u/Guider_Mode/Unpack_Comparison_{expId}_{raft}_{ccd}.png\")\n",
    "\n",
    "# The two images are bitwise identical\n",
    "diff = data - image_out[13]\n",
    "print(f\"Diff max = {np.max(diff)}, Diff min = {np.min(diff)}\")"
   ]
  },
  {
   "cell_type": "code",
   "execution_count": null,
   "id": "a295fdc5-658b-4339-9902-0e13fcf5db1d",
   "metadata": {
    "execution": {
     "iopub.execute_input": "2024-12-11T15:26:40.861771Z",
     "iopub.status.busy": "2024-12-11T15:26:40.861439Z",
     "iopub.status.idle": "2024-12-11T15:26:40.865180Z",
     "shell.execute_reply": "2024-12-11T15:26:40.864862Z",
     "shell.execute_reply.started": "2024-12-11T15:26:40.861752Z"
    }
   },
   "outputs": [],
   "source": [
    "axs"
   ]
  },
  {
   "cell_type": "markdown",
   "id": "ae58ea9f-05d3-4207-a36d-8297216beff9",
   "metadata": {},
   "source": [
    "# Movie of a single frame"
   ]
  },
  {
   "cell_type": "code",
   "execution_count": null,
   "id": "57a33191-0f5e-4a18-b2f7-b28d55512af9",
   "metadata": {
    "execution": {
     "iopub.execute_input": "2024-12-11T17:38:08.106775Z",
     "iopub.status.busy": "2024-12-11T17:38:08.106473Z",
     "iopub.status.idle": "2024-12-11T17:42:38.345987Z",
     "shell.execute_reply": "2024-12-11T17:42:38.345629Z",
     "shell.execute_reply.started": "2024-12-11T17:38:08.106758Z"
    }
   },
   "outputs": [],
   "source": [
    "dayObs = 20241204\n",
    "seqNum = 134\n",
    "expId = int(f\"{dayObs}{seqNum:05d}\")\n",
    "raft = 'R22'\n",
    "ccd = 'S22'\n",
    "seg = 13 \n",
    "\n",
    "filename = f\"s3://embargo@rubin-summit/LSSTComCam/{dayObs}/CC_O_{dayObs}_{seqNum:06d}/CC_O_{dayObs}_{seqNum:06d}_{raft}_{ccd}_guider.fits\" \n",
    "rp = ResourcePath(filename)\n",
    "with rp.open(mode=\"rb\") as f:\n",
    "    hdu_list = fits.open(f)\n",
    "[roiRows, roiCols, roiUnder, nStamps, xor] = getMainHeaderInfo(hdu_list)\n",
    "\n",
    "dirName = f\"/home/c/cslage/u/Guider_Mode/single_movie_{expId}_{raft}_{ccd}_{seg}\"\n",
    "%mkdir -p {dirName}\n",
    "movieName = f\"Guider_{expId}_{raft}_{ccd}_{seg}.mp4\"\n",
    "print(movieName)\n",
    "frames = []\n",
    "meds = []\n",
    "[roiRows, roiCols, roiUnder, nStamps, xor] = getMainHeaderInfo(hdu_list)\n",
    "# Build the individual frames\n",
    "fig = plt.figure(figsize=(10,10))\n",
    "for n in range(nStamps):\n",
    "    hduNum = 2 * n + 1\n",
    "    hdrn = hdu_list[hduNum].header\n",
    "    timestamp = hdrn['STMPTIME']\n",
    "    image_out = unpackStamps(hduNum)\n",
    "    ax = fig.subplots(1,1)\n",
    "    ax.set_title(f\"Guider mode {raft} {ccd} {expId} {seg}, Frame {n+1}\\n{timestamp}\", fontsize=24)\n",
    "    arr = np.array(image_out[seg])\n",
    "    arr = arr[0:125,0:125]\n",
    "    meds.append(np.median(arr))\n",
    "    arr = arr - np.median(arr)\n",
    "   \n",
    "    \n",
    "    #print(np.max(arr))\n",
    "    #break\n",
    "    (ycen, xcen) = np.unravel_index(arr.argmax(), arr.shape)\n",
    "    stamp = 30\n",
    "    x1 = int(xcen - stamp / 2)\n",
    "    x2 = x1 + stamp\n",
    "    \n",
    "    y1 = int(ycen - stamp / 2)\n",
    "    y2 = y1 + stamp\n",
    "    im = arr[y1:y2, x1:x2]\n",
    "    \n",
    "    #im = arr\n",
    "    frames.append(im)\n",
    "    #print(x1, x2, y1, y2, xcen, ycen)\n",
    "    ax.imshow(im, interpolation='nearest', origin='lower', vmin=0, vmax=10000)#, cmap='Greys')\n",
    "    #divider = make_axes_locatable(ax)\n",
    "    #cax = divider.append_axes(\"right\", size=\"5%\", pad=0.05)\n",
    "    #fig.colorbar(im, cax=cax)\n",
    "    plt.savefig(f\"{dirName}/Frame_{n:03d}.png\")\n",
    "    plt.clf()\n",
    "    if n % 10 == 0:\n",
    "        print(f\"Finished frame {n}\")\n",
    "print(\"Done building frames\")"
   ]
  },
  {
   "cell_type": "markdown",
   "id": "ee3f2dfd-c970-4639-b316-a908fdc8b5ee",
   "metadata": {},
   "source": [
    "# Now make the movie"
   ]
  },
  {
   "cell_type": "code",
   "execution_count": null,
   "id": "97251cd9-c544-411b-a61b-0223eb26684e",
   "metadata": {
    "execution": {
     "iopub.execute_input": "2024-12-11T18:02:58.202963Z",
     "iopub.status.busy": "2024-12-11T18:02:58.202655Z",
     "iopub.status.idle": "2024-12-11T18:03:03.850396Z",
     "shell.execute_reply": "2024-12-11T18:03:03.849970Z",
     "shell.execute_reply.started": "2024-12-11T18:02:58.202947Z"
    }
   },
   "outputs": [],
   "source": [
    "print(f\"\\033[1mThe movie name will be: {dirName}/{movieName}\\033[0m\")\n",
    "\n",
    "command = f\"ffmpeg -pattern_type glob -i '{dirName}/*.png' -f mp4 -vcodec libx264 -pix_fmt yuv420p -framerate 50 -y {dirName}/{movieName}\"\n",
    "args = shlex.split(command)\n",
    "build_movie = subprocess.Popen(args)\n",
    "build_movie.wait()"
   ]
  },
  {
   "cell_type": "code",
   "execution_count": null,
   "id": "989688c4-344f-450d-b499-1c20f815b77e",
   "metadata": {
    "execution": {
     "iopub.execute_input": "2024-12-11T18:03:56.151160Z",
     "iopub.status.busy": "2024-12-11T18:03:56.150863Z",
     "iopub.status.idle": "2024-12-11T18:03:56.672268Z",
     "shell.execute_reply": "2024-12-11T18:03:56.671780Z",
     "shell.execute_reply.started": "2024-12-11T18:03:56.151145Z"
    }
   },
   "outputs": [],
   "source": [
    "fig, axs = plt.subplots(1,2, figsize=(10,5))\n",
    "plt.suptitle(f\"Guider mode {raft} {ccd} {expId} {seg}\", fontsize=18)\n",
    "fluxes = []\n",
    "for frame in frames:\n",
    "    axs[0].plot(frame[15,0:30])\n",
    "    fluxes.append(np.sum(frame))\n",
    "axs[0].set_title(\"Flux scans by frame\")\n",
    "axs[1].set_title(\"Histogram of fluxes\")\n",
    "\n",
    "axs[1].hist(fluxes, bins=50)\n",
    "plt.savefig(f\"/home/c/cslage/u/Guider_Mode/analysis/Guider_Fluxes_{expId}_{raft}_{ccd}.png\")"
   ]
  },
  {
   "cell_type": "code",
   "execution_count": null,
   "id": "3d054fba-8c93-4095-8d15-6c3a1dcb8e98",
   "metadata": {
    "execution": {
     "iopub.execute_input": "2024-12-11T17:03:14.785103Z",
     "iopub.status.busy": "2024-12-11T17:03:14.784897Z",
     "iopub.status.idle": "2024-12-11T17:03:14.788599Z",
     "shell.execute_reply": "2024-12-11T17:03:14.788200Z",
     "shell.execute_reply.started": "2024-12-11T17:03:14.785088Z"
    }
   },
   "outputs": [],
   "source": [
    "hduNum = 1\n",
    "hdr_test = hdu_list[hduNum].header\n",
    "for key in hdr_test.keys():\n",
    "    print(key, hdr_test[key])"
   ]
  },
  {
   "cell_type": "code",
   "execution_count": null,
   "id": "558904d6-27b8-4094-84ff-445286d5f774",
   "metadata": {
    "execution": {
     "iopub.execute_input": "2024-12-11T17:31:15.547440Z",
     "iopub.status.busy": "2024-12-11T17:31:15.547128Z",
     "iopub.status.idle": "2024-12-11T17:31:15.625433Z",
     "shell.execute_reply": "2024-12-11T17:31:15.625001Z",
     "shell.execute_reply.started": "2024-12-11T17:31:15.547424Z"
    }
   },
   "outputs": [],
   "source": [
    "plt.hist(meds)"
   ]
  },
  {
   "cell_type": "code",
   "execution_count": null,
   "id": "678d073e-b41b-4dc1-91c9-fc0d7ac6d6ec",
   "metadata": {
    "execution": {
     "iopub.execute_input": "2024-12-11T20:42:30.960074Z",
     "iopub.status.busy": "2024-12-11T20:42:30.959496Z",
     "iopub.status.idle": "2024-12-11T20:42:31.054050Z",
     "shell.execute_reply": "2024-12-11T20:42:31.053684Z",
     "shell.execute_reply.started": "2024-12-11T20:42:30.960058Z"
    }
   },
   "outputs": [],
   "source": [
    "n = 2\n",
    "hduNum = 4 * n + 2\n",
    "arr = hdu_list[hduNum].data\n",
    "ax = fig.subplots(1,1)\n",
    "ax.set_title(f\"Guider mode raw {raft} {ccd} {expId} {seg}, Frame {n+1}\\n{timestamp}\", fontsize=24)\n",
    "arr = arr[50:200,50:200]\n",
    "meds.append(np.median(arr))\n",
    "arr = arr - np.median(arr)\n",
    "plt.imshow(arr, interpolation='nearest', origin='lower')\n"
   ]
  },
  {
   "cell_type": "code",
   "execution_count": null,
   "id": "9cb3fb34-740e-4a9a-82f0-0efdd3f53590",
   "metadata": {},
   "outputs": [],
   "source": []
  },
  {
   "cell_type": "markdown",
   "id": "dc91ea40-e18f-49db-b1d9-cf3c136f94fa",
   "metadata": {},
   "source": [
    "# Movie of a single frame - rawStamps"
   ]
  },
  {
   "cell_type": "code",
   "execution_count": null,
   "id": "41d6f052-b116-48a5-9c3d-8316403e609f",
   "metadata": {
    "execution": {
     "iopub.execute_input": "2024-12-11T20:43:37.956479Z",
     "iopub.status.busy": "2024-12-11T20:43:37.955920Z",
     "iopub.status.idle": "2024-12-11T20:43:43.094823Z",
     "shell.execute_reply": "2024-12-11T20:43:43.094435Z",
     "shell.execute_reply.started": "2024-12-11T20:43:37.956460Z"
    }
   },
   "outputs": [],
   "source": [
    "dayObs = 20241204\n",
    "seqNum = 129\n",
    "expId = int(f\"{dayObs}{seqNum:05d}\")\n",
    "raft = 'R22'\n",
    "ccd = 'S22'\n",
    "seg = 13 \n",
    "\n",
    "filename = f\"s3://embargo@rubin-summit/LSSTComCam/{dayObs}/CC_O_{dayObs}_{seqNum:06d}/CC_O_{dayObs}_{seqNum:06d}_{raft}_{ccd}_guider.fits\" \n",
    "rp = ResourcePath(filename)\n",
    "with rp.open(mode=\"rb\") as f:\n",
    "    hdu_list = fits.open(f)\n",
    "[roiRows, roiCols, roiUnder, nStamps, xor] = getMainHeaderInfo(hdu_list)\n",
    "\n",
    "dirName = f\"/home/c/cslage/u/Guider_Mode/single_movie_raw_{expId}_{raft}_{ccd}_{seg}\"\n",
    "%mkdir -p {dirName}\n",
    "movieName = f\"Guider_raw_{expId}_{raft}_{ccd}_{seg}.mp4\"\n",
    "print(movieName)\n",
    "frames = []\n",
    "meds = []\n",
    "[roiRows, roiCols, roiUnder, nStamps, xor] = getMainHeaderInfo(hdu_list)\n",
    "# Build the individual frames\n",
    "fig = plt.figure(figsize=(10,10))\n",
    "for n in range(int(nStamps/2)):\n",
    "    hduNum = 4 * n + 2\n",
    "    arr = hdu_list[hduNum].data\n",
    "    ax = fig.subplots(1,1)\n",
    "    ax.set_title(f\"Guider mode raw {raft} {ccd} {expId} {seg}, Frame {n+1}\\n{timestamp}\", fontsize=24)\n",
    "    arr = arr[50:200,50:200]\n",
    "    meds.append(np.median(arr))\n",
    "    arr = arr - np.median(arr)\n",
    "    (ycen, xcen) = np.unravel_index(arr.argmax(), arr.shape)\n",
    "    stamp = 30\n",
    "    x1 = int(xcen - stamp / 2)\n",
    "    x2 = x1 + stamp\n",
    "    \n",
    "    y1 = int(ycen - stamp / 2)\n",
    "    y2 = y1 + stamp\n",
    "    im = arr[y1:y2, x1:x2]\n",
    "    \n",
    "    #im = arr\n",
    "    frames.append(im)\n",
    "    #print(x1, x2, y1, y2, xcen, ycen)\n",
    "    ax.imshow(im, interpolation='nearest', origin='lower', vmin=0, vmax=30000)#, cmap='Greys')\n",
    "    #divider = make_axes_locatable(ax)\n",
    "    #cax = divider.append_axes(\"right\", size=\"5%\", pad=0.05)\n",
    "    #fig.colorbar(im, cax=cax)\n",
    "    plt.savefig(f\"{dirName}/Frame_{n:03d}.png\")\n",
    "    plt.clf()\n",
    "    if n % 10 == 0:\n",
    "        print(f\"Finished frame {n}\")\n",
    "print(\"Done building frames\")"
   ]
  },
  {
   "cell_type": "markdown",
   "id": "5738aa52-8d0a-4890-ae4b-12ad99c0cb79",
   "metadata": {},
   "source": [
    "# Now make the movie"
   ]
  },
  {
   "cell_type": "code",
   "execution_count": null,
   "id": "10666204-30f4-4eb0-abd7-f086df70cc7b",
   "metadata": {
    "execution": {
     "iopub.execute_input": "2024-12-11T20:43:45.691090Z",
     "iopub.status.busy": "2024-12-11T20:43:45.690538Z",
     "iopub.status.idle": "2024-12-11T20:43:46.154205Z",
     "shell.execute_reply": "2024-12-11T20:43:46.153885Z",
     "shell.execute_reply.started": "2024-12-11T20:43:45.691073Z"
    }
   },
   "outputs": [],
   "source": [
    "print(f\"\\033[1mThe movie name will be: {dirName}/{movieName}\\033[0m\")\n",
    "\n",
    "command = f\"ffmpeg -pattern_type glob -i '{dirName}/*.png' -f mp4 -vcodec libx264 -pix_fmt yuv420p -framerate 50 -y {dirName}/{movieName}\"\n",
    "args = shlex.split(command)\n",
    "build_movie = subprocess.Popen(args)\n",
    "build_movie.wait()"
   ]
  },
  {
   "cell_type": "code",
   "execution_count": null,
   "id": "3a8b14e5-5406-4b83-8b6a-d05fa0dafa0e",
   "metadata": {
    "execution": {
     "iopub.execute_input": "2024-12-11T20:44:27.566673Z",
     "iopub.status.busy": "2024-12-11T20:44:27.566343Z",
     "iopub.status.idle": "2024-12-11T20:44:27.872197Z",
     "shell.execute_reply": "2024-12-11T20:44:27.871881Z",
     "shell.execute_reply.started": "2024-12-11T20:44:27.566648Z"
    }
   },
   "outputs": [],
   "source": [
    "fig, axs = plt.subplots(1,2, figsize=(10,5))\n",
    "plt.suptitle(f\"Guider mode {raft} {ccd} {expId} {seg}\", fontsize=18)\n",
    "fluxes = []\n",
    "for frame in frames:\n",
    "    axs[0].plot(frame[15,0:30])\n",
    "    fluxes.append(np.sum(frame))\n",
    "axs[0].set_title(\"Flux scans by frame\")\n",
    "axs[1].set_title(\"Histogram of fluxes\")\n",
    "\n",
    "axs[1].hist(fluxes, bins=50)\n",
    "plt.savefig(f\"/home/c/cslage/u/Guider_Mode/analysis/Guider_Fluxes_Raw_{expId}_{raft}_{ccd}.png\")"
   ]
  },
  {
   "cell_type": "code",
   "execution_count": null,
   "id": "afc112b5-deed-48ce-bbe3-10c629d06093",
   "metadata": {},
   "outputs": [],
   "source": []
  }
 ],
 "metadata": {
  "kernelspec": {
   "display_name": "LSST",
   "language": "python",
   "name": "lsst"
  },
  "language_info": {
   "codemirror_mode": {
    "name": "ipython",
    "version": 3
   },
   "file_extension": ".py",
   "mimetype": "text/x-python",
   "name": "python",
   "nbconvert_exporter": "python",
   "pygments_lexer": "ipython3",
   "version": "3.12.9"
  }
 },
 "nbformat": 4,
 "nbformat_minor": 5
}
