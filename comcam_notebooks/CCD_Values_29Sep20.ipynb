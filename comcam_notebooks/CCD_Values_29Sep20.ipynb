{
 "cells": [
  {
   "cell_type": "markdown",
   "metadata": {},
   "source": [
    "# Notebook for Calculating ComCam CCD Values\n",
    "\n",
    "Initially written 29 Sep 2020 by Craig Lage."
   ]
  },
  {
   "cell_type": "code",
   "execution_count": null,
   "metadata": {},
   "outputs": [],
   "source": [
    "! eups list -s | grep lsst_distrib\n",
    "! eups list -s | grep cp_pipe"
   ]
  },
  {
   "cell_type": "code",
   "execution_count": null,
   "metadata": {},
   "outputs": [],
   "source": [
    "import sys, os, glob, time\n",
    "import numpy as np\n",
    "import matplotlib.pyplot as plt\n",
    "import collections\n",
    "from lsst.daf.persistence import Butler"
   ]
  },
  {
   "cell_type": "code",
   "execution_count": null,
   "metadata": {},
   "outputs": [],
   "source": [
    "DIR = '/project/shared/comCam/rerun/cslage/PTC_2020-08-27/'\n",
    "RAFT = 'R22'"
   ]
  },
  {
   "cell_type": "code",
   "execution_count": null,
   "metadata": {},
   "outputs": [],
   "source": [
    "# Read noise, from PTC\n",
    "butler = Butler(DIR)\n",
    "read_noise = []\n",
    "for detector in range(9):\n",
    "    ptcDataset = butler.get('photonTransferCurveDataset', raftName=RAFT, detector=detector)\n",
    "    noise = ptcDataset.noise\n",
    "    for amp in noise.keys():\n",
    "        read_noise.append(noise[amp])\n",
    "print(np.median(read_noise), min(read_noise), max(read_noise))"
   ]
  },
  {
   "cell_type": "code",
   "execution_count": null,
   "metadata": {},
   "outputs": [],
   "source": [
    "plt.hist(read_noise)"
   ]
  },
  {
   "cell_type": "code",
   "execution_count": null,
   "metadata": {},
   "outputs": [],
   "source": [
    "# Dark current\n",
    "dark_current = []\n",
    "for detector in range(9):\n",
    "    dark = butler.get('dark', raftName=RAFT, detector=detector, expId=2020082700015)\n",
    "    ccd = dark.getDetector()\n",
    "    for amp in ccd:\n",
    "        img1 = dark.image\n",
    "        arr1 = img1.Factory(img1, amp.getBBox()).array\n",
    "        dark_current.append(np.median(arr1))\n",
    "        #print(detector, amp.getName(), np.median(arr1))\n",
    "print(np.median(dark_current), min(dark_current), max(dark_current))"
   ]
  },
  {
   "cell_type": "code",
   "execution_count": null,
   "metadata": {},
   "outputs": [],
   "source": [
    "plt.hist(dark_current)"
   ]
  },
  {
   "cell_type": "code",
   "execution_count": null,
   "metadata": {},
   "outputs": [],
   "source": [
    "# Bad pixels\n",
    "bad_pixels = []\n",
    "for detector in range(9):\n",
    "    postISR = butler.get('postISRCCD', raftName=RAFT, detector=detector, expId=2020082700067)\n",
    "    ccd =postISR.getDetector()\n",
    "    bad = 0\n",
    "    for amp in ccd:\n",
    "        img1 = postISR.getMaskedImage()\n",
    "        mask = img1.Factory(img1, amp.getBBox()).getMask()\n",
    "        bad += (collections.Counter(mask.array.flatten())[5]) # \"Bad pixels\"\n",
    "    #print(detector, bad)\n",
    "    bad /= (2000*509*16)\n",
    "    bad *= 100 # To put in %\n",
    "    bad_pixels.append(bad)\n",
    "\n",
    "print(np.median(bad_pixels), min(bad_pixels), max(bad_pixels))"
   ]
  },
  {
   "cell_type": "code",
   "execution_count": null,
   "metadata": {},
   "outputs": [],
   "source": [
    "# Now Serial CTI\n",
    "# These are for the ITL sensor, identifying the end of the imaging region and the overscan region.\n",
    "xstart = 505\n",
    "xstop = 542\n",
    "ov_start = 512\n",
    "# Run most of the rows, but stay away from the edges.\n",
    "ystart = 200\n",
    "ystop = 1800\n",
    "xaxis = np.linspace(xstart,xstop-1,xstop-xstart)\n",
    "ctis = []\n",
    "for detector in range(9):\n",
    "    raw = butler.get('raw', raftName=RAFT, detector=detector, expId=2020082700082)\n",
    "    ccd = raw.getDetector()\n",
    "    for amp in ccd:\n",
    "        img1 = raw.image\n",
    "        data = img1.Factory(img1, amp.getRawBBox()).array\n",
    "        data = np.flip(data, axis=1)\n",
    "        flat_overscan = np.mean(data[:,xstop-8:xstop],axis = 1)\n",
    "        cte_data = ((np.transpose(np.transpose(data) - flat_overscan))[ystart:ystop,:].mean(axis=0))[xstart:xstop]\n",
    "        cte_std = ((np.transpose(np.transpose(data) - flat_overscan))[ystart:ystop,:].std(axis=0) / np.sqrt(float(ystop-ystart)))[xstart:xstop]\n",
    "        cti = np.median((np.transpose(np.transpose(data) - flat_overscan))[ystart:ystop,ov_start]\\\n",
    "        / (np.transpose(np.transpose(data) - flat_overscan))[ystart:ystop,ov_start-1]) / ov_start\n",
    "        ctis.append(cti)\n",
    "print(np.median(ctis), max(ctis), min(ctis))"
   ]
  },
  {
   "cell_type": "code",
   "execution_count": null,
   "metadata": {},
   "outputs": [],
   "source": [
    "plt.hist(ctis)"
   ]
  },
  {
   "cell_type": "code",
   "execution_count": null,
   "metadata": {},
   "outputs": [],
   "source": []
  }
 ],
 "metadata": {
  "kernelspec": {
   "display_name": "LSST",
   "language": "python",
   "name": "lsst"
  },
  "language_info": {
   "codemirror_mode": {
    "name": "ipython",
    "version": 3
   },
   "file_extension": ".py",
   "mimetype": "text/x-python",
   "name": "python",
   "nbconvert_exporter": "python",
   "pygments_lexer": "ipython3",
   "version": "3.7.8"
  }
 },
 "nbformat": 4,
 "nbformat_minor": 4
}
