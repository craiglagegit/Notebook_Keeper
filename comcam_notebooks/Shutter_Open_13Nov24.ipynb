{
 "cells": [
  {
   "cell_type": "markdown",
   "metadata": {},
   "source": [
    "# ComCam shutter open time\n",
    "\n",
    "Craig Lage - 13-Nov-24"
   ]
  },
  {
   "cell_type": "code",
   "execution_count": null,
   "metadata": {
    "execution": {
     "iopub.execute_input": "2024-11-20T12:21:58.231614Z",
     "iopub.status.busy": "2024-11-20T12:21:58.231331Z",
     "iopub.status.idle": "2024-11-20T12:21:58.234694Z",
     "shell.execute_reply": "2024-11-20T12:21:58.234287Z",
     "shell.execute_reply.started": "2024-11-20T12:21:58.231600Z"
    },
    "tags": []
   },
   "outputs": [],
   "source": [
    "import numpy as np\n",
    "import matplotlib.pyplot as plt\n",
    "from astropy.time import Time, TimeDelta\n",
    "from astropy.visualization import time_support\n",
    "from lsst.obs.lsst.translators.lsst import SIMONYI_LOCATION\n",
    "from astroplan import Observer\n",
    "from pytz import timezone\n",
    "import os\n",
    "os.environ[\"no_proxy\"] += \",.consdb\"\n",
    "from lsst.summit.utils import ConsDbClient\n",
    "from lsst.summit.utils.utils import dayObsIntToString\n",
    "from lsst.summit.utils.efdUtils import calcNextDay"
   ]
  },
  {
   "cell_type": "code",
   "execution_count": null,
   "metadata": {
    "execution": {
     "iopub.execute_input": "2024-11-19T15:00:20.880600Z",
     "iopub.status.busy": "2024-11-19T15:00:20.880472Z",
     "iopub.status.idle": "2024-11-19T15:00:20.887009Z",
     "shell.execute_reply": "2024-11-19T15:00:20.886530Z",
     "shell.execute_reply.started": "2024-11-19T15:00:20.880587Z"
    }
   },
   "outputs": [],
   "source": [
    "client = ConsDbClient('http://consdb-pq.consdb:8080/consdb')\n",
    "print(client.schema())  # list the instruments"
   ]
  },
  {
   "cell_type": "code",
   "execution_count": null,
   "metadata": {
    "execution": {
     "iopub.execute_input": "2024-11-20T12:22:04.490498Z",
     "iopub.status.busy": "2024-11-20T12:22:04.490055Z",
     "iopub.status.idle": "2024-11-20T12:22:07.232961Z",
     "shell.execute_reply": "2024-11-20T12:22:07.232521Z",
     "shell.execute_reply.started": "2024-11-20T12:22:04.490483Z"
    }
   },
   "outputs": [],
   "source": [
    "tz = timezone(\"Chile/Continental\")\n",
    "rubin = Observer(location=SIMONYI_LOCATION, name=\"Rubin\", timezone=tz)\n",
    "\n",
    "startDay = 20241024\n",
    "endDay = 20241119\n",
    "\n",
    "days = []\n",
    "percents = []\n",
    "dayObs = startDay\n",
    "while dayObs <= endDay:\n",
    "    query = 'SELECT exp_time, exposure_id, obs_start, obs_end '\n",
    "    query += f'from cdb_lsstcomcam.exposure where day_obs = {dayObs}'\n",
    "    data = client.query(query)\n",
    "    dayObsString = dayObsIntToString(dayObs)\n",
    "    eve_time = Time(f\"{dayObsString}T20:00:00\", scale='utc')\n",
    "    eve = rubin.twilight_evening_nautical(eve_time)\n",
    "    nextDayObs = calcNextDay(dayObs)  # find the next dayObs \n",
    "    nextDayObsString = dayObsIntToString(nextDayObs)\n",
    "    morn_time = Time(f\"{nextDayObsString}T08:00:00\", scale='utc')\n",
    "    morn = rubin.twilight_morning_nautical(morn_time)\n",
    "    data = data[data['obs_start'] > eve]\n",
    "    data = data[data['obs_end'] < morn]\n",
    "    shutter_open = np.sum(data['exp_time'])\n",
    "    total_time = (Time(data['obs_end'][-1], scale ='tai').jd - Time(data['obs_start'][0], scale='tai').jd) * 86400\n",
    "    open_percent = shutter_open / total_time * 100.0\n",
    "    #print(dayObs, open_percent)\n",
    "    days.append(Time(f\"{nextDayObsString}T00:00:00\", scale='utc').isot)\n",
    "    percents.append(open_percent)\n",
    "    dayObs = nextDayObs\n",
    "    \n",
    "time_support()\n",
    "plt.title(\"ComCam campaign shutter open percentage\", fontsize=18)\n",
    "plt.plot(Time(days, format='isot'), percents, marker='x')   \n",
    "plt.ylabel(\"Shutter open percentage\")\n",
    "plt.savefig(f\"/home/c/cslage/u/ComCam/data/Shutter_open_{endDay}.png\")"
   ]
  },
  {
   "cell_type": "code",
   "execution_count": null,
   "metadata": {},
   "outputs": [],
   "source": []
  }
 ],
 "metadata": {
  "kernelspec": {
   "display_name": "LSST",
   "language": "python",
   "name": "lsst"
  },
  "language_info": {
   "codemirror_mode": {
    "name": "ipython",
    "version": 3
   },
   "file_extension": ".py",
   "mimetype": "text/x-python",
   "name": "python",
   "nbconvert_exporter": "python",
   "pygments_lexer": "ipython3",
   "version": "3.11.9"
  }
 },
 "nbformat": 4,
 "nbformat_minor": 4
}
