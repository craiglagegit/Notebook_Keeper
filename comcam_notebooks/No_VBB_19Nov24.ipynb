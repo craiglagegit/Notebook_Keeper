{
 "cells": [
  {
   "cell_type": "markdown",
   "metadata": {},
   "source": [
    "# ComCam pointing errors\n",
    "\n",
    "Craig Lage - 14-Nov-24"
   ]
  },
  {
   "cell_type": "code",
   "execution_count": null,
   "metadata": {
    "execution": {
     "iopub.execute_input": "2024-11-19T23:05:02.783579Z",
     "iopub.status.busy": "2024-11-19T23:05:02.783253Z",
     "iopub.status.idle": "2024-11-19T23:05:08.071193Z",
     "shell.execute_reply": "2024-11-19T23:05:08.070775Z",
     "shell.execute_reply.started": "2024-11-19T23:05:02.783564Z"
    },
    "tags": []
   },
   "outputs": [],
   "source": [
    "import numpy as np\n",
    "import pickle as pkl\n",
    "import matplotlib.pyplot as plt\n",
    "from astropy.time import Time, TimeDelta\n",
    "from lsst.daf.butler import Butler\n",
    "import lsst.summit.utils.butlerUtils as butlerUtils\n",
    "from lsst.summit.utils.utils import dayObsIntToString\n",
    "from lsst.summit.utils.efdUtils import calcNextDay\n",
    "import logging\n",
    "logging.basicConfig(level='ERROR')\n",
    "\n"
   ]
  },
  {
   "cell_type": "code",
   "execution_count": null,
   "metadata": {
    "execution": {
     "iopub.execute_input": "2024-11-19T23:05:13.657029Z",
     "iopub.status.busy": "2024-11-19T23:05:13.656191Z",
     "iopub.status.idle": "2024-11-20T02:27:25.583354Z",
     "shell.execute_reply": "2024-11-20T02:27:25.582871Z",
     "shell.execute_reply.started": "2024-11-19T23:05:13.657011Z"
    },
    "jupyter": {
     "outputs_hidden": true
    }
   },
   "outputs": [],
   "source": [
    "butler = Butler('/repo/main', collections=[\"LSSTComCam/raw/all\", \"LSSTComCam/calib\"])\n",
    "instrument = 'LSSTComCam'\n",
    "no_vbbs = []\n",
    "startDay = 20210101\n",
    "endDay = 20221231\n",
    "dayObs = startDay\n",
    "while dayObs <= endDay:\n",
    "    exposureList = []\n",
    "    for record in butler.registry.queryDimensionRecords(\"exposure\", \n",
    "                where=f\"exposure.day_obs={dayObs} and instrument='LSSTComCam'\"):\n",
    "        exposureList.append([record.id, record])\n",
    "    exposureList.sort(key=lambda x: x[0])\n",
    "    print(len(exposureList))\n",
    "    for [id,record] in exposureList:\n",
    "        if record.observation_type not in ['flat']:\n",
    "            continue\n",
    "        try:\n",
    "            md = butler.get('raw.metadata', detector=2, exposure=id, instrument=instrument)\n",
    "            vbb = md['HVBIAS']\n",
    "            if vbb != 'ON':\n",
    "                print(dayObs, id)\n",
    "                no_vbbs.append([dayObs, id])\n",
    "        except:\n",
    "            continue\n",
    "\n",
    "    dayObs = calcNextDay(dayObs)\n",
    "\n",
    "len(no_vbb)"
   ]
  },
  {
   "cell_type": "code",
   "execution_count": null,
   "metadata": {
    "execution": {
     "iopub.execute_input": "2024-11-20T10:52:47.562125Z",
     "iopub.status.busy": "2024-11-20T10:52:47.561829Z",
     "iopub.status.idle": "2024-11-20T10:52:47.565306Z",
     "shell.execute_reply": "2024-11-20T10:52:47.564910Z",
     "shell.execute_reply.started": "2024-11-20T10:52:47.562110Z"
    }
   },
   "outputs": [],
   "source": [
    "len(no_vbbs)"
   ]
  },
  {
   "cell_type": "code",
   "execution_count": null,
   "metadata": {
    "execution": {
     "iopub.execute_input": "2024-11-20T10:53:01.274672Z",
     "iopub.status.busy": "2024-11-20T10:53:01.274387Z",
     "iopub.status.idle": "2024-11-20T10:53:01.278611Z",
     "shell.execute_reply": "2024-11-20T10:53:01.278242Z",
     "shell.execute_reply.started": "2024-11-20T10:53:01.274656Z"
    },
    "jupyter": {
     "outputs_hidden": true
    }
   },
   "outputs": [],
   "source": [
    "no_vbbs"
   ]
  },
  {
   "cell_type": "code",
   "execution_count": null,
   "metadata": {
    "execution": {
     "iopub.execute_input": "2024-11-20T15:48:25.343638Z",
     "iopub.status.busy": "2024-11-20T15:48:25.343321Z",
     "iopub.status.idle": "2024-11-20T15:48:25.826746Z",
     "shell.execute_reply": "2024-11-20T15:48:25.826282Z",
     "shell.execute_reply.started": "2024-11-20T15:48:25.343622Z"
    },
    "jupyter": {
     "outputs_hidden": true
    }
   },
   "outputs": [],
   "source": [
    "butler = Butler('/repo/main', collections=[\"LSSTComCam/raw/all\", \"LSSTComCam/calib\"])\n",
    "instrument = 'LSSTComCam'\n",
    "no_vbbs = []\n",
    "startDay = 20220401\n",
    "endDay = 20220701\n",
    "dayObs = startDay\n",
    "while dayObs <= endDay:\n",
    "    exposureList = []\n",
    "    for record in butler.registry.queryDimensionRecords(\"exposure\", \n",
    "                where=f\"exposure.day_obs={dayObs} and instrument='LSSTComCam'\"):\n",
    "        exposureList.append([record.id, record])\n",
    "    exposureList.sort(key=lambda x: x[0])\n",
    "    if len(exposureList) == 0:\n",
    "        dayObs = calcNextDay(dayObs)\n",
    "        continue\n",
    "    print(len(exposureList))\n",
    "    for [id,record] in exposureList:\n",
    "        if record.observation_type not in ['dark']:\n",
    "            continue\n",
    "        print(id, record.exposure_time)\n",
    "    dayObs = calcNextDay(dayObs)"
   ]
  },
  {
   "cell_type": "code",
   "execution_count": null,
   "metadata": {
    "execution": {
     "iopub.execute_input": "2024-11-20T15:44:49.997593Z",
     "iopub.status.busy": "2024-11-20T15:44:49.997048Z",
     "iopub.status.idle": "2024-11-20T15:44:50.005243Z",
     "shell.execute_reply": "2024-11-20T15:44:50.004870Z",
     "shell.execute_reply.started": "2024-11-20T15:44:49.997575Z"
    }
   },
   "outputs": [],
   "source": [
    "dayObs = 20220520\n",
    "instrument = \"LSSTComCam\"\n",
    "\n",
    "exposureList = []\n",
    "for record in butler.registry.queryDimensionRecords(\"exposure\", \n",
    "                    where=f\"exposure.day_obs={dayObs} and instrument='LSSTComCam'\"):\n",
    "    exposureList.append([record.id, record])\n",
    "exposureList.sort(key=lambda x: x[0])\n",
    "for [id,record] in exposureList:\n",
    "    print(record.id, record.observation_type, record.exposure_time, record.physical_filter)\n"
   ]
  },
  {
   "cell_type": "code",
   "execution_count": null,
   "metadata": {
    "execution": {
     "iopub.execute_input": "2024-11-20T15:06:50.160841Z",
     "iopub.status.busy": "2024-11-20T15:06:50.160530Z",
     "iopub.status.idle": "2024-11-20T15:06:50.239587Z",
     "shell.execute_reply": "2024-11-20T15:06:50.239280Z",
     "shell.execute_reply.started": "2024-11-20T15:06:50.160825Z"
    },
    "jupyter": {
     "outputs_hidden": true
    }
   },
   "outputs": [],
   "source": [
    "expId = 2022051900104\n",
    "mData = butler.get('raw.metadata', detector=2, exposure=expId, instrument=instrument)\n",
    "for key in mData.keys():\n",
    "    print(key, mData[key])"
   ]
  },
  {
   "cell_type": "code",
   "execution_count": null,
   "metadata": {},
   "outputs": [],
   "source": []
  },
  {
   "cell_type": "code",
   "execution_count": null,
   "metadata": {
    "execution": {
     "iopub.execute_input": "2024-11-20T17:31:08.389617Z",
     "iopub.status.busy": "2024-11-20T17:31:08.389002Z",
     "iopub.status.idle": "2024-11-20T17:31:08.636922Z",
     "shell.execute_reply": "2024-11-20T17:31:08.636558Z",
     "shell.execute_reply.started": "2024-11-20T17:31:08.389595Z"
    }
   },
   "outputs": [],
   "source": [
    "butler = Butler('/repo/embargo_old', collections=[\"LSSTComCam/raw/all\", \"LSSTComCam/calib\"])\n",
    "instrument = 'LSSTComCam'\n",
    "no_vbbs = []\n",
    "startDay = 20240701\n",
    "endDay = 20240809\n",
    "dayObs = startDay\n",
    "while dayObs <= endDay:\n",
    "    exposureList = []\n",
    "    for record in butler.registry.queryDimensionRecords(\"exposure\", \n",
    "                where=f\"exposure.day_obs={dayObs} and instrument='LSSTComCam'\"):\n",
    "        exposureList.append([record.id, record])\n",
    "    exposureList.sort(key=lambda x: x[0])\n",
    "    print(len(exposureList))\n",
    "    for [id,record] in exposureList:\n",
    "        if record.observation_type not in ['flat']:\n",
    "            continue\n",
    "        try:\n",
    "            md = butler.get('raw.metadata', detector=2, exposure=id, instrument=instrument)\n",
    "            vbb = md['HVBIAS']\n",
    "            if vbb != 'ON':\n",
    "                print(dayObs, id)\n",
    "                no_vbbs.append([dayObs, id])\n",
    "        except:\n",
    "            continue\n",
    "\n",
    "    dayObs = calcNextDay(dayObs)\n",
    "\n",
    "len(no_vbbs)"
   ]
  },
  {
   "cell_type": "code",
   "execution_count": null,
   "metadata": {
    "execution": {
     "iopub.execute_input": "2024-11-20T18:59:54.247460Z",
     "iopub.status.busy": "2024-11-20T18:59:54.247030Z",
     "iopub.status.idle": "2024-11-20T18:59:54.249847Z",
     "shell.execute_reply": "2024-11-20T18:59:54.249526Z",
     "shell.execute_reply.started": "2024-11-20T18:59:54.247444Z"
    }
   },
   "outputs": [],
   "source": [
    "arr= np.ones([10,10,10])\n",
    "skipx = 2\n",
    "skipz = 5\n",
    "xs = np.array(range(0, 10, skipx))\n",
    "zs = np.array(range(0, 10, skipz))"
   ]
  },
  {
   "cell_type": "code",
   "execution_count": null,
   "metadata": {
    "execution": {
     "iopub.execute_input": "2024-11-20T19:01:30.779605Z",
     "iopub.status.busy": "2024-11-20T19:01:30.779265Z",
     "iopub.status.idle": "2024-11-20T19:01:30.782133Z",
     "shell.execute_reply": "2024-11-20T19:01:30.781835Z",
     "shell.execute_reply.started": "2024-11-20T19:01:30.779592Z"
    }
   },
   "outputs": [],
   "source": [
    "tuple(zs)"
   ]
  },
  {
   "cell_type": "code",
   "execution_count": null,
   "metadata": {
    "execution": {
     "iopub.execute_input": "2024-11-20T19:04:27.291624Z",
     "iopub.status.busy": "2024-11-20T19:04:27.291275Z",
     "iopub.status.idle": "2024-11-20T19:04:27.294372Z",
     "shell.execute_reply": "2024-11-20T19:04:27.294052Z",
     "shell.execute_reply.started": "2024-11-20T19:04:27.291608Z"
    }
   },
   "outputs": [],
   "source": [
    "new_arr = arr[0:10:skipx, 5, 0:10:skipz]\n",
    "new_arr.shape"
   ]
  },
  {
   "cell_type": "code",
   "execution_count": null,
   "metadata": {
    "execution": {
     "iopub.execute_input": "2024-11-20T18:27:54.245328Z",
     "iopub.status.busy": "2024-11-20T18:27:54.245054Z",
     "iopub.status.idle": "2024-11-20T18:27:54.248220Z",
     "shell.execute_reply": "2024-11-20T18:27:54.247920Z",
     "shell.execute_reply.started": "2024-11-20T18:27:54.245313Z"
    }
   },
   "outputs": [],
   "source": [
    "my_list = [2,3, 4]\n",
    "x[my_list[0]:my_list[2]]"
   ]
  },
  {
   "cell_type": "code",
   "execution_count": null,
   "metadata": {},
   "outputs": [],
   "source": []
  }
 ],
 "metadata": {
  "kernelspec": {
   "display_name": "LSST",
   "language": "python",
   "name": "lsst"
  },
  "language_info": {
   "codemirror_mode": {
    "name": "ipython",
    "version": 3
   },
   "file_extension": ".py",
   "mimetype": "text/x-python",
   "name": "python",
   "nbconvert_exporter": "python",
   "pygments_lexer": "ipython3",
   "version": "3.11.9"
  }
 },
 "nbformat": 4,
 "nbformat_minor": 4
}
