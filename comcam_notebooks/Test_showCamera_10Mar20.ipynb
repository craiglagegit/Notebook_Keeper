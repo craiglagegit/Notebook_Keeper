{
 "cells": [
  {
   "cell_type": "markdown",
   "metadata": {},
   "source": [
    "# Notebook for testing showCamera.\n",
    "\n",
    "Initially written 09 Mar 2020 by Craig Lage."
   ]
  },
  {
   "cell_type": "code",
   "execution_count": null,
   "metadata": {},
   "outputs": [],
   "source": [
    "! eups list -s | grep lsst_distrib\n",
    "! eups list -s obs_lsst"
   ]
  },
  {
   "cell_type": "code",
   "execution_count": null,
   "metadata": {},
   "outputs": [],
   "source": [
    "from lsst.daf.persistence import Butler\n",
    "import lsst.afw.cameraGeom.utils as camGeomUtils\n",
    "import lsst.afw.display as afwDisplay\n",
    "\n",
    "REPO_DIR = '/project/cslage/ComCam/20200303/'\n",
    "butler = Butler(REPO_DIR)\n",
    "visit = 3020030300034\n",
    "\n",
    "def myCallback(im, ccd, imageSource):\n",
    "    \"\"\"Assemble the CCD image.  Just bias subtraction and gain correction\"\"\"\n",
    "    oim = camGeomUtils.rawCallback(im, ccd, imageSource,\n",
    "                                       subtractBias=True, correctGain=True)\n",
    "    return oim\n",
    "\n",
    "camera = butler.get('camera')\n",
    "disp = afwDisplay.Display(0, \"firefly\")\n",
    "disp.scale('asinh', 'zscale')\n",
    "\n",
    "dataType='raw'\n",
    "mos = camGeomUtils.showCamera(camera, \\\n",
    "                              camGeomUtils.ButlerImage(butler, dataType, visit=visit, \\\n",
    "                                                        verbose=True, callback = myCallback,\\\n",
    "                                                      background = 10000),\\\n",
    "                              binSize=16, display=disp, overlay=False, \\\n",
    "                              title=\"%d %s\" % (visit, dataType))"
   ]
  },
  {
   "cell_type": "code",
   "execution_count": null,
   "metadata": {},
   "outputs": [],
   "source": []
  }
 ],
 "metadata": {
  "kernelspec": {
   "display_name": "LSST",
   "language": "python",
   "name": "lsst"
  },
  "language_info": {
   "codemirror_mode": {
    "name": "ipython",
    "version": 3
   },
   "file_extension": ".py",
   "mimetype": "text/x-python",
   "name": "python",
   "nbconvert_exporter": "python",
   "pygments_lexer": "ipython3",
   "version": "3.8.8"
  }
 },
 "nbformat": 4,
 "nbformat_minor": 4
}
