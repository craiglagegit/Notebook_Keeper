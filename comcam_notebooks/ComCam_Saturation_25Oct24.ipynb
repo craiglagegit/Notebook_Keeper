{
 "cells": [
  {
   "cell_type": "markdown",
   "metadata": {},
   "source": [
    "## ComCam Max signal per detector\n",
    "Craig Lage - 25-Oct-24"
   ]
  },
  {
   "cell_type": "code",
   "execution_count": null,
   "metadata": {
    "execution": {
     "iopub.execute_input": "2024-10-25T18:25:11.696925Z",
     "iopub.status.busy": "2024-10-25T18:25:11.696620Z",
     "iopub.status.idle": "2024-10-25T18:25:12.778569Z",
     "shell.execute_reply": "2024-10-25T18:25:12.778192Z",
     "shell.execute_reply.started": "2024-10-25T18:25:11.696907Z"
    },
    "tags": []
   },
   "outputs": [],
   "source": [
    "import numpy as np\n",
    "import matplotlib.pyplot as plt\n",
    "from lsst.daf.butler import Butler"
   ]
  },
  {
   "cell_type": "code",
   "execution_count": null,
   "metadata": {
    "execution": {
     "iopub.execute_input": "2024-10-25T18:25:13.422144Z",
     "iopub.status.busy": "2024-10-25T18:25:13.421493Z",
     "iopub.status.idle": "2024-10-25T18:25:13.992937Z",
     "shell.execute_reply": "2024-10-25T18:25:13.992377Z",
     "shell.execute_reply.started": "2024-10-25T18:25:13.422118Z"
    },
    "tags": []
   },
   "outputs": [],
   "source": [
    "instrument = 'LSSTComCam'\n",
    "butler = Butler('/repo/embargo_new', collections=[\"LSSTComCam/raw/all\", \"LSSTComCam/calib\", \"LSSTComCam/nightlyValidation\"])"
   ]
  },
  {
   "cell_type": "code",
   "execution_count": null,
   "metadata": {
    "execution": {
     "iopub.execute_input": "2024-10-25T18:27:12.252445Z",
     "iopub.status.busy": "2024-10-25T18:27:12.252108Z",
     "iopub.status.idle": "2024-10-25T18:28:19.331778Z",
     "shell.execute_reply": "2024-10-25T18:28:19.331313Z",
     "shell.execute_reply.started": "2024-10-25T18:27:12.252426Z"
    }
   },
   "outputs": [],
   "source": [
    "max_signals = np.zeros([9])\n",
    "for detector in range(9):\n",
    "    for expId in range (2024102400124, 2024102400133):\n",
    "        exp = butler.get('postISRCCD', detector=detector, exposure=expId, instrument=instrument)\n",
    "        max_signal = np.nanmax(exp.image.array)\n",
    "        print(detector, expId, max_signal)\n",
    "        max_signals[detector] = max(max_signals[detector], max_signal)\n",
    "        \n"
   ]
  }
 ],
 "metadata": {
  "kernelspec": {
   "display_name": "LSST",
   "language": "python",
   "name": "lsst"
  },
  "language_info": {
   "codemirror_mode": {
    "name": "ipython",
    "version": 3
   },
   "file_extension": ".py",
   "mimetype": "text/x-python",
   "name": "python",
   "nbconvert_exporter": "python",
   "pygments_lexer": "ipython3",
   "version": "3.11.9"
  }
 },
 "nbformat": 4,
 "nbformat_minor": 4
}
