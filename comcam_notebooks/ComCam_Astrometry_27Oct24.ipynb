{
 "cells": [
  {
   "cell_type": "markdown",
   "metadata": {},
   "source": [
    "## ComCam Astrometry\n",
    "\n",
    "Finding an a.net solution for one of the first images\n",
    "Craig Lage - 25-Oct-24"
   ]
  },
  {
   "cell_type": "code",
   "execution_count": null,
   "metadata": {
    "execution": {
     "iopub.execute_input": "2024-10-29T23:01:29.831236Z",
     "iopub.status.busy": "2024-10-29T23:01:29.831002Z",
     "iopub.status.idle": "2024-10-29T23:01:29.834595Z",
     "shell.execute_reply": "2024-10-29T23:01:29.834214Z",
     "shell.execute_reply.started": "2024-10-29T23:01:29.831222Z"
    },
    "tags": []
   },
   "outputs": [],
   "source": [
    "import numpy as np\n",
    "import matplotlib.pyplot as plt\n",
    "import astropy.io.fits as pf\n",
    "from lsst.daf.butler import Butler\n",
    "from lsst.ip.isr import IsrTask, IsrTaskConfig\n",
    "from lsst.summit.utils.plotting import plot\n",
    "import lsst.afw.cameraGeom.utils as camGeomUtils\n",
    "\n",
    "from astropy.time import Time, TimeDelta\n",
    "from astropy.coordinates import AltAz, ICRS, EarthLocation, Angle, FK5\n",
    "import astropy.units as u\n",
    "from astropy.table import Table\n",
    "from astroquery.astrometry_net import AstrometryNet\n",
    "from lsst.pipe.tasks.characterizeImage import CharacterizeImageTask, CharacterizeImageConfig"
   ]
  },
  {
   "cell_type": "code",
   "execution_count": null,
   "metadata": {
    "execution": {
     "iopub.execute_input": "2024-10-29T23:01:30.757558Z",
     "iopub.status.busy": "2024-10-29T23:01:30.757044Z",
     "iopub.status.idle": "2024-10-29T23:01:30.955676Z",
     "shell.execute_reply": "2024-10-29T23:01:30.955307Z",
     "shell.execute_reply.started": "2024-10-29T23:01:30.757541Z"
    },
    "tags": []
   },
   "outputs": [],
   "source": [
    "butler = Butler('/repo/embargo_new', collections=[\"LSSTComCam/raw/all\", \"LSSTComCam/calib\", \"LSSTComCam/nightlyValidation\"])"
   ]
  },
  {
   "cell_type": "markdown",
   "metadata": {},
   "source": [
    "## Get the postISRCCD data"
   ]
  },
  {
   "cell_type": "code",
   "execution_count": null,
   "metadata": {
    "execution": {
     "iopub.execute_input": "2024-10-27T10:11:01.374836Z",
     "iopub.status.busy": "2024-10-27T10:11:01.374535Z",
     "iopub.status.idle": "2024-10-27T10:11:04.669866Z",
     "shell.execute_reply": "2024-10-27T10:11:04.669361Z",
     "shell.execute_reply.started": "2024-10-27T10:11:01.374809Z"
    },
    "tags": []
   },
   "outputs": [],
   "source": [
    "expId = 2024102600106\n",
    "instrument = 'LSSTComCam'\n",
    "exp = butler.get('postISRCCD', detector=4, exposure=expId, instrument=instrument)\n",
    "%matplotlib inline\n",
    "x = plot(exp, stretch='ccs')\n",
    "x.axes[0].set_title(f\"ComCam {expId} Det 4\", fontsize=18)\n",
    "plt.savefig(f\"/home/c/cslage/u/ComCam/images/ComCam_postISRCD_{expId}.png\")"
   ]
  },
  {
   "cell_type": "markdown",
   "metadata": {
    "execution": {
     "iopub.execute_input": "2024-07-10T18:10:52.234053Z",
     "iopub.status.busy": "2024-07-10T18:10:52.233642Z",
     "iopub.status.idle": "2024-07-10T18:10:52.238254Z",
     "shell.execute_reply": "2024-07-10T18:10:52.237362Z",
     "shell.execute_reply.started": "2024-07-10T18:10:52.234022Z"
    }
   },
   "source": [
    "# Find the sources"
   ]
  },
  {
   "cell_type": "code",
   "execution_count": null,
   "metadata": {
    "execution": {
     "iopub.execute_input": "2024-10-27T10:12:11.405783Z",
     "iopub.status.busy": "2024-10-27T10:12:11.405482Z",
     "iopub.status.idle": "2024-10-27T10:12:19.836757Z",
     "shell.execute_reply": "2024-10-27T10:12:19.836324Z",
     "shell.execute_reply.started": "2024-10-27T10:12:11.405767Z"
    },
    "jupyter": {
     "outputs_hidden": true
    }
   },
   "outputs": [],
   "source": [
    "charConfig = CharacterizeImageConfig()\n",
    "charConfig.doMeasurePsf = True\n",
    "charConfig.doApCorr = False\n",
    "charConfig.doDeblend = False\n",
    "charConfig.repair.doCosmicRay = False\n",
    "charConfig.repair.doInterpolate = True   \n",
    "charConfig.detection.minPixels = 500\n",
    "charTask = CharacterizeImageTask(config=charConfig)\n",
    "\n",
    "mData = exp.getMetadata()\n",
    "charResult = charTask.run(exp)\n",
    "sourceCatalog = charResult.sourceCat\n"
   ]
  },
  {
   "cell_type": "code",
   "execution_count": null,
   "metadata": {
    "execution": {
     "iopub.execute_input": "2024-10-27T10:12:28.441169Z",
     "iopub.status.busy": "2024-10-27T10:12:28.440858Z",
     "iopub.status.idle": "2024-10-27T10:12:28.462786Z",
     "shell.execute_reply": "2024-10-27T10:12:28.462360Z",
     "shell.execute_reply.started": "2024-10-27T10:12:28.441154Z"
    }
   },
   "outputs": [],
   "source": [
    "sources = sourceCatalog.asAstropy()\n",
    "sources.keep_columns(['base_SdssCentroid_x', 'base_SdssCentroid_y', 'base_CircularApertureFlux_3_0_instFlux'])\n",
    "sources.sort('base_CircularApertureFlux_3_0_instFlux', reverse=True)\n",
    "len(sources)"
   ]
  },
  {
   "cell_type": "code",
   "execution_count": null,
   "metadata": {
    "execution": {
     "iopub.execute_input": "2024-10-27T10:12:32.022813Z",
     "iopub.status.busy": "2024-10-27T10:12:32.022453Z",
     "iopub.status.idle": "2024-10-27T10:12:32.025360Z",
     "shell.execute_reply": "2024-10-27T10:12:32.025023Z",
     "shell.execute_reply.started": "2024-10-27T10:12:32.022788Z"
    }
   },
   "outputs": [],
   "source": [
    "ast = AstrometryNet()\n",
    "ast.api_key = 'xxawwhvleirxcswx'"
   ]
  },
  {
   "cell_type": "code",
   "execution_count": null,
   "metadata": {
    "execution": {
     "iopub.execute_input": "2024-10-27T10:12:40.585184Z",
     "iopub.status.busy": "2024-10-27T10:12:40.584880Z",
     "iopub.status.idle": "2024-10-27T10:12:51.741691Z",
     "shell.execute_reply": "2024-10-27T10:12:51.741194Z",
     "shell.execute_reply.started": "2024-10-27T10:12:40.585169Z"
    }
   },
   "outputs": [],
   "source": [
    "image_width = 4072\n",
    "image_height = 4000\n",
    "scale_units = 'arcsecperpix'\n",
    "scale_type='ev' # ev means submit estimate and % error\n",
    "scale_est = 0.20\n",
    "scale_err = 2.0\n",
    "center_ra = mData['RA']\n",
    "center_dec = mData['DEC']\n",
    "radius = 0.5\n",
    "wcs_header = ast.solve_from_source_list(sources['base_SdssCentroid_x'], sources['base_SdssCentroid_y'],\n",
    "                                        image_width, image_height, scale_units=scale_units,\n",
    "                                        scale_type=scale_type, scale_est=scale_est, scale_err=scale_err,\n",
    "                                        center_ra=center_ra, center_dec=center_dec, radius=radius,\n",
    "                                        crpix_center=True, solve_timeout=240)"
   ]
  },
  {
   "cell_type": "code",
   "execution_count": null,
   "metadata": {
    "execution": {
     "iopub.execute_input": "2024-10-27T10:13:24.130576Z",
     "iopub.status.busy": "2024-10-27T10:13:24.130261Z",
     "iopub.status.idle": "2024-10-27T10:13:24.134874Z",
     "shell.execute_reply": "2024-10-27T10:13:24.134482Z",
     "shell.execute_reply.started": "2024-10-27T10:13:24.130562Z"
    },
    "jupyter": {
     "outputs_hidden": true
    }
   },
   "outputs": [],
   "source": [
    "wcs_header"
   ]
  },
  {
   "cell_type": "code",
   "execution_count": null,
   "metadata": {
    "execution": {
     "iopub.execute_input": "2024-10-27T10:13:41.288635Z",
     "iopub.status.busy": "2024-10-27T10:13:41.288337Z",
     "iopub.status.idle": "2024-10-27T10:13:41.292078Z",
     "shell.execute_reply": "2024-10-27T10:13:41.291629Z",
     "shell.execute_reply.started": "2024-10-27T10:13:41.288621Z"
    }
   },
   "outputs": [],
   "source": [
    "print(f\"Header center RA = {mData['RA']:.5f}, Anet center RA = {wcs_header['CRVAL1']:.5f}\")\n",
    "print(f\"Header center Dec = {mData['DEC']:.5f}, Anet center Dec = {wcs_header['CRVAL2']:.5f}\")"
   ]
  },
  {
   "cell_type": "code",
   "execution_count": null,
   "metadata": {
    "execution": {
     "iopub.execute_input": "2024-10-27T10:13:48.480946Z",
     "iopub.status.busy": "2024-10-27T10:13:48.480636Z",
     "iopub.status.idle": "2024-10-27T10:13:48.484245Z",
     "shell.execute_reply": "2024-10-27T10:13:48.483803Z",
     "shell.execute_reply.started": "2024-10-27T10:13:48.480926Z"
    }
   },
   "outputs": [],
   "source": [
    "RA_error = (wcs_header['CRVAL1'] - mData['RA']) * 3600.0\n",
    "Dec_error = (wcs_header['CRVAL2'] - mData['DEC']) * 3600.0\n",
    "print(f\"RA error = {RA_error:.1f} arcsec, Dec error = {Dec_error:.1f} arcsec\")"
   ]
  },
  {
   "cell_type": "code",
   "execution_count": null,
   "metadata": {
    "execution": {
     "iopub.execute_input": "2024-10-27T11:25:59.332147Z",
     "iopub.status.busy": "2024-10-27T11:25:59.331704Z",
     "iopub.status.idle": "2024-10-27T11:25:59.335032Z",
     "shell.execute_reply": "2024-10-27T11:25:59.334605Z",
     "shell.execute_reply.started": "2024-10-27T11:25:59.332132Z"
    }
   },
   "outputs": [],
   "source": [
    "140/3600"
   ]
  },
  {
   "cell_type": "code",
   "execution_count": null,
   "metadata": {
    "execution": {
     "iopub.execute_input": "2024-10-27T10:14:10.891015Z",
     "iopub.status.busy": "2024-10-27T10:14:10.890697Z",
     "iopub.status.idle": "2024-10-27T10:14:13.264415Z",
     "shell.execute_reply": "2024-10-27T10:14:13.264011Z",
     "shell.execute_reply.started": "2024-10-27T10:14:10.891001Z"
    }
   },
   "outputs": [],
   "source": [
    "x = plot(exp, stretch='ccs')\n",
    "text1 = f\"Header center RA = {mData['RA']:.5f}, Anet center RA = {wcs_header['CRVAL1']:.5f}\"\n",
    "text2 = f\"Header center Dec = {mData['DEC']:.5f}, Anet center Dec = {wcs_header['CRVAL2']:.5f}\"\n",
    "RA_error = (wcs_header['CRVAL1'] - mData['RA']) * 3600.0\n",
    "Dec_error = (wcs_header['CRVAL2'] - mData['DEC']) * 3600.0\n",
    "text3 = f\"RA error = {RA_error:.1f} arcsec, Dec error = {Dec_error:.1f} arcsec\"\n",
    "x.axes[0].text(800,1800, text1, color=\"cyan\", fontsize=12, weight='bold')\n",
    "x.axes[0].text(800,1600, text2, color=\"cyan\", fontsize=12, weight='bold')\n",
    "x.axes[0].text(800,1400, text3, color=\"cyan\", fontsize=12, weight='bold')\n",
    "x.axes[0].set_title(f\"ComCam Astrometry {expId}\", fontsize=24)\n",
    "plt.savefig(f\"/home/c/cslage/u/ComCam/images/ComCam_Astrometry{expId}.png\")"
   ]
  },
  {
   "cell_type": "code",
   "execution_count": null,
   "metadata": {
    "execution": {
     "iopub.execute_input": "2024-10-27T10:31:23.132778Z",
     "iopub.status.busy": "2024-10-27T10:31:23.132202Z",
     "iopub.status.idle": "2024-10-27T10:31:23.140655Z",
     "shell.execute_reply": "2024-10-27T10:31:23.140178Z",
     "shell.execute_reply.started": "2024-10-27T10:31:23.132763Z"
    },
    "jupyter": {
     "outputs_hidden": true
    }
   },
   "outputs": [],
   "source": [
    "for key in mData.keys():\n",
    "    print(key, mData[key])"
   ]
  },
  {
   "cell_type": "code",
   "execution_count": null,
   "metadata": {
    "execution": {
     "iopub.execute_input": "2024-10-27T10:33:21.668794Z",
     "iopub.status.busy": "2024-10-27T10:33:21.668272Z",
     "iopub.status.idle": "2024-10-27T10:33:21.672220Z",
     "shell.execute_reply": "2024-10-27T10:33:21.671842Z",
     "shell.execute_reply.started": "2024-10-27T10:33:21.668779Z"
    }
   },
   "outputs": [],
   "source": [
    "exp.getWcs()"
   ]
  },
  {
   "cell_type": "code",
   "execution_count": null,
   "metadata": {},
   "outputs": [],
   "source": []
  },
  {
   "cell_type": "code",
   "execution_count": null,
   "metadata": {},
   "outputs": [],
   "source": []
  },
  {
   "cell_type": "code",
   "execution_count": null,
   "metadata": {},
   "outputs": [],
   "source": []
  },
  {
   "cell_type": "code",
   "execution_count": null,
   "metadata": {
    "execution": {
     "iopub.execute_input": "2024-10-29T23:12:24.559268Z",
     "iopub.status.busy": "2024-10-29T23:12:24.559037Z",
     "iopub.status.idle": "2024-10-29T23:12:29.267980Z",
     "shell.execute_reply": "2024-10-29T23:12:29.267622Z",
     "shell.execute_reply.started": "2024-10-29T23:12:24.559253Z"
    },
    "tags": []
   },
   "outputs": [],
   "source": [
    "expId = 2024102600179\n",
    "instrument = 'LSSTComCam'\n",
    "exp = butler.get('postISRCCD', detector=4, exposure=expId, instrument=instrument)\n",
    "%matplotlib inline\n",
    "x1=plot(exp, stretch='ccs')\n",
    "x1.axes[0].set_title(f\"ComCam {expId} Det 4\", fontsize=18)\n",
    "expId = 2024102600197\n",
    "instrument = 'LSSTComCam'\n",
    "exp = butler.get('postISRCCD', detector=4, exposure=expId, instrument=instrument)\n",
    "%matplotlib inline\n",
    "x2=plot(exp, stretch='ccs')\n",
    "x2.axes[0].set_title(f\"ComCam {expId} Det 4\", fontsize=18)\n",
    "#plt.savefig(f\"/home/c/cslage/u/ComCam/images/ComCam_postISRCD_{expId}.png\")"
   ]
  },
  {
   "cell_type": "markdown",
   "metadata": {
    "execution": {
     "iopub.execute_input": "2024-07-10T18:10:52.234053Z",
     "iopub.status.busy": "2024-07-10T18:10:52.233642Z",
     "iopub.status.idle": "2024-07-10T18:10:52.238254Z",
     "shell.execute_reply": "2024-07-10T18:10:52.237362Z",
     "shell.execute_reply.started": "2024-07-10T18:10:52.234022Z"
    }
   },
   "source": [
    "# Find the sources"
   ]
  },
  {
   "cell_type": "code",
   "execution_count": null,
   "metadata": {
    "execution": {
     "iopub.execute_input": "2024-10-30T00:35:45.753660Z",
     "iopub.status.busy": "2024-10-30T00:35:45.753366Z",
     "iopub.status.idle": "2024-10-30T00:35:51.050791Z",
     "shell.execute_reply": "2024-10-30T00:35:51.050369Z",
     "shell.execute_reply.started": "2024-10-30T00:35:45.753644Z"
    }
   },
   "outputs": [],
   "source": [
    "expId = 2024102600183\n",
    "instrument = 'LSSTComCam'\n",
    "exp = butler.get('postISRCCD', detector=4, exposure=expId, instrument=instrument)\n",
    "\n",
    "charConfig = CharacterizeImageConfig()\n",
    "charConfig.doMeasurePsf = False\n",
    "charConfig.doApCorr = False\n",
    "charConfig.doDeblend = False\n",
    "charConfig.repair.doCosmicRay = False\n",
    "charConfig.repair.doInterpolate = False   \n",
    "charConfig.detection.minPixels = 10000\n",
    "charConfig.doNormalizedCalibration=False\n",
    "charTask = CharacterizeImageTask(config=charConfig)\n",
    "\n",
    "mData = exp.getMetadata()\n",
    "charResult = charTask.run(exp)\n",
    "sourceCatalog = charResult.sourceCat\n"
   ]
  },
  {
   "cell_type": "code",
   "execution_count": null,
   "metadata": {
    "execution": {
     "iopub.execute_input": "2024-10-30T00:35:52.804047Z",
     "iopub.status.busy": "2024-10-30T00:35:52.803725Z",
     "iopub.status.idle": "2024-10-30T00:35:52.825638Z",
     "shell.execute_reply": "2024-10-30T00:35:52.825278Z",
     "shell.execute_reply.started": "2024-10-30T00:35:52.804029Z"
    }
   },
   "outputs": [],
   "source": [
    "sources = sourceCatalog.asAstropy()\n",
    "sources.keep_columns(['base_SdssCentroid_x', 'base_SdssCentroid_y', 'base_CircularApertureFlux_3_0_instFlux'])\n",
    "sources.sort('base_CircularApertureFlux_3_0_instFlux', reverse=True)\n",
    "len(sources)"
   ]
  },
  {
   "cell_type": "code",
   "execution_count": null,
   "metadata": {
    "execution": {
     "iopub.execute_input": "2024-10-29T23:23:55.266168Z",
     "iopub.status.busy": "2024-10-29T23:23:55.265852Z",
     "iopub.status.idle": "2024-10-29T23:23:55.268787Z",
     "shell.execute_reply": "2024-10-29T23:23:55.268493Z",
     "shell.execute_reply.started": "2024-10-29T23:23:55.266154Z"
    }
   },
   "outputs": [],
   "source": []
  },
  {
   "cell_type": "code",
   "execution_count": null,
   "metadata": {
    "execution": {
     "iopub.execute_input": "2024-10-30T00:36:15.532011Z",
     "iopub.status.busy": "2024-10-30T00:36:15.531693Z",
     "iopub.status.idle": "2024-10-30T00:36:15.537122Z",
     "shell.execute_reply": "2024-10-30T00:36:15.536683Z",
     "shell.execute_reply.started": "2024-10-30T00:36:15.531996Z"
    }
   },
   "outputs": [],
   "source": [
    "def plotStamp(sources, index):\n",
    "    stamp1 = 250\n",
    "    x11 = int(sources[index]['base_SdssCentroid_x']) - stamp1\n",
    "    x21 = int(sources[index]['base_SdssCentroid_x']) + stamp1\n",
    "    y11 = int(sources[index]['base_SdssCentroid_y']) - stamp1\n",
    "    y21 = int(sources[index]['base_SdssCentroid_y']) + stamp1\n",
    "    \n",
    "    first = exp.image.array[y11:y21,x11:x21]\n",
    "    first -= np.median(first)    \n",
    "\n",
    "    sumx = 0.0\n",
    "    sumy = 0.0\n",
    "    for i in range(first.shape[0]):\n",
    "        for j in range(first.shape[1]):\n",
    "            sumx += i * first[i,j]\n",
    "            sumy += j * first[i,j]\n",
    "    sumx /= np.sum(first)\n",
    "    sumy /= np.sum(first)\n",
    "    stamp2 = 120\n",
    "    x12 = int(sumx-stamp2)\n",
    "    x22 = int(sumx+stamp2)\n",
    "    y12 = int(sumy-stamp2)\n",
    "    y22 = int(sumy+stamp2)\n",
    "    \n",
    "    second = first[x12:x22, y12:y22]\n",
    "    plt.imshow(test2)\n",
    "    #plt.colorbar()\n",
    "    return\n"
   ]
  },
  {
   "cell_type": "code",
   "execution_count": null,
   "metadata": {
    "execution": {
     "iopub.execute_input": "2024-10-30T00:36:18.291976Z",
     "iopub.status.busy": "2024-10-30T00:36:18.291692Z",
     "iopub.status.idle": "2024-10-30T00:36:19.199663Z",
     "shell.execute_reply": "2024-10-30T00:36:19.199225Z",
     "shell.execute_reply.started": "2024-10-30T00:36:18.291961Z"
    }
   },
   "outputs": [],
   "source": [
    "plotStamp(sources, 0)"
   ]
  },
  {
   "cell_type": "code",
   "execution_count": null,
   "metadata": {},
   "outputs": [],
   "source": []
  }
 ],
 "metadata": {
  "kernelspec": {
   "display_name": "LSST",
   "language": "python",
   "name": "lsst"
  },
  "language_info": {
   "codemirror_mode": {
    "name": "ipython",
    "version": 3
   },
   "file_extension": ".py",
   "mimetype": "text/x-python",
   "name": "python",
   "nbconvert_exporter": "python",
   "pygments_lexer": "ipython3",
   "version": "3.11.9"
  }
 },
 "nbformat": 4,
 "nbformat_minor": 4
}
