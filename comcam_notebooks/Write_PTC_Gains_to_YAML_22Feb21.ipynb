{
 "cells": [
  {
   "cell_type": "markdown",
   "metadata": {},
   "source": [
    "# Notebook for taking gains extracted from PTC and writing them to a yaml file.\n",
    "\n",
    "Initially written 09 Mar 2020 by Craig Lage.\\\n",
    "Updated 18 Mar 20 to use empirical read noise"
   ]
  },
  {
   "cell_type": "code",
   "execution_count": null,
   "metadata": {},
   "outputs": [],
   "source": [
    "! eups list -s | grep lsst_distrib\n",
    "! eups list -s obs_lsst"
   ]
  },
  {
   "cell_type": "code",
   "execution_count": null,
   "metadata": {},
   "outputs": [],
   "source": [
    "from lsst.daf.persistence import Butler\n",
    "import sys, os, glob\n",
    "import pickle as pkl\n",
    "import numpy as np\n",
    "import matplotlib.pyplot as plt\n",
    "import astropy.io.fits as pf\n",
    "from lsst.ip.isr import PhotonTransferCurveDataset"
   ]
  },
  {
   "cell_type": "code",
   "execution_count": null,
   "metadata": {
    "jupyter": {
     "outputs_hidden": true
    }
   },
   "outputs": [],
   "source": [
    "REPO_DIR = '/project/shared/comCam-CCS'\n",
    "GAIN_DIR = '/project/shared/comCam-CCS/rerun/cslage/PTC_2020-12-29/'\n",
    "NOISE_DIR = '/project/cslage/ComCam/noise/'\n",
    "raftName = 'R22'\n",
    "butler = Butler(REPO_DIR)\n",
    "visit = 3020030300034\n"
   ]
  },
  {
   "cell_type": "code",
   "execution_count": null,
   "metadata": {},
   "outputs": [],
   "source": [
    "numCCDs = 9\n",
    "numAmps = 16\n",
    "# Get the yaml file\n",
    "file = open('/home/cslage/alternate_branches/obs_lsst/policy/comCam/R22.yaml', 'r')\n",
    "lines = file.readlines()\n",
    "file.close()\n",
    "\n",
    "\n",
    "file = open('/home/cslage/alternate_branches/obs_lsst/policy/comCam/test.yaml', 'w')\n",
    "# First, copy the header lines from the old file\n",
    "for i in range(15):\n",
    "    file.write(lines[i])\n",
    "\n",
    "# Now loop through the detectors, correcting the gain and noise\n",
    "for detector in range(numCCDs):\n",
    "    # Get the empirical read noise file\n",
    "    noise_filename = NOISE_DIR + 'empirical_read_noise_%d_18mar21.out'%detector\n",
    "    noise_file = open(noise_filename, 'r')\n",
    "    noise_lines = noise_file.readlines()\n",
    "    noise_file.close()\n",
    "\n",
    "    # Get the gain/noise data\n",
    "    datasetFile = GAIN_DIR+'/calibrations/ptc/ptcDataset-det%03d.fits'%detector\n",
    "    #ptc_data = PhotonTransferCurveDataset.readFits(datasetFile)\n",
    "    hdulist = pf.open(datasetFile, mode='readonly', do_not_scale_image_data=True)\n",
    "    data=hdulist[1].data\n",
    "\n",
    "    gain_data = data['GAIN']\n",
    "    old_noise_data = data['NOISE']\n",
    "    ampName_data = data['AMPLIFIER_NAME']\n",
    "    raw = butler.get('raw', detector=detector, visit=visit)\n",
    "    ccd = raw.getDetector()\n",
    "    ccdName = ccd.getName()\n",
    "    newLine = '    %s :\\n'%ccdName.split('_')[1]\n",
    "    file.write(newLine)\n",
    "    for amp in ccd:\n",
    "        ampName = amp.getName()\n",
    "        noise = 0.0\n",
    "        numNoises = 0\n",
    "        for line in noise_lines:\n",
    "            items = line.split(' ')\n",
    "            thisAmpName = items[-2].strip(':')\n",
    "            if ampName == thisAmpName:\n",
    "                noise += float(items[-1].rstrip().strip('.'))\n",
    "                numNoises += 1\n",
    "        newNoise = noise / float(numNoises)\n",
    "\n",
    "        for i in range(16):\n",
    "            fitsAmpName = ampName_data[i]\n",
    "            newGain = gain_data[i]\n",
    "            oldNoise = old_noise_data[i]\n",
    "            if fitsAmpName == ampName:\n",
    "                print(detector, ampName, newNoise, oldNoise)\n",
    "                newLine = '      %s : { gain : %.4f, readNoise : %.1f }\\n'%(ampName, newGain, newNoise)\n",
    "                file.write(newLine)\n",
    "file.close()\n"
   ]
  },
  {
   "cell_type": "code",
   "execution_count": null,
   "metadata": {},
   "outputs": [],
   "source": []
  },
  {
   "cell_type": "code",
   "execution_count": null,
   "metadata": {},
   "outputs": [],
   "source": []
  }
 ],
 "metadata": {
  "jupytext": {
   "formats": "ipynb,markdown//md"
  },
  "kernelspec": {
   "display_name": "LSST",
   "language": "python",
   "name": "lsst"
  },
  "language_info": {
   "codemirror_mode": {
    "name": "ipython",
    "version": 3
   },
   "file_extension": ".py",
   "mimetype": "text/x-python",
   "name": "python",
   "nbconvert_exporter": "python",
   "pygments_lexer": "ipython3",
   "version": "3.10.4"
  }
 },
 "nbformat": 4,
 "nbformat_minor": 4
}
