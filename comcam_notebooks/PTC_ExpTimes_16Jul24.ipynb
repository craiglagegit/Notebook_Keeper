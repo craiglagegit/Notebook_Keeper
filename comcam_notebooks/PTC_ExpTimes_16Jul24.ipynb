{
 "cells": [
  {
   "cell_type": "markdown",
   "id": "13d452c7-a9ce-4826-b36d-00370d8d1731",
   "metadata": {},
   "source": [
    "## Calculating ComCam PTC exposure times \n",
    "\n",
    "Craig Lage 16Jul24"
   ]
  },
  {
   "cell_type": "code",
   "execution_count": null,
   "id": "02bf9f62-bd7c-4494-9ea4-4ba422e63eaf",
   "metadata": {
    "execution": {
     "iopub.execute_input": "2024-07-22T20:21:42.805728Z",
     "iopub.status.busy": "2024-07-22T20:21:42.805197Z",
     "iopub.status.idle": "2024-07-22T20:21:43.026497Z",
     "shell.execute_reply": "2024-07-22T20:21:43.026053Z",
     "shell.execute_reply.started": "2024-07-22T20:21:42.805713Z"
    },
    "tags": []
   },
   "outputs": [],
   "source": [
    "import numpy as np\n",
    "import matplotlib.pyplot as plt\n",
    "import random"
   ]
  },
  {
   "cell_type": "code",
   "execution_count": null,
   "id": "a7cb9916-c9cd-4200-b998-3b115ce23a75",
   "metadata": {
    "execution": {
     "iopub.execute_input": "2024-07-22T20:21:44.478831Z",
     "iopub.status.busy": "2024-07-22T20:21:44.478287Z",
     "iopub.status.idle": "2024-07-22T20:21:44.482139Z",
     "shell.execute_reply": "2024-07-22T20:21:44.481722Z",
     "shell.execute_reply.started": "2024-07-22T20:21:44.478818Z"
    },
    "tags": []
   },
   "outputs": [],
   "source": [
    "ADU_per_sec = 24000/10.0\n",
    "gain = 1.35\n",
    "\n",
    "minEl = ADU_per_sec * gain * 0.2\n",
    "maxEl = 200000.0\n",
    "nFlats = 100\n",
    "\n",
    "logElectrons = np.linspace(np.log10(minEl), np.log10(maxEl), nFlats)\n",
    "random.shuffle(logElectrons)\n",
    "comcamTimes = []\n",
    "for logEl in logElectrons:\n",
    "    time = 10**logEl / gain / ADU_per_sec\n",
    "    time = round(time * 100.0) / 100.0\n",
    "    comcamTimes.append(time)\n",
    "    comcamTimes.append(time)"
   ]
  },
  {
   "cell_type": "code",
   "execution_count": null,
   "id": "9ee7e94a-59c9-4c4d-b8da-d6b74ac8d722",
   "metadata": {
    "execution": {
     "iopub.execute_input": "2024-07-22T20:21:47.298645Z",
     "iopub.status.busy": "2024-07-22T20:21:47.298016Z",
     "iopub.status.idle": "2024-07-22T20:21:47.301230Z",
     "shell.execute_reply": "2024-07-22T20:21:47.300829Z",
     "shell.execute_reply.started": "2024-07-22T20:21:47.298626Z"
    },
    "tags": []
   },
   "outputs": [],
   "source": [
    "print(comcamTimes)"
   ]
  },
  {
   "cell_type": "code",
   "execution_count": null,
   "id": "9d052b39-e5b8-4ce2-bb2f-3146aa958282",
   "metadata": {
    "execution": {
     "iopub.execute_input": "2024-07-16T20:32:18.922719Z",
     "iopub.status.busy": "2024-07-16T20:32:18.922547Z",
     "iopub.status.idle": "2024-07-16T20:32:18.925509Z",
     "shell.execute_reply": "2024-07-16T20:32:18.925147Z",
     "shell.execute_reply.started": "2024-07-16T20:32:18.922708Z"
    },
    "tags": []
   },
   "outputs": [],
   "source": [
    "totalTime = 0.0\n",
    "for time in comcamTimes:\n",
    "    totalTime += 2.0 * (time + 3.0)\n",
    "print(f\"Total time = {totalTime / 60.0:.1f} minutes\")"
   ]
  },
  {
   "cell_type": "code",
   "execution_count": null,
   "id": "34435294-a18d-4874-b870-ff93e23c54ee",
   "metadata": {
    "execution": {
     "iopub.execute_input": "2024-07-16T20:32:27.191357Z",
     "iopub.status.busy": "2024-07-16T20:32:27.191184Z",
     "iopub.status.idle": "2024-07-16T20:32:27.342520Z",
     "shell.execute_reply": "2024-07-16T20:32:27.342151Z",
     "shell.execute_reply.started": "2024-07-16T20:32:27.191346Z"
    },
    "tags": []
   },
   "outputs": [],
   "source": [
    "xaxis = np.linspace(1, len(comcamTimes), len(comcamTimes))\n",
    "plt.title(\"Proposed ComCam PTC Exposure times\")\n",
    "plt.scatter(xaxis, np.log10(np.array(comcamTimes)))\n",
    "plt.ylabel(\"Log10 Exposure times (sec)\")\n",
    "plt.xlabel(\"Exposure number (unshuffled)\")\n",
    "plt.savefig(\"/home/c/cslage/u/ComCam/gains/Proposed_ExpTimes_16Jul24.png\")"
   ]
  },
  {
   "cell_type": "code",
   "execution_count": null,
   "id": "d9924ff8-4848-4953-bb3d-4b91a5fea1f5",
   "metadata": {},
   "outputs": [],
   "source": []
  }
 ],
 "metadata": {
  "kernelspec": {
   "display_name": "LSST",
   "language": "python",
   "name": "lsst"
  },
  "language_info": {
   "codemirror_mode": {
    "name": "ipython",
    "version": 3
   },
   "file_extension": ".py",
   "mimetype": "text/x-python",
   "name": "python",
   "nbconvert_exporter": "python",
   "pygments_lexer": "ipython3",
   "version": "3.11.9"
  }
 },
 "nbformat": 4,
 "nbformat_minor": 5
}
