{
 "cells": [
  {
   "cell_type": "markdown",
   "metadata": {},
   "source": [
    "# Notebook for ingesting ComCam pinhole images.\n",
    "\n",
    "Initially written 04 Mar 2020 by Craig Lage\\\n",
    "This ingests the images into my own repo, \\\n",
    "and does a test assembly"
   ]
  },
  {
   "cell_type": "code",
   "execution_count": null,
   "metadata": {},
   "outputs": [],
   "source": [
    "! eups list -s | grep lsst_distrib"
   ]
  },
  {
   "cell_type": "code",
   "execution_count": null,
   "metadata": {},
   "outputs": [],
   "source": [
    "import eups\n",
    "import sys, os, glob\n",
    "import pickle as pkl\n",
    "import numpy as np\n",
    "import matplotlib.pyplot as plt\n",
    "import astropy.io.fits as pf\n",
    "\n",
    "from lsst.daf.persistence import Butler\n",
    "from lsst.ip.isr.isrTask import IsrTask\n",
    "from lsst.pipe.tasks.characterizeImage import CharacterizeImageTask, CharacterizeImageConfig"
   ]
  },
  {
   "cell_type": "code",
   "execution_count": null,
   "metadata": {},
   "outputs": [],
   "source": [
    "DATA_DIR = '/lsstdata/offline/teststand/comcam/CCS/storage/'\n",
    "REPO_DIR = '/project/cslage/ComCam/20200303/'\n",
    "OUTPUT_DIR = '/project/cslage/ComCam/20200303/'\n",
    "! mkdir -p {'/project/cslage/ComCam/20200303/images'}\n",
    "DETECTOR = 4\n",
    "raftName = 'R22'"
   ]
  },
  {
   "cell_type": "code",
   "execution_count": null,
   "metadata": {
    "jupyter": {
     "outputs_hidden": true
    }
   },
   "outputs": [],
   "source": [
    "# First check the exposure times\n",
    "filedir = DATA_DIR+'20200303/'\n",
    "files = glob.glob(filedir+'CC_C_20200303_00????/CC_C_20200303_00????_R22_S11.fits')\n",
    "files = np.sort(files)\n",
    "numFiles = len(files)\n",
    "print(numFiles)\n",
    "\n",
    "for file in files:\n",
    "    hdulist = pf.open(file, mode='readonly', do_not_scale_image_data=True)\n",
    "        \n",
    "    phdr=hdulist[0].header\n",
    "    filename = file.split('/')[8][14:]#phdr['FILENAME']\n",
    "    exptime = phdr['EXPTIME']\n",
    "    imgtype = phdr['IMGTYPE'] \n",
    "    print(\"%s\\t%s\\t%f\"%(filename, imgtype, exptime))\n"
   ]
  },
  {
   "cell_type": "code",
   "execution_count": null,
   "metadata": {
    "jupyter": {
     "outputs_hidden": true
    }
   },
   "outputs": [],
   "source": [
    "# Now ingest the images\n",
    "! mkdir -p {REPO_DIR}\n",
    "! echo \"lsst.obs.lsst.comCam.LsstComCamMapper\" > {REPO_DIR+\"_mapper\"}\n",
    "args = REPO_DIR + \" \" + DATA_DIR + \"20200303/*/*_R22_S??.fits\" + \" \" + \"--mode=link\"\n",
    "! ingestImages.py {args}"
   ]
  },
  {
   "cell_type": "code",
   "execution_count": null,
   "metadata": {
    "jupyter": {
     "outputs_hidden": true
    }
   },
   "outputs": [],
   "source": [
    "# Now create a master bias\n",
    "start=3019121800005\n",
    "end=3019121800010\n",
    "CALIB_DIR = REPO_DIR + \"CALIB\"\n",
    "RERUN_DIR = REPO_DIR + \"calib_construction\"\n",
    "! mkdir -p {CALIB_DIR}\n",
    "args = REPO_DIR + \" --calib \" + CALIB_DIR + \" --rerun \" + RERUN_DIR + \" --id visit=%d..%d\"%(start,end) + \\\n",
    "\" --batch-type=None\" + \" -c isr.doCrosstalk=False\" + \" --clobber-config\"\n",
    "! constructBias.py {args}"
   ]
  },
  {
   "cell_type": "code",
   "execution_count": null,
   "metadata": {},
   "outputs": [],
   "source": [
    "# Now ingest the master bias image\n",
    "args = REPO_DIR + \" \" + RERUN_DIR + \"/bias/*/*.fits\" + \" --validity 9999\" + \" --calib \" + CALIB_DIR + \" --mode=link\"\n",
    "! ingestCalibs.py {args} "
   ]
  },
  {
   "cell_type": "code",
   "execution_count": null,
   "metadata": {
    "jupyter": {
     "outputs_hidden": true
    }
   },
   "outputs": [],
   "source": [
    "# Now create a master dark\n",
    "# It failed with the default number of cosmic ray pixels = 10000\n",
    "# Increased this to 100,000 and then it ran.\n",
    "visits = []\n",
    "starting_visit = 3019121800022\n",
    "ending_visit = 3019121800022\n",
    "visit = starting_visit\n",
    "while visit < ending_visit + 1:\n",
    "    visits.append(visit)\n",
    "    visit += 2\n",
    "print(len(visits))\n",
    "CALIB_DIR = REPO_DIR + \"CALIB\"\n",
    "RERUN_DIR = REPO_DIR + \"calib_construction\"\n",
    "\n",
    "args = REPO_DIR + \" --calib \" + CALIB_DIR + \" --rerun \" + RERUN_DIR + \" --id visit=\"\n",
    "for visit in visits:\n",
    "    if visit != starting_visit:\n",
    "        args += \"^\"\n",
    "    args += str(visit)\n",
    "\n",
    "args += \" --batch-type=None\" + \" -c isr.doCrosstalk=False repair.cosmicray.nCrPixelMax=100000\" + \" --clobber-config\"\n",
    "print(args)\n",
    "! constructDark.py {args}"
   ]
  },
  {
   "cell_type": "code",
   "execution_count": null,
   "metadata": {},
   "outputs": [],
   "source": [
    "# Now ingest the master dark image\n",
    "args = REPO_DIR + \" \" + RERUN_DIR + \"/dark/*/*.fits\" + \" --validity 9999\" + \" --calib \" + CALIB_DIR + \" --mode=link\"\n",
    "! ingestCalibs.py {args} "
   ]
  },
  {
   "cell_type": "code",
   "execution_count": null,
   "metadata": {},
   "outputs": [],
   "source": [
    "# Set up the ISR task\n",
    "# For now, no ISR, just assembly\n",
    "isrConfig = IsrTask.ConfigClass()\n",
    "isrConfig.doLinearize = False\n",
    "isrConfig.doBias = False\n",
    "isrConfig.doFlat = False\n",
    "isrConfig.doDark = False\n",
    "isrConfig.doFringe = False\n",
    "isrConfig.doDefect = False\n",
    "isrConfig.doAddDistortionModel = False\n",
    "isrConfig.doWrite = False\n"
   ]
  },
  {
   "cell_type": "code",
   "execution_count": null,
   "metadata": {},
   "outputs": [],
   "source": [
    "# First just look at the center CCD\n",
    "spot_visit = 3020030300054\n",
    "butler = Butler(REPO_DIR)\n",
    "rawSpotDataRef = butler.dataRef('raw', detector=4, visit=spot_visit)\n",
    "isrTask = IsrTask(config=isrConfig)\n",
    "postIsrSpot = isrTask.runDataRef(rawSpotDataRef).exposure\n",
    "plt.figure(figsize=(16,16))    \n",
    "plt.subplot(1,1,1)\n",
    "plt.title(\"Raw Image\")\n",
    "plt.imshow(np.log10(postIsrSpot.image.array[0:4000,0:4000]),vmin=2.5, vmax=5.0)\n",
    "plt.colorbar()\n",
    "plt.savefig(OUTPUT_DIR+\"images/Image_054_S11_Log.png\")"
   ]
  },
  {
   "cell_type": "code",
   "execution_count": null,
   "metadata": {},
   "outputs": [],
   "source": [
    "# Now assemble all 9\n",
    "plt.figure(figsize=(16,16))\n",
    "xs = [0.0,0.333,0.667,0.0,0.333,0.667,0.0,0.333,0.667]\n",
    "ys = [0.0,0.0,0.0,0.333,0.333,0.333,0.667,0.667,0.667]\n",
    "\n",
    "for ccd in range(9):\n",
    "    rawSpotDataRef = butler.dataRef('raw', detector=ccd, visit=spot_visit)\n",
    "    postIsrSpot = isrTask.runDataRef(rawSpotDataRef).exposure\n",
    "    ax=plt.axes([xs[ccd],ys[ccd],0.333,0.333],aspect=1)\n",
    "    ax.set_xticks([])\n",
    "    ax.set_yticks([])\n",
    "    ax.imshow(np.log10(postIsrSpot.image.array[0:4000,0:4000]),vmin=2.5, vmax=5.0)\n",
    "\n",
    "plt.savefig(OUTPUT_DIR+\"images/Image_054_All_Log.png\")"
   ]
  },
  {
   "cell_type": "code",
   "execution_count": null,
   "metadata": {},
   "outputs": [],
   "source": []
  }
 ],
 "metadata": {
  "jupytext": {
   "formats": "ipynb,markdown//md"
  },
  "kernelspec": {
   "display_name": "LSST",
   "language": "python",
   "name": "lsst"
  },
  "language_info": {
   "codemirror_mode": {
    "name": "ipython",
    "version": 3
   },
   "file_extension": ".py",
   "mimetype": "text/x-python",
   "name": "python",
   "nbconvert_exporter": "python",
   "pygments_lexer": "ipython3",
   "version": "3.7.6"
  }
 },
 "nbformat": 4,
 "nbformat_minor": 4
}
