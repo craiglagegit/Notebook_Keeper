{
 "cells": [
  {
   "cell_type": "markdown",
   "metadata": {},
   "source": [
    "## Queries - ComCam\n",
    "\n",
    "In this notebook, we show how to query the ComCam repository\\\n",
    "and view the resulting images.\\\n",
    "Craig Lage - 17-Nov-24"
   ]
  },
  {
   "cell_type": "code",
   "execution_count": null,
   "metadata": {
    "execution": {
     "iopub.execute_input": "2025-02-27T16:42:23.577971Z",
     "iopub.status.busy": "2025-02-27T16:42:23.577556Z",
     "iopub.status.idle": "2025-02-27T16:42:23.580686Z",
     "shell.execute_reply": "2025-02-27T16:42:23.580378Z",
     "shell.execute_reply.started": "2025-02-27T16:42:23.577956Z"
    },
    "tags": []
   },
   "outputs": [],
   "source": [
    "import numpy as np\n",
    "import matplotlib.pyplot as plt\n",
    "import astropy.io.fits as pf\n",
    "from astropy.time import Time, TimeDelta\n",
    "from lsst.daf.butler import Butler\n",
    "import lsst.summit.utils.butlerUtils as butlerUtils\n",
    "from lsst.ip.isr import IsrTask, IsrTaskConfig\n",
    "from lsst.summit.utils.plotting import plot\n",
    "import lsst.afw.cameraGeom.utils as camGeomUtils\n",
    "from lsst.geom import Point2D, Extent2I"
   ]
  },
  {
   "cell_type": "code",
   "execution_count": null,
   "metadata": {
    "execution": {
     "iopub.execute_input": "2025-02-27T16:39:52.912662Z",
     "iopub.status.busy": "2025-02-27T16:39:52.912228Z",
     "iopub.status.idle": "2025-02-27T16:39:53.333750Z",
     "shell.execute_reply": "2025-02-27T16:39:53.333310Z",
     "shell.execute_reply.started": "2025-02-27T16:39:52.912648Z"
    },
    "tags": []
   },
   "outputs": [],
   "source": [
    "butler = butlerUtils.makeDefaultButler(\"LSSTComCam\")\n",
    "instrument = 'LSSTComCam'"
   ]
  },
  {
   "cell_type": "code",
   "execution_count": null,
   "metadata": {
    "execution": {
     "iopub.execute_input": "2025-02-13T12:52:07.619212Z",
     "iopub.status.busy": "2025-02-13T12:52:07.618888Z",
     "iopub.status.idle": "2025-02-13T12:52:08.431253Z",
     "shell.execute_reply": "2025-02-13T12:52:08.430769Z",
     "shell.execute_reply.started": "2025-02-13T12:52:07.619191Z"
    }
   },
   "outputs": [],
   "source": [
    "expId = 2024110900229\n",
    "exp = butler.get('postISRCCD', detector=4, exposure=expId, instrument=\"LSSTComCam\")"
   ]
  },
  {
   "cell_type": "markdown",
   "metadata": {},
   "source": [
    "## First, get a list of exposures\n",
    "### These should match what you see in RubinTV."
   ]
  },
  {
   "cell_type": "code",
   "execution_count": null,
   "metadata": {
    "execution": {
     "iopub.execute_input": "2025-02-27T17:01:41.307912Z",
     "iopub.status.busy": "2025-02-27T17:01:41.307587Z",
     "iopub.status.idle": "2025-02-27T17:01:41.578232Z",
     "shell.execute_reply": "2025-02-27T17:01:41.577822Z",
     "shell.execute_reply.started": "2025-02-27T17:01:41.307898Z"
    },
    "jupyter": {
     "outputs_hidden": true
    },
    "tags": []
   },
   "outputs": [],
   "source": [
    "dayObs = 20250225\n",
    "instrument = \"LATISS\"\n",
    "\n",
    "exposureList = []\n",
    "for record in butler.registry.queryDimensionRecords(\"exposure\", \n",
    "                    where=f\"exposure.day_obs={dayObs} and instrument='LATISS'\"):\n",
    "    exposureList.append([record.id, record])\n",
    "    #break\n",
    "exposureList.sort(key=lambda x: x[0])\n",
    "for [id,record] in exposureList:\n",
    "    print(record.id, record.observation_type, record.exposure_time, record.physical_filter)\n"
   ]
  },
  {
   "cell_type": "code",
   "execution_count": null,
   "metadata": {
    "execution": {
     "iopub.execute_input": "2025-02-27T17:01:24.470141Z",
     "iopub.status.busy": "2025-02-27T17:01:24.469809Z",
     "iopub.status.idle": "2025-02-27T17:01:24.473508Z",
     "shell.execute_reply": "2025-02-27T17:01:24.473149Z",
     "shell.execute_reply.started": "2025-02-27T17:01:24.470126Z"
    }
   },
   "outputs": [],
   "source": [
    "Time(record.group).isot"
   ]
  },
  {
   "cell_type": "markdown",
   "metadata": {
    "execution": {
     "iopub.execute_input": "2024-07-10T18:00:56.931372Z",
     "iopub.status.busy": "2024-07-10T18:00:56.930578Z",
     "iopub.status.idle": "2024-07-10T18:00:56.935059Z",
     "shell.execute_reply": "2024-07-10T18:00:56.934337Z",
     "shell.execute_reply.started": "2024-07-10T18:00:56.931336Z"
    }
   },
   "source": [
    "# Get the data from the headers"
   ]
  },
  {
   "cell_type": "code",
   "execution_count": null,
   "metadata": {
    "execution": {
     "iopub.execute_input": "2024-12-06T18:13:21.611619Z",
     "iopub.status.busy": "2024-12-06T18:13:21.611329Z",
     "iopub.status.idle": "2024-12-06T18:13:21.848191Z",
     "shell.execute_reply": "2024-12-06T18:13:21.847861Z",
     "shell.execute_reply.started": "2024-12-06T18:13:21.611604Z"
    },
    "jupyter": {
     "outputs_hidden": true
    }
   },
   "outputs": [],
   "source": [
    "expId = 2024120400106\n",
    "mData = butler.get('raw.metadata', detector=4, exposure=expId, instrument=instrument)\n",
    "for key in mData.keys():\n",
    "    print(key, mData[key])"
   ]
  },
  {
   "cell_type": "code",
   "execution_count": null,
   "metadata": {
    "execution": {
     "iopub.execute_input": "2024-11-25T11:14:44.463357Z",
     "iopub.status.busy": "2024-11-25T11:14:44.463040Z",
     "iopub.status.idle": "2024-11-25T11:14:44.785946Z",
     "shell.execute_reply": "2024-11-25T11:14:44.785543Z",
     "shell.execute_reply.started": "2024-11-25T11:14:44.463341Z"
    }
   },
   "outputs": [],
   "source": [
    "for expId in range(2024112300011, 2024112300017):\n",
    "    mData = butler.get('raw.metadata', detector=4, exposure=expId, instrument=instrument)\n",
    "    print(expId, mData['HVBIAS'], mData['BSSVBS'])"
   ]
  },
  {
   "cell_type": "markdown",
   "metadata": {},
   "source": [
    "# Now get the image data"
   ]
  },
  {
   "cell_type": "markdown",
   "metadata": {},
   "source": [
    "## Next, look at the raw data from one of the exposures.\n",
    "### There are generally three options, raw, postISRCCD, and calexp\n",
    "### Each has successively more processing"
   ]
  },
  {
   "cell_type": "code",
   "execution_count": null,
   "metadata": {
    "execution": {
     "iopub.execute_input": "2024-12-11T11:32:50.532967Z",
     "iopub.status.busy": "2024-12-11T11:32:50.532670Z",
     "iopub.status.idle": "2024-12-11T11:32:53.319753Z",
     "shell.execute_reply": "2024-12-11T11:32:53.319317Z",
     "shell.execute_reply.started": "2024-12-11T11:32:50.532951Z"
    },
    "tags": []
   },
   "outputs": [],
   "source": [
    "expId = 2024111700488\n",
    "#exp = butler.get('raw', detector=4, exposure=expId, instrument=instrument)\n",
    "exp = butler.get('postISRCCD', detector=8, exposure=expId, instrument=instrument)\n",
    "#exp = butler.get('calexp', detector=1, visit=expId, instrument=instrument)\n",
    "%matplotlib inline        \n",
    "x = plot(exp, stretch='asinh')"
   ]
  },
  {
   "cell_type": "markdown",
   "metadata": {},
   "source": [
    "## Define a simple ISR\n",
    "## Maybe you want to start with the raw image and do your own ISR\n",
    "### This has just overscan subtraction and bias subtraction."
   ]
  },
  {
   "cell_type": "code",
   "execution_count": null,
   "metadata": {
    "execution": {
     "iopub.execute_input": "2024-12-14T11:58:38.181742Z",
     "iopub.status.busy": "2024-12-14T11:58:38.181121Z",
     "iopub.status.idle": "2024-12-14T11:58:38.220701Z",
     "shell.execute_reply": "2024-12-14T11:58:38.220146Z",
     "shell.execute_reply.started": "2024-12-14T11:58:38.181717Z"
    },
    "tags": []
   },
   "outputs": [],
   "source": [
    "isrConfig = IsrTaskConfig()\n",
    "isrConfig.doLinearize=False\n",
    "isrConfig.doOverscan=True\n",
    "isrConfig.overscan.fitType=\"MEDIAN_PER_ROW\"\n",
    "isrConfig.overscan.doParallelOverscan=False\n",
    "isrConfig.doAssembleCcd=True\n",
    "isrConfig.doBias=True\n",
    "isrConfig.doVariance=False\n",
    "isrConfig.doCrosstalk=False\n",
    "isrConfig.doBrighterFatter=False\n",
    "isrConfig.doDark=False\n",
    "isrConfig.doStrayLight=False\n",
    "isrConfig.doFlat=False\n",
    "isrConfig.doFringe=False\n",
    "isrConfig.doApplyGains=True\n",
    "isrConfig.usePtcGains=True\n",
    "isrConfig.doDefect=False\n",
    "isrConfig.doNanMasking=False\n",
    "isrConfig.doInterpolate=False\n",
    "isrConfig.doSaturation=False\n",
    "isrConfig.doSaturationInterpolation=False\n",
    "isrTask = IsrTask(config=isrConfig)"
   ]
  },
  {
   "cell_type": "markdown",
   "metadata": {},
   "source": [
    "## Run the ISR and look at the result"
   ]
  },
  {
   "cell_type": "code",
   "execution_count": null,
   "metadata": {
    "execution": {
     "iopub.execute_input": "2024-12-14T11:58:41.241931Z",
     "iopub.status.busy": "2024-12-14T11:58:41.241490Z",
     "iopub.status.idle": "2024-12-14T11:58:53.882272Z",
     "shell.execute_reply": "2024-12-14T11:58:53.881803Z",
     "shell.execute_reply.started": "2024-12-14T11:58:41.241912Z"
    },
    "tags": []
   },
   "outputs": [],
   "source": [
    "expId = 2024111700488\n",
    "detector = 8\n",
    "exp = butler.get('raw', detector=detector, exposure=expId, instrument=instrument)\n",
    "biasExp = butler.get('bias', detector=detector, exposure=expId, instrument=instrument) # This is a bias image associated with the data\n",
    "ptcExp = butler.get('ptc', detector=detector, exposure=expId, instrument=instrument) # This is a bias image associated with the data\n",
    "isrResult = isrTask.run(exp, bias=biasExp, ptc=ptcExp) # This runs the ISR\n",
    "x = plot(isrResult.exposure, stretch='ccs')\n",
    "plt.savefig(f\"/home/c/cslage/u/ComCam/images/ComCam_{expId}_{detector}.png\")"
   ]
  },
  {
   "cell_type": "markdown",
   "metadata": {
    "execution": {
     "iopub.execute_input": "2024-07-10T18:10:52.234053Z",
     "iopub.status.busy": "2024-07-10T18:10:52.233642Z",
     "iopub.status.idle": "2024-07-10T18:10:52.238254Z",
     "shell.execute_reply": "2024-07-10T18:10:52.237362Z",
     "shell.execute_reply.started": "2024-07-10T18:10:52.234022Z"
    }
   },
   "source": [
    "# Plot a small region"
   ]
  },
  {
   "cell_type": "code",
   "execution_count": null,
   "metadata": {
    "execution": {
     "iopub.execute_input": "2024-12-14T12:01:19.978387Z",
     "iopub.status.busy": "2024-12-14T12:01:19.977840Z",
     "iopub.status.idle": "2024-12-14T12:01:20.038817Z",
     "shell.execute_reply": "2024-12-14T12:01:20.038444Z",
     "shell.execute_reply.started": "2024-12-14T12:01:19.978372Z"
    }
   },
   "outputs": [],
   "source": [
    "x = 1200; y = 2810\n",
    "width = 400\n",
    "center = Point2D(x, y)\n",
    "extent = Extent2I(20, width)\n",
    "cutout = isrResult.exposure.getCutout(center, extent)\n",
    "plt.imshow(cutout.image.array, origin='lower')\n",
    "print(np.sum(cutout.image.array))\n",
    "#x = plot(cutout, stretch='ccs', showCompass=False)"
   ]
  },
  {
   "cell_type": "code",
   "execution_count": null,
   "metadata": {},
   "outputs": [],
   "source": [
    "x = 950; y = 2150\n",
    "width = 50\n",
    "center = Point2D(x, y)\n",
    "extent = Extent2I(width, width)\n",
    "cutout = exp.getCutout(center, extent)\n",
    "plt.imshow(cutout.image.array, origin='lower')\n",
    "#x = plot(cutout, stretch='ccs', showCompass=True)"
   ]
  },
  {
   "cell_type": "code",
   "execution_count": null,
   "metadata": {
    "execution": {
     "iopub.execute_input": "2024-12-11T14:07:33.761128Z",
     "iopub.status.busy": "2024-12-11T14:07:33.760534Z",
     "iopub.status.idle": "2024-12-11T14:07:33.967792Z",
     "shell.execute_reply": "2024-12-11T14:07:33.967332Z",
     "shell.execute_reply.started": "2024-12-11T14:07:33.761113Z"
    }
   },
   "outputs": [],
   "source": [
    "fig, [ax1, ax2] = plt.subplots(2, 1)\n",
    "plt.suptitle(f\"ComCam {expId}, Sat Star\")\n",
    "ax1.plot(isrResult.exposure.image.array[2015, 3215:3245], marker='x', label='Y=2015')\n",
    "ax1.plot(isrResult.exposure.image.array[2025, 3215:3245], marker='x', label='Y=2025')\n",
    "ax1.plot(isrResult.exposure.image.array[2030, 3215:3245], marker='x', label='Y=2030')\n",
    "ax1.legend()\n",
    "slice1 = np.mean(isrResult.exposure.image.array[500:1500, 3215:3245], axis=0)\n",
    "level1 = 8800\n",
    "gtLevel = slice1[slice1>level1]\n",
    "excess = np.sum(gtLevel) - level1 * len(gtLevel)\n",
    "ltLevel = slice1[slice1<level1]\n",
    "deficit = np.sum(ltLevel) - level1 * len(ltLevel)\n",
    "\n",
    "ax2.plot(slice1, marker='x', label=f'Y below(500:1500)')#: excess={excess:.0f}, deficit={deficit:.0f}')\n",
    "#ax2.axhline(level1, ls='--', color='steelblue')\n",
    "slice2 = np.median(isrResult.exposure.image.array[2200:3500, 3215:3245], axis=0)\n",
    "level2 = 8700\n",
    "gtLevel = slice2[slice2>level2]\n",
    "excess = np.sum(gtLevel) - level2 * len(gtLevel)\n",
    "ltLevel = slice2[slice2<level2]\n",
    "deficit = np.sum(ltLevel) - level2 * len(ltLevel)\n",
    "\n",
    "ax2.plot(slice2, marker='x', label=f'Y above(2200:3500)')#: excess={excess:.0f}, deficit={deficit:.0f}')\n",
    "#ax2.axhline(level2, ls='--', color='orange')\n",
    "ax2.legend(loc='lower left')\n",
    "plt.ylim(370, 440)\n",
    "plt.savefig(f\"/home/c/cslage/u/ComCam/images/ComCam_Sat_Slices_{expId}_{detector}.png\")"
   ]
  },
  {
   "cell_type": "markdown",
   "metadata": {},
   "source": [
    "# Now assemble all 9 CCDs and plot the result"
   ]
  },
  {
   "cell_type": "code",
   "execution_count": null,
   "metadata": {},
   "outputs": [],
   "source": [
    "def isrCallback(im, ccd, imageSource):\n",
    "    \"\"\"Assemble the CCD image and do basic ISR\"\"\"\n",
    "    dayObs = imageSource.kwargs['day_obs']\n",
    "    seqNum = imageSource.kwargs['seq_num']\n",
    "    exp = imageSource.butler.get('raw', detector=ccd.getId(), day_obs=dayObs, seq_num=seqNum)\n",
    "    biasExp = imageSource.butler.get('bias', detector=ccd.getId(), day_obs=dayObs, seq_num=seqNum)\n",
    "    ptcExp = butler.get('ptc', detector=ccd.getId(), day_obs=dayObs, \n",
    "                        seq_num=seqNum, exposure=expId, instrument=instrument)\n",
    "    isrResult = isrTask.run(exp, bias=biasExp, ptc=ptcExp) # This runs the ISR\n",
    "    oim = isrResult.exposure.image\n",
    "    return oim\n",
    "\n",
    "def simpleCallback(im, ccd, imageSource):\n",
    "    \"\"\"Assemble the CCD image.\"\"\"\n",
    "    oim = camGeomUtils.rawCallback(im, ccd, imageSource,\n",
    "                                   subtractBias=False, correctGain=False)\n",
    "    return oim"
   ]
  },
  {
   "cell_type": "code",
   "execution_count": null,
   "metadata": {},
   "outputs": [],
   "source": [
    "%matplotlib inline\n",
    "instrument = \"LSSTComCam\"\n",
    "camera = butler.get('camera', instrument=instrument)\n",
    "fig = plt.figure(figsize=(12,12))\n",
    "import lsst.afw.display as afwDisplay\n",
    "disp = afwDisplay.Display(1, \"matplotlib\")\n",
    "disp.scale('linear', min='zscale')\n",
    "dayObs = 20241116\n",
    "seqNum = 300\n",
    "dataType='raw'\n",
    "mos = camGeomUtils.showCamera(camera,\n",
    "                              camGeomUtils.ButlerImage(butler, dataType, \n",
    "                                                       instrument=instrument, raft=\"R22\",\n",
    "                                                       day_obs=dayObs, seq_num=seqNum,\n",
    "                                                       verbose=False, callback=isrCallback,\n",
    "                                                       background=np.nan),\n",
    "                              binSize=4, display=disp, overlay=False,\n",
    "                              title=\"%d %d\" % (dayObs, seqNum))\n",
    "\n",
    "#plt.savefig(f\"/home/c/cslage/u/ComCam/images/ComCam_{dayObs}_{seqNum}.png\")"
   ]
  },
  {
   "cell_type": "markdown",
   "metadata": {
    "execution": {
     "iopub.execute_input": "2024-07-13T13:01:31.616243Z",
     "iopub.status.busy": "2024-07-13T13:01:31.615843Z",
     "iopub.status.idle": "2024-07-13T13:01:31.619977Z",
     "shell.execute_reply": "2024-07-13T13:01:31.619248Z",
     "shell.execute_reply.started": "2024-07-13T13:01:31.616214Z"
    }
   },
   "source": [
    "# The cell below will save the combined image as a FITS file"
   ]
  },
  {
   "cell_type": "code",
   "execution_count": null,
   "metadata": {},
   "outputs": [],
   "source": [
    "filename = \"/home/c/cslage/u/ComCam/images/FITS_2024111600300.fits\"\n",
    "mos.writeFits(filename)"
   ]
  }
 ],
 "metadata": {
  "kernelspec": {
   "display_name": "LSST",
   "language": "python",
   "name": "lsst"
  },
  "language_info": {
   "codemirror_mode": {
    "name": "ipython",
    "version": 3
   },
   "file_extension": ".py",
   "mimetype": "text/x-python",
   "name": "python",
   "nbconvert_exporter": "python",
   "pygments_lexer": "ipython3",
   "version": "3.11.9"
  }
 },
 "nbformat": 4,
 "nbformat_minor": 4
}
