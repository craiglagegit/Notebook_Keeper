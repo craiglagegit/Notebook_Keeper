{
 "cells": [
  {
   "cell_type": "markdown",
   "metadata": {},
   "source": [
    "# Notebook for plotting ComCam gains.\n",
    "\n",
    "Initially written 28 Aug 2020 by Craig Lage."
   ]
  },
  {
   "cell_type": "code",
   "execution_count": null,
   "metadata": {},
   "outputs": [],
   "source": [
    "import sys, os, glob, time\n",
    "import numpy as np\n",
    "import astropy.io.fits as pf\n",
    "import matplotlib.pyplot as plt\n",
    "from lsst.daf.persistence import Butler"
   ]
  },
  {
   "cell_type": "code",
   "execution_count": null,
   "metadata": {},
   "outputs": [],
   "source": [
    "sensors = ['S00', 'S01', 'S02', 'S10', 'S11', 'S12', 'S20', 'S21', 'S22']\n",
    "\n",
    "plt.figure(figsize=(16,16))\n",
    "plt.subplots_adjust(hspace=0.5)\n",
    "plt.suptitle(\"ComCam Gains - 20210930 - R band\", fontsize=24)\n",
    "plotcounter = 0\n",
    "for detector, sensor in enumerate(sensors):\n",
    "    plotcounter += 1\n",
    "    filename = \"/repo/main/u/cslage/ptc_20210930/20211001T194239Z/ptc/ptc_LSSTComCam_R22_%s_u_cslage_ptc_20210930_20211001T194239Z.fits\"%sensor\n",
    "    #filename = \"/repo/main/u/cslage/ptc_20210402A/20210413T170828Z/ptc/ptc_LSSTComCam_R22_%s_u_cslage_ptc_20210402A_20210413T170828Z.fits\"%sensor\n",
    "    hdulist = pf.open(filename, mode='readonly', do_not_scale_image_data=True)\n",
    "    plt.subplot(3,3,plotcounter)\n",
    "    plt.title(\"Detector%d\"%detector, fontsize = 12)\n",
    "    hdulist = pf.open(filename, mode='readonly', do_not_scale_image_data=True)\n",
    "    data=hdulist[1].data\n",
    "    gain_data = data['GAIN']\n",
    "    gain_err_data = data['GAIN_ERR']\n",
    "    gains = []\n",
    "    gain_err = []\n",
    "    names = []\n",
    "    amp_nums = list(range(16))\n",
    "    for ii in amp_nums:\n",
    "        gains.append(gain_data[ii])\n",
    "        gain_err.append(gain_err_data[ii])\n",
    "        names.append(data['AMPLIFIER_NAME'][ii])\n",
    "    plt.errorbar(amp_nums, gains, yerr=gain_err)\n",
    "    plt.ylim(1.0, 1.8)\n",
    "    plt.ylabel(\"Gain\", fontsize = 12)\n",
    "    plt.xticks(amp_nums,names, fontsize=8)\n",
    "    #plt.legend(loc = 'upper right', fontsize = 12)\n",
    "plt.savefig('/repo/main/u/cslage/ptc_20210930/plots/Gain_Summary_09Sep21.pdf')\n"
   ]
  },
  {
   "cell_type": "code",
   "execution_count": null,
   "metadata": {},
   "outputs": [],
   "source": []
  }
 ],
 "metadata": {
  "jupytext": {
   "formats": "ipynb,markdown//md"
  },
  "kernelspec": {
   "display_name": "LSST",
   "language": "python",
   "name": "lsst"
  },
  "language_info": {
   "codemirror_mode": {
    "name": "ipython",
    "version": 3
   },
   "file_extension": ".py",
   "mimetype": "text/x-python",
   "name": "python",
   "nbconvert_exporter": "python",
   "pygments_lexer": "ipython3",
   "version": "3.8.8"
  }
 },
 "nbformat": 4,
 "nbformat_minor": 4
}
