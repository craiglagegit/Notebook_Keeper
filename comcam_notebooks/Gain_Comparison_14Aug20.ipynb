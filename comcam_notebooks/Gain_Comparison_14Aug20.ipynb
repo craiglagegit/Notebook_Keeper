{
 "cells": [
  {
   "cell_type": "markdown",
   "metadata": {},
   "source": [
    "# Notebook for plotting ComCam gains.\n",
    "\n",
    "Initially written 14 Aug 2020 by Craig Lage."
   ]
  },
  {
   "cell_type": "code",
   "execution_count": null,
   "metadata": {},
   "outputs": [],
   "source": [
    "! eups list -s | grep lsst_distrib\n",
    "! eups list -s | grep cp_pipe"
   ]
  },
  {
   "cell_type": "code",
   "execution_count": null,
   "metadata": {},
   "outputs": [],
   "source": [
    "import sys, os, glob, time\n",
    "import pickle as pkl\n",
    "import numpy as np\n",
    "import matplotlib.pyplot as plt\n",
    "import astropy.io.fits as pf\n",
    "from lsst.daf.persistence import Butler"
   ]
  },
  {
   "cell_type": "code",
   "execution_count": null,
   "metadata": {},
   "outputs": [],
   "source": [
    "DIR_1 = '/home/cslage/ComCam/20191113/'\n",
    "DIR_2 = '/project/shared/comCam/rerun/cslage/PTC_2020-08-13/'\n",
    "RAFT = 'R22'\n",
    "\n",
    "dirs = [DIR_1, DIR_2]\n",
    "names = ['Tucson-2019-11-13', 'LaSerena-2020-08-13']\n",
    "markers = ['o', 'x', '+', '*', '^', 'v']"
   ]
  },
  {
   "cell_type": "code",
   "execution_count": null,
   "metadata": {},
   "outputs": [],
   "source": [
    "# First, get the old gain data.\n",
    "#It is too old to get with the Butler, so we have to go directly to the pkl files\n",
    "gain_pickle_file = DIR_1+'calibrations/ptc/ptcDataGainAndNoise-det000.pkl'\n",
    "gain_file = open(gain_pickle_file, 'rb')\n",
    "gain = pkl.load(gain_file)\n",
    "gain_file.close()\n",
    "gains_Tuc = gain['gain']\n",
    "print(gains_Tuc)"
   ]
  },
  {
   "cell_type": "code",
   "execution_count": null,
   "metadata": {},
   "outputs": [],
   "source": [
    "# Next get the new data\n",
    "butler = Butler(DIR_2)\n",
    "ptcDataset = butler.get('photonTransferCurveDataset', raftName=RAFT, detectorName='S11')\n",
    "gains_LaSerena = ptcDataset.gain\n",
    "print(gains_LaSerena['C10'])"
   ]
  },
  {
   "cell_type": "code",
   "execution_count": null,
   "metadata": {},
   "outputs": [],
   "source": [
    "tucPlot = []\n",
    "lasPlot = []\n",
    "for amp in gains_Tuc.keys():\n",
    "    tucPlot.append(gains_Tuc[amp][0])\n",
    "    lasPlot.append(gains_LaSerena[amp])\n",
    "print(tucPlot)\n",
    "print(lasPlot)"
   ]
  },
  {
   "cell_type": "code",
   "execution_count": null,
   "metadata": {},
   "outputs": [],
   "source": [
    "minGain = 0.8\n",
    "maxGain = 1.2\n",
    "\n",
    "plt.figure(figsize=(16,16))\n",
    "plt.title(\"Gain Comparison COMCAM\", fontsize = 18)\n",
    "plt.scatter(tucPlot, lasPlot, marker='o', s = 100)\n",
    "plt.xlim(minGain, maxGain)\n",
    "plt.ylim(minGain, maxGain)\n",
    "plt.xlabel(\"Tucson gains-2019-11-13\", fontsize = 18)\n",
    "plt.ylabel(\"La Serena gains-2020-08-13\", fontsize = 18)\n",
    "xplot = np.linspace(minGain, maxGain,100)\n",
    "plt.plot(xplot, xplot, ls = '--', color='black', label = '1.00')\n",
    "plt.savefig(DIR_2+\"plots/Gain_Tucson_LaSerena_14Aug20.pdf\")"
   ]
  },
  {
   "cell_type": "code",
   "execution_count": null,
   "metadata": {},
   "outputs": [],
   "source": []
  }
 ],
 "metadata": {
  "kernelspec": {
   "display_name": "LSST",
   "language": "python",
   "name": "lsst"
  },
  "language_info": {
   "codemirror_mode": {
    "name": "ipython",
    "version": 3
   },
   "file_extension": ".py",
   "mimetype": "text/x-python",
   "name": "python",
   "nbconvert_exporter": "python",
   "pygments_lexer": "ipython3",
   "version": "3.7.6"
  }
 },
 "nbformat": 4,
 "nbformat_minor": 4
}
