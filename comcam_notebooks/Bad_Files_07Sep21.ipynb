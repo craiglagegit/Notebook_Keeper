{
 "cells": [
  {
   "cell_type": "markdown",
   "metadata": {},
   "source": [
    "## Bad ComCam files\n",
    "\n",
    "Investigating file corruption reported by Lupton\\\n",
    "Craig Lage - 07-Sep-21"
   ]
  },
  {
   "cell_type": "code",
   "execution_count": null,
   "metadata": {},
   "outputs": [],
   "source": [
    "import numpy as np\n",
    "import matplotlib.pyplot as plt\n",
    "import astropy.io.fits as pf"
   ]
  },
  {
   "cell_type": "code",
   "execution_count": null,
   "metadata": {},
   "outputs": [],
   "source": [
    "# These are the ones Lupton reported an issue\n",
    "# The discrepancy always begins at 14,128\n",
    "file1 = '/lsstdata/offline/instrument/LSSTComCam/storage/2021-08-19/CC_O_20210819_000003-R22S01.fits'\n",
    "file2 = '/lsstdata/offline/instrument/LSSTComCam-ccs/storage/20210819/CC_O_20210819_000003/CC_O_20210819_000003_R22_S01.fits'"
   ]
  },
  {
   "cell_type": "code",
   "execution_count": null,
   "metadata": {},
   "outputs": [],
   "source": [
    "amp = 3\n",
    "hdulist1 = pf.open(file1, mode='readonly', do_not_scale_image_data=True)\n",
    "dat1 = hdulist1[amp].data\n",
    "hdulist2 = pf.open(file2, mode='readonly', do_not_scale_image_data=True)\n",
    "dat2 = hdulist2[amp].data\n"
   ]
  },
  {
   "cell_type": "code",
   "execution_count": null,
   "metadata": {},
   "outputs": [],
   "source": [
    "# These are discrepant starting at (14.128)\n",
    "match = True\n",
    "for i in range(2048):\n",
    "    for j in range(576):\n",
    "        if dat1[i,j] != dat2[i,j]:\n",
    "            print(i,j, dat1[i,j], dat2[i,j])\n",
    "            match = False\n",
    "            break\n",
    "        else:\n",
    "            continue\n",
    "    if match:\n",
    "        continue\n",
    "    else:\n",
    "        break"
   ]
  },
  {
   "cell_type": "code",
   "execution_count": null,
   "metadata": {},
   "outputs": [],
   "source": [
    "from matplotlib.colors import LogNorm\n",
    "# Now let's look at ithem\n",
    "def colorbar(mappable):\n",
    "    from mpl_toolkits.axes_grid1 import make_axes_locatable\n",
    "    last_axes = plt.gca()\n",
    "    ax = mappable.axes\n",
    "    fig = ax.figure\n",
    "    divider = make_axes_locatable(ax)\n",
    "    cax = divider.append_axes(\"right\", size=\"5%\", pad=0.05)\n",
    "    cbar = fig.colorbar(mappable, cax=cax)\n",
    "    plt.sca(last_axes)\n",
    "    return cbar\n",
    "\n",
    "plt.figure(figsize=(16,8))\n",
    "plt.subplot(1,2,1)\n",
    "plt.title(f\"{file1}\\n Mean = {dat1.mean()}; Std = {dat1.std()}\",fontsize=8)\n",
    "img = plt.imshow(dat1, norm=LogNorm(vmin=23000, vmax=23500), interpolation='Nearest', cmap='gray')\n",
    "colorbar(img)\n",
    "plt.subplot(1,2,2)\n",
    "plt.title(f\"{file2}\\n Mean = {dat2.mean()}; Std = {dat2.std()}\",fontsize=8)\n",
    "img = plt.imshow(dat2, norm=LogNorm(vmin=23000, vmax=23500), interpolation='Nearest', cmap='gray')\n",
    "colorbar(img)\n",
    "\n",
    "plt.tight_layout(h_pad=1)\n",
    "plt.savefig(\"/project/cslage/ComCam/bad_files/20210819_000003-R22S01.png\")"
   ]
  },
  {
   "cell_type": "code",
   "execution_count": null,
   "metadata": {},
   "outputs": [],
   "source": [
    "# These are new files\n",
    "# They look OK\n",
    "file1 = '/lsstdata/offline/instrument/LSSTComCam/storage/2021-09-16/CC_O_20210916_000060-R22S02.fits'\n",
    "file2 = '/lsstdata/offline/instrument/LSSTComCam-ccs/storage/20210916/CC_O_20210916_000060/CC_O_20210916_000060_R22_S02.fits'"
   ]
  },
  {
   "cell_type": "code",
   "execution_count": null,
   "metadata": {},
   "outputs": [],
   "source": [
    "amp = 3\n",
    "hdulist1 = pf.open(file1, mode='readonly', do_not_scale_image_data=True)\n",
    "dat1 = hdulist1[amp].data\n",
    "hdulist2 = pf.open(file2, mode='readonly', do_not_scale_image_data=True)\n",
    "dat2 = hdulist2[amp].data\n"
   ]
  },
  {
   "cell_type": "code",
   "execution_count": null,
   "metadata": {},
   "outputs": [],
   "source": [
    "# These look OK\n",
    "match = True\n",
    "for i in range(2048):\n",
    "    for j in range(576):\n",
    "        if dat1[i,j] != dat2[i,j]:\n",
    "            print(i,j, dat1[i,j], dat2[i,j])\n",
    "            match = False\n",
    "            break\n",
    "        else:\n",
    "            continue\n",
    "    if match:\n",
    "        continue\n",
    "    else:\n",
    "        break"
   ]
  },
  {
   "cell_type": "code",
   "execution_count": null,
   "metadata": {},
   "outputs": [],
   "source": [
    "from matplotlib.colors import LogNorm\n",
    "# Now let's look at ithem\n",
    "def colorbar(mappable):\n",
    "    from mpl_toolkits.axes_grid1 import make_axes_locatable\n",
    "    last_axes = plt.gca()\n",
    "    ax = mappable.axes\n",
    "    fig = ax.figure\n",
    "    divider = make_axes_locatable(ax)\n",
    "    cax = divider.append_axes(\"right\", size=\"5%\", pad=0.05)\n",
    "    cbar = fig.colorbar(mappable, cax=cax)\n",
    "    plt.sca(last_axes)\n",
    "    return cbar\n",
    "\n",
    "plt.figure(figsize=(16,8))\n",
    "plt.subplot(1,2,1)\n",
    "plt.title(f\"{file1}\\n Mean = {dat1.mean()}; Std = {dat1.std()}\",fontsize=8)\n",
    "img = plt.imshow(dat1, norm=LogNorm(vmin=21000, vmax=23000), interpolation='Nearest', cmap='gray')\n",
    "colorbar(img)\n",
    "plt.subplot(1,2,2)\n",
    "plt.title(f\"{file2}\\n Mean = {dat2.mean()}; Std = {dat2.std()}\",fontsize=8)\n",
    "img = plt.imshow(dat2, norm=LogNorm(vmin=21000, vmax=23000), interpolation='Nearest', cmap='gray')\n",
    "colorbar(img)\n",
    "\n",
    "plt.tight_layout(h_pad=1)\n",
    "plt.savefig(\"/project/cslage/ComCam/bad_files/20210916_000060-R22S02.png\")"
   ]
  },
  {
   "cell_type": "code",
   "execution_count": null,
   "metadata": {},
   "outputs": [],
   "source": []
  }
 ],
 "metadata": {
  "kernelspec": {
   "display_name": "LSST",
   "language": "python",
   "name": "lsst"
  },
  "language_info": {
   "codemirror_mode": {
    "name": "ipython",
    "version": 3
   },
   "file_extension": ".py",
   "mimetype": "text/x-python",
   "name": "python",
   "nbconvert_exporter": "python",
   "pygments_lexer": "ipython3",
   "version": "3.8.8"
  }
 },
 "nbformat": 4,
 "nbformat_minor": 4
}
