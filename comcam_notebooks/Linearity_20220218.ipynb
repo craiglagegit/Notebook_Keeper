{
 "cells": [
  {
   "cell_type": "markdown",
   "metadata": {},
   "source": [
    "# Notebook for investigating linearity corrections\n",
    "\n",
    "Initially written 20 Dec 2021 by Craig Lage\\\n",
    "copying from Chris Waters."
   ]
  },
  {
   "cell_type": "code",
   "execution_count": null,
   "metadata": {},
   "outputs": [],
   "source": [
    "import sys, os, glob, time\n",
    "import pickle as pkl\n",
    "import numpy as np\n",
    "import matplotlib.pyplot as plt\n",
    "import astropy.io.fits as pf\n",
    "from lsst.daf.butler import Butler\n",
    "import lsst.afw.math as afwMath"
   ]
  },
  {
   "cell_type": "code",
   "execution_count": null,
   "metadata": {},
   "outputs": [],
   "source": [
    "butler = Butler(\"/repo/main\", collections=[\"LSSTComCam/raw/all\",\"LSSTComCam/calib\",\\\n",
    "                                                    \"u/cslage/comcam/linearizerA_20220218\"])\n",
    "camera = butler.get('camera', instrument='LSSTComCam')"
   ]
  },
  {
   "cell_type": "code",
   "execution_count": null,
   "metadata": {},
   "outputs": [],
   "source": [
    "expId = 2022021800078\n",
    "fig = plt.figure(figsize=(12,6))\n",
    "plt.suptitle(\"Linearizer spline knots - 20220218\", fontsize=24)\n",
    "plt.subplot(1,1,1)\n",
    "plt.xlabel(\"Flux(ADU)\", fontsize=18)\n",
    "plt.ylabel(\"Departure from linearity (ADU)\", fontsize=18)\n",
    "plt.xticks([0,50000,100000])\n",
    "plt.xlim(0,100000)\n",
    "plt.ylim(-1000,1000)\n",
    "plt.subplots_adjust(wspace=0.5)\n",
    "\n",
    "for RAFT in ['R22']:\n",
    "    for DETECTOR, SENSOR in enumerate(['S00', 'S01', 'S02', 'S10', 'S11', 'S12', 'S20', 'S21', 'S22']):\n",
    "        lin = butler.get('linearizer', detector=DETECTOR, exposure=expId, instrument='LSSTComCam')\n",
    "        for amp in camera[0].getAmplifiers():\n",
    "            ampName = amp.getName()\n",
    "            centers, values = np.split(lin.linearityCoeffs[ampName], 2)\n",
    "            plt.scatter(centers, values, marker='.')\n",
    "plt.ylim(-500,500)\n",
    "plt.savefig(\"/repo/main/u/cslage/comcam/ptc_20220218/plots/Spline_Knots_20220218.png\")"
   ]
  },
  {
   "cell_type": "code",
   "execution_count": null,
   "metadata": {},
   "outputs": [],
   "source": []
  }
 ],
 "metadata": {
  "jupytext": {
   "formats": "ipynb,markdown//md"
  },
  "kernelspec": {
   "display_name": "LSST",
   "language": "python",
   "name": "lsst"
  },
  "language_info": {
   "codemirror_mode": {
    "name": "ipython",
    "version": 3
   },
   "file_extension": ".py",
   "mimetype": "text/x-python",
   "name": "python",
   "nbconvert_exporter": "python",
   "pygments_lexer": "ipython3",
   "version": "3.8.8"
  }
 },
 "nbformat": 4,
 "nbformat_minor": 4
}
