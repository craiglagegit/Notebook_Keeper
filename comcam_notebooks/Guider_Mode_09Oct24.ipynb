{
 "cells": [
  {
   "cell_type": "markdown",
   "id": "192ec44c-3199-4c4e-b76e-d0356073756b",
   "metadata": {
    "execution": {
     "iopub.execute_input": "2024-08-02T16:24:58.781988Z",
     "iopub.status.busy": "2024-08-02T16:24:58.781677Z",
     "iopub.status.idle": "2024-08-02T16:24:58.785379Z",
     "shell.execute_reply": "2024-08-02T16:24:58.784744Z",
     "shell.execute_reply.started": "2024-08-02T16:24:58.781960Z"
    }
   },
   "source": [
    "# Guider mode image reduction\n",
    "This is intended to unpack the rawStamps from guider mode FITS files and build a movie of all 16 stamps.\\\n",
    "Craig Lage - 09-Oct-24"
   ]
  },
  {
   "cell_type": "code",
   "execution_count": null,
   "id": "3088ee0a-aa8e-48a7-b287-3ae645b3faab",
   "metadata": {},
   "outputs": [],
   "source": [
    "import os\n",
    "import shlex, subprocess\n",
    "import matplotlib.pyplot as plt\n",
    "from mpl_toolkits.axes_grid1 import make_axes_locatable\n",
    "import numpy as np\n",
    "from astropy.io import fits\n",
    "from lsst.resources import ResourcePath"
   ]
  },
  {
   "cell_type": "markdown",
   "id": "c4e01287-1f11-4a48-8825-0ef6de9014ba",
   "metadata": {},
   "source": [
    "# First, get the FITS file"
   ]
  },
  {
   "cell_type": "code",
   "execution_count": null,
   "id": "02eebe1c-781c-4d09-9f15-c84f70d14517",
   "metadata": {},
   "outputs": [],
   "source": [
    "# Example of getting a FITS file stored at USDF\n",
    "# LSSTComCam science CCD\n",
    "#filename = \"s3://rubin-summit/LSSTComCam/20240807/CC_O_20240807_000009/CC_O_20240807_000009_R22_S00_guider.fits\"\n",
    "\n",
    "# LSSTcam guider CCD\n",
    "filename = \"s3://embargo@rubin-summit/LSSTCam/20241008/MC_C_20241008_000025/MC_C_20241008_000025_R00_SG0_guider.fits\"\n",
    "\n",
    "rp = ResourcePath(filename)\n",
    "with rp.open(mode=\"rb\") as f:\n",
    "    hdu_list = fits.open(f)"
   ]
  },
  {
   "cell_type": "code",
   "execution_count": null,
   "id": "8af71f84-cc3a-4e3a-af2c-455def0bf30e",
   "metadata": {},
   "outputs": [],
   "source": [
    "# Example of loading a FITS file stored locally\n",
    "filename = \"/home/c/cslage/u/ComCam/guider_mode/MC_C_20241005_000148_R04_SG1_guider.fits\"\n",
    "hdu_list = fits.open(filename, do_not_scale_image_data=True)"
   ]
  },
  {
   "cell_type": "markdown",
   "id": "f8cb8445-f7da-40e7-8edf-752a18fef668",
   "metadata": {},
   "source": [
    "# Get the main header and the information it contains"
   ]
  },
  {
   "cell_type": "code",
   "execution_count": null,
   "id": "84da7275-2de8-4821-bec4-f6b26b00c305",
   "metadata": {},
   "outputs": [],
   "source": [
    "hdr0 = hdu_list[0].header\n",
    "raft = hdr0['RAFTBAY']\n",
    "ccd = hdr0['CCDSLOT']\n",
    "dayObs = hdr0['DAYOBS']\n",
    "seqNum = hdr0['SEQNUM']\n",
    "roiCols = hdr0['ROICOLS']\n",
    "roiRows = hdr0['ROIROWS']\n",
    "try:\n",
    "    roiUnder = hdr0['ROIUNDER']\n",
    "except:\n",
    "    roiUnder = 3\n",
    "nStamps = hdr0['N_STAMPS']\n",
    "\n",
    "# Set the xor value - Guider CCDs are different from science CCDs\n",
    "if raft in ['R00', 'R04', 'R40', 'R44']:\n",
    "    # Guider rafts\n",
    "    xor = 0x20000\n",
    "else:\n",
    "    # Science rafts\n",
    "    xor = 0x1ffff"
   ]
  },
  {
   "cell_type": "markdown",
   "id": "38f9dce1-6a04-4347-8a53-63699f775387",
   "metadata": {},
   "source": [
    "# Now define the code to unpack the rawStamps:"
   ]
  },
  {
   "cell_type": "code",
   "execution_count": null,
   "id": "2e51d1a5-eccb-41d5-aea3-7f87778d5ce4",
   "metadata": {},
   "outputs": [],
   "source": [
    "def unpackStamps(hduNum):\n",
    "    data = (hdu_list[hduNum].data['rawStamp'][0]).astype('>u4')\n",
    "    data.byteswap(inplace=True)\n",
    "    totalCols = roiCols + roiUnder\n",
    "    size = roiRows * totalCols\n",
    "    out = np.zeros([16, size], dtype=int)\n",
    "    image_out = np.zeros([16, roiRows, roiCols], dtype=int)\n",
    "    \n",
    "    for n in range(size):\n",
    "        # Get 9 32 bit words of data\n",
    "        res = ''\n",
    "        for i in range(9):\n",
    "            d = data[(size - n) * 9 - i - 1]\n",
    "            d = format(d, '#034b')\n",
    "            d = d.split('b')[1]\n",
    "            res += d\n",
    "        # Now extract 16 18 bit words from the data\n",
    "        for i in range(16):\n",
    "            bin_value = res[i * 18:(i + 1) * 18]\n",
    "            int_value = int(bin_value, 2)\n",
    "            final_value = int_value ^ xor\n",
    "            out[i,n] = final_value  \n",
    "    for i in range(16):\n",
    "        reshaped = out[i,:].reshape(roiRows, totalCols)\n",
    "        image_out[i,:,:] = np.flipud(np.fliplr(reshaped[:,0:roiCols]))\n",
    "    return image_out"
   ]
  },
  {
   "cell_type": "markdown",
   "id": "d072c16c-a0e3-4241-aeae-5fe1382f10a3",
   "metadata": {},
   "source": [
    "# Now build the individual movie frames"
   ]
  },
  {
   "cell_type": "code",
   "execution_count": null,
   "id": "7051b07a-49ac-4aeb-9c0f-1bd992dfeedc",
   "metadata": {},
   "outputs": [],
   "source": [
    "# Set the scaling\n",
    "autoscale = True\n",
    "# Scale to use if autoscale = False\n",
    "vmin = 10000\n",
    "vmax = 30000"
   ]
  },
  {
   "cell_type": "code",
   "execution_count": null,
   "id": "77f6ba5d-d677-48f6-bd60-c0e312af6c55",
   "metadata": {},
   "outputs": [],
   "source": [
    "expId = int(f\"{dayObs}{seqNum:05d}\")\n",
    "dirName = f\"/home/c/cslage/u/Guider_Mode/movie_{expId}_{raft}_{ccd}\"\n",
    "%mkdir -p {dirName}\n",
    "movieName = f\"Guider_{expId}_{raft}_{ccd}.mp4\"\n",
    "print(movieName)\n",
    "\n",
    "# Build the individual frames\n",
    "fig = plt.figure(figsize=(10,10))\n",
    "for n in range(nStamps):\n",
    "    hduNum = 2 * n + 1\n",
    "    hdrn = hdu_list[hduNum].header\n",
    "    timestamp = hdrn['STMPTIME']\n",
    "    image_out = unpackStamps(hduNum)\n",
    "    axs = fig.subplots(4,4)\n",
    "    plt.subplots_adjust(wspace=.7, hspace=-0.2)\n",
    "    plt.suptitle(f\"Guider mode {raft} {expId}, Frame {n+1}\\n{timestamp}\", fontsize=24)\n",
    "    for i in range(4):\n",
    "        for j in range(4):\n",
    "            seg = i + 4 * j\n",
    "            axs[i][j].set_title(f\"segment {seg}\")\n",
    "            if autoscale:\n",
    "                im = axs[i][j].imshow(image_out[seg], interpolation='nearest', origin='upper')\n",
    "            else:\n",
    "                im = axs[i][j].imshow(image_out[seg], interpolation='nearest', origin='upper', vmin=vmin, vmax=vmax)\n",
    "            divider = make_axes_locatable(axs[i][j])\n",
    "            cax = divider.append_axes(\"right\", size=\"5%\", pad=0.05)\n",
    "            fig.colorbar(im, cax=cax)\n",
    "    plt.savefig(f\"{dirName}/Frame_{n:03d}.png\")\n",
    "    plt.clf()\n",
    "    if n % 10 == 0:\n",
    "        print(f\"Finished frame {n}\")\n",
    "print(\"Done building frames\")"
   ]
  },
  {
   "cell_type": "markdown",
   "id": "57795982-f9e1-452c-9552-b6298b4f6488",
   "metadata": {},
   "source": [
    "# Now make the movie"
   ]
  },
  {
   "cell_type": "code",
   "execution_count": null,
   "id": "7c3415e9-b5cd-47e4-ba47-144fce897822",
   "metadata": {},
   "outputs": [],
   "source": [
    "print(f\"\\033[1mThe movie name will be: {dirName}/{movieName}\\033[0m\")\n",
    "\n",
    "command = f\"ffmpeg -pattern_type glob -i '{dirName}/*.png' -f mp4 -vcodec libx264 -pix_fmt yuv420p -framerate 50 -y {dirName}/{movieName}\"\n",
    "args = shlex.split(command)\n",
    "build_movie = subprocess.Popen(args)\n",
    "build_movie.wait()"
   ]
  },
  {
   "cell_type": "markdown",
   "id": "46ae9d44-f19e-49ae-8bda-089d24dc4e57",
   "metadata": {},
   "source": [
    "# Comparing Unpacked BINTABLE to the corresponding IMAGE header"
   ]
  },
  {
   "cell_type": "code",
   "execution_count": null,
   "id": "c3a15ad3-96d1-431b-b802-3ae022103813",
   "metadata": {},
   "outputs": [],
   "source": [
    "fig, axs = plt.subplots(1,2,figsize=(12,5))\n",
    "plt.subplots_adjust(hspace=1.0)\n",
    "plt.suptitle(f\"Guider mode comparison {raft} {expId}\", fontsize=18)\n",
    "data = hdu_list[6].data\n",
    "axs[0].set_title(\"IMAGE header 6\")\n",
    "im1 = axs[0].imshow(data, interpolation='nearest', vmin=10000, vmax=30000, origin='upper')\n",
    "axs[0].text(38,4, '+', color='black')\n",
    "divider = make_axes_locatable(axs[0])\n",
    "cax = divider.append_axes(\"right\", size=\"5%\", pad=0.05)\n",
    "plt.colorbar(im1, cax=cax)\n",
    "\n",
    "image_out = unpackStamps(5)\n",
    "axs[1].set_title(\"Unpacked BINTABLE header 5 - Seg13\")\n",
    "im2 = axs[1].imshow(image_out[13], interpolation='nearest', vmin=10000, vmax=30000, origin='upper')\n",
    "axs[1].text(38,4, '+', color='black')\n",
    "divider = make_axes_locatable(axs[1])\n",
    "cax = divider.append_axes(\"right\", size=\"5%\", pad=0.05)\n",
    "plt.colorbar(im2, cax=cax)\n",
    "plt.savefig(f\"/home/c/cslage/u/Guider_Mode/Unpack_Comparison_{expId}_{raft}_{ccd}.png\")\n",
    "\n",
    "# The two images are bitwise identical\n",
    "diff = data - image_out[13]\n",
    "print(f\"Diff max = {np.max(diff)}, Diff min = {np.min(diff)}\")"
   ]
  },
  {
   "cell_type": "code",
   "execution_count": null,
   "id": "06fccd51-ccc8-467d-b02f-07abbe37ea17",
   "metadata": {},
   "outputs": [],
   "source": []
  }
 ],
 "metadata": {
  "kernelspec": {
   "display_name": "LSST",
   "language": "python",
   "name": "lsst"
  },
  "language_info": {
   "codemirror_mode": {
    "name": "ipython",
    "version": 3
   },
   "file_extension": ".py",
   "mimetype": "text/x-python",
   "name": "python",
   "nbconvert_exporter": "python",
   "pygments_lexer": "ipython3",
   "version": "3.11.9"
  }
 },
 "nbformat": 4,
 "nbformat_minor": 5
}
