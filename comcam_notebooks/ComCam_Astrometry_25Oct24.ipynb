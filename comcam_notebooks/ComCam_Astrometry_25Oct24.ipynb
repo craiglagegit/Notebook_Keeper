{
 "cells": [
  {
   "cell_type": "markdown",
   "metadata": {},
   "source": [
    "## ComCam Astrometry\n",
    "\n",
    "Finding an a.net solution for one of the first images\n",
    "Craig Lage - 25-Oct-24"
   ]
  },
  {
   "cell_type": "code",
   "execution_count": null,
   "metadata": {
    "execution": {
     "iopub.execute_input": "2024-10-25T08:56:20.446071Z",
     "iopub.status.busy": "2024-10-25T08:56:20.445210Z",
     "iopub.status.idle": "2024-10-25T08:56:22.773868Z",
     "shell.execute_reply": "2024-10-25T08:56:22.773440Z",
     "shell.execute_reply.started": "2024-10-25T08:56:20.446051Z"
    },
    "tags": []
   },
   "outputs": [],
   "source": [
    "import numpy as np\n",
    "import matplotlib.pyplot as plt\n",
    "import astropy.io.fits as pf\n",
    "from lsst.daf.butler import Butler\n",
    "from lsst.ip.isr import IsrTask, IsrTaskConfig\n",
    "from lsst.summit.utils.plotting import plot\n",
    "import lsst.afw.cameraGeom.utils as camGeomUtils\n",
    "\n",
    "from astropy.time import Time, TimeDelta\n",
    "from astropy.coordinates import AltAz, ICRS, EarthLocation, Angle, FK5\n",
    "import astropy.units as u\n",
    "from astropy.table import Table\n",
    "from astroquery.astrometry_net import AstrometryNet\n",
    "from lsst.pipe.tasks.characterizeImage import CharacterizeImageTask, CharacterizeImageConfig"
   ]
  },
  {
   "cell_type": "code",
   "execution_count": null,
   "metadata": {
    "execution": {
     "iopub.execute_input": "2024-10-25T08:56:33.770930Z",
     "iopub.status.busy": "2024-10-25T08:56:33.770656Z",
     "iopub.status.idle": "2024-10-25T08:56:33.954815Z",
     "shell.execute_reply": "2024-10-25T08:56:33.954244Z",
     "shell.execute_reply.started": "2024-10-25T08:56:33.770912Z"
    },
    "tags": []
   },
   "outputs": [],
   "source": [
    "butler = Butler('/repo/embargo_new', collections=[\"LSSTComCam/raw/all\", \"LSSTComCam/calib\"])"
   ]
  },
  {
   "cell_type": "markdown",
   "metadata": {},
   "source": [
    "## First, get a list of exposures\n",
    "### These should match what you see in RubinTV."
   ]
  },
  {
   "cell_type": "code",
   "execution_count": null,
   "metadata": {
    "execution": {
     "iopub.execute_input": "2024-10-25T08:56:35.273354Z",
     "iopub.status.busy": "2024-10-25T08:56:35.272895Z",
     "iopub.status.idle": "2024-10-25T08:56:35.314125Z",
     "shell.execute_reply": "2024-10-25T08:56:35.313719Z",
     "shell.execute_reply.started": "2024-10-25T08:56:35.273338Z"
    },
    "jupyter": {
     "outputs_hidden": true
    },
    "tags": []
   },
   "outputs": [],
   "source": [
    "dayObs = 20241024\n",
    "instrument = \"LSSTComCam\"\n",
    "\n",
    "exposureList = []\n",
    "for record in butler.registry.queryDimensionRecords(\"exposure\", \n",
    "                    where=f\"exposure.day_obs={dayObs} and instrument='LSSTComCam'\"):\n",
    "    exposureList.append([record.id, record])\n",
    "exposureList.sort(key=lambda x: x[0])\n",
    "for [id,record] in exposureList:\n",
    "    print(record.id, record.observation_type, record.exposure_time, record.physical_filter)\n"
   ]
  },
  {
   "cell_type": "markdown",
   "metadata": {
    "execution": {
     "iopub.execute_input": "2024-07-10T18:00:56.931372Z",
     "iopub.status.busy": "2024-07-10T18:00:56.930578Z",
     "iopub.status.idle": "2024-07-10T18:00:56.935059Z",
     "shell.execute_reply": "2024-07-10T18:00:56.934337Z",
     "shell.execute_reply.started": "2024-07-10T18:00:56.931336Z"
    }
   },
   "source": [
    "# Get the data from the headers"
   ]
  },
  {
   "cell_type": "code",
   "execution_count": null,
   "metadata": {
    "execution": {
     "iopub.execute_input": "2024-10-25T08:56:51.455447Z",
     "iopub.status.busy": "2024-10-25T08:56:51.455100Z",
     "iopub.status.idle": "2024-10-25T08:56:51.560488Z",
     "shell.execute_reply": "2024-10-25T08:56:51.560056Z",
     "shell.execute_reply.started": "2024-10-25T08:56:51.455431Z"
    },
    "jupyter": {
     "outputs_hidden": true
    }
   },
   "outputs": [],
   "source": [
    "expId = 2024102400089\n",
    "mData = butler.get('raw.metadata', detector=4, exposure=expId, instrument=instrument)\n",
    "for key in mData.keys():\n",
    "    print(key, mData[key])"
   ]
  },
  {
   "cell_type": "markdown",
   "metadata": {},
   "source": [
    "## Define a simple ISR\n",
    "### Just overscan subtraction and bias subtraction."
   ]
  },
  {
   "cell_type": "code",
   "execution_count": null,
   "metadata": {
    "execution": {
     "iopub.execute_input": "2024-10-25T08:57:08.162790Z",
     "iopub.status.busy": "2024-10-25T08:57:08.162313Z",
     "iopub.status.idle": "2024-10-25T08:57:08.189421Z",
     "shell.execute_reply": "2024-10-25T08:57:08.189034Z",
     "shell.execute_reply.started": "2024-10-25T08:57:08.162772Z"
    },
    "tags": []
   },
   "outputs": [],
   "source": [
    "isrConfig = IsrTaskConfig()\n",
    "isrConfig.doLinearize=False\n",
    "isrConfig.doOverscan=True\n",
    "isrConfig.overscan.fitType=\"MEDIAN_PER_ROW\"\n",
    "isrConfig.overscan.doParallelOverscan=True\n",
    "isrConfig.doAssembleCcd=True\n",
    "isrConfig.doBias=True\n",
    "isrConfig.doVariance=False\n",
    "isrConfig.doCrosstalk=False\n",
    "isrConfig.doBrighterFatter=False\n",
    "isrConfig.doDark=False\n",
    "isrConfig.doStrayLight=False\n",
    "isrConfig.doFlat=False\n",
    "isrConfig.doFringe=False\n",
    "isrConfig.doApplyGains=True\n",
    "isrConfig.usePtcGains=False\n",
    "isrConfig.doDefect=False\n",
    "isrConfig.doNanMasking=True\n",
    "isrConfig.doInterpolate=False\n",
    "isrConfig.doSaturation=False\n",
    "isrConfig.doSaturationInterpolation=False\n",
    "isrTask = IsrTask(config=isrConfig)"
   ]
  },
  {
   "cell_type": "markdown",
   "metadata": {},
   "source": [
    "## Run the ISR and look at the result"
   ]
  },
  {
   "cell_type": "code",
   "execution_count": null,
   "metadata": {
    "execution": {
     "iopub.execute_input": "2024-10-25T08:57:09.841451Z",
     "iopub.status.busy": "2024-10-25T08:57:09.841111Z",
     "iopub.status.idle": "2024-10-25T08:57:13.785879Z",
     "shell.execute_reply": "2024-10-25T08:57:13.785412Z",
     "shell.execute_reply.started": "2024-10-25T08:57:09.841435Z"
    },
    "tags": []
   },
   "outputs": [],
   "source": [
    "expId = 2024102400089\n",
    "exp = butler.get('raw', detector=4, exposure=expId, instrument=instrument)\n",
    "biasExp = butler.get('bias', detector=4, exposure=expId, instrument=instrument) # This is a bias image associated with the data\n",
    "isrResult = isrTask.run(exp, bias=biasExp) # This runs the ISR"
   ]
  },
  {
   "cell_type": "code",
   "execution_count": null,
   "metadata": {
    "execution": {
     "iopub.execute_input": "2024-10-25T08:57:16.310712Z",
     "iopub.status.busy": "2024-10-25T08:57:16.310514Z",
     "iopub.status.idle": "2024-10-25T08:57:18.721472Z",
     "shell.execute_reply": "2024-10-25T08:57:18.721074Z",
     "shell.execute_reply.started": "2024-10-25T08:57:16.310697Z"
    }
   },
   "outputs": [],
   "source": [
    "%matplotlib inline\n",
    "x = plot(isrResult.exposure, stretch='ccs')\n",
    "plt.savefig(f\"/home/c/cslage/u/ComCam/images/ComCam_{expId}.png\")"
   ]
  },
  {
   "cell_type": "markdown",
   "metadata": {
    "execution": {
     "iopub.execute_input": "2024-07-10T18:10:52.234053Z",
     "iopub.status.busy": "2024-07-10T18:10:52.233642Z",
     "iopub.status.idle": "2024-07-10T18:10:52.238254Z",
     "shell.execute_reply": "2024-07-10T18:10:52.237362Z",
     "shell.execute_reply.started": "2024-07-10T18:10:52.234022Z"
    }
   },
   "source": [
    "# Plot a small region"
   ]
  },
  {
   "cell_type": "code",
   "execution_count": null,
   "metadata": {
    "execution": {
     "iopub.execute_input": "2024-10-25T08:57:20.862940Z",
     "iopub.status.busy": "2024-10-25T08:57:20.862733Z",
     "iopub.status.idle": "2024-10-25T08:57:21.049474Z",
     "shell.execute_reply": "2024-10-25T08:57:21.049095Z",
     "shell.execute_reply.started": "2024-10-25T08:57:20.862926Z"
    }
   },
   "outputs": [],
   "source": [
    "x = plot(isrResult.exposure.image.array[2225:2275, 1350:1400])"
   ]
  },
  {
   "cell_type": "code",
   "execution_count": null,
   "metadata": {
    "execution": {
     "iopub.execute_input": "2024-10-25T08:58:45.442122Z",
     "iopub.status.busy": "2024-10-25T08:58:45.441796Z",
     "iopub.status.idle": "2024-10-25T08:58:58.642816Z",
     "shell.execute_reply": "2024-10-25T08:58:58.642497Z",
     "shell.execute_reply.started": "2024-10-25T08:58:45.442106Z"
    },
    "jupyter": {
     "outputs_hidden": true
    }
   },
   "outputs": [],
   "source": [
    "charConfig = CharacterizeImageConfig()\n",
    "charConfig.doMeasurePsf = True\n",
    "charConfig.doApCorr = False\n",
    "charConfig.doDeblend = False\n",
    "charConfig.repair.doCosmicRay = False\n",
    "charConfig.repair.doInterpolate = True   \n",
    "charConfig.detection.minPixels = 500\n",
    "charTask = CharacterizeImageTask(config=charConfig)\n",
    "\n",
    "\n",
    "exp = isrResult.exposure\n",
    "mData = exp.getMetadata()\n",
    "charResult = charTask.run(exp)\n",
    "sourceCatalog = charResult.sourceCat\n"
   ]
  },
  {
   "cell_type": "code",
   "execution_count": null,
   "metadata": {
    "execution": {
     "iopub.execute_input": "2024-10-25T09:51:10.744917Z",
     "iopub.status.busy": "2024-10-25T09:51:10.744615Z",
     "iopub.status.idle": "2024-10-25T09:51:10.766375Z",
     "shell.execute_reply": "2024-10-25T09:51:10.766060Z",
     "shell.execute_reply.started": "2024-10-25T09:51:10.744902Z"
    }
   },
   "outputs": [],
   "source": [
    "sources = sourceCatalog.asAstropy()\n",
    "sources.keep_columns(['base_SdssCentroid_x', 'base_SdssCentroid_y', 'base_CircularApertureFlux_3_0_instFlux'])\n",
    "sources.sort('base_CircularApertureFlux_3_0_instFlux', reverse=True)\n",
    "len(sources)"
   ]
  },
  {
   "cell_type": "code",
   "execution_count": null,
   "metadata": {
    "execution": {
     "iopub.execute_input": "2024-10-25T09:01:33.912745Z",
     "iopub.status.busy": "2024-10-25T09:01:33.912279Z",
     "iopub.status.idle": "2024-10-25T09:01:33.914955Z",
     "shell.execute_reply": "2024-10-25T09:01:33.914577Z",
     "shell.execute_reply.started": "2024-10-25T09:01:33.912729Z"
    }
   },
   "outputs": [],
   "source": [
    "ast = AstrometryNet()\n",
    "ast.api_key = 'xxawwhvleirxcswx'"
   ]
  },
  {
   "cell_type": "code",
   "execution_count": null,
   "metadata": {
    "execution": {
     "iopub.execute_input": "2024-10-25T09:04:17.620304Z",
     "iopub.status.busy": "2024-10-25T09:04:17.620012Z",
     "iopub.status.idle": "2024-10-25T09:04:17.623061Z",
     "shell.execute_reply": "2024-10-25T09:04:17.622678Z",
     "shell.execute_reply.started": "2024-10-25T09:04:17.620290Z"
    },
    "jupyter": {
     "outputs_hidden": true
    }
   },
   "outputs": [],
   "source": [
    "AstrometryNet.show_allowed_settings()"
   ]
  },
  {
   "cell_type": "code",
   "execution_count": null,
   "metadata": {
    "execution": {
     "iopub.execute_input": "2024-10-25T09:05:01.467374Z",
     "iopub.status.busy": "2024-10-25T09:05:01.467110Z",
     "iopub.status.idle": "2024-10-25T09:05:09.082355Z",
     "shell.execute_reply": "2024-10-25T09:05:09.081940Z",
     "shell.execute_reply.started": "2024-10-25T09:05:01.467360Z"
    }
   },
   "outputs": [],
   "source": [
    "image_width = 4072\n",
    "image_height = 4000\n",
    "scale_units = 'arcsecperpix'\n",
    "scale_type='ev' # ev means submit estimate and % error\n",
    "scale_est = 0.20\n",
    "scale_err = 2.0\n",
    "center_ra = mData['RA']\n",
    "center_dec = mData['DEC']\n",
    "radius = 0.5\n",
    "wcs_header = ast.solve_from_source_list(sources['base_SdssCentroid_x'], sources['base_SdssCentroid_y'],\n",
    "                                        image_width, image_height, scale_units=scale_units,\n",
    "                                        scale_type=scale_type, scale_est=scale_est, scale_err=scale_err,\n",
    "                                        center_ra=center_ra, center_dec=center_dec, radius=radius,\n",
    "                                        crpix_center=True, solve_timeout=240)"
   ]
  },
  {
   "cell_type": "code",
   "execution_count": null,
   "metadata": {
    "execution": {
     "iopub.execute_input": "2024-10-25T09:49:09.638320Z",
     "iopub.status.busy": "2024-10-25T09:49:09.638034Z",
     "iopub.status.idle": "2024-10-25T09:49:09.641408Z",
     "shell.execute_reply": "2024-10-25T09:49:09.641093Z",
     "shell.execute_reply.started": "2024-10-25T09:49:09.638305Z"
    },
    "jupyter": {
     "outputs_hidden": true
    }
   },
   "outputs": [],
   "source": [
    "wcs_header"
   ]
  },
  {
   "cell_type": "code",
   "execution_count": null,
   "metadata": {
    "execution": {
     "iopub.execute_input": "2024-10-25T09:15:16.508006Z",
     "iopub.status.busy": "2024-10-25T09:15:16.507448Z",
     "iopub.status.idle": "2024-10-25T09:15:16.510659Z",
     "shell.execute_reply": "2024-10-25T09:15:16.510287Z",
     "shell.execute_reply.started": "2024-10-25T09:15:16.507991Z"
    }
   },
   "outputs": [],
   "source": [
    "print(f\"Header center RA = {mData['RA']:.5f}, Anet center RA = {wcs_header['CRVAL1']:.5f}\")\n",
    "print(f\"Header center Dec = {mData['DEC']:.5f}, Anet center Dec = {wcs_header['CRVAL2']:.5f}\")"
   ]
  },
  {
   "cell_type": "code",
   "execution_count": null,
   "metadata": {
    "execution": {
     "iopub.execute_input": "2024-10-25T09:08:21.738063Z",
     "iopub.status.busy": "2024-10-25T09:08:21.737777Z",
     "iopub.status.idle": "2024-10-25T09:08:21.741110Z",
     "shell.execute_reply": "2024-10-25T09:08:21.740729Z",
     "shell.execute_reply.started": "2024-10-25T09:08:21.738049Z"
    }
   },
   "outputs": [],
   "source": [
    "RA_error = (wcs_header['CRVAL1'] - mData['RA']) * 3600.0\n",
    "Dec_error = (wcs_header['CRVAL2'] - mData['DEC']) * 3600.0\n",
    "print(f\"RA error = {RA_error:.1f} arcsec, Dec error = {Dec_error:.1f} arcsec\")"
   ]
  },
  {
   "cell_type": "code",
   "execution_count": null,
   "metadata": {
    "execution": {
     "iopub.execute_input": "2024-10-25T09:23:04.024959Z",
     "iopub.status.busy": "2024-10-25T09:23:04.024660Z",
     "iopub.status.idle": "2024-10-25T09:23:06.490765Z",
     "shell.execute_reply": "2024-10-25T09:23:06.490335Z",
     "shell.execute_reply.started": "2024-10-25T09:23:04.024944Z"
    }
   },
   "outputs": [],
   "source": [
    "x = plot(isrResult.exposure, stretch='ccs')\n",
    "text1 = f\"Header center RA = {mData['RA']:.5f}, Anet center RA = {wcs_header['CRVAL1']:.5f}\"\n",
    "text2 = f\"Header center Dec = {mData['DEC']:.5f}, Anet center Dec = {wcs_header['CRVAL2']:.5f}\"\n",
    "RA_error = (wcs_header['CRVAL1'] - mData['RA']) * 3600.0\n",
    "Dec_error = (wcs_header['CRVAL2'] - mData['DEC']) * 3600.0\n",
    "text3 = f\"RA error = {RA_error:.1f} arcsec, Dec error = {Dec_error:.1f} arcsec\"\n",
    "x.axes[0].text(800,1800, text1, color=\"cyan\", fontsize=12, weight='bold')\n",
    "x.axes[0].text(800,1600, text2, color=\"cyan\", fontsize=12, weight='bold')\n",
    "x.axes[0].text(800,1400, text3, color=\"cyan\", fontsize=12, weight='bold')\n",
    "x.axes[0].set_title(f\"ComCam Astrometry {expId}\", fontsize=24)\n",
    "plt.savefig(f\"/home/c/cslage/u/ComCam/images/ComCam_Astrometry{expId}.png\")"
   ]
  },
  {
   "cell_type": "code",
   "execution_count": null,
   "metadata": {},
   "outputs": [],
   "source": []
  }
 ],
 "metadata": {
  "kernelspec": {
   "display_name": "LSST",
   "language": "python",
   "name": "lsst"
  },
  "language_info": {
   "codemirror_mode": {
    "name": "ipython",
    "version": 3
   },
   "file_extension": ".py",
   "mimetype": "text/x-python",
   "name": "python",
   "nbconvert_exporter": "python",
   "pygments_lexer": "ipython3",
   "version": "3.11.9"
  }
 },
 "nbformat": 4,
 "nbformat_minor": 4
}
