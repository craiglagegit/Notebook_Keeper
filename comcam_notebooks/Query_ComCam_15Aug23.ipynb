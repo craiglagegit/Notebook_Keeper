{
 "cells": [
  {
   "cell_type": "markdown",
   "metadata": {},
   "source": [
    "## Queries - Gen3\n",
    "\n",
    "In this notebook, we show how to query the ComCam repository\\\n",
    "and view the resulting images.\\\n",
    "Craig Lage - 15-Aug-23"
   ]
  },
  {
   "cell_type": "code",
   "execution_count": null,
   "metadata": {
    "execution": {
     "iopub.execute_input": "2023-08-15T22:41:36.197452Z",
     "iopub.status.busy": "2023-08-15T22:41:36.197168Z",
     "iopub.status.idle": "2023-08-15T22:41:37.981180Z",
     "shell.execute_reply": "2023-08-15T22:41:37.980754Z",
     "shell.execute_reply.started": "2023-08-15T22:41:36.197438Z"
    },
    "tags": []
   },
   "outputs": [],
   "source": [
    "import numpy as np\n",
    "import matplotlib.pyplot as plt\n",
    "import astropy.io.fits as pf\n",
    "from lsst.daf.butler import Butler\n",
    "from lsst.ip.isr import IsrTask, IsrTaskConfig"
   ]
  },
  {
   "cell_type": "code",
   "execution_count": null,
   "metadata": {
    "execution": {
     "iopub.execute_input": "2023-08-15T22:41:44.711076Z",
     "iopub.status.busy": "2023-08-15T22:41:44.710629Z",
     "iopub.status.idle": "2023-08-15T22:41:46.362439Z",
     "shell.execute_reply": "2023-08-15T22:41:46.362021Z",
     "shell.execute_reply.started": "2023-08-15T22:41:44.711056Z"
    },
    "tags": []
   },
   "outputs": [],
   "source": [
    "butler = Butler('/repo/embargo', collections=[\"LSSTComCam/raw/all\", \"LSSTComCam/calib\"])"
   ]
  },
  {
   "cell_type": "markdown",
   "metadata": {},
   "source": [
    "## First, get a list of exposures\n",
    "### These should match what you see in RubinTV."
   ]
  },
  {
   "cell_type": "code",
   "execution_count": null,
   "metadata": {
    "execution": {
     "iopub.execute_input": "2023-08-15T22:41:51.425536Z",
     "iopub.status.busy": "2023-08-15T22:41:51.425343Z",
     "iopub.status.idle": "2023-08-15T22:41:51.472928Z",
     "shell.execute_reply": "2023-08-15T22:41:51.472542Z",
     "shell.execute_reply.started": "2023-08-15T22:41:51.425521Z"
    },
    "jupyter": {
     "outputs_hidden": true
    },
    "tags": []
   },
   "outputs": [],
   "source": [
    "dayObs = 20230728\n",
    "exposureList = []\n",
    "for record in butler.registry.queryDimensionRecords(\"exposure\", where=\"exposure.day_obs=%d\"%dayObs):\n",
    "    exposureList.append([record.id, record])\n",
    "exposureList.sort(key=lambda x: x[0])\n",
    "for [id,record] in exposureList:\n",
    "    print(record.id, record.observation_type, record.exposure_time)\n"
   ]
  },
  {
   "cell_type": "markdown",
   "metadata": {},
   "source": [
    "## Next, look at the raw data from one of the exposures.\n",
    "### Because of the large pedestal, we don't see much.  We need to do ISR"
   ]
  },
  {
   "cell_type": "code",
   "execution_count": null,
   "metadata": {
    "execution": {
     "iopub.execute_input": "2023-08-15T22:42:12.851510Z",
     "iopub.status.busy": "2023-08-15T22:42:12.851293Z",
     "iopub.status.idle": "2023-08-15T22:42:13.864379Z",
     "shell.execute_reply": "2023-08-15T22:42:13.864013Z",
     "shell.execute_reply.started": "2023-08-15T22:42:12.851495Z"
    },
    "tags": []
   },
   "outputs": [],
   "source": [
    "expId = 2023072800189\n",
    "raw = butler.get('raw', detector=0, exposure=expId)"
   ]
  },
  {
   "cell_type": "code",
   "execution_count": null,
   "metadata": {
    "execution": {
     "iopub.execute_input": "2023-08-15T22:42:16.669129Z",
     "iopub.status.busy": "2023-08-15T22:42:16.668890Z",
     "iopub.status.idle": "2023-08-15T22:42:18.540385Z",
     "shell.execute_reply": "2023-08-15T22:42:18.540060Z",
     "shell.execute_reply.started": "2023-08-15T22:42:16.669114Z"
    },
    "tags": []
   },
   "outputs": [],
   "source": [
    "# Now look at the data with matplotlib\n",
    "from matplotlib.colors import LogNorm\n",
    "\n",
    "def colorbar(mappable):\n",
    "    from mpl_toolkits.axes_grid1 import make_axes_locatable\n",
    "    last_axes = plt.gca()\n",
    "    ax = mappable.axes\n",
    "    fig = ax.figure\n",
    "    divider = make_axes_locatable(ax)\n",
    "    cax = divider.append_axes(\"right\", size=\"5%\", pad=0.05)\n",
    "    cbar = fig.colorbar(mappable, cax=cax)\n",
    "    plt.sca(last_axes)\n",
    "    return cbar\n",
    "\n",
    "plt.figure(figsize=(8,8))\n",
    "plt.suptitle(f\"Image\",fontsize=18)\n",
    "arr = raw.image.array\n",
    "img = plt.imshow(arr, norm=LogNorm(vmin=20000, vmax=25000), interpolation='Nearest', cmap='gray')\n",
    "colorbar(img)\n",
    "plt.tight_layout(h_pad=1)\n"
   ]
  },
  {
   "cell_type": "markdown",
   "metadata": {},
   "source": [
    "## Define a simple ISR\n",
    "### Just overscan subtraction and bias subtraction.\n",
    "### This should be enough to look at cosmic rays"
   ]
  },
  {
   "cell_type": "code",
   "execution_count": null,
   "metadata": {
    "execution": {
     "iopub.execute_input": "2023-08-15T22:42:24.491899Z",
     "iopub.status.busy": "2023-08-15T22:42:24.491581Z",
     "iopub.status.idle": "2023-08-15T22:42:24.515784Z",
     "shell.execute_reply": "2023-08-15T22:42:24.515411Z",
     "shell.execute_reply.started": "2023-08-15T22:42:24.491876Z"
    },
    "tags": []
   },
   "outputs": [],
   "source": [
    "isrConfig = IsrTaskConfig()\n",
    "isrConfig.doLinearize=False\n",
    "isrConfig.doOverscan=True\n",
    "isrConfig.doAssembleCcd=True\n",
    "isrConfig.doBias=True\n",
    "isrConfig.doVariance=False\n",
    "isrConfig.doLinearize=False\n",
    "isrConfig.doCrosstalk=False\n",
    "isrConfig.doBrighterFatter=False\n",
    "isrConfig.doDark=False\n",
    "isrConfig.doStrayLight=False\n",
    "isrConfig.doFlat=False\n",
    "isrConfig.doFringe=False\n",
    "isrConfig.doApplyGains=False\n",
    "isrConfig.doDefect=False\n",
    "isrConfig.doNanMasking=True\n",
    "isrConfig.doInterpolate=False\n",
    "isrConfig.doSaturation=False\n",
    "isrConfig.doSaturationInterpolation=False\n",
    "isrTask = IsrTask(config=isrConfig)"
   ]
  },
  {
   "cell_type": "markdown",
   "metadata": {},
   "source": [
    "## Run the ISR and look at the result\n",
    "### Here I've taken an exposure where I found a cosmic ray using the RUbinTV CCS image viewer image"
   ]
  },
  {
   "cell_type": "code",
   "execution_count": null,
   "metadata": {
    "execution": {
     "iopub.execute_input": "2023-08-15T22:42:36.958879Z",
     "iopub.status.busy": "2023-08-15T22:42:36.958622Z",
     "iopub.status.idle": "2023-08-15T22:42:39.512939Z",
     "shell.execute_reply": "2023-08-15T22:42:39.512475Z",
     "shell.execute_reply.started": "2023-08-15T22:42:36.958866Z"
    },
    "tags": []
   },
   "outputs": [],
   "source": [
    "expId = 2023072800189\n",
    "exp = butler.get('raw', detector=3, exposure=expId) # This is the raw data\n",
    "biasExp = butler.get('bias', detector=3, exposure=expId) # This is a bias image associated with the data\n",
    "isrResult = isrTask.run(exp, bias=biasExp) # This runs the ISR"
   ]
  },
  {
   "cell_type": "code",
   "execution_count": null,
   "metadata": {
    "execution": {
     "iopub.execute_input": "2023-08-15T22:42:44.227052Z",
     "iopub.status.busy": "2023-08-15T22:42:44.226842Z",
     "iopub.status.idle": "2023-08-15T22:42:44.614520Z",
     "shell.execute_reply": "2023-08-15T22:42:44.614114Z",
     "shell.execute_reply.started": "2023-08-15T22:42:44.227038Z"
    },
    "tags": []
   },
   "outputs": [],
   "source": [
    "# Now look at the data with matplotlib\n",
    "# No cosmics are visible at this scale\n",
    "from matplotlib.colors import LogNorm\n",
    "\n",
    "def colorbar(mappable):\n",
    "    from mpl_toolkits.axes_grid1 import make_axes_locatable\n",
    "    last_axes = plt.gca()\n",
    "    ax = mappable.axes\n",
    "    fig = ax.figure\n",
    "    divider = make_axes_locatable(ax)\n",
    "    cax = divider.append_axes(\"right\", size=\"5%\", pad=0.05)\n",
    "    cbar = fig.colorbar(mappable, cax=cax)\n",
    "    plt.sca(last_axes)\n",
    "    return cbar\n",
    "\n",
    "plt.figure(figsize=(8,8))\n",
    "plt.suptitle(f\"Image\",fontsize=18)\n",
    "arr = isrResult.exposure.image.array\n",
    "img = plt.imshow(arr, vmin=-1, vmax=5, interpolation='Nearest', cmap='gray')\n",
    "colorbar(img)\n",
    "plt.tight_layout(h_pad=1)\n"
   ]
  },
  {
   "cell_type": "markdown",
   "metadata": {},
   "source": [
    "## Now zoom in on a cosmic ray that I found with the RubinTV CCS image viewer"
   ]
  },
  {
   "cell_type": "code",
   "execution_count": null,
   "metadata": {
    "execution": {
     "iopub.execute_input": "2023-08-15T22:46:00.320664Z",
     "iopub.status.busy": "2023-08-15T22:46:00.320130Z",
     "iopub.status.idle": "2023-08-15T22:46:00.527984Z",
     "shell.execute_reply": "2023-08-15T22:46:00.527596Z",
     "shell.execute_reply.started": "2023-08-15T22:46:00.320649Z"
    },
    "tags": []
   },
   "outputs": [],
   "source": [
    "# Now look at the data with matplotlib\n",
    "from matplotlib.colors import LogNorm\n",
    "\n",
    "def colorbar(mappable):\n",
    "    from mpl_toolkits.axes_grid1 import make_axes_locatable\n",
    "    last_axes = plt.gca()\n",
    "    ax = mappable.axes\n",
    "    fig = ax.figure\n",
    "    divider = make_axes_locatable(ax)\n",
    "    cax = divider.append_axes(\"right\", size=\"5%\", pad=0.05)\n",
    "    cbar = fig.colorbar(mappable, cax=cax)\n",
    "    plt.sca(last_axes)\n",
    "    return cbar\n",
    "\n",
    "plt.figure(figsize=(8,8))\n",
    "plt.suptitle(f\"Image\",fontsize=18)\n",
    "arr = isrResult.exposure.image.array[2300:2500,3000:3200] # These coordinates need some explanation\n",
    "img = plt.imshow(arr, vmin=1, vmax=100, interpolation='Nearest', cmap='gray')\n",
    "colorbar(img)\n",
    "plt.tight_layout(h_pad=1)\n"
   ]
  },
  {
   "cell_type": "code",
   "execution_count": null,
   "metadata": {},
   "outputs": [],
   "source": []
  }
 ],
 "metadata": {
  "kernelspec": {
   "display_name": "LSST",
   "language": "python",
   "name": "lsst"
  },
  "language_info": {
   "codemirror_mode": {
    "name": "ipython",
    "version": 3
   },
   "file_extension": ".py",
   "mimetype": "text/x-python",
   "name": "python",
   "nbconvert_exporter": "python",
   "pygments_lexer": "ipython3",
   "version": "3.11.4"
  }
 },
 "nbformat": 4,
 "nbformat_minor": 4
}
