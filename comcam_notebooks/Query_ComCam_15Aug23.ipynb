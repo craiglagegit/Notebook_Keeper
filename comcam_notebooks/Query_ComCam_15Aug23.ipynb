{
 "cells": [
  {
   "cell_type": "markdown",
   "metadata": {},
   "source": [
    "## Queries - Gen3\n",
    "\n",
    "In this notebook, we show how to query the ComCam repository\\\n",
    "and view the resulting images.\\\n",
    "Craig Lage - 15-Aug-23"
   ]
  },
  {
   "cell_type": "code",
   "execution_count": null,
   "metadata": {
    "execution": {
     "iopub.execute_input": "2024-04-25T19:57:34.082582Z",
     "iopub.status.busy": "2024-04-25T19:57:34.082410Z",
     "iopub.status.idle": "2024-04-25T19:57:37.322290Z",
     "shell.execute_reply": "2024-04-25T19:57:37.321788Z",
     "shell.execute_reply.started": "2024-04-25T19:57:34.082564Z"
    },
    "tags": []
   },
   "outputs": [],
   "source": [
    "import numpy as np\n",
    "import matplotlib.pyplot as plt\n",
    "import astropy.io.fits as pf\n",
    "from lsst.daf.butler import Butler\n",
    "from lsst.ip.isr import IsrTask, IsrTaskConfig"
   ]
  },
  {
   "cell_type": "code",
   "execution_count": null,
   "metadata": {
    "execution": {
     "iopub.execute_input": "2024-04-25T19:59:01.025653Z",
     "iopub.status.busy": "2024-04-25T19:59:01.025454Z",
     "iopub.status.idle": "2024-04-25T19:59:01.595307Z",
     "shell.execute_reply": "2024-04-25T19:59:01.594870Z",
     "shell.execute_reply.started": "2024-04-25T19:59:01.025637Z"
    },
    "tags": []
   },
   "outputs": [],
   "source": [
    "butler = Butler('/repo/embargo', collections=[\"LSSTComCamSim/raw/all\", \"LSSTComCamSim/calib\"])"
   ]
  },
  {
   "cell_type": "markdown",
   "metadata": {},
   "source": [
    "## First, get a list of exposures\n",
    "### These should match what you see in RubinTV."
   ]
  },
  {
   "cell_type": "code",
   "execution_count": null,
   "metadata": {
    "execution": {
     "iopub.execute_input": "2024-04-25T19:59:08.517270Z",
     "iopub.status.busy": "2024-04-25T19:59:08.516598Z",
     "iopub.status.idle": "2024-04-25T19:59:08.572832Z",
     "shell.execute_reply": "2024-04-25T19:59:08.572439Z",
     "shell.execute_reply.started": "2024-04-25T19:59:08.517251Z"
    },
    "tags": []
   },
   "outputs": [],
   "source": [
    "dayObs = 20240425\n",
    "exposureList = []\n",
    "for record in butler.registry.queryDimensionRecords(\"exposure\", where=\"exposure.day_obs=%d\"%dayObs):\n",
    "    exposureList.append([record.id, record])\n",
    "exposureList.sort(key=lambda x: x[0])\n",
    "for [id,record] in exposureList:\n",
    "    print(record.id, record.observation_type, record.exposure_time)\n"
   ]
  },
  {
   "cell_type": "markdown",
   "metadata": {},
   "source": [
    "## Next, look at the raw data from one of the exposures.\n",
    "### Because of the large pedestal, we don't see much.  We need to do ISR"
   ]
  },
  {
   "cell_type": "code",
   "execution_count": null,
   "metadata": {
    "execution": {
     "iopub.execute_input": "2023-08-21T19:12:15.691715Z",
     "iopub.status.busy": "2023-08-21T19:12:15.691400Z",
     "iopub.status.idle": "2023-08-21T19:12:16.802787Z",
     "shell.execute_reply": "2023-08-21T19:12:16.802347Z",
     "shell.execute_reply.started": "2023-08-21T19:12:15.691700Z"
    },
    "tags": []
   },
   "outputs": [],
   "source": [
    "expId = 2023072800189\n",
    "raw = butler.get('raw', detector=0, exposure=expId)"
   ]
  },
  {
   "cell_type": "code",
   "execution_count": null,
   "metadata": {
    "execution": {
     "iopub.execute_input": "2023-08-15T22:42:16.669129Z",
     "iopub.status.busy": "2023-08-15T22:42:16.668890Z",
     "iopub.status.idle": "2023-08-15T22:42:18.540385Z",
     "shell.execute_reply": "2023-08-15T22:42:18.540060Z",
     "shell.execute_reply.started": "2023-08-15T22:42:16.669114Z"
    },
    "tags": []
   },
   "outputs": [],
   "source": [
    "# Now look at the data with matplotlib\n",
    "from matplotlib.colors import LogNorm\n",
    "\n",
    "def colorbar(mappable):\n",
    "    from mpl_toolkits.axes_grid1 import make_axes_locatable\n",
    "    last_axes = plt.gca()\n",
    "    ax = mappable.axes\n",
    "    fig = ax.figure\n",
    "    divider = make_axes_locatable(ax)\n",
    "    cax = divider.append_axes(\"right\", size=\"5%\", pad=0.05)\n",
    "    cbar = fig.colorbar(mappable, cax=cax)\n",
    "    plt.sca(last_axes)\n",
    "    return cbar\n",
    "\n",
    "plt.figure(figsize=(8,8))\n",
    "plt.suptitle(f\"Image\",fontsize=18)\n",
    "arr = raw.image.array\n",
    "img = plt.imshow(arr, norm=LogNorm(vmin=20000, vmax=25000), interpolation='Nearest', cmap='gray')\n",
    "colorbar(img)\n",
    "plt.tight_layout(h_pad=1)\n"
   ]
  },
  {
   "cell_type": "markdown",
   "metadata": {},
   "source": [
    "## Define a simple ISR\n",
    "### Just overscan subtraction and bias subtraction.\n",
    "### This should be enough to look at cosmic rays"
   ]
  },
  {
   "cell_type": "code",
   "execution_count": null,
   "metadata": {
    "execution": {
     "iopub.execute_input": "2023-08-21T19:13:08.047633Z",
     "iopub.status.busy": "2023-08-21T19:13:08.047342Z",
     "iopub.status.idle": "2023-08-21T19:13:08.070545Z",
     "shell.execute_reply": "2023-08-21T19:13:08.070238Z",
     "shell.execute_reply.started": "2023-08-21T19:13:08.047617Z"
    },
    "tags": []
   },
   "outputs": [],
   "source": [
    "isrConfig = IsrTaskConfig()\n",
    "isrConfig.doLinearize=False\n",
    "isrConfig.doOverscan=True\n",
    "isrConfig.doAssembleCcd=False\n",
    "isrConfig.doBias=False\n",
    "isrConfig.doVariance=False\n",
    "isrConfig.doLinearize=False\n",
    "isrConfig.doCrosstalk=False\n",
    "isrConfig.doBrighterFatter=False\n",
    "isrConfig.doDark=False\n",
    "isrConfig.doStrayLight=False\n",
    "isrConfig.doFlat=False\n",
    "isrConfig.doFringe=False\n",
    "isrConfig.doApplyGains=False\n",
    "isrConfig.doDefect=False\n",
    "isrConfig.doNanMasking=True\n",
    "isrConfig.doInterpolate=False\n",
    "isrConfig.doSaturation=False\n",
    "isrConfig.doSaturationInterpolation=False\n",
    "isrTask = IsrTask(config=isrConfig)"
   ]
  },
  {
   "cell_type": "markdown",
   "metadata": {},
   "source": [
    "## Run the ISR and look at the result\n",
    "### Here I've taken an exposure where I found a cosmic ray using the RUbinTV CCS image viewer image"
   ]
  },
  {
   "cell_type": "code",
   "execution_count": null,
   "metadata": {
    "execution": {
     "iopub.execute_input": "2023-08-21T19:13:13.148688Z",
     "iopub.status.busy": "2023-08-21T19:13:13.148412Z",
     "iopub.status.idle": "2023-08-21T19:13:15.185118Z",
     "shell.execute_reply": "2023-08-21T19:13:15.184619Z",
     "shell.execute_reply.started": "2023-08-21T19:13:13.148674Z"
    },
    "tags": []
   },
   "outputs": [],
   "source": [
    "expId = 2023072800189\n",
    "exp = butler.get('raw', detector=3, exposure=expId) # This is the raw data\n",
    "#biasExp = butler.get('bias', detector=3, exposure=expId) # This is a bias image associated with the data\n",
    "isrResult = isrTask.run(exp) # This runs the ISR"
   ]
  },
  {
   "cell_type": "code",
   "execution_count": null,
   "metadata": {
    "execution": {
     "iopub.execute_input": "2023-08-21T19:13:23.321711Z",
     "iopub.status.busy": "2023-08-21T19:13:23.321387Z",
     "iopub.status.idle": "2023-08-21T19:13:24.055026Z",
     "shell.execute_reply": "2023-08-21T19:13:24.054586Z",
     "shell.execute_reply.started": "2023-08-21T19:13:23.321694Z"
    },
    "tags": []
   },
   "outputs": [],
   "source": [
    "# Now look at the data with matplotlib\n",
    "# No cosmics are visible at this scale\n",
    "from matplotlib.colors import LogNorm\n",
    "\n",
    "def colorbar(mappable):\n",
    "    from mpl_toolkits.axes_grid1 import make_axes_locatable\n",
    "    last_axes = plt.gca()\n",
    "    ax = mappable.axes\n",
    "    fig = ax.figure\n",
    "    divider = make_axes_locatable(ax)\n",
    "    cax = divider.append_axes(\"right\", size=\"5%\", pad=0.05)\n",
    "    cbar = fig.colorbar(mappable, cax=cax)\n",
    "    plt.sca(last_axes)\n",
    "    return cbar\n",
    "\n",
    "plt.figure(figsize=(8,8))\n",
    "plt.suptitle(f\"Image\",fontsize=18)\n",
    "arr = isrResult.exposure.image.array\n",
    "img = plt.imshow(arr, vmin=-1, vmax=5, interpolation='Nearest', cmap='gray')\n",
    "colorbar(img)\n",
    "plt.tight_layout(h_pad=1)\n"
   ]
  },
  {
   "cell_type": "markdown",
   "metadata": {},
   "source": [
    "## Now zoom in on a cosmic ray that I found with the RubinTV CCS image viewer"
   ]
  },
  {
   "cell_type": "code",
   "execution_count": null,
   "metadata": {
    "execution": {
     "iopub.execute_input": "2023-08-15T22:46:00.320664Z",
     "iopub.status.busy": "2023-08-15T22:46:00.320130Z",
     "iopub.status.idle": "2023-08-15T22:46:00.527984Z",
     "shell.execute_reply": "2023-08-15T22:46:00.527596Z",
     "shell.execute_reply.started": "2023-08-15T22:46:00.320649Z"
    },
    "tags": []
   },
   "outputs": [],
   "source": [
    "# Now look at the data with matplotlib\n",
    "from matplotlib.colors import LogNorm\n",
    "\n",
    "def colorbar(mappable):\n",
    "    from mpl_toolkits.axes_grid1 import make_axes_locatable\n",
    "    last_axes = plt.gca()\n",
    "    ax = mappable.axes\n",
    "    fig = ax.figure\n",
    "    divider = make_axes_locatable(ax)\n",
    "    cax = divider.append_axes(\"right\", size=\"5%\", pad=0.05)\n",
    "    cbar = fig.colorbar(mappable, cax=cax)\n",
    "    plt.sca(last_axes)\n",
    "    return cbar\n",
    "\n",
    "plt.figure(figsize=(8,8))\n",
    "plt.suptitle(f\"Image\",fontsize=18)\n",
    "arr = isrResult.exposure.image.array[2300:2500,3000:3200] # These coordinates need some explanation\n",
    "img = plt.imshow(arr, vmin=1, vmax=100, interpolation='Nearest', cmap='gray')\n",
    "colorbar(img)\n",
    "plt.tight_layout(h_pad=1)\n"
   ]
  },
  {
   "cell_type": "code",
   "execution_count": null,
   "metadata": {
    "execution": {
     "iopub.execute_input": "2023-08-21T19:16:50.433712Z",
     "iopub.status.busy": "2023-08-21T19:16:50.433388Z",
     "iopub.status.idle": "2023-08-21T19:16:50.436086Z",
     "shell.execute_reply": "2023-08-21T19:16:50.435718Z",
     "shell.execute_reply.started": "2023-08-21T19:16:50.433699Z"
    },
    "tags": []
   },
   "outputs": [],
   "source": [
    "test = exp.getDetector()"
   ]
  },
  {
   "cell_type": "code",
   "execution_count": null,
   "metadata": {
    "execution": {
     "iopub.execute_input": "2023-08-21T19:17:10.714905Z",
     "iopub.status.busy": "2023-08-21T19:17:10.714614Z",
     "iopub.status.idle": "2023-08-21T19:17:10.717462Z",
     "shell.execute_reply": "2023-08-21T19:17:10.717056Z",
     "shell.execute_reply.started": "2023-08-21T19:17:10.714891Z"
    },
    "tags": []
   },
   "outputs": [],
   "source": [
    "amps = test.getAmplifiers()"
   ]
  },
  {
   "cell_type": "code",
   "execution_count": null,
   "metadata": {
    "execution": {
     "iopub.execute_input": "2023-08-21T19:17:17.034040Z",
     "iopub.status.busy": "2023-08-21T19:17:17.033719Z",
     "iopub.status.idle": "2023-08-21T19:17:17.037252Z",
     "shell.execute_reply": "2023-08-21T19:17:17.036881Z",
     "shell.execute_reply.started": "2023-08-21T19:17:17.034023Z"
    },
    "tags": []
   },
   "outputs": [],
   "source": [
    "amps[0]."
   ]
  },
  {
   "cell_type": "code",
   "execution_count": null,
   "metadata": {
    "execution": {
     "iopub.execute_input": "2023-08-21T19:21:01.841075Z",
     "iopub.status.busy": "2023-08-21T19:21:01.840777Z",
     "iopub.status.idle": "2023-08-21T19:21:01.844297Z",
     "shell.execute_reply": "2023-08-21T19:21:01.843927Z",
     "shell.execute_reply.started": "2023-08-21T19:21:01.841061Z"
    },
    "tags": []
   },
   "outputs": [],
   "source": [
    "amps[0].getBBox()"
   ]
  },
  {
   "cell_type": "code",
   "execution_count": null,
   "metadata": {
    "execution": {
     "iopub.execute_input": "2023-08-21T19:19:44.410983Z",
     "iopub.status.busy": "2023-08-21T19:19:44.410360Z",
     "iopub.status.idle": "2023-08-21T19:19:44.413285Z",
     "shell.execute_reply": "2023-08-21T19:19:44.412904Z",
     "shell.execute_reply.started": "2023-08-21T19:19:44.410965Z"
    },
    "tags": []
   },
   "outputs": [],
   "source": [
    "amp1 = exp[amps[0].getRawBBox()]"
   ]
  },
  {
   "cell_type": "code",
   "execution_count": null,
   "metadata": {
    "execution": {
     "iopub.execute_input": "2023-08-21T19:19:52.204544Z",
     "iopub.status.busy": "2023-08-21T19:19:52.203986Z",
     "iopub.status.idle": "2023-08-21T19:19:52.207570Z",
     "shell.execute_reply": "2023-08-21T19:19:52.207236Z",
     "shell.execute_reply.started": "2023-08-21T19:19:52.204531Z"
    },
    "tags": []
   },
   "outputs": [],
   "source": [
    "amp1.image.array"
   ]
  },
  {
   "cell_type": "code",
   "execution_count": null,
   "metadata": {
    "execution": {
     "iopub.execute_input": "2023-08-21T19:23:04.770963Z",
     "iopub.status.busy": "2023-08-21T19:23:04.770783Z",
     "iopub.status.idle": "2023-08-21T19:23:04.773463Z",
     "shell.execute_reply": "2023-08-21T19:23:04.773100Z",
     "shell.execute_reply.started": "2023-08-21T19:23:04.770950Z"
    },
    "tags": []
   },
   "outputs": [],
   "source": [
    "amp1Post = isrResult.exposure[amps[0].getBBox()]"
   ]
  },
  {
   "cell_type": "code",
   "execution_count": null,
   "metadata": {
    "execution": {
     "iopub.execute_input": "2023-08-21T19:23:16.796804Z",
     "iopub.status.busy": "2023-08-21T19:23:16.796487Z",
     "iopub.status.idle": "2023-08-21T19:23:16.800020Z",
     "shell.execute_reply": "2023-08-21T19:23:16.799662Z",
     "shell.execute_reply.started": "2023-08-21T19:23:16.796790Z"
    },
    "tags": []
   },
   "outputs": [],
   "source": [
    "amp1Post.image.array.shape"
   ]
  },
  {
   "cell_type": "code",
   "execution_count": null,
   "metadata": {},
   "outputs": [],
   "source": []
  }
 ],
 "metadata": {
  "kernelspec": {
   "display_name": "LSST",
   "language": "python",
   "name": "lsst"
  },
  "language_info": {
   "codemirror_mode": {
    "name": "ipython",
    "version": 3
   },
   "file_extension": ".py",
   "mimetype": "text/x-python",
   "name": "python",
   "nbconvert_exporter": "python",
   "pygments_lexer": "ipython3",
   "version": "3.11.7"
  }
 },
 "nbformat": 4,
 "nbformat_minor": 4
}
