{
 "cells": [
  {
   "cell_type": "markdown",
   "metadata": {},
   "source": [
    "# Notebook for re-ingesting ComCam data.\n",
    "\n",
    "Initially written 15 Nov 2019 by Craig Lage\\\n",
    "This ingests the images into my own repo, \\\n",
    "creates the master bias images, and ingests them.\\\n",
    "02-Dec-19 - I've added the master flats and master darks.\n",
    "19-Dec-19  Adding code to add missing header keywords\\\n",
    "I'm setting up for BF correction, so this requires the following:\\\n",
    "obs_base: tickets/DM-18683\\\n",
    "obs_lsst: tickets/DM-18683\\\n",
    "cp_pipe: tickets/DM-18683\\\n",
    "ip_isr: tickets/DM-22659"
   ]
  },
  {
   "cell_type": "code",
   "execution_count": null,
   "metadata": {},
   "outputs": [],
   "source": [
    "! eups list -s | grep lsst_distrib"
   ]
  },
  {
   "cell_type": "code",
   "execution_count": null,
   "metadata": {},
   "outputs": [],
   "source": [
    "import eups\n",
    "import sys, os, glob\n",
    "import pickle as pkl\n",
    "import numpy as np\n",
    "import matplotlib.pyplot as plt\n",
    "import astropy.io.fits as pf\n",
    "\n",
    "from lsst.daf.persistence import Butler\n",
    "from lsst.ip.isr.isrTask import IsrTask\n",
    "from lsst.pipe.tasks.characterizeImage import CharacterizeImageTask, CharacterizeImageConfig"
   ]
  },
  {
   "cell_type": "code",
   "execution_count": null,
   "metadata": {},
   "outputs": [],
   "source": [
    "DATA_DIR = '/project/shared/comCam/'\n",
    "REPO_DIR = '/project/cslage/ComCam/20191218_Test/'\n",
    "OUTPUT_DIR = '/project/cslage/ComCam/20191218_Test/'\n",
    "DETECTOR = 4\n",
    "raftName = 'R22'"
   ]
  },
  {
   "cell_type": "code",
   "execution_count": null,
   "metadata": {
    "jupyter": {
     "outputs_hidden": true
    }
   },
   "outputs": [],
   "source": [
    "# First check the exposure times\n",
    "filedir = DATA_DIR+'raw/20191218/'\n",
    "files = glob.glob(filedir+'CC_C_20191218_00????/CC_C_20191218_00????_R22_S11.fits')\n",
    "files = np.sort(files)\n",
    "numFiles = len(files)\n",
    "print(numFiles)\n",
    "\n",
    "for file in files:\n",
    "    hdulist = pf.open(file, mode='readonly', do_not_scale_image_data=True)\n",
    "        \n",
    "    phdr=hdulist[0].header\n",
    "    filename = file.split('/')[6][14:]#phdr['FILENAME']\n",
    "    exptime = phdr['EXPTIME']\n",
    "    imgtype = phdr['IMGTYPE'] \n",
    "    print(\"%s\\t%s\\t%f\"%(filename, imgtype, exptime))\n"
   ]
  },
  {
   "cell_type": "code",
   "execution_count": null,
   "metadata": {},
   "outputs": [],
   "source": [
    "# Now we create the correction files to add the missing header keywords\n",
    "# Correction file name format is comCam-CC_C_20191218_000001.yaml\n",
    "filedir = DATA_DIR+'raw/20191218/'\n",
    "files = glob.glob(filedir+'CC_C_20191218_00????/CC_C_20191218_00????_R22_S11.fits')\n",
    "files = np.sort(files)\n",
    "lines = 'LSST_NUM: ITL-3800C-206\\n'\n",
    "lines+= 'RAFTNAME: R22\\n'\n",
    "for file in files:\n",
    "    date = file.split('/')[-1][5:13]\n",
    "    seqnum =  file.split('/')[-1][14:20]\n",
    "    #print(date, seqnum)\n",
    "    #break\n",
    "    filename = '/home/cslage/alternate_branches/obs_lsst/corrections/comCam-CC_C_%s_%s.yaml'%(date, seqnum)\n",
    "    print(filename)\n",
    "    correctionFile = open(filename, 'w')\n",
    "    correctionFile.write(lines)\n",
    "    correctionFile.close()"
   ]
  },
  {
   "cell_type": "code",
   "execution_count": null,
   "metadata": {},
   "outputs": [],
   "source": [
    "# Now ingest the images\n",
    "! mkdir -p {REPO_DIR}\n",
    "! echo \"lsst.obs.lsst.comCam.LsstComCamMapper\" > {REPO_DIR+\"_mapper\"}\n",
    "args = REPO_DIR + \" \" + DATA_DIR + \"raw/20191218/*/*_R22_S11.fits\" + \" \" + \"--mode=link\"\n",
    "! ingestImages.py {args}"
   ]
  },
  {
   "cell_type": "code",
   "execution_count": null,
   "metadata": {
    "jupyter": {
     "outputs_hidden": true
    }
   },
   "outputs": [],
   "source": [
    "# Now create a master bias\n",
    "start=3019121800005\n",
    "end=3019121800010\n",
    "CALIB_DIR = REPO_DIR + \"CALIB\"\n",
    "RERUN_DIR = REPO_DIR + \"calib_construction\"\n",
    "! mkdir -p {CALIB_DIR}\n",
    "args = REPO_DIR + \" --calib \" + CALIB_DIR + \" --rerun \" + RERUN_DIR + \" --id visit=%d..%d\"%(start,end) + \\\n",
    "\" --batch-type=None\" + \" -c isr.doCrosstalk=False\" + \" --clobber-config\"\n",
    "! constructBias.py {args}"
   ]
  },
  {
   "cell_type": "code",
   "execution_count": null,
   "metadata": {},
   "outputs": [],
   "source": [
    "# Now ingest the master bias image\n",
    "args = REPO_DIR + \" \" + RERUN_DIR + \"/bias/*/*.fits\" + \" --validity 9999\" + \" --calib \" + CALIB_DIR + \" --mode=link\"\n",
    "! ingestCalibs.py {args} "
   ]
  },
  {
   "cell_type": "code",
   "execution_count": null,
   "metadata": {
    "jupyter": {
     "outputs_hidden": true
    }
   },
   "outputs": [],
   "source": [
    "# Now create a master dark\n",
    "# It failed with the default number of cosmic ray pixels = 10000\n",
    "# Increased this to 100,000 and then it ran.\n",
    "visits = []\n",
    "starting_visit = 3019121800022\n",
    "ending_visit = 3019121800022\n",
    "visit = starting_visit\n",
    "while visit < ending_visit + 1:\n",
    "    visits.append(visit)\n",
    "    visit += 2\n",
    "print(len(visits))\n",
    "CALIB_DIR = REPO_DIR + \"CALIB\"\n",
    "RERUN_DIR = REPO_DIR + \"calib_construction\"\n",
    "\n",
    "args = REPO_DIR + \" --calib \" + CALIB_DIR + \" --rerun \" + RERUN_DIR + \" --id visit=\"\n",
    "for visit in visits:\n",
    "    if visit != starting_visit:\n",
    "        args += \"^\"\n",
    "    args += str(visit)\n",
    "\n",
    "args += \" --batch-type=None\" + \" -c isr.doCrosstalk=False repair.cosmicray.nCrPixelMax=100000\" + \" --clobber-config\"\n",
    "print(args)\n",
    "! constructDark.py {args}"
   ]
  },
  {
   "cell_type": "code",
   "execution_count": null,
   "metadata": {},
   "outputs": [],
   "source": [
    "# Now ingest the master dark image\n",
    "args = REPO_DIR + \" \" + RERUN_DIR + \"/dark/*/*.fits\" + \" --validity 9999\" + \" --calib \" + CALIB_DIR + \" --mode=link\"\n",
    "! ingestCalibs.py {args} "
   ]
  },
  {
   "cell_type": "code",
   "execution_count": null,
   "metadata": {
    "jupyter": {
     "outputs_hidden": true
    }
   },
   "outputs": [],
   "source": [
    "# Skipping master flats - no flats in this dataset\n",
    "# Now create a master flat\n",
    "visits = []\n",
    "starting_visit = 2019111300044\n",
    "ending_visit = 2019111300062\n",
    "visit = starting_visit\n",
    "while visit < ending_visit + 1:\n",
    "    visits.append(visit)\n",
    "    visit += 2\n",
    "print(len(visits))\n",
    "CALIB_DIR = REPO_DIR + \"CALIB\"\n",
    "RERUN_DIR = REPO_DIR + \"calib_construction\"\n",
    "\n",
    "args = REPO_DIR + \" --calib \" + CALIB_DIR + \" --rerun \" + RERUN_DIR + \" --id visit=\"\n",
    "for visit in visits:\n",
    "    if visit != starting_visit:\n",
    "        args += \"^\"\n",
    "    args += str(visit)\n",
    "\n",
    "args += \" batch-type=None\" + \" -c isr.doCrosstalk=False\" + \" --clobber-config\"\n",
    "print(args)\n",
    "! constructFlat.py {args}"
   ]
  },
  {
   "cell_type": "code",
   "execution_count": null,
   "metadata": {
    "jupyter": {
     "outputs_hidden": true
    }
   },
   "outputs": [],
   "source": [
    "# Now ingest the master flat images\n",
    "args = REPO_DIR + \" \" + RERUN_DIR + \"/flat/*/*/*.fits\" + \" --validity 9999\" + \" --calib \" + CALIB_DIR + \" --mode=link\"\n",
    "! ingestCalibs.py {args} "
   ]
  },
  {
   "cell_type": "code",
   "execution_count": null,
   "metadata": {},
   "outputs": [],
   "source": [
    "# Now let's try running the ISR on a spot image. This is a medium exposure.\n",
    "spot_visit = 3019121800081\n",
    "butler = Butler(REPO_DIR)\n",
    "rawSpot = butler.get('raw', detector=4, visit=spot_visit)\n",
    "# this is the dataRef for running isr\n",
    "rawSpotDataRef = butler.dataRef('raw', detector=4, visit=spot_visit)\n",
    "\n",
    "isrConfig = IsrTask.ConfigClass()\n",
    "isrConfig.doLinearize = False\n",
    "isrConfig.doBias = True\n",
    "isrConfig.doFlat = False\n",
    "isrConfig.doDark = True\n",
    "isrConfig.doFringe = False\n",
    "isrConfig.doDefect = False\n",
    "isrConfig.doAddDistortionModel = False\n",
    "isrConfig.doWrite = False\n",
    "isrTask = IsrTask(config=isrConfig)\n",
    "# run the task and take the exposure\n",
    "postIsrSpot = isrTask.runDataRef(rawSpotDataRef).exposure\n",
    "\n",
    "charConfig = CharacterizeImageConfig()\n",
    "charConfig.installSimplePsf.fwhm = 1.0\n",
    "charConfig.doMeasurePsf = False\n",
    "charConfig.doApCorr = False\n",
    "charConfig.doDeblend = False\n",
    "charConfig.repair.doCosmicRay = True\n",
    "charConfig.repair.cosmicray.nCrPixelMax=100000\n",
    "charConfig.repair.doInterpolate = False   \n",
    "charConfig.detection.background.binSize = 32\n",
    "charConfig.detection.minPixels = 10\n",
    "charTask = CharacterizeImageTask(config=charConfig)"
   ]
  },
  {
   "cell_type": "code",
   "execution_count": null,
   "metadata": {},
   "outputs": [],
   "source": [
    "# First just try a single image with medium brightness\n",
    "rawSpotDataRef = butler.dataRef('raw', detector=DETECTOR, visit=spot_visit)\n",
    "postIsrSpot = isrTask.runDataRef(rawSpotDataRef).exposure\n",
    "charResult = charTask.run(postIsrSpot)\n",
    "spotCatalog = charResult.sourceCat\n",
    "# These two liines weed out some bad data\n",
    "badSelect = spotCatalog['base_SdssShape_instFlux'] < 800000\n",
    "spotCatalog = spotCatalog.subset(badSelect)\n",
    "\n",
    "maxFlux = np.nanmax(spotCatalog['base_SdssShape_instFlux'])\n",
    "print(maxFlux)\n",
    "minFluxRatio = 0.80\n",
    "select = spotCatalog['base_SdssShape_instFlux'] > maxFlux * minFluxRatio\n",
    "numCat = len(spotCatalog)\n",
    "plt.figure(figsize=(16,8))\n",
    "plt.subplot(1,2,1, aspect=1)\n",
    "plt.title('X/Y locations of detections - numCat = %d'%numCat)\n",
    "color = spotCatalog['base_SdssShape_instFlux'] / maxFlux * 100.0\n",
    "plt.scatter(spotCatalog['base_SdssCentroid_x'],spotCatalog['base_SdssCentroid_y'],c=color, cmap=plt.cm.jet, s=5)\n",
    "plt.colorbar()\n",
    "plt.xlim(-100,4200)\n",
    "plt.ylim(-100,4200)\n",
    "\n",
    "spotCatalog  = spotCatalog.subset(select)\n",
    "numCat = len(spotCatalog)\n",
    "plt.subplot(1,2,2, aspect=1)\n",
    "plt.title('X/Y locations of detections - numCat = %d'%numCat)\n",
    "color = spotCatalog['base_SdssShape_instFlux'] / maxFlux * 100.0\n",
    "norm = plt.Normalize(vmin=0.0, vmax=100.0)\n",
    "plt.scatter(spotCatalog['base_SdssCentroid_x'],spotCatalog['base_SdssCentroid_y'],c=color, norm=norm, cmap=plt.cm.jet, s=5)\n",
    "plt.colorbar()\n",
    "plt.xlim(-100,4200)\n",
    "plt.ylim(-100,4200)\n",
    "plt.savefig(OUTPUT_DIR+\"plots/Spot_Intensities_19Dec19.pdf\")"
   ]
  },
  {
   "cell_type": "code",
   "execution_count": null,
   "metadata": {
    "jupyter": {
     "outputs_hidden": true,
     "source_hidden": true
    }
   },
   "outputs": [],
   "source": [
    "# This finds the bad spots\n",
    "plt.figure(figsize=(16,16))\n",
    "plt.subplot(1,1,1)\n",
    "plt.title('Flux')\n",
    "plt.hist(charResult.sourceCat['base_SdssShape_instFlux'])\n",
    "\n",
    "plt.show()"
   ]
  },
  {
   "cell_type": "code",
   "execution_count": null,
   "metadata": {},
   "outputs": [],
   "source": [
    "smallSelect = ((spotCatalog['base_SdssShape_instFlux'] > maxFlux * 0.98) & \\\n",
    "               (spotCatalog['base_SdssShape_instFlux'] < maxFlux * (1.0 - 1.0E-6)))\n",
    "smallSpotCatalog = spotCatalog.subset(smallSelect)\n",
    "maxSelect = spotCatalog['base_SdssShape_instFlux'] > maxFlux * (1.0 - 1.0E-6)\n",
    "maxSpotCatalog = spotCatalog.subset(maxSelect)\n",
    "print(len(maxSpotCatalog), len(smallSpotCatalog))\n",
    "\n",
    "sep = np.sqrt(np.square(smallSpotCatalog['base_SdssCentroid_x'] - maxSpotCatalog['base_SdssCentroid_x'][0]) + \\\n",
    "              np.square(smallSpotCatalog['base_SdssCentroid_y'] - maxSpotCatalog['base_SdssCentroid_y'][0]))\n",
    "print(\"Separation = %.2f pixels\"%np.nanmin(sep))"
   ]
  },
  {
   "cell_type": "code",
   "execution_count": null,
   "metadata": {},
   "outputs": [],
   "source": [
    "# Now just look at one of the spots\n",
    "# A much cleaner spot profile than in the ComCam images\n",
    "# This is certainly impacting the spot size algorithm\n",
    "spotCatalog = charResult.sourceCat\n",
    "xs = spotCatalog['base_SdssCentroid_x']\n",
    "ys = spotCatalog['base_SdssCentroid_y']\n",
    "spotNum = 277\n",
    "deltaX = deltaY = 25\n",
    "plotX = range(deltaX)\n",
    "xCen = int(round(xs[spotNum]))\n",
    "yCen = int(round(ys[spotNum]))\n",
    "print(spotNum, xCen, yCen)\n",
    "xMin = int(xCen - (deltaX-1)/2)\n",
    "xMax = xMin + deltaX\n",
    "yMin = int(yCen - (deltaY-1)/2)\n",
    "yMax = yMin + deltaY\n",
    "plt.figure(figsize=(16,8))    \n",
    "plt.subplot(1,2,1)\n",
    "plt.title(\"Spot %d X=%d; Y=%d\"%(spotNum,xCen,yCen))\n",
    "plt.imshow(postIsrSpot.image.array[yMin:yMax,xMin:xMax])\n",
    "plt.colorbar()\n",
    "plt.subplot(1,2,2)\n",
    "plt.plot(plotX, postIsrSpot.image.array[yCen,xMin:xMax], label = \"Y=%d\"%yCen)\n",
    "plt.plot(plotX, postIsrSpot.image.array[yMin:yMax,xCen], label = \"X=%d\"%xCen)\n",
    "plt.xlabel(\"Pixels\")\n",
    "plt.ylabel(\"ADU\")\n",
    "plt.legend()\n",
    "plt.savefig(OUTPUT_DIR+\"plots/Spot_Profile_%d_%d_19Dec19.pdf\"%(spot_visit, spotNum))"
   ]
  },
  {
   "cell_type": "code",
   "execution_count": null,
   "metadata": {},
   "outputs": [],
   "source": []
  }
 ],
 "metadata": {
  "jupytext": {
   "formats": "ipynb,markdown//md"
  },
  "kernelspec": {
   "display_name": "LSST",
   "language": "python",
   "name": "lsst"
  },
  "language_info": {
   "codemirror_mode": {
    "name": "ipython",
    "version": 3
   },
   "file_extension": ".py",
   "mimetype": "text/x-python",
   "name": "python",
   "nbconvert_exporter": "python",
   "pygments_lexer": "ipython3",
   "version": "3.7.6"
  }
 },
 "nbformat": 4,
 "nbformat_minor": 4
}
