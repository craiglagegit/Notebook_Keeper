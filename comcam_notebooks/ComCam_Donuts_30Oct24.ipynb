{
 "cells": [
  {
   "cell_type": "markdown",
   "metadata": {},
   "source": [
    "## ComCam Donuts\n",
    "\n",
    "Looking at ComCam donuts vs M2 Hexapod position\n",
    "Craig Lage - 30-Oct-24"
   ]
  },
  {
   "cell_type": "code",
   "execution_count": null,
   "metadata": {
    "execution": {
     "iopub.execute_input": "2024-10-30T12:56:48.154419Z",
     "iopub.status.busy": "2024-10-30T12:56:48.154087Z",
     "iopub.status.idle": "2024-10-30T12:56:53.679551Z",
     "shell.execute_reply": "2024-10-30T12:56:53.678988Z",
     "shell.execute_reply.started": "2024-10-30T12:56:48.154403Z"
    },
    "tags": []
   },
   "outputs": [],
   "source": [
    "import numpy as np\n",
    "import matplotlib.pyplot as plt\n",
    "import astropy.io.fits as pf\n",
    "from lsst.daf.butler import Butler\n",
    "from lsst.summit.utils.plotting import plot\n",
    "from astropy.time import Time, TimeDelta\n",
    "from lsst.pipe.tasks.characterizeImage import CharacterizeImageTask, CharacterizeImageConfig\n",
    "from lsst_efd_client import EfdClient"
   ]
  },
  {
   "cell_type": "code",
   "execution_count": null,
   "metadata": {
    "execution": {
     "iopub.execute_input": "2024-10-30T12:56:53.680936Z",
     "iopub.status.busy": "2024-10-30T12:56:53.680433Z",
     "iopub.status.idle": "2024-10-30T12:56:54.705385Z",
     "shell.execute_reply": "2024-10-30T12:56:54.704861Z",
     "shell.execute_reply.started": "2024-10-30T12:56:53.680921Z"
    },
    "tags": []
   },
   "outputs": [],
   "source": [
    "butler = Butler('/repo/embargo_new', collections=[\"LSSTComCam/raw/all\", \"LSSTComCam/calib\", \"LSSTComCam/nightlyValidation\"])\n",
    "client = EfdClient('usdf_efd')"
   ]
  },
  {
   "cell_type": "code",
   "execution_count": null,
   "metadata": {
    "execution": {
     "iopub.execute_input": "2024-10-30T13:39:25.515453Z",
     "iopub.status.busy": "2024-10-30T13:39:25.514829Z",
     "iopub.status.idle": "2024-10-30T13:39:25.609489Z",
     "shell.execute_reply": "2024-10-30T13:39:25.609000Z",
     "shell.execute_reply.started": "2024-10-30T13:39:25.515431Z"
    }
   },
   "outputs": [],
   "source": [
    "def findStamp(sources, index):\n",
    "    # Centers a donut stamp that was found with CharacterizeImageTask\n",
    "    stamp1 = 250\n",
    "    x11 = int(sources[index]['base_SdssCentroid_x']) - stamp1\n",
    "    x21 = int(sources[index]['base_SdssCentroid_x']) + stamp1\n",
    "    y11 = int(sources[index]['base_SdssCentroid_y']) - stamp1\n",
    "    y21 = int(sources[index]['base_SdssCentroid_y']) + stamp1\n",
    "    first = exp.image.array[y11:y21,x11:x21]\n",
    "    first -= np.nanmedian(first)    \n",
    "\n",
    "    sumx = 0.0\n",
    "    sumy = 0.0\n",
    "    for i in range(first.shape[0]):\n",
    "        for j in range(first.shape[1]):\n",
    "            if np.isnan(first[i,j]):\n",
    "                continue\n",
    "            sumx += i * first[i,j]\n",
    "            sumy += j * first[i,j]\n",
    "    sumx /= np.nansum(first)\n",
    "    sumy /= np.nansum(first)\n",
    "    stamp2 = 120\n",
    "    x12 = int(sumx-stamp2)\n",
    "    x22 = int(sumx+stamp2)\n",
    "    y12 = int(sumy-stamp2)\n",
    "    y22 = int(sumy+stamp2)\n",
    "    second = first[x12:x22, y12:y22]\n",
    "    return second\n",
    "\n",
    "\n",
    "charConfig = CharacterizeImageConfig()\n",
    "charConfig.doMeasurePsf = False\n",
    "charConfig.doApCorr = False\n",
    "charConfig.doDeblend = False\n",
    "charConfig.repair.doCosmicRay = False\n",
    "charConfig.repair.doInterpolate = False   \n",
    "charConfig.detection.minPixels = 10000\n",
    "charConfig.doNormalizedCalibration=False\n",
    "charTask = CharacterizeImageTask(config=charConfig)\n"
   ]
  },
  {
   "cell_type": "markdown",
   "metadata": {},
   "source": [
    "## First the XY sweep"
   ]
  },
  {
   "cell_type": "code",
   "execution_count": null,
   "metadata": {
    "execution": {
     "iopub.execute_input": "2024-10-30T13:19:01.334688Z",
     "iopub.status.busy": "2024-10-30T13:19:01.334094Z",
     "iopub.status.idle": "2024-10-30T13:21:00.942803Z",
     "shell.execute_reply": "2024-10-30T13:21:00.942180Z",
     "shell.execute_reply.started": "2024-10-30T13:19:01.334670Z"
    },
    "jupyter": {
     "outputs_hidden": true
    },
    "tags": []
   },
   "outputs": [],
   "source": [
    "%matplotlib inline\n",
    "instrument = 'LSSTComCam'\n",
    "data = []   \n",
    "for expId in range(2024102600179, 2024102600198):\n",
    "    try:\n",
    "        exp = butler.get('postISRCCD', detector=4, exposure=expId, instrument=instrument)\n",
    "        mData = exp.getMetadata()\n",
    "        charResult = charTask.run(exp)\n",
    "        sourceCatalog = charResult.sourceCat\n",
    "        sources = sourceCatalog.asAstropy()\n",
    "        sources.keep_columns(['base_SdssCentroid_x', 'base_SdssCentroid_y', 'base_CircularApertureFlux_3_0_instFlux'])\n",
    "        sources.sort('base_CircularApertureFlux_3_0_instFlux', reverse=True)\n",
    "\n",
    "        print(f\"{sources[0]['base_SdssCentroid_x']:.1f}, {sources[0]['base_SdssCentroid_y']:.1f}\") \n",
    "        stamp = findStamp(sources, 0)\n",
    "    \n",
    "        start = Time(mData['DATE-BEG'], scale='tai')\n",
    "        end = Time(mData['DATE-END'], scale='tai')\n",
    "        mhex = await client.select_time_series(\"lsst.sal.MTHexapod.application\", \n",
    "                                     [\"*\"], start.utc, end.utc, index=2)\n",
    "        X = np.median(mhex[\"position0\"].values)\n",
    "        Y = np.median(mhex[\"position1\"].values)\n",
    "        data.append([X, Y, stamp])\n",
    "    except:\n",
    "        print(f\"{expId} failed\")\n",
    "        continue\n"
   ]
  },
  {
   "cell_type": "code",
   "execution_count": null,
   "metadata": {
    "execution": {
     "iopub.execute_input": "2024-10-30T12:59:32.086128Z",
     "iopub.status.busy": "2024-10-30T12:59:32.085731Z",
     "iopub.status.idle": "2024-10-30T12:59:32.088918Z",
     "shell.execute_reply": "2024-10-30T12:59:32.088598Z",
     "shell.execute_reply.started": "2024-10-30T12:59:32.086112Z"
    }
   },
   "outputs": [],
   "source": [
    "len(data)"
   ]
  },
  {
   "cell_type": "code",
   "execution_count": null,
   "metadata": {
    "execution": {
     "iopub.execute_input": "2024-10-30T12:59:57.621547Z",
     "iopub.status.busy": "2024-10-30T12:59:57.621163Z",
     "iopub.status.idle": "2024-10-30T12:59:57.624385Z",
     "shell.execute_reply": "2024-10-30T12:59:57.624059Z",
     "shell.execute_reply.started": "2024-10-30T12:59:57.621530Z"
    },
    "jupyter": {
     "outputs_hidden": true
    }
   },
   "outputs": [],
   "source": [
    "for i in range(len(data)):\n",
    "    X = data[i][0]\n",
    "    Y = data[i][1]\n",
    "    print(f\"{X:.1f}, {Y:.1f}\")"
   ]
  },
  {
   "cell_type": "code",
   "execution_count": null,
   "metadata": {
    "execution": {
     "iopub.execute_input": "2024-10-30T13:25:44.562765Z",
     "iopub.status.busy": "2024-10-30T13:25:44.562121Z",
     "iopub.status.idle": "2024-10-30T13:25:45.133269Z",
     "shell.execute_reply": "2024-10-30T13:25:45.132811Z",
     "shell.execute_reply.started": "2024-10-30T13:25:44.562744Z"
    }
   },
   "outputs": [],
   "source": [
    "fig = plt.figure(figsize=(14.5,10))\n",
    "big_ax = plt.axes([0.1,0.1,0.8,0.8])\n",
    "\n",
    "xmin = -1500\n",
    "xmax = 800\n",
    "ymin = -750\n",
    "ymax = 900\n",
    "big_ax.set_title(\"M2 Sweep 2024-10-26\", fontsize=24)\n",
    "big_ax.set_xlim(xmin, xmax)\n",
    "big_ax.set_ylim(ymin, ymax)\n",
    "big_ax.set_xlabel(\"M2 Hex X position (microns)\", fontsize=18)\n",
    "big_ax.set_ylabel(\"M2 Hex Y position (microns)\", fontsize=18)\n",
    "size = 0.10\n",
    "for i in range(len(data)):\n",
    "    X = data[i][0]\n",
    "    Y = data[i][1]\n",
    "    xcen = 0.1 + (X-xmin) / (xmax-xmin) * 0.8\n",
    "    ycen = 0.1 + (Y-ymin) / (ymax-ymin) * 0.8\n",
    "    stamp = data[i][2]\n",
    "\n",
    "    ax = plt.axes([xcen-size/2.0,ycen-size/2.0,size,size])\n",
    "    ax.set_aspect(1.0)\n",
    "    ax.imshow(stamp)\n",
    "    ax.set_axis_off()\n",
    "plt.savefig(f\"/home/c/cslage/u/MTAOS/images/M2_Sweep_2024-10-26.png\")"
   ]
  },
  {
   "cell_type": "markdown",
   "metadata": {},
   "source": [
    "## Next, the UV sweep"
   ]
  },
  {
   "cell_type": "code",
   "execution_count": null,
   "metadata": {
    "execution": {
     "iopub.execute_input": "2024-10-30T13:00:33.458784Z",
     "iopub.status.busy": "2024-10-30T13:00:33.458376Z",
     "iopub.status.idle": "2024-10-30T13:04:36.166154Z",
     "shell.execute_reply": "2024-10-30T13:04:36.165680Z",
     "shell.execute_reply.started": "2024-10-30T13:00:33.458764Z"
    },
    "jupyter": {
     "outputs_hidden": true
    },
    "tags": []
   },
   "outputs": [],
   "source": [
    "%matplotlib inline\n",
    "instrument = 'LSSTComCam'\n",
    "data = []   \n",
    "for expId in range(2024102600116, 2024102600153):\n",
    "    if expId == 2024102600134:\n",
    "        continue\n",
    "    try:\n",
    "        exp = butler.get('postISRCCD', detector=4, exposure=expId, instrument=instrument)\n",
    "        mData = exp.getMetadata()\n",
    "        charResult = charTask.run(exp)\n",
    "        sourceCatalog = charResult.sourceCat\n",
    "        sources = sourceCatalog.asAstropy()\n",
    "        sources.keep_columns(['base_SdssCentroid_x', 'base_SdssCentroid_y', 'base_CircularApertureFlux_3_0_instFlux'])\n",
    "        sources.sort('base_CircularApertureFlux_3_0_instFlux', reverse=True)\n",
    "    \n",
    "        print(f\"{sources[0]['base_SdssCentroid_x']:.1f}, {sources[0]['base_SdssCentroid_y']:.1f}\") \n",
    "        stamp = findStamp(sources, 0)\n",
    "    \n",
    "        start = Time(mData['DATE-BEG'], scale='tai')\n",
    "        end = Time(mData['DATE-END'], scale='tai')\n",
    "        mhex = await client.select_time_series(\"lsst.sal.MTHexapod.application\", \n",
    "                                     [\"*\"], start.utc, end.utc, index=2)\n",
    "        U = np.median(mhex[\"position3\"].values)\n",
    "        V = np.median(mhex[\"position4\"].values)\n",
    "        data.append([U, V, stamp])\n",
    "    except:\n",
    "        print(f\"{expId} failed\")\n",
    "        continue\n"
   ]
  },
  {
   "cell_type": "code",
   "execution_count": null,
   "metadata": {
    "execution": {
     "iopub.execute_input": "2024-10-30T13:05:08.153801Z",
     "iopub.status.busy": "2024-10-30T13:05:08.153146Z",
     "iopub.status.idle": "2024-10-30T13:05:08.156924Z",
     "shell.execute_reply": "2024-10-30T13:05:08.156458Z",
     "shell.execute_reply.started": "2024-10-30T13:05:08.153786Z"
    }
   },
   "outputs": [],
   "source": [
    "len(data)"
   ]
  },
  {
   "cell_type": "code",
   "execution_count": null,
   "metadata": {
    "execution": {
     "iopub.execute_input": "2024-10-30T13:10:46.016256Z",
     "iopub.status.busy": "2024-10-30T13:10:46.015666Z",
     "iopub.status.idle": "2024-10-30T13:10:46.020174Z",
     "shell.execute_reply": "2024-10-30T13:10:46.019704Z",
     "shell.execute_reply.started": "2024-10-30T13:10:46.016234Z"
    },
    "jupyter": {
     "outputs_hidden": true
    }
   },
   "outputs": [],
   "source": [
    "for i in range(len(data)):\n",
    "    U = data[i][0] * 3600\n",
    "    V = data[i][1] * 3600\n",
    "    print(f\"{U:.2f}, {V:.2f}\")"
   ]
  },
  {
   "cell_type": "code",
   "execution_count": null,
   "metadata": {
    "execution": {
     "iopub.execute_input": "2024-10-30T13:18:42.995946Z",
     "iopub.status.busy": "2024-10-30T13:18:42.995604Z",
     "iopub.status.idle": "2024-10-30T13:18:43.534034Z",
     "shell.execute_reply": "2024-10-30T13:18:43.533555Z",
     "shell.execute_reply.started": "2024-10-30T13:18:42.995930Z"
    }
   },
   "outputs": [],
   "source": [
    "fig = plt.figure(figsize=(14.5,10))\n",
    "big_ax = plt.axes([0.1,0.1,0.8,0.8])\n",
    "\n",
    "xmin = -250\n",
    "xmax = 250\n",
    "ymin = -250\n",
    "ymax = 300\n",
    "big_ax.set_title(\"M2 Tilt Sweep 2024-10-26\", fontsize=24)\n",
    "big_ax.set_xlim(xmin, xmax)\n",
    "big_ax.set_ylim(ymin, ymax)\n",
    "big_ax.set_xlabel(\"M2 Hex U position (arcsec)\", fontsize=18)\n",
    "big_ax.set_ylabel(\"M2 Hex V position (arcsec)\", fontsize=18)\n",
    "size = 0.10\n",
    "for i in range(len(data)):\n",
    "    if i % 2 == 0:\n",
    "        continue\n",
    "    U = data[i][0] * 3600\n",
    "    V = data[i][1] * 3600\n",
    "    xcen = 0.1 + (U-xmin) / (xmax-xmin) * 0.8\n",
    "    ycen = 0.1 + (V-ymin) / (ymax-ymin) * 0.8\n",
    "    stamp = data[i][2]\n",
    "\n",
    "    ax = plt.axes([xcen-size/2.0,ycen-size/2.0,size,size])\n",
    "    ax.set_aspect(1.0)\n",
    "    ax.imshow(stamp)\n",
    "    ax.set_axis_off()\n",
    "plt.savefig(f\"/home/c/cslage/u/MTAOS/images/M2_Tilt_Sweep_2024-10-26.png\")"
   ]
  },
  {
   "cell_type": "code",
   "execution_count": null,
   "metadata": {},
   "outputs": [],
   "source": []
  }
 ],
 "metadata": {
  "kernelspec": {
   "display_name": "LSST",
   "language": "python",
   "name": "lsst"
  },
  "language_info": {
   "codemirror_mode": {
    "name": "ipython",
    "version": 3
   },
   "file_extension": ".py",
   "mimetype": "text/x-python",
   "name": "python",
   "nbconvert_exporter": "python",
   "pygments_lexer": "ipython3",
   "version": "3.11.9"
  }
 },
 "nbformat": 4,
 "nbformat_minor": 4
}
