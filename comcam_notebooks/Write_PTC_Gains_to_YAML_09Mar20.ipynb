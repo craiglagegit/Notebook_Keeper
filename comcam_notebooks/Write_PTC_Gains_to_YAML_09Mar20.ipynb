{
 "cells": [
  {
   "cell_type": "markdown",
   "metadata": {},
   "source": [
    "# Notebook for taking gains extracted from PTC and writing them to a yaml file.\n",
    "\n",
    "Initially written 09 Mar 2020 by Craig Lage."
   ]
  },
  {
   "cell_type": "code",
   "execution_count": null,
   "metadata": {},
   "outputs": [],
   "source": [
    "! eups list -s | grep lsst_distrib\n",
    "! eups list -s obs_lsst"
   ]
  },
  {
   "cell_type": "code",
   "execution_count": null,
   "metadata": {},
   "outputs": [],
   "source": [
    "from lsst.daf.persistence import Butler\n",
    "import sys, os, glob\n",
    "import pickle as pkl\n",
    "import numpy as np\n",
    "import matplotlib.pyplot as plt\n",
    "import astropy.io.fits as pf"
   ]
  },
  {
   "cell_type": "code",
   "execution_count": null,
   "metadata": {},
   "outputs": [],
   "source": [
    "REPO_DIR = '/project/cslage/ComCam/20200303'\n",
    "GAIN_DIR = '/home/cslage/ComCam/20191113/'\n",
    "raftName = 'R22'\n",
    "butler = Butler(REPO_DIR)\n",
    "visit = 3020030300034\n"
   ]
  },
  {
   "cell_type": "code",
   "execution_count": null,
   "metadata": {},
   "outputs": [],
   "source": [
    "numCCDs = 9\n",
    "numAmps = 16\n",
    "# Get the yaml file\n",
    "file = open('/home/cslage/alternate_branches/obs_lsst/policy/comCam/R22.yaml', 'r')\n",
    "lines = file.readlines()\n",
    "file.close()\n",
    "\n",
    "\n",
    "file = open('/home/cslage/alternate_branches/obs_lsst/policy/comCam/test.yaml', 'w')\n",
    "# First, copy the header lines from the old file\n",
    "for i in range(15):\n",
    "    file.write(lines[i])\n",
    "\n",
    "# Now loop through the detectors, correcting the gain and noise\n",
    "for detector in range(numCCDs):\n",
    "    # Get the gain/noise data\n",
    "    gain_pickle_file = GAIN_DIR+'calibrations/ptc/ptcDataGainAndNoise-det%03d.pkl'%detector\n",
    "    gain_file = open(gain_pickle_file, 'rb')\n",
    "    gain_data = pkl.load(gain_file)\n",
    "    raw = butler.get('raw', detector=detector, visit=visit)\n",
    "    ccd = raw.getDetector()\n",
    "    ccdName = ccd.getName()\n",
    "    newLine = '    %s :\\n'%ccdName.split('_')[1]\n",
    "    file.write(newLine)\n",
    "    for amp in ccd:\n",
    "        ampName = amp.getName()\n",
    "        newGain = gain_data['gain'][ampName][0]\n",
    "        newNoise = gain_data['noise'][ampName][0]\n",
    "        newLine = '      %s : { gain : %.4f, readNoise : %.1f }\\n'%(ampName, newGain, newNoise)\n",
    "        file.write(newLine)\n",
    "file.close()\n"
   ]
  },
  {
   "cell_type": "code",
   "execution_count": null,
   "metadata": {},
   "outputs": [],
   "source": []
  }
 ],
 "metadata": {
  "kernelspec": {
   "display_name": "LSST",
   "language": "python",
   "name": "lsst"
  },
  "language_info": {
   "codemirror_mode": {
    "name": "ipython",
    "version": 3
   },
   "file_extension": ".py",
   "mimetype": "text/x-python",
   "name": "python",
   "nbconvert_exporter": "python",
   "pygments_lexer": "ipython3",
   "version": "3.7.6"
  }
 },
 "nbformat": 4,
 "nbformat_minor": 4
}
