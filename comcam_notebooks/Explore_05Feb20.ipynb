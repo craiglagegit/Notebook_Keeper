{
 "cells": [
  {
   "cell_type": "markdown",
   "metadata": {},
   "source": [
    "# Notebook for exploring the spotCatalog\n",
    "\n",
    "Initially written 05 Feb 2020 by Craig Lage."
   ]
  },
  {
   "cell_type": "code",
   "execution_count": null,
   "metadata": {},
   "outputs": [],
   "source": [
    "! eups list -s | grep lsst_distrib"
   ]
  },
  {
   "cell_type": "code",
   "execution_count": null,
   "metadata": {},
   "outputs": [],
   "source": [
    "import sys, os, glob, time\n",
    "import pickle as pkl\n",
    "import numpy as np\n",
    "import matplotlib as mpl\n",
    "import matplotlib.pyplot as plt\n",
    "import astropy.io.fits as pf\n",
    "\n",
    "import eups\n",
    "from lsst.daf.persistence import Butler\n",
    "import lsst.afw.image as afwImage\n",
    "import lsst.geom as geom\n",
    "from lsst.daf.persistence import Butler\n",
    "from lsst.ip.isr.isrTask import IsrTask, IsrTaskConfig\n",
    "from lsst.ip.isr.isrFunctions import brighterFatterCorrection\n",
    "from lsst.meas.algorithms import SourceDetectionTask\n",
    "from lsst.pipe.tasks.characterizeImage import CharacterizeImageTask, CharacterizeImageConfig\n",
    "from lsst.geom import Point2I, Box2I"
   ]
  },
  {
   "cell_type": "code",
   "execution_count": null,
   "metadata": {},
   "outputs": [],
   "source": [
    "DATA_DIR = '/project/shared/comCam/'\n",
    "REPO_DIR = '/project/cslage/ComCam/20191230/'\n",
    "OUTPUT_DIR = '/project/cslage/ComCam/20191230/'\n",
    "DETECTOR = 4\n",
    "raftName = 'R22'"
   ]
  },
  {
   "cell_type": "code",
   "execution_count": null,
   "metadata": {},
   "outputs": [],
   "source": [
    "# Now set up the isrConfig and charConfig \n",
    "# The master bias, flat, and dark images have already been created and ingested.\n",
    "butler = Butler(OUTPUT_DIR)\n",
    "\n",
    "isrConfig = IsrTaskConfig()\n",
    "isrConfig.doLinearize = False\n",
    "isrConfig.doBias = True\n",
    "isrConfig.doFlat = False\n",
    "isrConfig.doDark = False\n",
    "isrConfig.doFringe = False\n",
    "isrConfig.doDefect = False\n",
    "isrConfig.doAddDistortionModel = False\n",
    "isrConfig.doWrite = False\n",
    "isrConfig.doBrighterFatter = False\n",
    "isrTask = IsrTask(config=isrConfig)\n",
    "\n",
    "charConfig = CharacterizeImageConfig()\n",
    "charConfig.installSimplePsf.fwhm = 1.0\n",
    "charConfig.doMeasurePsf = False\n",
    "charConfig.doApCorr = False\n",
    "charConfig.doDeblend = False\n",
    "charConfig.repair.doCosmicRay = True\n",
    "charConfig.repair.doInterpolate = False   \n",
    "charConfig.detection.background.binSize = 32\n",
    "charConfig.detection.minPixels = 30\n",
    "charTask = CharacterizeImageTask(config=charConfig)"
   ]
  },
  {
   "cell_type": "code",
   "execution_count": null,
   "metadata": {},
   "outputs": [],
   "source": [
    "# First just try a single image with medium brightness\n",
    "spot_visit=3019123000031\n",
    "rawSpotDataRef = butler.dataRef('raw', detector=DETECTOR, visit=spot_visit)\n",
    "postIsrSpot = isrTask.runDataRef(rawSpotDataRef).exposure\n",
    "charResult = charTask.run(postIsrSpot)\n",
    "spotCatalog = charResult.sourceCat\n"
   ]
  },
  {
   "cell_type": "code",
   "execution_count": null,
   "metadata": {},
   "outputs": [],
   "source": [
    "# now let's look at several things to explore the spotCatalog\n",
    "# type tells you what kind of object it is\n",
    "print(type(spotCatalog))"
   ]
  },
  {
   "cell_type": "code",
   "execution_count": null,
   "metadata": {},
   "outputs": [],
   "source": [
    "# After you know this, you can go to github and look at the code.  Sometimes this helps me, sometimes it doesn't.  \n",
    "# For example, this code would be in https://github.com/lsst/afw This time, it doesn't help much"
   ]
  },
  {
   "cell_type": "code",
   "execution_count": null,
   "metadata": {},
   "outputs": [],
   "source": [
    "# In the notebook environment, you can also use ? marks to explore variables:\n",
    "spotCatalog?"
   ]
  },
  {
   "cell_type": "code",
   "execution_count": null,
   "metadata": {},
   "outputs": [],
   "source": [
    "# dir tells you what it understands:\n",
    "print(dir(spotCatalog))"
   ]
  },
  {
   "cell_type": "code",
   "execution_count": null,
   "metadata": {},
   "outputs": [],
   "source": [
    "# You can then drill deeper, but it takes time.  For example:\n",
    "print(dir(spotCatalog.schema))\n",
    "print(dir(spotCatalog.table))"
   ]
  },
  {
   "cell_type": "code",
   "execution_count": null,
   "metadata": {},
   "outputs": [],
   "source": [
    "# To see what types of measurements are available in the spotCatalog, try this:\n",
    "for name in spotCatalog.schema.getOrderedNames():\n",
    "    print(name)"
   ]
  },
  {
   "cell_type": "code",
   "execution_count": null,
   "metadata": {},
   "outputs": [],
   "source": []
  }
 ],
 "metadata": {
  "jupytext": {
   "formats": "ipynb,markdown//md"
  },
  "kernelspec": {
   "display_name": "LSST",
   "language": "python",
   "name": "lsst"
  },
  "language_info": {
   "codemirror_mode": {
    "name": "ipython",
    "version": 3
   },
   "file_extension": ".py",
   "mimetype": "text/x-python",
   "name": "python",
   "nbconvert_exporter": "python",
   "pygments_lexer": "ipython3",
   "version": "3.8.8"
  }
 },
 "nbformat": 4,
 "nbformat_minor": 4
}
