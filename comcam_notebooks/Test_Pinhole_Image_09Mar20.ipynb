{
 "cells": [
  {
   "cell_type": "markdown",
   "metadata": {},
   "source": [
    "# Notebook for ingesting ComCam pinhole images.\n",
    "\n",
    "Initially written 04 Mar 2020 by Craig Lage\\\n",
    "This ingests the images into my own repo, \\\n",
    "and does assembly.  ISR is just CCD assembly, and bias subtraction.\\\n",
    "I applied the gains from last year's PTC measurements.\\\n",
    "The assembly of the raft is still manual at this point."
   ]
  },
  {
   "cell_type": "code",
   "execution_count": null,
   "metadata": {},
   "outputs": [],
   "source": [
    "! eups list -s | grep lsst_distrib\n",
    "! eups list -s obs_lsst"
   ]
  },
  {
   "cell_type": "code",
   "execution_count": null,
   "metadata": {},
   "outputs": [],
   "source": [
    "import sys, os, glob\n",
    "import pickle as pkl\n",
    "import numpy as np\n",
    "import matplotlib.pyplot as plt\n",
    "import astropy.io.fits as pf\n",
    "\n",
    "from lsst.daf.persistence import Butler\n",
    "from lsst.ip.isr.isrTask import IsrTask"
   ]
  },
  {
   "cell_type": "code",
   "execution_count": null,
   "metadata": {},
   "outputs": [],
   "source": [
    "# Set up the ISR task\n",
    "# For now, this is just applying the bias and the gains\n",
    "# For some reason, the darks are not working\n",
    "isrConfig = IsrTask.ConfigClass()\n",
    "isrConfig.doLinearize = False\n",
    "isrConfig.doBias = True\n",
    "isrConfig.doApplyGains = True\n",
    "isrConfig.doFlat = False\n",
    "isrConfig.doDark = False\n",
    "isrConfig.doFringe = False\n",
    "isrConfig.doDefect = False\n",
    "isrConfig.doAddDistortionModel = False\n",
    "isrConfig.doWrite = False\n",
    "isrTask = IsrTask(config=isrConfig)\n",
    "\n",
    "REPO_DIR = '/project/cslage/ComCam/20200303/'\n",
    "butler = Butler(REPO_DIR)"
   ]
  },
  {
   "cell_type": "code",
   "execution_count": null,
   "metadata": {},
   "outputs": [],
   "source": [
    "# Gains from PTC data from last year are now in the yaml file\n",
    "# Assemble all 9 CCDs\n",
    "# Run all three pinhole images in two colors with and without gaps.\n",
    "# The gaps are realistic estimates of the gaps between CCDs\n",
    "\n",
    "aSize = 0.32 # Size of the pixel array\n",
    "xGap = 0.0072 # Gap between imaging arrays\n",
    "yGap = 0.0032 # Gap between imaging arrays\n",
    "visit = 3020030300034\n",
    "color = 'gray'\n",
    "plt.figure(figsize=(16,16))\n",
    "xs = [0.0,aSize+xGap,2*(aSize+xGap),0.0,aSize+xGap,2*(aSize+xGap),0.0,aSize+xGap,2*(aSize+xGap)]\n",
    "ys = [0.0,0.0,0.0,aSize+yGap,aSize+yGap,aSize+yGap,2*(aSize+yGap),2*(aSize+yGap),2*(aSize+yGap)]\n",
    "for detector in range(9):\n",
    "    dataRef = butler.dataRef('raw', detector=detector, visit=visit)\n",
    "    postIsr = isrTask.runDataRef(dataRef).exposure\n",
    "    ax=plt.axes([xs[detector],ys[detector],aSize*(509.0/500.0),aSize],aspect=1)\n",
    "    ax.set_xticks([])\n",
    "    ax.set_yticks([])\n",
    "    ax.imshow(np.log10(postIsr.image.array[0:4072,0:4000]),vmin=2.5, vmax=4.0, cmap=color)\n",
    "plt.savefig(REPO_DIR+\"images/Image_Log_09Mar20_yaml_Gain.png\")"
   ]
  },
  {
   "cell_type": "code",
   "execution_count": null,
   "metadata": {},
   "outputs": [],
   "source": []
  }
 ],
 "metadata": {
  "jupytext": {
   "formats": "ipynb,markdown//md"
  },
  "kernelspec": {
   "display_name": "LSST",
   "language": "python",
   "name": "lsst"
  },
  "language_info": {
   "codemirror_mode": {
    "name": "ipython",
    "version": 3
   },
   "file_extension": ".py",
   "mimetype": "text/x-python",
   "name": "python",
   "nbconvert_exporter": "python",
   "pygments_lexer": "ipython3",
   "version": "3.8.8"
  }
 },
 "nbformat": 4,
 "nbformat_minor": 4
}
