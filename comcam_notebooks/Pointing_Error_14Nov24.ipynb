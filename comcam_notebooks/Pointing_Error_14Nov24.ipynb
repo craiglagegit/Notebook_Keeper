{
 "cells": [
  {
   "cell_type": "markdown",
   "metadata": {},
   "source": [
    "# ComCam pointing errors\n",
    "\n",
    "Craig Lage - 14-Nov-24"
   ]
  },
  {
   "cell_type": "code",
   "execution_count": null,
   "metadata": {
    "execution": {
     "iopub.execute_input": "2024-11-20T12:16:45.374580Z",
     "iopub.status.busy": "2024-11-20T12:16:45.374456Z",
     "iopub.status.idle": "2024-11-20T12:16:50.628578Z",
     "shell.execute_reply": "2024-11-20T12:16:50.628149Z",
     "shell.execute_reply.started": "2024-11-20T12:16:45.374568Z"
    },
    "tags": []
   },
   "outputs": [],
   "source": [
    "import numpy as np\n",
    "import pickle as pkl\n",
    "import matplotlib.pyplot as plt\n",
    "from astropy.time import Time, TimeDelta\n",
    "from lsst.daf.butler import Butler\n",
    "import lsst.summit.utils.butlerUtils as butlerUtils\n",
    "from lsst.summit.utils.utils import dayObsIntToString\n",
    "from lsst.summit.utils.efdUtils import calcNextDay"
   ]
  },
  {
   "cell_type": "code",
   "execution_count": null,
   "metadata": {
    "execution": {
     "iopub.execute_input": "2024-11-20T12:16:53.063198Z",
     "iopub.status.busy": "2024-11-20T12:16:53.062859Z",
     "iopub.status.idle": "2024-11-20T12:44:02.516917Z",
     "shell.execute_reply": "2024-11-20T12:44:02.516384Z",
     "shell.execute_reply.started": "2024-11-20T12:16:53.063182Z"
    },
    "jupyter": {
     "outputs_hidden": true
    }
   },
   "outputs": [],
   "source": [
    "butler = butlerUtils.makeDefaultButler(\"LSSTComCam\")\n",
    "instrument = 'LSSTComCam'\n",
    "\n",
    "startDay = 20241028\n",
    "endDay = 20241119\n",
    "\n",
    "els = []\n",
    "azs = []\n",
    "ras = []\n",
    "decs = []\n",
    "deltaRas = []\n",
    "deltaDecs = []\n",
    "\n",
    "filters = []\n",
    "pressures = []\n",
    "temps = []\n",
    "hums = []\n",
    "times = []\n",
    "dayObs = startDay\n",
    "while dayObs <= endDay:\n",
    "    exposureList = []\n",
    "    for record in butler.registry.queryDimensionRecords(\"exposure\", \n",
    "                where=f\"exposure.day_obs={dayObs} and instrument='LSSTComCam'\"):\n",
    "        exposureList.append([record.id, record])\n",
    "    exposureList.sort(key=lambda x: x[0])\n",
    "    #print(len(exposureList))\n",
    "    for [id,record] in exposureList:\n",
    "        if record.observation_type not in ['acq', 'science', 'focus']:\n",
    "            continue\n",
    "        try:\n",
    "            calExp = butler.get('calexp', detector=4, visit=record.id, instrument=instrument)\n",
    "            rawExp = butler.get('raw', detector=4, exposure=record.id, instrument=instrument)\n",
    "            md = rawExp.getMetadata()\n",
    "            els.append(md['ELSTART'])\n",
    "            azs.append(md['AZSTART'])\n",
    "            filters.append(md['FILTBAND'])\n",
    "            pressures.append(md['PRESSURE'])\n",
    "            temps.append(md['AIRTEMP'])\n",
    "            hums.append(md['HUMIDITY'])\n",
    "            times.append((md['MJD-BEG'] + md['MJD-END']) / 2.0)\n",
    "            cWcs = calExp.getWcs()\n",
    "            rWcs = rawExp.getWcs()\n",
    "            rawSkyCenter = rWcs.getSkyOrigin()\n",
    "            calExpSkyCenter = cWcs.pixelToSky(rWcs.getPixelOrigin())\n",
    "            ra = calExpSkyCenter.getRa().asDegrees()\n",
    "            dec = calExpSkyCenter.getDec().asDegrees()\n",
    "            ras.append(ra)\n",
    "            decs.append(dec)\n",
    "            #print(ra, dec)\n",
    "            deltaRa = rawSkyCenter.getRa().asArcseconds() - calExpSkyCenter.getRa().asArcseconds()\n",
    "            deltaDec = rawSkyCenter.getDec().asArcseconds() - calExpSkyCenter.getDec().asArcseconds()\n",
    "            deltaRas.append(deltaRa)\n",
    "            deltaDecs.append(deltaDec)\n",
    "            #print(deltaRa, deltaDec)\n",
    "        except:\n",
    "            continue\n",
    "    print(dayObs, len(ras))\n",
    "    dayObs = calcNextDay(dayObs)\n",
    "\n"
   ]
  },
  {
   "cell_type": "code",
   "execution_count": null,
   "metadata": {
    "execution": {
     "iopub.execute_input": "2024-11-20T12:44:39.648627Z",
     "iopub.status.busy": "2024-11-20T12:44:39.648191Z",
     "iopub.status.idle": "2024-11-20T12:44:39.871604Z",
     "shell.execute_reply": "2024-11-20T12:44:39.871150Z",
     "shell.execute_reply.started": "2024-11-20T12:44:39.648609Z"
    }
   },
   "outputs": [],
   "source": [
    "filename = \"/home/c/cslage/u/ComCam/data/pointing_results_19nov24.pkl\"\n",
    "with open(filename, 'wb') as f:\n",
    "    pkl.dump([els, azs, ras, decs, deltaRas, deltaDecs, pressures, temps, hums, times, filters], f)\n"
   ]
  },
  {
   "cell_type": "code",
   "execution_count": null,
   "metadata": {
    "execution": {
     "iopub.execute_input": "2024-11-20T13:01:56.430482Z",
     "iopub.status.busy": "2024-11-20T13:01:56.430203Z",
     "iopub.status.idle": "2024-11-20T13:01:56.436091Z",
     "shell.execute_reply": "2024-11-20T13:01:56.435650Z",
     "shell.execute_reply.started": "2024-11-20T13:01:56.430462Z"
    }
   },
   "outputs": [],
   "source": [
    "filename = \"/home/c/cslage/u/ComCam/data/pointing_results_19nov24.pkl\"\n",
    "with open(filename, 'rb') as f:\n",
    "    [els, azs, ras, decs, deltaRas, deltaDecs, pressures, temps, hums, times, filters] = pkl.load(f)\n",
    "len(els)"
   ]
  },
  {
   "cell_type": "code",
   "execution_count": null,
   "metadata": {
    "execution": {
     "iopub.execute_input": "2024-11-20T12:44:47.114647Z",
     "iopub.status.busy": "2024-11-20T12:44:47.114002Z",
     "iopub.status.idle": "2024-11-20T12:44:47.117092Z",
     "shell.execute_reply": "2024-11-20T12:44:47.116745Z",
     "shell.execute_reply.started": "2024-11-20T12:44:47.114632Z"
    }
   },
   "outputs": [],
   "source": [
    "from astropy.coordinates import AltAz, ICRS, EarthLocation, Angle, FK5, SkyCoord\n",
    "import astropy.units as u\n",
    "from lsst.obs.lsst.translators.lsst import SIMONYI_LOCATION\n",
    "wavelengths = {'u':3671, 'g':4827, 'r':6223, 'i':7546, 'z':8691, 'y':9712}"
   ]
  },
  {
   "cell_type": "code",
   "execution_count": null,
   "metadata": {
    "execution": {
     "iopub.execute_input": "2024-11-20T13:02:21.687535Z",
     "iopub.status.busy": "2024-11-20T13:02:21.687178Z",
     "iopub.status.idle": "2024-11-20T13:02:26.814506Z",
     "shell.execute_reply": "2024-11-20T13:02:26.814069Z",
     "shell.execute_reply.started": "2024-11-20T13:02:21.687520Z"
    }
   },
   "outputs": [],
   "source": [
    "deltaAzs = []\n",
    "deltaEls = []\n",
    "bad_indices = []\n",
    "for index in range(len(ras)):\n",
    "    skyLocation = SkyCoord(ras[index]*u.deg, decs[index]*u.deg)\n",
    "    time = Time(times[index], format='mjd', scale='tai')\n",
    "    pressure = pressures[index] * u.pascal\n",
    "    temperature = temps[index] * u.Celsius\n",
    "    hum = hums[index]\n",
    "    wl = wavelengths[filters[index]] * u.angstrom\n",
    "    altAz = AltAz(obstime=time, location=SIMONYI_LOCATION, pressure=pressure, \n",
    "                 temperature=temperature, relative_humidity=hum, obswl=wl)\n",
    "    obsAltAz = skyLocation.transform_to(altAz)\n",
    "    deltaAz = azs[index] - obsAltAz.az.deg\n",
    "    if deltaAz > 360.0:\n",
    "        deltaAz -= 360.0\n",
    "    if deltaAz < -180.0:\n",
    "        deltaAz += 360.0\n",
    "    deltaAz *= 3600.0 * np.cos(obsAltAz.alt.rad)\n",
    "    deltaEl = (els[index] - obsAltAz.alt.deg) * 3600.0\n",
    "    deltaAzs.append(deltaAz)\n",
    "    deltaEls.append(deltaEl)\n",
    "    \"\"\"\n",
    "    if abs(deltaEl) < 450.0:\n",
    "        deltaAzs.append(deltaAz)\n",
    "        deltaEls.append(deltaEl)\n",
    "    else:\n",
    "        print(index)\n",
    "        bad_indices.append(index)\n",
    "        \n",
    "for index in bad_indices:\n",
    "    del azs[index]\n",
    "    del els[index]\n",
    "\"\"\"\n",
    "    \n",
    "len(els)        "
   ]
  },
  {
   "cell_type": "code",
   "execution_count": null,
   "metadata": {
    "execution": {
     "iopub.execute_input": "2024-11-20T12:45:00.044468Z",
     "iopub.status.busy": "2024-11-20T12:45:00.043887Z",
     "iopub.status.idle": "2024-11-20T12:45:00.686426Z",
     "shell.execute_reply": "2024-11-20T12:45:00.685897Z",
     "shell.execute_reply.started": "2024-11-20T12:45:00.044451Z"
    }
   },
   "outputs": [],
   "source": [
    "plt.figure(figsize=(8,8))\n",
    "plt.suptitle(\"ComCam Delta RA/Dec 2024-10-24 - 2024-11-19\")\n",
    "plt.subplots_adjust(hspace=0.3, wspace=0.3)\n",
    "plt.subplot(2,2,1)\n",
    "plt.scatter(decs, deltaDecs)\n",
    "plt.xlabel('Dec (deg)')\n",
    "plt.xlim(-90, 0)\n",
    "plt.ylabel('Delta Dec arcsec')\n",
    "plt.subplot(2,2,2)\n",
    "plt.scatter(ras, deltaDecs)\n",
    "plt.xlabel('Ra (deg)')\n",
    "plt.xlim(0,360)\n",
    "plt.ylabel('Delta Dec arcsec')\n",
    "plt.subplot(2,2,3)\n",
    "plt.scatter(decs, deltaRas)\n",
    "plt.xlabel('Dec (deg)')\n",
    "plt.xlim(-90, 0)\n",
    "plt.ylabel('Delta Ra arcsec')\n",
    "plt.subplot(2,2,4)\n",
    "plt.scatter(ras, deltaRas)\n",
    "plt.xlabel('Ra (deg)')\n",
    "plt.xlim(0,360)\n",
    "plt.ylabel('Delta Ra arcsec')\n",
    "plt.savefig(\"/home/c/cslage/u/ComCam/data/Delta_RaDec_20Nov24.png\")\n"
   ]
  },
  {
   "cell_type": "code",
   "execution_count": null,
   "metadata": {
    "execution": {
     "iopub.execute_input": "2024-11-20T13:02:34.110825Z",
     "iopub.status.busy": "2024-11-20T13:02:34.110615Z",
     "iopub.status.idle": "2024-11-20T13:02:34.362971Z",
     "shell.execute_reply": "2024-11-20T13:02:34.362589Z",
     "shell.execute_reply.started": "2024-11-20T13:02:34.110810Z"
    }
   },
   "outputs": [],
   "source": [
    "from scipy.optimize import minimize\n",
    "def FOM(params, args):\n",
    "    fom = 0.0\n",
    "    [azs, deltaEls] = args\n",
    "    [amp, off] = params\n",
    "    for i in range(len(azs)):\n",
    "        if abs(deltaEls[i]) > 450.0:\n",
    "            continue\n",
    "        model = off + amp * np.sin((azs[i]) * np.pi / 180.0)\n",
    "        fom += np.square(model - deltaEls[i])\n",
    "    return fom\n",
    "\n",
    "args = [azs, deltaEls]\n",
    "x0 = [400.0, 0.0]\n",
    "result = minimize(FOM, x0, args=args, method='Powell')\n",
    "result"
   ]
  },
  {
   "cell_type": "code",
   "execution_count": null,
   "metadata": {
    "execution": {
     "iopub.execute_input": "2024-11-20T13:02:36.617475Z",
     "iopub.status.busy": "2024-11-20T13:02:36.616919Z",
     "iopub.status.idle": "2024-11-20T13:02:36.842004Z",
     "shell.execute_reply": "2024-11-20T13:02:36.841565Z",
     "shell.execute_reply.started": "2024-11-20T13:02:36.617460Z"
    }
   },
   "outputs": [],
   "source": [
    "from scipy.optimize import minimize\n",
    "def FOM(params, args):\n",
    "    fom = 0.0\n",
    "    [azs, deltaAzs] = args\n",
    "    [amp, off] = params\n",
    "    for i in range(len(azs)):\n",
    "        if abs(deltaAzs[i]) > 450.0:\n",
    "            continue\n",
    "        model = off + amp * np.cos(0.5 * (azs[i]) * np.pi / 180.0)\n",
    "        fom += np.square(model - deltaAzs[i])\n",
    "    return fom\n",
    "\n",
    "args2 = [azs, deltaAzs]\n",
    "x0 = [400.0, 0.0]\n",
    "result2 = minimize(FOM, x0, args=args2, method='Powell')\n",
    "result2"
   ]
  },
  {
   "cell_type": "code",
   "execution_count": null,
   "metadata": {
    "execution": {
     "iopub.execute_input": "2024-11-20T13:02:39.972258Z",
     "iopub.status.busy": "2024-11-20T13:02:39.971701Z",
     "iopub.status.idle": "2024-11-20T13:02:40.686536Z",
     "shell.execute_reply": "2024-11-20T13:02:40.686157Z",
     "shell.execute_reply.started": "2024-11-20T13:02:39.972241Z"
    }
   },
   "outputs": [],
   "source": [
    "[amp, off] = result.x\n",
    "[amp2, off2] = result2.x\n",
    "xs = np.linspace(-180.0, 180.0, 200)\n",
    "ys = off + amp * np.sin((xs) * np.pi / 180.0)\n",
    "ys2 = off2 + amp2 * np.cos(0.5 * (xs) * np.pi / 180.0)\n",
    "\n",
    "plt.figure(figsize=(8,8))\n",
    "plt.suptitle(\"ComCam Delta AltAz 2024-10-24 - 2024-11-19\")\n",
    "plt.subplots_adjust(hspace=0.3, wspace=0.7)\n",
    "plt.subplot(2,2,1)\n",
    "p1 = plt.scatter(els, deltaEls, c=azs, cmap=plt.cm.coolwarm)\n",
    "cb1 = plt.colorbar(p1)\n",
    "cb1.set_label('Az')\n",
    "plt.xlabel('El')\n",
    "plt.xlim(0,90)\n",
    "plt.ylabel('Delta El arcsec')\n",
    "plt.subplot(2,2,2)\n",
    "p2 = plt.scatter(azs, deltaEls,c=els, cmap=plt.cm.coolwarm)\n",
    "cb2 = plt.colorbar(p2)\n",
    "cb2.set_label('El')\n",
    "plt.plot(xs, ys, ls = '--', color='black')\n",
    "plt.text(-100,700,f\"deltaEl={off:.1f}+\\n{amp:.1f}*sin(az)\")\n",
    "plt.xlabel('Az')\n",
    "plt.xlim(-180, 180)\n",
    "plt.ylabel('Delta El arcsec')\n",
    "plt.subplot(2,2,3)\n",
    "p3 = plt.scatter(els, deltaAzs, c=azs, cmap=plt.cm.coolwarm)\n",
    "cb3 = plt.colorbar(p3)\n",
    "cb3.set_label('Az')\n",
    "plt.xlabel('El')\n",
    "plt.xlim(0,90)\n",
    "plt.ylabel('Delta Az*cos(El) arcsec')\n",
    "plt.subplot(2,2,4)\n",
    "p4 = plt.scatter(azs, deltaAzs,c=els, cmap=plt.cm.coolwarm)\n",
    "plt.plot(xs, ys2, ls = '--', color='black')\n",
    "plt.text(-100,-400,f\"deltaAz={off2:.1f}+\\n{amp2:.1f}*cos(az/2)\")\n",
    "cb4 = plt.colorbar(p4)\n",
    "cb4.set_label('El')\n",
    "plt.xlabel('Az')\n",
    "plt.xlim(-180, 180)\n",
    "plt.ylabel('Delta Az*cos(El) arcsec')\n",
    "plt.savefig(\"/home/c/cslage/u/ComCam/data/Delta_AltAz_20Nov24.png\")\n"
   ]
  },
  {
   "cell_type": "markdown",
   "metadata": {},
   "source": [
    "# Generate a dummy tpoint input file with these errors"
   ]
  },
  {
   "cell_type": "code",
   "execution_count": null,
   "metadata": {
    "execution": {
     "iopub.execute_input": "2024-11-20T12:46:07.528924Z",
     "iopub.status.busy": "2024-11-20T12:46:07.528322Z",
     "iopub.status.idle": "2024-11-20T12:46:07.537455Z",
     "shell.execute_reply": "2024-11-20T12:46:07.537017Z",
     "shell.execute_reply.started": "2024-11-20T12:46:07.528907Z"
    }
   },
   "outputs": [],
   "source": [
    "outfilename = \"/home/c/cslage/u/ComCam/data/Dummy_Tpoint_Input.dat\"\n",
    "outfile = open(outfilename, 'w')\n",
    "outfile.write(\"!\" + outfilename + \"\\n\")\n",
    "outfile.write(\"!Simonyi Telescope Dummy file, 2024 Nov 20 24 \\n\")\n",
    "outfile.write(\": ALTAZ\\n\")\n",
    "outfile.write(\": ROTNR\\n\")\n",
    "outfile.write(\"-30 14 40.2\\n\")\n",
    "rot = 0.0\n",
    "for az in range(-180, 180, 15):\n",
    "    for el in range(30, 90, 10):\n",
    "        deltaEl = (off + amp * np.sin((az) * np.pi / 180.0))\n",
    "        deltaAz = (off2 + amp2 * np.cos(0.5 * (az) * np.pi / 180.0)) / np.cos(el * np.pi / 180.0)\n",
    "        elReal = el + deltaEl / 3600.0\n",
    "        azReal = az + deltaAz / 3600.0\n",
    "        outfile.write(f\"{azReal:.6f}\\t{elReal:.6f}\\t{az:.6f}\\t{el:.6f}\\t{rot:.6f}\\n\")\n",
    "outfile.write(\"END\\n\")\n",
    "outfile.close()\n",
    "\n"
   ]
  },
  {
   "cell_type": "markdown",
   "metadata": {},
   "source": [
    "## Test if that's how the AzEl coordinates respond to a rotation about one of the axes"
   ]
  },
  {
   "cell_type": "code",
   "execution_count": null,
   "metadata": {
    "execution": {
     "iopub.execute_input": "2024-11-20T12:46:15.694355Z",
     "iopub.status.busy": "2024-11-20T12:46:15.693785Z",
     "iopub.status.idle": "2024-11-20T12:46:15.698481Z",
     "shell.execute_reply": "2024-11-20T12:46:15.698068Z",
     "shell.execute_reply.started": "2024-11-20T12:46:15.694339Z"
    }
   },
   "outputs": [],
   "source": [
    "def to_xyz(az, el):\n",
    "    x = np.cos(el)*np.cos(az)\n",
    "    y = np.cos(el)*np.sin(az)\n",
    "    z = np.sin(el)\n",
    "    return (x,y,z)\n",
    "\n",
    "def to_azel(x, y, z):\n",
    "    el = np.arcsin(z)\n",
    "    az = np.arctan2(y, x)    \n",
    "    return az, el\n",
    "    \n",
    "def Ry(theta):\n",
    "  return np.matrix([[ np.cos(theta), 0, np.sin(theta)],\n",
    "                   [ 0           , 1, 0           ],\n",
    "                   [-np.sin(theta), 0, np.cos(theta)]])\n",
    "\n",
    "def Rx(theta):\n",
    "  return np.matrix([[ 1, 0           , 0           ],\n",
    "                   [ 0, np.cos(theta),-np.sin(theta)],\n",
    "                   [ 0, np.sin(theta), np.cos(theta)]])\n"
   ]
  },
  {
   "cell_type": "code",
   "execution_count": null,
   "metadata": {
    "execution": {
     "iopub.execute_input": "2024-11-20T12:46:16.453628Z",
     "iopub.status.busy": "2024-11-20T12:46:16.453161Z",
     "iopub.status.idle": "2024-11-20T12:46:16.456903Z",
     "shell.execute_reply": "2024-11-20T12:46:16.456512Z",
     "shell.execute_reply.started": "2024-11-20T12:46:16.453612Z"
    }
   },
   "outputs": [],
   "source": [
    "# Check if we recover the initial AzEl\n",
    "az = 153.0; el = 65.3\n",
    "(x,y,z) = to_xyz(az*np.pi/180.0, el*np.pi/180.0)\n",
    "print((x,y,z))\n",
    "az2, el2 = to_azel(x,y,z)\n",
    "print(az2*180.0/np.pi, el2*180.0/np.pi)"
   ]
  },
  {
   "cell_type": "code",
   "execution_count": null,
   "metadata": {
    "execution": {
     "iopub.execute_input": "2024-11-20T12:46:19.853784Z",
     "iopub.status.busy": "2024-11-20T12:46:19.853581Z",
     "iopub.status.idle": "2024-11-20T12:46:19.862254Z",
     "shell.execute_reply": "2024-11-20T12:46:19.861863Z",
     "shell.execute_reply.started": "2024-11-20T12:46:19.853770Z"
    }
   },
   "outputs": [],
   "source": [
    "test_azs = []\n",
    "test_els = []\n",
    "rot_azs = []\n",
    "rot_els = []\n",
    "test_deltaAzs = []\n",
    "test_deltaEls = []\n",
    "rot = 200.0 / 3600.0 * np.pi / 180.0\n",
    "rx = Rx(rot)\n",
    "for az in range(-175, 185, 15):\n",
    "    for el in range(40, 90, 10):\n",
    "        test_azs.append(az)\n",
    "        test_els.append(el)\n",
    "        (x,y,z) = to_xyz(az*np.pi/180.0, el*np.pi/180.0)\n",
    "        out = rx.dot((x,y,z))\n",
    "        out = np.array(out)[0]\n",
    "        az2, el2 = to_azel(out[0], out[1], out[2])\n",
    "        az2 = az2*180.0/np.pi\n",
    "        el2 = el2*180.0/np.pi\n",
    "        rot_azs.append(az2)\n",
    "        rot_els.append(el2)\n",
    "        test_deltaAz = (az - az2) * 3600.0\n",
    "        test_deltaEl = (el - el2) * 3600.0\n",
    "        test_deltaAzs.append(test_deltaAz * np.cos(el*np.pi/180.0))\n",
    "        test_deltaEls.append(test_deltaEl)\n",
    "\n",
    "\n",
    "\n"
   ]
  },
  {
   "cell_type": "code",
   "execution_count": null,
   "metadata": {
    "execution": {
     "iopub.execute_input": "2024-11-20T12:46:31.246280Z",
     "iopub.status.busy": "2024-11-20T12:46:31.245684Z",
     "iopub.status.idle": "2024-11-20T12:46:31.811272Z",
     "shell.execute_reply": "2024-11-20T12:46:31.810825Z",
     "shell.execute_reply.started": "2024-11-20T12:46:31.246263Z"
    }
   },
   "outputs": [],
   "source": [
    "plt.figure(figsize=(8,8))\n",
    "plt.suptitle(\"Test DeltaAz\")\n",
    "plt.subplots_adjust(hspace=0.3, wspace=0.7)\n",
    "plt.subplot(2,2,1)\n",
    "p1 = plt.scatter(test_els, test_deltaEls, c=test_azs, cmap=plt.cm.coolwarm)\n",
    "cb1 = plt.colorbar(p1)\n",
    "cb1.set_label('Az')\n",
    "plt.xlabel('El')\n",
    "plt.xlim(0,90)\n",
    "plt.ylabel('Delta El arcsec')\n",
    "plt.subplot(2,2,2)\n",
    "p2 = plt.scatter(test_azs, test_deltaEls,c=test_els, cmap=plt.cm.coolwarm)\n",
    "cb2 = plt.colorbar(p2)\n",
    "cb2.set_label('El')\n",
    "plt.xlabel('Az')\n",
    "plt.xlim(-180, 180)\n",
    "plt.ylabel('Delta El arcsec')\n",
    "plt.subplot(2,2,3)\n",
    "p3 = plt.scatter(test_els, test_deltaAzs, c=test_azs, cmap=plt.cm.coolwarm)\n",
    "cb3 = plt.colorbar(p3)\n",
    "cb3.set_label('Az')\n",
    "plt.xlabel('El')\n",
    "plt.xlim(0,90)\n",
    "plt.ylabel('Delta Az*cos(El) arcsec')\n",
    "plt.subplot(2,2,4)\n",
    "p4 = plt.scatter(test_azs, test_deltaAzs,c=test_els, cmap=plt.cm.coolwarm)\n",
    "cb4 = plt.colorbar(p4)\n",
    "cb4.set_label('El')\n",
    "plt.xlabel('Az')\n",
    "plt.xlim(-180, 180)\n",
    "plt.ylabel('Delta Az*cos(El) arcsec')\n",
    "plt.savefig(\"/home/c/cslage/u/ComCam/data/Test_Delta_AltAz_18Nov24.png\")\n"
   ]
  },
  {
   "cell_type": "code",
   "execution_count": null,
   "metadata": {},
   "outputs": [],
   "source": []
  },
  {
   "cell_type": "code",
   "execution_count": null,
   "metadata": {
    "execution": {
     "iopub.execute_input": "2024-11-20T13:03:25.399362Z",
     "iopub.status.busy": "2024-11-20T13:03:25.399156Z",
     "iopub.status.idle": "2024-11-20T13:03:25.732946Z",
     "shell.execute_reply": "2024-11-20T13:03:25.732534Z",
     "shell.execute_reply.started": "2024-11-20T13:03:25.399348Z"
    }
   },
   "outputs": [],
   "source": [
    "rad_azs = np.array(azs) * np.pi / 180.0\n",
    "\n",
    "fig=plt.figure(figsize=(8,8))\n",
    "ax1 = plt.subplot(111, projection='polar')\n",
    "ax1.set_title(f\"Sky coverage - ComCam campaign 20241028-20241119\")\n",
    "ax1.invert_yaxis()\n",
    "ax1.set_rlim(90,0)\n",
    "ax1.scatter (rad_azs, els)\n",
    "plt.savefig(\"/home/c/cslage/u/ComCam/data/Sky_Coverage_20Nov24.png\")"
   ]
  },
  {
   "cell_type": "code",
   "execution_count": null,
   "metadata": {},
   "outputs": [],
   "source": []
  },
  {
   "cell_type": "code",
   "execution_count": null,
   "metadata": {},
   "outputs": [],
   "source": []
  }
 ],
 "metadata": {
  "kernelspec": {
   "display_name": "LSST",
   "language": "python",
   "name": "lsst"
  },
  "language_info": {
   "codemirror_mode": {
    "name": "ipython",
    "version": 3
   },
   "file_extension": ".py",
   "mimetype": "text/x-python",
   "name": "python",
   "nbconvert_exporter": "python",
   "pygments_lexer": "ipython3",
   "version": "3.11.9"
  }
 },
 "nbformat": 4,
 "nbformat_minor": 4
}
