{
 "cells": [
  {
   "cell_type": "markdown",
   "metadata": {},
   "source": [
    "## ComCam Electrometer files in the LFA\n",
    "In this notebook, we show how to query the ComCam electrometer\\\n",
    "LFA files.\\\n",
    "Craig Lage - 02-Aug-24"
   ]
  },
  {
   "cell_type": "code",
   "execution_count": null,
   "metadata": {
    "tags": []
   },
   "outputs": [],
   "source": [
    "import os\n",
    "import numpy as np\n",
    "import matplotlib.pyplot as plt\n",
    "from astropy.io import fits\n",
    "from lsst.resources import ResourcePath\n",
    "from lsst.daf.butler import Butler\n",
    "from astropy.time import Time, TimeDelta\n",
    "from lsst_efd_client import EfdClient"
   ]
  },
  {
   "cell_type": "code",
   "execution_count": null,
   "metadata": {
    "tags": []
   },
   "outputs": [],
   "source": [
    "butler = Butler('/repo/embargo', collections=[\"LSSTComCam/raw/all\",\"LSSTComCam/calib\"])\n",
    "client = EfdClient('usdf_efd')"
   ]
  },
  {
   "cell_type": "markdown",
   "metadata": {},
   "source": [
    "## First, get a list of exposures"
   ]
  },
  {
   "cell_type": "code",
   "execution_count": null,
   "metadata": {
    "tags": []
   },
   "outputs": [],
   "source": [
    "dayObs = 20240729\n",
    "instrument = \"LSSTComCam\"\n",
    "\n",
    "exposureList = []\n",
    "for record in butler.registry.queryDimensionRecords(\"exposure\", \n",
    "                    where=f\"exposure.day_obs={dayObs} and instrument='LSSTComCam'\"):\n",
    "    exposureList.append([record.id, record])\n",
    "exposureList.sort(key=lambda x: x[0])\n",
    "for [id,record] in exposureList:\n",
    "    print(record.id, record.observation_type, record.exposure_time, record.physical_filter)\n"
   ]
  },
  {
   "cell_type": "markdown",
   "metadata": {
    "execution": {
     "iopub.execute_input": "2024-07-10T18:00:56.931372Z",
     "iopub.status.busy": "2024-07-10T18:00:56.930578Z",
     "iopub.status.idle": "2024-07-10T18:00:56.935059Z",
     "shell.execute_reply": "2024-07-10T18:00:56.934337Z",
     "shell.execute_reply.started": "2024-07-10T18:00:56.931336Z"
    }
   },
   "source": [
    "# Get the LFA file associated with an image"
   ]
  },
  {
   "cell_type": "code",
   "execution_count": null,
   "metadata": {},
   "outputs": [],
   "source": [
    "expIds = []\n",
    "lenDatas = []\n",
    "expTimes = []\n",
    "for expId in range(2024072900178, 2024072900190):\n",
    "    mData = butler.get('raw.metadata', detector=4, exposure=expId, instrument=instrument)\n",
    "    start = Time(mData['DATE-END'], scale='tai').utc\n",
    "    end = start + TimeDelta(8.0, format='sec')\n",
    "    urls = await client.select_time_series('lsst.sal.Electrometer.logevent_largeFileObjectAvailable', \\\n",
    "                                            ['*'],  start, end, index=101)\n",
    "    msg = await client.select_time_series('lsst.sal.Electrometer.logevent_logMessage', \\\n",
    "                                            ['message'],  start, end, index=101)\n",
    "    usdf_locator = urls.iloc[0]['url'].replace('https://s3.cp.lsst.org/', 's3://rubin:')\n",
    "    print(usdf_locator)\n",
    "    rp = ResourcePath(usdf_locator)\n",
    "    with rp.open(mode=\"rb\") as f:\n",
    "        hdu_list = fits.open(f)\n",
    "    data = hdu_list[1].data\n",
    "    expIds.append(expId)\n",
    "    lenDatas.append(len(data))\n",
    "    expTimes.append(mData['EXPTIME'])"
   ]
  },
  {
   "cell_type": "code",
   "execution_count": null,
   "metadata": {},
   "outputs": [],
   "source": [
    "for i in range(len(expIds)):\n",
    "    print(f\"expId={expIds[i]}, expTime={expTimes[i]}, length of LFA={(lenDatas[i]*0.1):.1f}\")"
   ]
  },
  {
   "cell_type": "code",
   "execution_count": null,
   "metadata": {},
   "outputs": [],
   "source": [
    "seqNums = []\n",
    "intensities = []\n",
    "for expId in range(2024072900178, 2024072900378):\n",
    "    mData = butler.get('raw.metadata', detector=4, exposure=expId, instrument=instrument)\n",
    "    start = Time(mData['DATE-END'], scale='tai').utc\n",
    "    end = start + TimeDelta(8.0, format='sec')\n",
    "    urls = await client.select_time_series('lsst.sal.Electrometer.logevent_largeFileObjectAvailable', \\\n",
    "                                            ['*'],  start, end, index=101)\n",
    "    usdf_locator = urls.iloc[0]['url'].replace('https://s3.cp.lsst.org/', 's3://rubin:')\n",
    "    rp = ResourcePath(usdf_locator)\n",
    "    with rp.open(mode=\"rb\") as f:\n",
    "        hdu_list = fits.open(f)\n",
    "    data = hdu_list[1].data\n",
    "    nMeas = 0\n",
    "    dataSum = 0\n",
    "    for i in range(len(data)):\n",
    "        nMeas += 1\n",
    "        dataSum += -data[i][0]\n",
    "    mean = dataSum / nMeas\n",
    "    seqNums.append(expId - 2024072900000)\n",
    "    intensities.append(mean)"
   ]
  },
  {
   "cell_type": "code",
   "execution_count": null,
   "metadata": {},
   "outputs": [],
   "source": [
    "plt.title(\"Photodiode variation during 2024-07-29 ComCam calibration run\")\n",
    "plt.plot(seqNums, np.array(intensities) * 1.0E9)\n",
    "minMaxPct = (np.max(intensities) - np.min(intensities)) / np.mean(intensities) * 100.0\n",
    "plt.xlabel(\"seqNum\")\n",
    "plt.ylabel(\"Mean photodiode Current (nA)\")\n",
    "plt.text(275, 9.7, f\"(Max - Min) / Mean = {minMaxPct:.2f} %\")\n",
    "plt.savefig(f\"/home/c/cslage/u/ComCam/images/ComCam_Photodiode_Variation_29Jul24.png\")"
   ]
  },
  {
   "cell_type": "code",
   "execution_count": null,
   "metadata": {},
   "outputs": [],
   "source": [
    "print(start)\n",
    "for i in range(len(msg)):\n",
    "    if \"Scan Summary of Signal\" in msg.iloc[i]['message']:\n",
    "        print(msg.index[i])\n",
    "        print(msg.iloc[i]['message'])"
   ]
  },
  {
   "cell_type": "code",
   "execution_count": null,
   "metadata": {},
   "outputs": [],
   "source": [
    "for expId in [2024072900024, 2024072900178]:\n",
    "    print(f\"expId={expId}\")\n",
    "    mData = butler.get('raw.metadata', detector=4, exposure=expId, instrument=instrument)\n",
    "    date_beg = Time(mData['DATE-BEG'], scale='tai').utc\n",
    "    print(f\"DATE_BEG (in UTC) = {date_beg}\")\n",
    "    date_end = Time(mData['DATE-END'], scale='tai').utc\n",
    "    print(f\"DATE_END (in UTC) = {date_end}\")\n",
    "    \n",
    "    start = Time(mData['DATE-END'], scale='tai').utc\n",
    "    end = start + TimeDelta(8.0, format='sec')\n",
    "    urls = await client.select_time_series('lsst.sal.Electrometer.logevent_largeFileObjectAvailable', \\\n",
    "                                        ['*'],  start, end, index=101)\n",
    "    try:\n",
    "        print(f\"URL index (in UTC) = {urls.index[0]}\")\n",
    "    except:\n",
    "        continue\n",
    "    msg = await client.select_time_series('lsst.sal.Electrometer.logevent_logMessage', \\\n",
    "                                            ['message'],  start, end, index=101)\n",
    "    for i in range(len(msg)):\n",
    "        if \"Scan Summary of Signal\" in msg.iloc[i]['message']:\n",
    "            print(f\"Message index (in UTC) = {msg.index[i]}\")\n",
    "            print(msg.iloc[i]['message'])\n",
    "    print()"
   ]
  },
  {
   "cell_type": "code",
   "execution_count": null,
   "metadata": {},
   "outputs": [],
   "source": []
  }
 ],
 "metadata": {
  "kernelspec": {
   "display_name": "LSST",
   "language": "python",
   "name": "lsst"
  },
  "language_info": {
   "codemirror_mode": {
    "name": "ipython",
    "version": 3
   },
   "file_extension": ".py",
   "mimetype": "text/x-python",
   "name": "python",
   "nbconvert_exporter": "python",
   "pygments_lexer": "ipython3",
   "version": "3.11.9"
  }
 },
 "nbformat": 4,
 "nbformat_minor": 4
}
