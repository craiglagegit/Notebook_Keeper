{
 "cells": [
  {
   "cell_type": "markdown",
   "metadata": {},
   "source": [
    "# Notebook for taking gains extracted from PTC and applying them to a new repo.\n",
    "\n",
    "Initially written 05 Mar 2020 by Craig Lage."
   ]
  },
  {
   "cell_type": "code",
   "execution_count": null,
   "metadata": {},
   "outputs": [],
   "source": [
    "! eups list -s | grep lsst_distrib"
   ]
  },
  {
   "cell_type": "code",
   "execution_count": null,
   "metadata": {},
   "outputs": [],
   "source": [
    "import eups\n",
    "from lsst.daf.persistence import Butler\n",
    "from lsst.cp.pipe.ptc import MeasurePhotonTransferCurveTask\n",
    "import sys, os, glob\n",
    "import pickle as pkl\n",
    "import numpy as np\n",
    "import matplotlib.pyplot as plt\n",
    "import astropy.io.fits as pf"
   ]
  },
  {
   "cell_type": "code",
   "execution_count": null,
   "metadata": {},
   "outputs": [],
   "source": [
    "REPO_DIR = '/project/shared/comCam/'\n",
    "GAIN_DIR = '/home/cslage/ComCam/20191113/'\n",
    "OUTPUT_DIR = '/project/cslage/ComCam/20200303/'\n",
    "raftName = 'R22'"
   ]
  },
  {
   "cell_type": "code",
   "execution_count": null,
   "metadata": {},
   "outputs": [],
   "source": [
    "butler = Butler(OUTPUT_DIR)\n",
    "visit = 3020030300034\n",
    "dataRef = butler.dataRef('brighterFatterGain', detector=4, visit=visit)"
   ]
  },
  {
   "cell_type": "code",
   "execution_count": null,
   "metadata": {},
   "outputs": [],
   "source": [
    "raw = butler.get('raw', detector=4, visit=visit)"
   ]
  },
  {
   "cell_type": "code",
   "execution_count": null,
   "metadata": {},
   "outputs": [],
   "source": [
    "for key in dataRef.dataId.keys():\n",
    "    print(key)\n"
   ]
  },
  {
   "cell_type": "code",
   "execution_count": null,
   "metadata": {},
   "outputs": [],
   "source": [
    "print(dir(dataRef.put()))"
   ]
  },
  {
   "cell_type": "code",
   "execution_count": null,
   "metadata": {},
   "outputs": [],
   "source": [
    "ccd = raw.getDetector()\n",
    "print(dir(ccd))\n",
    "print(dir(raw))\n",
    "for amp in ccd:\n",
    "    print(dir(amp))\n",
    "    sys.exit()"
   ]
  },
  {
   "cell_type": "code",
   "execution_count": null,
   "metadata": {},
   "outputs": [],
   "source": [
    "#exposure = dataRef.exposure\n",
    "ccd = raw.getDetector()\n",
    "builder = ccd.rebuild()\n",
    "for amp in builder:\n",
    "    #amp = amp.rebuild()\n",
    "    amp.setGain(1.33)\n",
    "    #amp.finish()\n",
    "    print(amp.getName(),amp.getGain())\n",
    "raw.setDetector(builder.finish())\n",
    "ccd = raw.getDetector()\n",
    "for amp in ccd:\n",
    "    print(amp.getName(),amp.getGain())\n"
   ]
  },
  {
   "cell_type": "code",
   "execution_count": null,
   "metadata": {},
   "outputs": [],
   "source": [
    "print(dir(dataRef))"
   ]
  },
  {
   "cell_type": "code",
   "execution_count": null,
   "metadata": {},
   "outputs": [],
   "source": [
    "test = dataRef.get\n",
    "print(dir(test))"
   ]
  },
  {
   "cell_type": "code",
   "execution_count": null,
   "metadata": {},
   "outputs": [],
   "source": [
    "test = dataRef.put"
   ]
  },
  {
   "cell_type": "code",
   "execution_count": null,
   "metadata": {},
   "outputs": [],
   "source": [
    "for detector in range(9):\n",
    "    gain_pickle_file = GAIN_DIR+'calibrations/ptc/ptcDataGainAndNoise-det%03d.pkl'%detector\n",
    "    gain_file = open(gain_pickle_file, 'rb')\n",
    "    gain_data = pkl.load(gain_file)\n",
    "    amps = gain_data['gain'].keys()\n",
    "    gains = []\n",
    "    names = []\n",
    "    for amp in amps:\n",
    "        print(detector, amp, gain_data['gain'][amp][0])\n",
    "\n"
   ]
  },
  {
   "cell_type": "code",
   "execution_count": null,
   "metadata": {},
   "outputs": [],
   "source": []
  }
 ],
 "metadata": {
  "jupytext": {
   "formats": "ipynb,markdown//md"
  },
  "kernelspec": {
   "display_name": "LSST",
   "language": "python",
   "name": "lsst"
  },
  "language_info": {
   "codemirror_mode": {
    "name": "ipython",
    "version": 3
   },
   "file_extension": ".py",
   "mimetype": "text/x-python",
   "name": "python",
   "nbconvert_exporter": "python",
   "pygments_lexer": "ipython3",
   "version": "3.7.8"
  }
 },
 "nbformat": 4,
 "nbformat_minor": 4
}
