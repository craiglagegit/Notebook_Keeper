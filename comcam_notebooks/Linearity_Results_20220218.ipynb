{
 "cells": [
  {
   "cell_type": "markdown",
   "metadata": {},
   "source": [
    "# Notebook for investigating linearity corrections\n",
    "\n",
    "Initially written 20 Dec 2021 by Craig Lage\\\n",
    "copying from Chris Waters."
   ]
  },
  {
   "cell_type": "code",
   "execution_count": null,
   "metadata": {},
   "outputs": [],
   "source": [
    "import sys, os, glob, time\n",
    "import pickle as pkl\n",
    "import numpy as np\n",
    "import matplotlib.pyplot as plt\n",
    "from matplotlib.backends.backend_pdf import PdfPages\n",
    "import astropy.io.fits as pf\n",
    "from lsst.daf.butler import Butler\n",
    "import lsst.afw.math as afwMath\n",
    "from lsst.cp.pipe.utils import (funcPolynomial, irlsFit)"
   ]
  },
  {
   "cell_type": "code",
   "execution_count": null,
   "metadata": {},
   "outputs": [],
   "source": [
    "butler = Butler(\"/repo/main\", collections=[\"LSSTComCam/raw/all\",\"LSSTComCam/calib\",\\\n",
    "                                                    \"u/cslage/comcam/calib_202201218\"])\n",
    "camera = butler.get('camera', instrument='LSSTComCam')"
   ]
  },
  {
   "cell_type": "code",
   "execution_count": null,
   "metadata": {},
   "outputs": [],
   "source": [
    "linPtcButler = Butler(\"/repo/main\", collections=[\"u/cslage/comcam/ptc_linearized_20220218\"])"
   ]
  },
  {
   "cell_type": "code",
   "execution_count": null,
   "metadata": {},
   "outputs": [],
   "source": [
    "nonlinPtcButler = Butler(\"/repo/main\", collections=[\"u/cslage/comcam/ptc_20220218\"])"
   ]
  },
  {
   "cell_type": "code",
   "execution_count": null,
   "metadata": {},
   "outputs": [],
   "source": [
    "linButler = Butler(\"/repo/main\", collections=[\"u/cslage/comcam/linearizerA_20220218\"])"
   ]
  },
  {
   "cell_type": "code",
   "execution_count": null,
   "metadata": {},
   "outputs": [],
   "source": [
    "def ExpApprox(mu, g, a00, n):\n",
    "    if (g < 1.0E-6) or (abs(a00) < 1.0E-9):\n",
    "        return np.zeros([len(mu)])\n",
    "    else:\n",
    "        expFactor = 2.0 * a00 * mu * g\n",
    "        if max(expFactor) > 100.0:\n",
    "            return np.zeros([len(mu)])\n",
    "        else:\n",
    "            preFactor = 1.0 / (2.0 * g * g * a00)\n",
    "            noiseTerm = n / (g * g)\n",
    "            return preFactor * (np.exp(expFactor) - 1.0) + noiseTerm\n"
   ]
  },
  {
   "cell_type": "code",
   "execution_count": null,
   "metadata": {},
   "outputs": [],
   "source": [
    "# Set parameters\n",
    "minLinearAdu = 2000.0\n",
    "maxLinearAdu = 20000.0\n",
    "nSigmaClipLinear = 5.0\n",
    "fitOrder = 10 # Number of spline knots"
   ]
  },
  {
   "cell_type": "code",
   "execution_count": null,
   "metadata": {
    "tags": []
   },
   "outputs": [],
   "source": [
    "expId=2022021800078\n",
    "pdf = PdfPages(\"/repo/main/u/cslage/comcam/ptc_linearized_20220218/plots/Linearity_Results_20220218.pdf\")\n",
    "\n",
    "linNames = [\"Not Linearized\", \"Linearized\"]\n",
    "\n",
    "for det in range(9):\n",
    "    #if det > 0:\n",
    "    #    continue\n",
    "    linPtc = linPtcButler.get('ptc', detector=det, exposure=expId, instrument='LSSTComCam')\n",
    "    nonlinPtc = nonlinPtcButler.get('ptc', detector=det, exposure=expId, instrument='LSSTComCam')\n",
    "    lin = linButler.get('linearizer', detector=det, exposure=expId, instrument='LSSTComCam')\n",
    "    for amp in camera[0].getAmplifiers():\n",
    "        ampName = amp.getName()\n",
    "        #if [det, ampName] not in [[0, 'C17']]:\n",
    "        #    continue\n",
    "        mask = np.array(linPtc.expIdMask[ampName], dtype=bool)\n",
    "        maxDM = np.max(np.array(linPtc.rawMeans[ampName])[mask])            \n",
    "        print(det, ampName, maxDM)\n",
    "        fig = plt.figure(figsize=(16,8))\n",
    "        plt.subplots_adjust(wspace = 0.5, hspace = 0.5)\n",
    "\n",
    "        for n, ptc in enumerate([nonlinPtc, linPtc]):\n",
    "            gain = ptc.gain[ampName]\n",
    "            a00 = ptc.ptcFitPars[ampName][0]\n",
    "            noise = ptc.noise[ampName]\n",
    "            mask = np.array(ptc.expIdMask[ampName], dtype=bool)\n",
    "            maxDM = np.max(np.array(ptc.rawMeans[ampName])[mask])\n",
    "            print(f\"Detector-{det}-{ampName}-{linNames[n]} Gain={gain:.4f}, A00={a00:.6g}, Noise={noise:.2f}, Turnoff={maxDM:.2f}\")\n",
    "            yplot = ExpApprox(np.array(ptc.rawMeans[ampName]), gain, a00, noise)\n",
    "            plt.subplot(2,4,2*n+1)\n",
    "            plt.title(f\"Detector - {det} - {ampName}\\n{linNames[n]}\")\n",
    "            plt.scatter(ptc.rawMeans[ampName], ptc.rawVars[ampName], marker='+', label=\"Raw Data\")\n",
    "            plt.plot(ptc.rawMeans[ampName], yplot, ls = '--', color = 'red', label = 'ExpApprox')\n",
    "            plt.plot([maxDM, maxDM], [0, 50000], ls = '--', color='black', label = \"PTC Turnoff\")\n",
    "            plt.legend()\n",
    "            plt.xlim(0, 100000)\n",
    "            plt.xticks([0,25000,50000,75000,100000])\n",
    "            plt.xlabel(\"Flux (ADU)\")\n",
    "            plt.ylabel(\"Variance (ADU)\")\n",
    "            #plt.ylim(30000, 40000)\n",
    "            plt.subplot(2,4,2*n+2)\n",
    "            plt.title(f\"Detector - {det} - {ampName} PTC Residual\\n{linNames[n]}\")\n",
    "            plt.scatter(ptc.rawMeans[ampName], yplot - ptc.rawVars[ampName], marker='+', label=\"Raw\")\n",
    "            plt.plot([maxDM, maxDM], [-1000, 1000], ls = '--', color='black', label = \"PTC Turnoff\")\n",
    "            plt.xlim(0,100000)\n",
    "            plt.xticks([0,25000,50000,75000,100000])\n",
    "            plt.ylim(-1000,1000)\n",
    "            plt.xlabel(\"Flux (ADU)\")\n",
    "            plt.ylabel(\"PTC Residual (ADU)\")\n",
    "\n",
    "        # Now get and plot the linearizer fit\n",
    "        kk = 1\n",
    "        inputAbscissa = np.array(nonlinPtc.rawExpTimes[ampName])[mask]\n",
    "\n",
    "        inputOrdinate = np.array(nonlinPtc.rawMeans[ampName])[mask]\n",
    "\n",
    "        fluxMask = inputOrdinate < maxLinearAdu\n",
    "        lowMask = inputOrdinate > minLinearAdu\n",
    "        fluxMask = fluxMask & lowMask\n",
    "        linearAbscissa = inputAbscissa[fluxMask]\n",
    "        linearOrdinate = inputOrdinate[fluxMask]\n",
    "        linearFit, linearFitErr, chiSq, weights = irlsFit([0.0, 100.0], linearAbscissa,\n",
    "                                                          linearOrdinate, funcPolynomial)\n",
    "        # Convert this proxy-to-flux fit into an expected linear flux\n",
    "        linearOrdinate = linearFit[0] + linearFit[1] * inputAbscissa\n",
    "        # Get the spline coordinates from the stored linearizer\n",
    "        binCenters, values = np.split(lin.linearityCoeffs[amp.getName()], 2)\n",
    "\n",
    "        interp = afwMath.makeInterpolate(binCenters.tolist(), values.tolist(),\n",
    "                                         afwMath.stringToInterpStyle(\"AKIMA_SPLINE\"))\n",
    "        modelOrdinate = linearOrdinate + interp.interpolate(linearOrdinate)\n",
    "        plt.gcf().text(0.4, 0.94 - kk * 0.46, f\"Detector - {det} - {ampName}\", fontsize = 18)\n",
    "        plt.subplot(2,4,1+kk*4)\n",
    "        plt.title(\"Spline fit to ExpTime data\")\n",
    "        plt.plot(inputAbscissa, (modelOrdinate-linearOrdinate), ls = '--', lw=3, color='red', label=\"Spline fit\")\n",
    "        plt.scatter(binCenters / linearFit[1], values, marker = 'x', s = 200, color='red', label=\"Spline knots\")\n",
    "        plt.scatter(inputAbscissa, (inputOrdinate - linearOrdinate), label=\"Input data\")\n",
    "        plt.xlabel(\"Exposure Time (sec)\")\n",
    "        plt.ylabel(\"Deviation from Linearity(ADU)\")\n",
    "        plt.ylim(-200,200)\n",
    "\n",
    "        plt.legend()    \n",
    "        plt.subplot(2,4,2 + kk * 4)\n",
    "        plt.title(\"Spline fit residual\")\n",
    "        plt.scatter(inputAbscissa, (modelOrdinate - inputOrdinate) / modelOrdinate * 100.0)\n",
    "        plt.xlabel(\"Exposure Time (sec)\")\n",
    "        plt.ylabel(\"Residual (%)\") \n",
    "        plt.ylim(-0.1,0.1)\n",
    "        plt.subplot(2,4,3 + kk * 4)\n",
    "        plt.title(\"Spline fit to ExpTime data\")\n",
    "        plt.plot(linearOrdinate, (modelOrdinate-linearOrdinate), ls = '--', lw=3, color='red', label=\"Spline fit\")\n",
    "        plt.scatter(binCenters, values, marker = 'x', s = 200, color='red', label=\"Spline knots\")\n",
    "        plt.scatter(linearOrdinate, (inputOrdinate - linearOrdinate), label=\"Input data\")\n",
    "        plt.plot([maxDM, maxDM], [-50, 200], ls = '--', color='black', label = \"PTC Turnoff\")\n",
    "        plt.ylim(-200,200)\n",
    "        plt.xlabel(\"Flux (ADU)\")\n",
    "        plt.ylabel(\"Deviation from Linearity(ADU)\")\n",
    "        plt.xlim(0, 100000)\n",
    "        plt.xticks([0,25000,50000,75000,100000])\n",
    "        plt.legend()        \n",
    "        plt.subplot(2,4,4 + kk * 4)\n",
    "        plt.title(\"Spline fit residual\")\n",
    "        plt.scatter(linearOrdinate, (modelOrdinate - inputOrdinate) / modelOrdinate * 100.0)\n",
    "        plt.plot([maxDM, maxDM], [-0.1, 0.1], ls = '--', color='black', label = \"PTC Turnoff\")\n",
    "        plt.xlabel(\"Flux (ADU)\")\n",
    "        plt.ylabel(\"Residual (%)\")\n",
    "        plt.ylim(-0.1,0.1)\n",
    "        plt.xlim(0, 100000)\n",
    "        plt.xticks([0,25000,50000,75000,100000])\n",
    "\n",
    "\n",
    "    pdf.savefig(fig)\n",
    "    plt.close(fig)\n",
    "    print(f\"Finished {det} {ampName}\")\n",
    "pdf.close()\n",
    "\n",
    "\n"
   ]
  },
  {
   "cell_type": "code",
   "execution_count": null,
   "metadata": {},
   "outputs": [],
   "source": []
  }
 ],
 "metadata": {
  "jupytext": {
   "formats": "ipynb,markdown//md"
  },
  "kernelspec": {
   "display_name": "LSST",
   "language": "python",
   "name": "lsst"
  },
  "language_info": {
   "codemirror_mode": {
    "name": "ipython",
    "version": 3
   },
   "file_extension": ".py",
   "mimetype": "text/x-python",
   "name": "python",
   "nbconvert_exporter": "python",
   "pygments_lexer": "ipython3",
   "version": "3.8.8"
  }
 },
 "nbformat": 4,
 "nbformat_minor": 4
}
