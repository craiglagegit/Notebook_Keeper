{
 "cells": [
  {
   "cell_type": "markdown",
   "metadata": {},
   "source": [
    "# Notebook for querying ComCam data.\n",
    "\n",
    "Initially written 13 Aug 2020 by Craig Lage"
   ]
  },
  {
   "cell_type": "code",
   "execution_count": null,
   "metadata": {},
   "outputs": [],
   "source": [
    "! eups list -s | grep lsst_distrib\n",
    "! eups list -s cp_pipe"
   ]
  },
  {
   "cell_type": "code",
   "execution_count": null,
   "metadata": {},
   "outputs": [],
   "source": [
    "import sys, os, glob, subprocess\n",
    "import pickle as pkl\n",
    "import numpy as np\n",
    "import matplotlib.pyplot as plt\n",
    "import astropy.io.fits as pf\n",
    "from lsst.daf.persistence import Butler"
   ]
  },
  {
   "cell_type": "code",
   "execution_count": null,
   "metadata": {},
   "outputs": [],
   "source": [
    "RAFT = 'R22'\n",
    "SENSOR = 'S11'"
   ]
  },
  {
   "cell_type": "code",
   "execution_count": null,
   "metadata": {},
   "outputs": [],
   "source": [
    "# First check the OCS dir\n",
    "DATA_DIR = '/project/shared/comCam/'\n",
    "filedir = DATA_DIR+'_parent/raw/'\n",
    "files = glob.glob(filedir+'*/*/2020081200025-%s-%s-det004.fits'%(RAFT,SENSOR))\n",
    "files = np.sort(files)\n",
    "numFiles = len(files)\n",
    "print(numFiles)"
   ]
  },
  {
   "cell_type": "code",
   "execution_count": null,
   "metadata": {},
   "outputs": [],
   "source": [
    "# First check the exposure times\n",
    "DATA_DIR = '/project/shared/comCam/'\n",
    "filedir = DATA_DIR+'_parent/raw/'\n",
    "files = glob.glob(filedir+'*/*/2020081300???-%s-%s-det004.fits'%(RAFT,SENSOR))\n",
    "files = np.sort(files)\n",
    "numFiles = len(files)\n",
    "print(numFiles)\n",
    "\n",
    "for file in files:\n",
    "    hdulist = pf.open(file, mode='readonly', do_not_scale_image_data=True)\n",
    "        \n",
    "    phdr=hdulist[0].header\n",
    "    imhdr=hdulist[1].header\n",
    "    filename = file.split('/')[8][8:13]#phdr['FILENAME']\n",
    "    exptime = phdr['EXPTIME']\n",
    "    imgtype = phdr['IMGTYPE'] \n",
    "    avg = 0.0#imhdr['AVERAGE']\n",
    "    print(\"%s\\t%s\\t%f\\t%f\"%(filename, imgtype, exptime, avg))\n"
   ]
  },
  {
   "cell_type": "code",
   "execution_count": null,
   "metadata": {},
   "outputs": [],
   "source": [
    "# OCS Primary headers\n",
    "file = files[0]\n",
    "hdulist = pf.open(file, mode='readonly', do_not_scale_image_data=True)\n",
    "phdr_ocs = hdulist[0].header\n",
    "dhdr_ocs = hdulist[1].header\n",
    "dat_ocs = hdulist[1].data\n",
    "for key in phdr_ocs.keys():\n",
    "    print(key, phdr_ocs[key])\n"
   ]
  },
  {
   "cell_type": "code",
   "execution_count": null,
   "metadata": {},
   "outputs": [],
   "source": [
    "# Now check the CCS dir\n",
    "DATA_DIR = '/project/shared/comCam-CCS/'\n",
    "filedir = DATA_DIR+'_parent/raw/'\n",
    "files = glob.glob(filedir+'*/*/2020081200025-%s-%s-det004.fits'%(RAFT,SENSOR))\n",
    "files = np.sort(files)\n",
    "numFiles = len(files)\n",
    "print(numFiles)"
   ]
  },
  {
   "cell_type": "code",
   "execution_count": null,
   "metadata": {},
   "outputs": [],
   "source": [
    "# CCS Primary headers\n",
    "file = files[0]\n",
    "hdulist = pf.open(file, mode='readonly', do_not_scale_image_data=True)\n",
    "phdr_ccs=hdulist[0].header\n",
    "dhdr_ccs = hdulist[1].header\n",
    "dat_ccs = hdulist[1].data\n",
    "for key in phdr_ccs.keys():\n",
    "    print(key, phdr_ccs[key])\n"
   ]
  },
  {
   "cell_type": "code",
   "execution_count": null,
   "metadata": {},
   "outputs": [],
   "source": [
    "# CCS All headers\n",
    "file = files[0]\n",
    "hdulist = pf.open(file, mode='readonly', do_not_scale_image_data=True)\n",
    "\n",
    "for i in range(18):\n",
    "    hdr=hdulist[i].header\n",
    "    for key in hdr.keys():\n",
    "        print(i,key, hdr[key])\n"
   ]
  },
  {
   "cell_type": "code",
   "execution_count": null,
   "metadata": {},
   "outputs": [],
   "source": [
    "# Compare the primary headers\n",
    "merged_keys = list(phdr_ocs.keys()) + list(set(phdr_ccs.keys()) - set(phdr_ocs.keys()))\n",
    "for key in merged_keys:\n",
    "    if (key in phdr_ocs.keys()) and  (key in phdr_ccs.keys()):\n",
    "        print(key, 'OCS:', phdr_ocs[key],'CCS:', phdr_ccs[key])\n",
    "    elif (key in phdr_ocs.keys()):\n",
    "        print(key, 'OCS:', phdr_ocs[key])\n",
    "    elif (key in phdr_ccs.keys()):\n",
    "        print(key, 'CCS:', phdr_ccs[key])"
   ]
  },
  {
   "cell_type": "code",
   "execution_count": null,
   "metadata": {},
   "outputs": [],
   "source": [
    "# Compare a pixel data value.  They should be the same and they are\n",
    "print('OCS:',dat_ocs[500,500],'CCS:',dat_ccs[500,500])"
   ]
  },
  {
   "cell_type": "code",
   "execution_count": null,
   "metadata": {},
   "outputs": [],
   "source": [
    "# Compare a data header\n",
    "merged_keys = list(dhdr_ocs.keys()) + list(set(dhdr_ccs.keys()) - set(dhdr_ocs.keys()))\n",
    "for key in merged_keys:\n",
    "    if (key in dhdr_ocs.keys()) and  (key in dhdr_ccs.keys()):\n",
    "        print(key, 'OCS:', dhdr_ocs[key],'CCS:', dhdr_ccs[key])\n",
    "    elif (key in dhdr_ocs.keys()):\n",
    "        print(key, 'OCS:', dhdr_ocs[key])\n",
    "    elif (key in dhdr_ccs.keys()):\n",
    "        print(key, 'CCS:', dhdr_ccs[key])"
   ]
  },
  {
   "cell_type": "code",
   "execution_count": null,
   "metadata": {},
   "outputs": [],
   "source": []
  }
 ],
 "metadata": {
  "kernelspec": {
   "display_name": "LSST",
   "language": "python",
   "name": "lsst"
  },
  "language_info": {
   "codemirror_mode": {
    "name": "ipython",
    "version": 3
   },
   "file_extension": ".py",
   "mimetype": "text/x-python",
   "name": "python",
   "nbconvert_exporter": "python",
   "pygments_lexer": "ipython3",
   "version": "3.7.8"
  }
 },
 "nbformat": 4,
 "nbformat_minor": 4
}
