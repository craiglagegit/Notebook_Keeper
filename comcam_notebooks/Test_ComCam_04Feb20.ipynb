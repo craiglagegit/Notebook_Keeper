{
 "cells": [
  {
   "cell_type": "markdown",
   "metadata": {},
   "source": [
    "# Notebook for re-ingesting ComCam data.\n",
    "\n",
    "Initially written 15 Nov 2019 by Craig Lage\\\n",
    "This ingests the images into my own repo, \\\n",
    "creates the master bias images, and ingests them.\\\n",
    "02-Dec-19 - I've added the master flats and master darks.\n",
    "19-Dec-19  Adding code to add missing header keywords\\\n",
    "I'm setting up for BF correction, so this requires the following:\\\n",
    "obs_base: tickets/DM-18683\\\n",
    "obs_lsst: tickets/DM-18683\\\n",
    "cp_pipe: tickets/DM-18683\\\n",
    "ip_isr: tickets/DM-22659"
   ]
  },
  {
   "cell_type": "code",
   "execution_count": null,
   "metadata": {},
   "outputs": [],
   "source": [
    "! eups list -s | grep lsst_distrib"
   ]
  },
  {
   "cell_type": "code",
   "execution_count": null,
   "metadata": {},
   "outputs": [],
   "source": [
    "import eups\n",
    "import sys, os, glob\n",
    "import pickle as pkl\n",
    "import numpy as np\n",
    "import matplotlib.pyplot as plt\n",
    "import astropy.io.fits as pf\n",
    "\n",
    "from lsst.daf.persistence import Butler\n",
    "from lsst.ip.isr.isrTask import IsrTask\n",
    "from lsst.pipe.tasks.characterizeImage import CharacterizeImageTask, CharacterizeImageConfig"
   ]
  },
  {
   "cell_type": "code",
   "execution_count": null,
   "metadata": {},
   "outputs": [],
   "source": [
    "DATA_DIR = '/project/shared/comCam/'\n",
    "REPO_DIR = '/project/cslage/ComCam/20191218/'\n",
    "OUTPUT_DIR = '/project/cslage/ComCam/20191218/'\n",
    "DETECTOR = 4\n",
    "raftName = 'R22'"
   ]
  },
  {
   "cell_type": "code",
   "execution_count": null,
   "metadata": {},
   "outputs": [],
   "source": [
    "# First check the exposure times\n",
    "filedir = DATA_DIR+'raw/20191218/'\n",
    "files = glob.glob(filedir+'CC_C_20191218_00????/CC_C_20191218_00????_R22_S11.fits')\n",
    "files = np.sort(files)\n",
    "numFiles = len(files)\n",
    "print(numFiles)\n",
    "\n",
    "for file in files:\n",
    "    hdulist = pf.open(file, mode='readonly', do_not_scale_image_data=True)\n",
    "        \n",
    "    phdr=hdulist[0].header\n",
    "    filename = file.split('/')[6][14:]#phdr['FILENAME']\n",
    "    exptime = phdr['EXPTIME']\n",
    "    imgtype = phdr['IMGTYPE'] \n",
    "    print(\"%s\\t%s\\t%f\"%(filename, imgtype, exptime))\n",
    "\n"
   ]
  },
  {
   "cell_type": "code",
   "execution_count": null,
   "metadata": {},
   "outputs": [],
   "source": []
  }
 ],
 "metadata": {
  "jupytext": {
   "formats": "ipynb,markdown//md"
  },
  "kernelspec": {
   "display_name": "LSST",
   "language": "python",
   "name": "lsst"
  },
  "language_info": {
   "codemirror_mode": {
    "name": "ipython",
    "version": 3
   },
   "file_extension": ".py",
   "mimetype": "text/x-python",
   "name": "python",
   "nbconvert_exporter": "python",
   "pygments_lexer": "ipython3",
   "version": "3.8.8"
  }
 },
 "nbformat": 4,
 "nbformat_minor": 4
}
