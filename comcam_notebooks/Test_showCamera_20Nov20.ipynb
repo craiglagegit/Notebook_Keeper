{
 "cells": [
  {
   "cell_type": "markdown",
   "metadata": {},
   "source": [
    "# Notebook for testing showCamera.\n",
    "Initially written 09 Mar 2020 by Craig Lage.\\\n",
    "Testing with comCam data from 2020-08-12."
   ]
  },
  {
   "cell_type": "code",
   "execution_count": null,
   "metadata": {},
   "outputs": [],
   "source": [
    "! eups list -s | grep lsst_distrib\n",
    "! eups list -s cp_pipe\n",
    "! eups list -s obs_lsst"
   ]
  },
  {
   "cell_type": "code",
   "execution_count": null,
   "metadata": {},
   "outputs": [],
   "source": [
    "import numpy as np\n",
    "import matplotlib.pyplot as plt\n",
    "import astropy.io.fits as pf\n",
    "from lsst.daf.persistence import Butler\n",
    "import lsst.afw.cameraGeom.utils as camGeomUtils\n",
    "import lsst.afw.display as afwDisplay"
   ]
  },
  {
   "cell_type": "code",
   "execution_count": null,
   "metadata": {},
   "outputs": [],
   "source": [
    "#REPO_DIR = '/project/shared/comCam-CCS/rerun/cslage/ISR_ComCam_2020-12-28'\n",
    "REPO_DIR = '/project/shared/comCam-CCS/rerun/cslage/PTC_2020-12-29'\n",
    "butler = Butler(REPO_DIR)\n",
    "visit=3020122900076\n",
    "dayObs = '2020-12-29'"
   ]
  },
  {
   "cell_type": "code",
   "execution_count": null,
   "metadata": {},
   "outputs": [],
   "source": [
    "means = []\n",
    "stds = []\n",
    "for det in range(9):\n",
    "    exp = butler.get('postISRCCD', detector=det, dayObs=dayObs, visit=visit)\n",
    "    mean = np.mean(exp.getMaskedImage().getArrays()[0])\n",
    "    std = np.std(exp.getMaskedImage().getArrays()[0])\n",
    "    print(det, mean, std)\n",
    "    means.append(mean)\n",
    "    stds.append(std)\n",
    "mean = np.mean(means)\n",
    "std = np.std(stds)\n",
    "testType = exp.getMetadata()['TESTTYPE']\n",
    "print(mean, std, testType)"
   ]
  },
  {
   "cell_type": "code",
   "execution_count": null,
   "metadata": {},
   "outputs": [],
   "source": [
    "camera = butler.get('camera')\n",
    "fig = plt.figure(figsize=(16,16))\n",
    "disp = afwDisplay.Display(1, \"matplotlib\")\n",
    "disp.scale('linear', min=0, max=50000)\n",
    "dataType='postISRCCD'\n",
    "mos = camGeomUtils.showCamera(camera, \\\n",
    "                              camGeomUtils.ButlerImage(butler, dataType, visit=visit, \\\n",
    "                                                        verbose=True,  \\\n",
    "                                                      background = np.nan),\\\n",
    "                              title='%s, %s, Mean = %.3f, Std = %.3f'%(visit,dataType,mean,std),\\\n",
    "                              binSize=32, display=disp, overlay=False)\n",
    "fig.savefig(REPO_DIR+'/plots/%s_%d_%s.png'%(testType,visit,dayObs))"
   ]
  },
  {
   "cell_type": "code",
   "execution_count": null,
   "metadata": {},
   "outputs": [],
   "source": []
  },
  {
   "cell_type": "code",
   "execution_count": null,
   "metadata": {},
   "outputs": [],
   "source": [
    "camGeomUtils.showCamera?"
   ]
  },
  {
   "cell_type": "code",
   "execution_count": null,
   "metadata": {},
   "outputs": [],
   "source": [
    "afwDisplay.Display.scale?"
   ]
  },
  {
   "cell_type": "code",
   "execution_count": null,
   "metadata": {},
   "outputs": [],
   "source": []
  }
 ],
 "metadata": {
  "jupytext": {
   "formats": "ipynb,markdown//md"
  },
  "kernelspec": {
   "display_name": "LSST",
   "language": "python",
   "name": "lsst"
  },
  "language_info": {
   "codemirror_mode": {
    "name": "ipython",
    "version": 3
   },
   "file_extension": ".py",
   "mimetype": "text/x-python",
   "name": "python",
   "nbconvert_exporter": "python",
   "pygments_lexer": "ipython3",
   "version": "3.7.8"
  }
 },
 "nbformat": 4,
 "nbformat_minor": 4
}
