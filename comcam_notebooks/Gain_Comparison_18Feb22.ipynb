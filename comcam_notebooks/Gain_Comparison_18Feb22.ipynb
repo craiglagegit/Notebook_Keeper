{
 "cells": [
  {
   "cell_type": "markdown",
   "metadata": {},
   "source": [
    "# Notebook for plotting ComCam gains.\n",
    "\n",
    "Initially written 18 Feb 2022 by Craig Lage."
   ]
  },
  {
   "cell_type": "code",
   "execution_count": null,
   "metadata": {},
   "outputs": [],
   "source": [
    "import sys, os, glob, time\n",
    "import numpy as np\n",
    "import astropy.io.fits as pf\n",
    "import matplotlib.pyplot as plt\n",
    "import lsst.daf.butler as dafButler"
   ]
  },
  {
   "cell_type": "code",
   "execution_count": null,
   "metadata": {},
   "outputs": [],
   "source": [
    "butler1 = dafButler.Butler(\"/repo/main\", collections=[\"LSSTComCam/raw/all\", \"LSSTComCam/calib/unbounded\",\n",
    "                                                      \"u/cslage/comcam/ptc_20220216\"])\n",
    "exposure1 = 2022021600192\n",
    "butler2 = dafButler.Butler(\"/repo/main\", collections=[\"LSSTComCam/raw/all\", \"LSSTComCam/calib/unbounded\",\n",
    "                                                      \"u/cslage/comcam/ptc_20220217\"])\n",
    "exposure2 = 2022021700200"
   ]
  },
  {
   "cell_type": "code",
   "execution_count": null,
   "metadata": {},
   "outputs": [],
   "source": [
    "RAFT = 'R22'\n",
    "butlers = [butler1, butler2]\n",
    "exposures = [exposure1, exposure2]\n",
    "run_names = ['2022-02-16-Rband', '2022-02-17-Zband']\n",
    "markers = ['o', 'x', '+', '*', '^', 'v']"
   ]
  },
  {
   "cell_type": "code",
   "execution_count": null,
   "metadata": {},
   "outputs": [],
   "source": [
    "plt.figure(figsize=(16,16))\n",
    "plt.subplots_adjust(hspace=0.5)\n",
    "plt.suptitle(\"ComCam Gains\", fontsize=24)\n",
    "for i,butler in enumerate(butlers):\n",
    "    run_name = run_names[i]\n",
    "    plotcounter = 0\n",
    "    for detector in range(9):\n",
    "        plotcounter += 1\n",
    "        plt.subplot(3,3,plotcounter)\n",
    "        plt.title(\"Detector%d\"%detector, fontsize = 12)\n",
    "        ptcDataset = butler.get('ptc', exposure=exposures[i], detector=detector)\n",
    "        gain_data = ptcDataset.gain\n",
    "        gain_err_data = ptcDataset.gainErr\n",
    "        amps = gain_data.keys()\n",
    "        gains = []\n",
    "        gain_err = []\n",
    "        amp_nums = []\n",
    "        for ii, amp in enumerate(amps):\n",
    "            gains.append(gain_data[amp])\n",
    "            gain_err.append(gain_err_data[amp])\n",
    "            amp_nums.append(ii)\n",
    "        plt.errorbar(amp_nums, gains, yerr=gain_err, marker = markers[i], label = run_name)\n",
    "        plt.ylim(1.0, 2.0)\n",
    "        plt.ylabel(\"Gain\", fontsize = 12)\n",
    "        plt.xticks(amp_nums,amps, fontsize=8)\n",
    "        plt.legend(loc = 'upper right', fontsize = 12)\n",
    "plt.savefig('/repo/main/u/cslage/comcam/ptc_20220217/plots/Gain_Summary_18Feb22.pdf')\n"
   ]
  },
  {
   "cell_type": "code",
   "execution_count": null,
   "metadata": {},
   "outputs": [],
   "source": []
  }
 ],
 "metadata": {
  "jupytext": {
   "formats": "ipynb,markdown//md"
  },
  "kernelspec": {
   "display_name": "LSST",
   "language": "python",
   "name": "lsst"
  },
  "language_info": {
   "codemirror_mode": {
    "name": "ipython",
    "version": 3
   },
   "file_extension": ".py",
   "mimetype": "text/x-python",
   "name": "python",
   "nbconvert_exporter": "python",
   "pygments_lexer": "ipython3",
   "version": "3.8.8"
  }
 },
 "nbformat": 4,
 "nbformat_minor": 4
}
