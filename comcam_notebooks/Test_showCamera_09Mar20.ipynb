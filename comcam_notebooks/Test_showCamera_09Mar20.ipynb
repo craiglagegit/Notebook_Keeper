{
 "cells": [
  {
   "cell_type": "markdown",
   "metadata": {},
   "source": [
    "# Notebook for testing showCamera.\n",
    "\n",
    "Initially written 09 Mar 2020 by Craig Lage."
   ]
  },
  {
   "cell_type": "code",
   "execution_count": null,
   "metadata": {},
   "outputs": [],
   "source": [
    "! eups list -s | grep lsst_distrib\n",
    "! eups list -s obs_lsst"
   ]
  },
  {
   "cell_type": "code",
   "execution_count": null,
   "metadata": {},
   "outputs": [],
   "source": [
    "import sys, os, glob\n",
    "import pickle as pkl\n",
    "import numpy as np\n",
    "import matplotlib.pyplot as plt\n",
    "import astropy.io.fits as pf\n",
    "\n",
    "from lsst.daf.persistence import Butler\n",
    "import lsst.afw.cameraGeom.utils as camGeomUtils\n",
    "import lsst.afw.display as afwDisplay"
   ]
  },
  {
   "cell_type": "code",
   "execution_count": null,
   "metadata": {},
   "outputs": [],
   "source": [
    "REPO_DIR = '/project/cslage/ComCam/20200303/'\n",
    "#REPO_DIR = '/lsstdata/offline/teststand/comcam/'\n",
    "#REPO_DIR = '/project/shared/comCam'\n",
    "butler = Butler(REPO_DIR)\n",
    "#visit = 2019111300120\n",
    "visit = 3020030300034"
   ]
  },
  {
   "cell_type": "code",
   "execution_count": null,
   "metadata": {},
   "outputs": [],
   "source": [
    "camera = butler.get('camera')\n",
    "imageSource = camGeomUtils.ButlerImage(butler, 'raw', visit=visit)\n",
    "test = camGeomUtils.showCamera(camera, imageSource=imageSource)"
   ]
  },
  {
   "cell_type": "code",
   "execution_count": null,
   "metadata": {},
   "outputs": [],
   "source": [
    "print(test.array.shape)\n",
    "print(test.array.max(), test.array.min())"
   ]
  },
  {
   "cell_type": "code",
   "execution_count": null,
   "metadata": {},
   "outputs": [],
   "source": [
    " "
   ]
  },
  {
   "cell_type": "code",
   "execution_count": null,
   "metadata": {},
   "outputs": [],
   "source": [
    "plt.imshow(test.array,vmin=10, vmax=10000, cmap='gray')"
   ]
  },
  {
   "cell_type": "code",
   "execution_count": null,
   "metadata": {},
   "outputs": [],
   "source": [
    "print(dir(camera))"
   ]
  },
  {
   "cell_type": "code",
   "execution_count": null,
   "metadata": {},
   "outputs": [],
   "source": [
    "print(camera.getNameMap())"
   ]
  },
  {
   "cell_type": "code",
   "execution_count": null,
   "metadata": {},
   "outputs": [],
   "source": [
    "print(dir(camera.getNameMap()['R22_S11'][0]))"
   ]
  },
  {
   "cell_type": "code",
   "execution_count": null,
   "metadata": {},
   "outputs": [],
   "source": [
    "print(camera.getNameMap()['R22_S11'][0].getGain())"
   ]
  },
  {
   "cell_type": "code",
   "execution_count": null,
   "metadata": {},
   "outputs": [],
   "source": [
    "test = camGeomUtils.ButlerImage(butler, 'raw', visit=visit, background = 10.0, \\\n",
    "                                                        verbose=True, callback = myCallback)"
   ]
  },
  {
   "cell_type": "code",
   "execution_count": null,
   "metadata": {},
   "outputs": [],
   "source": [
    "print(camera.getNameMap()['R22_S11'][0].getRawBBox())"
   ]
  },
  {
   "cell_type": "code",
   "execution_count": null,
   "metadata": {},
   "outputs": [],
   "source": [
    "ccd = camera.getNameMap()['R22_S11']"
   ]
  },
  {
   "cell_type": "code",
   "execution_count": null,
   "metadata": {},
   "outputs": [],
   "source": [
    "test2 = test.getCcdImage(ccd)"
   ]
  },
  {
   "cell_type": "code",
   "execution_count": null,
   "metadata": {},
   "outputs": [],
   "source": [
    "print(test2)"
   ]
  },
  {
   "cell_type": "code",
   "execution_count": null,
   "metadata": {},
   "outputs": [],
   "source": [
    "def myCallback(im, ccd, imageSource):\n",
    "    \"\"\"Assemble the CCD image\"\"\"\n",
    "    oim = camGeomUtils.rawCallback(im, ccd, imageSource,\n",
    "                                       subtractBias=True, correctGain=True)\n",
    "    return oim"
   ]
  },
  {
   "cell_type": "code",
   "execution_count": null,
   "metadata": {},
   "outputs": [],
   "source": [
    "afwDisplay.Display?"
   ]
  },
  {
   "cell_type": "code",
   "execution_count": null,
   "metadata": {},
   "outputs": [],
   "source": [
    "disp = afwDisplay.Display(1, \"matplotlib\")\n",
    "disp.scale('asinh', 'zscale')\n",
    "\n",
    "dataType='raw'\n",
    "mos = camGeomUtils.showCamera(camera, \\\n",
    "                              camGeomUtils.ButlerImage(butler, dataType, visit=visit, \\\n",
    "                                                        verbose=True, callback = myCallback,\\\n",
    "                                                      background = np.nan),\\\n",
    "                              binSize=16, display=disp, overlay=False, \\\n",
    "                              title=\"%d %s\" % (visit, dataType))\n",
    "\n",
    "print(mos.array)"
   ]
  },
  {
   "cell_type": "code",
   "execution_count": null,
   "metadata": {},
   "outputs": [],
   "source": [
    "raw = butler.get('raw', detector=4, visit=visit)"
   ]
  },
  {
   "cell_type": "code",
   "execution_count": null,
   "metadata": {},
   "outputs": [],
   "source": [
    "print(raw.image.array.max())"
   ]
  },
  {
   "cell_type": "code",
   "execution_count": null,
   "metadata": {},
   "outputs": [],
   "source": [
    "# Finally have it working.  Need to keep working on getting things in the right place and \n",
    "# getting the gaps right.\n",
    "\n",
    "# It looks like the file to edit is in policy/comCam.yaml, but it seems this file gets built.\n",
    "# Where does the offset get stored?"
   ]
  },
  {
   "cell_type": "code",
   "execution_count": null,
   "metadata": {},
   "outputs": [],
   "source": [
    "#Check if numbering is correct\n",
    "for detector in range(9):\n",
    "    raw = butler.get('raw', detector=detector, visit=visit)\n",
    "    ccd = raw.getDetector()\n",
    "    ccdName = ccd.getName()\n",
    "    print(detector, ccdName, raw.getMetadata()['LSST_NUM'])"
   ]
  },
  {
   "cell_type": "code",
   "execution_count": null,
   "metadata": {},
   "outputs": [],
   "source": [
    "# From R22.yaml\n",
    "\"\"\"\n",
    "    S00 : ITL-3800C-229\n",
    "    S01 : ITL-3800C-251\n",
    "    S02 : ITL-3800C-215\n",
    "    S10 : ITL-3800C-326\n",
    "    S11 : ITL-3800C-283\n",
    "    S12 : ITL-3800C-243\n",
    "    S20 : ITL-3800C-319\n",
    "    S21 : ITL-3800C-209\n",
    "    S22 : ITL-3800C-206\n",
    "\"\"\"\n",
    "# Looks correct\n",
    "\n"
   ]
  }
 ],
 "metadata": {
  "jupytext": {
   "formats": "ipynb,markdown//md"
  },
  "kernelspec": {
   "display_name": "LSST",
   "language": "python",
   "name": "lsst"
  },
  "language_info": {
   "codemirror_mode": {
    "name": "ipython",
    "version": 3
   },
   "file_extension": ".py",
   "mimetype": "text/x-python",
   "name": "python",
   "nbconvert_exporter": "python",
   "pygments_lexer": "ipython3",
   "version": "3.8.8"
  }
 },
 "nbformat": 4,
 "nbformat_minor": 4
}
