{
 "cells": [
  {
   "cell_type": "code",
   "execution_count": null,
   "id": "ab8f5ec4-fefa-44a9-9d8b-3dd21893026f",
   "metadata": {
    "execution": {
     "iopub.execute_input": "2023-10-02T13:53:13.346776Z",
     "iopub.status.busy": "2023-10-02T13:53:13.346459Z",
     "iopub.status.idle": "2023-10-02T13:53:13.948507Z",
     "shell.execute_reply": "2023-10-02T13:53:13.948052Z",
     "shell.execute_reply.started": "2023-10-02T13:53:13.346760Z"
    },
    "tags": []
   },
   "outputs": [],
   "source": [
    "import sys, time, os, asyncio, glob\n",
    "import numpy as np\n",
    "import pandas as pd\n",
    "import matplotlib.pyplot as plt\n",
    "from matplotlib.backends.backend_pdf import PdfPages\n",
    "from astropy.time import Time, TimeDelta\n",
    "from lsst_efd_client import EfdClient"
   ]
  },
  {
   "cell_type": "code",
   "execution_count": null,
   "id": "b830512f-b0d0-4ca6-a29b-64c8f20fa778",
   "metadata": {
    "execution": {
     "iopub.execute_input": "2023-10-02T13:53:15.196434Z",
     "iopub.status.busy": "2023-10-02T13:53:15.196159Z",
     "iopub.status.idle": "2023-10-02T13:53:16.232082Z",
     "shell.execute_reply": "2023-10-02T13:53:16.231585Z",
     "shell.execute_reply.started": "2023-10-02T13:53:15.196420Z"
    },
    "tags": []
   },
   "outputs": [],
   "source": [
    "client = EfdClient('usdf_efd')"
   ]
  },
  {
   "cell_type": "code",
   "execution_count": null,
   "id": "844f933d-94a2-4836-9de7-a27a62263fb3",
   "metadata": {
    "execution": {
     "iopub.execute_input": "2023-10-02T13:53:35.241406Z",
     "iopub.status.busy": "2023-10-02T13:53:35.241125Z",
     "iopub.status.idle": "2023-10-02T13:53:43.390744Z",
     "shell.execute_reply": "2023-10-02T13:53:43.390330Z",
     "shell.execute_reply.started": "2023-10-02T13:53:35.241392Z"
    },
    "tags": []
   },
   "outputs": [],
   "source": [
    "dates = [\"2023-05-09\", \"2023-05-10\",\"2023-05-11\",\"2023-05-23\",\"2023-05-24\",\"2023-07-04\",\"2023-07-05\",\"2023-07-06\",\\\n",
    "         \"2023-07-18\",\"2023-07-20\",\"2023-08-01\",\"2023-08-02\",\"2023-08-03\",\"2023-08-15\",\"2023-08-16\",\"2023-08-17\",\\\n",
    "         \"2023-08-29\",\"2023-09-12\"]\n",
    "#pdf = PdfPages(\"/home/craiglagegit/DATA/Shutter_State_Multiple.pdf\")\n",
    "\n",
    "for date in dates:\n",
    "    start = Time(f\"{date}T16:00:00Z\", scale='utc')\n",
    "    date_split = date.split('-')\n",
    "    end_date = f\"{date_split[0]}-{date_split[1]}-{int(date_split[2])+1:02}\"\n",
    "    print(date, end_date)\n",
    "    end = Time(f\"{end_date}T10:00:00Z\", scale='utc')\n",
    "    try:\n",
    "        state = await client.select_time_series('lsst.sal.ATDome.logevent_mainDoorState', \\\n",
    "                                            ['*'],  start, end)\n",
    "        shut = await client.select_time_series('lsst.sal.ATDome.position', \\\n",
    "                                                    ['mainDoorOpeningPercentage'],  start, end)\n",
    "        close_command = await client.select_time_series('lsst.sal.ATDome.command_closeShutter', \\\n",
    "                                                    ['*'],  start, end)\n",
    "        print(len(state), len(shut), len(close_command))\n",
    "        continue\n",
    "        fig, ax = plt.subplots(1,1, figsize=(15,5))\n",
    "        ax.set_title(f\"Shutter_State_{date}\", fontsize=24)\n",
    "        state['state'].plot(ax=ax, color='blue', label='Actual State')\n",
    "        ax.set_yticks([1,2,3,4,5,6,7])\n",
    "        ax.set_yticklabels(['Closed', 'Opened', 'Ajar', 'Opening', 'Closing','',''])\n",
    "        ax.set_ylabel(\"Door State\")\n",
    "        ax1 = ax.twinx()\n",
    "        shut['mainDoorOpeningPercentage'].plot(ax=ax1, color='red', label='Shutter Open Percentage')\n",
    "        ax1.set_ylabel(\"Open percentage\")\n",
    "        ax1.set_ylim(0,115)\n",
    "        for close in close_command.index:\n",
    "            ax1.axvline(close, ls='--', color='green', label='Close Command')\n",
    "        ax.legend(loc='lower left')\n",
    "        ax1.legend(loc='upper left')\n",
    "        #pdf.savefig(fig)  # saves the current figure into a pdf page\n",
    "        #plt.clf()\n",
    "    except:\n",
    "        continue\n",
    "#pdf.close()\n"
   ]
  },
  {
   "cell_type": "code",
   "execution_count": null,
   "id": "df3c246f-a1e9-4930-9c86-97fb0f2ab579",
   "metadata": {},
   "outputs": [],
   "source": []
  }
 ],
 "metadata": {
  "kernelspec": {
   "display_name": "LSST",
   "language": "python",
   "name": "lsst"
  },
  "language_info": {
   "codemirror_mode": {
    "name": "ipython",
    "version": 3
   },
   "file_extension": ".py",
   "mimetype": "text/x-python",
   "name": "python",
   "nbconvert_exporter": "python",
   "pygments_lexer": "ipython3",
   "version": "3.11.4"
  }
 },
 "nbformat": 4,
 "nbformat_minor": 5
}
