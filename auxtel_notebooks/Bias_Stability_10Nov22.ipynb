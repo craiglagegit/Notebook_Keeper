{
 "cells": [
  {
   "cell_type": "markdown",
   "metadata": {},
   "source": [
    "## Queries - Gen3\n",
    "\n",
    "In this notebook, we show several ways to query the Gen3 data\\\n",
    "Craig Lage - 21-May-21"
   ]
  },
  {
   "cell_type": "code",
   "execution_count": null,
   "metadata": {},
   "outputs": [],
   "source": [
    "import numpy as np\n",
    "import matplotlib.pyplot as plt\n",
    "import astropy.io.fits as pf\n",
    "import lsst.afw.cameraGeom.utils as camGeomUtils\n",
    "import lsst.afw.display as afwDisplay"
   ]
  },
  {
   "cell_type": "code",
   "execution_count": null,
   "metadata": {},
   "outputs": [],
   "source": [
    "from lsst.daf.butler import Butler\n",
    "butler = Butler('/repo/oga', collections=[\"LATISS/raw/all\", \"LATISS/calib\"])\n",
    "camera = butler.get('camera', instrument='LATISS')"
   ]
  },
  {
   "cell_type": "code",
   "execution_count": null,
   "metadata": {},
   "outputs": [],
   "source": [
    "from lsst.daf.butler import Butler\n",
    "butler = Butler('/repo/oga', collections=\"LATISS/raw/all\")\n",
    "expId = 2022101900001\n",
    "exp = butler.get('raw', detector=0, exposure=expId)"
   ]
  },
  {
   "cell_type": "code",
   "execution_count": null,
   "metadata": {},
   "outputs": [],
   "source": [
    "ampObject."
   ]
  },
  {
   "cell_type": "code",
   "execution_count": null,
   "metadata": {},
   "outputs": [],
   "source": [
    "expId = 2022110900250\n",
    "exp1 = butler.get('raw', detector=0, exposure=expId)\n",
    "exp2 = butler.get('raw', detector=0, exposure=expId)\n",
    "for ampObject in camera[0].getAmplifiers():\n",
    "    amp = ampObject.getName()\n",
    "    if amp != 'C10':\n",
    "        continue\n",
    "    #print(amp, ampObject.getBBox())\n",
    "    thisExp = exp1[ampObject.getBBox()]\n",
    "    arr = thisExp.image.array\n",
    "    print(arr.shape)\n",
    "    fullExp = exp2[ampObject.getRawBBox()]\n",
    "    fullArr = fullExp.image.array\n",
    "    print(fullArr.shape)\n",
    "    \n",
    "    overscan = np.nanmedian(fullArr[100:1900,10:70])\n",
    "    print(overscan)\n",
    "    #xMean1 = np.mean(fullArr[100:1900,:], axis=0)# - overscan\n",
    "    #plt.plot(xMean1)\n",
    "    #xMean2 = np.mean(arr[100:1900,:], axis=0)# - overscan\n",
    "    #plt.plot(xMean2)\n",
    "    plt.plot(arr[1000,:])\n",
    "    plt.plot(fullArr[1000,:])\n",
    "    #plt.plot(np.mean(fullArr[100:1900,:], axis=0))\n",
    "    #plt.ylim(-10,10)"
   ]
  },
  {
   "cell_type": "code",
   "execution_count": null,
   "metadata": {
    "tags": []
   },
   "outputs": [],
   "source": [
    "bias = butler.get('bias', detector=0, exposure=2022110800013)\n",
    "biasArr = bias.image.array\n",
    "#print(biasArr.shape)\n",
    "\n",
    "\n",
    "for expId in [2022110900005, 2022110900066, 2022110900176, 2022110800013]:\n",
    "    exp = butler.get('raw', detector=0, exposure=expId)\n",
    "    fullArr = exp.image.array\n",
    "    #print(fullArr.shape)\n",
    "    overscan = np.nanmedian(fullArr[100:1900,10:70])\n",
    "    #print(overscan)\n",
    "    xMean = np.mean(fullArr[100:1900, 76:476], axis=0) - overscan\n",
    "    plt.plot(xMean, label=f\"{expId}\")\n",
    "    plt.ylim(-2,2)\n",
    "plt.plot(np.mean(biasArr[100:1900, 0:400], axis=0), ls='--', lw=2, color='red', label=\"master bias\")\n",
    "plt.legend()"
   ]
  },
  {
   "cell_type": "code",
   "execution_count": null,
   "metadata": {},
   "outputs": [],
   "source": [
    "bias = butler.get('bias', detector=0, exposure=expId)\n",
    "biasArr = bias.image.array\n",
    "#print(biasArr.shape)\n",
    "\n",
    "\n",
    "for expId in [2022110900005]:#, 2022110900066, 2022110900176]:\n",
    "    exp = butler.get('raw', detector=0, exposure=expId)\n",
    "    fullArr = exp.image.array\n",
    "    #print(fullArr.shape)\n",
    "    overscan = np.nanmedian(fullArr[100:1900,10:70])\n",
    "    #print(overscan)\n",
    "    xMean = np.mean(fullArr[100:1900, 76:476], axis=0) - overscan\n",
    "    plt.plot(xMean, label=f\"{expId}\")\n",
    "    plt.ylim(-2,2)\n",
    "plt.plot(np.mean(biasArr[100:1900, 0:400], axis=0), ls='--', lw=2, color='red', label=\"master bias\")\n",
    "plt.legend()"
   ]
  },
  {
   "cell_type": "code",
   "execution_count": null,
   "metadata": {},
   "outputs": [],
   "source": [
    "bias = butler.get('bias', detector=0, exposure=expId)\n",
    "biasArr = bias.image.array\n",
    "#print(biasArr.shape)\n",
    "\n",
    "\n",
    "for expId in [2022110900005]:#, 2022110900066, 2022110900176]:\n",
    "    exp = butler.get('raw', detector=0, exposure=expId)\n",
    "    fullArr = exp.image.array\n",
    "    #print(fullArr.shape)\n",
    "    overscan = np.nanmedian(fullArr[100:1900,10:70])\n",
    "    #print(overscan)\n",
    "    xMean = np.mean(fullArr[100:1900, 66:466], axis=0) - overscan\n",
    "    plt.plot(xMean, label=f\"{expId}\")\n",
    "    plt.ylim(-2,2)\n",
    "plt.plot(np.mean(biasArr[100:1900, 0:400], axis=0), ls='--', lw=2, color='red', label=\"master bias\")\n",
    "plt.legend()"
   ]
  },
  {
   "cell_type": "code",
   "execution_count": null,
   "metadata": {},
   "outputs": [],
   "source": [
    "bias = butler.get('bias', detector=0, exposure=2022110800013)\n",
    "biasArr = bias.image.array\n",
    "#print(biasArr.shape)\n",
    "for ampObject in camera[0].getAmplifiers():\n",
    "    amp = ampObject.getName()\n",
    "    if amp == 'C10':\n",
    "        break\n",
    " \n",
    "\n",
    "for expId in [2022110900005]:#, 2022110900066, 2022110900176]:\n",
    "    exp = butler.get('raw', detector=0, exposure=expId)\n",
    "    overscan = np.nanmedian(exp.image.array[100:1900,10:70])\n",
    "    fullArr = exp[ampObject.getBBox()].image.array\n",
    "    #print(fullArr.shape)\n",
    "    overscan = np.nanmedian(fullArr[100:1900,10:70])\n",
    "    #print(overscan)\n",
    "    xMean = np.mean(fullArr[100:1900, 0:400], axis=0) - overscan\n",
    "    plt.plot(xMean, label=f\"{expId}\")\n",
    "    plt.ylim(-2,2)\n",
    "plt.plot(np.mean(biasArr[100:1900, 0:400], axis=0), ls='--', lw=2, color='red', label=\"master bias\")\n",
    "plt.legend()"
   ]
  },
  {
   "cell_type": "code",
   "execution_count": null,
   "metadata": {},
   "outputs": [],
   "source": [
    "bias = butler.get('bias', detector=0, exposure=2022110800013)\n",
    "for ampObject in camera[0].getAmplifiers():\n",
    "    amp = ampObject.getName()\n",
    "    if amp == 'C10':\n",
    "        break\n",
    "\n",
    "        \n",
    "        \n",
    "biasArr = bias[ampObject.getBBox()].image.array\n",
    "print(biasArr.shape)\n",
    "plt.plot(np.mean(biasArr[100:1900, 0:400], axis=0), ls='--', lw=2, color='red', label=\"master bias\")\n",
    "plt.legend()"
   ]
  },
  {
   "cell_type": "code",
   "execution_count": null,
   "metadata": {},
   "outputs": [],
   "source": [
    "for ampObject in camera[0].getAmplifiers():\n",
    "    amp = ampObject.getName()\n",
    "    print(amp, ampObject.getBBox())\n"
   ]
  },
  {
   "cell_type": "code",
   "execution_count": null,
   "metadata": {
    "tags": []
   },
   "outputs": [],
   "source": [
    "bias = butler.get('bias', detector=0, exposure=2022110800013)\n",
    "biasArr = bias.image.array\n",
    "#print(biasArr.shape)\n",
    "\n",
    "\n",
    "for expId in [2022110900005, 2022110900066, 2022110900176, 2022110800013, 2022110300020]:\n",
    "    exp = butler.get('raw', detector=0, exposure=expId)\n",
    "    fullArr = exp.image.array\n",
    "    #print(fullArr.shape)\n",
    "    overscan = np.nanmedian(fullArr[2100:3900,10:70])\n",
    "    #print(overscan)\n",
    "    xMean = np.mean(fullArr[2100:3900, 75:475], axis=0) - overscan\n",
    "    plt.plot(xMean, label=f\"{expId}\")\n",
    "    plt.ylim(-4,4)\n",
    "plt.plot(np.mean(biasArr[2100:3900, 0:400], axis=0), ls='--', lw=2, color='red', label=\"master bias\")\n",
    "plt.legend()"
   ]
  },
  {
   "cell_type": "code",
   "execution_count": null,
   "metadata": {
    "tags": []
   },
   "outputs": [],
   "source": [
    "bias = butler.get('bias', detector=0, exposure=2022110800013)\n",
    "biasArr = bias.image.array\n",
    "#print(biasArr.shape)\n",
    "\n",
    "\n",
    "for expId in [2022110900005, 2022110900066, 2022110900176, 2022110800013]:\n",
    "    exp = butler.get('raw', detector=0, exposure=expId)\n",
    "    fullArr = exp.image.array\n",
    "    #print(fullArr.shape)\n",
    "    overscan = np.nanmedian(fullArr[2100:3900,10:70])\n",
    "    #print(overscan)\n",
    "    xMean = np.mean(fullArr[2100:3900, 550:575], axis=0) - overscan\n",
    "    plt.plot(xMean, label=f\"{expId}\")\n",
    "    plt.ylim(-20,20)\n",
    "#plt.plot(np.mean(biasArr[2100:3900, 483:508], axis=0), ls='--', lw=2, color='red', label=\"master bias\")\n",
    "plt.legend()"
   ]
  },
  {
   "cell_type": "code",
   "execution_count": null,
   "metadata": {},
   "outputs": [],
   "source": [
    "ampObject.getBBox()"
   ]
  },
  {
   "cell_type": "code",
   "execution_count": null,
   "metadata": {},
   "outputs": [],
   "source": [
    "bias = butler.get('bias', detector=0, exposure=expId)\n",
    "biasArr = bias.image.array\n",
    "#print(biasArr.shape)\n",
    "\n",
    "\n",
    "for expId in [2022110900005]:#, 2022110900066, 2022110900176]:\n",
    "    exp = butler.get('raw', detector=0, exposure=expId)\n",
    "    fullArr = exp.image.array\n",
    "    #print(fullArr.shape)\n",
    "    overscan = np.nanmedian(fullArr[100:1900,10:70])\n",
    "    #print(overscan)\n",
    "    xMean = np.mean(fullArr[100:1900, 525:575], axis=0) - overscan\n",
    "    plt.plot(xMean, label=f\"{expId}\")\n",
    "    #plt.ylim(-2,2)\n",
    "plt.plot(np.mean(biasArr[100:1900, 459:508], axis=0), ls='--', lw=2, color='red', label=\"master bias\")\n",
    "plt.legend()"
   ]
  },
  {
   "cell_type": "code",
   "execution_count": null,
   "metadata": {},
   "outputs": [],
   "source": [
    "bias = butler.get('bias', detector=0, exposure=expId)"
   ]
  },
  {
   "cell_type": "code",
   "execution_count": null,
   "metadata": {},
   "outputs": [],
   "source": [
    "biasArr = bias.image.array\n",
    "print(biasArr.shape)\n",
    "plt.plot(np.mean(biasArr[100:1900, 0:400], axis=0))"
   ]
  },
  {
   "cell_type": "code",
   "execution_count": null,
   "metadata": {},
   "outputs": [],
   "source": [
    "plot("
   ]
  },
  {
   "cell_type": "code",
   "execution_count": null,
   "metadata": {},
   "outputs": [],
   "source": [
    "det = exp1.getDetector()"
   ]
  },
  {
   "cell_type": "code",
   "execution_count": null,
   "metadata": {},
   "outputs": [],
   "source": [
    "import lsst.afw.cameraGeom as cameraGeom\n",
    "import lsst.afw.cameraGeom.utils as cameraGeomUtils"
   ]
  },
  {
   "cell_type": "code",
   "execution_count": null,
   "metadata": {},
   "outputs": [],
   "source": [
    "cameraGeomUtils.calcRawCcdBBox(det)\n"
   ]
  },
  {
   "cell_type": "code",
   "execution_count": null,
   "metadata": {},
   "outputs": [],
   "source": [
    "det.getBBox()"
   ]
  },
  {
   "cell_type": "code",
   "execution_count": null,
   "metadata": {},
   "outputs": [],
   "source": [
    "exp1.getBBox()"
   ]
  },
  {
   "cell_type": "code",
   "execution_count": null,
   "metadata": {},
   "outputs": [],
   "source": [
    "print(arr[1000, 60:70])"
   ]
  },
  {
   "cell_type": "code",
   "execution_count": null,
   "metadata": {
    "tags": []
   },
   "outputs": [],
   "source": [
    "for j in range(1000, 1005):\n",
    "    print(fullArr[j, 0:10])"
   ]
  },
  {
   "cell_type": "code",
   "execution_count": null,
   "metadata": {},
   "outputs": [],
   "source": [
    "print(np.min(arr), np.max(arr))"
   ]
  },
  {
   "cell_type": "code",
   "execution_count": null,
   "metadata": {},
   "outputs": [],
   "source": [
    "print(np.min(fullArr), np.max(fullArr))"
   ]
  },
  {
   "cell_type": "code",
   "execution_count": null,
   "metadata": {},
   "outputs": [],
   "source": [
    "print(np.min(fullArr[0:2000, 4:513]), np.max(fullArr[0:2000, 4:513]))"
   ]
  },
  {
   "cell_type": "code",
   "execution_count": null,
   "metadata": {},
   "outputs": [],
   "source": [
    "ampObject.getBBox()"
   ]
  },
  {
   "cell_type": "code",
   "execution_count": null,
   "metadata": {},
   "outputs": [],
   "source": [
    "ampObject.getRawBBox()"
   ]
  },
  {
   "cell_type": "code",
   "execution_count": null,
   "metadata": {},
   "outputs": [],
   "source": [
    "arr2=exp1.image.array"
   ]
  },
  {
   "cell_type": "code",
   "execution_count": null,
   "metadata": {},
   "outputs": [],
   "source": [
    "print(arr2[1000, 40:70])"
   ]
  },
  {
   "cell_type": "code",
   "execution_count": null,
   "metadata": {},
   "outputs": [],
   "source": [
    "plt.plot(arr2[1000,540:660])"
   ]
  },
  {
   "cell_type": "code",
   "execution_count": null,
   "metadata": {},
   "outputs": [],
   "source": [
    "arr2.shape"
   ]
  },
  {
   "cell_type": "code",
   "execution_count": null,
   "metadata": {},
   "outputs": [],
   "source": []
  },
  {
   "cell_type": "code",
   "execution_count": null,
   "metadata": {},
   "outputs": [],
   "source": [
    "from lsst.daf.butler import Butler\n",
    "butler = Butler('/repo/main', collections=\"LATISS/raw/all\")\n",
    "expId = 2022050500136\n",
    "exp = butler.get('raw', detector=0, exposure=expId)"
   ]
  },
  {
   "cell_type": "code",
   "execution_count": null,
   "metadata": {},
   "outputs": [],
   "source": [
    "arr=exp.image.array"
   ]
  },
  {
   "cell_type": "code",
   "execution_count": null,
   "metadata": {},
   "outputs": [],
   "source": [
    "arr.shape"
   ]
  },
  {
   "cell_type": "code",
   "execution_count": null,
   "metadata": {},
   "outputs": [],
   "source": [
    "ampObject."
   ]
  },
  {
   "cell_type": "code",
   "execution_count": null,
   "metadata": {},
   "outputs": [],
   "source": [
    "for ampObject in camera[0].getAmplifiers():\n",
    "    amp = ampObject.getName()\n",
    "    if amp != 'C11':\n",
    "        continue\n",
    "    print(amp, ampObject.getBBox())\n",
    "    print(amp, ampObject.getRawBBox())\n",
    "    print(amp, ampObject.getRawDataBBox())\n",
    "    print(amp, ampObject.getRawPrescanBBox())\n",
    "    print(amp, ampObject.getRawSerialPrescanBBox())\n",
    "    print(amp, ampObject.getRawSerialOverscanBBox())\n",
    "    #print(amp, ampObject.getBBox())\n",
    "    #print(amp, ampObject.getBBox())\n",
    "    #print(amp, ampObject.getBBox())\n"
   ]
  },
  {
   "cell_type": "code",
   "execution_count": null,
   "metadata": {},
   "outputs": [],
   "source": [
    "det = exp"
   ]
  }
 ],
 "metadata": {
  "kernelspec": {
   "display_name": "LSST",
   "language": "python",
   "name": "lsst"
  },
  "language_info": {
   "codemirror_mode": {
    "name": "ipython",
    "version": 3
   },
   "file_extension": ".py",
   "mimetype": "text/x-python",
   "name": "python",
   "nbconvert_exporter": "python",
   "pygments_lexer": "ipython3",
   "version": "3.10.6"
  }
 },
 "nbformat": 4,
 "nbformat_minor": 4
}
