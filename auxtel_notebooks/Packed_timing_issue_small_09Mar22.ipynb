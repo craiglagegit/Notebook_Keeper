{
 "cells": [
  {
   "cell_type": "markdown",
   "id": "5f19a9b8-2189-419d-bbcb-01a9ee7d1327",
   "metadata": {},
   "source": [
    "# This notebook demonstrates a functionality issue with the select_packed_time_series of the efd-client"
   ]
  },
  {
   "cell_type": "code",
   "execution_count": null,
   "id": "f40e97af-4e3d-405e-968d-4e0c8d02c990",
   "metadata": {},
   "outputs": [],
   "source": [
    "import pandas as pd\n",
    "import numpy as np\n",
    "from astropy.time import Time, TimeDelta\n",
    "from lsst_efd_client import EfdClient, resample"
   ]
  },
  {
   "cell_type": "code",
   "execution_count": null,
   "id": "028fc671-ca29-447b-82c9-19f1efa3b755",
   "metadata": {},
   "outputs": [],
   "source": [
    "client = EfdClient('summit_efd')"
   ]
  },
  {
   "cell_type": "markdown",
   "id": "20589085-f3a6-4990-bb00-9c2ce64abb29",
   "metadata": {
    "tags": []
   },
   "source": [
    "### Declare timestamp(s) used for EFD queries"
   ]
  },
  {
   "cell_type": "code",
   "execution_count": null,
   "id": "3a59cc20-8b72-4773-a110-98ada108743b",
   "metadata": {},
   "outputs": [],
   "source": [
    "# From an observeration last night where a fault occurred\n",
    "t1 = Time('2022-02-16T05:15:00', scale='utc')\n",
    "window = TimeDelta(40, format='sec')\n",
    "t2=t1+window\n",
    "nas2_single = await client.select_time_series(\"lsst.sal.ATMCS.mount_Nasmyth_Encoders\", \\\n",
    "                                              [\"nasmyth2CalculatedAngle0\",\"nasmyth2CalculatedAngle99\", \\\n",
    "                                               \"private_sndStamp\" ,\"private_kafkaStamp\", \"cRIO_timestamp\"], \\\n",
    "                                              t1, t2)\n",
    "nas2_single_index_time=Time(nas2_single.index)\n",
    "\n",
    "nas2_packed = await client.select_packed_time_series(\"lsst.sal.ATMCS.mount_Nasmyth_Encoders\", \\\n",
    "                                                     [\"nasmyth2CalculatedAngle\"], t1, t2)\n",
    "nas2_packed_index_time=Time(nas2_packed.index)"
   ]
  },
  {
   "cell_type": "code",
   "execution_count": null,
   "id": "9c6c963d-b596-448a-a79e-a60019b82dfb",
   "metadata": {},
   "outputs": [],
   "source": [
    "(nas2_packed_index_time.utc[0] - nas2_single_index_time.utc[0]).sec"
   ]
  },
  {
   "cell_type": "code",
   "execution_count": null,
   "id": "fcb9eee2-ff25-42aa-8cf2-002ade17b089",
   "metadata": {},
   "outputs": [],
   "source": []
  }
 ],
 "metadata": {
  "kernelspec": {
   "display_name": "LSST",
   "language": "python",
   "name": "lsst"
  },
  "language_info": {
   "codemirror_mode": {
    "name": "ipython",
    "version": 3
   },
   "file_extension": ".py",
   "mimetype": "text/x-python",
   "name": "python",
   "nbconvert_exporter": "python",
   "pygments_lexer": "ipython3",
   "version": "3.8.12"
  }
 },
 "nbformat": 4,
 "nbformat_minor": 5
}
