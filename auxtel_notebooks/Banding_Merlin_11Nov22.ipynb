{
 "cells": [
  {
   "cell_type": "markdown",
   "metadata": {},
   "source": [
    "## Studying AuxTel banding vs Rotator Angle\n",
    "\n",
    "Craig Lage - 11-Nov-22"
   ]
  },
  {
   "cell_type": "code",
   "execution_count": null,
   "metadata": {},
   "outputs": [],
   "source": [
    "import numpy as np\n",
    "import matplotlib.pyplot as plt\n",
    "import astropy.io.fits as pf\n",
    "import lsst.afw.cameraGeom.utils as camGeomUtils\n",
    "from lsst.daf.butler import Butler\n",
    "import lsst.geom as geom"
   ]
  },
  {
   "cell_type": "code",
   "execution_count": null,
   "metadata": {},
   "outputs": [],
   "source": [
    "butler = Butler('/repo/oga', collections=[\"LATISS/raw/all\", \"LATISS/calib\"])\n",
    "camera = butler.get('camera', instrument='LATISS')"
   ]
  },
  {
   "cell_type": "code",
   "execution_count": null,
   "metadata": {},
   "outputs": [],
   "source": [
    "def matlab_smooth(data, window):\n",
    "    if window%2 == 0:\n",
    "        window += 1\n",
    "        print(f\"Even window size adjusted to {window}\")\n",
    "    output = np.convolve(data, np.ones(window, dtype=float), 'valid')/window    \n",
    "    r = np.arange(1, window-1, 2)\n",
    "    start = np.cumsum(data[:window-1])[::2]/r\n",
    "    stop = (np.cumsum(data[:-window:-1])[::2]/r)[::-1]\n",
    "    return np.concatenate((start, output, stop))\n",
    "\n",
    "def calcBanding(exp, useHalfChip=True):\n",
    "    bandings = []\n",
    "    amps = exp.getDetector().getAmplifiers()\n",
    "    if useHalfChip:\n",
    "        amps = amps[0:8]\n",
    "    for amp in amps:\n",
    "        overscanData = raw.image[amp.getRawSerialOverscanBBox()].array\n",
    "        collapsed = np.mean(overscanData, axis=1)\n",
    "        collapsed = matlab_smooth(collapsed, smoothing)\n",
    "        low = np.percentile(collapsed, lowPercentile)\n",
    "        high = np.percentile(collapsed, highPercentile)\n",
    "        bandings.append(high - low)\n",
    "    banding = np.median(bandings)\n",
    "    return banding\n",
    "\n",
    "def calcNoises(exp):\n",
    "    noises = []\n",
    "    for amp in exp.getDetector():\n",
    "        noiseBbox = amp.getRawSerialOverscanBBox()\n",
    "        noiseBbox.grow(-1*noiseBorder)\n",
    "        noises.append(np.std(exp.image[noiseBbox].array))\n",
    "    return noises\n"
   ]
  },
  {
   "cell_type": "code",
   "execution_count": null,
   "metadata": {
    "jupyter": {
     "outputs_hidden": true
    },
    "tags": []
   },
   "outputs": [],
   "source": [
    "lowPercentile = 10\n",
    "highPercentile = 90\n",
    "smoothing = 3\n",
    "noiseBorder = 10  # number of pixels in all directions to shrink overscan for noise calc\n",
    "rots = []\n",
    "bandings = []\n",
    "seqNums = []\n",
    "rot0 = -160.0\n",
    "for i, seqNum in enumerate(range(11, 171)):\n",
    "    rot = rot0 + i * 2.0\n",
    "    rots.append(rot)\n",
    "    seqNums.append(seqNum)\n",
    "    dataId = {'day_obs': 20221115, 'seq_num': seqNum, 'detector': 0}\n",
    "    raw = butler.get('raw', dataId)\n",
    "    banding = calcBanding(raw)\n",
    "    bandings.append(banding)\n",
    "    noises = calcNoises(raw)\n",
    "    noise = np.mean(noises)\n",
    "    print(f\"Image {seqNum}: banding = {banding:.3f}, noise = {noise:.3f}\")"
   ]
  },
  {
   "cell_type": "code",
   "execution_count": null,
   "metadata": {},
   "outputs": [],
   "source": [
    "plt.title(\"AuxTel Banding vs Rotator Angle - 20221115\")\n",
    "plt.plot(rots, bandings)\n",
    "plt.ylabel(\"Banding metric (ADU)\")\n",
    "plt.xlabel(\"Nasmyth2 rotator angle (degrees)\")\n",
    "plt.arrow(0, 5.0, 50,0, width=0.1,head_length = 5.0, color='green')\n",
    "plt.savefig(\"/home/c/cslage/u/AuxTel/isr/Banding_Test_Plus_15Nov22.pdf\")"
   ]
  },
  {
   "cell_type": "code",
   "execution_count": null,
   "metadata": {
    "jupyter": {
     "outputs_hidden": true
    },
    "tags": []
   },
   "outputs": [],
   "source": [
    "lowPercentile = 10\n",
    "highPercentile = 90\n",
    "smoothing = 3\n",
    "noiseBorder = 10  # number of pixels in all directions to shrink overscan for noise calc\n",
    "rots = []\n",
    "bandings = []\n",
    "seqNums = []\n",
    "rot0 = 160.0\n",
    "for i, seqNum in enumerate(range(171, 331)):\n",
    "    rot = rot0 - i * 2.0\n",
    "    rots.append(rot)\n",
    "    seqNums.append(seqNum)\n",
    "    dataId = {'day_obs': 20221115, 'seq_num': seqNum, 'detector': 0}\n",
    "    raw = butler.get('raw', dataId)\n",
    "    banding = calcBanding(raw)\n",
    "    bandings.append(banding)\n",
    "    noises = calcNoises(raw)\n",
    "    noise = np.mean(noises)\n",
    "    print(f\"Image {seqNum}: banding = {banding:.3f}, noise = {noise:.3f}\")"
   ]
  },
  {
   "cell_type": "code",
   "execution_count": null,
   "metadata": {},
   "outputs": [],
   "source": [
    "plt.title(\"AuxTel Banding vs Rotator Angle - 20221115\")\n",
    "plt.plot(rots, bandings)\n",
    "plt.ylabel(\"Banding metric (ADU)\")\n",
    "plt.xlabel(\"Nasmyth2 rotator angle (degrees)\")\n",
    "plt.arrow(0, 5.0, -50,0, width=0.1,head_length = 5.0, color='green')\n",
    "plt.savefig(\"/home/c/cslage/u/AuxTel/isr/Banding_Test_Minus_15Nov22.pdf\")"
   ]
  },
  {
   "cell_type": "code",
   "execution_count": null,
   "metadata": {
    "jupyter": {
     "outputs_hidden": true
    },
    "tags": []
   },
   "outputs": [],
   "source": [
    "lowPercentile = 10\n",
    "highPercentile = 90\n",
    "smoothing = 3\n",
    "noiseBorder = 10  # number of pixels in all directions to shrink overscan for noise calc\n",
    "rots = []\n",
    "bandings = []\n",
    "seqNums = []\n",
    "rot0 = -160.0\n",
    "for i, seqNum in enumerate(range(331, 491)):\n",
    "    rot = rot0 + i * 2.0\n",
    "    rots.append(rot)\n",
    "    seqNums.append(seqNum)\n",
    "    dataId = {'day_obs': 20221115, 'seq_num': seqNum, 'detector': 0}\n",
    "    raw = butler.get('raw', dataId)\n",
    "    banding = calcBanding(raw)\n",
    "    bandings.append(banding)\n",
    "    noises = calcNoises(raw)\n",
    "    noise = np.mean(noises)\n",
    "    print(f\"Image {seqNum}: banding = {banding:.3f}, noise = {noise:.3f}\")"
   ]
  },
  {
   "cell_type": "code",
   "execution_count": null,
   "metadata": {},
   "outputs": [],
   "source": [
    "plt.title(\"AuxTel Banding vs Rotator Angle - 20221115\")\n",
    "plt.plot(rots, bandings)\n",
    "plt.ylabel(\"Banding metric (ADU)\")\n",
    "plt.xlabel(\"Nasmyth2 rotator angle (degrees)\")\n",
    "plt.arrow(0, 5.0, 50,0, width=0.1,head_length = 5.0, color='green')\n",
    "plt.text(0, 4.0, \"5 second delay between images\", color='green')\n",
    "plt.savefig(\"/home/c/cslage/u/AuxTel/isr/Banding_Test_Plus_Slow_15Nov22.pdf\")"
   ]
  },
  {
   "cell_type": "code",
   "execution_count": null,
   "metadata": {},
   "outputs": [],
   "source": [
    "for i in range(160):\n",
    "    print(seqNums[i], rots[i], bandings[i])"
   ]
  },
  {
   "cell_type": "code",
   "execution_count": null,
   "metadata": {},
   "outputs": [],
   "source": []
  }
 ],
 "metadata": {
  "kernelspec": {
   "display_name": "LSST",
   "language": "python",
   "name": "lsst"
  },
  "language_info": {
   "codemirror_mode": {
    "name": "ipython",
    "version": 3
   },
   "file_extension": ".py",
   "mimetype": "text/x-python",
   "name": "python",
   "nbconvert_exporter": "python",
   "pygments_lexer": "ipython3",
   "version": "3.10.6"
  }
 },
 "nbformat": 4,
 "nbformat_minor": 4
}
