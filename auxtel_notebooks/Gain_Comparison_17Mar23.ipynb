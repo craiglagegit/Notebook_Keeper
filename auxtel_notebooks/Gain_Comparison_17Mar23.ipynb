{
 "cells": [
  {
   "cell_type": "markdown",
   "metadata": {},
   "source": [
    "# Notebook for plotting AuxTel gains.\n",
    "\n",
    "Initially written 29 Sep 2022 by Craig Lage."
   ]
  },
  {
   "cell_type": "code",
   "execution_count": null,
   "metadata": {
    "execution": {
     "iopub.execute_input": "2023-03-24T11:54:18.407473Z",
     "iopub.status.busy": "2023-03-24T11:54:18.407017Z",
     "iopub.status.idle": "2023-03-24T11:54:19.086383Z",
     "shell.execute_reply": "2023-03-24T11:54:19.085868Z",
     "shell.execute_reply.started": "2023-03-24T11:54:18.407456Z"
    },
    "tags": []
   },
   "outputs": [],
   "source": [
    "import sys, os, glob, time\n",
    "import numpy as np\n",
    "import astropy.io.fits as pf\n",
    "import matplotlib.pyplot as plt\n",
    "from lsst.daf.butler import Butler"
   ]
  },
  {
   "cell_type": "code",
   "execution_count": null,
   "metadata": {
    "execution": {
     "iopub.execute_input": "2023-03-24T11:55:19.273859Z",
     "iopub.status.busy": "2023-03-24T11:55:19.273176Z",
     "iopub.status.idle": "2023-03-24T11:55:21.284268Z",
     "shell.execute_reply": "2023-03-24T11:55:21.283645Z",
     "shell.execute_reply.started": "2023-03-24T11:55:19.273835Z"
    },
    "tags": []
   },
   "outputs": [],
   "source": [
    "butler1 = Butler(\"/repo/embargo\", collections=[\"u/cslage/sdf/latiss/ptc_20230321_v26\"])\n",
    "exposure2 = 2023032100093\n",
    "butler2 = Butler(\"/repo/embargo\", collections=[\"u/cslage/sdf/latiss/ptc_20230321_v26_noRG\"])\n",
    "exposure1 = 2023032100213"
   ]
  },
  {
   "cell_type": "code",
   "execution_count": null,
   "metadata": {
    "execution": {
     "iopub.execute_input": "2023-03-24T11:55:21.315135Z",
     "iopub.status.busy": "2023-03-24T11:55:21.314600Z",
     "iopub.status.idle": "2023-03-24T11:55:21.320487Z",
     "shell.execute_reply": "2023-03-24T11:55:21.320007Z",
     "shell.execute_reply.started": "2023-03-24T11:55:21.315114Z"
    },
    "tags": []
   },
   "outputs": [],
   "source": [
    "butlers = [butler1, butler2]\n",
    "exposures = [exposure1, exposure2]\n",
    "run_names = ['20230321-V26', '20230321-V26-noRG']\n",
    "markers = ['o', 'x']"
   ]
  },
  {
   "cell_type": "code",
   "execution_count": null,
   "metadata": {
    "execution": {
     "iopub.execute_input": "2023-03-24T11:55:24.125939Z",
     "iopub.status.busy": "2023-03-24T11:55:24.125594Z",
     "iopub.status.idle": "2023-03-24T11:55:24.638509Z",
     "shell.execute_reply": "2023-03-24T11:55:24.638036Z",
     "shell.execute_reply.started": "2023-03-24T11:55:24.125921Z"
    },
    "tags": []
   },
   "outputs": [],
   "source": [
    "plt.figure(figsize=(8,8))\n",
    "plt.suptitle(\"AuxTel Gains\", fontsize=24)\n",
    "for i,butler in enumerate(butlers):\n",
    "    run_name = run_names[i]\n",
    "    plt.subplot(1,1,1)\n",
    "    ptcDataset = butler.get('ptc', exposure=exposures[i], detector=0)\n",
    "    gain_data = ptcDataset.gain\n",
    "    gain_err_data = ptcDataset.gainErr\n",
    "    amps = gain_data.keys()\n",
    "    gains = []\n",
    "    gain_err = []\n",
    "    amp_nums = []\n",
    "    for ii, amp in enumerate(amps):\n",
    "        gains.append(gain_data[amp])\n",
    "        gain_err.append(gain_err_data[amp])\n",
    "        amp_nums.append(ii)\n",
    "    plt.errorbar(amp_nums, gains, yerr=gain_err, marker = markers[i], label = run_name)\n",
    "    plt.ylim(0.5, 1.5)\n",
    "    plt.ylabel(\"Gain\", fontsize = 12)\n",
    "    plt.xticks(amp_nums,amps, fontsize=8)\n",
    "    plt.legend(loc = 'upper right', fontsize = 12)\n",
    "plt.savefig(\"/sdf/group/rubin/u/cslage/AuxTel/gains/Gain_Comparison_21Mar23.pdf\")\n"
   ]
  },
  {
   "cell_type": "code",
   "execution_count": null,
   "metadata": {
    "execution": {
     "iopub.execute_input": "2023-03-17T14:54:06.011803Z",
     "iopub.status.busy": "2023-03-17T14:54:06.011228Z",
     "iopub.status.idle": "2023-03-17T14:54:06.471705Z",
     "shell.execute_reply": "2023-03-17T14:54:06.471218Z",
     "shell.execute_reply.started": "2023-03-17T14:54:06.011783Z"
    }
   },
   "outputs": [],
   "source": [
    "plt.figure(figsize=(8,8))\n",
    "plt.suptitle(\"AuxTel Noise\", fontsize=24)\n",
    "for i,butler in enumerate(butlers):\n",
    "    run_name = run_names[i]\n",
    "    plt.subplot(1,1,1)\n",
    "    ptcDataset = butler.get('ptc', exposure=exposures[i], detector=0)\n",
    "    noise_data = ptcDataset.noise\n",
    "    noise_err_data = ptcDataset.noiseErr\n",
    "    amps = noise_data.keys()\n",
    "    noises = []\n",
    "    noise_err = []\n",
    "    amp_nums = []\n",
    "    for ii, amp in enumerate(amps):\n",
    "        noises.append(noise_data[amp])\n",
    "        noise_err.append(noise_err_data[amp])\n",
    "        amp_nums.append(ii)\n",
    "    plt.errorbar(amp_nums, noises, yerr=noise_err, marker = markers[i], label = run_name)\n",
    "    #plt.ylim(0.5, 1.5)\n",
    "    plt.ylabel(\"Noise\", fontsize = 12)\n",
    "    plt.xticks(amp_nums,amps, fontsize=8)\n",
    "    plt.legend(loc = 'upper right', fontsize = 12)\n",
    "plt.savefig(\"/sdf/group/rubin/u/cslage/AuxTel/gains/Noise_Comparison_17Mar23.pdf\")\n"
   ]
  },
  {
   "cell_type": "code",
   "execution_count": null,
   "metadata": {
    "execution": {
     "iopub.execute_input": "2023-03-17T14:57:48.223936Z",
     "iopub.status.busy": "2023-03-17T14:57:48.223567Z",
     "iopub.status.idle": "2023-03-17T14:57:48.480607Z",
     "shell.execute_reply": "2023-03-17T14:57:48.479916Z",
     "shell.execute_reply.started": "2023-03-17T14:57:48.223919Z"
    },
    "jupyter": {
     "outputs_hidden": true
    },
    "tags": []
   },
   "outputs": [],
   "source": [
    "plt.figure(figsize=(8,8))\n",
    "plt.suptitle(\"AuxTel Noise\", fontsize=24)\n",
    "for i,butler in enumerate(butlers):\n",
    "    run_name = run_names[i]\n",
    "    plt.subplot(1,1,1)\n",
    "    cpPtcExtract = butler.get('cpPtcExtract', exposure=exposures[i], detector=0)\n",
    "    noise_data = cpPtcExtract.noise\n",
    "    noise_err_data = cpPtcExtract.noiseErr\n",
    "    ptcDataset = butler.get('ptc', exposure=exposures[i], detector=0)\n",
    "    gain_data = ptcDataset.gain\n",
    "\n",
    "    amps = gain_data.keys()\n",
    "    noises = []\n",
    "    noise_err = []\n",
    "    amp_nums = []\n",
    "    for ii, amp in enumerate(amps):\n",
    "        noises.append(noise_data[amp] * gain_data[amp])\n",
    "        noise_err.append(noise_err_data[amp]* gain_data[amp])\n",
    "        amp_nums.append(ii)\n",
    "    plt.errorbar(amp_nums, noises, yerr=noise_err, marker = markers[i], label = run_name)\n",
    "    #plt.ylim(0.5, 1.5)\n",
    "    plt.ylabel(\"Overscan Noise in e-\", fontsize = 12)\n",
    "    plt.xticks(amp_nums,amps, fontsize=8)\n",
    "    plt.legend(loc = 'upper right', fontsize = 12)\n",
    "plt.savefig(\"/sdf/group/rubin/u/cslage/AuxTel/gains/Noise_Overscan_Comparison_17Mar23.pdf\")\n"
   ]
  },
  {
   "cell_type": "code",
   "execution_count": null,
   "metadata": {
    "execution": {
     "iopub.execute_input": "2023-03-24T11:55:51.610995Z",
     "iopub.status.busy": "2023-03-24T11:55:51.610316Z",
     "iopub.status.idle": "2023-03-24T11:55:52.531676Z",
     "shell.execute_reply": "2023-03-24T11:55:52.531210Z",
     "shell.execute_reply.started": "2023-03-24T11:55:51.610978Z"
    },
    "tags": []
   },
   "outputs": [],
   "source": [
    "plt.figure(figsize=(8,8))\n",
    "plt.suptitle(\"Impact of No RG - 21Mar23\", fontsize=24)\n",
    "plt.subplots_adjust(hspace = 0.3)\n",
    "for i,butler in enumerate(butlers):\n",
    "    run_name = run_names[i]\n",
    "    ptcDataset = butler.get('ptc', exposure=exposures[i], detector=0)\n",
    "    gain_data = ptcDataset.gain\n",
    "    gain_err_data = ptcDataset.gainErr\n",
    "    noise_data = ptcDataset.noise\n",
    "    noise_err_data = ptcDataset.noiseErr\n",
    "    fitPars = ptcDataset.ptcFitPars\n",
    "    fitPars_err = ptcDataset.ptcFitParsError\n",
    "\n",
    "    amps = gain_data.keys()\n",
    "    gains = []\n",
    "    gain_err = []\n",
    "    noises = []\n",
    "    noise_err = []\n",
    "    a00s = []\n",
    "    a00s_err = []\n",
    "    amp_nums = []\n",
    "    for ii, amp in enumerate(amps):\n",
    "        gains.append(gain_data[amp])\n",
    "        gain_err.append(gain_err_data[amp])\n",
    "        noises.append(noise_data[amp] * gain_data[amp])\n",
    "        noise_err.append(noise_err_data[amp] * gain_data[amp])\n",
    "        a00s.append(-fitPars[amp][0])\n",
    "        a00s_err.append(fitPars_err[amp][0])\n",
    "        amp_nums.append(ii)\n",
    "    plt.subplot(3,1,1)\n",
    "    plt.title(\"Gains\")\n",
    "    plt.errorbar(amp_nums, gains, yerr=gain_err, marker = markers[i], label = run_name)\n",
    "    plt.ylim(1.0, 1.5)\n",
    "    plt.ylabel(\"Gain\", fontsize = 12)\n",
    "    plt.xticks(amp_nums,amps, fontsize=8)\n",
    "    plt.legend(loc = 'lower left', fontsize = 12)\n",
    "    plt.subplot(3,1,2)\n",
    "    plt.title(\"Noise\")\n",
    "    plt.errorbar(amp_nums, noises, yerr=noise_err, marker = markers[i], label = run_name)\n",
    "    #plt.ylim(1.0, 1.5)\n",
    "    plt.ylabel(\"Noise(e-)\", fontsize = 12)\n",
    "    plt.xticks(amp_nums,amps, fontsize=8)\n",
    "    plt.legend(loc = 'lower left', fontsize = 12)\n",
    "    plt.subplot(3,1,3)\n",
    "    plt.title(\"A00\")\n",
    "    plt.errorbar(amp_nums, a00s, yerr=a00s_err, marker = markers[i], label = run_name)\n",
    "    #plt.ylim(1.0, 1.5)\n",
    "    plt.ylabel(\"-A00\", fontsize = 12)\n",
    "    plt.xticks(amp_nums,amps, fontsize=8)\n",
    "    plt.legend(loc = 'lower left', fontsize = 12)\n",
    "plt.savefig(\"/sdf/group/rubin/u/cslage/AuxTel/gains/Parameter_Comparison_21Mar23.pdf\")\n"
   ]
  },
  {
   "cell_type": "code",
   "execution_count": null,
   "metadata": {},
   "outputs": [],
   "source": []
  }
 ],
 "metadata": {
  "jupytext": {
   "formats": "ipynb,markdown//md"
  },
  "kernelspec": {
   "display_name": "LSST",
   "language": "python",
   "name": "lsst"
  },
  "language_info": {
   "codemirror_mode": {
    "name": "ipython",
    "version": 3
   },
   "file_extension": ".py",
   "mimetype": "text/x-python",
   "name": "python",
   "nbconvert_exporter": "python",
   "pygments_lexer": "ipython3",
   "version": "3.10.9"
  }
 },
 "nbformat": 4,
 "nbformat_minor": 4
}
