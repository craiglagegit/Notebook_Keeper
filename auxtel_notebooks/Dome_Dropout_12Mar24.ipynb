{
 "cells": [
  {
   "cell_type": "code",
   "execution_count": null,
   "id": "60b909b8-e006-4c14-b7cf-6859bd41afcf",
   "metadata": {
    "execution": {
     "iopub.execute_input": "2024-03-12T12:35:09.550364Z",
     "iopub.status.busy": "2024-03-12T12:35:09.549849Z",
     "iopub.status.idle": "2024-03-12T12:35:16.770446Z",
     "shell.execute_reply": "2024-03-12T12:35:16.769989Z",
     "shell.execute_reply.started": "2024-03-12T12:35:09.550346Z"
    }
   },
   "outputs": [],
   "source": [
    "import sys, time, os, asyncio, glob\n",
    "import numpy as np\n",
    "import pandas as pd\n",
    "import matplotlib.pyplot as plt\n",
    "from matplotlib.backends.backend_pdf import PdfPages\n",
    "from astropy.time import Time, TimeDelta\n",
    "from lsst_efd_client import EfdClient\n",
    "from lsst.summit.utils.utils import dayObsIntToString\n",
    "from lsst.summit.utils.efdUtils import calcNextDay\n",
    "%matplotlib inline"
   ]
  },
  {
   "cell_type": "code",
   "execution_count": null,
   "id": "33e17bd6-225e-4493-9445-d784ee88f165",
   "metadata": {
    "execution": {
     "iopub.execute_input": "2024-03-12T12:35:16.778331Z",
     "iopub.status.busy": "2024-03-12T12:35:16.778207Z",
     "iopub.status.idle": "2024-03-12T12:35:17.257347Z",
     "shell.execute_reply": "2024-03-12T12:35:17.256906Z",
     "shell.execute_reply.started": "2024-03-12T12:35:16.778320Z"
    }
   },
   "outputs": [],
   "source": [
    "client = EfdClient('usdf_efd')"
   ]
  },
  {
   "cell_type": "code",
   "execution_count": null,
   "id": "56c170e5-cb3d-48d4-9da5-aec452bf2081",
   "metadata": {
    "execution": {
     "iopub.execute_input": "2024-03-12T12:37:31.907412Z",
     "iopub.status.busy": "2024-03-12T12:37:31.907067Z",
     "iopub.status.idle": "2024-03-12T12:37:31.910505Z",
     "shell.execute_reply": "2024-03-12T12:37:31.910074Z",
     "shell.execute_reply.started": "2024-03-12T12:37:31.907397Z"
    }
   },
   "outputs": [],
   "source": [
    "start = Time(\"2024-03-12T03:10:00\", scale='utc')\n",
    "end = Time(\"2024-03-12T03:13:00\", scale='utc')\n"
   ]
  },
  {
   "cell_type": "code",
   "execution_count": null,
   "id": "5497c24a-8679-40a8-ad8f-810b97c614f2",
   "metadata": {
    "execution": {
     "iopub.execute_input": "2024-03-12T12:37:42.241863Z",
     "iopub.status.busy": "2024-03-12T12:37:42.241581Z",
     "iopub.status.idle": "2024-03-12T12:37:42.266754Z",
     "shell.execute_reply": "2024-03-12T12:37:42.266293Z",
     "shell.execute_reply.started": "2024-03-12T12:37:42.241812Z"
    }
   },
   "outputs": [],
   "source": [
    "dome = await client.select_time_series('lsst.sal.ATDome.position', \\\n",
    "                                                    ['*'],  start, end)"
   ]
  },
  {
   "cell_type": "code",
   "execution_count": null,
   "id": "8fa9df74-a66a-46f0-bf71-3385aeeba4d5",
   "metadata": {
    "execution": {
     "iopub.execute_input": "2024-03-12T12:40:56.558443Z",
     "iopub.status.busy": "2024-03-12T12:40:56.558134Z",
     "iopub.status.idle": "2024-03-12T12:40:56.844180Z",
     "shell.execute_reply": "2024-03-12T12:40:56.843837Z",
     "shell.execute_reply.started": "2024-03-12T12:40:56.558427Z"
    }
   },
   "outputs": [],
   "source": [
    "fig, axs = plt.subplots(2,1,figsize=(5,5))\n",
    "plt.subplots_adjust(hspace=0.6)\n",
    "axs[0].set_title(\"Azimuth Position (deg)\")\n",
    "axs[0].set_ylabel(\"Degrees\")\n",
    "dome['azimuthPosition'].plot(ax=axs[0])\n",
    "axs[1].set_title(\"Azimuth Encoder (no units)\")\n",
    "axs[1].set_ylabel(\"Encoder Value\")\n",
    "dome['azimuthEncoderPosition'].plot(ax=axs[1])\n",
    "plt.savefig(\"/home/c/cslage/u/AuxTel/dome/Azimuth_Overshoots_12Mar24.png\")"
   ]
  },
  {
   "cell_type": "code",
   "execution_count": null,
   "id": "3fa8d135-9640-42bb-b9a3-32d6bd4fef10",
   "metadata": {
    "execution": {
     "iopub.execute_input": "2024-03-12T12:54:12.227424Z",
     "iopub.status.busy": "2024-03-12T12:54:12.227139Z",
     "iopub.status.idle": "2024-03-12T12:54:12.230382Z",
     "shell.execute_reply": "2024-03-12T12:54:12.230061Z",
     "shell.execute_reply.started": "2024-03-12T12:54:12.227409Z"
    }
   },
   "outputs": [],
   "source": []
  },
  {
   "cell_type": "code",
   "execution_count": null,
   "id": "0f789932-15f1-4f09-95c0-b2c81b734c65",
   "metadata": {
    "execution": {
     "iopub.execute_input": "2024-03-12T13:38:49.116087Z",
     "iopub.status.busy": "2024-03-12T13:38:49.115623Z",
     "iopub.status.idle": "2024-03-12T13:38:49.841332Z",
     "shell.execute_reply": "2024-03-12T13:38:49.840980Z",
     "shell.execute_reply.started": "2024-03-12T13:38:49.116069Z"
    }
   },
   "outputs": [],
   "source": [
    "start = Time(\"2024-03-12T00:00:00\", scale='utc')\n",
    "end = Time(\"2024-03-12T04:00:00\", scale='utc')\n",
    "\n",
    "dome = await client.select_time_series('lsst.sal.ATDome.position', \\\n",
    "                                                    ['*'],  start, end)\n",
    "move = await client.select_time_series('lsst.sal.ATDome.command_moveAzimuth', \\\n",
    "                                                    ['*'],  start, end)\n",
    "inPos = await client.select_time_series('lsst.sal.ATDome.logevent_azimuthInPosition', \\\n",
    "                                                    ['*'],  start, end)\n",
    "inPosTrue = inPos[inPos['inPosition'] == True]\n",
    "len(inPosTrue)\n",
    "inPosFalse = inPos[inPos['inPosition'] == False]\n"
   ]
  },
  {
   "cell_type": "code",
   "execution_count": null,
   "id": "97c50a81-39cc-42a8-a924-900ddc87997d",
   "metadata": {
    "execution": {
     "iopub.execute_input": "2024-03-12T13:41:21.303886Z",
     "iopub.status.busy": "2024-03-12T13:41:21.303581Z",
     "iopub.status.idle": "2024-03-12T13:41:22.702034Z",
     "shell.execute_reply": "2024-03-12T13:41:22.701693Z",
     "shell.execute_reply.started": "2024-03-12T13:41:21.303872Z"
    }
   },
   "outputs": [],
   "source": [
    "fig, axs = plt.subplots(2,1,figsize=(10,5))\n",
    "plt.subplots_adjust(hspace=0.6)\n",
    "axs[0].set_title(\"Azimuth Position (deg)\")\n",
    "axs[0].set_ylabel(\"Degrees\")\n",
    "dome['azimuthPosition'].plot(ax=axs[0])\n",
    "for pos in inPosTrue.index:\n",
    "    axs[0].axvline(pos, color='green', ls='--')\n",
    "    axs[1].axvline(pos, color='green', ls='--')\n",
    "#for mov in move.index:\n",
    "#    axs[0].axvline(mov, color='red', ls='--')\n",
    "\n",
    "axs[1].set_title(\"Azimuth Encoder (no units)\")\n",
    "axs[1].set_ylabel(\"Encoder Value\")\n",
    "dome['azimuthEncoderPosition'].plot(ax=axs[1])\n",
    "plt.savefig(\"/home/c/cslage/u/AuxTel/dome/Azimuth_InPos_12Mar24.png\")"
   ]
  },
  {
   "cell_type": "code",
   "execution_count": null,
   "id": "08f241ae-7062-403d-a22d-bc1c843ff2e1",
   "metadata": {
    "execution": {
     "iopub.execute_input": "2024-03-12T13:30:44.745996Z",
     "iopub.status.busy": "2024-03-12T13:30:44.745749Z",
     "iopub.status.idle": "2024-03-12T13:30:45.475423Z",
     "shell.execute_reply": "2024-03-12T13:30:45.475064Z",
     "shell.execute_reply.started": "2024-03-12T13:30:44.745981Z"
    }
   },
   "outputs": [],
   "source": [
    "start = Time(\"2024-03-12T00:00:00\", scale='utc')\n",
    "end = Time(\"2024-03-12T04:00:00\", scale='utc')\n",
    "\n",
    "dome = await client.select_time_series('lsst.sal.ATDome.position', \\\n",
    "                                                    ['*'],  start, end)\n",
    "inPos = await client.select_time_series('lsst.sal.ATDome.logevent_azimuthInPosition', \\\n",
    "                                                    ['*'],  start, end)\n",
    "inPosTrue = inPos[inPos['inPosition'] == True]\n",
    "len(inPosTrue)\n",
    "inPosFalse = inPos[inPos['inPosition'] == False]\n",
    "fail = await client.select_time_series('lsst.sal.ATDome.logevent_logMessage', \\\n",
    "                                                    ['*'],  start, end)\n",
    "fails = []\n",
    "for i in range(len(fail)):\n",
    "    if fail['message'].iloc[i].split(' ')[0] == 'Dome':\n",
    "        print(fail['message'].iloc[i])\n",
    "        fails.append(fail.index[i])\n"
   ]
  },
  {
   "cell_type": "code",
   "execution_count": null,
   "id": "d9406055-ebe0-448c-8cb8-b99df7634597",
   "metadata": {
    "execution": {
     "iopub.execute_input": "2024-03-12T13:30:47.534748Z",
     "iopub.status.busy": "2024-03-12T13:30:47.534348Z",
     "iopub.status.idle": "2024-03-12T13:30:49.202419Z",
     "shell.execute_reply": "2024-03-12T13:30:49.202056Z",
     "shell.execute_reply.started": "2024-03-12T13:30:47.534733Z"
    }
   },
   "outputs": [],
   "source": [
    "fig, axs = plt.subplots(2,1,figsize=(10,5))\n",
    "plt.subplots_adjust(hspace=0.6)\n",
    "axs[0].set_title(\"Azimuth Position (deg)\")\n",
    "axs[0].set_ylabel(\"Degrees\")\n",
    "dome['azimuthPosition'].plot(ax=axs[0])\n",
    "for pos in inPosTrue.index:\n",
    "    axs[0].axvline(pos, color='green', ls='--')\n",
    "    axs[1].axvline(pos, color='green', ls='--')\n",
    "for thisFail in fails:\n",
    "    axs[0].axvline(thisFail, color='red', ls='--')\n",
    "    axs[1].axvline(thisFail, color='red', ls='--')\n",
    "axs[1].set_title(\"Azimuth Encoder (no units)\")\n",
    "axs[1].set_ylabel(\"Encoder Value\")\n",
    "dome['azimuthEncoderPosition'].plot(ax=axs[1])\n",
    "plt.savefig(\"/home/c/cslage/u/AuxTel/dome/Azimuth_Fails_12Mar24.png\")"
   ]
  },
  {
   "cell_type": "code",
   "execution_count": null,
   "id": "e6497bfe-766b-429e-8c51-9e31b682ae6a",
   "metadata": {
    "execution": {
     "iopub.execute_input": "2024-03-12T13:49:43.055405Z",
     "iopub.status.busy": "2024-03-12T13:49:43.054841Z",
     "iopub.status.idle": "2024-03-12T13:49:43.092744Z",
     "shell.execute_reply": "2024-03-12T13:49:43.092324Z",
     "shell.execute_reply.started": "2024-03-12T13:49:43.055389Z"
    }
   },
   "outputs": [],
   "source": [
    "start = Time(\"2024-03-12T00:07:00\", scale='utc')\n",
    "end = Time(\"2024-03-12T00:10:00\", scale='utc')\n",
    "\n",
    "dome = await client.select_time_series('lsst.sal.ATDome.position', \\\n",
    "                                                    ['*'],  start, end)\n",
    "inPos = await client.select_time_series('lsst.sal.ATDome.logevent_azimuthInPosition', \\\n",
    "                                                    ['*'],  start, end)\n",
    "inPosTrue = inPos[inPos['inPosition'] == True]\n",
    "len(inPosTrue)\n",
    "inPosFalse = inPos[inPos['inPosition'] == False]\n",
    "fail = await client.select_time_series('lsst.sal.ATDome.logevent_logMessage', \\\n",
    "                                                    ['*'],  start, end)\n",
    "fails = []\n",
    "for i in range(len(fail)):\n",
    "    if fail['message'].iloc[i].split(' ')[0] == 'Dome':\n",
    "        print(fail['message'].iloc[i])\n",
    "        fails.append(fail.index[i])\n"
   ]
  },
  {
   "cell_type": "code",
   "execution_count": null,
   "id": "e7029e6f-9d79-4fcb-b40d-08abcda3d01a",
   "metadata": {
    "execution": {
     "iopub.execute_input": "2024-03-12T13:50:18.097568Z",
     "iopub.status.busy": "2024-03-12T13:50:18.096998Z",
     "iopub.status.idle": "2024-03-12T13:50:18.433291Z",
     "shell.execute_reply": "2024-03-12T13:50:18.432845Z",
     "shell.execute_reply.started": "2024-03-12T13:50:18.097551Z"
    }
   },
   "outputs": [],
   "source": [
    "fig, axs = plt.subplots(2,1,figsize=(10,5))\n",
    "plt.subplots_adjust(hspace=0.6)\n",
    "axs[0].set_title(\"Azimuth Position (deg)\")\n",
    "axs[0].set_ylabel(\"Degrees\")\n",
    "dome['azimuthPosition'].plot(ax=axs[0])\n",
    "for pos in inPosTrue.index:\n",
    "    axs[0].axvline(pos, color='green', ls='--', label='InPosition')\n",
    "    axs[1].axvline(pos, color='green', ls='--')\n",
    "for thisFail in fails:\n",
    "    axs[0].axvline(thisFail, color='red', ls='--', label='Not moving, resending')\n",
    "    axs[1].axvline(thisFail, color='red', ls='--')\n",
    "axs[1].set_title(\"Azimuth Encoder (no units)\")\n",
    "axs[1].set_ylabel(\"Encoder Value\")\n",
    "dome['azimuthEncoderPosition'].plot(ax=axs[1])\n",
    "axs[0].legend()\n",
    "plt.savefig(\"/home/c/cslage/u/AuxTel/dome/Azimuth_Fail_BlowUp_12Mar24.png\")"
   ]
  },
  {
   "cell_type": "code",
   "execution_count": null,
   "id": "450eb4ef-b09d-4013-99fa-368110677826",
   "metadata": {
    "execution": {
     "iopub.execute_input": "2024-03-12T13:47:59.293784Z",
     "iopub.status.busy": "2024-03-12T13:47:59.293195Z",
     "iopub.status.idle": "2024-03-12T13:47:59.327247Z",
     "shell.execute_reply": "2024-03-12T13:47:59.326886Z",
     "shell.execute_reply.started": "2024-03-12T13:47:59.293768Z"
    }
   },
   "outputs": [],
   "source": [
    "start = Time(\"2024-03-12T01:41:00\", scale='utc')\n",
    "end = Time(\"2024-03-12T01:41:30\", scale='utc')\n",
    "\n",
    "dome = await client.select_time_series('lsst.sal.ATDome.position', \\\n",
    "                                                    ['*'],  start, end)\n",
    "move = await client.select_time_series('lsst.sal.ATDome.command_moveAzimuth', \\\n",
    "                                                    ['*'],  start, end)\n",
    "inPos = await client.select_time_series('lsst.sal.ATDome.logevent_azimuthInPosition', \\\n",
    "                                                    ['*'],  start, end)\n",
    "inPosTrue = inPos[inPos['inPosition'] == True]\n",
    "\n",
    "inPosFalse = inPos[inPos['inPosition'] == False]\n",
    "len(move)"
   ]
  },
  {
   "cell_type": "code",
   "execution_count": null,
   "id": "2fbcc20a-8715-45df-8185-d7bdc9f86dd4",
   "metadata": {},
   "outputs": [],
   "source": []
  },
  {
   "cell_type": "code",
   "execution_count": null,
   "id": "7e55d0b5-6370-4bd2-a343-1f67dd788b5e",
   "metadata": {
    "execution": {
     "iopub.execute_input": "2024-03-12T13:48:02.847794Z",
     "iopub.status.busy": "2024-03-12T13:48:02.847104Z",
     "iopub.status.idle": "2024-03-12T13:48:03.542311Z",
     "shell.execute_reply": "2024-03-12T13:48:03.541849Z",
     "shell.execute_reply.started": "2024-03-12T13:48:02.847776Z"
    }
   },
   "outputs": [],
   "source": [
    "fig, axs = plt.subplots(2,1,figsize=(10,5))\n",
    "plt.subplots_adjust(hspace=0.6)\n",
    "axs[0].set_title(\"Azimuth Position (deg)\")\n",
    "axs[0].set_ylabel(\"Degrees\")\n",
    "dome['azimuthPosition'].plot(ax=axs[0])\n",
    "for pos in inPosTrue.index:\n",
    "    axs[0].axvline(pos, color='green', ls='--')\n",
    "    axs[1].axvline(pos, color='green', ls='--')\n",
    "for mov in move.index:\n",
    "    axs[0].axvline(mov, color='red', ls='--')\n",
    "\n",
    "axs[1].set_title(\"Azimuth Encoder (no units)\")\n",
    "axs[1].set_ylabel(\"Encoder Value\")\n",
    "dome['azimuthEncoderPosition'].plot(ax=axs[1])\n",
    "plt.savefig(\"/home/c/cslage/u/AuxTel/dome/Azimuth_Move_BlowUp_12Mar24.png\")"
   ]
  },
  {
   "cell_type": "code",
   "execution_count": null,
   "id": "6c3db202-2936-4eb2-ae04-a84ad2144e73",
   "metadata": {
    "execution": {
     "iopub.execute_input": "2024-03-12T13:45:59.845242Z",
     "iopub.status.busy": "2024-03-12T13:45:59.844603Z",
     "iopub.status.idle": "2024-03-12T13:46:01.010844Z",
     "shell.execute_reply": "2024-03-12T13:46:01.010379Z",
     "shell.execute_reply.started": "2024-03-12T13:45:59.845227Z"
    }
   },
   "outputs": [],
   "source": [
    "start = Time(\"2024-03-12T00:00:00\", scale='utc')\n",
    "end = Time(\"2024-03-12T04:00:00\", scale='utc')\n",
    "\n",
    "dome = await client.select_time_series('lsst.sal.ATDome.position', \\\n",
    "                                                    ['*'],  start, end)\n",
    "move = await client.select_time_series('lsst.sal.ATDome.command_moveAzimuth', \\\n",
    "                                                    ['*'],  start, end)\n",
    "inPos = await client.select_time_series('lsst.sal.ATDome.logevent_azimuthInPosition', \\\n",
    "                                                    ['*'],  start, end)\n",
    "inPosTrue = inPos[inPos['inPosition'] == True]\n",
    "len(inPosTrue)\n",
    "inPosFalse = inPos[inPos['inPosition'] == False]\n"
   ]
  },
  {
   "cell_type": "code",
   "execution_count": null,
   "id": "02742929-42e5-48bc-829c-debc38b15a9b",
   "metadata": {
    "execution": {
     "iopub.execute_input": "2024-03-12T13:46:04.534838Z",
     "iopub.status.busy": "2024-03-12T13:46:04.534364Z",
     "iopub.status.idle": "2024-03-12T13:46:06.396710Z",
     "shell.execute_reply": "2024-03-12T13:46:06.396222Z",
     "shell.execute_reply.started": "2024-03-12T13:46:04.534822Z"
    }
   },
   "outputs": [],
   "source": [
    "fig, axs = plt.subplots(2,1,figsize=(10,5))\n",
    "plt.subplots_adjust(hspace=0.6)\n",
    "axs[0].set_title(\"Azimuth Position (deg)\")\n",
    "axs[0].set_ylabel(\"Degrees\")\n",
    "dome['azimuthPosition'].plot(ax=axs[0])\n",
    "for pos in inPosTrue.index:\n",
    "    axs[0].axvline(pos, color='green', ls='--')\n",
    "    axs[1].axvline(pos, color='green', ls='--')\n",
    "for mov in move.index:\n",
    "    axs[0].axvline(mov, color='red', ls='--')\n",
    "\n",
    "axs[1].set_title(\"Azimuth Encoder (no units)\")\n",
    "axs[1].set_ylabel(\"Encoder Value\")\n",
    "dome['azimuthEncoderPosition'].plot(ax=axs[1])\n",
    "plt.savefig(\"/home/c/cslage/u/AuxTel/dome/Azimuth_Move_12Mar24.png\")"
   ]
  },
  {
   "cell_type": "code",
   "execution_count": null,
   "id": "e342795d-fd5f-4b69-ab58-03aca5dd2044",
   "metadata": {
    "execution": {
     "iopub.execute_input": "2024-03-12T12:47:52.393679Z",
     "iopub.status.busy": "2024-03-12T12:47:52.393381Z",
     "iopub.status.idle": "2024-03-12T12:47:52.396053Z",
     "shell.execute_reply": "2024-03-12T12:47:52.395740Z",
     "shell.execute_reply.started": "2024-03-12T12:47:52.393665Z"
    }
   },
   "outputs": [],
   "source": [
    "encoder_rollover = 34698002608 # I think this is encoder full scale\n",
    "encoder_counts_per_rotation = 4018143232\n",
    "current_encoder = 21811220507"
   ]
  },
  {
   "cell_type": "code",
   "execution_count": null,
   "id": "af995140-c000-4d0e-8c0b-c739f2f429f7",
   "metadata": {
    "execution": {
     "iopub.execute_input": "2024-03-12T12:48:10.951334Z",
     "iopub.status.busy": "2024-03-12T12:48:10.951028Z",
     "iopub.status.idle": "2024-03-12T12:48:10.954331Z",
     "shell.execute_reply": "2024-03-12T12:48:10.953988Z",
     "shell.execute_reply.started": "2024-03-12T12:48:10.951318Z"
    }
   },
   "outputs": [],
   "source": [
    "# How many rotations before we roll over?\n",
    "encoder_rollover / encoder_counts_per_rotation"
   ]
  },
  {
   "cell_type": "code",
   "execution_count": null,
   "id": "7773ce11-983a-4d6f-8308-c58ae887aedf",
   "metadata": {
    "execution": {
     "iopub.execute_input": "2024-03-12T13:11:10.041285Z",
     "iopub.status.busy": "2024-03-12T13:11:10.040791Z",
     "iopub.status.idle": "2024-03-12T13:11:10.043987Z",
     "shell.execute_reply": "2024-03-12T13:11:10.043631Z",
     "shell.execute_reply.started": "2024-03-12T13:11:10.041271Z"
    }
   },
   "outputs": [],
   "source": [
    "# How far are we from rollover?\n",
    "(encoder_rollover - current_encoder) / encoder_counts_per_rotation"
   ]
  },
  {
   "cell_type": "code",
   "execution_count": null,
   "id": "b2b9a8f7-066d-46f7-a6da-bdaaa37b26b9",
   "metadata": {},
   "outputs": [],
   "source": []
  }
 ],
 "metadata": {
  "kernelspec": {
   "display_name": "LSST",
   "language": "python",
   "name": "lsst"
  },
  "language_info": {
   "codemirror_mode": {
    "name": "ipython",
    "version": 3
   },
   "file_extension": ".py",
   "mimetype": "text/x-python",
   "name": "python",
   "nbconvert_exporter": "python",
   "pygments_lexer": "ipython3",
   "version": "3.11.7"
  }
 },
 "nbformat": 4,
 "nbformat_minor": 5
}
