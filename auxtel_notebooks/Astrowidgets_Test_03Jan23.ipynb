{
 "cells": [
  {
   "cell_type": "markdown",
   "metadata": {},
   "source": [
    "## Astrowidgets test\n",
    "\n",
    "Craig Lage - 03Jan23"
   ]
  },
  {
   "cell_type": "code",
   "execution_count": null,
   "metadata": {
    "execution": {
     "iopub.execute_input": "2023-02-08T15:01:25.779551Z",
     "iopub.status.busy": "2023-02-08T15:01:25.779250Z",
     "iopub.status.idle": "2023-02-08T15:01:28.913236Z",
     "shell.execute_reply": "2023-02-08T15:01:28.912694Z",
     "shell.execute_reply.started": "2023-02-08T15:01:25.779532Z"
    },
    "tags": []
   },
   "outputs": [],
   "source": [
    "import numpy as np\n",
    "from matplotlib import pyplot as plt\n",
    "from lsst.daf.butler import Butler\n",
    "import lsst.afw.display\n",
    "import lsst.display.astrowidgets\n",
    "lsst.afw.display.setDefaultBackend(\"astrowidgets\")\n",
    "\n",
    "from lsst.summit.utils import BestEffortIsr\n",
    "import lsst.afw.cameraGeom.utils as camGeomUtils\n",
    "from lsst.ip.isr import IsrTask, IsrTaskConfig\n",
    "from mpl_toolkits.axes_grid1 import make_axes_locatable\n",
    "from matplotlib.colors import LogNorm\n",
    "\n",
    "from lsst.summit.utils import quickSmooth\n",
    "%matplotlib inline\n",
    "\n",
    "from lsst.pipe.tasks.characterizeImage import CharacterizeImageTask\n",
    "from lsst.meas.algorithms.installGaussianPsf import InstallGaussianPsfTask"
   ]
  },
  {
   "cell_type": "code",
   "execution_count": null,
   "metadata": {
    "execution": {
     "iopub.execute_input": "2023-02-08T15:01:28.919133Z",
     "iopub.status.busy": "2023-02-08T15:01:28.918623Z",
     "iopub.status.idle": "2023-02-08T15:01:28.925382Z",
     "shell.execute_reply": "2023-02-08T15:01:28.924925Z",
     "shell.execute_reply.started": "2023-02-08T15:01:28.919116Z"
    },
    "tags": []
   },
   "outputs": [],
   "source": [
    "def plotExp(exp):\n",
    "    # Borrowed from summit utils\n",
    "    data = quickSmooth(exp.image.array, 1)\n",
    "    vmin = np.nanpercentile(data, 1)\n",
    "    vmax = np.nanpercentile(data, 99)\n",
    "    #vmin = 1\n",
    "    #vmax = 50\n",
    "    print(vmin, vmax)\n",
    "    figure = plt.figure(figsize=(12,12))\n",
    "    figure.clear()\n",
    "    ax1 = figure.add_subplot(111)\n",
    "    im1 = ax1.imshow(data, cmap='gray', origin='lower', vmin=vmin, vmax=vmax)\n",
    "    ax1.tick_params(which=\"major\", direction=\"in\", top=True, right=True, labelsize=8)\n",
    "    divider = make_axes_locatable(ax1)\n",
    "    cax = divider.append_axes(\"right\", size=\"5%\", pad=0.05)\n",
    "    plt.colorbar(im1, cax=cax)\n",
    "    plt.tight_layout()\n",
    "    #plt.show()\n",
    "    return figure\n",
    "\n",
    "def plotExpAstrowidgets(exp, display):\n",
    "    # Borrowed from summit utils\n",
    "    data = quickSmooth(exp.image.array, 1)\n",
    "    vmin = np.nanpercentile(data, 1)\n",
    "    vmax = np.nanpercentile(data, 99)\n",
    "    exp.image.array = data\n",
    "    print(vmin, vmax)\n",
    "    display.scale('linear', vmin, max=vmax)\n",
    "    display.mtv(exp)\n",
    "    return\n",
    "\n",
    "def repairCosmics(postIsr):\n",
    "    # Borrowed from summit utils\n",
    "    if postIsr.getPsf() is None:\n",
    "        installPsfTask = InstallGaussianPsfTask()\n",
    "        installPsfTask.run(postIsr)\n",
    "\n",
    "    # TODO: try adding a reasonably wide Gaussian as a temp PSF\n",
    "    # and then just running repairTask on its own without any\n",
    "    # imChar. It should work, and be faster.\n",
    "    repairConfig = CharacterizeImageTask.ConfigClass()\n",
    "    repairConfig.doMeasurePsf = False\n",
    "    repairConfig.doApCorr = False\n",
    "    repairConfig.doDeblend = False\n",
    "    repairConfig.doWrite = False\n",
    "    repairConfig.repair.cosmicray.nCrPixelMax = 200000\n",
    "    repairTask = CharacterizeImageTask(config=repairConfig)\n",
    "    repairTask.repair.run(postIsr)\n",
    "    return\n"
   ]
  },
  {
   "cell_type": "code",
   "execution_count": null,
   "metadata": {
    "execution": {
     "iopub.execute_input": "2023-02-08T15:01:32.782593Z",
     "iopub.status.busy": "2023-02-08T15:01:32.781989Z",
     "iopub.status.idle": "2023-02-08T15:01:34.679347Z",
     "shell.execute_reply": "2023-02-08T15:01:34.678699Z",
     "shell.execute_reply.started": "2023-02-08T15:01:32.782570Z"
    },
    "tags": []
   },
   "outputs": [],
   "source": [
    "butler = Butler('/repo/embargo', collections=[\"LATISS/raw/all\", \"LATISS/calib\"])\n",
    "best_effort_isr = BestEffortIsr(embargo=True)"
   ]
  },
  {
   "cell_type": "code",
   "execution_count": null,
   "metadata": {
    "execution": {
     "iopub.execute_input": "2023-02-06T13:23:05.330888Z",
     "iopub.status.busy": "2023-02-06T13:23:05.330471Z",
     "iopub.status.idle": "2023-02-06T13:23:05.333892Z",
     "shell.execute_reply": "2023-02-06T13:23:05.333341Z",
     "shell.execute_reply.started": "2023-02-06T13:23:05.330860Z"
    },
    "tags": []
   },
   "outputs": [],
   "source": [
    "expId = 2022121200752"
   ]
  },
  {
   "cell_type": "markdown",
   "metadata": {},
   "source": [
    " ### Old ISR"
   ]
  },
  {
   "cell_type": "code",
   "execution_count": null,
   "metadata": {
    "execution": {
     "iopub.execute_input": "2023-02-06T13:23:09.666179Z",
     "iopub.status.busy": "2023-02-06T13:23:09.665398Z",
     "iopub.status.idle": "2023-02-06T13:23:15.161335Z",
     "shell.execute_reply": "2023-02-06T13:23:15.160612Z",
     "shell.execute_reply.started": "2023-02-06T13:23:09.666155Z"
    },
    "tags": []
   },
   "outputs": [],
   "source": [
    "dataId = {'exposure': expId, 'detector': 0, \"instrument\": 'LATISS'}\n",
    "best_effort_isr.doWrite = False  # Don't write to butler database\n",
    "exp = best_effort_isr.getExposure(dataId, skipCosmics=False)\n",
    "fig = plotExp(exp)\n",
    "plt.suptitle(f\"{expId}\")"
   ]
  },
  {
   "cell_type": "code",
   "execution_count": null,
   "metadata": {
    "execution": {
     "iopub.execute_input": "2023-02-08T15:08:47.777522Z",
     "iopub.status.busy": "2023-02-08T15:08:47.777352Z",
     "iopub.status.idle": "2023-02-08T15:08:47.797852Z",
     "shell.execute_reply": "2023-02-08T15:08:47.797461Z",
     "shell.execute_reply.started": "2023-02-08T15:08:47.777504Z"
    },
    "tags": []
   },
   "outputs": [],
   "source": [
    "display = lsst.afw.display.Display(dims=(815, 800))  # size in screen pixels\n",
    "display.embed()"
   ]
  },
  {
   "cell_type": "code",
   "execution_count": null,
   "metadata": {
    "execution": {
     "iopub.execute_input": "2023-02-08T15:08:52.460660Z",
     "iopub.status.busy": "2023-02-08T15:08:52.460358Z",
     "iopub.status.idle": "2023-02-08T15:08:54.198668Z",
     "shell.execute_reply": "2023-02-08T15:08:54.198064Z",
     "shell.execute_reply.started": "2023-02-08T15:08:52.460642Z"
    },
    "tags": []
   },
   "outputs": [],
   "source": [
    "expId = 2023020700170 # Using parallel overscan\n",
    "exp = butler.get('raw', detector=0, exposure=expId)\n",
    "\n",
    "plotExpAstrowidgets(exp, display)"
   ]
  },
  {
   "cell_type": "code",
   "execution_count": null,
   "metadata": {},
   "outputs": [],
   "source": []
  }
 ],
 "metadata": {
  "kernelspec": {
   "display_name": "LSST",
   "language": "python",
   "name": "lsst"
  },
  "language_info": {
   "codemirror_mode": {
    "name": "ipython",
    "version": 3
   },
   "file_extension": ".py",
   "mimetype": "text/x-python",
   "name": "python",
   "nbconvert_exporter": "python",
   "pygments_lexer": "ipython3",
   "version": "3.10.8"
  }
 },
 "nbformat": 4,
 "nbformat_minor": 4
}
