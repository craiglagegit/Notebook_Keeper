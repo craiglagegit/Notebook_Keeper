{
 "cells": [
  {
   "cell_type": "markdown",
   "metadata": {},
   "source": [
    "## Astrowidgets test\n",
    "\n",
    "Craig Lage - 03Jan23"
   ]
  },
  {
   "cell_type": "code",
   "execution_count": null,
   "metadata": {
    "execution": {
     "iopub.execute_input": "2023-01-03T13:01:28.953025Z",
     "iopub.status.busy": "2023-01-03T13:01:28.952673Z",
     "iopub.status.idle": "2023-01-03T13:01:30.978040Z",
     "shell.execute_reply": "2023-01-03T13:01:30.977490Z",
     "shell.execute_reply.started": "2023-01-03T13:01:28.953004Z"
    },
    "tags": []
   },
   "outputs": [],
   "source": [
    "import numpy as np\n",
    "from lsst.daf.butler import Butler\n",
    "import lsst.afw.display\n",
    "import lsst.display.astrowidgets\n",
    "lsst.afw.display.setDefaultBackend(\"astrowidgets\")"
   ]
  },
  {
   "cell_type": "code",
   "execution_count": null,
   "metadata": {
    "execution": {
     "iopub.execute_input": "2023-01-03T13:01:34.387845Z",
     "iopub.status.busy": "2023-01-03T13:01:34.387530Z",
     "iopub.status.idle": "2023-01-03T13:01:35.396685Z",
     "shell.execute_reply": "2023-01-03T13:01:35.395974Z",
     "shell.execute_reply.started": "2023-01-03T13:01:34.387825Z"
    },
    "tags": []
   },
   "outputs": [],
   "source": [
    "butler = Butler('/repo/embargo', collections=[\"LATISS/raw/all\"])\n",
    "expId = 2022121200758\n",
    "exp = butler.get('raw', detector=0, exposure=expId)"
   ]
  },
  {
   "cell_type": "code",
   "execution_count": null,
   "metadata": {
    "execution": {
     "iopub.execute_input": "2023-01-03T13:02:09.941815Z",
     "iopub.status.busy": "2023-01-03T13:02:09.941425Z",
     "iopub.status.idle": "2023-01-03T13:02:10.295324Z",
     "shell.execute_reply": "2023-01-03T13:02:10.294439Z",
     "shell.execute_reply.started": "2023-01-03T13:02:09.941795Z"
    }
   },
   "outputs": [],
   "source": [
    "# Create a display object:\n",
    "display = lsst.afw.display.Display(dims=(800, 600))  # size in screen pixels\n",
    "display.embed()"
   ]
  },
  {
   "cell_type": "code",
   "execution_count": null,
   "metadata": {
    "execution": {
     "iopub.execute_input": "2023-01-03T13:02:35.314883Z",
     "iopub.status.busy": "2023-01-03T13:02:35.314618Z",
     "iopub.status.idle": "2023-01-03T13:02:35.327311Z",
     "shell.execute_reply": "2023-01-03T13:02:35.326605Z",
     "shell.execute_reply.started": "2023-01-03T13:02:35.314863Z"
    }
   },
   "outputs": [],
   "source": [
    "display.mtv(exp)"
   ]
  },
  {
   "cell_type": "code",
   "execution_count": null,
   "metadata": {},
   "outputs": [],
   "source": []
  }
 ],
 "metadata": {
  "kernelspec": {
   "display_name": "Python 3 (ipykernel)",
   "language": "python",
   "name": "python3"
  },
  "language_info": {
   "codemirror_mode": {
    "name": "ipython",
    "version": 3
   },
   "file_extension": ".py",
   "mimetype": "text/x-python",
   "name": "python",
   "nbconvert_exporter": "python",
   "pygments_lexer": "ipython3",
   "version": "3.10.8"
  }
 },
 "nbformat": 4,
 "nbformat_minor": 4
}
