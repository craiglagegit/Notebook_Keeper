{
 "cells": [
  {
   "cell_type": "markdown",
   "metadata": {},
   "source": [
    "## Queries - Quick look\n",
    "\n",
    "Craig Lage - 01-Mar-24"
   ]
  },
  {
   "cell_type": "code",
   "execution_count": null,
   "metadata": {
    "execution": {
     "iopub.execute_input": "2024-03-31T19:27:57.389892Z",
     "iopub.status.busy": "2024-03-31T19:27:57.389770Z",
     "iopub.status.idle": "2024-03-31T19:28:03.902955Z",
     "shell.execute_reply": "2024-03-31T19:28:03.902545Z",
     "shell.execute_reply.started": "2024-03-31T19:27:57.389880Z"
    },
    "tags": []
   },
   "outputs": [],
   "source": [
    "import numpy as np\n",
    "import matplotlib.pyplot as plt\n",
    "\n",
    "import lsst.summit.utils.butlerUtils as butlerUtils\n",
    "from lsst.summit.utils.bestEffort import BestEffortIsr\n",
    "from lsst.summit.utils.plotting import plot\n",
    "from lsst.summit.utils import quickSmooth\n",
    "from mpl_toolkits.axes_grid1 import make_axes_locatable\n",
    "from matplotlib.colors import LogNorm"
   ]
  },
  {
   "cell_type": "code",
   "execution_count": null,
   "metadata": {
    "execution": {
     "iopub.execute_input": "2024-03-31T19:28:03.903862Z",
     "iopub.status.busy": "2024-03-31T19:28:03.903434Z",
     "iopub.status.idle": "2024-03-31T19:28:04.337568Z",
     "shell.execute_reply": "2024-03-31T19:28:04.337123Z",
     "shell.execute_reply.started": "2024-03-31T19:28:03.903848Z"
    }
   },
   "outputs": [],
   "source": [
    "butler = butlerUtils.makeDefaultLatissButler(embargo=True)"
   ]
  },
  {
   "cell_type": "code",
   "execution_count": null,
   "metadata": {
    "execution": {
     "iopub.execute_input": "2024-03-31T19:30:31.733569Z",
     "iopub.status.busy": "2024-03-31T19:30:31.733289Z",
     "iopub.status.idle": "2024-03-31T19:30:31.792999Z",
     "shell.execute_reply": "2024-03-31T19:30:31.792681Z",
     "shell.execute_reply.started": "2024-03-31T19:30:31.733555Z"
    }
   },
   "outputs": [],
   "source": [
    "dayObs = 20240321\n",
    "exposureList = []\n",
    "for record in butler.registry.queryDimensionRecords(\"exposure\", where=\"exposure.day_obs=%d\"%dayObs):\n",
    "    exposureList.append([record.id, record])\n",
    "exposureList.sort(key=lambda x: x[0])\n",
    "for [id,record] in exposureList:\n",
    "    print(record.id, record.observation_type, record.exposure_time, record.physical_filter, record.observation_type)\n"
   ]
  },
  {
   "cell_type": "code",
   "execution_count": null,
   "metadata": {
    "execution": {
     "iopub.execute_input": "2024-03-31T19:28:26.601609Z",
     "iopub.status.busy": "2024-03-31T19:28:26.601338Z",
     "iopub.status.idle": "2024-03-31T19:28:26.604658Z",
     "shell.execute_reply": "2024-03-31T19:28:26.604311Z",
     "shell.execute_reply.started": "2024-03-31T19:28:26.601594Z"
    }
   },
   "outputs": [],
   "source": [
    "record"
   ]
  },
  {
   "cell_type": "code",
   "execution_count": null,
   "metadata": {},
   "outputs": [],
   "source": [
    "dataId = dict(day_obs=20240308, detector=0, seq_num=199)\n",
    "bestEffort = BestEffortIsr(embargo=True)\n",
    "bestEffort.getExposure(dataId)\n",
    "dataType = 'quickLookExp'\n",
    "exp = butler.get(dataType, dataId)"
   ]
  },
  {
   "cell_type": "code",
   "execution_count": null,
   "metadata": {},
   "outputs": [],
   "source": [
    "%matplotlib inline\n",
    "fig = plt.figure(figsize=(10,10))\n",
    "plot(exp, figure=fig, stretch='ccs')\n",
    "[ax1, ax2] = fig.axes\n",
    "ax1.set_title(f\"AuxTel, 20240308 seqNum 199\", fontsize = 24)\n",
    "slices = [[1830, 0.45, 0.6], [500, 0.85, 1.0], [3500, 0.1, 0.25]]\n",
    "for [y, xmin, xmax] in slices:\n",
    "    ax1.axhline(y, xmin, xmax, color='yellow')\n",
    "plt.savefig(\"/home/c/cslage/u/AuxTel/isr/Defects_1_20240308_199.png\")"
   ]
  },
  {
   "cell_type": "code",
   "execution_count": null,
   "metadata": {},
   "outputs": [],
   "source": []
  },
  {
   "cell_type": "code",
   "execution_count": null,
   "metadata": {},
   "outputs": [],
   "source": [
    "slices = [[1830, 2100, 2200], [500, 3775, 3875], [3500, 575, 675]]\n",
    "arr = exp.image.array\n",
    "mask = exp.getMaskedImage().getArrays()[1]\n",
    "fig, axs = plt.subplots(3,1, figsize=(10,10))\n",
    "plt.suptitle(\"AuxTel, 20240308 seqNum 199 defect slices\", fontsize = 18)\n",
    "for i, [y, xmin, xmax] in enumerate(slices):\n",
    "    axs[i].set_title(f\"Slice at y={y}, from {xmin} to {xmax}\")\n",
    "    axs[i].plot(arr[y, xmin:xmax], marker='x', color='blue', label='Data')\n",
    "    ax1 = axs[i].twinx()\n",
    "    ax1.plot(mask[y, xmin:xmax], marker='+', color='red', label='Mask')\n",
    "    axs[i].legend(loc='upper left')\n",
    "    ax1.legend()\n",
    "plt.savefig(\"/home/c/cslage/u/AuxTel/isr/Defects_3_20240308_199.png\")"
   ]
  },
  {
   "cell_type": "code",
   "execution_count": null,
   "metadata": {},
   "outputs": [],
   "source": [
    "maskedImage = exp.getMaskedImage()\n",
    "maskPlane = maskedImage.mask.getPlaneBitMask('INTRP')\n",
    "maskPlane"
   ]
  },
  {
   "cell_type": "code",
   "execution_count": null,
   "metadata": {},
   "outputs": [],
   "source": [
    "maskedImage.mask.getMaskPlaneDict()"
   ]
  },
  {
   "cell_type": "code",
   "execution_count": null,
   "metadata": {},
   "outputs": [],
   "source": [
    "maskedImage.mask.getPlaneBitMask?"
   ]
  },
  {
   "cell_type": "code",
   "execution_count": null,
   "metadata": {},
   "outputs": [],
   "source": [
    "for j in range(1800, 2000):\n",
    "    line = arr[j, 2000:2200]\n",
    "    print(j, np.max(line))"
   ]
  },
  {
   "cell_type": "code",
   "execution_count": null,
   "metadata": {},
   "outputs": [],
   "source": [
    "plt.plot(arr[1830, 2100:2200], marker = 'x')"
   ]
  },
  {
   "cell_type": "code",
   "execution_count": null,
   "metadata": {},
   "outputs": [],
   "source": [
    "for j in range(500,1000):\n",
    "    line = arr[j, 3600:3900]\n",
    "    print(j, np.max(line))"
   ]
  },
  {
   "cell_type": "code",
   "execution_count": null,
   "metadata": {},
   "outputs": [],
   "source": [
    "plt.plot(arr[500, 3775:3875], marker = 'x')"
   ]
  },
  {
   "cell_type": "code",
   "execution_count": null,
   "metadata": {},
   "outputs": [],
   "source": [
    "for j in range(3000, 4000):\n",
    "    line = arr[j, 500:700]\n",
    "    print(j, np.max(line))"
   ]
  },
  {
   "cell_type": "code",
   "execution_count": null,
   "metadata": {},
   "outputs": [],
   "source": [
    "plt.plot(arr[3500, 575:675], marker = 'x')"
   ]
  },
  {
   "cell_type": "code",
   "execution_count": null,
   "metadata": {},
   "outputs": [],
   "source": [
    "from numpy import unravel_index\n",
    "unravel_index(arr.argmax(), arr.shape)"
   ]
  },
  {
   "cell_type": "code",
   "execution_count": null,
   "metadata": {},
   "outputs": [],
   "source": [
    "donut = arr[1800:2100,2100:2400]\n",
    "donut.max()"
   ]
  },
  {
   "cell_type": "code",
   "execution_count": null,
   "metadata": {},
   "outputs": [],
   "source": [
    "_ = plot(donut, stretch='log')"
   ]
  },
  {
   "cell_type": "code",
   "execution_count": null,
   "metadata": {},
   "outputs": [],
   "source": [
    "[ax1, ax2] = fig.axes"
   ]
  },
  {
   "cell_type": "code",
   "execution_count": null,
   "metadata": {},
   "outputs": [],
   "source": [
    "ax_list"
   ]
  },
  {
   "cell_type": "code",
   "execution_count": null,
   "metadata": {},
   "outputs": [],
   "source": []
  },
  {
   "cell_type": "code",
   "execution_count": null,
   "metadata": {},
   "outputs": [],
   "source": [
    "def plotExp(exp):\n",
    "    # Borrowed from summit utils\n",
    "    data = quickSmooth(exp.image.array, 1)\n",
    "    vmin = np.nanpercentile(data, 1)\n",
    "    vmax = np.nanpercentile(data, 99)\n",
    "    print(vmin, vmax)\n",
    "    figure = plt.figure(figsize=(12,12))\n",
    "    figure.clear()\n",
    "    ax1 = figure.add_subplot(111)\n",
    "    im1 = ax1.imshow(data, cmap='gray', origin='lower', vmin=vmin, vmax=vmax)\n",
    "    ax1.tick_params(which=\"major\", direction=\"in\", top=True, right=True, labelsize=8)\n",
    "    divider = make_axes_locatable(ax1)\n",
    "    cax = divider.append_axes(\"right\", size=\"5%\", pad=0.05)\n",
    "    plt.colorbar(im1, cax=cax)\n",
    "    plt.tight_layout()\n",
    "    #plt.show()\n",
    "    return figure\n"
   ]
  },
  {
   "cell_type": "code",
   "execution_count": null,
   "metadata": {},
   "outputs": [],
   "source": [
    "%matplotlib inline\n",
    "\n",
    "fig = plotExp(exp)\n",
    "[ax1, ax2] = fig.axes\n",
    "ax1.text(2000, 2000, \"Test\", fontsize = 36, color='red')\n",
    "slices = [[1830, 2100, 3000], [500, 3775, 3875], [3500, 575, 675]]\n",
    "slices = [[1830, 0.45, 0.6], [500, 0.85, 1.0], [3500, 0.1, 0.25]]\n",
    "for [y, xmin, xmax] in slices:\n",
    "    ax1.axhline(y, xmin, xmax, color='yellow')\n"
   ]
  }
 ],
 "metadata": {
  "kernelspec": {
   "display_name": "LSST",
   "language": "python",
   "name": "lsst"
  },
  "language_info": {
   "codemirror_mode": {
    "name": "ipython",
    "version": 3
   },
   "file_extension": ".py",
   "mimetype": "text/x-python",
   "name": "python",
   "nbconvert_exporter": "python",
   "pygments_lexer": "ipython3",
   "version": "3.11.7"
  }
 },
 "nbformat": 4,
 "nbformat_minor": 4
}
