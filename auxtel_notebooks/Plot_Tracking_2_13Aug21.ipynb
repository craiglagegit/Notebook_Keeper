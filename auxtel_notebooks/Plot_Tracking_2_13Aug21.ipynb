{
 "cells": [
  {
   "cell_type": "markdown",
   "id": "a6412cd6",
   "metadata": {},
   "source": [
    "## AuxTel Mount fails - 13-Aug-21\n",
    "\n",
    "In this notebook, investigate again mount tracking on 25-May-21\\\n",
    "I can get things to line up, by repeatedly telling the code that UTC times are really TAI. \\\n",
    "This is all a big mess, but this seems to work for now.\\\n",
    "Modifying to use a single image."
   ]
  },
  {
   "cell_type": "code",
   "execution_count": null,
   "id": "b20abe44",
   "metadata": {},
   "outputs": [],
   "source": [
    "import sys, time, os, asyncio\n",
    "\n",
    "from datetime import datetime\n",
    "import numpy as np\n",
    "import matplotlib.pyplot as plt\n",
    "import pandas as pd\n",
    "from astropy.time import Time, TimeDelta\n",
    "from lsst_efd_client import EfdClient, merge_packed_time_series\n",
    "from lsst.daf.butler import Butler"
   ]
  },
  {
   "cell_type": "code",
   "execution_count": null,
   "id": "3f7de4ed",
   "metadata": {},
   "outputs": [],
   "source": [
    "# Get EFD client\n",
    "client = EfdClient('ldf_stable_efd')"
   ]
  },
  {
   "cell_type": "code",
   "execution_count": null,
   "id": "3eed69a4",
   "metadata": {},
   "outputs": [],
   "source": [
    "# Get the header data using Gen3 butler\n",
    "# These two exposures are of two different objects, so we know we slewed between them\n",
    "# Note that the DATE keyword is ~ 30 seconds before DATE-BEG and DATE-END\n",
    "# This doesn't seem right\n",
    "\n",
    "expId = 2021052500184\n",
    "butler = Butler('/repo/main', collections=\"LATISS/raw/all\")\n",
    "\n",
    "mData = butler.get('raw.metadata', detector=0, exposure=expId)\n",
    "print(f\"{expId} \\t {mData['OBJECT']} \\t {mData['DATE']} \\t {mData['DATE-BEG']} \\t {mData['DATE-END']}\")"
   ]
  },
  {
   "cell_type": "code",
   "execution_count": null,
   "id": "00c3cb67",
   "metadata": {},
   "outputs": [],
   "source": [
    "# Use these for finding the \"allAxesInPosition\" timestamp\n",
    "# The inPosition timestamp makes sense with the DATE-BEG and DATE-END times\n",
    "# But are these times in UTC, or TAI?\n",
    "before = 60.0\n",
    "after = 5.0\n",
    "start = Time(mData['DATE-BEG'],format='isot', scale='utc') - TimeDelta(before, format='sec')\n",
    "end = Time(mData['DATE-END'],format='isot', scale='utc') + TimeDelta(after, format='sec')\n",
    "print(start, end)\n",
    "timestamp = f\"time >= '{start}+00:00' AND time <= '{end}+00:00'\"\n",
    "query = f'SELECT \"inPosition\" FROM \"efd\".\"autogen\".\"lsst.sal.ATMCS.logevent_allAxesInPosition\"\\\n",
    "    WHERE {timestamp} and inPosition = true'\n",
    "\n",
    "inPosition = await client.influx_client.query(query)\n",
    "print(inPosition)"
   ]
  },
  {
   "cell_type": "code",
   "execution_count": null,
   "id": "d21532f3",
   "metadata": {},
   "outputs": [],
   "source": [
    "# Why is the timestamp in UTC?\n",
    "inPosition.index[0]"
   ]
  },
  {
   "cell_type": "code",
   "execution_count": null,
   "id": "9d2a99d8",
   "metadata": {},
   "outputs": [],
   "source": [
    "# Use these for finding the shutter status timestamp\n",
    "# The inPosition timestamp makes sense with the DATE-BEG and DATE-END times\n",
    "\n",
    "timestamp = f\"time >= '{start}+00:00' AND time <= '{end}+00:00'\"\n",
    "query = f'SELECT \"substate\" FROM \"efd\".\"autogen\".\"lsst.sal.ATCamera.logevent_shutterDetailedState\"\\\n",
    "    WHERE {timestamp}'\n",
    "\n",
    "shutter = await client.influx_client.query(query)\n",
    "#print(inPosition)"
   ]
  },
  {
   "cell_type": "code",
   "execution_count": null,
   "id": "56e701a8",
   "metadata": {},
   "outputs": [],
   "source": [
    "# These match perfectly with the DATE-BEG and DATE-END timestamps\n",
    "print(shutter)"
   ]
  },
  {
   "cell_type": "code",
   "execution_count": null,
   "id": "31cdb91d",
   "metadata": {},
   "outputs": [],
   "source": [
    "# Now get the mount tracking info for a time before and after the inPosition timestamp.\n",
    "before = 60.0\n",
    "after = 60.0\n",
    "inPos = Time(inPosition.index[0], scale='tai') # We lie to it and tell it it is TAI.\n",
    "tstart = inPos - TimeDelta(before, format='sec')\n",
    "tend = inPos + TimeDelta(after, format='sec')\n",
    "print(f\"{inPos} \\t {tstart} \\t {tend}\")"
   ]
  },
  {
   "cell_type": "code",
   "execution_count": null,
   "id": "c1f97ea0",
   "metadata": {},
   "outputs": [],
   "source": [
    "# Get and plot the data\n",
    "# Note that when it gets the data, it adds another 37 seconds to tstart and tend!!!\n",
    "# If I change merge_packed_time_series internal_time_scale to 'utc', then it doesn't do this.\n",
    "mount_position = await client.select_time_series(\"lsst.sal.ATMCS.mount_AzEl_Encoders\", ['*'],\n",
    "                                          tstart, tend)\n",
    "nasmyth_position = await client.select_time_series(\"lsst.sal.ATMCS.mount_Nasmyth_Encoders\", ['*'],\n",
    "                                          tstart, tend)\n",
    "\n",
    "az = merge_packed_time_series(mount_position, 'azimuthCalculatedAngle', stride=1, internal_time_scale=\"utc\")\n",
    "el = merge_packed_time_series(mount_position, 'elevationCalculatedAngle', stride=1, internal_time_scale=\"utc\")\n",
    "rot = merge_packed_time_series(nasmyth_position, 'nasmyth2CalculatedAngle', stride=1, internal_time_scale=\"utc\")\n",
    "\n",
    "# Plot it\n",
    "fig = plt.figure(figsize = (16,6))\n",
    "plt.suptitle(f\"Mount Tracking - ExpId {expId}\", fontsize = 18)\n",
    "# Azimuth axis\n",
    "plt.subplot(1,1,1)\n",
    "ax1 = az['azimuthCalculatedAngle'].plot(legend=True, color='red')\n",
    "ax1.set_title(\"Azimuth axis\", fontsize=16)\n",
    "ax1.axvline(inPos.isot, color=\"green\", linestyle=\"--\", label=\"In Position\")\n",
    "#ax1.axvline(Time(mDatas[expIds[0]]['DATE-BEG'], scale='utc').isot, color='blue', linestyle=\"--\", label=\"Exp1_Start\")\n",
    "#ax1.axvline(Time(mDatas[expIds[0]]['DATE-END'], scale='utc').isot, color='green', linestyle=\"--\", label=\"Exp1_End\")\n",
    "ax1.axvline(Time(mData['DATE-BEG'], scale='utc').isot, color='cyan', linestyle=\"--\", label=\"Exp2_Start\")\n",
    "ax1.axvline(Time(mData['DATE-END'], scale='utc').isot, color='magenta', linestyle=\"--\", label=\"Exp2_End\")\n",
    "ax1.set_ylabel(\"Degrees\")\n",
    "ax1.legend()\n",
    "#plt.savefig(f\"/project/cslage/AuxTel/offsets/Tracking_Timebase_{expIds[1]}_25May21.pdf\")\n"
   ]
  },
  {
   "cell_type": "code",
   "execution_count": null,
   "id": "450c6d59",
   "metadata": {},
   "outputs": [],
   "source": []
  }
 ],
 "metadata": {
  "kernelspec": {
   "display_name": "LSST",
   "language": "python",
   "name": "lsst"
  },
  "language_info": {
   "codemirror_mode": {
    "name": "ipython",
    "version": 3
   },
   "file_extension": ".py",
   "mimetype": "text/x-python",
   "name": "python",
   "nbconvert_exporter": "python",
   "pygments_lexer": "ipython3",
   "version": "3.8.8"
  }
 },
 "nbformat": 4,
 "nbformat_minor": 5
}
