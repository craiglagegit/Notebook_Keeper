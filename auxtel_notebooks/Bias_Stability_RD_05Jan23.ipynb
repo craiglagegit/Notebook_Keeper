{
 "cells": [
  {
   "cell_type": "markdown",
   "metadata": {},
   "source": [
    "## Bias wave stability\n",
    "\n",
    "Looking at the impact of RD changes on the bias wave\\\n",
    "Craig Lage - 05-Jan-23"
   ]
  },
  {
   "cell_type": "code",
   "execution_count": null,
   "metadata": {
    "execution": {
     "iopub.execute_input": "2023-01-05T12:39:25.859231Z",
     "iopub.status.busy": "2023-01-05T12:39:25.858626Z",
     "iopub.status.idle": "2023-01-05T12:39:27.822447Z",
     "shell.execute_reply": "2023-01-05T12:39:27.821730Z",
     "shell.execute_reply.started": "2023-01-05T12:39:25.859211Z"
    }
   },
   "outputs": [],
   "source": [
    "import numpy as np\n",
    "import matplotlib.pyplot as plt\n",
    "import astropy.io.fits as pf\n",
    "import lsst.afw.cameraGeom.utils as camGeomUtils\n",
    "from lsst.ip.isr import IsrTask, IsrTaskConfig\n",
    "import lsst.afw.display as afwDisplay"
   ]
  },
  {
   "cell_type": "code",
   "execution_count": null,
   "metadata": {
    "execution": {
     "iopub.execute_input": "2023-01-05T12:39:41.045977Z",
     "iopub.status.busy": "2023-01-05T12:39:41.045670Z",
     "iopub.status.idle": "2023-01-05T12:39:41.754925Z",
     "shell.execute_reply": "2023-01-05T12:39:41.754205Z",
     "shell.execute_reply.started": "2023-01-05T12:39:41.045958Z"
    },
    "tags": []
   },
   "outputs": [],
   "source": [
    "from lsst.daf.butler import Butler\n",
    "butler = Butler('/repo/embargo', collections=[\"LATISS/raw/all\", \"LATISS/calib\"])\n",
    "camera = butler.get('camera', instrument='LATISS')"
   ]
  },
  {
   "cell_type": "code",
   "execution_count": null,
   "metadata": {
    "execution": {
     "iopub.execute_input": "2023-01-05T12:39:44.552346Z",
     "iopub.status.busy": "2023-01-05T12:39:44.551917Z",
     "iopub.status.idle": "2023-01-05T12:39:44.582171Z",
     "shell.execute_reply": "2023-01-05T12:39:44.581618Z",
     "shell.execute_reply.started": "2023-01-05T12:39:44.552328Z"
    }
   },
   "outputs": [],
   "source": [
    "isrConfig = IsrTaskConfig()\n",
    "isrConfig.doLinearize=False\n",
    "isrConfig.doOverscan=True\n",
    "isrConfig.doAssembleCcd=True\n",
    "isrConfig.doBias=False\n",
    "isrConfig.doVariance=True\n",
    "isrConfig.doLinearize=False\n",
    "isrConfig.doCrosstalk=False\n",
    "isrConfig.doBrighterFatter=False\n",
    "isrConfig.doDark=False\n",
    "isrConfig.doStrayLight=False\n",
    "isrConfig.doFlat=False\n",
    "isrConfig.doFringe=False\n",
    "isrConfig.doApplyGains=False\n",
    "isrConfig.doDefect=False\n",
    "isrConfig.doNanMasking=True\n",
    "isrConfig.doInterpolate=False\n",
    "isrConfig.doSaturation=False\n",
    "isrConfig.doSaturationInterpolation=False\n",
    "isrTask = IsrTask(config=isrConfig)"
   ]
  },
  {
   "cell_type": "code",
   "execution_count": null,
   "metadata": {
    "execution": {
     "iopub.execute_input": "2023-01-05T19:35:06.277080Z",
     "iopub.status.busy": "2023-01-05T19:35:06.276700Z",
     "iopub.status.idle": "2023-01-05T19:35:24.624660Z",
     "shell.execute_reply": "2023-01-05T19:35:24.624047Z",
     "shell.execute_reply.started": "2023-01-05T19:35:06.277060Z"
    },
    "tags": []
   },
   "outputs": [],
   "source": [
    "bias = butler.get('bias', detector=0, exposure=2022110800013)\n",
    "biasArr = bias.image.array\n",
    "plt.title(\"AuxTel bias stability - Amp C10\")\n",
    "names = ['RD13-VBBon','RD13-VBBon','RD14.9-VBBoff','RD14.9-VBBon','RD14.9-VBBon','RD13-VBBon']\n",
    "for i, expId in enumerate([2022110300020, 2023010500006, 2023010500018, 2023010500028, 2023010500078, 2023010500150]):\n",
    "    exp = butler.get('raw', detector=0, exposure=expId)\n",
    "    #biasExp = butler.get('bias', detector=0, exposure=expId)\n",
    "    isrResult = isrTask.run(exp)\n",
    "    arr = isrResult.exposure.image.array\n",
    "    plt.plot(np.mean(arr[2100:3900, 0:400], axis=0), label=f\"{expId}:{names[i]}\")\n",
    "    plt.ylim(-4,4)\n",
    "plt.plot(np.mean(biasArr[2100:3900, 0:400], axis=0), ls='--', lw=2, color='black', label=\"Master bias\")\n",
    "plt.legend(bbox_to_anchor=(1.2, 0.5))\n",
    "plt.xlabel(\"X coord (pixels)\")\n",
    "plt.ylabel(\"ADU\")\n",
    "plt.savefig(\"/home/c/cslage/u/AuxTel/isr/Bias_Stability_RD_Amp_C10_05Jan23.pdf\")"
   ]
  },
  {
   "cell_type": "code",
   "execution_count": null,
   "metadata": {},
   "outputs": [],
   "source": []
  }
 ],
 "metadata": {
  "kernelspec": {
   "display_name": "LSST",
   "language": "python",
   "name": "lsst"
  },
  "language_info": {
   "codemirror_mode": {
    "name": "ipython",
    "version": 3
   },
   "file_extension": ".py",
   "mimetype": "text/x-python",
   "name": "python",
   "nbconvert_exporter": "python",
   "pygments_lexer": "ipython3",
   "version": "3.10.8"
  }
 },
 "nbformat": 4,
 "nbformat_minor": 4
}
