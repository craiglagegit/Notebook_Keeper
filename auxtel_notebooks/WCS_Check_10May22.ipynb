{
 "cells": [
  {
   "cell_type": "markdown",
   "metadata": {},
   "source": [
    "## WCS Check\n",
    "Craig Lage 10-May-22"
   ]
  },
  {
   "cell_type": "code",
   "execution_count": null,
   "metadata": {},
   "outputs": [],
   "source": [
    "import sys, time, os, asyncio, glob\n",
    "from datetime import datetime\n",
    "import numpy as np\n",
    "import matplotlib.pyplot as plt\n",
    "from astropy.time import Time, TimeDelta\n",
    "from astropy.coordinates import AltAz, ICRS, EarthLocation, Angle, FK5, SkyCoord\n",
    "import astropy.units as u\n",
    "from lsst.daf.butler import Butler"
   ]
  },
  {
   "cell_type": "code",
   "execution_count": null,
   "metadata": {},
   "outputs": [],
   "source": [
    "butler = Butler('/repo/main', collections=\"LATISS/raw/all\")"
   ]
  },
  {
   "cell_type": "code",
   "execution_count": null,
   "metadata": {
    "tags": []
   },
   "outputs": [],
   "source": [
    "%%capture --no-stdout\n",
    "expIdList = [2022050500695, \\\n",
    "             2022040601000, 2022021700321, 2022040500400, 2022021700311]\n",
    "print(\"ExpId          RA       Dec     ROTPA     WCS.x     WCS.y\")\n",
    "for expId in expIdList:\n",
    "    exp = butler.get('raw', detector=0, exposure=expId)\n",
    "    mData = exp.getMetadata()\n",
    "    el = Angle(mData['ELSTART'] * u.deg)\n",
    "    az = Angle(mData['AZSTART'] * u.deg)\n",
    "    dec = Angle(mData['DECSTART'] * u.deg)\n",
    "    ra = Angle(mData['RASTART'] * u.deg)\n",
    "    rotpa = Angle(mData['ROTPA']*u.deg)\n",
    "    origin = exp.getWcs().getPixelOrigin()\n",
    "    print(f\"{expId}  {ra.deg:.2f} {dec.deg:.2f}, {rotpa.deg:.2f}   {origin.getX():.2f}   {origin.getY():.2f}\")\n",
    "    "
   ]
  },
  {
   "cell_type": "code",
   "execution_count": null,
   "metadata": {},
   "outputs": [],
   "source": [
    "exp.getBBox().getCenter()"
   ]
  },
  {
   "cell_type": "code",
   "execution_count": null,
   "metadata": {},
   "outputs": [],
   "source": []
  }
 ],
 "metadata": {
  "kernelspec": {
   "display_name": "LSST",
   "language": "python",
   "name": "lsst"
  },
  "language_info": {
   "codemirror_mode": {
    "name": "ipython",
    "version": 3
   },
   "file_extension": ".py",
   "mimetype": "text/x-python",
   "name": "python",
   "nbconvert_exporter": "python",
   "pygments_lexer": "ipython3",
   "version": "3.8.12"
  }
 },
 "nbformat": 4,
 "nbformat_minor": 4
}
