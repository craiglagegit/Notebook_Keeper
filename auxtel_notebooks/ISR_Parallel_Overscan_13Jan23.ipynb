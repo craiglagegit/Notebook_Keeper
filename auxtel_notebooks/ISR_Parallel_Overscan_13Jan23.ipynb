{
 "cells": [
  {
   "cell_type": "markdown",
   "metadata": {},
   "source": [
    "## Trying parallel overscan subtraction on AuxTel ISR\n",
    "\n",
    "Craig Lage - 04-Jan-23"
   ]
  },
  {
   "cell_type": "code",
   "execution_count": null,
   "metadata": {
    "execution": {
     "iopub.execute_input": "2023-01-13T16:40:35.332871Z",
     "iopub.status.busy": "2023-01-13T16:40:35.332496Z",
     "iopub.status.idle": "2023-01-13T16:40:38.073306Z",
     "shell.execute_reply": "2023-01-13T16:40:38.072793Z",
     "shell.execute_reply.started": "2023-01-13T16:40:35.332854Z"
    },
    "tags": []
   },
   "outputs": [],
   "source": [
    "import numpy as np\n",
    "import matplotlib.pyplot as plt\n",
    "import astropy.io.fits as pf\n",
    "import lsst.afw.cameraGeom.utils as camGeomUtils\n",
    "from lsst.ip.isr import IsrTask, IsrTaskConfig\n",
    "from mpl_toolkits.axes_grid1 import make_axes_locatable\n",
    "from matplotlib.colors import LogNorm\n",
    "\n",
    "from lsst.summit.utils import quickSmooth\n",
    "%matplotlib inline\n",
    "\n",
    "from lsst.pipe.tasks.characterizeImage import CharacterizeImageTask\n",
    "from lsst.meas.algorithms.installGaussianPsf import InstallGaussianPsfTask"
   ]
  },
  {
   "cell_type": "code",
   "execution_count": null,
   "metadata": {
    "execution": {
     "iopub.execute_input": "2023-01-13T16:40:38.076222Z",
     "iopub.status.busy": "2023-01-13T16:40:38.075933Z",
     "iopub.status.idle": "2023-01-13T16:40:39.048662Z",
     "shell.execute_reply": "2023-01-13T16:40:39.047953Z",
     "shell.execute_reply.started": "2023-01-13T16:40:38.076205Z"
    },
    "tags": []
   },
   "outputs": [],
   "source": [
    "from lsst.daf.butler import Butler\n",
    "butler = Butler('/repo/embargo', collections=[\"LATISS/raw/all\", \"u/cslage/sdf/calib/latiss/calib_par_cross_20230113\"])"
   ]
  },
  {
   "cell_type": "code",
   "execution_count": null,
   "metadata": {
    "execution": {
     "iopub.execute_input": "2023-01-13T16:40:39.063089Z",
     "iopub.status.busy": "2023-01-13T16:40:39.062684Z",
     "iopub.status.idle": "2023-01-13T16:40:39.068782Z",
     "shell.execute_reply": "2023-01-13T16:40:39.068203Z",
     "shell.execute_reply.started": "2023-01-13T16:40:39.063072Z"
    },
    "tags": []
   },
   "outputs": [],
   "source": [
    "def plotExp(exp):\n",
    "    # Borrowed from summit utils\n",
    "    data = quickSmooth(exp.image.array, 1)\n",
    "    vmin = np.nanpercentile(data, 1)\n",
    "    vmax = np.nanpercentile(data, 99)\n",
    "    print(vmin, vmax)\n",
    "    figure = plt.figure(figsize=(12,12))\n",
    "    figure.clear()\n",
    "    ax1 = figure.add_subplot(111)\n",
    "    im1 = ax1.imshow(data, cmap='gray', origin='lower', vmin=vmin, vmax=vmax)\n",
    "    ax1.tick_params(which=\"major\", direction=\"in\", top=True, right=True, labelsize=8)\n",
    "    divider = make_axes_locatable(ax1)\n",
    "    cax = divider.append_axes(\"right\", size=\"5%\", pad=0.05)\n",
    "    plt.colorbar(im1, cax=cax)\n",
    "    plt.tight_layout()\n",
    "    #plt.show()\n",
    "    return figure\n",
    "\n",
    " \n",
    "def repairCosmics(postIsr):\n",
    "    # Borrowed from summit utils\n",
    "    if postIsr.getPsf() is None:\n",
    "        installPsfTask = InstallGaussianPsfTask()\n",
    "        installPsfTask.run(postIsr)\n",
    "\n",
    "    # TODO: try adding a reasonably wide Gaussian as a temp PSF\n",
    "    # and then just running repairTask on its own without any\n",
    "    # imChar. It should work, and be faster.\n",
    "    repairConfig = CharacterizeImageTask.ConfigClass()\n",
    "    repairConfig.doMeasurePsf = False\n",
    "    repairConfig.doApCorr = False\n",
    "    repairConfig.doDeblend = False\n",
    "    repairConfig.doWrite = False\n",
    "    repairConfig.repair.cosmicray.nCrPixelMax = 200000\n",
    "    repairTask = CharacterizeImageTask(config=repairConfig)\n",
    "    repairTask.repair.run(postIsr)\n",
    "    return"
   ]
  },
  {
   "cell_type": "markdown",
   "metadata": {},
   "source": [
    "# Run the same image as before, with parallel overscan subtraction\n"
   ]
  },
  {
   "cell_type": "code",
   "execution_count": null,
   "metadata": {
    "execution": {
     "iopub.execute_input": "2023-01-13T16:40:57.057878Z",
     "iopub.status.busy": "2023-01-13T16:40:57.057618Z",
     "iopub.status.idle": "2023-01-13T16:40:57.086639Z",
     "shell.execute_reply": "2023-01-13T16:40:57.086105Z",
     "shell.execute_reply.started": "2023-01-13T16:40:57.057859Z"
    },
    "tags": []
   },
   "outputs": [],
   "source": [
    "isrConfig = IsrTaskConfig()\n",
    "isrConfig.overscan.fitType=\"MEDIAN_PER_ROW\"\n",
    "isrConfig.overscan.doParallelOverscan=True\n",
    "isrConfig.doLinearize=False\n",
    "isrConfig.doOverscan=True\n",
    "isrConfig.doAssembleCcd=True\n",
    "isrConfig.doBias=True\n",
    "isrConfig.doVariance=True\n",
    "isrConfig.doLinearize=False\n",
    "isrConfig.doCrosstalk=False\n",
    "isrConfig.doBrighterFatter=False\n",
    "isrConfig.doDark=False\n",
    "isrConfig.doStrayLight=False\n",
    "isrConfig.doFlat=True\n",
    "isrConfig.doFringe=False\n",
    "isrConfig.doApplyGains=False\n",
    "isrConfig.doDefect=True\n",
    "isrConfig.doNanMasking=True\n",
    "isrConfig.doInterpolate=True\n",
    "isrConfig.doSaturation=True\n",
    "isrConfig.doSaturationInterpolation=True\n",
    "isrConfig.doWrite=False\n",
    "isrTask = IsrTask(config=isrConfig)"
   ]
  },
  {
   "cell_type": "code",
   "execution_count": null,
   "metadata": {
    "execution": {
     "iopub.execute_input": "2023-01-13T16:41:08.009240Z",
     "iopub.status.busy": "2023-01-13T16:41:08.008953Z",
     "iopub.status.idle": "2023-01-13T16:41:20.307387Z",
     "shell.execute_reply": "2023-01-13T16:41:20.306675Z",
     "shell.execute_reply.started": "2023-01-13T16:41:08.009222Z"
    },
    "tags": []
   },
   "outputs": [],
   "source": [
    "expId=2022121200752\n",
    "exp = butler.get('raw', detector=0, exposure=expId)\n",
    "biasExp = butler.get('bias', detector=0, exposure=expId)\n",
    "flatExp = butler.get('flat', detector=0, exposure=expId)\n",
    "darkExp = butler.get('dark', detector=0, exposure=expId)\n",
    "defectExp = butler.get('defects', detector=0, exposure=expId)\n",
    "isrResult = isrTask.run(exp, bias=biasExp, flat=flatExp, dark=darkExp, defects=defectExp)\n",
    "postIsrExp = isrResult.exposure\n",
    "repairCosmics(postIsrExp)\n",
    "fig = plotExp(postIsrExp)\n",
    "plt.savefig(f\"/home/c/cslage/u/AuxTel/isr/isr_study_04jan23/Parallel_Overscan_{expId}_13Jan23.png\")"
   ]
  },
  {
   "cell_type": "code",
   "execution_count": null,
   "metadata": {
    "tags": []
   },
   "outputs": [],
   "source": [
    "pixelHist = postIsrExp.image.array.flatten()\n",
    "pixelHist = np.clip(pixelHist, -40.0,40.0)\n",
    "mean = np.mean(pixelHist)\n",
    "std = np.std(pixelHist)\n",
    "plt.title(\"Parallel Overscan ISR pixel distribution\")\n",
    "plt.hist(pixelHist, range=(-40,40))\n",
    "plt.text(-30.0, 5.0E6, f\"Mean = {mean:.2f}\")\n",
    "plt.text(-30.0, 4.0E6, f\"Std = {std:.2f}\")\n",
    "plt.savefig(f\"/home/c/cslage/u/AuxTel/isr/isr_study_04jan23/Parallel_Overscan_Sigma_13Jan23.pdf\")"
   ]
  },
  {
   "cell_type": "code",
   "execution_count": null,
   "metadata": {
    "tags": []
   },
   "outputs": [],
   "source": [
    "plt.imshow(postIsrExp.image.array[3500:4000, 550:650], interpolation='nearest',vmin=1, vmax=100)"
   ]
  },
  {
   "cell_type": "markdown",
   "metadata": {},
   "source": [
    " ### Look at median signal and master bias"
   ]
  },
  {
   "cell_type": "code",
   "execution_count": null,
   "metadata": {
    "tags": []
   },
   "outputs": [],
   "source": [
    "isrConfig = IsrTaskConfig()\n",
    "isrConfig.doLinearize=False\n",
    "isrConfig.overscan.fitType=\"MEDIAN_PER_ROW\"\n",
    "isrConfig.doOverscan=True\n",
    "isrConfig.overscan.doParallelOverscan=True\n",
    "isrConfig.doAssembleCcd=True\n",
    "isrConfig.doBias=False\n",
    "isrConfig.doVariance=True\n",
    "isrConfig.doLinearize=False\n",
    "isrConfig.doCrosstalk=False\n",
    "isrConfig.doBrighterFatter=False\n",
    "isrConfig.doDark=False\n",
    "isrConfig.doStrayLight=False\n",
    "isrConfig.doFlat=False\n",
    "isrConfig.doFringe=False\n",
    "isrConfig.doApplyGains=False\n",
    "isrConfig.doDefect=False\n",
    "isrConfig.doNanMasking=True\n",
    "isrConfig.doInterpolate=True\n",
    "isrConfig.doSaturation=True\n",
    "isrConfig.doSaturationInterpolation=True\n",
    "isrTask = IsrTask(config=isrConfig)"
   ]
  },
  {
   "cell_type": "code",
   "execution_count": null,
   "metadata": {
    "tags": []
   },
   "outputs": [],
   "source": [
    "fig = plt.figure()\n",
    "plt.subplots_adjust(hspace=0.5, wspace=0.5)\n",
    "\n",
    "exp = butler.get('raw', detector=0, exposure=expId)\n",
    "isrResult = isrTask.run(exp)\n",
    "rawPlot = np.median(isrResult.exposure.image.array[2100:3900, 0:4000], axis=0)\n",
    "rawPlot -= np.median(rawPlot)\n",
    "biasPlot = np.median(biasExp.image.array[2100:3900, 0:4000], axis=0)\n",
    "biasPlot -= np.median(biasPlot)\n",
    "plt.subplot(2,1,1)\n",
    "plt.title(f\"Parallel Overscan Debug - Top\")\n",
    "plt.plot(rawPlot, label=\"Raw\")\n",
    "plt.plot(biasPlot, ls = '--', label=\"MasterBias\")\n",
    "for i in range(8):\n",
    "    x = 509 * i\n",
    "    ymin = -10\n",
    "    ymax = 10\n",
    "    plt.plot([x, x], [ymin, ymax], ls = '--', lw=1, color = 'black')\n",
    "plt.xlim(0,4000)\n",
    "plt.ylim(-10,10)\n",
    "plt.legend()\n",
    "plt.xlabel(\"X coord (pixels)\")\n",
    "plt.ylabel(\"ADU\")\n",
    "rawPlot = np.median(isrResult.exposure.image.array[100:1900, 0:4000], axis=0)\n",
    "rawPlot -= np.median(rawPlot)\n",
    "biasPlot = np.median(biasExp.image.array[100:1900, 0:4000], axis=0)\n",
    "biasPlot -= np.median(biasPlot)\n",
    "plt.subplot(2,1,2)\n",
    "plt.title(f\"Parallel Overscan Debug - Bottom\")\n",
    "plt.plot(rawPlot, label=\"Raw\")\n",
    "plt.plot(biasPlot, ls = '--', label=\"MasterBias\")\n",
    "for i in range(8):\n",
    "    x = 509 * i\n",
    "    ymin = -10\n",
    "    ymax = 10\n",
    "    plt.plot([x, x], [ymin, ymax], ls = '--', lw=1, color = 'black')\n",
    "plt.xlim(0,4000)\n",
    "plt.ylim(-10,10)\n",
    "plt.legend()\n",
    "plt.xlabel(\"X coord (pixels)\")\n",
    "plt.ylabel(\"ADU\")\n",
    "\n",
    "fig.savefig(f\"/home/c/cslage/u/AuxTel/isr/isr_study_04jan23/Parallel_Overscan_Bias_Stability_{expId}_06Jan23.png\")"
   ]
  },
  {
   "cell_type": "code",
   "execution_count": null,
   "metadata": {},
   "outputs": [],
   "source": [
    "maskIm = postIsrExp.getMaskedImage()"
   ]
  },
  {
   "cell_type": "code",
   "execution_count": null,
   "metadata": {
    "tags": []
   },
   "outputs": [],
   "source": [
    "maskIm.getMask().array.shape"
   ]
  },
  {
   "cell_type": "code",
   "execution_count": null,
   "metadata": {},
   "outputs": [],
   "source": [
    "def plotMask(exp):\n",
    "    mask = exp.getMaskedImage().getMask().array\n",
    "    figure = plt.figure(figsize=(10,10))\n",
    "    figure.clear()\n",
    "    ax1 = figure.add_subplot(111)\n",
    "    im1 = ax1.imshow(mask, cmap='gray', origin='lower', interpolation='nearest')\n",
    "    ax1.tick_params(which=\"major\", direction=\"in\", top=True, right=True, labelsize=8)\n"
   ]
  },
  {
   "cell_type": "code",
   "execution_count": null,
   "metadata": {},
   "outputs": [],
   "source": [
    "plotMask(postIsrExp)"
   ]
  },
  {
   "cell_type": "code",
   "execution_count": null,
   "metadata": {},
   "outputs": [],
   "source": []
  }
 ],
 "metadata": {
  "kernelspec": {
   "display_name": "LSST",
   "language": "python",
   "name": "lsst"
  },
  "language_info": {
   "codemirror_mode": {
    "name": "ipython",
    "version": 3
   },
   "file_extension": ".py",
   "mimetype": "text/x-python",
   "name": "python",
   "nbconvert_exporter": "python",
   "pygments_lexer": "ipython3",
   "version": "3.11.4"
  }
 },
 "nbformat": 4,
 "nbformat_minor": 4
}
