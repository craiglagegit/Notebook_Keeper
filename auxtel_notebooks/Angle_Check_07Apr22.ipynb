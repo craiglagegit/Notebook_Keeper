{
 "cells": [
  {
   "cell_type": "markdown",
   "metadata": {},
   "source": [
    "## AuxTel Image elongation due to azimuth oscillation\n",
    "\n",
    "Craig Lage 17-Mar-22"
   ]
  },
  {
   "cell_type": "code",
   "execution_count": null,
   "metadata": {},
   "outputs": [],
   "source": [
    "import sys, time, os, asyncio, glob\n",
    "from datetime import datetime\n",
    "import numpy as np\n",
    "import matplotlib.pyplot as plt\n",
    "from matplotlib.colors import LogNorm\n",
    "import pickle as pkl\n",
    "import pandas as pd\n",
    "import astropy.io.fits as pf\n",
    "from astropy.time import Time, TimeDelta\n",
    "from astropy.coordinates import AltAz, ICRS, EarthLocation, Angle, FK5, SkyCoord\n",
    "import astropy.units as u\n",
    "from lsst.obs.lsst.translators.latiss import AUXTEL_LOCATION\n",
    "import lsst.geom as geom\n",
    "from lsst.daf.butler import Butler\n",
    "from lsst_efd_client import EfdClient\n",
    "from lsst.geom import Box2I, Point2I, SpherePoint\n",
    "from lsst.pipe.tasks.characterizeImage import CharacterizeImageTask, CharacterizeImageConfig"
   ]
  },
  {
   "cell_type": "code",
   "execution_count": null,
   "metadata": {},
   "outputs": [],
   "source": [
    "def RotatedMoments(Ixx, Iyy, Ixy, theta):\n",
    "    # Rotates the moments about an angle theta.\n",
    "    # Formulae are fron the Sextractor documentation\n",
    "    # https://sextractor.readthedocs.io/en/latest/Position.html\\\n",
    "    # ?highlight=shape#basic-shape-parameters-a-b-theta\n",
    "    # theta is assumed to be an astropy.coordinates.Angle instance\n",
    "    c = np.cos(theta)\n",
    "    s = np.sin(theta)\n",
    "    IxxRot = c * c * Ixx + s * s * Iyy - 2.0 * c * s * Ixy\n",
    "    IyyRot = s * s * Ixx + c * c * Iyy + 2.0 * c * s * Ixy\n",
    "    IxyRot = c * s * (Ixx - Iyy) + (c * c - s * s) * Ixy\n",
    "    return [IxxRot, IyyRot, IxyRot] "
   ]
  },
  {
   "cell_type": "code",
   "execution_count": null,
   "metadata": {},
   "outputs": [],
   "source": [
    "butler = Butler('/repo/main', collections=\"LATISS/runs/quickLook\")"
   ]
  },
  {
   "cell_type": "code",
   "execution_count": null,
   "metadata": {
    "jupyter": {
     "outputs_hidden": true
    },
    "tags": []
   },
   "outputs": [],
   "source": [
    "# Now get the image data and the metadata\n",
    "\n",
    "expId = 2022021700311\n",
    "exp = butler.get('quickLookExp', detector=0, exposure=expId)\n",
    "mData = exp.getMetadata()\n",
    "date_beg = Time(mData['DATE-BEG'], format='isot', scale='tai')\n",
    "time = date_beg.utc\n",
    "print(expId, time)"
   ]
  },
  {
   "cell_type": "code",
   "execution_count": null,
   "metadata": {},
   "outputs": [],
   "source": [
    "RA = 120.0\n",
    "Dec = -60.0\n",
    "skyLocation = SkyCoord(RA*u.deg, Dec*u.deg)\n",
    "now = Time(datetime.now())\n",
    "altAz = AltAz(obstime=now, location=AUXTEL_LOCATION)\n",
    "obsAltAz = skyLocation.transform_to(altAz)\n",
    "print(RA, Dec, obsAltAz.az.deg, obsAltAz.alt.deg)"
   ]
  },
  {
   "cell_type": "code",
   "execution_count": null,
   "metadata": {},
   "outputs": [],
   "source": [
    "type(AUXTEL_LOCATION)"
   ]
  },
  {
   "cell_type": "code",
   "execution_count": null,
   "metadata": {},
   "outputs": [],
   "source": [
    "AUXTEL_LOCATION.lat"
   ]
  },
  {
   "cell_type": "code",
   "execution_count": null,
   "metadata": {},
   "outputs": [],
   "source": [
    "Alt = 60.0\n",
    "Az = 120.0\n",
    "now = Time(datetime.now())\n",
    "altAz = SkyCoord(AltAz(alt=Alt*u.deg, az=Az*u.deg, obstime=now, location=AUXTEL_LOCATION))\n",
    "RaDec = altAz.transform_to(ICRS)\n",
    "print(Alt, Az, RaDec.ra.deg, RaDec.dec.deg)"
   ]
  },
  {
   "cell_type": "code",
   "execution_count": null,
   "metadata": {},
   "outputs": [],
   "source": [
    "Alt = 180.0\n",
    "Az = 60.0\n",
    "now = Time(datetime.now())\n",
    "altAz = AltAz(obstime=now, location=AUXTEL_LOCATION)\n",
    "skyLocation = SkyCoord(alt=Alt*u.deg, az=Az*u.deg, frame=altAz)\n",
    "RaDec = skyLocation.transform_to(ICRS)"
   ]
  },
  {
   "cell_type": "code",
   "execution_count": null,
   "metadata": {},
   "outputs": [],
   "source": [
    "# Used for arrow locations\n",
    "Ncenter = (700, 900)\n",
    "Nlength = 500.0\n",
    "NcenterAzEl = (3200, 700)\n",
    "NcenterPA = (3000, 2000)\n",
    "Nlabel = 650.0\n",
    "yShift = 150.0\n",
    "NcenterFW = (3200, 3000)\n",
    "FW_shift = 100\n",
    "labelShift = 40\n",
    "\n",
    "el = Angle(mData['ELSTART'] * u.deg)\n",
    "az = Angle(mData['AZSTART'] * u.deg)\n",
    "dec = Angle(mData['DECSTART'] * u.deg)\n",
    "\n",
    "plt.figure(figsize=(16,16))\n",
    "arr = exp.image.array\n",
    "arr = np.clip(arr, 1, 100000) # This image has some negative values, and this removes them\n",
    "img = plt.imshow(arr, norm=LogNorm(vmin=1, vmax=1000),  interpolation='Nearest', cmap='gray')\n",
    "\n",
    "# Get Az, El shift from wcs:\n",
    "wcs = exp.getWcs()\n",
    "origin = wcs.getSkyOrigin()\n",
    "vi = exp.getInfo().getVisitInfo()\n",
    "\n",
    "skyLocation = SkyCoord(origin.getRa().asRadians(), origin.getDec().asRadians(), unit=u.rad)\n",
    "altAz = AltAz(obstime=vi.date.toPython(), location=AUXTEL_LOCATION)\n",
    "obsAltAz = skyLocation.transform_to(altAz)\n",
    "shiftInArcsec = 50.0\n",
    "altShifted = SkyCoord(obsAltAz.az, obsAltAz.alt + Angle(shiftInArcsec * u.arcsec), frame=altAz)\n",
    "altShiftedSpherePoint = SpherePoint(altShifted.icrs.ra.deg*geom.degrees, altShifted.icrs.dec.deg*geom.degrees)\n",
    "azShifted = SkyCoord(obsAltAz.az + Angle(shiftInArcsec / np.cos(obsAltAz.alt) * u.arcsec), obsAltAz.alt, frame=altAz)\n",
    "azShiftedSpherePoint = SpherePoint(azShifted.icrs.ra.deg*geom.degrees, azShifted.icrs.dec.deg*geom.degrees)\n",
    "originPixel = wcs.skyToPixel(origin)\n",
    "altShiftedPixel = wcs.skyToPixel(altShiftedSpherePoint)\n",
    "altShift = altShiftedPixel - originPixel\n",
    "azShiftedPixel = wcs.skyToPixel(azShiftedSpherePoint)\n",
    "azShift = azShiftedPixel - originPixel\n",
    "\n",
    "# Now plot the Az El arrows as determined by wcs\n",
    "plt.arrow(originPixel.x, originPixel.y, azShift.x, azShift.y,\\\n",
    "    color='orange', width = 20)\n",
    "plt.text(azShiftedPixel.x + labelShift, azShiftedPixel.y + labelShift  , 'AZ - WCS', fontsize=12, weight='bold', color='orange')\n",
    "plt.arrow(originPixel.x, originPixel.y, altShift.x, altShift.y,\\\n",
    "    color='orange', width = 20)    \n",
    "plt.text(altShiftedPixel.x + labelShift  , altShiftedPixel.y + labelShift  , 'EL - WCS', fontsize=12, weight='bold', color='orange')\n",
    "\n",
    "\n",
    "# Get N, E shift from wcs:\n",
    "decShifted = SkyCoord(skyLocation.ra, skyLocation.dec + Angle(shiftInArcsec * u.arcsec))\n",
    "decShiftedSpherePoint = SpherePoint(decShifted.ra.deg*geom.degrees, decShifted.dec.deg*geom.degrees)\n",
    "raShifted = SkyCoord(skyLocation.ra + Angle((shiftInArcsec / np.cos(skyLocation.dec)) * u.arcsec), skyLocation.dec)\n",
    "raShiftedSpherePoint = SpherePoint(raShifted.ra.deg*geom.degrees, raShifted.dec.deg*geom.degrees)\n",
    "originPixel = wcs.skyToPixel(origin)\n",
    "decShiftedPixel = wcs.skyToPixel(decShiftedSpherePoint)\n",
    "decShift = decShiftedPixel - originPixel\n",
    "raShiftedPixel = wcs.skyToPixel(raShiftedSpherePoint)\n",
    "raShift = raShiftedPixel - originPixel\n",
    "\n",
    "# Now plot the N E arrows as determined by wcs\n",
    "plt.arrow(originPixel.x, originPixel.y, decShift.x, decShift.y,\\\n",
    "    color='magenta', width = 20)\n",
    "plt.text(decShiftedPixel.x + labelShift, decShiftedPixel.y + labelShift  , 'N - WCS', fontsize=12, weight='bold', color='magenta')\n",
    "plt.arrow(originPixel.x, originPixel.y, raShift.x, raShift.y,\\\n",
    "    color='magenta', width = 20)    \n",
    "plt.text(raShiftedPixel.x + labelShift  , raShiftedPixel.y + labelShift  , 'E - WCS', fontsize=12, weight='bold', color='magenta')\n",
    "\n",
    "# Now plot the N, E arrows as determined by ROTPA\n",
    "rotpa = Angle(mData['ROTPA']*u.deg)\n",
    "plt.arrow(Ncenter[0],Ncenter[1], -Nlength*np.sin(rotpa), Nlength*np.cos(rotpa),\\\n",
    "    color='lightgreen', width = 20)\n",
    "plt.text(Ncenter[0]-Nlabel*np.sin(rotpa),Ncenter[1]+Nlabel*np.cos(rotpa), 'N', \\\n",
    "    color='lightgreen', fontsize=12, weight='bold')\n",
    "plt.arrow(Ncenter[0],Ncenter[1], Nlength*np.cos(rotpa), Nlength*np.sin(rotpa),\\\n",
    "    color='lightgreen', width = 20)\n",
    "plt.text(Ncenter[0]+Nlabel*np.cos(rotpa),Ncenter[1]+Nlabel*np.sin(rotpa), 'E', \\\n",
    "    color='lightgreen', fontsize=12, weight='bold')\n",
    "\n",
    "# Now calculate and plot the Az, El arrows from my algorithm\n",
    "sinTheta =  np.cos(AUXTEL_LOCATION.lat) / np.cos(dec) * np.sin(az)\n",
    "cosTheta = (np.sin(el) * np.sin(dec) - np.sin(AUXTEL_LOCATION.lat)) / (np.cos(el) * np.cos(dec))\n",
    "\n",
    "theta = Angle(np.arcsin(sinTheta))\n",
    "if cosTheta > 0:\n",
    "    rotAzEl = rotpa - theta\n",
    "else:    \n",
    "    rotAzEl = rotpa - (Angle(180.0 * u.deg) - theta)\n",
    "plt.arrow(NcenterAzEl[0],NcenterAzEl[1], Nlength*np.sin(rotAzEl),-Nlength*np.cos(rotAzEl),\\\n",
    "    color='cyan', width = 20)\n",
    "plt.text(NcenterAzEl[0] + Nlabel*np.sin(rotAzEl),NcenterAzEl[1] - Nlabel*np.cos(rotAzEl), 'EL', \\\n",
    "    color='cyan', fontsize=12, weight='bold')\n",
    "plt.arrow(NcenterAzEl[0],NcenterAzEl[1], Nlength*np.cos(rotAzEl), Nlength*np.sin(rotAzEl),\\\n",
    "    color='cyan', width = 20)\n",
    "plt.text(NcenterAzEl[0]+Nlabel*np.cos(rotAzEl),NcenterAzEl[1]+Nlabel*np.sin(rotAzEl), 'AZ', \\\n",
    "    color='cyan', fontsize=12, weight='bold')\n",
    "\"\"\"\n",
    "# Now determine and plot the ellipticities\n",
    "Ixx = sourceCatalog.getIxx()\n",
    "Iyy = sourceCatalog.getIyy()\n",
    "Ixy = sourceCatalog.getIxy()\n",
    "Ip = (Ixx + Iyy) / 2.0\n",
    "Im = (Ixx - Iyy) / 2.0\n",
    "phi = np.arctan2(Ixy, Im) / 2.0\n",
    "median_phi = Angle(np.median(phi) * u.rad)\n",
    "A2 = Ip + np.sqrt(Im**2 + Ixy**2)\n",
    "B2 = Ip - np.sqrt(Im**2 + Ixy**2)\n",
    "[Iaa, Iee, Iae] = RotatedMoments(Ixx, Iyy, Ixy, rotAzEl)\n",
    "FWHM_x = 2.35 * np.median(np.sqrt(Ixx))\n",
    "FWHM_y = 2.35 * np.median(np.sqrt(Iyy))\n",
    "FWHM_az = 2.35 * np.median(np.sqrt(Iaa)) \n",
    "FWHM_el = 2.35 * np.median(np.sqrt(Iee)) \n",
    "FWHM_a = 2.35 * np.median(np.sqrt(A2)) \n",
    "FWHM_b = 2.35 * np.median(np.sqrt(B2)) \n",
    "\"\"\"\n",
    "print(az.deg, el.deg, rotpa.deg, rotAzEl.deg, theta.deg)\n",
    "print(mData['AZSTART'], mData['ELSTART'], mData['ROTPA'])\n",
    "print(mData['ROTCOORD'])\n",
    "#print(FWHM_x, FWHM_y, FWHM_az, FWHM_el, FWHM_a, FWHM_b)\n",
    "\"\"\"\n",
    "plt.arrow(NcenterPA[0],NcenterPA[1], Nlength*np.cos(median_phi), Nlength*np.sin(median_phi),\\\n",
    "    color='yellow', width = 20)\n",
    "plt.text(NcenterPA[0]+Nlabel*np.cos(median_phi),NcenterPA[1]+Nlabel*np.sin(median_phi), 'Object_PA', \\\n",
    "    color='yellow', fontsize=12, weight='bold')\n",
    "names = ['FWHM_x', 'FWHM_y', 'FWHM_az', 'FWHM_el', 'FWHM_a', 'FWHM_b']\n",
    "for ii, FW in enumerate([FWHM_x, FWHM_y, FWHM_az, FWHM_el, FWHM_a, FWHM_b]):\n",
    "    plt.text(NcenterFW[0], NcenterFW[1] - FW_shift * ii, names[ii] + f\" = {FW:0.2f}\", fontsize=12, \\\n",
    "             weight='bold', color='yellow')\n",
    "\n",
    "\"\"\"\n",
    "\n",
    "plt.ylim(0,4000)\n",
    "#plt.savefig(f'/project/cslage/AuxTel/offsets/Mount_Motions_{expId}.png')\n"
   ]
  },
  {
   "cell_type": "code",
   "execution_count": null,
   "metadata": {},
   "outputs": [],
   "source": [
    "plt.close()"
   ]
  },
  {
   "cell_type": "code",
   "execution_count": null,
   "metadata": {},
   "outputs": [],
   "source": [
    "expIdList = [2022031700454, 2022021600721, 2022031600645, 2022040600457, 2022040600654, 2022040600660, \\\n",
    "             2022040600723, 2022040601000, 2022021700321, 2022040500400, 2022021700311]\n",
    "for expId in expIdList:\n",
    "    exp = butler.get('quickLookExp', detector=0, exposure=expId)\n",
    "    mData = exp.getMetadata()\n",
    "    ni = Angle(90.0 * u.deg)\n",
    "    on = Angle(180.0 * u.deg)\n",
    "    el = Angle(mData['ELSTART'] * u.deg)\n",
    "    az = Angle(mData['AZSTART'] * u.deg)\n",
    "    dec = Angle(mData['DECSTART'] * u.deg)\n",
    "    lat = AUXTEL_LOCATION.lat\n",
    "    # Now calculate and plot the Az, El arrows from my algorithm\n",
    "    sinTheta =  np.cos(lat) / np.cos(dec) * np.sin(az)\n",
    "    cosTheta = (np.sin(el) * np.sin(dec) - np.sin(lat)) / (np.cos(el) * np.cos(dec))\n",
    "\n",
    "    #sinTheta1 = np.sin(on-az) / np.sin(ni - dec) * np.sin(ni + lat)\n",
    "    cosTheta1 = (np.cos(ni+lat) - np.cos(ni-el) * np.cos(ni+dec)) / (np.sin(ni-el) * np.sin(ni+dec))\n",
    "    #print(expId, sinTheta, cosTheta)\n",
    "    #print(expId, sinTheta, cosTheta1)\n",
    "    print(cosTheta, cosTheta1)\n"
   ]
  },
  {
   "cell_type": "code",
   "execution_count": null,
   "metadata": {},
   "outputs": [],
   "source": []
  }
 ],
 "metadata": {
  "kernelspec": {
   "display_name": "LSST",
   "language": "python",
   "name": "lsst"
  },
  "language_info": {
   "codemirror_mode": {
    "name": "ipython",
    "version": 3
   },
   "file_extension": ".py",
   "mimetype": "text/x-python",
   "name": "python",
   "nbconvert_exporter": "python",
   "pygments_lexer": "ipython3",
   "version": "3.10.8"
  }
 },
 "nbformat": 4,
 "nbformat_minor": 4
}
