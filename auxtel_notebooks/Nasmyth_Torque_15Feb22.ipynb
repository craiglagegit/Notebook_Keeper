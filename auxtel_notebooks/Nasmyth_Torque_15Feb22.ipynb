{
 "cells": [
  {
   "cell_type": "markdown",
   "id": "153412e6",
   "metadata": {},
   "source": [
    "# AuxTel mount issue - 25-Feb-2022\n",
    "\n",
    "In this notebook, investigate mount issue from 20220215\\\n",
    "Why was the mount issued a \"full stop\"?"
   ]
  },
  {
   "cell_type": "code",
   "execution_count": null,
   "id": "fcd0a71e",
   "metadata": {},
   "outputs": [],
   "source": [
    "import sys, time, os, asyncio\n",
    "\n",
    "from datetime import datetime\n",
    "import numpy as np\n",
    "import matplotlib.pyplot as plt\n",
    "%matplotlib widget\n",
    "import pandas as pd\n",
    "from astropy.time import Time, TimeDelta\n",
    "from lsst.daf.butler import Butler"
   ]
  },
  {
   "cell_type": "code",
   "execution_count": null,
   "id": "5f1e495c",
   "metadata": {},
   "outputs": [],
   "source": [
    "from lsst_efd_client import EfdClient\n",
    "from lsst_efd_client import  __version__ as efdVersion\n",
    "print(efdVersion)"
   ]
  },
  {
   "cell_type": "code",
   "execution_count": null,
   "id": "aed2b09e",
   "metadata": {},
   "outputs": [],
   "source": [
    "# Get EFD client and the butler\n",
    "client = EfdClient('ldf_stable_efd')\n",
    "butler = Butler('/repo/main', collections=\"LATISS/raw/all\")"
   ]
  },
  {
   "cell_type": "code",
   "execution_count": null,
   "id": "ebb3c6e1-330f-4145-92b7-6a5d89eb7c77",
   "metadata": {
    "tags": []
   },
   "outputs": [],
   "source": [
    "expStart = 2022021500067\n",
    "expId = expStart\n",
    "mData = butler.get('raw.metadata', detector=0, exposure=expId)\n",
    "date_beg = Time(mData['DATE-BEG'], format='isot', scale='tai')\n",
    "date_end = Time(mData['DATE-END'], format='isot', scale='tai')\n",
    "tstart = date_beg.utc\n",
    "expEnd = 2022021500580\n",
    "expId = expEnd\n",
    "mData = butler.get('raw.metadata', detector=0, exposure=expId)\n",
    "date_beg = Time(mData['DATE-BEG'], format='isot', scale='tai')\n",
    "date_end = Time(mData['DATE-END'], format='isot', scale='tai')\n",
    "tstop = date_end.utc    "
   ]
  },
  {
   "cell_type": "code",
   "execution_count": null,
   "id": "393bb78a-a637-4ed9-acef-e149e5304bc3",
   "metadata": {},
   "outputs": [],
   "source": [
    "torque = await client.select_packed_time_series(\"lsst.sal.ATMCS.measuredTorque\", 'nasmyth2MotorTorque',\n",
    "                                              tstart, tstop)"
   ]
  },
  {
   "cell_type": "code",
   "execution_count": null,
   "id": "09b0b3f5-1cc1-4e4b-a285-35e7299de517",
   "metadata": {},
   "outputs": [],
   "source": [
    "angle = await client.select_packed_time_series(\"lsst.sal.ATMCS.mount_Nasmyth_Encoders\", 'nasmyth2CalculatedAngle',\n",
    "                                              tstart, tstop)"
   ]
  },
  {
   "cell_type": "code",
   "execution_count": null,
   "id": "fbe9b901-0212-4bc6-9abf-685b446c38f0",
   "metadata": {},
   "outputs": [],
   "source": [
    "torqueList = torque.values.tolist()[::100]\n",
    "angleList = angle.values.tolist()[::100]\n",
    "plt.figure()\n",
    "plt.scatter(np.array(angleList)[:,0],np.array(torqueList)[:,0])\n",
    "plt.plot([-160,160],[3.0,3.0], color='red', ls='--')\n",
    "plt.plot([-160,160],[-3.0,-3.0], color='red', ls='--')\n",
    "plt.arrow(-140, 2.5, 50,0, width=0.1,head_length = 5.0, color='green')\n",
    "plt.arrow(140, -2.5, -50,0, width=0.1,head_length = 5.0, color='green')\n",
    "plt.xlabel(\"Rotator angle(degrees)\")\n",
    "plt.ylabel(\"Torque (amps)\")\n",
    "plt.savefig(\"/project/cslage/AuxTel/mount_graphs/Torque_vs_Angle_Observing_15Feb22.pdf\")"
   ]
  },
  {
   "cell_type": "code",
   "execution_count": null,
   "id": "58ae32ec-ca38-476e-96ca-8d8699b1b9ba",
   "metadata": {},
   "outputs": [],
   "source": [
    "len(torqueList)"
   ]
  },
  {
   "cell_type": "code",
   "execution_count": null,
   "id": "0830fafd-8ba0-4681-ad77-99a7fc27396e",
   "metadata": {},
   "outputs": [],
   "source": []
  }
 ],
 "metadata": {
  "kernelspec": {
   "display_name": "LSST",
   "language": "python",
   "name": "lsst"
  },
  "language_info": {
   "codemirror_mode": {
    "name": "ipython",
    "version": 3
   },
   "file_extension": ".py",
   "mimetype": "text/x-python",
   "name": "python",
   "nbconvert_exporter": "python",
   "pygments_lexer": "ipython3",
   "version": "3.8.8"
  }
 },
 "nbformat": 4,
 "nbformat_minor": 5
}
