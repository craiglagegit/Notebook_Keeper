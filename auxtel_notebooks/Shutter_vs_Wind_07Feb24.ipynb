{
 "cells": [
  {
   "cell_type": "code",
   "execution_count": null,
   "metadata": {
    "execution": {
     "iopub.execute_input": "2024-04-16T00:17:09.854918Z",
     "iopub.status.busy": "2024-04-16T00:17:09.854704Z",
     "iopub.status.idle": "2024-04-16T00:17:17.186274Z",
     "shell.execute_reply": "2024-04-16T00:17:17.185826Z",
     "shell.execute_reply.started": "2024-04-16T00:17:09.854903Z"
    },
    "tags": []
   },
   "outputs": [],
   "source": [
    "import sys, time, os, asyncio, glob\n",
    "import numpy as np\n",
    "import pandas as pd\n",
    "import matplotlib.pyplot as plt\n",
    "from matplotlib.backends.backend_pdf import PdfPages\n",
    "from astropy.time import Time, TimeDelta\n",
    "from lsst_efd_client import EfdClient\n",
    "from lsst.summit.utils.utils import dayObsIntToString\n",
    "from lsst.summit.utils.efdUtils import calcNextDay"
   ]
  },
  {
   "cell_type": "code",
   "execution_count": null,
   "metadata": {
    "execution": {
     "iopub.execute_input": "2024-04-16T00:17:17.194220Z",
     "iopub.status.busy": "2024-04-16T00:17:17.194096Z",
     "iopub.status.idle": "2024-04-16T00:17:17.654492Z",
     "shell.execute_reply": "2024-04-16T00:17:17.654064Z",
     "shell.execute_reply.started": "2024-04-16T00:17:17.194207Z"
    },
    "tags": []
   },
   "outputs": [],
   "source": [
    "client = EfdClient('usdf_efd')"
   ]
  },
  {
   "cell_type": "code",
   "execution_count": null,
   "metadata": {
    "execution": {
     "iopub.execute_input": "2024-02-07T10:52:56.094635Z",
     "iopub.status.busy": "2024-02-07T10:52:56.094338Z",
     "iopub.status.idle": "2024-02-07T10:53:13.830695Z",
     "shell.execute_reply": "2024-02-07T10:53:13.830282Z",
     "shell.execute_reply.started": "2024-02-07T10:52:56.094621Z"
    },
    "tags": []
   },
   "outputs": [],
   "source": [
    "\n",
    "closes = []\n",
    "winds = []\n",
    "temps = []\n",
    "startDay = 20230704\n",
    "endDay = 20240206\n",
    "dayObs = startDay\n",
    "while dayObs <= endDay:\n",
    "    nextDayObs = calcNextDay(dayObs)\n",
    "    dayString = dayObsIntToString(dayObs)\n",
    "    nextDayString = dayObsIntToString(nextDayObs)\n",
    "    start = Time(f\"{dayString}T16:00:00\", scale='utc')\n",
    "    end = Time(f\"{nextDayString}T10:00:00\", scale='utc')\n",
    "    try:\n",
    "        state = await client.select_time_series('lsst.sal.ATDome.logevent_mainDoorState', \\\n",
    "                                            ['state'],  start, end)\n",
    "        wind = await client.select_time_series('lsst.sal.ESS.airFlow', \\\n",
    "                                                    ['speed'],  start, end, index=301)\n",
    "        temp = await client.select_time_series('lsst.sal.ESS.temperature', \\\n",
    "                                                    ['temperature0'],  start, end, index=301)\n",
    "        if len(temp) == 0:\n",
    "            temp = await client.select_time_series('lsst.sal.ESS.temperature', \\\n",
    "                                                    ['temperatureItem0'],  start, end, index=301)\n",
    "        close = state[state['state'] == 5]\n",
    "        windMed = np.median(wind.values)\n",
    "        tempMed = np.median(temp.values)\n",
    "        print(len(state), len(wind), len(close), windMed, tempMed)\n",
    "        if len(close) > 1:\n",
    "            closes.append(len(close))\n",
    "            winds.append(windMed)\n",
    "            temps.append(tempMed)\n",
    "        dayObs = calcNextDay(dayObs)\n",
    "    except:\n",
    "        dayObs = calcNextDay(dayObs)\n",
    "        continue\n"
   ]
  },
  {
   "cell_type": "code",
   "execution_count": null,
   "metadata": {
    "execution": {
     "iopub.execute_input": "2024-02-07T09:51:28.474861Z",
     "iopub.status.busy": "2024-02-07T09:51:28.474574Z",
     "iopub.status.idle": "2024-02-07T09:51:28.618145Z",
     "shell.execute_reply": "2024-02-07T09:51:28.617772Z",
     "shell.execute_reply.started": "2024-02-07T09:51:28.474846Z"
    },
    "tags": []
   },
   "outputs": [],
   "source": [
    "%matplotlib inline\n",
    "fig, ax = plt.subplots(1,1, figsize=(5,5))\n",
    "ax.set_title(f\"Phantom Closes vs Wind Speed\", fontsize=16)\n",
    "ax.scatter(winds, closes)\n",
    "ax.set_ylabel(\"Number of close events per night\")\n",
    "ax.set_xlabel(\"Median wind speed (m/s)\")\n",
    "ax.set_xlim(0,15)\n",
    "plt.savefig(\"/home/c/cslage/u/AuxTel/dome/Shutter_Closes_vs_Wind_Speed_07Feb24.png\")\n"
   ]
  },
  {
   "cell_type": "code",
   "execution_count": null,
   "metadata": {
    "execution": {
     "iopub.execute_input": "2024-02-07T10:53:30.091028Z",
     "iopub.status.busy": "2024-02-07T10:53:30.090472Z",
     "iopub.status.idle": "2024-02-07T10:53:30.246177Z",
     "shell.execute_reply": "2024-02-07T10:53:30.245656Z",
     "shell.execute_reply.started": "2024-02-07T10:53:30.091011Z"
    },
    "tags": []
   },
   "outputs": [],
   "source": [
    "%matplotlib inline\n",
    "fig, ax = plt.subplots(1,1, figsize=(5,5))\n",
    "ax.set_title(f\"Phantom Closes vs Temperature\", fontsize=16)\n",
    "ax.scatter(temps, closes)\n",
    "ax.set_ylabel(\"Number of close events per night\")\n",
    "ax.set_xlabel(\"Median temperature (C)\")\n",
    "#ax.set_xlim(0,15)\n",
    "plt.savefig(\"/home/c/cslage/u/AuxTel/dome/Shutter_Closes_vs_Temperature_07Feb24.png\")\n"
   ]
  },
  {
   "cell_type": "code",
   "execution_count": null,
   "metadata": {
    "execution": {
     "iopub.execute_input": "2024-02-07T10:54:02.268188Z",
     "iopub.status.busy": "2024-02-07T10:54:02.267979Z",
     "iopub.status.idle": "2024-02-07T10:54:02.511791Z",
     "shell.execute_reply": "2024-02-07T10:54:02.511384Z",
     "shell.execute_reply.started": "2024-02-07T10:54:02.268175Z"
    },
    "tags": []
   },
   "outputs": [],
   "source": [
    "%matplotlib inline\n",
    "abs_temps = np.array(temps) + 273.15\n",
    "fig, ax = plt.subplots(1,1, figsize=(5,5))\n",
    "ax.set_title(f\"Phantom Closes vs Temperature\", fontsize=16)\n",
    "ax.scatter(abs_temps, closes)\n",
    "ax.set_yscale('log')\n",
    "ax.set_ylabel(\"Number of close events per night\")\n",
    "ax.set_xlabel(\"Median temperature (K)\")\n",
    "#ax.set_xlim(0,15)\n",
    "plt.savefig(\"/home/c/cslage/u/AuxTel/dome/Shutter_Closes_vs_Temperature_Activation_Eneergy_07Feb24.png\")\n"
   ]
  },
  {
   "cell_type": "code",
   "execution_count": null,
   "metadata": {
    "execution": {
     "iopub.execute_input": "2024-04-16T00:20:18.233271Z",
     "iopub.status.busy": "2024-04-16T00:20:18.233062Z",
     "iopub.status.idle": "2024-04-16T00:20:18.236104Z",
     "shell.execute_reply": "2024-04-16T00:20:18.235799Z",
     "shell.execute_reply.started": "2024-04-16T00:20:18.233258Z"
    }
   },
   "outputs": [],
   "source": [
    "# Times to start looking at error codes\n",
    "start = Time(\"2023-05-01 00:00:00Z\", scale='utc')\n",
    "end = Time(\"2023-10-01 00:00:00Z\", scale='utc')"
   ]
  },
  {
   "cell_type": "code",
   "execution_count": null,
   "metadata": {
    "execution": {
     "iopub.execute_input": "2024-04-16T00:20:21.536871Z",
     "iopub.status.busy": "2024-04-16T00:20:21.536644Z",
     "iopub.status.idle": "2024-04-16T00:20:38.135227Z",
     "shell.execute_reply": "2024-04-16T00:20:38.134770Z",
     "shell.execute_reply.started": "2024-04-16T00:20:21.536855Z"
    }
   },
   "outputs": [],
   "source": [
    "temp = await client.select_time_series('lsst.sal.ESS.temperature', \\\n",
    "                                                    ['temperature0'],  start, end, index=301)"
   ]
  },
  {
   "cell_type": "code",
   "execution_count": null,
   "metadata": {
    "execution": {
     "iopub.execute_input": "2024-04-16T00:20:38.143436Z",
     "iopub.status.busy": "2024-04-16T00:20:38.143312Z",
     "iopub.status.idle": "2024-04-16T00:20:38.145863Z",
     "shell.execute_reply": "2024-04-16T00:20:38.145547Z",
     "shell.execute_reply.started": "2024-04-16T00:20:38.143424Z"
    }
   },
   "outputs": [],
   "source": [
    "len(temp)"
   ]
  },
  {
   "cell_type": "code",
   "execution_count": null,
   "metadata": {
    "execution": {
     "iopub.execute_input": "2024-04-16T00:20:42.798220Z",
     "iopub.status.busy": "2024-04-16T00:20:42.797656Z",
     "iopub.status.idle": "2024-04-16T00:20:42.801272Z",
     "shell.execute_reply": "2024-04-16T00:20:42.800919Z",
     "shell.execute_reply.started": "2024-04-16T00:20:42.798203Z"
    }
   },
   "outputs": [],
   "source": [
    "np.min(temp['temperature0'])"
   ]
  },
  {
   "cell_type": "code",
   "execution_count": null,
   "metadata": {
    "execution": {
     "iopub.execute_input": "2024-04-16T00:18:50.789695Z",
     "iopub.status.busy": "2024-04-16T00:18:50.789135Z",
     "iopub.status.idle": "2024-04-16T00:18:52.691123Z",
     "shell.execute_reply": "2024-04-16T00:18:52.690745Z",
     "shell.execute_reply.started": "2024-04-16T00:18:50.789680Z"
    }
   },
   "outputs": [],
   "source": [
    "%matplotlib inline\n",
    "temp['temperature0'].plot()\n",
    "plt.show()"
   ]
  },
  {
   "cell_type": "code",
   "execution_count": null,
   "metadata": {},
   "outputs": [],
   "source": []
  }
 ],
 "metadata": {
  "kernelspec": {
   "display_name": "LSST",
   "language": "python",
   "name": "lsst"
  },
  "language_info": {
   "codemirror_mode": {
    "name": "ipython",
    "version": 3
   },
   "file_extension": ".py",
   "mimetype": "text/x-python",
   "name": "python",
   "nbconvert_exporter": "python",
   "pygments_lexer": "ipython3",
   "version": "3.11.7"
  }
 },
 "nbformat": 4,
 "nbformat_minor": 4
}
