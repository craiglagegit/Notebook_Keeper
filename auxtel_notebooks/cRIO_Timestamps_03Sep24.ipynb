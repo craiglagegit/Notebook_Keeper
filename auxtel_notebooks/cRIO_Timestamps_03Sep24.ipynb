{
 "cells": [
  {
   "cell_type": "markdown",
   "id": "457cfaea-fe8d-4349-951d-b31822026d33",
   "metadata": {
    "execution": {
     "iopub.execute_input": "2024-09-03T13:35:47.178038Z",
     "iopub.status.busy": "2024-09-03T13:35:47.177696Z",
     "iopub.status.idle": "2024-09-03T13:35:47.180995Z",
     "shell.execute_reply": "2024-09-03T13:35:47.180444Z",
     "shell.execute_reply.started": "2024-09-03T13:35:47.178021Z"
    }
   },
   "source": [
    "# CRIO Timestamp issue\n",
    "\n",
    "Craig Lage - 03-Sep-24"
   ]
  },
  {
   "cell_type": "code",
   "execution_count": null,
   "id": "6658b88d-d937-4c5c-80b0-b306fc1c1c8d",
   "metadata": {},
   "outputs": [],
   "source": [
    "import nest_asyncio\n",
    "nest_asyncio.apply()\n",
    "import sys, time, os, asyncio\n",
    "from datetime import datetime\n",
    "import numpy as np\n",
    "import pandas as pd\n",
    "import matplotlib.pyplot as plt\n",
    "from astropy.time import Time, TimeDelta\n",
    "from lsst.daf.butler import Butler\n",
    "\n",
    "import lsst.summit.utils.butlerUtils as butlerUtils\n",
    "from lsst.summit.utils.efdUtils import calcNextDay\n",
    "from lsst.summit.utils.utils import dayObsIntToString\n",
    "from astro_metadata_translator import ObservationInfo\n",
    "\n",
    "from lsst_efd_client import EfdClient\n",
    "from lsst_efd_client import merge_packed_time_series as mpts\n"
   ]
  },
  {
   "cell_type": "code",
   "execution_count": null,
   "id": "8c7afe88-1263-40e7-b2e6-f717e29c0595",
   "metadata": {},
   "outputs": [],
   "source": [
    "def _getEfdData(client, dataSeries, startTime, endTime):\n",
    "    \"\"\"A synchronous wrapper for geting the data from the EFD.\n",
    "\n",
    "    This exists so that the top level functions don't all have to be async def.\n",
    "    \"\"\"\n",
    "    loop = asyncio.get_event_loop()\n",
    "    return loop.run_until_complete(client.select_time_series(dataSeries, ['*'], startTime.utc, endTime.utc))\n"
   ]
  },
  {
   "cell_type": "code",
   "execution_count": null,
   "id": "45c408df-7011-4466-9403-61b445e4223e",
   "metadata": {},
   "outputs": [],
   "source": [
    "butler = Butler('/repo/embargo', collections=[\"LATISS/raw/all\"])\n",
    "client = EfdClient('usdf_efd')"
   ]
  },
  {
   "cell_type": "code",
   "execution_count": null,
   "id": "0eb86b25-e1c2-44e0-a24b-e6940983249c",
   "metadata": {},
   "outputs": [],
   "source": [
    "expId = 2025012200264\n",
    "#expId = 2024090500003\n",
    "#expId = 2024082800259\n",
    "dataId = {'detector':0, 'exposure':expId}\n",
    "expRecord = butlerUtils.getExpRecordFromDataId(butler, dataId)\n",
    "\n",
    "tStart = expRecord.timespan.begin.tai.to_value(\"isot\")\n",
    "tEnd = expRecord.timespan.end.tai.to_value(\"isot\")\n",
    "t_start = Time(tStart, scale='tai')\n",
    "t_end = Time(tEnd, scale='tai')\n",
    "print(t_start, t_end)\n",
    "\n",
    "mount_position = _getEfdData(client, \"lsst.sal.ATMCS.mount_AzEl_Encoders\", t_start, t_end)\n",
    "\n",
    "az = mpts(mount_position, 'azimuthCalculatedAngle')\n",
    "el = mpts(mount_position, 'elevationCalculatedAngle')\n",
    "cRIO_ts = mount_position[\"cRIO_timestamp\"]\n",
    "timestamps = cRIO_ts.values\n",
    "print(len(timestamps))\n",
    "deltaTs = []\n",
    "for n in range(1, len(timestamps)):\n",
    "    deltaTs.append(timestamps[n] - timestamps[n-1])\n",
    "sig = np.std(deltaTs)\n",
    "%matplotlib inline\n",
    "plt.title(f\"cRIO timestamps deltas {expId}\")\n",
    "plt.plot(deltaTs, marker='x')\n",
    "plt.text(2.0, 2.2,f\"DeltaT sigma = {sig:.2g}\")\n",
    "plt.xlabel(\"Time(sec)\")\n",
    "plt.ylabel(\"DeltaT between successive timestamps\")\n",
    "plt.ylim(0, 2.5)\n",
    "plt.savefig(f\"/home/c/cslage/u/AuxTel/mount_graphs/cRIO_Timestamps_{expId}.png\")"
   ]
  },
  {
   "cell_type": "code",
   "execution_count": null,
   "id": "dde6f0b1-c2f1-44f3-b619-2e4112d4a868",
   "metadata": {},
   "outputs": [],
   "source": [
    "len(mount_position)"
   ]
  },
  {
   "cell_type": "code",
   "execution_count": null,
   "id": "7d5e0eea-8108-41e9-b2ae-d81cc08c8522",
   "metadata": {},
   "outputs": [],
   "source": [
    "expId = 2025012100475\n",
    "#expId = 2024090200356\n",
    "#expId = 2024082800259\n",
    "dataId = {'detector':0, 'exposure':expId}\n",
    "expRecord = butlerUtils.getExpRecordFromDataId(butler, dataId)\n",
    "\n",
    "tStart = expRecord.timespan.begin.tai.to_value(\"isot\")\n",
    "tEnd = expRecord.timespan.end.tai.to_value(\"isot\")\n",
    "t_start = Time(tStart, scale='tai')\n",
    "t_end = Time(tEnd, scale='tai')\n",
    "print(t_start, t_end)\n",
    "\n",
    "mount_position = _getEfdData(client, \"lsst.sal.ATMCS.measuredTorque\", t_start, t_end)\n",
    "\n",
    "az_m1 = mpts(mount_position, 'azimuthMotor1Torque')\n",
    "cRIO_ts = mount_position[\"cRIO_timestamp\"]\n",
    "timestamps = cRIO_ts.values\n",
    "print(len(timestamps))\n",
    "deltaTs = []\n",
    "for n in range(1, len(timestamps)):\n",
    "    deltaTs.append(timestamps[n] - timestamps[n-1])\n",
    "sig = np.std(deltaTs)\n",
    "%matplotlib inline\n",
    "plt.title(f\"cRIO timestamps deltas {expId}\")\n",
    "plt.plot(deltaTs, marker='x')\n",
    "plt.text(2.0, 2.2,f\"DeltaT sigma = {sig:.2g}\")\n",
    "plt.xlabel(\"Time(sec)\")\n",
    "plt.ylabel(\"DeltaT between successive timestamps\")\n",
    "plt.ylim(0, 2.5)\n",
    "plt.savefig(f\"/home/c/cslage/u/AuxTel/mount_graphs/cRIO_Timestamps_Torque_{expId}.png\")"
   ]
  },
  {
   "cell_type": "code",
   "execution_count": null,
   "id": "6c2c1fac-20ac-4202-8828-dc82afec4494",
   "metadata": {},
   "outputs": [],
   "source": []
  }
 ],
 "metadata": {
  "kernelspec": {
   "display_name": "LSST",
   "language": "python",
   "name": "lsst"
  },
  "language_info": {
   "codemirror_mode": {
    "name": "ipython",
    "version": 3
   },
   "file_extension": ".py",
   "mimetype": "text/x-python",
   "name": "python",
   "nbconvert_exporter": "python",
   "pygments_lexer": "ipython3",
   "version": "3.11.9"
  }
 },
 "nbformat": 4,
 "nbformat_minor": 5
}
