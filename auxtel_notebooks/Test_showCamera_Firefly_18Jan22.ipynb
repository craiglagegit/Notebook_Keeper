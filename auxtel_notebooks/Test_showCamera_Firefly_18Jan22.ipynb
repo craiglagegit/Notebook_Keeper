{
 "cells": [
  {
   "cell_type": "markdown",
   "metadata": {},
   "source": [
    "# Notebook for testing showCamera.\n",
    "Initially written by Michael Reuter.\\\n",
    "Modified by Craig Lage - 13-Jan-22\\\n",
    "Testing with comCam data from 2021-09-23."
   ]
  },
  {
   "cell_type": "code",
   "execution_count": null,
   "metadata": {},
   "outputs": [],
   "source": [
    "import sys\n",
    "import matplotlib.pyplot as plt\n",
    "import numpy as np\n",
    "import lsst.afw.cameraGeom.utils as camGeomUtils\n",
    "import lsst.afw.display as afwDisplay\n",
    "import lsst.daf.butler as dafButler #Gen3 butler"
   ]
  },
  {
   "cell_type": "code",
   "execution_count": null,
   "metadata": {},
   "outputs": [],
   "source": [
    "def myCallback(im, ccd, imageSource):\n",
    "    \"\"\"Assemble the CCD image.  Just bias subtraction and gain correction\"\"\"\n",
    "    oim = camGeomUtils.rawCallback(im, ccd, imageSource,\n",
    "                                   subtractBias=True, correctGain=False)\n",
    "    return oim"
   ]
  },
  {
   "cell_type": "code",
   "execution_count": null,
   "metadata": {},
   "outputs": [],
   "source": [
    "# Instantiate the Gen3 butler\n",
    "dataPath = \"/repo/main\"\n",
    "instrument = \"LATISS\"\n",
    "butler = dafButler.Butler(dataPath, \n",
    "                          collections=[\"LATISS/raw/all\", \"LATISS/calib/unbounded\",\"u/cslage/calib/latiss/calib.20210217\"],\n",
    "                          instrument=instrument)"
   ]
  },
  {
   "cell_type": "code",
   "execution_count": null,
   "metadata": {},
   "outputs": [],
   "source": [
    "day_obs = 20210218\n",
    "seq_num = 699\n",
    "\n",
    "dataId = {\"instrument\": instrument, \"exposure.day_obs\": day_obs, \"exposure.seq_num\": seq_num}"
   ]
  },
  {
   "cell_type": "code",
   "execution_count": null,
   "metadata": {},
   "outputs": [],
   "source": [
    "# camera has the info necessary to assemble the 9 CCDs\n",
    "camera = butler.get('camera', instrument=instrument)\n",
    "# Print the metadata just as a check.\n",
    "metadata = butler.get('raw.visitInfo', {**dataId, \"detector.id\": 0})\n",
    "print(metadata)"
   ]
  },
  {
   "cell_type": "code",
   "execution_count": null,
   "metadata": {},
   "outputs": [],
   "source": [
    "# Print out mean and sigma for each detector\n",
    "# This is before bias subtraction and gain adjustment.\n",
    "for det in range(1):\n",
    "    exp = butler.get('raw', {**dataId, \"detector.id\": det})\n",
    "    arr = arr = exp.image.array\n",
    "    print(det, arr.min(), arr.max(), arr.mean(), arr.std())"
   ]
  },
  {
   "cell_type": "code",
   "execution_count": null,
   "metadata": {
    "jupyter": {
     "outputs_hidden": true
    },
    "tags": []
   },
   "outputs": [],
   "source": [
    "# Instantiate the firefly display.\n",
    "# This should open a new tab with Firefly\n",
    "disp = afwDisplay.Display(0, \"firefly\")"
   ]
  },
  {
   "cell_type": "code",
   "execution_count": null,
   "metadata": {},
   "outputs": [],
   "source": [
    "disp = afwDisplay.Display(0, \"matplotlib\")"
   ]
  },
  {
   "cell_type": "code",
   "execution_count": null,
   "metadata": {},
   "outputs": [],
   "source": [
    "disp.frame"
   ]
  },
  {
   "cell_type": "code",
   "execution_count": null,
   "metadata": {},
   "outputs": [],
   "source": [
    "# This is bias subtracted and gain adjusted (see myCallback above), so gives a decent image.\n",
    "# Note that it is only ~ 200-300 counts after bias subtraction\n",
    "fig = plt.figure(figsize=(16,16))\n",
    "disp = afwDisplay.Display(6, \"matplotlib\")\n",
    "disp.scale('linear', 'zscale')\n",
    "\n",
    "dataType='raw' # 'raw' will look at the raw image, 'bias' looks at the master bias\n",
    "mos = camGeomUtils.showCamera(camera,\n",
    "                              camGeomUtils.ButlerImage(butler, dataType, \n",
    "                                                       instrument=instrument,\n",
    "                                                       day_obs=day_obs, seq_num=seq_num,\n",
    "                                                       verbose=True, callback=myCallback,\n",
    "                                                       background=np.nan),\n",
    "                              binSize=1, display=disp, overlay=False,\n",
    "                              title=\"%d %d %s\" % (day_obs, seq_num, dataType))\n",
    "plt.savefig(\"/project/cslage/AuxTel/crosstalk/Image_2021021800699.png\")"
   ]
  },
  {
   "cell_type": "code",
   "execution_count": null,
   "metadata": {},
   "outputs": [],
   "source": []
  }
 ],
 "metadata": {
  "kernelspec": {
   "display_name": "LSST",
   "language": "python",
   "name": "lsst"
  },
  "language_info": {
   "codemirror_mode": {
    "name": "ipython",
    "version": 3
   },
   "file_extension": ".py",
   "mimetype": "text/x-python",
   "name": "python",
   "nbconvert_exporter": "python",
   "pygments_lexer": "ipython3",
   "version": "3.8.12"
  }
 },
 "nbformat": 4,
 "nbformat_minor": 4
}
