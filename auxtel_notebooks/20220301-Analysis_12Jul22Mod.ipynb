{
 "cells": [
  {
   "cell_type": "markdown",
   "metadata": {},
   "source": [
    "## Motion Tests - 8s azimuth oscillation investigation\n",
    "\n"
   ]
  },
  {
   "cell_type": "code",
   "execution_count": null,
   "metadata": {},
   "outputs": [],
   "source": [
    "import sys, time, os, asyncio\n",
    "\n",
    "from datetime import datetime\n",
    "import numpy as np\n",
    "import matplotlib.pyplot as plt\n",
    "%matplotlib widget\n",
    "import pandas as pd\n",
    "from astropy.time import Time, TimeDelta\n",
    "from lsst_efd_client import EfdClient"
   ]
  },
  {
   "cell_type": "code",
   "execution_count": null,
   "metadata": {},
   "outputs": [],
   "source": [
    "# for tab completion to work in current notebook instance\n",
    "%config IPCompleter.use_jedi = False"
   ]
  },
  {
   "cell_type": "code",
   "execution_count": null,
   "metadata": {},
   "outputs": [],
   "source": [
    "import logging\n",
    "stream_handler = logging.StreamHandler(sys.stdout)\n",
    "logger = logging.getLogger()\n",
    "logger.addHandler(stream_handler)\n",
    "logger.level = logging.DEBUG"
   ]
  },
  {
   "cell_type": "code",
   "execution_count": null,
   "metadata": {
    "jupyter": {
     "outputs_hidden": true
    },
    "tags": []
   },
   "outputs": [],
   "source": [
    "# Get EFD client and bring in Lupton's unpacking code\n",
    "client = EfdClient('summit_efd')"
   ]
  },
  {
   "cell_type": "markdown",
   "metadata": {},
   "source": [
    "# EL 80"
   ]
  },
  {
   "cell_type": "code",
   "execution_count": null,
   "metadata": {
    "jupyter": {
     "outputs_hidden": true
    },
    "tags": []
   },
   "outputs": [],
   "source": [
    "# Blow up the first two minutes to look at the periodic error\n",
    "tstart = Time(\"2022-03-01T19:27:00\", scale='utc')\n",
    "tend = Time(\"2022-03-01T19:29:00\", scale='utc')\n",
    "az = await client.select_packed_time_series(\"lsst.sal.ATMCS.mount_AzEl_Encoders\", \"azimuthCalculatedAngle\",  tstart, tend)\n",
    "el = await client.select_packed_time_series(\"lsst.sal.ATMCS.mount_AzEl_Encoders\", \"elevationCalculatedAngle\",  tstart, tend)\n",
    "rot = await client.select_packed_time_series(\"lsst.sal.ATMCS.mount_Nasmyth_Encoders\", 'nasmyth2CalculatedAngle', tstart, tend)\n",
    "az_torque_1 = await client.select_packed_time_series(\"lsst.sal.ATMCS.measuredTorque\", 'azimuthMotor1Torque', tstart, tend)\n",
    "az_torque_2 = await client.select_packed_time_series(\"lsst.sal.ATMCS.measuredTorque\", 'azimuthMotor2Torque', tstart, tend)\n",
    "el_torque = await client.select_packed_time_series(\"lsst.sal.ATMCS.measuredTorque\", 'elevationMotorTorque', tstart, tend)\n",
    "rot_torque = await client.select_packed_time_series(\"lsst.sal.ATMCS.measuredTorque\", 'nasmyth2MotorTorque', tstart, tend)\n"
   ]
  },
  {
   "cell_type": "code",
   "execution_count": null,
   "metadata": {},
   "outputs": [],
   "source": [
    "# Calculate the tracking errors\n",
    "az_vals = np.array(az.values.tolist())[:,0]\n",
    "el_vals = np.array(el.values.tolist())[:,0]\n",
    "rot_vals = np.array(rot.values.tolist())[:,0]\n",
    "times = np.array(az.values.tolist())[:,1]\n",
    "times = times - times [0]\n",
    "# The fits are much better if the time variable                                                                                                    \n",
    "# is centered in the interval                                                                                                                      \n",
    "fit_times = times - times[int(len(az.values[:, 1]) / 2)]\n",
    "\n",
    "# Fit with a quartic\n",
    "az_fit = np.polyfit(fit_times, az_vals, 4)\n",
    "el_fit = np.polyfit(fit_times, el_vals, 4)\n",
    "rot_fit = np.polyfit(fit_times, rot_vals, 2)\n",
    "\n",
    "az_model = np.polyval(az_fit, fit_times)\n",
    "el_model = np.polyval(el_fit, fit_times)\n",
    "rot_model = np.polyval(rot_fit, fit_times)\n",
    "\n",
    "# Errors in arcseconds\n",
    "az_error = (az_vals - az_model) * 3600\n",
    "el_error = (el_vals - el_model) * 3600\n",
    "rot_error = (rot_vals - rot_model) * 3600\n",
    "\n",
    "# Calculate RMS                                                                                                                      \n",
    "az_rms = np.sqrt(np.mean(az_error * az_error))\n",
    "el_rms = np.sqrt(np.mean(el_error * el_error))\n",
    "rot_rms = np.sqrt(np.mean(rot_error * rot_error))\n",
    "\n",
    "# Calculate Image impact RMS                                                                                                         \n",
    "image_az_rms = az_rms * np.cos(el_vals[0] * np.pi / 180.0)\n",
    "image_el_rms = el_rms\n",
    "image_rot_rms = rot_rms * 280.0 * np.pi / 180.0 / 3600.0\n"
   ]
  },
  {
   "cell_type": "code",
   "execution_count": null,
   "metadata": {},
   "outputs": [],
   "source": [
    "saveFilename = \"/project/cslage/AuxTel/mount_graphs/Mount_Tracking_20220301_12Jul22.pdf\"\n",
    "figure = plt.figure(figsize=(11,16))\n",
    "plt.subplots_adjust(wspace=0.5)\n",
    "if saveFilename is not None:\n",
    "    # Plotting                                                                                                                                     \n",
    "    figure.clear()\n",
    "    title = f\"Mount Tracking 20220301, Azimuth = {az_vals[0]:.1f}, Elevation = {el_vals[0]:.1f}\"\n",
    "    plt.suptitle(title, fontsize=18)\n",
    "    # Azimuth axis                                                                                                                                 \n",
    "    plt.subplot(3, 3, 1)\n",
    "    ax1 = az['azimuthCalculatedAngle'].plot(legend=True, color='red')\n",
    "    ax1.set_title(\"Azimuth axis\", fontsize=16)\n",
    "    ax1.axvline(az.index[0], color=\"red\", linestyle=\"--\")\n",
    "    ax1.set_xticks([])\n",
    "    ax1.set_ylabel(\"Degrees\")\n",
    "    plt.subplot(3, 3, 4)\n",
    "    plt.plot(fit_times, az_error, color='red')\n",
    "\n",
    "    plt.title(f\"Azimuth RMS error = {az_rms:.2f} arcseconds\\n\"\n",
    "              f\"  Image RMS error = {image_az_rms:.2f} arcseconds\", fontsize=10)\n",
    "    plt.ylim(-10.0, 10.0)\n",
    "    plt.xticks([])\n",
    "    plt.ylabel(\"Arcseconds\")\n",
    "    plt.subplot(3, 3, 7)\n",
    "    ax7 = az_torque_1['azimuthMotor1Torque'].plot(legend=True, color='blue')\n",
    "    ax7 = az_torque_2['azimuthMotor2Torque'].plot(legend=True, color='green')\n",
    "    ax7.axvline(az.index[0], color=\"red\", linestyle=\"--\")\n",
    "    ax7.set_ylabel(\"Torque (motor current in amps)\")\n",
    "\n",
    "    # Elevation axis                                                                                                                               \n",
    "    plt.subplot(3, 3, 2)\n",
    "    ax2 = el['elevationCalculatedAngle'].plot(legend=True, color='green')\n",
    "    ax2.set_title(\"Elevation axis\", fontsize=16)\n",
    "    ax2.axvline(az.index[0], color=\"red\", linestyle=\"--\")\n",
    "    ax2.set_xticks([])\n",
    "    plt.subplot(3, 3, 5)\n",
    "    plt.plot(fit_times, el_error, color='green')\n",
    "    plt.title(f\"Elevation RMS error = {el_rms:.2f} arcseconds\\n\"\n",
    "              f\"    Image RMS error = {image_el_rms:.2f} arcseconds\", fontsize=10)\n",
    "    plt.ylim(-10.0, 10.0)\n",
    "    plt.xticks([])\n",
    "    plt.subplot(3, 3, 8)\n",
    "    ax8 = el_torque['elevationMotorTorque'].plot(legend=True, color='blue')\n",
    "    ax8.axvline(az.index[0], color=\"red\", linestyle=\"--\")\n",
    "    ax8.set_ylabel(\"Torque (motor current in amps)\")\n",
    "\n",
    "    # Nasmyth2 rotator axis                                                                                                                        \n",
    "    plt.subplot(3, 3, 3)\n",
    "    ax3 = rot['nasmyth2CalculatedAngle'].plot(legend=True, color='blue')\n",
    "    ax3.set_title(\"Nasmyth2 axis\", fontsize=16)\n",
    "    ax3.axvline(az.index[0], color=\"red\", linestyle=\"--\")\n",
    "    ax3.set_xticks([])\n",
    "    plt.subplot(3, 3, 6)\n",
    "    plt.plot(fit_times, rot_error, color='blue')\n",
    "    plt.title(f\"Nasmyth2 RMS error = {rot_rms:.2f} arcseconds\\n\"\n",
    "              f\"  Image RMS error <= {image_rot_rms:.2f} arcseconds\",fontsize=10)\n",
    "    plt.ylim(-10.0, 10.0)\n",
    "    plt.xticks([])\n",
    "    plt.subplot(3, 3, 9)\n",
    "    ax9 = rot_torque['nasmyth2MotorTorque'].plot(legend=True, color='blue')\n",
    "    ax9.axvline(az.index[0], color=\"red\", linestyle=\"--\")\n",
    "    ax9.set_ylabel(\"Torque (motor current in amps)\")\n",
    "    plt.savefig(saveFilename)\n"
   ]
  },
  {
   "cell_type": "code",
   "execution_count": null,
   "metadata": {
    "tags": []
   },
   "outputs": [],
   "source": [
    "# Plot it\n",
    "fig = plt.figure(figsize = (8,8))\n",
    "plt.subplots_adjust(wspace=0.5, hspace=0.5)\n",
    "plt.suptitle(f\"Mount Tracking Az Error 20220301\\nStarting Az=0, Starting El=80\", fontsize = 18)\n",
    "plt.subplot(2,2,1)\n",
    "ax1 = az['azimuthCalculatedAngle'].plot(legend=True, color='red')\n",
    "ax1.set_ylabel(\"Degrees\")\n",
    "plt.subplot(2,2,2)\n",
    "ax3 = el['elevationCalculatedAngle'].plot(legend=True, color='green')\n",
    "ax3.set_ylabel(\"Degrees\")\n",
    "\n",
    "plt.subplot(2,2,3)\n",
    "plt.plot(times, az_error, color='red')\n",
    "plt.title(f\"Azimuth RMS error = {az_rms:.2f} arcseconds\")\n",
    "plt.ylim(-10.0,10.0)\n",
    "plt.xticks([])\n",
    "plt.ylabel(\"ArcSeconds\")\n",
    "plt.subplot(2,2,4)\n",
    "plt.plot(times, el_error, color='green')\n",
    "plt.title(f\"Elevation RMS error = {el_rms:.2f} arcseconds\")\n",
    "plt.ylim(-10.0,10.0)\n",
    "plt.xticks([])\n",
    "plt.ylabel(\"ArcSeconds\")\n",
    "#plt.savefig(f\"./Az_Error_Debug_1_1Mar22_az0el80.pdf\")"
   ]
  },
  {
   "cell_type": "markdown",
   "metadata": {},
   "source": [
    "# El 70 "
   ]
  },
  {
   "cell_type": "code",
   "execution_count": null,
   "metadata": {
    "jupyter": {
     "outputs_hidden": true
    },
    "tags": []
   },
   "outputs": [],
   "source": [
    "# Blow up the first two minutes to look at the periodic error\n",
    "tstart = Time(\"2022-03-01T19:31:30\", scale='utc')\n",
    "tend = Time(\"2022-03-01T19:33:30\", scale='utc')\n",
    "az = await client.select_packed_time_series(\"lsst.sal.ATMCS.mount_AzEl_Encoders\", \"azimuthCalculatedAngle\",  tstart, tend)\n",
    "el = await client.select_packed_time_series(\"lsst.sal.ATMCS.mount_AzEl_Encoders\", \"elevationCalculatedAngle\",  tstart, tend)\n"
   ]
  },
  {
   "cell_type": "code",
   "execution_count": null,
   "metadata": {},
   "outputs": [],
   "source": [
    "# Calculate the tracking errors\n",
    "az_vals = np.array(az.values.tolist())[:,0]\n",
    "el_vals = np.array(el.values.tolist())[:,0]\n",
    "times = np.array(az.values.tolist())[:,1]\n",
    "times = times - times [0]\n",
    "\n",
    "# Fit with a quartic\n",
    "az_fit = np.polyfit(times, az_vals, 4)\n",
    "el_fit = np.polyfit(times, el_vals, 4)\n",
    "\n",
    "az_model = az_fit[0] * times * times * times * times + az_fit[1] * times * times * times \\\n",
    "    + az_fit[2] * times *times + az_fit[3] * times + az_fit[4]\n",
    "el_model = el_fit[0] * times * times * times * times + el_fit[1] * times * times * times \\\n",
    "    + el_fit[2] * times * times + el_fit[3] * times + el_fit[4]\n",
    "\n",
    "# Errors in arcseconds\n",
    "az_error = (az_vals - az_model) * 3600\n",
    "el_error = (el_vals - el_model) * 3600\n",
    "\n",
    "# Calculate RMS\n",
    "az_rms = np.sqrt(np.mean(az_error * az_error))\n",
    "el_rms = np.sqrt(np.mean(el_error * el_error))"
   ]
  },
  {
   "cell_type": "code",
   "execution_count": null,
   "metadata": {},
   "outputs": [],
   "source": [
    "# Plot it\n",
    "fig = plt.figure(figsize = (8,8))\n",
    "plt.subplots_adjust(wspace=0.5, hspace=0.5)\n",
    "plt.suptitle(f\"Mount Tracking Az Error 20220301\\nStarting Az=0, Starting El=70\", fontsize = 18)\n",
    "plt.subplot(2,2,1)\n",
    "ax1 = az['azimuthCalculatedAngle'].plot(legend=True, color='red')\n",
    "ax1.set_ylabel(\"Degrees\")\n",
    "plt.subplot(2,2,2)\n",
    "ax3 = el['elevationCalculatedAngle'].plot(legend=True, color='green')\n",
    "ax3.set_ylabel(\"Degrees\")\n",
    "\n",
    "plt.subplot(2,2,3)\n",
    "plt.plot(times, az_error, color='red')\n",
    "plt.title(f\"Azimuth RMS error = {az_rms:.2f} arcseconds\")\n",
    "plt.ylim(-10.0,10.0)\n",
    "plt.xticks([])\n",
    "plt.ylabel(\"ArcSeconds\")\n",
    "plt.subplot(2,2,4)\n",
    "plt.plot(times, el_error, color='green')\n",
    "plt.title(f\"Elevation RMS error = {el_rms:.2f} arcseconds\")\n",
    "plt.ylim(-10.0,10.0)\n",
    "plt.xticks([])\n",
    "plt.ylabel(\"ArcSeconds\")\n",
    "plt.savefig(f\"./Az_Error_Debug_1_1Mar22_az0el70.pdf\")"
   ]
  },
  {
   "cell_type": "markdown",
   "metadata": {},
   "source": [
    "# EL 60 "
   ]
  },
  {
   "cell_type": "code",
   "execution_count": null,
   "metadata": {},
   "outputs": [],
   "source": [
    "# Blow up the first two minutes to look at the periodic error\n",
    "tstart = Time(\"2022-03-01T19:36:30\", scale='utc')\n",
    "tend = Time(\"2022-03-01T19:38:30\", scale='utc')\n",
    "az = await client.select_packed_time_series(\"lsst.sal.ATMCS.mount_AzEl_Encoders\", \"azimuthCalculatedAngle\",  tstart, tend)\n",
    "el = await client.select_packed_time_series(\"lsst.sal.ATMCS.mount_AzEl_Encoders\", \"elevationCalculatedAngle\",  tstart, tend)\n"
   ]
  },
  {
   "cell_type": "code",
   "execution_count": null,
   "metadata": {},
   "outputs": [],
   "source": [
    "# Calculate the tracking errors\n",
    "az_vals = np.array(az.values.tolist())[:,0]\n",
    "el_vals = np.array(el.values.tolist())[:,0]\n",
    "times = np.array(az.values.tolist())[:,1]\n",
    "times = times - times [0]\n",
    "\n",
    "# Fit with a quartic\n",
    "az_fit = np.polyfit(times, az_vals, 4)\n",
    "el_fit = np.polyfit(times, el_vals, 4)\n",
    "\n",
    "az_model = az_fit[0] * times * times * times * times + az_fit[1] * times * times * times \\\n",
    "    + az_fit[2] * times *times + az_fit[3] * times + az_fit[4]\n",
    "el_model = el_fit[0] * times * times * times * times + el_fit[1] * times * times * times \\\n",
    "    + el_fit[2] * times * times + el_fit[3] * times + el_fit[4]\n",
    "\n",
    "# Errors in arcseconds\n",
    "az_error = (az_vals - az_model) * 3600\n",
    "el_error = (el_vals - el_model) * 3600\n",
    "\n",
    "# Calculate RMS\n",
    "az_rms = np.sqrt(np.mean(az_error * az_error))\n",
    "el_rms = np.sqrt(np.mean(el_error * el_error))"
   ]
  },
  {
   "cell_type": "code",
   "execution_count": null,
   "metadata": {},
   "outputs": [],
   "source": [
    "# Plot it\n",
    "fig = plt.figure(figsize = (8,8))\n",
    "plt.subplots_adjust(wspace=0.5, hspace=0.5)\n",
    "plt.suptitle(f\"Mount Tracking Az Error 20220103\\nStarting Az=0, Starting El=60\", fontsize = 18)\n",
    "plt.subplot(2,2,1)\n",
    "ax1 = az['azimuthCalculatedAngle'].plot(legend=True, color='red')\n",
    "ax1.set_ylabel(\"Degrees\")\n",
    "plt.subplot(2,2,2)\n",
    "ax3 = el['elevationCalculatedAngle'].plot(legend=True, color='green')\n",
    "ax3.set_ylabel(\"Degrees\")\n",
    "\n",
    "plt.subplot(2,2,3)\n",
    "plt.plot(times, az_error, color='red')\n",
    "plt.title(f\"Azimuth RMS error = {az_rms:.2f} arcseconds\")\n",
    "plt.ylim(-10.0,10.0)\n",
    "plt.xticks([])\n",
    "plt.ylabel(\"ArcSeconds\")\n",
    "plt.subplot(2,2,4)\n",
    "plt.plot(times, el_error, color='green')\n",
    "plt.title(f\"Elevation RMS error = {el_rms:.2f} arcseconds\")\n",
    "plt.ylim(-10.0,10.0)\n",
    "plt.xticks([])\n",
    "plt.ylabel(\"ArcSeconds\")\n",
    "plt.savefig(f\"./Az_Error_Debug_1_1Mar22_az0el60.pdf\")"
   ]
  },
  {
   "cell_type": "markdown",
   "metadata": {},
   "source": [
    "# EL 50 "
   ]
  },
  {
   "cell_type": "code",
   "execution_count": null,
   "metadata": {},
   "outputs": [],
   "source": [
    "# Blow up the first two minutes to look at the periodic error\n",
    "tstart = Time(\"2022-03-01T19:43:00\", scale='utc')\n",
    "tend = Time(\"2022-03-01T19:45:00\", scale='utc')\n",
    "az = await client.select_packed_time_series(\"lsst.sal.ATMCS.mount_AzEl_Encoders\", \"azimuthCalculatedAngle\",  tstart, tend)\n",
    "el = await client.select_packed_time_series(\"lsst.sal.ATMCS.mount_AzEl_Encoders\", \"elevationCalculatedAngle\",  tstart, tend)\n"
   ]
  },
  {
   "cell_type": "code",
   "execution_count": null,
   "metadata": {},
   "outputs": [],
   "source": [
    "# Calculate the tracking errors\n",
    "az_vals = np.array(az.values.tolist())[:,0]\n",
    "el_vals = np.array(el.values.tolist())[:,0]\n",
    "times = np.array(az.values.tolist())[:,1]\n",
    "times = times - times [0]\n",
    "\n",
    "# Fit with a quartic\n",
    "az_fit = np.polyfit(times, az_vals, 4)\n",
    "el_fit = np.polyfit(times, el_vals, 4)\n",
    "\n",
    "az_model = az_fit[0] * times * times * times * times + az_fit[1] * times * times * times \\\n",
    "    + az_fit[2] * times *times + az_fit[3] * times + az_fit[4]\n",
    "el_model = el_fit[0] * times * times * times * times + el_fit[1] * times * times * times \\\n",
    "    + el_fit[2] * times * times + el_fit[3] * times + el_fit[4]\n",
    "\n",
    "# Errors in arcseconds\n",
    "az_error = (az_vals - az_model) * 3600\n",
    "el_error = (el_vals - el_model) * 3600\n",
    "\n",
    "# Calculate RMS\n",
    "az_rms = np.sqrt(np.mean(az_error * az_error))\n",
    "el_rms = np.sqrt(np.mean(el_error * el_error))"
   ]
  },
  {
   "cell_type": "code",
   "execution_count": null,
   "metadata": {},
   "outputs": [],
   "source": [
    "# Plot it\n",
    "fig = plt.figure(figsize = (8,8))\n",
    "plt.subplots_adjust(wspace=0.5, hspace=0.5)\n",
    "plt.suptitle(f\"Mount Tracking Az Error 20220103\\nStarting Az=0, Starting El=50\", fontsize = 18)\n",
    "plt.subplot(2,2,1)\n",
    "ax1 = az['azimuthCalculatedAngle'].plot(legend=True, color='red')\n",
    "ax1.set_ylabel(\"Degrees\")\n",
    "plt.subplot(2,2,2)\n",
    "ax3 = el['elevationCalculatedAngle'].plot(legend=True, color='green')\n",
    "ax3.set_ylabel(\"Degrees\")\n",
    "\n",
    "plt.subplot(2,2,3)\n",
    "plt.plot(times, az_error, color='red')\n",
    "plt.title(f\"Azimuth RMS error = {az_rms:.2f} arcseconds\")\n",
    "plt.ylim(-10.0,10.0)\n",
    "plt.xticks([])\n",
    "plt.ylabel(\"ArcSeconds\")\n",
    "plt.subplot(2,2,4)\n",
    "plt.plot(times, el_error, color='green')\n",
    "plt.title(f\"Elevation RMS error = {el_rms:.2f} arcseconds\")\n",
    "plt.ylim(-10.0,10.0)\n",
    "plt.xticks([])\n",
    "plt.ylabel(\"ArcSeconds\")\n",
    "plt.savefig(f\"./Az_Error_Debug_1_1Mar22_az0el50.pdf\")"
   ]
  },
  {
   "cell_type": "markdown",
   "metadata": {},
   "source": [
    "# El 40 "
   ]
  },
  {
   "cell_type": "code",
   "execution_count": null,
   "metadata": {},
   "outputs": [],
   "source": [
    "# Blow up the first two minutes to look at the periodic error\n",
    "tstart = Time(\"2022-03-01T19:48:00\", scale='utc')\n",
    "tend = Time(\"2022-03-01T19:50:00\", scale='utc')\n",
    "az = await client.select_packed_time_series(\"lsst.sal.ATMCS.mount_AzEl_Encoders\", \"azimuthCalculatedAngle\",  tstart, tend)\n",
    "el = await client.select_packed_time_series(\"lsst.sal.ATMCS.mount_AzEl_Encoders\", \"elevationCalculatedAngle\",  tstart, tend)\n"
   ]
  },
  {
   "cell_type": "code",
   "execution_count": null,
   "metadata": {},
   "outputs": [],
   "source": [
    "# Calculate the tracking errors\n",
    "az_vals = np.array(az.values.tolist())[:,0]\n",
    "el_vals = np.array(el.values.tolist())[:,0]\n",
    "times = np.array(az.values.tolist())[:,1]\n",
    "times = times - times [0]\n",
    "\n",
    "# Fit with a quartic\n",
    "az_fit = np.polyfit(times, az_vals, 4)\n",
    "el_fit = np.polyfit(times, el_vals, 4)\n",
    "\n",
    "az_model = az_fit[0] * times * times * times * times + az_fit[1] * times * times * times \\\n",
    "    + az_fit[2] * times *times + az_fit[3] * times + az_fit[4]\n",
    "el_model = el_fit[0] * times * times * times * times + el_fit[1] * times * times * times \\\n",
    "    + el_fit[2] * times * times + el_fit[3] * times + el_fit[4]\n",
    "\n",
    "# Errors in arcseconds\n",
    "az_error = (az_vals - az_model) * 3600\n",
    "el_error = (el_vals - el_model) * 3600\n",
    "\n",
    "# Calculate RMS\n",
    "az_rms = np.sqrt(np.mean(az_error * az_error))\n",
    "el_rms = np.sqrt(np.mean(el_error * el_error))"
   ]
  },
  {
   "cell_type": "code",
   "execution_count": null,
   "metadata": {},
   "outputs": [],
   "source": [
    "# Plot it\n",
    "fig = plt.figure(figsize = (8,8))\n",
    "plt.subplots_adjust(wspace=0.5, hspace=0.5)\n",
    "plt.suptitle(f\"Mount Tracking Az Error 20220103\\nStarting Az=0, Starting El=40\", fontsize = 18)\n",
    "plt.subplot(2,2,1)\n",
    "ax1 = az['azimuthCalculatedAngle'].plot(legend=True, color='red')\n",
    "ax1.set_ylabel(\"Degrees\")\n",
    "plt.subplot(2,2,2)\n",
    "ax3 = el['elevationCalculatedAngle'].plot(legend=True, color='green')\n",
    "ax3.set_ylabel(\"Degrees\")\n",
    "\n",
    "plt.subplot(2,2,3)\n",
    "plt.plot(times, az_error, color='red')\n",
    "plt.title(f\"Azimuth RMS error = {az_rms:.2f} arcseconds\")\n",
    "plt.ylim(-10.0,10.0)\n",
    "plt.xticks([])\n",
    "plt.ylabel(\"ArcSeconds\")\n",
    "plt.subplot(2,2,4)\n",
    "plt.plot(times, el_error, color='green')\n",
    "plt.title(f\"Elevation RMS error = {el_rms:.2f} arcseconds\")\n",
    "plt.ylim(-10.0,10.0)\n",
    "plt.xticks([])\n",
    "plt.ylabel(\"ArcSeconds\")\n",
    "plt.savefig(f\"./Az_Error_Debug_1_1Mar22_az0el40.pdf\")"
   ]
  },
  {
   "cell_type": "markdown",
   "metadata": {},
   "source": [
    "# El 25"
   ]
  },
  {
   "cell_type": "code",
   "execution_count": null,
   "metadata": {},
   "outputs": [],
   "source": [
    "# Blow up the first two minutes to look at the periodic error\n",
    "tstart = Time(\"2022-03-01T19:53:00\", scale='utc')\n",
    "tend = Time(\"2022-03-01T19:55:00\", scale='utc')\n",
    "az = await client.select_packed_time_series(\"lsst.sal.ATMCS.mount_AzEl_Encoders\", \"azimuthCalculatedAngle\",  tstart, tend)\n",
    "el = await client.select_packed_time_series(\"lsst.sal.ATMCS.mount_AzEl_Encoders\", \"elevationCalculatedAngle\",  tstart, tend)\n"
   ]
  },
  {
   "cell_type": "code",
   "execution_count": null,
   "metadata": {},
   "outputs": [],
   "source": [
    "# Calculate the tracking errors\n",
    "az_vals = np.array(az.values.tolist())[:,0]\n",
    "el_vals = np.array(el.values.tolist())[:,0]\n",
    "times = np.array(az.values.tolist())[:,1]\n",
    "times = times - times [0]\n",
    "\n",
    "# Fit with a quartic\n",
    "az_fit = np.polyfit(times, az_vals, 4)\n",
    "el_fit = np.polyfit(times, el_vals, 4)\n",
    "\n",
    "az_model = az_fit[0] * times * times * times * times + az_fit[1] * times * times * times \\\n",
    "    + az_fit[2] * times *times + az_fit[3] * times + az_fit[4]\n",
    "el_model = el_fit[0] * times * times * times * times + el_fit[1] * times * times * times \\\n",
    "    + el_fit[2] * times * times + el_fit[3] * times + el_fit[4]\n",
    "\n",
    "# Errors in arcseconds\n",
    "az_error = (az_vals - az_model) * 3600\n",
    "el_error = (el_vals - el_model) * 3600\n",
    "\n",
    "# Calculate RMS\n",
    "az_rms = np.sqrt(np.mean(az_error * az_error))\n",
    "el_rms = np.sqrt(np.mean(el_error * el_error))"
   ]
  },
  {
   "cell_type": "code",
   "execution_count": null,
   "metadata": {},
   "outputs": [],
   "source": [
    "# Plot it\n",
    "fig = plt.figure(figsize = (8,8))\n",
    "plt.subplots_adjust(wspace=0.5, hspace=0.5)\n",
    "plt.suptitle(f\"Mount Tracking Az Error 20220301\\nStarting Az=0, Starting El=25\", fontsize = 18)\n",
    "plt.subplot(2,2,1)\n",
    "ax1 = az['azimuthCalculatedAngle'].plot(legend=True, color='red')\n",
    "ax1.set_ylabel(\"Degrees\")\n",
    "plt.subplot(2,2,2)\n",
    "ax3 = el['elevationCalculatedAngle'].plot(legend=True, color='green')\n",
    "ax3.set_ylabel(\"Degrees\")\n",
    "\n",
    "plt.subplot(2,2,3)\n",
    "plt.plot(times, az_error, color='red')\n",
    "plt.title(f\"Azimuth RMS error = {az_rms:.2f} arcseconds\")\n",
    "plt.ylim(-10.0,10.0)\n",
    "plt.xticks([])\n",
    "plt.ylabel(\"ArcSeconds\")\n",
    "plt.subplot(2,2,4)\n",
    "plt.plot(times, el_error, color='green')\n",
    "plt.title(f\"Elevation RMS error = {el_rms:.2f} arcseconds\")\n",
    "plt.ylim(-10.0,10.0)\n",
    "plt.xticks([])\n",
    "plt.ylabel(\"ArcSeconds\")\n",
    "plt.savefig(f\"./Az_Error_Debug_1_1Mar22_az0el25.pdf\")"
   ]
  },
  {
   "cell_type": "markdown",
   "metadata": {},
   "source": [
    "# EL 80 Back to 80"
   ]
  },
  {
   "cell_type": "code",
   "execution_count": null,
   "metadata": {},
   "outputs": [],
   "source": [
    "# Blow up the first two minutes to look at the periodic error\n",
    "tstart = Time(\"2022-03-01T19:59:30\", scale='utc')\n",
    "tend = Time(\"2022-03-01T20:01:30\", scale='utc')\n",
    "az = await client.select_packed_time_series(\"lsst.sal.ATMCS.mount_AzEl_Encoders\", \"azimuthCalculatedAngle\",  tstart, tend)\n",
    "el = await client.select_packed_time_series(\"lsst.sal.ATMCS.mount_AzEl_Encoders\", \"elevationCalculatedAngle\",  tstart, tend)\n"
   ]
  },
  {
   "cell_type": "code",
   "execution_count": null,
   "metadata": {},
   "outputs": [],
   "source": [
    "# Calculate the tracking errors\n",
    "az_vals = np.array(az.values.tolist())[:,0]\n",
    "el_vals = np.array(el.values.tolist())[:,0]\n",
    "times = np.array(az.values.tolist())[:,1]\n",
    "times = times - times [0]\n",
    "\n",
    "# Fit with a quartic\n",
    "az_fit = np.polyfit(times, az_vals, 4)\n",
    "el_fit = np.polyfit(times, el_vals, 4)\n",
    "\n",
    "az_model = az_fit[0] * times * times * times * times + az_fit[1] * times * times * times \\\n",
    "    + az_fit[2] * times *times + az_fit[3] * times + az_fit[4]\n",
    "el_model = el_fit[0] * times * times * times * times + el_fit[1] * times * times * times \\\n",
    "    + el_fit[2] * times * times + el_fit[3] * times + el_fit[4]\n",
    "\n",
    "# Errors in arcseconds\n",
    "az_error = (az_vals - az_model) * 3600\n",
    "el_error = (el_vals - el_model) * 3600\n",
    "\n",
    "# Calculate RMS\n",
    "az_rms = np.sqrt(np.mean(az_error * az_error))\n",
    "el_rms = np.sqrt(np.mean(el_error * el_error))"
   ]
  },
  {
   "cell_type": "code",
   "execution_count": null,
   "metadata": {},
   "outputs": [],
   "source": [
    "# Plot it\n",
    "fig = plt.figure(figsize = (8,8))\n",
    "plt.subplots_adjust(wspace=0.5, hspace=0.5)\n",
    "plt.suptitle(f\"Mount Tracking Az Error 20220301\\Back to Az=0, Starting El=80\", fontsize = 18)\n",
    "plt.subplot(2,2,1)\n",
    "ax1 = az['azimuthCalculatedAngle'].plot(legend=True, color='red')\n",
    "ax1.set_ylabel(\"Degrees\")\n",
    "plt.subplot(2,2,2)\n",
    "ax3 = el['elevationCalculatedAngle'].plot(legend=True, color='green')\n",
    "ax3.set_ylabel(\"Degrees\")\n",
    "\n",
    "plt.subplot(2,2,3)\n",
    "plt.plot(times, az_error, color='red')\n",
    "plt.title(f\"Azimuth RMS error = {az_rms:.2f} arcseconds\")\n",
    "plt.ylim(-10.0,10.0)\n",
    "plt.xticks([])\n",
    "plt.ylabel(\"ArcSeconds\")\n",
    "plt.subplot(2,2,4)\n",
    "plt.plot(times, el_error, color='green')\n",
    "plt.title(f\"Elevation RMS error = {el_rms:.2f} arcseconds\")\n",
    "plt.ylim(-10.0,10.0)\n",
    "plt.xticks([])\n",
    "plt.ylabel(\"ArcSeconds\")\n",
    "plt.savefig(f\"./Az_Error_Debug_1_1Mar22_az0el80_Backto.pdf\")"
   ]
  },
  {
   "cell_type": "markdown",
   "metadata": {},
   "source": [
    "# Modifying azimuths Az = 10, EL = 80 "
   ]
  },
  {
   "cell_type": "code",
   "execution_count": null,
   "metadata": {},
   "outputs": [],
   "source": [
    "# Blow up the first two minutes to look at the periodic error\n",
    "tstart = Time(\"2022-03-01T20:04:00\", scale='utc')\n",
    "tend = Time(\"2022-03-01T20:06:00\", scale='utc')\n",
    "az = await client.select_packed_time_series(\"lsst.sal.ATMCS.mount_AzEl_Encoders\", \"azimuthCalculatedAngle\",  tstart, tend)\n",
    "el = await client.select_packed_time_series(\"lsst.sal.ATMCS.mount_AzEl_Encoders\", \"elevationCalculatedAngle\",  tstart, tend)\n"
   ]
  },
  {
   "cell_type": "code",
   "execution_count": null,
   "metadata": {},
   "outputs": [],
   "source": [
    "# Calculate the tracking errors\n",
    "az_vals = np.array(az.values.tolist())[:,0]\n",
    "el_vals = np.array(el.values.tolist())[:,0]\n",
    "times = np.array(az.values.tolist())[:,1]\n",
    "times = times - times [0]\n",
    "\n",
    "# Fit with a quartic\n",
    "az_fit = np.polyfit(times, az_vals, 4)\n",
    "el_fit = np.polyfit(times, el_vals, 4)\n",
    "\n",
    "az_model = az_fit[0] * times * times * times * times + az_fit[1] * times * times * times \\\n",
    "    + az_fit[2] * times *times + az_fit[3] * times + az_fit[4]\n",
    "el_model = el_fit[0] * times * times * times * times + el_fit[1] * times * times * times \\\n",
    "    + el_fit[2] * times * times + el_fit[3] * times + el_fit[4]\n",
    "\n",
    "# Errors in arcseconds\n",
    "az_error = (az_vals - az_model) * 3600\n",
    "el_error = (el_vals - el_model) * 3600\n",
    "\n",
    "# Calculate RMS\n",
    "az_rms = np.sqrt(np.mean(az_error * az_error))\n",
    "el_rms = np.sqrt(np.mean(el_error * el_error))"
   ]
  },
  {
   "cell_type": "code",
   "execution_count": null,
   "metadata": {},
   "outputs": [],
   "source": [
    "# Plot it\n",
    "fig = plt.figure(figsize = (8,8))\n",
    "plt.subplots_adjust(wspace=0.5, hspace=0.5)\n",
    "plt.suptitle(f\"Mount Tracking Az Error 20220301\\nStarting Az=10, Starting El=80\", fontsize = 18)\n",
    "plt.subplot(2,2,1)\n",
    "ax1 = az['azimuthCalculatedAngle'].plot(legend=True, color='red')\n",
    "ax1.set_ylabel(\"Degrees\")\n",
    "plt.subplot(2,2,2)\n",
    "ax3 = el['elevationCalculatedAngle'].plot(legend=True, color='green')\n",
    "ax3.set_ylabel(\"Degrees\")\n",
    "\n",
    "plt.subplot(2,2,3)\n",
    "plt.plot(times, az_error, color='red')\n",
    "plt.title(f\"Azimuth RMS error = {az_rms:.2f} arcseconds\")\n",
    "plt.ylim(-10.0,10.0)\n",
    "plt.xticks([])\n",
    "plt.ylabel(\"ArcSeconds\")\n",
    "plt.subplot(2,2,4)\n",
    "plt.plot(times, el_error, color='green')\n",
    "plt.title(f\"Elevation RMS error = {el_rms:.2f} arcseconds\")\n",
    "plt.ylim(-10.0,10.0)\n",
    "plt.xticks([])\n",
    "plt.ylabel(\"ArcSeconds\")\n",
    "plt.savefig(f\"./Az_Error_Debug_1_1Mar22_az10el80.pdf\")"
   ]
  },
  {
   "cell_type": "markdown",
   "metadata": {},
   "source": [
    "# Az = 20 , EL = 80"
   ]
  },
  {
   "cell_type": "code",
   "execution_count": null,
   "metadata": {},
   "outputs": [],
   "source": [
    "# Blow up the first two minutes to look at the periodic error\n",
    "tstart = Time(\"2022-03-01T20:09:00\", scale='utc')\n",
    "tend = Time(\"2022-03-01T20:11:00\", scale='utc')\n",
    "az = await client.select_packed_time_series(\"lsst.sal.ATMCS.mount_AzEl_Encoders\", \"azimuthCalculatedAngle\",  tstart, tend)\n",
    "el = await client.select_packed_time_series(\"lsst.sal.ATMCS.mount_AzEl_Encoders\", \"elevationCalculatedAngle\",  tstart, tend)\n"
   ]
  },
  {
   "cell_type": "code",
   "execution_count": null,
   "metadata": {},
   "outputs": [],
   "source": [
    "# Calculate the tracking errors\n",
    "az_vals = np.array(az.values.tolist())[:,0]\n",
    "el_vals = np.array(el.values.tolist())[:,0]\n",
    "times = np.array(az.values.tolist())[:,1]\n",
    "times = times - times [0]\n",
    "\n",
    "# Fit with a quartic\n",
    "az_fit = np.polyfit(times, az_vals, 4)\n",
    "el_fit = np.polyfit(times, el_vals, 4)\n",
    "\n",
    "az_model = az_fit[0] * times * times * times * times + az_fit[1] * times * times * times \\\n",
    "    + az_fit[2] * times *times + az_fit[3] * times + az_fit[4]\n",
    "el_model = el_fit[0] * times * times * times * times + el_fit[1] * times * times * times \\\n",
    "    + el_fit[2] * times * times + el_fit[3] * times + el_fit[4]\n",
    "\n",
    "# Errors in arcseconds\n",
    "az_error = (az_vals - az_model) * 3600\n",
    "el_error = (el_vals - el_model) * 3600\n",
    "\n",
    "# Calculate RMS\n",
    "az_rms = np.sqrt(np.mean(az_error * az_error))\n",
    "el_rms = np.sqrt(np.mean(el_error * el_error))"
   ]
  },
  {
   "cell_type": "code",
   "execution_count": null,
   "metadata": {},
   "outputs": [],
   "source": [
    "# Plot it\n",
    "fig = plt.figure(figsize = (8,8))\n",
    "plt.subplots_adjust(wspace=0.5, hspace=0.5)\n",
    "plt.suptitle(f\"Mount Tracking Az Error 20220224\\nStarting Az=20, Starting El=80\", fontsize = 18)\n",
    "plt.subplot(2,2,1)\n",
    "ax1 = az['azimuthCalculatedAngle'].plot(legend=True, color='red')\n",
    "ax1.set_ylabel(\"Degrees\")\n",
    "plt.subplot(2,2,2)\n",
    "ax3 = el['elevationCalculatedAngle'].plot(legend=True, color='green')\n",
    "ax3.set_ylabel(\"Degrees\")\n",
    "\n",
    "plt.subplot(2,2,3)\n",
    "plt.plot(times, az_error, color='red')\n",
    "plt.title(f\"Azimuth RMS error = {az_rms:.2f} arcseconds\")\n",
    "plt.ylim(-10.0,10.0)\n",
    "plt.xticks([])\n",
    "plt.ylabel(\"ArcSeconds\")\n",
    "plt.subplot(2,2,4)\n",
    "plt.plot(times, el_error, color='green')\n",
    "plt.title(f\"Elevation RMS error = {el_rms:.2f} arcseconds\")\n",
    "plt.ylim(-10.0,10.0)\n",
    "plt.xticks([])\n",
    "plt.ylabel(\"ArcSeconds\")\n",
    "plt.savefig(f\"./Az_Error_Debug_1_1Mar22_az20el80.pdf\")"
   ]
  },
  {
   "cell_type": "markdown",
   "metadata": {},
   "source": [
    "# Az = 30 , EL = 80"
   ]
  },
  {
   "cell_type": "code",
   "execution_count": null,
   "metadata": {},
   "outputs": [],
   "source": [
    "# Blow up the first two minutes to look at the periodic error\n",
    "tstart = Time(\"2022-03-01T20:14:30\", scale='utc')\n",
    "tend = Time(\"2022-03-01T20:16:30\", scale='utc')\n",
    "az = await client.select_packed_time_series(\"lsst.sal.ATMCS.mount_AzEl_Encoders\", \"azimuthCalculatedAngle\",  tstart, tend)\n",
    "el = await client.select_packed_time_series(\"lsst.sal.ATMCS.mount_AzEl_Encoders\", \"elevationCalculatedAngle\",  tstart, tend)\n"
   ]
  },
  {
   "cell_type": "code",
   "execution_count": null,
   "metadata": {},
   "outputs": [],
   "source": [
    "# Calculate the tracking errors\n",
    "az_vals = np.array(az.values.tolist())[:,0]\n",
    "el_vals = np.array(el.values.tolist())[:,0]\n",
    "times = np.array(az.values.tolist())[:,1]\n",
    "times = times - times [0]\n",
    "\n",
    "# Fit with a quartic\n",
    "az_fit = np.polyfit(times, az_vals, 4)\n",
    "el_fit = np.polyfit(times, el_vals, 4)\n",
    "\n",
    "az_model = az_fit[0] * times * times * times * times + az_fit[1] * times * times * times \\\n",
    "    + az_fit[2] * times *times + az_fit[3] * times + az_fit[4]\n",
    "el_model = el_fit[0] * times * times * times * times + el_fit[1] * times * times * times \\\n",
    "    + el_fit[2] * times * times + el_fit[3] * times + el_fit[4]\n",
    "\n",
    "# Errors in arcseconds\n",
    "az_error = (az_vals - az_model) * 3600\n",
    "el_error = (el_vals - el_model) * 3600\n",
    "\n",
    "# Calculate RMS\n",
    "az_rms = np.sqrt(np.mean(az_error * az_error))\n",
    "el_rms = np.sqrt(np.mean(el_error * el_error))"
   ]
  },
  {
   "cell_type": "code",
   "execution_count": null,
   "metadata": {},
   "outputs": [],
   "source": [
    "# Plot it\n",
    "fig = plt.figure(figsize = (8,8))\n",
    "plt.subplots_adjust(wspace=0.5, hspace=0.5)\n",
    "plt.suptitle(f\"Mount Tracking Az Error 20220103\\nStarting Az=30, Starting El=80\", fontsize = 18)\n",
    "plt.subplot(2,2,1)\n",
    "ax1 = az['azimuthCalculatedAngle'].plot(legend=True, color='red')\n",
    "ax1.set_ylabel(\"Degrees\")\n",
    "plt.subplot(2,2,2)\n",
    "ax3 = el['elevationCalculatedAngle'].plot(legend=True, color='green')\n",
    "ax3.set_ylabel(\"Degrees\")\n",
    "\n",
    "plt.subplot(2,2,3)\n",
    "plt.plot(times, az_error, color='red')\n",
    "plt.title(f\"Azimuth RMS error = {az_rms:.2f} arcseconds\")\n",
    "plt.ylim(-10.0,10.0)\n",
    "plt.xticks([])\n",
    "plt.ylabel(\"ArcSeconds\")\n",
    "plt.subplot(2,2,4)\n",
    "plt.plot(times, el_error, color='green')\n",
    "plt.title(f\"Elevation RMS error = {el_rms:.2f} arcseconds\")\n",
    "plt.ylim(-10.0,10.0)\n",
    "plt.xticks([])\n",
    "plt.ylabel(\"ArcSeconds\")\n",
    "plt.savefig(f\"./Az_Error_Debug_1_1Mar22_az30el80.pdf\")"
   ]
  },
  {
   "cell_type": "code",
   "execution_count": null,
   "metadata": {},
   "outputs": [],
   "source": []
  },
  {
   "cell_type": "markdown",
   "metadata": {},
   "source": [
    "# Az = 45 , EL = 80"
   ]
  },
  {
   "cell_type": "code",
   "execution_count": null,
   "metadata": {},
   "outputs": [],
   "source": [
    "# Blow up the first two minutes to look at the periodic error\n",
    "tstart = Time(\"2022-03-01T20:19:30\", scale='utc')\n",
    "tend = Time(\"2022-03-01T20:21:30\", scale='utc')\n",
    "az = await client.select_packed_time_series(\"lsst.sal.ATMCS.mount_AzEl_Encoders\", \"azimuthCalculatedAngle\",  tstart, tend)\n",
    "el = await client.select_packed_time_series(\"lsst.sal.ATMCS.mount_AzEl_Encoders\", \"elevationCalculatedAngle\",  tstart, tend)\n"
   ]
  },
  {
   "cell_type": "code",
   "execution_count": null,
   "metadata": {},
   "outputs": [],
   "source": [
    "# Calculate the tracking errors\n",
    "az_vals = np.array(az.values.tolist())[:,0]\n",
    "el_vals = np.array(el.values.tolist())[:,0]\n",
    "times = np.array(az.values.tolist())[:,1]\n",
    "times = times - times [0]\n",
    "\n",
    "# Fit with a quartic\n",
    "az_fit = np.polyfit(times, az_vals, 4)\n",
    "el_fit = np.polyfit(times, el_vals, 4)\n",
    "\n",
    "az_model = az_fit[0] * times * times * times * times + az_fit[1] * times * times * times \\\n",
    "    + az_fit[2] * times *times + az_fit[3] * times + az_fit[4]\n",
    "el_model = el_fit[0] * times * times * times * times + el_fit[1] * times * times * times \\\n",
    "    + el_fit[2] * times * times + el_fit[3] * times + el_fit[4]\n",
    "\n",
    "# Errors in arcseconds\n",
    "az_error = (az_vals - az_model) * 3600\n",
    "el_error = (el_vals - el_model) * 3600\n",
    "\n",
    "# Calculate RMS\n",
    "az_rms = np.sqrt(np.mean(az_error * az_error))\n",
    "el_rms = np.sqrt(np.mean(el_error * el_error))"
   ]
  },
  {
   "cell_type": "code",
   "execution_count": null,
   "metadata": {},
   "outputs": [],
   "source": [
    "# Plot it\n",
    "fig = plt.figure(figsize = (8,8))\n",
    "plt.subplots_adjust(wspace=0.5, hspace=0.5)\n",
    "plt.suptitle(f\"Mount Tracking Az Error 20220103\\nStarting Az=45, Starting El=80\", fontsize = 18)\n",
    "plt.subplot(2,2,1)\n",
    "ax1 = az['azimuthCalculatedAngle'].plot(legend=True, color='red')\n",
    "ax1.set_ylabel(\"Degrees\")\n",
    "plt.subplot(2,2,2)\n",
    "ax3 = el['elevationCalculatedAngle'].plot(legend=True, color='green')\n",
    "ax3.set_ylabel(\"Degrees\")\n",
    "\n",
    "plt.subplot(2,2,3)\n",
    "plt.plot(times, az_error, color='red')\n",
    "plt.title(f\"Azimuth RMS error = {az_rms:.2f} arcseconds\")\n",
    "plt.ylim(-10.0,10.0)\n",
    "plt.xticks([])\n",
    "plt.ylabel(\"ArcSeconds\")\n",
    "plt.subplot(2,2,4)\n",
    "plt.plot(times, el_error, color='green')\n",
    "plt.title(f\"Elevation RMS error = {el_rms:.2f} arcseconds\")\n",
    "plt.ylim(-10.0,10.0)\n",
    "plt.xticks([])\n",
    "plt.ylabel(\"ArcSeconds\")\n",
    "plt.savefig(f\"./Az_Error_Debug_1_1Mar22_az45el80.pdf\")"
   ]
  },
  {
   "cell_type": "code",
   "execution_count": null,
   "metadata": {},
   "outputs": [],
   "source": []
  },
  {
   "cell_type": "code",
   "execution_count": null,
   "metadata": {},
   "outputs": [],
   "source": []
  },
  {
   "cell_type": "markdown",
   "metadata": {},
   "source": [
    "# Az = 60 , EL = 80"
   ]
  },
  {
   "cell_type": "code",
   "execution_count": null,
   "metadata": {},
   "outputs": [],
   "source": [
    "# Blow up the first two minutes to look at the periodic error\n",
    "tstart = Time(\"2022-03-01T20:24:30\", scale='utc')\n",
    "tend = Time(\"2022-03-01T20:25:10\", scale='utc')\n",
    "az = await client.select_packed_time_series(\"lsst.sal.ATMCS.mount_AzEl_Encoders\", \"azimuthCalculatedAngle\",  tstart, tend)\n",
    "el = await client.select_packed_time_series(\"lsst.sal.ATMCS.mount_AzEl_Encoders\", \"elevationCalculatedAngle\",  tstart, tend)\n"
   ]
  },
  {
   "cell_type": "code",
   "execution_count": null,
   "metadata": {},
   "outputs": [],
   "source": [
    "# Calculate the tracking errors\n",
    "az_vals = np.array(az.values.tolist())[:,0]\n",
    "el_vals = np.array(el.values.tolist())[:,0]\n",
    "times = np.array(az.values.tolist())[:,1]\n",
    "times = times - times [0]\n",
    "\n",
    "# Fit with a quartic\n",
    "az_fit = np.polyfit(times, az_vals, 4)\n",
    "el_fit = np.polyfit(times, el_vals, 4)\n",
    "\n",
    "az_model = az_fit[0] * times * times * times * times + az_fit[1] * times * times * times \\\n",
    "    + az_fit[2] * times *times + az_fit[3] * times + az_fit[4]\n",
    "el_model = el_fit[0] * times * times * times * times + el_fit[1] * times * times * times \\\n",
    "    + el_fit[2] * times * times + el_fit[3] * times + el_fit[4]\n",
    "\n",
    "# Errors in arcseconds\n",
    "az_error = (az_vals - az_model) * 3600\n",
    "el_error = (el_vals - el_model) * 3600\n",
    "\n",
    "# Calculate RMS\n",
    "az_rms = np.sqrt(np.mean(az_error * az_error))\n",
    "el_rms = np.sqrt(np.mean(el_error * el_error))"
   ]
  },
  {
   "cell_type": "code",
   "execution_count": null,
   "metadata": {},
   "outputs": [],
   "source": [
    "# Plot it\n",
    "fig = plt.figure(figsize = (8,8))\n",
    "plt.subplots_adjust(wspace=0.5, hspace=0.5)\n",
    "plt.suptitle(f\"Mount Tracking Az Error 20220103\\nStarting Az=60, Starting El=80\", fontsize = 18)\n",
    "plt.subplot(2,2,1)\n",
    "ax1 = az['azimuthCalculatedAngle'].plot(legend=True, color='red')\n",
    "ax1.set_ylabel(\"Degrees\")\n",
    "plt.subplot(2,2,2)\n",
    "ax3 = el['elevationCalculatedAngle'].plot(legend=True, color='green')\n",
    "ax3.set_ylabel(\"Degrees\")\n",
    "\n",
    "plt.subplot(2,2,3)\n",
    "plt.plot(times, az_error, color='red')\n",
    "plt.title(f\"Azimuth RMS error = {az_rms:.2f} arcseconds\")\n",
    "plt.ylim(-10.0,10.0)\n",
    "plt.xticks([])\n",
    "plt.ylabel(\"ArcSeconds\")\n",
    "plt.subplot(2,2,4)\n",
    "plt.plot(times, el_error, color='green')\n",
    "plt.title(f\"Elevation RMS error = {el_rms:.2f} arcseconds\")\n",
    "plt.ylim(-10.0,10.0)\n",
    "plt.xticks([])\n",
    "plt.ylabel(\"ArcSeconds\")\n",
    "plt.savefig(f\"./Az_Error_Debug_1_1Mar22_az60el80.pdf\")"
   ]
  },
  {
   "cell_type": "code",
   "execution_count": null,
   "metadata": {},
   "outputs": [],
   "source": []
  }
 ],
 "metadata": {
  "jupytext": {
   "formats": "ipynb,markdown//md"
  },
  "kernelspec": {
   "display_name": "LSST",
   "language": "python",
   "name": "lsst"
  },
  "language_info": {
   "codemirror_mode": {
    "name": "ipython",
    "version": 3
   },
   "file_extension": ".py",
   "mimetype": "text/x-python",
   "name": "python",
   "nbconvert_exporter": "python",
   "pygments_lexer": "ipython3",
   "version": "3.10.4"
  }
 },
 "nbformat": 4,
 "nbformat_minor": 4
}
