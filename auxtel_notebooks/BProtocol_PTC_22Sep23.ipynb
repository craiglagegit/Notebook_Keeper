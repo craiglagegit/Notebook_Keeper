{
 "cells": [
  {
   "cell_type": "markdown",
   "id": "13d452c7-a9ce-4826-b36d-00370d8d1731",
   "metadata": {},
   "source": [
    "## Calculating AuxTel PTC times for B Protocol PTC run\n",
    "\n",
    "Craig Lage 22Sep23"
   ]
  },
  {
   "cell_type": "code",
   "execution_count": null,
   "id": "25a148b0-4ffe-4a5e-9902-942454ffd47a",
   "metadata": {},
   "outputs": [],
   "source": []
  },
  {
   "cell_type": "code",
   "execution_count": null,
   "id": "6c309f39-18fc-41f3-8a74-78d29cac2543",
   "metadata": {},
   "outputs": [],
   "source": []
  },
  {
   "cell_type": "code",
   "execution_count": null,
   "id": "02bf9f62-bd7c-4494-9ea4-4ba422e63eaf",
   "metadata": {
    "execution": {
     "iopub.execute_input": "2024-02-23T17:25:18.559347Z",
     "iopub.status.busy": "2024-02-23T17:25:18.559033Z",
     "iopub.status.idle": "2024-02-23T17:25:18.800150Z",
     "shell.execute_reply": "2024-02-23T17:25:18.799690Z",
     "shell.execute_reply.started": "2024-02-23T17:25:18.559329Z"
    },
    "tags": []
   },
   "outputs": [],
   "source": [
    "import numpy as np\n",
    "import matplotlib.pyplot as plt\n",
    "import random"
   ]
  },
  {
   "cell_type": "code",
   "execution_count": null,
   "id": "a7cb9916-c9cd-4200-b998-3b115ce23a75",
   "metadata": {
    "execution": {
     "iopub.execute_input": "2023-09-29T16:44:16.584114Z",
     "iopub.status.busy": "2023-09-29T16:44:16.583905Z",
     "iopub.status.idle": "2023-09-29T16:44:16.587472Z",
     "shell.execute_reply": "2023-09-29T16:44:16.587101Z",
     "shell.execute_reply.started": "2023-09-29T16:44:16.584099Z"
    },
    "tags": []
   },
   "outputs": [],
   "source": [
    "ADU_per_sec = 27000.0 / 5.0\n",
    "gain = 1.31\n",
    "\n",
    "minEl = ADU_per_sec * gain * 0.2\n",
    "maxEl = 200000.0\n",
    "nFlats = 30\n",
    "\n",
    "logElectrons = np.linspace(np.log10(minEl), np.log10(maxEl), nFlats)\n",
    "\n",
    "auxtelTimes = []\n",
    "for logEl in logElectrons:\n",
    "    time = 10**logEl / gain / ADU_per_sec\n",
    "    time = round(time * 100.0) / 100.0\n",
    "    auxtelTimes.append(time)\n",
    "#random.shuffle(auxtelTimes)"
   ]
  },
  {
   "cell_type": "code",
   "execution_count": null,
   "id": "9ee7e94a-59c9-4c4d-b8da-d6b74ac8d722",
   "metadata": {
    "execution": {
     "iopub.execute_input": "2023-09-29T16:44:20.216770Z",
     "iopub.status.busy": "2023-09-29T16:44:20.216360Z",
     "iopub.status.idle": "2023-09-29T16:44:20.219436Z",
     "shell.execute_reply": "2023-09-29T16:44:20.219023Z",
     "shell.execute_reply.started": "2023-09-29T16:44:20.216755Z"
    },
    "tags": []
   },
   "outputs": [],
   "source": [
    "print(auxtelTimes)"
   ]
  },
  {
   "cell_type": "code",
   "execution_count": null,
   "id": "9d052b39-e5b8-4ce2-bb2f-3146aa958282",
   "metadata": {
    "execution": {
     "iopub.execute_input": "2023-09-22T17:41:05.958745Z",
     "iopub.status.busy": "2023-09-22T17:41:05.958468Z",
     "iopub.status.idle": "2023-09-22T17:41:05.961344Z",
     "shell.execute_reply": "2023-09-22T17:41:05.961048Z",
     "shell.execute_reply.started": "2023-09-22T17:41:05.958731Z"
    },
    "tags": []
   },
   "outputs": [],
   "source": [
    "totalTime = 0.0\n",
    "for time in auxtelTimes:\n",
    "    totalTime += 2.0 * (time + 3.0)\n",
    "print(f\"Total time = {totalTime / 60.0:.1f} minutes\")"
   ]
  },
  {
   "cell_type": "code",
   "execution_count": null,
   "id": "34435294-a18d-4874-b870-ff93e23c54ee",
   "metadata": {
    "execution": {
     "iopub.execute_input": "2023-09-29T16:51:06.100447Z",
     "iopub.status.busy": "2023-09-29T16:51:06.100274Z",
     "iopub.status.idle": "2023-09-29T16:51:06.256765Z",
     "shell.execute_reply": "2023-09-29T16:51:06.256381Z",
     "shell.execute_reply.started": "2023-09-29T16:51:06.100435Z"
    },
    "tags": []
   },
   "outputs": [],
   "source": [
    "xaxis = np.linspace(1, len(auxtelTimes), len(auxtelTimes))\n",
    "plt.title(\"Proposed B Protocol AuxTel PTC Exposure times\")\n",
    "plt.scatter(xaxis, np.log10(np.array(auxtelTimes)))\n",
    "plt.ylabel(\"Log10 Exposure times (sec)\")\n",
    "plt.xlabel(\"Exposure number (unshuffled)\")\n",
    "plt.savefig(\"/home/c/cslage/u/AuxTel/gains/Proposed_BProtocol_ExpTimes_29Sep23.png\")"
   ]
  },
  {
   "cell_type": "markdown",
   "id": "6afd743b-1007-4f2b-ab75-50d3ce2b5bbe",
   "metadata": {},
   "source": [
    "# Re-do 23Feb24"
   ]
  },
  {
   "cell_type": "code",
   "execution_count": null,
   "id": "c72eb26f-0d9d-4320-bd64-c682e5f308a9",
   "metadata": {
    "execution": {
     "iopub.execute_input": "2024-02-23T18:18:20.847926Z",
     "iopub.status.busy": "2024-02-23T18:18:20.847415Z",
     "iopub.status.idle": "2024-02-23T18:18:20.851155Z",
     "shell.execute_reply": "2024-02-23T18:18:20.850764Z",
     "shell.execute_reply.started": "2024-02-23T18:18:20.847911Z"
    },
    "tags": []
   },
   "outputs": [],
   "source": [
    "ADU_per_sec = 8250 / 6.0\n",
    "gain = 1.31\n",
    "\n",
    "minEl = ADU_per_sec * gain * 0.2\n",
    "maxEl = 200000.0\n",
    "nFlats = 30\n",
    "\n",
    "logElectrons = np.linspace(np.log10(minEl), np.log10(maxEl), nFlats)\n",
    "\n",
    "auxtelTimes = []\n",
    "for logEl in logElectrons:\n",
    "    time = 10**logEl / gain / ADU_per_sec\n",
    "    time = round(time * 100.0) / 100.0\n",
    "    auxtelTimes.append(time)\n",
    "#random.shuffle(auxtelTimes)"
   ]
  },
  {
   "cell_type": "code",
   "execution_count": null,
   "id": "a4b426c2-1b12-4585-afcc-1147df50cba9",
   "metadata": {
    "execution": {
     "iopub.execute_input": "2024-02-23T18:18:22.079609Z",
     "iopub.status.busy": "2024-02-23T18:18:22.079303Z",
     "iopub.status.idle": "2024-02-23T18:18:22.082429Z",
     "shell.execute_reply": "2024-02-23T18:18:22.082038Z",
     "shell.execute_reply.started": "2024-02-23T18:18:22.079595Z"
    },
    "tags": []
   },
   "outputs": [],
   "source": [
    "print(auxtelTimes)"
   ]
  },
  {
   "cell_type": "code",
   "execution_count": null,
   "id": "fa6684a0-16ae-429f-ad6c-09e2a0adbd93",
   "metadata": {
    "execution": {
     "iopub.execute_input": "2024-02-23T18:18:24.539495Z",
     "iopub.status.busy": "2024-02-23T18:18:24.539221Z",
     "iopub.status.idle": "2024-02-23T18:18:24.542341Z",
     "shell.execute_reply": "2024-02-23T18:18:24.541965Z",
     "shell.execute_reply.started": "2024-02-23T18:18:24.539481Z"
    },
    "tags": []
   },
   "outputs": [],
   "source": [
    "totalTime = 0.0\n",
    "for time in auxtelTimes:\n",
    "    totalTime += 2.0 * (time + 3.0)\n",
    "print(f\"Total time = {totalTime / 60.0:.1f} minutes\")"
   ]
  },
  {
   "cell_type": "code",
   "execution_count": null,
   "id": "a66a09fc-9ffc-4757-8fb9-9d9ef57238fe",
   "metadata": {
    "execution": {
     "iopub.execute_input": "2024-02-23T17:25:45.705101Z",
     "iopub.status.busy": "2024-02-23T17:25:45.704809Z",
     "iopub.status.idle": "2024-02-23T17:25:45.875582Z",
     "shell.execute_reply": "2024-02-23T17:25:45.875193Z",
     "shell.execute_reply.started": "2024-02-23T17:25:45.705086Z"
    },
    "tags": []
   },
   "outputs": [],
   "source": [
    "xaxis = np.linspace(1, len(auxtelTimes), len(auxtelTimes))\n",
    "plt.title(\"Proposed B Protocol AuxTel PTC Exposure times\")\n",
    "plt.scatter(xaxis, np.log10(np.array(auxtelTimes)))\n",
    "plt.ylabel(\"Log10 Exposure times (sec)\")\n",
    "plt.xlabel(\"Exposure number (unshuffled)\")\n",
    "plt.savefig(\"/home/c/cslage/u/AuxTel/gains/Proposed_BProtocol_ExpTimes_23Feb24.png\")"
   ]
  },
  {
   "cell_type": "code",
   "execution_count": null,
   "id": "d2acab37-038f-4698-b2a6-0cf8c2b876ac",
   "metadata": {
    "execution": {
     "iopub.execute_input": "2024-02-23T18:18:33.025866Z",
     "iopub.status.busy": "2024-02-23T18:18:33.025581Z",
     "iopub.status.idle": "2024-02-23T18:18:33.028767Z",
     "shell.execute_reply": "2024-02-23T18:18:33.028380Z",
     "shell.execute_reply.started": "2024-02-23T18:18:33.025852Z"
    }
   },
   "outputs": [],
   "source": [
    "random.shuffle(auxtelTimes)\n",
    "for time in auxtelTimes:\n",
    "    print(f\"{time:.2f},\")\n",
    "    print(f\"{time:.2f},\")"
   ]
  },
  {
   "cell_type": "code",
   "execution_count": null,
   "id": "d9924ff8-4848-4953-bb3d-4b91a5fea1f5",
   "metadata": {},
   "outputs": [],
   "source": []
  }
 ],
 "metadata": {
  "kernelspec": {
   "display_name": "LSST",
   "language": "python",
   "name": "lsst"
  },
  "language_info": {
   "codemirror_mode": {
    "name": "ipython",
    "version": 3
   },
   "file_extension": ".py",
   "mimetype": "text/x-python",
   "name": "python",
   "nbconvert_exporter": "python",
   "pygments_lexer": "ipython3",
   "version": "3.11.7"
  }
 },
 "nbformat": 4,
 "nbformat_minor": 5
}
