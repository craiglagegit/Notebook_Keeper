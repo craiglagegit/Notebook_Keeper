{
 "cells": [
  {
   "cell_type": "markdown",
   "id": "e8cc3a14-f377-44f4-ab4c-97c9c3047697",
   "metadata": {},
   "source": [
    "# Why didn't doDefect mask out bad column?\n",
    "Craig Lage 11-Jan-23"
   ]
  },
  {
   "cell_type": "code",
   "execution_count": null,
   "id": "a148b369-8943-4861-a51e-9cbeea70feb3",
   "metadata": {
    "execution": {
     "iopub.execute_input": "2023-01-18T12:54:03.827098Z",
     "iopub.status.busy": "2023-01-18T12:54:03.826700Z",
     "iopub.status.idle": "2023-01-18T12:54:07.454381Z",
     "shell.execute_reply": "2023-01-18T12:54:07.453761Z",
     "shell.execute_reply.started": "2023-01-18T12:54:03.827077Z"
    },
    "tags": []
   },
   "outputs": [],
   "source": [
    "import numpy as np\n",
    "from matplotlib import pyplot as plt\n",
    "\n",
    "from lsst.daf.butler import Butler\n",
    "from lsst.summit.utils import BestEffortIsr\n",
    "import lsst.afw.cameraGeom.utils as camGeomUtils\n",
    "from lsst.ip.isr import IsrTask, IsrTaskConfig\n",
    "from mpl_toolkits.axes_grid1 import make_axes_locatable\n",
    "from matplotlib.colors import LogNorm\n",
    "\n",
    "from lsst.summit.utils import quickSmooth\n",
    "%matplotlib inline\n",
    "\n",
    "from lsst.pipe.tasks.characterizeImage import CharacterizeImageTask\n",
    "from lsst.meas.algorithms.installGaussianPsf import InstallGaussianPsfTask"
   ]
  },
  {
   "cell_type": "code",
   "execution_count": null,
   "id": "7c44dc35-840c-438f-bdba-55b8b1ce5b77",
   "metadata": {
    "execution": {
     "iopub.execute_input": "2023-01-18T12:54:08.268078Z",
     "iopub.status.busy": "2023-01-18T12:54:08.267817Z",
     "iopub.status.idle": "2023-01-18T12:54:08.274672Z",
     "shell.execute_reply": "2023-01-18T12:54:08.274112Z",
     "shell.execute_reply.started": "2023-01-18T12:54:08.268059Z"
    },
    "tags": []
   },
   "outputs": [],
   "source": [
    "def plotExp(exp):\n",
    "    # Borrowed from summit utils\n",
    "    data = quickSmooth(exp.image.array, 1)\n",
    "    vmin = np.nanpercentile(data, 1)\n",
    "    vmax = np.nanpercentile(data, 99)\n",
    "    print(vmin, vmax)\n",
    "    figure = plt.figure(figsize=(12,12))\n",
    "    figure.clear()\n",
    "    ax1 = figure.add_subplot(111)\n",
    "    im1 = ax1.imshow(data, cmap='gray', origin='lower', vmin=vmin, vmax=vmax)\n",
    "    ax1.tick_params(which=\"major\", direction=\"in\", top=True, right=True, labelsize=8)\n",
    "    divider = make_axes_locatable(ax1)\n",
    "    cax = divider.append_axes(\"right\", size=\"5%\", pad=0.05)\n",
    "    plt.colorbar(im1, cax=cax)\n",
    "    plt.tight_layout()\n",
    "    #plt.show()\n",
    "    return figure\n",
    "\n",
    "def repairCosmics(postIsr):\n",
    "    # Borrowed from summit utils\n",
    "    if postIsr.getPsf() is None:\n",
    "        installPsfTask = InstallGaussianPsfTask()\n",
    "        installPsfTask.run(postIsr)\n",
    "\n",
    "    # TODO: try adding a reasonably wide Gaussian as a temp PSF\n",
    "    # and then just running repairTask on its own without any\n",
    "    # imChar. It should work, and be faster.\n",
    "    repairConfig = CharacterizeImageTask.ConfigClass()\n",
    "    repairConfig.doMeasurePsf = False\n",
    "    repairConfig.doApCorr = False\n",
    "    repairConfig.doDeblend = False\n",
    "    repairConfig.doWrite = False\n",
    "    repairConfig.repair.cosmicray.nCrPixelMax = 200000\n",
    "    repairTask = CharacterizeImageTask(config=repairConfig)\n",
    "    repairTask.repair.run(postIsr)\n",
    "    return\n"
   ]
  },
  {
   "cell_type": "code",
   "execution_count": null,
   "id": "558e3838-4aea-48e2-9629-5b1f60b2fbaf",
   "metadata": {
    "execution": {
     "iopub.execute_input": "2023-01-18T12:54:09.763072Z",
     "iopub.status.busy": "2023-01-18T12:54:09.762644Z",
     "iopub.status.idle": "2023-01-18T12:54:11.563198Z",
     "shell.execute_reply": "2023-01-18T12:54:11.562589Z",
     "shell.execute_reply.started": "2023-01-18T12:54:09.763051Z"
    },
    "tags": []
   },
   "outputs": [],
   "source": [
    "butler = Butler('/repo/embargo', collections=[\"LATISS/raw/all\", \"u/cslage/sdf/calib/latiss/calib_par_cross_20230113\"])\n",
    "defButler = Butler('/repo/embargo', collections=[\"LATISS/raw/all\", \"u/cslage/sdf/latiss/defect_r_par_cross_B_20230113\"])"
   ]
  },
  {
   "cell_type": "code",
   "execution_count": null,
   "id": "ac370c47-f159-4dcf-8d42-99833c98c37c",
   "metadata": {
    "execution": {
     "iopub.execute_input": "2023-01-18T12:54:11.569187Z",
     "iopub.status.busy": "2023-01-18T12:54:11.569030Z",
     "iopub.status.idle": "2023-01-18T12:54:11.571822Z",
     "shell.execute_reply": "2023-01-18T12:54:11.571308Z",
     "shell.execute_reply.started": "2023-01-18T12:54:11.569172Z"
    },
    "tags": []
   },
   "outputs": [],
   "source": [
    "expId = 2022121200752"
   ]
  },
  {
   "cell_type": "markdown",
   "id": "75e9e655-1176-4cf6-a8b2-ccb8ff195892",
   "metadata": {},
   "source": [
    " ### New ISR"
   ]
  },
  {
   "cell_type": "code",
   "execution_count": null,
   "id": "da2f3cf2-5f5e-4d3f-a6e0-29476bda53d9",
   "metadata": {
    "execution": {
     "iopub.execute_input": "2023-01-18T12:54:24.676576Z",
     "iopub.status.busy": "2023-01-18T12:54:24.676313Z",
     "iopub.status.idle": "2023-01-18T12:54:24.688424Z",
     "shell.execute_reply": "2023-01-18T12:54:24.687961Z",
     "shell.execute_reply.started": "2023-01-18T12:54:24.676557Z"
    },
    "jupyter": {
     "source_hidden": true
    },
    "tags": []
   },
   "outputs": [],
   "source": [
    "crosstalkValues = [0.0, 0.00015888336550941553, 3.788170293684901e-05, 9.933872708581732e-06, \n",
    "2.808792195062614e-06, 1.8421191510313597e-06, 4.966259648498857e-06, 6.220491564786351e-06, \n",
    "1.229941066093052e-06, -4.290528236003061e-06, -1.3358423925506902e-06, 5.228198537834383e-07, \n",
    "-4.892069111840228e-07, -1.5012114269596314e-06, 3.188762205226405e-06, 1.9728818979472125e-05, \n",
    "0.00024470391931360916, 0.0, 0.00024947603368651955, 9.297956862262597e-05, \n",
    "5.446469509101461e-05, 3.538220478337849e-05, 1.1957245107398185e-05, 5.655566532679767e-06, \n",
    "-2.193297731923316e-06, 4.151001613108685e-07, -9.528997434546441e-07, 1.1898088833525855e-06, \n",
    "5.003457515107364e-07, 4.893182430672108e-07, 2.4353974480931923e-06, 2.420465431645097e-05, \n",
    "4.883246913991542e-05, 0.00022323979903339305, 0.0, 0.0002487835770449991, \n",
    "9.894601615698697e-05, 5.366857753726588e-05, 9.079460052123976e-06, 8.505620991978652e-07, \n",
    "-5.84796012740521e-07, 4.2899918266257187e-07, -5.724454719871431e-07, 8.062468235047843e-07, \n",
    "1.0728940459583974e-05, 7.719473939032656e-06, 9.665914087644667e-06, 5.883924026251512e-06, \n",
    "2.0418182505347234e-05, 7.663526881495104e-05, 0.0003415121003992023, 0.0, \n",
    "0.00015514286041579597, 7.041020945318627e-05, 1.2284805090899454e-05, 4.2558818752883366e-06, \n",
    "4.103817209748911e-06, -2.1305952486134125e-06, 2.078402993151939e-09, -7.787395422421039e-07, \n",
    "3.0633993912083894e-06, 1.223631733619101e-05, -1.343852891018992e-07, 2.7237079592636606e-06, \n",
    "8.898295927180605e-06, 4.65761873524069e-05, 8.73116649498964e-05, 0.00016188949003024533, \n",
    "0.0, 0.000315733058600579, 2.752723616423848e-05, 1.4940550528526992e-06, \n",
    "4.746205564044835e-06, -1.9923891449017904e-06, 3.640889101000278e-05, 4.179757960643622e-06, \n",
    "7.757089759628362e-06, -1.0496853914689421e-06, -1.2559215898123022e-06, -1.5341247851894657e-06, \n",
    "6.773341098404962e-06, 2.6008291467554955e-05, 4.5520412670111093e-05, 5.742005252408831e-05, \n",
    "0.0008733650985158913, 0.0, 0.00015300159309239293, 1.6055211172715017e-05, \n",
    "-1.21810326108837e-06, 2.3454208759065637e-06, 1.1334640536096042e-05, 1.6892974681087563e-05, \n",
    "-1.3913890742945033e-06, -1.2765033732767498e-06, -1.8268192780564383e-06, 5.051324335010207e-07, \n",
    "3.570388309862894e-06, 2.8678016067781073e-06, 1.9224563170350935e-06, -5.1836956685920735e-06, \n",
    "2.5277367322461668e-05, 0.00023742201438061643, 0.0, 0.00020504699706798372, \n",
    "2.653159842143788e-06, 1.6515581022895524e-05, 1.9002148038475157e-05, 2.2004012962711287e-06, \n",
    "-1.452248744973186e-06, -2.178756429296533e-06, -3.332491895848686e-06, -4.599476434974772e-07, \n",
    "5.3809067647701876e-06, -5.974419921699883e-06, -1.1662353446167973e-05, -2.496420912380099e-05, \n",
    "-1.6052633113115148e-05, -1.2147390477178905e-05, 0.0015736490591040963, 0.0, \n",
    "1.6185385800755344e-05, 1.865945124130999e-05, 5.545970397133101e-07, 8.376130053936916e-07, \n",
    "-7.349465296681093e-07, -2.5632316944152853e-06, -2.021606318243888e-06, -1.2077754576503793e-06, \n",
    "-1.4481694074673388e-06, -2.2408697277009e-06, -2.467604183126412e-07, -1.3027392735589607e-06, \n",
    "7.122879763875737e-07, -7.007800224518524e-08, 1.879343859736736e-06, 1.678337466644244e-05, \n",
    "0.0, 0.00022000465144973125, -2.7977204287922815e-06, -1.500465665417047e-05, \n",
    "-1.1519801156143158e-05, -7.484669107701178e-06, 2.1149656673713017e-06, 1.0986495368415558e-05, \n",
    "-9.689480922044601e-07, 8.974784665907462e-07, 2.2849177906583825e-06, -1.6389002289195602e-06, \n",
    "3.3461772927228364e-06, 3.951058635509022e-06, 2.4221686306780196e-05, 2.0546367186506874e-05, \n",
    "0.0004224723146914864, 0.0, 0.00020216398757165246, 3.22067824426738e-05, \n",
    "1.7164475567926765e-05, 1.4505332705203746e-05, 1.3119574333202956e-05, 1.415051316742601e-05, \n",
    "-1.485865544154329e-06, -4.539848436053557e-06, -3.1595824899728166e-06, -2.6332349303015907e-06, \n",
    "3.904609186469354e-05, 1.1884998685517373e-05, 2.274159647392664e-05, 5.7685644342233356e-08, \n",
    "4.394301200448987e-06, 0.00011332098015803947, 0.0, 0.0005444913758968536, \n",
    "6.90614024902783e-05, 5.156488718053364e-05, 3.519552059843461e-05, 1.3090319993608439e-05, \n",
    "-9.637919133282712e-07, -1.8983453205184659e-06, 5.822135176750107e-07, -2.1457459716798389e-07, \n",
    "6.645508457169517e-06, 1.926819670425349e-05, 7.447047745231304e-07, 3.825948955469393e-07, \n",
    "-8.015332919326301e-06, -1.2268754097035193e-05, 0.0017424803242983159, 0.0, \n",
    "0.00016250543823652442, 9.385502798784448e-05, 5.7752745638708104e-05, 1.5943970053133675e-05, \n",
    "-1.2157572968266757e-06, -3.452216875169628e-06, 8.576571717394367e-06, 6.931280141888806e-06, \n",
    "6.894078160263231e-06, -1.4980521409811762e-06, 5.992244803228838e-07, 3.081419545762707e-07, \n",
    "-9.666880102236e-06, -3.989115414104398e-06, 5.02346924795469e-05, 0.00011909236372512782, \n",
    "0.0, 0.00025176337260515475, 8.982143769863497e-05, 1.8028988544747377e-05, \n",
    "-5.217045366898451e-07, 4.530352324585823e-06, 1.0403948446637116e-05, 1.483849579390179e-05, \n",
    "-9.62056945142165e-07, -4.93685489256739e-07, -1.665593245841829e-06, -2.174795767942349e-06, \n",
    "-3.5696336874929715e-06, -5.808772657213313e-06, 3.4896997694271714e-05, 6.91895795472634e-05, \n",
    "0.0003851940438104246, 0.0, 0.00021422904840776453, 3.1458432126703984e-05, \n",
    "4.044232855652071e-06, 3.996308730923587e-06, 1.1157114544501083e-05, -1.8884775083145607e-06, \n",
    "-2.025439123703041e-06, -3.012761343863761e-06, -1.0480865551281963e-06, 2.74988973524529e-06, \n",
    "-1.4791305908240787e-07, -5.559135420195798e-06, 1.4615136582101152e-05, 2.9672866035619164e-05, \n",
    "6.1608581592689e-05, 0.00017482083464693908, 0.0, 0.00026596894698489897, \n",
    "2.0352791713644413e-05, 2.7116153215408716e-05, 6.723175399578788e-06, -2.0175516412651795e-06, \n",
    "-2.5835984896554303e-06, -1.274883122174834e-06, 7.844131996879105e-07, 2.4959646616587955e-06, \n",
    "2.6614996964618528e-06, -4.100325037808096e-06, -5.9425651905724865e-06, -1.5249106914395756e-05, \n",
    "-7.608841653502559e-06, -8.733207451592442e-06, 0.0007388418987397647, 0.0]"
   ]
  },
  {
   "cell_type": "code",
   "execution_count": null,
   "id": "5fdbc6a3-4691-4baa-b8bd-c182b8e51de9",
   "metadata": {
    "tags": []
   },
   "outputs": [],
   "source": []
  },
  {
   "cell_type": "code",
   "execution_count": null,
   "id": "50ae40b2-b711-435e-9423-3085bff83c56",
   "metadata": {
    "execution": {
     "iopub.execute_input": "2023-01-18T12:54:30.405442Z",
     "iopub.status.busy": "2023-01-18T12:54:30.405178Z",
     "iopub.status.idle": "2023-01-18T12:54:47.003894Z",
     "shell.execute_reply": "2023-01-18T12:54:47.003187Z",
     "shell.execute_reply.started": "2023-01-18T12:54:30.405424Z"
    },
    "tags": []
   },
   "outputs": [],
   "source": [
    "isrConfig = IsrTaskConfig()\n",
    "isrConfig.overscan.fitType=\"MEDIAN_PER_ROW\"\n",
    "isrConfig.overscan.doParallelOverscan=True\n",
    "isrConfig.doLinearize=False\n",
    "isrConfig.doOverscan=True\n",
    "isrConfig.doAssembleCcd=True\n",
    "isrConfig.doBias=False\n",
    "isrConfig.doVariance=True\n",
    "isrConfig.doLinearize=False\n",
    "isrConfig.doCrosstalk=True\n",
    "isrConfig.crosstalk.useConfigCoefficients=True\n",
    "isrConfig.crosstalk.crosstalkShape=16,16\n",
    "isrConfig.crosstalk.crosstalkValues=crosstalkValues\n",
    "isrConfig.doBrighterFatter=False\n",
    "isrConfig.doDark=False\n",
    "isrConfig.doStrayLight=False\n",
    "isrConfig.doFlat=False\n",
    "isrConfig.doFringe=False\n",
    "isrConfig.doApplyGains=False\n",
    "isrConfig.doDefect=True\n",
    "isrConfig.doNanMasking=True\n",
    "isrConfig.doInterpolate=True\n",
    "isrConfig.doSaturation=True\n",
    "isrConfig.doSaturationInterpolation=True\n",
    "isrConfig.doWrite=False\n",
    "\n",
    "isrTask = IsrTask(config=isrConfig)\n",
    "exp = butler.get('raw', detector=0, exposure=expId)\n",
    "print(f\"There are {np.count_nonzero(np.isnan(exp.image.array))} NaN values in the raw data\")\n",
    "defectExp = defButler.get('defects', detector=0, exposure=expId)\n",
    "isrResult = isrTask.run(exp, defects=defectExp)\n",
    "postIsrExp = isrResult.exposure\n",
    "repairCosmics(postIsrExp)\n",
    "print(f\"There are {np.count_nonzero(np.isnan(postIsrExp.image.array))} NaN values in the postISR data\")\n",
    "\n",
    "isrConfig.doDefect=False\n",
    "isrConfig.doInterpolate=False\n",
    "isrConfig.doSaturation=False\n",
    "isrConfig.doSaturationInterpolation=False\n",
    "isrTaskNoDefect = IsrTask(config=isrConfig)\n",
    "isrResultNoDefect = isrTaskNoDefect.run(exp, defects=defectExp)\n",
    "postIsrExpNoDefect = isrResultNoDefect.exposure\n",
    "print(f\"There are {np.count_nonzero(np.isnan(postIsrExpNoDefect.image.array))} NaN values in the postISR data\")\n",
    "\n",
    "fig = plotExp(postIsrExp)\n",
    "fig = plotExp(postIsrExpNoDefect)\n"
   ]
  },
  {
   "cell_type": "markdown",
   "id": "8ce67240-7658-4d28-9049-be00bba9de36",
   "metadata": {},
   "source": [
    "## First, get some understanding of the mask data"
   ]
  },
  {
   "cell_type": "code",
   "execution_count": null,
   "id": "4c3fc45f-ff2b-44a5-9fbc-b54e260982c2",
   "metadata": {},
   "outputs": [],
   "source": []
  },
  {
   "cell_type": "code",
   "execution_count": null,
   "id": "04698685-f73d-4124-8417-a13306cde8fb",
   "metadata": {
    "execution": {
     "iopub.execute_input": "2023-01-17T13:39:13.070537Z",
     "iopub.status.busy": "2023-01-17T13:39:13.070145Z",
     "iopub.status.idle": "2023-01-17T13:39:13.074482Z",
     "shell.execute_reply": "2023-01-17T13:39:13.073935Z",
     "shell.execute_reply.started": "2023-01-17T13:39:13.070518Z"
    },
    "tags": []
   },
   "outputs": [],
   "source": [
    "maskArr = postIsrExp.getMaskedImage().getMask().array\n",
    "print(maskArr[720, 2130:2140])"
   ]
  },
  {
   "cell_type": "code",
   "execution_count": null,
   "id": "44f77785-23e0-4c42-86a0-493c839d37ef",
   "metadata": {
    "execution": {
     "iopub.execute_input": "2023-01-17T12:24:22.537232Z",
     "iopub.status.busy": "2023-01-17T12:24:22.536837Z",
     "iopub.status.idle": "2023-01-17T12:24:22.541159Z",
     "shell.execute_reply": "2023-01-17T12:24:22.540606Z",
     "shell.execute_reply.started": "2023-01-17T12:24:22.537213Z"
    },
    "tags": []
   },
   "outputs": [],
   "source": [
    "maskArr = postIsrExp.getMaskedImage().getMask().array\n",
    "print(maskArr[1000,2130:2160])"
   ]
  },
  {
   "cell_type": "code",
   "execution_count": null,
   "id": "238c6dc8-2e91-43cd-912a-35a84bbca1f7",
   "metadata": {
    "execution": {
     "iopub.execute_input": "2023-01-17T12:24:30.835737Z",
     "iopub.status.busy": "2023-01-17T12:24:30.835475Z",
     "iopub.status.idle": "2023-01-17T12:24:30.839892Z",
     "shell.execute_reply": "2023-01-17T12:24:30.839309Z",
     "shell.execute_reply.started": "2023-01-17T12:24:30.835717Z"
    },
    "tags": []
   },
   "outputs": [],
   "source": [
    "mask = postIsrExp.getMask()\n",
    "mask.printMaskPlanes()"
   ]
  },
  {
   "cell_type": "code",
   "execution_count": null,
   "id": "56e278f8-577f-4c7a-a5a2-6cc5e91940c0",
   "metadata": {
    "execution": {
     "iopub.execute_input": "2023-01-17T12:24:35.066285Z",
     "iopub.status.busy": "2023-01-17T12:24:35.066013Z",
     "iopub.status.idle": "2023-01-17T12:24:35.070393Z",
     "shell.execute_reply": "2023-01-17T12:24:35.069786Z",
     "shell.execute_reply.started": "2023-01-17T12:24:35.066266Z"
    },
    "tags": []
   },
   "outputs": [],
   "source": [
    "mask = postIsrExp.getMask()\n",
    "print(mask.getPlaneBitMask(['NO_DATA']))\n",
    "print(mask.getPlaneBitMask(['CROSSTALK', 'NO_DATA']))"
   ]
  },
  {
   "cell_type": "code",
   "execution_count": null,
   "id": "d2e60f94-d74f-4f58-b6b7-2a29b221086a",
   "metadata": {
    "execution": {
     "iopub.execute_input": "2023-01-17T13:38:28.750640Z",
     "iopub.status.busy": "2023-01-17T13:38:28.750386Z",
     "iopub.status.idle": "2023-01-17T13:38:28.755041Z",
     "shell.execute_reply": "2023-01-17T13:38:28.754486Z",
     "shell.execute_reply.started": "2023-01-17T13:38:28.750620Z"
    },
    "tags": []
   },
   "outputs": [],
   "source": [
    "print(mask.interpret(256))\n",
    "print(mask.interpret(261))\n",
    "print(mask.interpret(512))\n",
    "print(mask.interpret(772))\n",
    "print(mask.interpret(1024))\n",
    "print(mask.interpret(5))"
   ]
  },
  {
   "cell_type": "markdown",
   "id": "3f467e84-37e2-4e2d-b29a-4b800368eb9f",
   "metadata": {
    "execution": {
     "iopub.execute_input": "2023-01-11T15:37:52.488892Z",
     "iopub.status.busy": "2023-01-11T15:37:52.488030Z",
     "iopub.status.idle": "2023-01-11T15:37:52.491469Z",
     "shell.execute_reply": "2023-01-11T15:37:52.490924Z",
     "shell.execute_reply.started": "2023-01-11T15:37:52.488870Z"
    }
   },
   "source": [
    "## Next, plot some defect regions"
   ]
  },
  {
   "cell_type": "code",
   "execution_count": null,
   "id": "cf85ec5d-8f58-4ea4-ae81-0e0039d27651",
   "metadata": {
    "execution": {
     "iopub.execute_input": "2023-01-18T12:55:17.372481Z",
     "iopub.status.busy": "2023-01-18T12:55:17.371613Z",
     "iopub.status.idle": "2023-01-18T12:55:17.385070Z",
     "shell.execute_reply": "2023-01-18T12:55:17.384468Z",
     "shell.execute_reply.started": "2023-01-18T12:55:17.372457Z"
    },
    "tags": []
   },
   "outputs": [],
   "source": [
    "def plotDefects(expId, exp, expNoDefect, defects, xmin, xmax, ymin, ymax):\n",
    "    arr = exp.image.array\n",
    "    maskArr = postIsrExp.getMaskedImage().getMask().array\n",
    "    arrNoDefect = expNoDefect.image.array\n",
    "    maskArrNoDefect = postIsrExp.getMaskedImage().getMask().array\n",
    "    maskMax = 10\n",
    "    figure = plt.figure(figsize=(8,8))\n",
    "    figure.clear()\n",
    "    figure.subplots_adjust(hspace=0.5, wspace=0.5)\n",
    "    ax1 = figure.add_subplot(325)\n",
    "    ax1.set_title(f\"{expId}-ISR, With Defects\")\n",
    "    im1 = ax1.imshow(arr, interpolation='nearest')\n",
    "    ax1.tick_params(which=\"major\", direction=\"in\", top=True, right=True, labelsize=8)\n",
    "    divider = make_axes_locatable(ax1)\n",
    "    cax = divider.append_axes(\"right\", size=\"5%\", pad=0.05)\n",
    "    ax1.set_xlim(xmin,xmax)\n",
    "    ax1.set_ylim(ymin,ymax)\n",
    "    truncArr = arr[ymin:ymax, xmin:xmax]\n",
    "    plt.colorbar(im1, cax=cax)\n",
    "    im1.set_clim(0.0, np.nanmax(truncArr))\n",
    "    #im1.set_clim(0.0, 100.0)\n",
    "    ax2 = figure.add_subplot(326)\n",
    "    ax2.set_title(f\"{expId}-Defect Mask, With Defects\")\n",
    "    im2 = ax2.imshow(maskArr, interpolation='nearest')\n",
    "    im2.set_clim(0.0, maskMax)\n",
    "    ax2.tick_params(which=\"major\", direction=\"in\", top=True, right=True, labelsize=8)\n",
    "    divider = make_axes_locatable(ax2)\n",
    "    cax = divider.append_axes(\"right\", size=\"5%\", pad=0.05)\n",
    "    ax2.set_xlim(xmin,xmax)\n",
    "    ax2.set_ylim(ymin,ymax)\n",
    "    plt.colorbar(im2, cax=cax)\n",
    "    ax3 = figure.add_subplot(321)\n",
    "    ax3.set_title(f\"{expId}-ISR, No Defects\")\n",
    "    im3 = ax3.imshow(arrNoDefect, interpolation='nearest')\n",
    "    ax3.tick_params(which=\"major\", direction=\"in\", top=True, right=True, labelsize=8)\n",
    "    divider = make_axes_locatable(ax3)\n",
    "    cax = divider.append_axes(\"right\", size=\"5%\", pad=0.05)\n",
    "    ax3.set_xlim(xmin,xmax)\n",
    "    ax3.set_ylim(ymin,ymax)\n",
    "    truncArr = arrNoDefect[ymin:ymax, xmin:xmax]\n",
    "    plt.colorbar(im3, cax=cax)\n",
    "    im3.set_clim(0.0, np.nanmax(truncArr))\n",
    "    #im3.set_clim(0.0, 100.0)\n",
    "    ax4 = figure.add_subplot(322)\n",
    "    ax4.set_title(f\"{expId}-Defect Mask, No Defects\")\n",
    "    im4 = ax4.imshow(maskArrNoDefect, interpolation='nearest')\n",
    "    im4.set_clim(0.0, maskMax)\n",
    "    ax4.tick_params(which=\"major\", direction=\"in\", top=True, right=True, labelsize=8)\n",
    "    divider = make_axes_locatable(ax4)\n",
    "    cax = divider.append_axes(\"right\", size=\"5%\", pad=0.05)\n",
    "    ax4.set_xlim(xmin,xmax)\n",
    "    ax4.set_ylim(ymin,ymax)\n",
    "    plt.colorbar(im4, cax=cax)\n",
    "    imageHeight = 4000\n",
    "    imageWidth = 4072\n",
    "    defArray = np.zeros([imageHeight, imageWidth])\n",
    "    table = defects.toTable()[0].to_pandas()\n",
    "    for n in range(len(table)):\n",
    "        row = table.iloc[n]\n",
    "        x0 = row['x0']\n",
    "        y0 = row['y0']\n",
    "        width = row['width']\n",
    "        height = row['height']\n",
    "        for i in range(x0, x0+width):\n",
    "            for j in range(y0, y0+height):\n",
    "                defArray[j,i] = 1.0\n",
    "    ax5 = figure.add_subplot(323)\n",
    "    ax5.set_title(f\"{expId}-Defect File\")\n",
    "    im5 = ax5.imshow(defArray, interpolation='nearest')\n",
    "    ax5.tick_params(which=\"major\", direction=\"in\", top=True, right=True, labelsize=8)\n",
    "    divider = make_axes_locatable(ax5)\n",
    "    cax = divider.append_axes(\"right\", size=\"5%\", pad=0.05)\n",
    "    ax5.set_xlim(xmin,xmax)\n",
    "    ax5.set_ylim(ymin,ymax)\n",
    "    plt.colorbar(im5, cax=cax)\n",
    "    ax6 = figure.add_subplot(324)\n",
    "    ax6.set_title(f\"{expId}-Pixel values\")\n",
    "    xplot = np.arange(xmin, xmax)\n",
    "    arr = np.median(exp.image.array[ymin:ymax,xmin:xmax], axis=0)\n",
    "    arrNoDefect = np.median(expNoDefect.image.array[ymin:ymax,xmin:xmax], axis=0)\n",
    "    ax6.plot(xplot,arr, marker='x', label = \"Interpolated\")\n",
    "    ax6.plot(xplot, arrNoDefect, marker='x', label=\"No defect correction\")\n",
    "    ax6.set_ylim(-40,40)\n",
    "    ax6.legend()\n",
    "\n",
    "    plt.tight_layout()\n",
    "    #figure.savefig(f\"/home/c/cslage/u/AuxTel/isr/defect_study/Defects_{expId}_{xmin}_{xmax}_{ymin}_{ymax}_13Jan23.png\")\n",
    "    return\n"
   ]
  },
  {
   "cell_type": "markdown",
   "id": "94caaa2c-1d72-48c0-8687-1af6f35b1c50",
   "metadata": {},
   "source": [
    "## Hot column in upper left\n"
   ]
  },
  {
   "cell_type": "code",
   "execution_count": null,
   "id": "a96c205c-fdba-4ffc-8d02-299626f9c1c1",
   "metadata": {
    "execution": {
     "iopub.execute_input": "2023-01-17T13:36:18.007951Z",
     "iopub.status.busy": "2023-01-17T13:36:18.007430Z",
     "iopub.status.idle": "2023-01-17T13:36:20.241522Z",
     "shell.execute_reply": "2023-01-17T13:36:20.241019Z",
     "shell.execute_reply.started": "2023-01-17T13:36:18.007930Z"
    },
    "tags": []
   },
   "outputs": [],
   "source": [
    "plotDefects(expId, postIsrExp, postIsrExpNoDefect, defectExp, 550, 650, 3550, 3600)"
   ]
  },
  {
   "cell_type": "markdown",
   "id": "074ccf0f-ebf2-49b9-a11b-bbc9bdc5bef7",
   "metadata": {},
   "source": [
    "## Hot column in upper left - View to array edge\n"
   ]
  },
  {
   "cell_type": "code",
   "execution_count": null,
   "id": "61aa0f89-8f8e-4037-95bc-c27aff9d0361",
   "metadata": {
    "execution": {
     "iopub.execute_input": "2023-01-17T13:36:28.595546Z",
     "iopub.status.busy": "2023-01-17T13:36:28.595131Z",
     "iopub.status.idle": "2023-01-17T13:36:30.838967Z",
     "shell.execute_reply": "2023-01-17T13:36:30.838409Z",
     "shell.execute_reply.started": "2023-01-17T13:36:28.595527Z"
    },
    "tags": []
   },
   "outputs": [],
   "source": [
    "plotDefects(expId, postIsrExp, postIsrExpNoDefect, defectExp, 580, 630, 3950, 4000)"
   ]
  },
  {
   "cell_type": "markdown",
   "id": "2e4f27b7-014c-4060-85f4-6a5972c7b337",
   "metadata": {},
   "source": [
    "## Masked column at x=505 - why?\n"
   ]
  },
  {
   "cell_type": "code",
   "execution_count": null,
   "id": "f079a29d-6600-44c8-8105-b65f80fac2d7",
   "metadata": {
    "execution": {
     "iopub.execute_input": "2023-01-17T13:36:42.611356Z",
     "iopub.status.busy": "2023-01-17T13:36:42.610957Z",
     "iopub.status.idle": "2023-01-17T13:36:44.818072Z",
     "shell.execute_reply": "2023-01-17T13:36:44.817593Z",
     "shell.execute_reply.started": "2023-01-17T13:36:42.611335Z"
    },
    "tags": []
   },
   "outputs": [],
   "source": [
    "plotDefects(expId, postIsrExp, postIsrExpNoDefect, defectExp, 475, 525, 3000, 3050)"
   ]
  },
  {
   "cell_type": "markdown",
   "id": "7623f707-d57b-40c3-84a6-5010761b5470",
   "metadata": {},
   "source": [
    "## Hot column in center"
   ]
  },
  {
   "cell_type": "code",
   "execution_count": null,
   "id": "5b136d1f-897d-431d-b4c6-f3afa5f9121c",
   "metadata": {
    "execution": {
     "iopub.execute_input": "2023-01-17T13:36:54.851792Z",
     "iopub.status.busy": "2023-01-17T13:36:54.851399Z",
     "iopub.status.idle": "2023-01-17T13:36:57.085552Z",
     "shell.execute_reply": "2023-01-17T13:36:57.085042Z",
     "shell.execute_reply.started": "2023-01-17T13:36:54.851773Z"
    },
    "tags": []
   },
   "outputs": [],
   "source": [
    "plotDefects(expId, postIsrExp, postIsrExpNoDefect, defectExp, 2120, 2170, 1650, 1700)"
   ]
  },
  {
   "cell_type": "markdown",
   "id": "f850ec58-c0cf-4fc7-aa2b-3cfb0bbdd29b",
   "metadata": {},
   "source": [
    "## Dark column in lower center - why negative values?"
   ]
  },
  {
   "cell_type": "code",
   "execution_count": null,
   "id": "a1a615de-4959-44f0-bda0-4e224b2fbe53",
   "metadata": {
    "execution": {
     "iopub.execute_input": "2023-01-18T12:55:24.247858Z",
     "iopub.status.busy": "2023-01-18T12:55:24.247454Z",
     "iopub.status.idle": "2023-01-18T12:55:27.198810Z",
     "shell.execute_reply": "2023-01-18T12:55:27.198210Z",
     "shell.execute_reply.started": "2023-01-18T12:55:24.247831Z"
    },
    "tags": []
   },
   "outputs": [],
   "source": [
    "plotDefects(expId, postIsrExp, postIsrExpNoDefect, defectExp, 2120, 2170, 700, 750)"
   ]
  },
  {
   "cell_type": "code",
   "execution_count": null,
   "id": "c04804f3-2f7b-4e4c-a4b7-119cfd723ea8",
   "metadata": {
    "execution": {
     "iopub.execute_input": "2023-01-18T14:55:58.945234Z",
     "iopub.status.busy": "2023-01-18T14:55:58.944816Z",
     "iopub.status.idle": "2023-01-18T14:55:59.952018Z",
     "shell.execute_reply": "2023-01-18T14:55:59.951386Z",
     "shell.execute_reply.started": "2023-01-18T14:55:58.945215Z"
    },
    "tags": []
   },
   "outputs": [],
   "source": [
    "exp = butler.get('raw', detector=0, exposure=expId)\n",
    "xwidth = 30\n",
    "xmin = 2130\n",
    "xmax = xmin + xwidth\n",
    "raw_xmin = int(4608/8 * 4 + xmin - (509*4) + 576-509)\n",
    "raw_xmax = raw_xmin + xwidth\n",
    "ywidth = 100\n",
    "ymin = 100\n",
    "ymax = ymin + ywidth\n",
    "\n",
    "\n",
    "image_region = np.median(exp.image.array[ymin:yend, raw_xmin:raw_xmax], axis=0)\n",
    "ov_region = np.median(exp.image.array[2000:2048, raw_xmin:raw_xmax], axis=0)\n",
    "postIsr_region = np.median(postIsrExp.image.array[ymin:ymax, xmin:xmax], axis=0)\n",
    "plt.figure(figsize=(8,12))\n",
    "plt.subplots_adjust(hspace=1.0)\n",
    "plt.suptitle(f\"Dark column source on {expId}, x={xmin}:{xmax}\", fontsize=16)\n",
    "plt.subplot(5,1,1)\n",
    "plt.title(f\"Imaging region, median of y={ymin}:{ymax}\")\n",
    "plt.plot(image_region, marker='x')\n",
    "plt.subplot(5,1,2)\n",
    "plt.title(f\"Parallel overscan region, median of y={ymin}:{ymax}\")\n",
    "plt.plot(ov_region, marker='x')\n",
    "plt.subplot(5,1,3)\n",
    "plt.title(f\"Parallel overscan region(offset subtracted), median of y={ymin}:{ymax}\")\n",
    "plt.plot(ov_region - np.median(ov_region[20:25]), marker='x')\n",
    "plt.ylim(-10,500)\n",
    "plt.subplot(5,1,4)\n",
    "plt.title(f\"Parallel overscan region(offset subtracted), median of y={ymin}:{ymax}\")\n",
    "plt.plot(ov_region - np.median(ov_region[20:25]), marker='x')\n",
    "plt.ylim(-20,20)\n",
    "plt.subplot(5,1,5)\n",
    "plt.title(f\"PostISR imaging region, median of y={ymin}:{ymax}\")\n",
    "plt.plot(postIsr_region, marker='x')\n",
    "plt.ylim(-20,20)\n",
    "plt.savefig(f\"/home/c/cslage/u/AuxTel/isr/defect_study/Dark_Column_{expId}_{xmin}_{xmax}_{ymin}_{ymax}_18Jan23.png\")"
   ]
  },
  {
   "cell_type": "code",
   "execution_count": null,
   "id": "5dc12d0c-e58e-4f8c-aa85-dfc368b6a840",
   "metadata": {},
   "outputs": [],
   "source": []
  }
 ],
 "metadata": {
  "kernelspec": {
   "display_name": "LSST",
   "language": "python",
   "name": "lsst"
  },
  "language_info": {
   "codemirror_mode": {
    "name": "ipython",
    "version": 3
   },
   "file_extension": ".py",
   "mimetype": "text/x-python",
   "name": "python",
   "nbconvert_exporter": "python",
   "pygments_lexer": "ipython3",
   "version": "3.10.8"
  },
  "toc-autonumbering": false,
  "toc-showcode": false,
  "toc-showmarkdowntxt": true
 },
 "nbformat": 4,
 "nbformat_minor": 5
}
