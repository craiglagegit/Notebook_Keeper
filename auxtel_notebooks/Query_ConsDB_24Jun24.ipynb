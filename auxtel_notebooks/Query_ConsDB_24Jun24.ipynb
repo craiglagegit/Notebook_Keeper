{
 "cells": [
  {
   "cell_type": "markdown",
   "metadata": {},
   "source": [
    "# Query ConsDB\n",
    "\n",
    "A basic notebook to learn about querying the ConsDb\n",
    "\n",
    "Craig Lage - 09-Sep-24"
   ]
  },
  {
   "cell_type": "code",
   "execution_count": null,
   "metadata": {
    "execution": {
     "iopub.execute_input": "2025-03-26T12:28:22.106086Z",
     "iopub.status.busy": "2025-03-26T12:28:22.105880Z",
     "iopub.status.idle": "2025-03-26T12:28:22.108737Z",
     "shell.execute_reply": "2025-03-26T12:28:22.108257Z",
     "shell.execute_reply.started": "2025-03-26T12:28:22.106070Z"
    },
    "tags": []
   },
   "outputs": [],
   "source": [
    "import numpy as np\n",
    "import matplotlib.pyplot as plt\n",
    "import astropy.io.fits as pf\n",
    "from astropy.time import Time, TimeDelta\n",
    "import pandas as pd\n",
    "import os\n",
    "os.environ[\"no_proxy\"] += \",.consdb\"\n",
    "from lsst.summit.utils import ConsDbClient\n",
    "from lsst.summit.utils.utils import computeCcdExposureId"
   ]
  },
  {
   "cell_type": "code",
   "execution_count": null,
   "metadata": {
    "execution": {
     "iopub.execute_input": "2025-03-26T12:28:22.111582Z",
     "iopub.status.busy": "2025-03-26T12:28:22.111183Z",
     "iopub.status.idle": "2025-03-26T12:28:22.126510Z",
     "shell.execute_reply": "2025-03-26T12:28:22.126020Z",
     "shell.execute_reply.started": "2025-03-26T12:28:22.111554Z"
    }
   },
   "outputs": [],
   "source": [
    "client = ConsDbClient('http://consdb-pq.consdb:8080/consdb')\n",
    "print(client.schema())  # list the instruments"
   ]
  },
  {
   "cell_type": "code",
   "execution_count": null,
   "metadata": {
    "execution": {
     "iopub.execute_input": "2025-03-26T12:28:24.881634Z",
     "iopub.status.busy": "2025-03-26T12:28:24.881340Z",
     "iopub.status.idle": "2025-03-26T12:28:24.889953Z",
     "shell.execute_reply": "2025-03-26T12:28:24.889609Z",
     "shell.execute_reply.started": "2025-03-26T12:28:24.881619Z"
    }
   },
   "outputs": [],
   "source": [
    "client.schema('latiss') # List tables for an instrument"
   ]
  },
  {
   "cell_type": "code",
   "execution_count": null,
   "metadata": {
    "execution": {
     "iopub.execute_input": "2025-03-25T12:05:03.883029Z",
     "iopub.status.busy": "2025-03-25T12:05:03.882709Z",
     "iopub.status.idle": "2025-03-25T12:05:03.970929Z",
     "shell.execute_reply": "2025-03-25T12:05:03.970574Z",
     "shell.execute_reply.started": "2025-03-25T12:05:03.883004Z"
    }
   },
   "outputs": [],
   "source": [
    "client.schema('lsstcomcam') # List tables for an instrument"
   ]
  },
  {
   "cell_type": "code",
   "execution_count": null,
   "metadata": {
    "execution": {
     "iopub.execute_input": "2025-03-26T12:29:08.097064Z",
     "iopub.status.busy": "2025-03-26T12:29:08.096762Z",
     "iopub.status.idle": "2025-03-26T12:29:08.105752Z",
     "shell.execute_reply": "2025-03-26T12:29:08.105341Z",
     "shell.execute_reply.started": "2025-03-26T12:29:08.097048Z"
    }
   },
   "outputs": [],
   "source": [
    "client.schema('latiss', 'exposure_quicklook') # List values in a table"
   ]
  },
  {
   "cell_type": "code",
   "execution_count": null,
   "metadata": {
    "execution": {
     "iopub.execute_input": "2025-03-26T12:31:50.994372Z",
     "iopub.status.busy": "2025-03-26T12:31:50.994095Z",
     "iopub.status.idle": "2025-03-26T12:31:51.012704Z",
     "shell.execute_reply": "2025-03-26T12:31:51.012282Z",
     "shell.execute_reply.started": "2025-03-26T12:31:50.994357Z"
    }
   },
   "outputs": [],
   "source": [
    "# Get a particluar value from a particular visit\n",
    "query = 'SELECT * from cdb_latiss.exposure_quicklook '\n",
    "query += 'where day_obs = 20250320'\n",
    "data = client.query(query)\n",
    "print(len(data))\n",
    "data"
   ]
  },
  {
   "cell_type": "code",
   "execution_count": null,
   "metadata": {
    "execution": {
     "iopub.execute_input": "2025-03-26T12:30:52.076239Z",
     "iopub.status.busy": "2025-03-26T12:30:52.075954Z",
     "iopub.status.idle": "2025-03-26T12:30:52.085680Z",
     "shell.execute_reply": "2025-03-26T12:30:52.085240Z",
     "shell.execute_reply.started": "2025-03-26T12:30:52.076223Z"
    }
   },
   "outputs": [],
   "source": [
    "# Get all of the values for a particular table and visit\n",
    "data = client.query('SELECT * from cdb_latiss.exposure_quicklook where exposure_id = 2025032400917')\n",
    "for name in data.colnames:\n",
    "    print(name, data[name].value[0])"
   ]
  },
  {
   "cell_type": "code",
   "execution_count": null,
   "metadata": {},
   "outputs": [],
   "source": [
    "ccdvisit_id = computeCcdExposureId('latiss', 2024053000592, 0)\n",
    "print(ccdvisit_id)\n",
    "data = client.query(f'SELECT * from cdb_latiss.ccdvisit1_quicklook where ccdvisit_id = {ccdvisit_id}')\n",
    "for name in data.colnames:\n",
    "    print(name, data[name].value[0])"
   ]
  },
  {
   "cell_type": "code",
   "execution_count": null,
   "metadata": {},
   "outputs": [],
   "source": [
    "# I guess this just isn't populated yet?\n",
    "data = client.query('SELECT ccdvisit_id from cdb_latiss.ccdvisit1_quicklook where ccdvisit_id > 1')\n",
    "data"
   ]
  },
  {
   "cell_type": "code",
   "execution_count": null,
   "metadata": {},
   "outputs": [],
   "source": [
    "# I guess this just isn't populated yet?\n",
    "data = client.query('SELECT visit_id from cdb_latiss.visit1_quicklook where visit_id > 1')\n",
    "data"
   ]
  },
  {
   "cell_type": "code",
   "execution_count": null,
   "metadata": {},
   "outputs": [],
   "source": [
    "data = client.query('SELECT obs_start from cdb_lsstcomcamsim.exposure where day_obs = 20240621 and seq_num = 2')\n",
    "data"
   ]
  },
  {
   "cell_type": "code",
   "execution_count": null,
   "metadata": {},
   "outputs": [],
   "source": [
    "data = client.query('SELECT seq_num, obs_start, azimuth, zenith_distance from cdb_lsstcomcamsim.exposure where (seq_num > 0 and seq_num < 10 and day_obs = 20240621)')\n",
    "data"
   ]
  },
  {
   "cell_type": "code",
   "execution_count": null,
   "metadata": {
    "execution": {
     "iopub.execute_input": "2024-09-10T12:02:52.499433Z",
     "iopub.status.busy": "2024-09-10T12:02:52.499212Z",
     "iopub.status.idle": "2024-09-10T12:02:52.511278Z",
     "shell.execute_reply": "2024-09-10T12:02:52.510959Z",
     "shell.execute_reply.started": "2024-09-10T12:02:52.499418Z"
    },
    "jupyter": {
     "outputs_hidden": true
    }
   },
   "outputs": [],
   "source": [
    "data = client.query('SELECT * from cdb_lsstcomcamsim.exposure where exposure_id = 7024062700764')\n",
    "for name in data.colnames:\n",
    "    print(name, data[name].value[0])\n"
   ]
  },
  {
   "cell_type": "code",
   "execution_count": null,
   "metadata": {},
   "outputs": [],
   "source": []
  }
 ],
 "metadata": {
  "kernelspec": {
   "display_name": "LSST",
   "language": "python",
   "name": "lsst"
  },
  "language_info": {
   "codemirror_mode": {
    "name": "ipython",
    "version": 3
   },
   "file_extension": ".py",
   "mimetype": "text/x-python",
   "name": "python",
   "nbconvert_exporter": "python",
   "pygments_lexer": "ipython3",
   "version": "3.12.9"
  }
 },
 "nbformat": 4,
 "nbformat_minor": 4
}
