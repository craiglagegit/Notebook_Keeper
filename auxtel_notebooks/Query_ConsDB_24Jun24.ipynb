{
 "cells": [
  {
   "cell_type": "markdown",
   "metadata": {},
   "source": [
    "# Query ConsDB\n",
    "\n",
    "A basic notebook to learn about querying the ConsDb\n",
    "\n",
    "Craig Lage - 09-Sep-24"
   ]
  },
  {
   "cell_type": "code",
   "execution_count": null,
   "metadata": {
    "execution": {
     "iopub.execute_input": "2024-09-12T15:09:37.963441Z",
     "iopub.status.busy": "2024-09-12T15:09:37.963128Z",
     "iopub.status.idle": "2024-09-12T15:09:43.193713Z",
     "shell.execute_reply": "2024-09-12T15:09:43.193265Z",
     "shell.execute_reply.started": "2024-09-12T15:09:37.963421Z"
    },
    "tags": []
   },
   "outputs": [],
   "source": [
    "import numpy as np\n",
    "import matplotlib.pyplot as plt\n",
    "import astropy.io.fits as pf\n",
    "from astropy.time import Time, TimeDelta\n",
    "import pandas as pd\n",
    "import os\n",
    "os.environ[\"no_proxy\"] += \",.consdb\"\n",
    "from lsst.summit.utils import ConsDbClient\n",
    "from lsst.summit.utils.utils import computeCcdExposureId"
   ]
  },
  {
   "cell_type": "code",
   "execution_count": null,
   "metadata": {
    "execution": {
     "iopub.execute_input": "2024-09-12T15:09:43.201577Z",
     "iopub.status.busy": "2024-09-12T15:09:43.201454Z",
     "iopub.status.idle": "2024-09-12T15:09:43.209058Z",
     "shell.execute_reply": "2024-09-12T15:09:43.208738Z",
     "shell.execute_reply.started": "2024-09-12T15:09:43.201566Z"
    }
   },
   "outputs": [],
   "source": [
    "client = ConsDbClient('http://consdb-pq.consdb:8080/consdb')\n",
    "print(client.schema())  # list the instruments"
   ]
  },
  {
   "cell_type": "code",
   "execution_count": null,
   "metadata": {
    "execution": {
     "iopub.execute_input": "2024-09-12T15:09:44.025064Z",
     "iopub.status.busy": "2024-09-12T15:09:44.024909Z",
     "iopub.status.idle": "2024-09-12T15:09:44.029524Z",
     "shell.execute_reply": "2024-09-12T15:09:44.029249Z",
     "shell.execute_reply.started": "2024-09-12T15:09:44.025052Z"
    }
   },
   "outputs": [],
   "source": [
    "client.schema('latiss') # List tables for an instrument"
   ]
  },
  {
   "cell_type": "code",
   "execution_count": null,
   "metadata": {
    "execution": {
     "iopub.execute_input": "2024-09-12T15:20:35.386140Z",
     "iopub.status.busy": "2024-09-12T15:20:35.385851Z",
     "iopub.status.idle": "2024-09-12T15:20:35.392325Z",
     "shell.execute_reply": "2024-09-12T15:20:35.391884Z",
     "shell.execute_reply.started": "2024-09-12T15:20:35.386125Z"
    }
   },
   "outputs": [],
   "source": [
    "client.schema('lsstcam') # List tables for an instrument"
   ]
  },
  {
   "cell_type": "code",
   "execution_count": null,
   "metadata": {
    "execution": {
     "iopub.execute_input": "2024-09-12T15:20:47.001764Z",
     "iopub.status.busy": "2024-09-12T15:20:47.001377Z",
     "iopub.status.idle": "2024-09-12T15:20:47.009662Z",
     "shell.execute_reply": "2024-09-12T15:20:47.009334Z",
     "shell.execute_reply.started": "2024-09-12T15:20:47.001749Z"
    }
   },
   "outputs": [],
   "source": [
    "client.schema('latiss', 'cdb_latiss.exposure') # List values in a table"
   ]
  },
  {
   "cell_type": "code",
   "execution_count": null,
   "metadata": {
    "execution": {
     "iopub.execute_input": "2024-09-12T15:21:03.248407Z",
     "iopub.status.busy": "2024-09-12T15:21:03.248075Z",
     "iopub.status.idle": "2024-09-12T15:21:03.268973Z",
     "shell.execute_reply": "2024-09-12T15:21:03.268597Z",
     "shell.execute_reply.started": "2024-09-12T15:21:03.248394Z"
    }
   },
   "outputs": [],
   "source": [
    "# Get a particluar value from a particular visit\n",
    "data = client.query('SELECT dome_azimuth from cdb_latiss.exposure where day_obs = 20240530 and seq_num = 592')\n",
    "data"
   ]
  },
  {
   "cell_type": "code",
   "execution_count": null,
   "metadata": {
    "execution": {
     "iopub.execute_input": "2024-09-12T15:21:10.235053Z",
     "iopub.status.busy": "2024-09-12T15:21:10.234701Z",
     "iopub.status.idle": "2024-09-12T15:21:10.246739Z",
     "shell.execute_reply": "2024-09-12T15:21:10.246381Z",
     "shell.execute_reply.started": "2024-09-12T15:21:10.235037Z"
    }
   },
   "outputs": [],
   "source": [
    "# Get all of the values for a particular table and visit\n",
    "data = client.query('SELECT * from cdb_latiss.exposure where exposure_id = 2024053000592')\n",
    "for name in data.colnames:\n",
    "    print(name, data[name].value[0])"
   ]
  },
  {
   "cell_type": "code",
   "execution_count": null,
   "metadata": {},
   "outputs": [],
   "source": [
    "ccdvisit_id = computeCcdExposureId('latiss', 2024053000592, 0)\n",
    "print(ccdvisit_id)\n",
    "data = client.query(f'SELECT * from cdb_latiss.ccdvisit1_quicklook where ccdvisit_id = {ccdvisit_id}')\n",
    "for name in data.colnames:\n",
    "    print(name, data[name].value[0])"
   ]
  },
  {
   "cell_type": "code",
   "execution_count": null,
   "metadata": {},
   "outputs": [],
   "source": [
    "# I guess this just isn't populated yet?\n",
    "data = client.query('SELECT ccdvisit_id from cdb_latiss.ccdvisit1_quicklook where ccdvisit_id > 1')\n",
    "data"
   ]
  },
  {
   "cell_type": "code",
   "execution_count": null,
   "metadata": {},
   "outputs": [],
   "source": [
    "# I guess this just isn't populated yet?\n",
    "data = client.query('SELECT visit_id from cdb_latiss.visit1_quicklook where visit_id > 1')\n",
    "data"
   ]
  },
  {
   "cell_type": "code",
   "execution_count": null,
   "metadata": {},
   "outputs": [],
   "source": [
    "data = client.query('SELECT obs_start from cdb_lsstcomcamsim.exposure where day_obs = 20240621 and seq_num = 2')\n",
    "data"
   ]
  },
  {
   "cell_type": "code",
   "execution_count": null,
   "metadata": {},
   "outputs": [],
   "source": [
    "data = client.query('SELECT seq_num, obs_start, azimuth, zenith_distance from cdb_lsstcomcamsim.exposure where (seq_num > 0 and seq_num < 10 and day_obs = 20240621)')\n",
    "data"
   ]
  },
  {
   "cell_type": "code",
   "execution_count": null,
   "metadata": {
    "execution": {
     "iopub.execute_input": "2024-09-10T12:02:52.499433Z",
     "iopub.status.busy": "2024-09-10T12:02:52.499212Z",
     "iopub.status.idle": "2024-09-10T12:02:52.511278Z",
     "shell.execute_reply": "2024-09-10T12:02:52.510959Z",
     "shell.execute_reply.started": "2024-09-10T12:02:52.499418Z"
    },
    "jupyter": {
     "outputs_hidden": true
    }
   },
   "outputs": [],
   "source": [
    "data = client.query('SELECT * from cdb_lsstcomcamsim.exposure where exposure_id = 7024062700764')\n",
    "for name in data.colnames:\n",
    "    print(name, data[name].value[0])\n"
   ]
  },
  {
   "cell_type": "code",
   "execution_count": null,
   "metadata": {},
   "outputs": [],
   "source": []
  }
 ],
 "metadata": {
  "kernelspec": {
   "display_name": "LSST",
   "language": "python",
   "name": "lsst"
  },
  "language_info": {
   "codemirror_mode": {
    "name": "ipython",
    "version": 3
   },
   "file_extension": ".py",
   "mimetype": "text/x-python",
   "name": "python",
   "nbconvert_exporter": "python",
   "pygments_lexer": "ipython3",
   "version": "3.11.9"
  }
 },
 "nbformat": 4,
 "nbformat_minor": 4
}
