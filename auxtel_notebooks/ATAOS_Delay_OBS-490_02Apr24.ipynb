{
 "cells": [
  {
   "cell_type": "code",
   "execution_count": null,
   "id": "3d1fb388-d138-4fef-939b-ece6455bb0ac",
   "metadata": {
    "execution": {
     "iopub.execute_input": "2024-04-02T20:50:22.920169Z",
     "iopub.status.busy": "2024-04-02T20:50:22.919832Z",
     "iopub.status.idle": "2024-04-02T20:50:30.178272Z",
     "shell.execute_reply": "2024-04-02T20:50:30.177707Z",
     "shell.execute_reply.started": "2024-04-02T20:50:22.920153Z"
    }
   },
   "outputs": [],
   "source": [
    "import sys, time, os, asyncio, glob\n",
    "import numpy as np\n",
    "import pandas as pd\n",
    "import matplotlib.pyplot as plt\n",
    "from matplotlib.backends.backend_pdf import PdfPages\n",
    "from astropy.time import Time, TimeDelta\n",
    "from lsst.summit.utils.efdUtils import makeEfdClient, getEfdData\n",
    "import lsst.summit.utils.butlerUtils as butlerUtils"
   ]
  },
  {
   "cell_type": "code",
   "execution_count": null,
   "id": "2a7e0675-7055-4b8a-9952-054069b6232e",
   "metadata": {
    "execution": {
     "iopub.execute_input": "2024-04-02T20:50:30.179959Z",
     "iopub.status.busy": "2024-04-02T20:50:30.179330Z",
     "iopub.status.idle": "2024-04-02T20:50:31.304630Z",
     "shell.execute_reply": "2024-04-02T20:50:31.304191Z",
     "shell.execute_reply.started": "2024-04-02T20:50:30.179940Z"
    }
   },
   "outputs": [],
   "source": [
    "client = makeEfdClient()\n",
    "butler = butlerUtils.makeDefaultLatissButler(embargo=True)"
   ]
  },
  {
   "cell_type": "code",
   "execution_count": null,
   "id": "ae614353-050d-4e61-81ed-fed4126efea5",
   "metadata": {
    "execution": {
     "iopub.execute_input": "2024-04-02T14:50:30.173977Z",
     "iopub.status.busy": "2024-04-02T14:50:30.173748Z",
     "iopub.status.idle": "2024-04-02T14:50:30.177267Z",
     "shell.execute_reply": "2024-04-02T14:50:30.176878Z",
     "shell.execute_reply.started": "2024-04-02T14:50:30.173963Z"
    }
   },
   "outputs": [],
   "source": [
    "start = Time(\"2024-04-02T07:40:00\", scale='utc')\n",
    "end = Time(\"2024-04-02T07:53:00\", scale='utc')"
   ]
  },
  {
   "cell_type": "code",
   "execution_count": null,
   "id": "85170810-b0a2-4c57-8e94-e33a809b191a",
   "metadata": {
    "execution": {
     "iopub.execute_input": "2024-04-02T15:16:31.164951Z",
     "iopub.status.busy": "2024-04-02T15:16:31.164758Z",
     "iopub.status.idle": "2024-04-02T15:16:31.249288Z",
     "shell.execute_reply": "2024-04-02T15:16:31.248930Z",
     "shell.execute_reply.started": "2024-04-02T15:16:31.164938Z"
    }
   },
   "outputs": [],
   "source": [
    "hexapod = getEfdData(\n",
    "    client=client,\n",
    "    topic=\"lsst.sal.ATHexapod.positionStatus\",\n",
    "    columns=\"*\",\n",
    "    begin=start, end=end)\n",
    "\n",
    "inPos = getEfdData(\n",
    "    client=client,\n",
    "    topic=\"lsst.sal.ATHexapod.logevent_inPosition\",\n",
    "    columns=\"*\",\n",
    "    begin=start, end=end)\n",
    "inPos = inPos[inPos['inPosition']]\n",
    "corrStart = getEfdData(\n",
    "    client=client,\n",
    "    topic=\"lsst.sal.ATAOS.logevent_hexapodCorrectionStarted\",\n",
    "    columns=\"*\",\n",
    "    begin=start, end=end)\n",
    "\n",
    "corrComplete = getEfdData(\n",
    "    client=client,\n",
    "    topic=\"lsst.sal.ATAOS.logevent_hexapodCorrectionCompleted\",\n",
    "    columns=\"*\",\n",
    "    begin=start, end=end)\n"
   ]
  },
  {
   "cell_type": "code",
   "execution_count": null,
   "id": "9ece18b3-2497-460a-aef1-0ffc15fe5ded",
   "metadata": {
    "execution": {
     "iopub.execute_input": "2024-04-02T15:24:29.760765Z",
     "iopub.status.busy": "2024-04-02T15:24:29.760427Z",
     "iopub.status.idle": "2024-04-02T15:24:29.764364Z",
     "shell.execute_reply": "2024-04-02T15:24:29.764010Z",
     "shell.execute_reply.started": "2024-04-02T15:24:29.760748Z"
    }
   },
   "outputs": [],
   "source": [
    "inPos['private_efdStamp'].values"
   ]
  },
  {
   "cell_type": "code",
   "execution_count": null,
   "id": "1f0e8c92-f22e-4ed0-94f7-c73717529b20",
   "metadata": {
    "execution": {
     "iopub.execute_input": "2024-04-02T15:51:16.414284Z",
     "iopub.status.busy": "2024-04-02T15:51:16.414063Z",
     "iopub.status.idle": "2024-04-02T15:51:16.417463Z",
     "shell.execute_reply": "2024-04-02T15:51:16.417119Z",
     "shell.execute_reply.started": "2024-04-02T15:51:16.414268Z"
    }
   },
   "outputs": [],
   "source": [
    "len(corrStart.index)"
   ]
  },
  {
   "cell_type": "code",
   "execution_count": null,
   "id": "3dd3d85c-2c99-4ef7-a270-732204e88413",
   "metadata": {
    "execution": {
     "iopub.execute_input": "2024-04-02T15:36:36.945816Z",
     "iopub.status.busy": "2024-04-02T15:36:36.945599Z",
     "iopub.status.idle": "2024-04-02T15:36:37.203861Z",
     "shell.execute_reply": "2024-04-02T15:36:37.203487Z",
     "shell.execute_reply.started": "2024-04-02T15:36:36.945800Z"
    }
   },
   "outputs": [],
   "source": [
    "%matplotlib inline\n",
    "hexapod['reportedPosition2'].plot(marker='x')\n",
    "hexapod['setpointPosition2'].plot(marker='x')\n",
    "for pos in inPos['private_efdStamp'].values:\n",
    "    plt.axvline(Time(pos, format='unix_tai').utc.isot, color='black', ls='--', label='InPosition')\n",
    "for cstrt in corrStart['private_efdStamp'].values:\n",
    "    plt.axvline(Time(cstrt, format='unix_tai').utc.isot, color='green', ls='--', label='CorrectionStart')\n",
    "for cplt in corrComplete['private_efdStamp'].values:\n",
    "    plt.axvline(Time(cplt, format='unix_tai').utc.isot, color='red', ls='-.', label='CorrectionComplete')\n",
    "plotStart = Time(\"2024-04-02T07:42:05\", scale='utc').isot\n",
    "plotEnd = Time(\"2024-04-02T07:42:59\", scale='utc').isot\n",
    "plt.xlim(plotStart, plotEnd)\n",
    "#plt.legend()"
   ]
  },
  {
   "cell_type": "code",
   "execution_count": null,
   "id": "62b01927-29b9-4d8a-9ace-8609bbf341d5",
   "metadata": {
    "execution": {
     "iopub.execute_input": "2024-04-02T15:33:36.035762Z",
     "iopub.status.busy": "2024-04-02T15:33:36.035571Z",
     "iopub.status.idle": "2024-04-02T15:33:36.141338Z",
     "shell.execute_reply": "2024-04-02T15:33:36.140910Z",
     "shell.execute_reply.started": "2024-04-02T15:33:36.035749Z"
    }
   },
   "outputs": [],
   "source": [
    "hexapod['reportedPosition2'].plot(marker='x')"
   ]
  },
  {
   "cell_type": "code",
   "execution_count": null,
   "id": "26553531-bfa5-4bad-8e92-5c93aed4ca95",
   "metadata": {
    "execution": {
     "iopub.execute_input": "2024-04-02T17:18:30.175835Z",
     "iopub.status.busy": "2024-04-02T17:18:30.175392Z",
     "iopub.status.idle": "2024-04-02T17:18:30.758173Z",
     "shell.execute_reply": "2024-04-02T17:18:30.757791Z",
     "shell.execute_reply.started": "2024-04-02T17:18:30.175820Z"
    }
   },
   "outputs": [],
   "source": [
    "expId = 2024032100122\n",
    "mData = butler.get('raw.metadata', exposure=expId, detector=0)\n",
    "expStart = Time(mData['DATE-BEG'], scale='tai').utc\n",
    "start = expStart - TimeDelta(10.0, format='sec')\n",
    "expEnd = Time(mData['DATE-END'], scale='tai').utc\n",
    "end = expEnd + TimeDelta(0.5, format='sec')\n",
    "hexapod = getEfdData(\n",
    "    client=client,\n",
    "    topic=\"lsst.sal.ATHexapod.positionStatus\",\n",
    "    columns=\"*\",\n",
    "    begin=start, end=end)\n",
    "\n",
    "inPos = getEfdData(\n",
    "    client=client,\n",
    "    topic=\"lsst.sal.ATHexapod.logevent_inPosition\",\n",
    "    columns=\"*\",\n",
    "    begin=start, end=end)\n",
    "inPos = inPos[inPos['inPosition']]\n",
    "corrStart = getEfdData(\n",
    "    client=client,\n",
    "    topic=\"lsst.sal.ATAOS.logevent_hexapodCorrectionStarted\",\n",
    "    columns=\"*\",\n",
    "    begin=start, end=end)\n",
    "\n",
    "corrComplete = getEfdData(\n",
    "    client=client,\n",
    "    topic=\"lsst.sal.ATAOS.logevent_hexapodCorrectionCompleted\",\n",
    "    columns=\"*\",\n",
    "    begin=start, end=end)\n",
    "hexapod['reportedPosition2'].plot(marker='x')\n",
    "hexapod['setpointPosition2'].plot(marker='+')\n",
    "for pos in inPos.index:\n",
    "    plt.axvline(pos.isoformat(), color='black', ls='--', label='HexInPosition')\n",
    "for cstrt in corrStart.index:\n",
    "    plt.axvline(cstrt.isoformat(), color='green', ls='--', label='CorrectionStart')\n",
    "for cplt in corrComplete.index:\n",
    "    plt.axvline(cplt.isoformat(), color='red', ls='-.', label='CorrectionComplete')\n",
    "plt.axvline(expStart.isot, color='magenta', ls='--', label='ExposureStart')\n",
    "plt.axvline(expEnd.isot, color='cyan', ls='--', label='ExposureEnd')\n",
    "plt.legend()"
   ]
  },
  {
   "cell_type": "code",
   "execution_count": null,
   "id": "f44ac834-ae04-47f8-91a7-fd3df7b6b308",
   "metadata": {
    "execution": {
     "iopub.execute_input": "2024-04-02T15:53:35.440012Z",
     "iopub.status.busy": "2024-04-02T15:53:35.439797Z",
     "iopub.status.idle": "2024-04-02T15:53:35.443026Z",
     "shell.execute_reply": "2024-04-02T15:53:35.442685Z",
     "shell.execute_reply.started": "2024-04-02T15:53:35.439989Z"
    }
   },
   "outputs": [],
   "source": [
    "inPos.index[0].isoformat()"
   ]
  },
  {
   "cell_type": "code",
   "execution_count": null,
   "id": "670acd71-048e-47c5-905c-2bfd236b1808",
   "metadata": {
    "execution": {
     "iopub.execute_input": "2024-04-02T16:21:32.313446Z",
     "iopub.status.busy": "2024-04-02T16:21:32.312902Z",
     "iopub.status.idle": "2024-04-02T16:21:32.491209Z",
     "shell.execute_reply": "2024-04-02T16:21:32.490846Z",
     "shell.execute_reply.started": "2024-04-02T16:21:32.313425Z"
    }
   },
   "outputs": [],
   "source": [
    "expIds = range(2024032100121, 2024032100130)\n",
    "expIds = range(2024032100242, 2024032100251)\n",
    "values = []\n",
    "for expId in expIds:\n",
    "    mData = butler.get('raw.metadata', exposure=expId, detector=0)\n",
    "    start = Time(mData['DATE-BEG'], scale='tai').utc\n",
    "    end = Time(mData['DATE-END'], scale='tai').utc\n",
    "    hexapod = getEfdData(\n",
    "        client=client,\n",
    "        topic=\"lsst.sal.ATHexapod.positionStatus\",\n",
    "        columns=\"*\",\n",
    "        begin=start, end=end)\n",
    "    value = hexapod['reportedPosition2'].values.mean()\n",
    "    values.append(value)\n",
    "    print(expId, value)\n",
    "    "
   ]
  },
  {
   "cell_type": "code",
   "execution_count": null,
   "id": "0a1293ab-ee90-46d6-850d-154f48294014",
   "metadata": {
    "execution": {
     "iopub.execute_input": "2024-04-02T16:17:54.074069Z",
     "iopub.status.busy": "2024-04-02T16:17:54.073858Z",
     "iopub.status.idle": "2024-04-02T16:17:54.166106Z",
     "shell.execute_reply": "2024-04-02T16:17:54.165757Z",
     "shell.execute_reply.started": "2024-04-02T16:17:54.074050Z"
    }
   },
   "outputs": [],
   "source": [
    "plt.plot(expIds, values, marker='x')"
   ]
  },
  {
   "cell_type": "code",
   "execution_count": null,
   "id": "52abc4f5-646a-4dc0-b1fd-3150533b2d12",
   "metadata": {
    "execution": {
     "iopub.execute_input": "2024-04-02T16:21:43.000815Z",
     "iopub.status.busy": "2024-04-02T16:21:43.000616Z",
     "iopub.status.idle": "2024-04-02T16:21:43.094428Z",
     "shell.execute_reply": "2024-04-02T16:21:43.093960Z",
     "shell.execute_reply.started": "2024-04-02T16:21:43.000802Z"
    }
   },
   "outputs": [],
   "source": [
    "hexapod['reportedPosition2'].plot()"
   ]
  },
  {
   "cell_type": "code",
   "execution_count": null,
   "id": "5327c9eb-0a38-464d-884b-10b7f555d119",
   "metadata": {
    "execution": {
     "iopub.execute_input": "2024-04-02T20:50:46.188052Z",
     "iopub.status.busy": "2024-04-02T20:50:46.187494Z",
     "iopub.status.idle": "2024-04-02T20:50:47.862035Z",
     "shell.execute_reply": "2024-04-02T20:50:47.861594Z",
     "shell.execute_reply.started": "2024-04-02T20:50:46.188025Z"
    }
   },
   "outputs": [],
   "source": [
    "expIds = [2024032100121, 2024032100129]\n",
    "mData = butler.get('raw.metadata', exposure=expIds[0], detector=0)\n",
    "start = Time(mData['DATE-BEG'], scale='tai').utc - TimeDelta(8.0, format='sec')\n",
    "mData = butler.get('raw.metadata', exposure=expIds[1], detector=0)\n",
    "end = Time(mData['DATE-END'], scale='tai').utc + TimeDelta(2.0, format='sec')\n",
    "hexapod = getEfdData(\n",
    "    client=client,\n",
    "    topic=\"lsst.sal.ATHexapod.positionStatus\",\n",
    "    columns=\"*\",\n",
    "    begin=start, end=end)\n",
    "inPos = getEfdData(\n",
    "    client=client,\n",
    "    topic=\"lsst.sal.ATHexapod.logevent_inPosition\",\n",
    "    columns=\"*\",\n",
    "    begin=start, end=end)\n",
    "inPos = inPos[inPos['inPosition']]\n",
    "\n",
    "expIds = range(2024032100121, 2024032100130)\n",
    "starts = []\n",
    "ends = []\n",
    "for expId in expIds:\n",
    "    mData = butler.get('raw.metadata', exposure=expId, detector=0)\n",
    "    start = Time(mData['DATE-BEG'], scale='tai').utc\n",
    "    end = Time(mData['DATE-END'], scale='tai').utc\n",
    "    starts.append(start)\n",
    "    ends.append(end)\n",
    "\n",
    "fig = plt.figure(figsize=(15,5))\n",
    "plt.title(f\"Hexapod Z position during focus sweep -{expIds[0]}, {expIds[-1]}\", fontsize=18)\n",
    "hexapod['reportedPosition2'].plot(marker='x')\n",
    "plt.axvline(starts[0].isot, color='green', ls='--', label='ExposureStart')\n",
    "plt.axvline(ends[0].isot, color='red', ls='--', label='ExposureEnd')\n",
    "plt.axvline(inPos.index[0].isoformat(), color='black', ls='--', label='HexInPosition')\n",
    "for pos in inPos.index:\n",
    "    plt.axvline(pos.isoformat(), color='black', ls='--', label='')\n",
    "for start in starts:\n",
    "    plt.axvline(start.isot, color='green', ls='--', label='')\n",
    "for end in ends:\n",
    "    plt.axvline(end.isot, color='red', ls='--', label='')\n",
    "plt.ylabel(\"Hexapod-Z (mm)\")\n",
    "plt.ylim(-1.25, -1.0)\n",
    "plt.legend(loc='upper left')\n",
    "plt.savefig(\"/home/c/cslage/u/AuxTel/fwhm/Focus_Sweep_Hexapod_02Apr24.pdf\")"
   ]
  },
  {
   "cell_type": "code",
   "execution_count": null,
   "id": "dfa06303-809e-477e-a19c-9d0e751efe72",
   "metadata": {
    "execution": {
     "iopub.execute_input": "2024-04-02T20:52:22.828874Z",
     "iopub.status.busy": "2024-04-02T20:52:22.828359Z",
     "iopub.status.idle": "2024-04-02T20:52:22.832887Z",
     "shell.execute_reply": "2024-04-02T20:52:22.832488Z",
     "shell.execute_reply.started": "2024-04-02T20:52:22.828859Z"
    },
    "jupyter": {
     "outputs_hidden": true
    }
   },
   "outputs": [],
   "source": [
    "for i, value in enumerate(hexapod['reportedPosition2'].values):\n",
    "    print(i, value)"
   ]
  },
  {
   "cell_type": "code",
   "execution_count": null,
   "id": "a337002e-9cf3-41c9-b852-ee789c1424b8",
   "metadata": {
    "execution": {
     "iopub.execute_input": "2024-04-02T20:53:11.829865Z",
     "iopub.status.busy": "2024-04-02T20:53:11.829346Z",
     "iopub.status.idle": "2024-04-02T20:53:11.833068Z",
     "shell.execute_reply": "2024-04-02T20:53:11.832676Z",
     "shell.execute_reply.started": "2024-04-02T20:53:11.829850Z"
    }
   },
   "outputs": [],
   "source": [
    "hexapod['reportedPosition2'].values[10] - hexapod['reportedPosition2'].values[32]"
   ]
  },
  {
   "cell_type": "code",
   "execution_count": null,
   "id": "67cb6ec5-3158-4152-968e-dd1d8d544daa",
   "metadata": {},
   "outputs": [],
   "source": []
  }
 ],
 "metadata": {
  "kernelspec": {
   "display_name": "LSST",
   "language": "python",
   "name": "lsst"
  },
  "language_info": {
   "codemirror_mode": {
    "name": "ipython",
    "version": 3
   },
   "file_extension": ".py",
   "mimetype": "text/x-python",
   "name": "python",
   "nbconvert_exporter": "python",
   "pygments_lexer": "ipython3",
   "version": "3.11.7"
  }
 },
 "nbformat": 4,
 "nbformat_minor": 5
}
