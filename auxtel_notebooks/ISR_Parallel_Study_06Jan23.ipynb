{
 "cells": [
  {
   "cell_type": "markdown",
   "metadata": {},
   "source": [
    "## Trying parallel overscan subtraction on AuxTel ISR\n",
    "\n",
    "Craig Lage - 04-Jan-23"
   ]
  },
  {
   "cell_type": "code",
   "execution_count": null,
   "metadata": {
    "execution": {
     "iopub.execute_input": "2023-01-06T14:44:04.688518Z",
     "iopub.status.busy": "2023-01-06T14:44:04.688336Z",
     "iopub.status.idle": "2023-01-06T14:44:07.445072Z",
     "shell.execute_reply": "2023-01-06T14:44:07.444423Z",
     "shell.execute_reply.started": "2023-01-06T14:44:04.688502Z"
    },
    "tags": []
   },
   "outputs": [],
   "source": [
    "import numpy as np\n",
    "import matplotlib.pyplot as plt\n",
    "import astropy.io.fits as pf\n",
    "import lsst.afw.cameraGeom.utils as camGeomUtils\n",
    "from lsst.ip.isr import IsrTask, IsrTaskConfig\n",
    "from mpl_toolkits.axes_grid1 import make_axes_locatable\n",
    "from matplotlib.colors import LogNorm\n",
    "\n",
    "from lsst.summit.utils import quickSmooth\n",
    "%matplotlib inline\n",
    "\n",
    "from lsst.pipe.tasks.characterizeImage import CharacterizeImageTask\n",
    "from lsst.meas.algorithms.installGaussianPsf import InstallGaussianPsfTask"
   ]
  },
  {
   "cell_type": "code",
   "execution_count": null,
   "metadata": {
    "execution": {
     "iopub.execute_input": "2023-01-06T14:44:07.446181Z",
     "iopub.status.busy": "2023-01-06T14:44:07.445871Z",
     "iopub.status.idle": "2023-01-06T14:44:08.426962Z",
     "shell.execute_reply": "2023-01-06T14:44:08.426344Z",
     "shell.execute_reply.started": "2023-01-06T14:44:07.446161Z"
    },
    "tags": []
   },
   "outputs": [],
   "source": [
    "from lsst.daf.butler import Butler\n",
    "butler = Butler('/repo/embargo', collections=[\"LATISS/raw/all\", \"u/cslage/sdf/calib/latiss/calib_parallel_20230104\"])"
   ]
  },
  {
   "cell_type": "code",
   "execution_count": null,
   "metadata": {
    "execution": {
     "iopub.execute_input": "2023-01-06T14:44:08.428018Z",
     "iopub.status.busy": "2023-01-06T14:44:08.427846Z",
     "iopub.status.idle": "2023-01-06T14:44:08.434348Z",
     "shell.execute_reply": "2023-01-06T14:44:08.433809Z",
     "shell.execute_reply.started": "2023-01-06T14:44:08.428001Z"
    },
    "tags": []
   },
   "outputs": [],
   "source": [
    "def plotExp(exp):\n",
    "    # Borrowed from summit utils\n",
    "    data = quickSmooth(exp.image.array, 1)\n",
    "    vmin = np.nanpercentile(data, 1)\n",
    "    vmax = np.nanpercentile(data, 99)\n",
    "    print(vmin, vmax)\n",
    "    figure = plt.figure(figsize=(12,12))\n",
    "    figure.clear()\n",
    "    ax1 = figure.add_subplot(111)\n",
    "    im1 = ax1.imshow(data, cmap='gray', origin='lower', vmin=vmin, vmax=vmax)\n",
    "    ax1.tick_params(which=\"major\", direction=\"in\", top=True, right=True, labelsize=8)\n",
    "    divider = make_axes_locatable(ax1)\n",
    "    cax = divider.append_axes(\"right\", size=\"5%\", pad=0.05)\n",
    "    plt.colorbar(im1, cax=cax)\n",
    "    plt.tight_layout()\n",
    "    #plt.show()\n",
    "    return figure\n",
    "    \n",
    "def repairCosmics(postIsr):\n",
    "    # Borrowed from summit utils\n",
    "    if postIsr.getPsf() is None:\n",
    "        installPsfTask = InstallGaussianPsfTask()\n",
    "        installPsfTask.run(postIsr)\n",
    "\n",
    "    # TODO: try adding a reasonably wide Gaussian as a temp PSF\n",
    "    # and then just running repairTask on its own without any\n",
    "    # imChar. It should work, and be faster.\n",
    "    repairConfig = CharacterizeImageTask.ConfigClass()\n",
    "    repairConfig.doMeasurePsf = False\n",
    "    repairConfig.doApCorr = False\n",
    "    repairConfig.doDeblend = False\n",
    "    repairConfig.doWrite = False\n",
    "    repairConfig.repair.cosmicray.nCrPixelMax = 200000\n",
    "    repairTask = CharacterizeImageTask(config=repairConfig)\n",
    "    repairTask.repair.run(postIsr)\n",
    "    return"
   ]
  },
  {
   "cell_type": "markdown",
   "metadata": {},
   "source": [
    "# Run the same image as before, with parallel overscan subtraction\n"
   ]
  },
  {
   "cell_type": "code",
   "execution_count": null,
   "metadata": {
    "execution": {
     "iopub.execute_input": "2023-01-06T14:51:26.390233Z",
     "iopub.status.busy": "2023-01-06T14:51:26.389830Z",
     "iopub.status.idle": "2023-01-06T14:51:26.419512Z",
     "shell.execute_reply": "2023-01-06T14:51:26.418966Z",
     "shell.execute_reply.started": "2023-01-06T14:51:26.390212Z"
    },
    "tags": []
   },
   "outputs": [],
   "source": [
    "isrConfig = IsrTaskConfig()\n",
    "isrConfig.overscan.fitType=\"MEDIAN_PER_ROW\"\n",
    "isrConfig.overscan.doParallelOverscan=True\n",
    "isrConfig.doLinearize=False\n",
    "isrConfig.doOverscan=True\n",
    "isrConfig.doAssembleCcd=True\n",
    "isrConfig.doBias=False\n",
    "isrConfig.doVariance=True\n",
    "isrConfig.doLinearize=False\n",
    "isrConfig.doCrosstalk=False\n",
    "isrConfig.doBrighterFatter=False\n",
    "isrConfig.doDark=False\n",
    "isrConfig.doStrayLight=False\n",
    "isrConfig.doFlat=False\n",
    "isrConfig.doFringe=False\n",
    "isrConfig.doApplyGains=False\n",
    "isrConfig.doDefect=True\n",
    "isrConfig.doNanMasking=True\n",
    "isrConfig.doInterpolate=True\n",
    "isrConfig.doSaturation=True\n",
    "isrConfig.doSaturationInterpolation=True\n",
    "isrConfig.doWrite=False\n",
    "isrTask = IsrTask(config=isrConfig)"
   ]
  },
  {
   "cell_type": "code",
   "execution_count": null,
   "metadata": {
    "execution": {
     "iopub.execute_input": "2023-01-06T14:51:27.710899Z",
     "iopub.status.busy": "2023-01-06T14:51:27.710632Z",
     "iopub.status.idle": "2023-01-06T14:51:39.025542Z",
     "shell.execute_reply": "2023-01-06T14:51:39.024906Z",
     "shell.execute_reply.started": "2023-01-06T14:51:27.710879Z"
    },
    "tags": []
   },
   "outputs": [],
   "source": [
    "expId=2022121200752\n",
    "exp = butler.get('raw', detector=0, exposure=expId)\n",
    "biasExp = butler.get('bias', detector=0, exposure=expId)\n",
    "flatExp = butler.get('flat', detector=0, exposure=expId)\n",
    "darkExp = butler.get('dark', detector=0, exposure=expId)\n",
    "defectExp = butler.get('defects', detector=0, exposure=expId)\n",
    "isrResult = isrTask.run(exp, bias=biasExp, flat=flatExp, dark=darkExp, defects=defectExp)\n",
    "postIsrExp = isrResult.exposure\n",
    "repairCosmics(postIsrExp)\n",
    "fig = plotExp(postIsrExp)\n",
    "#plt.savefig(f\"/home/c/cslage/u/AuxTel/isr/isr_study_04jan23/Parallel_Overscan_Sigma_Clip_{expId}_05Jan23.png\")"
   ]
  },
  {
   "cell_type": "code",
   "execution_count": null,
   "metadata": {
    "execution": {
     "iopub.execute_input": "2023-01-06T14:51:40.260579Z",
     "iopub.status.busy": "2023-01-06T14:51:40.260387Z",
     "iopub.status.idle": "2023-01-06T14:51:40.823679Z",
     "shell.execute_reply": "2023-01-06T14:51:40.823042Z",
     "shell.execute_reply.started": "2023-01-06T14:51:40.260559Z"
    },
    "tags": []
   },
   "outputs": [],
   "source": [
    "fig = plt.figure()\n",
    "plt.subplots_adjust(hspace=0.5, wspace=0.5)\n",
    "rawPlot = np.median(isrResult.exposure.image.array[2100:3900, 0:4000], axis=0)\n",
    "rawPlot -= np.median(rawPlot)\n",
    "plt.subplot(2,1,1)\n",
    "plt.title(f\"Parallel Overscan Debug - Top\")\n",
    "plt.plot(rawPlot, label=\"Raw\")\n",
    "#plt.plot(biasPlot, ls = '--', label=\"MasterBias\")\n",
    "plt.xlim(0,4000)\n",
    "plt.ylim(-40,40)\n",
    "plt.legend()\n",
    "plt.xlabel(\"X coord (pixels)\")\n",
    "plt.ylabel(\"ADU\")\n",
    "rawPlot = np.median(isrResult.exposure.image.array[100:1900, 0:4000], axis=0)\n",
    "rawPlot -= np.median(rawPlot)\n",
    "plt.subplot(2,1,2)\n",
    "plt.title(f\"Parallel Overscan Debug - Bottom\")\n",
    "plt.plot(rawPlot, label=\"Raw\")\n",
    "#plt.plot(biasPlot, ls = '--', label=\"MasterBias\")\n",
    "plt.xlim(0,4000)\n",
    "plt.ylim(-40,40)\n",
    "plt.legend()\n",
    "plt.xlabel(\"X coord (pixels)\")\n",
    "plt.ylabel(\"ADU\")\n",
    "\n",
    "#fig.savefig(f\"/home/c/cslage/u/AuxTel/isr/isr_study_04jan23/Parallel_Overscan_Sigma_Clip_Bias_Stability_{expId}_05Jan23.png\")"
   ]
  },
  {
   "cell_type": "code",
   "execution_count": null,
   "metadata": {},
   "outputs": [],
   "source": []
  }
 ],
 "metadata": {
  "kernelspec": {
   "display_name": "LSST",
   "language": "python",
   "name": "lsst"
  },
  "language_info": {
   "codemirror_mode": {
    "name": "ipython",
    "version": 3
   },
   "file_extension": ".py",
   "mimetype": "text/x-python",
   "name": "python",
   "nbconvert_exporter": "python",
   "pygments_lexer": "ipython3",
   "version": "3.10.8"
  }
 },
 "nbformat": 4,
 "nbformat_minor": 4
}
