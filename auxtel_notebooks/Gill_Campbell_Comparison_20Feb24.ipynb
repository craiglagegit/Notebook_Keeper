{
 "cells": [
  {
   "cell_type": "markdown",
   "metadata": {},
   "source": [
    "## AuxTel Image elongation due to azimuth oscillation\n",
    "\n",
    "Craig Lage 17-Mar-22"
   ]
  },
  {
   "cell_type": "code",
   "execution_count": null,
   "metadata": {
    "execution": {
     "iopub.execute_input": "2024-02-27T15:04:37.965347Z",
     "iopub.status.busy": "2024-02-27T15:04:37.965093Z",
     "iopub.status.idle": "2024-02-27T15:04:38.262899Z",
     "shell.execute_reply": "2024-02-27T15:04:38.262519Z",
     "shell.execute_reply.started": "2024-02-27T15:04:37.965330Z"
    },
    "tags": []
   },
   "outputs": [],
   "source": [
    "import sys, time, os, asyncio, glob\n",
    "\n",
    "from datetime import datetime\n",
    "import numpy as np\n",
    "import matplotlib.pyplot as plt\n",
    "from matplotlib.colors import LogNorm\n",
    "import pickle as pkl\n",
    "import pandas as pd\n",
    "import astropy.io.fits as pf\n",
    "from astropy.time import Time, TimeDelta\n",
    "from lsst_efd_client import EfdClient\n"
   ]
  },
  {
   "cell_type": "code",
   "execution_count": null,
   "metadata": {
    "execution": {
     "iopub.execute_input": "2024-02-27T15:04:39.086546Z",
     "iopub.status.busy": "2024-02-27T15:04:39.086211Z",
     "iopub.status.idle": "2024-02-27T15:04:39.512485Z",
     "shell.execute_reply": "2024-02-27T15:04:39.512079Z",
     "shell.execute_reply.started": "2024-02-27T15:04:39.086528Z"
    },
    "tags": []
   },
   "outputs": [],
   "source": [
    "client = EfdClient('usdf_efd')"
   ]
  },
  {
   "cell_type": "code",
   "execution_count": null,
   "metadata": {
    "execution": {
     "iopub.execute_input": "2024-02-27T15:04:59.692280Z",
     "iopub.status.busy": "2024-02-27T15:04:59.692008Z",
     "iopub.status.idle": "2024-02-27T15:04:59.695235Z",
     "shell.execute_reply": "2024-02-27T15:04:59.694906Z",
     "shell.execute_reply.started": "2024-02-27T15:04:59.692261Z"
    },
    "tags": []
   },
   "outputs": [],
   "source": [
    "# Times to start looking at data\n",
    "start = Time(\"2024-02-20 12:00:00Z\", scale='utc')\n",
    "end = Time(\"2024-02-27 15:00:00Z\", scale='utc')"
   ]
  },
  {
   "cell_type": "code",
   "execution_count": null,
   "metadata": {
    "execution": {
     "iopub.execute_input": "2024-02-27T15:05:01.761902Z",
     "iopub.status.busy": "2024-02-27T15:05:01.761458Z",
     "iopub.status.idle": "2024-02-27T15:05:02.179509Z",
     "shell.execute_reply": "2024-02-27T15:05:02.179148Z",
     "shell.execute_reply.started": "2024-02-27T15:05:01.761885Z"
    }
   },
   "outputs": [],
   "source": [
    "campbell = await client.select_time_series('lsst.sal.ESS.airTurbulence', ['*'], start, end, index=201)\n",
    "gill = await client.select_time_series('lsst.sal.ESS.airTurbulence', ['*'], start, end, index=205)\n",
    "print(len(campbell), len(gill))"
   ]
  },
  {
   "cell_type": "code",
   "execution_count": null,
   "metadata": {
    "execution": {
     "iopub.execute_input": "2024-02-27T15:05:05.529285Z",
     "iopub.status.busy": "2024-02-27T15:05:05.528830Z",
     "iopub.status.idle": "2024-02-27T15:05:06.182490Z",
     "shell.execute_reply": "2024-02-27T15:05:06.182072Z",
     "shell.execute_reply.started": "2024-02-27T15:05:05.529265Z"
    }
   },
   "outputs": [],
   "source": [
    "campbell = await client.select_time_series('lsst.sal.ESS.airTurbulence', ['*'], start, end, index=201)\n",
    "len(campbell)\n",
    "campbell['sonicTemperature'].plot()\n",
    "campbell['sonicTemperature'].tail(3)"
   ]
  },
  {
   "cell_type": "code",
   "execution_count": null,
   "metadata": {
    "execution": {
     "iopub.execute_input": "2024-02-27T15:05:21.388326Z",
     "iopub.status.busy": "2024-02-27T15:05:21.387657Z",
     "iopub.status.idle": "2024-02-27T15:05:30.605626Z",
     "shell.execute_reply": "2024-02-27T15:05:30.605211Z",
     "shell.execute_reply.started": "2024-02-27T15:05:21.388305Z"
    }
   },
   "outputs": [],
   "source": [
    "temp = await client.select_time_series('lsst.sal.ESS.temperature', ['*'], start, end, index=301)\n",
    "len(temp)\n",
    "temp['temperatureItem0'].plot()\n",
    "temp['temperatureItem0'].tail(3)"
   ]
  },
  {
   "cell_type": "code",
   "execution_count": null,
   "metadata": {},
   "outputs": [],
   "source": []
  }
 ],
 "metadata": {
  "kernelspec": {
   "display_name": "LSST",
   "language": "python",
   "name": "lsst"
  },
  "language_info": {
   "codemirror_mode": {
    "name": "ipython",
    "version": 3
   },
   "file_extension": ".py",
   "mimetype": "text/x-python",
   "name": "python",
   "nbconvert_exporter": "python",
   "pygments_lexer": "ipython3",
   "version": "3.11.7"
  }
 },
 "nbformat": 4,
 "nbformat_minor": 4
}
