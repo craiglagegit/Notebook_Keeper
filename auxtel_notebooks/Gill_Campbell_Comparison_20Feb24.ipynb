{
 "cells": [
  {
   "cell_type": "markdown",
   "metadata": {},
   "source": [
    "## AuxTel Image elongation due to azimuth oscillation\n",
    "\n",
    "Craig Lage 17-Mar-22"
   ]
  },
  {
   "cell_type": "code",
   "execution_count": null,
   "metadata": {
    "execution": {
     "iopub.execute_input": "2024-02-20T12:14:25.901484Z",
     "iopub.status.busy": "2024-02-20T12:14:25.901140Z",
     "iopub.status.idle": "2024-02-20T12:14:26.194597Z",
     "shell.execute_reply": "2024-02-20T12:14:26.194168Z",
     "shell.execute_reply.started": "2024-02-20T12:14:25.901465Z"
    },
    "tags": []
   },
   "outputs": [],
   "source": [
    "import sys, time, os, asyncio, glob\n",
    "\n",
    "from datetime import datetime\n",
    "import numpy as np\n",
    "import matplotlib.pyplot as plt\n",
    "from matplotlib.colors import LogNorm\n",
    "import pickle as pkl\n",
    "import pandas as pd\n",
    "import astropy.io.fits as pf\n",
    "from astropy.time import Time, TimeDelta\n",
    "from lsst_efd_client import EfdClient\n"
   ]
  },
  {
   "cell_type": "code",
   "execution_count": null,
   "metadata": {
    "execution": {
     "iopub.execute_input": "2024-02-20T12:22:42.069187Z",
     "iopub.status.busy": "2024-02-20T12:22:42.068855Z",
     "iopub.status.idle": "2024-02-20T12:22:42.484732Z",
     "shell.execute_reply": "2024-02-20T12:22:42.484324Z",
     "shell.execute_reply.started": "2024-02-20T12:22:42.069171Z"
    },
    "tags": []
   },
   "outputs": [],
   "source": [
    "client = EfdClient('usdf_efd')"
   ]
  },
  {
   "cell_type": "code",
   "execution_count": null,
   "metadata": {
    "execution": {
     "iopub.execute_input": "2024-02-20T17:35:29.686509Z",
     "iopub.status.busy": "2024-02-20T17:35:29.686254Z",
     "iopub.status.idle": "2024-02-20T17:35:29.689383Z",
     "shell.execute_reply": "2024-02-20T17:35:29.689058Z",
     "shell.execute_reply.started": "2024-02-20T17:35:29.686494Z"
    },
    "tags": []
   },
   "outputs": [],
   "source": [
    "# Times to start looking at data\n",
    "start = Time(\"2024-02-15 12:00:00Z\", scale='utc')\n",
    "end = Time(\"2024-02-20 12:00:00Z\", scale='utc')"
   ]
  },
  {
   "cell_type": "code",
   "execution_count": null,
   "metadata": {
    "execution": {
     "iopub.execute_input": "2024-02-20T17:35:35.136879Z",
     "iopub.status.busy": "2024-02-20T17:35:35.136455Z",
     "iopub.status.idle": "2024-02-20T17:35:35.226905Z",
     "shell.execute_reply": "2024-02-20T17:35:35.226572Z",
     "shell.execute_reply.started": "2024-02-20T17:35:35.136864Z"
    }
   },
   "outputs": [],
   "source": [
    "campbell = await client.select_time_series('lsst.sal.ESS.airTurbulence', ['*'], start, end, index=201)\n",
    "gill = await client.select_time_series('lsst.sal.ESS.airTurbulence', ['*'], start, end, index=205)\n",
    "print(len(campbell), len(gill))"
   ]
  },
  {
   "cell_type": "code",
   "execution_count": null,
   "metadata": {
    "execution": {
     "iopub.execute_input": "2024-02-20T17:35:40.650889Z",
     "iopub.status.busy": "2024-02-20T17:35:40.650427Z",
     "iopub.status.idle": "2024-02-20T17:35:40.849517Z",
     "shell.execute_reply": "2024-02-20T17:35:40.849182Z",
     "shell.execute_reply.started": "2024-02-20T17:35:40.650872Z"
    }
   },
   "outputs": [],
   "source": [
    "campbell = await client.select_time_series('lsst.sal.ESS.airTurbulence', ['*'], start, end, index=201)\n",
    "len(campbell)\n",
    "campbell['sonicTemperature'].plot()\n",
    "campbell['sonicTemperature'].tail(3)"
   ]
  },
  {
   "cell_type": "code",
   "execution_count": null,
   "metadata": {
    "execution": {
     "iopub.execute_input": "2024-02-20T12:32:49.511471Z",
     "iopub.status.busy": "2024-02-20T12:32:49.511219Z",
     "iopub.status.idle": "2024-02-20T12:32:51.124048Z",
     "shell.execute_reply": "2024-02-20T12:32:51.123577Z",
     "shell.execute_reply.started": "2024-02-20T12:32:49.511457Z"
    }
   },
   "outputs": [],
   "source": [
    "temp = await client.select_time_series('lsst.sal.ESS.temperature', ['*'], start, end, index=301)\n",
    "len(temp)\n",
    "temp['temperatureItem0'].plot()\n",
    "temp['temperatureItem0'].tail(3)"
   ]
  },
  {
   "cell_type": "code",
   "execution_count": null,
   "metadata": {},
   "outputs": [],
   "source": []
  }
 ],
 "metadata": {
  "kernelspec": {
   "display_name": "LSST",
   "language": "python",
   "name": "lsst"
  },
  "language_info": {
   "codemirror_mode": {
    "name": "ipython",
    "version": 3
   },
   "file_extension": ".py",
   "mimetype": "text/x-python",
   "name": "python",
   "nbconvert_exporter": "python",
   "pygments_lexer": "ipython3",
   "version": "3.11.7"
  }
 },
 "nbformat": 4,
 "nbformat_minor": 4
}
