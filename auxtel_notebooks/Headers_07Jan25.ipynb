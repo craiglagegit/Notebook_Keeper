{
 "cells": [
  {
   "cell_type": "markdown",
   "id": "192ec44c-3199-4c4e-b76e-d0356073756b",
   "metadata": {
    "execution": {
     "iopub.execute_input": "2024-08-02T16:24:58.781988Z",
     "iopub.status.busy": "2024-08-02T16:24:58.781677Z",
     "iopub.status.idle": "2024-08-02T16:24:58.785379Z",
     "shell.execute_reply": "2024-08-02T16:24:58.784744Z",
     "shell.execute_reply.started": "2024-08-02T16:24:58.781960Z"
    }
   },
   "source": [
    "# Headers quick look\n",
    "Craig Lage - 08-Jan-25"
   ]
  },
  {
   "cell_type": "code",
   "execution_count": null,
   "id": "3088ee0a-aa8e-48a7-b287-3ae645b3faab",
   "metadata": {
    "execution": {
     "iopub.execute_input": "2025-01-08T15:39:58.994538Z",
     "iopub.status.busy": "2025-01-08T15:39:58.994414Z",
     "iopub.status.idle": "2025-01-08T15:39:59.321651Z",
     "shell.execute_reply": "2025-01-08T15:39:59.321201Z",
     "shell.execute_reply.started": "2025-01-08T15:39:58.994524Z"
    }
   },
   "outputs": [],
   "source": [
    "import os\n",
    "import shlex, subprocess\n",
    "import matplotlib.pyplot as plt\n",
    "from mpl_toolkits.axes_grid1 import make_axes_locatable\n",
    "import numpy as np\n",
    "from astropy.io import fits\n",
    "from lsst.resources import ResourcePath"
   ]
  },
  {
   "cell_type": "markdown",
   "id": "257863ea-f430-4370-952a-ce33f372e16b",
   "metadata": {},
   "source": [
    "# A recent image"
   ]
  },
  {
   "cell_type": "code",
   "execution_count": null,
   "id": "44773708-ede6-40dd-8491-c6e6b454827e",
   "metadata": {
    "execution": {
     "iopub.execute_input": "2025-01-08T15:56:17.680633Z",
     "iopub.status.busy": "2025-01-08T15:56:17.679921Z",
     "iopub.status.idle": "2025-01-08T15:56:17.710274Z",
     "shell.execute_reply": "2025-01-08T15:56:17.709839Z",
     "shell.execute_reply.started": "2025-01-08T15:56:17.680613Z"
    }
   },
   "outputs": [],
   "source": [
    "dayObs = 20250107\n",
    "seqNum = 170\n",
    "expId = int(f\"{dayObs}{seqNum:05d}\")\n",
    "raft = 'R00'\n",
    "ccd = 'S00'\n",
    "\n",
    "filename = f\"s3://embargo@rubin-summit/LATISS/{dayObs}/AT_O_{dayObs}_{seqNum:06d}/AT_O_{dayObs}_{seqNum:06d}_{raft}_{ccd}.fits\"\n",
    "print(filename)\n",
    "rp = ResourcePath(filename)\n",
    "with rp.open(mode=\"rb\") as f:\n",
    "    hdu_list_2025010700170 = fits.open(f)\n"
   ]
  },
  {
   "cell_type": "code",
   "execution_count": null,
   "id": "9397b4ce-1c8a-4d5a-8787-3d1eb05db0eb",
   "metadata": {
    "execution": {
     "iopub.execute_input": "2025-01-08T15:42:39.091814Z",
     "iopub.status.busy": "2025-01-08T15:42:39.091393Z",
     "iopub.status.idle": "2025-01-08T15:42:39.319621Z",
     "shell.execute_reply": "2025-01-08T15:42:39.319124Z",
     "shell.execute_reply.started": "2025-01-08T15:42:39.091797Z"
    }
   },
   "outputs": [],
   "source": [
    "len(hdu_list_2025010700170)"
   ]
  },
  {
   "cell_type": "code",
   "execution_count": null,
   "id": "0e7ffdda-8c66-41b1-a1f6-adad417b3930",
   "metadata": {
    "execution": {
     "iopub.execute_input": "2025-01-08T15:42:53.980327Z",
     "iopub.status.busy": "2025-01-08T15:42:53.980105Z",
     "iopub.status.idle": "2025-01-08T15:42:54.023411Z",
     "shell.execute_reply": "2025-01-08T15:42:54.022915Z",
     "shell.execute_reply.started": "2025-01-08T15:42:53.980311Z"
    }
   },
   "outputs": [],
   "source": [
    "for i in range(len(hdu_list_2025010700170)):\n",
    "    hdr = hdu_list_2025010700170[i].header\n",
    "    n = 0\n",
    "    for key in hdr.keys():\n",
    "        #print(key, hdr[key])\n",
    "        n += 1\n",
    "    print(i, n)"
   ]
  },
  {
   "cell_type": "code",
   "execution_count": null,
   "id": "1828f3fe-2ad9-4241-b5ec-1f61763d25d0",
   "metadata": {},
   "outputs": [],
   "source": []
  },
  {
   "cell_type": "code",
   "execution_count": null,
   "id": "7db5763f-88e2-4d02-883b-321e1c2f9a1a",
   "metadata": {
    "execution": {
     "iopub.execute_input": "2025-01-08T15:56:24.114444Z",
     "iopub.status.busy": "2025-01-08T15:56:24.114149Z",
     "iopub.status.idle": "2025-01-08T15:56:24.741615Z",
     "shell.execute_reply": "2025-01-08T15:56:24.741182Z",
     "shell.execute_reply.started": "2025-01-08T15:56:24.114430Z"
    }
   },
   "outputs": [],
   "source": [
    "dayObs = 20241016\n",
    "seqNum = 421\n",
    "expId = int(f\"{dayObs}{seqNum:05d}\")\n",
    "raft = 'R00'\n",
    "ccd = 'S00'\n",
    "\n",
    "filename = f\"s3://rubin-summit/LATISS/{dayObs}/AT_O_{dayObs}_{seqNum:06d}/AT_O_{dayObs}_{seqNum:06d}_{raft}_{ccd}.fits\"\n",
    "print(filename)\n",
    "rp = ResourcePath(filename)\n",
    "with rp.open(mode=\"rb\") as f:\n",
    "    hdu_list_2024101600421 = fits.open(f)\n"
   ]
  },
  {
   "cell_type": "code",
   "execution_count": null,
   "id": "e8218f1e-062a-4bcc-932b-3b6267aecf49",
   "metadata": {
    "execution": {
     "iopub.execute_input": "2025-01-08T16:03:28.366480Z",
     "iopub.status.busy": "2025-01-08T16:03:28.366094Z",
     "iopub.status.idle": "2025-01-08T16:03:28.385677Z",
     "shell.execute_reply": "2025-01-08T16:03:28.385305Z",
     "shell.execute_reply.started": "2025-01-08T16:03:28.366462Z"
    }
   },
   "outputs": [],
   "source": [
    "len(hdu_list_2024101600421)"
   ]
  },
  {
   "cell_type": "code",
   "execution_count": null,
   "id": "78e09179-e2c8-49ad-a501-1922e4610937",
   "metadata": {
    "execution": {
     "iopub.execute_input": "2025-01-08T16:03:38.252896Z",
     "iopub.status.busy": "2025-01-08T16:03:38.252581Z",
     "iopub.status.idle": "2025-01-08T16:03:38.295501Z",
     "shell.execute_reply": "2025-01-08T16:03:38.295065Z",
     "shell.execute_reply.started": "2025-01-08T16:03:38.252881Z"
    }
   },
   "outputs": [],
   "source": [
    "for i in range(len(hdu_list_2024101600421)):\n",
    "    hdr = hdu_list_2024101600421[i].header\n",
    "    n = 0\n",
    "    for key in hdr.keys():\n",
    "        #print(key, hdr[key])\n",
    "        n += 1\n",
    "    print(i, n)"
   ]
  },
  {
   "cell_type": "code",
   "execution_count": null,
   "id": "05c85b62-09ea-42c6-944b-3ac34b303c82",
   "metadata": {
    "execution": {
     "iopub.execute_input": "2025-01-08T16:04:20.530958Z",
     "iopub.status.busy": "2025-01-08T16:04:20.530671Z",
     "iopub.status.idle": "2025-01-08T16:04:20.535778Z",
     "shell.execute_reply": "2025-01-08T16:04:20.535335Z",
     "shell.execute_reply.started": "2025-01-08T16:04:20.530944Z"
    }
   },
   "outputs": [],
   "source": [
    "hduLists = [hdu_list_2025010700170, hdu_list_2024101600421]\n",
    "for hdrNum in [0,17,18]:\n",
    "    hdr1 = hduLists[0][hdrNum].header\n",
    "    hdr2 = hduLists[1][hdrNum].header\n",
    "    for key in hdr1.keys():\n",
    "        if not key in hdr2.keys():\n",
    "            print(hdrNum, key)\n"
   ]
  },
  {
   "cell_type": "code",
   "execution_count": null,
   "id": "472e8d39-8493-450d-a980-0f56ec8d3b82",
   "metadata": {
    "execution": {
     "iopub.execute_input": "2025-01-08T16:01:08.091191Z",
     "iopub.status.busy": "2025-01-08T16:01:08.090888Z",
     "iopub.status.idle": "2025-01-08T16:01:08.096147Z",
     "shell.execute_reply": "2025-01-08T16:01:08.095721Z",
     "shell.execute_reply.started": "2025-01-08T16:01:08.091175Z"
    }
   },
   "outputs": [],
   "source": [
    "hduLists = [hdu_list_2025010700170, hdu_list_2024101600421]\n",
    "for hdrNum in [0,17,18]:\n",
    "    hdr1 = hduLists[0][hdrNum].header\n",
    "    hdr2 = hduLists[1][hdrNum].header\n",
    "    for key in hdr2.keys():\n",
    "        if not key in hdr1.keys():\n",
    "            print(hdrNum, key)\n"
   ]
  },
  {
   "cell_type": "code",
   "execution_count": null,
   "id": "f049b104-dbac-46f9-a8ed-5dac27ab2691",
   "metadata": {
    "execution": {
     "iopub.execute_input": "2025-01-08T16:02:28.314835Z",
     "iopub.status.busy": "2025-01-08T16:02:28.314488Z",
     "iopub.status.idle": "2025-01-08T16:02:28.339944Z",
     "shell.execute_reply": "2025-01-08T16:02:28.339293Z",
     "shell.execute_reply.started": "2025-01-08T16:02:28.314817Z"
    }
   },
   "outputs": [],
   "source": [
    "hduLists = [hdu_list_2025010700170, hdu_list_2024101600421]\n",
    "for hdrNum in [17]:\n",
    "    hdr1 = hduLists[0][hdrNum].header\n",
    "    hdr2 = hduLists[1][hdrNum].header\n",
    "    for key in hdr2.keys():\n",
    "        print(hdrNum, key, hdr1[key], hdr2[key])"
   ]
  },
  {
   "cell_type": "code",
   "execution_count": null,
   "id": "89e5aeab-9a47-468c-9ff1-d3267b0860bc",
   "metadata": {
    "execution": {
     "iopub.execute_input": "2025-01-08T15:59:41.871018Z",
     "iopub.status.busy": "2025-01-08T15:59:41.870733Z",
     "iopub.status.idle": "2025-01-08T15:59:41.875416Z",
     "shell.execute_reply": "2025-01-08T15:59:41.874998Z",
     "shell.execute_reply.started": "2025-01-08T15:59:41.871003Z"
    }
   },
   "outputs": [],
   "source": [
    "hduLists = [hdu_list_2025010700170, hdu_list_2024101600421]\n",
    "for hdrNum in [0]:\n",
    "    hdr1 = hduLists[0][hdrNum].header\n",
    "    hdr2 = hduLists[1][hdrNum].header\n",
    "    for key in hdr1.keys():\n",
    "        print(hdrNum, key)"
   ]
  },
  {
   "cell_type": "code",
   "execution_count": null,
   "id": "660ac251-39f5-41ce-ab77-13f16b57facf",
   "metadata": {
    "execution": {
     "iopub.execute_input": "2025-01-08T15:40:47.190254Z",
     "iopub.status.busy": "2025-01-08T15:40:47.189983Z",
     "iopub.status.idle": "2025-01-08T15:40:48.757864Z",
     "shell.execute_reply": "2025-01-08T15:40:48.757515Z",
     "shell.execute_reply.started": "2025-01-08T15:40:47.190237Z"
    }
   },
   "outputs": [],
   "source": [
    "len(hdu_list)"
   ]
  },
  {
   "cell_type": "code",
   "execution_count": null,
   "id": "ebb96d8e-8616-4d2f-bc8c-f7b4f5595d51",
   "metadata": {
    "execution": {
     "iopub.execute_input": "2025-01-08T15:43:36.872970Z",
     "iopub.status.busy": "2025-01-08T15:43:36.872678Z",
     "iopub.status.idle": "2025-01-08T15:43:36.934204Z",
     "shell.execute_reply": "2025-01-08T15:43:36.933682Z",
     "shell.execute_reply.started": "2025-01-08T15:43:36.872956Z"
    },
    "jupyter": {
     "outputs_hidden": true
    }
   },
   "outputs": [],
   "source": [
    "for i in range(len(hdu_list)):\n",
    "    hdr = hdu_list[i].header\n",
    "    n = 0\n",
    "    for key in hdr.keys():\n",
    "        print(key, hdr[key])\n",
    "        n += 1\n",
    "    print(i, n)"
   ]
  },
  {
   "cell_type": "code",
   "execution_count": null,
   "id": "685dc6ce-45e4-499c-8a9f-6f26774e8eb9",
   "metadata": {},
   "outputs": [],
   "source": [
    "from lsst.daf.butler import Butler\n",
    "#butler = Butler('/repo/embargo', collections=\"LATISS/raw/all\")\n",
    "butler = Butler('/repo/embargo_old', collections=\"LATISS/raw/all\")"
   ]
  },
  {
   "cell_type": "code",
   "execution_count": null,
   "id": "cca5fe31-1ea8-46d9-9d01-e377b2238aa4",
   "metadata": {},
   "outputs": [],
   "source": [
    "expId = 2024101600421\n",
    "instrument='LATISS'\n",
    "exp = butler.get('raw', detector=0, exposure=expId, instrument=instrument)\n"
   ]
  },
  {
   "cell_type": "code",
   "execution_count": null,
   "id": "51103d16-abc0-4084-bd9d-b31f2c0ed1fa",
   "metadata": {},
   "outputs": [],
   "source": [
    "filename = \"/home/c/cslage/u/AuxTel/fits_files/2024101600421_raw.fits\"\n",
    "exp.image.writeFits(filename)"
   ]
  },
  {
   "cell_type": "code",
   "execution_count": null,
   "id": "c1e3e599-14f9-408b-8a0c-4a23cd943454",
   "metadata": {},
   "outputs": [],
   "source": [
    "hdu_list = fits.open(filename)"
   ]
  },
  {
   "cell_type": "code",
   "execution_count": null,
   "id": "1c3517b1-823d-4827-a32a-229598b87984",
   "metadata": {},
   "outputs": [],
   "source": [
    "len(hdu_list)"
   ]
  },
  {
   "cell_type": "code",
   "execution_count": null,
   "id": "ae627496-d462-4ac3-bd30-92b72e677fcc",
   "metadata": {},
   "outputs": [],
   "source": [
    "for i in range(len(hdu_list)):\n",
    "    hdr = hdu_list[i].header\n",
    "    n = 0\n",
    "    for key in hdr.keys():\n",
    "        print(key, hdr[key])\n",
    "        n += 1\n",
    "    print(i, n)"
   ]
  },
  {
   "cell_type": "code",
   "execution_count": null,
   "id": "64c6bc2f-5575-4887-93f6-9f13803a97e3",
   "metadata": {},
   "outputs": [],
   "source": [
    "butler.retrieveArtifacts?"
   ]
  },
  {
   "cell_type": "code",
   "execution_count": null,
   "id": "c727a33e-44c4-4d1a-938b-6c40797d574e",
   "metadata": {},
   "outputs": [],
   "source": [
    "expId = 2024101600421\n",
    "instrument='LATISS'\n",
    "\n",
    "dataRef = {'detector':0, 'exposure':2024101600421, 'instrument':'LATISS'}\n",
    "filename = \"/home/c/cslage/u/AuxTel/fits_files\"\n",
    "rp = ResourcePath(filename)\n"
   ]
  },
  {
   "cell_type": "code",
   "execution_count": null,
   "id": "9e1c3ca2-3ac0-490b-ab0d-782dbb36cc2d",
   "metadata": {},
   "outputs": [],
   "source": [
    "butler.retrieveArtifacts(dataRef, rp)"
   ]
  },
  {
   "cell_type": "code",
   "execution_count": null,
   "id": "afd5de3d-6c0a-4bd9-aed1-f003eefa78e4",
   "metadata": {},
   "outputs": [],
   "source": [
    "%matplotlib inline\n",
    "\n",
    "dayObs = 20241204\n",
    "seqNum = 134\n",
    "expId = int(f\"{dayObs}{seqNum:05d}\")\n",
    "raft = 'R22'\n",
    "ccds = ['S00', 'S01', 'S21', 'S22']\n",
    "n = 2 # This just unpacks one frame.  This chooses which frame\n",
    "\n",
    "for ccd in ccds:\n",
    "    filename = f\"s3://embargo@rubin-summit/LSSTComCam/{dayObs}/CC_O_{dayObs}_{seqNum:06d}/CC_O_{dayObs}_{seqNum:06d}_{raft}_{ccd}_guider.fits\"\n",
    "    \n",
    "    rp = ResourcePath(filename)\n",
    "    with rp.open(mode=\"rb\") as f:\n",
    "        hdu_list = fits.open(f)\n",
    "    [roiRows, roiCols, roiUnder, nStamps, xor] = getMainHeaderInfo(hdu_list)\n",
    "    hduNum = 2 * n + 1\n",
    "    hdrn = hdu_list[hduNum].header\n",
    "    timestamp = hdrn['STMPTIME']\n",
    "    image_out = unpackStamps(hduNum)\n",
    "    fig = plt.figure(figsize=(10,10))\n",
    "    axs = fig.subplots(4,4)\n",
    "    plt.subplots_adjust(wspace=.7, hspace=-0.2)\n",
    "    plt.suptitle(f\"Guider mode {raft} {ccd} {expId}, Frame {n+1}\\n{timestamp}\", fontsize=24)\n",
    "    for i in range(4):\n",
    "        for j in range(4):\n",
    "            seg = i + 4 * j\n",
    "            axs[i][j].set_title(f\"segment {seg}\")\n",
    "            if autoscale:\n",
    "                im = axs[i][j].imshow(image_out[seg], interpolation='nearest', origin='upper', cmap='Greys')\n",
    "            else:\n",
    "                im = axs[i][j].imshow(image_out[seg], interpolation='nearest', origin='upper', vmin=vmin, vmax=vmax, cmap='Greys')\n",
    "            divider = make_axes_locatable(axs[i][j])\n",
    "            cax = divider.append_axes(\"right\", size=\"5%\", pad=0.05)\n",
    "            fig.colorbar(im, cax=cax)\n",
    "            \n",
    "    plt.savefig(f\"/home/c/cslage/u/Guider_Mode/quick_looks/Guider_QuickLook_{expId}_{raft}_{ccd}.png\")"
   ]
  },
  {
   "cell_type": "markdown",
   "id": "8f287a32-a1ef-46b3-86e6-2e73d46a2ce1",
   "metadata": {
    "execution": {
     "iopub.execute_input": "2024-12-06T12:37:35.605996Z",
     "iopub.status.busy": "2024-12-06T12:37:35.605697Z",
     "iopub.status.idle": "2024-12-06T12:37:35.608485Z",
     "shell.execute_reply": "2024-12-06T12:37:35.608027Z",
     "shell.execute_reply.started": "2024-12-06T12:37:35.605979Z"
    }
   },
   "source": [
    "# Quick look at one of the headers"
   ]
  },
  {
   "cell_type": "code",
   "execution_count": null,
   "id": "79d2ff8b-4b90-497d-88cc-4654cdd7257c",
   "metadata": {},
   "outputs": [],
   "source": [
    "hduNum = 1\n",
    "hdr_test = hdu_list[hduNum].header\n",
    "for key in hdr_test.keys():\n",
    "    print(key, hdr_test[key])"
   ]
  },
  {
   "cell_type": "code",
   "execution_count": null,
   "id": "4781f32c-d07c-4517-8fd9-d47ab1e38cef",
   "metadata": {},
   "outputs": [],
   "source": [
    "seg = 13\n",
    "arr = np.array(image_out[seg])\n",
    "arr = arr - np.median(arr)\n",
    "(ycen, xcen) = np.unravel_index(arr.argmax(), arr.shape)\n",
    "stamp = 30\n",
    "x1 = int(xcen - stamp / 2)\n",
    "x2 = x1 + stamp\n",
    "\n",
    "y1 = int(ycen - stamp / 2)\n",
    "y2 = y1 + stamp\n",
    "print(x1, x2, y1, y2, xcen, ycen)\n",
    "plt.imshow(arr[y1:y2, x1:x2], interpolation='nearest', origin='lower')#, cmap='Greys')"
   ]
  },
  {
   "cell_type": "code",
   "execution_count": null,
   "id": "7ad64c06-217c-48af-bf53-31eda9be0303",
   "metadata": {},
   "outputs": [],
   "source": [
    "np.unravel_index(arr.argmax(), arr.shape)"
   ]
  },
  {
   "cell_type": "code",
   "execution_count": null,
   "id": "517fa7e4-66a4-47c9-bf71-aca5c234707b",
   "metadata": {},
   "outputs": [],
   "source": [
    "arr"
   ]
  },
  {
   "cell_type": "code",
   "execution_count": null,
   "id": "5b489632-7d46-4c20-ac86-248db0f1c33f",
   "metadata": {},
   "outputs": [],
   "source": []
  },
  {
   "cell_type": "code",
   "execution_count": null,
   "id": "a55ce30b-68d9-4fc9-baf9-064b8a88ce64",
   "metadata": {},
   "outputs": [],
   "source": [
    "com(arr)"
   ]
  },
  {
   "cell_type": "code",
   "execution_count": null,
   "id": "ec552b15-877f-45ba-b63d-7ea542da0c7f",
   "metadata": {},
   "outputs": [],
   "source": []
  }
 ],
 "metadata": {
  "kernelspec": {
   "display_name": "LSST",
   "language": "python",
   "name": "lsst"
  },
  "language_info": {
   "codemirror_mode": {
    "name": "ipython",
    "version": 3
   },
   "file_extension": ".py",
   "mimetype": "text/x-python",
   "name": "python",
   "nbconvert_exporter": "python",
   "pygments_lexer": "ipython3",
   "version": "3.11.9"
  }
 },
 "nbformat": 4,
 "nbformat_minor": 5
}
