{
 "cells": [
  {
   "cell_type": "markdown",
   "metadata": {},
   "source": [
    "## Queries - Gen3\n",
    "\n",
    "In this notebook, we show several ways to query the Gen3 data\\\n",
    "Craig Lage - 25-Jul-24"
   ]
  },
  {
   "cell_type": "code",
   "execution_count": null,
   "metadata": {
    "execution": {
     "iopub.execute_input": "2024-09-24T13:13:32.287920Z",
     "iopub.status.busy": "2024-09-24T13:13:32.287679Z",
     "iopub.status.idle": "2024-09-24T13:13:38.331048Z",
     "shell.execute_reply": "2024-09-24T13:13:38.330600Z",
     "shell.execute_reply.started": "2024-09-24T13:13:32.287900Z"
    },
    "tags": []
   },
   "outputs": [],
   "source": [
    "import numpy as np\n",
    "import matplotlib.pyplot as plt\n",
    "import astropy.io.fits as pf\n",
    "from astropy.time import Time, TimeDelta\n",
    "import pandas as pd\n",
    "from lsst.ip.isr import IsrTask, IsrTaskConfig\n",
    "from lsst.summit.utils.plotting import plot\n",
    "import lsst.afw.cameraGeom.utils as camGeomUtils\n",
    "import lsst.afw.display as afwDisplay"
   ]
  },
  {
   "cell_type": "code",
   "execution_count": null,
   "metadata": {
    "execution": {
     "iopub.execute_input": "2024-09-24T13:13:38.332555Z",
     "iopub.status.busy": "2024-09-24T13:13:38.332044Z",
     "iopub.status.idle": "2024-09-24T13:13:38.695743Z",
     "shell.execute_reply": "2024-09-24T13:13:38.695213Z",
     "shell.execute_reply.started": "2024-09-24T13:13:38.332541Z"
    },
    "tags": []
   },
   "outputs": [],
   "source": [
    "from lsst.daf.butler import Butler\n",
    "butler = Butler('/repo/embargo', collections=[\"LATISS/raw/all\"])"
   ]
  },
  {
   "cell_type": "code",
   "execution_count": null,
   "metadata": {
    "execution": {
     "iopub.execute_input": "2024-07-25T16:04:14.413377Z",
     "iopub.status.busy": "2024-07-25T16:04:14.412908Z",
     "iopub.status.idle": "2024-07-25T16:04:14.577796Z",
     "shell.execute_reply": "2024-07-25T16:04:14.577222Z",
     "shell.execute_reply.started": "2024-07-25T16:04:14.413360Z"
    },
    "jupyter": {
     "outputs_hidden": true,
     "source_hidden": true
    }
   },
   "outputs": [],
   "source": [
    "dayObs = 20240716\n",
    "\n",
    "exposureList = []\n",
    "for record in butler.registry.queryDimensionRecords(\"exposure\", where=\"exposure.day_obs=%d\"%dayObs):\n",
    "    exposureList.append([record.id, record])\n",
    "exposureList.sort(key=lambda x: x[0])\n",
    "for [id,record] in exposureList:\n",
    "    print(record.id, record.observation_type, record.exposure_time, record.physical_filter)#, \\\n"
   ]
  },
  {
   "cell_type": "markdown",
   "metadata": {},
   "source": [
    "## Define a simple ISR\n",
    "### Just overscan subtraction and bias subtraction."
   ]
  },
  {
   "cell_type": "code",
   "execution_count": null,
   "metadata": {
    "execution": {
     "iopub.execute_input": "2024-07-25T16:06:28.342884Z",
     "iopub.status.busy": "2024-07-25T16:06:28.342632Z",
     "iopub.status.idle": "2024-07-25T16:06:28.397318Z",
     "shell.execute_reply": "2024-07-25T16:06:28.396888Z",
     "shell.execute_reply.started": "2024-07-25T16:06:28.342869Z"
    },
    "tags": []
   },
   "outputs": [],
   "source": [
    "isrConfig = IsrTaskConfig()\n",
    "isrConfig.doLinearize=False\n",
    "isrConfig.doOverscan=True\n",
    "isrConfig.overscan.fitType=\"MEDIAN_PER_ROW\"\n",
    "isrConfig.overscan.doParallelOverscan=False\n",
    "isrConfig.doAssembleCcd=True\n",
    "isrConfig.doBias=False\n",
    "isrConfig.doVariance=False\n",
    "isrConfig.doCrosstalk=False\n",
    "isrConfig.doBrighterFatter=False\n",
    "isrConfig.doDark=False\n",
    "isrConfig.doStrayLight=False\n",
    "isrConfig.doFlat=False\n",
    "isrConfig.doFringe=False\n",
    "isrConfig.doApplyGains=True\n",
    "isrConfig.doDefect=False\n",
    "isrConfig.doNanMasking=True\n",
    "isrConfig.doInterpolate=False\n",
    "isrConfig.doSaturation=False\n",
    "isrConfig.doSaturationInterpolation=False\n",
    "isrTask = IsrTask(config=isrConfig)"
   ]
  },
  {
   "cell_type": "markdown",
   "metadata": {},
   "source": [
    "## Run the ISR and look at the result"
   ]
  },
  {
   "cell_type": "code",
   "execution_count": null,
   "metadata": {
    "execution": {
     "iopub.execute_input": "2024-07-25T16:06:34.319665Z",
     "iopub.status.busy": "2024-07-25T16:06:34.319365Z",
     "iopub.status.idle": "2024-07-25T16:06:36.728208Z",
     "shell.execute_reply": "2024-07-25T16:06:36.727702Z",
     "shell.execute_reply.started": "2024-07-25T16:06:34.319650Z"
    },
    "tags": []
   },
   "outputs": [],
   "source": [
    "expId = 2022102600437\n",
    "instrument='LATISS'\n",
    "exp = butler.get('raw', detector=0, exposure=expId, instrument=instrument)\n",
    "isrResult = isrTask.run(exp) # This runs the ISR"
   ]
  },
  {
   "cell_type": "code",
   "execution_count": null,
   "metadata": {
    "execution": {
     "iopub.execute_input": "2024-07-25T16:07:51.419481Z",
     "iopub.status.busy": "2024-07-25T16:07:51.419188Z",
     "iopub.status.idle": "2024-07-25T16:07:53.243480Z",
     "shell.execute_reply": "2024-07-25T16:07:53.243028Z",
     "shell.execute_reply.started": "2024-07-25T16:07:51.419466Z"
    }
   },
   "outputs": [],
   "source": [
    "%matplotlib inline\n",
    "x = plot(isrResult.exposure, stretch='linear')\n",
    "plt.savefig(f\"/home/c/cslage/u/AuxTel/stuttered/AuxTel_Stuttered_{expId}.png\")"
   ]
  },
  {
   "cell_type": "code",
   "execution_count": null,
   "metadata": {},
   "outputs": [],
   "source": [
    "expId = 2024022200254\n",
    "exp = butler.get('raw', detector=0, exposure=expId)\n"
   ]
  },
  {
   "cell_type": "code",
   "execution_count": null,
   "metadata": {},
   "outputs": [],
   "source": [
    "dataId = dict(day_obs=20240222, detector=0, seq_num=254)\n",
    "\n",
    "dataType = 'quickLookExp'\n",
    "exp = butler.get(dataType, dataId)"
   ]
  },
  {
   "cell_type": "code",
   "execution_count": null,
   "metadata": {},
   "outputs": [],
   "source": [
    "expId = 2024022200254\n",
    "exp = butler.get('quickLookExp', detector=0, exposure=expId)\n"
   ]
  },
  {
   "cell_type": "code",
   "execution_count": null,
   "metadata": {},
   "outputs": [],
   "source": []
  },
  {
   "cell_type": "code",
   "execution_count": null,
   "metadata": {},
   "outputs": [],
   "source": [
    "for record in records:\n",
    "    print(record.id)"
   ]
  },
  {
   "cell_type": "code",
   "execution_count": null,
   "metadata": {
    "tags": []
   },
   "outputs": [],
   "source": [
    "dayObs = 20230510\n",
    "exposureList = []\n",
    "for record in butler.registry.queryDimensionRecords(\"exposure\", where=\"exposure.day_obs=%d\"%dayObs):\n",
    "    exposureList.append([record.id, record])\n",
    "exposureList.sort(key=lambda x: x[0])\n",
    "for [id,record] in exposureList:\n",
    "    mData = butler.get('raw.metadata', detector=0, exposure=id)\n",
    "    print(record.id, record.observation_type, record.exposure_time, record.physical_filter)#, \\\n",
    "    #      record.target_name, mData['SEQFILE'])"
   ]
  },
  {
   "cell_type": "code",
   "execution_count": null,
   "metadata": {},
   "outputs": [],
   "source": []
  },
  {
   "cell_type": "code",
   "execution_count": null,
   "metadata": {},
   "outputs": [],
   "source": [
    "dayObs = 20230510\n",
    "for record in butler.registry.queryDimensionRecords(\"exposure\", where=\"exposure.day_obs=%d\"%dayObs):\n",
    "    expId = record.id\n",
    "    print(expId, int(expId - dayObs * 1E5))\n",
    "    break\n"
   ]
  },
  {
   "cell_type": "code",
   "execution_count": null,
   "metadata": {
    "tags": []
   },
   "outputs": [],
   "source": [
    "dayObs = 20220503\n",
    "exposureList = []\n",
    "for record in old_butler.registry.queryDimensionRecords(\"exposure\", where=\"exposure.day_obs=%d\"%dayObs):\n",
    "    exposureList.append([record.id, record])\n",
    "exposureList.sort(key=lambda x: x[0])\n",
    "for [id,record] in exposureList:\n",
    "    mData = old_butler.get('raw.metadata', detector=0, exposure=id)\n",
    "    print(record.id, record.observation_type, record.exposure_time, record.physical_filter)#, \\\n",
    "    #      record.target_name, mData['SEQFILE'])"
   ]
  },
  {
   "cell_type": "code",
   "execution_count": null,
   "metadata": {},
   "outputs": [],
   "source": [
    "record.azimuth"
   ]
  },
  {
   "cell_type": "code",
   "execution_count": null,
   "metadata": {},
   "outputs": [],
   "source": [
    "dataId={'instrument':'LATISS', 'detector':0, 'exposure':2022092700233}"
   ]
  },
  {
   "cell_type": "code",
   "execution_count": null,
   "metadata": {},
   "outputs": [],
   "source": [
    "test1 = butler.getURI('raw', dataId={'instrument':'LATISS', 'detector':0, 'exposure':2022092700233})"
   ]
  },
  {
   "cell_type": "code",
   "execution_count": null,
   "metadata": {},
   "outputs": [],
   "source": [
    "test.relativeToPathRoot"
   ]
  },
  {
   "cell_type": "code",
   "execution_count": null,
   "metadata": {},
   "outputs": [],
   "source": [
    "test.geturl()"
   ]
  },
  {
   "cell_type": "code",
   "execution_count": null,
   "metadata": {},
   "outputs": [],
   "source": [
    "test.path"
   ]
  },
  {
   "cell_type": "code",
   "execution_count": null,
   "metadata": {},
   "outputs": [],
   "source": [
    "data = butler.get('raw', dataId={'instrument':'LATISS', 'detector':0, 'exposure':2023050800002})"
   ]
  },
  {
   "cell_type": "code",
   "execution_count": null,
   "metadata": {},
   "outputs": [],
   "source": [
    "plt.imshow(test.image.array, interpolation='Nearest')"
   ]
  },
  {
   "cell_type": "code",
   "execution_count": null,
   "metadata": {
    "tags": []
   },
   "outputs": [],
   "source": [
    "test.readFitsWithOptions?"
   ]
  },
  {
   "cell_type": "code",
   "execution_count": null,
   "metadata": {
    "tags": []
   },
   "outputs": [],
   "source": [
    "for i in test:\n",
    "    print(i)"
   ]
  },
  {
   "cell_type": "code",
   "execution_count": null,
   "metadata": {
    "tags": []
   },
   "outputs": [],
   "source": [
    "FWHM_list"
   ]
  },
  {
   "cell_type": "code",
   "execution_count": null,
   "metadata": {},
   "outputs": [],
   "source": [
    "CD1_1 0.0552614153694827\n",
    "CD1_2 0.089281442480291\n",
    "CD2_1 -0.089281442480291\n",
    "CD2_2 0.0552614153694827"
   ]
  },
  {
   "cell_type": "code",
   "execution_count": null,
   "metadata": {
    "tags": []
   },
   "outputs": [],
   "source": [
    "expId = 2023031400200\n",
    "mData = butler.get('raw.metadata', detector=0, exposure=expId)\n",
    "print(mData['EXPTIME'])\n"
   ]
  },
  {
   "cell_type": "code",
   "execution_count": null,
   "metadata": {
    "tags": []
   },
   "outputs": [],
   "source": [
    "expId = 2023051000565\n",
    "mData = butler.get('raw.metadata', detector=0, exposure=expId)\n",
    "print(mData['SEQFILE'])"
   ]
  },
  {
   "cell_type": "code",
   "execution_count": null,
   "metadata": {
    "execution": {
     "iopub.execute_input": "2024-09-24T13:14:40.657860Z",
     "iopub.status.busy": "2024-09-24T13:14:40.657555Z",
     "iopub.status.idle": "2024-09-24T13:14:40.793374Z",
     "shell.execute_reply": "2024-09-24T13:14:40.792905Z",
     "shell.execute_reply.started": "2024-09-24T13:14:40.657843Z"
    }
   },
   "outputs": [],
   "source": [
    "expId =2024092300674\n",
    "mData = butler.get('raw.metadata', detector=0, exposure=expId)\n",
    "for key in mData.keys():\n",
    "    print(key, mData[key])\n"
   ]
  },
  {
   "cell_type": "code",
   "execution_count": null,
   "metadata": {
    "tags": []
   },
   "outputs": [],
   "source": [
    "for expId in [2024050600087, 2024050600042, 2024051302539, 2024051503964]:\n",
    "    mData = butler.get('raw.metadata', detector=0, exposure=expId)\n",
    "    for key in mData.keys():\n",
    "        if key in ['DOMEAZ', 'AZSTART']:\n",
    "            print(expId, key, mData[key])\n",
    "    \n",
    "    "
   ]
  },
  {
   "cell_type": "code",
   "execution_count": null,
   "metadata": {
    "execution": {
     "iopub.execute_input": "2024-08-28T10:59:42.954758Z",
     "iopub.status.busy": "2024-08-28T10:59:42.954141Z",
     "iopub.status.idle": "2024-08-28T10:59:43.673104Z",
     "shell.execute_reply": "2024-08-28T10:59:43.672760Z",
     "shell.execute_reply.started": "2024-08-28T10:59:42.954743Z"
    }
   },
   "outputs": [],
   "source": [
    "expId=2024082700510\n",
    "mData = butler.get('raw.metadata', detector=0, exposure=expId)\n",
    "for key in mData.keys():\n",
    "    print(key, mData[key])\n",
    "   "
   ]
  },
  {
   "cell_type": "code",
   "execution_count": null,
   "metadata": {
    "tags": []
   },
   "outputs": [],
   "source": [
    "for key in mData.keys():\n",
    "    if key in ['AP0_RC', 'AP0_GAIN','AP1_RC', 'AP1_GAIN']:\n",
    "        print(key, mData[key])"
   ]
  },
  {
   "cell_type": "code",
   "execution_count": null,
   "metadata": {},
   "outputs": [],
   "source": [
    "int(mData['DETSIZE'].split(',')[0].split(':')[1])"
   ]
  },
  {
   "cell_type": "code",
   "execution_count": null,
   "metadata": {},
   "outputs": [],
   "source": [
    "expId = 2022102600437\n",
    "exp = butler.get('raw', detector=0, exposure=expId)"
   ]
  },
  {
   "cell_type": "code",
   "execution_count": null,
   "metadata": {},
   "outputs": [],
   "source": [
    "# Look at the data with matplotlib\n",
    "# The raw data doesn't look very good, because of the large pedestal of about 15,000 ADU\n",
    "from matplotlib.colors import LogNorm\n",
    "# Now let's look at ithem\n",
    "def colorbar(mappable):\n",
    "    from mpl_toolkits.axes_grid1 import make_axes_locatable\n",
    "    last_axes = plt.gca()\n",
    "    ax = mappable.axes\n",
    "    fig = ax.figure\n",
    "    divider = make_axes_locatable(ax)\n",
    "    cax = divider.append_axes(\"right\", size=\"5%\", pad=0.05)\n",
    "    cbar = fig.colorbar(mappable, cax=cax)\n",
    "    plt.sca(last_axes)\n",
    "    return cbar\n",
    "\n",
    "plt.figure(figsize=(8,8))\n",
    "plt.suptitle(f\"Image\",fontsize=18)\n",
    "arr = exp.image.array\n",
    "img = plt.imshow(arr, norm=LogNorm(vmin=12000, vmax=20000), interpolation='Nearest', cmap='gray')\n",
    "colorbar(img)\n",
    "plt.tight_layout(h_pad=1)\n",
    "#plt.savefig(REPO_DIR+\"/plots/NGC4755_17Feb21.pdf\")"
   ]
  },
  {
   "cell_type": "code",
   "execution_count": null,
   "metadata": {},
   "outputs": [],
   "source": [
    "plt.plot(arr[1000,0:509])"
   ]
  },
  {
   "cell_type": "code",
   "execution_count": null,
   "metadata": {},
   "outputs": [],
   "source": [
    "np.median(arr)"
   ]
  },
  {
   "cell_type": "code",
   "execution_count": null,
   "metadata": {},
   "outputs": [],
   "source": []
  },
  {
   "cell_type": "code",
   "execution_count": null,
   "metadata": {},
   "outputs": [],
   "source": [
    "dayObs = 20210402\n",
    "expId = 2021040200034\n",
    "butler = Butler('/repo/main', collections=\"LSSTComCam/raw/all\")\n",
    "mData = butler.get('raw.metadata', detector=4, exposure=expId)"
   ]
  },
  {
   "cell_type": "code",
   "execution_count": null,
   "metadata": {},
   "outputs": [],
   "source": [
    "mData = butler.get('raw.metadata', detector=4, exposure=expId)\n",
    "for key in mData.keys():\n",
    "    print(key, mData[key])\n"
   ]
  },
  {
   "cell_type": "code",
   "execution_count": null,
   "metadata": {},
   "outputs": [],
   "source": [
    "expId = 3021120600576\n",
    "exp = butler.get('raw', detector=55, exposure=expId)"
   ]
  },
  {
   "cell_type": "code",
   "execution_count": null,
   "metadata": {},
   "outputs": [],
   "source": [
    "# Look at the data with matplotlib\n",
    "# The raw data doesn't look very good, because of the large pedestal of about 15,000 ADU\n",
    "from matplotlib.colors import LogNorm\n",
    "# Now let's look at ithem\n",
    "def colorbar(mappable):\n",
    "    from mpl_toolkits.axes_grid1 import make_axes_locatable\n",
    "    last_axes = plt.gca()\n",
    "    ax = mappable.axes\n",
    "    fig = ax.figure\n",
    "    divider = make_axes_locatable(ax)\n",
    "    cax = divider.append_axes(\"right\", size=\"5%\", pad=0.05)\n",
    "    cbar = fig.colorbar(mappable, cax=cax)\n",
    "    plt.sca(last_axes)\n",
    "    return cbar\n",
    "\n",
    "plt.figure(figsize=(8,8))\n",
    "plt.suptitle(f\"Image\",fontsize=18)\n",
    "arr = exp.image.array\n",
    "img = plt.imshow(arr, norm=LogNorm(vmin=10, vmax=100000), interpolation='Nearest', cmap='gray')\n",
    "colorbar(img)\n",
    "plt.tight_layout(h_pad=1)\n",
    "#plt.savefig(REPO_DIR+\"/plots/NGC4755_17Feb21.pdf\")"
   ]
  },
  {
   "cell_type": "code",
   "execution_count": null,
   "metadata": {},
   "outputs": [],
   "source": [
    "arr.std()"
   ]
  },
  {
   "cell_type": "code",
   "execution_count": null,
   "metadata": {},
   "outputs": [],
   "source": [
    "butler = Butler('/repo/main', collections=['LATISS/raw/all','LATISS/calib','u/cslage/calib/latiss/calib.2021021'])"
   ]
  },
  {
   "cell_type": "code",
   "execution_count": null,
   "metadata": {},
   "outputs": [],
   "source": []
  },
  {
   "cell_type": "code",
   "execution_count": null,
   "metadata": {},
   "outputs": [],
   "source": [
    "expId = 2021021700077\n",
    "exp = butler.get('raw', detector=0, exposure=expId)"
   ]
  },
  {
   "cell_type": "code",
   "execution_count": null,
   "metadata": {},
   "outputs": [],
   "source": [
    "expId = 2021021700090\n",
    "bias = butler.get('bias', detector=0, exposure=expId)"
   ]
  },
  {
   "cell_type": "code",
   "execution_count": null,
   "metadata": {},
   "outputs": [],
   "source": [
    "butler = Butler(\"/repo/main\", collections=[\"LSSTCam/raw/all\",\"LSSTCam/calib\",\"u/cslage/calib/13144/calib.20220103\",\\\n",
    "                                           \"u/cslage/tests/linearizer_dm33297_21jan22\"])"
   ]
  },
  {
   "cell_type": "code",
   "execution_count": null,
   "metadata": {},
   "outputs": [],
   "source": [
    "expId = 3021120600576"
   ]
  },
  {
   "cell_type": "code",
   "execution_count": null,
   "metadata": {},
   "outputs": [],
   "source": [
    "bias = butler.get('bias', detector=55, exposure=expId)"
   ]
  },
  {
   "cell_type": "code",
   "execution_count": null,
   "metadata": {},
   "outputs": [],
   "source": [
    "defect = butler.get('defects', detector=55, exposure=expId)"
   ]
  },
  {
   "cell_type": "code",
   "execution_count": null,
   "metadata": {},
   "outputs": [],
   "source": [
    "ptc = butler.get('ptc', detector=55, exposure=expId)"
   ]
  },
  {
   "cell_type": "code",
   "execution_count": null,
   "metadata": {},
   "outputs": [],
   "source": [
    "lin = butler.get('linearizer', detector=55, exposure=expId)"
   ]
  },
  {
   "cell_type": "code",
   "execution_count": null,
   "metadata": {},
   "outputs": [],
   "source": [
    "butler = Butler('/repo/oga', collections=[\"LATISS/raw/all\", \"LATISS/calib\"])\n",
    "mBias = butler.get('bias', detector=0, exposure=2022092900947)"
   ]
  },
  {
   "cell_type": "code",
   "execution_count": null,
   "metadata": {},
   "outputs": [],
   "source": [
    "type(mBias)"
   ]
  },
  {
   "cell_type": "code",
   "execution_count": null,
   "metadata": {
    "tags": []
   },
   "outputs": [],
   "source": [
    "# Gen3 butler\n",
    "for month in [1,2,3]:\n",
    "    for day in range(31):\n",
    "        dayObs = int(f\"2023{month:02}{day:02}\")\n",
    "        try:\n",
    "            exposureList = []\n",
    "            for record in butler.registry.queryDimensionRecords(\"exposure\", where=\"exposure.day_obs=%d\"%dayObs):\n",
    "                exposureList.append([record.id, record])\n",
    "            exposureList.sort(key=lambda x: x[0])\n",
    "            for [id,record] in exposureList:\n",
    "                if record.observation_type == 'dark' and record.exposure_time > 60.0:\n",
    "                    print(dayObs, id, record.exposure_time)\n",
    "        except:\n",
    "            continue"
   ]
  },
  {
   "cell_type": "code",
   "execution_count": null,
   "metadata": {},
   "outputs": [],
   "source": [
    "record.observation_type, record.exposure_time"
   ]
  },
  {
   "cell_type": "code",
   "execution_count": null,
   "metadata": {
    "tags": []
   },
   "outputs": [],
   "source": [
    "from lsst.daf.butler import Butler\n",
    "embargoButler = Butler('/repo/embargo', collections=\"LATISS/raw/all\")\n",
    "mainButler = Butler('/repo/main', collections=\"LATISS/raw/all\")\n",
    "dates = []\n",
    "RCs = []\n",
    "for year in [2022, 2023]:\n",
    "    for month in range(1,13):\n",
    "        if year == 2021:\n",
    "            butler = mainButler\n",
    "        if year == 2022:\n",
    "            if month < 9:\n",
    "                butler = mainButler\n",
    "            else:\n",
    "                butler = embargoButler\n",
    "        if year == 2023:\n",
    "            butler = embargoButler\n",
    "        for day in range(1,30):\n",
    "            dayObs = int(f\"{year}{month:02}{day:02}\")\n",
    "            expId = dayObs * 100000 + 1\n",
    "            try:\n",
    "                mData = butler.get('raw.metadata', detector=0, exposure=expId)\n",
    "                print(f\"{year}-{month:02}-{day:02} AP0_RC = {mData['AP0_RC']}\")\n",
    "                \n",
    "                RCs.append(mData['AP0_RC'])\n",
    "                date = pd.Timestamp(f\"{year}-{month:02}-{day:02}\")\n",
    "                dates.append(date)\n",
    "                continue\n",
    "            except:\n",
    "                continue"
   ]
  },
  {
   "cell_type": "code",
   "execution_count": null,
   "metadata": {
    "tags": []
   },
   "outputs": [],
   "source": [
    "print(len(dates), len(RCs))"
   ]
  },
  {
   "cell_type": "code",
   "execution_count": null,
   "metadata": {
    "tags": []
   },
   "outputs": [],
   "source": [
    "df = pd.DataFrame(RCs, dates, columns =['RC'])"
   ]
  },
  {
   "cell_type": "code",
   "execution_count": null,
   "metadata": {
    "tags": []
   },
   "outputs": [],
   "source": [
    "df.head(3)"
   ]
  },
  {
   "cell_type": "code",
   "execution_count": null,
   "metadata": {
    "tags": []
   },
   "outputs": [],
   "source": [
    "df.plot()"
   ]
  },
  {
   "cell_type": "code",
   "execution_count": null,
   "metadata": {
    "tags": []
   },
   "outputs": [],
   "source": [
    "df"
   ]
  },
  {
   "cell_type": "code",
   "execution_count": null,
   "metadata": {
    "tags": []
   },
   "outputs": [],
   "source": [
    "plt.plot(dates, RCs)"
   ]
  },
  {
   "cell_type": "code",
   "execution_count": null,
   "metadata": {
    "tags": []
   },
   "outputs": [],
   "source": [
    "dayObss"
   ]
  },
  {
   "cell_type": "code",
   "execution_count": null,
   "metadata": {
    "tags": []
   },
   "outputs": [],
   "source": [
    "date = Time(f\"{year}-{month:02}-{day:02}T00:00:00\")"
   ]
  },
  {
   "cell_type": "code",
   "execution_count": null,
   "metadata": {
    "tags": []
   },
   "outputs": [],
   "source": [
    "date.isot"
   ]
  },
  {
   "cell_type": "code",
   "execution_count": null,
   "metadata": {},
   "outputs": [],
   "source": [
    "test = [3,7]"
   ]
  },
  {
   "cell_type": "code",
   "execution_count": null,
   "metadata": {},
   "outputs": [],
   "source": [
    "if test:\n",
    "    print(\"True\")"
   ]
  },
  {
   "cell_type": "code",
   "execution_count": null,
   "metadata": {},
   "outputs": [],
   "source": [
    "from lsst.daf.butler import Butler\n",
    "butler = Butler('/repo/embargo', collections=[\"LSSTComCamSim/raw/all\", \"LSSTComCamSim/defaults\", \"LSSTComCamSim/quickLook/24\"])"
   ]
  },
  {
   "cell_type": "code",
   "execution_count": null,
   "metadata": {},
   "outputs": [],
   "source": [
    "butler.registry.queryDatasets(\n",
    "        \"raw\",\n",
    "        collections=\"LSSTComCamSim/raw/all\",\n",
    "        where=\"exposure.science_program='ops-rehearsal-3' and instrument='LSSTComCamSim' and exposure.day_obs=20240403 \",\n",
    ").count()"
   ]
  },
  {
   "cell_type": "code",
   "execution_count": null,
   "metadata": {},
   "outputs": [],
   "source": [
    "dayObs = 20240403\n",
    "\n",
    "exposureList = []\n",
    "for record in butler.registry.queryDimensionRecords(\"exposure\", \\\n",
    "    where=\"exposure.science_program='ops-rehearsal-3' and instrument='LSSTComCamSim' and exposure.day_obs=20240403\"):\n",
    "    exposureList.append([record.id, record])\n",
    "exposureList.sort(key=lambda x: x[0])\n",
    "for [id,record] in exposureList:\n",
    "    print(record.id, record.observation_type, record.exposure_time, record.physical_filter)\n"
   ]
  },
  {
   "cell_type": "code",
   "execution_count": null,
   "metadata": {},
   "outputs": [],
   "source": [
    "expId = 7024040300049\n",
    "butler.get('raw', detector=4, exposure=expId, instrument='LSSTComCamSim')"
   ]
  },
  {
   "cell_type": "code",
   "execution_count": null,
   "metadata": {},
   "outputs": [],
   "source": [
    "expId = 7024040300049\n",
    "mData = butler.get('raw.metadata', detector=4, exposure=expId)\n",
    "for key in mData.keys():\n",
    "    print(key, mData[key])\n"
   ]
  },
  {
   "cell_type": "code",
   "execution_count": null,
   "metadata": {},
   "outputs": [],
   "source": []
  }
 ],
 "metadata": {
  "kernelspec": {
   "display_name": "LSST",
   "language": "python",
   "name": "lsst"
  },
  "language_info": {
   "codemirror_mode": {
    "name": "ipython",
    "version": 3
   },
   "file_extension": ".py",
   "mimetype": "text/x-python",
   "name": "python",
   "nbconvert_exporter": "python",
   "pygments_lexer": "ipython3",
   "version": "3.11.9"
  }
 },
 "nbformat": 4,
 "nbformat_minor": 4
}
