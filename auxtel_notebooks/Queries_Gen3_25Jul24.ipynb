{
 "cells": [
  {
   "cell_type": "markdown",
   "metadata": {},
   "source": [
    "## Queries - Gen3\n",
    "\n",
    "In this notebook, we show several ways to query the Gen3 data\\\n",
    "Craig Lage - 25-Jul-24"
   ]
  },
  {
   "cell_type": "code",
   "execution_count": null,
   "metadata": {
    "execution": {
     "iopub.execute_input": "2025-03-25T12:06:35.433234Z",
     "iopub.status.busy": "2025-03-25T12:06:35.432911Z",
     "iopub.status.idle": "2025-03-25T12:06:46.230185Z",
     "shell.execute_reply": "2025-03-25T12:06:46.229716Z",
     "shell.execute_reply.started": "2025-03-25T12:06:35.433218Z"
    },
    "tags": []
   },
   "outputs": [],
   "source": [
    "import numpy as np\n",
    "import matplotlib.pyplot as plt\n",
    "import astropy.io.fits as pf\n",
    "from astropy.time import Time, TimeDelta\n",
    "import pandas as pd\n",
    "from lsst.ip.isr import IsrTask, IsrTaskConfig\n",
    "from lsst.summit.utils.plotting import plot\n",
    "import lsst.afw.cameraGeom.utils as camGeomUtils\n",
    "import lsst.afw.display as afwDisplay\n",
    "import lsst.summit.utils.butlerUtils as butlerUtils\n",
    "from lsst.daf.butler import Butler"
   ]
  },
  {
   "cell_type": "code",
   "execution_count": null,
   "metadata": {
    "execution": {
     "iopub.execute_input": "2025-03-25T12:06:46.231364Z",
     "iopub.status.busy": "2025-03-25T12:06:46.230878Z",
     "iopub.status.idle": "2025-03-25T12:06:46.699080Z",
     "shell.execute_reply": "2025-03-25T12:06:46.698645Z",
     "shell.execute_reply.started": "2025-03-25T12:06:46.231349Z"
    },
    "tags": []
   },
   "outputs": [],
   "source": [
    "butler = butlerUtils.makeDefaultButler(\"LATISS\")\n",
    "instrument = 'LATISS'"
   ]
  },
  {
   "cell_type": "code",
   "execution_count": null,
   "metadata": {
    "execution": {
     "iopub.execute_input": "2025-01-23T17:49:44.061631Z",
     "iopub.status.busy": "2025-01-23T17:49:44.061519Z",
     "iopub.status.idle": "2025-01-23T17:49:44.427461Z",
     "shell.execute_reply": "2025-01-23T17:49:44.427025Z",
     "shell.execute_reply.started": "2025-01-23T17:49:44.061620Z"
    }
   },
   "outputs": [],
   "source": [
    "butler = Butler('/repo/embargo_old', collections=\"LATISS/raw/all\")"
   ]
  },
  {
   "cell_type": "code",
   "execution_count": null,
   "metadata": {
    "execution": {
     "iopub.execute_input": "2025-03-19T15:22:33.376469Z",
     "iopub.status.busy": "2025-03-19T15:22:33.376133Z",
     "iopub.status.idle": "2025-03-19T15:22:33.495814Z",
     "shell.execute_reply": "2025-03-19T15:22:33.495236Z",
     "shell.execute_reply.started": "2025-03-19T15:22:33.376454Z"
    },
    "jupyter": {
     "outputs_hidden": true
    }
   },
   "outputs": [],
   "source": [
    "dayObs = 20250318\n",
    "\n",
    "exposureList = []\n",
    "for record in butler.registry.queryDimensionRecords(\"exposure\", where=\"exposure.day_obs=%d\"%dayObs):\n",
    "    exposureList.append([record.id, record])\n",
    "exposureList.sort(key=lambda x: x[0])\n",
    "for [id,record] in exposureList:\n",
    "    print(record.id, record.observation_type, record.exposure_time, record.physical_filter, record.timespan.begin.isot)#, \\\n"
   ]
  },
  {
   "cell_type": "code",
   "execution_count": null,
   "metadata": {
    "execution": {
     "iopub.execute_input": "2025-03-13T13:08:38.933842Z",
     "iopub.status.busy": "2025-03-13T13:08:38.933622Z",
     "iopub.status.idle": "2025-03-13T13:08:38.936967Z",
     "shell.execute_reply": "2025-03-13T13:08:38.936608Z",
     "shell.execute_reply.started": "2025-03-13T13:08:38.933827Z"
    }
   },
   "outputs": [],
   "source": [
    "record.timespan.begin.isot"
   ]
  },
  {
   "cell_type": "markdown",
   "metadata": {},
   "source": [
    "## Define a simple ISR\n",
    "### Just overscan subtraction and bias subtraction."
   ]
  },
  {
   "cell_type": "code",
   "execution_count": null,
   "metadata": {
    "execution": {
     "iopub.execute_input": "2025-02-26T13:42:46.977801Z",
     "iopub.status.busy": "2025-02-26T13:42:46.977516Z",
     "iopub.status.idle": "2025-02-26T13:42:47.229027Z",
     "shell.execute_reply": "2025-02-26T13:42:47.228628Z",
     "shell.execute_reply.started": "2025-02-26T13:42:46.977785Z"
    },
    "tags": []
   },
   "outputs": [],
   "source": [
    "isrConfig = IsrTaskConfig()\n",
    "isrConfig.doLinearize=False\n",
    "isrConfig.doOverscan=True\n",
    "isrConfig.overscan.fitType=\"MEDIAN_PER_ROW\"\n",
    "isrConfig.overscan.doParallelOverscan=True\n",
    "isrConfig.doAssembleCcd=True\n",
    "isrConfig.doBias=False\n",
    "isrConfig.doVariance=False\n",
    "isrConfig.doCrosstalk=False\n",
    "isrConfig.doBrighterFatter=False\n",
    "isrConfig.doDark=False\n",
    "isrConfig.doStrayLight=False\n",
    "isrConfig.doFlat=False\n",
    "isrConfig.doFringe=False\n",
    "isrConfig.doApplyGains=True\n",
    "isrConfig.doDefect=False\n",
    "isrConfig.doNanMasking=True\n",
    "isrConfig.doInterpolate=False\n",
    "isrConfig.doSaturation=False\n",
    "isrConfig.doSaturationInterpolation=False\n",
    "isrTask = IsrTask(config=isrConfig)"
   ]
  },
  {
   "cell_type": "markdown",
   "metadata": {},
   "source": [
    "## Run the ISR and look at the result"
   ]
  },
  {
   "cell_type": "code",
   "execution_count": null,
   "metadata": {
    "execution": {
     "iopub.execute_input": "2025-02-26T13:51:03.962712Z",
     "iopub.status.busy": "2025-02-26T13:51:03.962427Z",
     "iopub.status.idle": "2025-02-26T13:51:06.172230Z",
     "shell.execute_reply": "2025-02-26T13:51:06.171827Z",
     "shell.execute_reply.started": "2025-02-26T13:51:03.962697Z"
    },
    "tags": []
   },
   "outputs": [],
   "source": [
    "expId = 2025022500608\n",
    "#expId = 2025022500202\n",
    "#expId = 2024070800403\n",
    "instrument='LATISS'\n",
    "exp = butler.get('raw', detector=0, exposure=expId, instrument=instrument)\n",
    "isrResult = isrTask.run(exp) # This runs the ISR"
   ]
  },
  {
   "cell_type": "code",
   "execution_count": null,
   "metadata": {
    "execution": {
     "iopub.execute_input": "2025-02-26T13:51:07.410606Z",
     "iopub.status.busy": "2025-02-26T13:51:07.410311Z",
     "iopub.status.idle": "2025-02-26T13:51:08.609100Z",
     "shell.execute_reply": "2025-02-26T13:51:08.608721Z",
     "shell.execute_reply.started": "2025-02-26T13:51:07.410592Z"
    }
   },
   "outputs": [],
   "source": [
    "%matplotlib inline\n",
    "x = plot(isrResult.exposure, stretch='linear')\n",
    "#plt.savefig(f\"/home/c/cslage/u/AuxTel/stuttered/AuxTel_Stuttered_{expId}.png\")"
   ]
  },
  {
   "cell_type": "code",
   "execution_count": null,
   "metadata": {
    "execution": {
     "iopub.execute_input": "2025-02-26T13:51:15.513252Z",
     "iopub.status.busy": "2025-02-26T13:51:15.512914Z",
     "iopub.status.idle": "2025-02-26T13:51:15.583144Z",
     "shell.execute_reply": "2025-02-26T13:51:15.582789Z",
     "shell.execute_reply.started": "2025-02-26T13:51:15.513234Z"
    }
   },
   "outputs": [],
   "source": [
    "y = 2000\n",
    "x1 = 1700\n",
    "x2 = 1800\n",
    "xs = list(range(x1, x2))\n",
    "fluxes = isrResult.exposure.image.array[y, x1:x2]\n",
    "plt.plot(xs, fluxes)"
   ]
  },
  {
   "cell_type": "markdown",
   "metadata": {
    "execution": {
     "iopub.execute_input": "2025-01-30T15:53:04.631264Z",
     "iopub.status.busy": "2025-01-30T15:53:04.630923Z",
     "iopub.status.idle": "2025-01-30T15:53:04.633491Z",
     "shell.execute_reply": "2025-01-30T15:53:04.633091Z",
     "shell.execute_reply.started": "2025-01-30T15:53:04.631249Z"
    }
   },
   "source": [
    "# Trying DeepSeek's version"
   ]
  },
  {
   "cell_type": "code",
   "execution_count": null,
   "metadata": {
    "execution": {
     "iopub.execute_input": "2025-02-26T13:44:09.779613Z",
     "iopub.status.busy": "2025-02-26T13:44:09.779341Z",
     "iopub.status.idle": "2025-02-26T13:44:09.784065Z",
     "shell.execute_reply": "2025-02-26T13:44:09.783642Z",
     "shell.execute_reply.started": "2025-02-26T13:44:09.779599Z"
    }
   },
   "outputs": [],
   "source": [
    "import numpy as np\n",
    "from scipy.optimize import curve_fit\n",
    "\n",
    "def gaussian(x, bg, A, mu, sigma):\n",
    "    \"\"\"\n",
    "    Gaussian function\n",
    "    \"\"\"\n",
    "    return bg + A * np.exp(-(x - mu)**2 / (2 * sigma**2))\n",
    "\n",
    "def fit_gaussian(position_data, flux_data):\n",
    "    \"\"\"\n",
    "    Fits a Gaussian curve to flux vs position data\n",
    "    \n",
    "    Args:\n",
    "        position_data: 1D array of position values\n",
    "        flux_data: 1D array of corresponding flux values\n",
    "    \n",
    "    Returns:\n",
    "        Tuple of (A, mu, sigma) - optimal parameters for the Gaussian fit\n",
    "    \"\"\"\n",
    "    # Calculate initial parameter guesses\n",
    "    bg_guess = 0\n",
    "    A_guess = np.max(flux_data)\n",
    "    weighted_sum = np.sum(flux_data * position_data)\n",
    "    total_flux = np.sum(flux_data)\n",
    "    \n",
    "    if total_flux == 0:\n",
    "        raise ValueError(\"Total flux cannot be zero for fitting\")\n",
    "    \n",
    "    mu_guess = weighted_sum / total_flux\n",
    "    sigma_guess = np.sqrt(np.sum(flux_data * (position_data - mu_guess)**2) / total_flux)\n",
    "    \n",
    "    # Perform the curve fit\n",
    "    params, _ = curve_fit(gaussian, \n",
    "                         position_data, \n",
    "                         flux_data, \n",
    "                         p0=[bg_guess, A_guess, mu_guess, sigma_guess])\n",
    "    \n",
    "    return tuple(params)"
   ]
  },
  {
   "cell_type": "code",
   "execution_count": null,
   "metadata": {
    "execution": {
     "iopub.execute_input": "2025-02-26T13:51:25.084661Z",
     "iopub.status.busy": "2025-02-26T13:51:25.084375Z",
     "iopub.status.idle": "2025-02-26T13:51:25.088393Z",
     "shell.execute_reply": "2025-02-26T13:51:25.087990Z",
     "shell.execute_reply.started": "2025-02-26T13:51:25.084647Z"
    }
   },
   "outputs": [],
   "source": [
    "bg, A, mu, sigma = fit_gaussian(xs, fluxes)\n",
    "print(bg, A, mu, sigma)"
   ]
  },
  {
   "cell_type": "code",
   "execution_count": null,
   "metadata": {
    "execution": {
     "iopub.execute_input": "2025-01-30T15:57:12.443172Z",
     "iopub.status.busy": "2025-01-30T15:57:12.442834Z",
     "iopub.status.idle": "2025-01-30T15:57:12.446145Z",
     "shell.execute_reply": "2025-01-30T15:57:12.445789Z",
     "shell.execute_reply.started": "2025-01-30T15:57:12.443157Z"
    }
   },
   "outputs": [],
   "source": [
    "result.x"
   ]
  },
  {
   "cell_type": "code",
   "execution_count": null,
   "metadata": {
    "execution": {
     "iopub.execute_input": "2025-02-26T13:51:26.972561Z",
     "iopub.status.busy": "2025-02-26T13:51:26.972276Z",
     "iopub.status.idle": "2025-02-26T13:51:27.095078Z",
     "shell.execute_reply": "2025-02-26T13:51:27.094709Z",
     "shell.execute_reply.started": "2025-02-26T13:51:26.972547Z"
    }
   },
   "outputs": [],
   "source": [
    "y_fit = gaussian(xs, bg, A, mu, sigma)\n",
    "plt.plot(xs, fluxes)\n",
    "plt.plot(xs, y_fit, marker='x')\n",
    "plt.title(f\"LATISS Spectra {expId}, Y={y}\")\n",
    "fwhm = sigma / 10.0 * 2.355\n",
    "plt.text(mu+20, 20000, f\"FWHM = {fwhm:.2f} arcsec\")\n",
    "plt.savefig(f'/home/c/cslage/u/AuxTel/fwhm/Spectrum_FWHM_{expId}.png')"
   ]
  },
  {
   "cell_type": "code",
   "execution_count": null,
   "metadata": {},
   "outputs": [],
   "source": [
    "xs[0:3]"
   ]
  },
  {
   "cell_type": "code",
   "execution_count": null,
   "metadata": {
    "execution": {
     "iopub.execute_input": "2025-01-30T16:32:55.192609Z",
     "iopub.status.busy": "2025-01-30T16:32:55.192075Z",
     "iopub.status.idle": "2025-01-30T16:32:55.444430Z",
     "shell.execute_reply": "2025-01-30T16:32:55.444045Z",
     "shell.execute_reply.started": "2025-01-30T16:32:55.192591Z"
    }
   },
   "outputs": [],
   "source": [
    "from scipy.optimize import minimize\n",
    "def FOM(params, args):\n",
    "    fom = 0.0\n",
    "    [xs, fluxes] = args\n",
    "    [bg, mag, mean, sigma] = params\n",
    "    for i in range(len(xs)):\n",
    "        model = bg + mag * np.exp(-(xs[i] - mean)**2 / (2 * sigma**2))\n",
    "        fom += np.square(model - fluxes[i])\n",
    "    return fom\n",
    "\n",
    "args = [xs, fluxes]\n",
    "x0 = [1, 4000.0, 1750, 10]\n",
    "bounds=[(0, 5000), (1000, 200000), (1700, 1800), (2, 20)]\n",
    "result = minimize(FOM, x0, args=args, bounds=bounds, method='Powell')\n",
    "result"
   ]
  },
  {
   "cell_type": "code",
   "execution_count": null,
   "metadata": {
    "execution": {
     "iopub.execute_input": "2025-01-30T16:33:05.128865Z",
     "iopub.status.busy": "2025-01-30T16:33:05.128584Z",
     "iopub.status.idle": "2025-01-30T16:33:05.212611Z",
     "shell.execute_reply": "2025-01-30T16:33:05.212231Z",
     "shell.execute_reply.started": "2025-01-30T16:33:05.128850Z"
    }
   },
   "outputs": [],
   "source": [
    "[bg, mag, mean, sigma] = result.x\n",
    "fwhm = sigma / 10.0 * 2.355\n",
    "models = []\n",
    "for i in range(len(xs)):\n",
    "    model = bg + mag * np.exp(-(xs[i] - mean)**2 / (2 * sigma**2))\n",
    "    models.append(model)\n",
    "plt.plot(xs, fluxes)\n",
    "plt.plot(xs, models, marker='x')\n",
    "plt.text(1600, max(fluxes) / 2.0, f\"FWHM = {fwhm:.2f} arcsec\")\n"
   ]
  },
  {
   "cell_type": "code",
   "execution_count": null,
   "metadata": {
    "execution": {
     "iopub.execute_input": "2025-01-28T12:47:29.281520Z",
     "iopub.status.busy": "2025-01-28T12:47:29.281197Z",
     "iopub.status.idle": "2025-01-28T12:47:29.356162Z",
     "shell.execute_reply": "2025-01-28T12:47:29.355859Z",
     "shell.execute_reply.started": "2025-01-28T12:47:29.281501Z"
    }
   },
   "outputs": [],
   "source": [
    "sum = np.zeros(len(xs))\n",
    "for i in range(-8, 3,1):\n",
    "    for j in range(len(xs)):\n",
    "        index = j + i * 10\n",
    "        if index < 0 or index > x2-x1-1:\n",
    "            continue\n",
    "        sum[index] += fluxes[j]\n",
    "plt.plot(xs, sum)"
   ]
  },
  {
   "cell_type": "code",
   "execution_count": null,
   "metadata": {},
   "outputs": [],
   "source": [
    "expId = 2024022200254\n",
    "exp = butler.get('raw', detector=0, exposure=expId)\n"
   ]
  },
  {
   "cell_type": "code",
   "execution_count": null,
   "metadata": {},
   "outputs": [],
   "source": [
    "dataId = dict(day_obs=20240222, detector=0, seq_num=254)\n",
    "\n",
    "dataType = 'quickLookExp'\n",
    "exp = butler.get(dataType, dataId)"
   ]
  },
  {
   "cell_type": "code",
   "execution_count": null,
   "metadata": {},
   "outputs": [],
   "source": [
    "expId = 2024101600431\n",
    "exp = butler.get('raw', detector=0, exposure=expId)\n"
   ]
  },
  {
   "cell_type": "code",
   "execution_count": null,
   "metadata": {},
   "outputs": [],
   "source": []
  },
  {
   "cell_type": "code",
   "execution_count": null,
   "metadata": {},
   "outputs": [],
   "source": [
    "for record in records:\n",
    "    print(record.id)"
   ]
  },
  {
   "cell_type": "code",
   "execution_count": null,
   "metadata": {},
   "outputs": [],
   "source": [
    "import lsst.summit.utils.butlerUtils as butlerUtils\n",
    "butler = butlerUtils.makeDefaultButler(\"LATISS\")"
   ]
  },
  {
   "cell_type": "code",
   "execution_count": null,
   "metadata": {
    "tags": []
   },
   "outputs": [],
   "source": [
    "dayObs = 20241217\n",
    "exposureList = []\n",
    "for record in butler.registry.queryDimensionRecords(\"exposure\", where=\"exposure.day_obs=%d\"%dayObs):\n",
    "    exposureList.append([record.id, record])\n",
    "exposureList.sort(key=lambda x: x[0])\n",
    "for [id,record] in exposureList:\n",
    "    mData = butler.get('raw.metadata', detector=0, exposure=id)\n",
    "    print(record.id, record.observation_type, record.exposure_time, record.physical_filter)#, \\\n",
    "    #      record.target_name, mData['SEQFILE'])"
   ]
  },
  {
   "cell_type": "code",
   "execution_count": null,
   "metadata": {},
   "outputs": [],
   "source": []
  },
  {
   "cell_type": "code",
   "execution_count": null,
   "metadata": {},
   "outputs": [],
   "source": [
    "dayObs = 20230510\n",
    "for record in butler.registry.queryDimensionRecords(\"exposure\", where=\"exposure.day_obs=%d\"%dayObs):\n",
    "    expId = record.id\n",
    "    print(expId, int(expId - dayObs * 1E5))\n",
    "    break\n"
   ]
  },
  {
   "cell_type": "code",
   "execution_count": null,
   "metadata": {
    "tags": []
   },
   "outputs": [],
   "source": [
    "dayObs = 20220503\n",
    "exposureList = []\n",
    "for record in old_butler.registry.queryDimensionRecords(\"exposure\", where=\"exposure.day_obs=%d\"%dayObs):\n",
    "    exposureList.append([record.id, record])\n",
    "exposureList.sort(key=lambda x: x[0])\n",
    "for [id,record] in exposureList:\n",
    "    mData = old_butler.get('raw.metadata', detector=0, exposure=id)\n",
    "    print(record.id, record.observation_type, record.exposure_time, record.physical_filter)#, \\\n",
    "    #      record.target_name, mData['SEQFILE'])"
   ]
  },
  {
   "cell_type": "code",
   "execution_count": null,
   "metadata": {},
   "outputs": [],
   "source": [
    "record.azimuth"
   ]
  },
  {
   "cell_type": "code",
   "execution_count": null,
   "metadata": {},
   "outputs": [],
   "source": [
    "dataId={'instrument':'LATISS', 'detector':0, 'exposure':2022092700233}"
   ]
  },
  {
   "cell_type": "code",
   "execution_count": null,
   "metadata": {},
   "outputs": [],
   "source": [
    "test1 = butler.getURI('raw', dataId={'instrument':'LATISS', 'detector':0, 'exposure':2022092700233})"
   ]
  },
  {
   "cell_type": "code",
   "execution_count": null,
   "metadata": {},
   "outputs": [],
   "source": [
    "test.relativeToPathRoot"
   ]
  },
  {
   "cell_type": "code",
   "execution_count": null,
   "metadata": {},
   "outputs": [],
   "source": [
    "test.geturl()"
   ]
  },
  {
   "cell_type": "code",
   "execution_count": null,
   "metadata": {},
   "outputs": [],
   "source": [
    "test.path"
   ]
  },
  {
   "cell_type": "code",
   "execution_count": null,
   "metadata": {},
   "outputs": [],
   "source": [
    "data = butler.get('raw', dataId={'instrument':'LATISS', 'detector':0, 'exposure':2023050800002})"
   ]
  },
  {
   "cell_type": "code",
   "execution_count": null,
   "metadata": {},
   "outputs": [],
   "source": [
    "plt.imshow(test.image.array, interpolation='Nearest')"
   ]
  },
  {
   "cell_type": "code",
   "execution_count": null,
   "metadata": {
    "tags": []
   },
   "outputs": [],
   "source": [
    "test.readFitsWithOptions?"
   ]
  },
  {
   "cell_type": "code",
   "execution_count": null,
   "metadata": {
    "tags": []
   },
   "outputs": [],
   "source": [
    "for i in test:\n",
    "    print(i)"
   ]
  },
  {
   "cell_type": "code",
   "execution_count": null,
   "metadata": {
    "tags": []
   },
   "outputs": [],
   "source": [
    "FWHM_list"
   ]
  },
  {
   "cell_type": "code",
   "execution_count": null,
   "metadata": {},
   "outputs": [],
   "source": [
    "CD1_1 0.0552614153694827\n",
    "CD1_2 0.089281442480291\n",
    "CD2_1 -0.089281442480291\n",
    "CD2_2 0.0552614153694827"
   ]
  },
  {
   "cell_type": "code",
   "execution_count": null,
   "metadata": {
    "tags": []
   },
   "outputs": [],
   "source": [
    "expId = 2023031400200\n",
    "mData = butler.get('raw.metadata', detector=0, exposure=expId)\n",
    "print(mData['EXPTIME'])\n"
   ]
  },
  {
   "cell_type": "code",
   "execution_count": null,
   "metadata": {
    "tags": []
   },
   "outputs": [],
   "source": [
    "expId = 2023051000565\n",
    "mData = butler.get('raw.metadata', detector=0, exposure=expId)\n",
    "print(mData['SEQFILE'])"
   ]
  },
  {
   "cell_type": "code",
   "execution_count": null,
   "metadata": {
    "execution": {
     "iopub.execute_input": "2025-03-25T12:07:05.917086Z",
     "iopub.status.busy": "2025-03-25T12:07:05.916728Z",
     "iopub.status.idle": "2025-03-25T12:07:06.065626Z",
     "shell.execute_reply": "2025-03-25T12:07:06.065222Z",
     "shell.execute_reply.started": "2025-03-25T12:07:05.917068Z"
    }
   },
   "outputs": [],
   "source": [
    "expId = 2025012100004\n",
    "mData = butler.get('raw.metadata', detector=0, exposure=expId)\n",
    "for key in mData.keys():\n",
    "    print(key, mData[key])\n"
   ]
  },
  {
   "cell_type": "code",
   "execution_count": null,
   "metadata": {
    "tags": []
   },
   "outputs": [],
   "source": [
    "ras = []\n",
    "decs = []\n",
    "for expId in range(2025011500574, 2025011500580):\n",
    "    mData = butler.get('raw.metadata', detector=0, exposure=expId)\n",
    "    for key in mData.keys():\n",
    "        if key in ['RASTART', 'DECSTART']:\n",
    "            #print(expId, key, mData[key])\n",
    "            ras.append(float(mData['RASTART']))\n",
    "            decs.append(float(mData['DECSTART']))\n",
    "\n",
    "    dRA = (ras[-1] - ras[0]) * 3600.0\n",
    "    dDec = (decs[-1] - decs[0]) * 3600.0\n",
    "    print(expId, dRA, dDec)\n",
    "    \n",
    "    "
   ]
  },
  {
   "cell_type": "code",
   "execution_count": null,
   "metadata": {},
   "outputs": [],
   "source": [
    "expId=2024082700510\n",
    "mData = butler.get('raw.metadata', detector=0, exposure=expId)\n",
    "for key in mData.keys():\n",
    "    print(key, mData[key])\n",
    "   "
   ]
  },
  {
   "cell_type": "code",
   "execution_count": null,
   "metadata": {
    "tags": []
   },
   "outputs": [],
   "source": [
    "for key in mData.keys():\n",
    "    if key in ['AP0_RC', 'AP0_GAIN','AP1_RC', 'AP1_GAIN']:\n",
    "        print(key, mData[key])"
   ]
  },
  {
   "cell_type": "code",
   "execution_count": null,
   "metadata": {},
   "outputs": [],
   "source": [
    "int(mData['DETSIZE'].split(',')[0].split(':')[1])"
   ]
  },
  {
   "cell_type": "code",
   "execution_count": null,
   "metadata": {},
   "outputs": [],
   "source": [
    "expId = 2022102600437\n",
    "exp = butler.get('raw', detector=0, exposure=expId)"
   ]
  },
  {
   "cell_type": "code",
   "execution_count": null,
   "metadata": {},
   "outputs": [],
   "source": [
    "# Look at the data with matplotlib\n",
    "# The raw data doesn't look very good, because of the large pedestal of about 15,000 ADU\n",
    "from matplotlib.colors import LogNorm\n",
    "# Now let's look at ithem\n",
    "def colorbar(mappable):\n",
    "    from mpl_toolkits.axes_grid1 import make_axes_locatable\n",
    "    last_axes = plt.gca()\n",
    "    ax = mappable.axes\n",
    "    fig = ax.figure\n",
    "    divider = make_axes_locatable(ax)\n",
    "    cax = divider.append_axes(\"right\", size=\"5%\", pad=0.05)\n",
    "    cbar = fig.colorbar(mappable, cax=cax)\n",
    "    plt.sca(last_axes)\n",
    "    return cbar\n",
    "\n",
    "plt.figure(figsize=(8,8))\n",
    "plt.suptitle(f\"Image\",fontsize=18)\n",
    "arr = exp.image.array\n",
    "img = plt.imshow(arr, norm=LogNorm(vmin=12000, vmax=20000), interpolation='Nearest', cmap='gray')\n",
    "colorbar(img)\n",
    "plt.tight_layout(h_pad=1)\n",
    "#plt.savefig(REPO_DIR+\"/plots/NGC4755_17Feb21.pdf\")"
   ]
  },
  {
   "cell_type": "code",
   "execution_count": null,
   "metadata": {},
   "outputs": [],
   "source": [
    "plt.plot(arr[1000,0:509])"
   ]
  },
  {
   "cell_type": "code",
   "execution_count": null,
   "metadata": {},
   "outputs": [],
   "source": [
    "np.median(arr)"
   ]
  },
  {
   "cell_type": "code",
   "execution_count": null,
   "metadata": {},
   "outputs": [],
   "source": []
  },
  {
   "cell_type": "code",
   "execution_count": null,
   "metadata": {},
   "outputs": [],
   "source": [
    "dayObs = 20210402\n",
    "expId = 2021040200034\n",
    "butler = Butler('/repo/main', collections=\"LSSTComCam/raw/all\")\n",
    "mData = butler.get('raw.metadata', detector=4, exposure=expId)"
   ]
  },
  {
   "cell_type": "code",
   "execution_count": null,
   "metadata": {},
   "outputs": [],
   "source": [
    "mData = butler.get('raw.metadata', detector=4, exposure=expId)\n",
    "for key in mData.keys():\n",
    "    print(key, mData[key])\n"
   ]
  },
  {
   "cell_type": "code",
   "execution_count": null,
   "metadata": {},
   "outputs": [],
   "source": [
    "expId = 3021120600576\n",
    "exp = butler.get('raw', detector=55, exposure=expId)"
   ]
  },
  {
   "cell_type": "code",
   "execution_count": null,
   "metadata": {},
   "outputs": [],
   "source": [
    "# Look at the data with matplotlib\n",
    "# The raw data doesn't look very good, because of the large pedestal of about 15,000 ADU\n",
    "from matplotlib.colors import LogNorm\n",
    "# Now let's look at ithem\n",
    "def colorbar(mappable):\n",
    "    from mpl_toolkits.axes_grid1 import make_axes_locatable\n",
    "    last_axes = plt.gca()\n",
    "    ax = mappable.axes\n",
    "    fig = ax.figure\n",
    "    divider = make_axes_locatable(ax)\n",
    "    cax = divider.append_axes(\"right\", size=\"5%\", pad=0.05)\n",
    "    cbar = fig.colorbar(mappable, cax=cax)\n",
    "    plt.sca(last_axes)\n",
    "    return cbar\n",
    "\n",
    "plt.figure(figsize=(8,8))\n",
    "plt.suptitle(f\"Image\",fontsize=18)\n",
    "arr = exp.image.array\n",
    "img = plt.imshow(arr, norm=LogNorm(vmin=10, vmax=100000), interpolation='Nearest', cmap='gray')\n",
    "colorbar(img)\n",
    "plt.tight_layout(h_pad=1)\n",
    "#plt.savefig(REPO_DIR+\"/plots/NGC4755_17Feb21.pdf\")"
   ]
  },
  {
   "cell_type": "code",
   "execution_count": null,
   "metadata": {},
   "outputs": [],
   "source": [
    "arr.std()"
   ]
  },
  {
   "cell_type": "code",
   "execution_count": null,
   "metadata": {},
   "outputs": [],
   "source": [
    "butler = Butler('/repo/main', collections=['LATISS/raw/all','LATISS/calib','u/cslage/calib/latiss/calib.2021021'])"
   ]
  },
  {
   "cell_type": "code",
   "execution_count": null,
   "metadata": {},
   "outputs": [],
   "source": []
  },
  {
   "cell_type": "code",
   "execution_count": null,
   "metadata": {},
   "outputs": [],
   "source": [
    "expId = 2021021700077\n",
    "exp = butler.get('raw', detector=0, exposure=expId)"
   ]
  },
  {
   "cell_type": "code",
   "execution_count": null,
   "metadata": {},
   "outputs": [],
   "source": [
    "expId = 2021021700090\n",
    "bias = butler.get('bias', detector=0, exposure=expId)"
   ]
  },
  {
   "cell_type": "code",
   "execution_count": null,
   "metadata": {},
   "outputs": [],
   "source": [
    "butler = Butler(\"/repo/main\", collections=[\"LSSTCam/raw/all\",\"LSSTCam/calib\",\"u/cslage/calib/13144/calib.20220103\",\\\n",
    "                                           \"u/cslage/tests/linearizer_dm33297_21jan22\"])"
   ]
  },
  {
   "cell_type": "code",
   "execution_count": null,
   "metadata": {},
   "outputs": [],
   "source": [
    "expId = 3021120600576"
   ]
  },
  {
   "cell_type": "code",
   "execution_count": null,
   "metadata": {},
   "outputs": [],
   "source": [
    "bias = butler.get('bias', detector=55, exposure=expId)"
   ]
  },
  {
   "cell_type": "code",
   "execution_count": null,
   "metadata": {},
   "outputs": [],
   "source": [
    "defect = butler.get('defects', detector=55, exposure=expId)"
   ]
  },
  {
   "cell_type": "code",
   "execution_count": null,
   "metadata": {},
   "outputs": [],
   "source": [
    "ptc = butler.get('ptc', detector=55, exposure=expId)"
   ]
  },
  {
   "cell_type": "code",
   "execution_count": null,
   "metadata": {},
   "outputs": [],
   "source": [
    "lin = butler.get('linearizer', detector=55, exposure=expId)"
   ]
  },
  {
   "cell_type": "code",
   "execution_count": null,
   "metadata": {},
   "outputs": [],
   "source": [
    "butler = Butler('/repo/oga', collections=[\"LATISS/raw/all\", \"LATISS/calib\"])\n",
    "mBias = butler.get('bias', detector=0, exposure=2022092900947)"
   ]
  },
  {
   "cell_type": "code",
   "execution_count": null,
   "metadata": {},
   "outputs": [],
   "source": [
    "type(mBias)"
   ]
  },
  {
   "cell_type": "code",
   "execution_count": null,
   "metadata": {
    "tags": []
   },
   "outputs": [],
   "source": [
    "# Gen3 butler\n",
    "for month in [1,2,3]:\n",
    "    for day in range(31):\n",
    "        dayObs = int(f\"2023{month:02}{day:02}\")\n",
    "        try:\n",
    "            exposureList = []\n",
    "            for record in butler.registry.queryDimensionRecords(\"exposure\", where=\"exposure.day_obs=%d\"%dayObs):\n",
    "                exposureList.append([record.id, record])\n",
    "            exposureList.sort(key=lambda x: x[0])\n",
    "            for [id,record] in exposureList:\n",
    "                if record.observation_type == 'dark' and record.exposure_time > 60.0:\n",
    "                    print(dayObs, id, record.exposure_time)\n",
    "        except:\n",
    "            continue"
   ]
  },
  {
   "cell_type": "code",
   "execution_count": null,
   "metadata": {},
   "outputs": [],
   "source": [
    "record.observation_type, record.exposure_time"
   ]
  },
  {
   "cell_type": "code",
   "execution_count": null,
   "metadata": {
    "tags": []
   },
   "outputs": [],
   "source": [
    "from lsst.daf.butler import Butler\n",
    "embargoButler = Butler('/repo/embargo', collections=\"LATISS/raw/all\")\n",
    "mainButler = Butler('/repo/main', collections=\"LATISS/raw/all\")\n",
    "dates = []\n",
    "RCs = []\n",
    "for year in [2022, 2023]:\n",
    "    for month in range(1,13):\n",
    "        if year == 2021:\n",
    "            butler = mainButler\n",
    "        if year == 2022:\n",
    "            if month < 9:\n",
    "                butler = mainButler\n",
    "            else:\n",
    "                butler = embargoButler\n",
    "        if year == 2023:\n",
    "            butler = embargoButler\n",
    "        for day in range(1,30):\n",
    "            dayObs = int(f\"{year}{month:02}{day:02}\")\n",
    "            expId = dayObs * 100000 + 1\n",
    "            try:\n",
    "                mData = butler.get('raw.metadata', detector=0, exposure=expId)\n",
    "                print(f\"{year}-{month:02}-{day:02} AP0_RC = {mData['AP0_RC']}\")\n",
    "                \n",
    "                RCs.append(mData['AP0_RC'])\n",
    "                date = pd.Timestamp(f\"{year}-{month:02}-{day:02}\")\n",
    "                dates.append(date)\n",
    "                continue\n",
    "            except:\n",
    "                continue"
   ]
  },
  {
   "cell_type": "code",
   "execution_count": null,
   "metadata": {
    "tags": []
   },
   "outputs": [],
   "source": [
    "print(len(dates), len(RCs))"
   ]
  },
  {
   "cell_type": "code",
   "execution_count": null,
   "metadata": {
    "tags": []
   },
   "outputs": [],
   "source": [
    "df = pd.DataFrame(RCs, dates, columns =['RC'])"
   ]
  },
  {
   "cell_type": "code",
   "execution_count": null,
   "metadata": {
    "tags": []
   },
   "outputs": [],
   "source": [
    "df.head(3)"
   ]
  },
  {
   "cell_type": "code",
   "execution_count": null,
   "metadata": {
    "tags": []
   },
   "outputs": [],
   "source": [
    "df.plot()"
   ]
  },
  {
   "cell_type": "code",
   "execution_count": null,
   "metadata": {
    "tags": []
   },
   "outputs": [],
   "source": [
    "df"
   ]
  },
  {
   "cell_type": "code",
   "execution_count": null,
   "metadata": {
    "tags": []
   },
   "outputs": [],
   "source": [
    "plt.plot(dates, RCs)"
   ]
  },
  {
   "cell_type": "code",
   "execution_count": null,
   "metadata": {
    "tags": []
   },
   "outputs": [],
   "source": [
    "dayObss"
   ]
  },
  {
   "cell_type": "code",
   "execution_count": null,
   "metadata": {
    "tags": []
   },
   "outputs": [],
   "source": [
    "date = Time(f\"{year}-{month:02}-{day:02}T00:00:00\")"
   ]
  },
  {
   "cell_type": "code",
   "execution_count": null,
   "metadata": {
    "tags": []
   },
   "outputs": [],
   "source": [
    "date.isot"
   ]
  },
  {
   "cell_type": "code",
   "execution_count": null,
   "metadata": {},
   "outputs": [],
   "source": [
    "test = [3,7]"
   ]
  },
  {
   "cell_type": "code",
   "execution_count": null,
   "metadata": {},
   "outputs": [],
   "source": [
    "if test:\n",
    "    print(\"True\")"
   ]
  },
  {
   "cell_type": "code",
   "execution_count": null,
   "metadata": {},
   "outputs": [],
   "source": [
    "from lsst.daf.butler import Butler\n",
    "butler = Butler('/repo/embargo', collections=[\"LSSTComCamSim/raw/all\", \"LSSTComCamSim/defaults\", \"LSSTComCamSim/quickLook/24\"])"
   ]
  },
  {
   "cell_type": "code",
   "execution_count": null,
   "metadata": {},
   "outputs": [],
   "source": [
    "butler.registry.queryDatasets(\n",
    "        \"raw\",\n",
    "        collections=\"LSSTComCamSim/raw/all\",\n",
    "        where=\"exposure.science_program='ops-rehearsal-3' and instrument='LSSTComCamSim' and exposure.day_obs=20240403 \",\n",
    ").count()"
   ]
  },
  {
   "cell_type": "code",
   "execution_count": null,
   "metadata": {},
   "outputs": [],
   "source": [
    "dayObs = 20240403\n",
    "\n",
    "exposureList = []\n",
    "for record in butler.registry.queryDimensionRecords(\"exposure\", \\\n",
    "    where=\"exposure.science_program='ops-rehearsal-3' and instrument='LSSTComCamSim' and exposure.day_obs=20240403\"):\n",
    "    exposureList.append([record.id, record])\n",
    "exposureList.sort(key=lambda x: x[0])\n",
    "for [id,record] in exposureList:\n",
    "    print(record.id, record.observation_type, record.exposure_time, record.physical_filter)\n"
   ]
  },
  {
   "cell_type": "code",
   "execution_count": null,
   "metadata": {},
   "outputs": [],
   "source": [
    "expId = 7024040300049\n",
    "butler.get('raw', detector=4, exposure=expId, instrument='LSSTComCamSim')"
   ]
  },
  {
   "cell_type": "code",
   "execution_count": null,
   "metadata": {},
   "outputs": [],
   "source": [
    "expId = 7024040300049\n",
    "mData = butler.get('raw.metadata', detector=4, exposure=expId)\n",
    "for key in mData.keys():\n",
    "    print(key, mData[key])\n"
   ]
  },
  {
   "cell_type": "code",
   "execution_count": null,
   "metadata": {
    "execution": {
     "iopub.execute_input": "2025-03-19T20:39:17.783945Z",
     "iopub.status.busy": "2025-03-19T20:39:17.783694Z",
     "iopub.status.idle": "2025-03-19T20:39:18.234980Z",
     "shell.execute_reply": "2025-03-19T20:39:18.234577Z",
     "shell.execute_reply.started": "2025-03-19T20:39:17.783929Z"
    }
   },
   "outputs": [],
   "source": [
    "expId = 2025022500608\n",
    "#expId = 2025022500202\n",
    "#expId = 2024070800403\n",
    "instrument='LATISS'\n",
    "raw = butler.get('raw', detector=0, exposure=expId, instrument=instrument)\n",
    "\n",
    "uri = butler.getURI('raw', dataId={'instrument': 'LATISS', 'detector':0, 'exposure':expId})\n",
    "print(uri)"
   ]
  },
  {
   "cell_type": "code",
   "execution_count": null,
   "metadata": {},
   "outputs": [],
   "source": []
  }
 ],
 "metadata": {
  "kernelspec": {
   "display_name": "LSST",
   "language": "python",
   "name": "lsst"
  },
  "language_info": {
   "codemirror_mode": {
    "name": "ipython",
    "version": 3
   },
   "file_extension": ".py",
   "mimetype": "text/x-python",
   "name": "python",
   "nbconvert_exporter": "python",
   "pygments_lexer": "ipython3",
   "version": "3.12.9"
  }
 },
 "nbformat": 4,
 "nbformat_minor": 4
}
