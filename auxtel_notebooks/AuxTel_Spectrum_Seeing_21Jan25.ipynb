{
 "cells": [
  {
   "cell_type": "markdown",
   "id": "457901db-7852-418c-982b-b09dbd2eadf0",
   "metadata": {},
   "source": [
    "# AuxTel spectrum seeing\n",
    "Craig Lage 21-Jan-25"
   ]
  },
  {
   "cell_type": "code",
   "execution_count": null,
   "id": "d3dc553f-0bd4-40c6-8aff-22d57c6402ae",
   "metadata": {
    "execution": {
     "iopub.execute_input": "2025-01-30T23:05:10.740776Z",
     "iopub.status.busy": "2025-01-30T23:05:10.740566Z",
     "iopub.status.idle": "2025-01-30T23:05:16.340825Z",
     "shell.execute_reply": "2025-01-30T23:05:16.340367Z",
     "shell.execute_reply.started": "2025-01-30T23:05:10.740757Z"
    }
   },
   "outputs": [],
   "source": [
    "import numpy as np\n",
    "import matplotlib.pyplot as plt\n",
    "import astropy.io.fits as pf\n",
    "import pickle as pkl\n",
    "from astropy.time import Time, TimeDelta\n",
    "import pandas as pd\n",
    "from lsst.ip.isr import IsrTask, IsrTaskConfig\n",
    "from lsst.summit.utils.plotting import plot\n",
    "import lsst.afw.cameraGeom.utils as camGeomUtils\n",
    "import lsst.afw.display as afwDisplay\n",
    "import lsst.summit.utils.butlerUtils as butlerUtils\n",
    "from lsst.daf.butler import Butler\n",
    "from lsst_efd_client import EfdClient\n",
    "from lsst.summit.utils.utils import dayObsIntToString\n",
    "from lsst.summit.utils.efdUtils import calcNextDay\n",
    "from scipy.optimize import minimize"
   ]
  },
  {
   "cell_type": "markdown",
   "id": "8b48fae4-c811-4275-a932-067d6c2e8312",
   "metadata": {},
   "source": [
    "## Define a simple ISR"
   ]
  },
  {
   "cell_type": "code",
   "execution_count": null,
   "id": "3c7a900b-c552-46bf-a8ec-343261a27017",
   "metadata": {
    "tags": []
   },
   "outputs": [],
   "source": [
    "isrConfig = IsrTaskConfig()\n",
    "isrConfig.doLinearize=False\n",
    "isrConfig.doOverscan=True\n",
    "isrConfig.overscan.fitType=\"MEDIAN_PER_ROW\"\n",
    "isrConfig.overscan.doParallelOverscan=True\n",
    "isrConfig.doAssembleCcd=True\n",
    "isrConfig.doBias=False\n",
    "isrConfig.doVariance=False\n",
    "isrConfig.doCrosstalk=False\n",
    "isrConfig.doBrighterFatter=False\n",
    "isrConfig.doDark=False\n",
    "isrConfig.doStrayLight=False\n",
    "isrConfig.doFlat=False\n",
    "isrConfig.doFringe=False\n",
    "isrConfig.doApplyGains=True\n",
    "isrConfig.doDefect=False\n",
    "isrConfig.doNanMasking=True\n",
    "isrConfig.doInterpolate=False\n",
    "isrConfig.doSaturation=False\n",
    "isrConfig.doSaturationInterpolation=False\n",
    "isrTask = IsrTask(config=isrConfig)"
   ]
  },
  {
   "cell_type": "code",
   "execution_count": null,
   "id": "53ec2c1c-bc8b-4806-a9a3-f54c0bb2dfbd",
   "metadata": {},
   "outputs": [],
   "source": [
    "def FOM(params, args):\n",
    "    fom = 0.0\n",
    "    [xs, fluxes] = args\n",
    "    [bg, mag, mean, sigma] = params\n",
    "    for i in range(len(xs)):\n",
    "        model = bg + mag * np.exp(-(xs[i] - mean)**2 / (2 * sigma**2))\n",
    "        fom += np.square(model - fluxes[i])\n",
    "    return fom\n"
   ]
  },
  {
   "cell_type": "markdown",
   "id": "bec0beba-4338-4c03-aefc-be25719a8735",
   "metadata": {},
   "source": [
    "## The cell below took way too long, so I converted it into a Python script for running."
   ]
  },
  {
   "cell_type": "code",
   "execution_count": null,
   "id": "1179cd3c-6dad-4154-a92f-10c9ee101180",
   "metadata": {},
   "outputs": [],
   "source": [
    "y = 2000\n",
    "x1 = 1600\n",
    "x2 = 1900\n",
    "\n",
    "butler = Butler('/repo/embargo_old', collections=\"LATISS/raw/all\")\n",
    "startDay = 20240708\n",
    "endDay = 20250120\n",
    "dayObs = startDay\n",
    "\n",
    "data = {}\n",
    "while dayObs <= endDay:\n",
    "    if dayObs > 20250000:\n",
    "        butler = Butler('/repo/embargo', collections=\"LATISS/raw/all\")\n",
    "        \n",
    "    records = butler.registry.queryDimensionRecords(\"exposure\", where=\"exposure.day_obs=%d\"%dayObs)\n",
    "    #print(dayObs, records.count())\n",
    "    if records.count() < 200:\n",
    "        dayObs = calcNextDay(dayObs)  # find the next dayObs                                                                                       \n",
    "        continue\n",
    "    exposureList = []\n",
    "    for record in butler.registry.queryDimensionRecords(\"exposure\", where=\"exposure.day_obs=%d\"%dayObs):\n",
    "        if (record.observation_type=='science') and (record.exposure_time > 29.0) and (record.physical_filter=='empty~holo4_003'):\n",
    "            exposureList.append(record.id)\n",
    "    exposureList = sorted(exposureList)\n",
    "    print(dayObs, len(exposureList))\n",
    "\n",
    "    fwhms = []\n",
    "    for expId in exposureList:\n",
    "        try:\n",
    "            exp = butler.get('raw', detector=0, exposure=expId, instrument='LATISS')\n",
    "            isrResult = isrTask.run(exp) # This runs the ISR\n",
    "            xs = list(range(x1, x2))\n",
    "            fluxes = isrResult.exposure.image.array[y, x1:x2]\n",
    "            args = [xs, fluxes]\n",
    "            x0 = [100, 8000.0, 1750, 20]\n",
    "            bounds=[(0, 10000), (1000, 200000), (1700, 1800), (2, 20)]\n",
    "            result = minimize(FOM, x0, args=args, bounds=bounds, method='Powell')\n",
    "            [bg, mag, mean, sigma] = result.x\n",
    "            fwhm = sigma / 10.0 * 2.355\n",
    "            fwhms.append(fwhm)\n",
    "            print(expId, fwhm)\n",
    "        except:\n",
    "            print(f\"{expId} failed\")\n",
    "            continue\n",
    "    data[dayObs] = fwhms\n",
    "    print(dayObs, np.median(fwhms))\n",
    "    dayObs = calcNextDay(dayObs)  # find the next dayObs                                                                                           \n",
    "    outfile = open('/home/c/cslage/u/AuxTel/fwhm/AuxTel_Spectral_FWHM_21Jan25.pkl', 'wb')\n",
    "    pkl.dump(data, outfile)\n",
    "    outfile.close()\n",
    "    dayObs = calcNextDay(dayObs)  # find the next dayObs\n",
    "\n"
   ]
  },
  {
   "cell_type": "code",
   "execution_count": null,
   "id": "1b4a5a3b-cbd5-4c22-9c0f-d210ba0f1c81",
   "metadata": {},
   "outputs": [],
   "source": [
    "infile = open('/home/c/cslage/u/AuxTel/fwhm/AuxTel_Spectral_FWHM_21Jan25.pkl', 'rb')\n",
    "data = pkl.load(infile)\n",
    "infile.close()\n",
    "dates = data.keys()\n",
    "print(dates)\n"
   ]
  },
  {
   "cell_type": "code",
   "execution_count": null,
   "id": "03b604f0-5094-4178-b680-f6da37558b91",
   "metadata": {
    "execution": {
     "iopub.execute_input": "2025-01-30T23:05:16.350698Z",
     "iopub.status.busy": "2025-01-30T23:05:16.350566Z",
     "iopub.status.idle": "2025-01-30T23:05:16.354908Z",
     "shell.execute_reply": "2025-01-30T23:05:16.354542Z",
     "shell.execute_reply.started": "2025-01-30T23:05:16.350683Z"
    }
   },
   "outputs": [],
   "source": [
    "infile = open('/home/c/cslage/u/AuxTel/fwhm/AuxTel_Spectral_FWHM_30Jan25.pkl', 'rb')\n",
    "data = pkl.load(infile)\n",
    "infile.close()\n",
    "dates = data.keys()\n",
    "print(dates)\n"
   ]
  },
  {
   "cell_type": "code",
   "execution_count": null,
   "id": "466fe055-493b-4ed7-b54a-669a54bfbae5",
   "metadata": {
    "execution": {
     "iopub.execute_input": "2025-01-30T23:06:05.731920Z",
     "iopub.status.busy": "2025-01-30T23:06:05.731632Z",
     "iopub.status.idle": "2025-01-30T23:06:06.267371Z",
     "shell.execute_reply": "2025-01-30T23:06:06.267037Z",
     "shell.execute_reply.started": "2025-01-30T23:06:05.731905Z"
    }
   },
   "outputs": [],
   "source": [
    "fig, ax = plt.subplots(1,1,figsize=(8,8))\n",
    "xaxis = []\n",
    "yaxis = []\n",
    "xticks = []\n",
    "xticklabels = []\n",
    "tot_2024 = []\n",
    "tot_2025 = []\n",
    "counter = 0\n",
    "for dayObs in data.keys():\n",
    "    fwhms = data[dayObs]\n",
    "    #print(dayObs, len(fwhms))\n",
    "    if len(fwhms) < 10:\n",
    "        continue\n",
    "    if np.min(fwhms) > 3.0:\n",
    "        continue\n",
    "    for fwhm in fwhms:\n",
    "        xaxis.append(counter)\n",
    "        yaxis.append(fwhm)\n",
    "        if dayObs < 20250101:\n",
    "            tot_2024.append(fwhm)\n",
    "        else:\n",
    "            tot_2025.append(fwhm)\n",
    "    xticks.append(counter)\n",
    "    xticklabels.append(dayObs)\n",
    "    counter += 1\n",
    "\n",
    "ax.set_ylim(0,3.0)\n",
    "ax.scatter(xaxis, yaxis)\n",
    "ax.set_xticks(xticks)\n",
    "ax.set_xticklabels(xticklabels, rotation=90)\n",
    "ax.vlines(30.5, 0, 3.0, ls='--', color='red', lw=4)\n",
    "ax.set_title(\"AuxTel spectrum FWHM empty~holo4_003\") \n",
    "ax.set_ylabel(\"FWHM (arcseconds)\")\n",
    "ax.text(10, 0.2, f\"Median FWHM = {np.median(tot_2024):.2f} arcsec\")\n",
    "ax.text(31, 0.2, f\"Median FWHM = \\n{np.median(tot_2025):.2f} arcsec\")\n",
    "plt.savefig('/home/c/cslage/u/AuxTel/fwhm/Spectrum_FWHM_30Jan25.png')"
   ]
  },
  {
   "cell_type": "code",
   "execution_count": null,
   "id": "5d384994-fa18-4802-b0e5-ef27ed80ff88",
   "metadata": {},
   "outputs": [],
   "source": []
  }
 ],
 "metadata": {
  "kernelspec": {
   "display_name": "LSST",
   "language": "python",
   "name": "lsst"
  },
  "language_info": {
   "codemirror_mode": {
    "name": "ipython",
    "version": 3
   },
   "file_extension": ".py",
   "mimetype": "text/x-python",
   "name": "python",
   "nbconvert_exporter": "python",
   "pygments_lexer": "ipython3",
   "version": "3.11.9"
  }
 },
 "nbformat": 4,
 "nbformat_minor": 5
}
