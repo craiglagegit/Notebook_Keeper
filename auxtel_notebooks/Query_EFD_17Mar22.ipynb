{
 "cells": [
  {
   "cell_type": "markdown",
   "metadata": {},
   "source": [
    "## AuxTel Image elongation due to azimuth oscillation\n",
    "\n",
    "Craig Lage 17-Mar-22"
   ]
  },
  {
   "cell_type": "code",
   "execution_count": null,
   "metadata": {
    "execution": {
     "iopub.execute_input": "2023-02-15T17:11:21.447453Z",
     "iopub.status.busy": "2023-02-15T17:11:21.447268Z",
     "iopub.status.idle": "2023-02-15T17:11:23.007322Z",
     "shell.execute_reply": "2023-02-15T17:11:23.006759Z",
     "shell.execute_reply.started": "2023-02-15T17:11:21.447435Z"
    }
   },
   "outputs": [],
   "source": [
    "import sys, time, os, asyncio, glob\n",
    "\n",
    "from datetime import datetime\n",
    "import numpy as np\n",
    "import matplotlib.pyplot as plt\n",
    "from matplotlib.colors import LogNorm\n",
    "import pickle as pkl\n",
    "import pandas as pd\n",
    "import astropy.io.fits as pf\n",
    "from astropy.time import Time, TimeDelta\n",
    "from astropy.coordinates import AltAz, ICRS, EarthLocation, Angle, FK5\n",
    "import astropy.units as u\n",
    "\n",
    "from lsst.daf.butler import Butler\n",
    "from lsst_efd_client import EfdClient\n",
    "\n",
    "from lsst.pipe.tasks.characterizeImage import CharacterizeImageTask, CharacterizeImageConfig"
   ]
  },
  {
   "cell_type": "code",
   "execution_count": null,
   "metadata": {
    "execution": {
     "iopub.execute_input": "2023-02-15T17:11:23.034031Z",
     "iopub.status.busy": "2023-02-15T17:11:23.033891Z",
     "iopub.status.idle": "2023-02-15T17:11:23.536733Z",
     "shell.execute_reply": "2023-02-15T17:11:23.536257Z",
     "shell.execute_reply.started": "2023-02-15T17:11:23.034019Z"
    }
   },
   "outputs": [],
   "source": [
    "client = EfdClient('usdf_efd')"
   ]
  },
  {
   "cell_type": "code",
   "execution_count": null,
   "metadata": {},
   "outputs": [],
   "source": [
    "EfdClient.list_efd_names()"
   ]
  },
  {
   "cell_type": "code",
   "execution_count": null,
   "metadata": {
    "tags": []
   },
   "outputs": [],
   "source": [
    "dir(client)"
   ]
  },
  {
   "cell_type": "code",
   "execution_count": null,
   "metadata": {
    "jupyter": {
     "outputs_hidden": true
    },
    "tags": []
   },
   "outputs": [],
   "source": [
    "await client.get_topics()"
   ]
  },
  {
   "cell_type": "code",
   "execution_count": null,
   "metadata": {},
   "outputs": [],
   "source": []
  },
  {
   "cell_type": "code",
   "execution_count": null,
   "metadata": {
    "execution": {
     "iopub.execute_input": "2023-02-15T17:12:06.763408Z",
     "iopub.status.busy": "2023-02-15T17:12:06.763190Z",
     "iopub.status.idle": "2023-02-15T17:12:06.902528Z",
     "shell.execute_reply": "2023-02-15T17:12:06.902116Z",
     "shell.execute_reply.started": "2023-02-15T17:12:06.763393Z"
    }
   },
   "outputs": [],
   "source": [
    "await client.get_fields('lsst.sal.ATCamera.focal_plane_Reb')"
   ]
  },
  {
   "cell_type": "code",
   "execution_count": null,
   "metadata": {
    "execution": {
     "iopub.execute_input": "2023-02-15T17:14:00.877116Z",
     "iopub.status.busy": "2023-02-15T17:14:00.876865Z",
     "iopub.status.idle": "2023-02-15T17:14:00.880722Z",
     "shell.execute_reply": "2023-02-15T17:14:00.880250Z",
     "shell.execute_reply.started": "2023-02-15T17:14:00.877100Z"
    }
   },
   "outputs": [],
   "source": [
    "# Times to start looking at error codes\n",
    "start = Time(\"2022-07-15 00:00:00Z\", scale='utc')\n",
    "end = Time(\"2022-07-22 00:00:00Z\", scale='utc')"
   ]
  },
  {
   "cell_type": "code",
   "execution_count": null,
   "metadata": {
    "execution": {
     "iopub.execute_input": "2023-02-15T17:14:09.854913Z",
     "iopub.status.busy": "2023-02-15T17:14:09.854177Z",
     "iopub.status.idle": "2023-02-15T17:14:09.947994Z",
     "shell.execute_reply": "2023-02-15T17:14:09.947539Z",
     "shell.execute_reply.started": "2023-02-15T17:14:09.854896Z"
    }
   },
   "outputs": [],
   "source": [
    "test = await client.select_time_series('lsst.sal.ATCamera.focal_plane_Reb', \\\n",
    "                                                ['*'],  start, end)"
   ]
  },
  {
   "cell_type": "code",
   "execution_count": null,
   "metadata": {
    "execution": {
     "iopub.execute_input": "2023-02-15T17:14:13.787810Z",
     "iopub.status.busy": "2023-02-15T17:14:13.787259Z",
     "iopub.status.idle": "2023-02-15T17:14:13.791112Z",
     "shell.execute_reply": "2023-02-15T17:14:13.790668Z",
     "shell.execute_reply.started": "2023-02-15T17:14:13.787793Z"
    }
   },
   "outputs": [],
   "source": [
    "len(test)"
   ]
  },
  {
   "cell_type": "code",
   "execution_count": null,
   "metadata": {
    "execution": {
     "iopub.execute_input": "2023-02-15T17:14:47.834888Z",
     "iopub.status.busy": "2023-02-15T17:14:47.834668Z",
     "iopub.status.idle": "2023-02-15T17:14:47.973434Z",
     "shell.execute_reply": "2023-02-15T17:14:47.972975Z",
     "shell.execute_reply.started": "2023-02-15T17:14:47.834873Z"
    },
    "tags": []
   },
   "outputs": [],
   "source": [
    "test['temp10'].plot()"
   ]
  },
  {
   "cell_type": "code",
   "execution_count": null,
   "metadata": {},
   "outputs": [],
   "source": [
    "# Look before and after the last error time\n",
    "lastErrorTime = Time(errors.index[3])\n",
    "before = 300.0\n",
    "after = 300.0\n",
    "start = lastErrorTime - TimeDelta(before, format='sec')\n",
    "end = lastErrorTime + TimeDelta(after, format='sec')\n",
    "print(start, end)"
   ]
  },
  {
   "cell_type": "code",
   "execution_count": null,
   "metadata": {},
   "outputs": [],
   "source": [
    "status = await client.select_time_series('lsst.sal.ATMCS.logevent_azimuthDrive1Status', \\\n",
    "                                                ['*'],  start, end)"
   ]
  },
  {
   "cell_type": "code",
   "execution_count": null,
   "metadata": {},
   "outputs": [],
   "source": [
    "len(status)"
   ]
  },
  {
   "cell_type": "code",
   "execution_count": null,
   "metadata": {},
   "outputs": [],
   "source": [
    "status"
   ]
  },
  {
   "cell_type": "code",
   "execution_count": null,
   "metadata": {},
   "outputs": [],
   "source": [
    "# Times to start looking at error codes\n",
    "start = Time(\"2022-03-17 00:00:00Z\", scale='utc')\n",
    "end = Time(\"2022-03-17 00:05:00Z\", scale='utc')\n",
    "test = await client.select_packed_time_series('lsst.sal.ATPtg.mountPositions', \\\n",
    "                                                ['*'],  start, end)"
   ]
  },
  {
   "cell_type": "code",
   "execution_count": null,
   "metadata": {},
   "outputs": [],
   "source": []
  }
 ],
 "metadata": {
  "kernelspec": {
   "display_name": "LSST",
   "language": "python",
   "name": "lsst"
  },
  "language_info": {
   "codemirror_mode": {
    "name": "ipython",
    "version": 3
   },
   "file_extension": ".py",
   "mimetype": "text/x-python",
   "name": "python",
   "nbconvert_exporter": "python",
   "pygments_lexer": "ipython3",
   "version": "3.10.9"
  }
 },
 "nbformat": 4,
 "nbformat_minor": 4
}
