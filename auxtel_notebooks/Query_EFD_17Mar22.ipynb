{
 "cells": [
  {
   "cell_type": "markdown",
   "metadata": {},
   "source": [
    "## AuxTel Image elongation due to azimuth oscillation\n",
    "\n",
    "Craig Lage 17-Mar-22"
   ]
  },
  {
   "cell_type": "code",
   "execution_count": null,
   "metadata": {
    "execution": {
     "iopub.execute_input": "2024-06-11T17:17:33.601739Z",
     "iopub.status.busy": "2024-06-11T17:17:33.601617Z",
     "iopub.status.idle": "2024-06-11T17:17:36.338745Z",
     "shell.execute_reply": "2024-06-11T17:17:36.338298Z",
     "shell.execute_reply.started": "2024-06-11T17:17:33.601727Z"
    },
    "tags": []
   },
   "outputs": [],
   "source": [
    "import sys, time, os, asyncio, glob\n",
    "\n",
    "from datetime import datetime\n",
    "import numpy as np\n",
    "import matplotlib.pyplot as plt\n",
    "from matplotlib.colors import LogNorm\n",
    "import pickle as pkl\n",
    "import pandas as pd\n",
    "import astropy.io.fits as pf\n",
    "from astropy.time import Time, TimeDelta\n",
    "from astropy.coordinates import AltAz, ICRS, EarthLocation, Angle, FK5\n",
    "import astropy.units as u\n",
    "\n",
    "from lsst.daf.butler import Butler\n",
    "from lsst_efd_client import EfdClient\n",
    "\n",
    "from lsst.pipe.tasks.characterizeImage import CharacterizeImageTask, CharacterizeImageConfig"
   ]
  },
  {
   "cell_type": "code",
   "execution_count": null,
   "metadata": {
    "execution": {
     "iopub.execute_input": "2024-06-11T17:17:37.468526Z",
     "iopub.status.busy": "2024-06-11T17:17:37.468406Z",
     "iopub.status.idle": "2024-06-11T17:17:38.293403Z",
     "shell.execute_reply": "2024-06-11T17:17:38.293023Z",
     "shell.execute_reply.started": "2024-06-11T17:17:37.468516Z"
    },
    "tags": []
   },
   "outputs": [],
   "source": [
    "client = EfdClient('usdf_efd')"
   ]
  },
  {
   "cell_type": "code",
   "execution_count": null,
   "metadata": {
    "tags": []
   },
   "outputs": [],
   "source": [
    "EfdClient.list_efd_names()"
   ]
  },
  {
   "cell_type": "code",
   "execution_count": null,
   "metadata": {
    "tags": []
   },
   "outputs": [],
   "source": [
    "dir(client)"
   ]
  },
  {
   "cell_type": "code",
   "execution_count": null,
   "metadata": {
    "tags": []
   },
   "outputs": [],
   "source": [
    "topics = await client.get_topics()\n",
    "for topic in topics:\n",
    "    if 'exapo' in topic:\n",
    "        print(topic)"
   ]
  },
  {
   "cell_type": "code",
   "execution_count": null,
   "metadata": {
    "execution": {
     "iopub.execute_input": "2024-06-11T17:17:47.926201Z",
     "iopub.status.busy": "2024-06-11T17:17:47.925805Z",
     "iopub.status.idle": "2024-06-11T17:17:48.161090Z",
     "shell.execute_reply": "2024-06-11T17:17:48.160693Z",
     "shell.execute_reply.started": "2024-06-11T17:17:47.926187Z"
    }
   },
   "outputs": [],
   "source": [
    "start = Time(\"2024-01-10T00:00:00\", scale='utc')\n",
    "end = Time(\"2024-01-10T01:00:00\", scale='utc')\n",
    "el = await client.select_time_series(\"lsst.sal.MTMount.elevation\", \\\n",
    "                                            ['actualPosition'], \\\n",
    "                                             start, end)\n"
   ]
  },
  {
   "cell_type": "code",
   "execution_count": null,
   "metadata": {
    "execution": {
     "iopub.execute_input": "2024-06-11T17:17:53.825326Z",
     "iopub.status.busy": "2024-06-11T17:17:53.824903Z",
     "iopub.status.idle": "2024-06-11T17:18:40.381064Z",
     "shell.execute_reply": "2024-06-11T17:18:40.380618Z",
     "shell.execute_reply.started": "2024-06-11T17:17:53.825312Z"
    }
   },
   "outputs": [],
   "source": [
    "M1M3_forces = await client.select_time_series(\"lsst.sal.MTM1M3.forceActuatorData\", \"*\", \\\n",
    "                                         start, end)"
   ]
  },
  {
   "cell_type": "code",
   "execution_count": null,
   "metadata": {
    "execution": {
     "iopub.execute_input": "2024-06-11T17:20:03.622792Z",
     "iopub.status.busy": "2024-06-11T17:20:03.622222Z",
     "iopub.status.idle": "2024-06-11T17:20:03.983778Z",
     "shell.execute_reply": "2024-06-11T17:20:03.983234Z",
     "shell.execute_reply.started": "2024-06-11T17:20:03.622775Z"
    }
   },
   "outputs": [],
   "source": [
    "M1M3_forces = await client.select_time_series(\"lsst.sal.MTM1M3.forceActuatorData\", [\"zForce0\"], \\\n",
    "                                         start, end)"
   ]
  },
  {
   "cell_type": "code",
   "execution_count": null,
   "metadata": {
    "execution": {
     "iopub.execute_input": "2024-06-11T17:26:18.119969Z",
     "iopub.status.busy": "2024-06-11T17:26:18.119634Z",
     "iopub.status.idle": "2024-06-11T17:26:18.123630Z",
     "shell.execute_reply": "2024-06-11T17:26:18.123313Z",
     "shell.execute_reply.started": "2024-06-11T17:26:18.119955Z"
    }
   },
   "outputs": [],
   "source": [
    "from lsst.ts.xml.tables.m1m3 import FATable\n",
    "M1M3_names = []\n",
    "for i in range(len(FATable)):\n",
    "    name=f\"zForce{i}\"\n",
    "    M1M3_names.append(name)\n",
    "for i in range(len(FATable)):\n",
    "    if FATable[i].actuator_type.name == 'DAA':\n",
    "        if FATable[i].orientation.name in ['X_PLUS', 'X_MINUS']:\n",
    "            name = f\"xForce{FATable[i].x_index}\"\n",
    "            M1M3_names.append(name)\n",
    "        if FATable[i].orientation.name in ['Y_PLUS', 'Y_MINUS']:\n",
    "            name = f\"yForce{FATable[i].y_index}\"\n",
    "            M1M3_names.append(name)\n",
    "print(len(names))"
   ]
  },
  {
   "cell_type": "code",
   "execution_count": null,
   "metadata": {
    "execution": {
     "iopub.status.busy": "2024-06-11T17:18:40.552994Z",
     "iopub.status.idle": "2024-06-11T17:18:40.553157Z",
     "shell.execute_reply": "2024-06-11T17:18:40.553081Z",
     "shell.execute_reply.started": "2024-06-11T17:18:40.553074Z"
    }
   },
   "outputs": [],
   "source": [
    "M1M3_forces.columns"
   ]
  },
  {
   "cell_type": "code",
   "execution_count": null,
   "metadata": {
    "execution": {
     "iopub.execute_input": "2024-06-11T17:26:39.737801Z",
     "iopub.status.busy": "2024-06-11T17:26:39.737237Z",
     "iopub.status.idle": "2024-06-11T17:26:54.722831Z",
     "shell.execute_reply": "2024-06-11T17:26:54.722381Z",
     "shell.execute_reply.started": "2024-06-11T17:26:39.737783Z"
    }
   },
   "outputs": [],
   "source": [
    "# This is almost 4 times faster.\n",
    "M1M3_forces = await client.select_time_series(\"lsst.sal.MTM1M3.forceActuatorData\", \n",
    "                                              names, \n",
    "                                         start, end)"
   ]
  },
  {
   "cell_type": "code",
   "execution_count": null,
   "metadata": {
    "execution": {
     "iopub.execute_input": "2024-06-11T17:27:31.956764Z",
     "iopub.status.busy": "2024-06-11T17:27:31.956150Z",
     "iopub.status.idle": "2024-06-11T17:27:31.959678Z",
     "shell.execute_reply": "2024-06-11T17:27:31.959336Z",
     "shell.execute_reply.started": "2024-06-11T17:27:31.956749Z"
    }
   },
   "outputs": [],
   "source": [
    "M1M3_forces.columns"
   ]
  },
  {
   "cell_type": "code",
   "execution_count": null,
   "metadata": {},
   "outputs": [],
   "source": [
    "el.index[0]"
   ]
  },
  {
   "cell_type": "code",
   "execution_count": null,
   "metadata": {},
   "outputs": [],
   "source": [
    "(el.index[10] - el.index[0])/10"
   ]
  },
  {
   "cell_type": "code",
   "execution_count": null,
   "metadata": {},
   "outputs": [],
   "source": [
    "3600/7.6"
   ]
  },
  {
   "cell_type": "code",
   "execution_count": null,
   "metadata": {
    "tags": []
   },
   "outputs": [],
   "source": [
    "start = Time(\"2024-05-28 18:00:00Z\", scale='utc')\n",
    "end = Time(\"2024-05-29 12:00:00Z\", scale='utc')\n",
    "elec = await client.select_time_series('lsst.sal.Electrometer.logevent_intensity', ['intensity'], start, end, index=201)\n",
    "print(f\"There are {len(elec)} measurements\")\n",
    "elec['intensity'].plot(marker='x')"
   ]
  },
  {
   "cell_type": "code",
   "execution_count": null,
   "metadata": {},
   "outputs": [],
   "source": [
    "elec['intensity'].plot(marker='x')\n"
   ]
  },
  {
   "cell_type": "code",
   "execution_count": null,
   "metadata": {},
   "outputs": [],
   "source": [
    "pos = await client.select_time_series('lsst.sal.PMD.position', ['*'], start, end)\n",
    "len(pos)"
   ]
  },
  {
   "cell_type": "code",
   "execution_count": null,
   "metadata": {},
   "outputs": [],
   "source": [
    "pos.columns"
   ]
  },
  {
   "cell_type": "code",
   "execution_count": null,
   "metadata": {},
   "outputs": [],
   "source": [
    "[np.isnan(x) for x in pos['position0'].values if np.isnan(x)]\n"
   ]
  },
  {
   "cell_type": "code",
   "execution_count": null,
   "metadata": {},
   "outputs": [],
   "source": [
    "pos.head(5)"
   ]
  },
  {
   "cell_type": "code",
   "execution_count": null,
   "metadata": {},
   "outputs": [],
   "source": [
    "pos.tail(5)"
   ]
  },
  {
   "cell_type": "code",
   "execution_count": null,
   "metadata": {},
   "outputs": [],
   "source": [
    "start = Time(\"2024-05-29 20:30:00Z\", scale='utc')\n",
    "end = Time(\"2024-05-29 21:00:00Z\", scale='utc')\n",
    "pos_now = await client.select_time_series('lsst.sal.PMD.position', ['*'], start, end)\n",
    "len(pos_now)"
   ]
  },
  {
   "cell_type": "code",
   "execution_count": null,
   "metadata": {},
   "outputs": [],
   "source": [
    "pos_now.head(3)"
   ]
  },
  {
   "cell_type": "code",
   "execution_count": null,
   "metadata": {},
   "outputs": [],
   "source": [
    "fig, axs = plt.subplots(3,2,figsize=(10,10))\n",
    "plt.subplots_adjust(hspace=0.5, wspace=0.5)\n",
    "plt.suptitle(\"AuxTel M1 Position micrometers - 2024\", fontsize=24)\n",
    "counter = 0\n",
    "for i in range(3):\n",
    "    for j in range(2):\n",
    "        axs[i][j].set_title(f\"position{counter}\")\n",
    "        if counter == 4:\n",
    "            counter += 1\n",
    "            continue\n",
    "        pos[f'position{counter}'].plot(ax = axs[i][j],marker='x', label=\"2024-03-19\")\n",
    "        axs[i][j].axhline(np.mean(pos_now[f'position{counter}'].values), ls='--', color='red', label=\"Current Measurements\")\n",
    "        counter += 1\n",
    "        axs[i][j].legend()\n",
    "plt.savefig(f\"/home/c/cslage/u/AuxTel/mount_graphs/M1_Micrometers_2024.png\")  "
   ]
  },
  {
   "cell_type": "code",
   "execution_count": null,
   "metadata": {},
   "outputs": [],
   "source": [
    "camhex = await client.select_time_series('lsst.sal.MTHexapod.actuators', ['*'], start, end, index=1)\n",
    "print(len(camhex))\n",
    "m2hex = await client.select_time_series('lsst.sal.MTHexapod.actuators', ['*'], start, end, index=2)\n",
    "print(len(m2hex))"
   ]
  },
  {
   "cell_type": "code",
   "execution_count": null,
   "metadata": {},
   "outputs": [],
   "source": [
    "print(m2hex.columns)\n",
    "print(camhex.columns)"
   ]
  },
  {
   "cell_type": "code",
   "execution_count": null,
   "metadata": {},
   "outputs": [],
   "source": [
    "fig, axs = plt.subplots(6,2, figsize = (5,12))\n",
    "plt.subplots_adjust(hspace=1.0, wspace=0.5)\n",
    "names = ['Cam', 'M2']\n",
    "for i, hex in enumerate([camhex, m2hex]):\n",
    "    for j in range(6):\n",
    "        axs[j][i].set_title(f\"{names[i]} - calibrated{j}\")\n",
    "        hex[f\"calibrated{j}\"].plot(ax = axs[j][i])"
   ]
  },
  {
   "cell_type": "code",
   "execution_count": null,
   "metadata": {
    "tags": []
   },
   "outputs": [],
   "source": [
    "# Times to start looking at hexapods\n",
    "start = Time(\"2024-05-01 17:00:00Z\", scale='utc')\n",
    "end = Time(\"2024-05-01 17:10:00Z\", scale='utc')\n"
   ]
  },
  {
   "cell_type": "code",
   "execution_count": null,
   "metadata": {},
   "outputs": [],
   "source": [
    "camhex = await client.select_time_series('lsst.sal.MTHexapod.application', ['*'], start, end, index=1)\n",
    "print(len(camhex))\n",
    "m2hex = await client.select_time_series('lsst.sal.MTHexapod.application', ['*'], start, end, index=2)\n",
    "print(len(m2hex))"
   ]
  },
  {
   "cell_type": "code",
   "execution_count": null,
   "metadata": {},
   "outputs": [],
   "source": [
    "print(m2hex.columns)\n",
    "print(camhex.columns)"
   ]
  },
  {
   "cell_type": "code",
   "execution_count": null,
   "metadata": {},
   "outputs": [],
   "source": [
    "fig, axs = plt.subplots(6,2, figsize = (5,12))\n",
    "plt.subplots_adjust(hspace=1.0, wspace=0.5)\n",
    "hexNames = ['Cam', 'M2']\n",
    "posNames = ['X','Y','Z','U','V','W']\n",
    "for i, hex in enumerate([camhex, m2hex]):\n",
    "    for j in range(6):\n",
    "        axs[j][i].set_title(f\"{hexNames[i]} - {posNames[j]}\")\n",
    "        hex[f\"position{j}\"].plot(ax = axs[j][i])"
   ]
  },
  {
   "cell_type": "code",
   "execution_count": null,
   "metadata": {},
   "outputs": [],
   "source": [
    "for i in range(len(state)):\n",
    "    print(Time(state.index[i]).isot, state['detailedState'][i])\n"
   ]
  },
  {
   "cell_type": "code",
   "execution_count": null,
   "metadata": {},
   "outputs": [],
   "source": [
    "gyro = await client.select_time_series(\"lsst.sal.MTM1M3.gyroData\", ['*'], start, end)"
   ]
  },
  {
   "cell_type": "code",
   "execution_count": null,
   "metadata": {},
   "outputs": [],
   "source": [
    "len(gyro)"
   ]
  },
  {
   "cell_type": "code",
   "execution_count": null,
   "metadata": {
    "tags": []
   },
   "outputs": [],
   "source": [
    "az = await client.select_packed_time_series(\"lsst.sal.ATMCS.mount_AzEl_Encoders\", \\\n",
    "                                            \"azimuthCalculatedAngle\",  start, end)"
   ]
  },
  {
   "cell_type": "code",
   "execution_count": null,
   "metadata": {
    "tags": []
   },
   "outputs": [],
   "source": [
    "len(az)"
   ]
  },
  {
   "cell_type": "code",
   "execution_count": null,
   "metadata": {
    "tags": []
   },
   "outputs": [],
   "source": [
    "times = az.values[:,1]\n",
    "azs = az.values[:,0]"
   ]
  },
  {
   "cell_type": "code",
   "execution_count": null,
   "metadata": {
    "tags": []
   },
   "outputs": [],
   "source": [
    "for i in range(1, len(times)):\n",
    "    print(i, (times[i] - times[i-1]), (azs[i] - azs[i-1]))"
   ]
  },
  {
   "cell_type": "code",
   "execution_count": null,
   "metadata": {
    "tags": []
   },
   "outputs": [],
   "source": [
    "# Times to start looking at error codes\n",
    "start = Time(\"2023-11-08 06:49:33Z\", scale='utc')\n",
    "end = Time(\"2023-11-08 06:49:39Z\", scale='utc')"
   ]
  },
  {
   "cell_type": "code",
   "execution_count": null,
   "metadata": {
    "tags": []
   },
   "outputs": [],
   "source": [
    "az = await client.select_packed_time_series(\"lsst.sal.ATMCS.mount_AzEl_Encoders\", \\\n",
    "                                            \"azimuthCalculatedAngle\",  start, end)"
   ]
  },
  {
   "cell_type": "code",
   "execution_count": null,
   "metadata": {
    "tags": []
   },
   "outputs": [],
   "source": [
    "len(az)"
   ]
  },
  {
   "cell_type": "code",
   "execution_count": null,
   "metadata": {
    "tags": []
   },
   "outputs": [],
   "source": [
    "times = az.values[:,1]\n",
    "azs = az.values[:,0]"
   ]
  },
  {
   "cell_type": "code",
   "execution_count": null,
   "metadata": {
    "tags": []
   },
   "outputs": [],
   "source": [
    "for i in range(1, len(times)):\n",
    "    print(i, f\"DeltaT = {(times[i] - times[i-1])}\")#, (azs[i] - azs[i-1])\")"
   ]
  },
  {
   "cell_type": "code",
   "execution_count": null,
   "metadata": {
    "tags": []
   },
   "outputs": [],
   "source": [
    "# Times to start looking at error codes\n",
    "start = Time(\"2023-11-08 06:18:50Z\", scale='utc')\n",
    "end = Time(\"2023-11-08 06:18:55Z\", scale='utc')"
   ]
  },
  {
   "cell_type": "code",
   "execution_count": null,
   "metadata": {
    "tags": []
   },
   "outputs": [],
   "source": [
    "az = await client.select_packed_time_series(\"lsst.sal.ATMCS.mount_AzEl_Encoders\", \\\n",
    "                                            \"azimuthCalculatedAngle\",  start, end)"
   ]
  },
  {
   "cell_type": "code",
   "execution_count": null,
   "metadata": {
    "tags": []
   },
   "outputs": [],
   "source": [
    "len(az)"
   ]
  },
  {
   "cell_type": "code",
   "execution_count": null,
   "metadata": {
    "tags": []
   },
   "outputs": [],
   "source": [
    "times = az.values[:,1]\n",
    "azs = az.values[:,0]"
   ]
  },
  {
   "cell_type": "code",
   "execution_count": null,
   "metadata": {
    "tags": []
   },
   "outputs": [],
   "source": [
    "for i in range(1, len(times)):\n",
    "    print(i, (times[i] - times[i-1]), (azs[i] - azs[i-1]))"
   ]
  },
  {
   "cell_type": "code",
   "execution_count": null,
   "metadata": {
    "tags": []
   },
   "outputs": [],
   "source": [
    "az[\"azimuthCalculatedAngle\"].plot(marker='x')"
   ]
  },
  {
   "cell_type": "code",
   "execution_count": null,
   "metadata": {},
   "outputs": [],
   "source": [
    "client = EfdClient('idf_efd')"
   ]
  },
  {
   "cell_type": "code",
   "execution_count": null,
   "metadata": {
    "tags": []
   },
   "outputs": [],
   "source": [
    "# Times to start looking at error codes\n",
    "start = Time(\"2023-05-05T00:00:00Z\", scale='utc')\n",
    "end = Time(\"2023-05-06T00:00:00Z\", scale='utc')\n",
    "az = await client.select_packed_time_series(\"lsst.sal.ATMCS.mount_AzEl_Encoders\", \\\n",
    "                                            \"azimuthCalculatedAngle\",  start, end)\n",
    "print(len(az))"
   ]
  },
  {
   "cell_type": "code",
   "execution_count": null,
   "metadata": {},
   "outputs": [],
   "source": [
    "end"
   ]
  },
  {
   "cell_type": "code",
   "execution_count": null,
   "metadata": {},
   "outputs": [],
   "source": [
    "az.tail(2)"
   ]
  },
  {
   "cell_type": "code",
   "execution_count": null,
   "metadata": {
    "tags": []
   },
   "outputs": [],
   "source": [
    "az['azimuthCalculatedAngle'].plot()"
   ]
  },
  {
   "cell_type": "code",
   "execution_count": null,
   "metadata": {
    "tags": []
   },
   "outputs": [],
   "source": [
    "len(az)"
   ]
  },
  {
   "cell_type": "code",
   "execution_count": null,
   "metadata": {
    "tags": []
   },
   "outputs": [],
   "source": [
    "times = az.values[:,1]\n",
    "azs = az.values[:,0]"
   ]
  },
  {
   "cell_type": "code",
   "execution_count": null,
   "metadata": {
    "tags": []
   },
   "outputs": [],
   "source": [
    "for i in range(1, len(times)):\n",
    "    print(i, f\"DeltaT = {(times[i] - times[i-1])}\")#, (azs[i] - azs[i-1])\")"
   ]
  },
  {
   "cell_type": "code",
   "execution_count": null,
   "metadata": {
    "tags": []
   },
   "outputs": [],
   "source": [
    "# Times to start looking at error codes\n",
    "start = Time(\"2023-11-08 06:50:20Z\", scale='utc')\n",
    "end = Time(\"2023-11-08 06:50:45Z\", scale='utc')"
   ]
  },
  {
   "cell_type": "code",
   "execution_count": null,
   "metadata": {
    "tags": []
   },
   "outputs": [],
   "source": [
    "az = await client.select_packed_time_series(\"lsst.sal.ATMCS.mount_AzEl_Encoders\", \\\n",
    "                                            \"azimuthCalculatedAngle\",  start, end)"
   ]
  },
  {
   "cell_type": "code",
   "execution_count": null,
   "metadata": {
    "tags": []
   },
   "outputs": [],
   "source": [
    "len(az)"
   ]
  },
  {
   "cell_type": "code",
   "execution_count": null,
   "metadata": {
    "tags": []
   },
   "outputs": [],
   "source": [
    "times = az.values[:,1]\n",
    "azs = az.values[:,0]"
   ]
  },
  {
   "cell_type": "code",
   "execution_count": null,
   "metadata": {
    "tags": []
   },
   "outputs": [],
   "source": [
    "for i in range(1, len(times)):\n",
    "    print(i, f\"DeltaT = {(times[i] - times[i-1])}\")#, (azs[i] - azs[i-1])\")"
   ]
  },
  {
   "cell_type": "code",
   "execution_count": null,
   "metadata": {
    "tags": []
   },
   "outputs": [],
   "source": [
    "plt.plot(times[0:100], azs[0:100], marker='x')"
   ]
  },
  {
   "cell_type": "code",
   "execution_count": null,
   "metadata": {
    "tags": []
   },
   "outputs": [],
   "source": [
    "az[\"azimuthCalculatedAngle\"].plot(marker='x')\n",
    "p1 = Time(\"2023-11-08 06:50:39.8Z\", scale='utc').isot\n",
    "p2 = Time(\"2023-11-08 06:50:39.9Z\", scale='utc').isot\n",
    "plt.xlim(p1,p2)"
   ]
  },
  {
   "cell_type": "code",
   "execution_count": null,
   "metadata": {
    "tags": []
   },
   "outputs": [],
   "source": [
    "az[\"azimuthCalculatedAngle\"].head(80)"
   ]
  },
  {
   "cell_type": "code",
   "execution_count": null,
   "metadata": {},
   "outputs": [],
   "source": []
  },
  {
   "cell_type": "code",
   "execution_count": null,
   "metadata": {
    "tags": []
   },
   "outputs": [],
   "source": [
    "# Times to start looking at error codes\n",
    "start = Time(\"2023-07-11 12:00:00Z\", scale='utc')\n",
    "end = Time(\"2023-07-12 12:00:00Z\", scale='utc')"
   ]
  },
  {
   "cell_type": "code",
   "execution_count": null,
   "metadata": {
    "tags": []
   },
   "outputs": [],
   "source": [
    "test = await client.select_time_series('lsst.sal.MTMount.azimuth', \\\n",
    "                                                ['actualPosition'],  start, end)"
   ]
  },
  {
   "cell_type": "code",
   "execution_count": null,
   "metadata": {
    "tags": []
   },
   "outputs": [],
   "source": [
    "len(test)"
   ]
  },
  {
   "cell_type": "code",
   "execution_count": null,
   "metadata": {
    "tags": []
   },
   "outputs": [],
   "source": [
    "test['maxSpeed'].plot()\n",
    "plt.title('lsst.sal.ESS.airFlow.maxSpeed')\n",
    "plt.ylabel('m/s')"
   ]
  },
  {
   "cell_type": "code",
   "execution_count": null,
   "metadata": {},
   "outputs": [],
   "source": [
    "# Look before and after the last error time\n",
    "lastErrorTime = Time(errors.index[3])\n",
    "before = 300.0\n",
    "after = 300.0\n",
    "start = lastErrorTime - TimeDelta(before, format='sec')\n",
    "end = lastErrorTime + TimeDelta(after, format='sec')\n",
    "print(start, end)"
   ]
  },
  {
   "cell_type": "code",
   "execution_count": null,
   "metadata": {},
   "outputs": [],
   "source": [
    "status = await client.select_time_series('lsst.sal.ATMCS.logevent_azimuthDrive1Status', \\\n",
    "                                                ['*'],  start, end)"
   ]
  },
  {
   "cell_type": "code",
   "execution_count": null,
   "metadata": {},
   "outputs": [],
   "source": [
    "len(status)"
   ]
  },
  {
   "cell_type": "code",
   "execution_count": null,
   "metadata": {},
   "outputs": [],
   "source": [
    "status"
   ]
  },
  {
   "cell_type": "code",
   "execution_count": null,
   "metadata": {},
   "outputs": [],
   "source": [
    "# Times to start looking at error codes\n",
    "start = Time(\"2022-03-17 00:00:00Z\", scale='utc')\n",
    "end = Time(\"2022-03-17 00:05:00Z\", scale='utc')\n",
    "test = await client.select_packed_time_series('lsst.sal.ATPtg.mountPositions', \\\n",
    "                                                ['*'],  start, end)"
   ]
  },
  {
   "cell_type": "code",
   "execution_count": null,
   "metadata": {
    "tags": []
   },
   "outputs": [],
   "source": [
    "start = Time(\"2023-06-01T00:00:00Z\", scale='utc')\n",
    "end = Time(\"2023-06-01T11:00:00Z\", scale='utc')\n",
    "test = await client.select_time_series('lsst.sal.MTMount.logevent_azimuthMotionState', \\\n",
    "                                                ['*'],  start, end)"
   ]
  },
  {
   "cell_type": "code",
   "execution_count": null,
   "metadata": {
    "tags": []
   },
   "outputs": [],
   "source": [
    "len(test)"
   ]
  },
  {
   "cell_type": "code",
   "execution_count": null,
   "metadata": {},
   "outputs": [],
   "source": []
  },
  {
   "cell_type": "code",
   "execution_count": null,
   "metadata": {
    "tags": []
   },
   "outputs": [],
   "source": [
    "# Times to start looking at error codes\n",
    "start = Time(\"2023-11-08 06:45:00Z\", scale='utc')\n",
    "end = Time(\"2023-11-08 06:55:00Z\", scale='utc')"
   ]
  },
  {
   "cell_type": "code",
   "execution_count": null,
   "metadata": {
    "tags": []
   },
   "outputs": [],
   "source": [
    "cRIO_ts = await client.select_time_series(\"lsst.sal.ATMCS.mount_AzEl_Encoders\", \\\n",
    "                                            [\"cRIO_timestamp\"],  start, end)"
   ]
  },
  {
   "cell_type": "code",
   "execution_count": null,
   "metadata": {
    "tags": []
   },
   "outputs": [],
   "source": [
    "len(cRIO_ts)"
   ]
  },
  {
   "cell_type": "code",
   "execution_count": null,
   "metadata": {
    "tags": []
   },
   "outputs": [],
   "source": [
    "timestamps = cRIO_ts.values"
   ]
  },
  {
   "cell_type": "code",
   "execution_count": null,
   "metadata": {
    "tags": []
   },
   "outputs": [],
   "source": [
    "for i in range(1, len(timestamps)):\n",
    "    print(i, timestamps[i] - timestamps[i-1])"
   ]
  },
  {
   "cell_type": "code",
   "execution_count": null,
   "metadata": {
    "tags": []
   },
   "outputs": [],
   "source": [
    "clientclient = EfdClient('idf_efd')"
   ]
  },
  {
   "cell_type": "code",
   "execution_count": null,
   "metadata": {
    "tags": []
   },
   "outputs": [],
   "source": [
    "# Times to start looking at error codes\n",
    "start = Time(\"2024-02-16 19:45:00Z\", scale='utc')\n",
    "end = Time(\"2024-02-16 20:00:00Z\", scale='utc')"
   ]
  },
  {
   "cell_type": "code",
   "execution_count": null,
   "metadata": {
    "tags": []
   },
   "outputs": [],
   "source": [
    "start = Time(\"2024-02-16 19:45:00Z\", scale='utc')\n",
    "end = Time(\"2024-02-16 20:00:00Z\", scale='utc')\n",
    "gill = await client.select_time_series(\"lsst.sal.ESS.airTurbulence\", \\\n",
    "                                            [\"*\"],  start, end, index=205)"
   ]
  },
  {
   "cell_type": "code",
   "execution_count": null,
   "metadata": {},
   "outputs": [],
   "source": [
    "gill"
   ]
  },
  {
   "cell_type": "code",
   "execution_count": null,
   "metadata": {
    "tags": []
   },
   "outputs": [],
   "source": [
    "timestamps = cRIO_ts.values"
   ]
  },
  {
   "cell_type": "code",
   "execution_count": null,
   "metadata": {
    "tags": []
   },
   "outputs": [],
   "source": [
    "timestamps = cRIO_ts.values\n",
    "for i in range(1, len(timestamps)):\n",
    "    print(i, timestamps[i] - timestamps[i-1])"
   ]
  },
  {
   "cell_type": "code",
   "execution_count": null,
   "metadata": {
    "tags": []
   },
   "outputs": [],
   "source": [
    "client = EfdClient('usdf_efd')\n",
    "times = [[\"2023-09-22 03:45:00Z\", \"2023-09-22 03:55:00Z\"], [\"2023-11-08 06:45:00Z\", \"2023-11-08 06:55:00Z\"], \\\n",
    "        [\"2023-11-08 08:20:00Z\", \"2023-11-08 08:30:00Z\"]]\n",
    "\n",
    "image_names = [None, 2023110700519, 2023110700594]\n",
    "\n",
    "image_stamps = [None, pd.Timestamp(\"2023-11-08 06:50:43Z\", tz='UTC'), pd.Timestamp(\"2023-11-08 08:26:20Z\", tz='UTC')]\n",
    "fig, axs = plt.subplots(3,1,figsize=(8, 12))\n",
    "#plt.subplots_adjust(hspace= 0.5)\n",
    "for i, [tstart, tend] in enumerate(times):\n",
    "    start = Time(tstart, scale='utc')\n",
    "    end = Time(tend, scale='utc')\n",
    "\n",
    "    cRIO_ts = await client.select_time_series(\"lsst.sal.ATMCS.mount_AzEl_Encoders\", \\\n",
    "                                                [\"cRIO_timestamp\"],  start, end)\n",
    "    print(tstart, len(cRIO_ts))\n",
    "    timestamps = cRIO_ts.values\n",
    "    index = cRIO_ts.index\n",
    "    xaxis = []\n",
    "    deltaTs = []\n",
    "    for n in range(1, len(timestamps)):\n",
    "        xaxis.append(index[n])\n",
    "        deltaTs.append(timestamps[n] - timestamps[n-1])\n",
    "    sigma_deltaT = np.std(deltaTs)\n",
    "    axs[i].set_title(f\"cRIO timestamp deltas {tstart}\")\n",
    "    axs[i].plot(xaxis, deltaTs)\n",
    "    axs[i].set_ylim(0.9, 1.35)\n",
    "    axs[i].set_ylabel(\"cRIO timestamp delta (sec)\")\n",
    "    axs[i].text(xaxis[1], 1.2, f\"deltaT_sigma = {sigma_deltaT*1E6:.2f} microsec\")\n",
    "    if image_names[i] is not None:\n",
    "        axs[i].plot([image_stamps[i], image_stamps[i]], [0.9,1.35], ls = '--', color='red')\n",
    "        axs[i].text(image_stamps[i], 0.95, f\"{image_names[i]}\")\n",
    "plt.savefig(f\"/home/c/cslage/u/AuxTel/mount_graphs/cRIO_Timestamps_2_15Nov23.png\")                 "
   ]
  },
  {
   "cell_type": "code",
   "execution_count": null,
   "metadata": {
    "tags": []
   },
   "outputs": [],
   "source": [
    "client = EfdClient('usdf_efd')\n",
    "from lsst.daf.butler import Butler\n",
    "butler = Butler('/repo/embargo', collections=\"LATISS/raw/all\")\n",
    "import lsst.summit.utils.butlerUtils as butlerUtils\n",
    "from lsst.summit.utils.utils import dayObsIntToString\n",
    "fig, axs = plt.subplots(1,2,figsize=(10,5))\n",
    "\n",
    "expIdList = [2023110700489, 2023110700527]\n",
    "for i, expId in enumerate(expIdList):\n",
    "    dataId = {'detector':0, 'exposure':expId}\n",
    "    expRecord = butlerUtils.getExpRecordFromDataId(butler, dataId)\n",
    "    tStart = expRecord.timespan.begin.tai.to_value(\"isot\")\n",
    "    tEnd = expRecord.timespan.end.tai.to_value(\"isot\")\n",
    "    t_start = Time(tStart, scale='tai').utc\n",
    "    t_end = Time(tEnd, scale='tai').utc\n",
    "    cRIO_ts = await client.select_time_series(\"lsst.sal.ATMCS.mount_AzEl_Encoders\", \\\n",
    "                                                [\"cRIO_timestamp\"],  t_start, t_end)\n",
    "                                                \n",
    "    timestamps = cRIO_ts.values\n",
    "    index = cRIO_ts.index\n",
    "    xaxis = []\n",
    "    deltaTs = []\n",
    "    for n in range(1, len(timestamps)):\n",
    "        xaxis.append(index[n])\n",
    "        deltaTs.append(timestamps[n] - timestamps[n-1])\n",
    "    sigma_deltaT = np.std(deltaTs)\n",
    "    axs[i].set_title(f\"cRIO timestamp deltas {expId}\")\n",
    "    axs[i].plot(xaxis, deltaTs)\n",
    "    axs[i].set_ylim(0.9, 1.35)\n",
    "    axs[i].set_ylabel(\"cRIO timestamp delta (sec)\")\n",
    "    axs[i].text(xaxis[1], 1.2, f\"deltaT_sigma = {sigma_deltaT*1E6:.2f} microsec\")\n",
    "plt.savefig(f\"/home/c/cslage/u/AuxTel/mount_classifier/cRIO_Timestamps_02Jan24.png\")                 "
   ]
  },
  {
   "cell_type": "code",
   "execution_count": null,
   "metadata": {
    "tags": []
   },
   "outputs": [],
   "source": [
    "type(xaxis[1])"
   ]
  },
  {
   "cell_type": "code",
   "execution_count": null,
   "metadata": {
    "tags": []
   },
   "outputs": [],
   "source": [
    "plt.plot(xaxis, deltaTs)\n",
    "plt.ylim(0.90, 1.35)"
   ]
  },
  {
   "cell_type": "code",
   "execution_count": null,
   "metadata": {
    "tags": []
   },
   "outputs": [],
   "source": [
    "cRIO_ts.index"
   ]
  },
  {
   "cell_type": "code",
   "execution_count": null,
   "metadata": {},
   "outputs": [],
   "source": [
    "# Times to start looking at error codes\n",
    "start = Time(\"2023-05-01T00:00:00Z\", scale='utc')\n",
    "end = Time(\"2024-02-01T00:00:00Z\", scale='utc')\n",
    "tempCCD = await client.select_time_series(\"lsst.sal.ATCamera.vacuum\", \\\n",
    "                                            \"tempCCD\",  start, end)"
   ]
  },
  {
   "cell_type": "code",
   "execution_count": null,
   "metadata": {},
   "outputs": [],
   "source": [
    "len(az)"
   ]
  },
  {
   "cell_type": "code",
   "execution_count": null,
   "metadata": {},
   "outputs": [],
   "source": [
    "rolling = tempCCD['tempCCD'].rolling(10).sum() / 10.0\n",
    "#tempCCD['tempCCD'].plot()\n",
    "rolling.plot()\n",
    "plt.title(\"AuxTel CCD temperature\")\n",
    "plt.ylim(-93.6, -94.6)\n",
    "plt.ylabel(\"Temp (C)\")\n",
    "plt.axhline(-94.15, ls = '--', color='black', label=\"Setpoint\")\n",
    "plt.savefig(\"/home/c/cslage/u/AuxTel/gains/AuxTel_CCD_Temp_2023_2024.png\")"
   ]
  },
  {
   "cell_type": "code",
   "execution_count": null,
   "metadata": {},
   "outputs": [],
   "source": [
    "# Times to start looking\n",
    "start = Time(\"2024-04-23 23:00:00Z\", scale='utc')\n",
    "end = Time(\"2024-04-23 23:50:00Z\", scale='utc')\n",
    "vels = await client.select_packed_time_series(\"lsst.sal.ATMCS.measuredMotorVelocity\", \\\n",
    "                                                [\"azimuthMotor1Velocity\", \"azimuthMotor2Velocity\"],  start, end)"
   ]
  },
  {
   "cell_type": "code",
   "execution_count": null,
   "metadata": {},
   "outputs": [],
   "source": [
    "len(vels)"
   ]
  },
  {
   "cell_type": "code",
   "execution_count": null,
   "metadata": {},
   "outputs": [],
   "source": [
    "fig, axs = plt.subplots(1,2,figsize=(10,5))\n",
    "plt.subplots_adjust(wspace=0.3)\n",
    "vels[\"azimuthMotor1Velocity\"].plot(ax=axs[0], color='blue', label='Motor1')\n",
    "vels[\"azimuthMotor2Velocity\"].plot(ax=axs[0], color='red', ls = '--', label='Motor2')\n",
    "vels[\"azimuthMotor1Velocity\"].plot(ax=axs[1], color='blue', label='Motor1')\n",
    "vels[\"azimuthMotor2Velocity\"].plot(ax=axs[1], color='red', ls = '--', label='Motor2')\n",
    "axs[0].legend()\n",
    "axs[0].set_ylabel(\"Velocity(deg/s)\")\n",
    "axs[1].set_ylim(-0.02, 0.02)\n",
    "plotStart = Time(\"2024-04-23 23:23:00Z\", scale='utc')\n",
    "plotEnd = Time(\"2024-04-23 23:23:50Z\", scale='utc')\n",
    "axs[1].set_xlim(plotStart.isot, plotEnd.isot)\n",
    "axs[1].legend()\n",
    "axs[1].set_ylabel(\"Velocity(deg/s)\")\n",
    "plt.savefig(\"/home/c/cslage/u/AuxTel/mount_graphs/Azimuth_Velocity_Check_23Apr24.png\")"
   ]
  },
  {
   "cell_type": "code",
   "execution_count": null,
   "metadata": {},
   "outputs": [],
   "source": []
  }
 ],
 "metadata": {
  "kernelspec": {
   "display_name": "LSST",
   "language": "python",
   "name": "lsst"
  },
  "language_info": {
   "codemirror_mode": {
    "name": "ipython",
    "version": 3
   },
   "file_extension": ".py",
   "mimetype": "text/x-python",
   "name": "python",
   "nbconvert_exporter": "python",
   "pygments_lexer": "ipython3",
   "version": "3.11.9"
  }
 },
 "nbformat": 4,
 "nbformat_minor": 4
}
