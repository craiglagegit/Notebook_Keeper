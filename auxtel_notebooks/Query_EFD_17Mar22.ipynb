{
 "cells": [
  {
   "cell_type": "markdown",
   "metadata": {},
   "source": [
    "## AuxTel Image elongation due to azimuth oscillation\n",
    "\n",
    "Craig Lage 17-Mar-22"
   ]
  },
  {
   "cell_type": "code",
   "execution_count": null,
   "metadata": {
    "execution": {
     "iopub.execute_input": "2023-07-12T16:32:35.396458Z",
     "iopub.status.busy": "2023-07-12T16:32:35.396225Z",
     "iopub.status.idle": "2023-07-12T16:32:37.417840Z",
     "shell.execute_reply": "2023-07-12T16:32:37.417236Z",
     "shell.execute_reply.started": "2023-07-12T16:32:35.396443Z"
    },
    "tags": []
   },
   "outputs": [],
   "source": [
    "import sys, time, os, asyncio, glob\n",
    "\n",
    "from datetime import datetime\n",
    "import numpy as np\n",
    "import matplotlib.pyplot as plt\n",
    "from matplotlib.colors import LogNorm\n",
    "import pickle as pkl\n",
    "import pandas as pd\n",
    "import astropy.io.fits as pf\n",
    "from astropy.time import Time, TimeDelta\n",
    "from astropy.coordinates import AltAz, ICRS, EarthLocation, Angle, FK5\n",
    "import astropy.units as u\n",
    "\n",
    "from lsst.daf.butler import Butler\n",
    "from lsst_efd_client import EfdClient\n",
    "\n",
    "from lsst.pipe.tasks.characterizeImage import CharacterizeImageTask, CharacterizeImageConfig"
   ]
  },
  {
   "cell_type": "code",
   "execution_count": null,
   "metadata": {
    "execution": {
     "iopub.execute_input": "2023-07-12T16:32:37.424412Z",
     "iopub.status.busy": "2023-07-12T16:32:37.424241Z",
     "iopub.status.idle": "2023-07-12T16:32:37.870179Z",
     "shell.execute_reply": "2023-07-12T16:32:37.869684Z",
     "shell.execute_reply.started": "2023-07-12T16:32:37.424395Z"
    },
    "tags": []
   },
   "outputs": [],
   "source": [
    "client = EfdClient('usdf_efd')"
   ]
  },
  {
   "cell_type": "code",
   "execution_count": null,
   "metadata": {
    "execution": {
     "iopub.execute_input": "2023-07-07T17:45:30.913611Z",
     "iopub.status.busy": "2023-07-07T17:45:30.913476Z",
     "iopub.status.idle": "2023-07-07T17:45:31.313079Z",
     "shell.execute_reply": "2023-07-07T17:45:31.312623Z",
     "shell.execute_reply.started": "2023-07-07T17:45:30.913598Z"
    },
    "tags": []
   },
   "outputs": [],
   "source": [
    "EfdClient.list_efd_names()"
   ]
  },
  {
   "cell_type": "code",
   "execution_count": null,
   "metadata": {
    "tags": []
   },
   "outputs": [],
   "source": [
    "dir(client)"
   ]
  },
  {
   "cell_type": "code",
   "execution_count": null,
   "metadata": {
    "execution": {
     "iopub.execute_input": "2023-07-07T20:23:51.764472Z",
     "iopub.status.busy": "2023-07-07T20:23:51.764242Z",
     "iopub.status.idle": "2023-07-07T20:23:51.785130Z",
     "shell.execute_reply": "2023-07-07T20:23:51.784702Z",
     "shell.execute_reply.started": "2023-07-07T20:23:51.764457Z"
    },
    "jupyter": {
     "outputs_hidden": true
    },
    "tags": []
   },
   "outputs": [],
   "source": [
    "await client.get_topics()"
   ]
  },
  {
   "cell_type": "code",
   "execution_count": null,
   "metadata": {},
   "outputs": [],
   "source": []
  },
  {
   "cell_type": "code",
   "execution_count": null,
   "metadata": {
    "execution": {
     "iopub.execute_input": "2023-07-07T20:24:32.188348Z",
     "iopub.status.busy": "2023-07-07T20:24:32.187996Z",
     "iopub.status.idle": "2023-07-07T20:24:32.203469Z",
     "shell.execute_reply": "2023-07-07T20:24:32.203081Z",
     "shell.execute_reply.started": "2023-07-07T20:24:32.188332Z"
    },
    "tags": []
   },
   "outputs": [],
   "source": [
    "await client.get_fields('lsst.sal.MTMount.logevent_azimuthMotionState')"
   ]
  },
  {
   "cell_type": "code",
   "execution_count": null,
   "metadata": {
    "execution": {
     "iopub.execute_input": "2023-07-12T16:32:43.188989Z",
     "iopub.status.busy": "2023-07-12T16:32:43.188739Z",
     "iopub.status.idle": "2023-07-12T16:32:43.192501Z",
     "shell.execute_reply": "2023-07-12T16:32:43.192009Z",
     "shell.execute_reply.started": "2023-07-12T16:32:43.188971Z"
    },
    "tags": []
   },
   "outputs": [],
   "source": [
    "# Times to start looking at error codes\n",
    "start = Time(\"2023-06-27 12:00:00Z\", scale='utc')\n",
    "end = Time(\"2023-06-28 12:00:00Z\", scale='utc')"
   ]
  },
  {
   "cell_type": "code",
   "execution_count": null,
   "metadata": {
    "execution": {
     "iopub.execute_input": "2023-07-12T16:32:44.276987Z",
     "iopub.status.busy": "2023-07-12T16:32:44.276805Z",
     "iopub.status.idle": "2023-07-12T16:32:44.301643Z",
     "shell.execute_reply": "2023-07-12T16:32:44.301103Z",
     "shell.execute_reply.started": "2023-07-12T16:32:44.276971Z"
    },
    "tags": []
   },
   "outputs": [],
   "source": [
    "test = await client.select_time_series('lsst.sal.MTMount.azimuth', \\\n",
    "                                                ['actualPosition'],  start, end)"
   ]
  },
  {
   "cell_type": "code",
   "execution_count": null,
   "metadata": {
    "execution": {
     "iopub.execute_input": "2023-07-12T16:32:45.732886Z",
     "iopub.status.busy": "2023-07-12T16:32:45.732666Z",
     "iopub.status.idle": "2023-07-12T16:32:45.736260Z",
     "shell.execute_reply": "2023-07-12T16:32:45.735845Z",
     "shell.execute_reply.started": "2023-07-12T16:32:45.732871Z"
    },
    "tags": []
   },
   "outputs": [],
   "source": [
    "len(test)"
   ]
  },
  {
   "cell_type": "code",
   "execution_count": null,
   "metadata": {
    "execution": {
     "iopub.execute_input": "2023-07-12T19:39:06.745369Z",
     "iopub.status.busy": "2023-07-12T19:39:06.745145Z",
     "iopub.status.idle": "2023-07-12T19:39:06.748799Z",
     "shell.execute_reply": "2023-07-12T19:39:06.748355Z",
     "shell.execute_reply.started": "2023-07-12T19:39:06.745347Z"
    },
    "tags": []
   },
   "outputs": [],
   "source": [
    "# Times to start looking at error codes\n",
    "start = Time(\"2023-07-11 12:00:00Z\", scale='utc')\n",
    "end = Time(\"2023-07-12 12:00:00Z\", scale='utc')"
   ]
  },
  {
   "cell_type": "code",
   "execution_count": null,
   "metadata": {
    "execution": {
     "iopub.execute_input": "2023-07-12T19:39:08.543409Z",
     "iopub.status.busy": "2023-07-12T19:39:08.543171Z",
     "iopub.status.idle": "2023-07-12T19:39:12.835549Z",
     "shell.execute_reply": "2023-07-12T19:39:12.835026Z",
     "shell.execute_reply.started": "2023-07-12T19:39:08.543393Z"
    },
    "tags": []
   },
   "outputs": [],
   "source": [
    "test = await client.select_time_series('lsst.sal.MTMount.azimuth', \\\n",
    "                                                ['actualPosition'],  start, end)"
   ]
  },
  {
   "cell_type": "code",
   "execution_count": null,
   "metadata": {
    "execution": {
     "iopub.execute_input": "2023-07-12T19:39:12.841292Z",
     "iopub.status.busy": "2023-07-12T19:39:12.841154Z",
     "iopub.status.idle": "2023-07-12T19:39:12.844004Z",
     "shell.execute_reply": "2023-07-12T19:39:12.843630Z",
     "shell.execute_reply.started": "2023-07-12T19:39:12.841280Z"
    },
    "tags": []
   },
   "outputs": [],
   "source": [
    "len(test)"
   ]
  },
  {
   "cell_type": "code",
   "execution_count": null,
   "metadata": {
    "execution": {
     "iopub.execute_input": "2023-07-10T14:39:50.922854Z",
     "iopub.status.busy": "2023-07-10T14:39:50.922500Z",
     "iopub.status.idle": "2023-07-10T14:39:52.406966Z",
     "shell.execute_reply": "2023-07-10T14:39:52.406474Z",
     "shell.execute_reply.started": "2023-07-10T14:39:50.922837Z"
    },
    "tags": []
   },
   "outputs": [],
   "source": [
    "test['maxSpeed'].plot()\n",
    "plt.title('lsst.sal.ESS.airFlow.maxSpeed')\n",
    "plt.ylabel('m/s')"
   ]
  },
  {
   "cell_type": "code",
   "execution_count": null,
   "metadata": {},
   "outputs": [],
   "source": [
    "# Look before and after the last error time\n",
    "lastErrorTime = Time(errors.index[3])\n",
    "before = 300.0\n",
    "after = 300.0\n",
    "start = lastErrorTime - TimeDelta(before, format='sec')\n",
    "end = lastErrorTime + TimeDelta(after, format='sec')\n",
    "print(start, end)"
   ]
  },
  {
   "cell_type": "code",
   "execution_count": null,
   "metadata": {},
   "outputs": [],
   "source": [
    "status = await client.select_time_series('lsst.sal.ATMCS.logevent_azimuthDrive1Status', \\\n",
    "                                                ['*'],  start, end)"
   ]
  },
  {
   "cell_type": "code",
   "execution_count": null,
   "metadata": {},
   "outputs": [],
   "source": [
    "len(status)"
   ]
  },
  {
   "cell_type": "code",
   "execution_count": null,
   "metadata": {},
   "outputs": [],
   "source": [
    "status"
   ]
  },
  {
   "cell_type": "code",
   "execution_count": null,
   "metadata": {},
   "outputs": [],
   "source": [
    "# Times to start looking at error codes\n",
    "start = Time(\"2022-03-17 00:00:00Z\", scale='utc')\n",
    "end = Time(\"2022-03-17 00:05:00Z\", scale='utc')\n",
    "test = await client.select_packed_time_series('lsst.sal.ATPtg.mountPositions', \\\n",
    "                                                ['*'],  start, end)"
   ]
  },
  {
   "cell_type": "code",
   "execution_count": null,
   "metadata": {
    "execution": {
     "iopub.execute_input": "2023-07-07T20:25:35.431494Z",
     "iopub.status.busy": "2023-07-07T20:25:35.431264Z",
     "iopub.status.idle": "2023-07-07T20:25:35.469499Z",
     "shell.execute_reply": "2023-07-07T20:25:35.469004Z",
     "shell.execute_reply.started": "2023-07-07T20:25:35.431478Z"
    },
    "tags": []
   },
   "outputs": [],
   "source": [
    "start = Time(\"2023-06-01T00:00:00Z\", scale='utc')\n",
    "end = Time(\"2023-06-01T11:00:00Z\", scale='utc')\n",
    "test = await client.select_time_series('lsst.sal.MTMount.logevent_azimuthMotionState', \\\n",
    "                                                ['*'],  start, end)"
   ]
  },
  {
   "cell_type": "code",
   "execution_count": null,
   "metadata": {
    "execution": {
     "iopub.execute_input": "2023-07-07T20:25:42.609036Z",
     "iopub.status.busy": "2023-07-07T20:25:42.608759Z",
     "iopub.status.idle": "2023-07-07T20:25:42.612472Z",
     "shell.execute_reply": "2023-07-07T20:25:42.612057Z",
     "shell.execute_reply.started": "2023-07-07T20:25:42.609020Z"
    },
    "tags": []
   },
   "outputs": [],
   "source": [
    "len(test)"
   ]
  },
  {
   "cell_type": "code",
   "execution_count": null,
   "metadata": {},
   "outputs": [],
   "source": []
  }
 ],
 "metadata": {
  "kernelspec": {
   "display_name": "LSST",
   "language": "python",
   "name": "lsst"
  },
  "language_info": {
   "codemirror_mode": {
    "name": "ipython",
    "version": 3
   },
   "file_extension": ".py",
   "mimetype": "text/x-python",
   "name": "python",
   "nbconvert_exporter": "python",
   "pygments_lexer": "ipython3",
   "version": "3.11.4"
  }
 },
 "nbformat": 4,
 "nbformat_minor": 4
}
