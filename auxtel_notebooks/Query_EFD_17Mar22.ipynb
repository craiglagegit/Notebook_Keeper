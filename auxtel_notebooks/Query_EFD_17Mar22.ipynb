{
 "cells": [
  {
   "cell_type": "markdown",
   "metadata": {},
   "source": [
    "## AuxTel Image elongation due to azimuth oscillation\n",
    "\n",
    "Craig Lage 17-Mar-22"
   ]
  },
  {
   "cell_type": "code",
   "execution_count": null,
   "metadata": {
    "execution": {
     "iopub.execute_input": "2024-01-02T14:52:26.999422Z",
     "iopub.status.busy": "2024-01-02T14:52:26.998858Z",
     "iopub.status.idle": "2024-01-02T14:52:30.942953Z",
     "shell.execute_reply": "2024-01-02T14:52:30.942499Z",
     "shell.execute_reply.started": "2024-01-02T14:52:26.999404Z"
    },
    "tags": []
   },
   "outputs": [],
   "source": [
    "import sys, time, os, asyncio, glob\n",
    "\n",
    "from datetime import datetime\n",
    "import numpy as np\n",
    "import matplotlib.pyplot as plt\n",
    "from matplotlib.colors import LogNorm\n",
    "import pickle as pkl\n",
    "import pandas as pd\n",
    "import astropy.io.fits as pf\n",
    "from astropy.time import Time, TimeDelta\n",
    "from astropy.coordinates import AltAz, ICRS, EarthLocation, Angle, FK5\n",
    "import astropy.units as u\n",
    "\n",
    "from lsst.daf.butler import Butler\n",
    "from lsst_efd_client import EfdClient\n",
    "\n",
    "from lsst.pipe.tasks.characterizeImage import CharacterizeImageTask, CharacterizeImageConfig"
   ]
  },
  {
   "cell_type": "code",
   "execution_count": null,
   "metadata": {
    "execution": {
     "iopub.execute_input": "2024-01-02T14:52:30.951227Z",
     "iopub.status.busy": "2024-01-02T14:52:30.951102Z",
     "iopub.status.idle": "2024-01-02T14:52:31.417095Z",
     "shell.execute_reply": "2024-01-02T14:52:31.416645Z",
     "shell.execute_reply.started": "2024-01-02T14:52:30.951215Z"
    },
    "tags": []
   },
   "outputs": [],
   "source": [
    "client = EfdClient('usdf_efd')"
   ]
  },
  {
   "cell_type": "code",
   "execution_count": null,
   "metadata": {
    "tags": []
   },
   "outputs": [],
   "source": [
    "EfdClient.list_efd_names()"
   ]
  },
  {
   "cell_type": "code",
   "execution_count": null,
   "metadata": {
    "tags": []
   },
   "outputs": [],
   "source": [
    "dir(client)"
   ]
  },
  {
   "cell_type": "code",
   "execution_count": null,
   "metadata": {
    "tags": []
   },
   "outputs": [],
   "source": [
    "await client.get_topics()"
   ]
  },
  {
   "cell_type": "code",
   "execution_count": null,
   "metadata": {},
   "outputs": [],
   "source": []
  },
  {
   "cell_type": "code",
   "execution_count": null,
   "metadata": {
    "tags": []
   },
   "outputs": [],
   "source": [
    "await client.get_fields('lsst.sal.MTMount.logevent_azimuthMotionState')"
   ]
  },
  {
   "cell_type": "code",
   "execution_count": null,
   "metadata": {
    "tags": []
   },
   "outputs": [],
   "source": [
    "# Times to start looking at error codes\n",
    "start = Time(\"2023-07-19 03:16:20Z\", scale='utc')\n",
    "end = Time(\"2023-07-19 03:16:25Z\", scale='utc')"
   ]
  },
  {
   "cell_type": "code",
   "execution_count": null,
   "metadata": {
    "tags": []
   },
   "outputs": [],
   "source": [
    "az = await client.select_packed_time_series(\"lsst.sal.ATMCS.mount_AzEl_Encoders\", \\\n",
    "                                            \"azimuthCalculatedAngle\",  start, end)"
   ]
  },
  {
   "cell_type": "code",
   "execution_count": null,
   "metadata": {
    "tags": []
   },
   "outputs": [],
   "source": [
    "len(az)"
   ]
  },
  {
   "cell_type": "code",
   "execution_count": null,
   "metadata": {
    "tags": []
   },
   "outputs": [],
   "source": [
    "times = az.values[:,1]\n",
    "azs = az.values[:,0]"
   ]
  },
  {
   "cell_type": "code",
   "execution_count": null,
   "metadata": {
    "tags": []
   },
   "outputs": [],
   "source": [
    "for i in range(1, len(times)):\n",
    "    print(i, (times[i] - times[i-1]), (azs[i] - azs[i-1]))"
   ]
  },
  {
   "cell_type": "code",
   "execution_count": null,
   "metadata": {
    "tags": []
   },
   "outputs": [],
   "source": [
    "# Times to start looking at error codes\n",
    "start = Time(\"2023-11-08 06:49:33Z\", scale='utc')\n",
    "end = Time(\"2023-11-08 06:49:39Z\", scale='utc')"
   ]
  },
  {
   "cell_type": "code",
   "execution_count": null,
   "metadata": {
    "tags": []
   },
   "outputs": [],
   "source": [
    "az = await client.select_packed_time_series(\"lsst.sal.ATMCS.mount_AzEl_Encoders\", \\\n",
    "                                            \"azimuthCalculatedAngle\",  start, end)"
   ]
  },
  {
   "cell_type": "code",
   "execution_count": null,
   "metadata": {
    "tags": []
   },
   "outputs": [],
   "source": [
    "len(az)"
   ]
  },
  {
   "cell_type": "code",
   "execution_count": null,
   "metadata": {
    "tags": []
   },
   "outputs": [],
   "source": [
    "times = az.values[:,1]\n",
    "azs = az.values[:,0]"
   ]
  },
  {
   "cell_type": "code",
   "execution_count": null,
   "metadata": {
    "tags": []
   },
   "outputs": [],
   "source": [
    "for i in range(1, len(times)):\n",
    "    print(i, f\"DeltaT = {(times[i] - times[i-1])}\")#, (azs[i] - azs[i-1])\")"
   ]
  },
  {
   "cell_type": "code",
   "execution_count": null,
   "metadata": {
    "tags": []
   },
   "outputs": [],
   "source": [
    "# Times to start looking at error codes\n",
    "start = Time(\"2023-11-08 06:18:50Z\", scale='utc')\n",
    "end = Time(\"2023-11-08 06:18:55Z\", scale='utc')"
   ]
  },
  {
   "cell_type": "code",
   "execution_count": null,
   "metadata": {
    "tags": []
   },
   "outputs": [],
   "source": [
    "az = await client.select_packed_time_series(\"lsst.sal.ATMCS.mount_AzEl_Encoders\", \\\n",
    "                                            \"azimuthCalculatedAngle\",  start, end)"
   ]
  },
  {
   "cell_type": "code",
   "execution_count": null,
   "metadata": {
    "tags": []
   },
   "outputs": [],
   "source": [
    "len(az)"
   ]
  },
  {
   "cell_type": "code",
   "execution_count": null,
   "metadata": {
    "tags": []
   },
   "outputs": [],
   "source": [
    "times = az.values[:,1]\n",
    "azs = az.values[:,0]"
   ]
  },
  {
   "cell_type": "code",
   "execution_count": null,
   "metadata": {
    "tags": []
   },
   "outputs": [],
   "source": [
    "for i in range(1, len(times)):\n",
    "    print(i, (times[i] - times[i-1]), (azs[i] - azs[i-1]))"
   ]
  },
  {
   "cell_type": "code",
   "execution_count": null,
   "metadata": {
    "tags": []
   },
   "outputs": [],
   "source": [
    "az[\"azimuthCalculatedAngle\"].plot(marker='x')"
   ]
  },
  {
   "cell_type": "code",
   "execution_count": null,
   "metadata": {
    "execution": {
     "iopub.execute_input": "2023-11-15T13:23:23.294839Z",
     "iopub.status.busy": "2023-11-15T13:23:23.294645Z",
     "iopub.status.idle": "2023-11-15T13:23:23.298104Z",
     "shell.execute_reply": "2023-11-15T13:23:23.297726Z",
     "shell.execute_reply.started": "2023-11-15T13:23:23.294825Z"
    },
    "tags": []
   },
   "outputs": [],
   "source": [
    "# Times to start looking at error codes\n",
    "start = Time(\"2023-11-08 06:50:39Z\", scale='utc')\n",
    "end = Time(\"2023-11-08 06:50:45Z\", scale='utc')"
   ]
  },
  {
   "cell_type": "code",
   "execution_count": null,
   "metadata": {
    "execution": {
     "iopub.execute_input": "2023-11-15T13:23:25.779940Z",
     "iopub.status.busy": "2023-11-15T13:23:25.779762Z",
     "iopub.status.idle": "2023-11-15T13:23:26.137091Z",
     "shell.execute_reply": "2023-11-15T13:23:26.136709Z",
     "shell.execute_reply.started": "2023-11-15T13:23:25.779927Z"
    },
    "tags": []
   },
   "outputs": [],
   "source": [
    "az = await client.select_packed_time_series(\"lsst.sal.ATMCS.mount_AzEl_Encoders\", \\\n",
    "                                            \"azimuthCalculatedAngle\",  start, end)"
   ]
  },
  {
   "cell_type": "code",
   "execution_count": null,
   "metadata": {
    "execution": {
     "iopub.execute_input": "2023-11-15T13:23:26.653050Z",
     "iopub.status.busy": "2023-11-15T13:23:26.652887Z",
     "iopub.status.idle": "2023-11-15T13:23:26.656056Z",
     "shell.execute_reply": "2023-11-15T13:23:26.655709Z",
     "shell.execute_reply.started": "2023-11-15T13:23:26.653037Z"
    },
    "tags": []
   },
   "outputs": [],
   "source": [
    "len(az)"
   ]
  },
  {
   "cell_type": "code",
   "execution_count": null,
   "metadata": {
    "execution": {
     "iopub.execute_input": "2023-11-15T13:23:27.666077Z",
     "iopub.status.busy": "2023-11-15T13:23:27.665923Z",
     "iopub.status.idle": "2023-11-15T13:23:27.668306Z",
     "shell.execute_reply": "2023-11-15T13:23:27.667950Z",
     "shell.execute_reply.started": "2023-11-15T13:23:27.666064Z"
    },
    "tags": []
   },
   "outputs": [],
   "source": [
    "times = az.values[:,1]\n",
    "azs = az.values[:,0]"
   ]
  },
  {
   "cell_type": "code",
   "execution_count": null,
   "metadata": {
    "execution": {
     "iopub.execute_input": "2023-11-15T13:23:29.543687Z",
     "iopub.status.busy": "2023-11-15T13:23:29.543505Z",
     "iopub.status.idle": "2023-11-15T13:23:29.548271Z",
     "shell.execute_reply": "2023-11-15T13:23:29.547880Z",
     "shell.execute_reply.started": "2023-11-15T13:23:29.543675Z"
    },
    "jupyter": {
     "outputs_hidden": true
    },
    "tags": []
   },
   "outputs": [],
   "source": [
    "for i in range(1, len(times)):\n",
    "    print(i, f\"DeltaT = {(times[i] - times[i-1])}\")#, (azs[i] - azs[i-1])\")"
   ]
  },
  {
   "cell_type": "code",
   "execution_count": null,
   "metadata": {
    "execution": {
     "iopub.execute_input": "2023-11-14T17:18:49.776032Z",
     "iopub.status.busy": "2023-11-14T17:18:49.775543Z",
     "iopub.status.idle": "2023-11-14T17:18:49.779049Z",
     "shell.execute_reply": "2023-11-14T17:18:49.778708Z",
     "shell.execute_reply.started": "2023-11-14T17:18:49.776015Z"
    },
    "tags": []
   },
   "outputs": [],
   "source": [
    "# Times to start looking at error codes\n",
    "start = Time(\"2023-11-08 06:50:20Z\", scale='utc')\n",
    "end = Time(\"2023-11-08 06:50:45Z\", scale='utc')"
   ]
  },
  {
   "cell_type": "code",
   "execution_count": null,
   "metadata": {
    "execution": {
     "iopub.execute_input": "2023-11-14T17:18:50.834190Z",
     "iopub.status.busy": "2023-11-14T17:18:50.833812Z",
     "iopub.status.idle": "2023-11-14T17:18:50.912010Z",
     "shell.execute_reply": "2023-11-14T17:18:50.911711Z",
     "shell.execute_reply.started": "2023-11-14T17:18:50.834178Z"
    },
    "tags": []
   },
   "outputs": [],
   "source": [
    "az = await client.select_packed_time_series(\"lsst.sal.ATMCS.mount_AzEl_Encoders\", \\\n",
    "                                            \"azimuthCalculatedAngle\",  start, end)"
   ]
  },
  {
   "cell_type": "code",
   "execution_count": null,
   "metadata": {
    "execution": {
     "iopub.execute_input": "2023-11-14T17:18:51.602806Z",
     "iopub.status.busy": "2023-11-14T17:18:51.602635Z",
     "iopub.status.idle": "2023-11-14T17:18:51.605475Z",
     "shell.execute_reply": "2023-11-14T17:18:51.605179Z",
     "shell.execute_reply.started": "2023-11-14T17:18:51.602793Z"
    },
    "tags": []
   },
   "outputs": [],
   "source": [
    "len(az)"
   ]
  },
  {
   "cell_type": "code",
   "execution_count": null,
   "metadata": {
    "execution": {
     "iopub.execute_input": "2023-11-14T17:18:52.476599Z",
     "iopub.status.busy": "2023-11-14T17:18:52.476400Z",
     "iopub.status.idle": "2023-11-14T17:18:52.478862Z",
     "shell.execute_reply": "2023-11-14T17:18:52.478548Z",
     "shell.execute_reply.started": "2023-11-14T17:18:52.476587Z"
    },
    "tags": []
   },
   "outputs": [],
   "source": [
    "times = az.values[:,1]\n",
    "azs = az.values[:,0]"
   ]
  },
  {
   "cell_type": "code",
   "execution_count": null,
   "metadata": {
    "execution": {
     "iopub.execute_input": "2023-11-14T17:18:53.346178Z",
     "iopub.status.busy": "2023-11-14T17:18:53.346021Z",
     "iopub.status.idle": "2023-11-14T17:18:53.356552Z",
     "shell.execute_reply": "2023-11-14T17:18:53.356261Z",
     "shell.execute_reply.started": "2023-11-14T17:18:53.346165Z"
    },
    "jupyter": {
     "outputs_hidden": true
    },
    "tags": []
   },
   "outputs": [],
   "source": [
    "for i in range(1, len(times)):\n",
    "    print(i, f\"DeltaT = {(times[i] - times[i-1])}\")#, (azs[i] - azs[i-1])\")"
   ]
  },
  {
   "cell_type": "code",
   "execution_count": null,
   "metadata": {
    "tags": []
   },
   "outputs": [],
   "source": [
    "plt.plot(times[0:100], azs[0:100], marker='x')"
   ]
  },
  {
   "cell_type": "code",
   "execution_count": null,
   "metadata": {
    "tags": []
   },
   "outputs": [],
   "source": [
    "az[\"azimuthCalculatedAngle\"].plot(marker='x')\n",
    "p1 = Time(\"2023-11-08 06:50:39.8Z\", scale='utc').isot\n",
    "p2 = Time(\"2023-11-08 06:50:39.9Z\", scale='utc').isot\n",
    "plt.xlim(p1,p2)"
   ]
  },
  {
   "cell_type": "code",
   "execution_count": null,
   "metadata": {
    "tags": []
   },
   "outputs": [],
   "source": [
    "az[\"azimuthCalculatedAngle\"].head(80)"
   ]
  },
  {
   "cell_type": "code",
   "execution_count": null,
   "metadata": {},
   "outputs": [],
   "source": []
  },
  {
   "cell_type": "code",
   "execution_count": null,
   "metadata": {
    "tags": []
   },
   "outputs": [],
   "source": [
    "# Times to start looking at error codes\n",
    "start = Time(\"2023-07-11 12:00:00Z\", scale='utc')\n",
    "end = Time(\"2023-07-12 12:00:00Z\", scale='utc')"
   ]
  },
  {
   "cell_type": "code",
   "execution_count": null,
   "metadata": {
    "tags": []
   },
   "outputs": [],
   "source": [
    "test = await client.select_time_series('lsst.sal.MTMount.azimuth', \\\n",
    "                                                ['actualPosition'],  start, end)"
   ]
  },
  {
   "cell_type": "code",
   "execution_count": null,
   "metadata": {
    "tags": []
   },
   "outputs": [],
   "source": [
    "len(test)"
   ]
  },
  {
   "cell_type": "code",
   "execution_count": null,
   "metadata": {
    "tags": []
   },
   "outputs": [],
   "source": [
    "test['maxSpeed'].plot()\n",
    "plt.title('lsst.sal.ESS.airFlow.maxSpeed')\n",
    "plt.ylabel('m/s')"
   ]
  },
  {
   "cell_type": "code",
   "execution_count": null,
   "metadata": {},
   "outputs": [],
   "source": [
    "# Look before and after the last error time\n",
    "lastErrorTime = Time(errors.index[3])\n",
    "before = 300.0\n",
    "after = 300.0\n",
    "start = lastErrorTime - TimeDelta(before, format='sec')\n",
    "end = lastErrorTime + TimeDelta(after, format='sec')\n",
    "print(start, end)"
   ]
  },
  {
   "cell_type": "code",
   "execution_count": null,
   "metadata": {},
   "outputs": [],
   "source": [
    "status = await client.select_time_series('lsst.sal.ATMCS.logevent_azimuthDrive1Status', \\\n",
    "                                                ['*'],  start, end)"
   ]
  },
  {
   "cell_type": "code",
   "execution_count": null,
   "metadata": {},
   "outputs": [],
   "source": [
    "len(status)"
   ]
  },
  {
   "cell_type": "code",
   "execution_count": null,
   "metadata": {},
   "outputs": [],
   "source": [
    "status"
   ]
  },
  {
   "cell_type": "code",
   "execution_count": null,
   "metadata": {},
   "outputs": [],
   "source": [
    "# Times to start looking at error codes\n",
    "start = Time(\"2022-03-17 00:00:00Z\", scale='utc')\n",
    "end = Time(\"2022-03-17 00:05:00Z\", scale='utc')\n",
    "test = await client.select_packed_time_series('lsst.sal.ATPtg.mountPositions', \\\n",
    "                                                ['*'],  start, end)"
   ]
  },
  {
   "cell_type": "code",
   "execution_count": null,
   "metadata": {
    "tags": []
   },
   "outputs": [],
   "source": [
    "start = Time(\"2023-06-01T00:00:00Z\", scale='utc')\n",
    "end = Time(\"2023-06-01T11:00:00Z\", scale='utc')\n",
    "test = await client.select_time_series('lsst.sal.MTMount.logevent_azimuthMotionState', \\\n",
    "                                                ['*'],  start, end)"
   ]
  },
  {
   "cell_type": "code",
   "execution_count": null,
   "metadata": {
    "tags": []
   },
   "outputs": [],
   "source": [
    "len(test)"
   ]
  },
  {
   "cell_type": "code",
   "execution_count": null,
   "metadata": {},
   "outputs": [],
   "source": []
  },
  {
   "cell_type": "code",
   "execution_count": null,
   "metadata": {
    "execution": {
     "iopub.execute_input": "2023-11-15T13:43:18.733219Z",
     "iopub.status.busy": "2023-11-15T13:43:18.733008Z",
     "iopub.status.idle": "2023-11-15T13:43:18.736240Z",
     "shell.execute_reply": "2023-11-15T13:43:18.735878Z",
     "shell.execute_reply.started": "2023-11-15T13:43:18.733204Z"
    },
    "tags": []
   },
   "outputs": [],
   "source": [
    "# Times to start looking at error codes\n",
    "start = Time(\"2023-11-08 06:45:00Z\", scale='utc')\n",
    "end = Time(\"2023-11-08 06:55:00Z\", scale='utc')"
   ]
  },
  {
   "cell_type": "code",
   "execution_count": null,
   "metadata": {
    "execution": {
     "iopub.execute_input": "2023-11-15T13:43:19.927220Z",
     "iopub.status.busy": "2023-11-15T13:43:19.926893Z",
     "iopub.status.idle": "2023-11-15T13:43:19.941999Z",
     "shell.execute_reply": "2023-11-15T13:43:19.941629Z",
     "shell.execute_reply.started": "2023-11-15T13:43:19.927204Z"
    },
    "tags": []
   },
   "outputs": [],
   "source": [
    "cRIO_ts = await client.select_time_series(\"lsst.sal.ATMCS.mount_AzEl_Encoders\", \\\n",
    "                                            [\"cRIO_timestamp\"],  start, end)"
   ]
  },
  {
   "cell_type": "code",
   "execution_count": null,
   "metadata": {
    "execution": {
     "iopub.execute_input": "2023-11-15T13:43:21.261557Z",
     "iopub.status.busy": "2023-11-15T13:43:21.261362Z",
     "iopub.status.idle": "2023-11-15T13:43:21.264478Z",
     "shell.execute_reply": "2023-11-15T13:43:21.264122Z",
     "shell.execute_reply.started": "2023-11-15T13:43:21.261535Z"
    },
    "tags": []
   },
   "outputs": [],
   "source": [
    "len(cRIO_ts)"
   ]
  },
  {
   "cell_type": "code",
   "execution_count": null,
   "metadata": {
    "execution": {
     "iopub.execute_input": "2023-11-15T13:29:43.906952Z",
     "iopub.status.busy": "2023-11-15T13:29:43.906350Z",
     "iopub.status.idle": "2023-11-15T13:29:43.909028Z",
     "shell.execute_reply": "2023-11-15T13:29:43.908659Z",
     "shell.execute_reply.started": "2023-11-15T13:29:43.906936Z"
    },
    "tags": []
   },
   "outputs": [],
   "source": [
    "timestamps = cRIO_ts.values"
   ]
  },
  {
   "cell_type": "code",
   "execution_count": null,
   "metadata": {
    "execution": {
     "iopub.execute_input": "2023-11-15T13:30:47.871040Z",
     "iopub.status.busy": "2023-11-15T13:30:47.870824Z",
     "iopub.status.idle": "2023-11-15T13:30:47.874218Z",
     "shell.execute_reply": "2023-11-15T13:30:47.873828Z",
     "shell.execute_reply.started": "2023-11-15T13:30:47.871024Z"
    },
    "tags": []
   },
   "outputs": [],
   "source": [
    "for i in range(1, len(timestamps)):\n",
    "    print(i, timestamps[i] - timestamps[i-1])"
   ]
  },
  {
   "cell_type": "code",
   "execution_count": null,
   "metadata": {
    "execution": {
     "iopub.execute_input": "2023-11-15T13:36:53.281678Z",
     "iopub.status.busy": "2023-11-15T13:36:53.281485Z",
     "iopub.status.idle": "2023-11-15T13:36:54.044933Z",
     "shell.execute_reply": "2023-11-15T13:36:54.044552Z",
     "shell.execute_reply.started": "2023-11-15T13:36:53.281665Z"
    },
    "tags": []
   },
   "outputs": [],
   "source": [
    "clientclient = EfdClient('idf_efd')"
   ]
  },
  {
   "cell_type": "code",
   "execution_count": null,
   "metadata": {
    "execution": {
     "iopub.execute_input": "2023-11-15T13:36:57.263626Z",
     "iopub.status.busy": "2023-11-15T13:36:57.263423Z",
     "iopub.status.idle": "2023-11-15T13:36:57.266756Z",
     "shell.execute_reply": "2023-11-15T13:36:57.266318Z",
     "shell.execute_reply.started": "2023-11-15T13:36:57.263612Z"
    },
    "tags": []
   },
   "outputs": [],
   "source": [
    "# Times to start looking at error codes\n",
    "start = Time(\"2023-09-21 03:45:00Z\", scale='utc')\n",
    "end = Time(\"2023-09-21 03:55:00Z\", scale='utc')"
   ]
  },
  {
   "cell_type": "code",
   "execution_count": null,
   "metadata": {
    "execution": {
     "iopub.execute_input": "2023-11-15T13:36:58.789970Z",
     "iopub.status.busy": "2023-11-15T13:36:58.789421Z",
     "iopub.status.idle": "2023-11-15T13:36:58.803780Z",
     "shell.execute_reply": "2023-11-15T13:36:58.803412Z",
     "shell.execute_reply.started": "2023-11-15T13:36:58.789954Z"
    },
    "tags": []
   },
   "outputs": [],
   "source": [
    "cRIO_ts = await client.select_time_series(\"lsst.sal.ATMCS.mount_AzEl_Encoders\", \\\n",
    "                                            [\"cRIO_timestamp\"],  start, end)"
   ]
  },
  {
   "cell_type": "code",
   "execution_count": null,
   "metadata": {
    "execution": {
     "iopub.execute_input": "2023-11-15T13:37:00.373529Z",
     "iopub.status.busy": "2023-11-15T13:37:00.373332Z",
     "iopub.status.idle": "2023-11-15T13:37:00.376574Z",
     "shell.execute_reply": "2023-11-15T13:37:00.376208Z",
     "shell.execute_reply.started": "2023-11-15T13:37:00.373516Z"
    },
    "tags": []
   },
   "outputs": [],
   "source": [
    "len(cRIO_ts)"
   ]
  },
  {
   "cell_type": "code",
   "execution_count": null,
   "metadata": {
    "execution": {
     "iopub.execute_input": "2023-11-15T13:29:43.906952Z",
     "iopub.status.busy": "2023-11-15T13:29:43.906350Z",
     "iopub.status.idle": "2023-11-15T13:29:43.909028Z",
     "shell.execute_reply": "2023-11-15T13:29:43.908659Z",
     "shell.execute_reply.started": "2023-11-15T13:29:43.906936Z"
    },
    "tags": []
   },
   "outputs": [],
   "source": [
    "timestamps = cRIO_ts.values"
   ]
  },
  {
   "cell_type": "code",
   "execution_count": null,
   "metadata": {
    "execution": {
     "iopub.execute_input": "2023-11-15T13:30:47.871040Z",
     "iopub.status.busy": "2023-11-15T13:30:47.870824Z",
     "iopub.status.idle": "2023-11-15T13:30:47.874218Z",
     "shell.execute_reply": "2023-11-15T13:30:47.873828Z",
     "shell.execute_reply.started": "2023-11-15T13:30:47.871024Z"
    },
    "tags": []
   },
   "outputs": [],
   "source": [
    "timestamps = cRIO_ts.values\n",
    "for i in range(1, len(timestamps)):\n",
    "    print(i, timestamps[i] - timestamps[i-1])"
   ]
  },
  {
   "cell_type": "code",
   "execution_count": null,
   "metadata": {
    "execution": {
     "iopub.execute_input": "2023-11-15T17:09:21.960069Z",
     "iopub.status.busy": "2023-11-15T17:09:21.959591Z",
     "iopub.status.idle": "2023-11-15T17:09:23.005468Z",
     "shell.execute_reply": "2023-11-15T17:09:23.005072Z",
     "shell.execute_reply.started": "2023-11-15T17:09:21.960055Z"
    },
    "tags": []
   },
   "outputs": [],
   "source": [
    "client = EfdClient('usdf_efd')\n",
    "times = [[\"2023-09-22 03:45:00Z\", \"2023-09-22 03:55:00Z\"], [\"2023-11-08 06:45:00Z\", \"2023-11-08 06:55:00Z\"], \\\n",
    "        [\"2023-11-08 08:20:00Z\", \"2023-11-08 08:30:00Z\"]]\n",
    "\n",
    "image_names = [None, 2023110700519, 2023110700594]\n",
    "\n",
    "image_stamps = [None, pd.Timestamp(\"2023-11-08 06:50:43Z\", tz='UTC'), pd.Timestamp(\"2023-11-08 08:26:20Z\", tz='UTC')]\n",
    "fig, axs = plt.subplots(3,1,figsize=(8, 12))\n",
    "#plt.subplots_adjust(hspace= 0.5)\n",
    "for i, [tstart, tend] in enumerate(times):\n",
    "    start = Time(tstart, scale='utc')\n",
    "    end = Time(tend, scale='utc')\n",
    "\n",
    "    cRIO_ts = await client.select_time_series(\"lsst.sal.ATMCS.mount_AzEl_Encoders\", \\\n",
    "                                                [\"cRIO_timestamp\"],  start, end)\n",
    "    print(tstart, len(cRIO_ts))\n",
    "    timestamps = cRIO_ts.values\n",
    "    index = cRIO_ts.index\n",
    "    xaxis = []\n",
    "    deltaTs = []\n",
    "    for n in range(1, len(timestamps)):\n",
    "        xaxis.append(index[n])\n",
    "        deltaTs.append(timestamps[n] - timestamps[n-1])\n",
    "    sigma_deltaT = np.std(deltaTs)\n",
    "    axs[i].set_title(f\"cRIO timestamp deltas {tstart}\")\n",
    "    axs[i].plot(xaxis, deltaTs)\n",
    "    axs[i].set_ylim(0.9, 1.35)\n",
    "    axs[i].set_ylabel(\"cRIO timestamp delta (sec)\")\n",
    "    axs[i].text(xaxis[1], 1.2, f\"deltaT_sigma = {sigma_deltaT*1E6:.2f} microsec\")\n",
    "    if image_names[i] is not None:\n",
    "        axs[i].plot([image_stamps[i], image_stamps[i]], [0.9,1.35], ls = '--', color='red')\n",
    "        axs[i].text(image_stamps[i], 0.95, f\"{image_names[i]}\")\n",
    "plt.savefig(f\"/home/c/cslage/u/AuxTel/mount_graphs/cRIO_Timestamps_2_15Nov23.png\")                 "
   ]
  },
  {
   "cell_type": "code",
   "execution_count": null,
   "metadata": {
    "execution": {
     "iopub.execute_input": "2024-01-02T15:07:27.611632Z",
     "iopub.status.busy": "2024-01-02T15:07:27.611412Z",
     "iopub.status.idle": "2024-01-02T15:07:28.560892Z",
     "shell.execute_reply": "2024-01-02T15:07:28.560401Z",
     "shell.execute_reply.started": "2024-01-02T15:07:27.611616Z"
    },
    "tags": []
   },
   "outputs": [],
   "source": [
    "client = EfdClient('usdf_efd')\n",
    "from lsst.daf.butler import Butler\n",
    "butler = Butler('/repo/embargo', collections=\"LATISS/raw/all\")\n",
    "import lsst.summit.utils.butlerUtils as butlerUtils\n",
    "from lsst.summit.utils.utils import dayObsIntToString\n",
    "fig, axs = plt.subplots(1,2,figsize=(10,5))\n",
    "\n",
    "expIdList = [2023110700489, 2023110700527]\n",
    "for i, expId in enumerate(expIdList):\n",
    "    dataId = {'detector':0, 'exposure':expId}\n",
    "    expRecord = butlerUtils.getExpRecordFromDataId(butler, dataId)\n",
    "    tStart = expRecord.timespan.begin.tai.to_value(\"isot\")\n",
    "    tEnd = expRecord.timespan.end.tai.to_value(\"isot\")\n",
    "    t_start = Time(tStart, scale='tai').utc\n",
    "    t_end = Time(tEnd, scale='tai').utc\n",
    "    cRIO_ts = await client.select_time_series(\"lsst.sal.ATMCS.mount_AzEl_Encoders\", \\\n",
    "                                                [\"cRIO_timestamp\"],  t_start, t_end)\n",
    "                                                \n",
    "    timestamps = cRIO_ts.values\n",
    "    index = cRIO_ts.index\n",
    "    xaxis = []\n",
    "    deltaTs = []\n",
    "    for n in range(1, len(timestamps)):\n",
    "        xaxis.append(index[n])\n",
    "        deltaTs.append(timestamps[n] - timestamps[n-1])\n",
    "    sigma_deltaT = np.std(deltaTs)\n",
    "    axs[i].set_title(f\"cRIO timestamp deltas {expId}\")\n",
    "    axs[i].plot(xaxis, deltaTs)\n",
    "    axs[i].set_ylim(0.9, 1.35)\n",
    "    axs[i].set_ylabel(\"cRIO timestamp delta (sec)\")\n",
    "    axs[i].text(xaxis[1], 1.2, f\"deltaT_sigma = {sigma_deltaT*1E6:.2f} microsec\")\n",
    "plt.savefig(f\"/home/c/cslage/u/AuxTel/mount_classifier/cRIO_Timestamps_02Jan24.png\")                 "
   ]
  },
  {
   "cell_type": "code",
   "execution_count": null,
   "metadata": {
    "execution": {
     "iopub.execute_input": "2023-11-15T17:01:39.234657Z",
     "iopub.status.busy": "2023-11-15T17:01:39.234478Z",
     "iopub.status.idle": "2023-11-15T17:01:39.237907Z",
     "shell.execute_reply": "2023-11-15T17:01:39.237472Z",
     "shell.execute_reply.started": "2023-11-15T17:01:39.234645Z"
    },
    "tags": []
   },
   "outputs": [],
   "source": [
    "type(xaxis[1])"
   ]
  },
  {
   "cell_type": "code",
   "execution_count": null,
   "metadata": {
    "execution": {
     "iopub.execute_input": "2023-11-15T13:51:15.481965Z",
     "iopub.status.busy": "2023-11-15T13:51:15.481784Z",
     "iopub.status.idle": "2023-11-15T13:51:15.602157Z",
     "shell.execute_reply": "2023-11-15T13:51:15.601798Z",
     "shell.execute_reply.started": "2023-11-15T13:51:15.481953Z"
    },
    "tags": []
   },
   "outputs": [],
   "source": [
    "plt.plot(xaxis, deltaTs)\n",
    "plt.ylim(0.90, 1.35)"
   ]
  },
  {
   "cell_type": "code",
   "execution_count": null,
   "metadata": {
    "execution": {
     "iopub.execute_input": "2023-11-15T13:46:17.698776Z",
     "iopub.status.busy": "2023-11-15T13:46:17.698314Z",
     "iopub.status.idle": "2023-11-15T13:46:17.701998Z",
     "shell.execute_reply": "2023-11-15T13:46:17.701638Z",
     "shell.execute_reply.started": "2023-11-15T13:46:17.698762Z"
    },
    "tags": []
   },
   "outputs": [],
   "source": [
    "cRIO_ts.index"
   ]
  },
  {
   "cell_type": "code",
   "execution_count": null,
   "metadata": {},
   "outputs": [],
   "source": []
  }
 ],
 "metadata": {
  "kernelspec": {
   "display_name": "LSST",
   "language": "python",
   "name": "lsst"
  },
  "language_info": {
   "codemirror_mode": {
    "name": "ipython",
    "version": 3
   },
   "file_extension": ".py",
   "mimetype": "text/x-python",
   "name": "python",
   "nbconvert_exporter": "python",
   "pygments_lexer": "ipython3",
   "version": "3.11.4"
  }
 },
 "nbformat": 4,
 "nbformat_minor": 4
}
