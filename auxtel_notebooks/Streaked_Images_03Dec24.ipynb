{
 "cells": [
  {
   "cell_type": "markdown",
   "id": "2c8e1348-a180-46eb-9971-5a5a2773c61b",
   "metadata": {},
   "source": [
    "# Streaked image analysis - 20241203\n",
    "Craig Lage 04-Dec-24"
   ]
  },
  {
   "cell_type": "code",
   "execution_count": null,
   "id": "7f0c050f-549c-44a7-bd1e-6d829b499276",
   "metadata": {
    "execution": {
     "iopub.execute_input": "2024-12-04T20:45:52.290156Z",
     "iopub.status.busy": "2024-12-04T20:45:52.289709Z",
     "iopub.status.idle": "2024-12-04T20:45:57.805481Z",
     "shell.execute_reply": "2024-12-04T20:45:57.804984Z",
     "shell.execute_reply.started": "2024-12-04T20:45:52.290140Z"
    }
   },
   "outputs": [],
   "source": [
    "import numpy as np\n",
    "import matplotlib.pyplot as plt\n",
    "import astropy.io.fits as pf\n",
    "from lsst.daf.butler import Butler\n",
    "import lsst.summit.utils.butlerUtils as butlerUtils\n",
    "from lsst.ip.isr import IsrTask, IsrTaskConfig\n",
    "from lsst.summit.utils.plotting import plot\n",
    "import lsst.afw.cameraGeom.utils as camGeomUtils\n",
    "from lsst.geom import Point2D, Extent2I"
   ]
  },
  {
   "cell_type": "code",
   "execution_count": null,
   "id": "49194959-4db7-4e95-8512-03c2ac40719e",
   "metadata": {
    "execution": {
     "iopub.execute_input": "2024-12-04T20:46:02.822541Z",
     "iopub.status.busy": "2024-12-04T20:46:02.821801Z",
     "iopub.status.idle": "2024-12-04T20:46:03.469525Z",
     "shell.execute_reply": "2024-12-04T20:46:03.468991Z",
     "shell.execute_reply.started": "2024-12-04T20:46:02.822522Z"
    }
   },
   "outputs": [],
   "source": [
    "butler = butlerUtils.makeDefaultButler(\"LSSTComCam\")\n",
    "instrument = 'LSSTComCam'"
   ]
  },
  {
   "cell_type": "code",
   "execution_count": null,
   "id": "ec01f360-73a6-45be-a32e-6b6873d9f3fb",
   "metadata": {
    "execution": {
     "iopub.execute_input": "2024-12-04T23:22:55.756924Z",
     "iopub.status.busy": "2024-12-04T23:22:55.756622Z",
     "iopub.status.idle": "2024-12-04T23:22:58.236306Z",
     "shell.execute_reply": "2024-12-04T23:22:58.235841Z",
     "shell.execute_reply.started": "2024-12-04T23:22:55.756908Z"
    }
   },
   "outputs": [],
   "source": [
    "expId = 2024120300213\n",
    "detector=4\n",
    "exp = butler.get('calexp', detector=detector, visit=expId, instrument=instrument)\n",
    "%matplotlib inline        \n",
    "x = plot(exp, stretch='asinh')\n",
    "plt.savefig(f\"/home/c/cslage/u/ComCam/images/Stuttered_Strip_Image_{expId}_{detector}.png\")"
   ]
  },
  {
   "cell_type": "code",
   "execution_count": null,
   "id": "ce72f8ed-a323-4dc4-814a-8dec2b1464a3",
   "metadata": {
    "execution": {
     "iopub.execute_input": "2024-12-04T21:19:04.967925Z",
     "iopub.status.busy": "2024-12-04T21:19:04.967584Z",
     "iopub.status.idle": "2024-12-04T21:19:05.121687Z",
     "shell.execute_reply": "2024-12-04T21:19:05.121217Z",
     "shell.execute_reply.started": "2024-12-04T21:19:04.967909Z"
    }
   },
   "outputs": [],
   "source": [
    "xplot = range(0,4072)\n",
    "plt.plot(xplot, np.mean(exp.image.array[500:1000,:], axis=0))\n",
    "plt.title(\"Stuttered image 2024120300213\")\n",
    "plt.xlabel(\"X pixel\")\n",
    "plt.ylabel(\"Average flux Y=500:1000 (ADU)\")\n",
    "plt.xlim(1900, 2100)\n",
    "plt.savefig(f\"/home/c/cslage/u/ComCam/images/Stuttered_{expId}_{detector}.png\")"
   ]
  },
  {
   "cell_type": "code",
   "execution_count": null,
   "id": "47f4fb09-df16-4a5a-9411-f329d23a1f0f",
   "metadata": {
    "execution": {
     "iopub.execute_input": "2024-12-04T23:06:43.057073Z",
     "iopub.status.busy": "2024-12-04T23:06:43.056522Z",
     "iopub.status.idle": "2024-12-04T23:06:43.394573Z",
     "shell.execute_reply": "2024-12-04T23:06:43.394139Z",
     "shell.execute_reply.started": "2024-12-04T23:06:43.057057Z"
    }
   },
   "outputs": [],
   "source": [
    "plt.figure(figsize=(16,4))\n",
    "for i in range(18):\n",
    "    ystart = 50*(i)\n",
    "    yend = 50*(i+1)\n",
    "    plt.subplot(1,20,i+1)\n",
    "    plt.imshow(exp.image.array[ystart:yend, 1950:1960], interpolation='nearest')\n",
    "    plt.yticks([])\n",
    "    plt.xticks([])\n",
    "plt.savefig(f\"/home/c/cslage/u/ComCam/images/Stuttered_Strip_{expId}_{detector}.png\")"
   ]
  },
  {
   "cell_type": "code",
   "execution_count": null,
   "id": "52b2b226-d5ba-41e9-9fd0-9d5a35911fbf",
   "metadata": {},
   "outputs": [],
   "source": []
  },
  {
   "cell_type": "code",
   "execution_count": null,
   "id": "1a54b7f6-7ed1-43f6-baa7-fb3075e38187",
   "metadata": {
    "execution": {
     "iopub.execute_input": "2024-12-04T23:27:43.149444Z",
     "iopub.status.busy": "2024-12-04T23:27:43.149143Z",
     "iopub.status.idle": "2024-12-04T23:27:45.611568Z",
     "shell.execute_reply": "2024-12-04T23:27:45.611132Z",
     "shell.execute_reply.started": "2024-12-04T23:27:43.149424Z"
    }
   },
   "outputs": [],
   "source": [
    "expId = 2024120300218\n",
    "detector=4\n",
    "exp = butler.get('postISRCCD', detector=detector, exposure=expId, instrument=instrument)\n",
    "%matplotlib inline        \n",
    "x = plot(exp, stretch='asinh')\n",
    "plt.savefig(f\"/home/c/cslage/u/ComCam/images/Stuttered_Donuts_{expId}_{detector}.png\")"
   ]
  },
  {
   "cell_type": "code",
   "execution_count": null,
   "id": "c2dd6400-0a7d-41d8-b5bd-18e8fd684d93",
   "metadata": {
    "execution": {
     "iopub.execute_input": "2024-12-04T23:57:22.898209Z",
     "iopub.status.busy": "2024-12-04T23:57:22.897652Z",
     "iopub.status.idle": "2024-12-04T23:57:27.103991Z",
     "shell.execute_reply": "2024-12-04T23:57:27.103474Z",
     "shell.execute_reply.started": "2024-12-04T23:57:22.898195Z"
    }
   },
   "outputs": [],
   "source": [
    "detector=4\n",
    "expId0 = 2024120300217\n",
    "stamp = 170\n",
    "\n",
    "dy = 500\n",
    "x0 = 1830\n",
    "x1 = x0 + stamp\n",
    "fig, axs = plt.subplots(3,5,figsize=(10,6))\n",
    "plt.suptitle(f\"Stuttered Donuts {expId0} -> {expId0+5} Det {detector}\", fontsize=18)\n",
    "for i in range(5):\n",
    "    y0 = 730\n",
    "    expId = expId0 + i\n",
    "    exp = butler.get('postISRCCD', detector=detector, exposure=expId, instrument=instrument)\n",
    "    for j in range(3):\n",
    "        y = y0 + j * dy\n",
    "        y1 = y + stamp\n",
    "        donut = exp.image.array[y:y1, x0:x1]\n",
    "        donut -= np.median(donut)\n",
    "        axs[j][i].imshow(donut, interpolation='nearest', origin='lower')\n",
    "        axs[j][i].set_xticks([])\n",
    "        axs[j][i].set_yticks([])\n",
    "plt.savefig(f\"/home/c/cslage/u/ComCam/images/Stuttered_Donut_Set_{expId0}_{detector}.png\")"
   ]
  },
  {
   "cell_type": "code",
   "execution_count": null,
   "id": "82f77e13-3cb0-4c0a-bb5d-a7142e8a143a",
   "metadata": {},
   "outputs": [],
   "source": []
  }
 ],
 "metadata": {
  "kernelspec": {
   "display_name": "LSST",
   "language": "python",
   "name": "lsst"
  },
  "language_info": {
   "codemirror_mode": {
    "name": "ipython",
    "version": 3
   },
   "file_extension": ".py",
   "mimetype": "text/x-python",
   "name": "python",
   "nbconvert_exporter": "python",
   "pygments_lexer": "ipython3",
   "version": "3.11.9"
  }
 },
 "nbformat": 4,
 "nbformat_minor": 5
}
