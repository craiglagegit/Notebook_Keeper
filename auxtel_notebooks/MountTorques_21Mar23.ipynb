{
 "cells": [
  {
   "cell_type": "markdown",
   "id": "e8cc3a14-f377-44f4-ab4c-97c9c3047697",
   "metadata": {},
   "source": [
    "# Using the RubinTV Mount Plotting to plot mount errors\n",
    "\n",
    "Craig Lage - 21-Mar-23"
   ]
  },
  {
   "cell_type": "code",
   "execution_count": null,
   "id": "a148b369-8943-4861-a51e-9cbeea70feb3",
   "metadata": {
    "execution": {
     "iopub.execute_input": "2023-03-21T18:20:25.290461Z",
     "iopub.status.busy": "2023-03-21T18:20:25.290334Z",
     "iopub.status.idle": "2023-03-21T18:20:27.928215Z",
     "shell.execute_reply": "2023-03-21T18:20:27.927678Z",
     "shell.execute_reply.started": "2023-03-21T18:20:25.290443Z"
    },
    "tags": []
   },
   "outputs": [],
   "source": [
    "import nest_asyncio\n",
    "nest_asyncio.apply()\n",
    "import sys, time, os, asyncio\n",
    "from datetime import datetime\n",
    "import numpy as np\n",
    "import pickle as pkl\n",
    "import matplotlib.pyplot as plt\n",
    "from lsst.rubintv.production import mountTorques\n",
    "\n",
    "from lsst_efd_client import EfdClient\n",
    "from lsst.daf.butler import Butler\n",
    "from lsst.ts.observing.utilities.decorated_logger import DecoratedLogger"
   ]
  },
  {
   "cell_type": "code",
   "execution_count": null,
   "id": "db1b3867-c6db-43d3-8248-ecfcd41d3fbc",
   "metadata": {
    "execution": {
     "iopub.execute_input": "2023-03-21T18:20:27.929823Z",
     "iopub.status.busy": "2023-03-21T18:20:27.929230Z",
     "iopub.status.idle": "2023-03-21T18:20:29.595282Z",
     "shell.execute_reply": "2023-03-21T18:20:29.594721Z",
     "shell.execute_reply.started": "2023-03-21T18:20:27.929806Z"
    }
   },
   "outputs": [],
   "source": [
    "client = EfdClient('usdf_efd')\n",
    "butler = Butler('/repo/embargo', collections=\"LATISS/raw/all\")\n",
    "logger = DecoratedLogger.get_decorated_logger()"
   ]
  },
  {
   "cell_type": "code",
   "execution_count": null,
   "id": "cdbdc212-2b15-477b-a019-1228c2e0bab8",
   "metadata": {
    "execution": {
     "iopub.execute_input": "2023-03-21T18:20:29.609927Z",
     "iopub.status.busy": "2023-03-21T18:20:29.609785Z",
     "iopub.status.idle": "2023-03-21T18:20:30.723107Z",
     "shell.execute_reply": "2023-03-21T18:20:30.722351Z",
     "shell.execute_reply.started": "2023-03-21T18:20:29.609914Z"
    },
    "tags": []
   },
   "outputs": [],
   "source": [
    "figure = plt.figure(figsize=(16,22))\n",
    "saveFilename = None\n",
    "dayObss = [20230321]\n",
    "errs = []\n",
    "for dayObs in dayObss:\n",
    "    exposureList = []\n",
    "    for record in butler.registry.queryDimensionRecords(\"exposure\", where=\"exposure.day_obs=%d\"%dayObs):\n",
    "        #print(record.id, record.observation_type)\n",
    "        if record.observation_type in ['dark']:\n",
    "            try:\n",
    "                exposureList.append([record.id])\n",
    "            except:\n",
    "                continue\n",
    "    #print(exposureList)\n",
    "    for [expId] in exposureList:\n",
    "        dataId = {'detector':0, 'exposure':expId}\n",
    "        saveFileName = f\"/home/c/cslage/u/AuxTel/mount_graphs/stiction_21Mar23/Mount_Graph_{expId}.pdf\"\n",
    "        print(expId)\n",
    "        err = mountTorques.calculateMountErrors(dataId, butler, client, figure, saveFileName, logger)\n",
    "\n"
   ]
  },
  {
   "cell_type": "code",
   "execution_count": null,
   "id": "af74e20d-3e9b-4fb5-9eac-22fe97f929dc",
   "metadata": {},
   "outputs": [],
   "source": []
  }
 ],
 "metadata": {
  "kernelspec": {
   "display_name": "LSST",
   "language": "python",
   "name": "lsst"
  },
  "language_info": {
   "codemirror_mode": {
    "name": "ipython",
    "version": 3
   },
   "file_extension": ".py",
   "mimetype": "text/x-python",
   "name": "python",
   "nbconvert_exporter": "python",
   "pygments_lexer": "ipython3",
   "version": "3.11.7"
  },
  "toc-autonumbering": false,
  "toc-showcode": false,
  "toc-showmarkdowntxt": true
 },
 "nbformat": 4,
 "nbformat_minor": 5
}
