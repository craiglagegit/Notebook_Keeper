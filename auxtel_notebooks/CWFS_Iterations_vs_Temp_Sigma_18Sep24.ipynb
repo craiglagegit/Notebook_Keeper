{
 "cells": [
  {
   "cell_type": "markdown",
   "metadata": {},
   "source": [
    "# CWFS iterations vs Sonic Temperature StdDev\n",
    "\n",
    "Craig Lage - 18-Sep-24"
   ]
  },
  {
   "cell_type": "code",
   "execution_count": null,
   "metadata": {
    "execution": {
     "iopub.execute_input": "2024-09-18T19:56:33.025902Z",
     "iopub.status.busy": "2024-09-18T19:56:33.025555Z",
     "iopub.status.idle": "2024-09-18T19:56:33.088871Z",
     "shell.execute_reply": "2024-09-18T19:56:33.088541Z",
     "shell.execute_reply.started": "2024-09-18T19:56:33.025887Z"
    },
    "tags": []
   },
   "outputs": [],
   "source": [
    "import numpy as np\n",
    "import matplotlib.pyplot as plt\n",
    "import astropy.io.fits as pf\n",
    "from astropy.time import Time, TimeDelta\n",
    "import pandas as pd\n",
    "import os\n",
    "os.environ[\"no_proxy\"] += \",.consdb\"\n",
    "from lsst.summit.utils import ConsDbClient\n",
    "from lsst_efd_client import EfdClient\n",
    "from lsst.summit.utils.utils import dayObsIntToString\n",
    "from lsst.summit.utils.efdUtils import calcNextDay\n"
   ]
  },
  {
   "cell_type": "code",
   "execution_count": null,
   "metadata": {
    "execution": {
     "iopub.execute_input": "2024-09-18T19:56:36.102473Z",
     "iopub.status.busy": "2024-09-18T19:56:36.102272Z",
     "iopub.status.idle": "2024-09-18T19:56:36.492471Z",
     "shell.execute_reply": "2024-09-18T19:56:36.492032Z",
     "shell.execute_reply.started": "2024-09-18T19:56:36.102458Z"
    }
   },
   "outputs": [],
   "source": [
    "client = ConsDbClient('http://consdb-pq.consdb:8080/consdb')\n",
    "efd_client = EfdClient('usdf_efd')"
   ]
  },
  {
   "cell_type": "code",
   "execution_count": null,
   "metadata": {
    "execution": {
     "iopub.execute_input": "2024-09-18T20:48:13.953783Z",
     "iopub.status.busy": "2024-09-18T20:48:13.953234Z",
     "iopub.status.idle": "2024-09-18T20:48:16.855220Z",
     "shell.execute_reply": "2024-09-18T20:48:16.854787Z",
     "shell.execute_reply.started": "2024-09-18T20:48:13.953767Z"
    }
   },
   "outputs": [],
   "source": [
    "startDay = 20240625\n",
    "endDay = 20240917\n",
    "iterations = []\n",
    "durations = []\n",
    "sonic_temp_stds = []\n",
    "dayObs = startDay\n",
    "while dayObs <= endDay:\n",
    "    try:\n",
    "        data = client.query(f'SELECT img_type, obs_start from cdb_latiss.exposure where day_obs = {dayObs}')\n",
    "    except:\n",
    "        dayObs = calcNextDay(dayObs)\n",
    "        continue\n",
    "    if len(data) < 10:\n",
    "        dayObs = calcNextDay(dayObs)\n",
    "        continue\n",
    "    cwfs = data[data['img_type'] == 'CWFS']    \n",
    "    if len(cwfs) < 2:\n",
    "        dayObs = calcNextDay(dayObs)\n",
    "        continue\n",
    "        \n",
    "    n_cwfs = 0\n",
    "    for i in range(len(data)):\n",
    "        if data['img_type'].value[i] == 'CWFS':\n",
    "            #print(data['img_type'].value[i], data['obs_start'].value[i])\n",
    "            if n_cwfs == 0:\n",
    "                start = Time(data['obs_start'].value[i], format='isot', scale='tai')\n",
    "            n_cwfs += 1\n",
    "            if data['img_type'].value[i+1] != 'CWFS':\n",
    "                \n",
    "                end = Time(data['obs_start'].value[i+1], format='isot', scale='tai')\n",
    "                delta = end - start\n",
    "                sonic = await efd_client.select_time_series('lsst.sal.ESS.airTurbulence', \\\n",
    "                                                        ['sonicTemperatureStdDev'],  start.utc, end.utc, index=205)\n",
    "                if len(sonic) == 0:\n",
    "                    continue\n",
    "                iteration = int(n_cwfs / 2)\n",
    "                if iteration < 2 or iteration > 5:\n",
    "                    continue\n",
    "                if delta.sec > 750:\n",
    "                    continue\n",
    "                iterations.append(iteration)\n",
    "                durations.append(delta.sec)\n",
    "                sonic_std = np.median(sonic['sonicTemperatureStdDev'].values)\n",
    "                sonic_temp_stds.append(sonic_std)\n",
    "                n_cwfs = 0\n",
    "    dayObs = calcNextDay(dayObs)\n",
    "print(f\"{len(iterations)} data points total\")"
   ]
  },
  {
   "cell_type": "code",
   "execution_count": null,
   "metadata": {
    "execution": {
     "iopub.execute_input": "2024-09-19T11:40:53.260834Z",
     "iopub.status.busy": "2024-09-19T11:40:53.260531Z",
     "iopub.status.idle": "2024-09-19T11:40:53.599742Z",
     "shell.execute_reply": "2024-09-19T11:40:53.599241Z",
     "shell.execute_reply.started": "2024-09-19T11:40:53.260821Z"
    }
   },
   "outputs": [],
   "source": [
    "%matplotlib inline\n",
    "fig = plt.figure(figsize=(10,10))\n",
    "plt.suptitle(\"Influence of dome seeing on number of CWFS iterations\", fontsize = 18)\n",
    "plt.subplot(2,2,1)\n",
    "plt.scatter(iterations, sonic_temp_stds)\n",
    "plt.ylabel(\"Gill anemometer sonic temperature StdDev\")\n",
    "plt.xlabel(\"Number of CWFS iterations\")\n",
    "plt.subplot(2,2,2)\n",
    "mean_duration = np.sum(durations) / len(iterations)\n",
    "plt.scatter(durations, sonic_temp_stds)\n",
    "plt.text(220, 0.12, f\"Mean duration:\\n{mean_duration:.0f} seconds\")\n",
    "plt.ylabel(\"Gill anemometer sonic temperature StdDev\")\n",
    "plt.xlabel(\"CWFS duration (sec)\")\n",
    "iters = [2,3,4,5]\n",
    "temp_stdDevs_mean = []\n",
    "temp_stdDevs_std = []\n",
    "for iter in iters:\n",
    "    t_stds = []\n",
    "    for i in range(len(iterations)):\n",
    "        if iterations[i] == iter:\n",
    "            t_stds.append(sonic_temp_stds[i])\n",
    "    temp_stdDevs_mean.append(np.mean(t_stds))\n",
    "    temp_stdDevs_std.append(np.std(t_stds))\n",
    "plt.subplot(2,2,3)\n",
    "plt.errorbar(iters, temp_stdDevs_mean,  temp_stdDevs_std, marker='x', capsize = 3)\n",
    "plt.ylabel(\"Gill anemometer sonic temperature StdDev\")\n",
    "plt.xlabel(\"Number of CWFS iterations\")\n",
    "plt.text(2.2, 0.09, f\"{len(iterations)} CWFS runs\")    \n",
    "plt.savefig(\"/home/c/cslage/u/AuxTel/cwfs/Iterations_vs_Dome_Seeing_18Sep24.png\")"
   ]
  },
  {
   "cell_type": "code",
   "execution_count": null,
   "metadata": {},
   "outputs": [],
   "source": []
  }
 ],
 "metadata": {
  "kernelspec": {
   "display_name": "LSST",
   "language": "python",
   "name": "lsst"
  },
  "language_info": {
   "codemirror_mode": {
    "name": "ipython",
    "version": 3
   },
   "file_extension": ".py",
   "mimetype": "text/x-python",
   "name": "python",
   "nbconvert_exporter": "python",
   "pygments_lexer": "ipython3",
   "version": "3.11.9"
  }
 },
 "nbformat": 4,
 "nbformat_minor": 4
}
