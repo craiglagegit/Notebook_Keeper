{
 "cells": [
  {
   "cell_type": "markdown",
   "id": "e5c8f1b4-c35d-4bce-991a-8ace22b5fad7",
   "metadata": {
    "execution": {
     "iopub.execute_input": "2023-12-30T20:38:32.485953Z",
     "iopub.status.busy": "2023-12-30T20:38:32.485659Z",
     "iopub.status.idle": "2023-12-30T20:38:40.226239Z",
     "shell.execute_reply": "2023-12-30T20:38:40.225697Z",
     "shell.execute_reply.started": "2023-12-30T20:38:32.485937Z"
    }
   },
   "source": [
    "# This notebook is for running the code to classify AuxTel mount errors.\n",
    "The code works by fitting a set of spline knots to the FFT of the mount errors, then using a neural netwrok based classifier to classify the different types of mount errors.\n",
    "\n",
    "Craig Lage - 02Jan24"
   ]
  },
  {
   "cell_type": "code",
   "execution_count": null,
   "id": "4e6b3b46-485e-4231-9470-d3cbe21b0c9f",
   "metadata": {},
   "outputs": [],
   "source": [
    "# The list below is the set of dayObs used to build a list of errors to be manually classified\n",
    "dayObs_list = [20221110, 20221212, 20230118, 20230216, \\\n",
    "               20220315, 20230511, 20230817, 20231107, 20231113, 20231121, 20231128, 20231129, 20231130]\n",
    "\n",
    "limit = 0.25 # This is the limit of image_RMS above which it is considered a mount error.\n"
   ]
  },
  {
   "cell_type": "code",
   "execution_count": null,
   "id": "53ad03a3-5c41-4ec6-8112-d8909705adf3",
   "metadata": {},
   "outputs": [],
   "source": [
    "import nest_asyncio\n",
    "nest_asyncio.apply()\n",
    "import sys, time, os, asyncio\n",
    "from datetime import datetime\n",
    "import numpy as np\n",
    "import pandas as pd\n",
    "import pickle as pkl\n",
    "import matplotlib.pyplot as plt\n",
    "%matplotlib inline\n",
    "from astropy.time import Time, TimeDelta\n",
    "\n",
    "from lsst_efd_client import EfdClient\n",
    "from lsst.daf.butler import Butler\n",
    "\n",
    "import lsst.summit.utils.butlerUtils as butlerUtils\n",
    "from lsst.summit.utils.utils import dayObsIntToString\n",
    "from lsst.summit.utils.efdUtils import calcNextDay\n",
    "\n",
    "from sklearn.model_selection import train_test_split\n",
    "from sklearn.neural_network import MLPClassifier\n",
    "from sklearn.metrics import accuracy_score\n",
    "\n",
    "script_path = \"/home/c/cslage/u/AuxTel/scripts\"\n",
    "sys.path.append(script_path)\n",
    "from Classifying import calculateFFTKnots"
   ]
  },
  {
   "cell_type": "markdown",
   "id": "685437e6-422d-4a4a-80fc-b437f42e530c",
   "metadata": {},
   "source": [
    "# The first step is to build a list of mount failures to be manually classified\n",
    "## These will be used to train the neural network"
   ]
  },
  {
   "cell_type": "code",
   "execution_count": null,
   "id": "7b3fb559-a3f2-41eb-889a-e64ed59f2608",
   "metadata": {},
   "outputs": [],
   "source": [
    "client = EfdClient('idf_efd')\n",
    "butler = Butler('/repo/embargo', collections=\"LATISS/raw/all\")\n",
    "\n",
    "Mount_FFT_Dict = {}\n",
    "for dayObs in dayObs_list[3:4]:\n",
    "    exposureList = []\n",
    "    for record in butler.registry.queryDimensionRecords(\"exposure\", where=\"exposure.day_obs=%d\"%dayObs):\n",
    "        if record.observation_type not in ['bias', 'flat', 'dark']:\n",
    "            exposureList.append(record.id)\n",
    "    exposureList = sorted(exposureList)\n",
    "\n",
    "    for expId in exposureList:\n",
    "        try:\n",
    "            dataId = {'detector':0, 'exposure':expId}\n",
    "            result = calculateFFTKnots(dataId, butler, client, limit=limit)\n",
    "            if result:\n",
    "                [tot_rms, fftKnots, timebaseFlag] = result\n",
    "                resDict = {}\n",
    "                resDict['Cause'] = None\n",
    "                resDict['RMS'] = tot_rms\n",
    "                resDict['FFT_knots'] = fftKnots\n",
    "                Mount_FFT_Dict[expId] = resDict\n",
    "                print(f\"Finished {expId}\")\n",
    "        except:\n",
    "            continue\n",
    "    outfile = open('/home/c/cslage/u/AuxTel/mount_classifier/Mount_FFT_Knots_02Jan24.pkl', 'wb')\n",
    "\n",
    "    pkl.dump(Mount_FFT_Dict,outfile)\n",
    "    outfile.close()\n",
    "    print(f\"Finished {dayObs}\")\n"
   ]
  },
  {
   "cell_type": "markdown",
   "id": "e519aeda-922d-4355-b046-7d260d5bc811",
   "metadata": {},
   "source": [
    "# The next step is to manually classify the fails.\n",
    "\n",
    "This code will bring up the RubinTV mount plot one-by-one and you can enter the classification.  If you enter STOP, it will save what you have done so you can take a break.\n",
    "# Note:\n",
    "I ran this on the jupyter notebook on my laptop (not at the RSP), so it has control of the webbrowser."
   ]
  },
  {
   "cell_type": "code",
   "execution_count": null,
   "id": "f3f9e9e1-a5c2-44a5-b818-5b648fed1086",
   "metadata": {},
   "outputs": [],
   "source": [
    "import webbrowser\n",
    "infile = open('/home/c/cslage/u/AuxTel/mount_classifier/Mount_FFT_Knots_02Jan24.pkl', 'rb')\n",
    "Mount_FFT_Dict = pkl.load(infile)\n",
    "Mount_FFT_Dict_Classified = Mount_FFT_Dict.copy()\n",
    "infile.close()\n",
    "outfile = open('/home/c/cslage/u/AuxTel/mount_classifier/Mount_FFT_Knots_02Jan24_Classified.pkl', 'wb')\n",
    "pkl.dump(Mount_FFT_Dict_Classified,outfile)\n",
    "outfile.close()\n",
    "\n",
    "causes = ['OSC', 'WIN', 'CRA', 'SHU']\n",
    "\n",
    "print(causes)\n",
    "for key in Mount_FFT_Dict_Classified.keys():\n",
    "    expId = int(key)\n",
    "    dayObs = int(expId / 100000)\n",
    "    dateTime = datetime.strptime(str(dayObs), \"%Y%m%d\")\n",
    "    year = dateTime.year\n",
    "    month = dateTime.month\n",
    "    day = dateTime.day\n",
    "    seqNum = int((expId - 1000000000 * year - 10000000 * month - 100000 * day))\n",
    "\n",
    "    if Mount_FFT_Dict_Classified[key]['Cause'] is None:\n",
    "        webbrowser.open_new(f'https://roundtable.lsst.codes/rubintv/summit/auxtel/mount/event/{year}-{month:02}-{day:02}/{seqNum}')\n",
    "        cause = input(f\"Classification of {key}\")\n",
    "        if cause == 'STOP':\n",
    "            break\n",
    "        else:\n",
    "            Mount_FFT_Dict_Classified[key]['Cause'] = cause\n",
    "\n",
    "outfile = open('/home/c/cslage/u/AuxTel/mount_classifier/Mount_FFT_Knots_02Jan24_Classified.pkl', 'wb')\n",
    "pkl.dump(Mount_FFT_Dict_Classified,outfile)\n",
    "outfile.close()"
   ]
  },
  {
   "cell_type": "markdown",
   "id": "b03ed123-6817-4b36-96d6-6fa60e5c45a7",
   "metadata": {
    "execution": {
     "iopub.execute_input": "2024-01-02T13:59:36.017577Z",
     "iopub.status.busy": "2024-01-02T13:59:36.017001Z",
     "iopub.status.idle": "2024-01-02T13:59:36.019549Z",
     "shell.execute_reply": "2024-01-02T13:59:36.019188Z",
     "shell.execute_reply.started": "2024-01-02T13:59:36.017562Z"
    }
   },
   "source": [
    "# The next step is to build the neural network based classifier"
   ]
  },
  {
   "cell_type": "code",
   "execution_count": null,
   "id": "0e37a163-ba4e-4ecc-a3c5-031c750931e1",
   "metadata": {},
   "outputs": [],
   "source": [
    "infile = open('/home/c/cslage/u/AuxTel/mount_classifier/Mount_FFT_Dict_Knots_Classified.pkl', 'rb')\n",
    "Mount_FFT_Dict_Knots_Classified = pkl.load(infile)\n",
    "infile.close()\n",
    "causes = ['OSC', 'WIN', 'CRA', 'SHU']\n",
    "\n",
    "data = []\n",
    "labels = []\n",
    "for key in Mount_FFT_Dict_Knots_Classified.keys():\n",
    "    if Mount_FFT_Dict_Knots_Classified[key]['Cause'] in ['OTH', 'TIM']:\n",
    "        continue\n",
    "    data.append(np.array(Mount_FFT_Dict_Knots_Classified[key]['FFT_knots']))\n",
    "    for i, cause in enumerate(causes):\n",
    "        if Mount_FFT_Dict_Knots_Classified[key]['Cause'] == cause:\n",
    "            labels.append(i)\n",
    "print(len(labels))"
   ]
  },
  {
   "cell_type": "code",
   "execution_count": null,
   "id": "0e09dc8d-95e6-48f5-9f03-da7e1cda2f65",
   "metadata": {},
   "outputs": [],
   "source": [
    "datasets = train_test_split(data, \n",
    "                            labels,\n",
    "                            test_size=0.2)\n",
    "\n",
    "train_data, test_data, train_labels, test_labels = datasets"
   ]
  },
  {
   "cell_type": "markdown",
   "id": "199b3428-b391-43af-8e90-8fba5cf0a6d5",
   "metadata": {},
   "source": [
    "### This gave a 96% success rate on the test set"
   ]
  },
  {
   "cell_type": "code",
   "execution_count": null,
   "id": "ac657869-d726-43bc-a724-7f05c3966e97",
   "metadata": {},
   "outputs": [],
   "source": [
    "clf = MLPClassifier(solver='adam', alpha=1e-5, hidden_layer_sizes=(80,80,40,20), \\\n",
    "                    random_state=1, max_iter=1000000, learning_rate='invscaling', \\\n",
    "                     n_iter_no_change=10000)\n",
    "verbose=10,\n",
    "clf.fit(train_data, train_labels) \n",
    "predictions_train = clf.predict(train_data)\n",
    "predictions_test = clf.predict(test_data)\n",
    "train_score = accuracy_score(predictions_train, train_labels)\n",
    "print(\"Score on train data: \", train_score)\n",
    "test_score = accuracy_score(predictions_test, test_labels)\n",
    "print(\"Score on test data: \", test_score)"
   ]
  },
  {
   "cell_type": "markdown",
   "id": "4c037ca2-79a9-4c4d-af78-b2a92c3679ae",
   "metadata": {},
   "source": [
    "# Now re-build it with all of the data."
   ]
  },
  {
   "cell_type": "code",
   "execution_count": null,
   "id": "cda0501b-0f36-478d-b76a-55a8daf2189d",
   "metadata": {},
   "outputs": [],
   "source": [
    "clf = MLPClassifier(solver='adam', alpha=1e-5, hidden_layer_sizes=(80,80,40,20), \\\n",
    "                    random_state=1, max_iter=1000000, learning_rate='invscaling', \\\n",
    "                     n_iter_no_change=10000)\n",
    "verbose=10,\n",
    "clf.fit(data, labels) \n",
    "predictions_train = clf.predict(data)\n",
    "train_score = accuracy_score(predictions_train, labels)\n",
    "print(\"Score on train data: \", train_score)\n",
    "outfile = open('/home/c/cslage/u/AuxTel/mount_classifier/Knots_Based_Classifier_No_TIM_28Dec23.pkl', 'wb')\n",
    "pkl.dump(clf,outfile)\n",
    "outfile.close()"
   ]
  },
  {
   "cell_type": "markdown",
   "id": "997c04b7-6de6-4fb4-a882-4954d6001c86",
   "metadata": {},
   "source": [
    "# Now we run it on all of 2023"
   ]
  },
  {
   "cell_type": "code",
   "execution_count": null,
   "id": "6966ff49-61e1-449a-99a8-7496c9aed7d1",
   "metadata": {},
   "outputs": [],
   "source": [
    "# This allows a restart if something crashes\n",
    "restart = False\n",
    "from lsst_efd_client import EfdClient\n",
    "#client = EfdClient(\"usdf_efd\", db_name=\"efd-s2022-08-10\") # Before 2022-08-10\n",
    "#client = EfdClient('idf_efd') # Before 20231211                                                                                                   \n",
    "client = EfdClient('usdf_efd') # 20231211 and after                                                                                                \n",
    "#butler = Butler('/repo/main', collections=\"LATISS/raw/all\")\n",
    "butler = Butler('/repo/embargo', collections=\"LATISS/raw/all\")\n",
    "# Get the classifier                                                                                                                               \n",
    "infile = open('/home/c/cslage/u/AuxTel/mount_classifier/Knots_Based_Classifier_No_TIM_28Dec23.pkl', 'rb')\n",
    "clf = pkl.load(infile)\n",
    "infile.close()\n",
    "\n",
    "if restart:\n",
    "    startDay = 20220912 # Where to restart                                                                                                         \n",
    "    # Read in what is already done:                                                                                                                \n",
    "    infile = open('/home/c/cslage/u/AuxTel/mount_classifier/Mount_Errors_Classified_Dict_2022_07Jan24.pkl', 'rb')\n",
    "    Mount_Errors_Classified_Dict = pkl.load(infile)\n",
    "    infile.close()\n",
    "else:\n",
    "    startDay = 20240301\n",
    "    Mount_Errors_Classified_Dict = {}\n",
    "endDay = 20240303\n",
    "\n",
    "causes = ['OSC', 'WIN', 'CRA', 'SHU']\n",
    "fullCauses = ['UNSURE', 'OSC', 'WIN', 'CRA', 'TIM', 'SHU', 'GOOD']\n",
    "\n",
    "dayObs = startDay\n",
    "while dayObs <= endDay:\n",
    "    records = butler.registry.queryDimensionRecords(\"exposure\", where=\"exposure.day_obs=%d\"%dayObs)\n",
    "    print(dayObs, records.count())\n",
    "    if records.count() < 200:\n",
    "        dayObs = calcNextDay(dayObs)  # find the next dayObs                                                                                       \n",
    "        continue\n",
    "    exposureList = []\n",
    "    for record in butler.registry.queryDimensionRecords(\"exposure\", where=\"exposure.day_obs=%d\"%dayObs):\n",
    "        if record.observation_type not in ['bias', 'flat', 'dark'] and record.exposure_time > 2.0:\n",
    "            exposureList.append(record.id)\n",
    "    exposureList = sorted(exposureList)\n",
    "    dayObsDict = dict((cause,[]) for cause in fullCauses)\n",
    "    print(dayObs, len(exposureList))\n",
    "    for expId in exposureList:\n",
    "        try:\n",
    "            seqNum = int(expId - dayObs * 1E5)\n",
    "            dataId = {'detector':0, 'exposure':expId}\n",
    "            result = calculateFFTKnots(dataId, butler, client, limit=limit)\n",
    "            if result:\n",
    "                [tot_rms, knotList, timebaseFlag] = result\n",
    "                if knotList:\n",
    "                    # This means the tot_rms was > limit and a knotList was created                                                                \n",
    "                    if timebaseFlag:\n",
    "                        dayObsDict['TIM'].append(seqNum)\n",
    "                    else:\n",
    "                        prob = np.max(clf.predict_proba([knotList])[0])\n",
    "                        if prob < 0.75:\n",
    "                            dayObsDict['UNSURE'].append(seqNum)\n",
    "                        else:\n",
    "                            cause = causes[clf.predict([knotList])[0]]\n",
    "                            dayObsDict[cause].append(seqNum)\n",
    "                else:\n",
    "                    # This means the tot_rms was less than the limit                                                                               \n",
    "                    dayObsDict['GOOD'].append(seqNum)\n",
    "            print(f\"{expId} finished successfully\")\n",
    "            sys.stdout.flush()\n",
    "        except:\n",
    "            print(f\"{expId} failed\")\n",
    "            sys.stdout.flush()\n",
    "            continue\n",
    "    Mount_Errors_Classified_Dict[dayObs] = dayObsDict\n",
    "    print(f\"Finished {dayObs}\")\n",
    "    sys.stdout.flush()\n",
    "    dayObs = calcNextDay(dayObs)  # find the next dayObs                                                                                           \n",
    "    outfile = open('/home/c/cslage/u/AuxTel/mount_classifier/Mount_Errors_Classified_Dict_2024_03Mar24.pkl', 'wb')\n",
    "    pkl.dump(Mount_Errors_Classified_Dict,outfile)\n",
    "    outfile.close()\n",
    "                            "
   ]
  },
  {
   "cell_type": "markdown",
   "id": "45f4dba7-f41f-4726-877c-ef75bc858e88",
   "metadata": {},
   "source": [
    "# Now we run it on all of 2024"
   ]
  },
  {
   "cell_type": "code",
   "execution_count": null,
   "id": "bb8b924b-befe-4352-85b3-e8cda203e1c9",
   "metadata": {},
   "outputs": [],
   "source": [
    "# This allows a restart if something crashes\n",
    "restart = False\n",
    "from lsst_efd_client import EfdClient\n",
    "#client = EfdClient(\"usdf_efd\", db_name=\"efd-s2022-08-10\") # Before 2022-08-10\n",
    "#client = EfdClient('idf_efd') # Before 20231211                                                                                                   \n",
    "client = EfdClient('usdf_efd') # 20231211 and after                                                                                                \n",
    "#butler = Butler('/repo/main', collections=\"LATISS/raw/all\")\n",
    "butler = Butler('/repo/embargo_old', collections=\"LATISS/raw/all\")\n",
    "# Get the classifier                                                                                                                               \n",
    "infile = open('/home/c/cslage/u/AuxTel/mount_classifier/Knots_Based_Classifier_No_TIM_28Dec23.pkl', 'rb')\n",
    "clf = pkl.load(infile)\n",
    "infile.close()\n",
    "\n",
    "if restart:\n",
    "    startDay = 20220912 # Where to restart                                                                                                         \n",
    "    # Read in what is already done:                                                                                                                \n",
    "    infile = open('/home/c/cslage/u/AuxTel/mount_classifier/Mount_Errors_Classified_Dict_2024_21Jan25.pkl', 'rb')\n",
    "    Mount_Errors_Classified_Dict = pkl.load(infile)\n",
    "    infile.close()\n",
    "else:\n",
    "    startDay = 20240129\n",
    "    Mount_Errors_Classified_Dict = {}\n",
    "endDay = 20241016\n",
    "\n",
    "causes = ['OSC', 'WIN', 'CRA', 'SHU']\n",
    "fullCauses = ['UNSURE', 'OSC', 'WIN', 'CRA', 'TIM', 'SHU', 'GOOD']\n",
    "\n",
    "dayObs = startDay\n",
    "while dayObs <= endDay:\n",
    "    records = butler.registry.queryDimensionRecords(\"exposure\", where=\"exposure.day_obs=%d\"%dayObs)\n",
    "    print(dayObs, records.count())\n",
    "    if records.count() < 200:\n",
    "        dayObs = calcNextDay(dayObs)  # find the next dayObs                                                                                       \n",
    "        continue\n",
    "    exposureList = []\n",
    "    for record in butler.registry.queryDimensionRecords(\"exposure\", where=\"exposure.day_obs=%d\"%dayObs):\n",
    "        if record.observation_type not in ['bias', 'flat', 'dark'] and record.exposure_time > 2.0:\n",
    "            exposureList.append(record.id)\n",
    "    exposureList = sorted(exposureList)\n",
    "    dayObsDict = dict((cause,[]) for cause in fullCauses)\n",
    "    print(dayObs, len(exposureList))\n",
    "    for expId in exposureList:\n",
    "        try:\n",
    "            seqNum = int(expId - dayObs * 1E5)\n",
    "            dataId = {'detector':0, 'exposure':expId}\n",
    "            result = calculateFFTKnots(dataId, butler, client, limit=limit)\n",
    "            if result:\n",
    "                [tot_rms, knotList, timebaseFlag] = result\n",
    "                if knotList:\n",
    "                    # This means the tot_rms was > limit and a knotList was created                                                                \n",
    "                    if timebaseFlag:\n",
    "                        dayObsDict['TIM'].append(seqNum)\n",
    "                    else:\n",
    "                        prob = np.max(clf.predict_proba([knotList])[0])\n",
    "                        if prob < 0.75:\n",
    "                            dayObsDict['UNSURE'].append(seqNum)\n",
    "                        else:\n",
    "                            cause = causes[clf.predict([knotList])[0]]\n",
    "                            dayObsDict[cause].append(seqNum)\n",
    "                else:\n",
    "                    # This means the tot_rms was less than the limit                                                                               \n",
    "                    dayObsDict['GOOD'].append(seqNum)\n",
    "            print(f\"{expId} finished successfully\")\n",
    "            sys.stdout.flush()\n",
    "        except:\n",
    "            print(f\"{expId} failed\")\n",
    "            sys.stdout.flush()\n",
    "            continue\n",
    "    Mount_Errors_Classified_Dict[dayObs] = dayObsDict\n",
    "    print(f\"Finished {dayObs}\")\n",
    "    sys.stdout.flush()\n",
    "    dayObs = calcNextDay(dayObs)  # find the next dayObs                                                                                           \n",
    "    outfile = open('/home/c/cslage/u/AuxTel/mount_classifier/Mount_Errors_Classified_Dict_2024_21Jan25.pkl', 'wb')\n",
    "    pkl.dump(Mount_Errors_Classified_Dict,outfile)\n",
    "    outfile.close()\n",
    "                            "
   ]
  },
  {
   "cell_type": "markdown",
   "id": "d8cafaf7-8071-48b2-bf90-58d07a5f58d0",
   "metadata": {},
   "source": [
    "# Now we run it on all of 2025"
   ]
  },
  {
   "cell_type": "code",
   "execution_count": null,
   "id": "a1ab9f00-0fbe-44c8-a174-81d91e611ddb",
   "metadata": {},
   "outputs": [],
   "source": [
    "# This allows a restart if something crashes\n",
    "restart = False\n",
    "from lsst_efd_client import EfdClient\n",
    "#client = EfdClient(\"usdf_efd\", db_name=\"efd-s2022-08-10\") # Before 2022-08-10\n",
    "#client = EfdClient('idf_efd') # Before 20231211                                                                                                   \n",
    "client = EfdClient('usdf_efd') # 20231211 and after                                                                                                \n",
    "butler = butlerUtils.makeDefaultButler(\"LATISS\")\n",
    "# Get the classifier                                                                                                                               \n",
    "infile = open('/home/c/cslage/u/AuxTel/mount_classifier/Knots_Based_Classifier_No_TIM_28Dec23.pkl', 'rb')\n",
    "clf = pkl.load(infile)\n",
    "infile.close()\n",
    "\n",
    "if restart:\n",
    "    startDay = 20220912 # Where to restart                                                                                                         \n",
    "    # Read in what is already done:                                                                                                                \n",
    "    infile = open('/home/c/cslage/u/AuxTel/mount_classifier/Mount_Errors_Classified_Dict_2025_21Jan25.pkl', 'rb')\n",
    "    Mount_Errors_Classified_Dict = pkl.load(infile)\n",
    "    infile.close()\n",
    "else:\n",
    "    startDay = 20250107\n",
    "    Mount_Errors_Classified_Dict = {}\n",
    "endDay = 20250121\n",
    "\n",
    "causes = ['OSC', 'WIN', 'CRA', 'SHU']\n",
    "fullCauses = ['UNSURE', 'OSC', 'WIN', 'CRA', 'TIM', 'SHU', 'GOOD']\n",
    "\n",
    "dayObs = startDay\n",
    "while dayObs <= endDay:\n",
    "    records = butler.registry.queryDimensionRecords(\"exposure\", where=\"exposure.day_obs=%d\"%dayObs)\n",
    "    print(dayObs, records.count())\n",
    "    if records.count() < 200:\n",
    "        dayObs = calcNextDay(dayObs)  # find the next dayObs                                                                                       \n",
    "        continue\n",
    "    exposureList = []\n",
    "    for record in butler.registry.queryDimensionRecords(\"exposure\", where=\"exposure.day_obs=%d\"%dayObs):\n",
    "        if record.observation_type not in ['bias', 'flat', 'dark'] and record.exposure_time > 2.0:\n",
    "            exposureList.append(record.id)\n",
    "    exposureList = sorted(exposureList)\n",
    "    dayObsDict = dict((cause,[]) for cause in fullCauses)\n",
    "    print(dayObs, len(exposureList))\n",
    "    for expId in exposureList:\n",
    "        try:\n",
    "            seqNum = int(expId - dayObs * 1E5)\n",
    "            dataId = {'detector':0, 'exposure':expId}\n",
    "            result = calculateFFTKnots(dataId, butler, client, limit=limit)\n",
    "            if result:\n",
    "                [tot_rms, knotList, timebaseFlag] = result\n",
    "                if knotList:\n",
    "                    # This means the tot_rms was > limit and a knotList was created                                                                \n",
    "                    if timebaseFlag:\n",
    "                        dayObsDict['TIM'].append(seqNum)\n",
    "                    else:\n",
    "                        prob = np.max(clf.predict_proba([knotList])[0])\n",
    "                        if prob < 0.75:\n",
    "                            dayObsDict['UNSURE'].append(seqNum)\n",
    "                        else:\n",
    "                            cause = causes[clf.predict([knotList])[0]]\n",
    "                            dayObsDict[cause].append(seqNum)\n",
    "                else:\n",
    "                    # This means the tot_rms was less than the limit                                                                               \n",
    "                    dayObsDict['GOOD'].append(seqNum)\n",
    "            print(f\"{expId} finished successfully\")\n",
    "            sys.stdout.flush()\n",
    "        except:\n",
    "            print(f\"{expId} failed\")\n",
    "            sys.stdout.flush()\n",
    "            continue\n",
    "    Mount_Errors_Classified_Dict[dayObs] = dayObsDict\n",
    "    print(f\"Finished {dayObs}\")\n",
    "    sys.stdout.flush()\n",
    "    dayObs = calcNextDay(dayObs)  # find the next dayObs                                                                                           \n",
    "    outfile = open('/home/c/cslage/u/AuxTel/mount_classifier/Mount_Errors_Classified_Dict_2025_21Jan25.pkl', 'wb')\n",
    "    pkl.dump(Mount_Errors_Classified_Dict,outfile)\n",
    "    outfile.close()\n",
    "                            "
   ]
  },
  {
   "cell_type": "code",
   "execution_count": null,
   "id": "a505132b-3d74-45f8-8ee1-cef76bd15f28",
   "metadata": {},
   "outputs": [],
   "source": [
    "t_start = Time('2024-03-04T12:00:00', scale='utc')\n",
    "t_end = Time('2024-03-04T23:59:00', scale='utc')\n",
    "\n",
    "mount_position = await client.select_time_series(\"lsst.sal.ATMCS.mount_AzEl_Encoders\",['*'],t_start, t_end)\n",
    "len(mount_position)"
   ]
  },
  {
   "cell_type": "markdown",
   "id": "0580c655-9e27-4d31-9741-10eb76c0f08f",
   "metadata": {
    "execution": {
     "iopub.execute_input": "2024-01-02T14:13:16.631986Z",
     "iopub.status.busy": "2024-01-02T14:13:16.631784Z",
     "iopub.status.idle": "2024-01-02T14:13:16.634220Z",
     "shell.execute_reply": "2024-01-02T14:13:16.633850Z",
     "shell.execute_reply.started": "2024-01-02T14:13:16.631972Z"
    }
   },
   "source": [
    "# The following cells are for analyzing the classified data"
   ]
  },
  {
   "cell_type": "markdown",
   "id": "afc171da-0ea1-4690-94bc-f8920dd3b947",
   "metadata": {
    "execution": {
     "iopub.execute_input": "2024-01-02T14:14:59.025684Z",
     "iopub.status.busy": "2024-01-02T14:14:59.025282Z",
     "iopub.status.idle": "2024-01-02T14:14:59.027533Z",
     "shell.execute_reply": "2024-01-02T14:14:59.027235Z",
     "shell.execute_reply.started": "2024-01-02T14:14:59.025670Z"
    }
   },
   "source": [
    "## This cell will print the list of seqNums by cause"
   ]
  },
  {
   "cell_type": "code",
   "execution_count": null,
   "id": "95d83b74-bd4a-4de2-9002-3231a2f939d5",
   "metadata": {},
   "outputs": [],
   "source": [
    "dayObs = 20231128\n",
    "fullCauses = ['UNSURE', 'OSC', 'WIN', 'CRA', 'TIM', 'SHU', 'GOOD'] \n",
    "infile = open('/home/c/cslage/u/AuxTel/mount_classifier/Mount_Errors_Classified_Dict_29Dec23.pkl', 'rb')\n",
    "Mount_Errors_Classified_Dict = pkl.load(infile)\n",
    "infile.close()\n",
    "for cause in fullCauses:\n",
    "    print(cause, Mount_Errors_Classified_Dict[dayObs][cause])"
   ]
  },
  {
   "cell_type": "markdown",
   "id": "572b84cd-bbc0-4ecd-9ea2-c70c80a0b4e5",
   "metadata": {},
   "source": [
    "## This plots the summary for the year"
   ]
  },
  {
   "cell_type": "code",
   "execution_count": null,
   "id": "0e0db382-0fdb-4086-a326-cad0868e804d",
   "metadata": {},
   "outputs": [],
   "source": [
    "infile = open('/home/c/cslage/u/AuxTel/mount_classifier/Mount_Errors_Classified_Dict_2025_21Jan25.pkl', 'rb')\n",
    "Mount_Errors_Classified_Dict = pkl.load(infile)\n",
    "infile.close()\n",
    "dates = Mount_Errors_Classified_Dict.keys()\n",
    "print(dates)\n",
    "\n"
   ]
  },
  {
   "cell_type": "code",
   "execution_count": null,
   "id": "a57636a0-a41c-42cf-9284-692a971bdc0e",
   "metadata": {},
   "outputs": [],
   "source": [
    "fullCauses = ['UNSURE', 'OSC', 'WIN', 'CRA', 'TIM', 'SHU', 'GOOD'] \n",
    "\n",
    "infile = open('/home/c/cslage/u/AuxTel/mount_classifier/Mount_Errors_Classified_Dict_2025_21Jan25.pkl', 'rb')\n",
    "Mount_Errors_Classified_Dict = pkl.load(infile)\n",
    "infile.close()\n",
    "\n",
    "plotColors = ['gray', 'red', 'blue', 'violet', 'yellow', 'cyan', 'green']\n",
    "dates = Mount_Errors_Classified_Dict.keys()\n",
    "plotDates = []\n",
    "plotList = []\n",
    "xticks = []\n",
    "\n",
    "skipDates = 1\n",
    "# Somehow some empty lists got in\n",
    "# This cleans them out\n",
    "badDates = []\n",
    "for date in dates:\n",
    "    if len(Mount_Errors_Classified_Dict[date]['GOOD']) < 5:\n",
    "        badDates.append(date)\n",
    "for date in badDates:\n",
    "    del Mount_Errors_Classified_Dict[date]\n",
    "        \n",
    "dates = Mount_Errors_Classified_Dict.keys()\n",
    "data = np.zeros([len(dates), len(fullCauses)])\n",
    "for i, date in enumerate(dates):\n",
    "    for j, cause in enumerate(fullCauses):\n",
    "        data[i,j] = len(Mount_Errors_Classified_Dict[date][cause])\n",
    "for i, date in enumerate(dates):\n",
    "    sum = data[i,:].sum()\n",
    "    if i % skipDates == 0:\n",
    "        xticks.append(str(date))\n",
    "    else:\n",
    "        xticks.append(\"\")\n",
    "    plotDates.append(str(date))\n",
    "    for j, cause in enumerate(fullCauses):\n",
    "        data[i,j] /= sum\n",
    "        data[i,j] *= 100.0\n",
    "\n",
    "for j, cause in enumerate(fullCauses):\n",
    "    plotList.append(data[:,j])\n",
    "\n",
    "\n",
    "fig, ax = plt.subplots(figsize=(10,8))\n",
    "ax.set_title(\"AuxTel types of mount fails - 2025\", fontsize=18)\n",
    "ax.stackplot(plotDates, plotList, labels=fullCauses, colors=plotColors)\n",
    "ax.legend(loc='upper left')\n",
    "ax.set_ylabel(\"Percent\")\n",
    "ax.set_xticks(ticks=plotDates,labels=xticks, rotation=90)\n",
    "plt.savefig('/home/c/cslage/u/AuxTel/mount_classifier/Mount_Fails_Classified_2025.png')"
   ]
  },
  {
   "cell_type": "markdown",
   "id": "b860b6fd-7195-4a1c-8445-e7b8c726b868",
   "metadata": {
    "execution": {
     "iopub.execute_input": "2024-01-02T14:16:41.015320Z",
     "iopub.status.busy": "2024-01-02T14:16:41.014769Z",
     "iopub.status.idle": "2024-01-02T14:16:41.017332Z",
     "shell.execute_reply": "2024-01-02T14:16:41.016954Z",
     "shell.execute_reply.started": "2024-01-02T14:16:41.015305Z"
    }
   },
   "source": [
    "## This plots the wind speed correlation"
   ]
  },
  {
   "cell_type": "code",
   "execution_count": null,
   "id": "391afda5-3d56-4e4c-aed0-5aa8a33b2500",
   "metadata": {},
   "outputs": [],
   "source": [
    "infile = open('/home/c/cslage/u/AuxTel/mount_classifier/Mount_Errors_Classified_Dict_29Dec23.pkl', 'rb')\n",
    "Mount_Errors_Classified_Dict = pkl.load(infile)\n",
    "infile.close()\n",
    "dates = Mount_Errors_Classified_Dict.keys()\n",
    "\n",
    "fullCauses = ['UNSURE', 'OSC', 'WIN', 'CRA', 'TIM', 'SHU', 'GOOD'] \n",
    "windSpeeds = []\n",
    "windFails = []\n",
    "client = EfdClient('idf_efd') \n",
    "for date in dates:\n",
    "    try:\n",
    "        dayObs = int(date)\n",
    "        dateTime = datetime.strptime(str(dayObs), \"%Y%m%d\")\n",
    "        dayObsDate = f\"{dateTime.year}-{dateTime.month}-{dateTime.day}\"\n",
    "        nextDayObs = calcNextDay(dayObs)\n",
    "        dateTime = datetime.strptime(str(nextDayObs), \"%Y%m%d\")\n",
    "        nextDayObsDate = f\"{dateTime.year}-{dateTime.month}-{dateTime.day}\"\n",
    "        start = Time(f\"{dayObsDate} 23:00:00Z\", scale='utc')\n",
    "        end = Time(f\"{nextDayObsDate} 08:00:00Z\", scale='utc')\n",
    "        maxSpeed = await client.select_time_series('lsst.sal.ESS.airFlow', \\\n",
    "                                                ['maxSpeed'],  start, end, index=301)\n",
    "        windSpeed = np.median(maxSpeed['maxSpeed'].values)\n",
    "        total = 0\n",
    "        for cause in fullCauses:\n",
    "            total += len(Mount_Errors_Classified_Dict[date][cause])\n",
    "            if cause == 'WIN':\n",
    "                windFail = len(Mount_Errors_Classified_Dict[date][cause])\n",
    "        windFail = windFail / total * 100.0\n",
    "        windSpeeds.append(windSpeed)\n",
    "        windFails.append(windFail)\n",
    "    except:\n",
    "        continue\n",
    "\n",
    "print(len(windSpeeds), len(windFails))\n",
    "fig = plt.figure()\n",
    "plt.scatter(windSpeeds, windFails)\n",
    "plt.title(\"Mount fails due to wind jitter vs median wind speed\", fontsize=16)\n",
    "plt.ylabel(\"Percent fails due to wind jitter\")\n",
    "plt.xlabel(\"Median wind speed (m/s)\")\n",
    "plt.xlim(0,15)\n",
    "plt.savefig('/home/c/cslage/u/AuxTel/mount_classifier/Wind_Fails_vs_Wind_Speed_2023.png')"
   ]
  },
  {
   "cell_type": "markdown",
   "id": "f638b57f-0052-460b-9b45-acf24b185234",
   "metadata": {},
   "source": [
    "## This cell allows plotting the spline knots of a given expId"
   ]
  },
  {
   "cell_type": "code",
   "execution_count": null,
   "id": "59383544-81ee-41b4-a309-778d9f8eed5a",
   "metadata": {},
   "outputs": [],
   "source": [
    "#client = EfdClient('idf_efd')\n",
    "#butler = Butler('/repo/embargo', collections=\"LATISS/raw/all\")\n",
    "expId = 2023113000629\n",
    "dataId = {'detector':0, 'exposure':expId}\n",
    "fig = plt.figure(figsize=(10,5))\n",
    "plt.suptitle(f\"FFT SPline Knots {expId}\")\n",
    "result = calculateFFTKnots(dataId, butler, client, limit=limit, fig=fig)\n",
    "plt.savefig(f'/home/c/cslage/u/AuxTel/mount_classifier/Spline_Knots_{expId}.png')"
   ]
  },
  {
   "cell_type": "code",
   "execution_count": null,
   "id": "36e128c6-2304-473f-b783-3cdd0a91517b",
   "metadata": {},
   "outputs": [],
   "source": [
    "butler = Butler('/repo/embargo', collections=\"LATISS/raw/all\")"
   ]
  },
  {
   "cell_type": "code",
   "execution_count": null,
   "id": "20e07359-a4cc-438a-997b-37c40a91c1ae",
   "metadata": {},
   "outputs": [],
   "source": [
    "client = EfdClient(\"usdf_efd\", db_name=\"efd-s2022-08-10\")\n",
    "butler = Butler('/repo/main', collections=\"LATISS/raw/all\")\n",
    "limit = 0.25\n",
    "expId = 2021090900500\n",
    "dataId = {'detector':0, 'exposure':expId}\n",
    "result = calculateFFTKnots(dataId, butler, client, limit=limit)\n",
    "print(result)"
   ]
  },
  {
   "cell_type": "code",
   "execution_count": null,
   "id": "204d5798-6b1b-4296-8014-1fb7c87f8691",
   "metadata": {},
   "outputs": [],
   "source": [
    "infile = open('/home/c/cslage/u/AuxTel/mount_classifier/Mount_Errors_Classified_Dict_2021_07Jan24.pkl', 'rb')\n",
    "Mount_Errors_Classified_Dict = pkl.load(infile)\n",
    "infile.close()\n",
    "for key in Mount_Errors_Classified_Dict.keys():\n",
    "    print(key, len(Mount_Errors_Classified_Dict[key]['GOOD']))"
   ]
  },
  {
   "cell_type": "code",
   "execution_count": null,
   "id": "561f4b4a-1012-43a7-a569-4b261c2c4290",
   "metadata": {},
   "outputs": [],
   "source": [
    "infile = open('/home/c/cslage/u/AuxTel/mount_classifier/Mount_Errors_Classified_Dict_2022_07Jan24.pkl', 'rb')\n",
    "Mount_Errors_Classified_Dict = pkl.load(infile)\n",
    "infile.close()\n",
    "for key in Mount_Errors_Classified_Dict.keys():\n",
    "    print(key, len(Mount_Errors_Classified_Dict[key]['GOOD']))"
   ]
  },
  {
   "cell_type": "markdown",
   "id": "369040bd-19e1-4509-8c08-29c1bd39ebd0",
   "metadata": {},
   "source": [
    "# Now combine the three years"
   ]
  },
  {
   "cell_type": "code",
   "execution_count": null,
   "id": "29a643fb-0af8-4484-899b-639654c7ec69",
   "metadata": {},
   "outputs": [],
   "source": [
    "infile = open('/home/c/cslage/u/AuxTel/mount_classifier/Mount_Errors_Classified_Dict_2021_07Jan24.pkl', 'rb')\n",
    "Mount_Errors_Classified_Dict_2021 = pkl.load(infile)\n",
    "infile.close()\n",
    "print(len(Mount_Errors_Classified_Dict_2021))\n",
    "infile = open('/home/c/cslage/u/AuxTel/mount_classifier/Mount_Errors_Classified_Dict_2022_07Jan24.pkl', 'rb')\n",
    "Mount_Errors_Classified_Dict_2022 = pkl.load(infile)\n",
    "infile.close()\n",
    "print(len(Mount_Errors_Classified_Dict_2022))\n",
    "infile = open('/home/c/cslage/u/AuxTel/mount_classifier/Mount_Errors_Classified_Dict_29Dec23.pkl', 'rb')\n",
    "Mount_Errors_Classified_Dict_2023 = pkl.load(infile)\n",
    "infile.close()\n",
    "print(len(Mount_Errors_Classified_Dict_2023))\n",
    "Mount_Errors_Classified_Dict_All = {}\n",
    "for key in Mount_Errors_Classified_Dict_2021.keys():\n",
    "    if len(Mount_Errors_Classified_Dict_2021[key]['GOOD']) == 0:\n",
    "        continue\n",
    "    else:\n",
    "        Mount_Errors_Classified_Dict_All[key] = Mount_Errors_Classified_Dict_2021[key]\n",
    "for key in Mount_Errors_Classified_Dict_2022.keys():\n",
    "    if len(Mount_Errors_Classified_Dict_2022[key]['GOOD']) == 0:\n",
    "        continue\n",
    "    else:\n",
    "        Mount_Errors_Classified_Dict_All[key] = Mount_Errors_Classified_Dict_2022[key]\n",
    "for key in Mount_Errors_Classified_Dict_2023.keys():\n",
    "    if len(Mount_Errors_Classified_Dict_2023[key]['GOOD']) == 0:\n",
    "        continue\n",
    "    else:\n",
    "        Mount_Errors_Classified_Dict_All[key] = Mount_Errors_Classified_Dict_2023[key]\n",
    "        \n",
    "print(len(Mount_Errors_Classified_Dict_All))\n",
    "outfile = open('/home/c/cslage/u/AuxTel/mount_classifier/Mount_Errors_Classified_Dict_All_07Jan24.pkl', 'wb')\n",
    "pkl.dump(Mount_Errors_Classified_Dict_All,outfile)\n",
    "outfile.close()\n"
   ]
  },
  {
   "cell_type": "code",
   "execution_count": null,
   "id": "0d191c3e-ec65-48c5-9548-e3f56cfd7313",
   "metadata": {},
   "outputs": [],
   "source": [
    "infile = open('/home/c/cslage/u/AuxTel/mount_classifier/Mount_Errors_Classified_Dict_All_07Jan24.pkl', 'rb')\n",
    "Mount_Errors_Classified_Dict = pkl.load(infile)\n",
    "infile.close()\n",
    "for key in Mount_Errors_Classified_Dict.keys():\n",
    "    print(key, len(Mount_Errors_Classified_Dict[key]['GOOD']))"
   ]
  },
  {
   "cell_type": "code",
   "execution_count": null,
   "id": "5813684c-421e-4c49-b252-d38c69e66bb7",
   "metadata": {},
   "outputs": [],
   "source": [
    "infile = open('/home/c/cslage/u/AuxTel/mount_classifier/Mount_Errors_Classified_Dict_All_07Jan24.pkl', 'rb')\n",
    "Mount_Errors_Classified_Dict = pkl.load(infile)\n",
    "infile.close()\n",
    "\n",
    "obsId = 20221027\n",
    "print(Mount_Errors_Classified_Dict[obsId]['GOOD'])\n"
   ]
  },
  {
   "cell_type": "code",
   "execution_count": null,
   "id": "30ccc79c-002b-42e7-97af-a2452abdc08a",
   "metadata": {},
   "outputs": [],
   "source": [
    "fullCauses = ['UNSURE', 'OSC', 'WIN', 'CRA', 'TIM', 'SHU', 'GOOD']\n",
    "infile = open('/home/c/cslage/u/AuxTel/mount_classifier/Mount_Errors_Classified_Dict_All_07Jan24.pkl', 'rb')\n",
    "Mount_Errors_Classified_Dict = pkl.load(infile)\n",
    "infile.close()\n",
    "\n",
    "obsId = 20221027\n",
    "for cause in fullCauses:\n",
    "    print(cause, Mount_Errors_Classified_Dict[obsId][cause])\n"
   ]
  },
  {
   "cell_type": "code",
   "execution_count": null,
   "id": "61c9e9c2-506c-41b4-a9b1-e10c5bce1508",
   "metadata": {},
   "outputs": [],
   "source": []
  }
 ],
 "metadata": {
  "kernelspec": {
   "display_name": "LSST",
   "language": "python",
   "name": "lsst"
  },
  "language_info": {
   "codemirror_mode": {
    "name": "ipython",
    "version": 3
   },
   "file_extension": ".py",
   "mimetype": "text/x-python",
   "name": "python",
   "nbconvert_exporter": "python",
   "pygments_lexer": "ipython3",
   "version": "3.11.9"
  }
 },
 "nbformat": 4,
 "nbformat_minor": 5
}
