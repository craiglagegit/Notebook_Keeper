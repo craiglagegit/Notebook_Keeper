{
 "cells": [
  {
   "cell_type": "markdown",
   "id": "e8cc3a14-f377-44f4-ab4c-97c9c3047697",
   "metadata": {},
   "source": [
    "# Analyzing monochromator QE sweeps.\n",
    "Craig Lage 21-Dec-23"
   ]
  },
  {
   "cell_type": "code",
   "execution_count": null,
   "id": "a148b369-8943-4861-a51e-9cbeea70feb3",
   "metadata": {
    "execution": {
     "iopub.execute_input": "2024-05-03T12:29:24.255310Z",
     "iopub.status.busy": "2024-05-03T12:29:24.254574Z",
     "iopub.status.idle": "2024-05-03T12:29:36.551650Z",
     "shell.execute_reply": "2024-05-03T12:29:36.551194Z",
     "shell.execute_reply.started": "2024-05-03T12:29:24.255294Z"
    },
    "tags": []
   },
   "outputs": [],
   "source": [
    "import numpy as np\n",
    "from matplotlib import pyplot as plt\n",
    "\n",
    "from lsst.daf.butler import Butler\n",
    "from lsst.summit.utils import BestEffortIsr\n",
    "import lsst.afw.cameraGeom.utils as camGeomUtils\n",
    "from lsst.ip.isr import IsrTask, IsrTaskConfig\n",
    "from mpl_toolkits.axes_grid1 import make_axes_locatable\n",
    "from matplotlib.colors import LogNorm\n",
    "\n",
    "from lsst.summit.utils import quickSmooth\n",
    "%matplotlib inline\n",
    "\n",
    "from lsst.pipe.tasks.characterizeImage import CharacterizeImageTask\n",
    "from lsst.meas.algorithms.installGaussianPsf import InstallGaussianPsfTask"
   ]
  },
  {
   "cell_type": "code",
   "execution_count": null,
   "id": "7c44dc35-840c-438f-bdba-55b8b1ce5b77",
   "metadata": {
    "execution": {
     "iopub.execute_input": "2024-05-03T12:29:36.559743Z",
     "iopub.status.busy": "2024-05-03T12:29:36.559618Z",
     "iopub.status.idle": "2024-05-03T12:29:36.564121Z",
     "shell.execute_reply": "2024-05-03T12:29:36.563775Z",
     "shell.execute_reply.started": "2024-05-03T12:29:36.559731Z"
    },
    "tags": []
   },
   "outputs": [],
   "source": [
    "def plotExp(exp):\n",
    "    # Borrowed from summit utils\n",
    "    data = quickSmooth(exp.image.array, 1)\n",
    "    vmin = np.nanpercentile(data, 1)\n",
    "    vmax = np.nanpercentile(data, 99)\n",
    "    print(vmin, vmax)\n",
    "    figure = plt.figure(figsize=(12,12))\n",
    "    figure.clear()\n",
    "    ax1 = figure.add_subplot(111)\n",
    "    im1 = ax1.imshow(data, cmap='gray', origin='lower', vmin=vmin, vmax=vmax)\n",
    "    ax1.tick_params(which=\"major\", direction=\"in\", top=True, right=True, labelsize=8)\n",
    "    divider = make_axes_locatable(ax1)\n",
    "    cax = divider.append_axes(\"right\", size=\"5%\", pad=0.05)\n",
    "    plt.colorbar(im1, cax=cax)\n",
    "    plt.tight_layout()\n",
    "    #plt.show()\n",
    "    return figure\n",
    "\n",
    "def repairCosmics(postIsr):\n",
    "    # Borrowed from summit utils\n",
    "    if postIsr.getPsf() is None:\n",
    "        installPsfTask = InstallGaussianPsfTask()\n",
    "        installPsfTask.run(postIsr)\n",
    "\n",
    "    # TODO: try adding a reasonably wide Gaussian as a temp PSF\n",
    "    # and then just running repairTask on its own without any\n",
    "    # imChar. It should work, and be faster.\n",
    "    repairConfig = CharacterizeImageTask.ConfigClass()\n",
    "    repairConfig.doMeasurePsf = False\n",
    "    repairConfig.doApCorr = False\n",
    "    repairConfig.doDeblend = False\n",
    "    repairConfig.doWrite = False\n",
    "    repairConfig.repair.cosmicray.nCrPixelMax = 200000\n",
    "    repairTask = CharacterizeImageTask(config=repairConfig)\n",
    "    repairTask.repair.run(postIsr)\n",
    "    return\n"
   ]
  },
  {
   "cell_type": "code",
   "execution_count": null,
   "id": "558e3838-4aea-48e2-9629-5b1f60b2fbaf",
   "metadata": {
    "execution": {
     "iopub.execute_input": "2024-05-03T12:29:36.564930Z",
     "iopub.status.busy": "2024-05-03T12:29:36.564796Z",
     "iopub.status.idle": "2024-05-03T12:29:37.228799Z",
     "shell.execute_reply": "2024-05-03T12:29:37.228366Z",
     "shell.execute_reply.started": "2024-05-03T12:29:36.564917Z"
    },
    "tags": []
   },
   "outputs": [],
   "source": [
    "butler = Butler('/repo/embargo', collections=[\"LATISS/raw/all\", \"LATISS/calib\", \"LATISS/calib/unbounded\"])\n",
    "best_effort_isr = BestEffortIsr(embargo=True)\n",
    "best_effort_isr.doWrite = False  # Don't write to butler database"
   ]
  },
  {
   "cell_type": "code",
   "execution_count": null,
   "id": "ac370c47-f159-4dcf-8d42-99833c98c37c",
   "metadata": {
    "execution": {
     "iopub.execute_input": "2024-05-03T12:29:37.242818Z",
     "iopub.status.busy": "2024-05-03T12:29:37.242688Z",
     "iopub.status.idle": "2024-05-03T12:29:37.244729Z",
     "shell.execute_reply": "2024-05-03T12:29:37.244389Z",
     "shell.execute_reply.started": "2024-05-03T12:29:37.242805Z"
    },
    "tags": []
   },
   "outputs": [],
   "source": [
    "expId_filter = 2023121900074\n",
    "expId_no_filter = 2023121900075"
   ]
  },
  {
   "cell_type": "markdown",
   "id": "bfe4c5fb-7ce1-49bc-9f55-91a906c018a3",
   "metadata": {},
   "source": [
    " ### Testing the ISR"
   ]
  },
  {
   "cell_type": "code",
   "execution_count": null,
   "id": "f087dcec-36a0-49de-b226-79370cb9c31c",
   "metadata": {
    "execution": {
     "iopub.execute_input": "2024-05-03T12:29:49.304549Z",
     "iopub.status.busy": "2024-05-03T12:29:49.304310Z",
     "iopub.status.idle": "2024-05-03T12:29:51.328370Z",
     "shell.execute_reply": "2024-05-03T12:29:51.327870Z",
     "shell.execute_reply.started": "2024-05-03T12:29:49.304535Z"
    },
    "tags": []
   },
   "outputs": [],
   "source": [
    "dataId_filter = {'exposure': expId_filter, 'detector': 0, \"instrument\": 'LATISS'}\n",
    "exp_filter = best_effort_isr.getExposure(dataId_filter, skipCosmics=False)\n",
    "dataId_no_filter = {'exposure': expId_no_filter, 'detector': 0, \"instrument\": 'LATISS'}\n",
    "exp_no_filter = best_effort_isr.getExposure(dataId_no_filter, skipCosmics=False)\n",
    "data_filter = quickSmooth(exp_filter.image.array, 1)\n",
    "data_no_filter = quickSmooth(exp_no_filter.image.array, 1)\n",
    "ratio = data_filter / data_no_filter"
   ]
  },
  {
   "cell_type": "code",
   "execution_count": null,
   "id": "162d0219-97d3-484e-b6c9-a0003049042f",
   "metadata": {
    "execution": {
     "iopub.execute_input": "2024-05-03T12:31:32.337005Z",
     "iopub.status.busy": "2024-05-03T12:31:32.336547Z",
     "iopub.status.idle": "2024-05-03T12:31:34.026531Z",
     "shell.execute_reply": "2024-05-03T12:31:34.026077Z",
     "shell.execute_reply.started": "2024-05-03T12:31:32.336987Z"
    }
   },
   "outputs": [],
   "source": [
    "vmin = np.nanpercentile(ratio, 1)\n",
    "vmax = np.nanpercentile(ratio, 99)\n",
    "figure = plt.figure(figsize=(12,12))\n",
    "figure.clear()\n",
    "ax1 = figure.add_subplot(111)\n",
    "im1 = ax1.imshow(ratio, cmap='gray', origin='lower', vmin=vmin, vmax=vmax)\n",
    "ax1.tick_params(which=\"major\", direction=\"in\", top=True, right=True, labelsize=8)\n",
    "divider = make_axes_locatable(ax1)\n",
    "cax = divider.append_axes(\"right\", size=\"5%\", pad=0.05)\n",
    "plt.colorbar(im1, cax=cax)\n",
    "plt.tight_layout()\n",
    "print(np.median(ratio))"
   ]
  },
  {
   "cell_type": "markdown",
   "id": "2b184748-ad6c-4acf-97fb-4cd314a52dc6",
   "metadata": {
    "execution": {
     "iopub.execute_input": "2023-12-19T18:36:17.162132Z",
     "iopub.status.busy": "2023-12-19T18:36:17.161941Z",
     "iopub.status.idle": "2023-12-19T18:36:17.164448Z",
     "shell.execute_reply": "2023-12-19T18:36:17.164064Z",
     "shell.execute_reply.started": "2023-12-19T18:36:17.162120Z"
    }
   },
   "source": [
    "# Now process the measured images"
   ]
  },
  {
   "cell_type": "code",
   "execution_count": null,
   "id": "b3b6d4f6-2fd9-4151-bc02-5cf0d50fb51e",
   "metadata": {
    "execution": {
     "iopub.execute_input": "2023-12-19T16:13:54.399527Z",
     "iopub.status.busy": "2023-12-19T16:13:54.398952Z",
     "iopub.status.idle": "2023-12-19T16:24:17.433813Z",
     "shell.execute_reply": "2023-12-19T16:24:17.433303Z",
     "shell.execute_reply.started": "2023-12-19T16:13:54.399512Z"
    },
    "jupyter": {
     "outputs_hidden": true
    }
   },
   "outputs": [],
   "source": [
    "wave_step = 5 # Wavelength step in nm\n",
    "min_wave = 500; max_wave = 750;\n",
    "wave = min_wave\n",
    "expId_filter = 2023121900024\n",
    "expId_no_filter = 2023121900025\n",
    "\n",
    "waves = []\n",
    "transmittances = []\n",
    "sigmas = []\n",
    "while wave < max_wave + wave_step / 2.0:\n",
    "    dataId_filter = {'exposure': expId_filter, 'detector': 0, \"instrument\": 'LATISS'}\n",
    "    exp_filter = best_effort_isr.getExposure(dataId_filter, skipCosmics=False)\n",
    "    dataId_no_filter = {'exposure': expId_no_filter, 'detector': 0, \"instrument\": 'LATISS'}\n",
    "    exp_no_filter = best_effort_isr.getExposure(dataId_no_filter, skipCosmics=False)\n",
    "    data_filter = quickSmooth(exp_filter.image.array, 1)\n",
    "    data_no_filter = quickSmooth(exp_no_filter.image.array, 1)\n",
    "    ratio = data_filter / data_no_filter\n",
    "    transmittance = np.nanpercentile(ratio, 50) * 100.0\n",
    "    sigma = (np.nanpercentile(ratio, 86) - np.nanpercentile(ratio, 14)) / 2.0 * 100.0\n",
    "    waves.append(wave)\n",
    "    transmittances.append(transmittance)\n",
    "    sigmas.append(sigma)\n",
    "    print(f\"At {wave} nm, filter transmittance is {transmittance}%, sigma = {sigma}\")\n",
    "    wave += wave_step\n",
    "    expId_filter += 2\n",
    "    expId_no_filter += 2\n"
   ]
  },
  {
   "cell_type": "markdown",
   "id": "e56a0345-efdf-4077-b73b-77ada5687d20",
   "metadata": {
    "execution": {
     "iopub.execute_input": "2023-12-19T18:37:42.343845Z",
     "iopub.status.busy": "2023-12-19T18:37:42.343649Z",
     "iopub.status.idle": "2023-12-19T18:37:42.346159Z",
     "shell.execute_reply": "2023-12-19T18:37:42.345781Z",
     "shell.execute_reply.started": "2023-12-19T18:37:42.343832Z"
    }
   },
   "source": [
    "# This cell gets the vendor supplied data.\n",
    "This came from: https://github.com/lsst/obs_lsst_data/blob/main/latiss/transmission_filter/sdssr_65mm~empty/20221005T000000.ecsv"
   ]
  },
  {
   "cell_type": "code",
   "execution_count": null,
   "id": "aaaac769-6ed2-48b4-bd92-10773cc821a2",
   "metadata": {
    "execution": {
     "iopub.execute_input": "2023-12-19T17:15:08.249250Z",
     "iopub.status.busy": "2023-12-19T17:15:08.249054Z",
     "iopub.status.idle": "2023-12-19T17:15:08.254041Z",
     "shell.execute_reply": "2023-12-19T17:15:08.253601Z",
     "shell.execute_reply.started": "2023-12-19T17:15:08.249237Z"
    },
    "jupyter": {
     "outputs_hidden": true
    }
   },
   "outputs": [],
   "source": [
    "import csv\n",
    "official_waves = []\n",
    "official_trans = []\n",
    "with open('/home/c/cslage/u/AuxTel/filter_data/20221005T000000.ecsv', newline='') as csvfile:\n",
    "    spamreader = csv.reader(csvfile, delimiter=' ', quotechar='|')\n",
    "    counter = 0\n",
    "    for row in spamreader:\n",
    "        if counter > 28:\n",
    "            # Rows before this don't contain the data\n",
    "            official_waves.append(float(row[0]))\n",
    "            official_trans.append(float(row[1]) * 100.0)\n",
    "            print(row[0], float(row[1])*100.0)\n",
    "        counter +=1"
   ]
  },
  {
   "cell_type": "markdown",
   "id": "50eeed9c-8d51-4700-a2c2-dd642abf199d",
   "metadata": {},
   "source": [
    "# Now plot the data"
   ]
  },
  {
   "cell_type": "code",
   "execution_count": null,
   "id": "50dc7cde-8021-44b5-a5ea-b83f5fdaab7d",
   "metadata": {
    "execution": {
     "iopub.execute_input": "2023-12-19T17:10:49.484448Z",
     "iopub.status.busy": "2023-12-19T17:10:49.484137Z",
     "iopub.status.idle": "2023-12-19T17:10:49.654359Z",
     "shell.execute_reply": "2023-12-19T17:10:49.653901Z",
     "shell.execute_reply.started": "2023-12-19T17:10:49.484424Z"
    }
   },
   "outputs": [],
   "source": [
    "plt.title(\"AuxTel SDSSr_65mm Transmission curve - 19-Dec-23\")\n",
    "plt.plot(waves, transmittances, marker='x', color='blue', label=\"Measured\")\n",
    "plt.plot(official_waves, official_trans, marker='+', color='red', label=\"Official\")\n",
    "plt.xlabel(\"Wavelength (nm)\")\n",
    "plt.ylabel(\"Transmittance (%)\")\n",
    "plt.xlim(500, 750)\n",
    "plt.ylim(0,100.0)\n",
    "plt.legend()\n",
    "plt.savefig(\"/home/c/cslage/u/AuxTel/filter_data/SDSSr_65mm_Filter_Curve_19Dec23.png\")"
   ]
  },
  {
   "cell_type": "markdown",
   "id": "d7fa540a-3d68-410a-a7a3-3577ead5ea04",
   "metadata": {},
   "source": [
    "# I don't know why the command below didn't work:"
   ]
  },
  {
   "cell_type": "code",
   "execution_count": null,
   "id": "4d11f2dc-02ce-45c6-a34f-341f252d7d43",
   "metadata": {
    "execution": {
     "iopub.execute_input": "2023-12-19T16:59:05.292130Z",
     "iopub.status.busy": "2023-12-19T16:59:05.291909Z",
     "iopub.status.idle": "2023-12-19T16:59:05.342776Z",
     "shell.execute_reply": "2023-12-19T16:59:05.342131Z",
     "shell.execute_reply.started": "2023-12-19T16:59:05.292117Z"
    },
    "jupyter": {
     "outputs_hidden": true
    }
   },
   "outputs": [],
   "source": [
    "butler.get(\"transmission_filter\", dataId={'instrument': 'LATISS', 'physical_filter': 'SDSSr_65mm~empty'})"
   ]
  },
  {
   "cell_type": "code",
   "execution_count": null,
   "id": "6597b634-f722-466a-bbee-5bf2778cda94",
   "metadata": {},
   "outputs": [],
   "source": []
  }
 ],
 "metadata": {
  "kernelspec": {
   "display_name": "LSST",
   "language": "python",
   "name": "lsst"
  },
  "language_info": {
   "codemirror_mode": {
    "name": "ipython",
    "version": 3
   },
   "file_extension": ".py",
   "mimetype": "text/x-python",
   "name": "python",
   "nbconvert_exporter": "python",
   "pygments_lexer": "ipython3",
   "version": "3.11.7"
  },
  "toc-autonumbering": false,
  "toc-showcode": false,
  "toc-showmarkdowntxt": true
 },
 "nbformat": 4,
 "nbformat_minor": 5
}
