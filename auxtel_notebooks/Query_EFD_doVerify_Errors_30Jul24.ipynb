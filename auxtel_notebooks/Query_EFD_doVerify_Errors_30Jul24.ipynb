{
 "cells": [
  {
   "cell_type": "markdown",
   "id": "ce92fd6f-2395-40f9-8c48-45982e7d4598",
   "metadata": {},
   "source": [
    "# Query EFD do_verify log messages\n",
    "Craig Lage - 30-Jul-24"
   ]
  },
  {
   "cell_type": "code",
   "execution_count": null,
   "id": "6e25b892-6cc3-42b5-b80e-dd159e015869",
   "metadata": {
    "execution": {
     "iopub.execute_input": "2024-07-30T12:36:28.527517Z",
     "iopub.status.busy": "2024-07-30T12:36:28.527209Z",
     "iopub.status.idle": "2024-07-30T12:36:28.592379Z",
     "shell.execute_reply": "2024-07-30T12:36:28.591959Z",
     "shell.execute_reply.started": "2024-07-30T12:36:28.527503Z"
    }
   },
   "outputs": [],
   "source": [
    "import sys, time, os, asyncio, glob\n",
    "import numpy as np\n",
    "import pandas as pd\n",
    "from astropy.time import Time, TimeDelta\n",
    "from lsst_efd_client import EfdClient"
   ]
  },
  {
   "cell_type": "code",
   "execution_count": null,
   "id": "361a1ebb-791e-48d2-a7de-71fb004dfb11",
   "metadata": {
    "execution": {
     "iopub.execute_input": "2024-07-30T12:36:46.592539Z",
     "iopub.status.busy": "2024-07-30T12:36:46.592256Z",
     "iopub.status.idle": "2024-07-30T12:36:47.050906Z",
     "shell.execute_reply": "2024-07-30T12:36:47.050440Z",
     "shell.execute_reply.started": "2024-07-30T12:36:46.592523Z"
    }
   },
   "outputs": [],
   "source": [
    "client = EfdClient('usdf_efd')"
   ]
  },
  {
   "cell_type": "code",
   "execution_count": null,
   "id": "f13bd81e-b12e-4366-be8a-6ab323590555",
   "metadata": {
    "execution": {
     "iopub.execute_input": "2024-07-30T12:49:02.253812Z",
     "iopub.status.busy": "2024-07-30T12:49:02.253280Z",
     "iopub.status.idle": "2024-07-30T12:49:02.256547Z",
     "shell.execute_reply": "2024-07-30T12:49:02.256157Z",
     "shell.execute_reply.started": "2024-07-30T12:49:02.253799Z"
    }
   },
   "outputs": [],
   "source": [
    "start = Time(\"2024-07-24 20:00:00Z\", scale='utc')\n",
    "end = Time(\"2024-07-24 21:30:00Z\", scale='utc')"
   ]
  },
  {
   "cell_type": "code",
   "execution_count": null,
   "id": "8803b424-5cb2-4756-b6b6-34b1721c2fea",
   "metadata": {
    "execution": {
     "iopub.execute_input": "2024-07-30T12:49:03.179526Z",
     "iopub.status.busy": "2024-07-30T12:49:03.178964Z",
     "iopub.status.idle": "2024-07-30T12:49:03.200698Z",
     "shell.execute_reply": "2024-07-30T12:49:03.200373Z",
     "shell.execute_reply.started": "2024-07-30T12:49:03.179512Z"
    }
   },
   "outputs": [],
   "source": [
    "msgs = await client.select_time_series('lsst.sal.Script.logevent_logMessage', ['*'], start, end)"
   ]
  },
  {
   "cell_type": "code",
   "execution_count": null,
   "id": "6c8e60cf-f785-4fcd-bcd8-c3b975510d8d",
   "metadata": {
    "execution": {
     "iopub.execute_input": "2024-07-30T13:42:48.397429Z",
     "iopub.status.busy": "2024-07-30T13:42:48.397033Z",
     "iopub.status.idle": "2024-07-30T13:42:48.415578Z",
     "shell.execute_reply": "2024-07-30T13:42:48.415113Z",
     "shell.execute_reply.started": "2024-07-30T13:42:48.397415Z"
    }
   },
   "outputs": [],
   "source": [
    "for i in range(len(msgs)):\n",
    "    if 'combined FLAT' in msgs.iloc[i]['message']:\n",
    "        print(msgs.iloc[i]['message'])\n",
    "        print(msgs.iloc[i]['traceback'])\n",
    "        print()\n",
    "        print()"
   ]
  },
  {
   "cell_type": "code",
   "execution_count": null,
   "id": "66b68710-dead-4fc7-bf87-3966dcddb63f",
   "metadata": {},
   "outputs": [],
   "source": []
  }
 ],
 "metadata": {
  "kernelspec": {
   "display_name": "LSST",
   "language": "python",
   "name": "lsst"
  },
  "language_info": {
   "codemirror_mode": {
    "name": "ipython",
    "version": 3
   },
   "file_extension": ".py",
   "mimetype": "text/x-python",
   "name": "python",
   "nbconvert_exporter": "python",
   "pygments_lexer": "ipython3",
   "version": "3.11.7"
  }
 },
 "nbformat": 4,
 "nbformat_minor": 5
}
