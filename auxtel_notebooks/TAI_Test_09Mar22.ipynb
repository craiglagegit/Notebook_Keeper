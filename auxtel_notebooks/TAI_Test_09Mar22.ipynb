{
 "cells": [
  {
   "cell_type": "markdown",
   "id": "5f19a9b8-2189-419d-bbcb-01a9ee7d1327",
   "metadata": {},
   "source": [
    "## TAI testing - NCSA\n",
    "Craig Lage - Mar 9, 2022 \\\n",
    "Repeating - May 4, 2022"
   ]
  },
  {
   "cell_type": "code",
   "execution_count": null,
   "id": "f40e97af-4e3d-405e-968d-4e0c8d02c990",
   "metadata": {},
   "outputs": [],
   "source": [
    "from astropy.time import Time\n",
    "t = Time('2022-03-08', scale='utc')\n",
    "t.unix_tai - t.unix"
   ]
  },
  {
   "cell_type": "code",
   "execution_count": null,
   "id": "5d33ede8-cc1e-4454-8b4d-89c6b9cddef1",
   "metadata": {},
   "outputs": [],
   "source": [
    "from astropy import __version__ as astropyVersion\n",
    "print(astropyVersion)"
   ]
  },
  {
   "cell_type": "code",
   "execution_count": null,
   "id": "91d3f227-3707-435f-b786-fe0c3736f88d",
   "metadata": {},
   "outputs": [],
   "source": []
  }
 ],
 "metadata": {
  "kernelspec": {
   "display_name": "LSST",
   "language": "python",
   "name": "lsst"
  },
  "language_info": {
   "codemirror_mode": {
    "name": "ipython",
    "version": 3
   },
   "file_extension": ".py",
   "mimetype": "text/x-python",
   "name": "python",
   "nbconvert_exporter": "python",
   "pygments_lexer": "ipython3",
   "version": "3.8.12"
  }
 },
 "nbformat": 4,
 "nbformat_minor": 5
}
