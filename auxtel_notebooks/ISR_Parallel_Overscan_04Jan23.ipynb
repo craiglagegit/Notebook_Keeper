{
 "cells": [
  {
   "cell_type": "markdown",
   "metadata": {},
   "source": [
    "## Trying parallel overscan subtraction on AuxTel ISR\n",
    "\n",
    "Craig Lage - 04-Jan-23"
   ]
  },
  {
   "cell_type": "code",
   "execution_count": null,
   "metadata": {
    "execution": {
     "iopub.execute_input": "2023-01-06T15:31:15.272191Z",
     "iopub.status.busy": "2023-01-06T15:31:15.271776Z",
     "iopub.status.idle": "2023-01-06T15:31:17.980811Z",
     "shell.execute_reply": "2023-01-06T15:31:17.980141Z",
     "shell.execute_reply.started": "2023-01-06T15:31:15.272171Z"
    },
    "tags": []
   },
   "outputs": [],
   "source": [
    "import numpy as np\n",
    "import matplotlib.pyplot as plt\n",
    "import astropy.io.fits as pf\n",
    "import lsst.afw.cameraGeom.utils as camGeomUtils\n",
    "from lsst.ip.isr import IsrTask, IsrTaskConfig\n",
    "from mpl_toolkits.axes_grid1 import make_axes_locatable\n",
    "from matplotlib.colors import LogNorm\n",
    "\n",
    "from lsst.summit.utils import quickSmooth\n",
    "%matplotlib inline\n",
    "\n",
    "from lsst.pipe.tasks.characterizeImage import CharacterizeImageTask\n",
    "from lsst.meas.algorithms.installGaussianPsf import InstallGaussianPsfTask"
   ]
  },
  {
   "cell_type": "code",
   "execution_count": null,
   "metadata": {
    "execution": {
     "iopub.execute_input": "2023-01-06T15:31:17.983609Z",
     "iopub.status.busy": "2023-01-06T15:31:17.983442Z",
     "iopub.status.idle": "2023-01-06T15:31:18.994766Z",
     "shell.execute_reply": "2023-01-06T15:31:18.994152Z",
     "shell.execute_reply.started": "2023-01-06T15:31:17.983591Z"
    },
    "tags": []
   },
   "outputs": [],
   "source": [
    "from lsst.daf.butler import Butler\n",
    "butler = Butler('/repo/embargo', collections=[\"LATISS/raw/all\", \"u/cslage/sdf/calib/latiss/calib_parallel_20230106\"])"
   ]
  },
  {
   "cell_type": "code",
   "execution_count": null,
   "metadata": {
    "execution": {
     "iopub.execute_input": "2023-01-06T16:25:26.328746Z",
     "iopub.status.busy": "2023-01-06T16:25:26.328495Z",
     "iopub.status.idle": "2023-01-06T16:25:26.335652Z",
     "shell.execute_reply": "2023-01-06T16:25:26.335042Z",
     "shell.execute_reply.started": "2023-01-06T16:25:26.328728Z"
    },
    "tags": []
   },
   "outputs": [],
   "source": [
    "def plotExp(exp):\n",
    "    # Borrowed from summit utils\n",
    "    data = quickSmooth(exp.image.array, 1)\n",
    "    vmin = np.nanpercentile(data, 1)\n",
    "    vmax = np.nanpercentile(data, 99)\n",
    "    print(vmin, vmax)\n",
    "    figure = plt.figure(figsize=(12,12))\n",
    "    figure.clear()\n",
    "    ax1 = figure.add_subplot(111)\n",
    "    im1 = ax1.imshow(data, cmap='gray', origin='lower', vmin=vmin, vmax=vmax)\n",
    "    ax1.tick_params(which=\"major\", direction=\"in\", top=True, right=True, labelsize=8)\n",
    "    divider = make_axes_locatable(ax1)\n",
    "    cax = divider.append_axes(\"right\", size=\"5%\", pad=0.05)\n",
    "    plt.colorbar(im1, cax=cax)\n",
    "    plt.tight_layout()\n",
    "    #plt.show()\n",
    "    return figure\n",
    "\n",
    " \n",
    "def repairCosmics(postIsr):\n",
    "    # Borrowed from summit utils\n",
    "    if postIsr.getPsf() is None:\n",
    "        installPsfTask = InstallGaussianPsfTask()\n",
    "        installPsfTask.run(postIsr)\n",
    "\n",
    "    # TODO: try adding a reasonably wide Gaussian as a temp PSF\n",
    "    # and then just running repairTask on its own without any\n",
    "    # imChar. It should work, and be faster.\n",
    "    repairConfig = CharacterizeImageTask.ConfigClass()\n",
    "    repairConfig.doMeasurePsf = False\n",
    "    repairConfig.doApCorr = False\n",
    "    repairConfig.doDeblend = False\n",
    "    repairConfig.doWrite = False\n",
    "    repairConfig.repair.cosmicray.nCrPixelMax = 200000\n",
    "    repairTask = CharacterizeImageTask(config=repairConfig)\n",
    "    repairTask.repair.run(postIsr)\n",
    "    return"
   ]
  },
  {
   "cell_type": "markdown",
   "metadata": {},
   "source": [
    "# Run the same image as before, with parallel overscan subtraction\n"
   ]
  },
  {
   "cell_type": "code",
   "execution_count": null,
   "metadata": {
    "execution": {
     "iopub.execute_input": "2023-01-06T16:11:22.127886Z",
     "iopub.status.busy": "2023-01-06T16:11:22.127626Z",
     "iopub.status.idle": "2023-01-06T16:11:22.157324Z",
     "shell.execute_reply": "2023-01-06T16:11:22.156701Z",
     "shell.execute_reply.started": "2023-01-06T16:11:22.127866Z"
    },
    "tags": []
   },
   "outputs": [],
   "source": [
    "isrConfig = IsrTaskConfig()\n",
    "isrConfig.overscan.fitType=\"MEDIAN_PER_ROW\"\n",
    "isrConfig.overscan.doParallelOverscan=True\n",
    "isrConfig.doLinearize=False\n",
    "isrConfig.doOverscan=True\n",
    "isrConfig.doAssembleCcd=True\n",
    "isrConfig.doBias=True\n",
    "isrConfig.doVariance=True\n",
    "isrConfig.doLinearize=False\n",
    "isrConfig.doCrosstalk=False\n",
    "isrConfig.doBrighterFatter=False\n",
    "isrConfig.doDark=False\n",
    "isrConfig.doStrayLight=False\n",
    "isrConfig.doFlat=True\n",
    "isrConfig.doFringe=False\n",
    "isrConfig.doApplyGains=False\n",
    "isrConfig.doDefect=True\n",
    "isrConfig.doNanMasking=True\n",
    "isrConfig.doInterpolate=True\n",
    "isrConfig.doSaturation=True\n",
    "isrConfig.doSaturationInterpolation=True\n",
    "isrConfig.doWrite=False\n",
    "isrTask = IsrTask(config=isrConfig)"
   ]
  },
  {
   "cell_type": "code",
   "execution_count": null,
   "metadata": {
    "execution": {
     "iopub.execute_input": "2023-01-06T16:25:28.977905Z",
     "iopub.status.busy": "2023-01-06T16:25:28.977039Z",
     "iopub.status.idle": "2023-01-06T16:25:40.175403Z",
     "shell.execute_reply": "2023-01-06T16:25:40.174572Z",
     "shell.execute_reply.started": "2023-01-06T16:25:28.977881Z"
    },
    "tags": []
   },
   "outputs": [],
   "source": [
    "expId=2022121200752\n",
    "exp = butler.get('raw', detector=0, exposure=expId)\n",
    "biasExp = butler.get('bias', detector=0, exposure=expId)\n",
    "flatExp = butler.get('flat', detector=0, exposure=expId)\n",
    "darkExp = butler.get('dark', detector=0, exposure=expId)\n",
    "defectExp = butler.get('defects', detector=0, exposure=expId)\n",
    "isrResult = isrTask.run(exp, bias=biasExp, flat=flatExp, dark=darkExp, defects=defectExp)\n",
    "postIsrExp = isrResult.exposure\n",
    "repairCosmics(postIsrExp)\n",
    "fig = plotExp(postIsrExp)\n",
    "plt.savefig(f\"/home/c/cslage/u/AuxTel/isr/isr_study_04jan23/Parallel_Overscan_{expId}_06Jan23.png\")"
   ]
  },
  {
   "cell_type": "code",
   "execution_count": null,
   "metadata": {
    "execution": {
     "iopub.execute_input": "2023-01-06T15:31:54.668002Z",
     "iopub.status.busy": "2023-01-06T15:31:54.667603Z",
     "iopub.status.idle": "2023-01-06T15:31:55.106271Z",
     "shell.execute_reply": "2023-01-06T15:31:55.105770Z",
     "shell.execute_reply.started": "2023-01-06T15:31:54.667979Z"
    },
    "tags": []
   },
   "outputs": [],
   "source": [
    "pixelHist = postIsrExp.image.array.flatten()\n",
    "pixelHist = np.clip(pixelHist, -40.0,40.0)\n",
    "mean = np.mean(pixelHist)\n",
    "std = np.std(pixelHist)\n",
    "plt.title(\"Parallel Overscan ISR pixel distribution\")\n",
    "plt.hist(pixelHist, range=(-40,40))\n",
    "plt.text(-30.0, 5.0E6, f\"Mean = {mean:.2f}\")\n",
    "plt.text(-30.0, 4.0E6, f\"Std = {std:.2f}\")\n",
    "plt.savefig(f\"/home/c/cslage/u/AuxTel/isr/isr_study_04jan23/Parallel_Overscan_Sigma_06Jan23.pdf\")"
   ]
  },
  {
   "cell_type": "code",
   "execution_count": null,
   "metadata": {
    "execution": {
     "iopub.execute_input": "2023-01-06T16:17:29.333460Z",
     "iopub.status.busy": "2023-01-06T16:17:29.333187Z",
     "iopub.status.idle": "2023-01-06T16:17:29.413974Z",
     "shell.execute_reply": "2023-01-06T16:17:29.413373Z",
     "shell.execute_reply.started": "2023-01-06T16:17:29.333441Z"
    },
    "tags": []
   },
   "outputs": [],
   "source": [
    "plt.imshow(postIsrExp.image.array[3500:4000, 550:650], interpolation='nearest',vmin=1, vmax=100)"
   ]
  },
  {
   "cell_type": "markdown",
   "metadata": {},
   "source": [
    " ### Look at median signal and master bias"
   ]
  },
  {
   "cell_type": "code",
   "execution_count": null,
   "metadata": {
    "execution": {
     "iopub.execute_input": "2023-01-06T16:52:10.673531Z",
     "iopub.status.busy": "2023-01-06T16:52:10.672782Z",
     "iopub.status.idle": "2023-01-06T16:52:10.705006Z",
     "shell.execute_reply": "2023-01-06T16:52:10.704435Z",
     "shell.execute_reply.started": "2023-01-06T16:52:10.673505Z"
    },
    "tags": []
   },
   "outputs": [],
   "source": [
    "isrConfig = IsrTaskConfig()\n",
    "isrConfig.doLinearize=False\n",
    "isrConfig.overscan.fitType=\"MEDIAN_PER_ROW\"\n",
    "isrConfig.doOverscan=True\n",
    "isrConfig.overscan.doParallelOverscan=True\n",
    "isrConfig.doAssembleCcd=True\n",
    "isrConfig.doBias=False\n",
    "isrConfig.doVariance=True\n",
    "isrConfig.doLinearize=False\n",
    "isrConfig.doCrosstalk=False\n",
    "isrConfig.doBrighterFatter=False\n",
    "isrConfig.doDark=False\n",
    "isrConfig.doStrayLight=False\n",
    "isrConfig.doFlat=False\n",
    "isrConfig.doFringe=False\n",
    "isrConfig.doApplyGains=False\n",
    "isrConfig.doDefect=False\n",
    "isrConfig.doNanMasking=True\n",
    "isrConfig.doInterpolate=True\n",
    "isrConfig.doSaturation=True\n",
    "isrConfig.doSaturationInterpolation=True\n",
    "isrTask = IsrTask(config=isrConfig)"
   ]
  },
  {
   "cell_type": "code",
   "execution_count": null,
   "metadata": {
    "execution": {
     "iopub.execute_input": "2023-01-06T16:54:04.207522Z",
     "iopub.status.busy": "2023-01-06T16:54:04.207272Z",
     "iopub.status.idle": "2023-01-06T16:54:08.896653Z",
     "shell.execute_reply": "2023-01-06T16:54:08.896005Z",
     "shell.execute_reply.started": "2023-01-06T16:54:04.207504Z"
    },
    "tags": []
   },
   "outputs": [],
   "source": [
    "fig = plt.figure()\n",
    "plt.subplots_adjust(hspace=0.5, wspace=0.5)\n",
    "\n",
    "exp = butler.get('raw', detector=0, exposure=expId)\n",
    "isrResult = isrTask.run(exp)\n",
    "rawPlot = np.median(isrResult.exposure.image.array[2100:3900, 0:4000], axis=0)\n",
    "rawPlot -= np.median(rawPlot)\n",
    "biasPlot = np.median(biasExp.image.array[2100:3900, 0:4000], axis=0)\n",
    "biasPlot -= np.median(biasPlot)\n",
    "plt.subplot(2,1,1)\n",
    "plt.title(f\"Parallel Overscan Debug - Top\")\n",
    "plt.plot(rawPlot, label=\"Raw\")\n",
    "plt.plot(biasPlot, ls = '--', label=\"MasterBias\")\n",
    "for i in range(8):\n",
    "    x = 509 * i\n",
    "    ymin = -10\n",
    "    ymax = 10\n",
    "    plt.plot([x, x], [ymin, ymax], ls = '--', lw=1, color = 'black')\n",
    "plt.xlim(0,4000)\n",
    "plt.ylim(-10,10)\n",
    "plt.legend()\n",
    "plt.xlabel(\"X coord (pixels)\")\n",
    "plt.ylabel(\"ADU\")\n",
    "rawPlot = np.median(isrResult.exposure.image.array[100:1900, 0:4000], axis=0)\n",
    "rawPlot -= np.median(rawPlot)\n",
    "biasPlot = np.median(biasExp.image.array[100:1900, 0:4000], axis=0)\n",
    "biasPlot -= np.median(biasPlot)\n",
    "plt.subplot(2,1,2)\n",
    "plt.title(f\"Parallel Overscan Debug - Bottom\")\n",
    "plt.plot(rawPlot, label=\"Raw\")\n",
    "plt.plot(biasPlot, ls = '--', label=\"MasterBias\")\n",
    "for i in range(8):\n",
    "    x = 509 * i\n",
    "    ymin = -10\n",
    "    ymax = 10\n",
    "    plt.plot([x, x], [ymin, ymax], ls = '--', lw=1, color = 'black')\n",
    "plt.xlim(0,4000)\n",
    "plt.ylim(-10,10)\n",
    "plt.legend()\n",
    "plt.xlabel(\"X coord (pixels)\")\n",
    "plt.ylabel(\"ADU\")\n",
    "\n",
    "fig.savefig(f\"/home/c/cslage/u/AuxTel/isr/isr_study_04jan23/Parallel_Overscan_Bias_Stability_{expId}_06Jan23.png\")"
   ]
  },
  {
   "cell_type": "code",
   "execution_count": null,
   "metadata": {
    "execution": {
     "iopub.execute_input": "2023-01-06T16:27:10.682248Z",
     "iopub.status.busy": "2023-01-06T16:27:10.681952Z",
     "iopub.status.idle": "2023-01-06T16:27:10.685344Z",
     "shell.execute_reply": "2023-01-06T16:27:10.684740Z",
     "shell.execute_reply.started": "2023-01-06T16:27:10.682228Z"
    }
   },
   "outputs": [],
   "source": [
    "maskIm = postIsrExp.getMaskedImage()"
   ]
  },
  {
   "cell_type": "code",
   "execution_count": null,
   "metadata": {
    "execution": {
     "iopub.execute_input": "2023-01-06T16:27:56.895147Z",
     "iopub.status.busy": "2023-01-06T16:27:56.894833Z",
     "iopub.status.idle": "2023-01-06T16:27:56.898884Z",
     "shell.execute_reply": "2023-01-06T16:27:56.898443Z",
     "shell.execute_reply.started": "2023-01-06T16:27:56.895126Z"
    },
    "tags": []
   },
   "outputs": [],
   "source": [
    "maskIm.getMask().array.shape"
   ]
  },
  {
   "cell_type": "code",
   "execution_count": null,
   "metadata": {
    "execution": {
     "iopub.execute_input": "2023-01-06T16:30:43.239895Z",
     "iopub.status.busy": "2023-01-06T16:30:43.239637Z",
     "iopub.status.idle": "2023-01-06T16:30:43.244422Z",
     "shell.execute_reply": "2023-01-06T16:30:43.243855Z",
     "shell.execute_reply.started": "2023-01-06T16:30:43.239874Z"
    }
   },
   "outputs": [],
   "source": [
    "def plotMask(exp):\n",
    "    mask = exp.getMaskedImage().getMask().array\n",
    "    figure = plt.figure(figsize=(10,10))\n",
    "    figure.clear()\n",
    "    ax1 = figure.add_subplot(111)\n",
    "    im1 = ax1.imshow(mask, cmap='gray', origin='lower', interpolation='nearest')\n",
    "    ax1.tick_params(which=\"major\", direction=\"in\", top=True, right=True, labelsize=8)\n"
   ]
  },
  {
   "cell_type": "code",
   "execution_count": null,
   "metadata": {
    "execution": {
     "iopub.execute_input": "2023-01-06T16:30:59.217233Z",
     "iopub.status.busy": "2023-01-06T16:30:59.216831Z",
     "iopub.status.idle": "2023-01-06T16:30:59.962911Z",
     "shell.execute_reply": "2023-01-06T16:30:59.962307Z",
     "shell.execute_reply.started": "2023-01-06T16:30:59.217210Z"
    }
   },
   "outputs": [],
   "source": [
    "plotMask(postIsrExp)"
   ]
  },
  {
   "cell_type": "code",
   "execution_count": null,
   "metadata": {},
   "outputs": [],
   "source": []
  }
 ],
 "metadata": {
  "kernelspec": {
   "display_name": "LSST",
   "language": "python",
   "name": "lsst"
  },
  "language_info": {
   "codemirror_mode": {
    "name": "ipython",
    "version": 3
   },
   "file_extension": ".py",
   "mimetype": "text/x-python",
   "name": "python",
   "nbconvert_exporter": "python",
   "pygments_lexer": "ipython3",
   "version": "3.10.8"
  }
 },
 "nbformat": 4,
 "nbformat_minor": 4
}
