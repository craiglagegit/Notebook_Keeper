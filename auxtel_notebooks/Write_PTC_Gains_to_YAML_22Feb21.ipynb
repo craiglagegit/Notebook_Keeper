{
 "cells": [
  {
   "cell_type": "markdown",
   "metadata": {},
   "source": [
    "# Notebook for taking gains extracted from PTC and writing them to a yaml file.\n",
    "\n",
    "Initially written 09 Mar 2020 by Craig Lage.\\\n",
    "Updated 18 Mar 20 to use empirical read noise"
   ]
  },
  {
   "cell_type": "code",
   "execution_count": null,
   "metadata": {},
   "outputs": [],
   "source": [
    "! eups list -s | grep lsst_distrib\n",
    "! eups list -s obs_lsst"
   ]
  },
  {
   "cell_type": "code",
   "execution_count": null,
   "metadata": {},
   "outputs": [],
   "source": [
    "from lsst.daf.persistence import Butler\n",
    "import sys, os, glob\n",
    "import pickle as pkl\n",
    "import numpy as np\n",
    "import matplotlib.pyplot as plt\n",
    "import astropy.io.fits as pf\n",
    "from lsst.ip.isr import PhotonTransferCurveDataset"
   ]
  },
  {
   "cell_type": "code",
   "execution_count": null,
   "metadata": {
    "jupyter": {
     "outputs_hidden": true
    }
   },
   "outputs": [],
   "source": [
    "REPO_DIR = '/project/shared/auxTel/'\n",
    "GAIN_DIR = '/project/shared/auxTel/rerun/cslage/PTC_Defect_2021-02-18/'\n",
    "noise_file = '/project/cslage/AuxTel/noise/empirical_read_noise_17mar21.out'\n",
    "butler = Butler(GAIN_DIR)\n",
    "dataId = {'dayObs':'2021-02-18','detector':0, 'expId':2021021800100}"
   ]
  },
  {
   "cell_type": "code",
   "execution_count": null,
   "metadata": {},
   "outputs": [],
   "source": [
    "numAmps = 16\n",
    "# Get the empirical read noise file\n",
    "file = open(noise_file, 'r')\n",
    "noise_lines = file.readlines()\n",
    "file.close()\n",
    "\n",
    "# Get the yaml file\n",
    "file = open('/home/cslage/alternate_branches/obs_lsst/policy/latiss/RXX.yaml', 'r')\n",
    "lines = file.readlines()\n",
    "file.close()\n",
    "\n",
    "file = open('/home/cslage/alternate_branches/obs_lsst/policy/latiss/test.yaml', 'w')\n",
    "# First, copy the header lines from the old file\n",
    "for i in range(9):\n",
    "    file.write(lines[i])\n",
    "\n",
    "# Get the gain/noise data\n",
    "datasetFile = GAIN_DIR+'/calibrations/ptc/ptcDataset-det000.fits'\n",
    "ptc_data = PhotonTransferCurveDataset.readFits(datasetFile)\n",
    "gain = ptc_data.gain\n",
    "oldNoises = ptc_data.noise\n",
    "\n",
    "raw = butler.get('raw', dataId=dataId)\n",
    "ccd = raw.getDetector()\n",
    "\n",
    "for amp in ccd:\n",
    "    ampName = amp.getName()\n",
    "    newGain = gain[ampName]\n",
    "    oldNoise = oldNoises[ampName]\n",
    "    noise = 0.0\n",
    "    numNoises = 0\n",
    "    for line in noise_lines:\n",
    "        items = line.split(' ')\n",
    "        thisAmpName = items[-2].strip(':')\n",
    "        if ampName == thisAmpName:\n",
    "            noise += float(items[-1].rstrip().strip('.'))\n",
    "            numNoises += 1\n",
    "    newNoise = noise / float(numNoises)\n",
    "    print(ampName, newNoise, oldNoise)\n",
    "    newLine = '      %s : { gain : %.4f, readNoise : %.1f }\\n'%(ampName, newGain, newNoise)\n",
    "    file.write(newLine)\n",
    "file.close()\n"
   ]
  },
  {
   "cell_type": "code",
   "execution_count": null,
   "metadata": {},
   "outputs": [],
   "source": []
  }
 ],
 "metadata": {
  "kernelspec": {
   "display_name": "LSST",
   "language": "python",
   "name": "lsst"
  },
  "language_info": {
   "codemirror_mode": {
    "name": "ipython",
    "version": 3
   },
   "file_extension": ".py",
   "mimetype": "text/x-python",
   "name": "python",
   "nbconvert_exporter": "python",
   "pygments_lexer": "ipython3",
   "version": "3.8.8"
  }
 },
 "nbformat": 4,
 "nbformat_minor": 4
}
