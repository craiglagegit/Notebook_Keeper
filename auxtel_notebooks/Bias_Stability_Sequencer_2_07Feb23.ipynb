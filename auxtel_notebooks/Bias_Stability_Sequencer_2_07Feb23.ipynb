{
 "cells": [
  {
   "cell_type": "markdown",
   "metadata": {},
   "source": [
    "# Bias wave stability\n",
    "\n",
    "Looking at the impact of sequencer changes on the bias wave\\\n",
    "and large variations at the beginning of the serial read.\\\n",
    "Craig Lage - 07-Feb-23 - Sequencer files were created by Yousuke Utsumi and Stuart Marshall"
   ]
  },
  {
   "cell_type": "code",
   "execution_count": null,
   "metadata": {
    "execution": {
     "iopub.execute_input": "2023-02-08T18:09:28.532868Z",
     "iopub.status.busy": "2023-02-08T18:09:28.532554Z",
     "iopub.status.idle": "2023-02-08T18:09:30.267498Z",
     "shell.execute_reply": "2023-02-08T18:09:30.266831Z",
     "shell.execute_reply.started": "2023-02-08T18:09:28.532850Z"
    },
    "tags": []
   },
   "outputs": [],
   "source": [
    "import numpy as np\n",
    "import matplotlib.pyplot as plt\n",
    "import astropy.io.fits as pf\n",
    "from lsst.ip.isr import IsrTask, IsrTaskConfig\n",
    "import lsst.afw.display as afwDisplay\n",
    "import lsst.geom as geom"
   ]
  },
  {
   "cell_type": "code",
   "execution_count": null,
   "metadata": {
    "execution": {
     "iopub.execute_input": "2023-02-08T18:09:30.270300Z",
     "iopub.status.busy": "2023-02-08T18:09:30.269952Z",
     "iopub.status.idle": "2023-02-08T18:09:31.402256Z",
     "shell.execute_reply": "2023-02-08T18:09:31.401635Z",
     "shell.execute_reply.started": "2023-02-08T18:09:30.270281Z"
    },
    "tags": []
   },
   "outputs": [],
   "source": [
    "from lsst.daf.butler import Butler\n",
    "butler = Butler('/repo/embargo', collections=[\"LATISS/raw/all\", \"LATISS/calib\"])"
   ]
  },
  {
   "cell_type": "markdown",
   "metadata": {},
   "source": [
    "## First, we look at the impact of the more conventional sequencer changes"
   ]
  },
  {
   "cell_type": "code",
   "execution_count": null,
   "metadata": {
    "execution": {
     "iopub.execute_input": "2023-02-08T18:09:31.403213Z",
     "iopub.status.busy": "2023-02-08T18:09:31.403033Z",
     "iopub.status.idle": "2023-02-08T18:09:31.431131Z",
     "shell.execute_reply": "2023-02-08T18:09:31.430656Z",
     "shell.execute_reply.started": "2023-02-08T18:09:31.403196Z"
    },
    "tags": []
   },
   "outputs": [],
   "source": [
    "isrConfig = IsrTaskConfig()\n",
    "isrConfig.doLinearize=False\n",
    "isrConfig.doOverscan=True\n",
    "isrConfig.doAssembleCcd=True\n",
    "isrConfig.doBias=False\n",
    "isrConfig.doVariance=True\n",
    "isrConfig.doLinearize=False\n",
    "isrConfig.doCrosstalk=False\n",
    "isrConfig.doBrighterFatter=False\n",
    "isrConfig.doDark=False\n",
    "isrConfig.doStrayLight=False\n",
    "isrConfig.doFlat=False\n",
    "isrConfig.doFringe=False\n",
    "isrConfig.doApplyGains=False\n",
    "isrConfig.doDefect=False\n",
    "isrConfig.doNanMasking=True\n",
    "isrConfig.doInterpolate=False\n",
    "isrConfig.doSaturation=False\n",
    "isrConfig.doSaturationInterpolation=False\n",
    "isrTask = IsrTask(config=isrConfig)"
   ]
  },
  {
   "cell_type": "code",
   "execution_count": null,
   "metadata": {
    "execution": {
     "iopub.execute_input": "2023-02-08T18:09:31.432200Z",
     "iopub.status.busy": "2023-02-08T18:09:31.431787Z",
     "iopub.status.idle": "2023-02-08T18:09:50.707347Z",
     "shell.execute_reply": "2023-02-08T18:09:50.706754Z",
     "shell.execute_reply.started": "2023-02-08T18:09:31.432183Z"
    },
    "tags": []
   },
   "outputs": [],
   "source": [
    "bias = butler.get('bias', detector=0, exposure=2022110800013)\n",
    "biasArr = bias.image.array\n",
    "plt.title(\"AuxTel bias stability - Amp C10\")\n",
    "names = ['Baseline','Baseline', '3 Sec', '1 ms Par delay', 'Baseline']\n",
    "for i, expId in enumerate([2022110300020, 2023020700009, 2023020700130, 2023020700150, 2023020700170]):\n",
    "    exp = butler.get('raw', detector=0, exposure=expId)\n",
    "    #biasExp = butler.get('bias', detector=0, exposure=expId)\n",
    "    isrResult = isrTask.run(exp)\n",
    "    arr = isrResult.exposure.image.array\n",
    "    plt.plot(np.mean(arr[2100:3900, 0:400], axis=0), label=f\"{expId}:{names[i]}\")\n",
    "    plt.ylim(-6,6)\n",
    "plt.plot(np.mean(biasArr[2100:3900, 0:400], axis=0), ls='--', lw=2, color='black', label=\"Master bias\")\n",
    "plt.legend(bbox_to_anchor=(0.55, 0.4))\n",
    "plt.xlabel(\"X coord (pixels)\")\n",
    "plt.ylabel(\"ADU\")\n",
    "plt.savefig(\"/home/c/cslage/u/AuxTel/isr/sequencer_tests_07feb23/Bias_Stability_Sequencer_Amp_C10.pdf\")"
   ]
  },
  {
   "cell_type": "code",
   "execution_count": null,
   "metadata": {
    "execution": {
     "iopub.execute_input": "2023-02-08T18:09:50.708832Z",
     "iopub.status.busy": "2023-02-08T18:09:50.708163Z",
     "iopub.status.idle": "2023-02-08T18:10:05.106567Z",
     "shell.execute_reply": "2023-02-08T18:10:05.105949Z",
     "shell.execute_reply.started": "2023-02-08T18:09:50.708814Z"
    },
    "tags": []
   },
   "outputs": [],
   "source": [
    "bias = butler.get('bias', detector=0, exposure=2022110800013)\n",
    "biasArr = bias.image.array\n",
    "plt.title(\"AuxTel bias stability - Amp C10\")\n",
    "plt.subplot(2,1,1)\n",
    "names = ['Baseline','Baseline', '3 Sec', '1ms Par delay', 'Baseline']\n",
    "for i, expId in enumerate([2022110300020, 2023020700009, 2023020700130, 2023020700150, 2023020700170]):\n",
    "    exp = butler.get('raw', detector=0, exposure=expId)\n",
    "    #biasExp = butler.get('bias', detector=0, exposure=expId)\n",
    "    isrResult = isrTask.run(exp)\n",
    "    arr = isrResult.exposure.image.array\n",
    "    plt.plot(np.mean(arr[2100:3900, :], axis=0), label=f\"{expId}-{names[i]}\")\n",
    "plt.ylim(-40,40)\n",
    "plt.plot(np.mean(biasArr[2100:3900, :], axis=0), ls='--', lw=2, color='black', label=\"Master bias\")\n",
    "plt.legend(bbox_to_anchor=(0.8, -0.3))\n",
    "plt.xlabel(\"X coord (pixels)\")\n",
    "plt.ylabel(\"ADU\")\n",
    "plt.xlim(475,509)\n",
    "plt.subplot(2,1,2)\n",
    "plt.axis('off')\n",
    "plt.savefig(\"/home/c/cslage/u/AuxTel/isr/sequencer_tests_07feb23/Bias_Stability_2_Sequencer_Amp_C10.pdf\")"
   ]
  },
  {
   "cell_type": "markdown",
   "metadata": {},
   "source": [
    "## Next, we look at an image with the parallel \"underscan\" \n",
    "### For this, we need to do the serial overscan subtraction manually\n",
    "### These images, instead of the usual 48 parallel overscan rows, have 10 parallel underscan rows and 38 parallel overscan rows."
   ]
  },
  {
   "cell_type": "code",
   "execution_count": null,
   "metadata": {
    "execution": {
     "iopub.execute_input": "2023-02-08T18:10:05.107628Z",
     "iopub.status.busy": "2023-02-08T18:10:05.107400Z",
     "iopub.status.idle": "2023-02-08T18:10:05.113687Z",
     "shell.execute_reply": "2023-02-08T18:10:05.113171Z",
     "shell.execute_reply.started": "2023-02-08T18:10:05.107610Z"
    },
    "tags": []
   },
   "outputs": [],
   "source": [
    "# This is pulled out of ip_isr/overscan.py\n",
    "# It basically takes a 1D array of overscan values and \"broadcasts\"\n",
    "# then to 1 2D array that can be subtracted from the whole amp array\n",
    "def broadcastFitToImage(overscanValue, imageArray, transpose=False):\n",
    "        if isinstance(overscanValue, np.ndarray):\n",
    "            overscanModel = np.zeros_like(imageArray)\n",
    "\n",
    "            if transpose is False:\n",
    "                if imageArray.shape[0] == overscanValue.shape[0]:\n",
    "                    overscanModel[:, :] = overscanValue[:, np.newaxis]\n",
    "                elif imageArray.shape[1] == overscanValue.shape[0]:\n",
    "                    overscanModel[:, :] = overscanValue[np.newaxis, :]\n",
    "                elif imageArray.shape[0] == overscanValue.shape[1]:\n",
    "                    overscanModel[:, :] = overscanValue[np.newaxis, :]\n",
    "                else:\n",
    "                    raise RuntimeError(f\"Could not broadcast {overscanValue.shape} to \"\n",
    "                                       f\"match {imageArray.shape}\")\n",
    "            else:\n",
    "                if imageArray.shape[1] == overscanValue.shape[0]:\n",
    "                    overscanModel[:, :] = overscanValue[np.newaxis, :]\n",
    "                elif imageArray.shape[0] == overscanValue.shape[0]:\n",
    "                    overscanModel[:, :] = overscanValue[:, np.newaxis]\n",
    "                elif imageArray.shape[1] == overscanValue.shape[1]:\n",
    "                    overscanModel[:, :] = overscanValue[:, np.newaxis]\n",
    "                else:\n",
    "                    raise RuntimeError(f\"Could not broadcast {overscanValue.shape} to \"\n",
    "                                       f\"match {imageArray.shape}\")\n",
    "        else:\n",
    "            overscanModel = overscanValue\n",
    "\n",
    "        return overscanModel"
   ]
  },
  {
   "cell_type": "markdown",
   "metadata": {},
   "source": [
    "### First, we run an image with parallel underscan"
   ]
  },
  {
   "cell_type": "code",
   "execution_count": null,
   "metadata": {
    "execution": {
     "iopub.execute_input": "2023-02-08T18:10:05.114603Z",
     "iopub.status.busy": "2023-02-08T18:10:05.114361Z",
     "iopub.status.idle": "2023-02-08T18:10:05.743579Z",
     "shell.execute_reply": "2023-02-08T18:10:05.742879Z",
     "shell.execute_reply.started": "2023-02-08T18:10:05.114587Z"
    },
    "tags": []
   },
   "outputs": [],
   "source": [
    "# This subtracts the serial overscan region\n",
    "skipCols = 4 # Number of columns to skip at the front and back of the serial overscan region\n",
    "\n",
    "expId = 2023020700110 # Using parallel underscan\n",
    "exposure = butler.get('raw', detector=0, exposure=expId)\n",
    "isTransposed = False\n",
    "for amp in exposure.getDetector().getAmplifiers():\n",
    "    serialOverscanBBox = amp.getRawSerialOverscanBBox()\n",
    "    imageBBox = amp.getRawDataBBox()\n",
    "    parallelOverscanBBox = amp.getRawParallelOverscanBBox()\n",
    "    imageBBox = imageBBox.expandedTo(parallelOverscanBBox)\n",
    "\n",
    "    serialOverscanBBox = geom.Box2I(geom.Point2I(serialOverscanBBox.getMinX()+skipCols,\n",
    "                                                 imageBBox.getMinY()),\n",
    "                                    geom.Extent2I(serialOverscanBBox.getWidth()-2*skipCols,\n",
    "                                                  imageBBox.getHeight()))\n",
    "    overscan = np.nanmedian(exposure[serialOverscanBBox].image.array, axis=1)\n",
    "    imageArray = exposure[amp.getRawBBox()].image.array\n",
    "    overscanModel = broadcastFitToImage(overscan, imageArray, transpose=False)\n",
    "    exposure[amp.getRawBBox()].image.array -= overscanModel"
   ]
  },
  {
   "cell_type": "code",
   "execution_count": null,
   "metadata": {
    "execution": {
     "iopub.execute_input": "2023-02-08T18:10:05.744642Z",
     "iopub.status.busy": "2023-02-08T18:10:05.744472Z",
     "iopub.status.idle": "2023-02-08T18:10:06.523217Z",
     "shell.execute_reply": "2023-02-08T18:10:06.522636Z",
     "shell.execute_reply.started": "2023-02-08T18:10:05.744626Z"
    },
    "tags": []
   },
   "outputs": [],
   "source": [
    "arr = exposure.image.array\n",
    "ymin = 2200\n",
    "ymax = 3900\n",
    "arrMedian = np.mean(arr[ymin:ymax, :], axis=0)\n",
    "fig = plt.figure(figsize=(8,12))\n",
    "plt.subplots_adjust(hspace=0.5)\n",
    "plt.suptitle(f\"With parallel underscan - {expId}\", fontsize=18)\n",
    "plt.subplot(3,2,1)\n",
    "plt.title(f\"Wave: Imaging region \\n y={ymin}:{ymax}\")\n",
    "plt.plot(arrMedian)\n",
    "plt.xlim(0,450)\n",
    "plt.ylim(-6,6)\n",
    "plt.subplot(3,2,2)\n",
    "plt.title(f\"Start of serial: Imaging region \\n y={ymin}:{ymax}\")\n",
    "plt.plot(arrMedian)\n",
    "plt.xlim(538, 572)\n",
    "plt.ylim(-40,40)\n",
    "ymin = 2050\n",
    "ymax = 2085\n",
    "arrMedian = np.mean(arr[ymin:ymax, :], axis=0)\n",
    "plt.subplot(3,2,3)\n",
    "plt.title(f\"Wave: Parallel overscan region \\n y={ymin}:{ymax}\")\n",
    "plt.plot(arrMedian)\n",
    "plt.xlim(0,450)\n",
    "plt.ylim(-6,6)\n",
    "plt.subplot(3,2,4)\n",
    "plt.title(f\"Start of serial: Parallel overscan region \\n y={ymin}:{ymax}\")\n",
    "plt.plot(arrMedian)\n",
    "plt.xlim(538, 572)\n",
    "plt.ylim(-40,40)\n",
    "ymin = 4087\n",
    "ymax = 4094\n",
    "arrMedian = np.mean(arr[ymin:ymax, :], axis=0)\n",
    "plt.subplot(3,2,5)\n",
    "plt.title(f\"Wave: Parallel underscan region \\n y={ymin}:{ymax}\")\n",
    "plt.plot(arrMedian)\n",
    "plt.xlim(0,450)\n",
    "plt.ylim(-6,6)\n",
    "plt.subplot(3,2,6)\n",
    "plt.title(f\"Start of serial: Parallel underscan region \\n y={ymin}:{ymax}\")\n",
    "plt.plot(arrMedian)\n",
    "plt.xlim(538, 572)\n",
    "plt.ylim(-40,40)\n",
    "plt.savefig(\"/home/c/cslage/u/AuxTel/isr/sequencer_tests_07feb23/Parallel_Underscan_Corrected_Amp_C10.pdf\")"
   ]
  },
  {
   "cell_type": "code",
   "execution_count": null,
   "metadata": {
    "execution": {
     "iopub.execute_input": "2023-02-08T18:10:06.524350Z",
     "iopub.status.busy": "2023-02-08T18:10:06.524038Z",
     "iopub.status.idle": "2023-02-08T18:10:07.326816Z",
     "shell.execute_reply": "2023-02-08T18:10:07.326170Z",
     "shell.execute_reply.started": "2023-02-08T18:10:06.524331Z"
    },
    "tags": []
   },
   "outputs": [],
   "source": [
    "arr = exposure.image.array\n",
    "ymin = 2200\n",
    "ymax = 3900\n",
    "arrMedian = np.mean(arr[ymin:ymax, :], axis=0)\n",
    "fig = plt.figure(figsize=(8,12))\n",
    "plt.subplots_adjust(hspace=0.5)\n",
    "plt.suptitle(f\"With parallel underscan - {expId}\", fontsize=18)\n",
    "plt.subplot(3,2,1)\n",
    "plt.title(f\"Wave: Imaging region \\n y={ymin}:{ymax}\")\n",
    "plt.plot(arrMedian)\n",
    "plt.xlim(0+576,450+576)\n",
    "plt.ylim(-6,10)\n",
    "plt.subplot(3,2,2)\n",
    "plt.title(f\"Start of serial: Imaging region \\n y={ymin}:{ymax}\")\n",
    "plt.plot(arrMedian)\n",
    "plt.xlim(538+576, 572+576)\n",
    "plt.ylim(-40,40)\n",
    "ymin = 2050\n",
    "ymax = 2085\n",
    "arrMedian = np.mean(arr[ymin:ymax, :], axis=0)\n",
    "plt.subplot(3,2,3)\n",
    "plt.title(f\"Wave: Parallel overscan region \\n y={ymin}:{ymax}\")\n",
    "plt.plot(arrMedian)\n",
    "plt.xlim(0+576,450+576)\n",
    "plt.ylim(-6,10)\n",
    "plt.subplot(3,2,4)\n",
    "plt.title(f\"Start of serial: Parallel overscan region \\n y={ymin}:{ymax}\")\n",
    "plt.plot(arrMedian)\n",
    "plt.xlim(538+576, 572+576)\n",
    "plt.ylim(-40,40)\n",
    "ymin = 4087\n",
    "ymax = 4094\n",
    "arrMedian = np.mean(arr[ymin:ymax, :], axis=0)\n",
    "plt.subplot(3,2,5)\n",
    "plt.title(f\"Wave: Parallel underscan region \\n y={ymin}:{ymax}\")\n",
    "plt.plot(arrMedian)\n",
    "plt.xlim(0+576,450+576)\n",
    "plt.ylim(-6,10)\n",
    "plt.subplot(3,2,6)\n",
    "plt.title(f\"Start of serial: Parallel underscan region \\n y={ymin}:{ymax}\")\n",
    "plt.plot(arrMedian)\n",
    "plt.xlim(538+576, 572+576)\n",
    "plt.ylim(-40,40)\n",
    "plt.savefig(\"/home/c/cslage/u/AuxTel/isr/sequencer_tests_07feb23/Parallel_Underscan_Corrected_Amp_C11.pdf\")"
   ]
  },
  {
   "cell_type": "code",
   "execution_count": null,
   "metadata": {},
   "outputs": [],
   "source": []
  }
 ],
 "metadata": {
  "kernelspec": {
   "display_name": "LSST",
   "language": "python",
   "name": "lsst"
  },
  "language_info": {
   "codemirror_mode": {
    "name": "ipython",
    "version": 3
   },
   "file_extension": ".py",
   "mimetype": "text/x-python",
   "name": "python",
   "nbconvert_exporter": "python",
   "pygments_lexer": "ipython3",
   "version": "3.10.8"
  }
 },
 "nbformat": 4,
 "nbformat_minor": 4
}
