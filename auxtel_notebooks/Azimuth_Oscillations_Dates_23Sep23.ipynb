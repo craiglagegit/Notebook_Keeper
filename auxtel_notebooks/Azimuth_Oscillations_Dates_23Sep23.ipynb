{
 "cells": [
  {
   "cell_type": "code",
   "execution_count": null,
   "metadata": {
    "execution": {
     "iopub.execute_input": "2023-09-23T21:46:36.820734Z",
     "iopub.status.busy": "2023-09-23T21:46:36.820521Z",
     "iopub.status.idle": "2023-09-23T21:46:40.973883Z",
     "shell.execute_reply": "2023-09-23T21:46:40.973443Z",
     "shell.execute_reply.started": "2023-09-23T21:46:36.820720Z"
    },
    "tags": []
   },
   "outputs": [],
   "source": [
    "import sys, time, os, asyncio, glob\n",
    "import numpy as np\n",
    "import pandas as pd\n",
    "import matplotlib.pyplot as plt\n",
    "from astropy.time import Time, TimeDelta\n",
    "from astropy.coordinates import AltAz, ICRS, EarthLocation, Angle, FK5, SkyCoord\n",
    "import astropy.units as u\n",
    "from lsst.obs.lsst.translators.latiss import AUXTEL_LOCATION\n",
    "from lsst_efd_client import EfdClient"
   ]
  },
  {
   "cell_type": "code",
   "execution_count": null,
   "metadata": {
    "execution": {
     "iopub.execute_input": "2023-09-23T21:46:43.191643Z",
     "iopub.status.busy": "2023-09-23T21:46:43.191417Z",
     "iopub.status.idle": "2023-09-23T21:46:43.670018Z",
     "shell.execute_reply": "2023-09-23T21:46:43.669496Z",
     "shell.execute_reply.started": "2023-09-23T21:46:43.191626Z"
    },
    "tags": []
   },
   "outputs": [],
   "source": [
    "client = EfdClient('usdf_efd')"
   ]
  },
  {
   "cell_type": "code",
   "execution_count": null,
   "metadata": {
    "execution": {
     "iopub.execute_input": "2023-09-23T21:46:44.977396Z",
     "iopub.status.busy": "2023-09-23T21:46:44.976953Z",
     "iopub.status.idle": "2023-09-23T21:47:21.451327Z",
     "shell.execute_reply": "2023-09-23T21:47:21.450837Z",
     "shell.execute_reply.started": "2023-09-23T21:46:44.977380Z"
    },
    "tags": []
   },
   "outputs": [],
   "source": [
    "def mountSpeed(az, el):\n",
    "    # Calculate theoretical drive speed vs Az/El\n",
    "    t0 = Time('2023-01-01T00:00:00') # doesn't really matter when\n",
    "    altAz0 = SkyCoord(AltAz(alt=el*u.deg, az=az*u.deg, obstime=t0, location=AUXTEL_LOCATION))\n",
    "    RaDec = altAz0.transform_to(ICRS)\n",
    "    t1 = t0 + TimeDelta(1.0, format='sec')\n",
    "    altAz1 = RaDec.transform_to(AltAz(obstime=t1, location=AUXTEL_LOCATION))\n",
    "    #print(altAz1)\n",
    "    newAz = altAz1.az.deg\n",
    "    if az < 5.0 and newAz > 355.0:\n",
    "        delta = newAz -360.0 - az\n",
    "    else:\n",
    "        delta = newAz - az\n",
    "\n",
    "    azVel = abs(delta) * 3600.0\n",
    "    elVel = abs(altAz1.alt.deg - el) * 3600.0\n",
    "    #print(az, altAz1.az.deg, el, altAz1.alt.deg)\n",
    "    return(azVel, elVel)\n",
    "Naz = 100\n",
    "Nel = 50\n",
    "azimuths = np.linspace(0, 360, Naz)\n",
    "els = np.linspace(5, 85, Nel)\n",
    "azValues = np.zeros([Naz, Nel])\n",
    "elValues = np.zeros([Naz, Nel])\n",
    "for i, az in enumerate(azimuths):\n",
    "    for j, el in enumerate(els):\n",
    "        [azSpeed, elSpeed] = mountSpeed(az, el)\n",
    "        azValues[i,j] = azSpeed\n",
    "        elValues[i,j] = elSpeed\n",
    "        #print(az, el, mountSpeed(az, el)[0])\n",
    "    \n",
    "r, theta = np.meshgrid(els, np.radians(azimuths))\n"
   ]
  },
  {
   "cell_type": "code",
   "execution_count": null,
   "metadata": {
    "execution": {
     "iopub.execute_input": "2023-09-23T21:47:26.897778Z",
     "iopub.status.busy": "2023-09-23T21:47:26.897571Z",
     "iopub.status.idle": "2023-09-23T21:47:27.580380Z",
     "shell.execute_reply": "2023-09-23T21:47:27.579952Z",
     "shell.execute_reply.started": "2023-09-23T21:47:26.897763Z"
    },
    "tags": []
   },
   "outputs": [],
   "source": [
    "dates = [\"2023-05-09\",\"2023-05-10\",\"2023-05-11\",\"2023-04-25\",\"2023-03-23\",\\\n",
    "         \"2023-03-01\",\"2023-03-02\",\"2023-03-14\",\"2023-03-15\",\"2023-03-16\"]\n",
    "dates += [\"2023-05-23\",\"2023-05-24\",\"2023-07-04\",\"2023-07-05\",\"2023-07-06\",\\\n",
    "         \"2023-07-18\",\"2023-07-20\",\"2023-08-01\",\"2023-08-02\",\"2023-08-03\",\\\n",
    "         \"2023-08-15\",\"2023-08-16\",\"2023-08-17\",\"2023-08-29\",\"2023-09-12\",\\\n",
    "         \"2023-09-13\",\"2023-09-14\"]\n",
    "\n",
    "maxWindSpeed = 6.0\n",
    "mountErrorLimit = 0.4\n",
    "alts = []\n",
    "radAzs = []\n",
    "for date in dates:\n",
    "    start = Time(f\"{date}T16:00:00Z\", scale='utc')\n",
    "    date_split = date.split('-')\n",
    "    end_date = f\"{date_split[0]}-{date_split[1]}-{int(date_split[2])+1:02}\"\n",
    "    print(date, end_date)\n",
    "    end = Time(f\"{end_date}T10:00:00Z\", scale='utc')\n",
    "    try:\n",
    "        wind = await client.select_time_series('lsst.sal.ESS.airFlow', \\\n",
    "                                            ['speed'],  start, end)\n",
    "        medianWind = np.median(wind.values[0])\n",
    "    except:\n",
    "        print(\"Wind not found\")\n",
    "        continue\n",
    "    if medianWind > maxWindSpeed or medianWind < 1.0 :\n",
    "           continue\n",
    "    # Get Rubin TV JSON\n",
    "    else:\n",
    "        print(date, medianWind)\n",
    "        continue\n",
    "    filename = f'/scratch/cslage/starTracker/auxtel_{date}.json'\n",
    "    df = pd.read_json(filename)\n",
    "    df = df.transpose()\n",
    "                               \n",
    "    df_bad = df[df['Mount motion image degradation'] > mountErrorLimit]\n",
    "    df_good = df[df['Mount motion image degradation'] <= mountErrorLimit]\n",
    "    mount_degradation = df['Mount motion image degradation']\n",
    "    total = np.count_nonzero(~pd.isna(mount_degradation.values))\n",
    "\n",
    "    columns_to_keep = ['Altitude', 'Azimuth', 'Exposure id', 'Mount motion image degradation', 'TAI']\n",
    "    df_bad = df_bad[columns_to_keep]\n",
    "    df_bad['Type'] = 'Other'\n",
    "    df_good = df_good[columns_to_keep]\n",
    "    print(f\"For {date} there are {len(df_bad)} values > {mountErrorLimit} out of {total} values\")\n",
    "    alts += list(df_bad['Altitude'].values)\n",
    "    azs = df_bad['Azimuth'].values\n",
    "    radAzs += list(np.radians(azs.astype(float)))\n",
    "print(len(alts), len(radAzs))"
   ]
  },
  {
   "cell_type": "code",
   "execution_count": null,
   "metadata": {
    "execution": {
     "iopub.execute_input": "2023-09-23T21:35:52.202298Z",
     "iopub.status.busy": "2023-09-23T21:35:52.201718Z",
     "iopub.status.idle": "2023-09-23T21:35:52.648780Z",
     "shell.execute_reply": "2023-09-23T21:35:52.648229Z",
     "shell.execute_reply.started": "2023-09-23T21:35:52.202268Z"
    },
    "tags": []
   },
   "outputs": [],
   "source": [
    "#-- Plot... ------------------------------------------------\n",
    "fig=plt.figure(figsize=(16,16))\n",
    "#plt.subplots_adjust(wspace = 1.0)\n",
    "vmin = -2.0\n",
    "vmax = 2.0\n",
    "levels = np.linspace(vmin, vmax, 9)\n",
    "ax1 = plt.subplot(121, projection='polar')\n",
    "ax1.set_title(\"Log10(Theoretical Azimuth speed (arcseconds/sec))\")\n",
    "ax1.invert_yaxis()\n",
    "contourf_1 = ax1.contourf(theta, r, np.log10(azValues), levels=levels)\n",
    "cax1 = fig.add_axes([ax1.get_position().x1+0.01,ax1.get_position().y0,0.02,ax1.get_position().height])\n",
    "plt.colorbar(contourf_1, cax=cax1)\n",
    "ax1.scatter([np.pi], [-AUXTEL_LOCATION.lat.deg], color='cyan', marker='x', s=200, label=\"SCP\")\n",
    "#ax1.scatter(goodRadAzs, goodAlts, color='green', marker='+', label=\"Mount motion < 0.4\")\n",
    "ax1.scatter(radAzs, alts, color='red', marker='x', label=\"Mount motion > 0.4\")\n",
    "ax1.legend()\n",
    "#plt.savefig('/home/craiglagegit/DATA/stiction_vs_speed_20230302/Mount_Fails_Positions_20230302.pdf')"
   ]
  },
  {
   "cell_type": "code",
   "execution_count": null,
   "metadata": {},
   "outputs": [],
   "source": []
  },
  {
   "cell_type": "code",
   "execution_count": null,
   "metadata": {},
   "outputs": [],
   "source": []
  }
 ],
 "metadata": {
  "kernelspec": {
   "display_name": "LSST",
   "language": "python",
   "name": "lsst"
  },
  "language_info": {
   "codemirror_mode": {
    "name": "ipython",
    "version": 3
   },
   "file_extension": ".py",
   "mimetype": "text/x-python",
   "name": "python",
   "nbconvert_exporter": "python",
   "pygments_lexer": "ipython3",
   "version": "3.11.4"
  }
 },
 "nbformat": 4,
 "nbformat_minor": 4
}
