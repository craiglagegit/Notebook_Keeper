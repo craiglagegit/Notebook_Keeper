{
 "cells": [
  {
   "cell_type": "markdown",
   "id": "153412e6",
   "metadata": {},
   "source": [
    "# AuxTel accelerometer PSD - 15-Jul-22\n",
    "Testing the unpacking code for lsst-efd-client \\\n",
    "Craig Lage"
   ]
  },
  {
   "cell_type": "code",
   "execution_count": null,
   "id": "fcd0a71e",
   "metadata": {
    "execution": {
     "iopub.execute_input": "2024-09-30T23:10:49.975169Z",
     "iopub.status.busy": "2024-09-30T23:10:49.974856Z",
     "iopub.status.idle": "2024-09-30T23:10:51.336210Z",
     "shell.execute_reply": "2024-09-30T23:10:51.335742Z",
     "shell.execute_reply.started": "2024-09-30T23:10:49.975153Z"
    }
   },
   "outputs": [],
   "source": [
    "import sys, time, os, asyncio\n",
    "from datetime import datetime\n",
    "import numpy as np\n",
    "import matplotlib.pyplot as plt\n",
    "from matplotlib.backends.backend_pdf import PdfPages\n",
    "import pandas as pd\n",
    "from astropy.time import Time, TimeDelta\n",
    "from lsst.daf.butler import Butler\n",
    "from lsst_efd_client import EfdClient, merge_packed_time_series"
   ]
  },
  {
   "cell_type": "code",
   "execution_count": null,
   "id": "aed2b09e",
   "metadata": {
    "execution": {
     "iopub.execute_input": "2024-09-30T23:10:52.445480Z",
     "iopub.status.busy": "2024-09-30T23:10:52.444841Z",
     "iopub.status.idle": "2024-09-30T23:10:52.825742Z",
     "shell.execute_reply": "2024-09-30T23:10:52.825329Z",
     "shell.execute_reply.started": "2024-09-30T23:10:52.445465Z"
    }
   },
   "outputs": [],
   "source": [
    "# Get EFD client\n",
    "client = EfdClient('usdf_efd')"
   ]
  },
  {
   "cell_type": "code",
   "execution_count": null,
   "id": "b8c90662-31f2-4da1-8647-01c6fa8e5a45",
   "metadata": {
    "execution": {
     "iopub.execute_input": "2024-09-30T23:21:45.675873Z",
     "iopub.status.busy": "2024-09-30T23:21:45.675530Z",
     "iopub.status.idle": "2024-09-30T23:21:45.678603Z",
     "shell.execute_reply": "2024-09-30T23:21:45.678295Z",
     "shell.execute_reply.started": "2024-09-30T23:21:45.675858Z"
    }
   },
   "outputs": [],
   "source": [
    "# Times to start looking at accel data\n",
    "start = Time(\"2024-05-14 12:00:00Z\", scale='utc')\n",
    "end = Time(\"2024-05-14 14:00:10Z\", scale='utc')\n",
    "#start = Time(\"2024-09-26T16:31:30\", scale='utc')\n",
    "#end = Time(\"2024-09-26T16:32:30\", scale='utc')"
   ]
  },
  {
   "cell_type": "markdown",
   "id": "4e2a6f7e-b064-4a52-9f14-da21110efa89",
   "metadata": {},
   "source": [
    "# First, test the merge_packed_PSD function."
   ]
  },
  {
   "cell_type": "code",
   "execution_count": null,
   "id": "92c618db-2e1d-41f3-bbc2-f9152474d6f4",
   "metadata": {
    "execution": {
     "iopub.execute_input": "2024-09-30T23:21:13.062215Z",
     "iopub.status.busy": "2024-09-30T23:21:13.061939Z",
     "iopub.status.idle": "2024-09-30T23:21:23.305575Z",
     "shell.execute_reply": "2024-09-30T23:21:23.305143Z",
     "shell.execute_reply.started": "2024-09-30T23:21:13.062201Z"
    }
   },
   "outputs": [],
   "source": [
    "indexCounter = 0\n",
    "plt.figure(figsize=(16,16))\n",
    "plt.subplots_adjust(wspace=0.5, hspace=0.3)\n",
    "axes = ['X', 'Y', 'Z']\n",
    "sensors = [\"AuxTel-M1\", \"AuxTel-M2\", \"AuxTel-Truss\"]\n",
    "plotCounter = 1\n",
    "packed_dataframe = await client.select_time_series(\"lsst.sal.ESS.accelerometer\", [\"*\"], start, end)\n",
    "print(len(packed_dataframe))\n",
    "fig, axs = plt.subplots(2,2, figsize = (8,8))\n",
    "plt.subplots_adjust(hspace=0.5, wspace=0.5)\n",
    "for i, sensor in enumerate(sensors):\n",
    "    sub_dataframe = packed_dataframe.loc[packed_dataframe.sensorName==sensor]\n",
    "    print(sensor, len(sub_dataframe))\n",
    "    print(sub_dataframe['timestamp'].head(3))\n",
    "    plotx = i%2\n",
    "    ploty = int(i/2)\n",
    "    ax = axs[plotx][ploty]\n",
    "    ax.set_title(sensor)\n",
    "    ax.set_ylabel(\"Accel(m/s^2)\")\n",
    "    for axis in axes:\n",
    "        df = merge_packed_time_series(sub_dataframe, axis, stride=1,\n",
    "                             ref_timestamp_col=\"timestamp\", fmt='unix_tai',\n",
    "                             scale='tai')\n",
    "        df[baseField].plot(ax=ax, label=list(axes)[-1])\n",
    "    ax.legend()\n"
   ]
  },
  {
   "cell_type": "code",
   "execution_count": null,
   "id": "ec76298a-464e-4b25-a19b-1ca0cef2bc57",
   "metadata": {
    "execution": {
     "iopub.execute_input": "2024-05-30T00:09:46.753621Z",
     "iopub.status.busy": "2024-05-30T00:09:46.753004Z",
     "iopub.status.idle": "2024-05-30T00:09:46.756496Z",
     "shell.execute_reply": "2024-05-30T00:09:46.756172Z",
     "shell.execute_reply.started": "2024-05-30T00:09:46.753608Z"
    }
   },
   "outputs": [],
   "source": [
    "packed_dataframe.columns"
   ]
  },
  {
   "cell_type": "markdown",
   "id": "ea668377-28b4-41f4-b8a7-c403af72a3a5",
   "metadata": {},
   "source": [
    "# This shows the structure of the dataframe after unpacking."
   ]
  },
  {
   "cell_type": "code",
   "execution_count": null,
   "id": "288d413c-4eef-4fe6-bd28-74788309f99a",
   "metadata": {},
   "outputs": [],
   "source": [
    "df.head(9)"
   ]
  },
  {
   "cell_type": "code",
   "execution_count": null,
   "id": "dcc3ad66-4a51-4ea2-8f97-9738c91c1bcd",
   "metadata": {},
   "outputs": [],
   "source": []
  }
 ],
 "metadata": {
  "jupytext": {
   "formats": "ipynb,markdown//md"
  },
  "kernelspec": {
   "display_name": "LSST",
   "language": "python",
   "name": "lsst"
  },
  "language_info": {
   "codemirror_mode": {
    "name": "ipython",
    "version": 3
   },
   "file_extension": ".py",
   "mimetype": "text/x-python",
   "name": "python",
   "nbconvert_exporter": "python",
   "pygments_lexer": "ipython3",
   "version": "3.11.9"
  }
 },
 "nbformat": 4,
 "nbformat_minor": 5
}
