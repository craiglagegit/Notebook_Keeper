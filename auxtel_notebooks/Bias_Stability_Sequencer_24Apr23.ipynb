{
 "cells": [
  {
   "cell_type": "markdown",
   "metadata": {},
   "source": [
    "# Bias wave stability\n",
    "\n",
    "Looking at the impact of sequencer changes on the bias wave\\\n",
    "and large variations at the beginning of the serial read.\\\n",
    "Craig Lage - 07-Feb-23 - Sequencer files were created by Yousuke Utsumi and Stuart Marshall"
   ]
  },
  {
   "cell_type": "code",
   "execution_count": null,
   "metadata": {
    "execution": {
     "iopub.execute_input": "2023-04-24T18:04:51.776987Z",
     "iopub.status.busy": "2023-04-24T18:04:51.776782Z",
     "iopub.status.idle": "2023-04-24T18:04:53.200292Z",
     "shell.execute_reply": "2023-04-24T18:04:53.199746Z",
     "shell.execute_reply.started": "2023-04-24T18:04:51.776973Z"
    },
    "tags": []
   },
   "outputs": [],
   "source": [
    "import numpy as np\n",
    "import matplotlib.pyplot as plt\n",
    "import astropy.io.fits as pf\n",
    "from lsst.ip.isr import IsrTask, IsrTaskConfig\n",
    "import lsst.afw.display as afwDisplay\n",
    "import lsst.geom as geom"
   ]
  },
  {
   "cell_type": "code",
   "execution_count": null,
   "metadata": {
    "execution": {
     "iopub.execute_input": "2023-04-24T18:04:53.205825Z",
     "iopub.status.busy": "2023-04-24T18:04:53.205678Z",
     "iopub.status.idle": "2023-04-24T18:04:54.662696Z",
     "shell.execute_reply": "2023-04-24T18:04:54.662125Z",
     "shell.execute_reply.started": "2023-04-24T18:04:53.205812Z"
    },
    "tags": []
   },
   "outputs": [],
   "source": [
    "from lsst.daf.butler import Butler\n",
    "butler = Butler('/repo/embargo', collections=[\"LATISS/raw/all\", \"LATISS/calib\"])"
   ]
  },
  {
   "cell_type": "markdown",
   "metadata": {},
   "source": [
    "## First, we look at the impact of the more conventional sequencer changes"
   ]
  },
  {
   "cell_type": "code",
   "execution_count": null,
   "metadata": {
    "execution": {
     "iopub.execute_input": "2023-04-24T18:06:29.331456Z",
     "iopub.status.busy": "2023-04-24T18:06:29.331228Z",
     "iopub.status.idle": "2023-04-24T18:06:29.353920Z",
     "shell.execute_reply": "2023-04-24T18:06:29.353468Z",
     "shell.execute_reply.started": "2023-04-24T18:06:29.331441Z"
    },
    "tags": []
   },
   "outputs": [],
   "source": [
    "isrConfig = IsrTaskConfig()\n",
    "isrConfig.doLinearize=False\n",
    "isrConfig.doOverscan=True\n",
    "isrConfig.doAssembleCcd=True\n",
    "isrConfig.doBias=False\n",
    "isrConfig.doVariance=True\n",
    "isrConfig.doLinearize=False\n",
    "isrConfig.doCrosstalk=False\n",
    "isrConfig.doBrighterFatter=False\n",
    "isrConfig.doDark=False\n",
    "isrConfig.doStrayLight=False\n",
    "isrConfig.doFlat=False\n",
    "isrConfig.doFringe=False\n",
    "isrConfig.doApplyGains=False\n",
    "isrConfig.doDefect=False\n",
    "isrConfig.doNanMasking=True\n",
    "isrConfig.doInterpolate=False\n",
    "isrConfig.doSaturation=False\n",
    "isrConfig.doSaturationInterpolation=False\n",
    "isrTask = IsrTask(config=isrConfig)"
   ]
  },
  {
   "cell_type": "code",
   "execution_count": null,
   "metadata": {
    "execution": {
     "iopub.execute_input": "2023-04-24T18:14:59.362387Z",
     "iopub.status.busy": "2023-04-24T18:14:59.361721Z",
     "iopub.status.idle": "2023-04-24T18:15:06.266877Z",
     "shell.execute_reply": "2023-04-24T18:15:06.266328Z",
     "shell.execute_reply.started": "2023-04-24T18:14:59.362370Z"
    },
    "tags": []
   },
   "outputs": [],
   "source": [
    "fig = plt.figure(figsize=(8,8))\n",
    "plt.suptitle(\"AuxTel bias stability\")\n",
    "names = ['Old Baseline', 'v26_noRG-22Feb', 'v26_noRG-24Apr']\n",
    "xplot = np.arange(509)\n",
    "for i, expId in enumerate([2023022200100, 2023022200080, 2023042400010]):\n",
    "    exp = butler.get('raw', detector=0, exposure=expId)\n",
    "    isrResult = isrTask.run(exp)\n",
    "    plotCounter = 1\n",
    "    for amp in exp.getDetector().getAmplifiers():\n",
    "        ampName = amp.getName()\n",
    "        bbox = amp.getBBox()\n",
    "        subExp = isrResult.exposure[bbox]\n",
    "        arr = subExp.image.array\n",
    "        plt.subplot(4,4,plotCounter)\n",
    "        plt.title(ampName)\n",
    "        plt.plot(xplot, np.mean(arr[100:1900, :], axis=0), label=names[i])\n",
    "        plt.ylim(-20,20)\n",
    "        if plotCounter % 4 == 1:\n",
    "            plt.ylabel(\"Signal(ADU)\")\n",
    "        else:\n",
    "            plt.yticks([])\n",
    "        if plotCounter > 12:\n",
    "            plt.xlabel(\"Xcoordinate(pixels)\")\n",
    "        else:\n",
    "            plt.xticks([])\n",
    "        plotCounter += 1\n",
    "plt.subplot(4,4,1)\n",
    "plt.legend(loc='lower left', fontsize=6)\n",
    "plt.savefig(\"/home/c/cslage/u/AuxTel/isr/sequencer_tests_22feb23/Bias_Stability_Sequencer_24Apr23.pdf\")"
   ]
  },
  {
   "cell_type": "code",
   "execution_count": null,
   "metadata": {},
   "outputs": [],
   "source": []
  }
 ],
 "metadata": {
  "kernelspec": {
   "display_name": "LSST",
   "language": "python",
   "name": "lsst"
  },
  "language_info": {
   "codemirror_mode": {
    "name": "ipython",
    "version": 3
   },
   "file_extension": ".py",
   "mimetype": "text/x-python",
   "name": "python",
   "nbconvert_exporter": "python",
   "pygments_lexer": "ipython3",
   "version": "3.10.10"
  }
 },
 "nbformat": 4,
 "nbformat_minor": 4
}
