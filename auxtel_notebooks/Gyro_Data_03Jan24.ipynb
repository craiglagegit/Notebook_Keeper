{
 "cells": [
  {
   "cell_type": "markdown",
   "metadata": {},
   "source": [
    "## First look at Gyro data\n",
    "\n",
    "Craig Lage 03-Jan-24"
   ]
  },
  {
   "cell_type": "code",
   "execution_count": null,
   "metadata": {
    "execution": {
     "iopub.execute_input": "2024-01-03T16:31:37.071515Z",
     "iopub.status.busy": "2024-01-03T16:31:37.071403Z",
     "iopub.status.idle": "2024-01-03T16:31:38.063226Z",
     "shell.execute_reply": "2024-01-03T16:31:38.062768Z",
     "shell.execute_reply.started": "2024-01-03T16:31:37.071503Z"
    },
    "tags": []
   },
   "outputs": [],
   "source": [
    "import sys, time, os, asyncio, glob\n",
    "\n",
    "from datetime import datetime\n",
    "import numpy as np\n",
    "import matplotlib.pyplot as plt\n",
    "import pickle as pkl\n",
    "import pandas as pd\n",
    "from astropy.time import Time, TimeDelta\n",
    "\n",
    "from lsst.daf.butler import Butler\n",
    "from lsst_efd_client import EfdClient"
   ]
  },
  {
   "cell_type": "code",
   "execution_count": null,
   "metadata": {
    "execution": {
     "iopub.execute_input": "2024-01-03T16:31:38.064155Z",
     "iopub.status.busy": "2024-01-03T16:31:38.063824Z",
     "iopub.status.idle": "2024-01-03T16:31:45.097295Z",
     "shell.execute_reply": "2024-01-03T16:31:45.096847Z",
     "shell.execute_reply.started": "2024-01-03T16:31:38.064140Z"
    }
   },
   "outputs": [],
   "source": [
    "client = EfdClient('usdf_efd')\n",
    "\n",
    "# Times to start looking at data\n",
    "start = Time(\"2024-01-02 22:00:00Z\", scale='utc')\n",
    "end = Time(\"2024-01-02 23:00:00Z\", scale='utc')\n",
    "\n",
    "gyro = await client.select_time_series(\"lsst.sal.MTM1M3.gyroData\", \\\n",
    "                                       ['*'], start, end)\n",
    "az = await client.select_time_series('lsst.sal.MTMount.azimuth', \\\n",
    "                                        ['*'],  start, end)\n",
    "el = await client.select_time_series('lsst.sal.MTMount.elevation', \\\n",
    "                                        ['*'],  start, end)    "
   ]
  },
  {
   "cell_type": "code",
   "execution_count": null,
   "metadata": {
    "execution": {
     "iopub.execute_input": "2024-01-03T16:31:45.098155Z",
     "iopub.status.busy": "2024-01-03T16:31:45.097999Z",
     "iopub.status.idle": "2024-01-03T16:31:45.106371Z",
     "shell.execute_reply": "2024-01-03T16:31:45.106019Z",
     "shell.execute_reply.started": "2024-01-03T16:31:45.098141Z"
    }
   },
   "outputs": [],
   "source": [
    "azV = az['actualVelocity'].values\n",
    "azT = az['timestamp'].values\n",
    "\n",
    "elP = el['actualPosition'].values\n",
    "elV = el['actualVelocity'].values\n",
    "elT = el['timestamp'].values\n",
    "\n",
    "# Gyro readings are in radians/sec\n",
    "gyroX = gyro['angularVelocityX'].values * -180.0 / np.pi\n",
    "gyroY = gyro['angularVelocityY'].values * -180.0 / np.pi\n",
    "gyroT = gyro['timestamp'].values\n",
    "\n",
    "# Need to divide gyroY by cos(elevation)\n",
    "interpElP = np.interp(gyroT, elT, elP) * np.pi / 180.0\n",
    "gyroY /= np.cos(interpElP)\n"
   ]
  },
  {
   "cell_type": "code",
   "execution_count": null,
   "metadata": {
    "execution": {
     "iopub.execute_input": "2024-01-03T16:31:45.107137Z",
     "iopub.status.busy": "2024-01-03T16:31:45.107005Z",
     "iopub.status.idle": "2024-01-03T16:31:45.906111Z",
     "shell.execute_reply": "2024-01-03T16:31:45.905681Z",
     "shell.execute_reply.started": "2024-01-03T16:31:45.107124Z"
    }
   },
   "outputs": [],
   "source": [
    "fig, axs = plt.subplots(2,2, figsize=(12,10))\n",
    "plt.subplots_adjust(wspace=0.3, hspace=0.3)\n",
    "\n",
    "axs[0][0].plot(gyroT, gyroY, color='red', label=\"Gyro angularVelocityY\")\n",
    "axs[0][0].plot(azT, azV, ls='--', lw=2, color='black', label=\"Azimuth velocity\")\n",
    "plotStart = Time(\"2024-01-02T22:26:20\", scale='utc').unix_tai\n",
    "plotEnd = Time(\"2024-01-02T22:29:00\", scale='utc').unix_tai\n",
    "axs[0][0].set_title(\"Azimuth\", fontsize=18)\n",
    "axs[0][0].set_xlim(plotStart, plotEnd)\n",
    "ax2 = axs[0][0].twinx()\n",
    "ax2.plot(elT, elP, label='Elevation')\n",
    "axs[0][0].set_ylim(-5,6)\n",
    "axs[0][0].set_xlabel(\"Time(sec)\")\n",
    "axs[0][0].set_ylabel(\"angular velocity (deg/sec)\")\n",
    "axs[0][0].legend(loc='upper left')\n",
    "ax2.set_ylabel(\"Elevation(degrees)\")\n",
    "ax2.legend()\n",
    "\n",
    "axs[0][1].plot(gyroT, gyroX, color='red', label=\"Gyro angularVelocityX\")\n",
    "axs[0][1].plot(elT, elV, ls='--', lw=2, color='black', label=\"Elevation velocity\")\n",
    "plotStart = Time(\"2024-01-02T22:22:30\", scale='utc').unix_tai\n",
    "plotEnd = Time(\"2024-01-02T22:23:30\", scale='utc').unix_tai\n",
    "axs[0][1].set_title(\"Elevation\", fontsize=18)\n",
    "axs[0][1].set_xlim(plotStart, plotEnd)\n",
    "axs[0][1].set_ylim(-2.5,2.5)\n",
    "axs[0][1].set_xlabel(\"Time(sec)\")\n",
    "axs[0][1].set_ylabel(\"angular velocity (deg/sec)\")\n",
    "axs[0][1].legend(loc='upper left')\n",
    "\n",
    "axs[1][0].plot(gyroT, gyroY, color='red', label=\"Gyro angularVelocityY\", marker='x')\n",
    "axs[1][0].plot(azT, azV, ls='--', lw=2, color='black', label=\"Azimuth velocity\", marker='o')\n",
    "plotStart = Time(\"2024-01-02T22:28:18.4\", scale='utc').unix_tai\n",
    "plotEnd = Time(\"2024-01-02T22:28:18.8\", scale='utc').unix_tai\n",
    "axs[1][0].set_title(\"Azimuth\", fontsize=18)\n",
    "axs[1][0].set_xlim(plotStart, plotEnd)\n",
    "axs[1][0].set_ylim(-0.2,0.8)\n",
    "axs[1][0].set_xlabel(\"Time(sec)\")\n",
    "axs[1][0].set_ylabel(\"angular velocity (deg/sec)\")\n",
    "axs[1][0].legend(loc='upper left')\n",
    "\n",
    "axs[1][1].plot(gyroT, gyroX, color='red', label=\"Gyro angularVelocityX\", marker='x')\n",
    "axs[1][1].plot(elT, elV, ls='--', lw=2, color='black', label=\"Elevation velocity\", marker='o')\n",
    "plotStart = Time(\"2024-01-02T22:23:11.8\", scale='utc').unix_tai\n",
    "plotEnd = Time(\"2024-01-02T22:23:12.8\", scale='utc').unix_tai\n",
    "axs[1][1].set_title(\"Elevation\", fontsize=18)\n",
    "axs[1][1].set_xlim(plotStart, plotEnd)\n",
    "axs[1][1].set_ylim(-0.2, 0.8)\n",
    "axs[1][1].set_xlabel(\"Time(sec)\")\n",
    "axs[1][1].set_ylabel(\"angular velocity (deg/sec)\")\n",
    "axs[1][1].legend(loc='upper left')\n",
    "\n",
    "\n",
    "plt.savefig('/home/c/cslage/u/MTM1M3/data/Gyro_Angular_Velocity_03Jn24.png')"
   ]
  },
  {
   "cell_type": "code",
   "execution_count": null,
   "metadata": {
    "execution": {
     "iopub.execute_input": "2024-01-03T16:40:06.704903Z",
     "iopub.status.busy": "2024-01-03T16:40:06.704607Z",
     "iopub.status.idle": "2024-01-03T16:40:06.708270Z",
     "shell.execute_reply": "2024-01-03T16:40:06.707850Z",
     "shell.execute_reply.started": "2024-01-03T16:40:06.704888Z"
    }
   },
   "outputs": [],
   "source": [
    "azT[1] - azT[0]"
   ]
  },
  {
   "cell_type": "code",
   "execution_count": null,
   "metadata": {
    "execution": {
     "iopub.execute_input": "2024-01-03T16:40:22.784859Z",
     "iopub.status.busy": "2024-01-03T16:40:22.784663Z",
     "iopub.status.idle": "2024-01-03T16:40:22.788204Z",
     "shell.execute_reply": "2024-01-03T16:40:22.787846Z",
     "shell.execute_reply.started": "2024-01-03T16:40:22.784845Z"
    }
   },
   "outputs": [],
   "source": [
    "gyroT[1] - gyroT[0]"
   ]
  },
  {
   "cell_type": "code",
   "execution_count": null,
   "metadata": {},
   "outputs": [],
   "source": []
  }
 ],
 "metadata": {
  "kernelspec": {
   "display_name": "LSST",
   "language": "python",
   "name": "lsst"
  },
  "language_info": {
   "codemirror_mode": {
    "name": "ipython",
    "version": 3
   },
   "file_extension": ".py",
   "mimetype": "text/x-python",
   "name": "python",
   "nbconvert_exporter": "python",
   "pygments_lexer": "ipython3",
   "version": "3.11.4"
  }
 },
 "nbformat": 4,
 "nbformat_minor": 4
}
