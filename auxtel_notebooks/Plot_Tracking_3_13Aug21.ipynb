{
 "cells": [
  {
   "cell_type": "markdown",
   "id": "15d475a8",
   "metadata": {},
   "source": [
    "# AuxTel Mount fails - 13-Aug-21\n",
    "\n",
    "In this notebook, investigate again mount tracking on 04-Aug-21\\\n",
    "With the steps outlined below, this seems to work for now.\\"
   ]
  },
  {
   "cell_type": "code",
   "execution_count": null,
   "id": "4e4b1301",
   "metadata": {},
   "outputs": [],
   "source": [
    "import sys, time, os, asyncio\n",
    "\n",
    "from datetime import datetime\n",
    "import numpy as np\n",
    "import matplotlib.pyplot as plt\n",
    "import pandas as pd\n",
    "from astropy.time import Time, TimeDelta\n",
    "from lsst_efd_client import EfdClient, merge_packed_time_series\n",
    "from lsst.daf.butler import Butler"
   ]
  },
  {
   "cell_type": "code",
   "execution_count": null,
   "id": "be506552",
   "metadata": {},
   "outputs": [],
   "source": [
    "# Get EFD client\n",
    "client = EfdClient('ldf_stable_efd')"
   ]
  },
  {
   "cell_type": "code",
   "execution_count": null,
   "id": "c4c67294",
   "metadata": {},
   "outputs": [],
   "source": [
    "# Get the header data using Gen3 butler\n",
    "# Note that the DATE keyword is ~ 32 seconds before DATE-BEG and DATE-END\n",
    "# This is because the DATE keyword is in UTC, as specified by the FITS spec.\n",
    "# The DATE-BEG and DATE-END keywords are in TAI, as specified by the TIMESYS keyword\n",
    "\n",
    "expId = 2021080400011\n",
    "butler = Butler('/repo/main', collections=\"LATISS/raw/all\")\n",
    "\n",
    "mData = butler.get('raw.metadata', detector=0, exposure=expId)\n",
    "print(f\"{expId} \\t {mData['TIMESYS']} \\t {mData['DATE']} \\t {mData['DATE-BEG']} \\t {mData['DATE-END']}\")"
   ]
  },
  {
   "cell_type": "code",
   "execution_count": null,
   "id": "6f98cb3c",
   "metadata": {},
   "outputs": [],
   "source": [
    "# Use these for finding the \"allAxesInPosition\" timestamp\n",
    "# The inPosition timestamp makes sense with the DATE-BEG and DATE-END times\n",
    "before = 20.0\n",
    "after = 20.0\n",
    "start = Time(mData['DATE-BEG'],format='isot', scale='utc') - TimeDelta(before, format='sec')\n",
    "end = Time(mData['DATE-END'],format='isot', scale='utc') + TimeDelta(after, format='sec')\n",
    "print(start, end)\n",
    "timestamp = f\"time >= '{start}+00:00' AND time <= '{end}+00:00'\"\n",
    "query = f'SELECT \"inPosition\" FROM \"efd\".\"autogen\".\"lsst.sal.ATMCS.logevent_allAxesInPosition\"\\\n",
    "    WHERE {timestamp} and inPosition = true'\n",
    "\n",
    "inPosition = await client.influx_client.query(query)\n",
    "print(inPosition)"
   ]
  },
  {
   "cell_type": "code",
   "execution_count": null,
   "id": "bc4bc8b3",
   "metadata": {},
   "outputs": [],
   "source": [
    "# The result says that this timestamp is in UTC.\n",
    "# This is NOT CORRECT, and stems from Pandas lack of knowledge of TAI\n",
    "# These timestamps are actually in TAI\n",
    "inPosition.index[0]"
   ]
  },
  {
   "cell_type": "code",
   "execution_count": null,
   "id": "fc03dc07",
   "metadata": {},
   "outputs": [],
   "source": [
    "# Use these for finding the shutter status timestamp\n",
    "# The inPosition timestamp makes sense with the DATE-BEG and DATE-END times\n",
    "# They agree within a few milliseconds.\n",
    "\n",
    "timestamp = f\"time >= '{start}+00:00' AND time <= '{end}+00:00'\"\n",
    "query = f'SELECT \"substate\" FROM \"efd\".\"autogen\".\"lsst.sal.ATCamera.logevent_shutterDetailedState\"\\\n",
    "    WHERE {timestamp}'\n",
    "\n",
    "shutter = await client.influx_client.query(query)\n",
    "\n",
    "# These match within msec with the DATE-BEG and DATE-END timestamps in the header\n",
    "print(shutter.index[0], mData['DATE-BEG'])\n",
    "print(shutter.index[1], mData['DATE-END'])"
   ]
  },
  {
   "cell_type": "code",
   "execution_count": null,
   "id": "86d2c6ee",
   "metadata": {},
   "outputs": [],
   "source": [
    "# Now get the mount tracking info for a time before and after the inPosition timestamp.\n",
    "# We need to tell it that these timestamps are in TAI.\n",
    "before = 20.0\n",
    "after = 20.0\n",
    "inPos = Time(inPosition.index[0], scale='tai')\n",
    "tstart = inPos - TimeDelta(before, format='sec')\n",
    "tend = inPos + TimeDelta(after, format='sec')\n",
    "print(f\"{inPos} \\t {tstart} \\t {tend}\")"
   ]
  },
  {
   "cell_type": "code",
   "execution_count": null,
   "id": "416cb25a",
   "metadata": {},
   "outputs": [],
   "source": [
    "# Get and plot the data\n",
    "# I need to override the merge_packed_time_series internal_time_scale to 'utc' in order for it all to work.\n",
    "# As I understand it, this is a bug in astropy that is being worked.\n",
    "mount_position = await client.select_time_series(\"lsst.sal.ATMCS.mount_AzEl_Encoders\", ['*'],\n",
    "                                          tstart, tend)\n",
    "nasmyth_position = await client.select_time_series(\"lsst.sal.ATMCS.mount_Nasmyth_Encoders\", ['*'],\n",
    "                                          tstart, tend)\n",
    "\n",
    "az = merge_packed_time_series(mount_position, 'azimuthCalculatedAngle', stride=1, internal_time_scale=\"utc\")\n",
    "\n",
    "# Plot it\n",
    "fig = plt.figure(figsize = (16,6))\n",
    "plt.suptitle(f\"Mount Tracking - ExpId {expId}\", fontsize = 18)\n",
    "# Azimuth axis\n",
    "plt.subplot(1,1,1)\n",
    "ax1 = az['azimuthCalculatedAngle'].plot(legend=True, color='red')\n",
    "ax1.set_title(\"Azimuth axis\", fontsize=16)\n",
    "ax1.axvline(inPos.isot, color=\"green\", linestyle=\"--\", label=\"All Axes In Position\")\n",
    "ax1.axvline(Time(mData['DATE-BEG'], scale='utc').isot, color='cyan', linestyle=\"--\", label=\"Exp_Start\")\n",
    "ax1.axvline(Time(mData['DATE-END'], scale='utc').isot, color='magenta', linestyle=\"--\", label=\"Exp_End\")\n",
    "ax1.set_ylabel(\"Degrees\")\n",
    "ax1.legend()\n",
    "plt.savefig(f\"/project/cslage/AuxTel/offsets/Tracking_Timebase_{expId}_13Aug21.pdf\")\n"
   ]
  },
  {
   "cell_type": "code",
   "execution_count": null,
   "id": "713f7fac",
   "metadata": {},
   "outputs": [],
   "source": []
  }
 ],
 "metadata": {
  "kernelspec": {
   "display_name": "LSST",
   "language": "python",
   "name": "lsst"
  },
  "language_info": {
   "codemirror_mode": {
    "name": "ipython",
    "version": 3
   },
   "file_extension": ".py",
   "mimetype": "text/x-python",
   "name": "python",
   "nbconvert_exporter": "python",
   "pygments_lexer": "ipython3",
   "version": "3.8.8"
  }
 },
 "nbformat": 4,
 "nbformat_minor": 5
}
