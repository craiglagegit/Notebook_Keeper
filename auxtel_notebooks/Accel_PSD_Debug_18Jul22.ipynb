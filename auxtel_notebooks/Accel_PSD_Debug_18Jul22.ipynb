{
 "cells": [
  {
   "cell_type": "markdown",
   "id": "153412e6",
   "metadata": {},
   "source": [
    "# AuxTel accelerometer PSD - 18-Jul-22\n",
    "Comparing PSD plots \\\n",
    "Craig Lage"
   ]
  },
  {
   "cell_type": "code",
   "execution_count": null,
   "id": "fcd0a71e",
   "metadata": {},
   "outputs": [],
   "source": [
    "import sys, time, os, asyncio\n",
    "from datetime import datetime\n",
    "import numpy as np\n",
    "import matplotlib.pyplot as plt\n",
    "from matplotlib.backends.backend_pdf import PdfPages\n",
    "import pandas as pd\n",
    "import pickle as pkl\n",
    "from astropy.time import Time, TimeDelta\n",
    "from lsst.daf.butler import Butler\n",
    "from lsst_efd_client import EfdClient\n",
    "from lsst_efd_client.efd_helper import EfdClient\n",
    "#from lsst_efd_client.efd_utils import merge_packed_PSD"
   ]
  },
  {
   "cell_type": "code",
   "execution_count": null,
   "id": "4feb3514-1e0a-4dba-81d2-afa2bd8ad425",
   "metadata": {},
   "outputs": [],
   "source": [
    "# Get EFD client\n",
    "from lsst_efd_client import EfdClient\n",
    "client = EfdClient('ldf_stable_efd')"
   ]
  },
  {
   "cell_type": "code",
   "execution_count": null,
   "id": "2406c927-4e47-4b8e-9108-0c42e045d814",
   "metadata": {},
   "outputs": [],
   "source": [
    "# First plot data with the notebook\n",
    "# This is stored data from before the CSC implementation\n",
    "filename = '/project/cslage/AuxTel/mount_graphs/20220504T033329Z.pkl'\n",
    "# Unpickle the accel dataframe\n",
    "file = open(filename, 'rb')\n",
    "df = pkl.load(file)\n",
    "file.close()\n",
    "\n",
    "startingIndex = 5000\n",
    "endingIndex = startingIndex + 400\n",
    "# Grab a 2 second subset of the data\n",
    "subdf = df.iloc[startingIndex:endingIndex]\n",
    "timestamp = subdf.index[0].strftime(\"%Y%m%dT%H%M%SZ\")\n",
    "num_samples = len(subdf)\n",
    "sampling_frequency = 200.0\n",
    "sampling_interval = 1 / sampling_frequency\n",
    "psd_frequencies = np.fft.rfftfreq(num_samples, sampling_interval)\n",
    "\n",
    "plt.figure(figsize=(16,16))\n",
    "plt.subplots_adjust(wspace=0.5, hspace=0.7)\n",
    "plt.suptitle(f\"Accelerometer Power Spectral Density \\n \\n Notebook - {timestamp}\", fontsize=24)\n",
    "\n",
    "axes = ['AZ', 'EL', 'Z']\n",
    "sensors = [\"M1\", \"M2\", \"T\"]\n",
    "plotCounter = 1\n",
    "for sensor in sensors:\n",
    "    for axis in axes:\n",
    "        SensorName = f\"{axis}{sensor}\"\n",
    "        scaled_data = subdf[SensorName].to_list()\n",
    "        scaled_data = np.array(scaled_data) * 9.8 # Convert to m/s^2\n",
    "        psd = np.abs(np.fft.rfft(scaled_data)) ** 2\n",
    "        plt.subplot(7,3,plotCounter)\n",
    "        plt.plot(psd_frequencies[1:-2], psd[1:-2], color='blue')\n",
    "        plt.title(f\"{SensorName}\", fontsize=12)\n",
    "        plt.xlabel('Frequency [Hz]')\n",
    "        plt.ylabel('PSD [m^2/(Hz s^4)]')\n",
    "        plotCounter += 1\n",
    "        \n",
    "# Now plot CSC data        \n",
    "# Get EFD client\n",
    "client = EfdClient('ldf_stable_efd') \n",
    "\n",
    "# Times to start looking at PSD data\n",
    "start = Time(\"2022-07-14 12:00:00Z\", scale='utc')\n",
    "end = Time(\"2022-07-14 12:00:10Z\", scale='utc') \n",
    "\n",
    "indexCounter = 0\n",
    "#plt.figure(figsize=(16,16))\n",
    "#plt.subplots_adjust(wspace=0.5, hspace=0.3)\n",
    "axes = ['X', 'Y', 'Z']\n",
    "sensors = [\"AuxTel-M1\", \"AuxTel-M2\", \"AuxTel-Truss\"]\n",
    "base_fields = []\n",
    "for axis in axes:\n",
    "    base_fields.append(f\"accelerationPSD{axis}\")\n",
    "df = await client.select_packed_PSD(\"lsst.sal.ESS.accelerometerPSD\", base_fields, sensors, start, end)\n",
    "plotCounter += 3\n",
    "for sensor in sensors:\n",
    "    for axis in axes:\n",
    "        SensorName = f\"{sensor}-{axis}\"\n",
    "        plt.subplot(7,3,plotCounter)\n",
    "        plt.title(f\"{sensor} - {axis}\", fontsize=12)\n",
    "        plot_df = df[df[\"SensorName\"] == SensorName]\n",
    "        row = plot_df.iloc[indexCounter][2:]\n",
    "        row.plot(color='red')\n",
    "        plt.xlabel('Frequency [Hz]')\n",
    "        plt.ylabel('PSD [m^2/(Hz s^4)]')\n",
    "        plotCounter += 1\n",
    "\n",
    "plt.subplot(7,3,11, frame_on = False)\n",
    "plt.axis('off')\n",
    "timestamp = df.index[0].strftime(\"%Y%m%dT%H%M%SZ\")\n",
    "plt.text(-.2, 0, f\"CSC - {timestamp}\", fontsize=24)\n",
    "plt.savefig(f\"/project/cslage/AuxTel/accel_data/Accel_PSD_{timestamp}.pdf\")\n",
    "plt.savefig(f\"/project/cslage/AuxTel/accel_data/Accel_PSD_Comparison_18Jul22.pdf\")"
   ]
  },
  {
   "cell_type": "code",
   "execution_count": null,
   "id": "89270e29-fc6e-49a0-b6a8-bc05914642f5",
   "metadata": {},
   "outputs": [],
   "source": []
  }
 ],
 "metadata": {
  "jupytext": {
   "formats": "ipynb,markdown//md"
  },
  "kernelspec": {
   "display_name": "LSST",
   "language": "python",
   "name": "lsst"
  },
  "language_info": {
   "codemirror_mode": {
    "name": "ipython",
    "version": 3
   },
   "file_extension": ".py",
   "mimetype": "text/x-python",
   "name": "python",
   "nbconvert_exporter": "python",
   "pygments_lexer": "ipython3",
   "version": "3.10.5"
  }
 },
 "nbformat": 4,
 "nbformat_minor": 5
}
