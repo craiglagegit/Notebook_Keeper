{
 "cells": [
  {
   "cell_type": "markdown",
   "id": "153412e6",
   "metadata": {},
   "source": [
    "# AuxTel Focus Study - 07-Dec-21\n",
    "\n",
    "In this notebook, investigate focus settings and temp"
   ]
  },
  {
   "cell_type": "code",
   "execution_count": null,
   "id": "fcd0a71e",
   "metadata": {},
   "outputs": [],
   "source": [
    "import sys, time, os, asyncio\n",
    "\n",
    "from datetime import datetime\n",
    "import numpy as np\n",
    "import matplotlib.pyplot as plt\n",
    "%matplotlib widget\n",
    "import pandas as pd\n",
    "from astropy.time import Time, TimeDelta\n",
    "from lsst.daf.butler import Butler"
   ]
  },
  {
   "cell_type": "code",
   "execution_count": null,
   "id": "aed2b09e",
   "metadata": {},
   "outputs": [],
   "source": [
    "# Get EFD client\n",
    "from lsst_efd_client import EfdClient\n",
    "from lsst_efd_client import  __version__ as efdVersion\n",
    "print(efdVersion)\n",
    "client = EfdClient('ldf_stable_efd')"
   ]
  },
  {
   "cell_type": "code",
   "execution_count": null,
   "id": "65e7bac2-320a-4df6-954d-e10d6cac01d5",
   "metadata": {
    "tags": []
   },
   "outputs": [],
   "source": [
    "# Gen3 butler\n",
    "from lsst.daf.butler import Butler\n",
    "dayObs = '2021-10-05'\n",
    "dayObs = int(dayObs.replace('-', ''))\n",
    "butler = Butler('/repo/main', collections=\"LATISS/raw/all\")\n",
    "\n",
    "exposureList = []\n",
    "for record in butler.registry.queryDimensionRecords(\"exposure\", where=\"exposure.day_obs=%d\"%dayObs):\n",
    "    exposureList.append([record.id, record])\n",
    "exposureList.sort(key=lambda x: x[0])\n",
    "for [id,record] in exposureList:\n",
    "    if id > 2021100500292 and id < 2021100500298:\n",
    "        print(record.id, record.observation_type, record.exposure_time, record.physical_filter, record.target_name)\n"
   ]
  },
  {
   "cell_type": "code",
   "execution_count": null,
   "id": "bc30ec6c-004f-4bf8-8fae-891b656003c8",
   "metadata": {},
   "outputs": [],
   "source": [
    "# Get the header data\n",
    "# The DATE_BEG and DATE_END timestamps remain in TAI, as specified.\n",
    "before = 15.0\n",
    "after = 10.0\n",
    "tai_offset = 37.0\n",
    "\n",
    "expId = 2021100500297\n",
    "mData = butler.get('raw.metadata', detector=0, exposure=expId)\n",
    "date_beg = Time(mData['DATE-BEG'], format='isot', scale='tai')\n",
    "start = date_beg.utc - TimeDelta(before, format='sec') + TimeDelta(tai_offset, format='sec')\n",
    "end = date_beg.utc + TimeDelta(after, format='sec') + TimeDelta(tai_offset, format='sec')\n",
    "print(date_beg, start, end)"
   ]
  },
  {
   "cell_type": "code",
   "execution_count": null,
   "id": "c795b28d-e5e0-4f73-a770-157be2b0319e",
   "metadata": {},
   "outputs": [],
   "source": [
    "# Use these for finding the various values\n",
    "shutter = await client.select_time_series(\"lsst.sal.ATCamera.logevent_shutterDetailedState\", \"substate\", start, end)\n",
    "shut_open = shutter[shutter['substate']==2]\n",
    "shut_closed = shutter[shutter['substate']==1]\n",
    "\n",
    "print(shut_open)\n",
    "print(shut_closed)\n",
    "#print(shutter)"
   ]
  },
  {
   "cell_type": "code",
   "execution_count": null,
   "id": "30b90e8d-6033-45ad-a29f-e49a29de362a",
   "metadata": {},
   "outputs": [],
   "source": [
    "# Use these for finding the various values\n",
    "total_off = await client.select_time_series(\"lsst.sal.ATAOS.logevent_focusOffsetSummary\", \"total\", start, end)\n",
    "print(total_off)"
   ]
  },
  {
   "cell_type": "code",
   "execution_count": null,
   "id": "86e4b3a3-85de-4c24-92f0-de1db47d4df2",
   "metadata": {},
   "outputs": [],
   "source": [
    "# Use these for finding the various values\n",
    "disp_off = await client.select_time_series(\"lsst.sal.ATAOS.logevent_focusOffsetSummary\", \"disperser\", start, end)\n",
    "print(disp_off)"
   ]
  },
  {
   "cell_type": "code",
   "execution_count": null,
   "id": "d10d611e-36fa-4fed-969d-61a23a46817a",
   "metadata": {},
   "outputs": [],
   "source": [
    "# Use these for finding the various values\n",
    "filter_off = await client.select_time_series(\"lsst.sal.ATAOS.logevent_focusOffsetSummary\", \"filter\", start, end)\n",
    "print(filter_off)"
   ]
  },
  {
   "cell_type": "code",
   "execution_count": null,
   "id": "d30d2105-e157-41fe-a9fd-c119f7328663",
   "metadata": {},
   "outputs": [],
   "source": [
    "# Use these for finding the various values\n",
    "user_off = await client.select_time_series(\"lsst.sal.ATAOS.logevent_focusOffsetSummary\", \"userApplied\", start, end)\n",
    "print(user_off)"
   ]
  },
  {
   "cell_type": "code",
   "execution_count": null,
   "id": "56167b9c-b161-43dc-8132-40a0b02b9bcb",
   "metadata": {},
   "outputs": [],
   "source": [
    "# Use these for finding the various values\n",
    "wave_off = await client.select_time_series(\"lsst.sal.ATAOS.logevent_focusOffsetSummary\", \"wavelength\", start, end)\n",
    "print(wave_off)"
   ]
  },
  {
   "cell_type": "code",
   "execution_count": null,
   "id": "67372b16-676a-47a6-b721-4a20f034702d",
   "metadata": {},
   "outputs": [],
   "source": [
    "# Use these for finding the various values\n",
    "pr_off = await client.select_time_series(\"lsst.sal.ATAOS.logevent_focusOffsetSummary\", \"priority\", start, end)\n",
    "print(pr_off)"
   ]
  },
  {
   "cell_type": "code",
   "execution_count": null,
   "id": "71f8f7d6-0ba0-4871-b80d-3f4910c0d8e3",
   "metadata": {},
   "outputs": [],
   "source": []
  }
 ],
 "metadata": {
  "kernelspec": {
   "display_name": "LSST",
   "language": "python",
   "name": "lsst"
  },
  "language_info": {
   "codemirror_mode": {
    "name": "ipython",
    "version": 3
   },
   "file_extension": ".py",
   "mimetype": "text/x-python",
   "name": "python",
   "nbconvert_exporter": "python",
   "pygments_lexer": "ipython3",
   "version": "3.11.7"
  }
 },
 "nbformat": 4,
 "nbformat_minor": 5
}
