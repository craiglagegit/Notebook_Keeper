{
 "cells": [
  {
   "cell_type": "code",
   "execution_count": null,
   "id": "5ea20305-1ba7-426b-9a10-2356565185c7",
   "metadata": {
    "execution": {
     "iopub.execute_input": "2024-03-27T16:38:19.128913Z",
     "iopub.status.busy": "2024-03-27T16:38:19.128555Z",
     "iopub.status.idle": "2024-03-27T16:38:19.302926Z",
     "shell.execute_reply": "2024-03-27T16:38:19.302345Z",
     "shell.execute_reply.started": "2024-03-27T16:38:19.128888Z"
    }
   },
   "outputs": [],
   "source": [
    "import sys, time, os, asyncio, warnings\n",
    "from datetime import datetime\n",
    "import numpy as np\n",
    "import pandas as pd\n",
    "import pickle as pkl\n",
    "import matplotlib.pyplot as plt\n",
    "%matplotlib inline\n",
    "from matplotlib.backends.backend_pdf import PdfPages\n",
    "from astropy.time import Time, TimeDelta\n",
    "from lsst_efd_client import EfdClient\n",
    "from lsst.summit.utils import dayObsIntToString\n",
    "from lsst.summit.utils.efdUtils import calcNextDay\n"
   ]
  },
  {
   "cell_type": "code",
   "execution_count": null,
   "id": "89c1d0e5-3890-41c5-8a1c-0b6ac55276cc",
   "metadata": {
    "execution": {
     "iopub.execute_input": "2024-03-27T15:27:24.744613Z",
     "iopub.status.busy": "2024-03-27T15:27:24.744485Z",
     "iopub.status.idle": "2024-03-27T15:27:25.221035Z",
     "shell.execute_reply": "2024-03-27T15:27:25.220600Z",
     "shell.execute_reply.started": "2024-03-27T15:27:24.744601Z"
    }
   },
   "outputs": [],
   "source": [
    "client = EfdClient('usdf_efd')"
   ]
  },
  {
   "cell_type": "markdown",
   "id": "b584dc5b-1e5a-4358-bbbd-000b9c6f6377",
   "metadata": {},
   "source": [
    "# First get the data\n",
    "## Look at successive weekends with no venting"
   ]
  },
  {
   "cell_type": "code",
   "execution_count": null,
   "id": "478ab872-d27a-422c-a084-6a9085e86c8e",
   "metadata": {
    "execution": {
     "iopub.execute_input": "2024-03-27T17:00:07.152579Z",
     "iopub.status.busy": "2024-03-27T17:00:07.152254Z",
     "iopub.status.idle": "2024-03-27T17:00:45.133318Z",
     "shell.execute_reply": "2024-03-27T17:00:45.132929Z",
     "shell.execute_reply.started": "2024-03-27T17:00:07.152564Z"
    }
   },
   "outputs": [],
   "source": [
    "days = [5,6,7,8,12,13,14,19,21,25,26]\n",
    "pdf = PdfPages(\"/home/c/cslage/u/AuxTel/fwhm/Temps_and_Seeing_Mar24.pdf\")\n",
    "fig = plt.figure(figsize=(10,10))\n",
    "\n",
    "for day in days:\n",
    "    dayObs = int(f\"202403{day:02}\")\n",
    "    nextDayObs = calcNextDay(dayObs)\n",
    "    dayString = dayObsIntToString(dayObs)\n",
    "    nextDayString = dayObsIntToString(nextDayObs)\n",
    "\n",
    "    start = Time(f\"{dayString}T08:00:00\", scale='utc')\n",
    "    startObserving = Time(f\"{nextDayString}T00:00:00\", scale='utc')\n",
    "    end = Time(f\"{nextDayString}T09:00:00\", scale='utc')\n",
    "    endObserving = Time(f\"{nextDayString}T08:00:00\", scale='utc')\n",
    "    \n",
    "    m1Temp = await client.select_time_series('lsst.sal.ESS.temperature', \\\n",
    "                                                    ['temperatureItem5', 'sensorName'],  start, end, index=201)\n",
    "    m1Temp = m1Temp[m1Temp['sensorName'] == 'AuxTel-ESS03']                                        \n",
    "    \n",
    "    m2Temp = await client.select_time_series('lsst.sal.ESS.temperature', \\\n",
    "                                                    ['temperatureItem3', 'sensorName'],  start, end, index=201)\n",
    "    m2Temp = m2Temp[m2Temp['sensorName'] == 'AuxTel-ESS01']          \n",
    "    \n",
    "    outTemp = await client.select_time_series('lsst.sal.ESS.temperature', \\\n",
    "                                                    ['temperatureItem0'],  start, end, index=301)\n",
    "    \n",
    "    fanAnemom = await client.select_time_series('lsst.sal.ESS.airFlow', \\\n",
    "                                                    ['speed'],  start, end, index=204)\n",
    "    def fanOn(speed):\n",
    "        if speed < 0.40:\n",
    "            return 0.0\n",
    "        else:\n",
    "            return 1.0\n",
    "    \n",
    "    fanAnemom['fanOn'] = fanAnemom['speed'].apply(fanOn)\n",
    "    axs = fig.subplots(3,1)\n",
    "    plt.subplots_adjust(hspace=0.5)\n",
    "    plt.suptitle(f\"Seeing related temperatures {dayObs}\")\n",
    "    axs[0].set_title(\"M2 temp (C)\")\n",
    "    m2Temp['temperatureItem3'].plot(ax=axs[0], label=\"M2 Temp\")\n",
    "    outTemp['temperatureItem0'].plot(ax=axs[0], label=\"Outside Temp\")\n",
    "    axs[0].legend()\n",
    "    axs[1].set_title(\"M1 temp (C) - dotted lines are when observing\")\n",
    "    m1Temp['temperatureItem5'].plot(ax=axs[1], label=\"M1 Temp\")\n",
    "    outTemp['temperatureItem0'].plot(ax=axs[1], label=\"Outside Temp\")\n",
    "    axs[1].axvline(startObserving.isot, ls='--', color='green')\n",
    "    axs[1].axvline(endObserving.isot, ls='--', color='red')\n",
    "    axs[1].legend()\n",
    "    axs[2].set_title(\"Vent Status\")\n",
    "    fanAnemom['fanOn'].plot(ax=axs[2])\n",
    "\n",
    "    pdf.savefig(fig)  # saves the current figure into a pdf page\n",
    "    plt.clf()\n",
    "pdf.close()\n"
   ]
  },
  {
   "cell_type": "code",
   "execution_count": null,
   "id": "e913cf6a-89eb-4ee7-b799-1e0db9df6a94",
   "metadata": {
    "execution": {
     "iopub.execute_input": "2024-03-27T15:55:54.267292Z",
     "iopub.status.busy": "2024-03-27T15:55:54.266963Z",
     "iopub.status.idle": "2024-03-27T15:56:03.406229Z",
     "shell.execute_reply": "2024-03-27T15:56:03.405664Z",
     "shell.execute_reply.started": "2024-03-27T15:55:54.267278Z"
    }
   },
   "outputs": [],
   "source": []
  },
  {
   "cell_type": "code",
   "execution_count": null,
   "id": "a61f7040-2ec4-4f68-a287-ce84d6d45298",
   "metadata": {
    "execution": {
     "iopub.execute_input": "2024-03-27T15:58:26.543114Z",
     "iopub.status.busy": "2024-03-27T15:58:26.542866Z",
     "iopub.status.idle": "2024-03-27T15:58:33.017482Z",
     "shell.execute_reply": "2024-03-27T15:58:33.016853Z",
     "shell.execute_reply.started": "2024-03-27T15:58:26.543096Z"
    }
   },
   "outputs": [],
   "source": [
    "%matplotlib inline\n",
    "fig, axs = plt.subplots(3,1,figsize=(10,10))\n"
   ]
  },
  {
   "cell_type": "code",
   "execution_count": null,
   "id": "d9f44987-c508-4a0d-83d3-97d83bd5b3d3",
   "metadata": {},
   "outputs": [],
   "source": []
  }
 ],
 "metadata": {
  "kernelspec": {
   "display_name": "LSST",
   "language": "python",
   "name": "lsst"
  },
  "language_info": {
   "codemirror_mode": {
    "name": "ipython",
    "version": 3
   },
   "file_extension": ".py",
   "mimetype": "text/x-python",
   "name": "python",
   "nbconvert_exporter": "python",
   "pygments_lexer": "ipython3",
   "version": "3.11.7"
  }
 },
 "nbformat": 4,
 "nbformat_minor": 5
}
