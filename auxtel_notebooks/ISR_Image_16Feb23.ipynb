{
 "cells": [
  {
   "cell_type": "markdown",
   "id": "e8cc3a14-f377-44f4-ab4c-97c9c3047697",
   "metadata": {},
   "source": [
    "# For use in viewing ISR of an image\n",
    "Craig Lage 16-Feb-23"
   ]
  },
  {
   "cell_type": "code",
   "execution_count": null,
   "id": "a148b369-8943-4861-a51e-9cbeea70feb3",
   "metadata": {
    "execution": {
     "iopub.execute_input": "2023-02-16T12:26:22.592412Z",
     "iopub.status.busy": "2023-02-16T12:26:22.592175Z",
     "iopub.status.idle": "2023-02-16T12:26:24.983501Z",
     "shell.execute_reply": "2023-02-16T12:26:24.983000Z",
     "shell.execute_reply.started": "2023-02-16T12:26:22.592397Z"
    },
    "tags": []
   },
   "outputs": [],
   "source": [
    "import numpy as np\n",
    "from matplotlib import pyplot as plt\n",
    "\n",
    "from lsst.daf.butler import Butler\n",
    "from lsst.summit.utils import BestEffortIsr\n",
    "import lsst.afw.cameraGeom.utils as camGeomUtils\n",
    "from lsst.ip.isr import IsrTask, IsrTaskConfig\n",
    "from mpl_toolkits.axes_grid1 import make_axes_locatable\n",
    "from matplotlib.colors import LogNorm\n",
    "\n",
    "from lsst.summit.utils import quickSmooth\n",
    "%matplotlib inline\n",
    "\n",
    "from lsst.pipe.tasks.characterizeImage import CharacterizeImageTask\n",
    "from lsst.meas.algorithms.installGaussianPsf import InstallGaussianPsfTask"
   ]
  },
  {
   "cell_type": "code",
   "execution_count": null,
   "id": "7c44dc35-840c-438f-bdba-55b8b1ce5b77",
   "metadata": {
    "execution": {
     "iopub.execute_input": "2023-02-16T12:31:38.336048Z",
     "iopub.status.busy": "2023-02-16T12:31:38.335706Z",
     "iopub.status.idle": "2023-02-16T12:31:38.341157Z",
     "shell.execute_reply": "2023-02-16T12:31:38.340736Z",
     "shell.execute_reply.started": "2023-02-16T12:31:38.336032Z"
    },
    "tags": []
   },
   "outputs": [],
   "source": [
    "def plotExp(exp):\n",
    "    # Borrowed from summit utils\n",
    "    data = quickSmooth(exp.image.array, 1)\n",
    "    vmin = np.nanpercentile(data, 1)\n",
    "    vmax = np.nanpercentile(data, 99)\n",
    "    vmin = 10\n",
    "    vmax = 10000\n",
    "    print(vmin, vmax)\n",
    "    figure = plt.figure(figsize=(12,12))\n",
    "    figure.clear()\n",
    "    ax1 = figure.add_subplot(111)\n",
    "    im1 = ax1.imshow(data, cmap='gray', origin='lower', vmin=vmin, vmax=vmax)\n",
    "    ax1.tick_params(which=\"major\", direction=\"in\", top=True, right=True, labelsize=8)\n",
    "    divider = make_axes_locatable(ax1)\n",
    "    cax = divider.append_axes(\"right\", size=\"5%\", pad=0.05)\n",
    "    plt.colorbar(im1, cax=cax)\n",
    "    plt.tight_layout()\n",
    "    #plt.show()\n",
    "    return figure\n",
    "\n",
    "def repairCosmics(postIsr):\n",
    "    # Borrowed from summit utils\n",
    "    if postIsr.getPsf() is None:\n",
    "        installPsfTask = InstallGaussianPsfTask()\n",
    "        installPsfTask.run(postIsr)\n",
    "\n",
    "    # TODO: try adding a reasonably wide Gaussian as a temp PSF\n",
    "    # and then just running repairTask on its own without any\n",
    "    # imChar. It should work, and be faster.\n",
    "    repairConfig = CharacterizeImageTask.ConfigClass()\n",
    "    repairConfig.doMeasurePsf = False\n",
    "    repairConfig.doApCorr = False\n",
    "    repairConfig.doDeblend = False\n",
    "    repairConfig.doWrite = False\n",
    "    repairConfig.repair.cosmicray.nCrPixelMax = 200000\n",
    "    repairTask = CharacterizeImageTask(config=repairConfig)\n",
    "    repairTask.repair.run(postIsr)\n",
    "    return\n"
   ]
  },
  {
   "cell_type": "code",
   "execution_count": null,
   "id": "558e3838-4aea-48e2-9629-5b1f60b2fbaf",
   "metadata": {
    "execution": {
     "iopub.execute_input": "2023-02-16T12:26:54.637937Z",
     "iopub.status.busy": "2023-02-16T12:26:54.637577Z",
     "iopub.status.idle": "2023-02-16T12:26:57.343686Z",
     "shell.execute_reply": "2023-02-16T12:26:57.343076Z",
     "shell.execute_reply.started": "2023-02-16T12:26:54.637921Z"
    },
    "tags": []
   },
   "outputs": [],
   "source": [
    "butler = Butler('/repo/embargo', collections=[\"LATISS/raw/all\", \"u/czw/DM-37811/parOStest.20230202a/calib\"])\n",
    "#biasButler = Butler(\"/repo/embargo\", collections=[\"u/cslage/bias_parallel_13144_B_17jan23\"])\n",
    "#ptcButler = Butler(\"/repo/embargo\", collections=[\"u/cslage/ptc_bot_cross_parallel_25jan23\"])\n",
    "crossButler = Butler(\"/repo/embargo\", collections=[\"u/snyder18/20230131/crosstalk_analysis\"])\n",
    "crossButler_run2 = Butler(\"/repo/embargo\", collections=[\"u/snyder18/20230131/crosstalk_analysis_run2\"])"
   ]
  },
  {
   "cell_type": "markdown",
   "id": "75e9e655-1176-4cf6-a8b2-ccb8ff195892",
   "metadata": {},
   "source": [
    " ### New ISR"
   ]
  },
  {
   "cell_type": "code",
   "execution_count": null,
   "id": "5fdbc6a3-4691-4baa-b8bd-c182b8e51de9",
   "metadata": {
    "execution": {
     "iopub.execute_input": "2023-02-16T12:28:54.929083Z",
     "iopub.status.busy": "2023-02-16T12:28:54.928719Z",
     "iopub.status.idle": "2023-02-16T12:28:54.952687Z",
     "shell.execute_reply": "2023-02-16T12:28:54.952239Z",
     "shell.execute_reply.started": "2023-02-16T12:28:54.929067Z"
    },
    "tags": []
   },
   "outputs": [],
   "source": [
    "isrConfig = IsrTaskConfig()\n",
    "isrConfig.overscan.fitType=\"MEDIAN_PER_ROW\"\n",
    "isrConfig.overscan.doParallelOverscan=True\n",
    "isrConfig.doLinearize=False\n",
    "isrConfig.doOverscan=True\n",
    "isrConfig.doAssembleCcd=True\n",
    "isrConfig.doBias=True\n",
    "isrConfig.doVariance=True\n",
    "isrConfig.doLinearize=False\n",
    "isrConfig.doCrosstalk=False\n",
    "isrConfig.doBrighterFatter=False\n",
    "isrConfig.doDark=False\n",
    "isrConfig.doStrayLight=False\n",
    "isrConfig.doFlat=False\n",
    "isrConfig.doFringe=False\n",
    "isrConfig.doApplyGains=False\n",
    "isrConfig.doDefect=False\n",
    "isrConfig.doNanMasking=True\n",
    "isrConfig.doInterpolate=False\n",
    "isrConfig.doSaturation=False\n",
    "isrConfig.doSaturationInterpolation=False\n",
    "isrConfig.doWrite=False\n",
    "isrTask = IsrTask(config=isrConfig)"
   ]
  },
  {
   "cell_type": "code",
   "execution_count": null,
   "id": "50ae40b2-b711-435e-9423-3085bff83c56",
   "metadata": {
    "execution": {
     "iopub.execute_input": "2023-02-16T12:32:26.887515Z",
     "iopub.status.busy": "2023-02-16T12:32:26.887181Z",
     "iopub.status.idle": "2023-02-16T12:32:31.863934Z",
     "shell.execute_reply": "2023-02-16T12:32:31.863361Z",
     "shell.execute_reply.started": "2023-02-16T12:32:26.887499Z"
    },
    "tags": []
   },
   "outputs": [],
   "source": [
    "expId = 2023021500278\n",
    "exp = butler.get('raw', detector=0, exposure=expId)\n",
    "biasExp = butler.get('bias', detector=0, exposure=expId)\n",
    "\n",
    "isrResult = isrTask.run(exp, bias=biasExp)\n",
    "postIsrExp = isrResult.exposure\n",
    "repairCosmics(postIsrExp)\n",
    "plt.suptitle(f\"{expId}\")\n",
    "fig = plotExp(postIsrExp)\n",
    "plt.savefig(f\"/home/c/cslage/u/AuxTel/isr/Streaked_Flat_{expId}_15Feb23.png\")"
   ]
  },
  {
   "cell_type": "code",
   "execution_count": null,
   "id": "9a5c48e3-6436-4e7e-a4f3-c64ac0b431d6",
   "metadata": {},
   "outputs": [],
   "source": []
  }
 ],
 "metadata": {
  "kernelspec": {
   "display_name": "LSST",
   "language": "python",
   "name": "lsst"
  },
  "language_info": {
   "codemirror_mode": {
    "name": "ipython",
    "version": 3
   },
   "file_extension": ".py",
   "mimetype": "text/x-python",
   "name": "python",
   "nbconvert_exporter": "python",
   "pygments_lexer": "ipython3",
   "version": "3.10.9"
  },
  "toc-autonumbering": false,
  "toc-showcode": false,
  "toc-showmarkdowntxt": true
 },
 "nbformat": 4,
 "nbformat_minor": 5
}
