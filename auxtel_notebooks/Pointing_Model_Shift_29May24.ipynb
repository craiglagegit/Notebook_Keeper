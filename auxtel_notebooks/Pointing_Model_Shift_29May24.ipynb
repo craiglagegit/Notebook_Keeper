{
 "cells": [
  {
   "cell_type": "markdown",
   "id": "153412e6",
   "metadata": {},
   "source": [
    "# AuxTel mount issue - 25-Feb-2022\n",
    "\n",
    "In this notebook, investigate mount issue from 20220215\\\n",
    "Why was the mount issued a \"full stop\"?"
   ]
  },
  {
   "cell_type": "code",
   "execution_count": null,
   "id": "fcd0a71e",
   "metadata": {
    "execution": {
     "iopub.execute_input": "2024-05-29T12:38:36.212219Z",
     "iopub.status.busy": "2024-05-29T12:38:36.212089Z",
     "iopub.status.idle": "2024-05-29T12:38:36.793775Z",
     "shell.execute_reply": "2024-05-29T12:38:36.793291Z",
     "shell.execute_reply.started": "2024-05-29T12:38:36.212206Z"
    }
   },
   "outputs": [],
   "source": [
    "import sys, time, os, asyncio\n",
    "\n",
    "from datetime import datetime\n",
    "import numpy as np\n",
    "import matplotlib.pyplot as plt\n",
    "import pandas as pd\n",
    "from astropy.time import Time, TimeDelta\n",
    "from lsst_efd_client import EfdClient"
   ]
  },
  {
   "cell_type": "code",
   "execution_count": null,
   "id": "aed2b09e",
   "metadata": {
    "execution": {
     "iopub.execute_input": "2024-05-29T12:38:37.903402Z",
     "iopub.status.busy": "2024-05-29T12:38:37.903239Z",
     "iopub.status.idle": "2024-05-29T12:38:38.370773Z",
     "shell.execute_reply": "2024-05-29T12:38:38.370274Z",
     "shell.execute_reply.started": "2024-05-29T12:38:37.903391Z"
    }
   },
   "outputs": [],
   "source": [
    "# Get EFD client\n",
    "client = EfdClient('usdf_efd')"
   ]
  },
  {
   "cell_type": "code",
   "execution_count": null,
   "id": "f4e5392f-7d14-4ce7-bc3e-a3bcce0423c2",
   "metadata": {
    "execution": {
     "iopub.execute_input": "2024-05-29T12:50:30.123590Z",
     "iopub.status.busy": "2024-05-29T12:50:30.123363Z",
     "iopub.status.idle": "2024-05-29T12:51:43.741344Z",
     "shell.execute_reply": "2024-05-29T12:51:43.740918Z",
     "shell.execute_reply.started": "2024-05-29T12:50:30.123573Z"
    }
   },
   "outputs": [],
   "source": [
    "start = Time(\"2024-04-23T00:00:00\", scale='utc')\n",
    "end = Time(\"2024-04-23T12:00:00\", scale='utc')\n",
    "\n",
    "items = [\"azimuthCalculatedAngle\", \"azimuthEncoder1Raw\", \"azimuthEncoder2Raw\", \"azimuthEncoder3Raw\"]\n",
    "\n",
    "az = await client.select_packed_time_series(\"lsst.sal.ATMCS.mount_AzEl_Encoders\", \n",
    "                                            items,  start, end)\n",
    "\n",
    "print(len(az))"
   ]
  },
  {
   "cell_type": "code",
   "execution_count": null,
   "id": "dc96b330-628f-4d01-b095-e29b624180a9",
   "metadata": {
    "execution": {
     "iopub.execute_input": "2024-05-29T12:53:50.550954Z",
     "iopub.status.busy": "2024-05-29T12:53:50.550766Z",
     "iopub.status.idle": "2024-05-29T12:54:42.420130Z",
     "shell.execute_reply": "2024-05-29T12:54:42.419803Z",
     "shell.execute_reply.started": "2024-05-29T12:53:50.550940Z"
    }
   },
   "outputs": [],
   "source": [
    "az_values = az[\"azimuthCalculatedAngle\"].values\n",
    "enc1_values = az[\"azimuthEncoder1Raw\"].values\n",
    "enc2_values = az[\"azimuthEncoder2Raw\"].values\n",
    "enc3_values = az[\"azimuthEncoder3Raw\"].values\n",
    "plt.scatter(az_values, enc1_values, label='Az encoder 1')\n",
    "plt.scatter(az_values, enc2_values, label='Az encoder 2')\n",
    "plt.scatter(az_values, enc3_values, label='Az encoder 3')\n",
    "plt.legend()\n",
    "plt.xlim(-270, 270)"
   ]
  },
  {
   "cell_type": "code",
   "execution_count": null,
   "id": "35f7e225-75b3-49b3-a380-89377aed82f3",
   "metadata": {
    "execution": {
     "iopub.execute_input": "2024-05-29T13:21:28.598063Z",
     "iopub.status.busy": "2024-05-29T13:21:28.597835Z",
     "iopub.status.idle": "2024-05-29T13:22:04.683131Z",
     "shell.execute_reply": "2024-05-29T13:22:04.682652Z",
     "shell.execute_reply.started": "2024-05-29T13:21:28.598048Z"
    },
    "jupyter": {
     "outputs_hidden": true
    }
   },
   "outputs": [],
   "source": [
    "start = Time(\"2024-05-28T00:00:00\", scale='utc')\n",
    "end = Time(\"2024-05-28T12:00:00\", scale='utc')\n",
    "\n",
    "items = [\"azimuthCalculatedAngle\", \"azimuthEncoder1Raw\", \"azimuthEncoder2Raw\", \"azimuthEncoder3Raw\"]\n",
    "\n",
    "az = await client.select_packed_time_series(\"lsst.sal.ATMCS.mount_AzEl_Encoders\", \n",
    "                                            items,  start, end)\n",
    "\n",
    "print(len(az))"
   ]
  },
  {
   "cell_type": "code",
   "execution_count": null,
   "id": "adef32a9-d2bd-4505-8287-f68d011609cd",
   "metadata": {
    "execution": {
     "iopub.execute_input": "2024-05-29T13:22:04.700190Z",
     "iopub.status.busy": "2024-05-29T13:22:04.700072Z",
     "iopub.status.idle": "2024-05-29T13:22:30.428496Z",
     "shell.execute_reply": "2024-05-29T13:22:30.428126Z",
     "shell.execute_reply.started": "2024-05-29T13:22:04.700181Z"
    }
   },
   "outputs": [],
   "source": [
    "az_values = az[\"azimuthCalculatedAngle\"].values\n",
    "enc1_values = az[\"azimuthEncoder1Raw\"].values\n",
    "enc2_values = az[\"azimuthEncoder2Raw\"].values\n",
    "enc3_values = az[\"azimuthEncoder3Raw\"].values\n",
    "plt.scatter(az_values, enc1_values, label='Az encoder 1')\n",
    "plt.scatter(az_values, enc2_values, label='Az encoder 2')\n",
    "plt.scatter(az_values, enc3_values, label='Az encoder 3')\n",
    "plt.legend()\n",
    "plt.xlim(-270, 270)"
   ]
  },
  {
   "cell_type": "code",
   "execution_count": null,
   "id": "0830fafd-8ba0-4681-ad77-99a7fc27396e",
   "metadata": {},
   "outputs": [],
   "source": [
    "start = Time(\"2024-05-28T00:00:00\", scale='utc')\n",
    "end = Time(\"2024-05-28T12:00:00\", scale='utc')\n",
    "\n",
    "\n",
    "m3 = await client.select_packed_time_series(\"lsst.sal.ATMCS.nasmyth_m3_mountMotorEncoders\", \n",
    "                                            \"m3Encoder\",  start, end)\n",
    "\n",
    "print(len(az))"
   ]
  }
 ],
 "metadata": {
  "kernelspec": {
   "display_name": "LSST",
   "language": "python",
   "name": "lsst"
  },
  "language_info": {
   "codemirror_mode": {
    "name": "ipython",
    "version": 3
   },
   "file_extension": ".py",
   "mimetype": "text/x-python",
   "name": "python",
   "nbconvert_exporter": "python",
   "pygments_lexer": "ipython3",
   "version": "3.11.7"
  }
 },
 "nbformat": 4,
 "nbformat_minor": 5
}
