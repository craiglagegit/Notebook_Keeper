{
 "cells": [
  {
   "cell_type": "markdown",
   "id": "b1860733-8579-4373-9add-40720bd2e41f",
   "metadata": {},
   "source": [
    "## Measuring shift on AuxTel Hysteresis run - 12-Dec-22\n",
    "\n",
    "Craig Lage"
   ]
  },
  {
   "cell_type": "code",
   "execution_count": null,
   "id": "61f6538a-7a03-4fbf-976c-577f14fff9cc",
   "metadata": {
    "execution": {
     "iopub.execute_input": "2022-12-16T19:36:35.538545Z",
     "iopub.status.busy": "2022-12-16T19:36:35.538288Z",
     "iopub.status.idle": "2022-12-16T19:36:35.543376Z",
     "shell.execute_reply": "2022-12-16T19:36:35.542843Z",
     "shell.execute_reply.started": "2022-12-16T19:36:35.538526Z"
    },
    "tags": []
   },
   "outputs": [],
   "source": [
    "import sys, time, os, asyncio, glob\n",
    "\n",
    "from datetime import datetime\n",
    "import numpy as np\n",
    "import matplotlib.pyplot as plt\n",
    "import astropy.io.fits as pf\n",
    "from astropy.time import Time, TimeDelta\n",
    "from astropy.coordinates import AltAz, ICRS, EarthLocation, Angle, FK5\n",
    "import astropy.units as u\n",
    "from astropy.table import Table\n",
    "from astroquery.astrometry_net import AstrometryNet\n",
    "from lsst.obs.lsst.translators.latiss import AUXTEL_LOCATION\n",
    "from lsst.daf.butler import Butler\n",
    "from lsst.pipe.tasks.characterizeImage import CharacterizeImageTask, CharacterizeImageConfig\n",
    "from lsst.ip.isr import IsrTask, IsrTaskConfig"
   ]
  },
  {
   "cell_type": "code",
   "execution_count": null,
   "id": "c23fbc40-2570-498c-8428-b2e7470aa356",
   "metadata": {
    "execution": {
     "iopub.execute_input": "2022-12-16T19:32:56.459567Z",
     "iopub.status.busy": "2022-12-16T19:32:56.459173Z",
     "iopub.status.idle": "2022-12-16T19:33:01.188289Z",
     "shell.execute_reply": "2022-12-16T19:33:01.187608Z",
     "shell.execute_reply.started": "2022-12-16T19:32:56.459544Z"
    },
    "tags": []
   },
   "outputs": [],
   "source": [
    "butler = Butler('/repo/embargo', collections=[\"LATISS/raw/all\", \"LATISS/calib\"])"
   ]
  },
  {
   "cell_type": "code",
   "execution_count": null,
   "id": "98894f19-e07c-4c65-a11e-4b9c6f65aed3",
   "metadata": {
    "execution": {
     "iopub.execute_input": "2022-12-16T19:39:12.688559Z",
     "iopub.status.busy": "2022-12-16T19:39:12.688328Z",
     "iopub.status.idle": "2022-12-16T19:39:12.716946Z",
     "shell.execute_reply": "2022-12-16T19:39:12.716423Z",
     "shell.execute_reply.started": "2022-12-16T19:39:12.688542Z"
    },
    "tags": []
   },
   "outputs": [],
   "source": [
    "isrConfig = IsrTaskConfig()\n",
    "isrConfig.doLinearize=False\n",
    "isrConfig.doOverscan=True\n",
    "isrConfig.doAssembleCcd=True\n",
    "isrConfig.doBias=True\n",
    "isrConfig.doVariance=True\n",
    "isrConfig.doLinearize=False\n",
    "isrConfig.doCrosstalk=False\n",
    "isrConfig.doBrighterFatter=False\n",
    "isrConfig.doDark=False\n",
    "isrConfig.doStrayLight=False\n",
    "isrConfig.doFlat=False\n",
    "isrConfig.doFringe=False\n",
    "isrConfig.doApplyGains=False\n",
    "isrConfig.doDefect=False\n",
    "isrConfig.doNanMasking=True\n",
    "isrConfig.doInterpolate=False\n",
    "isrConfig.doSaturation=False\n",
    "isrConfig.doSaturationInterpolation=False\n",
    "isrTask = IsrTask(config=isrConfig)"
   ]
  },
  {
   "cell_type": "code",
   "execution_count": null,
   "id": "506b38d1-87b2-4ab2-9010-e54e5aea1c54",
   "metadata": {
    "execution": {
     "iopub.execute_input": "2022-12-16T19:44:54.002015Z",
     "iopub.status.busy": "2022-12-16T19:44:54.001187Z",
     "iopub.status.idle": "2022-12-16T19:44:56.845084Z",
     "shell.execute_reply": "2022-12-16T19:44:56.844564Z",
     "shell.execute_reply.started": "2022-12-16T19:44:54.001992Z"
    },
    "tags": []
   },
   "outputs": [],
   "source": [
    "expId = 2022121200404\n",
    "exp = butler.get('raw', detector=0, exposure=expId)\n",
    "biasExp = butler.get('bias', detector=0, exposure=expId)\n",
    "isrResult = isrTask.run(exp, bias=biasExp)\n",
    "newExp = isrResult.exposure"
   ]
  },
  {
   "cell_type": "code",
   "execution_count": null,
   "id": "623786f6-cdaa-4256-b6c4-0b460a50b027",
   "metadata": {},
   "outputs": [],
   "source": []
  },
  {
   "cell_type": "code",
   "execution_count": null,
   "id": "7673f052-ce56-4319-a628-1f71ca4f9151",
   "metadata": {
    "execution": {
     "iopub.execute_input": "2022-12-16T19:44:59.516201Z",
     "iopub.status.busy": "2022-12-16T19:44:59.515760Z",
     "iopub.status.idle": "2022-12-16T19:45:04.618463Z",
     "shell.execute_reply": "2022-12-16T19:45:04.617867Z",
     "shell.execute_reply.started": "2022-12-16T19:44:59.516177Z"
    },
    "tags": []
   },
   "outputs": [],
   "source": [
    "charConfig = CharacterizeImageConfig()\n",
    "charConfig.doMeasurePsf = False\n",
    "charConfig.doApCorr = False\n",
    "charConfig.doDeblend = False\n",
    "charConfig.repair.doCosmicRay = False\n",
    "charConfig.repair.doInterpolate = True   \n",
    "charConfig.detection.minPixels = 500\n",
    "charTask = CharacterizeImageTask(config=charConfig)\n",
    "\n",
    "mData = newExp.getMetadata()\n",
    "charResult = charTask.run(newExp)\n",
    "sourceCatalog = charResult.sourceCat\n",
    "maxFlux = np.nanmax(sourceCatalog['base_CircularApertureFlux_3_0_instFlux'])\n",
    "selectBrightestSource = sourceCatalog['base_CircularApertureFlux_3_0_instFlux'] > maxFlux * 0.99\n",
    "brightestSource = sourceCatalog.subset(selectBrightestSource)\n",
    "brightestCentroid = (brightestSource['base_SdssCentroid_x'][0], \\\n",
    "                     brightestSource['base_SdssCentroid_y'][0])\n",
    "brightCatalog = sourceCatalog.subset(sourceCatalog['base_CircularApertureFlux_3_0_instFlux'] > maxFlux * 0.001)\n",
    "print(f\"exposure:{exposure}. Found {len(sourceCatalog)} sources, {len(brightCatalog)} bright sources\")\n",
    "print(f\"Brightest centroid at {brightestCentroid}\")\n",
    "\n",
    "rotpa = Angle(mData['ROTPA']*u.deg)\n",
    "el = Angle(mData['ELSTART'] * u.deg)\n",
    "az = Angle(mData['AZSTART'] * u.deg)\n",
    "dec = Angle(mData['DECSTART'] * u.deg)\n",
    "sinTheta =  np.cos(AUXTEL_LOCATION.lat) / np.cos(dec) * np.sin(az)\n",
    "theta = Angle(np.arcsin(sinTheta))\n",
    "rotAzEl = rotpa - theta - Angle(90.0 * u.deg)   \n"
   ]
  },
  {
   "cell_type": "code",
   "execution_count": null,
   "id": "636d1d57-082d-4e57-8c34-121734dbd5ae",
   "metadata": {
    "execution": {
     "iopub.execute_input": "2022-12-16T20:07:09.779073Z",
     "iopub.status.busy": "2022-12-16T20:07:09.778818Z",
     "iopub.status.idle": "2022-12-16T20:07:14.917891Z",
     "shell.execute_reply": "2022-12-16T20:07:14.917203Z",
     "shell.execute_reply.started": "2022-12-16T20:07:09.779054Z"
    },
    "tags": []
   },
   "outputs": [],
   "source": [
    "cat = brightCatalog\n",
    "from matplotlib.colors import LogNorm\n",
    "%matplotlib inline\n",
    "Ncenter = (700, 900)\n",
    "Nlength = 500.0\n",
    "NcenterAzEl = (3200, 700)\n",
    "Nlabel = 650.0\n",
    "yShift = 150.0\n",
    "\n",
    "plt.figure(figsize=(16,16))\n",
    "plt.title(f\"AuxTel Spectra Orientation, {expId}\", fontsize = 24)\n",
    "arr = newExp.image.array\n",
    "arr = np.clip(arr, 1, 100000) # This image has some negative values, and this removes them\n",
    "img = plt.imshow(arr, norm=LogNorm(vmin=1, vmax=1000),  interpolation='Nearest', cmap='gray')\n",
    "\n",
    "plt.scatter(brightestCentroid[0],brightestCentroid[1]\\\n",
    "            ,color='red', marker='x', s=1000)\n",
    "\n",
    "rotpa = Angle(mData['ROTPA']*u.deg)\n",
    "plt.arrow(Ncenter[0],Ncenter[1], -Nlength*np.sin(rotpa), Nlength*np.cos(rotpa),\\\n",
    "    color='green', width = 20)\n",
    "plt.text(Ncenter[0]-Nlabel*np.sin(rotpa),Ncenter[1]+Nlabel*np.cos(rotpa), 'N', \\\n",
    "    color='green', fontsize=12, weight='bold')\n",
    "plt.arrow(Ncenter[0],Ncenter[1], Nlength*np.cos(rotpa), Nlength*np.sin(rotpa),\\\n",
    "    color='green', width = 20)\n",
    "plt.text(Ncenter[0]+Nlabel*np.cos(rotpa),Ncenter[1]+Nlabel*np.sin(rotpa), 'E', \\\n",
    "    color='green', fontsize=12, weight='bold')\n",
    "\n",
    "el = Angle(mData['ELSTART'] * u.deg)\n",
    "az = Angle(mData['AZSTART'] * u.deg)\n",
    "dec = Angle(mData['DECSTART'] * u.deg)\n",
    "# Now calculate and plot the Az, El arrows from my algorithm\n",
    "sinTheta =  np.cos(AUXTEL_LOCATION.lat) / np.cos(dec) * np.sin(az)\n",
    "cosTheta = (np.sin(el) * np.sin(dec) - np.sin(AUXTEL_LOCATION.lat)) / (np.cos(el) * np.cos(dec))\n",
    "\n",
    "theta = Angle(np.arcsin(sinTheta))\n",
    "if cosTheta > 0:\n",
    "    rotAzEl = rotpa - theta\n",
    "else:    \n",
    "    rotAzEl = rotpa - (Angle(180.0 * u.deg) - theta)\n",
    "\n",
    "print(theta.deg, rotpa.deg, rotAzEl.deg)\n",
    "plt.arrow(NcenterAzEl[0],NcenterAzEl[1], -Nlength*np.sin(rotAzEl), Nlength*np.cos(rotAzEl),\\\n",
    "    color='cyan', width = 20)\n",
    "plt.text(NcenterAzEl[0]-Nlabel*np.sin(rotAzEl),NcenterAzEl[1]+Nlabel*np.cos(rotAzEl), 'EL', \\\n",
    "    color='cyan', fontsize=12, weight='bold')\n",
    "plt.arrow(NcenterAzEl[0],NcenterAzEl[1], Nlength*np.cos(rotAzEl), Nlength*np.sin(rotAzEl),\\\n",
    "    color='cyan', width = 20)\n",
    "plt.text(NcenterAzEl[0]+Nlabel*np.cos(rotAzEl),NcenterAzEl[1]+Nlabel*np.sin(rotAzEl), 'AZ', \\\n",
    "    color='cyan', fontsize=12, weight='bold')\n",
    "plt.gca().invert_yaxis()\n",
    "\n",
    "plt.savefig(f\"/home/c/cslage/DATA/AuxTel_Spectra_Orientation_{expId}_16Dec22.pdf\")"
   ]
  },
  {
   "cell_type": "code",
   "execution_count": null,
   "id": "824513fa-4ce9-45ca-b0cb-244fe87126bd",
   "metadata": {
    "tags": []
   },
   "outputs": [],
   "source": []
  },
  {
   "cell_type": "code",
   "execution_count": null,
   "id": "796c2f8c-45f0-4b31-88b0-7859efe2a58b",
   "metadata": {},
   "outputs": [],
   "source": []
  }
 ],
 "metadata": {
  "kernelspec": {
   "display_name": "LSST",
   "language": "python",
   "name": "lsst"
  },
  "language_info": {
   "codemirror_mode": {
    "name": "ipython",
    "version": 3
   },
   "file_extension": ".py",
   "mimetype": "text/x-python",
   "name": "python",
   "nbconvert_exporter": "python",
   "pygments_lexer": "ipython3",
   "version": "3.10.8"
  }
 },
 "nbformat": 4,
 "nbformat_minor": 5
}
