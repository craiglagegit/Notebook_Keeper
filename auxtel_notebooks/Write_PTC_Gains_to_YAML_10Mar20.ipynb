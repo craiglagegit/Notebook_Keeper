{
 "cells": [
  {
   "cell_type": "markdown",
   "metadata": {},
   "source": [
    "# Notebook for taking gains extracted from PTC and writing them to a yaml file.\n",
    "\n",
    "Initially written 09 Mar 2020 by Craig Lage."
   ]
  },
  {
   "cell_type": "code",
   "execution_count": null,
   "metadata": {},
   "outputs": [],
   "source": [
    "! eups list -s | grep lsst_distrib\n",
    "! eups list -s obs_lsst"
   ]
  },
  {
   "cell_type": "code",
   "execution_count": null,
   "metadata": {},
   "outputs": [],
   "source": [
    "from lsst.daf.persistence import Butler\n",
    "import sys, os, glob\n",
    "import pickle as pkl\n",
    "import numpy as np\n",
    "import matplotlib.pyplot as plt\n",
    "import astropy.io.fits as pf"
   ]
  },
  {
   "cell_type": "code",
   "execution_count": null,
   "metadata": {
    "jupyter": {
     "outputs_hidden": true
    }
   },
   "outputs": [],
   "source": [
    "REPO_DIR = '/project/shared/auxTel/'\n",
    "GAIN_DIR = '/project/shared/auxTel/rerun/cslage/PTC_Defect_2021-02-18/'\n",
    "butler = Butler(REPO_DIR)\n",
    "dataId = {'dayObs':\"2021-02-18\", 'detector':0}"
   ]
  },
  {
   "cell_type": "code",
   "execution_count": null,
   "metadata": {},
   "outputs": [],
   "source": [
    "numAmps = 16\n",
    "# Get the yaml file\n",
    "file = open('/home/cslage/alternate_branches/obs_lsst/policy/latiss/RXX.yaml', 'r')\n",
    "lines = file.readlines()\n",
    "file.close()\n",
    "\n",
    "file = open('/home/cslage/alternate_branches/obs_lsst/policy/latiss/test.yaml', 'w')\n",
    "# First, copy the header lines from the old file\n",
    "for i in range(9):\n",
    "    file.write(lines[i])\n",
    "\n",
    "# Get the gain/noise data\n",
    "gain_pickle_file = GAIN_DIR+'calibrations/ptc/ptcDataset-det000.pkl'\n",
    "gain_file = open(gain_pickle_file, 'rb')\n",
    "data = pkl.load(gain_file)\n",
    "raw = butler.get('raw', dataId=dataId)\n",
    "ccd = raw.getDetector()\n",
    "\n",
    "for amp in ccd:\n",
    "    ampName = amp.getName()\n",
    "    newGain = data.gain[ampName]\n",
    "    newNoise = data.noise[ampName]\n",
    "    newLine = '      %s : { gain : %.4f, readNoise : %.1f }\\n'%(ampName, newGain, newNoise)\n",
    "    file.write(newLine)\n",
    "file.close()\n"
   ]
  },
  {
   "cell_type": "code",
   "execution_count": null,
   "metadata": {},
   "outputs": [],
   "source": []
  }
 ],
 "metadata": {
  "kernelspec": {
   "display_name": "LSST",
   "language": "python",
   "name": "lsst"
  },
  "language_info": {
   "codemirror_mode": {
    "name": "ipython",
    "version": 3
   },
   "file_extension": ".py",
   "mimetype": "text/x-python",
   "name": "python",
   "nbconvert_exporter": "python",
   "pygments_lexer": "ipython3",
   "version": "3.8.6"
  }
 },
 "nbformat": 4,
 "nbformat_minor": 4
}
