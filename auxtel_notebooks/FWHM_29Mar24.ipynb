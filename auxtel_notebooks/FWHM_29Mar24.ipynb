{
 "cells": [
  {
   "cell_type": "markdown",
   "metadata": {},
   "source": [
    "## AuxTel Image elongation due to azimuth oscillation\n",
    "\n",
    "Craig Lage 17-Mar-22"
   ]
  },
  {
   "cell_type": "code",
   "execution_count": null,
   "metadata": {
    "execution": {
     "iopub.execute_input": "2024-04-02T23:45:00.111768Z",
     "iopub.status.busy": "2024-04-02T23:45:00.111322Z",
     "iopub.status.idle": "2024-04-02T23:45:07.343932Z",
     "shell.execute_reply": "2024-04-02T23:45:07.343501Z",
     "shell.execute_reply.started": "2024-04-02T23:45:00.111749Z"
    }
   },
   "outputs": [],
   "source": [
    "import sys, time, os, asyncio, glob\n",
    "from datetime import datetime\n",
    "import numpy as np\n",
    "import matplotlib.pyplot as plt\n",
    "from matplotlib.backends.backend_pdf import PdfPages\n",
    "from astropy.time import Time, TimeDelta\n",
    "from lsst.daf.butler import Butler\n",
    "from lsst_efd_client import EfdClient\n",
    "from lsst.pipe.tasks.characterizeImage import CharacterizeImageTask, CharacterizeImageConfig\n",
    "import lsst.summit.utils.butlerUtils as butlerUtils\n",
    "from lsst.summit.utils.bestEffort import BestEffortIsr"
   ]
  },
  {
   "cell_type": "code",
   "execution_count": null,
   "metadata": {
    "execution": {
     "iopub.execute_input": "2024-04-02T23:45:07.349896Z",
     "iopub.status.busy": "2024-04-02T23:45:07.349768Z",
     "iopub.status.idle": "2024-04-02T23:45:08.800204Z",
     "shell.execute_reply": "2024-04-02T23:45:08.799757Z",
     "shell.execute_reply.started": "2024-04-02T23:45:07.349882Z"
    }
   },
   "outputs": [],
   "source": [
    "# Get EFD client and the butler\n",
    "client = EfdClient('usdf_efd')\n",
    "butler = butlerUtils.makeDefaultLatissButler(embargo=True)\n",
    "bestEffort = BestEffortIsr(embargo=True)\n",
    "\n",
    "# Set up the source catalog task\n",
    "charConfig = CharacterizeImageConfig()\n",
    "charConfig.doMeasurePsf = False\n",
    "charConfig.doApCorr = False\n",
    "charConfig.doDeblend = False\n",
    "charConfig.repair.doCosmicRay = True\n",
    "charConfig.repair.doInterpolate = True   \n",
    "charConfig.detection.minPixels = 500\n",
    "charTask = CharacterizeImageTask(config=charConfig)"
   ]
  },
  {
   "cell_type": "code",
   "execution_count": null,
   "metadata": {
    "execution": {
     "iopub.execute_input": "2024-04-02T23:48:34.331048Z",
     "iopub.status.busy": "2024-04-02T23:48:34.330762Z",
     "iopub.status.idle": "2024-04-02T23:48:34.338150Z",
     "shell.execute_reply": "2024-04-02T23:48:34.337835Z",
     "shell.execute_reply.started": "2024-04-02T23:48:34.331027Z"
    }
   },
   "outputs": [],
   "source": [
    "def find_cwfs(butler, dayObs):\n",
    "    cwfs_dict = {}\n",
    "    records = butler.registry.queryDimensionRecords(\"exposure\", where=\"exposure.day_obs=%d\"%dayObs)\n",
    "    records = records.order_by('id')\n",
    "    record_iter = iter(records)\n",
    "    this_record = next(record_iter)\n",
    "    while True:\n",
    "        try:\n",
    "            if this_record.observation_type != 'cwfs':\n",
    "                this_record = next(record_iter)\n",
    "                continue\n",
    "            else:\n",
    "                this_dict = {}\n",
    "                \n",
    "                key = this_record.id\n",
    "                this_dict['First_CWFS'] = this_record.id\n",
    "                this_record = next(record_iter)\n",
    "                while this_record.observation_type == 'cwfs':\n",
    "                    this_dict['Last_CWFS'] = this_record.id\n",
    "                    this_record = next(record_iter)\n",
    "                if this_record.observation_type == 'acq' and int(this_record.exposure_time) == 5:\n",
    "                    this_dict['CWFS_acq'] = this_record.id\n",
    "                    this_record = next(record_iter)\n",
    "                if this_record.observation_type == 'acq' and int(this_record.exposure_time) == 1:\n",
    "                    this_dict['First_sweep_acq'] = this_record.id\n",
    "                    this_record = next(record_iter)\n",
    "                while this_record.observation_type == 'acq':\n",
    "                    this_record = next(record_iter)\n",
    "                sweeps = []\n",
    "                while this_record.observation_type == 'engtest' and int(this_record.exposure_time) == 20:\n",
    "                    sweeps.append(this_record.id)\n",
    "                    this_record = next(record_iter)\n",
    "                if len(sweeps) == 9 and len(this_dict.keys()) == 4:\n",
    "                    this_dict['Sweeps'] = sweeps\n",
    "                    cwfs_dict[key] = this_dict\n",
    "                else:\n",
    "                    continue\n",
    "        except StopIteration:\n",
    "            return cwfs_dict\n",
    "    return\n",
    "                \n",
    "def get_FWHM(expId, charTask): \n",
    "    dataId = dict(exposure=expId, detector=0)\n",
    "    bestEffort.getExposure(dataId)\n",
    "    dataType = 'quickLookExp'\n",
    "    exp = butler.get(dataType, dataId)\n",
    "    charResult = charTask.run(exp)\n",
    "    sourceCatalog = charResult.sourceCat\n",
    "    Ixx = sourceCatalog.getIxx()\n",
    "    Iyy = sourceCatalog.getIyy()\n",
    "    FWHM_x = 2.35 * np.sqrt(Ixx) \n",
    "    FWHM_y = 2.35 * np.sqrt(Iyy) \n",
    "    FWHM = np.sqrt((FWHM_x**2 +FWHM_y**2) / 2.0) / 10.0\n",
    "    print(FWHM)\n",
    "    print(FWHM_x)\n",
    "    FWHM_med = np.nanmedian(FWHM)\n",
    "    FWHM_std = np.nanstd(FWHM)\n",
    "    return [FWHM_med, FWHM_std]"
   ]
  },
  {
   "cell_type": "code",
   "execution_count": null,
   "metadata": {
    "execution": {
     "iopub.execute_input": "2024-04-02T23:48:42.560156Z",
     "iopub.status.busy": "2024-04-02T23:48:42.559869Z",
     "iopub.status.idle": "2024-04-02T23:48:51.765701Z",
     "shell.execute_reply": "2024-04-02T23:48:51.765221Z",
     "shell.execute_reply.started": "2024-04-02T23:48:42.560141Z"
    }
   },
   "outputs": [],
   "source": [
    "get_FWHM(2024040200268, charTask)"
   ]
  },
  {
   "cell_type": "code",
   "execution_count": null,
   "metadata": {
    "execution": {
     "iopub.execute_input": "2024-04-01T12:22:42.320664Z",
     "iopub.status.busy": "2024-04-01T12:22:42.320191Z",
     "iopub.status.idle": "2024-04-01T12:37:58.032724Z",
     "shell.execute_reply": "2024-04-01T12:37:58.032335Z",
     "shell.execute_reply.started": "2024-04-01T12:22:42.320650Z"
    },
    "jupyter": {
     "outputs_hidden": true
    },
    "tags": []
   },
   "outputs": [],
   "source": [
    "dayObsList = [20240314, 20240321, 20240328]\n",
    "cwfs_times = []\n",
    "sweep_times = []\n",
    "\n",
    "pdf = PdfPages(\"/home/c/cslage/u/AuxTel/fwhm/Focus_Comparison_01Apr24.pdf\")\n",
    "fig = plt.figure(figsize=(15,5))\n",
    "for dayObs in dayObsList:\n",
    "    cwfs_dict = find_cwfs(butler, dayObs)\n",
    "    for key in cwfs_dict.keys():\n",
    "        this_dict = cwfs_dict[key]\n",
    "        cwfs_start_expId = this_dict['First_CWFS']\n",
    "        mData = butler.get('raw.metadata', detector=0, exposure=cwfs_start_expId)\n",
    "        cwfs_start = Time(mData['DATE-BEG'], scale='tai')\n",
    "        cwfs_focus_expId = this_dict['CWFS_acq']\n",
    "        mData = butler.get('raw.metadata', detector=0, exposure=cwfs_focus_expId)\n",
    "        cwfs_focus = mData['FOCUSZ']\n",
    "        cwfs_end = Time(mData['DATE-END'], scale='tai')\n",
    "        cwfs_time = cwfs_end.unix_tai - cwfs_start.unix_tai\n",
    "        cwfs_times.append(cwfs_time)\n",
    "        sweep_start_expId = this_dict['First_sweep_acq']\n",
    "        mData = butler.get('raw.metadata', detector=0, exposure=sweep_start_expId)\n",
    "        sweep_start = Time(mData['DATE-BEG'], scale='tai')\n",
    "        sweep_end_expId = this_dict['Sweeps'][-1]\n",
    "        mData = butler.get('raw.metadata', detector=0, exposure=sweep_end_expId)\n",
    "        sweep_end = Time(mData['DATE-BEG'], scale='tai')\n",
    "        sweep_time = sweep_end.unix_tai - sweep_start.unix_tai \n",
    "        sweep_times.append(sweep_time)\n",
    "        fwhms = []\n",
    "        stds = []\n",
    "        focuses = []\n",
    "        for sweep in this_dict['Sweeps']:\n",
    "            mData = butler.get('raw.metadata', detector=0, exposure=sweep)\n",
    "            focus = mData['FOCUSZ']\n",
    "            [FWHM_med, FWHM_std] = get_FWHM(sweep, charTask)\n",
    "            focuses.append(focus)\n",
    "            fwhms.append(FWHM_med)\n",
    "            stds.append(FWHM_std)\n",
    "        plt.suptitle(f\"CWFS / Focus Sweep comparison {key}\", fontsize = 24)\n",
    "        fig.add_subplot(1,2,1)\n",
    "        plt.errorbar(focuses, fwhms, yerr=stds, marker = 'x', capsize=2)\n",
    "        plt.axvline(cwfs_focus, ls = '--', color='red')\n",
    "        plt.ylim(0.5, 2.0)\n",
    "        plt.text(cwfs_focus + 0.005, 1.4, \"CWFS best focus\", color='red')\n",
    "        plt.text(cwfs_focus + 0.005, 0.55, f\"Best focus FWHM = \\n{np.min(fwhms):.2f} arcsec\", color='green')\n",
    "        plt.xlabel(\"Focus_Z (mm)\")\n",
    "        plt.ylabel(\"Median PSM FWHM (arcseconds)\")\n",
    "        fig.add_subplot(1,2,2)\n",
    "        plt.axis('off')\n",
    "        plt.text(0, .9, f\"CWFS time = {cwfs_time:.1f} seconds\", fontsize=18)\n",
    "        plt.text(0, .7, f\"Sweep time = {sweep_time:.1f} seconds \\n(+ analysis - 30 sec min)\", fontsize=18)                \n",
    "        pdf.savefig(fig)  # saves the current figure into a pdf page\n",
    "        plt.clf()\n",
    "pdf.close()\n",
    "\n"
   ]
  },
  {
   "cell_type": "code",
   "execution_count": null,
   "metadata": {
    "execution": {
     "iopub.execute_input": "2024-04-01T12:43:41.448811Z",
     "iopub.status.busy": "2024-04-01T12:43:41.448540Z",
     "iopub.status.idle": "2024-04-01T12:43:41.682718Z",
     "shell.execute_reply": "2024-04-01T12:43:41.682335Z",
     "shell.execute_reply.started": "2024-04-01T12:43:41.448796Z"
    }
   },
   "outputs": [],
   "source": [
    "%matplotlib inline\n",
    "plt.clf()\n",
    "fig = plt.figure(figsize=(10,5))\n",
    "plt.title(\"Focus Methods Comparison March, 2024\", fontsize=24)\n",
    "plt.hist(sweep_times, bins = 50, color='blue')\n",
    "plt.hist(cwfs_times, bins = 10, color='red')\n",
    "plt.text(600, 7, f\"Median_CWFS_Time = \\n{np.median(cwfs_times):.1f} seconds\", color='red', fontsize=18)\n",
    "plt.text(600, 5, f\"Median_Sweep_Time = \\n{np.median(sweep_times):.1f} seconds (no analysis)\", color='blue', fontsize=18)\n",
    "plt.xlim(0, 2000)\n",
    "plt.xlabel(\"Time (sec)\")\n",
    "plt.savefig(\"/home/c/cslage/u/AuxTel/fwhm/Focus_Time_Comparison_01Apr24.pdf\")"
   ]
  },
  {
   "cell_type": "code",
   "execution_count": null,
   "metadata": {},
   "outputs": [],
   "source": []
  }
 ],
 "metadata": {
  "kernelspec": {
   "display_name": "LSST",
   "language": "python",
   "name": "lsst"
  },
  "language_info": {
   "codemirror_mode": {
    "name": "ipython",
    "version": 3
   },
   "file_extension": ".py",
   "mimetype": "text/x-python",
   "name": "python",
   "nbconvert_exporter": "python",
   "pygments_lexer": "ipython3",
   "version": "3.11.7"
  }
 },
 "nbformat": 4,
 "nbformat_minor": 4
}
