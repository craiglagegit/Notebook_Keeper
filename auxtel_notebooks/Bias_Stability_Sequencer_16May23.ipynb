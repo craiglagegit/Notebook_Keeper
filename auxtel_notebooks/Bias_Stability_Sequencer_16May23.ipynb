{
 "cells": [
  {
   "cell_type": "markdown",
   "metadata": {},
   "source": [
    "# Bias wave stability\n",
    "\n",
    "Looking at the impact of sequencer changes on the bias wave\\\n",
    "and large variations at the beginning of the serial read.\\\n",
    "Craig Lage - 07-Feb-23 - Sequencer files were created by Yousuke Utsumi and Stuart Marshall"
   ]
  },
  {
   "cell_type": "code",
   "execution_count": null,
   "metadata": {
    "execution": {
     "iopub.execute_input": "2023-05-16T15:49:33.840640Z",
     "iopub.status.busy": "2023-05-16T15:49:33.840424Z",
     "iopub.status.idle": "2023-05-16T15:49:35.257825Z",
     "shell.execute_reply": "2023-05-16T15:49:35.257232Z",
     "shell.execute_reply.started": "2023-05-16T15:49:33.840625Z"
    },
    "tags": []
   },
   "outputs": [],
   "source": [
    "import numpy as np\n",
    "import matplotlib.pyplot as plt\n",
    "import astropy.io.fits as pf\n",
    "from lsst.ip.isr import IsrTask, IsrTaskConfig\n",
    "import lsst.afw.display as afwDisplay\n",
    "import lsst.geom as geom"
   ]
  },
  {
   "cell_type": "code",
   "execution_count": null,
   "metadata": {
    "execution": {
     "iopub.execute_input": "2023-05-16T15:49:35.262754Z",
     "iopub.status.busy": "2023-05-16T15:49:35.262621Z",
     "iopub.status.idle": "2023-05-16T15:49:36.752559Z",
     "shell.execute_reply": "2023-05-16T15:49:36.751980Z",
     "shell.execute_reply.started": "2023-05-16T15:49:35.262742Z"
    },
    "tags": []
   },
   "outputs": [],
   "source": [
    "from lsst.daf.butler import Butler\n",
    "butler = Butler('/repo/embargo', collections=[\"LATISS/raw/all\", \"LATISS/calib\"])"
   ]
  },
  {
   "cell_type": "markdown",
   "metadata": {},
   "source": [
    "## First, we look at the impact of the more conventional sequencer changes"
   ]
  },
  {
   "cell_type": "code",
   "execution_count": null,
   "metadata": {
    "execution": {
     "iopub.execute_input": "2023-05-16T15:49:36.757643Z",
     "iopub.status.busy": "2023-05-16T15:49:36.757505Z",
     "iopub.status.idle": "2023-05-16T15:49:36.779945Z",
     "shell.execute_reply": "2023-05-16T15:49:36.779518Z",
     "shell.execute_reply.started": "2023-05-16T15:49:36.757630Z"
    },
    "tags": []
   },
   "outputs": [],
   "source": [
    "isrConfig = IsrTaskConfig()\n",
    "isrConfig.doLinearize=False\n",
    "isrConfig.doOverscan=True\n",
    "isrConfig.doAssembleCcd=True\n",
    "isrConfig.doBias=False\n",
    "isrConfig.doVariance=True\n",
    "isrConfig.doLinearize=False\n",
    "isrConfig.doCrosstalk=False\n",
    "isrConfig.doBrighterFatter=False\n",
    "isrConfig.doDark=False\n",
    "isrConfig.doStrayLight=False\n",
    "isrConfig.doFlat=False\n",
    "isrConfig.doFringe=False\n",
    "isrConfig.doApplyGains=False\n",
    "isrConfig.doDefect=False\n",
    "isrConfig.doNanMasking=True\n",
    "isrConfig.doInterpolate=False\n",
    "isrConfig.doSaturation=False\n",
    "isrConfig.doSaturationInterpolation=False\n",
    "isrTask = IsrTask(config=isrConfig)"
   ]
  },
  {
   "cell_type": "code",
   "execution_count": null,
   "metadata": {
    "tags": []
   },
   "outputs": [],
   "source": [
    "fig = plt.figure(figsize=(8,8))\n",
    "plt.suptitle(\"AuxTel bias stability\")\n",
    "names = ['Old Baseline', '20230509', '20230510', '20230511', '20230515']\n",
    "xplot = np.arange(509)\n",
    "for i, expId in enumerate([2023022200100, 2023050900020, 2023051000565, 2023051100565, 2023051500015]):\n",
    "    exp = butler.get('raw', detector=0, exposure=expId)\n",
    "    isrResult = isrTask.run(exp)\n",
    "    plotCounter = 1\n",
    "    for amp in exp.getDetector().getAmplifiers():\n",
    "        ampName = amp.getName()\n",
    "        bbox = amp.getBBox()\n",
    "        subExp = isrResult.exposure[bbox]\n",
    "        arr = subExp.image.array\n",
    "        plt.subplot(4,4,plotCounter)\n",
    "        plt.title(ampName)\n",
    "        plt.plot(xplot, np.mean(arr[100:1900, :], axis=0), label=names[i])\n",
    "        plt.ylim(-20,20)\n",
    "        if plotCounter % 4 == 1:\n",
    "            plt.ylabel(\"Signal(ADU)\")\n",
    "        else:\n",
    "            plt.yticks([])\n",
    "        if plotCounter > 12:\n",
    "            plt.xlabel(\"Xcoordinate(pixels)\")\n",
    "        else:\n",
    "            plt.xticks([])\n",
    "        plotCounter += 1\n",
    "plt.subplot(4,4,1)\n",
    "plt.legend(loc='lower left', fontsize=5)\n",
    "plt.savefig(\"/home/c/cslage/u/AuxTel/isr/sequencer_tests_22feb23/Bias_Stability_Sequencer_15May23.pdf\")"
   ]
  },
  {
   "cell_type": "code",
   "execution_count": null,
   "metadata": {
    "execution": {
     "iopub.execute_input": "2023-05-16T15:49:39.942414Z",
     "iopub.status.busy": "2023-05-16T15:49:39.942215Z",
     "iopub.status.idle": "2023-05-16T15:49:39.945735Z",
     "shell.execute_reply": "2023-05-16T15:49:39.945306Z",
     "shell.execute_reply.started": "2023-05-16T15:49:39.942399Z"
    },
    "tags": []
   },
   "outputs": [],
   "source": [
    "# Build a list of the master bias inputs\n",
    "bias_list = []\n",
    "for expId in range(2023042500023, 2023042500073, 5):\n",
    "    bias_list.append(expId)\n",
    "for expId in range(2023042500323, 2023042500373, 5):\n",
    "    bias_list.append(expId)\n",
    "for expId in range(2023042700002, 2023042700022, 2):\n",
    "    bias_list.append(expId)\n",
    "for expId in range(2023042700105, 2023042700125, 2):\n",
    "    bias_list.append(expId)\n",
    "    "
   ]
  },
  {
   "cell_type": "code",
   "execution_count": null,
   "metadata": {
    "execution": {
     "iopub.execute_input": "2023-05-16T15:49:46.625469Z",
     "iopub.status.busy": "2023-05-16T15:49:46.625232Z",
     "iopub.status.idle": "2023-05-16T15:49:46.628869Z",
     "shell.execute_reply": "2023-05-16T15:49:46.628456Z",
     "shell.execute_reply.started": "2023-05-16T15:49:46.625453Z"
    },
    "tags": []
   },
   "outputs": [],
   "source": [
    "len(bias_list)"
   ]
  },
  {
   "cell_type": "code",
   "execution_count": null,
   "metadata": {
    "execution": {
     "iopub.execute_input": "2023-05-16T15:49:58.098019Z",
     "iopub.status.busy": "2023-05-16T15:49:58.097774Z",
     "iopub.status.idle": "2023-05-16T15:51:23.128577Z",
     "shell.execute_reply": "2023-05-16T15:51:23.128060Z",
     "shell.execute_reply.started": "2023-05-16T15:49:58.098001Z"
    },
    "tags": []
   },
   "outputs": [],
   "source": [
    "fig = plt.figure(figsize=(8,8))\n",
    "plt.suptitle(\"AuxTel bias stability\")\n",
    "xplot = np.arange(509)\n",
    "for expId in bias_list:\n",
    "    exp = butler.get('raw', detector=0, exposure=expId)\n",
    "    isrResult = isrTask.run(exp)\n",
    "    plotCounter = 1\n",
    "    for amp in exp.getDetector().getAmplifiers():\n",
    "        ampName = amp.getName()\n",
    "        bbox = amp.getBBox()\n",
    "        subExp = isrResult.exposure[bbox]\n",
    "        arr = subExp.image.array\n",
    "        plt.subplot(4,4,plotCounter)\n",
    "        plt.title(ampName)\n",
    "        plt.plot(xplot, np.mean(arr[100:1900, :], axis=0))\n",
    "        plt.ylim(-20,20)\n",
    "        if plotCounter % 4 == 1:\n",
    "            plt.ylabel(\"Signal(ADU)\")\n",
    "        else:\n",
    "            plt.yticks([])\n",
    "        if plotCounter > 12:\n",
    "            plt.xlabel(\"Xcoordinate(pixels)\")\n",
    "        else:\n",
    "            plt.xticks([])\n",
    "        plotCounter += 1\n",
    "plt.subplot(4,4,1)\n",
    "plt.savefig(\"/home/c/cslage/u/AuxTel/isr/sequencer_tests_22feb23/Master_Bias_Inputs_15May23.pdf\")"
   ]
  },
  {
   "cell_type": "code",
   "execution_count": null,
   "metadata": {},
   "outputs": [],
   "source": []
  }
 ],
 "metadata": {
  "kernelspec": {
   "display_name": "LSST",
   "language": "python",
   "name": "lsst"
  },
  "language_info": {
   "codemirror_mode": {
    "name": "ipython",
    "version": 3
   },
   "file_extension": ".py",
   "mimetype": "text/x-python",
   "name": "python",
   "nbconvert_exporter": "python",
   "pygments_lexer": "ipython3",
   "version": "3.10.10"
  }
 },
 "nbformat": 4,
 "nbformat_minor": 4
}
