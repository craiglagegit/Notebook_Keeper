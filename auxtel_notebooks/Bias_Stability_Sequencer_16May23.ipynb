{
 "cells": [
  {
   "cell_type": "markdown",
   "metadata": {},
   "source": [
    "# Bias wave stability\n",
    "\n",
    "Looking at the impact of sequencer changes on the bias wave\\\n",
    "and large variations at the beginning of the serial read.\\\n",
    "Craig Lage - 07-Feb-23 - Sequencer files were created by Yousuke Utsumi and Stuart Marshall"
   ]
  },
  {
   "cell_type": "code",
   "execution_count": null,
   "metadata": {
    "execution": {
     "iopub.execute_input": "2023-05-16T13:00:52.443526Z",
     "iopub.status.busy": "2023-05-16T13:00:52.443305Z",
     "iopub.status.idle": "2023-05-16T13:00:53.881457Z",
     "shell.execute_reply": "2023-05-16T13:00:53.880866Z",
     "shell.execute_reply.started": "2023-05-16T13:00:52.443511Z"
    },
    "tags": []
   },
   "outputs": [],
   "source": [
    "import numpy as np\n",
    "import matplotlib.pyplot as plt\n",
    "import astropy.io.fits as pf\n",
    "from lsst.ip.isr import IsrTask, IsrTaskConfig\n",
    "import lsst.afw.display as afwDisplay\n",
    "import lsst.geom as geom"
   ]
  },
  {
   "cell_type": "code",
   "execution_count": null,
   "metadata": {
    "execution": {
     "iopub.execute_input": "2023-05-16T13:00:54.058537Z",
     "iopub.status.busy": "2023-05-16T13:00:54.058349Z",
     "iopub.status.idle": "2023-05-16T13:00:55.513487Z",
     "shell.execute_reply": "2023-05-16T13:00:55.512979Z",
     "shell.execute_reply.started": "2023-05-16T13:00:54.058523Z"
    },
    "tags": []
   },
   "outputs": [],
   "source": [
    "from lsst.daf.butler import Butler\n",
    "butler = Butler('/repo/embargo', collections=[\"LATISS/raw/all\", \"LATISS/calib\"])"
   ]
  },
  {
   "cell_type": "markdown",
   "metadata": {},
   "source": [
    "## First, we look at the impact of the more conventional sequencer changes"
   ]
  },
  {
   "cell_type": "code",
   "execution_count": null,
   "metadata": {
    "execution": {
     "iopub.execute_input": "2023-05-16T13:00:58.467598Z",
     "iopub.status.busy": "2023-05-16T13:00:58.467399Z",
     "iopub.status.idle": "2023-05-16T13:00:58.490162Z",
     "shell.execute_reply": "2023-05-16T13:00:58.489688Z",
     "shell.execute_reply.started": "2023-05-16T13:00:58.467583Z"
    },
    "tags": []
   },
   "outputs": [],
   "source": [
    "isrConfig = IsrTaskConfig()\n",
    "isrConfig.doLinearize=False\n",
    "isrConfig.doOverscan=True\n",
    "isrConfig.doAssembleCcd=True\n",
    "isrConfig.doBias=False\n",
    "isrConfig.doVariance=True\n",
    "isrConfig.doLinearize=False\n",
    "isrConfig.doCrosstalk=False\n",
    "isrConfig.doBrighterFatter=False\n",
    "isrConfig.doDark=False\n",
    "isrConfig.doStrayLight=False\n",
    "isrConfig.doFlat=False\n",
    "isrConfig.doFringe=False\n",
    "isrConfig.doApplyGains=False\n",
    "isrConfig.doDefect=False\n",
    "isrConfig.doNanMasking=True\n",
    "isrConfig.doInterpolate=False\n",
    "isrConfig.doSaturation=False\n",
    "isrConfig.doSaturationInterpolation=False\n",
    "isrTask = IsrTask(config=isrConfig)"
   ]
  },
  {
   "cell_type": "code",
   "execution_count": null,
   "metadata": {
    "execution": {
     "iopub.execute_input": "2023-05-16T13:02:40.959890Z",
     "iopub.status.busy": "2023-05-16T13:02:40.959527Z",
     "iopub.status.idle": "2023-05-16T13:02:51.948030Z",
     "shell.execute_reply": "2023-05-16T13:02:51.947476Z",
     "shell.execute_reply.started": "2023-05-16T13:02:40.959873Z"
    },
    "tags": []
   },
   "outputs": [],
   "source": [
    "fig = plt.figure(figsize=(8,8))\n",
    "plt.suptitle(\"AuxTel bias stability\")\n",
    "names = ['Old Baseline', '20230509', '20230510', '20230511', '20230515']\n",
    "xplot = np.arange(509)\n",
    "for i, expId in enumerate([2023022200100, 2023050900020, 2023051000565, 2023051100565, 2023051500015]):\n",
    "    exp = butler.get('raw', detector=0, exposure=expId)\n",
    "    isrResult = isrTask.run(exp)\n",
    "    plotCounter = 1\n",
    "    for amp in exp.getDetector().getAmplifiers():\n",
    "        ampName = amp.getName()\n",
    "        bbox = amp.getBBox()\n",
    "        subExp = isrResult.exposure[bbox]\n",
    "        arr = subExp.image.array\n",
    "        plt.subplot(4,4,plotCounter)\n",
    "        plt.title(ampName)\n",
    "        plt.plot(xplot, np.mean(arr[100:1900, :], axis=0), label=names[i])\n",
    "        plt.ylim(-20,20)\n",
    "        if plotCounter % 4 == 1:\n",
    "            plt.ylabel(\"Signal(ADU)\")\n",
    "        else:\n",
    "            plt.yticks([])\n",
    "        if plotCounter > 12:\n",
    "            plt.xlabel(\"Xcoordinate(pixels)\")\n",
    "        else:\n",
    "            plt.xticks([])\n",
    "        plotCounter += 1\n",
    "plt.subplot(4,4,1)\n",
    "plt.legend(loc='lower left', fontsize=5)\n",
    "plt.savefig(\"/home/c/cslage/u/AuxTel/isr/sequencer_tests_22feb23/Bias_Stability_Sequencer_15May23.pdf\")"
   ]
  },
  {
   "cell_type": "code",
   "execution_count": null,
   "metadata": {},
   "outputs": [],
   "source": []
  }
 ],
 "metadata": {
  "kernelspec": {
   "display_name": "LSST",
   "language": "python",
   "name": "lsst"
  },
  "language_info": {
   "codemirror_mode": {
    "name": "ipython",
    "version": 3
   },
   "file_extension": ".py",
   "mimetype": "text/x-python",
   "name": "python",
   "nbconvert_exporter": "python",
   "pygments_lexer": "ipython3",
   "version": "3.10.10"
  }
 },
 "nbformat": 4,
 "nbformat_minor": 4
}
