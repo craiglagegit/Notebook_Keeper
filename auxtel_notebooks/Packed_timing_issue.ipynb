{
 "cells": [
  {
   "cell_type": "markdown",
   "id": "5f19a9b8-2189-419d-bbcb-01a9ee7d1327",
   "metadata": {},
   "source": [
    "# This notebook demonstrates a functionality issue with the select_packed_time_series of the efd-client"
   ]
  },
  {
   "cell_type": "code",
   "execution_count": null,
   "id": "f40e97af-4e3d-405e-968d-4e0c8d02c990",
   "metadata": {},
   "outputs": [],
   "source": [
    "import matplotlib\n",
    "%matplotlib widget\n",
    "import aioinflux\n",
    "import getpass\n",
    "import pandas as pd\n",
    "import asyncio\n",
    "import numpy as np\n",
    "from astropy.time import Time, TimeDelta\n",
    "from matplotlib import pyplot as plt\n",
    "from bokeh.plotting import figure, output_notebook, show\n",
    "from bokeh.models import LinearAxis, Range1d\n",
    "output_notebook()\n",
    "from bokeh.models import Span, Label\n",
    "\n",
    "from lsst_efd_client import EfdClient, resample"
   ]
  },
  {
   "cell_type": "code",
   "execution_count": null,
   "id": "028fc671-ca29-447b-82c9-19f1efa3b755",
   "metadata": {},
   "outputs": [],
   "source": [
    "client = EfdClient('summit_efd')\n",
    "client.output = 'dataframe'"
   ]
  },
  {
   "cell_type": "markdown",
   "id": "20589085-f3a6-4990-bb00-9c2ce64abb29",
   "metadata": {},
   "source": [
    "### Declare timestamp(s) used for EFD queries"
   ]
  },
  {
   "cell_type": "code",
   "execution_count": null,
   "id": "3a59cc20-8b72-4773-a110-98ada108743b",
   "metadata": {},
   "outputs": [],
   "source": [
    "# From an observeration last night where a fault occurred\n",
    "t1 = Time('2022-02-16T05:15:00', scale='utc')\n",
    "window = TimeDelta(40, format='sec')\n",
    "t2=t1+window"
   ]
  },
  {
   "cell_type": "code",
   "execution_count": null,
   "id": "4cd5f4b0-1a56-47f1-a7d9-b778f0128008",
   "metadata": {},
   "outputs": [],
   "source": [
    "# From Craig's technote (https://sitcomtn-018.lsst.io/) on timestamps - the notebook is meant for the above dataset.\n",
    "# If you run this one afterwards you'll see the same issue, but the time offset is different!\n",
    "# https://github.com/craiglagegit/ScratchStuff/blob/master/notebooks/Plot_Tracking_UTC_29Oct21.ipynb\n",
    "\n",
    "# t1 = Time('2021-10-14T18:48:30.004', scale='utc')\n",
    "# window = TimeDelta(13, format='sec')\n",
    "# t2=t1+window"
   ]
  },
  {
   "cell_type": "markdown",
   "id": "9e93fe3f-25aa-4b5b-b304-c5a7d1ee684e",
   "metadata": {},
   "source": [
    "The following are position (angle) data reported by the nasmyth rotator. <br>\n",
    "The first is a packed dataset <br>\n",
    "The second is a single value of the packed dataset, but pulled out individually and therefore does not use \"select_packed_time_series\""
   ]
  },
  {
   "cell_type": "code",
   "execution_count": null,
   "id": "7f57f4ff-1e98-4ea0-b1fd-d48ad706e260",
   "metadata": {},
   "outputs": [],
   "source": [
    "nas2_packed = await client.select_packed_time_series(\"lsst.sal.ATMCS.mount_Nasmyth_Encoders\", [\"nasmyth2CalculatedAngle\"], t1, t2)\n",
    "nas2_single = await client.select_time_series(\"lsst.sal.ATMCS.mount_Nasmyth_Encoders\", [\"nasmyth2CalculatedAngle0\",\"nasmyth2CalculatedAngle99\",\"private_sndStamp\" ,\"private_kafkaStamp\", \"cRIO_timestamp\"], t1, t2)"
   ]
  },
  {
   "cell_type": "markdown",
   "id": "a9ce3606-8cdd-465a-89e5-2181e2d20f2f",
   "metadata": {},
   "source": [
    "Now, the packed data reports 100 values, where the first value corresponds to the `cRIO_timestamp` -- note that the cRIO_timestamp *IS* in TAI. <br>\n",
    "So, the difference between cRIO_timestamp and private_sndStamp (also in TAI) is equal to how long it takes the data to get out of the FPGA and published to DDS. <br>\n",
    "This means that the private_efdStamp will always be greater than cRIO_timestamp. <br>\n",
    "Also, because there are 100 values published that represent 1s, it is expected that there might be an additional 1s delay<br>\n",
    "We know this value ranges between 1-3 seconds or so and probably depends on the load to the FPGA.\n",
    "Essentially, if there are errors in how the single and packed timestamps match up, it should be equal to this value!"
   ]
  },
  {
   "cell_type": "code",
   "execution_count": null,
   "id": "c66a904d-799a-488f-8f21-9a96a96c5c1a",
   "metadata": {},
   "outputs": [],
   "source": [
    "nas2_single['private_sndStamp']-nas2_single['cRIO_timestamp']\n",
    "plt.hist(nas2_single['private_sndStamp']-nas2_single['cRIO_timestamp'])\n",
    "plt.ylabel('Occurrences')\n",
    "plt.xlabel('time difference [seconds]')\n",
    "plt.show()"
   ]
  },
  {
   "cell_type": "markdown",
   "id": "992254dd-012e-4e4b-bc92-96185ca33ede",
   "metadata": {},
   "source": [
    "So that's all good! <br>\n",
    "Now, let's confirm that the returned index is equal to private_kafkaStamp.\n",
    "Things are a bit messy here because the index is dtype='datetime64[ns, UTC]'"
   ]
  },
  {
   "cell_type": "code",
   "execution_count": null,
   "id": "4b773774-3a21-494f-b955-938be1e2ec00",
   "metadata": {},
   "outputs": [],
   "source": [
    "nas2_single_kafkaTime=Time(nas2_single['private_kafkaStamp'].values, format='unix_tai')\n",
    "nas2_single_index_time=Time(nas2_single.index)"
   ]
  },
  {
   "cell_type": "code",
   "execution_count": null,
   "id": "91d065b9-d33e-47c0-b863-af7869136020",
   "metadata": {
    "tags": []
   },
   "outputs": [],
   "source": [
    "nas2_single_index_time-nas2_single_kafkaTime"
   ]
  },
  {
   "cell_type": "markdown",
   "id": "8e9f3744-722a-43f4-8f1f-8dab810facdf",
   "metadata": {},
   "source": [
    "So this is consistent to ~10 microseconds... I imagine that's good enough!"
   ]
  },
  {
   "cell_type": "markdown",
   "id": "b72b0ccf-e950-4944-8a8b-931e08624295",
   "metadata": {},
   "source": [
    "### Now look at the packed data\n",
    "So 40 rows, should now be 4000 rows. <br>\n",
    "Also the INDEX should be in UTC."
   ]
  },
  {
   "cell_type": "code",
   "execution_count": null,
   "id": "29dabb9b-fc46-4d31-83af-82560bc44ef2",
   "metadata": {},
   "outputs": [],
   "source": [
    "print(nas2_packed.shape)"
   ]
  },
  {
   "cell_type": "code",
   "execution_count": null,
   "id": "e0d8c6eb-a10d-4a66-99d8-db2d2a321207",
   "metadata": {},
   "outputs": [],
   "source": [
    "nas2_single.index"
   ]
  },
  {
   "cell_type": "code",
   "execution_count": null,
   "id": "1e6da1b2-ef97-4a5b-882e-2046dd1e205f",
   "metadata": {},
   "outputs": [],
   "source": [
    "nas2_packed.index"
   ]
  },
  {
   "cell_type": "markdown",
   "id": "3b4226da-c8a8-40a4-b772-93262f0eee26",
   "metadata": {},
   "source": [
    "Note that in the packed case, dtype='datetime64[ns]' --> This is different than what is in the single value case (dtype='datetime64[ns, UTC]') <br>\n",
    "This makes me think that there might be a 37s problem!"
   ]
  },
  {
   "cell_type": "markdown",
   "id": "1d4247f2-2236-4bd8-991e-699dd4fe4736",
   "metadata": {},
   "source": [
    "So let's look at the index times. The first and last time in the packed series must correspond to the first and last time in the single value series"
   ]
  },
  {
   "cell_type": "code",
   "execution_count": null,
   "id": "bb81da45-995d-40c0-9c59-c54de5655a1b",
   "metadata": {},
   "outputs": [],
   "source": [
    "nas2_packed_index_time=Time(nas2_packed.index)"
   ]
  },
  {
   "cell_type": "code",
   "execution_count": null,
   "id": "85ea2e1d-7528-42e9-a4cc-af21709c706c",
   "metadata": {},
   "outputs": [],
   "source": [
    "# The difference in seconds between the indexes\n",
    "# without the .sec it outputs it in julian days!\n",
    "(nas2_packed_index_time[0]-nas2_single_index_time[0]).sec"
   ]
  },
  {
   "cell_type": "code",
   "execution_count": null,
   "id": "35cf4b75-4218-465f-a6ee-5efd767e1bca",
   "metadata": {},
   "outputs": [],
   "source": [
    "(nas2_packed_index_time[-1]-nas2_single_index_time[-1]).sec"
   ]
  },
  {
   "cell_type": "markdown",
   "id": "8e370202-ff0e-4194-82bd-01be9310bcec",
   "metadata": {},
   "source": [
    "They do not! Note that this is using the indexes, and whatever format they are.\n",
    "If we have astropy convert them to a standard, then they're still off by ~7 seconds! "
   ]
  },
  {
   "cell_type": "code",
   "execution_count": null,
   "id": "87295771-9201-4562-b8a2-c6f84c72bee7",
   "metadata": {},
   "outputs": [],
   "source": [
    "nas2_packed_index_time.utc[0]"
   ]
  },
  {
   "cell_type": "code",
   "execution_count": null,
   "id": "74367e10-fb50-4717-b8c5-be938342de7f",
   "metadata": {},
   "outputs": [],
   "source": [
    "nas2_single_index_time.utc[0]"
   ]
  },
  {
   "cell_type": "code",
   "execution_count": null,
   "id": "f9aabf02-b7e1-4808-a8a2-9cb710e867f2",
   "metadata": {},
   "outputs": [],
   "source": [
    "(nas2_packed_index_time.utc[0] - nas2_single_index_time.utc[0]).sec"
   ]
  },
  {
   "cell_type": "code",
   "execution_count": null,
   "id": "aa5b7536-597e-4aad-86f0-8c2858ff6a3b",
   "metadata": {},
   "outputs": [],
   "source": [
    "nas2_packed_index_time.utc"
   ]
  },
  {
   "cell_type": "markdown",
   "id": "d752af57-807d-4db5-85f6-4dff299fe281",
   "metadata": {},
   "source": [
    "I can't figure out where this comes from! and this is why I *think* it's a bug...  \n",
    "If it were attributable to the FPGA, it would be equal to ~1-3 seconds, as shown in the histogram plot above.\n",
    "This offset greatly exceeds that value!"
   ]
  },
  {
   "cell_type": "markdown",
   "id": "239481ea-618f-42a4-a051-2c6a027cdcad",
   "metadata": {},
   "source": [
    "Just to hammer home my point, if we plot the data, the offset is apparent. <br>\n",
    "This is what we are seeing all over the place and it's really hard to know what's going on!"
   ]
  },
  {
   "cell_type": "code",
   "execution_count": null,
   "id": "8282266c-734a-4396-84df-088b24949925",
   "metadata": {},
   "outputs": [],
   "source": [
    "# Do some calculations so the y-axes aren't crazy\n",
    "yr_cen=np.median(nas2_packed['nasmyth2CalculatedAngle'])\n",
    "dy=1.1*(np.max(nas2_packed['nasmyth2CalculatedAngle']) - np.min(nas2_packed['nasmyth2CalculatedAngle']))/2\n",
    "\n",
    "p = figure(x_axis_type='datetime', y_range=(yr_cen-dy, yr_cen+dy), plot_width=800, plot_height=400)\n",
    "p.yaxis.axis_label = \"Nasmyth Position (degrees)\"\n",
    "p.xaxis.axis_label = \"Time\"\n",
    "p.line(x=nas2_packed_index_time.utc.value, y=nas2_packed['nasmyth2CalculatedAngle'], color='black', line_width=2, legend_label='Packed Data')\n",
    "p.cross(x=nas2_single_index_time.utc.value, y=nas2_single['nasmyth2CalculatedAngle0'], color='red', line_width=2, line_dash='dashed', legend_label='single data')#\n",
    "\n",
    "p.legend.location = 'bottom_left'\n",
    "p.legend.click_policy = 'hide'\n",
    "show(p)"
   ]
  },
  {
   "cell_type": "markdown",
   "id": "3ee5d66b-a1e4-41fb-92b3-0ec60a726a45",
   "metadata": {},
   "source": [
    "For what it's worth, the CSC faulted due to this at 2022-02-16 05:15:27 [UTC]. \n",
    "So this indicates that the packed data is the one with the timestamp issues... which probably isn't surprising."
   ]
  },
  {
   "cell_type": "code",
   "execution_count": null,
   "id": "10976544-e3a0-4826-82f4-79fe5a79440f",
   "metadata": {},
   "outputs": [],
   "source": []
  }
 ],
 "metadata": {
  "kernelspec": {
   "display_name": "LSST",
   "language": "python",
   "name": "lsst"
  },
  "language_info": {
   "codemirror_mode": {
    "name": "ipython",
    "version": 3
   },
   "file_extension": ".py",
   "mimetype": "text/x-python",
   "name": "python",
   "nbconvert_exporter": "python",
   "pygments_lexer": "ipython3",
   "version": "3.8.12"
  }
 },
 "nbformat": 4,
 "nbformat_minor": 5
}
