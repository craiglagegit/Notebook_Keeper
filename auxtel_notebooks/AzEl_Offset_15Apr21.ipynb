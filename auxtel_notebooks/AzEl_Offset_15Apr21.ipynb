{
 "cells": [
  {
   "cell_type": "markdown",
   "metadata": {},
   "source": [
    "## AuxTel AzEl offsets - 15-Apr-21\n",
    "\n",
    "In this notebook, investigate az-el offsets from 11-Mar-21"
   ]
  },
  {
   "cell_type": "code",
   "execution_count": null,
   "metadata": {},
   "outputs": [],
   "source": [
    "import sys, time, os, asyncio, glob\n",
    "\n",
    "from datetime import datetime\n",
    "import numpy as np\n",
    "import matplotlib.pyplot as plt\n",
    "from matplotlib.colors import LogNorm\n",
    "import pickle as pkl\n",
    "import pandas as pd\n",
    "import astropy.io.fits as pf\n",
    "from astropy.time import Time, TimeDelta\n",
    "\n",
    "from lsst.daf.butler import Butler as gen3Butler\n",
    "from lsst.daf.persistence import Butler as gen2Butler\n",
    "from lsst_efd_client import EfdClient\n",
    "from lsst.pipe.tasks.characterizeImage import CharacterizeImageTask, CharacterizeImageConfig"
   ]
  },
  {
   "cell_type": "code",
   "execution_count": null,
   "metadata": {
    "jupyter": {
     "outputs_hidden": true
    }
   },
   "outputs": [],
   "source": [
    "# Gen3 butler\n",
    "dayObs = 20210311\n",
    "firstExpId = 2021031100346\n",
    "lastExpId = 2021031100424\n",
    "REPO_DIR = '/repo/main'\n",
    "butler = gen3Butler(REPO_DIR, collections=\"LATISS/raw/all\")\n",
    "\n",
    "exposureList = []\n",
    "for record in butler.registry.queryDimensionRecords(\"exposure\", where=\"exposure.day_obs=%d\"%dayObs):\n",
    "    exposureList.append(record.id)\n",
    "exposureList.sort()\n",
    "myVisits = []\n",
    "for exposure in exposureList:\n",
    "    mData = butler.get('raw.metadata', detector=0, exposure=exposure)\n",
    "    expTime = mData['EXPTIME']\n",
    "    imgType = mData['IMGTYPE']\n",
    "    obj = mData['OBJECT']\n",
    "    filter = mData['FILTER']\n",
    "    rotpa = mData['ROTPA']\n",
    "    date_beg = mData['DATE-BEG']\n",
    "    elstart = mData['ELSTART']\n",
    "    azstart = mData['AZSTART']\n",
    "    rastart = mData['RASTART']\n",
    "    decstart = mData['DECSTART']\n",
    "    dummy=0.0\n",
    "    # Need to use DATE-BEG to get the right timestamp\n",
    "    visit = (exposure, expTime, imgType, obj, filter, date_beg, rotpa, dummy, dummy, azstart, elstart, rastart, decstart)\n",
    "    if (int(visit[0]) >= firstExpId) and (int(visit[0]) <= lastExpId):\n",
    "        myVisits.append(visit)\n",
    "        print(visit)"
   ]
  },
  {
   "cell_type": "code",
   "execution_count": null,
   "metadata": {
    "jupyter": {
     "outputs_hidden": true
    }
   },
   "outputs": [],
   "source": [
    "mData = butler.get('raw.metadata', detector=0, exposure=2021031100422)\n",
    "for key in mData.keys():\n",
    "    print(key, mData[key])"
   ]
  },
  {
   "cell_type": "code",
   "execution_count": null,
   "metadata": {},
   "outputs": [],
   "source": [
    "for visit in myVisits[0:2]:\n",
    "    print(visit)"
   ]
  },
  {
   "cell_type": "code",
   "execution_count": null,
   "metadata": {},
   "outputs": [],
   "source": [
    "# Get EFD client\n",
    "client = EfdClient('summit_efd')"
   ]
  },
  {
   "cell_type": "code",
   "execution_count": null,
   "metadata": {},
   "outputs": [],
   "source": [
    "# These are for finding the timestamps of the offset events\n",
    "backUp = 5 # seconds before first image to get initial offset\n",
    "start = Time(myVisits[0][5],scale='tai') - TimeDelta(backUp, format='sec')\n",
    "end = Time(myVisits[-1][5],scale='tai') - TimeDelta(0, format='sec')\n",
    "timestamp = f\"time >= {start} AND time <= {end}\""
   ]
  },
  {
   "cell_type": "code",
   "execution_count": null,
   "metadata": {},
   "outputs": [],
   "source": [
    "# Now get the offsets applied\n",
    "offsets = await client.select_time_series(\"lsst.sal.ATPtg.command_offsetAzEl\", ['*'],\n",
    "                                          start, end)"
   ]
  },
  {
   "cell_type": "code",
   "execution_count": null,
   "metadata": {},
   "outputs": [],
   "source": [
    "print(len(offsets))"
   ]
  },
  {
   "cell_type": "code",
   "execution_count": null,
   "metadata": {},
   "outputs": [],
   "source": [
    "offsets.columns"
   ]
  },
  {
   "cell_type": "code",
   "execution_count": null,
   "metadata": {},
   "outputs": [],
   "source": [
    "offsets.head(1)"
   ]
  },
  {
   "cell_type": "code",
   "execution_count": null,
   "metadata": {},
   "outputs": [],
   "source": [
    "# Plot the first few to check the interleaving of the offsets with the exposures\n",
    "# Blue are the times of setting the offsets, and red are the start of the exposure\n",
    "startPlot = Time('2021-03-12T04:09:00') #this is UTC\n",
    "endPlot = Time('2021-03-12T04:12:00')\n",
    "\n",
    "fig = plt.figure()\n",
    "plt.suptitle(f\"Offsets - 11-Mar-21\", fontsize = 18)\n",
    "# Azimuth axis\n",
    "plt.subplot(1,1,1)\n",
    "ax1 = offsets['num'].plot(color='red', label='azimuth')\n",
    "ax1.set_ylim(0,1.0)\n",
    "for i in range(5):\n",
    "    t1 = Time(offsets.index[i]).tai.isot\n",
    "    ax1.axvline(t1, ymin=0.5, ymax=0.9, color=\"blue\")\n",
    "    t2 = Time(myVisits[i][5]).tai.isot\n",
    "    ax1.axvline(t2, ymin=0.1, ymax=0.5, color=\"red\")\n",
    "ax1.set_xlim(startPlot.tai.isot,endPlot.tai.isot)"
   ]
  },
  {
   "cell_type": "code",
   "execution_count": null,
   "metadata": {},
   "outputs": [],
   "source": [
    "# Plot a few more to check the interleaving of the offsets with the exposures\n",
    "# Blue are the times of setting the offsets, and red are the start of the exposure\n",
    "startPlot = Time('2021-03-12T04:23:00') #this is UTC\n",
    "endPlot = Time('2021-03-12T04:32:00')\n",
    "\n",
    "fig = plt.figure()\n",
    "plt.suptitle(f\"Offsets - 11-Mar-21\", fontsize = 18)\n",
    "# Azimuth axis\n",
    "plt.subplot(1,1,1)\n",
    "ax1 = offsets['num'].plot(color='red', label='azimuth')\n",
    "ax1.set_ylim(0,1.0)\n",
    "for i in range(77):\n",
    "    t1 = Time(offsets.index[i]).tai.isot\n",
    "    ax1.axvline(t1, ymin=0.5, ymax=0.9, color=\"blue\")\n",
    "    t2 = Time(myVisits[i][5]).tai.isot\n",
    "    ax1.axvline(t2, ymin=0.1, ymax=0.5, color=\"red\")\n",
    "ax1.set_xlim(startPlot.tai.isot,endPlot.tai.isot)"
   ]
  },
  {
   "cell_type": "code",
   "execution_count": null,
   "metadata": {
    "jupyter": {
     "outputs_hidden": true
    }
   },
   "outputs": [],
   "source": [
    "# Now append the applied offsets to the list of visits\n",
    "# A few drop out because the offsets are not clear\n",
    "backUp = 10\n",
    "fullVisits = []\n",
    "for i, visit in enumerate(myVisits):\n",
    "    if i == 0:\n",
    "        startTime = Time(myVisits[i][5],scale='tai',precision=0) - TimeDelta(backUp, format='sec')\n",
    "        startTime = startTime.tai.isot\n",
    "    else:\n",
    "        startTime = Time(myVisits[i - 1][5],scale='tai',precision=0).tai.isot\n",
    "    endTime = Time(myVisits[i][5],scale='tai',precision=0).tai.isot\n",
    "    print(startTime, endTime)\n",
    "    try:\n",
    "        offset = offsets.loc[startTime:endTime].values\n",
    "        if len(offset) == 1:\n",
    "            newList = list(visit)\n",
    "            newList[7] = offset[0][0]\n",
    "            newList[8] = offset[0][1]\n",
    "            fullVisits.append(newList)\n",
    "        else:\n",
    "            print(\"Not = 1\", len(offset))\n",
    "            continue\n",
    "    except:\n",
    "        print(\"Failed the try\")\n",
    "        continue"
   ]
  },
  {
   "cell_type": "code",
   "execution_count": null,
   "metadata": {},
   "outputs": [],
   "source": [
    "len(fullVisits)"
   ]
  },
  {
   "cell_type": "code",
   "execution_count": null,
   "metadata": {},
   "outputs": [],
   "source": [
    "# The last two values are the applied offsets in az and el in arcseconds\n",
    "for fullVisit in fullVisits:\n",
    "    print(fullVisit[0],fullVisit[7], fullVisit[8])"
   ]
  },
  {
   "cell_type": "code",
   "execution_count": null,
   "metadata": {
    "jupyter": {
     "outputs_hidden": true
    }
   },
   "outputs": [],
   "source": [
    "# Get the raw quickLook data.  Only Gen2 works\n",
    "REPO_DIR = '/project/shared/auxTel/rerun/quickLook'\n",
    "gen2_butler = gen2Butler(REPO_DIR)\n",
    "dayObs = '2021-03-11'"
   ]
  },
  {
   "cell_type": "code",
   "execution_count": null,
   "metadata": {},
   "outputs": [],
   "source": [
    "charConfig = CharacterizeImageConfig()\n",
    "charConfig.doMeasurePsf = False#True\n",
    "charConfig.doApCorr = False\n",
    "charConfig.doDeblend = False\n",
    "charConfig.repair.doCosmicRay = True\n",
    "charConfig.repair.doInterpolate = True   \n",
    "charConfig.detection.minPixels = 500\n",
    "charTask = CharacterizeImageTask(config=charConfig)"
   ]
  },
  {
   "cell_type": "code",
   "execution_count": null,
   "metadata": {
    "jupyter": {
     "outputs_hidden": true
    }
   },
   "outputs": [],
   "source": [
    "# Try doing them all\n",
    "charVisits = []\n",
    "for fullVisit in fullVisits:\n",
    "    expId = fullVisit[0]\n",
    "    try:\n",
    "        charVisit = {}\n",
    "        charVisit['Visit'] = fullVisit\n",
    "        exp = gen2_butler.get('quickLookExp', detector=0, expId=expId)\n",
    "        charResult = charTask.run(exp)\n",
    "        sourceCatalog = charResult.sourceCat\n",
    "\n",
    "        maxFlux = np.nanmax(sourceCatalog['base_SdssShape_instFlux'])\n",
    "        selectBrightestSource = sourceCatalog['base_SdssShape_instFlux'] > maxFlux * 0.99\n",
    "        brightestSource = sourceCatalog.subset(selectBrightestSource)\n",
    "        brightestCentroid = (brightestSource['base_SdssCentroid_x'][0], \\\n",
    "                             brightestSource['base_SdssCentroid_y'][0])\n",
    "        brightCatalog = sourceCatalog.subset(sourceCatalog['base_SdssShape_instFlux'] > maxFlux * 0.001)\n",
    "        print(f\"expId:{expId}. Found {len(sourceCatalog)} sources, {len(brightCatalog)} bright sources\")\n",
    "        print(f\"Brightest centroid at {brightestCentroid}\")\n",
    "        charVisit['exp'] = exp\n",
    "        charVisit['brightestCentroid'] = brightestCentroid\n",
    "        charVisit['brightCatalog'] = brightCatalog\n",
    "        charVisits.append(charVisit)\n",
    "    except:\n",
    "        print(f\"Skipping expId {expId}.\")\n",
    "        continue"
   ]
  },
  {
   "cell_type": "code",
   "execution_count": null,
   "metadata": {
    "jupyter": {
     "outputs_hidden": true
    }
   },
   "outputs": [],
   "source": [
    "for charVisit in charVisits:\n",
    "    print(charVisit['Visit'][6], charVisit['Visit'][7], charVisit['Visit'][8])\n",
    "    print(charVisit['brightestCentroid'])"
   ]
  },
  {
   "cell_type": "code",
   "execution_count": null,
   "metadata": {},
   "outputs": [],
   "source": [
    "outfile = open('/project/cslage/AuxTel/offsets/offsets_16apr21.pkl','wb')\n",
    "\n",
    "pkl.dump(charVisits,outfile)\n",
    "outfile.close()"
   ]
  },
  {
   "cell_type": "code",
   "execution_count": null,
   "metadata": {},
   "outputs": [],
   "source": [
    "infile = open('/project/cslage/AuxTel/offsets/offsets_16apr21.pkl','rb')\n",
    "charVisits = pkl.load(infile)\n",
    "infile.close()"
   ]
  },
  {
   "cell_type": "code",
   "execution_count": null,
   "metadata": {},
   "outputs": [],
   "source": [
    "for charVisit in charVisits:\n",
    "    print(charVisit['Visit'][0], charVisit['Visit'][6], charVisit['Visit'][7], charVisit['Visit'][8])\n",
    "    print(charVisit['brightestCentroid'])"
   ]
  },
  {
   "cell_type": "code",
   "execution_count": null,
   "metadata": {},
   "outputs": [],
   "source": [
    "#%matplotlib inline\n",
    "# Look at the data with matplotlib\n",
    "def colorbar(mappable):\n",
    "    from mpl_toolkits.axes_grid1 import make_axes_locatable\n",
    "    last_axes = plt.gca()\n",
    "    ax = mappable.axes\n",
    "    fig = ax.figure\n",
    "    divider = make_axes_locatable(ax)\n",
    "    cax = divider.append_axes(\"right\", size=\"5%\", pad=0.05)\n",
    "    cbar = fig.colorbar(mappable, cax=cax)\n",
    "    plt.sca(last_axes)\n",
    "    return cbar\n",
    "\n",
    "\n",
    "#Plot these four\n",
    "expIds = [2021031100406, 2021031100407, 2021031100410, 2021031100411]\n",
    "\n",
    "plt.figure(figsize=(16,16))\n",
    "plotCounter = 1\n",
    "for charVisit in charVisits:\n",
    "    expId = charVisit['Visit'][0]\n",
    "    offset = (charVisit['Visit'][7],charVisit['Visit'][8])\n",
    "    if expId not in expIds:\n",
    "        continue\n",
    "    plt.subplot(2,2,plotCounter)\n",
    "    plotCounter += 1\n",
    "    plt.title(f\"Image - {expId}\",fontsize=18)\n",
    "    arr = charVisit['exp'].image.array\n",
    "    arr = np.clip(arr, 1, 100000) # This image has some negative values, and this removes them\n",
    "    img = plt.imshow(arr, norm=LogNorm(vmin=1, vmax=1000),  interpolation='Nearest', cmap='gray')\n",
    "    cat = charVisit['brightCatalog']\n",
    "    plt.scatter(cat['base_SdssCentroid_x'],cat['base_SdssCentroid_y']\\\n",
    "                ,color='red', marker='x', label=f\"offset={offset}\")\n",
    "\n",
    "    colorbar(img)\n",
    "    plt.legend()\n",
    "plt.tight_layout(h_pad=1)\n",
    "#plt.savefig(f\"/project/cslage/AuxTel/offsets/Offsets_{expIds[0]}_{expIds[1]}_{expIds[2]}_{expIds[3]}_16Apr21.pdf\")"
   ]
  },
  {
   "cell_type": "code",
   "execution_count": null,
   "metadata": {},
   "outputs": [],
   "source": [
    "dat = []\n",
    "expIds = []\n",
    "errors = []\n",
    "angErrors = []\n",
    "for charVisit in charVisits:\n",
    "    expId = charVisit['Visit'][0]\n",
    "    if expId == 2021031100424:\n",
    "        break\n",
    "    nextExpId = expId + 1\n",
    "    for nextCharVisit in charVisits:\n",
    "        thisExpId = nextCharVisit['Visit'][0]\n",
    "        if thisExpId == nextExpId:\n",
    "            break\n",
    "    rotpa = charVisit['Visit'][6]\n",
    "    off_x = charVisit['Visit'][7] - nextCharVisit['Visit'][7]\n",
    "    off_y = charVisit['Visit'][8] - nextCharVisit['Visit'][8]\n",
    "    off = np.sqrt(off_x**2 + off_y**2)  # This is the distance in arcseconds that we commanded\n",
    "    t1 = np.arctan2(off_x, off_y)*180.0/np.pi # Angle relative to \"up\" in image\n",
    "    \n",
    "    shift_x = charVisit['brightestCentroid'][0] - nextCharVisit['brightestCentroid'][0]\n",
    "    shift_y = charVisit['brightestCentroid'][1] - nextCharVisit['brightestCentroid'][1]\n",
    "    shift_x *= exp.getWcs().getPixelScale().asArcseconds()\n",
    "    shift_y *= exp.getWcs().getPixelScale().asArcseconds()\n",
    "    shift = np.sqrt(shift_x**2 + shift_y**2)  # This is the distance in arcseconds that we measured\n",
    "    t2 = np.arctan2(shift_x, shift_y)*180.0/np.pi # Angle relative to \"up\" in image\n",
    "    dat.append([expId, rotpa, off, shift, t1, t2])\n",
    "    error = off - shift\n",
    "    if abs(error) < 10.0:\n",
    "        expIds.append(expId - 2021031100000)\n",
    "        errors.append(off - shift)\n",
    "        angErrors.append(t1 - t2 + rotpa)"
   ]
  },
  {
   "cell_type": "code",
   "execution_count": null,
   "metadata": {},
   "outputs": [],
   "source": []
  },
  {
   "cell_type": "code",
   "execution_count": null,
   "metadata": {},
   "outputs": [],
   "source": [
    "rmsError = np.sqrt(np.mean(np.array(errors) * np.array(errors)))\n",
    "\n",
    "fig = plt.figure(figsize = (8,8))\n",
    "plt.subplots_adjust(hspace = 0.7)\n",
    "plt.subplot(2,1,1)\n",
    "plt.title(\"Centroid Error \\n Commanded shift - Measured shift\", fontsize=18)\n",
    "plt.scatter(expIds, errors, marker = 'x')\n",
    "plt.text(360, -3.5, f\"RMS error = {rmsError:.2f} arcseconds\", fontsize=12)\n",
    "plt.ylim(-5.0, 5.0)\n",
    "plt.xlabel(\"Sequence number\", fontsize=12)\n",
    "plt.ylabel(\"Centroid error (arcseconds)\", fontsize=12)\n",
    "plt.subplot(2,1,2)\n",
    "plt.title(\"Angular Error \\n Commanded angle - Measured angle + ROTPA\", fontsize=18)\n",
    "plt.scatter(expIds, angErrors, marker = 'x')\n",
    "plt.ylim(-12.0, 12.0)\n",
    "plt.xlabel(\"Sequence number\", fontsize=12)\n",
    "plt.ylabel(\"Angular error (degrees)\", fontsize=12)\n",
    "plt.savefig(f\"/project/cslage/AuxTel/offsets/Offset_errors_19Apr21.pdf\")"
   ]
  },
  {
   "cell_type": "code",
   "execution_count": null,
   "metadata": {},
   "outputs": [],
   "source": [
    "# Look at the data with matplotlib\n",
    "def colorbar(mappable):\n",
    "    from mpl_toolkits.axes_grid1 import make_axes_locatable\n",
    "    last_axes = plt.gca()\n",
    "    ax = mappable.axes\n",
    "    fig = ax.figure\n",
    "    divider = make_axes_locatable(ax)\n",
    "    cax = divider.append_axes(\"right\", size=\"5%\", pad=0.05)\n",
    "    cbar = fig.colorbar(mappable, cax=cax)\n",
    "    plt.sca(last_axes)\n",
    "    return cbar"
   ]
  },
  {
   "cell_type": "code",
   "execution_count": null,
   "metadata": {},
   "outputs": [],
   "source": [
    "\n",
    "myExpId = 2021031100371\n",
    "for charVisit in charVisits:\n",
    "    expId = charVisit['Visit'][0]\n",
    "    if expId == myExpId:\n",
    "        break\n",
    "nextExpId = myExpId + 1\n",
    "for nextCharVisit in charVisits:\n",
    "    thisExpId = nextCharVisit['Visit'][0]\n",
    "    if thisExpId == nextExpId:\n",
    "        break\n",
    "cat = charVisit['brightCatalog']\n",
    "nextCat = nextCharVisit['brightCatalog']\n",
    "# These are the measured shifts between the two catalogs\n",
    "shift_x = nextCharVisit['brightestCentroid'][0] - charVisit['brightestCentroid'][0]\n",
    "shift_y = nextCharVisit['brightestCentroid'][1] - charVisit['brightestCentroid'][1] \n",
    "exp = charVisit['exp']\n",
    "nextExp = nextCharVisit['exp']\n",
    "rotpa = charVisit['Visit'][6]\n",
    "# These are the commanded offsets in Az, El\n",
    "off_az = nextCharVisit['Visit'][7] - charVisit['Visit'][7]\n",
    "off_el = nextCharVisit['Visit'][8] - charVisit['Visit'][8]\n",
    "\n",
    "# Now put off_az and off_el in pixels, and rotate them using rotpa\n",
    "off_az /= exp.getWcs().getPixelScale().asArcseconds()\n",
    "off_el /= exp.getWcs().getPixelScale().asArcseconds()\n",
    "\n",
    "off = np.array([off_az, off_el])\n",
    "theta = np.radians(rotpa)\n",
    "c, s = np.cos(theta), np.sin(theta)\n",
    "# This is the rotation matrix that puts the commanded offsets into the detector coordinates\n",
    "R = np.array(((c, s), (-s, c))) \n",
    "rotated_off = R.dot(off)\n",
    "\n",
    "# Now plot it all\n",
    "plt.figure(figsize=(16,8))\n",
    "\n",
    "plt.subplot(1,2,1)\n",
    "plt.title(f\"Image - {myExpId}\",fontsize=18)\n",
    "arr = exp.image.array\n",
    "arr = np.clip(arr, 1, 100000) # This image has some negative values, and this removes them\n",
    "img = plt.imshow(arr, norm=LogNorm(vmin=1, vmax=1000),  interpolation='Nearest', cmap='gray')\n",
    "plt.scatter(cat['base_SdssCentroid_x'],cat['base_SdssCentroid_y']\\\n",
    "            ,color='red', marker='x', label=\"Measured\")\n",
    "plt.arrow(charVisit['brightestCentroid'][0],charVisit['brightestCentroid'][1], rotated_off[0], rotated_off[1],\\\n",
    "            color='green', width = 20, label='Commanded offset')\n",
    "plt.arrow(charVisit['brightestCentroid'][0],charVisit['brightestCentroid'][1], shift_x, shift_y,\\\n",
    "            color='red', width=20, label='Measured offset')\n",
    "plt.xlim(0,4000)\n",
    "plt.ylim(4000,0)\n",
    "colorbar(img)\n",
    "plt.legend()\n",
    "\n",
    "plt.subplot(1,2,2)\n",
    "plt.title(f\"Image - {nextExpId}\",fontsize=18)\n",
    "nextArr = nextExp.image.array\n",
    "nextArr = np.clip(nextArr, 1, 100000) # This image has some negative values, and this removes them\n",
    "img = plt.imshow(nextArr, norm=LogNorm(vmin=1, vmax=1000),  interpolation='Nearest', cmap='gray')\n",
    "plt.scatter(nextCat['base_SdssCentroid_x'],nextCat['base_SdssCentroid_y']\\\n",
    "            ,color='red', marker='x', label=\"Measured\")\n",
    "plt.scatter(cat['base_SdssCentroid_x'] + rotated_off[0],cat['base_SdssCentroid_y'] + rotated_off[1]\\\n",
    "            ,color='green', marker='+', s=200, label=\"Expected\")\n",
    "plt.xlim(0,4000)\n",
    "plt.ylim(4000,0)\n",
    "colorbar(img)\n",
    "plt.legend()\n",
    "\n",
    "plt.tight_layout(h_pad=1)\n",
    "plt.savefig(f\"/project/cslage/AuxTel/offsets/Offsets_Meas_vs_Expected_{myExpId}_19Apr21.pdf\")"
   ]
  },
  {
   "cell_type": "code",
   "execution_count": null,
   "metadata": {},
   "outputs": [],
   "source": [
    "# Looking at just one for debug."
   ]
  },
  {
   "cell_type": "code",
   "execution_count": null,
   "metadata": {},
   "outputs": [],
   "source": [
    "off = np.array([off_x, off_y])\n",
    "theta = np.radians(rotpa)\n",
    "c, s = np.cos(theta), np.sin(theta)\n",
    "R = np.array(((c, -s), (s, c)))\n",
    "\n",
    "rotated_off = R.dot(off)\n"
   ]
  },
  {
   "cell_type": "code",
   "execution_count": null,
   "metadata": {},
   "outputs": [],
   "source": [
    "rotated_off"
   ]
  },
  {
   "cell_type": "code",
   "execution_count": null,
   "metadata": {},
   "outputs": [],
   "source": [
    "charVisits = []\n",
    "for fullVisit in fullVisits[0:1]:\n",
    "    expId = fullVisit[0]\n",
    "    #if expId == 2021031100348:\n",
    "    #    continue\n",
    "    print(expId)\n",
    "    charVisit = {}\n",
    "    charVisit['Visit'] = fullVisit\n",
    "    exp = gen2_butler.get('quickLookExp', detector=0, expId=expId)\n",
    "    charResult = charTask.run(exp)\n",
    "    sourceCatalog = charResult.sourceCat\n",
    "\n",
    "    maxFlux = np.nanmax(sourceCatalog['base_SdssShape_instFlux'])\n",
    "    selectBrightestSource = sourceCatalog['base_SdssShape_instFlux'] > maxFlux * 0.99\n",
    "    brightestSource = sourceCatalog.subset(selectBrightestSource)\n",
    "    brightestCentroid = (brightestSource['base_SdssCentroid_x'][0], \\\n",
    "                         brightestSource['base_SdssCentroid_y'][0])\n",
    "    brightCatalog = sourceCatalog.subset(sourceCatalog['base_SdssShape_instFlux'] > maxFlux * 0.001)\n",
    "    print(f\"Found {len(sourceCatalog)} sources, {len(brightCatalog)} bright sources\")\n",
    "    print(f\"Brightest centroid at {brightestCentroid}\")\n",
    "    charVisit['exp'] = exp\n",
    "    charVisit['brightestCentroid'] = brightestCentroid\n",
    "    charVisit['brightCatalog'] = brightCatalog\n",
    "    charVisits.append(charVisit)"
   ]
  },
  {
   "cell_type": "code",
   "execution_count": null,
   "metadata": {},
   "outputs": [],
   "source": [
    "#%matplotlib inline\n",
    "# Look at the data with matplotlib\n",
    "def colorbar(mappable):\n",
    "    from mpl_toolkits.axes_grid1 import make_axes_locatable\n",
    "    last_axes = plt.gca()\n",
    "    ax = mappable.axes\n",
    "    fig = ax.figure\n",
    "    divider = make_axes_locatable(ax)\n",
    "    cax = divider.append_axes(\"right\", size=\"5%\", pad=0.05)\n",
    "    cbar = fig.colorbar(mappable, cax=cax)\n",
    "    plt.sca(last_axes)\n",
    "    return cbar\n",
    "\n",
    "plt.figure(figsize=(8,8))\n",
    "plt.subplot(1,1,1)\n",
    "plt.title(f\"Image - {expId}\",fontsize=18)\n",
    "arr = exp.image.array\n",
    "arr = np.clip(arr, 1, 100000) # This image has some negative values, and this removes them\n",
    "img = plt.imshow(arr, norm=LogNorm(vmin=1, vmax=1000),  interpolation='Nearest', cmap='gray')\n",
    "cat = brightCatalog\n",
    "plt.scatter(cat['base_SdssCentroid_x'],cat['base_SdssCentroid_y']\\\n",
    "            ,color='red', marker='x', label=f\"offset={offset}\")\n",
    "\n",
    "colorbar(img)\n",
    "plt.legend()\n",
    "plt.tight_layout(h_pad=1)\n",
    "#plt.savefig(f\"/project/cslage/AuxTel/offsets/Offsets_{expIds[0]}_{expIds[1]}_{expIds[2]}_{expIds[3]}_16Apr21.pdf\")"
   ]
  }
 ],
 "metadata": {
  "kernelspec": {
   "display_name": "LSST",
   "language": "python",
   "name": "lsst"
  },
  "language_info": {
   "codemirror_mode": {
    "name": "ipython",
    "version": 3
   },
   "file_extension": ".py",
   "mimetype": "text/x-python",
   "name": "python",
   "nbconvert_exporter": "python",
   "pygments_lexer": "ipython3",
   "version": "3.11.4"
  }
 },
 "nbformat": 4,
 "nbformat_minor": 4
}
