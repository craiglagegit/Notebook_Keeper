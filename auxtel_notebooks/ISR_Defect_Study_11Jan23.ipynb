{
 "cells": [
  {
   "cell_type": "markdown",
   "id": "e8cc3a14-f377-44f4-ab4c-97c9c3047697",
   "metadata": {},
   "source": [
    "# Why didn't doDefect mask out bad column?\n",
    "Craig Lage 11-Jan-23"
   ]
  },
  {
   "cell_type": "code",
   "execution_count": null,
   "id": "a148b369-8943-4861-a51e-9cbeea70feb3",
   "metadata": {
    "execution": {
     "iopub.execute_input": "2023-01-13T14:18:56.813934Z",
     "iopub.status.busy": "2023-01-13T14:18:56.813654Z",
     "iopub.status.idle": "2023-01-13T14:18:59.838360Z",
     "shell.execute_reply": "2023-01-13T14:18:59.837626Z",
     "shell.execute_reply.started": "2023-01-13T14:18:56.813917Z"
    },
    "tags": []
   },
   "outputs": [],
   "source": [
    "import numpy as np\n",
    "from matplotlib import pyplot as plt\n",
    "\n",
    "from lsst.daf.butler import Butler\n",
    "from lsst.summit.utils import BestEffortIsr\n",
    "import lsst.afw.cameraGeom.utils as camGeomUtils\n",
    "from lsst.ip.isr import IsrTask, IsrTaskConfig\n",
    "from mpl_toolkits.axes_grid1 import make_axes_locatable\n",
    "from matplotlib.colors import LogNorm\n",
    "\n",
    "from lsst.summit.utils import quickSmooth\n",
    "%matplotlib inline\n",
    "\n",
    "from lsst.pipe.tasks.characterizeImage import CharacterizeImageTask\n",
    "from lsst.meas.algorithms.installGaussianPsf import InstallGaussianPsfTask"
   ]
  },
  {
   "cell_type": "code",
   "execution_count": null,
   "id": "7c44dc35-840c-438f-bdba-55b8b1ce5b77",
   "metadata": {
    "execution": {
     "iopub.execute_input": "2023-01-13T14:18:59.839332Z",
     "iopub.status.busy": "2023-01-13T14:18:59.839144Z",
     "iopub.status.idle": "2023-01-13T14:18:59.845174Z",
     "shell.execute_reply": "2023-01-13T14:18:59.844608Z",
     "shell.execute_reply.started": "2023-01-13T14:18:59.839313Z"
    },
    "tags": []
   },
   "outputs": [],
   "source": [
    "def plotExp(exp):\n",
    "    # Borrowed from summit utils\n",
    "    data = quickSmooth(exp.image.array, 1)\n",
    "    vmin = np.nanpercentile(data, 1)\n",
    "    vmax = np.nanpercentile(data, 99)\n",
    "    print(vmin, vmax)\n",
    "    figure = plt.figure(figsize=(12,12))\n",
    "    figure.clear()\n",
    "    ax1 = figure.add_subplot(111)\n",
    "    im1 = ax1.imshow(data, cmap='gray', origin='lower', vmin=vmin, vmax=vmax)\n",
    "    ax1.tick_params(which=\"major\", direction=\"in\", top=True, right=True, labelsize=8)\n",
    "    divider = make_axes_locatable(ax1)\n",
    "    cax = divider.append_axes(\"right\", size=\"5%\", pad=0.05)\n",
    "    plt.colorbar(im1, cax=cax)\n",
    "    plt.tight_layout()\n",
    "    #plt.show()\n",
    "    return figure\n",
    "\n",
    "def repairCosmics(postIsr):\n",
    "    # Borrowed from summit utils\n",
    "    if postIsr.getPsf() is None:\n",
    "        installPsfTask = InstallGaussianPsfTask()\n",
    "        installPsfTask.run(postIsr)\n",
    "\n",
    "    # TODO: try adding a reasonably wide Gaussian as a temp PSF\n",
    "    # and then just running repairTask on its own without any\n",
    "    # imChar. It should work, and be faster.\n",
    "    repairConfig = CharacterizeImageTask.ConfigClass()\n",
    "    repairConfig.doMeasurePsf = False\n",
    "    repairConfig.doApCorr = False\n",
    "    repairConfig.doDeblend = False\n",
    "    repairConfig.doWrite = False\n",
    "    repairConfig.repair.cosmicray.nCrPixelMax = 200000\n",
    "    repairTask = CharacterizeImageTask(config=repairConfig)\n",
    "    repairTask.repair.run(postIsr)\n",
    "    return\n"
   ]
  },
  {
   "cell_type": "code",
   "execution_count": null,
   "id": "558e3838-4aea-48e2-9629-5b1f60b2fbaf",
   "metadata": {
    "execution": {
     "iopub.execute_input": "2023-01-13T14:18:59.848511Z",
     "iopub.status.busy": "2023-01-13T14:18:59.848110Z",
     "iopub.status.idle": "2023-01-13T14:19:02.150139Z",
     "shell.execute_reply": "2023-01-13T14:19:02.149461Z",
     "shell.execute_reply.started": "2023-01-13T14:18:59.848492Z"
    },
    "tags": []
   },
   "outputs": [],
   "source": [
    "butler_before = Butler('/repo/embargo', collections=[\"LATISS/raw/all\", \"LATISS/calib\"])\n",
    "butler_after = Butler('/repo/embargo', collections=[\"LATISS/raw/all\", \"u/cslage/sdf/calib/latiss/calib_par_cross_20230106\"])\n",
    "best_effort_isr_before = BestEffortIsr(embargo=True)"
   ]
  },
  {
   "cell_type": "code",
   "execution_count": null,
   "id": "ac370c47-f159-4dcf-8d42-99833c98c37c",
   "metadata": {
    "execution": {
     "iopub.execute_input": "2023-01-13T14:19:02.164764Z",
     "iopub.status.busy": "2023-01-13T14:19:02.164606Z",
     "iopub.status.idle": "2023-01-13T14:19:02.167324Z",
     "shell.execute_reply": "2023-01-13T14:19:02.166819Z",
     "shell.execute_reply.started": "2023-01-13T14:19:02.164749Z"
    },
    "tags": []
   },
   "outputs": [],
   "source": [
    "expId = 2022121200752"
   ]
  },
  {
   "cell_type": "markdown",
   "id": "bfe4c5fb-7ce1-49bc-9f55-91a906c018a3",
   "metadata": {},
   "source": [
    " ### Old ISR"
   ]
  },
  {
   "cell_type": "code",
   "execution_count": null,
   "id": "f087dcec-36a0-49de-b226-79370cb9c31c",
   "metadata": {
    "tags": []
   },
   "outputs": [],
   "source": [
    "dataId = {'exposure': expId, 'detector': 0, \"instrument\": 'LATISS'}\n",
    "best_effort_isr_before.doWrite = False  # Don't write to butler database\n",
    "exp_before = best_effort_isr_before.getExposure(dataId, skipCosmics=False)\n",
    "fig = plotExp(exp_before)\n",
    "plt.suptitle(f\"{expId}\")\n",
    "fig.savefig(f\"/home/c/cslage/u/AuxTel/isr/isr_study_04jan23/Old_ISR_Stretch_{expId}_09Jan23.png\")"
   ]
  },
  {
   "cell_type": "markdown",
   "id": "75e9e655-1176-4cf6-a8b2-ccb8ff195892",
   "metadata": {},
   "source": [
    " ### New ISR"
   ]
  },
  {
   "cell_type": "code",
   "execution_count": null,
   "id": "da2f3cf2-5f5e-4d3f-a6e0-29476bda53d9",
   "metadata": {
    "execution": {
     "iopub.execute_input": "2023-01-13T14:19:06.215209Z",
     "iopub.status.busy": "2023-01-13T14:19:06.214957Z",
     "iopub.status.idle": "2023-01-13T14:19:06.227593Z",
     "shell.execute_reply": "2023-01-13T14:19:06.227042Z",
     "shell.execute_reply.started": "2023-01-13T14:19:06.215192Z"
    },
    "tags": []
   },
   "outputs": [],
   "source": [
    "crosstalkValues = [0.0, 0.00015888336550941553, 3.788170293684901e-05, 9.933872708581732e-06, \n",
    "2.808792195062614e-06, 1.8421191510313597e-06, 4.966259648498857e-06, 6.220491564786351e-06, \n",
    "1.229941066093052e-06, -4.290528236003061e-06, -1.3358423925506902e-06, 5.228198537834383e-07, \n",
    "-4.892069111840228e-07, -1.5012114269596314e-06, 3.188762205226405e-06, 1.9728818979472125e-05, \n",
    "0.00024470391931360916, 0.0, 0.00024947603368651955, 9.297956862262597e-05, \n",
    "5.446469509101461e-05, 3.538220478337849e-05, 1.1957245107398185e-05, 5.655566532679767e-06, \n",
    "-2.193297731923316e-06, 4.151001613108685e-07, -9.528997434546441e-07, 1.1898088833525855e-06, \n",
    "5.003457515107364e-07, 4.893182430672108e-07, 2.4353974480931923e-06, 2.420465431645097e-05, \n",
    "4.883246913991542e-05, 0.00022323979903339305, 0.0, 0.0002487835770449991, \n",
    "9.894601615698697e-05, 5.366857753726588e-05, 9.079460052123976e-06, 8.505620991978652e-07, \n",
    "-5.84796012740521e-07, 4.2899918266257187e-07, -5.724454719871431e-07, 8.062468235047843e-07, \n",
    "1.0728940459583974e-05, 7.719473939032656e-06, 9.665914087644667e-06, 5.883924026251512e-06, \n",
    "2.0418182505347234e-05, 7.663526881495104e-05, 0.0003415121003992023, 0.0, \n",
    "0.00015514286041579597, 7.041020945318627e-05, 1.2284805090899454e-05, 4.2558818752883366e-06, \n",
    "4.103817209748911e-06, -2.1305952486134125e-06, 2.078402993151939e-09, -7.787395422421039e-07, \n",
    "3.0633993912083894e-06, 1.223631733619101e-05, -1.343852891018992e-07, 2.7237079592636606e-06, \n",
    "8.898295927180605e-06, 4.65761873524069e-05, 8.73116649498964e-05, 0.00016188949003024533, \n",
    "0.0, 0.000315733058600579, 2.752723616423848e-05, 1.4940550528526992e-06, \n",
    "4.746205564044835e-06, -1.9923891449017904e-06, 3.640889101000278e-05, 4.179757960643622e-06, \n",
    "7.757089759628362e-06, -1.0496853914689421e-06, -1.2559215898123022e-06, -1.5341247851894657e-06, \n",
    "6.773341098404962e-06, 2.6008291467554955e-05, 4.5520412670111093e-05, 5.742005252408831e-05, \n",
    "0.0008733650985158913, 0.0, 0.00015300159309239293, 1.6055211172715017e-05, \n",
    "-1.21810326108837e-06, 2.3454208759065637e-06, 1.1334640536096042e-05, 1.6892974681087563e-05, \n",
    "-1.3913890742945033e-06, -1.2765033732767498e-06, -1.8268192780564383e-06, 5.051324335010207e-07, \n",
    "3.570388309862894e-06, 2.8678016067781073e-06, 1.9224563170350935e-06, -5.1836956685920735e-06, \n",
    "2.5277367322461668e-05, 0.00023742201438061643, 0.0, 0.00020504699706798372, \n",
    "2.653159842143788e-06, 1.6515581022895524e-05, 1.9002148038475157e-05, 2.2004012962711287e-06, \n",
    "-1.452248744973186e-06, -2.178756429296533e-06, -3.332491895848686e-06, -4.599476434974772e-07, \n",
    "5.3809067647701876e-06, -5.974419921699883e-06, -1.1662353446167973e-05, -2.496420912380099e-05, \n",
    "-1.6052633113115148e-05, -1.2147390477178905e-05, 0.0015736490591040963, 0.0, \n",
    "1.6185385800755344e-05, 1.865945124130999e-05, 5.545970397133101e-07, 8.376130053936916e-07, \n",
    "-7.349465296681093e-07, -2.5632316944152853e-06, -2.021606318243888e-06, -1.2077754576503793e-06, \n",
    "-1.4481694074673388e-06, -2.2408697277009e-06, -2.467604183126412e-07, -1.3027392735589607e-06, \n",
    "7.122879763875737e-07, -7.007800224518524e-08, 1.879343859736736e-06, 1.678337466644244e-05, \n",
    "0.0, 0.00022000465144973125, -2.7977204287922815e-06, -1.500465665417047e-05, \n",
    "-1.1519801156143158e-05, -7.484669107701178e-06, 2.1149656673713017e-06, 1.0986495368415558e-05, \n",
    "-9.689480922044601e-07, 8.974784665907462e-07, 2.2849177906583825e-06, -1.6389002289195602e-06, \n",
    "3.3461772927228364e-06, 3.951058635509022e-06, 2.4221686306780196e-05, 2.0546367186506874e-05, \n",
    "0.0004224723146914864, 0.0, 0.00020216398757165246, 3.22067824426738e-05, \n",
    "1.7164475567926765e-05, 1.4505332705203746e-05, 1.3119574333202956e-05, 1.415051316742601e-05, \n",
    "-1.485865544154329e-06, -4.539848436053557e-06, -3.1595824899728166e-06, -2.6332349303015907e-06, \n",
    "3.904609186469354e-05, 1.1884998685517373e-05, 2.274159647392664e-05, 5.7685644342233356e-08, \n",
    "4.394301200448987e-06, 0.00011332098015803947, 0.0, 0.0005444913758968536, \n",
    "6.90614024902783e-05, 5.156488718053364e-05, 3.519552059843461e-05, 1.3090319993608439e-05, \n",
    "-9.637919133282712e-07, -1.8983453205184659e-06, 5.822135176750107e-07, -2.1457459716798389e-07, \n",
    "6.645508457169517e-06, 1.926819670425349e-05, 7.447047745231304e-07, 3.825948955469393e-07, \n",
    "-8.015332919326301e-06, -1.2268754097035193e-05, 0.0017424803242983159, 0.0, \n",
    "0.00016250543823652442, 9.385502798784448e-05, 5.7752745638708104e-05, 1.5943970053133675e-05, \n",
    "-1.2157572968266757e-06, -3.452216875169628e-06, 8.576571717394367e-06, 6.931280141888806e-06, \n",
    "6.894078160263231e-06, -1.4980521409811762e-06, 5.992244803228838e-07, 3.081419545762707e-07, \n",
    "-9.666880102236e-06, -3.989115414104398e-06, 5.02346924795469e-05, 0.00011909236372512782, \n",
    "0.0, 0.00025176337260515475, 8.982143769863497e-05, 1.8028988544747377e-05, \n",
    "-5.217045366898451e-07, 4.530352324585823e-06, 1.0403948446637116e-05, 1.483849579390179e-05, \n",
    "-9.62056945142165e-07, -4.93685489256739e-07, -1.665593245841829e-06, -2.174795767942349e-06, \n",
    "-3.5696336874929715e-06, -5.808772657213313e-06, 3.4896997694271714e-05, 6.91895795472634e-05, \n",
    "0.0003851940438104246, 0.0, 0.00021422904840776453, 3.1458432126703984e-05, \n",
    "4.044232855652071e-06, 3.996308730923587e-06, 1.1157114544501083e-05, -1.8884775083145607e-06, \n",
    "-2.025439123703041e-06, -3.012761343863761e-06, -1.0480865551281963e-06, 2.74988973524529e-06, \n",
    "-1.4791305908240787e-07, -5.559135420195798e-06, 1.4615136582101152e-05, 2.9672866035619164e-05, \n",
    "6.1608581592689e-05, 0.00017482083464693908, 0.0, 0.00026596894698489897, \n",
    "2.0352791713644413e-05, 2.7116153215408716e-05, 6.723175399578788e-06, -2.0175516412651795e-06, \n",
    "-2.5835984896554303e-06, -1.274883122174834e-06, 7.844131996879105e-07, 2.4959646616587955e-06, \n",
    "2.6614996964618528e-06, -4.100325037808096e-06, -5.9425651905724865e-06, -1.5249106914395756e-05, \n",
    "-7.608841653502559e-06, -8.733207451592442e-06, 0.0007388418987397647, 0.0]"
   ]
  },
  {
   "cell_type": "code",
   "execution_count": null,
   "id": "5fdbc6a3-4691-4baa-b8bd-c182b8e51de9",
   "metadata": {
    "tags": []
   },
   "outputs": [],
   "source": []
  },
  {
   "cell_type": "code",
   "execution_count": null,
   "id": "50ae40b2-b711-435e-9423-3085bff83c56",
   "metadata": {
    "execution": {
     "iopub.execute_input": "2023-01-13T14:20:09.821276Z",
     "iopub.status.busy": "2023-01-13T14:20:09.820855Z",
     "iopub.status.idle": "2023-01-13T14:20:27.099871Z",
     "shell.execute_reply": "2023-01-13T14:20:27.098914Z",
     "shell.execute_reply.started": "2023-01-13T14:20:09.821255Z"
    },
    "tags": []
   },
   "outputs": [],
   "source": [
    "isrConfig = IsrTaskConfig()\n",
    "isrConfig.overscan.fitType=\"MEDIAN_PER_ROW\"\n",
    "isrConfig.overscan.doParallelOverscan=True\n",
    "isrConfig.doLinearize=False\n",
    "isrConfig.doOverscan=True\n",
    "isrConfig.doAssembleCcd=True\n",
    "isrConfig.doBias=True\n",
    "isrConfig.doVariance=True\n",
    "isrConfig.doLinearize=False\n",
    "isrConfig.doCrosstalk=True\n",
    "isrConfig.crosstalk.useConfigCoefficients=True\n",
    "isrConfig.crosstalk.crosstalkShape=16,16\n",
    "isrConfig.crosstalk.crosstalkValues=crosstalkValues\n",
    "isrConfig.doBrighterFatter=False\n",
    "isrConfig.doDark=False\n",
    "isrConfig.doStrayLight=False\n",
    "isrConfig.doFlat=True\n",
    "isrConfig.doFringe=False\n",
    "isrConfig.doApplyGains=False\n",
    "isrConfig.doDefect=True\n",
    "isrConfig.doNanMasking=False\n",
    "isrConfig.doInterpolate=True\n",
    "isrConfig.doSaturation=True\n",
    "isrConfig.doSaturationInterpolation=True\n",
    "isrConfig.doWrite=False\n",
    "\n",
    "#isrConfig.doSetBadRegions=False\n",
    "#isrConfig.maskNegativeVariance=False\n",
    "#isrConfig.doNanInterpolation=False\n",
    "\n",
    "isrTask = IsrTask(config=isrConfig)\n",
    "exp = butler_after.get('raw', detector=0, exposure=expId)\n",
    "print(f\"There are {np.count_nonzero(np.isnan(exp.image.array))} NaN values in the raw data\")\n",
    "biasExp = butler_after.get('bias', detector=0, exposure=expId)\n",
    "flatExp = butler_after.get('flat', detector=0, exposure=expId)\n",
    "darkExp = butler_after.get('dark', detector=0, exposure=expId)\n",
    "defectExp = butler_after.get('defects', detector=0, exposure=expId)\n",
    "isrResult = isrTask.run(exp, bias=biasExp, flat=flatExp, dark=darkExp, defects=defectExp)\n",
    "postIsrExp = isrResult.exposure\n",
    "print(f\"There are {np.count_nonzero(np.isnan(postIsrExp.image.array))} NaN values in the postISR data\")\n",
    "isrConfig.doDefect=False\n",
    "isrConfig.doInterpolate=False\n",
    "isrConfig.doSaturation=False\n",
    "isrConfig.doSaturationInterpolation=False\n",
    "isrTaskNoDefect = IsrTask(config=isrConfig)\n",
    "isrResultNoDefect = isrTaskNoDefect.run(exp, bias=biasExp, flat=flatExp, dark=darkExp, defects=defectExp)\n",
    "postIsrExpNoDefect = isrResultNoDefect.exposure\n",
    "print(f\"There are {np.count_nonzero(np.isnan(postIsrExpNoDefect.image.array))} NaN values in the postISR data\")\n",
    "\n",
    "fig = plotExp(postIsrExp)\n"
   ]
  },
  {
   "cell_type": "markdown",
   "id": "8ce67240-7658-4d28-9049-be00bba9de36",
   "metadata": {},
   "source": [
    "## First, get some understanding of the mask data"
   ]
  },
  {
   "cell_type": "code",
   "execution_count": null,
   "id": "4c3fc45f-ff2b-44a5-9fbc-b54e260982c2",
   "metadata": {},
   "outputs": [],
   "source": []
  },
  {
   "cell_type": "code",
   "execution_count": null,
   "id": "04698685-f73d-4124-8417-a13306cde8fb",
   "metadata": {
    "execution": {
     "iopub.execute_input": "2023-01-13T14:20:45.709786Z",
     "iopub.status.busy": "2023-01-13T14:20:45.709373Z",
     "iopub.status.idle": "2023-01-13T14:20:45.713766Z",
     "shell.execute_reply": "2023-01-13T14:20:45.713191Z",
     "shell.execute_reply.started": "2023-01-13T14:20:45.709765Z"
    },
    "tags": []
   },
   "outputs": [],
   "source": [
    "maskArr = postIsrExp.getMaskedImage().getMask().array\n",
    "print(maskArr[3550,600:610])"
   ]
  },
  {
   "cell_type": "code",
   "execution_count": null,
   "id": "238c6dc8-2e91-43cd-912a-35a84bbca1f7",
   "metadata": {
    "execution": {
     "iopub.execute_input": "2023-01-13T14:20:48.548649Z",
     "iopub.status.busy": "2023-01-13T14:20:48.548251Z",
     "iopub.status.idle": "2023-01-13T14:20:48.552570Z",
     "shell.execute_reply": "2023-01-13T14:20:48.551997Z",
     "shell.execute_reply.started": "2023-01-13T14:20:48.548628Z"
    },
    "tags": []
   },
   "outputs": [],
   "source": [
    "mask = postIsrExp.getMask()\n",
    "mask.printMaskPlanes()"
   ]
  },
  {
   "cell_type": "code",
   "execution_count": null,
   "id": "56e278f8-577f-4c7a-a5a2-6cc5e91940c0",
   "metadata": {
    "execution": {
     "iopub.execute_input": "2023-01-13T14:20:51.910677Z",
     "iopub.status.busy": "2023-01-13T14:20:51.910411Z",
     "iopub.status.idle": "2023-01-13T14:20:51.914810Z",
     "shell.execute_reply": "2023-01-13T14:20:51.914246Z",
     "shell.execute_reply.started": "2023-01-13T14:20:51.910656Z"
    },
    "tags": []
   },
   "outputs": [],
   "source": [
    "mask = postIsrExp.getMask()\n",
    "print(mask.getPlaneBitMask(['NO_DATA']))\n",
    "print(mask.getPlaneBitMask(['CROSSTALK', 'NO_DATA']))"
   ]
  },
  {
   "cell_type": "code",
   "execution_count": null,
   "id": "d2e60f94-d74f-4f58-b6b7-2a29b221086a",
   "metadata": {
    "execution": {
     "iopub.execute_input": "2023-01-13T14:20:54.818470Z",
     "iopub.status.busy": "2023-01-13T14:20:54.818220Z",
     "iopub.status.idle": "2023-01-13T14:20:54.822378Z",
     "shell.execute_reply": "2023-01-13T14:20:54.821800Z",
     "shell.execute_reply.started": "2023-01-13T14:20:54.818451Z"
    },
    "tags": []
   },
   "outputs": [],
   "source": [
    "print(mask.interpret(256))\n",
    "print(mask.interpret(261))\n",
    "print(mask.interpret(772))"
   ]
  },
  {
   "cell_type": "markdown",
   "id": "3f467e84-37e2-4e2d-b29a-4b800368eb9f",
   "metadata": {
    "execution": {
     "iopub.execute_input": "2023-01-11T15:37:52.488892Z",
     "iopub.status.busy": "2023-01-11T15:37:52.488030Z",
     "iopub.status.idle": "2023-01-11T15:37:52.491469Z",
     "shell.execute_reply": "2023-01-11T15:37:52.490924Z",
     "shell.execute_reply.started": "2023-01-11T15:37:52.488870Z"
    }
   },
   "source": [
    "## Next, plot some defect regions"
   ]
  },
  {
   "cell_type": "code",
   "execution_count": null,
   "id": "cf85ec5d-8f58-4ea4-ae81-0e0039d27651",
   "metadata": {
    "execution": {
     "iopub.execute_input": "2023-01-13T14:29:45.437059Z",
     "iopub.status.busy": "2023-01-13T14:29:45.436654Z",
     "iopub.status.idle": "2023-01-13T14:29:45.449902Z",
     "shell.execute_reply": "2023-01-13T14:29:45.449338Z",
     "shell.execute_reply.started": "2023-01-13T14:29:45.437037Z"
    },
    "tags": []
   },
   "outputs": [],
   "source": [
    "def plotDefects(expId, exp, expNoDefect, defects, xmin, xmax, ymin, ymax):\n",
    "    arr = exp.image.array\n",
    "    mask = exp.getMask()\n",
    "    maskArr = np.clip((mask.array - 256), 0, 10)\n",
    "    arrNoDefect = expNoDefect.image.array\n",
    "    maskArrNoDefect = np.clip((expNoDefect.getMask().array - 256), 0, 10)\n",
    "    figure = plt.figure(figsize=(8,8))\n",
    "    figure.clear()\n",
    "    figure.subplots_adjust(hspace=0.5, wspace=0.5)\n",
    "    #print(arr[int((ymin+ymax)/2), xmin:xmax])\n",
    "    #print(maskArr[int((ymin+ymax)/2), xmin:xmax])\n",
    "    #print(arrNoDefect[int((ymin+ymax)/2), xmin:xmax])\n",
    "    #print(maskArrNoDefect[int((ymin+ymax)/2), xmin:xmax])\n",
    "    ax1 = figure.add_subplot(325)\n",
    "    ax1.set_title(f\"{expId}-ISR, With Defects\")\n",
    "    im1 = ax1.imshow(arr, interpolation='nearest')\n",
    "    ax1.tick_params(which=\"major\", direction=\"in\", top=True, right=True, labelsize=8)\n",
    "    divider = make_axes_locatable(ax1)\n",
    "    cax = divider.append_axes(\"right\", size=\"5%\", pad=0.05)\n",
    "    ax1.set_xlim(xmin,xmax)\n",
    "    ax1.set_ylim(ymin,ymax)\n",
    "    truncArr = arr[ymin:ymax, xmin:xmax]\n",
    "    plt.colorbar(im1, cax=cax)\n",
    "    #im1.set_clim(0.0, np.nanmax(truncArr))\n",
    "    im1.set_clim(0.0, 100.0)\n",
    "    ax2 = figure.add_subplot(326)\n",
    "    ax2.set_title(f\"{expId}-Defect Mask, With Defects\")\n",
    "    im2 = ax2.imshow(maskArr, interpolation='nearest')\n",
    "    ax2.tick_params(which=\"major\", direction=\"in\", top=True, right=True, labelsize=8)\n",
    "    divider = make_axes_locatable(ax2)\n",
    "    cax = divider.append_axes(\"right\", size=\"5%\", pad=0.05)\n",
    "    ax2.set_xlim(xmin,xmax)\n",
    "    ax2.set_ylim(ymin,ymax)\n",
    "    plt.colorbar(im2, cax=cax)\n",
    "    ax3 = figure.add_subplot(321)\n",
    "    ax3.set_title(f\"{expId}-ISR, No Defects\")\n",
    "    im3 = ax3.imshow(arrNoDefect, interpolation='nearest')\n",
    "    ax3.tick_params(which=\"major\", direction=\"in\", top=True, right=True, labelsize=8)\n",
    "    divider = make_axes_locatable(ax3)\n",
    "    cax = divider.append_axes(\"right\", size=\"5%\", pad=0.05)\n",
    "    ax3.set_xlim(xmin,xmax)\n",
    "    ax3.set_ylim(ymin,ymax)\n",
    "    truncArr = arrNoDefect[ymin:ymax, xmin:xmax]\n",
    "    plt.colorbar(im3, cax=cax)\n",
    "    #im3.set_clim(0.0, np.nanmax(truncArr))\n",
    "    im3.set_clim(0.0, 100.0)\n",
    "    ax4 = figure.add_subplot(322)\n",
    "    ax4.set_title(f\"{expId}-Defect Mask, No Defects\")\n",
    "    im4 = ax4.imshow(maskArrNoDefect, interpolation='nearest')\n",
    "    ax4.tick_params(which=\"major\", direction=\"in\", top=True, right=True, labelsize=8)\n",
    "    divider = make_axes_locatable(ax4)\n",
    "    cax = divider.append_axes(\"right\", size=\"5%\", pad=0.05)\n",
    "    ax4.set_xlim(xmin,xmax)\n",
    "    ax4.set_ylim(ymin,ymax)\n",
    "    plt.colorbar(im4, cax=cax)\n",
    "    imageHeight = 4000\n",
    "    imageWidth = 4072\n",
    "    defArray = np.zeros([imageHeight, imageWidth])\n",
    "    table = defects.toTable()[0].to_pandas()\n",
    "    for n in range(len(table)):\n",
    "        row = table.iloc[n]\n",
    "        x0 = row['x0']\n",
    "        y0 = row['y0']\n",
    "        width = row['width']\n",
    "        height = row['height']\n",
    "        for i in range(x0, x0+width):\n",
    "            for j in range(y0, y0+height):\n",
    "                defArray[j,i] = 1.0\n",
    "    ax5 = figure.add_subplot(323)\n",
    "    ax5.set_title(f\"{expId}-Defect File\")\n",
    "    im5 = ax5.imshow(defArray, interpolation='nearest')\n",
    "    ax5.tick_params(which=\"major\", direction=\"in\", top=True, right=True, labelsize=8)\n",
    "    divider = make_axes_locatable(ax5)\n",
    "    cax = divider.append_axes(\"right\", size=\"5%\", pad=0.05)\n",
    "    ax5.set_xlim(xmin,xmax)\n",
    "    ax5.set_ylim(ymin,ymax)\n",
    "    plt.colorbar(im5, cax=cax)\n",
    "\n",
    "    plt.tight_layout()\n",
    "    figure.savefig(f\"/home/c/cslage/u/AuxTel/isr/defect_study/Defects_{expId}_{xmin}_{xmax}_{ymin}_{ymax}_13Jan23.png\")\n",
    "    return\n"
   ]
  },
  {
   "cell_type": "markdown",
   "id": "94caaa2c-1d72-48c0-8687-1af6f35b1c50",
   "metadata": {},
   "source": [
    "## The one below, the defect is clearly shifted by two pixels - ??"
   ]
  },
  {
   "cell_type": "code",
   "execution_count": null,
   "id": "a96c205c-fdba-4ffc-8d02-299626f9c1c1",
   "metadata": {
    "execution": {
     "iopub.execute_input": "2023-01-13T14:24:13.123969Z",
     "iopub.status.busy": "2023-01-13T14:24:13.123683Z",
     "iopub.status.idle": "2023-01-13T14:24:16.251723Z",
     "shell.execute_reply": "2023-01-13T14:24:16.251108Z",
     "shell.execute_reply.started": "2023-01-13T14:24:13.123950Z"
    },
    "tags": []
   },
   "outputs": [],
   "source": [
    "plotDefects(expId, postIsrExp, postIsrExpNoDefect, defectExp, 600, 610, 3550, 3560)"
   ]
  },
  {
   "cell_type": "code",
   "execution_count": null,
   "id": "61aa0f89-8f8e-4037-95bc-c27aff9d0361",
   "metadata": {
    "execution": {
     "iopub.execute_input": "2023-01-13T14:29:52.013080Z",
     "iopub.status.busy": "2023-01-13T14:29:52.012667Z",
     "iopub.status.idle": "2023-01-13T14:29:55.058067Z",
     "shell.execute_reply": "2023-01-13T14:29:55.057464Z",
     "shell.execute_reply.started": "2023-01-13T14:29:52.013059Z"
    },
    "tags": []
   },
   "outputs": [],
   "source": [
    "plotDefects(expId, postIsrExp, postIsrExpNoDefect, defectExp, 580, 630, 3950, 4000)"
   ]
  },
  {
   "cell_type": "markdown",
   "id": "7623f707-d57b-40c3-84a6-5010761b5470",
   "metadata": {},
   "source": [
    "## And in the one below, an obvious defect is not masked."
   ]
  },
  {
   "cell_type": "code",
   "execution_count": null,
   "id": "5b136d1f-897d-431d-b4c6-f3afa5f9121c",
   "metadata": {
    "execution": {
     "iopub.execute_input": "2023-01-13T14:21:45.252734Z",
     "iopub.status.busy": "2023-01-13T14:21:45.252354Z",
     "iopub.status.idle": "2023-01-13T14:21:49.249878Z",
     "shell.execute_reply": "2023-01-13T14:21:49.249301Z",
     "shell.execute_reply.started": "2023-01-13T14:21:45.252715Z"
    },
    "tags": []
   },
   "outputs": [],
   "source": [
    "plotDefects(expId, postIsrExp, postIsrExpNoDefect, defectExp, 2142, 2152, 1650, 1660)"
   ]
  },
  {
   "cell_type": "code",
   "execution_count": null,
   "id": "27e4196a-64e0-43fa-94d1-61b1dafebfc6",
   "metadata": {
    "execution": {
     "iopub.execute_input": "2023-01-13T14:21:56.790352Z",
     "iopub.status.busy": "2023-01-13T14:21:56.790098Z",
     "iopub.status.idle": "2023-01-13T14:22:02.083642Z",
     "shell.execute_reply": "2023-01-13T14:22:02.083042Z",
     "shell.execute_reply.started": "2023-01-13T14:21:56.790333Z"
    },
    "tags": []
   },
   "outputs": [],
   "source": [
    "plotDefects(expId, postIsrExp, postIsrExpNoDefect, defectExp, 2142, 2152, 1200, 1210)"
   ]
  },
  {
   "cell_type": "code",
   "execution_count": null,
   "id": "55fed191-d327-4816-af3e-ef0835b84c4a",
   "metadata": {
    "tags": []
   },
   "outputs": [],
   "source": [
    "plotDefects(expId, postIsrExp, postIsrExpNoDefect, defectExp, 2130, 2160, 1650, 1680)"
   ]
  },
  {
   "cell_type": "code",
   "execution_count": null,
   "id": "f7d99e1c-e85e-4fb8-bedc-4dae183a0a88",
   "metadata": {
    "execution": {
     "iopub.execute_input": "2023-01-13T14:52:42.221378Z",
     "iopub.status.busy": "2023-01-13T14:52:42.220780Z",
     "iopub.status.idle": "2023-01-13T14:52:42.224793Z",
     "shell.execute_reply": "2023-01-13T14:52:42.224239Z",
     "shell.execute_reply.started": "2023-01-13T14:52:42.221357Z"
    },
    "tags": []
   },
   "outputs": [],
   "source": [
    "for amp in exp.getDetector().getAmplifiers():\n",
    "    print(amp.getName())\n",
    "    break"
   ]
  },
  {
   "cell_type": "code",
   "execution_count": null,
   "id": "474103d0-1214-478c-b7d8-0929da6b5fa0",
   "metadata": {
    "execution": {
     "iopub.execute_input": "2023-01-13T14:53:33.884253Z",
     "iopub.status.busy": "2023-01-13T14:53:33.883339Z",
     "iopub.status.idle": "2023-01-13T14:53:33.887012Z",
     "shell.execute_reply": "2023-01-13T14:53:33.886472Z",
     "shell.execute_reply.started": "2023-01-13T14:53:33.884221Z"
    },
    "tags": []
   },
   "outputs": [],
   "source": [
    "test = amp.getBBox()"
   ]
  },
  {
   "cell_type": "code",
   "execution_count": null,
   "id": "9841906a-05c4-449a-9e5b-d5bd6946e0dd",
   "metadata": {
    "execution": {
     "iopub.execute_input": "2023-01-13T14:54:23.198557Z",
     "iopub.status.busy": "2023-01-13T14:54:23.198169Z",
     "iopub.status.idle": "2023-01-13T14:54:23.203043Z",
     "shell.execute_reply": "2023-01-13T14:54:23.202508Z",
     "shell.execute_reply.started": "2023-01-13T14:54:23.198538Z"
    },
    "tags": []
   },
   "outputs": [],
   "source": [
    "test"
   ]
  },
  {
   "cell_type": "code",
   "execution_count": null,
   "id": "ad2b57c0-ec36-4ae6-814f-7fccce180b0a",
   "metadata": {
    "execution": {
     "iopub.execute_input": "2023-01-13T14:54:40.086574Z",
     "iopub.status.busy": "2023-01-13T14:54:40.085930Z",
     "iopub.status.idle": "2023-01-13T14:54:40.089453Z",
     "shell.execute_reply": "2023-01-13T14:54:40.088906Z",
     "shell.execute_reply.started": "2023-01-13T14:54:40.086552Z"
    }
   },
   "outputs": [],
   "source": [
    "test2 = test.dilatedBy(5)"
   ]
  },
  {
   "cell_type": "code",
   "execution_count": null,
   "id": "e2f34a1d-76d4-4f57-87f3-89ed3052af1a",
   "metadata": {
    "execution": {
     "iopub.execute_input": "2023-01-13T14:54:43.111664Z",
     "iopub.status.busy": "2023-01-13T14:54:43.111411Z",
     "iopub.status.idle": "2023-01-13T14:54:43.116283Z",
     "shell.execute_reply": "2023-01-13T14:54:43.115748Z",
     "shell.execute_reply.started": "2023-01-13T14:54:43.111646Z"
    }
   },
   "outputs": [],
   "source": [
    "test2"
   ]
  },
  {
   "cell_type": "code",
   "execution_count": null,
   "id": "e3fcb6a5-ca82-472a-838c-4f6035ae0943",
   "metadata": {},
   "outputs": [],
   "source": []
  }
 ],
 "metadata": {
  "kernelspec": {
   "display_name": "LSST",
   "language": "python",
   "name": "lsst"
  },
  "language_info": {
   "codemirror_mode": {
    "name": "ipython",
    "version": 3
   },
   "file_extension": ".py",
   "mimetype": "text/x-python",
   "name": "python",
   "nbconvert_exporter": "python",
   "pygments_lexer": "ipython3",
   "version": "3.11.4"
  },
  "toc-autonumbering": false,
  "toc-showcode": false,
  "toc-showmarkdowntxt": true
 },
 "nbformat": 4,
 "nbformat_minor": 5
}
