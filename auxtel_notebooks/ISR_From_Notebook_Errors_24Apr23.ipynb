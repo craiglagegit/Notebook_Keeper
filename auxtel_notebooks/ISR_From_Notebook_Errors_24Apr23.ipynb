{
 "cells": [
  {
   "cell_type": "markdown",
   "id": "e8cc3a14-f377-44f4-ab4c-97c9c3047697",
   "metadata": {},
   "source": [
    "# AuxTel ISR in notebook\n",
    "Craig Lage 03-Mar-23"
   ]
  },
  {
   "cell_type": "code",
   "execution_count": null,
   "id": "a148b369-8943-4861-a51e-9cbeea70feb3",
   "metadata": {
    "execution": {
     "iopub.execute_input": "2023-04-24T13:53:52.599451Z",
     "iopub.status.busy": "2023-04-24T13:53:52.599210Z",
     "iopub.status.idle": "2023-04-24T13:53:53.980309Z",
     "shell.execute_reply": "2023-04-24T13:53:53.979756Z",
     "shell.execute_reply.started": "2023-04-24T13:53:52.599436Z"
    },
    "tags": []
   },
   "outputs": [],
   "source": [
    "import numpy as np\n",
    "from matplotlib import pyplot as plt\n",
    "\n",
    "from lsst.daf.butler import Butler\n",
    "from lsst.ip.isr import IsrTask, IsrTaskConfig"
   ]
  },
  {
   "cell_type": "code",
   "execution_count": null,
   "id": "558e3838-4aea-48e2-9629-5b1f60b2fbaf",
   "metadata": {
    "execution": {
     "iopub.execute_input": "2023-04-24T13:53:53.996102Z",
     "iopub.status.busy": "2023-04-24T13:53:53.995965Z",
     "iopub.status.idle": "2023-04-24T13:53:55.462584Z",
     "shell.execute_reply": "2023-04-24T13:53:55.462093Z",
     "shell.execute_reply.started": "2023-04-24T13:53:53.996089Z"
    },
    "tags": []
   },
   "outputs": [],
   "source": [
    "expId = 2023031000318\n",
    "butler = Butler('/repo/embargo', collections=[\"LATISS/raw/all\", \"LATISS/calib\"])"
   ]
  },
  {
   "cell_type": "code",
   "execution_count": null,
   "id": "dd90e290-1777-403b-a945-7211b038ef7c",
   "metadata": {
    "execution": {
     "iopub.execute_input": "2023-04-24T13:53:55.463392Z",
     "iopub.status.busy": "2023-04-24T13:53:55.463238Z",
     "iopub.status.idle": "2023-04-24T13:53:55.486528Z",
     "shell.execute_reply": "2023-04-24T13:53:55.486086Z",
     "shell.execute_reply.started": "2023-04-24T13:53:55.463378Z"
    },
    "tags": []
   },
   "outputs": [],
   "source": [
    "isrConfig = IsrTaskConfig()\n",
    "isrConfig.overscan.fitType=\"MEDIAN_PER_ROW\"\n",
    "isrConfig.overscan.doParallelOverscan=True\n",
    "isrConfig.doLinearize=False\n",
    "isrConfig.doOverscan=True\n",
    "isrConfig.doAssembleCcd=True\n",
    "isrConfig.doBias=True\n",
    "isrConfig.doVariance=True\n",
    "isrConfig.doLinearize=False\n",
    "isrConfig.doBrighterFatter=False\n",
    "isrConfig.doDark=False\n",
    "isrConfig.doStrayLight=False\n",
    "isrConfig.doApplyGains=False\n",
    "isrConfig.doFlat=False\n",
    "isrConfig.doDefect=True\n",
    "isrConfig.doNanMasking=True\n",
    "isrConfig.doInterpolate=True\n",
    "isrConfig.doSaturation=True\n",
    "isrConfig.doSaturationInterpolation=True\n",
    "isrConfig.doWrite=False\n",
    "isrTask = IsrTask(config=isrConfig)"
   ]
  },
  {
   "cell_type": "code",
   "execution_count": null,
   "id": "4f3916b3-b2ec-410a-a59b-39afb1b04183",
   "metadata": {
    "execution": {
     "iopub.execute_input": "2023-04-24T13:53:55.492665Z",
     "iopub.status.busy": "2023-04-24T13:53:55.492525Z",
     "iopub.status.idle": "2023-04-24T13:53:57.587476Z",
     "shell.execute_reply": "2023-04-24T13:53:57.586567Z",
     "shell.execute_reply.started": "2023-04-24T13:53:55.492653Z"
    },
    "tags": []
   },
   "outputs": [],
   "source": [
    "exp = butler.get('raw', detector=0, exposure=expId)\n",
    "biasExp = butler.get('bias', detector=0, exposure=expId)\n",
    "defectExp = butler.get('defects', detector=0, exposure=expId)\n",
    "isrResult = isrTask.run(exp, bias=biasExp, defects=defectExp)"
   ]
  },
  {
   "cell_type": "code",
   "execution_count": null,
   "id": "52b8814d-01ff-46ab-8d21-1265ea330c2b",
   "metadata": {
    "execution": {
     "iopub.execute_input": "2023-04-24T14:00:24.039677Z",
     "iopub.status.busy": "2023-04-24T14:00:24.039449Z",
     "iopub.status.idle": "2023-04-24T14:00:24.467781Z",
     "shell.execute_reply": "2023-04-24T14:00:24.467037Z",
     "shell.execute_reply.started": "2023-04-24T14:00:24.039661Z"
    },
    "tags": []
   },
   "outputs": [],
   "source": [
    "! eups list -s | grep LOCAL "
   ]
  },
  {
   "cell_type": "code",
   "execution_count": null,
   "id": "b163505e-40f3-4cc2-bd32-7f0cd498f35b",
   "metadata": {},
   "outputs": [],
   "source": []
  }
 ],
 "metadata": {
  "kernelspec": {
   "display_name": "LSST",
   "language": "python",
   "name": "lsst"
  },
  "language_info": {
   "codemirror_mode": {
    "name": "ipython",
    "version": 3
   },
   "file_extension": ".py",
   "mimetype": "text/x-python",
   "name": "python",
   "nbconvert_exporter": "python",
   "pygments_lexer": "ipython3",
   "version": "3.10.10"
  },
  "toc-autonumbering": false,
  "toc-showcode": false,
  "toc-showmarkdowntxt": true
 },
 "nbformat": 4,
 "nbformat_minor": 5
}
