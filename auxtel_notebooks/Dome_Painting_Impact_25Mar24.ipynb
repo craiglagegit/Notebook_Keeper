{
 "cells": [
  {
   "cell_type": "code",
   "execution_count": null,
   "id": "5ea20305-1ba7-426b-9a10-2356565185c7",
   "metadata": {},
   "outputs": [],
   "source": [
    "import sys, time, os, asyncio, warnings\n",
    "from datetime import datetime\n",
    "import numpy as np\n",
    "import pandas as pd\n",
    "import pickle as pkl\n",
    "import matplotlib.pyplot as plt\n",
    "%matplotlib inline\n",
    "from astropy.time import Time, TimeDelta\n",
    "from lsst_efd_client import EfdClient\n",
    "from lsst.summit.utils import dayObsIntToString\n",
    "from lsst.summit.utils.efdUtils import calcNextDay\n"
   ]
  },
  {
   "cell_type": "code",
   "execution_count": null,
   "id": "89c1d0e5-3890-41c5-8a1c-0b6ac55276cc",
   "metadata": {},
   "outputs": [],
   "source": [
    "client = EfdClient('usdf_efd')"
   ]
  },
  {
   "cell_type": "markdown",
   "id": "9f92d25c-3c09-4ad2-9e40-b3c437d18ec3",
   "metadata": {},
   "source": [
    "# First, get the data"
   ]
  },
  {
   "cell_type": "code",
   "execution_count": null,
   "id": "d286c8da-224f-425d-b58e-434a9497f292",
   "metadata": {},
   "outputs": [],
   "source": [
    "startDay1 = 20241105\n",
    "endDay1 = 20241107\n",
    "startString1 = dayObsIntToString(startDay1)\n",
    "endString1 = dayObsIntToString(endDay1)\n",
    "start1 = Time(f\"{startString1}T00:00:00\", scale='utc')\n",
    "end1 = Time(f\"{endString1}T04:00:00\", scale='utc')\n",
    "startDay2 = 20241123\n",
    "endDay2 = 20241125\n",
    "startString2 = dayObsIntToString(startDay2)\n",
    "endString2 = dayObsIntToString(endDay2)\n",
    "start2 = Time(f\"{startString2}T00:00:00\", scale='utc')\n",
    "end2 = Time(f\"{endString2}T04:00:00\", scale='utc')\n"
   ]
  },
  {
   "cell_type": "code",
   "execution_count": null,
   "id": "fe375f10-b7a2-4e67-b18f-1939a4e3e90c",
   "metadata": {},
   "outputs": [],
   "source": [
    "m2Temp1 = await client.select_time_series('lsst.sal.ESS.temperature', \\\n",
    "                                                ['temperatureItem3', 'sensorName'],  start1, end1, index=201)\n",
    "m2Temp1 = m2Temp1[m2Temp1['sensorName'] == 'AuxTel-ESS01']   \n",
    "m2Temp1 = m2Temp1.shift(18, freq='D')\n",
    "m1Temp1 = await client.select_time_series('lsst.sal.ESS.temperature', \\\n",
    "                                                ['temperatureItem5', 'sensorName'],  start1, end1, index=201)\n",
    "m1Temp1 = m1Temp1[m1Temp1['sensorName'] == 'AuxTel-ESS03']    \n",
    "m1Temp1 = m1Temp1.shift(18, freq='D')\n",
    "outTemp1 = await client.select_time_series('lsst.sal.ESS.temperature', \\\n",
    "                                                ['temperatureItem0'],  start1, end1, index=301)\n",
    "outTemp1 = outTemp1.shift(18, freq='D')\n",
    "m2Temp2 = await client.select_time_series('lsst.sal.ESS.temperature', \\\n",
    "                                                ['temperatureItem3', 'sensorName'],  start2, end2, index=201)\n",
    "m2Temp2 = m2Temp2[m2Temp2['sensorName'] == 'AuxTel-ESS01'] \n",
    "\n",
    "m1Temp2 = await client.select_time_series('lsst.sal.ESS.temperature', \\\n",
    "                                                ['temperatureItem5', 'sensorName'],  start2, end2, index=201)\n",
    "m1Temp2 = m1Temp2[m1Temp2['sensorName'] == 'AuxTel-ESS03']                                        \n",
    "\n",
    "outTemp2 = await client.select_time_series('lsst.sal.ESS.temperature', \\\n",
    "                                                ['temperatureItem0'],  start2, end2, index=301)\n"
   ]
  },
  {
   "cell_type": "markdown",
   "id": "fab1bd2e-1426-4a55-9224-a47fa1857e48",
   "metadata": {
    "execution": {
     "iopub.execute_input": "2024-03-25T12:25:25.098674Z",
     "iopub.status.busy": "2024-03-25T12:25:25.098106Z",
     "iopub.status.idle": "2024-03-25T12:25:25.100952Z",
     "shell.execute_reply": "2024-03-25T12:25:25.100556Z",
     "shell.execute_reply.started": "2024-03-25T12:25:25.098654Z"
    }
   },
   "source": [
    "# Now plot it."
   ]
  },
  {
   "cell_type": "code",
   "execution_count": null,
   "id": "4d19b148-cecf-4aed-b695-8f1aa3ab5692",
   "metadata": {},
   "outputs": [],
   "source": [
    "%matplotlib inline\n",
    "fig, axs = plt.subplots(1,2,figsize=(10,5))\n",
    "plt.subplots_adjust(wspace=0.3)\n",
    "plt.suptitle(\"Impact of AuxTel painting on in-dome temperatures\")\n",
    "axs[0].set_title(\"Air Temperatures\")\n",
    "m2Temp1['temperatureItem3'].plot(ax=axs[0], color='blue', label = \"DomeT(shifted), no paint\")\n",
    "m2Temp2['temperatureItem3'].plot(ax=axs[0], color='red', label = \"DomeT, paint\")\n",
    "outTemp1['temperatureItem0'].plot(ax=axs[0], color='cyan', label = \"Outside(shifted), no paint\")\n",
    "outTemp2['temperatureItem0'].plot(ax=axs[0], color='magenta', label = \"Outside, paint\")\n",
    "axs[0].legend(loc='upper left')\n",
    "axs[0].set_ylim(10,35)\n",
    "axs[0].set_ylabel(\"Temp (C)\")\n",
    "\n",
    "axs[1].set_title(\"M1 mirror Temperatures\")\n",
    "m1Temp1['temperatureItem5'].plot(ax=axs[1], color='blue', label = \"M1 temp(shifted), no paint\")\n",
    "m1Temp2['temperatureItem5'].plot(ax=axs[1], color='red', label = \"M1 temp, paint\")\n",
    "#outTemp1['temperatureItem0'].plot(ax=axs[1], color='cyan', label = \"Outside, no paint\")\n",
    "#outTemp2['temperatureItem0'].plot(ax=axs[1], color='magenta', label = \"Outside(shifted), paint\")\n",
    "axs[1].legend(loc='upper left')\n",
    "axs[1].set_ylim(10,35)\n",
    "axs[1].set_ylabel(\"Temp (C)\")\n",
    "plt.savefig(\"/home/c/cslage/u/AuxTel/dome/Painting_Impact_26Nov24.png\")"
   ]
  },
  {
   "cell_type": "code",
   "execution_count": null,
   "id": "2d933d11-d0f4-48c0-9f17-d873b950dd1e",
   "metadata": {},
   "outputs": [],
   "source": []
  }
 ],
 "metadata": {
  "kernelspec": {
   "display_name": "LSST",
   "language": "python",
   "name": "lsst"
  },
  "language_info": {
   "codemirror_mode": {
    "name": "ipython",
    "version": 3
   },
   "file_extension": ".py",
   "mimetype": "text/x-python",
   "name": "python",
   "nbconvert_exporter": "python",
   "pygments_lexer": "ipython3",
   "version": "3.11.9"
  }
 },
 "nbformat": 4,
 "nbformat_minor": 5
}
