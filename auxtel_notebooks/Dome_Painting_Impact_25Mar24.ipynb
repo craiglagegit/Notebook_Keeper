{
 "cells": [
  {
   "cell_type": "code",
   "execution_count": null,
   "id": "5ea20305-1ba7-426b-9a10-2356565185c7",
   "metadata": {
    "execution": {
     "iopub.execute_input": "2024-03-25T11:53:04.785201Z",
     "iopub.status.busy": "2024-03-25T11:53:04.784660Z",
     "iopub.status.idle": "2024-03-25T11:53:12.391954Z",
     "shell.execute_reply": "2024-03-25T11:53:12.391388Z",
     "shell.execute_reply.started": "2024-03-25T11:53:04.785183Z"
    }
   },
   "outputs": [],
   "source": [
    "import sys, time, os, asyncio, warnings\n",
    "from datetime import datetime\n",
    "import numpy as np\n",
    "import pandas as pd\n",
    "import pickle as pkl\n",
    "import matplotlib.pyplot as plt\n",
    "%matplotlib inline\n",
    "from astropy.time import Time, TimeDelta\n",
    "from lsst_efd_client import EfdClient\n",
    "from lsst.summit.utils import dayObsIntToString\n",
    "from lsst.summit.utils.efdUtils import calcNextDay\n"
   ]
  },
  {
   "cell_type": "code",
   "execution_count": null,
   "id": "89c1d0e5-3890-41c5-8a1c-0b6ac55276cc",
   "metadata": {
    "execution": {
     "iopub.execute_input": "2024-03-25T11:53:12.401556Z",
     "iopub.status.busy": "2024-03-25T11:53:12.401324Z",
     "iopub.status.idle": "2024-03-25T11:53:12.824347Z",
     "shell.execute_reply": "2024-03-25T11:53:12.823920Z",
     "shell.execute_reply.started": "2024-03-25T11:53:12.401544Z"
    }
   },
   "outputs": [],
   "source": [
    "client = EfdClient('usdf_efd')"
   ]
  },
  {
   "cell_type": "markdown",
   "id": "b584dc5b-1e5a-4358-bbbd-000b9c6f6377",
   "metadata": {},
   "source": [
    "# First get the data\n",
    "## Look at successive weekends with no venting"
   ]
  },
  {
   "cell_type": "code",
   "execution_count": null,
   "id": "478ab872-d27a-422c-a084-6a9085e86c8e",
   "metadata": {
    "execution": {
     "iopub.execute_input": "2024-03-25T12:30:56.831362Z",
     "iopub.status.busy": "2024-03-25T12:30:56.830782Z",
     "iopub.status.idle": "2024-03-25T12:30:56.835711Z",
     "shell.execute_reply": "2024-03-25T12:30:56.835327Z",
     "shell.execute_reply.started": "2024-03-25T12:30:56.831347Z"
    }
   },
   "outputs": [],
   "source": [
    "startDay1 = 20240316\n",
    "endDay1 = 20240318\n",
    "startString1 = dayObsIntToString(startDay1)\n",
    "endString1 = dayObsIntToString(endDay1)\n",
    "start1 = Time(f\"{startString1}T00:00:00\", scale='utc')\n",
    "end1 = Time(f\"{endString1}T04:00:00\", scale='utc')\n",
    "startDay2 = 20240323\n",
    "endDay2 = 20240325\n",
    "startString2 = dayObsIntToString(startDay2)\n",
    "endString2 = dayObsIntToString(endDay2)\n",
    "start2 = Time(f\"{startString2}T00:00:00\", scale='utc')\n",
    "end2 = Time(f\"{endString2}T04:00:00\", scale='utc')\n"
   ]
  },
  {
   "cell_type": "code",
   "execution_count": null,
   "id": "e913cf6a-89eb-4ee7-b799-1e0db9df6a94",
   "metadata": {
    "execution": {
     "iopub.execute_input": "2024-03-25T12:53:27.108114Z",
     "iopub.status.busy": "2024-03-25T12:53:27.107532Z",
     "iopub.status.idle": "2024-03-25T12:53:33.113536Z",
     "shell.execute_reply": "2024-03-25T12:53:33.112952Z",
     "shell.execute_reply.started": "2024-03-25T12:53:27.108099Z"
    }
   },
   "outputs": [],
   "source": [
    "m2Temp1 = await client.select_time_series('lsst.sal.ESS.temperature', \\\n",
    "                                                ['temperatureItem3', 'sensorName'],  start1, end1, index=201)\n",
    "m2Temp1 = m2Temp1[m2Temp1['sensorName'] == 'AuxTel-ESS01']                                        \n",
    "outTemp1 = await client.select_time_series('lsst.sal.ESS.temperature', \\\n",
    "                                                ['temperatureItem0'],  start1, end1, index=301)\n",
    "wind1 = await client.select_time_series('lsst.sal.ESS.airFlow', \\\n",
    "                                                ['speed'],  start1, end1, index=301)\n",
    "m2Temp2 = await client.select_time_series('lsst.sal.ESS.temperature', \\\n",
    "                                                ['temperatureItem3', 'sensorName'],  start2, end2, index=201)\n",
    "m2Temp2 = m2Temp2[m2Temp2['sensorName'] == 'AuxTel-ESS01'] \n",
    "m2Temp2 = m2Temp2.shift(-7, freq='D')\n",
    "outTemp2 = await client.select_time_series('lsst.sal.ESS.temperature', \\\n",
    "                                                ['temperatureItem0'],  start2, end2, index=301)\n",
    "outTemp2 = outTemp2.shift(-7, freq='D')\n",
    "wind2 = await client.select_time_series('lsst.sal.ESS.airFlow', \\\n",
    "                                                ['speed'],  start2, end2, index=301)\n",
    "wind2 = wind2.shift(-7, freq='D')"
   ]
  },
  {
   "cell_type": "markdown",
   "id": "5bee1147-0060-44fe-97e7-2874b713f79d",
   "metadata": {
    "execution": {
     "iopub.execute_input": "2024-03-25T12:25:25.098674Z",
     "iopub.status.busy": "2024-03-25T12:25:25.098106Z",
     "iopub.status.idle": "2024-03-25T12:25:25.100952Z",
     "shell.execute_reply": "2024-03-25T12:25:25.100556Z",
     "shell.execute_reply.started": "2024-03-25T12:25:25.098654Z"
    }
   },
   "source": [
    "# Now plot it."
   ]
  },
  {
   "cell_type": "code",
   "execution_count": null,
   "id": "1d608986-ef49-4e96-a3b4-3a8d4b44deff",
   "metadata": {
    "execution": {
     "iopub.execute_input": "2024-03-25T12:55:34.532829Z",
     "iopub.status.busy": "2024-03-25T12:55:34.532558Z",
     "iopub.status.idle": "2024-03-25T12:55:39.683244Z",
     "shell.execute_reply": "2024-03-25T12:55:39.682817Z",
     "shell.execute_reply.started": "2024-03-25T12:55:34.532815Z"
    }
   },
   "outputs": [],
   "source": [
    "%matplotlib inline\n",
    "fig, axs = plt.subplots(2,1,figsize=(5,10))\n",
    "plt.subplots_adjust(hspace=0.3)\n",
    "plt.suptitle(\"Impact of AuxTel painting on in-dome temperatures\")\n",
    "axs[0].set_title(\"Temperatures\")\n",
    "m2Temp1['temperatureItem3'].plot(ax=axs[0], color='blue', label = \"DomeT, no paint\")\n",
    "m2Temp2['temperatureItem3'].plot(ax=axs[0], color='red', label = \"DomeT(shifted), paint\")\n",
    "outTemp1['temperatureItem0'].plot(ax=axs[0], color='cyan', label = \"Outside, no paint\")\n",
    "outTemp2['temperatureItem0'].plot(ax=axs[0], color='magenta', label = \"Outside(shifted), paint\")\n",
    "axs[0].legend(loc='upper left')\n",
    "axs[0].set_ylim(10,50)\n",
    "axs[0].set_ylabel(\"Temp (C)\")\n",
    "axs[1].set_title(\"Wind Speed\")\n",
    "wind1['speed'].plot(ax=axs[1], color='blue', label = \"No paint\")\n",
    "wind2['speed'].plot(ax=axs[1], color='red', label = \"Paint\")\n",
    "axs[1].set_ylim(0,20)\n",
    "axs[1].set_ylabel(\"Wind speed(m/s)\")\n",
    "axs[1].legend(loc='upper left')\n",
    "plt.savefig(\"/home/c/cslage/u/AuxTel/dome/Painting_Impact_25Mar24.png\")"
   ]
  },
  {
   "cell_type": "code",
   "execution_count": null,
   "id": "d9f44987-c508-4a0d-83d3-97d83bd5b3d3",
   "metadata": {},
   "outputs": [],
   "source": []
  }
 ],
 "metadata": {
  "kernelspec": {
   "display_name": "LSST",
   "language": "python",
   "name": "lsst"
  },
  "language_info": {
   "codemirror_mode": {
    "name": "ipython",
    "version": 3
   },
   "file_extension": ".py",
   "mimetype": "text/x-python",
   "name": "python",
   "nbconvert_exporter": "python",
   "pygments_lexer": "ipython3",
   "version": "3.11.7"
  }
 },
 "nbformat": 4,
 "nbformat_minor": 5
}
