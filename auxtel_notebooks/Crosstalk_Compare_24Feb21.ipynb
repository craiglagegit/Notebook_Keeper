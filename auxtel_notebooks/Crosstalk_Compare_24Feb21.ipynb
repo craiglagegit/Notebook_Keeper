{
 "cells": [
  {
   "cell_type": "markdown",
   "metadata": {},
   "source": [
    "# Notebook for testing showCamera.\n",
    "Initially written 09 Mar 2020 by Craig Lage.\\\n",
    "Testing with comCam data from 2020-08-12."
   ]
  },
  {
   "cell_type": "code",
   "execution_count": null,
   "metadata": {},
   "outputs": [],
   "source": [
    "! eups list -s | grep lsst_distrib\n",
    "! eups list -s cp_pipe\n",
    "! eups list -s obs_lsst"
   ]
  },
  {
   "cell_type": "code",
   "execution_count": null,
   "metadata": {},
   "outputs": [],
   "source": [
    "import numpy as np\n",
    "import matplotlib.pyplot as plt\n",
    "import astropy.io.fits as pf\n",
    "from lsst.daf.persistence import Butler\n",
    "import lsst.afw.cameraGeom.utils as camGeomUtils\n",
    "import lsst.afw.display as afwDisplay"
   ]
  },
  {
   "cell_type": "code",
   "execution_count": null,
   "metadata": {
    "jupyter": {
     "outputs_hidden": true
    }
   },
   "outputs": [],
   "source": [
    "#REPO_DIR = '/project/shared/comCam-CCS/rerun/cslage/ISR_ComCam_2020-12-28'\n",
    "#REPO_DIR = '/project/shared/auxTel/rerun/cslage/PTC_Defect_2021-02-17'\n",
    "#butler = Butler(REPO_DIR)\n",
    "dayObs = '2021-02-18'"
   ]
  },
  {
   "cell_type": "code",
   "execution_count": null,
   "metadata": {
    "jupyter": {
     "outputs_hidden": true
    }
   },
   "outputs": [],
   "source": [
    "#dayObs = '2021-02-17'\n",
    "dayObs = '2021-02-18'\n",
    "#expId=2021021700349\n",
    "expId=2021021800693\n",
    "det = 0\n",
    "REPO_DIR = '/project/shared/auxTel/rerun/cslage/PTC_OvBias+Only_%s'%dayObs\n",
    "butler = Butler(REPO_DIR)\n",
    "exp2 = butler.get('postISRCCD', detector=det, dayObs=dayObs, expId=expId)\n",
    "mean2 = np.mean(exp2.getMaskedImage().getArrays()[0])\n",
    "std2 = np.std(exp2.getMaskedImage().getArrays()[0])\n",
    "\n",
    "#print(mean1, mean2)"
   ]
  },
  {
   "cell_type": "code",
   "execution_count": null,
   "metadata": {},
   "outputs": [],
   "source": [
    "REPO_DIR = '/project/shared/auxTel/rerun/cslage/PTC_Defect_%s'%dayObs\n",
    "butler = Butler(REPO_DIR)\n",
    "\n",
    "exp1 = butler.get('postISRCCD', detector=det, dayObs=dayObs, expId=expId)\n",
    "mean1 = np.mean(exp1.getMaskedImage().getArrays()[0])\n",
    "std1 = np.std(exp1.getMaskedImage().getArrays()[0])"
   ]
  },
  {
   "cell_type": "code",
   "execution_count": null,
   "metadata": {},
   "outputs": [],
   "source": [
    "from matplotlib.colors import LogNorm\n",
    "# Now let's look at ithem\n",
    "def colorbar(mappable):\n",
    "    from mpl_toolkits.axes_grid1 import make_axes_locatable\n",
    "    last_axes = plt.gca()\n",
    "    ax = mappable.axes\n",
    "    fig = ax.figure\n",
    "    divider = make_axes_locatable(ax)\n",
    "    cax = divider.append_axes(\"right\", size=\"5%\", pad=0.05)\n",
    "    cbar = fig.colorbar(mappable, cax=cax)\n",
    "    plt.sca(last_axes)\n",
    "    return cbar\n",
    "\n",
    "plt.figure(figsize=(16,8))\n",
    "#plt.suptitle(\"Jewel Box Cluster (NGC4755) - 17-Feb-2021 - Rubin AuxTel\",fontsize=18)\n",
    "plt.suptitle(\"Crosstalk Check - 18-Feb-2021 - Rubin AuxTel\",fontsize=18)\n",
    "arr1 = exp1.image.array\n",
    "plt.subplot(1,2,2)\n",
    "plt.title(\"Overscan, Bias, Defects, Gains, Saturation, and Crosstalk\")\n",
    "img1 = plt.imshow(arr1, norm=LogNorm(vmin=5, vmax=150000), cmap='gray')\n",
    "colorbar(img1)\n",
    "plt.subplot(1,2,1)\n",
    "plt.title(\"Overscan and Bias only\")\n",
    "arr2 = exp2.image.array\n",
    "img2 = plt.imshow(arr2, norm=LogNorm(vmin=5, vmax=150000), cmap='gray')\n",
    "colorbar(img2)\n",
    "plt.tight_layout(h_pad=1)\n",
    "plt.savefig(REPO_DIR+\"/plots/Crosstalk_%d_17Feb21.pdf\"%expId)\n"
   ]
  },
  {
   "cell_type": "code",
   "execution_count": null,
   "metadata": {},
   "outputs": [],
   "source": []
  }
 ],
 "metadata": {
  "kernelspec": {
   "display_name": "LSST",
   "language": "python",
   "name": "lsst"
  },
  "language_info": {
   "codemirror_mode": {
    "name": "ipython",
    "version": 3
   },
   "file_extension": ".py",
   "mimetype": "text/x-python",
   "name": "python",
   "nbconvert_exporter": "python",
   "pygments_lexer": "ipython3",
   "version": "3.8.12"
  }
 },
 "nbformat": 4,
 "nbformat_minor": 4
}
