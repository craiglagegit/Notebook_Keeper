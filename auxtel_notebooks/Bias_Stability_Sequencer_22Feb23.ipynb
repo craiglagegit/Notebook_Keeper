{
 "cells": [
  {
   "cell_type": "markdown",
   "metadata": {},
   "source": [
    "# Bias wave stability\n",
    "\n",
    "Looking at the impact of sequencer changes on the bias wave\\\n",
    "and large variations at the beginning of the serial read.\\\n",
    "Craig Lage - 07-Feb-23 - Sequencer files were created by Yousuke Utsumi and Stuart Marshall"
   ]
  },
  {
   "cell_type": "code",
   "execution_count": null,
   "metadata": {
    "execution": {
     "iopub.execute_input": "2023-02-22T20:11:50.056434Z",
     "iopub.status.busy": "2023-02-22T20:11:50.056307Z",
     "iopub.status.idle": "2023-02-22T20:11:51.429607Z",
     "shell.execute_reply": "2023-02-22T20:11:51.429088Z",
     "shell.execute_reply.started": "2023-02-22T20:11:50.056421Z"
    },
    "tags": []
   },
   "outputs": [],
   "source": [
    "import numpy as np\n",
    "import matplotlib.pyplot as plt\n",
    "import astropy.io.fits as pf\n",
    "from lsst.ip.isr import IsrTask, IsrTaskConfig\n",
    "import lsst.afw.display as afwDisplay\n",
    "import lsst.geom as geom"
   ]
  },
  {
   "cell_type": "code",
   "execution_count": null,
   "metadata": {
    "execution": {
     "iopub.execute_input": "2023-02-22T20:11:51.444095Z",
     "iopub.status.busy": "2023-02-22T20:11:51.443963Z",
     "iopub.status.idle": "2023-02-22T20:11:52.503504Z",
     "shell.execute_reply": "2023-02-22T20:11:52.502977Z",
     "shell.execute_reply.started": "2023-02-22T20:11:51.444083Z"
    },
    "tags": []
   },
   "outputs": [],
   "source": [
    "from lsst.daf.butler import Butler\n",
    "butler = Butler('/repo/embargo', collections=[\"LATISS/raw/all\", \"LATISS/calib\"])"
   ]
  },
  {
   "cell_type": "markdown",
   "metadata": {},
   "source": [
    "## First, we look at the impact of the more conventional sequencer changes"
   ]
  },
  {
   "cell_type": "code",
   "execution_count": null,
   "metadata": {
    "execution": {
     "iopub.execute_input": "2023-02-22T20:11:53.163741Z",
     "iopub.status.busy": "2023-02-22T20:11:53.163573Z",
     "iopub.status.idle": "2023-02-22T20:11:53.185803Z",
     "shell.execute_reply": "2023-02-22T20:11:53.185479Z",
     "shell.execute_reply.started": "2023-02-22T20:11:53.163727Z"
    },
    "tags": []
   },
   "outputs": [],
   "source": [
    "isrConfig = IsrTaskConfig()\n",
    "isrConfig.doLinearize=False\n",
    "isrConfig.doOverscan=True\n",
    "isrConfig.doAssembleCcd=True\n",
    "isrConfig.doBias=False\n",
    "isrConfig.doVariance=True\n",
    "isrConfig.doLinearize=False\n",
    "isrConfig.doCrosstalk=False\n",
    "isrConfig.doBrighterFatter=False\n",
    "isrConfig.doDark=False\n",
    "isrConfig.doStrayLight=False\n",
    "isrConfig.doFlat=False\n",
    "isrConfig.doFringe=False\n",
    "isrConfig.doApplyGains=False\n",
    "isrConfig.doDefect=False\n",
    "isrConfig.doNanMasking=True\n",
    "isrConfig.doInterpolate=False\n",
    "isrConfig.doSaturation=False\n",
    "isrConfig.doSaturationInterpolation=False\n",
    "isrTask = IsrTask(config=isrConfig)"
   ]
  },
  {
   "cell_type": "code",
   "execution_count": null,
   "metadata": {
    "tags": []
   },
   "outputs": [],
   "source": [
    "plt.title(\"AuxTel bias stability - Amp C10\")\n",
    "names = ['Baseline', 'noTL_noRG', 'noTL_noS2', 'v26_noRG', 'Baseline']\n",
    "for i, expId in enumerate([2023022200020, 2023022200040, 2023022200060, 2023022200080, 2023022200100]):\n",
    "    exp = butler.get('raw', detector=0, exposure=expId)\n",
    "    isrResult = isrTask.run(exp)\n",
    "    arr = isrResult.exposure.image.array\n",
    "    plt.plot(np.mean(arr[2100:3900, 0:400], axis=0), label=f\"{expId}:{names[i]}\")\n",
    "    plt.ylim(-6,6)\n",
    "plt.legend(bbox_to_anchor=(0.45, 0.4))\n",
    "plt.xlabel(\"X coord (pixels)\")\n",
    "plt.ylabel(\"ADU\")\n",
    "plt.savefig(\"/home/c/cslage/u/AuxTel/isr/sequencer_tests_22feb23/Bias_Stability_Sequencer_Amp_C10.pdf\")"
   ]
  },
  {
   "cell_type": "code",
   "execution_count": null,
   "metadata": {
    "tags": []
   },
   "outputs": [],
   "source": [
    "bias = butler.get('bias', detector=0, exposure=2022110800013)\n",
    "biasArr = bias.image.array\n",
    "plt.title(\"AuxTel bias stability - Amp C10\")\n",
    "plt.subplot(2,1,1)\n",
    "names = ['Baseline', 'noTL_noRG', 'noTL_noS2', 'v26_noRG', 'Baseline']\n",
    "for i, expId in enumerate([2023022200020, 2023022200040, 2023022200060, 2023022200080, 2023022200100]):\n",
    "    exp = butler.get('raw', detector=0, exposure=expId)\n",
    "    #biasExp = butler.get('bias', detector=0, exposure=expId)\n",
    "    isrResult = isrTask.run(exp)\n",
    "    arr = isrResult.exposure.image.array\n",
    "    plt.plot(np.mean(arr[2100:3900, :], axis=0), label=f\"{expId}-{names[i]}\")\n",
    "plt.ylim(-60,60)\n",
    "#plt.plot(np.mean(biasArr[2100:3900, :], axis=0), ls='--', lw=2, color='black', label=\"Master bias\")\n",
    "plt.legend(bbox_to_anchor=(0.8, -0.3))\n",
    "plt.xlabel(\"X coord (pixels)\")\n",
    "plt.ylabel(\"ADU\")\n",
    "plt.xlim(475,509)\n",
    "plt.subplot(2,1,2)\n",
    "plt.axis('off')\n",
    "plt.savefig(\"/home/c/cslage/u/AuxTel/isr/sequencer_tests_22feb23/Bias_Stability_2_Sequencer_Amp_C10.pdf\")"
   ]
  },
  {
   "cell_type": "markdown",
   "metadata": {},
   "source": [
    "## Next, we look at an image with the parallel \"underscan\" \n",
    "### For this, we need to do the serial overscan subtraction manually\n",
    "### These images, instead of the usual 48 parallel overscan rows, have 10 parallel underscan rows and 38 parallel overscan rows."
   ]
  },
  {
   "cell_type": "code",
   "execution_count": null,
   "metadata": {
    "tags": []
   },
   "outputs": [],
   "source": [
    "# This is pulled out of ip_isr/overscan.py\n",
    "# It basically takes a 1D array of overscan values and \"broadcasts\"\n",
    "# then to 1 2D array that can be subtracted from the whole amp array\n",
    "def broadcastFitToImage(overscanValue, imageArray, transpose=False):\n",
    "        if isinstance(overscanValue, np.ndarray):\n",
    "            overscanModel = np.zeros_like(imageArray)\n",
    "\n",
    "            if transpose is False:\n",
    "                if imageArray.shape[0] == overscanValue.shape[0]:\n",
    "                    overscanModel[:, :] = overscanValue[:, np.newaxis]\n",
    "                elif imageArray.shape[1] == overscanValue.shape[0]:\n",
    "                    overscanModel[:, :] = overscanValue[np.newaxis, :]\n",
    "                elif imageArray.shape[0] == overscanValue.shape[1]:\n",
    "                    overscanModel[:, :] = overscanValue[np.newaxis, :]\n",
    "                else:\n",
    "                    raise RuntimeError(f\"Could not broadcast {overscanValue.shape} to \"\n",
    "                                       f\"match {imageArray.shape}\")\n",
    "            else:\n",
    "                if imageArray.shape[1] == overscanValue.shape[0]:\n",
    "                    overscanModel[:, :] = overscanValue[np.newaxis, :]\n",
    "                elif imageArray.shape[0] == overscanValue.shape[0]:\n",
    "                    overscanModel[:, :] = overscanValue[:, np.newaxis]\n",
    "                elif imageArray.shape[1] == overscanValue.shape[1]:\n",
    "                    overscanModel[:, :] = overscanValue[:, np.newaxis]\n",
    "                else:\n",
    "                    raise RuntimeError(f\"Could not broadcast {overscanValue.shape} to \"\n",
    "                                       f\"match {imageArray.shape}\")\n",
    "        else:\n",
    "            overscanModel = overscanValue\n",
    "\n",
    "        return overscanModel"
   ]
  },
  {
   "cell_type": "markdown",
   "metadata": {},
   "source": [
    "### First, we run an image with parallel underscan"
   ]
  },
  {
   "cell_type": "code",
   "execution_count": null,
   "metadata": {
    "tags": []
   },
   "outputs": [],
   "source": [
    "# This subtracts the serial overscan region\n",
    "skipCols = 4 # Number of columns to skip at the front and back of the serial overscan region\n",
    "expCounter = 0\n",
    "# Average 10 biases to help with the statistics\n",
    "for expId in range(2023022100053, 2023022100071): # Using parallel underscan\n",
    "    exposure = butler.get('raw', detector=0, exposure=expId)\n",
    "    isTransposed = False\n",
    "    for amp in exposure.getDetector().getAmplifiers():\n",
    "        serialOverscanBBox = amp.getRawSerialOverscanBBox()\n",
    "        imageBBox = amp.getRawDataBBox()\n",
    "        parallelOverscanBBox = amp.getRawParallelOverscanBBox()\n",
    "        imageBBox = imageBBox.expandedTo(parallelOverscanBBox)\n",
    "\n",
    "        serialOverscanBBox = geom.Box2I(geom.Point2I(serialOverscanBBox.getMinX()+skipCols,\n",
    "                                                     imageBBox.getMinY()),\n",
    "                                        geom.Extent2I(serialOverscanBBox.getWidth()-2*skipCols,\n",
    "                                                      imageBBox.getHeight()))\n",
    "        overscan = np.nanmedian(exposure[serialOverscanBBox].image.array, axis=1)\n",
    "        imageArray = exposure[amp.getRawBBox()].image.array\n",
    "        overscanModel = broadcastFitToImage(overscan, imageArray, transpose=False)\n",
    "        exposure[amp.getRawBBox()].image.array -= overscanModel\n",
    "    if expCounter == 0:\n",
    "        arr = exposure.image.array\n",
    "    else:\n",
    "        arr += exposure.image.array\n",
    "    expCounter += 1\n",
    "arr /= float(expCounter)"
   ]
  },
  {
   "cell_type": "code",
   "execution_count": null,
   "metadata": {
    "tags": []
   },
   "outputs": [],
   "source": [
    "ymin = 2200\n",
    "ymax = 3900\n",
    "arrMedian = np.mean(arr[ymin:ymax, :], axis=0)\n",
    "fig = plt.figure(figsize=(8,12))\n",
    "plt.subplots_adjust(hspace=0.5)\n",
    "plt.suptitle(f\"With parallel underscan - {expId}\", fontsize=18)\n",
    "plt.subplot(3,2,1)\n",
    "plt.title(f\"Wave: Imaging region \\n y={ymin}:{ymax}\")\n",
    "plt.plot(arrMedian)\n",
    "plt.xlim(0,450)\n",
    "plt.ylim(-6,6)\n",
    "plt.subplot(3,2,2)\n",
    "plt.title(f\"Start of serial: Imaging region \\n y={ymin}:{ymax}\")\n",
    "plt.plot(arrMedian)\n",
    "plt.xlim(538, 572)\n",
    "plt.ylim(-40,40)\n",
    "ymin = 2050\n",
    "ymax = 2085\n",
    "arrMedian = np.mean(arr[ymin:ymax, :], axis=0)\n",
    "plt.subplot(3,2,3)\n",
    "plt.title(f\"Wave: Parallel overscan region \\n y={ymin}:{ymax}\")\n",
    "plt.plot(arrMedian)\n",
    "plt.xlim(0,450)\n",
    "plt.ylim(-6,6)\n",
    "plt.subplot(3,2,4)\n",
    "plt.title(f\"Start of serial: Parallel overscan region \\n y={ymin}:{ymax}\")\n",
    "plt.plot(arrMedian)\n",
    "plt.xlim(538, 572)\n",
    "plt.ylim(-40,40)\n",
    "ymin = 4087\n",
    "ymax = 4094\n",
    "arrMedian = np.mean(arr[ymin:ymax, :], axis=0)\n",
    "plt.subplot(3,2,5)\n",
    "plt.title(f\"Wave: Parallel underscan region \\n y={ymin}:{ymax}\")\n",
    "plt.plot(arrMedian)\n",
    "plt.xlim(0,450)\n",
    "plt.ylim(-6,6)\n",
    "plt.subplot(3,2,6)\n",
    "plt.title(f\"Start of serial: Parallel underscan region \\n y={ymin}:{ymax}\")\n",
    "plt.plot(arrMedian)\n",
    "plt.xlim(538, 572)\n",
    "plt.ylim(-40,40)\n",
    "plt.savefig(\"/home/c/cslage/u/AuxTel/isr/sequencer_tests_22feb23/Parallel_Underscan_UR10_NoTL_NoS2_Amp_C10.pdf\")"
   ]
  },
  {
   "cell_type": "code",
   "execution_count": null,
   "metadata": {
    "tags": []
   },
   "outputs": [],
   "source": [
    "arr = exposure.image.array\n",
    "ymin = 2200\n",
    "ymax = 3900\n",
    "arrMedian = np.mean(arr[ymin:ymax, :], axis=0)\n",
    "fig = plt.figure(figsize=(8,12))\n",
    "plt.subplots_adjust(hspace=0.5)\n",
    "plt.suptitle(f\"With parallel underscan - {expId}\", fontsize=18)\n",
    "plt.subplot(3,2,1)\n",
    "plt.title(f\"Wave: Imaging region \\n y={ymin}:{ymax}\")\n",
    "plt.plot(arrMedian)\n",
    "plt.xlim(0+576,450+576)\n",
    "plt.ylim(-6,10)\n",
    "plt.subplot(3,2,2)\n",
    "plt.title(f\"Start of serial: Imaging region \\n y={ymin}:{ymax}\")\n",
    "plt.plot(arrMedian)\n",
    "plt.xlim(538+576, 572+576)\n",
    "plt.ylim(-40,40)\n",
    "ymin = 2050\n",
    "ymax = 2085\n",
    "arrMedian = np.mean(arr[ymin:ymax, :], axis=0)\n",
    "plt.subplot(3,2,3)\n",
    "plt.title(f\"Wave: Parallel overscan region \\n y={ymin}:{ymax}\")\n",
    "plt.plot(arrMedian)\n",
    "plt.xlim(0+576,450+576)\n",
    "plt.ylim(-6,10)\n",
    "plt.subplot(3,2,4)\n",
    "plt.title(f\"Start of serial: Parallel overscan region \\n y={ymin}:{ymax}\")\n",
    "plt.plot(arrMedian)\n",
    "plt.xlim(538+576, 572+576)\n",
    "plt.ylim(-40,40)\n",
    "ymin = 4087\n",
    "ymax = 4094\n",
    "arrMedian = np.mean(arr[ymin:ymax, :], axis=0)\n",
    "plt.subplot(3,2,5)\n",
    "plt.title(f\"Wave: Parallel underscan region \\n y={ymin}:{ymax}\")\n",
    "plt.plot(arrMedian)\n",
    "plt.xlim(0+576,450+576)\n",
    "plt.ylim(-6,10)\n",
    "plt.subplot(3,2,6)\n",
    "plt.title(f\"Start of serial: Parallel underscan region \\n y={ymin}:{ymax}\")\n",
    "plt.plot(arrMedian)\n",
    "plt.xlim(538+576, 572+576)\n",
    "plt.ylim(-40,40)\n",
    "plt.savefig(\"/home/c/cslage/u/AuxTel/isr/sequencer_tests_07feb23/Parallel_Underscan_Corrected_Amp_C11.pdf\")"
   ]
  },
  {
   "cell_type": "code",
   "execution_count": null,
   "metadata": {
    "execution": {
     "iopub.execute_input": "2023-02-22T20:13:15.383160Z",
     "iopub.status.busy": "2023-02-22T20:13:15.382928Z",
     "iopub.status.idle": "2023-02-22T20:13:26.607853Z",
     "shell.execute_reply": "2023-02-22T20:13:26.607409Z",
     "shell.execute_reply.started": "2023-02-22T20:13:15.383145Z"
    },
    "tags": []
   },
   "outputs": [],
   "source": [
    "fig = plt.figure(figsize=(8,8))\n",
    "plt.suptitle(\"AuxTel bias stability\")\n",
    "names = ['Baseline', 'noTL_noRG', 'noTL_noS2', 'v26_noRG', 'Baseline']\n",
    "xplot = np.arange(509)\n",
    "for i, expId in enumerate([2023022200020, 2023022200040, 2023022200060, 2023022200080, 2023022200100]):\n",
    "    exp = butler.get('raw', detector=0, exposure=expId)\n",
    "    isrResult = isrTask.run(exp)\n",
    "    plotCounter = 1\n",
    "    for amp in exp.getDetector().getAmplifiers():\n",
    "        ampName = amp.getName()\n",
    "        bbox = amp.getBBox()\n",
    "        subExp = isrResult.exposure[bbox]\n",
    "        arr = subExp.image.array\n",
    "        plt.subplot(4,4,plotCounter)\n",
    "        plt.title(ampName)\n",
    "        plt.plot(xplot, np.mean(arr[100:1900, :], axis=0))\n",
    "        plt.ylim(-20,20)\n",
    "        if plotCounter % 4 == 1:\n",
    "            plt.ylabel(\"Signal(ADU)\")\n",
    "        else:\n",
    "            plt.yticks([])\n",
    "        if plotCounter > 12:\n",
    "            plt.xlabel(\"Xcoordinate(pixels)\")\n",
    "        else:\n",
    "            plt.xticks([])\n",
    "        plotCounter += 1\n",
    "\n",
    "plt.savefig(\"/home/c/cslage/u/AuxTel/isr/sequencer_tests_22feb23/Bias_Stability_Sequencer_All_Amps.pdf\")"
   ]
  }
 ],
 "metadata": {
  "kernelspec": {
   "display_name": "LSST",
   "language": "python",
   "name": "lsst"
  },
  "language_info": {
   "codemirror_mode": {
    "name": "ipython",
    "version": 3
   },
   "file_extension": ".py",
   "mimetype": "text/x-python",
   "name": "python",
   "nbconvert_exporter": "python",
   "pygments_lexer": "ipython3",
   "version": "3.10.9"
  }
 },
 "nbformat": 4,
 "nbformat_minor": 4
}
