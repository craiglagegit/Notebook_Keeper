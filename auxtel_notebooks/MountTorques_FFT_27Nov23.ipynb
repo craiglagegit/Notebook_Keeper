{
 "cells": [
  {
   "cell_type": "markdown",
   "id": "e8cc3a14-f377-44f4-ab4c-97c9c3047697",
   "metadata": {},
   "source": [
    "# Fourier transform of mount errors\n",
    "\n",
    "Craig Lage - 27-Nov-22"
   ]
  },
  {
   "cell_type": "code",
   "execution_count": null,
   "id": "a148b369-8943-4861-a51e-9cbeea70feb3",
   "metadata": {
    "execution": {
     "iopub.execute_input": "2023-12-17T11:31:50.889155Z",
     "iopub.status.busy": "2023-12-17T11:31:50.888852Z",
     "iopub.status.idle": "2023-12-17T11:31:58.103958Z",
     "shell.execute_reply": "2023-12-17T11:31:58.103505Z",
     "shell.execute_reply.started": "2023-12-17T11:31:50.889136Z"
    },
    "tags": []
   },
   "outputs": [],
   "source": [
    "import nest_asyncio\n",
    "nest_asyncio.apply()\n",
    "import sys, time, os, asyncio\n",
    "from datetime import datetime\n",
    "import numpy as np\n",
    "import pandas as pd\n",
    "import pickle as pkl\n",
    "import matplotlib.pyplot as plt\n",
    "from astropy.time import Time, TimeDelta\n",
    "\n",
    "from lsst_efd_client import EfdClient\n",
    "from lsst.daf.butler import Butler\n",
    "\n",
    "import lsst.summit.utils.butlerUtils as butlerUtils\n",
    "from lsst.summit.utils.utils import dayObsIntToString\n",
    "from astro_metadata_translator import ObservationInfo\n",
    "from lsst_efd_client import merge_packed_time_series as mpts\n",
    "\n",
    "from scipy.fft import fft, fftfreq\n",
    "from scipy.signal import find_peaks"
   ]
  },
  {
   "cell_type": "code",
   "execution_count": null,
   "id": "db1b3867-c6db-43d3-8248-ecfcd41d3fbc",
   "metadata": {
    "execution": {
     "iopub.execute_input": "2023-12-17T11:31:58.111861Z",
     "iopub.status.busy": "2023-12-17T11:31:58.111723Z",
     "iopub.status.idle": "2023-12-17T11:31:59.592816Z",
     "shell.execute_reply": "2023-12-17T11:31:59.592341Z",
     "shell.execute_reply.started": "2023-12-17T11:31:58.111847Z"
    },
    "tags": []
   },
   "outputs": [],
   "source": [
    "client = EfdClient('idf_efd')\n",
    "old_butler = Butler('/repo/main', collections=\"LATISS/raw/all\")\n",
    "new_butler = Butler('/repo/embargo', collections=\"LATISS/raw/all\")"
   ]
  },
  {
   "cell_type": "code",
   "execution_count": null,
   "id": "e6adebfb-5a29-4f8a-9336-bc9c19bef499",
   "metadata": {
    "execution": {
     "iopub.execute_input": "2023-12-17T11:31:59.600700Z",
     "iopub.status.busy": "2023-12-17T11:31:59.600564Z",
     "iopub.status.idle": "2023-12-17T11:31:59.603567Z",
     "shell.execute_reply": "2023-12-17T11:31:59.603203Z",
     "shell.execute_reply.started": "2023-12-17T11:31:59.600687Z"
    }
   },
   "outputs": [],
   "source": [
    "NON_TRACKING_IMAGE_TYPES = ['BIAS',\n",
    "                            'FLAT',\n",
    "                            ]\n",
    "\n",
    "AUXTEL_ANGLE_TO_EDGE_OF_FIELD_ARCSEC = 280.0\n",
    "MOUNT_IMAGE_WARNING_LEVEL = .25  # this determines the colouring of the cells in the table, yellow for this\n",
    "MOUNT_IMAGE_BAD_LEVEL = .4\n",
    "\n",
    "\n",
    "def _getEfdData(client, dataSeries, startTime, endTime):\n",
    "    \"\"\"A synchronous warpper for geting the data from the EFD.\n",
    "\n",
    "    This exists so that the top level functions don't all have to be async def.\n",
    "    \"\"\"\n",
    "    loop = asyncio.get_event_loop()\n",
    "    return loop.run_until_complete(client.select_time_series(dataSeries, ['*'], startTime.utc, endTime.utc))"
   ]
  },
  {
   "cell_type": "code",
   "execution_count": null,
   "id": "a29298ea-cb53-4a53-accb-0d59956745c9",
   "metadata": {
    "execution": {
     "iopub.execute_input": "2023-12-04T13:31:28.460607Z",
     "iopub.status.busy": "2023-12-04T13:31:28.460406Z",
     "iopub.status.idle": "2023-12-04T13:31:28.471053Z",
     "shell.execute_reply": "2023-12-04T13:31:28.470568Z",
     "shell.execute_reply.started": "2023-12-04T13:31:28.460588Z"
    }
   },
   "outputs": [],
   "source": [
    "def calculateFFTPeaks(dataId, butler, client, limit=0.25):\n",
    "\n",
    "    expRecord = butlerUtils.getExpRecordFromDataId(butler, dataId)\n",
    "    dayString = dayObsIntToString(expRecord.day_obs)\n",
    "    seqNumString = str(expRecord.seq_num)\n",
    "    dataIdString = f\"{dayString} - seqNum {seqNumString}\"\n",
    "\n",
    "    imgType = expRecord.observation_type.upper()\n",
    "    if imgType in NON_TRACKING_IMAGE_TYPES:\n",
    "        return False\n",
    "\n",
    "    exptime = expRecord.exposure_time\n",
    "    if exptime < 1.99:\n",
    "        return False\n",
    "\n",
    "    tStart = expRecord.timespan.begin.tai.to_value(\"isot\")\n",
    "    tEnd = expRecord.timespan.end.tai.to_value(\"isot\")\n",
    "    elevation = 90.0 - expRecord.zenith_angle\n",
    "\n",
    "    # TODO: DM-33859 remove this once it can be got from the expRecord\n",
    "    md = butler.get('raw.metadata', dataId, detector=0)\n",
    "    obsInfo = ObservationInfo(md)\n",
    "    azimuth = obsInfo.altaz_begin.az.value\n",
    "    # Time base in the EFD is still a big mess.  Although these times are in\n",
    "    # UTC, it is necessary to tell the code they are in TAI. Then it is\n",
    "    # necessary to tell the merge_packed_time_series to use UTC.\n",
    "    # After doing all of this, there is still a 2 second offset,\n",
    "    # which is discussed in JIRA ticket DM-29243, but not understood.\n",
    "\n",
    "    t_start = Time(tStart, scale='tai')\n",
    "    t_end = Time(tEnd, scale='tai')\n",
    "\n",
    "    mount_position = _getEfdData(client, \"lsst.sal.ATMCS.mount_AzEl_Encoders\", t_start, t_end)\n",
    "    nasmyth_position = _getEfdData(client, \"lsst.sal.ATMCS.mount_Nasmyth_Encoders\", t_start, t_end)\n",
    "    torques = _getEfdData(client, \"lsst.sal.ATMCS.measuredTorque\", t_start, t_end)\n",
    "\n",
    "    az = mpts(mount_position, 'azimuthCalculatedAngle', stride=1)\n",
    "    el = mpts(mount_position, 'elevationCalculatedAngle', stride=1)\n",
    "    rot = mpts(nasmyth_position, 'nasmyth2CalculatedAngle', stride=1)\n",
    "    az_torque_1 = mpts(torques, 'azimuthMotor1Torque', stride=1)\n",
    "    az_torque_2 = mpts(torques, 'azimuthMotor2Torque', stride=1)\n",
    "    el_torque = mpts(torques, 'elevationMotorTorque', stride=1)\n",
    "    rot_torque = mpts(torques, 'nasmyth2MotorTorque', stride=1)\n",
    "\n",
    "    # Calculate the tracking errors\n",
    "    az_vals = np.array(az.values[:, 0])\n",
    "    el_vals = np.array(el.values[:, 0])\n",
    "    rot_vals = np.array(rot.values[:, 0])\n",
    "    times = np.array(az.values[:, 1])\n",
    "    # The fits are much better if the time variable\n",
    "    # is centered in the interval\n",
    "    fit_times = times - times[int(len(az.values[:, 1]) / 2)]\n",
    "\n",
    "    # Fit with a polynomial\n",
    "    az_fit = np.polyfit(fit_times, az_vals, 4)\n",
    "    el_fit = np.polyfit(fit_times, el_vals, 4)\n",
    "    rot_fit = np.polyfit(fit_times, rot_vals, 2)\n",
    "    az_model = np.polyval(az_fit, fit_times)\n",
    "    el_model = np.polyval(el_fit, fit_times)\n",
    "    rot_model = np.polyval(rot_fit, fit_times)\n",
    "\n",
    "    # Errors in arcseconds\n",
    "    az_error = (az_vals - az_model) * 3600\n",
    "    el_error = (el_vals - el_model) * 3600\n",
    "    rot_error = (rot_vals - rot_model) * 3600\n",
    "\n",
    "    # Calculate RMS\n",
    "    az_rms = np.sqrt(np.mean(az_error * az_error))\n",
    "    el_rms = np.sqrt(np.mean(el_error * el_error))\n",
    "    rot_rms = np.sqrt(np.mean(rot_error * rot_error))\n",
    "\n",
    "    # Calculate Image impact RMS\n",
    "    image_az_rms = az_rms * np.cos(el_vals[0] * np.pi / 180.0)\n",
    "    image_el_rms = el_rms\n",
    "    image_rot_rms = rot_rms * AUXTEL_ANGLE_TO_EDGE_OF_FIELD_ARCSEC * np.pi / 180.0 / 3600.0\n",
    "    tot_rms = np.sqrt(image_az_rms**2 + image_el_rms**2 + image_rot_rms**2)\n",
    "\n",
    "    if tot_rms < limit:\n",
    "        return False\n",
    "    else:\n",
    "        # Calculate the FFT peaks\n",
    "        fft_peaks = []\n",
    "        for i, error in enumerate([az_error, el_error]):\n",
    "            # Number of samples in normalized_tone\n",
    "            N = len(error)\n",
    "            SAMPLE_RATE = 100 # Samples/sec\n",
    "            \n",
    "            yf = fft(error)\n",
    "            yf = yf[0:int(len(az_error)/2)]\n",
    "            xf = fftfreq(N, 1 / SAMPLE_RATE)\n",
    "            xf = xf[0:int(len(error)/2)]\n",
    "            yf = np.abs(fft(error))\n",
    "            yf = yf[0:int(len(error)/2)]\n",
    "            max = np.max(yf)\n",
    "            peak_indices, peak_dict = find_peaks(yf, height=max/100) \n",
    "            peak_heights = peak_dict['peak_heights']\n",
    "            \n",
    "            for j in range(1,4):\n",
    "                peak_index = peak_indices[np.argpartition(peak_heights,-j)[-j]]\n",
    "                peak_freq = xf[peak_index]\n",
    "                height_index = np.where(peak_indices == peak_index)[0][0]\n",
    "                peak_height = peak_heights[height_index]\n",
    "                fft_peaks.append([peak_freq, peak_height])\n",
    "    return [tot_rms, fft_peaks]\n",
    "\n",
    "    \n"
   ]
  },
  {
   "cell_type": "code",
   "execution_count": null,
   "id": "81384103-ec82-47e4-9f7e-0820a6bda2ab",
   "metadata": {
    "execution": {
     "iopub.execute_input": "2023-12-17T11:37:14.320009Z",
     "iopub.status.busy": "2023-12-17T11:37:14.319710Z",
     "iopub.status.idle": "2023-12-17T11:37:14.328950Z",
     "shell.execute_reply": "2023-12-17T11:37:14.328576Z",
     "shell.execute_reply.started": "2023-12-17T11:37:14.319989Z"
    }
   },
   "outputs": [],
   "source": [
    "def calculateErrorPeaks(dataId, butler, client, limit=0.25):\n",
    "\n",
    "    expRecord = butlerUtils.getExpRecordFromDataId(butler, dataId)\n",
    "    dayString = dayObsIntToString(expRecord.day_obs)\n",
    "    seqNumString = str(expRecord.seq_num)\n",
    "    dataIdString = f\"{dayString} - seqNum {seqNumString}\"\n",
    "\n",
    "    imgType = expRecord.observation_type.upper()\n",
    "    if imgType in NON_TRACKING_IMAGE_TYPES:\n",
    "        return False\n",
    "\n",
    "    exptime = expRecord.exposure_time\n",
    "    if exptime < 1.99:\n",
    "        return False\n",
    "\n",
    "    tStart = expRecord.timespan.begin.tai.to_value(\"isot\")\n",
    "    tEnd = expRecord.timespan.end.tai.to_value(\"isot\")\n",
    "    elevation = 90.0 - expRecord.zenith_angle\n",
    "\n",
    "    # TODO: DM-33859 remove this once it can be got from the expRecord\n",
    "    md = butler.get('raw.metadata', dataId, detector=0)\n",
    "    obsInfo = ObservationInfo(md)\n",
    "    azimuth = obsInfo.altaz_begin.az.value\n",
    "    # Time base in the EFD is still a big mess.  Although these times are in\n",
    "    # UTC, it is necessary to tell the code they are in TAI. Then it is\n",
    "    # necessary to tell the merge_packed_time_series to use UTC.\n",
    "    # After doing all of this, there is still a 2 second offset,\n",
    "    # which is discussed in JIRA ticket DM-29243, but not understood.\n",
    "\n",
    "    t_start = Time(tStart, scale='tai')\n",
    "    t_end = Time(tEnd, scale='tai')\n",
    "\n",
    "    mount_position = _getEfdData(client, \"lsst.sal.ATMCS.mount_AzEl_Encoders\", t_start, t_end)\n",
    "    nasmyth_position = _getEfdData(client, \"lsst.sal.ATMCS.mount_Nasmyth_Encoders\", t_start, t_end)\n",
    "    torques = _getEfdData(client, \"lsst.sal.ATMCS.measuredTorque\", t_start, t_end)\n",
    "\n",
    "    az = mpts(mount_position, 'azimuthCalculatedAngle', stride=1)\n",
    "    el = mpts(mount_position, 'elevationCalculatedAngle', stride=1)\n",
    "    rot = mpts(nasmyth_position, 'nasmyth2CalculatedAngle', stride=1)\n",
    "    az_torque_1 = mpts(torques, 'azimuthMotor1Torque', stride=1)\n",
    "    az_torque_2 = mpts(torques, 'azimuthMotor2Torque', stride=1)\n",
    "    el_torque = mpts(torques, 'elevationMotorTorque', stride=1)\n",
    "    rot_torque = mpts(torques, 'nasmyth2MotorTorque', stride=1)\n",
    "\n",
    "    # Calculate the tracking errors\n",
    "    az_vals = np.array(az.values[:, 0])\n",
    "    el_vals = np.array(el.values[:, 0])\n",
    "    rot_vals = np.array(rot.values[:, 0])\n",
    "    times = np.array(az.values[:, 1])\n",
    "    # The fits are much better if the time variable\n",
    "    # is centered in the interval\n",
    "    fit_times = times - times[int(len(az.values[:, 1]) / 2)]\n",
    "\n",
    "    # Fit with a polynomial\n",
    "    az_fit = np.polyfit(fit_times, az_vals, 4)\n",
    "    el_fit = np.polyfit(fit_times, el_vals, 4)\n",
    "    rot_fit = np.polyfit(fit_times, rot_vals, 2)\n",
    "    az_model = np.polyval(az_fit, fit_times)\n",
    "    el_model = np.polyval(el_fit, fit_times)\n",
    "    rot_model = np.polyval(rot_fit, fit_times)\n",
    "\n",
    "    # Errors in arcseconds\n",
    "    az_error = (az_vals - az_model) * 3600\n",
    "    el_error = (el_vals - el_model) * 3600\n",
    "    rot_error = (rot_vals - rot_model) * 3600\n",
    "\n",
    "    # Calculate RMS\n",
    "    az_rms = np.sqrt(np.mean(az_error * az_error))\n",
    "    el_rms = np.sqrt(np.mean(el_error * el_error))\n",
    "    rot_rms = np.sqrt(np.mean(rot_error * rot_error))\n",
    "\n",
    "    # Calculate Image impact RMS\n",
    "    image_az_rms = az_rms * np.cos(el_vals[0] * np.pi / 180.0)\n",
    "    image_el_rms = el_rms\n",
    "    image_rot_rms = rot_rms * AUXTEL_ANGLE_TO_EDGE_OF_FIELD_ARCSEC * np.pi / 180.0 / 3600.0\n",
    "    tot_rms = np.sqrt(image_az_rms**2 + image_el_rms**2 + image_rot_rms**2)\n",
    "\n",
    "    if tot_rms < limit:\n",
    "        return False\n",
    "    else:\n",
    "        # Calculate the error peaks\n",
    "        error_peaks = []\n",
    "        for i, error in enumerate([az_error, el_error]):\n",
    "            max = np.max(error)\n",
    "            peak_indices, peak_dict = find_peaks(error, height=max/100) \n",
    "            peak_heights = peak_dict['peak_heights']\n",
    "            print(i, len(error), peak_indices, peak_heights)\n",
    "            \"\"\"\n",
    "            for j in range(1,4):\n",
    "                peak_index = peak_indices[np.argpartition(peak_heights,-j)[-j]]\n",
    "                peak_freq = xf[peak_index]\n",
    "                height_index = np.where(peak_indices == peak_index)[0][0]\n",
    "                peak_height = peak_heights[height_index]\n",
    "                fft_peaks.append([peak_freq, peak_height])\n",
    "            \"\"\"\n",
    "    return \n",
    "\n",
    "    \n"
   ]
  },
  {
   "cell_type": "code",
   "execution_count": null,
   "id": "7bd6969f-6472-4b27-aa58-fdfe52a83be8",
   "metadata": {
    "execution": {
     "iopub.execute_input": "2023-12-17T11:37:19.082748Z",
     "iopub.status.busy": "2023-12-17T11:37:19.082464Z",
     "iopub.status.idle": "2023-12-17T11:37:20.163112Z",
     "shell.execute_reply": "2023-12-17T11:37:20.162662Z",
     "shell.execute_reply.started": "2023-12-17T11:37:19.082733Z"
    },
    "jupyter": {
     "outputs_hidden": true
    }
   },
   "outputs": [],
   "source": [
    "#expId = 2023110800415 # Oscillation\n",
    "expId = 2023111600552 # Wind\n",
    "#expId = 2023111600561 # Crazy mount?\n",
    "#expId = 2023112000238 # Crazy mount?\n",
    "#expId = 2023112000201 # Shutter open too soon\n",
    "#expId = 2023110700594 # Timebase errors 1\n",
    "#expId = 2023110700519 # Timebase errors 2\n",
    "dataId = {'detector':0, 'exposure':expId}\n",
    "calculateErrorPeaks(dataId, new_butler, client)\n",
    "#print(fft_peaks)"
   ]
  },
  {
   "cell_type": "code",
   "execution_count": null,
   "id": "9d4929cd-9012-4f5b-bf1b-02814052852b",
   "metadata": {
    "execution": {
     "iopub.execute_input": "2023-12-04T13:32:03.347469Z",
     "iopub.status.busy": "2023-12-04T13:32:03.346794Z",
     "iopub.status.idle": "2023-12-04T13:32:12.377468Z",
     "shell.execute_reply": "2023-12-04T13:32:12.376968Z",
     "shell.execute_reply.started": "2023-12-04T13:32:03.347445Z"
    },
    "jupyter": {
     "outputs_hidden": true
    }
   },
   "outputs": [],
   "source": [
    "dayObs_list = [20221110, 20221212, 20230118, 20230216, \\\n",
    "               20220315, 20230511, 20230817, 20231107, 20231113, 20231121, 20231128, 20231129, 20231130]\n",
    "\n",
    "Mount_FFT_Dict = {}\n",
    "for dayObs in dayObs_list:\n",
    "    if dayObs < 20220915:\n",
    "        butler = old_butler\n",
    "    else:\n",
    "        butler = new_butler\n",
    "\n",
    "    exposureList = []\n",
    "\n",
    "    for record in butler.registry.queryDimensionRecords(\"exposure\", where=\"exposure.day_obs=%d\"%dayObs):\n",
    "        if record.observation_type not in ['bias', 'flat', 'dark']:\n",
    "            exposureList.append(record.id)\n",
    "    exposureList = sorted(exposureList)\n",
    "\n",
    "    for expId in exposureList[100:110]:\n",
    "        try:\n",
    "            dataId = {'detector':0, 'exposure':expId}\n",
    "            result = calculateFFTPeaks(dataId, butler, client)\n",
    "            print(expId, result)\n",
    "            if result:\n",
    "                [tot_rms, fft_peaks] = result\n",
    "                resDict = {}\n",
    "                resDict['Cause'] = None\n",
    "                resDict['RMS'] = tot_rms\n",
    "                resDict['FFT_peaks'] = fft_peaks\n",
    "                Mount_FFT_Dict[expId] = resDict\n",
    "        except:\n",
    "            continue\n",
    "    outfile = open('/home/c/cslage/u/AuxTel/mount_classifier/Mount_FFT_Dict.pkl', 'wb')\n",
    "\n",
    "    pkl.dump(Mount_FFT_Dict,outfile)\n",
    "    print(f\"Finished {dayObs}\")\n"
   ]
  },
  {
   "cell_type": "code",
   "execution_count": null,
   "id": "0f2230d4-6e2c-44a2-8613-b46da3f1d153",
   "metadata": {
    "execution": {
     "iopub.execute_input": "2023-12-04T15:42:05.309639Z",
     "iopub.status.busy": "2023-12-04T15:42:05.308983Z",
     "iopub.status.idle": "2023-12-04T15:42:05.316515Z",
     "shell.execute_reply": "2023-12-04T15:42:05.316119Z",
     "shell.execute_reply.started": "2023-12-04T15:42:05.309624Z"
    }
   },
   "outputs": [],
   "source": [
    "infile = open('/home/c/cslage/u/AuxTel/mount_classifier/Mount_FFT_Dict.pkl', 'rb')\n",
    "Mount_FFT_Dict = pkl.load(infile)\n",
    "infile.close()\n",
    "print(list(Mount_FFT_Dict.keys())[-1])\n",
    "print(len(list(Mount_FFT_Dict.keys())))"
   ]
  },
  {
   "cell_type": "code",
   "execution_count": null,
   "id": "ef78203c-67b5-4eb3-9198-abbaa831b6bb",
   "metadata": {
    "execution": {
     "iopub.execute_input": "2023-12-04T14:43:26.596597Z",
     "iopub.status.busy": "2023-12-04T14:43:26.596308Z",
     "iopub.status.idle": "2023-12-04T14:43:26.599866Z",
     "shell.execute_reply": "2023-12-04T14:43:26.599498Z",
     "shell.execute_reply.started": "2023-12-04T14:43:26.596583Z"
    }
   },
   "outputs": [],
   "source": [
    "len(Mount_FFT_Dict[2023011800701]['FFT_peaks']"
   ]
  },
  {
   "cell_type": "code",
   "execution_count": null,
   "id": "8b1c6596-1c1d-4832-9218-d16c00382ff5",
   "metadata": {
    "execution": {
     "iopub.execute_input": "2023-12-04T16:31:40.529888Z",
     "iopub.status.busy": "2023-12-04T16:31:40.529566Z",
     "iopub.status.idle": "2023-12-04T16:31:40.548816Z",
     "shell.execute_reply": "2023-12-04T16:31:40.548431Z",
     "shell.execute_reply.started": "2023-12-04T16:31:40.529874Z"
    }
   },
   "outputs": [],
   "source": [
    "infile = open('/home/c/cslage/u/AuxTel/mount_classifier/Mount_FFT_Dict.pkl', 'rb')\n",
    "Mount_FFT_Dict = pkl.load(infile)\n",
    "Mount_FFT_Dict_Classified = Mount_FFT_Dict.copy()\n",
    "infile.close()\n",
    "outfile = open('/home/c/cslage/u/AuxTel/mount_classifier/Mount_FFT_Dict_Classified.pkl', 'wb')\n",
    "pkl.dump(Mount_FFT_Dict_Classified,outfile)\n",
    "outfile.close()"
   ]
  },
  {
   "cell_type": "code",
   "execution_count": null,
   "id": "a5f46396-6c03-4b28-a970-756868c01896",
   "metadata": {
    "execution": {
     "iopub.execute_input": "2023-12-04T18:21:45.199923Z",
     "iopub.status.busy": "2023-12-04T18:21:45.199734Z",
     "iopub.status.idle": "2023-12-04T18:21:45.221103Z",
     "shell.execute_reply": "2023-12-04T18:21:45.220660Z",
     "shell.execute_reply.started": "2023-12-04T18:21:45.199910Z"
    }
   },
   "outputs": [],
   "source": [
    "import webbrowser\n",
    "\n",
    "infile = open('/home/c/cslage/u/AuxTel/mount_classifier/Mount_FFT_Dict_Classified.pkl', 'rb')\n",
    "Mount_FFT_Dict_Classified = pkl.load(infile)\n",
    "infile.close()\n",
    "causes = ['OSC', 'WIN', 'CRA', 'TIM', 'SHU']\n",
    "\n",
    "print(causes)\n",
    "for key in Mount_FFT_Dict_Classified.keys():\n",
    "    year = int(key/1000000000)\n",
    "    month = int((key - 1000000000 * year)/10000000)\n",
    "    day = int((key - 1000000000 * year - 10000000 * month)/100000)\n",
    "    seqNum = int((key - 1000000000 * year - 10000000 * month - 100000 * day))\n",
    "\n",
    "    if Mount_FFT_Dict_Classified[key]['Cause'] is None:\n",
    "        webbrowser.open(f'https://roundtable.lsst.codes/rubintv/summit/auxtel/mount/event/{year}-{month:02}-{day:02}/{seqNum}')\n",
    "        break\n",
    "        cause = input(f\"Classification of {key}\")\n",
    "        if cause == 'STOP':\n",
    "            break\n",
    "        else:\n",
    "            Mount_FFT_Dict_Classified[key]['Cause'] = cause\n",
    "\n",
    "outfile = open('/home/c/cslage/u/AuxTel/mount_classifier/Mount_FFT_Dict_Classified.pkl', 'wb')\n",
    "pkl.dump(Mount_FFT_Dict_Classified,outfile)\n",
    "outfile.close()"
   ]
  },
  {
   "cell_type": "code",
   "execution_count": null,
   "id": "b5d48b99-a5f5-4a12-bf97-f33ea1358907",
   "metadata": {
    "execution": {
     "iopub.execute_input": "2023-12-04T16:34:29.043498Z",
     "iopub.status.busy": "2023-12-04T16:34:29.043309Z",
     "iopub.status.idle": "2023-12-04T16:34:29.052363Z",
     "shell.execute_reply": "2023-12-04T16:34:29.051976Z",
     "shell.execute_reply.started": "2023-12-04T16:34:29.043485Z"
    }
   },
   "outputs": [],
   "source": [
    "\n",
    "\n",
    "webbrowser.open('http://example.com')\n",
    "infile = open('/home/c/cslage/u/AuxTel/mount_classifier/Mount_FFT_Dict_Classified.pkl', 'rb')\n",
    "Mount_FFT_Dict_Classified = pkl.load(infile)\n",
    "infile.close()\n",
    "causes = ['OSC', 'WIN', 'CRA', 'TIM', 'SHU']\n",
    "\n",
    "print(causes)\n",
    "for key in Mount_FFT_Dict_Classified.keys():\n",
    "    print(key, Mount_FFT_Dict_Classified[key]['Cause'])\n"
   ]
  },
  {
   "cell_type": "code",
   "execution_count": null,
   "id": "935eb593-6f96-444a-b070-4903e1e5912b",
   "metadata": {
    "execution": {
     "iopub.execute_input": "2023-12-04T16:31:12.570430Z",
     "iopub.status.busy": "2023-12-04T16:31:12.570214Z",
     "iopub.status.idle": "2023-12-04T16:31:12.573557Z",
     "shell.execute_reply": "2023-12-04T16:31:12.573200Z",
     "shell.execute_reply.started": "2023-12-04T16:31:12.570415Z"
    }
   },
   "outputs": [],
   "source": [
    "Mount_FFT_Dict[2022111000353]['Cause'] is None"
   ]
  },
  {
   "cell_type": "code",
   "execution_count": null,
   "id": "47682690-fd3a-4cc7-811e-f0b8467c5354",
   "metadata": {
    "execution": {
     "iopub.execute_input": "2023-12-04T16:29:31.748951Z",
     "iopub.status.busy": "2023-12-04T16:29:31.748760Z",
     "iopub.status.idle": "2023-12-04T16:29:31.751825Z",
     "shell.execute_reply": "2023-12-04T16:29:31.751439Z",
     "shell.execute_reply.started": "2023-12-04T16:29:31.748937Z"
    }
   },
   "outputs": [],
   "source": [
    "for key in Mount_FFT_Dict_Classified[2022111000235].keys():\n",
    "    print(key, Mount_FFT_Dict_Classified[2022111000235][key])"
   ]
  },
  {
   "cell_type": "code",
   "execution_count": null,
   "id": "e79fe871-2625-4b7a-9f55-cd0752f38537",
   "metadata": {
    "execution": {
     "iopub.execute_input": "2023-12-04T18:20:26.221305Z",
     "iopub.status.busy": "2023-12-04T18:20:26.221103Z",
     "iopub.status.idle": "2023-12-04T18:20:26.224602Z",
     "shell.execute_reply": "2023-12-04T18:20:26.224227Z",
     "shell.execute_reply.started": "2023-12-04T18:20:26.221292Z"
    }
   },
   "outputs": [],
   "source": [
    "for key in Mount_FFT_Dict_Classified.keys():\n",
    "    year = int(key/1000000000)\n",
    "    month = int((key - 1000000000 * year)/10000000)\n",
    "    day = int((key - 1000000000 * year - 10000000 * month)/100000)\n",
    "    seqNum = int((key - 1000000000 * year - 10000000 * month - 100000 * day))\n",
    "    print(year, month, day, seqNum)\n",
    "    break\n"
   ]
  },
  {
   "cell_type": "code",
   "execution_count": null,
   "id": "5811d58b-13c3-4483-8a15-848b8d8634f0",
   "metadata": {
    "execution": {
     "iopub.execute_input": "2023-12-04T18:26:04.866425Z",
     "iopub.status.busy": "2023-12-04T18:26:04.866218Z",
     "iopub.status.idle": "2023-12-04T18:26:04.869610Z",
     "shell.execute_reply": "2023-12-04T18:26:04.869263Z",
     "shell.execute_reply.started": "2023-12-04T18:26:04.866411Z"
    }
   },
   "outputs": [],
   "source": [
    "url = f'https://roundtable.lsst.codes/rubintv/summit/auxtel/mount/event/{year}-{month:02}-{day:02}/{seqNum}'\n",
    "webbrowser.open_new(url)"
   ]
  },
  {
   "cell_type": "code",
   "execution_count": null,
   "id": "7d4eba77-044f-499d-abad-ee2d76f893bc",
   "metadata": {
    "execution": {
     "iopub.execute_input": "2023-12-04T18:25:54.359756Z",
     "iopub.status.busy": "2023-12-04T18:25:54.359472Z",
     "iopub.status.idle": "2023-12-04T18:25:54.362499Z",
     "shell.execute_reply": "2023-12-04T18:25:54.362120Z",
     "shell.execute_reply.started": "2023-12-04T18:25:54.359742Z"
    }
   },
   "outputs": [],
   "source": [
    "print(f'https://roundtable.lsst.codes/rubintv/summit/auxtel/mount/event/{year}-{month:02}-{day:02}/{seqNum}')"
   ]
  },
  {
   "cell_type": "code",
   "execution_count": null,
   "id": "5c438844-8e83-4621-bb5f-d2719fbf0b8a",
   "metadata": {
    "execution": {
     "iopub.execute_input": "2023-12-04T18:25:57.505252Z",
     "iopub.status.busy": "2023-12-04T18:25:57.504792Z",
     "iopub.status.idle": "2023-12-04T18:25:57.508223Z",
     "shell.execute_reply": "2023-12-04T18:25:57.507883Z",
     "shell.execute_reply.started": "2023-12-04T18:25:57.505228Z"
    }
   },
   "outputs": [],
   "source": [
    "webbrowser._browsers.items()"
   ]
  },
  {
   "cell_type": "code",
   "execution_count": null,
   "id": "236836f8-00ec-49e7-8321-6f482ed30a5c",
   "metadata": {},
   "outputs": [],
   "source": []
  }
 ],
 "metadata": {
  "kernelspec": {
   "display_name": "LSST",
   "language": "python",
   "name": "lsst"
  },
  "language_info": {
   "codemirror_mode": {
    "name": "ipython",
    "version": 3
   },
   "file_extension": ".py",
   "mimetype": "text/x-python",
   "name": "python",
   "nbconvert_exporter": "python",
   "pygments_lexer": "ipython3",
   "version": "3.11.4"
  },
  "toc-autonumbering": false,
  "toc-showcode": false,
  "toc-showmarkdowntxt": true
 },
 "nbformat": 4,
 "nbformat_minor": 5
}
