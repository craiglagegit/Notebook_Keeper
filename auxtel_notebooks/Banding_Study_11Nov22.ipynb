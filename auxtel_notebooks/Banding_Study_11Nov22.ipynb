{
 "cells": [
  {
   "cell_type": "markdown",
   "metadata": {},
   "source": [
    "## Studying AuxTel banding vs Rotator Angle\n",
    "\n",
    "Craig Lage - 11-Nov-22"
   ]
  },
  {
   "cell_type": "code",
   "execution_count": null,
   "metadata": {},
   "outputs": [],
   "source": [
    "import numpy as np\n",
    "import matplotlib.pyplot as plt\n",
    "import astropy.io.fits as pf\n",
    "import lsst.afw.cameraGeom.utils as camGeomUtils\n",
    "from lsst.daf.butler import Butler\n",
    "import lsst.geom as geom"
   ]
  },
  {
   "cell_type": "code",
   "execution_count": null,
   "metadata": {},
   "outputs": [],
   "source": [
    "butler = Butler('/repo/oga', collections=[\"LATISS/raw/all\", \"LATISS/calib\"])\n",
    "camera = butler.get('camera', instrument='LATISS')"
   ]
  },
  {
   "cell_type": "code",
   "execution_count": null,
   "metadata": {},
   "outputs": [],
   "source": [
    "expId = 2022111100035\n",
    "exp = butler.get('raw', detector=0, exposure=expId)"
   ]
  },
  {
   "cell_type": "code",
   "execution_count": null,
   "metadata": {
    "tags": []
   },
   "outputs": [],
   "source": [
    "rots = []\n",
    "banding = []\n",
    "expIds = []\n",
    "rot0 = -160.0\n",
    "for i, expId in enumerate(range(2022111100011, 2022111100171)):\n",
    "    rot = rot0 + i * 2.0\n",
    "    exp = butler.get('raw', detector=0, exposure=expId)\n",
    "    overscan = exp.image.array[2100:3900,10:70]\n",
    "    \n",
    "    rowMean = np.mean(overscan, axis=1)\n",
    "    p_10_90 = np.percentile(rowMean, [10.0, 90.0])\n",
    "    metric = p_10_90[1] - p_10_90[0]\n",
    "    rots.append(rot)\n",
    "    banding.append(metric)\n",
    "    expIds.append(expId)\n",
    "    print(i, rot, expId, metric)"
   ]
  },
  {
   "cell_type": "code",
   "execution_count": null,
   "metadata": {},
   "outputs": [],
   "source": [
    "plt.plot(rots, banding)"
   ]
  },
  {
   "cell_type": "code",
   "execution_count": null,
   "metadata": {},
   "outputs": [],
   "source": [
    "banding[24]"
   ]
  },
  {
   "cell_type": "code",
   "execution_count": null,
   "metadata": {},
   "outputs": [],
   "source": []
  },
  {
   "cell_type": "code",
   "execution_count": null,
   "metadata": {},
   "outputs": [],
   "source": []
  },
  {
   "cell_type": "code",
   "execution_count": null,
   "metadata": {},
   "outputs": [],
   "source": [
    "for amp in camera[0].getAmplifiers():\n",
    "    print(amp.getName(), amp.getBBox(), amp.getRawBBox())\n"
   ]
  },
  {
   "cell_type": "code",
   "execution_count": null,
   "metadata": {},
   "outputs": [],
   "source": [
    "for amp in camera[0].getAmplifiers():\n",
    "    imageBBox = amp.getRawBBox()\n",
    "    serialOverscanBBox = amp.getRawSerialOverscanBBox()\n",
    "    serialOverscanBBox = geom.Box2I(geom.Point2I(serialOverscanBBox.getMinX(),imageBBox.getMinY()), geom.Extent2I(serialOverscanBBox.getWidth(),imageBBox.getHeight()))\n",
    "    print(amp.getName(), imageBBox, serialOverscanBBox)"
   ]
  },
  {
   "cell_type": "code",
   "execution_count": null,
   "metadata": {},
   "outputs": [],
   "source": [
    "for amp in camera[0].getAmplifiers():\n",
    "    overscan = exp.image.array[2100:3900,10:70]\n",
    "    \n",
    "    rowMean = np.mean(overscan, axis=1)\n",
    "    p_10_90 = np.percentile(rowMean, [10.0, 90.0])\n",
    "    metric = p_10_90[1] - p_10_90[0]\n",
    "    print(amp.getName(),amp.getRawDataBBox(), metric)\n",
    "    break\n"
   ]
  },
  {
   "cell_type": "code",
   "execution_count": null,
   "metadata": {},
   "outputs": [],
   "source": [
    "# Now look at the data with matplotlib\n",
    "from matplotlib.colors import LogNorm\n",
    "\n",
    "def colorbar(mappable):\n",
    "    from mpl_toolkits.axes_grid1 import make_axes_locatable\n",
    "    last_axes = plt.gca()\n",
    "    ax = mappable.axes\n",
    "    fig = ax.figure\n",
    "    divider = make_axes_locatable(ax)\n",
    "    cax = divider.append_axes(\"right\", size=\"5%\", pad=0.05)\n",
    "    cbar = fig.colorbar(mappable, cax=cax)\n",
    "    plt.sca(last_axes)\n",
    "    return cbar\n",
    "img = plt.imshow(overscan[750:1000,:]-np.min(overscan), interpolation='Nearest', cmap='gray')\n",
    "colorbar(img)\n"
   ]
  },
  {
   "cell_type": "code",
   "execution_count": null,
   "metadata": {},
   "outputs": [],
   "source": [
    "rowMean.shape"
   ]
  },
  {
   "cell_type": "code",
   "execution_count": null,
   "metadata": {},
   "outputs": [],
   "source": [
    "plt.plot(rowMean)"
   ]
  },
  {
   "cell_type": "code",
   "execution_count": null,
   "metadata": {},
   "outputs": [],
   "source": [
    "test"
   ]
  },
  {
   "cell_type": "code",
   "execution_count": null,
   "metadata": {},
   "outputs": [],
   "source": [
    "plt.hist(test)"
   ]
  },
  {
   "cell_type": "code",
   "execution_count": null,
   "metadata": {},
   "outputs": [],
   "source": [
    "p_10_90 = np.percentile(test, [10.0, 90.0])\n",
    "print(p_10_90[1] - p_10_90[0])"
   ]
  },
  {
   "cell_type": "code",
   "execution_count": null,
   "metadata": {},
   "outputs": [],
   "source": [
    "butler = Butler('/repo/oga', collections=[\"LATISS/raw/all\", \"LATISS/calib\"])\n",
    "expId = 2022111100035\n",
    "exp = butler.get('raw', detector=0, exposure=expId)\n",
    "detector = exp.getDetector()\n",
    "for amp in detector:\n",
    "    print(amp.getName(), amp.getBBox(), amp.getRawSerialOverscanBBox())\n",
    "# What's going on?\n",
    "# The XY offsets aren't right"
   ]
  },
  {
   "cell_type": "code",
   "execution_count": null,
   "metadata": {},
   "outputs": [],
   "source": [
    "butler = Butler('/repo/oga', collections=[\"LATISS/raw/all\", \"LATISS/calib\"])\n",
    "expId = 2022111100035\n",
    "exp = butler.get('raw', detector=0, exposure=expId)\n",
    "detector = exp.getDetector()\n",
    "for amp in detector:\n",
    "    print(amp.getName(), amp.getBBox(), amp.getRawSerialOverscanBBox())\n",
    "# What's going on?\n",
    "# The XY offsets aren't right"
   ]
  },
  {
   "cell_type": "code",
   "execution_count": null,
   "metadata": {},
   "outputs": [],
   "source": [
    "test = exp.getDetector()"
   ]
  },
  {
   "cell_type": "code",
   "execution_count": null,
   "metadata": {},
   "outputs": [],
   "source": [
    "butler = Butler('/repo/main', collections=[\"LSSTCam/raw/all\", \"LSSTCam/calib\"])\n",
    "expId = 3021120600560\n",
    "exp = butler.get('raw', detector=0, exposure=expId)\n",
    "detector = exp.getDetector()\n",
    "for amp in detector:\n",
    "    print(amp.getName(), amp.getBBox(), amp.getRawBBox())\n"
   ]
  },
  {
   "cell_type": "code",
   "execution_count": null,
   "metadata": {},
   "outputs": [],
   "source": []
  }
 ],
 "metadata": {
  "kernelspec": {
   "display_name": "LSST",
   "language": "python",
   "name": "lsst"
  },
  "language_info": {
   "codemirror_mode": {
    "name": "ipython",
    "version": 3
   },
   "file_extension": ".py",
   "mimetype": "text/x-python",
   "name": "python",
   "nbconvert_exporter": "python",
   "pygments_lexer": "ipython3",
   "version": "3.10.5"
  }
 },
 "nbformat": 4,
 "nbformat_minor": 4
}
