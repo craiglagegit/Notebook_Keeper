{
 "cells": [
  {
   "cell_type": "markdown",
   "metadata": {},
   "source": [
    "## Stuttered focus image analysis\n",
    "\n",
    "Craig Lage 16-Aug-23"
   ]
  },
  {
   "cell_type": "code",
   "execution_count": null,
   "metadata": {
    "execution": {
     "iopub.execute_input": "2023-08-16T17:33:18.150021Z",
     "iopub.status.busy": "2023-08-16T17:33:18.149896Z",
     "iopub.status.idle": "2023-08-16T17:33:20.829529Z",
     "shell.execute_reply": "2023-08-16T17:33:20.829101Z",
     "shell.execute_reply.started": "2023-08-16T17:33:18.150009Z"
    },
    "tags": []
   },
   "outputs": [],
   "source": [
    "import sys, time, os, asyncio, glob\n",
    "from datetime import datetime\n",
    "import numpy as np\n",
    "import matplotlib.pyplot as plt\n",
    "from astropy.time import Time, TimeDelta\n",
    "from lsst.daf.butler import Butler\n",
    "from lsst_efd_client import EfdClient\n",
    "\n",
    "import lsst.afw.cameraGeom.utils as camGeomUtils\n",
    "from lsst.ip.isr import IsrTask, IsrTaskConfig\n",
    "from mpl_toolkits.axes_grid1 import make_axes_locatable\n",
    "from matplotlib.colors import LogNorm\n",
    "\n",
    "from lsst.summit.utils import quickSmooth\n",
    "%matplotlib inline\n",
    "\n",
    "from lsst.pipe.tasks.characterizeImage import CharacterizeImageTask, CharacterizeImageConfig\n",
    "from lsst.meas.algorithms.installGaussianPsf import InstallGaussianPsfTask"
   ]
  },
  {
   "cell_type": "code",
   "execution_count": null,
   "metadata": {
    "execution": {
     "iopub.execute_input": "2023-08-16T17:33:20.842782Z",
     "iopub.status.busy": "2023-08-16T17:33:20.842660Z",
     "iopub.status.idle": "2023-08-16T17:33:20.848182Z",
     "shell.execute_reply": "2023-08-16T17:33:20.847824Z",
     "shell.execute_reply.started": "2023-08-16T17:33:20.842771Z"
    },
    "tags": []
   },
   "outputs": [],
   "source": [
    "def plotExp(exp):\n",
    "    # Borrowed from summit utils\n",
    "    data = quickSmooth(exp.image.array, 1)\n",
    "    vmin = np.nanpercentile(data, 1)\n",
    "    vmax = np.nanpercentile(data, 99)\n",
    "    print(vmin, vmax)\n",
    "    figure = plt.figure(figsize=(12,12))\n",
    "    figure.clear()\n",
    "    ax1 = figure.add_subplot(111)\n",
    "    im1 = ax1.imshow(data, cmap='gray', origin='lower', vmin=vmin, vmax=vmax)\n",
    "    ax1.tick_params(which=\"major\", direction=\"in\", top=True, right=True, labelsize=8)\n",
    "    divider = make_axes_locatable(ax1)\n",
    "    cax = divider.append_axes(\"right\", size=\"5%\", pad=0.05)\n",
    "    plt.colorbar(im1, cax=cax)\n",
    "    plt.tight_layout()\n",
    "    #plt.show()\n",
    "    return ax1, figure\n",
    "\n",
    "def repairCosmics(postIsr):\n",
    "    # Borrowed from summit utils\n",
    "    if postIsr.getPsf() is None:\n",
    "        installPsfTask = InstallGaussianPsfTask()\n",
    "        installPsfTask.run(postIsr)\n",
    "\n",
    "    # TODO: try adding a reasonably wide Gaussian as a temp PSF\n",
    "    # and then just running repairTask on its own without any\n",
    "    # imChar. It should work, and be faster.\n",
    "    repairConfig = CharacterizeImageTask.ConfigClass()\n",
    "    repairConfig.doMeasurePsf = False\n",
    "    repairConfig.doApCorr = False\n",
    "    repairConfig.doDeblend = False\n",
    "    repairConfig.doWrite = False\n",
    "    repairConfig.repair.cosmicray.nCrPixelMax = 200000\n",
    "    repairTask = CharacterizeImageTask(config=repairConfig)\n",
    "    repairTask.repair.run(postIsr)\n",
    "    return\n",
    "\n",
    "def subtractStutteredBackground(exp, expcount = 20, rowshift = 100):\n",
    "    for i in range(expcount):\n",
    "        y0 = 2000 + rowshift * i\n",
    "        y1 = 2000 + rowshift * (i+1)\n",
    "        arr = exp.image.array[y0:y1,0:4071]\n",
    "        median = np.median(arr)\n",
    "        exp.image.array[y0:y1,0:4071] -= median\n",
    "        y0 = 2000 - rowshift * i\n",
    "        y1 = 2000 - rowshift * (i+1)\n",
    "        arr = exp.image.array[y1:y0,0:4071]\n",
    "        median = np.median(arr)\n",
    "        exp.image.array[y1:y0,0:4071] -= median\n",
    "    return \n",
    " \n"
   ]
  },
  {
   "cell_type": "code",
   "execution_count": null,
   "metadata": {
    "execution": {
     "iopub.execute_input": "2023-08-16T17:33:20.848926Z",
     "iopub.status.busy": "2023-08-16T17:33:20.848640Z",
     "iopub.status.idle": "2023-08-16T17:33:23.027607Z",
     "shell.execute_reply": "2023-08-16T17:33:23.027175Z",
     "shell.execute_reply.started": "2023-08-16T17:33:20.848908Z"
    },
    "tags": []
   },
   "outputs": [],
   "source": [
    "butler = Butler('/repo/embargo', collections=[\"LATISS/raw/all\", \"LATISS/calib\"])\n",
    "client = EfdClient('usdf_efd')\n",
    "\n",
    "expcount = 20\n",
    "rowshift = 100\n"
   ]
  },
  {
   "cell_type": "code",
   "execution_count": null,
   "metadata": {
    "execution": {
     "iopub.execute_input": "2023-08-16T17:33:23.028300Z",
     "iopub.status.busy": "2023-08-16T17:33:23.028174Z",
     "iopub.status.idle": "2023-08-16T17:33:23.051727Z",
     "shell.execute_reply": "2023-08-16T17:33:23.051365Z",
     "shell.execute_reply.started": "2023-08-16T17:33:23.028287Z"
    },
    "tags": []
   },
   "outputs": [],
   "source": [
    "isrConfig = IsrTaskConfig()\n",
    "isrConfig.overscan.fitType=\"MEDIAN_PER_ROW\"\n",
    "isrConfig.overscan.doParallelOverscan=True\n",
    "isrConfig.doLinearize=False\n",
    "isrConfig.doOverscan=True\n",
    "isrConfig.doAssembleCcd=True\n",
    "isrConfig.doBias=True\n",
    "isrConfig.doVariance=True\n",
    "isrConfig.doLinearize=False\n",
    "isrConfig.doCrosstalk=False\n",
    "isrConfig.doBrighterFatter=False\n",
    "isrConfig.doDark=False\n",
    "isrConfig.doStrayLight=False\n",
    "isrConfig.doFlat=True\n",
    "isrConfig.doFringe=False\n",
    "isrConfig.doApplyGains=False\n",
    "isrConfig.doDefect=True\n",
    "isrConfig.doNanMasking=True\n",
    "isrConfig.doInterpolate=True\n",
    "isrConfig.doSaturation=True\n",
    "isrConfig.doSaturationInterpolation=True\n",
    "isrConfig.doWrite=False\n",
    "isrTask = IsrTask(config=isrConfig)"
   ]
  },
  {
   "cell_type": "code",
   "execution_count": null,
   "metadata": {
    "execution": {
     "iopub.execute_input": "2023-08-16T17:57:39.097308Z",
     "iopub.status.busy": "2023-08-16T17:57:39.096745Z",
     "iopub.status.idle": "2023-08-16T17:57:47.449725Z",
     "shell.execute_reply": "2023-08-16T17:57:47.449315Z",
     "shell.execute_reply.started": "2023-08-16T17:57:39.097292Z"
    },
    "tags": []
   },
   "outputs": [],
   "source": [
    "expId = 2023081500058\n",
    "exp = butler.get('raw', detector=0, exposure=expId)\n",
    "biasExp = butler.get('bias', detector=0, exposure=expId)\n",
    "flatExp = butler.get('flat', detector=0, exposure=expId)\n",
    "darkExp = butler.get('dark', detector=0, exposure=expId)\n",
    "defectExp = butler.get('defects', detector=0, exposure=expId)\n",
    "isrResult = isrTask.run(exp, bias=biasExp, flat=flatExp, dark=darkExp, defects=defectExp)\n",
    "postIsrExp = isrResult.exposure\n",
    "repairCosmics(postIsrExp)\n",
    "subtractStutteredBackground(postIsrExp)\n",
    "ax1, fig = plotExp(postIsrExp)\n",
    "ax1.set_title(f\"Stuttered Focus Image {expId}\", fontsize=24)\n",
    "for i in range(expcount):\n",
    "    if i > 2 and i % 2 == 1:\n",
    "        ax1.arrow(2400,3950 - rowshift * (19 - i), -200, 0,\\\n",
    "            color='lightgreen', width = 20)\n",
    "        ax1.text(2500,3925 - rowshift * (19 - i), f\"Exposure_{int((19 - i) / 2) + 1}\", color='lightgreen', fontsize=16)\n",
    "    elif i > 2:\n",
    "        ax1.arrow(1700,3950 - rowshift * (19 - i), 200, 0,\\\n",
    "            color='lightgreen', width = 20)\n",
    "        ax1.text(1200,3925 - rowshift * (19 - i), \"Shift focus\", color='lightgreen', fontsize=16)\n",
    "    else:\n",
    "        ax1.arrow(1700,3950 - rowshift * (19 - i), 200, 0,\\\n",
    "            color='lightgreen', width = 20)\n",
    "        ax1.text(1300,3925 - rowshift * (19 - i), \"Dummy\", color='lightgreen', fontsize=16)\n",
    "plt.savefig(f\"/home/c/cslage/u/AuxTel/stuttered/Stuttered_Focus_Image_{expId}.png\")         "
   ]
  },
  {
   "cell_type": "code",
   "execution_count": null,
   "metadata": {
    "execution": {
     "iopub.execute_input": "2023-08-16T17:57:47.787284Z",
     "iopub.status.busy": "2023-08-16T17:57:47.787117Z",
     "iopub.status.idle": "2023-08-16T17:57:47.842290Z",
     "shell.execute_reply": "2023-08-16T17:57:47.841895Z",
     "shell.execute_reply.started": "2023-08-16T17:57:47.787271Z"
    },
    "tags": []
   },
   "outputs": [],
   "source": [
    "# Set up the source catalog task\n",
    "charConfig = CharacterizeImageConfig()\n",
    "charConfig.doMeasurePsf = False\n",
    "charConfig.doApCorr = False\n",
    "charConfig.doDeblend = False\n",
    "charConfig.repair.doCosmicRay = False\n",
    "charConfig.repair.doInterpolate = False \n",
    "charConfig.detection.minPixels = 100\n",
    "charTask = CharacterizeImageTask(config=charConfig)"
   ]
  },
  {
   "cell_type": "code",
   "execution_count": null,
   "metadata": {
    "execution": {
     "iopub.execute_input": "2023-08-16T17:57:48.153453Z",
     "iopub.status.busy": "2023-08-16T17:57:48.153008Z",
     "iopub.status.idle": "2023-08-16T17:57:52.203611Z",
     "shell.execute_reply": "2023-08-16T17:57:52.203155Z",
     "shell.execute_reply.started": "2023-08-16T17:57:48.153439Z"
    },
    "tags": []
   },
   "outputs": [],
   "source": [
    "charResult = charTask.run(postIsrExp)\n",
    "sourceCatalog = charResult.sourceCat\n"
   ]
  },
  {
   "cell_type": "code",
   "execution_count": null,
   "metadata": {
    "execution": {
     "iopub.execute_input": "2023-08-16T17:57:52.204610Z",
     "iopub.status.busy": "2023-08-16T17:57:52.204431Z",
     "iopub.status.idle": "2023-08-16T17:57:52.221591Z",
     "shell.execute_reply": "2023-08-16T17:57:52.221234Z",
     "shell.execute_reply.started": "2023-08-16T17:57:52.204596Z"
    },
    "tags": []
   },
   "outputs": [],
   "source": [
    "mData = exp.getMetadata()\n",
    "start = Time(mData['DATE-BEG'], format='isot', scale='tai') - TimeDelta(10.0, format = 'sec')\n",
    "end = Time(mData['DATE-END'], format='isot', scale='tai') + TimeDelta(10.0, format = 'sec')\n",
    "\n",
    "startCorrection = await client.select_time_series(\"lsst.sal.ATAOS.logevent_hexapodCorrectionStarted\", \\\n",
    "                                                  \"hexapod_z\", start.utc, end.utc)\n",
    "endCorrection = await client.select_time_series(\"lsst.sal.ATAOS.logevent_hexapodCorrectionCompleted\", \\\n",
    "                                                  \"hexapod_z\", start.utc, end.utc)"
   ]
  },
  {
   "cell_type": "code",
   "execution_count": null,
   "metadata": {
    "execution": {
     "iopub.execute_input": "2023-08-16T17:58:10.863165Z",
     "iopub.status.busy": "2023-08-16T17:58:10.862830Z",
     "iopub.status.idle": "2023-08-16T17:58:11.202278Z",
     "shell.execute_reply": "2023-08-16T17:58:11.201819Z",
     "shell.execute_reply.started": "2023-08-16T17:58:10.863151Z"
    },
    "tags": []
   },
   "outputs": [],
   "source": [
    "# Find the images corrresponding to the main star\n",
    "x0 = 2000\n",
    "x1 = 2100\n",
    "numObjs = 0\n",
    "\n",
    "xs = []\n",
    "sizes = []\n",
    "flux_xs = []\n",
    "fluxes = []\n",
    "for n, obj in enumerate(sourceCatalog):\n",
    "    x = obj['base_SdssCentroid_x']\n",
    "    y = obj['base_SdssCentroid_y']\n",
    "    for i in range(expcount):\n",
    "        y0 = 2000 + rowshift * i\n",
    "        y1 = y0 + rowshift\n",
    "        if x > x0 and x < x1 and y > y0 and y < y1:\n",
    "            xx = obj['ext_shapeHSM_HsmSourceMoments_xx']\n",
    "            yy = obj['ext_shapeHSM_HsmSourceMoments_yy']\n",
    "            #print(xx,yy)\n",
    "            size = np.sqrt(xx*xx + yy*yy)\n",
    "            flux = obj['base_CircularApertureFlux_9_0_instFlux']\n",
    "            flux_xs.append(19 - i)\n",
    "            fluxes.append(flux)\n",
    "            if i > 2 and i % 2 == 1:\n",
    "                #print(i, int((19 - i) / 2) + 1)\n",
    "                xs.append(int((19 - i) / 2) + 1)\n",
    "                sizes.append(np.sqrt(size)/10.0 * 2.355)\n",
    "            #print(i, n, x, y, size/10.0)\n",
    "            numObjs += 1\n",
    "print(numObjs)\n",
    "fig, axs = plt.subplots(2,1,figsize=(8,8))\n",
    "plt.suptitle(f\"Stuttered Focus {expId}\", fontsize=24)\n",
    "plt.subplots_adjust(hspace=0.3)\n",
    "axs[0].set_title(\"Flux vs shift number\") \n",
    "axs[0].plot(flux_xs, fluxes)\n",
    "axs[0].set_ylabel(\"Flux\")\n",
    "axs[0].set_xlabel(\"Shift number\")\n",
    "axs[0].text(8.0, 40000, \"Clouds??\", color='red')\n",
    "axs[1].set_title(\"FWHM vs image number\") \n",
    "axs[1].plot(xs, sizes)\n",
    "axs[1].set_xlim(0,10)\n",
    "axs[1].set_ylabel(\"FWHM(arcseconds)\")\n",
    "axs[1].set_xlabel(\"Image number\")\n",
    "axs[1].text(4, 3.5, f\"Hex_z values, CWFS best={startCorrection['hexapod_z'].values[4]:.4f}\")\n",
    "#axs[1].text(7,3, f\"CharacterizeImageTask\\nfailed to find\\nimage 9 ??\")\n",
    "for i in range(9):\n",
    "    try:\n",
    "        corr = startCorrection['hexapod_z'].values[8-i]\n",
    "        axs[1].text(xs[i]+0.2, sizes[i], f\"{corr:.4f}\")\n",
    "    except:\n",
    "        continue\n",
    "plt.savefig(f\"/home/c/cslage/u/AuxTel/stuttered/Stuttered_Focus_Plot_{expId}.png\") "
   ]
  },
  {
   "cell_type": "code",
   "execution_count": null,
   "metadata": {
    "tags": []
   },
   "outputs": [],
   "source": [
    "startCorrection"
   ]
  },
  {
   "cell_type": "code",
   "execution_count": null,
   "metadata": {},
   "outputs": [],
   "source": []
  }
 ],
 "metadata": {
  "kernelspec": {
   "display_name": "LSST",
   "language": "python",
   "name": "lsst"
  },
  "language_info": {
   "codemirror_mode": {
    "name": "ipython",
    "version": 3
   },
   "file_extension": ".py",
   "mimetype": "text/x-python",
   "name": "python",
   "nbconvert_exporter": "python",
   "pygments_lexer": "ipython3",
   "version": "3.11.4"
  }
 },
 "nbformat": 4,
 "nbformat_minor": 4
}
