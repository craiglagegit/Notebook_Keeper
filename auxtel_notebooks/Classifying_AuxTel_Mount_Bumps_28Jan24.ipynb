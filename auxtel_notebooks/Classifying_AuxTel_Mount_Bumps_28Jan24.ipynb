{
 "cells": [
  {
   "cell_type": "markdown",
   "id": "e5c8f1b4-c35d-4bce-991a-8ace22b5fad7",
   "metadata": {
    "execution": {
     "iopub.execute_input": "2023-12-30T20:38:32.485953Z",
     "iopub.status.busy": "2023-12-30T20:38:32.485659Z",
     "iopub.status.idle": "2023-12-30T20:38:40.226239Z",
     "shell.execute_reply": "2023-12-30T20:38:40.225697Z",
     "shell.execute_reply.started": "2023-12-30T20:38:32.485937Z"
    }
   },
   "source": [
    "# This notebook is for FInding the new type of  AuxTel mount errors.\n",
    "\n",
    "Craig Lage - 28Jan24"
   ]
  },
  {
   "cell_type": "code",
   "execution_count": null,
   "id": "53ad03a3-5c41-4ec6-8112-d8909705adf3",
   "metadata": {
    "execution": {
     "iopub.execute_input": "2025-01-28T19:17:01.448067Z",
     "iopub.status.busy": "2025-01-28T19:17:01.447753Z",
     "iopub.status.idle": "2025-01-28T19:17:08.998535Z",
     "shell.execute_reply": "2025-01-28T19:17:08.997905Z",
     "shell.execute_reply.started": "2025-01-28T19:17:01.448050Z"
    }
   },
   "outputs": [],
   "source": [
    "import nest_asyncio\n",
    "nest_asyncio.apply()\n",
    "import sys, time, os, asyncio, warnings\n",
    "from datetime import datetime\n",
    "import numpy as np\n",
    "import pandas as pd\n",
    "import pickle as pkl\n",
    "import matplotlib.pyplot as plt\n",
    "%matplotlib inline\n",
    "from astropy.time import Time, TimeDelta\n",
    "\n",
    "from lsst_efd_client import EfdClient\n",
    "from lsst.daf.butler import Butler\n",
    "\n",
    "import lsst.summit.utils.butlerUtils as butlerUtils\n",
    "from lsst.summit.utils.utils import dayObsIntToString\n",
    "from lsst.summit.utils.efdUtils import calcNextDay\n",
    "from lsst.ts.observing.utilities.decorated_logger import DecoratedLogger\n",
    "from lsst.rubintv.production import mountTorques\n",
    "from lsst_efd_client import merge_packed_time_series as mpts"
   ]
  },
  {
   "cell_type": "code",
   "execution_count": null,
   "id": "cce121a9-11e3-421b-9405-922abfe198d9",
   "metadata": {
    "execution": {
     "iopub.execute_input": "2025-01-28T19:17:09.000143Z",
     "iopub.status.busy": "2025-01-28T19:17:08.999398Z",
     "iopub.status.idle": "2025-01-28T19:17:09.003836Z",
     "shell.execute_reply": "2025-01-28T19:17:09.003434Z",
     "shell.execute_reply.started": "2025-01-28T19:17:09.000124Z"
    }
   },
   "outputs": [],
   "source": [
    "async def getRotatorAngle(butler, client, dataId):\n",
    "    expRecord = butlerUtils.getExpRecordFromDataId(butler, dataId)\n",
    "    tStart = expRecord.timespan.begin.tai.to_value(\"isot\")\n",
    "    tEnd = expRecord.timespan.end.tai.to_value(\"isot\")\n",
    "    t_start = Time(tStart, scale=\"tai\")\n",
    "    t_end = Time(tEnd, scale=\"tai\")\n",
    "    nasmyth_position = await client.select_time_series(\"lsst.sal.ATMCS.mount_Nasmyth_Encoders\", \\\n",
    "                                            [\"*\"],  t_start.utc, t_end.utc)\n",
    "    rot = mpts(nasmyth_position, \"nasmyth2CalculatedAngle\", stride=1)\n",
    "    rot_vals = np.array(rot.values[:, 0])\n",
    "    medrot = np.median(rot_vals)\n",
    "    return medrot\n"
   ]
  },
  {
   "cell_type": "markdown",
   "id": "d8cafaf7-8071-48b2-bf90-58d07a5f58d0",
   "metadata": {},
   "source": [
    "# Now we run it on all of 2025"
   ]
  },
  {
   "cell_type": "code",
   "execution_count": null,
   "id": "a1ab9f00-0fbe-44c8-a174-81d91e611ddb",
   "metadata": {
    "execution": {
     "iopub.execute_input": "2025-01-28T19:17:09.240537Z",
     "iopub.status.busy": "2025-01-28T19:17:09.240008Z",
     "iopub.status.idle": "2025-01-28T19:37:27.161827Z",
     "shell.execute_reply": "2025-01-28T19:37:27.161357Z",
     "shell.execute_reply.started": "2025-01-28T19:17:09.240517Z"
    }
   },
   "outputs": [],
   "source": [
    "from lsst_efd_client import EfdClient\n",
    "client = EfdClient('usdf_efd')\n",
    "butler = butlerUtils.makeDefaultButler(\"LATISS\")\n",
    "logger = DecoratedLogger.get_decorated_logger()\n",
    "warnings.filterwarnings('ignore')\n",
    "startDay = 20250107\n",
    "Mount_Errors_Classified_Dict = {}\n",
    "endDay = 20250127\n",
    "dayObs = startDay\n",
    "data = {}\n",
    "\n",
    "while dayObs <= endDay:\n",
    "    records = butler.registry.queryDimensionRecords(\"exposure\", where=\"exposure.day_obs=%d\"%dayObs)\n",
    "    print(dayObs, records.count())\n",
    "    if records.count() < 200:\n",
    "        dayObs = calcNextDay(dayObs)  # find the next dayObs                                                                                       \n",
    "        continue\n",
    "    exposureList = []\n",
    "    for record in butler.registry.queryDimensionRecords(\"exposure\", where=\"exposure.day_obs=%d\"%dayObs):\n",
    "        if record.observation_type not in ['bias', 'flat', 'dark'] and record.exposure_time > 2.0:\n",
    "            exposureList.append(record.id)\n",
    "    exposureList = sorted(exposureList)\n",
    "    print(dayObs, len(exposureList))\n",
    "    for expId in exposureList:\n",
    "        try:\n",
    "            seqNum = int(expId - dayObs * 1E5)\n",
    "            dataId = {'detector':0, 'exposure':expId}\n",
    "            dict = mountTorques.calculateMountErrors(dataId, butler, client, figure=None, saveFilename=None, logger=logger)\n",
    "            if dict['az_rms']<0.2 and dict['el_rms']>0.25 and dict['rot_rms']>0.3:\n",
    "                mData = butler.get('raw.metadata', dataId=dataId)\n",
    "                rot = await getRotatorAngle(butler, client, dataId)\n",
    "                az = mData['AZSTART']\n",
    "                el = mData['ELSTART']\n",
    "                print(expId, az, el, rot)\n",
    "                data[expId] = [az, el, rot]\n",
    "            print(f\"{expId} finished successfully\")\n",
    "            sys.stdout.flush()\n",
    "        except:\n",
    "            print(f\"{expId} failed\")\n",
    "            sys.stdout.flush()\n",
    "            continue\n",
    "    print(f\"Finished {dayObs}\")\n",
    "    sys.stdout.flush()\n",
    "    dayObs = calcNextDay(dayObs)  # find the next dayObs                                                                                           \n",
    "                            "
   ]
  },
  {
   "cell_type": "code",
   "execution_count": null,
   "id": "61c9e9c2-506c-41b4-a9b1-e10c5bce1508",
   "metadata": {
    "execution": {
     "iopub.execute_input": "2025-01-28T19:50:18.707745Z",
     "iopub.status.busy": "2025-01-28T19:50:18.707436Z",
     "iopub.status.idle": "2025-01-28T19:50:18.961569Z",
     "shell.execute_reply": "2025-01-28T19:50:18.961076Z",
     "shell.execute_reply.started": "2025-01-28T19:50:18.707729Z"
    }
   },
   "outputs": [],
   "source": [
    "azs = []\n",
    "els = []\n",
    "rots = []\n",
    "for key in data.keys():\n",
    "    az = data[key][0]\n",
    "    if az < 0:\n",
    "        az += 360.0\n",
    "    azs.append(az)\n",
    "    els.append(data[key][1])\n",
    "    rots.append(data[key][2])\n",
    "fig, axs = plt.subplots(1,2,figsize=(10,5))\n",
    "axs[0].set_title(\"Az/EL\")\n",
    "axs[0].set_xlabel(\"Azimuth (degrees)\")\n",
    "axs[0].set_ylabel(\"Elevation (degrees)\")\n",
    "axs[0].scatter(azs, els)\n",
    "#axs[0].set_xlim(175, 185)\n",
    "axs[1].set_title(\"Rotator\")\n",
    "axs[1].set_xlabel(\"Rotation angle (degrees)\")\n",
    "axs[1].hist(rots)\n",
    "axs[1].set_xlim(115, 125)\n",
    "                        \n",
    "plt.savefig(f\"/home/c/cslage/u/AuxTel/mount_graphs/Elevation_Rotator_Errors_28Jan25.png\")"
   ]
  },
  {
   "cell_type": "code",
   "execution_count": null,
   "id": "d64d87e4-1e52-402d-8351-3d737faab49f",
   "metadata": {},
   "outputs": [],
   "source": []
  }
 ],
 "metadata": {
  "kernelspec": {
   "display_name": "LSST",
   "language": "python",
   "name": "lsst"
  },
  "language_info": {
   "codemirror_mode": {
    "name": "ipython",
    "version": 3
   },
   "file_extension": ".py",
   "mimetype": "text/x-python",
   "name": "python",
   "nbconvert_exporter": "python",
   "pygments_lexer": "ipython3",
   "version": "3.11.9"
  }
 },
 "nbformat": 4,
 "nbformat_minor": 5
}
