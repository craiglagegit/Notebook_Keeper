{
 "cells": [
  {
   "cell_type": "markdown",
   "metadata": {},
   "source": [
    "## AuxTel AzEl offset coordinates - 22-Apr-21\n",
    "\n",
    "In this notebook, investigate az-el offsets from 11-Mar-21"
   ]
  },
  {
   "cell_type": "code",
   "execution_count": null,
   "metadata": {},
   "outputs": [],
   "source": [
    "import sys, time, os, asyncio, glob\n",
    "\n",
    "from datetime import datetime\n",
    "import numpy as np\n",
    "import matplotlib.pyplot as plt\n",
    "from matplotlib.colors import LogNorm\n",
    "import pickle as pkl\n",
    "import pandas as pd\n",
    "import astropy.io.fits as pf\n",
    "from astropy.time import Time, TimeDelta\n",
    "from astropy.coordinates import SkyCoord, AltAz, ICRS, GCRS, CIRS, EarthLocation, Angle, FK5, SkyOffsetFrame\n",
    "import astropy.units as u\n",
    "\n",
    "from lsst.daf.butler import Butler as gen3Butler\n",
    "from lsst.daf.persistence import Butler as gen2Butler\n",
    "from lsst_efd_client import EfdClient\n",
    "from lsst.pipe.tasks.characterizeImage import CharacterizeImageTask, CharacterizeImageConfig"
   ]
  },
  {
   "cell_type": "code",
   "execution_count": null,
   "metadata": {},
   "outputs": [],
   "source": [
    "# Gen3 butler\n",
    "dayObs = 20210311\n",
    "expId = 2021031100422\n",
    "REPO_DIR = '/repo/main'\n",
    "butler = gen3Butler(REPO_DIR, collections=\"LATISS/raw/all\")\n",
    "mData = butler.get('raw.metadata', detector=0, exposure=expId)\n",
    "for key in mData.keys():\n",
    "    print(key, mData[key])\n"
   ]
  },
  {
   "cell_type": "code",
   "execution_count": null,
   "metadata": {},
   "outputs": [],
   "source": [
    "# Set Cerro Pachon location and observation time\n",
    "location = EarthLocation.from_geodetic(lon=mData['OBS-LONG']*u.deg,\n",
    "                                       lat=mData['OBS-LAT']*u.deg,\n",
    "                                       height=mData['OBS-ELEV']*u.m)\n",
    "\n",
    "utcoffset = -3*u.hour  \n",
    "time = Time(mData['DATE-BEG']) + utcoffset\n",
    "time.format = 'iso'"
   ]
  },
  {
   "cell_type": "code",
   "execution_count": null,
   "metadata": {},
   "outputs": [],
   "source": [
    "print(location.lat.deg, time)"
   ]
  },
  {
   "cell_type": "code",
   "execution_count": null,
   "metadata": {},
   "outputs": [],
   "source": [
    "objectCoords = SkyCoord.from_name(mData['OBJECT'])"
   ]
  },
  {
   "cell_type": "code",
   "execution_count": null,
   "metadata": {},
   "outputs": [],
   "source": [
    "objectCoords.dec.deg"
   ]
  },
  {
   "cell_type": "code",
   "execution_count": null,
   "metadata": {},
   "outputs": [],
   "source": [
    "objectAltaz = objectCoords.transform_to(AltAz(obstime=time,location=location, \\\n",
    "                                              pressure=mData['PRESSURE']*u.torr, temperature=mData['AIRTEMP']*u.deg_C, \\\n",
    "                                             relative_humidity=mData['HUMIDITY']*u.percent))"
   ]
  },
  {
   "cell_type": "code",
   "execution_count": null,
   "metadata": {},
   "outputs": [],
   "source": [
    "objectAltaz"
   ]
  },
  {
   "cell_type": "code",
   "execution_count": null,
   "metadata": {},
   "outputs": [],
   "source": [
    "sinThetaObject =  np.cos(location.lat.rad) / np.cos(objectCoords.dec.rad) * np.sin(objectAltaz.az.rad)\n",
    "print(sinThetaObject,np.cos(location.lat.rad),np.cos(objectCoords.dec.rad),np.sin(objectAltaz.az.rad))"
   ]
  },
  {
   "cell_type": "code",
   "execution_count": null,
   "metadata": {},
   "outputs": [],
   "source": [
    "pointingCoords_1 = SkyCoord(ra=mData['RA']*u.degree, dec=mData['DEC']*u.degree)"
   ]
  },
  {
   "cell_type": "code",
   "execution_count": null,
   "metadata": {},
   "outputs": [],
   "source": [
    "pointingCoords_1.dec.deg"
   ]
  },
  {
   "cell_type": "code",
   "execution_count": null,
   "metadata": {},
   "outputs": [],
   "source": [
    "pointingAltaz_1 = pointingCoords_1.transform_to(AltAz(obstime=time,location=location, \\\n",
    "                                              pressure=mData['PRESSURE']*u.torr, temperature=mData['AIRTEMP']*u.deg_C, \\\n",
    "                                             relative_humidity=mData['HUMIDITY']*u.percent))"
   ]
  },
  {
   "cell_type": "code",
   "execution_count": null,
   "metadata": {},
   "outputs": [],
   "source": [
    "pointingAltaz_1"
   ]
  },
  {
   "cell_type": "code",
   "execution_count": null,
   "metadata": {},
   "outputs": [],
   "source": [
    "sinThetaPointing_1 =  np.cos(location.lat.rad) / np.cos(pointingCoords_1.dec.rad) * np.sin(pointingAltaz_1.az.rad)\n",
    "print(sinThetaPointing_1,np.cos(location.lat.rad),np.cos(pointingCoords_1.dec.rad),np.sin(pointingAltaz_1.az.rad))"
   ]
  },
  {
   "cell_type": "code",
   "execution_count": null,
   "metadata": {},
   "outputs": [],
   "source": [
    "pointingCoords_2 = SkyCoord(ra=mData['RASTART']*u.degree, dec=mData['DECSTART']*u.degree)"
   ]
  },
  {
   "cell_type": "code",
   "execution_count": null,
   "metadata": {},
   "outputs": [],
   "source": [
    "pointingAltaz_2 = pointingCoords_2.transform_to(AltAz(obstime=time,location=location, \\\n",
    "                                              pressure=mData['PRESSURE']*u.torr, temperature=mData['AIRTEMP']*u.deg_C, \\\n",
    "                                             relative_humidity=mData['HUMIDITY']*u.percent))"
   ]
  },
  {
   "cell_type": "code",
   "execution_count": null,
   "metadata": {},
   "outputs": [],
   "source": [
    "pointingAltaz_2"
   ]
  },
  {
   "cell_type": "code",
   "execution_count": null,
   "metadata": {},
   "outputs": [],
   "source": [
    "sinThetaPointing_2 =  np.cos(location.lat.rad) / np.cos(pointingCoords_2.dec.rad) * np.sin(pointingAltaz_2.az.rad)\n",
    "print(sinThetaPointing_2,np.cos(location.lat.rad),np.cos(pointingCoords_2.dec.rad),np.sin(pointingAltaz_2.az.rad))"
   ]
  },
  {
   "cell_type": "code",
   "execution_count": null,
   "metadata": {},
   "outputs": [],
   "source": [
    "pointingCoords_3 = SkyCoord(ra=mData['RAEND']*u.degree, dec=mData['DECEND']*u.degree)"
   ]
  },
  {
   "cell_type": "code",
   "execution_count": null,
   "metadata": {},
   "outputs": [],
   "source": [
    "pointingAltaz_3 = pointingCoords_3.transform_to(AltAz(obstime=time,location=location, \\\n",
    "                                              pressure=mData['PRESSURE']*u.torr, temperature=mData['AIRTEMP']*u.deg_C, \\\n",
    "                                             relative_humidity=mData['HUMIDITY']*u.percent))"
   ]
  },
  {
   "cell_type": "code",
   "execution_count": null,
   "metadata": {},
   "outputs": [],
   "source": [
    "pointingAltaz_3"
   ]
  },
  {
   "cell_type": "code",
   "execution_count": null,
   "metadata": {},
   "outputs": [],
   "source": [
    "sinThetaPointing_3 =  np.cos(location.lat.rad) / np.cos(pointingCoords_3.dec.rad) * np.sin(pointingAltaz_3.az.rad)\n",
    "print(sinThetaPointing_3,np.cos(location.lat.rad),np.cos(pointingCoords_3.dec.rad),np.sin(pointingAltaz_3.az.rad))"
   ]
  },
  {
   "cell_type": "code",
   "execution_count": null,
   "metadata": {},
   "outputs": [],
   "source": [
    "pointingCoords_header = SkyCoord(ra=mData['RASTART']*u.degree, dec=mData['DECSTART']*u.degree)"
   ]
  },
  {
   "cell_type": "code",
   "execution_count": null,
   "metadata": {},
   "outputs": [],
   "source": [
    "altazCoords_header = AltAz(alt=mData['ELSTART']*u.deg, az=mData['AZSTART']*u.deg, obstime=time, location=location)"
   ]
  },
  {
   "cell_type": "code",
   "execution_count": null,
   "metadata": {},
   "outputs": [],
   "source": [
    "sinThetaPointing_header =  np.cos(location.lat.rad) / np.cos(pointingCoords_header.dec.rad) * np.sin(altazCoords_header.az.rad)\n",
    "print(sinThetaPointing_header,np.cos(location.lat.rad),np.cos(pointingCoords_header.dec.rad),np.sin(altazCoords_header.az.rad))"
   ]
  },
  {
   "cell_type": "code",
   "execution_count": null,
   "metadata": {},
   "outputs": [],
   "source": [
    "pointingCoords_header_2 = SkyCoord(ra=mData['RAEND']*u.degree, dec=mData['DECEND']*u.degree)"
   ]
  },
  {
   "cell_type": "code",
   "execution_count": null,
   "metadata": {},
   "outputs": [],
   "source": [
    "altazCoords_header_2 = AltAz(alt=mData['ELEND']*u.deg, az=mData['AZEND']*u.deg, obstime=time, location=location)"
   ]
  },
  {
   "cell_type": "code",
   "execution_count": null,
   "metadata": {},
   "outputs": [],
   "source": [
    "sinThetaPointing_header_2 =  np.cos(location.lat.rad) / np.cos(pointingCoords_header_2.dec.rad) * np.sin(altazCoords_header_2.az.rad)\n",
    "print(sinThetaPointing_header_2,np.cos(location.lat.rad),np.cos(pointingCoords_header_2.dec.rad),np.sin(altazCoords_header_2.az.rad))"
   ]
  },
  {
   "cell_type": "code",
   "execution_count": null,
   "metadata": {},
   "outputs": [],
   "source": [
    "# These are as extracted by astrometry.net in the notebook AzEl_Offset_Astrometry_26Apr21.ipynb\n",
    "astroNetCoords = SkyCoord(ra=240.141563967*u.degree, dec=-89.2964243801*u.degree)"
   ]
  },
  {
   "cell_type": "code",
   "execution_count": null,
   "metadata": {},
   "outputs": [],
   "source": [
    "astroNetCoords.dec.deg"
   ]
  },
  {
   "cell_type": "code",
   "execution_count": null,
   "metadata": {},
   "outputs": [],
   "source": [
    "astroNetAltaz = astroNetCoords.transform_to(AltAz(obstime=time,location=location, \\\n",
    "                                              pressure=mData['PRESSURE']*u.torr, temperature=mData['AIRTEMP']*u.deg_C, \\\n",
    "                                             relative_humidity=mData['HUMIDITY']*u.percent))"
   ]
  },
  {
   "cell_type": "code",
   "execution_count": null,
   "metadata": {},
   "outputs": [],
   "source": [
    "astroNetAltaz"
   ]
  },
  {
   "cell_type": "code",
   "execution_count": null,
   "metadata": {},
   "outputs": [],
   "source": [
    "sinThetaAstroNet =  np.cos(location.lat.rad) / np.cos(astroNetCoords.dec.rad) * np.sin(astroNetAltaz.az.rad)\n",
    "print(sinThetaAstroNet,np.cos(location.lat.rad),np.cos(astroNetCoords.dec.rad),np.sin(astroNetAltaz.az.rad))"
   ]
  },
  {
   "cell_type": "code",
   "execution_count": null,
   "metadata": {},
   "outputs": [],
   "source": [
    "# These are from Stellarium\n",
    "stellCoords = SkyCoord(ra=250.830*u.degree, dec=-89.3566*u.degree)"
   ]
  },
  {
   "cell_type": "code",
   "execution_count": null,
   "metadata": {},
   "outputs": [],
   "source": [
    "stellCoords.dec.deg"
   ]
  },
  {
   "cell_type": "code",
   "execution_count": null,
   "metadata": {},
   "outputs": [],
   "source": [
    "stellAltaz = stellCoords.transform_to(AltAz(obstime=time,location=location, \\\n",
    "                                              pressure=mData['PRESSURE']*u.torr, temperature=mData['AIRTEMP']*u.deg_C, \\\n",
    "                                             relative_humidity=mData['HUMIDITY']*u.percent))"
   ]
  },
  {
   "cell_type": "code",
   "execution_count": null,
   "metadata": {},
   "outputs": [],
   "source": [
    "stellAltaz"
   ]
  },
  {
   "cell_type": "code",
   "execution_count": null,
   "metadata": {},
   "outputs": [],
   "source": [
    "stellAltaz_2 = SkyCoord(AltAz(az=179.3781*u.deg, alt=30.600*u.deg))"
   ]
  },
  {
   "cell_type": "code",
   "execution_count": null,
   "metadata": {},
   "outputs": [],
   "source": [
    "sinThetaStell =  np.cos(location.lat.rad) / np.cos(stellCoords.dec.rad) * np.sin(stellAltaz_2.az.rad)\n",
    "print(sinThetaStell,np.cos(location.lat.rad),np.cos(stellCoords.dec.rad),np.sin(stellAltaz_2.az.rad))\n",
    "print(90.0 - np.arcsin(sinThetaStell)*180.0/np.pi)"
   ]
  },
  {
   "cell_type": "code",
   "execution_count": null,
   "metadata": {},
   "outputs": [],
   "source": [
    "print(f\"Header discrepancy expId {expId}\")\n",
    "print()\n",
    "print(\"Source\\t\\t\\tRA\\t\\tDec\\t\\tAlt\\t\\tAz\\t\\tsin(theta)\")\n",
    "print(f\"Object+Conversion\\t{objectCoords.ra.deg:.6f}\\t{objectCoords.dec.deg:.6f}\"  \n",
    " + f\"\\t{objectAltaz.alt.deg:.6f}\\t{objectAltaz.az.deg:.6f}\\t{sinThetaObject:.4f}\")\n",
    "print(f\"RA/DEC+Conversion\\t{pointingCoords_1.ra.deg:.6f}\\t{pointingCoords_1.dec.deg:.6f}\"  \n",
    " + f\"\\t{pointingAltaz_1.alt.deg:.6f}\\t{pointingAltaz_1.az.deg:.6f}\\t{sinThetaPointing_1:.4f}\")\n",
    "print(f\"RASTART/DECSTART+Conv.\\t{pointingCoords_2.ra.deg:.6f}\\t{pointingCoords_2.dec.deg:.6f}\"  \n",
    " + f\"\\t{pointingAltaz_2.alt.deg:.6f}\\t{pointingAltaz_2.az.deg:.6f}\\t{sinThetaPointing_2:.4f}\")\n",
    "print(f\"RAEND/DECEND+Conv.\\t{pointingCoords_3.ra.deg:.6f}\\t{pointingCoords_3.dec.deg:.6f}\"  \n",
    " + f\"\\t{pointingAltaz_3.alt.deg:.6f}\\t{pointingAltaz_3.az.deg:.6f}\\t{sinThetaPointing_3:.4f}\")\n",
    "print(f\"Header START values\\t{pointingCoords_header.ra.deg:.6f}\\t{pointingCoords_header.dec.deg:.6f}\"  \n",
    " + f\"\\t{altazCoords_header.alt.deg:.6f}\\t{altazCoords_header.az.deg:.6f}\\t{sinThetaPointing_header:.4f}\")\n",
    "print(f\"Header END values\\t{pointingCoords_header_2.ra.deg:.6f}\\t{pointingCoords_header_2.dec.deg:.6f}\"  \n",
    " + f\"\\t{altazCoords_header_2.alt.deg:.6f}\\t{altazCoords_header_2.az.deg:.6f}\\t{sinThetaPointing_header_2:.4f}\")\n",
    "print(f\"Astrometry.net values\\t{astroNetCoords.ra.deg:.6f}\\t{astroNetCoords.dec.deg:.6f}\"  \n",
    " + f\"\\t{astroNetAltaz.alt.deg:.6f}\\t{astroNetAltaz.az.deg:.6f}\\t{sinThetaAstroNet:.4f}\")\n",
    "print(f\"Stellarium values\\t{stellCoords.ra.deg:.6f}\\t{stellCoords.dec.deg:.6f}\"  \n",
    " + f\"\\t{stellAltaz_2.alt.deg:.6f}\\t{stellAltaz_2.az.deg:.6f}\\t{sinThetaStell:.4f}\")\n",
    "print(f\"Stellarium values\\t{stellCoords.ra.deg:.6f}\\t{stellCoords.dec.deg:.6f}\"  \n",
    " + f\"\\t{stellAltaz_2.alt.deg:.6f}\\t{stellAltaz_2.az.deg:.6f}\\t{sinThetaStell:.4f}\")"
   ]
  },
  {
   "cell_type": "code",
   "execution_count": null,
   "metadata": {},
   "outputs": [],
   "source": [
    "np.sin(Angle((90-36.8)*u.deg))"
   ]
  },
  {
   "cell_type": "code",
   "execution_count": null,
   "metadata": {},
   "outputs": [],
   "source": [
    "def pixelLocation(center, object, rotpa):\n",
    "    plateScale = 0.095695 # arcseconds/pixel\n",
    "    centerPixel = np.array([2000.0, 2000.0])\n",
    "    dd = (object.dec.deg - center.dec.deg) * 3600.0 / plateScale\n",
    "    dr = (object.ra.deg - center.ra.deg) * np.cos(center.dec.rad) * 3600.0 / plateScale\n",
    "    off = np.array([dr, dd])\n",
    "    theta = np.radians(rotpa)\n",
    "    c, s = np.cos(theta), np.sin(theta)\n",
    "    # This is the rotation matrix that rotates (RA,Dec) into the detector coordinates\n",
    "    R = np.array(((c, -s), (s, c))) \n",
    "    rotated_off = R.dot(off)\n",
    "    location = centerPixel + rotated_off\n",
    "    return location"
   ]
  },
  {
   "cell_type": "code",
   "execution_count": null,
   "metadata": {},
   "outputs": [],
   "source": [
    "centerShiftRa = 800.0*u.arcsec\n",
    "centerShiftDec = 0.0*u.arcsec\n",
    "objectRa = 175.0*u.deg\n",
    "objectDec = -85.0*u.deg\n",
    "objectCoords = SkyCoord(ra=objectRa, dec=objectDec)\n",
    "centerCoords = SkyCoord(ra=(objectRa + centerShiftRa), dec=(objectDec + centerShiftDec))\n",
    "rotpa = Angle(mData['ROTPA']*u.deg)\n",
    "shiftMag = 200.0\n",
    "shift = np.array([[1.0, 0.0], [0.0, 1.0], [-1.0, 0.0], [0.0, -1.0]]) * shiftMag\n",
    "dt = 300.0\n",
    "deltaT = TimeDelta(dt, format='sec')\n",
    "oldPixelCoords = pixelLocation(centerCoords, objectCoords, rotpa)\n",
    "startPixelCoords = oldPixelCoords\n",
    "currentTime = time\n",
    "print(f\"Start = {oldPixelCoords}\")\n",
    "fig = plt.figure(figsize=(16,8))\n",
    "plt.subplot(1,2,1)\n",
    "plt.title(\"Non-closure when doing shifts in AltAz\", fontsize=18)\n",
    "for step in range(4):\n",
    "    centerAltAz = centerCoords.transform_to(AltAz(obstime=currentTime,location=location))\n",
    "    shiftedAltAz = SkyCoord(AltAz(alt=centerAltAz.alt + shift[step][0]*u.arcsec, \\\n",
    "                                  az=centerAltAz.az + shift[step][1]*u.arcsec, \\\n",
    "                                  obstime=currentTime, location=location))\n",
    "    centerCoords = shiftedAltAz.transform_to(ICRS)\n",
    "    #print(centerCoords)\n",
    "    newPixelCoords = pixelLocation(centerCoords, objectCoords, rotpa)\n",
    "    print(f\"Step {step} = {newPixelCoords}\")\n",
    "    currentTime = currentTime + deltaT\n",
    "    delta = newPixelCoords - oldPixelCoords\n",
    "    plt.arrow(x=oldPixelCoords[0], y=oldPixelCoords[1], dx=delta[0], dy=delta[1], \\\n",
    "              length_includes_head=True, head_width=75.0, color='red')\n",
    "    oldPixelCoords = newPixelCoords\n",
    "error = np.sqrt((newPixelCoords[0] - startPixelCoords[0])**2 + (newPixelCoords[1] - startPixelCoords[1])**2)\n",
    "plt.xlim(0,4000)\n",
    "plt.ylim(0,4000)\n",
    "plt.text(200, 3800, f\"Shift = {shiftMag} arcsec per step\",fontsize=12)\n",
    "plt.text(200, 3600, f\"Time delay = {dt} seconds per step\",fontsize=12)\n",
    "plt.text(200, 3400, f\"Final error = {error:.1f} pixels\",fontsize=12)\n",
    "\n",
    "print(f\"Error = {error:.1f} pixels\")\n",
    "\n",
    "centerShiftRa = -1600.0*u.arcsec\n",
    "centerShiftDec = -100.0*u.arcsec\n",
    "objectCoords = SkyCoord(ra=objectRa, dec=objectDec)\n",
    "centerCoords = SkyCoord(ra=(objectRa + centerShiftRa), dec=(objectDec + centerShiftDec))\n",
    "shift = np.array([[10.0, 0.0], [0.0, 1.0], [-10.0, 0.0], [0.0, -1.0]]) * shiftMag\n",
    "oldPixelCoords = pixelLocation(centerCoords, objectCoords, rotpa)\n",
    "startPixelCoords = oldPixelCoords\n",
    "currentTime = time\n",
    "print(f\"Start = {oldPixelCoords}\")\n",
    "plt.subplot(1,2,2)\n",
    "plt.title(\"Closure when doing shifts in RaDec\", fontsize=18)\n",
    "for step in range(4):\n",
    "    centerCoords = SkyCoord(ra=(centerCoords.ra + shift[step][0]*u.arcsec), \\\n",
    "                            dec=(centerCoords.dec + shift[step][1]*u.arcsec))\n",
    "    #print(centerCoords)\n",
    "    newPixelCoords = pixelLocation(centerCoords, objectCoords, rotpa)\n",
    "    print(f\"Step {step} = {newPixelCoords}\")\n",
    "    currentTime = currentTime + deltaT\n",
    "    delta = newPixelCoords - oldPixelCoords\n",
    "    plt.arrow(x=oldPixelCoords[0], y=oldPixelCoords[1], dx=delta[0], dy=delta[1], \\\n",
    "              length_includes_head=True, head_width=75.0, color='red')\n",
    "    oldPixelCoords = newPixelCoords\n",
    "error = np.sqrt((newPixelCoords[0] - startPixelCoords[0])**2 + (newPixelCoords[1] - startPixelCoords[1])**2)\n",
    "plt.xlim(0,4000)\n",
    "plt.ylim(0,4000)\n",
    "plt.text(200, 3800, f\"Shift = {shiftMag} arcsec per step\",fontsize=12)\n",
    "plt.text(200, 3600, f\"Time delay = {dt} seconds per step\",fontsize=12)\n",
    "plt.text(200, 3400, f\"Final error = {error:.1f} pixels\",fontsize=12)\n",
    "\n",
    "print(f\"Error = {error:.1f} pixels\")\n",
    "plt.savefig(f\"/project/cslage/AuxTel/offsets/Offset_Closure_AzEl_vs_RADec_23Apr21.pdf\")"
   ]
  },
  {
   "cell_type": "code",
   "execution_count": null,
   "metadata": {},
   "outputs": [],
   "source": [
    "altazCoords_header_2 = AltAz(alt=mData['ELEND']*u.deg, az=mData['AZEND']*u.deg, obstime=time, location=location)"
   ]
  },
  {
   "cell_type": "code",
   "execution_count": null,
   "metadata": {},
   "outputs": [],
   "source": [
    "altazCoords_header_2.transform_to(GCRS)"
   ]
  },
  {
   "cell_type": "code",
   "execution_count": null,
   "metadata": {},
   "outputs": [],
   "source": [
    "pointingCoords_2"
   ]
  },
  {
   "cell_type": "code",
   "execution_count": null,
   "metadata": {},
   "outputs": [],
   "source": [
    "objectCoords"
   ]
  },
  {
   "cell_type": "code",
   "execution_count": null,
   "metadata": {},
   "outputs": [],
   "source": [
    "objectCoords.transform_to(CIRS)"
   ]
  },
  {
   "cell_type": "code",
   "execution_count": null,
   "metadata": {},
   "outputs": [],
   "source": [
    "objectCoords.transform_to(GCRS)"
   ]
  },
  {
   "cell_type": "code",
   "execution_count": null,
   "metadata": {},
   "outputs": [],
   "source": []
  },
  {
   "cell_type": "code",
   "execution_count": null,
   "metadata": {},
   "outputs": [],
   "source": [
    "pointingCoords_2.transform_to(CIRS)"
   ]
  },
  {
   "cell_type": "code",
   "execution_count": null,
   "metadata": {},
   "outputs": [],
   "source": []
  },
  {
   "cell_type": "code",
   "execution_count": null,
   "metadata": {},
   "outputs": [],
   "source": [
    "print(np.arcsin(0.7456)*180.0/np.pi, np.arcsin(0.756162127)*180.0/np.pi)"
   ]
  },
  {
   "cell_type": "markdown",
   "metadata": {},
   "source": [
    "# Calculation of center pixel coordinates\n",
    "# Need to do this more carefully if it matters\n",
    "\n",
    "CRVAL1  =        240.141563967 / RA  of reference point                         \n",
    "CRVAL2  =       -89.2964243801 / DEC of reference point                         \n",
    "CRPIX1  =        1811.34913958 / X reference pixel                              \n",
    "CRPIX2  =        1032.95088371 / Y reference pixel                              \n",
    "CUNIT1  = 'deg     ' / X pixel scale units                                      \n",
    "CUNIT2  = 'deg     ' / Y pixel scale units                                      \n",
    "CD1_1   =   -1.96427829069E-05 / Transformation matrix                          \n",
    "CD1_2   =    1.78943966674E-05 / no comment                                     \n",
    "CD2_1   =   -1.79421818042E-05 / no comment                                     \n",
    "CD2_2   =   -1.95647709172E-05 / no comment                                     \n",
    "IMAGEW  =                 4072 / Image width,  in pixels.                       \n",
    "IMAGEH  =                 4000 / Image height, in pixels.   \n",
    "COMMENT scale: 0.0956118 arcsec/pix"
   ]
  },
  {
   "cell_type": "code",
   "execution_count": null,
   "metadata": {},
   "outputs": [],
   "source": [
    "240.141563967 + (4072.0/2.0-1811.34913958)*0.0956118/3600.0"
   ]
  },
  {
   "cell_type": "code",
   "execution_count": null,
   "metadata": {},
   "outputs": [],
   "source": [
    "-89.2964243801 - (4000.0/2.0-1032.95088371)*0.0956118/3600.0"
   ]
  },
  {
   "cell_type": "code",
   "execution_count": null,
   "metadata": {},
   "outputs": [],
   "source": []
  }
 ],
 "metadata": {
  "kernelspec": {
   "display_name": "LSST",
   "language": "python",
   "name": "lsst"
  },
  "language_info": {
   "codemirror_mode": {
    "name": "ipython",
    "version": 3
   },
   "file_extension": ".py",
   "mimetype": "text/x-python",
   "name": "python",
   "nbconvert_exporter": "python",
   "pygments_lexer": "ipython3",
   "version": "3.8.8"
  }
 },
 "nbformat": 4,
 "nbformat_minor": 4
}
