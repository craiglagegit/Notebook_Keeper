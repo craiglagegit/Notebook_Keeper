{
 "cells": [
  {
   "cell_type": "markdown",
   "metadata": {},
   "source": [
    "## Queries - Gen3\n",
    "\n",
    "In this notebook, we show several ways to query the Gen3 data\\\n",
    "Craig Lage - 21-May-21"
   ]
  },
  {
   "cell_type": "code",
   "execution_count": null,
   "metadata": {},
   "outputs": [],
   "source": [
    "import numpy as np\n",
    "import matplotlib.pyplot as plt\n",
    "import astropy.io.fits as pf\n",
    "import lsst.afw.cameraGeom.utils as camGeomUtils\n",
    "from lsst.ip.isr import IsrTask, IsrTaskConfig\n",
    "import lsst.afw.display as afwDisplay"
   ]
  },
  {
   "cell_type": "code",
   "execution_count": null,
   "metadata": {},
   "outputs": [],
   "source": [
    "from lsst.daf.butler import Butler\n",
    "butler = Butler('/repo/oga', collections=[\"LATISS/raw/all\", \"LATISS/calib\"])\n",
    "camera = butler.get('camera', instrument='LATISS')"
   ]
  },
  {
   "cell_type": "code",
   "execution_count": null,
   "metadata": {},
   "outputs": [],
   "source": [
    "isrConfig = IsrTaskConfig()\n",
    "isrConfig.doLinearize=False\n",
    "isrConfig.doOverscan=True\n",
    "isrConfig.doAssembleCcd=True\n",
    "isrConfig.doBias=False\n",
    "isrConfig.doVariance=True\n",
    "isrConfig.doLinearize=False\n",
    "isrConfig.doCrosstalk=False\n",
    "isrConfig.doBrighterFatter=False\n",
    "isrConfig.doDark=False\n",
    "isrConfig.doStrayLight=False\n",
    "isrConfig.doFlat=False\n",
    "isrConfig.doFringe=False\n",
    "isrConfig.doApplyGains=False\n",
    "isrConfig.doDefect=False\n",
    "isrConfig.doNanMasking=True\n",
    "isrConfig.doInterpolate=False\n",
    "isrConfig.doSaturation=False\n",
    "isrConfig.doSaturationInterpolation=False\n",
    "isrTask = IsrTask(config=isrConfig)"
   ]
  },
  {
   "cell_type": "code",
   "execution_count": null,
   "metadata": {
    "tags": []
   },
   "outputs": [],
   "source": [
    "bias = butler.get('bias', detector=0, exposure=2022110800013)\n",
    "biasArr = bias.image.array\n",
    "plt.title(\"AuxTel bias stability - Amp C10\")\n",
    "for expId in [2022110300020, 2022110800013, 2022110900005, 2022111000500, 2022111000600, \\\n",
    "             2022111000700, 2022111000804, 2022111000900, 2022111001000]:\n",
    "    exp = butler.get('raw', detector=0, exposure=expId)\n",
    "    biasExp = butler.get('bias', detector=0, exposure=expId)\n",
    "    isrResult = isrTask.run(exp, bias=biasExp)\n",
    "    arr = isrResult.exposure.image.array\n",
    "    plt.plot(np.mean(arr[2100:3900, 0:400], axis=0), label=f\"{expId}\")\n",
    "    plt.ylim(-4,4)\n",
    "plt.plot(np.mean(biasArr[2100:3900, 0:400], axis=0), ls='--', lw=2, color='black', label=\"Master bias\")\n",
    "plt.legend()\n",
    "plt.xlabel(\"X coord (pixels)\")\n",
    "plt.ylabel(\"ADU\")\n",
    "plt.savefig(\"/home/c/cslage/u/AuxTel/isr/Bias_Stability_4_Amp_C10_10Nov22.pdf\")"
   ]
  },
  {
   "cell_type": "code",
   "execution_count": null,
   "metadata": {
    "jupyter": {
     "outputs_hidden": true
    },
    "tags": []
   },
   "outputs": [],
   "source": [
    "bias = butler.get('bias', detector=0, exposure=2022110800013)\n",
    "biasArr = bias.image.array\n",
    "plt.title(\"AuxTel bias stability - Amp C10\")\n",
    "for expId in [2022110900005, 2022110900176, 2022110800013, 2022110300020]:\n",
    "    exp = butler.get('raw', detector=0, exposure=expId)\n",
    "    biasExp = butler.get('bias', detector=0, exposure=expId)\n",
    "    isrResult = isrTask.run(exp, bias=biasExp)\n",
    "    arr = isrResult.exposure.image.array\n",
    "    plt.plot(np.mean(arr[2100:3900, :], axis=0), label=f\"{expId}\")\n",
    "    plt.ylim(-20,20)\n",
    "plt.plot(np.mean(biasArr[2100:3900, :], axis=0), ls='--', lw=2, color='black', label=\"Master bias\")\n",
    "plt.legend()\n",
    "plt.xlabel(\"X coord (pixels)\")\n",
    "plt.xlim(475, 509)\n",
    "plt.ylabel(\"ADU\")\n",
    "#plt.savefig(\"/home/c/cslage/u/AuxTel/isr/Bias_Stability_2_Amp_C10_10Nov22.pdf\")"
   ]
  },
  {
   "cell_type": "code",
   "execution_count": null,
   "metadata": {},
   "outputs": [],
   "source": []
  },
  {
   "cell_type": "code",
   "execution_count": null,
   "metadata": {
    "jupyter": {
     "outputs_hidden": true
    },
    "tags": []
   },
   "outputs": [],
   "source": [
    "V26bias = butler.get('bias', detector=0, exposure=2022110800013)\n",
    "V26biasArr = V26bias.image.array\n",
    "V25bias = butler.get('bias', detector=0, exposure=2022091400020)\n",
    "V25biasArr = V25bias.image.array\n",
    "\n",
    "sequencer = ['V25','V26','V25','V26','V26','V26','V26']\n",
    "\n",
    "fig = plt.figure()\n",
    "ax = plt.subplot(111)\n",
    "# Shrink current axis by 20%\n",
    "box = ax.get_position()\n",
    "ax.set_position([box.x0, box.y0, box.width * 0.7, box.height])\n",
    "\n",
    "# Put a legend to the right of the current axis\n",
    "ax.legend(loc='center left', bbox_to_anchor=(0.9, 0.5))\n",
    "plt.title(\"AuxTel bias stability - Amp C10\")\n",
    "for i, expId in enumerate([2022091400020, 2022092700020, 2022092900020, 2022110900005, 2022110900176, \\\n",
    "              2022110800013, 2022110300020]):\n",
    "    exp = butler.get('raw', detector=0, exposure=expId)\n",
    "    biasExp = butler.get('bias', detector=0, exposure=expId)\n",
    "    isrResult = isrTask.run(exp, bias=biasExp)\n",
    "    arr = isrResult.exposure.image.array\n",
    "    ax.plot(np.mean(arr[2100:3900, 0:400], axis=0), label=f\"{expId}-{sequencer[i]}\")\n",
    "ax.set_ylim(-4,4)\n",
    "ax.plot(np.mean(V26biasArr[2100:3900, 0:400], axis=0), ls='--', lw=3, color='black', label=\"V26 Master bias\")\n",
    "ax.plot(np.mean(V25biasArr[2100:3900, 0:400], axis=0), ls='--', lw=3, color='violet', label=\"V25 Master bias\")\n",
    "ax.legend(loc='center left', bbox_to_anchor=(1, 0.5))\n",
    "ax.set_xlabel(\"X coord (pixels)\")\n",
    "ax.set_ylabel(\"ADU\")\n",
    "fig.savefig(\"/home/c/cslage/u/AuxTel/isr/Bias_Stability_3_Amp_C10_10Nov22.pdf\")"
   ]
  },
  {
   "cell_type": "code",
   "execution_count": null,
   "metadata": {},
   "outputs": [],
   "source": [
    "V26bias = butler.get('bias', detector=0, exposure=2022110800013)\n",
    "V26biasArr = V26bias.image.array\n",
    "V25bias = butler.get('bias', detector=0, exposure=2022091400020)\n",
    "V25biasArr = V25bias.image.array\n",
    "\n",
    "sequencer = ['V25','V26','V25','V26','V26','V26','V26']\n",
    "\n",
    "fig = plt.figure()\n",
    "ax = plt.subplot(111)\n",
    "# Shrink current axis by 20%\n",
    "box = ax.get_position()\n",
    "ax.set_position([box.x0, box.y0, box.width * 0.7, box.height])\n",
    "\n",
    "# Put a legend to the right of the current axis\n",
    "ax.legend(loc='center left', bbox_to_anchor=(0.9, 0.5))\n",
    "plt.title(\"AuxTel bias stability - Amp C10\")\n",
    "for i, expId in enumerate([2022091400020, 2022092700020, 2022092900020, 2022110900005, 2022110900176, \\\n",
    "              2022110800013, 2022110300020]):\n",
    "    exp = butler.get('raw', detector=0, exposure=expId)\n",
    "    biasExp = butler.get('bias', detector=0, exposure=expId)\n",
    "    isrResult = isrTask.run(exp, bias=biasExp)\n",
    "    arr = isrResult.exposure.image.array\n",
    "    ax.plot(np.mean(arr[2100:3900, :], axis=0), label=f\"{expId}-{sequencer[i]}\")\n",
    "ax.set_ylim(-20,20)\n",
    "ax.plot(np.mean(V26biasArr[2100:3900, :], axis=0), ls='--', lw=3, color='black', label=\"V26 Master bias\")\n",
    "ax.plot(np.mean(V25biasArr[2100:3900, :], axis=0), ls='--', lw=3, color='violet', label=\"V25 Master bias\")\n",
    "ax.legend(loc='center left', bbox_to_anchor=(1, 0.5))\n",
    "ax.set_xlabel(\"X coord (pixels)\")\n",
    "ax.set_ylabel(\"ADU\")\n",
    "ax.set_xlim(475,509)\n",
    "fig.savefig(\"/home/c/cslage/u/AuxTel/isr/Bias_Stability_4_Amp_C10_10Nov22.pdf\")"
   ]
  },
  {
   "cell_type": "code",
   "execution_count": null,
   "metadata": {},
   "outputs": [],
   "source": []
  }
 ],
 "metadata": {
  "kernelspec": {
   "display_name": "LSST",
   "language": "python",
   "name": "lsst"
  },
  "language_info": {
   "codemirror_mode": {
    "name": "ipython",
    "version": 3
   },
   "file_extension": ".py",
   "mimetype": "text/x-python",
   "name": "python",
   "nbconvert_exporter": "python",
   "pygments_lexer": "ipython3",
   "version": "3.10.8"
  }
 },
 "nbformat": 4,
 "nbformat_minor": 4
}
