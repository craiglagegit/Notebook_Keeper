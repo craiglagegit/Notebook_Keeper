{
 "cells": [
  {
   "cell_type": "markdown",
   "id": "e8cc3a14-f377-44f4-ab4c-97c9c3047697",
   "metadata": {},
   "source": [
    "# AuxTel ISR in notebook\n",
    "Craig Lage 03-Mar-23"
   ]
  },
  {
   "cell_type": "code",
   "execution_count": null,
   "id": "a148b369-8943-4861-a51e-9cbeea70feb3",
   "metadata": {
    "execution": {
     "iopub.execute_input": "2023-04-24T20:13:33.296188Z",
     "iopub.status.busy": "2023-04-24T20:13:33.295953Z",
     "iopub.status.idle": "2023-04-24T20:13:35.700793Z",
     "shell.execute_reply": "2023-04-24T20:13:35.700282Z",
     "shell.execute_reply.started": "2023-04-24T20:13:33.296171Z"
    },
    "tags": []
   },
   "outputs": [],
   "source": [
    "import numpy as np\n",
    "from matplotlib import pyplot as plt\n",
    "\n",
    "from lsst.daf.butler import Butler\n",
    "from lsst.summit.utils import BestEffortIsr\n",
    "from lsst.pipe.tasks.quickFrameMeasurement import QuickFrameMeasurementTask\n",
    "from lsst.pipe.tasks.characterizeImage import CharacterizeImageTask\n",
    "import lsst.afw.cameraGeom.utils as camGeomUtils\n",
    "from lsst.ip.isr import IsrTask, IsrTaskConfig\n",
    "from mpl_toolkits.axes_grid1 import make_axes_locatable\n",
    "from matplotlib.colors import LogNorm\n",
    "\n",
    "from lsst.summit.utils import quickSmooth\n",
    "from lsst.meas.algorithms.installGaussianPsf import InstallGaussianPsfTask\n",
    "%matplotlib inline"
   ]
  },
  {
   "cell_type": "code",
   "execution_count": null,
   "id": "7c44dc35-840c-438f-bdba-55b8b1ce5b77",
   "metadata": {
    "execution": {
     "iopub.execute_input": "2023-04-24T20:16:26.582595Z",
     "iopub.status.busy": "2023-04-24T20:16:26.582230Z",
     "iopub.status.idle": "2023-04-24T20:16:26.587810Z",
     "shell.execute_reply": "2023-04-24T20:16:26.587361Z",
     "shell.execute_reply.started": "2023-04-24T20:16:26.582579Z"
    },
    "tags": []
   },
   "outputs": [],
   "source": [
    "def plotExp(exp):\n",
    "    # Borrowed from summit utils\n",
    "    data = quickSmooth(exp.image.array, 1)\n",
    "    vmin = 0#np.nanpercentile(data, 1)\n",
    "    vmax = 20#np.nanpercentile(data, 99)\n",
    "    print(vmin, vmax)\n",
    "    figure = plt.figure(figsize=(12,12))\n",
    "    figure.clear()\n",
    "    ax1 = figure.add_subplot(111)\n",
    "    im1 = ax1.imshow(data, cmap='gray', origin='lower', vmin=vmin, vmax=vmax)\n",
    "    ax1.tick_params(which=\"major\", direction=\"in\", top=True, right=True, labelsize=8)\n",
    "    divider = make_axes_locatable(ax1)\n",
    "    cax = divider.append_axes(\"right\", size=\"5%\", pad=0.05)\n",
    "    plt.colorbar(im1, cax=cax)\n",
    "    plt.tight_layout()\n",
    "    #plt.show()\n",
    "    return figure\n",
    "\n",
    "def repairCosmics(postIsr):\n",
    "    # Borrowed from summit utils\n",
    "    if postIsr.getPsf() is None:\n",
    "        installPsfTask = InstallGaussianPsfTask()\n",
    "        installPsfTask.run(postIsr)\n",
    "\n",
    "    # TODO: try adding a reasonably wide Gaussian as a temp PSF\n",
    "    # and then just running repairTask on its own without any\n",
    "    # imChar. It should work, and be faster.\n",
    "    repairConfig = CharacterizeImageTask.ConfigClass()\n",
    "    repairConfig.doMeasurePsf = False\n",
    "    repairConfig.doApCorr = False\n",
    "    repairConfig.doDeblend = False\n",
    "    repairConfig.doWrite = False\n",
    "    repairConfig.repair.cosmicray.nCrPixelMax = 200000\n",
    "    repairTask = CharacterizeImageTask(config=repairConfig)\n",
    "    repairTask.repair.run(postIsr)\n",
    "    return"
   ]
  },
  {
   "cell_type": "code",
   "execution_count": null,
   "id": "558e3838-4aea-48e2-9629-5b1f60b2fbaf",
   "metadata": {
    "execution": {
     "iopub.execute_input": "2023-04-24T20:18:06.897983Z",
     "iopub.status.busy": "2023-04-24T20:18:06.897652Z",
     "iopub.status.idle": "2023-04-24T20:18:08.147761Z",
     "shell.execute_reply": "2023-04-24T20:18:08.147228Z",
     "shell.execute_reply.started": "2023-04-24T20:18:06.897967Z"
    },
    "tags": []
   },
   "outputs": [],
   "source": [
    "expId = 2023013100536\n",
    "butler = Butler('/repo/embargo', collections=[\"LATISS/raw/all\", \"LATISS/calib\"])"
   ]
  },
  {
   "cell_type": "code",
   "execution_count": null,
   "id": "dd90e290-1777-403b-a945-7211b038ef7c",
   "metadata": {
    "execution": {
     "iopub.execute_input": "2023-04-24T20:14:09.030444Z",
     "iopub.status.busy": "2023-04-24T20:14:09.030067Z",
     "iopub.status.idle": "2023-04-24T20:14:09.052653Z",
     "shell.execute_reply": "2023-04-24T20:14:09.052280Z",
     "shell.execute_reply.started": "2023-04-24T20:14:09.030428Z"
    },
    "tags": []
   },
   "outputs": [],
   "source": [
    "isrConfig = IsrTaskConfig()\n",
    "isrConfig.overscan.fitType=\"MEDIAN_PER_ROW\"\n",
    "isrConfig.overscan.doParallelOverscan=True\n",
    "isrConfig.doLinearize=False\n",
    "isrConfig.doOverscan=True\n",
    "isrConfig.doAssembleCcd=True\n",
    "isrConfig.doBias=True\n",
    "isrConfig.doVariance=True\n",
    "isrConfig.doLinearize=False\n",
    "isrConfig.doBrighterFatter=False\n",
    "isrConfig.doDark=False\n",
    "isrConfig.doStrayLight=False\n",
    "isrConfig.doApplyGains=False\n",
    "isrConfig.doFlat=False\n",
    "isrConfig.doDefect=True\n",
    "isrConfig.doNanMasking=True\n",
    "isrConfig.doInterpolate=True\n",
    "isrConfig.doSaturation=True\n",
    "isrConfig.doSaturationInterpolation=True\n",
    "isrConfig.doWrite=False\n",
    "isrTask = IsrTask(config=isrConfig)"
   ]
  },
  {
   "cell_type": "code",
   "execution_count": null,
   "id": "4f3916b3-b2ec-410a-a59b-39afb1b04183",
   "metadata": {
    "execution": {
     "iopub.execute_input": "2023-04-24T20:18:12.572530Z",
     "iopub.status.busy": "2023-04-24T20:18:12.572268Z",
     "iopub.status.idle": "2023-04-24T20:18:18.155606Z",
     "shell.execute_reply": "2023-04-24T20:18:18.155033Z",
     "shell.execute_reply.started": "2023-04-24T20:18:12.572512Z"
    },
    "tags": []
   },
   "outputs": [],
   "source": [
    "%matplotlib\n",
    "exp = butler.get('raw', detector=0, exposure=expId)\n",
    "biasExp = butler.get('bias', detector=0, exposure=expId)\n",
    "#flatExp = butler.get('flat', detector=0, exposure=expId)\n",
    "#darkExp = butler.get('dark', detector=0, exposure=expId)\n",
    "defectExp = butler.get('defects', detector=0, exposure=expId)\n",
    "isrResult = isrTask.run(exp, bias=biasExp, defects=defectExp)\n",
    "postIsrExp = isrResult.exposure\n",
    "repairCosmics(postIsrExp)\n",
    "fig = plotExp(postIsrExp)\n",
    "plt.savefig(\"/home/c/cslage/u/AuxTel/crosstalk/Image_2023013100536.png\")"
   ]
  },
  {
   "cell_type": "code",
   "execution_count": null,
   "id": "52b8814d-01ff-46ab-8d21-1265ea330c2b",
   "metadata": {},
   "outputs": [],
   "source": []
  }
 ],
 "metadata": {
  "kernelspec": {
   "display_name": "LSST",
   "language": "python",
   "name": "lsst"
  },
  "language_info": {
   "codemirror_mode": {
    "name": "ipython",
    "version": 3
   },
   "file_extension": ".py",
   "mimetype": "text/x-python",
   "name": "python",
   "nbconvert_exporter": "python",
   "pygments_lexer": "ipython3",
   "version": "3.10.10"
  },
  "toc-autonumbering": false,
  "toc-showcode": false,
  "toc-showmarkdowntxt": true
 },
 "nbformat": 4,
 "nbformat_minor": 5
}
