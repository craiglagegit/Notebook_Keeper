{
 "cells": [
  {
   "cell_type": "markdown",
   "metadata": {},
   "source": [
    "## Elevation Motor Torques\n",
    "In this notebook, I look at the impact of removing the AuxTel main\\\n",
    "mirror cover on the torques needed to move the elevation axis."
   ]
  },
  {
   "cell_type": "code",
   "execution_count": null,
   "metadata": {},
   "outputs": [],
   "source": [
    "import sys, time, os\n",
    "\n",
    "import numpy as np\n",
    "import matplotlib.pyplot as plt\n",
    "import pandas as pd\n",
    "from scipy.fft import fft, fftfreq\n",
    "\n",
    "from astropy.time import Time, TimeDelta\n",
    "from lsst_efd_client import EfdClient, merge_packed_time_series"
   ]
  },
  {
   "cell_type": "markdown",
   "metadata": {},
   "source": [
    "We'll access the EFD instance deployed at NCSA."
   ]
  },
  {
   "cell_type": "code",
   "execution_count": null,
   "metadata": {},
   "outputs": [],
   "source": [
    "#client = EfdClient('summit_efd')\n",
    "client = EfdClient('ldf_stable_efd')"
   ]
  },
  {
   "cell_type": "code",
   "execution_count": null,
   "metadata": {},
   "outputs": [],
   "source": [
    "t_ends = [Time(\"2021-06-10T05:00:00\", scale='tai') , Time(\"2021-02-18T10:00:00\", scale='tai')]\n",
    "notes = [\"Mirror cover removed\", \"Mirror cover in place\"]"
   ]
  },
  {
   "cell_type": "code",
   "execution_count": null,
   "metadata": {},
   "outputs": [],
   "source": [
    "# Get the data first, which takes a while\n",
    "nsec = 6.0*3600 # how many seconds of data to retrieve\n",
    "torqueLists = []\n",
    "angleLists = []\n",
    "for i, t_end in enumerate(t_ends):\n",
    "    t_start = t_end - TimeDelta(nsec, format='sec')\n",
    "    elevation_torque = await client.select_time_series(\"lsst.sal.ATMCS.measuredTorque\", ['*'],\n",
    "                                                  t_start, t_end)\n",
    "    torque = merge_packed_time_series(elevation_torque, 'elevationMotorTorque', stride=1)\n",
    "    elevation_angle = await client.select_time_series(\"lsst.sal.ATMCS.mount_AzEl_Encoders\", ['*'],\n",
    "                                                  t_start, t_end)\n",
    "    angle = merge_packed_time_series(elevation_angle, 'elevationCalculatedAngle', stride=1)\n",
    "    torqueList = torque.values.tolist()\n",
    "    angleList = angle.values.tolist()\n",
    "    torqueLists.append(torqueList)\n",
    "    angleLists.append(angleList)"
   ]
  },
  {
   "cell_type": "code",
   "execution_count": null,
   "metadata": {},
   "outputs": [],
   "source": [
    "# Now plot it\n",
    "plt.figure(figsize = (16,8))\n",
    "for i, t_end in enumerate(t_ends):\n",
    "    date = t_end.isot.split('T')[0]\n",
    "    torqueList = torqueLists[i]\n",
    "    angleList = angleLists[i]\n",
    "    plt.subplot(1,2,i + 1)\n",
    "    plt.title(f\"Elevation angle vs Torque - {date}\\n {notes[i]}\", fontsize = 18)\n",
    "    plt.plot(np.array(angleList)[:,0],np.array(torqueList)[:,0])\n",
    "    plt.arrow(20, 2.5, 20,0, width=0.1,head_length = 5.0, color='green')\n",
    "    plt.arrow(85, -2.5, -20,0, width=0.1,head_length = 5.0, color='green')\n",
    "    plt.xlabel(\"Elevation angle(degrees)\", fontsize = 18)\n",
    "    plt.ylabel(\"Torque (amps)\", fontsize = 18)\n",
    "plt.savefig(\"/project/cslage/AuxTel/torques/Elevation_Torque_vs_Angle_18Jun21.pdf\")"
   ]
  },
  {
   "cell_type": "code",
   "execution_count": null,
   "metadata": {},
   "outputs": [],
   "source": []
  }
 ],
 "metadata": {
  "kernelspec": {
   "display_name": "LSST",
   "language": "python",
   "name": "lsst"
  },
  "language_info": {
   "codemirror_mode": {
    "name": "ipython",
    "version": 3
   },
   "file_extension": ".py",
   "mimetype": "text/x-python",
   "name": "python",
   "nbconvert_exporter": "python",
   "pygments_lexer": "ipython3",
   "version": "3.8.8"
  }
 },
 "nbformat": 4,
 "nbformat_minor": 4
}
