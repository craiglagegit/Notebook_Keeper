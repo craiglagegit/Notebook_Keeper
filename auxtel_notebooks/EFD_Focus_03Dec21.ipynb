{
 "cells": [
  {
   "cell_type": "markdown",
   "id": "153412e6",
   "metadata": {},
   "source": [
    "# AuxTel Focus Study - 03-Dec-21\n",
    "\n",
    "In this notebook, investigate focus settings and temp on 03-Dec-21"
   ]
  },
  {
   "cell_type": "code",
   "execution_count": null,
   "id": "fcd0a71e",
   "metadata": {},
   "outputs": [],
   "source": [
    "import sys, time, os, asyncio\n",
    "\n",
    "from datetime import datetime\n",
    "import numpy as np\n",
    "import matplotlib.pyplot as plt\n",
    "%matplotlib widget\n",
    "import pandas as pd\n",
    "from astropy.time import Time, TimeDelta\n",
    "from lsst.daf.butler import Butler"
   ]
  },
  {
   "cell_type": "code",
   "execution_count": null,
   "id": "aed2b09e",
   "metadata": {},
   "outputs": [],
   "source": [
    "# Get EFD client\n",
    "from lsst_efd_client import EfdClient\n",
    "from lsst_efd_client import  __version__ as efdVersion\n",
    "print(efdVersion)\n",
    "client = EfdClient('ldf_stable_efd')"
   ]
  },
  {
   "cell_type": "code",
   "execution_count": null,
   "id": "60edeb48-a66e-4db8-89de-b8cc7b5f1c4f",
   "metadata": {},
   "outputs": [],
   "source": [
    "# Get the butler\n",
    "butler = Butler('/repo/main', collections=\"LATISS/raw/all\")"
   ]
  },
  {
   "cell_type": "code",
   "execution_count": null,
   "id": "94f7af61",
   "metadata": {},
   "outputs": [],
   "source": [
    "before = 15.0\n",
    "tai_offset = 37.0\n",
    "\n",
    "expId = 2021090800134\n",
    "mData = butler.get('raw.metadata', detector=0, exposure=expId)\n",
    "print(f\"{expId} \\t {mData['TIMESYS']} \\t {mData['DATE']} \\t {mData['DATE-BEG']} \\t {mData['DATE-END']}\")\n",
    "date_beg = Time(mData['DATE-BEG'], format='isot', scale='tai')\n",
    "elevation = mData['ELSTART']\n",
    "print(elevation)\n",
    "start = date_beg.utc - TimeDelta(before, format='sec') + TimeDelta(tai_offset, format='sec')\n",
    "end = date_beg.utc + TimeDelta(tai_offset, format='sec')"
   ]
  },
  {
   "cell_type": "code",
   "execution_count": null,
   "id": "4b759989-ba31-4b0d-9235-aa002ac90140",
   "metadata": {},
   "outputs": [],
   "source": [
    "total_off = await client.select_time_series(\"lsst.sal.ATAOS.logevent_focusOffsetSummary\", \"total\", start, end)\n",
    "print(total_off.values[-1][0])"
   ]
  },
  {
   "cell_type": "code",
   "execution_count": null,
   "id": "0baaac2e-2e00-49da-87e5-f4eb85244394",
   "metadata": {},
   "outputs": [],
   "source": [
    "z_position = await client.select_time_series(\"lsst.sal.ATHexapod.command_moveToPosition\", \"z\", start, end)\n",
    "print(z_position.values[-1][0])"
   ]
  },
  {
   "cell_type": "code",
   "execution_count": null,
   "id": "c52f46df-ca22-439c-be29-699201023936",
   "metadata": {},
   "outputs": [],
   "source": [
    "temp_air = await client.select_time_series(\"lsst.sal.ESS.temperature4Ch\", \"temperatureC02\", start, end)\n",
    "temp_truss = await client.select_time_series(\"lsst.sal.ESS.temperature4Ch\", \"temperatureC03\", start, end)\n",
    "temp_m2 = await client.select_time_series(\"lsst.sal.ESS.temperature4Ch\", \"temperatureC04\", start, end)\n",
    "temp_before = 60.0\n",
    "temp_start = date_beg.utc - TimeDelta(temp_before, format='sec') + TimeDelta(tai_offset, format='sec')\n",
    "temp_ext = await client.select_time_series(\"lsst.sal.WeatherStation.airTemperature\", \"avg1M\", temp_start, end)\n",
    "print(temp_air.values[-1][0])\n",
    "print(temp_truss.values[-1][0])\n",
    "print(temp_m2.values[-1][0])\n",
    "print(temp_ext.values[-1][0])"
   ]
  },
  {
   "cell_type": "code",
   "execution_count": null,
   "id": "c8d97740-92b7-43ff-9069-7e2ee922f191",
   "metadata": {},
   "outputs": [],
   "source": [
    "before = 15.0\n",
    "temp_before = 60.0\n",
    "tai_offset = 0.0#37.0\n",
    "\n",
    "els = []\n",
    "offs = []\n",
    "poss = []\n",
    "\n",
    "filename = '/project/cslage/AuxTel/efd_temp/EFD_Temp_20210908.txt'\n",
    "#outfile = open(filename, 'w')\n",
    "#outfile.write(f\"expId\\t\\tElevation\\tOffset\\t\\tHex_z\\t\\tT_air\\tT_truss\\tT_M2\\n\")\n",
    "\n",
    "dayObs = 20210908\n",
    "seqNos = [128, 134, 145, 149, 153, 161, 165, 489, 614, 641, 793]\n",
    "dayObs = 20210909\n",
    "seqNos = [152, 243, 348, 470, 542, 674, 773, 800]\n",
    "dayObs = 20211005\n",
    "seqNos = [ 297, 302, 307, 310, 316, 398, 415, 422, 662]\n",
    "dayObs = 20211006\n",
    "seqNos = [146, 545, 552]\n",
    "dayObs = 20211102\n",
    "seqNos = [93, 333, 346, 351, 374, 377, 383, 399, 498, 567]\n",
    "dayObs = 20211103\n",
    "seqNos = [70, 161, 176, 288, 446, 551, 621]\n",
    "\n",
    "for seqNo in seqNos:\n",
    "    expId = dayObs * 100000 + seqNo\n",
    "    mData = butler.get('raw.metadata', detector=0, exposure=expId)\n",
    "    date_beg = Time(mData['DATE-BEG'], format='isot', scale='tai')\n",
    "    elevation = mData['ELSTART']\n",
    "    els.append(elevation)\n",
    "    start = date_beg.utc - TimeDelta(before, format='sec') + TimeDelta(tai_offset, format='sec')\n",
    "    temp_start = date_beg.utc - TimeDelta(temp_before, format='sec') + TimeDelta(tai_offset, format='sec')\n",
    "    end = date_beg.utc + TimeDelta(tai_offset, format='sec')\n",
    "    \n",
    "    disp_off = await client.select_time_series(\"lsst.sal.ATAOS.logevent_focusOffsetSummary\", \"disperser\", start, end)\n",
    "    disp_off = disp_off.values[-1][0]\n",
    "    filter_off = await client.select_time_series(\"lsst.sal.ATAOS.logevent_focusOffsetSummary\", \"filter\", start, end)\n",
    "    filter_off = filter_off.values[-1][0]\n",
    "    user_off = await client.select_time_series(\"lsst.sal.ATAOS.logevent_focusOffsetSummary\", \"userApplied\", start, end)\n",
    "    user_off = user_off.values[-1][0]\n",
    "    total_off = await client.select_time_series(\"lsst.sal.ATAOS.logevent_focusOffsetSummary\", \"total\", start, end)\n",
    "    total_off = total_off.values[-1][0]\n",
    "    offs.append(total_off)\n",
    "    z_position = await client.select_time_series(\"lsst.sal.ATHexapod.command_moveToPosition\", \"z\", start, end)\n",
    "    z_position = z_position.values[-1][0]\n",
    "    poss.append(z_position)\n",
    "    temp_air = await client.select_time_series(\"lsst.sal.ESS.temperature4Ch\", \"temperatureC02\", start, end)\n",
    "    temp_truss = await client.select_time_series(\"lsst.sal.ESS.temperature4Ch\", \"temperatureC03\", start, end)\n",
    "    temp_m2 = await client.select_time_series(\"lsst.sal.ESS.temperature4Ch\", \"temperatureC04\", start, end)\n",
    "    temp_air = temp_air.values[-1][0]\n",
    "    temp_truss = temp_truss.values[-1][0]\n",
    "    temp_m2 = temp_m2.values[-1][0]\n",
    "    temp_ext = await client.select_time_series(\"lsst.sal.WeatherStation.airTemperature\", \"avg1M\", temp_start, end)\n",
    "    temp_ext = temp_ext.values[-1][0]\n",
    "    wind_spd = await client.select_time_series(\"lsst.sal.WeatherStation.windSpeed\", \"avg10M\", temp_start, end)\n",
    "    wind_spd = wind_spd.values[-1][0]\n",
    "    wind_dir = await client.select_time_series(\"lsst.sal.WeatherStation.windDirection\", \"avg10M\", temp_start, end)\n",
    "    wind_dir = wind_dir.values[-1][0]\n",
    "    try:\n",
    "        dimm_fwhm = await client.select_time_series(\"lsst.sal.DIMM.logevent_dimmMeasurement\", \"fwhm\", temp_start, end)\n",
    "        dimm_fwhm = dimm_fwhm.values[-1][0]\n",
    "    except:\n",
    "        dimm_fwhm = None\n",
    "    #outfile.write(f\"{expId}\\t{elevation:.4f}\\t\\t{total_off:.6f}\\t{z_position:.6f}\\t{temp_air:.2f}\\t{temp_truss:.2f}\\t{temp_m2:.2f}\\n\")\n",
    "\n",
    "    print(expId, elevation, total_off, z_position, temp_air, temp_truss, temp_m2)\n",
    "    print(disp_off, filter_off, user_off, temp_ext, wind_spd, wind_dir, dimm_fwhm)\n",
    "#outfile.close()"
   ]
  },
  {
   "cell_type": "code",
   "execution_count": null,
   "id": "f2111abd-8e33-4d36-aec5-da7b09ae9c4b",
   "metadata": {},
   "outputs": [],
   "source": [
    "fig = plt.figure(figsize = (8,6))\n",
    "plt.suptitle(f\"Focus vs Elevation - dayObs {dayObs}\", fontsize = 18)\n",
    "plt.subplots_adjust(wspace=0.5)\n",
    "plt.subplot(1,2,1)\n",
    "plt.scatter(els, offs)\n",
    "plt.xlabel(\"Elevation(Degrees)\")\n",
    "plt.ylabel(\"Focus Offset\")\n",
    "plt.subplot(1,2,2)\n",
    "plt.scatter(els, poss)\n",
    "plt.xlabel(\"Elevation(Degrees)\")\n",
    "plt.ylabel(\"Hexapod Z\")\n",
    "#plt.savefig(f\"/project/cslage/AuxTel/efd_temp/Focus_vs_Elevation_{dayObs}_03Dec21.pdf\")\n"
   ]
  },
  {
   "cell_type": "code",
   "execution_count": null,
   "id": "83e997c8-4842-413f-9722-43145a86a46f",
   "metadata": {},
   "outputs": [],
   "source": []
  }
 ],
 "metadata": {
  "kernelspec": {
   "display_name": "LSST",
   "language": "python",
   "name": "lsst"
  },
  "language_info": {
   "codemirror_mode": {
    "name": "ipython",
    "version": 3
   },
   "file_extension": ".py",
   "mimetype": "text/x-python",
   "name": "python",
   "nbconvert_exporter": "python",
   "pygments_lexer": "ipython3",
   "version": "3.10.11"
  }
 },
 "nbformat": 4,
 "nbformat_minor": 5
}
