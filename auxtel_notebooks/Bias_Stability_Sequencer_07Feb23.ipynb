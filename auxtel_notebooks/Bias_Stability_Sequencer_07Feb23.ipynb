{
 "cells": [
  {
   "cell_type": "markdown",
   "metadata": {},
   "source": [
    "# Bias wave stability\n",
    "\n",
    "Looking at the impact of sequencer changes on the bias wave\\\n",
    "and large variations at the beginning of the serial read.\\\n",
    "Craig Lage - 07-Feb-23 - Sequencer files were created by Yousuke Utsumi and Stuart Marshall"
   ]
  },
  {
   "cell_type": "code",
   "execution_count": null,
   "metadata": {
    "execution": {
     "iopub.execute_input": "2023-02-08T13:33:40.387982Z",
     "iopub.status.busy": "2023-02-08T13:33:40.387650Z",
     "iopub.status.idle": "2023-02-08T13:33:42.047802Z",
     "shell.execute_reply": "2023-02-08T13:33:42.047126Z",
     "shell.execute_reply.started": "2023-02-08T13:33:40.387964Z"
    },
    "tags": []
   },
   "outputs": [],
   "source": [
    "import numpy as np\n",
    "import matplotlib.pyplot as plt\n",
    "import astropy.io.fits as pf\n",
    "from lsst.ip.isr import IsrTask, IsrTaskConfig\n",
    "import lsst.afw.display as afwDisplay\n",
    "import lsst.geom as geom"
   ]
  },
  {
   "cell_type": "code",
   "execution_count": null,
   "metadata": {
    "execution": {
     "iopub.execute_input": "2023-02-08T13:33:42.049089Z",
     "iopub.status.busy": "2023-02-08T13:33:42.048667Z",
     "iopub.status.idle": "2023-02-08T13:33:43.201771Z",
     "shell.execute_reply": "2023-02-08T13:33:43.201125Z",
     "shell.execute_reply.started": "2023-02-08T13:33:42.049070Z"
    },
    "tags": []
   },
   "outputs": [],
   "source": [
    "from lsst.daf.butler import Butler\n",
    "butler = Butler('/repo/embargo', collections=[\"LATISS/raw/all\", \"LATISS/calib\"])"
   ]
  },
  {
   "cell_type": "markdown",
   "metadata": {},
   "source": [
    "## First, we look at the impact of the more conventional sequencer changes"
   ]
  },
  {
   "cell_type": "code",
   "execution_count": null,
   "metadata": {
    "execution": {
     "iopub.execute_input": "2023-02-08T13:33:43.202924Z",
     "iopub.status.busy": "2023-02-08T13:33:43.202747Z",
     "iopub.status.idle": "2023-02-08T13:33:43.231566Z",
     "shell.execute_reply": "2023-02-08T13:33:43.231046Z",
     "shell.execute_reply.started": "2023-02-08T13:33:43.202908Z"
    },
    "tags": []
   },
   "outputs": [],
   "source": [
    "isrConfig = IsrTaskConfig()\n",
    "isrConfig.doLinearize=False\n",
    "isrConfig.doOverscan=True\n",
    "isrConfig.doAssembleCcd=True\n",
    "isrConfig.doBias=False\n",
    "isrConfig.doVariance=True\n",
    "isrConfig.doLinearize=False\n",
    "isrConfig.doCrosstalk=False\n",
    "isrConfig.doBrighterFatter=False\n",
    "isrConfig.doDark=False\n",
    "isrConfig.doStrayLight=False\n",
    "isrConfig.doFlat=False\n",
    "isrConfig.doFringe=False\n",
    "isrConfig.doApplyGains=False\n",
    "isrConfig.doDefect=False\n",
    "isrConfig.doNanMasking=True\n",
    "isrConfig.doInterpolate=False\n",
    "isrConfig.doSaturation=False\n",
    "isrConfig.doSaturationInterpolation=False\n",
    "isrTask = IsrTask(config=isrConfig)"
   ]
  },
  {
   "cell_type": "code",
   "execution_count": null,
   "metadata": {
    "execution": {
     "iopub.execute_input": "2023-02-08T13:33:43.232503Z",
     "iopub.status.busy": "2023-02-08T13:33:43.232331Z",
     "iopub.status.idle": "2023-02-08T13:33:58.350232Z",
     "shell.execute_reply": "2023-02-08T13:33:58.349648Z",
     "shell.execute_reply.started": "2023-02-08T13:33:43.232486Z"
    },
    "tags": []
   },
   "outputs": [],
   "source": [
    "bias = butler.get('bias', detector=0, exposure=2022110800013)\n",
    "biasArr = bias.image.array\n",
    "plt.title(\"AuxTel bias stability - Amp C10\")\n",
    "names = ['Baseline','Baseline', '3 Sec', '1 ms Par delay', 'Baseline']\n",
    "for i, expId in enumerate([2022110300020, 2023020700009, 2023020700130, 2023020700150, 2023020700170]):\n",
    "    exp = butler.get('raw', detector=0, exposure=expId)\n",
    "    #biasExp = butler.get('bias', detector=0, exposure=expId)\n",
    "    isrResult = isrTask.run(exp)\n",
    "    arr = isrResult.exposure.image.array\n",
    "    plt.plot(np.mean(arr[2100:3900, 0:400], axis=0), label=f\"{expId}:{names[i]}\")\n",
    "    plt.ylim(-6,6)\n",
    "plt.plot(np.mean(biasArr[2100:3900, 0:400], axis=0), ls='--', lw=2, color='black', label=\"Master bias\")\n",
    "plt.legend(bbox_to_anchor=(0.55, 0.4))\n",
    "plt.xlabel(\"X coord (pixels)\")\n",
    "plt.ylabel(\"ADU\")\n",
    "plt.savefig(\"/home/c/cslage/u/AuxTel/isr/sequencer_tests_07feb23/Bias_Stability_Sequencer_Amp_C10.pdf\")"
   ]
  },
  {
   "cell_type": "code",
   "execution_count": null,
   "metadata": {
    "execution": {
     "iopub.execute_input": "2023-02-08T13:33:58.351635Z",
     "iopub.status.busy": "2023-02-08T13:33:58.351019Z",
     "iopub.status.idle": "2023-02-08T13:34:12.300300Z",
     "shell.execute_reply": "2023-02-08T13:34:12.299653Z",
     "shell.execute_reply.started": "2023-02-08T13:33:58.351617Z"
    },
    "tags": []
   },
   "outputs": [],
   "source": [
    "bias = butler.get('bias', detector=0, exposure=2022110800013)\n",
    "biasArr = bias.image.array\n",
    "plt.title(\"AuxTel bias stability - Amp C10\")\n",
    "plt.subplot(2,1,1)\n",
    "names = ['Baseline','Baseline', '3 Sec', '1ms Par delay', 'Baseline']\n",
    "for i, expId in enumerate([2022110300020, 2023020700009, 2023020700130, 2023020700150, 2023020700170]):\n",
    "    exp = butler.get('raw', detector=0, exposure=expId)\n",
    "    #biasExp = butler.get('bias', detector=0, exposure=expId)\n",
    "    isrResult = isrTask.run(exp)\n",
    "    arr = isrResult.exposure.image.array\n",
    "    plt.plot(np.mean(arr[2100:3900, :], axis=0), label=f\"{expId}-{names[i]}\")\n",
    "plt.ylim(-40,40)\n",
    "plt.plot(np.mean(biasArr[2100:3900, :], axis=0), ls='--', lw=2, color='black', label=\"Master bias\")\n",
    "plt.legend(bbox_to_anchor=(0.8, -0.3))\n",
    "plt.xlabel(\"X coord (pixels)\")\n",
    "plt.ylabel(\"ADU\")\n",
    "plt.xlim(475,509)\n",
    "plt.subplot(2,1,2)\n",
    "plt.axis('off')\n",
    "plt.savefig(\"/home/c/cslage/u/AuxTel/isr/sequencer_tests_07feb23/Bias_Stability_2_Sequencer_Amp_C10.pdf\")"
   ]
  },
  {
   "cell_type": "markdown",
   "metadata": {},
   "source": [
    "## Next, we look at an image with the parallel \"underscan\" and compare it to the baseline\n",
    "### For this, we need to do the serial overscan subtraction manually"
   ]
  },
  {
   "cell_type": "code",
   "execution_count": null,
   "metadata": {
    "execution": {
     "iopub.execute_input": "2023-02-08T13:34:12.301334Z",
     "iopub.status.busy": "2023-02-08T13:34:12.301141Z",
     "iopub.status.idle": "2023-02-08T13:34:12.308213Z",
     "shell.execute_reply": "2023-02-08T13:34:12.307702Z",
     "shell.execute_reply.started": "2023-02-08T13:34:12.301316Z"
    },
    "tags": []
   },
   "outputs": [],
   "source": [
    "# This is pulled out of ip_isr/overscan.py\n",
    "# It basically takes a 1D array of overscan values and \"broadcasts\"\n",
    "# then to 1 2D array that can be subtracted from the whole amp array\n",
    "def broadcastFitToImage(overscanValue, imageArray, transpose=False):\n",
    "        if isinstance(overscanValue, np.ndarray):\n",
    "            overscanModel = np.zeros_like(imageArray)\n",
    "\n",
    "            if transpose is False:\n",
    "                if imageArray.shape[0] == overscanValue.shape[0]:\n",
    "                    overscanModel[:, :] = overscanValue[:, np.newaxis]\n",
    "                elif imageArray.shape[1] == overscanValue.shape[0]:\n",
    "                    overscanModel[:, :] = overscanValue[np.newaxis, :]\n",
    "                elif imageArray.shape[0] == overscanValue.shape[1]:\n",
    "                    overscanModel[:, :] = overscanValue[np.newaxis, :]\n",
    "                else:\n",
    "                    raise RuntimeError(f\"Could not broadcast {overscanValue.shape} to \"\n",
    "                                       f\"match {imageArray.shape}\")\n",
    "            else:\n",
    "                if imageArray.shape[1] == overscanValue.shape[0]:\n",
    "                    overscanModel[:, :] = overscanValue[np.newaxis, :]\n",
    "                elif imageArray.shape[0] == overscanValue.shape[0]:\n",
    "                    overscanModel[:, :] = overscanValue[:, np.newaxis]\n",
    "                elif imageArray.shape[1] == overscanValue.shape[1]:\n",
    "                    overscanModel[:, :] = overscanValue[:, np.newaxis]\n",
    "                else:\n",
    "                    raise RuntimeError(f\"Could not broadcast {overscanValue.shape} to \"\n",
    "                                       f\"match {imageArray.shape}\")\n",
    "        else:\n",
    "            overscanModel = overscanValue\n",
    "\n",
    "        return overscanModel"
   ]
  },
  {
   "cell_type": "markdown",
   "metadata": {},
   "source": [
    "### First, we run an image with parallel underscan"
   ]
  },
  {
   "cell_type": "code",
   "execution_count": null,
   "metadata": {
    "execution": {
     "iopub.execute_input": "2023-02-08T13:34:12.309309Z",
     "iopub.status.busy": "2023-02-08T13:34:12.308885Z",
     "iopub.status.idle": "2023-02-08T13:34:13.050322Z",
     "shell.execute_reply": "2023-02-08T13:34:13.049623Z",
     "shell.execute_reply.started": "2023-02-08T13:34:12.309291Z"
    },
    "tags": []
   },
   "outputs": [],
   "source": [
    "# This subtracts the serial overscan region\n",
    "skipCols = 4 # Number of columns to skip at the front and back of the serial overscan region\n",
    "\n",
    "expId = 2023020700110 # Using parallel underscan\n",
    "exposure = butler.get('raw', detector=0, exposure=expId)\n",
    "isTransposed = False\n",
    "for amp in exposure.getDetector().getAmplifiers():\n",
    "    serialOverscanBBox = amp.getRawSerialOverscanBBox()\n",
    "    imageBBox = amp.getRawDataBBox()\n",
    "    parallelOverscanBBox = amp.getRawParallelOverscanBBox()\n",
    "    imageBBox = imageBBox.expandedTo(parallelOverscanBBox)\n",
    "\n",
    "    serialOverscanBBox = geom.Box2I(geom.Point2I(serialOverscanBBox.getMinX()+skipCols,\n",
    "                                                 imageBBox.getMinY()),\n",
    "                                    geom.Extent2I(serialOverscanBBox.getWidth()-2*skipCols,\n",
    "                                                  imageBBox.getHeight()))\n",
    "    overscan = np.nanmedian(exposure[serialOverscanBBox].image.array, axis=1)\n",
    "    imageArray = exposure[amp.getRawBBox()].image.array\n",
    "    overscanModel = broadcastFitToImage(overscan, imageArray, transpose=False)\n",
    "    exposure[amp.getRawBBox()].image.array -= overscanModel"
   ]
  },
  {
   "cell_type": "code",
   "execution_count": null,
   "metadata": {},
   "outputs": [],
   "source": []
  },
  {
   "cell_type": "code",
   "execution_count": null,
   "metadata": {
    "execution": {
     "iopub.execute_input": "2023-02-08T13:34:13.051438Z",
     "iopub.status.busy": "2023-02-08T13:34:13.051265Z",
     "iopub.status.idle": "2023-02-08T13:34:13.565648Z",
     "shell.execute_reply": "2023-02-08T13:34:13.565027Z",
     "shell.execute_reply.started": "2023-02-08T13:34:13.051421Z"
    },
    "tags": []
   },
   "outputs": [],
   "source": [
    "arr = exposure.image.array\n",
    "ymin = 2200\n",
    "ymax = 3900\n",
    "arrMedian = np.mean(arr[ymin:ymax, :], axis=0)\n",
    "fig = plt.figure(figsize=(8,8))\n",
    "plt.subplots_adjust(hspace=0.5)\n",
    "plt.suptitle(f\"With parallel underscan - {expId}\", fontsize=18)\n",
    "plt.subplot(2,2,1)\n",
    "plt.title(f\"Wave: Imaging region \\n y={ymin}:{ymax}\")\n",
    "plt.plot(arrMedian)\n",
    "plt.xlim(0,450)\n",
    "plt.ylim(-6,6)\n",
    "plt.subplot(2,2,2)\n",
    "plt.title(f\"Start of serial: Imaging region \\n y={ymin}:{ymax}\")\n",
    "plt.plot(arrMedian)\n",
    "plt.xlim(538, 572)\n",
    "plt.ylim(-40,40)\n",
    "ymin = 4050\n",
    "ymax = 4090\n",
    "arrMedian = np.mean(arr[ymin:ymax, :], axis=0)\n",
    "plt.subplot(2,2,3)\n",
    "plt.title(f\"Wave: Parallel underscan region \\n y={ymin}:{ymax}\")\n",
    "plt.plot(arrMedian)\n",
    "plt.xlim(0,450)\n",
    "plt.ylim(-6,6)\n",
    "plt.subplot(2,2,4)\n",
    "plt.title(f\"Start of serial: Parallel underscan region \\n y={ymin}:{ymax}\")\n",
    "plt.plot(arrMedian)\n",
    "plt.xlim(538, 572)\n",
    "plt.ylim(-40,40)\n",
    "plt.savefig(\"/home/c/cslage/u/AuxTel/isr/sequencer_tests_07feb23/Parallel_Underscan_Amp_C10.pdf\")"
   ]
  },
  {
   "cell_type": "markdown",
   "metadata": {},
   "source": [
    "### Next, we run an image with parallel overscan for comparison"
   ]
  },
  {
   "cell_type": "code",
   "execution_count": null,
   "metadata": {
    "execution": {
     "iopub.execute_input": "2023-02-08T13:34:13.566812Z",
     "iopub.status.busy": "2023-02-08T13:34:13.566492Z",
     "iopub.status.idle": "2023-02-08T13:34:14.108251Z",
     "shell.execute_reply": "2023-02-08T13:34:14.107581Z",
     "shell.execute_reply.started": "2023-02-08T13:34:13.566793Z"
    },
    "tags": []
   },
   "outputs": [],
   "source": [
    "# This subtracts the serial overscan region\n",
    "skipCols = 4 # Number of columns to skip at the front and back of the serial overscan region\n",
    "\n",
    "expId = 2023020700170 # Using parallel overscan\n",
    "exposure = butler.get('raw', detector=0, exposure=expId)\n",
    "isTransposed = False\n",
    "for amp in exposure.getDetector().getAmplifiers():\n",
    "    serialOverscanBBox = amp.getRawSerialOverscanBBox()\n",
    "    imageBBox = amp.getRawDataBBox()\n",
    "    parallelOverscanBBox = amp.getRawParallelOverscanBBox()\n",
    "    imageBBox = imageBBox.expandedTo(parallelOverscanBBox)\n",
    "\n",
    "    serialOverscanBBox = geom.Box2I(geom.Point2I(serialOverscanBBox.getMinX()+skipCols,\n",
    "                                                 imageBBox.getMinY()),\n",
    "                                    geom.Extent2I(serialOverscanBBox.getWidth()-2*skipCols,\n",
    "                                                  imageBBox.getHeight()))\n",
    "    overscan = np.nanmedian(exposure[serialOverscanBBox].image.array, axis=1)\n",
    "    imageArray = exposure[amp.getRawBBox()].image.array\n",
    "    overscanModel = broadcastFitToImage(overscan, imageArray, transpose=False)\n",
    "    exposure[amp.getRawBBox()].image.array -= overscanModel"
   ]
  },
  {
   "cell_type": "code",
   "execution_count": null,
   "metadata": {
    "execution": {
     "iopub.execute_input": "2023-02-08T13:41:18.589709Z",
     "iopub.status.busy": "2023-02-08T13:41:18.588850Z",
     "iopub.status.idle": "2023-02-08T13:41:19.106395Z",
     "shell.execute_reply": "2023-02-08T13:41:19.105785Z",
     "shell.execute_reply.started": "2023-02-08T13:41:18.589687Z"
    },
    "tags": []
   },
   "outputs": [],
   "source": [
    "arr = exposure.image.array\n",
    "ymin = 2200\n",
    "ymax = 3900\n",
    "arrMedian = np.mean(arr[ymin:ymax, :], axis=0)\n",
    "fig = plt.figure(figsize=(8,8))\n",
    "plt.subplots_adjust(hspace=0.5)\n",
    "plt.suptitle(f\"With parallel overscan - {expId}\", fontsize=18)\n",
    "plt.subplot(2,2,1)\n",
    "plt.title(f\"Wave: Imaging region \\n y={ymin}:{ymax}\")\n",
    "plt.plot(arrMedian)\n",
    "plt.xlim(0,450)\n",
    "plt.ylim(-6,6)\n",
    "plt.subplot(2,2,2)\n",
    "plt.title(f\"Start of serial: Imaging region \\n y={ymin}:{ymax}\")\n",
    "plt.plot(arrMedian)\n",
    "plt.xlim(538, 572)\n",
    "plt.ylim(-40,40)\n",
    "ymin = 2050\n",
    "ymax = 2090\n",
    "arrMedian = np.mean(arr[ymin:ymax, :], axis=0)\n",
    "plt.subplot(2,2,3)\n",
    "plt.title(f\"Wave: Parallel overscan region \\n y={ymin}:{ymax}\")\n",
    "plt.plot(arrMedian)\n",
    "plt.xlim(0,450)\n",
    "plt.ylim(-6,6)\n",
    "plt.subplot(2,2,4)\n",
    "plt.title(f\"Start of serial: Parallel overscan region \\n y={ymin}:{ymax}\")\n",
    "plt.plot(arrMedian)\n",
    "plt.xlim(538, 572)\n",
    "plt.ylim(-40,40)\n",
    "plt.savefig(\"/home/c/cslage/u/AuxTel/isr/sequencer_tests_07feb23/Parallel_Overscan_Amp_C10.pdf\")"
   ]
  },
  {
   "cell_type": "code",
   "execution_count": null,
   "metadata": {
    "execution": {
     "iopub.execute_input": "2023-02-08T15:24:35.758670Z",
     "iopub.status.busy": "2023-02-08T15:24:35.758186Z",
     "iopub.status.idle": "2023-02-08T15:24:35.762448Z",
     "shell.execute_reply": "2023-02-08T15:24:35.761986Z",
     "shell.execute_reply.started": "2023-02-08T15:24:35.758649Z"
    },
    "tags": []
   },
   "outputs": [],
   "source": [
    "for amp in exposure.getDetector().getAmplifiers():\n",
    "    if amp.getName() == 'C11':\n",
    "        print(amp.getRawBBox(),amp.getRawParallelOverscanBBox(),amp.getRawSerialOverscanBBox())\n",
    "    else:\n",
    "        continue"
   ]
  },
  {
   "cell_type": "code",
   "execution_count": null,
   "metadata": {},
   "outputs": [],
   "source": []
  },
  {
   "cell_type": "markdown",
   "metadata": {},
   "source": [
    "### First, we run an image with parallel underscan"
   ]
  },
  {
   "cell_type": "code",
   "execution_count": null,
   "metadata": {
    "execution": {
     "iopub.execute_input": "2023-02-08T15:26:18.088440Z",
     "iopub.status.busy": "2023-02-08T15:26:18.088109Z",
     "iopub.status.idle": "2023-02-08T15:26:18.727089Z",
     "shell.execute_reply": "2023-02-08T15:26:18.726360Z",
     "shell.execute_reply.started": "2023-02-08T15:26:18.088420Z"
    },
    "tags": []
   },
   "outputs": [],
   "source": [
    "# This subtracts the serial overscan region\n",
    "skipCols = 4 # Number of columns to skip at the front and back of the serial overscan region\n",
    "\n",
    "expId = 2023020700110 # Using parallel underscan\n",
    "exposure = butler.get('raw', detector=0, exposure=expId)\n",
    "isTransposed = False\n",
    "for amp in exposure.getDetector().getAmplifiers():\n",
    "    serialOverscanBBox = amp.getRawSerialOverscanBBox()\n",
    "    imageBBox = amp.getRawDataBBox()\n",
    "    parallelOverscanBBox = amp.getRawParallelOverscanBBox()\n",
    "    imageBBox = imageBBox.expandedTo(parallelOverscanBBox)\n",
    "\n",
    "    serialOverscanBBox = geom.Box2I(geom.Point2I(serialOverscanBBox.getMinX()+skipCols,\n",
    "                                                 imageBBox.getMinY()),\n",
    "                                    geom.Extent2I(serialOverscanBBox.getWidth()-2*skipCols,\n",
    "                                                  imageBBox.getHeight()))\n",
    "    overscan = np.nanmedian(exposure[serialOverscanBBox].image.array, axis=1)\n",
    "    imageArray = exposure[amp.getRawBBox()].image.array\n",
    "    overscanModel = broadcastFitToImage(overscan, imageArray, transpose=False)\n",
    "    exposure[amp.getRawBBox()].image.array -= overscanModel"
   ]
  },
  {
   "cell_type": "code",
   "execution_count": null,
   "metadata": {},
   "outputs": [],
   "source": []
  },
  {
   "cell_type": "code",
   "execution_count": null,
   "metadata": {
    "execution": {
     "iopub.execute_input": "2023-02-08T15:27:51.136332Z",
     "iopub.status.busy": "2023-02-08T15:27:51.135541Z",
     "iopub.status.idle": "2023-02-08T15:27:51.685186Z",
     "shell.execute_reply": "2023-02-08T15:27:51.684523Z",
     "shell.execute_reply.started": "2023-02-08T15:27:51.136308Z"
    },
    "tags": []
   },
   "outputs": [],
   "source": [
    "arr = exposure.image.array\n",
    "ymin = 2200\n",
    "ymax = 3900\n",
    "arrMedian = np.mean(arr[ymin:ymax, :], axis=0)\n",
    "fig = plt.figure(figsize=(8,8))\n",
    "plt.subplots_adjust(hspace=0.5)\n",
    "plt.suptitle(f\"With parallel underscan - {expId}\", fontsize=18)\n",
    "plt.subplot(2,2,1)\n",
    "plt.title(f\"Wave: Imaging region \\n y={ymin}:{ymax}\")\n",
    "plt.plot(arrMedian)\n",
    "plt.xlim(0+576,450+576)\n",
    "plt.ylim(-10,10)\n",
    "plt.subplot(2,2,2)\n",
    "plt.title(f\"Start of serial: Imaging region \\n y={ymin}:{ymax}\")\n",
    "plt.plot(arrMedian)\n",
    "plt.xlim(538+576, 572+576)\n",
    "plt.ylim(-40,40)\n",
    "ymin = 4050\n",
    "ymax = 4090\n",
    "arrMedian = np.mean(arr[ymin:ymax, :], axis=0)\n",
    "plt.subplot(2,2,3)\n",
    "plt.title(f\"Wave: Parallel underscan region \\n y={ymin}:{ymax}\")\n",
    "plt.plot(arrMedian)\n",
    "plt.xlim(0+576,450+576)\n",
    "plt.ylim(-10,10)\n",
    "plt.subplot(2,2,4)\n",
    "plt.title(f\"Start of serial: Parallel underscan region \\n y={ymin}:{ymax}\")\n",
    "plt.plot(arrMedian)\n",
    "plt.xlim(538+576, 572+576)\n",
    "plt.ylim(-40,40)\n",
    "plt.savefig(\"/home/c/cslage/u/AuxTel/isr/sequencer_tests_07feb23/Parallel_Underscan_Amp_C11.pdf\")"
   ]
  },
  {
   "cell_type": "markdown",
   "metadata": {},
   "source": [
    "### Next, we run an image with parallel overscan for comparison"
   ]
  },
  {
   "cell_type": "code",
   "execution_count": null,
   "metadata": {
    "execution": {
     "iopub.execute_input": "2023-02-08T15:28:02.554404Z",
     "iopub.status.busy": "2023-02-08T15:28:02.554004Z",
     "iopub.status.idle": "2023-02-08T15:28:03.206667Z",
     "shell.execute_reply": "2023-02-08T15:28:03.205961Z",
     "shell.execute_reply.started": "2023-02-08T15:28:02.554373Z"
    },
    "tags": []
   },
   "outputs": [],
   "source": [
    "# This subtracts the serial overscan region\n",
    "skipCols = 4 # Number of columns to skip at the front and back of the serial overscan region\n",
    "\n",
    "expId = 2023020700170 # Using parallel overscan\n",
    "exposure = butler.get('raw', detector=0, exposure=expId)\n",
    "isTransposed = False\n",
    "for amp in exposure.getDetector().getAmplifiers():\n",
    "    serialOverscanBBox = amp.getRawSerialOverscanBBox()\n",
    "    imageBBox = amp.getRawDataBBox()\n",
    "    parallelOverscanBBox = amp.getRawParallelOverscanBBox()\n",
    "    imageBBox = imageBBox.expandedTo(parallelOverscanBBox)\n",
    "\n",
    "    serialOverscanBBox = geom.Box2I(geom.Point2I(serialOverscanBBox.getMinX()+skipCols,\n",
    "                                                 imageBBox.getMinY()),\n",
    "                                    geom.Extent2I(serialOverscanBBox.getWidth()-2*skipCols,\n",
    "                                                  imageBBox.getHeight()))\n",
    "    overscan = np.nanmedian(exposure[serialOverscanBBox].image.array, axis=1)\n",
    "    imageArray = exposure[amp.getRawBBox()].image.array\n",
    "    overscanModel = broadcastFitToImage(overscan, imageArray, transpose=False)\n",
    "    exposure[amp.getRawBBox()].image.array -= overscanModel"
   ]
  },
  {
   "cell_type": "code",
   "execution_count": null,
   "metadata": {
    "execution": {
     "iopub.execute_input": "2023-02-08T15:28:59.050620Z",
     "iopub.status.busy": "2023-02-08T15:28:59.050242Z",
     "iopub.status.idle": "2023-02-08T15:28:59.583840Z",
     "shell.execute_reply": "2023-02-08T15:28:59.583185Z",
     "shell.execute_reply.started": "2023-02-08T15:28:59.050601Z"
    },
    "tags": []
   },
   "outputs": [],
   "source": [
    "arr = exposure.image.array\n",
    "ymin = 2200\n",
    "ymax = 3900\n",
    "arrMedian = np.mean(arr[ymin:ymax, :], axis=0)\n",
    "fig = plt.figure(figsize=(8,8))\n",
    "plt.subplots_adjust(hspace=0.5)\n",
    "plt.suptitle(f\"With parallel overscan - {expId}\", fontsize=18)\n",
    "plt.subplot(2,2,1)\n",
    "plt.title(f\"Wave: Imaging region \\n y={ymin}:{ymax}\")\n",
    "plt.plot(arrMedian)\n",
    "plt.xlim(0+576,450+576)\n",
    "plt.ylim(-10,10)\n",
    "plt.subplot(2,2,2)\n",
    "plt.title(f\"Start of serial: Imaging region \\n y={ymin}:{ymax}\")\n",
    "plt.plot(arrMedian)\n",
    "plt.xlim(538+576, 572+576)\n",
    "plt.ylim(-40,40)\n",
    "ymin = 2050\n",
    "ymax = 2090\n",
    "arrMedian = np.mean(arr[ymin:ymax, :], axis=0)\n",
    "plt.subplot(2,2,3)\n",
    "plt.title(f\"Wave: Parallel overscan region \\n y={ymin}:{ymax}\")\n",
    "plt.plot(arrMedian)\n",
    "plt.xlim(0+576,450+576)\n",
    "plt.ylim(-10,10)\n",
    "plt.subplot(2,2,4)\n",
    "plt.title(f\"Start of serial: Parallel overscan region \\n y={ymin}:{ymax}\")\n",
    "plt.plot(arrMedian)\n",
    "plt.xlim(538+576, 572+576)\n",
    "plt.ylim(-40,40)\n",
    "plt.savefig(\"/home/c/cslage/u/AuxTel/isr/sequencer_tests_07feb23/Parallel_Overscan_Amp_C11.pdf\")"
   ]
  },
  {
   "cell_type": "code",
   "execution_count": null,
   "metadata": {
    "execution": {
     "iopub.execute_input": "2023-02-08T16:27:01.532785Z",
     "iopub.status.busy": "2023-02-08T16:27:01.532443Z",
     "iopub.status.idle": "2023-02-08T16:27:02.167174Z",
     "shell.execute_reply": "2023-02-08T16:27:02.166508Z",
     "shell.execute_reply.started": "2023-02-08T16:27:01.532768Z"
    },
    "tags": []
   },
   "outputs": [],
   "source": [
    "# This subtracts the serial overscan region\n",
    "skipCols = 4 # Number of columns to skip at the front and back of the serial overscan region\n",
    "\n",
    "expId = 2023020700110 # Using parallel underscan\n",
    "exposure = butler.get('raw', detector=0, exposure=expId)\n",
    "isTransposed = False\n",
    "for amp in exposure.getDetector().getAmplifiers():\n",
    "    serialOverscanBBox = amp.getRawSerialOverscanBBox()\n",
    "    imageBBox = amp.getRawDataBBox()\n",
    "    parallelOverscanBBox = amp.getRawParallelOverscanBBox()\n",
    "    imageBBox = imageBBox.expandedTo(parallelOverscanBBox)\n",
    "\n",
    "    serialOverscanBBox = geom.Box2I(geom.Point2I(serialOverscanBBox.getMinX()+skipCols,\n",
    "                                                 imageBBox.getMinY()),\n",
    "                                    geom.Extent2I(serialOverscanBBox.getWidth()-2*skipCols,\n",
    "                                                  imageBBox.getHeight()))\n",
    "    overscan = np.nanmedian(exposure[serialOverscanBBox].image.array, axis=1)\n",
    "    imageArray = exposure[amp.getRawBBox()].image.array\n",
    "    overscanModel = broadcastFitToImage(overscan, imageArray, transpose=False)\n",
    "    exposure[amp.getRawBBox()].image.array -= overscanModel"
   ]
  },
  {
   "cell_type": "code",
   "execution_count": null,
   "metadata": {},
   "outputs": [],
   "source": []
  },
  {
   "cell_type": "code",
   "execution_count": null,
   "metadata": {
    "execution": {
     "iopub.execute_input": "2023-02-08T16:31:47.309009Z",
     "iopub.status.busy": "2023-02-08T16:31:47.308689Z",
     "iopub.status.idle": "2023-02-08T16:31:48.076168Z",
     "shell.execute_reply": "2023-02-08T16:31:48.075645Z",
     "shell.execute_reply.started": "2023-02-08T16:31:47.308991Z"
    },
    "tags": []
   },
   "outputs": [],
   "source": [
    "arr = exposure.image.array\n",
    "ymin = 2200\n",
    "ymax = 3900\n",
    "arrMedian = np.mean(arr[ymin:ymax, :], axis=0)\n",
    "fig = plt.figure(figsize=(8,12))\n",
    "plt.subplots_adjust(hspace=0.5)\n",
    "plt.suptitle(f\"With parallel underscan - {expId}\", fontsize=18)\n",
    "plt.subplot(3,2,1)\n",
    "plt.title(f\"Wave: Imaging region \\n y={ymin}:{ymax}\")\n",
    "plt.plot(arrMedian)\n",
    "plt.xlim(0,450)\n",
    "plt.ylim(-6,6)\n",
    "plt.subplot(3,2,2)\n",
    "plt.title(f\"Start of serial: Imaging region \\n y={ymin}:{ymax}\")\n",
    "plt.plot(arrMedian)\n",
    "plt.xlim(538, 572)\n",
    "plt.ylim(-40,40)\n",
    "ymin = 2050\n",
    "ymax = 2085\n",
    "arrMedian = np.mean(arr[ymin:ymax, :], axis=0)\n",
    "plt.subplot(3,2,3)\n",
    "plt.title(f\"Wave: Parallel overscan region \\n y={ymin}:{ymax}\")\n",
    "plt.plot(arrMedian)\n",
    "plt.xlim(0,450)\n",
    "plt.ylim(-6,6)\n",
    "plt.subplot(3,2,4)\n",
    "plt.title(f\"Start of serial: Parallel overscan region \\n y={ymin}:{ymax}\")\n",
    "plt.plot(arrMedian)\n",
    "plt.xlim(538, 572)\n",
    "plt.ylim(-40,40)\n",
    "ymin = 4087\n",
    "ymax = 4094\n",
    "arrMedian = np.mean(arr[ymin:ymax, :], axis=0)\n",
    "plt.subplot(3,2,5)\n",
    "plt.title(f\"Wave: Parallel underscan region \\n y={ymin}:{ymax}\")\n",
    "plt.plot(arrMedian)\n",
    "plt.xlim(0,450)\n",
    "plt.ylim(-6,6)\n",
    "plt.subplot(3,2,6)\n",
    "plt.title(f\"Start of serial: Parallel underscan region \\n y={ymin}:{ymax}\")\n",
    "plt.plot(arrMedian)\n",
    "plt.xlim(538, 572)\n",
    "plt.ylim(-40,40)\n",
    "plt.savefig(\"/home/c/cslage/u/AuxTel/isr/sequencer_tests_07feb23/Parallel_Underscan_Corrected_Amp_C10.pdf\")"
   ]
  },
  {
   "cell_type": "code",
   "execution_count": null,
   "metadata": {
    "execution": {
     "iopub.execute_input": "2023-02-08T16:42:12.677191Z",
     "iopub.status.busy": "2023-02-08T16:42:12.676809Z",
     "iopub.status.idle": "2023-02-08T16:42:13.476237Z",
     "shell.execute_reply": "2023-02-08T16:42:13.475700Z",
     "shell.execute_reply.started": "2023-02-08T16:42:12.677170Z"
    },
    "tags": []
   },
   "outputs": [],
   "source": [
    "arr = exposure.image.array\n",
    "ymin = 2200\n",
    "ymax = 3900\n",
    "arrMedian = np.mean(arr[ymin:ymax, :], axis=0)\n",
    "fig = plt.figure(figsize=(8,12))\n",
    "plt.subplots_adjust(hspace=0.5)\n",
    "plt.suptitle(f\"With parallel underscan - {expId}\", fontsize=18)\n",
    "plt.subplot(3,2,1)\n",
    "plt.title(f\"Wave: Imaging region \\n y={ymin}:{ymax}\")\n",
    "plt.plot(arrMedian)\n",
    "plt.xlim(0+576,450+576)\n",
    "plt.ylim(-6,10)\n",
    "plt.subplot(3,2,2)\n",
    "plt.title(f\"Start of serial: Imaging region \\n y={ymin}:{ymax}\")\n",
    "plt.plot(arrMedian)\n",
    "plt.xlim(538+576, 572+576)\n",
    "plt.ylim(-40,40)\n",
    "ymin = 2050\n",
    "ymax = 2085\n",
    "arrMedian = np.mean(arr[ymin:ymax, :], axis=0)\n",
    "plt.subplot(3,2,3)\n",
    "plt.title(f\"Wave: Parallel overscan region \\n y={ymin}:{ymax}\")\n",
    "plt.plot(arrMedian)\n",
    "plt.xlim(0+576,450+576)\n",
    "plt.ylim(-6,10)\n",
    "plt.subplot(3,2,4)\n",
    "plt.title(f\"Start of serial: Parallel overscan region \\n y={ymin}:{ymax}\")\n",
    "plt.plot(arrMedian)\n",
    "plt.xlim(538+576, 572+576)\n",
    "plt.ylim(-40,40)\n",
    "ymin = 4087\n",
    "ymax = 4094\n",
    "arrMedian = np.mean(arr[ymin:ymax, :], axis=0)\n",
    "plt.subplot(3,2,5)\n",
    "plt.title(f\"Wave: Parallel underscan region \\n y={ymin}:{ymax}\")\n",
    "plt.plot(arrMedian)\n",
    "plt.xlim(0+576,450+576)\n",
    "plt.ylim(-6,10)\n",
    "plt.subplot(3,2,6)\n",
    "plt.title(f\"Start of serial: Parallel underscan region \\n y={ymin}:{ymax}\")\n",
    "plt.plot(arrMedian)\n",
    "plt.xlim(538+576, 572+576)\n",
    "plt.ylim(-40,40)\n",
    "plt.savefig(\"/home/c/cslage/u/AuxTel/isr/sequencer_tests_07feb23/Parallel_Underscan_Corrected_Amp_C11.pdf\")"
   ]
  },
  {
   "cell_type": "code",
   "execution_count": null,
   "metadata": {},
   "outputs": [],
   "source": []
  }
 ],
 "metadata": {
  "kernelspec": {
   "display_name": "LSST",
   "language": "python",
   "name": "lsst"
  },
  "language_info": {
   "codemirror_mode": {
    "name": "ipython",
    "version": 3
   },
   "file_extension": ".py",
   "mimetype": "text/x-python",
   "name": "python",
   "nbconvert_exporter": "python",
   "pygments_lexer": "ipython3",
   "version": "3.10.8"
  }
 },
 "nbformat": 4,
 "nbformat_minor": 4
}
