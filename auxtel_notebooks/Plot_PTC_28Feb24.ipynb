{
 "cells": [
  {
   "cell_type": "markdown",
   "id": "e8cc3a14-f377-44f4-ab4c-97c9c3047697",
   "metadata": {},
   "source": [
    "# AuxTel PTC plots with longer exposure times.\n",
    "\n",
    "Craig Lage 28-Feb-24"
   ]
  },
  {
   "cell_type": "code",
   "execution_count": null,
   "id": "a148b369-8943-4861-a51e-9cbeea70feb3",
   "metadata": {
    "execution": {
     "iopub.execute_input": "2024-02-28T10:30:14.970802Z",
     "iopub.status.busy": "2024-02-28T10:30:14.970477Z",
     "iopub.status.idle": "2024-02-28T10:30:18.834953Z",
     "shell.execute_reply": "2024-02-28T10:30:18.834490Z",
     "shell.execute_reply.started": "2024-02-28T10:30:14.970782Z"
    },
    "tags": []
   },
   "outputs": [],
   "source": [
    "import numpy as np\n",
    "from matplotlib import pyplot as plt\n",
    "\n",
    "from lsst.daf.butler import Butler\n",
    "from lsst.ip.isr import IsrTask, IsrTaskConfig\n",
    "from mpl_toolkits.axes_grid1 import make_axes_locatable\n",
    "from matplotlib.colors import LogNorm\n",
    "from lsst.cp.pipe.ptc import PlotPhotonTransferCurveTask, PlotPhotonTransferCurveConfig\n",
    "%matplotlib inline\n",
    "from IPython.display import Image, display\n"
   ]
  },
  {
   "cell_type": "code",
   "execution_count": null,
   "id": "2f12b734-56f1-4679-a6a9-7507a05efe28",
   "metadata": {
    "execution": {
     "iopub.execute_input": "2024-02-28T10:31:10.112061Z",
     "iopub.status.busy": "2024-02-28T10:31:10.111756Z",
     "iopub.status.idle": "2024-02-28T10:31:10.676455Z",
     "shell.execute_reply": "2024-02-28T10:31:10.676004Z",
     "shell.execute_reply.started": "2024-02-28T10:31:10.112041Z"
    },
    "tags": []
   },
   "outputs": [],
   "source": [
    "# To save them\n",
    "plotButler = Butler(\"/repo/embargo\", collections=[\"u/cslage/sdf/latiss/ptc_20240228\"])\n",
    "detector=0\n",
    "plotNames = ['ptcVarMean', 'ptcVarMeanLog']\n",
    "for plotName in plotNames:\n",
    "    ref = plotButler.registry.findDataset(plotName, detector=detector)\n",
    "    filename = f\"/home/c/cslage/u/AuxTel/gains/{plotName}_20240228.png\"\n",
    "    uri = plotButler.getURI(ref)\n",
    "    with open(filename, \"wb\") as f:\n",
    "        f.write(uri.read())\n"
   ]
  },
  {
   "cell_type": "code",
   "execution_count": null,
   "id": "7d2f547c-3b33-4dba-93e5-60e469ccd78f",
   "metadata": {
    "execution": {
     "iopub.execute_input": "2024-02-28T10:30:23.864495Z",
     "iopub.status.busy": "2024-02-28T10:30:23.864154Z",
     "iopub.status.idle": "2024-02-28T10:30:24.703425Z",
     "shell.execute_reply": "2024-02-28T10:30:24.703058Z",
     "shell.execute_reply.started": "2024-02-28T10:30:23.864477Z"
    },
    "tags": []
   },
   "outputs": [],
   "source": [
    "# Just to view them\n",
    "plotButler = Butler(\"/repo/embargo\", collections=[\"u/cslage/sdf/latiss/ptc_20240228\"])\n",
    "detector=0\n",
    "plotNames = ['ptcVarMean', 'ptcVarMeanLog']\n",
    "for plotName in plotNames:\n",
    "    ref = plotButler.registry.findDataset(plotName, detector=detector)\n",
    "    uri = plotButler.getURI(ref)\n",
    "    display(Image(data=uri.read()))\n"
   ]
  },
  {
   "cell_type": "code",
   "execution_count": null,
   "id": "9189949f-b38a-4e04-bb25-f428a5775c5a",
   "metadata": {
    "execution": {
     "iopub.execute_input": "2024-02-28T10:32:51.392842Z",
     "iopub.status.busy": "2024-02-28T10:32:51.392556Z",
     "iopub.status.idle": "2024-02-28T10:32:51.991737Z",
     "shell.execute_reply": "2024-02-28T10:32:51.991214Z",
     "shell.execute_reply.started": "2024-02-28T10:32:51.392828Z"
    },
    "tags": []
   },
   "outputs": [],
   "source": [
    "# Get the PTC data\n",
    "ptcButler = Butler(\"/repo/embargo\", collections=[\"u/cslage/sdf/latiss/ptc_20240228\"])\n",
    "ptc = ptcButler.get('ptc', instrument=\"LATISS\", detector=0)\n"
   ]
  },
  {
   "cell_type": "code",
   "execution_count": null,
   "id": "6bdcb4d4-eed9-488e-9a52-f327954c8a6d",
   "metadata": {
    "execution": {
     "iopub.execute_input": "2024-02-28T10:32:52.873060Z",
     "iopub.status.busy": "2024-02-28T10:32:52.872761Z",
     "iopub.status.idle": "2024-02-28T10:32:52.876607Z",
     "shell.execute_reply": "2024-02-28T10:32:52.876164Z",
     "shell.execute_reply.started": "2024-02-28T10:32:52.873044Z"
    },
    "tags": []
   },
   "outputs": [],
   "source": [
    "ptc.rawExpTimes['C10']"
   ]
  },
  {
   "cell_type": "code",
   "execution_count": null,
   "id": "9fa9e4fd-26b7-49d4-bbbd-76bf1657e204",
   "metadata": {
    "execution": {
     "iopub.execute_input": "2024-02-28T10:32:54.658066Z",
     "iopub.status.busy": "2024-02-28T10:32:54.657762Z",
     "iopub.status.idle": "2024-02-28T10:32:54.661589Z",
     "shell.execute_reply": "2024-02-28T10:32:54.661213Z",
     "shell.execute_reply.started": "2024-02-28T10:32:54.658051Z"
    },
    "tags": []
   },
   "outputs": [],
   "source": [
    "ptc.getExpIdsUsed('C10')"
   ]
  },
  {
   "cell_type": "code",
   "execution_count": null,
   "id": "dd5af289-02ec-4c4a-aa48-4277dd512756",
   "metadata": {},
   "outputs": [],
   "source": []
  }
 ],
 "metadata": {
  "kernelspec": {
   "display_name": "LSST",
   "language": "python",
   "name": "lsst"
  },
  "language_info": {
   "codemirror_mode": {
    "name": "ipython",
    "version": 3
   },
   "file_extension": ".py",
   "mimetype": "text/x-python",
   "name": "python",
   "nbconvert_exporter": "python",
   "pygments_lexer": "ipython3",
   "version": "3.11.7"
  },
  "toc-autonumbering": false,
  "toc-showcode": false,
  "toc-showmarkdowntxt": true
 },
 "nbformat": 4,
 "nbformat_minor": 5
}
