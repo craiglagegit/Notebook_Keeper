{
 "cells": [
  {
   "cell_type": "markdown",
   "metadata": {},
   "source": [
    "## AuxTel Image elongation due to azimuth oscillation\n",
    "\n",
    "Craig Lage 17-Mar-22"
   ]
  },
  {
   "cell_type": "code",
   "execution_count": null,
   "metadata": {},
   "outputs": [],
   "source": [
    "import sys, time, os, asyncio, glob\n",
    "from datetime import datetime\n",
    "import numpy as np\n",
    "import matplotlib.pyplot as plt\n",
    "from matplotlib.colors import LogNorm\n",
    "from scipy.stats import linregress\n",
    "import pickle as pkl\n",
    "from astropy.time import Time, TimeDelta\n",
    "from astropy.coordinates import AltAz, ICRS, EarthLocation, Angle, FK5\n",
    "import astropy.units as u\n",
    "from lsst.obs.lsst.translators.latiss import AUXTEL_LOCATION\n",
    "from lsst.daf.butler import Butler\n",
    "from lsst_efd_client import EfdClient\n",
    "from lsst.pipe.tasks.characterizeImage import CharacterizeImageTask, CharacterizeImageConfig"
   ]
  },
  {
   "cell_type": "code",
   "execution_count": null,
   "metadata": {},
   "outputs": [],
   "source": [
    "# Get EFD client and the butler\n",
    "client = EfdClient('ldf_stable_efd')\n",
    "butler = Butler('/repo/main', collections=\"LATISS/runs/quickLook\")"
   ]
  },
  {
   "cell_type": "code",
   "execution_count": null,
   "metadata": {},
   "outputs": [],
   "source": [
    "# Gen3 butler - get the observations from a given night\n",
    "dayObs = '2022-04-07'\n",
    "dayObs = int(dayObs.replace('-', ''))\n",
    "\n",
    "exposureList = []\n",
    "for record in butler.registry.queryDimensionRecords(\"exposure\", where=\"exposure.day_obs=%d\"%dayObs):\n",
    "    exposureList.append([record.id, record])\n",
    "exposureList.sort(key=lambda x: x[0])\n",
    "FWHM_list = []\n",
    "for [id,record] in exposureList:\n",
    "    #print(record.id, record.observation_type, record.exposure_time, record.physical_filter, record.target_name)\n",
    "    type = record.observation_type\n",
    "    grating = record.physical_filter.split('~')[1]\n",
    "    if type == 'science' and grating == 'empty':\n",
    "        FWHM_list.append(record.id)\n",
    "print(len(FWHM_list), \"images will be characterized\")"
   ]
  },
  {
   "cell_type": "code",
   "execution_count": null,
   "metadata": {},
   "outputs": [],
   "source": [
    "# Set up the source catalog task\n",
    "charConfig = CharacterizeImageConfig()\n",
    "charConfig.doMeasurePsf = False\n",
    "charConfig.doApCorr = False\n",
    "charConfig.doDeblend = False\n",
    "charConfig.repair.doCosmicRay = True\n",
    "charConfig.repair.doInterpolate = True   \n",
    "charConfig.detection.minPixels = 500\n",
    "charTask = CharacterizeImageTask(config=charConfig)"
   ]
  },
  {
   "cell_type": "code",
   "execution_count": null,
   "metadata": {},
   "outputs": [],
   "source": [
    "def RotatedMoments(Ixx, Iyy, Ixy, theta):\n",
    "    # Rotates the moments about an angle theta.\n",
    "    # Formulae are from the Sextractor documentation\n",
    "    # https://sextractor.readthedocs.io/en/latest/Position.html\\\n",
    "    # ?highlight=shape#basic-shape-parameters-a-b-theta\n",
    "    c = np.cos(theta)\n",
    "    s = np.sin(theta)\n",
    "    IxxRot = c * c * Ixx + s * s * Iyy - 2.0 * c * s * Ixy\n",
    "    IyyRot = s * s * Ixx + c * c * Iyy + 2.0 * c * s * Ixy\n",
    "    IxyRot = c * s * (Ixx - Iyy) + (c * c - s * s) * Ixy\n",
    "    return [IxxRot, IyyRot, IxyRot] "
   ]
  },
  {
   "cell_type": "code",
   "execution_count": null,
   "metadata": {
    "tags": []
   },
   "outputs": [],
   "source": [
    "# Now get the image data and calculate the median FWHM\n",
    "data = {}\n",
    "for i, expId in enumerate(FWHM_list):\n",
    "    #if i%10 != 0:\n",
    "    #    continue\n",
    "    try:\n",
    "        expData = {}\n",
    "        exp = butler.get('quickLookExp', detector=0, exposure=expId)\n",
    "        mData = exp.getMetadata()\n",
    "        charResult = charTask.run(exp)\n",
    "        sourceCatalog = charResult.sourceCat\n",
    "        rotpa = Angle(mData['ROTPA'] * u.deg)\n",
    "        el = Angle(mData['ELSTART'] * u.deg)\n",
    "        az = Angle(mData['AZSTART'] * u.deg)\n",
    "        dec = Angle(mData['DECSTART'] * u.deg)\n",
    "        lat = AUXTEL_LOCATION.lat\n",
    "        # This calculates the angle theta between (X,Y) and (Az,El)\n",
    "        sinTheta =  np.cos(lat) / np.cos(dec) * np.sin(az)\n",
    "        cosTheta = (np.sin(el) * np.sin(dec) - np.sin(lat)) / (np.cos(el) * np.cos(dec))\n",
    "        theta = Angle(np.arcsin(sinTheta))\n",
    "        # The following removes the ambiguity in arcsin(theta)\n",
    "        if cosTheta > 0:\n",
    "            rotAzEl = rotpa - theta\n",
    "        else:    \n",
    "            rotAzEl = rotpa - (Angle(180.0 * u.deg) - theta)\n",
    "        date_beg = Time(mData['DATE-BEG'], format='isot', scale='tai')\n",
    "        time = date_beg.utc\n",
    "        Ixx = sourceCatalog.getIxx()\n",
    "        Iyy = sourceCatalog.getIyy()\n",
    "        Ixy = sourceCatalog.getIxy()\n",
    "        Ip = (Ixx + Iyy) / 2.0\n",
    "        Im = (Ixx - Iyy) / 2.0\n",
    "        A2 = Ip + np.sqrt(Im**2 + Ixy**2)\n",
    "        B2 = Ip - np.sqrt(Im**2 + Ixy**2)\n",
    "        [Iaa, Iee, Iae] = RotatedMoments(Ixx, Iyy, Ixy, rotAzEl)\n",
    "        FWHM_x = 2.35 * np.sqrt(Ixx) \n",
    "        FWHM_y = 2.35 * np.sqrt(Iyy) \n",
    "        FWHM_az = 2.35 * np.sqrt(Iaa) \n",
    "        FWHM_el = 2.35 * np.sqrt(Iee) \n",
    "        FWHM_a = 2.35 * np.sqrt(A2) \n",
    "        FWHM_b = 2.35 * np.sqrt(B2) \n",
    "        expData['Time'] = time.isot\n",
    "        expData['FWHM_x'] = np.median(FWHM_x)\n",
    "        expData['FWHM_y'] = np.median(FWHM_y)\n",
    "        expData['FWHM_az'] = np.median(FWHM_az)\n",
    "        expData['FWHM_el'] = np.median(FWHM_el)\n",
    "        expData['FWHM_a'] = np.median(FWHM_a)\n",
    "        expData['FWHM_b'] = np.median(FWHM_b)\n",
    "        data[expId] = expData\n",
    "    except:\n",
    "        continue\n",
    "outfile = open(f'/project/cslage/AuxTel/fwhm/FWHM_New_{dayObs}.pkl', 'wb')\n",
    "pkl.dump(data,outfile)\n",
    "outfile.close()"
   ]
  },
  {
   "cell_type": "code",
   "execution_count": null,
   "metadata": {},
   "outputs": [],
   "source": [
    "# Now unpickle the data and plot against the DIMM data"
   ]
  },
  {
   "cell_type": "code",
   "execution_count": null,
   "metadata": {},
   "outputs": [],
   "source": [
    "dayObs = 20220316\n",
    "infile = open(f'/project/cslage/AuxTel/fwhm/FWHM_New_{dayObs}.pkl','rb')\n",
    "data = pkl.load(infile)\n",
    "infile.close()\n",
    "print(len(data), \"observations\")"
   ]
  },
  {
   "cell_type": "code",
   "execution_count": null,
   "metadata": {},
   "outputs": [],
   "source": [
    "times = []\n",
    "fwhmx = []\n",
    "fwhmy = []\n",
    "fwhmaz = []\n",
    "fwhmel = []\n",
    "fwhma = []\n",
    "fwhmb = []\n",
    "for expId in data.keys():\n",
    "    times.append(Time(data[expId]['Time']).to_datetime())\n",
    "    fwhmx.append(data[expId]['FWHM_x'])\n",
    "    fwhmy.append(data[expId]['FWHM_y'])\n",
    "    fwhmaz.append(data[expId]['FWHM_az'])\n",
    "    fwhmel.append(data[expId]['FWHM_el'])\n",
    "    fwhma.append(data[expId]['FWHM_a'])\n",
    "    fwhmb.append(data[expId]['FWHM_b'])\n",
    "\n",
    "plt.scatter(times, fwhmb)     "
   ]
  },
  {
   "cell_type": "code",
   "execution_count": null,
   "metadata": {},
   "outputs": [],
   "source": [
    "# Now get the DIMM data\n",
    "tstart = Time(times[0])\n",
    "tend = Time(times[-1])\n",
    "dimm_fwhm = await client.select_time_series(\"lsst.sal.DIMM.logevent_dimmMeasurement\", \\\n",
    "                                            \"fwhm\", tstart, tend)"
   ]
  },
  {
   "cell_type": "code",
   "execution_count": null,
   "metadata": {},
   "outputs": [],
   "source": [
    "# Now plot it all\n",
    "fig = plt.figure(figsize=(8,10))\n",
    "plt.subplots_adjust(hspace=0.5)\n",
    "plt.suptitle(f\"AuxTel FWHM -{dayObs}\", fontsize = 16)\n",
    "# X and Y\n",
    "plt.subplot(3,1,1)\n",
    "ax1 = dimm_fwhm['fwhm'].plot(color = 'lime', label='DIMM', lw=3)\n",
    "ax1.scatter(times, np.array(fwhmx) / 10.0, color='red', marker = 'x', s=10, label = 'FWHM_x')\n",
    "ax1.scatter(times, np.array(fwhmy) / 10.0, color='blue', marker = 'x', s=10, label = 'FWHM_y')\n",
    "ax1.set_ylabel('FWHM(arcseconds)')\n",
    "ax1.set_ylim(0.0, 2.0)\n",
    "ax1.legend(loc='lower left')\n",
    "# Az and El\n",
    "plt.subplot(3,1,2)\n",
    "ax2 = dimm_fwhm['fwhm'].plot(color = 'lime', label='DIMM', lw=3)\n",
    "ax2.scatter(times, np.array(fwhmaz) / 10.0, color='red', marker = 'x', s=10, label = 'FWHM_az')\n",
    "ax2.scatter(times, np.array(fwhmel) / 10.0, color='blue', marker = 'x', s=10, label = 'FWHM_el')\n",
    "ax2.set_ylabel('FWHM(arcseconds)')\n",
    "ax2.set_ylim(0.0, 2.0)\n",
    "#ax2.text(times[int(len(times) / 2)], 0.2, \"NB - I might have Az and El reversed!\")\n",
    "ax2.legend(loc='lower left')\n",
    "# a and b\n",
    "plt.subplot(3,1,3)\n",
    "ax3 = dimm_fwhm['fwhm'].plot(color = 'lime', label='DIMM', lw=3)\n",
    "ax3.scatter(times, np.array(fwhma) / 10.0, color='red', marker = 'x', s=10, label = 'FWHM_a')\n",
    "ax3.scatter(times, np.array(fwhmb) / 10.0, color='blue', marker = 'x', s=10, label = 'FWHM_b')\n",
    "ax3.set_ylabel('FWHM(arcseconds)')\n",
    "ax3.set_ylim(0.0, 2.0)\n",
    "ax3.legend(loc='lower left')\n",
    "plt.savefig(f'/project/cslage/AuxTel/fwhm/FWHM_New_{dayObs}.pdf')"
   ]
  },
  {
   "cell_type": "code",
   "execution_count": null,
   "metadata": {},
   "outputs": [],
   "source": [
    "# Now plot a scatter plot of three nights of observations\n",
    "#filenames = ['FWHM_New_20220405.pkl', 'FWHM_New_20220406.pkl', 'FWHM_New_20220407.pkl']\n",
    "filenames = ['FWHM_New_20220405.pkl', 'FWHM_New_20220406.pkl']\n",
    "#filenames = ['FWHM_New_20220316.pkl']\n",
    "auxtel_fwhm = []\n",
    "dimm = []\n",
    "for filename in filenames:\n",
    "    infile = open('/project/cslage/AuxTel/fwhm/%s'%filename,'rb')\n",
    "    data = pkl.load(infile)\n",
    "    infile.close()\n",
    "    print(filename, len(data), \"observations\")\n",
    "    times = []\n",
    "    fwhm = []\n",
    "    for expId in data.keys():\n",
    "        times.append(Time(data[expId]['Time']).to_datetime())\n",
    "        fwhm.append((data[expId]['FWHM_a'] + data[expId]['FWHM_b']) / 20.0)\n",
    "\n",
    "    # Get the DIMM data\n",
    "    tstart = Time(times[0])\n",
    "    tend = Time(times[-1])\n",
    "    dimm_fwhm = await client.select_time_series(\"lsst.sal.DIMM.logevent_dimmMeasurement\", \\\n",
    "                                            \"fwhm\", tstart, tend)\n",
    "    \n",
    "    # Skip measurements early in the night\n",
    "    for i, time in enumerate(times):\n",
    "        if time.hour < 3 or time.hour > 14:\n",
    "            continue\n",
    "        # Now get the DIMM measurement closest in time\n",
    "        nearest_dimm_index = dimm_fwhm.index.get_loc(time, method='nearest')\n",
    "        dimm_measure = dimm_fwhm['fwhm'][nearest_dimm_index]\n",
    "        if np.isnan(dimm_measure) or np.isnan(fwhm[i]):\n",
    "            continue\n",
    "        dimm.append(dimm_fwhm['fwhm'][nearest_dimm_index])\n",
    "        auxtel_fwhm.append(fwhm[i])\n",
    "                    \n",
    "print(len(dimm), \"observations\")    "
   ]
  },
  {
   "cell_type": "code",
   "execution_count": null,
   "metadata": {},
   "outputs": [],
   "source": [
    "# Now plot the scatter plot\n",
    "slope, intercept, r_value, p_value, std_err = linregress(dimm, auxtel_fwhm)\n",
    "xplot = np.linspace(0.5, 2.0, 100)\n",
    "yplot = intercept + slope * xplot\n",
    "#plt.title(\"FWHM Measurements, April 5,6,7, 2022\")\n",
    "plt.title(\"FWHM Measurements, March 16, 2022\")\n",
    "plt.plot(xplot,yplot, color='red',ls = '--', lw=2)\n",
    "plt.scatter(dimm, auxtel_fwhm)\n",
    "plt.xlim(0.5, 2.0)\n",
    "plt.ylim(0.5, 2.0)\n",
    "plt.xlabel(\"Rubin DIMM (arcsec)\")\n",
    "plt.ylabel(\"AuxTel FWHM (a+b)/2 (arsec)\")\n",
    "plt.text(0.6,1.7,f\"R2={r_value:.2f}\")\n",
    "plt.savefig(f'/project/cslage/AuxTel/fwhm/FWHM_April_5-6_2022.pdf')"
   ]
  },
  {
   "cell_type": "code",
   "execution_count": null,
   "metadata": {},
   "outputs": [],
   "source": []
  }
 ],
 "metadata": {
  "kernelspec": {
   "display_name": "LSST",
   "language": "python",
   "name": "lsst"
  },
  "language_info": {
   "codemirror_mode": {
    "name": "ipython",
    "version": 3
   },
   "file_extension": ".py",
   "mimetype": "text/x-python",
   "name": "python",
   "nbconvert_exporter": "python",
   "pygments_lexer": "ipython3",
   "version": "3.8.12"
  }
 },
 "nbformat": 4,
 "nbformat_minor": 4
}
