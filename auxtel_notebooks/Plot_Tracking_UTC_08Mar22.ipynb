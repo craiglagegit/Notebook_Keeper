{
 "cells": [
  {
   "cell_type": "markdown",
   "id": "153412e6",
   "metadata": {},
   "source": [
    "# AuxTel Plot tracking - 29-Oct-21\n",
    "\n",
    "In this notebook, investigate again mount tracking on 29-Oct-21\\\n",
    "This is after the EFD was converted to UTC.\\\n",
    "Thanks to Simon Krughoff for contributions."
   ]
  },
  {
   "cell_type": "code",
   "execution_count": null,
   "id": "fcd0a71e",
   "metadata": {},
   "outputs": [],
   "source": [
    "import sys, time, os, asyncio\n",
    "\n",
    "from datetime import datetime\n",
    "import numpy as np\n",
    "import matplotlib.pyplot as plt\n",
    "%matplotlib widget\n",
    "import pandas as pd\n",
    "from astropy.time import Time, TimeDelta\n",
    "from lsst.daf.butler import Butler"
   ]
  },
  {
   "cell_type": "code",
   "execution_count": null,
   "id": "5f1e495c",
   "metadata": {},
   "outputs": [],
   "source": [
    "from lsst_efd_client import EfdClient\n",
    "from lsst_efd_client import  __version__ as efdVersion\n",
    "print(efdVersion)"
   ]
  },
  {
   "cell_type": "code",
   "execution_count": null,
   "id": "aed2b09e",
   "metadata": {},
   "outputs": [],
   "source": [
    "# Get EFD client and the butler\n",
    "client = EfdClient('ldf_stable_efd')\n",
    "butler = Butler('/repo/main', collections=\"LATISS/raw/all\")"
   ]
  },
  {
   "cell_type": "code",
   "execution_count": null,
   "id": "0d63c19b-ba67-4e88-bfcf-ad55eb58a633",
   "metadata": {},
   "outputs": [],
   "source": [
    "# These are times from the observing notebook\n",
    "\"\"\"\n",
    "Starting exposure: 2022-03-08 17:26:52.604607\n",
    "Exposure done: 2022-03-08 17:27:00.696064\n",
    "Stopped tracking: 2022-03-08 17:27:01.024739\n",
    "\"\"\"\n",
    "exp_start = Time(\"2022-03-08 17:26:52.60Z\", scale='utc')\n",
    "exp_end = Time(\"2022-03-08 17:27:00.69Z\", scale='utc')\n",
    "stop_tracking = Time(\"2022-03-08 17:27:01.02Z\", scale='utc')"
   ]
  },
  {
   "cell_type": "code",
   "execution_count": null,
   "id": "83a91112-b726-4519-b019-f9d8f0350c61",
   "metadata": {},
   "outputs": [],
   "source": [
    "# These are for the image with the accelerometer\n",
    "\"\"\"\n",
    "Starting Accel data: 2022-03-08 17:32:22.871611\n",
    "Starting exposure: 2022-03-08 17:32:22.871682\n",
    "Exposure done: 2022-03-08 17:32:35.878043\n",
    "Finishing Accel data: 2022-03-08 17:32:41.866108\n",
    "\"\"\"\n",
    "exp_start = Time(\"2022-03-08 17:32:22.87Z\", scale='utc')\n",
    "exp_end = Time(\"2022-03-08 17:32:35.87Z\", scale='utc')\n",
    "stop_tracking = Time(\"2022-03-08 17:32:41.86Z\", scale='utc')"
   ]
  },
  {
   "cell_type": "code",
   "execution_count": null,
   "id": "94f7af61",
   "metadata": {},
   "outputs": [],
   "source": [
    "# Get one header data using Gen3 butler\n",
    "# This confirms that the DATE_BEG and DATE_END timestamps remain in TAI, as specified.\n",
    "\n",
    "expId = 2022030800018\n",
    "mData = butler.get('raw.metadata', detector=0, exposure=expId)\n",
    "print(f\"{expId} \\t {mData['TIMESYS']} \\t {mData['DATE']} \\t {mData['DATE-BEG']} \\t {mData['DATE-END']}\")"
   ]
  },
  {
   "cell_type": "code",
   "execution_count": null,
   "id": "b7c4c67b",
   "metadata": {},
   "outputs": [],
   "source": [
    "# Need to convert DATE_BEG and DATE_END to UTC to sync up with the EFD\n",
    "date_beg = Time(mData['DATE-BEG'], format='isot', scale='tai')\n",
    "date_end = Time(mData['DATE-END'], format='isot', scale='tai')\n",
    "print(date_beg.utc, date_end.utc)\n",
    "print(date_beg.tai, date_end.tai)"
   ]
  },
  {
   "cell_type": "code",
   "execution_count": null,
   "id": "a4742e1e",
   "metadata": {},
   "outputs": [],
   "source": [
    "# Use these for finding the \"allAxesInPosition\" timestamp\n",
    "# The inPosition timestamp makes sense with the DATE-BEG and DATE-END times\n",
    "before = 10.0\n",
    "after = 30.0\n",
    "if expId < 2021101300000:\n",
    "    # EFD was switched to UTC on 20211013\n",
    "    tai_offset = 37.0\n",
    "else:\n",
    "    tai_offset = 0.0\n",
    "\n",
    "start = date_beg.utc - TimeDelta(before, format='sec') + TimeDelta(tai_offset, format='sec')\n",
    "end = date_end.utc + TimeDelta(after, format='sec') + TimeDelta(tai_offset, format='sec')\n",
    "print(start, end)\n",
    "\n",
    "inPosition = await client.select_time_series(\"lsst.sal.ATMCS.logevent_allAxesInPosition\", \"inPosition\", start, end)\n",
    "inPosition = inPosition[inPosition['inPosition']==True] \n",
    "print(inPosition)"
   ]
  },
  {
   "cell_type": "code",
   "execution_count": null,
   "id": "aad8ae24",
   "metadata": {},
   "outputs": [],
   "source": [
    "# Use these for finding the shutter status timestamp\n",
    "# The inPosition timestamp makes sense with the DATE-BEG and DATE-END times\n",
    "# They agree within a few milliseconds.\n",
    "before = 5.0\n",
    "after = 30.0\n",
    "inPos = Time(inPosition.index[0])\n",
    "tstart = inPos - TimeDelta(before, format='sec')\n",
    "tend = inPos + TimeDelta(after, format='sec')\n",
    "\n",
    "shutter = await client.select_time_series(\"lsst.sal.ATCamera.logevent_shutterDetailedState\", \"substate\", tstart, tend)\n",
    "\n",
    "# These match within msec with the DATE-BEG and DATE-END timestamps in the header,\n",
    "# after we have converted DATE_END and DATE_BEG to UTC\n",
    "print(shutter)\n",
    "print(shutter.index[0], date_beg.utc)\n",
    "shutter_open = shutter.index[0]\n",
    "try:\n",
    "    shutter_close = shutter.index[1]\n",
    "    print(shutter.index[1], date_end.utc)\n",
    "except:\n",
    "    shutter_close = shutter.index[0] + pd.Timedelta(seconds=mData['EXPTIME'])\n",
    "    print(shutter_close, date_end.utc)"
   ]
  },
  {
   "cell_type": "code",
   "execution_count": null,
   "id": "437ca372",
   "metadata": {},
   "outputs": [],
   "source": [
    "# Now get the mount tracking info for a time before and after the inPosition timestamp.\n",
    "\n",
    "before = 30.0\n",
    "after = 30.0\n",
    "inPos = Time(inPosition.index[0])\n",
    "tstart = inPos - TimeDelta(before, format='sec')\n",
    "tend = inPos + TimeDelta(after, format='sec')\n",
    "\n",
    "print(f\"{inPos} \\t {tstart} \\t {tend}\")\n",
    "az = await client.select_packed_time_series(\"lsst.sal.ATMCS.mount_AzEl_Encoders\", \"azimuthCalculatedAngle\",  tstart, tend)\n",
    "az_target = await client.select_time_series(\"lsst.sal.ATMCS.logevent_target\", \"azimuth\",  tstart, tend)\n",
    "el = await client.select_packed_time_series(\"lsst.sal.ATMCS.mount_AzEl_Encoders\", \"elevationCalculatedAngle\",  tstart, tend)\n",
    "el_target = await client.select_time_series(\"lsst.sal.ATMCS.logevent_target\", \"elevation\",  tstart, tend)\n",
    "\n",
    "print(f\"Tstart={tstart}, Start of dataFrame = {az.index[0]}, {az_target.index[0]}\")"
   ]
  },
  {
   "cell_type": "code",
   "execution_count": null,
   "id": "4a6e1537-32f9-406b-9cc5-c779e5b07618",
   "metadata": {},
   "outputs": [],
   "source": [
    "#az_target = await client.select_time_series(\"lsst.sal.ATMCS.logevent_target\",[\"azimuth\", \"taiTime\"],  tstart, tend)\n",
    "az_target = await client.select_time_series(\"lsst.sal.ATMCS.logevent_target\",\"azimuth\",  tstart, tend)"
   ]
  },
  {
   "cell_type": "code",
   "execution_count": null,
   "id": "c99e7f03",
   "metadata": {},
   "outputs": [],
   "source": [
    "# Plot it\n",
    "az_target_vals = np.array(az_target.values.tolist())[:,0]\n",
    "az_target_times = np.array(az_target.index.tolist())\n",
    "el_target_vals = np.array(el_target.values.tolist())[:,0]\n",
    "el_target_times = np.array(el_target.index.tolist())\n",
    "\n",
    "fig = plt.figure(figsize = (8,8))\n",
    "plt.subplots_adjust(wspace=0.5)\n",
    "plt.suptitle(f\"Mount Tracking - ExpId {expId}\", fontsize = 16)\n",
    "# Azimuth axis\n",
    "plt.subplot(2,2,1)\n",
    "ax1 = az['azimuthCalculatedAngle'].plot(color='red')\n",
    "ax1.plot(az_target_times, az_target_vals, label='azimuth target', color='blue')\n",
    "ax1.set_title(\"Azimuth axis\", fontsize=12)\n",
    "ax1.axvline(inPosition.index[0], color=\"green\", linestyle=\"--\", label=\"All Axes In Position\")\n",
    "ax1.axvline(exp_start.to_datetime(), color='magenta', linestyle=\"--\", label=\"Exp_Start(summit)\")\n",
    "ax1.axvline(shutter_open, color='cyan', linestyle=\"--\", label=\"Shutter_Open\")\n",
    "ax1.axvline(shutter_close, color='cyan', linestyle=\"--\", label=\"Shutter_Closed\")\n",
    "ax1.axvline(exp_end.to_datetime(), color='magenta', linestyle=\"--\", label=\"Exp_End(summit)\")\n",
    "ax1.axvline(stop_tracking.to_datetime(), color='orange', linestyle=\"--\", label=\"Stop Tracking(summit)\")\n",
    "ax1.set_ylabel(\"Degrees\")\n",
    "#ax1.legend(loc='lower left')\n",
    "# Elevation axis\n",
    "plt.subplot(2,2,2)\n",
    "ax2 = el['elevationCalculatedAngle'].plot(legend=True, color='red')\n",
    "ax2.plot(el_target_times, el_target_vals, label='elevation target', color='blue')\n",
    "ax2.set_title(\"Elevation axis\", fontsize=12)\n",
    "ax2.axvline(inPosition.index[0], color=\"green\", linestyle=\"--\", label=\"All Axes In Position\")\n",
    "ax2.axvline(exp_start.to_datetime(), color='magenta', linestyle=\"--\", label=\"Exp_Start(summit)\")\n",
    "ax2.axvline(shutter_open, color='cyan', linestyle=\"--\", label=\"Shutter_Open\")\n",
    "ax2.axvline(shutter_close, color='cyan', linestyle=\"--\", label=\"Shutter_Closed\")\n",
    "ax2.axvline(exp_end.to_datetime(), color='magenta', linestyle=\"--\", label=\"Exp_End(summit)\")\n",
    "ax2.axvline(stop_tracking.to_datetime(), color='orange', linestyle=\"--\", label=\"Stop Tracking(summit)\")\n",
    "ax2.set_ylabel(\"Degrees\")\n",
    "ax2.legend(bbox_to_anchor=(-0.5, -0.2))\n",
    "offset = (tstart.jd - az.index[0].to_julian_date()) * 86400.0\n",
    "ax2.text(0.0,-0.5, f\"Time offset = {offset:.2f} seconds\", transform=ax2.transAxes)\n",
    "\n",
    "plt.savefig(f\"/project/cslage/AuxTel/offsets/Tracking_Timebase_{expId}_08Mar22.pdf\")\n"
   ]
  },
  {
   "cell_type": "code",
   "execution_count": null,
   "id": "d8ec73f8-5828-4213-b0d1-8047072064be",
   "metadata": {},
   "outputs": [],
   "source": [
    "# Simple timebase test\n",
    "\n",
    "print(f\"exp_start={exp_start}, exp_end={exp_end}\")\n",
    "\n",
    "test_az = await client.select_packed_time_series('lsst.sal.ATMCS.mount_AzEl_Encoders', \\\n",
    "                                            'azimuthCalculatedAngle', exp_start, exp_end)\n",
    "print(f\"az_start={az.index[0]}, az_end={az.index[-1]}\")"
   ]
  },
  {
   "cell_type": "code",
   "execution_count": null,
   "id": "409b0edd-880e-4a5e-86a0-959432e536f6",
   "metadata": {
    "tags": []
   },
   "outputs": [],
   "source": [
    "test = (tstart.jd - az.index[0].to_julian_date()) * 86400\n",
    "print(test)"
   ]
  },
  {
   "cell_type": "code",
   "execution_count": null,
   "id": "7140ed90-97bf-45b1-bfa8-9fb30b11eee4",
   "metadata": {},
   "outputs": [],
   "source": [
    "tstart.jd"
   ]
  },
  {
   "cell_type": "code",
   "execution_count": null,
   "id": "e11705e1-3fa5-4211-932c-834372302df6",
   "metadata": {},
   "outputs": [],
   "source": [
    "az.index[0].to_julian_date()"
   ]
  },
  {
   "cell_type": "code",
   "execution_count": null,
   "id": "01dd51be-a2e2-4a55-8e06-13176ce53d16",
   "metadata": {},
   "outputs": [],
   "source": []
  }
 ],
 "metadata": {
  "kernelspec": {
   "display_name": "LSST",
   "language": "python",
   "name": "lsst"
  },
  "language_info": {
   "codemirror_mode": {
    "name": "ipython",
    "version": 3
   },
   "file_extension": ".py",
   "mimetype": "text/x-python",
   "name": "python",
   "nbconvert_exporter": "python",
   "pygments_lexer": "ipython3",
   "version": "3.8.8"
  }
 },
 "nbformat": 4,
 "nbformat_minor": 5
}
