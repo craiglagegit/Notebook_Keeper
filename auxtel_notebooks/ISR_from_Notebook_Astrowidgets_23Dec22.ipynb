{
 "cells": [
  {
   "cell_type": "markdown",
   "metadata": {},
   "source": [
    "## Running ISR from a notebook\n",
    "\n",
    "Craig Lage - 16-Jun-22"
   ]
  },
  {
   "cell_type": "code",
   "execution_count": null,
   "metadata": {
    "execution": {
     "iopub.execute_input": "2023-01-03T13:01:28.953025Z",
     "iopub.status.busy": "2023-01-03T13:01:28.952673Z",
     "iopub.status.idle": "2023-01-03T13:01:30.978040Z",
     "shell.execute_reply": "2023-01-03T13:01:30.977490Z",
     "shell.execute_reply.started": "2023-01-03T13:01:28.953004Z"
    },
    "tags": []
   },
   "outputs": [],
   "source": [
    "import numpy as np\n",
    "#%matplotlib ipympl\n",
    "import matplotlib.pyplot as plt\n",
    "import astropy.io.fits as pf\n",
    "from lsst.ip.isr import IsrTask, IsrTaskConfig\n",
    "from lsst.daf.butler import Butler"
   ]
  },
  {
   "cell_type": "code",
   "execution_count": null,
   "metadata": {
    "execution": {
     "iopub.execute_input": "2023-01-03T13:01:34.387845Z",
     "iopub.status.busy": "2023-01-03T13:01:34.387530Z",
     "iopub.status.idle": "2023-01-03T13:01:35.396685Z",
     "shell.execute_reply": "2023-01-03T13:01:35.395974Z",
     "shell.execute_reply.started": "2023-01-03T13:01:34.387825Z"
    },
    "tags": []
   },
   "outputs": [],
   "source": [
    "butler = Butler('/repo/embargo', collections=[\"LATISS/raw/all\", \"LATISS/calib\"])"
   ]
  },
  {
   "cell_type": "code",
   "execution_count": null,
   "metadata": {
    "execution": {
     "iopub.execute_input": "2023-01-03T13:01:36.781585Z",
     "iopub.status.busy": "2023-01-03T13:01:36.781332Z",
     "iopub.status.idle": "2023-01-03T13:01:36.808849Z",
     "shell.execute_reply": "2023-01-03T13:01:36.808444Z",
     "shell.execute_reply.started": "2023-01-03T13:01:36.781567Z"
    },
    "tags": []
   },
   "outputs": [],
   "source": [
    "isrConfig = IsrTaskConfig()\n",
    "isrConfig.doLinearize=False\n",
    "isrConfig.doOverscan=True\n",
    "isrConfig.doAssembleCcd=True\n",
    "isrConfig.doBias=True\n",
    "isrConfig.doVariance=True\n",
    "isrConfig.doLinearize=False\n",
    "isrConfig.doCrosstalk=False\n",
    "isrConfig.doBrighterFatter=False\n",
    "isrConfig.doDark=False\n",
    "isrConfig.doStrayLight=False\n",
    "isrConfig.doFlat=False\n",
    "isrConfig.doFringe=False\n",
    "isrConfig.doApplyGains=False\n",
    "isrConfig.doDefect=False\n",
    "isrConfig.doNanMasking=True\n",
    "isrConfig.doInterpolate=False\n",
    "isrConfig.doSaturation=False\n",
    "isrConfig.doSaturationInterpolation=False\n",
    "\n",
    "\n",
    "# Adjust these as needed and add as many more as you want"
   ]
  },
  {
   "cell_type": "code",
   "execution_count": null,
   "metadata": {
    "execution": {
     "iopub.execute_input": "2023-01-03T13:01:40.468332Z",
     "iopub.status.busy": "2023-01-03T13:01:40.468080Z",
     "iopub.status.idle": "2023-01-03T13:01:40.472375Z",
     "shell.execute_reply": "2023-01-03T13:01:40.471913Z",
     "shell.execute_reply.started": "2023-01-03T13:01:40.468314Z"
    },
    "tags": []
   },
   "outputs": [],
   "source": [
    "isrTask = IsrTask(config=isrConfig)"
   ]
  },
  {
   "cell_type": "code",
   "execution_count": null,
   "metadata": {
    "execution": {
     "iopub.execute_input": "2023-01-03T13:01:41.640987Z",
     "iopub.status.busy": "2023-01-03T13:01:41.640321Z",
     "iopub.status.idle": "2023-01-03T13:01:44.923679Z",
     "shell.execute_reply": "2023-01-03T13:01:44.923050Z",
     "shell.execute_reply.started": "2023-01-03T13:01:41.640964Z"
    },
    "tags": []
   },
   "outputs": [],
   "source": [
    "expId = 2022121200745\n",
    "exp = butler.get('raw', detector=0, exposure=expId)\n",
    "biasExp = butler.get('bias', detector=0, exposure=expId)"
   ]
  },
  {
   "cell_type": "code",
   "execution_count": null,
   "metadata": {
    "execution": {
     "iopub.execute_input": "2023-01-03T13:01:44.930810Z",
     "iopub.status.busy": "2023-01-03T13:01:44.930649Z",
     "iopub.status.idle": "2023-01-03T13:01:46.481978Z",
     "shell.execute_reply": "2023-01-03T13:01:46.481441Z",
     "shell.execute_reply.started": "2023-01-03T13:01:44.930794Z"
    },
    "tags": []
   },
   "outputs": [],
   "source": [
    "isrResult = isrTask.run(exp, bias=biasExp)"
   ]
  },
  {
   "cell_type": "code",
   "execution_count": null,
   "metadata": {
    "execution": {
     "iopub.execute_input": "2023-01-03T13:01:53.143220Z",
     "iopub.status.busy": "2023-01-03T13:01:53.142970Z",
     "iopub.status.idle": "2023-01-03T13:01:53.540906Z",
     "shell.execute_reply": "2023-01-03T13:01:53.540331Z",
     "shell.execute_reply.started": "2023-01-03T13:01:53.143202Z"
    },
    "tags": []
   },
   "outputs": [],
   "source": [
    "# Now look at the data with matplotlib\n",
    "\n",
    "from matplotlib.colors import LogNorm\n",
    "\n",
    "def colorbar(mappable):\n",
    "    from mpl_toolkits.axes_grid1 import make_axes_locatable\n",
    "    last_axes = plt.gca()\n",
    "    ax = mappable.axes\n",
    "    fig = ax.figure\n",
    "    divider = make_axes_locatable(ax)\n",
    "    cax = divider.append_axes(\"right\", size=\"5%\", pad=0.05)\n",
    "    cbar = fig.colorbar(mappable, cax=cax)\n",
    "    plt.sca(last_axes)\n",
    "    return cbar\n",
    "\n",
    "plt.figure(figsize=(8,8))\n",
    "plt.suptitle(f\"Image\",fontsize=18)\n",
    "arr = isrResult.exposure.image.array[100:200,100:200]\n",
    "img = plt.imshow(arr, norm=LogNorm(vmin=10, vmax=1000), interpolation='Nearest', cmap='gray')\n",
    "colorbar(img)\n",
    "plt.tight_layout(h_pad=1)\n"
   ]
  },
  {
   "cell_type": "code",
   "execution_count": null,
   "metadata": {
    "execution": {
     "iopub.execute_input": "2023-01-03T13:02:04.626827Z",
     "iopub.status.busy": "2023-01-03T13:02:04.626389Z",
     "iopub.status.idle": "2023-01-03T13:02:05.319165Z",
     "shell.execute_reply": "2023-01-03T13:02:05.318507Z",
     "shell.execute_reply.started": "2023-01-03T13:02:04.626804Z"
    }
   },
   "outputs": [],
   "source": [
    "import lsst.afw.display\n",
    "import lsst.display.astrowidgets\n",
    "lsst.afw.display.setDefaultBackend(\"astrowidgets\")"
   ]
  },
  {
   "cell_type": "code",
   "execution_count": null,
   "metadata": {
    "execution": {
     "iopub.execute_input": "2023-01-03T13:02:09.941815Z",
     "iopub.status.busy": "2023-01-03T13:02:09.941425Z",
     "iopub.status.idle": "2023-01-03T13:02:10.295324Z",
     "shell.execute_reply": "2023-01-03T13:02:10.294439Z",
     "shell.execute_reply.started": "2023-01-03T13:02:09.941795Z"
    }
   },
   "outputs": [],
   "source": [
    "# Create a display object:\n",
    "display = lsst.afw.display.Display(dims=(800, 600))  # size in screen pixels\n",
    "display.embed()"
   ]
  },
  {
   "cell_type": "code",
   "execution_count": null,
   "metadata": {
    "execution": {
     "iopub.execute_input": "2023-01-03T13:02:35.314883Z",
     "iopub.status.busy": "2023-01-03T13:02:35.314618Z",
     "iopub.status.idle": "2023-01-03T13:02:35.327311Z",
     "shell.execute_reply": "2023-01-03T13:02:35.326605Z",
     "shell.execute_reply.started": "2023-01-03T13:02:35.314863Z"
    }
   },
   "outputs": [],
   "source": [
    "display.mtv(isrResult.exposure)"
   ]
  },
  {
   "cell_type": "markdown",
   "metadata": {},
   "source": [
    "Useful Keyboard Shortcuts.\n",
    "Ginga supplies interactive keyboard commands as listed in the table below. The left set should always be active. The right set need to have the appropriate mode selected by typing space-. More details available at https://ginga.readthedocs.io/en/stable/quickref.html\n",
    "\n",
    "Key\tAction\t\tMode\tKey\tAction\n",
    "`\tRecenter and zoom to fit.\t\tSpace-d\t\tDistribution mode:\n",
    "{1-0}\tZoom to #x scale.\t\t\tb, Up\tPrevious distribution function.\n",
    "S-{1-0}\tZoom to 1/#x scale.\t\t\tn, Down\tNext distribution function.\n",
    "p\tRecenter image to mouse location.\t\tSpace-s\t\tCut mode:\n",
    "c\tRecenter to image center.\t\t\tb, Up\tPrevious cut function.\n",
    "Middle mouse\tRecenter image to mouse location.\t\t\tn, Down\tNext cut function.\n",
    "[\tHorizontal flip.\t\t\tLeft mouse\tDrag to set high/low cut levels.\n",
    "]\tVertical flip.\t\t\tC-Left mouse\tDrag to set only low cut level.\n",
    "\\\tTranspose image.\t\t\tS-Left mouse\tDrag to set only high cut level.\n",
    "R\tReset image to default orientation.\t\t\th\tSet high cut level to current pixel value.\n",
    "a\tAuto-contrast.\t\t\tl\tSet low cut level to current pixel value.\n",
    "D\tReset color distribution to linear.\t\t\tS\tSet cut levels to min/max.\n",
    "T\tReset contrast to default.\t\tSpace-t\t\tContrast mode:\n",
    "Y\tReset colormap to grayscale.\t\t\tLeft mouse\tDrag to set contrast and offset.\n",
    "I\tInvert colormap.\t\tSpace-y\t\tColormap mode:\n",
    "b, Up\tPrevious color map.\n",
    "n, Down\tNext color map.\n",
    "c\tToggle color bar.\n",
    "Space-r\t\tRotation mode:\n",
    "Left mouse\tFree rotation about current center."
   ]
  },
  {
   "cell_type": "code",
   "execution_count": null,
   "metadata": {},
   "outputs": [],
   "source": [
    "mData = butler.get('raw.metadata', detector=0, exposure=expId)"
   ]
  },
  {
   "cell_type": "code",
   "execution_count": null,
   "metadata": {},
   "outputs": [],
   "source": [
    "for key in mData.keys():\n",
    "    print(key, mData[key])"
   ]
  },
  {
   "cell_type": "code",
   "execution_count": null,
   "metadata": {},
   "outputs": [],
   "source": []
  }
 ],
 "metadata": {
  "kernelspec": {
   "display_name": "LSST",
   "language": "python",
   "name": "lsst"
  },
  "language_info": {
   "codemirror_mode": {
    "name": "ipython",
    "version": 3
   },
   "file_extension": ".py",
   "mimetype": "text/x-python",
   "name": "python",
   "nbconvert_exporter": "python",
   "pygments_lexer": "ipython3",
   "version": "3.10.8"
  }
 },
 "nbformat": 4,
 "nbformat_minor": 4
}
