{
 "cells": [
  {
   "cell_type": "markdown",
   "id": "457901db-7852-418c-982b-b09dbd2eadf0",
   "metadata": {},
   "source": [
    "# AuxTel spectrum seeing\n",
    "Craig Lage 21-Jan-25"
   ]
  },
  {
   "cell_type": "code",
   "execution_count": null,
   "id": "d3dc553f-0bd4-40c6-8aff-22d57c6402ae",
   "metadata": {
    "execution": {
     "iopub.execute_input": "2025-02-27T17:55:26.756108Z",
     "iopub.status.busy": "2025-02-27T17:55:26.755879Z",
     "iopub.status.idle": "2025-02-27T17:55:32.114309Z",
     "shell.execute_reply": "2025-02-27T17:55:32.113853Z",
     "shell.execute_reply.started": "2025-02-27T17:55:26.756093Z"
    }
   },
   "outputs": [],
   "source": [
    "import numpy as np\n",
    "import matplotlib.pyplot as plt\n",
    "import astropy.io.fits as pf\n",
    "import pickle as pkl\n",
    "from astropy.time import Time, TimeDelta\n",
    "import pandas as pd\n",
    "from lsst.ip.isr import IsrTask, IsrTaskConfig\n",
    "from lsst.summit.utils.plotting import plot\n",
    "import lsst.afw.cameraGeom.utils as camGeomUtils\n",
    "import lsst.afw.display as afwDisplay\n",
    "import lsst.summit.utils.butlerUtils as butlerUtils\n",
    "from lsst.daf.butler import Butler\n",
    "from lsst_efd_client import EfdClient\n",
    "from lsst.summit.utils.utils import dayObsIntToString\n",
    "from lsst.summit.utils.efdUtils import calcNextDay\n",
    "from scipy.optimize import minimize"
   ]
  },
  {
   "cell_type": "code",
   "execution_count": null,
   "id": "03b604f0-5094-4178-b680-f6da37558b91",
   "metadata": {
    "execution": {
     "iopub.execute_input": "2025-02-27T17:55:32.115521Z",
     "iopub.status.busy": "2025-02-27T17:55:32.115004Z",
     "iopub.status.idle": "2025-02-27T17:55:32.121023Z",
     "shell.execute_reply": "2025-02-27T17:55:32.120658Z",
     "shell.execute_reply.started": "2025-02-27T17:55:32.115508Z"
    }
   },
   "outputs": [],
   "source": [
    "infile = open('/home/c/cslage/u/AuxTel/fwhm/AuxTel_Backgrounds_27Feb25.pkl', 'rb')\n",
    "data = pkl.load(infile)\n",
    "infile.close()\n",
    "dates = data.keys()\n",
    "print(dates)\n"
   ]
  },
  {
   "cell_type": "code",
   "execution_count": null,
   "id": "466fe055-493b-4ed7-b54a-669a54bfbae5",
   "metadata": {
    "execution": {
     "iopub.execute_input": "2025-02-27T18:04:57.933146Z",
     "iopub.status.busy": "2025-02-27T18:04:57.932858Z",
     "iopub.status.idle": "2025-02-27T18:04:58.132793Z",
     "shell.execute_reply": "2025-02-27T18:04:58.132405Z",
     "shell.execute_reply.started": "2025-02-27T18:04:57.933132Z"
    }
   },
   "outputs": [],
   "source": [
    "fig, ax = plt.subplots(1,1,figsize=(8,8))\n",
    "xaxis = []\n",
    "yaxis = []\n",
    "xticks = []\n",
    "xticklabels = []\n",
    "counter = 0\n",
    "for dayObs in data.keys():\n",
    "    if dayObs < 20250215:\n",
    "        continue\n",
    "    [times, bgs] = data[dayObs]\n",
    "    \n",
    "    if len(times) < 10:\n",
    "        continue\n",
    "    for i in range(len(times)):\n",
    "        xaxis.append(Time(times[i]).unix_tai)\n",
    "        yaxis.append(bgs[i])\n",
    "    xticks.append(Time(times[0]).unix_tai)\n",
    "    xticklabels.append(dayObs)\n",
    "    counter += 1\n",
    "\n",
    "\n",
    "#ax.set_ylim(0,3.0)\n",
    "ax.scatter(xaxis, yaxis)\n",
    "ax.set_xticks(xticks)\n",
    "ax.set_xticklabels(xticklabels, rotation=90)\n",
    "ax.set_title(\"AuxTel Background\") \n",
    "ax.set_ylabel(\"Background (ADU)\")\n",
    "#ax.text(10, 0.2, f\"Median FWHM = {np.median(tot_2024):.2f} arcsec\")\n",
    "#ax.text(31, 0.2, f\"Median FWHM = \\n{np.median(tot_2025):.2f} arcsec\")\n",
    "plt.savefig('/home/c/cslage/u/AuxTel/fwhm/Background_27Feb25.png')"
   ]
  },
  {
   "cell_type": "code",
   "execution_count": null,
   "id": "75152ce9-7785-4e86-ac14-c8f591b1f410",
   "metadata": {},
   "outputs": [],
   "source": []
  }
 ],
 "metadata": {
  "kernelspec": {
   "display_name": "LSST",
   "language": "python",
   "name": "lsst"
  },
  "language_info": {
   "codemirror_mode": {
    "name": "ipython",
    "version": 3
   },
   "file_extension": ".py",
   "mimetype": "text/x-python",
   "name": "python",
   "nbconvert_exporter": "python",
   "pygments_lexer": "ipython3",
   "version": "3.11.9"
  }
 },
 "nbformat": 4,
 "nbformat_minor": 5
}
