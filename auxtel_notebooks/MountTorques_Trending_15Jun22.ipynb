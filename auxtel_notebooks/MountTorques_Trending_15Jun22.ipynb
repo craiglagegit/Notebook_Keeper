{
 "cells": [
  {
   "cell_type": "markdown",
   "id": "e8cc3a14-f377-44f4-ab4c-97c9c3047697",
   "metadata": {},
   "source": [
    "# Using the RubinTV Mount Plotting to identify large errors\n",
    "\n",
    "Craig Lage - 15-Jun-22"
   ]
  },
  {
   "cell_type": "code",
   "execution_count": null,
   "id": "a148b369-8943-4861-a51e-9cbeea70feb3",
   "metadata": {},
   "outputs": [],
   "source": [
    "import nest_asyncio\n",
    "nest_asyncio.apply()\n",
    "import sys, time, os, asyncio\n",
    "from datetime import datetime\n",
    "import numpy as np\n",
    "import matplotlib.pyplot as plt\n",
    "from lsst.rubintv.production import mountTorques\n",
    "\n",
    "from lsst_efd_client import EfdClient\n",
    "from lsst.daf.butler import Butler\n",
    "import lsst.log as log"
   ]
  },
  {
   "cell_type": "code",
   "execution_count": null,
   "id": "db1b3867-c6db-43d3-8248-ecfcd41d3fbc",
   "metadata": {},
   "outputs": [],
   "source": [
    "client = EfdClient('ldf_stable_efd')\n",
    "butler = Butler('/repo/main', collections=\"LATISS/raw/all\")\n",
    "logger = log.getLogger('myLogger')"
   ]
  },
  {
   "cell_type": "code",
   "execution_count": null,
   "id": "cdbdc212-2b15-477b-a019-1228c2e0bab8",
   "metadata": {},
   "outputs": [],
   "source": [
    "figure = plt.figure(figsize=(16,22))\n",
    "saveFilename = None\n",
    "\n",
    "errs = []\n",
    "for dayObs in [20220609, 20220503]:\n",
    "    exposureList = []\n",
    "\n",
    "    for record in butler.registry.queryDimensionRecords(\"exposure\", where=\"exposure.day_obs=%d\"%dayObs):\n",
    "        if record.observation_type not in ['bias', 'flat', 'dark']:\n",
    "            exposureList.append(record.id)\n",
    "    exposureList = sorted(exposureList, key=lambda x: x[0])\n",
    "    for expId in exposureList:\n",
    "        saveFilename = None\n",
    "        dataId = {'detector':0, 'exposure':expId}\n",
    "        try:\n",
    "            err = mountTorques.plotMountTracking(dataId, butler, client, figure, saveFilename, logger)\n",
    "            print(expId, err[0], err[1], err[2])\n",
    "            errs.append([expId, err[0], err[1], err[2]])\n",
    "            if err[0] > 0.25 or err[1] > 0.25:\n",
    "                print(f\"Plotting expId {expId}\")\n",
    "                saveFilename = f'/project/cslage/AuxTel/mount_graphs/large_errors_07jul22/Mount_Torques_{expId}.pdf'\n",
    "                err = mountTorques.plotMountTracking(dataId, butler, client, figure, saveFilename, logger)\n",
    "        except:\n",
    "            continue"
   ]
  },
  {
   "cell_type": "markdown",
   "id": "52ec442d-5f36-4a79-9273-35af93c075fb",
   "metadata": {},
   "source": [
    "I converted this to a Python script, and ran it against 20220503, 20220504, 20220505, 20220628, 20220629, and 20220630.  I then manually sorted through the plots (which are in AuxTel/mount_graphs/large_errors_07jul22) and categorized them in a spreadsheet.  The results are as follows:"
   ]
  },
  {
   "cell_type": "code",
   "execution_count": null,
   "id": "e0033f86-f6c1-4adc-ba68-f7084091077a",
   "metadata": {},
   "outputs": [],
   "source": [
    "import numpy as np\n",
    "import matplotlib.pyplot as plt"
   ]
  },
  {
   "cell_type": "code",
   "execution_count": null,
   "id": "3eac87fd-76c1-489a-ad69-809cd2094576",
   "metadata": {},
   "outputs": [],
   "source": [
    "categories = [\"Not Stable\", \"Jitter\", \"Slew during exp\", \"Crazy mount\", \"Oscillation\", \"Other\"]\n",
    "nights = [\"20220503\", \"20220504\", \"20220505\", \"20220628\", \"20220629\", \"20220630\"]\n",
    "windSpeed = [10.8, 7.9, 3.0, 6.4, 8.2, 3.9]\n",
    "xplot1 = np.array(list(range(len(nights))))\n",
    "colors = ['red', 'blue', 'green', 'orange', 'cyan', 'magenta']\n",
    "failures = {}\n",
    "failures[\"20220503\"] = [0.011396,0.142450,0.002849,0.000000,0.000000,0.000000]\n",
    "failures[\"20220504\"] = [0.045113,0.005013,0.005013,0.000000,0.000000,0.010025]\n",
    "failures[\"20220505\"] = [0.014474,0.000000,0.000000,0.000000,0.007895,0.000000]\n",
    "failures[\"20220628\"] = [0.001464,0.046852,0.004392,0.001464,0.001464,0.000000]\n",
    "failures[\"20220629\"] = [0.003802,0.005703,0.001901,0.001901,0.011407,0.000000]\n",
    "failures[\"20220630\"] = [0.006443,0.002577,0.001289,0.003866,0.001289,0.001289]"
   ]
  },
  {
   "cell_type": "code",
   "execution_count": null,
   "id": "249aed87-acf1-4213-b28c-0046bdc85c0a",
   "metadata": {},
   "outputs": [],
   "source": [
    "fig = plt.figure(figsize=(11,8))\n",
    "ax = plt.subplot(1,1,1)\n",
    "shift = 0.1\n",
    "for j in range(len(categories)):\n",
    "    xplot = []\n",
    "    barplot = []\n",
    "    for i in range(len(nights)):\n",
    "        xplot.append(i + j * shift)\n",
    "        barplot.append(failures[nights[i]][j])\n",
    "    ax.bar(xplot, barplot, width = shift, color = colors[j], label = categories[j])\n",
    "ax.set_xticks(xplot1)\n",
    "ax.set_xticklabels(nights)\n",
    "ax.legend()\n",
    "ax.set_ylabel(\"Fraction of exposures with RMS>0.25 arcseconds\")\n",
    "\n",
    "ax2 = ax.twinx()\n",
    "ax2.plot(xplot1, windSpeed, marker = 'x', label = \"Wind Speed\")\n",
    "ax2.legend(loc = 'upper center')\n",
    "ax2.set_ylabel(\"Wind speed (m/s)\")\n",
    "plt.savefig(\"/project/cslage/AuxTel/mount_graphs/large_errors_07jul22/Fail_Categories_07Jul22.pdf\")"
   ]
  },
  {
   "cell_type": "code",
   "execution_count": null,
   "id": "5ed3fe5f-03fc-4ba3-83ea-65c12983b77d",
   "metadata": {},
   "outputs": [],
   "source": []
  }
 ],
 "metadata": {
  "kernelspec": {
   "display_name": "LSST",
   "language": "python",
   "name": "lsst"
  },
  "language_info": {
   "codemirror_mode": {
    "name": "ipython",
    "version": 3
   },
   "file_extension": ".py",
   "mimetype": "text/x-python",
   "name": "python",
   "nbconvert_exporter": "python",
   "pygments_lexer": "ipython3",
   "version": "3.10.4"
  },
  "toc-autonumbering": false,
  "toc-showcode": false,
  "toc-showmarkdowntxt": true
 },
 "nbformat": 4,
 "nbformat_minor": 5
}
