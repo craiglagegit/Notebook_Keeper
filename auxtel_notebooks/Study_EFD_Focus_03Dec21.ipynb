{
 "cells": [
  {
   "cell_type": "markdown",
   "id": "153412e6",
   "metadata": {},
   "source": [
    "# AuxTel Focus Study - 03-Dec-21\n",
    "\n",
    "In this notebook, investigate focus settings and temp on 03-Dec-21"
   ]
  },
  {
   "cell_type": "code",
   "execution_count": null,
   "id": "fcd0a71e",
   "metadata": {},
   "outputs": [],
   "source": [
    "import sys, time, os, asyncio\n",
    "\n",
    "from datetime import datetime\n",
    "import numpy as np\n",
    "import matplotlib.pyplot as plt\n",
    "%matplotlib widget\n",
    "import pandas as pd\n",
    "from astropy.time import Time, TimeDelta\n",
    "from lsst.daf.butler import Butler"
   ]
  },
  {
   "cell_type": "code",
   "execution_count": null,
   "id": "aed2b09e",
   "metadata": {},
   "outputs": [],
   "source": [
    "# Get EFD client\n",
    "from lsst_efd_client import EfdClient\n",
    "from lsst_efd_client import  __version__ as efdVersion\n",
    "print(efdVersion)\n",
    "client = EfdClient('ldf_stable_efd')"
   ]
  },
  {
   "cell_type": "code",
   "execution_count": null,
   "id": "94f7af61",
   "metadata": {},
   "outputs": [],
   "source": [
    "# Get one header data using Gen3 butler\n",
    "# This confirms that the DATE_BEG and DATE_END timestamps remain in TAI, as specified.\n",
    "before = 2.0\n",
    "after = 2.0\n",
    "tai_offset = 37.0\n",
    "\n",
    "expId = 2021100500297\n",
    "butler = Butler('/repo/main', collections=\"LATISS/raw/all\")\n",
    "\n",
    "mData = butler.get('raw.metadata', detector=0, exposure=expId)\n",
    "print(f\"{expId} \\t {mData['TIMESYS']} \\t {mData['DATE']} \\t {mData['DATE-BEG']} \\t {mData['DATE-END']}\")\n",
    "date_beg = Time(mData['DATE-BEG'], format='isot', scale='tai')\n",
    "start = date_beg.utc - TimeDelta(before, format='sec') + TimeDelta(tai_offset, format='sec')"
   ]
  },
  {
   "cell_type": "code",
   "execution_count": null,
   "id": "bea3f7ac-438f-4312-8537-3b886164b202",
   "metadata": {},
   "outputs": [],
   "source": [
    "# Get one header data using Gen3 butler\n",
    "# This confirms that the DATE_BEG and DATE_END timestamps remain in TAI, as specified.\n",
    "\n",
    "expId = 2021090800161\n",
    "butler = Butler('/repo/main', collections=\"LATISS/raw/all\")\n",
    "\n",
    "mData = butler.get('raw.metadata', detector=0, exposure=expId)\n",
    "print(f\"{expId} \\t {mData['TIMESYS']} \\t {mData['DATE']} \\t {mData['DATE-BEG']} \\t {mData['DATE-END']}\")\n",
    "date_end = Time(mData['DATE-END'], format='isot', scale='tai')\n",
    "end = date_end.utc + TimeDelta(after, format='sec') + TimeDelta(tai_offset, format='sec')"
   ]
  },
  {
   "cell_type": "code",
   "execution_count": null,
   "id": "0332c3af-cf2f-4302-a946-0f5edf573de5",
   "metadata": {},
   "outputs": [],
   "source": [
    "# Use these for finding the various values\n",
    "shutter = await client.select_time_series(\"lsst.sal.ATCamera.logevent_shutterDetailedState\", \"substate\", start, end)\n",
    "#shut_open = shutter[shutter['substate']==2]\n",
    "#shut_closed = shutter[shutter['substate']==1]\n",
    "\n",
    "#print(shut_open)\n",
    "#print(shut_closed)\n",
    "print(shutter)"
   ]
  },
  {
   "cell_type": "code",
   "execution_count": null,
   "id": "a4742e1e",
   "metadata": {},
   "outputs": [],
   "source": [
    "# Use these for finding the various values\n",
    "command_z = await client.select_time_series(\"lsst.sal.ATAOS.command_offset\", \"z\", start, end)\n",
    "print(command_z)"
   ]
  },
  {
   "cell_type": "code",
   "execution_count": null,
   "id": "92e4add9-9b25-4722-9cf7-3259bc6f0fb6",
   "metadata": {},
   "outputs": [],
   "source": [
    "# Use these for finding the various values\n",
    "corr_off = await client.select_time_series(\"lsst.sal.ATAOS.logevent_correctionOffsets\", \"z\", start, end)\n",
    "print(corr_off)"
   ]
  },
  {
   "cell_type": "code",
   "execution_count": null,
   "id": "4b759989-ba31-4b0d-9235-aa002ac90140",
   "metadata": {},
   "outputs": [],
   "source": [
    "# Use these for finding the various values\n",
    "total_off = await client.select_time_series(\"lsst.sal.ATAOS.logevent_focusOffsetSummary\", \"total\", start, end)\n",
    "print(total_off)"
   ]
  },
  {
   "cell_type": "code",
   "execution_count": null,
   "id": "5b3b3ebe-e457-4486-9d62-c0deca53df77",
   "metadata": {},
   "outputs": [],
   "source": [
    "# Use these for finding the various values\n",
    "disp_off = await client.select_time_series(\"lsst.sal.ATAOS.logevent_focusOffsetSummary\", \"disperser\", start, end)\n",
    "print(disp_off)"
   ]
  },
  {
   "cell_type": "code",
   "execution_count": null,
   "id": "390e1c56-f87e-4e73-9d59-ced6362acd39",
   "metadata": {},
   "outputs": [],
   "source": [
    "# Use these for finding the various values\n",
    "filter_off = await client.select_time_series(\"lsst.sal.ATAOS.logevent_focusOffsetSummary\", \"filter\", start, end)\n",
    "print(filter_off)"
   ]
  },
  {
   "cell_type": "code",
   "execution_count": null,
   "id": "b0f6f8fe-5c4c-4bcb-85f7-4744d3affeca",
   "metadata": {},
   "outputs": [],
   "source": [
    "# Use these for finding the various values\n",
    "user_off = await client.select_time_series(\"lsst.sal.ATAOS.logevent_focusOffsetSummary\", \"userApplied\", start, end)\n",
    "print(user_off)"
   ]
  },
  {
   "cell_type": "code",
   "execution_count": null,
   "id": "d5aa0de5-0513-4002-a211-5bee7dad7dff",
   "metadata": {},
   "outputs": [],
   "source": [
    "# Use these for finding the various values\n",
    "wave_off = await client.select_time_series(\"lsst.sal.ATAOS.logevent_focusOffsetSummary\", \"wavelength\", start, end)\n",
    "print(wave_off)"
   ]
  },
  {
   "cell_type": "code",
   "execution_count": null,
   "id": "2091ca70-7cf8-4e32-ab5f-aa3223fcfcd5",
   "metadata": {},
   "outputs": [],
   "source": [
    "# Use these for finding the various values\n",
    "pr_off = await client.select_time_series(\"lsst.sal.ATAOS.logevent_focusOffsetSummary\", \"priority\", start, end)\n",
    "print(pr_off)"
   ]
  },
  {
   "cell_type": "code",
   "execution_count": null,
   "id": "9ef4901c-85a2-4fa6-b998-795bc983feac",
   "metadata": {},
   "outputs": [],
   "source": [
    "# Use these for finding the various values\n",
    "z_position = await client.select_time_series(\"lsst.sal.ATHexapod.command_moveToPosition\", \"z\", start, end)\n",
    "print(z_position)"
   ]
  },
  {
   "cell_type": "code",
   "execution_count": null,
   "id": "aad8ae24",
   "metadata": {},
   "outputs": [],
   "source": [
    "# Use these for finding the various values\n",
    "shutter = await client.select_time_series(\"lsst.sal.ATCamera.logevent_shutterDetailedState\", \"substate\", start, end)\n",
    "shut_open = shutter[shutter['substate']==2]\n",
    "shut_closed = shutter[shutter['substate']==1]\n",
    "\n",
    "print(shut_open)\n",
    "print(shut_closed)\n",
    "#print(shutter)"
   ]
  },
  {
   "cell_type": "code",
   "execution_count": null,
   "id": "c99e7f03",
   "metadata": {},
   "outputs": [],
   "source": [
    "# Plot it\n",
    "fig = plt.figure(figsize = (8,6))\n",
    "#plt.suptitle(f\"Mount Tracking - ExpId {expId}\", fontsize = 18)\n",
    "# Azimuth axis\n",
    "plt.subplot(1,1,1)\n",
    "ax1 = total_off['total'].plot(legend=True, color='red', label = 'Offset')\n",
    "ax2 = z_position['z'].plot(legend=True, color='blue', label = 'Z-position')\n",
    "#ax1.set_title(\"Azimuth axis\", fontsize=16)\n",
    "for i in range(len(shut_open)):\n",
    "    ax1.axvline(shut_open.index[i], color='cyan', linestyle=\"--\", label=\"Exp_Start\")\n",
    "for i in range(len(shut_closed)):\n",
    "    ax1.axvline(shut_closed.index[i], color='magenta', linestyle=\"--\", label=\"Exp_End\")\n",
    "\n",
    "#ax1.set_ylabel(\"Degrees\")\n",
    "#ax1.legend()\n",
    "#plt.savefig(f\"/project/cslage/AuxTel/offsets/Tracking_Timebase_{expId}_29Oct21.pdf\")\n"
   ]
  },
  {
   "cell_type": "code",
   "execution_count": null,
   "id": "c3acaf15-afe2-4a64-a9d5-443f1459124f",
   "metadata": {},
   "outputs": [],
   "source": [
    "print(len(z_position), len(total_off))"
   ]
  },
  {
   "cell_type": "code",
   "execution_count": null,
   "id": "3cdd633b-f891-45d1-b6c3-ef4ef77e73da",
   "metadata": {},
   "outputs": [],
   "source": [
    "for i in range(len(z_position)):\n",
    "    print(z_position['z'][i], total_off['total'][i+2], z_position['z'][i] - total_off['total'][i+2])"
   ]
  },
  {
   "cell_type": "code",
   "execution_count": null,
   "id": "524721b7-b427-4cf5-8085-2a51dddcd39a",
   "metadata": {},
   "outputs": [],
   "source": [
    "# Offset is consistent with z_position.  Difference is constant\n",
    "print(z_position['z'][-1], total_off['total'][-1], z_position['z'][-1] - total_off['total'][-1])\n",
    "print(z_position['z'][-2], total_off['total'][-2], z_position['z'][-2] - total_off['total'][-2])\n",
    "print(z_position['z'][-3], total_off['total'][-3], z_position['z'][-3] - total_off['total'][-3])\n",
    "print(z_position['z'][-4], total_off['total'][-6], z_position['z'][-4] - total_off['total'][-6])\n",
    "print(z_position['z'][-5], total_off['total'][-9], z_position['z'][-5] - total_off['total'][-9])\n"
   ]
  },
  {
   "cell_type": "code",
   "execution_count": null,
   "id": "ad5b5424-34e8-40ee-976e-d7ad6b5371e6",
   "metadata": {},
   "outputs": [],
   "source": []
  },
  {
   "cell_type": "code",
   "execution_count": null,
   "id": "598c979c-f74c-4e19-8312-67ef4c2a3a18",
   "metadata": {},
   "outputs": [],
   "source": [
    "# Use these for finding the various values\n",
    "temp_air = await client.select_time_series(\"lsst.sal.ESS.temperature4Ch\", \"temperatureC02\", start, end)\n",
    "temp_truss = await client.select_time_series(\"lsst.sal.ESS.temperature4Ch\", \"temperatureC03\", start, end)\n",
    "temp_m2 = await client.select_time_series(\"lsst.sal.ESS.temperature4Ch\", \"temperatureC04\", start, end)\n",
    "print(temp_air.tail(1))\n",
    "print(temp_truss.tail(1))\n",
    "print(temp_m2.tail(1))"
   ]
  },
  {
   "cell_type": "code",
   "execution_count": null,
   "id": "a9b81717-06b8-4025-899a-ec0700e1d202",
   "metadata": {},
   "outputs": [],
   "source": [
    "# Use these for finding the various values\n",
    "temp_ext = await client.select_time_series(\"lsst.sal.WeatherStation.airTemperature\", \"avg1M\", start, end)\n",
    "print(temp_ext)"
   ]
  },
  {
   "cell_type": "code",
   "execution_count": null,
   "id": "b627300d-7ba3-4792-9f71-54e47640c082",
   "metadata": {},
   "outputs": [],
   "source": []
  },
  {
   "cell_type": "code",
   "execution_count": null,
   "id": "bc30ec6c-004f-4bf8-8fae-891b656003c8",
   "metadata": {},
   "outputs": [],
   "source": [
    "# Get one header data using Gen3 butler\n",
    "# This confirms that the DATE_BEG and DATE_END timestamps remain in TAI, as specified.\n",
    "before = 15.0\n",
    "after = 10.0\n",
    "tai_offset = 37.0\n",
    "\n",
    "expId = 2021100500297\n",
    "mData = butler.get('raw.metadata', detector=0, exposure=expId)\n",
    "date_beg = Time(mData['DATE-BEG'], format='isot', scale='tai')\n",
    "start = date_beg.utc - TimeDelta(before, format='sec') + TimeDelta(tai_offset, format='sec')\n",
    "end = date_beg.utc + TimeDelta(after, format='sec') + TimeDelta(tai_offset, format='sec')\n",
    "print(date_beg, start, end)"
   ]
  },
  {
   "cell_type": "code",
   "execution_count": null,
   "id": "c795b28d-e5e0-4f73-a770-157be2b0319e",
   "metadata": {},
   "outputs": [],
   "source": [
    "# Use these for finding the various values\n",
    "shutter = await client.select_time_series(\"lsst.sal.ATCamera.logevent_shutterDetailedState\", \"substate\", start, end)\n",
    "shut_open = shutter[shutter['substate']==2]\n",
    "shut_closed = shutter[shutter['substate']==1]\n",
    "\n",
    "print(shut_open)\n",
    "print(shut_closed)\n",
    "#print(shutter)"
   ]
  },
  {
   "cell_type": "code",
   "execution_count": null,
   "id": "30b90e8d-6033-45ad-a29f-e49a29de362a",
   "metadata": {},
   "outputs": [],
   "source": [
    "# Use these for finding the various values\n",
    "total_off = await client.select_time_series(\"lsst.sal.ATAOS.logevent_focusOffsetSummary\", \"total\", start, end)\n",
    "print(total_off)"
   ]
  },
  {
   "cell_type": "code",
   "execution_count": null,
   "id": "86e4b3a3-85de-4c24-92f0-de1db47d4df2",
   "metadata": {},
   "outputs": [],
   "source": [
    "# Use these for finding the various values\n",
    "disp_off = await client.select_time_series(\"lsst.sal.ATAOS.logevent_focusOffsetSummary\", \"disperser\", start, end)\n",
    "print(disp_off)"
   ]
  },
  {
   "cell_type": "code",
   "execution_count": null,
   "id": "d10d611e-36fa-4fed-969d-61a23a46817a",
   "metadata": {},
   "outputs": [],
   "source": [
    "# Use these for finding the various values\n",
    "filter_off = await client.select_time_series(\"lsst.sal.ATAOS.logevent_focusOffsetSummary\", \"filter\", start, end)\n",
    "print(filter_off)"
   ]
  },
  {
   "cell_type": "code",
   "execution_count": null,
   "id": "d30d2105-e157-41fe-a9fd-c119f7328663",
   "metadata": {},
   "outputs": [],
   "source": [
    "# Use these for finding the various values\n",
    "user_off = await client.select_time_series(\"lsst.sal.ATAOS.logevent_focusOffsetSummary\", \"userApplied\", start, end)\n",
    "print(user_off)"
   ]
  },
  {
   "cell_type": "code",
   "execution_count": null,
   "id": "56167b9c-b161-43dc-8132-40a0b02b9bcb",
   "metadata": {},
   "outputs": [],
   "source": [
    "# Use these for finding the various values\n",
    "wave_off = await client.select_time_series(\"lsst.sal.ATAOS.logevent_focusOffsetSummary\", \"wavelength\", start, end)\n",
    "print(wave_off)"
   ]
  },
  {
   "cell_type": "code",
   "execution_count": null,
   "id": "67372b16-676a-47a6-b721-4a20f034702d",
   "metadata": {},
   "outputs": [],
   "source": [
    "# Use these for finding the various values\n",
    "pr_off = await client.select_time_series(\"lsst.sal.ATAOS.logevent_focusOffsetSummary\", \"priority\", start, end)\n",
    "print(pr_off)"
   ]
  },
  {
   "cell_type": "code",
   "execution_count": null,
   "id": "71f8f7d6-0ba0-4871-b80d-3f4910c0d8e3",
   "metadata": {},
   "outputs": [],
   "source": []
  }
 ],
 "metadata": {
  "kernelspec": {
   "display_name": "LSST",
   "language": "python",
   "name": "lsst"
  },
  "language_info": {
   "codemirror_mode": {
    "name": "ipython",
    "version": 3
   },
   "file_extension": ".py",
   "mimetype": "text/x-python",
   "name": "python",
   "nbconvert_exporter": "python",
   "pygments_lexer": "ipython3",
   "version": "3.8.8"
  }
 },
 "nbformat": 4,
 "nbformat_minor": 5
}
