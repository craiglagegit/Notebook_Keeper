{
 "cells": [
  {
   "cell_type": "markdown",
   "id": "153412e6",
   "metadata": {},
   "source": [
    "# AuxTel Plot tracking - 29-Oct-21\n",
    "\n",
    "In this notebook, investigate again mount tracking on 29-Oct-21\\\n",
    "This is after the EFD was converted to UTC.\\\n",
    "Thanks to Simon Krughoff for contributions."
   ]
  },
  {
   "cell_type": "code",
   "execution_count": null,
   "id": "fcd0a71e",
   "metadata": {},
   "outputs": [],
   "source": [
    "import sys, time, os, asyncio\n",
    "\n",
    "from datetime import datetime\n",
    "import numpy as np\n",
    "import matplotlib.pyplot as plt\n",
    "%matplotlib widget\n",
    "import pandas as pd\n",
    "from astropy.time import Time, TimeDelta\n",
    "from lsst.daf.butler import Butler"
   ]
  },
  {
   "cell_type": "code",
   "execution_count": null,
   "id": "5f1e495c",
   "metadata": {},
   "outputs": [],
   "source": [
    "from lsst_efd_client import EfdClient\n",
    "from lsst_efd_client import  __version__ as efdVersion\n",
    "print(efdVersion)"
   ]
  },
  {
   "cell_type": "code",
   "execution_count": null,
   "id": "aed2b09e",
   "metadata": {},
   "outputs": [],
   "source": [
    "# Get EFD client and the butler\n",
    "client = EfdClient('ldf_stable_efd')\n",
    "butler = Butler('/repo/main', collections=\"LATISS/raw/all\")"
   ]
  },
  {
   "cell_type": "code",
   "execution_count": null,
   "id": "94f7af61",
   "metadata": {},
   "outputs": [],
   "source": [
    "expIds = [2021090900534, 2021101400007, 2021101400015, 2021110200563, 2021110400123, 2021113000005, 2021120200004]\n",
    "print(\"expId\\t\\t\\t Index Time  - taiTime (seconds)\")\n",
    "for expId in expIds:\n",
    "    mData = butler.get('raw.metadata', detector=0, exposure=expId)\n",
    "    #print(f\"{expId} \\t {mData['TIMESYS']} \\t {mData['DATE']} \\t {mData['DATE-BEG']} \\t {mData['DATE-END']}\")\n",
    "    # Need to convert DATE_BEG and DATE_END to UTC to sync up with the EFD\n",
    "    date_beg = Time(mData['DATE-BEG'], format='isot', scale='tai')\n",
    "    date_end = Time(mData['DATE-END'], format='isot', scale='tai')\n",
    "    before = 30.0\n",
    "    after = 30.0\n",
    "    if expId < 2021101300000:\n",
    "        # EFD was switched to UTC on 20211013\n",
    "        # tai_offset compensates for this\n",
    "        tai_offset = 37.0\n",
    "    else:\n",
    "        tai_offset = 0.0\n",
    "\n",
    "    start = date_beg.utc - TimeDelta(before, format='sec') + TimeDelta(tai_offset, format='sec')\n",
    "    end = date_end.utc + TimeDelta(after, format='sec') + TimeDelta(tai_offset, format='sec')\n",
    "    #print(start, end)\n",
    "\n",
    "    az_target = await client.select_time_series(\"lsst.sal.ATMCS.logevent_target\",[\"azimuth\", \"taiTime\"],  start, end)\n",
    "    tIndex = Time(az_target.index[0]) - TimeDelta(tai_offset, format='sec')\n",
    "    tTai = Time(az_target['taiTime'][0], format='unix_tai')\n",
    "    dt = tIndex - tTai\n",
    "    # The az shift and el shift are the same.\n",
    "    #print(tIndex_az.isot, (tTai - TimeDelta(tai_shift, format='sec')).isot, dt_az.sec)\n",
    "    print(f\"{expId}\\t\\t {dt.sec}\")"
   ]
  },
  {
   "cell_type": "code",
   "execution_count": null,
   "id": "d8c43a5f-2a42-4fd1-9d09-45ee9477f3d9",
   "metadata": {},
   "outputs": [],
   "source": [
    "az = await client.select_packed_time_series(\"lsst.sal.ATMCS.mount_AzEl_Encoders\", [\"azimuthCalculatedAngle\", \"taiTime\"],  tstart, tend)"
   ]
  },
  {
   "cell_type": "code",
   "execution_count": null,
   "id": "b7c4c67b",
   "metadata": {},
   "outputs": [],
   "source": [
    "print(date_beg.utc, date_end.utc)\n",
    "print(date_beg.tai, date_end.tai)"
   ]
  },
  {
   "cell_type": "code",
   "execution_count": null,
   "id": "a4742e1e",
   "metadata": {},
   "outputs": [],
   "source": [
    "# Use these for finding the \"allAxesInPosition\" timestamp\n",
    "# The inPosition timestamp makes sense with the DATE-BEG and DATE-END times\n",
    "print(inPosition)"
   ]
  },
  {
   "cell_type": "code",
   "execution_count": null,
   "id": "aad8ae24",
   "metadata": {},
   "outputs": [],
   "source": [
    "# Use these for finding the shutter status timestamp\n",
    "# The inPosition timestamp makes sense with the DATE-BEG and DATE-END times\n",
    "# They agree within a few milliseconds.\n",
    "before = 5.0\n",
    "after = 150.0\n",
    "inPos = Time(inPosition.index[0])\n",
    "tstart = inPos - TimeDelta(before, format='sec')\n",
    "tend = inPos + TimeDelta(after, format='sec')\n",
    "\n",
    "shutter = await client.select_time_series(\"lsst.sal.ATCamera.logevent_shutterDetailedState\", \"substate\", tstart, tend)\n",
    "\n",
    "# These match within msec with the DATE-BEG and DATE-END timestamps in the header,\n",
    "# after we have converted DATE_END and DATE_BEG to UTC\n",
    "print(shutter.index[0], date_beg.utc)\n",
    "print(shutter.index[1], date_end.utc)"
   ]
  },
  {
   "cell_type": "code",
   "execution_count": null,
   "id": "4a6e1537-32f9-406b-9cc5-c779e5b07618",
   "metadata": {},
   "outputs": [],
   "source": [
    "az_target = await client.select_time_series(\"lsst.sal.ATMCS.logevent_target\",[\"azimuth\", \"taiTime\"],  tstart, tend)"
   ]
  },
  {
   "cell_type": "code",
   "execution_count": null,
   "id": "bffc045c-2051-4d20-a2bd-fa780306be3b",
   "metadata": {},
   "outputs": [],
   "source": [
    "az_target"
   ]
  },
  {
   "cell_type": "code",
   "execution_count": null,
   "id": "5b4223db-f5ae-408c-a435-007df08f92b2",
   "metadata": {},
   "outputs": [],
   "source": [
    "test = pd.to_datetime(az_target['taiTime'][0])\n",
    "print(test)"
   ]
  },
  {
   "cell_type": "code",
   "execution_count": null,
   "id": "2d0890ab-48d4-4d32-bb32-1cf65fbbb91d",
   "metadata": {},
   "outputs": [],
   "source": [
    "test"
   ]
  },
  {
   "cell_type": "code",
   "execution_count": null,
   "id": "1a036049-4d3d-49b3-8c0d-13bee8882e2e",
   "metadata": {},
   "outputs": [],
   "source": [
    "test = Time(az_target['taiTime'][0], format='unix_tai')\n",
    "print(test.format)\n",
    "print(test)\n",
    "print(test.isot)"
   ]
  },
  {
   "cell_type": "code",
   "execution_count": null,
   "id": "c5966a1b-688c-4729-a6cc-2a07862cd246",
   "metadata": {},
   "outputs": [],
   "source": [
    "tIndex = az_target.index[0]\n",
    "tTai = Time(az_target['taiTime'][0], format='unix_tai').isot\n",
    "print(tIndex, tTai)"
   ]
  },
  {
   "cell_type": "code",
   "execution_count": null,
   "id": "458aa8d5-4716-4bfa-a637-27da7cf0e4ab",
   "metadata": {},
   "outputs": [],
   "source": [
    "tIndex = Time(az_target.index[0])\n",
    "tTai = Time(az_target['taiTime'][0], format='unix_tai')\n",
    "print(tIndex.format, tTai.format)\n",
    "dt = tIndex - tTai\n",
    "print(tIndex.isot, tTai.isot, dt.sec)"
   ]
  },
  {
   "cell_type": "code",
   "execution_count": null,
   "id": "9a5462b9-ad5c-4dbf-a397-402131c7406a",
   "metadata": {},
   "outputs": [],
   "source": [
    "az_target"
   ]
  },
  {
   "cell_type": "code",
   "execution_count": null,
   "id": "fd818e21-946e-4fb3-b310-e8e1a2657763",
   "metadata": {},
   "outputs": [],
   "source": [
    "az_target_vals = Time(np.array(az_target.values.tolist())[:,1], format='unix_tai')\n",
    "print(az_target_vals[0:3].isot)"
   ]
  },
  {
   "cell_type": "code",
   "execution_count": null,
   "id": "fe237ef7-9267-4afd-b8a0-d6c4684a3830",
   "metadata": {},
   "outputs": [],
   "source": [
    "pd.Timestamp(az_target_times[0].isot)"
   ]
  },
  {
   "cell_type": "code",
   "execution_count": null,
   "id": "437ca372",
   "metadata": {},
   "outputs": [],
   "source": []
  },
  {
   "cell_type": "code",
   "execution_count": null,
   "id": "eb1ca088-8bb1-40f3-8e1f-7e95dd57ea5e",
   "metadata": {},
   "outputs": [],
   "source": [
    "el_target_times[0]"
   ]
  },
  {
   "cell_type": "code",
   "execution_count": null,
   "id": "7908d728-7223-4217-b4f2-29cfbb6c82a5",
   "metadata": {},
   "outputs": [],
   "source": [
    "type(az_target_times[0])"
   ]
  },
  {
   "cell_type": "code",
   "execution_count": null,
   "id": "a2324df1-8c03-42f2-b09e-8eb6c137c9c8",
   "metadata": {},
   "outputs": [],
   "source": [
    "az_target_vals[0]"
   ]
  },
  {
   "cell_type": "code",
   "execution_count": null,
   "id": "ea073945-ef36-4e76-a0cd-8c02487d9a2f",
   "metadata": {},
   "outputs": [],
   "source": [
    "az"
   ]
  },
  {
   "cell_type": "code",
   "execution_count": null,
   "id": "c99e7f03",
   "metadata": {},
   "outputs": [],
   "source": [
    "# Get the header data\n",
    "#expId = 2021101400007\n",
    "#expId = 2021110200563\n",
    "expId = 2021120200004\n",
    "mData = butler.get('raw.metadata', detector=0, exposure=expId)\n",
    "#print(f\"{expId} \\t {mData['TIMESYS']} \\t {mData['DATE']} \\t {mData['DATE-BEG']} \\t {mData['DATE-END']}\")\n",
    "# Need to convert DATE_BEG and DATE_END to UTC to sync up with the EFD\n",
    "date_beg = Time(mData['DATE-BEG'], format='isot', scale='tai')\n",
    "date_end = Time(mData['DATE-END'], format='isot', scale='tai')\n",
    "\n",
    "# Get the inPosition timestamp\n",
    "\n",
    "tai_shift = 37.0\n",
    "\n",
    "shift = 37.0\n",
    "\n",
    "before = 150.0\n",
    "after = 30.0\n",
    "if expId < 2021101300000:\n",
    "    # EFD was switched to UTC on 20211013\n",
    "    # tai_offset compensates for this\n",
    "    tai_offset = 37.0\n",
    "else:\n",
    "    tai_offset = 0.0\n",
    "\n",
    "start = date_beg.utc - TimeDelta(before, format='sec') + TimeDelta(tai_offset, format='sec')\n",
    "end = date_end.utc + TimeDelta(after, format='sec') + TimeDelta(tai_offset, format='sec')\n",
    "\n",
    "inPosition = await client.select_time_series(\"lsst.sal.ATMCS.logevent_allAxesInPosition\", \"inPosition\", start, end)\n",
    "inPosition = inPosition[inPosition['inPosition']==True] \n",
    "\n",
    "# Now get the mount tracking info for a time before and after the inPosition timestamp.\n",
    "\n",
    "before = 120.0\n",
    "after = 30.0\n",
    "inPos = Time(inPosition.index[0])\n",
    "tstart = inPos - TimeDelta(before, format='sec')\n",
    "tend = inPos + TimeDelta(after, format='sec')\n",
    "\n",
    "print(f\"{inPos} \\t {tstart} \\t {tend}\")\n",
    "az = await client.select_packed_time_series(\"lsst.sal.ATMCS.mount_AzEl_Encoders\", \"azimuthCalculatedAngle\",  tstart, tend)\n",
    "az_target = await client.select_time_series(\"lsst.sal.ATMCS.logevent_target\", [\"azimuth\", \"taiTime\"],  tstart, tend)\n",
    "el = await client.select_packed_time_series(\"lsst.sal.ATMCS.mount_AzEl_Encoders\", \"elevationCalculatedAngle\",  tstart, tend)\n",
    "el_target = await client.select_time_series(\"lsst.sal.ATMCS.logevent_target\", [\"elevation\", \"taiTime\"],  tstart, tend)\n",
    "\n",
    "print(f\"Tstart={tstart}, Start of dataFrame = {az.index[0]}, {az_target.index[0]}\")\n",
    "\n",
    "# Plot it\n",
    "az_target_vals = np.array(az_target.values.tolist())[:,0]\n",
    "az_target_taiTimes = Time(np.array(az_target.values.tolist())[:,1]-tai_shift-shift, format='unix_tai')\n",
    "el_target_vals = np.array(el_target.values.tolist())[:,0]\n",
    "el_target_taiTimes = Time(np.array(el_target.values.tolist())[:,1]-tai_shift-shift, format='unix_tai')\n",
    "\n",
    "az_target_times = []\n",
    "el_target_times = []\n",
    "\n",
    "for i in range(len(az_target_taiTimes)):\n",
    "    az_target_times.append(pd.Timestamp(az_target_taiTimes[i].isot))\n",
    "for i in range(len(el_target_taiTimes)):    \n",
    "    el_target_times.append(pd.Timestamp(el_target_taiTimes[i].isot))\n",
    "\n",
    "fig = plt.figure(figsize = (12,6))\n",
    "plt.suptitle(f\"Mount Tracking - ExpId {expId}\", fontsize = 18)\n",
    "# Azimuth axis\n",
    "plt.subplot(1,2,1)\n",
    "ax1 = az['azimuthCalculatedAngle'].plot(legend=True, color='red')\n",
    "ax1.plot(az_target_times, az_target_vals, label='azimuth target', color='blue')\n",
    "ax1.set_title(\"Azimuth axis\", fontsize=16)\n",
    "ax1.axvline(inPosition.index[0], color=\"green\", linestyle=\"--\", label=\"All Axes In Position\")\n",
    "#ax1.axvline(shutter.index[0], color='cyan', linestyle=\"--\", label=\"Exp_Start\")\n",
    "#ax1.axvline(shutter.index[1], color='magenta', linestyle=\"--\", label=\"Exp_End\")\n",
    "ax1.set_ylabel(\"Degrees\")\n",
    "ax1.legend()\n",
    "# Elevation axis\n",
    "plt.subplot(1,2,2)\n",
    "ax2 = el['elevationCalculatedAngle'].plot(legend=True, color='red')\n",
    "ax2.plot(el_target_times, el_target_vals, label='elevation target', color='blue')\n",
    "ax2.set_title(\"Elevation axis\", fontsize=16)\n",
    "ax2.axvline(inPosition.index[0], color=\"green\", linestyle=\"--\", label=\"All Axes In Position\")\n",
    "#ax2.axvline(shutter.index[0], color='cyan', linestyle=\"--\", label=\"Exp_Start\")\n",
    "#ax2.axvline(shutter.index[1], color='magenta', linestyle=\"--\", label=\"Exp_End\")\n",
    "ax2.set_ylabel(\"Degrees\")\n",
    "ax2.legend()\n",
    "\n",
    "plt.savefig(f\"/project/cslage/AuxTel/offsets/Tracking_Timebase_taiTime_{expId}_13Dec21.pdf\")\n"
   ]
  },
  {
   "cell_type": "code",
   "execution_count": null,
   "id": "bafc490c-e535-4fe7-944f-998b705a3b4e",
   "metadata": {
    "tags": []
   },
   "outputs": [],
   "source": [
    "# Add a time offset to the packed series.\n",
    "offset = 0.0# seconds\n",
    "\n",
    "az_vals = np.array(az.values.tolist())[:,0]\n",
    "az_times = np.array(az.index.tolist())\n",
    "el_vals = np.array(el.values.tolist())[:,0]\n",
    "el_times = np.array(el.index.tolist())\n",
    "\n",
    "for i, t in enumerate(az_times):\n",
    "    az_times[i] = az_times[i] + pd.Timedelta(value=offset*1.0E9) # pandas Timedelta is in nsec\n",
    "    el_times[i] = el_times[i] + pd.Timedelta(value=offset*1.0E9) # pandas Timedelta is in nsec\n",
    "az_target_vals = np.array(az_target.values.tolist())[:,0]\n",
    "az_target_times = np.array(az_target.index.tolist())\n",
    "el_target_vals = np.array(el_target.values.tolist())[:,0]\n",
    "el_target_times = np.array(el_target.index.tolist())\n",
    "\n",
    "# Interpolate target values to match packed values\n",
    "az_target_interp = np.zeros([len(az_times)])\n",
    "el_target_interp = np.zeros([len(el_times)])\n",
    "lastj = 0\n",
    "for i,azTime in enumerate(az_times):\n",
    "    if (Time(azTime) - Time(az_target_times[0])) < 0:\n",
    "        az_target_interp[i] = -1.0\n",
    "        el_target_interp[i] = -1.0\n",
    "    else:\n",
    "        for j in range(lastj, len(az_target_times)):\n",
    "            dT = Time(azTime) - Time(az_target_times[j])\n",
    "            dT = dT.sec\n",
    "            #print(j, azTime, azTTime, dT)\n",
    "            if dT < 0 :\n",
    "                break\n",
    "        if j == 0:\n",
    "            az_target_interp[i] = -1.0\n",
    "            el_target_interp[i] = -1.0\n",
    "            continue\n",
    "        dT1 = Time(az_target_times[j]) - Time(az_target_times[j-1])\n",
    "        dT1 = dT1.sec\n",
    "        slope_az = (az_target_vals[j] - az_target_vals[j-1]) / dT1\n",
    "        slope_el = (el_target_vals[j] - el_target_vals[j-1]) / dT1\n",
    "        dT2 = Time(azTime) - Time(az_target_times[j-1])\n",
    "        dT2 = dT2.sec\n",
    "        az_target_interp[i] = az_target_vals[j-1] + slope_az * dT2\n",
    "        el_target_interp[i] = el_target_vals[j-1] + slope_el * dT2\n",
    "        lastj = j - 1\n",
    "        if i%500 == 0:\n",
    "            print(i, j, az_target_vals[j-1], az_target_vals[j], slope, az_target_interp[i])\n"
   ]
  },
  {
   "cell_type": "code",
   "execution_count": null,
   "id": "b99c80ff-5181-4364-9e74-b4e2f6b4e212",
   "metadata": {},
   "outputs": [],
   "source": [
    "# Plot it\n",
    "az_target_vals = np.array(az_target.values.tolist())[:,0]\n",
    "az_target_times = np.array(az_target.index.tolist())\n",
    "el_target_vals = np.array(el_target.values.tolist())[:,0]\n",
    "el_target_times = np.array(el_target.index.tolist())\n",
    "\n",
    "fig = plt.figure(figsize = (8,8))\n",
    "plt.subplots_adjust(hspace=0.5, wspace=0.5)\n",
    "plt.suptitle(f\"Mount Tracking - ExpId {expId}\", fontsize = 18)\n",
    "# Azimuth axis\n",
    "plt.subplot(2,2,1)\n",
    "ax1 = az_target['azimuth'].plot(legend=True, label='Azimuth target', color='blue')\n",
    "ax1.plot(az_times, az_vals, label='azimuth', color='red')\n",
    "ax1.set_title(\"Azimuth axis\", fontsize=16)\n",
    "ax1.axvline(inPosition.index[0], color=\"green\", linestyle=\"--\", label=\"All Axes In Position\")\n",
    "#ax1.axvline(shutter.index[0], color='cyan', linestyle=\"--\", label=\"Exp_Start\")\n",
    "#ax1.axvline(shutter.index[1], color='magenta', linestyle=\"--\", label=\"Exp_End\")\n",
    "ax1.set_ylabel(\"Degrees\")\n",
    "ax1.legend()\n",
    "# Elevation axis\n",
    "plt.subplot(2,2,2)\n",
    "ax2 = el_target['elevation'].plot(legend=True, label='Elevation target', color='blue')\n",
    "ax2.plot(el_times, el_vals, label='elevation', color='red')\n",
    "ax2.set_title(\"Elevation axis\", fontsize=16)\n",
    "ax2.axvline(inPosition.index[0], color=\"green\", linestyle=\"--\", label=\"All Axes In Position\")\n",
    "#ax2.axvline(shutter.index[0], color='cyan', linestyle=\"--\", label=\"Exp_Start\")\n",
    "#ax2.axvline(shutter.index[1], color='magenta', linestyle=\"--\", label=\"Exp_End\")\n",
    "ax2.set_ylabel(\"Degrees\")\n",
    "ax2.legend()\n",
    "plt.subplot(2,2,3)\n",
    "ax3 = az_target['azimuth'].plot(legend=False)\n",
    "ax3.plot(az_times, abs(az_vals - az_target_interp), color='magenta', label='azimuthError')\n",
    "ax3.set_title(\"Azimuth Error\", fontsize=16)\n",
    "ax3.axvline(inPosition.index[0], color=\"green\", linestyle=\"--\", label=\"All Axes In Position\")\n",
    "#ax3.axvline(shutter.index[0], color='cyan', linestyle=\"--\", label=\"Exp_Start\")\n",
    "#ax3.axvline(shutter.index[1], color='magenta', linestyle=\"--\", label=\"Exp_End\")\n",
    "ax3.set_ylabel(\"Degrees\")\n",
    "ax3.set_ylim(0.0, 0.4)\n",
    "ax3.legend()\n",
    "plt.subplot(2,2,4)\n",
    "ax4 = el_target['elevation'].plot(legend=False)\n",
    "ax4.plot(el_times, abs(el_vals - el_target_interp), color='magenta', label='elevationError')\n",
    "ax4.set_title(\"Elevation Error\", fontsize=16)\n",
    "ax4.axvline(inPosition.index[0], color=\"green\", linestyle=\"--\", label=\"All Axes In Position\")\n",
    "#ax4.axvline(shutter.index[0], color='cyan', linestyle=\"--\", label=\"Exp_Start\")\n",
    "#ax4.axvline(shutter.index[1], color='magenta', linestyle=\"--\", label=\"Exp_End\")\n",
    "ax4.set_ylabel(\"Degrees\")\n",
    "ax4.set_ylim(0.0, 0.2)\n",
    "ax4.legend()\n",
    "\n",
    "plt.savefig(f\"/project/cslage/AuxTel/offsets/Tracking_Timebase_{expId}_Offset_0p0_09Dec21.pdf\")\n"
   ]
  },
  {
   "cell_type": "code",
   "execution_count": null,
   "id": "ad5b5424-34e8-40ee-976e-d7ad6b5371e6",
   "metadata": {
    "tags": []
   },
   "outputs": [],
   "source": [
    "for i in range(15000, 15500):\n",
    "    print(az_times[i], az_vals[i], az_target_interp[i])"
   ]
  },
  {
   "cell_type": "code",
   "execution_count": null,
   "id": "1ed3de8e-c1a8-471d-b78a-12fe1f5ca707",
   "metadata": {},
   "outputs": [],
   "source": []
  }
 ],
 "metadata": {
  "kernelspec": {
   "display_name": "LSST",
   "language": "python",
   "name": "lsst"
  },
  "language_info": {
   "codemirror_mode": {
    "name": "ipython",
    "version": 3
   },
   "file_extension": ".py",
   "mimetype": "text/x-python",
   "name": "python",
   "nbconvert_exporter": "python",
   "pygments_lexer": "ipython3",
   "version": "3.8.8"
  }
 },
 "nbformat": 4,
 "nbformat_minor": 5
}
