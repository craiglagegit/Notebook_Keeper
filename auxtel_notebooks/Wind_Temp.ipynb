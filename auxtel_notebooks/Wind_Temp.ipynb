{
 "cells": [
  {
   "cell_type": "code",
   "execution_count": null,
   "id": "5ea20305-1ba7-426b-9a10-2356565185c7",
   "metadata": {
    "execution": {
     "iopub.execute_input": "2024-02-09T14:29:31.226131Z",
     "iopub.status.busy": "2024-02-09T14:29:31.225899Z",
     "iopub.status.idle": "2024-02-09T14:29:39.037454Z",
     "shell.execute_reply": "2024-02-09T14:29:39.037004Z",
     "shell.execute_reply.started": "2024-02-09T14:29:31.226116Z"
    }
   },
   "outputs": [],
   "source": [
    "import sys, time, os, asyncio, warnings\n",
    "from datetime import datetime\n",
    "import numpy as np\n",
    "import pandas as pd\n",
    "import pickle as pkl\n",
    "import matplotlib.pyplot as plt\n",
    "%matplotlib inline\n",
    "from astropy.time import Time, TimeDelta\n",
    "\n",
    "from lsst_efd_client import EfdClient\n",
    "from lsst.daf.butler import Butler\n",
    "\n",
    "from lsst.rubintv.production import mountTorques\n",
    "import lsst.summit.utils.butlerUtils as butlerUtils\n",
    "from lsst.summit.utils.utils import dayObsIntToString\n",
    "from lsst.summit.utils.efdUtils import calcNextDay\n",
    "from lsst.ts.observing.utilities.decorated_logger import DecoratedLogger"
   ]
  },
  {
   "cell_type": "code",
   "execution_count": null,
   "id": "89c1d0e5-3890-41c5-8a1c-0b6ac55276cc",
   "metadata": {},
   "outputs": [],
   "source": [
    "butler = Butler('/repo/embargo', collections=\"LATISS/raw/all\")\n",
    "client = EfdClient('usdf_efd')\n",
    "logger = DecoratedLogger.get_decorated_logger()"
   ]
  },
  {
   "cell_type": "code",
   "execution_count": null,
   "id": "9e939465-d662-4e20-aea2-9e45eca5a6ea",
   "metadata": {},
   "outputs": [],
   "source": [
    "warnings. filterwarnings('ignore')\n",
    "\n",
    "dayObs = 20230704\n",
    "seqNum = 268\n",
    "\n",
    "expId = dayObs * 100000 + seqNum\n",
    "dataId = {'detector':0, 'exposure':expId}\n",
    "\n",
    "mData = butler.get('raw.metadata', dataId=dataId)\n",
    "tStart = mData['DATE-BEG']\n",
    "tEnd = mData['DATE-END']\n",
    "az = mData['AZSTART']\n",
    "el = mData['ELSTART']\n",
    "\n",
    "saveFileName = None\n",
    "figure = None\n",
    "err = mountTorques.calculateMountErrors(dataId, butler, client, figure, saveFileName, logger)\n",
    "print(err)\n",
    "start = Time(tStart, scale='tai')\n",
    "end = Time(tEnd, scale='tai')\n",
    "print(start.utc.isot, end.utc.isot)"
   ]
  },
  {
   "cell_type": "code",
   "execution_count": null,
   "id": "7559145d-0649-406d-b07e-63b6fa17a245",
   "metadata": {},
   "outputs": [],
   "source": []
  },
  {
   "cell_type": "code",
   "execution_count": null,
   "id": "2c6a0014-eebc-4555-bcb4-42d0c5d3c975",
   "metadata": {},
   "outputs": [],
   "source": [
    "import requests"
   ]
  },
  {
   "cell_type": "code",
   "execution_count": null,
   "id": "32a2c9a8-c416-4818-9894-2363296f59ba",
   "metadata": {},
   "outputs": [],
   "source": [
    "URL = \"https://roundtable.lsst.codes/rubintv/summit/auxtel/historical/2024-02-07\""
   ]
  },
  {
   "cell_type": "code",
   "execution_count": null,
   "id": "1544f619-baff-463c-8eca-eb58b1f6d322",
   "metadata": {},
   "outputs": [],
   "source": [
    "request = requests.get(URL)"
   ]
  },
  {
   "cell_type": "code",
   "execution_count": null,
   "id": "bdd55b8e-d19d-469d-ba08-58a79595df20",
   "metadata": {},
   "outputs": [],
   "source": [
    "request."
   ]
  },
  {
   "cell_type": "code",
   "execution_count": null,
   "id": "36d11113-174c-4d8f-a73a-797f6dd87d4d",
   "metadata": {},
   "outputs": [],
   "source": [
    "from selenium import webdriver"
   ]
  },
  {
   "cell_type": "code",
   "execution_count": null,
   "id": "88c5411f-9907-4148-9200-16ee123b148e",
   "metadata": {},
   "outputs": [],
   "source": [
    "from selenium import webdriver\n",
    "download_dir=\"D:\\a\"\n",
    "fp = webdriver.FirefoxProfile()\n",
    "fp.set_preference(\"browser.download.dir\", download_dir)\n",
    "fp.set_preference(\"browser.download.manager.showWhenStarting\",False)\n",
    "fp.set_preference(\"browser.helperApps.neverAsk.saveToDisk\", \"application/octet-stream\");\n",
    "browser = webdriver.Firefox(firefox_profile=fp)\n",
    "browser.get(\"http://pypi.python.org/pypi/selenium\")\n",
    "# you can use your url here \n",
    "browser.find_element_by_partial_link_text(\"selenium-2\").click()\n",
    "# Use your method to identify class or link text here\n",
    "browser.close();"
   ]
  },
  {
   "cell_type": "code",
   "execution_count": null,
   "id": "8d51bf19-b09e-45fd-be45-65744bdefc8e",
   "metadata": {},
   "outputs": [],
   "source": [
    "download_dir = \"/home/c/cslage/u/AuxTel/rubintv_jsons\""
   ]
  },
  {
   "cell_type": "code",
   "execution_count": null,
   "id": "d022eee2-778d-46d9-a41a-0fc377d60cf0",
   "metadata": {},
   "outputs": [],
   "source": [
    "fp = webdriver.FirefoxProfile()\n",
    "fp.set_preference(\"browser.download.dir\", download_dir)\n",
    "fp.set_preference(\"browser.download.manager.showWhenStarting\",False)\n",
    "fp.set_preference(\"browser.helperApps.neverAsk.saveToDisk\", \"application/octet-stream\");\n",
    "browser = webdriver.Firefox(fp)\n"
   ]
  },
  {
   "cell_type": "code",
   "execution_count": null,
   "id": "7e07a3b2-7336-4c89-b469-73b3d4ddbaa1",
   "metadata": {},
   "outputs": [],
   "source": [
    "options = webdriver.FirefoxOptions()\n",
    "browser = webdriver.Firefox(options=options)\n"
   ]
  },
  {
   "cell_type": "code",
   "execution_count": null,
   "id": "fab8f322-99c0-4b2e-a925-dd8880ea6208",
   "metadata": {},
   "outputs": [],
   "source": []
  },
  {
   "cell_type": "code",
   "execution_count": null,
   "id": "37aa6c65-faee-4258-9f33-bd669963d110",
   "metadata": {},
   "outputs": [],
   "source": []
  },
  {
   "cell_type": "code",
   "execution_count": null,
   "id": "90e8392d-30ac-4a79-9f53-0ae2fffa948c",
   "metadata": {},
   "outputs": [],
   "source": []
  },
  {
   "cell_type": "code",
   "execution_count": null,
   "id": "3260b805-26e3-4934-915f-33be1813bb98",
   "metadata": {},
   "outputs": [],
   "source": [
    "webdriver.Firefox?"
   ]
  },
  {
   "cell_type": "code",
   "execution_count": null,
   "id": "c7b12be2-88f9-4df2-b72a-e06c330d9fac",
   "metadata": {},
   "outputs": [],
   "source": []
  }
 ],
 "metadata": {
  "kernelspec": {
   "display_name": "LSST",
   "language": "python",
   "name": "lsst"
  },
  "language_info": {
   "codemirror_mode": {
    "name": "ipython",
    "version": 3
   },
   "file_extension": ".py",
   "mimetype": "text/x-python",
   "name": "python",
   "nbconvert_exporter": "python",
   "pygments_lexer": "ipython3",
   "version": "3.11.7"
  }
 },
 "nbformat": 4,
 "nbformat_minor": 5
}
