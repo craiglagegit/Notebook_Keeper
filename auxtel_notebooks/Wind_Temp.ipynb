{
 "cells": [
  {
   "cell_type": "code",
   "execution_count": null,
   "id": "5ea20305-1ba7-426b-9a10-2356565185c7",
   "metadata": {
    "execution": {
     "iopub.execute_input": "2024-04-04T13:57:24.326980Z",
     "iopub.status.busy": "2024-04-04T13:57:24.326562Z",
     "iopub.status.idle": "2024-04-04T13:57:31.128807Z",
     "shell.execute_reply": "2024-04-04T13:57:31.128368Z",
     "shell.execute_reply.started": "2024-04-04T13:57:24.326964Z"
    }
   },
   "outputs": [],
   "source": [
    "import sys, time, os, asyncio, warnings\n",
    "from datetime import datetime\n",
    "import numpy as np\n",
    "import pandas as pd\n",
    "import pickle as pkl\n",
    "import matplotlib.pyplot as plt\n",
    "%matplotlib inline\n",
    "from astropy.time import Time, TimeDelta\n",
    "from lsst.daf.butler import Butler\n",
    "from lsst_efd_client import EfdClient\n",
    "from lsst.summit.utils import dayObsIntToString\n",
    "from lsst.summit.utils.efdUtils import calcNextDay\n",
    "from lsst.summit.extras.rubinTvDatabase import getRubinTvDatabase\n",
    "# This needs tickets/DM-42894 for summit_extras"
   ]
  },
  {
   "cell_type": "code",
   "execution_count": null,
   "id": "89c1d0e5-3890-41c5-8a1c-0b6ac55276cc",
   "metadata": {
    "execution": {
     "iopub.execute_input": "2024-04-01T19:01:04.434349Z",
     "iopub.status.busy": "2024-04-01T19:01:04.434223Z",
     "iopub.status.idle": "2024-04-01T19:01:05.506092Z",
     "shell.execute_reply": "2024-04-01T19:01:05.505656Z",
     "shell.execute_reply.started": "2024-04-01T19:01:04.434337Z"
    }
   },
   "outputs": [],
   "source": [
    "client = EfdClient('usdf_efd')\n",
    "butler = Butler('/repo/embargo', collections=\"LATISS/raw/all\")"
   ]
  },
  {
   "cell_type": "markdown",
   "id": "63fd82e0-b536-4128-b2fb-65b522052696",
   "metadata": {},
   "source": [
    "# Get the classified mount error data from 2023"
   ]
  },
  {
   "cell_type": "code",
   "execution_count": null,
   "id": "ad917073-90d6-487e-8c80-a79fc9d21ad5",
   "metadata": {
    "execution": {
     "iopub.execute_input": "2024-04-01T19:01:06.409306Z",
     "iopub.status.busy": "2024-04-01T19:01:06.409021Z",
     "iopub.status.idle": "2024-04-01T19:01:06.447868Z",
     "shell.execute_reply": "2024-04-01T19:01:06.447471Z",
     "shell.execute_reply.started": "2024-04-01T19:01:06.409291Z"
    }
   },
   "outputs": [],
   "source": [
    "infile = open('/home/c/cslage/u/AuxTel/mount_classifier/Mount_Errors_Classified_Dict_29Dec23.pkl', 'rb')\n",
    "Mount_Errors_Classified_Dict = pkl.load(infile)\n",
    "infile.close()"
   ]
  },
  {
   "cell_type": "markdown",
   "id": "1e932ad3-6aa4-46e8-9ec2-aa4a119498ab",
   "metadata": {},
   "source": [
    "# Get the RubinTV json data"
   ]
  },
  {
   "cell_type": "code",
   "execution_count": null,
   "id": "b9aa96d2-5e38-43be-8cd8-eb5fd8e9654e",
   "metadata": {
    "execution": {
     "iopub.execute_input": "2024-04-04T13:57:31.137179Z",
     "iopub.status.busy": "2024-04-04T13:57:31.137044Z",
     "iopub.status.idle": "2024-04-04T13:57:48.706903Z",
     "shell.execute_reply": "2024-04-04T13:57:48.706375Z",
     "shell.execute_reply.started": "2024-04-04T13:57:31.137167Z"
    }
   },
   "outputs": [],
   "source": [
    "json_data = getRubinTvDatabase('LATISS')"
   ]
  },
  {
   "cell_type": "markdown",
   "id": "b584dc5b-1e5a-4358-bbbd-000b9c6f6377",
   "metadata": {},
   "source": [
    "# Now walk thru 2023, getting the wind induced failures and the wind speed data"
   ]
  },
  {
   "cell_type": "code",
   "execution_count": null,
   "id": "7cf87b4e-0061-4d86-ac0c-46cb4843fcd0",
   "metadata": {
    "execution": {
     "iopub.execute_input": "2024-02-27T13:31:56.270927Z",
     "iopub.status.busy": "2024-02-27T13:31:56.270476Z",
     "iopub.status.idle": "2024-02-27T14:08:56.151802Z",
     "shell.execute_reply": "2024-02-27T14:08:56.151435Z",
     "shell.execute_reply.started": "2024-02-27T13:31:56.270910Z"
    },
    "jupyter": {
     "outputs_hidden": true
    }
   },
   "outputs": [],
   "source": [
    "wind_speeds = []\n",
    "image_degs = []\n",
    "image_dirs = []\n",
    "els = []\n",
    "azs = []\n",
    "wind_directions = []\n",
    "\n",
    "startDay = 20230101\n",
    "endDay = 20231231\n",
    "\n",
    "dayObs = startDay\n",
    "while dayObs < endDay:\n",
    "    # Don't do the dayObs if there is no wind data.\n",
    "    nextDayObs = calcNextDay(dayObs)\n",
    "    start = Time(f\"{dayObsIntToString(dayObs)} 23:00:00Z\", scale='utc')\n",
    "    end = Time(f\"{dayObsIntToString(nextDayObs)} 08:00:00Z\", scale='utc')\n",
    "    maxSpeed = await client.select_time_series('lsst.sal.ESS.airFlow', \\\n",
    "                                                ['maxSpeed'],  start, end, index=301)\n",
    "    if len(maxSpeed) == 0:\n",
    "        print(f\"No wind data for {dayObs}\")\n",
    "        dayObs = calcNextDay(dayObs)\n",
    "        continue\n",
    "\n",
    "    this_rubintv = json_data[json_data['dayObs'] == dayObs]\n",
    "    seqNums = this_rubintv['seqNum'].values\n",
    "    counter = 0\n",
    "    for seqNum in seqNums:\n",
    "        try:\n",
    "            if seqNum in Mount_Errors_Classified_Dict[dayObs]['OSC']:\n",
    "                continue\n",
    "            if seqNum in Mount_Errors_Classified_Dict[dayObs]['TIM']:\n",
    "                continue\n",
    "        except:\n",
    "            pass\n",
    "        # Get the image degradation from RubinTV\n",
    "        seqNum_rubintv = this_rubintv[this_rubintv['seqNum'] == seqNum]\n",
    "        try:\n",
    "            image_deg = seqNum_rubintv['Mount motion image degradation'].values[0]\n",
    "            if np.isnan(image_deg):\n",
    "                continue\n",
    "            # Get the other data from the butler\n",
    "            expId = dayObs * 100000 + seqNum\n",
    "            dataId = {'detector':0, 'exposure':expId}\n",
    "            mData = butler.get('raw.metadata', dataId=dataId)\n",
    "            tStart = mData['DATE-BEG']\n",
    "            start = Time(tStart, scale='tai').utc\n",
    "            tEnd = mData['DATE-END']\n",
    "            end = Time(tEnd, scale='tai').utc\n",
    "            az = mData['AZSTART']\n",
    "            el = mData['ELSTART']\n",
    "            wind_data = await client.select_time_series('lsst.sal.ESS.airFlow', \\\n",
    "                                                    ['maxSpeed','direction'],  start, end, index=301)\n",
    "            if len(wind_data) == 0:\n",
    "                # Checks to make sure wind data is there\n",
    "                continue\n",
    "        except:\n",
    "            continue\n",
    "        wind_speed = np.median(wind_data.values[:,0])\n",
    "        wind_dir = np.median(wind_data.values[:,1])\n",
    "        image_dir = (wind_dir - az) \n",
    "        # This is the angle between the \n",
    "        # wind and the telescope pointing\n",
    "        els.append(el)\n",
    "        azs.append(az)\n",
    "        wind_directions.append(wind_dir)\n",
    "        image_degs.append(image_deg)\n",
    "        wind_speeds.append(wind_speed)\n",
    "        image_dirs.append(image_dir)\n",
    "        counter += 1\n",
    "        #print(expId, image_deg, wind_speed, wind_dir, az, image_dir)  \n",
    "    print(f\"Finished {dayObs}, with {counter} good values\")\n",
    "    dayObs = calcNextDay(dayObs)\n"
   ]
  },
  {
   "cell_type": "code",
   "execution_count": null,
   "id": "c7b12be2-88f9-4df2-b72a-e06c330d9fac",
   "metadata": {
    "execution": {
     "iopub.execute_input": "2024-02-27T14:15:05.896519Z",
     "iopub.status.busy": "2024-02-27T14:15:05.896183Z",
     "iopub.status.idle": "2024-02-27T14:15:05.899300Z",
     "shell.execute_reply": "2024-02-27T14:15:05.898946Z",
     "shell.execute_reply.started": "2024-02-27T14:15:05.896501Z"
    }
   },
   "outputs": [],
   "source": [
    "len(wind_speeds)"
   ]
  },
  {
   "cell_type": "markdown",
   "id": "81bb50d0-02b0-4fa6-a8f6-c56a42ec70e4",
   "metadata": {
    "execution": {
     "iopub.execute_input": "2024-02-27T14:53:33.540169Z",
     "iopub.status.busy": "2024-02-27T14:53:33.539871Z",
     "iopub.status.idle": "2024-02-27T14:53:33.542451Z",
     "shell.execute_reply": "2024-02-27T14:53:33.542057Z",
     "shell.execute_reply.started": "2024-02-27T14:53:33.540153Z"
    }
   },
   "source": [
    "# Bin the data by wind speed to eliminate the noise"
   ]
  },
  {
   "cell_type": "code",
   "execution_count": null,
   "id": "7c1d0e70-adbf-4141-b46f-d711162aa0ea",
   "metadata": {
    "execution": {
     "iopub.execute_input": "2024-02-27T14:48:12.793298Z",
     "iopub.status.busy": "2024-02-27T14:48:12.792683Z",
     "iopub.status.idle": "2024-02-27T14:48:12.934515Z",
     "shell.execute_reply": "2024-02-27T14:48:12.933982Z",
     "shell.execute_reply.started": "2024-02-27T14:48:12.793279Z"
    }
   },
   "outputs": [],
   "source": [
    "%matplotlib inline\n",
    "plot_speeds = []\n",
    "plot_degs = []\n",
    "yerr = []\n",
    "speed_step = 1\n",
    "for speed in range(0,16,speed_step):\n",
    "    speed_min = speed\n",
    "    speed_max = speed + speed_step\n",
    "    degs = []\n",
    "    for i in range(len(wind_speeds)):\n",
    "        if wind_speeds[i] > speed_min and wind_speeds[i] < speed_max:\n",
    "            deg = image_degs[i]\n",
    "            if deg < 2.0:\n",
    "                degs.append(image_degs[i])\n",
    "    plot_speeds.append(speed + speed_step / 2.0)\n",
    "    plot_degs.append(np.median(degs))\n",
    "    yerr.append(np.std(degs) / np.sqrt(len(degs)))\n",
    "plt.errorbar(plot_speeds, plot_degs, yerr=yerr, marker = 'x')\n",
    "plt.xlabel(\"Wind speed (m/s)\")\n",
    "plt.ylabel(\"Median mount motion image degradation (arcseconds)\")\n",
    "plt.ylim(0,0.5)\n"
   ]
  },
  {
   "cell_type": "markdown",
   "id": "a8293f8f-4ade-4e38-b71d-5bbbc41c0fc8",
   "metadata": {
    "execution": {
     "iopub.execute_input": "2024-02-27T14:53:33.540169Z",
     "iopub.status.busy": "2024-02-27T14:53:33.539871Z",
     "iopub.status.idle": "2024-02-27T14:53:33.542451Z",
     "shell.execute_reply": "2024-02-27T14:53:33.542057Z",
     "shell.execute_reply.started": "2024-02-27T14:53:33.540153Z"
    }
   },
   "source": [
    "# Now try binning by angle between the wind and the telescope"
   ]
  },
  {
   "cell_type": "code",
   "execution_count": null,
   "id": "b03e55b2-84ff-429e-9430-a8a4e6e08fe0",
   "metadata": {
    "execution": {
     "iopub.execute_input": "2024-02-27T15:51:30.965706Z",
     "iopub.status.busy": "2024-02-27T15:51:30.965399Z",
     "iopub.status.idle": "2024-02-27T15:51:31.161017Z",
     "shell.execute_reply": "2024-02-27T15:51:31.160622Z",
     "shell.execute_reply.started": "2024-02-27T15:51:30.965690Z"
    }
   },
   "outputs": [],
   "source": [
    "%matplotlib inline\n",
    "speed_step = 2\n",
    "dirs = [[-10, 10, 'blue'], [170, 190, 'red'], [80, 100, 'green']]\n",
    "for [dir_min, dir_max, color] in dirs:\n",
    "    plot_speeds = []\n",
    "    plot_degs = []\n",
    "    yerr = []\n",
    "\n",
    "    for speed in range(0,16,speed_step):\n",
    "        speed_min = speed\n",
    "        speed_max = speed + speed_step\n",
    "        degs = []\n",
    "        for i in range(len(wind_speeds)):\n",
    "            if wind_speeds[i] > speed_min and wind_speeds[i] < speed_max \\\n",
    "            and ((image_dirs[i] > dir_min and image_dirs[i] < dir_max) \\\n",
    "            or (image_dirs[i] < -dir_min and image_dirs[i] < -dir_max)):\n",
    "                deg = image_degs[i]\n",
    "                if deg < 2.0:\n",
    "                    degs.append(image_degs[i])\n",
    "        plot_speeds.append(speed + speed_step / 2.0)\n",
    "        plot_degs.append(np.median(degs))\n",
    "        yerr.append(np.std(degs) / np.sqrt(len(degs)))\n",
    "        #print(dir_min, speed_min, len(degs))\n",
    "    plt.errorbar(plot_speeds, plot_degs, yerr=yerr, marker = 'x', color=color, label=\"Az = \"+str(dir_min+10))\n",
    "plt.xlabel(\"Wind speed (m/s)\")\n",
    "plt.ylabel(\"Median mount motion image degradation (arcseconds)\")\n",
    "plt.ylim(0,0.5)\n",
    "plt.legend()\n"
   ]
  },
  {
   "cell_type": "markdown",
   "id": "0f4ec5a1-1419-4d66-b7de-69573b8e5477",
   "metadata": {
    "execution": {
     "iopub.execute_input": "2024-02-27T14:53:33.540169Z",
     "iopub.status.busy": "2024-02-27T14:53:33.539871Z",
     "iopub.status.idle": "2024-02-27T14:53:33.542451Z",
     "shell.execute_reply": "2024-02-27T14:53:33.542057Z",
     "shell.execute_reply.started": "2024-02-27T14:53:33.540153Z"
    }
   },
   "source": [
    "# Now try binning by elevation"
   ]
  },
  {
   "cell_type": "code",
   "execution_count": null,
   "id": "63d32d9b-fb8e-40ae-aa84-d0fbe557cb00",
   "metadata": {
    "execution": {
     "iopub.execute_input": "2024-02-27T15:54:44.662819Z",
     "iopub.status.busy": "2024-02-27T15:54:44.662513Z",
     "iopub.status.idle": "2024-02-27T15:54:44.856942Z",
     "shell.execute_reply": "2024-02-27T15:54:44.856537Z",
     "shell.execute_reply.started": "2024-02-27T15:54:44.662802Z"
    }
   },
   "outputs": [],
   "source": [
    "%matplotlib inline\n",
    "speed_step = 2\n",
    "dirs = [[20, 40, 'blue'], [40, 60, 'red'], [60, 85, 'green']]\n",
    "for [dir_min, dir_max, color] in dirs:\n",
    "    plot_speeds = []\n",
    "    plot_degs = []\n",
    "    yerr = []\n",
    "\n",
    "    for speed in range(0,16,speed_step):\n",
    "        speed_min = speed\n",
    "        speed_max = speed + speed_step\n",
    "        degs = []\n",
    "        for i in range(len(wind_speeds)):\n",
    "            if wind_speeds[i] > speed_min and wind_speeds[i] < speed_max \\\n",
    "            and els[i] > dir_min and els[i] < dir_max:\n",
    "                deg = image_degs[i]\n",
    "                if deg < 2.0:\n",
    "                    degs.append(image_degs[i])\n",
    "        plot_speeds.append(speed + speed_step / 2.0)\n",
    "        plot_degs.append(np.median(degs))\n",
    "        yerr.append(np.std(degs) / np.sqrt(len(degs)))\n",
    "        #print(dir_min, speed_min, len(degs))\n",
    "    plt.errorbar(plot_speeds, plot_degs, yerr=yerr, marker = 'x', color=color, label=\"El = \"+str(dir_min+10))\n",
    "plt.xlabel(\"Wind speed (m/s)\")\n",
    "plt.ylabel(\"Median mount motion image degradation (arcseconds)\")\n",
    "plt.ylim(0,0.5)\n",
    "plt.legend()\n"
   ]
  },
  {
   "cell_type": "code",
   "execution_count": null,
   "id": "11a43f7d-149d-4a90-8d28-2c46392b8db8",
   "metadata": {
    "execution": {
     "iopub.execute_input": "2024-02-27T14:42:54.885308Z",
     "iopub.status.busy": "2024-02-27T14:42:54.885040Z",
     "iopub.status.idle": "2024-02-27T14:42:54.991132Z",
     "shell.execute_reply": "2024-02-27T14:42:54.990584Z",
     "shell.execute_reply.started": "2024-02-27T14:42:54.885291Z"
    }
   },
   "outputs": [],
   "source": [
    "plt.hist(image_dirs)"
   ]
  },
  {
   "cell_type": "code",
   "execution_count": null,
   "id": "0df10656-637a-4651-91f2-7f72e8705b9b",
   "metadata": {
    "execution": {
     "iopub.execute_input": "2024-02-27T14:18:24.167573Z",
     "iopub.status.busy": "2024-02-27T14:18:24.167161Z",
     "iopub.status.idle": "2024-02-27T14:18:24.361177Z",
     "shell.execute_reply": "2024-02-27T14:18:24.360809Z",
     "shell.execute_reply.started": "2024-02-27T14:18:24.167556Z"
    }
   },
   "outputs": [],
   "source": [
    "%matplotlib inline\n",
    "plot_speeds = []\n",
    "plot_degs = []\n",
    "for i in range(len(wind_speeds)):\n",
    "    #if wind_directions[i] > 160.0 and wind_directions[i] < 200.0:\n",
    "    plot_speeds.append(wind_speeds[i])\n",
    "    plot_degs.append(image_degs[i])\n",
    "plt.scatter(plot_speeds, plot_degs)\n",
    "plt.xlabel(\"Wind speed (m/s)\")\n",
    "plt.ylabel(\"Mount motion image degradation (arcseconds)\")\n",
    "plt.ylim(0,1.0)\n"
   ]
  }
 ],
 "metadata": {
  "kernelspec": {
   "display_name": "LSST",
   "language": "python",
   "name": "lsst"
  },
  "language_info": {
   "codemirror_mode": {
    "name": "ipython",
    "version": 3
   },
   "file_extension": ".py",
   "mimetype": "text/x-python",
   "name": "python",
   "nbconvert_exporter": "python",
   "pygments_lexer": "ipython3",
   "version": "3.11.7"
  }
 },
 "nbformat": 4,
 "nbformat_minor": 5
}
