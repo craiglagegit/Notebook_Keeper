{
 "cells": [
  {
   "cell_type": "markdown",
   "metadata": {},
   "source": [
    "# Notebook for extracting crosstalk parameters from fits file.\n",
    "## The file can then be imported into a pipetask using -C\n",
    "\n",
    "Initially written 19 Nov 2022 by Craig Lage."
   ]
  },
  {
   "cell_type": "code",
   "execution_count": null,
   "metadata": {
    "execution": {
     "iopub.execute_input": "2023-01-09T18:31:51.543552Z",
     "iopub.status.busy": "2023-01-09T18:31:51.543091Z",
     "iopub.status.idle": "2023-01-09T18:31:51.546398Z",
     "shell.execute_reply": "2023-01-09T18:31:51.545961Z",
     "shell.execute_reply.started": "2023-01-09T18:31:51.543533Z"
    },
    "tags": []
   },
   "outputs": [],
   "source": [
    "import sys, os, glob, time\n",
    "import pickle as pkl\n",
    "import numpy as np\n",
    "import matplotlib.pyplot as plt\n",
    "import astropy.io.fits as pf"
   ]
  },
  {
   "cell_type": "code",
   "execution_count": null,
   "metadata": {},
   "outputs": [],
   "source": [
    "filename = '/home/c/cslage/u/AuxTel/crosstalk/auxtel_crosstalk_matrix.fits'\n",
    "hdulist = pf.open(filename)\n",
    "data = hdulist[0].data.reshape((1,256))[0]\n",
    "outfile = open('/home/c/cslage/u/AuxTel/pipelines/auxtel_crosstalk_matrix.py', 'w')\n",
    "outfile.write(\"config.crosstalk.crosstalkValues=[\")\n",
    "for i in range(63):\n",
    "    outfile.write(f\"{data[4*i]}, {data[4*i+1]}, {data[4*i+2]}, {data[4*i+3]}, \\n\")\n",
    "outfile.write(f\"{data[252]}, {data[253]}, {data[254]}, {data[255]}]\")\n",
    "outfile.close()"
   ]
  },
  {
   "cell_type": "code",
   "execution_count": null,
   "metadata": {
    "execution": {
     "iopub.execute_input": "2023-01-09T18:35:45.343582Z",
     "iopub.status.busy": "2023-01-09T18:35:45.343316Z",
     "iopub.status.idle": "2023-01-09T18:35:45.351338Z",
     "shell.execute_reply": "2023-01-09T18:35:45.350904Z",
     "shell.execute_reply.started": "2023-01-09T18:35:45.343564Z"
    },
    "tags": []
   },
   "outputs": [],
   "source": [
    "filename = '/home/c/cslage/u/AuxTel/crosstalk/auxtel_crosstalk_matrix.fits'\n",
    "hdulist = pf.open(filename)\n",
    "data = np.transpose(hdulist[0].data).reshape((1,256))[0]\n",
    "outfile = open('/home/c/cslage/u/AuxTel/pipelines/auxtel_crosstalk_matrix_transposed.py', 'w')\n",
    "outfile.write(\"config.crosstalk.crosstalkValues=[\")\n",
    "for i in range(63):\n",
    "    outfile.write(f\"{data[4*i]}, {data[4*i+1]}, {data[4*i+2]}, {data[4*i+3]}, \\n\")\n",
    "outfile.write(f\"{data[252]}, {data[253]}, {data[254]}, {data[255]}]\")\n",
    "outfile.close()"
   ]
  },
  {
   "cell_type": "code",
   "execution_count": null,
   "metadata": {},
   "outputs": [],
   "source": []
  }
 ],
 "metadata": {
  "jupytext": {
   "formats": "ipynb,markdown//md"
  },
  "kernelspec": {
   "display_name": "LSST",
   "language": "python",
   "name": "lsst"
  },
  "language_info": {
   "codemirror_mode": {
    "name": "ipython",
    "version": 3
   },
   "file_extension": ".py",
   "mimetype": "text/x-python",
   "name": "python",
   "nbconvert_exporter": "python",
   "pygments_lexer": "ipython3",
   "version": "3.10.8"
  }
 },
 "nbformat": 4,
 "nbformat_minor": 4
}
