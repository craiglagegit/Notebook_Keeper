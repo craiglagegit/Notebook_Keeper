{
 "cells": [
  {
   "cell_type": "markdown",
   "id": "153412e6",
   "metadata": {},
   "source": [
    "# AuxTel Plot tracking - 27-Oct-21\n",
    "\n",
    "In this notebook, investigate again mount tracking on 27-Oct-21\\\n",
    "This is after the EFD was converted to UTC."
   ]
  },
  {
   "cell_type": "code",
   "execution_count": null,
   "id": "fcd0a71e",
   "metadata": {},
   "outputs": [],
   "source": [
    "import sys, time, os, asyncio\n",
    "\n",
    "from datetime import datetime\n",
    "import numpy as np\n",
    "import matplotlib.pyplot as plt\n",
    "import pandas as pd\n",
    "from astropy.time import Time, TimeDelta\n",
    "from lsst.daf.butler import Butler"
   ]
  },
  {
   "cell_type": "code",
   "execution_count": null,
   "id": "5f1e495c",
   "metadata": {},
   "outputs": [],
   "source": [
    "from lsst_efd_client import EfdClient\n",
    "from lsst_efd_client import  __version__ as efdVersion\n",
    "print(efdVersion)"
   ]
  },
  {
   "cell_type": "code",
   "execution_count": null,
   "id": "aed2b09e",
   "metadata": {},
   "outputs": [],
   "source": [
    "# Get EFD client\n",
    "client = EfdClient('ldf_stable_efd')"
   ]
  },
  {
   "cell_type": "code",
   "execution_count": null,
   "id": "94f7af61",
   "metadata": {},
   "outputs": [],
   "source": [
    "# Get one header data using Gen3 butler\n",
    "# This confirms that the DATE_BEG and DATE_END timestamps remain in TAI, as specified.\n",
    "\n",
    "expId = 2021101400011\n",
    "butler = Butler('/repo/main', collections=\"LATISS/raw/all\")\n",
    "\n",
    "mData = butler.get('raw.metadata', detector=0, exposure=expId)\n",
    "print(f\"{expId} \\t {mData['TIMESYS']} \\t {mData['DATE']} \\t {mData['DATE-BEG']} \\t {mData['DATE-END']}\")"
   ]
  },
  {
   "cell_type": "code",
   "execution_count": null,
   "id": "b7c4c67b",
   "metadata": {},
   "outputs": [],
   "source": [
    "# Need to convert DATE_BEG and DATE_END to UTC to sync up with the EFD\n",
    "tai_delta = 37.0\n",
    "date_beg_utc = Time(mData['DATE-BEG'],format='isot', scale='utc') - TimeDelta(tai_delta, format='sec')\n",
    "date_end_utc = Time(mData['DATE-END'],format='isot', scale='utc') - TimeDelta(tai_delta, format='sec')\n",
    "print(date_beg_utc, date_end_utc)\n",
    "print(Time(mData['DATE-BEG'],format='isot', scale='tai'), Time(mData['DATE-END'],format='isot', scale='tai'))"
   ]
  },
  {
   "cell_type": "code",
   "execution_count": null,
   "id": "a4742e1e",
   "metadata": {},
   "outputs": [],
   "source": [
    "# Use these for finding the \"allAxesInPosition\" timestamp\n",
    "# The inPosition timestamp makes sense with the DATE-BEG and DATE-END times\n",
    "before = 5.0\n",
    "after = 5.0\n",
    "start = date_beg_utc - TimeDelta(before, format='sec')\n",
    "end = date_end_utc + TimeDelta(after, format='sec')\n",
    "print(start, end)\n",
    "timestamp = f\"time >= '{start}+00:00' AND time <= '{end}+00:00'\"\n",
    "query = f'SELECT \"inPosition\" FROM \"efd\".\"autogen\".\"lsst.sal.ATMCS.logevent_allAxesInPosition\"\\\n",
    "    WHERE {timestamp} and inPosition = true'\n",
    "\n",
    "inPosition = await client.influx_client.query(query)\n",
    "print(inPosition)"
   ]
  },
  {
   "cell_type": "code",
   "execution_count": null,
   "id": "73185807",
   "metadata": {},
   "outputs": [],
   "source": [
    "# The result says that this timestamp is in UTC.\n",
    "# This is CORRECT\n",
    "inPosition.index[0]"
   ]
  },
  {
   "cell_type": "code",
   "execution_count": null,
   "id": "aad8ae24",
   "metadata": {},
   "outputs": [],
   "source": [
    "# Use these for finding the shutter status timestamp\n",
    "# The inPosition timestamp makes sense with the DATE-BEG and DATE-END times\n",
    "# They agree within a few milliseconds.\n",
    "\n",
    "timestamp = f\"time >= '{start}+00:00' AND time <= '{end}+00:00'\"\n",
    "query = f'SELECT \"substate\" FROM \"efd\".\"autogen\".\"lsst.sal.ATCamera.logevent_shutterDetailedState\"\\\n",
    "    WHERE {timestamp}'\n",
    "\n",
    "shutter = await client.influx_client.query(query)\n",
    "\n",
    "# These match within msec with the DATE-BEG and DATE-END timestamps in the header,\n",
    "# after we have converted DATE_END and DATE_BEG to UTC\n",
    "print(shutter.index[0], date_beg_utc)\n",
    "print(shutter.index[1], date_end_utc)"
   ]
  },
  {
   "cell_type": "code",
   "execution_count": null,
   "id": "437ca372",
   "metadata": {},
   "outputs": [],
   "source": [
    "# Now get the mount tracking info for a time before and after the inPosition timestamp.\n",
    "before = 5.0\n",
    "after = 5.0\n",
    "inPos = Time(inPosition.index[0])\n",
    "tstart = inPos - TimeDelta(before, format='sec')\n",
    "tend = inPos + TimeDelta(after, format='sec')\n",
    "print(f\"{inPos} \\t {tstart} \\t {tend}\")"
   ]
  },
  {
   "cell_type": "code",
   "execution_count": null,
   "id": "c99e7f03",
   "metadata": {},
   "outputs": [],
   "source": [
    "# Get and plot the data\n",
    "az = await client.select_packed_time_series(\"lsst.sal.ATMCS.mount_AzEl_Encoders\", \"azimuthCalculatedAngle\",  tstart, tend, is_window=True)\n",
    "print(f\"Tstart={tstart}, Start of dataFrame = {az.index[0]}\")\n",
    "\n",
    "# Plot it\n",
    "fig = plt.figure(figsize = (16,6))\n",
    "plt.suptitle(f\"Mount Tracking - ExpId {expId}\", fontsize = 18)\n",
    "# Azimuth axis\n",
    "plt.subplot(1,1,1)\n",
    "ax1 = az['azimuthCalculatedAngle'].plot(legend=True, color='red')\n",
    "ax1.set_title(\"Azimuth axis\", fontsize=16)\n",
    "ax1.axvline(inPos.isot, color=\"green\", linestyle=\"--\", label=\"All Axes In Position\")\n",
    "ax1.axvline(shutter.index[0], color='cyan', linestyle=\"--\", label=\"Exp_Start\")\n",
    "ax1.axvline(shutter.index[1], color='magenta', linestyle=\"--\", label=\"Exp_End\")\n",
    "ax1.set_ylabel(\"Degrees\")\n",
    "ax1.legend()\n",
    "plt.savefig(f\"/project/cslage/AuxTel/offsets/Tracking_Timebase_{expId}_28Oct21.pdf\")\n"
   ]
  },
  {
   "cell_type": "code",
   "execution_count": null,
   "id": "e344e812-3e1f-4119-bdb5-6a8f8425b96a",
   "metadata": {},
   "outputs": [],
   "source": [
    "# Get and plot the data\n",
    "\n",
    "\n",
    "firstExpId = 2021101400008\n",
    "mData = butler.get('raw.metadata', detector=0, exposure=firstExpId)\n",
    "date_beg_utc = Time(mData['DATE-BEG'],format='isot', scale='utc') - TimeDelta(tai_delta, format='sec')\n",
    "lastExpId = 2021101400017\n",
    "mData = butler.get('raw.metadata', detector=0, exposure=lastExpId)\n",
    "date_end_utc = Time(mData['DATE-END'],format='isot', scale='utc') - TimeDelta(tai_delta, format='sec')\n",
    "\n",
    "before = 5.0\n",
    "after = 5.0\n",
    "tstart = date_beg_utc - TimeDelta(before, format='sec')\n",
    "tend = date_end_utc + TimeDelta(after, format='sec')\n",
    "\n",
    "# Get the inPosition timestamps\n",
    "timestamp = f\"time >= '{tstart}+00:00' AND time <= '{tend}+00:00'\"\n",
    "query = f'SELECT \"inPosition\" FROM \"efd\".\"autogen\".\"lsst.sal.ATMCS.logevent_allAxesInPosition\"\\\n",
    "    WHERE {timestamp} and inPosition = true'\n",
    "\n",
    "inPosition = await client.influx_client.query(query)\n",
    "#print(inPosition)\n",
    "\n",
    "# Get the shutter open and close timestamps\n",
    "\n",
    "timestamp = f\"time >= '{tstart}+00:00' AND time <= '{tend}+00:00'\"\n",
    "open_query = f'SELECT \"substate\" FROM \"efd\".\"autogen\".\"lsst.sal.ATCamera.logevent_shutterDetailedState\"\\\n",
    "    WHERE {timestamp} AND substate=2'\n",
    "close_query = f'SELECT \"substate\" FROM \"efd\".\"autogen\".\"lsst.sal.ATCamera.logevent_shutterDetailedState\"\\\n",
    "    WHERE {timestamp} AND substate=1'\n",
    "\n",
    "open_shutter = await client.influx_client.query(open_query)\n",
    "#print(open_shutter)\n",
    "\n",
    "close_shutter = await client.influx_client.query(close_query)\n",
    "#print(close_shutter)\n",
    "\n",
    "# Get the mount tracking data\n",
    "\n",
    "az = await client.select_packed_time_series(\"lsst.sal.ATMCS.mount_AzEl_Encoders\", \"azimuthCalculatedAngle\",  tstart, tend, is_window=True)\n",
    "print(f\"Tstart={tstart}, Start of dataFrame = {az.index[0]}\")\n",
    "\n",
    "# Plot it\n",
    "fig = plt.figure(figsize = (16,6))\n",
    "plt.suptitle(f\"Mount Tracking - ExpIds {firstExpId} - {lastExpId}\", fontsize = 18)\n",
    "# Azimuth axis\n",
    "plt.subplot(1,1,1)\n",
    "ax1 = az['azimuthCalculatedAngle'].plot(legend=True, color='red')\n",
    "ax1.set_title(\"Azimuth axis\", fontsize=16)\n",
    "for n in range(len(inPosition)):\n",
    "    if n==0:\n",
    "        ax1.axvline(inPosition.index[n], color=\"green\", linestyle=\"--\", label=\"All Axes In Position\")\n",
    "    else:\n",
    "        ax1.axvline(inPosition.index[n], color=\"green\", linestyle=\"--\", label=\"\")\n",
    "for n in range(len(open_shutter)):\n",
    "    if n==0:\n",
    "        ax1.axvline(open_shutter.index[n], color='cyan', linestyle=\"--\", label=\"Exp_Start\")\n",
    "    else:\n",
    "        ax1.axvline(open_shutter.index[n], color='cyan', linestyle=\"--\", label=\"\")\n",
    "for n in range(len(close_shutter)):\n",
    "    if n==0:\n",
    "        ax1.axvline(close_shutter.index[n], color='magenta', linestyle=\"--\", label=\"Exp_End\")\n",
    "    else:\n",
    "        ax1.axvline(close_shutter.index[n], color='magenta', linestyle=\"--\", label=\"\")\n",
    "        \n",
    "ax1.set_ylabel(\"Degrees\")\n",
    "ax1.legend()\n",
    "plt.savefig(f\"/project/cslage/AuxTel/offsets/Tracking_Timebase_{firstExpId}_{lastExpId}_28Oct21.pdf\")\n"
   ]
  },
  {
   "cell_type": "code",
   "execution_count": null,
   "id": "1bb7c7b2-3545-4235-8d58-b64399aafb48",
   "metadata": {},
   "outputs": [],
   "source": [
    "client.select_packed_time_series?"
   ]
  },
  {
   "cell_type": "code",
   "execution_count": null,
   "id": "ca2a1da1-3095-43b4-a456-eec6e52fe948",
   "metadata": {},
   "outputs": [],
   "source": []
  }
 ],
 "metadata": {
  "kernelspec": {
   "display_name": "LSST",
   "language": "python",
   "name": "lsst"
  },
  "language_info": {
   "codemirror_mode": {
    "name": "ipython",
    "version": 3
   },
   "file_extension": ".py",
   "mimetype": "text/x-python",
   "name": "python",
   "nbconvert_exporter": "python",
   "pygments_lexer": "ipython3",
   "version": "3.8.8"
  }
 },
 "nbformat": 4,
 "nbformat_minor": 5
}
