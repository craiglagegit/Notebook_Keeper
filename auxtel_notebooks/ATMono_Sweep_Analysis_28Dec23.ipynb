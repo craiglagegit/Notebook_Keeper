{
 "cells": [
  {
   "cell_type": "markdown",
   "id": "066d4de2-bf1e-41fe-8cdf-bf30052cac82",
   "metadata": {},
   "source": [
    "# Analyzing monochromator grating sweeps.\n",
    "Craig Lage 28-Dec-23"
   ]
  },
  {
   "cell_type": "code",
   "execution_count": null,
   "id": "a148b369-8943-4861-a51e-9cbeea70feb3",
   "metadata": {
    "execution": {
     "iopub.execute_input": "2023-12-28T14:12:38.948072Z",
     "iopub.status.busy": "2023-12-28T14:12:38.947954Z",
     "iopub.status.idle": "2023-12-28T14:12:39.239465Z",
     "shell.execute_reply": "2023-12-28T14:12:39.239041Z",
     "shell.execute_reply.started": "2023-12-28T14:12:38.948060Z"
    },
    "tags": []
   },
   "outputs": [],
   "source": [
    "import numpy as np\n",
    "from matplotlib import pyplot as plt\n",
    "import pickle as pkl\n",
    "%matplotlib inline"
   ]
  },
  {
   "cell_type": "markdown",
   "id": "c0297f80-5c3a-425b-980b-a792f95d8687",
   "metadata": {},
   "source": [
    "# Unpickle the measurements"
   ]
  },
  {
   "cell_type": "code",
   "execution_count": null,
   "id": "e77256e0-fd85-4b25-a98c-caecd44cf795",
   "metadata": {
    "execution": {
     "iopub.execute_input": "2023-12-28T14:12:40.529775Z",
     "iopub.status.busy": "2023-12-28T14:12:40.529650Z",
     "iopub.status.idle": "2023-12-28T14:12:40.537263Z",
     "shell.execute_reply": "2023-12-28T14:12:40.536971Z",
     "shell.execute_reply.started": "2023-12-28T14:12:40.529762Z"
    }
   },
   "outputs": [],
   "source": [
    "# Unpickle the data\n",
    "filename = \"/home/c/cslage/u/AuxTel/filter_data/grating_1_sweep_28Dec23.pkl\"\n",
    "file = open(filename, \"rb\")\n",
    "grating_1_results = pkl.load(file)\n",
    "file.close()\n",
    "filename = \"/home/c/cslage/u/AuxTel/filter_data/grating_2_sweep_28Dec23.pkl\"\n",
    "file = open(filename, \"rb\")\n",
    "grating_2_results = pkl.load(file)\n",
    "file.close()"
   ]
  },
  {
   "cell_type": "markdown",
   "id": "2b184748-ad6c-4acf-97fb-4cd314a52dc6",
   "metadata": {
    "execution": {
     "iopub.execute_input": "2023-12-19T18:36:17.162132Z",
     "iopub.status.busy": "2023-12-19T18:36:17.161941Z",
     "iopub.status.idle": "2023-12-19T18:36:17.164448Z",
     "shell.execute_reply": "2023-12-19T18:36:17.164064Z",
     "shell.execute_reply.started": "2023-12-19T18:36:17.162120Z"
    }
   },
   "source": [
    "# Now plot the sweeps"
   ]
  },
  {
   "cell_type": "code",
   "execution_count": null,
   "id": "b3b6d4f6-2fd9-4151-bc02-5cf0d50fb51e",
   "metadata": {
    "execution": {
     "iopub.execute_input": "2023-12-28T14:26:57.517860Z",
     "iopub.status.busy": "2023-12-28T14:26:57.517596Z",
     "iopub.status.idle": "2023-12-28T14:26:59.942054Z",
     "shell.execute_reply": "2023-12-28T14:26:59.941632Z",
     "shell.execute_reply.started": "2023-12-28T14:26:57.517846Z"
    }
   },
   "outputs": [],
   "source": [
    "wave_step = 25 # Wavelength step in nm\n",
    "min_wave = 350; max_wave = 1050;\n",
    "for grating_name, results in [[\"Grating_1\",grating_1_results], [\"Grating_2\",grating_2_results]]:\n",
    "    fig, axs = plt.subplots(6,5,figsize=(8,12))\n",
    "    wave = min_wave\n",
    "    counter = 0\n",
    "    while wave < max_wave + wave_step / 2.0:\n",
    "        axX = counter%5\n",
    "        axY = int(counter / 5)\n",
    "        axs[5][4].axis('off')\n",
    "        ax = axs[axY][axX]\n",
    "        key = f\"{grating_name}_{wave:.0f}\"\n",
    "        [wavelengths, spectrum, exp_time] = results[key]['fiber_data']\n",
    "        ax.set_title(key, fontsize=10)\n",
    "        ax.plot(wavelengths, spectrum)\n",
    "        ax.set_xlim(300, 1100)\n",
    "        ax.set_ylim(0,2000)\n",
    "        if axX != 0:\n",
    "            ax.set_yticks([])\n",
    "        if axY != 5:\n",
    "            ax.set_xticks([])\n",
    "        counter += 1\n",
    "        wave += wave_step\n",
    "    fig.savefig(f\"/home/c/cslage/u/AuxTel/filter_data/{grating_name}_Sweep_28Dec23.png\")\n",
    "\n",
    "\n"
   ]
  },
  {
   "cell_type": "code",
   "execution_count": null,
   "id": "4a900d9f-59db-4691-b6b9-588bb29b6c78",
   "metadata": {},
   "outputs": [],
   "source": []
  }
 ],
 "metadata": {
  "kernelspec": {
   "display_name": "LSST",
   "language": "python",
   "name": "lsst"
  },
  "language_info": {
   "codemirror_mode": {
    "name": "ipython",
    "version": 3
   },
   "file_extension": ".py",
   "mimetype": "text/x-python",
   "name": "python",
   "nbconvert_exporter": "python",
   "pygments_lexer": "ipython3",
   "version": "3.11.4"
  },
  "toc-autonumbering": false,
  "toc-showcode": false,
  "toc-showmarkdowntxt": true
 },
 "nbformat": 4,
 "nbformat_minor": 5
}
