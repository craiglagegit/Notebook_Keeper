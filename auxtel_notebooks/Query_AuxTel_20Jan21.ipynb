{
 "cells": [
  {
   "cell_type": "code",
   "execution_count": null,
   "metadata": {},
   "outputs": [],
   "source": [
    "import sys, os, glob, subprocess\n",
    "import pickle as pkl\n",
    "import numpy as np\n",
    "import matplotlib.pyplot as plt\n",
    "import astropy.io.fits as pf\n",
    "from lsst.daf.persistence import Butler"
   ]
  },
  {
   "cell_type": "code",
   "execution_count": null,
   "metadata": {},
   "outputs": [],
   "source": [
    "DATA_DIR = '/project/shared/auxTel/'\n",
    "filedir = DATA_DIR+'_parent/raw/'\n",
    "files = glob.glob(filedir+'2021-02-16/*00209-det000.fits')\n",
    "files = np.sort(files)\n",
    "numFiles = len(files)\n",
    "print(numFiles, files[-1])"
   ]
  },
  {
   "cell_type": "code",
   "execution_count": null,
   "metadata": {
    "jupyter": {
     "outputs_hidden": true
    }
   },
   "outputs": [],
   "source": [
    "for file in files:\n",
    "    hdulist = pf.open(file, mode='readonly', do_not_scale_image_data=True)\n",
    "    hdr=hdulist[0].header\n",
    "    for key in hdr.keys():\n",
    "        print(key, hdr[key])\n"
   ]
  },
  {
   "cell_type": "code",
   "execution_count": null,
   "metadata": {},
   "outputs": [],
   "source": [
    "bad = [164,165]+list(range(208,222))+list(range(252,286))\n",
    "for file in files:\n",
    "    hdulist = pf.open(file, mode='readonly', do_not_scale_image_data=True)\n",
    "    hdr=hdulist[0].header\n",
    "    obj = hdr['OBJECT']\n",
    "    seq = hdr['OBSID'].split('_')[3]\n",
    "    exptime = hdr['EXPTIME']\n",
    "    imgtype = hdr['IMGTYPE']\n",
    "    domeaz = hdr['DOMEAZ']\n",
    "    if domeaz is None:\n",
    "        domeaz= 0.0\n",
    "    rotpa = hdr['ROTPA']\n",
    "    delaz = hdr['AZSTART'] - hdr['AZEND']\n",
    "    delel = hdr['ELSTART'] - hdr['ELEND']\n",
    "    #print(seq,exptime,imgtype,domeaz,rotpa,delaz,delel)\n",
    "    #break\n",
    "    if int(seq) in bad:\n",
    "        print(\"\\033[91m\"+\"%s\\t%s\\t%s\\t%.6f\\t%.6f\\t%.6f\\t%.6f\"%(seq,exptime,imgtype,domeaz,rotpa,delaz,delel))\n",
    "    else:\n",
    "        print(\"\\033[90m\"+\"%s\\t%s\\t%s\\t%.6f\\t%.6f\\t%.6f\\t%.6f\"%(seq,exptime,imgtype,domeaz,rotpa,delaz,delel))"
   ]
  },
  {
   "cell_type": "code",
   "execution_count": null,
   "metadata": {},
   "outputs": [],
   "source": [
    "bad = list(range(106,157))+[305,306]+list(range(321,329))\n",
    "for file in files:\n",
    "    hdulist = pf.open(file, mode='readonly', do_not_scale_image_data=True)\n",
    "    hdr=hdulist[0].header\n",
    "    seq = hdr['OBSID'].split('_')[3]\n",
    "    exptime = hdr['EXPTIME']\n",
    "    imgtype = hdr['IMGTYPE']\n",
    "    domeaz = hdr['DOMEAZ']\n",
    "    if domeaz is None:\n",
    "        domeaz= 0.0\n",
    "    rotpa = hdr['ROTPA']\n",
    "    delaz = hdr['AZSTART'] - hdr['AZEND']\n",
    "    delel = hdr['ELSTART'] - hdr['ELEND']\n",
    "    #print(seq,exptime,imgtype,domeaz,rotpa,delaz,delel)\n",
    "    #break\n",
    "    if int(seq) in bad:\n",
    "        print(\"\\033[91m\"+\"%s\\t%s\\t%s\\t%.6f\\t%.6f\\t%.6f\\t%.6f\"%(seq,exptime,imgtype,domeaz,rotpa,delaz,delel))\n",
    "    else:\n",
    "        print(\"\\033[90m\"+\"%s\\t%s\\t%s\\t%.6f\\t%.6f\\t%.6f\\t%.6f\"%(seq,exptime,imgtype,domeaz,rotpa,delaz,delel))"
   ]
  },
  {
   "cell_type": "code",
   "execution_count": null,
   "metadata": {},
   "outputs": [],
   "source": []
  },
  {
   "cell_type": "code",
   "execution_count": null,
   "metadata": {},
   "outputs": [],
   "source": [
    "DATA_DIR = '/project/shared/auxTel/'\n",
    "filedir = DATA_DIR+'_parent/raw/'\n",
    "files = glob.glob(filedir+'2021-01-26/*-det000.fits')\n",
    "files = np.sort(files)\n",
    "numFiles = len(files)\n",
    "print(numFiles, files[-1])"
   ]
  },
  {
   "cell_type": "code",
   "execution_count": null,
   "metadata": {},
   "outputs": [],
   "source": [
    "bad = range(90,114)\n",
    "for file in files:\n",
    "    hdulist = pf.open(file, mode='readonly', do_not_scale_image_data=True)\n",
    "    hdr=hdulist[0].header\n",
    "    seq = hdr['OBSID'].split('_')[3]\n",
    "    exptime = hdr['EXPTIME']\n",
    "    imgtype = hdr['IMGTYPE']\n",
    "    domeaz = hdr['DOMEAZ']\n",
    "    rotpa = hdr['ROTPA']\n",
    "    delaz = hdr['AZSTART'] - hdr['AZEND']\n",
    "    delel = hdr['ELSTART'] - hdr['ELEND']\n",
    "    if int(seq) in bad:\n",
    "        print(\"\\033[91m\"+\"%s\\t%s\\t%s\\t%.6f\\t%.6f\\t%.6f\\t%.6f\"%(seq,exptime,imgtype,domeaz,rotpa,delaz,delel))\n",
    "    else:\n",
    "        print(\"\\033[90m\"+\"%s\\t%s\\t%s\\t%.6f\\t%.6f\\t%.6f\\t%.6f\"%(seq,exptime,imgtype,domeaz,rotpa,delaz,delel))"
   ]
  }
 ],
 "metadata": {
  "kernelspec": {
   "display_name": "LSST",
   "language": "python",
   "name": "lsst"
  },
  "language_info": {
   "codemirror_mode": {
    "name": "ipython",
    "version": 3
   },
   "file_extension": ".py",
   "mimetype": "text/x-python",
   "name": "python",
   "nbconvert_exporter": "python",
   "pygments_lexer": "ipython3",
   "version": "3.8.8"
  }
 },
 "nbformat": 4,
 "nbformat_minor": 4
}
