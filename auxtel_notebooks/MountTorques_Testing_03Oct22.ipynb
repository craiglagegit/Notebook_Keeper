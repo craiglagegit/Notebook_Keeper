{
 "cells": [
  {
   "cell_type": "markdown",
   "id": "e8cc3a14-f377-44f4-ab4c-97c9c3047697",
   "metadata": {},
   "source": [
    "# Testing the RubinTV Mount Plotting\n",
    "\n",
    "Craig Lage - 15-Jun-22"
   ]
  },
  {
   "cell_type": "code",
   "execution_count": null,
   "id": "a148b369-8943-4861-a51e-9cbeea70feb3",
   "metadata": {},
   "outputs": [],
   "source": [
    "import nest_asyncio\n",
    "nest_asyncio.apply()\n",
    "import sys, time, os, asyncio\n",
    "from datetime import datetime\n",
    "import numpy as np\n",
    "import matplotlib.pyplot as plt\n",
    "from lsst.rubintv.production import mountTorques\n",
    "\n",
    "from lsst_efd_client import EfdClient\n",
    "from lsst.daf.butler import Butler\n",
    "import lsst.log as log"
   ]
  },
  {
   "cell_type": "code",
   "execution_count": null,
   "id": "db1b3867-c6db-43d3-8248-ecfcd41d3fbc",
   "metadata": {},
   "outputs": [],
   "source": [
    "client = EfdClient('usdf_efd')\n",
    "butler = Butler('/repo/oga', collections=\"LATISS/raw/all\")\n",
    "logger = log.getLogger('myLogger')"
   ]
  },
  {
   "cell_type": "code",
   "execution_count": null,
   "id": "cdbdc212-2b15-477b-a019-1228c2e0bab8",
   "metadata": {},
   "outputs": [],
   "source": [
    "expId = 2022091200495\n",
    "dataId = {'detector':0, 'exposure':expId}\n",
    "figure = plt.figure(figsize=(16,22))\n",
    "saveFilename = f'/sdf/group/rubin/u/cslage/AuxTel/mount_graphs/Mount_Torques_{expId}.pdf'\n",
    "mountTorques.calculateMountErrors(dataId, butler, client, figure, saveFilename, logger)"
   ]
  },
  {
   "cell_type": "code",
   "execution_count": null,
   "id": "25a775a8-7721-47a6-bd13-bb3fde2f6db9",
   "metadata": {},
   "outputs": [],
   "source": [
    "expId = 2022050300244\n",
    "dataId = {'detector':0, 'exposure':expId}\n",
    "figure = plt.figure(figsize=(16,22))\n",
    "saveFilename = f'/project/cslage/AuxTel/mount_graphs/Mount_Torques_{expId}.pdf'\n",
    "mountTorques.plotMountTracking(dataId, butler, client, figure, saveFilename, logger)"
   ]
  },
  {
   "cell_type": "code",
   "execution_count": null,
   "id": "56042c54-c4ea-4b7e-9954-74f3682a2f3d",
   "metadata": {},
   "outputs": [],
   "source": []
  }
 ],
 "metadata": {
  "jupytext": {
   "formats": "ipynb,markdown//md"
  },
  "kernelspec": {
   "display_name": "LSST",
   "language": "python",
   "name": "lsst"
  },
  "language_info": {
   "codemirror_mode": {
    "name": "ipython",
    "version": 3
   },
   "file_extension": ".py",
   "mimetype": "text/x-python",
   "name": "python",
   "nbconvert_exporter": "python",
   "pygments_lexer": "ipython3",
   "version": "3.10.5"
  },
  "toc-autonumbering": false,
  "toc-showcode": false,
  "toc-showmarkdowntxt": true
 },
 "nbformat": 4,
 "nbformat_minor": 5
}
