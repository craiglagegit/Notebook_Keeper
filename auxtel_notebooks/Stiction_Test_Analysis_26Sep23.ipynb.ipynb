{
 "cells": [
  {
   "cell_type": "markdown",
   "id": "461e5b43-f7b4-4d27-9ad8-80088a4a1b44",
   "metadata": {
    "execution": {
     "iopub.execute_input": "2023-09-26T16:40:26.718833Z",
     "iopub.status.busy": "2023-09-26T16:40:26.718462Z",
     "iopub.status.idle": "2023-09-26T16:40:26.724991Z",
     "shell.execute_reply": "2023-09-26T16:40:26.723927Z",
     "shell.execute_reply.started": "2023-09-26T16:40:26.718800Z"
    },
    "tags": []
   },
   "source": [
    "# Azimuth oscillation analysis\n",
    "\n",
    "Analyzing the go-and-come-back idea\n",
    "Craig Lage - 26Sep23"
   ]
  },
  {
   "cell_type": "code",
   "execution_count": null,
   "id": "703856c4-06c9-4f2b-b2de-bbda9b33cf94",
   "metadata": {
    "execution": {
     "iopub.execute_input": "2023-11-16T17:07:20.913383Z",
     "iopub.status.busy": "2023-11-16T17:07:20.913043Z",
     "iopub.status.idle": "2023-11-16T17:07:21.432622Z",
     "shell.execute_reply": "2023-11-16T17:07:21.432159Z",
     "shell.execute_reply.started": "2023-11-16T17:07:20.913368Z"
    },
    "tags": []
   },
   "outputs": [],
   "source": [
    "import os, time\n",
    "import numpy as np\n",
    "import matplotlib.pyplot as plt\n",
    "import pandas as pd\n",
    "from astropy.time import Time\n",
    "from lsst_efd_client import EfdClient"
   ]
  },
  {
   "cell_type": "code",
   "execution_count": null,
   "id": "da8cc867-ac9e-4634-b23f-5b2aeb40847b",
   "metadata": {
    "execution": {
     "iopub.execute_input": "2023-11-16T17:07:22.943463Z",
     "iopub.status.busy": "2023-11-16T17:07:22.943306Z",
     "iopub.status.idle": "2023-11-16T17:07:23.503420Z",
     "shell.execute_reply": "2023-11-16T17:07:23.502990Z",
     "shell.execute_reply.started": "2023-11-16T17:07:22.943450Z"
    },
    "tags": []
   },
   "outputs": [],
   "source": [
    "client = EfdClient('usdf_efd')"
   ]
  },
  {
   "cell_type": "code",
   "execution_count": null,
   "id": "505fd3d0-4f11-443c-a40a-774930dbb79e",
   "metadata": {
    "execution": {
     "iopub.execute_input": "2023-11-16T17:15:27.798699Z",
     "iopub.status.busy": "2023-11-16T17:15:27.798481Z",
     "iopub.status.idle": "2023-11-16T17:15:44.493826Z",
     "shell.execute_reply": "2023-11-16T17:15:44.493387Z",
     "shell.execute_reply.started": "2023-11-16T17:15:27.798684Z"
    },
    "tags": []
   },
   "outputs": [],
   "source": [
    "%matplotlib inline\n",
    "fig, axs = plt.subplots(5,1,figsize = (8,12))\n",
    "plt.subplots_adjust(hspace=0.5)\n",
    "images = [[6, 96, \"2023-09-22\", \"Baseline\", 52], [7, 97, \"2023-09-26\", \"Go-and-come-back: 2 degree overshoot, 2 sec wait\", 65], \\\n",
    "         [98, 188, \"2023-09-26\", \"Go-and-come-back: 2 degree overshoot, 0 sec wait\", 62], \\\n",
    "         [189, 245, \"2023-09-26\", \"Go-and-come-back: 1 degree overshoot, 0 sec wait\", 61], \\\n",
    "         [15, 92, \"2023-11-16\", \"Programmed overslew\", 0]]\n",
    "for i, [firstImage, lastImage, dayObs, name, cycleTime] in enumerate(images):\n",
    "    # Get Rubin TV JSON\n",
    "    filename = f'/home/c/cslage/u/AuxTel/rubintv_jsons/auxtel_{dayObs}.json'\n",
    "    print(filename)\n",
    "    df = pd.read_json(filename)\n",
    "    df = df.transpose()\n",
    "    start = Time(f\"{dayObs}T{df.loc[firstImage]['TAI']}\", format='isot', scale='tai')\n",
    "    end = Time(f\"{dayObs}T{df.loc[lastImage]['TAI']}\", format='isot', scale='tai')\n",
    "    az = await client.select_packed_time_series(\"lsst.sal.ATMCS.mount_AzEl_Encoders\", \"azimuthCalculatedAngle\",\\\n",
    "                                                start.utc, end.utc)\n",
    "    azs = az['azimuthCalculatedAngle'].values\n",
    "    times = az['times'].values\n",
    "    t0 = times[0]\n",
    "    times -= t0\n",
    "    tmax = times[-1]\n",
    "\n",
    "    axs[i].set_title(f\"{name} - {dayObs}\", fontsize=16)\n",
    "    axs[i].plot(times, azs)\n",
    "    axs[i].set_ylabel(\"Azimuth(degrees)\")\n",
    "    axs[i].set_xlabel(\"Time(seconds)\")\n",
    "    axs[i].set_xlim(0,7000)\n",
    "    #axs[i].text(4500, 200, f\"Cycle time = {cycleTime} sec.\")\n",
    "    ax2 = axs[i].twinx()\n",
    "    mount_times = []\n",
    "    mount_motions = []\n",
    "    for seqNum in df.index.values.tolist():\n",
    "        if seqNum >= firstImage and seqNum <= lastImage:\n",
    "            time = Time(f\"{dayObs}T{df.loc[seqNum]['TAI']}\", format='isot', scale='tai')\n",
    "            mount_times.append(time.utc.unix_tai - t0)\n",
    "            mount_motions.append(df.loc[seqNum]['Mount motion image degradation'])\n",
    "    ax2.scatter(mount_times, mount_motions, marker='x', color='g')\n",
    "    ax2.set_ylabel(\"Mount jitter (arcseconds)\")\n",
    "    ax2.set_ylim(0, 1.5)\n",
    "plt.savefig(f\"/home/c/cslage/u/AuxTel/mount_graphs/Overslew_Test_16Nov23.png\")\n"
   ]
  },
  {
   "cell_type": "code",
   "execution_count": null,
   "id": "735eb58f-46fb-4866-858d-da8643b60a07",
   "metadata": {},
   "outputs": [],
   "source": []
  }
 ],
 "metadata": {
  "kernelspec": {
   "display_name": "LSST",
   "language": "python",
   "name": "lsst"
  },
  "language_info": {
   "codemirror_mode": {
    "name": "ipython",
    "version": 3
   },
   "file_extension": ".py",
   "mimetype": "text/x-python",
   "name": "python",
   "nbconvert_exporter": "python",
   "pygments_lexer": "ipython3",
   "version": "3.11.4"
  }
 },
 "nbformat": 4,
 "nbformat_minor": 5
}
