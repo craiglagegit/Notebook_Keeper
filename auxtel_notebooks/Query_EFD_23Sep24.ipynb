{
 "cells": [
  {
   "cell_type": "markdown",
   "metadata": {},
   "source": [
    "## Querying the EFD\n",
    "\n",
    "Craig Lage 23-Sep-24"
   ]
  },
  {
   "cell_type": "code",
   "execution_count": null,
   "metadata": {
    "execution": {
     "iopub.execute_input": "2024-10-07T16:50:35.114118Z",
     "iopub.status.busy": "2024-10-07T16:50:35.113653Z",
     "iopub.status.idle": "2024-10-07T16:50:35.706144Z",
     "shell.execute_reply": "2024-10-07T16:50:35.705679Z",
     "shell.execute_reply.started": "2024-10-07T16:50:35.114102Z"
    },
    "tags": []
   },
   "outputs": [],
   "source": [
    "import sys, time, os, asyncio, glob\n",
    "from datetime import datetime\n",
    "import numpy as np\n",
    "import matplotlib.pyplot as plt\n",
    "import pandas as pd\n",
    "import astropy.io.fits as pf\n",
    "from astropy.time import Time, TimeDelta\n",
    "from lsst_efd_client import EfdClient"
   ]
  },
  {
   "cell_type": "code",
   "execution_count": null,
   "metadata": {
    "execution": {
     "iopub.execute_input": "2024-10-07T16:50:36.111356Z",
     "iopub.status.busy": "2024-10-07T16:50:36.110852Z",
     "iopub.status.idle": "2024-10-07T16:50:36.525855Z",
     "shell.execute_reply": "2024-10-07T16:50:36.525491Z",
     "shell.execute_reply.started": "2024-10-07T16:50:36.111338Z"
    },
    "tags": []
   },
   "outputs": [],
   "source": [
    "client = EfdClient('usdf_efd')"
   ]
  },
  {
   "cell_type": "markdown",
   "metadata": {},
   "source": [
    "## Available EFD clients"
   ]
  },
  {
   "cell_type": "code",
   "execution_count": null,
   "metadata": {
    "tags": []
   },
   "outputs": [],
   "source": [
    "EfdClient.list_efd_names()"
   ]
  },
  {
   "cell_type": "markdown",
   "metadata": {},
   "source": [
    "## List EFD topics"
   ]
  },
  {
   "cell_type": "code",
   "execution_count": null,
   "metadata": {},
   "outputs": [],
   "source": [
    "topics = await client.get_topics()\n",
    "topics"
   ]
  },
  {
   "cell_type": "code",
   "execution_count": null,
   "metadata": {},
   "outputs": [],
   "source": []
  },
  {
   "cell_type": "markdown",
   "metadata": {},
   "source": [
    "## Look for specific EFD topics"
   ]
  },
  {
   "cell_type": "code",
   "execution_count": null,
   "metadata": {
    "tags": []
   },
   "outputs": [],
   "source": [
    "topics = await client.get_topics()\n",
    "for topic in topics:\n",
    "    if 'Hexapod' in topic:\n",
    "        print(topic)"
   ]
  },
  {
   "cell_type": "markdown",
   "metadata": {
    "execution": {
     "iopub.execute_input": "2024-09-23T18:10:56.501803Z",
     "iopub.status.busy": "2024-09-23T18:10:56.501483Z",
     "iopub.status.idle": "2024-09-23T18:10:56.503687Z",
     "shell.execute_reply": "2024-09-23T18:10:56.503377Z",
     "shell.execute_reply.started": "2024-09-23T18:10:56.501789Z"
    }
   },
   "source": [
    "## Query a specific topic"
   ]
  },
  {
   "cell_type": "code",
   "execution_count": null,
   "metadata": {},
   "outputs": [],
   "source": [
    "start = Time(\"2024-01-10T00:00:00\", scale='utc')\n",
    "end = Time(\"2024-01-10T01:00:00\", scale='utc')\n",
    "el = await client.select_time_series(\"lsst.sal.MTMount.elevation\", \\\n",
    "                                            ['*'], \\\n",
    "                                             start, end)\n"
   ]
  },
  {
   "cell_type": "markdown",
   "metadata": {
    "execution": {
     "iopub.execute_input": "2024-09-23T18:11:30.877993Z",
     "iopub.status.busy": "2024-09-23T18:11:30.877354Z",
     "iopub.status.idle": "2024-09-23T18:11:30.880109Z",
     "shell.execute_reply": "2024-09-23T18:11:30.879668Z",
     "shell.execute_reply.started": "2024-09-23T18:11:30.877976Z"
    }
   },
   "source": [
    "## List the data in the topic"
   ]
  },
  {
   "cell_type": "code",
   "execution_count": null,
   "metadata": {},
   "outputs": [],
   "source": [
    "el.columns"
   ]
  },
  {
   "cell_type": "markdown",
   "metadata": {
    "execution": {
     "iopub.execute_input": "2024-09-23T18:11:30.877993Z",
     "iopub.status.busy": "2024-09-23T18:11:30.877354Z",
     "iopub.status.idle": "2024-09-23T18:11:30.880109Z",
     "shell.execute_reply": "2024-09-23T18:11:30.879668Z",
     "shell.execute_reply.started": "2024-09-23T18:11:30.877976Z"
    }
   },
   "source": [
    "## Plot a data column"
   ]
  },
  {
   "cell_type": "code",
   "execution_count": null,
   "metadata": {},
   "outputs": [],
   "source": [
    "el['actualPosition'].plot()"
   ]
  },
  {
   "cell_type": "markdown",
   "metadata": {},
   "source": [
    "## Another example"
   ]
  },
  {
   "cell_type": "code",
   "execution_count": null,
   "metadata": {
    "tags": []
   },
   "outputs": [],
   "source": [
    "start = Time(\"2024-09-16 19:45:00Z\", scale='utc')\n",
    "end = Time(\"2024-09-16 20:00:00Z\", scale='utc')\n",
    "gill = await client.select_time_series(\"lsst.sal.ESS.airTurbulence\", \\\n",
    "                                            [\"*\"],  start, end, index=205)\n",
    "len(gill)\n",
    "print(gill.columns)"
   ]
  },
  {
   "cell_type": "code",
   "execution_count": null,
   "metadata": {},
   "outputs": [],
   "source": [
    "gill['sonicTemperatureStdDev'].plot()"
   ]
  },
  {
   "cell_type": "markdown",
   "metadata": {},
   "source": [
    "## Packed data example"
   ]
  },
  {
   "cell_type": "code",
   "execution_count": null,
   "metadata": {},
   "outputs": [],
   "source": [
    "start = Time(\"2024-09-26T03:00:00\", scale='utc')\n",
    "end = Time(\"2024-09-26T07:00:00\", scale='utc')\n",
    "vel = await client.select_packed_time_series(\"lsst.sal.ATMCS.measuredMotorVelocity\", \\\n",
    "                                            ['azimuthMotor1Velocity', 'azimuthMotor2Velocity'], \\\n",
    "                                             start, end)\n"
   ]
  },
  {
   "cell_type": "code",
   "execution_count": null,
   "metadata": {},
   "outputs": [],
   "source": [
    "plt.title(\"Observing night - 20240925\")\n",
    "vel['azimuthMotor2Velocity'].plot()\n",
    "plt.ylabel(\"Az Velocity (deg/sec)\")\n",
    "plt.savefig(f\"/home/c/cslage/u/AuxTel/broken_limit_switch/Typical_Slew_Speeds.pdf\")"
   ]
  },
  {
   "cell_type": "code",
   "execution_count": null,
   "metadata": {
    "execution": {
     "iopub.execute_input": "2024-10-02T12:40:03.727548Z",
     "iopub.status.busy": "2024-10-02T12:40:03.727138Z",
     "iopub.status.idle": "2024-10-02T12:40:06.812479Z",
     "shell.execute_reply": "2024-10-02T12:40:06.812053Z",
     "shell.execute_reply.started": "2024-10-02T12:40:03.727533Z"
    }
   },
   "outputs": [],
   "source": [
    "start = Time(\"2024-10-01T13:00:00\", scale='utc')\n",
    "end = Time(\"2024-10-01T19:00:00\", scale='utc')\n",
    "az = await client.select_packed_time_series(\"lsst.sal.ATMCS.mount_AzEl_Encoders\", \\\n",
    "                                            ['azimuthCalculatedAngle'], \\\n",
    "                                             start, end)\n",
    "cw = await client.select_time_series(\"lsst.sal.ATMCS.logevent_azimuthToppleBlockCW\", \\\n",
    "                                            ['*'], \\\n",
    "                                             start, end)\n",
    "ccw = await client.select_time_series(\"lsst.sal.ATMCS.logevent_azimuthToppleBlockCCW\", \\\n",
    "                                            ['*'], \\\n",
    "                                             start, end)\n",
    "limcw = await client.select_time_series(\"lsst.sal.ATMCS.logevent_azimuthLimitSwitchCW\", \\\n",
    "                                            ['*'], \\\n",
    "                                             start, end)\n",
    "limccw = await client.select_time_series(\"lsst.sal.ATMCS.logevent_azimuthLimitSwitchCCW\", \\\n",
    "                                            ['*'], \\\n",
    "                                             start, end)\n",
    "print(len(az), len(cw), len(ccw), len(limcw), len(limccw))"
   ]
  },
  {
   "cell_type": "code",
   "execution_count": null,
   "metadata": {
    "execution": {
     "iopub.execute_input": "2024-10-02T12:40:59.007331Z",
     "iopub.status.busy": "2024-10-02T12:40:59.007003Z",
     "iopub.status.idle": "2024-10-02T12:40:59.456876Z",
     "shell.execute_reply": "2024-10-02T12:40:59.456492Z",
     "shell.execute_reply.started": "2024-10-02T12:40:59.007316Z"
    }
   },
   "outputs": [],
   "source": [
    "fig, ax = plt.subplots(1,1)\n",
    "az['azimuthCalculatedAngle'].plot(ax=ax)\n",
    "if len(cw) > 0:\n",
    "    for time in cw[cw['active']==True].index:\n",
    "        ax.axvline(time, ls='--', color='black')\n",
    "if len(ccw) > 0:\n",
    "    for time in ccw[ccw['active']==True].index:\n",
    "        ax.axvline(time, ls='--', color='red')\n"
   ]
  },
  {
   "cell_type": "code",
   "execution_count": null,
   "metadata": {},
   "outputs": [],
   "source": [
    "start = Time(\"2024-09-26T15:00:00\", scale='utc')\n",
    "end = Time(\"2024-09-26T16:45:00\", scale='utc')\n",
    "az = await client.select_packed_time_series(\"lsst.sal.ATMCS.mount_AzEl_Encoders\", \\\n",
    "                                            ['azimuthCalculatedAngle'], \\\n",
    "                                             start, end)\n",
    "cw = await client.select_time_series(\"lsst.sal.ATMCS.logevent_azimuthToppleBlockCW\", \\\n",
    "                                            ['*'], \\\n",
    "                                             start, end)\n",
    "ccw = await client.select_time_series(\"lsst.sal.ATMCS.logevent_azimuthToppleBlockCCW\", \\\n",
    "                                            ['*'], \\\n",
    "                                             start, end)\n",
    "limcw = await client.select_time_series(\"lsst.sal.ATMCS.logevent_azimuthLimitSwitchCW\", \\\n",
    "                                            ['*'], \\\n",
    "                                             start, end)\n",
    "limccw = await client.select_time_series(\"lsst.sal.ATMCS.logevent_azimuthLimitSwitchCCW\", \\\n",
    "                                            ['*'], \\\n",
    "                                             start, end)\n",
    "print(len(cw), len(ccw), len(limcw), len(limccw))\n",
    "vel = await client.select_packed_time_series(\"lsst.sal.ATMCS.measuredMotorVelocity\", \\\n",
    "                                            ['azimuthMotor1Velocity', 'azimuthMotor2Velocity'], \\\n",
    "                                             start, end)"
   ]
  },
  {
   "cell_type": "code",
   "execution_count": null,
   "metadata": {},
   "outputs": [],
   "source": [
    "fig, axs = plt.subplots(2,1)\n",
    "plt.subplots_adjust(hspace=0.7)\n",
    "plt.suptitle(\"Incident - 20240926\", fontsize=18)\n",
    "az['azimuthCalculatedAngle'].plot(ax=axs[0])\n",
    "for time in cw[cw['active']==True].index:\n",
    "    axs[0].axvline(time, ls='--', color='black', label=\"CW Topple\")\n",
    "labeled = False\n",
    "for time in ccw[ccw['active']==True].index:\n",
    "    if not labeled:\n",
    "        axs[0].axvline(time, ls='--', color='red', label=\"CCW Topple\")\n",
    "        labeled = True\n",
    "    else:\n",
    "        axs[0].axvline(time, ls='--', color='red', label='')\n",
    "for time in limcw[limcw['active']==True].index:\n",
    "    axs[0].axvline(time, ls='--', color='orange', label=\"Limit switch\")\n",
    "vel['azimuthMotor2Velocity'].plot(ax=axs[1])\n",
    "axs[0].set_ylabel(\"Azimuth (degrees)\")\n",
    "axs[0].legend(loc='upper left')\n",
    "axs[0].set_ylim(-180, 360)\n",
    "axs[1].set_ylabel(\"Az velocity (deg/sec)\")\n",
    "\n",
    "plt.savefig(f\"/home/c/cslage/u/AuxTel/broken_limit_switch/Incident_26Sep24.pdf\")"
   ]
  },
  {
   "cell_type": "code",
   "execution_count": null,
   "metadata": {},
   "outputs": [],
   "source": [
    "start = Time(\"2024-09-26T16:31:30\", scale='utc')\n",
    "end = Time(\"2024-09-26T16:32:30\", scale='utc')\n",
    "az = await client.select_packed_time_series(\"lsst.sal.ATMCS.mount_AzEl_Encoders\", \\\n",
    "                                            ['azimuthCalculatedAngle'], \\\n",
    "                                             start, end)\n",
    "cw = await client.select_time_series(\"lsst.sal.ATMCS.logevent_azimuthToppleBlockCW\", \\\n",
    "                                            ['*'], \\\n",
    "                                             start, end)\n",
    "ccw = await client.select_time_series(\"lsst.sal.ATMCS.logevent_azimuthToppleBlockCCW\", \\\n",
    "                                            ['*'], \\\n",
    "                                             start, end)\n",
    "limcw = await client.select_time_series(\"lsst.sal.ATMCS.logevent_azimuthLimitSwitchCW\", \\\n",
    "                                            ['*'], \\\n",
    "                                             start, end)\n",
    "limccw = await client.select_time_series(\"lsst.sal.ATMCS.logevent_azimuthLimitSwitchCCW\", \\\n",
    "                                            ['*'], \\\n",
    "                                             start, end)\n",
    "print(len(cw), len(ccw), len(limcw), len(limccw))\n",
    "vel = await client.select_packed_time_series(\"lsst.sal.ATMCS.measuredMotorVelocity\", \\\n",
    "                                            ['azimuthMotor1Velocity', 'azimuthMotor2Velocity'], \\\n",
    "                                             start, end)"
   ]
  },
  {
   "cell_type": "code",
   "execution_count": null,
   "metadata": {},
   "outputs": [],
   "source": [
    "fig, axs = plt.subplots(2,1)\n",
    "plt.subplots_adjust(hspace=0.5)\n",
    "plt.suptitle(\"Incident Blowup 1 - 20240926\", fontsize=18)\n",
    "az['azimuthCalculatedAngle'].plot(ax=axs[0])\n",
    "axs[0].text(az.index[0], 100, f\"Max Az = {np.max(az['azimuthCalculatedAngle'].values):.1f} degrees\")\n",
    "#for time in cw[cw['active']==True].index:\n",
    "#    ax.axvline(time, ls='--', color='black')\n",
    "#for time in ccw[ccw['active']==True].index:\n",
    "#    ax.axvline(time, ls='--', color='red')\n",
    "for time in limcw[limcw['active']==True].index:\n",
    "    axs[0].axvline(time, ls='--', color='orange', label='Limit switch')\n",
    "axs[0].legend()\n",
    "vel['azimuthMotor2Velocity'].plot(ax=axs[1])\n",
    "axs[1].text(az.index[0], 10, f\"Max Vel = {np.max(vel['azimuthMotor2Velocity'].values):.1f} deg/sec\")\n",
    "plt.savefig(f\"/home/c/cslage/u/AuxTel/broken_limit_switch/Incident_Blowup_1_26Sep24.pdf\")"
   ]
  },
  {
   "cell_type": "code",
   "execution_count": null,
   "metadata": {},
   "outputs": [],
   "source": [
    "start = Time(\"2024-09-26T16:32:00\", scale='utc')\n",
    "end = Time(\"2024-09-26T16:32:03\", scale='utc')\n",
    "az = await client.select_packed_time_series(\"lsst.sal.ATMCS.mount_AzEl_Encoders\", \\\n",
    "                                            ['azimuthCalculatedAngle'], \\\n",
    "                                             start, end)\n",
    "cw = await client.select_time_series(\"lsst.sal.ATMCS.logevent_azimuthToppleBlockCW\", \\\n",
    "                                            ['*'], \\\n",
    "                                             start, end)\n",
    "ccw = await client.select_time_series(\"lsst.sal.ATMCS.logevent_azimuthToppleBlockCCW\", \\\n",
    "                                            ['*'], \\\n",
    "                                             start, end)\n",
    "limcw = await client.select_time_series(\"lsst.sal.ATMCS.logevent_azimuthLimitSwitchCW\", \\\n",
    "                                            ['*'], \\\n",
    "                                             start, end)\n",
    "limccw = await client.select_time_series(\"lsst.sal.ATMCS.logevent_azimuthLimitSwitchCCW\", \\\n",
    "                                            ['*'], \\\n",
    "                                             start, end)\n",
    "print(len(cw), len(ccw), len(limcw), len(limccw))\n",
    "vel = await client.select_packed_time_series(\"lsst.sal.ATMCS.measuredMotorVelocity\", \\\n",
    "                                            ['azimuthMotor1Velocity', 'azimuthMotor2Velocity'], \\\n",
    "                                             start, end)"
   ]
  },
  {
   "cell_type": "code",
   "execution_count": null,
   "metadata": {},
   "outputs": [],
   "source": [
    "fig, axs = plt.subplots(2,1)\n",
    "plt.subplots_adjust(hspace=0.5)\n",
    "plt.suptitle(\"Incident Blowup 2 - 20240926\", fontsize=18)\n",
    "t0 = Time(az.index[0]).unix_tai\n",
    "times = Time(az.index[:]).unix_tai - t0\n",
    "axs[0].plot(times, az['azimuthCalculatedAngle'].values)\n",
    "axs[0].set_ylim(250, 300)\n",
    "axs[0].axhline(265.0, ls='--', color='black', label = \"Software limit??\")\n",
    "\n",
    "axs[0].set_ylabel(\"Azimuth (degrees)\")\n",
    "axs[0].set_xlabel(\"Time(seconds)\")\n",
    "for time in limcw[limcw['active']==True].index:\n",
    "    thisTime = Time(time).unix_tai - t0\n",
    "    axs[0].axvline(thisTime, ls='--', color='orange', label=\"Limit switch\")\n",
    "axs[0].legend()\n",
    "axs[1].plot(times, vel['azimuthMotor2Velocity'].values)\n",
    "axs[1].set_ylabel(\"Az velocity (deg/se)\")\n",
    "axs[1].set_xlabel(\"Time(seconds)\")\n",
    "axs[1].text(0.2, 5, f\"Max Vel = {np.max(vel['azimuthMotor2Velocity'].values):.1f} deg/sec\")\n",
    "plt.savefig(f\"/home/c/cslage/u/AuxTel/broken_limit_switch/Incident_Blowup_2B_26Sep24.pdf\")"
   ]
  },
  {
   "cell_type": "code",
   "execution_count": null,
   "metadata": {},
   "outputs": [],
   "source": [
    "#Others to check\n",
    "\n",
    "'lsst.sal.ATMCS.logevent_azimuthLimitSwitchCCW',\n",
    "'lsst.sal.ATMCS.logevent_azimuthLimitSwitchCW',\n",
    "'lsst.sal.ATMCS.logevent_azimuthToppleBlockCCW',\n",
    "'lsst.sal.ATMCS.logevent_azimuthToppleBlockCW',"
   ]
  },
  {
   "cell_type": "code",
   "execution_count": null,
   "metadata": {},
   "outputs": [],
   "source": [
    "#start = Time(\"2024-09-10T02:30:00\", scale='utc') # ccw topple\n",
    "#end = Time(\"2024-09-10T02:45:00\", scale='utc') # ccw topple\n",
    "start = Time(\"2024-09-10T15:02:00\", scale='utc')\n",
    "end = Time(\"2024-09-10T15:07:00\", scale='utc')\n",
    "\n",
    "az = await client.select_packed_time_series(\"lsst.sal.ATMCS.mount_AzEl_Encoders\", \\\n",
    "                                            ['azimuthCalculatedAngle'], \\\n",
    "                                             start, end)\n",
    "cw = await client.select_time_series(\"lsst.sal.ATMCS.logevent_azimuthToppleBlockCW\", \\\n",
    "                                            ['*'], \\\n",
    "                                             start, end)\n",
    "ccw = await client.select_time_series(\"lsst.sal.ATMCS.logevent_azimuthToppleBlockCCW\", \\\n",
    "                                            ['*'], \\\n",
    "                                             start, end)\n",
    "limcw = await client.select_time_series(\"lsst.sal.ATMCS.logevent_azimuthLimitSwitchCW\", \\\n",
    "                                            ['*'], \\\n",
    "                                             start, end)\n",
    "limccw = await client.select_time_series(\"lsst.sal.ATMCS.logevent_azimuthLimitSwitchCCW\", \\\n",
    "                                            ['*'], \\\n",
    "                                             start, end)\n",
    "print(len(cw), len(ccw), len(limcw), len(limccw))"
   ]
  },
  {
   "cell_type": "code",
   "execution_count": null,
   "metadata": {},
   "outputs": [],
   "source": [
    "fig, ax = plt.subplots(1,1)\n",
    "az['azimuthCalculatedAngle'].plot(ax=ax)\n",
    "for time in cw[cw['active']==True].index:\n",
    "    ax.axvline(time, ls='--', color='black')\n",
    "for time in ccw[ccw['active']==True].index:\n",
    "    ax.axvline(time, ls='--', color='red')\n",
    "\n"
   ]
  },
  {
   "cell_type": "code",
   "execution_count": null,
   "metadata": {},
   "outputs": [],
   "source": [
    "start = Time(\"2024-09-10T02:42:00\", scale='utc') # ccw topple\n",
    "end = Time(\"2024-09-10T02:47:00\", scale='utc') # ccw topple\n",
    "#start = Time(\"2024-09-10T15:02:00\", scale='utc')\n",
    "#end = Time(\"2024-09-10T15:07:00\", scale='utc')\n",
    "\n",
    "az = await client.select_packed_time_series(\"lsst.sal.ATMCS.mount_AzEl_Encoders\", \\\n",
    "                                            ['azimuthCalculatedAngle'], \\\n",
    "                                             start, end)\n",
    "cw = await client.select_time_series(\"lsst.sal.ATMCS.logevent_azimuthToppleBlockCW\", \\\n",
    "                                            ['*'], \\\n",
    "                                             start, end)\n",
    "ccw = await client.select_time_series(\"lsst.sal.ATMCS.logevent_azimuthToppleBlockCCW\", \\\n",
    "                                            ['*'], \\\n",
    "                                             start, end)\n",
    "limcw = await client.select_time_series(\"lsst.sal.ATMCS.logevent_azimuthLimitSwitchCW\", \\\n",
    "                                            ['*'], \\\n",
    "                                             start, end)\n",
    "limccw = await client.select_time_series(\"lsst.sal.ATMCS.logevent_azimuthLimitSwitchCCW\", \\\n",
    "                                            ['*'], \\\n",
    "                                             start, end)\n",
    "print(len(cw), len(ccw), len(limcw), len(limccw))"
   ]
  },
  {
   "cell_type": "code",
   "execution_count": null,
   "metadata": {},
   "outputs": [],
   "source": [
    "fig, ax = plt.subplots(1,1)\n",
    "az['azimuthCalculatedAngle'].plot(ax=ax)\n",
    "for time in cw[cw['active']==True].index:\n",
    "    ax.axvline(time, ls='--', color='black')\n",
    "for time in ccw[ccw['active']==True].index:\n",
    "    ax.axvline(time, ls='--', color='red')\n",
    "\n"
   ]
  },
  {
   "cell_type": "code",
   "execution_count": null,
   "metadata": {},
   "outputs": [],
   "source": []
  },
  {
   "cell_type": "code",
   "execution_count": null,
   "metadata": {
    "execution": {
     "iopub.execute_input": "2024-09-30T22:34:21.447122Z",
     "iopub.status.busy": "2024-09-30T22:34:21.446856Z",
     "iopub.status.idle": "2024-09-30T22:35:34.535278Z",
     "shell.execute_reply": "2024-09-30T22:35:34.534812Z",
     "shell.execute_reply.started": "2024-09-30T22:34:21.447108Z"
    }
   },
   "outputs": [],
   "source": [
    "start = Time(\"2024-09-25T00:00:00\", scale='utc')\n",
    "end = Time(\"2024-09-30T23:00:00\", scale='utc')\n",
    "fe80 = await client.select_time_series(\"lsst.sal.MTM1M3.forceActuatorData\", \\\n",
    "                                            ['secondaryCylinderFollowingError80'], \\\n",
    "                                             start, end)\n"
   ]
  },
  {
   "cell_type": "code",
   "execution_count": null,
   "metadata": {
    "execution": {
     "iopub.execute_input": "2024-09-30T22:42:07.499899Z",
     "iopub.status.busy": "2024-09-30T22:42:07.499619Z",
     "iopub.status.idle": "2024-09-30T22:43:46.960456Z",
     "shell.execute_reply": "2024-09-30T22:43:46.960033Z",
     "shell.execute_reply.started": "2024-09-30T22:42:07.499884Z"
    }
   },
   "outputs": [],
   "source": [
    "fe80['secondaryCylinderFollowingError80'].plot()\n",
    "pstart = Time(\"2024-09-30T21:00:00\", scale='utc').isot\n",
    "pend = Time(\"2024-09-30T23:00:00\", scale='utc').isot\n",
    "plt.xlim(pstart,pend)\n",
    "plt.ylim(-10,10)"
   ]
  },
  {
   "cell_type": "code",
   "execution_count": null,
   "metadata": {
    "execution": {
     "iopub.execute_input": "2024-09-30T23:08:28.497052Z",
     "iopub.status.busy": "2024-09-30T23:08:28.496718Z",
     "iopub.status.idle": "2024-09-30T23:08:28.627552Z",
     "shell.execute_reply": "2024-09-30T23:08:28.627244Z",
     "shell.execute_reply.started": "2024-09-30T23:08:28.497035Z"
    }
   },
   "outputs": [],
   "source": [
    "start = Time(\"2024-09-04T21:00:00\", scale='utc')\n",
    "end = Time(\"2024-09-04T21:01:00\", scale='utc')\n",
    "fe80 = await client.select_time_series(\"lsst.sal.MTM1M3.forceActuatorData\", \\\n",
    "                                            ['secondaryCylinderFollowingError80'], \\\n",
    "                                             start, end)\n",
    "fe80['secondaryCylinderFollowingError80'].plot()\n",
    "plt.ylim(-10,10)\n"
   ]
  },
  {
   "cell_type": "code",
   "execution_count": null,
   "metadata": {
    "execution": {
     "iopub.execute_input": "2024-09-30T23:00:42.832261Z",
     "iopub.status.busy": "2024-09-30T23:00:42.831966Z",
     "iopub.status.idle": "2024-09-30T23:01:32.574141Z",
     "shell.execute_reply": "2024-09-30T23:01:32.573766Z",
     "shell.execute_reply.started": "2024-09-30T23:00:42.832245Z"
    }
   },
   "outputs": [],
   "source": [
    "from matplotlib.backends.backend_pdf import PdfPages\n",
    "pdf = PdfPages('/home/c/cslage/u/MTM1M3/data/Test_330.pdf')\n",
    "fig = plt.figure(figsize=(5,5))\n",
    "for day in range(1, 31):\n",
    "    for hour in range(24):\n",
    "        try:\n",
    "            start = Time(f\"2024-09-{day:02d}T{hour:02d}:00:00\", scale='utc')\n",
    "            end = Time(f\"2024-09-{day:02d}T{hour:02d}:01:00\", scale='utc')\n",
    "            fe80 = await client.select_time_series(\"lsst.sal.MTM1M3.forceActuatorData\", \\\n",
    "                                                        ['secondaryCylinderFollowingError80'], \\\n",
    "                                                         start, end)\n",
    "            fe80['secondaryCylinderFollowingError80'].plot()\n",
    "            plt.title(f\"FA330 Secondary Following Error 2024-09-{day}T{hour}:00\")\n",
    "            plt.ylim(-10,10)\n",
    "            pdf.savefig(fig)  # saves the current figure into a pdf page\n",
    "            plt.clf()\n",
    "        except:\n",
    "            continue\n",
    "    print(f\"Finished day {day}\")\n",
    "pdf.close()\n",
    "\n"
   ]
  },
  {
   "cell_type": "code",
   "execution_count": null,
   "metadata": {
    "execution": {
     "iopub.execute_input": "2024-10-07T17:00:11.638457Z",
     "iopub.status.busy": "2024-10-07T17:00:11.638157Z",
     "iopub.status.idle": "2024-10-07T17:00:12.091755Z",
     "shell.execute_reply": "2024-10-07T17:00:12.091399Z",
     "shell.execute_reply.started": "2024-10-07T17:00:11.638443Z"
    }
   },
   "outputs": [],
   "source": [
    "start = Time(\"2024-10-07T12:00:00\", scale='utc')\n",
    "end = Time(\"2024-10-07T15:00:00\", scale='utc')\n",
    "acc = await client.select_time_series(\"lsst.sal.MTM1M3.accelerometerData\", \\\n",
    "                                            ['*'], \\\n",
    "                                             start, end)\n"
   ]
  },
  {
   "cell_type": "code",
   "execution_count": null,
   "metadata": {
    "execution": {
     "iopub.execute_input": "2024-10-07T17:00:16.672297Z",
     "iopub.status.busy": "2024-10-07T17:00:16.672003Z",
     "iopub.status.idle": "2024-10-07T17:00:16.682560Z",
     "shell.execute_reply": "2024-10-07T17:00:16.682254Z",
     "shell.execute_reply.started": "2024-10-07T17:00:16.672283Z"
    }
   },
   "outputs": [],
   "source": [
    "acc.head(2)"
   ]
  },
  {
   "cell_type": "code",
   "execution_count": null,
   "metadata": {
    "execution": {
     "iopub.execute_input": "2024-10-07T16:53:44.903874Z",
     "iopub.status.busy": "2024-10-07T16:53:44.903589Z",
     "iopub.status.idle": "2024-10-07T16:53:44.914682Z",
     "shell.execute_reply": "2024-10-07T16:53:44.914344Z",
     "shell.execute_reply.started": "2024-10-07T16:53:44.903860Z"
    }
   },
   "outputs": [],
   "source": [
    "acc.tail(2)"
   ]
  },
  {
   "cell_type": "code",
   "execution_count": null,
   "metadata": {
    "execution": {
     "iopub.execute_input": "2024-10-07T16:52:25.045243Z",
     "iopub.status.busy": "2024-10-07T16:52:25.044960Z",
     "iopub.status.idle": "2024-10-07T16:52:25.048499Z",
     "shell.execute_reply": "2024-10-07T16:52:25.048149Z",
     "shell.execute_reply.started": "2024-10-07T16:52:25.045227Z"
    }
   },
   "outputs": [],
   "source": [
    "acc.columns"
   ]
  },
  {
   "cell_type": "code",
   "execution_count": null,
   "metadata": {
    "execution": {
     "iopub.execute_input": "2024-10-07T16:53:04.954096Z",
     "iopub.status.busy": "2024-10-07T16:53:04.953811Z",
     "iopub.status.idle": "2024-10-07T16:53:05.287404Z",
     "shell.execute_reply": "2024-10-07T16:53:05.287061Z",
     "shell.execute_reply.started": "2024-10-07T16:53:04.954080Z"
    }
   },
   "outputs": [],
   "source": [
    "acc['accelerometer0'].plot()"
   ]
  },
  {
   "cell_type": "code",
   "execution_count": null,
   "metadata": {},
   "outputs": [],
   "source": []
  }
 ],
 "metadata": {
  "kernelspec": {
   "display_name": "LSST",
   "language": "python",
   "name": "lsst"
  },
  "language_info": {
   "codemirror_mode": {
    "name": "ipython",
    "version": 3
   },
   "file_extension": ".py",
   "mimetype": "text/x-python",
   "name": "python",
   "nbconvert_exporter": "python",
   "pygments_lexer": "ipython3",
   "version": "3.11.9"
  }
 },
 "nbformat": 4,
 "nbformat_minor": 4
}
