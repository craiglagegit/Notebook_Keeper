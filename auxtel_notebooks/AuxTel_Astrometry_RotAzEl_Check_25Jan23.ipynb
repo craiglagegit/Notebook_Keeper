{
 "cells": [
  {
   "cell_type": "markdown",
   "id": "b1860733-8579-4373-9add-40720bd2e41f",
   "metadata": {},
   "source": [
    "## Measuring shift on AuxTel Hysteresis run - 25-Jan-23\n",
    "\n",
    "Craig Lage"
   ]
  },
  {
   "cell_type": "code",
   "execution_count": null,
   "id": "61f6538a-7a03-4fbf-976c-577f14fff9cc",
   "metadata": {
    "execution": {
     "iopub.execute_input": "2023-01-25T11:52:08.809754Z",
     "iopub.status.busy": "2023-01-25T11:52:08.809361Z",
     "iopub.status.idle": "2023-01-25T11:52:11.329419Z",
     "shell.execute_reply": "2023-01-25T11:52:11.328819Z",
     "shell.execute_reply.started": "2023-01-25T11:52:08.809732Z"
    },
    "tags": []
   },
   "outputs": [],
   "source": [
    "import sys, time, os, asyncio, glob\n",
    "\n",
    "from datetime import datetime\n",
    "import numpy as np\n",
    "import matplotlib.pyplot as plt\n",
    "import astropy.io.fits as pf\n",
    "from astropy.time import Time, TimeDelta\n",
    "from astropy.coordinates import AltAz, ICRS, EarthLocation, Angle, FK5\n",
    "import astropy.units as u\n",
    "from astropy.table import Table\n",
    "from astroquery.astrometry_net import AstrometryNet\n",
    "from lsst.obs.lsst.translators.latiss import AUXTEL_LOCATION\n",
    "from lsst.daf.butler import Butler\n",
    "from lsst.pipe.tasks.characterizeImage import CharacterizeImageTask, CharacterizeImageConfig\n",
    "from lsst.ip.isr import IsrTask, IsrTaskConfig"
   ]
  },
  {
   "cell_type": "code",
   "execution_count": null,
   "id": "c23fbc40-2570-498c-8428-b2e7470aa356",
   "metadata": {
    "execution": {
     "iopub.execute_input": "2023-01-25T11:52:15.982912Z",
     "iopub.status.busy": "2023-01-25T11:52:15.982510Z",
     "iopub.status.idle": "2023-01-25T11:52:17.018757Z",
     "shell.execute_reply": "2023-01-25T11:52:17.018139Z",
     "shell.execute_reply.started": "2023-01-25T11:52:15.982892Z"
    },
    "tags": []
   },
   "outputs": [],
   "source": [
    "butler = Butler('/repo/embargo', collections=[\"LATISS/raw/all\", \"LATISS/calib\"])"
   ]
  },
  {
   "cell_type": "code",
   "execution_count": null,
   "id": "98894f19-e07c-4c65-a11e-4b9c6f65aed3",
   "metadata": {
    "execution": {
     "iopub.execute_input": "2023-01-25T11:52:20.653363Z",
     "iopub.status.busy": "2023-01-25T11:52:20.653060Z",
     "iopub.status.idle": "2023-01-25T11:52:20.682434Z",
     "shell.execute_reply": "2023-01-25T11:52:20.681855Z",
     "shell.execute_reply.started": "2023-01-25T11:52:20.653344Z"
    },
    "tags": []
   },
   "outputs": [],
   "source": [
    "isrConfig = IsrTaskConfig()\n",
    "isrConfig.doLinearize=False\n",
    "isrConfig.doOverscan=True\n",
    "isrConfig.doAssembleCcd=True\n",
    "isrConfig.doBias=True\n",
    "isrConfig.doVariance=True\n",
    "isrConfig.doLinearize=False\n",
    "isrConfig.doCrosstalk=False\n",
    "isrConfig.doBrighterFatter=False\n",
    "isrConfig.doDark=False\n",
    "isrConfig.doStrayLight=False\n",
    "isrConfig.doFlat=False\n",
    "isrConfig.doFringe=False\n",
    "isrConfig.doApplyGains=False\n",
    "isrConfig.doDefect=False\n",
    "isrConfig.doNanMasking=True\n",
    "isrConfig.doInterpolate=False\n",
    "isrConfig.doSaturation=False\n",
    "isrConfig.doSaturationInterpolation=False\n",
    "isrTask = IsrTask(config=isrConfig)"
   ]
  },
  {
   "cell_type": "code",
   "execution_count": null,
   "id": "506b38d1-87b2-4ab2-9010-e54e5aea1c54",
   "metadata": {
    "execution": {
     "iopub.execute_input": "2023-01-25T11:58:34.755226Z",
     "iopub.status.busy": "2023-01-25T11:58:34.754913Z",
     "iopub.status.idle": "2023-01-25T11:58:38.333108Z",
     "shell.execute_reply": "2023-01-25T11:58:38.332543Z",
     "shell.execute_reply.started": "2023-01-25T11:58:34.755205Z"
    },
    "tags": []
   },
   "outputs": [],
   "source": [
    "expId = 2023011900404\n",
    "exp = butler.get('raw', detector=0, exposure=expId)\n",
    "biasExp = butler.get('bias', detector=0, exposure=expId)\n",
    "defectExp = butler.get('defects', detector=0, exposure=expId)\n",
    "isrResult = isrTask.run(exp, bias=biasExp, defects=defectExp)\n",
    "newExp = isrResult.exposure"
   ]
  },
  {
   "cell_type": "code",
   "execution_count": null,
   "id": "623786f6-cdaa-4256-b6c4-0b460a50b027",
   "metadata": {},
   "outputs": [],
   "source": []
  },
  {
   "cell_type": "code",
   "execution_count": null,
   "id": "7673f052-ce56-4319-a628-1f71ca4f9151",
   "metadata": {
    "execution": {
     "iopub.execute_input": "2023-01-25T11:58:41.865794Z",
     "iopub.status.busy": "2023-01-25T11:58:41.865287Z",
     "iopub.status.idle": "2023-01-25T11:58:46.916760Z",
     "shell.execute_reply": "2023-01-25T11:58:46.916135Z",
     "shell.execute_reply.started": "2023-01-25T11:58:41.865771Z"
    },
    "tags": []
   },
   "outputs": [],
   "source": [
    "charConfig = CharacterizeImageConfig()\n",
    "charConfig.doMeasurePsf = False\n",
    "charConfig.doApCorr = False\n",
    "charConfig.doDeblend = False\n",
    "charConfig.repair.doCosmicRay = False\n",
    "charConfig.repair.doInterpolate = True   \n",
    "charConfig.detection.minPixels = 500\n",
    "charTask = CharacterizeImageTask(config=charConfig)\n",
    "\n",
    "mData = newExp.getMetadata()\n",
    "charResult = charTask.run(newExp)\n",
    "sourceCatalog = charResult.sourceCat\n",
    "maxFlux = np.nanmax(sourceCatalog['base_CircularApertureFlux_3_0_instFlux'])\n",
    "selectBrightestSource = sourceCatalog['base_CircularApertureFlux_3_0_instFlux'] > maxFlux * 0.99\n",
    "brightestSource = sourceCatalog.subset(selectBrightestSource)\n",
    "brightestCentroid = (brightestSource['base_SdssCentroid_x'][0], \\\n",
    "                     brightestSource['base_SdssCentroid_y'][0])\n",
    "brightCatalog = sourceCatalog.subset(sourceCatalog['base_CircularApertureFlux_3_0_instFlux'] > maxFlux * 0.001)\n",
    "print(f\"exposure:{expId}. Found {len(sourceCatalog)} sources, {len(brightCatalog)} bright sources\")\n",
    "print(f\"Brightest centroid at {brightestCentroid}\")"
   ]
  },
  {
   "cell_type": "code",
   "execution_count": null,
   "id": "636d1d57-082d-4e57-8c34-121734dbd5ae",
   "metadata": {
    "execution": {
     "iopub.execute_input": "2023-01-25T11:58:50.609321Z",
     "iopub.status.busy": "2023-01-25T11:58:50.608918Z",
     "iopub.status.idle": "2023-01-25T11:58:55.066265Z",
     "shell.execute_reply": "2023-01-25T11:58:55.065607Z",
     "shell.execute_reply.started": "2023-01-25T11:58:50.609299Z"
    },
    "tags": []
   },
   "outputs": [],
   "source": [
    "cat = brightCatalog\n",
    "from matplotlib.colors import LogNorm\n",
    "%matplotlib inline\n",
    "Ncenter = (700, 900)\n",
    "Nlength = 500.0\n",
    "NcenterAzEl = (3200, 700)\n",
    "Nlabel = 650.0\n",
    "yShift = 150.0\n",
    "\n",
    "plt.figure(figsize=(16,16))\n",
    "plt.title(f\"AuxTel Spectra Orientation, {expId}\", fontsize = 24)\n",
    "arr = newExp.image.array\n",
    "arr = np.clip(arr, 1, 100000) # This image has some negative values, and this removes them\n",
    "img = plt.imshow(arr, norm=LogNorm(vmin=1, vmax=1000),  interpolation='Nearest', cmap='gray')\n",
    "\n",
    "plt.scatter(brightestCentroid[0],brightestCentroid[1]\\\n",
    "            ,color='red', marker='x', s=1000)\n",
    "\n",
    "rotpa = Angle(mData['ROTPA']*u.deg)\n",
    "plt.arrow(Ncenter[0],Ncenter[1], -Nlength*np.sin(rotpa), Nlength*np.cos(rotpa),\\\n",
    "    color='green', width = 20)\n",
    "plt.text(Ncenter[0]-Nlabel*np.sin(rotpa),Ncenter[1]+Nlabel*np.cos(rotpa), 'N', \\\n",
    "    color='green', fontsize=12, weight='bold')\n",
    "plt.arrow(Ncenter[0],Ncenter[1], Nlength*np.cos(rotpa), Nlength*np.sin(rotpa),\\\n",
    "    color='green', width = 20)\n",
    "plt.text(Ncenter[0]+Nlabel*np.cos(rotpa),Ncenter[1]+Nlabel*np.sin(rotpa), 'E', \\\n",
    "    color='green', fontsize=12, weight='bold')\n",
    "\n",
    "el = Angle(mData['ELSTART'] * u.deg)\n",
    "az = Angle(mData['AZSTART'] * u.deg)\n",
    "dec = Angle(mData['DECSTART'] * u.deg)\n",
    "# Now calculate and plot the Az, El arrows from my algorithm\n",
    "sinTheta =  np.cos(AUXTEL_LOCATION.lat) / np.cos(dec) * np.sin(az)\n",
    "cosTheta = (np.sin(el) * np.sin(dec) - np.sin(AUXTEL_LOCATION.lat)) / (np.cos(el) * np.cos(dec))\n",
    "\n",
    "theta = Angle(np.arcsin(sinTheta))\n",
    "if cosTheta > 0:\n",
    "    rotAzEl = rotpa - theta\n",
    "else:    \n",
    "    rotAzEl = rotpa - (Angle(180.0 * u.deg) - theta)\n",
    "\n",
    "print(theta.deg, rotpa.deg, rotAzEl.deg)\n",
    "plt.arrow(NcenterAzEl[0],NcenterAzEl[1], -Nlength*np.sin(rotAzEl), Nlength*np.cos(rotAzEl),\\\n",
    "    color='cyan', width = 20)\n",
    "plt.text(NcenterAzEl[0]-Nlabel*np.sin(rotAzEl),NcenterAzEl[1]+Nlabel*np.cos(rotAzEl), 'EL', \\\n",
    "    color='cyan', fontsize=12, weight='bold')\n",
    "plt.arrow(NcenterAzEl[0],NcenterAzEl[1], Nlength*np.cos(rotAzEl), Nlength*np.sin(rotAzEl),\\\n",
    "    color='cyan', width = 20)\n",
    "plt.text(NcenterAzEl[0]+Nlabel*np.cos(rotAzEl),NcenterAzEl[1]+Nlabel*np.sin(rotAzEl), 'AZ', \\\n",
    "    color='cyan', fontsize=12, weight='bold')\n",
    "plt.gca().invert_yaxis()\n",
    "\n",
    "#plt.savefig(f\"/home/c/cslage/DATA/AuxTel_Spectra_Orientation_{expId}_16Dec22.pdf\")"
   ]
  },
  {
   "cell_type": "code",
   "execution_count": null,
   "id": "824513fa-4ce9-45ca-b0cb-244fe87126bd",
   "metadata": {
    "tags": []
   },
   "outputs": [],
   "source": []
  },
  {
   "cell_type": "code",
   "execution_count": null,
   "id": "796c2f8c-45f0-4b31-88b0-7859efe2a58b",
   "metadata": {},
   "outputs": [],
   "source": []
  }
 ],
 "metadata": {
  "kernelspec": {
   "display_name": "LSST",
   "language": "python",
   "name": "lsst"
  },
  "language_info": {
   "codemirror_mode": {
    "name": "ipython",
    "version": 3
   },
   "file_extension": ".py",
   "mimetype": "text/x-python",
   "name": "python",
   "nbconvert_exporter": "python",
   "pygments_lexer": "ipython3",
   "version": "3.11.4"
  }
 },
 "nbformat": 4,
 "nbformat_minor": 5
}
