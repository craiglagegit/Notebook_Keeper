{
 "cells": [
  {
   "cell_type": "markdown",
   "id": "5f19a9b8-2189-419d-bbcb-01a9ee7d1327",
   "metadata": {},
   "source": [
    "## Timebase testing - NCSA\n",
    "Craig Lage - Mar 8, 2022"
   ]
  },
  {
   "cell_type": "code",
   "execution_count": null,
   "id": "f40e97af-4e3d-405e-968d-4e0c8d02c990",
   "metadata": {},
   "outputs": [],
   "source": [
    "import pandas as pd\n",
    "from astropy.time import Time, TimeDelta\n",
    "from lsst_efd_client import EfdClient"
   ]
  },
  {
   "cell_type": "code",
   "execution_count": null,
   "id": "028fc671-ca29-447b-82c9-19f1efa3b755",
   "metadata": {},
   "outputs": [],
   "source": [
    "client = EfdClient('summit_efd')"
   ]
  },
  {
   "cell_type": "code",
   "execution_count": null,
   "id": "10976544-e3a0-4826-82f4-79fe5a79440f",
   "metadata": {},
   "outputs": [],
   "source": [
    "tstart = Time(\"2022-03-08T14:12:58.283Z\", scale='utc')\n",
    "tend = Time(\"2022-03-08T14:13:03.523Z\", scale='utc')\n",
    "\n",
    "print(f\"tstart={tstart}, tend={tend}\")\n",
    "\n",
    "az = await client.select_packed_time_series('lsst.sal.ATMCS.mount_AzEl_Encoders', \\\n",
    "                                            'azimuthCalculatedAngle', tstart, tend)\n",
    "print(f\"az_start={az.index[0]}, az_end={az.index[-1]}\")\n",
    "offset = (tstart.jd - az.index[0].to_julian_date()) * 86400.0\n",
    "print(f\"Time Offset = {offset:.2f} seconds\") "
   ]
  },
  {
   "cell_type": "code",
   "execution_count": null,
   "id": "8452b675-213d-49c1-ab5d-3f1c2fb9db82",
   "metadata": {},
   "outputs": [],
   "source": [
    "tstart = Time(\"2022-03-08T14:12:58.283Z\", scale='utc')\n",
    "tend = Time(\"2022-03-08T14:13:03.523Z\", scale='utc')\n",
    "\n",
    "print(f\"tstart={tstart}, tend={tend}\")\n",
    "\n",
    "az = await client.select_packed_time_series('lsst.sal.ATMCS.mount_AzEl_Encoders', \\\n",
    "                                            'azimuthCalculatedAngle', tstart, tend)\n",
    "az0 = await client.select_time_series('lsst.sal.ATMCS.mount_AzEl_Encoders', \\\n",
    "                                            'azimuthCalculatedAngle0', tstart, tend)\n",
    "crio = await client.select_time_series('lsst.sal.ATMCS.mount_AzEl_Encoders', \\\n",
    "                                            'cRIO_timestamp', tstart, tend)\n",
    "print(f\"az_start={az.index[0]}, az_end={az.index[-1]}\")\n",
    "print(f\"az0_start={az0.index[0]}, az0_end={az0.index[-1]}\")\n",
    "print(f\"crio_start={crio.index[0]}, crio_end={crio.index[-1]}\")\n",
    "offset1 = (tstart.jd - az.index[0].to_julian_date()) * 86400.0\n",
    "offset2 = (tstart.jd - az0.index[0].to_julian_date()) * 86400.0\n",
    "offset3 = (tstart.jd - crio.index[0].to_julian_date()) * 86400.0\n",
    "offset4 = (az0.index[0].to_julian_date() - az.index[0].to_julian_date()) * 86400.0\n",
    "offset5 = (az0.index[0].to_julian_date() - crio.index[0].to_julian_date()) * 86400.0\n",
    "\n",
    "print(f\"tstart-az[0] = {offset1:.2f} seconds\") \n",
    "print(f\"tstart-az0[0] = {offset2:.2f} seconds\") \n",
    "print(f\"tstart-crio[0] = {offset3:.2f} seconds\") \n",
    "print(f\"az0[0]-az[0] = {offset4:.2f} seconds\") \n",
    "print(f\"az0[0]-crio[0] = {offset5:.2f} seconds\") "
   ]
  },
  {
   "cell_type": "code",
   "execution_count": null,
   "id": "67608198-72a8-496e-93a2-d256721f4336",
   "metadata": {},
   "outputs": [],
   "source": []
  }
 ],
 "metadata": {
  "kernelspec": {
   "display_name": "LSST",
   "language": "python",
   "name": "lsst"
  },
  "language_info": {
   "codemirror_mode": {
    "name": "ipython",
    "version": 3
   },
   "file_extension": ".py",
   "mimetype": "text/x-python",
   "name": "python",
   "nbconvert_exporter": "python",
   "pygments_lexer": "ipython3",
   "version": "3.8.8"
  }
 },
 "nbformat": 4,
 "nbformat_minor": 5
}
