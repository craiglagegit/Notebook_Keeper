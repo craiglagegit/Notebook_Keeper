{
 "cells": [
  {
   "cell_type": "code",
   "execution_count": null,
   "id": "5ea20305-1ba7-426b-9a10-2356565185c7",
   "metadata": {
    "execution": {
     "iopub.execute_input": "2024-02-05T14:29:10.482840Z",
     "iopub.status.busy": "2024-02-05T14:29:10.482633Z",
     "iopub.status.idle": "2024-02-05T14:29:24.443366Z",
     "shell.execute_reply": "2024-02-05T14:29:24.442891Z",
     "shell.execute_reply.started": "2024-02-05T14:29:10.482825Z"
    }
   },
   "outputs": [],
   "source": [
    "import nest_asyncio\n",
    "nest_asyncio.apply()\n",
    "import sys, time, os, asyncio\n",
    "from datetime import datetime\n",
    "import numpy as np\n",
    "import pandas as pd\n",
    "import pickle as pkl\n",
    "import matplotlib.pyplot as plt\n",
    "%matplotlib inline\n",
    "from astropy.time import Time, TimeDelta\n",
    "\n",
    "from lsst_efd_client import EfdClient\n",
    "from lsst.daf.butler import Butler\n",
    "\n",
    "import lsst.summit.utils.butlerUtils as butlerUtils\n",
    "from lsst.summit.utils.utils import dayObsIntToString\n",
    "from lsst.summit.utils.efdUtils import calcNextDay\n",
    "\n"
   ]
  },
  {
   "cell_type": "code",
   "execution_count": null,
   "id": "89c1d0e5-3890-41c5-8a1c-0b6ac55276cc",
   "metadata": {
    "execution": {
     "iopub.execute_input": "2024-02-05T14:29:54.133647Z",
     "iopub.status.busy": "2024-02-05T14:29:54.133456Z",
     "iopub.status.idle": "2024-02-05T14:29:54.575881Z",
     "shell.execute_reply": "2024-02-05T14:29:54.575411Z",
     "shell.execute_reply.started": "2024-02-05T14:29:54.133633Z"
    }
   },
   "outputs": [],
   "source": [
    "butler = Butler('/repo/embargo', collections=\"LATISS/raw/all\")"
   ]
  },
  {
   "cell_type": "code",
   "execution_count": null,
   "id": "9e939465-d662-4e20-aea2-9e45eca5a6ea",
   "metadata": {
    "execution": {
     "iopub.execute_input": "2024-02-05T14:38:14.245836Z",
     "iopub.status.busy": "2024-02-05T14:38:14.245218Z",
     "iopub.status.idle": "2024-02-05T14:38:14.263038Z",
     "shell.execute_reply": "2024-02-05T14:38:14.262654Z",
     "shell.execute_reply.started": "2024-02-05T14:38:14.245821Z"
    }
   },
   "outputs": [],
   "source": [
    "dayObs = 20230704\n",
    "seqNum = 268\n",
    "\n",
    "expId = dayObs * 100000 + seqNum\n",
    "mData = butler.get('raw.metadata', detector=0, exposure=expId)\n",
    "tStart = mData['DATE-BEG']\n",
    "tEnd = mData['DATE-END']\n",
    "az = mData['AZSTART']\n",
    "el = mData['ELSTART']"
   ]
  },
  {
   "cell_type": "code",
   "execution_count": null,
   "id": "7559145d-0649-406d-b07e-63b6fa17a245",
   "metadata": {
    "execution": {
     "iopub.execute_input": "2024-02-05T14:38:17.676090Z",
     "iopub.status.busy": "2024-02-05T14:38:17.675443Z",
     "iopub.status.idle": "2024-02-05T14:38:17.679712Z",
     "shell.execute_reply": "2024-02-05T14:38:17.679328Z",
     "shell.execute_reply.started": "2024-02-05T14:38:17.676075Z"
    }
   },
   "outputs": [],
   "source": [
    "start = Time(tStart, scale='tai')\n",
    "end = Time(tEnd, scale='tai')\n",
    "print(start.utc.isot, end.utc.isot)"
   ]
  },
  {
   "cell_type": "code",
   "execution_count": null,
   "id": "2c6a0014-eebc-4555-bcb4-42d0c5d3c975",
   "metadata": {},
   "outputs": [],
   "source": []
  }
 ],
 "metadata": {
  "kernelspec": {
   "display_name": "LSST",
   "language": "python",
   "name": "lsst"
  },
  "language_info": {
   "codemirror_mode": {
    "name": "ipython",
    "version": 3
   },
   "file_extension": ".py",
   "mimetype": "text/x-python",
   "name": "python",
   "nbconvert_exporter": "python",
   "pygments_lexer": "ipython3",
   "version": "3.11.7"
  }
 },
 "nbformat": 4,
 "nbformat_minor": 5
}
