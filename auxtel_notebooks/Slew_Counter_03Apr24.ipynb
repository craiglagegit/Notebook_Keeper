{
 "cells": [
  {
   "cell_type": "markdown",
   "id": "f1ad9e3a-f4e1-4c25-a4fe-2ed5caba5878",
   "metadata": {},
   "source": [
    "# Count total number of TMA slews\n",
    "\n",
    "Craig Lage 03-Apr-24"
   ]
  },
  {
   "cell_type": "code",
   "execution_count": null,
   "id": "c9ae8173-e4a1-4148-a091-7c16324715b1",
   "metadata": {
    "execution": {
     "iopub.execute_input": "2024-05-02T18:33:53.407761Z",
     "iopub.status.busy": "2024-05-02T18:33:53.407535Z",
     "iopub.status.idle": "2024-05-02T18:34:00.364482Z",
     "shell.execute_reply": "2024-05-02T18:34:00.364067Z",
     "shell.execute_reply.started": "2024-05-02T18:33:53.407746Z"
    }
   },
   "outputs": [],
   "source": [
    "from lsst.summit.utils.efdUtils import calcNextDay\n",
    "from lsst.summit.utils.tmaUtils import TMAEventMaker"
   ]
  },
  {
   "cell_type": "code",
   "execution_count": null,
   "id": "bcf86cbe-a494-420c-804b-7addf1f20e6b",
   "metadata": {
    "execution": {
     "iopub.execute_input": "2024-05-02T18:34:07.337062Z",
     "iopub.status.busy": "2024-05-02T18:34:07.336776Z"
    }
   },
   "outputs": [],
   "source": [
    "eventMaker = TMAEventMaker()\n",
    "totalCount = 0\n",
    "startDay = 20220601\n",
    "endDay = 20240402\n",
    "dayObs = startDay\n",
    "while dayObs <= endDay:\n",
    "    try:\n",
    "        events = eventMaker.getEvents(dayObs)\n",
    "        slews = [e for e in events if e.type.name==\"SLEWING\"]\n",
    "        numSlews = len(slews)\n",
    "        print(f\"{dayObs} had {numSlews} slews.\")\n",
    "        totalCount += numSlews\n",
    "        dayObs = calcNextDay(dayObs)\n",
    "    except:\n",
    "        dayObs = calcNextDay(dayObs)\n",
    "        continue\n",
    "\n",
    "print(f\"Between {startDay} and {endDay} there were {totalCount} slews.\")"
   ]
  },
  {
   "cell_type": "code",
   "execution_count": null,
   "id": "159750bd-02ca-4724-b041-9000cfe5b094",
   "metadata": {},
   "outputs": [],
   "source": [
    "print(f\"Between {startDay} and {endDay} there were {totalCount} slews.\")"
   ]
  }
 ],
 "metadata": {
  "kernelspec": {
   "display_name": "LSST",
   "language": "python",
   "name": "lsst"
  },
  "language_info": {
   "codemirror_mode": {
    "name": "ipython",
    "version": 3
   },
   "file_extension": ".py",
   "mimetype": "text/x-python",
   "name": "python",
   "nbconvert_exporter": "python",
   "pygments_lexer": "ipython3",
   "version": "3.11.7"
  }
 },
 "nbformat": 4,
 "nbformat_minor": 5
}
