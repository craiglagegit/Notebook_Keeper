{
 "cells": [
  {
   "cell_type": "code",
   "execution_count": null,
   "id": "c9ae8173-e4a1-4148-a091-7c16324715b1",
   "metadata": {
    "execution": {
     "iopub.execute_input": "2024-04-03T14:08:01.590166Z",
     "iopub.status.busy": "2024-04-03T14:08:01.589919Z",
     "iopub.status.idle": "2024-04-03T14:08:08.653987Z",
     "shell.execute_reply": "2024-04-03T14:08:08.653579Z",
     "shell.execute_reply.started": "2024-04-03T14:08:01.590150Z"
    }
   },
   "outputs": [],
   "source": [
    "from lsst.summit.utils.efdUtils import calcNextDay\n",
    "from lsst.summit.utils.tmaUtils import TMAEventMaker"
   ]
  },
  {
   "cell_type": "code",
   "execution_count": null,
   "id": "bcf86cbe-a494-420c-804b-7addf1f20e6b",
   "metadata": {
    "execution": {
     "iopub.execute_input": "2024-04-03T14:08:17.318231Z",
     "iopub.status.busy": "2024-04-03T14:08:17.317934Z",
     "iopub.status.idle": "2024-04-03T14:08:42.451167Z",
     "shell.execute_reply": "2024-04-03T14:08:42.450560Z",
     "shell.execute_reply.started": "2024-04-03T14:08:17.318215Z"
    },
    "jupyter": {
     "outputs_hidden": true
    }
   },
   "outputs": [],
   "source": [
    "eventMaker = TMAEventMaker()\n",
    "totalCount = 0\n",
    "startDay = 20220601\n",
    "endDay = 20230101\n",
    "dayObs = startDay\n",
    "while dayObs <= endDay:\n",
    "    try:\n",
    "        events = eventMaker.getEvents(dayObs)\n",
    "        slews = [e for e in events if e.type.name==\"SLEWING\"]\n",
    "        numSlews = len(slews)\n",
    "        print(f\"{dayObs} had {numSlews} slews.\")\n",
    "        totalCount += numSlews\n",
    "        dayObs = calcNextDay(dayObs)\n",
    "    except:\n",
    "        dayObs = calcNextDay(dayObs)\n",
    "        continue\n",
    "\n",
    "print(f\"Between {startDay} and {endDay} there were {totalCount} slews.\")"
   ]
  },
  {
   "cell_type": "code",
   "execution_count": null,
   "id": "159750bd-02ca-4724-b041-9000cfe5b094",
   "metadata": {
    "execution": {
     "iopub.execute_input": "2024-04-03T14:08:58.322663Z",
     "iopub.status.busy": "2024-04-03T14:08:58.322375Z",
     "iopub.status.idle": "2024-04-03T14:08:58.325286Z",
     "shell.execute_reply": "2024-04-03T14:08:58.324926Z",
     "shell.execute_reply.started": "2024-04-03T14:08:58.322648Z"
    }
   },
   "outputs": [],
   "source": [
    "print(f\"Between {startDay} and {endDay} there were {totalCount} slews.\")"
   ]
  },
  {
   "cell_type": "code",
   "execution_count": null,
   "id": "c1faaad0-2ccd-48bf-bbc1-9147fc6efc88",
   "metadata": {},
   "outputs": [],
   "source": []
  }
 ],
 "metadata": {
  "kernelspec": {
   "display_name": "LSST",
   "language": "python",
   "name": "lsst"
  },
  "language_info": {
   "codemirror_mode": {
    "name": "ipython",
    "version": 3
   },
   "file_extension": ".py",
   "mimetype": "text/x-python",
   "name": "python",
   "nbconvert_exporter": "python",
   "pygments_lexer": "ipython3",
   "version": "3.11.7"
  }
 },
 "nbformat": 4,
 "nbformat_minor": 5
}
