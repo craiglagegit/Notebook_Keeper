{
 "cells": [
  {
   "cell_type": "markdown",
   "metadata": {},
   "source": [
    "## Queries - Gen3\n",
    "\n",
    "This is a summary of learning of ways to query the butler.\\\n",
    "Craig Lage - 25-Apr-24"
   ]
  },
  {
   "cell_type": "code",
   "execution_count": null,
   "metadata": {
    "execution": {
     "iopub.execute_input": "2024-07-17T16:03:02.067807Z",
     "iopub.status.busy": "2024-07-17T16:03:02.067337Z",
     "iopub.status.idle": "2024-07-17T16:03:02.604269Z",
     "shell.execute_reply": "2024-07-17T16:03:02.603780Z",
     "shell.execute_reply.started": "2024-07-17T16:03:02.067791Z"
    },
    "tags": []
   },
   "outputs": [],
   "source": [
    "import numpy as np\n",
    "import matplotlib.pyplot as plt\n",
    "import astropy.io.fits as pf\n",
    "from astropy.time import Time, TimeDelta\n",
    "import pandas as pd\n",
    "import lsst.afw.cameraGeom.utils as camGeomUtils\n",
    "import lsst.afw.display as afwDisplay"
   ]
  },
  {
   "cell_type": "markdown",
   "metadata": {},
   "source": [
    "## First, how to query the butler for unknown stuff"
   ]
  },
  {
   "cell_type": "code",
   "execution_count": null,
   "metadata": {
    "execution": {
     "iopub.execute_input": "2024-07-17T16:03:03.979969Z",
     "iopub.status.busy": "2024-07-17T16:03:03.979649Z",
     "iopub.status.idle": "2024-07-17T16:03:05.088059Z",
     "shell.execute_reply": "2024-07-17T16:03:05.087608Z",
     "shell.execute_reply.started": "2024-07-17T16:03:03.979956Z"
    },
    "tags": []
   },
   "outputs": [],
   "source": [
    "from lsst.daf.butler import Butler\n",
    "#butler = Butler('/repo/main')  # Older stuff\n",
    "butler = Butler('/repo/embargo')"
   ]
  },
  {
   "cell_type": "code",
   "execution_count": null,
   "metadata": {
    "execution": {
     "iopub.execute_input": "2024-05-01T14:08:54.763368Z",
     "iopub.status.busy": "2024-05-01T14:08:54.763097Z",
     "iopub.status.idle": "2024-05-01T14:08:55.149255Z",
     "shell.execute_reply": "2024-05-01T14:08:55.148745Z",
     "shell.execute_reply.started": "2024-05-01T14:08:54.763353Z"
    },
    "jupyter": {
     "outputs_hidden": true
    }
   },
   "outputs": [],
   "source": [
    "collections = butler.registry.queryCollections()\n",
    "for item in collections:\n",
    "    if \"cslage\" in item and 'ptc' in item:\n",
    "        print(item)"
   ]
  },
  {
   "cell_type": "code",
   "execution_count": null,
   "metadata": {
    "execution": {
     "iopub.execute_input": "2024-07-17T14:49:21.652394Z",
     "iopub.status.busy": "2024-07-17T14:49:21.651951Z",
     "iopub.status.idle": "2024-07-17T14:49:21.740664Z",
     "shell.execute_reply": "2024-07-17T14:49:21.740135Z",
     "shell.execute_reply.started": "2024-07-17T14:49:21.652380Z"
    }
   },
   "outputs": [],
   "source": [
    "collections=[\"u/cslage/sdf/comcam/ptc_20240716\"]\n",
    "\n",
    "subbutler = Butler('/repo/embargo', collections=collections)\n",
    "subregistry = subbutler.registry\n",
    "for dtype in subregistry.queryDatasetTypes()[:]:\n",
    "    try:\n",
    "        datasetRefs = list(subregistry.queryDatasets(datasetType=dtype,collections=collections))\n",
    "        if len(datasetRefs) > 0:\n",
    "            print(len(datasetRefs), dtype )\n",
    "    except:\n",
    "        print(\"Error\", dtype )"
   ]
  },
  {
   "cell_type": "code",
   "execution_count": null,
   "metadata": {
    "execution": {
     "iopub.execute_input": "2024-07-17T16:03:12.539955Z",
     "iopub.status.busy": "2024-07-17T16:03:12.539693Z",
     "iopub.status.idle": "2024-07-17T16:03:12.780931Z",
     "shell.execute_reply": "2024-07-17T16:03:12.780462Z",
     "shell.execute_reply.started": "2024-07-17T16:03:12.539943Z"
    },
    "jupyter": {
     "outputs_hidden": true
    }
   },
   "outputs": [],
   "source": [
    "butler = Butler('/repo/embargo', collections=\"LATISS/raw/all\")\n",
    "dayObs = 20240314\n",
    "\n",
    "exposureList = []\n",
    "for record in butler.registry.queryDimensionRecords(\"exposure\", where=\"exposure.day_obs=%d\"%dayObs):\n",
    "    exposureList.append([record.id, record])\n",
    "exposureList.sort(key=lambda x: x[0])\n",
    "for [id,record] in exposureList:\n",
    "    print(record.id, record.observation_type, record.exposure_time, record.physical_filter)#, \\\n"
   ]
  },
  {
   "cell_type": "code",
   "execution_count": null,
   "metadata": {
    "execution": {
     "iopub.execute_input": "2024-05-01T16:41:06.218380Z",
     "iopub.status.busy": "2024-05-01T16:41:06.218177Z",
     "iopub.status.idle": "2024-05-01T16:41:09.779257Z",
     "shell.execute_reply": "2024-05-01T16:41:09.778831Z",
     "shell.execute_reply.started": "2024-05-01T16:41:06.218367Z"
    }
   },
   "outputs": [],
   "source": [
    "%matplotlib inline\n",
    "from lsst.summit.utils.plotting import plot\n",
    "import lsst.summit.utils.butlerUtils as butlerUtils\n",
    "from lsst.summit.utils.bestEffort import BestEffortIsr\n",
    "butler = butlerUtils.makeDefaultLatissButler(embargo=True)\n",
    "dataId = dict(day_obs=20240308, detector=0, seq_num=199)\n",
    "bestEffort = BestEffortIsr(embargo=True)\n",
    "bestEffort.getExposure(dataId)\n",
    "dataType = 'quickLookExp'\n",
    "exp = butler.get(dataType, dataId)\n",
    "x = plot(exp)"
   ]
  },
  {
   "cell_type": "code",
   "execution_count": null,
   "metadata": {},
   "outputs": [],
   "source": [
    "dataId = dict(day_obs=20240308, detector=0, seq_num=199)\n",
    "exp = butler.get(', dataId)\n"
   ]
  },
  {
   "cell_type": "code",
   "execution_count": null,
   "metadata": {
    "execution": {
     "iopub.execute_input": "2024-05-14T13:40:44.626119Z",
     "iopub.status.busy": "2024-05-14T13:40:44.625935Z",
     "iopub.status.idle": "2024-05-14T13:40:44.757512Z",
     "shell.execute_reply": "2024-05-14T13:40:44.756977Z",
     "shell.execute_reply.started": "2024-05-14T13:40:44.626107Z"
    },
    "tags": []
   },
   "outputs": [],
   "source": [
    "dayObs = 20230510\n",
    "exposureList = []\n",
    "for record in butler.registry.queryDimensionRecords(\"exposure\", where=\"exposure.day_obs=%d\"%dayObs):\n",
    "    exposureList.append([record.id, record])\n",
    "exposureList.sort(key=lambda x: x[0])\n",
    "for [id,record] in exposureList:\n",
    "    mData = butler.get('raw.metadata', detector=0, exposure=id)\n",
    "    print(record.id, record.observation_type, record.exposure_time, record.physical_filter, \\\n",
    "          record.target_name, mData['SEQFILE'])"
   ]
  },
  {
   "cell_type": "code",
   "execution_count": null,
   "metadata": {
    "execution": {
     "iopub.execute_input": "2024-05-14T13:40:38.825716Z",
     "iopub.status.busy": "2024-05-14T13:40:38.825505Z",
     "iopub.status.idle": "2024-05-14T13:40:38.936071Z",
     "shell.execute_reply": "2024-05-14T13:40:38.935569Z",
     "shell.execute_reply.started": "2024-05-14T13:40:38.825693Z"
    }
   },
   "outputs": [],
   "source": [
    "for expId in [2024050600087]:\n",
    "    mData = butler.get('raw.metadata', detector=0, exposure=expId)\n",
    "for key in mData.keys():\n",
    "    print(key, mData[key])\n"
   ]
  },
  {
   "cell_type": "code",
   "execution_count": null,
   "metadata": {},
   "outputs": [],
   "source": []
  }
 ],
 "metadata": {
  "kernelspec": {
   "display_name": "LSST",
   "language": "python",
   "name": "lsst"
  },
  "language_info": {
   "codemirror_mode": {
    "name": "ipython",
    "version": 3
   },
   "file_extension": ".py",
   "mimetype": "text/x-python",
   "name": "python",
   "nbconvert_exporter": "python",
   "pygments_lexer": "ipython3",
   "version": "3.11.9"
  }
 },
 "nbformat": 4,
 "nbformat_minor": 4
}
