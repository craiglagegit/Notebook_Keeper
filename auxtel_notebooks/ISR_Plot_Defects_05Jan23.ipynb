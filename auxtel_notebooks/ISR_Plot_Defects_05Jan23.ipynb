{
 "cells": [
  {
   "cell_type": "markdown",
   "metadata": {},
   "source": [
    "## Trying crosstalk correction on AuxTel ISR\n",
    "\n",
    "Craig Lage - 04-Jan-23"
   ]
  },
  {
   "cell_type": "code",
   "execution_count": null,
   "metadata": {
    "execution": {
     "iopub.execute_input": "2023-01-06T15:02:41.360955Z",
     "iopub.status.busy": "2023-01-06T15:02:41.360708Z",
     "iopub.status.idle": "2023-01-06T15:02:44.198518Z",
     "shell.execute_reply": "2023-01-06T15:02:44.197873Z",
     "shell.execute_reply.started": "2023-01-06T15:02:41.360936Z"
    },
    "tags": []
   },
   "outputs": [],
   "source": [
    "import numpy as np\n",
    "import matplotlib.pyplot as plt\n",
    "import astropy.io.fits as pf\n",
    "import lsst.afw.cameraGeom.utils as camGeomUtils\n",
    "from lsst.ip.isr import IsrTask, IsrTaskConfig\n",
    "from mpl_toolkits.axes_grid1 import make_axes_locatable\n",
    "from matplotlib.colors import LogNorm\n",
    "\n",
    "from lsst.summit.utils import quickSmooth\n",
    "%matplotlib inline\n",
    "\n",
    "from lsst.pipe.tasks.characterizeImage import CharacterizeImageTask\n",
    "from lsst.meas.algorithms.installGaussianPsf import InstallGaussianPsfTask"
   ]
  },
  {
   "cell_type": "code",
   "execution_count": null,
   "metadata": {
    "execution": {
     "iopub.execute_input": "2023-01-06T16:29:58.130855Z",
     "iopub.status.busy": "2023-01-06T16:29:58.130460Z",
     "iopub.status.idle": "2023-01-06T16:29:58.137314Z",
     "shell.execute_reply": "2023-01-06T16:29:58.136789Z",
     "shell.execute_reply.started": "2023-01-06T16:29:58.130835Z"
    },
    "tags": []
   },
   "outputs": [],
   "source": [
    "def plotDefectFile(defects):\n",
    "    imageHeight = 4000\n",
    "    imageWidth = 4072\n",
    "    array = np.zeros([imageHeight, imageWidth])\n",
    "    table = defects.toTable()[0].to_pandas()\n",
    "    for n in range(len(table)):\n",
    "        row = table.iloc[n]\n",
    "        x0 = row['x0']\n",
    "        y0 = row['y0']\n",
    "        width = row['width']\n",
    "        height = row['height']\n",
    "        for i in range(x0, x0+width):\n",
    "            for j in range(y0, y0+height):\n",
    "                array[j,i] = 1.0\n",
    "    figure = plt.figure(figsize=(10,10))\n",
    "    figure.clear()\n",
    "    ax1 = figure.add_subplot(111)\n",
    "    im1 = ax1.imshow(array, cmap='gray', origin='lower', interpolation='nearest')\n",
    "    ax1.tick_params(which=\"major\", direction=\"in\", top=True, right=True, labelsize=8)\n",
    "\n",
    "def plotmask(exp):\n",
    "    mask = exp.getMaskedImage().getMask().array\n",
    "    figure = plt.figure(figsize=(10,10))\n",
    "    figure.clear()\n",
    "    ax1 = figure.add_subplot(111)\n",
    "    im1 = ax1.imshow(mask, cmap='gray', origin='lower', interpolation='nearest')\n",
    "    ax1.tick_params(which=\"major\", direction=\"in\", top=True, right=True, labelsize=8)\n",
    " "
   ]
  },
  {
   "cell_type": "code",
   "execution_count": null,
   "metadata": {
    "execution": {
     "iopub.execute_input": "2023-01-06T15:02:44.211974Z",
     "iopub.status.busy": "2023-01-06T15:02:44.211463Z",
     "iopub.status.idle": "2023-01-06T15:02:45.188167Z",
     "shell.execute_reply": "2023-01-06T15:02:45.187546Z",
     "shell.execute_reply.started": "2023-01-06T15:02:44.211952Z"
    },
    "tags": []
   },
   "outputs": [],
   "source": [
    "from lsst.daf.butler import Butler\n",
    "#butler = Butler('/repo/main', collections=[\"LATISS/raw/all\", \"LATISS/calib\"])\n",
    "butler = Butler('/repo/embargo', collections=[\"LATISS/raw/all\", \"u/cslage/sdf/latiss/defect_r_parallel_20230106\"])"
   ]
  },
  {
   "cell_type": "code",
   "execution_count": null,
   "metadata": {
    "execution": {
     "iopub.execute_input": "2023-01-06T15:02:45.189599Z",
     "iopub.status.busy": "2023-01-06T15:02:45.189291Z",
     "iopub.status.idle": "2023-01-06T15:02:45.640988Z",
     "shell.execute_reply": "2023-01-06T15:02:45.640320Z",
     "shell.execute_reply.started": "2023-01-06T15:02:45.189580Z"
    },
    "tags": []
   },
   "outputs": [],
   "source": [
    "expId=2022121200752\n",
    "defects = butler.get('defects', detector=0, exposure=expId)"
   ]
  },
  {
   "cell_type": "code",
   "execution_count": null,
   "metadata": {
    "execution": {
     "iopub.execute_input": "2023-01-06T15:02:48.860267Z",
     "iopub.status.busy": "2023-01-06T15:02:48.859944Z",
     "iopub.status.idle": "2023-01-06T15:02:50.904830Z",
     "shell.execute_reply": "2023-01-06T15:02:50.896032Z",
     "shell.execute_reply.started": "2023-01-06T15:02:48.860247Z"
    },
    "tags": []
   },
   "outputs": [],
   "source": [
    "plotDefectFile(defects)"
   ]
  },
  {
   "cell_type": "code",
   "execution_count": null,
   "metadata": {},
   "outputs": [],
   "source": []
  }
 ],
 "metadata": {
  "kernelspec": {
   "display_name": "LSST",
   "language": "python",
   "name": "lsst"
  },
  "language_info": {
   "codemirror_mode": {
    "name": "ipython",
    "version": 3
   },
   "file_extension": ".py",
   "mimetype": "text/x-python",
   "name": "python",
   "nbconvert_exporter": "python",
   "pygments_lexer": "ipython3",
   "version": "3.10.8"
  }
 },
 "nbformat": 4,
 "nbformat_minor": 4
}
