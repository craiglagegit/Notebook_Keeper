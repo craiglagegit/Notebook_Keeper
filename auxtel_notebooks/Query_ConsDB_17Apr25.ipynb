{
 "cells": [
  {
   "cell_type": "markdown",
   "metadata": {},
   "source": [
    "# Query ConsDB\n",
    "\n",
    "A basic notebook to learn about querying the ConsDb\n",
    "\n",
    "Craig Lage - 17-Apr-24"
   ]
  },
  {
   "cell_type": "code",
   "execution_count": null,
   "metadata": {
    "execution": {
     "iopub.execute_input": "2025-05-07T17:10:27.791905Z",
     "iopub.status.busy": "2025-05-07T17:10:27.791563Z",
     "iopub.status.idle": "2025-05-07T17:10:35.814233Z",
     "shell.execute_reply": "2025-05-07T17:10:35.813757Z",
     "shell.execute_reply.started": "2025-05-07T17:10:27.791879Z"
    },
    "tags": []
   },
   "outputs": [],
   "source": [
    "import numpy as np\n",
    "import matplotlib.pyplot as plt\n",
    "import astropy.io.fits as pf\n",
    "from astropy.time import Time, TimeDelta\n",
    "import pandas as pd\n",
    "import os\n",
    "os.environ[\"no_proxy\"] += \",.consdb\"\n",
    "from lsst.summit.utils import ConsDbClient\n",
    "from lsst.summit.utils.utils import computeCcdExposureId"
   ]
  },
  {
   "cell_type": "code",
   "execution_count": null,
   "metadata": {
    "execution": {
     "iopub.execute_input": "2025-05-07T17:10:35.815533Z",
     "iopub.status.busy": "2025-05-07T17:10:35.815022Z",
     "iopub.status.idle": "2025-05-07T17:10:35.826418Z",
     "shell.execute_reply": "2025-05-07T17:10:35.825965Z",
     "shell.execute_reply.started": "2025-05-07T17:10:35.815518Z"
    }
   },
   "outputs": [],
   "source": [
    "client = ConsDbClient('http://consdb-pq.consdb:8080/consdb')\n",
    "print(client.schema())  # list the instruments"
   ]
  },
  {
   "cell_type": "code",
   "execution_count": null,
   "metadata": {
    "execution": {
     "iopub.execute_input": "2025-05-07T17:10:35.827046Z",
     "iopub.status.busy": "2025-05-07T17:10:35.826909Z",
     "iopub.status.idle": "2025-05-07T17:10:35.835055Z",
     "shell.execute_reply": "2025-05-07T17:10:35.834614Z",
     "shell.execute_reply.started": "2025-05-07T17:10:35.827033Z"
    }
   },
   "outputs": [],
   "source": [
    "client.schema('lsstcam') # List tables for an instrument"
   ]
  },
  {
   "cell_type": "code",
   "execution_count": null,
   "metadata": {
    "execution": {
     "iopub.execute_input": "2025-05-07T17:10:35.835920Z",
     "iopub.status.busy": "2025-05-07T17:10:35.835780Z",
     "iopub.status.idle": "2025-05-07T17:10:35.842392Z",
     "shell.execute_reply": "2025-05-07T17:10:35.842027Z",
     "shell.execute_reply.started": "2025-05-07T17:10:35.835906Z"
    }
   },
   "outputs": [],
   "source": [
    "client.schema('lsstcam', 'exposure_quicklook') # List values in a table"
   ]
  },
  {
   "cell_type": "code",
   "execution_count": null,
   "metadata": {
    "execution": {
     "iopub.execute_input": "2025-05-07T17:10:47.915806Z",
     "iopub.status.busy": "2025-05-07T17:10:47.915446Z",
     "iopub.status.idle": "2025-05-07T17:10:47.928466Z",
     "shell.execute_reply": "2025-05-07T17:10:47.927984Z",
     "shell.execute_reply.started": "2025-05-07T17:10:47.915779Z"
    }
   },
   "outputs": [],
   "source": [
    "# Get a particular value from a particular visit\n",
    "query = 'SELECT * from cdb_lsstcam.exposure_quicklook '\n",
    "query += 'where day_obs = 20250506'\n",
    "data = client.query(query)\n",
    "print(len(data))\n",
    "data"
   ]
  },
  {
   "cell_type": "code",
   "execution_count": null,
   "metadata": {
    "execution": {
     "iopub.execute_input": "2025-05-07T17:11:15.108329Z",
     "iopub.status.busy": "2025-05-07T17:11:15.107577Z",
     "iopub.status.idle": "2025-05-07T17:11:15.207139Z",
     "shell.execute_reply": "2025-05-07T17:11:15.206634Z",
     "shell.execute_reply.started": "2025-05-07T17:11:15.108301Z"
    }
   },
   "outputs": [],
   "source": [
    "# Get all of the values for a particular table and visit\n",
    "data = client.query('SELECT * from cdb_latiss.exposure_quicklook')\n",
    "for name in data.colnames:\n",
    "    print(name, data[name].value[0])"
   ]
  },
  {
   "cell_type": "code",
   "execution_count": null,
   "metadata": {
    "execution": {
     "iopub.execute_input": "2025-04-29T11:27:23.677930Z",
     "iopub.status.busy": "2025-04-29T11:27:23.677607Z",
     "iopub.status.idle": "2025-04-29T11:27:23.689539Z",
     "shell.execute_reply": "2025-04-29T11:27:23.689093Z",
     "shell.execute_reply.started": "2025-04-29T11:27:23.677903Z"
    }
   },
   "outputs": [],
   "source": [
    "data = client.query('SELECT * from cdb_lsstcam.exposure where exposure_id = 2025042700545')\n",
    "for name in data.colnames:\n",
    "    print(name, data[name].value[0])\n"
   ]
  },
  {
   "cell_type": "code",
   "execution_count": null,
   "metadata": {},
   "outputs": [],
   "source": [
    "ccdvisit_id = computeCcdExposureId('latiss', 2024053000592, 0)\n",
    "print(ccdvisit_id)\n",
    "data = client.query(f'SELECT * from cdb_latiss.ccdvisit1_quicklook where ccdvisit_id = {ccdvisit_id}')\n",
    "for name in data.colnames:\n",
    "    print(name, data[name].value[0])"
   ]
  },
  {
   "cell_type": "code",
   "execution_count": null,
   "metadata": {},
   "outputs": [],
   "source": [
    "# I guess this just isn't populated yet?\n",
    "data = client.query('SELECT ccdvisit_id from cdb_latiss.ccdvisit1_quicklook where ccdvisit_id > 1')\n",
    "data"
   ]
  },
  {
   "cell_type": "code",
   "execution_count": null,
   "metadata": {
    "execution": {
     "iopub.execute_input": "2025-04-17T23:18:53.653505Z",
     "iopub.status.busy": "2025-04-17T23:18:53.653191Z",
     "iopub.status.idle": "2025-04-17T23:18:53.662442Z",
     "shell.execute_reply": "2025-04-17T23:18:53.662040Z",
     "shell.execute_reply.started": "2025-04-17T23:18:53.653488Z"
    }
   },
   "outputs": [],
   "source": [
    "# I guess this just isn't populated yet?\n",
    "data = client.query('SELECT visit_id from cdb_latiss.visit1_quicklook where visit_id > 1')\n",
    "data"
   ]
  },
  {
   "cell_type": "code",
   "execution_count": null,
   "metadata": {},
   "outputs": [],
   "source": [
    "data = client.query('SELECT obs_start from cdb_lsstcomcamsim.exposure where day_obs = 20240621 and seq_num = 2')\n",
    "data"
   ]
  },
  {
   "cell_type": "code",
   "execution_count": null,
   "metadata": {},
   "outputs": [],
   "source": [
    "data = client.query('SELECT seq_num, obs_start, azimuth, zenith_distance from cdb_lsstcomcamsim.exposure where (seq_num > 0 and seq_num < 10 and day_obs = 20240621)')\n",
    "data"
   ]
  },
  {
   "cell_type": "code",
   "execution_count": null,
   "metadata": {
    "execution": {
     "iopub.execute_input": "2024-09-10T12:02:52.499433Z",
     "iopub.status.busy": "2024-09-10T12:02:52.499212Z",
     "iopub.status.idle": "2024-09-10T12:02:52.511278Z",
     "shell.execute_reply": "2024-09-10T12:02:52.510959Z",
     "shell.execute_reply.started": "2024-09-10T12:02:52.499418Z"
    },
    "jupyter": {
     "outputs_hidden": true
    }
   },
   "outputs": [],
   "source": [
    "data = client.query('SELECT * from cdb_lsstcomcamsim.exposure where exposure_id = 7024062700764')\n",
    "for name in data.colnames:\n",
    "    print(name, data[name].value[0])\n"
   ]
  },
  {
   "cell_type": "code",
   "execution_count": null,
   "metadata": {},
   "outputs": [],
   "source": []
  }
 ],
 "metadata": {
  "kernelspec": {
   "display_name": "LSST",
   "language": "python",
   "name": "lsst"
  },
  "language_info": {
   "codemirror_mode": {
    "name": "ipython",
    "version": 3
   },
   "file_extension": ".py",
   "mimetype": "text/x-python",
   "name": "python",
   "nbconvert_exporter": "python",
   "pygments_lexer": "ipython3",
   "version": "3.12.10"
  }
 },
 "nbformat": 4,
 "nbformat_minor": 4
}
