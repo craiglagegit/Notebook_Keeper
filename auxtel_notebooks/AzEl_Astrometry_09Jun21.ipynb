{
 "cells": [
  {
   "cell_type": "markdown",
   "metadata": {},
   "source": [
    "## AuxTel Astrometry - 14Jun-21\n",
    "\n",
    "In this notebook, investigate astrometry from 09-Jun-21"
   ]
  },
  {
   "cell_type": "code",
   "execution_count": null,
   "metadata": {},
   "outputs": [],
   "source": [
    "import sys, time, os, asyncio, glob\n",
    "\n",
    "from datetime import datetime\n",
    "import numpy as np\n",
    "import matplotlib.pyplot as plt\n",
    "from matplotlib.colors import LogNorm\n",
    "import pickle as pkl\n",
    "import pandas as pd\n",
    "import astropy.io.fits as pf\n",
    "from astropy.time import Time, TimeDelta\n",
    "from astropy.coordinates import AltAz, ICRS, EarthLocation, Angle, FK5\n",
    "import astropy.units as u\n",
    "from astropy.table import Table\n",
    "from astroquery.astrometry_net import AstrometryNet\n",
    "\n",
    "from lsst.daf.butler import Butler as gen3Butler\n",
    "from lsst.daf.persistence import Butler as gen2Butler\n",
    "from lsst_efd_client import EfdClient\n",
    "from lsst.pipe.tasks.characterizeImage import CharacterizeImageTask, CharacterizeImageConfig"
   ]
  },
  {
   "cell_type": "code",
   "execution_count": null,
   "metadata": {},
   "outputs": [],
   "source": [
    "# Set Cerro Pachon location\n",
    "location = EarthLocation.from_geodetic(lon=-70.749417*u.deg,\n",
    "                                       lat=-30.244639*u.deg,\n",
    "                                       height=2663.0*u.m)\n"
   ]
  },
  {
   "cell_type": "code",
   "execution_count": null,
   "metadata": {},
   "outputs": [],
   "source": [
    "# Now get the image data\n",
    "\n",
    "expId = 2021060900352\n",
    "# Get the raw quickLook data.  Only Gen2 works for now\n",
    "REPO_DIR = '/project/shared/auxTel/rerun/quickLook'\n",
    "\n",
    "gen2_butler = gen2Butler(REPO_DIR)\n",
    "charConfig = CharacterizeImageConfig()\n",
    "charConfig.doMeasurePsf = False#True\n",
    "charConfig.doApCorr = False\n",
    "charConfig.doDeblend = False\n",
    "charConfig.repair.doCosmicRay = True\n",
    "charConfig.repair.doInterpolate = True   \n",
    "charConfig.detection.minPixels = 500\n",
    "charTask = CharacterizeImageTask(config=charConfig)\n",
    "\n",
    "\n",
    "exp = gen2_butler.get('quickLookExp', detector=0, expId=expId)\n",
    "mData = exp.getMetadata()\n",
    "charResult = charTask.run(exp)\n",
    "sourceCatalog = charResult.sourceCat\n",
    "maxFlux = np.nanmax(sourceCatalog['base_CircularApertureFlux_3_0_instFlux'])\n",
    "selectBrightestSource = sourceCatalog['base_CircularApertureFlux_3_0_instFlux'] > maxFlux * 0.99\n",
    "brightestSource = sourceCatalog.subset(selectBrightestSource)\n",
    "brightestCentroid = (brightestSource['base_SdssCentroid_x'][0], \\\n",
    "                     brightestSource['base_SdssCentroid_y'][0])\n",
    "brightCatalog = sourceCatalog.subset(sourceCatalog['base_CircularApertureFlux_3_0_instFlux'] > maxFlux * 0.001)\n",
    "print(f\"expId:{expId}. Found {len(sourceCatalog)} sources, {len(brightCatalog)} bright sources\")\n",
    "print(f\"Brightest centroid at {brightestCentroid}\")\n"
   ]
  },
  {
   "cell_type": "code",
   "execution_count": null,
   "metadata": {},
   "outputs": [],
   "source": [
    "cat = brightCatalog"
   ]
  },
  {
   "cell_type": "code",
   "execution_count": null,
   "metadata": {},
   "outputs": [],
   "source": [
    "Ncenter = (700, 900)\n",
    "Nlength = 500.0\n",
    "NcenterAzEl = (3200, 700)\n",
    "Nlabel = 650.0\n",
    "yShift = 150.0\n",
    "\n",
    "plt.figure(figsize=(16,16))\n",
    "arr = exp.image.array\n",
    "arr = np.clip(arr, 1, 100000) # This image has some negative values, and this removes them\n",
    "img = plt.imshow(arr, norm=LogNorm(vmin=1, vmax=1000),  interpolation='Nearest', cmap='gray')\n",
    "\n",
    "plt.scatter(cat['base_SdssCentroid_x'],cat['base_SdssCentroid_y']\\\n",
    "            ,color='red', marker='x')\n",
    "rotpa = Angle(mData['ROTPA']*u.deg)\n",
    "plt.arrow(Ncenter[0],Ncenter[1], -Nlength*np.sin(rotpa), Nlength*np.cos(rotpa),\\\n",
    "    color='green', width = 20)\n",
    "plt.text(Ncenter[0]-Nlabel*np.sin(rotpa),Ncenter[1]+Nlabel*np.cos(rotpa), 'N', \\\n",
    "    color='green', fontsize=12, weight='bold')\n",
    "plt.arrow(Ncenter[0],Ncenter[1], Nlength*np.cos(rotpa), Nlength*np.sin(rotpa),\\\n",
    "    color='green', width = 20)\n",
    "plt.text(Ncenter[0]+Nlabel*np.cos(rotpa),Ncenter[1]+Nlabel*np.sin(rotpa), 'E', \\\n",
    "    color='green', fontsize=12, weight='bold')\n",
    "\n",
    "el = Angle(mData['ELSTART'] * u.deg)\n",
    "az = Angle(mData['AZSTART'] * u.deg)\n",
    "dec = Angle(mData['DECSTART'] * u.deg)\n",
    "sinTheta =  np.cos(location.lat) / np.cos(dec) * np.sin(az)\n",
    "theta = Angle(np.arcsin(sinTheta))\n",
    "rotAzEl = rotpa - theta - Angle(90.0 * u.deg)   \n",
    "print(theta.deg, rotpa.deg, rotAzEl.deg)\n",
    "plt.arrow(NcenterAzEl[0],NcenterAzEl[1], -Nlength*np.sin(rotAzEl), Nlength*np.cos(rotAzEl),\\\n",
    "    color='cyan', width = 20)\n",
    "plt.text(NcenterAzEl[0]-Nlabel*np.sin(rotAzEl),NcenterAzEl[1]+Nlabel*np.cos(rotAzEl), 'EL', \\\n",
    "    color='cyan', fontsize=12, weight='bold')\n",
    "plt.arrow(NcenterAzEl[0],NcenterAzEl[1], Nlength*np.cos(rotAzEl), Nlength*np.sin(rotAzEl),\\\n",
    "    color='cyan', width = 20)\n",
    "plt.text(NcenterAzEl[0]+Nlabel*np.cos(rotAzEl),NcenterAzEl[1]+Nlabel*np.sin(rotAzEl), 'AZ', \\\n",
    "    color='cyan', fontsize=12, weight='bold')\n",
    "\n",
    "\n",
    "plt.ylim(0,4000)\n",
    "#plt.savefig('/project/cslage/AuxTel/offsets/2021060900352_ZeroLL.png')"
   ]
  },
  {
   "cell_type": "code",
   "execution_count": null,
   "metadata": {},
   "outputs": [],
   "source": [
    "ast = AstrometryNet()\n",
    "ast.api_key = 'xxawwhvleirxcswx'\n"
   ]
  },
  {
   "cell_type": "code",
   "execution_count": null,
   "metadata": {},
   "outputs": [],
   "source": [
    "AstrometryNet.show_allowed_settings()"
   ]
  },
  {
   "cell_type": "code",
   "execution_count": null,
   "metadata": {},
   "outputs": [],
   "source": [
    "sources = sourceCatalog.asAstropy()\n",
    "sources.keep_columns(['base_SdssCentroid_x', 'base_SdssCentroid_y', 'base_CircularApertureFlux_3_0_instFlux'])\n",
    "sources.sort('base_CircularApertureFlux_3_0_instFlux', reverse=True)\n",
    "# Keep just the 17 bright sources\n",
    "#sources.remove_rows(slice(17, 53, 1))\n",
    "    \n",
    "image_width = 4072\n",
    "image_height = 4000\n",
    "scale_units = 'arcsecperpix'\n",
    "scale_type='ev' # ev means submit estimate and % error\n",
    "scale_est = 0.095\n",
    "scale_err = 2.0\n",
    "center_ra = mData['RA']\n",
    "center_dec = mData['DEC']\n",
    "radius = 0.5\n",
    "wcs_header = ast.solve_from_source_list(sources['base_SdssCentroid_x'], sources['base_SdssCentroid_y'],\n",
    "                                        image_width, image_height, scale_units=scale_units,\n",
    "                                        scale_type=scale_type, scale_est=scale_est, scale_err=scale_err,\n",
    "                                        center_ra=center_ra, center_dec=center_dec, radius=radius,\n",
    "                                        solve_timeout=240)"
   ]
  },
  {
   "cell_type": "code",
   "execution_count": null,
   "metadata": {},
   "outputs": [],
   "source": [
    "mData['DATE']"
   ]
  },
  {
   "cell_type": "code",
   "execution_count": null,
   "metadata": {},
   "outputs": [],
   "source": [
    "mData['OBJECT']"
   ]
  },
  {
   "cell_type": "code",
   "execution_count": null,
   "metadata": {},
   "outputs": [],
   "source": []
  }
 ],
 "metadata": {
  "kernelspec": {
   "display_name": "LSST",
   "language": "python",
   "name": "lsst"
  },
  "language_info": {
   "codemirror_mode": {
    "name": "ipython",
    "version": 3
   },
   "file_extension": ".py",
   "mimetype": "text/x-python",
   "name": "python",
   "nbconvert_exporter": "python",
   "pygments_lexer": "ipython3",
   "version": "3.8.8"
  }
 },
 "nbformat": 4,
 "nbformat_minor": 4
}
