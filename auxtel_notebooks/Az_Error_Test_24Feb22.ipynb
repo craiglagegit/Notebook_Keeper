{
 "cells": [
  {
   "cell_type": "markdown",
   "id": "153412e6",
   "metadata": {},
   "source": [
    "# AuxTel Plot tracking - 22-Feb-22\n",
    "\n",
    "In this notebook, investigate impact of fan on mount tracking."
   ]
  },
  {
   "cell_type": "code",
   "execution_count": null,
   "id": "fcd0a71e",
   "metadata": {},
   "outputs": [],
   "source": [
    "import sys, time, os, asyncio\n",
    "\n",
    "from datetime import datetime\n",
    "import numpy as np\n",
    "import matplotlib.pyplot as plt\n",
    "%matplotlib widget\n",
    "import pandas as pd\n",
    "from astropy.time import Time, TimeDelta\n",
    "from lsst_efd_client import EfdClient"
   ]
  },
  {
   "cell_type": "code",
   "execution_count": null,
   "id": "aed2b09e",
   "metadata": {},
   "outputs": [],
   "source": [
    "# Get EFD client\n",
    "client = EfdClient('summit_efd')"
   ]
  },
  {
   "cell_type": "code",
   "execution_count": null,
   "id": "bbce6ad9-b5de-4683-84a2-f68eef24f28c",
   "metadata": {},
   "outputs": [],
   "source": [
    "# Blow up the first two minutes to look at the periodic error\n",
    "tstart = Time(\"2022-02-24T17:40:00\", scale='utc')\n",
    "tend = Time(\"2022-02-24T17:42:00\", scale='utc')\n",
    "az = await client.select_packed_time_series(\"lsst.sal.ATMCS.mount_AzEl_Encoders\", \"azimuthCalculatedAngle\",  tstart, tend)\n",
    "el = await client.select_packed_time_series(\"lsst.sal.ATMCS.mount_AzEl_Encoders\", \"elevationCalculatedAngle\",  tstart, tend)"
   ]
  },
  {
   "cell_type": "code",
   "execution_count": null,
   "id": "93b8f3b8-84bf-4048-8289-ba7af6c25221",
   "metadata": {},
   "outputs": [],
   "source": [
    "# Calculate the tracking errors\n",
    "az_vals = np.array(az.values.tolist())[:,0]\n",
    "el_vals = np.array(el.values.tolist())[:,0]\n",
    "times = np.array(az.values.tolist())[:,1]\n",
    "times = times - times [0]\n",
    "\n",
    "# Fit with a quartic\n",
    "az_fit = np.polyfit(times, az_vals, 4)\n",
    "el_fit = np.polyfit(times, el_vals, 4)\n",
    "\n",
    "az_model = az_fit[0] * times * times * times * times + az_fit[1] * times * times * times \\\n",
    "    + az_fit[2] * times *times + az_fit[3] * times + az_fit[4]\n",
    "el_model = el_fit[0] * times * times * times * times + el_fit[1] * times * times * times \\\n",
    "    + el_fit[2] * times * times + el_fit[3] * times + el_fit[4]\n",
    "\n",
    "# Errors in arcseconds\n",
    "az_error = (az_vals - az_model) * 3600\n",
    "el_error = (el_vals - el_model) * 3600\n",
    "\n",
    "# Calculate RMS\n",
    "az_rms = np.sqrt(np.mean(az_error * az_error))\n",
    "el_rms = np.sqrt(np.mean(el_error * el_error))\n"
   ]
  },
  {
   "cell_type": "code",
   "execution_count": null,
   "id": "835c8178-7c5f-49f7-b7d5-238149e98505",
   "metadata": {},
   "outputs": [],
   "source": [
    "# Plot it\n",
    "fig = plt.figure(figsize = (8,8))\n",
    "plt.subplots_adjust(wspace=0.5, hspace=0.5)\n",
    "plt.suptitle(f\"Mount Tracking Az Error 20220224\\nStarting Az=90, Starting El=45\", fontsize = 18)\n",
    "plt.subplot(2,2,1)\n",
    "ax1 = az['azimuthCalculatedAngle'].plot(legend=True, color='red')\n",
    "ax1.set_ylabel(\"Degrees\")\n",
    "plt.subplot(2,2,2)\n",
    "ax3 = el['elevationCalculatedAngle'].plot(legend=True, color='green')\n",
    "ax3.set_ylabel(\"Degrees\")\n",
    "\n",
    "plt.subplot(2,2,3)\n",
    "plt.plot(times, az_error, color='red')\n",
    "plt.title(f\"Azimuth RMS error = {az_rms:.2f} arcseconds\")\n",
    "plt.ylim(-10.0,10.0)\n",
    "plt.xticks([])\n",
    "plt.ylabel(\"ArcSeconds\")\n",
    "plt.subplot(2,2,4)\n",
    "plt.plot(times, el_error, color='green')\n",
    "plt.title(f\"Elevation RMS error = {el_rms:.2f} arcseconds\")\n",
    "plt.ylim(-10.0,10.0)\n",
    "plt.xticks([])\n",
    "plt.ylabel(\"ArcSeconds\")\n",
    "plt.savefig(f\"/project/cslage/AuxTel/mount_graphs/Az_Error_Debug_1_24Feb22.pdf\")\n"
   ]
  },
  {
   "cell_type": "code",
   "execution_count": null,
   "id": "9aee71a2-986f-4a20-b591-2fa1ba3b9ae3",
   "metadata": {},
   "outputs": [],
   "source": [
    "# Blow up the first two minutes to look at the periodic error\n",
    "tstart = Time(\"2022-02-24T17:48:00\", scale='utc')\n",
    "tend = Time(\"2022-02-24T17:50:00\", scale='utc')\n",
    "az = await client.select_packed_time_series(\"lsst.sal.ATMCS.mount_AzEl_Encoders\", \"azimuthCalculatedAngle\",  tstart, tend)\n",
    "el = await client.select_packed_time_series(\"lsst.sal.ATMCS.mount_AzEl_Encoders\", \"elevationCalculatedAngle\",  tstart, tend)"
   ]
  },
  {
   "cell_type": "code",
   "execution_count": null,
   "id": "a93f785e-ca61-4469-b2d1-6e777474f2e9",
   "metadata": {},
   "outputs": [],
   "source": [
    "# Calculate the tracking errors\n",
    "az_vals = np.array(az.values.tolist())[:,0]\n",
    "el_vals = np.array(el.values.tolist())[:,0]\n",
    "times = np.array(az.values.tolist())[:,1]\n",
    "times = times - times [0]\n",
    "\n",
    "# Fit with a quartic\n",
    "az_fit = np.polyfit(times, az_vals, 4)\n",
    "el_fit = np.polyfit(times, el_vals, 4)\n",
    "\n",
    "az_model = az_fit[0] * times * times * times * times + az_fit[1] * times * times * times \\\n",
    "    + az_fit[2] * times *times + az_fit[3] * times + az_fit[4]\n",
    "el_model = el_fit[0] * times * times * times * times + el_fit[1] * times * times * times \\\n",
    "    + el_fit[2] * times * times + el_fit[3] * times + el_fit[4]\n",
    "\n",
    "# Errors in arcseconds\n",
    "az_error = (az_vals - az_model) * 3600\n",
    "el_error = (el_vals - el_model) * 3600\n",
    "\n",
    "# Calculate RMS\n",
    "az_rms = np.sqrt(np.mean(az_error * az_error))\n",
    "el_rms = np.sqrt(np.mean(el_error * el_error))\n"
   ]
  },
  {
   "cell_type": "code",
   "execution_count": null,
   "id": "80392dd2-223c-4f2d-a5ee-b772d741fff2",
   "metadata": {},
   "outputs": [],
   "source": [
    "# Plot it\n",
    "fig = plt.figure(figsize = (8,8))\n",
    "plt.subplots_adjust(wspace=0.5, hspace=0.5)\n",
    "plt.suptitle(f\"Mount Tracking Az Error 20220224\\nStarting Az=0, Starting El=80\", fontsize = 18)\n",
    "plt.subplot(2,2,1)\n",
    "ax1 = az['azimuthCalculatedAngle'].plot(legend=True, color='red')\n",
    "ax1.set_ylabel(\"Degrees\")\n",
    "plt.subplot(2,2,2)\n",
    "ax3 = el['elevationCalculatedAngle'].plot(legend=True, color='green')\n",
    "ax3.set_ylabel(\"Degrees\")\n",
    "\n",
    "plt.subplot(2,2,3)\n",
    "plt.plot(times, az_error, color='red')\n",
    "plt.title(f\"Azimuth RMS error = {az_rms:.2f} arcseconds\")\n",
    "plt.ylim(-10.0,10.0)\n",
    "plt.xticks([])\n",
    "plt.ylabel(\"ArcSeconds\")\n",
    "plt.subplot(2,2,4)\n",
    "plt.plot(times, el_error, color='green')\n",
    "plt.title(f\"Elevation RMS error = {el_rms:.2f} arcseconds\")\n",
    "plt.ylim(-10.0,10.0)\n",
    "plt.xticks([])\n",
    "plt.ylabel(\"ArcSeconds\")\n",
    "plt.savefig(f\"/project/cslage/AuxTel/mount_graphs/Az_Error_Debug_2_24Feb22.pdf\")\n"
   ]
  },
  {
   "cell_type": "code",
   "execution_count": null,
   "id": "0d54ad9a-1ced-4f2d-94f7-962c9ed7827b",
   "metadata": {},
   "outputs": [],
   "source": []
  }
 ],
 "metadata": {
  "kernelspec": {
   "display_name": "LSST",
   "language": "python",
   "name": "lsst"
  },
  "language_info": {
   "codemirror_mode": {
    "name": "ipython",
    "version": 3
   },
   "file_extension": ".py",
   "mimetype": "text/x-python",
   "name": "python",
   "nbconvert_exporter": "python",
   "pygments_lexer": "ipython3",
   "version": "3.8.8"
  }
 },
 "nbformat": 4,
 "nbformat_minor": 5
}
