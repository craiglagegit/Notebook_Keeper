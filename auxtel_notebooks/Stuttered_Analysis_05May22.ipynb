{
 "cells": [
  {
   "cell_type": "markdown",
   "metadata": {},
   "source": [
    "## Stuttered image analysis\n",
    "\n",
    "Craig Lage 10-May-22"
   ]
  },
  {
   "cell_type": "code",
   "execution_count": null,
   "metadata": {},
   "outputs": [],
   "source": [
    "import sys, time, os, asyncio, glob\n",
    "from datetime import datetime\n",
    "import numpy as np\n",
    "import matplotlib.pyplot as plt\n",
    "from matplotlib.colors import LogNorm\n",
    "from astropy.time import Time, TimeDelta\n",
    "from astropy.coordinates import AltAz, ICRS, EarthLocation, Angle, FK5, SkyCoord\n",
    "import astropy.units as u\n",
    "from lsst.obs.lsst.translators.latiss import AUXTEL_LOCATION\n",
    "from lsst.daf.butler import Butler"
   ]
  },
  {
   "cell_type": "code",
   "execution_count": null,
   "metadata": {},
   "outputs": [],
   "source": [
    "butler = Butler('/repo/main', collections=\"LATISS/raw/all\")"
   ]
  },
  {
   "cell_type": "code",
   "execution_count": null,
   "metadata": {},
   "outputs": [],
   "source": [
    "# Now get the image data and the metadata\n",
    "\n",
    "expId = 2022050500699\n",
    "exp = butler.get('raw', detector=0, exposure=expId)\n",
    "mData = exp.getMetadata()\n",
    "date_beg = Time(mData['DATE-BEG'], format='isot', scale='tai')\n",
    "time = date_beg.utc\n",
    "print(expId, time)"
   ]
  },
  {
   "cell_type": "code",
   "execution_count": null,
   "metadata": {},
   "outputs": [],
   "source": [
    "plt.figure(figsize=(8,8))\n",
    "arr = exp.image.array\n",
    "img = plt.imshow(arr, norm=LogNorm(vmin=10000, vmax=25000),  interpolation='Nearest', cmap='gray')\n"
   ]
  },
  {
   "cell_type": "code",
   "execution_count": null,
   "metadata": {},
   "outputs": [],
   "source": [
    "# Manually find a good bounding box\n",
    "shift = 50\n",
    "xmin = 2655\n",
    "yfirst = 1995\n",
    "yfinish = yfirst - 38 * shift\n",
    "ystart = yfinish - shift\n",
    "bgfirst = 1960\n",
    "bgwidth = 30\n",
    "bgstart = bgfirst - 38 * shift\n",
    "bgfinish = bgstart + bgwidth\n",
    "bgxmin = 2550\n",
    "bgxmax = 3000\n",
    "\n",
    "\n",
    "plt.figure(figsize=(4,4))\n",
    "arr = exp.image.array[ystart:yfinish, xmin:xmin+shift]\n",
    "bg = exp.image.array[bgstart:bgfinish, bgxmin:bgxmax]\n",
    "background = np.nanmedian(bg)\n",
    "print(f\"Background = {background}\")\n",
    "arr = arr - background\n",
    "print(f\"Min = {arr.min()}, Max = {arr.max()}\")\n",
    "arr = np.clip(arr, 0.1, 200000)\n",
    "\n",
    "img = plt.imshow(arr,   interpolation='Nearest', cmap='gray')\n",
    "plt.colorbar()"
   ]
  },
  {
   "cell_type": "code",
   "execution_count": null,
   "metadata": {},
   "outputs": [],
   "source": [
    "# Now run the whole sequence\n",
    "shift = 50\n",
    "xmin = 2655\n",
    "yfirst = 1995\n",
    "bgfirst = 1960\n",
    "bgwidth = 30\n",
    "bgxmin = 2550\n",
    "bgxmax = 3000\n",
    "\n",
    "\n",
    "plt.figure(figsize=(11, 8.5))\n",
    "plt.suptitle(f\"Stuttered Sequence - {expId}\", fontsize = 18)\n",
    "xcentroid = []\n",
    "ycentroid = []\n",
    "for i in range(39):\n",
    "    yfinish = yfirst - i * shift\n",
    "    ystart = yfinish - shift\n",
    "    bgstart = bgfirst - i * shift\n",
    "    bgfinish = bgstart + bgwidth\n",
    "    arr = exp.image.array[ystart:yfinish, xmin:xmin+shift]\n",
    "    bg = exp.image.array[bgstart:bgfinish, bgxmin:bgxmax]\n",
    "    background = np.nanmedian(bg)\n",
    "    #print(background)\n",
    "    arr = arr - background\n",
    "    arr = np.clip(arr, 0.1, 200000)\n",
    "                           \n",
    "    xsum = 0\n",
    "    ysum = 0\n",
    "    imagesum = 0\n",
    "    for ii in range(50):\n",
    "        for jj in range(50):\n",
    "            imagesum += arr[ii,jj]\n",
    "            xsum += ii * arr[ii,jj]\n",
    "            ysum += jj * arr[ii,jj]\n",
    "    xsum /= imagesum\n",
    "    ysum /= imagesum\n",
    "    xcentroid.append(xsum)\n",
    "    ycentroid.append(ysum)\n",
    "\n",
    "    nx = i % 8\n",
    "    ny = int(i / 8)\n",
    "    ax = plt.axes([0.05 + 0.12 * nx, 0.80 - 0.14 * ny, 0.118, 0.118], aspect = 1)\n",
    "    ax.imshow(arr,   interpolation='Nearest', cmap='gray')\n",
    "    #plotcounter += 1\n",
    "    ax.set_xticks([])\n",
    "    ax.set_yticks([])\n",
    "plt.savefig(f\"/project/cslage/AuxTel/stuttered/Stuttered_BG_{expId}.pdf\")\n",
    "    "
   ]
  },
  {
   "cell_type": "code",
   "execution_count": null,
   "metadata": {},
   "outputs": [],
   "source": [
    "plt.subplots_adjust(wspace=0.5)\n",
    "plt.subplot(1,2,1)\n",
    "plt.plot(xcentroid)\n",
    "plt.xlabel(\"Time(sec)\")\n",
    "plt.ylabel(\"XCentroid(pixels)\")\n",
    "plt.subplot(1,2,2)\n",
    "plt.plot(ycentroid)\n",
    "plt.xlabel(\"Time(sec)\")\n",
    "plt.ylabel(\"YCentroid(pixels)\")\n",
    "\n",
    "plt.savefig(f\"/project/cslage/AuxTel/stuttered/Stuttered_Centroids_BG_{expId}.pdf\")\n"
   ]
  },
  {
   "cell_type": "code",
   "execution_count": null,
   "metadata": {},
   "outputs": [],
   "source": [
    "exp.getWcs().getPixelOrigin()"
   ]
  },
  {
   "cell_type": "code",
   "execution_count": null,
   "metadata": {},
   "outputs": [],
   "source": [
    "exp.getWcs?"
   ]
  },
  {
   "cell_type": "code",
   "execution_count": null,
   "metadata": {},
   "outputs": [],
   "source": [
    "import lsst.afw.geom as geom"
   ]
  },
  {
   "cell_type": "code",
   "execution_count": null,
   "metadata": {},
   "outputs": [],
   "source": [
    "exp.getWcs?"
   ]
  },
  {
   "cell_type": "code",
   "execution_count": null,
   "metadata": {},
   "outputs": [],
   "source": []
  }
 ],
 "metadata": {
  "kernelspec": {
   "display_name": "LSST",
   "language": "python",
   "name": "lsst"
  },
  "language_info": {
   "codemirror_mode": {
    "name": "ipython",
    "version": 3
   },
   "file_extension": ".py",
   "mimetype": "text/x-python",
   "name": "python",
   "nbconvert_exporter": "python",
   "pygments_lexer": "ipython3",
   "version": "3.10.5"
  }
 },
 "nbformat": 4,
 "nbformat_minor": 4
}
