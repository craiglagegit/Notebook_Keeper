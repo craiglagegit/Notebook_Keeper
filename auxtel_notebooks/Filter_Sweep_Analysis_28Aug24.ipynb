{
 "cells": [
  {
   "cell_type": "markdown",
   "id": "e8cc3a14-f377-44f4-ab4c-97c9c3047697",
   "metadata": {},
   "source": [
    "# Analyzing monochromator QE sweeps.\n",
    "Craig Lage 28-Aug-24"
   ]
  },
  {
   "cell_type": "code",
   "execution_count": null,
   "id": "a148b369-8943-4861-a51e-9cbeea70feb3",
   "metadata": {
    "execution": {
     "iopub.execute_input": "2024-08-29T16:03:20.934356Z",
     "iopub.status.busy": "2024-08-29T16:03:20.934238Z",
     "iopub.status.idle": "2024-08-29T16:03:26.636571Z",
     "shell.execute_reply": "2024-08-29T16:03:26.636088Z",
     "shell.execute_reply.started": "2024-08-29T16:03:20.934344Z"
    },
    "tags": []
   },
   "outputs": [],
   "source": [
    "import numpy as np\n",
    "from matplotlib import pyplot as plt\n",
    "import json \n",
    "from astropy.time import Time, TimeDelta\n",
    "from lsst.geom import Point2D\n",
    "from lsst.daf.butler import Butler\n",
    "from lsst_efd_client import EfdClient\n",
    "from lsst.summit.utils import BestEffortIsr\n",
    "from lsst.resources import ResourcePath\n",
    "from lsst.summit.utils import quickSmooth\n",
    "%matplotlib inline"
   ]
  },
  {
   "cell_type": "code",
   "execution_count": null,
   "id": "558e3838-4aea-48e2-9629-5b1f60b2fbaf",
   "metadata": {
    "execution": {
     "iopub.execute_input": "2024-08-29T16:03:27.748234Z",
     "iopub.status.busy": "2024-08-29T16:03:27.748110Z",
     "iopub.status.idle": "2024-08-29T16:03:28.791881Z",
     "shell.execute_reply": "2024-08-29T16:03:28.791435Z",
     "shell.execute_reply.started": "2024-08-29T16:03:27.748223Z"
    },
    "tags": []
   },
   "outputs": [],
   "source": [
    "butler = Butler('/repo/embargo', collections=[\"LATISS/raw/all\", \"LATISS/calib\", \"LATISS/calib/unbounded\"])\n",
    "best_effort_isr = BestEffortIsr(embargo=True)\n",
    "best_effort_isr.doWrite = False  # Don't write to butler database\n",
    "\n",
    "client = EfdClient('usdf_efd')"
   ]
  },
  {
   "cell_type": "markdown",
   "id": "f848189b-0c44-4f2e-aac9-a6cc7adde19e",
   "metadata": {},
   "source": [
    "# Get the lfa summary files"
   ]
  },
  {
   "cell_type": "code",
   "execution_count": null,
   "id": "cb5339b4-3851-4a04-b1ed-42b54e57479e",
   "metadata": {
    "execution": {
     "iopub.execute_input": "2024-08-29T16:03:28.799881Z",
     "iopub.status.busy": "2024-08-29T16:03:28.799744Z",
     "iopub.status.idle": "2024-08-29T16:03:28.822190Z",
     "shell.execute_reply": "2024-08-29T16:03:28.821827Z",
     "shell.execute_reply.started": "2024-08-29T16:03:28.799869Z"
    }
   },
   "outputs": [],
   "source": [
    "start = Time(\"2024-08-27T18:00:00\", scale='utc')\n",
    "end = Time(\"2024-08-28T04:00:00\", scale='utc')\n",
    "\n",
    "lfas = await client.select_time_series('lsst.sal.Script.logevent_largeFileObjectAvailable', \\\n",
    "                                    ['id', 'url'],  start, end)\n",
    "filenames = []\n",
    "for i in range(len(lfas)):\n",
    "    if lfas.iloc[i]['id'].split('_')[0] == 'BL294': # This block is for filter sweeps\n",
    "        url = lfas.iloc[i]['url']\n",
    "        filename = url.replace('https://s3.cp.lsst.org/', 's3://rubin:') # Change from summit to USDF\n",
    "        filenames.append(filename)\n",
    "filenames    "
   ]
  },
  {
   "cell_type": "markdown",
   "id": "2b184748-ad6c-4acf-97fb-4cd314a52dc6",
   "metadata": {
    "execution": {
     "iopub.execute_input": "2023-12-19T18:36:17.162132Z",
     "iopub.status.busy": "2023-12-19T18:36:17.161941Z",
     "iopub.status.idle": "2023-12-19T18:36:17.164448Z",
     "shell.execute_reply": "2023-12-19T18:36:17.164064Z",
     "shell.execute_reply.started": "2023-12-19T18:36:17.162120Z"
    }
   },
   "source": [
    "# Now process the measured images"
   ]
  },
  {
   "cell_type": "code",
   "execution_count": null,
   "id": "3e548fee-4631-47ba-981c-16cef22a13bc",
   "metadata": {
    "execution": {
     "iopub.execute_input": "2024-08-29T16:20:07.355968Z",
     "iopub.status.busy": "2024-08-29T16:20:07.355652Z",
     "iopub.status.idle": "2024-08-29T16:38:59.057394Z",
     "shell.execute_reply": "2024-08-29T16:38:59.057004Z",
     "shell.execute_reply.started": "2024-08-29T16:20:07.355954Z"
    },
    "jupyter": {
     "outputs_hidden": true
    }
   },
   "outputs": [],
   "source": [
    "fig = plt.figure(figsize=(8,8))\n",
    "for filename in filenames:\n",
    "    rp = ResourcePath(filename)\n",
    "    with rp.open(mode='r') as f:\n",
    "        data = json.load(f)\n",
    "    waves = []\n",
    "    ratios = []\n",
    "    fig.add_subplot(1,1,1)\n",
    "    for step in data[\"steps\"]:\n",
    "        wave = step['wavelength']\n",
    "        waves.append(wave)\n",
    "        expIdFilter = int(list(step[\"latiss_exposure_info\"].keys())[0])\n",
    "        dataId = {'exposure': expIdFilter, 'detector': 0, \"instrument\": 'LATISS'}\n",
    "        exp = best_effort_isr.getExposure(dataId, skipCosmics=False)\n",
    "        data = quickSmooth(exp.image.array, 1)\n",
    "        medFilter = np.median(data)\n",
    "        expIdNoFilter = int(list(step[\"latiss_exposure_info\"].keys())[1])\n",
    "        dataId = {'exposure': expIdNoFilter, 'detector': 0, \"instrument\": 'LATISS'}\n",
    "        exp = best_effort_isr.getExposure(dataId, skipCosmics=False)\n",
    "        data = quickSmooth(exp.image.array, 1)\n",
    "        medNoFilter = np.median(data)\n",
    "        ratio = medFilter / medNoFilter\n",
    "        ratios.append(ratio)\n",
    "        print(wave, ratio)\n",
    "    min_wave = np.min(waves)\n",
    "    max_wave = np.max(waves)\n",
    "    if min_wave < 400:\n",
    "        band = 'g'\n",
    "        color='green'\n",
    "    else:\n",
    "        band = 'r'\n",
    "        color='red'\n",
    "    # Get the tabulated transmission\n",
    "    transdata = butler.get(\"transmission_filter\", dataId={'instrument': 'LATISS', 'physical_filter': f'SDSS{band}_65mm~empty'})\n",
    "    tab_waves = np.linspace(min_wave, max_wave, 500)\n",
    "    tab_trans = transdata.sampleAt(Point2D(0), tab_waves * 10.0) # Data is in Angstroms\n",
    "    plt.title(f\"AuxTel SDSS{band}_65mm Transmission curve - 28-Aug-24\")\n",
    "    plt.plot(waves, np.array(ratios) * 100.0, marker='x', color=color, label=\"Measured\")\n",
    "    plt.plot(tab_waves, tab_trans * 100.0, color='black', ls='--', label=\"Tabulated\")\n",
    "    plt.xlabel(\"Wavelength (nm)\")\n",
    "    plt.ylabel(\"Transmittance (%)\")\n",
    "    plt.xlim(min_wave, max_wave)\n",
    "    plt.ylim(0,100.0)\n",
    "    plt.legend()\n",
    "    plt.savefig(f\"/home/c/cslage/u/AuxTel/filter_data/SDSS{band}_65mm_Filter_Curve_28Aug24.png\")\n",
    "    plt.clf()"
   ]
  },
  {
   "cell_type": "code",
   "execution_count": null,
   "id": "18ccede5-e4d1-4e9e-8363-725afd9ce1f2",
   "metadata": {},
   "outputs": [],
   "source": []
  }
 ],
 "metadata": {
  "kernelspec": {
   "display_name": "LSST",
   "language": "python",
   "name": "lsst"
  },
  "language_info": {
   "codemirror_mode": {
    "name": "ipython",
    "version": 3
   },
   "file_extension": ".py",
   "mimetype": "text/x-python",
   "name": "python",
   "nbconvert_exporter": "python",
   "pygments_lexer": "ipython3",
   "version": "3.11.9"
  },
  "toc-autonumbering": false,
  "toc-showcode": false,
  "toc-showmarkdowntxt": true
 },
 "nbformat": 4,
 "nbformat_minor": 5
}
