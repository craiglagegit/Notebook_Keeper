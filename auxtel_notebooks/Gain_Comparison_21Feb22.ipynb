{
 "cells": [
  {
   "cell_type": "markdown",
   "metadata": {},
   "source": [
    "# Notebook for plotting AuxTel gains.\n",
    "\n",
    "Initially written 29 Sep 2022 by Craig Lage."
   ]
  },
  {
   "cell_type": "code",
   "execution_count": null,
   "metadata": {},
   "outputs": [],
   "source": [
    "import sys, os, glob, time\n",
    "import numpy as np\n",
    "import astropy.io.fits as pf\n",
    "import matplotlib.pyplot as plt\n",
    "from lsst.daf.butler import Butler"
   ]
  },
  {
   "cell_type": "code",
   "execution_count": null,
   "metadata": {},
   "outputs": [],
   "source": [
    "butler1 = Butler(\"/repo/oga\", collections=[\"u/cslage/sdf/latiss/ptc_20220914\"])\n",
    "exposure1 = 2022091400060\n",
    "butler2 = Butler(\"/repo/oga\", collections=[\"u/cslage/sdf/latiss/ptc_20220927J\"])\n",
    "exposure2 = 2022092700063\n"
   ]
  },
  {
   "cell_type": "code",
   "execution_count": null,
   "metadata": {},
   "outputs": [],
   "source": [
    "butlers = [butler1, butler2]\n",
    "exposures = [exposure1, exposure2]\n",
    "run_names = ['20220914-Old', '20220927-New']\n",
    "markers = ['o', 'x']"
   ]
  },
  {
   "cell_type": "code",
   "execution_count": null,
   "metadata": {},
   "outputs": [],
   "source": [
    "plt.figure(figsize=(8,8))\n",
    "plt.suptitle(\"AuxTel Gains\", fontsize=24)\n",
    "for i,butler in enumerate(butlers):\n",
    "    run_name = run_names[i]\n",
    "    plt.subplot(1,1,1)\n",
    "    ptcDataset = butler.get('ptc', exposure=exposures[i], detector=0)\n",
    "    gain_data = ptcDataset.gain\n",
    "    gain_err_data = ptcDataset.gainErr\n",
    "    amps = gain_data.keys()\n",
    "    gains = []\n",
    "    gain_err = []\n",
    "    amp_nums = []\n",
    "    for ii, amp in enumerate(amps):\n",
    "        gains.append(gain_data[amp])\n",
    "        gain_err.append(gain_err_data[amp])\n",
    "        amp_nums.append(ii)\n",
    "    plt.errorbar(amp_nums, gains, yerr=gain_err, marker = markers[i], label = run_name)\n",
    "    plt.ylim(0.5, 1.5)\n",
    "    plt.ylabel(\"Gain\", fontsize = 12)\n",
    "    plt.xticks(amp_nums,amps, fontsize=8)\n",
    "    plt.legend(loc = 'upper right', fontsize = 12)\n",
    "plt.savefig(\"/sdf/group/rubin/u/cslage/AuxTel/gains/Gain_Comparison_29Sep22.pdf\")\n"
   ]
  },
  {
   "cell_type": "code",
   "execution_count": null,
   "metadata": {},
   "outputs": [],
   "source": [
    "plt.figure(figsize=(8,8))\n",
    "plt.suptitle(\"AuxTel Noise\", fontsize=24)\n",
    "for i,butler in enumerate(butlers):\n",
    "    run_name = run_names[i]\n",
    "    plt.subplot(1,1,1)\n",
    "    ptcDataset = butler.get('ptc', exposure=exposures[i], detector=0)\n",
    "    noise_data = ptcDataset.noise\n",
    "    noise_err_data = ptcDataset.noiseErr\n",
    "    amps = noise_data.keys()\n",
    "    noises = []\n",
    "    noise_err = []\n",
    "    amp_nums = []\n",
    "    for ii, amp in enumerate(amps):\n",
    "        noises.append(noise_data[amp])\n",
    "        noise_err.append(noise_err_data[amp])\n",
    "        amp_nums.append(ii)\n",
    "    plt.errorbar(amp_nums, noises, yerr=noise_err, marker = markers[i], label = run_name)\n",
    "    #plt.ylim(0.5, 1.5)\n",
    "    plt.ylabel(\"Noise\", fontsize = 12)\n",
    "    plt.xticks(amp_nums,amps, fontsize=8)\n",
    "    plt.legend(loc = 'upper right', fontsize = 12)\n",
    "plt.savefig(\"/sdf/group/rubin/u/cslage/AuxTel/gains/Noise_Comparison_06Oct22.pdf\")\n"
   ]
  },
  {
   "cell_type": "code",
   "execution_count": null,
   "metadata": {},
   "outputs": [],
   "source": [
    "plt.figure(figsize=(8,8))\n",
    "plt.suptitle(\"AuxTel Noise\", fontsize=24)\n",
    "for i,butler in enumerate(butlers):\n",
    "    run_name = run_names[i]\n",
    "    plt.subplot(1,1,1)\n",
    "    cpPtcExtract = butler.get('cpPtcExtract', exposure=exposures[i], detector=0)\n",
    "    noise_data = cpPtcExtract.noise\n",
    "    noise_err_data = cpPtcExtract.noiseErr\n",
    "    ptcDataset = butler.get('ptc', exposure=exposures[i], detector=0)\n",
    "    gain_data = ptcDataset.gain\n",
    "\n",
    "    amps = gain_data.keys()\n",
    "    noises = []\n",
    "    noise_err = []\n",
    "    amp_nums = []\n",
    "    for ii, amp in enumerate(amps):\n",
    "        noises.append(noise_data[amp] * gain_data[amp])\n",
    "        noise_err.append(noise_err_data[amp]* gain_data[amp])\n",
    "        amp_nums.append(ii)\n",
    "    plt.errorbar(amp_nums, noises, yerr=noise_err, marker = markers[i], label = run_name)\n",
    "    #plt.ylim(0.5, 1.5)\n",
    "    plt.ylabel(\"Overscan Noise in e-\", fontsize = 12)\n",
    "    plt.xticks(amp_nums,amps, fontsize=8)\n",
    "    plt.legend(loc = 'upper right', fontsize = 12)\n",
    "plt.savefig(\"/sdf/group/rubin/u/cslage/AuxTel/gains/Noise_Overscan_Comparison_06Oct22.pdf\")\n"
   ]
  },
  {
   "cell_type": "code",
   "execution_count": null,
   "metadata": {},
   "outputs": [],
   "source": []
  }
 ],
 "metadata": {
  "jupytext": {
   "formats": "ipynb,markdown//md"
  },
  "kernelspec": {
   "display_name": "LSST",
   "language": "python",
   "name": "lsst"
  },
  "language_info": {
   "codemirror_mode": {
    "name": "ipython",
    "version": 3
   },
   "file_extension": ".py",
   "mimetype": "text/x-python",
   "name": "python",
   "nbconvert_exporter": "python",
   "pygments_lexer": "ipython3",
   "version": "3.10.9"
  }
 },
 "nbformat": 4,
 "nbformat_minor": 4
}
