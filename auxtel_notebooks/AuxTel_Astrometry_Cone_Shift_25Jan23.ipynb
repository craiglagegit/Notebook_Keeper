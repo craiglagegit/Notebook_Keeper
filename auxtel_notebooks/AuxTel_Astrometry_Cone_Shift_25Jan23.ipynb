{
 "cells": [
  {
   "cell_type": "markdown",
   "id": "b1860733-8579-4373-9add-40720bd2e41f",
   "metadata": {},
   "source": [
    "## Measuring shift on AuxTel Hysteresis run - 25-Jan-23\n",
    "\n",
    "Craig Lage"
   ]
  },
  {
   "cell_type": "code",
   "execution_count": null,
   "id": "61f6538a-7a03-4fbf-976c-577f14fff9cc",
   "metadata": {
    "execution": {
     "iopub.execute_input": "2024-05-29T14:28:49.426309Z",
     "iopub.status.busy": "2024-05-29T14:28:49.426110Z",
     "iopub.status.idle": "2024-05-29T14:28:54.785396Z",
     "shell.execute_reply": "2024-05-29T14:28:54.784948Z",
     "shell.execute_reply.started": "2024-05-29T14:28:49.426297Z"
    },
    "tags": []
   },
   "outputs": [],
   "source": [
    "import sys, time, os, asyncio, glob\n",
    "\n",
    "from datetime import datetime\n",
    "import numpy as np\n",
    "import matplotlib.pyplot as plt\n",
    "import astropy.io.fits as pf\n",
    "from astropy.time import Time, TimeDelta\n",
    "from astropy.coordinates import AltAz, ICRS, EarthLocation, Angle, FK5\n",
    "import astropy.units as u\n",
    "from astropy.table import Table\n",
    "from astroquery.astrometry_net import AstrometryNet\n",
    "from lsst.obs.lsst.translators.latiss import AUXTEL_LOCATION\n",
    "import lsst.summit.utils.butlerUtils as butlerUtils\n",
    "from lsst.summit.utils.bestEffort import BestEffortIsr\n",
    "from lsst.summit.utils.plotting import plot\n",
    "from lsst.summit.utils import quickSmooth\n",
    "from mpl_toolkits.axes_grid1 import make_axes_locatable\n",
    "from matplotlib.colors import LogNorm"
   ]
  },
  {
   "cell_type": "code",
   "execution_count": null,
   "id": "c23fbc40-2570-498c-8428-b2e7470aa356",
   "metadata": {
    "execution": {
     "iopub.execute_input": "2024-05-29T14:29:00.278369Z",
     "iopub.status.busy": "2024-05-29T14:29:00.277851Z",
     "iopub.status.idle": "2024-05-29T14:29:00.885777Z",
     "shell.execute_reply": "2024-05-29T14:29:00.885407Z",
     "shell.execute_reply.started": "2024-05-29T14:29:00.278357Z"
    },
    "tags": []
   },
   "outputs": [],
   "source": [
    "butler = butlerUtils.makeDefaultLatissButler(embargo=True)"
   ]
  },
  {
   "cell_type": "code",
   "execution_count": null,
   "id": "6590fd4e-d592-458c-b852-fb198e7f2cf2",
   "metadata": {
    "execution": {
     "iopub.execute_input": "2024-05-29T14:29:02.697177Z",
     "iopub.status.busy": "2024-05-29T14:29:02.696964Z",
     "iopub.status.idle": "2024-05-29T14:29:25.955261Z",
     "shell.execute_reply": "2024-05-29T14:29:25.954765Z",
     "shell.execute_reply.started": "2024-05-29T14:29:02.697163Z"
    },
    "jupyter": {
     "outputs_hidden": true
    }
   },
   "outputs": [],
   "source": [
    "dataId = dict(day_obs=20240528, detector=0, seq_num=335)\n",
    "bestEffort = BestEffortIsr(embargo=True)\n",
    "bestEffort.getExposure(dataId)\n",
    "dataType = 'quickLookExp'\n",
    "exp = butler.get(dataType, dataId)"
   ]
  },
  {
   "cell_type": "code",
   "execution_count": null,
   "id": "8ca109e7-5e58-40ca-b0f8-56d128d00670",
   "metadata": {
    "execution": {
     "iopub.execute_input": "2024-05-29T14:29:48.544466Z",
     "iopub.status.busy": "2024-05-29T14:29:48.544251Z",
     "iopub.status.idle": "2024-05-29T14:29:51.743317Z",
     "shell.execute_reply": "2024-05-29T14:29:51.742892Z",
     "shell.execute_reply.started": "2024-05-29T14:29:48.544451Z"
    }
   },
   "outputs": [],
   "source": [
    "%matplotlib inline\n",
    "plot(exp)"
   ]
  },
  {
   "cell_type": "code",
   "execution_count": null,
   "id": "b5878f1d-d1e4-4061-abc0-46d92abc7e02",
   "metadata": {},
   "outputs": [],
   "source": []
  },
  {
   "cell_type": "code",
   "execution_count": null,
   "id": "d9b62c58-5c8e-421c-a913-67de66c4dd9a",
   "metadata": {},
   "outputs": [],
   "source": []
  },
  {
   "cell_type": "code",
   "execution_count": null,
   "id": "0b4fb075-e551-473f-9db7-a3120023cc29",
   "metadata": {
    "execution": {
     "iopub.execute_input": "2023-01-25T14:51:03.583613Z",
     "iopub.status.busy": "2023-01-25T14:51:03.583353Z",
     "iopub.status.idle": "2023-01-25T14:51:07.496563Z",
     "shell.execute_reply": "2023-01-25T14:51:07.495861Z",
     "shell.execute_reply.started": "2023-01-25T14:51:03.583593Z"
    },
    "tags": []
   },
   "outputs": [],
   "source": [
    "# Run one just to get it working\n",
    "expId = 2022121300200\n",
    "rawExp = butler.get('raw', detector=0, exposure=expId)\n",
    "biasExp = butler.get('bias', detector=0, exposure=expId)\n",
    "defectExp = butler.get('defects', detector=0, exposure=expId)\n",
    "isrResult = isrTask.run(rawExp, bias=biasExp, defects=defectExp)\n",
    "exp = isrResult.exposure"
   ]
  },
  {
   "cell_type": "code",
   "execution_count": null,
   "id": "7673f052-ce56-4319-a628-1f71ca4f9151",
   "metadata": {
    "execution": {
     "iopub.execute_input": "2023-01-25T14:59:20.786579Z",
     "iopub.status.busy": "2023-01-25T14:59:20.786182Z",
     "iopub.status.idle": "2023-01-25T14:59:25.248779Z",
     "shell.execute_reply": "2023-01-25T14:59:25.248174Z",
     "shell.execute_reply.started": "2023-01-25T14:59:20.786558Z"
    },
    "tags": []
   },
   "outputs": [],
   "source": [
    "charConfig = CharacterizeImageConfig()\n",
    "charConfig.doMeasurePsf = False\n",
    "charConfig.doApCorr = False\n",
    "charConfig.doDeblend = False\n",
    "charConfig.repair.doCosmicRay = False\n",
    "charConfig.repair.doInterpolate = True   \n",
    "charConfig.detection.minPixels = 500\n",
    "charTask = CharacterizeImageTask(config=charConfig)\n",
    "\n",
    "mData = exp.getMetadata()\n",
    "charResult = charTask.run(exp)\n",
    "sourceCatalog = charResult.sourceCat\n",
    "maxFlux = np.nanmax(sourceCatalog['base_CircularApertureFlux_3_0_instFlux'])\n",
    "selectBrightestSource = sourceCatalog['base_CircularApertureFlux_3_0_instFlux'] > maxFlux * 0.99\n",
    "brightestSource = sourceCatalog.subset(selectBrightestSource)\n",
    "brightestCentroid = (brightestSource['base_SdssCentroid_x'][0], \\\n",
    "                     brightestSource['base_SdssCentroid_y'][0])\n",
    "brightCatalog = sourceCatalog.subset(sourceCatalog['base_CircularApertureFlux_3_0_instFlux'] > maxFlux * 0.001)\n",
    "print(f\"exposure:{exposure}. Found {len(sourceCatalog)} sources, {len(brightCatalog)} bright sources\")\n",
    "print(f\"Brightest centroid at {brightestCentroid}\")\n",
    "pixelScale = exp.getWcs().getPixelScale().asArcseconds()\n",
    "print(f\"Pixel scale = {pixelScale} arcseconds/pixel\")\n",
    "detectorCenter = (2048.5, 2000.5)\n",
    "xoff = (brightestCentroid[0] - detectorCenter[0]) * pixelScale\n",
    "yoff = (brightestCentroid[1] - detectorCenter[1]) * pixelScale\n",
    "print(f\"xoff = {xoff}, yoff = {yoff} arcseconds\")\n",
    "off = np.sqrt(xoff*xoff + yoff*yoff)\n",
    "print(f\"Offset = {off} arcseconds\")\n",
    "rotpa = Angle(mData['ROTPA']*u.deg)\n",
    "el = Angle(mData['ELSTART'] * u.deg)\n",
    "az = Angle(mData['AZSTART'] * u.deg)\n",
    "dec = Angle(mData['DECSTART'] * u.deg)\n",
    "# Now calculate and plot the Az, El arrows from my algorithm\n",
    "sinTheta =  np.cos(AUXTEL_LOCATION.lat) / np.cos(dec) * np.sin(az)\n",
    "cosTheta = (np.sin(el) * np.sin(dec) - np.sin(AUXTEL_LOCATION.lat)) / (np.cos(el) * np.cos(dec))\n",
    "\n",
    "theta = Angle(np.arcsin(sinTheta))\n",
    "if cosTheta > 0:\n",
    "    rotAzEl = rotpa - theta\n",
    "else:    \n",
    "    rotAzEl = rotpa - (Angle(180.0 * u.deg) - theta)\n",
    "print(f\"rotAzEl = {rotAzEl.deg} degrees\")\n",
    "offset = (xoff * np.cos(rotAzEl) + yoff * np.sin(rotAzEl), -xoff * np.sin(rotAzEl) + yoff * np.cos(rotAzEl))\n",
    "print(f\"Az_offset = {offset[0]} arcseconds, El_offset = {offset[1]} arcseconds\")"
   ]
  },
  {
   "cell_type": "code",
   "execution_count": null,
   "id": "636d1d57-082d-4e57-8c34-121734dbd5ae",
   "metadata": {
    "execution": {
     "iopub.execute_input": "2023-01-25T14:57:19.498870Z",
     "iopub.status.busy": "2023-01-25T14:57:19.498481Z",
     "iopub.status.idle": "2023-01-25T14:57:24.540456Z",
     "shell.execute_reply": "2023-01-25T14:57:24.539708Z",
     "shell.execute_reply.started": "2023-01-25T14:57:19.498848Z"
    },
    "tags": []
   },
   "outputs": [],
   "source": [
    "cat = brightCatalog\n",
    "from matplotlib.colors import LogNorm\n",
    "%matplotlib inline\n",
    "Ncenter = (700, 900) # Center of N,E arrows\n",
    "Nlength = 500.0 # Length of arrows\n",
    "NcenterAzEl = (3200, 700) # Center of Az/El arrows\n",
    "Nlabel = 650.0 # Displacement of label from the end of the arrows\n",
    "\n",
    "plt.figure(figsize=(16,16))\n",
    "plt.title(f\"AuxTel Azimuth hysteresis, {expId}\", fontsize = 24)\n",
    "arr = exp.image.array\n",
    "arr = np.clip(arr, 1, 100000) # This image has some negative values, and this removes them\n",
    "img = plt.imshow(arr, norm=LogNorm(vmin=1, vmax=100),  interpolation='Nearest', cmap='gray')\n",
    "\n",
    "plt.scatter(brightestCentroid[0],brightestCentroid[1]\\\n",
    "            ,color='red', marker='x', s=1000)\n",
    "# First plot the N,E arrows\n",
    "rotpa = Angle(mData['ROTPA']*u.deg)\n",
    "plt.arrow(Ncenter[0],Ncenter[1], -Nlength*np.sin(rotpa), Nlength*np.cos(rotpa),\\\n",
    "    color='yellow', width = 20)\n",
    "plt.text(Ncenter[0]-Nlabel*np.sin(rotpa),Ncenter[1]+Nlabel*np.cos(rotpa), 'N', \\\n",
    "    color='yellow', fontsize=12, weight='bold')\n",
    "plt.arrow(Ncenter[0],Ncenter[1], Nlength*np.cos(rotpa), Nlength*np.sin(rotpa),\\\n",
    "    color='yellow', width = 20)\n",
    "plt.text(Ncenter[0]+Nlabel*np.cos(rotpa),Ncenter[1]+Nlabel*np.sin(rotpa), 'E', \\\n",
    "    color='yellow', fontsize=12, weight='bold')\n",
    "\n",
    "el = Angle(mData['ELSTART'] * u.deg)\n",
    "az = Angle(mData['AZSTART'] * u.deg)\n",
    "dec = Angle(mData['DECSTART'] * u.deg)\n",
    "# Now calculate and plot the Az, El arrows from my algorithm\n",
    "sinTheta =  np.cos(AUXTEL_LOCATION.lat) / np.cos(dec) * np.sin(az)\n",
    "cosTheta = (np.sin(el) * np.sin(dec) - np.sin(AUXTEL_LOCATION.lat)) / (np.cos(el) * np.cos(dec))\n",
    "\n",
    "theta = Angle(np.arcsin(sinTheta))\n",
    "if cosTheta > 0:\n",
    "    rotAzEl = rotpa - theta\n",
    "else:    \n",
    "    rotAzEl = rotpa - (Angle(180.0 * u.deg) - theta)\n",
    "print(theta.deg, rotpa.deg, rotAzEl.deg)\n",
    "plt.arrow(NcenterAzEl[0],NcenterAzEl[1], -Nlength*np.sin(rotAzEl), Nlength*np.cos(rotAzEl),\\\n",
    "    color='cyan', width = 20)\n",
    "plt.text(NcenterAzEl[0]-Nlabel*np.sin(rotAzEl),NcenterAzEl[1]+Nlabel*np.cos(rotAzEl), 'EL', \\\n",
    "    color='cyan', fontsize=12, weight='bold')\n",
    "plt.arrow(NcenterAzEl[0],NcenterAzEl[1], Nlength*np.cos(rotAzEl), Nlength*np.sin(rotAzEl),\\\n",
    "    color='cyan', width = 20)\n",
    "plt.text(NcenterAzEl[0]+Nlabel*np.cos(rotAzEl),NcenterAzEl[1]+Nlabel*np.sin(rotAzEl), 'AZ', \\\n",
    "    color='cyan', fontsize=12, weight='bold')\n",
    "\n",
    "plt.text(brightestCentroid[0]-200.0,brightestCentroid[1] - 200.0,  \\\n",
    "    f\"Az_offset = {offset[0]:.2f} arcseconds, El_offset = {offset[1]:.2f} arcseconds\", \\\n",
    "         color='yellow', fontsize=12, weight='bold')\n",
    "plt.ylim(0,4000)\n",
    "plt.savefig(f\"/home/c/cslage/u/AuxTel/hysteresis_data/AuxTel_Azimuth_Hysteresis_{expId}_25Jan23.pdf\")"
   ]
  },
  {
   "cell_type": "code",
   "execution_count": null,
   "id": "a97cacd0-ea6a-41b9-ab5c-100e0e60a41f",
   "metadata": {
    "execution": {
     "iopub.execute_input": "2023-01-25T15:00:31.074179Z",
     "iopub.status.busy": "2023-01-25T15:00:31.073764Z",
     "iopub.status.idle": "2023-01-25T15:47:46.057205Z",
     "shell.execute_reply": "2023-01-25T15:47:46.056479Z",
     "shell.execute_reply.started": "2023-01-25T15:00:31.074159Z"
    },
    "jupyter": {
     "outputs_hidden": true
    },
    "tags": []
   },
   "outputs": [],
   "source": [
    "# Now run them all\n",
    "\n",
    "\n",
    "outfile = \"/home/c/cslage/u/AuxTel/hysteresis_data/AuxTel_Azimuth_Hysteresis_25Jan23.txt\"\n",
    "file = open(outfile, \"w\")\n",
    "file.write(\"Exposure\\tAz(degrees)\\tEl(degrees)\\tDeltaAz(sec)\\tDeltaEl(sec)\\n\")\n",
    "for expId in range(2022121300011, 2022121300322):\n",
    "    rawExp = butler.get('raw', detector=0, exposure=expId)\n",
    "    biasExp = butler.get('bias', detector=0, exposure=expId)\n",
    "    defectExp = butler.get('defects', detector=0, exposure=expId)\n",
    "    isrResult = isrTask.run(rawExp, bias=biasExp, defects=defectExp)\n",
    "    exp = isrResult.exposure\n",
    "    mData = exp.getMetadata()\n",
    "    rotpa = Angle(mData['ROTPA']*u.deg)\n",
    "    el = Angle(mData['ELSTART'] * u.deg)\n",
    "    az = Angle(mData['AZSTART'] * u.deg)\n",
    "    dec = Angle(mData['DECSTART'] * u.deg)\n",
    "    # Now calculate and plot the Az, El arrows from my algorithm\n",
    "    sinTheta =  np.cos(AUXTEL_LOCATION.lat) / np.cos(dec) * np.sin(az)\n",
    "    cosTheta = (np.sin(el) * np.sin(dec) - np.sin(AUXTEL_LOCATION.lat)) / (np.cos(el) * np.cos(dec))\n",
    "\n",
    "    theta = Angle(np.arcsin(sinTheta))\n",
    "    if cosTheta > 0:\n",
    "        rotAzEl = rotpa - theta\n",
    "    else:    \n",
    "        rotAzEl = rotpa - (Angle(180.0 * u.deg) - theta)\n",
    "    az = mData[\"AZSTART\"]\n",
    "    el = mData[\"ELSTART\"]\n",
    "\n",
    "    pixelScale = exp.getWcs().getPixelScale().asArcseconds()\n",
    "    detectorCenter = (2048.5, 2000.5)\n",
    "\n",
    "    charResult = charTask.run(exp)\n",
    "    sourceCatalog = charResult.sourceCat\n",
    "    maxFlux = np.nanmax(sourceCatalog['base_CircularApertureFlux_3_0_instFlux'])\n",
    "    selectBrightestSource = sourceCatalog['base_CircularApertureFlux_3_0_instFlux'] > maxFlux * 0.99\n",
    "    brightestSource = sourceCatalog.subset(selectBrightestSource)\n",
    "    brightestCentroid = (brightestSource['base_SdssCentroid_x'][0], \\\n",
    "                         brightestSource['base_SdssCentroid_y'][0])\n",
    "    brightCatalog = sourceCatalog.subset(sourceCatalog['base_CircularApertureFlux_3_0_instFlux'] > maxFlux * 0.001)\n",
    "    print(f\"exposure:{expId}. Found {len(sourceCatalog)} sources, {len(brightCatalog)} bright sources\")\n",
    "    print(f\"Brightest centroid at {brightestCentroid}\")\n",
    "    xoff = (brightestCentroid[0] - detectorCenter[0]) * pixelScale\n",
    "    yoff = (brightestCentroid[1] - detectorCenter[1]) * pixelScale\n",
    "    off = np.sqrt(xoff*xoff + yoff*yoff)\n",
    "\n",
    "    offset = (xoff * np.cos(rotAzEl) + yoff * np.sin(rotAzEl), -xoff * np.sin(rotAzEl) + yoff * np.cos(rotAzEl))\n",
    "    print(f\"Az_offset = {offset[0]} arcseconds, El_offset = {offset[1]} arcseconds\")\n",
    "    file.write(f\"{expId}\\t{az:.4f}\\t{el:.4f}\\t{offset[0]:.2f}\\t{offset[1]:.2f}\\n\")\n",
    "file.close()"
   ]
  },
  {
   "cell_type": "code",
   "execution_count": null,
   "id": "4ef34166-be53-49ef-ae4d-f59feb9a8db9",
   "metadata": {
    "execution": {
     "iopub.execute_input": "2023-01-25T16:16:48.863224Z",
     "iopub.status.busy": "2023-01-25T16:16:48.862479Z",
     "iopub.status.idle": "2023-01-25T16:16:48.871068Z",
     "shell.execute_reply": "2023-01-25T16:16:48.870546Z",
     "shell.execute_reply.started": "2023-01-25T16:16:48.863199Z"
    },
    "tags": []
   },
   "outputs": [],
   "source": [
    "# Now read in the data and plot it.\n",
    "outfile = \"/home/c/cslage/u/AuxTel/hysteresis_data/AuxTel_Azimuth_Hysteresis_25Jan23.txt\"\n",
    "data = np.loadtxt(outfile, skiprows=1)\n",
    "exposures = []\n",
    "Azs = []\n",
    "Els = []\n",
    "deltaAzs = []\n",
    "deltaEls = []\n",
    "for j in range(1, data.shape[0]):\n",
    "    [exposure, Az, El, deltaAz, deltaEl] = data[j]\n",
    "    Azs.append(Az)\n",
    "    Els.append(El)\n",
    "    deltaAzs.append(deltaAz)\n",
    "    deltaEls.append(deltaEl)\n",
    "    exposures.append(exposure - 2022121300000)\n"
   ]
  },
  {
   "cell_type": "code",
   "execution_count": null,
   "id": "2d0c5b8a-a47b-4df5-9d5a-68ad9891e8c3",
   "metadata": {
    "execution": {
     "iopub.execute_input": "2023-01-25T16:16:52.698875Z",
     "iopub.status.busy": "2023-01-25T16:16:52.698131Z",
     "iopub.status.idle": "2023-01-25T16:16:53.057403Z",
     "shell.execute_reply": "2023-01-25T16:16:53.056776Z",
     "shell.execute_reply.started": "2023-01-25T16:16:52.698851Z"
    },
    "tags": []
   },
   "outputs": [],
   "source": [
    "%matplotlib inline\n",
    "plt.figure(figsize=(8, 10))\n",
    "plt.subplots_adjust(hspace = 0.5)\n",
    "plt.subplot(2,1,1)\n",
    "plt.title(f\"AuxTel Azimuth Hysteresis DeltaAz\", fontsize = 24)\n",
    "plt.scatter(exposures, deltaAzs)\n",
    "plt.xlabel(\"Sequence Number\")\n",
    "plt.ylabel(\"DeltaAz (arcseconds)\")\n",
    "#plt.xlim(273, 280)\n",
    "plt.subplot(2,1,2)\n",
    "plt.title(f\"AuxTel Elevation Hysteresis DeltaEl\", fontsize = 24)\n",
    "plt.scatter(exposures, deltaEls)\n",
    "plt.xlabel(\"Sequence Number\")\n",
    "plt.ylabel(\"DeltaEl (arcseconds)\")\n",
    "plt.savefig(f\"/home/c/cslage/u/AuxTel/hysteresis_data/AuxTel_Azimuth_Hysteresis_25Jan23.pdf\")"
   ]
  },
  {
   "cell_type": "code",
   "execution_count": null,
   "id": "8a5bf88c-2c51-4a21-b23d-ed5a7e8bbac2",
   "metadata": {
    "execution": {
     "iopub.execute_input": "2023-01-25T16:17:02.563359Z",
     "iopub.status.busy": "2023-01-25T16:17:02.562937Z",
     "iopub.status.idle": "2023-01-25T16:17:02.911454Z",
     "shell.execute_reply": "2023-01-25T16:17:02.910863Z",
     "shell.execute_reply.started": "2023-01-25T16:17:02.563337Z"
    },
    "tags": []
   },
   "outputs": [],
   "source": [
    "plt.figure(figsize=(8, 10))\n",
    "plt.subplots_adjust(hspace = 0.5)\n",
    "plt.subplot(2,1,1)\n",
    "plt.title(f\"AuxTel Azimuth\", fontsize = 24)\n",
    "plt.scatter(exposures, Azs)\n",
    "plt.xlabel(\"Sequence Number\")\n",
    "plt.ylabel(\"Az(degrees)\")\n",
    "plt.subplot(2,1,2)\n",
    "plt.title(f\"AuxTel Elevation \", fontsize = 24)\n",
    "plt.scatter(exposures, Els)\n",
    "plt.xlabel(\"Sequence Number\")\n",
    "plt.ylabel(\"El(degrees)\")\n",
    "plt.savefig(f\"/home/c/cslage/u/AuxTel/hysteresis_data/AuxTel_Azimuth_Hysteresis_Images_25Jan23.pdf\")"
   ]
  },
  {
   "cell_type": "code",
   "execution_count": null,
   "id": "8cdb2783-4e27-4e54-b75e-75ad0641d59e",
   "metadata": {
    "execution": {
     "iopub.execute_input": "2023-01-25T16:42:21.565477Z",
     "iopub.status.busy": "2023-01-25T16:42:21.565094Z",
     "iopub.status.idle": "2023-01-25T16:42:21.571366Z",
     "shell.execute_reply": "2023-01-25T16:42:21.570834Z",
     "shell.execute_reply.started": "2023-01-25T16:42:21.565457Z"
    },
    "jupyter": {
     "outputs_hidden": true
    },
    "tags": []
   },
   "outputs": [],
   "source": [
    "# Use this to set the pos and neg exposures.\n",
    "for i in range(len(exposures)):\n",
    "    print(i, exposures[i], Azs[i])"
   ]
  },
  {
   "cell_type": "code",
   "execution_count": null,
   "id": "a816e5d6-1400-442b-9482-c9ea6a5d6079",
   "metadata": {
    "execution": {
     "iopub.execute_input": "2023-01-25T18:42:23.964581Z",
     "iopub.status.busy": "2023-01-25T18:42:23.963632Z",
     "iopub.status.idle": "2023-01-25T18:42:23.968962Z",
     "shell.execute_reply": "2023-01-25T18:42:23.968356Z",
     "shell.execute_reply.started": "2023-01-25T18:42:23.964557Z"
    },
    "tags": []
   },
   "outputs": [],
   "source": [
    "# Set the positive and negative exposures.\n",
    "# These are for the large excursions\n",
    "Az_pos = Azs[0:32] + Azs[60:92] + Azs[120:152]\n",
    "DeltaAz_pos = deltaAzs[0:32] + deltaAzs[60:92] + deltaAzs[120:152]\n",
    "Az_neg = Azs[34:60] + Azs[92:120] + Azs[154:185]\n",
    "DeltaAz_neg = deltaAzs[34:60] + deltaAzs[92:120] + deltaAzs[154:185]\n",
    "exp_pos = exposures[0:32] + exposures[60:92] + exposures[120:152]\n",
    "exp_neg = exposures[34:60] + exposures[92:120] + exposures[154:185]"
   ]
  },
  {
   "cell_type": "code",
   "execution_count": null,
   "id": "6ac7ba65-3eab-4ecc-a7b8-53e54a4a9ae2",
   "metadata": {
    "execution": {
     "iopub.execute_input": "2023-01-25T19:01:54.128855Z",
     "iopub.status.busy": "2023-01-25T19:01:54.128464Z",
     "iopub.status.idle": "2023-01-25T19:01:54.373456Z",
     "shell.execute_reply": "2023-01-25T19:01:54.372836Z",
     "shell.execute_reply.started": "2023-01-25T19:01:54.128834Z"
    },
    "tags": []
   },
   "outputs": [],
   "source": [
    "xaxis = np.linspace(160, 200, 100)\n",
    "fit_pos = np.polyfit(Az_pos, DeltaAz_pos, 1)\n",
    "fit_neg = np.polyfit(Az_neg, DeltaAz_neg, 1)\n",
    "yaxis_pos = np.polyval(fit_pos, xaxis)\n",
    "yaxis_neg = np.polyval(fit_neg, xaxis)\n",
    "\n",
    "%matplotlib inline\n",
    "plt.figure(figsize=(8, 8))\n",
    "plt.subplots_adjust(hspace = 0.5)\n",
    "plt.subplot(1,1,1)\n",
    "plt.title(f\"AuxTel Azimuth Hysteresis\\n Large excursions\", fontsize = 18)\n",
    "plt.plot(xaxis, yaxis_pos, ls='--', lw=4, color='red')\n",
    "plt.arrow(165, -7.5, 30, 1.2, head_width=0.2, head_length=1.0, color='red')\n",
    "#plt.text(-25, -1.0, f\"Slope={fit_pos[0]:.2f} arcsec/deg, Intercept={fit_pos[1]:.2f} arcsec\", color='red')\n",
    "plt.scatter(Az_neg, DeltaAz_neg, color='blue', marker = 'x', s=100, label = \"Negative\")\n",
    "plt.scatter(Az_pos, DeltaAz_pos, color='red', label = \"Positive\")\n",
    "\n",
    "plt.plot(xaxis, yaxis_neg, ls='--', lw=4, color='blue')\n",
    "plt.arrow(195.0, -2.5, -30, -1.0, head_width=0.2, head_length=1.0, color='blue')\n",
    "#plt.text(-40, -5.0, f\"Slope={fit_neg[0]:.2f} arcsec/deg, Intercept={fit_neg[1]:.2f} arcsec\", color='blue')\n",
    "plt.xlabel(\"Az(degrees)\")\n",
    "plt.ylabel(\"DeltaAz(arcseconds)\")\n",
    "plt.legend()\n",
    "plt.savefig(f\"/home/c/cslage/u/AuxTel/hysteresis_data/AuxTel_Azimuth_Hysteresis_Summary_Large_25Jan23.pdf\")"
   ]
  },
  {
   "cell_type": "code",
   "execution_count": null,
   "id": "e3b0467b-3268-41a3-8810-2ef731c2e867",
   "metadata": {
    "execution": {
     "iopub.execute_input": "2023-01-25T17:01:15.655242Z",
     "iopub.status.busy": "2023-01-25T17:01:15.654724Z",
     "iopub.status.idle": "2023-01-25T17:01:15.859233Z",
     "shell.execute_reply": "2023-01-25T17:01:15.858761Z",
     "shell.execute_reply.started": "2023-01-25T17:01:15.655219Z"
    },
    "tags": []
   },
   "outputs": [],
   "source": [
    "#Now bin them and take the difference\n",
    "Az_neg = np.array(Az_neg)\n",
    "Az_pos = np.array(Az_pos)\n",
    "DeltaAz_neg = np.array(DeltaAz_neg)\n",
    "DeltaAz_pos = np.array(DeltaAz_pos)\n",
    "lowerEdge = np.linspace(160, 200, 9)\n",
    "diffs = []\n",
    "azs = []\n",
    "for lower in lowerEdge:\n",
    "    upper = lower + 5.0\n",
    "    azs.append((upper + lower) / 2.0)\n",
    "    meanNeg = np.mean(DeltaAz_neg[np.where((Az_neg>lower) & (Az_neg<upper))])\n",
    "    meanPos = np.mean(DeltaAz_pos[np.where((Az_pos>lower) & (Az_pos<upper))])\n",
    "    diffs.append(meanPos - meanNeg)\n",
    "\n",
    "plt.figure(figsize=(8, 8))\n",
    "plt.subplots_adjust(hspace = 0.5)\n",
    "plt.subplot(1,1,1)\n",
    "plt.title(f\"AuxTel Azimuth Hysteresis \\n averaged in 5 degree azimuth bins\", fontsize = 18)\n",
    "plt.plot(azs, diffs, marker = 'x')\n",
    "plt.ylabel(\"Positive going mean - Negative going mean (arcseconds)\") \n",
    "plt.xlabel(\"Azimuth (degrees)\")\n",
    "plt.savefig(f\"/home/c/cslage/u/AuxTel/hysteresis_data/AuxTel_Azimuth_Hysteresis_Binned_Diffs_Large_25Jan23.pdf\")"
   ]
  },
  {
   "cell_type": "code",
   "execution_count": null,
   "id": "b6aaedb1-1751-44cc-8a21-5f7518135db5",
   "metadata": {
    "execution": {
     "iopub.execute_input": "2023-01-25T17:01:45.738729Z",
     "iopub.status.busy": "2023-01-25T17:01:45.738421Z",
     "iopub.status.idle": "2023-01-25T17:01:45.743154Z",
     "shell.execute_reply": "2023-01-25T17:01:45.742631Z",
     "shell.execute_reply.started": "2023-01-25T17:01:45.738709Z"
    },
    "tags": []
   },
   "outputs": [],
   "source": [
    "# Set the positive and negative exposures.\n",
    "# These are for the small excursions\n",
    "Az_pos = Azs[182:206] + Azs[224:248] + Azs[268:290]\n",
    "DeltaAz_pos = deltaAzs[182:206] + deltaAzs[224:248] + deltaAzs[268:290]\n",
    "Az_neg = Azs[205:225] + Azs[253:267] + Azs[292:309]\n",
    "DeltaAz_neg = deltaAzs[205:225] + deltaAzs[253:267] + deltaAzs[292:309]\n",
    "exp_pos = exposures[182:206] + exposures[224:248] + exposures[268:290]\n",
    "exp_neg = exposures[205:225] + exposures[253:267] + exposures[292:309]"
   ]
  },
  {
   "cell_type": "code",
   "execution_count": null,
   "id": "5f89a0bc-6576-46db-98a7-0f71a701c707",
   "metadata": {
    "execution": {
     "iopub.execute_input": "2023-01-25T17:02:04.740854Z",
     "iopub.status.busy": "2023-01-25T17:02:04.740434Z",
     "iopub.status.idle": "2023-01-25T17:02:04.998464Z",
     "shell.execute_reply": "2023-01-25T17:02:04.997799Z",
     "shell.execute_reply.started": "2023-01-25T17:02:04.740832Z"
    },
    "tags": []
   },
   "outputs": [],
   "source": [
    "xaxis = np.linspace(150, 220, 100)\n",
    "%matplotlib inline\n",
    "plt.figure(figsize=(8, 8))\n",
    "plt.subplots_adjust(hspace = 0.5)\n",
    "plt.subplot(1,1,1)\n",
    "plt.title(f\"AuxTel Azimuth Hysteresis\\n Small excursions\", fontsize = 18)\n",
    "#plt.plot(xaxis, yaxis_pos, ls='--', color='red')\n",
    "#plt.text(-25, -1.0, f\"Slope={fit_pos[0]:.2f} arcsec/deg, Intercept={fit_pos[1]:.2f} arcsec\", color='red')\n",
    "plt.scatter(Az_neg, DeltaAz_neg, color='blue', marker = 'x', s=100, label = \"Negative\")\n",
    "plt.scatter(Az_pos, DeltaAz_pos, color='red', label = \"Positive\")\n",
    "\n",
    "#plt.plot(xaxis, yaxis_neg, ls='--', color='blue')\n",
    "#plt.text(-40, -5.0, f\"Slope={fit_neg[0]:.2f} arcsec/deg, Intercept={fit_neg[1]:.2f} arcsec\", color='blue')\n",
    "plt.xlabel(\"Az(degrees)\")\n",
    "plt.ylabel(\"DeltaAz(arcseconds)\")\n",
    "plt.legend()\n",
    "plt.savefig(f\"/home/c/cslage/u/AuxTel/hysteresis_data/AuxTel_Azimuth_Hysteresis_Summary_Small_25Jan23.pdf\")"
   ]
  },
  {
   "cell_type": "code",
   "execution_count": null,
   "id": "c01d3472-7a42-41e7-92d3-65e930971715",
   "metadata": {
    "execution": {
     "iopub.execute_input": "2023-01-25T17:03:37.914306Z",
     "iopub.status.busy": "2023-01-25T17:03:37.913804Z",
     "iopub.status.idle": "2023-01-25T17:03:38.090101Z",
     "shell.execute_reply": "2023-01-25T17:03:38.089566Z",
     "shell.execute_reply.started": "2023-01-25T17:03:37.914284Z"
    },
    "tags": []
   },
   "outputs": [],
   "source": [
    "#Now bin them and take the difference\n",
    "Az_neg = np.array(Az_neg)\n",
    "Az_pos = np.array(Az_pos)\n",
    "DeltaAz_neg = np.array(DeltaAz_neg)\n",
    "DeltaAz_pos = np.array(DeltaAz_pos)\n",
    "lowerEdge = np.linspace(176, 186, 11)\n",
    "diffs = []\n",
    "azs = []\n",
    "for lower in lowerEdge:\n",
    "    upper = lower + 1.0\n",
    "    azs.append((upper + lower) / 2.0)\n",
    "    meanNeg = np.mean(DeltaAz_neg[np.where((Az_neg>lower) & (Az_neg<upper))])\n",
    "    meanPos = np.mean(DeltaAz_pos[np.where((Az_pos>lower) & (Az_pos<upper))])\n",
    "    diffs.append(meanPos - meanNeg)\n",
    "\n",
    "plt.figure(figsize=(8, 8))\n",
    "plt.subplots_adjust(hspace = 0.5)\n",
    "plt.subplot(1,1,1)\n",
    "plt.title(f\"AuxTel Azimuth Hysteresis \\n averaged in 1 degree azimuth bins\", fontsize = 18)\n",
    "plt.plot(azs, diffs, marker = 'x')\n",
    "plt.ylabel(\"Positive going mean - Negative going mean (arcseconds)\") \n",
    "plt.xlabel(\"Azimuth (degrees)\")\n",
    "plt.savefig(f\"/home/c/cslage/u/AuxTel/hysteresis_data/AuxTel_Azimuth_Hysteresis_Binned_Diffs_Small_25Jan23.pdf\")"
   ]
  },
  {
   "cell_type": "code",
   "execution_count": null,
   "id": "ea55c9fe-4c06-4132-a55a-3e3e8a447b37",
   "metadata": {},
   "outputs": [],
   "source": []
  }
 ],
 "metadata": {
  "kernelspec": {
   "display_name": "LSST",
   "language": "python",
   "name": "lsst"
  },
  "language_info": {
   "codemirror_mode": {
    "name": "ipython",
    "version": 3
   },
   "file_extension": ".py",
   "mimetype": "text/x-python",
   "name": "python",
   "nbconvert_exporter": "python",
   "pygments_lexer": "ipython3",
   "version": "3.11.7"
  }
 },
 "nbformat": 4,
 "nbformat_minor": 5
}
