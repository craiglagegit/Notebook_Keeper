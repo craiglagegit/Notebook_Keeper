{
 "cells": [
  {
   "cell_type": "markdown",
   "id": "e8cc3a14-f377-44f4-ab4c-97c9c3047697",
   "metadata": {},
   "source": [
    "# Testing new crosstalk coefficients\n",
    "Craig Lage 10-Apr-23"
   ]
  },
  {
   "cell_type": "code",
   "execution_count": null,
   "id": "a148b369-8943-4861-a51e-9cbeea70feb3",
   "metadata": {
    "execution": {
     "iopub.execute_input": "2023-04-10T13:19:50.568621Z",
     "iopub.status.busy": "2023-04-10T13:19:50.568444Z",
     "iopub.status.idle": "2023-04-10T13:19:52.885890Z",
     "shell.execute_reply": "2023-04-10T13:19:52.885361Z",
     "shell.execute_reply.started": "2023-04-10T13:19:50.568604Z"
    },
    "tags": []
   },
   "outputs": [],
   "source": [
    "import numpy as np\n",
    "from matplotlib import pyplot as plt\n",
    "\n",
    "from lsst.daf.butler import Butler\n",
    "from lsst.summit.utils import BestEffortIsr\n",
    "import lsst.afw.cameraGeom.utils as camGeomUtils\n",
    "from lsst.ip.isr import IsrTask, IsrTaskConfig\n",
    "from mpl_toolkits.axes_grid1 import make_axes_locatable\n",
    "from matplotlib.colors import LogNorm\n",
    "\n",
    "from lsst.summit.utils import quickSmooth\n",
    "%matplotlib inline\n",
    "\n",
    "from lsst.pipe.tasks.characterizeImage import CharacterizeImageTask\n",
    "from lsst.meas.algorithms.installGaussianPsf import InstallGaussianPsfTask"
   ]
  },
  {
   "cell_type": "code",
   "execution_count": null,
   "id": "7c44dc35-840c-438f-bdba-55b8b1ce5b77",
   "metadata": {
    "execution": {
     "iopub.execute_input": "2023-04-10T13:31:50.868384Z",
     "iopub.status.busy": "2023-04-10T13:31:50.868153Z",
     "iopub.status.idle": "2023-04-10T13:31:50.873768Z",
     "shell.execute_reply": "2023-04-10T13:31:50.873409Z",
     "shell.execute_reply.started": "2023-04-10T13:31:50.868368Z"
    },
    "tags": []
   },
   "outputs": [],
   "source": [
    "def plotExp(exp, vmin=None, vmax=None):\n",
    "    # Borrowed from summit utils\n",
    "    data = quickSmooth(exp.image.array, 1)\n",
    "    if vmin == None:\n",
    "        vmin = np.nanpercentile(data, 1)\n",
    "        vmax = np.nanpercentile(data, 99)\n",
    "    print(vmin, vmax)\n",
    "    figure = plt.figure(figsize=(12,12))\n",
    "    figure.clear()\n",
    "    ax1 = figure.add_subplot(111)\n",
    "    im1 = ax1.imshow(data, cmap='gray', origin='lower', vmin=vmin, vmax=vmax)\n",
    "    ax1.tick_params(which=\"major\", direction=\"in\", top=True, right=True, labelsize=8)\n",
    "    divider = make_axes_locatable(ax1)\n",
    "    cax = divider.append_axes(\"right\", size=\"5%\", pad=0.05)\n",
    "    plt.colorbar(im1, cax=cax)\n",
    "    plt.tight_layout()\n",
    "    #plt.show()\n",
    "    return figure\n",
    "\n",
    "def repairCosmics(postIsr):\n",
    "    # Borrowed from summit utils\n",
    "    if postIsr.getPsf() is None:\n",
    "        installPsfTask = InstallGaussianPsfTask()\n",
    "        installPsfTask.run(postIsr)\n",
    "\n",
    "    # TODO: try adding a reasonably wide Gaussian as a temp PSF\n",
    "    # and then just running repairTask on its own without any\n",
    "    # imChar. It should work, and be faster.\n",
    "    repairConfig = CharacterizeImageTask.ConfigClass()\n",
    "    repairConfig.doMeasurePsf = False\n",
    "    repairConfig.doApCorr = False\n",
    "    repairConfig.doDeblend = False\n",
    "    repairConfig.doWrite = False\n",
    "    repairConfig.repair.cosmicray.nCrPixelMax = 200000\n",
    "    repairTask = CharacterizeImageTask(config=repairConfig)\n",
    "    repairTask.repair.run(postIsr)\n",
    "    return\n"
   ]
  },
  {
   "cell_type": "code",
   "execution_count": null,
   "id": "558e3838-4aea-48e2-9629-5b1f60b2fbaf",
   "metadata": {
    "execution": {
     "iopub.execute_input": "2023-04-10T13:20:59.508196Z",
     "iopub.status.busy": "2023-04-10T13:20:59.507974Z",
     "iopub.status.idle": "2023-04-10T13:21:02.748596Z",
     "shell.execute_reply": "2023-04-10T13:21:02.748094Z",
     "shell.execute_reply.started": "2023-04-10T13:20:59.508181Z"
    },
    "tags": []
   },
   "outputs": [],
   "source": [
    "#butler = Butler('/repo/embargo', collections=[\"LATISS/raw/all\", \"u/czw/DM-37811/parOStest.20230202a/calib\"])\n",
    "butler = Butler('/repo/embargo', collections=[\"LATISS/raw/all\", \"LATISS/calib\"])\n",
    "crossButler = Butler(\"/repo/embargo\", collections=[\"u/snyder18/20230215/crosstalk_ratio_analysis\"])\n",
    "crossButler_run2 = Butler(\"/repo/embargo\", collections=[\"u/snyder18/20230215/crosstalk_model_analysis\"])"
   ]
  },
  {
   "cell_type": "markdown",
   "id": "75e9e655-1176-4cf6-a8b2-ccb8ff195892",
   "metadata": {},
   "source": [
    " ### New ISR"
   ]
  },
  {
   "cell_type": "code",
   "execution_count": null,
   "id": "5fdbc6a3-4691-4baa-b8bd-c182b8e51de9",
   "metadata": {
    "execution": {
     "iopub.execute_input": "2023-04-10T13:21:12.043908Z",
     "iopub.status.busy": "2023-04-10T13:21:12.043660Z",
     "iopub.status.idle": "2023-04-10T13:21:12.066690Z",
     "shell.execute_reply": "2023-04-10T13:21:12.066265Z",
     "shell.execute_reply.started": "2023-04-10T13:21:12.043889Z"
    },
    "tags": []
   },
   "outputs": [],
   "source": [
    "isrConfig = IsrTaskConfig()\n",
    "isrConfig.overscan.fitType=\"MEDIAN_PER_ROW\"\n",
    "isrConfig.overscan.doParallelOverscan=True\n",
    "isrConfig.doLinearize=False\n",
    "isrConfig.doOverscan=True\n",
    "isrConfig.doAssembleCcd=True\n",
    "isrConfig.doBias=True\n",
    "isrConfig.doVariance=True\n",
    "isrConfig.doLinearize=False\n",
    "isrConfig.doCrosstalk=True\n",
    "isrConfig.doBrighterFatter=False\n",
    "isrConfig.doDark=False\n",
    "isrConfig.doStrayLight=False\n",
    "isrConfig.doFlat=False\n",
    "isrConfig.doFringe=False\n",
    "isrConfig.doApplyGains=False\n",
    "isrConfig.doDefect=False\n",
    "isrConfig.doNanMasking=True\n",
    "isrConfig.doInterpolate=False\n",
    "isrConfig.doSaturation=False\n",
    "isrConfig.doSaturationInterpolation=False\n",
    "isrConfig.doWrite=False\n",
    "isrTask = IsrTask(config=isrConfig)"
   ]
  },
  {
   "cell_type": "code",
   "execution_count": null,
   "id": "50ae40b2-b711-435e-9423-3085bff83c56",
   "metadata": {
    "execution": {
     "iopub.execute_input": "2023-04-10T13:47:15.000607Z",
     "iopub.status.busy": "2023-04-10T13:47:15.000248Z",
     "iopub.status.idle": "2023-04-10T13:47:52.435501Z",
     "shell.execute_reply": "2023-04-10T13:47:52.434902Z",
     "shell.execute_reply.started": "2023-04-10T13:47:15.000591Z"
    },
    "tags": []
   },
   "outputs": [],
   "source": [
    "expIds = [2023031500960, 2023021500250]\n",
    "for expId in expIds:\n",
    "    if expId == 2023031500960:\n",
    "        vmin = 1; vmax = 100\n",
    "    if expId == 2023021500250:\n",
    "        vmin = 1; vmax = 10\n",
    "    for ct in ['None', 'DM_code', \"Adam's_non-linear_code\"]:\n",
    "        exp = butler.get('raw', detector=0, exposure=expId)\n",
    "        biasExp = butler.get('bias', detector=0, exposure=expId)\n",
    "        if ct == 'None':\n",
    "            isrConfig.doCrosstalk=False\n",
    "            crosstalk = crossButler.get('crosstalk', detector=0, exposure=expId)\n",
    "        elif ct == 'DM_code':\n",
    "            isrConfig.doCrosstalk=True\n",
    "            crosstalk = crossButler.get('crosstalk', detector=0, exposure=expId)\n",
    "        elif ct == \"Adam's_non-linear_code\":\n",
    "            isrConfig.doCrosstalk=True\n",
    "            crosstalk = crossButler_run2.get('crosstalk', detector=0, exposure=expId)\n",
    "            \n",
    "        isrResult = isrTask.run(exp, bias=biasExp, crosstalk=crosstalk)\n",
    "        postIsrExp = isrResult.exposure\n",
    "        repairCosmics(postIsrExp)\n",
    "        fig = plotExp(postIsrExp, vmin=vmin, vmax=vmax)\n",
    "        plt.suptitle(f\"{expId} - Crosstalk = {ct}\")\n",
    "        plt.savefig(f\"/home/c/cslage/u/AuxTel/isr/crosstalk_test_10apr23/Crosstalk_Test_{expId}_{ct}_10Apr23.png\")"
   ]
  },
  {
   "cell_type": "code",
   "execution_count": null,
   "id": "9a5c48e3-6436-4e7e-a4f3-c64ac0b431d6",
   "metadata": {},
   "outputs": [],
   "source": []
  }
 ],
 "metadata": {
  "kernelspec": {
   "display_name": "LSST",
   "language": "python",
   "name": "lsst"
  },
  "language_info": {
   "codemirror_mode": {
    "name": "ipython",
    "version": 3
   },
   "file_extension": ".py",
   "mimetype": "text/x-python",
   "name": "python",
   "nbconvert_exporter": "python",
   "pygments_lexer": "ipython3",
   "version": "3.10.9"
  },
  "toc-autonumbering": false,
  "toc-showcode": false,
  "toc-showmarkdowntxt": true
 },
 "nbformat": 4,
 "nbformat_minor": 5
}
