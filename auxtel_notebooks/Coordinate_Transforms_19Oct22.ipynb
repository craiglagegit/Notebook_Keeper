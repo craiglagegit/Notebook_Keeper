{
 "cells": [
  {
   "cell_type": "markdown",
   "metadata": {},
   "source": [
    "## Astronomicaal coordinate Conversion - 19-Oct-22\n",
    "\n",
    "Craig Lage"
   ]
  },
  {
   "cell_type": "code",
   "execution_count": null,
   "metadata": {},
   "outputs": [],
   "source": [
    "import sys, time, os, asyncio, glob\n",
    "from datetime import datetime\n",
    "import numpy as np\n",
    "import matplotlib.pyplot as plt\n",
    "from astropy.time import Time, TimeDelta\n",
    "from astropy.coordinates import AltAz, ICRS, EarthLocation, Angle, FK5, SkyCoord\n",
    "import astropy.units as u\n",
    "from lsst.obs.lsst.translators.latiss import AUXTEL_LOCATION\n"
   ]
  },
  {
   "cell_type": "code",
   "execution_count": null,
   "metadata": {},
   "outputs": [],
   "source": [
    "# RA, Dec to AltAz\n",
    "RA = +95.99\n",
    "Dec = -52.69\n",
    "skyLocation = SkyCoord(RA*u.deg, Dec*u.deg)\n",
    "now = Time(datetime.now())\n",
    "altAz = AltAz(obstime=now, location=AUXTEL_LOCATION)\n",
    "obsAltAz = skyLocation.transform_to(altAz)\n",
    "print(RA, Dec, obsAltAz.az.deg, obsAltAz.alt.deg)"
   ]
  },
  {
   "cell_type": "code",
   "execution_count": null,
   "metadata": {},
   "outputs": [],
   "source": [
    "# RA, Dec to AltAz\n",
    "RA = +95.99\n",
    "Dec = -52.69\n",
    "skyLocation = SkyCoord(RA*u.deg, Dec*u.deg)\n",
    "now = Time('2022-10-27T06:00:00')\n",
    "altAz = AltAz(obstime=now, location=AUXTEL_LOCATION)\n",
    "obsAltAz = skyLocation.transform_to(altAz)\n",
    "print(RA, Dec, obsAltAz.az.deg, obsAltAz.alt.deg)"
   ]
  },
  {
   "cell_type": "code",
   "execution_count": null,
   "metadata": {},
   "outputs": [],
   "source": [
    "# AltAz to RA, Dec\n",
    "Alt = 32.21002\n",
    "Az = 182.104\n",
    "now = Time(datetime.now())\n",
    "altAz = SkyCoord(AltAz(alt=Alt*u.deg, az=Az*u.deg, obstime=now, location=AUXTEL_LOCATION))\n",
    "RaDec = altAz.transform_to(ICRS)\n",
    "print(Alt, Az, RaDec.ra.deg, RaDec.dec.deg)"
   ]
  },
  {
   "cell_type": "code",
   "execution_count": null,
   "metadata": {},
   "outputs": [],
   "source": [
    "# AltAz to RA, Dec\n",
    "Alt = 32.21002\n",
    "Az = -182.104\n",
    "now = Time('2022-06-30T03:59:13.360')\n",
    "altAz = SkyCoord(AltAz(alt=Alt*u.deg, az=Az*u.deg, obstime=now, location=AUXTEL_LOCATION))\n",
    "RaDec = altAz.transform_to(ICRS)\n",
    "print(Alt, Az, RaDec.ra.deg, RaDec.dec.deg)"
   ]
  },
  {
   "cell_type": "code",
   "execution_count": null,
   "metadata": {},
   "outputs": [],
   "source": []
  }
 ],
 "metadata": {
  "kernelspec": {
   "display_name": "LSST",
   "language": "python",
   "name": "lsst"
  },
  "language_info": {
   "codemirror_mode": {
    "name": "ipython",
    "version": 3
   },
   "file_extension": ".py",
   "mimetype": "text/x-python",
   "name": "python",
   "nbconvert_exporter": "python",
   "pygments_lexer": "ipython3",
   "version": "3.10.5"
  }
 },
 "nbformat": 4,
 "nbformat_minor": 4
}
