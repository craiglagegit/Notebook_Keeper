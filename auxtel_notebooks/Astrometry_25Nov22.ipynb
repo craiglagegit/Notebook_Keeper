{
 "cells": [
  {
   "cell_type": "markdown",
   "metadata": {},
   "source": [
    "## WCS solutions for AuxTel - 24-Nov-22\n",
    "\n",
    "Craig Lage "
   ]
  },
  {
   "cell_type": "code",
   "execution_count": null,
   "metadata": {},
   "outputs": [],
   "source": [
    "import sys, time, os, asyncio, glob\n",
    "from datetime import datetime\n",
    "import numpy as np\n",
    "import matplotlib.pyplot as plt\n",
    "import astropy.io.fits as pf\n",
    "from astropy.time import Time, TimeDelta\n",
    "from astropy.coordinates import AltAz, ICRS, EarthLocation, Angle, FK5, SkyCoord\n",
    "import astropy.units as u\n",
    "from lsst.obs.lsst.translators.latiss import AUXTEL_LOCATION\n",
    "from lsst.obs.lsst.translators.lsst import SIMONYI_LOCATION\n",
    "from astroquery.astrometry_net import AstrometryNet\n",
    "\n",
    "import lsst.afw.image as afwImage\n",
    "from lsst.summit.utils.blindSolving import runImchar\n",
    "# This requires to be on the tickets/DM-31175 of summit_utils\n",
    "from lsst.summit.utils import BestEffortIsr\n",
    "from lsst.daf.butler import Butler"
   ]
  },
  {
   "cell_type": "code",
   "execution_count": null,
   "metadata": {},
   "outputs": [],
   "source": [
    "best_effort_isr = BestEffortIsr()\n",
    "butler = Butler('/repo/embargo', collections=[\"LATISS/raw/all\", \"LATISS/calib\"])\n",
    "dataId = {'day_obs': 20221025, 'seq_num': 253, 'detector': 0, \"instrument\": 'LATISS'}\n",
    "best_effort_isr.doWrite = False  # Don't write to butler database\n",
    "exp = best_effort_isr.getExposure(dataId, skipCosmics=False)\n",
    "mData = butler.get('raw.metadata', dataId=dataId)"
   ]
  },
  {
   "cell_type": "code",
   "execution_count": null,
   "metadata": {},
   "outputs": [],
   "source": [
    "# Now get the image data\n",
    "\n",
    "expId = 2020031500163\n",
    "# Get the raw quickLook data.  Only Gen2 works for now\n",
    "REPO_DIR = '/project/shared/auxTel/rerun/quickLook'\n",
    "\n",
    "gen2_butler = gen2Butler(REPO_DIR)\n",
    "charConfig = CharacterizeImageConfig()\n",
    "charConfig.doMeasurePsf = False#True\n",
    "charConfig.doApCorr = False\n",
    "charConfig.doDeblend = False\n",
    "charConfig.repair.doCosmicRay = True\n",
    "charConfig.repair.doInterpolate = True   \n",
    "charConfig.detection.minPixels = 500\n",
    "charTask = CharacterizeImageTask(config=charConfig)\n",
    "\n",
    "\n",
    "exp = gen2_butler.get('quickLookExp', detector=0, expId=expId)\n",
    "mData = exp.getMetadata()\n",
    "charResult = charTask.run(exp)\n",
    "sourceCatalog = charResult.sourceCat\n",
    "maxFlux = np.nanmax(sourceCatalog['base_CircularApertureFlux_3_0_instFlux'])\n",
    "selectBrightestSource = sourceCatalog['base_CircularApertureFlux_3_0_instFlux'] > maxFlux * 0.99\n",
    "brightestSource = sourceCatalog.subset(selectBrightestSource)\n",
    "brightestCentroid = (brightestSource['base_SdssCentroid_x'][0], \\\n",
    "                     brightestSource['base_SdssCentroid_y'][0])\n",
    "brightCatalog = sourceCatalog.subset(sourceCatalog['base_CircularApertureFlux_3_0_instFlux'] > maxFlux * 0.001)\n",
    "print(f\"expId:{expId}. Found {len(sourceCatalog)} sources, {len(brightCatalog)} bright sources\")\n",
    "print(f\"Brightest centroid at {brightestCentroid}\")\n"
   ]
  },
  {
   "cell_type": "code",
   "execution_count": null,
   "metadata": {},
   "outputs": [],
   "source": [
    "cat = brightCatalog"
   ]
  },
  {
   "cell_type": "code",
   "execution_count": null,
   "metadata": {},
   "outputs": [],
   "source": [
    "Ncenter = (700, 900)\n",
    "Nlength = 500.0\n",
    "NcenterAzEl = (3200, 700)\n",
    "Nlabel = 650.0\n",
    "yShift = 150.0\n",
    "\n",
    "plt.figure(figsize=(16,16))\n",
    "arr = exp.image.array\n",
    "arr = np.clip(arr, 1, 100000) # This image has some negative values, and this removes them\n",
    "img = plt.imshow(arr, norm=LogNorm(vmin=1, vmax=1000),  interpolation='Nearest', cmap='gray')\n",
    "\n",
    "plt.scatter(cat['base_SdssCentroid_x'],cat['base_SdssCentroid_y']\\\n",
    "            ,color='red', marker='x')\n",
    "rotpa = Angle(mData['ROTPA']*u.deg)\n",
    "plt.arrow(Ncenter[0],Ncenter[1], -Nlength*np.sin(rotpa), Nlength*np.cos(rotpa),\\\n",
    "    color='green', width = 20)\n",
    "plt.text(Ncenter[0]-Nlabel*np.sin(rotpa),Ncenter[1]+Nlabel*np.cos(rotpa), 'N', \\\n",
    "    color='green', fontsize=12, weight='bold')\n",
    "plt.arrow(Ncenter[0],Ncenter[1], Nlength*np.cos(rotpa), Nlength*np.sin(rotpa),\\\n",
    "    color='green', width = 20)\n",
    "plt.text(Ncenter[0]+Nlabel*np.cos(rotpa),Ncenter[1]+Nlabel*np.sin(rotpa), 'E', \\\n",
    "    color='green', fontsize=12, weight='bold')\n",
    "\n",
    "plt.ylim(0,4000)\n",
    "plt.savefig(f'/project/cslage/AuxTel/offsets/{expId}.png')"
   ]
  },
  {
   "cell_type": "code",
   "execution_count": null,
   "metadata": {},
   "outputs": [],
   "source": [
    "ast = AstrometryNet()\n",
    "ast.api_key = 'xxawwhvleirxcswx'\n"
   ]
  },
  {
   "cell_type": "code",
   "execution_count": null,
   "metadata": {},
   "outputs": [],
   "source": [
    "AstrometryNet.show_allowed_settings()"
   ]
  },
  {
   "cell_type": "code",
   "execution_count": null,
   "metadata": {},
   "outputs": [],
   "source": [
    "sources = sourceCatalog.asAstropy()\n",
    "sources.keep_columns(['base_SdssCentroid_x', 'base_SdssCentroid_y', 'base_CircularApertureFlux_3_0_instFlux'])\n",
    "sources.sort('base_CircularApertureFlux_3_0_instFlux', reverse=True)\n",
    "# Keep just the 17 bright sources\n",
    "#sources.remove_rows(slice(17, 53, 1))\n",
    "    \n",
    "image_width = 4072\n",
    "image_height = 4000\n",
    "scale_units = 'arcsecperpix'\n",
    "scale_type='ev' # ev means submit estimate and % error\n",
    "scale_est = 0.095\n",
    "scale_err = 2.0\n",
    "center_ra = mData['RA']\n",
    "center_dec = mData['DEC']\n",
    "radius = 0.5\n",
    "wcs_header = ast.solve_from_source_list(sources['base_SdssCentroid_x'], sources['base_SdssCentroid_y'],\n",
    "                                        image_width, image_height, scale_units=scale_units,\n",
    "                                        scale_type=scale_type, scale_est=scale_est, scale_err=scale_err,\n",
    "                                        center_ra=center_ra, center_dec=center_dec, radius=radius,\n",
    "                                        solve_timeout=240)"
   ]
  },
  {
   "cell_type": "code",
   "execution_count": null,
   "metadata": {},
   "outputs": [],
   "source": []
  },
  {
   "cell_type": "code",
   "execution_count": null,
   "metadata": {},
   "outputs": [],
   "source": [
    "# Now get the image data\n",
    "\n",
    "expId = 2021061000202\n",
    "# Get the raw quickLook data.  Only Gen2 works for now\n",
    "\n",
    "exp = gen2_butler.get('quickLookExp', detector=0, expId=expId)\n",
    "mData = exp.getMetadata()\n",
    "charResult = charTask.run(exp)\n",
    "sourceCatalog = charResult.sourceCat\n",
    "maxFlux = np.nanmax(sourceCatalog['base_CircularApertureFlux_3_0_instFlux'])\n",
    "selectBrightestSource = sourceCatalog['base_CircularApertureFlux_3_0_instFlux'] > maxFlux * 0.99\n",
    "brightestSource = sourceCatalog.subset(selectBrightestSource)\n",
    "brightestCentroid = (brightestSource['base_SdssCentroid_x'][0], \\\n",
    "                     brightestSource['base_SdssCentroid_y'][0])\n",
    "brightCatalog = sourceCatalog.subset(sourceCatalog['base_CircularApertureFlux_3_0_instFlux'] > maxFlux * 0.001)\n",
    "print(f\"expId:{expId}. Found {len(sourceCatalog)} sources, {len(brightCatalog)} bright sources\")\n",
    "print(f\"Brightest centroid at {brightestCentroid}\")\n"
   ]
  },
  {
   "cell_type": "code",
   "execution_count": null,
   "metadata": {},
   "outputs": [],
   "source": [
    "cat = brightCatalog"
   ]
  },
  {
   "cell_type": "code",
   "execution_count": null,
   "metadata": {},
   "outputs": [],
   "source": [
    "Ncenter = (700, 900)\n",
    "Nlength = 500.0\n",
    "NcenterAzEl = (3200, 700)\n",
    "Nlabel = 650.0\n",
    "yShift = 150.0\n",
    "\n",
    "plt.figure(figsize=(16,16))\n",
    "arr = exp.image.array\n",
    "arr = np.clip(arr, 1, 100000) # This image has some negative values, and this removes them\n",
    "img = plt.imshow(arr, norm=LogNorm(vmin=1, vmax=1000),  interpolation='Nearest', cmap='gray')\n",
    "\n",
    "plt.scatter(cat['base_SdssCentroid_x'],cat['base_SdssCentroid_y']\\\n",
    "            ,color='red', marker='x')\n",
    "rotpa = Angle(mData['ROTPA']*u.deg)\n",
    "plt.arrow(Ncenter[0],Ncenter[1], -Nlength*np.sin(rotpa), Nlength*np.cos(rotpa),\\\n",
    "    color='green', width = 20)\n",
    "plt.text(Ncenter[0]-Nlabel*np.sin(rotpa),Ncenter[1]+Nlabel*np.cos(rotpa), 'N', \\\n",
    "    color='green', fontsize=12, weight='bold')\n",
    "plt.arrow(Ncenter[0],Ncenter[1], Nlength*np.cos(rotpa), Nlength*np.sin(rotpa),\\\n",
    "    color='green', width = 20)\n",
    "plt.text(Ncenter[0]+Nlabel*np.cos(rotpa),Ncenter[1]+Nlabel*np.sin(rotpa), 'E', \\\n",
    "    color='green', fontsize=12, weight='bold')\n",
    "\n",
    "plt.ylim(0,4000)\n",
    "plt.savefig(f'/project/cslage/AuxTel/offsets/{expId}.png')"
   ]
  },
  {
   "cell_type": "code",
   "execution_count": null,
   "metadata": {},
   "outputs": [],
   "source": [
    "sources = sourceCatalog.asAstropy()\n",
    "sources.keep_columns(['base_SdssCentroid_x', 'base_SdssCentroid_y', 'base_CircularApertureFlux_3_0_instFlux'])\n",
    "sources.sort('base_CircularApertureFlux_3_0_instFlux', reverse=True)\n",
    "# Keep just the 17 bright sources\n",
    "#sources.remove_rows(slice(17, 53, 1))\n",
    "    \n",
    "image_width = 4072\n",
    "image_height = 4000\n",
    "scale_units = 'arcsecperpix'\n",
    "scale_type='ev' # ev means submit estimate and % error\n",
    "scale_est = 0.095\n",
    "scale_err = 2.0\n",
    "center_ra = mData['RA']\n",
    "center_dec = mData['DEC']\n",
    "radius = 0.5\n",
    "wcs_header = ast.solve_from_source_list(sources['base_SdssCentroid_x'], sources['base_SdssCentroid_y'],\n",
    "                                        image_width, image_height, scale_units=scale_units,\n",
    "                                        scale_type=scale_type, scale_est=scale_est, scale_err=scale_err,\n",
    "                                        center_ra=center_ra, center_dec=center_dec, radius=radius,\n",
    "                                        solve_timeout=240)"
   ]
  },
  {
   "cell_type": "code",
   "execution_count": null,
   "metadata": {},
   "outputs": [],
   "source": [
    "# Brought the position data back in with:\n",
    "# curl http://nova.astrometry.net/corr_file/5339307 --output corr_2021061000202.fits\n",
    "# Need to automate this"
   ]
  },
  {
   "cell_type": "code",
   "execution_count": null,
   "metadata": {},
   "outputs": [],
   "source": [
    "corr_file = pf.open(f\"/project/cslage/AuxTel/offsets/corr_{expId}.fits\")\n",
    "corr_data = corr_file[1].data"
   ]
  },
  {
   "cell_type": "code",
   "execution_count": null,
   "metadata": {},
   "outputs": [],
   "source": [
    "for dat in corr_data:\n",
    "    print(dat[4], dat[5])"
   ]
  },
  {
   "cell_type": "code",
   "execution_count": null,
   "metadata": {},
   "outputs": [],
   "source": [
    "Ncenter = (700, 900)\n",
    "Nlength = 500.0\n",
    "NcenterAzEl = (3200, 700)\n",
    "Nlabel = 650.0\n",
    "yShift = 150.0\n",
    "\n",
    "plt.figure(figsize=(16,16))\n",
    "arr = exp.image.array\n",
    "arr = np.clip(arr, 1, 100000) # This image has some negative values, and this removes them\n",
    "img = plt.imshow(arr, norm=LogNorm(vmin=1, vmax=1000),  interpolation='Nearest', cmap='gray')\n",
    "\n",
    "\n",
    "plt.scatter(cat['base_SdssCentroid_x'],cat['base_SdssCentroid_y']\\\n",
    "            ,facecolors='none', edgecolors='r', s=200)\n",
    "\n",
    "for dat in corr_data:\n",
    "    plt.scatter(dat[4],dat[5]\\\n",
    "            ,facecolors='none', edgecolors='g', s=200, lw=2)\n",
    "\n",
    "rotpa = Angle(mData['ROTPA']*u.deg)\n",
    "plt.arrow(Ncenter[0],Ncenter[1], -Nlength*np.sin(rotpa), Nlength*np.cos(rotpa),\\\n",
    "    color='green', width = 20)\n",
    "plt.text(Ncenter[0]-Nlabel*np.sin(rotpa),Ncenter[1]+Nlabel*np.cos(rotpa), 'N', \\\n",
    "    color='green', fontsize=12, weight='bold')\n",
    "plt.arrow(Ncenter[0],Ncenter[1], Nlength*np.cos(rotpa), Nlength*np.sin(rotpa),\\\n",
    "    color='green', width = 20)\n",
    "plt.text(Ncenter[0]+Nlabel*np.cos(rotpa),Ncenter[1]+Nlabel*np.sin(rotpa), 'E', \\\n",
    "    color='green', fontsize=12, weight='bold')\n",
    "\n",
    "plt.ylim(0,4000)\n",
    "plt.savefig(f'/project/cslage/AuxTel/offsets/{expId}_astropy.png')"
   ]
  },
  {
   "cell_type": "code",
   "execution_count": null,
   "metadata": {},
   "outputs": [],
   "source": []
  }
 ],
 "metadata": {
  "kernelspec": {
   "display_name": "LSST",
   "language": "python",
   "name": "lsst"
  },
  "language_info": {
   "codemirror_mode": {
    "name": "ipython",
    "version": 3
   },
   "file_extension": ".py",
   "mimetype": "text/x-python",
   "name": "python",
   "nbconvert_exporter": "python",
   "pygments_lexer": "ipython3",
   "version": "3.10.5"
  }
 },
 "nbformat": 4,
 "nbformat_minor": 4
}
