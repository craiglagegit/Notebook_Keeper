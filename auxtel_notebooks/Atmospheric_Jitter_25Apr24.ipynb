{
 "cells": [
  {
   "cell_type": "markdown",
   "metadata": {},
   "source": [
    "## Quantifying atmospheric jitter with trailed images\n",
    "\n",
    "Craig Lage - 25-Apr-24"
   ]
  },
  {
   "cell_type": "code",
   "execution_count": null,
   "metadata": {
    "execution": {
     "iopub.execute_input": "2024-04-25T15:19:34.216797Z",
     "iopub.status.busy": "2024-04-25T15:19:34.216668Z",
     "iopub.status.idle": "2024-04-25T15:19:40.875136Z",
     "shell.execute_reply": "2024-04-25T15:19:40.874772Z",
     "shell.execute_reply.started": "2024-04-25T15:19:34.216784Z"
    },
    "tags": []
   },
   "outputs": [],
   "source": [
    "import numpy as np\n",
    "import matplotlib.pyplot as plt\n",
    "\n",
    "import lsst.summit.utils.butlerUtils as butlerUtils\n",
    "from lsst.summit.utils.bestEffort import BestEffortIsr\n",
    "from lsst.summit.utils.plotting import plot\n",
    "from lsst.summit.utils import quickSmooth\n",
    "from mpl_toolkits.axes_grid1 import make_axes_locatable\n",
    "from matplotlib.colors import LogNorm\n",
    "from scipy.optimize import minimize"
   ]
  },
  {
   "cell_type": "code",
   "execution_count": null,
   "metadata": {
    "execution": {
     "iopub.execute_input": "2024-04-25T15:19:40.876067Z",
     "iopub.status.busy": "2024-04-25T15:19:40.875626Z",
     "iopub.status.idle": "2024-04-25T15:19:41.311303Z",
     "shell.execute_reply": "2024-04-25T15:19:41.310830Z",
     "shell.execute_reply.started": "2024-04-25T15:19:40.876052Z"
    }
   },
   "outputs": [],
   "source": [
    "butler = butlerUtils.makeDefaultLatissButler(embargo=True)"
   ]
  },
  {
   "cell_type": "code",
   "execution_count": null,
   "metadata": {
    "execution": {
     "iopub.execute_input": "2024-04-25T15:19:41.312129Z",
     "iopub.status.busy": "2024-04-25T15:19:41.311985Z",
     "iopub.status.idle": "2024-04-25T15:19:43.860376Z",
     "shell.execute_reply": "2024-04-25T15:19:43.860017Z",
     "shell.execute_reply.started": "2024-04-25T15:19:41.312115Z"
    }
   },
   "outputs": [],
   "source": [
    "dataId = dict(day_obs=20240306, detector=0, seq_num=566)\n",
    "bestEffort = BestEffortIsr(embargo=True)\n",
    "bestEffort.getExposure(dataId)\n",
    "dataType = 'quickLookExp'\n",
    "exp = butler.get(dataType, dataId)"
   ]
  },
  {
   "cell_type": "code",
   "execution_count": null,
   "metadata": {
    "execution": {
     "iopub.execute_input": "2024-04-25T17:19:07.608358Z",
     "iopub.status.busy": "2024-04-25T17:19:07.607859Z",
     "iopub.status.idle": "2024-04-25T17:19:09.943213Z",
     "shell.execute_reply": "2024-04-25T17:19:09.942784Z",
     "shell.execute_reply.started": "2024-04-25T17:19:07.608339Z"
    }
   },
   "outputs": [],
   "source": [
    "%matplotlib inline\n",
    "fig = plt.figure(figsize=(10,10))\n",
    "plot(exp, figure=fig, stretch='ccs')\n",
    "plt.savefig(\"/home/c/cslage/u/AuxTel/jitter/Jitter_from_Stopped_Drive_20240306_566.png\")"
   ]
  },
  {
   "cell_type": "code",
   "execution_count": null,
   "metadata": {
    "execution": {
     "iopub.execute_input": "2024-04-25T17:19:32.124312Z",
     "iopub.status.busy": "2024-04-25T17:19:32.123987Z",
     "iopub.status.idle": "2024-04-25T17:19:33.005893Z",
     "shell.execute_reply": "2024-04-25T17:19:33.005341Z",
     "shell.execute_reply.started": "2024-04-25T17:19:32.124298Z"
    }
   },
   "outputs": [],
   "source": [
    "xmin = 2500; xmax = 2750\n",
    "ys = [700, 1200, 1900, 2200]\n",
    "fig, axs = plt.subplots(2,2, figsize = (10,10))\n",
    "plt.subplots_adjust(wspace=0.3, hspace=0.3)\n",
    "plt.suptitle(\"Fits to Trailing streak. AuxTel 20240306, seqNum 566\", fontsize=18)\n",
    "for i, y in enumerate(ys):\n",
    "    axY = i%2\n",
    "    axX = int(i/2)\n",
    "    data = arr[y, xmin:xmax]\n",
    "    axs[axX][axY].plot(data, label=\"Pixel data\")\n",
    "    guess = np.polyval(fit, y)\n",
    "    param0 = [5.0, 10.0, guess, 5.0]\n",
    "    bounds = [[2.0, 10.0], [1.0, 1000.0], [guess-10, guess+10], [0.1, 20.0]]\n",
    "    args = [data]\n",
    "    bestFit = minimize(fitFunc, param0, args=args, bounds=bounds, method='Powell')\n",
    "    [const, mag, peak, sigma] = bestFit.x\n",
    "    xplot = np.linspace(0, len(data), 500)\n",
    "    yplot = const + mag * np.exp(-(xplot - peak)**2/(2 * sigma)**2)\n",
    "    axs[axX][axY].plot(xplot, yplot, color='red', ls = '--', label='Fit')\n",
    "    axs[axX][axY].set_title(f\"Y = {y}, Peak = {peak:.2f}\")\n",
    "    axs[axX][axY].set_ylabel(\"Flux(ADU)\")\n",
    "    axs[axX][axY].set_xlabel(f\"Xpixel - {xmin}\")\n",
    "    axs[axX][axY].legend()\n",
    "    #print(y, const, mag, peak, sigma, flush=True)\n",
    "plt.savefig(\"/home/c/cslage/u/AuxTel/jitter/Streak_Fits_20240306_566.png\")"
   ]
  },
  {
   "cell_type": "code",
   "execution_count": null,
   "metadata": {
    "execution": {
     "iopub.execute_input": "2024-04-25T17:20:04.422719Z",
     "iopub.status.busy": "2024-04-25T17:20:04.422285Z",
     "iopub.status.idle": "2024-04-25T17:21:40.187764Z",
     "shell.execute_reply": "2024-04-25T17:21:40.187276Z",
     "shell.execute_reply.started": "2024-04-25T17:20:04.422702Z"
    }
   },
   "outputs": [],
   "source": [
    "def fitFunc(params, args):\n",
    "    [const, mag, peak, sigma] = params\n",
    "    [data] = args\n",
    "    diff = 0.0\n",
    "    for i, value in enumerate(data):\n",
    "        model = const + mag * np.exp(-(i - peak)**2/(2 * sigma)**2)\n",
    "        diff += (model - value)**2\n",
    "    return diff\n",
    "\n",
    "arr = exp.image.array\n",
    "peaks = []\n",
    "ys = []\n",
    "intercept = 0.070; slope = 18.713 # this is the fit to the XY line, obtained by iterating\n",
    "fit = np.array([intercept, slope])\n",
    "for y in range(700, 2400):\n",
    "    guess_peak = np.polyval(fit, y)\n",
    "    param0 = [5.0, 10.0, guess_peak, 5.0]\n",
    "    bounds = [[2.0, 10.0], [1.0, 1000.0], [guess_peak - 10, guess_peak + 10], [0.1, 20.0]]\n",
    "    data = arr[y, 2500:2750]\n",
    "    args = [data]\n",
    "    bestFit = minimize(fitFunc, param0, args=args, bounds=bounds, method='Powell')\n",
    "    [const, mag, peak, sigma] = bestFit.x\n",
    "    #print(y, peak, flush=True)\n",
    "    ys.append(y)\n",
    "    peaks.append(peak)\n",
    "        \n",
    "        \n",
    "    \n",
    "    "
   ]
  },
  {
   "cell_type": "code",
   "execution_count": null,
   "metadata": {
    "execution": {
     "iopub.execute_input": "2024-04-25T17:21:40.188804Z",
     "iopub.status.busy": "2024-04-25T17:21:40.188654Z",
     "iopub.status.idle": "2024-04-25T17:21:40.511173Z",
     "shell.execute_reply": "2024-04-25T17:21:40.510820Z",
     "shell.execute_reply.started": "2024-04-25T17:21:40.188791Z"
    }
   },
   "outputs": [],
   "source": [
    "fig = plt.figure(figsize=(10,5))\n",
    "plt.suptitle(\"Jitter of trailing streak AuxTel 20240306, seqNum 566\")\n",
    "plt.subplot(1,2,1)\n",
    "plt.title(\"Streak Jitter\")\n",
    "plt.plot(ys, peaks)\n",
    "fit = np.polyfit(ys, peaks, deg=1)\n",
    "xplot = range(700,2400)\n",
    "yplot = np.polyval(fit, xplot)\n",
    "plt.plot(xplot, yplot, color='red', ls='--')\n",
    "diffs = []\n",
    "for i in range(len(xplot)):\n",
    "    diffs.append(peaks[i] - yplot[i])\n",
    "plt.xlabel(\"Y (pixels)\")\n",
    "plt.ylabel(f\"Streak X peak (pixels - {xmin})\")\n",
    "plt.text(750, 160, f\"Streak sigma = {(np.std(diffs) * 0.1):.2f} arcseconds\")\n",
    "plt.subplot(1,2,2)\n",
    "plt.title(\"Deviation of peak from linear fit\")\n",
    "plt.hist(diffs, bins=50)\n",
    "plt.xlabel(\"Pixels\")\n",
    "plt.savefig(\"/home/c/cslage/u/AuxTel/jitter/Streak_Jitter_20240306_566.png\")"
   ]
  },
  {
   "cell_type": "code",
   "execution_count": null,
   "metadata": {},
   "outputs": [],
   "source": []
  }
 ],
 "metadata": {
  "kernelspec": {
   "display_name": "LSST",
   "language": "python",
   "name": "lsst"
  },
  "language_info": {
   "codemirror_mode": {
    "name": "ipython",
    "version": 3
   },
   "file_extension": ".py",
   "mimetype": "text/x-python",
   "name": "python",
   "nbconvert_exporter": "python",
   "pygments_lexer": "ipython3",
   "version": "3.11.7"
  }
 },
 "nbformat": 4,
 "nbformat_minor": 4
}
