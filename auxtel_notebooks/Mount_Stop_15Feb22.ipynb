{
 "cells": [
  {
   "cell_type": "markdown",
   "id": "153412e6",
   "metadata": {},
   "source": [
    "# AuxTel mount issue - 25-Feb-2022\n",
    "\n",
    "In this notebook, investigate mount issue from 20220215\\\n",
    "Why was the mount issued a \"full stop\"?"
   ]
  },
  {
   "cell_type": "code",
   "execution_count": null,
   "id": "fcd0a71e",
   "metadata": {},
   "outputs": [],
   "source": [
    "import sys, time, os, asyncio\n",
    "\n",
    "from datetime import datetime\n",
    "import numpy as np\n",
    "import matplotlib.pyplot as plt\n",
    "%matplotlib widget\n",
    "import pandas as pd\n",
    "from astropy.time import Time, TimeDelta\n",
    "from lsst.daf.butler import Butler"
   ]
  },
  {
   "cell_type": "code",
   "execution_count": null,
   "id": "5f1e495c",
   "metadata": {},
   "outputs": [],
   "source": [
    "from lsst_efd_client import EfdClient\n",
    "from lsst_efd_client import  __version__ as efdVersion\n",
    "print(efdVersion)"
   ]
  },
  {
   "cell_type": "code",
   "execution_count": null,
   "id": "aed2b09e",
   "metadata": {},
   "outputs": [],
   "source": [
    "# Get EFD client and the butler\n",
    "client = EfdClient('ldf_stable_efd')\n",
    "butler = Butler('/repo/main', collections=\"LATISS/raw/all\")"
   ]
  },
  {
   "cell_type": "code",
   "execution_count": null,
   "id": "124d7e4d-1ddb-467d-a15d-9e06375907fc",
   "metadata": {
    "jupyter": {
     "outputs_hidden": true
    },
    "tags": []
   },
   "outputs": [],
   "source": [
    "for i, expId in enumerate(range(2022021500194, 2022021500279)):\n",
    "    mData = butler.get('raw.metadata', detector=0, exposure=expId)\n",
    "    date_beg = Time(mData['DATE-BEG'], format='isot', scale='tai')\n",
    "    if i > 0:\n",
    "        delta = TimeDelta(date_beg.utc - last_date_beg.utc)\n",
    "        print(i, expId, delta.sec)\n",
    "    last_date_beg = date_beg"
   ]
  },
  {
   "cell_type": "code",
   "execution_count": null,
   "id": "ebb3c6e1-330f-4145-92b7-6a5d89eb7c77",
   "metadata": {
    "tags": []
   },
   "outputs": [],
   "source": [
    "expStart = 2022021500194\n",
    "expEnd = 2022021500245\n",
    "indices = []\n",
    "begs = []\n",
    "ends = []\n",
    "bads = []\n",
    "for i, expId in enumerate(range(expStart, expEnd)):\n",
    "    index = expId - 2022021500000\n",
    "    indices.append(index)\n",
    "    mData = butler.get('raw.metadata', detector=0, exposure=expId)\n",
    "    date_beg = Time(mData['DATE-BEG'], format='isot', scale='tai')\n",
    "    date_end = Time(mData['DATE-END'], format='isot', scale='tai')\n",
    "    if i == 0:\n",
    "        tstart = date_beg.utc\n",
    "    begs.append(date_beg.utc)\n",
    "    ends.append(date_end.utc)\n",
    "    if index in [200,206,218,224,230,236,242,262]:\n",
    "        bads.append(date_beg.utc)\n",
    "tstop = date_end.utc    "
   ]
  },
  {
   "cell_type": "code",
   "execution_count": null,
   "id": "a3d7a9bf-bfd4-420c-89b6-c26dcee6bdec",
   "metadata": {},
   "outputs": [],
   "source": [
    "az = await client.select_packed_time_series(\"lsst.sal.ATMCS.mount_AzEl_Encoders\", \n",
    "                                            \"azimuthCalculatedAngle\",  tstart, tstop)"
   ]
  },
  {
   "cell_type": "code",
   "execution_count": null,
   "id": "f1b23eac-ebd7-4323-943d-dcc84c72d5ea",
   "metadata": {},
   "outputs": [],
   "source": [
    "stopTracking = await client.select_time_series(\"lsst.sal.ATMCS.command_stopTracking\", \n",
    "                                            \"value\",  tstart, tstop)"
   ]
  },
  {
   "cell_type": "code",
   "execution_count": null,
   "id": "65c358df-940b-42b0-a396-87832dd8f522",
   "metadata": {},
   "outputs": [],
   "source": [
    "fig = plt.figure(figsize = (8,4))\n",
    "plt.suptitle(f\"Mount Tracking - ExpIds {expStart} - {expEnd}\", fontsize = 18)\n",
    "ax1 = az['azimuthCalculatedAngle'].plot(legend=True, color='red')\n",
    "for i in range(len(begs)):\n",
    "    ax1.axvline(begs[i].to_datetime(), ymin=0.1, ymax=0.25, color=\"blue\")\n",
    "ax1.axvline(begs[i].to_datetime(), ymin=0.1, ymax=0.25, color=\"blue\", label=\"Shutter open\")    \n",
    "for j in range(len(bads)):\n",
    "    ax1.axvline(bads[j].to_datetime(), ymin=0.27, ymax=0.42, color=\"green\")  \n",
    "ax1.axvline(bads[j].to_datetime(), ymin=0.27, ymax=0.42, color=\"green\", label=\"Bad tracking\")      \n",
    "for k in range(len(stopTracking)):\n",
    "    ax1.axvline(stopTracking.index[k], ymin=0.44, ymax=0.59, color=\"magenta\")\n",
    "ax1.axvline(stopTracking.index[k], ymin=0.44, ymax=0.59, color=\"magenta\", label=\"StopTracking\")    \n",
    "ax1.set_ylim(179.5, 180.5)\n",
    "ax1.legend(loc='upper right')\n",
    "plt.savefig(\"/project/cslage/AuxTel/mount_graphs/Mount_Fails_15Feb22.pdf\")"
   ]
  },
  {
   "cell_type": "code",
   "execution_count": null,
   "id": "0830fafd-8ba0-4681-ad77-99a7fc27396e",
   "metadata": {},
   "outputs": [],
   "source": []
  }
 ],
 "metadata": {
  "kernelspec": {
   "display_name": "LSST",
   "language": "python",
   "name": "lsst"
  },
  "language_info": {
   "codemirror_mode": {
    "name": "ipython",
    "version": 3
   },
   "file_extension": ".py",
   "mimetype": "text/x-python",
   "name": "python",
   "nbconvert_exporter": "python",
   "pygments_lexer": "ipython3",
   "version": "3.8.8"
  }
 },
 "nbformat": 4,
 "nbformat_minor": 5
}
