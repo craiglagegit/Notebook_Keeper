{
 "cells": [
  {
   "cell_type": "markdown",
   "metadata": {},
   "source": [
    "## Queries - Gen3\n",
    "\n",
    "In this notebook, we show several ways to query the Gen3 data\\\n",
    "Craig Lage - 21-May-21"
   ]
  },
  {
   "cell_type": "code",
   "execution_count": null,
   "metadata": {
    "execution": {
     "iopub.execute_input": "2023-10-05T14:45:54.861793Z",
     "iopub.status.busy": "2023-10-05T14:45:54.861488Z",
     "iopub.status.idle": "2023-10-05T14:45:54.864355Z",
     "shell.execute_reply": "2023-10-05T14:45:54.863989Z",
     "shell.execute_reply.started": "2023-10-05T14:45:54.861780Z"
    },
    "tags": []
   },
   "outputs": [],
   "source": [
    "import numpy as np\n",
    "import matplotlib.pyplot as plt\n",
    "import astropy.io.fits as pf\n",
    "from astropy.time import Time, TimeDelta\n",
    "import pandas as pd\n",
    "import lsst.afw.cameraGeom.utils as camGeomUtils\n",
    "import lsst.afw.display as afwDisplay"
   ]
  },
  {
   "cell_type": "code",
   "execution_count": null,
   "metadata": {
    "execution": {
     "iopub.execute_input": "2023-10-05T13:51:00.134294Z",
     "iopub.status.busy": "2023-10-05T13:51:00.134024Z",
     "iopub.status.idle": "2023-10-05T13:51:02.322632Z",
     "shell.execute_reply": "2023-10-05T13:51:02.322195Z",
     "shell.execute_reply.started": "2023-10-05T13:51:00.134281Z"
    },
    "tags": []
   },
   "outputs": [],
   "source": [
    "from lsst.daf.butler import Butler\n",
    "butler = Butler('/repo/embargo', collections=\"LATISS/raw/all\")"
   ]
  },
  {
   "cell_type": "code",
   "execution_count": null,
   "metadata": {
    "execution": {
     "iopub.execute_input": "2023-07-07T00:56:21.770854Z",
     "iopub.status.busy": "2023-07-07T00:56:21.770648Z",
     "iopub.status.idle": "2023-07-07T00:56:25.729022Z",
     "shell.execute_reply": "2023-07-07T00:56:25.728535Z",
     "shell.execute_reply.started": "2023-07-07T00:56:21.770840Z"
    },
    "tags": []
   },
   "outputs": [],
   "source": [
    "for month in [1,2,3,4,5]:\n",
    "    for day in range(1,30):\n",
    "        dayObs = 20230000 + month * 100 + day\n",
    "        for record in butler.registry.queryDimensionRecords(\"exposure\", where=\"exposure.day_obs=%d\"%dayObs):\n",
    "            if 'Cen' in record.target_name:\n",
    "                print(record.id, record.target_name)\n"
   ]
  },
  {
   "cell_type": "code",
   "execution_count": null,
   "metadata": {
    "execution": {
     "iopub.execute_input": "2023-10-04T15:29:05.306280Z",
     "iopub.status.busy": "2023-10-04T15:29:05.305627Z",
     "iopub.status.idle": "2023-10-04T15:29:07.295535Z",
     "shell.execute_reply": "2023-10-04T15:29:07.295031Z",
     "shell.execute_reply.started": "2023-10-04T15:29:05.306265Z"
    },
    "tags": []
   },
   "outputs": [],
   "source": [
    "dayObs = 20231004\n",
    "exposureList = []\n",
    "for record in butler.registry.queryDimensionRecords(\"exposure\", where=\"exposure.day_obs=%d\"%dayObs):\n",
    "    exposureList.append([record.id, record])\n",
    "exposureList.sort(key=lambda x: x[0])\n",
    "for [id,record] in exposureList:\n",
    "    mData = butler.get('raw.metadata', detector=0, exposure=id)\n",
    "    print(record.id, record.observation_type, record.exposure_time, record.physical_filter)#, \\\n",
    "    #      record.target_name, mData['SEQFILE'])"
   ]
  },
  {
   "cell_type": "code",
   "execution_count": null,
   "metadata": {},
   "outputs": [],
   "source": [
    "record.azimuth"
   ]
  },
  {
   "cell_type": "code",
   "execution_count": null,
   "metadata": {},
   "outputs": [],
   "source": [
    "dataId={'instrument':'LATISS', 'detector':0, 'exposure':2022092700233}"
   ]
  },
  {
   "cell_type": "code",
   "execution_count": null,
   "metadata": {},
   "outputs": [],
   "source": [
    "test1 = butler.getURI('raw', dataId={'instrument':'LATISS', 'detector':0, 'exposure':2022092700233})"
   ]
  },
  {
   "cell_type": "code",
   "execution_count": null,
   "metadata": {},
   "outputs": [],
   "source": [
    "test.relativeToPathRoot"
   ]
  },
  {
   "cell_type": "code",
   "execution_count": null,
   "metadata": {},
   "outputs": [],
   "source": [
    "test.geturl()"
   ]
  },
  {
   "cell_type": "code",
   "execution_count": null,
   "metadata": {},
   "outputs": [],
   "source": [
    "test.path"
   ]
  },
  {
   "cell_type": "code",
   "execution_count": null,
   "metadata": {
    "execution": {
     "iopub.execute_input": "2023-05-08T23:34:00.957011Z",
     "iopub.status.busy": "2023-05-08T23:34:00.956756Z",
     "iopub.status.idle": "2023-05-08T23:34:13.217235Z",
     "shell.execute_reply": "2023-05-08T23:34:13.216748Z",
     "shell.execute_reply.started": "2023-05-08T23:34:00.956996Z"
    }
   },
   "outputs": [],
   "source": [
    "data = butler.get('raw', dataId={'instrument':'LATISS', 'detector':0, 'exposure':2023050800002})"
   ]
  },
  {
   "cell_type": "code",
   "execution_count": null,
   "metadata": {
    "execution": {
     "iopub.execute_input": "2023-05-08T23:34:47.141189Z",
     "iopub.status.busy": "2023-05-08T23:34:47.140820Z",
     "iopub.status.idle": "2023-05-08T23:34:47.386792Z",
     "shell.execute_reply": "2023-05-08T23:34:47.386240Z",
     "shell.execute_reply.started": "2023-05-08T23:34:47.141172Z"
    }
   },
   "outputs": [],
   "source": [
    "plt.imshow(test.image.array, interpolation='Nearest')"
   ]
  },
  {
   "cell_type": "code",
   "execution_count": null,
   "metadata": {
    "tags": []
   },
   "outputs": [],
   "source": [
    "test.readFitsWithOptions?"
   ]
  },
  {
   "cell_type": "code",
   "execution_count": null,
   "metadata": {
    "tags": []
   },
   "outputs": [],
   "source": [
    "for i in test:\n",
    "    print(i)"
   ]
  },
  {
   "cell_type": "code",
   "execution_count": null,
   "metadata": {
    "tags": []
   },
   "outputs": [],
   "source": [
    "FWHM_list"
   ]
  },
  {
   "cell_type": "code",
   "execution_count": null,
   "metadata": {},
   "outputs": [],
   "source": [
    "CD1_1 0.0552614153694827\n",
    "CD1_2 0.089281442480291\n",
    "CD2_1 -0.089281442480291\n",
    "CD2_2 0.0552614153694827"
   ]
  },
  {
   "cell_type": "code",
   "execution_count": null,
   "metadata": {
    "execution": {
     "iopub.execute_input": "2023-04-28T16:02:36.444736Z",
     "iopub.status.busy": "2023-04-28T16:02:36.444511Z",
     "iopub.status.idle": "2023-04-28T16:02:37.162406Z",
     "shell.execute_reply": "2023-04-28T16:02:37.161940Z",
     "shell.execute_reply.started": "2023-04-28T16:02:36.444721Z"
    },
    "tags": []
   },
   "outputs": [],
   "source": [
    "expId = 2023031400200\n",
    "mData = butler.get('raw.metadata', detector=0, exposure=expId)\n",
    "print(mData['EXPTIME'])\n"
   ]
  },
  {
   "cell_type": "code",
   "execution_count": null,
   "metadata": {
    "execution": {
     "iopub.execute_input": "2023-05-16T14:54:41.499490Z",
     "iopub.status.busy": "2023-05-16T14:54:41.498883Z",
     "iopub.status.idle": "2023-05-16T14:54:42.321529Z",
     "shell.execute_reply": "2023-05-16T14:54:42.320957Z",
     "shell.execute_reply.started": "2023-05-16T14:54:41.499474Z"
    },
    "tags": []
   },
   "outputs": [],
   "source": [
    "expId = 2023051000565\n",
    "mData = butler.get('raw.metadata', detector=0, exposure=expId)\n",
    "print(mData['SEQFILE'])"
   ]
  },
  {
   "cell_type": "code",
   "execution_count": null,
   "metadata": {
    "execution": {
     "iopub.execute_input": "2023-10-05T16:20:15.593626Z",
     "iopub.status.busy": "2023-10-05T16:20:15.593350Z",
     "iopub.status.idle": "2023-10-05T16:20:15.775528Z",
     "shell.execute_reply": "2023-10-05T16:20:15.775096Z",
     "shell.execute_reply.started": "2023-10-05T16:20:15.593613Z"
    },
    "tags": []
   },
   "outputs": [],
   "source": [
    "for expId in [2023020700100]:\n",
    "    mData = butler.get('raw.metadata', detector=0, exposure=expId)\n",
    "    \n",
    "    "
   ]
  },
  {
   "cell_type": "code",
   "execution_count": null,
   "metadata": {
    "execution": {
     "iopub.execute_input": "2023-10-05T16:20:36.964770Z",
     "iopub.status.busy": "2023-10-05T16:20:36.964430Z",
     "iopub.status.idle": "2023-10-05T16:20:36.967616Z",
     "shell.execute_reply": "2023-10-05T16:20:36.967240Z",
     "shell.execute_reply.started": "2023-10-05T16:20:36.964755Z"
    },
    "tags": []
   },
   "outputs": [],
   "source": [
    "for key in mData.keys():\n",
    "    if key in ['AP0_RC', 'AP0_GAIN','AP1_RC', 'AP1_GAIN']:\n",
    "        print(key, mData[key])"
   ]
  },
  {
   "cell_type": "code",
   "execution_count": null,
   "metadata": {},
   "outputs": [],
   "source": [
    "int(mData['DETSIZE'].split(',')[0].split(':')[1])"
   ]
  },
  {
   "cell_type": "code",
   "execution_count": null,
   "metadata": {},
   "outputs": [],
   "source": [
    "from lsst.daf.butler import Butler\n",
    "butler = Butler('/repo/oga', collections=\"LATISS/raw/all\")\n",
    "expId = 2022101900001\n",
    "exp = butler.get('raw', detector=0, exposure=expId)"
   ]
  },
  {
   "cell_type": "code",
   "execution_count": null,
   "metadata": {},
   "outputs": [],
   "source": [
    "# Look at the data with matplotlib\n",
    "# The raw data doesn't look very good, because of the large pedestal of about 15,000 ADU\n",
    "from matplotlib.colors import LogNorm\n",
    "# Now let's look at ithem\n",
    "def colorbar(mappable):\n",
    "    from mpl_toolkits.axes_grid1 import make_axes_locatable\n",
    "    last_axes = plt.gca()\n",
    "    ax = mappable.axes\n",
    "    fig = ax.figure\n",
    "    divider = make_axes_locatable(ax)\n",
    "    cax = divider.append_axes(\"right\", size=\"5%\", pad=0.05)\n",
    "    cbar = fig.colorbar(mappable, cax=cax)\n",
    "    plt.sca(last_axes)\n",
    "    return cbar\n",
    "\n",
    "plt.figure(figsize=(8,8))\n",
    "plt.suptitle(f\"Image\",fontsize=18)\n",
    "arr = exp.image.array\n",
    "img = plt.imshow(arr, norm=LogNorm(vmin=12000, vmax=20000), interpolation='Nearest', cmap='gray')\n",
    "colorbar(img)\n",
    "plt.tight_layout(h_pad=1)\n",
    "#plt.savefig(REPO_DIR+\"/plots/NGC4755_17Feb21.pdf\")"
   ]
  },
  {
   "cell_type": "code",
   "execution_count": null,
   "metadata": {},
   "outputs": [],
   "source": [
    "plt.plot(arr[1000,0:509])"
   ]
  },
  {
   "cell_type": "code",
   "execution_count": null,
   "metadata": {},
   "outputs": [],
   "source": [
    "np.median(arr)"
   ]
  },
  {
   "cell_type": "code",
   "execution_count": null,
   "metadata": {},
   "outputs": [],
   "source": []
  },
  {
   "cell_type": "code",
   "execution_count": null,
   "metadata": {},
   "outputs": [],
   "source": [
    "dayObs = 20210402\n",
    "expId = 2021040200034\n",
    "butler = Butler('/repo/main', collections=\"LSSTComCam/raw/all\")\n",
    "mData = butler.get('raw.metadata', detector=4, exposure=expId)"
   ]
  },
  {
   "cell_type": "code",
   "execution_count": null,
   "metadata": {},
   "outputs": [],
   "source": [
    "for key in mData.keys():\n",
    "    print(key, mData[key])\n"
   ]
  },
  {
   "cell_type": "code",
   "execution_count": null,
   "metadata": {
    "execution": {
     "iopub.execute_input": "2022-12-14T12:24:41.415340Z",
     "iopub.status.busy": "2022-12-14T12:24:41.414705Z",
     "iopub.status.idle": "2022-12-14T12:24:41.534566Z",
     "shell.execute_reply": "2022-12-14T12:24:41.533717Z",
     "shell.execute_reply.started": "2022-12-14T12:24:41.415316Z"
    }
   },
   "outputs": [],
   "source": [
    "expId = 3021120600576\n",
    "exp = butler.get('raw', detector=55, exposure=expId)"
   ]
  },
  {
   "cell_type": "code",
   "execution_count": null,
   "metadata": {},
   "outputs": [],
   "source": [
    "# Look at the data with matplotlib\n",
    "# The raw data doesn't look very good, because of the large pedestal of about 15,000 ADU\n",
    "from matplotlib.colors import LogNorm\n",
    "# Now let's look at ithem\n",
    "def colorbar(mappable):\n",
    "    from mpl_toolkits.axes_grid1 import make_axes_locatable\n",
    "    last_axes = plt.gca()\n",
    "    ax = mappable.axes\n",
    "    fig = ax.figure\n",
    "    divider = make_axes_locatable(ax)\n",
    "    cax = divider.append_axes(\"right\", size=\"5%\", pad=0.05)\n",
    "    cbar = fig.colorbar(mappable, cax=cax)\n",
    "    plt.sca(last_axes)\n",
    "    return cbar\n",
    "\n",
    "plt.figure(figsize=(8,8))\n",
    "plt.suptitle(f\"Image\",fontsize=18)\n",
    "arr = exp.image.array\n",
    "img = plt.imshow(arr, norm=LogNorm(vmin=10, vmax=100000), interpolation='Nearest', cmap='gray')\n",
    "colorbar(img)\n",
    "plt.tight_layout(h_pad=1)\n",
    "#plt.savefig(REPO_DIR+\"/plots/NGC4755_17Feb21.pdf\")"
   ]
  },
  {
   "cell_type": "code",
   "execution_count": null,
   "metadata": {},
   "outputs": [],
   "source": [
    "arr.std()"
   ]
  },
  {
   "cell_type": "code",
   "execution_count": null,
   "metadata": {},
   "outputs": [],
   "source": [
    "butler = Butler('/repo/main', collections=['LATISS/raw/all','LATISS/calib','u/cslage/calib/latiss/calib.2021021'])"
   ]
  },
  {
   "cell_type": "code",
   "execution_count": null,
   "metadata": {},
   "outputs": [],
   "source": []
  },
  {
   "cell_type": "code",
   "execution_count": null,
   "metadata": {},
   "outputs": [],
   "source": [
    "expId = 2021021700077\n",
    "exp = butler.get('raw', detector=0, exposure=expId)"
   ]
  },
  {
   "cell_type": "code",
   "execution_count": null,
   "metadata": {},
   "outputs": [],
   "source": [
    "expId = 2021021700090\n",
    "bias = butler.get('bias', detector=0, exposure=expId)"
   ]
  },
  {
   "cell_type": "code",
   "execution_count": null,
   "metadata": {},
   "outputs": [],
   "source": [
    "butler = Butler(\"/repo/main\", collections=[\"LSSTCam/raw/all\",\"LSSTCam/calib\",\"u/cslage/calib/13144/calib.20220103\",\\\n",
    "                                           \"u/cslage/tests/linearizer_dm33297_21jan22\"])"
   ]
  },
  {
   "cell_type": "code",
   "execution_count": null,
   "metadata": {},
   "outputs": [],
   "source": [
    "expId = 3021120600576"
   ]
  },
  {
   "cell_type": "code",
   "execution_count": null,
   "metadata": {},
   "outputs": [],
   "source": [
    "bias = butler.get('bias', detector=55, exposure=expId)"
   ]
  },
  {
   "cell_type": "code",
   "execution_count": null,
   "metadata": {},
   "outputs": [],
   "source": [
    "defect = butler.get('defects', detector=55, exposure=expId)"
   ]
  },
  {
   "cell_type": "code",
   "execution_count": null,
   "metadata": {},
   "outputs": [],
   "source": [
    "ptc = butler.get('ptc', detector=55, exposure=expId)"
   ]
  },
  {
   "cell_type": "code",
   "execution_count": null,
   "metadata": {},
   "outputs": [],
   "source": [
    "lin = butler.get('linearizer', detector=55, exposure=expId)"
   ]
  },
  {
   "cell_type": "code",
   "execution_count": null,
   "metadata": {},
   "outputs": [],
   "source": [
    "butler = Butler('/repo/oga', collections=[\"LATISS/raw/all\", \"LATISS/calib\"])\n",
    "mBias = butler.get('bias', detector=0, exposure=2022092900947)"
   ]
  },
  {
   "cell_type": "code",
   "execution_count": null,
   "metadata": {},
   "outputs": [],
   "source": [
    "type(mBias)"
   ]
  },
  {
   "cell_type": "code",
   "execution_count": null,
   "metadata": {
    "execution": {
     "iopub.execute_input": "2023-04-24T12:52:56.346269Z",
     "iopub.status.busy": "2023-04-24T12:52:56.346048Z",
     "iopub.status.idle": "2023-04-24T12:52:58.957454Z",
     "shell.execute_reply": "2023-04-24T12:52:58.956904Z",
     "shell.execute_reply.started": "2023-04-24T12:52:56.346254Z"
    },
    "tags": []
   },
   "outputs": [],
   "source": [
    "# Gen3 butler\n",
    "for month in [1,2,3]:\n",
    "    for day in range(31):\n",
    "        dayObs = int(f\"2023{month:02}{day:02}\")\n",
    "        try:\n",
    "            exposureList = []\n",
    "            for record in butler.registry.queryDimensionRecords(\"exposure\", where=\"exposure.day_obs=%d\"%dayObs):\n",
    "                exposureList.append([record.id, record])\n",
    "            exposureList.sort(key=lambda x: x[0])\n",
    "            for [id,record] in exposureList:\n",
    "                if record.observation_type == 'dark' and record.exposure_time > 60.0:\n",
    "                    print(dayObs, id, record.exposure_time)\n",
    "        except:\n",
    "            continue"
   ]
  },
  {
   "cell_type": "code",
   "execution_count": null,
   "metadata": {},
   "outputs": [],
   "source": [
    "record.observation_type, record.exposure_time"
   ]
  },
  {
   "cell_type": "code",
   "execution_count": null,
   "metadata": {
    "execution": {
     "iopub.execute_input": "2023-10-05T15:00:04.782086Z",
     "iopub.status.busy": "2023-10-05T15:00:04.781597Z",
     "iopub.status.idle": "2023-10-05T15:00:32.381990Z",
     "shell.execute_reply": "2023-10-05T15:00:32.381618Z",
     "shell.execute_reply.started": "2023-10-05T15:00:04.782070Z"
    },
    "tags": []
   },
   "outputs": [],
   "source": [
    "from lsst.daf.butler import Butler\n",
    "embargoButler = Butler('/repo/embargo', collections=\"LATISS/raw/all\")\n",
    "mainButler = Butler('/repo/main', collections=\"LATISS/raw/all\")\n",
    "dates = []\n",
    "RCs = []\n",
    "for year in [2022, 2023]:\n",
    "    for month in range(1,13):\n",
    "        if year == 2021:\n",
    "            butler = mainButler\n",
    "        if year == 2022:\n",
    "            if month < 9:\n",
    "                butler = mainButler\n",
    "            else:\n",
    "                butler = embargoButler\n",
    "        if year == 2023:\n",
    "            butler = embargoButler\n",
    "        for day in range(1,30):\n",
    "            dayObs = int(f\"{year}{month:02}{day:02}\")\n",
    "            expId = dayObs * 100000 + 1\n",
    "            try:\n",
    "                mData = butler.get('raw.metadata', detector=0, exposure=expId)\n",
    "                print(f\"{year}-{month:02}-{day:02} AP0_RC = {mData['AP0_RC']}\")\n",
    "                \n",
    "                RCs.append(mData['AP0_RC'])\n",
    "                date = pd.Timestamp(f\"{year}-{month:02}-{day:02}\")\n",
    "                dates.append(date)\n",
    "                continue\n",
    "            except:\n",
    "                continue"
   ]
  },
  {
   "cell_type": "code",
   "execution_count": null,
   "metadata": {
    "execution": {
     "iopub.execute_input": "2023-10-05T14:48:56.838801Z",
     "iopub.status.busy": "2023-10-05T14:48:56.838518Z",
     "iopub.status.idle": "2023-10-05T14:48:56.841276Z",
     "shell.execute_reply": "2023-10-05T14:48:56.840968Z",
     "shell.execute_reply.started": "2023-10-05T14:48:56.838788Z"
    },
    "tags": []
   },
   "outputs": [],
   "source": [
    "print(len(dates), len(RCs))"
   ]
  },
  {
   "cell_type": "code",
   "execution_count": null,
   "metadata": {
    "execution": {
     "iopub.execute_input": "2023-10-05T14:50:59.640049Z",
     "iopub.status.busy": "2023-10-05T14:50:59.639348Z",
     "iopub.status.idle": "2023-10-05T14:50:59.643307Z",
     "shell.execute_reply": "2023-10-05T14:50:59.642929Z",
     "shell.execute_reply.started": "2023-10-05T14:50:59.640034Z"
    },
    "tags": []
   },
   "outputs": [],
   "source": [
    "df = pd.DataFrame(RCs, dates, columns =['RC'])"
   ]
  },
  {
   "cell_type": "code",
   "execution_count": null,
   "metadata": {
    "execution": {
     "iopub.execute_input": "2023-10-05T14:51:03.537580Z",
     "iopub.status.busy": "2023-10-05T14:51:03.537388Z",
     "iopub.status.idle": "2023-10-05T14:51:03.542466Z",
     "shell.execute_reply": "2023-10-05T14:51:03.542056Z",
     "shell.execute_reply.started": "2023-10-05T14:51:03.537567Z"
    },
    "tags": []
   },
   "outputs": [],
   "source": [
    "df.head(3)"
   ]
  },
  {
   "cell_type": "code",
   "execution_count": null,
   "metadata": {
    "execution": {
     "iopub.execute_input": "2023-10-05T14:51:11.725316Z",
     "iopub.status.busy": "2023-10-05T14:51:11.725043Z",
     "iopub.status.idle": "2023-10-05T14:51:11.880744Z",
     "shell.execute_reply": "2023-10-05T14:51:11.876777Z",
     "shell.execute_reply.started": "2023-10-05T14:51:11.725297Z"
    },
    "tags": []
   },
   "outputs": [],
   "source": [
    "df.plot()"
   ]
  },
  {
   "cell_type": "code",
   "execution_count": null,
   "metadata": {
    "execution": {
     "iopub.execute_input": "2023-10-05T14:59:12.790949Z",
     "iopub.status.busy": "2023-10-05T14:59:12.790618Z",
     "iopub.status.idle": "2023-10-05T14:59:12.796359Z",
     "shell.execute_reply": "2023-10-05T14:59:12.795937Z",
     "shell.execute_reply.started": "2023-10-05T14:59:12.790934Z"
    },
    "tags": []
   },
   "outputs": [],
   "source": [
    "df"
   ]
  },
  {
   "cell_type": "code",
   "execution_count": null,
   "metadata": {
    "execution": {
     "iopub.execute_input": "2023-10-05T14:39:20.628814Z",
     "iopub.status.busy": "2023-10-05T14:39:20.628481Z",
     "iopub.status.idle": "2023-10-05T14:39:21.366054Z",
     "shell.execute_reply": "2023-10-05T14:39:21.365466Z",
     "shell.execute_reply.started": "2023-10-05T14:39:20.628800Z"
    },
    "tags": []
   },
   "outputs": [],
   "source": [
    "plt.plot(dates, RCs)"
   ]
  },
  {
   "cell_type": "code",
   "execution_count": null,
   "metadata": {
    "execution": {
     "iopub.execute_input": "2023-10-05T14:35:14.232246Z",
     "iopub.status.busy": "2023-10-05T14:35:14.231750Z",
     "iopub.status.idle": "2023-10-05T14:35:14.236027Z",
     "shell.execute_reply": "2023-10-05T14:35:14.235640Z",
     "shell.execute_reply.started": "2023-10-05T14:35:14.232232Z"
    },
    "jupyter": {
     "outputs_hidden": true
    },
    "tags": []
   },
   "outputs": [],
   "source": [
    "dayObss"
   ]
  },
  {
   "cell_type": "code",
   "execution_count": null,
   "metadata": {
    "execution": {
     "iopub.execute_input": "2023-10-05T14:38:16.032333Z",
     "iopub.status.busy": "2023-10-05T14:38:16.031904Z",
     "iopub.status.idle": "2023-10-05T14:38:16.036702Z",
     "shell.execute_reply": "2023-10-05T14:38:16.036316Z",
     "shell.execute_reply.started": "2023-10-05T14:38:16.032313Z"
    },
    "tags": []
   },
   "outputs": [],
   "source": [
    "date = Time(f\"{year}-{month:02}-{day:02}T00:00:00\")"
   ]
  },
  {
   "cell_type": "code",
   "execution_count": null,
   "metadata": {
    "execution": {
     "iopub.execute_input": "2023-10-05T14:38:22.457378Z",
     "iopub.status.busy": "2023-10-05T14:38:22.456988Z",
     "iopub.status.idle": "2023-10-05T14:38:22.460118Z",
     "shell.execute_reply": "2023-10-05T14:38:22.459745Z",
     "shell.execute_reply.started": "2023-10-05T14:38:22.457364Z"
    },
    "tags": []
   },
   "outputs": [],
   "source": [
    "date.isot"
   ]
  },
  {
   "cell_type": "code",
   "execution_count": null,
   "metadata": {},
   "outputs": [],
   "source": []
  }
 ],
 "metadata": {
  "kernelspec": {
   "display_name": "LSST",
   "language": "python",
   "name": "lsst"
  },
  "language_info": {
   "codemirror_mode": {
    "name": "ipython",
    "version": 3
   },
   "file_extension": ".py",
   "mimetype": "text/x-python",
   "name": "python",
   "nbconvert_exporter": "python",
   "pygments_lexer": "ipython3",
   "version": "3.11.4"
  }
 },
 "nbformat": 4,
 "nbformat_minor": 4
}
