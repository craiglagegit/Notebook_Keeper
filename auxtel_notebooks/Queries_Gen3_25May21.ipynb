{
 "cells": [
  {
   "cell_type": "markdown",
   "metadata": {},
   "source": [
    "## Queries - Gen3\n",
    "\n",
    "In this notebook, we show several ways to query the Gen3 data\\\n",
    "Craig Lage - 21-May-21"
   ]
  },
  {
   "cell_type": "code",
   "execution_count": null,
   "metadata": {
    "execution": {
     "iopub.execute_input": "2023-05-08T23:31:04.769561Z",
     "iopub.status.busy": "2023-05-08T23:31:04.769230Z",
     "iopub.status.idle": "2023-05-08T23:31:05.256835Z",
     "shell.execute_reply": "2023-05-08T23:31:05.256281Z",
     "shell.execute_reply.started": "2023-05-08T23:31:04.769539Z"
    },
    "tags": []
   },
   "outputs": [],
   "source": [
    "import numpy as np\n",
    "import matplotlib.pyplot as plt\n",
    "import astropy.io.fits as pf\n",
    "import lsst.afw.cameraGeom.utils as camGeomUtils\n",
    "import lsst.afw.display as afwDisplay"
   ]
  },
  {
   "cell_type": "code",
   "execution_count": null,
   "metadata": {
    "execution": {
     "iopub.execute_input": "2023-05-08T23:31:05.283510Z",
     "iopub.status.busy": "2023-05-08T23:31:05.283371Z",
     "iopub.status.idle": "2023-05-08T23:31:07.082147Z",
     "shell.execute_reply": "2023-05-08T23:31:07.081656Z",
     "shell.execute_reply.started": "2023-05-08T23:31:05.283497Z"
    },
    "tags": []
   },
   "outputs": [],
   "source": [
    "from lsst.daf.butler import Butler\n",
    "butler = Butler('/repo/embargo', collections=\"LATISS/raw/all\")"
   ]
  },
  {
   "cell_type": "code",
   "execution_count": null,
   "metadata": {
    "execution": {
     "iopub.execute_input": "2023-05-08T23:31:13.771332Z",
     "iopub.status.busy": "2023-05-08T23:31:13.770952Z",
     "iopub.status.idle": "2023-05-08T23:31:13.809207Z",
     "shell.execute_reply": "2023-05-08T23:31:13.808740Z",
     "shell.execute_reply.started": "2023-05-08T23:31:13.771315Z"
    },
    "tags": []
   },
   "outputs": [],
   "source": [
    "dayObs = 20230508\n",
    "exposureList = []\n",
    "for record in butler.registry.queryDimensionRecords(\"exposure\", where=\"exposure.day_obs=%d\"%dayObs):\n",
    "    exposureList.append([record.id, record])\n",
    "exposureList.sort(key=lambda x: x[0])\n",
    "for [id,record] in exposureList:\n",
    "    print(record.id, record.observation_type, record.exposure_time, record.physical_filter, record.target_name)"
   ]
  },
  {
   "cell_type": "code",
   "execution_count": null,
   "metadata": {},
   "outputs": [],
   "source": [
    "record.azimuth"
   ]
  },
  {
   "cell_type": "code",
   "execution_count": null,
   "metadata": {},
   "outputs": [],
   "source": [
    "dataId={'instrument':'LATISS', 'detector':0, 'exposure':2022092700233}"
   ]
  },
  {
   "cell_type": "code",
   "execution_count": null,
   "metadata": {},
   "outputs": [],
   "source": [
    "test1 = butler.getURI('raw', dataId={'instrument':'LATISS', 'detector':0, 'exposure':2022092700233})"
   ]
  },
  {
   "cell_type": "code",
   "execution_count": null,
   "metadata": {},
   "outputs": [],
   "source": [
    "test.relativeToPathRoot"
   ]
  },
  {
   "cell_type": "code",
   "execution_count": null,
   "metadata": {},
   "outputs": [],
   "source": [
    "test.geturl()"
   ]
  },
  {
   "cell_type": "code",
   "execution_count": null,
   "metadata": {},
   "outputs": [],
   "source": [
    "test.path"
   ]
  },
  {
   "cell_type": "code",
   "execution_count": null,
   "metadata": {
    "execution": {
     "iopub.execute_input": "2023-05-08T23:34:00.957011Z",
     "iopub.status.busy": "2023-05-08T23:34:00.956756Z",
     "iopub.status.idle": "2023-05-08T23:34:13.217235Z",
     "shell.execute_reply": "2023-05-08T23:34:13.216748Z",
     "shell.execute_reply.started": "2023-05-08T23:34:00.956996Z"
    }
   },
   "outputs": [],
   "source": [
    "test = butler.get('raw', dataId={'instrument':'LATISS', 'detector':0, 'exposure':2023050800002})"
   ]
  },
  {
   "cell_type": "code",
   "execution_count": null,
   "metadata": {
    "execution": {
     "iopub.execute_input": "2023-05-08T23:34:47.141189Z",
     "iopub.status.busy": "2023-05-08T23:34:47.140820Z",
     "iopub.status.idle": "2023-05-08T23:34:47.386792Z",
     "shell.execute_reply": "2023-05-08T23:34:47.386240Z",
     "shell.execute_reply.started": "2023-05-08T23:34:47.141172Z"
    }
   },
   "outputs": [],
   "source": [
    "plt.imshow(test.image.array, interpolation='Nearest')"
   ]
  },
  {
   "cell_type": "code",
   "execution_count": null,
   "metadata": {
    "tags": []
   },
   "outputs": [],
   "source": [
    "test.readFitsWithOptions?"
   ]
  },
  {
   "cell_type": "code",
   "execution_count": null,
   "metadata": {
    "tags": []
   },
   "outputs": [],
   "source": [
    "for i in test:\n",
    "    print(i)"
   ]
  },
  {
   "cell_type": "code",
   "execution_count": null,
   "metadata": {
    "tags": []
   },
   "outputs": [],
   "source": [
    "FWHM_list"
   ]
  },
  {
   "cell_type": "code",
   "execution_count": null,
   "metadata": {},
   "outputs": [],
   "source": [
    "CD1_1 0.0552614153694827\n",
    "CD1_2 0.089281442480291\n",
    "CD2_1 -0.089281442480291\n",
    "CD2_2 0.0552614153694827"
   ]
  },
  {
   "cell_type": "code",
   "execution_count": null,
   "metadata": {
    "execution": {
     "iopub.execute_input": "2023-04-28T16:02:36.444736Z",
     "iopub.status.busy": "2023-04-28T16:02:36.444511Z",
     "iopub.status.idle": "2023-04-28T16:02:37.162406Z",
     "shell.execute_reply": "2023-04-28T16:02:37.161940Z",
     "shell.execute_reply.started": "2023-04-28T16:02:36.444721Z"
    },
    "tags": []
   },
   "outputs": [],
   "source": [
    "expId = 2023031400200\n",
    "mData = butler.get('raw.metadata', detector=0, exposure=expId)\n",
    "print(mData['EXPTIME'])\n"
   ]
  },
  {
   "cell_type": "code",
   "execution_count": null,
   "metadata": {
    "execution": {
     "iopub.execute_input": "2023-05-08T23:31:45.682785Z",
     "iopub.status.busy": "2023-05-08T23:31:45.682545Z",
     "iopub.status.idle": "2023-05-08T23:31:46.510438Z",
     "shell.execute_reply": "2023-05-08T23:31:46.509947Z",
     "shell.execute_reply.started": "2023-05-08T23:31:45.682761Z"
    },
    "tags": []
   },
   "outputs": [],
   "source": [
    "expId = 2023050800002\n",
    "mData = butler.get('raw.metadata', detector=0, exposure=expId)\n",
    "for key in mData.keys():\n",
    "    print(key, mData[key])\n"
   ]
  },
  {
   "cell_type": "code",
   "execution_count": null,
   "metadata": {
    "execution": {
     "iopub.execute_input": "2023-02-21T23:16:06.060858Z",
     "iopub.status.busy": "2023-02-21T23:16:06.060609Z",
     "iopub.status.idle": "2023-02-21T23:16:10.091975Z",
     "shell.execute_reply": "2023-02-21T23:16:10.091405Z",
     "shell.execute_reply.started": "2023-02-21T23:16:06.060844Z"
    },
    "tags": []
   },
   "outputs": [],
   "source": [
    "for expId in range(2023020700100, 2023020700130):\n",
    "    mData = butler.get('raw.metadata', detector=0, exposure=expId)\n",
    "    print(f\"{expId}, {mData['SEQFILE']}\")\n",
    "    "
   ]
  },
  {
   "cell_type": "code",
   "execution_count": null,
   "metadata": {},
   "outputs": [],
   "source": [
    "int(mData['DETSIZE'].split(',')[0].split(':')[1])"
   ]
  },
  {
   "cell_type": "code",
   "execution_count": null,
   "metadata": {},
   "outputs": [],
   "source": [
    "from lsst.daf.butler import Butler\n",
    "butler = Butler('/repo/oga', collections=\"LATISS/raw/all\")\n",
    "expId = 2022101900001\n",
    "exp = butler.get('raw', detector=0, exposure=expId)"
   ]
  },
  {
   "cell_type": "code",
   "execution_count": null,
   "metadata": {},
   "outputs": [],
   "source": [
    "# Look at the data with matplotlib\n",
    "# The raw data doesn't look very good, because of the large pedestal of about 15,000 ADU\n",
    "from matplotlib.colors import LogNorm\n",
    "# Now let's look at ithem\n",
    "def colorbar(mappable):\n",
    "    from mpl_toolkits.axes_grid1 import make_axes_locatable\n",
    "    last_axes = plt.gca()\n",
    "    ax = mappable.axes\n",
    "    fig = ax.figure\n",
    "    divider = make_axes_locatable(ax)\n",
    "    cax = divider.append_axes(\"right\", size=\"5%\", pad=0.05)\n",
    "    cbar = fig.colorbar(mappable, cax=cax)\n",
    "    plt.sca(last_axes)\n",
    "    return cbar\n",
    "\n",
    "plt.figure(figsize=(8,8))\n",
    "plt.suptitle(f\"Image\",fontsize=18)\n",
    "arr = exp.image.array\n",
    "img = plt.imshow(arr, norm=LogNorm(vmin=12000, vmax=20000), interpolation='Nearest', cmap='gray')\n",
    "colorbar(img)\n",
    "plt.tight_layout(h_pad=1)\n",
    "#plt.savefig(REPO_DIR+\"/plots/NGC4755_17Feb21.pdf\")"
   ]
  },
  {
   "cell_type": "code",
   "execution_count": null,
   "metadata": {},
   "outputs": [],
   "source": [
    "plt.plot(arr[1000,0:509])"
   ]
  },
  {
   "cell_type": "code",
   "execution_count": null,
   "metadata": {},
   "outputs": [],
   "source": [
    "np.median(arr)"
   ]
  },
  {
   "cell_type": "code",
   "execution_count": null,
   "metadata": {},
   "outputs": [],
   "source": []
  },
  {
   "cell_type": "code",
   "execution_count": null,
   "metadata": {},
   "outputs": [],
   "source": [
    "dayObs = 20210402\n",
    "expId = 2021040200034\n",
    "butler = Butler('/repo/main', collections=\"LSSTComCam/raw/all\")\n",
    "mData = butler.get('raw.metadata', detector=4, exposure=expId)"
   ]
  },
  {
   "cell_type": "code",
   "execution_count": null,
   "metadata": {},
   "outputs": [],
   "source": [
    "for key in mData.keys():\n",
    "    print(key, mData[key])\n"
   ]
  },
  {
   "cell_type": "code",
   "execution_count": null,
   "metadata": {
    "execution": {
     "iopub.execute_input": "2022-12-14T12:24:41.415340Z",
     "iopub.status.busy": "2022-12-14T12:24:41.414705Z",
     "iopub.status.idle": "2022-12-14T12:24:41.534566Z",
     "shell.execute_reply": "2022-12-14T12:24:41.533717Z",
     "shell.execute_reply.started": "2022-12-14T12:24:41.415316Z"
    }
   },
   "outputs": [],
   "source": [
    "expId = 3021120600576\n",
    "exp = butler.get('raw', detector=55, exposure=expId)"
   ]
  },
  {
   "cell_type": "code",
   "execution_count": null,
   "metadata": {},
   "outputs": [],
   "source": [
    "# Look at the data with matplotlib\n",
    "# The raw data doesn't look very good, because of the large pedestal of about 15,000 ADU\n",
    "from matplotlib.colors import LogNorm\n",
    "# Now let's look at ithem\n",
    "def colorbar(mappable):\n",
    "    from mpl_toolkits.axes_grid1 import make_axes_locatable\n",
    "    last_axes = plt.gca()\n",
    "    ax = mappable.axes\n",
    "    fig = ax.figure\n",
    "    divider = make_axes_locatable(ax)\n",
    "    cax = divider.append_axes(\"right\", size=\"5%\", pad=0.05)\n",
    "    cbar = fig.colorbar(mappable, cax=cax)\n",
    "    plt.sca(last_axes)\n",
    "    return cbar\n",
    "\n",
    "plt.figure(figsize=(8,8))\n",
    "plt.suptitle(f\"Image\",fontsize=18)\n",
    "arr = exp.image.array\n",
    "img = plt.imshow(arr, norm=LogNorm(vmin=10, vmax=100000), interpolation='Nearest', cmap='gray')\n",
    "colorbar(img)\n",
    "plt.tight_layout(h_pad=1)\n",
    "#plt.savefig(REPO_DIR+\"/plots/NGC4755_17Feb21.pdf\")"
   ]
  },
  {
   "cell_type": "code",
   "execution_count": null,
   "metadata": {},
   "outputs": [],
   "source": [
    "arr.std()"
   ]
  },
  {
   "cell_type": "code",
   "execution_count": null,
   "metadata": {},
   "outputs": [],
   "source": [
    "butler = Butler('/repo/main', collections=['LATISS/raw/all','LATISS/calib','u/cslage/calib/latiss/calib.2021021'])"
   ]
  },
  {
   "cell_type": "code",
   "execution_count": null,
   "metadata": {},
   "outputs": [],
   "source": []
  },
  {
   "cell_type": "code",
   "execution_count": null,
   "metadata": {},
   "outputs": [],
   "source": [
    "expId = 2021021700077\n",
    "exp = butler.get('raw', detector=0, exposure=expId)"
   ]
  },
  {
   "cell_type": "code",
   "execution_count": null,
   "metadata": {},
   "outputs": [],
   "source": [
    "expId = 2021021700090\n",
    "bias = butler.get('bias', detector=0, exposure=expId)"
   ]
  },
  {
   "cell_type": "code",
   "execution_count": null,
   "metadata": {},
   "outputs": [],
   "source": [
    "butler = Butler(\"/repo/main\", collections=[\"LSSTCam/raw/all\",\"LSSTCam/calib\",\"u/cslage/calib/13144/calib.20220103\",\\\n",
    "                                           \"u/cslage/tests/linearizer_dm33297_21jan22\"])"
   ]
  },
  {
   "cell_type": "code",
   "execution_count": null,
   "metadata": {},
   "outputs": [],
   "source": [
    "expId = 3021120600576"
   ]
  },
  {
   "cell_type": "code",
   "execution_count": null,
   "metadata": {},
   "outputs": [],
   "source": [
    "bias = butler.get('bias', detector=55, exposure=expId)"
   ]
  },
  {
   "cell_type": "code",
   "execution_count": null,
   "metadata": {},
   "outputs": [],
   "source": [
    "defect = butler.get('defects', detector=55, exposure=expId)"
   ]
  },
  {
   "cell_type": "code",
   "execution_count": null,
   "metadata": {},
   "outputs": [],
   "source": [
    "ptc = butler.get('ptc', detector=55, exposure=expId)"
   ]
  },
  {
   "cell_type": "code",
   "execution_count": null,
   "metadata": {},
   "outputs": [],
   "source": [
    "lin = butler.get('linearizer', detector=55, exposure=expId)"
   ]
  },
  {
   "cell_type": "code",
   "execution_count": null,
   "metadata": {},
   "outputs": [],
   "source": [
    "butler = Butler('/repo/oga', collections=[\"LATISS/raw/all\", \"LATISS/calib\"])\n",
    "mBias = butler.get('bias', detector=0, exposure=2022092900947)"
   ]
  },
  {
   "cell_type": "code",
   "execution_count": null,
   "metadata": {},
   "outputs": [],
   "source": [
    "type(mBias)"
   ]
  },
  {
   "cell_type": "code",
   "execution_count": null,
   "metadata": {
    "execution": {
     "iopub.execute_input": "2023-04-24T12:52:56.346269Z",
     "iopub.status.busy": "2023-04-24T12:52:56.346048Z",
     "iopub.status.idle": "2023-04-24T12:52:58.957454Z",
     "shell.execute_reply": "2023-04-24T12:52:58.956904Z",
     "shell.execute_reply.started": "2023-04-24T12:52:56.346254Z"
    },
    "tags": []
   },
   "outputs": [],
   "source": [
    "# Gen3 butler\n",
    "for month in [1,2,3]:\n",
    "    for day in range(31):\n",
    "        dayObs = int(f\"2023{month:02}{day:02}\")\n",
    "        try:\n",
    "            exposureList = []\n",
    "            for record in butler.registry.queryDimensionRecords(\"exposure\", where=\"exposure.day_obs=%d\"%dayObs):\n",
    "                exposureList.append([record.id, record])\n",
    "            exposureList.sort(key=lambda x: x[0])\n",
    "            for [id,record] in exposureList:\n",
    "                if record.observation_type == 'dark' and record.exposure_time > 60.0:\n",
    "                    print(dayObs, id, record.exposure_time)\n",
    "        except:\n",
    "            continue"
   ]
  },
  {
   "cell_type": "code",
   "execution_count": null,
   "metadata": {},
   "outputs": [],
   "source": [
    "record.observation_type, record.exposure_time"
   ]
  }
 ],
 "metadata": {
  "kernelspec": {
   "display_name": "LSST",
   "language": "python",
   "name": "lsst"
  },
  "language_info": {
   "codemirror_mode": {
    "name": "ipython",
    "version": 3
   },
   "file_extension": ".py",
   "mimetype": "text/x-python",
   "name": "python",
   "nbconvert_exporter": "python",
   "pygments_lexer": "ipython3",
   "version": "3.10.10"
  }
 },
 "nbformat": 4,
 "nbformat_minor": 4
}
