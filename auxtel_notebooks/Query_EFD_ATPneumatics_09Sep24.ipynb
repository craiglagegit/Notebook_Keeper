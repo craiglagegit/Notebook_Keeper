{
 "cells": [
  {
   "cell_type": "markdown",
   "id": "ce92fd6f-2395-40f9-8c48-45982e7d4598",
   "metadata": {},
   "source": [
    "# Query EFD ATPneumatics pressures\n",
    "Craig Lage - 09-Sep-24"
   ]
  },
  {
   "cell_type": "code",
   "execution_count": null,
   "id": "6e25b892-6cc3-42b5-b80e-dd159e015869",
   "metadata": {
    "execution": {
     "iopub.execute_input": "2024-09-10T12:47:28.062308Z",
     "iopub.status.busy": "2024-09-10T12:47:28.062167Z",
     "iopub.status.idle": "2024-09-10T12:47:28.604731Z",
     "shell.execute_reply": "2024-09-10T12:47:28.604314Z",
     "shell.execute_reply.started": "2024-09-10T12:47:28.062294Z"
    }
   },
   "outputs": [],
   "source": [
    "import sys, time, os, asyncio, glob\n",
    "import matplotlib.pyplot as plt\n",
    "import numpy as np\n",
    "import pandas as pd\n",
    "from astropy.time import Time, TimeDelta\n",
    "from lsst_efd_client import EfdClient"
   ]
  },
  {
   "cell_type": "code",
   "execution_count": null,
   "id": "361a1ebb-791e-48d2-a7de-71fb004dfb11",
   "metadata": {
    "execution": {
     "iopub.execute_input": "2024-09-10T12:47:28.605894Z",
     "iopub.status.busy": "2024-09-10T12:47:28.605607Z",
     "iopub.status.idle": "2024-09-10T12:47:29.004565Z",
     "shell.execute_reply": "2024-09-10T12:47:29.004166Z",
     "shell.execute_reply.started": "2024-09-10T12:47:28.605881Z"
    }
   },
   "outputs": [],
   "source": [
    "client = EfdClient('usdf_efd')"
   ]
  },
  {
   "cell_type": "code",
   "execution_count": null,
   "id": "f13bd81e-b12e-4366-be8a-6ab323590555",
   "metadata": {
    "execution": {
     "iopub.execute_input": "2024-09-09T20:49:56.645662Z",
     "iopub.status.busy": "2024-09-09T20:49:56.645478Z",
     "iopub.status.idle": "2024-09-09T20:51:00.784337Z",
     "shell.execute_reply": "2024-09-09T20:51:00.783941Z",
     "shell.execute_reply.started": "2024-09-09T20:49:56.645649Z"
    }
   },
   "outputs": [],
   "source": [
    "start = Time(\"2022-01-01 00:00:00Z\", scale='utc')\n",
    "end = Time(\"2024-09-01 00:00:00Z\", scale='utc')\n",
    "main = await client.select_time_series('lsst.sal.ATPneumatics.mainAirSourcePressure', ['pressure'], start, end)\n",
    "len(main)"
   ]
  },
  {
   "cell_type": "code",
   "execution_count": null,
   "id": "8803b424-5cb2-4756-b6b6-34b1721c2fea",
   "metadata": {
    "execution": {
     "iopub.execute_input": "2024-09-09T20:51:00.812167Z",
     "iopub.status.busy": "2024-09-09T20:51:00.812041Z",
     "iopub.status.idle": "2024-09-09T20:53:04.765827Z",
     "shell.execute_reply": "2024-09-09T20:53:04.765513Z",
     "shell.execute_reply.started": "2024-09-09T20:51:00.812156Z"
    }
   },
   "outputs": [],
   "source": [
    "pascal_to_psi = 0.000145038\n",
    "plt.title(\"AuxTel Main Air Source Pressure\")\n",
    "main_psi = main['pressure'] * pascal_to_psi\n",
    "main_psi.plot()\n",
    "plt.ylabel(\"Main air pressure (PSI)\")\n",
    "plt.savefig(\"/home/c/cslage/u/AuxTel/atpneumatics/Main_Air_Pressure_2022-2024.png\")"
   ]
  },
  {
   "cell_type": "code",
   "execution_count": null,
   "id": "66b68710-dead-4fc7-bf87-3966dcddb63f",
   "metadata": {
    "execution": {
     "iopub.execute_input": "2024-09-09T20:53:04.786864Z",
     "iopub.status.busy": "2024-09-09T20:53:04.786731Z",
     "iopub.status.idle": "2024-09-09T20:53:07.906267Z",
     "shell.execute_reply": "2024-09-09T20:53:07.905895Z",
     "shell.execute_reply.started": "2024-09-09T20:53:04.786851Z"
    }
   },
   "outputs": [],
   "source": [
    "start = Time(\"2024-08-01 00:00:00Z\", scale='utc')\n",
    "end = Time(\"2024-09-01 00:00:00Z\", scale='utc')\n",
    "m1 = await client.select_time_series('lsst.sal.ATPneumatics.m1AirPressure', ['pressure'], start, end)\n",
    "m2 = await client.select_time_series('lsst.sal.ATPneumatics.m2AirPressure', ['pressure'], start, end)\n",
    "print(len(m1), len(m2))"
   ]
  },
  {
   "cell_type": "code",
   "execution_count": null,
   "id": "7ce4d178-ddd3-4520-a504-d20e5ccaeed5",
   "metadata": {
    "execution": {
     "iopub.execute_input": "2024-09-09T20:53:07.906944Z",
     "iopub.status.busy": "2024-09-09T20:53:07.906777Z",
     "iopub.status.idle": "2024-09-09T20:53:13.941665Z",
     "shell.execute_reply": "2024-09-09T20:53:13.941267Z",
     "shell.execute_reply.started": "2024-09-09T20:53:07.906933Z"
    }
   },
   "outputs": [],
   "source": [
    "plt.subplots_adjust(hspace=0.8)\n",
    "plt.subplot(2,1,1)\n",
    "plt.title(\"AuxTel M1 Pressure\")\n",
    "m1_psi = m1['pressure'] * pascal_to_psi\n",
    "m1_psi.plot()\n",
    "plt.ylabel(\"M1 pressure (PSI)\")\n",
    "plt.subplot(2,1,2)\n",
    "plt.title(\"AuxTel M2 Pressure\")\n",
    "m2_psi = m2['pressure'] * pascal_to_psi\n",
    "m2_psi.plot()\n",
    "plt.ylabel(\"M2 pressure (PSI)\")\n",
    "plt.savefig(\"/home/c/cslage/u/AuxTel/atpneumatics/M1_M2_Pressure_Aug2024.png\")"
   ]
  },
  {
   "cell_type": "code",
   "execution_count": null,
   "id": "33d16258-0987-499b-b3f9-053abcf286dd",
   "metadata": {
    "execution": {
     "iopub.execute_input": "2024-09-10T12:47:31.734731Z",
     "iopub.status.busy": "2024-09-10T12:47:31.734282Z",
     "iopub.status.idle": "2024-09-10T12:47:31.737586Z",
     "shell.execute_reply": "2024-09-10T12:47:31.737234Z",
     "shell.execute_reply.started": "2024-09-10T12:47:31.734714Z"
    }
   },
   "outputs": [],
   "source": [
    "def m1_pressure(el):\n",
    "    pascal_to_psi = 0.000145038\n",
    "    m1_coefs = [114351.586, -220485.725, 278187.272, -48810.102]\n",
    "    pressure = m1_coefs[0] + m1_coefs[1] * np.cos((90 - el) * np.pi / 180.0) + \\\n",
    "                  m1_coefs[2] * np.cos((90 - el) * np.pi / 180.0)**2 + \\\n",
    "                    m1_coefs[3] * np.cos((90 - el) * np.pi / 180.0)**3\n",
    "    return pressure * pascal_to_psi"
   ]
  },
  {
   "cell_type": "code",
   "execution_count": null,
   "id": "1753ec6d-120b-420b-aeb5-435084285fb1",
   "metadata": {
    "execution": {
     "iopub.execute_input": "2024-09-10T12:54:56.414339Z",
     "iopub.status.busy": "2024-09-10T12:54:56.414138Z",
     "iopub.status.idle": "2024-09-10T12:54:58.453143Z",
     "shell.execute_reply": "2024-09-10T12:54:58.452665Z",
     "shell.execute_reply.started": "2024-09-10T12:54:56.414326Z"
    }
   },
   "outputs": [],
   "source": [
    "start = Time(\"2024-08-21 20:30:00Z\", scale='utc')\n",
    "end = Time(\"2024-08-22 05:00:00Z\", scale='utc')\n",
    "m1 = await client.select_time_series('lsst.sal.ATPneumatics.m1AirPressure', ['pressure'], start, end)\n",
    "m2 = await client.select_time_series('lsst.sal.ATPneumatics.m2AirPressure', ['pressure'], start, end)\n",
    "el = await client.select_time_series(\"lsst.sal.ATMCS.logevent_target\", \\\n",
    "                                            [\"elevation\"],  start, end)\n",
    "print(len(m1), len(m2), len(el))"
   ]
  },
  {
   "cell_type": "code",
   "execution_count": null,
   "id": "9da10303-4bb0-4699-8786-6d2051ecc981",
   "metadata": {
    "execution": {
     "iopub.execute_input": "2024-09-10T12:55:13.529793Z",
     "iopub.status.busy": "2024-09-10T12:55:13.529486Z",
     "iopub.status.idle": "2024-09-10T12:55:14.570971Z",
     "shell.execute_reply": "2024-09-10T12:55:14.570593Z",
     "shell.execute_reply.started": "2024-09-10T12:55:13.529779Z"
    }
   },
   "outputs": [],
   "source": [
    "pascal_to_psi = 0.000145038\n",
    "plt.subplots_adjust(hspace=0.8)\n",
    "plt.subplot(2,1,1)\n",
    "plt.title(\"AuxTel M1 Pressure\")\n",
    "m1_psi = m1['pressure'] * pascal_to_psi\n",
    "m1_psi.plot(label='M1 pressure')\n",
    "plt.ylabel(\"M1 pressure (PSI)\")\n",
    "times = []\n",
    "LUTs = []\n",
    "for i in range(0, len(el), 10000):\n",
    "    elValue = el['elevation'].values[i]\n",
    "    LUT_pressure = m1_pressure(elValue)\n",
    "    LUTs.append(LUT_pressure)\n",
    "    times.append(el.index[i])\n",
    "plt.scatter(times, LUTs, label='LUT', color='black', marker='x')\n",
    "plt.legend()    \n",
    "plt.subplot(2,1,2)\n",
    "plt.title(\"AuxTel M2 Pressure\")\n",
    "m2_psi = m2['pressure'].rolling(100).sum() * pascal_to_psi\n",
    "m2_psi.plot()\n",
    "plt.ylabel(\"M2 pressure (PSI)\")\n",
    "plt.legend()\n",
    "plt.savefig(\"/home/c/cslage/u/AuxTel/atpneumatics/M1_M2_Pressure_21Aug2024.png\")"
   ]
  },
  {
   "cell_type": "code",
   "execution_count": null,
   "id": "0045ac9a-cb97-44f0-8e87-018fa7bdcda5",
   "metadata": {
    "execution": {
     "iopub.execute_input": "2024-09-10T12:23:53.015375Z",
     "iopub.status.busy": "2024-09-10T12:23:53.015016Z",
     "iopub.status.idle": "2024-09-10T12:23:53.143511Z",
     "shell.execute_reply": "2024-09-10T12:23:53.143063Z",
     "shell.execute_reply.started": "2024-09-10T12:23:53.015353Z"
    }
   },
   "outputs": [],
   "source": [
    "plot_el = np.linspace(0, 86, 100)\n",
    "plt.title(\"AuxTel M1 LUT pressure\")\n",
    "plt.plot(plot_el, m1_pressure(plot_el))\n",
    "plt.xlabel(\"Elevation (degrees)\")\n",
    "plt.ylabel(\"LUT pressure (PSI)\")\n",
    "plt.savefig(\"/home/c/cslage/u/AuxTel/atpneumatics/M1_LUT_Pressure_.png\")"
   ]
  },
  {
   "cell_type": "code",
   "execution_count": null,
   "id": "4af9afae-924a-4995-b61b-67d1acc6cbf8",
   "metadata": {},
   "outputs": [],
   "source": []
  }
 ],
 "metadata": {
  "kernelspec": {
   "display_name": "LSST",
   "language": "python",
   "name": "lsst"
  },
  "language_info": {
   "codemirror_mode": {
    "name": "ipython",
    "version": 3
   },
   "file_extension": ".py",
   "mimetype": "text/x-python",
   "name": "python",
   "nbconvert_exporter": "python",
   "pygments_lexer": "ipython3",
   "version": "3.11.9"
  }
 },
 "nbformat": 4,
 "nbformat_minor": 5
}
