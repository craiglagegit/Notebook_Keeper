{
 "cells": [
  {
   "cell_type": "code",
   "execution_count": null,
   "id": "d03ea0af-c12e-48cb-ae14-4166a762fd04",
   "metadata": {
    "execution": {
     "iopub.execute_input": "2023-12-21T15:07:33.358794Z",
     "iopub.status.busy": "2023-12-21T15:07:33.358455Z",
     "iopub.status.idle": "2023-12-21T15:07:33.691195Z",
     "shell.execute_reply": "2023-12-21T15:07:33.690736Z",
     "shell.execute_reply.started": "2023-12-21T15:07:33.358779Z"
    }
   },
   "outputs": [],
   "source": [
    "import numpy as np\n",
    "from matplotlib import pyplot as plt\n",
    "import pickle as pkl\n",
    "%matplotlib inline\n"
   ]
  },
  {
   "cell_type": "markdown",
   "id": "27e54602-2b56-4f26-8377-4a887bcc14bf",
   "metadata": {},
   "source": [
    "# Data from last May"
   ]
  },
  {
   "cell_type": "code",
   "execution_count": null,
   "id": "dabb13d9-24cf-4e28-8f79-2f2f64c61b26",
   "metadata": {
    "execution": {
     "iopub.execute_input": "2023-12-21T15:36:49.190775Z",
     "iopub.status.busy": "2023-12-21T15:36:49.190528Z",
     "iopub.status.idle": "2023-12-21T15:36:49.196663Z",
     "shell.execute_reply": "2023-12-21T15:36:49.196285Z",
     "shell.execute_reply.started": "2023-12-21T15:36:49.190761Z"
    }
   },
   "outputs": [],
   "source": [
    "# Unpickle the data\n",
    "filename = \"/home/c/cslage/u/AuxTel/filter_data/filter_cal_02May23.pkl\"\n",
    "file = open(filename, \"rb\")\n",
    "results = pkl.load(file)\n",
    "file.close()"
   ]
  },
  {
   "cell_type": "code",
   "execution_count": null,
   "id": "0ee9d64f-648d-427c-a2b8-26578dc9f916",
   "metadata": {
    "execution": {
     "iopub.execute_input": "2023-12-21T15:52:18.126001Z",
     "iopub.status.busy": "2023-12-21T15:52:18.125754Z",
     "iopub.status.idle": "2023-12-21T15:52:19.072629Z",
     "shell.execute_reply": "2023-12-21T15:52:19.072179Z",
     "shell.execute_reply.started": "2023-12-21T15:52:18.125984Z"
    }
   },
   "outputs": [],
   "source": [
    "wave_step = 25 # Wavelength step in nm\n",
    "min_wave = 350; max_wave = 875;\n",
    "wave = min_wave\n",
    "counter = 0\n",
    "fig, axs = plt.subplots(6, 4, figsize=(8,12))\n",
    "axs[5][2].set_visible(False); axs[5][3].set_visible(False)\n",
    "plt.suptitle(\"Fiber Spectrograph plots - 02May23\")\n",
    "while wave < max_wave + wave_step / 2.0:\n",
    "    ax_x = counter % 4\n",
    "    ax_y = int(counter / 4)\n",
    "    ax = axs[ax_y][ax_x]\n",
    "    if wave < 500:\n",
    "        filter = \"SDSSg_65mm\"\n",
    "    elif wave < 650:\n",
    "        filter = \"SDSSr_65mm\"\n",
    "    else:\n",
    "        filter = \"SDSSi_65mm\"\n",
    "    [wavelengths, spectrum, exp_time] = results[f'{filter}_{wave}']['fiber_data']\n",
    "    ax.set_title(f\"Mono = {wave}\")\n",
    "    ax.plot(wavelengths, spectrum)\n",
    "    ax.set_xlim(300, 1050)\n",
    "    ax.set_ylim(0,16000)\n",
    "    if ax_x == 0:\n",
    "        ax.set_ylabel(\"Fiber Spec counts\")\n",
    "    else:\n",
    "        ax.set_yticks([])\n",
    "    if ax_y == 5:\n",
    "        ax.set_xlabel(\"Wavelength(nm)\")\n",
    "    else:\n",
    "        ax.set_xticks([])\n",
    "    wave += wave_step\n",
    "    counter += 1\n",
    "plt.savefig(\"/home/c/cslage/u/AuxTel/filter_data/Fiber_Spec_Curves_02May23.png\")"
   ]
  },
  {
   "cell_type": "markdown",
   "id": "2f644664-c601-4871-ba89-e96db09d64df",
   "metadata": {},
   "source": [
    "# Data from December"
   ]
  },
  {
   "cell_type": "code",
   "execution_count": null,
   "id": "f920f47d-0c83-484a-8ae1-9a278aba2fab",
   "metadata": {
    "execution": {
     "iopub.execute_input": "2023-12-21T15:52:33.321638Z",
     "iopub.status.busy": "2023-12-21T15:52:33.321194Z",
     "iopub.status.idle": "2023-12-21T15:52:33.325350Z",
     "shell.execute_reply": "2023-12-21T15:52:33.324947Z",
     "shell.execute_reply.started": "2023-12-21T15:52:33.321622Z"
    }
   },
   "outputs": [],
   "source": [
    "# Unpickle the data\n",
    "filename = \"/home/c/cslage/u/AuxTel/filter_data/qe_test_21Dec23.pkl\"\n",
    "file = open(filename, \"rb\")\n",
    "results = pkl.load(file)\n",
    "file.close()"
   ]
  },
  {
   "cell_type": "code",
   "execution_count": null,
   "id": "eb709b7b-288f-4f8f-a29a-604620ca2946",
   "metadata": {
    "execution": {
     "iopub.execute_input": "2023-12-21T15:52:36.143536Z",
     "iopub.status.busy": "2023-12-21T15:52:36.143264Z",
     "iopub.status.idle": "2023-12-21T15:52:37.439906Z",
     "shell.execute_reply": "2023-12-21T15:52:37.439524Z",
     "shell.execute_reply.started": "2023-12-21T15:52:36.143521Z"
    }
   },
   "outputs": [],
   "source": [
    "wave_step = 25 # Wavelength step in nm\n",
    "min_wave = 350; max_wave = 1025;\n",
    "wave = min_wave\n",
    "counter = 0\n",
    "fig, axs = plt.subplots(7, 4, figsize=(8,14))\n",
    "plt.suptitle(\"Fiber Spectrograph plots - 21Dec23\")\n",
    "while wave < max_wave + wave_step / 2.0:\n",
    "    ax_x = counter % 4\n",
    "    ax_y = int(counter / 4)\n",
    "    ax = axs[ax_y][ax_x]\n",
    "    [wavelengths, spectrum, exp_time] = results[f'{wave}']['fiber_data']\n",
    "    ax.set_title(f\"Mono = {wave}\")\n",
    "    ax.plot(wavelengths, spectrum)\n",
    "    ax.set_xlim(300, 1050)\n",
    "    ax.set_ylim(0,2000)\n",
    "    if ax_x == 0:\n",
    "        ax.set_ylabel(\"Fiber Spec counts\")\n",
    "    else:\n",
    "        ax.set_yticks([])\n",
    "    if ax_y == 7:\n",
    "        ax.set_xlabel(\"Wavelength(nm)\")\n",
    "    else:\n",
    "        ax.set_xticks([])\n",
    "    wave += wave_step\n",
    "    counter += 1\n",
    "plt.savefig(\"/home/c/cslage/u/AuxTel/filter_data/Fiber_Spec_Curves_21Dec23.png\")"
   ]
  },
  {
   "cell_type": "code",
   "execution_count": null,
   "id": "f44aa7e6-9341-433f-9b90-49198d19dc2b",
   "metadata": {},
   "outputs": [],
   "source": []
  }
 ],
 "metadata": {
  "kernelspec": {
   "display_name": "LSST",
   "language": "python",
   "name": "lsst"
  },
  "language_info": {
   "codemirror_mode": {
    "name": "ipython",
    "version": 3
   },
   "file_extension": ".py",
   "mimetype": "text/x-python",
   "name": "python",
   "nbconvert_exporter": "python",
   "pygments_lexer": "ipython3",
   "version": "3.11.4"
  }
 },
 "nbformat": 4,
 "nbformat_minor": 5
}
