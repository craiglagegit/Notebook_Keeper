{
 "cells": [
  {
   "cell_type": "markdown",
   "metadata": {},
   "source": [
    "## LATISS Spectrum FWHM\n",
    "\n",
    "Craig Lage - 26-Feb-25"
   ]
  },
  {
   "cell_type": "code",
   "execution_count": null,
   "metadata": {
    "execution": {
     "iopub.execute_input": "2025-02-26T18:17:46.605839Z",
     "iopub.status.busy": "2025-02-26T18:17:46.605520Z",
     "iopub.status.idle": "2025-02-26T18:17:52.048623Z",
     "shell.execute_reply": "2025-02-26T18:17:52.048182Z",
     "shell.execute_reply.started": "2025-02-26T18:17:46.605821Z"
    },
    "tags": []
   },
   "outputs": [],
   "source": [
    "import numpy as np\n",
    "import matplotlib.pyplot as plt\n",
    "from astropy.time import Time, TimeDelta\n",
    "from lsst.ip.isr import IsrTask, IsrTaskConfig\n",
    "from lsst.summit.utils.plotting import plot\n",
    "import lsst.summit.utils.butlerUtils as butlerUtils\n",
    "from scipy.optimize import curve_fit"
   ]
  },
  {
   "cell_type": "code",
   "execution_count": null,
   "metadata": {
    "execution": {
     "iopub.execute_input": "2025-02-26T18:17:52.049785Z",
     "iopub.status.busy": "2025-02-26T18:17:52.049313Z",
     "iopub.status.idle": "2025-02-26T18:17:52.710094Z",
     "shell.execute_reply": "2025-02-26T18:17:52.709675Z",
     "shell.execute_reply.started": "2025-02-26T18:17:52.049771Z"
    },
    "tags": []
   },
   "outputs": [],
   "source": [
    "butler = butlerUtils.makeDefaultButler(\"LATISS\")\n",
    "instrument = 'LATISS'"
   ]
  },
  {
   "cell_type": "markdown",
   "metadata": {},
   "source": [
    "## Define a simple ISR\n",
    "### Just overscan subtraction and bias subtraction.\n",
    "### An alternative is to get the postISRCDD image instead of the raw data, but the postISRCCD data is not always available."
   ]
  },
  {
   "cell_type": "code",
   "execution_count": null,
   "metadata": {
    "execution": {
     "iopub.execute_input": "2025-02-26T18:18:04.004782Z",
     "iopub.status.busy": "2025-02-26T18:18:04.004487Z",
     "iopub.status.idle": "2025-02-26T18:18:04.032680Z",
     "shell.execute_reply": "2025-02-26T18:18:04.032281Z",
     "shell.execute_reply.started": "2025-02-26T18:18:04.004766Z"
    },
    "tags": []
   },
   "outputs": [],
   "source": [
    "isrConfig = IsrTaskConfig()\n",
    "isrConfig.doLinearize=False\n",
    "isrConfig.doOverscan=True\n",
    "isrConfig.overscan.fitType=\"MEDIAN_PER_ROW\"\n",
    "isrConfig.overscan.doParallelOverscan=True\n",
    "isrConfig.doAssembleCcd=True\n",
    "isrConfig.doBias=False\n",
    "isrConfig.doVariance=False\n",
    "isrConfig.doCrosstalk=False\n",
    "isrConfig.doBrighterFatter=False\n",
    "isrConfig.doDark=False\n",
    "isrConfig.doStrayLight=False\n",
    "isrConfig.doFlat=False\n",
    "isrConfig.doFringe=False\n",
    "isrConfig.doApplyGains=True\n",
    "isrConfig.doDefect=False\n",
    "isrConfig.doNanMasking=True\n",
    "isrConfig.doInterpolate=False\n",
    "isrConfig.doSaturation=False\n",
    "isrConfig.doSaturationInterpolation=False\n",
    "isrTask = IsrTask(config=isrConfig)"
   ]
  },
  {
   "cell_type": "markdown",
   "metadata": {},
   "source": [
    "## Run the ISR and look at the result"
   ]
  },
  {
   "cell_type": "code",
   "execution_count": null,
   "metadata": {
    "execution": {
     "iopub.execute_input": "2025-02-26T18:18:10.606245Z",
     "iopub.status.busy": "2025-02-26T18:18:10.605939Z",
     "iopub.status.idle": "2025-02-26T18:18:14.403773Z",
     "shell.execute_reply": "2025-02-26T18:18:14.403314Z",
     "shell.execute_reply.started": "2025-02-26T18:18:10.606228Z"
    },
    "tags": []
   },
   "outputs": [],
   "source": [
    "%matplotlib inline\n",
    "expId = 2025022500608\n",
    "#expId = 2025022500202\n",
    "instrument='LATISS'\n",
    "exp = butler.get('raw', detector=0, exposure=expId, instrument=instrument)\n",
    "isrResult = isrTask.run(exp) # This runs the ISR\n",
    "x = plot(isrResult.exposure, stretch='linear')"
   ]
  },
  {
   "cell_type": "markdown",
   "metadata": {},
   "source": [
    "## Now plot the spectrum profile.  Since the spectrum is always in about the same place, we should not need to change x1, x2 and y."
   ]
  },
  {
   "cell_type": "code",
   "execution_count": null,
   "metadata": {
    "execution": {
     "iopub.execute_input": "2025-02-26T18:18:21.613434Z",
     "iopub.status.busy": "2025-02-26T18:18:21.613238Z",
     "iopub.status.idle": "2025-02-26T18:18:21.685170Z",
     "shell.execute_reply": "2025-02-26T18:18:21.684785Z",
     "shell.execute_reply.started": "2025-02-26T18:18:21.613418Z"
    }
   },
   "outputs": [],
   "source": [
    "y = 2000\n",
    "x1 = 1700\n",
    "x2 = 1800\n",
    "xs = list(range(x1, x2))\n",
    "fluxes = isrResult.exposure.image.array[y, x1:x2]\n",
    "plt.plot(xs, fluxes)"
   ]
  },
  {
   "cell_type": "markdown",
   "metadata": {
    "execution": {
     "iopub.execute_input": "2025-01-30T15:53:04.631264Z",
     "iopub.status.busy": "2025-01-30T15:53:04.630923Z",
     "iopub.status.idle": "2025-01-30T15:53:04.633491Z",
     "shell.execute_reply": "2025-01-30T15:53:04.633091Z",
     "shell.execute_reply.started": "2025-01-30T15:53:04.631249Z"
    }
   },
   "source": [
    "### Fitting a Gaussian to the spectrum profile.  This code came from DeepSeek.\n",
    "### bg is the background level, A is the peak flux, mu is the Gaussian mean in pixels, sigma is the Gaussian sigma."
   ]
  },
  {
   "cell_type": "code",
   "execution_count": null,
   "metadata": {
    "execution": {
     "iopub.execute_input": "2025-02-26T18:18:29.579455Z",
     "iopub.status.busy": "2025-02-26T18:18:29.579173Z",
     "iopub.status.idle": "2025-02-26T18:18:29.583552Z",
     "shell.execute_reply": "2025-02-26T18:18:29.583173Z",
     "shell.execute_reply.started": "2025-02-26T18:18:29.579440Z"
    }
   },
   "outputs": [],
   "source": [
    "def gaussian(x, bg, A, mu, sigma):\n",
    "    \"\"\"\n",
    "    Gaussian function\n",
    "    \"\"\"\n",
    "    return bg + A * np.exp(-(x - mu)**2 / (2 * sigma**2))\n",
    "\n",
    "def fit_gaussian(position_data, flux_data):\n",
    "    \"\"\"\n",
    "    Fits a Gaussian curve to flux vs position data\n",
    "    \n",
    "    Args:\n",
    "        position_data: 1D array of position values\n",
    "        flux_data: 1D array of corresponding flux values\n",
    "    \n",
    "    Returns:\n",
    "        Tuple of (A, mu, sigma) - optimal parameters for the Gaussian fit\n",
    "    \"\"\"\n",
    "    # Calculate initial parameter guesses\n",
    "    bg_guess = 0\n",
    "    A_guess = np.max(flux_data)\n",
    "    weighted_sum = np.sum(flux_data * position_data)\n",
    "    total_flux = np.sum(flux_data)\n",
    "    \n",
    "    if total_flux == 0:\n",
    "        raise ValueError(\"Total flux cannot be zero for fitting\")\n",
    "    \n",
    "    mu_guess = weighted_sum / total_flux\n",
    "    sigma_guess = np.sqrt(np.sum(flux_data * (position_data - mu_guess)**2) / total_flux)\n",
    "    \n",
    "    # Perform the curve fit\n",
    "    params, _ = curve_fit(gaussian, \n",
    "                         position_data, \n",
    "                         flux_data, \n",
    "                         p0=[bg_guess, A_guess, mu_guess, sigma_guess])\n",
    "    \n",
    "    return tuple(params)"
   ]
  },
  {
   "cell_type": "code",
   "execution_count": null,
   "metadata": {
    "execution": {
     "iopub.execute_input": "2025-02-26T18:18:33.018147Z",
     "iopub.status.busy": "2025-02-26T18:18:33.017848Z",
     "iopub.status.idle": "2025-02-26T18:18:33.021843Z",
     "shell.execute_reply": "2025-02-26T18:18:33.021449Z",
     "shell.execute_reply.started": "2025-02-26T18:18:33.018130Z"
    }
   },
   "outputs": [],
   "source": [
    "bg, A, mu, sigma = fit_gaussian(xs, fluxes)\n",
    "print(bg, A, mu, sigma)"
   ]
  },
  {
   "cell_type": "markdown",
   "metadata": {},
   "source": [
    "### Now plot it."
   ]
  },
  {
   "cell_type": "code",
   "execution_count": null,
   "metadata": {
    "execution": {
     "iopub.execute_input": "2025-02-26T18:18:39.191393Z",
     "iopub.status.busy": "2025-02-26T18:18:39.191076Z",
     "iopub.status.idle": "2025-02-26T18:18:39.306925Z",
     "shell.execute_reply": "2025-02-26T18:18:39.306586Z",
     "shell.execute_reply.started": "2025-02-26T18:18:39.191377Z"
    }
   },
   "outputs": [],
   "source": [
    "y_fit = gaussian(xs, bg, A, mu, sigma)\n",
    "plt.plot(xs, fluxes)\n",
    "plt.plot(xs, y_fit, marker='x')\n",
    "plt.title(f\"LATISS Spectra {expId}, Y={y}\")\n",
    "fwhm = sigma / 10.0 * 2.355\n",
    "plt.text(mu+20, 20000, f\"FWHM = {fwhm:.2f} arcsec\")\n",
    "plt.savefig(f'/home/c/cslage/u/AuxTel/fwhm/Spectrum_FWHM_{expId}.png')"
   ]
  },
  {
   "cell_type": "code",
   "execution_count": null,
   "metadata": {},
   "outputs": [],
   "source": []
  }
 ],
 "metadata": {
  "kernelspec": {
   "display_name": "LSST",
   "language": "python",
   "name": "lsst"
  },
  "language_info": {
   "codemirror_mode": {
    "name": "ipython",
    "version": 3
   },
   "file_extension": ".py",
   "mimetype": "text/x-python",
   "name": "python",
   "nbconvert_exporter": "python",
   "pygments_lexer": "ipython3",
   "version": "3.11.9"
  }
 },
 "nbformat": 4,
 "nbformat_minor": 4
}
