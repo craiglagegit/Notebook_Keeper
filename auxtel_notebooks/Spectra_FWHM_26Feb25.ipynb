{
 "cells": [
  {
   "cell_type": "markdown",
   "metadata": {},
   "source": [
    "## LATISS Spectrum FWHM\n",
    "\n",
    "Craig Lage - 26-Feb-25"
   ]
  },
  {
   "cell_type": "code",
   "execution_count": null,
   "metadata": {
    "execution": {
     "iopub.execute_input": "2025-03-19T11:06:13.894478Z",
     "iopub.status.busy": "2025-03-19T11:06:13.894351Z",
     "iopub.status.idle": "2025-03-19T11:06:24.768596Z",
     "shell.execute_reply": "2025-03-19T11:06:24.768188Z",
     "shell.execute_reply.started": "2025-03-19T11:06:13.894463Z"
    },
    "tags": []
   },
   "outputs": [],
   "source": [
    "import numpy as np\n",
    "import matplotlib.pyplot as plt\n",
    "from astropy.time import Time, TimeDelta\n",
    "from lsst.ip.isr import IsrTask, IsrTaskConfig\n",
    "from lsst.summit.utils.plotting import plot\n",
    "import lsst.summit.utils.butlerUtils as butlerUtils\n",
    "from scipy.optimize import curve_fit"
   ]
  },
  {
   "cell_type": "code",
   "execution_count": null,
   "metadata": {
    "execution": {
     "iopub.execute_input": "2025-03-19T11:06:24.769972Z",
     "iopub.status.busy": "2025-03-19T11:06:24.769507Z",
     "iopub.status.idle": "2025-03-19T11:06:25.233482Z",
     "shell.execute_reply": "2025-03-19T11:06:25.233054Z",
     "shell.execute_reply.started": "2025-03-19T11:06:24.769956Z"
    },
    "tags": []
   },
   "outputs": [],
   "source": [
    "butler = butlerUtils.makeDefaultButler(\"LATISS\")\n",
    "instrument = 'LATISS'"
   ]
  },
  {
   "cell_type": "markdown",
   "metadata": {},
   "source": [
    "## Define a simple ISR\n",
    "### Just overscan subtraction and bias subtraction.\n",
    "### An alternative is to get the postISRCDD image instead of the raw data, but the postISRCCD data is not always available."
   ]
  },
  {
   "cell_type": "code",
   "execution_count": null,
   "metadata": {
    "execution": {
     "iopub.execute_input": "2025-03-19T11:06:25.236165Z",
     "iopub.status.busy": "2025-03-19T11:06:25.236040Z",
     "iopub.status.idle": "2025-03-19T11:06:25.262611Z",
     "shell.execute_reply": "2025-03-19T11:06:25.262220Z",
     "shell.execute_reply.started": "2025-03-19T11:06:25.236152Z"
    },
    "tags": []
   },
   "outputs": [],
   "source": [
    "isrConfig = IsrTaskConfig()\n",
    "isrConfig.doLinearize=False\n",
    "isrConfig.doOverscan=True\n",
    "isrConfig.overscan.fitType=\"MEDIAN_PER_ROW\"\n",
    "isrConfig.overscan.doParallelOverscan=True\n",
    "isrConfig.doAssembleCcd=True\n",
    "isrConfig.doBias=False\n",
    "isrConfig.doVariance=False\n",
    "isrConfig.doCrosstalk=False\n",
    "isrConfig.doBrighterFatter=False\n",
    "isrConfig.doDark=False\n",
    "isrConfig.doStrayLight=False\n",
    "isrConfig.doFlat=False\n",
    "isrConfig.doFringe=False\n",
    "isrConfig.doApplyGains=True\n",
    "isrConfig.doDefect=False\n",
    "isrConfig.doNanMasking=True\n",
    "isrConfig.doInterpolate=False\n",
    "isrConfig.doSaturation=False\n",
    "isrConfig.doSaturationInterpolation=False\n",
    "isrTask = IsrTask(config=isrConfig)"
   ]
  },
  {
   "cell_type": "markdown",
   "metadata": {},
   "source": [
    "## Run the ISR and look at the result"
   ]
  },
  {
   "cell_type": "code",
   "execution_count": null,
   "metadata": {
    "execution": {
     "iopub.execute_input": "2025-03-19T15:22:48.858624Z",
     "iopub.status.busy": "2025-03-19T15:22:48.858153Z",
     "iopub.status.idle": "2025-03-19T15:22:53.823887Z",
     "shell.execute_reply": "2025-03-19T15:22:53.823506Z",
     "shell.execute_reply.started": "2025-03-19T15:22:48.858606Z"
    },
    "tags": []
   },
   "outputs": [],
   "source": [
    "%matplotlib inline\n",
    "expId = 2025031800354\n",
    "#expId = 2025022500202\n",
    "instrument='LATISS'\n",
    "exp = butler.get('raw', detector=0, exposure=expId, instrument=instrument)\n",
    "isrResult = isrTask.run(exp) # This runs the ISR\n",
    "x = plot(isrResult.exposure, stretch='linear')"
   ]
  },
  {
   "cell_type": "markdown",
   "metadata": {},
   "source": [
    "## Now plot the spectrum profile.  Since the spectrum is always in about the same place, we should not need to change x1, x2 and y."
   ]
  },
  {
   "cell_type": "code",
   "execution_count": null,
   "metadata": {
    "execution": {
     "iopub.execute_input": "2025-03-19T15:22:55.173336Z",
     "iopub.status.busy": "2025-03-19T15:22:55.172770Z",
     "iopub.status.idle": "2025-03-19T15:22:55.254154Z",
     "shell.execute_reply": "2025-03-19T15:22:55.253752Z",
     "shell.execute_reply.started": "2025-03-19T15:22:55.173320Z"
    }
   },
   "outputs": [],
   "source": [
    "y = 2000\n",
    "x1 = 1700\n",
    "x2 = 1800\n",
    "xs = list(range(x1, x2))\n",
    "fluxes = isrResult.exposure.image.array[y, x1:x2]\n",
    "plt.plot(xs, fluxes)"
   ]
  },
  {
   "cell_type": "markdown",
   "metadata": {
    "execution": {
     "iopub.execute_input": "2025-01-30T15:53:04.631264Z",
     "iopub.status.busy": "2025-01-30T15:53:04.630923Z",
     "iopub.status.idle": "2025-01-30T15:53:04.633491Z",
     "shell.execute_reply": "2025-01-30T15:53:04.633091Z",
     "shell.execute_reply.started": "2025-01-30T15:53:04.631249Z"
    }
   },
   "source": [
    "### Fitting a Gaussian to the spectrum profile.  This code came from DeepSeek.\n",
    "### bg is the background level, A is the peak flux, mu is the Gaussian mean in pixels, sigma is the Gaussian sigma."
   ]
  },
  {
   "cell_type": "code",
   "execution_count": null,
   "metadata": {
    "execution": {
     "iopub.execute_input": "2025-03-19T15:23:10.214763Z",
     "iopub.status.busy": "2025-03-19T15:23:10.214486Z",
     "iopub.status.idle": "2025-03-19T15:23:10.218136Z",
     "shell.execute_reply": "2025-03-19T15:23:10.217782Z",
     "shell.execute_reply.started": "2025-03-19T15:23:10.214749Z"
    }
   },
   "outputs": [],
   "source": [
    "def gaussian(x, bg, A, mu, sigma):\n",
    "    \"\"\"\n",
    "    Gaussian function\n",
    "    \"\"\"\n",
    "    return bg + A * np.exp(-(x - mu)**2 / (2 * sigma**2))\n",
    "\n",
    "def fit_gaussian(position_data, flux_data):\n",
    "    \"\"\"\n",
    "    Fits a Gaussian curve to flux vs position data\n",
    "    \n",
    "    Args:\n",
    "        position_data: 1D array of position values\n",
    "        flux_data: 1D array of corresponding flux values\n",
    "    \n",
    "    Returns:\n",
    "        Tuple of (A, mu, sigma) - optimal parameters for the Gaussian fit\n",
    "    \"\"\"\n",
    "    # Calculate initial parameter guesses\n",
    "    bg_guess = 0\n",
    "    A_guess = np.max(flux_data)\n",
    "    weighted_sum = np.sum(flux_data * position_data)\n",
    "    total_flux = np.sum(flux_data)\n",
    "    \n",
    "    if total_flux == 0:\n",
    "        raise ValueError(\"Total flux cannot be zero for fitting\")\n",
    "    \n",
    "    mu_guess = weighted_sum / total_flux\n",
    "    sigma_guess = np.sqrt(np.sum(flux_data * (position_data - mu_guess)**2) / total_flux)\n",
    "    \n",
    "    # Perform the curve fit\n",
    "    params, _ = curve_fit(gaussian, \n",
    "                         position_data, \n",
    "                         flux_data, \n",
    "                         p0=[bg_guess, A_guess, mu_guess, sigma_guess])\n",
    "    \n",
    "    return tuple(params)"
   ]
  },
  {
   "cell_type": "code",
   "execution_count": null,
   "metadata": {
    "execution": {
     "iopub.execute_input": "2025-03-19T15:23:10.891828Z",
     "iopub.status.busy": "2025-03-19T15:23:10.891483Z",
     "iopub.status.idle": "2025-03-19T15:23:10.895951Z",
     "shell.execute_reply": "2025-03-19T15:23:10.895579Z",
     "shell.execute_reply.started": "2025-03-19T15:23:10.891808Z"
    }
   },
   "outputs": [],
   "source": [
    "bg, A, mu, sigma = fit_gaussian(xs, fluxes)\n",
    "print(bg, A, mu, sigma)"
   ]
  },
  {
   "cell_type": "markdown",
   "metadata": {},
   "source": [
    "### Now plot it."
   ]
  },
  {
   "cell_type": "code",
   "execution_count": null,
   "metadata": {
    "execution": {
     "iopub.execute_input": "2025-03-19T19:50:14.354340Z",
     "iopub.status.busy": "2025-03-19T19:50:14.354026Z",
     "iopub.status.idle": "2025-03-19T19:50:14.499344Z",
     "shell.execute_reply": "2025-03-19T19:50:14.498969Z",
     "shell.execute_reply.started": "2025-03-19T19:50:14.354324Z"
    }
   },
   "outputs": [],
   "source": [
    "y_fit = gaussian(xs, bg, A, mu, sigma)\n",
    "plt.plot(xs, fluxes)\n",
    "plt.plot(xs, y_fit, marker='x')\n",
    "plt.title(f\"LATISS Spectra {expId}, Y={y}\")\n",
    "fwhm = sigma / 10.0 * 2.355\n",
    "plt.text(mu+20, 300, f\"FWHM = {fwhm:.2f} arcsec\")\n",
    "plt.savefig(f'/home/c/cslage/u/AuxTel/fwhm/Spectrum_FWHM_{expId}.png')"
   ]
  },
  {
   "cell_type": "code",
   "execution_count": null,
   "metadata": {},
   "outputs": [],
   "source": []
  }
 ],
 "metadata": {
  "kernelspec": {
   "display_name": "LSST",
   "language": "python",
   "name": "lsst"
  },
  "language_info": {
   "codemirror_mode": {
    "name": "ipython",
    "version": 3
   },
   "file_extension": ".py",
   "mimetype": "text/x-python",
   "name": "python",
   "nbconvert_exporter": "python",
   "pygments_lexer": "ipython3",
   "version": "3.12.9"
  }
 },
 "nbformat": 4,
 "nbformat_minor": 4
}
