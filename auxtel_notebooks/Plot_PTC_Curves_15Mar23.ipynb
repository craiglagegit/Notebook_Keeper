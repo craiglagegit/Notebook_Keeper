{
 "cells": [
  {
   "cell_type": "markdown",
   "id": "e8cc3a14-f377-44f4-ab4c-97c9c3047697",
   "metadata": {},
   "source": [
    "# AuxTel PTC plots with no RG sequencer file.\n",
    "Implementing 20 pixel edge mask in PTC \\\n",
    "Craig Lage 15-Mar-23"
   ]
  },
  {
   "cell_type": "code",
   "execution_count": null,
   "id": "a148b369-8943-4861-a51e-9cbeea70feb3",
   "metadata": {
    "execution": {
     "iopub.execute_input": "2023-03-24T11:40:22.092737Z",
     "iopub.status.busy": "2023-03-24T11:40:22.092277Z",
     "iopub.status.idle": "2023-03-24T11:40:23.811153Z",
     "shell.execute_reply": "2023-03-24T11:40:23.810636Z",
     "shell.execute_reply.started": "2023-03-24T11:40:22.092721Z"
    },
    "tags": []
   },
   "outputs": [],
   "source": [
    "import numpy as np\n",
    "from matplotlib import pyplot as plt\n",
    "\n",
    "from lsst.daf.butler import Butler\n",
    "from lsst.ip.isr import IsrTask, IsrTaskConfig\n",
    "from mpl_toolkits.axes_grid1 import make_axes_locatable\n",
    "from matplotlib.colors import LogNorm\n",
    "from lsst.cp.pipe.ptc import PlotPhotonTransferCurveTask, PlotPhotonTransferCurveConfig\n",
    "%matplotlib inline\n",
    "from IPython.display import Image, display\n"
   ]
  },
  {
   "cell_type": "code",
   "execution_count": null,
   "id": "2f12b734-56f1-4679-a6a9-7507a05efe28",
   "metadata": {
    "execution": {
     "iopub.execute_input": "2023-03-24T11:59:45.382969Z",
     "iopub.status.busy": "2023-03-24T11:59:45.382452Z",
     "iopub.status.idle": "2023-03-24T11:59:46.675818Z",
     "shell.execute_reply": "2023-03-24T11:59:46.675406Z",
     "shell.execute_reply.started": "2023-03-24T11:59:45.382952Z"
    },
    "tags": []
   },
   "outputs": [],
   "source": [
    "# To save them\n",
    "plotButler = Butler(\"/repo/embargo\", collections=[\"u/cslage/sdf/latiss/ptc_20230321_v26_noRG.plot\"])\n",
    "detector=0\n",
    "plotNames = ['ptcVarMean', 'ptcVarMeanLog']\n",
    "for plotName in plotNames:\n",
    "    ref = plotButler.registry.findDataset(plotName, detector=detector)\n",
    "    filename = f\"/home/c/cslage/u/AuxTel/gains/{plotName}_20230321_v26_noRG.png\"\n",
    "    uri = plotButler.getURI(ref)\n",
    "    with open(filename, \"wb\") as f:\n",
    "        f.write(uri.read())\n"
   ]
  },
  {
   "cell_type": "code",
   "execution_count": null,
   "id": "7d2f547c-3b33-4dba-93e5-60e469ccd78f",
   "metadata": {
    "execution": {
     "iopub.execute_input": "2023-03-24T11:53:03.389095Z",
     "iopub.status.busy": "2023-03-24T11:53:03.388813Z",
     "iopub.status.idle": "2023-03-24T11:53:04.507519Z",
     "shell.execute_reply": "2023-03-24T11:53:04.507069Z",
     "shell.execute_reply.started": "2023-03-24T11:53:03.389078Z"
    },
    "tags": []
   },
   "outputs": [],
   "source": [
    "# Just to view them\n",
    "plotButler = Butler(\"/repo/embargo\", collections=[\"u/cslage/sdf/latiss/ptc_20230321_v26_noRG.plot\"])\n",
    "detector=0\n",
    "plotNames = ['ptcVarMean', 'ptcVarMeanLog']\n",
    "for plotName in plotNames:\n",
    "    ref = plotButler.registry.findDataset(plotName, detector=detector)\n",
    "    uri = plotButler.getURI(ref)\n",
    "    display(Image(data=uri.read()))\n"
   ]
  },
  {
   "cell_type": "code",
   "execution_count": null,
   "id": "6bdcb4d4-eed9-488e-9a52-f327954c8a6d",
   "metadata": {},
   "outputs": [],
   "source": []
  }
 ],
 "metadata": {
  "kernelspec": {
   "display_name": "LSST",
   "language": "python",
   "name": "lsst"
  },
  "language_info": {
   "codemirror_mode": {
    "name": "ipython",
    "version": 3
   },
   "file_extension": ".py",
   "mimetype": "text/x-python",
   "name": "python",
   "nbconvert_exporter": "python",
   "pygments_lexer": "ipython3",
   "version": "3.10.9"
  },
  "toc-autonumbering": false,
  "toc-showcode": false,
  "toc-showmarkdowntxt": true
 },
 "nbformat": 4,
 "nbformat_minor": 5
}
