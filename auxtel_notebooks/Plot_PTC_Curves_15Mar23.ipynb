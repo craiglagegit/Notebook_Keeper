{
 "cells": [
  {
   "cell_type": "markdown",
   "id": "e8cc3a14-f377-44f4-ab4c-97c9c3047697",
   "metadata": {},
   "source": [
    "# AuxTel PTC plots with no RG sequencer file.\n",
    "Implementing 20 pixel edge mask in PTC \\\n",
    "Craig Lage 15-Mar-23"
   ]
  },
  {
   "cell_type": "code",
   "execution_count": null,
   "id": "a148b369-8943-4861-a51e-9cbeea70feb3",
   "metadata": {
    "execution": {
     "iopub.execute_input": "2023-09-29T16:54:01.803470Z",
     "iopub.status.busy": "2023-09-29T16:54:01.803278Z",
     "iopub.status.idle": "2023-09-29T16:54:05.454203Z",
     "shell.execute_reply": "2023-09-29T16:54:05.453728Z",
     "shell.execute_reply.started": "2023-09-29T16:54:01.803457Z"
    },
    "tags": []
   },
   "outputs": [],
   "source": [
    "import numpy as np\n",
    "from matplotlib import pyplot as plt\n",
    "\n",
    "from lsst.daf.butler import Butler\n",
    "from lsst.ip.isr import IsrTask, IsrTaskConfig\n",
    "from mpl_toolkits.axes_grid1 import make_axes_locatable\n",
    "from matplotlib.colors import LogNorm\n",
    "from lsst.cp.pipe.ptc import PlotPhotonTransferCurveTask, PlotPhotonTransferCurveConfig\n",
    "%matplotlib inline\n",
    "from IPython.display import Image, display\n"
   ]
  },
  {
   "cell_type": "code",
   "execution_count": null,
   "id": "2f12b734-56f1-4679-a6a9-7507a05efe28",
   "metadata": {
    "execution": {
     "iopub.execute_input": "2023-03-24T11:59:45.382969Z",
     "iopub.status.busy": "2023-03-24T11:59:45.382452Z",
     "iopub.status.idle": "2023-03-24T11:59:46.675818Z",
     "shell.execute_reply": "2023-03-24T11:59:46.675406Z",
     "shell.execute_reply.started": "2023-03-24T11:59:45.382952Z"
    },
    "tags": []
   },
   "outputs": [],
   "source": [
    "# To save them\n",
    "plotButler = Butler(\"/repo/embargo\", collections=[\"u/jchiang/ptc_20230913_w_2023_36\"])\n",
    "detector=0\n",
    "plotNames = ['ptcVarMean', 'ptcVarMeanLog']\n",
    "for plotName in plotNames:\n",
    "    ref = plotButler.registry.findDataset(plotName, detector=detector)\n",
    "    filename = f\"/home/c/cslage/u/AuxTel/gains/{plotName}_20230321_v26_noRG.png\"\n",
    "    uri = plotButler.getURI(ref)\n",
    "    with open(filename, \"wb\") as f:\n",
    "        f.write(uri.read())\n"
   ]
  },
  {
   "cell_type": "code",
   "execution_count": null,
   "id": "7d2f547c-3b33-4dba-93e5-60e469ccd78f",
   "metadata": {
    "execution": {
     "iopub.execute_input": "2023-09-14T16:53:43.244502Z",
     "iopub.status.busy": "2023-09-14T16:53:43.244125Z",
     "iopub.status.idle": "2023-09-14T16:53:46.055650Z",
     "shell.execute_reply": "2023-09-14T16:53:46.055163Z",
     "shell.execute_reply.started": "2023-09-14T16:53:43.244485Z"
    },
    "tags": []
   },
   "outputs": [],
   "source": [
    "# Just to view them\n",
    "plotButler = Butler(\"/repo/embargo\", collections=[\"u/jchiang/ptc_20230913_w_2023_36\"])\n",
    "detector=0\n",
    "plotNames = ['ptcVarMean', 'ptcVarMeanLog']\n",
    "for plotName in plotNames:\n",
    "    ref = plotButler.registry.findDataset(plotName, detector=detector)\n",
    "    uri = plotButler.getURI(ref)\n",
    "    display(Image(data=uri.read()))\n"
   ]
  },
  {
   "cell_type": "code",
   "execution_count": null,
   "id": "9189949f-b38a-4e04-bb25-f428a5775c5a",
   "metadata": {
    "execution": {
     "iopub.execute_input": "2023-09-29T16:55:46.767421Z",
     "iopub.status.busy": "2023-09-29T16:55:46.767122Z",
     "iopub.status.idle": "2023-09-29T16:55:48.636563Z",
     "shell.execute_reply": "2023-09-29T16:55:48.636105Z",
     "shell.execute_reply.started": "2023-09-29T16:55:46.767402Z"
    },
    "tags": []
   },
   "outputs": [],
   "source": [
    "# Get the PTC data\n",
    "ptcButler = Butler(\"/repo/embargo\", collections=[\"u/jchiang/ptc_20230926_w_2023_38\"])\n",
    "ptc = ptcButler.get('ptc', instrument=\"LATISS\", detector=0)\n"
   ]
  },
  {
   "cell_type": "code",
   "execution_count": null,
   "id": "6bdcb4d4-eed9-488e-9a52-f327954c8a6d",
   "metadata": {
    "execution": {
     "iopub.execute_input": "2023-09-29T16:57:25.755701Z",
     "iopub.status.busy": "2023-09-29T16:57:25.755413Z",
     "iopub.status.idle": "2023-09-29T16:57:25.759092Z",
     "shell.execute_reply": "2023-09-29T16:57:25.758726Z",
     "shell.execute_reply.started": "2023-09-29T16:57:25.755687Z"
    },
    "tags": []
   },
   "outputs": [],
   "source": [
    "ptc.rawExpTimes['C10']"
   ]
  },
  {
   "cell_type": "code",
   "execution_count": null,
   "id": "9fa9e4fd-26b7-49d4-bbbd-76bf1657e204",
   "metadata": {
    "execution": {
     "iopub.execute_input": "2023-09-29T17:01:36.643007Z",
     "iopub.status.busy": "2023-09-29T17:01:36.642816Z",
     "iopub.status.idle": "2023-09-29T17:01:36.646348Z",
     "shell.execute_reply": "2023-09-29T17:01:36.646002Z",
     "shell.execute_reply.started": "2023-09-29T17:01:36.642994Z"
    },
    "tags": []
   },
   "outputs": [],
   "source": [
    "ptc.getExpIdsUsed('C10')"
   ]
  },
  {
   "cell_type": "code",
   "execution_count": null,
   "id": "dd5af289-02ec-4c4a-aa48-4277dd512756",
   "metadata": {},
   "outputs": [],
   "source": []
  }
 ],
 "metadata": {
  "kernelspec": {
   "display_name": "LSST",
   "language": "python",
   "name": "lsst"
  },
  "language_info": {
   "codemirror_mode": {
    "name": "ipython",
    "version": 3
   },
   "file_extension": ".py",
   "mimetype": "text/x-python",
   "name": "python",
   "nbconvert_exporter": "python",
   "pygments_lexer": "ipython3",
   "version": "3.11.4"
  },
  "toc-autonumbering": false,
  "toc-showcode": false,
  "toc-showmarkdowntxt": true
 },
 "nbformat": 4,
 "nbformat_minor": 5
}
