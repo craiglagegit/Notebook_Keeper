{
 "cells": [
  {
   "cell_type": "markdown",
   "metadata": {},
   "source": [
    "## Trying to understand and improve AuxTel ISR\n",
    "\n",
    "Craig Lage - 04-Jan-23"
   ]
  },
  {
   "cell_type": "code",
   "execution_count": null,
   "metadata": {
    "execution": {
     "iopub.execute_input": "2023-01-06T15:21:34.159248Z",
     "iopub.status.busy": "2023-01-06T15:21:34.159092Z",
     "iopub.status.idle": "2023-01-06T15:21:36.894276Z",
     "shell.execute_reply": "2023-01-06T15:21:36.893654Z",
     "shell.execute_reply.started": "2023-01-06T15:21:34.159233Z"
    },
    "tags": []
   },
   "outputs": [],
   "source": [
    "import numpy as np\n",
    "import matplotlib.pyplot as plt\n",
    "import astropy.io.fits as pf\n",
    "import lsst.afw.cameraGeom.utils as camGeomUtils\n",
    "from lsst.ip.isr import IsrTask, IsrTaskConfig\n",
    "from mpl_toolkits.axes_grid1 import make_axes_locatable\n",
    "from matplotlib.colors import LogNorm\n",
    "\n",
    "from lsst.summit.utils import quickSmooth\n",
    "%matplotlib inline\n",
    "\n",
    "from lsst.pipe.tasks.characterizeImage import CharacterizeImageTask\n",
    "from lsst.meas.algorithms.installGaussianPsf import InstallGaussianPsfTask"
   ]
  },
  {
   "cell_type": "code",
   "execution_count": null,
   "metadata": {
    "execution": {
     "iopub.execute_input": "2023-01-06T15:21:36.895229Z",
     "iopub.status.busy": "2023-01-06T15:21:36.895057Z",
     "iopub.status.idle": "2023-01-06T15:21:37.862234Z",
     "shell.execute_reply": "2023-01-06T15:21:37.861625Z",
     "shell.execute_reply.started": "2023-01-06T15:21:36.895212Z"
    },
    "tags": []
   },
   "outputs": [],
   "source": [
    "from lsst.daf.butler import Butler\n",
    "butler = Butler('/repo/embargo', collections=[\"LATISS/raw/all\", \"LATISS/calib\"])"
   ]
  },
  {
   "cell_type": "code",
   "execution_count": null,
   "metadata": {
    "execution": {
     "iopub.execute_input": "2023-01-06T15:21:37.863269Z",
     "iopub.status.busy": "2023-01-06T15:21:37.863010Z",
     "iopub.status.idle": "2023-01-06T15:21:37.868992Z",
     "shell.execute_reply": "2023-01-06T15:21:37.868506Z",
     "shell.execute_reply.started": "2023-01-06T15:21:37.863249Z"
    },
    "tags": []
   },
   "outputs": [],
   "source": [
    "def plotExp(exp):\n",
    "    # Borrowed from summit utils\n",
    "    data = quickSmooth(exp.image.array, 1)\n",
    "    vmin = np.nanpercentile(data, 1)\n",
    "    vmax = np.nanpercentile(data, 99)\n",
    "    print(vmin, vmax)\n",
    "    figure = plt.figure(figsize=(12,12))\n",
    "    figure.clear()\n",
    "    ax1 = figure.add_subplot(111)\n",
    "    im1 = ax1.imshow(data, cmap='gray', origin='lower', vmin=vmin, vmax=vmax)\n",
    "    ax1.tick_params(which=\"major\", direction=\"in\", top=True, right=True, labelsize=8)\n",
    "    divider = make_axes_locatable(ax1)\n",
    "    cax = divider.append_axes(\"right\", size=\"5%\", pad=0.05)\n",
    "    plt.colorbar(im1, cax=cax)\n",
    "    plt.tight_layout()\n",
    "    #plt.show()\n",
    "    return figure\n",
    "    \n",
    "def repairCosmics(postIsr):\n",
    "    # Borrowed from summit utils\n",
    "    if postIsr.getPsf() is None:\n",
    "        installPsfTask = InstallGaussianPsfTask()\n",
    "        installPsfTask.run(postIsr)\n",
    "\n",
    "    # TODO: try adding a reasonably wide Gaussian as a temp PSF\n",
    "    # and then just running repairTask on its own without any\n",
    "    # imChar. It should work, and be faster.\n",
    "    repairConfig = CharacterizeImageTask.ConfigClass()\n",
    "    repairConfig.doMeasurePsf = False\n",
    "    repairConfig.doApCorr = False\n",
    "    repairConfig.doDeblend = False\n",
    "    repairConfig.doWrite = False\n",
    "    repairConfig.repair.cosmicray.nCrPixelMax = 200000\n",
    "    repairTask = CharacterizeImageTask(config=repairConfig)\n",
    "    repairTask.repair.run(postIsr)\n",
    "    return"
   ]
  },
  {
   "cell_type": "markdown",
   "metadata": {},
   "source": [
    "# First, try to reproduce what we see in RubinTV\n",
    "\n",
    "With the settings below, it matches very well."
   ]
  },
  {
   "cell_type": "code",
   "execution_count": null,
   "metadata": {
    "execution": {
     "iopub.execute_input": "2023-01-06T15:21:37.891211Z",
     "iopub.status.busy": "2023-01-06T15:21:37.890895Z",
     "iopub.status.idle": "2023-01-06T15:21:37.918970Z",
     "shell.execute_reply": "2023-01-06T15:21:37.918483Z",
     "shell.execute_reply.started": "2023-01-06T15:21:37.891194Z"
    },
    "tags": []
   },
   "outputs": [],
   "source": [
    "isrConfig = IsrTaskConfig()\n",
    "isrConfig.overscan.fitType=\"MEDIAN_PER_ROW\"\n",
    "isrConfig.overscan.leadingColumnsToSkip = 5\n",
    "isrConfig.overscan.doParallelOverscan=False\n",
    "isrConfig.doLinearize=False\n",
    "isrConfig.doOverscan=True\n",
    "isrConfig.doAssembleCcd=True\n",
    "isrConfig.doBias=True\n",
    "isrConfig.doVariance=True\n",
    "isrConfig.doLinearize=False\n",
    "isrConfig.doCrosstalk=False\n",
    "isrConfig.doBrighterFatter=False\n",
    "isrConfig.doDark=True\n",
    "isrConfig.doStrayLight=False\n",
    "isrConfig.doFlat=True\n",
    "isrConfig.doFringe=False\n",
    "isrConfig.doApplyGains=False\n",
    "isrConfig.doDefect=True\n",
    "isrConfig.doNanMasking=True\n",
    "isrConfig.doInterpolate=True\n",
    "isrConfig.doSaturation=True\n",
    "isrConfig.doSaturationInterpolation=True\n",
    "isrConfig.doWrite=False\n",
    "isrTask = IsrTask(config=isrConfig)"
   ]
  },
  {
   "cell_type": "code",
   "execution_count": null,
   "metadata": {
    "execution": {
     "iopub.execute_input": "2023-01-06T15:21:44.935382Z",
     "iopub.status.busy": "2023-01-06T15:21:44.934988Z",
     "iopub.status.idle": "2023-01-06T15:21:57.876629Z",
     "shell.execute_reply": "2023-01-06T15:21:57.875997Z",
     "shell.execute_reply.started": "2023-01-06T15:21:44.935361Z"
    },
    "tags": []
   },
   "outputs": [],
   "source": [
    "expId=2022121200752\n",
    "exp = butler.get('raw', detector=0, exposure=expId)\n",
    "biasExp = butler.get('bias', detector=0, exposure=expId)\n",
    "flatExp = butler.get('flat', detector=0, exposure=expId)\n",
    "darkExp = butler.get('dark', detector=0, exposure=expId)\n",
    "defectExp = butler.get('defects', detector=0, exposure=expId)\n",
    "isrResult = isrTask.run(exp, bias=biasExp, flat=flatExp, dark=darkExp, defects=defectExp)\n",
    "postIsrExp = isrResult.exposure\n",
    "repairCosmics(postIsrExp)\n",
    "fig = plotExp(postIsrExp)\n",
    "plt.savefig(f\"/home/c/cslage/u/AuxTel/isr/isr_study_04jan23/Baseline_{expId}.png\")"
   ]
  },
  {
   "cell_type": "code",
   "execution_count": null,
   "metadata": {},
   "outputs": [],
   "source": []
  },
  {
   "cell_type": "code",
   "execution_count": null,
   "metadata": {
    "execution": {
     "iopub.execute_input": "2023-01-06T15:23:50.828901Z",
     "iopub.status.busy": "2023-01-06T15:23:50.828560Z",
     "iopub.status.idle": "2023-01-06T15:23:51.754473Z",
     "shell.execute_reply": "2023-01-06T15:23:51.753875Z",
     "shell.execute_reply.started": "2023-01-06T15:23:50.828881Z"
    },
    "tags": []
   },
   "outputs": [],
   "source": [
    "pixelHist = postIsrExp.image.array.flatten()\n",
    "pixelHist = np.clip(pixelHist, -40.0,40.0)\n",
    "mean = np.mean(pixelHist)\n",
    "std = np.std(pixelHist)\n",
    "plt.title(\"Baseline ISR pixel distribution\")\n",
    "plt.hist(pixelHist, range=(-40,40))\n",
    "plt.text(-30.0, 5.0E6, f\"Mean = {mean:.2f}\")\n",
    "plt.text(-30.0, 4.0E6, f\"Std = {std:.2f}\")\n",
    "plt.savefig(f\"/home/c/cslage/u/AuxTel/isr/isr_study_04jan23/Baseline_Sigma_06Jan23.pdf\")"
   ]
  },
  {
   "cell_type": "markdown",
   "metadata": {},
   "source": [
    "# Why doesn't the bias subtraction remove the dark lines?"
   ]
  },
  {
   "cell_type": "code",
   "execution_count": null,
   "metadata": {
    "tags": []
   },
   "outputs": [],
   "source": [
    "plotArray = np.median(postIsrExp.image.array[2500:3500, 0:1500], axis=0)\n",
    "plt.subplot(2,1,1)\n",
    "plt.plot(plotArray)\n",
    "plt.subplot(2,1,2)\n",
    "plt.plot(plotArray[450:530])"
   ]
  },
  {
   "cell_type": "markdown",
   "metadata": {},
   "source": [
    "# Next, implement ISR one at a time"
   ]
  },
  {
   "cell_type": "code",
   "execution_count": null,
   "metadata": {},
   "outputs": [],
   "source": [
    "isrConfig.doBias=False\n",
    "isrConfig.doDark=False\n",
    "isrConfig.doFlat=False\n",
    "isrConfig.doDefect=False\n",
    "isrTask = IsrTask(config=isrConfig)\n",
    "isrResult = isrTask.run(exp, bias=biasExp, flat=flatExp, dark=darkExp, defects=defectExp)\n",
    "postIsrExp = isrResult.exposure\n",
    "repairCosmics(postIsrExp)\n",
    "fig = plotExp(postIsrExp)\n",
    "plt.savefig(f\"/home/c/cslage/u/AuxTel/isr/isr_study_04jan23/Overscan_Only_{expId}.png\")"
   ]
  },
  {
   "cell_type": "code",
   "execution_count": null,
   "metadata": {
    "tags": []
   },
   "outputs": [],
   "source": [
    "isrConfig.doBias=True\n",
    "isrConfig.doDark=False\n",
    "isrConfig.doFlat=False\n",
    "isrConfig.doDefect=False\n",
    "isrTask = IsrTask(config=isrConfig)\n",
    "isrResult = isrTask.run(exp, bias=biasExp, flat=flatExp, dark=darkExp, defects=defectExp)\n",
    "postIsrExp = isrResult.exposure\n",
    "repairCosmics(postIsrExp)\n",
    "fig = plotExp(postIsrExp)\n",
    "plt.savefig(f\"/home/c/cslage/u/AuxTel/isr/isr_study_04jan23/Overscan_Bias_{expId}.png\")"
   ]
  },
  {
   "cell_type": "code",
   "execution_count": null,
   "metadata": {
    "tags": []
   },
   "outputs": [],
   "source": [
    "isrConfig.doBias=True\n",
    "isrConfig.doDark=True\n",
    "isrConfig.doFlat=False\n",
    "isrConfig.doDefect=False\n",
    "isrTask = IsrTask(config=isrConfig)\n",
    "isrResult = isrTask.run(exp, bias=biasExp, flat=flatExp, dark=darkExp, defects=defectExp)\n",
    "postIsrExp = isrResult.exposure\n",
    "repairCosmics(postIsrExp)\n",
    "fig = plotExp(postIsrExp)\n",
    "plt.savefig(f\"/home/c/cslage/u/AuxTel/isr/isr_study_04jan23/Overscan_Bias_Dark_{expId}.png\")"
   ]
  },
  {
   "cell_type": "code",
   "execution_count": null,
   "metadata": {
    "tags": []
   },
   "outputs": [],
   "source": [
    "isrConfig.doBias=True\n",
    "isrConfig.doDark=True\n",
    "isrConfig.doFlat=False\n",
    "isrConfig.doDefect=True\n",
    "isrTask = IsrTask(config=isrConfig)\n",
    "isrResult = isrTask.run(exp, bias=biasExp, flat=flatExp, dark=darkExp, defects=defectExp)\n",
    "postIsrExp = isrResult.exposure\n",
    "repairCosmics(postIsrExp)\n",
    "fig = plotExp(postIsrExp)\n",
    "plt.savefig(f\"/home/c/cslage/u/AuxTel/isr/isr_study_04jan23/Overscan_Bias_Dark_Defect_{expId}.png\")"
   ]
  },
  {
   "cell_type": "code",
   "execution_count": null,
   "metadata": {
    "tags": []
   },
   "outputs": [],
   "source": [
    "isrConfig.doBias=True\n",
    "isrConfig.doDark=True\n",
    "isrConfig.doFlat=True\n",
    "isrConfig.doDefect=True\n",
    "isrTask = IsrTask(config=isrConfig)\n",
    "isrResult = isrTask.run(exp, bias=biasExp, flat=flatExp, dark=darkExp, defects=defectExp)\n",
    "postIsrExp = isrResult.exposure\n",
    "repairCosmics(postIsrExp)\n",
    "fig = plotExp(postIsrExp)\n",
    "plt.savefig(f\"/home/c/cslage/u/AuxTel/isr/isr_study_04jan23/Overscan_Bias_Dark_Defect_Flat_{expId}.png\")"
   ]
  },
  {
   "cell_type": "code",
   "execution_count": null,
   "metadata": {},
   "outputs": [],
   "source": []
  }
 ],
 "metadata": {
  "kernelspec": {
   "display_name": "LSST",
   "language": "python",
   "name": "lsst"
  },
  "language_info": {
   "codemirror_mode": {
    "name": "ipython",
    "version": 3
   },
   "file_extension": ".py",
   "mimetype": "text/x-python",
   "name": "python",
   "nbconvert_exporter": "python",
   "pygments_lexer": "ipython3",
   "version": "3.10.8"
  }
 },
 "nbformat": 4,
 "nbformat_minor": 4
}
