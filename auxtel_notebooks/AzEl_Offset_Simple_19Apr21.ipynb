{
 "cells": [
  {
   "cell_type": "markdown",
   "metadata": {},
   "source": [
    "## AuxTel AzEl offsets - 19-Apr-21\n",
    "\n",
    "In this notebook, investigate az-el offsets from 11-Mar-21"
   ]
  },
  {
   "cell_type": "code",
   "execution_count": null,
   "metadata": {},
   "outputs": [],
   "source": [
    "import sys, time, os, asyncio, glob\n",
    "\n",
    "from datetime import datetime\n",
    "import numpy as np\n",
    "import matplotlib.pyplot as plt\n",
    "from matplotlib.colors import LogNorm\n",
    "import pickle as pkl\n",
    "import pandas as pd\n",
    "import astropy.io.fits as pf\n",
    "from astropy.time import Time, TimeDelta\n",
    "\n",
    "from lsst.daf.butler import Butler as gen3Butler\n",
    "from lsst.daf.persistence import Butler as gen2Butler\n",
    "from lsst_efd_client import EfdClient\n",
    "from lsst.pipe.tasks.characterizeImage import CharacterizeImageTask, CharacterizeImageConfig"
   ]
  },
  {
   "cell_type": "code",
   "execution_count": null,
   "metadata": {},
   "outputs": [],
   "source": [
    "infile = open('/project/cslage/AuxTel/offsets/offsets_16apr21.pkl','rb')\n",
    "charVisits = pkl.load(infile)\n",
    "infile.close()"
   ]
  },
  {
   "cell_type": "code",
   "execution_count": null,
   "metadata": {},
   "outputs": [],
   "source": [
    "# This helps make the plots more compact\n",
    "def colorbar(mappable):\n",
    "    from mpl_toolkits.axes_grid1 import make_axes_locatable\n",
    "    last_axes = plt.gca()\n",
    "    ax = mappable.axes\n",
    "    fig = ax.figure\n",
    "    divider = make_axes_locatable(ax)\n",
    "    cax = divider.append_axes(\"right\", size=\"5%\", pad=0.05)\n",
    "    cbar = fig.colorbar(mappable, cax=cax)\n",
    "    plt.sca(last_axes)\n",
    "    return cbar"
   ]
  },
  {
   "cell_type": "code",
   "execution_count": null,
   "metadata": {},
   "outputs": [],
   "source": [
    "# Pick an expId, and compare this image with the next in the sequence.\n",
    "myExpId = 2021031100422\n",
    "for charVisit in charVisits:\n",
    "    expId = charVisit['Visit'][0]\n",
    "    if expId == myExpId:\n",
    "        break\n",
    "nextExpId = myExpId + 1\n",
    "for nextCharVisit in charVisits:\n",
    "    thisExpId = nextCharVisit['Visit'][0]\n",
    "    if thisExpId == nextExpId:\n",
    "        break\n",
    "cat = charVisit['brightCatalog']\n",
    "nextCat = nextCharVisit['brightCatalog']\n",
    "# These are the measured shifts between the two catalogs\n",
    "shift_x = nextCharVisit['brightestCentroid'][0] - charVisit['brightestCentroid'][0]\n",
    "shift_y = nextCharVisit['brightestCentroid'][1] - charVisit['brightestCentroid'][1] \n",
    "exp = charVisit['exp']\n",
    "nextExp = nextCharVisit['exp']\n",
    "rotpa = charVisit['Visit'][6]\n",
    "# These are the commanded offsets in Az, El\n",
    "off_az = nextCharVisit['Visit'][7] - charVisit['Visit'][7]\n",
    "off_el = nextCharVisit['Visit'][8] - charVisit['Visit'][8]\n",
    "\n",
    "# Now put off_az and off_el in pixels, and rotate them using rotpa\n",
    "off_az /= exp.getWcs().getPixelScale().asArcseconds()\n",
    "off_el /= exp.getWcs().getPixelScale().asArcseconds()\n",
    "\n",
    "off = np.array([off_az, off_el])\n",
    "theta = np.radians(rotpa)\n",
    "c, s = np.cos(theta), np.sin(theta)\n",
    "# This is the rotation matrix that puts the commanded offsets into the detector coordinates\n",
    "R = np.array(((c, s), (-s, c))) \n",
    "rotated_off = R.dot(off)\n",
    "\n",
    "# Now plot it all\n",
    "plt.figure(figsize=(16,8))\n",
    "\n",
    "plt.subplot(1,2,1)\n",
    "plt.title(f\"Image - {myExpId}\",fontsize=18)\n",
    "arr = exp.image.array\n",
    "arr = np.clip(arr, 1, 100000) # This image has some negative values, and this removes them\n",
    "img = plt.imshow(arr, norm=LogNorm(vmin=1, vmax=1000),  interpolation='Nearest', cmap='gray')\n",
    "plt.scatter(cat['base_SdssCentroid_x'],cat['base_SdssCentroid_y']\\\n",
    "            ,color='red', marker='x', label=\"Measured\")\n",
    "plt.arrow(charVisit['brightestCentroid'][0],charVisit['brightestCentroid'][1], rotated_off[0], rotated_off[1],\\\n",
    "            color='green', width = 20, label='Commanded offset')\n",
    "plt.arrow(charVisit['brightestCentroid'][0],charVisit['brightestCentroid'][1], shift_x, shift_y,\\\n",
    "            color='red', width=20, label='Measured offset')\n",
    "plt.xlim(0,4000)\n",
    "plt.ylim(4000,0)\n",
    "colorbar(img)\n",
    "plt.legend()\n",
    "\n",
    "plt.subplot(1,2,2)\n",
    "plt.title(f\"Image - {nextExpId}\",fontsize=18)\n",
    "nextArr = nextExp.image.array\n",
    "nextArr = np.clip(nextArr, 1, 100000) # This image has some negative values, and this removes them\n",
    "img = plt.imshow(nextArr, norm=LogNorm(vmin=1, vmax=1000),  interpolation='Nearest', cmap='gray')\n",
    "plt.scatter(nextCat['base_SdssCentroid_x'],nextCat['base_SdssCentroid_y']\\\n",
    "            ,color='red', marker='x', label=\"Measured\")\n",
    "plt.scatter(cat['base_SdssCentroid_x'] + rotated_off[0],cat['base_SdssCentroid_y'] + rotated_off[1]\\\n",
    "            ,color='green', marker='+', s=200, label=\"Expected\")\n",
    "plt.xlim(0,4000)\n",
    "plt.ylim(4000,0)\n",
    "colorbar(img)\n",
    "plt.legend()\n",
    "\n",
    "plt.tight_layout(h_pad=1)\n",
    "plt.savefig(f\"/project/cslage/AuxTel/offsets/Offsets_Meas_vs_Expected_{myExpId}_19Apr21.pdf\")"
   ]
  },
  {
   "cell_type": "code",
   "execution_count": null,
   "metadata": {},
   "outputs": [],
   "source": []
  }
 ],
 "metadata": {
  "kernelspec": {
   "display_name": "LSST",
   "language": "python",
   "name": "lsst"
  },
  "language_info": {
   "codemirror_mode": {
    "name": "ipython",
    "version": 3
   },
   "file_extension": ".py",
   "mimetype": "text/x-python",
   "name": "python",
   "nbconvert_exporter": "python",
   "pygments_lexer": "ipython3",
   "version": "3.8.8"
  }
 },
 "nbformat": 4,
 "nbformat_minor": 4
}
