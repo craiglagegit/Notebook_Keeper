{
 "cells": [
  {
   "cell_type": "markdown",
   "id": "e8cc3a14-f377-44f4-ab4c-97c9c3047697",
   "metadata": {},
   "source": [
    "# Analyzing monochromator filter sweeps.\n",
    "Craig Lage 19-Dec-23"
   ]
  },
  {
   "cell_type": "code",
   "execution_count": null,
   "id": "a148b369-8943-4861-a51e-9cbeea70feb3",
   "metadata": {
    "execution": {
     "iopub.execute_input": "2023-12-21T13:54:52.107621Z",
     "iopub.status.busy": "2023-12-21T13:54:52.107343Z",
     "iopub.status.idle": "2023-12-21T13:54:52.111574Z",
     "shell.execute_reply": "2023-12-21T13:54:52.111211Z",
     "shell.execute_reply.started": "2023-12-21T13:54:52.107606Z"
    },
    "tags": []
   },
   "outputs": [],
   "source": [
    "import numpy as np\n",
    "from matplotlib import pyplot as plt\n",
    "import pickle as pkl\n",
    "\n",
    "from lsst.daf.butler import Butler\n",
    "from lsst.summit.utils import BestEffortIsr\n",
    "import lsst.afw.cameraGeom.utils as camGeomUtils\n",
    "from lsst.ip.isr import IsrTask, IsrTaskConfig\n",
    "from mpl_toolkits.axes_grid1 import make_axes_locatable\n",
    "from matplotlib.colors import LogNorm\n",
    "\n",
    "from lsst.summit.utils import quickSmooth\n",
    "%matplotlib inline\n",
    "\n",
    "from lsst.pipe.tasks.characterizeImage import CharacterizeImageTask\n",
    "from lsst.meas.algorithms.installGaussianPsf import InstallGaussianPsfTask"
   ]
  },
  {
   "cell_type": "code",
   "execution_count": null,
   "id": "558e3838-4aea-48e2-9629-5b1f60b2fbaf",
   "metadata": {
    "execution": {
     "iopub.execute_input": "2023-12-21T13:37:01.519720Z",
     "iopub.status.busy": "2023-12-21T13:37:01.519442Z",
     "iopub.status.idle": "2023-12-21T13:37:02.364852Z",
     "shell.execute_reply": "2023-12-21T13:37:02.364314Z",
     "shell.execute_reply.started": "2023-12-21T13:37:01.519705Z"
    },
    "tags": []
   },
   "outputs": [],
   "source": [
    "butler = Butler('/repo/embargo', collections=[\"LATISS/raw/all\", \"LATISS/calib\", \"LATISS/calib/unbounded\"])\n",
    "best_effort_isr = BestEffortIsr(embargo=True)\n",
    "best_effort_isr.doWrite = False  # Don't write to butler database"
   ]
  },
  {
   "cell_type": "markdown",
   "id": "76070e18-53ae-4c52-b6db-370590f7be44",
   "metadata": {
    "execution": {
     "iopub.execute_input": "2023-12-19T18:37:42.343845Z",
     "iopub.status.busy": "2023-12-19T18:37:42.343649Z",
     "iopub.status.idle": "2023-12-19T18:37:42.346159Z",
     "shell.execute_reply": "2023-12-19T18:37:42.345781Z",
     "shell.execute_reply.started": "2023-12-19T18:37:42.343832Z"
    }
   },
   "source": [
    "# This cell gets the vendor supplied photodiode response."
   ]
  },
  {
   "cell_type": "code",
   "execution_count": null,
   "id": "aaaac769-6ed2-48b4-bd92-10773cc821a2",
   "metadata": {
    "execution": {
     "iopub.execute_input": "2023-12-21T13:41:51.047711Z",
     "iopub.status.busy": "2023-12-21T13:41:51.047414Z",
     "iopub.status.idle": "2023-12-21T13:41:51.051262Z",
     "shell.execute_reply": "2023-12-21T13:41:51.050890Z",
     "shell.execute_reply.started": "2023-12-21T13:41:51.047696Z"
    }
   },
   "outputs": [],
   "source": [
    "import csv\n",
    "pd_response = {}\n",
    "with open('/home/c/cslage/u/AuxTel/filter_data/hamamatsu_responsivity-1.csv', newline='') as csvfile:\n",
    "    spamreader = csv.reader(csvfile, delimiter=' ', quotechar='|')\n",
    "    counter = 0\n",
    "    for row in spamreader:\n",
    "        if counter > 0:\n",
    "            # Rows before this don't contain the data\n",
    "            row = row[0].split(',')\n",
    "            key = int(row[0])\n",
    "            value = float(row[1])\n",
    "            pd_response[key] = value\n",
    "        counter +=1"
   ]
  },
  {
   "cell_type": "markdown",
   "id": "c0297f80-5c3a-425b-980b-a792f95d8687",
   "metadata": {},
   "source": [
    "# Unpickle the measurements"
   ]
  },
  {
   "cell_type": "code",
   "execution_count": null,
   "id": "e77256e0-fd85-4b25-a98c-caecd44cf795",
   "metadata": {
    "execution": {
     "iopub.execute_input": "2023-12-21T13:54:56.960434Z",
     "iopub.status.busy": "2023-12-21T13:54:56.960004Z",
     "iopub.status.idle": "2023-12-21T13:54:56.963977Z",
     "shell.execute_reply": "2023-12-21T13:54:56.963627Z",
     "shell.execute_reply.started": "2023-12-21T13:54:56.960412Z"
    }
   },
   "outputs": [],
   "source": [
    "# Unpickle the data\n",
    "filename = \"/home/c/cslage/u/AuxTel/filter_data/qe_test_21Dec23.pkl\"\n",
    "file = open(filename, \"rb\")\n",
    "results = pkl.load(file)\n",
    "file.close()"
   ]
  },
  {
   "cell_type": "code",
   "execution_count": null,
   "id": "9f18fb82-2fcd-4276-ac8c-107672896b45",
   "metadata": {
    "execution": {
     "iopub.execute_input": "2023-12-21T13:58:55.547984Z",
     "iopub.status.busy": "2023-12-21T13:58:55.547740Z",
     "iopub.status.idle": "2023-12-21T13:58:55.550268Z",
     "shell.execute_reply": "2023-12-21T13:58:55.549922Z",
     "shell.execute_reply.started": "2023-12-21T13:58:55.547967Z"
    }
   },
   "outputs": [],
   "source": [
    "#Screwed up the zero point current\n",
    "results['zero_point_current'] = -8.708e-08"
   ]
  },
  {
   "cell_type": "code",
   "execution_count": null,
   "id": "cd86feae-0d01-4e5f-9272-09d6e70564d7",
   "metadata": {
    "execution": {
     "iopub.execute_input": "2023-12-21T13:59:54.247342Z",
     "iopub.status.busy": "2023-12-21T13:59:54.247117Z",
     "iopub.status.idle": "2023-12-21T13:59:54.250042Z",
     "shell.execute_reply": "2023-12-21T13:59:54.249697Z",
     "shell.execute_reply.started": "2023-12-21T13:59:54.247325Z"
    }
   },
   "outputs": [],
   "source": [
    "wave = 550\n",
    "pd_data = -(results[str(wave)]['electrometer_current'] - results['zero_point_current']) / pd_response[wave]\n",
    "print(pd_data)"
   ]
  },
  {
   "cell_type": "markdown",
   "id": "2b184748-ad6c-4acf-97fb-4cd314a52dc6",
   "metadata": {
    "execution": {
     "iopub.execute_input": "2023-12-19T18:36:17.162132Z",
     "iopub.status.busy": "2023-12-19T18:36:17.161941Z",
     "iopub.status.idle": "2023-12-19T18:36:17.164448Z",
     "shell.execute_reply": "2023-12-19T18:36:17.164064Z",
     "shell.execute_reply.started": "2023-12-19T18:36:17.162120Z"
    }
   },
   "source": [
    "# Now process the measured images"
   ]
  },
  {
   "cell_type": "code",
   "execution_count": null,
   "id": "b3b6d4f6-2fd9-4151-bc02-5cf0d50fb51e",
   "metadata": {
    "execution": {
     "iopub.execute_input": "2023-12-22T15:32:08.359126Z",
     "iopub.status.busy": "2023-12-22T15:32:08.358907Z",
     "iopub.status.idle": "2023-12-22T15:35:27.543249Z",
     "shell.execute_reply": "2023-12-22T15:35:27.542912Z",
     "shell.execute_reply.started": "2023-12-22T15:32:08.359108Z"
    }
   },
   "outputs": [],
   "source": [
    "wave_step = 25 # Wavelength step in nm\n",
    "min_wave = 350; max_wave = 1050;\n",
    "wave = min_wave\n",
    "expId = 2023122100021\n",
    "\n",
    "waves = []\n",
    "responses = []\n",
    "pd_datas = []\n",
    "while wave < max_wave + wave_step / 2.0:\n",
    "    dataId = {'exposure': expId, 'detector': 0, \"instrument\": 'LATISS'}\n",
    "    exp = best_effort_isr.getExposure(dataId, skipCosmics=False)\n",
    "    data = quickSmooth(exp.image.array, 1)\n",
    "    pd_data = -(results[str(wave)]['electrometer_current'] - results['zero_point_current']) / pd_response[wave]\n",
    "    pd_datas.append(pd_data)\n",
    "    response = np.median(data) / pd_data\n",
    "    waves.append(wave)\n",
    "    responses.append(response)\n",
    "    print(f\"At {wave} nm, response is {response}\")\n",
    "    wave += wave_step\n",
    "    expId += 1\n"
   ]
  },
  {
   "cell_type": "markdown",
   "id": "50eeed9c-8d51-4700-a2c2-dd642abf199d",
   "metadata": {},
   "source": [
    "# Now plot the data"
   ]
  },
  {
   "cell_type": "code",
   "execution_count": null,
   "id": "50dc7cde-8021-44b5-a5ea-b83f5fdaab7d",
   "metadata": {},
   "outputs": [],
   "source": [
    "plt.title(\"AuxTel Test QE curve - 21-Dec-23\")\n",
    "plt.plot(waves, responses, marker='x', color='blue', label=\"Measured\")\n",
    "#plt.plot(official_waves, official_trans, marker='+', color='red', label=\"Official\")\n",
    "plt.xlabel(\"Wavelength (nm)\")\n",
    "plt.ylabel(\"Response (arbitrary untits)\")\n",
    "plt.xlim(350, 1050)\n",
    "#plt.ylim(0,100.0)\n",
    "#plt.legend()\n",
    "plt.savefig(\"/home/c/cslage/u/AuxTel/filter_data/QE_Test_Curve_21Dec23.png\")"
   ]
  },
  {
   "cell_type": "code",
   "execution_count": null,
   "id": "6597b634-f722-466a-bbee-5bf2778cda94",
   "metadata": {},
   "outputs": [],
   "source": []
  },
  {
   "cell_type": "code",
   "execution_count": null,
   "id": "ec4c4a76-3289-4983-aaad-ae16f91f38bb",
   "metadata": {
    "execution": {
     "iopub.execute_input": "2023-12-22T15:38:11.634194Z",
     "iopub.status.busy": "2023-12-22T15:38:11.633746Z",
     "iopub.status.idle": "2023-12-22T15:38:11.798671Z",
     "shell.execute_reply": "2023-12-22T15:38:11.798262Z",
     "shell.execute_reply.started": "2023-12-22T15:38:11.634178Z"
    }
   },
   "outputs": [],
   "source": [
    "plt.title(\"AuxTel Test QE curve - 21-Dec-23\")\n",
    "plt.plot(waves, pd_datas, marker='x', color='blue', label=\"Measured\")\n",
    "#plt.plot(official_waves, official_trans, marker='+', color='red', label=\"Official\")\n",
    "plt.xlabel(\"Wavelength (nm)\")\n",
    "plt.ylabel(\"Photodiode data current (A)\\n normalized by response\")\n",
    "plt.xlim(350, 1050)\n",
    "#plt.ylim(0,100.0)\n",
    "#plt.legend()\n",
    "plt.savefig(\"/home/c/cslage/u/AuxTel/filter_data/QE_Test_PD_Data_21Dec23.png\")"
   ]
  },
  {
   "cell_type": "code",
   "execution_count": null,
   "id": "4a900d9f-59db-4691-b6b9-588bb29b6c78",
   "metadata": {},
   "outputs": [],
   "source": []
  }
 ],
 "metadata": {
  "kernelspec": {
   "display_name": "LSST",
   "language": "python",
   "name": "lsst"
  },
  "language_info": {
   "codemirror_mode": {
    "name": "ipython",
    "version": 3
   },
   "file_extension": ".py",
   "mimetype": "text/x-python",
   "name": "python",
   "nbconvert_exporter": "python",
   "pygments_lexer": "ipython3",
   "version": "3.11.4"
  },
  "toc-autonumbering": false,
  "toc-showcode": false,
  "toc-showmarkdowntxt": true
 },
 "nbformat": 4,
 "nbformat_minor": 5
}
