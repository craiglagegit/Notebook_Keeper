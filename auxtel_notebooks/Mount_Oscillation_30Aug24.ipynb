{
 "cells": [
  {
   "cell_type": "markdown",
   "metadata": {},
   "source": [
    "## AuxTel azimuth oscillations\n",
    "\n",
    "Craig Lage 30-Aug-24"
   ]
  },
  {
   "cell_type": "code",
   "execution_count": null,
   "metadata": {
    "execution": {
     "iopub.execute_input": "2024-08-30T15:40:21.033193Z",
     "iopub.status.busy": "2024-08-30T15:40:21.032719Z",
     "iopub.status.idle": "2024-08-30T15:40:26.456288Z",
     "shell.execute_reply": "2024-08-30T15:40:26.455831Z",
     "shell.execute_reply.started": "2024-08-30T15:40:21.033179Z"
    }
   },
   "outputs": [],
   "source": [
    "import numpy as np\n",
    "import matplotlib.pyplot as plt\n",
    "import astropy.io.fits as pf\n",
    "from astropy.time import Time, TimeDelta\n",
    "import pandas as pd\n",
    "from lsst_efd_client import EfdClient\n",
    "from lsst.summit.utils.utils import dayObsSeqNumToVisitId\n",
    "from lsst.daf.butler import Butler"
   ]
  },
  {
   "cell_type": "code",
   "execution_count": null,
   "metadata": {
    "execution": {
     "iopub.execute_input": "2024-08-30T15:40:30.595072Z",
     "iopub.status.busy": "2024-08-30T15:40:30.594517Z",
     "iopub.status.idle": "2024-08-30T15:40:31.501309Z",
     "shell.execute_reply": "2024-08-30T15:40:31.500904Z",
     "shell.execute_reply.started": "2024-08-30T15:40:30.595058Z"
    }
   },
   "outputs": [],
   "source": [
    "butler = Butler('/repo/embargo', collections=[\"LATISS/raw/all\"])\n",
    "\n",
    "client = EfdClient('usdf_efd')"
   ]
  },
  {
   "cell_type": "code",
   "execution_count": null,
   "metadata": {},
   "outputs": [],
   "source": [
    "start = Time(\"2024-01-10T00:00:00\", scale='utc')\n",
    "end = Time(\"2024-01-10T01:00:00\", scale='utc')\n"
   ]
  },
  {
   "cell_type": "code",
   "execution_count": null,
   "metadata": {
    "execution": {
     "iopub.execute_input": "2024-08-30T15:52:39.235229Z",
     "iopub.status.busy": "2024-08-30T15:52:39.234963Z",
     "iopub.status.idle": "2024-08-30T15:52:42.647765Z",
     "shell.execute_reply": "2024-08-30T15:52:42.647426Z",
     "shell.execute_reply.started": "2024-08-30T15:52:39.235216Z"
    },
    "jupyter": {
     "outputs_hidden": true
    }
   },
   "outputs": [],
   "source": [
    "seqNums = [61, 90, 94, 95, 96, 100, 101]\n",
    "dayObs = 20240827\n",
    "expIds = []\n",
    "azs = []\n",
    "els = []\n",
    "az1_spds = []\n",
    "az2_spds = []\n",
    "for seqNum in seqNums:\n",
    "    expId = dayObsSeqNumToVisitId(dayObs, seqNum)\n",
    "    expIds.append(expId)\n",
    "    mData = butler.get('raw.metadata', detector=0, exposure=expId)\n",
    "    azs.append(mData['AZSTART'])\n",
    "    els.append(mData['ELSTART'])\n",
    "    start = Time(mData['DATE-BEG'], format='isot', scale='tai').utc\n",
    "    end = Time(mData['DATE-END'], format='isot', scale='tai').utc\n",
    "    mount_speed = await client.select_packed_time_series(\"lsst.sal.ATMCS.measuredMotorVelocity\", ['azimuthMotor1Velocity', 'azimuthMotor2Velocity'],\n",
    "                                              start, end)\n",
    "    az1_spds.append(np.median(mount_speed['azimuthMotor1Velocity'].values) * 3600.0)\n",
    "    az2_spds.append(np.median(mount_speed['azimuthMotor2Velocity'].values) * 3600.0)"
   ]
  },
  {
   "cell_type": "code",
   "execution_count": null,
   "metadata": {
    "execution": {
     "iopub.execute_input": "2024-08-30T16:01:59.062918Z",
     "iopub.status.busy": "2024-08-30T16:01:59.062511Z",
     "iopub.status.idle": "2024-08-30T16:01:59.065864Z",
     "shell.execute_reply": "2024-08-30T16:01:59.065446Z",
     "shell.execute_reply.started": "2024-08-30T16:01:59.062904Z"
    }
   },
   "outputs": [],
   "source": [
    "print(\"expId             Az       El        AzMotor1Spd     AzMotor2Spd  \")\n",
    "for i in range(len(expIds)):\n",
    "    print(f\"{expIds[i]}     {azs[i]:.1f}     {els[i]:.1f}      {az1_spds[i]:.2f}             {az2_spds[i]:.2f}\")"
   ]
  },
  {
   "cell_type": "code",
   "execution_count": null,
   "metadata": {},
   "outputs": [],
   "source": []
  }
 ],
 "metadata": {
  "kernelspec": {
   "display_name": "LSST",
   "language": "python",
   "name": "lsst"
  },
  "language_info": {
   "codemirror_mode": {
    "name": "ipython",
    "version": 3
   },
   "file_extension": ".py",
   "mimetype": "text/x-python",
   "name": "python",
   "nbconvert_exporter": "python",
   "pygments_lexer": "ipython3",
   "version": "3.11.9"
  }
 },
 "nbformat": 4,
 "nbformat_minor": 4
}
