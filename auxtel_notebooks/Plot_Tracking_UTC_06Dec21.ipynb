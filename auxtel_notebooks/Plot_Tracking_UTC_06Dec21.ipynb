{
 "cells": [
  {
   "cell_type": "markdown",
   "id": "153412e6",
   "metadata": {},
   "source": [
    "# AuxTel Plot tracking - 29-Oct-21\n",
    "\n",
    "In this notebook, investigate again mount tracking on 29-Oct-21\\\n",
    "This is after the EFD was converted to UTC.\\\n",
    "Thanks to Simon Krughoff for contributions."
   ]
  },
  {
   "cell_type": "code",
   "execution_count": null,
   "id": "fcd0a71e",
   "metadata": {},
   "outputs": [],
   "source": [
    "import sys, time, os, asyncio\n",
    "\n",
    "from datetime import datetime\n",
    "import numpy as np\n",
    "import matplotlib.pyplot as plt\n",
    "%matplotlib widget\n",
    "import pandas as pd\n",
    "from astropy.time import Time, TimeDelta\n",
    "from lsst.daf.butler import Butler"
   ]
  },
  {
   "cell_type": "code",
   "execution_count": null,
   "id": "5f1e495c",
   "metadata": {},
   "outputs": [],
   "source": [
    "from lsst_efd_client import EfdClient\n",
    "from lsst_efd_client import  __version__ as efdVersion\n",
    "print(efdVersion)"
   ]
  },
  {
   "cell_type": "code",
   "execution_count": null,
   "id": "aed2b09e",
   "metadata": {},
   "outputs": [],
   "source": [
    "# Get EFD client\n",
    "client = EfdClient('ldf_stable_efd')"
   ]
  },
  {
   "cell_type": "code",
   "execution_count": null,
   "id": "94f7af61",
   "metadata": {},
   "outputs": [],
   "source": [
    "# Get one header data using Gen3 butler\n",
    "# This confirms that the DATE_BEG and DATE_END timestamps remain in TAI, as specified.\n",
    "\n",
    "expId = 2021110400854\n",
    "expId = 2021110300447\n",
    "butler = Butler('/repo/main', collections=\"LATISS/raw/all\")\n",
    "\n",
    "mData = butler.get('raw.metadata', detector=0, exposure=expId)\n",
    "print(f\"{expId} \\t {mData['TIMESYS']} \\t {mData['DATE']} \\t {mData['DATE-BEG']} \\t {mData['DATE-END']}\")"
   ]
  },
  {
   "cell_type": "code",
   "execution_count": null,
   "id": "b7c4c67b",
   "metadata": {},
   "outputs": [],
   "source": [
    "# Need to convert DATE_BEG and DATE_END to UTC to sync up with the EFD\n",
    "date_beg = Time(mData['DATE-BEG'], format='isot', scale='tai')\n",
    "date_end = Time(mData['DATE-END'], format='isot', scale='tai')\n",
    "print(date_beg.utc, date_end.utc)\n",
    "print(date_beg.tai, date_end.tai)"
   ]
  },
  {
   "cell_type": "code",
   "execution_count": null,
   "id": "a4742e1e",
   "metadata": {},
   "outputs": [],
   "source": [
    "# Use these for finding the \"allAxesInPosition\" timestamp\n",
    "# The inPosition timestamp makes sense with the DATE-BEG and DATE-END times\n",
    "before = 90.0\n",
    "after = 30.0\n",
    "start = date_beg.utc - TimeDelta(before, format='sec')\n",
    "end = date_end.utc + TimeDelta(after, format='sec')\n",
    "print(start, end)\n",
    "\n",
    "inPosition = await client.select_time_series(\"lsst.sal.ATMCS.logevent_allAxesInPosition\", \"inPosition\", start, end)\n",
    "inPosition = inPosition[inPosition['inPosition']==True] \n",
    "print(inPosition)"
   ]
  },
  {
   "cell_type": "code",
   "execution_count": null,
   "id": "73185807",
   "metadata": {},
   "outputs": [],
   "source": [
    "# The result says that this timestamp is in UTC.\n",
    "# This is CORRECT\n",
    "inPosition.index[0]"
   ]
  },
  {
   "cell_type": "code",
   "execution_count": null,
   "id": "aad8ae24",
   "metadata": {},
   "outputs": [],
   "source": [
    "# Use these for finding the shutter status timestamp\n",
    "# The inPosition timestamp makes sense with the DATE-BEG and DATE-END times\n",
    "# They agree within a few milliseconds.\n",
    "\n",
    "shutter = await client.select_time_series(\"lsst.sal.ATCamera.logevent_shutterDetailedState\", \"substate\", start, end)\n",
    "\n",
    "# These match within msec with the DATE-BEG and DATE-END timestamps in the header,\n",
    "# after we have converted DATE_END and DATE_BEG to UTC\n",
    "print(shutter.index[0], date_beg.utc)\n",
    "print(shutter.index[1], date_end.utc)"
   ]
  },
  {
   "cell_type": "code",
   "execution_count": null,
   "id": "437ca372",
   "metadata": {},
   "outputs": [],
   "source": [
    "# Now get the mount tracking info for a time before and after the inPosition timestamp.\n",
    "before = 45.0\n",
    "after = 120.0\n",
    "inPos = Time(inPosition.index[0])\n",
    "tstart = inPos - TimeDelta(before, format='sec')\n",
    "tend = inPos + TimeDelta(after, format='sec')\n",
    "print(f\"{inPos} \\t {tstart} \\t {tend}\")\n",
    "az = await client.select_packed_time_series(\"lsst.sal.ATMCS.mount_AzEl_Encoders\", \"azimuthCalculatedAngle\",  tstart, tend)\n",
    "az_target = await client.select_time_series(\"lsst.sal.ATMCS.logevent_target\", \"azimuth\",  tstart, tend)\n",
    "print(f\"Tstart={tstart}, Start of dataFrame = {az.index[0]}\")"
   ]
  },
  {
   "cell_type": "code",
   "execution_count": null,
   "id": "c99e7f03",
   "metadata": {},
   "outputs": [],
   "source": [
    "# Plot it\n",
    "fig = plt.figure(figsize = (8,6))\n",
    "plt.suptitle(f\"Mount Tracking - ExpId {expId}\", fontsize = 18)\n",
    "# Azimuth axis\n",
    "plt.subplot(1,1,1)\n",
    "ax1 = az['azimuthCalculatedAngle'].plot(legend=True, color='red')\n",
    "ax2 = az_target['azimuth'].plot(legend=True, label='azimuth target', color='blue')\n",
    "ax1.set_title(\"Azimuth axis\", fontsize=16)\n",
    "ax1.axvline(inPosition.index[0], color=\"green\", linestyle=\"--\", label=\"All Axes In Position\")\n",
    "ax1.axvline(shutter.index[0], color='cyan', linestyle=\"--\", label=\"Exp_Start\")\n",
    "ax1.axvline(shutter.index[1], color='magenta', linestyle=\"--\", label=\"Exp_End\")\n",
    "ax1.set_ylabel(\"Degrees\")\n",
    "ax1.legend()\n",
    "#plt.savefig(f\"/project/cslage/AuxTel/offsets/Tracking_Timebase_{expId}_29Oct21.pdf\")\n"
   ]
  },
  {
   "cell_type": "code",
   "execution_count": null,
   "id": "bafc490c-e535-4fe7-944f-998b705a3b4e",
   "metadata": {},
   "outputs": [],
   "source": [
    "# Add a time offset to the packed series.\n",
    "offset = -1.67 # seconds\n",
    "az_vals = np.array(az.values.tolist())[:,0]\n",
    "az_times = np.array(az.index.tolist())\n",
    "for i, t in enumerate(az_times):\n",
    "    az_times[i] = t + pd.Timedelta(value=offset*1.0E9) # pandas Timedelta is in nsec\n",
    "az_target_vals = np.array(az_target.values.tolist())[:,0]\n",
    "az_target_times = np.array(az_target.index.tolist())"
   ]
  },
  {
   "cell_type": "code",
   "execution_count": null,
   "id": "6f9f83cf-9449-493d-876a-43f5d2f06f9e",
   "metadata": {},
   "outputs": [],
   "source": [
    "# Plot it with the offset\n",
    "fig = plt.figure(figsize = (8,6))\n",
    "plt.suptitle(f\"Mount Tracking - ExpId {expId}\", fontsize = 18)\n",
    "# Azimuth axis\n",
    "plt.subplot(1,1,1)\n",
    "ax1 = az_target['azimuth'].plot(legend=True, label='azimuth target', color='blue')\n",
    "ax1.plot(az_times, az_vals, color='red', label='azimuthCalculatedAngle')\n",
    "ax1.set_title(\"Azimuth axis\", fontsize=16)\n",
    "ax1.axvline(inPosition.index[0], color=\"green\", linestyle=\"--\", label=\"All Axes In Position\")\n",
    "ax1.axvline(shutter.index[0], color='cyan', linestyle=\"--\", label=\"Exp_Start\")\n",
    "ax1.axvline(shutter.index[1], color='magenta', linestyle=\"--\", label=\"Exp_End\")\n",
    "ax1.set_ylabel(\"Degrees\")\n",
    "ax1.legend()\n",
    "#plt.savefig(f\"/project/cslage/AuxTel/offsets/Tracking_Timebase_{expId}_29Oct21.pdf\")\n"
   ]
  },
  {
   "cell_type": "code",
   "execution_count": null,
   "id": "ad5b5424-34e8-40ee-976e-d7ad6b5371e6",
   "metadata": {},
   "outputs": [],
   "source": []
  }
 ],
 "metadata": {
  "kernelspec": {
   "display_name": "LSST",
   "language": "python",
   "name": "lsst"
  },
  "language_info": {
   "codemirror_mode": {
    "name": "ipython",
    "version": 3
   },
   "file_extension": ".py",
   "mimetype": "text/x-python",
   "name": "python",
   "nbconvert_exporter": "python",
   "pygments_lexer": "ipython3",
   "version": "3.8.8"
  }
 },
 "nbformat": 4,
 "nbformat_minor": 5
}
