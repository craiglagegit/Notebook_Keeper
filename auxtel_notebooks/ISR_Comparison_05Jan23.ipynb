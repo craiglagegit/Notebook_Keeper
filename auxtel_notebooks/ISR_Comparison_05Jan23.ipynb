{
 "cells": [
  {
   "cell_type": "markdown",
   "id": "e8cc3a14-f377-44f4-ab4c-97c9c3047697",
   "metadata": {},
   "source": [
    "# Comparison of AuxTel ISR before and after sequencer/voltage change\n",
    "Craig Lage 05-Jan-23"
   ]
  },
  {
   "cell_type": "code",
   "execution_count": null,
   "id": "a148b369-8943-4861-a51e-9cbeea70feb3",
   "metadata": {
    "execution": {
     "iopub.execute_input": "2023-01-05T14:29:17.292436Z",
     "iopub.status.busy": "2023-01-05T14:29:17.292014Z",
     "iopub.status.idle": "2023-01-05T14:29:20.385649Z",
     "shell.execute_reply": "2023-01-05T14:29:20.385027Z",
     "shell.execute_reply.started": "2023-01-05T14:29:17.292415Z"
    }
   },
   "outputs": [],
   "source": [
    "import numpy as np\n",
    "from matplotlib import pyplot as plt\n",
    "\n",
    "from lsst.daf.butler import Butler\n",
    "from lsst.summit.utils import BestEffortIsr\n",
    "from lsst.pipe.tasks.quickFrameMeasurement import QuickFrameMeasurementTask\n",
    "from lsst.pipe.tasks.characterizeImage import CharacterizeImageTask\n",
    "import lsst.afw.cameraGeom.utils as camGeomUtils\n",
    "from lsst.ip.isr import IsrTask, IsrTaskConfig\n",
    "from mpl_toolkits.axes_grid1 import make_axes_locatable\n",
    "from matplotlib.colors import LogNorm\n",
    "\n",
    "from lsst.summit.utils import quickSmooth\n",
    "%matplotlib inline"
   ]
  },
  {
   "cell_type": "code",
   "execution_count": null,
   "id": "7c44dc35-840c-438f-bdba-55b8b1ce5b77",
   "metadata": {
    "execution": {
     "iopub.execute_input": "2023-01-05T14:29:20.671984Z",
     "iopub.status.busy": "2023-01-05T14:29:20.671560Z",
     "iopub.status.idle": "2023-01-05T14:29:20.677069Z",
     "shell.execute_reply": "2023-01-05T14:29:20.676517Z",
     "shell.execute_reply.started": "2023-01-05T14:29:20.671963Z"
    }
   },
   "outputs": [],
   "source": [
    "def plotExp(exp):\n",
    "    # Borrowed from summit utils\n",
    "    data = quickSmooth(exp.image.array, 1)\n",
    "    vmin = np.nanpercentile(data, 1)\n",
    "    vmax = np.nanpercentile(data, 99)\n",
    "    print(vmin, vmax)\n",
    "    figure = plt.figure(figsize=(12,12))\n",
    "    figure.clear()\n",
    "    ax1 = figure.add_subplot(111)\n",
    "    im1 = ax1.imshow(data, cmap='gray', origin='lower', vmin=vmin, vmax=vmax)\n",
    "    ax1.tick_params(which=\"major\", direction=\"in\", top=True, right=True, labelsize=8)\n",
    "    divider = make_axes_locatable(ax1)\n",
    "    cax = divider.append_axes(\"right\", size=\"5%\", pad=0.05)\n",
    "    plt.colorbar(im1, cax=cax)\n",
    "    plt.tight_layout()\n",
    "    #plt.show()\n",
    "    return figure\n"
   ]
  },
  {
   "cell_type": "code",
   "execution_count": null,
   "id": "558e3838-4aea-48e2-9629-5b1f60b2fbaf",
   "metadata": {
    "execution": {
     "iopub.execute_input": "2023-01-05T14:29:28.560218Z",
     "iopub.status.busy": "2023-01-05T14:29:28.559819Z",
     "iopub.status.idle": "2023-01-05T14:29:36.387212Z",
     "shell.execute_reply": "2023-01-05T14:29:36.386582Z",
     "shell.execute_reply.started": "2023-01-05T14:29:28.560198Z"
    },
    "tags": []
   },
   "outputs": [],
   "source": [
    "expIds = [2022060900930, 2022121200752]\n",
    "butler_before = Butler('/repo/main', collections=[\"LATISS/raw/all\", \"LATISS/calib\"])\n",
    "butler_after = Butler('/repo/embargo', collections=[\"LATISS/raw/all\", \"LATISS/calib\"])\n",
    "best_effort_isr_before = BestEffortIsr(embargo=False)\n",
    "best_effort_isr_after = BestEffortIsr(embargo=True)"
   ]
  },
  {
   "cell_type": "markdown",
   "id": "bfe4c5fb-7ce1-49bc-9f55-91a906c018a3",
   "metadata": {},
   "source": [
    " ### An exposure from before the change"
   ]
  },
  {
   "cell_type": "code",
   "execution_count": null,
   "id": "f087dcec-36a0-49de-b226-79370cb9c31c",
   "metadata": {
    "execution": {
     "iopub.execute_input": "2023-01-05T14:32:41.697888Z",
     "iopub.status.busy": "2023-01-05T14:32:41.697510Z",
     "iopub.status.idle": "2023-01-05T14:32:45.665643Z",
     "shell.execute_reply": "2023-01-05T14:32:45.664874Z",
     "shell.execute_reply.started": "2023-01-05T14:32:41.697868Z"
    },
    "tags": []
   },
   "outputs": [],
   "source": [
    "dataId = {'exposure': expIds[0], 'detector': 0, \"instrument\": 'LATISS'}\n",
    "best_effort_isr_before.doWrite = False  # Don't write to butler database\n",
    "exp_before = best_effort_isr_before.getExposure(dataId, skipCosmics=False)\n",
    "bias_before = butler_before.get('bias', dataId=dataId)\n",
    "raw_before = butler_before.get('raw', dataId=dataId)"
   ]
  },
  {
   "cell_type": "code",
   "execution_count": null,
   "id": "ff5e8310-0554-4532-80a2-e365359f0a09",
   "metadata": {
    "execution": {
     "iopub.execute_input": "2023-01-05T14:29:45.940569Z",
     "iopub.status.busy": "2023-01-05T14:29:45.940177Z",
     "iopub.status.idle": "2023-01-05T14:29:49.252490Z",
     "shell.execute_reply": "2023-01-05T14:29:49.251774Z",
     "shell.execute_reply.started": "2023-01-05T14:29:45.940550Z"
    },
    "tags": []
   },
   "outputs": [],
   "source": [
    "fig = plotExp(exp_before)\n",
    "plt.suptitle(f\"{expIds[0]}\")\n",
    "fig.savefig(f\"/home/c/cslage/u/AuxTel/isr/before_after/Before.png\")"
   ]
  },
  {
   "cell_type": "markdown",
   "id": "75e9e655-1176-4cf6-a8b2-ccb8ff195892",
   "metadata": {},
   "source": [
    " ### An exposure from after the change"
   ]
  },
  {
   "cell_type": "code",
   "execution_count": null,
   "id": "5fdbc6a3-4691-4baa-b8bd-c182b8e51de9",
   "metadata": {
    "execution": {
     "iopub.execute_input": "2023-01-05T14:33:02.549550Z",
     "iopub.status.busy": "2023-01-05T14:33:02.549147Z",
     "iopub.status.idle": "2023-01-05T14:33:10.816949Z",
     "shell.execute_reply": "2023-01-05T14:33:10.816406Z",
     "shell.execute_reply.started": "2023-01-05T14:33:02.549530Z"
    },
    "jupyter": {
     "outputs_hidden": true
    },
    "tags": []
   },
   "outputs": [],
   "source": [
    "dataId = {'exposure': expIds[1], 'detector': 0, \"instrument\": 'LATISS'}\n",
    "best_effort_isr_after.doWrite = False  # Don't write to butler database\n",
    "exp_after = best_effort_isr_after.getExposure(dataId, skipCosmics=False)\n",
    "bias_after = butler_after.get('bias', dataId=dataId)\n",
    "raw_after = butler_after.get('raw', dataId=dataId)"
   ]
  },
  {
   "cell_type": "code",
   "execution_count": null,
   "id": "50ae40b2-b711-435e-9423-3085bff83c56",
   "metadata": {
    "execution": {
     "iopub.execute_input": "2023-01-05T14:30:05.860599Z",
     "iopub.status.busy": "2023-01-05T14:30:05.860275Z",
     "iopub.status.idle": "2023-01-05T14:30:09.523512Z",
     "shell.execute_reply": "2023-01-05T14:30:09.522784Z",
     "shell.execute_reply.started": "2023-01-05T14:30:05.860574Z"
    },
    "tags": []
   },
   "outputs": [],
   "source": [
    "fig = plotExp(exp_after)\n",
    "plt.suptitle(f\"{expIds[1]}\")\n",
    "fig.savefig(f\"/home/c/cslage/u/AuxTel/isr/before_after/After.png\")"
   ]
  },
  {
   "cell_type": "markdown",
   "id": "795c46c2-c841-42d8-9731-012ca187b977",
   "metadata": {},
   "source": [
    " ### Looking at the wave and the segment boundaries"
   ]
  },
  {
   "cell_type": "code",
   "execution_count": null,
   "id": "989cda77-0d05-466f-a435-d547f69e4118",
   "metadata": {
    "execution": {
     "iopub.execute_input": "2023-01-05T20:10:00.219363Z",
     "iopub.status.busy": "2023-01-05T20:10:00.218958Z",
     "iopub.status.idle": "2023-01-05T20:10:01.170240Z",
     "shell.execute_reply": "2023-01-05T20:10:01.169732Z",
     "shell.execute_reply.started": "2023-01-05T20:10:00.219342Z"
    },
    "tags": []
   },
   "outputs": [],
   "source": [
    "fig = plt.figure()\n",
    "plt.subplots_adjust(hspace=0.5, wspace=0.5)\n",
    "plt.suptitle(f\"AuxTel bias stability - Amp C10\")\n",
    "names = ['V25', 'V26']\n",
    "for i, [exp, bias] in enumerate([[exp_before, bias_before], [exp_after, bias_after]]):\n",
    "    expPlot = np.median(exp.image.array[2100:3900, :], axis=0)\n",
    "    expPlot -= np.mean(expPlot)\n",
    "    biasPlot = np.median(bias.image.array[2100:3900, :], axis=0)\n",
    "    biasPlot -= np.mean(biasPlot)\n",
    "    plt.subplot(2,2,2*i+1)\n",
    "    plt.title(f\"{expIds[i]} - {names[i]}\")\n",
    "    plt.plot(expPlot, label=\"Exposure\")\n",
    "    #plt.plot(biasPlot, label=\"Master bias\")\n",
    "    plt.xlim(0, 400)\n",
    "    plt.ylim(-5,5)\n",
    "    #plt.legend()\n",
    "    plt.xlabel(\"X coord (pixels)\")\n",
    "    plt.ylabel(\"ADU\")\n",
    "\n",
    "    plt.subplot(2,2,2*i+2)\n",
    "    plt.title(f\"{expIds[i]} - {names[i]}\")\n",
    "    plt.plot(expPlot, label=\"Exposure\")\n",
    "    #plt.plot(biasPlot, label=\"Master bias\")\n",
    "    plt.xlim(450, 520)\n",
    "    plt.ylim(-40,40)\n",
    "    #plt.legend()\n",
    "    plt.xlabel(\"X coord (pixels)\")\n",
    "    plt.ylabel(\"ADU\")\n",
    "\n",
    "fig.savefig(\"/home/c/cslage/u/AuxTel/isr/before_after/Bias_Stability.pdf\")"
   ]
  },
  {
   "cell_type": "markdown",
   "id": "ad85c14a-d880-4a72-8858-ad16733fafcf",
   "metadata": {},
   "source": [
    " ### More detailed look at the segment boundaries"
   ]
  },
  {
   "cell_type": "code",
   "execution_count": null,
   "id": "5d56dda2-512e-4a54-b7fc-3a1c21130c04",
   "metadata": {
    "execution": {
     "iopub.execute_input": "2023-01-05T20:10:28.288988Z",
     "iopub.status.busy": "2023-01-05T20:10:28.288610Z",
     "iopub.status.idle": "2023-01-05T20:10:28.319686Z",
     "shell.execute_reply": "2023-01-05T20:10:28.319129Z",
     "shell.execute_reply.started": "2023-01-05T20:10:28.288971Z"
    },
    "tags": []
   },
   "outputs": [],
   "source": [
    "isrConfig = IsrTaskConfig()\n",
    "isrConfig.doLinearize=False\n",
    "isrConfig.doOverscan=True\n",
    "isrConfig.doAssembleCcd=True\n",
    "isrConfig.doBias=False\n",
    "isrConfig.doVariance=True\n",
    "isrConfig.doLinearize=False\n",
    "isrConfig.doCrosstalk=False\n",
    "isrConfig.doBrighterFatter=False\n",
    "isrConfig.doDark=False\n",
    "isrConfig.doStrayLight=False\n",
    "isrConfig.doFlat=False\n",
    "isrConfig.doFringe=False\n",
    "isrConfig.doApplyGains=False\n",
    "isrConfig.doDefect=False\n",
    "isrConfig.doNanMasking=True\n",
    "isrConfig.doInterpolate=False\n",
    "isrConfig.doSaturation=False\n",
    "isrConfig.doSaturationInterpolation=False\n",
    "isrTask = IsrTask(config=isrConfig)"
   ]
  },
  {
   "cell_type": "code",
   "execution_count": null,
   "id": "af323cd0-46da-4f6c-bfbd-9d4bca8bcb6b",
   "metadata": {
    "execution": {
     "iopub.execute_input": "2023-01-05T20:11:39.004999Z",
     "iopub.status.busy": "2023-01-05T20:11:39.004637Z",
     "iopub.status.idle": "2023-01-05T20:11:43.580598Z",
     "shell.execute_reply": "2023-01-05T20:11:43.580107Z",
     "shell.execute_reply.started": "2023-01-05T20:11:39.004981Z"
    },
    "tags": []
   },
   "outputs": [],
   "source": [
    "fig = plt.figure()\n",
    "plt.subplots_adjust(hspace=0.5, wspace=0.5)\n",
    "plt.suptitle(f\"AuxTel bias stability - Amp C10\")\n",
    "names = ['V25', 'V26']\n",
    "for i, [raw, bias] in enumerate([[raw_before, bias_before], [raw_after, bias_after]]):\n",
    "    isrResult = isrTask.run(raw)\n",
    "    rawPlot = np.median(isrResult.exposure.image.array[2100:3900, 0:520], axis=0)\n",
    "    rawPlot -= np.mean(rawPlot)\n",
    "    biasPlot = np.median(bias.image.array[2100:3900, 0:520], axis=0)\n",
    "    biasPlot -= np.mean(biasPlot)\n",
    "    plt.subplot(1,2,i+1)\n",
    "    plt.title(f\"{expIds[i]} - {names[i]}\")\n",
    "    plt.plot(rawPlot, label=\"Raw\")\n",
    "    plt.plot(biasPlot, ls = '--', label=\"MasterBias\")\n",
    "    plt.xlim(490, 511)\n",
    "    #plt.ylim(-40,40)\n",
    "    plt.legend()\n",
    "    plt.xlabel(\"X coord (pixels)\")\n",
    "    plt.ylabel(\"ADU\")\n",
    "\n",
    "fig.savefig(\"/home/c/cslage/u/AuxTel/isr/before_after/Bias_Stability_2.pdf\")"
   ]
  },
  {
   "cell_type": "code",
   "execution_count": null,
   "id": "23defb77-2513-496d-ad9f-265b4be578aa",
   "metadata": {},
   "outputs": [],
   "source": []
  }
 ],
 "metadata": {
  "kernelspec": {
   "display_name": "LSST",
   "language": "python",
   "name": "lsst"
  },
  "language_info": {
   "codemirror_mode": {
    "name": "ipython",
    "version": 3
   },
   "file_extension": ".py",
   "mimetype": "text/x-python",
   "name": "python",
   "nbconvert_exporter": "python",
   "pygments_lexer": "ipython3",
   "version": "3.10.8"
  },
  "toc-autonumbering": false,
  "toc-showcode": false,
  "toc-showmarkdowntxt": true
 },
 "nbformat": 4,
 "nbformat_minor": 5
}
