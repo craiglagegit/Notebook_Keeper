{
 "cells": [
  {
   "cell_type": "markdown",
   "id": "2dd614f7",
   "metadata": {
    "tags": []
   },
   "source": [
    "## Reading dome monitor with a labJack T7\n",
    "Uses 2 analog input (AINs) to read the data.\n",
    "\n",
    "Craig Lage - Jul 5, 2023"
   ]
  },
  {
   "cell_type": "code",
   "execution_count": null,
   "id": "02609e84",
   "metadata": {
    "execution": {
     "iopub.execute_input": "2024-10-04T12:47:41.987355Z",
     "iopub.status.busy": "2024-10-04T12:47:41.986998Z",
     "iopub.status.idle": "2024-10-04T12:47:42.601175Z",
     "shell.execute_reply": "2024-10-04T12:47:42.600606Z",
     "shell.execute_reply.started": "2024-10-04T12:47:41.987332Z"
    },
    "tags": []
   },
   "outputs": [],
   "source": [
    "import sys\n",
    "import time, datetime\n",
    "import numpy as np\n",
    "import pandas as pd\n",
    "import pickle as pkl\n",
    "import matplotlib.pyplot as plt\n",
    "from astropy.time import Time, TimeDelta\n",
    "\n",
    "from labjack import ljm  # Needed pip install labjack-ljm"
   ]
  },
  {
   "cell_type": "code",
   "execution_count": null,
   "id": "566bfe76-7b30-4b4a-9283-f98f2dd701f6",
   "metadata": {
    "execution": {
     "iopub.execute_input": "2024-10-04T13:01:27.516332Z",
     "iopub.status.busy": "2024-10-04T13:01:27.516038Z",
     "iopub.status.idle": "2024-10-04T13:01:27.553371Z",
     "shell.execute_reply": "2024-10-04T13:01:27.552892Z",
     "shell.execute_reply.started": "2024-10-04T13:01:27.516312Z"
    },
    "tags": []
   },
   "outputs": [],
   "source": [
    "# Open LabJack T7\n",
    "handle = ljm.openS(\"T7\", \"wifi\", \"139.229.170.164\") # Shutter box\n",
    "#handle = ljm.openS(\"T7\", \"wifi\", \"139.229.170.115\") # Main box"
   ]
  },
  {
   "cell_type": "code",
   "execution_count": null,
   "id": "e62bd5db",
   "metadata": {
    "execution": {
     "iopub.execute_input": "2024-10-04T13:01:30.437062Z",
     "iopub.status.busy": "2024-10-04T13:01:30.436775Z",
     "iopub.status.idle": "2024-10-04T13:01:30.441153Z",
     "shell.execute_reply": "2024-10-04T13:01:30.440579Z",
     "shell.execute_reply.started": "2024-10-04T13:01:30.437041Z"
    },
    "tags": []
   },
   "outputs": [],
   "source": [
    "info = ljm.getHandleInfo(handle)\n",
    "print(\"Opened a LabJack with Device type: %i, Connection type: %i,\\n\"\n",
    "      \"Serial number: %i, IP address: %s, Port: %i,\\nMax bytes per MB: %i\" %\n",
    "      (info[0], info[1], info[2], ljm.numberToIP(info[3]), info[4], info[5]))\n",
    "\n",
    "deviceType = info[0]\n",
    "print(deviceType)"
   ]
  },
  {
   "cell_type": "code",
   "execution_count": null,
   "id": "d874874b-b337-484c-a7ac-0e38fb9877d7",
   "metadata": {
    "tags": []
   },
   "outputs": [],
   "source": [
    "# Setup and call eWriteNames to configure AIN0 and AIN1 on the LabJack.\n",
    "# LabJack T7 and other devices configuration\n",
    "\n",
    "# AIN0 and AIN1:\n",
    "#   Negative channel = single ended (199)\n",
    "#   Range: +/-10.0 V (10.0)\n",
    "#   Resolution index = Default (0)\n",
    "#   Settling, in microseconds = Auto (0)\n",
    "names = [\"AIN0_NEGATIVE_CH\", \"AIN0_RANGE\", \"AIN0_RESOLUTION_INDEX\", \"AIN0_SETTLING_US\",\n",
    "         \"AIN1_NEGATIVE_CH\", \"AIN1_RANGE\", \"AIN1_RESOLUTION_INDEX\", \"AIN1_SETTLING_US\"]\n",
    "aValues = [199, 10.0, 0, 0,\n",
    "           199, 10.0, 0, 0]\n",
    "numFrames = len(names)\n",
    "ljm.eWriteNames(handle, numFrames, names, aValues)"
   ]
  },
  {
   "cell_type": "code",
   "execution_count": null,
   "id": "d6f14b94-599b-4a57-8f00-599097453e9f",
   "metadata": {
    "jupyter": {
     "source_hidden": true
    },
    "tags": []
   },
   "outputs": [],
   "source": [
    "print(\"\\nSet configuration:\")\n",
    "for i in range(numFrames):\n",
    "    print(\"    %s : %f\" % (names[i], aValues[i]))\n"
   ]
  },
  {
   "cell_type": "code",
   "execution_count": null,
   "id": "6268c65c-07c7-4a46-8f73-db2e2d3dc489",
   "metadata": {
    "tags": []
   },
   "outputs": [],
   "source": [
    "# Set a long timeout to allow for web latency\n",
    "timeout = 60.0\n",
    "timeout_ms = int(timeout*1000.0)\n",
    "ljm.writeLibraryConfigS('LJM_ETHERNET_SEND_RECEIVE_TIMEOUT_MS', timeout_ms)"
   ]
  },
  {
   "cell_type": "code",
   "execution_count": null,
   "id": "019ee5c0-e4fc-4ebf-ad69-e8355fc821e5",
   "metadata": {
    "execution": {
     "iopub.execute_input": "2023-09-05T17:08:21.333275Z",
     "iopub.status.busy": "2023-09-05T17:08:21.332929Z",
     "iopub.status.idle": "2023-09-05T17:08:21.338844Z",
     "shell.execute_reply": "2023-09-05T17:08:21.338204Z",
     "shell.execute_reply.started": "2023-09-05T17:08:21.333247Z"
    },
    "tags": []
   },
   "outputs": [],
   "source": [
    "# Read AIN0 and AIN1 and AIN2\n",
    "def readDomeMonitor():\n",
    "    loopAmount = 1000\n",
    "    # Read AIN's from the LabJack with eReadNames in a loop.\n",
    "    names = [\"AIN0\"]\n",
    "    numFrames = 1\n",
    "    intervalHandle = 1\n",
    "    ljm.startInterval(intervalHandle, 500000)  # Delay between readings (in microseconds)\n",
    "    start = time.time()\n",
    "    for n in range(loopAmount):\n",
    "        results = ljm.eReadNames(handle, numFrames, names)\n",
    "        ljm.waitForNextInterval(intervalHandle)\n",
    "        stamp = time.time()\n",
    "        delay = stamp - start\n",
    "        start = stamp\n",
    "        print(f\"Time = {Time(stamp, format='unix_tai').utc.isot}, AIN0 = {results[0]:.3f}\")\n",
    "    return"
   ]
  },
  {
   "cell_type": "code",
   "execution_count": null,
   "id": "fd69cd20-d00f-4067-bca1-6267db3035cd",
   "metadata": {
    "execution": {
     "iopub.execute_input": "2023-09-05T17:08:25.582514Z",
     "iopub.status.busy": "2023-09-05T17:08:25.582138Z",
     "iopub.status.idle": "2023-09-05T17:09:32.016315Z",
     "shell.execute_reply": "2023-09-05T17:09:32.015127Z",
     "shell.execute_reply.started": "2023-09-05T17:08:25.582488Z"
    },
    "jupyter": {
     "outputs_hidden": true
    },
    "tags": []
   },
   "outputs": [],
   "source": [
    "readDomeMonitor()"
   ]
  },
  {
   "cell_type": "code",
   "execution_count": null,
   "id": "9989bbf5-4ece-4739-926e-bbb2a4ea0c55",
   "metadata": {
    "tags": []
   },
   "outputs": [],
   "source": [
    "def readStream(handle, names, readTime, scanRate=100):\n",
    "    # This reads the accelerometers for a time readTime                                                             \n",
    "    # and returns a Pandas timeSeries with the data                                                                 \n",
    "    # names is the list of AIN ports (9 in total)                                                          \n",
    "    # handle is the handle for talking to the labJack                                                               \n",
    "    # scanRate is the read frequency in Hertz                                                                       \n",
    "    # readTime is the total time of read in seconds                                                                 \n",
    "\n",
    "    numAddresses = len(names)\n",
    "    aScanList = ljm.namesToAddresses(numAddresses, names)[0]\n",
    "    scansPerRead = int(scanRate * readTime)\n",
    "    # Configure and start stream                                                                                    \n",
    "    scanRate = ljm.eStreamStart(handle, scansPerRead, numAddresses, aScanList, scanRate)\n",
    "    start = datetime.datetime.now()\n",
    "    # Stream the data                                                                                               \n",
    "    ret = ljm.eStreamRead(handle)\n",
    "    # Stop the stream                                                                                               \n",
    "    ljm.eStreamStop(handle)\n",
    "    aData = ret[0]\n",
    "    # Reshape the data                                                                                              \n",
    "    newData = np.resize(aData, (scansPerRead, numAddresses))\n",
    "    end = start + datetime.timedelta(seconds = readTime)\n",
    "    date_rng = pd.date_range(start=start, end=end, periods=scansPerRead)\n",
    "    # Create the Pandas dataFrame                                                                                   \n",
    "    df = pd.DataFrame(newData, index=date_rng,\n",
    "                      columns=['AIN0', 'AIN1'])\n",
    "    # Pickle the dataframe.  Use a temporary filename,                                                              \n",
    "    # then update it after the exposure has finished.   \n",
    "    # Stuff to rename file                                                                                                                 \n",
    "    name = start.strftime(\"%Y-%m-%dT%H:%M:%S\")\n",
    "    name = name.replace('-','').replace(':','')\n",
    "    name = name + 'Z'\n",
    "    filename = f'/scratch/labJackData/Dome_{name}.pkl'\n",
    "    file = open(filename, 'wb')\n",
    "    pkl.dump(df, file)\n",
    "    file.close()\n",
    "\n",
    "    finish = datetime.datetime.now()\n",
    "    print(f\"Finishing Accel data: {finish}\")\n",
    "    return\n"
   ]
  },
  {
   "cell_type": "code",
   "execution_count": null,
   "id": "6a699e00-f6d6-41c3-b87d-55068ea2eb05",
   "metadata": {
    "tags": []
   },
   "outputs": [],
   "source": [
    "names = [\"AIN0\", \"AIN1\"]\n",
    "readStream(handle, names, 30.0, scanRate=100)"
   ]
  },
  {
   "cell_type": "code",
   "execution_count": null,
   "id": "ec40b6e7-3b1a-4a73-9e2b-9898aa1bb779",
   "metadata": {
    "tags": []
   },
   "outputs": [],
   "source": [
    "file = open(f'/scratch/labJackData/Dome_20230706T005245Z.pkl', 'rb')\n",
    "df = pkl.load(file)"
   ]
  },
  {
   "cell_type": "code",
   "execution_count": null,
   "id": "674710b0-2905-4b6f-8679-3f60a839091d",
   "metadata": {
    "tags": []
   },
   "outputs": [],
   "source": [
    "df.head(5)"
   ]
  },
  {
   "cell_type": "code",
   "execution_count": null,
   "id": "71f198de-1616-4199-8099-45c81b3ec792",
   "metadata": {
    "tags": []
   },
   "outputs": [],
   "source": [
    "fig, ax = plt.subplots(1,1,figsize=(10,10))\n",
    "df['AIN0'].plot(ax=ax, label=\"Close signal\")\n",
    "plt.ylim(-10,10)\n",
    "plt.legend()"
   ]
  },
  {
   "cell_type": "code",
   "execution_count": null,
   "id": "76b73b67-14c6-4c6e-9693-0f0106426e22",
   "metadata": {
    "tags": []
   },
   "outputs": [],
   "source": [
    "names = [\"AIN0\", \"AIN1\"]\n",
    "for i in range(20):\n",
    "    readStream(handle, names, 1.0, scanRate=100)\n"
   ]
  },
  {
   "cell_type": "code",
   "execution_count": null,
   "id": "13b5d3a5-4919-4e24-a644-2ffebc8d4980",
   "metadata": {
    "tags": []
   },
   "outputs": [],
   "source": [
    "ljm.eStreamStop(handle)"
   ]
  },
  {
   "cell_type": "code",
   "execution_count": null,
   "id": "32e06864-0ef9-407b-b59f-0052f4f1b7ea",
   "metadata": {
    "tags": []
   },
   "outputs": [],
   "source": [
    "try:\n",
    "    ljm.eStreamStop(handle)\n",
    "except:\n",
    "    pass"
   ]
  },
  {
   "cell_type": "code",
   "execution_count": null,
   "id": "cc2ed40d-9b8b-4a6f-8bcc-b1bf9c8c3f20",
   "metadata": {
    "execution": {
     "iopub.execute_input": "2023-09-05T17:09:42.078678Z",
     "iopub.status.busy": "2023-09-05T17:09:42.078326Z",
     "iopub.status.idle": "2023-09-05T17:09:42.083846Z",
     "shell.execute_reply": "2023-09-05T17:09:42.083035Z",
     "shell.execute_reply.started": "2023-09-05T17:09:42.078651Z"
    },
    "tags": []
   },
   "outputs": [],
   "source": [
    "test = ljm.close(handle)\n",
    "print(test)"
   ]
  },
  {
   "cell_type": "code",
   "execution_count": null,
   "id": "619f3b17-50f3-495a-b0cd-31f09bccc352",
   "metadata": {
    "execution": {
     "iopub.execute_input": "2024-10-04T13:00:56.025337Z",
     "iopub.status.busy": "2024-10-04T13:00:56.024975Z",
     "iopub.status.idle": "2024-10-04T13:00:56.028231Z",
     "shell.execute_reply": "2024-10-04T13:00:56.027762Z",
     "shell.execute_reply.started": "2024-10-04T13:00:56.025318Z"
    },
    "tags": []
   },
   "outputs": [],
   "source": [
    "ljm.closeAll()"
   ]
  },
  {
   "cell_type": "code",
   "execution_count": null,
   "id": "b9475907-cb4e-4237-8d3c-0281c83ee9af",
   "metadata": {
    "tags": []
   },
   "outputs": [],
   "source": [
    "finish_time = Time(\"2023-08-17T18:00\", format='isot')"
   ]
  },
  {
   "cell_type": "code",
   "execution_count": null,
   "id": "789de6a9-a949-4611-b5c6-dac4ac5579f6",
   "metadata": {
    "tags": []
   },
   "outputs": [],
   "source": [
    "time.time() - finish_time.unix_tai"
   ]
  },
  {
   "cell_type": "code",
   "execution_count": null,
   "id": "65cce708-9f58-43b1-a566-92c93beed95c",
   "metadata": {},
   "outputs": [],
   "source": [
    "ljm.LJMError"
   ]
  },
  {
   "cell_type": "code",
   "execution_count": null,
   "id": "35e2f9a4-58b9-42ad-9627-1700ec4f601c",
   "metadata": {
    "execution": {
     "iopub.execute_input": "2024-10-04T13:01:43.307753Z",
     "iopub.status.busy": "2024-10-04T13:01:43.307433Z",
     "iopub.status.idle": "2024-10-04T13:01:43.310376Z",
     "shell.execute_reply": "2024-10-04T13:01:43.309940Z",
     "shell.execute_reply.started": "2024-10-04T13:01:43.307731Z"
    },
    "tags": []
   },
   "outputs": [],
   "source": [
    "ljm.closeAll()"
   ]
  },
  {
   "cell_type": "code",
   "execution_count": null,
   "id": "5fe2a278-3097-444b-93ed-a7ad578041c9",
   "metadata": {
    "tags": []
   },
   "outputs": [],
   "source": [
    "ljm.openS?"
   ]
  },
  {
   "cell_type": "code",
   "execution_count": null,
   "id": "bb13103f-bb53-4e06-8a5e-012f62d1d455",
   "metadata": {
    "tags": []
   },
   "outputs": [],
   "source": [
    "ljm."
   ]
  },
  {
   "cell_type": "code",
   "execution_count": null,
   "id": "3c03852a-6638-44dd-aafc-f104884e8c1b",
   "metadata": {
    "tags": []
   },
   "outputs": [],
   "source": [
    "ljm.log()"
   ]
  },
  {
   "cell_type": "code",
   "execution_count": null,
   "id": "c3d560a7-c20b-4202-878b-ed0c6beac44d",
   "metadata": {
    "execution": {
     "iopub.execute_input": "2023-08-28T18:25:12.987339Z",
     "iopub.status.busy": "2023-08-28T18:25:12.986620Z",
     "iopub.status.idle": "2023-08-28T18:25:22.992104Z",
     "shell.execute_reply": "2023-08-28T18:25:22.991303Z",
     "shell.execute_reply.started": "2023-08-28T18:25:12.987310Z"
    }
   },
   "outputs": [],
   "source": [
    "for i in range(5):\n",
    "    print(i)\n",
    "    time.sleep(2.0)"
   ]
  },
  {
   "cell_type": "code",
   "execution_count": null,
   "id": "7dd99c0f-5fb2-4fd6-9a53-a170564a7820",
   "metadata": {},
   "outputs": [],
   "source": []
  }
 ],
 "metadata": {
  "kernelspec": {
   "display_name": "LSST",
   "language": "python",
   "name": "lsst"
  },
  "language_info": {
   "codemirror_mode": {
    "name": "ipython",
    "version": 3
   },
   "file_extension": ".py",
   "mimetype": "text/x-python",
   "name": "python",
   "nbconvert_exporter": "python",
   "pygments_lexer": "ipython3",
   "version": "3.11.10"
  }
 },
 "nbformat": 4,
 "nbformat_minor": 5
}
