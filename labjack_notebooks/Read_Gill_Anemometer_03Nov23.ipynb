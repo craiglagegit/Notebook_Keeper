{
 "cells": [
  {
   "cell_type": "markdown",
   "id": "2dd614f7",
   "metadata": {
    "tags": []
   },
   "source": [
    "## Reading Gill anemometer with a labJack T7\n",
    "\n",
    "Craig Lage 03-Nov-23, with help from Elana Urbach\n"
   ]
  },
  {
   "cell_type": "code",
   "execution_count": null,
   "id": "02609e84",
   "metadata": {
    "execution": {
     "iopub.execute_input": "2024-03-26T14:52:31.183650Z",
     "iopub.status.busy": "2024-03-26T14:52:31.183413Z",
     "iopub.status.idle": "2024-03-26T14:52:31.615259Z",
     "shell.execute_reply": "2024-03-26T14:52:31.614204Z",
     "shell.execute_reply.started": "2024-03-26T14:52:31.183626Z"
    }
   },
   "outputs": [],
   "source": [
    "import sys\n",
    "from datetime import datetime, timedelta\n",
    "import numpy as np\n",
    "import matplotlib.pyplot as plt\n",
    "from labjack import ljm  # Needed pip install labjack-ljm"
   ]
  },
  {
   "cell_type": "code",
   "execution_count": null,
   "id": "566bfe76-7b30-4b4a-9283-f98f2dd701f6",
   "metadata": {
    "execution": {
     "iopub.execute_input": "2024-03-26T14:52:35.369353Z",
     "iopub.status.busy": "2024-03-26T14:52:35.368518Z",
     "iopub.status.idle": "2024-03-26T14:52:35.408016Z",
     "shell.execute_reply": "2024-03-26T14:52:35.407213Z",
     "shell.execute_reply.started": "2024-03-26T14:52:35.369320Z"
    }
   },
   "outputs": [],
   "source": [
    "# Open LabJack T7\n",
    "handle = ljm.openS(\"T7\", \"wifi\", \"139.229.170.111\") "
   ]
  },
  {
   "cell_type": "code",
   "execution_count": null,
   "id": "c85e7c6b-4438-4af4-ab9b-e74defdeb299",
   "metadata": {
    "execution": {
     "iopub.execute_input": "2024-03-26T14:52:39.027601Z",
     "iopub.status.busy": "2024-03-26T14:52:39.027189Z",
     "iopub.status.idle": "2024-03-26T14:52:39.033794Z",
     "shell.execute_reply": "2024-03-26T14:52:39.032923Z",
     "shell.execute_reply.started": "2024-03-26T14:52:39.027568Z"
    }
   },
   "outputs": [],
   "source": [
    "info = ljm.getHandleInfo(handle)\n",
    "print(\"Opened a LabJack with Device type: %i, Connection type: %i,\\n\"\n",
    "      \"Serial number: %i, IP address: %s, Port: %i,\\nMax bytes per MB: %i\" %\n",
    "      (info[0], info[1], info[2], ljm.numberToIP(info[3]), info[4], info[5]))"
   ]
  },
  {
   "cell_type": "code",
   "execution_count": null,
   "id": "019ee5c0-e4fc-4ebf-ad69-e8355fc821e5",
   "metadata": {
    "execution": {
     "iopub.execute_input": "2024-03-26T14:52:43.651144Z",
     "iopub.status.busy": "2024-03-26T14:52:43.650177Z",
     "iopub.status.idle": "2024-03-26T14:52:43.657963Z",
     "shell.execute_reply": "2024-03-26T14:52:43.657259Z",
     "shell.execute_reply.started": "2024-03-26T14:52:43.651108Z"
    }
   },
   "outputs": [],
   "source": [
    "PIN_VX = \"AIN0\"\n",
    "PIN_VY = \"AIN1\"\n",
    "PIN_VZ = \"AIN2\"\n",
    "PIN_VSONIC = \"AIN3\"\n",
    " \n",
    "sample_time = .001\n",
    " \n",
    "start = datetime.now()\n",
    "end = start + timedelta(seconds=60*10)\n",
    " \n",
    "def readout(PIN_VX, PIN_VY, PIN_VZ, PIN_VSONIC):\n",
    "    vx = ljm.eReadName(handle, PIN_VX)\n",
    "    vy = ljm.eReadName(handle, PIN_VY)\n",
    "    vz = ljm.eReadName(handle, PIN_VZ)\n",
    "    vsonic = ljm.eReadName(handle, PIN_VSONIC)\n",
    "    \n",
    "    # Now convert LabJack Vs to velocities and sonic Temp\n",
    "    # units are +/- 5 m/s, 0 to 5 V\n",
    "    vx_ms = (vx - 2.5) * 2\n",
    "    vy_ms = (vy - 2.5) * 2\n",
    "    vz_ms = (vz - 2.5) * 2\n",
    "     \n",
    "    # sonic temperature is measured on a scale of 0 to 5 V\n",
    "    # from -40 to 70 C\n",
    "    tsonic = -40 + vsonic/5.0 * 110\n",
    "\n",
    "    return (datetime.now(), vx, vy, vz, vsonic, vx_ms, vy_ms, vz_ms, tsonic)\n"
   ]
  },
  {
   "cell_type": "code",
   "execution_count": null,
   "id": "912b91e5-22c1-42b0-8a82-13ca34496bc1",
   "metadata": {
    "execution": {
     "iopub.execute_input": "2024-03-26T14:57:44.503024Z",
     "iopub.status.busy": "2024-03-26T14:57:44.502688Z",
     "iopub.status.idle": "2024-03-26T14:57:44.535383Z",
     "shell.execute_reply": "2024-03-26T14:57:44.534608Z",
     "shell.execute_reply.started": "2024-03-26T14:57:44.502996Z"
    }
   },
   "outputs": [],
   "source": [
    "(now, vx, vy, vz, vsonic, vx_ms, vy_ms, vz_ms, tsonic) = readout(PIN_VX, PIN_VY, PIN_VZ, PIN_VSONIC)\n",
    "print(f\"At {now.isoformat()}, Vx={vx_ms:.3f} m/s, Vy={vy_ms:.3f} m/s, Vz={vz_ms:.3f} m/s, Tsonic={tsonic:.1f}C\")\n",
    "print(f\"AIN0={vx:.3f}, AIN1={vy:.3f}, AIN2={vz:.3f}, AIN3={vsonic:.3f}\")"
   ]
  },
  {
   "cell_type": "code",
   "execution_count": null,
   "id": "a81020e1-5897-4585-82f4-dd00e37212ea",
   "metadata": {
    "execution": {
     "iopub.execute_input": "2024-03-26T14:57:57.469950Z",
     "iopub.status.busy": "2024-03-26T14:57:57.469143Z",
     "iopub.status.idle": "2024-03-26T14:57:57.473940Z",
     "shell.execute_reply": "2024-03-26T14:57:57.473131Z",
     "shell.execute_reply.started": "2024-03-26T14:57:57.469918Z"
    }
   },
   "outputs": [],
   "source": [
    "ljm.close(handle)"
   ]
  },
  {
   "cell_type": "code",
   "execution_count": null,
   "id": "f4ba05fc-d632-436f-a172-9dbab8f8b2dc",
   "metadata": {},
   "outputs": [],
   "source": []
  },
  {
   "cell_type": "code",
   "execution_count": null,
   "id": "b2921a75-4ea3-4bfa-94d6-5fbfa3629413",
   "metadata": {
    "execution": {
     "iopub.execute_input": "2024-02-01T14:01:21.725865Z",
     "iopub.status.busy": "2024-02-01T14:01:21.725618Z",
     "iopub.status.idle": "2024-02-01T14:01:21.729310Z",
     "shell.execute_reply": "2024-02-01T14:01:21.728456Z",
     "shell.execute_reply.started": "2024-02-01T14:01:21.725846Z"
    }
   },
   "outputs": [],
   "source": [
    "names = [\"AIN0\", \"AIN1\", \"AIN2\", \"AIN3\"]\n",
    "scanRate = 100"
   ]
  },
  {
   "cell_type": "code",
   "execution_count": null,
   "id": "5a7b2e17-a919-488d-b520-074d9e704d74",
   "metadata": {
    "execution": {
     "iopub.execute_input": "2024-02-01T14:13:17.954809Z",
     "iopub.status.busy": "2024-02-01T14:13:17.954565Z",
     "iopub.status.idle": "2024-02-01T14:14:18.653976Z",
     "shell.execute_reply": "2024-02-01T14:14:18.652886Z",
     "shell.execute_reply.started": "2024-02-01T14:13:17.954790Z"
    }
   },
   "outputs": [],
   "source": [
    "readTime = 60.0\n",
    "numAddresses = len(names)\n",
    "aScanList = ljm.namesToAddresses(numAddresses, names)[0]\n",
    "scansPerRead = int(scanRate * readTime)\n",
    "\n",
    "scanRate = ljm.eStreamStart(handle, scansPerRead, numAddresses, aScanList, scanRate)\n",
    "ret = ljm.eStreamRead(handle)\n",
    "ljm.eStreamStop(handle)\n",
    "aData = ret[0]\n"
   ]
  },
  {
   "cell_type": "code",
   "execution_count": null,
   "id": "00f3c33f-cb3d-41b1-b9b6-5614341680dc",
   "metadata": {
    "execution": {
     "iopub.execute_input": "2023-11-10T14:38:44.961644Z",
     "iopub.status.busy": "2023-11-10T14:38:44.961335Z",
     "iopub.status.idle": "2023-11-10T14:38:44.966065Z",
     "shell.execute_reply": "2023-11-10T14:38:44.965728Z",
     "shell.execute_reply.started": "2023-11-10T14:38:44.961630Z"
    },
    "jupyter": {
     "outputs_hidden": true
    }
   },
   "outputs": [],
   "source": [
    "aData"
   ]
  },
  {
   "cell_type": "code",
   "execution_count": null,
   "id": "1f46b0af-1680-4415-9e22-db117f075881",
   "metadata": {
    "execution": {
     "iopub.execute_input": "2024-02-01T14:14:35.743595Z",
     "iopub.status.busy": "2024-02-01T14:14:35.743208Z",
     "iopub.status.idle": "2024-02-01T14:14:35.750233Z",
     "shell.execute_reply": "2024-02-01T14:14:35.749423Z",
     "shell.execute_reply.started": "2024-02-01T14:14:35.743563Z"
    }
   },
   "outputs": [],
   "source": [
    "newData = np.resize(aData, (scansPerRead, numAddresses))"
   ]
  },
  {
   "cell_type": "code",
   "execution_count": null,
   "id": "75894aec-160c-48be-96b4-bd0d8411e2be",
   "metadata": {
    "execution": {
     "iopub.execute_input": "2024-02-01T14:14:36.522082Z",
     "iopub.status.busy": "2024-02-01T14:14:36.521807Z",
     "iopub.status.idle": "2024-02-01T14:14:36.526857Z",
     "shell.execute_reply": "2024-02-01T14:14:36.526147Z",
     "shell.execute_reply.started": "2024-02-01T14:14:36.522057Z"
    }
   },
   "outputs": [],
   "source": [
    "newData"
   ]
  },
  {
   "cell_type": "code",
   "execution_count": null,
   "id": "c40f185c-9b11-4b1b-8116-03b1bf1852b7",
   "metadata": {
    "execution": {
     "iopub.execute_input": "2024-02-01T14:14:39.363410Z",
     "iopub.status.busy": "2024-02-01T14:14:39.363058Z",
     "iopub.status.idle": "2024-02-01T14:14:39.367961Z",
     "shell.execute_reply": "2024-02-01T14:14:39.367094Z",
     "shell.execute_reply.started": "2024-02-01T14:14:39.363379Z"
    }
   },
   "outputs": [],
   "source": [
    "velData = np.zeros_like(newData)"
   ]
  },
  {
   "cell_type": "code",
   "execution_count": null,
   "id": "bd071316-3602-4274-8a50-17fa7232c2ff",
   "metadata": {
    "execution": {
     "iopub.execute_input": "2023-11-10T14:42:50.869138Z",
     "iopub.status.busy": "2023-11-10T14:42:50.868652Z",
     "iopub.status.idle": "2023-11-10T14:42:50.875353Z",
     "shell.execute_reply": "2023-11-10T14:42:50.874704Z",
     "shell.execute_reply.started": "2023-11-10T14:42:50.869109Z"
    },
    "jupyter": {
     "outputs_hidden": true
    }
   },
   "outputs": [],
   "source": [
    "newData[:,0]"
   ]
  },
  {
   "cell_type": "code",
   "execution_count": null,
   "id": "6e3c80c5-c2d2-485f-ac21-71a028aac09d",
   "metadata": {
    "execution": {
     "iopub.execute_input": "2024-02-01T14:46:03.716714Z",
     "iopub.status.busy": "2024-02-01T14:46:03.716338Z",
     "iopub.status.idle": "2024-02-01T14:46:03.723733Z",
     "shell.execute_reply": "2024-02-01T14:46:03.722942Z",
     "shell.execute_reply.started": "2024-02-01T14:46:03.716681Z"
    }
   },
   "outputs": [],
   "source": [
    "# Now convert LabJack Vs to velocities and sonic Temp\n",
    "# units are +/- 5 m/s, 0 to 5 V\n",
    "# sonic temperature is measured on a scale of 0 to 5 V\n",
    "# from -40 to 70 C\n",
    "velData[:,0] = (newData[:,0] - 2.5) * 2.0\n",
    "velData[:,1] = (newData[:,1] - 2.5) * 2.0\n",
    "velData[:,2] = (newData[:,2] - 2.5) * 2.0\n",
    "velData[:,3] = -40.0 + newData[:,3] / 5.0 *110.0\n",
    "velNames = [\"vx_ms\", \"vy_ms\", \"vz_ms\", \"tsonic\"]\n",
    "\n"
   ]
  },
  {
   "cell_type": "code",
   "execution_count": null,
   "id": "4adef422-8cb7-41e4-aaa6-e48a93147e4d",
   "metadata": {
    "execution": {
     "iopub.execute_input": "2024-02-01T14:17:04.153812Z",
     "iopub.status.busy": "2024-02-01T14:17:04.153438Z",
     "iopub.status.idle": "2024-02-01T14:17:04.158692Z",
     "shell.execute_reply": "2024-02-01T14:17:04.157843Z",
     "shell.execute_reply.started": "2024-02-01T14:17:04.153781Z"
    }
   },
   "outputs": [],
   "source": [
    "xaxis = np.linspace(0,59.99,6000)"
   ]
  },
  {
   "cell_type": "code",
   "execution_count": null,
   "id": "252ded46-6351-4f34-ab99-b78ba2c217b4",
   "metadata": {
    "execution": {
     "iopub.execute_input": "2024-02-01T14:17:06.820350Z",
     "iopub.status.busy": "2024-02-01T14:17:06.819570Z",
     "iopub.status.idle": "2024-02-01T14:17:06.825953Z",
     "shell.execute_reply": "2024-02-01T14:17:06.825136Z",
     "shell.execute_reply.started": "2024-02-01T14:17:06.820316Z"
    }
   },
   "outputs": [],
   "source": [
    "xaxis[-1]"
   ]
  },
  {
   "cell_type": "code",
   "execution_count": null,
   "id": "1d055523-d8e6-4889-aa20-9eb961b94e13",
   "metadata": {
    "execution": {
     "iopub.execute_input": "2024-02-01T14:15:06.988907Z",
     "iopub.status.busy": "2024-02-01T14:15:06.988535Z",
     "iopub.status.idle": "2024-02-01T14:15:06.994859Z",
     "shell.execute_reply": "2024-02-01T14:15:06.994054Z",
     "shell.execute_reply.started": "2024-02-01T14:15:06.988875Z"
    }
   },
   "outputs": [],
   "source": [
    "velData.shape"
   ]
  },
  {
   "cell_type": "code",
   "execution_count": null,
   "id": "8b550870-36e3-4dcb-aa9f-2a75cb1d4e9f",
   "metadata": {
    "execution": {
     "iopub.execute_input": "2024-02-01T14:46:07.864846Z",
     "iopub.status.busy": "2024-02-01T14:46:07.864476Z",
     "iopub.status.idle": "2024-02-01T14:46:08.221900Z",
     "shell.execute_reply": "2024-02-01T14:46:08.221132Z",
     "shell.execute_reply.started": "2024-02-01T14:46:07.864812Z"
    }
   },
   "outputs": [],
   "source": [
    "plt.subplots_adjust(hspace=0.5)\n",
    "plt.suptitle(\"Gill Anemometer test 20240201 11:20\")\n",
    "plt.subplot(2,1,1)\n",
    "plt.title(\"Sonic Temperature\")\n",
    "plt.plot(xaxis, velData[:,3])\n",
    "plt.xlabel(\"Time(sec)\")\n",
    "plt.ylabel(\"Temp(C)\")\n",
    "plt.subplot(2,1,2)\n",
    "plt.title(\"Wind Speed\")\n",
    "for i in range(3):\n",
    "    plt.plot(xaxis, velData[:,i])\n",
    "plt.xlabel(\"Time(sec)\")\n",
    "plt.ylabel(\"Wind Speed (m/s)\")\n",
    "plt.savefig(\"/home/craiglagegit/DATA/Gill_Test_01Feb24.png\")"
   ]
  },
  {
   "cell_type": "code",
   "execution_count": null,
   "id": "9fc7e01c-ac4c-4013-a209-7ed31108c3a1",
   "metadata": {},
   "outputs": [],
   "source": []
  }
 ],
 "metadata": {
  "kernelspec": {
   "display_name": "LSST",
   "language": "python",
   "name": "lsst"
  },
  "language_info": {
   "codemirror_mode": {
    "name": "ipython",
    "version": 3
   },
   "file_extension": ".py",
   "mimetype": "text/x-python",
   "name": "python",
   "nbconvert_exporter": "python",
   "pygments_lexer": "ipython3",
   "version": "3.11.7"
  }
 },
 "nbformat": 4,
 "nbformat_minor": 5
}
