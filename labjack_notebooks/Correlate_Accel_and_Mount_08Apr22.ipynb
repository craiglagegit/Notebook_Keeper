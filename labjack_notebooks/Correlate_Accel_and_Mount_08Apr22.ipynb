{
 "cells": [
  {
   "cell_type": "markdown",
   "id": "2dd614f7",
   "metadata": {},
   "source": [
    "## Plotting accelerometer data vs mount motions\n",
    "\n",
    "Craig Lage - Apr 7, 2022"
   ]
  },
  {
   "cell_type": "code",
   "execution_count": null,
   "id": "02609e84",
   "metadata": {},
   "outputs": [],
   "source": [
    "import sys, time, datetime\n",
    "import numpy as np\n",
    "from scipy.signal import butter,filtfilt, savgol_filter\n",
    "import matplotlib.pyplot as plt\n",
    "import pandas as pd\n",
    "import pickle as pkl\n",
    "from astropy.time import Time, TimeDelta\n",
    "import astropy.units as u\n",
    "from lsst.daf.butler import Butler\n",
    "from lsst_efd_client import EfdClient"
   ]
  },
  {
   "cell_type": "code",
   "execution_count": null,
   "id": "75fc3bfc-fbc5-4a7b-8779-4a456d7a8966",
   "metadata": {},
   "outputs": [],
   "source": [
    "def butter_lowpass_filter(data, cutoff, fs, order):\n",
    "    nyq = 0.5 * fs\n",
    "    normal_cutoff = cutoff / nyq\n",
    "    # Get the filter coefficients \n",
    "    b, a = butter(order, normal_cutoff, btype='low', analog=False)\n",
    "    y = filtfilt(b, a, data)\n",
    "    return y"
   ]
  },
  {
   "cell_type": "code",
   "execution_count": null,
   "id": "318902bb-d339-473f-b584-84112b12b1a8",
   "metadata": {},
   "outputs": [],
   "source": [
    "# Get EFD client and the butler\n",
    "client = EfdClient('summit_efd')\n",
    "butler = Butler('/repo/LATISS', collections=\"LATISS/raw/all\")"
   ]
  },
  {
   "cell_type": "code",
   "execution_count": null,
   "id": "c514d686-690b-4b2e-b4e0-6ba5214a7d5c",
   "metadata": {},
   "outputs": [],
   "source": [
    "# Get one header data using Gen3 butler\n",
    "# This confirms that the DATE_BEG and DATE_END timestamps remain in TAI, as specified.\n",
    "expId = 2022040600457\n",
    "mData_457 = butler.get('raw.metadata', detector=0, exposure=expId)\n",
    "expId = 2022040600458\n",
    "mData_458 = butler.get('raw.metadata', detector=0, exposure=expId)"
   ]
  },
  {
   "cell_type": "code",
   "execution_count": null,
   "id": "01824fe3-e832-45a5-b895-f65cfff36971",
   "metadata": {},
   "outputs": [],
   "source": [
    "# Need to convert DATE_BEG and DATE_END to UTC to sync up with the EFD\n",
    "date_beg_457 = Time(mData_457['DATE-BEG'], format='isot', scale='tai')\n",
    "date_end_457 = Time(mData_457['DATE-END'], format='isot', scale='tai')\n",
    "date_beg_458 = Time(mData_458['DATE-BEG'], format='isot', scale='tai')\n",
    "date_end_458 = Time(mData_458['DATE-END'], format='isot', scale='tai')"
   ]
  },
  {
   "cell_type": "code",
   "execution_count": null,
   "id": "1a576cee-c8a5-4b69-ab23-c7480861dd44",
   "metadata": {},
   "outputs": [],
   "source": [
    "filename = '20220406T223707Z.pkl'\n",
    "# Unpickle the accel dataframe\n",
    "file = open(f'/scratch/labJackData/{filename}', 'rb')\n",
    "df = pkl.load(file)\n",
    "file.close()"
   ]
  },
  {
   "cell_type": "code",
   "execution_count": null,
   "id": "2a8f283f-c774-4f4f-aabb-3b0ef72c7130",
   "metadata": {
    "tags": []
   },
   "outputs": [],
   "source": [
    "buffer_time = 0.0\n",
    "buffer = TimeDelta(buffer_time, format='sec')\n",
    "start = date_beg_457.utc - buffer\n",
    "end = date_end_458.utc + buffer\n",
    "tstart = start.value\n",
    "tend = end.value\n",
    "print(tstart, tend)\n",
    "# Mask out bad regions\n",
    "df = df.where(abs(df['ELM2']) < 10.0) \n",
    "print(f\"Approximately {len(df) / 200:.2f} seconds of data\")\n",
    "# Select a subset of the data if desired\n",
    "# and apply a rolling average\n",
    "rolling = 1 # number of data points to average\n",
    "timeSubset = True\n",
    "if timeSubset:\n",
    "    subdf = df.loc[tstart:tend]\n",
    "    subdf = subdf.rolling(rolling).sum() / rolling\n",
    "print(f\"Approximately {len(subdf) / 200:.2f} seconds of data\")\n",
    "\n",
    "tstart = Time(tstart)\n",
    "tend = Time(tend)\n",
    "az = await client.select_packed_time_series(\"lsst.sal.ATMCS.mount_AzEl_Encoders\", \\\n",
    "                                            \"azimuthCalculatedAngle\",  tstart, tend)\n",
    "el = await client.select_packed_time_series(\"lsst.sal.ATMCS.mount_AzEl_Encoders\", \\\n",
    "                                            \"elevationCalculatedAngle\",  tstart, tend)\n",
    "doOffset = True\n",
    "if doOffset:\n",
    "    offset = (tstart.jd - az.index[0].to_julian_date()) * 86400.0\n",
    "    az.index += pd.DateOffset(seconds=offset)\n",
    "    el.index += pd.DateOffset(seconds=offset)\n",
    "# Calculate the tracking errors\n",
    "az_vals = np.array(az.values.tolist())[:,0]\n",
    "el_vals = np.array(el.values.tolist())[:,0]\n",
    "times = np.array(az.values.tolist())[:,1]\n",
    "times = times - times [0]\n",
    "\n",
    "# Fit with a quadratic\n",
    "az_fit = np.polyfit(times, az_vals, 4)\n",
    "el_fit = np.polyfit(times, el_vals, 4)\n",
    "\n",
    "az_model = az_fit[0] * times * times * times * times + az_fit[1] * times * times * times \\\n",
    "    + az_fit[2] * times *times + az_fit[3] * times + az_fit[4]\n",
    "el_model = el_fit[0] * times * times * times * times + el_fit[1] * times * times * times \\\n",
    "    + el_fit[2] * times * times + el_fit[3] * times + el_fit[4]\n",
    "\n",
    "# Errors in arcseconds\n",
    "az_error = (az_vals - az_model) * 3600\n",
    "el_error = (el_vals - el_model) * 3600\n",
    "\n",
    "\n",
    "fig = plt.figure(figsize = (8, 10))\n",
    "plt.subplots_adjust(hspace=1.0, wspace=1.5)\n",
    "\n",
    "plt.suptitle(f\"Mount Tracking vs Accel 20220406\", fontsize = 18)\n",
    "plt.subplots_adjust(wspace=1.0, hspace=1.0)\n",
    "plt.subplot(4,3,1)\n",
    "name = \"Az-Error\"\n",
    "plt.title(name, fontsize=12)\n",
    "plt.plot(times, az_error)\n",
    "#az['azimuthCalculatedAngle'].plot()\n",
    "plt.ylabel('ArcSec')\n",
    "plt.subplot(4,3,2)\n",
    "name = \"El-Error\"\n",
    "plt.title(name, fontsize=12)\n",
    "plt.plot(times, el_error)\n",
    "#el['elevationCalculatedAngle'].plot()\n",
    "plt.ylabel('Arcsec')\n",
    "plotcounter = 4\n",
    "for accel in ['M2', 'T', 'M1']:\n",
    "    for axis in ['AZ', 'EL', 'Z']:\n",
    "        name = axis + accel\n",
    "        plt.subplot(4,3,plotcounter)\n",
    "        plt.title(name, fontsize=12)\n",
    "        data = subdf[name].to_list()\n",
    "        filtered_data = butter_lowpass_filter(data, 20.0, 200, 2)\n",
    "        plt.plot(f\n",
    "        plt.ylabel('Acceleration(g)')\n",
    "        plotcounter += 1\n",
    "\n",
    "plt.savefig(f\"/scratch/labJackData/EarthQuake_20220406.pdf\")\n",
    "        "
   ]
  },
  {
   "cell_type": "code",
   "execution_count": null,
   "id": "ea8985c0-9530-4499-9022-001bb42b38cf",
   "metadata": {},
   "outputs": [],
   "source": [
    "plt.close()"
   ]
  },
  {
   "cell_type": "code",
   "execution_count": null,
   "id": "bef8c962-33d7-4c2c-b66a-c9d8e0ec6c30",
   "metadata": {},
   "outputs": [],
   "source": [
    "azm2_data = subdf['AZM2'].to_list()"
   ]
  },
  {
   "cell_type": "code",
   "execution_count": null,
   "id": "bf013a9c-bbea-418c-8230-99d4ad83e851",
   "metadata": {},
   "outputs": [],
   "source": [
    "azm2_data[0:3]"
   ]
  },
  {
   "cell_type": "code",
   "execution_count": null,
   "id": "78954602-daef-4713-a7fb-3d936ef3d66b",
   "metadata": {},
   "outputs": [],
   "source": [
    "azm2_filtered = butter_lowpass_filter(subdf['AZM2'].to_list(), 20.0, 200, 2)"
   ]
  },
  {
   "cell_type": "code",
   "execution_count": null,
   "id": "3f8e9e2d-4aee-46f4-b0a7-156c69672c94",
   "metadata": {},
   "outputs": [],
   "source": [
    "plt.plot(azm2_filtered)"
   ]
  },
  {
   "cell_type": "code",
   "execution_count": null,
   "id": "c2622870-cbf9-4cc0-80ab-02c18586453b",
   "metadata": {},
   "outputs": [],
   "source": [
    "azm2_savgol = savgol_filter(subdf['AZM2'].to_list(), 20, 5)"
   ]
  },
  {
   "cell_type": "code",
   "execution_count": null,
   "id": "540fe075-050f-4626-8e38-69999b99173e",
   "metadata": {},
   "outputs": [],
   "source": [
    "plt.plot(azm2_savgol)"
   ]
  },
  {
   "cell_type": "code",
   "execution_count": null,
   "id": "14dd286e-8c57-43e0-abb1-95eb3f82f679",
   "metadata": {},
   "outputs": [],
   "source": []
  }
 ],
 "metadata": {
  "kernelspec": {
   "display_name": "LSST",
   "language": "python",
   "name": "lsst"
  },
  "language_info": {
   "codemirror_mode": {
    "name": "ipython",
    "version": 3
   },
   "file_extension": ".py",
   "mimetype": "text/x-python",
   "name": "python",
   "nbconvert_exporter": "python",
   "pygments_lexer": "ipython3",
   "version": "3.8.13"
  }
 },
 "nbformat": 4,
 "nbformat_minor": 5
}
