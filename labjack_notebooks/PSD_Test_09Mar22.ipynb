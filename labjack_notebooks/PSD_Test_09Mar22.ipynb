{
 "cells": [
  {
   "cell_type": "markdown",
   "id": "2dd614f7",
   "metadata": {},
   "source": [
    "## PSD of accel data\n",
    "Craig Lage - Mar 9, 2022"
   ]
  },
  {
   "cell_type": "code",
   "execution_count": null,
   "id": "02609e84",
   "metadata": {},
   "outputs": [],
   "source": [
    "import sys\n",
    "import time, datetime\n",
    "import numpy as np\n",
    "import pickle as pkl\n",
    "import matplotlib.pyplot as plt\n",
    "import pandas as pd\n",
    "from scipy import signal"
   ]
  },
  {
   "cell_type": "code",
   "execution_count": null,
   "id": "d8e4f3ba-e826-47da-846f-0318a6f5ffdb",
   "metadata": {},
   "outputs": [],
   "source": [
    "fs = 200 # Sampling frequency in Hz.  This is currently set to 200Hz.  Data taken on 20220203 was at 100Hz.\n",
    "\n",
    "expIds = [2022030800021, 2022030800024, 2022030800025, 2022030800026, 2022030800027]\n",
    "powers = ['0%', '25%', '50%', '75%', '100%']\n",
    "plt.figure(figsize=(8,10))\n",
    "plt.subplots_adjust(wspace=0.5, hspace=0.5)\n",
    "plt.suptitle(\"Accelerometer Power Spectral Density\", fontsize=16)\n",
    "plotcounter = 1\n",
    "for axis in ['AZ', 'EL', 'Z']:\n",
    "    for accel in ['M2', 'T', 'M1']:\n",
    "        name = axis + accel\n",
    "        plt.subplot(4,3,plotcounter)\n",
    "        plt.title(name, fontsize=12)\n",
    "        for i, expId in enumerate(expIds):\n",
    "            # Unpickle the accel dataframe\n",
    "            file = open(f'/scratch/labJackData/{expId}.pkl', 'rb')\n",
    "            df = pkl.load(file)\n",
    "            file.close()\n",
    "            data = np.array(df[name].values.tolist())\n",
    "            f, PSD = signal.welch(data, fs, nperseg=100)\n",
    "            plt.semilogy(f, PSD, label = f\"{expId}, fan = {powers[i]}\")\n",
    "        plt.ylim([1E-8, 1E-6])\n",
    "        plt.xlabel('Frequency [Hz]')\n",
    "        plt.ylabel('PSD [g^2/Hz]')\n",
    "        plotcounter += 1\n",
    "        if plotcounter == 8:\n",
    "            plt.legend(bbox_to_anchor=(3.0, -0.3))\n",
    "plt.savefig(\"/scratch/labJackData/PSD_Full_09Mar22.pdf\")"
   ]
  },
  {
   "cell_type": "code",
   "execution_count": null,
   "id": "9c18b5b7-464c-4ea2-b49a-50d5ac441ba9",
   "metadata": {},
   "outputs": [],
   "source": []
  }
 ],
 "metadata": {
  "kernelspec": {
   "display_name": "LSST",
   "language": "python",
   "name": "lsst"
  },
  "language_info": {
   "codemirror_mode": {
    "name": "ipython",
    "version": 3
   },
   "file_extension": ".py",
   "mimetype": "text/x-python",
   "name": "python",
   "nbconvert_exporter": "python",
   "pygments_lexer": "ipython3",
   "version": "3.10.5"
  }
 },
 "nbformat": 4,
 "nbformat_minor": 5
}
