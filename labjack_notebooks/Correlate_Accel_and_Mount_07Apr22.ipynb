{
 "cells": [
  {
   "cell_type": "markdown",
   "id": "2dd614f7",
   "metadata": {},
   "source": [
    "## Plotting accelerometer data vs mount motions\n",
    "\n",
    "Craig Lage - Apr 7, 2022"
   ]
  },
  {
   "cell_type": "code",
   "execution_count": null,
   "id": "02609e84",
   "metadata": {},
   "outputs": [],
   "source": [
    "import sys, time, datetime\n",
    "import numpy as np\n",
    "import matplotlib.pyplot as plt\n",
    "import pandas as pd\n",
    "import pickle as pkl\n",
    "from astropy.time import Time, TimeDelta\n",
    "import astropy.units as u\n",
    "from lsst.daf.butler import Butler\n",
    "from lsst_efd_client import EfdClient"
   ]
  },
  {
   "cell_type": "code",
   "execution_count": null,
   "id": "56b087b5-8829-4e9b-bbf8-8feb4b6c3090",
   "metadata": {},
   "outputs": [],
   "source": [
    "# Get EFD client and the butler\n",
    "client = EfdClient('summit_efd')"
   ]
  },
  {
   "cell_type": "code",
   "execution_count": null,
   "id": "1a576cee-c8a5-4b69-ab23-c7480861dd44",
   "metadata": {},
   "outputs": [],
   "source": [
    "filename = '20220406T223707Z.pkl'\n",
    "# Unpickle the accel dataframe\n",
    "file = open(f'/scratch/labJackData/{filename}', 'rb')\n",
    "df = pkl.load(file)\n",
    "file.close()"
   ]
  },
  {
   "cell_type": "code",
   "execution_count": null,
   "id": "2a8f283f-c774-4f4f-aabb-3b0ef72c7130",
   "metadata": {
    "tags": []
   },
   "outputs": [],
   "source": [
    "timestamp = filename.split('.')[0]\n",
    "# Mask out bad regions\n",
    "df = df.where(abs(df['ELM2']) < 10.0) \n",
    "print(f\"Approximately {len(df) / 200:.2f} seconds of data\")\n",
    "# Select a subset of the data if desired\n",
    "# and apply a rolling average\n",
    "rolling = 100 # number of data points to average\n",
    "timeSubset = True\n",
    "tstart = \"2022-04-07 01:14:30\"\n",
    "tend = \"2022-04-07 01:15:30\"\n",
    "if timeSubset:\n",
    "    subdf = df.loc[tstart:tend]\n",
    "    subdf = subdf.rolling(rolling).sum() / rolling\n",
    "print(f\"Approximately {len(subdf) / 200:.2f} seconds of data\")\n",
    "\n",
    "tstart = Time(tstart)\n",
    "tend = Time(tend)\n",
    "az = await client.select_packed_time_series(\"lsst.sal.ATMCS.mount_AzEl_Encoders\", \\\n",
    "                                            \"azimuthCalculatedAngle\",  tstart, tend)\n",
    "el = await client.select_packed_time_series(\"lsst.sal.ATMCS.mount_AzEl_Encoders\", \\\n",
    "                                            \"elevationCalculatedAngle\",  tstart, tend)\n",
    "doOffset = True\n",
    "if doOffset:\n",
    "    offset = (tstart.jd - az.index[0].to_julian_date()) * 86400.0\n",
    "    az.index += pd.DateOffset(seconds=offset)\n",
    "    el.index += pd.DateOffset(seconds=offset)\n",
    "# Calculate the tracking errors\n",
    "az_vals = np.array(az.values.tolist())[:,0]\n",
    "el_vals = np.array(el.values.tolist())[:,0]\n",
    "times = np.array(az.values.tolist())[:,1]\n",
    "times = times - times [0]\n",
    "\n",
    "# Fit with a quadratic\n",
    "az_fit = np.polyfit(times, az_vals, 4)\n",
    "el_fit = np.polyfit(times, el_vals, 4)\n",
    "\n",
    "az_model = az_fit[0] * times * times * times * times + az_fit[1] * times * times * times \\\n",
    "    + az_fit[2] * times *times + az_fit[3] * times + az_fit[4]\n",
    "el_model = el_fit[0] * times * times * times * times + el_fit[1] * times * times * times \\\n",
    "    + el_fit[2] * times * times + el_fit[3] * times + el_fit[4]\n",
    "\n",
    "# Errors in arcseconds\n",
    "az_error = (az_vals - az_model) * 3600\n",
    "el_error = (el_vals - el_model) * 3600\n",
    "\n",
    "\n",
    "fig = plt.figure(figsize = (10,8))\n",
    "plt.subplots_adjust(hspace=1.0, wspace=1.5)\n",
    "\n",
    "plt.suptitle(f\"Mount Tracking vs Accel 20220406\", fontsize = 18)\n",
    "plt.subplots_adjust(wspace=0.5, hspace=0.5)\n",
    "plt.subplot(2,2,1)\n",
    "name = \"AZM2\"\n",
    "plt.title(name, fontsize=12)\n",
    "subdf[name].plot(color='red')\n",
    "plt.ylabel('Acceleration(g)')\n",
    "plt.subplot(2,2,2)\n",
    "name = \"AZT\"\n",
    "plt.title(name, fontsize=12)\n",
    "subdf[name].plot(color='red')\n",
    "plt.ylabel('Acceleration(g)')\n",
    "plt.subplot(2,2,3)\n",
    "name = \"Az\"\n",
    "plt.title(name, fontsize=12)\n",
    "#plt.plot(times, az_vals)\n",
    "az['azimuthCalculatedAngle'].plot()\n",
    "plt.ylabel('Degrees')\n",
    "plt.subplot(2,2,4)\n",
    "name = \"El\"\n",
    "plt.title(name, fontsize=12)\n",
    "#plt.plot(times, el_vals)\n",
    "el['elevationCalculatedAngle'].plot()\n",
    "plt.ylabel('Degrees')\n",
    "\n",
    "plt.savefig(f\"/scratch/labJackData/Accel_vs_Mount_{timestamp}.pdf\")\n",
    "        "
   ]
  },
  {
   "cell_type": "code",
   "execution_count": null,
   "id": "ea8985c0-9530-4499-9022-001bb42b38cf",
   "metadata": {},
   "outputs": [],
   "source": [
    "plt.close()"
   ]
  },
  {
   "cell_type": "code",
   "execution_count": null,
   "id": "bef8c962-33d7-4c2c-b66a-c9d8e0ec6c30",
   "metadata": {},
   "outputs": [],
   "source": []
  }
 ],
 "metadata": {
  "kernelspec": {
   "display_name": "LSST",
   "language": "python",
   "name": "lsst"
  },
  "language_info": {
   "codemirror_mode": {
    "name": "ipython",
    "version": 3
   },
   "file_extension": ".py",
   "mimetype": "text/x-python",
   "name": "python",
   "nbconvert_exporter": "python",
   "pygments_lexer": "ipython3",
   "version": "3.8.13"
  }
 },
 "nbformat": 4,
 "nbformat_minor": 5
}
