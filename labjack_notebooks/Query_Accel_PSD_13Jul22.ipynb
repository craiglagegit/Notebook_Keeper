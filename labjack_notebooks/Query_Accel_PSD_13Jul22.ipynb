{
 "cells": [
  {
   "cell_type": "markdown",
   "id": "2dd614f7",
   "metadata": {},
   "source": [
    "## Plotting accelerometer data vs mount motions\n",
    "\n",
    "Craig Lage - Apr 7, 2022"
   ]
  },
  {
   "cell_type": "code",
   "execution_count": null,
   "id": "02609e84",
   "metadata": {
    "tags": []
   },
   "outputs": [],
   "source": [
    "import sys, time, datetime\n",
    "import numpy as np\n",
    "import matplotlib.pyplot as plt\n",
    "import pandas as pd\n",
    "import pickle as pkl\n",
    "from astropy.time import Time, TimeDelta\n",
    "import astropy.units as u\n",
    "from lsst.daf.butler import Butler\n",
    "from lsst_efd_client.efd_helper import EfdClient\n",
    "from lsst_efd_client.efd_utils import merge_packed_PSD\n",
    "#from lsst_efd_client import EfdClient"
   ]
  },
  {
   "cell_type": "code",
   "execution_count": null,
   "id": "318902bb-d339-473f-b584-84112b12b1a8",
   "metadata": {
    "tags": []
   },
   "outputs": [],
   "source": [
    "# Get EFD client and the butler\n",
    "client = EfdClient('summit_efd')\n",
    "butler = Butler('/repo/LATISS', collections=\"LATISS/raw/all\")"
   ]
  },
  {
   "cell_type": "code",
   "execution_count": null,
   "id": "1b58f31d-41e8-4683-9d8e-43788fcba446",
   "metadata": {},
   "outputs": [],
   "source": [
    "tstart = Time(\"2022-07-14 12:00:00Z\", scale='utc')\n",
    "tend = Time(\"2022-07-14 12:05:00Z\", scale='utc')"
   ]
  },
  {
   "cell_type": "code",
   "execution_count": null,
   "id": "e93cce66-4ca0-4b53-b346-38510b735f22",
   "metadata": {
    "tags": []
   },
   "outputs": [],
   "source": [
    "# First, test the merge_packed_PSD\n",
    "\n",
    "accel_data = await client.select_time_series(\"lsst.sal.ESS.accelerometerPSD\", \\\n",
    "                                            ['*'],  tstart, tend)\n",
    "\n",
    "sensorNames = ['AuxTel-Truss', 'AuxTel-M1', 'AuxTel-M2']\n",
    "axes = ['X', 'Y', 'Z']\n",
    "indexCounter = 0\n",
    "timeStamp = accel_data.index[indexCounter].strftime(\"%Y%m%dT%H%M%SZ\")\n",
    "plt.figure(figsize=(16,8))\n",
    "plt.subplots_adjust(wspace=0.5, hspace=0.5)\n",
    "plt.suptitle(f\"AuxTel Accelerometer PSD - {timeStamp}\")\n",
    "plotCounter = 1\n",
    "for sensorName in sensorNames:\n",
    "    for axis in axes:\n",
    "        df = merge_packed_PSD(accel_data, f\"accelerationPSD{axis}\", sensorName)\n",
    "        row = df.iloc[indexCounter]\n",
    "        plt.subplot(3,3,plotCounter)\n",
    "        plotCounter += 1\n",
    "        plt.title(f\"PSD {sensorName} {axis}\")\n",
    "        plt.plot(row.keys()[1:], row.values[1:])\n",
    "        #plt.ylim(0,4E-4)\n",
    "        plt.ylabel(\"PSD (m^2/(Hz s^4))\")\n",
    "        plt.xlabel(\"Frequency (Hz)\")\n",
    "timeStamp = df.index[indexCounter].strftime(\"%Y%m%dT%H%M%SZ\")   \n",
    "plt.suptitle(f\"AuxTel Accelerometer PSD - {timeStamp}\")\n",
    "plt.savefig(f\"/home/craiglagegit/DATA/EFD_Accel_PSD_{timeStamp}.pdf\")       "
   ]
  },
  {
   "cell_type": "code",
   "execution_count": null,
   "id": "3196372f-080b-4c22-aebd-7838de94de6f",
   "metadata": {},
   "outputs": [],
   "source": [
    "# Next, test the select_packed_PSD\n",
    "\n",
    "sensorNames = ['AuxTel-Truss', 'AuxTel-M1', 'AuxTel-M2']\n",
    "axes = ['X', 'Y', 'Z']\n",
    "indexCounter = 0\n",
    "plt.figure(figsize=(16,8))\n",
    "plt.subplots_adjust(wspace=0.5, hspace=0.5)\n",
    "plotCounter = 1\n",
    "for sensorName in sensorNames:\n",
    "    for axis in axes:\n",
    "        df = await client.select_packed_PSD(\"lsst.sal.ESS.accelerometerPSD\", \\\n",
    "                                            f\"accelerationPSD{axis}\", sensorName, tstart, tend)\n",
    "        #df = merge_packed_PSD(accel_data, f\"accelerationPSD{axis}\", sensorName)\n",
    "        row = df.iloc[indexCounter]\n",
    "        plt.subplot(3,3,plotCounter)\n",
    "        plotCounter += 1\n",
    "        plt.title(f\"PSD {sensorName} {axis}\")\n",
    "        plt.plot(row.keys()[1:], row.values[1:])\n",
    "        #plt.ylim(0,4E-4)\n",
    "        plt.ylabel(\"PSD (m^2/(Hz s^4))\")\n",
    "        plt.xlabel(\"Frequency (Hz)\")\n",
    "\n",
    "        \n",
    "timeStamp = df.index[indexCounter].strftime(\"%Y%m%dT%H%M%SZ\")   \n",
    "plt.suptitle(f\"AuxTel Accelerometer PSD - {timeStamp}\")\n",
    "plt.savefig(f\"/home/craiglagegit/DATA/EFD_Accel_PSD_{timeStamp}.pdf\")       "
   ]
  },
  {
   "cell_type": "code",
   "execution_count": null,
   "id": "50569674-7e2e-41b2-ac06-4bb42000c3d6",
   "metadata": {},
   "outputs": [],
   "source": [
    "sensorNames = ['AuxTel-Truss', 'AuxTel-M1', 'AuxTel-M2']\n",
    "axes = ['X', 'Y', 'Z']\n",
    "field_list = []\n",
    "for axis in axes:\n",
    "    field_list.append(f\"accelerationPSD{axis}\")\n",
    "df = await client.select_packed_PSD(\"lsst.sal.ESS.accelerometerPSD\", \\\n",
    "                                            field_list, sensorNames, tstart, tend)                      \n"
   ]
  },
  {
   "cell_type": "code",
   "execution_count": null,
   "id": "0ab08b3c-2a24-46b0-a4b5-7132b3888b8e",
   "metadata": {},
   "outputs": [],
   "source": [
    "df[300:310]"
   ]
  },
  {
   "cell_type": "code",
   "execution_count": null,
   "id": "ccf95c04-6d01-4e83-8380-101855532ef6",
   "metadata": {},
   "outputs": [],
   "source": [
    "# Next, test the select_packed_PSD getting multiple inputs\n",
    "\n",
    "sensorNames = ['AuxTel-Truss', 'AuxTel-M1', 'AuxTel-M2']\n",
    "axes = ['X', 'Y', 'Z']\n",
    "field_list = []\n",
    "for axis in axes:\n",
    "    field_list.append(f\"accelerationPSD{axis}\"\n",
    "df = await client.select_packed_PSD(\"lsst.sal.ESS.accelerometerPSD\", \\\n",
    "                                            field_list, sensorNames, tstart, tend)                      \n",
    "indexCounter = 0\n",
    "plt.figure(figsize=(16,8))\n",
    "plt.subplots_adjust(wspace=0.5, hspace=0.5)\n",
    "plotCounter = 1\n",
    "for sensorName in sensorNames:\n",
    "    for axis in axes:\n",
    "        \n",
    "        #df = merge_packed_PSD(accel_data, f\"accelerationPSD{axis}\", sensorName)\n",
    "        row = df.iloc[indexCounter]\n",
    "        plt.subplot(3,3,plotCounter)\n",
    "        plotCounter += 1\n",
    "        plt.title(f\"PSD {sensorName} {axis}\")\n",
    "        plt.plot(row.keys()[1:], row.values[1:])\n",
    "        #plt.ylim(0,4E-4)\n",
    "        plt.ylabel(\"PSD (m^2/(Hz s^4))\")\n",
    "        plt.xlabel(\"Frequency (Hz)\")\n",
    "\n",
    "        \n",
    "timeStamp = df.index[indexCounter].strftime(\"%Y%m%dT%H%M%SZ\")   \n",
    "plt.suptitle(f\"AuxTel Accelerometer PSD - {timeStamp}\")\n",
    "plt.savefig(f\"/home/craiglagegit/DATA/EFD_Accel_PSD_{timeStamp}.pdf\")       "
   ]
  },
  {
   "cell_type": "code",
   "execution_count": null,
   "id": "7057ffa8-a2fa-44d7-961e-b936a7899ba3",
   "metadata": {},
   "outputs": [],
   "source": [
    "sensor_name = 'AuxTel-M2'\n",
    "test = accel_data.loc[accel_data.sensorName \\\n",
    "                                           == sensor_name]"
   ]
  },
  {
   "cell_type": "code",
   "execution_count": null,
   "id": "3d1a286c-99ad-4f69-93c1-e6d9a27b7bb4",
   "metadata": {
    "tags": []
   },
   "outputs": [],
   "source": [
    "sensor_names = ['AuxTel-M2', 'AuxTel-M1', 'AuxTel-Truss']\n",
    "test = accel_data.loc[accel_data.sensorName.isin(sensor_names)]"
   ]
  },
  {
   "cell_type": "code",
   "execution_count": null,
   "id": "b6b4a468-c098-4ba5-920c-9a5e0a2f9b0b",
   "metadata": {
    "tags": []
   },
   "outputs": [],
   "source": [
    "sensor_names =['AuxTel-M2']\n",
    "test = accel_data.loc[accel_data.sensorName.isin(sensor_names)]"
   ]
  },
  {
   "cell_type": "code",
   "execution_count": null,
   "id": "a7c3b901-db82-4916-889b-46f26977d8be",
   "metadata": {},
   "outputs": [],
   "source": [
    "test.head(10)"
   ]
  },
  {
   "cell_type": "code",
   "execution_count": null,
   "id": "da189d6a-ef8d-4e37-8c3c-768a333fc6aa",
   "metadata": {},
   "outputs": [],
   "source": []
  }
 ],
 "metadata": {
  "kernelspec": {
   "display_name": "LSST",
   "language": "python",
   "name": "lsst"
  },
  "language_info": {
   "codemirror_mode": {
    "name": "ipython",
    "version": 3
   },
   "file_extension": ".py",
   "mimetype": "text/x-python",
   "name": "python",
   "nbconvert_exporter": "python",
   "pygments_lexer": "ipython3",
   "version": "3.10.4"
  }
 },
 "nbformat": 4,
 "nbformat_minor": 5
}
