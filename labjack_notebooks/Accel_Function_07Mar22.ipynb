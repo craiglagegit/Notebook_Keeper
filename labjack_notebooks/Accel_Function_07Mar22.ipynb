{
 "cells": [
  {
   "cell_type": "markdown",
   "id": "2dd614f7",
   "metadata": {},
   "source": [
    "## Testing a function to read the labJack T7-Pro\n",
    "Uses 9 analog inputs (AINs) to read the data at 100 Hz.\n",
    "\n",
    "Craig Lage - Mar 7, 2022"
   ]
  },
  {
   "cell_type": "code",
   "execution_count": null,
   "id": "02609e84",
   "metadata": {},
   "outputs": [],
   "source": [
    "import sys, time, datetime, asyncio\n",
    "import numpy as np\n",
    "import matplotlib.pyplot as plt\n",
    "import pandas as pd\n",
    "import pickle as pkl\n",
    "from labjack import ljm  # Needed pip install labjack-ljm\n",
    "from astropy.time import Time, TimeDelta\n",
    "from astropy.coordinates import AltAz, ICRS, EarthLocation, Angle, FK5\n",
    "import astropy.units as u\n",
    "from lsst.ts import salobj\n",
    "from lsst.ts.observatory.control.auxtel.atcs import ATCS\n",
    "from lsst.ts.observatory.control.auxtel.latiss import LATISS\n",
    "from lsst_efd_client import EfdClient\n",
    "from lsst.daf.butler import Butler"
   ]
  },
  {
   "cell_type": "code",
   "execution_count": null,
   "id": "a1de9d21",
   "metadata": {},
   "outputs": [],
   "source": [
    "# Open LabJack\n",
    "handle = ljm.openS(\"T7\", \"wifi\", \"139.229.164.249\")  "
   ]
  },
  {
   "cell_type": "code",
   "execution_count": null,
   "id": "e62bd5db",
   "metadata": {},
   "outputs": [],
   "source": [
    "# Verify that you are communicating\n",
    "info = ljm.getHandleInfo(handle)\n",
    "print(\"Opened a LabJack with Device type: %i, Connection type: %i,\\n\"\n",
    "      \"Serial number: %i, IP address: %s, Port: %i,\\nMax bytes per MB: %i\" %\n",
    "      (info[0], info[1], info[2], ljm.numberToIP(info[3]), info[4], info[5]))\n",
    "\n",
    "deviceType = info[0]\n",
    "print(deviceType)"
   ]
  },
  {
   "cell_type": "code",
   "execution_count": null,
   "id": "150ad371",
   "metadata": {},
   "outputs": [],
   "source": [
    "# Structures to hold the calibration data and connection information\n",
    "class zeroOffset:\n",
    "    def __init__(self, off_x, off_y, off_z):\n",
    "        # This is the reading in Volts when accel = 0\n",
    "        self.x = off_x\n",
    "        self.y = off_y\n",
    "        self.z = off_z\n",
    "        \n",
    "class gMult:\n",
    "    def __init__(self, mult_x, mult_y, mult_z):\n",
    "        # This is the conversion to acceleration in V/g\n",
    "        self.x = mult_x\n",
    "        self.y = mult_y\n",
    "        self.z = mult_z\n",
    "        \n",
    "class AIN_name:\n",
    "    def __init__(self, ain_x, ain_y, ain_z):\n",
    "        # This is where the sensors are connected to the labJack\n",
    "        self.x = ain_x\n",
    "        self.y = ain_y\n",
    "        self.z = ain_z\n",
    "\n",
    "class calData:\n",
    "    def __init__(self, serial=\"\", ain_x=\"\", ain_y=\"\", ain_z=\"\", off_x=0.0, off_y=0.0, off_z=0.0, mult_x=1.0, mult_y=1.0, mult_z=1.0):\n",
    "        # The serial number is imprinted on the accelerometer\n",
    "        self.serial = serial\n",
    "        self.AIN_name = AIN_name(ain_x, ain_y, ain_z)\n",
    "        self.zeroOffset = zeroOffset(off_x, off_y, off_z)\n",
    "        self.gMult = gMult(mult_x, mult_y, mult_z)\n",
    "        \n",
    "calDict = {}\n",
    "calDict[\"1\"] = calData(serial=\"A395429\", ain_x=\"AIN1\", ain_y=\"AIN2\", ain_z=\"AIN3\", off_x=2.49017, off_y=2.44424, off_z=2.44589, mult_x=0.98959, mult_y=0.98572, mult_z=0.99946)\n",
    "calDict[\"2\"] = calData(serial=\"A395423\", ain_x=\"AIN4\", ain_y=\"AIN5\", ain_z=\"AIN6\", off_x=2.49874, off_y=2.49595, off_z=2.41423, mult_x=0.99740, mult_y=1.00142, mult_z=0.99595)\n",
    "calDict[\"3\"] = calData(serial=\"A395446\", ain_x=\"AIN7\", ain_y=\"AIN8\", ain_z=\"AIN9\", off_x=2.47830, off_y=2.48088, off_z=2.41385, mult_x=0.97957, mult_y=0.98699, mult_z=1.00376)"
   ]
  },
  {
   "cell_type": "code",
   "execution_count": null,
   "id": "c4d759a8",
   "metadata": {},
   "outputs": [],
   "source": [
    "# Create list of AIN names and initialize\n",
    "\n",
    "# Ensure triggered stream is disabled.\n",
    "ljm.eWriteName(handle, \"STREAM_TRIGGER_INDEX\", 0)\n",
    "# Enabling internally-clocked stream.\n",
    "ljm.eWriteName(handle, \"STREAM_CLOCK_SOURCE\", 0)\n",
    "\n",
    "# All negative channels are single-ended, AIN0 and AIN1 ranges are\n",
    "# +/-10 V, stream settling is 0 (default) and stream resolution index\n",
    "# is 0 (default).\n",
    "\n",
    "aRange = 10.0 # +/- 10.0 Volts\n",
    "aSettle = 0 # 0 microsecond settling time\n",
    "resIndex = 0\n",
    "aNames = [\"AIN_ALL_NEGATIVE_CH\", \"STREAM_SETTLING_US\", \"STREAM_RESOLUTION_INDEX\"] # List of set-up parameters\n",
    "aValues = [ljm.constants.GND, aSettle, resIndex] # List of set-up values\n",
    "\n",
    "aScanListNames = [] # List of AIN names which will be read\n",
    "offsets = []\n",
    "gMults = []\n",
    "for name in [\"1\", \"2\", \"3\"]:\n",
    "    for axis in [\"x\", \"y\", \"z\"]:\n",
    "        exec(f\"aName = calDict['{name}'].AIN_name.{axis}\")\n",
    "        aScanListNames.append(aName)\n",
    "        aNames.append(aName+\"_RANGE\")\n",
    "        aValues.append(aRange)\n",
    "        exec(f\"off = calDict['{name}'].zeroOffset.{axis}\")\n",
    "        offsets.append(off)\n",
    "        exec(f\"gMult = calDict['{name}'].gMult.{axis}\")\n",
    "        gMults.append(gMult)\n",
    "\n",
    "offsets = np.array(offsets)\n",
    "gMults = np.array(gMults)\n",
    "         \n",
    "# Write the analog inputs' negative channels (when applicable), ranges,\n",
    "# stream settling time and stream resolution configuration.\n",
    "numFrames = len(aNames)\n",
    "ljm.eWriteNames(handle, numFrames, aNames, aValues)\n"
   ]
  },
  {
   "cell_type": "code",
   "execution_count": null,
   "id": "6a29aa6d",
   "metadata": {},
   "outputs": [],
   "source": [
    "def readStream(readTime, expId, aScanListNames=aScanListNames, handle=handle, scanRate=100, \\\n",
    "               offsets=offsets, gMults=gMults):\n",
    "    # This reads the accelerometers for a time readTime\n",
    "    # and returns a Pandas timeSeries with the data\n",
    "    # aScanListNames is the list of AIN ports (9 in total)\n",
    "    # handle is the handle for talking to the labJack\n",
    "    # scanRate is the read frequency in Hertz\n",
    "    # readTime is the total time of read in seconds\n",
    "    # calDict is the dictionary with the calibration data\n",
    "    # The function returns a Pandas dataframe with the three \n",
    "    # accelerometers times three axes results\n",
    "    \n",
    "    numAddresses = len(aScanListNames)\n",
    "    aScanList = ljm.namesToAddresses(numAddresses, aScanListNames)[0]\n",
    "    scansPerRead = int(scanRate * readTime)\n",
    "    # Configure and start stream\n",
    "    scanRate = ljm.eStreamStart(handle, scansPerRead, numAddresses, aScanList, scanRate)\n",
    "    start = datetime.datetime.now()\n",
    "    # Stream the data\n",
    "    ret = ljm.eStreamRead(handle)\n",
    "    # Stop the stream\n",
    "    ljm.eStreamStop(handle)\n",
    "    aData = ret[0]\n",
    "    # Reshape the data\n",
    "    newData = np.resize(aData, (scansPerRead, numAddresses))\n",
    "    # Convert to g\n",
    "    accelData = (newData - offsets) / gMults\n",
    "    # Create the timestamps\n",
    "    end = start + datetime.timedelta(seconds = readTime)\n",
    "    date_rng = pd.date_range(start=start, end=end, periods=scansPerRead)\n",
    "    # Create the Pandas dataFrame\n",
    "    df = pd.DataFrame(accelData, index=date_rng, \n",
    "                      columns=['ELM2', 'AZM2', 'ZM2', 'ELT', 'ZT', 'AZT', 'ELM1', 'AZM1', 'ZM1'])\n",
    "    # Pickle the dataframe\n",
    "    file = open(f'/scratch/labJackData/{expId}.pkl', 'wb')\n",
    "    pkl.dump(df, file)\n",
    "    file.close()\n",
    "    finish = datetime.datetime.now()\n",
    "    print(f\"Finishing Accel data: {finish}\")\n",
    "    return \n",
    "\n",
    "async def waitForAccelData(readTime, expId):\n",
    "    # This function wraps the readStream in an async function\n",
    "    start = datetime.datetime.now()\n",
    "    print(f\"Starting Accel data: {start}\")\n",
    "    loop = asyncio.get_event_loop()\n",
    "    await loop.run_in_executor(None, lambda:readStream(readTime, expId))"
   ]
  },
  {
   "cell_type": "code",
   "execution_count": null,
   "id": "778b0843-6a53-4956-8580-57ab16c2e27e",
   "metadata": {},
   "outputs": [],
   "source": [
    "# Now start up the observatory control stuff"
   ]
  },
  {
   "cell_type": "code",
   "execution_count": null,
   "id": "2beef128-be8a-437f-b6a9-6725037a9802",
   "metadata": {},
   "outputs": [],
   "source": [
    "# for tab completion to work in current notebook instance\n",
    "%config IPCompleter.use_jedi = False"
   ]
  },
  {
   "cell_type": "code",
   "execution_count": null,
   "id": "b676575c-8315-40c6-bfef-b010e9fc77b1",
   "metadata": {},
   "outputs": [],
   "source": [
    "import logging\n",
    "stream_handler = logging.StreamHandler(sys.stdout)\n",
    "logger = logging.getLogger()\n",
    "logger.addHandler(stream_handler)\n",
    "logger.level = logging.DEBUG\n",
    "# Make matplotlib less chatty\n",
    "logging.getLogger(\"matplotlib\").setLevel(logging.WARNING)"
   ]
  },
  {
   "cell_type": "code",
   "execution_count": null,
   "id": "98723c92-256f-49fd-bd17-1ec3b747c947",
   "metadata": {},
   "outputs": [],
   "source": [
    "# Set Cerro Pachon location\n",
    "location = EarthLocation.from_geodetic(lon=-70.747698*u.deg,\n",
    "                                       lat=-30.244728*u.deg,\n",
    "                                       height=2663.0*u.m)"
   ]
  },
  {
   "cell_type": "code",
   "execution_count": null,
   "id": "78967548-f08f-4035-b324-d1390135eee0",
   "metadata": {},
   "outputs": [],
   "source": [
    "#Start classes\n",
    "domain = salobj.Domain()\n",
    "await asyncio.sleep(10) # This can be removed in the future...\n",
    "atcs = ATCS(domain)\n",
    "latiss = LATISS(domain)\n",
    "await asyncio.gather(atcs.start_task, latiss.start_task)"
   ]
  },
  {
   "cell_type": "code",
   "execution_count": null,
   "id": "543ad2e4-9c4e-49cd-bf44-debe45c7a7df",
   "metadata": {},
   "outputs": [],
   "source": [
    "# enable components\n",
    "await atcs.enable({\"atdome\": \"current\", \"ataos\": \"current\", \"athexapod\": \"current\"})\n",
    "await latiss.enable()"
   ]
  },
  {
   "cell_type": "code",
   "execution_count": null,
   "id": "694900ac-891d-4853-a666-5d5a6c8c2095",
   "metadata": {},
   "outputs": [],
   "source": [
    "async def objectExposure(expTime):\n",
    "    # Will take exposures later\n",
    "    # For now this is a dummy function\n",
    "    start = datetime.datetime.now()\n",
    "    print(f\"Starting exposure: {start}\")\n",
    "    #await latiss.take_object(expTime, 1, filter='RG610', grating='empty_1')\n",
    "    time.sleep(expTime) # take this out when taking actual exposure\n",
    "    finish = datetime.datetime.now()\n",
    "    print(f\"Exposure done: {finish}\")\n",
    "    return\n",
    "\n",
    "async def exposureWithAccelData(expTime, expId):\n",
    "    # This puts them together\n",
    "    readTime = expTime + 1.0 # Add some buffer for the accel data\n",
    "    result = await asyncio.gather(waitForAccelData(readTime, expId), objectExposure(expTime))\n",
    "    return"
   ]
  },
  {
   "cell_type": "code",
   "execution_count": null,
   "id": "82300ea1-2bf0-433e-94cb-f8a8e42f6cef",
   "metadata": {},
   "outputs": [],
   "source": []
  },
  {
   "cell_type": "code",
   "execution_count": null,
   "id": "a90d5db8-04ab-45fa-96fa-54c39d3acc05",
   "metadata": {
    "jupyter": {
     "outputs_hidden": true
    },
    "tags": []
   },
   "outputs": [],
   "source": [
    "# Take 10 biases to make sure things are working\n",
    "# Added wait to stop killing the recent images\n",
    "for i in range(10):\n",
    "    await asyncio.sleep(2.0)\n",
    "    await latiss.take_bias(1)"
   ]
  },
  {
   "cell_type": "code",
   "execution_count": null,
   "id": "a8bb4322-0818-40f7-baaa-c312d07c0599",
   "metadata": {
    "jupyter": {
     "outputs_hidden": true
    },
    "tags": []
   },
   "outputs": [],
   "source": [
    "# Set an AzEl location\n",
    "start_az = 90.0\n",
    "start_el = 45.0\n",
    "start_rot = 0.0\n",
    "await atcs.point_azel(start_az, start_el, rot_tel=start_rot)"
   ]
  },
  {
   "cell_type": "code",
   "execution_count": null,
   "id": "c379e036-c8da-4445-b9ee-0c0cfc0ab8e2",
   "metadata": {
    "tags": []
   },
   "outputs": [],
   "source": [
    "# get RA/DEC of current telescope Alt/Az position\n",
    "az = Angle(start_az, unit=u.deg)\n",
    "el = Angle(start_el, unit=u.deg)\n",
    "print(f'orig az {az} and el {el}')\n",
    "time_data = await atcs.rem.atptg.tel_timeAndDate.next(flush=True, timeout=2)\n",
    "\n",
    "curr_time_atptg = Time(time_data.mjd, format=\"mjd\")\n",
    "coord_frame_AltAz = AltAz(location=location, obstime=curr_time_atptg)\n",
    "coord_frame_radec = ICRS()\n",
    "coord_azel = AltAz(az=az, alt=el, location=location, obstime=curr_time_atptg)\n",
    "ra_dec = coord_azel.transform_to(coord_frame_radec)\n",
    "print('Current Position is: \\n {}'.format(coord_azel))\n",
    "print('Current Position is: \\n {}'.format(ra_dec))\n"
   ]
  },
  {
   "cell_type": "code",
   "execution_count": null,
   "id": "e0a6d8f6-3a12-47c3-9889-6a3dc04cd4e5",
   "metadata": {
    "jupyter": {
     "outputs_hidden": true
    },
    "tags": []
   },
   "outputs": [],
   "source": [
    "# Slew to starting position and start tracking\n",
    "await atcs.slew_icrs(ra=str(ra_dec.ra), dec=str(ra_dec.dec), rot=0.0,\n",
    "                      slew_timeout=240., stop_before_slew=False, wait_settle=False)\n",
    "\n",
    "\n",
    "print('Tracking')\n",
    "\n"
   ]
  },
  {
   "cell_type": "code",
   "execution_count": null,
   "id": "888fe86a-9d0d-43d1-bf51-8499ec0b26a4",
   "metadata": {},
   "outputs": [],
   "source": [
    "# Now take an exposure\n",
    "expTime = 5.0\n",
    "expId = 2022030700002\n",
    "await exposureWithAccelData(expTime, expId)"
   ]
  },
  {
   "cell_type": "code",
   "execution_count": null,
   "id": "0048a526-77de-4cde-952d-17a5ca56f28d",
   "metadata": {
    "jupyter": {
     "outputs_hidden": true
    },
    "tags": []
   },
   "outputs": [],
   "source": [
    "await atcs.stop_tracking()"
   ]
  },
  {
   "cell_type": "code",
   "execution_count": null,
   "id": "bfe4a0f9-afa6-41cc-89c7-1a002d30fe7c",
   "metadata": {},
   "outputs": [],
   "source": [
    "# Now analyze it:\n",
    "# Get EFD client and butler\n",
    "client = EfdClient('summit_efd')\n",
    "butler = Butler('/repo/LATISS', collections=\"LATISS/raw/all\")"
   ]
  },
  {
   "cell_type": "code",
   "execution_count": null,
   "id": "4393c7dd-5ccd-41e5-b498-18bfeea3aabc",
   "metadata": {},
   "outputs": [],
   "source": [
    "# Here's a start on the analysis.  What needs to be done?\n",
    "#     (1) Convert to Gen3 - done?\n",
    "#     (2) Go to 4th order for fit - done?\n",
    "#     (3) Add accel data to the graph - done?\n",
    "async def MountTracking(expId, butler, client):\n",
    "    # Find the time of exposure                                                                                \n",
    "    mData = butler.get('raw.metadata', detector=0, exposure=expId)\n",
    "    imgType = mData['IMGTYPE']\n",
    "    tStart = mData['DATE-BEG']\n",
    "    tEnd = mData['DATE-END']\n",
    "    elevation = mData['ELSTART']\n",
    "    azimuth = mData['AZSTART']\n",
    "    print(f\"expId = {expId}, imgType = {imgType}, Times = {tStart}, {tEnd}\")\n",
    "    if (imgType not in ['OBJECT', 'SKYEXP', 'ENGTEST', 'DARK']):\n",
    "        return True\n",
    "    end = time.time()\n",
    "    elapsed = end-start\n",
    "    print(f\"Elapsed time for butler query = {elapsed}\")\n",
    "    start = time.time()\n",
    "\n",
    "    # Get the data                                                                                             \n",
    "    t_start = Time(tStart, scale='utc')\n",
    "    t_end = Time(tEnd, scale='utc')\n",
    "\n",
    "    az = await client.select_packed_time_series('lsst.sal.ATMCS.mount_AzEl_Encoders', \\\n",
    "                                                'azimuthCalculatedAngle', t_start, t_end)\n",
    "    el = await client.select_packed_time_series('lsst.sal.ATMCS.mount_AzEl_Encoders', \\\n",
    "                                                'elevationCalculatedAngle', t_start, t_end)\n",
    "    rot = await client.select_packed_time_series('lsst.sal.ATMCS.mount_Nasmyth_Encoders', \\\n",
    "                                                'nasmyth2CalculatedAngle', t_start, t_end)\n",
    "    az_torque_1 = await client.select_packed_time_series('lsst.sal.ATMCS.measuredTorque', \\\n",
    "                                                'azimuthMotor1Torque', t_start, t_end)\n",
    "    az_torque_2 = await client.select_packed_time_series('lsst.sal.ATMCS.measuredTorque', \\\n",
    "                                                'azimuthMotor2Torque', t_start, t_end)\n",
    "    el_torque = await client.select_packed_time_series('lsst.sal.ATMCS.measuredTorque', \\\n",
    "                                                'elevationMotor2Torque', t_start, t_end)\n",
    "    rot_torque = await client.select_packed_time_series('lsst.sal.ATMCS.measuredTorque', \\\n",
    "                                                'nasmyth2MotorTorque', t_start, t_end)\n",
    "\n",
    "    end = time.time()\n",
    "    elapsed = end-start\n",
    "    print(f\"Elapsed time to get the data = {elapsed}\")\n",
    "    start = time.time()\n",
    "\n",
    "    # Calculate the tracking errors                                                                            \n",
    "    az_vals = np.array(az.values.tolist())[:,0]\n",
    "    el_vals = np.array(el.values.tolist())[:,0]\n",
    "    rot_vals = np.array(rot.values.tolist())[:,0]\n",
    "    times = np.array(az.values.tolist())[:,1]\n",
    "    times = times - times[0]\n",
    "    print(\"LengthAz\", len(az_vals))\n",
    "    # Fit with a quartic\n",
    "    az_fit = np.polyfit(times, az_vals, 4)\n",
    "    el_fit = np.polyfit(times, el_vals, 4)\n",
    "    rot_fit = np.polyfit(times, rot_vals, 2)\n",
    "    az_model = az_fit[0] * times * times * times * times + az_fit[1] * times * times * times \\\n",
    "    + az_fit[2] * times *times + az_fit[3] * times + az_fit[4]\n",
    "    el_model = el_fit[0] * times * times * times * times + el_fit[1] * times * times * times \\\n",
    "    + el_fit[2] * times * times + el_fit[3] * times + el_fit[4]\n",
    "    rot_model = rot_fit[0] * times * times + rot_fit[1] * times + rot_fit[2]\n",
    "\n",
    "    # Errors in arcseconds                                                                                     \n",
    "    az_error = (az_vals - az_model) * 3600\n",
    "    el_error = (el_vals - el_model) * 3600\n",
    "    rot_error = (rot_vals - rot_model) * 3600\n",
    "    \n",
    "    # Calculate RMS                                                                                            \n",
    "    az_rms = np.sqrt(np.mean(az_error * az_error))\n",
    "    el_rms = np.sqrt(np.mean(el_error * el_error))\n",
    "    rot_rms = np.sqrt(np.mean(rot_error * rot_error))\n",
    "\n",
    "    end = time.time()\n",
    "    elapsed = end-start\n",
    "    print(f\"Elapsed time for error calculations = {elapsed}\")\n",
    "    start = time.time()\n",
    "  \n",
    "    # Unpickle the accel dataframe\n",
    "    file = open(f'/scratch/labJackData/{expId}.pkl', 'rb')\n",
    "    df = pkl.load(file)\n",
    "    file.close()\n",
    "\n",
    "    if makeGraph:\n",
    "\n",
    "        fig = plt.figure(figsize = (16,16))\n",
    "        plt.suptitle(f\"Mount Tracking {expId}, Azimuth = {azimuth:.1f}, Elevation = {elevation:.1f}\", fontsize\\\n",
    " = 18)\n",
    "        # Azimuth axis                                                                                         \n",
    "        plt.subplot(4,3,1)\n",
    "        ax1 = az['azimuthCalculatedAngle'].plot(legend=True, color='red')\n",
    "        ax1.set_title(\"Azimuth axis\", fontsize=16)\n",
    "        ax1.axvline(tStart, color=\"red\", linestyle=\"--\")\n",
    "        ax1.set_xticks([])\n",
    "        ax1.set_ylabel(\"Degrees\")\n",
    "        plt.subplot(4,3,4)\n",
    "        plt.plot(times, az_error, color='red')\n",
    "        plt.title(f\"Azimuth RMS error = {az_rms:.2f} arcseconds\")\n",
    "        plt.ylim(-10.0,10.0)\n",
    "        plt.xticks([])\n",
    "        plt.ylabel(\"ArcSeconds\")\n",
    "        plt.subplot(4,3,7)\n",
    "        ax7 = az_torque_1['azimuthMotor1Torque'].plot(legend=True, color='blue')\n",
    "        ax7 = az_torque_2['azimuthMotor2Torque'].plot(legend=True, color='green')\n",
    "        ax7.axvline(tStart, color=\"red\", linestyle=\"--\")\n",
    "        plt.subplot(4,3,10)\n",
    "        ax10 = df['ELM2'].plot(color='red')\n",
    "        #ax10.axvline(t_start.to_datetime(), color=\"blue\", linestyle=\"--\")\n",
    "        #ax10.axvline(t_end.to_datetime(), color=\"blue\", linestyle=\"--\")\n",
    "        ax10.set_xlim(t_start.to_datetime(), t_end.to_datetime())\n",
    "\n",
    "        # Elevation axis                                                                                       \n",
    "        plt.subplot(4,3,2)\n",
    "        ax2 = el['elevationCalculatedAngle'].plot(legend=True, color='green')\n",
    "        ax2.set_title(\"Elevation axis\", fontsize=16)\n",
    "        ax2.axvline(tStart, color=\"red\", linestyle=\"--\")\n",
    "        ax2.set_xticks([])\n",
    "        plt.subplot(4,3,5)\n",
    "        plt.plot(times, el_error, color='green')\n",
    "        plt.title(f\"Elevation RMS error = {el_rms:.2f} arcseconds\")\n",
    "        plt.ylim(-10.0,10.0)\n",
    "        plt.xticks([])\n",
    "        plt.subplot(4,3,8)\n",
    "        ax8 = el_torque['elevationMotorTorque'].plot(legend=True, color='blue')\n",
    "        ax8.axvline(tStart, color=\"red\", linestyle=\"--\")\n",
    "        plt.subplot(4,3,11)\n",
    "        ax11 = df['AZM2'].plot(color='red')\n",
    "        #ax11.axvline(t_start.to_datetime(), color=\"blue\", linestyle=\"--\")\n",
    "        #ax11.axvline(t_end.to_datetime(), color=\"blue\", linestyle=\"--\")\n",
    "        ax11.set_xlim(t_start.to_datetime(), t_end.to_datetime())\n",
    "        \n",
    "        # Nasmyth2 rotator axis                                                                                \n",
    "        plt.subplot(4,3,3)\n",
    "        ax3 = rot['nasmyth2CalculatedAngle'].plot(legend=True, color='blue')\n",
    "        ax3.set_title(\"Nasmyth2 axis\", fontsize=16)\n",
    "        ax3.axvline(tStart, color=\"red\", linestyle=\"--\")\n",
    "        ax3.set_xticks([])\n",
    "        plt.subplot(4,3,6)\n",
    "        plt.plot(times, rot_error, color='blue')\n",
    "        plt.title(f\"Nasmyth RMS error = {rot_rms:.2f} arcseconds\")\n",
    "        plt.ylim(-10000.0,10000.0)\n",
    "        plt.subplot(4,3,9)\n",
    "        ax9 = rot_torque['nasmyth2MotorTorque'].plot(legend=True, color='blue')\n",
    "        ax9.axvline(tStart, color=\"red\", linestyle=\"--\")\n",
    "        plt.savefig(f\"/home/craiglagegit/DATA/mount_graphs/Mount_Accel_{expId}_08Mar22.pdf\")                 \n",
    "\n",
    "    end = time.time()\n",
    "    elapsed = end-start\n",
    "    print(f\"Elapsed time for plots = {elapsed}\")\n",
    "    start = time.time()\n",
    "    return\n",
    "        "
   ]
  },
  {
   "cell_type": "code",
   "execution_count": null,
   "id": "d5e17994-6718-407e-8fcc-4e72ca11b88d",
   "metadata": {},
   "outputs": [],
   "source": [
    "# Done here.  The stuff below is just in case I need it."
   ]
  },
  {
   "cell_type": "code",
   "execution_count": null,
   "id": "74e4f8c5",
   "metadata": {},
   "outputs": [],
   "source": [
    "# Plot the data\n",
    "\n",
    "sub_df = df[df.index[0] : df.index[999]]\n",
    "\n",
    "plt.figure(figsize=(8,8))\n",
    "plt.subplots_adjust(hspace=0.5, wspace=0.5)\n",
    "plt.suptitle(\"Summit Container Test 07Mar22\", fontsize=18)\n",
    "plt.subplot(3,3,1)\n",
    "ax1A = sub_df['ELM2'].plot(color='red')\n",
    "ax1A.set_title(\"Elevation M2\", fontsize=16)\n",
    "ax1A.set_ylabel(\"Acceleration(g)\")\n",
    "plt.subplot(3,3,2)\n",
    "ax1A = sub_df['ELT'].plot(color='red')\n",
    "ax1A.set_title(\"Elevation Truss\", fontsize=16)\n",
    "ax1A.set_ylabel(\"Acceleration(g)\")\n",
    "plt.subplot(3,3,3)\n",
    "ax1A = sub_df['ELM1'].plot(color='red')\n",
    "ax1A.set_title(\"Elevation M1\", fontsize=16)\n",
    "ax1A.set_ylabel(\"Acceleration(g)\")\n",
    "plt.subplot(3,3,4)\n",
    "ax1A = sub_df['AZM2'].plot(color='blue')\n",
    "ax1A.set_title(\"Azimuth M2\", fontsize=16)\n",
    "ax1A.set_ylabel(\"Acceleration(g)\")\n",
    "plt.subplot(3,3,5)\n",
    "ax1A = sub_df['AZT'].plot(color='blue')\n",
    "ax1A.set_title(\"Azimuth Truss\", fontsize=16)\n",
    "ax1A.set_ylabel(\"Acceleration(g)\")\n",
    "plt.subplot(3,3,6)\n",
    "ax1A = sub_df['AZM1'].plot(color='blue')\n",
    "ax1A.set_title(\"Azimuth M1\", fontsize=16)\n",
    "ax1A.set_ylabel(\"Acceleration(g)\")\n",
    "plt.subplot(3,3,7)\n",
    "ax1A = sub_df['ZM2'].plot(color='green')\n",
    "ax1A.set_title(\"Optical-Axis M2\", fontsize=16)\n",
    "ax1A.set_ylabel(\"Acceleration(g)\")\n",
    "plt.subplot(3,3,8)\n",
    "ax1A = sub_df['ZT'].plot(color='green')\n",
    "ax1A.set_title(\"Optical-Axis Truss\", fontsize=16)\n",
    "ax1A.set_ylabel(\"Acceleration(g)\")\n",
    "plt.subplot(3,3,9)\n",
    "ax1A = sub_df['ZM1'].plot(color='green')\n",
    "ax1A.set_title(\"Optical-Axis M1\", fontsize=16)\n",
    "ax1A.set_ylabel(\"Acceleration(g)\")\n",
    "\n",
    "plt.savefig(\"/scratch/labJackData/Summit_Hack_Test_07Mar22.pdf\")"
   ]
  },
  {
   "cell_type": "code",
   "execution_count": null,
   "id": "9a9284a5",
   "metadata": {},
   "outputs": [],
   "source": [
    "# Close handles\n",
    "ljm.close(handle)"
   ]
  },
  {
   "cell_type": "code",
   "execution_count": null,
   "id": "ec1760a0",
   "metadata": {},
   "outputs": [],
   "source": [
    "# Unpickle the accel dataframe\n",
    "file = open(f'/scratch/labJackData/{expId}.pkl', 'rb')\n",
    "df = pkl.load(file)\n",
    "file.close()\n"
   ]
  },
  {
   "cell_type": "code",
   "execution_count": null,
   "id": "46a9d34e-496b-4d12-ad59-1ea548371f82",
   "metadata": {},
   "outputs": [],
   "source": [
    "#Starting exposure: 2022-03-07 16:43:21.691384\n",
    "#Exposure done: 2022-03-07 16:43:25.695426\n",
    "tstart = Time(\"2022-03-07T16:43:21.69\", scale='utc')\n",
    "tend = Time(\"2022-03-07T16:43:25.69\", scale='utc')\n"
   ]
  },
  {
   "cell_type": "code",
   "execution_count": null,
   "id": "eee03818-9dca-4588-aa3e-5bc09dcaf431",
   "metadata": {},
   "outputs": [],
   "source": [
    "df.tail(1)"
   ]
  },
  {
   "cell_type": "code",
   "execution_count": null,
   "id": "b2afaeac-17b2-4f95-9c66-ee0f2b469dd7",
   "metadata": {},
   "outputs": [],
   "source": [
    "ax1 = df['ELM2'].plot(color='red')\n",
    "#ax1.axvline(tstart.to_datetime(), color=\"blue\", linestyle=\"--\")\n",
    "#ax1.axvline(tend.to_datetime(), color=\"blue\", linestyle=\"--\")\n",
    "ax1.set_xlim(tstart.to_datetime(), tend.to_datetime())\n",
    "#ax1.set_ylim(0,1.0)"
   ]
  },
  {
   "cell_type": "code",
   "execution_count": null,
   "id": "7c6a2bd3-ae0b-4023-b965-4c4c8022837a",
   "metadata": {},
   "outputs": [],
   "source": []
  }
 ],
 "metadata": {
  "kernelspec": {
   "display_name": "LSST",
   "language": "python",
   "name": "lsst"
  },
  "language_info": {
   "codemirror_mode": {
    "name": "ipython",
    "version": 3
   },
   "file_extension": ".py",
   "mimetype": "text/x-python",
   "name": "python",
   "nbconvert_exporter": "python",
   "pygments_lexer": "ipython3",
   "version": "3.8.13"
  }
 },
 "nbformat": 4,
 "nbformat_minor": 5
}
