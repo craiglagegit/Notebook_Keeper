{
 "cells": [
  {
   "cell_type": "markdown",
   "id": "2dd614f7",
   "metadata": {
    "tags": []
   },
   "source": [
    "## Reading phototransistor with a labJack T7\\\n",
    "Uses 1 analog input (AINs) to read the data.\n",
    "\n",
    "Craig Lage - Jan 24, 2023"
   ]
  },
  {
   "cell_type": "code",
   "execution_count": null,
   "id": "02609e84",
   "metadata": {
    "execution": {
     "iopub.execute_input": "2023-04-14T12:50:43.898003Z",
     "iopub.status.busy": "2023-04-14T12:50:43.897742Z",
     "iopub.status.idle": "2023-04-14T12:50:43.927541Z",
     "shell.execute_reply": "2023-04-14T12:50:43.927037Z",
     "shell.execute_reply.started": "2023-04-14T12:50:43.897988Z"
    },
    "tags": []
   },
   "outputs": [],
   "source": [
    "import sys\n",
    "import time, datetime\n",
    "import numpy as np\n",
    "from astropy.time import Time, TimeDelta\n",
    "\n",
    "from labjack import ljm  # Needed pip install labjack-ljm"
   ]
  },
  {
   "cell_type": "code",
   "execution_count": null,
   "id": "a1de9d21",
   "metadata": {
    "execution": {
     "iopub.execute_input": "2023-04-14T12:54:06.944732Z",
     "iopub.status.busy": "2023-04-14T12:54:06.944464Z",
     "iopub.status.idle": "2023-04-14T12:54:06.950486Z",
     "shell.execute_reply": "2023-04-14T12:54:06.949855Z",
     "shell.execute_reply.started": "2023-04-14T12:54:06.944716Z"
    },
    "tags": []
   },
   "outputs": [],
   "source": [
    "# Open LabJack T4\n",
    "c "
   ]
  },
  {
   "cell_type": "code",
   "execution_count": null,
   "id": "e62bd5db",
   "metadata": {
    "execution": {
     "iopub.execute_input": "2023-04-14T12:54:10.527615Z",
     "iopub.status.busy": "2023-04-14T12:54:10.527351Z",
     "iopub.status.idle": "2023-04-14T12:54:10.530878Z",
     "shell.execute_reply": "2023-04-14T12:54:10.530492Z",
     "shell.execute_reply.started": "2023-04-14T12:54:10.527599Z"
    },
    "tags": []
   },
   "outputs": [],
   "source": [
    "info = ljm.getHandleInfo(handle)\n",
    "print(\"Opened a LabJack with Device type: %i, Connection type: %i,\\n\"\n",
    "      \"Serial number: %i, IP address: %s, Port: %i,\\nMax bytes per MB: %i\" %\n",
    "      (info[0], info[1], info[2], ljm.numberToIP(info[3]), info[4], info[5]))\n",
    "\n",
    "deviceType = info[0]\n",
    "print(deviceType)"
   ]
  },
  {
   "cell_type": "code",
   "execution_count": null,
   "id": "d874874b-b337-484c-a7ac-0e38fb9877d7",
   "metadata": {
    "execution": {
     "iopub.execute_input": "2023-04-14T12:54:15.302899Z",
     "iopub.status.busy": "2023-04-14T12:54:15.302641Z",
     "iopub.status.idle": "2023-04-14T12:54:15.307372Z",
     "shell.execute_reply": "2023-04-14T12:54:15.306657Z",
     "shell.execute_reply.started": "2023-04-14T12:54:15.302883Z"
    },
    "tags": []
   },
   "outputs": [],
   "source": [
    "# Setup and call eWriteNames to configure AIN0 and AIN1 on the LabJack.\n",
    "# LabJack T7 and other devices configuration\n",
    "\n",
    "# AIN0 and AIN1:\n",
    "#   Negative channel = single ended (199)\n",
    "#   Range: +/-10.0 V (10.0)\n",
    "#   Resolution index = Default (0)\n",
    "#   Settling, in microseconds = Auto (0)\n",
    "names = [\"AIN0_NEGATIVE_CH\", \"AIN0_RANGE\", \"AIN0_RESOLUTION_INDEX\", \"AIN0_SETTLING_US\",\n",
    "         \"AIN1_NEGATIVE_CH\", \"AIN1_RANGE\", \"AIN1_RESOLUTION_INDEX\", \"AIN1_SETTLING_US\",\n",
    "        \"AIN2_NEGATIVE_CH\", \"AIN2_RANGE\", \"AIN2_RESOLUTION_INDEX\", \"AIN2_SETTLING_US\"]\n",
    "aValues = [199, 10.0, 0, 0,\n",
    "           199, 10.0, 0, 0,\n",
    "            199, 10.0, 0, 0]\n",
    "numFrames = len(names)\n",
    "ljm.eWriteNames(handle, numFrames, names, aValues)"
   ]
  },
  {
   "cell_type": "code",
   "execution_count": null,
   "id": "d6f14b94-599b-4a57-8f00-599097453e9f",
   "metadata": {},
   "outputs": [],
   "source": [
    "print(\"\\nSet configuration:\")\n",
    "for i in range(numFrames):\n",
    "    print(\"    %s : %f\" % (names[i], aValues[i]))\n"
   ]
  },
  {
   "cell_type": "code",
   "execution_count": null,
   "id": "019ee5c0-e4fc-4ebf-ad69-e8355fc821e5",
   "metadata": {
    "execution": {
     "iopub.execute_input": "2023-04-14T12:56:45.796940Z",
     "iopub.status.busy": "2023-04-14T12:56:45.796497Z",
     "iopub.status.idle": "2023-04-14T12:56:45.801798Z",
     "shell.execute_reply": "2023-04-14T12:56:45.801191Z",
     "shell.execute_reply.started": "2023-04-14T12:56:45.796918Z"
    },
    "tags": []
   },
   "outputs": [],
   "source": [
    "# Read AIN0\n",
    "def readPhotodiode():\n",
    "    loopAmount = 10\n",
    "    # Read AIN's from the LabJack with eReadNames in a loop.\n",
    "    names = [\"AIN0\"]\n",
    "    numFrames = 1\n",
    "    intervalHandle = 1\n",
    "    ljm.startInterval(intervalHandle, 50000)  # Delay between readings (in microseconds)\n",
    "    Results = []\n",
    "    start = time.time()\n",
    "    for n in range(loopAmount):\n",
    "        results = ljm.eReadNames(handle, numFrames, names)\n",
    "        Results.append(results[0])\n",
    "        ljm.waitForNextInterval(intervalHandle)\n",
    "        stamp = time.time()\n",
    "        delay = stamp - start\n",
    "        start = stamp\n",
    "\n",
    "    return np.mean(Results)"
   ]
  },
  {
   "cell_type": "code",
   "execution_count": null,
   "id": "fd69cd20-d00f-4067-bca1-6267db3035cd",
   "metadata": {
    "execution": {
     "iopub.execute_input": "2023-04-14T12:56:55.237083Z",
     "iopub.status.busy": "2023-04-14T12:56:55.236618Z",
     "iopub.status.idle": "2023-04-14T12:56:55.740893Z",
     "shell.execute_reply": "2023-04-14T12:56:55.740447Z",
     "shell.execute_reply.started": "2023-04-14T12:56:55.237041Z"
    }
   },
   "outputs": [],
   "source": [
    "readPhotodiode()"
   ]
  },
  {
   "cell_type": "code",
   "execution_count": null,
   "id": "cc2ed40d-9b8b-4a6f-8bcc-b1bf9c8c3f20",
   "metadata": {
    "execution": {
     "iopub.execute_input": "2023-04-14T12:58:56.590994Z",
     "iopub.status.busy": "2023-04-14T12:58:56.590724Z",
     "iopub.status.idle": "2023-04-14T12:58:56.593435Z",
     "shell.execute_reply": "2023-04-14T12:58:56.593044Z",
     "shell.execute_reply.started": "2023-04-14T12:58:56.590977Z"
    }
   },
   "outputs": [],
   "source": [
    "ljm.close(handle)"
   ]
  },
  {
   "cell_type": "code",
   "execution_count": null,
   "id": "9989bbf5-4ece-4739-926e-bbb2a4ea0c55",
   "metadata": {},
   "outputs": [],
   "source": []
  }
 ],
 "metadata": {
  "kernelspec": {
   "display_name": "LSST",
   "language": "python",
   "name": "lsst"
  },
  "language_info": {
   "codemirror_mode": {
    "name": "ipython",
    "version": 3
   },
   "file_extension": ".py",
   "mimetype": "text/x-python",
   "name": "python",
   "nbconvert_exporter": "python",
   "pygments_lexer": "ipython3",
   "version": "3.10.9"
  }
 },
 "nbformat": 4,
 "nbformat_minor": 5
}
