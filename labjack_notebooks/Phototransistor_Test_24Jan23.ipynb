{
 "cells": [
  {
   "cell_type": "markdown",
   "id": "2dd614f7",
   "metadata": {
    "tags": []
   },
   "source": [
    "## Reading phototransistor with a labJack T7\\\n",
    "Uses 1 analog input (AINs) to read the data.\n",
    "\n",
    "Craig Lage - Jan 24, 2023"
   ]
  },
  {
   "cell_type": "code",
   "execution_count": null,
   "id": "02609e84",
   "metadata": {
    "execution": {
     "iopub.execute_input": "2023-01-24T13:28:53.358845Z",
     "iopub.status.busy": "2023-01-24T13:28:53.358568Z",
     "iopub.status.idle": "2023-01-24T13:28:53.400169Z",
     "shell.execute_reply": "2023-01-24T13:28:53.399690Z",
     "shell.execute_reply.started": "2023-01-24T13:28:53.358829Z"
    },
    "tags": []
   },
   "outputs": [],
   "source": [
    "import sys\n",
    "import time, datetime\n",
    "import numpy as np\n",
    "from astropy.time import Time, TimeDelta\n",
    "\n",
    "from labjack import ljm  # Needed pip install labjack-ljm"
   ]
  },
  {
   "cell_type": "code",
   "execution_count": null,
   "id": "673ceebb-e287-45bd-9e39-adf98b40e6f4",
   "metadata": {
    "execution": {
     "iopub.execute_input": "2023-01-24T13:29:12.597988Z",
     "iopub.status.busy": "2023-01-24T13:29:12.597709Z",
     "iopub.status.idle": "2023-01-24T13:29:12.630447Z",
     "shell.execute_reply": "2023-01-24T13:29:12.630051Z",
     "shell.execute_reply.started": "2023-01-24T13:29:12.597971Z"
    }
   },
   "outputs": [],
   "source": [
    "ljm.openS?"
   ]
  },
  {
   "cell_type": "code",
   "execution_count": null,
   "id": "566bfe76-7b30-4b4a-9283-f98f2dd701f6",
   "metadata": {
    "execution": {
     "iopub.execute_input": "2023-01-24T13:32:58.914268Z",
     "iopub.status.busy": "2023-01-24T13:32:58.913958Z",
     "iopub.status.idle": "2023-01-24T13:32:58.931395Z",
     "shell.execute_reply": "2023-01-24T13:32:58.930600Z",
     "shell.execute_reply.started": "2023-01-24T13:32:58.914249Z"
    },
    "tags": []
   },
   "outputs": [],
   "source": [
    "# Open LabJack T7\n",
    "handle = ljm.openS(\"T7\", \"USB\", \"auxtel_dome_flat\") "
   ]
  },
  {
   "cell_type": "code",
   "execution_count": null,
   "id": "c85e7c6b-4438-4af4-ab9b-e74defdeb299",
   "metadata": {
    "execution": {
     "iopub.execute_input": "2022-12-15T12:24:09.327632Z",
     "iopub.status.busy": "2022-12-15T12:24:09.327072Z",
     "iopub.status.idle": "2022-12-15T12:24:09.331204Z",
     "shell.execute_reply": "2022-12-15T12:24:09.330689Z",
     "shell.execute_reply.started": "2022-12-15T12:24:09.327614Z"
    }
   },
   "outputs": [],
   "source": [
    "info = ljm.getHandleInfo(handle)\n",
    "print(\"Opened a LabJack with Device type: %i, Connection type: %i,\\n\"\n",
    "      \"Serial number: %i, IP address: %s, Port: %i,\\nMax bytes per MB: %i\" %\n",
    "      (info[0], info[1], info[2], ljm.numberToIP(info[3]), info[4], info[5]))"
   ]
  },
  {
   "cell_type": "code",
   "execution_count": null,
   "id": "a1de9d21",
   "metadata": {
    "execution": {
     "iopub.execute_input": "2022-12-15T12:24:12.207597Z",
     "iopub.status.busy": "2022-12-15T12:24:12.207040Z",
     "iopub.status.idle": "2022-12-15T12:24:12.212378Z",
     "shell.execute_reply": "2022-12-15T12:24:12.211773Z",
     "shell.execute_reply.started": "2022-12-15T12:24:12.207578Z"
    }
   },
   "outputs": [],
   "source": [
    "# Open LabJack T4\n",
    "handle = ljm.openS(\"T4\", \"ETHERNET\", \"139.229.170.151\")  "
   ]
  },
  {
   "cell_type": "code",
   "execution_count": null,
   "id": "e62bd5db",
   "metadata": {
    "execution": {
     "iopub.execute_input": "2022-12-15T12:24:14.545382Z",
     "iopub.status.busy": "2022-12-15T12:24:14.545095Z",
     "iopub.status.idle": "2022-12-15T12:24:14.548828Z",
     "shell.execute_reply": "2022-12-15T12:24:14.548402Z",
     "shell.execute_reply.started": "2022-12-15T12:24:14.545365Z"
    }
   },
   "outputs": [],
   "source": [
    "info = ljm.getHandleInfo(handle)\n",
    "print(\"Opened a LabJack with Device type: %i, Connection type: %i,\\n\"\n",
    "      \"Serial number: %i, IP address: %s, Port: %i,\\nMax bytes per MB: %i\" %\n",
    "      (info[0], info[1], info[2], ljm.numberToIP(info[3]), info[4], info[5]))\n",
    "\n",
    "deviceType = info[0]\n",
    "print(deviceType)"
   ]
  },
  {
   "cell_type": "code",
   "execution_count": null,
   "id": "d874874b-b337-484c-a7ac-0e38fb9877d7",
   "metadata": {
    "execution": {
     "iopub.execute_input": "2022-12-15T12:24:17.602849Z",
     "iopub.status.busy": "2022-12-15T12:24:17.602583Z",
     "iopub.status.idle": "2022-12-15T12:24:17.607260Z",
     "shell.execute_reply": "2022-12-15T12:24:17.606598Z",
     "shell.execute_reply.started": "2022-12-15T12:24:17.602832Z"
    }
   },
   "outputs": [],
   "source": [
    "# Setup and call eWriteNames to configure AIN0 and AIN1 on the LabJack.\n",
    "# LabJack T7 and other devices configuration\n",
    "\n",
    "# AIN0 and AIN1:\n",
    "#   Negative channel = single ended (199)\n",
    "#   Range: +/-10.0 V (10.0)\n",
    "#   Resolution index = Default (0)\n",
    "#   Settling, in microseconds = Auto (0)\n",
    "names = [\"AIN0_NEGATIVE_CH\", \"AIN0_RANGE\", \"AIN0_RESOLUTION_INDEX\", \"AIN0_SETTLING_US\",\n",
    "         \"AIN1_NEGATIVE_CH\", \"AIN1_RANGE\", \"AIN1_RESOLUTION_INDEX\", \"AIN1_SETTLING_US\",\n",
    "        \"AIN2_NEGATIVE_CH\", \"AIN2_RANGE\", \"AIN2_RESOLUTION_INDEX\", \"AIN2_SETTLING_US\"]\n",
    "aValues = [199, 10.0, 0, 0,\n",
    "           199, 10.0, 0, 0,\n",
    "            199, 10.0, 0, 0]\n",
    "numFrames = len(names)\n",
    "ljm.eWriteNames(handle, numFrames, names, aValues)"
   ]
  },
  {
   "cell_type": "code",
   "execution_count": null,
   "id": "d6f14b94-599b-4a57-8f00-599097453e9f",
   "metadata": {},
   "outputs": [],
   "source": [
    "print(\"\\nSet configuration:\")\n",
    "for i in range(numFrames):\n",
    "    print(\"    %s : %f\" % (names[i], aValues[i]))\n"
   ]
  },
  {
   "cell_type": "code",
   "execution_count": null,
   "id": "019ee5c0-e4fc-4ebf-ad69-e8355fc821e5",
   "metadata": {
    "execution": {
     "iopub.execute_input": "2022-12-15T12:24:22.125506Z",
     "iopub.status.busy": "2022-12-15T12:24:22.125214Z",
     "iopub.status.idle": "2022-12-15T12:24:22.629734Z",
     "shell.execute_reply": "2022-12-15T12:24:22.629120Z",
     "shell.execute_reply.started": "2022-12-15T12:24:22.125488Z"
    }
   },
   "outputs": [],
   "source": [
    "# Read AIN0(Adam Ain3 - High pressure side) and AIN1 (Adam Ain4 - Low pressure side)\n",
    "\n",
    "loopAmount = 10\n",
    "# Read AIN's from the LabJack with eReadNames in a loop.\n",
    "names = [\"AIN0\", \"AIN1\", \"AIN2\"]\n",
    "numFrames = 3\n",
    "intervalHandle = 1\n",
    "ljm.startInterval(intervalHandle, 50000)  # Delay between readings (in microseconds)\n",
    "plotResults = []\n",
    "start = time.time()\n",
    "for n in range(loopAmount):\n",
    "    results = ljm.eReadNames(handle, numFrames, names)\n",
    "    plotResults.append(results)\n",
    "    ljm.waitForNextInterval(intervalHandle)\n",
    "    stamp = time.time()\n",
    "    delay = stamp - start\n",
    "    start = stamp\n",
    "\n",
    "    print(delay, results)"
   ]
  },
  {
   "cell_type": "code",
   "execution_count": null,
   "id": "faff3826-4214-4b08-b4a3-139f57436852",
   "metadata": {
    "execution": {
     "iopub.execute_input": "2022-12-15T12:25:00.995447Z",
     "iopub.status.busy": "2022-12-15T12:25:00.995082Z",
     "iopub.status.idle": "2022-12-15T12:25:00.999689Z",
     "shell.execute_reply": "2022-12-15T12:25:00.999130Z",
     "shell.execute_reply.started": "2022-12-15T12:25:00.995429Z"
    },
    "tags": []
   },
   "outputs": [],
   "source": [
    "#To convert to pressure, multiply by 344738.0\n",
    "conv_factor = 344738.0\n",
    "pascal_to_psi = 1.45038E-4\n",
    "print(Time(datetime.datetime.now()).isot)\n",
    "print(f\"Phigh = {results[0] * conv_factor:.1f} pascals, Plow = {results[1] * conv_factor:.1f} pascals\")\n",
    "print(f\"Phigh = {results[0] * conv_factor * pascal_to_psi:.1f} psi,Plow = {results[1] * conv_factor * pascal_to_psi:.1f} psi\")"
   ]
  },
  {
   "cell_type": "code",
   "execution_count": null,
   "id": "9a9284a5",
   "metadata": {
    "tags": []
   },
   "outputs": [],
   "source": [
    "# Close handles\n",
    "ljm.close(handle)"
   ]
  },
  {
   "cell_type": "markdown",
   "id": "613bd3bc-0bcf-4dc4-bd06-9fedcc83439b",
   "metadata": {},
   "source": [
    "The commands below are useful if the device gets \"locked up\"."
   ]
  },
  {
   "cell_type": "code",
   "execution_count": null,
   "id": "ec1760a0",
   "metadata": {},
   "outputs": [],
   "source": [
    "ljm.closeAll()"
   ]
  },
  {
   "cell_type": "code",
   "execution_count": null,
   "id": "71ddeedb-9f5f-4e6e-ba54-d926fe6c8ce4",
   "metadata": {},
   "outputs": [],
   "source": [
    "ljm.eStreamStop(handle)"
   ]
  },
  {
   "cell_type": "code",
   "execution_count": null,
   "id": "513bc5cf-05bf-4dcf-8c00-de247a2bf4cd",
   "metadata": {
    "execution": {
     "iopub.execute_input": "2022-12-15T12:50:36.648727Z",
     "iopub.status.busy": "2022-12-15T12:50:36.648454Z",
     "iopub.status.idle": "2022-12-15T15:37:16.655072Z",
     "shell.execute_reply": "2022-12-15T15:37:16.654439Z",
     "shell.execute_reply.started": "2022-12-15T12:50:36.648711Z"
    },
    "tags": []
   },
   "outputs": [],
   "source": [
    "# Use this cell if we want pressure vs time.\n",
    "\n",
    "pressures = []\n",
    "loopAmount = 1000\n",
    "conv_factor = 344738.0\n",
    "pascal_to_psi = 1.45038E-4\n",
    "# Read AIN's from the LabJack with eReadNames in a loop.\n",
    "names = [\"AIN0\", \"AIN1\"]\n",
    "numFrames = 2\n",
    "intervalHandle = 1\n",
    "ljm.startInterval(intervalHandle, 10000000)  # Delay between readings (in microseconds)\n",
    "times = []\n",
    "p1s = []\n",
    "p2s = []\n",
    "start = time.time()\n",
    "for n in range(loopAmount):\n",
    "    results = ljm.eReadNames(handle, numFrames, names)\n",
    "    p1 = results[0] * conv_factor * pascal_to_psi\n",
    "    p2 = results[1] * conv_factor * pascal_to_psi\n",
    "    p1s.append(p1)\n",
    "    p2s.append(p2)\n",
    "    ljm.waitForNextInterval(intervalHandle)\n",
    "    stamp = Time(datetime.datetime.now()).isot\n",
    "    times.append(stamp)\n",
    "    pressures.append([stamp, p1, p2])\n",
    "\n",
    "    print(stamp, p1, p2)"
   ]
  },
  {
   "cell_type": "code",
   "execution_count": null,
   "id": "a6440b99-12c8-4426-8af2-a53d8d0bcd89",
   "metadata": {},
   "outputs": [],
   "source": [
    "vMeas = 6.69\n",
    "conv_factor = 344738.0\n",
    "pascal_to_psi = 1.45038E-4\n",
    "print(f\"{vMeas} v is {vMeas*conv_factor} Pa or {vMeas*conv_factor*pascal_to_psi} PSI\")"
   ]
  },
  {
   "cell_type": "code",
   "execution_count": null,
   "id": "fd69cd20-d00f-4067-bca1-6267db3035cd",
   "metadata": {},
   "outputs": [],
   "source": []
  }
 ],
 "metadata": {
  "kernelspec": {
   "display_name": "LSST",
   "language": "python",
   "name": "lsst"
  },
  "language_info": {
   "codemirror_mode": {
    "name": "ipython",
    "version": 3
   },
   "file_extension": ".py",
   "mimetype": "text/x-python",
   "name": "python",
   "nbconvert_exporter": "python",
   "pygments_lexer": "ipython3",
   "version": "3.10.6"
  }
 },
 "nbformat": 4,
 "nbformat_minor": 5
}
