{
 "cells": [
  {
   "cell_type": "markdown",
   "id": "2dd614f7",
   "metadata": {},
   "source": [
    "## Reading AuxTel chiller pressure with a labJack T4\\\n",
    "Uses 2 analog inputs (AINs) to read the data.\n",
    "Data only read when queried.\n",
    "\n",
    "Craig Lage - Apr 25, 2022\n",
    "\n",
    "To run it, you will first have to do the following:\n",
    "\n",
    "(1) pip install labjack-ljm. This will build the labJack Python code in your local directory at ~/.local/lib/python3.8/site-packages/labjack\n",
    "\n",
    "Relevant Documentation:\n",
    " \n",
    "LJM Library:\n",
    "    LJM Library Installer:\n",
    "        https://labjack.com/support/software/installers/ljm\n",
    "    LJM Users Guide:\n",
    "        https://labjack.com/support/software/api/ljm\n",
    "    Opening and Closing:\n",
    "        https://labjack.com/support/software/api/ljm/function-reference/opening-and-closing\n",
    "    Multiple Value Functions(such as eWriteNames):\n",
    "        https://labjack.com/support/software/api/ljm/function-reference/multiple-value-functions\n",
    "    Timing Functions(such as StartInterval):\n",
    "        https://labjack.com/support/software/api/ljm/function-reference/timing-functions\n",
    " \n",
    "T-Series and I/O:\n",
    "    Modbus Map:\n",
    "        https://labjack.com/support/software/api/modbus/modbus-map\n",
    "    Analog Inputs:\n",
    "        https://labjack.com/support/datasheets/t-series/ain"
   ]
  },
  {
   "cell_type": "code",
   "execution_count": null,
   "id": "02609e84",
   "metadata": {},
   "outputs": [],
   "source": [
    "import sys\n",
    "import time, datetime\n",
    "import numpy as np\n",
    "import matplotlib.pyplot as plt\n",
    "import pandas as pd\n",
    "\n",
    "from labjack import ljm  # Needed pip install labjack-ljm"
   ]
  },
  {
   "cell_type": "code",
   "execution_count": null,
   "id": "a1de9d21",
   "metadata": {},
   "outputs": [],
   "source": [
    "# Open LabJack T4\n",
    "handle = ljm.openS(\"T4\", \"ETHERNET\", \"139.229.170.151\")  "
   ]
  },
  {
   "cell_type": "code",
   "execution_count": null,
   "id": "e62bd5db",
   "metadata": {},
   "outputs": [],
   "source": [
    "info = ljm.getHandleInfo(handle)\n",
    "print(\"Opened a LabJack with Device type: %i, Connection type: %i,\\n\"\n",
    "      \"Serial number: %i, IP address: %s, Port: %i,\\nMax bytes per MB: %i\" %\n",
    "      (info[0], info[1], info[2], ljm.numberToIP(info[3]), info[4], info[5]))\n",
    "\n",
    "deviceType = info[0]\n",
    "print(deviceType)"
   ]
  },
  {
   "cell_type": "code",
   "execution_count": null,
   "id": "d874874b-b337-484c-a7ac-0e38fb9877d7",
   "metadata": {},
   "outputs": [],
   "source": [
    "# Setup and call eWriteNames to configure AIN0 and AIN1 on the LabJack.\n",
    "# LabJack T7 and other devices configuration\n",
    "\n",
    "# AIN0 and AIN1:\n",
    "#   Negative channel = single ended (199)\n",
    "#   Range: +/-10.0 V (10.0)\n",
    "#   Resolution index = Default (0)\n",
    "#   Settling, in microseconds = Auto (0)\n",
    "names = [\"AIN0_NEGATIVE_CH\", \"AIN0_RANGE\", \"AIN0_RESOLUTION_INDEX\", \"AIN0_SETTLING_US\",\n",
    "         \"AIN1_NEGATIVE_CH\", \"AIN1_RANGE\", \"AIN1_RESOLUTION_INDEX\", \"AIN1_SETTLING_US\"]\n",
    "aValues = [199, 10.0, 0, 0,\n",
    "           199, 10.0, 0, 0]\n",
    "numFrames = len(names)\n",
    "ljm.eWriteNames(handle, numFrames, names, aValues)"
   ]
  },
  {
   "cell_type": "code",
   "execution_count": null,
   "id": "d6f14b94-599b-4a57-8f00-599097453e9f",
   "metadata": {},
   "outputs": [],
   "source": [
    "print(\"\\nSet configuration:\")\n",
    "for i in range(numFrames):\n",
    "    print(\"    %s : %f\" % (names[i], aValues[i]))\n"
   ]
  },
  {
   "cell_type": "code",
   "execution_count": null,
   "id": "019ee5c0-e4fc-4ebf-ad69-e8355fc821e5",
   "metadata": {},
   "outputs": [],
   "source": [
    "# Read AIN0(Adam Ain3 - High pressure side) and AIN1 (Adam Ain4 - Low pressure side)\n",
    "\n",
    "loopAmount = 10\n",
    "# Read AIN's from the LabJack with eReadNames in a loop.\n",
    "names = [\"AIN0\", \"AIN1\"]\n",
    "numFrames = 2\n",
    "intervalHandle = 1\n",
    "ljm.startInterval(intervalHandle, 50000)  # Delay between readings (in microseconds)\n",
    "plotResults = []\n",
    "start = time.time()\n",
    "for n in range(loopAmount):\n",
    "    results = ljm.eReadNames(handle, numFrames, names)\n",
    "    plotResults.append(results)\n",
    "    ljm.waitForNextInterval(intervalHandle)\n",
    "    stamp = time.time()\n",
    "    delay = stamp - start\n",
    "    start = stamp\n",
    "\n",
    "    print(delay, results)"
   ]
  },
  {
   "cell_type": "code",
   "execution_count": null,
   "id": "faff3826-4214-4b08-b4a3-139f57436852",
   "metadata": {},
   "outputs": [],
   "source": [
    "#To convert to pressure, multiply by 344738.0\n",
    "conv_factor = 344738.0\n",
    "pascal_to_psi = 1.45038E-4\n",
    "print(\"28Apr22\")\n",
    "print(f\"Phigh = {results[0] * conv_factor:.1f} pascals, Plow = {results[1] * conv_factor:.1f} pascals\")\n",
    "print(f\"Phigh = {results[0] * conv_factor * pascal_to_psi:.1f} psi,Plow = {results[1] * conv_factor * pascal_to_psi:.1f} psi\")"
   ]
  },
  {
   "cell_type": "code",
   "execution_count": null,
   "id": "9a9284a5",
   "metadata": {
    "tags": []
   },
   "outputs": [],
   "source": [
    "# Close handles\n",
    "ljm.close(handle)"
   ]
  },
  {
   "cell_type": "markdown",
   "id": "613bd3bc-0bcf-4dc4-bd06-9fedcc83439b",
   "metadata": {},
   "source": [
    "The commands below are useful if the device gets \"locked up\"."
   ]
  },
  {
   "cell_type": "code",
   "execution_count": null,
   "id": "ec1760a0",
   "metadata": {},
   "outputs": [],
   "source": [
    "ljm.closeAll()"
   ]
  },
  {
   "cell_type": "code",
   "execution_count": null,
   "id": "71ddeedb-9f5f-4e6e-ba54-d926fe6c8ce4",
   "metadata": {},
   "outputs": [],
   "source": [
    "ljm.eStreamStop(handle)"
   ]
  },
  {
   "cell_type": "code",
   "execution_count": null,
   "id": "513bc5cf-05bf-4dcf-8c00-de247a2bf4cd",
   "metadata": {},
   "outputs": [],
   "source": []
  }
 ],
 "metadata": {
  "kernelspec": {
   "display_name": "LSST",
   "language": "python",
   "name": "lsst"
  },
  "language_info": {
   "codemirror_mode": {
    "name": "ipython",
    "version": 3
   },
   "file_extension": ".py",
   "mimetype": "text/x-python",
   "name": "python",
   "nbconvert_exporter": "python",
   "pygments_lexer": "ipython3",
   "version": "3.8.13"
  }
 },
 "nbformat": 4,
 "nbformat_minor": 5
}
