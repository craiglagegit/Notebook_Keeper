{
 "cells": [
  {
   "cell_type": "markdown",
   "id": "2dd614f7",
   "metadata": {},
   "source": [
    "## How to import the functions to read the labJack T7-Pro\n",
    "Uses 9 analog inputs (AINs) to read the data at 200 Hz.\n",
    "This notebook reads the accelerometers while taking an image\n",
    "for mount tracking purposes.  To run it, you will first have to do the following:\n",
    "\n",
    "(1) pip install labjack-ljm.  This will build the labJack Python code\n",
    "    in your local directory at ~/.local/lib/python3.8/site-packages/labjack \\\n",
    "(2) In your ~/notebooks/.user_setups file, add the following lines: \\\n",
    "      export LD_LIBRARY_PATH=\\\\$LD_LIBRARY_PATH:/scratch/lib \\\n",
    "      export PYTHONPATH=\\\\$PYTHONPATH:/scratch/cslage/labJack\n",
    "\n",
    "Craig Lage - Apr 26, 2022"
   ]
  },
  {
   "cell_type": "code",
   "execution_count": null,
   "id": "02609e84",
   "metadata": {},
   "outputs": [],
   "source": [
    "import sys, time, datetime, asyncio\n",
    "import numpy as np\n",
    "import matplotlib.pyplot as plt\n",
    "import pandas as pd\n",
    "import pickle as pkl\n",
    "from lsst.ts import salobj\n",
    "from lsst.ts.observatory.control.auxtel.atcs import ATCS\n",
    "from lsst.ts.observatory.control.auxtel.latiss import LATISS\n",
    "from labjack import ljm  \n",
    "from labjack_functions import LabJackFunctions"
   ]
  },
  {
   "cell_type": "code",
   "execution_count": null,
   "id": "01ce09b9-9144-4da8-8fbd-9db2ff910aeb",
   "metadata": {},
   "outputs": [],
   "source": [
    "# for tab completion to work in current notebook instance\n",
    "%config IPCompleter.use_jedi = False"
   ]
  },
  {
   "cell_type": "code",
   "execution_count": null,
   "id": "ab13d4de-3d40-4d31-a495-814b5207cb0d",
   "metadata": {},
   "outputs": [],
   "source": [
    "import logging\n",
    "stream_handler = logging.StreamHandler(sys.stdout)\n",
    "logger = logging.getLogger()\n",
    "logger.addHandler(stream_handler)\n",
    "logger.level = logging.DEBUG"
   ]
  },
  {
   "cell_type": "code",
   "execution_count": null,
   "id": "78967548-f08f-4035-b324-d1390135eee0",
   "metadata": {
    "jupyter": {
     "outputs_hidden": true
    },
    "tags": []
   },
   "outputs": [],
   "source": [
    "#Start LATISS class\n",
    "domain = salobj.Domain()\n",
    "await asyncio.sleep(10) # This can be removed in the future...\n",
    "latiss = LATISS(domain)\n",
    "await asyncio.gather(latiss.start_task)"
   ]
  },
  {
   "cell_type": "code",
   "execution_count": null,
   "id": "855129aa-cff0-4625-a464-0d6e1982f58f",
   "metadata": {
    "tags": []
   },
   "outputs": [],
   "source": [
    "lj = LabJackFunctions(latiss)"
   ]
  },
  {
   "cell_type": "code",
   "execution_count": null,
   "id": "235584fc-4086-45eb-932c-438ff02729dd",
   "metadata": {
    "tags": []
   },
   "outputs": [],
   "source": [
    "# Take N seconds of accelerometer data not tied to an image\n",
    "await lj.take_accel_data(120)"
   ]
  },
  {
   "cell_type": "code",
   "execution_count": null,
   "id": "cd4e6b1a-bf46-444b-abbd-6b300a13929f",
   "metadata": {},
   "outputs": [],
   "source": [
    "lj.close()"
   ]
  },
  {
   "cell_type": "code",
   "execution_count": null,
   "id": "7fec5bdc-7fc9-4b72-9128-854353bbf697",
   "metadata": {},
   "outputs": [],
   "source": [
    "await latiss.standby()"
   ]
  },
  {
   "cell_type": "markdown",
   "id": "36036e16-7015-4e93-a831-c6b185fe07bd",
   "metadata": {},
   "source": [
    "Try the commands below if the device gets \"locked up\"."
   ]
  },
  {
   "cell_type": "code",
   "execution_count": null,
   "id": "ec1760a0",
   "metadata": {},
   "outputs": [],
   "source": [
    "ljm.closeAll()"
   ]
  },
  {
   "cell_type": "code",
   "execution_count": null,
   "id": "71ddeedb-9f5f-4e6e-ba54-d926fe6c8ce4",
   "metadata": {},
   "outputs": [],
   "source": [
    "ljm.eStreamStop(handle)"
   ]
  },
  {
   "cell_type": "code",
   "execution_count": null,
   "id": "a827b210-6499-4cc4-8155-d4a8ed989d8c",
   "metadata": {},
   "outputs": [],
   "source": []
  }
 ],
 "metadata": {
  "kernelspec": {
   "display_name": "LSST",
   "language": "python",
   "name": "lsst"
  },
  "language_info": {
   "codemirror_mode": {
    "name": "ipython",
    "version": 3
   },
   "file_extension": ".py",
   "mimetype": "text/x-python",
   "name": "python",
   "nbconvert_exporter": "python",
   "pygments_lexer": "ipython3",
   "version": "3.8.13"
  }
 },
 "nbformat": 4,
 "nbformat_minor": 5
}
