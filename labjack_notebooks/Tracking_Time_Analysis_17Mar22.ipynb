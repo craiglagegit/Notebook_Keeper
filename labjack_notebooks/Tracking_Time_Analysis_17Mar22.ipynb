{
 "cells": [
  {
   "cell_type": "markdown",
   "id": "2dd614f7",
   "metadata": {},
   "source": [
    "## Anayzing accelerometer data of a fixed time\n",
    "\n",
    "Craig Lage - Mar 18, 2022"
   ]
  },
  {
   "cell_type": "code",
   "execution_count": null,
   "id": "02609e84",
   "metadata": {},
   "outputs": [],
   "source": [
    "import sys, time, datetime\n",
    "import numpy as np\n",
    "import matplotlib.pyplot as plt\n",
    "import pandas as pd\n",
    "import pickle as pkl\n",
    "from astropy.time import Time, TimeDelta\n",
    "import astropy.units as u\n"
   ]
  },
  {
   "cell_type": "code",
   "execution_count": null,
   "id": "1a576cee-c8a5-4b69-ab23-c7480861dd44",
   "metadata": {},
   "outputs": [],
   "source": [
    "# Choose a filename\n",
    "#filename = '20220317T235524Z.pkl' # 10 seconds\n",
    "#filename = '20220318T030201Z.pkl'\n",
    "#filename = '20220318T030952Z.pkl'\n",
    "#filename = '20220318T034216Z.pkl'\n",
    "#filename = '20220318T022741Z.pkl'\n",
    "#filename = '20220323T124941Z.pkl'\n",
    "#filename = '20220323T130146Z.pkl'\n",
    "#filename = '20220323T162656Z.pkl'\n",
    "filename = '20220406T223707Z.pkl'\n",
    "# Unpickle the accel dataframe\n",
    "file = open(f'/scratch/labJackData/{filename}', 'rb')\n",
    "df = pkl.load(file)\n",
    "file.close()"
   ]
  },
  {
   "cell_type": "code",
   "execution_count": null,
   "id": "2a8f283f-c774-4f4f-aabb-3b0ef72c7130",
   "metadata": {
    "tags": []
   },
   "outputs": [],
   "source": [
    "# Mask out bad regions\n",
    "df = df.where(abs(df['ELM2']) < 10.0) \n",
    "print(f\"Approximately {len(df) / 200:.2f} seconds of data\")\n",
    "# Select a subset of the data if desired\n",
    "# and apply a rolling average\n",
    "rolling = 100 # number of data points to average\n",
    "timeSubset = True\n",
    "timeStart = \"2022-04-07 01:14:30\"\n",
    "timeEnd = \"2022-04-07 01:15:30\"\n",
    "if timeSubset:\n",
    "    subdf = df.loc[timeStart:timeEnd]\n",
    "    subdf = subdf.rolling(rolling).sum() / rolling\n",
    "print(f\"Approximately {len(subdf) / 200:.2f} seconds of data\")\n",
    "fig = plt.figure(figsize = (8,10))\n",
    "plt.subplots_adjust(hspace=1.0, wspace=1.5)\n",
    "timestamp = filename.split('.')[0]\n",
    "plt.suptitle(f\"Mount Tracking {timestamp}\", fontsize = 18)\n",
    "plt.subplots_adjust(wspace=0.5, hspace=0.5)\n",
    "plotcounter = 1\n",
    "for axis in ['AZ', 'EL', 'Z']:\n",
    "    for accel in ['M2', 'T', 'M1']:\n",
    "        name = axis + accel\n",
    "        plt.subplot(3,3,plotcounter)\n",
    "        plt.title(name, fontsize=12)\n",
    "        subdf[name].plot(color='red')\n",
    "        plt.ylabel('Acceleration(g)')\n",
    "        plotcounter += 1\n",
    "plt.savefig(f\"/scratch/labJackData/Accel_Smoothed_Window_1_{timestamp}.pdf\")\n",
    "        "
   ]
  },
  {
   "cell_type": "code",
   "execution_count": null,
   "id": "ea8985c0-9530-4499-9022-001bb42b38cf",
   "metadata": {},
   "outputs": [],
   "source": [
    "plt.close()"
   ]
  },
  {
   "cell_type": "code",
   "execution_count": null,
   "id": "bef8c962-33d7-4c2c-b66a-c9d8e0ec6c30",
   "metadata": {},
   "outputs": [],
   "source": []
  }
 ],
 "metadata": {
  "kernelspec": {
   "display_name": "LSST",
   "language": "python",
   "name": "lsst"
  },
  "language_info": {
   "codemirror_mode": {
    "name": "ipython",
    "version": 3
   },
   "file_extension": ".py",
   "mimetype": "text/x-python",
   "name": "python",
   "nbconvert_exporter": "python",
   "pygments_lexer": "ipython3",
   "version": "3.8.13"
  }
 },
 "nbformat": 4,
 "nbformat_minor": 5
}
