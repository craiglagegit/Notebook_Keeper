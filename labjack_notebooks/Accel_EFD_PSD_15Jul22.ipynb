{
 "cells": [
  {
   "cell_type": "markdown",
   "id": "153412e6",
   "metadata": {},
   "source": [
    "# AuxTel accelerometer PSD - 15-Jul-22\n",
    "Testing the unpacking code for lsst-efd-client \\\n",
    "Craig Lage"
   ]
  },
  {
   "cell_type": "code",
   "execution_count": null,
   "id": "fcd0a71e",
   "metadata": {},
   "outputs": [],
   "source": [
    "import sys, time, os, asyncio\n",
    "from datetime import datetime\n",
    "import numpy as np\n",
    "import matplotlib.pyplot as plt\n",
    "from matplotlib.backends.backend_pdf import PdfPages\n",
    "import pandas as pd\n",
    "from astropy.time import Time, TimeDelta\n",
    "from lsst.daf.butler import Butler\n",
    "from lsst_efd_client.efd_helper import EfdClient\n",
    "from lsst_efd_client.efd_utils import merge_packed_PSD"
   ]
  },
  {
   "cell_type": "code",
   "execution_count": null,
   "id": "aed2b09e",
   "metadata": {},
   "outputs": [],
   "source": [
    "# Get EFD client\n",
    "client = EfdClient('ldf_stable_efd')"
   ]
  },
  {
   "cell_type": "code",
   "execution_count": null,
   "id": "b8c90662-31f2-4da1-8647-01c6fa8e5a45",
   "metadata": {},
   "outputs": [],
   "source": [
    "# Times to start looking at PSD data\n",
    "start = Time(\"2022-07-14 12:00:00Z\", scale='utc')\n",
    "end = Time(\"2022-07-14 12:00:10Z\", scale='utc')"
   ]
  },
  {
   "cell_type": "markdown",
   "id": "4e2a6f7e-b064-4a52-9f14-da21110efa89",
   "metadata": {},
   "source": [
    "# First, test the merge_packed_PSD function."
   ]
  },
  {
   "cell_type": "code",
   "execution_count": null,
   "id": "92c618db-2e1d-41f3-bbc2-f9152474d6f4",
   "metadata": {},
   "outputs": [],
   "source": [
    "accel_data = await client.select_time_series(\"lsst.sal.ESS.accelerometerPSD\", [\"*\"], start, end)\n",
    "\n",
    "indexCounter = 0\n",
    "plt.figure(figsize=(16,16))\n",
    "plt.subplots_adjust(wspace=0.5, hspace=0.3)\n",
    "axes = ['X', 'Y', 'Z']\n",
    "sensors = [\"AuxTel-M1\", \"AuxTel-M2\", \"AuxTel-Truss\"]\n",
    "plotCounter = 1\n",
    "for sensor in sensors:\n",
    "    for axis in axes:\n",
    "        base_field = f\"accelerationPSD{axis}\"\n",
    "        plt.subplot(3,3,plotCounter)\n",
    "        plt.title(f\"{sensor} - {axis}\", fontsize=12)\n",
    "        df = merge_packed_PSD(accel_data, base_field, sensor)\n",
    "        row = df.iloc[indexCounter][2:]\n",
    "        row.plot()\n",
    "        plt.xlabel('Frequency [Hz]')\n",
    "        plt.ylabel('PSD [m^2/(Hz s^4)]')\n",
    "        plotCounter += 1\n",
    "timestamp = df.index[0].strftime(\"%Y%m%dT%H%M%SZ\")\n",
    "plt.suptitle(f\"Accelerometer Power Spectral Density - {timestamp}\", fontsize=16)\n",
    "plt.savefig(f\"/project/cslage/AuxTel/accel_data/Accel_PSD_{timestamp}.pdf\")"
   ]
  },
  {
   "cell_type": "markdown",
   "id": "81d43ad5-dfb0-4d00-a284-6b85834e9b96",
   "metadata": {},
   "source": [
    "# Next, test the select_packed_PSD function with a single axis and sensor."
   ]
  },
  {
   "cell_type": "code",
   "execution_count": null,
   "id": "eed858ce-90a5-418a-8ea7-d9bbc25ca986",
   "metadata": {},
   "outputs": [],
   "source": [
    "indexCounter = 0\n",
    "plt.figure(figsize=(16,16))\n",
    "plt.subplots_adjust(wspace=0.5, hspace=0.3)\n",
    "xes = ['X', 'Y', 'Z']\n",
    "sensors = [\"AuxTel-M1\", \"AuxTel-M2\", \"AuxTel-Truss\"]\n",
    "plotCounter = 1\n",
    "for sensor in sensors:\n",
    "    for axis in axes:\n",
    "        base_field = f\"accelerationPSD{axis}\"\n",
    "        plt.subplot(3,3,plotCounter)\n",
    "        plt.title(f\"{sensor} - {axis}\", fontsize=12)\n",
    "        df = await client.select_packed_PSD(\"lsst.sal.ESS.accelerometerPSD\", base_field, sensor, start, end)\n",
    "        row = df.iloc[indexCounter][2:]\n",
    "        row.plot()\n",
    "        plt.xlabel('Frequency [Hz]')\n",
    "        plt.ylabel('PSD [m^2/(Hz s^4)]')\n",
    "        plotCounter += 1\n",
    "timestamp = df.index[0].strftime(\"%Y%m%dT%H%M%SZ\")\n",
    "plt.suptitle(f\"Accelerometer Power Spectral Density - {timestamp}\", fontsize=16)\n",
    "plt.savefig(f\"/project/cslage/AuxTel/accel_data/Accel_PSD_{timestamp}.pdf\")"
   ]
  },
  {
   "cell_type": "markdown",
   "id": "6324764b-f017-446f-86f2-0c5a87082389",
   "metadata": {},
   "source": [
    "# Next, test the select_packed_PSD function with multiple axes and sensors."
   ]
  },
  {
   "cell_type": "code",
   "execution_count": null,
   "id": "2406c927-4e47-4b8e-9108-0c42e045d814",
   "metadata": {},
   "outputs": [],
   "source": [
    "indexCounter = 0\n",
    "plt.figure(figsize=(16,16))\n",
    "plt.subplots_adjust(wspace=0.5, hspace=0.3)\n",
    "axes = ['X', 'Y', 'Z']\n",
    "sensors = [\"AuxTel-M1\", \"AuxTel-M2\", \"AuxTel-Truss\"]\n",
    "base_fields = []\n",
    "for axis in axes:\n",
    "    base_fields.append(f\"accelerationPSD{axis}\")\n",
    "df = await client.select_packed_PSD(\"lsst.sal.ESS.accelerometerPSD\", base_fields, sensors, start, end)\n",
    "plotCounter = 1\n",
    "for sensor in sensors:\n",
    "    for axis in axes:\n",
    "        SensorName = f\"{sensor}-{axis}\"\n",
    "        plt.subplot(3,3,plotCounter)\n",
    "        plt.title(f\"{sensor} - {axis}\", fontsize=12)\n",
    "        plot_df = df[df[\"SensorName\"] == SensorName]\n",
    "        row = plot_df.iloc[indexCounter][2:]\n",
    "        row.plot()\n",
    "        plt.xlabel('Frequency [Hz]')\n",
    "        plt.ylabel('PSD [m^2/(Hz s^4)]')\n",
    "        plotCounter += 1\n",
    "timestamp = df.index[0].strftime(\"%Y%m%dT%H%M%SZ\")\n",
    "plt.suptitle(f\"Accelerometer Power Spectral Density - {timestamp}\", fontsize=16)\n",
    "plt.savefig(f\"/project/cslage/AuxTel/accel_data/Accel_PSD_{timestamp}.pdf\")"
   ]
  },
  {
   "cell_type": "code",
   "execution_count": null,
   "id": "0a1ab773-430f-4756-a124-03e0ed2b3abd",
   "metadata": {},
   "outputs": [],
   "source": []
  }
 ],
 "metadata": {
  "kernelspec": {
   "display_name": "LSST",
   "language": "python",
   "name": "lsst"
  },
  "language_info": {
   "codemirror_mode": {
    "name": "ipython",
    "version": 3
   },
   "file_extension": ".py",
   "mimetype": "text/x-python",
   "name": "python",
   "nbconvert_exporter": "python",
   "pygments_lexer": "ipython3",
   "version": "3.10.4"
  }
 },
 "nbformat": 4,
 "nbformat_minor": 5
}
