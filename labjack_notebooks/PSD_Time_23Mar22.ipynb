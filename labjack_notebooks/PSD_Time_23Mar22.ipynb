{
 "cells": [
  {
   "cell_type": "markdown",
   "id": "2dd614f7",
   "metadata": {},
   "source": [
    "## PSD of accel data\n",
    "\n",
    "This version is for the time based data not tied to an exposure.\\\n",
    "Craig Lage - Mar 23, 2022"
   ]
  },
  {
   "cell_type": "code",
   "execution_count": null,
   "id": "02609e84",
   "metadata": {},
   "outputs": [],
   "source": [
    "import sys\n",
    "import time, datetime\n",
    "import numpy as np\n",
    "import pickle as pkl\n",
    "import matplotlib.pyplot as plt\n",
    "import pandas as pd\n",
    "from scipy import signal"
   ]
  },
  {
   "cell_type": "code",
   "execution_count": null,
   "id": "d8e4f3ba-e826-47da-846f-0318a6f5ffdb",
   "metadata": {},
   "outputs": [],
   "source": [
    "filename = '20220406T223707Z.pkl'\n",
    "file = open(f'/scratch/labJackData/{filename}', 'rb')\n",
    "df = pkl.load(file)\n",
    "file.close()\n",
    "outname = filename.split('.')[0]\n",
    "# Mask out bad regions\n",
    "df = df.where(abs(df['ELM2']) < 10.0) \n",
    "# Drop NaNs\n",
    "df = df.dropna()\n",
    "print(f\"Approximately {len(df) / 200:.2f} seconds of data\")\n",
    "# Select a subset of the data if desired\n",
    "timeSubset = False\n",
    "timeStart = \"2022-03-23 12:50:11.0\"\n",
    "timeEnd = \"2022-03-23 12:50:11.7\"\n",
    "if timeSubset:\n",
    "    df = df.loc[timeStart:timeEnd]\n",
    "\n",
    "fs = 200 # Sampling frequency in Hz.  This is currently set to 200Hz.  Data taken on 20220203 was at 100Hz.\n",
    "\n",
    "plt.figure(figsize=(8,10))\n",
    "plt.subplots_adjust(wspace=0.5, hspace=0.5)\n",
    "plt.suptitle(\"Accelerometer Power Spectral Density\", fontsize=16)\n",
    "plotcounter = 1\n",
    "for axis in ['AZ', 'EL', 'Z']:\n",
    "    for accel in ['M2', 'T', 'M1']:\n",
    "        name = axis + accel\n",
    "        plt.subplot(4,3,plotcounter)\n",
    "        plt.title(name, fontsize=12)\n",
    "        data = np.array(df[name].values.tolist())\n",
    "        f, PSD = signal.welch(data, fs, nperseg=150)\n",
    "        plt.semilogy(f, PSD)\n",
    "        plt.ylim([1E-9, 1E-6])\n",
    "        plt.xlabel('Frequency [Hz]')\n",
    "        plt.ylabel('PSD [g^2/Hz]')\n",
    "        plotcounter += 1\n",
    "        #if plotcounter == 8:\n",
    "        #    plt.legend(bbox_to_anchor=(3.0, -0.3))\n",
    "plt.savefig(f\"/scratch/labJackData/PSD_{outname}_23Mar22.pdf\")"
   ]
  },
  {
   "cell_type": "code",
   "execution_count": null,
   "id": "22c62052-f079-4f11-b815-3be85731b70a",
   "metadata": {},
   "outputs": [],
   "source": [
    "# This stuff below may or may not be needed"
   ]
  },
  {
   "cell_type": "code",
   "execution_count": null,
   "id": "98407140-9d8a-4ea1-956f-4f636dd9b0fe",
   "metadata": {},
   "outputs": [],
   "source": [
    "name = 'AZT'"
   ]
  },
  {
   "cell_type": "code",
   "execution_count": null,
   "id": "7bce255f-de63-4eae-bd44-00e0df45004a",
   "metadata": {},
   "outputs": [],
   "source": [
    "data = np.array(df[name].values.tolist())"
   ]
  },
  {
   "cell_type": "code",
   "execution_count": null,
   "id": "d33a5fb0-a996-41e5-89e4-6757b0f19fed",
   "metadata": {},
   "outputs": [],
   "source": [
    "times = np.array(df[name].index.tolist())\n",
    "for i, time in enumerate(times):\n",
    "        times[i] = (time - pd.Timestamp(\"1970-01-01\")) / pd.Timedelta('1s')"
   ]
  },
  {
   "cell_type": "code",
   "execution_count": null,
   "id": "4194a645-6a00-4599-bbb7-66cbcd2c6bb6",
   "metadata": {},
   "outputs": [],
   "source": [
    "f = np.delete(f, 0)"
   ]
  },
  {
   "cell_type": "code",
   "execution_count": null,
   "id": "85bae4c2-2b0f-4cab-92bb-7c1d12937ec1",
   "metadata": {},
   "outputs": [],
   "source": [
    "output = signal.lombscargle(times, data, f)"
   ]
  },
  {
   "cell_type": "code",
   "execution_count": null,
   "id": "227f4637-b2e3-4e00-bca7-ab5b91a07e74",
   "metadata": {},
   "outputs": [],
   "source": [
    "plt.plot(f, output)"
   ]
  },
  {
   "cell_type": "code",
   "execution_count": null,
   "id": "ace1c29e-6d07-4111-ac3a-2570c6cedf87",
   "metadata": {},
   "outputs": [],
   "source": [
    "w[0]"
   ]
  },
  {
   "cell_type": "code",
   "execution_count": null,
   "id": "b4127acd-cfcc-4ff1-8257-f5b97cfbdd4a",
   "metadata": {},
   "outputs": [],
   "source": []
  }
 ],
 "metadata": {
  "kernelspec": {
   "display_name": "LSST",
   "language": "python",
   "name": "lsst"
  },
  "language_info": {
   "codemirror_mode": {
    "name": "ipython",
    "version": 3
   },
   "file_extension": ".py",
   "mimetype": "text/x-python",
   "name": "python",
   "nbconvert_exporter": "python",
   "pygments_lexer": "ipython3",
   "version": "3.8.13"
  }
 },
 "nbformat": 4,
 "nbformat_minor": 5
}
