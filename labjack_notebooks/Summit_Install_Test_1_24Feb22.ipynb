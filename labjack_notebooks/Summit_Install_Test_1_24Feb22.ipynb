{
 "cells": [
  {
   "cell_type": "markdown",
   "id": "2dd614f7",
   "metadata": {},
   "source": [
    "## Reading three TE accelerometers with a labJack T7-Pro\\\n",
    "Uses 9 analog inputs (AINs) to read the data at 200 Hz.\n",
    "\n",
    "Craig Lage - Sep 09, 2021\n",
    "\n",
    "Relevant Documentation:\n",
    " \n",
    "LJM Library:\n",
    "    LJM Library Installer:\n",
    "        https://labjack.com/support/software/installers/ljm\n",
    "    LJM Users Guide:\n",
    "        https://labjack.com/support/software/api/ljm\n",
    "    Opening and Closing:\n",
    "        https://labjack.com/support/software/api/ljm/function-reference/opening-and-closing\n",
    "    Multiple Value Functions(such as eWriteNames):\n",
    "        https://labjack.com/support/software/api/ljm/function-reference/multiple-value-functions\n",
    "    Timing Functions(such as StartInterval):\n",
    "        https://labjack.com/support/software/api/ljm/function-reference/timing-functions\n",
    " \n",
    "T-Series and I/O:\n",
    "    Modbus Map:\n",
    "        https://labjack.com/support/software/api/modbus/modbus-map\n",
    "    Analog Inputs:\n",
    "        https://labjack.com/support/datasheets/t-series/ain"
   ]
  },
  {
   "cell_type": "code",
   "execution_count": null,
   "id": "02609e84",
   "metadata": {},
   "outputs": [],
   "source": [
    "import sys\n",
    "import time, datetime\n",
    "import numpy as np\n",
    "import matplotlib.pyplot as plt\n",
    "import pandas as pd\n",
    "\n",
    "from labjack import ljm  # Needed pip install labjack-ljm"
   ]
  },
  {
   "cell_type": "code",
   "execution_count": null,
   "id": "b9bab896-d21c-40c8-9ec5-a78ba028b62a",
   "metadata": {
    "tags": []
   },
   "outputs": [],
   "source": [
    "dir(ljm)"
   ]
  },
  {
   "cell_type": "code",
   "execution_count": null,
   "id": "e0feb7eb-73b2-4978-bf55-60fc50be5863",
   "metadata": {},
   "outputs": [],
   "source": [
    "ljm.readLibraryConfigS('LJM_ETHERNET_SEND_RECEIVE_TIMEOUT_MS')"
   ]
  },
  {
   "cell_type": "code",
   "execution_count": null,
   "id": "8d293236-7616-4eb6-9054-5de568a7934a",
   "metadata": {},
   "outputs": [],
   "source": [
    "ljm.writeLibraryConfigS('LJM_ETHERNET_SEND_RECEIVE_TIMEOUT_MS', 26000)"
   ]
  },
  {
   "cell_type": "code",
   "execution_count": null,
   "id": "746f172d-d24b-4f40-b4cd-fc708a16f472",
   "metadata": {},
   "outputs": [],
   "source": [
    "# Open LabJack\n",
    "handle = ljm.openS(\"T7\", \"wifi\", \"139.229.164.249\")  "
   ]
  },
  {
   "cell_type": "code",
   "execution_count": null,
   "id": "c29aa087-0a58-4dcc-8c52-2b0eb8b5af27",
   "metadata": {},
   "outputs": [],
   "source": [
    "# Open LabJack\n",
    "handle = ljm.openS(\"T7\", \"ethernet\", \"139.229.164.248\")  "
   ]
  },
  {
   "cell_type": "code",
   "execution_count": null,
   "id": "e62bd5db",
   "metadata": {},
   "outputs": [],
   "source": [
    "info = ljm.getHandleInfo(handle)\n",
    "print(\"Opened a LabJack with Device type: %i, Connection type: %i,\\n\"\n",
    "      \"Serial number: %i, IP address: %s, Port: %i,\\nMax bytes per MB: %i\" %\n",
    "      (info[0], info[1], info[2], ljm.numberToIP(info[3]), info[4], info[5]))\n",
    "\n",
    "deviceType = info[0]\n",
    "print(deviceType)"
   ]
  },
  {
   "cell_type": "code",
   "execution_count": null,
   "id": "a1de9d21",
   "metadata": {},
   "outputs": [],
   "source": [
    "# Open LabJack\n",
    "handle = ljm.openS(\"T7\", \"wifi\", \"139.229.164.249\")  "
   ]
  },
  {
   "cell_type": "code",
   "execution_count": null,
   "id": "f4c382fb-b842-49a3-b03e-0598f129eb00",
   "metadata": {},
   "outputs": [],
   "source": [
    "# Open LabJack\n",
    "handle = ljm.openS(\"T7\", \"wifi\", \"139.229.164.249\")  "
   ]
  },
  {
   "cell_type": "code",
   "execution_count": null,
   "id": "150ad371",
   "metadata": {},
   "outputs": [],
   "source": [
    "# Structures to hold the calibration data and connection information\n",
    "class zeroOffset:\n",
    "    def __init__(self, off_x, off_y, off_z):\n",
    "        # This is the reading in Volts when accel = 0\n",
    "        self.x = off_x\n",
    "        self.y = off_y\n",
    "        self.z = off_z\n",
    "        \n",
    "class gMult:\n",
    "    def __init__(self, mult_x, mult_y, mult_z):\n",
    "        # This is the conversion to acceleration in V/g\n",
    "        self.x = mult_x\n",
    "        self.y = mult_y\n",
    "        self.z = mult_z\n",
    "        \n",
    "class AIN_name:\n",
    "    def __init__(self, ain_x, ain_y, ain_z):\n",
    "        # This is where the sensors are connected to the labJack\n",
    "        self.x = ain_x\n",
    "        self.y = ain_y\n",
    "        self.z = ain_z\n",
    "\n",
    "class calData:\n",
    "    def __init__(self, serial=\"\", ain_x=\"\", ain_y=\"\", ain_z=\"\", off_x=0.0, off_y=0.0, off_z=0.0, mult_x=1.0, mult_y=1.0, mult_z=1.0):\n",
    "        # The serial number is imprinted on the accelerometer\n",
    "        self.serial = serial\n",
    "        self.AIN_name = AIN_name(ain_x, ain_y, ain_z)\n",
    "        self.zeroOffset = zeroOffset(off_x, off_y, off_z)\n",
    "        self.gMult = gMult(mult_x, mult_y, mult_z)\n",
    "        \n",
    "calDict = {}\n",
    "calDict[\"1\"] = calData(serial=\"A395429\", ain_x=\"AIN1\", ain_y=\"AIN2\", ain_z=\"AIN3\", off_x=2.49017, off_y=2.44424, off_z=2.44589, mult_x=0.98959, mult_y=0.98572, mult_z=0.99946)\n",
    "calDict[\"2\"] = calData(serial=\"A395423\", ain_x=\"AIN4\", ain_y=\"AIN5\", ain_z=\"AIN6\", off_x=2.49874, off_y=2.49595, off_z=2.41423, mult_x=0.99740, mult_y=1.00142, mult_z=0.99595)\n",
    "calDict[\"3\"] = calData(serial=\"A395446\", ain_x=\"AIN7\", ain_y=\"AIN8\", ain_z=\"AIN9\", off_x=2.47830, off_y=2.48088, off_z=2.41385, mult_x=0.97957, mult_y=0.98699, mult_z=1.00376)"
   ]
  },
  {
   "cell_type": "code",
   "execution_count": null,
   "id": "c4d759a8",
   "metadata": {},
   "outputs": [],
   "source": [
    "# Create list of AIN names and initialize\n",
    "\n",
    "# Ensure triggered stream is disabled.\n",
    "ljm.eWriteName(handle, \"STREAM_TRIGGER_INDEX\", 0)\n",
    "# Enabling internally-clocked stream.\n",
    "ljm.eWriteName(handle, \"STREAM_CLOCK_SOURCE\", 0)\n",
    "\n",
    "# All negative channels are single-ended, AIN0 and AIN1 ranges are\n",
    "# +/-10 V, stream settling is 0 (default) and stream resolution index\n",
    "# is 0 (default).\n",
    "\n",
    "aRange = 10.0 # +/- 10.0 Volts\n",
    "aSettle = 0 # 0 microsecond settling time\n",
    "resIndex = 0\n",
    "aNames = [\"AIN_ALL_NEGATIVE_CH\", \"STREAM_SETTLING_US\", \"STREAM_RESOLUTION_INDEX\"] # List of set-up parameters\n",
    "aValues = [ljm.constants.GND, aSettle, resIndex] # List of set-up values\n",
    "\n",
    "aScanListNames = [] # List of AIN names which will be read\n",
    "offsets = []\n",
    "gMults = []\n",
    "for name in [\"1\", \"2\", \"3\"]:\n",
    "    for axis in [\"x\", \"y\", \"z\"]:\n",
    "        exec(f\"aName = calDict['{name}'].AIN_name.{axis}\")\n",
    "        aScanListNames.append(aName)\n",
    "        aNames.append(aName+\"_RANGE\")\n",
    "        aValues.append(aRange)\n",
    "        exec(f\"off = calDict['{name}'].zeroOffset.{axis}\")\n",
    "        offsets.append(off)\n",
    "        exec(f\"gMult = calDict['{name}'].gMult.{axis}\")\n",
    "        gMults.append(gMult)\n",
    "\n",
    "offsets = np.array(offsets)\n",
    "gMults = np.array(gMults)\n",
    "         \n",
    "# Write the analog inputs' negative channels (when applicable), ranges,\n",
    "# stream settling time and stream resolution configuration.\n",
    "numFrames = len(aNames)\n",
    "ljm.eWriteNames(handle, numFrames, aNames, aValues)\n"
   ]
  },
  {
   "cell_type": "code",
   "execution_count": null,
   "id": "6a29aa6d",
   "metadata": {},
   "outputs": [],
   "source": [
    "def readStream(aScanListNames, handle=handle, scanRate=200, readTime=1.0, offsets=offsets, gMults=gMults):\n",
    "    # This reads the accelerometers for a time readTime\n",
    "    # and returns a Pandas timeSeries with the data\n",
    "    # aScanListNames is the list of AIN ports (9 in total)\n",
    "    # handle is the handle for talking to the labJack\n",
    "    # scanRate is the read frequency in Hertz\n",
    "    # readTime is the total time of read in seconds\n",
    "    # calDict is the dictionary with the calibration data\n",
    "    # The function returns a Pandas dataframe with the three \n",
    "    # accelerometers times three axes results\n",
    "    \n",
    "    numAddresses = len(aScanListNames)\n",
    "    aScanList = ljm.namesToAddresses(numAddresses, aScanListNames)[0]\n",
    "    scansPerRead = int(scanRate * readTime)\n",
    "    try:\n",
    "        # Configure and start stream\n",
    "        scanRate = ljm.eStreamStart(handle, scansPerRead, numAddresses, aScanList, scanRate)\n",
    "        start = datetime.datetime.now()\n",
    "        # Stream the data\n",
    "        ret = ljm.eStreamRead(handle)\n",
    "        # Stop the stream\n",
    "        ljm.eStreamStop(handle)\n",
    "        aData = ret[0]\n",
    "        # Reshape the data\n",
    "        newData = np.resize(aData, (scansPerRead, numAddresses))\n",
    "        # Convert to g\n",
    "        accelData = (newData - offsets) / gMults\n",
    "        # Create the timestamps\n",
    "        end = start + datetime.timedelta(seconds = readTime)\n",
    "        date_rng = pd.date_range(start=start, end=end, periods=scansPerRead)\n",
    "        # Create the Pandas dataFrame\n",
    "        df = pd.DataFrame(accelData, index=date_rng, \n",
    "                          columns=['ELM2', 'AZM2', 'ZM2', 'ELT', 'ZT', 'AZT', 'ELM1', 'AZM1', 'ZM1'])\n",
    "    except ljm.LJMError:\n",
    "        ljme = sys.exc_info()[1]\n",
    "        print(ljme)\n",
    "    except Exception:\n",
    "        e = sys.exc_info()[1]\n",
    "        print(e)\n",
    "    # Return the dataframe\n",
    "    return df"
   ]
  },
  {
   "cell_type": "code",
   "execution_count": null,
   "id": "53c66dec",
   "metadata": {},
   "outputs": [],
   "source": [
    "time.sleep(5.0)\n",
    "df = readStream(aScanListNames, handle=handle, scanRate=200, readTime=5.0, offsets=offsets, gMults=gMults)"
   ]
  },
  {
   "cell_type": "code",
   "execution_count": null,
   "id": "3aeccb62",
   "metadata": {},
   "outputs": [],
   "source": [
    "df.head(5)"
   ]
  },
  {
   "cell_type": "code",
   "execution_count": null,
   "id": "74e4f8c5",
   "metadata": {},
   "outputs": [],
   "source": [
    "# Plot the data\n",
    "\n",
    "sub_df = df[df.index[320] : df.index[500]]\n",
    "\n",
    "plt.figure(figsize=(8,8))\n",
    "plt.subplots_adjust(hspace=0.5, wspace=0.5)\n",
    "plt.suptitle(\"Post-Installation Test 24Feb22\", fontsize=18)\n",
    "plt.subplot(3,3,1)\n",
    "ax1A = sub_df['ELM2'].plot(color='red')\n",
    "ax1A.set_title(\"Elevation M2\", fontsize=16)\n",
    "ax1A.set_ylabel(\"Acceleration(g)\")\n",
    "plt.subplot(3,3,2)\n",
    "ax1A = sub_df['ELT'].plot(color='red')\n",
    "ax1A.set_title(\"Elevation Truss\", fontsize=16)\n",
    "ax1A.set_ylabel(\"Acceleration(g)\")\n",
    "plt.subplot(3,3,3)\n",
    "ax1A = sub_df['ELM1'].plot(color='red')\n",
    "ax1A.set_title(\"Elevation M1\", fontsize=16)\n",
    "ax1A.set_ylabel(\"Acceleration(g)\")\n",
    "plt.subplot(3,3,4)\n",
    "ax1A = sub_df['AZM2'].plot(color='blue')\n",
    "ax1A.set_title(\"Azimuth M2\", fontsize=16)\n",
    "ax1A.set_ylabel(\"Acceleration(g)\")\n",
    "plt.subplot(3,3,5)\n",
    "ax1A = sub_df['AZT'].plot(color='blue')\n",
    "ax1A.set_title(\"Azimuth Truss\", fontsize=16)\n",
    "ax1A.set_ylabel(\"Acceleration(g)\")\n",
    "plt.subplot(3,3,6)\n",
    "ax1A = sub_df['AZM1'].plot(color='blue')\n",
    "ax1A.set_title(\"Azimuth M1\", fontsize=16)\n",
    "ax1A.set_ylabel(\"Acceleration(g)\")\n",
    "plt.subplot(3,3,7)\n",
    "ax1A = sub_df['ZM2'].plot(color='green')\n",
    "ax1A.set_title(\"Optical-Axis M2\", fontsize=16)\n",
    "ax1A.set_ylabel(\"Acceleration(g)\")\n",
    "plt.subplot(3,3,8)\n",
    "ax1A = sub_df['ZT'].plot(color='green')\n",
    "ax1A.set_title(\"Optical-Axis Truss\", fontsize=16)\n",
    "ax1A.set_ylabel(\"Acceleration(g)\")\n",
    "plt.subplot(3,3,9)\n",
    "ax1A = sub_df['ZM1'].plot(color='green')\n",
    "ax1A.set_title(\"Optical-Axis M1\", fontsize=16)\n",
    "ax1A.set_ylabel(\"Acceleration(g)\")\n",
    "\n",
    "plt.savefig(\"/Users/cslage/Research/LSST/code/labJack/accel_data/Summit_Install_Test_24Feb22.pdf\")"
   ]
  },
  {
   "cell_type": "code",
   "execution_count": null,
   "id": "9a9284a5",
   "metadata": {
    "tags": []
   },
   "outputs": [],
   "source": [
    "# Close handles\n",
    "ljm.close(handle)"
   ]
  },
  {
   "cell_type": "markdown",
   "id": "613bd3bc-0bcf-4dc4-bd06-9fedcc83439b",
   "metadata": {},
   "source": [
    "The commands below are useful if the device gets \"locked up\"."
   ]
  },
  {
   "cell_type": "code",
   "execution_count": null,
   "id": "ec1760a0",
   "metadata": {},
   "outputs": [],
   "source": [
    "ljm.closeAll()"
   ]
  },
  {
   "cell_type": "code",
   "execution_count": null,
   "id": "71ddeedb-9f5f-4e6e-ba54-d926fe6c8ce4",
   "metadata": {},
   "outputs": [],
   "source": [
    "ljm.eStreamStop(handle)"
   ]
  },
  {
   "cell_type": "code",
   "execution_count": null,
   "id": "513bc5cf-05bf-4dcf-8c00-de247a2bf4cd",
   "metadata": {},
   "outputs": [],
   "source": []
  }
 ],
 "metadata": {
  "kernelspec": {
   "display_name": "LSST",
   "language": "python",
   "name": "lsst"
  },
  "language_info": {
   "codemirror_mode": {
    "name": "ipython",
    "version": 3
   },
   "file_extension": ".py",
   "mimetype": "text/x-python",
   "name": "python",
   "nbconvert_exporter": "python",
   "pygments_lexer": "ipython3",
   "version": "3.8.13"
  }
 },
 "nbformat": 4,
 "nbformat_minor": 5
}
