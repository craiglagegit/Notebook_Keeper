{
 "cells": [
  {
   "cell_type": "code",
   "execution_count": null,
   "metadata": {},
   "outputs": [],
   "source": [
    "import numpy as np\n",
    "import matplotlib.pyplot as plt"
   ]
  },
  {
   "cell_type": "code",
   "execution_count": null,
   "metadata": {},
   "outputs": [],
   "source": [
    "def readGrid(filename):\n",
    "    file = open(filename, 'r')\n",
    "    lines = file.readlines()\n",
    "    file.close()\n",
    "    lines.remove(lines[0])\n",
    "    vals = []\n",
    "    for line in lines:\n",
    "        items = line.split()\n",
    "        vals.append(float(items[1]))\n",
    "    return vals\n",
    "    "
   ]
  },
  {
   "cell_type": "code",
   "execution_count": null,
   "metadata": {},
   "outputs": [],
   "source": [
    "x_filename = '/Users/cslage/Research/LSST/code/poisson/github/Poisson_CCD/data/pixel_m1/grid_x.dat' \n",
    "z_filename = '/Users/cslage/Research/LSST/code/poisson/github/Poisson_CCD/data/pixel_m1/grid_z.dat' "
   ]
  },
  {
   "cell_type": "code",
   "execution_count": null,
   "metadata": {},
   "outputs": [],
   "source": [
    "xGrid = readGrid(x_filename)\n",
    "zGrid = readGrid(z_filename)\n",
    "print(np.min(xGrid), np.max(xGrid), np.min(zGrid), np.max(zGrid))"
   ]
  },
  {
   "cell_type": "code",
   "execution_count": null,
   "metadata": {},
   "outputs": [],
   "source": [
    "fig = plt.figure(figsize=(16,16))\n",
    "plt.vlines(xGrid, ymin=0, ymax=100)\n",
    "plt.hlines(zGrid, xmin=np.min(xGrid), xmax=np.max(xGrid))\n",
    "plt.hlines([100], xmin=0, xmax=100)\n",
    "plt.xlim(np.min(xGrid), np.max(xGrid))\n",
    "plt.ylim(0,100)\n",
    "plt.savefig('/Users/cslage/Research/LSST/docs/Poisson_Paper_Talk_25Mar21/figures/Non-linear_Grid_23Mar21.png')"
   ]
  },
  {
   "cell_type": "code",
   "execution_count": null,
   "metadata": {},
   "outputs": [],
   "source": []
  }
 ],
 "metadata": {
  "kernelspec": {
   "display_name": "Python 3",
   "language": "python",
   "name": "python3"
  },
  "language_info": {
   "codemirror_mode": {
    "name": "ipython",
    "version": 3
   },
   "file_extension": ".py",
   "mimetype": "text/x-python",
   "name": "python",
   "nbconvert_exporter": "python",
   "pygments_lexer": "ipython3",
   "version": "3.7.4"
  }
 },
 "nbformat": 4,
 "nbformat_minor": 2
}
