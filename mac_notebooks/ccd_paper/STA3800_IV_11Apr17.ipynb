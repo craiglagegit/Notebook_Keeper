{
 "cells": [
  {
   "cell_type": "code",
   "execution_count": null,
   "metadata": {},
   "outputs": [],
   "source": [
    "import matplotlib\n",
    "matplotlib.use(\"PDF\")\n",
    "from pylab import *\n",
    "import sys, glob, xlrd, datetime\n",
    "from scipy import stats\n",
    "thedir='/Users/cslage/Research/LSST/optical_simulator/timing/ltspice/sta3800_output_device'\n",
    "%cd $thedir\n"
   ]
  },
  {
   "cell_type": "code",
   "execution_count": null,
   "metadata": {},
   "outputs": [],
   "source": [
    "data_wb = xlrd.open_workbook('STA3800_meas.xls')\n",
    "idvd1_data = data_wb.sheet_by_name('8-1010.TXT')\n",
    "idvd2_data = data_wb.sheet_by_name('8-1015.TXT')\n",
    "idvg1_data = data_wb.sheet_by_name('8-1011.TXT')\n",
    "idvg2_data = data_wb.sheet_by_name('8-1013.TXT')\n",
    "idvg3_data = data_wb.sheet_by_name('8-1014.TXT')\n",
    "cv_data = data_wb.sheet_by_name('C-V')\n"
   ]
  },
  {
   "cell_type": "code",
   "execution_count": null,
   "metadata": {},
   "outputs": [],
   "source": [
    "def MOS_I(Vgs, Vds):\n",
    "    Vt = -19.76\n",
    "    Id0 = 0.0183\n",
    "    Ioffset = 0.0\n",
    "    if Vgs < Vt:\n",
    "        return 0.0\n",
    "    elif Vds < (Vgs-Vt):\n",
    "        return Id0 * ((Vgs - Vt) * Vds - Vds**2 / 2.0) + Ioffset\n",
    "    else:\n",
    "        Vdsat = Vgs - Vt\n",
    "        return Id0 * ((Vgs - Vt) * Vdsat - Vdsat**2 / 2.0) + Ioffset\n"
   ]
  },
  {
   "cell_type": "code",
   "execution_count": null,
   "metadata": {},
   "outputs": [],
   "source": [
    "# ID-VD 2\n",
    "W= 28.0\n",
    "L = 5.0\n",
    "Mu = 1000.0\n",
    "Vbs = 0.0\n",
    "Vgs_start = -16.0\n",
    "Vgs_step = 4.0\n",
    "Vgs_num_steps = 8\n",
    "Vds_num_steps = 251\n",
    "Vds = zeros(Vds_num_steps)\n",
    "Vgs = linspace(Vgs_start, Vgs_start + Vgs_step * (Vgs_num_steps - 1), Vgs_num_steps)\n",
    "Ids = zeros([Vgs_num_steps, Vds_num_steps])\n",
    "for i in range(idvd2_data.nrows):\n",
    "    try:\n",
    "        if type(idvd2_data.row(i)[0].value) is float:\n",
    "            vds_index = (int(idvd2_data.row(i)[0].value) - 1) % Vds_num_steps\n",
    "            vgs_index = int(round((idvd2_data.row(i)[1].value - Vgs_start) / Vgs_step))\n",
    "            if vgs_index == 0:\n",
    "                Vds[vds_index] = idvd2_data.row(i)[2].value\n",
    "            Ids[vgs_index, vds_index] = idvd2_data.row(i)[3].value\n",
    "    except:\n",
    "        continue\n",
    "\n",
    "fig = figure()\n",
    "ax1=axes([0.2,0.1,0.6,0.6])\n",
    "ax1.set_title(\"STA3800C Id-Vd\")\n",
    "for i in range(Vgs_num_steps-1, 1, -1):\n",
    "    ax1.plot(Vds, Ids[i,:]*1000.0, label = 'Vgs = %.1f V'%Vgs[i], lw = 2)\n",
    "    for j in range(0,251,10):\n",
    "        #print Vgs[i], Vds[j], MOS_I(Vgs[i], Vds[j])\n",
    "        ax1.scatter(Vds[j], MOS_I(Vgs[i], Vds[j]))\n",
    "ax1.set_xlabel(\"Vds (volts)\")\n",
    "ax1.set_ylabel(\"Ids(mA)\")\n",
    "ax1.set_ylim(0,8.0)\n",
    "ax1.legend(bbox_to_anchor=(1.05, 1), loc=2, borderaxespad=0., fontsize = 6)\n",
    "show()\n",
    "#savefig(\"IdVd1_8Mar17.pdf\")"
   ]
  },
  {
   "cell_type": "code",
   "execution_count": null,
   "metadata": {},
   "outputs": [],
   "source": [
    "clear()"
   ]
  },
  {
   "cell_type": "code",
   "execution_count": null,
   "metadata": {},
   "outputs": [],
   "source": []
  }
 ],
 "metadata": {
  "kernelspec": {
   "display_name": "Python 2",
   "language": "python",
   "name": "python2"
  },
  "language_info": {
   "codemirror_mode": {
    "name": "ipython",
    "version": 2
   },
   "file_extension": ".py",
   "mimetype": "text/x-python",
   "name": "python",
   "nbconvert_exporter": "python",
   "pygments_lexer": "ipython2",
   "version": "2.7.17"
  }
 },
 "nbformat": 4,
 "nbformat_minor": 1
}
