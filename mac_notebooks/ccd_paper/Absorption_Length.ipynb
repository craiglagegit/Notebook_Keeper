{
 "cells": [
  {
   "cell_type": "code",
   "execution_count": null,
   "metadata": {},
   "outputs": [],
   "source": [
    "# Code for implementing absorption length in GalSim\n",
    "# Craig Lage - 24-Oct-17- UC Davis\n",
    "from pylab import *\n",
    "import sys\n",
    "import astropy.table\n",
    "from IPython.display import Image\n",
    "from IPython.core.display import HTML \n",
    "topdir='/Users/cslage/Research/LSST/code/'\n",
    "thedir=topdir+'galsim-20oct17/GalSim/share/sensors/'"
   ]
  },
  {
   "cell_type": "code",
   "execution_count": null,
   "metadata": {},
   "outputs": [],
   "source": [
    "# Read in the astropy absorption table\n",
    "abs_table = astropy.table.Table.read('absorption.csv', format='ascii.csv', names = 'wlen')   \n",
    "print abs_table.keys"
   ]
  },
  {
   "cell_type": "code",
   "execution_count": null,
   "metadata": {},
   "outputs": [],
   "source": [
    "# Plot out the absorption length vs wavelength\n",
    "abs_table = astropy.table.Table.read('absorption.csv', format='ascii.csv', names=('wlen'))   \n",
    "figure()    \n",
    "wlen = abs_table['w'].quantity\n",
    "abs_len = 1.0E4 / abs_table['e'].quantity\n",
    "\n",
    "plot(wlen, abs_len, 'k-', lw=2, label='$\\alpha(\\lambda)$')\n",
    "yscale('log')\n",
    "xlabel('Wavelength $\\lambda$ [nm]')\n",
    "ylabel('Absorption Length [um]')\n",
    "xlim(300., 1100.)\n",
    "ylim(0.005, 5e3)\n",
    "grid()\n",
    "    \n",
    "show()"
   ]
  },
  {
   "cell_type": "code",
   "execution_count": null,
   "metadata": {},
   "outputs": [],
   "source": [
    "# Double check with data from PV site - looks like the same data\n",
    "Image(url=\"http://www.pveducation.org/sites/default/files/PVCDROM/Appendices/Images/Si%20Absorption%20Depth.png\")"
   ]
  },
  {
   "cell_type": "code",
   "execution_count": null,
   "metadata": {},
   "outputs": [],
   "source": [
    "print(wlen[89], abs_len[89])\n"
   ]
  },
  {
   "cell_type": "code",
   "execution_count": null,
   "metadata": {},
   "outputs": [],
   "source": [
    "# Plot the astropy data against the approximate formula I've been using, and build the text file\n",
    "# which will be read into GalSim\n",
    "# The old formula was used prior to 24-Oct-17, when I submitted a pull request to use the\n",
    "# full absorption length table.\n",
    "abs_table = astropy.table.Table.read('absorption.csv', format='ascii.csv', names=('wlen'))   \n",
    "# Calculate the absorption length in microns.\n",
    "wlen_ap = abs_table['w'].quantity\n",
    "abs_len_ap = 1.0E4 / abs_table['e'].quantity\n",
    "\n",
    "file = open(thedir+\"absorption/abs_length.dat\",\"w\")\n",
    "file.write(\"Lambda(nm) \\t Abs length (um)\\n\")\n",
    "for i, lam in enumerate(wlen_ap):\n",
    "    file.write(\"%.2f \\t %.6f\\n\"%(lam,abs_len_ap[i]))\n",
    "file.close()\n",
    "figure()    \n",
    "\n",
    "plot(wlen_ap, abs_len_ap, 'k-', lw=2, color = 'red', label='Lookup Table')\n",
    "\n",
    "wlen = linspace(200.0, 1200.0, 20) # Wavelength in nm\n",
    "alpha = 10**(4.0 - (wlen - 500.0) / 250.0) * 1.0E-4 # Approximate formula in micron^-1\n",
    "abs_len = 1.0 / alpha # in microns\n",
    "\n",
    "plot(wlen, abs_len, 'k-', lw=2, color = 'blue', label='Old Function')\n",
    "yscale('log')\n",
    "xlabel('Wavelength $\\lambda$ [nm]')\n",
    "ylabel('Absorption Length [um]')\n",
    "xlim(300., 1100.)\n",
    "ylim(0.005, 5e3)\n",
    "grid()\n",
    "legend(loc='upper left')\n",
    "savefig(thedir+\"absorption/Abs_Length.png\")    \n",
    "show()"
   ]
  },
  {
   "cell_type": "code",
   "execution_count": null,
   "metadata": {},
   "outputs": [],
   "source": [
    "# This cell allows you to look at the distribution for a given wavelength\n",
    "lam = 1000.0\n",
    "abs_length = 10**(-4.0 + (lam - 500.0) / 250.0) * 1.0E4 # Approximate formula in micron^-1\n",
    "print \"Abs_length = %f microns\"%abs_length\n",
    "trials = []\n",
    "for i in range(100000):\n",
    "    L = -abs_length * log(1.0 - rand())\n",
    "    if i%100000 == 0:\n",
    "        print L\n",
    "    trials.append(L)\n",
    "\n",
    "hist(trials,bins=500)\n",
    "xlim(0,100.0)\n",
    "show()"
   ]
  },
  {
   "cell_type": "code",
   "execution_count": null,
   "metadata": {},
   "outputs": [],
   "source": [
    "abs_test = loadtxt(thedir+\"absorption/abs_length.dat\", skiprows = 1)\n",
    "print abs_test.size\n",
    "print abs_test[0:4]\n",
    "print abs_test[-2:-1]"
   ]
  },
  {
   "cell_type": "code",
   "execution_count": null,
   "metadata": {},
   "outputs": [],
   "source": []
  }
 ],
 "metadata": {
  "kernelspec": {
   "display_name": "Python 2",
   "language": "python",
   "name": "python2"
  },
  "language_info": {
   "codemirror_mode": {
    "name": "ipython",
    "version": 2
   },
   "file_extension": ".py",
   "mimetype": "text/x-python",
   "name": "python",
   "nbconvert_exporter": "python",
   "pygments_lexer": "ipython2",
   "version": "2.7.17"
  }
 },
 "nbformat": 4,
 "nbformat_minor": 1
}
