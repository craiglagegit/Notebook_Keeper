{
 "cells": [
  {
   "cell_type": "code",
   "execution_count": null,
   "metadata": {},
   "outputs": [],
   "source": [
    "import matplotlib\n",
    "matplotlib.use(\"PDF\")\n",
    "from pylab import *\n",
    "import sys, glob, xlrd\n",
    "thedir='/Users/cslage/Research/LSST/optical_simulator/sta3800_sims'\n",
    "%cd $thedir\n"
   ]
  },
  {
   "cell_type": "code",
   "execution_count": null,
   "metadata": {},
   "outputs": [],
   "source": [
    "boron_wb = xlrd.open_workbook('C0HVL528x02_B site.xls')\n",
    "phos_wb = xlrd.open_workbook('C0HVL528L05_P site.xls')\n",
    "boron_data = boron_wb.sheet_by_name('Processed data')\n",
    "phos_data = phos_wb.sheet_by_name('Processed data')\n",
    "boron_conc = []\n",
    "boron_depth = []\n",
    "for i in range(boron_data.nrows):\n",
    "    try:\n",
    "        if type(boron_data.row(i)[0].value) is float:\n",
    "            boron_depth.append(boron_data.row(i)[0].value)\n",
    "            boron_conc.append(boron_data.row(i)[1].value)\n",
    "    except:\n",
    "        continue\n",
    "\n",
    "phos_conc = []\n",
    "phos_depth = []\n",
    "for i in range(phos_data.nrows):\n",
    "    try:\n",
    "        if type(phos_data.row(i)[0].value) is float:\n",
    "            phos_depth.append(phos_data.row(i)[0].value)\n",
    "            phos_conc.append(phos_data.row(i)[1].value)\n",
    "    except:\n",
    "        continue\n",
    "\n",
    "print len(boron_depth), boron_depth[7], boron_conc[7]\n",
    "print len(phos_depth), phos_depth[7], phos_conc[7]\n",
    "figure()\n",
    "subplot(1,2,1)\n",
    "plot(boron_depth, boron_conc)\n",
    "ylim(0,1.0E17)\n",
    "subplot(1,2,2)\n",
    "xlim(0,3.0)\n",
    "plot(phos_depth, phos_conc)\n",
    "ylim(0,1.0E17)\n",
    "xlim(0,1.5)\n",
    "show()"
   ]
  },
  {
   "cell_type": "code",
   "execution_count": null,
   "metadata": {},
   "outputs": [],
   "source": []
  }
 ],
 "metadata": {
  "kernelspec": {
   "display_name": "Python 2",
   "language": "python",
   "name": "python2"
  },
  "language_info": {
   "codemirror_mode": {
    "name": "ipython",
    "version": 2
   },
   "file_extension": ".py",
   "mimetype": "text/x-python",
   "name": "python",
   "nbconvert_exporter": "python",
   "pygments_lexer": "ipython2",
   "version": "2.7.11"
  }
 },
 "nbformat": 4,
 "nbformat_minor": 0
}
