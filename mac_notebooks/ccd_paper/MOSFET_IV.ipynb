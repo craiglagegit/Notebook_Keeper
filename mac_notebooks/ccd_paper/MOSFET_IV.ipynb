{
 "cells": [
  {
   "cell_type": "code",
   "execution_count": null,
   "metadata": {},
   "outputs": [],
   "source": [
    "from pylab import *"
   ]
  },
  {
   "cell_type": "code",
   "execution_count": null,
   "metadata": {},
   "outputs": [],
   "source": [
    "V = [25.0,20.0,15.0,10.0,5.0]\n",
    "V13 = [76.7,68.3,51.6,34.4,17.2]\n",
    "V1 = [44.4,43.4,42.0,34.0,17.1]\n",
    "I13 = - array(V13) / 47.0\n",
    "I1 = - array(V1)/47.0"
   ]
  },
  {
   "cell_type": "code",
   "execution_count": null,
   "metadata": {},
   "outputs": [],
   "source": [
    "figure()\n",
    "title(\"Output transistor I-V\")\n",
    "plot(V,I13, label = \"Vrd = 13.0\")\n",
    "plot(V,I1, label = \"Vrd = 1.0\")\n",
    "legend()\n",
    "xlim(0,25)\n",
    "xlabel(\"Vod(V)\")\n",
    "ylabel(\"Iod(mA)\")\n",
    "savefig(\"MOSFET_IV_Test_6Dec16.png\")"
   ]
  },
  {
   "cell_type": "code",
   "execution_count": null,
   "metadata": {},
   "outputs": [],
   "source": [
    "V = linspace(5.0,25.0,21)\n",
    "V13 = [17.2,20.6,24.0,27.6,31.0,34.4,37.9,41.3,44.7,48.2,51.6,55.0,58.4,61.7,65.0,68.3,71.3,73.7,75.4,76.2,76.7]\n",
    "V7 = [17.2,20.6,24.0,27.5,30.9,34.3,37.8,41.1,44.5,47.9,51.2,54.2,56.8,58.1,58.7,59.2,59.5,59.8,60.1,60.3,60.5]\n",
    "V1 = [17.2,20.5,23.9,27.4,30.7,34.0,37.3,39.9,41.1,41.7,42.1,42.4,42.7,42.9,43.1,43.4,43.6,43.8,44.0,44.2,44.4]\n",
    "I13 = - array(V13) / 47.0\n",
    "I7 = - array(V7) / 47.0\n",
    "I1 = - array(V1)/47.0"
   ]
  },
  {
   "cell_type": "code",
   "execution_count": null,
   "metadata": {},
   "outputs": [],
   "source": [
    "figure()\n",
    "title(\"Output transistor I-V\")\n",
    "plot(V,I13, marker = 'x',label = \"Vrd = 13.0\")\n",
    "plot(V,I7, marker = 'x', label = \"Vrd = 7.0\")\n",
    "plot(V,I1, marker = 'x', label = \"Vrd = 1.0\")\n",
    "legend()\n",
    "xlim(0,25)\n",
    "xlabel(\"Vod(V)\")\n",
    "ylabel(\"Iod(mA)\")\n",
    "savefig(\"MOSFET_IV_SEGMENT07_6Dec16.png\")"
   ]
  },
  {
   "cell_type": "code",
   "execution_count": null,
   "metadata": {},
   "outputs": [],
   "source": []
  }
 ],
 "metadata": {
  "kernelspec": {
   "display_name": "Python 2",
   "language": "python",
   "name": "python2"
  },
  "language_info": {
   "codemirror_mode": {
    "name": "ipython",
    "version": 2
   },
   "file_extension": ".py",
   "mimetype": "text/x-python",
   "name": "python",
   "nbconvert_exporter": "python",
   "pygments_lexer": "ipython2",
   "version": "2.7.11"
  }
 },
 "nbformat": 4,
 "nbformat_minor": 1
}
