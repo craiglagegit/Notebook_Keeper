{
 "cells": [
  {
   "cell_type": "code",
   "execution_count": null,
   "metadata": {},
   "outputs": [],
   "source": [
    "from pylab import *"
   ]
  },
  {
   "cell_type": "code",
   "execution_count": null,
   "metadata": {},
   "outputs": [],
   "source": [
    "gox_eff=array([.151,.302,.602,1.18])\n",
    "factor=array([.714,1.05,1.38,1.65])\n",
    "gox = 0.10"
   ]
  },
  {
   "cell_type": "code",
   "execution_count": null,
   "metadata": {},
   "outputs": [],
   "source": [
    "fit = polyfit(gox_eff/gox, factor,2)\n",
    "print fit"
   ]
  },
  {
   "cell_type": "code",
   "execution_count": null,
   "metadata": {},
   "outputs": [],
   "source": [
    "def Fit(x, fit):\n",
    "    y = 0.0\n",
    "    order = len(fit) - 1\n",
    "    for i,coef in enumerate(fit):\n",
    "        y += coef * x ** (order-i)\n",
    "    return y"
   ]
  },
  {
   "cell_type": "code",
   "execution_count": null,
   "metadata": {},
   "outputs": [],
   "source": [
    "-0.0102 * pow(1.51,2.0) + .224 * 1.51 + .424"
   ]
  },
  {
   "cell_type": "code",
   "execution_count": null,
   "metadata": {},
   "outputs": [],
   "source": [
    "plot(gox_eff, factor, marker = '*')\n",
    "plot(gox_eff,Fit(gox_eff/gox,fit), color='red')\n",
    "show()"
   ]
  },
  {
   "cell_type": "code",
   "execution_count": null,
   "metadata": {},
   "outputs": [],
   "source": [
    "ncells = array([4,2,1])\n",
    "gox_eff2 = array([.094,.112,.151])\n",
    "factor2 = array([.786,.724,.714])\n",
    "adjusted_factor = Fit(gox_eff2/gox,fit)\n",
    "print adjusted_factor, factor2/adjusted_factor\n",
    "fit2 = polyfit(ncells, factor2/adjusted_factor,2)\n",
    "print fit2"
   ]
  },
  {
   "cell_type": "code",
   "execution_count": null,
   "metadata": {},
   "outputs": [],
   "source": [
    "plot(ncells, factor2/adjusted_factor, marker = '*')\n",
    "plot(ncells,Fit(ncells,fit2), color='red')\n",
    "show()"
   ]
  },
  {
   "cell_type": "code",
   "execution_count": null,
   "metadata": {},
   "outputs": [],
   "source": [
    "# Repeating without the initial goxeff/gox factor"
   ]
  },
  {
   "cell_type": "code",
   "execution_count": null,
   "metadata": {},
   "outputs": [],
   "source": [
    "gox_eff=array([.115,.233,.478,.998])\n",
    "factor=array([3.50,6.82,13.53,26.79])/4.20\n",
    "gox = 0.10"
   ]
  },
  {
   "cell_type": "code",
   "execution_count": null,
   "metadata": {},
   "outputs": [],
   "source": [
    "fit = polyfit(gox_eff/gox, factor,1)\n",
    "print fit\n",
    "#fit = [0.54095555, 0.0]"
   ]
  },
  {
   "cell_type": "code",
   "execution_count": null,
   "metadata": {},
   "outputs": [],
   "source": [
    "plot(gox_eff, factor, marker = '*')\n",
    "plot(gox_eff,Fit(gox_eff/gox,fit), color='red')\n",
    "show()"
   ]
  },
  {
   "cell_type": "code",
   "execution_count": null,
   "metadata": {},
   "outputs": [],
   "source": []
  },
  {
   "cell_type": "code",
   "execution_count": null,
   "metadata": {},
   "outputs": [],
   "source": [
    "ncells = array([4,2,1])\n",
    "gox_eff2 = array([.094,.112,.151])\n",
    "factor2 = array([3.26,3.30,3.43])/4.20\n",
    "adjusted_factor = Fit(gox_eff2/gox,fit)\n",
    "print adjusted_factor, factor2/adjusted_factor\n",
    "fit2 = polyfit(ncells, factor2/adjusted_factor,2)\n",
    "print fit2"
   ]
  },
  {
   "cell_type": "code",
   "execution_count": null,
   "metadata": {},
   "outputs": [],
   "source": [
    "plot(ncells, factor2/adjusted_factor, marker = '*')\n",
    "plot(ncells,Fit(ncells,fit2), color='red')\n",
    "show()"
   ]
  },
  {
   "cell_type": "code",
   "execution_count": null,
   "metadata": {},
   "outputs": [],
   "source": [
    "eps_factor = array([1.0,3.0,10.0,30.0])\n",
    "dv4 = array([26.79,17.53,7.93,3.09])\n",
    "dv3 = array([13.53,8.83,3.98,1.55])\n",
    "dv2 = array([6.82,4.44,2.00,0.78])\n",
    "dv1 = array([3.50,2.26,1.00,0.39])"
   ]
  },
  {
   "cell_type": "code",
   "execution_count": null,
   "metadata": {},
   "outputs": [],
   "source": [
    "print polyfit(eps_factor,dv4,2)\n",
    "print polyfit(eps_factor,dv3,2)\n",
    "print polyfit(eps_factor,dv2,2)\n",
    "print polyfit(eps_factor,dv1,2)"
   ]
  },
  {
   "cell_type": "code",
   "execution_count": null,
   "metadata": {},
   "outputs": [],
   "source": [
    "plot(log10(eps_factor),log10(dv4), marker = '*')\n",
    "#plot(eps_factor,Fit(eps_factor,polyfit(eps_factor,dv4,3)),color='red')\n",
    "show()"
   ]
  },
  {
   "cell_type": "code",
   "execution_count": null,
   "metadata": {},
   "outputs": [],
   "source": [
    "gox_eff = array([0.115,0.233,0.478,0.998])\n",
    "needed_factor = array([0.40,3.30,9.30,21.0])\n",
    "fit3 = polyfit((gox_eff[0:3]/gox-1.0),needed_factor[0:3],1)\n",
    "print fit3\n",
    "fit3 = [2.451, 0.0]\n",
    "print "
   ]
  },
  {
   "cell_type": "code",
   "execution_count": null,
   "metadata": {},
   "outputs": [],
   "source": [
    "plot(gox_eff,needed_factor,marker='*')\n",
    "plot(gox_eff,Fit((gox_eff/gox-1.0),fit3), color='red')\n",
    "show()"
   ]
  },
  {
   "cell_type": "code",
   "execution_count": null,
   "metadata": {},
   "outputs": [],
   "source": [
    "ncells = array([4,2,1])\n",
    "gox_eff3 = array([0.104,0.095,.115])\n",
    "factor3 = array([0.88,0.68,0.40])\n",
    "Fit((gox_eff3/gox-1.0),fit3)\n",
    "print Fit((gox_eff3/gox-1.0),fit3)\n",
    "adjusted_factor = factor3 - Fit((gox_eff3/gox-1),fit3)\n",
    "print adjusted_factor\n",
    "#fit2 = polyfit(ncells, factor2/adjusted_factor,2)\n",
    "#print fit2"
   ]
  },
  {
   "cell_type": "code",
   "execution_count": null,
   "metadata": {},
   "outputs": [],
   "source": [
    "# OK, I think I understand what to do now.  I have measured the required factor across the \n",
    "# grids, now I need to adjust the X-axis (gox_eff) so this can be fit with a simple function\n",
    "\n",
    "needed_factor = array([0.88, 0.68, 0.40, 3.3, 9.3,21])\n",
    "gox_eff1 = array([.104,.095,.115,.233,.478,.998])# zpz - z\n",
    "NGoxCells = array([5.0,2.0,1.0,1.0,1.0,1.0])\n",
    "NCells = array([2.0,2.0,1.0,1.0,1.0,1.0])\n"
   ]
  },
  {
   "cell_type": "code",
   "execution_count": null,
   "metadata": {},
   "outputs": [],
   "source": [
    "gox_eff2 = array([.095,.075,.076,.154,.314,.647])# z - z\n",
    "fit2 = polyfit((gox_eff2/gox - 1.0), needed_factor,1)\n",
    "print fit2\n",
    "fit2=[3.61, 0.90]\n",
    "plot((gox_eff2/gox-1.0),needed_factor,marker='*')\n",
    "plot((gox_eff2/gox-1.0),Fit((gox_eff2/gox-1.0),fit2), color='red')\n",
    "show()"
   ]
  },
  {
   "cell_type": "code",
   "execution_count": null,
   "metadata": {},
   "outputs": [],
   "source": [
    "gox_eff3 = array([.085,.057,.038,.078,.160,.34])# z - zpz\n",
    "fit3 = polyfit((gox_eff3[2:5]/gox - 1.0), needed_factor[2:5],1)\n",
    "print fit3\n",
    "ncell_error = Fit((gox_eff3/gox-1.0),fit3) - needed_factor\n",
    "print ncell_error\n",
    "ncell_error = Fit((gox_eff3/gox-1.0)*(1.0+0.5*(NGoxCells-1)),fit3) - needed_factor\n",
    "print ncell_error\n",
    "#print (4.92 + 7.30*(gox_eff3/gox - 1.0)) - needed_factor# - 0.76 * (NGoxCells + 3.0)\n",
    "fit_ncell = polyfit(NGoxCells[0:3],ncell_error[0:3],2)\n",
    "#print fit_ncell\n",
    "\n",
    "plot((gox_eff3/gox-1.0),needed_factor,marker='*')\n",
    "plot((gox_eff3/gox-1.0),Fit((gox_eff3/gox-1.0),fit3)-Fit(NGoxCells,fit_ncell), color='red')\n",
    "show()\n"
   ]
  },
  {
   "cell_type": "code",
   "execution_count": null,
   "metadata": {},
   "outputs": [],
   "source": []
  },
  {
   "cell_type": "code",
   "execution_count": null,
   "metadata": {},
   "outputs": [],
   "source": [
    "fox_eff = array([0.974,0.930,0.835,0.796,0.333])# z - zpz\n",
    "needed_factor_fox = array([0.93,0.93,0.86,0.90,0.20])\n",
    "ffit = polyfit((fox_eff[0:4] - 1.0), needed_factor_fox[0:4],1)\n",
    "print ffit\n",
    "\n",
    "plot((fox_eff-1.0),needed_factor_fox,marker='*')\n",
    "plot((fox_eff-1.0),Fit((fox_eff-1.0),ffit), color='red')\n",
    "show()\n"
   ]
  },
  {
   "cell_type": "code",
   "execution_count": null,
   "metadata": {},
   "outputs": [],
   "source": []
  }
 ],
 "metadata": {
  "kernelspec": {
   "display_name": "Python 2",
   "language": "python",
   "name": "python2"
  },
  "language_info": {
   "codemirror_mode": {
    "name": "ipython",
    "version": 2
   },
   "file_extension": ".py",
   "mimetype": "text/x-python",
   "name": "python",
   "nbconvert_exporter": "python",
   "pygments_lexer": "ipython2",
   "version": "2.7.11"
  }
 },
 "nbformat": 4,
 "nbformat_minor": 1
}
