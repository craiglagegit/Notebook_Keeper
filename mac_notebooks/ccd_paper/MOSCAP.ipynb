{
 "cells": [
  {
   "cell_type": "code",
   "execution_count": null,
   "metadata": {},
   "outputs": [],
   "source": [
    "from pylab import *\n"
   ]
  },
  {
   "cell_type": "markdown",
   "metadata": {},
   "source": [
    "Piecewise linear boundary conditions, left edge (x = 0) at phi = V, right edge (phi = t2) at phi = 0\n",
    "Region 1 (0 < x < t1) is epsilon1  (Oxide)\n",
    "Region 2 (t1 < x < t2) is epsilon2 (Silicon)\n",
    "\n",
    "phi1 = A1 + B1 x\n",
    "phi2 = A2 + B2 x\n",
    "D = epsilon * E = const\n",
    "phi1(0) = V => A1 = 0\n",
    "phi2(t2) = 0 => A2 = -B2 * t2\n",
    "D1(t1) = D2(t2) => epsilon1 * B1 = epsilon2 * B2 => B2 = epsilon1 / epsilon2 * B1\n",
    "phi1(t1) = phi2(t1) => V + B1 * t1 = epsilon1 / epsilon2 * B1 ( t1 - t2)\n",
    "So:\n",
    "B1 = V / (epsilon1 / epsilon2 * (t1 - t2) - t1)\n",
    "\n",
    "Then add -VBB to everything so the right edge is at phi = 0."
   ]
  },
  {
   "cell_type": "code",
   "execution_count": null,
   "metadata": {},
   "outputs": [],
   "source": [
    "def phi(x, t1, t2):\n",
    "    epsilon1 = 4.3\n",
    "    epsilon2 = 11.7\n",
    "    VBB = -60.0\n",
    "    Vgate = 4.0\n",
    "    B1 = (Vgate - VBB)/ (epsilon1 / epsilon2 * (t1 - t2) - t1)\n",
    "    B2 = epsilon1 / epsilon2 * B1\n",
    "    if x < t1:\n",
    "        return ((Vgate - VBB) + B1 * x) + VBB\n",
    "    else:\n",
    "        return B2 * (x - t2) + VBB\n"
   ]
  },
  {
   "cell_type": "code",
   "execution_count": null,
   "metadata": {},
   "outputs": [],
   "source": [
    "t1 = 0.1\n",
    "t2 = 100.0\n",
    "for x in [0.0,0.1,1.0,50.0,100.0]:\n",
    "    print \"At x = %.2f, V = %.2f\"%(x,phi(x,t1,t2))"
   ]
  },
  {
   "cell_type": "code",
   "execution_count": null,
   "metadata": {},
   "outputs": [],
   "source": [
    "# So, the voltage dropped across the oxide is quite small"
   ]
  },
  {
   "cell_type": "code",
   "execution_count": null,
   "metadata": {},
   "outputs": [],
   "source": [
    "x = linspace(0,100.0,100)\n",
    "Phi = zeros(100)\n",
    "for i in range(100):\n",
    "    Phi[i] = phi(x[i],t1,t2)\n",
    "subplot(1,2,1)\n",
    "title(\"Phi vs z\")\n",
    "plot(x,Phi)\n",
    "\n",
    "x = linspace(0,1.0,100)\n",
    "Phi = zeros(100)\n",
    "for i in range(100):\n",
    "    Phi[i] = phi(x[i],t1,t2)\n",
    "subplot(1,2,2)\n",
    "title(\"Phi vs z\")\n",
    "plot(x,Phi)\n",
    "plot([0.1,0.1],[3.0,4.2], ls = \"--\")\n",
    "\n",
    "show()"
   ]
  },
  {
   "cell_type": "code",
   "execution_count": null,
   "metadata": {},
   "outputs": [],
   "source": []
  },
  {
   "cell_type": "code",
   "execution_count": null,
   "metadata": {},
   "outputs": [],
   "source": []
  }
 ],
 "metadata": {
  "kernelspec": {
   "display_name": "Python 2",
   "language": "python",
   "name": "python2"
  },
  "language_info": {
   "codemirror_mode": {
    "name": "ipython",
    "version": 2
   },
   "file_extension": ".py",
   "mimetype": "text/x-python",
   "name": "python",
   "nbconvert_exporter": "python",
   "pygments_lexer": "ipython2",
   "version": "2.7.10"
  }
 },
 "nbformat": 4,
 "nbformat_minor": 0
}
