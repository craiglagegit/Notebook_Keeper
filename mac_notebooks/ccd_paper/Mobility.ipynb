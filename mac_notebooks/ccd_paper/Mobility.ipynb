{
 "cells": [
  {
   "cell_type": "code",
   "execution_count": null,
   "metadata": {},
   "outputs": [],
   "source": [
    "from pylab import *\n"
   ]
  },
  {
   "cell_type": "code",
   "execution_count": null,
   "metadata": {},
   "outputs": [],
   "source": [
    "def mu_si(E, T):\n",
    "    vm = 1.53E9 * pow(T, -0.87)\n",
    "    Ec = 1.01 * pow(T, 1.55)\n",
    "    beta = 2.57E-2 * pow(T, 0.66)\n",
    "    return ((vm/Ec) / pow(1.0 + pow(abs(E)/Ec,beta), 1/beta))"
   ]
  },
  {
   "cell_type": "code",
   "execution_count": null,
   "metadata": {},
   "outputs": [],
   "source": [
    "q = 1.6E-19   # MKS\n",
    "me = 9.11E-31  # MKS\n",
    "k = 1.38E-23   # MKS\n",
    "T = 173.0\n",
    "for E in [1.0,10.0,100.0,1000.0,10000.0]:\n",
    "    mu = mu_si(E, T)\n",
    "    print(\"E = %f V/cm, Mu = %f cm^2/Vs, Tau = %g S\"%(E,mu, me/q*mu *1.0E-4))"
   ]
  },
  {
   "cell_type": "code",
   "execution_count": null,
   "metadata": {},
   "outputs": [],
   "source": [
    "E = 1.0\n",
    "T = 173.0\n",
    "mu = mu_si(E, T)\n",
    "L = .01\n",
    "Tau_neutral = L**2 / (k*T/q * mu)\n",
    "E = 60.0/100E-4\n",
    "T = 173.0\n",
    "mu = mu_si(E, T)\n",
    "vbar = mu * E\n",
    "Tau_field = L / vbar\n",
    "print \"In neutral region, Tau = %g, in field region, Tau = %g\"%(Tau_neutral, Tau_field) \n"
   ]
  },
  {
   "cell_type": "code",
   "execution_count": null,
   "metadata": {},
   "outputs": [],
   "source": [
    "E = 60.0/100E-4\n",
    "T = 173.0\n",
    "mu = mu_si(E, T)\n",
    "tau = me / q * mu * 1.0E-4\n",
    "vbar = mu * E\n",
    "vth = sqrt(8.0 * k * T / (pi * 0.27 * me)) * 100.0 # 0.27 factor from Green, 1990\n",
    "Lth = vth * tau * 1.0E4\n",
    "L = vbar * tau * 1.0E4\n",
    "vratio = sqrt(3.0 * k * T / me) / (mu_si(E, T) * E / 100.0)\n",
    "print \"E = %.1f V/cm, Mu = %.1f cm^2/V-s, Tau = %.3g s, Vth %.3g cm/sec,  \\\n",
    "<V> = %.3g cm/sec, Vratio = %.3f, L = %.3f um, Lth = %.3f\"%(E, mu, tau, vth, vbar,vratio, L, Lth)"
   ]
  },
  {
   "cell_type": "code",
   "execution_count": null,
   "metadata": {},
   "outputs": [],
   "source": [
    "E = 2590.0\n",
    "T = 173.0\n",
    "mu = mu_si(E, T)\n",
    "tau = me / q * mu * 1.0E-4\n",
    "vbar = mu * E\n",
    "vth = sqrt(8.0 * k * T / (pi * 0.27 * me)) * 100.0 # 0.27 factor from Green, 1990\n",
    "L = vbar * tau * 1.0E4\n",
    "vratio = sqrt(3.0 * k * T / me) / (mu_si(E, T) * E / 100.0)\n",
    "print \"E = %.1f V/cm, Mu = %.1f cm^2/V-s, Tau = %.3g s, Vth %.3g cm/sec,  \\\n",
    "<V> = %.3g cm/sec, Vratio = %.3f, L = %.3f um\"%(E, mu, tau, vth, vbar,vratio, L)"
   ]
  },
  {
   "cell_type": "code",
   "execution_count": null,
   "metadata": {},
   "outputs": [],
   "source": [
    "E = 60.0/100E-4 /12\n",
    "T = 173.0\n",
    "mu = mu_si(E, T)\n",
    "tau = me / q * mu * 1.0E-4\n",
    "vbar = mu * E\n",
    "vth = sqrt(8.0 * k * T / (pi * 0.27 * me)) * 100.0 # 0.27 factor from Green, 1990\n",
    "L = vbar * tau * 1.0E4\n",
    "vratio = sqrt(3.0 * k * T / me) / (mu_si(E, T) * E / 100.0)\n",
    "print \"E = %.1f V/cm, Mu = %.1f cm^2/V-s, Tau = %.3g s, Vth %.3g cm/sec,  \\\n",
    "<V> = %.3g cm/sec, Vratio = %.3f, L = %.4f um\"%(E, mu, tau, vth, vbar,vratio, L)"
   ]
  },
  {
   "cell_type": "code",
   "execution_count": null,
   "metadata": {},
   "outputs": [],
   "source": [
    "4.1 / sqrt(.4/.054)"
   ]
  },
  {
   "cell_type": "code",
   "execution_count": null,
   "metadata": {},
   "outputs": [],
   "source": [
    "M[3,2]"
   ]
  },
  {
   "cell_type": "code",
   "execution_count": null,
   "metadata": {},
   "outputs": [],
   "source": [
    "N = 100000\n",
    "tau = 1.0\n",
    "ts = []\n",
    "for i in range(N):\n",
    "    t = -tau * log(1.0 - rand())\n",
    "    ts.append(t)\n",
    "    #print t, tau\n",
    "\n",
    "ts = array(ts)\n",
    "print \"Mean = %.3f, sigma = %.3f\"%(ts.mean(), ts.std())\n",
    "hist(ts)\n",
    "show()"
   ]
  },
  {
   "cell_type": "code",
   "execution_count": null,
   "metadata": {},
   "outputs": [],
   "source": [
    "def F_od(u):\n",
    "    return sqrt(u/2.0 * log((1.0+1.0/u) / (1.0 - 1.0/u)))"
   ]
  },
  {
   "cell_type": "code",
   "execution_count": null,
   "metadata": {},
   "outputs": [],
   "source": [
    "for u in [1.01,1.5,2.0,2.5,3.0]:\n",
    "    print \"U = %f, F(u) = %f\"%(u,F_od(u))"
   ]
  },
  {
   "cell_type": "code",
   "execution_count": null,
   "metadata": {},
   "outputs": [],
   "source": [
    "tau = 1.0\n",
    "print(tau)\n",
    "I = q * 10E-4*10E-4*100E-4*1.5E10/tau\n",
    "print(I)\n",
    "I_electrons_per_sec = 10E-4*10E-4*100E-4*1.5E10/tau\n",
    "print(I_electrons_per_sec)"
   ]
  },
  {
   "cell_type": "code",
   "execution_count": null,
   "metadata": {},
   "outputs": [],
   "source": []
  }
 ],
 "metadata": {
  "kernelspec": {
   "display_name": "Python 3",
   "language": "python",
   "name": "python3"
  },
  "language_info": {
   "codemirror_mode": {
    "name": "ipython",
    "version": 3
   },
   "file_extension": ".py",
   "mimetype": "text/x-python",
   "name": "python",
   "nbconvert_exporter": "python",
   "pygments_lexer": "ipython3",
   "version": "3.4.3"
  }
 },
 "nbformat": 4,
 "nbformat_minor": 1
}
