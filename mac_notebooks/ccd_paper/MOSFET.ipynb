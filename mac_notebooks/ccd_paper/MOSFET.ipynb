{
 "cells": [
  {
   "cell_type": "code",
   "execution_count": null,
   "metadata": {},
   "outputs": [],
   "source": [
    "from pylab import *\n",
    "from scipy import stats"
   ]
  },
  {
   "cell_type": "code",
   "execution_count": null,
   "metadata": {},
   "outputs": [],
   "source": [
    "def Ids(Vg, Vd0, Vs0, Vt, DegradationFactor, Rds=250.0):\n",
    "    mu = 700.0 # cm^2/V-sec\n",
    "    tox = 1000.0 # Angstroms\n",
    "    cox = 8.85E-14 * 4.3 / (tox * 1.0E-8)\n",
    "    W = 27.5 # Measured from layout\n",
    "    L = 5.0 # Measured from layout\n",
    "    G = mu * cox * W / L / DegradationFactor\n",
    "    #Rds = 250.0 # Guess\n",
    "    last_ids = 0.0\n",
    "    ids = 0.0\n",
    "    delta_ids = 1.0\n",
    "    iteration_counter = 0\n",
    "    while delta_ids > 1.0E-9 and iteration_counter < 100:\n",
    "        iteration_counter += 1\n",
    "        Vs = Vs0 + ids * Rds\n",
    "        Vgs = Vg - Vs\n",
    "        Vds = Vd0 - ids * Rds - Vs\n",
    "        if Vds > Vgs - Vt:\n",
    "            Vds = Vgs - Vt\n",
    "        ids = G * ((Vgs - Vt) * Vds - Vds**2 / 2.0)         \n",
    "        delta_ids = abs(ids - last_ids) \n",
    "        last_ids = ids        \n",
    "    return ids\n",
    "\n"
   ]
  },
  {
   "cell_type": "code",
   "execution_count": null,
   "metadata": {},
   "outputs": [],
   "source": [
    "# Plot standard family curves as a check\n",
    "vs = 0.0\n",
    "vt = 0.0\n",
    "figure()\n",
    "for vg in [2.0, 4.0, 6.0, 8.0]:\n",
    "    Vd = linspace(0.0, 10.0, 100)\n",
    "    ids = []\n",
    "    for n, vd in enumerate(Vd):\n",
    "        ids.append(Ids(vg,vd, vs, vt, 1.0))\n",
    "    plot(Vd,ids)\n",
    "show()\n"
   ]
  },
  {
   "cell_type": "code",
   "execution_count": null,
   "metadata": {},
   "outputs": [],
   "source": [
    "vd = 25.0\n",
    "vg = 12.0\n",
    "figure()\n",
    "ls = '-'\n",
    "DegradationFactor = 1.0\n",
    "vt = -4.0\n",
    "for Rds in [250.0, 500.0, 750.0, 1000.0]:\n",
    "    Vs = linspace(15.0, 7.0, 100)\n",
    "    ids = []\n",
    "    for n, vs in enumerate(Vs):\n",
    "        ids.append(1000.0*Ids(vg, vd, vs, vt, DegradationFactor, Rds = Rds))\n",
    "    plot(ids, Vs, ls = ls)\n",
    "#xlim(2.0, 6.0)\n",
    "scatter([2.4,5.0],[15.0,7.0])\n",
    "ylim(0.0,16.0)\n",
    "#slope, intercept, r_value, p_value, std_err = stats.linregress(ids, Vs)\n",
    "#text(2.5,6.0,\"y = %.4f x + %.4f\"%(slope, intercept))\n",
    "ylabel(\"Source Voltage (V)\")\n",
    "xlabel(\"Current (mA)\")\n",
    "show()\n"
   ]
  },
  {
   "cell_type": "code",
   "execution_count": null,
   "metadata": {},
   "outputs": [],
   "source": [
    "phi = .026 * (173.0/300.0) * log(1.0E14/1.5E10)\n",
    "print phi"
   ]
  },
  {
   "cell_type": "code",
   "execution_count": null,
   "metadata": {},
   "outputs": [],
   "source": [
    "tsum = 0.0\n",
    "for i in range(58,60):\n",
    "    tsum += 0.01*2.0**(i/4.0) + 2.0\n",
    "\n",
    "print tsum/60.0"
   ]
  },
  {
   "cell_type": "code",
   "execution_count": null,
   "metadata": {},
   "outputs": [],
   "source": []
  }
 ],
 "metadata": {
  "kernelspec": {
   "display_name": "Python 2",
   "language": "python",
   "name": "python2"
  },
  "language_info": {
   "codemirror_mode": {
    "name": "ipython",
    "version": 2
   },
   "file_extension": ".py",
   "mimetype": "text/x-python",
   "name": "python",
   "nbconvert_exporter": "python",
   "pygments_lexer": "ipython2",
   "version": "2.7.10"
  }
 },
 "nbformat": 4,
 "nbformat_minor": 0
}
