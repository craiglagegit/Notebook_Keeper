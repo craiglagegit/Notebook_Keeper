{
 "cells": [
  {
   "cell_type": "markdown",
   "metadata": {},
   "source": [
    "### Parsing SLAC Fe55 Analysis files\n",
    "- Craig Lage - 28-Oct-19"
   ]
  },
  {
   "cell_type": "code",
   "execution_count": null,
   "metadata": {},
   "outputs": [],
   "source": [
    "import numpy as np\n",
    "import matplotlib.pyplot as plt\n",
    "import os, sys, glob, time, scipy\n",
    "from scipy import stats\n",
    "import pickle as pkl\n",
    "from astropy.io import fits as pf"
   ]
  },
  {
   "cell_type": "code",
   "execution_count": null,
   "metadata": {},
   "outputs": [],
   "source": [
    "# Now get Fe55 stamps\n",
    "thedir = '/home/cslage/Research/LSST/code/poisson/fe55_data/'\n",
    "E2VfitsFile = thedir+'R21_S10_6801D_psf_results_nsig4.fits'\n",
    "E2VgainFile = thedir+'R21_S10_6801D_eotest_results.fits'\n",
    "ITLfitsFile = thedir+'R20_S10_6801D_psf_results_nsig4.fits'\n",
    "ITLgainFile = thedir+'R20_S10_6801D_eotest_results.fits'"
   ]
  },
  {
   "cell_type": "code",
   "execution_count": null,
   "metadata": {},
   "outputs": [],
   "source": [
    "# Classes to put the data\n",
    "class Array2dSet:\n",
    "    def __init__(self,xmin,xmax,nx,ymin,ymax,ny,nstamps):\n",
    "        # This packages up a set of nstamps postage stamp images,\n",
    "        # each image of which is nx * ny pixels\n",
    "        self.nx=nx\n",
    "        self.ny=ny\n",
    "        self.nstamps=nstamps\n",
    "\n",
    "        self.xmin=xmin\n",
    "        self.ymin=ymin\n",
    "        \n",
    "        self.xmax=xmax\n",
    "        self.ymax=ymax\n",
    "        \n",
    "        self.dx=(xmax-xmin)/nx\n",
    "        self.dy=(ymax-ymin)/ny\n",
    "        \n",
    "        self.x=np.linspace(xmin+self.dx/2,xmax-self.dx/2,nx)\n",
    "        self.y=np.linspace(ymin+self.dy/2,ymax-self.dy/2,ny)\n",
    "\n",
    "        self.data=np.zeros([nx,ny,nstamps])\n",
    "        self.gain = 1.0\n",
    "\n",
    "\n",
    "def BuildSpotList(fitsfilename, gainfilename, ampnumber, nx, ny):\n",
    "    dy = 7; dx = 9 # Size of stamp in fitsfile catalog\n",
    "    Kalpha = 1620 # Electrons in Kalpha line\n",
    "    stampxmin = -(int(nx/2)+0.5)\n",
    "    stampxmax = -stampxmin\n",
    "    stampymin = -(int(ny/2)+0.5)\n",
    "    stampymax = -stampymin\n",
    "    hdulist=pf.open(fitsfilename)\n",
    "    data=hdulist[ampnumber].data\n",
    "    gain_hdulist=pf.open(gainfilename)\n",
    "    gain = gain_hdulist[1].data['GAIN'][ampnumber-1]\n",
    "    numRows = data.shape[0]\n",
    "    spotlist = Array2dSet(stampxmin,stampxmax,nx,stampymin,stampymax,ny,numRows)\n",
    "    spotlist.gain = gain\n",
    "    mincounts = Kalpha * 0.95\n",
    "    maxcounts = Kalpha * 1.05\n",
    "    spotCounter = 0\n",
    "    for row in range(numRows):\n",
    "        prect_data = data[row]['PRECT_DATA']\n",
    "        #print(row, prect_data.max())\n",
    "        spot = np.zeros([nx,ny])\n",
    "        for i in range(nx):\n",
    "            for j in range(ny):\n",
    "                spot[j,i] = prect_data[(i+1) + dx * (j+1)] * gain\n",
    "        count = spot.sum()\n",
    "        if count > mincounts and count < maxcounts:\n",
    "            spotlist.data[:,:,spotCounter] = spot\n",
    "            spotCounter += 1\n",
    "\n",
    "    newspotlist = Array2dSet(stampxmin,stampxmax,nx,stampymin,stampymax,ny,spotCounter)\n",
    "    newspotlist.data = spotlist.data[:,:,0:spotCounter]\n",
    "    newspotlist.gain = spotlist.gain\n",
    "    del spotlist\n",
    "    return newspotlist\n"
   ]
  },
  {
   "cell_type": "code",
   "execution_count": null,
   "metadata": {},
   "outputs": [],
   "source": [
    "nx = 5; ny = 5; nAmps = 16\n",
    "AveCounts = np.zeros([nx,ny])\n",
    "TotalSpots = 0\n",
    "for amp in range(nAmps):\n",
    "    spotlist = BuildSpotList(E2VfitsFile, E2VgainFile, amp+1, nx, ny)\n",
    "    AmpAve = spotlist.data.sum(axis=2) / float(spotlist.nstamps)\n",
    "    AveCounts += AmpAve\n",
    "    TotalSpots += spotlist.nstamps\n",
    "    print(amp+1, spotlist.gain, spotlist.nstamps, AmpAve[2,2], AmpAve[2,3])\n",
    "\n",
    "AveCounts /= float(nAmps)"
   ]
  },
  {
   "cell_type": "code",
   "execution_count": null,
   "metadata": {},
   "outputs": [],
   "source": [
    "plt.figure(figsize=(16,8))\n",
    "plt.subplot(1,1,1,aspect = 1)\n",
    "plt.suptitle(\"Stacked Fe55 events - E2V, %d hits\"%(TotalSpots), fontsize = 18)\n",
    "\n",
    "for i in range(spotlist.nx):\n",
    "    plt.plot([spotlist.x[i]-0.5, spotlist.x[i]-0.5], [spotlist.y[0]-0.5, spotlist.y[-1]+0.5], color = 'black', ls = '--')\n",
    "    plt.plot([spotlist.x[i]+0.5, spotlist.x[i]+0.5], [spotlist.y[0]-0.5, spotlist.y[-1]+0.5], color = 'black', ls = '--')\n",
    "for j in range(spotlist.ny):\n",
    "    plt.plot([spotlist.x[0]-0.5, spotlist.x[-1]+0.5], [spotlist.y[j]-0.5, spotlist.y[j]-0.5], color = 'black', ls = '--')\n",
    "    plt.plot([spotlist.x[0]-0.5, spotlist.x[-1]+0.5], [spotlist.y[j]+0.5, spotlist.y[j]+0.5], color = 'black', ls = '--')\n",
    "\n",
    "\n",
    "for i in range(spotlist.nx):\n",
    "    for j in range(spotlist.ny):\n",
    "        plt.text(spotlist.x[i] - 0.30, spotlist.y[j] + 0.15, \"%.1f\"%AveCounts[i,j], color = 'green')\n",
    "\n",
    "print(AveCounts.sum())\n",
    "plt.savefig(thedir+'E2V_Fe55_Stacked_28Oct19.pdf')"
   ]
  },
  {
   "cell_type": "code",
   "execution_count": null,
   "metadata": {},
   "outputs": [],
   "source": [
    "nx = 5; ny = 5; nAmps = 11\n",
    "AveCounts = np.zeros([nx,ny])\n",
    "TotalSpots = 0\n",
    "for amp in range(nAmps):\n",
    "    spotlist = BuildSpotList(ITLfitsFile, ITLgainFile, amp+1, nx, ny)\n",
    "    AmpAve = spotlist.data.sum(axis=2) / float(spotlist.nstamps)\n",
    "    AveCounts += AmpAve\n",
    "    TotalSpots += spotlist.nstamps\n",
    "    print(amp+1, spotlist.gain, spotlist.nstamps, AmpAve[2,2], AmpAve[2,3])\n",
    "AveCounts /= float(nAmps)"
   ]
  },
  {
   "cell_type": "code",
   "execution_count": null,
   "metadata": {},
   "outputs": [],
   "source": [
    "plt.figure(figsize=(16,8))\n",
    "plt.subplot(1,1,1,aspect = 1)\n",
    "plt.suptitle(\"Stacked Fe55 events - ITL, %d hits\"%(TotalSpots), fontsize = 18)\n",
    "\n",
    "for i in range(spotlist.nx):\n",
    "    plt.plot([spotlist.x[i]-0.5, spotlist.x[i]-0.5], [spotlist.y[0]-0.5, spotlist.y[-1]+0.5], color = 'black', ls = '--')\n",
    "    plt.plot([spotlist.x[i]+0.5, spotlist.x[i]+0.5], [spotlist.y[0]-0.5, spotlist.y[-1]+0.5], color = 'black', ls = '--')\n",
    "for j in range(spotlist.ny):\n",
    "    plt.plot([spotlist.x[0]-0.5, spotlist.x[-1]+0.5], [spotlist.y[j]-0.5, spotlist.y[j]-0.5], color = 'black', ls = '--')\n",
    "    plt.plot([spotlist.x[0]-0.5, spotlist.x[-1]+0.5], [spotlist.y[j]+0.5, spotlist.y[j]+0.5], color = 'black', ls = '--')\n",
    "\n",
    "\n",
    "for i in range(spotlist.nx):\n",
    "    for j in range(spotlist.ny):\n",
    "        plt.text(spotlist.x[i] - 0.30, spotlist.y[j] + 0.15, \"%.1f\"%AveCounts[i,j], color = 'green')\n",
    "\n",
    "\n",
    "\n",
    "print(AveCounts.sum())\n",
    "plt.savefig(thedir+'ITL_Fe55_Stacked_28Oct19.pdf')"
   ]
  },
  {
   "cell_type": "code",
   "execution_count": null,
   "metadata": {},
   "outputs": [],
   "source": []
  }
 ],
 "metadata": {
  "kernelspec": {
   "display_name": "Python 3",
   "language": "python",
   "name": "python3"
  },
  "language_info": {
   "codemirror_mode": {
    "name": "ipython",
    "version": 3
   },
   "file_extension": ".py",
   "mimetype": "text/x-python",
   "name": "python",
   "nbconvert_exporter": "python",
   "pygments_lexer": "ipython3",
   "version": "3.7.2"
  }
 },
 "nbformat": 4,
 "nbformat_minor": 2
}
