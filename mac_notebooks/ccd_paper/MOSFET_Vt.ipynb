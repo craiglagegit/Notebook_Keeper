{
 "cells": [
  {
   "cell_type": "code",
   "execution_count": null,
   "metadata": {},
   "outputs": [],
   "source": [
    "# Extracting saturated Vt with JFET contamination\n",
    "from pylab import *\n",
    "from scipy import stats\n",
    "from scipy.optimize import fmin_powell"
   ]
  },
  {
   "cell_type": "code",
   "execution_count": null,
   "metadata": {},
   "outputs": [],
   "source": [
    "def MOS_I(Vgs, Vds):\n",
    "    Vt = -2.78\n",
    "    Id0 = 1.0\n",
    "    Ioffset = 0.276\n",
    "    if Vgs < Vt:\n",
    "        return 0.0\n",
    "    elif Vds < (Vgs-Vt):\n",
    "        return Id0 * ((Vgs - Vt) * Vds - Vds**2 / 2.0) + Ioffset\n",
    "    else:\n",
    "        Vdsat = Vgs - Vt\n",
    "        return Id0 * ((Vgs - Vt) * Vdsat - Vdsat**2 / 2.0) + Ioffset\n",
    "\n",
    "def FOM(params):\n",
    "    #print params\n",
    "    #print args\n",
    "    #(V) = args\n",
    "    (I0, Ib, Vt) = params\n",
    "    fom = 0.0\n",
    "    for n in range(len(I)):\n",
    "        if V[n] < Vt:\n",
    "            continue\n",
    "        else:\n",
    "            I_model = I0 + Ib * (V[n] - Vt)**2 / 2.0\n",
    "            fom += (I_model - I[n])**2\n",
    "    return fom"
   ]
  },
  {
   "cell_type": "code",
   "execution_count": null,
   "metadata": {},
   "outputs": [],
   "source": [
    "figure()\n",
    "for Vgs in range(5):\n",
    "    I = []\n",
    "    V = []\n",
    "    for Vds_count in range(1000):\n",
    "        Vds = Vds_count / 100.0\n",
    "        V.append(Vds)\n",
    "        I.append(MOS_I(Vgs, Vds))\n",
    "    plot(V, I, label = \"%.2f\"%Vgs)\n",
    "legend()\n",
    "#ylim(0,5.0)\n",
    "show()"
   ]
  },
  {
   "cell_type": "code",
   "execution_count": null,
   "metadata": {},
   "outputs": [],
   "source": [
    "Vt = -2.78\n",
    "figure()\n",
    "I = []\n",
    "V = []\n",
    "\n",
    "for Vgs_count in range(500):\n",
    "    Vgs = Vgs_count / 100.0 - 3.0\n",
    "    if Vgs < Vt:\n",
    "        Vds = 0.0\n",
    "    else:\n",
    "        Vds = Vgs - Vt \n",
    "    V.append(Vgs)\n",
    "    I.append(MOS_I(Vgs, Vds))\n",
    "I = array(I)\n",
    "V = array(V)\n",
    "\n",
    "\n",
    "\n",
    "param0 = (0.3, 1.0, -3)\n",
    "args = ()\n",
    "Result = fmin_powell(FOM, param0, args)\n",
    "print Result\n",
    "sys.exit()\n",
    "\n",
    "plot(V, sqrt(I))\n",
    "\n",
    "xplot = linspace(0,5.0,100)\n",
    "slope, intercept, r_value, p_value, std_err = stats.linregress(V[-20:-1],sqrt(I[-20:-1]))\n",
    "yplot = (intercept + slope * xplot)\n",
    "vt_ext = -intercept/slope\n",
    "plot(xplot, yplot, ls = '--')\n",
    "text(0.5, 2.5, \"Vt = %.2f\"%vt_ext)\n",
    "show()"
   ]
  },
  {
   "cell_type": "code",
   "execution_count": null,
   "metadata": {},
   "outputs": [],
   "source": []
  }
 ],
 "metadata": {
  "kernelspec": {
   "display_name": "Python 2",
   "language": "python",
   "name": "python2"
  },
  "language_info": {
   "codemirror_mode": {
    "name": "ipython",
    "version": 2
   },
   "file_extension": ".py",
   "mimetype": "text/x-python",
   "name": "python",
   "nbconvert_exporter": "python",
   "pygments_lexer": "ipython2",
   "version": "2.7.11"
  }
 },
 "nbformat": 4,
 "nbformat_minor": 1
}
