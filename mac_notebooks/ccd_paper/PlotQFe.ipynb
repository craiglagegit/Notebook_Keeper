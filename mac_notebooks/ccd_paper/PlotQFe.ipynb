{
 "cells": [
  {
   "cell_type": "code",
   "execution_count": null,
   "metadata": {},
   "outputs": [],
   "source": [
    "import matplotlib\n",
    "matplotlib.use(\"PDF\")\n",
    "from pylab import *\n",
    "from scipy import stats\n",
    "thedir='/Users/cslage/Research/LSST/code/poisson/Poisson_CCD_Hole14/'\n",
    "%cd $thedir"
   ]
  },
  {
   "cell_type": "code",
   "execution_count": null,
   "metadata": {},
   "outputs": [],
   "source": [
    "QFe = [4.0,5.0,6.0,7.0,8.0,9.0,9.5]\n",
    "Ne = [259802,182806,121605,70493,32270,6911,686]\n",
    "\n",
    "#QFe2 = [6.8503,6.8406,6.8736,6.8633,6.8820,6.8753,6.8853]\n",
    "#Ne2 = [78067.7,86591.5,77935.5,83737.3,78668.5,81993.3,79242.1]\n",
    "QFe2 = [6.8503,6.8022,6.8038,6.7970,6.7961,6.7950,6.7947,6.7945]\n",
    "Ne2 = [75189.7,80158.7,79318.0,79912.9,79890.2,79968.9,79979.4,79992.1]\n",
    "\n",
    "\n",
    "slope, intercept, r_value, p_value, std_err = stats.linregress(QFe[0:3], Ne[0:3])\n",
    "xplot = linspace(4.0,9.0,100)\n",
    "yplot = intercept + slope * xplot\n",
    "slope2, intercept2, r_value, p_value, std_err = stats.linregress(QFe[5:7], Ne[5:7])\n",
    "xplot2 = linspace(4.0,10.0,100)\n",
    "yplot2 = intercept2 + slope2 * xplot2\n",
    "slope3, intercept3, r_value, p_value, std_err = stats.linregress(QFe[2:5], Ne[2:5])\n",
    "xplot3 = linspace(4.0,10.0,100)\n",
    "yplot3 = intercept3 + slope3 * xplot3\n",
    "\n",
    "figure()\n",
    "title(\"Number of Electrons vs Quasi-Fermi Level\")\n",
    "scatter(QFe,Ne)\n",
    "scatter(QFe2, Ne2, marker = 'x', color = 'magenta')\n",
    "plot(xplot, yplot, color = 'red', ls = '--')\n",
    "plot(xplot2, yplot2, color = 'green', ls = '--')\n",
    "plot(xplot3, yplot3, color = 'blue', ls = '--')\n",
    "xlabel(\"Quasi-Fermi Level(V)\")\n",
    "ylabel(\"Number of Electrons\")\n",
    "text(6.0,275000,\"Slope = %f\"%slope, color='red')\n",
    "text(6.0,250000,\"Intercept = %f\"%intercept, color='red')\n",
    "text(6.0,200000,\"Slope = %f\"%slope2,color='green')\n",
    "text(6.0,175000,\"Intercept = %f\"%intercept2,color='green')\n",
    "text(7.5,125000,\"Slope = %f\"%slope3,color='blue')\n",
    "text(7.5,100000,\"Intercept = %f\"%intercept3,color='blue')\n",
    "#ylim(50000,100000)\n",
    "#xlim(6.5,7.5)\n",
    "savefig(\"QFE_Ne.pdf\")"
   ]
  },
  {
   "cell_type": "code",
   "execution_count": null,
   "metadata": {},
   "outputs": [],
   "source": [
    "for n in range(8):\n",
    "    print n, 270000.0 -40000.0 * n"
   ]
  },
  {
   "cell_type": "code",
   "execution_count": null,
   "metadata": {},
   "outputs": [],
   "source": [
    "#QFe = [10.7-0.1*i for i in range(28)]# SF = 1\n",
    "#Ne =[1.4,152.4,755.6,1816.3,3268.0,5019.3,7115.7,9577.2,12420,15451,18599,21902,25308,28962,33051,37432,42049,46855,51813,56886,61971,67101,72275,77582,82953,88442,94162,100075]# SF = 1\n",
    "\n",
    "QFe = array([9.3-0.1*i for i in range(14)])\n",
    "Ne = array([0.4,96.5,751.3,2071.6,4033.5,6606.7,9787,13491,17751,22418,27528,33055,38973,45216])\n",
    "slope, intercept, r_value, p_value, std_err = stats.linregress(QFe[0:3], Ne[0:3])\n",
    "xplot = linspace(4.0,9.0,100)\n",
    "yplot = intercept + slope * xplot\n",
    "slope2, intercept2, r_value, p_value, std_err = stats.linregress(QFe[4:9], Ne[4:9])\n",
    "xplot2 = linspace(4.0,10.0,100)\n",
    "yplot2 = intercept2 + slope2 * xplot2\n",
    "slope3, intercept3, r_value, p_value, std_err = stats.linregress(QFe[10:14], Ne[10:14])\n",
    "xplot3 = linspace(4.0,10.0,100)\n",
    "yplot3 = intercept3 + slope3 * xplot3\n",
    "#fit = polyfit(Ne, QFe,2)\n",
    "#print fit\n",
    "#yplot4 = linspace(0.0,50000.0,500)\n",
    "#xplot4 = fit[2] + fit[1] * yplot4 + fit[0] * yplot4 * yplot4\n",
    "fit = polyfit(QFe, Ne,2)\n",
    "print fit\n",
    "xplot4 = linspace(7.0,10.0,500)\n",
    "yplot4 = fit[2] + fit[1] * xplot4 + fit[0] * xplot4 * xplot4\n",
    "A = fit[0]; B = fit[1]; C= fit[2]\n",
    "for i,ne in enumerate(Ne):\n",
    "    qfe_model = (-B - sqrt(B**2 - 4.0 * A * (C-ne))) / (2.0*A)\n",
    "    print \"Ne = %.1f, QFe = %.4f, QFe_model = %.4f\"%(ne,QFe[i],qfe_model)\n",
    "\n",
    "figure()\n",
    "title(\"Number of Electrons vs Quasi-Fermi Level\")\n",
    "scatter(QFe,Ne)\n",
    "#plot(xplot, yplot, color = 'red', ls = '--')\n",
    "#plot(xplot2, yplot2, color = 'green', ls = '--')\n",
    "#plot(xplot3, yplot3, color = 'blue', ls = '--')\n",
    "plot(xplot4, yplot4, color = 'blue', ls = '--')\n",
    "\n",
    "xlabel(\"Quasi-Fermi Level(V)\")\n",
    "ylabel(\"Number of Electrons\")\n",
    "#text(6.0,275000,\"Slope = %f\"%slope, color='red')\n",
    "#text(6.0,250000,\"Intercept = %f\"%(intercept/slope), color='red')\n",
    "#text(6.0,200000,\"Slope = %f\"%slope2,color='green')\n",
    "#text(6.0,175000,\"Intercept = %f\"%(intercept2/slope2),color='green')\n",
    "#text(7.5,125000,\"Slope = %f\"%slope3,color='blue')\n",
    "#text(7.5,100000,\"Intercept = %f\"%(intercept3/slope3),color='blue')\n",
    "#ylim(50000,100000)\n",
    "xlim(7.5,9.5)\n",
    "\n",
    "savefig(\"QFE_Ne5.pdf\")"
   ]
  },
  {
   "cell_type": "code",
   "execution_count": null,
   "metadata": {},
   "outputs": [],
   "source": []
  }
 ],
 "metadata": {
  "kernelspec": {
   "display_name": "Python 2",
   "language": "python",
   "name": "python2"
  },
  "language_info": {
   "codemirror_mode": {
    "name": "ipython",
    "version": 2
   },
   "file_extension": ".py",
   "mimetype": "text/x-python",
   "name": "python",
   "nbconvert_exporter": "python",
   "pygments_lexer": "ipython2",
   "version": "2.7.17"
  }
 },
 "nbformat": 4,
 "nbformat_minor": 1
}
