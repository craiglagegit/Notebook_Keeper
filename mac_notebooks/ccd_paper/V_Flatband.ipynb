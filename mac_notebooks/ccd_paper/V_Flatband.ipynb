{
 "cells": [
  {
   "cell_type": "code",
   "execution_count": null,
   "metadata": {},
   "outputs": [],
   "source": [
    "from pylab import *\n",
    "from constants import CGS, MKS"
   ]
  },
  {
   "cell_type": "code",
   "execution_count": null,
   "metadata": {},
   "outputs": [],
   "source": [
    "Nd_poly = 1.0E20\n",
    "Na = 1.0E16\n",
    "Nd = 1.0E16\n",
    "Vt = .026\n",
    "Ni = 1.05E10\n",
    "\n",
    "Phi_PS = Vt * log(Ni**2/(Nd*Nd_poly))\n",
    "print Phi_PS"
   ]
  },
  {
   "cell_type": "code",
   "execution_count": null,
   "metadata": {},
   "outputs": [],
   "source": [
    "for Vt in [0.015, 0.026]:\n",
    "    print Vt * log(Na/Ni)"
   ]
  },
  {
   "cell_type": "code",
   "execution_count": null,
   "metadata": {},
   "outputs": [],
   "source": [
    "SORCF = MKS.q * 1.0E6/(11.7 * 8.85E-12)\n",
    "print SORCF\n",
    "Ni = 1.05E-3\n",
    "for x in [1.0, 1.0E-3, 1.0E-6, 1.0E-9, 1.0E-12, 1.0E-15, 1.0E-18]:\n",
    "    MinDeltaPhi = Vt * log(x/(Ni*SORCF))\n",
    "    print x, MinDeltaPhi"
   ]
  },
  {
   "cell_type": "code",
   "execution_count": null,
   "metadata": {},
   "outputs": [],
   "source": []
  }
 ],
 "metadata": {
  "kernelspec": {
   "display_name": "Python 3",
   "language": "python",
   "name": "python3"
  },
  "language_info": {
   "codemirror_mode": {
    "name": "ipython",
    "version": 3
   },
   "file_extension": ".py",
   "mimetype": "text/x-python",
   "name": "python",
   "nbconvert_exporter": "python",
   "pygments_lexer": "ipython3",
   "version": "3.4.3"
  }
 },
 "nbformat": 4,
 "nbformat_minor": 2
}
