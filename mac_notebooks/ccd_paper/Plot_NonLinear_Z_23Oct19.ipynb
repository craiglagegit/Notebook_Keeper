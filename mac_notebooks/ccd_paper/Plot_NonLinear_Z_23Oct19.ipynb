{
 "cells": [
  {
   "cell_type": "code",
   "execution_count": null,
   "metadata": {},
   "outputs": [],
   "source": [
    "import numpy as np\n",
    "import matplotlib.pyplot as plt"
   ]
  },
  {
   "cell_type": "code",
   "execution_count": null,
   "metadata": {},
   "outputs": [],
   "source": [
    "z = np.linspace(0.0,100.0,200)\n",
    "def zprime(z, nzexp, TSi):\n",
    "    return nzexp * z - TSi * (nzexp - 1.0) * pow(z / TSi, (nzexp + 1.0)/nzexp) "
   ]
  },
  {
   "cell_type": "code",
   "execution_count": null,
   "metadata": {},
   "outputs": [],
   "source": [
    "zprime(10,1.0,100.0)"
   ]
  },
  {
   "cell_type": "code",
   "execution_count": null,
   "metadata": {},
   "outputs": [],
   "source": [
    "TSi = 100.0\n",
    "plt.figure()\n",
    "plt.subplot(1,1,1,aspect=1.0)\n",
    "plt.title(\"Nonlinear Z-axis\", fontsize=16)\n",
    "for nzexp in [1.0, 2.0, 10.0,100.0]:\n",
    "    plt.plot(z, zprime(z,nzexp,TSi), label = \"NZExp = %.2f\"%nzexp)\n",
    "plt.xlabel(\"Z (microns)\", fontsize = 16)\n",
    "plt.xticks([0, 20,40,60,80,100], fontsize = 12)\n",
    "plt.yticks([0, 20,40,60,80,100], fontsize = 12)\n",
    "plt.ylabel(\"ZPrime (microns)\", fontsize = 16)\n",
    "plt.legend(loc=\"lower right\", fontsize = 10)\n",
    "plt.savefig(\"/Users/cslage/Research/LSST/docs/Poisson_paper_Oct19/figures/ZPrime_vs_Z.pdf\")"
   ]
  },
  {
   "cell_type": "code",
   "execution_count": null,
   "metadata": {},
   "outputs": [],
   "source": [
    "# Nonlin at top and bottom\n",
    "z = np.linspace(0.0,100.0,200)\n",
    "def zprime(z, nzexp, TSi):\n",
    "    lam = 2.0 * np.arccosh(np.sqrt(nzexp))\n",
    "    tanlam = np.tanh(lam / 2.0);\n",
    "    znorm = (2.0 * tanlam * z / TSi - tanlam);\n",
    "    return TSi * (np.arctanh(znorm) / lam + 0.5);\n",
    "def DZpDz(z, nzexp, TSi):\n",
    "    lam = 2.0 * np.arccosh(np.sqrt(nzexp))\n",
    "    tanlam = np.tanh(lam / 2.0);\n",
    "    znorm = (2.0 * tanlam * z / TSi - tanlam);\n",
    "    return 2.0 * tanlam / lam / (1.0 - znorm * znorm);\n",
    "def D2ZpDz2(z, nzexp, TSi):\n",
    "    lam = 2.0 * np.arccosh(np.sqrt(nzexp))\n",
    "    tanlam = np.tanh(lam / 2.0);\n",
    "    znorm = (2.0 * tanlam * z / TSi - tanlam);\n",
    "    pre = 8.0 * znorm * tanlam * tanlam / lam / TSi; \n",
    "    return pre / ((1.0 - znorm * znorm) * (1.0 - znorm * znorm));\n"
   ]
  },
  {
   "cell_type": "code",
   "execution_count": null,
   "metadata": {},
   "outputs": [],
   "source": [
    "zprime(5.0,1.01,100.0)"
   ]
  },
  {
   "cell_type": "code",
   "execution_count": null,
   "metadata": {},
   "outputs": [],
   "source": [
    "TSi = 100.0\n",
    "plt.figure()\n",
    "plt.subplot(1,1,1,aspect=1.0)\n",
    "plt.title(\"Nonlinear Z-axis\", fontsize=16)\n",
    "for nzexp in [1.01, 2.0, 10.0,100.0]:\n",
    "    plt.plot(z, zprime(z,nzexp,TSi), label = \"NZExp = %.2f\"%nzexp)\n",
    "plt.xlabel(\"Z (microns)\", fontsize = 16)\n",
    "plt.xticks([0, 20,40,60,80,100], fontsize = 12)\n",
    "plt.yticks([0, 20,40,60,80,100], fontsize = 12)\n",
    "plt.ylabel(\"ZPrime (microns)\", fontsize = 16)\n",
    "plt.legend(loc=\"lower right\", fontsize = 10)\n",
    "plt.savefig(\"/Users/cslage/Research/LSST/code/poisson/Poisson_CCD/data/edge_doubleQFh/plots/ZPrime_vs_Z_Tanh.pdf\")"
   ]
  },
  {
   "cell_type": "code",
   "execution_count": null,
   "metadata": {},
   "outputs": [],
   "source": [
    "nzexp = 100.0\n",
    "TSi = 100.0\n",
    "\n",
    "for i in range(1,199):\n",
    "    #print(z[i], zprime(z[i],nzexp,TSi))\n",
    "    print(DZpDz((z[i]+z[i+1])/2.0,nzexp,TSi), (zprime(z[i+1],nzexp,TSi)-zprime(z[i],nzexp,TSi))/(z[i+1]-z[i]))"
   ]
  },
  {
   "cell_type": "code",
   "execution_count": null,
   "metadata": {},
   "outputs": [],
   "source": [
    "nzexp = 10.0\n",
    "TSi = 100.0\n",
    "\n",
    "for i in range(1,199):\n",
    "    #print(z[i], zprime(z[i],nzexp,TSi))\n",
    "    print(z[i],D2ZpDz2((z[i]+z[i+1])/2.0,nzexp,TSi), (DZpDz(z[i+1],nzexp,TSi)-DZpDz(z[i],nzexp,TSi))/(z[i+1]-z[i]))"
   ]
  },
  {
   "cell_type": "code",
   "execution_count": null,
   "metadata": {},
   "outputs": [],
   "source": []
  }
 ],
 "metadata": {
  "kernelspec": {
   "display_name": "Python 3",
   "language": "python",
   "name": "python3"
  },
  "language_info": {
   "codemirror_mode": {
    "name": "ipython",
    "version": 3
   },
   "file_extension": ".py",
   "mimetype": "text/x-python",
   "name": "python",
   "nbconvert_exporter": "python",
   "pygments_lexer": "ipython3",
   "version": "3.7.4"
  }
 },
 "nbformat": 4,
 "nbformat_minor": 2
}
