{
 "cells": [
  {
   "cell_type": "markdown",
   "metadata": {},
   "source": [
    "### Parsing SLAC Fe55 Analysis files\n",
    "- Craig Lage - 28-Oct-19"
   ]
  },
  {
   "cell_type": "code",
   "execution_count": null,
   "metadata": {},
   "outputs": [],
   "source": [
    "import numpy as np\n",
    "import matplotlib.pyplot as plt\n",
    "import os, sys, glob, time, scipy\n",
    "from scipy import stats\n",
    "import pickle as pkl\n",
    "from astropy.io import fits as pf"
   ]
  },
  {
   "cell_type": "code",
   "execution_count": null,
   "metadata": {},
   "outputs": [],
   "source": [
    "# Now get Fe55 stamps\n",
    "thedir = '/home/cslage/Research/LSST/code/poisson/fe55_data/'\n",
    "fitsFile = thedir+'R21_S10_6801D_psf_results_nsig4.fits'\n",
    "gainFile = thedir+'R21_S10_6801D_eotest_results.fits'\n",
    "hdulist=pf.open(fitsFile)\n",
    "hdulist2=pf.open(gainFile)"
   ]
  },
  {
   "cell_type": "code",
   "execution_count": null,
   "metadata": {},
   "outputs": [],
   "source": [
    "hdulist.info()\n",
    "hdulist2.info()"
   ]
  },
  {
   "cell_type": "code",
   "execution_count": null,
   "metadata": {},
   "outputs": [],
   "source": [
    "class Array2dSet:\n",
    "    def __init__(self,xmin,xmax,nx,ymin,ymax,ny,nstamps):\n",
    "        # This packages up a set of nstamps postage stamp images,\n",
    "        # each image of which is nx * ny pixels\n",
    "        self.nx=nx\n",
    "        self.ny=ny\n",
    "        self.nstamps=nstamps\n",
    "\n",
    "        self.xmin=xmin\n",
    "        self.ymin=ymin\n",
    "        \n",
    "        self.xmax=xmax\n",
    "        self.ymax=ymax\n",
    "        \n",
    "        self.dx=(xmax-xmin)/nx\n",
    "        self.dy=(ymax-ymin)/ny\n",
    "        \n",
    "        self.x=np.linspace(xmin+self.dx/2,xmax-self.dx/2,nx)\n",
    "        self.y=np.linspace(ymin+self.dy/2,ymax-self.dy/2,ny)\n",
    "\n",
    "        self.data=np.zeros([nx,ny,nstamps])\n",
    "        self.gain = 1.0\n",
    "\n",
    "\n",
    "def BuildSpotList(fitsfilename, gainfilename, ampnumber, nx, ny):\n",
    "    dy = 7; dx = 9 # Size of stamp in fitsfile catalog\n",
    "    Kalpha = 1620 # Electrons in Kalpha line\n",
    "    stampxmin = -(int(nx/2)+0.5)\n",
    "    stampxmax = -stampxmin\n",
    "    stampymin = -(int(ny/2)+0.5)\n",
    "    stampymax = -stampymin\n",
    "    hdulist=pf.open(fitsfilename)\n",
    "    data=hdulist[ampnumber].data\n",
    "    gain_hdulist=pf.open(gainfilename)\n",
    "    gain = gain_hdulist[1].data['GAIN'][ampnumber]\n",
    "    numRows = data.shape[0]\n",
    "    spotlist = Array2dSet(stampxmin,stampxmax,nx,stampymin,stampymax,ny,numRows)\n",
    "    spotlist.gain = gain\n",
    "    mincounts = Kalpha * 0.95\n",
    "    maxcounts = Kalpha * 1.05\n",
    "    spotCounter = 0\n",
    "    for row in range(numRows):\n",
    "        prect_data = data[row]['PRECT_DATA']\n",
    "        spot = np.zeros([nx,ny])\n",
    "        for i in range(nx):\n",
    "            for j in range(ny):\n",
    "                spot[j,i] = prect_data[(i+1) + dx * (j+1)] * gain\n",
    "        count = spot.sum()\n",
    "        if count > mincounts and count < maxcounts:\n",
    "            spotlist.data[:,:,spotCounter] = spot\n",
    "            spotCounter += 1\n",
    "\n",
    "    newspotlist = Array2dSet(stampxmin,stampxmax,nx,stampymin,stampymax,ny,spotCounter)\n",
    "    newspotlist.data = spotlist.data[:,:,0:spotCounter]\n",
    "    del spotlist\n",
    "    return newspotlist\n"
   ]
  },
  {
   "cell_type": "code",
   "execution_count": null,
   "metadata": {},
   "outputs": [],
   "source": [
    "data2=hdulist2[1].data\n",
    "print(data2['GAIN'])\n",
    "print(data2.names)"
   ]
  },
  {
   "cell_type": "code",
   "execution_count": null,
   "metadata": {},
   "outputs": [],
   "source": [
    "print(data1[307]['PRECT_DATA'].shape)\n",
    "print(data1[307]['PRECT_DATA'])\n",
    "print(data1[307]['XPEAK'])\n",
    "print(data1[307]['YPEAK'])\n",
    "print(data1[307]['PRECT_DATA'].sum())"
   ]
  },
  {
   "cell_type": "code",
   "execution_count": null,
   "metadata": {},
   "outputs": [],
   "source": [
    "row = 13398\n",
    "dy = 7; dx = 9\n",
    "prect_data = data1[row]['PRECT_DATA']\n",
    "arr = np.zeros([9,7])\n",
    "for i in range(dx):\n",
    "    for j in range(dy):\n",
    "        arr[i,j] = prect_data[i+dx*j]\n",
    "stamp = arr[1:6,1:6].transpose()\n",
    "plt.imshow(stamp)\n",
    "print(stamp.sum())"
   ]
  },
  {
   "cell_type": "code",
   "execution_count": null,
   "metadata": {},
   "outputs": [],
   "source": [
    "dy = 7; dx = 9\n",
    "arr = np.zeros([9,7])\n",
    "AveCounts = np.zeros([5,5])\n",
    "counts = []\n",
    "numRows = data1.shape[0]\n",
    "NumGoodSpots = 0\n",
    "for row in range(numRows):\n",
    "    arr = np.zeros([9,7])\n",
    "    prect_data = data1[row]['PRECT_DATA']\n",
    "    for i in range(dx):\n",
    "        for j in range(dy):\n",
    "            arr[i,j] = prect_data[i+dx*j]\n",
    "    stamp = arr[1:6,1:6].transpose()\n",
    "    count = stamp.sum()\n",
    "    if count < 1350 or count > 1450:\n",
    "        continue\n",
    "    AveCounts += stamp\n",
    "    NumGoodSpots += 1\n",
    "    counts.append(count)\n",
    "AveCounts /= float(NumGoodSpots) "
   ]
  },
  {
   "cell_type": "code",
   "execution_count": null,
   "metadata": {},
   "outputs": [],
   "source": [
    "plt.hist(counts, range=(1200,1500))"
   ]
  },
  {
   "cell_type": "code",
   "execution_count": null,
   "metadata": {},
   "outputs": [],
   "source": [
    "print(AveCounts)"
   ]
  },
  {
   "cell_type": "code",
   "execution_count": null,
   "metadata": {},
   "outputs": [],
   "source": [
    "amp = 1\n",
    "spotlist = BuildSpotList(fitsFile, gainFile, amp, 5, 5)\n",
    "print(spotlist.nstamps)"
   ]
  },
  {
   "cell_type": "code",
   "execution_count": null,
   "metadata": {},
   "outputs": [],
   "source": [
    "AveCounts = spotlist.data.sum(axis=2) / float(spotlist.nstamps)\n",
    "\n",
    "nx = 5; ny = 5\n",
    "plt.figure(figsize=(16,8))\n",
    "plt.subplot(1,1,1,aspect = 1)\n",
    "plt.suptitle(\"Fe55 spot, %d spots\"%(spotlist.nstamps))\n",
    "\n",
    "for i in range(spotlist.nx):\n",
    "    plt.plot([spotlist.x[i]-0.5, spotlist.x[i]-0.5], [spotlist.y[0]-0.5, spotlist.y[-1]+0.5], color = 'black', ls = '--')\n",
    "    plt.plot([spotlist.x[i]+0.5, spotlist.x[i]+0.5], [spotlist.y[0]-0.5, spotlist.y[-1]+0.5], color = 'black', ls = '--')\n",
    "for j in range(spotlist.ny):\n",
    "    plt.plot([spotlist.x[0]-0.5, spotlist.x[-1]+0.5], [spotlist.y[j]-0.5, spotlist.y[j]-0.5], color = 'black', ls = '--')\n",
    "    plt.plot([spotlist.x[0]-0.5, spotlist.x[-1]+0.5], [spotlist.y[j]+0.5, spotlist.y[j]+0.5], color = 'black', ls = '--')\n",
    "\n",
    "\n",
    "for i in range(spotlist.nx):\n",
    "    for j in range(spotlist.ny):\n",
    "        plt.text(spotlist.x[i] - 0.30, spotlist.y[j] + 0.15, \"%.1f\"%AveCounts[i,j], color = 'green')\n",
    "\n",
    "\n",
    "\n",
    "print(AveCounts.sum())"
   ]
  },
  {
   "cell_type": "code",
   "execution_count": null,
   "metadata": {},
   "outputs": [],
   "source": []
  }
 ],
 "metadata": {
  "kernelspec": {
   "display_name": "Python 3",
   "language": "python",
   "name": "python3"
  },
  "language_info": {
   "codemirror_mode": {
    "name": "ipython",
    "version": 3
   },
   "file_extension": ".py",
   "mimetype": "text/x-python",
   "name": "python",
   "nbconvert_exporter": "python",
   "pygments_lexer": "ipython3",
   "version": "3.7.2"
  }
 },
 "nbformat": 4,
 "nbformat_minor": 2
}
