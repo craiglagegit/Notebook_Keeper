{
 "cells": [
  {
   "cell_type": "code",
   "execution_count": null,
   "id": "5f3b5ea7",
   "metadata": {},
   "outputs": [],
   "source": [
    "import numpy as np\n",
    "import matplotlib.pyplot as plt"
   ]
  },
  {
   "cell_type": "code",
   "execution_count": null,
   "id": "34b91343",
   "metadata": {},
   "outputs": [],
   "source": [
    "import galsim as gs"
   ]
  },
  {
   "cell_type": "code",
   "execution_count": null,
   "id": "5fa27a55",
   "metadata": {},
   "outputs": [],
   "source": [
    "pixel_scale = 0.10               # arcsec / pixel - AuxTel\n",
    "sky_level = 0.00                # ADU / arcsec^2\n",
    "\n",
    "gal_sigma = 0.3     # arcsec - 0.7 FWHM\n",
    "psf_sigma = 0.01     # arcsec\n",
    "gal_flux = 100000"
   ]
  },
  {
   "cell_type": "code",
   "execution_count": null,
   "id": "a2604428",
   "metadata": {},
   "outputs": [],
   "source": [
    "gal = gs.Gaussian(flux=gal_flux, sigma=gal_sigma)"
   ]
  },
  {
   "cell_type": "code",
   "execution_count": null,
   "id": "b385a7d7",
   "metadata": {},
   "outputs": [],
   "source": [
    "gs.Gaussian?"
   ]
  },
  {
   "cell_type": "code",
   "execution_count": null,
   "id": "548946bc",
   "metadata": {},
   "outputs": [],
   "source": [
    "s = gs.Shear(q=0.5, beta=0.0*gs.degrees)\n",
    "sheared_gal = gal.shear(s)"
   ]
  },
  {
   "cell_type": "code",
   "execution_count": null,
   "id": "3e2eedb7",
   "metadata": {},
   "outputs": [],
   "source": [
    "gal_image = gs.ImageF(100, 100, scale=pixel_scale)\n",
    "b1 = gs.BoundsI(30, 70, 30, 70)\n",
    "sub_gal_image_1 = gal_image[b1]\n",
    "b2 = gs.BoundsI(50, 90, 50, 90)\n",
    "sub_gal_image_2 = gal_image[b2]\n",
    "\n"
   ]
  },
  {
   "cell_type": "code",
   "execution_count": null,
   "id": "d8c66b8a",
   "metadata": {},
   "outputs": [],
   "source": [
    "sheared_gal.drawImage(sub_gal_image_1, method = 'phot')"
   ]
  },
  {
   "cell_type": "code",
   "execution_count": null,
   "id": "1c6ba6a4",
   "metadata": {},
   "outputs": [],
   "source": [
    "plt.imshow(gal_image.array, interpolation='nearest')"
   ]
  },
  {
   "cell_type": "code",
   "execution_count": null,
   "id": "f712a6f2",
   "metadata": {},
   "outputs": [],
   "source": [
    "gal.drawImage(sub_gal_image_2, method = 'phot', add_to_image=True)"
   ]
  },
  {
   "cell_type": "code",
   "execution_count": null,
   "id": "de2edf23",
   "metadata": {},
   "outputs": [],
   "source": [
    "plt.imshow(gal_image.array, interpolation='nearest')"
   ]
  },
  {
   "cell_type": "code",
   "execution_count": null,
   "id": "d5470396",
   "metadata": {},
   "outputs": [],
   "source": [
    "gal_sigma = 0.7 / 2.355     # arcsec - 0.7 FWHM\n",
    "gal_flux = 10000000\n",
    "gal = gs.Gaussian(flux=gal_flux, sigma=gal_sigma)\n",
    "gal_image = gs.ImageF(100, 100, scale=pixel_scale)\n",
    "gal_image = gal.drawImage(image=gal_image, method = 'phot', add_to_image=False)\n",
    "print(gal.centroid.x, gal_image.array.sum())\n"
   ]
  },
  {
   "cell_type": "code",
   "execution_count": null,
   "id": "276e238f",
   "metadata": {},
   "outputs": [],
   "source": [
    "plt.imshow(gal_image.array, interpolation='nearest')"
   ]
  },
  {
   "cell_type": "code",
   "execution_count": null,
   "id": "eed92412",
   "metadata": {},
   "outputs": [],
   "source": [
    "# Verifying that I understand the sigma in pixel space\n",
    "plt.plot(gal_image.array[50, :])\n",
    "xaxis = np.linspace(0,100.0,1000)\n",
    "sigma_pixels = gal_sigma / pixel_scale\n",
    "gaussian_mean = 49.5\n",
    "yaxis = 175000.0 * np.exp(-(xaxis - gaussian_mean)**2 / (2.0 * sigma_pixels**2))\n",
    "plt.plot(xaxis, yaxis)\n",
    "plt.xlim(30.0, 70.0)"
   ]
  },
  {
   "cell_type": "code",
   "execution_count": null,
   "id": "34111ac8",
   "metadata": {},
   "outputs": [],
   "source": [
    "gal_sigma = 0.7 / 2.355     # arcsec - 0.7 FWHM\n",
    "gal_flux = 10000000\n",
    "gal = gs.Gaussian(flux=gal_flux, sigma=gal_sigma)\n",
    "gal_image = gs.ImageF(100, 100, scale=pixel_scale)\n",
    "gal_image = gal.drawImage(image=gal_image, method = 'phot', add_to_image=False)\n",
    "print(gal.centroid.x, gal_image.array.sum())\n",
    "off = gs.PositionD(1.0, 0.0)\n",
    "gal = gal.shift(off)\n",
    "gal_image = gal.drawImage(image=gal_image, method = 'phot', add_to_image=True)\n",
    "print(gal.centroid.x, gal_image.array.sum())\n",
    "\n"
   ]
  },
  {
   "cell_type": "code",
   "execution_count": null,
   "id": "ada80868",
   "metadata": {},
   "outputs": [],
   "source": [
    "plt.imshow(gal_image.array, interpolation='nearest')"
   ]
  },
  {
   "cell_type": "code",
   "execution_count": null,
   "id": "40ebcf47",
   "metadata": {},
   "outputs": [],
   "source": [
    "# Verifying that I understand the sigma in pixel space\n",
    "# So the shift is in arcsec\n",
    "plt.plot(gal_image.array[50, :])\n",
    "xaxis = np.linspace(0,100.0,1000)\n",
    "sigma_pixels = gal_sigma / pixel_scale\n",
    "gaussian_mean_1 = 49.5\n",
    "yaxis_1 = 175000.0 * np.exp(-(xaxis - gaussian_mean_1)**2 / (2.0 * sigma_pixels**2))\n",
    "gaussian_mean_2 = 59.5\n",
    "yaxis_2 = 175000.0 * np.exp(-(xaxis - gaussian_mean_2)**2 / (2.0 * sigma_pixels**2))\n",
    "plt.plot(xaxis, yaxis + yaxis_2)\n",
    "plt.xlim(30.0, 80.0)"
   ]
  },
  {
   "cell_type": "code",
   "execution_count": null,
   "id": "d2598a87",
   "metadata": {},
   "outputs": [],
   "source": [
    "gal_sigma = 0.7 / 2.355     # arcsec - 0.7 FWHM\n",
    "gal_flux = 10000000\n",
    "gal = gs.Gaussian(flux=gal_flux, sigma=gal_sigma)\n",
    "gal_image = gs.ImageF(200, 200, scale=pixel_scale)\n",
    "gal_image = gal.drawImage(image=gal_image, method = 'phot', add_to_image=False)\n",
    "print(gal.centroid.x, gal_image.array.sum())\n"
   ]
  },
  {
   "cell_type": "code",
   "execution_count": null,
   "id": "3dd73040",
   "metadata": {},
   "outputs": [],
   "source": [
    "plt.imshow(gal_image.array, interpolation='nearest')"
   ]
  },
  {
   "cell_type": "code",
   "execution_count": null,
   "id": "975138eb",
   "metadata": {},
   "outputs": [],
   "source": [
    "# Verifying that I understand the sigma in pixel space\n",
    "plt.plot(gal_image.array[100, :])\n",
    "xaxis = np.linspace(0,200.0,1000)\n",
    "sigma_pixels = gal_sigma / pixel_scale\n",
    "gaussian_mean = 99.5\n",
    "yaxis = 175000.0 * np.exp(-(xaxis - gaussian_mean)**2 / (2.0 * sigma_pixels**2))\n",
    "plt.plot(xaxis, yaxis)\n",
    "plt.xlim(80.0, 120.0)"
   ]
  },
  {
   "cell_type": "code",
   "execution_count": null,
   "id": "027eef49",
   "metadata": {},
   "outputs": [],
   "source": [
    "gal_sigma = 0.7 / 2.355     # arcsec - 0.7 FWHM\n",
    "gal_flux = 10000000\n",
    "gal = gs.Gaussian(flux=gal_flux, sigma=gal_sigma)\n",
    "gal_image = gs.ImageF(200, 200, scale=pixel_scale)\n",
    "gal_image = gal.drawImage(image=gal_image, method = 'phot', add_to_image=False)\n",
    "print(gal.centroid.x, gal_image.array.sum())\n",
    "off = gs.PositionD(1.0, 0.0)\n",
    "gal = gal.shift(off)\n",
    "gal_image = gal.drawImage(image=gal_image, method = 'phot', add_to_image=True)\n",
    "print(gal.centroid.x, gal_image.array.sum())\n",
    "\n"
   ]
  },
  {
   "cell_type": "code",
   "execution_count": null,
   "id": "4aee1db2",
   "metadata": {},
   "outputs": [],
   "source": [
    "plt.imshow(gal_image.array, interpolation='nearest')"
   ]
  },
  {
   "cell_type": "code",
   "execution_count": null,
   "id": "9f95a0e2",
   "metadata": {},
   "outputs": [],
   "source": [
    "# Verifying that I understand the sigma in pixel space\n",
    "# So the shift is in arcsec\n",
    "# and is independent of the image size.\n",
    "plt.plot(gal_image.array[100, :])\n",
    "xaxis = np.linspace(0,200.0,1000)\n",
    "sigma_pixels = gal_sigma / pixel_scale\n",
    "gaussian_mean_1 = 99.5\n",
    "yaxis_1 = 175000.0 * np.exp(-(xaxis - gaussian_mean_1)**2 / (2.0 * sigma_pixels**2))\n",
    "gaussian_mean_2 = 109.5\n",
    "yaxis_2 = 175000.0 * np.exp(-(xaxis - gaussian_mean_2)**2 / (2.0 * sigma_pixels**2))\n",
    "plt.plot(xaxis, yaxis + yaxis_2)\n",
    "plt.xlim(80.0, 130.0)"
   ]
  },
  {
   "cell_type": "code",
   "execution_count": null,
   "id": "841cc3d6",
   "metadata": {},
   "outputs": [],
   "source": [
    "for i in range(1000):\n",
    "    sub_gal_image = gal.drawImage(image=sub_gal_image, method = 'phot', add_to_image=True)"
   ]
  },
  {
   "cell_type": "code",
   "execution_count": null,
   "id": "2f1da3d5",
   "metadata": {},
   "outputs": [],
   "source": [
    "plt.imshow(sub_gal_image.array, interpolation='nearest')"
   ]
  },
  {
   "cell_type": "code",
   "execution_count": null,
   "id": "813e5942",
   "metadata": {},
   "outputs": [],
   "source": [
    "gal_sigma = 0.7 / 2.355     # arcsec - 0.7 FWHM\n",
    "gal_flux = 1000\n",
    "gal = gs.Gaussian(flux=gal_flux, sigma=gal_sigma)\n",
    "gal_image = gs.ImageF(100, 100, scale=pixel_scale)\n",
    "gal_image = gal.drawImage(image=gal_image, method = 'phot', add_to_image=False)\n",
    "print(new_gal.centroid.x, gal_image.array.sum())\n",
    "for i in range(1000):\n",
    "    off = gs.PositionD(0.01*(i+1)*pixel_scale, 0.0)\n",
    "    new_gal = gal.shift(off)\n",
    "    #new_gal.flux = gal_flux\n",
    "    #new_gal.sigma = gal_sigma\n",
    "    gal_image = new_gal.drawImage(image=gal_image, method = 'phot', add_to_image=True)\n",
    "    #print(i, new_gal.centroid.x, gal_image.array.sum())"
   ]
  },
  {
   "cell_type": "code",
   "execution_count": null,
   "id": "fa5b48da",
   "metadata": {},
   "outputs": [],
   "source": [
    "plt.imshow(gal_image.array, interpolation='nearest')"
   ]
  },
  {
   "cell_type": "code",
   "execution_count": null,
   "id": "c7786425",
   "metadata": {},
   "outputs": [],
   "source": [
    "print(gal_image.array.sum())"
   ]
  },
  {
   "cell_type": "code",
   "execution_count": null,
   "id": "dc5bb06e",
   "metadata": {},
   "outputs": [],
   "source": [
    "new_gal.centroid.x"
   ]
  },
  {
   "cell_type": "code",
   "execution_count": null,
   "id": "c0fbc4eb",
   "metadata": {},
   "outputs": [],
   "source": [
    "gal.gsparams"
   ]
  },
  {
   "cell_type": "code",
   "execution_count": null,
   "id": "2282129c",
   "metadata": {},
   "outputs": [],
   "source": [
    "new_gal.gsparams"
   ]
  },
  {
   "cell_type": "code",
   "execution_count": null,
   "id": "476aad25",
   "metadata": {},
   "outputs": [],
   "source": [
    "dir(gal)"
   ]
  },
  {
   "cell_type": "code",
   "execution_count": null,
   "id": "2e9f17a5",
   "metadata": {},
   "outputs": [],
   "source": [
    "type(sub_gal_image)"
   ]
  },
  {
   "cell_type": "code",
   "execution_count": null,
   "id": "f13af5a3",
   "metadata": {},
   "outputs": [],
   "source": [
    "dir(sub_gal_image)"
   ]
  },
  {
   "cell_type": "code",
   "execution_count": null,
   "id": "a3297296",
   "metadata": {},
   "outputs": [],
   "source": [
    "sub_gal_image.shift?"
   ]
  },
  {
   "cell_type": "code",
   "execution_count": null,
   "id": "b85c7670",
   "metadata": {},
   "outputs": [],
   "source": [
    "gal.shift?"
   ]
  },
  {
   "cell_type": "code",
   "execution_count": null,
   "id": "8a7bacc5",
   "metadata": {},
   "outputs": [],
   "source": [
    "gs.Gaussian?"
   ]
  },
  {
   "cell_type": "code",
   "execution_count": null,
   "id": "1408b928",
   "metadata": {},
   "outputs": [],
   "source": [
    "rng = gs.BaseDeviate(5678)  "
   ]
  },
  {
   "cell_type": "code",
   "execution_count": null,
   "id": "9b6ea5f1",
   "metadata": {},
   "outputs": [],
   "source": [
    "dir(rng)"
   ]
  },
  {
   "cell_type": "code",
   "execution_count": null,
   "id": "a83c3c40",
   "metadata": {},
   "outputs": [],
   "source": [
    "rng.generate?"
   ]
  },
  {
   "cell_type": "code",
   "execution_count": null,
   "id": "331937d1",
   "metadata": {},
   "outputs": [],
   "source": [
    "random_seed = 6424512\n",
    "k = 0    \n",
    "ud = gs.UniformDeviate(random_seed+k)\n",
    "test = np.zeros([100])\n",
    "ud.generate(test)\n",
    "print(test.mean())"
   ]
  },
  {
   "cell_type": "code",
   "execution_count": null,
   "id": "2b87b1fa",
   "metadata": {},
   "outputs": [],
   "source": [
    "gs.GaussianDeviate?"
   ]
  },
  {
   "cell_type": "code",
   "execution_count": null,
   "id": "93aa7601",
   "metadata": {},
   "outputs": [],
   "source": [
    "dir(ud)"
   ]
  },
  {
   "cell_type": "code",
   "execution_count": null,
   "id": "2cbfb00a",
   "metadata": {},
   "outputs": [],
   "source": [
    "dir(b1)"
   ]
  },
  {
   "cell_type": "code",
   "execution_count": null,
   "id": "ddbb5f75",
   "metadata": {},
   "outputs": [],
   "source": [
    "b1.ymin"
   ]
  },
  {
   "cell_type": "code",
   "execution_count": null,
   "id": "82d2f032",
   "metadata": {},
   "outputs": [],
   "source": [
    "gal.drawImage?"
   ]
  },
  {
   "cell_type": "code",
   "execution_count": null,
   "id": "a68227df",
   "metadata": {},
   "outputs": [],
   "source": [
    "gal_sigma = 0.7 / 2.355      # arcsec - 0.7 FWHM\n",
    "peak_shift = 0.50 * np.cos(60.0 * np.pi / 180.0) # arc sec\n",
    "rms_shift = peak_shift / np.sqrt(2.0)\n",
    "az_period = 22.0 # seconds\n",
    "expTime = 5.0 # seconds\n",
    "nSubImage = 1000\n",
    "ns = []\n",
    "xshifts = []\n",
    "for n in range(nSubImage):\n",
    "    phase = -40.0 * np.pi / 180.0\n",
    "    xshift = peak_shift * np.sin(n * 2.0 * np.pi / float(nSubImage) * expTime / az_period + phase)\n",
    "    ns.append(n)\n",
    "    xshifts.append(xshift)\n",
    "    \n",
    "plt.plot(ns, xshifts)\n",
    "\n",
    "    "
   ]
  },
  {
   "cell_type": "code",
   "execution_count": null,
   "id": "d457b5fc",
   "metadata": {},
   "outputs": [],
   "source": []
  }
 ],
 "metadata": {
  "kernelspec": {
   "display_name": "Python 3 (ipykernel)",
   "language": "python",
   "name": "python3"
  },
  "language_info": {
   "codemirror_mode": {
    "name": "ipython",
    "version": 3
   },
   "file_extension": ".py",
   "mimetype": "text/x-python",
   "name": "python",
   "nbconvert_exporter": "python",
   "pygments_lexer": "ipython3",
   "version": "3.9.5"
  }
 },
 "nbformat": 4,
 "nbformat_minor": 5
}
