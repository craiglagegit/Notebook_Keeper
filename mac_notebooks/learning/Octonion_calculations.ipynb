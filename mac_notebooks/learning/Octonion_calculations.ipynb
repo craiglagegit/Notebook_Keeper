{
 "cells": [
  {
   "cell_type": "code",
   "execution_count": null,
   "id": "e7dd39e8",
   "metadata": {},
   "outputs": [],
   "source": [
    "import numpy as np\n",
    "from constants import CGS, MKS"
   ]
  },
  {
   "cell_type": "code",
   "execution_count": null,
   "id": "cc0ef88d",
   "metadata": {},
   "outputs": [],
   "source": [
    "# Fine structure constant in CGS\n",
    "1.0 / (CGS.e**2 / (CGS.hbar * CGS.c))"
   ]
  },
  {
   "cell_type": "code",
   "execution_count": null,
   "id": "85a0b2a6",
   "metadata": {},
   "outputs": [],
   "source": [
    "# Fine structure constant in MKS\n",
    "1.0 / (MKS.q**2 / (4.0 * np.pi * MKS.eps0 * MKS.hbar * MKS.c))"
   ]
  },
  {
   "cell_type": "code",
   "execution_count": null,
   "id": "820e7d79",
   "metadata": {},
   "outputs": [],
   "source": [
    "# Proposed calculation from eigenvalues of Exceptional Jordan Algebra matrices.\n",
    "# Is this real, or just numerology???\n",
    "1.0 / (np.exp((1.0 / 3.0 - np.sqrt(3.0 / 8.0)) * 2.0 / 3.0) * (3.0 / 32.0)**2)"
   ]
  },
  {
   "cell_type": "code",
   "execution_count": null,
   "id": "9c2cd17a",
   "metadata": {},
   "outputs": [],
   "source": [
    "me = MKS.me * MKS.c**2 / MKS.eV / 1.0E6\n",
    "print(me)"
   ]
  },
  {
   "cell_type": "code",
   "execution_count": null,
   "id": "912b8b3b",
   "metadata": {},
   "outputs": [],
   "source": [
    "m_e = me\n",
    "m_up = me * 4.0\n",
    "m_down = me * 9.0\n",
    "m_mu = me * ((1.0 + np.sqrt(3.0 / 8.0)) / (1.0 - np.sqrt(3.0 / 8.0)) * \\\n",
    "             (1.0 / 3.0 + np.sqrt(3.0 / 8.0)) / abs(1.0 / 3.0 - np.sqrt(3.0 / 8.0)))**2\n",
    "m_charm = me * (2.0 * (2.0 / 3.0 + np.sqrt(3.0 / 8.0)) / (2.0 / 3.0 - np.sqrt(3.0 / 8.0)))**2\n",
    "m_strange = me * (3.0 * (1.0 + np.sqrt(3.0 / 8.0)) / (1.0 - np.sqrt(3.0 / 8.0)))**2\n",
    "m_tau = me * (((1.0 + np.sqrt(3.0 / 8.0)) / (1.0 - np.sqrt(3.0 / 8.0)))**2 * \\\n",
    "             (1.0 / 3.0 + np.sqrt(3.0 / 8.0)) / abs(1.0 / 3.0 - np.sqrt(3.0 / 8.0)))**2  \n",
    "m_top = me * (2.0 * (2.0 / 3.0 + np.sqrt(3.0 / 8.0)) / (2.0 / 3.0 - np.sqrt(3.0 / 8.0)) * \\\n",
    "             (2.0 / 3.0) / (2.0 / 3.0 - np.sqrt(3.0 / 8.0)))**2\n",
    "m_bottom = me * (3.0 * (1.0 + np.sqrt(3.0 / 8.0))**3 / (1.0 - np.sqrt(3.0 / 8.0))**2)**2\n"
   ]
  },
  {
   "cell_type": "code",
   "execution_count": null,
   "id": "da97170f",
   "metadata": {},
   "outputs": [],
   "source": [
    "print (f\"m_e = {m_e:.4f} MeV, m_mu = {m_mu:.4f} MeV, m_tau = {m_tau:.4f} MeV\")\n",
    "print (f\"m_up = {m_up:.4f} MeV, m_charm = {m_charm:.4f} MeV, m_top = {m_top:.4f} MeV\")\n",
    "print (f\"m_down = {m_down:.4f} MeV, m_strange = {m_strange:.4f} MeV, m_bottom = {m_bottom:.4f} MeV\")"
   ]
  },
  {
   "cell_type": "markdown",
   "id": "2c415a6b",
   "metadata": {},
   "source": [
    "Reasonably close. Strange and bottom are the furthest off.  Apparently the ratios are closer"
   ]
  },
  {
   "cell_type": "code",
   "execution_count": null,
   "id": "a8a66b20",
   "metadata": {},
   "outputs": [],
   "source": []
  }
 ],
 "metadata": {
  "kernelspec": {
   "display_name": "Python 3 (ipykernel)",
   "language": "python",
   "name": "python3"
  },
  "language_info": {
   "codemirror_mode": {
    "name": "ipython",
    "version": 3
   },
   "file_extension": ".py",
   "mimetype": "text/x-python",
   "name": "python",
   "nbconvert_exporter": "python",
   "pygments_lexer": "ipython3",
   "version": "3.9.5"
  }
 },
 "nbformat": 4,
 "nbformat_minor": 5
}
