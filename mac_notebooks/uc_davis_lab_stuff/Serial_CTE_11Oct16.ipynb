{
 "cells": [
  {
   "cell_type": "code",
   "execution_count": null,
   "metadata": {},
   "outputs": [],
   "source": [
    "\n",
    "import matplotlib\n",
    "matplotlib.use(\"PDF\")\n",
    "import pyfits as pf\n",
    "from pylab import *\n",
    "import sys, glob\n",
    "from scipy import stats\n",
    "\n",
    "thedir='/sandbox/lsst/lsst/GUI/20161017_029-cte-timing/'\n",
    "%cd $thedir\n",
    "\n",
    "#%matplotlib inline"
   ]
  },
  {
   "cell_type": "code",
   "execution_count": null,
   "metadata": {},
   "outputs": [],
   "source": [
    "#files = glob.glob('ITL-3800C-029_flat_light_004_20161010??????.fits')\n",
    "files = sort(glob.glob('ITL-3800C-029_flat_light_031_20161017??????.fits'))\n",
    "name = files[0][25:28]\n",
    "print files\n",
    "print name"
   ]
  },
  {
   "cell_type": "code",
   "execution_count": null,
   "metadata": {},
   "outputs": [],
   "source": [
    "xstart = 505\n",
    "xstop = 542\n",
    "ov_start = 512\n",
    "ystart = 200\n",
    "ystop = 1800\n",
    "xaxis = linspace(xstart,xstop-1,xstop-xstart)\n",
    "\n",
    "for file in files:\n",
    "    name = file[25:28]\n",
    "    hdulist = pf.open(file, mode='readonly', do_not_scale_image_data=True)\n",
    "    figure(figsize=(15,15))\n",
    "    subplots_adjust(hspace = 0.5, wspace = 0.5)\n",
    "    suptitle(\"Serial CTE by segment - ITL CCD 029 - %s\"%name, fontsize = 16)\n",
    "\n",
    "    for segment in range(16):\n",
    "        try:\n",
    "            subplot(4,4,segment+1)\n",
    "            imhdr=hdulist[segment+1].header\n",
    "            extname = imhdr['EXTNAME']\n",
    "            title(\"CTE - %s\"%extname)\n",
    "            data = array(hdulist[segment+1].data + 32768, dtype = int32)\n",
    "            flat_overscan = array(data[:,xstop-8:xstop].sum(axis = 1) / 8.0)\n",
    "            cte_data = ((transpose(transpose(data) - flat_overscan))[ystart:ystop,:].mean(axis=0))[xstart:xstop]\n",
    "            #print flat_overscan\n",
    "            #print cte_data\n",
    "            #sys.exit()\n",
    "            cte_std = ((transpose(transpose(data) - flat_overscan))[ystart:ystop,:].std(axis=0) / sqrt(float(ystop-ystart)))[xstart:xstop]\n",
    "            cti = (transpose(transpose(data) - flat_overscan))[ystart:ystop,ov_start].mean()\\\n",
    "            / (transpose(transpose(data) - flat_overscan))[ystart:ystop,ov_start-1].mean() / ov_start\n",
    "            scatter(xaxis, cte_data, color = 'blue')\n",
    "            errorbar(xaxis, cte_data, yerr=cte_std)\n",
    "            text(xstart + 8, 20000, \"CTI = %.2E\"%cti, fontsize = 12)\n",
    "            yscale('log',nonposy='clip')\n",
    "            ylim(.01, 100000)\n",
    "            xticks([510,520,530,540])\n",
    "            xlabel(\"X (First overscan = 512)\")\n",
    "            ylabel(\"Signal(ADU)\")\n",
    "            print \"Segment %s done\"%extname\n",
    "        except:\n",
    "            continue\n",
    "    savefig(\"Serial_CTE_%s_17Oct16.pdf\"%name)\n",
    "    clf()"
   ]
  },
  {
   "cell_type": "code",
   "execution_count": null,
   "metadata": {},
   "outputs": [],
   "source": []
  }
 ],
 "metadata": {
  "kernelspec": {
   "display_name": "Python 2",
   "language": "python",
   "name": "python2"
  },
  "language_info": {
   "codemirror_mode": {
    "name": "ipython",
    "version": 2
   },
   "file_extension": ".py",
   "mimetype": "text/x-python",
   "name": "python",
   "nbconvert_exporter": "python",
   "pygments_lexer": "ipython2",
   "version": "2.7.3"
  }
 },
 "nbformat": 4,
 "nbformat_minor": 0
}
