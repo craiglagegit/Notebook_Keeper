{
 "cells": [
  {
   "cell_type": "code",
   "execution_count": null,
   "metadata": {},
   "outputs": [],
   "source": [
    "\n",
    "import matplotlib\n",
    "matplotlib.use(\"PDF\")\n",
    "import pyfits as pf\n",
    "from pylab import *\n",
    "import sys, glob\n",
    "from scipy import stats\n",
    "\n",
    "thedir='/sandbox/lsst/lsst/GUI/20161010_029-cte/'\n",
    "%cd $thedir\n",
    "\n",
    "#%matplotlib inline"
   ]
  },
  {
   "cell_type": "code",
   "execution_count": null,
   "metadata": {},
   "outputs": [],
   "source": [
    "files = glob.glob('ITL-3800C-029_dark_dark_100_20161010??????_bias.fits')\n",
    "print files"
   ]
  },
  {
   "cell_type": "code",
   "execution_count": null,
   "metadata": {},
   "outputs": [],
   "source": [
    "# [seg, xstart, xpeak, ystart, ystop]\n",
    "regions = [[8,190,197,754,756],[8,190,197,765,768],[11,490,500,375,386],[11,490,500,402,411]]\n",
    "figure()\n",
    "subplots_adjust(hspace = 0.5, wspace = 0.5)\n",
    "suptitle(\"CTI - Hot Pixels\", fontsize = 18)\n",
    "plotcounter = 1\n",
    "for file in files:\n",
    "    hdulist = pf.open(file, mode='readonly', do_not_scale_image_data=True)\n",
    "    for [segment,xstart,xpeak,ystart,ystop] in regions:\n",
    "        xstop = xstart+20\n",
    "        xaxis = linspace(xstart,xstop-1,20)\n",
    "        subplot(2,2,plotcounter)\n",
    "        plotcounter += 1\n",
    "        imhdr=hdulist[segment+1].header\n",
    "        extname = imhdr['EXTNAME']\n",
    "        title(\"%s, x = %d, y = %d\"%(extname,xpeak,(int((ystart+ystop)/2))), fontsize = 10)\n",
    "        data = array(hdulist[segment+1].data + 32768, dtype = int32)\n",
    "        cte_data = data[ystart:ystop,:].mean(axis=0)[xstart:xstop]\n",
    "        cte_std = (data[ystart:ystop,:].std(axis=0) / sqrt(float(ystop-ystart)))[xstart:xstop]\n",
    "        ratio = data[ystart:ystop,xpeak+1].mean() / data[ystart:ystop,xpeak].mean()\n",
    "        cti = ratio / xpeak\n",
    "        scatter(xaxis, cte_data, color = 'blue')\n",
    "        errorbar(xaxis, cte_data, yerr=cte_std)\n",
    "        text(xstart-2, 20000, \"Ratio = %.3E\"%ratio,fontsize=6)\n",
    "        text(xstart-2, 10000, \"CTI = %.3E\"%cti,fontsize=6)\n",
    "        text(xstart,100,\"<----\",color = 'blue')\n",
    "        yscale('log',nonposy='clip')\n",
    "        ylim(.1, 100000)\n",
    "        xlabel(\"X\")\n",
    "        ylabel(\"Signal(ADU)\")\n",
    "savefig(\"Serial_CTE_Hot_Pixels_12Oct16.pdf\")\n"
   ]
  },
  {
   "cell_type": "code",
   "execution_count": null,
   "metadata": {},
   "outputs": [],
   "source": []
  }
 ],
 "metadata": {
  "kernelspec": {
   "display_name": "Python 2",
   "language": "python",
   "name": "python2"
  },
  "language_info": {
   "codemirror_mode": {
    "name": "ipython",
    "version": 2
   },
   "file_extension": ".py",
   "mimetype": "text/x-python",
   "name": "python",
   "nbconvert_exporter": "python",
   "pygments_lexer": "ipython2",
   "version": "2.7.10"
  }
 },
 "nbformat": 4,
 "nbformat_minor": 0
}
