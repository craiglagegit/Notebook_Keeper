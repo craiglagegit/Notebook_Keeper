{
 "cells": [
  {
   "cell_type": "code",
   "execution_count": null,
   "metadata": {},
   "outputs": [],
   "source": [
    "import numpy as np\n",
    "import matplotlib.pyplot as plt"
   ]
  },
  {
   "cell_type": "code",
   "execution_count": null,
   "metadata": {},
   "outputs": [],
   "source": [
    "# The following calibration factor was calculated from image 200_20180302, with the \n",
    "# MonDiode at 2.93E-7 and a 20 second exposure\n",
    "# The spot had a total of 415,000 ADU, and the gain is approximately 4.5\n",
    "\n",
    "calFactor = 415000*4.5 / (293 * 20)\n",
    "print(\"calFactor = %.2f e-/nA-sec\"%calFactor)"
   ]
  },
  {
   "cell_type": "code",
   "execution_count": null,
   "metadata": {},
   "outputs": [],
   "source": [
    "# The following data were read off ds9 images with varying exposures.\n",
    "# Each entry is the exposure number, the MonDiode, the ExpTime,\n",
    "# and the saturated trail total length\n",
    "\n",
    "data = [[200, 293.0,20,4], [209,293.0,380, 71], [700, 2400, 200, 197+130], [701,2400,400,385+270],\n",
    "[702,2400,600,557+419], [704,2400,1000,873+715], [705,2400,1200,1020+857], [706,2400,1400,1162+1000],\n",
    "[200,2400,2400,4000]]\n",
    "data = np.array(data)"
   ]
  },
  {
   "cell_type": "code",
   "execution_count": null,
   "metadata": {},
   "outputs": [],
   "source": [
    "print(data[:,0])"
   ]
  },
  {
   "cell_type": "code",
   "execution_count": null,
   "metadata": {},
   "outputs": [],
   "source": [
    "electrons = calFactor * data[:,1] * data[:,2]\n",
    "length  = data[:,3]\n",
    "xplot = np.linspace(0, 2.0E9, 100)\n",
    "coefs = np.polyfit(electrons, length, 1)\n",
    "yplot = coefs[0] * xplot + coefs[1]\n",
    "plt.figure()\n",
    "plt.scatter(electrons, length)\n",
    "plt.plot(xplot, yplot, color = \"green\", ls = \"--\")\n",
    "plt.title(\"Saturated streak length vs total electrons - ITL\")\n",
    "plt.xlabel(\"Total Electrons in spot\")\n",
    "plt.ylabel(\"Saturated streak total length (pixels)\")\n",
    "plt.text(0.5E9,4000, \"The last point reached both edges\")\n",
    "plt.savefig(\"/Users/cslage/Research/LSST/code/GUI/saturation/track_length/figures/Sat_Length_vs_Electrons_01Jul19.pdf\")"
   ]
  },
  {
   "cell_type": "code",
   "execution_count": null,
   "metadata": {},
   "outputs": [],
   "source": []
  }
 ],
 "metadata": {
  "kernelspec": {
   "display_name": "Python 3",
   "language": "python",
   "name": "python3"
  },
  "language_info": {
   "codemirror_mode": {
    "name": "ipython",
    "version": 3
   },
   "file_extension": ".py",
   "mimetype": "text/x-python",
   "name": "python",
   "nbconvert_exporter": "python",
   "pygments_lexer": "ipython3",
   "version": "3.4.3"
  }
 },
 "nbformat": 4,
 "nbformat_minor": 2
}
