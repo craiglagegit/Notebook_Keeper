{
 "cells": [
  {
   "cell_type": "code",
   "execution_count": null,
   "metadata": {},
   "outputs": [],
   "source": [
    "\n",
    "import matplotlib\n",
    "matplotlib.use(\"PDF\")\n",
    "import pyfits as pf\n",
    "from pylab import *\n",
    "import sys, glob\n",
    "from scipy import stats\n",
    "\n",
    "thedir='/sandbox/lsst/lsst/GUI/20180525_002_flats/'\n",
    "%cd $thedir\n",
    "\n",
    "#%matplotlib inline"
   ]
  },
  {
   "cell_type": "code",
   "execution_count": null,
   "metadata": {},
   "outputs": [],
   "source": [
    "files = glob.glob('ITL-3800C-002_flat_flat_900_20180525??????.fits')\n",
    "#files = sort(glob.glob('E2V-CCD250-112-09_flat_flat_400_20190405??????.fits'))\n",
    "name = files[0][24:27]\n",
    "print files\n",
    "print name\n"
   ]
  },
  {
   "cell_type": "code",
   "execution_count": null,
   "metadata": {},
   "outputs": [],
   "source": [
    "xstart = 505\n",
    "xstop = 542\n",
    "ov_start = 512\n",
    "ystart = 200\n",
    "ystop = 1800\n",
    "xaxis = linspace(xstart,xstop-1,xstop-xstart)\n",
    "\n",
    "for file in [files[0]]:\n",
    "    print file\n",
    "    name = file[24:27]\n",
    "    hdulist = pf.open(file, mode='readonly', do_not_scale_image_data=True)\n",
    "    figure(figsize=(15,15))\n",
    "    subplots_adjust(hspace = 0.5, wspace = 0.5)\n",
    "    suptitle(\"Serial CTE by segment - ITL CCD 002\\n\", fontsize = 16)\n",
    "    for segment in range(16):\n",
    "        try:\n",
    "            subplot(4,4,segment+1)\n",
    "            imhdr=hdulist[segment+1].header\n",
    "            extname = imhdr['EXTNAME']\n",
    "            title(\"CTE - %s\"%extname)\n",
    "            data = array(hdulist[segment+1].data + 32768, dtype = int32)\n",
    "            flat_overscan = mean(array(data[:,xstop-8:xstop]),axis = 1)\n",
    "            cte_data = ((transpose(transpose(data) - flat_overscan))[ystart:ystop,:].mean(axis=0))[xstart:xstop]\n",
    "            cte_std = ((transpose(transpose(data) - flat_overscan))[ystart:ystop,:].std(axis=0) / sqrt(float(ystop-ystart)))[xstart:xstop]\n",
    "            cti = median((transpose(transpose(data) - flat_overscan))[ystart:ystop,ov_start]\\\n",
    "            / (transpose(transpose(data) - flat_overscan))[ystart:ystop,ov_start-1]) / ov_start\n",
    "\n",
    "            scatter(xaxis, cte_data, color = 'blue')\n",
    "            errorbar(xaxis, cte_data, yerr=cte_std)\n",
    "            text(xstart + 8, 20000, \"CTI = %.2E\"%cti, fontsize = 12)\n",
    "            yscale('log',nonposy='clip')\n",
    "            ylim(.01, 100000)\n",
    "            xticks([510,520,530,540])\n",
    "            xlabel(\"X (First overscan = 512)\")\n",
    "            ylabel(\"Signal(ADU)\")\n",
    "            print \"Segment %s done\"%extname\n",
    "        except:\n",
    "            continue\n",
    "    savefig(\"Serial_CTE_%s_16Apr19.pdf\"%name)\n",
    "    clf()\n",
    "\n",
    "# This was just a check to see if I got the same results as before - almost identical"
   ]
  },
  {
   "cell_type": "code",
   "execution_count": null,
   "metadata": {},
   "outputs": [],
   "source": []
  }
 ],
 "metadata": {
  "kernelspec": {
   "display_name": "Python 3",
   "language": "python",
   "name": "python3"
  },
  "language_info": {
   "codemirror_mode": {
    "name": "ipython",
    "version": 3
   },
   "file_extension": ".py",
   "mimetype": "text/x-python",
   "name": "python",
   "nbconvert_exporter": "python",
   "pygments_lexer": "ipython3",
   "version": "3.4.3"
  }
 },
 "nbformat": 4,
 "nbformat_minor": 1
}
