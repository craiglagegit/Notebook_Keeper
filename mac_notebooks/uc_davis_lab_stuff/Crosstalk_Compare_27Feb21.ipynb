{
 "cells": [
  {
   "cell_type": "code",
   "execution_count": null,
   "metadata": {},
   "outputs": [],
   "source": [
    "import numpy as np\n",
    "import matplotlib.pyplot as plt\n",
    "import astropy.io.fits as pf"
   ]
  },
  {
   "cell_type": "code",
   "execution_count": null,
   "metadata": {},
   "outputs": [],
   "source": [
    "def getCrosstalk(filename):\n",
    "    # Subroutine to retrieve the crosstalk results measured by\n",
    "    # Adam Snyder at SLAC and put them in the form needed for ISR\n",
    "    try:\n",
    "        hdulist = pf.open(filename, mode='readonly', do_not_scale_image_data=True)\n",
    "        ctData=hdulist[0].data\n",
    "        assert ctData.shape == (16,16)\n",
    "    except FileNotFoundError:\n",
    "        print(\"Crosstalk file not found\")\n",
    "        sys.exit()\n",
    "    except AssertionError:\n",
    "        print(\"Crosstalk data not of the proper type\")\n",
    "        sys.exit()\n",
    "    except:\n",
    "        print(\"Failed to get crosstalk data\")\n",
    "        sys.exit()\n",
    "    # Need to zero out the diagonal elements due to difference in convention\n",
    "    for i in range(16):\n",
    "        ctData[i,i] = 0.0\n",
    "    return ctData"
   ]
  },
  {
   "cell_type": "code",
   "execution_count": null,
   "metadata": {},
   "outputs": [],
   "source": [
    "ctSnyder = getCrosstalk('/Users/cslage/Research/LSST/code/auxtel/auxtel_crosstalk_matrix.fits')\n",
    "ctDM = getCrosstalk('/Users/cslage/Research/LSST/code/auxtel/auxtel_crosstalk_matrix_DM.fits')"
   ]
  },
  {
   "cell_type": "code",
   "execution_count": null,
   "metadata": {},
   "outputs": [],
   "source": [
    "np.fill_diagonal(ctSnyder, 1.0)\n",
    "diff = ((ctDM - ctSnyder) / ctSnyder) * 100.0\n",
    "np.fill_diagonal(diff, 0)\n",
    "for i in range(16):\n",
    "    for j in range(16):\n",
    "        if i == j:\n",
    "            continue\n",
    "        print(i,j,ctSnyder[i,j], ctDM[i,j], diff[i,j])"
   ]
  },
  {
   "cell_type": "code",
   "execution_count": null,
   "metadata": {},
   "outputs": [],
   "source": [
    "np.fill_diagonal(ctSnyder, 1.0)\n",
    "diff = abs((ctSnyder - ctDM) / ctSnyder)\n",
    "np.fill_diagonal(diff, 0)"
   ]
  },
  {
   "cell_type": "code",
   "execution_count": null,
   "metadata": {},
   "outputs": [],
   "source": [
    "plt.imshow(diff)"
   ]
  },
  {
   "cell_type": "code",
   "execution_count": null,
   "metadata": {},
   "outputs": [],
   "source": [
    "plotted = np.zeros([16,16], dtype='int')\n",
    "plt.figure(figsize=(16,12))\n",
    "plt.subplots_adjust(hspace=0.5)\n",
    "plt.suptitle(\"Auxtel Crosstalk comparison - 01Mar21\", fontsize=24)\n",
    "for sep in range(1,4):\n",
    "    if sep == 1:\n",
    "        ymin = -2E-3; ymax = 2E-3\n",
    "    else:\n",
    "        ymin = -2E-4; ymax = 2E-4\n",
    "    vals = []\n",
    "    DMvals = []\n",
    "    names = []\n",
    "    for i in range(16):\n",
    "        iHalf = i%8\n",
    "        for j in range(16):\n",
    "            jHalf = j%8\n",
    "            AlreadyPlotted = False\n",
    "            if abs(iHalf - jHalf) == sep and abs(i - j) == sep:\n",
    "                names.append(f'A{i}V{j}')\n",
    "                vals.append(ctSnyder[i,j])\n",
    "                DMvals.append(ctDM[i,j])\n",
    "                plotted[i,j] = 1\n",
    "    plt.subplot(4,1,sep)\n",
    "    plt.title(f'Separation = {sep} amps')\n",
    "    plt.ylim(ymin, ymax)\n",
    "    plt.plot(names, vals, label='Snyder')\n",
    "    plt.plot(names, DMvals, label='DM')\n",
    "    plt.xticks(names, rotation=90, fontsize=10)\n",
    "    plt.legend()\n",
    "for i in range(16):\n",
    "    for j in range(16):\n",
    "        if (plotted[i,j] == 0) and (i != j):\n",
    "            names.append(f'A{i}V{j}')\n",
    "            vals.append(ctSnyder[i,j])\n",
    "            DMvals.append(ctDM[i,j])\n",
    "plt.subplot(4,1,4)\n",
    "plt.title('Separation = rest')\n",
    "plt.ylim(ymin, ymax)\n",
    "plt.plot(names, vals, label='Snyder')\n",
    "plt.plot(names, DMvals, label='DM')\n",
    "plt.xticks(names, rotation=90, fontsize=6)\n",
    "plt.legend()\n",
    "plt.savefig(\"/Users/cslage/Research/LSST/code/auxtel/Crosstalk_Comparison_01Mar21.pdf\")"
   ]
  },
  {
   "cell_type": "code",
   "execution_count": null,
   "metadata": {},
   "outputs": [],
   "source": []
  }
 ],
 "metadata": {
  "kernelspec": {
   "display_name": "Python 3",
   "language": "python",
   "name": "python3"
  },
  "language_info": {
   "codemirror_mode": {
    "name": "ipython",
    "version": 3
   },
   "file_extension": ".py",
   "mimetype": "text/x-python",
   "name": "python",
   "nbconvert_exporter": "python",
   "pygments_lexer": "ipython3",
   "version": "3.7.4"
  }
 },
 "nbformat": 4,
 "nbformat_minor": 2
}
