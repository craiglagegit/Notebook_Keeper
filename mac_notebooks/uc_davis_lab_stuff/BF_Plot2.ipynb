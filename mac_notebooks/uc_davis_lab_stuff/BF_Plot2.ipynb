{
 "cells": [
  {
   "cell_type": "code",
   "execution_count": null,
   "metadata": {},
   "outputs": [],
   "source": [
    "from pylab import *\n",
    "import sys\n",
    "\n",
    "thedir = '/Users/cslage/Research/LSST/code/poisson/Poisson_CCD5A'\n",
    "%cd $thedir\n"
   ]
  },
  {
   "cell_type": "code",
   "execution_count": null,
   "metadata": {},
   "outputs": [],
   "source": [
    "def ReadLog(filename):\n",
    "    #Run # 250, Total electrons = 499988, Peak electrons = 61054, Sigmax = 12.132527, Sigmay = 11.910243\n",
    "    n=0\n",
    "    data = open(filename, 'r')\n",
    "    lines = data.readlines()\n",
    "    data.close()\n",
    "    imaxs = []\n",
    "    sigmaxs = []\n",
    "    sigmays = []\n",
    "    for line in lines:\n",
    "        items = line.split()\n",
    "        if float(items[16].strip(',')) > float(items[13].strip(',')):\n",
    "            n += 1\n",
    "        imaxs.append(int(items[10].strip(',')))\n",
    "        sigmaxs.append(float(items[16].strip(',')))\n",
    "        sigmays.append(float(items[13].strip(',')))\n",
    "    #print \"Sigmax > Sigmay %d times\"%n\n",
    "    return (imaxs, sigmaxs, sigmays)"
   ]
  },
  {
   "cell_type": "code",
   "execution_count": null,
   "metadata": {},
   "outputs": [],
   "source": [
    "from scipy import stats\n",
    "figure()\n",
    "\n",
    "titles = ['New Test']\n",
    "\n",
    "for i,run in enumerate([1]):\n",
    "    subplot(1,1,i+1)\n",
    "    title(titles[i])\n",
    "    (imaxs, sigmaxs, sigmays) = ReadLog('BF_log%d.out'%run)\n",
    "    print \"i = %d, <Sigmax> = %.4f <Sigmay> = %.4f\"%(i, array(sigmaxs).mean(), array(sigmays).mean())\n",
    "    scatter(imaxs, sigmaxs, color = 'green', lw = 2, label = 'Sigma-x')\n",
    "    scatter(imaxs, sigmays, color = 'red', lw = 2, label = 'Sigma-y')\n",
    "\n",
    "\n",
    "    slope, intercept, r_value, p_value, std_err = stats.linregress(imaxs[40:80],sigmaxs[40:80])\n",
    "    xplot=linspace(0.0,150000.0,100)\n",
    "    yplot = slope * xplot + intercept\n",
    "    plot(xplot, yplot, color='blue', lw = 2, ls = '--')\n",
    "    tslope = slope/intercept * 100.0 * 50000.0\n",
    "    text(20000.0,1.25,\"X Slope = %.1f percent per 50,000 e-\"%tslope)\n",
    "    \n",
    "    slope, intercept, r_value, p_value, std_err = stats.linregress(imaxs[40:80],sigmays[40:80])\n",
    "    xplot=linspace(0.0,150000.0,100)\n",
    "    yplot = slope * xplot + intercept\n",
    "    plot(xplot, yplot, color='black', lw = 2, ls = '--')\n",
    "    tslope = slope/intercept * 100.0 * 50000.0\n",
    "    text(20000.0,1.20,\"Y Slope = %.1f percent per 50,000 e-\"%tslope)\n",
    "\n",
    "\n",
    "    xlabel('Central Peak(electrons)')\n",
    "    ylabel('Sigma (Pixels)')\n",
    "    legend(loc= 'lower right')\n",
    "    ylim(0.90, 1.30)\n",
    "    xlim(0.0,150000.0)\n",
    "    xticks([0.0,50000,100000])\n",
    "show()\n"
   ]
  },
  {
   "cell_type": "code",
   "execution_count": null,
   "metadata": {},
   "outputs": [],
   "source": [
    "8.0E11*(8.0E-4*6.7E-4)"
   ]
  },
  {
   "cell_type": "code",
   "execution_count": null,
   "metadata": {},
   "outputs": [],
   "source": [
    "print 100000 / (8.0E11*(8.0E-4*6.7E-4)), (13.1-10.1)/13.1\n"
   ]
  },
  {
   "cell_type": "code",
   "execution_count": null,
   "metadata": {},
   "outputs": [],
   "source": [
    "1.0E12*(8.0E-4*6.7E-4*1.0E-4)"
   ]
  },
  {
   "cell_type": "code",
   "execution_count": null,
   "metadata": {},
   "outputs": [],
   "source": []
  }
 ],
 "metadata": {
  "kernelspec": {
   "display_name": "Python 2",
   "language": "python",
   "name": "python2"
  },
  "language_info": {
   "codemirror_mode": {
    "name": "ipython",
    "version": 2
   },
   "file_extension": ".py",
   "mimetype": "text/x-python",
   "name": "python",
   "nbconvert_exporter": "python",
   "pygments_lexer": "ipython2",
   "version": "2.7.10"
  }
 },
 "nbformat": 4,
 "nbformat_minor": 0
}
