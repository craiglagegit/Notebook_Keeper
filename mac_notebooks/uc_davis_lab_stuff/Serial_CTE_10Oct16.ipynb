{
 "cells": [
  {
   "cell_type": "code",
   "execution_count": null,
   "metadata": {},
   "outputs": [],
   "source": [
    "\n",
    "import matplotlib\n",
    "matplotlib.use(\"PDF\")\n",
    "import pyfits as pf\n",
    "from pylab import *\n",
    "import sys, glob\n",
    "from scipy import stats\n",
    "\n",
    "thedir='/sandbox/lsst/lsst/GUI/20161010_029-cte/'\n",
    "%cd $thedir\n",
    "\n",
    "#%matplotlib inline"
   ]
  },
  {
   "cell_type": "code",
   "execution_count": null,
   "metadata": {},
   "outputs": [],
   "source": [
    "#files = glob.glob('ITL-3800C-029_flat_light_004_20161010??????.fits')\n",
    "files = glob.glob('ITL-3800C-029_flat_light_002_2016101010????.fits')\n",
    "print files\n"
   ]
  },
  {
   "cell_type": "code",
   "execution_count": null,
   "metadata": {},
   "outputs": [],
   "source": [
    "xstart = 505\n",
    "xstop = 542\n",
    "ov_start = 512\n",
    "ystart = 500\n",
    "ystop = 1500\n",
    "xaxis = linspace(xstart,xstop-1,xstop-xstart)\n",
    "for file in files:\n",
    "    hdulist = pf.open(file, mode='readonly', do_not_scale_image_data=True)\n",
    "    for segment in range(16):#[8]:\n",
    "        try:\n",
    "            imhdr=hdulist[segment+1].header\n",
    "            extname = imhdr['EXTNAME']\n",
    "            figure()\n",
    "            suptitle(\"CTI - %s\"%extname)\n",
    "            data = array(hdulist[segment+1].data + 32768, dtype = int32)\n",
    "            flat_overscan = array(data[:,xstop-8:xstop].sum(axis = 1) / 8.0)\n",
    "            cte_data = ((transpose(transpose(data) - flat_overscan))[ystart:ystop,:].mean(axis=0))[xstart:xstop]\n",
    "            cte_std = ((transpose(transpose(data) - flat_overscan))[ystart:ystop,:].std(axis=0) / sqrt(float(ystop-ystart)))[xstart:xstop]\n",
    "            cti = (transpose(transpose(data) - flat_overscan))[ystart:ystop,ov_start].mean()\\\n",
    "            / (transpose(transpose(data) - flat_overscan))[ystart:ystop,ov_start-1].mean() / ov_start\n",
    "            #print (transpose(transpose(data) - flat_overscan))[ystart:ystop,ov_start].mean()\n",
    "            #print (transpose(transpose(data) - flat_overscan))[ystart:ystop,ov_start-1].mean()\n",
    "            #print extname, cti\n",
    "            #print cte_data\n",
    "            #sys.exit()\n",
    "            scatter(xaxis, cte_data, color = 'blue')\n",
    "            errorbar(xaxis, cte_data, yerr=cte_std)\n",
    "            text(xstop - 20, 20000, \"CTI = %.3E\"%cti)\n",
    "            text(501,20000,\"Flat Level\",color = 'blue')\n",
    "            slope1, intercept1, r_value, p_value, std_err = stats.linregress(xaxis[7:9],log10(cte_data[7:9]))\n",
    "            slope2, intercept2, r_value, p_value, std_err = stats.linregress(xaxis[9:13],log10(cte_data[9:13]))\n",
    "            slope3, intercept3, r_value, p_value, std_err = stats.linregress(xaxis[13:20],log10(cte_data[13:20]))\n",
    "            x1 = linspace(xaxis[5],xaxis[10],6)\n",
    "            y1 = 10**(intercept1 + slope1 * x1)\n",
    "            plot(x1,y1,color = 'red')\n",
    "            text(515,10000,\"Slope1 = %.6f\"%(10**(slope1)), color = 'red')\n",
    "            x2 = linspace(xaxis[7],xaxis[16],10)\n",
    "            y2 = 10**(intercept2 + slope2 * x2)\n",
    "            plot(x2,y2,color = 'green')\n",
    "            text(515,1000,\"Slope2 = %.6f\"%(10**(slope2)), color = 'green')\n",
    "            x3 = linspace(xaxis[5],xaxis[22],18)\n",
    "            y3 = 10**(intercept3 + slope3 * x3)\n",
    "            plot(x3,y3,color = 'magenta')\n",
    "            text(515,100,\"Slope3 = %.6f\"%(10**(slope3)), color = 'magenta')\n",
    "            yscale('log',nonposy='clip')\n",
    "            ylim(.01, 100000)\n",
    "            xlabel(\"X (First overscan = 512)\")\n",
    "            ylabel(\"Signal(ADU)\")\n",
    "            savefig(\"Serial_CTE_Low_11Oct16_%s.pdf\"%extname)\n",
    "            print \"Segment %s done\"%extname\n",
    "        except:\n",
    "            continue\n"
   ]
  },
  {
   "cell_type": "code",
   "execution_count": null,
   "metadata": {},
   "outputs": [],
   "source": []
  }
 ],
 "metadata": {
  "kernelspec": {
   "display_name": "Python 2",
   "language": "python",
   "name": "python2"
  },
  "language_info": {
   "codemirror_mode": {
    "name": "ipython",
    "version": 2
   },
   "file_extension": ".py",
   "mimetype": "text/x-python",
   "name": "python",
   "nbconvert_exporter": "python",
   "pygments_lexer": "ipython2",
   "version": "2.7.11"
  }
 },
 "nbformat": 4,
 "nbformat_minor": 0
}
