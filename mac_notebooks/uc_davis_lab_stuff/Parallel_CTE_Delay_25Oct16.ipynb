{
 "cells": [
  {
   "cell_type": "code",
   "execution_count": null,
   "metadata": {},
   "outputs": [],
   "source": [
    "\n",
    "import matplotlib\n",
    "matplotlib.use(\"PDF\")\n",
    "import pyfits as pf\n",
    "from pylab import *\n",
    "import sys, glob\n",
    "from scipy import stats\n",
    "\n",
    "thedir='/Users/cslage/Research/LSST/optical_simulator/CTE/'\n",
    "%cd $thedir\n",
    "\n",
    "#%matplotlib inline"
   ]
  },
  {
   "cell_type": "code",
   "execution_count": null,
   "metadata": {},
   "outputs": [],
   "source": [
    "#files = glob.glob('ITL-3800C-029_flat_light_004_20161010??????.fits')\n",
    "files = sort(glob.glob('ITL-3800C-029_flat_light_015_20161017??????.fits'))\n",
    "name = files[0][25:28]\n",
    "print files\n",
    "print name"
   ]
  },
  {
   "cell_type": "code",
   "execution_count": null,
   "metadata": {},
   "outputs": [],
   "source": [
    "xstart = 50\n",
    "xstop = 450\n",
    "ov_start = 2000\n",
    "ystart = 2000\n",
    "ystop = 2022\n",
    "xovstart = 520\n",
    "xovstop = 542\n",
    "num_last = 4\n",
    "\n",
    "for file in files:\n",
    "    name = file[25:28]\n",
    "    hdulist = pf.open(file, mode='readonly', do_not_scale_image_data=True)\n",
    "    figure(figsize=(15,15))\n",
    "    subplots_adjust(hspace = 0.5, wspace = 0.5)\n",
    "    suptitle(\"Parallel CTE by segment - ITL CCD 029 - %s\"%name, fontsize = 16)\n",
    "\n",
    "    for segment in range(16):\n",
    "                xaxis = []\n",
    "\n",
    "                subplot(4,4,segment+1)\n",
    "                imhdr=hdulist[segment+1].header\n",
    "                extname = imhdr['EXTNAME']\n",
    "                title(\"CTE Delay - %s\"%extname)\n",
    "                data = array(hdulist[segment+1].data + 32768, dtype = int32)\n",
    "                flat_overscan = array(data[ystop-num_last:ystop,xovstart:xovstop].sum() / float(num_last*(xovstop-xovstart)))\n",
    "                \n",
    "                #print (data - flat_overscan)[ystart:ystop, 256]\n",
    "                #sys.exit()\n",
    "                \n",
    "                cte_data = (data - flat_overscan)[:,xstart:xstop].mean(axis=1)\n",
    "                for i in range(len(cte_data)):\n",
    "                    xaxis.append((i+1)*2.6E-6*542)\n",
    "                slope, intercept, r_value, p_value, std_err = stats.linregress(xaxis[ystop-10:ystop], cte_data[ystop-10:ystop])\n",
    "                x_intercept = -intercept / slope\n",
    "                #xplot=linspace(0.0,7.0,100)\n",
    "                yplot = slope * array(xaxis) + intercept\n",
    "                scatter(xaxis[ystart:ystop], cte_data[ystart:ystop], color = 'blue')\n",
    "                plot(xaxis[ystart-5:ystop], yplot[ystart-5:ystop], ls = \"--\", lw = 4, color = 'red')\n",
    "                #errorbar(xaxis, cte_data, yerr=cte_std)\n",
    "                ytext = cte_data[ystart]*1.1\n",
    "                text(2.802, ytext, \"Intercept = %.2f seconds\"%x_intercept, fontsize = 12)\n",
    "                #yscale('log',nonposy='clip')\n",
    "                #ylim(.01, 100000)\n",
    "                ylim(0,ytext*1.1)\n",
    "                #xlim(2.5,3.5)\n",
    "                xticks([2.80, 2.85])\n",
    "                xlabel(\"Time(seconds)\")\n",
    "                ylabel(\"Signal(ADU)\")\n",
    "                print \"Segment %s done\"%extname\n",
    "    #show()\n",
    "    savefig(\"Parallel_CTE_Delay_%s_25Oct16.pdf\"%name)\n",
    "    #savefig(\"Parallel_CTE_Lin_%s_18Oct16.pdf\"%name)\n",
    "    #clf()"
   ]
  },
  {
   "cell_type": "code",
   "execution_count": null,
   "metadata": {},
   "outputs": [],
   "source": []
  }
 ],
 "metadata": {
  "kernelspec": {
   "display_name": "Python 2",
   "language": "python",
   "name": "python2"
  },
  "language_info": {
   "codemirror_mode": {
    "name": "ipython",
    "version": 2
   },
   "file_extension": ".py",
   "mimetype": "text/x-python",
   "name": "python",
   "nbconvert_exporter": "python",
   "pygments_lexer": "ipython2",
   "version": "2.7.10"
  }
 },
 "nbformat": 4,
 "nbformat_minor": 0
}
