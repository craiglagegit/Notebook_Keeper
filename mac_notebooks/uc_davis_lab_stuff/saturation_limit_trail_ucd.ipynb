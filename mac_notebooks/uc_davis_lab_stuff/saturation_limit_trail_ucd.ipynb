{
 "cells": [
  {
   "cell_type": "markdown",
   "metadata": {},
   "source": [
    "### This notebook estimates the maximum number of electrons per pixel the spaceX satellites would produce.\\\n",
    "Craig Lage - 18Dec19  I took Bo's notebook, removed the LSST DM requirement, \n",
    "and replaced it with Josh Meyer's Exposure Time Calculator.  Now only GalSim is required."
   ]
  },
  {
   "cell_type": "code",
   "execution_count": null,
   "metadata": {},
   "outputs": [],
   "source": [
    "import numpy as np\n",
    "import pandas as pd\n",
    "import matplotlib.pyplot as plt\n",
    "import galsim"
   ]
  },
  {
   "cell_type": "code",
   "execution_count": null,
   "metadata": {},
   "outputs": [],
   "source": [
    "# CCD parameters\n",
    "# full_well for a 30s visit, in e-\n",
    "# These are only used in the plots\n",
    "full_well = 150e3  #typical for e2v sensors. ITL is typically 200k. We try to be conservative and use the smaller.\n",
    "full_well2 = 100e3  #some sensors can be as low as 100K e-.\n",
    "# Currently the bias offsets are not used.\n",
    "bias_offset = 30e3\n",
    "bias_offset_subtract = 0 #According to Steve R. and Aaron R., this should not be a factor"
   ]
  },
  {
   "cell_type": "markdown",
   "metadata": {},
   "source": [
    "## We first determine what fraction of the flux will be in the center/brightest pixel\n",
    "#### A satellite typically moves at 0.5 deg per sec. It is 4m wide and 550km high.\n",
    "#### We'll make these variables so we can change them"
   ]
  },
  {
   "cell_type": "code",
   "execution_count": null,
   "metadata": {},
   "outputs": [],
   "source": [
    "size_in_m = 4.0\n",
    "height_in_m = 550.0E3\n",
    "fwhm = size_in_m / height_in_m / np.pi * 180 * 3600\n",
    "print('FWHM = %.2f arcsec'%fwhm)"
   ]
  },
  {
   "cell_type": "code",
   "execution_count": null,
   "metadata": {},
   "outputs": [],
   "source": [
    "#Assume it moves along pixel grid. The time its image center moves from one pixel center to the next is dt\n",
    "pixel_scale = 0.2 # arcseconds\n",
    "speed_in_deg_per_sec = 0.5\n",
    "dt = pixel_scale / (speed_in_deg_per_sec*3600) # in seconds\n",
    "\n",
    "nvisits = 1\n",
    "filterlist = ['u', 'g', 'r', 'i', 'z', 'y']\n",
    "exposure_time = 30.0\n"
   ]
  },
  {
   "cell_type": "markdown",
   "metadata": {},
   "source": [
    "#### Approximate it as a source which appears at one pixel center for dt, then disappears from there, and instantly appears at the next pixel center for dt. During each dt, the source deposit a flux profile that is a Gaussian with FWHM of 1.5 arcsec.\n",
    "So we are just overlapping Gaussians whose centers are 0.2 arcsec apart. Considering that the FWHM is much larger than pixel size, the top of the Gaussians are pretty flat. So this should be a pretty good approximation.\n",
    "This slightly overestimates the flux, because having the Gaussian moving across the pixel in dt would yield a smaller flux for the pixel, compared to when the center of the Gaussian is overlapped with the pixel center during dt."
   ]
  },
  {
   "cell_type": "code",
   "execution_count": null,
   "metadata": {},
   "outputs": [],
   "source": [
    "stamp_size = 101\n",
    "\n",
    "psf = galsim.Gaussian(fwhm=fwhm)\n",
    "img = galsim.ImageD(stamp_size, stamp_size, scale=pixel_scale)\n",
    "psf = psf.withFlux(1) #unit flux\n",
    "psf.drawImage(image=img)\n",
    "ratio = sum(img.array[50,:])/np.sum(img.array)\n",
    "plt.plot(img.array[50,:])\n",
    "print(ratio) # This is the ratio of the peak to the total of the flux in time dt\n",
    "plt.grid()"
   ]
  },
  {
   "cell_type": "code",
   "execution_count": null,
   "metadata": {},
   "outputs": [],
   "source": [
    "#what if the trail is 45 deg to the pixel grid?\n",
    "# dt will be 1.414 time longer, would that give a larger ratio?\n",
    "print(sum(np.diag(img.array))*1.414)\n",
    "# it is the same. Bingo. That is it."
   ]
  },
  {
   "cell_type": "markdown",
   "metadata": {},
   "source": [
    "### ETC calculator - modified by Craig Lage, but (hopefully) content is unchanged."
   ]
  },
  {
   "cell_type": "code",
   "execution_count": null,
   "metadata": {},
   "outputs": [],
   "source": [
    "class ETC(object):\n",
    "    def __init__(self, band, pixel_scale=None, stamp_size=None, threshold=0.0,\n",
    "                 nvisits=None, visit_time=30.0, sky='Dark'):\n",
    "        self.A = 319/9.6  # etendue / FoV. \n",
    "        self.pixel_scale = pixel_scale\n",
    "        self.stamp_size = stamp_size\n",
    "        self.threshold = threshold\n",
    "        self.band = band\n",
    "        if nvisits is None:\n",
    "            nvisits = fiducial_nvisits[band]\n",
    "        self.nvisits = nvisits\n",
    "        self.visit_time =  visit_time\n",
    "        self.exptime = self.nvisits * self.visit_time\n",
    "        self.sky = self.sbar(band, sky) * self.exptime * self.pixel_scale**2\n",
    "        self.sigma_sky = np.sqrt(self.sky)\n",
    "        self.s0 = self.s0(band)\n",
    "        self.bd = galsim.BaseDeviate(1)\n",
    "        \n",
    "    def s0(self, band):\n",
    "        # zeropoints from DK notes in photons per second per pixel\n",
    "        # should eventually compute these on the fly from filter throughput functions.\n",
    "        s0 = {'u': self.A*0.732,\n",
    "              'g': self.A*2.124,\n",
    "              'r': self.A*1.681,\n",
    "              'i': self.A*1.249,\n",
    "              'z': self.A*0.862,\n",
    "              'y': self.A*0.452}\n",
    "        return s0[band]\n",
    "\n",
    "    def sbar(self, band, sky):\n",
    "        if sky == 'Bright':\n",
    "            B = {'u': 17.7,\n",
    "                 'g': 19.4,\n",
    "                 'r': 19.7,\n",
    "                 'i': 19.4,\n",
    "                 'z': 18.2,\n",
    "                 'y': 17.7}\n",
    "        else:\n",
    "            B = {'u': 22.8,\n",
    "                 'g': 22.2,\n",
    "                 'r': 21.3,\n",
    "                 'i': 20.3,\n",
    "                 'z': 19.1,\n",
    "                 'y': 18.1}\n",
    "        return self.s0(band) * 10**(-0.4*(B[band]-24.0))\n",
    "        \n",
    "    def draw(self, profile, mag, noise=False):\n",
    "        img = galsim.ImageD(self.stamp_size, self.stamp_size, scale=self.pixel_scale)\n",
    "        flux = self.s0 * 10**(-0.4*(mag - 24.0)) * self.exptime\n",
    "        profile = profile.withFlux(flux)\n",
    "        profile.drawImage(image=img)\n",
    "        if noise:\n",
    "            gd = galsim.GaussianNoise(self.bd, sigma=self.sigma_sky)\n",
    "            img.addNoise(gd)\n",
    "        return img\n",
    "\n",
    "    def SNR(self, profile, mag):\n",
    "        img = self.draw(profile, mag, noise=False)\n",
    "        mask = img.array > (self.threshold * self.sigma_sky)\n",
    "        imgsqr = img.array**2*mask\n",
    "        signal = imgsqr.sum()\n",
    "        noise = np.sqrt((imgsqr * self.sky).sum())\n",
    "        return signal / noise\n",
    "\n",
    "    def nphot(self, mag):\n",
    "        return self.s0 * 10**(-0.4*(mag - 24.0)) * self.exptime\n",
    "\n",
    "    def err(self, profile, mag):\n",
    "        snr = self.SNR(profile, mag)\n",
    "        return 2.5 / np.log(10) / snr\n",
    "\n",
    "    def totalCounts(self, profile, mag, noise=True):\n",
    "        img = self.draw(profile, mag, noise)\n",
    "        return img.array.sum()\n"
   ]
  },
  {
   "cell_type": "markdown",
   "metadata": {},
   "source": [
    "### Make peak electron counts vs. mag plot"
   ]
  },
  {
   "cell_type": "code",
   "execution_count": null,
   "metadata": {},
   "outputs": [],
   "source": [
    "stamp_size = 11 # stamp size in pixels\n",
    "colors = ['blue', 'green', 'red', '0.75', '0.50', '0.25']\n",
    "d_plot = pd.DataFrame(index=filterlist, columns=['SatLimFromPlot'], dtype='float')\n",
    "fig, ax = plt.subplots()\n",
    "sky = 'Dark'\n",
    "for i,f in enumerate(filterlist):\n",
    "    mags = []\n",
    "    npeaks = []\n",
    "    etc = ETC(f, pixel_scale=pixel_scale, stamp_size=stamp_size, nvisits=nvisits, sky=sky, visit_time=dt)\n",
    "    for m in range(31):\n",
    "        mag = 1 + 0.2 * m\n",
    "        mags.append(mag)\n",
    "        # The sky below is for the full exposure time, while the object is just for dt.\n",
    "        npeak = etc.totalCounts(psf, mag) * ratio + etc.sky * exposure_time / dt\n",
    "        npeaks.append(npeak)\n",
    "        if mag==5.0:\n",
    "            print('for 5th mag, under %s sky, band %s, peak e per pixel = %.0f'%(sky,f,npeak))\n",
    "    plt.scatter(mags, npeaks, label=f, color=colors[i])\n",
    "    d_plot.SatLimFromPlot.loc[f] = mags[np.argmax(np.array(npeaks)<full_well)]\n",
    "plt.title(\"Peak Pixel Count, %.0f sec Exposure\"%exposure_time)\n",
    "plt.plot([0,7.0],[full_well, full_well], ls = '--', lw = 2, color='black')\n",
    "plt.text(4.5, full_well*1.20, \"Saturation = %d e-\"%full_well, color = 'black')\n",
    "plt.plot([0,7.0],[full_well2, full_well2], ls = '--', lw = 2, color='black')\n",
    "plt.text(4.5, full_well2*0.7, \"Saturation = %d e-\"%full_well2, color = 'black')\n",
    "plt.text(0.3, 0.24, \"Trail FWHM = %.2f arcsec\"%fwhm, color = 'black', transform=fig.transFigure)\n",
    "plt.text(0.3, 0.18, \"%s Sky\"%sky, color = 'black', transform=fig.transFigure)\n",
    "plt.legend()\n",
    "plt.yscale('log')\n",
    "plt.xlim(0,7.0)\n",
    "plt.ylim(1e3, 1.5e6)\n",
    "plt.xlabel('Satellite apparent magnitude', fontsize=12)\n",
    "plt.ylabel('Peak pixel count(electrons)', fontsize=12);"
   ]
  },
  {
   "cell_type": "markdown",
   "metadata": {},
   "source": [
    "### Now do the same thing for bright sky. "
   ]
  },
  {
   "cell_type": "code",
   "execution_count": null,
   "metadata": {},
   "outputs": [],
   "source": [
    "stamp_size = 11 # stamp size in pixels\n",
    "colors = ['blue', 'green', 'red', '0.75', '0.50', '0.25']\n",
    "d_plot = pd.DataFrame(index=filterlist, columns=['SatLimFromPlot'], dtype='float')\n",
    "fig, ax = plt.subplots()\n",
    "sky = 'Bright'\n",
    "for i,f in enumerate(filterlist):\n",
    "    mags = []\n",
    "    npeaks = []\n",
    "    etc = ETC(f, pixel_scale=pixel_scale, stamp_size=stamp_size, nvisits=nvisits, sky=sky, visit_time=dt)\n",
    "    for m in range(31):\n",
    "        mag = 1 + 0.2 * m\n",
    "        mags.append(mag)\n",
    "        # The sky below is for the full exposure time, while the object is just for dt.\n",
    "        npeak = etc.totalCounts(psf, mag) * ratio + etc.sky * exposure_time / dt\n",
    "        npeaks.append(npeak)\n",
    "        if mag==5.0:\n",
    "            print('for 5th mag, under %s sky, band %s, peak e per pixel = %.0f'%(sky,f,npeak))\n",
    "    plt.scatter(mags, npeaks, label=f, color=colors[i])\n",
    "    d_plot.SatLimFromPlot.loc[f] = mags[np.argmax(np.array(npeaks)<full_well)]\n",
    "plt.title(\"Peak Pixel Count, %.0f sec Exposure\"%exposure_time)\n",
    "plt.plot([0,7.0],[full_well, full_well], ls = '--', lw = 2, color='black')\n",
    "plt.text(4.5, full_well*1.20, \"Saturation = %d e-\"%full_well, color = 'black')\n",
    "plt.plot([0,7.0],[full_well2, full_well2], ls = '--', lw = 2, color='black')\n",
    "plt.text(4.5, full_well2*0.7, \"Saturation = %d e-\"%full_well2, color = 'black')\n",
    "plt.text(0.3, 0.24, \"Trail FWHM = %.2f arcsec\"%fwhm, color = 'black', transform=fig.transFigure)\n",
    "plt.text(0.3, 0.18, \"%s Sky\"%sky, color = 'black', transform=fig.transFigure)\n",
    "plt.legend()\n",
    "plt.yscale('log')\n",
    "plt.xlim(0,7.0)\n",
    "plt.ylim(1e3, 1.5e6)\n",
    "plt.xlabel('Satellite apparent magnitude', fontsize=12)\n",
    "plt.ylabel('Peak pixel count(electrons)', fontsize=12);"
   ]
  },
  {
   "cell_type": "code",
   "execution_count": null,
   "metadata": {},
   "outputs": [],
   "source": []
  }
 ],
 "metadata": {
  "kernelspec": {
   "display_name": "Python 3",
   "language": "python",
   "name": "python3"
  },
  "language_info": {
   "codemirror_mode": {
    "name": "ipython",
    "version": 3
   },
   "file_extension": ".py",
   "mimetype": "text/x-python",
   "name": "python",
   "nbconvert_exporter": "python",
   "pygments_lexer": "ipython3",
   "version": "3.7.4"
  }
 },
 "nbformat": 4,
 "nbformat_minor": 4
}
