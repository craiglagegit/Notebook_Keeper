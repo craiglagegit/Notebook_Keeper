{
 "cells": [
  {
   "cell_type": "code",
   "execution_count": null,
   "metadata": {},
   "outputs": [],
   "source": [
    "from pylab import *\n",
    "\n",
    "imaxs = [0, 14657,29041,42893,56334,68813,81256,92517]\n",
    "sigmaxs = [0.9997, 1.0109, 1.0230, 1.0371, 1.0594, 1.067, 1.082, 1.099]\n",
    "sigmays = [0.9995, 1.0055, 1.0382, 1.0477, 1.0793, 1.094, 1.139, 1.154]"
   ]
  },
  {
   "cell_type": "code",
   "execution_count": null,
   "metadata": {},
   "outputs": [],
   "source": [
    "from scipy import stats\n",
    "scatter(imaxs, sigmaxs, color = 'blue', lw = 2, label = 'Sigma-x')\n",
    "scatter(imaxs, sigmays, color = 'green', lw = 2, label = 'Sigma-y')\n",
    "\n",
    "slope, intercept, r_value, p_value, std_err = stats.linregress(imaxs[0:3],sigmaxs[0:3])\n",
    "\n",
    "xplot=linspace(0.0,100000.0,100)\n",
    "yplot = slope * xplot + intercept\n",
    "plot(xplot, yplot, color='red', lw = 2, ls = '--')\n",
    "tslope = slope/intercept * 100.0 * 50000.0\n",
    "text(5000.0,1.1,\"Slope = %.1f percent per 50,000 e-\"%tslope)\n",
    "\n",
    "xlabel('Central Peak(electrons)')\n",
    "ylabel('Sigma (Pixels)')\n",
    "legend(loc= 'lower right')\n",
    "ylim(0.90, 1.20)\n",
    "xlim(0.0,100000.0)\n",
    "show()\n"
   ]
  },
  {
   "cell_type": "code",
   "execution_count": null,
   "metadata": {},
   "outputs": [],
   "source": [
    "test = array(imaxs)\n",
    "test.max()"
   ]
  },
  {
   "cell_type": "code",
   "execution_count": null,
   "metadata": {},
   "outputs": [],
   "source": []
  }
 ],
 "metadata": {
  "kernelspec": {
   "display_name": "Python 2",
   "language": "python",
   "name": "python2"
  },
  "language_info": {
   "codemirror_mode": {
    "name": "ipython",
    "version": 2
   },
   "file_extension": ".py",
   "mimetype": "text/x-python",
   "name": "python",
   "nbconvert_exporter": "python",
   "pygments_lexer": "ipython2",
   "version": "2.7.10"
  }
 },
 "nbformat": 4,
 "nbformat_minor": 0
}
