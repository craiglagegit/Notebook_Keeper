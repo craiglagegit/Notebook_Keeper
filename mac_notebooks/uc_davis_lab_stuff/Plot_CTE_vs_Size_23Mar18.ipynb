{
 "cells": [
  {
   "cell_type": "code",
   "execution_count": null,
   "metadata": {},
   "outputs": [],
   "source": [
    "# %load bias_stability.py\n",
    "#!/usr/bin/python\n",
    "\n",
    "#Plotting Serial CTE vs spot size for ITL CCD 029\n",
    "import matplotlib\n",
    "matplotlib.use(\"PDF\")\n",
    "from pylab import *\n",
    "import sys, glob, time\n",
    "from scipy import stats\n",
    "\n",
    "thedir='/Users/cslage/Research/LSST/code/GUI/cte/'\n",
    "%cd $thedir\n"
   ]
  },
  {
   "cell_type": "code",
   "execution_count": null,
   "metadata": {},
   "outputs": [],
   "source": [
    "segs = ['SEGMENT05', 'SEGMENT06', 'SEGMENT15', 'SEGMENT16']\n",
    "ctes = [1.45E-4, 1.43E-4, 6.26E-6, 9.16E-6]\n",
    "sizes_0404 = [(1.0456,1.0643),(1.0794,1.0847),(1.0326,1.0550),(1.0657,1.0689)]\n",
    "sizes_0313 = [(1.0519,1.0557),(1.1133,1.0797),(1.0342,1.0473),(1.0868,1.0665)]\n",
    "\n",
    "figure()\n",
    "subplots_adjust(wspace=1.0)\n",
    "subplot(1,2,1,aspect=1)\n",
    "title(\"Impact of Serial CTE on Spot Shape\",fontsize = 10)\n",
    "xlim(1.0,1.2)\n",
    "ylim(1.0,1.2)\n",
    "for i in [0,1]:\n",
    "    scatter(sizes_0404[i][0], sizes_0404[i][1], color='red')\n",
    "    scatter(sizes_0313[i][0], sizes_0313[i][1], color='red')\n",
    "for i in [2,3]:\n",
    "    scatter(sizes_0404[i][0], sizes_0404[i][1], color='green')\n",
    "    scatter(sizes_0313[i][0], sizes_0313[i][1], color='green')\n",
    "scatter(sizes_0404[0][0], sizes_0404[0][1], label = 'High CTE',color='red')\n",
    "scatter(sizes_0313[2][0], sizes_0313[2][1], label = 'Low CTE',color='green')\n",
    "plot([1.0,1.2],[1.0,1.2], color='black', ls='--')\n",
    "xlabel(\"SigmaX (Pixels)\")\n",
    "ylabel(\"SigmaY (Pixels)\")\n",
    "legend(loc='upper left')\n",
    "\n",
    "subplot(1,2,2,aspect=1)\n",
    "title(\"Impact of Serial CTE on Shape Delta\",fontsize = 10)\n",
    "xlim(0, .04)\n",
    "ylim(0, .04)\n",
    "xticks([0.0,0.02,0.04])\n",
    "yticks([0.0,0.02,0.04])\n",
    "for i in [0,1]:\n",
    "    scatter(sizes_0404[i][0]-sizes_0404[i+2][0], sizes_0404[i][1]-sizes_0404[i+2][1], color='blue')\n",
    "    scatter(sizes_0313[i][0]-sizes_0313[i+2][0],sizes_0313[i][1]-sizes_0313[i+2][1], color='blue')\n",
    "xlabel(\"X(High) - X(Low) (Pixels)\")\n",
    "ylabel(\"Y(High) - Y(Low) (Pixels)\")\n",
    "plot([0.0,0.04],[0.0,0.04], color='black', ls='--')\n",
    "#legend(loc='upper left')\n",
    "\n",
    "\n",
    "#show()\n",
    "savefig(thedir+\"Spot_Intercepts_23Mar18.pdf\")\n",
    "#close(\"All\")\n"
   ]
  },
  {
   "cell_type": "code",
   "execution_count": null,
   "metadata": {},
   "outputs": [],
   "source": []
  }
 ],
 "metadata": {
  "kernelspec": {
   "display_name": "Python 2",
   "language": "python",
   "name": "python2"
  },
  "language_info": {
   "codemirror_mode": {
    "name": "ipython",
    "version": 2
   },
   "file_extension": ".py",
   "mimetype": "text/x-python",
   "name": "python",
   "nbconvert_exporter": "python",
   "pygments_lexer": "ipython2",
   "version": "2.7.11"
  }
 },
 "nbformat": 4,
 "nbformat_minor": 0
}
