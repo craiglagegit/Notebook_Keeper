{
 "cells": [
  {
   "cell_type": "code",
   "execution_count": null,
   "metadata": {},
   "outputs": [],
   "source": [
    "from pylab import *\n",
    "from scipy.special import erf\n",
    "# Question at what magnitude will an LSST star reach the 2 M e- saturation level of the CCD?\n",
    "Saturation_Level = 2.0E6\n",
    "Exposure_Time = 30 # Exposure time in seconds\n",
    "LSST_Aperture = 6.5 # Effective aperture in m\n",
    "Jansky = 1.51e7 * 0.16 # Jansky in Photons / sec / m^2\n",
    "\n",
    "def mAB(f):\n",
    "    # This defines AB magnitude\n",
    "    return -2.5 * log10(f/3631.0)\n",
    "\n",
    "f1 = (Saturation_Level / Exposure_Time / (pi * (LSST_Aperture / 2.0) **2))\n",
    "fJ = f1 / Jansky\n",
    "print \"Flux = %.3g photons/sec/m^2 = %.3g Janskys, mAB = %.2f\"%(f1,fJ, mAB(fJ))"
   ]
  },
  {
   "cell_type": "code",
   "execution_count": null,
   "metadata": {},
   "outputs": [],
   "source": [
    "# Check - 24th magnitude V band star has about 2.4 photons/sec/m^2\n",
    "M_check = 24 - 2.5 * log10(f1/2.4)\n",
    "print \"Mcheck = %.2f\"%M_check"
   ]
  },
  {
   "cell_type": "code",
   "execution_count": null,
   "metadata": {},
   "outputs": [],
   "source": [
    "# How bright does the star have to be to saturate across the whole segment?\n",
    "# Assume 200,000 photons/pixel, 5 pixels wide, 4000 pixels tall\n",
    "Saturation_Level = 2.0E5 * 5 * 4000\n",
    "Exposure_Time = 30 # Exposure time in seconds\n",
    "LSST_Aperture = 6.5 # Effective aperture in m\n",
    "Jansky = 1.51e7 * 0.16 # Jansky in Photons / sec / m^2\n",
    "f1 = (Saturation_Level / Exposure_Time / (pi * (LSST_Aperture / 2.0) **2))\n",
    "fJ = f1 / Jansky\n",
    "print \"Flux = %.3g photons/sec/m^2 = %.3g Janskys, mAB = %.2f\"%(f1,fJ, mAB(fJ))\n"
   ]
  },
  {
   "cell_type": "code",
   "execution_count": null,
   "metadata": {},
   "outputs": [],
   "source": [
    "# There should be between 1000 - 10,000 of these stars per LSST field, depending \n",
    "# on how near we are to the galactic plane."
   ]
  },
  {
   "cell_type": "code",
   "execution_count": null,
   "metadata": {},
   "outputs": [],
   "source": [
    "def Area(xl, xh, yl, yh, sigmax, sigmay, Imax):\n",
    "    # Calculates how much of a 2D Gaussian falls within a rectangular box\n",
    "    ssigx = sqrt(2) * sigmax\n",
    "    ssigy = sqrt(2) * sigmay    \n",
    "    I = (erf(xh/ssigx)-erf(xl/ssigx))*(erf(yh/ssigy)-erf(yl/ssigy))\n",
    "    return Imax * I / 4.0"
   ]
  },
  {
   "cell_type": "code",
   "execution_count": null,
   "metadata": {},
   "outputs": [],
   "source": [
    "QE = 0.90 # Guess\n",
    "for electrons in [100, 1000,1512,1870,10000,20000,40000,60000,80000,100000]:\n",
    "    area_correction = Area(-0.5,0.5,-0.5,0.5,1.5,1.5,1.0)\n",
    "    total_electrons = electrons / area_correction\n",
    "    flux = (total_electrons/QE / Exposure_Time / (pi * (LSST_Aperture / 2.0) **2)) / Jansky\n",
    "    mag = mAB(flux) - 0.21\n",
    "    print \"For %d electrons, %.0f total_electrons, Area Correction = %.3f,mR = %.1f\"%(electrons, total_electrons,area_correction,mag)"
   ]
  },
  {
   "cell_type": "code",
   "execution_count": null,
   "metadata": {},
   "outputs": [],
   "source": [
    "# The LSST exposure calculator, for an AB mag star of 20.6, gives central peak of 1512 e-, and total signal of 16808 e-\n",
    "# Very good agreement"
   ]
  },
  {
   "cell_type": "code",
   "execution_count": null,
   "metadata": {},
   "outputs": [],
   "source": [
    "for electrons in [1E4,1E5,1E6,1E7,1E8,1E9,3E9,3.4E5]:\n",
    "    area_correction = Area(-0.5,0.5,-0.5,0.5,1.5,1.5,1.0)\n",
    "    total_electrons = electrons / area_correction\n",
    "    flux = (total_electrons/QE / Exposure_Time / (pi * (LSST_Aperture / 2.0) **2)) / Jansky\n",
    "    mag = mAB(flux) - 0.21\n",
    "    print \"For %d electrons, %.1g total_electrons, Area Correction = %.3f,mR = %.1f\"%(electrons, total_electrons,area_correction,mag)"
   ]
  },
  {
   "cell_type": "code",
   "execution_count": null,
   "metadata": {},
   "outputs": [],
   "source": [
    "print 3E9/(11*3600*5)"
   ]
  },
  {
   "cell_type": "code",
   "execution_count": null,
   "metadata": {},
   "outputs": [],
   "source": [
    "print 100000*10**((16-5)*0.4)/(11*3600*5)"
   ]
  },
  {
   "cell_type": "code",
   "execution_count": null,
   "metadata": {},
   "outputs": [],
   "source": [
    "18000*.8 * 5"
   ]
  },
  {
   "cell_type": "code",
   "execution_count": null,
   "metadata": {},
   "outputs": [],
   "source": [
    "1.5E9/72000"
   ]
  },
  {
   "cell_type": "code",
   "execution_count": null,
   "metadata": {},
   "outputs": [],
   "source": []
  }
 ],
 "metadata": {
  "kernelspec": {
   "display_name": "Python 2",
   "language": "python",
   "name": "python2"
  },
  "language_info": {
   "codemirror_mode": {
    "name": "ipython",
    "version": 2
   },
   "file_extension": ".py",
   "mimetype": "text/x-python",
   "name": "python",
   "nbconvert_exporter": "python",
   "pygments_lexer": "ipython2",
   "version": "2.7.11"
  }
 },
 "nbformat": 4,
 "nbformat_minor": 1
}
