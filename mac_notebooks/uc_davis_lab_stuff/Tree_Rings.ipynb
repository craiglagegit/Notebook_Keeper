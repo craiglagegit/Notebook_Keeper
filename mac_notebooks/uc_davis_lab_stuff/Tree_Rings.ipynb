{
 "cells": [
  {
   "cell_type": "code",
   "execution_count": null,
   "metadata": {},
   "outputs": [],
   "source": [
    "from pylab import *"
   ]
  },
  {
   "cell_type": "code",
   "execution_count": null,
   "metadata": {},
   "outputs": [],
   "source": [
    "x = linspace(0,250,100)\n",
    "y = linspace(0,250,100)\n",
    "z = zeros([100,100])\n",
    "dyy, dxx = meshgrid(y,x)\n",
    "theta = 38.0 * pi / 180.0\n",
    "period= 46.0\n",
    "amp = 0.10\n",
    "levels = linspace(0.80, 1.20, 100)\n",
    "for i in range(100):\n",
    "    for j in range(100):\n",
    "        xprime = x[i] * cos(theta) + y[j] * sin(theta)\n",
    "        z[i,j] = (1.0+amp) + amp * cos(xprime / period)\n",
    "    \n",
    "figure()\n",
    "subplot(1,1,1,aspect=1.0)\n",
    "contourf(dxx, dyy, z, levels = levels)\n",
    "colorbar()\n",
    "show() "
   ]
  },
  {
   "cell_type": "code",
   "execution_count": null,
   "metadata": {},
   "outputs": [],
   "source": []
  }
 ],
 "metadata": {
  "kernelspec": {
   "display_name": "Python 2",
   "language": "python",
   "name": "python2"
  },
  "language_info": {
   "codemirror_mode": {
    "name": "ipython",
    "version": 2
   },
   "file_extension": ".py",
   "mimetype": "text/x-python",
   "name": "python",
   "nbconvert_exporter": "python",
   "pygments_lexer": "ipython2",
   "version": "2.7.11"
  }
 },
 "nbformat": 4,
 "nbformat_minor": 1
}
