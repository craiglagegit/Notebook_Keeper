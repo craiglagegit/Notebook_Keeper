{
 "cells": [
  {
   "cell_type": "code",
   "execution_count": null,
   "metadata": {},
   "outputs": [],
   "source": [
    "import matplotlib\n",
    "matplotlib.use(\"Agg\")\n",
    "import matplotlib.pyplot as plt\n",
    "import numpy as np\n",
    "import astropy.io.fits as pf\n",
    "import sys, glob\n",
    "\n",
    "thedir='/Users/cslage/Research/LSST/code/auxtel/ats_data/20190808/'\n",
    "%cd $thedir\n"
   ]
  },
  {
   "cell_type": "code",
   "execution_count": null,
   "metadata": {},
   "outputs": [],
   "source": [
    "files = glob.glob('AT_O_20190808_000???.fits')\n",
    "name = files[0][18:20]\n",
    "print(files)\n",
    "print(name)\n"
   ]
  },
  {
   "cell_type": "code",
   "execution_count": null,
   "metadata": {},
   "outputs": [],
   "source": [
    "xstart = 505\n",
    "xstop = 542\n",
    "ov_start = 512\n",
    "ystart = 200\n",
    "ystop = 1800\n",
    "xaxis = np.linspace(xstart,xstop-1,xstop-xstart)\n",
    "\n",
    "hdulist = pf.open(files[0], mode='readonly', do_not_scale_image_data=True)\n",
    "hdr18=hdulist[18].header\n",
    "Vph = hdr18['PCK_HIP']\n",
    "Vpl = hdr18['PCK_LOWP']\n",
    "Vsh = hdr18['SCK_HIP']\n",
    "Vsl = hdr18['SCK_LOWP']\n",
    "Vog = hdr18['OGOV']\n",
    "Vbb = hdr18['HVBIAS_V']\n",
    "\n",
    "for file in [files[0]]:\n",
    "    print(file)\n",
    "    name = file[18:20]\n",
    "    hdulist = pf.open(file, mode='readonly', do_not_scale_image_data=True)\n",
    "    plt.figure(figsize=(15,15))\n",
    "    plt.subplots_adjust(hspace = 0.5, wspace = 0.5)\n",
    "    plt.suptitle(\"Serial CTE by segment - ITL AuxTel New CCD\\n Vph=%.2f; Vpl=%.2f; Vsh=%.2f; Vsl=%.2f; Vog=%.2f; Vbb=%.2f\"%(Vph,Vpl,Vsh,Vsl,Vog,Vbb), fontsize = 16)\n",
    "    for segment in range(16):\n",
    "            #try:\n",
    "            plt.subplot(4,4,segment+1)\n",
    "            imhdr=hdulist[segment+1].header\n",
    "            extname = imhdr['EXTNAME']\n",
    "            plt.title(\"CTE - %s\"%extname)\n",
    "            data = np.array(hdulist[segment+1].data + 32768, dtype = np.int32)\n",
    "            flat_overscan = np.mean(np.array(data[:,xstop-8:xstop]),axis = 1)\n",
    "            cte_data = ((np.transpose(np.transpose(data) - flat_overscan))[ystart:ystop,:].mean(axis=0))[xstart:xstop]\n",
    "            cte_std = ((np.transpose(np.transpose(data) - flat_overscan))[ystart:ystop,:].std(axis=0) / np.sqrt(float(ystop-ystart)))[xstart:xstop]\n",
    "            cti = np.median((np.transpose(np.transpose(data) - flat_overscan))[ystart:ystop,ov_start]\\\n",
    "            / (np.transpose(np.transpose(data) - flat_overscan))[ystart:ystop,ov_start-1]) / ov_start\n",
    "\n",
    "            plt.scatter(xaxis, cte_data, color = 'blue')\n",
    "            plt.errorbar(xaxis, cte_data, yerr=cte_std)\n",
    "            plt.text(xstart + 8, 20000, \"CTI = %.2E\"%cti, fontsize = 12)\n",
    "            plt.yscale('log',nonposy='clip')\n",
    "            plt.ylim(.01, 200000)\n",
    "            plt.xticks([510,520,530,540])\n",
    "            plt.xlabel(\"X (First overscan = 512)\")\n",
    "            plt.ylabel(\"Signal(ADU)\")\n",
    "            print(\"Segment %s done\"%extname)\n",
    "            #except:\n",
    "            #continue\n",
    "    plt.savefig(thedir+\"Serial_CTE_%s_08Aug19.pdf\"%name)\n",
    "    plt.clf()\n"
   ]
  },
  {
   "cell_type": "code",
   "execution_count": null,
   "metadata": {},
   "outputs": [],
   "source": []
  }
 ],
 "metadata": {
  "kernelspec": {
   "display_name": "Python 3 (ipykernel)",
   "language": "python",
   "name": "python3"
  },
  "language_info": {
   "codemirror_mode": {
    "name": "ipython",
    "version": 3
   },
   "file_extension": ".py",
   "mimetype": "text/x-python",
   "name": "python",
   "nbconvert_exporter": "python",
   "pygments_lexer": "ipython3",
   "version": "3.9.5"
  }
 },
 "nbformat": 4,
 "nbformat_minor": 1
}
