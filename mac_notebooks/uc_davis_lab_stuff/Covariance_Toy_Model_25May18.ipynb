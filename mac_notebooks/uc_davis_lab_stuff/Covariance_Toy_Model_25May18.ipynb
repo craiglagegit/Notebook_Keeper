{
 "cells": [
  {
   "cell_type": "code",
   "execution_count": null,
   "metadata": {},
   "outputs": [],
   "source": [
    "#import matplotlib\n",
    "#matplotlib.use(\"PDF\")\n",
    "from pylab import *\n",
    "import sys, time\n"
   ]
  },
  {
   "cell_type": "code",
   "execution_count": null,
   "metadata": {},
   "outputs": [],
   "source": [
    "import numpy as np\n",
    "electrons_per_pixel = 10000\n",
    "NumTrials = 1000\n",
    "Nx = 1000\n",
    "Ny = 1000\n",
    "pixels = np.random.poisson(lam = electrons_per_pixel, size=(Nx,Ny,NumTrials))\n",
    "print(pixels.shape)\n",
    "        "
   ]
  },
  {
   "cell_type": "code",
   "execution_count": null,
   "metadata": {},
   "outputs": [],
   "source": [
    "covsteps = 6\n",
    "cov = zeros([covsteps, covsteps, NumTrials/2])\n",
    "for trial in range(0, NumTrials, 2):\n",
    "    fdiff = pixels[:,:,trial] - pixels[:,:,trial+1]\n",
    "    (nrows,ncols)=fdiff.shape\n",
    "\n",
    "    for k in range(0,covsteps):\n",
    "        for l in range(0,covsteps):\n",
    "            npixused1=0\n",
    "            data1=fdiff[l:nrows  ,   k:ncols]\n",
    "            data2=fdiff[0:nrows-l  , 0:ncols-k]\n",
    "            npixused1=data1.size\n",
    "            sum11=data1.sum()\n",
    "            sum21=data2.sum()\n",
    "            sum121=(data1*data2).sum()\n",
    "            corr = (sum121 - sum11*sum21/float(npixused1))/float(npixused1)\n",
    "            cov[k,l,trial/2] = corr\n",
    "            #print(\"For trial %d, NumDataPoints = %d, ii = %d, jj = %d,Cij = %f\"%(trial, npixused1, l, k, corr))\n"
   ]
  },
  {
   "cell_type": "code",
   "execution_count": null,
   "metadata": {},
   "outputs": [],
   "source": [
    "print(cov[0,0,:].mean(),cov[0,0,:].std())\n",
    "print(cov[1:-1,1:-1,:].mean(),cov[1:-1,1:-1,:].std())"
   ]
  },
  {
   "cell_type": "code",
   "execution_count": null,
   "metadata": {},
   "outputs": [],
   "source": [
    "figure(figsize=(16,8))\n",
    "subplot(1,2,1)\n",
    "hist(cov[0,0,:])\n",
    "subplot(1,2,2)\n",
    "hist(cov[1:-1,1:-1,:].flatten())\n",
    "show()"
   ]
  },
  {
   "cell_type": "markdown",
   "metadata": {},
   "source": [
    "So the mean of the variance is $Var = 2 * \\mu_{Poisson}$.  The mean of the covariance is zero."
   ]
  },
  {
   "cell_type": "code",
   "execution_count": null,
   "metadata": {},
   "outputs": [],
   "source": [
    "# Now repeat it all with a Gaussian noise of 10.0 added"
   ]
  },
  {
   "cell_type": "code",
   "execution_count": null,
   "metadata": {},
   "outputs": [],
   "source": [
    "import numpy as np\n",
    "electrons_per_pixel = 10000\n",
    "NumTrials = 1000\n",
    "Nx = 1000\n",
    "Ny = 1000\n",
    "NoiseMean = 0.0\n",
    "NoiseSigma = 10.0\n",
    "pixels = np.random.poisson(lam = electrons_per_pixel, size=(Nx,Ny,NumTrials)) + np.random.normal(loc=NoiseMean,scale=NoiseSigma,size=(Nx,Ny,NumTrials))\n",
    "print(pixels.shape)\n",
    "        "
   ]
  },
  {
   "cell_type": "code",
   "execution_count": null,
   "metadata": {},
   "outputs": [],
   "source": [
    "covsteps = 6\n",
    "cov = zeros([covsteps, covsteps, NumTrials/2])\n",
    "for trial in range(0, NumTrials, 2):\n",
    "    fdiff = pixels[:,:,trial] - pixels[:,:,trial+1]\n",
    "    (nrows,ncols)=fdiff.shape\n",
    "\n",
    "    for k in range(0,covsteps):\n",
    "        for l in range(0,covsteps):\n",
    "            npixused1=0\n",
    "            data1=fdiff[l:nrows  ,   k:ncols]\n",
    "            data2=fdiff[0:nrows-l  , 0:ncols-k]\n",
    "            npixused1=data1.size\n",
    "            sum11=data1.sum()\n",
    "            sum21=data2.sum()\n",
    "            sum121=(data1*data2).sum()\n",
    "            corr = (sum121 - sum11*sum21/float(npixused1))/float(npixused1)\n",
    "            cov[k,l,trial/2] = corr\n",
    "            #print(\"For trial %d, NumDataPoints = %d, ii = %d, jj = %d,Cij = %f\"%(trial, npixused1, l, k, corr))\n"
   ]
  },
  {
   "cell_type": "code",
   "execution_count": null,
   "metadata": {},
   "outputs": [],
   "source": [
    "print(cov[0,0,:].mean(),cov[0,0,:].std())\n",
    "print(cov[1:-1,1:-1,:].mean(),cov[1:-1,1:-1,:].std())"
   ]
  },
  {
   "cell_type": "code",
   "execution_count": null,
   "metadata": {},
   "outputs": [],
   "source": [
    "figure(figsize=(16,8))\n",
    "subplot(1,2,1)\n",
    "hist(cov[0,0,:])\n",
    "subplot(1,2,2)\n",
    "hist(cov[1:-1,1:-1,:].flatten())\n",
    "show()"
   ]
  },
  {
   "cell_type": "markdown",
   "metadata": {},
   "source": [
    "So this is pretty much as expected.  The variance is $Var = 2 * \\mu_{Poisson} + 2 * \\sigma_{Noise}^2$.  The covariance is not impacted by the noise."
   ]
  },
  {
   "cell_type": "code",
   "execution_count": null,
   "metadata": {},
   "outputs": [],
   "source": []
  }
 ],
 "metadata": {
  "kernelspec": {
   "display_name": "Python 2",
   "language": "python",
   "name": "python2"
  },
  "language_info": {
   "codemirror_mode": {
    "name": "ipython",
    "version": 2
   },
   "file_extension": ".py",
   "mimetype": "text/x-python",
   "name": "python",
   "nbconvert_exporter": "python",
   "pygments_lexer": "ipython2",
   "version": "2.7.11"
  }
 },
 "nbformat": 4,
 "nbformat_minor": 0
}
