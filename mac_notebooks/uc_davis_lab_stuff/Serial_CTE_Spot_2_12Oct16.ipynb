{
 "cells": [
  {
   "cell_type": "code",
   "execution_count": null,
   "metadata": {},
   "outputs": [],
   "source": [
    "%cd ~\n",
    "import matplotlib\n",
    "matplotlib.use(\"Agg\")\n",
    "import pyfits,glob,time,scipy\n",
    "import scipy.interpolate\n",
    "from scipy.special import erf\n",
    "from pylab import *\n",
    "from subprocess import call\n",
    "from IPython import parallel\n",
    "from scipy.optimize import fmin_powell\n",
    "\n",
    "topdir='/sandbox/lsst/lsst/GUI/'\n",
    "thedir=topdir+'notebooks/'\n",
    "datadir=topdir+'20161012-cte/'\n",
    "%cd $thedir\n",
    "\n",
    "configfile=topdir+'sextractor/default-array_dither.sex'\n",
    "paramfile=topdir+'sextractor/default-array_dither.param'\n",
    "maskdir=topdir+'sextractor/masks/'\n"
   ]
  },
  {
   "cell_type": "code",
   "execution_count": null,
   "metadata": {},
   "outputs": [],
   "source": [
    "def remove_overscan_xy(image,x_overscan_start,x_overscan_end,y_overscan_start,y_overscan_end):\n",
    "    overscan=image[:y_overscan_start,x_overscan_start+1:x_overscan_end]\n",
    "    image=image[:y_overscan_start,:x_overscan_start]\n",
    "    finalimg=image-matrix(median(overscan,axis=1)).T*np.ones(shape(image)[1])\n",
    "    return array(finalimg)\n",
    "\n",
    "def make_reg_from_ldac(cat_ldac_file,text_tag):\n",
    "    thecat=pyfits.getdata(cat_ldac_file,'LDAC_OBJECTS')\n",
    "    f = open(cat_ldac_file+'.reg','w')\n",
    "    for i in range(len(thecat)):\n",
    "        xcoo,ycoo=thecat['XWIN_IMAGE'][i],thecat['YWIN_IMAGE'][i]\n",
    "        r=thecat['A_IMAGE'][i]\n",
    "        thetext=thecat[text_tag][i]\n",
    "        f.write('circle '+str(xcoo)+' '+str(ycoo)+' '+str(r)+'#text=\"'+str(thetext)+'\"\\n')\n",
    "    f.close()\n",
    "    \n",
    "def Area(xl, xh, yl, yh, sigmax, sigmay, Imax):\n",
    "    # Calculates how much of a 2D Gaussian falls within a rectangular box\n",
    "    ssigx = sqrt(2) * sigmax\n",
    "    ssigy = sqrt(2) * sigmay    \n",
    "    I = (erf(xh/ssigx)-erf(xl/ssigx))*(erf(yh/ssigy)-erf(yl/ssigy))\n",
    "    return Imax * I / 4.0"
   ]
  },
  {
   "cell_type": "code",
   "execution_count": null,
   "metadata": {},
   "outputs": [],
   "source": [
    "# This definition runs sextractor in parallel and can be given to IPython's parallel map function along with\n",
    "#   the file list\n",
    "def ovsub_runsex_makereg(fitsfilename):\n",
    "    import pyfits\n",
    "    import numpy as np\n",
    "    from subprocess import call\n",
    "    topdir='/Users/cslage/Research/LSST/code/GUI/'\n",
    "    thedir=topdir+'profiles'\n",
    "    %cd $thedir\n",
    "\n",
    "    configfile=topdir+'sextractor/default-array_dither.sex'\n",
    "    paramfile=topdir+'sextractor/default-array_dither.param'\n",
    "    maskdir=topdir+'sextractor/masks/'\n",
    "\n",
    "    def remove_overscan_xy(image,x_overscan_start,x_overscan_end,y_overscan_start,y_overscan_end):\n",
    "        overscan=image[:y_overscan_start,x_overscan_start+1:x_overscan_end]\n",
    "        image=image[:y_overscan_start,:x_overscan_start]\n",
    "        finalimg=image-np.matrix(np.median(overscan,axis=1)).T*np.ones(np.shape(image)[1])\n",
    "        return finalimg\n",
    "\n",
    "    def make_reg_from_ldac(cat_ldac_file,text_tag):\n",
    "        thecat=pyfits.getdata(cat_ldac_file,'LDAC_OBJECTS')\n",
    "        f = open(cat_ldac_file+'.reg','w')\n",
    "        for i in range(len(thecat)):\n",
    "            xcoo,ycoo=thecat['XWIN_IMAGE'][i],thecat['YWIN_IMAGE'][i]\n",
    "            r=thecat['A_IMAGE'][i]\n",
    "            thetext=thecat[text_tag][i]\n",
    "            f.write('circle '+str(xcoo)+' '+str(ycoo)+' '+str(r)+'#text=\"'+str(thetext)+'\"\\n')\n",
    "        f.close()\n",
    "    for i in range(1,17):\n",
    "        extname=pyfits.getheader(fitsfilename,i)['EXTNAME']\n",
    "        img=pyfits.getdata(fitsfilename,extname)\n",
    "        overscansubimg=remove_overscan_xy(img,509,542,2000,2022)   # cut off the overscan\n",
    "        outname=fitsfilename[:-5]+extname+'.fits'\n",
    "        pyfits.writeto(outname,overscansubimg,clobber=True)\n",
    "        test=call([\"sex\",outname,\"-c\",configfile,\"-CATALOG_NAME\",outname+'.cat'])\n",
    "        make_reg_from_ldac(outname+'.cat','NUMBER')"
   ]
  },
  {
   "cell_type": "code",
   "execution_count": null,
   "metadata": {},
   "outputs": [],
   "source": [
    "zfilelist=sort(glob.glob(datadir+'ITL-3800C-029_spot-30um_light_130_20161012??????_bias.fits'))\n",
    "print len(zfilelist)\n",
    "zfilelist"
   ]
  },
  {
   "cell_type": "code",
   "execution_count": null,
   "metadata": {},
   "outputs": [],
   "source": [
    "for fitsfilename in zfilelist: \n",
    "    tfile1=time.time() \n",
    "    for i in [4]:\n",
    "        tstart=time.time() \n",
    "        extname=pyfits.getheader(fitsfilename,i)['EXTNAME'] \n",
    "        img=pyfits.getdata(fitsfilename,extname) \n",
    "        overscansubimg=remove_overscan_xy(img,509,542,2000,2022) \n",
    "        # cut off the overscan \n",
    "        outname=fitsfilename[:-5]+extname+'.fits' \n",
    "        pyfits.writeto(outname,overscansubimg,clobber=True) \n",
    "        test=call([\"sex\",outname,\"-c\",configfile,\"-CATALOG_NAME\",outname+'.cat']) \n",
    "        make_reg_from_ldac(outname+'.cat','NUMBER') \n",
    "        tend=time.time() \n",
    "        print extname+\" time: \"+str(tend-tstart)[:4] \n",
    "        print \"Time taken for file \"+str(fitsfilename[-26:-23])+\": \"+str(time.time()-tfile1)"
   ]
  },
  {
   "cell_type": "markdown",
   "metadata": {
    "collapsed": false
   },
   "source": [
    "#### Using the sextractor catalogs produced above to make a map of the sextractor measurement named below"
   ]
  },
  {
   "cell_type": "code",
   "execution_count": null,
   "metadata": {},
   "outputs": [],
   "source": [
    "# [seg, xstart, xpeak, ystart, ystop]\n",
    "regions = [[3,130,148.311,1820,1821]]\n",
    "figure()\n",
    "subplots_adjust(hspace = 0.5, wspace = 0.5)\n",
    "suptitle(\"CTI - Spot\", fontsize = 18)\n",
    "plotcounter = 1\n",
    "for file in zfilelist:\n",
    "    hdulist = pyfits.open(file, mode='readonly', do_not_scale_image_data=True)\n",
    "    for [segment,xstart,xpeak,ystart,ystop] in regions:\n",
    "        xstop = xstart+40\n",
    "        xaxis = linspace(xstart,xstop-1,40)\n",
    "        subplot(1,1,plotcounter)\n",
    "        plotcounter += 1\n",
    "        imhdr=hdulist[segment+1].header\n",
    "        extname = imhdr['EXTNAME']\n",
    "        title(\"%s, x = %d, y = %d\"%(extname,int(xpeak),(int((ystart+ystop)/2))), fontsize = 10)\n",
    "        data = array(hdulist[segment+1].data + 32768, dtype = int32)\n",
    "        cte_data = data[ystart:ystop,:].mean(axis=0)[xstart:xstop]\n",
    "        #cte_std = (data[ystart:ystop,:].std(axis=0) / sqrt(float(ystop-ystart)))[xstart:xstop]\n",
    "        #ratio = data[ystart:ystop,xpeak+1].mean() / data[ystart:ystop,xpeak].mean()\n",
    "        #cti = ratio / xpeak\n",
    "        scatter(xaxis, cte_data, color = 'blue')\n",
    "        #plot([xpeak,xpeak],[1.0,100000],ls = '--')\n",
    "        #errorbar(xaxis, cte_data, yerr=cte_std)\n",
    "        #text(xstart-2, 20000, \"Ratio = %.3E\"%ratio,fontsize=6)\n",
    "        #text(xstart-2, 10000, \"CTI = %.3E\"%cti,fontsize=6)\n",
    "        text(xstart,100,\"<----\",color = 'blue')\n",
    "        yscale('log',nonposy='clip')\n",
    "        ylim(1.0, 100000)\n",
    "        xlabel(\"X\")\n",
    "        ylabel(\"Signal(ADU)\")\n",
    "savefig(datadir+\"Serial_CTE_Spot_12Oct16.pdf\")\n"
   ]
  },
  {
   "cell_type": "code",
   "execution_count": null,
   "metadata": {},
   "outputs": [],
   "source": []
  }
 ],
 "metadata": {
  "kernelspec": {
   "display_name": "Python 2",
   "language": "python",
   "name": "python2"
  },
  "language_info": {
   "codemirror_mode": {
    "name": "ipython",
    "version": 2
   },
   "file_extension": ".py",
   "mimetype": "text/x-python",
   "name": "python",
   "nbconvert_exporter": "python",
   "pygments_lexer": "ipython2",
   "version": "2.7.3"
  }
 },
 "nbformat": 4,
 "nbformat_minor": 0
}
