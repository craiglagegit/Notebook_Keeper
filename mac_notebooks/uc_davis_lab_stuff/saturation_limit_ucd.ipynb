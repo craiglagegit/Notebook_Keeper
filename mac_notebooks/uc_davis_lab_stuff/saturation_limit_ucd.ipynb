{
 "cells": [
  {
   "cell_type": "code",
   "execution_count": null,
   "metadata": {},
   "outputs": [],
   "source": [
    "from __future__ import print_function\n",
    "import numpy as np\n",
    "import matplotlib.pyplot as plt\n",
    "import galsim"
   ]
  },
  {
   "cell_type": "code",
   "execution_count": null,
   "metadata": {},
   "outputs": [],
   "source": [
    "# Some constants\n",
    "# --------------\n",
    "#\n",
    "# LSST effective area in meters^2\n",
    "A = 319/9.6  # etendue / FoV.  I *think* this includes vignetting\n",
    "\n",
    "# Sky brightnesses in AB mag / arcsec^2.\n",
    "# stole these from http://www.lsst.org/files/docs/gee_137.28.pdf\n",
    "# should eventually construct a sky SED (varies with the moon phase) and integrate to get these\n",
    "Bdark = {'u': 22.8,\n",
    "     'g': 22.2,\n",
    "     'r': 21.3,\n",
    "     'i': 20.3,\n",
    "     'z': 19.1,\n",
    "     'y': 18.1}\n",
    "Bbright = {'u': 17.7,\n",
    "     'g': 19.4,\n",
    "     'r': 19.7,\n",
    "     'i': 19.4,\n",
    "     'z': 18.2,\n",
    "     'y': 17.7}\n"
   ]
  },
  {
   "cell_type": "code",
   "execution_count": null,
   "metadata": {},
   "outputs": [],
   "source": [
    "np.sqrt(A/np.pi)*2"
   ]
  },
  {
   "cell_type": "code",
   "execution_count": null,
   "metadata": {},
   "outputs": [],
   "source": [
    "s0"
   ]
  },
  {
   "cell_type": "code",
   "execution_count": null,
   "metadata": {},
   "outputs": [],
   "source": [
    "# Sky brightness per arcsec^2 per second\n",
    "sbar = {}\n",
    "for k in B:\n",
    "    sbar[k] = s0[k] * 10**(-0.4*(B[k]-24.0))\n"
   ]
  },
  {
   "cell_type": "code",
   "execution_count": null,
   "metadata": {},
   "outputs": [],
   "source": [
    "sbar"
   ]
  },
  {
   "cell_type": "code",
   "execution_count": null,
   "metadata": {},
   "outputs": [],
   "source": [
    "class ETC(object):\n",
    "    def __init__(self, band, pixel_scale=None, stamp_size=None, threshold=0.0,\n",
    "                 nvisits=None, visit_time=30.0, skyBrightness='Dark'):\n",
    "        self.A = 319/9.6  # etendue / FoV. \n",
    "        self.pixel_scale = pixel_scale\n",
    "        self.stamp_size = stamp_size\n",
    "        self.threshold = threshold\n",
    "        self.band = band\n",
    "        if nvisits is None:\n",
    "            nvisits = fiducial_nvisits[band]\n",
    "        self.nvisits = nvisits\n",
    "        self.visit_time =  visit_time\n",
    "        self.exptime = self.nvisits * self.visit_time\n",
    "        self.sky = sbar(band) * self.exptime * self.pixel_scale**2\n",
    "        self.sigma_sky = np.sqrt(self.sky)\n",
    "        self.s0 = s0(band)\n",
    "        \n",
    "    def s0(self, band):\n",
    "        # zeropoints from DK notes in photons per second per pixel\n",
    "        # should eventually compute these on the fly from filter throughput functions.\n",
    "        s0 = {'u': self.A*0.732,\n",
    "              'g': self.A*2.124,\n",
    "              'r': self.A*1.681,\n",
    "              'i': self.A*1.249,\n",
    "              'z': self.A*0.862,\n",
    "              'y': self.A*0.452}\n",
    "        return s0[band]\n",
    "\n",
    "    def sbar(self, band, sky):\n",
    "        if sky == 'Bright':\n",
    "            B = {'u': 17.7,\n",
    "                 'g': 19.4,\n",
    "                 'r': 19.7,\n",
    "                 'i': 19.4,\n",
    "                 'z': 18.2,\n",
    "                 'y': 17.7}\n",
    "        else:\n",
    "            B = {'u': 22.8,\n",
    "                 'g': 22.2,\n",
    "                 'r': 21.3,\n",
    "                 'i': 20.3,\n",
    "                 'z': 19.1,\n",
    "                 'y': 18.1}\n",
    "        return self.s0(band) * 10**(-0.4*(B[band]-24.0))\n",
    "        \n",
    "    def draw(self, profile, mag, noise=False):\n",
    "        img = galsim.ImageD(self.stamp_size, self.stamp_size, scale=self.pixel_scale)\n",
    "        flux = self.s0 * 10**(-0.4*(mag - 24.0)) * self.exptime\n",
    "        profile = profile.withFlux(flux)\n",
    "        profile.drawImage(image=img)\n",
    "        if noise:\n",
    "            gd = galsim.GaussianNoise(bd, sigma=self.sigma_sky)\n",
    "            img.addNoise(gd)\n",
    "        return img\n",
    "\n",
    "    def SNR(self, profile, mag):\n",
    "        img = self.draw(profile, mag, noise=False)\n",
    "        mask = img.array > (self.threshold * self.sigma_sky)\n",
    "        imgsqr = img.array**2*mask\n",
    "        signal = imgsqr.sum()\n",
    "        noise = np.sqrt((imgsqr * self.sky).sum())\n",
    "        return signal / noise\n",
    "\n",
    "    def nphot(self, mag):\n",
    "        return self.s0 * 10**(-0.4*(mag - 24.0)) * self.exptime\n",
    "\n",
    "    def err(self, profile, mag):\n",
    "        snr = self.SNR(profile, mag)\n",
    "        return 2.5 / np.log(10) / snr\n",
    "\n",
    "    def display(self, profile, mag, noise=True):\n",
    "        img = self.draw(profile, mag, noise)\n",
    "        #import matplotlib.pyplot as plt\n",
    "        #import matplotlib.cm as cm\n",
    "        #print(\"Peak photons = %.1f\"%img.array.max())\n",
    "        #plt.imshow(img.array, cmap=cm.Greens, interpolation='nearest')\n",
    "        #plt.colorbar()\n",
    "        #plt.show()\n",
    "        return img.array.sum()\n"
   ]
  },
  {
   "cell_type": "code",
   "execution_count": null,
   "metadata": {},
   "outputs": [],
   "source": [
    "fwhm = 0.70  # PSF FWHM - arcseconds\n",
    "pixel_scale = 0.2 # pixel scale in arcseconds\n",
    "stamp_size = 11 # stamp size in pixels\n",
    "sersic_n = 0.5 # This basically gives a Gaussian\n",
    "sersic_hlr = 0.2 # This is much smaller than the PSF, so is basically a point source\n",
    "nvisits = 1\n",
    "\n",
    "sat_level = 180000\n",
    "\n",
    "psf = galsim.Kolmogorov(fwhm=fwhm)\n",
    "gal = galsim.Sersic(n=sersic_n, half_light_radius=sersic_hlr)\n",
    "profile = galsim.Convolve(psf, gal)\n",
    "colors = ['blue', 'green', 'red', '0.75', '0.50', '0.25']"
   ]
  },
  {
   "cell_type": "code",
   "execution_count": null,
   "metadata": {},
   "outputs": [],
   "source": [
    "# And some random numbers for drawing\n",
    "bd = galsim.BaseDeviate(1)\n",
    "\n",
    "etc = ETC('u', pixel_scale=pixel_scale, stamp_size=stamp_size, nvisits=nvisits)\n",
    "mag = 14\n",
    "etc.display(profile, mag)"
   ]
  },
  {
   "cell_type": "code",
   "execution_count": null,
   "metadata": {},
   "outputs": [],
   "source": [
    "for c, band in enumerate(['u', 'g', 'r', 'i', 'z', 'y']):\n",
    "    etc = ETC(band, pixel_scale=pixel_scale, stamp_size=stamp_size, nvisits=nvisits)\n",
    "    mags = []\n",
    "    npeaks = []\n",
    "    for m in range(31):\n",
    "        mag = 14.0 + 0.2 * m\n",
    "        mags.append(mag)\n",
    "        npeaks.append(etc.display(profile, mag))\n",
    "        #print(\"band = %s, mag = %.1f, nphot = %.1f, npeak = %.1f\"%(band, mag, etc.nphot(mag), etc.display(profile, mag)))\n",
    "        \n",
    "    plt.scatter(mags, npeaks, label=band, color=colors[c])\n",
    "    print('%s: %.2f'%(band, mags[np.argmax(np.array(npeaks)<sat_level)]))\n",
    "plt.plot([13.0,20.0],[sat_level, sat_level], ls = '--', lw = 2, color='black')\n",
    "plt.text(17.0, sat_level*1.20, \"Saturation\", color = 'black')\n",
    "plt.text(14.0, 10000, \"FWHM = %.1f arcsec\"%fwhm, color = 'black')\n",
    "plt.text(14.0, 6000, \"Sat Level = %d\"%sat_level, color = 'black')\n",
    "plt.legend()\n",
    "plt.yscale('log')\n",
    "plt.xlim(13.0,20.0)\n",
    "plt.xlabel('Magnitude', fontsize=24)\n",
    "plt.ylabel('Peak pixel count(electrons)', fontsize=24)\n",
    "plt.savefig('Peak_count_by_band_07Dec19.pdf')"
   ]
  },
  {
   "cell_type": "code",
   "execution_count": null,
   "metadata": {},
   "outputs": [],
   "source": []
  }
 ],
 "metadata": {
  "kernelspec": {
   "display_name": "Python 3",
   "language": "python",
   "name": "python3"
  },
  "language_info": {
   "codemirror_mode": {
    "name": "ipython",
    "version": 3
   },
   "file_extension": ".py",
   "mimetype": "text/x-python",
   "name": "python",
   "nbconvert_exporter": "python",
   "pygments_lexer": "ipython3",
   "version": "3.6.4"
  }
 },
 "nbformat": 4,
 "nbformat_minor": 4
}
