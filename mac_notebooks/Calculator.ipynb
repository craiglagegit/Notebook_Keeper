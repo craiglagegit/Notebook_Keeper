{
 "cells": [
  {
   "cell_type": "code",
   "execution_count": null,
   "id": "515fe941",
   "metadata": {},
   "outputs": [],
   "source": [
    "import numpy as np\n",
    "from constants import MKS, CGS"
   ]
  },
  {
   "cell_type": "code",
   "execution_count": null,
   "id": "cfdeec83",
   "metadata": {},
   "outputs": [],
   "source": [
    "mBB = 4.0E14 # kg\n",
    "rPH = 1.6E12 # m\n",
    "rMars = 2.0E11 # m\n",
    "Megaton = 4.0E15 # J"
   ]
  },
  {
   "cell_type": "code",
   "execution_count": null,
   "id": "fa2b4ff8-a6aa-4557-a948-3bbde7dab9c3",
   "metadata": {},
   "outputs": [],
   "source": [
    "MKS."
   ]
  },
  {
   "cell_type": "code",
   "execution_count": null,
   "id": "e4617ed1",
   "metadata": {},
   "outputs": [],
   "source": [
    "EPH = MKS.G * mBB * MKS.Msun / rPH\n",
    "EMars = MKS.G * mBB * MKS.Msun / rMars\n",
    "print(EPH, EMars, EMars - EPH)"
   ]
  },
  {
   "cell_type": "code",
   "execution_count": null,
   "id": "9cec6800",
   "metadata": {},
   "outputs": [],
   "source": [
    "vPH = np.sqrt(2.0 * EPH / mBB)\n",
    "print(vPH)\n",
    "vMars = 2.4E4\n",
    "EKMars = 0.5 * mBB * vMars**2\n",
    "print(EKMars)"
   ]
  },
  {
   "cell_type": "code",
   "execution_count": null,
   "id": "929cced7",
   "metadata": {},
   "outputs": [],
   "source": [
    "(EKMars - EPH) / (10.0 * Megaton)"
   ]
  },
  {
   "cell_type": "code",
   "execution_count": null,
   "id": "99055bf5",
   "metadata": {},
   "outputs": [],
   "source": []
  }
 ],
 "metadata": {
  "kernelspec": {
   "display_name": "Python 3 (ipykernel)",
   "language": "python",
   "name": "python3"
  },
  "language_info": {
   "codemirror_mode": {
    "name": "ipython",
    "version": 3
   },
   "file_extension": ".py",
   "mimetype": "text/x-python",
   "name": "python",
   "nbconvert_exporter": "python",
   "pygments_lexer": "ipython3",
   "version": "3.9.12"
  }
 },
 "nbformat": 4,
 "nbformat_minor": 5
}
