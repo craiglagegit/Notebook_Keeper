{
 "cells": [
  {
   "cell_type": "code",
   "execution_count": null,
   "id": "f6d08e97",
   "metadata": {},
   "outputs": [],
   "source": [
    "import numpy as np\n",
    "import matplotlib.pyplot as plt"
   ]
  },
  {
   "cell_type": "code",
   "execution_count": null,
   "id": "7194f470",
   "metadata": {},
   "outputs": [],
   "source": [
    "import PyPDF2\n",
    "from PIL import Image"
   ]
  },
  {
   "cell_type": "code",
   "execution_count": null,
   "id": "53f8bf9d",
   "metadata": {},
   "outputs": [],
   "source": [
    "filename = \"/Users/cslage/Research/LSST/code/BOT/13038/PTC_det117.pdf\"\n",
    "input1 = PyPDF2.PdfFileReader(open(filename, \"rb\"))\n",
    "page0 = input1.getPage(0)\n",
    "xObject = page0['/Resources']['/XObject'].getObject()\n",
    "print(len(xObject))\n",
    "for i, obj in enumerate(xObject):\n",
    "    #print(type(obj))\n",
    "    #print(xObject[obj]['/Subtype'])\n",
    "    \"\"\"\n",
    "    if i == 3:\n",
    "        print(type(obj))\n",
    "        print(xObject[obj]['/Subtype'])\n",
    "        #test = obj.getObject()\n",
    "        #print(type(test))\n",
    "        print(dir(obj))\n",
    "        break\n",
    "    continue\n",
    "    \n",
    "    if xObject[obj]['/Subtype'] == '/ImageI':\n",
    "        size = (xObject[obj]['/Width'], xObject[obj]['/Height'])\n",
    "        data = xObject[obj].getData()\n",
    "        print(f\"Size={size}\")\n",
    "        break\n",
    "        if xObject[obj]['/ColorSpace'] == '/DeviceRGB':\n",
    "            mode = \"RGB\"\n",
    "        else:\n",
    "            mode = \"P\"\n",
    "    \"\"\"\n",
    "    mode = \"RGB\"\n",
    "    if xObject[obj]['/Filter'] == '/FlateDecode':\n",
    "        size = (xObject[obj]['/Width'], xObject[obj]['/Height'])\n",
    "        data = xObject[obj].getData()\n",
    "        print(f\"Size={size}\")\n",
    "\n",
    "        img = Image.frombytes(mode, size, data)\n",
    "        img.save(obj[1:] + \".png\")\n",
    "    elif xObject[obj]['/Filter'] == '/DCTDecode':\n",
    "        img = open(obj[1:] + \".jpg\", \"wb\")\n",
    "        img.write(data)\n",
    "        img.close()\n",
    "    elif xObject[obj]['/Filter'] == '/JPXDecode':\n",
    "        img = open(obj[1:] + \".jp2\", \"wb\")\n",
    "        img.write(data)\n",
    "        img.close()"
   ]
  },
  {
   "cell_type": "code",
   "execution_count": null,
   "id": "1e50ab8d",
   "metadata": {},
   "outputs": [],
   "source": [
    "page0.mediaBox"
   ]
  },
  {
   "cell_type": "code",
   "execution_count": null,
   "id": "e340bc3f",
   "metadata": {},
   "outputs": [],
   "source": [
    "filename = \"/Users/cslage/Research/LSST/code/BOT/13038/PTC_det117.pdf\"\n",
    "input1 = PyPDF2.PdfFileReader(open(filename, \"rb\"))\n",
    "page0 = input1.getPage(0)\n",
    "\n",
    "pdfWriter = PyPDF2.PdfFileWriter()\n",
    "\n",
    "#page0.mediaBox.lowerLeft = (60,50)\n",
    "#page0.mediaBox.upperRight = (290, 212)\n",
    "\n",
    "#page0.mediaBox.lowerLeft = (60, 50)\n",
    "#page0.mediaBox.upperRight = (260, 212)\n",
    "\n",
    "# output pdf file name\n",
    "outputpdf = \"/Users/cslage/Research/LSST/code/BOT/13038/test.pdf\"\n",
    "outfile = open(outputpdf, \"wb\")\n",
    "pdfWriter.addPage(page0)\n",
    "pdfWriter.write(outfile)\n",
    "outfile.close()\n",
    "             \n"
   ]
  },
  {
   "cell_type": "code",
   "execution_count": null,
   "id": "a086319b",
   "metadata": {},
   "outputs": [],
   "source": [
    "page0.keys()"
   ]
  },
  {
   "cell_type": "code",
   "execution_count": null,
   "id": "bef26e4b",
   "metadata": {},
   "outputs": [],
   "source": [
    "for key in page0.keys():\n",
    "    print(key, page0[key])"
   ]
  },
  {
   "cell_type": "code",
   "execution_count": null,
   "id": "ba4da3b7",
   "metadata": {},
   "outputs": [],
   "source": [
    "page0['/Contents']"
   ]
  },
  {
   "cell_type": "code",
   "execution_count": null,
   "id": "c6b4be6e",
   "metadata": {},
   "outputs": [],
   "source": [
    "page0['/Group']"
   ]
  },
  {
   "cell_type": "code",
   "execution_count": null,
   "id": "cb32c97a",
   "metadata": {},
   "outputs": [],
   "source": [
    "xObject = page0['/Resources']['/ProcSet'].getObject()\n",
    "for i, obj in enumerate(xObject):\n",
    "    print(obj)\n",
    "    continue\n",
    "    if xObject[obj]['/Subtype'] == '/ImageI':\n",
    "        size = (xObject[obj]['/Width'], xObject[obj]['/Height'])\n",
    "        data = xObject[obj].getData()\n",
    "        print(f\"Size={size}\")\n",
    "        break\n"
   ]
  },
  {
   "cell_type": "code",
   "execution_count": null,
   "id": "9869534e",
   "metadata": {},
   "outputs": [],
   "source": [
    "len(xObject)"
   ]
  },
  {
   "cell_type": "code",
   "execution_count": null,
   "id": "e1b1e216",
   "metadata": {},
   "outputs": [],
   "source": [
    "xObject[obj]['/Width']"
   ]
  },
  {
   "cell_type": "code",
   "execution_count": null,
   "id": "9871a132",
   "metadata": {},
   "outputs": [],
   "source": []
  }
 ],
 "metadata": {
  "kernelspec": {
   "display_name": "Python 3 (ipykernel)",
   "language": "python",
   "name": "python3"
  },
  "language_info": {
   "codemirror_mode": {
    "name": "ipython",
    "version": 3
   },
   "file_extension": ".py",
   "mimetype": "text/x-python",
   "name": "python",
   "nbconvert_exporter": "python",
   "pygments_lexer": "ipython3",
   "version": "3.9.5"
  }
 },
 "nbformat": 4,
 "nbformat_minor": 5
}
