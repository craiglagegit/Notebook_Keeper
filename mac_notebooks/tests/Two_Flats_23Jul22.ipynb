{
 "cells": [
  {
   "cell_type": "markdown",
   "id": "84959af7",
   "metadata": {},
   "source": [
    "# Investigate cause of getGainFromFlatPairs error.\n",
    "Craig Lage - 24Jul22"
   ]
  },
  {
   "cell_type": "code",
   "execution_count": null,
   "id": "b2ce6626",
   "metadata": {},
   "outputs": [],
   "source": [
    "import numpy as np\n",
    "import matplotlib.pyplot as plt"
   ]
  },
  {
   "cell_type": "markdown",
   "id": "5f6b96b5",
   "metadata": {},
   "source": [
    "## First, look at the impact of the Lupton calculation on a pure Poisson distribution"
   ]
  },
  {
   "cell_type": "code",
   "execution_count": null,
   "id": "9e1abaf6",
   "metadata": {},
   "outputs": [],
   "source": [
    "gain = 2.0\n",
    "level = 10000\n",
    "sizex = 1000\n",
    "sizey = 1000\n",
    "f1 = np.random.poisson(level, size=(sizex, sizey)) / gain\n",
    "f2 = np.random.poisson(level, size=(sizex, sizey)) / gain\n",
    "invGainUsual = np.mean((f1 - f2) * (f1 - f2)) / np.mean(f1 + f2)\n",
    "gainUsual = 1.0 / invGainUsual\n",
    "invGainLupton = np.mean((f1 - f2) * (f1 - f2) / (f1 + f2))\n",
    "gainLupton = 1.0 / invGainLupton\n",
    "print(f\"Usual gain = {gainUsual}, Lupton gain = {gainLupton}\")"
   ]
  },
  {
   "cell_type": "markdown",
   "id": "ed6af3ae",
   "metadata": {},
   "source": [
    "## So the gain is well calculated, and the use of <(I1-I2)^2 / (I1+I2)> vs <(I1-I2)^2>/<(I1+I2)> makes no difference."
   ]
  },
  {
   "cell_type": "markdown",
   "id": "536d1d0a",
   "metadata": {},
   "source": [
    "## Now do the same calculation with a 20% flux gradient"
   ]
  },
  {
   "cell_type": "code",
   "execution_count": null,
   "id": "8cf066e6",
   "metadata": {},
   "outputs": [],
   "source": [
    "gradient = 0.2\n",
    "f1 = np.zeros([sizex, sizey])\n",
    "f2 = np.zeros([sizex, sizey])\n",
    "for i in range(sizey):\n",
    "    this_level = level + level * gradient / sizey * i\n",
    "    f1[:,i] = np.random.poisson(this_level, size=sizex) / gain\n",
    "    f2[:,i] = np.random.poisson(this_level, size=sizex) / gain\n",
    "invGainUsual = np.mean((f1 - f2) * (f1 - f2)) / np.mean(f1 + f2)\n",
    "gainUsual = 1.0 / invGainUsual\n",
    "invGainLupton = np.mean((f1 - f2) * (f1 - f2) / (f1 + f2))\n",
    "gainLupton = 1.0 / invGainLupton\n",
    "print(f\"Usual gain = {gainUsual}, Lupton gain = {gainLupton}\")"
   ]
  },
  {
   "cell_type": "markdown",
   "id": "bf9b81e5",
   "metadata": {},
   "source": [
    "## The flux gradient makes no difference.  The gain is still well calculated."
   ]
  },
  {
   "cell_type": "markdown",
   "id": "5519870d",
   "metadata": {},
   "source": [
    "## Now try introducing read noise to see how well the correction works\n",
    "## The calculations below are copied from the cp_pipe code."
   ]
  },
  {
   "cell_type": "code",
   "execution_count": null,
   "id": "f11c7443",
   "metadata": {},
   "outputs": [],
   "source": [
    "for readNoise in [2.0, 10.0, 20.0]:\n",
    "    f1 = np.random.poisson(level, size=(sizex, sizey)) / gain\n",
    "    f2 = np.random.poisson(level, size=(sizex, sizey)) / gain\n",
    "    f1Noise = np.random.normal(0.0, readNoise, size=(sizex, sizey))\n",
    "    f1 += f1Noise\n",
    "    f2Noise = np.random.normal(0.0, readNoise, size=(sizex, sizey))\n",
    "    f2 += f2Noise\n",
    "    const = np.mean((f1 - f2) * (f1 - f2) / (f1 + f2))\n",
    "    mu = np.mean((f1 + f2) / 2.0)\n",
    "    for correctionType in ['NONE', 'SIMPLE', 'FULL']:\n",
    "        gainLupton = 1. / const\n",
    "        if correctionType == 'SIMPLE':\n",
    "            gainLupton = 1/(const - (1/mu)*(readNoise**2 - (1/2*gainLupton**2)))\n",
    "        elif correctionType == 'FULL':\n",
    "            root = np.sqrt(mu**2 - 2*mu*const + 2*readNoise**2)\n",
    "            denom = (2*const*mu - 2*readNoise**2)\n",
    "            positiveSolution = (root + mu)/denom\n",
    "            gainLupton = positiveSolution\n",
    "        print(f\"readNoise = {readNoise} , correctionType = {correctionType}, gain = {gainLupton}\")"
   ]
  },
  {
   "cell_type": "markdown",
   "id": "e45f0f54",
   "metadata": {},
   "source": [
    "## The correction successfully corrects for the read noise"
   ]
  },
  {
   "cell_type": "markdown",
   "id": "1e09331d",
   "metadata": {},
   "source": [
    "## What if we over-estimate the read noise by a factor of two?"
   ]
  },
  {
   "cell_type": "code",
   "execution_count": null,
   "id": "98cbf6a2",
   "metadata": {},
   "outputs": [],
   "source": [
    "for readNoise in [2.0, 10.0, 20.0]:\n",
    "    f1 = np.random.poisson(level, size=(sizex, sizey)) / gain\n",
    "    f2 = np.random.poisson(level, size=(sizex, sizey)) / gain\n",
    "    f1Noise = np.random.normal(0.0, readNoise, size=(sizex, sizey))\n",
    "    f1 += f1Noise\n",
    "    f2Noise = np.random.normal(0.0, readNoise, size=(sizex, sizey))\n",
    "    f2 += f2Noise\n",
    "    const = np.mean((f1 - f2) * (f1 - f2) / (f1 + f2))\n",
    "    mu = np.mean((f1 + f2) / 2.0)\n",
    "    readNoise *= 2.0 # Overestimate the read noise\n",
    "    for correctionType in ['NONE', 'SIMPLE', 'FULL']:\n",
    "        gainLupton = 1. / const\n",
    "        if correctionType == 'SIMPLE':\n",
    "            gainLupton = 1/(const - (1/mu)*(readNoise**2 - (1/2*gainLupton**2)))\n",
    "        elif correctionType == 'FULL':\n",
    "            root = np.sqrt(mu**2 - 2*mu*const + 2*readNoise**2)\n",
    "            denom = (2*const*mu - 2*readNoise**2)\n",
    "            positiveSolution = (root + mu)/denom\n",
    "            gainLupton = positiveSolution\n",
    "        print(f\"readNoise = {readNoise/2.0} , correctionType = {correctionType}, gain = {gainLupton}\")"
   ]
  },
  {
   "cell_type": "markdown",
   "id": "8b7793ee",
   "metadata": {},
   "source": [
    "## So an incorrect estimate of the read noise can account for the gain being wrong."
   ]
  }
 ],
 "metadata": {
  "kernelspec": {
   "display_name": "Python 3 (ipykernel)",
   "language": "python",
   "name": "python3"
  },
  "language_info": {
   "codemirror_mode": {
    "name": "ipython",
    "version": 3
   },
   "file_extension": ".py",
   "mimetype": "text/x-python",
   "name": "python",
   "nbconvert_exporter": "python",
   "pygments_lexer": "ipython3",
   "version": "3.9.5"
  }
 },
 "nbformat": 4,
 "nbformat_minor": 5
}
