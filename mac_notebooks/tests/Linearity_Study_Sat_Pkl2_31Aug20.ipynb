{
 "cells": [
  {
   "cell_type": "markdown",
   "metadata": {},
   "source": [
    "# Notebook to look at linearity\n",
    "\n",
    "Initially written 31 Aug 2020 by Craig Lage.\\\n",
    "Using pkl'd data so I can run it on my laptop.\n"
   ]
  },
  {
   "cell_type": "code",
   "execution_count": null,
   "metadata": {},
   "outputs": [],
   "source": [
    "import sys, os, glob, time\n",
    "import pickle as pkl\n",
    "import numpy as np\n",
    "import matplotlib.pyplot as plt\n",
    "from matplotlib.backends.backend_pdf import PdfPages\n",
    "from scipy.optimize import curve_fit\n",
    "from scipy.optimize import fmin_powell\n",
    "import scipy.interpolate as interp\n",
    "import astropy.io.fits as pf"
   ]
  },
  {
   "cell_type": "code",
   "execution_count": null,
   "metadata": {},
   "outputs": [],
   "source": [
    "DATA_DIR = '/project/shared/BOT/'\n",
    "REPO_DIR = '/project/cslage/BOT_lspdev/E2V_6790D_Gain_Mu12_R22S11/'\n",
    "RUN = '6790D'\n",
    "[RAFT, SENSOR, DETECTOR] = ['R22', 'S11', 94]\n",
    "#[RAFT, SENSOR, DETECTOR] = ['R02', 'S02', 11]"
   ]
  },
  {
   "cell_type": "code",
   "execution_count": null,
   "metadata": {},
   "outputs": [],
   "source": [
    "file = open('/Users/cslage/Research/LSST/code/BOT/gain/linearized/pickle/linearity_r22s11_c04.pkl','rb')\n",
    "#file = open('/project/cslage/BOT_lspdev/ptcs/linearity_r22s11_c04.pkl','rb')\n",
    "pkl_data = pkl.load(file)\n",
    "file.close()\n",
    "print(pkl_data.keys())\n",
    "rawMeans = pkl_data['rawMeans']\n",
    "bothRawMeans = pkl_data['bothRawMeans']\n",
    "headerData = pkl_data['headerData']\n",
    "rawVars = pkl_data['rawVars']\n",
    "means = pkl_data['means']\n",
    "expTimes = pkl_data['expTimes']\n",
    "gains = pkl_data['gains']\n",
    "pairs = pkl_data['pairs']"
   ]
  },
  {
   "cell_type": "code",
   "execution_count": null,
   "metadata": {},
   "outputs": [],
   "source": [
    "print(xx[300:305], yy[300:305])"
   ]
  },
  {
   "cell_type": "code",
   "execution_count": null,
   "metadata": {},
   "outputs": [],
   "source": [
    "flux_max_e = 150000  # electrons\n",
    "\n",
    "amp = 'C04'\n",
    "flux_max = flux_max_e / gains[amp] # In ADU\n",
    "\n",
    "index = expTimes.argsort()\n",
    "means = means[index]\n",
    "expTimes = expTimes[index]\n",
    "\n",
    "lin_index = np.where(means < 20000)\n",
    "coefs = np.polyfit(means[lin_index], expTimes[lin_index], 1)\n",
    "slope = coefs[0]\n",
    "\n",
    "lin_model = slope * means\n",
    "\n",
    "lin_residuals = (expTimes - lin_model) / expTimes * 100.0\n",
    "\n",
    "xplot = np.linspace(100.0,flux_max, 200)\n",
    "yplot = np.ones_like(xplot)\n",
    "\n",
    "knots = 10\n",
    "xx = means\n",
    "yy = expTimes / slope\n",
    "\n",
    "# Force the spline to match the linear fit at low flux by adding \n",
    "# highly weighted points at low flux\n",
    "xx_points = np.array([0.0,500.0,5000.0,20000.0])\n",
    "xx = np.insert(xx, 0, xx_points)\n",
    "yy = np.insert(yy, 0, xx_points)\n",
    "weights = np.ones_like(xx)\n",
    "weights[0:len(xx_points)] = 100000.0\n",
    "\n",
    "index = xx. argsort()\n",
    "xx = xx[index]\n",
    "yy = yy[index]\n",
    "weights = weights[index]\n",
    "\n",
    "length = xx[-1]-xx[0]\n",
    "t = np.linspace(xx[0]+1e-5*length, xx[-1]-1e-5*length, knots)\n",
    "print(\"Input knots\",t[1:-2])\n",
    "s = interp.splrep(xx, yy, w=weights, task=-1, t=t[1:-2])\n",
    "print(\"Output knots\",s[0])\n",
    "s_model = interp.splev(means, s) \n",
    "s_yplot = interp.splev(xplot, s)\n",
    "s_residuals = ((means / expTimes * slope) - s_model) * 100.0\n",
    "\n",
    "fig = plt.figure(figsize = (16,16))\n",
    "plt.suptitle(\"Flux Nonlinearity - Run 6790D, R22S11 C04 28Aug2020\", fontsize = 24)\n",
    "plt.subplot(2,1,1)\n",
    "plt.plot(xplot, yplot, color='green', label = 'Low flux linear fit')\n",
    "plt.plot(xplot, s_yplot / xplot, color='blue', label = '%d knot spline fit'%knots)\n",
    "#plt.scatter(means, means/expTimes, marker = 'x', s=100, color='red')\n",
    "plt.scatter(xx, yy / xx, marker = 'x', s=100, color='red')\n",
    "plt.ylabel(\"Flux/ExpTime*LowFluxSlope\", fontsize = 18)\n",
    "plt.xlabel(\"Flux(ADU)\", fontsize = 18)\n",
    "plt.legend(fontsize=18)\n",
    "plt.ylim(0.995, 1.005)\n",
    "#plt.xscale('log')\n",
    "\n",
    "plt.subplot(2,1,2)\n",
    "plt.scatter(means[1:-1],lin_residuals[1:-1], label = 'Linear Residuals')\n",
    "plt.scatter(means[1:-1],s_residuals[1:-1], label = 'Spline Residuals')\n",
    "plt.plot([0.0, 120000.0], [0.0,0.0], ls = '--', color = 'black')\n",
    "plt.ylabel(\"Residuals (%)\", fontsize = 18)\n",
    "plt.xlabel(\"Flux(ADU)\", fontsize = 18)\n",
    "\n",
    "#plt.xscale('log')\n",
    "plt.legend(fontsize = 18)\n",
    "#plt.savefig(REPO_DIR + 'plots/Flux_Correction_R22S11_C04_28Aug20.pdf')"
   ]
  },
  {
   "cell_type": "code",
   "execution_count": null,
   "metadata": {},
   "outputs": [],
   "source": [
    "f = 50000\n",
    "print(interp.splev(f, s))\n",
    "sder = interp.splder(s)\n",
    "print(interp.splev(f,sder)**2)\n",
    "print(rvars[200])\n",
    "print(0.814, (interp.splev(f*0.814,sder)**2)*f*0.814 / interp.splev(f, s))\n",
    "print(these_coefs[1] + these_coefs[0] * 51732)"
   ]
  },
  {
   "cell_type": "code",
   "execution_count": null,
   "metadata": {},
   "outputs": [],
   "source": [
    "amp = 'C04'\n",
    "sder = interp.splder(s)\n",
    "rvars = np.array(rawVars[amp])\n",
    "rmeans = np.array(rawMeans[amp])\n",
    "correctedMeans = interp.splev(rmeans, s)\n",
    "correctedVars = (interp.splev(rvars, sder))**2 * rvars\n",
    "fig = plt.figure(figsize = (16,8))\n",
    "plt.title(\"Non-linearity, R22S11, C04\", fontsize = 24)\n",
    "cut_means = []\n",
    "cut_vars = []\n",
    "# Fit a line to the points outside the bump\n",
    "for i, mean in enumerate(rmeans):\n",
    "    if (mean >10000 and mean <25000) or (mean >65000 and mean <100000):\n",
    "        cut_means.append(mean)\n",
    "        cut_vars.append(rvars[i]/mean)\n",
    "    #if mean > 50000:\n",
    "    #    print(mean, rvars[i]/mean)\n",
    "    #    break\n",
    "xplot = np.linspace(-5000,120000, 100)\n",
    "these_coefs = np.polyfit(cut_means, cut_vars, 1)\n",
    "yplot = these_coefs[1] + these_coefs[0] * xplot\n",
    "print()\n",
    "plt.scatter(rmeans,rvars/rmeans, color = 'red', marker = 'o', label = 'UnCorrected')\n",
    "plt.scatter(rmeans,correctedVars/correctedMeans, color = 'green', marker = 'x', s = 100,label = 'Corrected')\n",
    "plt.plot(xplot, yplot, ls = '--', color = 'blue')\n",
    "plt.xlabel(\"Flux(ADU)\", fontsize = 18)\n",
    "plt.ylabel(\"Variance / Flux (ADU)\", fontsize = 18)\n",
    "plt.ylim(0.6, 1.1)\n",
    "plt.legend(fontsize = 18)\n",
    "#plt.savefig(REPO_DIR + 'plots/NonLinearity_R22S11_C04_28Aug20.pdf')"
   ]
  },
  {
   "cell_type": "code",
   "execution_count": null,
   "metadata": {},
   "outputs": [],
   "source": []
  }
 ],
 "metadata": {
  "kernelspec": {
   "display_name": "Python 3",
   "language": "python",
   "name": "python3"
  },
  "language_info": {
   "codemirror_mode": {
    "name": "ipython",
    "version": 3
   },
   "file_extension": ".py",
   "mimetype": "text/x-python",
   "name": "python",
   "nbconvert_exporter": "python",
   "pygments_lexer": "ipython3",
   "version": "3.7.4"
  }
 },
 "nbformat": 4,
 "nbformat_minor": 4
}
