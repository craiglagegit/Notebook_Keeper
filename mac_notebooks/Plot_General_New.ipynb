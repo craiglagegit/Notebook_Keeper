{
 "cells": [
  {
   "cell_type": "code",
   "execution_count": null,
   "metadata": {},
   "outputs": [],
   "source": [
    "import numpy as np\n",
    "import matplotlib.pyplot as plt"
   ]
  },
  {
   "cell_type": "code",
   "execution_count": null,
   "metadata": {},
   "outputs": [],
   "source": [
    "def func(t):\n",
    "    A = -0.077\n",
    "    B = 1.0\n",
    "    return A+(B/(2.0*((np.pi-t)+np.sin(t))))*(1.0-np.cos(t))"
   ]
  },
  {
   "cell_type": "code",
   "execution_count": null,
   "metadata": {},
   "outputs": [],
   "source": [
    "t = np.linspace(-15.0,5.0,5000)\n",
    "f = func(t)\n",
    "plt.plot(t,f)\n",
    "plt.plot([-15,5],[0,0], color='black', ls = '--')\n",
    "plt.ylim(-0.1,0.1)"
   ]
  },
  {
   "cell_type": "code",
   "execution_count": null,
   "metadata": {},
   "outputs": [],
   "source": [
    "np.pi"
   ]
  },
  {
   "cell_type": "code",
   "execution_count": null,
   "metadata": {},
   "outputs": [],
   "source": [
    "z = np.linspace(0,2,100)\n",
    "r = z\n",
    "r2 = np.sqrt(2*z - z*z)\n",
    "plt.figure()\n",
    "plt.subplot(1,1,1,aspect=1.0)\n",
    "plt.plot(z,r, color='b')\n",
    "plt.plot(z,r2, color='r')\n",
    "plt.plot(z,-r, color='b')\n",
    "plt.plot(z,-r2, color='r')"
   ]
  },
  {
   "cell_type": "code",
   "execution_count": null,
   "metadata": {},
   "outputs": [],
   "source": [
    "# I read these off the graph, so some error\n",
    "aggressors=np.array([1000,2000,3000,4000,5000,6000,7000,8000,9000,10000,12000,14000,16000,18000,20000,22000,24000])\n",
    "ratios=np.array([0.00275,0.00235,0.00222,0.00218,0.00214,0.00210,0.00206,0.00205,0.00204,0.00203,0.00202,0.00201,0.00200,0.00199,0.00199,0.00198,0.00197])\n",
    "crosstalk = aggressors*ratios # This is the raw crosstalk signal, not the ratio\n",
    "\n",
    "offset = 400.0\n",
    "plt.scatter(aggressors, crosstalk/aggressors, color='blue', marker='o', label=f\"Offset = {0}\")\n",
    "plt.scatter((aggressors+offset), (crosstalk/(aggressors+offset)), color='red', marker='x', label=f\"Offset = {offset}\")\n",
    "plt.ylim(0.0015, 0.0030)\n",
    "plt.legend()\n",
    "plt.savefig(\"/Users/cslage/Research/LSST/code/auxtel/crosstalk/Aggressor_Offset_01Jul21.png\")"
   ]
  },
  {
   "cell_type": "code",
   "execution_count": null,
   "metadata": {},
   "outputs": [],
   "source": [
    "Speed = [0.00208, 0.0225, 0.0125, 0.00775, 0.00583, 0.0050, 0.00375, 0.0217, 0.0208, 0.0175, 0.0175]\n",
    "Error = [0.06, 1.20, 0.57, 0.40, 0.30, 0.21, 0.15, 1.02, 0.77, 0.65, 0.54]"
   ]
  },
  {
   "cell_type": "code",
   "execution_count": null,
   "metadata": {},
   "outputs": [],
   "source": [
    "plt.scatter(Speed, Error)\n",
    "plt.ylabel(\"Two minute RMS Azimuth Error(arcsec)\")\n",
    "plt.xlabel(\"Azimuth speed (deg/sec)\")\n",
    "plt.title(\"AuxTel Azimuth tracking error vs speed\", fontsize = 16)\n",
    "plt.savefig(\"/Users/cslage/Research/LSST/code/auxtel/mount_issues/Azimuth_error_plot_02Mar22.png\")"
   ]
  },
  {
   "cell_type": "code",
   "execution_count": null,
   "metadata": {},
   "outputs": [],
   "source": [
    "angles = np.array([80, 70, 60, 50, 40, 25])\n",
    "periods = np.array([8.0, 16.0, 22.0, 28.0, 35.0, 45.0])\n",
    "amps = np.array([1.5074089472384413, 0.733766085187411, 0.5008680991095928, 0.37753339407081266, 0.229240647101198, 0.1875085303602263])"
   ]
  },
  {
   "cell_type": "code",
   "execution_count": null,
   "metadata": {},
   "outputs": [],
   "source": [
    "freqs = 1.0 / periods\n",
    "plt.scatter(freqs, amps)\n",
    "xplot = np.linspace(0.01, 0.15, 100)\n",
    "coefs = np.polyfit(freqs, amps, 1)\n",
    "print(coefs)\n",
    "yplot = coefs[0] * xplot + coefs[1]\n",
    "plt.plot(xplot, yplot, color='red', ls = '--')\n",
    "\n",
    "\n",
    "plt.savefig(\"/Users/cslage/Research/LSST/code/auxtel/mount_issues/Azimuth_Image_Impact_03Mar22.png\")"
   ]
  },
  {
   "cell_type": "code",
   "execution_count": null,
   "metadata": {},
   "outputs": [],
   "source": [
    "plt.scatter(angles, amps * 2.0 * np.sqrt(2.0) * np.cos(np.pi * angles / 180.0))\n",
    "plt.xlabel(\"Elevation(degrees)\")\n",
    "plt.ylabel(\"Peak-peak image amplitude (arcseconds)\")\n",
    "plt.ylim(0.0, 1.0)\n",
    "plt.title(\"Impact on images\", fontsize=24)\n",
    "plt.savefig(\"/Users/cslage/Research/LSST/code/auxtel/mount_issues/Azimuth_Image_Impact_03Mar22.png\")"
   ]
  },
  {
   "cell_type": "code",
   "execution_count": null,
   "metadata": {},
   "outputs": [],
   "source": [
    "angles = np.array([80, 70, 60, 50, 40, 25])\n",
    "period = np.array([8.0,16.0,22.0,29.0,36.0,45.0]) # sec                 \n",
    "speed = np.array([0.0225, 0.0125, 0.00775, 0.00583, 0.0050, 0.00375] )  # deg/sec               "
   ]
  },
  {
   "cell_type": "code",
   "execution_count": null,
   "metadata": {},
   "outputs": [],
   "source": [
    "period * speed * 3600"
   ]
  },
  {
   "cell_type": "code",
   "execution_count": null,
   "metadata": {},
   "outputs": [],
   "source": [
    "power = [0, 25, 50, 75, 100]\n",
    "az_rms = [0.04,0.08,0.10,0.10,0.14]\n",
    "el_rms = [0.09,0.13,0.11,0.23,0.38]\n",
    "az_accel_std = [0.0015,0.0013,0.0014,0.0016,0.0022]\n",
    "el_accel_std = [0.0018,0.0014,0.0018,0.0018,0.0025]\n",
    "z_accel_std = [0.0014,0.0014,0.0013,0.0015,0.0028]"
   ]
  },
  {
   "cell_type": "code",
   "execution_count": null,
   "metadata": {},
   "outputs": [],
   "source": [
    "plt.figure(figsize=(8,8))\n",
    "plt.subplots_adjust(hspace=0.5)\n",
    "plt.subplot(2,1,1)\n",
    "plt.title(\"Mount Tracking Errors\", fontsize=16)\n",
    "plt.plot(power, az_rms, marker='x',label=\"Az RMS\")\n",
    "plt.plot(power, el_rms, marker='+', label=\"El RMS\")\n",
    "plt.xlabel(\"Fan Power (%)\", fontsize=12)\n",
    "plt.ylabel(\"RMS Error (arcseconds)\")\n",
    "plt.legend()\n",
    "plt.subplot(2,1,2)\n",
    "plt.title(\"Accelerometer Sigma\", fontsize=16)\n",
    "plt.plot(power, az_accel_std, marker='x', label=\"M2 Az\")\n",
    "plt.plot(power, el_accel_std, marker='+', label=\"M2 El\")\n",
    "plt.plot(power, z_accel_std, marker='o', label=\"M2 Z\")\n",
    "plt.xlabel(\"Fan Power (%)\", fontsize=12)\n",
    "plt.ylabel(\"Accelerometer StdDev (g)\")\n",
    "plt.legend()\n",
    "plt.savefig(\"/Users/cslage/Research/LSST/code/auxtel/mount_issues/Fan_Test_Summary_08Mar22.pdf\")"
   ]
  },
  {
   "cell_type": "code",
   "execution_count": null,
   "metadata": {},
   "outputs": [],
   "source": [
    "Lambda = 15.0\n",
    "alpha = 102E-4 * np.sqrt(Lambda/7.0)\n",
    "\n",
    "SensorThickness = 35.0\n",
    "BlockingLayerThickness = 4.0\n",
    "nTrials = 10000\n",
    "depths = []\n",
    "for i in range(10000):\n",
    "    ConversionDepth = 100.0\n",
    "    while (ConversionDepth > SensorThickness - BlockingLayerThickness):\n",
    "        ConversionDepth = -1.0 / alpha * np.log(1.0 - np.random.rand())\n",
    "    depths.append(ConversionDepth)\n",
    "\n",
    "plt.hist(depths)\n",
    "\n",
    "xplot = np.linspace(1.0, 30.0)\n",
    "yplot = nTrials / 8.0 * (np.exp(-alpha * xplot))\n",
    "plt.plot(xplot, yplot)"
   ]
  },
  {
   "cell_type": "code",
   "execution_count": null,
   "metadata": {},
   "outputs": [],
   "source": [
    "Tscatt = 1.0E-11\n",
    "Lifetime = 2.0E-7\n",
    "success = 0\n",
    "for i in range(10000):\n",
    "    Recombined = - Lifetime * np.log(1.0 - np.random.rand())\n",
    "    #print(Recombined)\n",
    "    if Recombined > Tscatt:\n",
    "        success += 1\n",
    "print(f\"Tscatt={Tscatt:.4g}, Lifetime={Lifetime:.4g}, Success = {success}\")\n"
   ]
  },
  {
   "cell_type": "code",
   "execution_count": null,
   "metadata": {},
   "outputs": [],
   "source": [
    "filename = \"/Users/cslage/Research/LSST/code/poisson_git_03apr22/Poisson_CCD/edges_2.out\"\n",
    "file = open(filename,\"r\")\n",
    "lines = file.readlines()\n",
    "file.close()"
   ]
  },
  {
   "cell_type": "code",
   "execution_count": null,
   "metadata": {},
   "outputs": [],
   "source": [
    "xs = []\n",
    "ys = []\n",
    "i = 1\n",
    "while i < len(lines):\n",
    "    xs.append(float(lines[i].split()[13].strip(\",\")))\n",
    "    ys.append(float(lines[i].split()[16].strip(\",\")))\n",
    "    i+=2"
   ]
  },
  {
   "cell_type": "code",
   "execution_count": null,
   "metadata": {},
   "outputs": [],
   "source": [
    "plt.plot(xs, ys, marker = \"x\")"
   ]
  },
  {
   "cell_type": "code",
   "execution_count": null,
   "metadata": {},
   "outputs": [],
   "source": []
  }
 ],
 "metadata": {
  "kernelspec": {
   "display_name": "Python 3 (ipykernel)",
   "language": "python",
   "name": "python3"
  },
  "language_info": {
   "codemirror_mode": {
    "name": "ipython",
    "version": 3
   },
   "file_extension": ".py",
   "mimetype": "text/x-python",
   "name": "python",
   "nbconvert_exporter": "python",
   "pygments_lexer": "ipython3",
   "version": "3.9.12"
  }
 },
 "nbformat": 4,
 "nbformat_minor": 4
}
