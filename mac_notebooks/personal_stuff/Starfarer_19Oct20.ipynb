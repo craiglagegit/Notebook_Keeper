{
 "cells": [
  {
   "cell_type": "code",
   "execution_count": null,
   "metadata": {},
   "outputs": [],
   "source": [
    "import numpy as np\n",
    "import matplotlib.pyplot as plt\n",
    "#from IPython.display import display, display_latex, Math, Latex\n",
    "from constants import CGS, MKS"
   ]
  },
  {
   "cell_type": "markdown",
   "metadata": {
    "collapsed": true
   },
   "source": [
    "## D-D Fusion.\n",
    "\n",
    "First some basic quantities:\n",
    "\n",
    "* Assume D2O fuel, DD fusion with efficiency $\\eta$ at turning fusion power into beam power.  Beam power is used to accelerate the O ions in an ion rocket.\n",
    "* DD fusion energy = $\\rm E_{DD}$ = 10 MeV per DD pair.\n",
    "* This energy is used to accelerate the O at a velocity $\\rm \\frac{m_O v_O^2}{2} = E_{DD}$\n",
    "* $\\rm v_O = \\sqrt{2 \\eta E_{DD} / m_O}$\n",
    "* Effective velocity $\\rm V_{eff}$ is reduced by $\\rm \\frac{m_O}{m_{D_2O}}$\n",
    "* So: $\\rm V_{eff} = \\frac{m_O}{m_{D_2O}}\\sqrt{2 \\eta E_{DD} / m_O}$"
   ]
  },
  {
   "cell_type": "code",
   "execution_count": null,
   "metadata": {},
   "outputs": [],
   "source": [
    "eta = 0.20\n",
    "mDD = 4.0; mD2O = 20.0; mO = 16.0\n",
    "EDD = 1.0E7 * MKS.eV\n",
    "Veff = mO/mD2O * np.sqrt(2 * eta * EDD / (mO * MKS.mp))\n",
    "print(\"Veff = %.4g m/s = %.1f%% of c\"%(Veff,Veff/MKS.c*100.0))"
   ]
  },
  {
   "cell_type": "markdown",
   "metadata": {},
   "source": [
    "## Mass definitions\n",
    "\n",
    "Let's define the following quantities:\n",
    "* m0 - Mass of craft with no fuel\n",
    "* mt - turnover mass\n",
    "* mi - initial mass - craft plus fuel\n",
    "* D = total distance; T = total trip time\n",
    "\n",
    "  Now let's calculate these quantities, assuming the rocket equation:\n",
    "$\\rm v_f = v_{eff} \\log{\\frac{m_i}{m_f}}$\n",
    "* Since the velocity at turnover is the same accelerating and declerating, we must have:\n",
    "* $\\rm \\frac{m_t}{m_0} = \\frac{m_i}{m_t}$\n",
    "* $\\rm m_t = \\sqrt{m_0 m_i} = \\sqrt{m_0 (m_0 + mdot T)}$"
   ]
  },
  {
   "cell_type": "code",
   "execution_count": null,
   "metadata": {},
   "outputs": [],
   "source": [
    "def Velocity(Veff, mf, mi, mdot):\n",
    "    # From the rocket equation\n",
    "    return Veff * np.log(mi / mf)\n",
    "\n",
    "def Distance(Veff, mf, mi, mdot):\n",
    "    # From integrating the rocket equation\n",
    "    t = abs((mi - mf) / mdot)\n",
    "    x1 = Veff * t\n",
    "    x2 = Veff * (mi / mdot) * (1.0 - mdot * t / mi) * np.log(1.0 - mdot * t / mi)\n",
    "    return (x1 + x2) / MKS.ly\n",
    "\n",
    "def TotalDistance(Veff, m0, mdot, T):\n",
    "    # Total distance traveled given m0, mdot and time T\n",
    "    mi = m0 + mdot * T *MKS.yr\n",
    "    mt = np.sqrt(m0 * (m0 + mdot * T * MKS.yr))\n",
    "    Tt = (mi - mt) / mdot / MKS.yr\n",
    "    Vt = Velocity(Veff, mt, mi, mdot) / MKS.c # V at turnover\n",
    "    d_accel = Distance(Veff, mt, mi, mdot)\n",
    "    d_decel = Vt * (T - Tt) - Distance(Veff, m0, mt, mdot)\n",
    "    return d_accel + d_decel\n",
    "\n",
    "def TotalTime(Veff, m0, mdot, D, Tguess):\n",
    "    # Invert TotalDistance(T) using Newton's method\n",
    "    # Gives total time to travel a distance D given m0 and mdot\n",
    "    d = TotalDistance(Veff, m0, mdot, Tguess)\n",
    "    T = Tguess\n",
    "    error = D - d\n",
    "    count = 0\n",
    "    while error > 1.0E-6 and count < 20:\n",
    "        d = TotalDistance(Veff, m0, mdot, T)\n",
    "        dp = TotalDistance(Veff, m0, mdot, T * 1.01)\n",
    "        dDdT = (dp - d) / (T * .01)\n",
    "        T = T - (d - D) / dDdT\n",
    "        d = TotalDistance(Veff, m0, mdot, T)\n",
    "        error = abs(D - d)\n",
    "        count += 1\n",
    "    if count > 15:\n",
    "        print(\"Failed to converge\")\n",
    "        return 0.0\n",
    "    else:\n",
    "        return T\n"
   ]
  },
  {
   "cell_type": "code",
   "execution_count": null,
   "metadata": {},
   "outputs": [],
   "source": [
    "m0 = 2.0E8\n",
    "mdot = 0.10\n",
    "D = 4.3\n",
    "T = TotalTime(Veff, m0, mdot, D, 100)\n",
    "print(\"Total time = %.1f years\"%T)\n",
    "mi = m0 + mdot * TotalTime(Veff, m0, mdot, D, 100) * MKS.yr\n",
    "print(\"Initial mass = %.2g kg = %.1f times m0\"%(mi,mi/m0))\n",
    "mt = np.sqrt(m0 * (m0 + T * mdot * MKS.yr))\n",
    "print(\"Turnover mass = %.2g kg = %.1f times m0\"%(mt,mt/m0))\n",
    "Tt = (mi - mt) / mdot / MKS.yr\n",
    "print(\"Turnover time = %.1f years\"%Tt)\n",
    "Vp = Velocity(Veff, mt, mi, mdot) / MKS.c * 100.0\n",
    "print(\"Peak velocity = %.1f%% of c\"%Vp)\n",
    "Thrust = Veff * mdot\n",
    "Ai = Thrust / mi / 9.8\n",
    "Af = Thrust / m0 / 9.8\n",
    "print(\"Thrust = %.3g Nt\"%Thrust)\n",
    "print(\"Initial acceleration = %.3g g, Final acceleration = %.3g g\"%(Ai,Af))"
   ]
  },
  {
   "cell_type": "code",
   "execution_count": null,
   "metadata": {},
   "outputs": [],
   "source": [
    "nsteps = 500\n",
    "times = np.linspace(0, T, nsteps)\n",
    "dt = T / float(nsteps - 1)\n",
    "speeds = []\n",
    "distances = [0.0]\n",
    "Vt = Velocity(Veff, mt, mi, mdot) / MKS.c # At turnover\n",
    "Dt = Distance(Veff, mt, mi, mdot) # At turnover\n",
    "for t in times:\n",
    "    m = mi - mdot * t * MKS.yr\n",
    "    if t < Tt:\n",
    "        speeds.append(Velocity(Veff, m, mi, mdot) / MKS.c)\n",
    "        distances.append(Distance(Veff, m, mi, mdot))\n",
    "    else:\n",
    "        speeds.append(Vt - Velocity(Veff, m, mt, mdot) / MKS.c)\n",
    "        distances.append(Dt + Vt * (t - Tt) - Distance(Veff, m, mt, mdot))\n",
    "distances.remove(distances[-1])\n",
    "plt.figure(figsize = (16,8))\n",
    "plt.subplot(1,2,1)\n",
    "plt.title(\"Speed vs time\")\n",
    "plt.plot(times, speeds)\n",
    "plt.ylim(0, 0.020)\n",
    "plt.xlabel(\"Time(yr)\")\n",
    "plt.ylabel(\"Speed (fraction of c)\")\n",
    "plt.text(Tt*0.95, Vp/100.0*1.05, \"Turnover\", fontsize=12)\n",
    "plt.subplot(1,2,2)\n",
    "plt.title(\"Distance vs time\")\n",
    "plt.plot(times, distances)\n",
    "plt.ylim(0, 5.0)\n",
    "plt.xlabel(\"Time(yr)\")\n",
    "plt.ylabel(\"Distance (ly)\")\n",
    "plt.show()"
   ]
  },
  {
   "cell_type": "code",
   "execution_count": null,
   "metadata": {},
   "outputs": [],
   "source": [
    "nsteps = 100\n",
    "mdots = np.linspace(0, 0.5, nsteps)\n",
    "mdots = np.delete(mdots, mdots[0])\n",
    "powers = []\n",
    "times = []\n",
    "D = 4.3\n",
    "for mdot in mdots:\n",
    "    powers.append(eta * EDD / (mD2O * MKS.mp) * mdot * 1E-12)\n",
    "    times.append(TotalTime(Veff, m0, mdot, D, 100))\n",
    "plt.figure(figsize = (16,8))\n",
    "plt.subplot(1,2,1)\n",
    "plt.title(\"Electrical power needed vs mdot\")\n",
    "plt.plot(mdots, powers)\n",
    "plt.plot([0.1,0.1], [0.0,5.0], ls = '--', color = 'k')\n",
    "plt.ylim(0, 5.0)\n",
    "plt.xlabel(\"mdot(kg/sec)\")\n",
    "plt.ylabel(\"Power (TW)\")\n",
    "plt.subplot(1,2,2)\n",
    "plt.title(\"Trip time vs mdot\")\n",
    "plt.plot(mdots, times)\n",
    "plt.plot([0.1,0.1], [0.0,1500], ls = '--', color = 'k')\n",
    "plt.ylim(0, 1500.0)\n",
    "plt.xlabel(\"mdot(kg/sec)\")\n",
    "plt.ylabel(\"Trip Time (years)\")\n",
    "\n",
    "\n",
    "plt.show()"
   ]
  },
  {
   "cell_type": "code",
   "execution_count": null,
   "metadata": {},
   "outputs": [],
   "source": []
  },
  {
   "cell_type": "code",
   "execution_count": null,
   "metadata": {},
   "outputs": [],
   "source": [
    "# What about going further?\n",
    "m0 = 2.0E8\n",
    "mdot = 0.10\n",
    "D = 20.0\n",
    "T = TotalTime(Veff, m0, mdot, D, 100)\n",
    "print(\"Total time = %.1f years\"%T)\n",
    "mi = m0 + mdot * TotalTime(Veff, m0, mdot, D, 100) * MKS.yr\n",
    "print(\"Initial mass = %.2g kg = %.1f times m0\"%(mi,mi/m0))\n",
    "mt = np.sqrt(m0 * (m0 + T * mdot * MKS.yr))\n",
    "print(\"Turnover mass = %.2g kg = %.1f times m0\"%(mt,mt/m0))\n",
    "Tt = (mi - mt) / mdot / MKS.yr\n",
    "print(\"Turnover time = %.1f years\"%Tt)\n",
    "Vp = Velocity(Veff, mt, mi, mdot) / MKS.c * 100.0\n",
    "print(\"Peak velocity = %.1f%% of c\"%Vp)"
   ]
  },
  {
   "cell_type": "code",
   "execution_count": null,
   "metadata": {},
   "outputs": [],
   "source": []
  }
 ],
 "metadata": {
  "kernelspec": {
   "display_name": "Python 2",
   "language": "python",
   "name": "python2"
  },
  "language_info": {
   "codemirror_mode": {
    "name": "ipython",
    "version": 2
   },
   "file_extension": ".py",
   "mimetype": "text/x-python",
   "name": "python",
   "nbconvert_exporter": "python",
   "pygments_lexer": "ipython2",
   "version": "2.7.17"
  }
 },
 "nbformat": 4,
 "nbformat_minor": 1
}
