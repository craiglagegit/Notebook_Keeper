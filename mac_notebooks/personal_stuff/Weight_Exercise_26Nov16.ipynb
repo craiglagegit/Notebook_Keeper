{
 "cells": [
  {
   "cell_type": "code",
   "execution_count": null,
   "metadata": {},
   "outputs": [],
   "source": [
    "import matplotlib\n",
    "matplotlib.use(\"PDF\")\n",
    "from pylab import *\n",
    "import sys, glob, xlrd, datetime\n",
    "thedir='/Users/cslage/Personal/Health'\n",
    "%cd $thedir\n"
   ]
  },
  {
   "cell_type": "code",
   "execution_count": null,
   "metadata": {},
   "outputs": [],
   "source": [
    "weight_wb = xlrd.open_workbook('Weight.xls')\n",
    "weight_data = weight_wb.sheet_by_index(0)\n",
    "exercise_wb = xlrd.open_workbook('../Exercise log2.xls')\n",
    "exercise = exercise_wb.sheet_by_name('Log')\n",
    "weights = []\n",
    "cals = []\n",
    "for i in range(weight_data.nrows):\n",
    "    try:\n",
    "        if type(weight_data.row(i)[1].value) is float:\n",
    "            weights.append([weight_data.row(i)[1].value,xlrd.xldate_as_tuple(weight_data.row(i)[0].value, weight_wb.datemode)])\n",
    "    except:\n",
    "        continue\n",
    "\n",
    "print len(weights), weights[7]\n",
    "\n",
    "for i in range(exercise.nrows):   \n",
    "    try:\n",
    "        if str(exercise.row(i)[1].value) == 'Wt':\n",
    "            if str(exercise.row(i)[5].value) == 'Lb':\n",
    "                if type(exercise.row(i)[4].value) is float:\n",
    "                    weights.append([exercise.row(i)[4].value,xlrd.xldate_as_tuple(exercise.row(i)[0].value, exercise_wb.datemode)])\n",
    "            elif str(exercise.row(i)[5].value) == 'Kg':\n",
    "                if type(exercise.row(i)[4].value) is float:\n",
    "                    weights.append([exercise.row(i)[4].value*2.2,xlrd.xldate_as_tuple(exercise.row(i)[0].value, exercise_wb.datemode)])\n",
    "\n",
    "        elif str(exercise.row(i)[1].value) == 'Ex':\n",
    "                if type(exercise.row(i)[6].value) is float:\n",
    "                    cals.append([exercise.row(i)[6].value,xlrd.xldate_as_tuple(exercise.row(i)[0].value, exercise_wb.datemode)])\n",
    "    except:\n",
    "        continue\n",
    "\n",
    "print len(weights), weights[14], type(weights[7][0])\n",
    "print len(cals), cals[0]\n"
   ]
  },
  {
   "cell_type": "code",
   "execution_count": null,
   "metadata": {},
   "outputs": [],
   "source": [
    "starting_year = 2000\n",
    "current_year = 2017\n",
    "num_months = 12*(current_year - starting_year + 1)\n",
    "month_weights = zeros([num_months])\n",
    "month_num_weights = zeros([num_months],dtype = int)\n",
    "month_cals = zeros([num_months])\n",
    "months = linspace(0,num_months-1, num_months)\n",
    "\n",
    "for weight in weights:\n",
    "    #print weight[0], type(weight[0])\n",
    "    month = (weight[1][0] - starting_year) * 12 + weight[1][1]\n",
    "    month_weights[month] += weight[0]\n",
    "    month_num_weights[month] += 1\n",
    "\n",
    "for month in range(len(month_weights)):\n",
    "    if month_num_weights[month] > 0:\n",
    "        month_weights[month] /= float(month_num_weights[month])\n",
    "\n",
    "\n",
    "for cal in cals:\n",
    "    month = (cal[1][0] - starting_year) * 12 + cal[1][1]\n",
    "    month_cals[month] += cal[0] / 30.0\n",
    "\n",
    "    "
   ]
  },
  {
   "cell_type": "code",
   "execution_count": null,
   "metadata": {},
   "outputs": [],
   "source": [
    "figure()\n",
    "subplot(2,1,1)\n",
    "scatter((starting_year+months/12.0),month_weights)\n",
    "ylim(160,200)\n",
    "#xlabel('Month')\n",
    "xticks([])\n",
    "ylabel('Weight(Lbs)')\n",
    "subplot(2,1,2)\n",
    "scatter((starting_year+months/12.0),month_cals)\n",
    "xlabel('Date')\n",
    "xticks([2000,2002,2004,2006,2008,2010,2012,2014,2016, 2018])\n",
    "ylabel('Exercise Calories/day')\n",
    "ylim(0,1000)\n",
    "\n",
    "show()"
   ]
  },
  {
   "cell_type": "code",
   "execution_count": null,
   "metadata": {},
   "outputs": [],
   "source": []
  }
 ],
 "metadata": {
  "kernelspec": {
   "display_name": "Python 2",
   "language": "python",
   "name": "python2"
  },
  "language_info": {
   "codemirror_mode": {
    "name": "ipython",
    "version": 2
   },
   "file_extension": ".py",
   "mimetype": "text/x-python",
   "name": "python",
   "nbconvert_exporter": "python",
   "pygments_lexer": "ipython2",
   "version": "2.7.11"
  }
 },
 "nbformat": 4,
 "nbformat_minor": 0
}
