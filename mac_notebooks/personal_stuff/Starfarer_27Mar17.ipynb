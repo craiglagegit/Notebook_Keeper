{
 "cells": [
  {
   "cell_type": "code",
   "execution_count": null,
   "metadata": {},
   "outputs": [],
   "source": [
    "from pylab import *\n",
    "from IPython.display import display, display_latex, Math, Latex\n",
    "from constants import CGS, MKS"
   ]
  },
  {
   "cell_type": "markdown",
   "metadata": {
    "collapsed": true
   },
   "source": [
    "## D-D Fusion.\n",
    "\n",
    "First some basic quantities:\n",
    "\n",
    "* Assume D2O fuel, DD fusion with 15% efficiency at turning fusion power into beam power.  Beam power is used to accelerate the O ions in an ion rocket.\n",
    "* DD fusion energy = 10 MeV per DD pair.\n"
   ]
  },
  {
   "cell_type": "code",
   "execution_count": null,
   "metadata": {},
   "outputs": [],
   "source": [
    "efficiency = 0.15\n",
    "fusion_burnup = 0.5\n",
    "DD_energy = 1.0E7 * MKS.eV\n",
    "mdot = 0.1 #kg/sec fuel usage\n",
    "T = 800.0E3 * MKS.eV / MKS.kb # Plasma temperature"
   ]
  },
  {
   "cell_type": "markdown",
   "metadata": {
    "collapsed": true
   },
   "source": [
    "## Effective exhaust velocity\n",
    "\n",
    "To calculate the effective exhaust velocity, I make the following assumptions, starting with a D2O fuel molecule:\n",
    "\n",
    "* The O atom is accelerated to 1.5 MeV (about 100 kV), which is ejected\n",
    "* The D2 fuel burns to 50%, leaving a D nucleus and 1/2 an He nucleus\n",
    "* These two are sent backwards at the plasma temperature of 1 MeV.\n"
   ]
  },
  {
   "cell_type": "code",
   "execution_count": null,
   "metadata": {},
   "outputs": [],
   "source": [
    "V_O = sqrt(2.0 * DD_energy * efficiency /(16.0 * MKS.mp))\n",
    "E_O = MKS.mp * 16 * V_O**2 / (2.0 * MKS.eV)\n",
    "V_D = sqrt(2.0 * MKS.kb * T / (MKS.mp * 2.0))\n",
    "V_He = sqrt(2.0 * MKS.kb * T / (MKS.mp * 4.0))\n",
    "print \"V_O = %g, V_D = %g, V_He = %g\"%(V_O, V_D, V_He)\n",
    "P_O = MKS.mp * 16.0 * V_O\n",
    "P_D = MKS.mp * 2.0 * V_D\n",
    "P_He = MKS.mp * 4.0 * V_He / 2.0 #Assume 50% fusion, leaving one D and 1/2 He\n",
    "P_Tot = P_D + P_He  # No Oxygen\n",
    "\n",
    "V_exhaust = P_Tot / (4.0 * MKS.mp)\n",
    "\n",
    "print \"V_exhaust = %g\"%V_exhaust\n",
    "\n",
    "# If this is used, this reduces the fuel requirement significantly."
   ]
  },
  {
   "cell_type": "markdown",
   "metadata": {
    "collapsed": true
   },
   "source": [
    "## Fusion Volume\n",
    "\n",
    "Next I want to calculate the required fusion volume.\n",
    "\n",
    "* Assume T ~ 1000 keV\n",
    "* <\\sigma v> = 2E-22 m^3/sec\n",
    "* B = 20T\n",
    "* Beta = 0.10\n",
    "\n",
    "The result of ~ 100 m in diameter is reasonable considering the baseline habitat is 200 m in diameter and 600 m long."
   ]
  },
  {
   "cell_type": "code",
   "execution_count": null,
   "metadata": {},
   "outputs": [],
   "source": [
    "Max_Power = mdot / (20.0 * MKS.mp) * DD_energy * 1.5\n",
    "print \"Max available power = %g watts\"%Max_Power\n",
    "Fusion_Power = Max_Power * fusion_burnup\n",
    "print \"Fusion power = %g watts\"%Fusion_Power\n",
    "O_Power = mdot * (16.0 / 20.0) * V_O**2 / 2.0\n",
    "D_Power = mdot * (2.0 / 20.0) * V_D**2 / 2.0\n",
    "He_Power = mdot * (4.0 / 20.0) * V_He**2 / 2.0 / 2.0\n",
    "n_Power = 6.0/15.0 * Fusion_Power\n",
    "print \"O power = %g watts, D power = %g watts, He power = %g watts, n power = %g wats\"%(O_Power, D_Power, He_Power, n_Power)\n",
    "\n",
    "Power_out = mdot / (3.0 * MKS.mp) * MKS.kb * T\n",
    "print \"Power out estimate = %g watts\"%Power_out \n",
    " # Something off here.\n",
    "\n",
    "B = 20.0\n",
    "beta = 0.10\n",
    "sigma_v = 2.0E-22\n",
    "P_magnetic = B**2 / (2.0 * MKS.mu0)\n",
    "print \"P_magnetic = %g N/m^2,  = %g bar\"%(P_magnetic, (P_magnetic / 1.0E5))\n",
    "P_plasma = beta * P_magnetic\n",
    "n = P_plasma / (MKS.kb * T)\n",
    "print \"T = %g K, n = %g m^-3\"%(T, n)\n",
    "Power_req = mdot * (16.0 / 20.0) * V_O**2 / 2.0\n",
    "Power_fusion = Power_req / efficiency\n",
    "print \"Power required = %g Watts, Fusion power = %g Watts\"%(Power_req, Power_fusion)\n",
    "Power_density = sigma_v * n**2 * DD_energy\n",
    "Volume = Power_fusion / Power_density\n",
    "Radius = pow(Volume / (4.0 * pi), 1.0/3.0)\n",
    "print \"Required Volume = %g m^3, Radius = %.3f m\"%(Volume, Radius)\n",
    "\n",
    "New_Volume = mdot / (2.0 * MKS.mp) * fusion_burnup / (sigma_v * n**2)\n",
    "New_Radius = pow(New_Volume / (4.0 * pi), 1.0/3.0)\n",
    "print \"Required New Volume = %g m^3, New Radius = %.3f m\"%(New_Volume, New_Radius)\n",
    "\n",
    "Outgoing_Power = mdot / (4.0 *MKS.mp) * 7.0 / 2.0 * MKS.kb * T\n",
    "print \"Outgoing power = %g watts\"%Outgoing_Power\n",
    "\n",
    "\n",
    "Newest_Volume = mdot / (4.0 * MKS.mp) * 7.0 * MKS.kb * T / (sigma_v * n**2 * 9.0 * MKS.eV * 1.0E6)\n",
    "Newest_Radius = pow(Newest_Volume / (4.0 * pi), 1.0/3.0)\n",
    "print \"Required Newest Volume = %g m^3, Newest Radius = %.3f m\"%(Newest_Volume, Newest_Radius)\n",
    "\n",
    "Newest_brems = 16.0 / 3.0 * sqrt(2.0 * pi / 3.0) * MKS.alpha * MKS.re**2 * MKS.c * sqrt(MKS.me * MKS.c**2 * MKS.kb * T) * Z_plasma**2 * n**2 * Volume\n",
    "Newest_Power = sigma_v * n**2 * Newest_Volume * 15.0 * MKS.eV * 1.0E6\n",
    "print \"Newest Power = %g, Newest Brems = %g\"%(Newest_Power,Newest_brems)"
   ]
  },
  {
   "cell_type": "markdown",
   "metadata": {
    "collapsed": true
   },
   "source": [
    "## Bremsstrahlung Losses\n",
    "\n",
    "Next I want to calculate the bremsstrahlung losses from the plasma volume.  I'll assume the plasma is optically thin. The estimate of the meean free path below certainly implies that this is a good assumption.\n",
    "\n",
    "Note that the brems power alone can generate the electrical power needed.\n"
   ]
  },
  {
   "cell_type": "code",
   "execution_count": null,
   "metadata": {},
   "outputs": [],
   "source": [
    "Mean_Free_Path = 1.0 / (0.04 * n * 2.0 * MKS.mp)\n",
    "print \"Mean free path = %g m.\"%Mean_Free_Path\n",
    "Z_plasma = 1.5\n",
    "Power_brems = 16.0 / 3.0 * sqrt(2.0 * pi / 3.0) * MKS.alpha * MKS.re**2 * MKS.c * sqrt(MKS.me * MKS.c**2 * MKS.kb * T) * Z_plasma**2 * n**2 * Volume\n",
    "Coef = 16.0 / 3.0 * sqrt(2.0 * pi / 3.0) * MKS.alpha * MKS.re**2 * MKS.c * sqrt(MKS.me * MKS.c**2 * MKS.kb * T) * Z_plasma**2 \n",
    "print \"Coef = %g\"%Coef\n",
    "print \"Bremsstrahlung power = %g watts\"%Power_brems\n",
    "\n",
    "tau = fusion_burnup / (sigma_v * n)\n",
    "print \"Tau = %g seconds\"%tau\n",
    "\n",
    "PB_per_particle = Coef * n * tau \n",
    "print \"Brems per particle = %f MeV\"%(PB_per_particle/(MKS.eV * 1.0E6))"
   ]
  },
  {
   "cell_type": "markdown",
   "metadata": {},
   "source": [
    "## Mass definitions\n",
    "\n",
    "Let's define the following quantities:\n",
    "* m0 - Mass of craft with no fuel\n",
    "* mc - coasting mass\n",
    "* mi - initial mass\n",
    "* mf1 - mass of fuel used in acceleration\n",
    "* mf2 - mass of fuel used in deceleration\n",
    "* So  mc = m0 + mf2\n",
    "* and mi = m0 + mf1 + mf2\n",
    "\n",
    "  Now let's calculate these quantities, assuming the rocket equation:\n"
   ]
  },
  {
   "cell_type": "code",
   "execution_count": null,
   "metadata": {},
   "outputs": [],
   "source": [
    "m0 = 1.0\n",
    "V_coast = 0.02 * MKS.c\n",
    "mc = m0 * exp(V_coast/V_exhaust)\n",
    "print \"Ratio of Coast mass to Final mass is %.3f\"%(mc / m0)"
   ]
  },
  {
   "cell_type": "code",
   "execution_count": null,
   "metadata": {},
   "outputs": [],
   "source": [
    "mi = mc * exp(V_coast/V_exhaust)\n",
    "print \"Ratio of Initial mass to Coast mass is %.3f\"%(mi / mc)\n",
    "print \"Ratio of Initial mass to Final mass is %.3f\"%(mi / m0)"
   ]
  },
  {
   "cell_type": "markdown",
   "metadata": {},
   "source": [
    "## Baseline quantities\n",
    "\n",
    "Now let's look at the time it takes and plot the speed vs time:\n",
    "* mdot - Rate of mass used = 0.1 kg/sec\n",
    "* m0 = 2.0E8 kg\n",
    "* Distance to Alpha Cen = 4.3 ly\n"
   ]
  },
  {
   "cell_type": "code",
   "execution_count": null,
   "metadata": {},
   "outputs": [],
   "source": [
    "def Distance(v_exhaust, mf, mi, mdot):\n",
    "    t = abs((mi - mf) / mdot)\n",
    "    x1 = v_exhaust * t\n",
    "    x2 = v_exhaust * (mi / mdot) * (1.0 - mdot * t / mi) * log(1.0 - mdot * t / mi)\n",
    "    return (x1 + x2) / MKS.ly\n",
    "\n",
    "d_alpha = 4.3\n",
    "m0 = 2.0E8\n",
    "mc = m0 * exp(V_coast/V_exhaust)\n",
    "mi = mc * exp(V_coast/V_exhaust)\n",
    "mf2 = mc - m0\n",
    "mf1 = mi - mc\n",
    "print \"Initial mass = %.2g kg, final mass = %.2g kg\"%(mi, m0)\n",
    "print \"Acceleration fuel mass = %.2g kg, Deceleration fuel mass = %.2g kg\"%(mf1, mf2)\n",
    "t_accel = (mi - mc) / mdot / MKS.yr\n",
    "t_decel = (mc - m0) / mdot / MKS.yr\n",
    "d_accel = Distance(V_exhaust, mc, mi, mdot)\n",
    "d_decel = Distance(V_exhaust, m0, mc, mdot)\n",
    "print \"Acceleration distance = %.1f light-years, deceleration distance = %.1f years\"%(d_accel, d_decel)\n",
    "t_coast = (d_alpha - d_accel - d_decel) * MKS.ly / V_coast / MKS.yr\n",
    "t_total = t_accel + t_coast + t_decel\n",
    "print \"Acceleration time = %.1f years, coast time = %.1f,  deceleration time = %.1f years\"%(t_accel, t_coast, t_decel)\n",
    "print \"Total time = %.1f years\"%t_total"
   ]
  },
  {
   "cell_type": "markdown",
   "metadata": {},
   "source": [
    "## Fuel Volume\n",
    "Let's estimate the volume of the initial fuel shell:\n",
    "* Shell radius = 110 m\n",
    "* Shell length = 1000 m\n"
   ]
  },
  {
   "cell_type": "code",
   "execution_count": null,
   "metadata": {},
   "outputs": [],
   "source": [
    "R_shell = 110.0 # m\n",
    "L_shell = 1000.0 # m\n",
    "Rho_D2O = 1100.0 # kg/m^3\n",
    "T_shell = (mf1 + mf2) / Rho_D2O / (2.0 * pi * R_shell * L_shell)\n",
    "print \"Shell thickness = %.2f m\"%T_shell"
   ]
  },
  {
   "cell_type": "code",
   "execution_count": null,
   "metadata": {},
   "outputs": [],
   "source": [
    "nsteps = 500\n",
    "times = linspace(0, t_total, nsteps)\n",
    "dt = t_total / float(nsteps - 1)\n",
    "speeds = []\n",
    "distances = [0.0]\n",
    "for t in times:\n",
    "    if t < t_accel:\n",
    "        speed = V_exhaust * log(mi / (mi - mdot * t * MKS.yr)) / MKS.c\n",
    "        speeds.append(speed)\n",
    "        distances.append(distances[-1] + speed * dt)\n",
    "    elif t < t_accel + t_coast:\n",
    "        speed = V_coast / MKS.c\n",
    "        speeds.append(speed)\n",
    "        distances.append(distances[-1] + speed * dt)\n",
    "    else:\n",
    "        speed = V_exhaust * log((mc - mdot * (t - t_accel - t_coast) * MKS.yr) / m0) / MKS.c\n",
    "        speeds.append(speed)\n",
    "        distances.append(distances[-1] + speed * dt)\n",
    "distances.remove(distances[-1])\n",
    "figure(figsize = (16,8))\n",
    "subplot(1,2,1)\n",
    "title(\"Speed vs time\")\n",
    "plot(times, speeds)\n",
    "ylim(0, 0.025)\n",
    "xlabel(\"Time(yr)\")\n",
    "ylabel(\"Speed (fraction of c)\")\n",
    "subplot(1,2,2)\n",
    "title(\"Distance vs time\")\n",
    "plot(times, distances)\n",
    "ylim(0, 5.0)\n",
    "xlabel(\"Time(yr)\")\n",
    "ylabel(\"Distance (ly)\")\n",
    "\n",
    "show()"
   ]
  },
  {
   "cell_type": "code",
   "execution_count": null,
   "metadata": {},
   "outputs": [],
   "source": []
  }
 ],
 "metadata": {
  "kernelspec": {
   "display_name": "Python 2",
   "language": "python",
   "name": "python2"
  },
  "language_info": {
   "codemirror_mode": {
    "name": "ipython",
    "version": 2
   },
   "file_extension": ".py",
   "mimetype": "text/x-python",
   "name": "python",
   "nbconvert_exporter": "python",
   "pygments_lexer": "ipython2",
   "version": "2.7.17"
  }
 },
 "nbformat": 4,
 "nbformat_minor": 1
}
