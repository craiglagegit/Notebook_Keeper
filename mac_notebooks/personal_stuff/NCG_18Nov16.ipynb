{
 "cells": [
  {
   "cell_type": "code",
   "execution_count": null,
   "metadata": {},
   "outputs": [],
   "source": [
    "from IPython.display import display, display_latex, Math, Latex"
   ]
  },
  {
   "cell_type": "markdown",
   "metadata": {},
   "source": [
    "# Non-Commutative Geometry worksheet\n",
    "\n",
    "I'm going to work on going through the basics on NCG, just for my own edification.  I'll also use this as a learning vehicle for getting better at formatting and integrating Jupyter notebooks.  To start, I'm going to review the basics and work through some simple examples, including a commutative algebra on a continuous manifold and a simple non-commutative space with two points.  This will all follow closely with Petitot (arXix:1505.00132v1).\n",
    "\n",
    "## Basics (1) Hilbert Space\n",
    "\n",
    "A Hilbert space H is a vector space with a complex inner product which satisfies the following conditions:\n",
    "1. $\\rm \\langle x|y\\rangle = \\overline {\\langle y|x\\rangle}$, where the bar indicates complex conjugation.\n",
    "2. The inner product is linear in it's first argument: $\\rm \\langle (a x_1 + b x_2)|y\\rangle = a \\langle x_1|y\\rangle +  b \\langle x_2|y\\rangle$\n",
    "3. From these two it follows that the inner product is antilinear in it's second argument: $\\rm \\langle x|(a y_1 + b y_2)\\rangle = \\overline{a} \\langle x|y_1\\rangle +  \\overline{b} \\langle x|y_2\\rangle$\n",
    "4. The inner product of an element with itself is real and positive: $\\rm \\langle x|x\\rangle > 0$\n",
    "5. The norm is defined as follows: $\\rm ||x|| = \\sqrt{\\langle x| x \\rangle}$ .\n",
    "6. The norm is used to define a distance between Hilbert space elements: \n",
    "$\\rm d(x,y) = ||(x-y)|| = \\sqrt{\\langle (x-y)| (x-y) \\rangle}$ .\n",
    "7. The distance function satisfies the triangle inequality: $\\rm d(x,z) \\leq d(x,y) + d(y,z)$ .\n",
    "\n",
    "## Basics (2) C* Algebra\n",
    "\n",
    "A C* algebra A is an algebra over the field of complex numbers which satisfies the following conditions:\n",
    "1. It possesses an involution operator $ \\rm *:A \\rightarrow A $, with the following properties:\n",
    "    1. $\\rm (a^*)^* = a $\n",
    "    2. $\\rm (a + b)^* = a^* + b^* $\n",
    "    3. $ \\rm (\\lambda a)^* = \\overline{\\lambda} a^* \\,\\,\\, \\lambda \\in  \\mathbb C$.\n",
    "2. It possesses a norm with the following properties:\n",
    "    1. $\\rm ||x^* x|| = ||x|| ||x^*|| = ||x||^2 $\n",
    "    2. $\\rm ||x||^2 = \\sup\\{|\\lambda|: x - \\lambda I \\; is \\; not \\; invertible\\}$  \n"
   ]
  },
  {
   "cell_type": "markdown",
   "metadata": {},
   "source": []
  },
  {
   "cell_type": "markdown",
   "metadata": {
    "collapsed": true
   },
   "source": [
    "## C* Algebra Example 1.\n",
    "\n",
    "As a first example consider the Hilbert space $\\rm H = L^2(M,s)$ of square-integrable functions on a 2D Euclidean space.  I'm not sure I fully understand what this means, but I think it means that an element can be written:\n",
    "\n",
    "$$ h = \\begin{bmatrix}h_x(x,y) \\\\h_y(x,y) \\\\ \\end{bmatrix}$$\n",
    "\n",
    "The inner product of two elements is given by:\n",
    "\n",
    "$$\\rm \\langle h1|h2 \\rangle = \\int (h1_x(x,y) h2_x(x,y) + h1_y(x,y) h2_y(x,y))dV $$\n",
    "\n",
    "In this case, let's consider the 2D Clifford algebra Cl(0,2), which has a matrix representation:\n",
    "$$ I = \\begin{bmatrix}1 & 0\\\\0 & 1\\\\\\end{bmatrix} ;\n",
    "\\alpha_x = \\begin{bmatrix}1 & 0\\\\0 & -1\\\\\\end{bmatrix};\n",
    "\\alpha_y = \\begin{bmatrix}0 & 1\\\\1 & 0\\\\\\end{bmatrix};\n",
    "U = \\begin{bmatrix}0 & 1\\\\-1 & 0\\\\\\end{bmatrix} $$\n",
    "\n",
    "Then an element of the Hilbert space and the the Dirac operator D are given by:\n",
    "$$ h = \\begin{bmatrix}h_x(x,y) \\\\h_y(x,y) \\\\ \\end{bmatrix} ;D = \\begin{bmatrix}\\frac{\\partial}{\\partial x} & \\frac{\\partial}{\\partial y}\\\\ \\frac{\\partial}{\\partial y} & -\\frac{\\partial}{\\partial x}\\\\ \\end{bmatrix} $$\n",
    "\n",
    "I'm confused on the self-adjoint nature of D. D is clearly self-adjoint if I take the \"conjugate transpose\" definition, but when I consider:\n",
    "$$\\rm \\langle D h1|h2 \\rangle = \\int (h1_{x,x}+h1_{y,y}) h2_x + (h1_{x,y} - h1_{y,x}) h2_y)dV $$\n",
    "I can use integration by parts to move the derivative from $\\rm h_1$ to $\\rm h_2$, but because of the minus sign I end up with:\n",
    "$$\\rm \\langle D h1|h2 \\rangle = -\\langle h1|Dh2 \\rangle$$\n",
    "\n",
    "I'm not sure what the issue is here, but I'm moving on.\n",
    "\n",
    "Then the C* algebra A is defined by multiplication by a complex function on M, as follows:\n",
    "\n",
    "$$ \\rm a:H \\rightarrow H, as \\; follows: a h = a(x,y,z) (h_x \\sigma x + h_y \\sigma y) $$\n",
    "\n",
    "How is the norm of a defined in this case?\n",
    "\n"
   ]
  },
  {
   "cell_type": "code",
   "execution_count": null,
   "metadata": {},
   "outputs": [],
   "source": []
  }
 ],
 "metadata": {
  "kernelspec": {
   "display_name": "Python 2",
   "language": "python",
   "name": "python2"
  },
  "language_info": {
   "codemirror_mode": {
    "name": "ipython",
    "version": 2
   },
   "file_extension": ".py",
   "mimetype": "text/x-python",
   "name": "python",
   "nbconvert_exporter": "python",
   "pygments_lexer": "ipython2",
   "version": "2.7.11"
  }
 },
 "nbformat": 4,
 "nbformat_minor": 0
}
