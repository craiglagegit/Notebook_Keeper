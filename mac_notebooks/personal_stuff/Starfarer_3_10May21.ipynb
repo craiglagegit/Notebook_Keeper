{
 "cells": [
  {
   "cell_type": "markdown",
   "metadata": {
    "collapsed": true
   },
   "source": [
    "## Can we reach the stars with fusion power?\n",
    "\n",
    "Several improvements over earlier versions:\n",
    "\n",
    "* Have discarded the idea of an ion rocket fueled with D2O in favor of a more conventional fusion rocket fueled with D2.  Calculations indicate that this is feasible, and the travel times are much less.  This also eliminates the need to generate TW of electrical power.  We still need ~1GW of electrical power for the colony, but this will be much easier.\n",
    "* Have refined the rocket equations to allow for an initial velocity.  Travel times are reduced significantly if we can tow the craft up to a decent initial velocity before leaving the solar system."
   ]
  },
  {
   "cell_type": "code",
   "execution_count": null,
   "metadata": {},
   "outputs": [],
   "source": [
    "import numpy as np\n",
    "import matplotlib.pyplot as plt \n",
    "from constants import CGS, MKS\n",
    "from IPython.display import Image"
   ]
  },
  {
   "cell_type": "markdown",
   "metadata": {},
   "source": [
    "## Merlin rocket benchmark.\n",
    "This is from the Wikipedia entry on the Falcon Merlin engine:\n",
    "As configured for use on Falcon 1 vehicles, the Merlin 1C had a sea level thrust of 350 kN (78,000 lbf), a vacuum thrust of 400 kN (90,000 lbf) and a vacuum specific impulse of 304 s (2.98 km/s). In this configuration, the engine consumed 140 kg (300 lb) of propellant per second.\n",
    "\n",
    "In addition, we need the fact that kerosene has a heat of combustion of 46.2 MJ/kg.  Kerosene is approximately $C_{14}H_{30}$  Complete combustion of one molecule of kerosene would require 43 O atoms.\n",
    "\n",
    "The tabulated gas temperature in the combustion chamber is about 3400C."
   ]
  },
  {
   "cell_type": "code",
   "execution_count": null,
   "metadata": {},
   "outputs": [],
   "source": [
    "# So the heat of combustion including the oxidizer is:\n",
    "Ef = 46.2E6 *(14.0*12.0 + 30.0) / ( 14.0 * 12.0 + 30.0 + 43.0 * 16.0) \n",
    "print(\"Ef = %.3g MJ/kg of fuel\"%(Ef/1.0E6))\n",
    "# Power used in fuel consumption:\n",
    "Mf = 140.0 # kg of fuel per second\n",
    "Pf = Mf * Ef # Energy produced by fuel combustion per second\n",
    "Veff = 3.0E3 # Effective exhaust velocity\n",
    "Pe = Mf * Veff * Veff / 2.0 # Kinetic energy of exhaust per second\n",
    "eta = Pe / Pf # efficiency\n",
    "print(\"Power of combustion = %.3g J/s, Exhaust power = %.3g J/s, Efficency = %.1f%%\"%(Pf,Pe,eta*100.0))\n",
    "# How does the exhaust velocity compare to the thermal velocity of the gas molecules?\n",
    "# Exhaust is mainly CO2 (MW 44)  and H2O (MW 18).\n",
    "T_f = 3400.0 + 273.0 # T in degrees K\n",
    "V_f = np.sqrt(2.0 * T_f * MKS.kb / ((18.0+44.0)/2 * MKS.mp))\n",
    "print(\"Thermal velocity of gas = %.4g m/s compared to tabulated exhaust velocity of %.4g m/s\"%(V_f,Veff))"
   ]
  },
  {
   "cell_type": "markdown",
   "metadata": {
    "collapsed": true
   },
   "source": [
    "## D-D Fusion.\n",
    "\n",
    "First some basic quantities:\n",
    "\n",
    "* Assume D2 fuel, DD fusion with efficiency $\\eta$ at turning fusion power into exhaust power.  \n",
    "* DD fusion energy = $\\rm E_{DD}$ = 10 MeV per DD pair.\n",
    "* $\\rm V_{eff} = \\sqrt{2 \\eta E_{DD} / m_{DD}}$"
   ]
  },
  {
   "cell_type": "code",
   "execution_count": null,
   "metadata": {},
   "outputs": [],
   "source": [
    "# How does this compare to a chemical rocket?\n",
    "# The numbers are much larger, but appear feasible.\n",
    "eta = 0.40\n",
    "mDD = 4.0\n",
    "EDD = 1.0E7 * MKS.eV\n",
    "Veff = np.sqrt(2 * eta * EDD / (mDD * MKS.mp))\n",
    "print(\"Veff = %.4g m/s = %.1f%% of c\"%(Veff,Veff/MKS.c*100.0))\n",
    "T_p = 1.0E6 # Fusion temperature of 1 MeV, near peak of D-D cross section\n",
    "V_He = np.sqrt(2.0 * T_p * MKS.eV / (4.0 * MKS.mp))\n",
    "print(\"At T_plasma = %.2g eV = %.4g K\"%(T_p, T_p*MKS.eV/MKS.kb))\n",
    "print(\"Thermal velocity of gas = %.1f%% of c compared to exhaust velocity of %.1f%% of c\"%(V_He/MKS.c*100.0,Veff/MKS.c*100.0))"
   ]
  },
  {
   "cell_type": "markdown",
   "metadata": {},
   "source": [
    "## Mass definitions\n",
    "\n",
    "Let's define the following quantities:\n",
    "* m0 - Mass of craft with no fuel\n",
    "* mt - turnover mass\n",
    "* mi - initial mass - craft plus fuel\n",
    "* mdot - rate of fuel usage\n",
    "* D = total distance; T = total trip time\n",
    "* v0 = Initial velocity - assuming a tug to get started\n",
    "\n",
    "  Now let's calculate these quantities, assuming the rocket equation:\n",
    "$\\rm v_f = v_0 + v_{eff} \\log{\\frac{m_i}{m_f}}$\n",
    "* Since the velocity at turnover is the same accelerating and declerating, we must have:\n",
    "* $\\rm \\log(\\frac{m_t}{m_0}) = \\log(\\frac{m_i}{m_t}) + v_0$\n",
    "* $\\rm m_t = \\sqrt{m_0 m_i} \\exp(\\frac{v_0}{2 v_{eff}})= \\sqrt{m_0 (m_0 + mdot T)} \\exp(\\frac{v_0}{2 v_{eff}})$"
   ]
  },
  {
   "cell_type": "code",
   "execution_count": null,
   "metadata": {},
   "outputs": [],
   "source": [
    "# I've refined these now to allow for an initial velocity.\n",
    "# Velocities are in m/s, distance in LY, and times in years\n",
    "# Masses in kg, and mdot in kg/s\n",
    "\n",
    "def Velocity(V0, Veff, mf, mi, mdot, sign):\n",
    "    # From the rocket equation\n",
    "    # sign = 1.0: accel; sign = -1.0: decel    \n",
    "    return V0 + sign * Veff * np.log(mi / mf)\n",
    "\n",
    "def Distance(V0, Veff, mf, mi, mdot, sign):\n",
    "    # From integrating the rocket equation\n",
    "    # sign = 1.0: accel; sign = -1.0: decel\n",
    "    t = abs((mi - mf) / mdot)\n",
    "    x0 = V0 * t\n",
    "    x1 = Veff * t\n",
    "    x2 = Veff * (mi / mdot) * (1.0 - mdot * t / mi) * np.log(1.0 - mdot * t / mi)\n",
    "    return (x0 + sign * x1 + sign * x2) / MKS.ly\n",
    "\n",
    "def TotalDistance(V0, Veff, m0, mdot, T):\n",
    "    # Total distance traveled given m0, mdot, V0, and time T\n",
    "    mi = m0 + mdot * T * MKS.yr\n",
    "    mt = np.sqrt(m0 * (m0 + mdot * T * MKS.yr)) * np.exp( V0 / (2.0 * Veff))\n",
    "    Tt = (mi - mt) / mdot / MKS.yr\n",
    "    Vt = Velocity(V0, Veff, mt, mi, mdot, 1.0) # V at turnover\n",
    "    d_accel = Distance(V0, Veff, mt, mi, mdot, 1.0)\n",
    "    d_decel = Distance(Vt, Veff, m0, mt, mdot, -1.0)\n",
    "    return d_accel + d_decel\n",
    "\n",
    "def TotalTime(V0, Veff, m0, mdot, D, Tguess):\n",
    "    # Invert TotalDistance(T) using Newton's method\n",
    "    # Gives total time to travel a distance D given m0, mdot, and V0\n",
    "    d = TotalDistance(V0, Veff, m0, mdot, Tguess)\n",
    "    T = Tguess\n",
    "    error = D - d\n",
    "    count = 0\n",
    "    while error > 1.0E-9 and count < 20:\n",
    "        d = TotalDistance(V0, Veff, m0, mdot, T)\n",
    "        dp = TotalDistance(V0, Veff, m0, mdot, T * 1.01)\n",
    "        dDdT = (dp - d) / (T * .01)\n",
    "        T = T - (d - D) / dDdT\n",
    "        d = TotalDistance(V0, Veff, m0, mdot, T)\n",
    "        error = abs(D - d)\n",
    "        count += 1\n",
    "    if count > 15:\n",
    "        print(\"Failed to converge\")\n",
    "        return 0.0\n",
    "    else:\n",
    "        return T\n"
   ]
  },
  {
   "cell_type": "code",
   "execution_count": null,
   "metadata": {},
   "outputs": [],
   "source": [
    "nsteps = 500\n",
    "m0 = 2.0E8 # Empty mass in kg. About 2 aircraft carriers\n",
    "mdot = 0.20 # Fuel usage in kg/s\n",
    "D = 4.3 # Travel distance in LY (Alpha Centauri)\n",
    "plt.figure(figsize = (16,8))\n",
    "for v0 in [0.0, 2.0]:\n",
    "    print(\"Initial velocity = %.1f%% of c\"%v0)\n",
    "    V0 = v0 / 100.0 * MKS.c\n",
    "    T = TotalTime(V0, Veff, m0, mdot, D, 100)\n",
    "    print(\"Total time = %.1f years\"%T)\n",
    "    mi = m0 + mdot * TotalTime(V0, Veff, m0, mdot, D, 100) * MKS.yr\n",
    "    print(\"Initial mass = %.2g kg = %.1f times m0\"%(mi,mi/m0))\n",
    "    mt = np.sqrt(m0 * (m0 + T * mdot * MKS.yr)) * np.exp( V0 / (2.0 * Veff))\n",
    "    print(\"Turnover mass = %.2g kg = %.1f times m0\"%(mt,mt/m0))\n",
    "    Tt = (mi - mt) / mdot / MKS.yr\n",
    "    print(\"Turnover time = %.1f years\"%Tt)\n",
    "    Vp = Velocity(V0, Veff, mt, mi, mdot, 1.0) / MKS.c * 100.0\n",
    "    print(\"Peak velocity = %.1f%% of c\"%Vp)\n",
    "    Thrust = Veff * mdot\n",
    "    Ai = Thrust / mi / 9.8\n",
    "    Af = Thrust / m0 / 9.8\n",
    "    print(\"Thrust = %.3g Nt\"%Thrust)\n",
    "    print(\"Initial acceleration = %.3g g, Final acceleration = %.3g g\"%(Ai,Af))\n",
    "    print(\"Fusion power = %.1f TW\"%(mdot * EDD / (mDD * MKS.mp) / 1.0E12))\n",
    "    print(\"Exhaust power = %.1f TW\"%(mdot * Veff**2 / 2.0E12))\n",
    "\n",
    "    times = np.linspace(0, T, nsteps)\n",
    "    dt = T / float(nsteps - 1)\n",
    "    speeds = []\n",
    "    distances = [0.0]\n",
    "    Vt = Velocity(V0, Veff, mt, mi, mdot, 1.0) # At turnover\n",
    "    Dt = Distance(V0, Veff, mt, mi, mdot, 1.0) # At turnover\n",
    "    for t in times:\n",
    "        m = mi - mdot * t * MKS.yr\n",
    "        if t < Tt: # Accel\n",
    "            speeds.append(Velocity(V0, Veff, m, mi, mdot, 1.0) / MKS.c)\n",
    "            distances.append(Distance(V0, Veff, m, mi, mdot, 1.0))\n",
    "        else: # Decel\n",
    "            speeds.append(Velocity(Vt, Veff, m, mt, mdot, -1.0) / MKS.c)\n",
    "            distances.append(Dt + Distance(Vt, Veff, m, mt, mdot, -1.0))\n",
    "    distances.remove(distances[-1])\n",
    "    plt.subplot(1,2,1)\n",
    "    plt.plot(times, speeds, label = 'V0 = %.1f%% of c'%v0)\n",
    "    plt.text(Tt*0.95, Vp/100.0*1.05, \"Turnover\", fontsize=12)\n",
    "    plt.subplot(1,2,2)\n",
    "    plt.plot(times, distances, label = 'V0 = %.1f%% of c'%v0)\n",
    "    print(\"\")\n",
    "plt.subplot(1,2,1)\n",
    "plt.title(\"Speed vs time\")\n",
    "plt.ylim(0, 0.08)\n",
    "plt.xlabel(\"Time(yr)\")\n",
    "plt.ylabel(\"Speed (fraction of c)\")\n",
    "plt.legend()\n",
    "plt.subplot(1,2,2)\n",
    "plt.title(\"Distance vs time\")\n",
    "plt.ylim(0, 5.0)\n",
    "plt.xlabel(\"Time(yr)\")\n",
    "plt.ylabel(\"Distance (ly)\")\n",
    "plt.legend()\n",
    "plt.show()"
   ]
  },
  {
   "cell_type": "code",
   "execution_count": null,
   "metadata": {},
   "outputs": [],
   "source": []
  },
  {
   "cell_type": "code",
   "execution_count": null,
   "metadata": {},
   "outputs": [],
   "source": [
    "# What about going further?\n",
    "# There are more than 20 stars within 12 LY\n",
    "m0 = 2.0E8\n",
    "mdot = 0.20\n",
    "V0 = 0.04 * MKS.c\n",
    "D = 12.0\n",
    "T = TotalTime(V0, Veff, m0, mdot, D, 100)\n",
    "print(\"Total time = %.1f years\"%T)\n",
    "mi = m0 + mdot * TotalTime(V0, Veff, m0, mdot, D, 100) * MKS.yr\n",
    "print(\"Initial mass = %.2g kg = %.1f times m0\"%(mi,mi/m0))\n",
    "mt = np.sqrt(m0 * (m0 + T * mdot * MKS.yr)) * np.exp( V0 / (2.0 * Veff))\n",
    "print(\"Turnover mass = %.2g kg = %.1f times m0\"%(mt,mt/m0))\n",
    "Tt = (mi - mt) / mdot / MKS.yr\n",
    "print(\"Turnover time = %.1f years\"%Tt)\n",
    "Vp = Velocity(V0, Veff, mt, mi, mdot, 1.0) / MKS.c * 100.0\n",
    "print(\"Peak velocity = %.1f%% of c\"%Vp)"
   ]
  },
  {
   "cell_type": "code",
   "execution_count": null,
   "metadata": {},
   "outputs": [],
   "source": [
    "# How long does it take to tow it up to initial speed?\n",
    "# Assume the tow distance equal to the diameter of Jupiter's orbit.\n",
    "# So it would take about 1.5 years to get to 2% of c, but this saves\n",
    "# more than 60 years of travel time.\n",
    "\n",
    "As = []\n",
    "Vs = []\n",
    "Ts = []\n",
    "for i in range(100):\n",
    "    a = 0.0001 * float(i+1)\n",
    "    As.append(a)\n",
    "    d = 10.0 * MKS.AU # Diameter of Jupiter's orbit\n",
    "    v = np.sqrt(2*a*d)\n",
    "    Vs.append(v / MKS.c *100.0)\n",
    "    Ts.append(v / a / MKS.yr)\n",
    "\n",
    "plt.figure(figsize = (16,8))\n",
    "plt.subplot(1,2,1)\n",
    "plt.plot(As, Vs) \n",
    "plt.xlabel(\"Acceleration ( m/s)\")\n",
    "plt.ylabel(\"Velocity (% of c)\")\n",
    "plt.subplot(1,2,2)\n",
    "plt.plot(As, Ts) \n",
    "plt.xlabel(\"Acceleration ( m/s)\")\n",
    "plt.ylabel(\"Time required (yr)\")\n",
    "plt.show()"
   ]
  },
  {
   "cell_type": "code",
   "execution_count": null,
   "metadata": {},
   "outputs": [],
   "source": [
    "# How large does the plasma volume need to be?\n",
    "# Assume the following values:\n",
    "\n",
    "sigmaV = 2.0E-22 # m^3/s\n",
    "n = 1.0E20 # Density in m^-3\n",
    "Rho_f = EDD * n * n * sigmaV\n",
    "print(\"Power density = %.3g W/m^3\"%Rho_f)\n",
    "P_f = mdot * EDD / (mDD * MKS.mp)\n",
    "Vol = P_f / Rho_f\n",
    "Radius = (3.0 / (4.0 * np.pi) * Vol)**(1.0/3.0)\n",
    "print(\"Fusion volume = %.3g m^3. Radius of %.1f m\"%(Vol, Radius))"
   ]
  },
  {
   "cell_type": "code",
   "execution_count": null,
   "metadata": {},
   "outputs": [],
   "source": [
    "# What is the thickness of the fuel shell?\n",
    "# Density of solid D2 is about 160 kg/m^3\n",
    "\n",
    "rho_fuel = 160.0 # kg/m^3\n",
    "m_fuel = mi - m0 # kg\n",
    "V_shell = m_fuel / rho_fuel # m^3\n",
    "A_shell = 2.0 * np.pi * 100.0 * 600.0 + 2.0 * np.pi * 100.0**2 # m^2\n",
    "T_shell = V_shell / A_shell\n",
    "print(\"Fuel shell thickness is about %.1f m\"%T_shell)\n",
    "Image(filename='/Users/cslage/Personal/Starfarer/Vessel.png')"
   ]
  },
  {
   "cell_type": "code",
   "execution_count": null,
   "metadata": {},
   "outputs": [],
   "source": [
    "# What would be the rotational speed?  Assume 0.8g\n",
    "acc = 0.8 * 9.8 # m/s^2\n",
    "omega = np.sqrt(acc / 100.0)\n",
    "RPM = 2.0 * np.pi * 60.0 * omega\n",
    "print(\"Rotational speed = %.1f RPM\"%RPM)"
   ]
  },
  {
   "cell_type": "code",
   "execution_count": null,
   "metadata": {},
   "outputs": [],
   "source": []
  }
 ],
 "metadata": {
  "kernelspec": {
   "display_name": "Python 2",
   "language": "python",
   "name": "python2"
  },
  "language_info": {
   "codemirror_mode": {
    "name": "ipython",
    "version": 2
   },
   "file_extension": ".py",
   "mimetype": "text/x-python",
   "name": "python",
   "nbconvert_exporter": "python",
   "pygments_lexer": "ipython2",
   "version": "2.7.17"
  }
 },
 "nbformat": 4,
 "nbformat_minor": 1
}
