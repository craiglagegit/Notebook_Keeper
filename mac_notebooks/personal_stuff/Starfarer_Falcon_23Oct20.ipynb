{
 "cells": [
  {
   "cell_type": "code",
   "execution_count": null,
   "metadata": {},
   "outputs": [],
   "source": [
    "import numpy as np\n",
    "import matplotlib.pyplot as plt\n",
    "from constants import CGS, MKS"
   ]
  },
  {
   "cell_type": "markdown",
   "metadata": {},
   "source": [
    "This is from the Wikipedia entry on the Falcon Merlin engine:\n",
    "As configured for use on Falcon 1 vehicles, the Merlin 1C had a sea level thrust of 350 kN (78,000 lbf), a vacuum thrust of 400 kN (90,000 lbf) and a vacuum specific impulse of 304 s (2.98 km/s). In this configuration, the engine consumed 140 kg (300 lb) of propellant per second.\n",
    "\n",
    "In addition, we need the fact that kerosene has a heat of combustion of 46.2 MJ/kg.  Kerosene is approximately $C_{14}H_{30}$  Complete combustion of one molecule of kerosene would require 43 O atoms."
   ]
  },
  {
   "cell_type": "code",
   "execution_count": null,
   "metadata": {},
   "outputs": [],
   "source": [
    "# So the heat of combustion inculding the oxidizer is:\n",
    "Ef = 46.2E6 *(14.0*12.0 + 30.0) / ( 14.0 * 12.0 + 30.0 + 43.0 * 16.0) \n",
    "print(\"Ef = %.3g\"%Ef)"
   ]
  },
  {
   "cell_type": "code",
   "execution_count": null,
   "metadata": {},
   "outputs": [],
   "source": [
    "# Power used in fuel consumption:\n",
    "Mf = 140.0 # kg of fuel per second\n",
    "Pf = Mf * Ef # Energy produced by fuel combustion per second\n",
    "Veff = 3.0E3 # Effective exhaust velocity\n",
    "Pe = Mf * Veff * Veff / 2.0 # Kinetic energy of exhaust per second\n",
    "eta = Pe / Pf # efficiency\n",
    "print(\"Pf = %.3g, Pe = %.3g, Efficency + %.3f\"%(Pf,Pe,eta))"
   ]
  },
  {
   "cell_type": "code",
   "execution_count": null,
   "metadata": {},
   "outputs": [],
   "source": [
    "Pressure = 6.8E6 # 6.8 MPa \n",
    "L = 3.0 # meters\n",
    "D = 3.0 # m\n",
    "F = 4.11E5 # Thrust in Nt\n",
    "A = np.pi * D * D / 4.0\n",
    "print(A, Pressure * A)"
   ]
  },
  {
   "cell_type": "markdown",
   "metadata": {
    "collapsed": true
   },
   "source": [
    "## D-D Fusion.\n",
    "\n",
    "First some basic quantities:\n",
    "\n",
    "* Assume D2 fuel, DD fusion with efficiency $\\eta$ at turning fusion power into exhaust power.  \n",
    "* DD fusion energy = $\\rm E_{DD}$ = 10 MeV per DD pair.\n",
    "* $\\rm V_{eff} = \\sqrt{2 \\eta E_{DD} / m_{DD}}$\n",
    "* So: $\\rm V_{eff} = \\sqrt{2 \\eta E_{DD} / m_{DD}}$"
   ]
  },
  {
   "cell_type": "code",
   "execution_count": null,
   "metadata": {},
   "outputs": [],
   "source": [
    "eta = 0.40\n",
    "mDD = 4.0\n",
    "EDD = 1.0E7 * MKS.eV\n",
    "Veff = np.sqrt(2 * eta * EDD / (mDD * MKS.mp))\n",
    "print(\"Veff = %.4g m/s = %.1f%% of c\"%(Veff,Veff/MKS.c*100.0))"
   ]
  },
  {
   "cell_type": "markdown",
   "metadata": {},
   "source": [
    "## Mass definitions\n",
    "\n",
    "Let's define the following quantities:\n",
    "* m0 - Mass of craft with no fuel\n",
    "* mt - turnover mass\n",
    "* mi - initial mass - craft plus fuel\n",
    "* D = total distance; T = total trip time\n",
    "\n",
    "  Now let's calculate these quantities, assuming the rocket equation:\n",
    "$\\rm v_f = v_{eff} \\log{\\frac{m_i}{m_f}}$\n",
    "* Since the velocity at turnover is the same accelerating and declerating, we must have:\n",
    "* $\\rm \\frac{m_t}{m_0} = \\frac{m_i}{m_t}$\n",
    "* $\\rm m_t = \\sqrt{m_0 m_i} = \\sqrt{m_0 (m_0 + mdot T)}$"
   ]
  },
  {
   "cell_type": "code",
   "execution_count": null,
   "metadata": {},
   "outputs": [],
   "source": [
    "def Velocity(Veff, mf, mi, mdot):\n",
    "    # From the rocket equation\n",
    "    return Veff * np.log(mi / mf)\n",
    "\n",
    "def Distance(Veff, mf, mi, mdot):\n",
    "    # From integrating the rocket equation\n",
    "    t = abs((mi - mf) / mdot)\n",
    "    x1 = Veff * t\n",
    "    x2 = Veff * (mi / mdot) * (1.0 - mdot * t / mi) * np.log(1.0 - mdot * t / mi)\n",
    "    return (x1 + x2) / MKS.ly\n",
    "\n",
    "def TotalDistance(Veff, m0, mdot, T):\n",
    "    # Total distance traveled given m0, mdot and time T\n",
    "    mi = m0 + mdot * T *MKS.yr\n",
    "    mt = np.sqrt(m0 * (m0 + mdot * T * MKS.yr))\n",
    "    Tt = (mi - mt) / mdot / MKS.yr\n",
    "    Vt = Velocity(Veff, mt, mi, mdot) / MKS.c # V at turnover\n",
    "    d_accel = Distance(Veff, mt, mi, mdot)\n",
    "    d_decel = Vt * (T - Tt) - Distance(Veff, m0, mt, mdot)\n",
    "    return d_accel + d_decel\n",
    "\n",
    "def TotalTime(Veff, m0, mdot, D, Tguess):\n",
    "    # Invert TotalDistance(T) using Newton's method\n",
    "    # Gives total time to travel a distance D given m0 and mdot\n",
    "    d = TotalDistance(Veff, m0, mdot, Tguess)\n",
    "    T = Tguess\n",
    "    error = D - d\n",
    "    count = 0\n",
    "    while error > 1.0E-6 and count < 20:\n",
    "        d = TotalDistance(Veff, m0, mdot, T)\n",
    "        dp = TotalDistance(Veff, m0, mdot, T * 1.01)\n",
    "        dDdT = (dp - d) / (T * .01)\n",
    "        T = T - (d - D) / dDdT\n",
    "        d = TotalDistance(Veff, m0, mdot, T)\n",
    "        error = abs(D - d)\n",
    "        count += 1\n",
    "    if count > 15:\n",
    "        print(\"Failed to converge\")\n",
    "        return 0.0\n",
    "    else:\n",
    "        return T\n"
   ]
  },
  {
   "cell_type": "code",
   "execution_count": null,
   "metadata": {},
   "outputs": [],
   "source": [
    "m0 = 2.0E8\n",
    "mdot = 0.20\n",
    "D = 4.3\n",
    "T = TotalTime(Veff, m0, mdot, D, 100)\n",
    "print(\"Total time = %.1f years\"%T)\n",
    "mi = m0 + mdot * TotalTime(Veff, m0, mdot, D, 100) * MKS.yr\n",
    "print(\"Initial mass = %.2g kg = %.1f times m0\"%(mi,mi/m0))\n",
    "mt = np.sqrt(m0 * (m0 + T * mdot * MKS.yr))\n",
    "print(\"Turnover mass = %.2g kg = %.1f times m0\"%(mt,mt/m0))\n",
    "Tt = (mi - mt) / mdot / MKS.yr\n",
    "print(\"Turnover time = %.1f years\"%Tt)\n",
    "Vp = Velocity(Veff, mt, mi, mdot) / MKS.c * 100.0\n",
    "print(\"Peak velocity = %.1f%% of c\"%Vp)\n",
    "Thrust = Veff * mdot\n",
    "Ai = Thrust / mi / 9.8\n",
    "Af = Thrust / m0 / 9.8\n",
    "print(\"Thrust = %.3g Nt\"%Thrust)\n",
    "print(\"Initial acceleration = %.3g g, Final acceleration = %.3g g\"%(Ai,Af))"
   ]
  },
  {
   "cell_type": "code",
   "execution_count": null,
   "metadata": {},
   "outputs": [],
   "source": [
    "nsteps = 500\n",
    "times = np.linspace(0, T, nsteps)\n",
    "dt = T / float(nsteps - 1)\n",
    "speeds = []\n",
    "distances = [0.0]\n",
    "Vt = Velocity(Veff, mt, mi, mdot) / MKS.c # At turnover\n",
    "Dt = Distance(Veff, mt, mi, mdot) # At turnover\n",
    "for t in times:\n",
    "    m = mi - mdot * t * MKS.yr\n",
    "    if t < Tt:\n",
    "        speeds.append(Velocity(Veff, m, mi, mdot) / MKS.c)\n",
    "        distances.append(Distance(Veff, m, mi, mdot))\n",
    "    else:\n",
    "        speeds.append(Vt - Velocity(Veff, m, mt, mdot) / MKS.c)\n",
    "        distances.append(Dt + Vt * (t - Tt) - Distance(Veff, m, mt, mdot))\n",
    "distances.remove(distances[-1])\n",
    "plt.figure(figsize = (16,8))\n",
    "plt.subplot(1,2,1)\n",
    "plt.title(\"Speed vs time\")\n",
    "plt.plot(times, speeds)\n",
    "plt.ylim(0, 0.050)\n",
    "plt.xlabel(\"Time(yr)\")\n",
    "plt.ylabel(\"Speed (fraction of c)\")\n",
    "plt.text(Tt*0.95, Vp/100.0*1.05, \"Turnover\", fontsize=12)\n",
    "plt.subplot(1,2,2)\n",
    "plt.title(\"Distance vs time\")\n",
    "plt.plot(times, distances)\n",
    "plt.ylim(0, 5.0)\n",
    "plt.xlabel(\"Time(yr)\")\n",
    "plt.ylabel(\"Distance (ly)\")\n",
    "plt.show()"
   ]
  },
  {
   "cell_type": "code",
   "execution_count": null,
   "metadata": {},
   "outputs": [],
   "source": [
    "nsteps = 100\n",
    "mdots = np.linspace(0, 0.5, nsteps)\n",
    "mdots = np.delete(mdots, mdots[0])\n",
    "powers = []\n",
    "times = []\n",
    "D = 4.3\n",
    "for mdot in mdots:\n",
    "    powers.append(eta * EDD / (mDD * MKS.mp) * mdot * 1E-12)\n",
    "    times.append(TotalTime(Veff, m0, mdot, D, 100))\n",
    "plt.figure(figsize = (16,8))\n",
    "plt.subplot(1,2,1)\n",
    "plt.title(\"Electrical power needed vs mdot\")\n",
    "plt.plot(mdots, powers)\n",
    "plt.plot([0.2,0.2], [0.0,50.0], ls = '--', color = 'k')\n",
    "plt.ylim(0, 50.0)\n",
    "plt.xlabel(\"mdot(kg/sec)\")\n",
    "plt.ylabel(\"Power (TW)\")\n",
    "plt.subplot(1,2,2)\n",
    "plt.title(\"Trip time vs mdot\")\n",
    "plt.plot(mdots, times)\n",
    "plt.plot([0.2,0.2], [0.0,800], ls = '--', color = 'k')\n",
    "plt.ylim(0, 800.0)\n",
    "plt.xlabel(\"mdot(kg/sec)\")\n",
    "plt.ylabel(\"Trip Time (years)\")\n",
    "\n",
    "\n",
    "plt.show()"
   ]
  },
  {
   "cell_type": "code",
   "execution_count": null,
   "metadata": {},
   "outputs": [],
   "source": []
  },
  {
   "cell_type": "code",
   "execution_count": null,
   "metadata": {},
   "outputs": [],
   "source": [
    "# What about going further?\n",
    "m0 = 2.0E8\n",
    "mdot = 0.20\n",
    "D = 10.0\n",
    "T = TotalTime(Veff, m0, mdot, D, 100)\n",
    "print(\"Total time = %.1f years\"%T)\n",
    "mi = m0 + mdot * TotalTime(Veff, m0, mdot, D, 100) * MKS.yr\n",
    "print(\"Initial mass = %.2g kg = %.1f times m0\"%(mi,mi/m0))\n",
    "mt = np.sqrt(m0 * (m0 + T * mdot * MKS.yr))\n",
    "print(\"Turnover mass = %.2g kg = %.1f times m0\"%(mt,mt/m0))\n",
    "Tt = (mi - mt) / mdot / MKS.yr\n",
    "print(\"Turnover time = %.1f years\"%Tt)\n",
    "Vp = Velocity(Veff, mt, mi, mdot) / MKS.c * 100.0\n",
    "print(\"Peak velocity = %.1f%% of c\"%Vp)"
   ]
  },
  {
   "cell_type": "code",
   "execution_count": null,
   "metadata": {},
   "outputs": [],
   "source": []
  }
 ],
 "metadata": {
  "kernelspec": {
   "display_name": "Python 2",
   "language": "python",
   "name": "python2"
  },
  "language_info": {
   "codemirror_mode": {
    "name": "ipython",
    "version": 2
   },
   "file_extension": ".py",
   "mimetype": "text/x-python",
   "name": "python",
   "nbconvert_exporter": "python",
   "pygments_lexer": "ipython2",
   "version": "2.7.17"
  }
 },
 "nbformat": 4,
 "nbformat_minor": 1
}
