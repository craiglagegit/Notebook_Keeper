{
 "cells": [
  {
   "cell_type": "markdown",
   "metadata": {},
   "source": [
    "## Mandelbrot set"
   ]
  },
  {
   "cell_type": "code",
   "execution_count": null,
   "metadata": {},
   "outputs": [],
   "source": [
    "import numpy as np\n",
    "import matplotlib.pyplot as plt"
   ]
  },
  {
   "cell_type": "code",
   "execution_count": null,
   "metadata": {},
   "outputs": [],
   "source": [
    "def mandel_pt(c, MAX_ITER=100):\n",
    "    \"\"\"Calculates the number of iterations for point <c> for the Mandelbrot set\"\"\"\n",
    "    iter = 0\n",
    "    z = 0\n",
    "    while (iter < MAX_ITER):\n",
    "        z = z**2 + c\n",
    "        iter+= 1\n",
    "        if abs(z) > 2.0:\n",
    "            break\n",
    "    return iter if iter!=MAX_ITER else 0"
   ]
  },
  {
   "cell_type": "code",
   "execution_count": null,
   "metadata": {},
   "outputs": [],
   "source": [
    "def mandel(width, height, zmin, zmax):\n",
    "    \"\"\"Calculates the mandelbrot set for a certain image size (width, height) over a certain rectangle (zmin->zmax)\"\"\"\n",
    "\n",
    "    # This function maps an (i,j) position of the screen to a complex number inside of the rectangle\n",
    "    def map_pos(i, j):\n",
    "        return zmin + j*(zmax-zmin).real/width + i*(zmax-zmin).imag/height*1j    \n",
    "    \n",
    "    # Now return the Mandelbrot set by mapping each point to the corresponding number of iterations\n",
    "    return [[mandel_pt(map_pos(i, j)) for j in range(width)] for i in range(height)]"
   ]
  },
  {
   "cell_type": "code",
   "execution_count": null,
   "metadata": {},
   "outputs": [],
   "source": [
    "# Width and height of the image\n",
    "(width, height) = (1024, 768)\n",
    "\n",
    "# The complex plane to map\n",
    "(zmin, zmax) = (-2.2-1.5j, +2.2+1.5j)\n",
    "\n",
    "# The Mandelbrot set\n",
    "man = mandel(width, height, zmin, zmax)"
   ]
  },
  {
   "cell_type": "code",
   "execution_count": null,
   "metadata": {},
   "outputs": [],
   "source": [
    "# Width and height of the image\n",
    "(width, height) = (1024, 1024)\n",
    "\n",
    "# The complex plane to map\n",
    "(zmin, zmax) = (-1.5+1.0j, 0.5-1.0j)\n",
    "#(zmin, zmax) = (-0.3+1.0j, -0.1+1.2j)\n",
    "\n",
    "# The Mandelbrot set\n",
    "man = mandel(width, height, zmin, zmax)"
   ]
  },
  {
   "cell_type": "code",
   "execution_count": null,
   "metadata": {},
   "outputs": [],
   "source": [
    "plt.figure(figsize=(16,16))\n",
    "plt.axis('off')\n",
    "plt.imshow(man, aspect=1.0)"
   ]
  },
  {
   "cell_type": "code",
   "execution_count": null,
   "metadata": {},
   "outputs": [],
   "source": []
  }
 ],
 "metadata": {
  "kernelspec": {
   "display_name": "Python 3 (ipykernel)",
   "language": "python",
   "name": "python3"
  },
  "language_info": {
   "codemirror_mode": {
    "name": "ipython",
    "version": 3
   },
   "file_extension": ".py",
   "mimetype": "text/x-python",
   "name": "python",
   "nbconvert_exporter": "python",
   "pygments_lexer": "ipython3",
   "version": "3.9.12"
  }
 },
 "nbformat": 4,
 "nbformat_minor": 4
}
