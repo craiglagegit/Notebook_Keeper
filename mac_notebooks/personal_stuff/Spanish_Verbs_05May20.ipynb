{
 "cells": [
  {
   "cell_type": "code",
   "execution_count": null,
   "metadata": {},
   "outputs": [],
   "source": [
    "import sys, glob, datetime, pandas\n",
    "import numpy as np\n",
    "import matplotlib.pyplot as plt"
   ]
  },
  {
   "cell_type": "code",
   "execution_count": null,
   "metadata": {},
   "outputs": [],
   "source": [
    "verb_wb = '/Users/cslage/Learning/code/languages/python/projects/language_learning/verbs/fred-jehle-spanish-verbs/jehle_verb_database.csv'\n",
    "verb_data = pandas.read_csv(verb_wb)"
   ]
  },
  {
   "cell_type": "code",
   "execution_count": null,
   "metadata": {},
   "outputs": [],
   "source": [
    "print(type(verb_data))\n",
    "print(verb_data[2:3].keys())\n",
    "print(verb_data[2509:2510]['tense'])\n",
    "print(verb_data[2509:2510]['form_1s'])"
   ]
  },
  {
   "cell_type": "code",
   "execution_count": null,
   "metadata": {},
   "outputs": [],
   "source": [
    "test = verb_data[(verb_data['infinitive'] == 'dormir') & (verb_data['mood'] == 'Indicativo') & (verb_data['tense'] == 'Presente')]\n",
    "#test = verb_data[(verb_data['infinitive'] == 'comer') & (verb_data['mood'] == 'Indicativo') & (verb_data['tense'] == 'Futuro')]"
   ]
  },
  {
   "cell_type": "code",
   "execution_count": null,
   "metadata": {},
   "outputs": [],
   "source": [
    "print(test['form_2p'], test['gerund'])"
   ]
  },
  {
   "cell_type": "code",
   "execution_count": null,
   "metadata": {},
   "outputs": [],
   "source": [
    "from fuzzywuzzy import fuzz\n",
    "from fuzzywuzzy import process"
   ]
  },
  {
   "cell_type": "code",
   "execution_count": null,
   "metadata": {},
   "outputs": [],
   "source": [
    "word_1 = 'preterito'\n",
    "word_2 = 'pretérite'\n",
    "fuzz.ratio(word_1, word_2)"
   ]
  },
  {
   "cell_type": "code",
   "execution_count": null,
   "metadata": {},
   "outputs": [],
   "source": [
    "test2 = test = verb_data[(verb_data['mood'] == 'Indicativo') & (verb_data['tense'] == 'Presente')]"
   ]
  },
  {
   "cell_type": "code",
   "execution_count": null,
   "metadata": {},
   "outputs": [],
   "source": [
    "print(test2['infinitive'][90])"
   ]
  },
  {
   "cell_type": "code",
   "execution_count": null,
   "metadata": {},
   "outputs": [],
   "source": [
    "word_test = 'deseñar'\n",
    "best_distance = 0\n",
    "best_fit = ''\n",
    "for key in test2['infinitive'].keys():\n",
    "    word = test2['infinitive'][key]\n",
    "    distance = fuzz.ratio(word, word_test)\n",
    "    if (distance > 70) and (distance > best_distance):\n",
    "        best_distance = distance\n",
    "        best_fit = word\n",
    "print(word_test, best_fit, best_distance)"
   ]
  },
  {
   "cell_type": "code",
   "execution_count": null,
   "metadata": {},
   "outputs": [],
   "source": [
    "def readWords(filename):\n",
    "    words = []\n",
    "    file = open(filename, 'r')\n",
    "    lines = file.readlines()\n",
    "    file.close()\n",
    "    for line in lines:\n",
    "        items = line.split('\\t')\n",
    "        word = items[1].strip(' ')\n",
    "        words.append(word)\n",
    "    return words"
   ]
  },
  {
   "cell_type": "code",
   "execution_count": null,
   "metadata": {},
   "outputs": [],
   "source": [
    "filename = '/Users/cslage/Learning/code/languages/python/projects/language_learning/spanish_vocab.txt'\n",
    "words = readWords(filename)\n",
    "print(words[78:80])"
   ]
  },
  {
   "cell_type": "code",
   "execution_count": null,
   "metadata": {},
   "outputs": [],
   "source": [
    "numFound = 0\n",
    "numNotFound = 0\n",
    "\n",
    "for word in words:\n",
    "    word_list = list(word)\n",
    "    found = False\n",
    "    if word_list[-1] == 'r' and word_list[-2] in ['a', 'e', 'i']:\n",
    "        for key in test2['infinitive'].keys():\n",
    "            verb = test2['infinitive'][key]\n",
    "            distance = fuzz.ratio(word, verb)\n",
    "            if distance == 100:\n",
    "                #print(\"Word %s found\"%word)\n",
    "                found = True\n",
    "                numFound += 1\n",
    "                break\n",
    "        if not found:\n",
    "            #print(\"Word %s not found\"%word)\n",
    "            numNotFound += 1\n",
    "print(\"%d found, %d not found\"%(numFound, numNotFound))\n",
    "        "
   ]
  },
  {
   "cell_type": "code",
   "execution_count": null,
   "metadata": {},
   "outputs": [],
   "source": []
  }
 ],
 "metadata": {
  "kernelspec": {
   "display_name": "Python 3",
   "language": "python",
   "name": "python3"
  },
  "language_info": {
   "codemirror_mode": {
    "name": "ipython",
    "version": 3
   },
   "file_extension": ".py",
   "mimetype": "text/x-python",
   "name": "python",
   "nbconvert_exporter": "python",
   "pygments_lexer": "ipython3",
   "version": "3.7.4"
  }
 },
 "nbformat": 4,
 "nbformat_minor": 2
}
