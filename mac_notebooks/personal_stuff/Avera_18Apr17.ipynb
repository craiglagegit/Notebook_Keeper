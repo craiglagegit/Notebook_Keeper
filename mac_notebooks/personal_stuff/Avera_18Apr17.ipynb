{
 "cells": [
  {
   "cell_type": "code",
   "execution_count": null,
   "metadata": {
    "jupyter": {
     "outputs_hidden": false
    }
   },
   "outputs": [],
   "source": [
    "from pylab import *\n",
    "import time"
   ]
  },
  {
   "cell_type": "code",
   "execution_count": null,
   "metadata": {
    "jupyter": {
     "outputs_hidden": false
    }
   },
   "outputs": [],
   "source": [
    "def A(rho, t):\n",
    "    def Eta_Closed(A, t):\n",
    "        # Calculate conformal time by inverting t(eta)\n",
    "        # through Newton's method\n",
    "        count = 0\n",
    "        error = 100.0\n",
    "        eta = (t / A)**(1.0/3.0)\n",
    "        while error > 1.0E-9 and count < 1000:\n",
    "            last_eta = eta\n",
    "            eta = eta - (A * (eta - sin(eta)) - t) / (A * (1.0 - cos(eta))) \n",
    "            if abs(eta) > 1.0E-9:\n",
    "                error = abs((eta - last_eta) / eta)\n",
    "            else:\n",
    "                error = 100.0\n",
    "            count += 1\n",
    "        if count > 999: print \"Failed to converge in Eta_Closed at t=%.3f!\"%t\n",
    "        return eta\n",
    "\n",
    "    def Eta_Open(A, t):\n",
    "        # Calculate conformal time by inverting t(eta)\n",
    "        # through Newton's method\n",
    "        count = 0\n",
    "        error = 100.0\n",
    "        eta = (t / A)**(1.0/3.0)\n",
    "        while error > 1.0E-9 and count < 1000:\n",
    "            last_eta = eta\n",
    "            eta = eta - (A * (sinh(eta) - eta) - t) / (A * (cosh(eta) - 1.0))\n",
    "            if abs(eta) > 1.0E-9:\n",
    "                error = abs((eta - last_eta) / eta)\n",
    "            else:\n",
    "                error = 100.0\n",
    "            count += 1\n",
    "        if count > 999: print \"Failed to converge in Eta_Closed at t=%.3f!\"%t\n",
    "        return eta\n",
    "\n",
    "    if abs(rho - 1.0) < 1.0E-6 or t < 1.0E-9: # Flat\n",
    "        return 6.0**(2.0 / 3.0) / 2.0 * t**(2.0/3.0)\n",
    "    elif rho > 1.0: # Closed\n",
    "        q0 = rho / 2.0\n",
    "        A = q0 / (2.0 * q0 - 1.0)#2.0 / 9.0\n",
    "        eta = Eta_Closed(A,t)\n",
    "        return A * (1.0 - cos(eta))\n",
    "    elif rho < 1.0: # open\n",
    "        q0 = rho / 2.0\n",
    "        A = q0 / (1.0 - 2.0 * q0)#2.0 / 9.0\n",
    "        eta = Eta_Open(A,t)\n",
    "        return A * (cosh(eta) - 1.0)\n",
    "\n"
   ]
  },
  {
   "cell_type": "code",
   "execution_count": null,
   "metadata": {
    "jupyter": {
     "outputs_hidden": false
    }
   },
   "outputs": [],
   "source": [
    "    A(2.0,0.02)"
   ]
  },
  {
   "cell_type": "code",
   "execution_count": null,
   "metadata": {
    "jupyter": {
     "outputs_hidden": false
    }
   },
   "outputs": [],
   "source": [
    "figure()\n",
    "ts = linspace(0.0, 1.0, 100)\n",
    "Aflat = []\n",
    "Aopen = []\n",
    "Aclosed = []\n",
    "for t in ts:\n",
    "    Aflat.append(A(1.0,t))\n",
    "    Aopen.append(A(0.8,t))\n",
    "    Aclosed.append(A(1.2,t))\n",
    "figure()\n",
    "plot(ts, Aflat, label = \"Flat\")\n",
    "plot(ts, Aopen, label = \"Open\")\n",
    "plot(ts, Aclosed, label = \"Closed\")\n",
    "legend()\n",
    "show()\n",
    "print A(1.0001,0.001)/A(1.0, 0.001), A(0.9999,0.001)/A(1.0, 0.001)\n",
    "print A(1.0001,0.01)/A(1.0, 0.01), A(0.9999,0.01)/A(1.0, 0.01)\n"
   ]
  },
  {
   "cell_type": "code",
   "execution_count": null,
   "metadata": {
    "jupyter": {
     "outputs_hidden": false
    }
   },
   "outputs": [],
   "source": [
    "eta = linspace(0.0, 2*pi, 500)\n",
    "A = 0.5\n",
    "yc = A*(eta - sin(eta))\n",
    "A = 5.0\n",
    "yo = A*(sinh(eta) - eta)\n",
    "figure()\n",
    "subplot(1,2,1)\n",
    "plot(eta, yc)\n",
    "subplot(1,2,2)\n",
    "plot(eta, yo)\n",
    "show()"
   ]
  },
  {
   "cell_type": "code",
   "execution_count": null,
   "metadata": {
    "jupyter": {
     "outputs_hidden": true
    }
   },
   "outputs": [],
   "source": [
    "def Eta_Closed(A, t):\n",
    "    count = 0\n",
    "    error = 100.0\n",
    "    eta = (t / A)**(1.0/3.0)\n",
    "    while error > 1.0E-9 and count < 1000:\n",
    "            last_eta = eta\n",
    "            eta = eta - (A * (eta - sin(eta)) - t) / (A * (1.0 - cos(eta))) \n",
    "            if abs(eta) > 1.0E-9:\n",
    "                error = abs((eta - last_eta) / eta)\n",
    "            else:\n",
    "                error = 100.0\n",
    "            count += 1\n",
    "    if count > 999: print \"Failed to converge in Eta_Closed at t=%.3f!\"%t\n",
    "    return eta\n"
   ]
  },
  {
   "cell_type": "code",
   "execution_count": null,
   "metadata": {
    "jupyter": {
     "outputs_hidden": false
    }
   },
   "outputs": [],
   "source": [
    "print Eta_Closed(1.0, 0.0001),  (6.0*0.0001)**(1.0/3.0) "
   ]
  },
  {
   "cell_type": "code",
   "execution_count": null,
   "metadata": {
    "jupyter": {
     "outputs_hidden": true
    }
   },
   "outputs": [],
   "source": [
    "def T2(rho, a):\n",
    "    if rho < 1.0:\n",
    "        D = (1.0 - rho)**(3.0 / 2.0)\n",
    "        term2 = sqrt(a - rho * a) * sqrt(rho + a - rho * a) \n",
    "        logterm = log(1.0 - 2.0 * a + 2.0 * (term2 + a) / rho)\n",
    "        term3 = 2.0 * term2 / D\n",
    "    else:\n",
    "        D = (-1.0 + rho)**(3.0 / 2.0)\n",
    "        term2 = sqrt(-a + rho * a) * sqrt(rho + a - rho * a) \n",
    "        logterm = log(1.0 - 2.0 * a + 2.0 * (term2 + a) / rho)\n",
    "        term3 = 2.0 * term2 / D\n",
    "    return term3 - rho / D * logterm"
   ]
  },
  {
   "cell_type": "code",
   "execution_count": null,
   "metadata": {
    "jupyter": {
     "outputs_hidden": false
    }
   },
   "outputs": [],
   "source": [
    "T2(1.01,1.0)"
   ]
  },
  {
   "cell_type": "code",
   "execution_count": null,
   "metadata": {
    "jupyter": {
     "outputs_hidden": false
    }
   },
   "outputs": [],
   "source": [
    "rho = 1.001\n",
    "for a in [0.1,0.5,0.8,1.0]:\n",
    "    t2 = T2(rho,a)\n",
    "    print a, t2, (t2**(2.0/3.0) / (T2(rho,1.0)**(2.0/3.0)))"
   ]
  },
  {
   "cell_type": "code",
   "execution_count": null,
   "metadata": {
    "jupyter": {
     "outputs_hidden": false
    }
   },
   "outputs": [],
   "source": [
    "figure()\n",
    "As = linspace(0.0, 100.0, 100)\n",
    "Tflat = []\n",
    "Topen = []\n",
    "for a in As:\n",
    "    Tflat.append(T2(0.9999,a))\n",
    "    Topen.append(T2(0.6,a))\n",
    "    #Aclosed.append(A(1.2,t))\n",
    "figure()\n",
    "plot(Tflat, As, label = \"Flat\")\n",
    "plot(Topen, As, label = \"Open\")\n",
    "#plot(ts, Aclosed, label = \"Closed\")\n",
    "legend()\n",
    "show()\n",
    "\n"
   ]
  },
  {
   "cell_type": "code",
   "execution_count": null,
   "metadata": {
    "jupyter": {
     "outputs_hidden": true
    }
   },
   "outputs": [],
   "source": []
  }
 ],
 "metadata": {
  "kernelspec": {
   "display_name": "Python 3 (ipykernel)",
   "language": "python",
   "name": "python3"
  },
  "language_info": {
   "codemirror_mode": {
    "name": "ipython",
    "version": 3
   },
   "file_extension": ".py",
   "mimetype": "text/x-python",
   "name": "python",
   "nbconvert_exporter": "python",
   "pygments_lexer": "ipython3",
   "version": "3.9.12"
  }
 },
 "nbformat": 4,
 "nbformat_minor": 4
}
