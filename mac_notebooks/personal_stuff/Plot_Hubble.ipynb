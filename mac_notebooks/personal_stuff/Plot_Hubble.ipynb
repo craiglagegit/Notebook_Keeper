{
 "cells": [
  {
   "cell_type": "code",
   "execution_count": null,
   "metadata": {},
   "outputs": [],
   "source": [
    "import numpy as np\n",
    "import matplotlib.pyplot as plt"
   ]
  },
  {
   "cell_type": "code",
   "execution_count": null,
   "metadata": {},
   "outputs": [],
   "source": [
    "opz=np.linspace(1, 1000, 1000)\n",
    "Om = 0.24\n",
    "Ol = 0.76\n",
    "H0 = 67.0\n",
    "H = H0 * np.sqrt(Om * opz*opz*opz + Ol)\n",
    "print(opz[0],H[0])"
   ]
  },
  {
   "cell_type": "code",
   "execution_count": null,
   "metadata": {},
   "outputs": [],
   "source": [
    "plt.figure()\n",
    "plt.plot(opz, H)\n",
    "plt.scatter(1.0, 72, label=\"Local\" )\n",
    "plt.scatter(1.0, 67, label=\"Planck\")\n",
    "plt.plot([1000,1000], [10,10000], ls='--', color = 'k')\n",
    "plt.plot([1,1], [10,50], ls='--', color = 'k')\n",
    "plt.xlim(10000, 0.1)\n",
    "plt.ylim(1.0, 1.0E7)\n",
    "plt.yscale('log')\n",
    "plt.xscale('log')\n",
    "plt.title(\"Hubble Constant vs Redshift\")\n",
    "plt.xlabel(\"Log (1+Redshift)\")\n",
    "plt.ylabel(\"Log H\")\n",
    "plt.legend()\n",
    "plt.text(2000, 1.2,\"CMB\")\n",
    "plt.text(2.0,1.2,\"Today\")\n",
    "plt.savefig(\"/Users/cslage/Desktop/Hubble_vs_Time.pdf\")"
   ]
  },
  {
   "cell_type": "code",
   "execution_count": null,
   "metadata": {},
   "outputs": [],
   "source": []
  }
 ],
 "metadata": {
  "kernelspec": {
   "display_name": "Python 3",
   "language": "python",
   "name": "python3"
  },
  "language_info": {
   "codemirror_mode": {
    "name": "ipython",
    "version": 3
   },
   "file_extension": ".py",
   "mimetype": "text/x-python",
   "name": "python",
   "nbconvert_exporter": "python",
   "pygments_lexer": "ipython3",
   "version": "3.4.3"
  }
 },
 "nbformat": 4,
 "nbformat_minor": 2
}
