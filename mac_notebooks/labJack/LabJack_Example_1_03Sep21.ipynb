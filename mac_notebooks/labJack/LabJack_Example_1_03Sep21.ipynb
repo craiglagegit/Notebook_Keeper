{
 "cells": [
  {
   "cell_type": "markdown",
   "id": "643d4e4d",
   "metadata": {},
   "source": [
    "## LabJack Example\\\n",
    "Demonstrates reading 2 analog inputs (AINs) in a loop from a LabJack.\n",
    "\n",
    "Relevant Documentation:\n",
    " \n",
    "LJM Library:\n",
    "    LJM Library Installer:\n",
    "        https://labjack.com/support/software/installers/ljm\n",
    "    LJM Users Guide:\n",
    "        https://labjack.com/support/software/api/ljm\n",
    "    Opening and Closing:\n",
    "        https://labjack.com/support/software/api/ljm/function-reference/opening-and-closing\n",
    "    Multiple Value Functions(such as eWriteNames):\n",
    "        https://labjack.com/support/software/api/ljm/function-reference/multiple-value-functions\n",
    "    Timing Functions(such as StartInterval):\n",
    "        https://labjack.com/support/software/api/ljm/function-reference/timing-functions\n",
    " \n",
    "T-Series and I/O:\n",
    "    Modbus Map:\n",
    "        https://labjack.com/support/software/api/modbus/modbus-map\n",
    "    Analog Inputs:\n",
    "        https://labjack.com/support/datasheets/t-series/ain"
   ]
  },
  {
   "cell_type": "code",
   "execution_count": null,
   "id": "84339cc7",
   "metadata": {},
   "outputs": [],
   "source": [
    "import sys\n",
    "import time\n",
    "import numpy as np\n",
    "import matplotlib.pyplot as plt\n",
    "\n",
    "from labjack import ljm"
   ]
  },
  {
   "cell_type": "code",
   "execution_count": null,
   "id": "5e619cdd",
   "metadata": {},
   "outputs": [],
   "source": [
    "# Open first found LabJack\n",
    "handle = ljm.openS(\"T7\", \"ANY\", \"ANY\")  # T7 device, Any connection, Any identifier"
   ]
  },
  {
   "cell_type": "code",
   "execution_count": null,
   "id": "7361fb56",
   "metadata": {},
   "outputs": [],
   "source": [
    "info = ljm.getHandleInfo(handle)\n",
    "print(\"Opened a LabJack with Device type: %i, Connection type: %i,\\n\"\n",
    "      \"Serial number: %i, IP address: %s, Port: %i,\\nMax bytes per MB: %i\" %\n",
    "      (info[0], info[1], info[2], ljm.numberToIP(info[3]), info[4], info[5]))\n",
    "\n",
    "deviceType = info[0]\n",
    "print(deviceType)"
   ]
  },
  {
   "cell_type": "code",
   "execution_count": null,
   "id": "8c55d08a",
   "metadata": {},
   "outputs": [],
   "source": [
    "# Open first found LabJack\n",
    "handle = ljm.openS(\"T7\", \"ethernet\", \"139.229.191.31\")  # T7 device, Any connection, Any identifier"
   ]
  },
  {
   "cell_type": "code",
   "execution_count": null,
   "id": "6ba7378e",
   "metadata": {},
   "outputs": [],
   "source": [
    "info = ljm.getHandleInfo(handle)\n",
    "print(\"Opened a LabJack with Device type: %i, Connection type: %i,\\n\"\n",
    "      \"Serial number: %i, IP address: %s, Port: %i,\\nMax bytes per MB: %i\" %\n",
    "      (info[0], info[1], info[2], ljm.numberToIP(info[3]), info[4], info[5]))\n",
    "\n",
    "deviceType = info[0]\n",
    "print(deviceType)"
   ]
  },
  {
   "cell_type": "code",
   "execution_count": null,
   "id": "92554557",
   "metadata": {},
   "outputs": [],
   "source": [
    "# Setup and call eWriteNames to configure AIN0 and AIN1 on the LabJack.\n",
    "# LabJack T7 and other devices configuration\n",
    "\n",
    "# AIN0 and AIN1:\n",
    "#   Negative channel = single ended (199)\n",
    "#   Range: +/-10.0 V (10.0)\n",
    "#   Resolution index = Default (0)\n",
    "#   Settling, in microseconds = Auto (0)\n",
    "names = [\"AIN0_NEGATIVE_CH\", \"AIN0_RANGE\", \"AIN0_RESOLUTION_INDEX\", \"AIN0_SETTLING_US\",\n",
    "         \"AIN1_NEGATIVE_CH\", \"AIN1_RANGE\", \"AIN1_RESOLUTION_INDEX\", \"AIN1_SETTLING_US\"]\n",
    "aValues = [199, 10.0, 0, 0,\n",
    "           199, 10.0, 0, 0]\n",
    "numFrames = len(names)\n",
    "ljm.eWriteNames(handle, numFrames, names, aValues)"
   ]
  },
  {
   "cell_type": "code",
   "execution_count": null,
   "id": "2d34033f",
   "metadata": {},
   "outputs": [],
   "source": [
    "print(\"\\nSet configuration:\")\n",
    "for i in range(numFrames):\n",
    "    print(\"    %s : %f\" % (names[i], aValues[i]))\n"
   ]
  },
  {
   "cell_type": "code",
   "execution_count": null,
   "id": "34f15b3e",
   "metadata": {},
   "outputs": [],
   "source": [
    "loopAmount = 10\n",
    "loopMessage = \"READ\"\n",
    "# Read AIN0 and AIN1 from the LabJack with eReadNames in a loop.\n",
    "numFrames = 2\n",
    "names = [\"AIN0\", \"AIN1\"]\n",
    "\n",
    "print(\"\\nStarting %s read loops.%s\\n\" % (str(loopAmount), loopMessage))\n",
    "intervalHandle = 1\n",
    "ljm.startInterval(intervalHandle, 10000)  # Delay between readings (in microseconds)\n",
    "i = 0\n",
    "while True:\n",
    "    try:\n",
    "        results = ljm.eReadNames(handle, numFrames, names)\n",
    "        print(\"AIN0 : %f V, AIN1 : %f V\" % (results[0], results[1]))\n",
    "        ljm.waitForNextInterval(intervalHandle)\n",
    "        if loopAmount != \"infinite\":\n",
    "            i = i + 1\n",
    "            if i >= loopAmount:\n",
    "                break\n",
    "    except KeyboardInterrupt:\n",
    "        break\n",
    "    except Exception:\n",
    "        print(sys.exc_info()[1])\n",
    "        break\n"
   ]
  },
  {
   "cell_type": "code",
   "execution_count": null,
   "id": "d7c8cbd6",
   "metadata": {},
   "outputs": [],
   "source": [
    "# Setup and call eWriteName to write a value to the LabJack.\n",
    "name = \"DAC0\"\n",
    "value = 1.73  # 2.5 V\n",
    "ljm.eWriteName(handle, name, value)\n",
    "\n",
    "print(\"\\neWriteName: \")\n",
    "print(\"    Name - %s, value : %f\" % (name, value))"
   ]
  },
  {
   "cell_type": "code",
   "execution_count": null,
   "id": "49ab2bbb",
   "metadata": {},
   "outputs": [],
   "source": [
    "loopAmount = 1000\n",
    "loopMessage = \"READ\"\n",
    "# Read AIN0 and AIN1 from the LabJack with eReadNames in a loop.\n",
    "numFrames = 2\n",
    "names = [\"AIN0\", \"AIN1\"]\n",
    "\n",
    "print(\"\\nStarting %s read loops.%s\\n\" % (str(loopAmount), loopMessage))\n",
    "intervalHandle = 1\n",
    "ljm.startInterval(intervalHandle, 10000)  # Delay between readings (in microseconds)\n",
    "i = 0\n",
    "\n",
    "plotResults = []\n",
    "\n",
    "while True:\n",
    "    try:\n",
    "        results = ljm.eReadNames(handle, numFrames, names)\n",
    "        plotResults.append(results)\n",
    "        #print(\"AIN0 : %f V, AIN1 : %f V\" % (results[0], results[1]))\n",
    "        ljm.waitForNextInterval(intervalHandle)\n",
    "        if loopAmount != \"infinite\":\n",
    "            i = i + 1\n",
    "            if i >= loopAmount:\n",
    "                break\n",
    "    except KeyboardInterrupt:\n",
    "        break\n",
    "    except Exception:\n",
    "        print(sys.exc_info()[1])\n",
    "        break\n"
   ]
  },
  {
   "cell_type": "code",
   "execution_count": null,
   "id": "efcb24f2",
   "metadata": {},
   "outputs": [],
   "source": [
    "plt.plot(np.array(plotResults)[10:-1,0], color='red')\n",
    "plt.plot(np.array(plotResults)[10:-1,1], color='blue')"
   ]
  },
  {
   "cell_type": "code",
   "execution_count": null,
   "id": "5d0ba4a0",
   "metadata": {},
   "outputs": [],
   "source": [
    "# Play with ramping up DAC0 and reading value with AIN0.\n",
    "name = \"DAC0\"\n",
    "loopAmount = 1100\n",
    "# Read AIN0 from the LabJack with eReadNames in a loop.\n",
    "names = [\"AIN0\"]\n",
    "numFrames = 1\n",
    "intervalHandle = 1\n",
    "ljm.startInterval(intervalHandle, 1000)  # Delay between readings (in microseconds)\n",
    "plotResults = []\n",
    "value = 0.0\n",
    "ljm.eWriteName(handle, name, value)\n",
    "for n in range(loopAmount):\n",
    "    if n > 0 and n % 100 == 0:\n",
    "        value += 0.5\n",
    "        ljm.eWriteName(handle, name, value)\n",
    "    results = ljm.eReadNames(handle, numFrames, names)\n",
    "    plotResults.append(results)\n",
    "\n",
    "plt.plot(np.array(plotResults)[:,0], color='red')"
   ]
  },
  {
   "cell_type": "code",
   "execution_count": null,
   "id": "696e2dfb",
   "metadata": {},
   "outputs": [],
   "source": [
    "# Close handles\n",
    "ljm.close(handle)"
   ]
  },
  {
   "cell_type": "code",
   "execution_count": null,
   "id": "bd00b4a7",
   "metadata": {},
   "outputs": [],
   "source": []
  }
 ],
 "metadata": {
  "kernelspec": {
   "display_name": "Python 3 (ipykernel)",
   "language": "python",
   "name": "python3"
  },
  "language_info": {
   "codemirror_mode": {
    "name": "ipython",
    "version": 3
   },
   "file_extension": ".py",
   "mimetype": "text/x-python",
   "name": "python",
   "nbconvert_exporter": "python",
   "pygments_lexer": "ipython3",
   "version": "3.9.5"
  }
 },
 "nbformat": 4,
 "nbformat_minor": 5
}
