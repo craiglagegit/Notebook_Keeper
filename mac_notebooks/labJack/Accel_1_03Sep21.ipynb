{
 "cells": [
  {
   "cell_type": "markdown",
   "id": "2dd614f7",
   "metadata": {},
   "source": [
    "## LabJack Example\\\n",
    "Demonstrates reading 4 analog inputs (AINs) in a loop from a LabJack.\n",
    "\n",
    "Relevant Documentation:\n",
    " \n",
    "LJM Library:\n",
    "    LJM Library Installer:\n",
    "        https://labjack.com/support/software/installers/ljm\n",
    "    LJM Users Guide:\n",
    "        https://labjack.com/support/software/api/ljm\n",
    "    Opening and Closing:\n",
    "        https://labjack.com/support/software/api/ljm/function-reference/opening-and-closing\n",
    "    Multiple Value Functions(such as eWriteNames):\n",
    "        https://labjack.com/support/software/api/ljm/function-reference/multiple-value-functions\n",
    "    Timing Functions(such as StartInterval):\n",
    "        https://labjack.com/support/software/api/ljm/function-reference/timing-functions\n",
    " \n",
    "T-Series and I/O:\n",
    "    Modbus Map:\n",
    "        https://labjack.com/support/software/api/modbus/modbus-map\n",
    "    Analog Inputs:\n",
    "        https://labjack.com/support/datasheets/t-series/ain"
   ]
  },
  {
   "cell_type": "code",
   "execution_count": null,
   "id": "02609e84",
   "metadata": {},
   "outputs": [],
   "source": [
    "import sys\n",
    "import time, datetime\n",
    "import numpy as np\n",
    "import matplotlib.pyplot as plt\n",
    "\n",
    "from labjack import ljm"
   ]
  },
  {
   "cell_type": "code",
   "execution_count": null,
   "id": "a1de9d21",
   "metadata": {},
   "outputs": [],
   "source": [
    "# Open first found LabJack\n",
    "handle = ljm.openS(\"T7\", \"ANY\", \"ANY\")  # T7 device, Any connection, Any identifier"
   ]
  },
  {
   "cell_type": "code",
   "execution_count": null,
   "id": "e62bd5db",
   "metadata": {},
   "outputs": [],
   "source": [
    "info = ljm.getHandleInfo(handle)\n",
    "print(\"Opened a LabJack with Device type: %i, Connection type: %i,\\n\"\n",
    "      \"Serial number: %i, IP address: %s, Port: %i,\\nMax bytes per MB: %i\" %\n",
    "      (info[0], info[1], info[2], ljm.numberToIP(info[3]), info[4], info[5]))\n",
    "\n",
    "deviceType = info[0]\n",
    "print(deviceType)"
   ]
  },
  {
   "cell_type": "code",
   "execution_count": null,
   "id": "98eda42e",
   "metadata": {},
   "outputs": [],
   "source": [
    "# Setup and call eWriteNames to configure AIN0 and AIN1 on the LabJack.\n",
    "# LabJack T7 and other devices configuration\n",
    "\n",
    "# AIN0, AIN1, AIN2, AIN3:\n",
    "#   Negative channel = single ended (199)\n",
    "#   Range: +/-10.0 V (10.0)\n",
    "#   Resolution index = Default (0)\n",
    "#   Settling, in microseconds = Auto (0)\n",
    "names = [\"AIN0_NEGATIVE_CH\", \"AIN0_RANGE\", \"AIN0_GAIN\", \"AIN0_RESOLUTION_INDEX\", \"AIN0_SETTLING_US\",\n",
    "         \"AIN1_NEGATIVE_CH\", \"AIN1_RANGE\", \"AIN1_RESOLUTION_INDEX\", \"AIN1_SETTLING_US\",\n",
    "         \"AIN2_NEGATIVE_CH\", \"AIN2_RANGE\", \"AIN2_RESOLUTION_INDEX\", \"AIN2_SETTLING_US\",\n",
    "         \"AIN3_NEGATIVE_CH\", \"AIN3_RANGE\", \"AIN3_RESOLUTION_INDEX\", \"AIN3_SETTLING_US\"]\n",
    "aValues = [199, 10.0, 10.0, 8, 10,\n",
    "           199, 10.0, 8, 10,\n",
    "           199, 10.0, 8, 10,\n",
    "           199, 10.0, 8, 10]\n",
    "numFrames = len(names)\n",
    "ljm.eWriteNames(handle, numFrames, names, aValues)"
   ]
  },
  {
   "cell_type": "code",
   "execution_count": null,
   "id": "d4c74e6a",
   "metadata": {},
   "outputs": [],
   "source": [
    "print(\"\\nSet configuration:\")\n",
    "for i in range(numFrames):\n",
    "    print(\"    %s : %f\" % (names[i], aValues[i]))\n"
   ]
  },
  {
   "cell_type": "code",
   "execution_count": null,
   "id": "b74ec79a",
   "metadata": {},
   "outputs": [],
   "source": [
    "# Setup and call eWriteName to write a value to the LabJack.\n",
    "name = \"DAC0\"\n",
    "value = 2.0  # 2.5 V\n",
    "ljm.eWriteName(handle, name, value)\n",
    "\n",
    "print(\"\\neWriteName: \")\n",
    "print(\"    Name - %s, value : %f\" % (name, value))"
   ]
  },
  {
   "cell_type": "code",
   "execution_count": null,
   "id": "7036ca81",
   "metadata": {},
   "outputs": [],
   "source": [
    "# Read AIN0(2.5V) and AIN1-3 (XYZ Accel)\n",
    "\n",
    "loopAmount = 10\n",
    "# Read AIN's from the LabJack with eReadNames in a loop.\n",
    "names = [\"AIN0\", \"AIN1\", \"AIN2\", \"AIN3\"]\n",
    "numFrames = 4\n",
    "intervalHandle = 1\n",
    "ljm.startInterval(intervalHandle, 50000)  # Delay between readings (in microseconds)\n",
    "plotResults = []\n",
    "start = time.time()\n",
    "for n in range(loopAmount):\n",
    "    results = ljm.eReadNames(handle, numFrames, names)\n",
    "    plotResults.append(results)\n",
    "    ljm.waitForNextInterval(intervalHandle)\n",
    "    stamp = time.time()\n",
    "    delay = stamp - start\n",
    "    start = stamp\n",
    "\n",
    "    print(delay, results)\n",
    "#plotResults = (np.array(plotResults) - 2.50)"
   ]
  },
  {
   "cell_type": "code",
   "execution_count": null,
   "id": "e812f27f",
   "metadata": {},
   "outputs": [],
   "source": [
    "#plt.plot(np.array(plotResults)[:,0], label=2.0V)\n",
    "nStart = 0\n",
    "nStop = 500\n",
    "plt.plot(np.array(plotResults)[nStart:nStop,1], label = \"X-accel\")\n",
    "plt.plot(np.array(plotResults)[nStart:nStop,2], label = \"Y-accel\")\n",
    "plt.plot(np.array(plotResults)[nStart:nStop,3], label = \"Z-accel\")\n",
    "plt.ylabel(\"Acceleration (g)\")\n",
    "plt.xlabel(\"T(mSec)\")\n",
    "plt.legend()\n",
    "plt.savefig(\"/Users/cslage/Research/LSST/code/labJack/accel_data/Test2_03Sep21.pdf\")"
   ]
  },
  {
   "cell_type": "code",
   "execution_count": null,
   "id": "5ce818c3",
   "metadata": {},
   "outputs": [],
   "source": [
    "# Close handles\n",
    "ljm.cleanInterval(intervalHandle)\n",
    "ljm.close(handle)"
   ]
  },
  {
   "cell_type": "code",
   "execution_count": null,
   "id": "ccfbf1a3",
   "metadata": {},
   "outputs": [],
   "source": [
    "print(time.time())"
   ]
  },
  {
   "cell_type": "code",
   "execution_count": null,
   "id": "fb0cc136",
   "metadata": {},
   "outputs": [],
   "source": []
  },
  {
   "cell_type": "code",
   "execution_count": null,
   "id": "76141073",
   "metadata": {},
   "outputs": [],
   "source": []
  }
 ],
 "metadata": {
  "kernelspec": {
   "display_name": "Python 3 (ipykernel)",
   "language": "python",
   "name": "python3"
  },
  "language_info": {
   "codemirror_mode": {
    "name": "ipython",
    "version": 3
   },
   "file_extension": ".py",
   "mimetype": "text/x-python",
   "name": "python",
   "nbconvert_exporter": "python",
   "pygments_lexer": "ipython3",
   "version": "3.9.5"
  }
 },
 "nbformat": 4,
 "nbformat_minor": 5
}
