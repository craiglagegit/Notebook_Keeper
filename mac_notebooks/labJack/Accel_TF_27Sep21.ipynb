{
 "cells": [
  {
   "cell_type": "markdown",
   "id": "2dd614f7",
   "metadata": {},
   "source": [
    "## Calculating Transfer Function between two TE accelerometers with a labJack T7-Pro\n",
    "This is an attempt to calculate the transfer function from the stored\\\n",
    "accelerations of two accelerometers.  It estimates the TF as the ratio of the\\\n",
    "cross spectral densities H(k) = Pyy(k) / Pxy(k), as in this link:\\\n",
    "https://www.mathworks.com/help/signal/ref/tfestimate.html#bufqg8e\n",
    "\n",
    "Craig Lage - Sep 27, 2021\n"
   ]
  },
  {
   "cell_type": "code",
   "execution_count": null,
   "id": "02609e84",
   "metadata": {},
   "outputs": [],
   "source": [
    "import sys\n",
    "import time, datetime\n",
    "import numpy as np\n",
    "import matplotlib.pyplot as plt\n",
    "import pandas as pd\n",
    "from scipy.fft import fft, fftfreq, ifft, irfft\n",
    "from scipy.interpolate import splprep, splrep, splev\n",
    "from scipy.signal import TransferFunction as tf\n",
    "from scipy.signal import dlsim, csd, welch\n",
    "from scipy.optimize import minimize\n",
    "\n",
    "from labjack import ljm  # Needed pip install labjack-ljm"
   ]
  },
  {
   "cell_type": "code",
   "execution_count": null,
   "id": "ff4a4cdb",
   "metadata": {},
   "outputs": [],
   "source": [
    "# Read in the pickled accelerometer data\n",
    "scanRate = 1000\n",
    "readTime = 10.0\n",
    "df = pd.read_pickle(\"/Users/cslage/Research/LSST/code/labJack/accel_data/Transfer_Test_6.pkl\")"
   ]
  },
  {
   "cell_type": "code",
   "execution_count": null,
   "id": "74e4f8c5",
   "metadata": {},
   "outputs": [],
   "source": [
    "# Plot the data at different time magnifications.\n",
    "plt.figure(figsize=(16,8))\n",
    "plt.subplots_adjust(hspace=0.5)\n",
    "\n",
    "for n, scanIndex in enumerate([[0, int(scanRate*readTime-1)], [450, 750], [500,600]]):\n",
    "\n",
    "    sub_df = df[df.index[scanIndex[0]] : df.index[scanIndex[1]]]\n",
    "    \n",
    "    plt.subplot(2,3,n+1)\n",
    "    ax1 = sub_df['a1z'].plot(label=\"a1z\", color='red')\n",
    "    ax1.set_title(\"Axis 1\", fontsize=16)\n",
    "    ax1.set_ylabel(\"Acceleration(g)\")\n",
    "    ax1.legend(loc='center left')\n",
    "\n",
    "    plt.subplot(2,3,n+4)\n",
    "    ax2 = sub_df['a2z'].plot(label=\"a2z\", color='red')\n",
    "    ax2.set_title(\"Axis 2\", fontsize=16)\n",
    "    ax2.set_ylabel(\"Acceleration(g)\")\n",
    "    ax2.legend(loc='center left')\n",
    "    \n",
    "    if n == 0: # save this data for the FFT\n",
    "        a1z = np.array(sub_df['a1z'].tolist())\n",
    "        a2z = np.array(sub_df['a2z'].tolist())\n",
    "\n",
    "#plt.savefig(\"/Users/cslage/Research/LSST/code/labJack/accel_data/Transfer_Test_6_14Sep21.pdf\")"
   ]
  },
  {
   "cell_type": "code",
   "execution_count": null,
   "id": "1c783069",
   "metadata": {},
   "outputs": [],
   "source": [
    "# Estimate the TF as  H(k) = Pyy(k) / Pxy(k)  as discussed above\n",
    "# Plot it several ways\n",
    "\n",
    "Pyy = csd(a2z, a2z, fs=1000)\n",
    "Pxy = csd(a1z, a2z, fs=1000)\n",
    "tf =  Pyy[1] / Pxy[1] # H2 Pyy / Pxy\n",
    "plt.figure(figsize=(12,3))\n",
    "plt.subplots_adjust(wspace=0.5)\n",
    "plt.subplot(1,4,1)\n",
    "plt.title(\"Real(TF)\", fontsize=24)\n",
    "plt.plot(Pyy[0], np.real(tf), marker='x', color='blue', label = 'TF')\n",
    "plt.xlabel(\"Frequency(Hz)\", fontsize=16)\n",
    "plt.ylabel(\"X(k)\", fontsize=16)\n",
    "plt.xlim(20,200)\n",
    "plt.subplot(1,4,2)\n",
    "plt.title(\"Imag(TF)\", fontsize=24)\n",
    "plt.plot(Pyy[0], np.imag(tf), marker='x', color='blue', label = 'TF')\n",
    "plt.xlabel(\"Frequency(Hz)\", fontsize=16)\n",
    "plt.ylabel(\"X(k)\", fontsize=16)\n",
    "plt.xlim(20,200)\n",
    "plt.subplot(1,4,3)\n",
    "plt.title(\"Mag(TF)\", fontsize=24)\n",
    "plt.plot(Pyy[0], np.abs(tf), marker='x', color='blue', label = 'TF')\n",
    "plt.xlabel(\"Frequency(Hz)\", fontsize=16)\n",
    "plt.ylabel(\"X(k)\", fontsize=16)\n",
    "plt.xlim(20,200)\n",
    "plt.subplot(1,4,4)\n",
    "plt.title(\"Phase(TF)\", fontsize=24)\n",
    "plt.plot(Pyy[0], np.angle(tf, deg=True), marker='x', color='blue', label = 'TF')\n",
    "plt.xlabel(\"Frequency(Hz)\", fontsize=16)\n",
    "plt.ylabel(\"X(k)\", fontsize=16)\n",
    "plt.xlim(20,200)"
   ]
  },
  {
   "cell_type": "markdown",
   "id": "c6a58946",
   "metadata": {},
   "source": [
    "## Estimating a functional form for the transfer function.\n",
    "The next step is to try and find a functional form for the transfer function in a form like this:\\\n",
    "$ H(s) = \\frac{a2 s^2 + a1 s + a0}{b2 s^2 + b1 s + b0} $\\\n",
    "Once this is done, scipy routines like scipy.signal.dlsim and scipy.signal.TransferFunction can be used.\\\n",
    "I've done this manually in the cell below, and found a form that fits pretty well.\\\n",
    "However, the a coefficients are complex, and in the scipy routines they need to be real.\\\n",
    "At this point I'm stumped as to how to proceed further.\n"
   ]
  },
  {
   "cell_type": "code",
   "execution_count": null,
   "id": "08f4760d",
   "metadata": {},
   "outputs": [],
   "source": [
    "xp = 19.0 - Pyy[0] / 5.0\n",
    "H = (1.8 * xp + 3.0 * 1j) / (1.0 + xp * xp / 3.0)\n",
    "plt.figure(figsize=(12,3))\n",
    "plt.subplot(1,4,1)\n",
    "plt.title(\"Real(TF)\", fontsize=24)\n",
    "plt.plot(Pyy[0], np.real(tf), marker='x', color='blue', label = 'TF')\n",
    "plt.plot(Pyy[0], np.real(H), color = 'red', lw = 2.0, label = 'G')\n",
    "plt.xlabel(\"Frequency(Hz)\", fontsize=16)\n",
    "plt.ylabel(\"X(k)\", fontsize=16)\n",
    "plt.xlim(20,200)\n",
    "plt.subplot(1,4,2)\n",
    "plt.title(\"Imag(TF)\", fontsize=24)\n",
    "plt.plot(Pyy[0], np.imag(tf), marker='x', color='blue', label = 'TF')\n",
    "plt.plot(Pyy[0], np.imag(H), color = 'red', lw = 2.0, label = 'G')\n",
    "plt.xlabel(\"Frequency(Hz)\", fontsize=16)\n",
    "plt.ylabel(\"X(k)\", fontsize=16)\n",
    "plt.xlim(20,200)\n",
    "plt.subplot(1,4,3)\n",
    "plt.title(\"Mag(TF)\", fontsize=24)\n",
    "plt.plot(Pyy[0], np.abs(tf), marker='x', color='blue', label = 'TF')\n",
    "plt.plot(Pyy[0], np.abs(H), color = 'red', lw = 2.0, label = 'G')\n",
    "plt.xlabel(\"Frequency(Hz)\", fontsize=16)\n",
    "plt.ylabel(\"X(k)\", fontsize=16)\n",
    "plt.xlim(20,200)\n",
    "plt.subplot(1,4,4)\n",
    "plt.title(\"Phase(TF)\", fontsize=24)\n",
    "plt.plot(Pyy[0], np.angle(tf, deg=True), marker='x', color='blue', label = 'TF')\n",
    "plt.plot(Pyy[0], np.angle(H, deg=True), color = 'red', lw = 2.0, label = 'G')\n",
    "plt.xlabel(\"Frequency(Hz)\", fontsize=16)\n",
    "plt.ylabel(\"X(k)\", fontsize=16)\n",
    "plt.xlim(20,200)"
   ]
  },
  {
   "cell_type": "code",
   "execution_count": null,
   "id": "f63f3dc5",
   "metadata": {},
   "outputs": [],
   "source": []
  }
 ],
 "metadata": {
  "kernelspec": {
   "display_name": "Python 3 (ipykernel)",
   "language": "python",
   "name": "python3"
  },
  "language_info": {
   "codemirror_mode": {
    "name": "ipython",
    "version": 3
   },
   "file_extension": ".py",
   "mimetype": "text/x-python",
   "name": "python",
   "nbconvert_exporter": "python",
   "pygments_lexer": "ipython3",
   "version": "3.9.5"
  }
 },
 "nbformat": 4,
 "nbformat_minor": 5
}
