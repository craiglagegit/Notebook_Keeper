{
 "cells": [
  {
   "cell_type": "markdown",
   "id": "2dd614f7",
   "metadata": {},
   "source": [
    "## Calculating Transfer Function between two TE accelerometers with a labJack T7-Pro\n",
    "This is an attempt to calculate the transfer function from the stored\\\n",
    "accelerations of two accelerometers.  It estimates the TF as the ratio of the\\\n",
    "cross spectral densities H(k) = Pyy(k) / Pxy(k), as in this link:\\\n",
    "https://www.mathworks.com/help/signal/ref/tfestimate.html#bufqg8e\n",
    "\n",
    "Craig Lage - Sep 27, 2021\n"
   ]
  },
  {
   "cell_type": "code",
   "execution_count": null,
   "id": "02609e84",
   "metadata": {},
   "outputs": [],
   "source": [
    "import sys\n",
    "import time, datetime\n",
    "import numpy as np\n",
    "import matplotlib.pyplot as plt\n",
    "import pandas as pd\n",
    "from scipy.fft import fft, fftfreq, ifft, irfft\n",
    "from scipy.interpolate import splprep, splrep, splev\n",
    "from scipy.signal import TransferFunction as tf\n",
    "from scipy.signal import dlsim, csd, welch\n",
    "from scipy.optimize import minimize\n",
    "\n",
    "from labjack import ljm  # Needed pip install labjack-ljm"
   ]
  },
  {
   "cell_type": "code",
   "execution_count": null,
   "id": "ff4a4cdb",
   "metadata": {},
   "outputs": [],
   "source": [
    "# Read in the pickled accelerometer data\n",
    "scanRate = 1000\n",
    "readTime = 10.0\n",
    "df = pd.read_pickle(\"/Users/cslage/Research/LSST/code/labJack/accel_data/Transfer_Test_6.pkl\")"
   ]
  },
  {
   "cell_type": "code",
   "execution_count": null,
   "id": "48d11b1d",
   "metadata": {},
   "outputs": [],
   "source": [
    "# Write to a text file\n",
    "filename = \"/Users/cslage/Research/LSST/code/labJack/accel_data/Transfer_Test_6.txt\"\n",
    "file = open(filename, \"w\")\n",
    "file.write(\"Time(s) \\t  Input (g) \\t Output(g)\\n\")\n",
    "t = 0.0\n",
    "deltaT = .001\n",
    "for i in range(len(df.index)):\n",
    "    file.write(f\"{t:.3f} \\t \\t {df['a1z'][df.index[i]]:.6f} \\t {df['a2z'][df.index[i]]:.6f}\\n \")\n",
    "    t += deltaT\n",
    "file.close()"
   ]
  },
  {
   "cell_type": "code",
   "execution_count": null,
   "id": "1d3ba5ff",
   "metadata": {},
   "outputs": [],
   "source": [
    "# Check to make sure it looks the same.\n",
    "data = np.loadtxt(filename, skiprows=1)\n",
    "plt.figure(figsize=(16,8))\n",
    "plt.subplots_adjust(hspace=0.5)\n",
    "\n",
    "plt.subplot(1,2,1)\n",
    "plt.plot(data[450:750,0], data[450:750,1])\n",
    "plt.subplot(1,2,2)\n",
    "plt.plot(data[450:750,0], data[450:750,2])\n"
   ]
  },
  {
   "cell_type": "code",
   "execution_count": null,
   "id": "74e4f8c5",
   "metadata": {},
   "outputs": [],
   "source": [
    "# Plot the data at different time magnifications.\n",
    "plt.figure(figsize=(16,8))\n",
    "plt.subplots_adjust(hspace=0.5)\n",
    "\n",
    "for n, scanIndex in enumerate([[0, int(scanRate*readTime-1)], [450, 750], [500,600]]):\n",
    "\n",
    "    sub_df = df[df.index[scanIndex[0]] : df.index[scanIndex[1]]]\n",
    "    \n",
    "    plt.subplot(2,3,n+1)\n",
    "    ax1 = sub_df['a1z'].plot(label=\"a1z\", color='red')\n",
    "    ax1.set_title(\"Axis 1\", fontsize=16)\n",
    "    ax1.set_ylabel(\"Acceleration(g)\")\n",
    "    ax1.legend(loc='center left')\n",
    "\n",
    "    plt.subplot(2,3,n+4)\n",
    "    ax2 = sub_df['a2z'].plot(label=\"a2z\", color='red')\n",
    "    ax2.set_title(\"Axis 2\", fontsize=16)\n",
    "    ax2.set_ylabel(\"Acceleration(g)\")\n",
    "    ax2.legend(loc='center left')\n",
    "    \n",
    "    if n == 0: # save this data for the FFT\n",
    "        a1z = np.array(sub_df['a1z'].tolist())\n",
    "        a2z = np.array(sub_df['a2z'].tolist())\n",
    "\n",
    "#plt.savefig(\"/Users/cslage/Research/LSST/code/labJack/accel_data/Transfer_Test_6_14Sep21.pdf\")"
   ]
  },
  {
   "cell_type": "code",
   "execution_count": null,
   "id": "f63f3dc5",
   "metadata": {},
   "outputs": [],
   "source": []
  }
 ],
 "metadata": {
  "kernelspec": {
   "display_name": "Python 3 (ipykernel)",
   "language": "python",
   "name": "python3"
  },
  "language_info": {
   "codemirror_mode": {
    "name": "ipython",
    "version": 3
   },
   "file_extension": ".py",
   "mimetype": "text/x-python",
   "name": "python",
   "nbconvert_exporter": "python",
   "pygments_lexer": "ipython3",
   "version": "3.9.5"
  }
 },
 "nbformat": 4,
 "nbformat_minor": 5
}
