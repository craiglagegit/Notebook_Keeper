{
 "cells": [
  {
   "cell_type": "code",
   "execution_count": null,
   "id": "02609e84",
   "metadata": {},
   "outputs": [],
   "source": [
    "import sys, time, datetime, asyncio\n",
    "import numpy as np\n",
    "import matplotlib.pyplot as plt\n",
    "import pandas as pd\n",
    "import pickle as pkl"
   ]
  },
  {
   "cell_type": "code",
   "execution_count": null,
   "id": "ece1f7da",
   "metadata": {},
   "outputs": [],
   "source": [
    "from labjack_functions import LabJackFunctions"
   ]
  },
  {
   "cell_type": "code",
   "execution_count": null,
   "id": "ec1760a0",
   "metadata": {},
   "outputs": [],
   "source": [
    "class Latiss:\n",
    "    def __init__(self):\n",
    "        return\n",
    "    \n",
    "    def take_object(expTime, num, filter='empty_1', grating='empty_1'):\n",
    "        time.sleep(expTime)\n",
    "        return 2022031000015"
   ]
  },
  {
   "cell_type": "code",
   "execution_count": null,
   "id": "93974bf5",
   "metadata": {},
   "outputs": [],
   "source": [
    "latiss = Latiss()"
   ]
  },
  {
   "cell_type": "code",
   "execution_count": null,
   "id": "83abd534",
   "metadata": {},
   "outputs": [],
   "source": [
    "lj = LabJackFunctions(latiss)"
   ]
  },
  {
   "cell_type": "code",
   "execution_count": null,
   "id": "94f35055",
   "metadata": {},
   "outputs": [],
   "source": [
    "x = np.array([[1,2,3], [4,5,6], [7,8,9]])"
   ]
  },
  {
   "cell_type": "code",
   "execution_count": null,
   "id": "f95efe40",
   "metadata": {},
   "outputs": [],
   "source": [
    "y = np.array([2,2,2])"
   ]
  },
  {
   "cell_type": "code",
   "execution_count": null,
   "id": "be75f03e",
   "metadata": {},
   "outputs": [],
   "source": [
    "x / y"
   ]
  },
  {
   "cell_type": "code",
   "execution_count": null,
   "id": "def4e4e2",
   "metadata": {},
   "outputs": [],
   "source": []
  }
 ],
 "metadata": {
  "kernelspec": {
   "display_name": "Python 3 (ipykernel)",
   "language": "python",
   "name": "python3"
  },
  "language_info": {
   "codemirror_mode": {
    "name": "ipython",
    "version": 3
   },
   "file_extension": ".py",
   "mimetype": "text/x-python",
   "name": "python",
   "nbconvert_exporter": "python",
   "pygments_lexer": "ipython3",
   "version": "3.9.5"
  }
 },
 "nbformat": 4,
 "nbformat_minor": 5
}
