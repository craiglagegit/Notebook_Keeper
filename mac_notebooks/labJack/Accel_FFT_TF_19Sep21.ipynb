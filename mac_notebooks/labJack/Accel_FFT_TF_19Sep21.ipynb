{
 "cells": [
  {
   "cell_type": "markdown",
   "id": "2dd614f7",
   "metadata": {},
   "source": [
    "## Calculating Transfer Function between two TE accelerometers with a labJack T7-Pro\n",
    "Uses 9 analog inputs (AINs) to read the data at 1000 Hz.\n",
    "\n",
    "Craig Lage - Sep 17, 2021\n"
   ]
  },
  {
   "cell_type": "code",
   "execution_count": null,
   "id": "02609e84",
   "metadata": {},
   "outputs": [],
   "source": [
    "import sys\n",
    "import time, datetime\n",
    "import numpy as np\n",
    "import matplotlib.pyplot as plt\n",
    "import pandas as pd\n",
    "from scipy.fft import fft, fftfreq, ifft, irfft\n",
    "from scipy.interpolate import splprep, splrep, splev\n",
    "from scipy.signal import TransferFunction as tf\n",
    "from scipy.signal import dlsim, csd, welch\n",
    "from scipy.optimize import fmin_powell, minimize\n",
    "\n",
    "from labjack import ljm  # Needed pip install labjack-ljm"
   ]
  },
  {
   "cell_type": "code",
   "execution_count": null,
   "id": "ff4a4cdb",
   "metadata": {},
   "outputs": [],
   "source": [
    "scanRate = 1000\n",
    "readTime = 10.0\n",
    "df = pd.read_pickle(\"/Users/cslage/Research/LSST/code/labJack/accel_data/Transfer_Test_6.pkl\")"
   ]
  },
  {
   "cell_type": "code",
   "execution_count": null,
   "id": "74e4f8c5",
   "metadata": {},
   "outputs": [],
   "source": [
    "# Plot the data\n",
    "plt.figure(figsize=(16,8))\n",
    "plt.subplots_adjust(hspace=0.5)\n",
    "\n",
    "for n, scanIndex in enumerate([[0, int(scanRate*readTime-1)], [800, 1100], [500,600]]):\n",
    "\n",
    "    sub_df = df[df.index[scanIndex[0]] : df.index[scanIndex[1]]]\n",
    "    \n",
    "    plt.subplot(2,3,n+1)\n",
    "    ax1 = sub_df['a1z'].plot(label=\"a1z\", color='red')\n",
    "    ax1.set_title(\"Axis 1\", fontsize=16)\n",
    "    ax1.set_ylabel(\"Acceleration(g)\")\n",
    "    ax1.legend(loc='center left')\n",
    "\n",
    "    plt.subplot(2,3,n+4)\n",
    "    ax2 = sub_df['a2z'].plot(label=\"a2z\", color='red')\n",
    "    ax2.set_title(\"Axis 2\", fontsize=16)\n",
    "    ax2.set_ylabel(\"Acceleration(g)\")\n",
    "    ax2.legend(loc='center left')\n",
    "    \n",
    "    if n == 0: # save this data for the FFT\n",
    "        a1z = np.array(sub_df['a1z'].tolist())\n",
    "        a2z = np.array(sub_df['a2z'].tolist())\n",
    "\n",
    "#plt.savefig(\"/Users/cslage/Research/LSST/code/labJack/accel_data/Transfer_Test_6_14Sep21.pdf\")"
   ]
  },
  {
   "cell_type": "code",
   "execution_count": null,
   "id": "847c51fb",
   "metadata": {},
   "outputs": [],
   "source": [
    "# Do the FFT\n",
    "N = len(a1z)\n",
    "xAxis = fftfreq(N, 1 / scanRate)\n",
    "yf1 = fft(a1z)\n",
    "yf2 = fft(a2z)\n",
    "print(N, yf1[20], yf2[20])"
   ]
  },
  {
   "cell_type": "code",
   "execution_count": null,
   "id": "060f3763",
   "metadata": {},
   "outputs": [],
   "source": [
    "plt.title(\"FT\", fontsize=24)\n",
    "plt.plot(xAxis, np.log10(yf1), marker='x', color='red', label = 'Driven FFT')\n",
    "plt.plot(xAxis, np.log10(yf2), marker='x', color='green', label = 'Monitor FFT')\n",
    "plt.xlabel(\"Frequency(Hz)\", fontsize=16)\n",
    "plt.ylabel(\"X(k)\", fontsize=16)"
   ]
  },
  {
   "cell_type": "code",
   "execution_count": null,
   "id": "25d146b6",
   "metadata": {},
   "outputs": [],
   "source": [
    "# Invert\n",
    "a1z_inv = ifft(yf1)\n",
    "N = len(a1z_inv)\n",
    "print(N, a1z_inv[20])"
   ]
  },
  {
   "cell_type": "code",
   "execution_count": null,
   "id": "9472c30f",
   "metadata": {},
   "outputs": [],
   "source": [
    "plt.title(\"FT Inverse\", fontsize=24)\n",
    "plt.plot(a1z,  color='red', label = 'Original Signal')\n",
    "plt.plot(a1z_inv,  color='green', label = 'ifft(fft(Signal))')\n",
    "#plt.xlabel(\"Frequency(Hz)\", fontsize=16)\n",
    "#plt.ylabel(\"X(k)\", fontsize=16)"
   ]
  },
  {
   "cell_type": "code",
   "execution_count": null,
   "id": "8b6aa708",
   "metadata": {},
   "outputs": [],
   "source": [
    "# Do the FFT - Welch\n",
    "# How do we invert this?\n",
    "welchSD1 = welch(a1z, fs=1000)\n",
    "welchSD2 = welch(a2z, fs=1000)\n",
    "N = len(welchSD1[0])\n",
    "print(N, welchSD1[1][20], welchSD2[1][20])"
   ]
  },
  {
   "cell_type": "code",
   "execution_count": null,
   "id": "848eb405",
   "metadata": {},
   "outputs": [],
   "source": [
    "plt.title(\"FT\", fontsize=24)\n",
    "plt.plot(welchSD1[0], np.log10(np.sqrt(welchSD1[1])), marker='x', color='red', label = 'FFT')\n",
    "plt.plot(welchSD1[0], np.log10(np.sqrt(welchSD2[1])), marker='x', color='green', label = 'FFT')\n",
    "plt.xlabel(\"Frequency(Hz)\", fontsize=16)\n",
    "plt.ylabel(\"X(k)\", fontsize=16)"
   ]
  },
  {
   "cell_type": "code",
   "execution_count": null,
   "id": "5ac96043",
   "metadata": {},
   "outputs": [],
   "source": [
    "\n",
    "\n",
    "\n",
    "\n",
    "tf = np.sqrt(welchSD2[1]) / np.sqrt(welchSD1[1])\n",
    "tck, u = splprep([welchSD1[0],tf],u=welchSD1[0],s=2,k=3)\n",
    "fFit, tfFit = splev(u,tck)\n",
    "plt.title(\"TF\", fontsize=24)\n",
    "plt.plot(welchSD1[0], tf, marker='x', color='blue', label = 'TF')\n",
    "plt.plot(fFit, tfFit, marker='x', color='red', label = 'Spline')\n",
    "plt.xlabel(\"Frequency(Hz)\", fontsize=16)\n",
    "plt.ylabel(\"X(k)\", fontsize=16)"
   ]
  },
  {
   "cell_type": "code",
   "execution_count": null,
   "id": "1c783069",
   "metadata": {},
   "outputs": [],
   "source": [
    "crossSpectralDensity = csd(a1z, a2z, fs=1000)\n",
    "\n",
    "welchSpectralDensity1 = welch(a1z, fs=1000)\n",
    "welchSpectralDensity2 = welch(a2z, fs=1000)\n",
    "#tf =  welchSpectralDensity2[1] / crossSpectralDensity[1] # H2\n",
    "tf =  csd(a2z, a2z, fs=1000)[1] / csd(a1z, a2z, fs=1000)[1] # H2 Pyy / Pxy\n",
    "#tf =  csd(a2z, a1z, fs=1000)[1] / csd(a1z, a1z, fs=1000)[1] # H1 doesn't work??\n",
    "#tf =  np.conj(crossSpectralDensity[1]) / welchSpectralDensity1[1] # H1 doesn't work??\n",
    "plt.figure(figsize=(16,8))\n",
    "plt.subplot(1,2,1)\n",
    "tck, u = splprep([welchSpectralDensity1[0],np.real(tf)],u=welchSpectralDensity1[0],s=20,k=3)\n",
    "fFit, tfFit = splev(u,tck)\n",
    "plt.title(\"TF\", fontsize=24)\n",
    "plt.plot(welchSpectralDensity1[0], tf, marker='x', color='blue', label = 'TF')\n",
    "plt.plot(fFit, tfFit, marker='x', color='red', label = 'Spline')\n",
    "plt.xlabel(\"Frequency(Hz)\", fontsize=16)\n",
    "plt.ylabel(\"X(k)\", fontsize=16)\n",
    "plt.xlim(20,200)\n",
    "plt.subplot(1,2,2)\n",
    "tck, u = splprep([welchSpectralDensity1[0],np.imag(tf)],u=welchSpectralDensity1[0],s=20,k=3)\n",
    "fFit, tfFit = splev(u,tck)\n",
    "plt.title(\"TF\", fontsize=24)\n",
    "plt.plot(welchSpectralDensity1[0], np.imag(tf), marker='x', color='blue', label = 'TF')\n",
    "plt.plot(fFit, tfFit, marker='x', color='red', label = 'Spline')\n",
    "plt.xlabel(\"Frequency(Hz)\", fontsize=16)\n",
    "plt.ylabel(\"X(k)\", fontsize=16)\n",
    "plt.xlim(20,200)"
   ]
  },
  {
   "cell_type": "code",
   "execution_count": null,
   "id": "5518bc95",
   "metadata": {},
   "outputs": [],
   "source": [
    "tf[20]"
   ]
  },
  {
   "cell_type": "code",
   "execution_count": null,
   "id": "c05116ed",
   "metadata": {},
   "outputs": [],
   "source": [
    "tf = np.sqrt(welchSD2[1]) / np.sqrt(welchSD1[1])\n",
    "tck, u = splprep([welchSD1[0],tf],u=welchSD1[0],s=2,k=3)\n",
    "fFit, tfFit = splev(u,tck)\n",
    "plt.title(\"TF\", fontsize=24)\n",
    "plt.plot(welchSD1[0], tf, marker='x', color='blue', label = 'TF')\n",
    "plt.plot(fFit, tfFit, marker='x', color='red', label = 'Spline')\n",
    "plt.xlabel(\"Frequency(Hz)\", fontsize=16)\n",
    "plt.ylabel(\"X(k)\", fontsize=16)"
   ]
  },
  {
   "cell_type": "code",
   "execution_count": null,
   "id": "7b766612",
   "metadata": {},
   "outputs": [],
   "source": [
    "def calcTransferFunction(scanRate, drivenSeries, monitorSeries):#, orderB=1, orderA=1):\n",
    "    # Calculates and plots a transfer function given a driven series of data\n",
    "    # and a monitor series of data\n",
    "\n",
    "    # Do the FFT\n",
    "    N = len(drivenSeries)\n",
    "    xAxis = fftfreq(N, 1 / scanRate)[10:int(N/2-20)]\n",
    "    yf1 = fft(drivenSeries)[10:int(N/2-20)]\n",
    "    yf2 = fft(monitorSeries)[10:int(N/2-20)]\n",
    "    N = len(xAxis)\n",
    "    # Now plot it\n",
    "\n",
    "    rmsRatio = np.std(monitorSeries) / np.std(drivenSeries)\n",
    "    fftPeakRatio = np.max(np.abs(yf2[50:-1])) / np.max(np.abs(yf1[50:-1]))\n",
    "    #fftPeakRatio = np.max(np.abs(yf2)) / np.max(np.abs(yf1))\n",
    "\n",
    "    plt.figure(figsize=(16,8))\n",
    "\n",
    "    # Calculate the transfer function vs frequency and a spline fit and plot them\n",
    "    crossSpectralDensity = csd(a1z, a2z, fs=1000)\n",
    "    # H1\n",
    "    welchSpectralDensity1 = welch(a1z, fs=1000)\n",
    "    welchSpectralDensity2 = welch(a2z, fs=1000)\n",
    "    transferFunction = welchSpectralDensity2[1] / welchSpectralDensity1[1]\n",
    "    \n",
    "    \n",
    "    print(welchSpectralDensity1[0][0:5])\n",
    "    print(welchSpectralDensity1[1][0:5])\n",
    "    # H2\n",
    "    #welchSpectralDensity = welch(a2z, fs=1000)\n",
    "    #transferFunction = welchSpectralDensity[1] / np.conj(crossSpectralDensity[1])\n",
    "    nKnots = 10\n",
    "    tck, u = splprep([welchSpectralDensity1[0],transferFunction],u=welchSpectralDensity1[0],s=200,k=3)\n",
    "    fFit, tfFit = splev(u,tck)\n",
    "    plt.subplot(1,2,2)\n",
    "    plt.title(\"Transfer Function\", fontsize=24)\n",
    "    plt.plot(crossSpectralDensity[0], transferFunction, marker='x', color='blue', label = 'Raw Transfer Function')\n",
    "    #plt.plot(fFit, tfFit, lw=5.0, color='red', label = 'Spline Fit')\n",
    "    plt.xlabel(\"Frequency(Hz)\", fontsize=16)\n",
    "    plt.ylabel(\"Transfer Function\", fontsize=16)\n",
    "    #plt.xlim(40,400)\n",
    "    #plt.ylim(0,5)\n",
    "    plt.legend(fontsize=12)\n",
    "\n",
    "    fFit2, tfFit2 = splev(xAxis,tck)\n",
    "    #print(xAxis.min(), xAxis.max(), u.min(), u.max())\n",
    "    print(len(welchSpectralDensity1[0]), len(u), len(xAxis), len(fFit2), len(tfFit2), N)\n",
    "    #print(crossSpectralDensity[0][0:5],u[0:5], xAxis[0:5], fFit2[0:5], (fFit2/xAxis)[0:5])\n",
    "    tfFit2_trimmed = np.clip(tfFit2, 0.0, 100.0)\n",
    "    yfModel = welchSpectralDensity1[1] * transferFunction\n",
    "    \n",
    "    az1_tSpace = irfft(welchSpectralDensity1[1])\n",
    "    \n",
    "    plt.subplot(1,2,1)\n",
    "    plt.subplots_adjust(hspace=0.5)\n",
    "    #plt.plot(xAxis, np.abs(yf1), color='red', marker = 'x', label='A1Z - Driver')\n",
    "    plt.plot(welchSpectralDensity1[0], welchSpectralDensity1[1], color='red', marker = 'x', label='A1Z - Driver')\n",
    "    plt.plot(welchSpectralDensity2[0], welchSpectralDensity2[1], color='green', marker = 'x', label='A2Z - Monitor')\n",
    "    #plt.plot(xAxis, np.abs(yf2), color='green', marker = 'x', label='A2Z - Monitor')\n",
    "    plt.plot(welchSpectralDensity2[0], yfModel, color='blue', marker = 'x', label='A2Z - Model')\n",
    "    plt.title(\"FFT of accelerometer force transfer\", fontsize=24)\n",
    "    plt.xlabel(\"Frequency (Hz)\",fontsize=16)\n",
    "    #plt.text(20, 20, \"RMS_Ratio = %.3f\"%rmsRatio, fontsize=16)\n",
    "    #plt.text(20, 17, \"FFT Peak Ratio = %.3f\"%fftPeakRatio, fontsize=16)\n",
    "    #plt.ylim(0.0,1.0)\n",
    "    plt.xlim(0,500)\n",
    "    plt.legend(loc = 'upper left', fontsize=12)\n",
    "\n",
    "    #plt.savefig(\"/Users/cslage/Research/LSST/code/labJack/accel_data/Transfer_Test_6_Plot_14Sep21.pdf\")\n",
    "    \n",
    "    return az1_tSpace"
   ]
  },
  {
   "cell_type": "code",
   "execution_count": null,
   "id": "eec5e4a7",
   "metadata": {},
   "outputs": [],
   "source": [
    "outSim = calcTransferFunction(scanRate, a1z, a2z)"
   ]
  },
  {
   "cell_type": "code",
   "execution_count": null,
   "id": "cf49c2f7",
   "metadata": {},
   "outputs": [],
   "source": [
    "# Close handles\n",
    "ljm.close(handle)"
   ]
  },
  {
   "cell_type": "code",
   "execution_count": null,
   "id": "67994752",
   "metadata": {},
   "outputs": [],
   "source": [
    "plt.plot(outSim)\n"
   ]
  },
  {
   "cell_type": "code",
   "execution_count": null,
   "id": "d228a054",
   "metadata": {},
   "outputs": [],
   "source": []
  }
 ],
 "metadata": {
  "kernelspec": {
   "display_name": "Python 3 (ipykernel)",
   "language": "python",
   "name": "python3"
  },
  "language_info": {
   "codemirror_mode": {
    "name": "ipython",
    "version": 3
   },
   "file_extension": ".py",
   "mimetype": "text/x-python",
   "name": "python",
   "nbconvert_exporter": "python",
   "pygments_lexer": "ipython3",
   "version": "3.9.5"
  }
 },
 "nbformat": 4,
 "nbformat_minor": 5
}
