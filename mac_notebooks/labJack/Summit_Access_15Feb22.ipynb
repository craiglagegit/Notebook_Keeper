{
 "cells": [
  {
   "cell_type": "markdown",
   "id": "643d4e4d",
   "metadata": {},
   "source": [
    "## LabJack Simple Summit access\\\n",
    " \n",
    "LJM Library:\n",
    "    LJM Library Installer:\n",
    "        https://labjack.com/support/software/installers/ljm\n",
    "    LJM Users Guide:\n",
    "        https://labjack.com/support/software/api/ljm\n",
    "    Opening and Closing:\n",
    "        https://labjack.com/support/software/api/ljm/function-reference/opening-and-closing\n",
    "    Multiple Value Functions(such as eWriteNames):\n",
    "        https://labjack.com/support/software/api/ljm/function-reference/multiple-value-functions\n",
    "    Timing Functions(such as StartInterval):\n",
    "        https://labjack.com/support/software/api/ljm/function-reference/timing-functions\n",
    " \n",
    "T-Series and I/O:\n",
    "    Modbus Map:\n",
    "        https://labjack.com/support/software/api/modbus/modbus-map\n",
    "    Analog Inputs:\n",
    "        https://labjack.com/support/datasheets/t-series/ain"
   ]
  },
  {
   "cell_type": "code",
   "execution_count": null,
   "id": "84339cc7",
   "metadata": {},
   "outputs": [],
   "source": [
    "import sys\n",
    "import time\n",
    "import numpy as np\n",
    "import matplotlib.pyplot as plt\n",
    "\n",
    "from labjack import ljm"
   ]
  },
  {
   "cell_type": "code",
   "execution_count": null,
   "id": "5e619cdd",
   "metadata": {},
   "outputs": [],
   "source": [
    "# Open first found LabJack.  This works now, but won't in the future\n",
    "#handle = ljm.openS(\"T7\", \"ANY\", \"ANY\")  # T7 device, Any connection, Any identifier\n",
    "# Open first found LabJack\n",
    "handle = ljm.openS(\"T7\", \"wifi\", \"139.229.191.31\")  # T7 device, Any connection, Any identifier"
   ]
  },
  {
   "cell_type": "code",
   "execution_count": null,
   "id": "7361fb56",
   "metadata": {},
   "outputs": [],
   "source": [
    "info = ljm.getHandleInfo(handle)\n",
    "print(\"Opened a LabJack with Device type: %i, Connection type: %i,\\n\"\n",
    "      \"Serial number: %i, IP address: %s, Port: %i,\\nMax bytes per MB: %i\" %\n",
    "      (info[0], info[1], info[2], ljm.numberToIP(info[3]), info[4], info[5]))"
   ]
  },
  {
   "cell_type": "code",
   "execution_count": null,
   "id": "696e2dfb",
   "metadata": {},
   "outputs": [],
   "source": [
    "# Close handles\n",
    "ljm.close(handle)"
   ]
  },
  {
   "cell_type": "code",
   "execution_count": null,
   "id": "bd00b4a7",
   "metadata": {},
   "outputs": [],
   "source": []
  }
 ],
 "metadata": {
  "kernelspec": {
   "display_name": "Python 3 (ipykernel)",
   "language": "python",
   "name": "python3"
  },
  "language_info": {
   "codemirror_mode": {
    "name": "ipython",
    "version": 3
   },
   "file_extension": ".py",
   "mimetype": "text/x-python",
   "name": "python",
   "nbconvert_exporter": "python",
   "pygments_lexer": "ipython3",
   "version": "3.9.5"
  }
 },
 "nbformat": 4,
 "nbformat_minor": 5
}
