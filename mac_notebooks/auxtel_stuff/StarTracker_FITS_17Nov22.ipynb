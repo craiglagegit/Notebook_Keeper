{
 "cells": [
  {
   "cell_type": "markdown",
   "id": "0f05c8d9",
   "metadata": {},
   "source": [
    "## DIMM FITS file\n",
    "\n",
    "Craig Lage - 02Nov22"
   ]
  },
  {
   "cell_type": "code",
   "execution_count": null,
   "id": "764e7d40",
   "metadata": {},
   "outputs": [],
   "source": [
    "import sys, time, os, asyncio, glob\n",
    "\n",
    "from datetime import datetime\n",
    "import numpy as np\n",
    "import matplotlib.pyplot as plt\n",
    "from matplotlib.colors import LogNorm\n",
    "import astropy.io.fits as pf\n"
   ]
  },
  {
   "cell_type": "code",
   "execution_count": null,
   "id": "4705322d",
   "metadata": {},
   "outputs": [],
   "source": [
    "hdulist = pf.open(\"/Users/cslage/Research/LSST/code/starTracker/GC102_1123_9.fits\")"
   ]
  },
  {
   "cell_type": "code",
   "execution_count": null,
   "id": "83a47c6a-c7d3-498a-83e0-97ead9512220",
   "metadata": {
    "jupyter": {
     "outputs_hidden": true
    },
    "tags": []
   },
   "outputs": [],
   "source": [
    "hdulist[0].header"
   ]
  },
  {
   "cell_type": "code",
   "execution_count": null,
   "id": "60d734a3-e6f1-4975-b120-d14ecabe170c",
   "metadata": {},
   "outputs": [],
   "source": [
    "data = hdulist[1].data"
   ]
  },
  {
   "cell_type": "code",
   "execution_count": null,
   "id": "0a44c407-2e66-48f1-a4bd-d464a3cb94a9",
   "metadata": {},
   "outputs": [],
   "source": [
    "pf.writeto(\"/Users/cslage/Research/LSST/code/starTracker/GC102_1123_9_mod.fits\", data)"
   ]
  },
  {
   "cell_type": "code",
   "execution_count": null,
   "id": "7221f80a-d039-45cd-8297-ce1c246131bb",
   "metadata": {},
   "outputs": [],
   "source": [
    "hdulist = pf.open(\"/Users/cslage/Research/LSST/code/starTracker/GC40_mod.fits\")"
   ]
  },
  {
   "cell_type": "code",
   "execution_count": null,
   "id": "aef9e960-e8e0-4f67-b2a9-785b2898912d",
   "metadata": {
    "tags": []
   },
   "outputs": [],
   "source": [
    "hdulist[0].header"
   ]
  },
  {
   "cell_type": "code",
   "execution_count": null,
   "id": "f9ed557d-2f4c-4a53-8b9e-1a659a44fc3e",
   "metadata": {},
   "outputs": [],
   "source": [
    "hdulist[1].data = []"
   ]
  },
  {
   "cell_type": "code",
   "execution_count": null,
   "id": "7bfa4db2-1ebe-4979-8a52-1387efdbe9bf",
   "metadata": {},
   "outputs": [],
   "source": [
    "hdulist[0].data"
   ]
  },
  {
   "cell_type": "code",
   "execution_count": null,
   "id": "0e9f8bcc-990d-427d-9525-df020c9533ed",
   "metadata": {},
   "outputs": [],
   "source": []
  }
 ],
 "metadata": {
  "jupytext": {
   "formats": "ipynb,markdown//md"
  },
  "kernelspec": {
   "display_name": "Python 3 (ipykernel)",
   "language": "python",
   "name": "python3"
  },
  "language_info": {
   "codemirror_mode": {
    "name": "ipython",
    "version": 3
   },
   "file_extension": ".py",
   "mimetype": "text/x-python",
   "name": "python",
   "nbconvert_exporter": "python",
   "pygments_lexer": "ipython3",
   "version": "3.9.12"
  }
 },
 "nbformat": 4,
 "nbformat_minor": 5
}
