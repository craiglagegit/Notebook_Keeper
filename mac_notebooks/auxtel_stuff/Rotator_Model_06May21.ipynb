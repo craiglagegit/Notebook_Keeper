{
 "cells": [
  {
   "cell_type": "markdown",
   "metadata": {},
   "source": [
    "## AuxTel Nasmyth Rotator Torque Model.\n",
    "\n",
    "Attempting to model the torque vs angle of the AuxTel Nasmyth2 rotator to aid with balancing.\\\n",
    "Craig Lage 06 - May - 2021"
   ]
  },
  {
   "cell_type": "code",
   "execution_count": null,
   "metadata": {},
   "outputs": [],
   "source": [
    "import numpy as np\n",
    "import matplotlib\n",
    "from matplotlib.patches import Circle, Wedge, Polygon, Rectangle\n",
    "from matplotlib.collections import PatchCollection\n",
    "import matplotlib.pyplot as plt"
   ]
  },
  {
   "cell_type": "code",
   "execution_count": null,
   "metadata": {},
   "outputs": [],
   "source": [
    "# Basic quantities\n",
    "Basic = {}\n",
    "Basic['rDewar'] = 20.0 # Radius of Dewar in cm\n",
    "Basic['nDewar'] = 100 # Number of segments making up the Dewar mass load\n",
    "Basic['mDewar'] = 1.0 # Mass of each Dewar segment in kg\n",
    "Basic['L'] = 50.0 # Side dimension of 4 strut pieces in cm\n",
    "Basic['mSide'] = 5.0 # mass of 4 side struts in kg\n",
    "Basic['friction'] =2000.0 # Magnitude of frictional component\n",
    "Basic['W'] = 2.0 # Size of corners in cm\n",
    "Basic['R'] = 1.0 # radius of Dewar segments in cm"
   ]
  },
  {
   "cell_type": "code",
   "execution_count": null,
   "metadata": {},
   "outputs": [],
   "source": [
    "def plotMasses(Basic, Adds, ax):\n",
    "    ax.set_aspect(1.0)\n",
    "    L = Basic['L']\n",
    "    W = Basic['W']\n",
    "    R = Basic['R']\n",
    "    rDewar = Basic['rDewar']\n",
    "    nDewar = Basic['nDewar']\n",
    "    center1 = Rectangle((-0.1, -2.5), 0.2, 5.0, ec='black', fc='black')\n",
    "    ax.add_patch(center1)\n",
    "    center2 = Rectangle((-2.5, -0.1), 5.0, 0.2, ec='black', fc='black')\n",
    "    ax.add_patch(center2)\n",
    "    # Plot corners\n",
    "    for signX in [-1.0,1.0]:\n",
    "        for signY in [-1.0, 1.0]:\n",
    "            corner = Rectangle((signX*L/2.0, signY/2.0*L), W, W, ec='black', fc='black')\n",
    "            ax.add_patch(corner)\n",
    "    theta = 0.0\n",
    "    # Plot Dewar simulator\n",
    "    for n in range(nDewar):\n",
    "        theta += 2.0 * np.pi / float(nDewar)\n",
    "        segment = Circle((rDewar * np.cos(theta), rDewar * np.sin(theta)), R, ec='black', fc='yellow')\n",
    "        ax.add_patch(segment)  \n",
    "    # Plot added weights\n",
    "    for m,x,y in Adds:\n",
    "        mass = Rectangle((x, y), W, W, ec='red', fc='red')\n",
    "        ax.add_patch(mass)\n",
    "    ax.set_xlim(-40,40)\n",
    "    ax.set_ylim(-40,40)"
   ]
  },
  {
   "cell_type": "code",
   "execution_count": null,
   "metadata": {},
   "outputs": [],
   "source": [
    "def calculateTorque(Basic, Adds, ax, fudgeFactor=1.0):\n",
    "    # The torque is RxF, which is basically just the x-corrdinate of the mass times the weight\n",
    "    # We add in a frictional component and then add up the torques due to all of the masses\n",
    "    g = 10.0\n",
    "    L = Basic['L']\n",
    "    W = Basic['W']\n",
    "    R = Basic['R']\n",
    "    rDewar = Basic['rDewar']\n",
    "    nDewar = Basic['nDewar']\n",
    "    nSteps = 500\n",
    "    angles = []\n",
    "    torques = []\n",
    "    deltaPhi = 320.0 / float(nSteps)\n",
    "    \n",
    "    phi = -160.0\n",
    "    for sign in [1.0,-1.0]:\n",
    "        for n in range(nSteps):\n",
    "            # First add in a constant frictional torque that opposes the motion\n",
    "            torque = Basic['friction'] * sign\n",
    "            c, s = np.cos(phi*np.pi/180.0), np.sin(phi*np.pi/180.0)\n",
    "            # This is the rotation matrix that rotates (X,Y) into the current coordinates\n",
    "            Rot = np.array(((c, s), (-s, c))) \n",
    "            # Torque due to corners\n",
    "            for signX in [-1.0,1.0]:\n",
    "                for signY in [-1.0, 1.0]:\n",
    "                    coords = np.array([signX*L/2.0, signY/2.0*L])\n",
    "                    rotated_coords = Rot.dot(coords)\n",
    "                    x = rotated_coords[0]\n",
    "                    torque -= Basic['mSide'] * g * x\n",
    "            # Torque due to Dewar simulator\n",
    "            theta = phi*np.pi/180.0\n",
    "            for n in range(nDewar):\n",
    "                theta += 2.0 * np.pi / float(nDewar)\n",
    "                coords = np.array([rDewar * np.cos(theta), rDewar * np.sin(theta)])\n",
    "                rotated_coords = Rot.dot(coords)\n",
    "                x = rotated_coords[0]\n",
    "                torque -= Basic['mSide'] * g * x\n",
    "            # Torque due to added weights\n",
    "            for m,x,y in Adds:\n",
    "                coords = np.array([x, y])\n",
    "                rotated_coords = Rot.dot(coords)\n",
    "                x = rotated_coords[0]\n",
    "                torque -= m * g * x\n",
    "            angles.append(phi)\n",
    "            torques.append(torque * fudgeFactor)\n",
    "            phi = phi + sign * deltaPhi\n",
    "    ax.plot(angles, torques)\n",
    "    ax.plot([-160,160], [3.0,3.0], color='red', ls='--')\n",
    "    ax.plot([-160,160], [-3.0,-3.0], color='red', ls='--')\n",
    "    ax.arrow(-140, 2.5, 50,0, width=0.1,head_length = 5.0, color='green')\n",
    "    ax.arrow(140, -2.5, -50,0, width=0.1,head_length = 5.0, color='green')\n",
    "    ax.set_ylim(-3.5,3.5)\n",
    "    ax.set_xlabel(\"Angle(degrees)\")\n",
    "    ax.set_ylabel(\"Torque(arbitrary)\")\n",
    "    return"
   ]
  },
  {
   "cell_type": "code",
   "execution_count": null,
   "metadata": {},
   "outputs": [],
   "source": [
    "# Torque curve if perfectly balanced\n",
    "Adds = [] # List of additional weights in (mass, X, Y) format\n",
    "fig, (ax1, ax2) = plt.subplots(1, 2, figsize = (16,8))\n",
    "plotMasses(Basic, Adds, ax1)\n",
    "calculateTorque(Basic, Adds, ax2, fudgeFactor=0.0005)\n",
    "plt.savefig(\"/Users/cslage/Research/LSST/code/auxtel/mount_issues/rotator_faults/Perfectly_Balanced.pdf\")"
   ]
  },
  {
   "cell_type": "code",
   "execution_count": null,
   "metadata": {},
   "outputs": [],
   "source": [
    "# Torque curve with more weight on right side\n",
    "Adds = [(2.0, 25.0, 22.0), (2.0, 25.0, -22.0)] # List of additional weights in (mass, X, Y) format\n",
    "fig, (ax1, ax2) = plt.subplots(1, 2, figsize = (16,8))\n",
    "plotMasses(Basic, Adds, ax1)\n",
    "calculateTorque(Basic, Adds, ax2, fudgeFactor=0.0005)\n",
    "plt.savefig(\"/Users/cslage/Research/LSST/code/auxtel/mount_issues/rotator_faults/Weight_Right.pdf\")"
   ]
  },
  {
   "cell_type": "code",
   "execution_count": null,
   "metadata": {},
   "outputs": [],
   "source": [
    "# Torque curve with C-clamps\n",
    "Adds = [(2.0, 25.0, 22.0), (2.0, 25.0, -22.0), (2.0, -25.0, -22.0)] # List of additional weights in (mass, X, Y) format\n",
    "fig, (ax1, ax2) = plt.subplots(1, 2, figsize = (16,8))\n",
    "plotMasses(Basic, Adds, ax1)\n",
    "calculateTorque(Basic, Adds, ax2, fudgeFactor=0.0005)\n",
    "plt.savefig(\"/Users/cslage/Research/LSST/code/auxtel/mount_issues/rotator_faults/CClamps.pdf\")"
   ]
  },
  {
   "cell_type": "code",
   "execution_count": null,
   "metadata": {},
   "outputs": [],
   "source": []
  }
 ],
 "metadata": {
  "kernelspec": {
   "display_name": "Python 3",
   "language": "python",
   "name": "python3"
  },
  "language_info": {
   "codemirror_mode": {
    "name": "ipython",
    "version": 3
   },
   "file_extension": ".py",
   "mimetype": "text/x-python",
   "name": "python",
   "nbconvert_exporter": "python",
   "pygments_lexer": "ipython3",
   "version": "3.7.4"
  }
 },
 "nbformat": 4,
 "nbformat_minor": 2
}
