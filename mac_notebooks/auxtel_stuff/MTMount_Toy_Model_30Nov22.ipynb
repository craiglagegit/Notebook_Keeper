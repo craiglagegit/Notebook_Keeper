{
 "cells": [
  {
   "cell_type": "code",
   "execution_count": null,
   "id": "e10463c5-3817-4914-aa80-e22ef27ed291",
   "metadata": {},
   "outputs": [],
   "source": [
    "import numpy as np\n",
    "from datetime import date\n",
    "import matplotlib\n",
    "import matplotlib.pyplot as plt\n",
    "\n",
    "from astropy.time import Time, TimeDelta\n",
    "from astropy.coordinates import AltAz, ICRS, EarthLocation, Angle, FK5\n",
    "import astropy.units as u\n"
   ]
  },
  {
   "cell_type": "code",
   "execution_count": null,
   "id": "89a0e120-7172-44c8-8d97-7b1ee66db409",
   "metadata": {},
   "outputs": [],
   "source": [
    "def AzElPrime(Az, El, delta, alpha):\n",
    "    # First find ElPrime\n",
    "    sinElPrime = np.cos(alpha - El) * np.sin(delta) * np.cos(El) - np.cos(delta) * np.sin(El)\n",
    "    ElPrime = Angle(-np.arcsin(sinElPrime))\n",
    "    # Now find beta\n",
    "    cosBeta = (np.cos(delta) - np.sin(El) * np.sin(ElPrime)) / (np.cos(El) * np.cos(ElPrime))\n",
    "    beta = Angle(np.arccos(cosBeta))\n",
    "    #Now find AzPrime by Newton's method\n",
    "    cosAzPrime = np.cos(Az)\n",
    "    AzError = 100.0\n",
    "    while AzError > 1E-6:\n",
    "        sinAzPrime = np.sqrt(1.0 - cosAzPrime**2)\n",
    "\n",
    "        num = np.cos(Az) - cosAzPrime * np.cos(beta) + np.sin(ElPrime) * sinAzPrime * np.sin(beta)\n",
    "        den = np.cos(Az) + sinAzPrime * np.cos(beta) + np.sin(ElPrime) * cosAzPrime * np.sin(beta)\n",
    "        nextCosAzPrime = cosAzPrime + num / den\n",
    "        AzError = abs(nextCosAzPrime - cosAzPrime)\n",
    "        cosAzPrime = nextCosAzPrime\n",
    "    AzPrime = Angle(np.arccos(cosAzPrime))\n",
    "    return [AzPrime.deg, ElPrime.deg]"
   ]
  },
  {
   "cell_type": "code",
   "execution_count": null,
   "id": "521d50e8-52ff-45a5-9614-52f83da2668c",
   "metadata": {},
   "outputs": [],
   "source": [
    "deltaAz0 = 4.25\n",
    "deltaEl0 = 0.15\n",
    "Az = Angle(45.0 * u.deg)\n",
    "delta = Angle(0.08 * u.deg)\n",
    "alpha = Angle(20.0 * u.deg)\n",
    "els = np.linspace(20, 87, 100)\n",
    "modEls = Angle(els * u.deg)\n",
    "modDeltaEls = []\n",
    "modDeltaAzs = []\n",
    "for El in modEls:\n",
    "    [AzPrime, ElPrime] = AzElPrime(Az, El, delta, alpha)\n",
    "    modDeltaEls.append(El.deg - ElPrime + deltaEl0)\n",
    "    modDeltaAzs.append(Az.deg - AzPrime + deltaAz0)\n",
    "plt.subplot(1,2,1)\n",
    "plt.plot(els, modDeltaAzs, color='green', ls='--', lw=3)\n",
    "plt.subplot(1,2,2)\n",
    "plt.plot(els, modDeltaEls, color='green', ls='--', lw=3)"
   ]
  },
  {
   "cell_type": "code",
   "execution_count": null,
   "id": "56190244-c275-4b4b-a52a-8402bc546f28",
   "metadata": {},
   "outputs": [],
   "source": [
    "dir = \"/Users/cslage/Research/LSST/code/starTracker/tab_delimited_summaries\""
   ]
  },
  {
   "cell_type": "code",
   "execution_count": null,
   "id": "c4c360ea-3253-493d-bac6-165cd852ebd0",
   "metadata": {},
   "outputs": [],
   "source": [
    "date = 28\n",
    "camera = 'Wide'\n",
    "num = 101\n",
    "filename = f\"StarTracker_Summary_{camera}_202211{date}.txt\"\n",
    "data = np.loadtxt(dir+\"/\"+filename, skiprows=1)\n",
    "Azs = []\n",
    "Els = []\n",
    "deltaAzs = []\n",
    "deltaEls = []\n",
    "for j in range(data.shape[0]):\n",
    "    [seqNum,raStart,decStart,raSolve,decSolve,azStart,elStart,az,\\\n",
    "     el,deltaAz,deltaEl,rot,rms_error] = data[j]\n",
    "    Azs.append(azStart)\n",
    "    Els.append(elStart)\n",
    "    deltaAzs.append(deltaAz)\n",
    "    deltaEls.append(deltaEl)\n",
    "Azs = np.array(Azs)\n",
    "Els = np.array(Els)\n",
    "deltaAzs = np.array(deltaAzs)\n",
    "deltaEls = np.array(deltaEls)\n"
   ]
  },
  {
   "cell_type": "code",
   "execution_count": null,
   "id": "55515711-45f5-4153-8c93-2a41de02120b",
   "metadata": {},
   "outputs": [],
   "source": [
    "plt.figure(figsize=(8,4))\n",
    "plt.subplots_adjust(wspace=0.5, hspace=0.5)\n",
    "plt.subplot(1,2,1)\n",
    "plt.title(\"DeltaAz vs Alt\")\n",
    "plt.plot(els, modDeltaAzs, color='green', ls='--', lw=3)\n",
    "plt.scatter(Els, deltaAzs)\n",
    "plt.text(5.0, 5.0, f\"Axis tilt = {delta.deg*60.0} arcminutes\")\n",
    "plt.xlim(0,90)\n",
    "plt.xlabel(\"Altitude(degrees)\")\n",
    "plt.ylabel(\"DeltaAz(degrees)\")\n",
    "plt.subplot(1,2,2)\n",
    "plt.title(\"DeltaAlt vs Alt\")\n",
    "plt.plot(els, modDeltaEls, color='green', ls='--', lw=3)\n",
    "plt.scatter(Els, deltaEls)\n",
    "plt.xlim(0,90)\n",
    "plt.xlabel(\"Altitude(degrees)\")\n",
    "plt.ylabel(\"DeltaAlt(degrees)\")\n",
    "plt.savefig(dir+\"/Deltas_vs_AltAz_01Dec22.png\")"
   ]
  },
  {
   "cell_type": "code",
   "execution_count": null,
   "id": "46251016-d4ec-46f4-aab7-375667b1a064",
   "metadata": {},
   "outputs": [],
   "source": []
  }
 ],
 "metadata": {
  "kernelspec": {
   "display_name": "Python 3 (ipykernel)",
   "language": "python",
   "name": "python3"
  },
  "language_info": {
   "codemirror_mode": {
    "name": "ipython",
    "version": 3
   },
   "file_extension": ".py",
   "mimetype": "text/x-python",
   "name": "python",
   "nbconvert_exporter": "python",
   "pygments_lexer": "ipython3",
   "version": "3.9.12"
  }
 },
 "nbformat": 4,
 "nbformat_minor": 5
}
