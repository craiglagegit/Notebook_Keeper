{
 "cells": [
  {
   "cell_type": "markdown",
   "id": "0f05c8d9",
   "metadata": {},
   "source": [
    "## DIMM FITS file\n",
    "\n",
    "Craig Lage - 02Nov22"
   ]
  },
  {
   "cell_type": "code",
   "execution_count": null,
   "id": "764e7d40",
   "metadata": {},
   "outputs": [],
   "source": [
    "import sys, time, os, asyncio, glob\n",
    "\n",
    "from datetime import datetime\n",
    "import numpy as np\n",
    "import matplotlib.pyplot as plt\n",
    "from matplotlib.colors import LogNorm\n",
    "import astropy.io.fits as pf\n"
   ]
  },
  {
   "cell_type": "code",
   "execution_count": null,
   "id": "4705322d",
   "metadata": {},
   "outputs": [],
   "source": [
    "hdulist = pf.open(\"/Users/cslage/Research/LSST/code/dimm/highcounts.fits\",  mode='update')"
   ]
  },
  {
   "cell_type": "code",
   "execution_count": null,
   "id": "83a47c6a-c7d3-498a-83e0-97ead9512220",
   "metadata": {},
   "outputs": [],
   "source": [
    "header = hdulist[0].header"
   ]
  },
  {
   "cell_type": "code",
   "execution_count": null,
   "id": "96708077-98a6-43d4-9780-8400f0834dac",
   "metadata": {},
   "outputs": [],
   "source": [
    "header"
   ]
  },
  {
   "cell_type": "code",
   "execution_count": null,
   "id": "c37d822e-f7da-44cf-a3d9-0eefc0548245",
   "metadata": {},
   "outputs": [],
   "source": [
    "header.set('B0', 0)"
   ]
  },
  {
   "cell_type": "code",
   "execution_count": null,
   "id": "a9db071f-bf85-484b-9c19-249c4471c08e",
   "metadata": {},
   "outputs": [],
   "source": [
    "hdulist.close()\n"
   ]
  },
  {
   "cell_type": "code",
   "execution_count": null,
   "id": "60d734a3-e6f1-4975-b120-d14ecabe170c",
   "metadata": {},
   "outputs": [],
   "source": [
    "data = hdulist[0].data"
   ]
  },
  {
   "cell_type": "code",
   "execution_count": null,
   "id": "36599b9f-4230-4cd7-9eb2-873843e0c00c",
   "metadata": {},
   "outputs": [],
   "source": [
    "data = np.array(hdulist[0].data + 32768, dtype = np.int16)        "
   ]
  },
  {
   "cell_type": "code",
   "execution_count": null,
   "id": "9eb15e9c-bfdc-4ac9-8bbd-686dbaa8272e",
   "metadata": {},
   "outputs": [],
   "source": [
    "data"
   ]
  },
  {
   "cell_type": "code",
   "execution_count": null,
   "id": "3545fe0e-eec0-45b8-8d86-015b554a4ad5",
   "metadata": {},
   "outputs": [],
   "source": [
    "plt.imshow(data, interpolation='nearest')"
   ]
  },
  {
   "cell_type": "code",
   "execution_count": null,
   "id": "85d540bb-9f24-403c-9fe9-15d5d702c8a5",
   "metadata": {},
   "outputs": [],
   "source": [
    "plt.plot(data[28, 20:40])\n",
    "plt.text(14, 3500, f\"Peak={data[28,28]}\")"
   ]
  },
  {
   "cell_type": "code",
   "execution_count": null,
   "id": "33f9f2c4-6cd8-4765-a51b-e9d1e838ba9c",
   "metadata": {},
   "outputs": [],
   "source": []
  }
 ],
 "metadata": {
  "jupytext": {
   "formats": "ipynb,markdown//md"
  },
  "kernelspec": {
   "display_name": "Python 3 (ipykernel)",
   "language": "python",
   "name": "python3"
  },
  "language_info": {
   "codemirror_mode": {
    "name": "ipython",
    "version": 3
   },
   "file_extension": ".py",
   "mimetype": "text/x-python",
   "name": "python",
   "nbconvert_exporter": "python",
   "pygments_lexer": "ipython3",
   "version": "3.9.12"
  }
 },
 "nbformat": 4,
 "nbformat_minor": 5
}
