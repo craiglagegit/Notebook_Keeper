{
 "cells": [
  {
   "cell_type": "code",
   "execution_count": null,
   "id": "d7ac39a2",
   "metadata": {},
   "outputs": [],
   "source": [
    "import numpy as np\n",
    "import matplotlib.pyplot as plt\n",
    "from scipy.special import erf"
   ]
  },
  {
   "cell_type": "code",
   "execution_count": null,
   "id": "b1cdf3be",
   "metadata": {},
   "outputs": [],
   "source": [
    "def Area(xl, xh, yl, yh, sigmax, sigmay, Imax):\n",
    "    # Calculates how much of a 2D Gaussian falls within a rectangular box\n",
    "    ssigx = np.sqrt(2) * sigmax\n",
    "    ssigy = np.sqrt(2) * sigmay    \n",
    "    I = (erf(xh/ssigx)-erf(xl/ssigx))*(erf(yh/ssigy)-erf(yl/ssigy))\n",
    "    return Imax * I / 4.0\n",
    "\n",
    "class Array2d:\n",
    "    def __init__(self,xmin,xmax,nx,ymin,ymax,ny):\n",
    "        # This packages up an image which is nx * ny pixels\n",
    "        self.nx=nx\n",
    "        self.ny=ny\n",
    "\n",
    "        self.xmin=xmin\n",
    "        self.ymin=ymin\n",
    "        \n",
    "        self.xmax=xmax\n",
    "        self.ymax=ymax\n",
    "        \n",
    "        self.dx=(xmax-xmin)/nx\n",
    "        self.dy=(ymax-ymin)/ny\n",
    "        \n",
    "        self.x=np.linspace(xmin+self.dx/2,xmax-self.dx/2,nx)\n",
    "        self.y=np.linspace(ymin+self.dy/2,ymax-self.dy/2,ny)\n",
    "\n",
    "        self.data=np.zeros([nx,ny])\n",
    "\n",
    "\n",
    "def BuildImage(nx, ny, sigmax, sigmay, Imax):\n",
    "    spot = Array2d(-0.5, 0.5, nx,-0.5, 0.5, ny)\n",
    "             \n",
    "    for i in range(nx):\n",
    "        for j in range(ny):\n",
    "            xl = spot.x[i] - spot.dx / 2.0\n",
    "            xh = xl + spot.dx\n",
    "            yl = spot.y[j] - spot.dx / 2.0\n",
    "            yh = yl + spot.dx\n",
    "            spot.data[i,j] = Area(xl, xh, yl, yh, sigmax, sigmay, Imax)                \n",
    "    return spot"
   ]
  },
  {
   "cell_type": "code",
   "execution_count": null,
   "id": "7761215f",
   "metadata": {},
   "outputs": [],
   "source": [
    "spot = BuildImage(50, 50, 0.10, 0.05, 100000)"
   ]
  },
  {
   "cell_type": "code",
   "execution_count": null,
   "id": "be0d8cc4",
   "metadata": {},
   "outputs": [],
   "source": [
    "plt.imshow(spot.data, interpolation='nearest')"
   ]
  },
  {
   "cell_type": "code",
   "execution_count": null,
   "id": "ec4f866d",
   "metadata": {},
   "outputs": [],
   "source": [
    "def CalculateRotatedMoments(spot, theta):\n",
    "    theta = theta * np.pi / 180.0\n",
    "    sum = 0.0\n",
    "    Ix = 0.0\n",
    "    Iy = 0.0\n",
    "    Ixx = 0.0\n",
    "    Iyy = 0.0\n",
    "    Ixy = 0.0\n",
    "    for i in range(spot.nx):\n",
    "        for j in range(spot.ny):\n",
    "            x = spot.x[i]\n",
    "            y = spot.y[j]\n",
    "            xp = np.cos(theta) * x - np.sin(theta) * y\n",
    "            yp = np.sin(theta) * x + np.cos(theta) * y\n",
    "            sum += spot.data[i,j]\n",
    "            Ix += xp * spot.data[i,j]\n",
    "            Iy += yp * spot.data[i,j]\n",
    "            Ixx += xp * xp * spot.data[i,j]\n",
    "            Iyy += yp * yp * spot.data[i,j]\n",
    "            Ixy += xp * yp * spot.data[i,j]\n",
    "    Ix /= sum\n",
    "    Iy /= sum\n",
    "    Ixx /= sum\n",
    "    Iyy /= sum\n",
    "    Ixy /= sum\n",
    "    \n",
    "    print(f\"Sum={sum:.1f}, Ix={Ix:.6f}, Iy={Iy:.6f}, Ixx={Ixx:.6f}, Iyy={Iyy:.6f}, Ixy={Ixy:.6f}\")\n",
    "    return [sum, Ix, Iy, Ixx, Iyy, Ixy]\n",
    "            \n",
    "\n",
    "def RotatedMoments(Ixx, Iyy, Ixy, theta):\n",
    "    # Rotates the moments about an angle theta.\n",
    "    # Formulae are fron the Sextractor documentation\n",
    "    # https://sextractor.readthedocs.io/en/latest/Position.html\\\n",
    "    # ?highlight=shape#basic-shape-parameters-a-b-theta\n",
    "    theta = theta * np.pi / 180.0\n",
    "    c = np.cos(theta)\n",
    "    s = np.sin(theta)\n",
    "    IxxRot = c * c * Ixx + s * s * Iyy - 2.0 * c * s * Ixy\n",
    "    IyyRot = s * s * Ixx + c * c * Iyy + 2.0 * c * s * Ixy\n",
    "    IxyRot = c * s * (Ixx - Iyy) + (c * c - s * s) * Ixy\n",
    "    return [IxxRot, IyyRot, IxyRot]  "
   ]
  },
  {
   "cell_type": "code",
   "execution_count": null,
   "id": "96b6fcad",
   "metadata": {},
   "outputs": [],
   "source": [
    "[sum, Ix, Iy, Ixx, Iyy, Ixy] = CalculateRotatedMoments(spot, 0.0)"
   ]
  },
  {
   "cell_type": "code",
   "execution_count": null,
   "id": "a26aecc5",
   "metadata": {},
   "outputs": [],
   "source": [
    "Ip = (Ixx + Iyy) / 2.0\n",
    "Im = (Ixx - Iyy) / 2.0\n",
    "A2 = Ip + np.sqrt(Im**2 + Ixy**2)\n",
    "B2 = Ip - np.sqrt(Im**2 + Ixy**2)\n",
    "phi = np.arctan2(Ixy , Im) / 2.0\n",
    "\n",
    "print(A2, B2, phi * 180.0 / np.pi)"
   ]
  },
  {
   "cell_type": "code",
   "execution_count": null,
   "id": "d63859cb",
   "metadata": {},
   "outputs": [],
   "source": [
    "theta = 22.0\n",
    "[sum, Ixp, Iyp, Ixxp, Iyyp, Ixyp] = CalculateRotatedMoments(spot, theta)"
   ]
  },
  {
   "cell_type": "code",
   "execution_count": null,
   "id": "a74a114e",
   "metadata": {},
   "outputs": [],
   "source": [
    "Ipp = (Ixxp + Iyyp) / 2.0\n",
    "Imp = (Ixxp - Iyyp) / 2.0\n",
    "A2p = Ipp + np.sqrt(Imp**2 + Ixyp**2)\n",
    "B2p = Ipp - np.sqrt(Imp**2 + Ixyp**2)\n",
    "phip = np.arctan2(Ixyp , Imp) / 2.0\n",
    "\n",
    "print(A2p, B2p, phip * 180.0 / np.pi)"
   ]
  },
  {
   "cell_type": "code",
   "execution_count": null,
   "id": "e0c12de7",
   "metadata": {},
   "outputs": [],
   "source": [
    "# Going forward\n",
    "[Ixxpp, Iyypp, Ixypp] = RotatedMoments(Ixx, Iyy, Ixy, theta)\n",
    "print(Ixxpp, Iyypp, Ixypp)"
   ]
  },
  {
   "cell_type": "code",
   "execution_count": null,
   "id": "3712e362",
   "metadata": {},
   "outputs": [],
   "source": [
    "# Going back\n",
    "[Ixx0, Iyy0, Ixy0] = RotatedMoments(Ixxp, Iyyp, Ixyp, -theta)\n",
    "print(Ixx0, Iyy0, Ixy0)"
   ]
  },
  {
   "cell_type": "code",
   "execution_count": null,
   "id": "2c65a454",
   "metadata": {},
   "outputs": [],
   "source": [
    "# All the stuff below is stuff I no longer need."
   ]
  },
  {
   "cell_type": "code",
   "execution_count": null,
   "id": "32d70174",
   "metadata": {},
   "outputs": [],
   "source": [
    "theta"
   ]
  },
  {
   "cell_type": "code",
   "execution_count": null,
   "id": "ea183831",
   "metadata": {},
   "outputs": [],
   "source": [
    "# Now this should recover the moments about the original unrotated axis\n",
    "IxxTest = ((A2p + B2p) + (A2p - B2p) / np.sqrt(1.0 + (np.tan(2.0 * phi))**2)) / 2.0\n",
    "IyyTest = ((A2p + B2p) - (A2p - B2p) / np.sqrt(1.0 + (np.tan(2.0 * phi))**2)) / 2.0\n",
    "print(IxxTest, IyyTest)"
   ]
  },
  {
   "cell_type": "code",
   "execution_count": null,
   "id": "91501a58",
   "metadata": {},
   "outputs": [],
   "source": [
    "# Now this should recover the moments about the original unrotated axis\n",
    "SqTerm = np.sqrt(Imp**2 + Ixyp**2)\n",
    "IxxTest2 = (Ipp + SqTerm / np.sqrt(1.0 + (np.tan(2.0 * phi))**2))\n",
    "IyyTest2 = (Ipp - SqTerm / np.sqrt(1.0 + (np.tan(2.0 * phi))**2))\n",
    "print(IxxTest2, IyyTest2)"
   ]
  },
  {
   "cell_type": "code",
   "execution_count": null,
   "id": "ba028bc3",
   "metadata": {},
   "outputs": [],
   "source": [
    "# Now this should calculate the moments about a rotated axis\n",
    "thetaR = theta * np.pi / 180.0\n",
    "SqTerm = np.sqrt(Im**2 + Ixy**2)\n",
    "IxxTest3 = (Ip + SqTerm / np.sqrt(1.0 + (np.tan(2.0 * theta))**2))\n",
    "IyyTest3 = (Ip - SqTerm / np.sqrt(1.0 + (np.tan(2.0 * theta))**2))\n",
    "print(IxxTest3, IyyTest3)"
   ]
  },
  {
   "cell_type": "code",
   "execution_count": null,
   "id": "37b51fe9",
   "metadata": {},
   "outputs": [],
   "source": [
    "# This is just a test to see if the rotational moments are correct\n",
    "thetaR = theta * np.pi / 180.0\n",
    "IxxpTest = np.cos(thetaR)**2 * Ixx + np.sin(thetaR)**2 * Iyy - 2.0 * np.cos(thetaR) * np.sin(thetaR) * Ixy\n",
    "IyypTest = np.sin(thetaR)**2 * Ixx + np.cos(thetaR)**2 * Iyy + 2.0 * np.cos(thetaR) * np.sin(thetaR) * Ixy\n",
    "IxypTest = np.cos(thetaR) * np.sin(thetaR) * (Ixx - Iyy) + (np.cos(thetaR)**2 - np.sin(thetaR)**2) * Ixy\n",
    "\n",
    "print(IxxpTest, IyypTest, IxypTest)\n"
   ]
  },
  {
   "cell_type": "code",
   "execution_count": null,
   "id": "28448876",
   "metadata": {},
   "outputs": [],
   "source": []
  }
 ],
 "metadata": {
  "kernelspec": {
   "display_name": "Python 3 (ipykernel)",
   "language": "python",
   "name": "python3"
  },
  "language_info": {
   "codemirror_mode": {
    "name": "ipython",
    "version": 3
   },
   "file_extension": ".py",
   "mimetype": "text/x-python",
   "name": "python",
   "nbconvert_exporter": "python",
   "pygments_lexer": "ipython3",
   "version": "3.9.5"
  }
 },
 "nbformat": 4,
 "nbformat_minor": 5
}
