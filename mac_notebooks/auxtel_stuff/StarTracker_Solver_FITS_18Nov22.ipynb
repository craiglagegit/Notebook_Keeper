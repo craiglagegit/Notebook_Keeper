{
 "cells": [
  {
   "cell_type": "markdown",
   "id": "0f05c8d9",
   "metadata": {},
   "source": [
    "## Astropy FITS file\n",
    "\n",
    "Craig Lage - 02Nov22"
   ]
  },
  {
   "cell_type": "code",
   "execution_count": null,
   "id": "764e7d40",
   "metadata": {},
   "outputs": [],
   "source": [
    "import sys, time, os, asyncio, glob\n",
    "\n",
    "from datetime import datetime\n",
    "import numpy as np\n",
    "import matplotlib.pyplot as plt\n",
    "from matplotlib.colors import LogNorm\n",
    "import astropy.io.fits as pf\n",
    "from astropy.table import Table\n"
   ]
  },
  {
   "cell_type": "code",
   "execution_count": null,
   "id": "4705322d",
   "metadata": {},
   "outputs": [],
   "source": [
    "hdulist = pf.open(\"/Users/cslage/Research/LSST/code/starTracker/2022112309_narrow_corr.fits\")"
   ]
  },
  {
   "cell_type": "code",
   "execution_count": null,
   "id": "83a47c6a-c7d3-498a-83e0-97ead9512220",
   "metadata": {
    "jupyter": {
     "outputs_hidden": true
    },
    "tags": []
   },
   "outputs": [],
   "source": [
    "hdulist[1].header"
   ]
  },
  {
   "cell_type": "code",
   "execution_count": null,
   "id": "60d734a3-e6f1-4975-b120-d14ecabe170c",
   "metadata": {},
   "outputs": [],
   "source": [
    "data = hdulist[1].data"
   ]
  },
  {
   "cell_type": "code",
   "execution_count": null,
   "id": "0e9f8bcc-990d-427d-9525-df020c9533ed",
   "metadata": {
    "jupyter": {
     "outputs_hidden": true
    },
    "tags": []
   },
   "outputs": [],
   "source": [
    "print(hdulist[1].columns)\n"
   ]
  },
  {
   "cell_type": "code",
   "execution_count": null,
   "id": "33d85f12-f9cd-44e2-94d1-edf2826fe701",
   "metadata": {},
   "outputs": [],
   "source": [
    "evt_data = Table(hdulist[1].data)"
   ]
  },
  {
   "cell_type": "code",
   "execution_count": null,
   "id": "4f0cb777-66b8-4902-bf55-33d5838cbe96",
   "metadata": {
    "jupyter": {
     "outputs_hidden": true
    },
    "tags": []
   },
   "outputs": [],
   "source": [
    "evt_data"
   ]
  },
  {
   "cell_type": "code",
   "execution_count": null,
   "id": "c821de56-faf5-4506-ba57-9bf3202997c0",
   "metadata": {},
   "outputs": [],
   "source": []
  },
  {
   "cell_type": "code",
   "execution_count": null,
   "id": "fa21f4cb-e89f-42e9-b574-60d85a19a6bb",
   "metadata": {},
   "outputs": [],
   "source": [
    "data[0]"
   ]
  },
  {
   "cell_type": "code",
   "execution_count": null,
   "id": "b38eed70-dbd8-48a5-aabd-635b2ba5c2cf",
   "metadata": {},
   "outputs": [],
   "source": [
    "import astropy.io.fits as pf\n",
    "hdulist = pf.open(\"/Users/cslage/Research/LSST/code/starTracker/2022112309_narrow_corr.fits\")\n",
    "data = hdulist[1].data\n",
    "\n",
    "plate_scale = 8.67\n",
    "ms_error = 0.0\n",
    "count = 0\n",
    "for i in range(data.shape[0]):\n",
    "    row = data[i]\n",
    "    count += 1\n",
    "    error = (row[0] - row[4])**2 + (row[1] - row[5])**2 # Square error in pixels\n",
    "    error *= row[10] # Multiply by weight\n",
    "    ms_error += error\n",
    "ms_error /= count # Divide by number of stars\n",
    "rms_error_pixels = np.sqrt(ms_error)\n",
    "rms_error_asec = rms_error_pixels * plate_scale\n",
    "print(f\"RMS error = {rms_error_pixels:.2f} pixels = {rms_error_asec:.2f} arcseconds.\")"
   ]
  },
  {
   "cell_type": "code",
   "execution_count": null,
   "id": "3536aeec-f96e-4d34-8b68-447b01708345",
   "metadata": {},
   "outputs": [],
   "source": [
    "data.shape"
   ]
  },
  {
   "cell_type": "code",
   "execution_count": null,
   "id": "d8ddd960-2117-49cf-941d-7fea0f1a5afd",
   "metadata": {},
   "outputs": [],
   "source": []
  }
 ],
 "metadata": {
  "jupytext": {
   "formats": "ipynb,markdown//md"
  },
  "kernelspec": {
   "display_name": "Python 3 (ipykernel)",
   "language": "python",
   "name": "python3"
  },
  "language_info": {
   "codemirror_mode": {
    "name": "ipython",
    "version": 3
   },
   "file_extension": ".py",
   "mimetype": "text/x-python",
   "name": "python",
   "nbconvert_exporter": "python",
   "pygments_lexer": "ipython3",
   "version": "3.9.12"
  }
 },
 "nbformat": 4,
 "nbformat_minor": 5
}
