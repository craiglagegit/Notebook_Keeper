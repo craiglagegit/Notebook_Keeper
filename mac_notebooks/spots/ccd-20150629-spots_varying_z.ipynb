{
 "cells": [
  {
   "cell_type": "code",
   "execution_count": null,
   "metadata": {},
   "outputs": [],
   "source": [
    "%cd ~\n",
    "import pyfits,glob,time,scipy\n",
    "import scipy.interpolate\n",
    "from numpy import *\n",
    "from matplotlib.pyplot import *\n",
    "from subprocess import call\n",
    "from IPython import parallel\n",
    "\n",
    "thedir='/sandbox/lsst/lsst/GUI/testdata/'\n",
    "%cd $thedir\n",
    "configfile='/sandbox/lsst/lsst/GUI/sextractor/default-array_dither.sex'\n",
    "paramfile='/sandbox/lsst/lsst/GUI/sextractor/default-array_dither.param'\n",
    "maskdir='/sandbox/lsst/lsst/GUI/sextractor/masks/'\n",
    "\n",
    "%matplotlib inline"
   ]
  },
  {
   "cell_type": "code",
   "execution_count": null,
   "metadata": {},
   "outputs": [],
   "source": [
    "def remove_overscan_xy(image,x_overscan_start,x_overscan_end,y_overscan_start,y_overscan_end):\n",
    "    overscan=image[:y_overscan_start,x_overscan_start+1:x_overscan_end]\n",
    "    image=image[:y_overscan_start,:x_overscan_start]\n",
    "    finalimg=image-matrix(median(overscan,axis=1)).T*np.ones(shape(image)[1])\n",
    "    return finalimg\n",
    "\n",
    "def make_reg_from_ldac(cat_ldac_file,text_tag):\n",
    "    thecat=pyfits.getdata(cat_ldac_file,'LDAC_OBJECTS')\n",
    "    f = open(cat_ldac_file+'.reg','w')\n",
    "    for i in range(len(thecat)):\n",
    "        xcoo,ycoo=thecat['XWIN_IMAGE'][i],thecat['YWIN_IMAGE'][i]\n",
    "        r=thecat['A_IMAGE'][i]\n",
    "        thetext=thecat[text_tag][i]\n",
    "        f.write('circle '+str(xcoo)+' '+str(ycoo)+' '+str(r)+'#text=\"'+str(thetext)+'\"\\n')\n",
    "    f.close()"
   ]
  },
  {
   "cell_type": "code",
   "execution_count": null,
   "metadata": {},
   "outputs": [],
   "source": [
    "# This definition runs sextractor in parallel and can be given to IPython's parallel map function along with\n",
    "#   the file list\n",
    "def ovsub_runsex_makereg(fitsfilename):\n",
    "    import pyfits\n",
    "    import numpy as np\n",
    "    from subprocess import call\n",
    "    thedir='/sandbox/lsst/lsst/GUI/testdata/'\n",
    "    %cd $thedir\n",
    "    configfile='/sandbox/lsst/lsst/GUI/sextractor/default-array_dither.sex'\n",
    "    paramfile='/sandbox/lsst/lsst/GUI/sextractor/default-array_dither.param'\n",
    "    maskdir='/sandbox/lsst/lsst/GUI/sextractor/masks/'\n",
    "    def remove_overscan_xy(image,x_overscan_start,x_overscan_end,y_overscan_start,y_overscan_end):\n",
    "        overscan=image[:y_overscan_start,x_overscan_start+1:x_overscan_end]\n",
    "        image=image[:y_overscan_start,:x_overscan_start]\n",
    "        finalimg=image-np.matrix(np.median(overscan,axis=1)).T*np.ones(np.shape(image)[1])\n",
    "        return finalimg\n",
    "\n",
    "    def make_reg_from_ldac(cat_ldac_file,text_tag):\n",
    "        thecat=pyfits.getdata(cat_ldac_file,'LDAC_OBJECTS')\n",
    "        f = open(cat_ldac_file+'.reg','w')\n",
    "        for i in range(len(thecat)):\n",
    "            xcoo,ycoo=thecat['XWIN_IMAGE'][i],thecat['YWIN_IMAGE'][i]\n",
    "            r=thecat['A_IMAGE'][i]\n",
    "            thetext=thecat[text_tag][i]\n",
    "            f.write('circle '+str(xcoo)+' '+str(ycoo)+' '+str(r)+'#text=\"'+str(thetext)+'\"\\n')\n",
    "        f.close()\n",
    "    for i in range(1,17):\n",
    "        extname=pyfits.getheader(fitsfilename,i)['EXTNAME']\n",
    "        img=pyfits.getdata(fitsfilename,extname)\n",
    "        overscansubimg=remove_overscan_xy(img,509,542,2000,2022)   # cut off the overscan\n",
    "        outname=fitsfilename[:-5]+extname+'.fits'\n",
    "        pyfits.writeto(outname,overscansubimg,clobber=True)\n",
    "        test=call([\"sex\",outname,\"-c\",configfile,\"-CATALOG_NAME\",outname+'.cat'])\n",
    "        make_reg_from_ldac(outname+'.cat','NUMBER')"
   ]
  },
  {
   "cell_type": "code",
   "execution_count": null,
   "metadata": {},
   "outputs": [],
   "source": [
    "zfilelist=sort(glob.glob(thedir+'114-04_spot-30um_light_1??_20150630??????.fits'))"
   ]
  },
  {
   "cell_type": "code",
   "execution_count": null,
   "metadata": {},
   "outputs": [],
   "source": [
    "zfilelist"
   ]
  },
  {
   "cell_type": "code",
   "execution_count": null,
   "metadata": {},
   "outputs": [],
   "source": [
    "zfilelist[0][-23:-20]"
   ]
  },
  {
   "cell_type": "code",
   "execution_count": null,
   "metadata": {},
   "outputs": [],
   "source": [
    "#### This cell runs sextractor on all files in the z file list in PARALLEL\n",
    "clients=parallel.Client()\n",
    "clients.block=True\n",
    "print clients.ids\n",
    "view=clients.load_balanced_view()\n",
    "view.map(ovsub_runsex_makereg,zfilelist)"
   ]
  },
  {
   "cell_type": "markdown",
   "metadata": {
    "collapsed": false
   },
   "source": [
    "#### This cell runs sextractor on all files in the z file list in SERIAL\n",
    "for fitsfilename in zfilelist:\n",
    "    tfile1=time.time()\n",
    "    segnums=[1,4,8,14]\n",
    "    for i in range(1,17):\n",
    "        tstart=time.time()\n",
    "        extname=pyfits.getheader(fitsfilename,i)['EXTNAME']\n",
    "        img=pyfits.getdata(fitsfilename,extname)\n",
    "        overscansubimg=remove_overscan_xy(img,509,542,2000,2022)   # cut off the overscan\n",
    "        outname=fitsfilename[:-5]+extname+'.fits'\n",
    "        pyfits.writeto(outname,overscansubimg,clobber=True)\n",
    "        test=call([\"sex\",outname,\"-c\",configfile,\"-CATALOG_NAME\",outname+'.cat'])\n",
    "        make_reg_from_ldac(outname+'.cat','NUMBER')\n",
    "        tend=time.time()\n",
    "        print extname+\" time: \"+str(tend-tstart)[:4]\n",
    "    print \"Time taken for file \"+str(fitsfilename[-23:-20])+\": \"+str(time.time()-tfile1)"
   ]
  },
  {
   "cell_type": "markdown",
   "metadata": {
    "collapsed": false
   },
   "source": [
    "#### Using the sextractor catalogs produced above to make a map of the sextractor measurement named below"
   ]
  },
  {
   "cell_type": "code",
   "execution_count": null,
   "metadata": {},
   "outputs": [],
   "source": [
    "nx,ny =10,40 # number of grid divs per segment (4x more in y than in x)\n",
    "\n",
    "measname='A_IMAGE'   # the measurement type that you want to map (must be in paramfile defined at top)\n",
    "for fitsfilename in zfilelist[23:-7]:\n",
    "    allx,ally,allmeas=[],[],[]\n",
    "    figure()\n",
    "    for i in range(1,17):\n",
    "        hdr=pyfits.getheader(fitsfilename,i)\n",
    "        extname=hdr['EXTNAME']\n",
    "        catname=fitsfilename[:-5]+extname+'.fits.cat'\n",
    "        cat=pyfits.getdata(catname,'LDAC_OBJECTS')\n",
    "        good=where((cat['FLAGS']==0) & (cat['A_IMAGE']<5) & (cat['MAGERR_AUTO']<.025))\n",
    "        xcoo,ycoo=cat['XWIN_IMAGE'][good],cat['YWIN_IMAGE'][good]\n",
    "        segx,segy=xcoo+offsetdict[extname][0],offsetdict[extname][2]*ycoo+offsetdict[extname][1]\n",
    "        segmeas=cat[measname][good]\n",
    "        allx.extend(segx)   #append individual segment coordinates as global ones\n",
    "        ally.extend(segy)   #y segment coordinates increase toward mid\n",
    "        allmeas.extend(segmeas)      # append the measurement to the list\n",
    "        segxgrid,segygrid=np.meshgrid(np.linspace(min(segx),max(segx),nx),np.linspace(min(segy),max(segy),ny))\n",
    "        segmeasgrid=scipy.interpolate.griddata((segx,segy),segmeas,(segxgrid,segygrid),method='linear')\n",
    "        pcolor(segxgrid,segygrid,segmeasgrid,vmin=1,vmax=1.4,cmap=cm.gist_heat_r)\n",
    "    #xgrid,ygrid=np.meshgrid(np.linspace(0,4000,nx*8),np.linspace(0,4000,ny*2))\n",
    "    #meas_grid=scipy.interpolate.griddata((allx,ally),allmeas,(xgrid,ygrid),method='linear')\n",
    "    #pcolor(xgrid,ygrid,meas_grid,vmin=1,vmax=3,cmap=cm.gist_heat_r)\n",
    "    axis([0,4000,0,4000])\n",
    "    title(\"Measurement: \"+measname+\", Location: z=\"+str(pyfits.open(fitsfilename)[17].header['Z_POS'])+\"$\\mu m$\")\n",
    "    colorbar()\n",
    "    savefig(fitsfilename[-23:-20]+'-'+measname+'.png',dpi=200)"
   ]
  },
  {
   "cell_type": "code",
   "execution_count": null,
   "metadata": {},
   "outputs": [],
   "source": [
    "catname"
   ]
  },
  {
   "cell_type": "code",
   "execution_count": null,
   "metadata": {},
   "outputs": [],
   "source": []
  },
  {
   "cell_type": "code",
   "execution_count": null,
   "metadata": {},
   "outputs": [],
   "source": [
    "plot(cat['MAG_AUTO'],cat['MAGERR_AUTO'],'k.')"
   ]
  },
  {
   "cell_type": "code",
   "execution_count": null,
   "metadata": {},
   "outputs": [],
   "source": [
    "ycoo.max()"
   ]
  }
 ],
 "metadata": {
  "kernelspec": {
   "display_name": "Python 2",
   "language": "python",
   "name": "python2"
  },
  "language_info": {
   "codemirror_mode": {
    "name": "ipython",
    "version": 2
   },
   "file_extension": ".py",
   "mimetype": "text/x-python",
   "name": "python",
   "nbconvert_exporter": "python",
   "pygments_lexer": "ipython2",
   "version": "2.7.3"
  }
 },
 "nbformat": 4,
 "nbformat_minor": 0
}
