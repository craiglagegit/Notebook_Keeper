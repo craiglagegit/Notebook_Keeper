{
 "cells": [
  {
   "cell_type": "markdown",
   "id": "db1b731c-3f71-4193-b619-f56cac92d4fc",
   "metadata": {},
   "source": [
    "# Looking at rotator position, velocity, and torque\n",
    "\n",
    "Craig Lage 25-Apr-24"
   ]
  },
  {
   "cell_type": "code",
   "execution_count": null,
   "id": "f0a2a6f7-5025-402d-aad3-c103aa66e136",
   "metadata": {
    "execution": {
     "iopub.execute_input": "2024-04-25T17:43:10.696645Z",
     "iopub.status.busy": "2024-04-25T17:43:10.696256Z",
     "iopub.status.idle": "2024-04-25T17:43:10.988712Z",
     "shell.execute_reply": "2024-04-25T17:43:10.988367Z",
     "shell.execute_reply.started": "2024-04-25T17:43:10.696631Z"
    }
   },
   "outputs": [],
   "source": [
    "import sys, time, os, asyncio, copy\n",
    "import numpy as np\n",
    "import matplotlib.pyplot as plt\n",
    "%matplotlib inline\n",
    "from astropy.time import Time, TimeDelta\n",
    "from lsst_efd_client import EfdClient"
   ]
  },
  {
   "cell_type": "code",
   "execution_count": null,
   "id": "2e7d0bf9-959e-44e6-a738-7aa812b98e43",
   "metadata": {
    "execution": {
     "iopub.execute_input": "2024-04-25T17:43:12.144867Z",
     "iopub.status.busy": "2024-04-25T17:43:12.144639Z",
     "iopub.status.idle": "2024-04-25T17:43:12.747361Z",
     "shell.execute_reply": "2024-04-25T17:43:12.746846Z",
     "shell.execute_reply.started": "2024-04-25T17:43:12.144850Z"
    }
   },
   "outputs": [],
   "source": [
    "client = EfdClient('usdf_efd')"
   ]
  },
  {
   "cell_type": "code",
   "execution_count": null,
   "id": "65a319f5-b458-4fb2-b415-8fd17863978d",
   "metadata": {
    "execution": {
     "iopub.execute_input": "2024-04-25T18:28:00.081957Z",
     "iopub.status.busy": "2024-04-25T18:28:00.081686Z",
     "iopub.status.idle": "2024-04-25T18:28:00.116925Z",
     "shell.execute_reply": "2024-04-25T18:28:00.116557Z",
     "shell.execute_reply.started": "2024-04-25T18:28:00.081943Z"
    }
   },
   "outputs": [],
   "source": [
    "# Times to start looking at error codes\n",
    "start = Time(\"2024-04-19 20:02:55Z\", scale='utc')\n",
    "end = Time(\"2024-04-19 20:03:12Z\", scale='utc')\n",
    "rot = await client.select_time_series('lsst.sal.MTRotator.rotation', ['*'], start, end)\n",
    "mot = await client.select_time_series('lsst.sal.MTRotator.motors', ['*'], start, end)\n",
    "print(len(mot))"
   ]
  },
  {
   "cell_type": "code",
   "execution_count": null,
   "id": "03077631-39f3-468d-8f0b-6492afb87f76",
   "metadata": {
    "execution": {
     "iopub.execute_input": "2024-04-25T18:12:46.700208Z",
     "iopub.status.busy": "2024-04-25T18:12:46.699983Z",
     "iopub.status.idle": "2024-04-25T18:12:46.703463Z",
     "shell.execute_reply": "2024-04-25T18:12:46.703073Z",
     "shell.execute_reply.started": "2024-04-25T18:12:46.700191Z"
    }
   },
   "outputs": [],
   "source": [
    "rot.columns"
   ]
  },
  {
   "cell_type": "code",
   "execution_count": null,
   "id": "b908d60e-3f29-4f76-8971-351784985246",
   "metadata": {
    "execution": {
     "iopub.execute_input": "2024-04-25T18:28:03.472216Z",
     "iopub.status.busy": "2024-04-25T18:28:03.471804Z",
     "iopub.status.idle": "2024-04-25T18:28:03.575359Z",
     "shell.execute_reply": "2024-04-25T18:28:03.574915Z",
     "shell.execute_reply.started": "2024-04-25T18:28:03.472200Z"
    }
   },
   "outputs": [],
   "source": [
    "rot['actualPosition'].plot()"
   ]
  },
  {
   "cell_type": "code",
   "execution_count": null,
   "id": "10cb7b20-66bd-46c6-b399-86fae29e5ce2",
   "metadata": {
    "execution": {
     "iopub.execute_input": "2024-04-25T18:28:07.493824Z",
     "iopub.status.busy": "2024-04-25T18:28:07.493494Z",
     "iopub.status.idle": "2024-04-25T18:28:07.606936Z",
     "shell.execute_reply": "2024-04-25T18:28:07.606506Z",
     "shell.execute_reply.started": "2024-04-25T18:28:07.493809Z"
    }
   },
   "outputs": [],
   "source": [
    "(rot['actualPosition'] - rot['demandPosition']).plot()"
   ]
  },
  {
   "cell_type": "code",
   "execution_count": null,
   "id": "c7118fdc-e4b7-4b09-98b5-c9408b35b631",
   "metadata": {
    "execution": {
     "iopub.execute_input": "2024-04-25T18:28:13.355425Z",
     "iopub.status.busy": "2024-04-25T18:28:13.354916Z",
     "iopub.status.idle": "2024-04-25T18:28:13.458944Z",
     "shell.execute_reply": "2024-04-25T18:28:13.458514Z",
     "shell.execute_reply.started": "2024-04-25T18:28:13.355411Z"
    }
   },
   "outputs": [],
   "source": [
    "rot['actualVelocity'].plot()"
   ]
  },
  {
   "cell_type": "code",
   "execution_count": null,
   "id": "ef04b1fb-6f37-454d-a41b-eb1df828958a",
   "metadata": {
    "execution": {
     "iopub.execute_input": "2024-04-25T18:28:24.174311Z",
     "iopub.status.busy": "2024-04-25T18:28:24.173836Z",
     "iopub.status.idle": "2024-04-25T18:28:24.275853Z",
     "shell.execute_reply": "2024-04-25T18:28:24.275470Z",
     "shell.execute_reply.started": "2024-04-25T18:28:24.174297Z"
    }
   },
   "outputs": [],
   "source": [
    "(rot['actualVelocity'] - rot['demandVelocity']).plot()"
   ]
  },
  {
   "cell_type": "code",
   "execution_count": null,
   "id": "436b9ea7-062c-4855-89d9-75968b92e38c",
   "metadata": {
    "execution": {
     "iopub.execute_input": "2024-04-25T18:12:47.802264Z",
     "iopub.status.busy": "2024-04-25T18:12:47.801949Z",
     "iopub.status.idle": "2024-04-25T18:12:47.805143Z",
     "shell.execute_reply": "2024-04-25T18:12:47.804789Z",
     "shell.execute_reply.started": "2024-04-25T18:12:47.802251Z"
    }
   },
   "outputs": [],
   "source": [
    "mot.columns"
   ]
  },
  {
   "cell_type": "code",
   "execution_count": null,
   "id": "2e0c1182-b72c-4365-8f1d-854110b6b60f",
   "metadata": {
    "execution": {
     "iopub.execute_input": "2024-04-25T18:28:34.248937Z",
     "iopub.status.busy": "2024-04-25T18:28:34.248707Z",
     "iopub.status.idle": "2024-04-25T18:28:34.364180Z",
     "shell.execute_reply": "2024-04-25T18:28:34.363819Z",
     "shell.execute_reply.started": "2024-04-25T18:28:34.248921Z"
    }
   },
   "outputs": [],
   "source": [
    "mot['torque0'].plot()\n",
    "mot['torque1'].plot()"
   ]
  },
  {
   "cell_type": "code",
   "execution_count": null,
   "id": "bea3b1fb-becd-4c63-9298-5233574de4d0",
   "metadata": {},
   "outputs": [],
   "source": []
  }
 ],
 "metadata": {
  "kernelspec": {
   "display_name": "LSST",
   "language": "python",
   "name": "lsst"
  },
  "language_info": {
   "codemirror_mode": {
    "name": "ipython",
    "version": 3
   },
   "file_extension": ".py",
   "mimetype": "text/x-python",
   "name": "python",
   "nbconvert_exporter": "python",
   "pygments_lexer": "ipython3",
   "version": "3.11.9"
  }
 },
 "nbformat": 4,
 "nbformat_minor": 5
}
