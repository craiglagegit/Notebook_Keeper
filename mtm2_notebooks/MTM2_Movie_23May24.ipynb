{
 "cells": [
  {
   "cell_type": "markdown",
   "metadata": {},
   "source": [
    "# M2 actuator movies\n",
    "Craig Lage - 23-May-24 \\\n",
    "The M2 mirror has 72 axial actuators and 6 tangential actuators. "
   ]
  },
  {
   "cell_type": "code",
   "execution_count": null,
   "metadata": {
    "execution": {
     "iopub.execute_input": "2024-06-10T17:58:50.431372Z",
     "iopub.status.busy": "2024-06-10T17:58:50.431078Z",
     "iopub.status.idle": "2024-06-10T17:58:50.433954Z",
     "shell.execute_reply": "2024-06-10T17:58:50.433653Z",
     "shell.execute_reply.started": "2024-06-10T17:58:50.431360Z"
    },
    "tags": []
   },
   "outputs": [],
   "source": [
    "import sys, time, os, yaml, warnings\n",
    "import shlex, subprocess\n",
    "from datetime import datetime\n",
    "import numpy as np\n",
    "import matplotlib.pyplot as plt\n",
    "from matplotlib.patches import Polygon\n",
    "from matplotlib.offsetbox import (OffsetImage, AnnotationBbox)\n",
    "from PIL import Image, ImageOps\n",
    "from scipy.ndimage import rotate\n",
    "from astropy.time import Time, TimeDelta\n",
    "from lsst_efd_client import EfdClient\n"
   ]
  },
  {
   "cell_type": "markdown",
   "metadata": {},
   "source": [
    "## Set up the necessary subroutines"
   ]
  },
  {
   "cell_type": "code",
   "execution_count": null,
   "metadata": {
    "execution": {
     "iopub.execute_input": "2024-06-10T18:07:42.412114Z",
     "iopub.status.busy": "2024-06-10T18:07:42.411836Z",
     "iopub.status.idle": "2024-06-10T18:07:42.426956Z",
     "shell.execute_reply": "2024-06-10T18:07:42.426561Z",
     "shell.execute_reply.started": "2024-06-10T18:07:42.412101Z"
    },
    "tags": []
   },
   "outputs": [],
   "source": [
    "def actuatorLayout(ax, yaml_file):\n",
    "    # Get the data from the yaml file\n",
    "    with open(yaml_file, 'r') as stream:\n",
    "        locations = yaml.safe_load(stream)\n",
    "    axials = np.array(locations['locAct_axial'])\n",
    "    xs = axials[:,0]\n",
    "    ys = axials[:,1]\n",
    "    ax.set_xlabel(\"Y position (m)\")\n",
    "    ax.set_ylabel(\"X position (m)\")\n",
    "    ax.set_title(\"M2 Actuator positions and type\", fontsize=18)\n",
    "\n",
    "    ax.scatter(ys, xs, marker='o', s=200, color='gold', label='Axial')\n",
    "    deltaX = -0.05\n",
    "    deltaY = -0.07\n",
    "    for i in range(len(xs)):\n",
    "        ax.text(ys[i]+deltaY, xs[i]+deltaX, f\"{i+1}\", fontsize=9)\n",
    "\n",
    "    # Now plot tangential actuator locations\n",
    "    Rtan = locations['radiusActTangent'] # Radius in meters\n",
    "    thetas = locations['locAct_tangent']\n",
    "    width = 0.2\n",
    "    height = 0.9\n",
    "    poly = [[-height/2.0, 0],[height/2.0, 0], \\\n",
    "                     [height/2.0, width], [-height/2.0, width]]\n",
    "    scale = 2.5\n",
    "    for i, theta in enumerate(thetas):\n",
    "        theta *= np.pi / 180.0\n",
    "        rot_matrix = np.array([[np.cos(theta), -np.sin(theta)],\n",
    "                       [np.sin(theta), np.cos(theta)]]).transpose()\n",
    "        rot_poly = []\n",
    "        for point in poly:\n",
    "            rot_poly.append(np.dot(rot_matrix, point))\n",
    "        rot_poly = np.array(rot_poly)\n",
    "        x = Rtan * np.cos(theta)\n",
    "        y = Rtan * np.sin(theta)\n",
    "        center = [y + np.mean(rot_poly[:,0]), x + np.mean(rot_poly[:,1])]\n",
    "        xy = np.array([y,x]) + rot_poly\n",
    "        deltaX = -0.04\n",
    "        deltaY = -0.02\n",
    "        ax.text(center[0]+deltaY, center[1]+deltaX,  f\"{i+1}\", fontsize=9)\n",
    "        if i == 0:\n",
    "            ax.add_patch(Polygon(\n",
    "                xy=xy, linewidth=1, color='coral', \\\n",
    "                fill=True, label='Tangential'))\n",
    "        else:\n",
    "            ax.add_patch(Polygon(\n",
    "                xy=xy, linewidth=1, color='coral', fill=True))\n",
    "    ax.legend(loc='lower left', fontsize=9)\n",
    "    ax.axis('equal')   \n",
    "    ax.set_xlim(-scale, scale)\n",
    "    ax.set_ylim(-scale, scale)\n",
    "    return\n",
    "    \n",
    "def plotAxialForces(df, yaml_file, ax, zmin, zmax, time):\n",
    "    # Get the data from the yaml file\n",
    "    index = df.index.searchsorted(time)\n",
    "    print(f\"Axial index = {index}\")\n",
    "    with open(yaml_file, 'r') as stream:\n",
    "        locations = yaml.safe_load(stream)\n",
    "    axials = np.array(locations['locAct_axial'])\n",
    "    xs = axials[:,0]\n",
    "    ys = axials[:,1]\n",
    "    zs = []\n",
    "    for i in range(len(xs)):\n",
    "        name=f\"measured{i}\"\n",
    "        zs.append(df.iloc[index][name])\n",
    "\n",
    "    ax.set_xlabel(\"Y position (m)\")\n",
    "    ax.set_ylabel(\"X position (m)\")\n",
    "    ax.set_title(\"M2 actuator forces (N)\", fontsize=18)\n",
    "\n",
    "    im = ax.scatter(ys, xs, marker='o', c=zs, cmap='RdBu_r', vmin=zmin, vmax=zmax, s=200, label=\"Axial\")\n",
    "    plt.colorbar(im, ax=ax,fraction=0.055, pad=0.02, cmap='RdBu_r')\n",
    "    ax.text(-1.5, 3.5, \"Axial force colorbar\", color='black', rotation=90)\n",
    "    return\n",
    "\n",
    "\n",
    "def plotTangentForces(df, yaml_file, ax, zmax, time):\n",
    "    index = df.index.searchsorted(time)\n",
    "    print(f\"Tangent index = {index}\")\n",
    "    # Get the data from the yaml file\n",
    "    with open(yaml_file, 'r') as stream:\n",
    "        locations = yaml.safe_load(stream)\n",
    "    # Now plot tangential actuator locations\n",
    "    Rtan = locations['radiusActTangent'] # Radius in meters\n",
    "    thetas = locations['locAct_tangent']\n",
    "    width = 0.2\n",
    "    height = 0.9\n",
    "    poly = [[-height/2.0, 0],[height/2.0, 0], \\\n",
    "                     [height/2.0, width], [-height/2.0, width]]\n",
    "    scale = 2.5\n",
    "    for i, theta in enumerate(thetas):\n",
    "        theta *= np.pi / 180.0\n",
    "        rot_matrix = np.array([[np.cos(theta), -np.sin(theta)],\n",
    "                       [np.sin(theta), np.cos(theta)]]).transpose()\n",
    "        rot_poly = []\n",
    "        for point in poly:\n",
    "            rot_poly.append(np.dot(rot_matrix, point))\n",
    "        rot_poly = np.array(rot_poly)\n",
    "        x = Rtan * np.cos(theta)\n",
    "        y = Rtan * np.sin(theta)\n",
    "        xy = np.array([y,x]) + rot_poly\n",
    "\n",
    "        if i == 0:\n",
    "            ax.add_patch(Polygon(\n",
    "                xy= xy, linewidth=1, color='coral', \\\n",
    "                fill=True, label='Tangent'))\n",
    "        else:\n",
    "            ax.add_patch(Polygon(\n",
    "                xy=xy, linewidth=1, color='coral', fill=True))\n",
    "\n",
    "        name=f\"measured{i}\"\n",
    "        force =  - df.iloc[index][name]\n",
    "        length = 0.5 * force / zmax\n",
    "        dx = length * np.sin(theta)\n",
    "        dy =  - length * np.cos(theta)\n",
    "        box_center = np.array([x + np.mean(rot_poly[:,1]), y + np.mean(rot_poly[:,0])])\n",
    "        arrow_center = box_center + np.array([width * np.cos(theta), width * np.sin(theta)])\n",
    "        arrow_start = arrow_center - np.array([dx / 2.0, dy / 2.0])       \n",
    "        ax.arrow(arrow_start[1], arrow_start[0], dy, dx, width=0.02, length_includes_head=True, color='black')\n",
    "    legend_force = 1000.0\n",
    "    legend_length = 0.5 * legend_force / zmax\n",
    "    xs = -scale * 0.9\n",
    "    ys = scale * 0.9\n",
    "    dx = legend_length\n",
    "    dy = 0\n",
    "    ax.arrow(xs, ys, dx, dy, width=0.02, length_includes_head=True, color='black')\n",
    "    ax.text(xs + dx * 1.05, ys,  f\"{legend_force:.1f} N\", color='black')\n",
    "    ax.legend(bbox_to_anchor=(1.45, 0.1),  fontsize=9)\n",
    "    ax.set_xlim(-scale, scale)\n",
    "    ax.set_ylim(-scale, scale)\n",
    "    return\n",
    "\n",
    "def plotTelescope(df, simonyi_file, time):\n",
    "    # Get the elevation angle at the given time\n",
    "    index = df.index.searchsorted(time)\n",
    "    print(f\"Elevation index = {index}\")\n",
    "    angle = 90.0 - df['actualPosition'].iloc[index]\n",
    "    tel = Image.open(simonyi_file)   \n",
    "    tel = ImageOps.expand(tel, border=100, fill=(255,255,255)) \n",
    "    rot_tel = rotate(tel, angle, reshape=False)\n",
    "    #The OffsetBox is a simple container artist.\n",
    "    #The child artists are meant to be drawn at a relative position to its #parent.\n",
    "    imagebox = OffsetImage(rot_tel, zoom = 0.15)\n",
    "    #Annotation box for solar pv logo\n",
    "    #Container for the imagebox referring to a specific position *xy*.\n",
    "    ab = AnnotationBbox(imagebox, (1.6, 1.0), xycoords='axes fraction', box_alignment=(1.1, 1), frameon = False)\n",
    "    ax.add_artist(ab)\n",
    "    ax.text(3.7, 0.6, \"Telescope\\nElevation\", color='black')\n",
    "    return\n",
    "    "
   ]
  },
  {
   "cell_type": "markdown",
   "metadata": {
    "execution": {
     "iopub.execute_input": "2024-05-24T22:04:06.245350Z",
     "iopub.status.busy": "2024-05-24T22:04:06.245161Z",
     "iopub.status.idle": "2024-05-24T22:04:06.247668Z",
     "shell.execute_reply": "2024-05-24T22:04:06.247296Z",
     "shell.execute_reply.started": "2024-05-24T22:04:06.245339Z"
    }
   },
   "source": [
    "# Make a plot of the actuator layout."
   ]
  },
  {
   "cell_type": "code",
   "execution_count": null,
   "metadata": {
    "execution": {
     "iopub.execute_input": "2024-06-10T13:05:54.704180Z",
     "iopub.status.busy": "2024-06-10T13:05:54.703859Z",
     "iopub.status.idle": "2024-06-10T13:05:55.100108Z",
     "shell.execute_reply": "2024-06-10T13:05:55.099645Z",
     "shell.execute_reply.started": "2024-06-10T13:05:54.704163Z"
    }
   },
   "outputs": [],
   "source": [
    "yaml_file = '../cell_geom/cell_geom.yaml'\n",
    "fig, ax = plt.subplots(1,1,figsize=(5,5))\n",
    "actuatorLayout(ax, yaml_file)\n",
    "plt.savefig(\"../cell_geom/Actuator_Layout.png\")"
   ]
  },
  {
   "cell_type": "markdown",
   "metadata": {},
   "source": [
    "## Define the times and options"
   ]
  },
  {
   "cell_type": "code",
   "execution_count": null,
   "metadata": {
    "execution": {
     "iopub.execute_input": "2024-06-10T13:16:02.653241Z",
     "iopub.status.busy": "2024-06-10T13:16:02.652894Z",
     "iopub.status.idle": "2024-06-10T13:16:02.657462Z",
     "shell.execute_reply": "2024-06-10T13:16:02.657138Z",
     "shell.execute_reply.started": "2024-06-10T13:16:02.653224Z"
    },
    "tags": []
   },
   "outputs": [],
   "source": [
    "# Times to start looking at encoder values\n",
    "start = Time(\"2024-04-24T00:00:00\", scale='utc')\n",
    "end = Time(\"2024-04-24T02:00:00\", scale='utc')\n",
    "start = Time(\"2024-01-10T00:00:00\", scale='utc')\n",
    "end = Time(\"2024-01-10T04:00:00\", scale='utc')\n",
    "\n",
    "yaml_file = '../cell_geom/cell_geom.yaml'\n",
    "simonyi_file = '../cell_geom/Simonyi.png'\n",
    "\n",
    "axial_zmax = 250\n",
    "tangent_zmax = 2500\n",
    "# The following allows you to plot only every nth data point\n",
    "# If this value is 1, a frame will be made for every data point\n",
    "# Of course, this takes longer\n",
    "# If this value is 50, it will make a frame every second\n",
    "frameN = 100"
   ]
  },
  {
   "cell_type": "markdown",
   "metadata": {},
   "source": [
    "## Now generate the frames\n",
    "### This will take some time"
   ]
  },
  {
   "cell_type": "code",
   "execution_count": null,
   "metadata": {
    "execution": {
     "iopub.execute_input": "2024-06-10T18:07:47.762096Z",
     "iopub.status.busy": "2024-06-10T18:07:47.761666Z",
     "iopub.status.idle": "2024-06-10T18:08:30.299079Z",
     "shell.execute_reply": "2024-06-10T18:08:30.298641Z",
     "shell.execute_reply.started": "2024-06-10T18:07:47.762083Z"
    },
    "tags": []
   },
   "outputs": [],
   "source": [
    "warnings.filterwarnings(\"ignore\") # Stop annoying matplotlib warning\n",
    "\n",
    "client = EfdClient('usdf_efd')\n",
    "start = Time(\"2024-04-24T00:00:00\", scale='utc')\n",
    "end = Time(\"2024-04-24T02:00:00\", scale='utc')\n",
    "start = Time(\"2024-01-10T00:00:00\", scale='utc')\n",
    "end = Time(\"2024-01-10T03:00:00\", scale='utc')\n",
    "\n",
    "timestamp = start.isot.split('.')[0].replace('-','').replace(':','')\n",
    "dirName = f\"/home/c/cslage/u/MTM2/movies/movie_{timestamp}\"\n",
    "%mkdir -p {dirName}\n",
    "movieName = f\"m2_movie_{timestamp}.mp4\"\n",
    "\n",
    "axial_forces = await client.select_time_series(\"lsst.sal.MTM2.axialForce\", \"*\", \\\n",
    "                                             start, end)\n",
    "tangent_forces = await client.select_time_series(\"lsst.sal.MTM2.tangentForce\", \"*\", \\\n",
    "                                             start, end)\n",
    "elevation = await client.select_time_series(\"lsst.sal.MTMount.elevation\", \\\n",
    "                                            ['actualPosition', 'private_efdStamp'], \\\n",
    "                                             start, end)\n",
    "# Add a layout with numbering\n",
    "fig = plt.figure(figsize=(8,5))\n",
    "ax = fig.add_axes([0.10, 0.10, 0.5, 0.8], aspect='equal')\n",
    "actuatorLayout(ax, yaml_file)\n",
    "plt.savefig(f\"{dirName}/Frame_{0:05d}.png\")\n",
    "plt.clf()\n",
    "# Now build the individual frames\n",
    "for n in range(0, int(len(elevation)/10), frameN):\n",
    "    time = elevation.index[n]\n",
    "    ax = fig.add_axes([0.10, 0.10, 0.5, 0.8], aspect='equal')\n",
    "    plotAxialForces(axial_forces, yaml_file, ax, 0, axial_zmax, time)\n",
    "    plotTangentForces(tangent_forces, yaml_file, ax, tangent_zmax, time)\n",
    "    plotTelescope(elevation, simonyi_file, time)\n",
    "    plt.savefig(f\"{dirName}/Frame_{(n + 1):05d}.png\")\n",
    "    plt.clf()\n",
    "    nFrames = int(n / frameN)\n",
    "    if nFrames%100 == 0:\n",
    "        print(f\"{nFrames} frames done\")\n",
    "\n"
   ]
  },
  {
   "cell_type": "markdown",
   "metadata": {},
   "source": [
    "## Now build the movie"
   ]
  },
  {
   "cell_type": "code",
   "execution_count": null,
   "metadata": {
    "execution": {
     "iopub.execute_input": "2024-06-10T18:05:58.661581Z",
     "iopub.status.busy": "2024-06-10T18:05:58.661307Z",
     "iopub.status.idle": "2024-06-10T18:05:59.119063Z",
     "shell.execute_reply": "2024-06-10T18:05:59.118637Z",
     "shell.execute_reply.started": "2024-06-10T18:05:58.661569Z"
    },
    "tags": []
   },
   "outputs": [],
   "source": [
    "print(f\"\\033[1mThe movie name will be: {dirName}/{movieName}\\033[0m\")\n",
    "\n",
    "command = f\"ffmpeg -pattern_type glob -i '{dirName}/*.png' -f mp4 -vcodec libx264 -pix_fmt yuv420p -framerate 50 -y {dirName}/{movieName}\"\n",
    "args = shlex.split(command)\n",
    "build_movie = subprocess.Popen(args)\n",
    "build_movie.wait()"
   ]
  },
  {
   "cell_type": "code",
   "execution_count": null,
   "metadata": {},
   "outputs": [],
   "source": []
  }
 ],
 "metadata": {
  "kernelspec": {
   "display_name": "LSST",
   "language": "python",
   "name": "lsst"
  },
  "language_info": {
   "codemirror_mode": {
    "name": "ipython",
    "version": 3
   },
   "file_extension": ".py",
   "mimetype": "text/x-python",
   "name": "python",
   "nbconvert_exporter": "python",
   "pygments_lexer": "ipython3",
   "version": "3.11.7"
  }
 },
 "nbformat": 4,
 "nbformat_minor": 4
}
