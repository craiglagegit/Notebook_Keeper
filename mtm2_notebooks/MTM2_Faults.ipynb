{
 "cells": [
  {
   "cell_type": "markdown",
   "id": "cd5ee2d0-4c17-42c8-8864-9aea2c6ded75",
   "metadata": {},
   "source": [
    "# MTM2 faults\n",
    "\n",
    "Craig Lage - 2-Aug-24"
   ]
  },
  {
   "cell_type": "code",
   "execution_count": null,
   "id": "8260917a-2177-4887-bc02-9de1988c347a",
   "metadata": {
    "execution": {
     "iopub.execute_input": "2024-08-02T13:56:13.154610Z",
     "iopub.status.busy": "2024-08-02T13:56:13.154260Z",
     "iopub.status.idle": "2024-08-02T13:56:13.497863Z",
     "shell.execute_reply": "2024-08-02T13:56:13.497431Z",
     "shell.execute_reply.started": "2024-08-02T13:56:13.154589Z"
    },
    "tags": []
   },
   "outputs": [],
   "source": [
    "import sys, time, os, asyncio, glob\n",
    "from datetime import datetime\n",
    "import numpy as np\n",
    "import matplotlib.pyplot as plt\n",
    "from astropy.time import Time, TimeDelta\n",
    "from lsst_efd_client import EfdClient"
   ]
  },
  {
   "cell_type": "code",
   "execution_count": null,
   "id": "767f1ffb-7fe4-4464-8789-40ac5ab521f1",
   "metadata": {
    "execution": {
     "iopub.execute_input": "2024-08-02T13:56:16.206468Z",
     "iopub.status.busy": "2024-08-02T13:56:16.206169Z",
     "iopub.status.idle": "2024-08-02T13:56:16.667784Z",
     "shell.execute_reply": "2024-08-02T13:56:16.667348Z",
     "shell.execute_reply.started": "2024-08-02T13:56:16.206453Z"
    },
    "tags": []
   },
   "outputs": [],
   "source": [
    "client = EfdClient('usdf_efd')"
   ]
  },
  {
   "cell_type": "code",
   "execution_count": null,
   "id": "fe026490-1852-4ae8-9d89-e5da5067794f",
   "metadata": {
    "execution": {
     "iopub.execute_input": "2024-08-02T14:05:27.294952Z",
     "iopub.status.busy": "2024-08-02T14:05:27.294439Z",
     "iopub.status.idle": "2024-08-02T14:05:27.322816Z",
     "shell.execute_reply": "2024-08-02T14:05:27.322393Z",
     "shell.execute_reply.started": "2024-08-02T14:05:27.294934Z"
    },
    "tags": []
   },
   "outputs": [],
   "source": [
    "start = Time(\"2024-01-01T00:00:00\", scale='utc')\n",
    "end = Time(\"2024-05-30T00:00:00\", scale='utc')\n",
    "\n",
    "mtm2 = await client.select_time_series('lsst.sal.MTM2.logevent_summaryState', \\\n",
    "                                            ['summaryState'],  start, end)\n",
    "faults = mtm2[mtm2['summaryState'] == 3]\n",
    "print(f\" There were {len(faults)} faults between {start.isot.split('T')[0]} and {end.isot.split('T')[0]}\")"
   ]
  },
  {
   "cell_type": "code",
   "execution_count": null,
   "id": "6e268e8f-c55d-4bc5-8e3b-05ba1483202a",
   "metadata": {
    "execution": {
     "iopub.execute_input": "2024-08-02T14:05:08.442610Z",
     "iopub.status.busy": "2024-08-02T14:05:08.442072Z",
     "iopub.status.idle": "2024-08-02T14:05:08.462428Z",
     "shell.execute_reply": "2024-08-02T14:05:08.462031Z",
     "shell.execute_reply.started": "2024-08-02T14:05:08.442593Z"
    },
    "tags": []
   },
   "outputs": [],
   "source": [
    "start = Time(\"2024-06-01T00:00:00\", scale='utc')\n",
    "end = Time(\"2024-07-30T00:00:00\", scale='utc')\n",
    "\n",
    "mtm2 = await client.select_time_series('lsst.sal.MTM2.logevent_summaryState', \\\n",
    "                                            ['summaryState'],  start, end)\n",
    "faults = mtm2[mtm2['summaryState'] == 3]\n",
    "print(f\" There were {len(faults)} faults between {start.isot.split('T')[0]} and {end.isot.split('T')[0]}\")"
   ]
  },
  {
   "cell_type": "code",
   "execution_count": null,
   "id": "ce7bbcd7-13ac-4ece-829f-b3bfb70fe085",
   "metadata": {},
   "outputs": [],
   "source": []
  }
 ],
 "metadata": {
  "kernelspec": {
   "display_name": "LSST",
   "language": "python",
   "name": "lsst"
  },
  "language_info": {
   "codemirror_mode": {
    "name": "ipython",
    "version": 3
   },
   "file_extension": ".py",
   "mimetype": "text/x-python",
   "name": "python",
   "nbconvert_exporter": "python",
   "pygments_lexer": "ipython3",
   "version": "3.11.7"
  }
 },
 "nbformat": 4,
 "nbformat_minor": 5
}
