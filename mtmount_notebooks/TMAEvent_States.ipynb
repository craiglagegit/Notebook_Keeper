{
 "cells": [
  {
   "cell_type": "code",
   "execution_count": null,
   "id": "b37c8c4d-3308-4cf3-bcaa-ddb494a69043",
   "metadata": {
    "execution": {
     "iopub.execute_input": "2024-11-06T13:34:31.027900Z",
     "iopub.status.busy": "2024-11-06T13:34:31.027772Z",
     "iopub.status.idle": "2024-11-06T13:34:36.858280Z",
     "shell.execute_reply": "2024-11-06T13:34:36.857844Z",
     "shell.execute_reply.started": "2024-11-06T13:34:31.027887Z"
    }
   },
   "outputs": [],
   "source": [
    "import sys, time, os, asyncio, glob\n",
    "from datetime import datetime\n",
    "import numpy as np\n",
    "import matplotlib.pyplot as plt\n",
    "from matplotlib.ticker import FuncFormatter\n",
    "import matplotlib.dates as mdates\n",
    "from matplotlib.backends.backend_pdf import PdfPages\n",
    "import pickle as pkl\n",
    "from astropy.time import Time, TimeDelta\n",
    "from scipy.interpolate import UnivariateSpline\n",
    "from lsst_efd_client import EfdClient\n",
    "from lsst.summit.utils import getCurrentDayObs_int, dayObsIntToString\n",
    "from lsst.summit.utils.tmaUtils import TMAEventMaker\n",
    "from lsst.summit.utils.blockUtils import BlockParser\n",
    "from lsst.summit.utils.efdUtils import getEfdData, calcNextDay"
   ]
  },
  {
   "cell_type": "code",
   "execution_count": null,
   "id": "38315b20-b19c-44de-87a5-ec289fcb9b50",
   "metadata": {
    "execution": {
     "iopub.execute_input": "2024-11-06T13:34:36.859241Z",
     "iopub.status.busy": "2024-11-06T13:34:36.858740Z",
     "iopub.status.idle": "2024-11-06T13:34:37.239495Z",
     "shell.execute_reply": "2024-11-06T13:34:37.239022Z",
     "shell.execute_reply.started": "2024-11-06T13:34:36.859226Z"
    }
   },
   "outputs": [],
   "source": [
    "eventMaker = TMAEventMaker()"
   ]
  },
  {
   "cell_type": "code",
   "execution_count": null,
   "id": "c0516343-6fb8-4280-95eb-64dcba0a0a0f",
   "metadata": {
    "execution": {
     "iopub.execute_input": "2024-11-06T13:34:39.586884Z",
     "iopub.status.busy": "2024-11-06T13:34:39.586604Z",
     "iopub.status.idle": "2024-11-06T13:40:56.693922Z",
     "shell.execute_reply": "2024-11-06T13:40:56.693565Z",
     "shell.execute_reply.started": "2024-11-06T13:34:39.586870Z"
    },
    "jupyter": {
     "outputs_hidden": true
    }
   },
   "outputs": [],
   "source": [
    "startDay = 20240220\n",
    "endDay = 20241105\n",
    "dayObs = startDay\n",
    "while dayObs <= endDay:\n",
    "    try:\n",
    "        events = eventMaker.getEvents(dayObs)\n",
    "        #print(dayObs, len(events))\n",
    "        for event in events:\n",
    "            if event.type.name == 'TRACKING' and event.endReason == 'FAULT':\n",
    "                print(dayObs, event.seqNum)\n",
    "        dayObs = calcNextDay(dayObs)  # find the next dayObs \n",
    "    except:\n",
    "        dayObs = calcNextDay(dayObs)  # find the next dayObs \n"
   ]
  },
  {
   "cell_type": "code",
   "execution_count": null,
   "id": "f5ffad67-9c5d-4a79-82a3-dc8c0e4724de",
   "metadata": {},
   "outputs": [],
   "source": []
  }
 ],
 "metadata": {
  "kernelspec": {
   "display_name": "LSST",
   "language": "python",
   "name": "lsst"
  },
  "language_info": {
   "codemirror_mode": {
    "name": "ipython",
    "version": 3
   },
   "file_extension": ".py",
   "mimetype": "text/x-python",
   "name": "python",
   "nbconvert_exporter": "python",
   "pygments_lexer": "ipython3",
   "version": "3.11.9"
  }
 },
 "nbformat": 4,
 "nbformat_minor": 5
}
