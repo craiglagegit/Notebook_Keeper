{
 "cells": [
  {
   "cell_type": "markdown",
   "id": "6e88769e-cc96-42e1-a5f4-8e7f8be16b67",
   "metadata": {},
   "source": [
    "# Elevation torque spike data analysis\n",
    "\n",
    "Craig Lage - 14-apr-25"
   ]
  },
  {
   "cell_type": "code",
   "execution_count": null,
   "id": "eec99227-717f-4088-a120-1ccde2c12347",
   "metadata": {
    "execution": {
     "iopub.execute_input": "2025-04-14T13:03:32.503543Z",
     "iopub.status.busy": "2025-04-14T13:03:32.503294Z",
     "iopub.status.idle": "2025-04-14T13:03:32.506305Z",
     "shell.execute_reply": "2025-04-14T13:03:32.505867Z",
     "shell.execute_reply.started": "2025-04-14T13:03:32.503528Z"
    }
   },
   "outputs": [],
   "source": [
    "from lsst.summit.utils.efdUtils import makeEfdClient, getEfdData\n",
    "import lsst.summit.utils.butlerUtils as butlerUtils\n",
    "import numpy as np\n",
    "import matplotlib.pyplot as plt\n",
    "from lsst.daf.butler import Butler"
   ]
  },
  {
   "cell_type": "code",
   "execution_count": null,
   "id": "6d48b4ec-6c9a-4042-9726-40f1c3d289ce",
   "metadata": {
    "execution": {
     "iopub.execute_input": "2025-04-14T13:16:08.459202Z",
     "iopub.status.busy": "2025-04-14T13:16:08.458746Z",
     "iopub.status.idle": "2025-04-14T13:16:09.070673Z",
     "shell.execute_reply": "2025-04-14T13:16:09.070195Z",
     "shell.execute_reply.started": "2025-04-14T13:16:08.459187Z"
    }
   },
   "outputs": [],
   "source": [
    "client = makeEfdClient()\n",
    "# butler = butlerUtils.makeDefaultButler(instrument='LSSTCam')\n",
    "butler = Butler('/repo/embargo', collections=['LSSTCam/raw/all', 'LSSTCam/calib/unbounded'])"
   ]
  },
  {
   "cell_type": "code",
   "execution_count": null,
   "id": "6f67a3a8-de1a-4ad7-925e-933d5dc04ff6",
   "metadata": {
    "execution": {
     "iopub.execute_input": "2025-04-14T13:16:15.666814Z",
     "iopub.status.busy": "2025-04-14T13:16:15.666595Z",
     "iopub.status.idle": "2025-04-14T13:16:15.792274Z",
     "shell.execute_reply": "2025-04-14T13:16:15.791701Z",
     "shell.execute_reply.started": "2025-04-14T13:16:15.666800Z"
    }
   },
   "outputs": [],
   "source": [
    "expId = 2025041300483\n",
    "dataId = {'exposure': expId, 'detector': 90, 'instrument': 'LSSTCam'}\n",
    "expRecord = butlerUtils.getExpRecordFromDataId(butler, dataId)\n",
    "print(expRecord)\n",
    "rotData = getEfdData(client=client, topic=\"lsst.sal.MTRotator.rotation\", expRecord=expRecord)\n",
    "print(len(rotData))\n",
    "pos = rotData['actualPosition'].values.mean()\n",
    "print(f\"For {expId}, mean rotator position was {pos:.2f} degrees\")"
   ]
  },
  {
   "cell_type": "code",
   "execution_count": null,
   "id": "fea39c84-de4d-4cae-b9ee-00c9c828a48c",
   "metadata": {
    "execution": {
     "iopub.execute_input": "2025-04-14T13:11:50.603075Z",
     "iopub.status.busy": "2025-04-14T13:11:50.602684Z",
     "iopub.status.idle": "2025-04-14T13:11:50.606027Z",
     "shell.execute_reply": "2025-04-14T13:11:50.605735Z",
     "shell.execute_reply.started": "2025-04-14T13:11:50.603060Z"
    }
   },
   "outputs": [],
   "source": [
    "expRecord.timespan.begin.utc.isot"
   ]
  },
  {
   "cell_type": "code",
   "execution_count": null,
   "id": "3ad75941-a478-4904-9a59-e8d6564ce7ee",
   "metadata": {
    "execution": {
     "iopub.execute_input": "2025-04-14T13:11:57.948800Z",
     "iopub.status.busy": "2025-04-14T13:11:57.948550Z",
     "iopub.status.idle": "2025-04-14T13:11:57.952215Z",
     "shell.execute_reply": "2025-04-14T13:11:57.951862Z",
     "shell.execute_reply.started": "2025-04-14T13:11:57.948785Z"
    }
   },
   "outputs": [],
   "source": [
    "expRecord.timespan.end.utc.isot"
   ]
  },
  {
   "cell_type": "code",
   "execution_count": null,
   "id": "50f59c65-6944-4a7b-bca2-8625ec80fc34",
   "metadata": {
    "execution": {
     "iopub.execute_input": "2025-04-14T13:13:09.274213Z",
     "iopub.status.busy": "2025-04-14T13:13:09.273844Z",
     "iopub.status.idle": "2025-04-14T13:13:09.292907Z",
     "shell.execute_reply": "2025-04-14T13:13:09.292601Z",
     "shell.execute_reply.started": "2025-04-14T13:13:09.274198Z"
    }
   },
   "outputs": [],
   "source": [
    "test = await client.select_time_series(\\\n",
    "                    \"lsst.sal.MTRotator.rotation\", \\\n",
    "                    [\"*\"], expRecord.timespan.begin.utc, expRecord.timespan.end.utc)\n",
    "len(test)"
   ]
  },
  {
   "cell_type": "code",
   "execution_count": null,
   "id": "58224669-1b1d-4ac0-b77e-9982f472ab2e",
   "metadata": {},
   "outputs": [],
   "source": []
  }
 ],
 "metadata": {
  "kernelspec": {
   "display_name": "LSST",
   "language": "python",
   "name": "lsst"
  },
  "language_info": {
   "codemirror_mode": {
    "name": "ipython",
    "version": 3
   },
   "file_extension": ".py",
   "mimetype": "text/x-python",
   "name": "python",
   "nbconvert_exporter": "python",
   "pygments_lexer": "ipython3",
   "version": "3.12.9"
  }
 },
 "nbformat": 4,
 "nbformat_minor": 5
}
