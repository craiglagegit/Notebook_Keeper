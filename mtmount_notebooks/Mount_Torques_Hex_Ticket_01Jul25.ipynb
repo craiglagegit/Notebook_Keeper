{
 "cells": [
  {
   "cell_type": "markdown",
   "id": "45809f73-1564-4164-9220-dd35e6bb5652",
   "metadata": {},
   "source": [
    "## Add hexapod motions to the mount plots\n",
    "\n",
    "Craig Lage  04-Jun-25"
   ]
  },
  {
   "cell_type": "code",
   "execution_count": null,
   "id": "73f240f5-8e03-4918-952f-616ee150519b",
   "metadata": {
    "execution": {
     "iopub.execute_input": "2025-07-10T15:35:42.930471Z",
     "iopub.status.busy": "2025-07-10T15:35:42.929845Z",
     "iopub.status.idle": "2025-07-10T15:35:51.552781Z",
     "shell.execute_reply": "2025-07-10T15:35:51.552265Z",
     "shell.execute_reply.started": "2025-07-10T15:35:42.930451Z"
    }
   },
   "outputs": [],
   "source": [
    "import numpy as np\n",
    "import matplotlib.pyplot as plt\n",
    "from lsst.daf.butler import Butler\n",
    "from lsst.summit.utils.efdUtils import makeEfdClient\n",
    "from lsst.summit.utils.simonyi.mountAnalysis import calculateMountErrors, plotMountErrors\n",
    "from lsst.summit.utils.butlerUtils import getExpRecordFromDataId"
   ]
  },
  {
   "cell_type": "code",
   "execution_count": null,
   "id": "e2a8d56e-9d6a-42e8-bee4-a86f0fabd4b1",
   "metadata": {
    "execution": {
     "iopub.execute_input": "2025-07-10T15:35:52.727726Z",
     "iopub.status.busy": "2025-07-10T15:35:52.727373Z",
     "iopub.status.idle": "2025-07-10T15:35:54.258182Z",
     "shell.execute_reply": "2025-07-10T15:35:54.257304Z",
     "shell.execute_reply.started": "2025-07-10T15:35:52.727707Z"
    }
   },
   "outputs": [],
   "source": [
    "client = makeEfdClient()\n",
    "butler = Butler('/repo/embargo', collections=['LSSTCam/raw/all', \n",
    "                                            'LSSTCam/calib/unbounded', 'LSSTCam/runs/nightlyValidation'])"
   ]
  },
  {
   "cell_type": "code",
   "execution_count": null,
   "id": "804b900d-01b6-4c0c-a0f3-eb8ca6f80e04",
   "metadata": {
    "execution": {
     "iopub.execute_input": "2025-07-10T15:35:55.404360Z",
     "iopub.status.busy": "2025-07-10T15:35:55.404019Z",
     "iopub.status.idle": "2025-07-10T15:35:55.518220Z",
     "shell.execute_reply": "2025-07-10T15:35:55.517711Z",
     "shell.execute_reply.started": "2025-07-10T15:35:55.404341Z"
    }
   },
   "outputs": [],
   "source": [
    "expId = 2025070800578\n",
    "dataId = {'exposure':expId, 'instrument':'LSSTCam'}\n",
    "expRecord = getExpRecordFromDataId(butler, dataId)"
   ]
  },
  {
   "cell_type": "code",
   "execution_count": null,
   "id": "c7f9b77b-9b45-4459-b9f7-32c1e2f7668c",
   "metadata": {
    "execution": {
     "iopub.execute_input": "2025-07-10T15:36:02.442331Z",
     "iopub.status.busy": "2025-07-10T15:36:02.441982Z",
     "iopub.status.idle": "2025-07-10T15:36:07.585161Z",
     "shell.execute_reply": "2025-07-10T15:36:07.584612Z",
     "shell.execute_reply.started": "2025-07-10T15:36:02.442312Z"
    }
   },
   "outputs": [],
   "source": [
    "(mountErrors, mountData) = calculateMountErrors(expRecord, client)\n",
    "saveFilename = f\"/home/c/cslage/u/MTMount/mount_plots/Mount_Plot_Hex_{expId}.png\"\n",
    "fig = plotMountErrors(mountData, mountErrors, saveFilename=saveFilename)"
   ]
  },
  {
   "cell_type": "code",
   "execution_count": null,
   "id": "cbcc76d0-4203-4d79-95ab-1996b6403cf1",
   "metadata": {},
   "outputs": [],
   "source": []
  }
 ],
 "metadata": {
  "kernelspec": {
   "display_name": "LSST",
   "language": "python",
   "name": "lsst"
  },
  "language_info": {
   "codemirror_mode": {
    "name": "ipython",
    "version": 3
   },
   "file_extension": ".py",
   "mimetype": "text/x-python",
   "name": "python",
   "nbconvert_exporter": "python",
   "pygments_lexer": "ipython3",
   "version": "3.12.11"
  }
 },
 "nbformat": 4,
 "nbformat_minor": 5
}
