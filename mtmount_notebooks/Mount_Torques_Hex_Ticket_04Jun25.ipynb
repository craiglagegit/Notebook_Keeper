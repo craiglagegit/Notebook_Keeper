{
 "cells": [
  {
   "cell_type": "markdown",
   "id": "45809f73-1564-4164-9220-dd35e6bb5652",
   "metadata": {},
   "source": [
    "## Add hexapod motions to the mount plots\n",
    "\n",
    "Craig Lage  04-Jun-25"
   ]
  },
  {
   "cell_type": "code",
   "execution_count": null,
   "id": "73f240f5-8e03-4918-952f-616ee150519b",
   "metadata": {
    "execution": {
     "iopub.execute_input": "2025-06-11T18:47:20.720548Z",
     "iopub.status.busy": "2025-06-11T18:47:20.720418Z",
     "iopub.status.idle": "2025-06-11T18:47:29.593788Z",
     "shell.execute_reply": "2025-06-11T18:47:29.593324Z",
     "shell.execute_reply.started": "2025-06-11T18:47:20.720533Z"
    }
   },
   "outputs": [],
   "source": [
    "import numpy as np\n",
    "import matplotlib.pyplot as plt\n",
    "from lsst.daf.butler import Butler\n",
    "from lsst.summit.utils.efdUtils import makeEfdClient\n",
    "from lsst.summit.utils.simonyi.mountAnalysis import calculateMountErrors, plotMountErrors"
   ]
  },
  {
   "cell_type": "code",
   "execution_count": null,
   "id": "e2a8d56e-9d6a-42e8-bee4-a86f0fabd4b1",
   "metadata": {
    "execution": {
     "iopub.execute_input": "2025-06-11T18:47:29.595621Z",
     "iopub.status.busy": "2025-06-11T18:47:29.595484Z",
     "iopub.status.idle": "2025-06-11T18:47:30.833987Z",
     "shell.execute_reply": "2025-06-11T18:47:30.833325Z",
     "shell.execute_reply.started": "2025-06-11T18:47:29.595607Z"
    }
   },
   "outputs": [],
   "source": [
    "client = makeEfdClient()\n",
    "butler = Butler('/repo/embargo', collections=['LSSTCam/raw/all', \n",
    "                                            'LSSTCam/calib/unbounded', 'LSSTCam/runs/nightlyValidation',\n",
    "                                              'LSSTCam/runs/nightlyValidation/20250425/w_2025_17/DM-50157'])"
   ]
  },
  {
   "cell_type": "code",
   "execution_count": null,
   "id": "89d833c3-23ce-4498-bf4a-605da15df247",
   "metadata": {
    "execution": {
     "iopub.execute_input": "2025-06-11T18:47:32.541579Z",
     "iopub.status.busy": "2025-06-11T18:47:32.541007Z",
     "iopub.status.idle": "2025-06-11T18:47:32.662712Z",
     "shell.execute_reply": "2025-06-11T18:47:32.662277Z",
     "shell.execute_reply.started": "2025-06-11T18:47:32.541560Z"
    }
   },
   "outputs": [],
   "source": [
    "#expId = 2025060100566\n",
    "expId = 2025053100267\n",
    "#expId = 2025042500413\n",
    "instrument='LSSTCam'\n",
    "where = \"exposure.id=expId AND instrument='LSSTCam'\"\n",
    "expRecords = butler.registry.queryDimensionRecords(\n",
    "            \"exposure\", where=where, bind={\"expId\": expId}, datasets=\"raw\"\n",
    "        )\n",
    "filteredExpRecords = set(expRecords)\n",
    "expRecord = filteredExpRecords.pop()\n",
    "#print(expRecord)"
   ]
  },
  {
   "cell_type": "code",
   "execution_count": null,
   "id": "4070eda7-4138-44eb-9f92-6bc8e4939db5",
   "metadata": {
    "execution": {
     "iopub.execute_input": "2025-06-11T18:47:33.690588Z",
     "iopub.status.busy": "2025-06-11T18:47:33.690151Z",
     "iopub.status.idle": "2025-06-11T18:47:34.732226Z",
     "shell.execute_reply": "2025-06-11T18:47:34.731731Z",
     "shell.execute_reply.started": "2025-06-11T18:47:33.690570Z"
    }
   },
   "outputs": [],
   "source": [
    "(mountErrors, mountData) = calculateMountErrors(expRecord, client)"
   ]
  },
  {
   "cell_type": "code",
   "execution_count": null,
   "id": "c7f9b77b-9b45-4459-b9f7-32c1e2f7668c",
   "metadata": {
    "execution": {
     "iopub.execute_input": "2025-06-11T18:47:35.576593Z",
     "iopub.status.busy": "2025-06-11T18:47:35.576241Z",
     "iopub.status.idle": "2025-06-11T18:47:37.357401Z",
     "shell.execute_reply": "2025-06-11T18:47:37.356762Z",
     "shell.execute_reply.started": "2025-06-11T18:47:35.576565Z"
    }
   },
   "outputs": [],
   "source": [
    "fig = plotMountErrors(mountData, mountErrors)\n",
    "plt.savefig(f\"/home/c/cslage/u/MTMount/mount_plots/Mount_Plot_Hex_{expId}.png\")"
   ]
  },
  {
   "cell_type": "code",
   "execution_count": null,
   "id": "06efa0b0-47ee-4daa-9f6b-24dad183c67b",
   "metadata": {},
   "outputs": [],
   "source": [
    "from lsst.summit.utils.efdUtils import getEfdData\n",
    "from astropy.time import Time, TimeDelta\n",
    "hexData = getEfdData(\n",
    "    client,\n",
    "    \"lsst.sal.MTHexapod.application\",\n",
    "    begin=Time(\"2025-04-25T00:00:00\"),\n",
    "    end=Time(\"2025-04-25T00:10:00\")\n",
    ")\n",
    "len(hexData)"
   ]
  },
  {
   "cell_type": "code",
   "execution_count": null,
   "id": "e917f075-24b7-48de-bde2-fee22158da13",
   "metadata": {},
   "outputs": [],
   "source": [
    "azimuthData = getEfdData(\n",
    "    client,\n",
    "    \"lsst.sal.MTMount.azimuth\",\n",
    "    begin=Time(\"2025-04-25T00:00:00\"),\n",
    "    end=Time(\"2025-04-25T00:10:00\")\n",
    "    )\n",
    "len(azimuthData)"
   ]
  },
  {
   "cell_type": "code",
   "execution_count": null,
   "id": "3f235c9b-51e2-45eb-8c22-a0ac030ec806",
   "metadata": {},
   "outputs": [],
   "source": [
    "import copy"
   ]
  },
  {
   "cell_type": "code",
   "execution_count": null,
   "id": "d244994e-bb18-4278-b1d8-4ee63f986435",
   "metadata": {},
   "outputs": [],
   "source": []
  }
 ],
 "metadata": {
  "kernelspec": {
   "display_name": "LSST",
   "language": "python",
   "name": "lsst"
  },
  "language_info": {
   "codemirror_mode": {
    "name": "ipython",
    "version": 3
   },
   "file_extension": ".py",
   "mimetype": "text/x-python",
   "name": "python",
   "nbconvert_exporter": "python",
   "pygments_lexer": "ipython3",
   "version": "3.12.11"
  }
 },
 "nbformat": 4,
 "nbformat_minor": 5
}
