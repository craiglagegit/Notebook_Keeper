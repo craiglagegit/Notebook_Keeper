{
 "cells": [
  {
   "cell_type": "markdown",
   "id": "45809f73-1564-4164-9220-dd35e6bb5652",
   "metadata": {},
   "source": [
    "## Add hexapod motions to the mount plots\n",
    "\n",
    "Craig Lage  04-Jun-25"
   ]
  },
  {
   "cell_type": "code",
   "execution_count": null,
   "id": "73f240f5-8e03-4918-952f-616ee150519b",
   "metadata": {
    "execution": {
     "iopub.execute_input": "2025-06-27T16:02:12.256105Z",
     "iopub.status.busy": "2025-06-27T16:02:12.255965Z",
     "iopub.status.idle": "2025-06-27T16:02:20.714337Z",
     "shell.execute_reply": "2025-06-27T16:02:20.713781Z",
     "shell.execute_reply.started": "2025-06-27T16:02:12.256087Z"
    }
   },
   "outputs": [],
   "source": [
    "import numpy as np\n",
    "import matplotlib.pyplot as plt\n",
    "from lsst.daf.butler import Butler\n",
    "from lsst.summit.utils.efdUtils import makeEfdClient\n",
    "from lsst.summit.utils.simonyi.mountAnalysis import calculateMountErrors, plotMountErrors"
   ]
  },
  {
   "cell_type": "code",
   "execution_count": null,
   "id": "e2a8d56e-9d6a-42e8-bee4-a86f0fabd4b1",
   "metadata": {
    "execution": {
     "iopub.execute_input": "2025-06-27T16:03:17.591737Z",
     "iopub.status.busy": "2025-06-27T16:03:17.590901Z",
     "iopub.status.idle": "2025-06-27T16:03:19.308079Z",
     "shell.execute_reply": "2025-06-27T16:03:19.307501Z",
     "shell.execute_reply.started": "2025-06-27T16:03:17.591711Z"
    }
   },
   "outputs": [],
   "source": [
    "client = makeEfdClient()\n",
    "butler = Butler('/repo/embargo', collections=['LSSTCam/raw/all', \n",
    "                                            'LSSTCam/calib/unbounded', 'LSSTCam/runs/nightlyValidation',\n",
    "                                              'LSSTCam/runs/nightlyValidation/20250425/w_2025_17/DM-50157'])"
   ]
  },
  {
   "cell_type": "code",
   "execution_count": null,
   "id": "89d833c3-23ce-4498-bf4a-605da15df247",
   "metadata": {
    "execution": {
     "iopub.execute_input": "2025-06-27T16:03:20.474239Z",
     "iopub.status.busy": "2025-06-27T16:03:20.473877Z",
     "iopub.status.idle": "2025-06-27T16:03:20.605337Z",
     "shell.execute_reply": "2025-06-27T16:03:20.604814Z",
     "shell.execute_reply.started": "2025-06-27T16:03:20.474218Z"
    }
   },
   "outputs": [],
   "source": [
    "#expId = 2025060100566\n",
    "#expId = 2025053100267\n",
    "#expId = 2025042500413\n",
    "#expId = 2025061900468\n",
    "#expId = 2025061900310\n",
    "expId = 2025061900310\n",
    "instrument='LSSTCam'\n",
    "where = \"exposure.id=expId AND instrument='LSSTCam'\"\n",
    "expRecords = butler.registry.queryDimensionRecords(\n",
    "            \"exposure\", where=where, bind={\"expId\": expId}, datasets=\"raw\"\n",
    "        )\n",
    "filteredExpRecords = set(expRecords)\n",
    "expRecord = filteredExpRecords.pop()\n",
    "#print(expRecord)"
   ]
  },
  {
   "cell_type": "code",
   "execution_count": null,
   "id": "4070eda7-4138-44eb-9f92-6bc8e4939db5",
   "metadata": {
    "execution": {
     "iopub.execute_input": "2025-06-27T16:03:27.383343Z",
     "iopub.status.busy": "2025-06-27T16:03:27.383004Z",
     "iopub.status.idle": "2025-06-27T16:03:28.461115Z",
     "shell.execute_reply": "2025-06-27T16:03:28.460643Z",
     "shell.execute_reply.started": "2025-06-27T16:03:27.383317Z"
    }
   },
   "outputs": [],
   "source": [
    "(mountErrors, mountData) = calculateMountErrors(expRecord, client)"
   ]
  },
  {
   "cell_type": "code",
   "execution_count": null,
   "id": "371f0457-ac70-4882-b025-e7331d45fb3e",
   "metadata": {},
   "outputs": [],
   "source": [
    "mountErrors.azRms"
   ]
  },
  {
   "cell_type": "code",
   "execution_count": null,
   "id": "c7f9b77b-9b45-4459-b9f7-32c1e2f7668c",
   "metadata": {
    "execution": {
     "iopub.execute_input": "2025-06-27T16:03:30.763249Z",
     "iopub.status.busy": "2025-06-27T16:03:30.762906Z",
     "iopub.status.idle": "2025-06-27T16:03:32.402821Z",
     "shell.execute_reply": "2025-06-27T16:03:32.402346Z",
     "shell.execute_reply.started": "2025-06-27T16:03:30.763222Z"
    }
   },
   "outputs": [],
   "source": [
    "fig = plotMountErrors(mountData, mountErrors)\n",
    "plt.savefig(f\"/home/c/cslage/u/MTMount/mount_plots/Mount_Plot_Hex_{expId}.png\")"
   ]
  },
  {
   "cell_type": "code",
   "execution_count": null,
   "id": "06efa0b0-47ee-4daa-9f6b-24dad183c67b",
   "metadata": {},
   "outputs": [],
   "source": [
    "from lsst.summit.utils.efdUtils import getEfdData\n",
    "from astropy.time import Time, TimeDelta\n",
    "hexData = getEfdData(\n",
    "    client,\n",
    "    \"lsst.sal.MTHexapod.application\",\n",
    "    begin=Time(\"2025-06-08T00:00:00\"),\n",
    "    end=Time(\"2025-06-08T00:10:00\")\n",
    ")\n",
    "len(hexData)"
   ]
  },
  {
   "cell_type": "code",
   "execution_count": null,
   "id": "e917f075-24b7-48de-bde2-fee22158da13",
   "metadata": {},
   "outputs": [],
   "source": [
    "azimuthData = getEfdData(\n",
    "    client,\n",
    "    \"lsst.sal.MTMount.azimuth\",\n",
    "    begin=Time(\"2025-04-25T00:00:00\"),\n",
    "    end=Time(\"2025-04-25T00:10:00\")\n",
    "    )\n",
    "len(azimuthData)"
   ]
  },
  {
   "cell_type": "code",
   "execution_count": null,
   "id": "3f235c9b-51e2-45eb-8c22-a0ac030ec806",
   "metadata": {},
   "outputs": [],
   "source": [
    "import copy"
   ]
  },
  {
   "cell_type": "code",
   "execution_count": null,
   "id": "d244994e-bb18-4278-b1d8-4ee63f986435",
   "metadata": {},
   "outputs": [],
   "source": [
    "(mountErrors, mountData, azValues309, azModelValues309, elValues309, elModelValues309) = calculateMountErrors(expRecord, client)"
   ]
  },
  {
   "cell_type": "code",
   "execution_count": null,
   "id": "ef948c76-a803-45ae-94f5-109b5f80207a",
   "metadata": {},
   "outputs": [],
   "source": [
    "(mountErrors, mountData, azValues310, azModelValues310, elValues310, elModelValues310) = calculateMountErrors(expRecord, client)"
   ]
  },
  {
   "cell_type": "code",
   "execution_count": null,
   "id": "4b552499-936e-46a3-9bb7-fd60c6f73d55",
   "metadata": {},
   "outputs": [],
   "source": [
    "(mountErrors, mountData, azValues311, azModelValues311, elValues311, elModelValues311) = calculateMountErrors(expRecord, client)"
   ]
  },
  {
   "cell_type": "code",
   "execution_count": null,
   "id": "29b9a543-801d-4f2a-9691-4676c9ba286a",
   "metadata": {},
   "outputs": [],
   "source": [
    "WARNING: TimeDeltaMissingUnitWarning: Numerical value without unit or explicit format passed to TimeDelta, assuming days [astropy.time.core]\n",
    "astroquery WARNING: TimeDeltaMissingUnitWarning: Numerical value without unit or explicit format passed to TimeDelta, assuming days\n",
    "Begin, End, Old 2460846.7506068675 2460846.750965093\n",
    "Times, works 2460846.7506068675 2460846.750965093 <class 'astropy.time.core.Time'> <class 'astropy.time.core.Time'>"
   ]
  },
  {
   "cell_type": "code",
   "execution_count": null,
   "id": "329289b4-fee0-4d0b-ade5-eb3f71bf56f7",
   "metadata": {},
   "outputs": [],
   "source": [
    "Begin, End, new 2460846.7506068675 2460846.750965093\n",
    "Times, fails 2460846.7506068675 2460846.750965093 <class 'astropy.time.core.Time'> <class 'astropy.time.core.Time'>\n",
    "lsst.summit.utils.simonyi.mountAnalysis WARNING: Azimuth pointing model RMS error 134.214 arcsec is above threshold of 10.000 arcsec, calculating errors vs astropy."
   ]
  },
  {
   "cell_type": "code",
   "execution_count": null,
   "id": "2b95540b-80ce-4003-a96a-697986cf9a88",
   "metadata": {},
   "outputs": [],
   "source": [
    "azValues[0]"
   ]
  },
  {
   "cell_type": "code",
   "execution_count": null,
   "id": "9ea4f90f-e822-41f0-abe4-415a15d9aa65",
   "metadata": {},
   "outputs": [],
   "source": [
    "(2460846.750965093 - 2460846.750248642) * 86400"
   ]
  },
  {
   "cell_type": "code",
   "execution_count": null,
   "id": "6e778e05-afdd-4816-b3a1-18446c9e215f",
   "metadata": {},
   "outputs": [],
   "source": [
    "from astropy.coordinates import SkyCoord\n",
    "import astropy.units as u"
   ]
  },
  {
   "cell_type": "code",
   "execution_count": null,
   "id": "3e2f15fd-0161-4a09-b745-9cacd776c748",
   "metadata": {},
   "outputs": [],
   "source": [
    "plt.plot(azValues[0:300])\n",
    "plt.plot(azModelValues[0:300])"
   ]
  },
  {
   "cell_type": "code",
   "execution_count": null,
   "id": "217c4a69-eae4-4942-98d9-2847855aeb2f",
   "metadata": {},
   "outputs": [],
   "source": [
    "type(elValues309)"
   ]
  },
  {
   "cell_type": "code",
   "execution_count": null,
   "id": "ec51d364-64d9-4127-b25b-836643ca5dc8",
   "metadata": {},
   "outputs": [],
   "source": [
    "elValuescon = np.concatenate((elValues309, elValues310, elValues311))\n",
    "elModelValuescon = np.concatenate((elModelValues309, elModelValues310, elModelValues311))\n",
    "plt.plot(elValuescon)\n",
    "plt.plot(elModelValuescon)\n"
   ]
  },
  {
   "cell_type": "code",
   "execution_count": null,
   "id": "a3e1af5e-a695-49fb-b420-3c644a45936b",
   "metadata": {},
   "outputs": [],
   "source": [
    "azModelValues310Mod = np.zeros_like(azModelValues310)\n",
    "for i in range(len(azModelValues310)):\n",
    "    if azModelValues310[i] > 300.0:\n",
    "        azModelValues310Mod[i] = azModelValues310[i] - 360.0\n",
    "    else:\n",
    "        azModelValues310Mod[i] = azModelValues310[i]\n",
    "        \n",
    "\n",
    "azValuescon = np.concatenate((azValues309, azValues310, azValues311))\n",
    "azModelValuescon = np.concatenate((azModelValues309, azModelValues310Mod, azModelValues311))\n",
    "plt.plot(azValuescon)\n",
    "plt.plot(azModelValuescon)\n",
    "plt.axhline(0.0, ls = '--', color='black')"
   ]
  },
  {
   "cell_type": "code",
   "execution_count": null,
   "id": "e26ea1ac-8e57-416b-bcd6-4fcf309593d7",
   "metadata": {},
   "outputs": [],
   "source": [
    "expIds = [2025061900309, 2025061900310, 2025061900311]\n",
    "fig, axs = plt.subplots(1,2, figsize=(10, 8))\n",
    "plt.subplots_adjust(wspace=0.5)\n",
    "plt.suptitle(\"Mount tracking plot errors, 2024-06-19\", fontsize=18)\n",
    "instrument='LSSTCam'\n",
    "for expId in expIds:\n",
    "    where = \"exposure.id=expId AND instrument='LSSTCam'\"\n",
    "    expRecords = butler.registry.queryDimensionRecords(\n",
    "                \"exposure\", where=where, bind={\"expId\": expId}, datasets=\"raw\"\n",
    "            )\n",
    "    filteredExpRecords = set(expRecords)\n",
    "    expRecord = filteredExpRecords.pop()\n",
    "    (mountErrors, mountData, azValTimes, azValues, azModelValues, elValTimes, elValues, elModelValues) = calculateMountErrors(expRecord, client)\n",
    "    azModelValuesMod = np.zeros_like(azModelValues)\n",
    "    for i in range(len(azModelValues)):\n",
    "        if azModelValues[i] > 300.0:\n",
    "            azModelValuesMod[i] = azModelValues[i] - 360.0\n",
    "        else:\n",
    "            azModelValuesMod[i] = azModelValues[i]\n",
    "    axs[0].set_title(\"Azimuth\")\n",
    "    axs[0].plot(azValTimes, azValues, label=f\"{expId - 2025061900000}, Meas\")\n",
    "    axs[0].plot(azValTimes, azModelValuesMod, ls='--', label=f\"{expId - 2025061900000}, Model\")\n",
    "    axs[0].legend()\n",
    "    axs[1].set_title(\"Elevation\")\n",
    "    axs[1].plot(elValTimes, elValues, label=f\"{expId - 2025061900000}, Meas\")\n",
    "    axs[1].plot(elValTimes, elModelValues, ls='--', label=f\"{expId - 2025061900000}, Model\")\n",
    "    axs[1].legend(loc='lower right')\n",
    "plt.savefig(f\"/home/c/cslage/u/MTMount/mount_plots/Model_Errors_{expIds[0]}_{expIds[2]}.png\")"
   ]
  },
  {
   "cell_type": "code",
   "execution_count": null,
   "id": "819e053d-a3cd-4ed8-8958-9070c8ee484b",
   "metadata": {},
   "outputs": [],
   "source": []
  }
 ],
 "metadata": {
  "kernelspec": {
   "display_name": "LSST",
   "language": "python",
   "name": "lsst"
  },
  "language_info": {
   "codemirror_mode": {
    "name": "ipython",
    "version": 3
   },
   "file_extension": ".py",
   "mimetype": "text/x-python",
   "name": "python",
   "nbconvert_exporter": "python",
   "pygments_lexer": "ipython3",
   "version": "3.12.11"
  }
 },
 "nbformat": 4,
 "nbformat_minor": 5
}
