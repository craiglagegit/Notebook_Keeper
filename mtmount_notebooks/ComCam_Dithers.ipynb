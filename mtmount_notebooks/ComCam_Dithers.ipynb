{
 "cells": [
  {
   "cell_type": "code",
   "execution_count": null,
   "id": "14e7e1e3-8e47-42d8-91bf-b509a7abb31d",
   "metadata": {
    "execution": {
     "iopub.execute_input": "2024-11-09T09:46:36.752346Z",
     "iopub.status.busy": "2024-11-09T09:46:36.752096Z",
     "iopub.status.idle": "2024-11-09T09:46:49.593861Z",
     "shell.execute_reply": "2024-11-09T09:46:49.593450Z",
     "shell.execute_reply.started": "2024-11-09T09:46:36.752331Z"
    }
   },
   "outputs": [],
   "source": [
    "import numpy as np\n",
    "import pandas as pd\n",
    "import matplotlib.pyplot as plt\n",
    "import matplotlib.colors as colors\n",
    "from astropy.time import Time, TimeDelta\n",
    "from lsst_efd_client import EfdClient\n",
    "from lsst.daf.butler import Butler\n",
    "import lsst.summit.utils.butlerUtils as butlerUtils\n",
    "from lsst.ts.xml.tables.m1m3 import FATable\n",
    "from lsst.summit.utils.efdUtils import getEfdData, makeEfdClient\n",
    "%matplotlib inline"
   ]
  },
  {
   "cell_type": "code",
   "execution_count": null,
   "id": "cae981c7-4a57-4b26-a012-337fc1cb7628",
   "metadata": {
    "execution": {
     "iopub.execute_input": "2024-11-09T09:46:49.594988Z",
     "iopub.status.busy": "2024-11-09T09:46:49.594495Z",
     "iopub.status.idle": "2024-11-09T09:46:49.985348Z",
     "shell.execute_reply": "2024-11-09T09:46:49.984914Z",
     "shell.execute_reply.started": "2024-11-09T09:46:49.594973Z"
    }
   },
   "outputs": [],
   "source": [
    "butler = Butler('/repo/embargo_new', collections=[\"LSSTComCam/raw/all\", \"LSSTComCam/calib\"])"
   ]
  },
  {
   "cell_type": "code",
   "execution_count": null,
   "id": "755ad7b6-355d-48f6-831b-ee9d9f7da4ba",
   "metadata": {
    "execution": {
     "iopub.execute_input": "2024-11-09T09:47:09.560949Z",
     "iopub.status.busy": "2024-11-09T09:47:09.560595Z",
     "iopub.status.idle": "2024-11-09T09:47:10.506449Z",
     "shell.execute_reply": "2024-11-09T09:47:10.506036Z",
     "shell.execute_reply.started": "2024-11-09T09:47:09.560926Z"
    }
   },
   "outputs": [],
   "source": [
    "azs = []\n",
    "els = []\n",
    "ras = []\n",
    "decs = []\n",
    "for expId in range(2024110800245, 2024110800318):\n",
    "    dataId = {'exposure': expId, 'detector': 4, 'instrument': 'LSSTComCam'}\n",
    "    expRecord = butlerUtils.getExpRecordFromDataId(butler, dataId)\n",
    "    azs.append(expRecord.azimuth)\n",
    "    els.append(90.0 - expRecord.zenith_angle)\n",
    "    ras.append(expRecord.tracking_ra)\n",
    "    decs.append(expRecord.tracking_dec)\n",
    "len(decs)"
   ]
  },
  {
   "cell_type": "code",
   "execution_count": null,
   "id": "dd978fa2-38a6-43c3-a568-92ca998f31d8",
   "metadata": {
    "execution": {
     "iopub.execute_input": "2024-11-09T09:48:26.376957Z",
     "iopub.status.busy": "2024-11-09T09:48:26.376592Z",
     "iopub.status.idle": "2024-11-09T09:48:26.521013Z",
     "shell.execute_reply": "2024-11-09T09:48:26.520639Z",
     "shell.execute_reply.started": "2024-11-09T09:48:26.376939Z"
    }
   },
   "outputs": [],
   "source": [
    "plt.subplots_adjust(wspace=0.5)\n",
    "plt.subplot(1,2,1)\n",
    "plt.scatter(azs, els, marker='.')\n",
    "plt.xlabel(\"Azimuth(deg)\")\n",
    "plt.ylabel(\"Elevation(deg)\")\n",
    "plt.subplot(1,2,2)\n",
    "plt.scatter(ras, decs, marker='.')\n",
    "plt.xlabel(\"RA(deg)\")\n",
    "plt.ylabel(\"Dec(deg)\")\n",
    "           "
   ]
  },
  {
   "cell_type": "code",
   "execution_count": null,
   "id": "fe83f58b-e18b-4c4a-8b55-d1022ae1a3d6",
   "metadata": {
    "execution": {
     "iopub.execute_input": "2024-11-06T14:16:26.425454Z",
     "iopub.status.busy": "2024-11-06T14:16:26.425144Z",
     "iopub.status.idle": "2024-11-06T14:16:26.428096Z",
     "shell.execute_reply": "2024-11-06T14:16:26.427788Z",
     "shell.execute_reply.started": "2024-11-06T14:16:26.425439Z"
    }
   },
   "outputs": [],
   "source": [
    "expRecord.tracking_ra"
   ]
  },
  {
   "cell_type": "code",
   "execution_count": null,
   "id": "6daede59-ef12-4b89-989f-37340895f06e",
   "metadata": {},
   "outputs": [],
   "source": []
  }
 ],
 "metadata": {
  "kernelspec": {
   "display_name": "LSST",
   "language": "python",
   "name": "lsst"
  },
  "language_info": {
   "codemirror_mode": {
    "name": "ipython",
    "version": 3
   },
   "file_extension": ".py",
   "mimetype": "text/x-python",
   "name": "python",
   "nbconvert_exporter": "python",
   "pygments_lexer": "ipython3",
   "version": "3.12.9"
  }
 },
 "nbformat": 4,
 "nbformat_minor": 5
}
