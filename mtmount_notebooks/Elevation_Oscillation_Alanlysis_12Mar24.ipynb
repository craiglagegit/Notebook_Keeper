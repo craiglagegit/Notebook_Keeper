{
 "cells": [
  {
   "cell_type": "code",
   "execution_count": null,
   "id": "8f30f583-60bd-405a-9e98-5f589cb1de71",
   "metadata": {
    "execution": {
     "iopub.execute_input": "2024-03-12T16:42:59.847687Z",
     "iopub.status.busy": "2024-03-12T16:42:59.847413Z",
     "iopub.status.idle": "2024-03-12T16:43:06.915762Z",
     "shell.execute_reply": "2024-03-12T16:43:06.915326Z",
     "shell.execute_reply.started": "2024-03-12T16:42:59.847672Z"
    }
   },
   "outputs": [],
   "source": [
    "import sys, time, os, asyncio, glob\n",
    "from datetime import datetime\n",
    "import numpy as np\n",
    "import matplotlib.pyplot as plt\n",
    "from matplotlib.ticker import FuncFormatter\n",
    "import matplotlib.dates as mdates\n",
    "from matplotlib.backends.backend_pdf import PdfPages\n",
    "import pickle as pkl\n",
    "from astropy.time import Time, TimeDelta\n",
    "from scipy.interpolate import UnivariateSpline\n",
    "from scipy.optimize import minimize\n",
    "from lsst_efd_client import EfdClient\n",
    "from lsst.summit.utils import getCurrentDayObs_int, dayObsIntToString\n",
    "from lsst.summit.utils.tmaUtils import TMAEventMaker, plotEvent, getAzimuthElevationDataForEvent\n",
    "from lsst.summit.utils.blockUtils import BlockParser\n",
    "from lsst.summit.utils.efdUtils import getEfdData"
   ]
  },
  {
   "cell_type": "code",
   "execution_count": null,
   "id": "5f74e5a3-1e9d-4369-b4f7-0888695f0f8b",
   "metadata": {
    "execution": {
     "iopub.execute_input": "2024-03-12T16:43:12.265984Z",
     "iopub.status.busy": "2024-03-12T16:43:12.265409Z",
     "iopub.status.idle": "2024-03-12T16:43:13.074696Z",
     "shell.execute_reply": "2024-03-12T16:43:13.074222Z",
     "shell.execute_reply.started": "2024-03-12T16:43:12.265967Z"
    }
   },
   "outputs": [],
   "source": [
    "client = EfdClient(\"usdf_efd\")\n",
    "eventMaker = TMAEventMaker()"
   ]
  },
  {
   "cell_type": "code",
   "execution_count": null,
   "id": "310a80a8-9c40-4cc8-be8a-8fa7194fa4d2",
   "metadata": {
    "execution": {
     "iopub.execute_input": "2024-03-12T16:46:46.577573Z",
     "iopub.status.busy": "2024-03-12T16:46:46.577341Z",
     "iopub.status.idle": "2024-03-12T16:48:14.803576Z",
     "shell.execute_reply": "2024-03-12T16:48:14.802872Z",
     "shell.execute_reply.started": "2024-03-12T16:46:46.577560Z"
    }
   },
   "outputs": [],
   "source": [
    "dayObs=20240222\n",
    "seqNum = 1089\n",
    "track = eventMaker.getEvent(dayObs, seqNum)\n"
   ]
  },
  {
   "cell_type": "code",
   "execution_count": null,
   "id": "f7021a14-32cd-49f7-9b10-7d726010077a",
   "metadata": {
    "execution": {
     "iopub.execute_input": "2024-03-12T16:59:38.062387Z",
     "iopub.status.busy": "2024-03-12T16:59:38.061929Z",
     "iopub.status.idle": "2024-03-12T16:59:38.067441Z",
     "shell.execute_reply": "2024-03-12T16:59:38.067053Z",
     "shell.execute_reply.started": "2024-03-12T16:59:38.062371Z"
    }
   },
   "outputs": [],
   "source": [
    "\n",
    "def filterBadValues(values, maxDelta=0.1):\n",
    "    \"\"\"Filter out bad values from a dataset, replacing them in-place.                                                                       \n",
    "                                                                                                                                            \n",
    "    This function replaces non-physical points in the dataset with an                                                                       \n",
    "    extrapolation of the preceding two values. No more than 3 successive data                                                               \n",
    "    points are allowed to be replaced. Minimum length of the input is 3 points.                                                             \n",
    "                                                                                                                                            \n",
    "    Parameters                                                                                                                              \n",
    "    ----------                                                                                                                              \n",
    "    values : `list` or `np.ndarray`                                                                                                         \n",
    "        The dataset containing the values to be filtered.                                                                                   \n",
    "    maxDelta : `float`, optional                                                                                                            \n",
    "        The maximum allowed difference between consecutive values. Values with                                                              \n",
    "        a difference greater than `maxDelta` will be considered as bad values                                                               \n",
    "        and replaced with an extrapolation.                                                                                                 \n",
    "                                                                                                                                            \n",
    "    Returns                                                                                                                                 \n",
    "    -------                                                                                                                                 \n",
    "    nBadPoints : `int`      \n",
    "    \"\"\"\n",
    "    # Find non-physical points and replace with extrapolation. No more than 3                                                               \n",
    "    # successive data points can be replaced.                                                                                               \n",
    "    badCounter = 0\n",
    "    consecutiveCounter = 0\n",
    "\n",
    "    log = logging.getLogger(__name__)\n",
    "\n",
    "    median = np.nanmedian(values)\n",
    "    # if either of the the first two points are more than maxDelta away from                                                                \n",
    "    # the median, replace them with the median                                                                                              \n",
    "    for i in range(2):\n",
    "        if abs(values[i] - median) > maxDelta:\n",
    "            values[i] = median\n",
    "            badCounter += 1\n",
    "            log.warning(f\"Replacing bad value at index {i} with median value\")\n",
    "\n",
    "    # from the second element of the array, walk through and calculate the                                                                  \n",
    "    # difference between each element and the previous one. If the difference                                                               \n",
    "    # is greater than maxDelta, replace the element with the average of the                                                                 \n",
    "    # previous two elements from the point where we started replacing.                                                                      \n",
    "    replacementValue = (values[1] + values[0]) / 2.0  # in case we have to replace the first value                                          \n",
    "    for i in range(2, len(values)):\n",
    "        if abs(values[i] - values[i-1]) > maxDelta:\n",
    "            if consecutiveCounter < 3:\n",
    "                consecutiveCounter += 1\n",
    "                badCounter += 1\n",
    "                log.warning(f\"Replacing value at index {i} with {replacementValue}\")\n",
    "                values[i] = replacementValue\n",
    "            else:\n",
    "                log.warning(f\"More than 3 consecutive replacements at index {i}. Stopping replacements\"\n",
    "                            \" until the next good value.\")\n",
    "        else:\n",
    "            consecutiveCounter = 0\n",
    "            replacementValue = (values[1] + values[0]) / 2.0\n",
    "    return badCounter\n"
   ]
  },
  {
   "cell_type": "code",
   "execution_count": null,
   "id": "f8fa283c-18c7-454d-aa48-6d20cb388a63",
   "metadata": {
    "execution": {
     "iopub.execute_input": "2024-03-12T17:00:45.619461Z",
     "iopub.status.busy": "2024-03-12T17:00:45.619047Z",
     "iopub.status.idle": "2024-03-12T17:00:45.919758Z",
     "shell.execute_reply": "2024-03-12T17:00:45.919463Z",
     "shell.execute_reply.started": "2024-03-12T17:00:45.619446Z"
    }
   },
   "outputs": [],
   "source": [
    "azimuthData, elevationData = getAzimuthElevationDataForEvent(\n",
    "        client, track, prePadding=-1.0, postPadding=-1.0)\n",
    "thisEl = elevationData['actualPosition'].iloc[0]\n",
    "azError = azimuthData['azError'].values\n",
    "elError = elevationData['elError'].values\n",
    "azError = azimuthData['azError'].values\n",
    "elError = elevationData['elError'].values\n",
    "azBadValues = filterBadValues(azError)\n",
    "elBadValues = filterBadValues(elError)\n",
    "azimuthData['azError'] = azError\n",
    "elevationData['elError'] = elError\n",
    "azError = azimuthData['azError']\n",
    "elError = elevationData['elError']\n"
   ]
  },
  {
   "cell_type": "code",
   "execution_count": null,
   "id": "06c7e43e-1795-4625-8d22-64c1909d1065",
   "metadata": {
    "execution": {
     "iopub.execute_input": "2024-03-12T17:00:48.573237Z",
     "iopub.status.busy": "2024-03-12T17:00:48.572987Z",
     "iopub.status.idle": "2024-03-12T17:00:48.689592Z",
     "shell.execute_reply": "2024-03-12T17:00:48.689256Z",
     "shell.execute_reply.started": "2024-03-12T17:00:48.573223Z"
    }
   },
   "outputs": [],
   "source": [
    "%matplotlib inline\n",
    "elError.plot()\n",
    "plt.show()"
   ]
  },
  {
   "cell_type": "code",
   "execution_count": null,
   "id": "7fe9d351-5c80-4416-83f4-cc651cc7596d",
   "metadata": {
    "execution": {
     "iopub.execute_input": "2024-03-12T17:02:22.694695Z",
     "iopub.status.busy": "2024-03-12T17:02:22.694184Z",
     "iopub.status.idle": "2024-03-12T17:02:22.696807Z",
     "shell.execute_reply": "2024-03-12T17:02:22.696489Z",
     "shell.execute_reply.started": "2024-03-12T17:02:22.694681Z"
    }
   },
   "outputs": [],
   "source": [
    "fft = np.fft.fft(elError.values)"
   ]
  },
  {
   "cell_type": "code",
   "execution_count": null,
   "id": "bb586cb2-6d7c-4438-912b-962faa636777",
   "metadata": {
    "execution": {
     "iopub.execute_input": "2024-03-12T17:07:43.518998Z",
     "iopub.status.busy": "2024-03-12T17:07:43.518501Z",
     "iopub.status.idle": "2024-03-12T17:07:43.522069Z",
     "shell.execute_reply": "2024-03-12T17:07:43.521614Z",
     "shell.execute_reply.started": "2024-03-12T17:07:43.518982Z"
    }
   },
   "outputs": [],
   "source": [
    "for i in range(1,10):\n",
    "    print(azimuthData['timestamp'][i] - azimuthData['timestamp'][i-1])"
   ]
  },
  {
   "cell_type": "code",
   "execution_count": null,
   "id": "9f3ce5f4-995a-494d-84bc-cdf66ff9fe0a",
   "metadata": {
    "execution": {
     "iopub.execute_input": "2024-03-12T17:08:50.580814Z",
     "iopub.status.busy": "2024-03-12T17:08:50.580499Z",
     "iopub.status.idle": "2024-03-12T17:08:50.583021Z",
     "shell.execute_reply": "2024-03-12T17:08:50.582707Z",
     "shell.execute_reply.started": "2024-03-12T17:08:50.580800Z"
    }
   },
   "outputs": [],
   "source": [
    "fftFreq = np.fft.fftfreq(len(elError.values), d=0.1)\n"
   ]
  },
  {
   "cell_type": "code",
   "execution_count": null,
   "id": "eef6ab07-61b5-437d-948d-3f28a32efc70",
   "metadata": {
    "execution": {
     "iopub.execute_input": "2024-03-12T17:13:53.059615Z",
     "iopub.status.busy": "2024-03-12T17:13:53.059064Z",
     "iopub.status.idle": "2024-03-12T17:13:53.194703Z",
     "shell.execute_reply": "2024-03-12T17:13:53.194323Z",
     "shell.execute_reply.started": "2024-03-12T17:13:53.059600Z"
    }
   },
   "outputs": [],
   "source": [
    "plt.title(f\"FFT of TMA Elevation oscillations - {dayObs} seqNum {seqNum}\")\n",
    "plt.plot(fftFreq, np.abs(fft))\n",
    "plt.xlim(0,5)\n",
    "plt.xlabel(\"Frequency (Hz)\")\n",
    "plt.savefig(f\"plots/Elevation_Oscillations_{dayObs}_{seqNum}.png\")"
   ]
  },
  {
   "cell_type": "code",
   "execution_count": null,
   "id": "3ac1b9be-262b-4d9d-802b-dcccf3525527",
   "metadata": {},
   "outputs": [],
   "source": []
  }
 ],
 "metadata": {
  "kernelspec": {
   "display_name": "LSST",
   "language": "python",
   "name": "lsst"
  },
  "language_info": {
   "codemirror_mode": {
    "name": "ipython",
    "version": 3
   },
   "file_extension": ".py",
   "mimetype": "text/x-python",
   "name": "python",
   "nbconvert_exporter": "python",
   "pygments_lexer": "ipython3",
   "version": "3.11.9"
  }
 },
 "nbformat": 4,
 "nbformat_minor": 5
}
