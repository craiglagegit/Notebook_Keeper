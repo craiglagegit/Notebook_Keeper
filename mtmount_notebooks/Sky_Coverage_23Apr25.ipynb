{
 "cells": [
  {
   "cell_type": "markdown",
   "id": "73e1267b-d2a5-40b2-90bb-6e0ad4617d5b",
   "metadata": {},
   "source": [
    "## LSSTCam sky coverage\n",
    "Scroll through on sky images to see coverage\n",
    "Craig Lage - 23-Apr-25"
   ]
  },
  {
   "cell_type": "code",
   "execution_count": null,
   "id": "eb7fec00-8cc7-4636-919e-293830c239a0",
   "metadata": {
    "execution": {
     "iopub.execute_input": "2025-04-24T00:41:21.346390Z",
     "iopub.status.busy": "2025-04-24T00:41:21.345750Z",
     "iopub.status.idle": "2025-04-24T00:41:30.415461Z",
     "shell.execute_reply": "2025-04-24T00:41:30.414993Z",
     "shell.execute_reply.started": "2025-04-24T00:41:21.346370Z"
    }
   },
   "outputs": [],
   "source": [
    "import os\n",
    "import shlex, subprocess\n",
    "import matplotlib.pyplot as plt\n",
    "from lsst.summit.utils.plotting import plot\n",
    "import numpy as np\n",
    "from astropy.io import fits\n",
    "from lsst.resources import ResourcePath\n",
    "from astropy.time import Time, TimeDelta\n",
    "import lsst.summit.utils.butlerUtils as butlerUtils\n",
    "from lsst.summit.utils.utils import dayObsIntToString\n",
    "from lsst.summit.utils.efdUtils import calcNextDay\n",
    "from lsst.daf.butler import Butler\n"
   ]
  },
  {
   "cell_type": "markdown",
   "id": "b02fdf8c-9802-40d7-949a-f7c2044aca67",
   "metadata": {},
   "source": [
    "# Scroll through historical data to see which\n",
    "# AzEl values have been covered"
   ]
  },
  {
   "cell_type": "code",
   "execution_count": null,
   "id": "61f2ca7e-cc24-4531-93d1-3fb8e3518e1b",
   "metadata": {
    "execution": {
     "iopub.execute_input": "2025-04-24T00:41:30.416764Z",
     "iopub.status.busy": "2025-04-24T00:41:30.416204Z",
     "iopub.status.idle": "2025-04-24T00:41:31.024210Z",
     "shell.execute_reply": "2025-04-24T00:41:31.023689Z",
     "shell.execute_reply.started": "2025-04-24T00:41:30.416747Z"
    }
   },
   "outputs": [],
   "source": [
    "butler = Butler('/repo/embargo', collections=['LSSTCam/raw/all', \n",
    "                                            'LSSTCam/calib/unbounded', 'LSSTCam/runs/nightlyValidation'])\n"
   ]
  },
  {
   "cell_type": "code",
   "execution_count": null,
   "id": "afd5de3d-6c0a-4bd9-aed1-f003eefa78e4",
   "metadata": {
    "execution": {
     "iopub.execute_input": "2025-04-24T00:47:04.295386Z",
     "iopub.status.busy": "2025-04-24T00:47:04.295148Z",
     "iopub.status.idle": "2025-04-24T00:49:45.301896Z",
     "shell.execute_reply": "2025-04-24T00:49:45.301366Z",
     "shell.execute_reply.started": "2025-04-24T00:47:04.295371Z"
    },
    "jupyter": {
     "outputs_hidden": true
    }
   },
   "outputs": [],
   "source": [
    "startDay = 20250416\n",
    "endDay = 20250422\n",
    "\n",
    "azs = []\n",
    "els = []\n",
    "dayObs = startDay\n",
    "while dayObs <= endDay:\n",
    "    records = butler.registry.queryDimensionRecords(\"exposure\", where=\"exposure.day_obs=%d\"%dayObs)\n",
    "    print(dayObs, records.count())\n",
    "    if records.count() < 200:\n",
    "        dayObs = calcNextDay(dayObs)  # find the next dayObs                                                                                       \n",
    "        continue\n",
    "    exposureList = []\n",
    "    for record in butler.registry.queryDimensionRecords(\"exposure\", where=\"exposure.day_obs=%d\"%dayObs):\n",
    "        if record.observation_type in ['acq', 'science'] and record.exposure_time > 2.0:\n",
    "            #print(\"Adding\", record.id)\n",
    "            exposureList.append(record.id)\n",
    "    exposureList = sorted(exposureList)\n",
    "    for expId in exposureList:\n",
    "        try:\n",
    "            mData = butler.get('raw.metadata', exposure=expId, detector=94, instrument='LSSTCam')\n",
    "            az = mData['AZSTART']\n",
    "            el = mData['ELSTART']\n",
    "            azs.append(az)\n",
    "            els.append(el)\n",
    "            #print(expId, az, el)\n",
    "        except:\n",
    "            print(f\"{expId} failed!\")\n",
    "            continue\n",
    "    print(f\"Done with {dayObs}\")\n",
    "    print()\n",
    "    dayObs = calcNextDay(dayObs)  # find the next dayObs \n"
   ]
  },
  {
   "cell_type": "code",
   "execution_count": null,
   "id": "005da63c-5169-46e3-b5c6-61ded2ad6356",
   "metadata": {
    "execution": {
     "iopub.execute_input": "2025-04-24T00:52:07.502926Z",
     "iopub.status.busy": "2025-04-24T00:52:07.502715Z",
     "iopub.status.idle": "2025-04-24T00:52:07.611461Z",
     "shell.execute_reply": "2025-04-24T00:52:07.610980Z",
     "shell.execute_reply.started": "2025-04-24T00:52:07.502911Z"
    }
   },
   "outputs": [],
   "source": [
    "plt.scatter(azs, els)\n",
    "plt.xlim(-180, 180)\n",
    "plt.ylim(0, 90)"
   ]
  },
  {
   "cell_type": "code",
   "execution_count": null,
   "id": "e25f796c-5fea-4479-a8ab-2544a91c7ea7",
   "metadata": {},
   "outputs": [],
   "source": []
  }
 ],
 "metadata": {
  "kernelspec": {
   "display_name": "LSST",
   "language": "python",
   "name": "lsst"
  },
  "language_info": {
   "codemirror_mode": {
    "name": "ipython",
    "version": 3
   },
   "file_extension": ".py",
   "mimetype": "text/x-python",
   "name": "python",
   "nbconvert_exporter": "python",
   "pygments_lexer": "ipython3",
   "version": "3.12.9"
  }
 },
 "nbformat": 4,
 "nbformat_minor": 5
}
