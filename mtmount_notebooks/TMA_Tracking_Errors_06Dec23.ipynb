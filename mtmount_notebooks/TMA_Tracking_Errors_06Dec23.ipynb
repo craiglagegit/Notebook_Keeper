{
 "cells": [
  {
   "cell_type": "code",
   "execution_count": null,
   "id": "c903339d-1007-4d04-97f1-a907982133c9",
   "metadata": {},
   "outputs": [],
   "source": [
    "import matplotlib.pyplot as plt\n",
    "%matplotlib inline\n",
    "from astropy.time import Time, TimeDelta\n",
    "import numpy as np\n",
    "import asyncio\n",
    "from lsst.summit.utils.tmaUtils import TMAEventMaker, plotEvent, TMAEvent, getAzimuthElevationDataForEvent\n",
    "\n",
    "from lsst.summit.utils.efdUtils import makeEfdClient\n",
    "client = makeEfdClient()"
   ]
  },
  {
   "cell_type": "code",
   "execution_count": null,
   "id": "a3ab5176-ff9b-4440-8f22-e7c990cabea5",
   "metadata": {},
   "outputs": [],
   "source": [
    "dayObs = 20231123\n",
    "eventMaker = TMAEventMaker()\n",
    "events = eventMaker.getEvents(dayObs)\n",
    "tracks = [e for e in events if e.type.name==\"TRACKING\"]\n"
   ]
  },
  {
   "cell_type": "code",
   "execution_count": null,
   "id": "ca13fc27-0bfe-4823-92b5-158b9bc6c6d2",
   "metadata": {},
   "outputs": [],
   "source": [
    "%matplotlib inline\n",
    "seqNum = 351\n",
    "fig = plt.figure(figsize=(10, 8))\n",
    "plotEvent(client, events[seqNum], fig, doFilterResiduals=True)\n",
    "plt.savefig(f\"/home/c/cslage/u/MTMount/mount_plots/RubinTV_Tracking_Plot_MTMount_Filtered_{dayObs}_{seqNum}.png\")"
   ]
  },
  {
   "cell_type": "code",
   "execution_count": null,
   "id": "7ae06f95-4840-479b-8040-d00ff4a94df3",
   "metadata": {},
   "outputs": [],
   "source": [
    "seqNum = 257\n",
    "event = events[seqNum]\n",
    "azimuthData, elevationData = getAzimuthElevationDataForEvent(\n",
    "                    client, event, doFilterResiduals=True, postPadding=-0.2)"
   ]
  },
  {
   "cell_type": "code",
   "execution_count": null,
   "id": "8f85ce10-2c35-433d-9a8a-c8c930e64adf",
   "metadata": {},
   "outputs": [],
   "source": [
    "azError = azimuthData['azError']\n",
    "elError = elevationData['elError']\n",
    "\n",
    "\n",
    "N = 10\n",
    "azRolling = azError.rolling(N).sum() / N\n",
    "elRolling = elError.rolling(N).sum() / N\n",
    "goodAzRolling = azRolling[abs(azRolling) < 0.01]\n",
    "goodElRolling = elRolling[abs(elRolling) < 0.01]\n",
    "if (len(goodAzRolling) == 0) or (len(goodElRolling) == 0):\n",
    "    timeSettled = event.end\n",
    "else:\n",
    "    badAzRolling = azRolling[abs(azRolling) > 0.01]\n",
    "    badElRolling = elRolling[abs(elRolling) > 0.01]\n",
    "    if len(badElRolling) == 0:\n",
    "        timeSettledEl = event.begin\n",
    "    else:\n",
    "        timeSettledEl = Time(badElRolling.index[-1])\n",
    "    if len(badAzRolling) == 0:\n",
    "        timeSettledAz = event.begin\n",
    "    else:\n",
    "        timeSettledAz = Time(badAzRolling.index[-1])\n",
    "    timeSettled = max(timeSettledEl, timeSettledAz)\n",
    "timeSettled"
   ]
  },
  {
   "cell_type": "code",
   "execution_count": null,
   "id": "d4b23172-e9fd-45f9-876b-37f50de55fd5",
   "metadata": {},
   "outputs": [],
   "source": [
    "elRolling.plot()\n",
    "azRolling.plot()\n",
    "plt.axvline(timeSettled.isot)\n",
    "plt.axhline(-0.01, ls='--', color='black')\n",
    "plt.axhline(0.01, ls='--', color='black')"
   ]
  },
  {
   "cell_type": "code",
   "execution_count": null,
   "id": "78860bb6-a82f-4caf-8ae4-c0a49270006b",
   "metadata": {},
   "outputs": [],
   "source": [
    "\n",
    "fig = plt.figure(figsize=(10, 8))\n",
    "plotEvent(client, events[seqNum], fig, azimuthData=azimuthData, \n",
    "                      elevationData=elevationData, postPadding=-0.1)\n",
    "ax = fig.get_axes()[1]\n",
    "ax.axvline(event.begin.utc.datetime, ls='--', color='black')\n",
    "ax.axvline(timeSettled.utc.datetime, ls='--', color='green')\n",
    "ax.axhline(0.02, color='red')\n",
    "#plt.savefig(f\"/home/c/cslage/u/MTMount/mount_plots/RubinTV_Tracking_Plot_MTMount_Filtered_{dayObs}_{seqNum}.png\")"
   ]
  },
  {
   "cell_type": "code",
   "execution_count": null,
   "id": "d0e7b417-41a6-407b-abae-7a0ddaf55977",
   "metadata": {},
   "outputs": [],
   "source": [
    "ax = fig.get_axes()[1]"
   ]
  },
  {
   "cell_type": "code",
   "execution_count": null,
   "id": "a6c9cd27-b0dd-43ad-8ac7-8f4cd9d833e9",
   "metadata": {},
   "outputs": [],
   "source": [
    "dayObs = 20240212\n",
    "events = eventMaker.getEvents(dayObs)\n",
    "tracks = [e for e in events if e.type.name==\"TRACKING\"]"
   ]
  },
  {
   "cell_type": "code",
   "execution_count": null,
   "id": "1f277a49-6c93-4058-b844-7f6efdce5e7d",
   "metadata": {},
   "outputs": [],
   "source": [
    "len(tracks)"
   ]
  },
  {
   "cell_type": "code",
   "execution_count": null,
   "id": "af4947ed-e623-4a68-bc3a-27c7af92b2a6",
   "metadata": {},
   "outputs": [],
   "source": [
    "seqNum = 123\n",
    "event = events[seqNum]\n",
    "fig = plt.figure(figsize=(10, 8))\n",
    "plotEvent(client, event, fig)\n",
    "plt.savefig(f\"/home/c/cslage/u/MTMount/mount_plots/RubinTV_Tracking_Plot_MTMount_{dayObs}_{seqNum}.png\")"
   ]
  },
  {
   "cell_type": "code",
   "execution_count": null,
   "id": "cd2afc4c-7e7c-4c85-bb67-4b3a84985ca2",
   "metadata": {},
   "outputs": [],
   "source": [
    "from lsst.summit.utils.efdUtils import (getEfdData,\n",
    "                       makeEfdClient,\n",
    "                       efdTimestampToAstropy,\n",
    "                       COMMAND_ALIASES,\n",
    "                       getDayObsForTime,\n",
    "                       getDayObsStartTime,\n",
    "                       getDayObsEndTime,\n",
    "                       )"
   ]
  },
  {
   "cell_type": "code",
   "execution_count": null,
   "id": "7998fda8-5d0e-4f5a-86e2-ed46bdbb256a",
   "metadata": {},
   "outputs": [],
   "source": [
    "prePadding = 0.0; postPadding = 0.5\n",
    "\n",
    "azimuthData = getEfdData(client,\n",
    "                         'lsst.sal.MTMount.azimuth',\n",
    "                         event=event,\n",
    "                         prePadding=prePadding,\n",
    "                         postPadding=postPadding)\n",
    "elevationData = getEfdData(client,\n",
    "                           'lsst.sal.MTMount.elevation',\n",
    "                           event=event,\n",
    "                           prePadding=prePadding,\n",
    "                           postPadding=postPadding)\n",
    "if event.type.name == 'TRACKING':\n",
    "    pointingData = getEfdData(client,\n",
    "                              'lsst.sal.MTPtg.currentTargetStatus',\n",
    "                              event=event,\n",
    "                              prePadding=prePadding,\n",
    "                              postPadding=postPadding)\n"
   ]
  },
  {
   "cell_type": "code",
   "execution_count": null,
   "id": "44a9b74d-e1cd-4aec-bd09-dc1761d5aabd",
   "metadata": {},
   "outputs": [],
   "source": [
    "azimuthData.columns"
   ]
  },
  {
   "cell_type": "code",
   "execution_count": null,
   "id": "9b97493d-87b2-401c-ba2e-7db42c4aa670",
   "metadata": {},
   "outputs": [],
   "source": [
    "from astropy.time import Time, TimeDelta\n",
    "az_times = azimuthData['timestamp'].values\n",
    "el_times = elevationData['timestamp'].values\n",
    "ptg_times = pointingData['timestamp'].values\n",
    "ptg_az_values = pointingData['demandAz'].values\n",
    "ptg_el_values = pointingData['demandEl'].values\n",
    "az_values = azimuthData['actualPosition'].values\n",
    "el_values = elevationData['actualPosition'].values\n",
    "az_demand_interp = np.interp(az_times, ptg_times, ptg_az_values)\n",
    "el_demand_interp = np.interp(el_times, ptg_times, ptg_el_values)\n",
    "az_error = (az_values - az_demand_interp) * 3600\n",
    "el_error = (el_values - el_demand_interp) * 3600\n"
   ]
  },
  {
   "cell_type": "code",
   "execution_count": null,
   "id": "8ca78796-ff46-445d-9d44-7ad0c185cc87",
   "metadata": {},
   "outputs": [],
   "source": [
    "%matplotlib inline\n",
    "plt.title(\"Azimuth MTPtg 2024-02-12, seqNum 123\")\n",
    "pointingData['demandAz'].plot(marker='x', label='Demand')\n",
    "azimuthData['actualPosition'].plot(marker='o', label='Measured')\n",
    "plt.axvline(event.end.isot, ls='--', color='black', label=\"event.end\")\n",
    "plotStart = Time(\"2024-02-12T23:14:10\", scale='utc')\n",
    "plotEnd = Time(\"2024-02-12T23:14:12\", scale='utc')\n",
    "plt.xlim(plotStart.isot, plotEnd.isot) \n",
    "#plt.ylim(-9.975, -9.925)\n",
    "plt.ylabel(\"Azimuth (deg)\")\n",
    "plt.xlabel(\"Time(200ms steps)\")\n",
    "plt.legend()\n",
    "plt.savefig(f\"/home/c/cslage/u/MTMount/mount_plots/RubinTV_MTPtg_{dayObs}_{seqNum}.png\")"
   ]
  },
  {
   "cell_type": "code",
   "execution_count": null,
   "id": "4c7617d9-4325-4d2f-bbc9-2307739ed78d",
   "metadata": {},
   "outputs": [],
   "source": [
    "%matplotlib inline\n",
    "plt.title(\"Azimuth MTPtg 2024-02-12, seqNum 123\")\n",
    "azimuthData['demandPosition'].plot(marker='x', label='Demand')\n",
    "azimuthData['actualPosition'].plot(marker='o', label='Measured')\n",
    "plt.axvline(event.end.isot, ls='--', color='black', label=\"event.end\")\n",
    "plotStart = Time(\"2024-02-12T23:14:10\", scale='utc')\n",
    "plotEnd = Time(\"2024-02-12T23:14:12\", scale='utc')\n",
    "plt.xlim(plotStart.isot, plotEnd.isot) \n",
    "plt.ylim(-9.975, -9.925)\n",
    "plt.ylabel(\"Azimuth (deg)\")\n",
    "plt.xlabel(\"Time\")\n",
    "plt.legend()\n",
    "plt.savefig(f\"/home/c/cslage/u/MTMount/mount_plots/RubinTV_demandPosition_BlowUp_{dayObs}_{seqNum}.png\")"
   ]
  },
  {
   "cell_type": "code",
   "execution_count": null,
   "id": "78fd457a-c6b5-4067-8834-dbfadb9ed8e3",
   "metadata": {},
   "outputs": [],
   "source": []
  }
 ],
 "metadata": {
  "kernelspec": {
   "display_name": "LSST",
   "language": "python",
   "name": "lsst"
  },
  "language_info": {
   "codemirror_mode": {
    "name": "ipython",
    "version": 3
   },
   "file_extension": ".py",
   "mimetype": "text/x-python",
   "name": "python",
   "nbconvert_exporter": "python",
   "pygments_lexer": "ipython3",
   "version": "3.11.9"
  }
 },
 "nbformat": 4,
 "nbformat_minor": 5
}
