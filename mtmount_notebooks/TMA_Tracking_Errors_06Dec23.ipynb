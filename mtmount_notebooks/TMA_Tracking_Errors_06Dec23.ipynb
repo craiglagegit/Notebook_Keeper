{
 "cells": [
  {
   "cell_type": "code",
   "execution_count": null,
   "id": "c903339d-1007-4d04-97f1-a907982133c9",
   "metadata": {
    "execution": {
     "iopub.execute_input": "2023-12-11T14:41:49.941920Z",
     "iopub.status.busy": "2023-12-11T14:41:49.941801Z",
     "iopub.status.idle": "2023-12-11T14:42:01.161171Z",
     "shell.execute_reply": "2023-12-11T14:42:01.160714Z",
     "shell.execute_reply.started": "2023-12-11T14:41:49.941908Z"
    }
   },
   "outputs": [],
   "source": [
    "import matplotlib.pyplot as plt\n",
    "%matplotlib inline\n",
    "\n",
    "import numpy as np\n",
    "\n",
    "from lsst.summit.utils.tmaUtils import TMAEventMaker, plotEvent\n",
    "dayObs = 20231123\n",
    "eventMaker = TMAEventMaker()\n",
    "events = eventMaker.getEvents(dayObs)\n",
    "\n",
    "from lsst.summit.utils.efdUtils import makeEfdClient\n",
    "client = makeEfdClient()\n",
    "\n",
    "\n",
    "\n"
   ]
  },
  {
   "cell_type": "code",
   "execution_count": null,
   "id": "78860bb6-a82f-4caf-8ae4-c0a49270006b",
   "metadata": {},
   "outputs": [],
   "source": [
    "plotEvent(client, events[430], fig)"
   ]
  },
  {
   "cell_type": "code",
   "execution_count": null,
   "id": "af4947ed-e623-4a68-bc3a-27c7af92b2a6",
   "metadata": {
    "execution": {
     "iopub.execute_input": "2023-12-11T14:42:02.327742Z",
     "iopub.status.busy": "2023-12-11T14:42:02.327617Z",
     "iopub.status.idle": "2023-12-11T14:42:02.692942Z",
     "shell.execute_reply": "2023-12-11T14:42:02.692419Z",
     "shell.execute_reply.started": "2023-12-11T14:42:02.327730Z"
    }
   },
   "outputs": [],
   "source": [
    "seqNum = 431\n",
    "plotEvent(client, events[seqNum])\n",
    "plt.savefig(f\"/home/c/cslage/u/MTMount/mount_plots/RubinTV_Tracking_Plot_{dayObs}_{seqNum}.png\")"
   ]
  },
  {
   "cell_type": "code",
   "execution_count": null,
   "id": "2fa38c4e-87e9-4a75-ad6e-1ad97c656784",
   "metadata": {},
   "outputs": [],
   "source": [
    "event=events[351]"
   ]
  },
  {
   "cell_type": "code",
   "execution_count": null,
   "id": "cd2afc4c-7e7c-4c85-bb67-4b3a84985ca2",
   "metadata": {},
   "outputs": [],
   "source": [
    "from lsst.summit.utils.efdUtils import (getEfdData,\n",
    "                       makeEfdClient,\n",
    "                       efdTimestampToAstropy,\n",
    "                       COMMAND_ALIASES,\n",
    "                       getDayObsForTime,\n",
    "                       getDayObsStartTime,\n",
    "                       getDayObsEndTime,\n",
    "                       )"
   ]
  },
  {
   "cell_type": "code",
   "execution_count": null,
   "id": "7998fda8-5d0e-4f5a-86e2-ed46bdbb256a",
   "metadata": {},
   "outputs": [],
   "source": [
    "prePadding = 0.0; postPadding = 0.0\n",
    "\n",
    "azimuthData = getEfdData(client,\n",
    "                         'lsst.sal.MTMount.azimuth',\n",
    "                         event=event,\n",
    "                         prePadding=prePadding,\n",
    "                         postPadding=postPadding)\n",
    "elevationData = getEfdData(client,\n",
    "                           'lsst.sal.MTMount.elevation',\n",
    "                           event=event,\n",
    "                           prePadding=prePadding,\n",
    "                           postPadding=postPadding)\n",
    "if event.type.name == 'TRACKING':\n",
    "    pointingData = getEfdData(client,\n",
    "                              'lsst.sal.MTPtg.currentTargetStatus',\n",
    "                              event=event,\n",
    "                              prePadding=prePadding,\n",
    "                              postPadding=postPadding)\n"
   ]
  },
  {
   "cell_type": "code",
   "execution_count": null,
   "id": "9b97493d-87b2-401c-ba2e-7db42c4aa670",
   "metadata": {},
   "outputs": [],
   "source": [
    "az_times = azimuthData['timestamp'].values\n",
    "el_times = elevationData['timestamp'].values\n",
    "ptg_times = pointingData['timestamp'].values\n",
    "az_values = azimuthData['actualPosition'].values\n",
    "el_values = elevationData['actualPosition'].values\n",
    "az_demand_interp = np.interp(az_times, ptg_times, pointingData['demandAz'])\n",
    "el_demand_interp = np.interp(el_times, ptg_times, pointingData['demandEl'])\n",
    "az_error = (az_values - az_demand_interp) * 3600\n",
    "el_error = (el_values - el_demand_interp) * 3600\n",
    "azimuthData['azError'] = az_error\n",
    "azimuthData['Error'] = _error"
   ]
  },
  {
   "cell_type": "code",
   "execution_count": null,
   "id": "c0383346-e80e-4d82-ba82-bbea0fdad03d",
   "metadata": {},
   "outputs": [],
   "source": [
    "print(len(el_values), len(el_error))"
   ]
  },
  {
   "cell_type": "code",
   "execution_count": null,
   "id": "8ca78796-ff46-445d-9d44-7ad0c185cc87",
   "metadata": {},
   "outputs": [],
   "source": []
  },
  {
   "cell_type": "code",
   "execution_count": null,
   "id": "ab395ebb-284c-45d2-bb42-f289be6b2686",
   "metadata": {},
   "outputs": [],
   "source": [
    "ptg_times = ptg.values[:,2]\n",
    "az_vals = np.array(az.values[:,0])\n",
    "el_vals = np.array(el.values[:,0])\n",
    "az_demand = np.array(ptg.values[:,0])\n",
    "el_demand = np.array(ptg.values[:,1])\n",
    "\n",
    "\n",
    "times_az = az.values[:,2]\n",
    "times_el = el.values[:,2]\n",
    "\n",
    "az_demand_interp = np.interp(times_az, ptg_times, az_demand)\n",
    "el_demand_interp = np.interp(times_el, ptg_times, el_demand)\n",
    "\n",
    "az_error_demand = (az_vals - az_demand_interp) * 3600\n",
    "el_error_demand = (el_vals - el_demand_interp) * 3600\n"
   ]
  }
 ],
 "metadata": {
  "kernelspec": {
   "display_name": "LSST",
   "language": "python",
   "name": "lsst"
  },
  "language_info": {
   "codemirror_mode": {
    "name": "ipython",
    "version": 3
   },
   "file_extension": ".py",
   "mimetype": "text/x-python",
   "name": "python",
   "nbconvert_exporter": "python",
   "pygments_lexer": "ipython3",
   "version": "3.11.4"
  }
 },
 "nbformat": 4,
 "nbformat_minor": 5
}
