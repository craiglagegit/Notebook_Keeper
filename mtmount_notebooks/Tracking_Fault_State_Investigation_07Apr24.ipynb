{
 "cells": [
  {
   "cell_type": "code",
   "execution_count": null,
   "id": "a65470e2-1119-4000-a75a-789f75807cc0",
   "metadata": {},
   "outputs": [],
   "source": [
    "import sys, time, os, asyncio, glob\n",
    "import numpy as np\n",
    "import pandas as pd\n",
    "import matplotlib.pyplot as plt\n",
    "from astropy.time import Time, TimeDelta\n",
    "from lsst_efd_client import EfdClient\n",
    "from lsst.summit.utils.tmaUtils import TMAEventMaker"
   ]
  },
  {
   "cell_type": "code",
   "execution_count": null,
   "id": "1c1860bd-ddff-4853-b713-129f2d392209",
   "metadata": {},
   "outputs": [],
   "source": [
    "client = EfdClient(\"usdf_efd\")\n",
    "eventMaker = TMAEventMaker()"
   ]
  },
  {
   "cell_type": "code",
   "execution_count": null,
   "id": "8edd8a88-04fb-4975-9c69-2d37fdca4682",
   "metadata": {},
   "outputs": [],
   "source": [
    "events = eventMaker.getEvents(20240402)"
   ]
  },
  {
   "cell_type": "code",
   "execution_count": null,
   "id": "e17dba52-31a1-4a42-a0e6-4f4db490640c",
   "metadata": {},
   "outputs": [],
   "source": [
    "start = Time(\"2024-04-03T08:08:00\", scale='utc')\n",
    "end = Time(\"2024-04-03T08:19:00\", scale='utc')\n",
    "msg = await client.select_time_series('lsst.sal.MTMount.logevent_logMessage', \\\n",
    "                                            ['message', 'timestamp'],  start, end)\n",
    "state = await client.select_time_series('lsst.sal.MTMount.logevent_summaryState', \\\n",
    "                                            ['summaryState'],  start, end)\n",
    "azInPos = await client.select_time_series('lsst.sal.MTMount.logevent_azimuthInPosition', \\\n",
    "                                            ['inPosition'],  start, end)\n"
   ]
  },
  {
   "cell_type": "code",
   "execution_count": null,
   "id": "72f3a634-e450-45cb-b13a-9527733cca9e",
   "metadata": {},
   "outputs": [],
   "source": [
    "state"
   ]
  },
  {
   "cell_type": "code",
   "execution_count": null,
   "id": "756e494a-9bf3-4f7c-acad-1bc117b65217",
   "metadata": {},
   "outputs": [],
   "source": [
    "azNotInPos = azInPos[azInPos['inPosition'] == False]"
   ]
  },
  {
   "cell_type": "code",
   "execution_count": null,
   "id": "9b6eade3-8d74-48e0-a59e-3aa27189f2d7",
   "metadata": {},
   "outputs": [],
   "source": [
    "fault = state[state['summaryState'] == 3]"
   ]
  },
  {
   "cell_type": "code",
   "execution_count": null,
   "id": "2d9d3861-21cb-4cca-b8d4-3a81d62f3dfb",
   "metadata": {},
   "outputs": [],
   "source": [
    "print(f\"event {events[265].seqNum} begins at {events[265].begin.isot}\")\n",
    "print(f\"Log message {msg.iloc[0]['message']} at {msg.iloc[0].name}\")\n",
    "print(f\"TMA enters FAULT state at {fault.index[0]}\")\n",
    "print(f\"Azimuth drive not in Position at {azNotInPos.iloc[1].name}\")\n",
    "print(f\"event {events[265].seqNum} ends at {events[265].end.isot}\")\n",
    "print()\n",
    "print(f\"event {events[271].seqNum} begins at {events[271].begin.isot}\")\n",
    "print(f\"Log message {msg.iloc[30]['message']} at {msg.iloc[30].name}\")\n",
    "print(f\"TMA enters FAULT state at {fault.index[1]}\")\n",
    "print(f\"Azimuth drive not in Position at {azNotInPos.iloc[3].name}\")\n",
    "print(f\"event {events[271].seqNum} ends at {events[271].end.isot}\")\n",
    "\n"
   ]
  },
  {
   "cell_type": "code",
   "execution_count": null,
   "id": "461f86c8-67e0-4a8a-9535-87d308c85753",
   "metadata": {},
   "outputs": [],
   "source": []
  }
 ],
 "metadata": {
  "kernelspec": {
   "display_name": "LSST",
   "language": "python",
   "name": "lsst"
  },
  "language_info": {
   "codemirror_mode": {
    "name": "ipython",
    "version": 3
   },
   "file_extension": ".py",
   "mimetype": "text/x-python",
   "name": "python",
   "nbconvert_exporter": "python",
   "pygments_lexer": "ipython3",
   "version": "3.11.9"
  }
 },
 "nbformat": 4,
 "nbformat_minor": 5
}
