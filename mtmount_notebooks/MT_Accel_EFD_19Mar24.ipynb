{
 "cells": [
  {
   "cell_type": "markdown",
   "id": "153412e6",
   "metadata": {},
   "source": [
    "# MTMount accelerometers\n",
    "Querying MTMount accelerometers \\\n",
    "Craig Lage - 22-Mar-23"
   ]
  },
  {
   "cell_type": "code",
   "execution_count": null,
   "id": "fcd0a71e",
   "metadata": {
    "execution": {
     "iopub.execute_input": "2024-03-19T19:07:27.803617Z",
     "iopub.status.busy": "2024-03-19T19:07:27.803491Z",
     "iopub.status.idle": "2024-03-19T19:07:28.315596Z",
     "shell.execute_reply": "2024-03-19T19:07:28.315093Z",
     "shell.execute_reply.started": "2024-03-19T19:07:27.803604Z"
    },
    "tags": []
   },
   "outputs": [],
   "source": [
    "import sys, time, os, asyncio\n",
    "import numpy as np\n",
    "import matplotlib.pyplot as plt\n",
    "import pandas as pd\n",
    "from astropy.time import Time, TimeDelta\n",
    "from lsst_efd_client import EfdClient, merge_packed_time_series"
   ]
  },
  {
   "cell_type": "code",
   "execution_count": null,
   "id": "e349bf7d-f708-4182-933b-bf7a7d686055",
   "metadata": {
    "execution": {
     "iopub.execute_input": "2024-03-19T19:11:33.686823Z",
     "iopub.status.busy": "2024-03-19T19:11:33.686484Z",
     "iopub.status.idle": "2024-03-19T19:11:33.689726Z",
     "shell.execute_reply": "2024-03-19T19:11:33.689445Z",
     "shell.execute_reply.started": "2024-03-19T19:11:33.686806Z"
    }
   },
   "outputs": [],
   "source": [
    "import lsst_efd_client\n",
    "os.path.abspath(lsst_efd_client.__file__)"
   ]
  },
  {
   "cell_type": "code",
   "execution_count": null,
   "id": "aed2b09e",
   "metadata": {
    "execution": {
     "iopub.execute_input": "2024-03-19T19:07:29.366590Z",
     "iopub.status.busy": "2024-03-19T19:07:29.366461Z",
     "iopub.status.idle": "2024-03-19T19:07:29.782695Z",
     "shell.execute_reply": "2024-03-19T19:07:29.782234Z",
     "shell.execute_reply.started": "2024-03-19T19:07:29.366578Z"
    },
    "tags": []
   },
   "outputs": [],
   "source": [
    "# Get EFD client\n",
    "client = EfdClient('usdf_efd')"
   ]
  },
  {
   "cell_type": "code",
   "execution_count": null,
   "id": "b8c90662-31f2-4da1-8647-01c6fa8e5a45",
   "metadata": {
    "execution": {
     "iopub.execute_input": "2024-03-19T19:07:30.429548Z",
     "iopub.status.busy": "2024-03-19T19:07:30.429002Z",
     "iopub.status.idle": "2024-03-19T19:07:30.432438Z",
     "shell.execute_reply": "2024-03-19T19:07:30.432055Z",
     "shell.execute_reply.started": "2024-03-19T19:07:30.429531Z"
    },
    "tags": []
   },
   "outputs": [],
   "source": [
    "# Times to look at the data\n",
    "start = Time(\"2023-03-22 08:00:00Z\", scale='utc')\n",
    "end = Time(\"2023-03-22 08:10:00Z\", scale='utc')"
   ]
  },
  {
   "cell_type": "code",
   "execution_count": null,
   "id": "8a14d41e-cda6-438b-9199-f11ffd8aebd4",
   "metadata": {
    "execution": {
     "iopub.execute_input": "2024-03-19T19:07:31.471296Z",
     "iopub.status.busy": "2024-03-19T19:07:31.470851Z",
     "iopub.status.idle": "2024-03-19T19:07:31.473634Z",
     "shell.execute_reply": "2024-03-19T19:07:31.473266Z",
     "shell.execute_reply.started": "2024-03-19T19:07:31.471281Z"
    },
    "tags": []
   },
   "outputs": [],
   "source": [
    "baseFields = ['accelerationX', 'accelerationY', 'accelerationZ']\n",
    "sensorNames = ['SST top end ring +x -y', 'SST top end ring -x -y', 'SST spider spindle', 'SST M2 surrogate'] "
   ]
  },
  {
   "cell_type": "markdown",
   "id": "9335c693-dae0-4c1c-900e-61730f6c8572",
   "metadata": {},
   "source": [
    "##  Get all of the data for the selected times"
   ]
  },
  {
   "cell_type": "code",
   "execution_count": null,
   "id": "07eca9b2-9c6b-4d11-b1a2-04f3dc57927c",
   "metadata": {
    "execution": {
     "iopub.execute_input": "2024-03-19T19:07:35.043153Z",
     "iopub.status.busy": "2024-03-19T19:07:35.042746Z",
     "iopub.status.idle": "2024-03-19T19:07:37.103312Z",
     "shell.execute_reply": "2024-03-19T19:07:37.102881Z",
     "shell.execute_reply.started": "2024-03-19T19:07:35.043139Z"
    },
    "tags": []
   },
   "outputs": [],
   "source": [
    "packed_dataframe = await client.select_time_series(\"lsst.sal.ESS.accelerometer\", [\"*\"], start, end)"
   ]
  },
  {
   "cell_type": "markdown",
   "id": "df351c57-a238-4bda-a908-03565a90547d",
   "metadata": {},
   "source": [
    "## Now unpack it and plot it by sensor"
   ]
  },
  {
   "cell_type": "code",
   "execution_count": null,
   "id": "7e4739e4-4572-406f-8475-70e9f20d8080",
   "metadata": {
    "execution": {
     "iopub.execute_input": "2024-03-19T19:07:40.001427Z",
     "iopub.status.busy": "2024-03-19T19:07:40.001212Z",
     "iopub.status.idle": "2024-03-19T19:07:52.994281Z",
     "shell.execute_reply": "2024-03-19T19:07:52.993944Z",
     "shell.execute_reply.started": "2024-03-19T19:07:40.001413Z"
    },
    "tags": []
   },
   "outputs": [],
   "source": [
    "fig, axs = plt.subplots(2,2, figsize = (8,8))\n",
    "plt.subplots_adjust(hspace=0.5, wspace=0.5)\n",
    "for i, sensorName in enumerate(sensorNames):\n",
    "    sub_dataframe = packed_dataframe.loc[packed_dataframe.sensorName==sensorName]\n",
    "    plotx = i%2\n",
    "    ploty = int(i/2)\n",
    "    ax = axs[plotx][ploty]\n",
    "    ax.set_title(sensorName)\n",
    "    ax.set_ylabel(\"Accel(m/s^2)\")\n",
    "    for baseField in baseFields:\n",
    "        df = merge_packed_time_series(sub_dataframe, baseField, stride=1,\n",
    "                             ref_timestamp_col=\"timestamp\", fmt='unix_tai',\n",
    "                             scale='tai')\n",
    "        df[baseField].plot(ax=ax, label=list(baseField)[-1])\n",
    "    ax.legend()\n"
   ]
  },
  {
   "cell_type": "code",
   "execution_count": null,
   "id": "356172bf-9bcd-4a93-ae97-0e937f4742e1",
   "metadata": {},
   "outputs": [],
   "source": []
  }
 ],
 "metadata": {
  "jupytext": {
   "formats": "ipynb,markdown//md"
  },
  "kernelspec": {
   "display_name": "LSST",
   "language": "python",
   "name": "lsst"
  },
  "language_info": {
   "codemirror_mode": {
    "name": "ipython",
    "version": 3
   },
   "file_extension": ".py",
   "mimetype": "text/x-python",
   "name": "python",
   "nbconvert_exporter": "python",
   "pygments_lexer": "ipython3",
   "version": "3.11.7"
  }
 },
 "nbformat": 4,
 "nbformat_minor": 5
}
