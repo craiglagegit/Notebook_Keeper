{
 "cells": [
  {
   "cell_type": "markdown",
   "id": "153412e6",
   "metadata": {},
   "source": [
    "# MTMount accelerometers\n",
    "Querying MTMount accelerometers \\\n",
    "Craig Lage - 22-Mar-23"
   ]
  },
  {
   "cell_type": "code",
   "execution_count": null,
   "id": "fcd0a71e",
   "metadata": {
    "execution": {
     "iopub.execute_input": "2025-01-23T17:42:10.659151Z",
     "iopub.status.busy": "2025-01-23T17:42:10.658810Z",
     "iopub.status.idle": "2025-01-23T17:42:11.273692Z",
     "shell.execute_reply": "2025-01-23T17:42:11.273273Z",
     "shell.execute_reply.started": "2025-01-23T17:42:10.659132Z"
    },
    "tags": []
   },
   "outputs": [],
   "source": [
    "import sys, time, os, asyncio\n",
    "import numpy as np\n",
    "import matplotlib.pyplot as plt\n",
    "import pandas as pd\n",
    "from astropy.time import Time, TimeDelta\n",
    "from lsst_efd_client import EfdClient, merge_packed_time_series"
   ]
  },
  {
   "cell_type": "code",
   "execution_count": null,
   "id": "e349bf7d-f708-4182-933b-bf7a7d686055",
   "metadata": {
    "execution": {
     "iopub.execute_input": "2025-01-23T17:42:17.798218Z",
     "iopub.status.busy": "2025-01-23T17:42:17.797774Z",
     "iopub.status.idle": "2025-01-23T17:42:17.800519Z",
     "shell.execute_reply": "2025-01-23T17:42:17.800155Z",
     "shell.execute_reply.started": "2025-01-23T17:42:17.798202Z"
    }
   },
   "outputs": [],
   "source": [
    "import lsst_efd_client\n",
    "#os.path.abspath(lsst_efd_client.__file__)"
   ]
  },
  {
   "cell_type": "code",
   "execution_count": null,
   "id": "aed2b09e",
   "metadata": {
    "execution": {
     "iopub.execute_input": "2025-01-23T17:42:18.720036Z",
     "iopub.status.busy": "2025-01-23T17:42:18.719322Z",
     "iopub.status.idle": "2025-01-23T17:42:19.129597Z",
     "shell.execute_reply": "2025-01-23T17:42:19.129133Z",
     "shell.execute_reply.started": "2025-01-23T17:42:18.720009Z"
    },
    "tags": []
   },
   "outputs": [],
   "source": [
    "# Get EFD client\n",
    "client = EfdClient('usdf_efd')"
   ]
  },
  {
   "cell_type": "code",
   "execution_count": null,
   "id": "b8c90662-31f2-4da1-8647-01c6fa8e5a45",
   "metadata": {
    "execution": {
     "iopub.execute_input": "2025-01-23T17:42:22.719469Z",
     "iopub.status.busy": "2025-01-23T17:42:22.719150Z",
     "iopub.status.idle": "2025-01-23T17:42:22.722873Z",
     "shell.execute_reply": "2025-01-23T17:42:22.722441Z",
     "shell.execute_reply.started": "2025-01-23T17:42:22.719454Z"
    },
    "tags": []
   },
   "outputs": [],
   "source": [
    "# Times to look at the data\n",
    "start = Time(\"2024-12-12 07:40:00Z\", scale='utc')\n",
    "end = Time(\"2024-12-12 07:55:00Z\", scale='utc')"
   ]
  },
  {
   "cell_type": "code",
   "execution_count": null,
   "id": "8a14d41e-cda6-438b-9199-f11ffd8aebd4",
   "metadata": {
    "execution": {
     "iopub.execute_input": "2025-01-23T17:42:23.752376Z",
     "iopub.status.busy": "2025-01-23T17:42:23.751810Z",
     "iopub.status.idle": "2025-01-23T17:42:23.754617Z",
     "shell.execute_reply": "2025-01-23T17:42:23.754170Z",
     "shell.execute_reply.started": "2025-01-23T17:42:23.752359Z"
    },
    "tags": []
   },
   "outputs": [],
   "source": [
    "baseFields = ['accelerationX', 'accelerationY', 'accelerationZ']\n",
    "sensorNames = ['SST top end ring +x -y', 'SST top end ring -x -y', 'SST spider spindle', 'SST M2 surrogate'] "
   ]
  },
  {
   "cell_type": "markdown",
   "id": "9335c693-dae0-4c1c-900e-61730f6c8572",
   "metadata": {},
   "source": [
    "##  Get all of the data for the selected times"
   ]
  },
  {
   "cell_type": "code",
   "execution_count": null,
   "id": "07eca9b2-9c6b-4d11-b1a2-04f3dc57927c",
   "metadata": {
    "execution": {
     "iopub.execute_input": "2025-01-23T17:42:27.658687Z",
     "iopub.status.busy": "2025-01-23T17:42:27.658379Z",
     "iopub.status.idle": "2025-01-23T17:42:32.218046Z",
     "shell.execute_reply": "2025-01-23T17:42:32.217591Z",
     "shell.execute_reply.started": "2025-01-23T17:42:27.658672Z"
    },
    "tags": []
   },
   "outputs": [],
   "source": [
    "packed_dataframe = await client.select_time_series(\"lsst.sal.ESS.accelerometer\", [\"*\"], start, end)"
   ]
  },
  {
   "cell_type": "markdown",
   "id": "df351c57-a238-4bda-a908-03565a90547d",
   "metadata": {},
   "source": [
    "## Now unpack it and plot it by sensor\n",
    "### The pink warnings you'll see are due to an update that needs to be fixed in lsst_efd_client.\n",
    "### Note that the one labeled \"SST M2 Surrogate\" does not appear to be connected, so this data is meaningless."
   ]
  },
  {
   "cell_type": "code",
   "execution_count": null,
   "id": "7e4739e4-4572-406f-8475-70e9f20d8080",
   "metadata": {
    "execution": {
     "iopub.execute_input": "2025-01-23T17:42:36.264039Z",
     "iopub.status.busy": "2025-01-23T17:42:36.263625Z",
     "iopub.status.idle": "2025-01-23T17:42:52.146566Z",
     "shell.execute_reply": "2025-01-23T17:42:52.146125Z",
     "shell.execute_reply.started": "2025-01-23T17:42:36.264024Z"
    },
    "tags": []
   },
   "outputs": [],
   "source": [
    "fig, axs = plt.subplots(2,2, figsize = (8,8))\n",
    "plt.subplots_adjust(hspace=0.5, wspace=0.5)\n",
    "for i, sensorName in enumerate(sensorNames):\n",
    "    sub_dataframe = packed_dataframe.loc[packed_dataframe.sensorName==sensorName]\n",
    "    plotx = i%2\n",
    "    ploty = int(i/2)\n",
    "    ax = axs[plotx][ploty]\n",
    "    ax.set_title(sensorName)\n",
    "    ax.set_ylabel(\"Accel(m/s^2)\")\n",
    "    for baseField in baseFields:\n",
    "        df = merge_packed_time_series(sub_dataframe, baseField, stride=1,\n",
    "                             ref_timestamp_col=\"timestamp\", fmt='unix_tai',\n",
    "                             scale='tai')\n",
    "        df[baseField].plot(ax=ax, label=list(baseField)[-1])\n",
    "    ax.legend()\n"
   ]
  },
  {
   "cell_type": "code",
   "execution_count": null,
   "id": "356172bf-9bcd-4a93-ae97-0e937f4742e1",
   "metadata": {},
   "outputs": [],
   "source": []
  }
 ],
 "metadata": {
  "jupytext": {
   "formats": "ipynb,markdown//md"
  },
  "kernelspec": {
   "display_name": "LSST",
   "language": "python",
   "name": "lsst"
  },
  "language_info": {
   "codemirror_mode": {
    "name": "ipython",
    "version": 3
   },
   "file_extension": ".py",
   "mimetype": "text/x-python",
   "name": "python",
   "nbconvert_exporter": "python",
   "pygments_lexer": "ipython3",
   "version": "3.11.9"
  }
 },
 "nbformat": 4,
 "nbformat_minor": 5
}
