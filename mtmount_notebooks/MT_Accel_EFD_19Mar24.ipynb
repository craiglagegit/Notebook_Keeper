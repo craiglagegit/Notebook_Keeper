{
 "cells": [
  {
   "cell_type": "markdown",
   "id": "153412e6",
   "metadata": {},
   "source": [
    "# MTMount accelerometers\n",
    "Querying MTMount accelerometers \\\n",
    "Craig Lage - 22-Mar-23"
   ]
  },
  {
   "cell_type": "code",
   "execution_count": null,
   "id": "fcd0a71e",
   "metadata": {
    "execution": {
     "iopub.execute_input": "2025-04-10T15:38:05.489827Z",
     "iopub.status.busy": "2025-04-10T15:38:05.489486Z",
     "iopub.status.idle": "2025-04-10T15:38:05.492341Z",
     "shell.execute_reply": "2025-04-10T15:38:05.492028Z",
     "shell.execute_reply.started": "2025-04-10T15:38:05.489810Z"
    },
    "tags": []
   },
   "outputs": [],
   "source": [
    "import sys, time, os, asyncio\n",
    "import numpy as np\n",
    "import matplotlib.pyplot as plt\n",
    "import pandas as pd\n",
    "from astropy.time import Time, TimeDelta\n",
    "from lsst_efd_client import EfdClient, merge_packed_time_series"
   ]
  },
  {
   "cell_type": "code",
   "execution_count": null,
   "id": "e349bf7d-f708-4182-933b-bf7a7d686055",
   "metadata": {
    "execution": {
     "iopub.execute_input": "2025-04-10T15:38:06.136641Z",
     "iopub.status.busy": "2025-04-10T15:38:06.136313Z",
     "iopub.status.idle": "2025-04-10T15:38:06.138882Z",
     "shell.execute_reply": "2025-04-10T15:38:06.138500Z",
     "shell.execute_reply.started": "2025-04-10T15:38:06.136623Z"
    }
   },
   "outputs": [],
   "source": [
    "import lsst_efd_client\n",
    "#os.path.abspath(lsst_efd_client.__file__)"
   ]
  },
  {
   "cell_type": "code",
   "execution_count": null,
   "id": "aed2b09e",
   "metadata": {
    "execution": {
     "iopub.execute_input": "2025-04-10T15:38:07.041153Z",
     "iopub.status.busy": "2025-04-10T15:38:07.040944Z",
     "iopub.status.idle": "2025-04-10T15:38:07.454184Z",
     "shell.execute_reply": "2025-04-10T15:38:07.453706Z",
     "shell.execute_reply.started": "2025-04-10T15:38:07.041138Z"
    },
    "tags": []
   },
   "outputs": [],
   "source": [
    "# Get EFD client\n",
    "client = EfdClient('usdf_efd')"
   ]
  },
  {
   "cell_type": "code",
   "execution_count": null,
   "id": "b8c90662-31f2-4da1-8647-01c6fa8e5a45",
   "metadata": {
    "execution": {
     "iopub.execute_input": "2025-04-10T15:38:07.891107Z",
     "iopub.status.busy": "2025-04-10T15:38:07.890767Z",
     "iopub.status.idle": "2025-04-10T15:38:07.894333Z",
     "shell.execute_reply": "2025-04-10T15:38:07.893939Z",
     "shell.execute_reply.started": "2025-04-10T15:38:07.891089Z"
    },
    "tags": []
   },
   "outputs": [],
   "source": [
    "# Times to look at the data\n",
    "start = Time(\"2025-04-09 14:40:00Z\", scale='utc')\n",
    "end = Time(\"2025-04-09 14:55:00Z\", scale='utc')"
   ]
  },
  {
   "cell_type": "code",
   "execution_count": null,
   "id": "8a14d41e-cda6-438b-9199-f11ffd8aebd4",
   "metadata": {
    "execution": {
     "iopub.execute_input": "2025-04-10T15:38:08.485514Z",
     "iopub.status.busy": "2025-04-10T15:38:08.485205Z",
     "iopub.status.idle": "2025-04-10T15:38:08.487869Z",
     "shell.execute_reply": "2025-04-10T15:38:08.487505Z",
     "shell.execute_reply.started": "2025-04-10T15:38:08.485498Z"
    },
    "tags": []
   },
   "outputs": [],
   "source": [
    "baseFields = ['accelerationX', 'accelerationY', 'accelerationZ']\n",
    "sensorNames = ['SST top end ring +x -y', 'SST top end ring -x -y', 'SST spider spindle']#, 'SST M2 surrogate'] "
   ]
  },
  {
   "cell_type": "markdown",
   "id": "9335c693-dae0-4c1c-900e-61730f6c8572",
   "metadata": {},
   "source": [
    "##  Get all of the data for the selected times"
   ]
  },
  {
   "cell_type": "code",
   "execution_count": null,
   "id": "07eca9b2-9c6b-4d11-b1a2-04f3dc57927c",
   "metadata": {
    "execution": {
     "iopub.execute_input": "2025-04-10T15:38:11.963837Z",
     "iopub.status.busy": "2025-04-10T15:38:11.963515Z",
     "iopub.status.idle": "2025-04-10T15:38:16.189830Z",
     "shell.execute_reply": "2025-04-10T15:38:16.189439Z",
     "shell.execute_reply.started": "2025-04-10T15:38:11.963820Z"
    },
    "tags": []
   },
   "outputs": [],
   "source": [
    "packed_dataframe = await client.select_time_series(\"lsst.sal.ESS.accelerometer\", [\"*\"], start, end)"
   ]
  },
  {
   "cell_type": "markdown",
   "id": "df351c57-a238-4bda-a908-03565a90547d",
   "metadata": {},
   "source": [
    "## Now unpack it and plot it by sensor\n",
    "### The pink warnings you'll see are due to an update that needs to be fixed in lsst_efd_client.\n",
    "### Note that the one labeled \"SST M2 Surrogate\" does not appear to be connected, so this data is meaningless."
   ]
  },
  {
   "cell_type": "code",
   "execution_count": null,
   "id": "7e4739e4-4572-406f-8475-70e9f20d8080",
   "metadata": {
    "execution": {
     "iopub.execute_input": "2025-04-10T15:28:09.812404Z",
     "iopub.status.busy": "2025-04-10T15:28:09.812089Z",
     "iopub.status.idle": "2025-04-10T15:28:21.438338Z",
     "shell.execute_reply": "2025-04-10T15:28:21.437957Z",
     "shell.execute_reply.started": "2025-04-10T15:28:09.812388Z"
    },
    "tags": []
   },
   "outputs": [],
   "source": [
    "fig, axs = plt.subplots(2,2, figsize = (8,8))\n",
    "plt.subplots_adjust(hspace=0.5, wspace=0.5)\n",
    "for i, sensorName in enumerate(sensorNames):\n",
    "    sub_dataframe = packed_dataframe.loc[packed_dataframe.sensorName==sensorName]\n",
    "    plotx = i%2\n",
    "    ploty = int(i/2)\n",
    "    ax = axs[plotx][ploty]\n",
    "    ax.set_title(sensorName)\n",
    "    ax.set_ylabel(\"Accel(m/s^2)\")\n",
    "    for baseField in baseFields:\n",
    "        df = merge_packed_time_series(sub_dataframe, baseField, stride=1,\n",
    "                             ref_timestamp_col=\"timestamp\", fmt='unix_tai',\n",
    "                             scale='tai')\n",
    "        df[baseField].plot(ax=ax, label=list(baseField)[-1])\n",
    "        #df[baseField].plot(ax=ax, label=list(baseField)[-1])\n",
    "    ax.legend()\n",
    "    #ax.set_ylim(-0.05, 0.05)\n",
    "plt.savefig(\"/home/c/cslage/u/MTMount/accel_data/Azimuth_Slews_09Apr25.png\")"
   ]
  },
  {
   "cell_type": "markdown",
   "id": "e98e1693-fbe9-42b3-a3e3-d762a3053a0b",
   "metadata": {},
   "source": [
    "## With low pass filter"
   ]
  },
  {
   "cell_type": "code",
   "execution_count": null,
   "id": "7edd2114-cb16-4db5-820d-b2121e59a703",
   "metadata": {
    "execution": {
     "iopub.execute_input": "2025-04-10T16:07:25.432917Z",
     "iopub.status.busy": "2025-04-10T16:07:25.432373Z",
     "iopub.status.idle": "2025-04-10T16:07:26.543605Z",
     "shell.execute_reply": "2025-04-10T16:07:26.543184Z",
     "shell.execute_reply.started": "2025-04-10T16:07:25.432900Z"
    },
    "tags": []
   },
   "outputs": [],
   "source": [
    "from scipy.signal import butter,filtfilt\n",
    "\n",
    "def butter_lowpass_filter(data, cutoff, fs, order):\n",
    "    nyq = 0.5 * fs\n",
    "    normal_cutoff = cutoff / nyq\n",
    "    # Get the filter coefficients \n",
    "    b, a = butter(order, normal_cutoff, btype='low', analog=False)\n",
    "    y = filtfilt(b, a, data)\n",
    "    return y\n",
    "\n",
    "fig, axs = plt.subplots(2,2, figsize = (8,8))\n",
    "plt.subplots_adjust(hspace=0.5, wspace=0.5)\n",
    "for i, sensorName in enumerate(sensorNames[1:2]):\n",
    "    sub_dataframe = packed_dataframe.loc[packed_dataframe.sensorName==sensorName]\n",
    "    plotx = i%2\n",
    "    ploty = int(i/2)\n",
    "    ax = axs[plotx][ploty]\n",
    "    ax.set_title(sensorName)\n",
    "    ax.set_ylabel(\"Accel(m/s^2)\")\n",
    "    for baseField in baseFields[2:3]:\n",
    "        df = merge_packed_time_series(sub_dataframe, baseField, stride=1,\n",
    "                             ref_timestamp_col=\"timestamp\", fmt='unix_tai',\n",
    "                             scale='tai')\n",
    "        plotDF = df[baseField] - df[baseField].mean()\n",
    "        plotDF = plotDF.rolling(200).sum() / 200.0\n",
    "        values = plotDF.values[200:-1]\n",
    "        times = df['times'].values[200:-1]\n",
    "        filtered_values = butter_lowpass_filter(values, 1.0, 200, 3)\n",
    "        plt.plot(times, values) \n",
    "        #df[baseField].plot(ax=ax, label=list(baseField)[-1])\n",
    "    ax.legend()\n",
    "    #ax.set_ylim(-0.05, 0.05)\n",
    "plt.savefig(\"/home/c/cslage/u/MTMount/accel_data/Azimuth_Slews_Filtered_10Apr25.png\")"
   ]
  },
  {
   "cell_type": "code",
   "execution_count": null,
   "id": "e6f3fc4f-81fe-4353-a8e5-9648919b1ac3",
   "metadata": {},
   "outputs": [],
   "source": []
  }
 ],
 "metadata": {
  "jupytext": {
   "formats": "ipynb,markdown//md"
  },
  "kernelspec": {
   "display_name": "LSST",
   "language": "python",
   "name": "lsst"
  },
  "language_info": {
   "codemirror_mode": {
    "name": "ipython",
    "version": 3
   },
   "file_extension": ".py",
   "mimetype": "text/x-python",
   "name": "python",
   "nbconvert_exporter": "python",
   "pygments_lexer": "ipython3",
   "version": "3.12.9"
  }
 },
 "nbformat": 4,
 "nbformat_minor": 5
}
