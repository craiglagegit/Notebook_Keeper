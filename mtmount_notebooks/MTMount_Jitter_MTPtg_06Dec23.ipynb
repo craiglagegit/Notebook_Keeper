{
 "cells": [
  {
   "cell_type": "code",
   "execution_count": null,
   "metadata": {
    "execution": {
     "iopub.execute_input": "2023-12-11T11:44:07.073273Z",
     "iopub.status.busy": "2023-12-11T11:44:07.072604Z",
     "iopub.status.idle": "2023-12-11T11:44:14.299378Z",
     "shell.execute_reply": "2023-12-11T11:44:14.299024Z",
     "shell.execute_reply.started": "2023-12-11T11:44:07.073256Z"
    },
    "tags": []
   },
   "outputs": [],
   "source": [
    "import numpy as np\n",
    "import matplotlib.pyplot as plt\n",
    "%matplotlib inline\n",
    "from astropy.time import Time, TimeDelta\n",
    "from lsst.summit.utils.tmaUtils import TMAEventMaker, plotEvent\n",
    "from lsst.summit.utils.efdUtils import makeEfdClient\n",
    "from lsst_efd_client import EfdClient"
   ]
  },
  {
   "cell_type": "code",
   "execution_count": null,
   "metadata": {
    "execution": {
     "iopub.execute_input": "2023-12-11T11:44:16.256055Z",
     "iopub.status.busy": "2023-12-11T11:44:16.255501Z",
     "iopub.status.idle": "2023-12-11T11:44:19.668061Z",
     "shell.execute_reply": "2023-12-11T11:44:19.667636Z",
     "shell.execute_reply.started": "2023-12-11T11:44:16.256039Z"
    }
   },
   "outputs": [],
   "source": [
    "dayObs = 20231123\n",
    "client = EfdClient('usdf_efd')\n",
    "eventMaker = TMAEventMaker(client=client)\n",
    "events = eventMaker.getEvents(dayObs)\n",
    "\n"
   ]
  },
  {
   "cell_type": "code",
   "execution_count": null,
   "metadata": {
    "execution": {
     "iopub.execute_input": "2023-12-11T12:44:24.174199Z",
     "iopub.status.busy": "2023-12-11T12:44:24.173910Z",
     "iopub.status.idle": "2023-12-11T12:44:24.177372Z",
     "shell.execute_reply": "2023-12-11T12:44:24.176999Z",
     "shell.execute_reply.started": "2023-12-11T12:44:24.174185Z"
    }
   },
   "outputs": [],
   "source": [
    "events[351].type.name"
   ]
  },
  {
   "cell_type": "code",
   "execution_count": null,
   "metadata": {
    "execution": {
     "iopub.execute_input": "2023-12-06T18:56:44.710236Z",
     "iopub.status.busy": "2023-12-06T18:56:44.709940Z",
     "iopub.status.idle": "2023-12-06T18:56:45.527297Z",
     "shell.execute_reply": "2023-12-06T18:56:45.526882Z",
     "shell.execute_reply.started": "2023-12-06T18:56:44.710223Z"
    }
   },
   "outputs": [],
   "source": [
    "seqNum = 351\n",
    "start = events[seqNum].begin + TimeDelta(1.0, format='sec')\n",
    "end = events[seqNum].end - TimeDelta(1.0, format='sec')\n",
    "print(start, end)\n",
    "az = await client.select_time_series('lsst.sal.MTMount.azimuth', \\\n",
    "                                            ['actualPosition', 'demandPosition', 'timestamp'],  start, end)\n",
    "el = await client.select_time_series('lsst.sal.MTMount.elevation', \\\n",
    "                                            ['actualPosition','demandPosition', 'timestamp'],  start, end)    \n",
    "\n",
    "az_vals = np.array(az.values[:,0])\n",
    "el_vals = np.array(el.values[:,0])\n",
    "az_demand = np.array(az.values[:,1])\n",
    "el_demand = np.array(el.values[:,1])\n",
    "\n",
    "times_az = az.values[:,2]\n",
    "times_el = el.values[:,2]\n",
    "# The fits are much better if the time variable\n",
    "# is centered in the interval\n",
    "fit_times_az = [(times_az[i]-times_az[int(len(az.values) / 2)]) for i in range(len(times_az))]\n",
    "fit_times_el = [(times_el[i]-times_el[int(len(el.values) / 2)]) for i in range(len(times_el))]\n",
    "\n",
    "# Fit with a polynomial\n",
    "az_fit = np.polyfit(fit_times_az, az_vals, 4)\n",
    "el_fit = np.polyfit(fit_times_el, el_vals, 4)\n",
    "az_model = np.polyval(az_fit, fit_times_az)\n",
    "el_model = np.polyval(el_fit, fit_times_el)\n",
    "\n",
    "# Errors in arcseconds\n",
    "az_error = (az_vals - az_model) * 3600\n",
    "el_error = (el_vals - el_model) * 3600\n",
    "az_error_demand = (az_vals - az_demand) * 3600\n",
    "el_error_demand = (el_vals - el_demand) * 3600\n",
    "# Calculate RMS\n",
    "az_rms = np.sqrt(np.mean(az_error * az_error))\n",
    "el_rms = np.sqrt(np.mean(el_error * el_error))\n",
    "\n",
    "# Calculate Image impact RMS\n",
    "# We are less sensitive to Az errors near the zenith\n",
    "image_az_rms = az_rms * np.cos(el_vals[0] * np.pi / 180.0)\n",
    "image_el_rms = el_rms \n",
    "\n",
    "fig = plt.figure(figsize = (8,12))\n",
    "plt.subplots_adjust(wspace=0.3, hspace=0.3)\n",
    "plt.suptitle(f\"MT Mount Jitter - {dayObs} - {seqNum}\", fontsize = 18)\n",
    "plt.subplot(3,2,1)\n",
    "ax1 = az['actualPosition'].plot(legend=True, color='red')\n",
    "ax1.set_title(\"Azimuth\")\n",
    "ax1.set_ylabel(\"Degrees\")\n",
    "plt.subplot(3,2,2)\n",
    "ax3 = el['actualPosition'].plot(legend=True, color='green')\n",
    "ax3.set_title(\"Elevation\")\n",
    "ax3.set_ylabel(\"Degrees\")\n",
    "\n",
    "plt.subplot(3,2,3)\n",
    "plt.plot(fit_times_az, az_error, color='red')\n",
    "plt.title(f\"Azimuth RMS error: Poly fit\", fontsize=10)\n",
    "plt.ylim(-1.0,1.0)\n",
    "plt.xticks([])\n",
    "plt.ylabel(\"ArcSeconds\")\n",
    "plt.subplot(3,2,4)\n",
    "plt.plot(fit_times_el, el_error, color='green')\n",
    "plt.title(f\"Elevation RMS error: Poly fit\", fontsize=10)\n",
    "plt.ylim(-1.0,1.0)\n",
    "plt.xticks([])\n",
    "plt.ylabel(\"ArcSeconds\")\n",
    "\n",
    "plt.subplot(3,2,5)\n",
    "plt.plot(fit_times_az, az_error_demand, color='red')\n",
    "plt.title(f\"Azimuth RMS error: Actual - Demand\", fontsize=10)\n",
    "plt.ylim(-1.0,1.0)\n",
    "plt.xticks([])\n",
    "plt.ylabel(\"ArcSeconds\")\n",
    "plt.subplot(3,2,6)\n",
    "plt.plot(fit_times_el, el_error_demand, color='green')\n",
    "plt.title(f\"Elevation RMS error: Actual - Demand\", fontsize=10)\n",
    "plt.ylim(-1.0,1.0)\n",
    "plt.xticks([])\n",
    "plt.ylabel(\"ArcSeconds\")\n",
    "#plt.savefig(f\"/home/c/cslage/u/MTMount/mount_plots/Mount_plot_{dayObs}_{seqNum}.png\")"
   ]
  },
  {
   "cell_type": "code",
   "execution_count": null,
   "metadata": {
    "execution": {
     "iopub.execute_input": "2023-12-06T18:56:31.015683Z",
     "iopub.status.busy": "2023-12-06T18:56:31.015463Z",
     "iopub.status.idle": "2023-12-06T18:56:31.367573Z",
     "shell.execute_reply": "2023-12-06T18:56:31.367180Z",
     "shell.execute_reply.started": "2023-12-06T18:56:31.015667Z"
    }
   },
   "outputs": [],
   "source": [
    "fig = plt.figure(figsize = (12,6))\n",
    "az_times = az.values[:,2]- az.values[0,2]\n",
    "plt.subplot(1,2,1)\n",
    "plt.title(f\"Az - actual vs demand - {dayObs} - {seqNum}\", fontsize = 18)\n",
    "plt.plot(az_times, az.values[:,0], label='actual', marker='x')\n",
    "plt.plot(az_times, az.values[:,1], color='red', ls = '--', label='demand', marker='+')\n",
    "plt.legend()\n",
    "plt.xlim(40.75, 41.5)\n",
    "plt.ylim(87.7475, 87.751)\n",
    "\n",
    "el_times = el.values[:,2]- el.values[0,2]\n",
    "plt.subplot(1,2,2)\n",
    "plt.title(f\"El - actual vs demand - {dayObs} - {seqNum}\", fontsize = 18)\n",
    "plt.plot(el_times, el.values[:,0], label='actual', marker='x')\n",
    "plt.plot(el_times, el.values[:,1], color='red', ls = '--', label='demand', marker='+')\n",
    "plt.legend()\n",
    "plt.xlim(16.4, 17.3)\n",
    "plt.ylim(60.527, 60.530)\n",
    "plt.savefig(f\"/home/c/cslage/u/MTMount/mount_plots/Demand_glitches_{dayObs}_{seqNum}.png\")"
   ]
  },
  {
   "cell_type": "code",
   "execution_count": null,
   "metadata": {
    "execution": {
     "iopub.execute_input": "2023-12-06T20:16:52.897932Z",
     "iopub.status.busy": "2023-12-06T20:16:52.897625Z",
     "iopub.status.idle": "2023-12-06T20:16:53.349599Z",
     "shell.execute_reply": "2023-12-06T20:16:53.349137Z",
     "shell.execute_reply.started": "2023-12-06T20:16:52.897919Z"
    }
   },
   "outputs": [],
   "source": [
    "seqNum = 351\n",
    "start = events[seqNum].begin - TimeDelta(12.0, format='sec')\n",
    "end = events[seqNum].end - TimeDelta(47.0, format='sec')\n",
    "print(start, end)\n",
    "az = await client.select_time_series('lsst.sal.MTMount.azimuth', \\\n",
    "                                            ['actualPosition', 'demandPosition', 'timestamp'],  start, end)\n",
    "el = await client.select_time_series('lsst.sal.MTMount.elevation', \\\n",
    "                                            ['actualPosition','demandPosition', 'timestamp'],  start, end)    \n",
    "\n",
    "ptg = await client.select_time_series('lsst.sal.MTPtg.currentTargetStatus', \\\n",
    "                                            ['demandAz', 'demandEl', 'timestamp'],  start, end)\n",
    "\n",
    "ptg_times = ptg.values[:,2]# - ptg.values[0,2]\n",
    "az_times = az.values[:,2]#- az.values[0,2]\n",
    "el_times = el.values[:,2]#- el.values[0,2]\n",
    "\n",
    "slew_start = events[seqNum-1].begin.unix_tai - 0.55# - az.values[0,2]\n",
    "slew_end = events[seqNum-1].end.unix_tai\n",
    "\n",
    "fig = plt.figure(figsize = (12,6))\n",
    "plt.suptitle(f\"Slew Plot - {dayObs} - {seqNum}\", fontsize = 18)\n",
    "plt.subplot(1,2,1)\n",
    "plt.title(f\"Az - actual vs demand\", fontsize = 18)\n",
    "plt.plot(az_times, az.values[:,0], label='actual')\n",
    "plt.plot(ptg_times, ptg.values[:,0], color='red', ls = '--', label='demand')\n",
    "plt.plot([slew_start, slew_start], [87.35, 88.0], ls='--', color='black', label='Start Slew')\n",
    "plt.plot([slew_end, slew_end], [87.35, 88.0], ls='--', color='green', label='End Slew - In Position')\n",
    "plt.xlabel(\"Time(sec)\")\n",
    "plt.legend()\n",
    "\n",
    "plt.subplot(1,2,2)\n",
    "plt.title(f\"El - actual vs demand\", fontsize = 18)\n",
    "plt.plot(el_times, el.values[:,0], label='actual')\n",
    "plt.plot(ptg_times, ptg.values[:,1], color='red', ls = '--', label='demand')\n",
    "plt.plot([slew_start, slew_start], [60.0, 63.5], ls='--', color='black', label='Start Slew')\n",
    "plt.plot([slew_end, slew_end], [60.0, 63.5], ls='--', color='green', label='End Slew - In Position')\n",
    "plt.xlabel(\"Time(sec)\")\n",
    "plt.legend()\n",
    "plt.savefig(f\"/home/c/cslage/u/MTMount/mount_plots/Slew_Plot_{dayObs}_{seqNum}.png\")"
   ]
  },
  {
   "cell_type": "markdown",
   "metadata": {},
   "source": [
    "# Get this working!!!\n",
    "## Need to interpolate the ptg to match the az and el."
   ]
  },
  {
   "cell_type": "code",
   "execution_count": null,
   "metadata": {
    "execution": {
     "iopub.execute_input": "2023-12-06T20:42:58.412640Z",
     "iopub.status.busy": "2023-12-06T20:42:58.412322Z",
     "iopub.status.idle": "2023-12-06T20:42:59.228147Z",
     "shell.execute_reply": "2023-12-06T20:42:59.227643Z",
     "shell.execute_reply.started": "2023-12-06T20:42:58.412627Z"
    }
   },
   "outputs": [],
   "source": [
    "seqNum = 351\n",
    "start = events[seqNum].begin + TimeDelta(1.0, format='sec')\n",
    "end = events[seqNum].end - TimeDelta(1.0, format='sec')\n",
    "print(start, end)\n",
    "az = await client.select_time_series('lsst.sal.MTMount.azimuth', \\\n",
    "                                            ['actualPosition', 'demandPosition', 'timestamp'],  start, end)\n",
    "el = await client.select_time_series('lsst.sal.MTMount.elevation', \\\n",
    "                                            ['actualPosition','demandPosition', 'timestamp'],  start, end)    \n",
    "\n",
    "ptg = await client.select_time_series('lsst.sal.MTPtg.currentTargetStatus', \\\n",
    "                                            ['demandAz', 'demandEl', 'timestamp'],  \\\n",
    "                                      start - TimeDelta(1.0, format='sec'), end + TimeDelta(1.0, format='sec'))\n",
    "\n",
    "ptg_times = ptg.values[:,2] + 0.05\n",
    "az_vals = np.array(az.values[:,0])\n",
    "el_vals = np.array(el.values[:,0])\n",
    "az_demand = np.array(ptg.values[:,0])\n",
    "el_demand = np.array(ptg.values[:,1])\n",
    "\n",
    "\n",
    "times_az = az.values[:,2]\n",
    "times_el = el.values[:,2]\n",
    "\n",
    "az_demand_interp = np.interp(times_az, ptg_times, az_demand)\n",
    "el_demand_interp = np.interp(times_el, ptg_times, el_demand)\n",
    "\n",
    "# The fits are much better if the time variable\n",
    "# is centered in the interval\n",
    "fit_times_az = [(times_az[i]-times_az[int(len(az.values) / 2)]) for i in range(len(times_az))]\n",
    "fit_times_el = [(times_el[i]-times_el[int(len(el.values) / 2)]) for i in range(len(times_el))]\n",
    "\n",
    "# Fit with a polynomial\n",
    "az_fit = np.polyfit(fit_times_az, az_vals, 4)\n",
    "el_fit = np.polyfit(fit_times_el, el_vals, 4)\n",
    "az_model = np.polyval(az_fit, fit_times_az)\n",
    "el_model = np.polyval(el_fit, fit_times_el)\n",
    "\n",
    "# Errors in arcseconds\n",
    "az_error = (az_vals - az_model) * 3600\n",
    "el_error = (el_vals - el_model) * 3600\n",
    "az_error_demand = (az_vals - az_demand_interp) * 3600\n",
    "el_error_demand = (el_vals - el_demand_interp) * 3600\n",
    "# Calculate RMS\n",
    "az_rms = np.sqrt(np.mean(az_error * az_error))\n",
    "el_rms = np.sqrt(np.mean(el_error * el_error))\n",
    "\n",
    "# Calculate Image impact RMS\n",
    "# We are less sensitive to Az errors near the zenith\n",
    "image_az_rms = az_rms * np.cos(el_vals[0] * np.pi / 180.0)\n",
    "image_el_rms = el_rms \n",
    "\n",
    "fig = plt.figure(figsize = (8,12))\n",
    "plt.subplots_adjust(wspace=0.3, hspace=0.3)\n",
    "plt.suptitle(f\"MT Mount Jitter - {dayObs} - {seqNum}\", fontsize = 18)\n",
    "plt.subplot(3,2,1)\n",
    "ax1 = az['actualPosition'].plot(legend=True, color='red')\n",
    "ax1.set_title(\"Azimuth\")\n",
    "ax1.set_ylabel(\"Degrees\")\n",
    "plt.subplot(3,2,2)\n",
    "ax3 = el['actualPosition'].plot(legend=True, color='green')\n",
    "ax3.set_title(\"Elevation\")\n",
    "ax3.set_ylabel(\"Degrees\")\n",
    "\n",
    "plt.subplot(3,2,3)\n",
    "plt.plot(fit_times_az, az_error, color='red')\n",
    "plt.title(f\"Azimuth RMS error: Poly fit\", fontsize=10)\n",
    "plt.ylim(-1.0,1.0)\n",
    "plt.xticks([])\n",
    "plt.ylabel(\"ArcSeconds\")\n",
    "plt.subplot(3,2,4)\n",
    "plt.plot(fit_times_el, el_error, color='green')\n",
    "plt.title(f\"Elevation RMS error: Poly fit\", fontsize=10)\n",
    "plt.ylim(-1.0,1.0)\n",
    "plt.xticks([])\n",
    "plt.ylabel(\"ArcSeconds\")\n",
    "\n",
    "plt.subplot(3,2,5)\n",
    "plt.plot(fit_times_az, az_error_demand, color='red')\n",
    "plt.title(f\"Azimuth RMS error: Actual - Demand\", fontsize=10)\n",
    "plt.ylim(-1.0,1.0)\n",
    "plt.xticks([])\n",
    "plt.ylabel(\"ArcSeconds\")\n",
    "plt.subplot(3,2,6)\n",
    "plt.plot(fit_times_el, el_error_demand, color='green')\n",
    "plt.title(f\"Elevation RMS error: Actual - Demand\", fontsize=10)\n",
    "plt.ylim(-1.0,1.0)\n",
    "plt.xticks([])\n",
    "plt.ylabel(\"ArcSeconds\")\n",
    "plt.savefig(f\"/home/c/cslage/u/MTMount/mount_plots/Mount_plot_MTPtg_Offset_0p05_{dayObs}_{seqNum}.png\")"
   ]
  },
  {
   "cell_type": "code",
   "execution_count": null,
   "metadata": {},
   "outputs": [],
   "source": []
  },
  {
   "cell_type": "code",
   "execution_count": null,
   "metadata": {
    "execution": {
     "iopub.execute_input": "2023-12-11T15:46:15.032251Z",
     "iopub.status.busy": "2023-12-11T15:46:15.032065Z",
     "iopub.status.idle": "2023-12-11T15:46:15.592580Z",
     "shell.execute_reply": "2023-12-11T15:46:15.592259Z",
     "shell.execute_reply.started": "2023-12-11T15:46:15.032237Z"
    }
   },
   "outputs": [],
   "source": [
    "%matplotlib inline\n",
    "seqNum = 351\n",
    "start = events[seqNum].begin - TimeDelta(12.0, format='sec')\n",
    "end = events[seqNum].end - TimeDelta(46.0, format='sec')\n",
    "print(start, end)\n",
    "az = await client.select_time_series('lsst.sal.MTMount.azimuth', \\\n",
    "                                            ['actualPosition', 'demandPosition', 'timestamp'],  start, end)\n",
    "el = await client.select_time_series('lsst.sal.MTMount.elevation', \\\n",
    "                                            ['actualPosition','demandPosition', 'timestamp'],  start, end)    \n",
    "\n",
    "ptg = await client.select_time_series('lsst.sal.MTPtg.currentTargetStatus', \\\n",
    "                                            ['demandAz', 'demandEl', 'timestamp'],  start, end)\n",
    "\n",
    "ptg_times = ptg.values[:,2] + 0.05# - ptg.values[0,2]\n",
    "az_times = az.values[:,2]#- az.values[0,2]\n",
    "el_times = el.values[:,2]#- el.values[0,2]\n",
    "\n",
    "az_vals = np.array(az.values[:,0])\n",
    "el_vals = np.array(el.values[:,0])\n",
    "az_demand = np.array(ptg.values[:,0])\n",
    "el_demand = np.array(ptg.values[:,1])\n",
    "\n",
    "az_demand_interp = np.interp(az_times, ptg_times, az_demand)\n",
    "el_demand_interp = np.interp(el_times, ptg_times, el_demand)\n",
    "\n",
    "az_error_demand = (az_vals - az_demand_interp) * 3600\n",
    "el_error_demand = (el_vals - el_demand_interp) * 3600\n",
    "\n",
    "slew_start = events[seqNum-1].begin.unix_tai - 0.55#\n",
    "slew_end = events[seqNum-1].end.unix_tai + 1.0\n",
    "\n",
    "fig = plt.figure(figsize = (12,6))\n",
    "plt.suptitle(f\"Slew Plot - {dayObs} - {seqNum}\", fontsize = 18)\n",
    "plt.subplot(2,2,1)\n",
    "plt.title(f\"Az - actual vs demand\", fontsize = 12)\n",
    "plt.plot(az_times, az.values[:,0], label='actual')\n",
    "plt.plot(ptg_times, ptg.values[:,0], color='red', ls = '--', label='demand')\n",
    "plt.plot([slew_start, slew_start], [87.35, 88.0], ls='--', color='black', label='Start Slew')\n",
    "plt.plot([slew_end, slew_end], [87.35, 88.0], ls='--', color='green', label='End Slew - In Position')\n",
    "plt.xticks([])\n",
    "\n",
    "plt.legend()\n",
    "\n",
    "plt.subplot(2,2,2)\n",
    "plt.title(f\"El - actual vs demand\", fontsize = 12)\n",
    "plt.plot(el_times, el.values[:,0], label='actual')\n",
    "plt.plot(ptg_times, ptg.values[:,1], color='red', ls = '--', label='demand')\n",
    "plt.plot([slew_start, slew_start], [60.0, 63.5], ls='--', color='black', label='Start Slew')\n",
    "plt.plot([slew_end, slew_end], [60.0, 63.5], ls='--', color='green', label='End Slew - In Position')\n",
    "plt.xticks([])\n",
    "\n",
    "plt.legend()\n",
    "\n",
    "plt.subplot(2,2,3)\n",
    "plt.plot(az_times, az_error_demand, color='blue')\n",
    "plt.title(f\"Azimuth RMS error: Actual - Demand\", fontsize=12)\n",
    "plt.ylim(-1.0,1.0)\n",
    "plt.xlabel(\"Time(sec)\")\n",
    "plt.plot([slew_start, slew_start], [-0.5, 0.5], ls='--', color='black', label='Start Slew')\n",
    "plt.plot([slew_end, slew_end], [-0.5, 0.5], ls='--', color='green', label='End Slew - In Position')\n",
    "\n",
    "plt.ylabel(\"ArcSeconds\")\n",
    "\n",
    "plt.subplot(2,2,4)\n",
    "plt.plot(el_times, el_error_demand, color='blue')\n",
    "plt.title(f\"Elevation RMS error: Actual - Demand\", fontsize=12)\n",
    "plt.ylim(-1.0,1.0)\n",
    "\n",
    "plt.plot([slew_start, slew_start], [-0.5, 0.55], ls='--', color='black', label='Start Slew')\n",
    "plt.plot([slew_end, slew_end], [-0.5, 0.5], ls='--', color='green', label='End Slew - In Position')\n",
    "plt.xlabel(\"Time(sec)\")\n",
    "plt.ylabel(\"ArcSeconds\")\n",
    "\n",
    "plt.savefig(f\"/home/c/cslage/u/MTMount/mount_plots/Slew_Plot_{dayObs}_{seqNum}.png\")"
   ]
  },
  {
   "cell_type": "code",
   "execution_count": null,
   "metadata": {
    "execution": {
     "iopub.execute_input": "2023-12-11T15:49:03.802135Z",
     "iopub.status.busy": "2023-12-11T15:49:03.801952Z",
     "iopub.status.idle": "2023-12-11T15:49:03.805181Z",
     "shell.execute_reply": "2023-12-11T15:49:03.804810Z",
     "shell.execute_reply.started": "2023-12-11T15:49:03.802121Z"
    }
   },
   "outputs": [],
   "source": [
    "len(el_times)"
   ]
  },
  {
   "cell_type": "code",
   "execution_count": null,
   "metadata": {
    "execution": {
     "iopub.execute_input": "2023-12-11T15:49:05.784923Z",
     "iopub.status.busy": "2023-12-11T15:49:05.784734Z",
     "iopub.status.idle": "2023-12-11T15:49:05.788089Z",
     "shell.execute_reply": "2023-12-11T15:49:05.787717Z",
     "shell.execute_reply.started": "2023-12-11T15:49:05.784909Z"
    }
   },
   "outputs": [],
   "source": [
    "len(ptg_times)"
   ]
  },
  {
   "cell_type": "code",
   "execution_count": null,
   "metadata": {
    "execution": {
     "iopub.execute_input": "2023-12-11T15:47:08.901239Z",
     "iopub.status.busy": "2023-12-11T15:47:08.900940Z",
     "iopub.status.idle": "2023-12-11T15:47:08.904504Z",
     "shell.execute_reply": "2023-12-11T15:47:08.904147Z",
     "shell.execute_reply.started": "2023-12-11T15:47:08.901215Z"
    }
   },
   "outputs": [],
   "source": [
    "177/34"
   ]
  },
  {
   "cell_type": "code",
   "execution_count": null,
   "metadata": {
    "execution": {
     "iopub.execute_input": "2023-12-11T15:48:58.468675Z",
     "iopub.status.busy": "2023-12-11T15:48:58.468390Z",
     "iopub.status.idle": "2023-12-11T15:48:58.492239Z",
     "shell.execute_reply": "2023-12-11T15:48:58.491853Z",
     "shell.execute_reply.started": "2023-12-11T15:48:58.468659Z"
    }
   },
   "outputs": [],
   "source": [
    "start = events[seqNum].begin - TimeDelta(20.0, format='sec')\n",
    "end = events[seqNum].begin - TimeDelta(10.0, format='sec')\n",
    "print(start, end)\n",
    "az = await client.select_time_series('lsst.sal.MTMount.azimuth', \\\n",
    "                                            ['actualPosition', 'demandPosition', 'timestamp'],  start, end)\n",
    "el = await client.select_time_series('lsst.sal.MTMount.elevation', \\\n",
    "                                            ['actualPosition','demandPosition', 'timestamp'],  start, end)    \n",
    "\n",
    "ptg = await client.select_time_series('lsst.sal.MTPtg.currentTargetStatus', \\\n",
    "                                            ['demandAz', 'demandEl', 'timestamp'],  start, end)\n",
    "ptg_times = ptg.values[:,2] + 0.05# - ptg.values[0,2]\n",
    "az_times = az.values[:,2]#- az.values[0,2]\n",
    "el_times = el.values[:,2]#- el.values[0,2]\n"
   ]
  },
  {
   "cell_type": "code",
   "execution_count": null,
   "metadata": {},
   "outputs": [],
   "source": []
  }
 ],
 "metadata": {
  "kernelspec": {
   "display_name": "LSST",
   "language": "python",
   "name": "lsst"
  },
  "language_info": {
   "codemirror_mode": {
    "name": "ipython",
    "version": 3
   },
   "file_extension": ".py",
   "mimetype": "text/x-python",
   "name": "python",
   "nbconvert_exporter": "python",
   "pygments_lexer": "ipython3",
   "version": "3.11.4"
  }
 },
 "nbformat": 4,
 "nbformat_minor": 4
}
