{
 "cells": [
  {
   "cell_type": "code",
   "execution_count": null,
   "id": "0171ed42-a3d6-41bb-9e55-fd1145b885ac",
   "metadata": {
    "execution": {
     "iopub.execute_input": "2024-11-21T11:40:32.043700Z",
     "iopub.status.busy": "2024-11-21T11:40:32.043417Z",
     "iopub.status.idle": "2024-11-21T11:40:32.337296Z",
     "shell.execute_reply": "2024-11-21T11:40:32.336921Z",
     "shell.execute_reply.started": "2024-11-21T11:40:32.043683Z"
    }
   },
   "outputs": [],
   "source": [
    "import numpy as np\n",
    "import matplotlib.pyplot as plt\n",
    "import pickle as pkl"
   ]
  },
  {
   "cell_type": "code",
   "execution_count": null,
   "id": "e28ddac8-bbab-41df-bd0a-daeade0796fe",
   "metadata": {
    "execution": {
     "iopub.execute_input": "2024-11-21T11:42:00.724460Z",
     "iopub.status.busy": "2024-11-21T11:42:00.723994Z",
     "iopub.status.idle": "2024-11-21T11:42:00.739201Z",
     "shell.execute_reply": "2024-11-21T11:42:00.738880Z",
     "shell.execute_reply.started": "2024-11-21T11:42:00.724443Z"
    }
   },
   "outputs": [],
   "source": [
    "filename = \"/home/c/cslage/u/MTMount/scripts/tracking_results_21nov24.pkl\"\n",
    "with open(filename, 'rb') as f:\n",
    "    trackingErrors = pkl.load(f)"
   ]
  },
  {
   "cell_type": "code",
   "execution_count": null,
   "id": "9e2d3035-8705-497e-ae8a-518f2a31c0a9",
   "metadata": {
    "execution": {
     "iopub.execute_input": "2024-11-21T11:42:11.914876Z",
     "iopub.status.busy": "2024-11-21T11:42:11.914572Z",
     "iopub.status.idle": "2024-11-21T11:42:11.918000Z",
     "shell.execute_reply": "2024-11-21T11:42:11.917707Z",
     "shell.execute_reply.started": "2024-11-21T11:42:11.914860Z"
    }
   },
   "outputs": [],
   "source": [
    "len(trackingErrors)"
   ]
  },
  {
   "cell_type": "code",
   "execution_count": null,
   "id": "d64200b6-19c1-427c-bb37-6c4d205132f1",
   "metadata": {
    "execution": {
     "iopub.execute_input": "2024-11-21T12:36:50.045469Z",
     "iopub.status.busy": "2024-11-21T12:36:50.045023Z",
     "iopub.status.idle": "2024-11-21T12:36:50.050361Z",
     "shell.execute_reply": "2024-11-21T12:36:50.049928Z",
     "shell.execute_reply.started": "2024-11-21T12:36:50.045452Z"
    }
   },
   "outputs": [],
   "source": [
    "image_impact_rmss = []\n",
    "numValues = 0\n",
    "numBad = 0\n",
    "for key in trackingErrors.keys():\n",
    "    try:\n",
    "        rms = trackingErrors[key]['image_impact_rms']\n",
    "        image_impact_rmss.append(rms)\n",
    "        numValues += 1\n",
    "        if rms > 0.05:\n",
    "            print(key, rms)\n",
    "            numBad += 1\n",
    "    except:\n",
    "        continue\n",
    "    #print(trackingErrors[key]['image_impact_rms'])\n",
    "    #break\n",
    "    \n",
    "print(numValues, numBad)"
   ]
  },
  {
   "cell_type": "code",
   "execution_count": null,
   "id": "4394c18f-5328-4d15-97e2-3a3f06f64fdb",
   "metadata": {
    "execution": {
     "iopub.execute_input": "2024-11-21T11:47:43.761720Z",
     "iopub.status.busy": "2024-11-21T11:47:43.761440Z",
     "iopub.status.idle": "2024-11-21T11:47:43.766913Z",
     "shell.execute_reply": "2024-11-21T11:47:43.766544Z",
     "shell.execute_reply.started": "2024-11-21T11:47:43.761707Z"
    },
    "jupyter": {
     "outputs_hidden": true
    }
   },
   "outputs": [],
   "source": [
    "plt.hist?"
   ]
  },
  {
   "cell_type": "code",
   "execution_count": null,
   "id": "e79a1f71-cab8-4e64-8246-5f24b24c356e",
   "metadata": {
    "execution": {
     "iopub.execute_input": "2024-11-21T12:36:32.048108Z",
     "iopub.status.busy": "2024-11-21T12:36:32.047624Z",
     "iopub.status.idle": "2024-11-21T12:36:32.245857Z",
     "shell.execute_reply": "2024-11-21T12:36:32.245451Z",
     "shell.execute_reply.started": "2024-11-21T12:36:32.048092Z"
    }
   },
   "outputs": [],
   "source": [
    "plt.hist(image_impact_rmss, bins=100, range=(0, 0.1))\n",
    "plt.title(\"TMA tracking Jitter for ComCam campaign 2024-10-24 -> 2024-11-20\")\n",
    "plt.xlabel(\"Image impact RMS (arcseconds)\")\n",
    "plt.text(0.02, 2500, f\"{numValues} images\")\n",
    "plt.text(0.02, 2000, f\"Median = {np.nanmedian(image_impact_rmss):.3f} arcseconds\")\n",
    "plt.text(0.02, 1500, f\"{(numBad / numValues * 100.0):.2f} % of images > 0.05 arcseconds\")\n",
    "plt.savefig(f\"/home/c/cslage/u/MTMount/mount_plots/ComCam_Mount_Jitter_21Nov24.png\")"
   ]
  },
  {
   "cell_type": "code",
   "execution_count": null,
   "id": "ada969da-51c2-4ffb-94ab-fca9cf0db25f",
   "metadata": {},
   "outputs": [],
   "source": []
  }
 ],
 "metadata": {
  "kernelspec": {
   "display_name": "LSST",
   "language": "python",
   "name": "lsst"
  },
  "language_info": {
   "codemirror_mode": {
    "name": "ipython",
    "version": 3
   },
   "file_extension": ".py",
   "mimetype": "text/x-python",
   "name": "python",
   "nbconvert_exporter": "python",
   "pygments_lexer": "ipython3",
   "version": "3.11.9"
  }
 },
 "nbformat": 4,
 "nbformat_minor": 5
}
