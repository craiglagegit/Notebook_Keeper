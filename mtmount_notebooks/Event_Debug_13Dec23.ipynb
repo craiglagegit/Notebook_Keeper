{
 "cells": [
  {
   "cell_type": "markdown",
   "metadata": {},
   "source": [
    "# TMA Analysis code supporting technote SITCOMTN-067\n",
    "Craig Lage - 15-Nov-23 \n",
    "\n",
    "This notebook characterizes TMA velocity, acceleration, and jerk. \n"
   ]
  },
  {
   "cell_type": "markdown",
   "metadata": {},
   "source": [
    "## Prepare the notebook"
   ]
  },
  {
   "cell_type": "code",
   "execution_count": null,
   "metadata": {
    "execution": {
     "iopub.execute_input": "2023-12-13T14:27:47.834132Z",
     "iopub.status.busy": "2023-12-13T14:27:47.833851Z",
     "iopub.status.idle": "2023-12-13T14:27:47.836785Z",
     "shell.execute_reply": "2023-12-13T14:27:47.836395Z",
     "shell.execute_reply.started": "2023-12-13T14:27:47.834117Z"
    },
    "tags": []
   },
   "outputs": [],
   "source": [
    "# Directory to store the data\n",
    "from pathlib import Path\n",
    "data_dir = Path(\"./plots\")\n",
    "data_dir.mkdir(exist_ok=True, parents=True)\n",
    "dayObs = 20231129"
   ]
  },
  {
   "cell_type": "code",
   "execution_count": null,
   "metadata": {
    "execution": {
     "iopub.execute_input": "2023-12-13T14:27:49.550262Z",
     "iopub.status.busy": "2023-12-13T14:27:49.550061Z",
     "iopub.status.idle": "2023-12-13T14:27:56.666899Z",
     "shell.execute_reply": "2023-12-13T14:27:56.666421Z",
     "shell.execute_reply.started": "2023-12-13T14:27:49.550247Z"
    },
    "tags": []
   },
   "outputs": [],
   "source": [
    "import sys, time, os, asyncio, glob\n",
    "from datetime import datetime\n",
    "import numpy as np\n",
    "import matplotlib.pyplot as plt\n",
    "import pickle as pkl\n",
    "from astropy.time import Time, TimeDelta\n",
    "from scipy.interpolate import UnivariateSpline\n",
    "from lsst_efd_client import EfdClient\n",
    "from lsst.summit.utils.tmaUtils import TMAEventMaker"
   ]
  },
  {
   "cell_type": "markdown",
   "metadata": {},
   "source": [
    "# First, let's get the events"
   ]
  },
  {
   "cell_type": "code",
   "execution_count": null,
   "metadata": {
    "execution": {
     "iopub.execute_input": "2023-12-13T14:27:56.674545Z",
     "iopub.status.busy": "2023-12-13T14:27:56.674418Z",
     "iopub.status.idle": "2023-12-13T14:28:04.717908Z",
     "shell.execute_reply": "2023-12-13T14:28:04.717512Z",
     "shell.execute_reply.started": "2023-12-13T14:27:56.674533Z"
    }
   },
   "outputs": [],
   "source": [
    "client = EfdClient(\"idf_efd\")\n",
    "eventMaker = TMAEventMaker()\n",
    "events = eventMaker.getEvents(dayObs)\n",
    "Nslews = 0\n",
    "Ntracks = 0\n",
    "for event in events:\n",
    "    if event.type.name == 'TRACKING':\n",
    "        Ntracks += 1\n",
    "    elif event.type.name == 'SLEWING':\n",
    "        Nslews += 1\n",
    "print(f\"There are {len(events)} events, {Nslews} slewing and {Ntracks} tracking\")    "
   ]
  },
  {
   "cell_type": "code",
   "execution_count": null,
   "metadata": {
    "execution": {
     "iopub.execute_input": "2023-12-13T15:42:13.590674Z",
     "iopub.status.busy": "2023-12-13T15:42:13.590447Z",
     "iopub.status.idle": "2023-12-13T15:42:13.593624Z",
     "shell.execute_reply": "2023-12-13T15:42:13.593261Z",
     "shell.execute_reply.started": "2023-12-13T15:42:13.590640Z"
    }
   },
   "outputs": [],
   "source": [
    "events[161]"
   ]
  },
  {
   "cell_type": "code",
   "execution_count": null,
   "metadata": {
    "execution": {
     "iopub.execute_input": "2023-12-13T15:42:23.788142Z",
     "iopub.status.busy": "2023-12-13T15:42:23.787738Z",
     "iopub.status.idle": "2023-12-13T15:42:23.790741Z",
     "shell.execute_reply": "2023-12-13T15:42:23.790379Z",
     "shell.execute_reply.started": "2023-12-13T15:42:23.788128Z"
    }
   },
   "outputs": [],
   "source": [
    "events[125]"
   ]
  },
  {
   "cell_type": "markdown",
   "metadata": {},
   "source": [
    "# Now plot the Velocity/Accel/Jerk plots."
   ]
  },
  {
   "cell_type": "code",
   "execution_count": null,
   "metadata": {
    "execution": {
     "iopub.execute_input": "2023-12-13T16:38:32.895787Z",
     "iopub.status.busy": "2023-12-13T16:38:32.895585Z",
     "iopub.status.idle": "2023-12-13T16:38:34.110761Z",
     "shell.execute_reply": "2023-12-13T16:38:34.110414Z",
     "shell.execute_reply.started": "2023-12-13T16:38:32.895773Z"
    },
    "tags": []
   },
   "outputs": [],
   "source": [
    "# Plotting the Vel/Accel/Jerk plot\n",
    "%matplotlib inline\n",
    "maxAzVels = []\n",
    "maxAzAccels = []\n",
    "maxAzJerks = []\n",
    "maxElVels = []\n",
    "maxElAccels = []\n",
    "maxElJerks = []\n",
    "smoothingFactor = 0.2 # In spline creation\n",
    "kernel_size = 100 # In convolution\n",
    "kernel = np.ones(kernel_size) / kernel_size\n",
    "\n",
    "fig = plt.figure(figsize = (8,4))\n",
    "for event in [events[92]]:\n",
    "    try:\n",
    "        if event.type.name != 'SLEWING':\n",
    "            # Only slewing events\n",
    "            continue\n",
    "        start = event.begin - TimeDelta(2.0, format='sec')\n",
    "        end = event.end + TimeDelta(2.0, format='sec')\n",
    "        plotAz = await client.select_time_series('lsst.sal.MTMount.azimuth', \\\n",
    "                                                    ['*'],  start, end)\n",
    "        plotEl = await client.select_time_series('lsst.sal.MTMount.elevation', \\\n",
    "                                                    ['*'],  start, end)    \n",
    "        azPos = await client.select_time_series('lsst.sal.MTMount.logevent_azimuthInPosition', \\\n",
    "                                                    ['inPosition', 'private_kafkaStamp'],  start, end)\n",
    "        azPos = azPos[azPos['inPosition']] # Select only the True values\n",
    "        elPos = await client.select_time_series('lsst.sal.MTMount.logevent_elevationInPosition', \\\n",
    "                                                    ['inPosition', 'private_kafkaStamp'],  start, end)\n",
    "        elPos = elPos[elPos['inPosition']] # Select only the True values\n",
    "        \n",
    "        # Now calculates the spline fit and differentiate it to get the acceleration and jerk\n",
    "        azPs = plotAz['actualPosition'].values\n",
    "        azVs = plotAz['actualVelocity'].values\n",
    "        azXs = plotAz['timestamp'].values - plotAz['timestamp'].values[0]  \n",
    "        elPs = plotEl['actualPosition'].values\n",
    "        elVs = plotEl['actualVelocity'].values\n",
    "        elXs = plotEl['timestamp'].values - plotEl['timestamp'].values[0]\n",
    "        plotStart = azXs[0] + 1.0\n",
    "        plotEnd = azXs[-1] - 1.0\n",
    "\n",
    "        \n",
    "        start_slew = event.begin.unix_tai - plotAz['timestamp'].values[0]\n",
    "        end_slew = event.end.unix_tai - plotAz['timestamp'].values[0]\n",
    "        az_inPos = azPos['private_kafkaStamp'].values[0] - plotAz['timestamp'].values[0]  \n",
    "        el_inPos = elPos['private_kafkaStamp'].values[0] - plotEl['timestamp'].values[0] \n",
    "        inPos = max(az_inPos, el_inPos)\n",
    "        print(ss_time, ip_time, inPos)\n",
    "\n",
    "        deltaAz = abs(azPs[-1] - azPs[0])  \n",
    "        deltaEl = abs(elPs[-1] - elPs[0]) \n",
    "        if deltaAz < 1.0 and deltaEl < 1.0:\n",
    "            # eliminate very small slews\n",
    "            continue\n",
    "        \n",
    "        plotAzXs = np.linspace(azXs[0], azXs[-1], 2000)\n",
    "        plotElXs = np.linspace(elXs[0], elXs[-1], 2000)\n",
    "        azPSpline = UnivariateSpline(azXs, azPs, s=0)\n",
    "        azVelSpline1 = UnivariateSpline(azXs, azVs, s=0) \n",
    "        #azVelSpline1 =azPSpline.derivative(n=1)\n",
    "        # Now smooth the derivative before differentiating again\n",
    "        smoothedAzVel = np.convolve(azVelSpline1(plotAzXs), kernel, mode='same')\n",
    "        azVelSpline = UnivariateSpline(plotAzXs, smoothedAzVel, s=smoothingFactor)\n",
    "        azAccSpline1 = azVelSpline.derivative(n=1)\n",
    "        smoothedAzAcc = np.convolve(azAccSpline1(plotAzXs), kernel, mode='same')\n",
    "        # Now smooth the derivative before differentiating again\n",
    "        azAccSpline = UnivariateSpline(plotAzXs, smoothedAzAcc, s=smoothingFactor)\n",
    "        azJerkSpline = azAccSpline.derivative(n=1) \n",
    "        elPSpline = UnivariateSpline(elXs, elPs, s=0)\n",
    "        elVelSpline1 = UnivariateSpline(elXs, elVs, s=0)\n",
    "        #elVelSpline1 =elPSpline.derivative(n=1)\n",
    "        # Now smooth the derivative before differentiating again\n",
    "        smoothedElVel = np.convolve(elVelSpline1(plotElXs), kernel, mode='same')\n",
    "        elVelSpline = UnivariateSpline(plotElXs, smoothedElVel, s=smoothingFactor)\n",
    "        elAccSpline1 = elVelSpline.derivative(n=1)\n",
    "        smoothedElAcc = np.convolve(elAccSpline1(plotElXs), kernel, mode='same')\n",
    "        # Now smooth the derivative before differentiating again\n",
    "        elAccSpline = UnivariateSpline(plotElXs, smoothedElAcc, s=smoothingFactor)\n",
    "        elJerkSpline = elAccSpline.derivative(n=1) \n",
    "    \n",
    "        \n",
    "        fig.clear()\n",
    "        plt.subplots_adjust(wspace=0.3, hspace=0.5)\n",
    "        plt.suptitle(f\"MT Mount Slews - {dayObs} - {event.seqNum:03}\", fontsize = 18)\n",
    "        \n",
    "        plt.subplot(1,2,1)\n",
    "        plt.plot(plotAzXs, azPSpline(plotAzXs), lw=3, color='r', label='Spline fit')\n",
    "        plt.scatter(azXs, azPs, marker='x', color='red', s=100, label='Measured points')\n",
    "        plt.plot([start_slew, start_slew], [np.min(azPs), np.max(azPs)], ls='--', color='black', label='Slew Start')\n",
    "        plt.plot([end_slew, end_slew], [np.min(azPs), np.max(azPs)], ls='-.', color='magenta', label='Slew End')\n",
    "        plt.plot([inPos, inPos], [np.min(azPs), np.max(azPs)], ls='--', color='blue', label='In Position')\n",
    "        plt.title(f\"Azimuth\")\n",
    "        plt.ylabel(\"Degrees\")\n",
    "        plt.xlim(plotStart, plotEnd)\n",
    "        plt.legend()\n",
    "        \n",
    "        plt.subplot(1,2,2)\n",
    "        plt.plot(plotElXs, elPSpline(plotElXs), lw=3, color='g', label='Spline fit')\n",
    "        plt.scatter(elXs, elPs, marker='x', color='g', s=100, label='Measured points')\n",
    "        plt.plot([start_slew, start_slew], [np.min(elPs), np.max(elPs)], ls='--', color='black', label='Slew Start')\n",
    "        plt.plot([end_slew, end_slew], [np.min(elPs), np.max(elPs)], ls='-.', color='magenta', label='Slew End')\n",
    "        plt.plot([inPos, inPos], [np.min(elPs), np.max(elPs)], ls='--', color='blue', label='In Position')\n",
    "        plt.title(f\"Elevation\")\n",
    "        plt.ylabel(\"Degrees\")\n",
    "        plt.xlim(plotStart, plotEnd)\n",
    "        plt.legend()\n",
    "        plt.savefig(str(data_dir / f\"Event_Debug_{dayObs}_{event.seqNum:03}.png\"))\n",
    "    except:\n",
    "        continue\n"
   ]
  },
  {
   "cell_type": "code",
   "execution_count": null,
   "metadata": {
    "execution": {
     "iopub.execute_input": "2023-12-13T16:17:28.792797Z",
     "iopub.status.busy": "2023-12-13T16:17:28.792599Z",
     "iopub.status.idle": "2023-12-13T16:17:28.932524Z",
     "shell.execute_reply": "2023-12-13T16:17:28.932203Z",
     "shell.execute_reply.started": "2023-12-13T16:17:28.792783Z"
    }
   },
   "outputs": [],
   "source": [
    "eventMaker.printEventDetails(events[28])"
   ]
  },
  {
   "cell_type": "code",
   "execution_count": null,
   "metadata": {
    "execution": {
     "iopub.execute_input": "2023-12-13T16:18:22.838605Z",
     "iopub.status.busy": "2023-12-13T16:18:22.838394Z",
     "iopub.status.idle": "2023-12-13T16:18:22.974002Z",
     "shell.execute_reply": "2023-12-13T16:18:22.973684Z",
     "shell.execute_reply.started": "2023-12-13T16:18:22.838591Z"
    }
   },
   "outputs": [],
   "source": [
    "eventMaker.printEventDetails(events[125])"
   ]
  },
  {
   "cell_type": "code",
   "execution_count": null,
   "metadata": {
    "execution": {
     "iopub.execute_input": "2023-12-13T16:32:13.490204Z",
     "iopub.status.busy": "2023-12-13T16:32:13.490022Z",
     "iopub.status.idle": "2023-12-13T16:32:13.493284Z",
     "shell.execute_reply": "2023-12-13T16:32:13.492912Z",
     "shell.execute_reply.started": "2023-12-13T16:32:13.490191Z"
    }
   },
   "outputs": [],
   "source": [
    "events[92]"
   ]
  },
  {
   "cell_type": "code",
   "execution_count": null,
   "metadata": {
    "execution": {
     "iopub.execute_input": "2023-12-13T16:32:32.954067Z",
     "iopub.status.busy": "2023-12-13T16:32:32.953575Z",
     "iopub.status.idle": "2023-12-13T16:32:33.088419Z",
     "shell.execute_reply": "2023-12-13T16:32:33.088002Z",
     "shell.execute_reply.started": "2023-12-13T16:32:32.954052Z"
    }
   },
   "outputs": [],
   "source": [
    "eventMaker.printEventDetails(events[92])"
   ]
  },
  {
   "cell_type": "code",
   "execution_count": null,
   "metadata": {},
   "outputs": [],
   "source": []
  }
 ],
 "metadata": {
  "kernelspec": {
   "display_name": "LSST",
   "language": "python",
   "name": "lsst"
  },
  "language_info": {
   "codemirror_mode": {
    "name": "ipython",
    "version": 3
   },
   "file_extension": ".py",
   "mimetype": "text/x-python",
   "name": "python",
   "nbconvert_exporter": "python",
   "pygments_lexer": "ipython3",
   "version": "3.11.4"
  }
 },
 "nbformat": 4,
 "nbformat_minor": 4
}
