{
 "cells": [
  {
   "cell_type": "code",
   "execution_count": null,
   "metadata": {
    "execution": {
     "iopub.execute_input": "2023-11-16T13:44:22.008145Z",
     "iopub.status.busy": "2023-11-16T13:44:22.008011Z",
     "iopub.status.idle": "2023-11-16T13:44:22.612118Z",
     "shell.execute_reply": "2023-11-16T13:44:22.611633Z",
     "shell.execute_reply.started": "2023-11-16T13:44:22.008131Z"
    },
    "tags": []
   },
   "outputs": [],
   "source": [
    "import sys, time, os, asyncio, glob\n",
    "from datetime import datetime\n",
    "import numpy as np\n",
    "import matplotlib.pyplot as plt\n",
    "import pickle as pkl\n",
    "from astropy.time import Time, TimeDelta\n",
    "from scipy.interpolate import UnivariateSpline\n",
    "from lsst_efd_client import EfdClient"
   ]
  },
  {
   "cell_type": "code",
   "execution_count": null,
   "metadata": {
    "execution": {
     "iopub.execute_input": "2023-11-16T13:44:22.613334Z",
     "iopub.status.busy": "2023-11-16T13:44:22.613028Z",
     "iopub.status.idle": "2023-11-16T13:44:23.164633Z",
     "shell.execute_reply": "2023-11-16T13:44:23.164183Z",
     "shell.execute_reply.started": "2023-11-16T13:44:22.613319Z"
    },
    "tags": []
   },
   "outputs": [],
   "source": [
    "client = EfdClient('usdf_efd')"
   ]
  },
  {
   "cell_type": "code",
   "execution_count": null,
   "metadata": {
    "execution": {
     "iopub.execute_input": "2023-11-16T15:31:16.519309Z",
     "iopub.status.busy": "2023-11-16T15:31:16.518980Z",
     "iopub.status.idle": "2023-11-16T15:31:17.030771Z",
     "shell.execute_reply": "2023-11-16T15:31:17.030334Z",
     "shell.execute_reply.started": "2023-11-16T15:31:16.519295Z"
    },
    "tags": []
   },
   "outputs": [],
   "source": [
    "start = Time(\"2023-11-16T06:20:00\", scale='utc')\n",
    "end = Time(\"2023-11-16T06:32:00\", scale='utc')\n",
    "\n",
    "az = await client.select_time_series('lsst.sal.MTMount.azimuth', \\\n",
    "                                            ['*'],  start, end)\n",
    "el = await client.select_time_series('lsst.sal.MTMount.elevation', \\\n",
    "                                            ['*'],  start, end)    \n",
    "\n",
    "print(len(az), len(el))"
   ]
  },
  {
   "cell_type": "code",
   "execution_count": null,
   "metadata": {
    "execution": {
     "iopub.execute_input": "2023-11-16T15:31:18.939906Z",
     "iopub.status.busy": "2023-11-16T15:31:18.939475Z",
     "iopub.status.idle": "2023-11-16T15:31:19.722348Z",
     "shell.execute_reply": "2023-11-16T15:31:19.721932Z",
     "shell.execute_reply.started": "2023-11-16T15:31:18.939891Z"
    },
    "tags": []
   },
   "outputs": [],
   "source": [
    "fig, axs = plt.subplots(2,2,figsize=(12,12))\n",
    "axs[0][0].set_title(\"Azimuth\")\n",
    "az['actualPosition'].plot(ax=axs[0][0])\n",
    "axs[0][1].set_title(\"Elevation\")\n",
    "el['actualPosition'].plot(ax=axs[0][1])\n",
    "axs[1][0].set_title(\"Azimuth velocity\")\n",
    "az['actualVelocity'].plot(ax=axs[1][0])\n",
    "axs[1][1].set_title(\"Elevation Velocity\")\n",
    "el['actualVelocity'].plot(ax=axs[1][1])"
   ]
  },
  {
   "cell_type": "code",
   "execution_count": null,
   "metadata": {
    "execution": {
     "iopub.execute_input": "2023-11-16T15:31:24.708871Z",
     "iopub.status.busy": "2023-11-16T15:31:24.708576Z",
     "iopub.status.idle": "2023-11-16T15:31:26.835850Z",
     "shell.execute_reply": "2023-11-16T15:31:26.835392Z",
     "shell.execute_reply.started": "2023-11-16T15:31:24.708857Z"
    },
    "tags": []
   },
   "outputs": [],
   "source": [
    "hardpointData = await client.select_time_series(\"lsst.sal.MTM1M3.hardpointActuatorData\", \\\n",
    "                                                \"*\", start.utc, end.utc)"
   ]
  },
  {
   "cell_type": "code",
   "execution_count": null,
   "metadata": {
    "execution": {
     "iopub.execute_input": "2023-11-16T15:31:28.084561Z",
     "iopub.status.busy": "2023-11-16T15:31:28.084386Z",
     "iopub.status.idle": "2023-11-16T15:31:30.426646Z",
     "shell.execute_reply": "2023-11-16T15:31:30.426227Z",
     "shell.execute_reply.started": "2023-11-16T15:31:28.084545Z"
    },
    "tags": []
   },
   "outputs": [],
   "source": [
    "nx = 3; ny = 2\n",
    "fig, axs = plt.subplots(nx, ny, figsize=(8,10))\n",
    "plt.subplots_adjust(hspace=0.7, wspace=0.5)\n",
    "timestamp = hardpointData.index[0].isoformat().split('.')[0].replace('-','').replace(':','')\n",
    "plt.suptitle(f\"Hardpoints forces at 40% motion {timestamp}\")\n",
    "for i in range(nx):\n",
    "    for j in range(ny):\n",
    "        ax = axs[i,j]\n",
    "        index = i * ny + j\n",
    "        hardpointData[f'measuredForce{index}'].plot(ax=ax, color='blue')\n",
    "        ax.set_ylim(-3000, 3000)\n",
    "        ax.set_title(f'measuredForce{index}')\n",
    "\n",
    "\n"
   ]
  },
  {
   "cell_type": "code",
   "execution_count": null,
   "metadata": {},
   "outputs": [],
   "source": []
  }
 ],
 "metadata": {
  "kernelspec": {
   "display_name": "LSST",
   "language": "python",
   "name": "lsst"
  },
  "language_info": {
   "codemirror_mode": {
    "name": "ipython",
    "version": 3
   },
   "file_extension": ".py",
   "mimetype": "text/x-python",
   "name": "python",
   "nbconvert_exporter": "python",
   "pygments_lexer": "ipython3",
   "version": "3.11.4"
  }
 },
 "nbformat": 4,
 "nbformat_minor": 4
}
