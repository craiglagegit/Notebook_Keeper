{
 "cells": [
  {
   "cell_type": "markdown",
   "id": "45809f73-1564-4164-9220-dd35e6bb5652",
   "metadata": {},
   "source": [
    "## Add hexapod motions to the mount plots\n",
    "### This runs multiple images\n",
    "\n",
    "Craig Lage  24-Jun-25"
   ]
  },
  {
   "cell_type": "code",
   "execution_count": null,
   "id": "73f240f5-8e03-4918-952f-616ee150519b",
   "metadata": {
    "execution": {
     "iopub.execute_input": "2025-06-24T20:57:37.150514Z",
     "iopub.status.busy": "2025-06-24T20:57:37.150173Z",
     "iopub.status.idle": "2025-06-24T20:57:45.791219Z",
     "shell.execute_reply": "2025-06-24T20:57:45.790596Z",
     "shell.execute_reply.started": "2025-06-24T20:57:37.150495Z"
    }
   },
   "outputs": [],
   "source": [
    "import numpy as np\n",
    "import matplotlib.pyplot as plt\n",
    "from matplotlib.backends.backend_pdf import PdfPages\n",
    "import pickle as pkl\n",
    "from lsst.daf.butler import Butler\n",
    "from lsst.summit.utils.efdUtils import makeEfdClient\n",
    "from lsst.summit.utils.simonyi.mountAnalysis import calculateMountErrors, plotMountErrors\n",
    "from lsst.summit.utils.efdUtils import calcNextDay"
   ]
  },
  {
   "cell_type": "code",
   "execution_count": null,
   "id": "e2a8d56e-9d6a-42e8-bee4-a86f0fabd4b1",
   "metadata": {
    "execution": {
     "iopub.execute_input": "2025-06-24T20:57:45.792913Z",
     "iopub.status.busy": "2025-06-24T20:57:45.792340Z",
     "iopub.status.idle": "2025-06-24T20:57:47.165846Z",
     "shell.execute_reply": "2025-06-24T20:57:47.165376Z",
     "shell.execute_reply.started": "2025-06-24T20:57:45.792887Z"
    }
   },
   "outputs": [],
   "source": [
    "client = makeEfdClient()\n",
    "butler = Butler('/repo/embargo', collections=['LSSTCam/raw/all', \n",
    "                                            'LSSTCam/calib/unbounded', 'LSSTCam/runs/nightlyValidation',\n",
    "                                              'LSSTCam/runs/nightlyValidation/20250425/w_2025_17/DM-50157'])"
   ]
  },
  {
   "cell_type": "code",
   "execution_count": null,
   "id": "05c3cfbb-cd3f-4e40-a8e2-80564dd1ae66",
   "metadata": {},
   "outputs": [],
   "source": [
    "startDay = 20250609\n",
    "endDay = 20250609\n",
    "\n",
    "rmss = {}\n",
    "dayObs = startDay\n",
    "while dayObs <= endDay:\n",
    "    exposureList = []\n",
    "    for record in butler.registry.queryDimensionRecords(\"exposure\", \n",
    "                where=f\"exposure.day_obs={dayObs} and instrument='LSSTCam'\"):\n",
    "        exposureList.append([record.id, record])\n",
    "    exposureList.sort(key=lambda x: x[0])\n",
    "    print(len(exposureList))\n",
    "    for [id,record] in exposureList:\n",
    "        if record.observation_type not in ['science', 'acq']:\n",
    "            continue\n",
    "        try:\n",
    "            (mountErrors, mountData) = calculateMountErrors(record, client)\n",
    "            rmss[record.id] = [mountErrors.camHexRms, mountErrors.m2HexRms]\n",
    "            print(f\"{record.id} succeeded!\")\n",
    "        except:\n",
    "            print(f\"{record.id} failed!\")\n",
    "            continue\n",
    "        #if record.id > 2025060900090:\n",
    "        #    break\n",
    "    dayObs = calcNextDay(dayObs)\n",
    "\n",
    "filename = f\"/home/c/cslage/u/MTMount/mount_plots/Hex_RMS_{startDay}.pkl\"\n",
    "with open(filename, 'wb') as f:\n",
    "    pkl.dump(rmss, f)\n"
   ]
  },
  {
   "cell_type": "code",
   "execution_count": null,
   "id": "6e896743-6d92-4525-b745-788ff28580b9",
   "metadata": {},
   "outputs": [],
   "source": [
    "dayObs = 20250609\n",
    "filename = f\"/home/c/cslage/u/MTMount/mount_plots/Hex_RMS_{dayObs}.pkl\"\n",
    "with open(filename, 'rb') as f:\n",
    "    rmss = pkl.load(f)\n",
    "print(len(rmss))\n",
    "camHexRmss = []\n",
    "m2HexRmss = []\n",
    "expIds = []\n",
    "for key in rmss.keys():\n",
    "    [camHexRms, m2HexRms] = rmss[key]\n",
    "    if (camHexRms < 1.0) and (m2HexRms < 1.0):\n",
    "        camHexRmss.append(camHexRms)\n",
    "        m2HexRmss.append(m2HexRms)\n",
    "        expIds.append(key)"
   ]
  },
  {
   "cell_type": "code",
   "execution_count": null,
   "id": "9d70f659-8bf6-40c2-99f3-b1d12f60f5d7",
   "metadata": {},
   "outputs": [],
   "source": [
    "plt.hist(camHexRmss, bins=20, range=(0,0.5))\n",
    "plt.xlim(0, 0.5)"
   ]
  },
  {
   "cell_type": "code",
   "execution_count": null,
   "id": "953d25e7-203b-42fb-88c6-c68a1ef5afaf",
   "metadata": {
    "execution": {
     "iopub.execute_input": "2025-06-24T21:09:19.364190Z",
     "iopub.status.busy": "2025-06-24T21:09:19.363965Z",
     "iopub.status.idle": "2025-06-24T21:09:35.034361Z",
     "shell.execute_reply": "2025-06-24T21:09:35.033914Z",
     "shell.execute_reply.started": "2025-06-24T21:09:19.364174Z"
    }
   },
   "outputs": [],
   "source": [
    "instrument='LSSTCam'\n",
    "\n",
    "fig, axs = plt.subplots(2, 2, figsize=(8,8))\n",
    "plt.subplots_adjust(hspace=0.5)\n",
    "pdfFig = plt.figure(figsize=(12, 10))\n",
    "pdf = PdfPages(f\"/home/c/cslage/u/MTMount/mount_plots/Hex_RMS_Failures.pdf\")\n",
    "plt.subplots_adjust(hspace=0.5)\n",
    "plotCounter = 1\n",
    "for n, dayObs in enumerate([20250609, 20250619]):\n",
    "    plotCounter = 0\n",
    "    filename = f\"/home/c/cslage/u/MTMount/mount_plots/Hex_RMS_{dayObs}.pkl\"\n",
    "    with open(filename, 'rb') as f:\n",
    "        rmss = pkl.load(f)\n",
    "    print(dayObs, len(rmss))\n",
    "    camHexRmss = []\n",
    "    m2HexRmss = []\n",
    "    expIds = []\n",
    "    for key in rmss.keys():\n",
    "        [camHexRms, m2HexRms] = rmss[key]\n",
    "        if (camHexRms < 1.0) and (m2HexRms < 1.0):\n",
    "            camHexRmss.append(camHexRms)\n",
    "            m2HexRmss.append(m2HexRms)\n",
    "            expIds.append(key)\n",
    "            if camHexRms > 0.25 and plotCounter < 10:\n",
    "                where = \"exposure.id=expId AND instrument='LSSTCam'\"\n",
    "                expRecords = butler.registry.queryDimensionRecords(\n",
    "                            \"exposure\", where=where, bind={\"expId\": key}, datasets=\"raw\"\n",
    "                        )\n",
    "                filteredExpRecords = set(expRecords)\n",
    "                expRecord = filteredExpRecords.pop()\n",
    "                (mountErrors, mountData) = calculateMountErrors(expRecord, client)\n",
    "                pdfFig = plotMountErrors(mountData, mountErrors, figure=pdfFig) \n",
    "                pdfFig.suptitle(f\"{key} - camHexRMS = {camHexRms:.2f}\", fontsize=18)\n",
    "                pdf.savefig(pdfFig)\n",
    "                pdfFig.clf()\n",
    "                plotCounter += 1\n",
    "                \n",
    "    axs[n][0].set_title(f\"{dayObs}, CamHex\", fontsize=18)\n",
    "    axs[n][0].hist(camHexRmss, bins=20, range=(0,0.5))\n",
    "    axs[n][0].set_xlim(0, 0.5)\n",
    "    axs[n][0].set_xlabel(\"Image impact RMS (arcsec)\")\n",
    "    axs[n][1].set_title(f\"{dayObs}, M2Hex\", fontsize=18)\n",
    "    axs[n][1].hist(m2HexRmss, bins=20, range=(0,0.5))\n",
    "    axs[n][1].set_xlim(0, 0.5)\n",
    "    axs[n][1].set_xlabel(\"Image impact RMS (arcsec)\")\n",
    "pdf.close()\n",
    "fig.savefig(\"/home/c/cslage/u/MTMount/mount_plots/Hex_Impact_20250609_vs_20250619.png\")"
   ]
  },
  {
   "cell_type": "code",
   "execution_count": null,
   "id": "235016c8-156b-42e3-a19d-5bae6039145e",
   "metadata": {},
   "outputs": [],
   "source": []
  }
 ],
 "metadata": {
  "kernelspec": {
   "display_name": "LSST",
   "language": "python",
   "name": "lsst"
  },
  "language_info": {
   "codemirror_mode": {
    "name": "ipython",
    "version": 3
   },
   "file_extension": ".py",
   "mimetype": "text/x-python",
   "name": "python",
   "nbconvert_exporter": "python",
   "pygments_lexer": "ipython3",
   "version": "3.12.11"
  }
 },
 "nbformat": 4,
 "nbformat_minor": 5
}
