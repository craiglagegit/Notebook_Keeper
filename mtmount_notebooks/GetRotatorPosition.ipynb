{
 "cells": [
  {
   "cell_type": "code",
   "execution_count": null,
   "id": "eec99227-717f-4088-a120-1ccde2c12347",
   "metadata": {
    "execution": {
     "iopub.execute_input": "2025-03-26T16:01:40.924242Z",
     "iopub.status.busy": "2025-03-26T16:01:40.923963Z",
     "iopub.status.idle": "2025-03-26T16:01:53.327898Z",
     "shell.execute_reply": "2025-03-26T16:01:53.327461Z",
     "shell.execute_reply.started": "2025-03-26T16:01:40.924222Z"
    }
   },
   "outputs": [],
   "source": [
    "from lsst.summit.utils.efdUtils import makeEfdClient, getEfdData\n",
    "import lsst.summit.utils.butlerUtils as butlerUtils\n",
    "\n",
    "client = makeEfdClient()\n",
    "butler = butlerUtils.makeDefaultButler(instrument='LSSTComCam')\n",
    "\n",
    "expId = 2024121100610\n",
    "dataId = {'exposure': expId, 'detector': 4, 'instrument': 'LSSTComCam'}\n",
    "expRecord = butlerUtils.getExpRecordFromDataId(butler, dataId)\n",
    "rotData = getEfdData(client=client, topic=\"lsst.sal.MTRotator.rotation\", expRecord=expRecord)\n",
    "pos = rotData['actualPosition'].values.mean()\n",
    "print(f\"For {expId}, mean rotator position was {pos:.2f} degrees\")"
   ]
  },
  {
   "cell_type": "code",
   "execution_count": null,
   "id": "16ea4acb-62fd-4dc2-9fd5-5791b90d9937",
   "metadata": {
    "execution": {
     "iopub.execute_input": "2025-03-26T16:27:10.325937Z",
     "iopub.status.busy": "2025-03-26T16:27:10.325630Z",
     "iopub.status.idle": "2025-03-26T16:29:27.811631Z",
     "shell.execute_reply": "2025-03-26T16:29:27.811205Z",
     "shell.execute_reply.started": "2025-03-26T16:27:10.325921Z"
    },
    "jupyter": {
     "outputs_hidden": true
    }
   },
   "outputs": [],
   "source": [
    "from lsst.summit.utils.efdUtils import calcNextDay\n",
    "import matplotlib.pyplot as plt\n",
    "\n",
    "startDay = 20241022\n",
    "endDay = 20241211\n",
    "dayObs = startDay\n",
    "\n",
    "rots = []\n",
    "while dayObs <= endDay:\n",
    "    records = butler.registry.queryDimensionRecords(\"exposure\", where=\"exposure.day_obs=%d\"%dayObs)\n",
    "    if records.count() < 100:\n",
    "        dayObs = calcNextDay(dayObs)  # find the next dayObs                                                                                       \n",
    "        continue\n",
    "    exposureList = []\n",
    "    for record in butler.registry.queryDimensionRecords(\"exposure\", where=\"exposure.day_obs=%d\"%dayObs):\n",
    "        if (record.observation_type=='science'):\n",
    "            exposureList.append(record.id)\n",
    "    exposureList = sorted(exposureList)\n",
    "    print(dayObs, len(exposureList))\n",
    "    for expId in exposureList:\n",
    "        try:\n",
    "            dataId = {'exposure': expId, 'detector': 4, 'instrument': 'LSSTComCam'}\n",
    "            expRecord = butlerUtils.getExpRecordFromDataId(butler, dataId)\n",
    "            rotData = getEfdData(client=client, topic=\"lsst.sal.MTRotator.rotation\", expRecord=expRecord)\n",
    "            pos = rotData['actualPosition'].values.mean()\n",
    "            rots.append(pos)\n",
    "        except:\n",
    "            continue\n",
    "    dayObs = calcNextDay(dayObs)\n",
    "\n",
    "plt.hist(rots, bins=50)\n",
    "plt.xlim(-90,90)\n",
    "plt.title(\"ComCam campaign Rotator angle of science images\")\n",
    "plt.xlabel(\"Rotator physical angle (degrees)\")"
   ]
  },
  {
   "cell_type": "code",
   "execution_count": null,
   "id": "74e3170c-18d6-47ee-a4de-5a47414f64fa",
   "metadata": {
    "execution": {
     "iopub.execute_input": "2025-03-26T16:38:22.728668Z",
     "iopub.status.busy": "2025-03-26T16:38:22.728348Z",
     "iopub.status.idle": "2025-03-26T16:38:22.913729Z",
     "shell.execute_reply": "2025-03-26T16:38:22.913355Z",
     "shell.execute_reply.started": "2025-03-26T16:38:22.728654Z"
    }
   },
   "outputs": [],
   "source": [
    "plt.hist(rots, bins=50)\n",
    "plt.xlim(-90,90)\n",
    "plt.title(\"ComCam campaign Rotator angle of science images\")\n",
    "plt.xlabel(\"Rotator physical angle (degrees)\")\n",
    "plt.savefig(\"plots/Rotator_Histogram_ComCam.png\")\n"
   ]
  },
  {
   "cell_type": "code",
   "execution_count": null,
   "id": "6d48b4ec-6c9a-4042-9726-40f1c3d289ce",
   "metadata": {},
   "outputs": [],
   "source": []
  }
 ],
 "metadata": {
  "kernelspec": {
   "display_name": "LSST",
   "language": "python",
   "name": "lsst"
  },
  "language_info": {
   "codemirror_mode": {
    "name": "ipython",
    "version": 3
   },
   "file_extension": ".py",
   "mimetype": "text/x-python",
   "name": "python",
   "nbconvert_exporter": "python",
   "pygments_lexer": "ipython3",
   "version": "3.12.9"
  }
 },
 "nbformat": 4,
 "nbformat_minor": 5
}
