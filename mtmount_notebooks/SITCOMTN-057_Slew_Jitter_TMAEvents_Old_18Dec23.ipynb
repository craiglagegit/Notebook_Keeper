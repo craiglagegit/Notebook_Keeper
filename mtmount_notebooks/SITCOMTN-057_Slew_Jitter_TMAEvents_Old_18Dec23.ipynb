{
 "cells": [
  {
   "cell_type": "markdown",
   "metadata": {},
   "source": [
    "# TMA Analysis code supporting technote SITCOMTN-057\n",
    "Craig Lage - 15-Nov-23  Updated 18-Dec-23 to use TMAEvents.\n",
    "\n",
    "This notebook characterizes several things associated with the TMA: \n",
    "\n",
    "1. Slew and Settle times\n",
    "2. Mount jitter\n"
   ]
  },
  {
   "cell_type": "markdown",
   "metadata": {},
   "source": [
    "# Prepare the notebook"
   ]
  },
  {
   "cell_type": "code",
   "execution_count": null,
   "metadata": {
    "execution": {
     "iopub.execute_input": "2023-12-18T21:23:06.130357Z",
     "iopub.status.busy": "2023-12-18T21:23:06.130183Z",
     "iopub.status.idle": "2023-12-18T21:23:06.133539Z",
     "shell.execute_reply": "2023-12-18T21:23:06.133182Z",
     "shell.execute_reply.started": "2023-12-18T21:23:06.130344Z"
    },
    "tags": []
   },
   "outputs": [],
   "source": [
    "# Directory to store the data\n",
    "from pathlib import Path\n",
    "data_dir = Path(\"./plots\")\n",
    "data_dir.mkdir(exist_ok=True, parents=True)\n",
    "\n",
    "# You can include a list of different days and blocks,\n",
    "# including more than one block on the same day, if desired\n",
    "# You can also create a loop to build this list.\n",
    "day_block_pairs = [[20231214, 146], [20231215, 146]]\n",
    "\n",
    "# For the jitter tests, the parameters below allow you to add\n",
    "# a delay after the start of the tracking event, or before the\n",
    "# end of the tracking event\n",
    "delay_after_start = 0.0\n",
    "delay_before_end = 5.0"
   ]
  },
  {
   "cell_type": "code",
   "execution_count": null,
   "metadata": {
    "execution": {
     "iopub.execute_input": "2023-12-18T20:49:22.930160Z",
     "iopub.status.busy": "2023-12-18T20:49:22.929877Z",
     "iopub.status.idle": "2023-12-18T20:49:22.933573Z",
     "shell.execute_reply": "2023-12-18T20:49:22.933191Z",
     "shell.execute_reply.started": "2023-12-18T20:49:22.930147Z"
    },
    "tags": []
   },
   "outputs": [],
   "source": [
    "import sys, time, os, asyncio, glob\n",
    "from datetime import datetime\n",
    "import numpy as np\n",
    "import matplotlib.pyplot as plt\n",
    "from matplotlib.ticker import FuncFormatter\n",
    "import matplotlib.dates as mdates\n",
    "from matplotlib.backends.backend_pdf import PdfPages\n",
    "import pickle as pkl\n",
    "from astropy.time import Time, TimeDelta\n",
    "from scipy.interpolate import UnivariateSpline\n",
    "from lsst_efd_client import EfdClient\n",
    "from lsst.summit.utils.tmaUtils import TMAEventMaker\n",
    "from lsst.summit.utils.blockUtils import BlockParser\n",
    "from lsst.summit.utils.efdUtils import getEfdData"
   ]
  },
  {
   "cell_type": "code",
   "execution_count": null,
   "metadata": {
    "execution": {
     "iopub.execute_input": "2023-12-18T16:55:28.463398Z",
     "iopub.status.busy": "2023-12-18T16:55:28.463270Z",
     "iopub.status.idle": "2023-12-18T16:55:29.525242Z",
     "shell.execute_reply": "2023-12-18T16:55:29.524757Z",
     "shell.execute_reply.started": "2023-12-18T16:55:28.463387Z"
    }
   },
   "outputs": [],
   "source": [
    "client = EfdClient(\"usdf_efd\")\n",
    "eventMaker = TMAEventMaker()"
   ]
  },
  {
   "cell_type": "code",
   "execution_count": null,
   "metadata": {
    "execution": {
     "iopub.execute_input": "2023-12-18T20:43:29.887234Z",
     "iopub.status.busy": "2023-12-18T20:43:29.886921Z",
     "iopub.status.idle": "2023-12-18T20:43:29.889855Z",
     "shell.execute_reply": "2023-12-18T20:43:29.889487Z",
     "shell.execute_reply.started": "2023-12-18T20:43:29.887219Z"
    }
   },
   "outputs": [],
   "source": [
    "def tickFormatter(value, tick_number):\n",
    "    # Convert the value to a string without subtracting large numbers                                                 \n",
    "    # tick_number is unused.                                                                                          \n",
    "    return f\"{value:.2f}\"\n"
   ]
  },
  {
   "cell_type": "markdown",
   "metadata": {},
   "source": [
    "# Cycle through the events plotting the tracking errors, and getting the data for the slew time histogram."
   ]
  },
  {
   "cell_type": "code",
   "execution_count": null,
   "metadata": {
    "execution": {
     "iopub.execute_input": "2023-12-18T21:24:57.011360Z",
     "iopub.status.busy": "2023-12-18T21:24:57.011173Z",
     "iopub.status.idle": "2023-12-18T21:25:06.168415Z",
     "shell.execute_reply": "2023-12-18T21:25:06.168032Z",
     "shell.execute_reply.started": "2023-12-18T21:24:57.011348Z"
    },
    "tags": []
   },
   "outputs": [],
   "source": [
    "# These are for plotting the slew time distributions\n",
    "slew_times = []\n",
    "slew_dist = []\n",
    "\n",
    "pdf = PdfPages(str(data_dir / \"Mount_Jitter_Plots.pdf\"))\n",
    "fig = plt.figure(figsize=(10, 8))\n",
    "for i, [dayObs, blockNum] in enumerate(day_block_pairs):\n",
    "    events = eventMaker.getEvents(dayObs)\n",
    "    blockParser = BlockParser(dayObs)  # get the info for the day\n",
    "    seqNums = blockParser.getSeqNums(blockNum)  # get the seqNums for the specified block\n",
    "    Nslews = 0\n",
    "    Ntracks = 0\n",
    "\n",
    "    for event in events:\n",
    "        if event.type.name == 'TRACKING':\n",
    "            Ntracks += 1\n",
    "        elif event.type.name == 'SLEWING':\n",
    "            Nslews += 1\n",
    "    print(f\"There are {len(events)} events, {Nslews} slewing and {Ntracks} tracking\")    \n",
    "    print(f\"On {dayObs}, there are {len(seqNums)} events associated with block {blockNum}\")\n",
    "    if i == 0:\n",
    "        # for making the example slew plot\n",
    "        medianSeqNum = int((seqNums[0] + seqNums[-1]) / 2)\n",
    "        firstEvent = medianSeqNum - 4\n",
    "        lastEvent = medianSeqNum + 4\n",
    "    if i >0:\n",
    "        continue\n",
    "\n",
    "    for seqNum in seqNums[120:125]:\n",
    "            #try:\n",
    "            event = events[seqNum]\n",
    "            if event.type.name == 'SLEWING':\n",
    "                start = event.begin\n",
    "                end = event.end\n",
    "            elif event.type.name == 'TRACKING':\n",
    "                start = event.begin + TimeDelta(delay_after_start, format='sec')\n",
    "                end = event.end - TimeDelta(delay_before_end, format='sec')\n",
    "            azimuthData = getEfdData(client,'lsst.sal.MTMount.azimuth',\n",
    "            event=event)\n",
    "            elevationData = getEfdData(client,'lsst.sal.MTMount.elevation',\n",
    "            event=event)\n",
    "            print(seqNum, event.begin.isot, event.type.name)\n",
    "            az_times = azimuthData['timestamp'].values\n",
    "            el_times = elevationData['timestamp'].values\n",
    "            az_values = azimuthData['actualPosition'].values\n",
    "            el_values = elevationData['actualPosition'].values\n",
    "    \n",
    "            if event.type.name == 'SLEWING':\n",
    "                continue\n",
    "                az_shift = abs(az_values[0] - az_values[-1])\n",
    "                el_shift = abs(el_values[0] - el_values[-1])\n",
    "                az_shift_mod = az_shift * np.cos(el_values[0]*np.pi/180.0)\n",
    "                shift = np.sqrt(el_shift*el_shift + az_shift_mod*az_shift_mod)\n",
    "                if shift > 0.2 and shift < 10.0:\n",
    "                    slew_dist.append(shift)\n",
    "                    slew_times.append(event.duration)\n",
    "\n",
    "            elif event.type.name == 'TRACKING':\n",
    "                # Need to pad this data for the interpolation to work right                                                       \n",
    "                pointingData = getEfdData(client, 'lsst.sal.MTPtg.currentTargetStatus',\n",
    "                                          event=event, prePadding=1.0, postPadding=0.0)\n",
    "                ptg_times = pointingData['timestamp'].values\n",
    "                # Need to interpolate because demand and actual data streams                                                      \n",
    "                # have different lengths                                                                                          \n",
    "                az_demand_interp = np.interp(az_times, ptg_times, pointingData['demandAz'])\n",
    "                el_demand_interp = np.interp(el_times, ptg_times, pointingData['demandEl'])\n",
    "                az_error = (az_values - az_demand_interp) * 3600\n",
    "                el_error = (el_values - el_demand_interp) * 3600\n",
    "                # Because of small timebase errors, there can be an offset in the                                                 \n",
    "                # errors. I take this out by subtracting the median of the errors.                                                \n",
    "                # This is a fudge, but I think better than the polynomial fit.                                                    \n",
    "                az_error -= np.median(az_error)\n",
    "                el_error -= np.median(el_error)\n",
    "                azimuthData['azError'] = az_error\n",
    "                elevationData['elError'] = el_error\n",
    "\n",
    "                ax1, ax1p5, ax2 = fig.subplots(3, sharex=True,\n",
    "                                       gridspec_kw={'wspace': 0,\n",
    "                                                    'hspace': 0,\n",
    "                                                    'height_ratios': [2.5, 1, 1]})\n",
    "\n",
    "                # Use the native color cycle for the lines. Because they're on different                                              \n",
    "                # axes they don't cycle by themselves                                                                                 \n",
    "                lineColors = [p['color'] for p in plt.rcParams['axes.prop_cycle']]\n",
    "                colorCounter = 0\n",
    "            \n",
    "                ax1.plot(azimuthData['actualPosition'], label='Azimuth position', \n",
    "                         c=lineColors[colorCounter])\n",
    "                colorCounter += 1\n",
    "                ax1.yaxis.set_major_formatter(FuncFormatter(tickFormatter))\n",
    "                ax1.set_ylabel('Azimuth (degrees)')\n",
    "            \n",
    "                ax1_twin = ax1.twinx()\n",
    "                ax1_twin.plot(elevationData['actualPosition'], label='Elevation position', \n",
    "                              c=lineColors[colorCounter])\n",
    "                colorCounter += 1\n",
    "                ax1_twin.yaxis.set_major_formatter(FuncFormatter(tickFormatter))\n",
    "                ax1_twin.set_ylabel('Elevation (degrees)')\n",
    "                ax1.set_xticks([])  # remove x tick labels on the hidden upper x-axis                                                 \n",
    "                az_rms = np.sqrt(np.mean(az_error * az_error))\n",
    "                el_rms = np.sqrt(np.mean(el_error * el_error))\n",
    "        \n",
    "                # Calculate Image impact RMS                                                                                      \n",
    "                # We are less sensitive to Az errors near the zenith                                                              \n",
    "                image_az_rms = az_rms * np.cos(el_values[0] * np.pi / 180.0)\n",
    "                image_el_rms = el_rms\n",
    "                print(seqNum, image_el_rms, image_az_rms)\n",
    "                ax1p5.plot(azimuthData['azError'], label='Azimuth error', \n",
    "                           c=lineColors[colorCounter])\n",
    "                colorCounter += 1\n",
    "                ax1p5.plot(elevationData['elError'], label='Elevation error', \n",
    "                           c=lineColors[colorCounter])\n",
    "                colorCounter += 1\n",
    "                ax1p5.yaxis.set_major_formatter(FuncFormatter(tickFormatter))\n",
    "                ax1p5.set_ylabel('Tracking error (arcsec)')\n",
    "                ax1p5.set_xticks([])  # remove x tick labels on the hidden upper x-axis                                           \n",
    "                ax1p5.set_ylim(-0.5, 0.5)\n",
    "                ax1p5.set_yticks([-0.25, 0.0, 0.25])\n",
    "                ax1p5.legend()\n",
    "                ax1p5.text(0.2, 0.9,\n",
    "                           f'Az image RMS = {image_az_rms:.3f} arcsec,   El image RMS = {image_el_rms:.3f} arcsec',\n",
    "                           transform=ax1p5.transAxes)\n",
    "                ax2_twin = ax2.twinx()\n",
    "                ax2.plot(azimuthData['actualTorque'], label='Azimuth torque', \n",
    "                         c=lineColors[colorCounter])\n",
    "                colorCounter += 1\n",
    "                ax2_twin.plot(elevationData['actualTorque'], label='Elevation torque', \n",
    "                              c=lineColors[colorCounter])\n",
    "                colorCounter += 1\n",
    "                ax2.set_ylabel('Azimuth torque (Nm)')\n",
    "                ax2_twin.set_ylabel('Elevation torque (Nm)')\n",
    "                ax2.set_xlabel('Time (UTC)')  \n",
    "                # yes, it really is UTC, matplotlib converts this automatically!                        \n",
    "            \n",
    "                # put the ticks at an angle, and right align with the tick marks                                                      \n",
    "                ax2.set_xticks(ax2.get_xticks())  # needed to supress a user warning                                                  \n",
    "                xlabels = ax2.get_xticks()\n",
    "                ax2.set_xticklabels(xlabels, rotation=40, ha='right')\n",
    "                ax2.xaxis.set_major_locator(mdates.AutoDateLocator())\n",
    "                ax2.xaxis.set_major_formatter(mdates.DateFormatter('%H:%M:%S'))\n",
    "                print(\"Saving this figure\")\n",
    "                pdf.savefig(fig)  # saves the current figure into a pdf page\n",
    "                plt.clf()\n",
    "\n",
    "\n",
    "    \n",
    "            \n",
    "            else:\n",
    "                continue\n",
    "        \n",
    "        \n",
    "            #except:\n",
    "            #continue\n",
    "\n",
    "pdf.close()"
   ]
  },
  {
   "cell_type": "code",
   "execution_count": null,
   "metadata": {
    "execution": {
     "iopub.execute_input": "2023-12-18T20:54:08.685316Z",
     "iopub.status.busy": "2023-12-18T20:54:08.685138Z",
     "iopub.status.idle": "2023-12-18T20:54:08.813177Z",
     "shell.execute_reply": "2023-12-18T20:54:08.812805Z",
     "shell.execute_reply.started": "2023-12-18T20:54:08.685303Z"
    }
   },
   "outputs": [],
   "source": [
    "plt.plot(azimuthData['actualPosition'])"
   ]
  },
  {
   "cell_type": "code",
   "execution_count": null,
   "metadata": {
    "execution": {
     "iopub.execute_input": "2023-12-18T20:55:19.696300Z",
     "iopub.status.busy": "2023-12-18T20:55:19.695700Z",
     "iopub.status.idle": "2023-12-18T20:55:19.820218Z",
     "shell.execute_reply": "2023-12-18T20:55:19.819853Z",
     "shell.execute_reply.started": "2023-12-18T20:55:19.696285Z"
    }
   },
   "outputs": [],
   "source": [
    "plt.plot(azimuthData['actualTorque'])"
   ]
  },
  {
   "cell_type": "code",
   "execution_count": null,
   "metadata": {
    "execution": {
     "iopub.execute_input": "2023-12-18T21:26:01.750143Z",
     "iopub.status.busy": "2023-12-18T21:26:01.749788Z",
     "iopub.status.idle": "2023-12-18T21:26:01.844841Z",
     "shell.execute_reply": "2023-12-18T21:26:01.844546Z",
     "shell.execute_reply.started": "2023-12-18T21:26:01.750128Z"
    }
   },
   "outputs": [],
   "source": [
    "plt.plot(az_times, az_values)\n",
    "#plt.plot(az_demand, ls='--')\n",
    "plt.plot(pointingData['timestamp'], pointingData['demandAz'] )"
   ]
  },
  {
   "cell_type": "code",
   "execution_count": null,
   "metadata": {
    "execution": {
     "iopub.execute_input": "2023-12-18T21:26:27.457897Z",
     "iopub.status.busy": "2023-12-18T21:26:27.457480Z",
     "iopub.status.idle": "2023-12-18T21:26:27.460653Z",
     "shell.execute_reply": "2023-12-18T21:26:27.460331Z",
     "shell.execute_reply.started": "2023-12-18T21:26:27.457881Z"
    }
   },
   "outputs": [],
   "source": [
    "pointingData['timestamp'][-1]"
   ]
  },
  {
   "cell_type": "code",
   "execution_count": null,
   "metadata": {
    "execution": {
     "iopub.execute_input": "2023-12-18T21:26:45.695342Z",
     "iopub.status.busy": "2023-12-18T21:26:45.694968Z",
     "iopub.status.idle": "2023-12-18T21:26:45.698021Z",
     "shell.execute_reply": "2023-12-18T21:26:45.697735Z",
     "shell.execute_reply.started": "2023-12-18T21:26:45.695328Z"
    }
   },
   "outputs": [],
   "source": [
    "azimuthData['timestamp'][-1]"
   ]
  },
  {
   "cell_type": "code",
   "execution_count": null,
   "metadata": {},
   "outputs": [],
   "source": [
    "%matplotlib inline\n",
    "plt.subplots_adjust(wspace=0.5)\n",
    "plt.subplot(1,2,1)\n",
    "plt.hist(slew_times, bins=50, range=(0,50))\n",
    "plt.xlabel(\"Slew and settle time (seconds)\")\n",
    "plt.xlim(0.0, 10.0)\n",
    "plt.subplot(1,2,2)\n",
    "plt.scatter(slew_dist, slew_times)\n",
    "plt.ylabel(\"Slew and settle time(sec)\")\n",
    "plt.xlabel(\"Slew distance (degrees)\")\n",
    "plt.plot([3.5,3.5],[0,10], ls='--', color='black')\n",
    "plt.plot([0,10],[4.0,4.0], ls='--', color='black')\n",
    "plt.xlim(0,10)\n",
    "plt.ylim(0,10)\n",
    "#plt.savefig(str(data_dir / \"Slew_Settle_Times_Corrected.pdf\"))"
   ]
  },
  {
   "cell_type": "markdown",
   "metadata": {},
   "source": [
    "# This is just to plot an example of the slews and tracks"
   ]
  },
  {
   "cell_type": "code",
   "execution_count": null,
   "metadata": {
    "execution": {
     "iopub.execute_input": "2023-12-18T17:45:17.450649Z",
     "iopub.status.busy": "2023-12-18T17:45:17.450465Z",
     "iopub.status.idle": "2023-12-18T17:45:22.751453Z",
     "shell.execute_reply": "2023-12-18T17:45:22.751062Z",
     "shell.execute_reply.started": "2023-12-18T17:45:17.450635Z"
    },
    "tags": []
   },
   "outputs": [],
   "source": [
    "[dayObs, blockNum] = day_block_pairs[0]\n",
    "events = eventMaker.getEvents(dayObs)\n",
    "blockParser = BlockParser(dayObs)  # get the info for the day\n",
    "seqNums = blockParser.getSeqNums(blockNum)  # get the seqNums for the specified block\n",
    "print(f\"On {dayObs}, there are {len(seqNums)} events associated with block {blockNum}\")\n",
    "start = events[firstEvent].begin\n",
    "end = events[lastEvent].end\n",
    "az = await client.select_time_series('lsst.sal.MTMount.azimuth', \\\n",
    "                                        ['*'],  start, end)\n",
    "plt.subplot(1,1,1)\n",
    "plt.title(\"Azimuth Slew and Tracking\")\n",
    "ax1 = az['actualPosition'].plot(color='red')\n",
    "for i in range(firstEvent, lastEvent+1):\n",
    "    if events[i].type.name != 'SLEWING':\n",
    "        continue\n",
    "    ss_time = events[i].begin.isot  \n",
    "    ax1.axvline(ss_time, color=\"black\", linestyle=\"--\")\n",
    "    ip_time = events[i].end.isot  \n",
    "    ax1.axvline(ip_time, color=\"blue\", linestyle=\"--\")\n",
    "#ax1.set_xlim(start.isot, end.isot)\n",
    "ax1.axvline(ss_time, color=\"black\", linestyle=\"--\", label=\"Start slew\")\n",
    "ax1.axvline(ip_time, color=\"blue\", linestyle=\"--\", label=\"InPosition\")\n",
    "ax1.set_ylabel(\"Azimuth(degrees)\")\n",
    "ax1.legend()\n",
    "plt.savefig(str(data_dir / f\"Slew_Track_Example_{dayObs}.pdf\"))"
   ]
  },
  {
   "cell_type": "markdown",
   "metadata": {},
   "source": [
    "# This plots the jitter plots for all of the tracks."
   ]
  },
  {
   "cell_type": "code",
   "execution_count": null,
   "metadata": {
    "tags": []
   },
   "outputs": [],
   "source": [
    "# Plotting the mount plots\n",
    "azRmsVals = []\n",
    "elRmsVals = []\n",
    "imRmsVals = []\n",
    "fig = plt.figure(figsize = (8,8))\n",
    "for index in range(len(inPos) - 1):\n",
    "\n",
    "    plotAz = az[(az['timestamp'] > inPos[index]) & (az['timestamp'] < start_slew_times[index+1])]\n",
    "    plotEl = el[(el['timestamp'] > inPos[index]) & (el['timestamp'] < start_slew_times[index+1])]\n",
    "    ss_time = Time(start_slew_times[index+1], format='unix_tai', scale='utc').isot\n",
    "    ip_time = Time(inPos[index], format='unix_tai', scale='utc').isot\n",
    "\n",
    "\n",
    "    # Calculate the tracking errors\n",
    "    az_vals = np.array(plotAz.values[:,0])\n",
    "    el_vals = np.array(plotEl.values[:,0])\n",
    "    times_az = plotAz.values[:,1]\n",
    "    times_el = plotEl.values[:,1]\n",
    "    # The fits are much better if the time variable\n",
    "    # is centered in the interval\n",
    "    time_delta_az = times_az[int(len(plotAz.values) / 2)]\n",
    "    time_delta_el = times_el[int(len(plotEl.values) / 2)]\n",
    "    fit_times_az = [(times_az[i]-time_delta_az) for i in range(len(times_az))]\n",
    "    fit_times_el = [(times_el[i]-time_delta_el) for i in range(len(times_el))]\n",
    "\n",
    "    # Fit with a polynomial\n",
    "    az_fit = np.polyfit(fit_times_az, az_vals, 4)\n",
    "    el_fit = np.polyfit(fit_times_el, el_vals, 4)\n",
    "    az_model = np.polyval(az_fit, fit_times_az)\n",
    "    el_model = np.polyval(el_fit, fit_times_el)\n",
    "\n",
    "    # Errors in arcseconds\n",
    "    az_error = (az_vals - az_model) * 3600\n",
    "    el_error = (el_vals - el_model) * 3600\n",
    "    \n",
    "    # Drive velocities\n",
    "    az_vel = (az_model[-1] - az_model[0]) / (fit_times_az[-1] - fit_times_az[0]) * 3600.0\n",
    "    el_vel = (el_model[-1] - el_model[0]) / (fit_times_el[-1] - fit_times_el[0]) * 3600.0\n",
    "    \n",
    "    # Calculate RMS\n",
    "    az_rms = np.sqrt(np.mean(az_error * az_error))\n",
    "    el_rms = np.sqrt(np.mean(el_error * el_error))\n",
    "    azRmsVals.append(az_rms)\n",
    "    elRmsVals.append(el_rms)\n",
    "    # Calculate Image impact RMS\n",
    "    # We are less sensitive to Az errors near the zenith\n",
    "    image_az_rms = az_rms * np.cos(el_vals[0] * np.pi / 180.0)\n",
    "    image_el_rms = el_rms\n",
    "    imRmsVals.append(np.sqrt(image_az_rms*image_az_rms + image_el_rms*image_el_rms))\n",
    "\n",
    "    fig.clear()\n",
    "    plt.subplots_adjust(wspace=0.3, hspace=0.5)\n",
    "    plt.suptitle(f\"MT Mount Jitter - {ip_time}\", fontsize = 18)\n",
    "    plt.subplot(2,2,1)\n",
    "    ax1 = plotAz['actualPosition'].plot(legend=True, color='red')\n",
    "    ax1.axvline(ss_time, color=\"black\", linestyle=\"--\", label=\"Start slew\")\n",
    "    ax1.axvline(ip_time, color=\"blue\", linestyle=\"--\", label=\"InPosition\")\n",
    "    ax1.set_title(f\"Azimuth\\nAve velocity={az_vel:.1f} arcsec/sec\")\n",
    "    ax1.set_ylabel(\"Degrees\")\n",
    "    ax1.legend()\n",
    "    plt.subplot(2,2,2)\n",
    "    ax3 = plotEl['actualPosition'].plot(legend=True, color='green')\n",
    "    ax3.axvline(ss_time, color=\"black\", linestyle=\"--\", label=\"Start slew\")\n",
    "    ax3.axvline(ip_time, color=\"blue\", linestyle=\"--\", label=\"InPosition\")\n",
    "    ax3.set_title(f\"Elevation\\nAve velocity={el_vel:.1f} arcsec/sec\")\n",
    "    ax3.set_ylabel(\"Degrees\")\n",
    "    ax3.legend()\n",
    "    plt.subplot(2,2,3)\n",
    "    plt.plot(fit_times_az, az_error, color='red')\n",
    "    plt.title(f\"Azimuth RMS error = {az_rms:.3f} arcseconds\\n\"\n",
    "              f\"  Image RMS error = {image_az_rms:.3f} arcseconds\", fontsize=10)\n",
    "    plt.ylim(-0.2,0.2)\n",
    "    plt.xticks([])\n",
    "    plt.ylabel(\"ArcSeconds\")\n",
    "    plt.subplot(2,2,4)\n",
    "    plt.plot(fit_times_el, el_error, color='green')\n",
    "    plt.title(f\"Elevation RMS error = {el_rms:.3f} arcseconds\\n\"\n",
    "              f\"  Image RMS error = {image_el_rms:.3f} arcseconds\", fontsize=10)\n",
    "    plt.ylim(-0.2,0.2)\n",
    "    plt.xticks([])\n",
    "    plt.ylabel(\"ArcSeconds\")\n",
    "    timestamp = ip_time.split('.')[0].replace('-','').replace(':','')\n",
    "    plt.savefig(str(data_dir / f\"MT_Mount_Jitter_Corrected_{timestamp}.pdf\"))\n",
    "\n",
    "\n",
    "mount_data = {}\n",
    "mount_data['start_slew_times'] = start_slew_times\n",
    "mount_data['inPos'] = inPos\n",
    "mount_data['slew_times'] = slew_times\n",
    "mount_data['slew_dist'] = slew_dist\n",
    "mount_data['azRmsVals'] = azRmsVals\n",
    "mount_data['elRmsVals'] = elRmsVals\n",
    "mount_data['imRmsVals'] = imRmsVals\n",
    "\n",
    "filename = str(data_dir / \"mount_data_corrected.pkl\")\n",
    "file = open(filename, 'wb')\n",
    "pkl.dump(mount_data, file)\n",
    "file.close()\n",
    "\n"
   ]
  },
  {
   "cell_type": "markdown",
   "metadata": {},
   "source": [
    "# This allows you to unpickle the pickled data, since running all of the tracking jitters takes time."
   ]
  },
  {
   "cell_type": "code",
   "execution_count": null,
   "metadata": {
    "tags": []
   },
   "outputs": [],
   "source": [
    "filename = str(data_dir / \"mount_data.pkl\")\n",
    "file = open(filename, 'rb')\n",
    "mount_data = pkl.load(file)\n",
    "file.close()"
   ]
  },
  {
   "cell_type": "markdown",
   "metadata": {},
   "source": [
    "# And finally, this plots histograms of the tracking jitter."
   ]
  },
  {
   "cell_type": "code",
   "execution_count": null,
   "metadata": {
    "tags": []
   },
   "outputs": [],
   "source": [
    "fig = plt.figure(figsize=(16,8))\n",
    "plt.suptitle(\"MT Mount RMS Jitter - 20220126\", fontsize = 18)\n",
    "azRmsVals = mount_data['azRmsVals']\n",
    "elRmsVals = mount_data['elRmsVals']\n",
    "imRmsVals = mount_data['imRmsVals']\n",
    "azMed = np.median(azRmsVals)\n",
    "elMed = np.median(elRmsVals)\n",
    "imMed = np.median(imRmsVals)\n",
    "plt.subplots_adjust(wspace=0.2)\n",
    "plt.subplot(1,3,1)\n",
    "plt.title(f\"Azimuth RMS, N={len(azRmsVals)}\")\n",
    "plt.hist(azRmsVals, range=(0,0.2))\n",
    "plt.text(0.1,120, f\"Median={azMed:.3f}\", fontsize=12)\n",
    "plt.xlim(0,0.2)\n",
    "plt.xlabel(\"RMS Jitter (arcseconds)\")\n",
    "plt.subplot(1,3,2)\n",
    "plt.title(f\"Elevation RMS, N={len(azRmsVals)}\")\n",
    "plt.hist(elRmsVals, range=(0,0.2))\n",
    "plt.text(0.1,120, f\"Median={elMed:.3f}\", fontsize=12)\n",
    "plt.xlim(0,0.2)\n",
    "plt.xlabel(\"RMS Jitter (arcseconds)\")\n",
    "plt.subplot(1,3,3)\n",
    "plt.title(f\"Image Impact RMS, N={len(azRmsVals)}\")\n",
    "plt.hist(imRmsVals, range=(0,0.2))\n",
    "plt.text(0.1,120, f\"Median={imMed:.3f}\", fontsize=12)\n",
    "plt.xlim(0,0.2)\n",
    "plt.xlabel(\"RMS Jitter (arcseconds)\")\n",
    "plt.savefig(str(data_dir / \"Jitter_Summary_Corrected.pdf\"))"
   ]
  },
  {
   "cell_type": "code",
   "execution_count": null,
   "metadata": {},
   "outputs": [],
   "source": []
  }
 ],
 "metadata": {
  "kernelspec": {
   "display_name": "LSST",
   "language": "python",
   "name": "lsst"
  },
  "language_info": {
   "codemirror_mode": {
    "name": "ipython",
    "version": 3
   },
   "file_extension": ".py",
   "mimetype": "text/x-python",
   "name": "python",
   "nbconvert_exporter": "python",
   "pygments_lexer": "ipython3",
   "version": "3.11.4"
  }
 },
 "nbformat": 4,
 "nbformat_minor": 4
}
