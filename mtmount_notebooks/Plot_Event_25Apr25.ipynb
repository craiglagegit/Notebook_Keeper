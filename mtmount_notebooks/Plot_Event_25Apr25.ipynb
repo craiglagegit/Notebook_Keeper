{
 "cells": [
  {
   "cell_type": "markdown",
   "id": "6e88769e-cc96-42e1-a5f4-8e7f8be16b67",
   "metadata": {},
   "source": [
    "# Plot TMA event\n",
    "\n",
    "Craig Lage - 25-apr-25"
   ]
  },
  {
   "cell_type": "code",
   "execution_count": null,
   "id": "eec99227-717f-4088-a120-1ccde2c12347",
   "metadata": {
    "execution": {
     "iopub.execute_input": "2025-04-26T01:06:33.249571Z",
     "iopub.status.busy": "2025-04-26T01:06:33.249334Z",
     "iopub.status.idle": "2025-04-26T01:06:33.252717Z",
     "shell.execute_reply": "2025-04-26T01:06:33.252339Z",
     "shell.execute_reply.started": "2025-04-26T01:06:33.249556Z"
    }
   },
   "outputs": [],
   "source": [
    "from lsst.summit.utils.efdUtils import makeEfdClient, getEfdData\n",
    "import lsst.summit.utils.butlerUtils as butlerUtils\n",
    "from lsst.summit.utils.tmaUtils import filterBadValues, plotEvent, TMAEventMaker\n",
    "import numpy as np\n",
    "import matplotlib.pyplot as plt\n",
    "from lsst.daf.butler import Butler\n",
    "from astropy.time import Time, TimeDelta"
   ]
  },
  {
   "cell_type": "code",
   "execution_count": null,
   "id": "6d48b4ec-6c9a-4042-9726-40f1c3d289ce",
   "metadata": {
    "execution": {
     "iopub.execute_input": "2025-04-25T22:14:58.588472Z",
     "iopub.status.busy": "2025-04-25T22:14:58.587819Z",
     "iopub.status.idle": "2025-04-25T22:14:58.983687Z",
     "shell.execute_reply": "2025-04-25T22:14:58.983222Z",
     "shell.execute_reply.started": "2025-04-25T22:14:58.588454Z"
    }
   },
   "outputs": [],
   "source": [
    "client = makeEfdClient()\n",
    "# butler = butlerUtils.makeDefaultButler(instrument='LSSTCam')\n",
    "#butler = Butler('/repo/embargo', collections=['LSSTCam/raw/all', 'LSSTCam/calib/unbounded'])"
   ]
  },
  {
   "cell_type": "code",
   "execution_count": null,
   "id": "12e8126d-fefe-45d0-9c90-548b4530158d",
   "metadata": {
    "execution": {
     "iopub.execute_input": "2025-04-26T01:25:46.646467Z",
     "iopub.status.busy": "2025-04-26T01:25:46.646263Z",
     "iopub.status.idle": "2025-04-26T01:25:47.112613Z",
     "shell.execute_reply": "2025-04-26T01:25:47.112101Z",
     "shell.execute_reply.started": "2025-04-26T01:25:46.646452Z"
    }
   },
   "outputs": [],
   "source": [
    "eventMaker = TMAEventMaker(client)\n",
    "dayObs = 20250424\n",
    "seqNum = 476\n",
    "event = eventMaker.getEvent(dayObs, seqNum)"
   ]
  },
  {
   "cell_type": "code",
   "execution_count": null,
   "id": "4d5321e1-e4bb-4fd2-a283-6f8c9d60c25c",
   "metadata": {
    "execution": {
     "iopub.execute_input": "2025-04-26T01:00:16.698454Z",
     "iopub.status.busy": "2025-04-26T01:00:16.698127Z",
     "iopub.status.idle": "2025-04-26T01:00:16.701755Z",
     "shell.execute_reply": "2025-04-26T01:00:16.701376Z",
     "shell.execute_reply.started": "2025-04-26T01:00:16.698429Z"
    }
   },
   "outputs": [],
   "source": [
    "event"
   ]
  },
  {
   "cell_type": "code",
   "execution_count": null,
   "id": "86db6912-3296-4bc8-80fb-3be1d3710c99",
   "metadata": {
    "execution": {
     "iopub.execute_input": "2025-04-26T01:02:23.746693Z",
     "iopub.status.busy": "2025-04-26T01:02:23.745928Z",
     "iopub.status.idle": "2025-04-26T01:02:24.883226Z",
     "shell.execute_reply": "2025-04-26T01:02:24.882822Z",
     "shell.execute_reply.started": "2025-04-26T01:02:23.746675Z"
    }
   },
   "outputs": [],
   "source": [
    "fig = plotEvent(client, event, prePadding=-90.0, postPadding=5.0)"
   ]
  },
  {
   "cell_type": "code",
   "execution_count": null,
   "id": "53f18d5e-f270-4f5d-84e2-df0d29da29ab",
   "metadata": {
    "execution": {
     "iopub.execute_input": "2025-04-26T01:07:40.341261Z",
     "iopub.status.busy": "2025-04-26T01:07:40.340935Z",
     "iopub.status.idle": "2025-04-26T01:07:40.344991Z",
     "shell.execute_reply": "2025-04-26T01:07:40.344546Z",
     "shell.execute_reply.started": "2025-04-26T01:07:40.341243Z"
    }
   },
   "outputs": [],
   "source": [
    "axs = fig.get_axes()\n",
    "axs[0].get_xlim()"
   ]
  },
  {
   "cell_type": "code",
   "execution_count": null,
   "id": "43bd29f2-e255-4292-9bd9-774ed1d97934",
   "metadata": {
    "execution": {
     "iopub.execute_input": "2025-04-26T01:09:24.583541Z",
     "iopub.status.busy": "2025-04-26T01:09:24.583325Z",
     "iopub.status.idle": "2025-04-26T01:09:24.586545Z",
     "shell.execute_reply": "2025-04-26T01:09:24.586196Z",
     "shell.execute_reply.started": "2025-04-26T01:09:24.583525Z"
    }
   },
   "outputs": [],
   "source": [
    "plotStart."
   ]
  },
  {
   "cell_type": "code",
   "execution_count": null,
   "id": "b3cabea7-758a-4067-886f-cf74e6482c7e",
   "metadata": {
    "execution": {
     "iopub.execute_input": "2025-04-26T01:26:16.930962Z",
     "iopub.status.busy": "2025-04-26T01:26:16.930747Z",
     "iopub.status.idle": "2025-04-26T01:26:17.987519Z",
     "shell.execute_reply": "2025-04-26T01:26:17.987029Z",
     "shell.execute_reply.started": "2025-04-26T01:26:16.930947Z"
    }
   },
   "outputs": [],
   "source": [
    "fig = plotEvent(client, event, prePadding=-90.0, postPadding=0.5)\n",
    "axs = fig.get_axes()\n",
    "dt = .00111/3.0\n",
    "dt1 = .00003/3.0\n",
    "(t0, t1) = axs[0].get_xlim()\n",
    "axs[0].set_xlim(t0+dt, t1-dt1)\n",
    "(t0, t1) = axs[1].get_xlim()\n",
    "axs[1].set_xlim(t0+dt, t1-dt1)\n",
    "(t0, t1) = axs[2].get_xlim()\n",
    "axs[2].set_xlim(t0+dt, t1-dt1)\n",
    "plt.savefig(f\"/home/c/cslage/u/MTM1M3/data/MTM1M3_Fault_TMAEvent_{dayObs}_{seqNum}.png\")\n"
   ]
  },
  {
   "cell_type": "code",
   "execution_count": null,
   "id": "7c97a843-f2a1-4417-b95b-f3c3bdae0700",
   "metadata": {
    "execution": {
     "iopub.execute_input": "2025-04-26T01:12:26.247507Z",
     "iopub.status.busy": "2025-04-26T01:12:26.246986Z",
     "iopub.status.idle": "2025-04-26T01:12:26.583885Z",
     "shell.execute_reply": "2025-04-26T01:12:26.583388Z",
     "shell.execute_reply.started": "2025-04-26T01:12:26.247478Z"
    }
   },
   "outputs": [],
   "source": [
    "fig"
   ]
  },
  {
   "cell_type": "code",
   "execution_count": null,
   "id": "a8b358ff-9cf2-4e53-8ba4-de1b6b8e231d",
   "metadata": {},
   "outputs": [],
   "source": []
  }
 ],
 "metadata": {
  "kernelspec": {
   "display_name": "LSST",
   "language": "python",
   "name": "lsst"
  },
  "language_info": {
   "codemirror_mode": {
    "name": "ipython",
    "version": 3
   },
   "file_extension": ".py",
   "mimetype": "text/x-python",
   "name": "python",
   "nbconvert_exporter": "python",
   "pygments_lexer": "ipython3",
   "version": "3.12.9"
  }
 },
 "nbformat": 4,
 "nbformat_minor": 5
}
