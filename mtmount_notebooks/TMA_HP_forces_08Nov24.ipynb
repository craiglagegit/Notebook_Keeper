{
 "cells": [
  {
   "cell_type": "code",
   "execution_count": null,
   "id": "73f240f5-8e03-4918-952f-616ee150519b",
   "metadata": {
    "execution": {
     "iopub.execute_input": "2024-11-25T13:18:41.932181Z",
     "iopub.status.busy": "2024-11-25T13:18:41.932016Z",
     "iopub.status.idle": "2024-11-25T13:18:47.282824Z",
     "shell.execute_reply": "2024-11-25T13:18:47.282352Z",
     "shell.execute_reply.started": "2024-11-25T13:18:41.932166Z"
    }
   },
   "outputs": [],
   "source": [
    "import matplotlib.pyplot as plt\n",
    "import numpy as np\n",
    "import pandas as pd\n",
    "from astropy.time import Time\n",
    "from lsst.summit.utils.tmaUtils import TMAEventMaker, plotEvent\n",
    "from lsst.summit.utils.efdUtils import makeEfdClient\n",
    "from lsst.ts.observing.utilities.decorated_logger import DecoratedLogger\n",
    "logger = DecoratedLogger.get_decorated_logger()"
   ]
  },
  {
   "cell_type": "code",
   "execution_count": null,
   "id": "ab43d70a-9126-4112-8953-a126e4fdcfcb",
   "metadata": {
    "execution": {
     "iopub.execute_input": "2024-11-25T13:18:47.283971Z",
     "iopub.status.busy": "2024-11-25T13:18:47.283508Z",
     "iopub.status.idle": "2024-11-25T13:18:48.055745Z",
     "shell.execute_reply": "2024-11-25T13:18:48.055324Z",
     "shell.execute_reply.started": "2024-11-25T13:18:47.283956Z"
    }
   },
   "outputs": [],
   "source": [
    "client = makeEfdClient()\n",
    "eventMaker = TMAEventMaker()"
   ]
  },
  {
   "cell_type": "code",
   "execution_count": null,
   "id": "f37d6449-d4a7-4a32-af6a-826694a3b79c",
   "metadata": {
    "execution": {
     "iopub.execute_input": "2024-11-25T13:19:14.915439Z",
     "iopub.status.busy": "2024-11-25T13:19:14.915096Z",
     "iopub.status.idle": "2024-11-25T13:19:15.128959Z",
     "shell.execute_reply": "2024-11-25T13:19:15.128505Z",
     "shell.execute_reply.started": "2024-11-25T13:19:14.915414Z"
    }
   },
   "outputs": [],
   "source": [
    "# Tracking\n",
    "#dayObs = 20241107\n",
    "#seqNum = 25\n",
    "# Gentle slew\n",
    "#dayObs = 20241107\n",
    "#seqNum = 90\n",
    "# Aggressive slew\n",
    "#dayObs = 20240102\n",
    "#seqNum = 1308\n",
    "# 5%\n",
    "#dayObs = 20241115\n",
    "#seqNum = 173\n",
    "# 5%\n",
    "#dayObs = 20241117\n",
    "#seqNum = 398\n",
    "# 5%\n",
    "dayObs = 20241122\n",
    "seqNum = 245\n",
    "\n",
    "event = eventMaker.getEvent(dayObs, seqNum)\n",
    "print(event)\n",
    "print(event.begin.isot)\n",
    "print(event.duration)"
   ]
  },
  {
   "cell_type": "code",
   "execution_count": null,
   "id": "f12076b0-fe5d-4606-ad6b-3a08b47854ac",
   "metadata": {
    "execution": {
     "iopub.execute_input": "2024-11-25T13:19:18.215093Z",
     "iopub.status.busy": "2024-11-25T13:19:18.214811Z",
     "iopub.status.idle": "2024-11-25T13:19:19.302394Z",
     "shell.execute_reply": "2024-11-25T13:19:19.301990Z",
     "shell.execute_reply.started": "2024-11-25T13:19:18.215077Z"
    }
   },
   "outputs": [],
   "source": [
    "delta1 = 3.0 / 86400.0\n",
    "delta2 = 55.0 / 86400.0\n",
    "\n",
    "fig = plt.figure(figsize=(10, 8))\n",
    "x = plotEvent(client, event, fig, doFilterResiduals=True)\n",
    "\"\"\"\n",
    "axs = x.get_axes()\n",
    "#for i in range(3):\n",
    "(t1, t2) = axs[2].get_xlim()\n",
    "print(t1, t2)\n",
    "t1 += delta1\n",
    "t2 -= delta2\n",
    "print(t1, t2)\n",
    "axs[2].set_xlim(t1, t2)\n",
    "\"\"\"\n",
    "#plt.savefig(f\"/home/c/cslage/u/MTMount/mount_plots/Slew_Plot_{dayObs}_{seqNum}.png\")"
   ]
  },
  {
   "cell_type": "code",
   "execution_count": null,
   "id": "6d7fb014-b64f-444b-b114-f549918d093a",
   "metadata": {},
   "outputs": [],
   "source": []
  }
 ],
 "metadata": {
  "kernelspec": {
   "display_name": "LSST",
   "language": "python",
   "name": "lsst"
  },
  "language_info": {
   "codemirror_mode": {
    "name": "ipython",
    "version": 3
   },
   "file_extension": ".py",
   "mimetype": "text/x-python",
   "name": "python",
   "nbconvert_exporter": "python",
   "pygments_lexer": "ipython3",
   "version": "3.12.11"
  }
 },
 "nbformat": 4,
 "nbformat_minor": 5
}
