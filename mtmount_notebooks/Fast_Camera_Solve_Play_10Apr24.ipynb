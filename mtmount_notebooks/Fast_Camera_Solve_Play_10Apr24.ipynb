{
 "cells": [
  {
   "cell_type": "code",
   "execution_count": null,
   "id": "e8377f55-8bfb-4c27-b2b3-9e39f7e72919",
   "metadata": {
    "execution": {
     "iopub.execute_input": "2024-04-10T14:46:47.907020Z",
     "iopub.status.busy": "2024-04-10T14:46:47.906893Z",
     "iopub.status.idle": "2024-04-10T14:46:48.487719Z",
     "shell.execute_reply": "2024-04-10T14:46:48.487280Z",
     "shell.execute_reply.started": "2024-04-10T14:46:47.907007Z"
    }
   },
   "outputs": [],
   "source": [
    "import sys, time, os, asyncio, glob\n",
    "import numpy as np\n",
    "import pandas as pd\n",
    "import matplotlib.pyplot as plt\n",
    "from matplotlib.backends.backend_pdf import PdfPages\n",
    "from astropy.time import Time, TimeDelta\n"
   ]
  },
  {
   "cell_type": "code",
   "execution_count": null,
   "id": "ac6d7b78-f4e6-48d3-b5c4-c940e43a9577",
   "metadata": {
    "execution": {
     "iopub.execute_input": "2024-04-10T17:46:57.052415Z",
     "iopub.status.busy": "2024-04-10T17:46:57.052186Z",
     "iopub.status.idle": "2024-04-10T17:46:57.059509Z",
     "shell.execute_reply": "2024-04-10T17:46:57.059040Z",
     "shell.execute_reply.started": "2024-04-10T17:46:57.052398Z"
    }
   },
   "outputs": [],
   "source": [
    "from lsst.summit.extras.fastStarTrackerAnalysis import getRegularSequences\n",
    "dayObs = 20240404\n",
    "files = getRegularSequences(dayObs)"
   ]
  },
  {
   "cell_type": "code",
   "execution_count": null,
   "id": "8e73e2d9-afd2-4313-a029-2151a7ced65b",
   "metadata": {
    "execution": {
     "iopub.execute_input": "2024-04-10T15:10:09.190539Z",
     "iopub.status.busy": "2024-04-10T15:10:09.189978Z",
     "iopub.status.idle": "2024-04-10T15:10:09.193442Z",
     "shell.execute_reply": "2024-04-10T15:10:09.193087Z",
     "shell.execute_reply.started": "2024-04-10T15:10:09.190520Z"
    }
   },
   "outputs": [],
   "source": [
    "files[7][1]"
   ]
  },
  {
   "cell_type": "code",
   "execution_count": null,
   "id": "ab56e519-1155-419c-9500-36a57ff5a19c",
   "metadata": {
    "execution": {
     "iopub.execute_input": "2024-04-10T15:10:59.050155Z",
     "iopub.status.busy": "2024-04-10T15:10:59.049948Z",
     "iopub.status.idle": "2024-04-10T15:10:59.052601Z",
     "shell.execute_reply": "2024-04-10T15:10:59.052186Z",
     "shell.execute_reply.started": "2024-04-10T15:10:59.050139Z"
    }
   },
   "outputs": [],
   "source": [
    "from lsst.summit.utils.starTracker import fitsToExp"
   ]
  },
  {
   "cell_type": "code",
   "execution_count": null,
   "id": "c4740eed-c69d-418e-885a-a5c80fbe61f4",
   "metadata": {
    "execution": {
     "iopub.execute_input": "2024-04-10T15:11:19.072911Z",
     "iopub.status.busy": "2024-04-10T15:11:19.072575Z",
     "iopub.status.idle": "2024-04-10T15:11:19.081014Z",
     "shell.execute_reply": "2024-04-10T15:11:19.080575Z",
     "shell.execute_reply.started": "2024-04-10T15:11:19.072896Z"
    }
   },
   "outputs": [],
   "source": [
    "exp = fitsToExp(files[7][1])"
   ]
  },
  {
   "cell_type": "code",
   "execution_count": null,
   "id": "aea23a35-b1d3-43e6-8d25-a05fdadff47b",
   "metadata": {
    "execution": {
     "iopub.execute_input": "2024-04-10T15:12:01.856587Z",
     "iopub.status.busy": "2024-04-10T15:12:01.856381Z",
     "iopub.status.idle": "2024-04-10T15:12:01.859063Z",
     "shell.execute_reply": "2024-04-10T15:12:01.858764Z",
     "shell.execute_reply.started": "2024-04-10T15:12:01.856572Z"
    }
   },
   "outputs": [],
   "source": [
    "wcs = exp.getWcs()"
   ]
  },
  {
   "cell_type": "code",
   "execution_count": null,
   "id": "42f193ff-142b-41d6-a4b2-8cc56a68d8cd",
   "metadata": {
    "execution": {
     "iopub.execute_input": "2024-04-10T15:13:52.757124Z",
     "iopub.status.busy": "2024-04-10T15:13:52.756912Z",
     "iopub.status.idle": "2024-04-10T15:13:52.759824Z",
     "shell.execute_reply": "2024-04-10T15:13:52.759394Z",
     "shell.execute_reply.started": "2024-04-10T15:13:52.757108Z"
    }
   },
   "outputs": [],
   "source": [
    "metaData = exp.getMetadata()\n",
    "for key in metaData.keys():\n",
    "    print(key, metaData[key])"
   ]
  },
  {
   "cell_type": "code",
   "execution_count": null,
   "id": "c5a3635c-7d6c-44ca-8275-914e5a3dab03",
   "metadata": {
    "execution": {
     "iopub.execute_input": "2024-04-10T15:15:27.675793Z",
     "iopub.status.busy": "2024-04-10T15:15:27.675578Z",
     "iopub.status.idle": "2024-04-10T15:15:27.678140Z",
     "shell.execute_reply": "2024-04-10T15:15:27.677769Z",
     "shell.execute_reply.started": "2024-04-10T15:15:27.675778Z"
    }
   },
   "outputs": [],
   "source": [
    "for key in metaData.keys():\n",
    "    print(key)"
   ]
  },
  {
   "cell_type": "code",
   "execution_count": null,
   "id": "6c8f6dac-aa4d-429c-966d-1ed922adf8d8",
   "metadata": {
    "execution": {
     "iopub.execute_input": "2024-04-10T17:47:19.295514Z",
     "iopub.status.busy": "2024-04-10T17:47:19.295006Z",
     "iopub.status.idle": "2024-04-10T17:47:20.932738Z",
     "shell.execute_reply": "2024-04-10T17:47:20.932409Z",
     "shell.execute_reply.started": "2024-04-10T17:47:19.295499Z"
    },
    "jupyter": {
     "outputs_hidden": true
    }
   },
   "outputs": [],
   "source": [
    "from lsst.summit.extras.fastStarTrackerAnalysis import findFastStarTrackerImageSources, plotSourcesOnImage, plotSourceMovement\n",
    "\n",
    "toProcess = files[380:445]  # grab the subset of files he used\n",
    "\n",
    "# hold all the results. Doesn't matter what you use as the keys as the individual\n",
    "# results themselves know what dayObs, seqNum and frameNum they came from\n",
    "results = {}\n",
    "for fileNum, file in toProcess:\n",
    "    print(fileNum, file)\n",
    "    result = findFastStarTrackerImageSources(file, boxSize=50)\n",
    "    results[fileNum] = result\n",
    "\n",
    "#figures = plotSourceMovement(results, allowInconsistent=True)\n"
   ]
  },
  {
   "cell_type": "code",
   "execution_count": null,
   "id": "d69b8a92-4bd1-4a35-bf64-660c13cadfa1",
   "metadata": {
    "execution": {
     "iopub.execute_input": "2024-04-10T17:51:39.354499Z",
     "iopub.status.busy": "2024-04-10T17:51:39.354199Z",
     "iopub.status.idle": "2024-04-10T17:51:39.357773Z",
     "shell.execute_reply": "2024-04-10T17:51:39.357399Z",
     "shell.execute_reply.started": "2024-04-10T17:51:39.354484Z"
    }
   },
   "outputs": [],
   "source": [
    "results[442][0]"
   ]
  },
  {
   "cell_type": "code",
   "execution_count": null,
   "id": "970bb062-e237-4043-af70-ed6b21a509bb",
   "metadata": {
    "execution": {
     "iopub.execute_input": "2024-04-10T16:12:59.191202Z",
     "iopub.status.busy": "2024-04-10T16:12:59.190865Z",
     "iopub.status.idle": "2024-04-10T16:12:59.193841Z",
     "shell.execute_reply": "2024-04-10T16:12:59.193536Z",
     "shell.execute_reply.started": "2024-04-10T16:12:59.191186Z"
    }
   },
   "outputs": [],
   "source": [
    "len(results)"
   ]
  },
  {
   "cell_type": "code",
   "execution_count": null,
   "id": "070ad777-4cc7-4f5c-8720-02ed4c842413",
   "metadata": {
    "execution": {
     "iopub.execute_input": "2024-04-10T14:51:22.290349Z",
     "iopub.status.busy": "2024-04-10T14:51:22.290138Z",
     "iopub.status.idle": "2024-04-10T14:51:22.294712Z",
     "shell.execute_reply": "2024-04-10T14:51:22.294429Z",
     "shell.execute_reply.started": "2024-04-10T14:51:22.290330Z"
    }
   },
   "outputs": [],
   "source": [
    "from pathlib import Path\n",
    "dataDir = Path(\"./plots\")\n",
    "dataDir.mkdir(exist_ok=True, parents=True)"
   ]
  },
  {
   "cell_type": "code",
   "execution_count": null,
   "id": "3b5479f1-08e8-4c33-86d5-af6bb5e799bc",
   "metadata": {
    "execution": {
     "iopub.execute_input": "2024-04-10T14:51:25.864392Z",
     "iopub.status.busy": "2024-04-10T14:51:25.864035Z",
     "iopub.status.idle": "2024-04-10T14:51:26.068711Z",
     "shell.execute_reply": "2024-04-10T14:51:26.068341Z",
     "shell.execute_reply.started": "2024-04-10T14:51:25.864377Z"
    }
   },
   "outputs": [],
   "source": [
    "figures[0].savefig(dataDir / 'xyMovement.png')\n",
    "figures[1].savefig(dataDir / '2dPlot.png')"
   ]
  },
  {
   "cell_type": "code",
   "execution_count": null,
   "id": "df581603-85c7-4bc7-80e3-e80c61d35c0a",
   "metadata": {
    "execution": {
     "iopub.execute_input": "2024-04-10T15:34:34.314272Z",
     "iopub.status.busy": "2024-04-10T15:34:34.314079Z",
     "iopub.status.idle": "2024-04-10T15:34:34.317473Z",
     "shell.execute_reply": "2024-04-10T15:34:34.317109Z",
     "shell.execute_reply.started": "2024-04-10T15:34:34.314258Z"
    }
   },
   "outputs": [],
   "source": [
    "fastPlateScale = 0.67 # arcsec/pixel\n",
    "cenXs = []\n",
    "cenYs = []\n",
    "seqNums = []\n",
    "for seqNum in results.keys():\n",
    "    cenXs.append(results[seqNum][0].centroidX)\n",
    "    cenYs.append(results[seqNum][0].centroidY)\n",
    "    seqNums.append(seqNum)\n",
    "cenXs = np.array(cenXs) * fastPlateScale\n",
    "cenYs = np.array(cenYs) * fastPlateScale"
   ]
  },
  {
   "cell_type": "code",
   "execution_count": null,
   "id": "655e118c-228a-43c3-a7f7-930e314c08e5",
   "metadata": {
    "execution": {
     "iopub.execute_input": "2024-04-10T15:34:37.464410Z",
     "iopub.status.busy": "2024-04-10T15:34:37.464206Z",
     "iopub.status.idle": "2024-04-10T15:34:37.540665Z",
     "shell.execute_reply": "2024-04-10T15:34:37.540301Z",
     "shell.execute_reply.started": "2024-04-10T15:34:37.464395Z"
    }
   },
   "outputs": [],
   "source": [
    "%matplotlib inline\n",
    "plt.plot(seqNums, cenYs)\n",
    "plt.show()"
   ]
  },
  {
   "cell_type": "code",
   "execution_count": null,
   "id": "13a399ee-f11f-424d-b2c8-f75c6952ff2c",
   "metadata": {},
   "outputs": [],
   "source": []
  }
 ],
 "metadata": {
  "kernelspec": {
   "display_name": "LSST",
   "language": "python",
   "name": "lsst"
  },
  "language_info": {
   "codemirror_mode": {
    "name": "ipython",
    "version": 3
   },
   "file_extension": ".py",
   "mimetype": "text/x-python",
   "name": "python",
   "nbconvert_exporter": "python",
   "pygments_lexer": "ipython3",
   "version": "3.11.7"
  }
 },
 "nbformat": 4,
 "nbformat_minor": 5
}
