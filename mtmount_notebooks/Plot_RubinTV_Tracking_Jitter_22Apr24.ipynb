{
 "cells": [
  {
   "cell_type": "markdown",
   "id": "d9e95b1e-5d96-4ceb-a634-45d830a2e26e",
   "metadata": {},
   "source": [
    "# Plot a histogram of TMA tracking jitter from RubinTV.\n",
    "Craig Lage - 22-Apr-24\n"
   ]
  },
  {
   "cell_type": "markdown",
   "id": "5d4f88a6-0f11-4fee-bd62-e1ab33acaf08",
   "metadata": {},
   "source": [
    "# Prepare the notebook"
   ]
  },
  {
   "cell_type": "code",
   "execution_count": null,
   "id": "ce557368-629b-4b0b-b3a5-e6bba79813c7",
   "metadata": {
    "tags": []
   },
   "outputs": [],
   "source": [
    "# Directory to store the data\n",
    "from pathlib import Path\n",
    "dataDir = Path(\"./plots\")\n",
    "dataDir.mkdir(exist_ok=True, parents=True)\n",
    "\n",
    "# These are the nights when the tests were run\n",
    "firstDayObs = 20240409\n",
    "lastDayObs = 20240421"
   ]
  },
  {
   "cell_type": "code",
   "execution_count": null,
   "id": "1e44aafe-c1bf-4aff-b979-510ab19b71a7",
   "metadata": {},
   "outputs": [],
   "source": [
    "import sys, time, os, asyncio, glob\n",
    "import numpy as np\n",
    "import pandas as pd\n",
    "import matplotlib.pyplot as plt\n",
    "from astropy.time import Time, TimeDelta\n",
    "from lsst.summit.utils.utils import dayObsIntToString\n",
    "from lsst.summit.utils.efdUtils import calcNextDay\n",
    "%matplotlib inline"
   ]
  },
  {
   "cell_type": "markdown",
   "id": "d2f7ee8f-f171-49f8-8f10-69f11e5d2685",
   "metadata": {},
   "source": [
    "### This uses the json metadata from RubinTV, which contains the astrometric solutions for the StarTracker exposures.  You need to download the metadata for each dayObs and put it in a location where the program can find it."
   ]
  },
  {
   "cell_type": "code",
   "execution_count": null,
   "id": "d503c178-f472-4c55-a3e2-3a4b134ea56a",
   "metadata": {},
   "outputs": [],
   "source": [
    "rmsError = []\n",
    "dayObs = firstDayObs\n",
    "while dayObs <= lastDayObs:\n",
    "    try:\n",
    "        dayObsString = dayObsIntToString(dayObs)\n",
    "        filename = f'../json_metadata/tma_{dayObsString}.json'\n",
    "        jsonData = pd.read_json(filename).T\n",
    "        jsonData = jsonData.sort_index()\n",
    "        values = jsonData['Tracking image impact'].values\n",
    "        for value in values:\n",
    "            if not np.isnan(float(value)):\n",
    "                rmsError.append(float(value))\n",
    "        dayObs = calcNextDay(dayObs)\n",
    "    except:\n",
    "        dayObs = calcNextDay(dayObs)\n",
    "        continue\n",
    "print(f\" There are {len(rmsError)} valid tracking events.\")        "
   ]
  },
  {
   "cell_type": "code",
   "execution_count": null,
   "id": "13ed10c5-a4d8-4687-836c-3e07d1ef5b43",
   "metadata": {},
   "outputs": [],
   "source": [
    "%matplotlib inline\n",
    "fig, ax = plt.subplots(1,1,figsize=(5,5))\n",
    "rmsError = np.array(rmsError)\n",
    "goodRms = rmsError[rmsError < 0.01]\n",
    "percentGoodRms = len(goodRms) / len(rmsError) * 100.0\n",
    "rmsMed = np.nanmedian(rmsError)\n",
    "ax.set_title(f\"Tracking jitter {firstDayObs}-{lastDayObs}.\\nN={len(rmsError)}, Median={rmsMed:.3f}, Less than 0.01 = {percentGoodRms:.1f} %\")\n",
    "ax.hist(rmsError, range=(0,0.1), bins=100)\n",
    "ax.axvline(0.01, color='black', ls = '--')\n",
    "ax.set_xlim(0,0.05)\n",
    "ax.set_xlabel(\"RMS Jitter (arcseconds)\")\n",
    "plt.savefig(str(dataDir / f\"Jitter_Summary_{firstDayObs}-{lastDayObs}.png\"))"
   ]
  },
  {
   "cell_type": "code",
   "execution_count": null,
   "id": "acceb878-e152-4b7e-b16d-ea45676493de",
   "metadata": {},
   "outputs": [],
   "source": []
  }
 ],
 "metadata": {
  "kernelspec": {
   "display_name": "LSST",
   "language": "python",
   "name": "lsst"
  },
  "language_info": {
   "codemirror_mode": {
    "name": "ipython",
    "version": 3
   },
   "file_extension": ".py",
   "mimetype": "text/x-python",
   "name": "python",
   "nbconvert_exporter": "python",
   "pygments_lexer": "ipython3",
   "version": "3.11.7"
  }
 },
 "nbformat": 4,
 "nbformat_minor": 5
}
