{
 "cells": [
  {
   "cell_type": "code",
   "execution_count": null,
   "metadata": {
    "tags": []
   },
   "outputs": [],
   "source": [
    "import sys, time, os, asyncio, glob\n",
    "from datetime import datetime\n",
    "import numpy as np\n",
    "import matplotlib.pyplot as plt\n",
    "import pickle as pkl\n",
    "from astropy.time import Time, TimeDelta\n",
    "from scipy.interpolate import UnivariateSpline\n",
    "from lsst_efd_client import EfdClient"
   ]
  },
  {
   "cell_type": "code",
   "execution_count": null,
   "metadata": {
    "tags": []
   },
   "outputs": [],
   "source": [
    "client = EfdClient('usdf_efd')"
   ]
  },
  {
   "cell_type": "code",
   "execution_count": null,
   "metadata": {
    "tags": []
   },
   "outputs": [],
   "source": [
    "start = Time(\"2023-06-28T01:05:00\", scale='utc')\n",
    "end = Time(\"2023-06-28T01:25:00\", scale='utc')\n",
    "\n",
    "az = await client.select_time_series('lsst.sal.MTMount.azimuth', \\\n",
    "                                            ['*'],  start, end)\n",
    "el = await client.select_time_series('lsst.sal.MTMount.elevation', \\\n",
    "                                            ['*'],  start, end)\n",
    "\n",
    "state = await client.select_time_series('lsst.sal.MTMount.logevent_summaryState', ['*'], start, end)\n",
    "\n",
    "print(len(az), len(el), len(state))"
   ]
  },
  {
   "cell_type": "code",
   "execution_count": null,
   "metadata": {},
   "outputs": [],
   "source": [
    "fig, ax = plt.subplots(1,1,figsize=(5,5))\n",
    "el['actualTorque'].plot(ax=ax)\n",
    "ax.set_ylim(-500000, 500000)\n",
    "for ind in range(len(state)):\n",
    "    if state.iloc[ind]['summaryState'] == 2:\n",
    "        color='green'\n",
    "        label=\"ENABLED\"\n",
    "    if state.iloc[ind]['summaryState'] == 1:\n",
    "        color='red'\n",
    "        label=\"DISABLED\"\n",
    "        \n",
    "    ax.vlines(state.index[ind], -500000, 500000, ls = '--', color=color, label=label)\n",
    "ax.set_ylabel(\"Elevation torque(Nm)\")\n",
    "ax.legend()"
   ]
  },
  {
   "cell_type": "code",
   "execution_count": null,
   "metadata": {},
   "outputs": [],
   "source": []
  }
 ],
 "metadata": {
  "kernelspec": {
   "display_name": "LSST",
   "language": "python",
   "name": "lsst"
  },
  "language_info": {
   "codemirror_mode": {
    "name": "ipython",
    "version": 3
   },
   "file_extension": ".py",
   "mimetype": "text/x-python",
   "name": "python",
   "nbconvert_exporter": "python",
   "pygments_lexer": "ipython3",
   "version": "3.11.9"
  }
 },
 "nbformat": 4,
 "nbformat_minor": 4
}
