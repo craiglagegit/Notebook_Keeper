{
 "cells": [
  {
   "cell_type": "markdown",
   "metadata": {},
   "source": [
    "# Hexapod currents and Rotator torques\n",
    "\n",
    "The purpose of this notebook is to compare the hexapod forces (as measured by the strut currents) and the rotator torques between the LSSTCam and the ComCam.  LSSTCam has additional vacuum insulated pipes (VIP) that could cause additional torques.\n",
    "\n",
    "Craig Lage - 03-Mar-25 \n"
   ]
  },
  {
   "cell_type": "code",
   "execution_count": null,
   "metadata": {
    "execution": {
     "iopub.execute_input": "2025-03-05T11:49:45.087061Z",
     "iopub.status.busy": "2025-03-05T11:49:45.086939Z",
     "iopub.status.idle": "2025-03-05T11:49:45.802386Z",
     "shell.execute_reply": "2025-03-05T11:49:45.801998Z",
     "shell.execute_reply.started": "2025-03-05T11:49:45.087047Z"
    },
    "tags": []
   },
   "outputs": [],
   "source": [
    "import sys, time, os, asyncio, glob\n",
    "import shlex, subprocess\n",
    "from datetime import datetime\n",
    "import numpy as np\n",
    "import matplotlib.pyplot as plt\n",
    "from matplotlib.patches import Circle, Rectangle\n",
    "from astropy.time import Time, TimeDelta\n",
    "from lsst_efd_client import EfdClient\n",
    "from matplotlib.backends.backend_pdf import PdfPages"
   ]
  },
  {
   "cell_type": "code",
   "execution_count": null,
   "metadata": {
    "execution": {
     "iopub.execute_input": "2025-03-05T11:49:45.803244Z",
     "iopub.status.busy": "2025-03-05T11:49:45.802844Z",
     "iopub.status.idle": "2025-03-05T11:49:46.299913Z",
     "shell.execute_reply": "2025-03-05T11:49:46.299487Z",
     "shell.execute_reply.started": "2025-03-05T11:49:45.803223Z"
    }
   },
   "outputs": [],
   "source": [
    "client = EfdClient('usdf_efd')"
   ]
  },
  {
   "cell_type": "markdown",
   "metadata": {},
   "source": [
    "## Set up the necessary subroutines"
   ]
  },
  {
   "cell_type": "code",
   "execution_count": null,
   "metadata": {
    "execution": {
     "iopub.execute_input": "2025-03-05T11:54:06.814879Z",
     "iopub.status.busy": "2025-03-05T11:54:06.814321Z",
     "iopub.status.idle": "2025-03-05T11:54:06.820756Z",
     "shell.execute_reply": "2025-03-05T11:54:06.820377Z",
     "shell.execute_reply.started": "2025-03-05T11:54:06.814862Z"
    },
    "tags": []
   },
   "outputs": [],
   "source": [
    "def plotHexapod(df_position, df_current, fig, smooth_currents=False):\n",
    "    hexes = ['X', 'Y', 'Z', 'U', 'V', 'W']\n",
    "    axs = []\n",
    "    plotCounter = 1\n",
    "    for i in range(3):\n",
    "        axs.append([])\n",
    "        for j in range(4):\n",
    "            axs[i].append(fig.add_subplot(3,4,plotCounter))\n",
    "            plotCounter += 1\n",
    "    plt.subplots_adjust(wspace=0.5, hspace=1.5)\n",
    "    for i in range(3):\n",
    "        for j in range(4):\n",
    "            if j < 2:\n",
    "                counter = 3 * j + i\n",
    "                name = f\"position{counter}\"\n",
    "                axs[i][j].set_title(f\"Position {hexes[counter]}\")\n",
    "                df_position[name].plot(ax=axs[i][j], color='blue')\n",
    "            else:\n",
    "                counter = 3 * (j - 2) + i\n",
    "                name = f\"motorCurrent{counter}\"\n",
    "                axs[i][j].set_title(f\"Current {counter}\")\n",
    "                if smooth_currents:\n",
    "                    test = df_current[name].rolling(10).sum() / 10.0\n",
    "                    test.plot(ax=axs[i][j], color='green')\n",
    "                else:\n",
    "                    df_current[name].plot(ax=axs[i][j], color='green')\n",
    "    return\n",
    "\n",
    "def plotRotator(df_position, df_current, fig, smooth_torques=False):\n",
    "    ax1 = fig.add_subplot(1, 2, 1)\n",
    "    ax2 = fig.add_subplot(1, 2, 2)\n",
    "    plt.subplots_adjust(wspace=0.5, hspace=0.5)\n",
    "    ax1.set_title(\"Rotator Position (degrees)\")\n",
    "    df_position['actualPosition'].plot(ax=ax1, color='blue')\n",
    "    ax2.set_title(\"Rotator Torques (Nm)\")\n",
    "    if smooth_torques:\n",
    "        test0 = df_current['torque0'].rolling(10).sum() / 10.0\n",
    "        test1 = df_current['torque1'].rolling(10).sum() / 10.0\n",
    "        test0.plot(ax=ax2, color='green')\n",
    "        test1.plot(ax=ax2, color='orange')\n",
    "    else:\n",
    "        df_current['torque0'].plot(ax=ax2, color='green')\n",
    "        df_current['torque1'].plot(ax=ax2, color='orange')\n",
    "    return"
   ]
  },
  {
   "cell_type": "markdown",
   "metadata": {},
   "source": [
    "## First the hexapod positions and strut currents"
   ]
  },
  {
   "cell_type": "code",
   "execution_count": null,
   "metadata": {},
   "outputs": [],
   "source": [
    "# LSSTCam Hexapod testing with no rotations\n",
    "start = Time(\"2025-02-26T15:00:00Z\", scale='utc')\n",
    "end = Time(\"2025-02-26T19:00:00Z\", scale='utc')\n",
    "\n",
    "camhex = await client.select_time_series('lsst.sal.MTHexapod.application', ['*'], start, end, index=1)\n",
    "camhex_currents = await client.select_time_series('lsst.sal.MTHexapod.electrical', ['*'], start, end, index=1)\n",
    "print(len(camhex), len(camhex_currents))\n",
    "\n",
    "fig = plt.figure(figsize=(10, 5))\n",
    "plotHexapod(camhex, camhex_currents, fig)\n",
    "plt.suptitle(\"LSSTCam Testing 2025-02-26\", fontsize = 18)\n",
    "plt.savefig(f'/home/c/cslage/u/Hexapods/torques/LSSTCam_2025-02-26.png')"
   ]
  },
  {
   "cell_type": "code",
   "execution_count": null,
   "metadata": {},
   "outputs": [],
   "source": [
    "# LSSTCam Hexapod testing with maximal rotations\n",
    "start = Time(\"2025-02-27T13:00:00Z\", scale='utc')\n",
    "end = Time(\"2025-02-27T18:00:00Z\", scale='utc')\n",
    "\n",
    "camhex = await client.select_time_series('lsst.sal.MTHexapod.application', ['*'], start, end, index=1)\n",
    "camhex_currents = await client.select_time_series('lsst.sal.MTHexapod.electrical', ['*'], start, end, index=1)\n",
    "print(len(camhex), len(camhex_currents))\n",
    "\n",
    "fig = plt.figure(figsize=(10, 5))\n",
    "plotHexapod(camhex, camhex_currents, fig)\n",
    "plt.suptitle(\"LSSTCam Testing 2025-02-27\", fontsize = 18)\n",
    "plt.savefig(f'/home/c/cslage/u/Hexapods/torques/LSSTCam_2025-02-27.png')"
   ]
  },
  {
   "cell_type": "code",
   "execution_count": null,
   "metadata": {},
   "outputs": [],
   "source": [
    "# Typical ComCam observing night.\n",
    "start = Time(\"2024-12-12T05:00:00Z\", scale='utc')\n",
    "end = Time(\"2024-12-12T07:00:00Z\", scale='utc')\n",
    "\n",
    "camhex = await client.select_time_series('lsst.sal.MTHexapod.application', ['*'], start, end, index=1)\n",
    "camhex_currents = await client.select_time_series('lsst.sal.MTHexapod.electrical', ['*'], start, end, index=1)\n",
    "print(len(camhex), len(camhex_currents))\n",
    "\n",
    "fig = plt.figure(figsize=(10, 5))\n",
    "plotHexapod(camhex, camhex_currents, fig)\n",
    "plt.suptitle(\"ComCam observing 2024-12-11\", fontsize = 18)\n",
    "plt.savefig(f'/home/c/cslage/u/Hexapods/torques/ComCam_2024-12-11.png')"
   ]
  },
  {
   "cell_type": "code",
   "execution_count": null,
   "metadata": {},
   "outputs": [],
   "source": [
    "# Blowup of LSSTCam Hexapod testing with no rotations\n",
    "start = Time(\"2025-02-26T17:37:00Z\", scale='utc')\n",
    "end = Time(\"2025-02-26T17:39:00Z\", scale='utc')\n",
    "\n",
    "camhex = await client.select_time_series('lsst.sal.MTHexapod.application', ['*'], start, end, index=1)\n",
    "camhex_currents = await client.select_time_series('lsst.sal.MTHexapod.electrical', ['*'], start, end, index=1)\n",
    "print(len(camhex), len(camhex_currents))\n",
    "\n",
    "fig = plt.figure(figsize=(10, 5))\n",
    "plotHexapod(camhex, camhex_currents, fig)\n",
    "plt.suptitle(\"LSSTCam Testing 2025-02-26\", fontsize = 18)\n",
    "plt.savefig(f'/home/c/cslage/u/Hexapods/torques/LSSTCam_Blowup_2025-02-26.png')"
   ]
  },
  {
   "cell_type": "markdown",
   "metadata": {},
   "source": [
    "## Next the rotator positions and torques"
   ]
  },
  {
   "cell_type": "code",
   "execution_count": null,
   "metadata": {},
   "outputs": [],
   "source": [
    "# Typical ComCam observing night.\n",
    "start = Time(\"2024-12-12T05:00:00Z\", scale='utc')\n",
    "end = Time(\"2024-12-12T07:00:00Z\", scale='utc')\n",
    "\n",
    "rot = await client.select_time_series('lsst.sal.MTRotator.rotation', ['*'], start, end)\n",
    "mot = await client.select_time_series('lsst.sal.MTRotator.motors', ['*'], start, end)\n",
    "\n",
    "fig = plt.figure(figsize=(10, 5))\n",
    "plotRotator(rot, mot, fig)\n",
    "plt.suptitle(\"ComCam observing 2024-12-11\", fontsize = 18)\n",
    "plt.savefig(f'/home/c/cslage/u/Hexapods/torques/ComCam_Rotator_2024-12-11.png')"
   ]
  },
  {
   "cell_type": "code",
   "execution_count": null,
   "metadata": {},
   "outputs": [],
   "source": [
    "# Typical ComCam observing night.\n",
    "start = Time(\"2024-12-08T05:00:00Z\", scale='utc')\n",
    "end = Time(\"2024-12-08T10:00:00Z\", scale='utc')\n",
    "\n",
    "rot = await client.select_time_series('lsst.sal.MTRotator.rotation', ['*'], start, end)\n",
    "mot = await client.select_time_series('lsst.sal.MTRotator.motors', ['*'], start, end)\n",
    "\n",
    "fig = plt.figure(figsize=(10, 5))\n",
    "plotRotator(rot, mot, fig)\n",
    "plt.suptitle(\"ComCam observing 2024-12-07\", fontsize = 18)\n",
    "plt.savefig(f'/home/c/cslage/u/Hexapods/torques/ComCam_Rotator_2024-12-07.png')"
   ]
  },
  {
   "cell_type": "code",
   "execution_count": null,
   "metadata": {},
   "outputs": [],
   "source": [
    "# LSSTCam Hexapod testing with maximal rotations\n",
    "start = Time(\"2025-02-27T13:00:00Z\", scale='utc')\n",
    "end = Time(\"2025-02-27T18:00:00Z\", scale='utc')\n",
    "\n",
    "rot = await client.select_time_series('lsst.sal.MTRotator.rotation', ['*'], start, end)\n",
    "mot = await client.select_time_series('lsst.sal.MTRotator.motors', ['*'], start, end)\n",
    "\n",
    "fig = plt.figure(figsize=(10, 5))\n",
    "plotRotator(rot, mot, fig)\n",
    "plt.suptitle(\"LSSTCam Testing 2025-02-27\", fontsize = 18)\n",
    "plt.savefig(f'/home/c/cslage/u/Hexapods/torques/LSSTCam_2025-02-27.png')"
   ]
  },
  {
   "cell_type": "markdown",
   "metadata": {},
   "source": [
    "## Now make a pdf file with multiple time stamps"
   ]
  },
  {
   "cell_type": "code",
   "execution_count": null,
   "metadata": {},
   "outputs": [],
   "source": [
    "starts = ['2024-12-08T05:00:00Z', '2024-12-12T05:00:00Z', \n",
    "          '2025-02-26T15:00:00Z', '2025-02-27T13:00:00Z', \n",
    "          '2025-02-28T00:02:00Z', '2025-02-28T17:38:00Z', \n",
    "          '2025-02-28T17:57:00Z', '2025-03-01T13:35:00Z']\n",
    "          \n",
    "ends =   ['2024-12-08T10:00:00Z', '2024-12-12T07:00:00Z', \n",
    "          '2025-02-26T19:00:00Z', '2025-02-27T18:00:00Z', \n",
    "          '2025-02-28T01:39:00Z', '2025-02-28T17:49:00Z', \n",
    "          '2025-02-28T18:03:00Z', '2025-03-01T15:55:00Z']\n",
    "labels = ['ComCam', 'ComCam', 'LSSTCam_Test_1', \n",
    "          'LSSTCam_Test_2', 'LSSTCam_Test_3', 'LSSTCam_Test_4', \n",
    "          'LSSTCam_Test_5', 'LSSTCam_Test_6']\n",
    "\n",
    "pdf = PdfPages(\"/home/c/cslage/u/Hexapods/torques/SITCOM-1883_04Mar25.pdf\")\n",
    "fig = plt.figure(figsize=(10, 5))\n",
    "\n",
    "for i in range(len(starts)):\n",
    "    date = starts[i].split('T')[0]\n",
    "    start = Time(starts[i], scale='utc')\n",
    "    end = Time(ends[i], scale='utc')\n",
    "    camhex = await client.select_time_series('lsst.sal.MTHexapod.application', ['*'], start, end, index=1)\n",
    "    camhex_currents = await client.select_time_series('lsst.sal.MTHexapod.electrical', ['*'], start, end, index=1)\n",
    "    print('Hexapods', labels[i], date, len(camhex), len(camhex_currents))\n",
    "    plotHexapod(camhex, camhex_currents, fig)\n",
    "    title = 'Hexapods' + '_' + labels[i] + '_' + date\n",
    "    plt.suptitle(title, fontsize = 18)\n",
    "    pdf.savefig(fig)\n",
    "    plt.clf()\n",
    "    rot = await client.select_time_series('lsst.sal.MTRotator.rotation', ['*'], start, end)\n",
    "    mot = await client.select_time_series('lsst.sal.MTRotator.motors', ['*'], start, end)\n",
    "    print('Rotator', labels[i], date, len(rot), len(mot))\n",
    "    plotRotator(rot, mot, fig)\n",
    "    title = 'Rotator' + '_' + labels[i] + '_' + date\n",
    "    plt.suptitle(title, fontsize = 18)\n",
    "    pdf.savefig(fig)\n",
    "    plt.clf()\n",
    "pdf.close()\n",
    "print(f\"Plots completed and PDF closed\")"
   ]
  },
  {
   "cell_type": "markdown",
   "metadata": {},
   "source": [
    "## Below we are comparing hexapod warm-up ramps."
   ]
  },
  {
   "cell_type": "code",
   "execution_count": null,
   "metadata": {},
   "outputs": [],
   "source": [
    "# Hexapod warm-up - LSSTCam\n",
    "#start = Time(\"2025-02-27T22:05:00Z\", scale='utc')\n",
    "#end = Time(\"2025-02-27T22:25:00Z\", scale='utc')\n",
    "start = Time(\"2025-02-27T22:09:10Z\", scale='utc')\n",
    "end = Time(\"2025-02-27T22:09:14Z\", scale='utc')\n",
    "\n",
    "camhex = await client.select_time_series('lsst.sal.MTHexapod.application', ['*'], start, end, index=1)\n",
    "camhex_currents = await client.select_time_series('lsst.sal.MTHexapod.electrical', ['*'], start, end, index=1)\n",
    "\n",
    "fig = plt.figure(figsize=(10, 5))\n",
    "plotHexapod(camhex, camhex_currents, fig, smooth_currents=True)\n",
    "\n",
    "plt.suptitle(\"LSSTCam Hexapod Warm-up 2025-02-27\", fontsize = 18)\n",
    "plt.savefig(f'/home/c/cslage/u/Hexapods/torques/LSSTCam_Hexapod_Warm-up_2025-02-27.png')"
   ]
  },
  {
   "cell_type": "code",
   "execution_count": null,
   "metadata": {},
   "outputs": [],
   "source": [
    "# Hexapod warm-up - ComCam\n",
    "#start = Time(\"2024-12-06T18:04:00Z\", scale='utc')\n",
    "#end = Time(\"2024-12-06T18:17:00Z\", scale='utc')\n",
    "start = Time(\"2024-12-06T18:06:07Z\", scale='utc')\n",
    "end = Time(\"2024-12-06T18:06:11Z\", scale='utc')\n",
    "\n",
    "\n",
    "camhex = await client.select_time_series('lsst.sal.MTHexapod.application', ['*'], start, end, index=1)\n",
    "camhex_currents = await client.select_time_series('lsst.sal.MTHexapod.electrical', ['*'], start, end, index=1)\n",
    "\n",
    "fig = plt.figure(figsize=(10, 5))\n",
    "plotHexapod(camhex, camhex_currents, fig, smooth_currents=True)\n",
    "\n",
    "plt.suptitle(\"ComCam Hexapod Warm-up 2024-12-06\", fontsize = 18)\n",
    "plt.savefig(f'/home/c/cslage/u/Hexapods/torques/ComCam_Hexapod_Warm-up_2024-12-06.png')"
   ]
  },
  {
   "cell_type": "markdown",
   "metadata": {},
   "source": [
    "## Look at rotator torque asymmetry"
   ]
  },
  {
   "cell_type": "code",
   "execution_count": null,
   "metadata": {
    "execution": {
     "iopub.execute_input": "2025-03-05T11:58:53.667746Z",
     "iopub.status.busy": "2025-03-05T11:58:53.667413Z",
     "iopub.status.idle": "2025-03-05T11:58:54.304719Z",
     "shell.execute_reply": "2025-03-05T11:58:54.304288Z",
     "shell.execute_reply.started": "2025-03-05T11:58:53.667729Z"
    }
   },
   "outputs": [],
   "source": [
    "# LSSTCam Hexapod testing with maximal rotations\n",
    "start = Time(\"2025-02-27T15:04:00Z\", scale='utc')\n",
    "end = Time(\"2025-02-27T15:08:00Z\", scale='utc')\n",
    "\n",
    "rot = await client.select_time_series('lsst.sal.MTRotator.rotation', ['*'], start, end)\n",
    "mot = await client.select_time_series('lsst.sal.MTRotator.motors', ['*'], start, end)\n",
    "\n",
    "fig = plt.figure(figsize=(10, 5))\n",
    "plotRotator(rot, mot, fig, smooth_torques=True)\n",
    "plt.suptitle(\"LSSTCam Testing 2025-02-27\", fontsize = 18)\n",
    "plt.savefig(f'/home/c/cslage/u/Hexapods/torques/LSSTCam_Torque_Asym_2025-02-27.png')"
   ]
  },
  {
   "cell_type": "code",
   "execution_count": null,
   "metadata": {},
   "outputs": [],
   "source": []
  }
 ],
 "metadata": {
  "kernelspec": {
   "display_name": "LSST",
   "language": "python",
   "name": "lsst"
  },
  "language_info": {
   "codemirror_mode": {
    "name": "ipython",
    "version": 3
   },
   "file_extension": ".py",
   "mimetype": "text/x-python",
   "name": "python",
   "nbconvert_exporter": "python",
   "pygments_lexer": "ipython3",
   "version": "3.12.10"
  }
 },
 "nbformat": 4,
 "nbformat_minor": 4
}
