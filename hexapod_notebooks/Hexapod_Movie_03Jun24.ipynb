{
 "cells": [
  {
   "cell_type": "markdown",
   "metadata": {},
   "source": [
    "# Hexapod movies\n",
    "Craig Lage - 03-Jun-24 \\\n"
   ]
  },
  {
   "cell_type": "code",
   "execution_count": null,
   "metadata": {
    "execution": {
     "iopub.execute_input": "2024-06-03T22:18:03.138682Z",
     "iopub.status.busy": "2024-06-03T22:18:03.138228Z",
     "iopub.status.idle": "2024-06-03T22:18:03.750898Z",
     "shell.execute_reply": "2024-06-03T22:18:03.750457Z",
     "shell.execute_reply.started": "2024-06-03T22:18:03.138665Z"
    },
    "tags": []
   },
   "outputs": [],
   "source": [
    "import sys, time, os, asyncio, glob\n",
    "import shlex, subprocess\n",
    "from datetime import datetime\n",
    "import numpy as np\n",
    "import matplotlib.pyplot as plt\n",
    "from matplotlib.colors import LightSource\n",
    "from mpl_toolkits.axes_grid1 import make_axes_locatable\n",
    "from mpl_toolkits.mplot3d import Axes3D\n",
    "from astropy.time import Time, TimeDelta\n",
    "from lsst_efd_client import EfdClient\n"
   ]
  },
  {
   "cell_type": "markdown",
   "metadata": {},
   "source": [
    "## Set up the necessary subroutines"
   ]
  },
  {
   "cell_type": "code",
   "execution_count": null,
   "metadata": {
    "execution": {
     "iopub.execute_input": "2024-06-03T22:18:03.751977Z",
     "iopub.status.busy": "2024-06-03T22:18:03.751695Z",
     "iopub.status.idle": "2024-06-03T22:18:03.758208Z",
     "shell.execute_reply": "2024-06-03T22:18:03.757783Z",
     "shell.execute_reply.started": "2024-06-03T22:18:03.751963Z"
    },
    "tags": []
   },
   "outputs": [],
   "source": [
    "def plotHexapodContour(df, ax, index, hex=\"Camera\"):\n",
    "    ax.set_xlabel(\"X (um)\")\n",
    "    ax.set_ylabel(\"Y (um)\")\n",
    "    ax.set_title(f\"{hex} Hexapod motions\", fontsize=18)\n",
    "    xmin = -5.0; xmax = 5.0; ymin = -5.0; ymax = 5.0\n",
    "    zmin = -80.0; zmax = 20.0\n",
    "    levels = np.linspace(zmin, zmax, 51)\n",
    "    cbarticks = np.linspace(zmin, zmax, 11)\n",
    "    cbarlabels = []\n",
    "    for tick in cbarticks:\n",
    "        cbarlabels.append(f\"{tick:.1f}\")\n",
    "    theta = np.linspace(0, 2 * np.pi, 51)\n",
    "    x = xmax*np.cos(theta)\n",
    "    y = ymax*np.sin(theta)\n",
    "    if hex == \"Camera\":\n",
    "        rmin = 0.0\n",
    "    elif hex == \"M2\":\n",
    "        rmin = 0.5\n",
    "        \n",
    "    r = np.linspace(rmin, xmax, 51)\n",
    "    R, Theta = np.meshgrid(r, theta)\n",
    "    Xcen = df.iloc[index][\"position0\"]\n",
    "    Ycen = df.iloc[index][\"position1\"]\n",
    "    Zcen = df.iloc[index][\"position2\"]\n",
    "    Z = Zcen * np.ones_like(R)\n",
    "    \n",
    "    # Express the mesh in the cartesian system.\n",
    "    X, Y = R*np.cos(Theta), R*np.sin(Theta)\n",
    "    X += Xcen\n",
    "    Y += Ycen\n",
    "    Phi = 0.0 # Placeholder for u, v\n",
    "    X = X * np.cos(Phi) - Z * np.sin(Phi)\n",
    "    Z = -X * np.sin(Phi) + Z * np.cos(Phi)\n",
    "    # Plot the surface.\n",
    "    im = ax.contourf(X, Y, Z, levels=levels)\n",
    "    ax.scatter(Xcen,Ycen, marker='+', s=200, color='black')\n",
    "\n",
    "    ax.plot(x,y, color='black')\n",
    "    ax.scatter(0.0,0.0, marker='+', s=200, color='black')\n",
    "    divider = make_axes_locatable(ax)\n",
    "    cax = divider.append_axes(\"right\", size=\"5%\", pad=0.05)\n",
    "    cbar = plt.colorbar(im, cax=cax)\n",
    "    cbar.set_ticks(cbarticks)\n",
    "    cbar.set_ticklabels(cbarlabels)\n",
    "    ax.set_xlim(1.5*xmin, 1.5*xmax)\n",
    "    ax.set_ylim(1.5*ymin, 1.5*ymax)\n"
   ]
  },
  {
   "cell_type": "markdown",
   "metadata": {},
   "source": [
    "## Define the times and options"
   ]
  },
  {
   "cell_type": "code",
   "execution_count": null,
   "metadata": {
    "execution": {
     "iopub.execute_input": "2024-06-03T22:18:03.786768Z",
     "iopub.status.busy": "2024-06-03T22:18:03.786634Z",
     "iopub.status.idle": "2024-06-03T22:18:03.789637Z",
     "shell.execute_reply": "2024-06-03T22:18:03.789304Z",
     "shell.execute_reply.started": "2024-06-03T22:18:03.786756Z"
    },
    "tags": []
   },
   "outputs": [],
   "source": [
    "# Times to start looking at values\n",
    "start = Time(\"2024-05-07T01:17:54Z\", scale='utc')\n",
    "end = Time(\"2024-05-07T01:26:08Z\", scale='utc')\n",
    "\n",
    "frameN = 10"
   ]
  },
  {
   "cell_type": "markdown",
   "metadata": {},
   "source": [
    "## Now generate the frames\n",
    "### This will take some time"
   ]
  },
  {
   "cell_type": "code",
   "execution_count": null,
   "metadata": {
    "execution": {
     "iopub.execute_input": "2024-06-03T22:18:03.790205Z",
     "iopub.status.busy": "2024-06-03T22:18:03.790084Z",
     "iopub.status.idle": "2024-06-03T22:20:21.795575Z",
     "shell.execute_reply": "2024-06-03T22:20:21.795241Z",
     "shell.execute_reply.started": "2024-06-03T22:18:03.790194Z"
    }
   },
   "outputs": [],
   "source": [
    "client = EfdClient('usdf_efd')\n",
    "\n",
    "timestamp = start.isot.split('.')[0].replace('-','').replace(':','')\n",
    "dirName = f\"/home/c/cslage/u/Hexapods/movies/movie_{timestamp}\"\n",
    "%mkdir -p {dirName}\n",
    "movieName = f\"hexapod_movie_{timestamp}.mp4\"\n",
    "\n",
    "camhex = await client.select_time_series('lsst.sal.MTHexapod.application', ['*'], start, end, index=1)\n",
    "print(len(camhex))\n",
    "m2hex = await client.select_time_series('lsst.sal.MTHexapod.application', ['*'], start, end, index=2)\n",
    "print(len(m2hex))\n",
    "\n",
    "fig = plt.figure(figsize=(8,8))\n",
    "# Now build the individual frames\n",
    "for n in range(0, len(camhex), frameN):\n",
    "    ax = fig.add_subplot(1,1,1)\n",
    "    plotHexapodContour(camhex, ax, n, hex=\"Camera\")\n",
    "    plt.savefig(f\"{dirName}/Frame_{(n + 1):05d}.png\")\n",
    "    plt.clf()\n",
    "    nFrames = int(n / frameN)\n",
    "    if nFrames%100 == 0:\n",
    "        print(f\"{nFrames} frames done\")\n"
   ]
  },
  {
   "cell_type": "markdown",
   "metadata": {},
   "source": [
    "## Now build the movie"
   ]
  },
  {
   "cell_type": "code",
   "execution_count": null,
   "metadata": {
    "execution": {
     "iopub.execute_input": "2024-06-03T22:20:34.839165Z",
     "iopub.status.busy": "2024-06-03T22:20:34.838854Z",
     "iopub.status.idle": "2024-06-03T22:20:38.409776Z",
     "shell.execute_reply": "2024-06-03T22:20:38.409278Z",
     "shell.execute_reply.started": "2024-06-03T22:20:34.839147Z"
    },
    "tags": []
   },
   "outputs": [],
   "source": [
    "movie_name = f\"hexapod_movie_{timestamp}.mp4\"\n",
    "print(f\"\\033[1mThe movie name will be: {dirName}/{movie_name}\\033[0m\")\n",
    "\n",
    "command = f\"ffmpeg -pattern_type glob -i '{dirName}/*.png' -f mp4 -vcodec libx264 -pix_fmt yuv420p -framerate 50 -y {dirName}/{movie_name}\"\n",
    "args = shlex.split(command)\n",
    "build_movie = subprocess.Popen(args)\n",
    "build_movie.wait()"
   ]
  },
  {
   "cell_type": "code",
   "execution_count": null,
   "metadata": {},
   "outputs": [],
   "source": []
  },
  {
   "cell_type": "code",
   "execution_count": null,
   "metadata": {},
   "outputs": [],
   "source": []
  }
 ],
 "metadata": {
  "kernelspec": {
   "display_name": "LSST",
   "language": "python",
   "name": "lsst"
  },
  "language_info": {
   "codemirror_mode": {
    "name": "ipython",
    "version": 3
   },
   "file_extension": ".py",
   "mimetype": "text/x-python",
   "name": "python",
   "nbconvert_exporter": "python",
   "pygments_lexer": "ipython3",
   "version": "3.11.7"
  }
 },
 "nbformat": 4,
 "nbformat_minor": 4
}
