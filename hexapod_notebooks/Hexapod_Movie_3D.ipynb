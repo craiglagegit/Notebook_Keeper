{
 "cells": [
  {
   "cell_type": "code",
   "execution_count": null,
   "id": "a4765cda-db8c-4b97-aeda-6da244c50436",
   "metadata": {},
   "outputs": [],
   "source": [
    "import sys, time, os, asyncio, glob\n",
    "import shlex, subprocess\n",
    "from datetime import datetime\n",
    "import numpy as np\n",
    "import matplotlib.pyplot as plt\n",
    "from matplotlib.colors import LightSource\n",
    "from mpl_toolkits.axes_grid1 import make_axes_locatable\n",
    "from mpl_toolkits.mplot3d import Axes3D\n",
    "from astropy.time import Time, TimeDelta\n",
    "from lsst_efd_client import EfdClient\n"
   ]
  },
  {
   "cell_type": "code",
   "execution_count": null,
   "id": "3ef21c81-8e70-43da-97c5-5dd68636c02f",
   "metadata": {},
   "outputs": [],
   "source": [
    "def plotHexapod(ax):\n",
    "    lightsource = LightSource(azdeg=180, altdeg=78)\n",
    "    ax.set_xlabel(\"X (um)\")\n",
    "    ax.set_ylabel(\"Y (um)\")\n",
    "    ax.set_zlabel(\"Z (um)\")\n",
    "    #ax.set_title(\"M1M3 Actuator Z forces\", fontsize=18)\n",
    "    theta = np.linspace(0, 2 * np.pi, 51)\n",
    "    x = 1.0*np.cos(theta)\n",
    "    y = 1.0*np.sin(theta)\n",
    "    z = -0.0 * np.ones_like(theta)\n",
    "    r = np.linspace(0, 1.00, 51)\n",
    "    R, Theta = np.meshgrid(r, theta)\n",
    "    Zcen= 0.0\n",
    "    Xcen= 0.0\n",
    "    Ycen = 0.0\n",
    "    Z = Zcen * np.ones_like(R)\n",
    "    \n",
    "    # Express the mesh in the cartesian system.\n",
    "    X, Y = R*np.cos(Theta), R*np.sin(Theta)\n",
    "    X += Xcen\n",
    "    Y += Ycen\n",
    "    Phi = -0.2\n",
    "    X = X * np.cos(Phi) - Z * np.sin(Phi)\n",
    "    Z = -X * np.sin(Phi) + Z * np.cos(Phi)\n",
    "    # Plot the surface.\n",
    "    ax.plot_surface(X, Y, Z, color='red')\n",
    "    ax.scatter(Xcen,Ycen,Zcen, marker='+', s=200, color='black')\n",
    "\n",
    "    ax.plot(x,y,z, color='black')\n",
    "    ax.scatter(0,0,-0.5, marker='+', s=50, color='black')\n",
    "    ax.plot([0,Xcen], [0,Ycen], [-0.5,Zcen], ls='--', color='black')\n",
    "\n",
    "    ax.set_zlim(-1.0, 1.0)\n",
    "    ax.view_init(elev=20., azim=45)\n",
    "    #ax.set_axis_off() \n"
   ]
  },
  {
   "cell_type": "code",
   "execution_count": null,
   "id": "7a18580f-385c-4219-826f-287bb1d7265f",
   "metadata": {},
   "outputs": [],
   "source": []
  },
  {
   "cell_type": "code",
   "execution_count": null,
   "id": "09b39cca-f9cd-4359-975d-231290638419",
   "metadata": {
    "execution": {
     "iopub.execute_input": "2024-06-03T20:30:20.076619Z",
     "iopub.status.busy": "2024-06-03T20:30:20.076302Z",
     "iopub.status.idle": "2024-06-03T20:30:20.249000Z",
     "shell.execute_reply": "2024-06-03T20:30:20.248564Z",
     "shell.execute_reply.started": "2024-06-03T20:30:20.076606Z"
    }
   },
   "outputs": [],
   "source": [
    "%matplotlib inline\n",
    "fig = plt.figure(figsize=(12,8))\n",
    "ax = fig.add_subplot(1,1,1, projection='3d')\n",
    "plotHexapod(ax)"
   ]
  }
 ],
 "metadata": {
  "kernelspec": {
   "display_name": "LSST",
   "language": "python",
   "name": "lsst"
  },
  "language_info": {
   "codemirror_mode": {
    "name": "ipython",
    "version": 3
   },
   "file_extension": ".py",
   "mimetype": "text/x-python",
   "name": "python",
   "nbconvert_exporter": "python",
   "pygments_lexer": "ipython3",
   "version": "3.11.7"
  }
 },
 "nbformat": 4,
 "nbformat_minor": 5
}
