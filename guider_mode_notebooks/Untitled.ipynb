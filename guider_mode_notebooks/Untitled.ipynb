{
 "cells": [
  {
   "cell_type": "code",
   "execution_count": null,
   "id": "c860c4d6-d85d-4d50-a9f1-820e445e8cd7",
   "metadata": {
    "execution": {
     "iopub.execute_input": "2025-05-07T01:39:24.536127Z",
     "iopub.status.busy": "2025-05-07T01:39:24.535565Z",
     "iopub.status.idle": "2025-05-07T01:39:26.479453Z",
     "shell.execute_reply": "2025-05-07T01:39:26.478928Z",
     "shell.execute_reply.started": "2025-05-07T01:39:24.536106Z"
    }
   },
   "outputs": [],
   "source": [
    "from lsst.daf.butler import Butler\n",
    "butler = Butler('/repo/embargo', collections=['LSSTCam/raw/all', \n",
    "                                'LSSTCam/calib/unbounded',\n",
    "                                  'LSSTCam/runs/nightlyValidation/20250504/w_2025_18/DM-50157'])\n",
    "expId = 2025050400537\n",
    "calexp = butler.get('preliminary_visit_image', detector=126, visit=expId)"
   ]
  },
  {
   "cell_type": "code",
   "execution_count": null,
   "id": "7348e4af-1061-451d-93d8-60d06b2a0ed7",
   "metadata": {
    "execution": {
     "iopub.execute_input": "2025-05-07T01:39:46.191443Z",
     "iopub.status.busy": "2025-05-07T01:39:46.191105Z",
     "iopub.status.idle": "2025-05-07T01:39:46.194244Z",
     "shell.execute_reply": "2025-05-07T01:39:46.193834Z",
     "shell.execute_reply.started": "2025-05-07T01:39:46.191414Z"
    }
   },
   "outputs": [],
   "source": [
    "wcs = calexp.getWcs()\n",
    "wcs"
   ]
  },
  {
   "cell_type": "code",
   "execution_count": null,
   "id": "0bd3f636-15b3-4990-9d83-38687c15efcf",
   "metadata": {
    "execution": {
     "iopub.execute_input": "2025-05-07T01:39:50.307895Z",
     "iopub.status.busy": "2025-05-07T01:39:50.307656Z",
     "iopub.status.idle": "2025-05-07T01:39:50.310437Z",
     "shell.execute_reply": "2025-05-07T01:39:50.310045Z",
     "shell.execute_reply.started": "2025-05-07T01:39:50.307878Z"
    }
   },
   "outputs": [],
   "source": [
    "wcs"
   ]
  },
  {
   "cell_type": "code",
   "execution_count": null,
   "id": "e4492447-4cd8-4ffd-a4bc-f1e59be660c7",
   "metadata": {},
   "outputs": [],
   "source": []
  }
 ],
 "metadata": {
  "kernelspec": {
   "display_name": "LSST",
   "language": "python",
   "name": "lsst"
  },
  "language_info": {
   "codemirror_mode": {
    "name": "ipython",
    "version": 3
   },
   "file_extension": ".py",
   "mimetype": "text/x-python",
   "name": "python",
   "nbconvert_exporter": "python",
   "pygments_lexer": "ipython3",
   "version": "3.12.10"
  }
 },
 "nbformat": 4,
 "nbformat_minor": 5
}
