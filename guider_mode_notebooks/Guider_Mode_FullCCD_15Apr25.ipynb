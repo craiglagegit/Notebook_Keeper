{
 "cells": [
  {
   "cell_type": "markdown",
   "id": "73e1267b-d2a5-40b2-90bb-6e0ad4617d5b",
   "metadata": {},
   "source": [
    "## Guider mode quick look\n",
    "This is intended to unpack the rawStamps from guider mode FITS files and \n",
    "give a quick look of all 16 stamps for all 4 CCDs. \\\n",
    "Craig Lage - 15-Apr-25"
   ]
  },
  {
   "cell_type": "code",
   "execution_count": null,
   "id": "eb7fec00-8cc7-4636-919e-293830c239a0",
   "metadata": {
    "execution": {
     "iopub.execute_input": "2025-04-16T13:16:07.913368Z",
     "iopub.status.busy": "2025-04-16T13:16:07.913159Z",
     "iopub.status.idle": "2025-04-16T13:16:07.916191Z",
     "shell.execute_reply": "2025-04-16T13:16:07.915849Z",
     "shell.execute_reply.started": "2025-04-16T13:16:07.913354Z"
    }
   },
   "outputs": [],
   "source": [
    "import os\n",
    "import shlex, subprocess\n",
    "import matplotlib.pyplot as plt\n",
    "from lsst.summit.utils.plotting import plot\n",
    "import numpy as np\n",
    "from astropy.io import fits\n",
    "from lsst.resources import ResourcePath\n",
    "from lsst.afw import cameraGeom\n",
    "from lsst.obs.lsst.cameraTransforms import LsstCameraTransforms\n",
    "from lsst.obs.lsst import LsstCam"
   ]
  },
  {
   "cell_type": "markdown",
   "id": "f8cb8445-f7da-40e7-8edf-752a18fef668",
   "metadata": {},
   "source": [
    "# Get the main header and the information it contains"
   ]
  },
  {
   "cell_type": "code",
   "execution_count": null,
   "id": "c861dde2-ab26-476b-affe-38a1b9161e46",
   "metadata": {
    "execution": {
     "iopub.execute_input": "2025-04-16T12:28:47.981995Z",
     "iopub.status.busy": "2025-04-16T12:28:47.981661Z",
     "iopub.status.idle": "2025-04-16T12:28:47.985315Z",
     "shell.execute_reply": "2025-04-16T12:28:47.984876Z",
     "shell.execute_reply.started": "2025-04-16T12:28:47.981979Z"
    }
   },
   "outputs": [],
   "source": [
    "def getMainHeaderInfo(hdu_list):\n",
    "    hdr0 = hdu_list[0].header\n",
    "    roiCol = hdr0['ROICOL']\n",
    "    roiRow = hdr0['ROIROW']\n",
    "    roiCols = hdr0['ROICOLS']\n",
    "    roiRows = hdr0['ROIROWS']\n",
    "    try:\n",
    "        roiUnder = hdr0['ROIUNDRC']\n",
    "    except:\n",
    "        roiUnder = 6\n",
    "    nStamps = hdr0['N_STAMPS']\n",
    "    \n",
    "    # Set the xor value - Guider CCDs are different from science CCDs\n",
    "    if raft in ['R00', 'R04', 'R40', 'R44']:\n",
    "        # Guider rafts\n",
    "        xor = 0x20000\n",
    "    else:\n",
    "        # Science rafts\n",
    "        xor = 0x1ffff\n",
    "    return [roiRow, roiCol, roiRows, roiCols, roiUnder, nStamps, xor]"
   ]
  },
  {
   "cell_type": "markdown",
   "id": "38f9dce1-6a04-4347-8a53-63699f775387",
   "metadata": {},
   "source": [
    "# Now define the code to unpack the rawStamps:"
   ]
  },
  {
   "cell_type": "code",
   "execution_count": null,
   "id": "2e51d1a5-eccb-41d5-aea3-7f87778d5ce4",
   "metadata": {
    "execution": {
     "iopub.execute_input": "2025-04-16T12:28:49.121251Z",
     "iopub.status.busy": "2025-04-16T12:28:49.120977Z",
     "iopub.status.idle": "2025-04-16T12:28:49.125328Z",
     "shell.execute_reply": "2025-04-16T12:28:49.124978Z",
     "shell.execute_reply.started": "2025-04-16T12:28:49.121237Z"
    }
   },
   "outputs": [],
   "source": [
    "def unpackStamps(hduNum):\n",
    "    data = np.array(hdu_list[hduNum].data[0]).astype('>u4')[0]\n",
    "    data.byteswap(inplace=True)\n",
    "    totalCols = roiCols + roiUnder\n",
    "    size = roiRows * totalCols\n",
    "    out = np.zeros([16, size], dtype=int)\n",
    "    image_out = np.zeros([16, roiRows, roiCols], dtype=int)\n",
    "    for n in range(size):\n",
    "        # Get 9 32 bit words of data\n",
    "        res = ''\n",
    "        for i in range(9):\n",
    "            d = data[(size - n) * 9 - i - 1]\n",
    "            d = format(d, '#034b')\n",
    "            d = d.split('b')[1]\n",
    "            res += d\n",
    "        # Now extract 16 18 bit words from the data\n",
    "        for i in range(16):\n",
    "            bin_value = res[i * 18:(i + 1) * 18]\n",
    "            int_value = int(bin_value, 2)\n",
    "            final_value = int_value ^ xor\n",
    "            out[i,n] = final_value  \n",
    "    for i in range(16):\n",
    "        reshaped = out[i,:].reshape(roiRows, totalCols)\n",
    "        image_out[i,:,:] = np.flipud(np.fliplr(reshaped[:,0:roiCols]))\n",
    "    return image_out\n",
    "\n",
    "# The below converts the amp name into the sequential numbering that comes\n",
    "# from unpacking.\n",
    "ampDict = {'C00':0, 'C01':1, 'C02':2, 'C03':3, 'C04':4,\n",
    "           'C05':5, 'C06':6, 'C07':7, 'C10':8, 'C11':9,\n",
    "           'C12':10, 'C13':11, 'C14':12, 'C15':13, 'C16':14,\n",
    "           'C17':15}"
   ]
  },
  {
   "cell_type": "markdown",
   "id": "b02fdf8c-9802-40d7-949a-f7c2044aca67",
   "metadata": {},
   "source": [
    "# Build one frame for one CCD"
   ]
  },
  {
   "cell_type": "code",
   "execution_count": null,
   "id": "afd5de3d-6c0a-4bd9-aed1-f003eefa78e4",
   "metadata": {
    "execution": {
     "iopub.execute_input": "2025-04-16T12:29:40.832166Z",
     "iopub.status.busy": "2025-04-16T12:29:40.831760Z",
     "iopub.status.idle": "2025-04-16T12:29:42.561944Z",
     "shell.execute_reply": "2025-04-16T12:29:42.561406Z",
     "shell.execute_reply.started": "2025-04-16T12:29:40.832140Z"
    }
   },
   "outputs": [],
   "source": [
    "%matplotlib inline\n",
    "camera = LsstCam.getCamera()\n",
    "\n",
    "dayObs = 20250415\n",
    "seqNum = 227\n",
    "expId = int(f\"{dayObs}{seqNum:05d}\")\n",
    "raft = 'R40'\n",
    "ccd = 'SG0'\n",
    "n = 2 # This just unpacks one frame.  This chooses which frame\n",
    "detName = f\"{raft}_{ccd}\"\n",
    "filename = f\"s3://embargo@rubin-summit/LSSTCam/{dayObs}/MC_O_{dayObs}_{seqNum:06d}/MC_O_{dayObs}_{seqNum:06d}_{raft}_{ccd}_guider.fits\"\n",
    "rp = ResourcePath(filename)\n",
    "with rp.open(mode=\"rb\") as f:\n",
    "    hdu_list = fits.open(f)\n",
    "[roiRow, roiCol, roiRows, roiCols, roiUnder, nStamps, xor] = getMainHeaderInfo(hdu_list)\n",
    "llX = roiCol\n",
    "llY = roiRow\n",
    "urX = roiCol + roiCols\n",
    "urY = roiRow + roiRows\n",
    "\n",
    "for detector in camera:\n",
    "    if detector.getName()== detName:\n",
    "        break\n",
    "bbox = detector.getBBox()\n",
    "nx,ny = bbox.getDimensions()\n",
    "fullImage = np.zeros((ny,nx))\n",
    "fullImage[:,:]=np.nan\n",
    "\n",
    "hduNum = 2 * n + 1\n",
    "hdrn = hdu_list[hduNum].header\n",
    "timestamp = hdrn['STMPTIME']\n",
    "image_out = unpackStamps(hduNum)\n",
    "lct = LsstCameraTransforms(camera,detName)\n",
    "\n",
    "for amp in detector.getAmplifiers():\n",
    "    ampName = amp.getName()\n",
    "    seg = ampDict[ampName]\n",
    "\n",
    "    llCCDX,llCCDY = lct.ampPixelToCcdPixel(llX,llY,ampName)  # get CCD x,y these are floats\n",
    "    llfpX,llfpY = lct.ampPixelToFocalMm(llX,llY,ampName)     # get focal plane x,y in mm\n",
    "\n",
    "    urCCDX,urCCDY = lct.ampPixelToCcdPixel(urX,urY,ampName)\n",
    "    urfpX,urfpY = lct.ampPixelToFocalMm(urX,urY,ampName)\n",
    "\n",
    "    roiarr = image_out[seg]\n",
    "    if urCCDX < llCCDX:\n",
    "        roiarr = np.fliplr(roiarr)\n",
    "    if urCCDY < llCCDY:\n",
    "        roiarr = np.flipud(roiarr)\n",
    "    \n",
    "    # this doesn't workout how to map the stamps to the CCD, but the ll,ur points have enough info\n",
    "    fullImage[int(min(llCCDY,urCCDY)):int(max(llCCDY,urCCDY)),\n",
    "        int(min(llCCDX,urCCDX)):int(max(llCCDX,urCCDX))] = roiarr      \n"
   ]
  },
  {
   "cell_type": "code",
   "execution_count": null,
   "id": "ec552b15-877f-45ba-b63d-7ea542da0c7f",
   "metadata": {
    "execution": {
     "iopub.execute_input": "2025-04-16T12:59:32.717452Z",
     "iopub.status.busy": "2025-04-16T12:59:32.717146Z",
     "iopub.status.idle": "2025-04-16T12:59:36.062006Z",
     "shell.execute_reply": "2025-04-16T12:59:36.061516Z",
     "shell.execute_reply.started": "2025-04-16T12:59:32.717436Z"
    }
   },
   "outputs": [],
   "source": [
    "x = plot(fullImage, stretch='ccs')"
   ]
  },
  {
   "cell_type": "code",
   "execution_count": null,
   "id": "54dba9e5-e04e-4257-b5d9-16bc2118926d",
   "metadata": {
    "execution": {
     "iopub.execute_input": "2025-04-16T13:00:54.155824Z",
     "iopub.status.busy": "2025-04-16T13:00:54.155524Z",
     "iopub.status.idle": "2025-04-16T13:00:55.438716Z",
     "shell.execute_reply": "2025-04-16T13:00:55.438315Z",
     "shell.execute_reply.started": "2025-04-16T13:00:54.155809Z"
    }
   },
   "outputs": [],
   "source": [
    "plt.imshow(fullImage, interpolation='nearest', origin='lower', vmin=12000, vmax=16000, cmap='Greys')"
   ]
  },
  {
   "cell_type": "code",
   "execution_count": null,
   "id": "8c107e25-75a4-410c-8720-9aa2e4160ee1",
   "metadata": {
    "execution": {
     "iopub.execute_input": "2025-04-16T13:11:26.546120Z",
     "iopub.status.busy": "2025-04-16T13:11:26.545809Z",
     "iopub.status.idle": "2025-04-16T13:13:36.688110Z",
     "shell.execute_reply": "2025-04-16T13:13:36.687507Z",
     "shell.execute_reply.started": "2025-04-16T13:11:26.546103Z"
    },
    "jupyter": {
     "outputs_hidden": true
    }
   },
   "outputs": [],
   "source": [
    "camera = LsstCam.getCamera()\n",
    "\n",
    "dayObs = 20250415\n",
    "seqNum = 227\n",
    "expId = int(f\"{dayObs}{seqNum:05d}\")\n",
    "raft = 'R40'\n",
    "ccd = 'SG0'\n",
    "filename = f\"s3://embargo@rubin-summit/LSSTCam/{dayObs}/MC_O_{dayObs}_{seqNum:06d}/MC_O_{dayObs}_{seqNum:06d}_{raft}_{ccd}_guider.fits\"\n",
    "\n",
    "rp = ResourcePath(filename)\n",
    "with rp.open(mode=\"rb\") as f:\n",
    "    hdu_list = fits.open(f)\n",
    "[roiRow, roiCol, roiRows, roiCols, roiUnder, nStamps, xor] = getMainHeaderInfo(hdu_list)\n",
    "detName = f\"{raft}_{ccd}\"\n",
    "llX = roiCol\n",
    "llY = roiRow\n",
    "urX = roiCol + roiCols\n",
    "urY = roiRow + roiRows\n",
    "\n",
    "for detector in camera:\n",
    "    if detector.getName()== detName:\n",
    "        break\n",
    "bbox = detector.getBBox()\n",
    "nx,ny = bbox.getDimensions()\n",
    "\n",
    "dirName = f\"/home/c/cslage/u/Guider_Mode/LSSTCam_movie_{expId}_{raft}_{ccd}\"\n",
    "%mkdir -p {dirName}\n",
    "movieName = f\"Guider__{expId}_{raft}_{ccd}.mp4\"\n",
    "print(movieName)\n",
    "# Build the individual frames\n",
    "\n",
    "fig = plt.figure(figsize=(10,10))\n",
    "\n",
    "for n in range(1, nStamps):\n",
    "    fullImage = np.zeros((ny,nx))\n",
    "    fullImage[:,:]=np.nan\n",
    "    \n",
    "    hduNum = 2 * n + 1\n",
    "    hdrn = hdu_list[hduNum].header\n",
    "    timestamp = hdrn['STMPTIME']\n",
    "    image_out = unpackStamps(hduNum)\n",
    "    lct = LsstCameraTransforms(camera,detName)\n",
    "\n",
    "    for amp in detector.getAmplifiers():\n",
    "        ampName = amp.getName()\n",
    "        seg = ampDict[ampName]\n",
    "    \n",
    "        llCCDX,llCCDY = lct.ampPixelToCcdPixel(llX,llY,ampName)  # get CCD x,y these are floats\n",
    "        llfpX,llfpY = lct.ampPixelToFocalMm(llX,llY,ampName)     # get focal plane x,y in mm\n",
    "    \n",
    "        urCCDX,urCCDY = lct.ampPixelToCcdPixel(urX,urY,ampName)\n",
    "        urfpX,urfpY = lct.ampPixelToFocalMm(urX,urY,ampName)\n",
    "    \n",
    "        roiarr = image_out[seg]\n",
    "        if urCCDX < llCCDX:\n",
    "            roiarr = np.fliplr(roiarr)\n",
    "        if urCCDY < llCCDY:\n",
    "            roiarr = np.flipud(roiarr)\n",
    "        \n",
    "        # this doesn't workout how to map the stamps to the CCD, but the ll,ur points have enough info\n",
    "        fullImage[int(min(llCCDY,urCCDY)):int(max(llCCDY,urCCDY)),\n",
    "            int(min(llCCDX,urCCDX)):int(max(llCCDX,urCCDX))] = roiarr      \n",
    "\n",
    "    plt.suptitle(f\"Guider mode {expId} {raft}_{ccd}, \\n Frame {n+1} {timestamp}\", fontsize=18) \n",
    "    plt.imshow(fullImage, interpolation='nearest', origin='lower', vmin=12000, vmax=16000, cmap='Greys')\n",
    "    plt.savefig(f\"{dirName}/Frame_{n:03d}.png\")\n",
    "    plt.clf()\n",
    "    if n % 10 == 0:\n",
    "        print(f\"Finished frame {n}\")\n",
    "print(\"Done building frames\")    \n",
    "\n"
   ]
  },
  {
   "cell_type": "code",
   "execution_count": null,
   "id": "d69508d7-7610-4283-999b-6dbc00b093a1",
   "metadata": {
    "execution": {
     "iopub.execute_input": "2025-04-16T13:16:13.371948Z",
     "iopub.status.busy": "2025-04-16T13:16:13.371418Z",
     "iopub.status.idle": "2025-04-16T13:16:13.777187Z",
     "shell.execute_reply": "2025-04-16T13:16:13.776861Z",
     "shell.execute_reply.started": "2025-04-16T13:16:13.371933Z"
    }
   },
   "outputs": [],
   "source": [
    "print(f\"\\033[1mThe movie name will be: {dirName}/{movieName}\\033[0m\")\n",
    "\n",
    "command = f\"ffmpeg -pattern_type glob -i '{dirName}/*.png' -f mp4 -vcodec libx264 -pix_fmt yuv420p -framerate 50 -y {dirName}/{movieName}\"\n",
    "args = shlex.split(command)\n",
    "build_movie = subprocess.Popen(args)\n",
    "build_movie.wait()"
   ]
  },
  {
   "cell_type": "code",
   "execution_count": null,
   "id": "2a8c79b4-a2d8-478f-b5ad-a12889ff979e",
   "metadata": {
    "execution": {
     "iopub.execute_input": "2025-04-16T13:22:55.319448Z",
     "iopub.status.busy": "2025-04-16T13:22:55.318974Z",
     "iopub.status.idle": "2025-04-16T13:24:22.031788Z",
     "shell.execute_reply": "2025-04-16T13:24:22.031388Z",
     "shell.execute_reply.started": "2025-04-16T13:22:55.319432Z"
    }
   },
   "outputs": [],
   "source": [
    "camera = LsstCam.getCamera()\n",
    "\n",
    "dayObs = 20250415\n",
    "seqNum = 227\n",
    "seg = 13\n",
    "expId = int(f\"{dayObs}{seqNum:05d}\")\n",
    "raft = 'R40'\n",
    "ccd = 'SG0'\n",
    "filename = f\"s3://embargo@rubin-summit/LSSTCam/{dayObs}/MC_O_{dayObs}_{seqNum:06d}/MC_O_{dayObs}_{seqNum:06d}_{raft}_{ccd}_guider.fits\"\n",
    "\n",
    "rp = ResourcePath(filename)\n",
    "with rp.open(mode=\"rb\") as f:\n",
    "    hdu_list = fits.open(f)\n",
    "[roiRow, roiCol, roiRows, roiCols, roiUnder, nStamps, xor] = getMainHeaderInfo(hdu_list)\n",
    "detName = f\"{raft}_{ccd}\"\n",
    "llX = roiCol\n",
    "llY = roiRow\n",
    "urX = roiCol + roiCols\n",
    "urY = roiRow + roiRows\n",
    "\n",
    "for detector in camera:\n",
    "    if detector.getName()== detName:\n",
    "        break\n",
    "bbox = detector.getBBox()\n",
    "nx,ny = bbox.getDimensions()\n",
    "\n",
    "dirName = f\"/home/c/cslage/u/Guider_Mode/LSSTCam_movie_{expId}_{raft}_{ccd}_{seg}\"\n",
    "%mkdir -p {dirName}\n",
    "movieName = f\"Guider__{expId}_{raft}_{ccd}_{seg}.mp4\"\n",
    "print(movieName)\n",
    "# Build the individual frames\n",
    "\n",
    "fig = plt.figure(figsize=(10,10))\n",
    "\n",
    "for n in range(1, nStamps):    \n",
    "    hduNum = 2 * n + 1\n",
    "    hdrn = hdu_list[hduNum].header\n",
    "    timestamp = hdrn['STMPTIME']\n",
    "    image_out = unpackStamps(hduNum)\n",
    "    lct = LsstCameraTransforms(camera,detName)\n",
    "    \n",
    "    roiarr = image_out[seg]\n",
    "\n",
    "    plt.suptitle(f\"Guider mode {expId} {raft}_{ccd}_{seg}, \\n Frame {n+1} {timestamp}\", fontsize=18) \n",
    "    plt.imshow(roiarr, interpolation='nearest', origin='lower', cmap='Greys')\n",
    "    plt.savefig(f\"{dirName}/Frame_{n:03d}.png\")\n",
    "    plt.clf()\n",
    "    if n % 10 == 0:\n",
    "        print(f\"Finished frame {n}\")\n",
    "print(\"Done building frames\")    \n",
    "\n"
   ]
  },
  {
   "cell_type": "code",
   "execution_count": null,
   "id": "f87d14e0-4863-4c70-8695-858945357e9f",
   "metadata": {
    "execution": {
     "iopub.execute_input": "2025-04-16T13:24:35.463551Z",
     "iopub.status.busy": "2025-04-16T13:24:35.463109Z",
     "iopub.status.idle": "2025-04-16T13:24:39.739132Z",
     "shell.execute_reply": "2025-04-16T13:24:39.738735Z",
     "shell.execute_reply.started": "2025-04-16T13:24:35.463530Z"
    }
   },
   "outputs": [],
   "source": [
    "print(f\"\\033[1mThe movie name will be: {dirName}/{movieName}\\033[0m\")\n",
    "\n",
    "command = f\"ffmpeg -pattern_type glob -i '{dirName}/*.png' -f mp4 -vcodec libx264 -pix_fmt yuv420p -framerate 50 -y {dirName}/{movieName}\"\n",
    "args = shlex.split(command)\n",
    "build_movie = subprocess.Popen(args)\n",
    "build_movie.wait()"
   ]
  },
  {
   "cell_type": "code",
   "execution_count": null,
   "id": "27f33699-160d-4509-8fb1-c39efdb0bf61",
   "metadata": {},
   "outputs": [],
   "source": []
  }
 ],
 "metadata": {
  "kernelspec": {
   "display_name": "LSST",
   "language": "python",
   "name": "lsst"
  },
  "language_info": {
   "codemirror_mode": {
    "name": "ipython",
    "version": 3
   },
   "file_extension": ".py",
   "mimetype": "text/x-python",
   "name": "python",
   "nbconvert_exporter": "python",
   "pygments_lexer": "ipython3",
   "version": "3.12.10"
  }
 },
 "nbformat": 4,
 "nbformat_minor": 5
}
