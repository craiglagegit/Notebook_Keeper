{
 "cells": [
  {
   "cell_type": "markdown",
   "id": "192ec44c-3199-4c4e-b76e-d0356073756b",
   "metadata": {
    "execution": {
     "iopub.execute_input": "2024-08-02T16:24:58.781988Z",
     "iopub.status.busy": "2024-08-02T16:24:58.781677Z",
     "iopub.status.idle": "2024-08-02T16:24:58.785379Z",
     "shell.execute_reply": "2024-08-02T16:24:58.784744Z",
     "shell.execute_reply.started": "2024-08-02T16:24:58.781960Z"
    }
   },
   "source": [
    "# Guider mode image reduction\n",
    "This is intended to read the guider mode FITS files and build a movie of the primary segment.\\\n",
    "Craig Lage - 28-Mar-25"
   ]
  },
  {
   "cell_type": "code",
   "execution_count": null,
   "id": "3088ee0a-aa8e-48a7-b287-3ae645b3faab",
   "metadata": {
    "execution": {
     "iopub.execute_input": "2025-04-14T20:38:15.137711Z",
     "iopub.status.busy": "2025-04-14T20:38:15.137359Z",
     "iopub.status.idle": "2025-04-14T20:38:15.576989Z",
     "shell.execute_reply": "2025-04-14T20:38:15.576589Z",
     "shell.execute_reply.started": "2025-04-14T20:38:15.137696Z"
    }
   },
   "outputs": [],
   "source": [
    "import os\n",
    "import shlex, subprocess\n",
    "import matplotlib.pyplot as plt\n",
    "from mpl_toolkits.axes_grid1 import make_axes_locatable\n",
    "import numpy as np\n",
    "from astropy.io import fits\n",
    "from lsst.resources import ResourcePath"
   ]
  },
  {
   "cell_type": "code",
   "execution_count": null,
   "id": "a80d5236-49e1-42ae-813a-97af1da0bf23",
   "metadata": {
    "execution": {
     "iopub.execute_input": "2025-04-14T20:38:19.295949Z",
     "iopub.status.busy": "2025-04-14T20:38:19.295053Z",
     "iopub.status.idle": "2025-04-14T20:38:20.254665Z",
     "shell.execute_reply": "2025-04-14T20:38:20.254368Z",
     "shell.execute_reply.started": "2025-04-14T20:38:19.295917Z"
    },
    "jupyter": {
     "outputs_hidden": true
    }
   },
   "outputs": [],
   "source": [
    "# Example of getting a FITS file stored at USDF\n",
    "# LSSTComCam science CCD\n",
    "#filename = \"s3://rubin-summit/LSSTComCam/20250410/CC_O_20240807_000009/CC_O_20240807_000009_R22_S00_guider.fits\"\n",
    "\n",
    "# LSSTcam guider CCD\n",
    "filename = \"s3://embargo@rubin-summit/LSSTCam/20250410/MC_O_20250410_000007/MC_O_20250410_000007_R00_SG0_guider.fits\"\n",
    "\n",
    "rp = ResourcePath(filename)\n",
    "with rp.open(mode=\"rb\") as f:\n",
    "    hdu_list = fits.open(f)\n",
    "len(hdu_list)"
   ]
  },
  {
   "cell_type": "markdown",
   "id": "f8cb8445-f7da-40e7-8edf-752a18fef668",
   "metadata": {},
   "source": [
    "# Get the main header and the information it contains"
   ]
  },
  {
   "cell_type": "code",
   "execution_count": null,
   "id": "84da7275-2de8-4821-bec4-f6b26b00c305",
   "metadata": {
    "execution": {
     "iopub.execute_input": "2025-04-10T19:43:35.396566Z",
     "iopub.status.busy": "2025-04-10T19:43:35.396041Z",
     "iopub.status.idle": "2025-04-10T19:43:35.399245Z",
     "shell.execute_reply": "2025-04-10T19:43:35.398923Z",
     "shell.execute_reply.started": "2025-04-10T19:43:35.396546Z"
    }
   },
   "outputs": [],
   "source": [
    "def getMainHeaderInfo(hdu_list):\n",
    "    hdr0 = hdu_list[0].header\n",
    "    #raft = hdr0['RAFTBAY']\n",
    "    #ccd = hdr0['CCDSLOT']\n",
    "    #dayObs = hdr0['DAYOBS']\n",
    "    #seqNum = hdr0['SEQNUM']\n",
    "    roiCols = hdr0['ROICOLS']\n",
    "    roiRows = hdr0['ROIROWS']\n",
    "    try:\n",
    "        roiUnder = hdr0['ROIUNDER']\n",
    "    except:\n",
    "        roiUnder = 6\n",
    "    nStamps = hdr0['N_STAMPS']\n",
    "    \n",
    "    # Set the xor value - Guider CCDs are different from science CCDs\n",
    "    if raft in ['R00', 'R04', 'R40', 'R44']:\n",
    "        # Guider rafts\n",
    "        xor = 0x20000\n",
    "    else:\n",
    "        # Science rafts\n",
    "        xor = 0x1ffff\n",
    "    return [roiRows, roiCols, roiUnder, nStamps, xor]"
   ]
  },
  {
   "cell_type": "code",
   "execution_count": null,
   "id": "7051b07a-49ac-4aeb-9c0f-1bd992dfeedc",
   "metadata": {
    "execution": {
     "iopub.execute_input": "2025-04-10T19:43:37.601109Z",
     "iopub.status.busy": "2025-04-10T19:43:37.600623Z",
     "iopub.status.idle": "2025-04-10T19:43:37.603581Z",
     "shell.execute_reply": "2025-04-10T19:43:37.603107Z",
     "shell.execute_reply.started": "2025-04-10T19:43:37.601088Z"
    }
   },
   "outputs": [],
   "source": [
    "# Set the scaling\n",
    "autoscale = True\n",
    "# Scale to use if autoscale = False\n",
    "vmin = 14500\n",
    "vmax = 14900"
   ]
  },
  {
   "cell_type": "markdown",
   "id": "d072c16c-a0e3-4241-aeae-5fe1382f10a3",
   "metadata": {},
   "source": [
    "# Now build the individual movie frames"
   ]
  },
  {
   "cell_type": "code",
   "execution_count": null,
   "id": "77f6ba5d-d677-48f6-bd60-c0e312af6c55",
   "metadata": {
    "execution": {
     "iopub.execute_input": "2025-04-12T12:33:36.925047Z",
     "iopub.status.busy": "2025-04-12T12:33:36.924538Z",
     "iopub.status.idle": "2025-04-12T12:33:47.013574Z",
     "shell.execute_reply": "2025-04-12T12:33:47.013111Z",
     "shell.execute_reply.started": "2025-04-12T12:33:36.925029Z"
    },
    "jupyter": {
     "outputs_hidden": true
    }
   },
   "outputs": [],
   "source": [
    "dayObs = 20250410\n",
    "seqNum = 6\n",
    "expId = int(f\"{dayObs}{seqNum:05d}\")\n",
    "raft = 'R00'\n",
    "ccd = 'SG0'\n",
    "\n",
    "filename = f\"s3://embargo@rubin-summit/LSSTCam/{dayObs}/MC_O_{dayObs}_{seqNum:06d}/MC_O_{dayObs}_{seqNum:06d}_{raft}_{ccd}_guider.fits\" \n",
    "rp = ResourcePath(filename)\n",
    "with rp.open(mode=\"rb\") as f:\n",
    "    hdu_list = fits.open(f)\n",
    "\n",
    "dirName = f\"/home/c/cslage/u/Guider_Mode/LSSTCam_movie_{expId}_{raft}_{ccd}\"\n",
    "%mkdir -p {dirName}\n",
    "movieName = f\"Guider_{expId}_{raft}_{ccd}.mp4\"\n",
    "print(movieName)\n",
    "[roiRows, roiCols, roiUnder, nStamps, xor] = getMainHeaderInfo(hdu_list)\n",
    "# Build the individual frames\n",
    "fig = plt.figure(figsize=(5,5))\n",
    "for n in range(1, nStamps+1):\n",
    "    hduNum = n\n",
    "    hdrn = hdu_list[hduNum].header\n",
    "    timestamp = hdrn['STMPTIME']\n",
    "    image_out = (hdu_list[hduNum].data)\n",
    "    ax = fig.subplots(1,1)\n",
    "    plt.suptitle(f\"Guider mode {raft} {ccd} {expId}, Frame {n+1}\\n{timestamp}\", fontsize=12)\n",
    "    if autoscale:\n",
    "        im = ax.imshow(image_out, interpolation='nearest', origin='upper', cmap='Greys')\n",
    "    else:\n",
    "        im = ax.imshow(image_out, interpolation='nearest', origin='upper', vmin=vmin, vmax=vmax, cmap='Greys')\n",
    "    divider = make_axes_locatable(ax)\n",
    "    cax = divider.append_axes(\"right\", size=\"5%\", pad=0.05)\n",
    "    #fig.colorbar(im, cax=cax)\n",
    "    plt.savefig(f\"{dirName}/Frame_{n:03d}.png\")\n",
    "    plt.clf()\n",
    "    if n % 10 == 0:\n",
    "        print(f\"Finished frame {n}\")\n",
    "print(\"Done building frames\")"
   ]
  },
  {
   "cell_type": "markdown",
   "id": "57795982-f9e1-452c-9552-b6298b4f6488",
   "metadata": {},
   "source": [
    "# Now make the movie"
   ]
  },
  {
   "cell_type": "code",
   "execution_count": null,
   "id": "7c3415e9-b5cd-47e4-ba47-144fce897822",
   "metadata": {
    "execution": {
     "iopub.execute_input": "2025-04-10T19:44:23.510760Z",
     "iopub.status.busy": "2025-04-10T19:44:23.510442Z",
     "iopub.status.idle": "2025-04-10T19:44:23.981060Z",
     "shell.execute_reply": "2025-04-10T19:44:23.980673Z",
     "shell.execute_reply.started": "2025-04-10T19:44:23.510742Z"
    }
   },
   "outputs": [],
   "source": [
    "print(f\"\\033[1mThe movie name will be: {dirName}/{movieName}\\033[0m\")\n",
    "\n",
    "command = f\"ffmpeg -pattern_type glob -i '{dirName}/*.png' -f mp4 -vcodec libx264 -pix_fmt yuv420p -framerate 50 -y {dirName}/{movieName}\"\n",
    "args = shlex.split(command)\n",
    "build_movie = subprocess.Popen(args)\n",
    "build_movie.wait()"
   ]
  },
  {
   "cell_type": "code",
   "execution_count": null,
   "id": "afc112b5-deed-48ce-bbe3-10c629d06093",
   "metadata": {
    "execution": {
     "iopub.execute_input": "2025-04-15T16:31:43.515958Z",
     "iopub.status.busy": "2025-04-15T16:31:43.515670Z",
     "iopub.status.idle": "2025-04-15T16:31:43.518801Z",
     "shell.execute_reply": "2025-04-15T16:31:43.518504Z",
     "shell.execute_reply.started": "2025-04-15T16:31:43.515942Z"
    }
   },
   "outputs": [],
   "source": [
    "hdr0 = hdu_list[1].header\n",
    "for key in hdr0.keys():\n",
    "    print(key, hdr0[key])"
   ]
  },
  {
   "cell_type": "code",
   "execution_count": null,
   "id": "c26367a4-be11-48e2-a8c0-c1a07310e527",
   "metadata": {},
   "outputs": [],
   "source": []
  }
 ],
 "metadata": {
  "kernelspec": {
   "display_name": "LSST",
   "language": "python",
   "name": "lsst"
  },
  "language_info": {
   "codemirror_mode": {
    "name": "ipython",
    "version": 3
   },
   "file_extension": ".py",
   "mimetype": "text/x-python",
   "name": "python",
   "nbconvert_exporter": "python",
   "pygments_lexer": "ipython3",
   "version": "3.12.9"
  }
 },
 "nbformat": 4,
 "nbformat_minor": 5
}
