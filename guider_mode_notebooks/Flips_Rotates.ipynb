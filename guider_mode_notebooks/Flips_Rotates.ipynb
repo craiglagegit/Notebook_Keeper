{
 "cells": [
  {
   "cell_type": "code",
   "execution_count": null,
   "id": "4a2caf41-091f-4378-9cae-df204139e621",
   "metadata": {
    "execution": {
     "iopub.execute_input": "2025-04-13T12:17:44.247516Z",
     "iopub.status.busy": "2025-04-13T12:17:44.247387Z",
     "iopub.status.idle": "2025-04-13T12:17:44.523464Z",
     "shell.execute_reply": "2025-04-13T12:17:44.523080Z",
     "shell.execute_reply.started": "2025-04-13T12:17:44.247502Z"
    }
   },
   "outputs": [],
   "source": [
    "import matplotlib.pyplot as plt\n",
    "import numpy as np\n"
   ]
  },
  {
   "cell_type": "code",
   "execution_count": null,
   "id": "eaeb2f8c-033f-4769-b0fa-3d018225148a",
   "metadata": {
    "execution": {
     "iopub.execute_input": "2025-04-13T12:18:05.073346Z",
     "iopub.status.busy": "2025-04-13T12:18:05.073026Z",
     "iopub.status.idle": "2025-04-13T12:18:05.075615Z",
     "shell.execute_reply": "2025-04-13T12:18:05.075303Z",
     "shell.execute_reply.started": "2025-04-13T12:18:05.073328Z"
    }
   },
   "outputs": [],
   "source": [
    "arr = np.zeros([10,10])"
   ]
  },
  {
   "cell_type": "code",
   "execution_count": null,
   "id": "d206e3e1-a7c5-44ee-8a1c-4970c9875dec",
   "metadata": {
    "execution": {
     "iopub.execute_input": "2025-04-13T12:20:00.084888Z",
     "iopub.status.busy": "2025-04-13T12:20:00.084593Z",
     "iopub.status.idle": "2025-04-13T12:20:00.087383Z",
     "shell.execute_reply": "2025-04-13T12:20:00.087087Z",
     "shell.execute_reply.started": "2025-04-13T12:20:00.084873Z"
    }
   },
   "outputs": [],
   "source": [
    "for i in range(10):\n",
    "    for j in range(10):\n",
    "        arr[i,j] = 2 * i + 8 * j"
   ]
  },
  {
   "cell_type": "code",
   "execution_count": null,
   "id": "47aa475e-5484-4837-a52a-2c8c9643a7a7",
   "metadata": {
    "execution": {
     "iopub.execute_input": "2025-04-13T12:20:00.822206Z",
     "iopub.status.busy": "2025-04-13T12:20:00.821573Z",
     "iopub.status.idle": "2025-04-13T12:20:00.899243Z",
     "shell.execute_reply": "2025-04-13T12:20:00.898849Z",
     "shell.execute_reply.started": "2025-04-13T12:20:00.822179Z"
    }
   },
   "outputs": [],
   "source": [
    "plt.imshow(arr)"
   ]
  },
  {
   "cell_type": "code",
   "execution_count": null,
   "id": "a576ce3e-769d-4e5f-8b74-bb819b7c24fc",
   "metadata": {
    "execution": {
     "iopub.execute_input": "2025-04-13T12:20:36.640035Z",
     "iopub.status.busy": "2025-04-13T12:20:36.639746Z",
     "iopub.status.idle": "2025-04-13T12:20:36.642416Z",
     "shell.execute_reply": "2025-04-13T12:20:36.642087Z",
     "shell.execute_reply.started": "2025-04-13T12:20:36.640021Z"
    }
   },
   "outputs": [],
   "source": [
    "arr2 = np.rot90(arr, axes=(0,1))"
   ]
  },
  {
   "cell_type": "code",
   "execution_count": null,
   "id": "0c24f908-87dd-471d-b922-76b7533b7da0",
   "metadata": {
    "execution": {
     "iopub.execute_input": "2025-04-13T12:20:49.032069Z",
     "iopub.status.busy": "2025-04-13T12:20:49.031717Z",
     "iopub.status.idle": "2025-04-13T12:20:49.107892Z",
     "shell.execute_reply": "2025-04-13T12:20:49.107560Z",
     "shell.execute_reply.started": "2025-04-13T12:20:49.032049Z"
    }
   },
   "outputs": [],
   "source": [
    "plt.imshow(arr2)"
   ]
  },
  {
   "cell_type": "code",
   "execution_count": null,
   "id": "88ba15f8-90fd-42f2-8bfe-37617e823339",
   "metadata": {
    "execution": {
     "iopub.execute_input": "2025-04-13T12:21:27.990921Z",
     "iopub.status.busy": "2025-04-13T12:21:27.990628Z",
     "iopub.status.idle": "2025-04-13T12:21:27.993283Z",
     "shell.execute_reply": "2025-04-13T12:21:27.992950Z",
     "shell.execute_reply.started": "2025-04-13T12:21:27.990907Z"
    }
   },
   "outputs": [],
   "source": [
    "arr3 = np.rot90(arr2, axes=(0,1))"
   ]
  },
  {
   "cell_type": "code",
   "execution_count": null,
   "id": "469f27d3-45fb-4c02-9191-6517fe81a531",
   "metadata": {
    "execution": {
     "iopub.execute_input": "2025-04-13T12:21:37.749994Z",
     "iopub.status.busy": "2025-04-13T12:21:37.749690Z",
     "iopub.status.idle": "2025-04-13T12:21:37.822681Z",
     "shell.execute_reply": "2025-04-13T12:21:37.822331Z",
     "shell.execute_reply.started": "2025-04-13T12:21:37.749970Z"
    }
   },
   "outputs": [],
   "source": [
    "plt.imshow(arr3)"
   ]
  },
  {
   "cell_type": "code",
   "execution_count": null,
   "id": "6d2bd58e-b474-4f50-b451-e58570ff4f77",
   "metadata": {
    "execution": {
     "iopub.execute_input": "2025-04-13T12:22:04.664968Z",
     "iopub.status.busy": "2025-04-13T12:22:04.664344Z",
     "iopub.status.idle": "2025-04-13T12:22:04.666987Z",
     "shell.execute_reply": "2025-04-13T12:22:04.666660Z",
     "shell.execute_reply.started": "2025-04-13T12:22:04.664952Z"
    }
   },
   "outputs": [],
   "source": [
    "arr3b = np.transpose(arr)"
   ]
  },
  {
   "cell_type": "code",
   "execution_count": null,
   "id": "1e2650e9-debe-446d-97d6-e2360c7752b5",
   "metadata": {
    "execution": {
     "iopub.execute_input": "2025-04-13T12:22:14.377340Z",
     "iopub.status.busy": "2025-04-13T12:22:14.376990Z",
     "iopub.status.idle": "2025-04-13T12:22:14.452127Z",
     "shell.execute_reply": "2025-04-13T12:22:14.451737Z",
     "shell.execute_reply.started": "2025-04-13T12:22:14.377322Z"
    }
   },
   "outputs": [],
   "source": [
    "plt.imshow(arr3b)"
   ]
  },
  {
   "cell_type": "code",
   "execution_count": null,
   "id": "049cdbe5-d1e7-4682-ad6b-c75e4c08ae3d",
   "metadata": {
    "execution": {
     "iopub.execute_input": "2025-04-13T12:23:09.608649Z",
     "iopub.status.busy": "2025-04-13T12:23:09.608426Z",
     "iopub.status.idle": "2025-04-13T12:23:09.611128Z",
     "shell.execute_reply": "2025-04-13T12:23:09.610788Z",
     "shell.execute_reply.started": "2025-04-13T12:23:09.608635Z"
    }
   },
   "outputs": [],
   "source": [
    "arr3c = np.flipud(arr)\n",
    "arr3d = np.fliplr(arr3c)"
   ]
  },
  {
   "cell_type": "code",
   "execution_count": null,
   "id": "787a24f1-7760-4daa-bf2d-f859aeacc88a",
   "metadata": {
    "execution": {
     "iopub.execute_input": "2025-04-13T12:23:18.902857Z",
     "iopub.status.busy": "2025-04-13T12:23:18.902498Z",
     "iopub.status.idle": "2025-04-13T12:23:18.982022Z",
     "shell.execute_reply": "2025-04-13T12:23:18.981670Z",
     "shell.execute_reply.started": "2025-04-13T12:23:18.902840Z"
    }
   },
   "outputs": [],
   "source": [
    "plt.imshow(arr3d)"
   ]
  },
  {
   "cell_type": "code",
   "execution_count": null,
   "id": "b8ad4847-76b2-4192-b89a-067516d03a64",
   "metadata": {
    "execution": {
     "iopub.execute_input": "2025-04-13T12:23:39.362111Z",
     "iopub.status.busy": "2025-04-13T12:23:39.361812Z",
     "iopub.status.idle": "2025-04-13T12:23:39.365590Z",
     "shell.execute_reply": "2025-04-13T12:23:39.365242Z",
     "shell.execute_reply.started": "2025-04-13T12:23:39.362095Z"
    }
   },
   "outputs": [],
   "source": [
    "arr3 - arr3d"
   ]
  },
  {
   "cell_type": "code",
   "execution_count": null,
   "id": "f9510827-dc11-473a-a924-be9b5c6df29a",
   "metadata": {
    "execution": {
     "iopub.execute_input": "2025-04-13T12:24:13.690533Z",
     "iopub.status.busy": "2025-04-13T12:24:13.690224Z",
     "iopub.status.idle": "2025-04-13T12:24:13.693009Z",
     "shell.execute_reply": "2025-04-13T12:24:13.692656Z",
     "shell.execute_reply.started": "2025-04-13T12:24:13.690516Z"
    }
   },
   "outputs": [],
   "source": [
    "arr4 = np.rot90(arr, axes=(1,0))"
   ]
  },
  {
   "cell_type": "code",
   "execution_count": null,
   "id": "bb92c689-4ba3-437d-96c8-c65560df135c",
   "metadata": {
    "execution": {
     "iopub.execute_input": "2025-04-13T12:24:20.977654Z",
     "iopub.status.busy": "2025-04-13T12:24:20.977312Z",
     "iopub.status.idle": "2025-04-13T12:24:21.050243Z",
     "shell.execute_reply": "2025-04-13T12:24:21.049889Z",
     "shell.execute_reply.started": "2025-04-13T12:24:20.977640Z"
    }
   },
   "outputs": [],
   "source": [
    "plt.imshow(arr4)"
   ]
  },
  {
   "cell_type": "code",
   "execution_count": null,
   "id": "e4bac37f-706d-4299-b8a1-7311832a96c1",
   "metadata": {},
   "outputs": [],
   "source": []
  }
 ],
 "metadata": {
  "kernelspec": {
   "display_name": "LSST",
   "language": "python",
   "name": "lsst"
  },
  "language_info": {
   "codemirror_mode": {
    "name": "ipython",
    "version": 3
   },
   "file_extension": ".py",
   "mimetype": "text/x-python",
   "name": "python",
   "nbconvert_exporter": "python",
   "pygments_lexer": "ipython3",
   "version": "3.12.9"
  }
 },
 "nbformat": 4,
 "nbformat_minor": 5
}
