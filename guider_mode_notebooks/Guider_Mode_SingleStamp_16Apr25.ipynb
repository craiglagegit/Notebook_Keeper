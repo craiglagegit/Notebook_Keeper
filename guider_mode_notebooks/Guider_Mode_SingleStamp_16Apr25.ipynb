{
 "cells": [
  {
   "cell_type": "markdown",
   "id": "73e1267b-d2a5-40b2-90bb-6e0ad4617d5b",
   "metadata": {},
   "source": [
    "## Guider mode quick look\n",
    "This is intended to unpack the rawStamps from guider mode FITS files and \n",
    "give a quick look of a single stamp for one CCD. \\\n",
    "Craig Lage - 16-Apr-25"
   ]
  },
  {
   "cell_type": "code",
   "execution_count": null,
   "id": "eb7fec00-8cc7-4636-919e-293830c239a0",
   "metadata": {},
   "outputs": [],
   "source": [
    "import os\n",
    "import shlex, subprocess\n",
    "import matplotlib.pyplot as plt\n",
    "from lsst.summit.utils.plotting import plot\n",
    "import numpy as np\n",
    "from astropy.io import fits\n",
    "from lsst.resources import ResourcePath\n",
    "import matplotlib.colors as colors\n",
    "from lsst.summit.utils import getQuantiles\n",
    "import scipy.ndimage as ndi"
   ]
  },
  {
   "cell_type": "markdown",
   "id": "f8cb8445-f7da-40e7-8edf-752a18fef668",
   "metadata": {},
   "source": [
    "# Get the main header and the information it contains"
   ]
  },
  {
   "cell_type": "code",
   "execution_count": null,
   "id": "c861dde2-ab26-476b-affe-38a1b9161e46",
   "metadata": {},
   "outputs": [],
   "source": [
    "def getMainHeaderInfo(hdu_list):\n",
    "    hdr0 = hdu_list[0].header\n",
    "    roiCol = hdr0['ROICOL']\n",
    "    roiRow = hdr0['ROIROW']\n",
    "    roiCols = hdr0['ROICOLS']\n",
    "    roiRows = hdr0['ROIROWS']\n",
    "    try:\n",
    "        roiUnder = hdr0['ROIUNDRC']\n",
    "    except:\n",
    "        roiUnder = 6\n",
    "    nStamps = hdr0['N_STAMPS']\n",
    "    \n",
    "    # Set the xor value - Guider CCDs are different from science CCDs\n",
    "    if raft in ['R00', 'R04', 'R40', 'R44']:\n",
    "        # Guider rafts\n",
    "        xor = 0x20000\n",
    "    else:\n",
    "        # Science rafts\n",
    "        xor = 0x1ffff\n",
    "    return [roiRow, roiCol, roiRows, roiCols, roiUnder, nStamps, xor]"
   ]
  },
  {
   "cell_type": "markdown",
   "id": "bca7aa97-0a90-4e2e-a5a9-10fd828c919c",
   "metadata": {},
   "source": [
    "# Now define the code to unpack the rawStamps:"
   ]
  },
  {
   "cell_type": "code",
   "execution_count": null,
   "id": "2e51d1a5-eccb-41d5-aea3-7f87778d5ce4",
   "metadata": {},
   "outputs": [],
   "source": [
    "def unpackStamps(hduNum):\n",
    "    data = np.array(hdu_list[hduNum].data[0]).astype('>u4')[0]\n",
    "    data.byteswap(inplace=True)\n",
    "    totalCols = roiCols + roiUnder\n",
    "    size = roiRows * totalCols\n",
    "    out = np.zeros([16, size], dtype=int)\n",
    "    image_out = np.zeros([16, roiRows, roiCols], dtype=int)\n",
    "    for n in range(size):\n",
    "        # Get 9 32 bit words of data\n",
    "        res = ''\n",
    "        for i in range(9):\n",
    "            d = data[(size - n) * 9 - i - 1]\n",
    "            d = format(d, '#034b')\n",
    "            d = d.split('b')[1]\n",
    "            res += d\n",
    "        # Now extract 16 18 bit words from the data\n",
    "        for i in range(16):\n",
    "            bin_value = res[i * 18:(i + 1) * 18]\n",
    "            int_value = int(bin_value, 2)\n",
    "            final_value = int_value ^ xor\n",
    "            out[i,n] = final_value  \n",
    "    for i in range(16):\n",
    "        reshaped = out[i,:].reshape(roiRows, totalCols)\n",
    "        image_out[i,:,:] = np.flipud(np.fliplr(reshaped[:,0:roiCols]))\n",
    "    return image_out"
   ]
  },
  {
   "cell_type": "markdown",
   "id": "73887c76-55ff-4f8b-b73e-d9057c59cd56",
   "metadata": {},
   "source": [
    "# Build a movie of a single stamp"
   ]
  },
  {
   "cell_type": "code",
   "execution_count": null,
   "id": "2a8c79b4-a2d8-478f-b5ad-a12889ff979e",
   "metadata": {},
   "outputs": [],
   "source": [
    "dayObs = 20250414\n",
    "seqNum = 660\n",
    "seg = 12\n",
    "expId = int(f\"{dayObs}{seqNum:05d}\")\n",
    "raft = 'R00'\n",
    "ccd = 'SG1'\n",
    "filename = f\"s3://embargo@rubin-summit/LSSTCam/{dayObs}/MC_O_{dayObs}_{seqNum:06d}/MC_O_{dayObs}_{seqNum:06d}_{raft}_{ccd}_guider.fits\"\n",
    "\n",
    "rp = ResourcePath(filename)\n",
    "with rp.open(mode=\"rb\") as f:\n",
    "    hdu_list = fits.open(f)\n",
    "[roiRow, roiCol, roiRows, roiCols, roiUnder, nStamps, xor] = getMainHeaderInfo(hdu_list)\n",
    "detName = f\"{raft}_{ccd}\"\n",
    "\n",
    "dirName = f\"/home/c/cslage/u/Guider_Mode/LSSTCam_movie_{expId}_{raft}_{ccd}_{seg}\"\n",
    "%mkdir -p {dirName}\n",
    "movieName = f\"Guider__{expId}_{raft}_{ccd}_{seg}.mp4\"\n",
    "print(movieName)\n",
    "# Build the individual frames\n",
    "\n",
    "fig = plt.figure(figsize=(10,10))\n",
    "xcom = []\n",
    "ycom = []\n",
    "for n in range(1, nStamps):    \n",
    "    hduNum = 2 * n + 1\n",
    "    hdrn = hdu_list[hduNum].header\n",
    "    timestamp = hdrn['STMPTIME']\n",
    "    image_out = unpackStamps(hduNum)\n",
    "    roiarr = image_out[seg]\n",
    "    com = ndi.center_of_mass((roiarr-np.median(roiarr)))\n",
    "    xcom.append(com[0] * 0.2)\n",
    "    ycom.append(com[1] * 0.2)\n",
    "    plt.suptitle(f\"Guider mode {expId} {raft}_{ccd}_{seg}, \\n Frame {n+1} {timestamp}\", fontsize=18) \n",
    "    plt.imshow(roiarr, interpolation='nearest', origin='lower', cmap='Greys')\n",
    "    plt.savefig(f\"{dirName}/Frame_{n:03d}.png\")\n",
    "    plt.clf()\n",
    "    if n % 10 == 0:\n",
    "        print(f\"Finished frame {n}\")\n",
    "print(\"Done building frames\")    \n",
    "\n"
   ]
  },
  {
   "cell_type": "code",
   "execution_count": null,
   "id": "f87d14e0-4863-4c70-8695-858945357e9f",
   "metadata": {},
   "outputs": [],
   "source": [
    "print(f\"\\033[1mThe movie name will be: {dirName}/{movieName}\\033[0m\")\n",
    "\n",
    "command = f\"ffmpeg -pattern_type glob -i '{dirName}/*.png' -f mp4 -vcodec libx264 -pix_fmt yuv420p -framerate 50 -y {dirName}/{movieName}\"\n",
    "args = shlex.split(command)\n",
    "build_movie = subprocess.Popen(args)\n",
    "build_movie.wait()"
   ]
  },
  {
   "cell_type": "code",
   "execution_count": null,
   "id": "d24aae3f-eeca-4ec6-86d2-197909f087de",
   "metadata": {},
   "outputs": [],
   "source": []
  }
 ],
 "metadata": {
  "kernelspec": {
   "display_name": "LSST",
   "language": "python",
   "name": "lsst"
  },
  "language_info": {
   "codemirror_mode": {
    "name": "ipython",
    "version": 3
   },
   "file_extension": ".py",
   "mimetype": "text/x-python",
   "name": "python",
   "nbconvert_exporter": "python",
   "pygments_lexer": "ipython3",
   "version": "3.12.10"
  }
 },
 "nbformat": 4,
 "nbformat_minor": 5
}
