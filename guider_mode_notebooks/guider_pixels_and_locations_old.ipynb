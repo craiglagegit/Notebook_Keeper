{
 "cells": [
  {
   "cell_type": "code",
   "execution_count": null,
   "id": "b1b2f23b-c962-4683-be9d-934aed1cdcc2",
   "metadata": {
    "execution": {
     "iopub.execute_input": "2025-04-15T16:55:20.361580Z",
     "iopub.status.busy": "2025-04-15T16:55:20.361188Z",
     "iopub.status.idle": "2025-04-15T16:55:20.871716Z",
     "shell.execute_reply": "2025-04-15T16:55:20.871292Z",
     "shell.execute_reply.started": "2025-04-15T16:55:20.361560Z"
    }
   },
   "outputs": [],
   "source": [
    "import numpy as np\n",
    "from matplotlib import pyplot as plt\n",
    "from lsst.afw import cameraGeom\n",
    "from lsst.obs.lsst.cameraTransforms import LsstCameraTransforms\n",
    "from lsst.obs.lsst import LsstCam\n",
    "camera = LsstCam.getCamera()"
   ]
  },
  {
   "cell_type": "code",
   "execution_count": null,
   "id": "bc0815a0-67b0-42ae-aa63-b5c15e999f42",
   "metadata": {
    "execution": {
     "iopub.execute_input": "2025-04-15T16:53:07.033692Z",
     "iopub.status.busy": "2025-04-15T16:53:07.033191Z",
     "iopub.status.idle": "2025-04-15T16:53:07.036959Z",
     "shell.execute_reply": "2025-04-15T16:53:07.036540Z",
     "shell.execute_reply.started": "2025-04-15T16:53:07.033675Z"
    }
   },
   "outputs": [],
   "source": [
    "def focal_to_pixel(fpx, fpy, det):\n",
    "    \"\"\"\n",
    "    Parameters\n",
    "    ----------\n",
    "    fpx, fpy : array\n",
    "        Focal plane position in millimeters in DVCS\n",
    "        See https://lse-349.lsst.io/\n",
    "    det : lsst.afw.cameraGeom.Detector\n",
    "        Detector of interest.\n",
    "\n",
    "    Returns\n",
    "    -------\n",
    "    x, y : array\n",
    "        Pixel coordinates.\n",
    "    \"\"\"\n",
    "    tx = det.getTransform(cameraGeom.FOCAL_PLANE, cameraGeom.PIXELS)\n",
    "    x, y = tx.getMapping().applyForward(np.vstack((fpx, fpy)))\n",
    "    return x.ravel(), y.ravel()\n",
    "\n",
    "def pixel_to_focal(x, y, det):\n",
    "    \"\"\"\n",
    "    Parameters\n",
    "    ----------\n",
    "    x, y : array\n",
    "        Pixel coordinates.\n",
    "    det : lsst.afw.cameraGeom.Detector\n",
    "        Detector of interest.\n",
    "\n",
    "    Returns\n",
    "    -------\n",
    "    fpx, fpy : array\n",
    "        Focal plane position in millimeters in DVCS\n",
    "        See https://lse-349.lsst.io/\n",
    "    \"\"\"\n",
    "    tx = det.getTransform(cameraGeom.PIXELS, cameraGeom.FOCAL_PLANE)\n",
    "    fpx, fpy = tx.getMapping().applyForward(np.vstack((x, y)))\n",
    "    return fpx.ravel(), fpy.ravel()"
   ]
  },
  {
   "cell_type": "code",
   "execution_count": null,
   "id": "860cd83d-5d8b-4c01-a1d9-00e0260f43bc",
   "metadata": {
    "execution": {
     "iopub.execute_input": "2025-04-15T16:53:35.635986Z",
     "iopub.status.busy": "2025-04-15T16:53:35.635587Z",
     "iopub.status.idle": "2025-04-15T16:53:35.638932Z",
     "shell.execute_reply": "2025-04-15T16:53:35.638602Z",
     "shell.execute_reply.started": "2025-04-15T16:53:35.635969Z"
    }
   },
   "outputs": [],
   "source": [
    "lct = {}\n",
    "for detector in camera:\n",
    "    if detector.getType()== cameraGeom.DetectorType.GUIDER :\n",
    "        detName = detector.getName()\n",
    "        lct[detector.getId()] = LsstCameraTransforms(camera,detName)  "
   ]
  },
  {
   "cell_type": "code",
   "execution_count": null,
   "id": "9323c338-c597-4446-a43b-58e141ab9999",
   "metadata": {
    "execution": {
     "iopub.execute_input": "2025-04-15T16:55:24.438331Z",
     "iopub.status.busy": "2025-04-15T16:55:24.437537Z",
     "iopub.status.idle": "2025-04-15T16:55:24.478222Z",
     "shell.execute_reply": "2025-04-15T16:55:24.477743Z",
     "shell.execute_reply.started": "2025-04-15T16:55:24.438312Z"
    }
   },
   "outputs": [],
   "source": [
    "# given pixels ampX,ampY in Amp Pixel numbering , convert them to ccdX,ccdY in CCD pixel numbering\n",
    "\n",
    "col = 56\n",
    "row = 800\n",
    "roisize = 400\n",
    "\n",
    "guiders = {}\n",
    "\n",
    "for detector in camera:\n",
    "    if detector.getType()== cameraGeom.DetectorType.GUIDER :\n",
    "        detName = detector.getName()\n",
    "        idet = detector.getId()\n",
    "        bbox = detector.getBBox()\n",
    "        nx,ny = bbox.getDimensions()\n",
    "        guiders[idet] = np.zeros((ny,nx))\n",
    "\n",
    "        for amp in detector.getAmplifiers():\n",
    "            ampName = amp.getName()\n",
    "\n",
    "            llX = col\n",
    "            llY = row\n",
    "            urX = col + roisize\n",
    "            urY = row + roisize\n",
    "\n",
    "            llCCDX,llCCDY = lct[idet].ampPixelToCcdPixel(llX,llY,ampName)  # get CCD x,y these are floats\n",
    "            llfpX,llfpY = lct[idet].ampPixelToFocalMm(llX,llY,ampName)     # get focal plane x,y in mm\n",
    "\n",
    "            urCCDX,urCCDY = lct[idet].ampPixelToCcdPixel(urX,urY,ampName)\n",
    "            urfpX,urfpY = lct[idet].ampPixelToFocalMm(urX,urY,ampName)\n",
    "\n",
    "            #print(llCCDX,llCCDY,urCCDX,urCCDY)\n",
    "\n",
    "            # this doesn't workout how to map the stamps to the CCD, but the ll,ur points have enough info\n",
    "            guiders[idet][int(min(llCCDY,urCCDY)):int(max(llCCDY,urCCDY)),\n",
    "                int(min(llCCDX,urCCDX)):int(max(llCCDX,urCCDX))] = 1.0"
   ]
  },
  {
   "cell_type": "code",
   "execution_count": null,
   "id": "23a6d9c3-8ea4-436d-a1e9-3cba2350c6f4",
   "metadata": {
    "execution": {
     "iopub.execute_input": "2025-04-15T16:55:52.137215Z",
     "iopub.status.busy": "2025-04-15T16:55:52.136882Z",
     "iopub.status.idle": "2025-04-15T16:55:53.098316Z",
     "shell.execute_reply": "2025-04-15T16:55:53.098003Z",
     "shell.execute_reply.started": "2025-04-15T16:55:52.137200Z"
    }
   },
   "outputs": [],
   "source": [
    "f,ax = plt.subplots(1,1)\n",
    "_ = ax.imshow(guiders[189],origin='lower')"
   ]
  }
 ],
 "metadata": {
  "kernelspec": {
   "display_name": "LSST",
   "language": "python",
   "name": "lsst"
  },
  "language_info": {
   "codemirror_mode": {
    "name": "ipython",
    "version": 3
   },
   "file_extension": ".py",
   "mimetype": "text/x-python",
   "name": "python",
   "nbconvert_exporter": "python",
   "pygments_lexer": "ipython3",
   "version": "3.12.10"
  },
  "widgets": {
   "application/vnd.jupyter.widget-state+json": {
    "state": {},
    "version_major": 2,
    "version_minor": 0
   }
  }
 },
 "nbformat": 4,
 "nbformat_minor": 5
}
