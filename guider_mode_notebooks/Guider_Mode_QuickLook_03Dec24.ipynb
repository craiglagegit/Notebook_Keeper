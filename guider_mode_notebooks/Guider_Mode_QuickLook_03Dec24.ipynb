{
 "cells": [
  {
   "cell_type": "markdown",
   "id": "192ec44c-3199-4c4e-b76e-d0356073756b",
   "metadata": {
    "execution": {
     "iopub.execute_input": "2024-08-02T16:24:58.781988Z",
     "iopub.status.busy": "2024-08-02T16:24:58.781677Z",
     "iopub.status.idle": "2024-08-02T16:24:58.785379Z",
     "shell.execute_reply": "2024-08-02T16:24:58.784744Z",
     "shell.execute_reply.started": "2024-08-02T16:24:58.781960Z"
    }
   },
   "source": [
    "# Guider mode quick look\n",
    "This is intended to unpack the rawStamps from guider mode FITS files and \n",
    "give a quick look of all 16 stamps for all 4 CCDs. \\\n",
    "Craig Lage - 03-Dec-24"
   ]
  },
  {
   "cell_type": "code",
   "execution_count": null,
   "id": "3088ee0a-aa8e-48a7-b287-3ae645b3faab",
   "metadata": {
    "execution": {
     "iopub.execute_input": "2025-04-12T12:51:17.398633Z",
     "iopub.status.busy": "2025-04-12T12:51:17.398463Z",
     "iopub.status.idle": "2025-04-12T12:51:17.746581Z",
     "shell.execute_reply": "2025-04-12T12:51:17.746093Z",
     "shell.execute_reply.started": "2025-04-12T12:51:17.398614Z"
    }
   },
   "outputs": [],
   "source": [
    "import os\n",
    "import shlex, subprocess\n",
    "import matplotlib.pyplot as plt\n",
    "from mpl_toolkits.axes_grid1 import make_axes_locatable\n",
    "import numpy as np\n",
    "from astropy.io import fits\n",
    "from lsst.resources import ResourcePath"
   ]
  },
  {
   "cell_type": "markdown",
   "id": "f8cb8445-f7da-40e7-8edf-752a18fef668",
   "metadata": {},
   "source": [
    "# Get the main header and the information it contains"
   ]
  },
  {
   "cell_type": "code",
   "execution_count": null,
   "id": "84da7275-2de8-4821-bec4-f6b26b00c305",
   "metadata": {
    "execution": {
     "iopub.execute_input": "2025-04-12T12:51:17.747672Z",
     "iopub.status.busy": "2025-04-12T12:51:17.747407Z",
     "iopub.status.idle": "2025-04-12T12:51:17.750634Z",
     "shell.execute_reply": "2025-04-12T12:51:17.750210Z",
     "shell.execute_reply.started": "2025-04-12T12:51:17.747657Z"
    }
   },
   "outputs": [],
   "source": [
    "def getMainHeaderInfo(hdu_list):\n",
    "    hdr0 = hdu_list[0].header\n",
    "    roiCols = hdr0['ROICOLS']\n",
    "    roiRows = hdr0['ROIROWS']\n",
    "    try:\n",
    "        roiUnder = hdr0['ROIUNDER']\n",
    "    except:\n",
    "        roiUnder = 6\n",
    "    nStamps = hdr0['N_STAMPS']\n",
    "    \n",
    "    # Set the xor value - Guider CCDs are different from science CCDs\n",
    "    if raft in ['R00', 'R04', 'R40', 'R44']:\n",
    "        # Guider rafts\n",
    "        xor = 0x20000\n",
    "    else:\n",
    "        # Science rafts\n",
    "        xor = 0x1ffff\n",
    "    return [roiRows, roiCols, roiUnder, nStamps, xor]"
   ]
  },
  {
   "cell_type": "markdown",
   "id": "38f9dce1-6a04-4347-8a53-63699f775387",
   "metadata": {},
   "source": [
    "# Now define the code to unpack the rawStamps:"
   ]
  },
  {
   "cell_type": "code",
   "execution_count": null,
   "id": "2e51d1a5-eccb-41d5-aea3-7f87778d5ce4",
   "metadata": {
    "execution": {
     "iopub.execute_input": "2025-04-12T12:53:18.824302Z",
     "iopub.status.busy": "2025-04-12T12:53:18.823761Z",
     "iopub.status.idle": "2025-04-12T12:53:18.828233Z",
     "shell.execute_reply": "2025-04-12T12:53:18.827842Z",
     "shell.execute_reply.started": "2025-04-12T12:53:18.824283Z"
    }
   },
   "outputs": [],
   "source": [
    "def unpackStamps(hduNum):\n",
    "    data = (hdu_list[hduNum].data['rawStamp'][0]).astype('>u4')\n",
    "    data.byteswap(inplace=True)\n",
    "    totalCols = roiCols + roiUnder\n",
    "    size = roiRows * totalCols\n",
    "    out = np.zeros([16, size], dtype=int)\n",
    "    image_out = np.zeros([16, roiRows, roiCols], dtype=int)\n",
    "    print(type(data), len(data), data.shape, size)\n",
    "    \n",
    "    for n in range(size):\n",
    "        # Get 9 32 bit words of data\n",
    "        res = ''\n",
    "        for i in range(9):\n",
    "            d = data[(size - n) * 9 - i - 1]\n",
    "            d = format(d, '#034b')\n",
    "            d = d.split('b')[1]\n",
    "            res += d\n",
    "        # Now extract 16 18 bit words from the data\n",
    "        for i in range(16):\n",
    "            bin_value = res[i * 18:(i + 1) * 18]\n",
    "            int_value = int(bin_value, 2)\n",
    "            final_value = int_value ^ xor\n",
    "            out[i,n] = final_value  \n",
    "    for i in range(16):\n",
    "        reshaped = out[i,:].reshape(roiRows, totalCols)\n",
    "        image_out[i,:,:] = np.flipud(np.fliplr(reshaped[:,0:roiCols]))\n",
    "    return image_out"
   ]
  },
  {
   "cell_type": "code",
   "execution_count": null,
   "id": "7051b07a-49ac-4aeb-9c0f-1bd992dfeedc",
   "metadata": {
    "execution": {
     "iopub.execute_input": "2025-04-12T12:51:17.869018Z",
     "iopub.status.busy": "2025-04-12T12:51:17.868883Z",
     "iopub.status.idle": "2025-04-12T12:51:17.871093Z",
     "shell.execute_reply": "2025-04-12T12:51:17.870700Z",
     "shell.execute_reply.started": "2025-04-12T12:51:17.869005Z"
    }
   },
   "outputs": [],
   "source": [
    "# Set the scaling\n",
    "autoscale = True\n",
    "# Scale to use if autoscale = False\n",
    "vmin = 10000\n",
    "vmax = 30000"
   ]
  },
  {
   "cell_type": "markdown",
   "id": "257863ea-f430-4370-952a-ce33f372e16b",
   "metadata": {},
   "source": [
    "# Get a quick look at one frame for all 4 CCDs"
   ]
  },
  {
   "cell_type": "code",
   "execution_count": null,
   "id": "afd5de3d-6c0a-4bd9-aed1-f003eefa78e4",
   "metadata": {
    "execution": {
     "iopub.execute_input": "2025-04-12T12:53:21.125641Z",
     "iopub.status.busy": "2025-04-12T12:53:21.124975Z",
     "iopub.status.idle": "2025-04-12T12:53:30.328372Z",
     "shell.execute_reply": "2025-04-12T12:53:30.327932Z",
     "shell.execute_reply.started": "2025-04-12T12:53:21.125616Z"
    }
   },
   "outputs": [],
   "source": [
    "%matplotlib inline\n",
    "\n",
    "dayObs = 20241204\n",
    "seqNum = 129\n",
    "expId = int(f\"{dayObs}{seqNum:05d}\")\n",
    "raft = 'R22'\n",
    "ccds = ['S00', 'S01', 'S21', 'S22']\n",
    "n = 2 # This just unpacks one frame.  This chooses which frame\n",
    "\n",
    "for ccd in ccds:\n",
    "    filename = f\"s3://embargo@rubin-summit/LSSTComCam/{dayObs}/CC_O_{dayObs}_{seqNum:06d}/CC_O_{dayObs}_{seqNum:06d}_{raft}_{ccd}_guider.fits\"\n",
    "    \n",
    "    rp = ResourcePath(filename)\n",
    "    with rp.open(mode=\"rb\") as f:\n",
    "        hdu_list = fits.open(f)\n",
    "    [roiRows, roiCols, roiUnder, nStamps, xor] = getMainHeaderInfo(hdu_list)\n",
    "    hduNum = 2 * n + 1\n",
    "    hdrn = hdu_list[hduNum].header\n",
    "    timestamp = hdrn['STMPTIME']\n",
    "    image_out = unpackStamps(hduNum)\n",
    "    fig = plt.figure(figsize=(10,10))\n",
    "    axs = fig.subplots(4,4)\n",
    "    plt.subplots_adjust(wspace=.7, hspace=-0.2)\n",
    "    plt.suptitle(f\"Guider mode {raft} {ccd} {expId}, Frame {n+1}\\n{timestamp}\", fontsize=24)\n",
    "    for i in range(4):\n",
    "        for j in range(4):\n",
    "            seg = i + 4 * j\n",
    "            axs[i][j].set_title(f\"segment {seg}\")\n",
    "            if autoscale:\n",
    "                im = axs[i][j].imshow(image_out[seg], interpolation='nearest', origin='upper', cmap='Greys')\n",
    "            else:\n",
    "                im = axs[i][j].imshow(image_out[seg], interpolation='nearest', origin='upper', vmin=vmin, vmax=vmax, cmap='Greys')\n",
    "            divider = make_axes_locatable(axs[i][j])\n",
    "            cax = divider.append_axes(\"right\", size=\"5%\", pad=0.05)\n",
    "            fig.colorbar(im, cax=cax)\n",
    "            \n",
    "    plt.savefig(f\"/home/c/cslage/u/Guider_Mode/quick_looks/Guider_QuickLook_{expId}_{raft}_{ccd}.png\")"
   ]
  },
  {
   "cell_type": "markdown",
   "id": "8f287a32-a1ef-46b3-86e6-2e73d46a2ce1",
   "metadata": {
    "execution": {
     "iopub.execute_input": "2024-12-06T12:37:35.605996Z",
     "iopub.status.busy": "2024-12-06T12:37:35.605697Z",
     "iopub.status.idle": "2024-12-06T12:37:35.608485Z",
     "shell.execute_reply": "2024-12-06T12:37:35.608027Z",
     "shell.execute_reply.started": "2024-12-06T12:37:35.605979Z"
    }
   },
   "source": [
    "# Quick look at one of the headers"
   ]
  },
  {
   "cell_type": "code",
   "execution_count": null,
   "id": "79d2ff8b-4b90-497d-88cc-4654cdd7257c",
   "metadata": {},
   "outputs": [],
   "source": [
    "hduNum = 1\n",
    "hdr_test = hdu_list[hduNum].header\n",
    "for key in hdr_test.keys():\n",
    "    print(key, hdr_test[key])"
   ]
  }
 ],
 "metadata": {
  "kernelspec": {
   "display_name": "LSST",
   "language": "python",
   "name": "lsst"
  },
  "language_info": {
   "codemirror_mode": {
    "name": "ipython",
    "version": 3
   },
   "file_extension": ".py",
   "mimetype": "text/x-python",
   "name": "python",
   "nbconvert_exporter": "python",
   "pygments_lexer": "ipython3",
   "version": "3.12.9"
  }
 },
 "nbformat": 4,
 "nbformat_minor": 5
}
