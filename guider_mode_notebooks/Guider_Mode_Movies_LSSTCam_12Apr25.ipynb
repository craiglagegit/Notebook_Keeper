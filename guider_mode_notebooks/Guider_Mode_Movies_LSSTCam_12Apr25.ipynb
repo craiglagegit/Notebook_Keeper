{
 "cells": [
  {
   "cell_type": "markdown",
   "id": "73e1267b-d2a5-40b2-90bb-6e0ad4617d5b",
   "metadata": {},
   "source": [
    "## Guider mode movies\n",
    "This is intended to unpack the rawStamps from LSSTCAM guider mode FITS files and \n",
    "create a movie of all 16 stamps for all 8 guider CCDs. \\\n",
    "Craig Lage - 12-Apr-25"
   ]
  },
  {
   "cell_type": "code",
   "execution_count": null,
   "id": "eb7fec00-8cc7-4636-919e-293830c239a0",
   "metadata": {
    "execution": {
     "iopub.execute_input": "2025-04-18T13:26:39.895632Z",
     "iopub.status.busy": "2025-04-18T13:26:39.895413Z",
     "iopub.status.idle": "2025-04-18T13:26:39.901829Z",
     "shell.execute_reply": "2025-04-18T13:26:39.901382Z",
     "shell.execute_reply.started": "2025-04-18T13:26:39.895615Z"
    }
   },
   "outputs": [],
   "source": [
    "import os\n",
    "import shlex, subprocess\n",
    "import matplotlib.pyplot as plt\n",
    "import numpy as np\n",
    "from astropy.io import fits\n",
    "from lsst.resources import ResourcePath\n",
    "import matplotlib.colors as colors\n",
    "from lsst.summit.utils import getQuantiles\n",
    "import astropy.visualization as vis"
   ]
  },
  {
   "cell_type": "markdown",
   "id": "f8cb8445-f7da-40e7-8edf-752a18fef668",
   "metadata": {},
   "source": [
    "# Get the main header and the information it contains"
   ]
  },
  {
   "cell_type": "code",
   "execution_count": null,
   "id": "c861dde2-ab26-476b-affe-38a1b9161e46",
   "metadata": {
    "execution": {
     "iopub.execute_input": "2025-04-18T12:22:36.012795Z",
     "iopub.status.busy": "2025-04-18T12:22:36.012245Z",
     "iopub.status.idle": "2025-04-18T12:22:36.015865Z",
     "shell.execute_reply": "2025-04-18T12:22:36.015480Z",
     "shell.execute_reply.started": "2025-04-18T12:22:36.012779Z"
    }
   },
   "outputs": [],
   "source": [
    "def getMainHeaderInfo(hdu_list):\n",
    "    hdr0 = hdu_list[0].header\n",
    "    roiCols = hdr0['ROICOLS']\n",
    "    roiRows = hdr0['ROIROWS']\n",
    "    try:\n",
    "        roiUnder = hdr0['ROIUNDRC']\n",
    "    except:\n",
    "        roiUnder = 6\n",
    "    nStamps = hdr0['N_STAMPS']\n",
    "    \n",
    "    # Set the xor value - Guider CCDs are different from science CCDs\n",
    "    if raft in ['R00', 'R04', 'R40', 'R44']:\n",
    "        # Guider rafts\n",
    "        xor = 0x20000\n",
    "    else:\n",
    "        # Science rafts\n",
    "        xor = 0x1ffff\n",
    "    return [roiRows, roiCols, roiUnder, nStamps, xor]"
   ]
  },
  {
   "cell_type": "markdown",
   "id": "38f9dce1-6a04-4347-8a53-63699f775387",
   "metadata": {},
   "source": [
    "# Now define the code to unpack the rawStamps:"
   ]
  },
  {
   "cell_type": "code",
   "execution_count": null,
   "id": "2e51d1a5-eccb-41d5-aea3-7f87778d5ce4",
   "metadata": {
    "execution": {
     "iopub.execute_input": "2025-04-18T12:22:36.016553Z",
     "iopub.status.busy": "2025-04-18T12:22:36.016423Z",
     "iopub.status.idle": "2025-04-18T12:22:36.032796Z",
     "shell.execute_reply": "2025-04-18T12:22:36.032420Z",
     "shell.execute_reply.started": "2025-04-18T12:22:36.016541Z"
    }
   },
   "outputs": [],
   "source": [
    "def unpackStamps(hduNum):\n",
    "    data = np.array(hdu_list[hduNum].data[0]).astype('>u4')[0]\n",
    "    data.byteswap(inplace=True)\n",
    "    totalCols = roiCols + roiUnder\n",
    "    size = roiRows * totalCols\n",
    "    out = np.zeros([16, size], dtype=int)\n",
    "    image_out = np.zeros([16, roiRows, roiCols], dtype=int)\n",
    "    for n in range(size):\n",
    "        # Get 9 32 bit words of data\n",
    "        res = ''\n",
    "        for i in range(9):\n",
    "            d = data[(size - n) * 9 - i - 1]\n",
    "            d = format(d, '#034b')\n",
    "            d = d.split('b')[1]\n",
    "            res += d\n",
    "        # Now extract 16 18 bit words from the data\n",
    "        for i in range(16):\n",
    "            bin_value = res[i * 18:(i + 1) * 18]\n",
    "            int_value = int(bin_value, 2)\n",
    "            final_value = int_value ^ xor\n",
    "            out[i,n] = final_value  \n",
    "    for i in range(16):\n",
    "        reshaped = out[i,:].reshape(roiRows, totalCols)\n",
    "        image_out[i,:,:] = np.flipud(np.fliplr(reshaped[:,0:roiCols]))\n",
    "    return image_out"
   ]
  },
  {
   "cell_type": "code",
   "execution_count": null,
   "id": "7051b07a-49ac-4aeb-9c0f-1bd992dfeedc",
   "metadata": {
    "execution": {
     "iopub.execute_input": "2025-04-18T12:22:36.033821Z",
     "iopub.status.busy": "2025-04-18T12:22:36.033514Z",
     "iopub.status.idle": "2025-04-18T12:22:36.039646Z",
     "shell.execute_reply": "2025-04-18T12:22:36.039284Z",
     "shell.execute_reply.started": "2025-04-18T12:22:36.033807Z"
    }
   },
   "outputs": [],
   "source": [
    "# Set the scaling\n",
    "autoscale = True\n",
    "# Scale to use if autoscale = False\n",
    "vmin = 14500\n",
    "vmax = 15000"
   ]
  },
  {
   "cell_type": "markdown",
   "id": "4eb3dbae-bbdf-4381-a46d-0a28ece018a7",
   "metadata": {},
   "source": [
    "# Now build the frames for the movie"
   ]
  },
  {
   "cell_type": "code",
   "execution_count": null,
   "id": "965ff289-c5dc-4a0b-b6d6-c4ab6db1e77c",
   "metadata": {
    "execution": {
     "iopub.execute_input": "2025-04-18T13:33:36.764651Z",
     "iopub.status.busy": "2025-04-18T13:33:36.764421Z",
     "iopub.status.idle": "2025-04-18T13:34:01.982857Z",
     "shell.execute_reply": "2025-04-18T13:34:01.982354Z",
     "shell.execute_reply.started": "2025-04-18T13:33:36.764634Z"
    }
   },
   "outputs": [],
   "source": [
    "dayObs = 20250417\n",
    "seqNum = 599\n",
    "expId = int(f\"{dayObs}{seqNum:05d}\")\n",
    "\n",
    "# Get one CCD to know nStamps\n",
    "raft = 'R00'\n",
    "ccd = 'SG0'\n",
    "filename = f\"s3://embargo@rubin-summit/LSSTCam/{dayObs}/MC_O_{dayObs}_{seqNum:06d}/MC_O_{dayObs}_{seqNum:06d}_{raft}_{ccd}_guider.fits\"\n",
    "\n",
    "rp = ResourcePath(filename)\n",
    "with rp.open(mode=\"rb\") as f:\n",
    "    hdu_list = fits.open(f)\n",
    "[roiRows, roiCols, roiUnder, nStamps, xor] = getMainHeaderInfo(hdu_list)\n",
    "\n",
    "# This defines the plot locations for the 8 CCDs\n",
    "# Each entry is [raft, ccd, i0, j0, di, dj, rot]\n",
    "config = [['R00', 'SG0', 20, 9, -1, -1, True], ['R00', 'SG1', 12, 0, -1, 1, False], \n",
    "          ['R04', 'SG0', 11, 20, 1, -1, False], ['R04', 'SG1', 20, 12, -1, -1, True], \n",
    "          ['R40', 'SG0', 9, 0, -1, 1, False], ['R40', 'SG1', 0, 8, 1, 1, True],\n",
    "          ['R44', 'SG0', 0, 11, 1, 1, True], ['R44', 'SG1', 8, 20, 1, -1, False]]\n",
    "\n",
    "dirName = f\"/home/c/cslage/u/Guider_Mode/LSSTCam_movie_{expId}\"\n",
    "%mkdir -p {dirName}\n",
    "movieName = f\"Guider_{expId}.mp4\"\n",
    "print(movieName)\n",
    "# Build the individual frames\n",
    "fig = plt.figure(figsize=(10,10))\n",
    "for n in [1]:#range(1, nStamps+1):\n",
    "    axs = fig.subplots(21,21)\n",
    "    plt.subplots_adjust(wspace=0.1, hspace=0.1)\n",
    "    # Clear the axes and plot frames\n",
    "    for i in range(21):\n",
    "        for j in range(21):\n",
    "            axs[i][j].axis('off')\n",
    "            axs[i][j].set_xticks([])\n",
    "            axs[i][j].set_yticks([])\n",
    "    for [raft, ccd, i0, j0, di, dj, rot] in config:\n",
    "        filename = f\"s3://embargo@rubin-summit/LSSTCam/{dayObs}/MC_O_{dayObs}_{seqNum:06d}/MC_O_{dayObs}_{seqNum:06d}_{raft}_{ccd}_guider.fits\"\n",
    "        \n",
    "        rp = ResourcePath(filename)\n",
    "        with rp.open(mode=\"rb\") as f:\n",
    "            hdu_list = fits.open(f)\n",
    "        [roiRows, roiCols, roiUnder, nStamps, xor] = getMainHeaderInfo(hdu_list)\n",
    "        hduNum = 2 * n + 1\n",
    "        hdrn = hdu_list[hduNum].header\n",
    "        timestamp = hdrn['STMPTIME']\n",
    "        image_out = unpackStamps(hduNum)\n",
    "        i = i0; j = j0\n",
    "        # Set the CCD titles\n",
    "        if rot:\n",
    "            if dj < 0:\n",
    "                axs[i0 + 3 * di][j0 - 1].set_title(f\"{raft}_{ccd}\", fontsize=12, rotation='vertical',x=-0.3,y=0.5)\n",
    "            else:\n",
    "                axs[i0 + 3 * di][j0].set_title(f\"{raft}_{ccd}\", fontsize=12, rotation='vertical',x=-0.4,y=-0.5)\n",
    "        else:\n",
    "            if di < 0:\n",
    "                axs[i0 - 1][j0 + 3 * dj].set_title(f\"{raft}_{ccd}\", fontsize=12, loc='center')\n",
    "            else:\n",
    "                axs[i0][j0 + 3 * dj].set_title(f\"{raft}_{ccd}\", fontsize=12, loc='center')\n",
    "        # Now plot the data\n",
    "        for seg in range(16):\n",
    "            #print(raft, ccd, seg, i, j)\n",
    "            arr = image_out[seg]\n",
    "            #quantiles = getQuantiles(arr, 128)\n",
    "            #norm = colors.BoundaryNorm(quantiles, 128)\n",
    "            percentile = 1.0\n",
    "            #interval = vis.PercentileInterval(percentile)\n",
    "            #norm = vis.ImageNormalize(arr, interval=interval, stretch=vis.LogStretch(a=1))\n",
    "            med = np.median(arr)\n",
    "            vmin = med * (1.0 - percentile / 100.0)\n",
    "            vmax = med * (1.0 + percentile / 100.0)\n",
    "            \n",
    "            if rot:\n",
    "                arr = np.transpose(arr)\n",
    "            im = axs[i][j].imshow(arr, interpolation='nearest', \n",
    "                                  origin='lower', cmap='Greys', vmin=vmin, vmax=vmax)#norm=norm)\n",
    "\n",
    "            #axs[i][j].text(roiRows/2.0, roiCols/2.0,f\"{seg}\") # For segment check\n",
    "            if rot:\n",
    "                if seg == 7:\n",
    "                    j += dj\n",
    "                    i = i0\n",
    "                else:\n",
    "                    i += di\n",
    "            else:\n",
    "                if seg == 7:\n",
    "                    i += di\n",
    "                    j = j0\n",
    "                else:\n",
    "                    j += dj\n",
    "    plt.suptitle(f\"Guider mode {expId}, \\n Frame {n+1} {timestamp}\", fontsize=18) \n",
    "    plt.savefig(f\"{dirName}/Frame_{n:03d}.png\")\n",
    "    plt.clf()\n",
    "    if n % 10 == 0:\n",
    "        print(f\"Finished frame {n}\")\n",
    "print(\"Done building frames\")"
   ]
  },
  {
   "cell_type": "code",
   "execution_count": null,
   "id": "14b37f24-a483-44b8-8b6e-86d1b553fb06",
   "metadata": {
    "execution": {
     "iopub.execute_input": "2025-04-16T12:58:02.951949Z",
     "iopub.status.busy": "2025-04-16T12:58:02.951616Z",
     "iopub.status.idle": "2025-04-16T12:58:03.390267Z",
     "shell.execute_reply": "2025-04-16T12:58:03.389849Z",
     "shell.execute_reply.started": "2025-04-16T12:58:02.951931Z"
    }
   },
   "outputs": [],
   "source": [
    "print(f\"\\033[1mThe movie name will be: {dirName}/{movieName}\\033[0m\")\n",
    "\n",
    "command = f\"ffmpeg -pattern_type glob -i '{dirName}/*.png' -f mp4 -vcodec libx264 -pix_fmt yuv420p -framerate 50 -y {dirName}/{movieName}\"\n",
    "args = shlex.split(command)\n",
    "build_movie = subprocess.Popen(args)\n",
    "build_movie.wait()"
   ]
  },
  {
   "cell_type": "code",
   "execution_count": null,
   "id": "ed538e80-c383-47ae-a057-fe0aebce0639",
   "metadata": {},
   "outputs": [],
   "source": []
  }
 ],
 "metadata": {
  "kernelspec": {
   "display_name": "LSST",
   "language": "python",
   "name": "lsst"
  },
  "language_info": {
   "codemirror_mode": {
    "name": "ipython",
    "version": 3
   },
   "file_extension": ".py",
   "mimetype": "text/x-python",
   "name": "python",
   "nbconvert_exporter": "python",
   "pygments_lexer": "ipython3",
   "version": "3.12.10"
  }
 },
 "nbformat": 4,
 "nbformat_minor": 5
}
