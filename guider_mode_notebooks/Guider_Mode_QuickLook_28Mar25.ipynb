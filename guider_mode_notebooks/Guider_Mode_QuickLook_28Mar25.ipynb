{
 "cells": [
  {
   "cell_type": "markdown",
   "id": "73e1267b-d2a5-40b2-90bb-6e0ad4617d5b",
   "metadata": {},
   "source": [
    "## Guider mode quick look\n",
    "This is intended to unpack the rawStamps from guider mode FITS files and \n",
    "give a quick look of all 16 stamps for all 4 CCDs. \\\n",
    "Craig Lage - 12-Apr-25"
   ]
  },
  {
   "cell_type": "code",
   "execution_count": null,
   "id": "eb7fec00-8cc7-4636-919e-293830c239a0",
   "metadata": {
    "execution": {
     "iopub.execute_input": "2025-04-12T12:35:20.506104Z",
     "iopub.status.busy": "2025-04-12T12:35:20.505761Z",
     "iopub.status.idle": "2025-04-12T12:35:20.917702Z",
     "shell.execute_reply": "2025-04-12T12:35:20.917280Z",
     "shell.execute_reply.started": "2025-04-12T12:35:20.506083Z"
    }
   },
   "outputs": [],
   "source": [
    "import os\n",
    "import shlex, subprocess\n",
    "import matplotlib.pyplot as plt\n",
    "from mpl_toolkits.axes_grid1 import make_axes_locatable\n",
    "import numpy as np\n",
    "from astropy.io import fits\n",
    "from lsst.resources import ResourcePath"
   ]
  },
  {
   "cell_type": "markdown",
   "id": "f8cb8445-f7da-40e7-8edf-752a18fef668",
   "metadata": {},
   "source": [
    "# Get the main header and the information it contains"
   ]
  },
  {
   "cell_type": "code",
   "execution_count": null,
   "id": "c861dde2-ab26-476b-affe-38a1b9161e46",
   "metadata": {
    "execution": {
     "iopub.execute_input": "2025-04-12T13:08:25.775738Z",
     "iopub.status.busy": "2025-04-12T13:08:25.775374Z",
     "iopub.status.idle": "2025-04-12T13:08:25.778712Z",
     "shell.execute_reply": "2025-04-12T13:08:25.778301Z",
     "shell.execute_reply.started": "2025-04-12T13:08:25.775722Z"
    }
   },
   "outputs": [],
   "source": [
    "def getMainHeaderInfo(hdu_list):\n",
    "    hdr0 = hdu_list[0].header\n",
    "    roiCols = hdr0['ROICOLS']\n",
    "    roiRows = hdr0['ROIROWS']\n",
    "    try:\n",
    "        roiUnder = hdr0['ROIUNDRC']\n",
    "    except:\n",
    "        roiUnder = 6\n",
    "    nStamps = hdr0['N_STAMPS']\n",
    "    \n",
    "    # Set the xor value - Guider CCDs are different from science CCDs\n",
    "    if raft in ['R00', 'R04', 'R40', 'R44']:\n",
    "        # Guider rafts\n",
    "        xor = 0x20000\n",
    "    else:\n",
    "        # Science rafts\n",
    "        xor = 0x1ffff\n",
    "    return [roiRows, roiCols, roiUnder, nStamps, xor]"
   ]
  },
  {
   "cell_type": "markdown",
   "id": "38f9dce1-6a04-4347-8a53-63699f775387",
   "metadata": {},
   "source": [
    "# Now define the code to unpack the rawStamps:"
   ]
  },
  {
   "cell_type": "code",
   "execution_count": null,
   "id": "2e51d1a5-eccb-41d5-aea3-7f87778d5ce4",
   "metadata": {
    "execution": {
     "iopub.execute_input": "2025-04-12T13:08:44.120900Z",
     "iopub.status.busy": "2025-04-12T13:08:44.120635Z",
     "iopub.status.idle": "2025-04-12T13:08:44.125118Z",
     "shell.execute_reply": "2025-04-12T13:08:44.124574Z",
     "shell.execute_reply.started": "2025-04-12T13:08:44.120883Z"
    }
   },
   "outputs": [],
   "source": [
    "def unpackStamps(hduNum):\n",
    "    data = np.array(hdu_list[hduNum].data[0]).astype('>u4')[0]\n",
    "    data.byteswap(inplace=True)\n",
    "    totalCols = roiCols + roiUnder\n",
    "    size = roiRows * totalCols\n",
    "    out = np.zeros([16, size], dtype=int)\n",
    "    image_out = np.zeros([16, roiRows, roiCols], dtype=int)\n",
    "    for n in range(size):\n",
    "        # Get 9 32 bit words of data\n",
    "        res = ''\n",
    "        for i in range(9):\n",
    "            d = data[(size - n) * 9 - i - 1]\n",
    "            d = format(d, '#034b')\n",
    "            d = d.split('b')[1]\n",
    "            res += d\n",
    "        # Now extract 16 18 bit words from the data\n",
    "        for i in range(16):\n",
    "            bin_value = res[i * 18:(i + 1) * 18]\n",
    "            int_value = int(bin_value, 2)\n",
    "            final_value = int_value ^ xor\n",
    "            out[i,n] = final_value  \n",
    "    for i in range(16):\n",
    "        reshaped = out[i,:].reshape(roiRows, totalCols)\n",
    "        image_out[i,:,:] = np.flipud(np.fliplr(reshaped[:,0:roiCols]))\n",
    "    return image_out"
   ]
  },
  {
   "cell_type": "code",
   "execution_count": null,
   "id": "7051b07a-49ac-4aeb-9c0f-1bd992dfeedc",
   "metadata": {
    "execution": {
     "iopub.execute_input": "2025-04-12T13:06:59.254432Z",
     "iopub.status.busy": "2025-04-12T13:06:59.254080Z",
     "iopub.status.idle": "2025-04-12T13:06:59.256848Z",
     "shell.execute_reply": "2025-04-12T13:06:59.256426Z",
     "shell.execute_reply.started": "2025-04-12T13:06:59.254405Z"
    }
   },
   "outputs": [],
   "source": [
    "# Set the scaling\n",
    "autoscale = False\n",
    "# Scale to use if autoscale = False\n",
    "vmin = 14500\n",
    "vmax = 15000"
   ]
  },
  {
   "cell_type": "markdown",
   "id": "257863ea-f430-4370-952a-ce33f372e16b",
   "metadata": {},
   "source": [
    "# Get a quick look at one frame for all 4 CCDs"
   ]
  },
  {
   "cell_type": "code",
   "execution_count": null,
   "id": "96615d0e-3dcb-43e1-9bb2-2a061e114b67",
   "metadata": {},
   "outputs": [],
   "source": []
  },
  {
   "cell_type": "code",
   "execution_count": null,
   "id": "fb4124d3-de8f-44c3-9d41-fcc03fb069ae",
   "metadata": {
    "execution": {
     "iopub.execute_input": "2025-04-12T13:08:51.430931Z",
     "iopub.status.busy": "2025-04-12T13:08:51.430568Z",
     "iopub.status.idle": "2025-04-12T13:08:51.469757Z",
     "shell.execute_reply": "2025-04-12T13:08:51.469302Z",
     "shell.execute_reply.started": "2025-04-12T13:08:51.430914Z"
    }
   },
   "outputs": [],
   "source": [
    "dayObs = 20250410\n",
    "\n",
    "seqNum = 8\n",
    "\n",
    "raft = 'R00'\n",
    "ccd = 'SG0'\n",
    "\n",
    "\n",
    "filename = f\"s3://embargo@rubin-summit/LSSTCam/{dayObs}/MC_O_{dayObs}_{seqNum:06d}/MC_O_{dayObs}_{seqNum:06d}_{raft}_{ccd}_guider.fits\"\n",
    "\n",
    "rp = ResourcePath(filename)\n",
    "with rp.open(mode=\"rb\") as f:\n",
    "    hdu_list = fits.open(f)\n",
    "[roiRows, roiCols, roiUnder, nStamps, xor] = getMainHeaderInfo(hdu_list)\n",
    "print(roiRows, roiCols, roiUnder, nStamps, xor)"
   ]
  },
  {
   "cell_type": "code",
   "execution_count": null,
   "id": "afd5de3d-6c0a-4bd9-aed1-f003eefa78e4",
   "metadata": {
    "execution": {
     "iopub.execute_input": "2025-04-12T13:26:21.404098Z",
     "iopub.status.busy": "2025-04-12T13:26:21.403782Z",
     "iopub.status.idle": "2025-04-12T13:26:23.633307Z",
     "shell.execute_reply": "2025-04-12T13:26:23.632718Z",
     "shell.execute_reply.started": "2025-04-12T13:26:21.404083Z"
    }
   },
   "outputs": [],
   "source": [
    "%matplotlib inline\n",
    "\n",
    "dayObs = 20250410\n",
    "seqNum = 8\n",
    "expId = int(f\"{dayObs}{seqNum:05d}\")\n",
    "rafts = ['R00', 'R04', 'R40', 'R44']\n",
    "ccds = ['SG0', 'SG1']\n",
    "n = 2 # This just unpacks one frame.  This chooses which frame\n",
    "for raft in rafts[0:1]:\n",
    "    for ccd in ccds[1:2]:\n",
    "        filename = f\"s3://embargo@rubin-summit/LSSTCam/{dayObs}/MC_O_{dayObs}_{seqNum:06d}/MC_O_{dayObs}_{seqNum:06d}_{raft}_{ccd}_guider.fits\"\n",
    "        \n",
    "        rp = ResourcePath(filename)\n",
    "        with rp.open(mode=\"rb\") as f:\n",
    "            hdu_list = fits.open(f)\n",
    "        [roiRows, roiCols, roiUnder, nStamps, xor] = getMainHeaderInfo(hdu_list)\n",
    "        hduNum = 2 * n + 1\n",
    "        print(hduNum)\n",
    "        hdrn = hdu_list[hduNum].header\n",
    "        timestamp = hdrn['STMPTIME']\n",
    "        image_out = unpackStamps(hduNum)\n",
    "        fig = plt.figure(figsize=(10,10))\n",
    "        axs = fig.subplots(4,4)\n",
    "        plt.subplots_adjust(wspace=0.01, hspace=0.01)\n",
    "        plt.suptitle(f\"Guider mode {raft} {ccd} {expId}, Frame {n+1}\\n{timestamp}\", fontsize=24)\n",
    "        for i in range(4):\n",
    "            for j in range(4):\n",
    "                seg = i + 4 * j\n",
    "                if seg == 0:\n",
    "                    seg0 = image_out[seg]\n",
    "                #axs[i][j].set_title(f\"segment {seg}\")\n",
    "                if autoscale:\n",
    "                    im = axs[i][j].imshow(image_out[seg], interpolation='nearest', origin='upper', cmap='Greys')\n",
    "                else:\n",
    "                    med = np.nanmedian(image_out[seg])\n",
    "                    vmin = med - 20\n",
    "                    vmax = med + 20\n",
    "                    im = axs[i][j].imshow(image_out[seg], interpolation='nearest', origin='upper', vmin=vmin, vmax=vmax, cmap='Greys')\n",
    "                #divider = make_axes_locatable(axs[i][j])\n",
    "                #cax = divider.append_axes(\"right\", size=\"5%\", pad=0.05)\n",
    "                #fig.colorbar(im, cax=cax)\n",
    "                axs[i][j].set_xticks([])\n",
    "                axs[i][j].set_yticks([])\n",
    "                \n",
    "        #plt.savefig(f\"/home/c/cslage/u/Guider_Mode/quick_looks/Guider_QuickLook_{expId}_{raft}_{ccd}.png\")"
   ]
  },
  {
   "cell_type": "code",
   "execution_count": null,
   "id": "8279c28d-0f3e-4bf1-95f2-523e84f059dc",
   "metadata": {
    "execution": {
     "iopub.execute_input": "2025-04-12T13:30:34.187307Z",
     "iopub.status.busy": "2025-04-12T13:30:34.186966Z",
     "iopub.status.idle": "2025-04-12T13:30:36.475477Z",
     "shell.execute_reply": "2025-04-12T13:30:36.475026Z",
     "shell.execute_reply.started": "2025-04-12T13:30:34.187288Z"
    }
   },
   "outputs": [],
   "source": [
    "%matplotlib inline\n",
    "\n",
    "dayObs = 20250410\n",
    "seqNum = 8\n",
    "expId = int(f\"{dayObs}{seqNum:05d}\")\n",
    "rafts = ['R00', 'R04', 'R40', 'R44']\n",
    "ccds = ['SG0', 'SG1']\n",
    "n = 2 # This just unpacks one frame.  This chooses which frame\n",
    "for raft in rafts[0:1]:\n",
    "    for ccd in ccds[1:2]:\n",
    "        filename = f\"s3://embargo@rubin-summit/LSSTCam/{dayObs}/MC_O_{dayObs}_{seqNum:06d}/MC_O_{dayObs}_{seqNum:06d}_{raft}_{ccd}_guider.fits\"\n",
    "        \n",
    "        rp = ResourcePath(filename)\n",
    "        with rp.open(mode=\"rb\") as f:\n",
    "            hdu_list = fits.open(f)\n",
    "        [roiRows, roiCols, roiUnder, nStamps, xor] = getMainHeaderInfo(hdu_list)\n",
    "        hduNum = 2 * n + 1\n",
    "        print(hduNum)\n",
    "        hdrn = hdu_list[hduNum].header\n",
    "        timestamp = hdrn['STMPTIME']\n",
    "        image_out = unpackStamps(hduNum)\n",
    "        fig = plt.figure(figsize=(12,3))\n",
    "        axs = fig.subplots(2,8)\n",
    "        plt.subplots_adjust(wspace=0.01, hspace=0.01)\n",
    "        plt.suptitle(f\"Guider mode {raft} {ccd} {expId}, Frame {n+1}\\n{timestamp}\", fontsize=24)\n",
    "        for i in range(2):\n",
    "            for j in range(8):\n",
    "                seg = j + 2 * i\n",
    "                if seg == 0:\n",
    "                    seg0 = image_out[seg]\n",
    "                #axs[i][j].set_title(f\"segment {seg}\")\n",
    "                if autoscale:\n",
    "                    im = axs[i][j].imshow(image_out[seg], interpolation='nearest', origin='upper', cmap='Greys')\n",
    "                else:\n",
    "                    med = np.nanmedian(image_out[seg])\n",
    "                    vmin = med - 20\n",
    "                    vmax = med + 20\n",
    "                    im = axs[i][j].imshow(image_out[seg], interpolation='nearest', origin='upper', vmin=vmin, vmax=vmax, cmap='Greys')\n",
    "                #divider = make_axes_locatable(axs[i][j])\n",
    "                #cax = divider.append_axes(\"right\", size=\"5%\", pad=0.05)\n",
    "                #fig.colorbar(im, cax=cax)\n",
    "                axs[i][j].set_xticks([])\n",
    "                axs[i][j].set_yticks([])\n",
    "                \n",
    "        #plt.savefig(f\"/home/c/cslage/u/Guider_Mode/quick_looks/Guider_QuickLook_{expId}_{raft}_{ccd}.png\")"
   ]
  },
  {
   "cell_type": "markdown",
   "id": "8f287a32-a1ef-46b3-86e6-2e73d46a2ce1",
   "metadata": {
    "execution": {
     "iopub.execute_input": "2024-12-06T12:37:35.605996Z",
     "iopub.status.busy": "2024-12-06T12:37:35.605697Z",
     "iopub.status.idle": "2024-12-06T12:37:35.608485Z",
     "shell.execute_reply": "2024-12-06T12:37:35.608027Z",
     "shell.execute_reply.started": "2024-12-06T12:37:35.605979Z"
    }
   },
   "source": [
    "# Quick look at one of the headers"
   ]
  },
  {
   "cell_type": "code",
   "execution_count": null,
   "id": "79d2ff8b-4b90-497d-88cc-4654cdd7257c",
   "metadata": {
    "execution": {
     "iopub.execute_input": "2025-04-12T12:56:33.089058Z",
     "iopub.status.busy": "2025-04-12T12:56:33.088560Z",
     "iopub.status.idle": "2025-04-12T12:56:33.100032Z",
     "shell.execute_reply": "2025-04-12T12:56:33.099677Z",
     "shell.execute_reply.started": "2025-04-12T12:56:33.089040Z"
    },
    "jupyter": {
     "outputs_hidden": true
    }
   },
   "outputs": [],
   "source": [
    "hduNum = 0\n",
    "hdr_test = hdu_list[hduNum].header\n",
    "for key in hdr_test.keys():\n",
    "    print(key, hdr_test[key])"
   ]
  },
  {
   "cell_type": "code",
   "execution_count": null,
   "id": "1a0431c6-46d6-4c2d-947b-ef40e1dc763f",
   "metadata": {
    "execution": {
     "iopub.execute_input": "2025-04-12T12:59:11.219558Z",
     "iopub.status.busy": "2025-04-12T12:59:11.219082Z",
     "iopub.status.idle": "2025-04-12T12:59:11.223473Z",
     "shell.execute_reply": "2025-04-12T12:59:11.223171Z",
     "shell.execute_reply.started": "2025-04-12T12:59:11.219532Z"
    }
   },
   "outputs": [],
   "source": [
    "hdr0 = hdu_list[0].header\n",
    "hdr0['ROIUNDRC']"
   ]
  },
  {
   "cell_type": "code",
   "execution_count": null,
   "id": "def120e3-e9d8-4ba0-8851-53a6e8eefd5b",
   "metadata": {
    "execution": {
     "iopub.execute_input": "2025-04-12T13:16:29.454331Z",
     "iopub.status.busy": "2025-04-12T13:16:29.453953Z",
     "iopub.status.idle": "2025-04-12T13:16:29.456399Z",
     "shell.execute_reply": "2025-04-12T13:16:29.456087Z",
     "shell.execute_reply.started": "2025-04-12T13:16:29.454315Z"
    }
   },
   "outputs": [],
   "source": [
    "image_seg7 = np.array(hdu_list[6].data[0])"
   ]
  },
  {
   "cell_type": "code",
   "execution_count": null,
   "id": "4118083c-0b77-4ef0-8b5d-66f4572e0460",
   "metadata": {
    "execution": {
     "iopub.execute_input": "2025-04-12T13:16:31.520831Z",
     "iopub.status.busy": "2025-04-12T13:16:31.520298Z",
     "iopub.status.idle": "2025-04-12T13:16:31.524126Z",
     "shell.execute_reply": "2025-04-12T13:16:31.523839Z",
     "shell.execute_reply.started": "2025-04-12T13:16:31.520811Z"
    },
    "jupyter": {
     "outputs_hidden": true
    }
   },
   "outputs": [],
   "source": [
    "seg7[0] - image_seg7"
   ]
  },
  {
   "cell_type": "code",
   "execution_count": null,
   "id": "d5cc1f55-b097-40d3-bed5-c7b3a5d8b91f",
   "metadata": {
    "execution": {
     "iopub.execute_input": "2025-04-12T13:18:25.821369Z",
     "iopub.status.busy": "2025-04-12T13:18:25.820924Z",
     "iopub.status.idle": "2025-04-12T13:18:25.856176Z",
     "shell.execute_reply": "2025-04-12T13:18:25.855828Z",
     "shell.execute_reply.started": "2025-04-12T13:18:25.821354Z"
    },
    "jupyter": {
     "outputs_hidden": true
    }
   },
   "outputs": [],
   "source": [
    "image_seg0 = np.array(hdu_list[6].data[0])"
   ]
  },
  {
   "cell_type": "code",
   "execution_count": null,
   "id": "076f2d75-de6c-47e8-a849-0be33e0c171a",
   "metadata": {
    "execution": {
     "iopub.execute_input": "2025-04-12T13:18:31.167869Z",
     "iopub.status.busy": "2025-04-12T13:18:31.167332Z",
     "iopub.status.idle": "2025-04-12T13:18:31.171444Z",
     "shell.execute_reply": "2025-04-12T13:18:31.171065Z",
     "shell.execute_reply.started": "2025-04-12T13:18:31.167851Z"
    },
    "jupyter": {
     "outputs_hidden": true
    }
   },
   "outputs": [],
   "source": [
    "seg0[0] - image_seg0"
   ]
  },
  {
   "cell_type": "code",
   "execution_count": null,
   "id": "318b1a69-c158-43d4-ac74-15ac936ee77a",
   "metadata": {
    "execution": {
     "iopub.execute_input": "2025-04-12T12:47:05.310737Z",
     "iopub.status.busy": "2025-04-12T12:47:05.310147Z",
     "iopub.status.idle": "2025-04-12T12:47:05.317105Z",
     "shell.execute_reply": "2025-04-12T12:47:05.316761Z",
     "shell.execute_reply.started": "2025-04-12T12:47:05.310718Z"
    }
   },
   "outputs": [],
   "source": [
    "data = np.array((hdu_list[5].data[0])).astype('>u4')[0]\n",
    "data.shape"
   ]
  },
  {
   "cell_type": "code",
   "execution_count": null,
   "id": "fc270fb1-f65e-4382-8aa9-7d9567b4fcc1",
   "metadata": {
    "execution": {
     "iopub.execute_input": "2025-04-12T12:47:17.045758Z",
     "iopub.status.busy": "2025-04-12T12:47:17.045493Z",
     "iopub.status.idle": "2025-04-12T12:47:17.052161Z",
     "shell.execute_reply": "2025-04-12T12:47:17.051794Z",
     "shell.execute_reply.started": "2025-04-12T12:47:17.045740Z"
    }
   },
   "outputs": [],
   "source": [
    "data = np.array((hdu_list[5].data[0])).astype('>u4')[0]\n",
    "data.byteswap(inplace=True)\n",
    "totalCols = roiCols + roiUnder\n",
    "size = roiRows * totalCols\n",
    "out = np.zeros([16, size], dtype=int)\n",
    "image_out = np.zeros([16, roiRows, roiCols], dtype=int)\n",
    "print(image_out.shape)\n",
    "print(roiRows, roiCols, totalCols, size) \n",
    "print(len(data))\n"
   ]
  },
  {
   "cell_type": "code",
   "execution_count": null,
   "id": "7c498608-af33-4a12-b12d-8a318e2d6d61",
   "metadata": {
    "execution": {
     "iopub.execute_input": "2025-04-12T13:10:34.242403Z",
     "iopub.status.busy": "2025-04-12T13:10:34.241810Z",
     "iopub.status.idle": "2025-04-12T13:10:35.787014Z",
     "shell.execute_reply": "2025-04-12T13:10:35.786689Z",
     "shell.execute_reply.started": "2025-04-12T13:10:34.242384Z"
    }
   },
   "outputs": [],
   "source": [
    "fig = plt.figure(figsize=(12,6))\n",
    "axs = fig.subplots(8,4)\n",
    "\n",
    "for hduNum in range(2,20,2):\n",
    "    hdr_test = hdu_list[hduNum].header\n",
    "    i = (hduNum - 1) % 4\n",
    "    j = int((hduNum - 1) / 4)\n",
    "    arr = (hdu_list[hduNum].data)\n",
    "    axs[j][i].imshow(arr, interpolation='nearest', origin='lower')#, cmap='Greys')\n",
    "\n",
    "    #print(hduNum, i, j, hdr_test['EXTNAME'])\n"
   ]
  },
  {
   "cell_type": "code",
   "execution_count": null,
   "id": "4781f32c-d07c-4517-8fd9-d47ab1e38cef",
   "metadata": {
    "execution": {
     "iopub.execute_input": "2025-03-28T16:30:47.484782Z",
     "iopub.status.busy": "2025-03-28T16:30:47.484593Z",
     "iopub.status.idle": "2025-03-28T16:30:47.836462Z",
     "shell.execute_reply": "2025-03-28T16:30:47.836026Z",
     "shell.execute_reply.started": "2025-03-28T16:30:47.484769Z"
    },
    "jupyter": {
     "outputs_hidden": true
    }
   },
   "outputs": [],
   "source": [
    "for hduNum in range(1,200):\n",
    "    hdr_test = hdu_list[hduNum].header\n",
    "    print(hduNum, hdr_test['EXTNAME'])\n"
   ]
  },
  {
   "cell_type": "code",
   "execution_count": null,
   "id": "7ad64c06-217c-48af-bf53-31eda9be0303",
   "metadata": {},
   "outputs": [],
   "source": [
    "np.unravel_index(arr.argmax(), arr.shape)"
   ]
  },
  {
   "cell_type": "code",
   "execution_count": null,
   "id": "517fa7e4-66a4-47c9-bf71-aca5c234707b",
   "metadata": {},
   "outputs": [],
   "source": [
    "arr"
   ]
  },
  {
   "cell_type": "code",
   "execution_count": null,
   "id": "5b489632-7d46-4c20-ac86-248db0f1c33f",
   "metadata": {},
   "outputs": [],
   "source": []
  },
  {
   "cell_type": "code",
   "execution_count": null,
   "id": "a55ce30b-68d9-4fc9-baf9-064b8a88ce64",
   "metadata": {},
   "outputs": [],
   "source": [
    "com(arr)"
   ]
  },
  {
   "cell_type": "code",
   "execution_count": null,
   "id": "ec552b15-877f-45ba-b63d-7ea542da0c7f",
   "metadata": {},
   "outputs": [],
   "source": []
  }
 ],
 "metadata": {
  "kernelspec": {
   "display_name": "LSST",
   "language": "python",
   "name": "lsst"
  },
  "language_info": {
   "codemirror_mode": {
    "name": "ipython",
    "version": 3
   },
   "file_extension": ".py",
   "mimetype": "text/x-python",
   "name": "python",
   "nbconvert_exporter": "python",
   "pygments_lexer": "ipython3",
   "version": "3.12.9"
  }
 },
 "nbformat": 4,
 "nbformat_minor": 5
}
