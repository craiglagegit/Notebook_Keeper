{
 "cells": [
  {
   "cell_type": "markdown",
   "id": "73e1267b-d2a5-40b2-90bb-6e0ad4617d5b",
   "metadata": {},
   "source": [
    "## Guider mode image compare\n",
    "This is intended to unpack the rawStamps from guider mode FITS files and \\\n",
    "compare the unpacked stamp to the IMAGE mode stamp. \\\n",
    "Craig Lage - 16-Apr-25"
   ]
  },
  {
   "cell_type": "code",
   "execution_count": null,
   "id": "eb7fec00-8cc7-4636-919e-293830c239a0",
   "metadata": {
    "execution": {
     "iopub.execute_input": "2025-04-23T23:32:25.423703Z",
     "iopub.status.busy": "2025-04-23T23:32:25.423568Z",
     "iopub.status.idle": "2025-04-23T23:32:34.067905Z",
     "shell.execute_reply": "2025-04-23T23:32:34.067404Z",
     "shell.execute_reply.started": "2025-04-23T23:32:25.423688Z"
    }
   },
   "outputs": [],
   "source": [
    "import os\n",
    "import shlex, subprocess\n",
    "import matplotlib.pyplot as plt\n",
    "from lsst.summit.utils.plotting import plot\n",
    "import numpy as np\n",
    "from astropy.io import fits\n",
    "from lsst.resources import ResourcePath\n",
    "import matplotlib.colors as colors\n",
    "from lsst.summit.utils import getQuantiles\n",
    "import scipy.ndimage as ndi"
   ]
  },
  {
   "cell_type": "markdown",
   "id": "f8cb8445-f7da-40e7-8edf-752a18fef668",
   "metadata": {},
   "source": [
    "# Get the main header and the information it contains"
   ]
  },
  {
   "cell_type": "code",
   "execution_count": null,
   "id": "c861dde2-ab26-476b-affe-38a1b9161e46",
   "metadata": {
    "execution": {
     "iopub.execute_input": "2025-04-23T23:32:34.070191Z",
     "iopub.status.busy": "2025-04-23T23:32:34.070060Z",
     "iopub.status.idle": "2025-04-23T23:32:34.073421Z",
     "shell.execute_reply": "2025-04-23T23:32:34.073018Z",
     "shell.execute_reply.started": "2025-04-23T23:32:34.070177Z"
    }
   },
   "outputs": [],
   "source": [
    "def getMainHeaderInfo(hdu_list):\n",
    "    hdr0 = hdu_list[0].header\n",
    "    roiCol = hdr0['ROICOL']\n",
    "    roiRow = hdr0['ROIROW']\n",
    "    roiCols = hdr0['ROICOLS']\n",
    "    roiRows = hdr0['ROIROWS']\n",
    "    try:\n",
    "        roiUnder = hdr0['ROIUNDRC']\n",
    "    except:\n",
    "        roiUnder = 6\n",
    "    nStamps = hdr0['N_STAMPS']\n",
    "    \n",
    "    # Set the xor value - Guider CCDs are different from science CCDs\n",
    "    if raft in ['R00', 'R04', 'R40', 'R44']:\n",
    "        # Guider rafts\n",
    "        xor = 0x20000\n",
    "    else:\n",
    "        # Science rafts\n",
    "        xor = 0x1ffff\n",
    "    return [roiRow, roiCol, roiRows, roiCols, roiUnder, nStamps, xor]"
   ]
  },
  {
   "cell_type": "markdown",
   "id": "bca7aa97-0a90-4e2e-a5a9-10fd828c919c",
   "metadata": {},
   "source": [
    "# Now define the code to unpack the rawStamps:"
   ]
  },
  {
   "cell_type": "code",
   "execution_count": null,
   "id": "2e51d1a5-eccb-41d5-aea3-7f87778d5ce4",
   "metadata": {
    "execution": {
     "iopub.execute_input": "2025-04-23T23:32:34.075055Z",
     "iopub.status.busy": "2025-04-23T23:32:34.074930Z",
     "iopub.status.idle": "2025-04-23T23:32:34.083098Z",
     "shell.execute_reply": "2025-04-23T23:32:34.082695Z",
     "shell.execute_reply.started": "2025-04-23T23:32:34.075042Z"
    }
   },
   "outputs": [],
   "source": [
    "def unpackStamps(hduNum):\n",
    "    data = np.array(hdu_list[hduNum].data[0]).astype('>u4')[0]\n",
    "    data.byteswap(inplace=True)\n",
    "    totalCols = roiCols + roiUnder\n",
    "    size = roiRows * totalCols\n",
    "    out = np.zeros([16, size], dtype=int)\n",
    "    image_out = np.zeros([16, roiRows, roiCols], dtype=int)\n",
    "    for n in range(size):\n",
    "        # Get 9 32 bit words of data\n",
    "        res = ''\n",
    "        for i in range(9):\n",
    "            d = data[(size - n) * 9 - i - 1]\n",
    "            d = format(d, '#034b')\n",
    "            d = d.split('b')[1]\n",
    "            res += d\n",
    "        # Now extract 16 18 bit words from the data\n",
    "        for i in range(16):\n",
    "            bin_value = res[i * 18:(i + 1) * 18]\n",
    "            int_value = int(bin_value, 2)\n",
    "            final_value = int_value ^ xor\n",
    "            out[i,n] = final_value  \n",
    "    for i in range(16):\n",
    "        reshaped = out[i,:].reshape(roiRows, totalCols)\n",
    "        image_out[i,:,:] = np.flipud(np.fliplr(reshaped[:,0:roiCols]))\n",
    "    return image_out"
   ]
  },
  {
   "cell_type": "markdown",
   "id": "73887c76-55ff-4f8b-b73e-d9057c59cd56",
   "metadata": {},
   "source": [
    "# Build a movie of a single stamp"
   ]
  },
  {
   "cell_type": "code",
   "execution_count": null,
   "id": "2a8c79b4-a2d8-478f-b5ad-a12889ff979e",
   "metadata": {
    "execution": {
     "iopub.execute_input": "2025-04-23T23:35:51.239510Z",
     "iopub.status.busy": "2025-04-23T23:35:51.239220Z",
     "iopub.status.idle": "2025-04-23T23:35:51.404144Z",
     "shell.execute_reply": "2025-04-23T23:35:51.403734Z",
     "shell.execute_reply.started": "2025-04-23T23:35:51.239493Z"
    }
   },
   "outputs": [],
   "source": [
    "\n",
    "dayObs = 20250414\n",
    "seqNum = 660\n",
    "seg = 13\n",
    "expId = int(f\"{dayObs}{seqNum:05d}\")\n",
    "raft = 'R00'\n",
    "ccd = 'SG0'\n",
    "\"\"\"\n",
    "dayObs = 20250415\n",
    "seqNum = 140\n",
    "seg = 7\n",
    "expId = int(f\"{dayObs}{seqNum:05d}\")\n",
    "raft = 'R00'\n",
    "ccd = 'SG0'\n",
    "\n",
    "\n",
    "dayObs = 20250415\n",
    "seqNum = 140\n",
    "seg = 0\n",
    "expId = int(f\"{dayObs}{seqNum:05d}\")\n",
    "raft = 'R00'\n",
    "ccd = 'SG1'\n",
    "\"\"\"\n",
    "\n",
    "\n",
    "n = 1\n",
    "filename = f\"s3://embargo@rubin-summit/LSSTCam/{dayObs}/MC_O_{dayObs}_{seqNum:06d}/MC_O_{dayObs}_{seqNum:06d}_{raft}_{ccd}_guider.fits\"\n",
    "\n",
    "rp = ResourcePath(filename)\n",
    "with rp.open(mode=\"rb\") as f:\n",
    "    hdu_list = fits.open(f)\n",
    "[roiRow, roiCol, roiRows, roiCols, roiUnder, nStamps, xor] = getMainHeaderInfo(hdu_list)\n",
    "# First get the packed data:\n",
    "hduNum = 2 * n + 1\n",
    "hdrn = hdu_list[hduNum].header\n",
    "image_out = unpackStamps(hduNum)\n",
    "unpacked_arr = image_out[seg]\n",
    "# Then get the image data:\n",
    "hduNum = 2 * n + 2\n",
    "image_arr = hdu_list[hduNum].data"
   ]
  },
  {
   "cell_type": "code",
   "execution_count": null,
   "id": "d24aae3f-eeca-4ec6-86d2-197909f087de",
   "metadata": {
    "execution": {
     "iopub.execute_input": "2025-04-23T23:36:04.990467Z",
     "iopub.status.busy": "2025-04-23T23:36:04.990150Z",
     "iopub.status.idle": "2025-04-23T23:36:05.237297Z",
     "shell.execute_reply": "2025-04-23T23:36:05.236880Z",
     "shell.execute_reply.started": "2025-04-23T23:36:04.990450Z"
    }
   },
   "outputs": [],
   "source": [
    "fig, axs = plt.subplots(1,3)\n",
    "plt.subplots_adjust(wspace=0.5)\n",
    "plt.suptitle(f\"Unpacking comparison {expId} {raft} {ccd} {seg}\", fontsize=12, y=0.8)\n",
    "quantiles = getQuantiles(unpacked_arr, 256)\n",
    "norm = colors.BoundaryNorm(quantiles, 256)\n",
    "axs[0].set_title(\"Unpacked segment\")\n",
    "axs[0].imshow(unpacked_arr, interpolation='nearest', \n",
    "                                  origin='lower', cmap='Greys', aspect='equal', norm=norm)\n",
    "quantiles = getQuantiles(image_arr, 256)\n",
    "norm = colors.BoundaryNorm(quantiles, 256)\n",
    "axs[1].set_title(\"Image segment\")\n",
    "axs[1].imshow(image_arr, interpolation='nearest', \n",
    "                                  origin='lower', cmap='Greys', aspect='equal', norm=norm)\n",
    "\n",
    "diff = unpacked_arr - image_arr\n",
    "quantiles = getQuantiles(diff, 256)\n",
    "norm = colors.BoundaryNorm(quantiles, 256)\n",
    "axs[2].set_title(f\"Diff: Max = {np.max(diff)}\")\n",
    "axs[2].imshow(diff, interpolation='nearest', \n",
    "                                  origin='lower', cmap='Greys', aspect='equal', norm=norm)\n",
    "plt.savefig(f\"/home/c/cslage/u/Guider_Mode/Unpacking Check_{expId}_{raft}_{ccd}_{seg}.png\")"
   ]
  },
  {
   "cell_type": "code",
   "execution_count": null,
   "id": "72af9f2e-cdb8-436d-838b-52c1484c167e",
   "metadata": {
    "execution": {
     "iopub.execute_input": "2025-04-23T23:48:06.067219Z",
     "iopub.status.busy": "2025-04-23T23:48:06.066916Z",
     "iopub.status.idle": "2025-04-23T23:48:06.145713Z",
     "shell.execute_reply": "2025-04-23T23:48:06.145245Z",
     "shell.execute_reply.started": "2025-04-23T23:48:06.067203Z"
    }
   },
   "outputs": [],
   "source": [
    "plt.plot(unpacked_arr[0,:], color='red')\n",
    "plt.plot(image_arr[0,:], color='blue', ls='--')"
   ]
  },
  {
   "cell_type": "code",
   "execution_count": null,
   "id": "3afef791-182b-486f-9762-5d6787acd620",
   "metadata": {
    "execution": {
     "iopub.execute_input": "2025-04-23T23:48:50.722596Z",
     "iopub.status.busy": "2025-04-23T23:48:50.722294Z",
     "iopub.status.idle": "2025-04-23T23:48:50.726806Z",
     "shell.execute_reply": "2025-04-23T23:48:50.726372Z",
     "shell.execute_reply.started": "2025-04-23T23:48:50.722572Z"
    }
   },
   "outputs": [],
   "source": [
    "print(f\"Image_out median = {np.median(image_arr)}\")\n",
    "for seg in range(16):\n",
    "    print(f\" For Seg={seg}, Unpacked median = {np.median(image_out[seg])}\")"
   ]
  },
  {
   "cell_type": "code",
   "execution_count": null,
   "id": "fc21458f-9325-487b-8b8a-048d821724e2",
   "metadata": {},
   "outputs": [],
   "source": []
  }
 ],
 "metadata": {
  "kernelspec": {
   "display_name": "LSST",
   "language": "python",
   "name": "lsst"
  },
  "language_info": {
   "codemirror_mode": {
    "name": "ipython",
    "version": 3
   },
   "file_extension": ".py",
   "mimetype": "text/x-python",
   "name": "python",
   "nbconvert_exporter": "python",
   "pygments_lexer": "ipython3",
   "version": "3.12.10"
  }
 },
 "nbformat": 4,
 "nbformat_minor": 5
}
