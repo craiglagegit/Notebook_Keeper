{
 "cells": [
  {
   "cell_type": "markdown",
   "id": "03a10797-b774-44bb-8734-6a28aea344cc",
   "metadata": {},
   "source": [
    "### Test createInitalSkyWcs on ComCam and LSSTCam, April 15, 2025 with latest weekly"
   ]
  },
  {
   "cell_type": "code",
   "execution_count": null,
   "id": "12370daf-d71f-4fa7-8c88-b398e821523d",
   "metadata": {
    "execution": {
     "iopub.execute_input": "2025-05-24T03:54:07.717395Z",
     "iopub.status.busy": "2025-05-24T03:54:07.717181Z",
     "iopub.status.idle": "2025-05-24T03:54:17.656545Z",
     "shell.execute_reply": "2025-05-24T03:54:17.656055Z",
     "shell.execute_reply.started": "2025-05-24T03:54:07.717379Z"
    }
   },
   "outputs": [],
   "source": [
    "import numpy as np\n",
    "import pandas as pd\n",
    "from matplotlib import pyplot as plt\n",
    "from matplotlib import lines\n",
    "from mpl_toolkits import axes_grid1\n",
    "from matplotlib import collections\n",
    "from tabulate import tabulate\n",
    "\n",
    "from lsst.afw import cameraGeom\n",
    "import lsst.geom\n",
    "import lsst.geom as geom\n",
    "from lsst.geom import SpherePoint,Angle,Extent2I,Box2I,Extent2D,Point2D\n",
    "\n",
    "from lsst.obs.lsst.cameraTransforms import LsstCameraTransforms\n",
    "from lsst.obs.base import createInitialSkyWcsFromBoresight, createInitialSkyWcs\n",
    "from lsst.obs.lsst import LsstComCam,LsstCam\n",
    "camera = LsstCam.getCamera()\n",
    "comcamera = LsstComCam.getCamera()\n",
    "\n",
    "from lsst.daf.butler import Butler\n",
    "from lsst.summit.utils.efdUtils import makeEfdClient, getEfdData\n",
    "import lsst.summit.utils.butlerUtils as butlerUtils\n",
    "client = makeEfdClient()\n",
    "\n",
    "# some astropy code for coordinate Transforms\n",
    "from astropy.coordinates import SkyCoord  # High-level coordinates\n",
    "from astropy.coordinates import Angle as AAngle\n",
    "from astropy.coordinates import AltAz\n",
    "from astropy.time import Time\n",
    "import astropy.units as u\n",
    "from astropy.coordinates import EarthLocation\n",
    "#location = EarthLocation(lat=-30.244639*u.deg, lon=-70.749417*u.deg, height=2663*u.m)\n",
    "location = EarthLocation.of_site('Rubin:Simonyi')\n",
    "from astropy.coordinates import angular_separation\n",
    "from astropy.visualization import imshow_norm, MinMaxInterval,AsinhStretch,LinearStretch,SqrtStretch,ContrastBiasStretch,ZScaleInterval,AsymmetricPercentileInterval,ManualInterval\n",
    "\n",
    "\n",
    "from os import listdir\n",
    "import healpy as hp\n",
    "from astropy.table import Table, vstack"
   ]
  },
  {
   "cell_type": "markdown",
   "id": "b35aa57a-b6fe-405d-ae1b-33f424b64806",
   "metadata": {},
   "source": [
    "# Code"
   ]
  },
  {
   "cell_type": "code",
   "execution_count": null,
   "id": "47a80d0f-9e91-407c-aa20-fe1bfd474096",
   "metadata": {
    "execution": {
     "iopub.execute_input": "2025-05-24T03:54:20.648772Z",
     "iopub.status.busy": "2025-05-24T03:54:20.648394Z",
     "iopub.status.idle": "2025-05-24T03:54:20.651936Z",
     "shell.execute_reply": "2025-05-24T03:54:20.651534Z",
     "shell.execute_reply.started": "2025-05-24T03:54:20.648750Z"
    }
   },
   "outputs": [],
   "source": [
    "def radec_to_azalt(ra, dec, location, obstime):\n",
    "    #Convert RA and dec to Azimuth (deg) and Altitude (deg)    \n",
    "    radec_coord = SkyCoord(ra=ra*u.deg, dec=dec*u.deg, obstime=obstime, location=location, frame='icrs')\n",
    "    return radec_coord.altaz.az.deg, radec_coord.altaz.alt.deg"
   ]
  },
  {
   "cell_type": "code",
   "execution_count": null,
   "id": "727bb753-9c99-4d2c-bfbe-bc72c975c8be",
   "metadata": {
    "execution": {
     "iopub.execute_input": "2025-05-24T03:54:21.421725Z",
     "iopub.status.busy": "2025-05-24T03:54:21.421414Z",
     "iopub.status.idle": "2025-05-24T03:54:21.425639Z",
     "shell.execute_reply": "2025-05-24T03:54:21.425226Z",
     "shell.execute_reply.started": "2025-05-24T03:54:21.421708Z"
    }
   },
   "outputs": [],
   "source": [
    "# Function to calculate local sidereal time\n",
    "def calculate_lst(mjd):\n",
    "    # Define the Rubin Observatory location on Cerro Pachón\n",
    "    # see https://rubin-obs.slack.com/archives/C07Q45NQN15/p1676639765212759?thread_ts=1676581080.410319&cid=C07Q45NQN15\n",
    "    location = EarthLocation(lat=-30.244639, lon=-70.749417, height=2663)  # height in meters\n",
    "\n",
    "    # Create an astropy Time object for the given MJD\n",
    "    time = Time(mjd, format='mjd', scale='utc')\n",
    "    \n",
    "    # Calculate the local sidereal time\n",
    "    lst = time.sidereal_time('apparent', longitude=location.lon)\n",
    "    \n",
    "    return lst\n",
    "\n",
    "# calculate Parallactic angle using a snippet from https://astroplan.readthedocs.io/en/latest/_modules/astroplan/observer.html\n",
    "def calculate_q(lst,ra,dec):\n",
    "\n",
    "    location = EarthLocation(lat=-30.244639, lon=-70.749417, height=2663)\n",
    "\n",
    "    # Eqn (14.1) of Meeus' Astronomical Algorithms\n",
    "    H = (lst.radian - ra.radian)\n",
    "    q = np.arctan2(np.sin(H),\n",
    "               (np.tan(location.lat.radian) * np.cos(dec.radian) -\n",
    "                np.sin(dec.radian)*np.cos(H)))*u.rad\n",
    "    return np.rad2deg(q)"
   ]
  },
  {
   "cell_type": "code",
   "execution_count": null,
   "id": "51864033-d449-43ea-96a2-2eb23439b5b2",
   "metadata": {
    "execution": {
     "iopub.execute_input": "2025-05-24T03:54:22.422748Z",
     "iopub.status.busy": "2025-05-24T03:54:22.422427Z",
     "iopub.status.idle": "2025-05-24T03:54:22.427523Z",
     "shell.execute_reply": "2025-05-24T03:54:22.427048Z",
     "shell.execute_reply.started": "2025-05-24T03:54:22.422731Z"
    }
   },
   "outputs": [],
   "source": [
    "def visinfo_print(im,exprec):\n",
    "    # print out some of the visit info \n",
    "    visinfo = im.visitInfo\n",
    "    print('BoresightRotAngle: ',visinfo.getBoresightRotAngle().asDegrees())  # this is ROTPA in the header\n",
    "    print('BoresightParAngle: ',visinfo.getBoresightParAngle().asDegrees())\n",
    "    print('Visit Az,Alt: ',visinfo.getBoresightAzAlt())\n",
    "    RaDec = visinfo.getBoresightRaDec()\n",
    "    print('Ra,Dec: ',RaDec)\n",
    "\n",
    "    date = visinfo.getDate()\n",
    "    print('Date: ',date)\n",
    "    mjd = date.toAstropy()\n",
    "    print('MJD: ',mjd)\n",
    "    obstime = Time(mjd, format='mjd', scale='tai')\n",
    "    print('Astropy time: ',obstime)\n",
    "\n",
    "    lst = calculate_lst(mjd)\n",
    "    ra = RaDec.getLongitude().asDegrees()\n",
    "    dec = RaDec.getLatitude().asDegrees()\n",
    "    ra_AA = AAngle(ra, unit=u.deg)\n",
    "    dec_AA = AAngle(dec,unit=u.deg)\n",
    "    q = calculate_q(lst,ra_AA,dec_AA)\n",
    "    print('LST: ',lst)\n",
    "    print('parallactic angle: ',q)\n",
    "\n",
    "    print('ROTPA fits header: ',im.metadata['ROTPA'])\n",
    "\n",
    "    location = EarthLocation(lat=-30.244639, lon=-70.749417, height=2663)  # height in meters\n",
    "    az,alt = radec_to_azalt(ra, dec, location, obstime)\n",
    "    print('Calculated Az,Alt: ',az,alt)\n",
    "\n",
    "    rotData = getEfdData(client=client, topic=\"lsst.sal.MTRotator.rotation\", expRecord=exprec)\n",
    "    if 'actualPosition' in rotData:\n",
    "        pos = rotData['actualPosition'].values.mean()\n",
    "        print(f\"Mean rotator position was {pos:.2f} degrees\")\n",
    "    else:\n",
    "        print('no EFD data')"
   ]
  },
  {
   "cell_type": "code",
   "execution_count": null,
   "id": "bfcce6ea-d7ee-441b-8716-f142d8fe34ab",
   "metadata": {
    "execution": {
     "iopub.execute_input": "2025-05-24T03:54:24.258266Z",
     "iopub.status.busy": "2025-05-24T03:54:24.257044Z",
     "iopub.status.idle": "2025-05-24T03:54:24.265764Z",
     "shell.execute_reply": "2025-05-24T03:54:24.265324Z",
     "shell.execute_reply.started": "2025-05-24T03:54:24.258225Z"
    }
   },
   "outputs": [],
   "source": [
    "def plotCCD(imarr,pixrange=None,interpolation='None',title='Title',filename=None,percent=2.5,lo=None,hi=None,filterrad=4.0):\n",
    "\n",
    "\n",
    "    if pixrange==None:\n",
    "        p_lo,p_hi = np.nanpercentile(imarr,[percent,100-percent])\n",
    "    else:\n",
    "        p_lo,p_hi = np.nanpercentile(imarr[pixrange[1][0]:pixrange[1][1],pixrange[0][0]:pixrange[0][1]],[percent,100-percent])\n",
    "\n",
    "    if lo==None:\n",
    "        lo = p_lo\n",
    "    if hi==None:\n",
    "        hi = p_hi\n",
    "    \n",
    "    print(lo,hi)\n",
    "\n",
    "    f,ax = plt.subplots(1,1,figsize=(10.,10.))\n",
    "\n",
    "    im, norm = imshow_norm(imarr, ax, origin='lower', interpolation=interpolation,filterrad=filterrad,cmap='plasma',\n",
    "                       interval=ManualInterval(lo,hi),\n",
    "                       stretch=LinearStretch())\n",
    "    ax.set_title(title)\n",
    "    add_colorbar(im)\n",
    "\n",
    "    if pixrange!=None:\n",
    "        ax.set_xlim(pixrange[0][0],pixrange[0][1])\n",
    "        ax.set_ylim(pixrange[1][0],pixrange[1][1])\n",
    "\n",
    "    return f,ax\n",
    "\n",
    "def add_colorbar(im, aspect=20, pad_fraction=0.5, **kwargs):\n",
    "    \"\"\"Add a vertical color bar to an image plot.\"\"\"\n",
    "    divider = axes_grid1.make_axes_locatable(im.axes)\n",
    "    width = axes_grid1.axes_size.AxesY(im.axes, aspect=1./aspect)\n",
    "    pad = axes_grid1.axes_size.Fraction(pad_fraction, width)\n",
    "    current_ax = plt.gca()\n",
    "    cax = divider.append_axes(\"right\", size=width, pad=pad)\n",
    "    plt.sca(current_ax)\n",
    "    return im.axes.figure.colorbar(im, cax=cax, **kwargs)\n"
   ]
  },
  {
   "cell_type": "code",
   "execution_count": null,
   "id": "eb3a4667-1d5a-49a3-8dfd-7aa17dd67df9",
   "metadata": {
    "execution": {
     "iopub.execute_input": "2025-05-24T03:54:25.569099Z",
     "iopub.status.busy": "2025-05-24T03:54:25.568760Z",
     "iopub.status.idle": "2025-05-24T03:54:25.573342Z",
     "shell.execute_reply": "2025-05-24T03:54:25.572907Z",
     "shell.execute_reply.started": "2025-05-24T03:54:25.569081Z"
    }
   },
   "outputs": [],
   "source": [
    "def make_lsstcam_WCS(camera,visitInfo,location,obstime,extra_rotation=Angle(-90.,geom.degrees)):\n",
    "    \"\"\"\n",
    "    Parameters\n",
    "    ----------\n",
    "    camera : lsst.afw.cameraGeom.Camera \n",
    "        Camera object\n",
    "    visitInfo : lsst.afw.image.VisitInfo \n",
    "        visit info from an Image\n",
    "    location: astropy.coordinates.earth.EarthLocation\n",
    "        Observatory location\n",
    "    obstime: astropy.time.core.Time\n",
    "        Time of Observation\n",
    "    extra_rotation : lsst.geom.Angle\n",
    "        Added rotation to add to visitInfo.orientation to align the LSSTCam properly\n",
    "\n",
    "    Returns\n",
    "    -------\n",
    "    cam_wcs : dictionary \n",
    "        WCS for each detector, keyed by detector Id\n",
    "    cam_radec : dictionary \n",
    "        [RA,dec] at the center of each detector, keyed by detector Id    \n",
    "    cam_azalt : dictionary \n",
    "        [Az,Alt] at the center of each detector, keyed by detector Id       \n",
    "    \"\"\"\n",
    "    orientation = visitInfo.getBoresightRotAngle()\n",
    "    boresight = visitInfo.getBoresightRaDec()\n",
    "\n",
    "    orientation_corrected = orientation+extra_rotation\n",
    "    orientation_corrwrap = orientation_corrected.wrap()   # guessing that this is needed\n",
    "\n",
    "    # Get WCS and ra,dec and alt,az for each CCD in camera\n",
    "    cam_wcs = {}\n",
    "    cam_radec = {}\n",
    "    cam_azalt = {}\n",
    "\n",
    "    for det in camera:\n",
    "        # get WCS\n",
    "        cam_wcs[det.getId()] = createInitialSkyWcsFromBoresight(boresight, orientation_corrwrap, det, flipX=False)\n",
    "        # get central pixel\n",
    "        x0,y0 = det.getBBox().getCenterX(),det.getBBox().getCenterY()  \n",
    "\n",
    "        # get ra,dec\n",
    "        ra1,dec1 = cam_wcs[det.getId()].pixelToSky(x0,y0)\n",
    "        cam_radec[det.getId()] = [ra1.asDegrees(),dec1.asDegrees()]\n",
    "        cam_azalt[det.getId()] = radec_to_azalt(ra1.asDegrees(),dec1.asDegrees(),location,obstime)\n",
    "\n",
    "    return cam_wcs,cam_radec,cam_azalt\n",
    "    "
   ]
  },
  {
   "cell_type": "code",
   "execution_count": null,
   "id": "fe55d84f-1899-44b6-b754-55efe20c2a80",
   "metadata": {
    "execution": {
     "iopub.execute_input": "2025-05-24T03:54:26.626121Z",
     "iopub.status.busy": "2025-05-24T03:54:26.625845Z",
     "iopub.status.idle": "2025-05-24T03:54:26.633959Z",
     "shell.execute_reply": "2025-05-24T03:54:26.633463Z",
     "shell.execute_reply.started": "2025-05-24T03:54:26.626100Z"
    }
   },
   "outputs": [],
   "source": [
    "def get_stars(detector,ra,dec,cam_wcs,npixedge=0):\n",
    "    # some constants and useful objects\n",
    "    ccd_diag = 0.15852  #Guider CCD diagonal radius in Degrees\n",
    "    path = '/home/s/shuang92/rubin-user/Monster_guide'  ## RSP path\n",
    "    res = 5\n",
    "    nside = 2**res\n",
    "    npix = 12 * nside**2\n",
    "    bad_guideramps = {193: 'C1', 198: 'C1', 201: 'C0'}\n",
    "    filters = ['u','g','r','i','z','y']\n",
    "\n",
    "    # get BBox for this detecctor, removing some number of edge pixels\n",
    "    ccd_bbox = detector.getBBox()\n",
    "    ccd_bbox.grow(-Extent2I(npixedge, npixedge))\n",
    "    \n",
    "    # query the Monster\n",
    "    hp_ind = hp.ang2pix(nside, ra, dec, lonlat=True)\n",
    "\n",
    "    # should only need at most 4 tiles, but for simplicity using 9 Tables\n",
    "    SW, W, NW, N, NE, E, SE, S = hp.get_all_neighbours(nside, hp_ind)\n",
    "    \n",
    "    this_table = Table.read(f'{path}/{hp_ind}.csv')\n",
    "\n",
    "    E_table = Table.read(f'{path}/{E}.csv')\n",
    "    W_table = Table.read(f'{path}/{W}.csv')\n",
    "    S_table = Table.read(f'{path}/{S}.csv')\n",
    "    N_table = Table.read(f'{path}/{N}.csv')\n",
    "\n",
    "    SW_table = Table.read(f'{path}/{SW}.csv')\n",
    "    SE_table = Table.read(f'{path}/{SE}.csv')\n",
    "    NW_table = Table.read(f'{path}/{NW}.csv')\n",
    "    NE_table = Table.read(f'{path}/{NE}.csv')\n",
    "\n",
    "    star_cat = vstack([this_table, E_table, W_table, S_table, N_table, SW_table, SE_table, NW_table, NE_table])\n",
    "\n",
    "    # find the ra,dec of the CCD center\n",
    "    x0,y0 = detector.getBBox().getCenterX(),detector.getBBox().getCenterY()  \n",
    "    ra_ccd,dec_ccd = cam_wcs.pixelToSky(x0,y0)\n",
    "\n",
    "    star_cat['dangle'] = np.degrees(angular_separation(ra_ccd.asRadians(),dec_ccd.asRadians(),\n",
    "                            star_cat['coord_ra'],star_cat['coord_dec']))\n",
    "    insideCCDradius = (star_cat['dangle']<ccd_diag) # inside the Guider CCD radius\n",
    "\n",
    "    # Selection 1: the Star is isolated and inside the CCD radius\n",
    "    cat_select1 = star_cat[(insideCCDradius)]\n",
    "\n",
    "    # using the wcs to locate the stars inside the CCD minus npixedge\n",
    "    ccdx,ccdy = cam_wcs.skyToPixelArray(cat_select1['coord_ra'],cat_select1['coord_dec'],degrees=False)\n",
    "    inCCD = ccd_bbox.contains(ccdx,ccdy)\n",
    "\n",
    "    # fill with CCD pixel x,y\n",
    "    cat_select1['ccdx'] = ccdx\n",
    "    cat_select1['ccdy'] = ccdy\n",
    "    cat_select1['inCCD'] = inCCD\n",
    "    \n",
    "\n",
    "    return cat_select1"
   ]
  },
  {
   "cell_type": "markdown",
   "id": "045dff08-0614-40b8-8330-535562074a55",
   "metadata": {},
   "source": [
    "# Get a sample Image"
   ]
  },
  {
   "cell_type": "code",
   "execution_count": null,
   "id": "48f9008a-985f-43a0-88c0-c8c07869145e",
   "metadata": {
    "execution": {
     "iopub.execute_input": "2025-04-18T15:08:42.155390Z",
     "iopub.status.busy": "2025-04-18T15:08:42.155264Z",
     "iopub.status.idle": "2025-04-18T15:08:46.596428Z",
     "shell.execute_reply": "2025-04-18T15:08:46.595884Z",
     "shell.execute_reply.started": "2025-04-18T15:08:42.155378Z"
    }
   },
   "outputs": [],
   "source": [
    "# just get a raw LSSTCam image \n",
    "\n",
    "dayObs=20250415\n",
    "seqNum = 66\n",
    "idet = 29  # pick a CCD near the Guiders\n",
    "collection_lsstcam = collections = ['LSSTCam/raw/all','LSSTCam/runs/nightlyValidation']\n",
    "butler_lsstcam = Butler(\"/repo/embargo_new\", collections=collection_lsstcam)\n",
    "imdataId = {'instrument': 'LSSTCam', 'detector': idet, 'day_obs': dayObs,'seq_num':seqNum}\n",
    "raw_lsstcam = butler_lsstcam.get('raw', imdataId) \n",
    "exprecord_lsstcam = butlerUtils.getExpRecord(butler_lsstcam,instrument='LSSTCam',dayObs=dayObs,seqNum=seqNum)\n",
    "\n",
    "postISRCCD_lsstcam = butler_lsstcam.get('post_isr_image', imdataId) \n",
    "calexp_lsstcam = butler_lsstcam.get('preliminary_visit_image', imdataId) \n"
   ]
  },
  {
   "cell_type": "code",
   "execution_count": null,
   "id": "5a2eb8ad-b39c-4c5f-832b-8805c135f519",
   "metadata": {
    "execution": {
     "iopub.execute_input": "2025-04-18T15:08:46.597159Z",
     "iopub.status.busy": "2025-04-18T15:08:46.597013Z",
     "iopub.status.idle": "2025-04-18T15:08:46.600026Z",
     "shell.execute_reply": "2025-04-18T15:08:46.599601Z",
     "shell.execute_reply.started": "2025-04-18T15:08:46.597145Z"
    }
   },
   "outputs": [],
   "source": [
    "print(raw_lsstcam.visitInfo)"
   ]
  },
  {
   "cell_type": "code",
   "execution_count": null,
   "id": "5a3d7d56-486c-4629-a1c8-4fd4db07a4c4",
   "metadata": {
    "execution": {
     "iopub.execute_input": "2025-04-18T15:08:46.600642Z",
     "iopub.status.busy": "2025-04-18T15:08:46.600509Z",
     "iopub.status.idle": "2025-04-18T15:08:46.803493Z",
     "shell.execute_reply": "2025-04-18T15:08:46.802990Z",
     "shell.execute_reply.started": "2025-04-18T15:08:46.600629Z"
    }
   },
   "outputs": [],
   "source": [
    "visinfo_print(raw_lsstcam,exprecord_lsstcam)\n",
    "\n"
   ]
  },
  {
   "cell_type": "code",
   "execution_count": null,
   "id": "763b215b-5b21-4a1d-93fa-a15c0568b84a",
   "metadata": {
    "execution": {
     "iopub.execute_input": "2025-04-18T15:08:46.804093Z",
     "iopub.status.busy": "2025-04-18T15:08:46.803956Z",
     "iopub.status.idle": "2025-04-18T15:08:46.807137Z",
     "shell.execute_reply": "2025-04-18T15:08:46.806692Z",
     "shell.execute_reply.started": "2025-04-18T15:08:46.804079Z"
    }
   },
   "outputs": [],
   "source": [
    "radec = raw_lsstcam.visitInfo.getBoresightRaDec()\n",
    "ra = radec.getRa().asDegrees()\n",
    "dec = radec.getDec().asDegrees()\n",
    "print(ra,dec)\n",
    "\n",
    "print(radec.getRa().asRadians())\n",
    "print(radec.getDec().asRadians())"
   ]
  },
  {
   "cell_type": "code",
   "execution_count": null,
   "id": "2b37ed2a-383b-44f8-b644-86b6bd1fae22",
   "metadata": {
    "execution": {
     "iopub.execute_input": "2025-04-18T15:08:46.807732Z",
     "iopub.status.busy": "2025-04-18T15:08:46.807597Z",
     "iopub.status.idle": "2025-04-18T15:08:46.815334Z",
     "shell.execute_reply": "2025-04-18T15:08:46.814920Z",
     "shell.execute_reply.started": "2025-04-18T15:08:46.807718Z"
    }
   },
   "outputs": [],
   "source": [
    "exprecord_lsstcam"
   ]
  },
  {
   "cell_type": "code",
   "execution_count": null,
   "id": "07c1ca5f-f02e-4780-9a15-428f82d1ef42",
   "metadata": {
    "execution": {
     "iopub.execute_input": "2025-04-18T15:08:46.815942Z",
     "iopub.status.busy": "2025-04-18T15:08:46.815810Z",
     "iopub.status.idle": "2025-04-18T15:08:46.823365Z",
     "shell.execute_reply": "2025-04-18T15:08:46.822949Z",
     "shell.execute_reply.started": "2025-04-18T15:08:46.815929Z"
    }
   },
   "outputs": [],
   "source": [
    "raw_lsstcam.metadata"
   ]
  },
  {
   "cell_type": "code",
   "execution_count": null,
   "id": "61852b9e-defc-4026-9302-c35235af2f37",
   "metadata": {
    "execution": {
     "iopub.execute_input": "2025-04-18T15:12:09.173868Z",
     "iopub.status.busy": "2025-04-18T15:12:09.173640Z",
     "iopub.status.idle": "2025-04-18T15:12:10.064720Z",
     "shell.execute_reply": "2025-04-18T15:12:10.064217Z",
     "shell.execute_reply.started": "2025-04-18T15:12:09.173852Z"
    }
   },
   "outputs": [],
   "source": [
    "f,ax = plotCCD(postISRCCD_lsstcam.getImage().getArray(),title='%d seqNum=%d Id=%d' % (dayObs,seqNum,idet))"
   ]
  },
  {
   "cell_type": "markdown",
   "id": "4da6cefd-b40a-4f4d-af88-2f6ad20711b6",
   "metadata": {},
   "source": [
    "# test initWCS "
   ]
  },
  {
   "cell_type": "code",
   "execution_count": null,
   "id": "4c808fdb-9444-493e-a7a4-4942e7512afa",
   "metadata": {
    "execution": {
     "iopub.execute_input": "2025-04-18T15:08:47.771138Z",
     "iopub.status.busy": "2025-04-18T15:08:47.770990Z",
     "iopub.status.idle": "2025-04-18T15:08:49.015432Z",
     "shell.execute_reply": "2025-04-18T15:08:49.014929Z",
     "shell.execute_reply.started": "2025-04-18T15:08:47.771123Z"
    }
   },
   "outputs": [],
   "source": [
    "# get WCS for lsstcam image\n",
    "\n",
    "visinfo_lsstcam = raw_lsstcam.visitInfo\n",
    "\n",
    "date = visinfo_lsstcam.getDate()\n",
    "print('Date: ',date)\n",
    "mjd = date.toAstropy()\n",
    "print('MJD: ',mjd)\n",
    "obstime = Time(mjd, format='mjd', scale='tai')\n",
    "\n",
    "camcorr_wcs,camcorr_radec,camcorr_azalt = make_lsstcam_WCS(camera,visinfo_lsstcam,location,obstime,\n",
    "                                                           extra_rotation=Angle(0.,geom.degrees))\n",
    "\n",
    "#camcorr_wcs_no90,camcorr_radec_no90,camcorr_azalt_no90 = make_lsstcam_WCS(camera,visinfo_lsstcam,location,obstime,\n",
    "#                                                           extra_rotation=Angle(0.,geom.degrees))\n",
    "#\n",
    "#camcorr_wcs_plus90,camcorr_radec_plus90,camcorr_azalt_plus90 = make_lsstcam_WCS(camera,visinfo_lsstcam,location,obstime,\n",
    "#                                                           extra_rotation=Angle(90.,geom.degrees))\n",
    "#\n",
    "#camcorr_wcs_plus180,camcorr_radec_plus180,camcorr_azalt_plus180 = make_lsstcam_WCS(camera,visinfo_lsstcam,location,obstime,\n",
    "#                                                          extra_rotation=Angle(180.,geom.degrees))"
   ]
  },
  {
   "cell_type": "code",
   "execution_count": null,
   "id": "1f56000b-51a5-4bc5-b99e-b84270c44438",
   "metadata": {
    "execution": {
     "iopub.execute_input": "2025-04-18T15:08:49.016066Z",
     "iopub.status.busy": "2025-04-18T15:08:49.015926Z",
     "iopub.status.idle": "2025-04-18T15:08:49.322388Z",
     "shell.execute_reply": "2025-04-18T15:08:49.321868Z",
     "shell.execute_reply.started": "2025-04-18T15:08:49.016052Z"
    }
   },
   "outputs": [],
   "source": [
    "detector = camera[idet]\n",
    "star_cat = get_stars(detector,camcorr_radec[idet][0],camcorr_radec[idet][1],camcorr_wcs[detector.getId()])"
   ]
  },
  {
   "cell_type": "code",
   "execution_count": null,
   "id": "66126b87-1e57-44c9-80e0-d6fdcad86793",
   "metadata": {
    "execution": {
     "iopub.execute_input": "2025-04-18T15:08:49.323082Z",
     "iopub.status.busy": "2025-04-18T15:08:49.322941Z",
     "iopub.status.idle": "2025-04-18T15:08:49.329017Z",
     "shell.execute_reply": "2025-04-18T15:08:49.328607Z",
     "shell.execute_reply.started": "2025-04-18T15:08:49.323068Z"
    }
   },
   "outputs": [],
   "source": [
    "star_cat[['coord_ra','coord_dec','mag_i','gaia_G','ccdx','ccdy','inCCD']]"
   ]
  },
  {
   "cell_type": "code",
   "execution_count": null,
   "id": "f27a33ca-1af2-4784-94fc-effabb80fbc3",
   "metadata": {
    "execution": {
     "iopub.execute_input": "2025-04-18T15:11:58.136221Z",
     "iopub.status.busy": "2025-04-18T15:11:58.135949Z",
     "iopub.status.idle": "2025-04-18T15:11:59.022807Z",
     "shell.execute_reply": "2025-04-18T15:11:59.022251Z",
     "shell.execute_reply.started": "2025-04-18T15:11:58.136204Z"
    }
   },
   "outputs": [],
   "source": [
    "f,ax = plotCCD(postISRCCD_lsstcam.getImage().getArray(),title='%d sedNum=%d Id=%d initWCS' % (dayObs,seqNum,idet))\n",
    "\n",
    "okstars = star_cat[(star_cat['inCCD'])]\n",
    "ax.scatter(okstars['ccdx'],okstars['ccdy'],s=100.0,facecolors='none', edgecolors='red')\n"
   ]
  },
  {
   "cell_type": "markdown",
   "id": "ab1a9c60-95a5-4881-b0b0-0ee8e7daeba3",
   "metadata": {
    "execution": {
     "iopub.execute_input": "2025-04-18T14:33:44.078616Z",
     "iopub.status.busy": "2025-04-18T14:33:44.078272Z",
     "iopub.status.idle": "2025-04-18T14:33:44.081305Z",
     "shell.execute_reply": "2025-04-18T14:33:44.080872Z",
     "shell.execute_reply.started": "2025-04-18T14:33:44.078600Z"
    }
   },
   "source": [
    "# use the calexp wcs which is after a basic level Astrometric fit"
   ]
  },
  {
   "cell_type": "code",
   "execution_count": null,
   "id": "2e0108db-1d72-43c9-9973-83c3cb0731a7",
   "metadata": {
    "execution": {
     "iopub.execute_input": "2025-04-18T15:08:50.229628Z",
     "iopub.status.busy": "2025-04-18T15:08:50.229482Z",
     "iopub.status.idle": "2025-04-18T15:08:50.321953Z",
     "shell.execute_reply": "2025-04-18T15:08:50.321474Z",
     "shell.execute_reply.started": "2025-04-18T15:08:50.229613Z"
    }
   },
   "outputs": [],
   "source": [
    "detector = camera[idet]\n",
    "star_cat2 = get_stars(detector,camcorr_radec[idet][0],camcorr_radec[idet][1],calexp_lsstcam.getWcs())"
   ]
  },
  {
   "cell_type": "code",
   "execution_count": null,
   "id": "11a84cf2-1027-43d6-8582-74d21d9ba8a6",
   "metadata": {
    "execution": {
     "iopub.execute_input": "2025-04-18T15:11:45.026316Z",
     "iopub.status.busy": "2025-04-18T15:11:45.026098Z",
     "iopub.status.idle": "2025-04-18T15:11:45.913133Z",
     "shell.execute_reply": "2025-04-18T15:11:45.912669Z",
     "shell.execute_reply.started": "2025-04-18T15:11:45.026300Z"
    }
   },
   "outputs": [],
   "source": [
    "f,ax = plotCCD(postISRCCD_lsstcam.getImage().getArray(),title='%d seqNum=%d Id=%d calexp WCS' % (dayObs,seqNum,idet))\n",
    "\n",
    "okstars = star_cat2[(star_cat2['inCCD'])]\n",
    "ax.scatter(okstars['ccdx'],okstars['ccdy'],s=100.0,facecolors='none', edgecolors='red')"
   ]
  },
  {
   "cell_type": "markdown",
   "id": "ed8348de-642b-4bca-aabb-38c29926c4b9",
   "metadata": {},
   "source": [
    "# Find deltax,deltay pixel offset between initWCS and the calexp WCS"
   ]
  },
  {
   "cell_type": "code",
   "execution_count": null,
   "id": "b7402760-bfb7-4b22-afa1-9d25ca801c86",
   "metadata": {
    "execution": {
     "iopub.execute_input": "2025-04-18T22:57:51.870144Z",
     "iopub.status.busy": "2025-04-18T22:57:51.869833Z",
     "iopub.status.idle": "2025-04-18T22:57:51.873840Z",
     "shell.execute_reply": "2025-04-18T22:57:51.873421Z",
     "shell.execute_reply.started": "2025-04-18T22:57:51.870129Z"
    }
   },
   "outputs": [],
   "source": [
    "calwcs = calexp_lsstcam.getWcs()\n",
    "initwcs = raw_lsstcam.getWcs()\n",
    "\n",
    "bbox = detector.getBBox()\n",
    "center = bbox.getCenter()\n",
    "cal_radec = calwcs.pixelToSky(center)\n",
    "init_center = initwcs.skyToPixel(cal_radec)\n",
    "delta_center = center - init_center\n",
    "print(delta_center)"
   ]
  },
  {
   "cell_type": "code",
   "execution_count": null,
   "id": "603c72e6-3dba-441a-bc45-9362f0bd1f0d",
   "metadata": {
    "execution": {
     "iopub.execute_input": "2025-04-18T22:55:20.751792Z",
     "iopub.status.busy": "2025-04-18T22:55:20.751418Z",
     "iopub.status.idle": "2025-04-18T22:55:20.755144Z",
     "shell.execute_reply": "2025-04-18T22:55:20.754693Z",
     "shell.execute_reply.started": "2025-04-18T22:55:20.751773Z"
    }
   },
   "outputs": [],
   "source": [
    "bbox.getCenter()"
   ]
  },
  {
   "cell_type": "code",
   "execution_count": null,
   "id": "b386fe17-8d35-436e-9771-a5b2c71cd353",
   "metadata": {},
   "outputs": [],
   "source": []
  },
  {
   "cell_type": "code",
   "execution_count": null,
   "id": "8bc54a52-9ad1-434b-b9fe-67408041283f",
   "metadata": {
    "execution": {
     "iopub.execute_input": "2025-04-18T22:24:50.645776Z",
     "iopub.status.busy": "2025-04-18T22:24:50.645546Z",
     "iopub.status.idle": "2025-04-18T22:24:50.648607Z",
     "shell.execute_reply": "2025-04-18T22:24:50.648196Z",
     "shell.execute_reply.started": "2025-04-18T22:24:50.645759Z"
    }
   },
   "outputs": [],
   "source": [
    "\n"
   ]
  },
  {
   "cell_type": "code",
   "execution_count": null,
   "id": "9e3b43bb-d9f8-40e4-ab32-91d9d36bdc23",
   "metadata": {
    "execution": {
     "iopub.execute_input": "2025-04-18T22:41:25.460073Z",
     "iopub.status.busy": "2025-04-18T22:41:25.459721Z",
     "iopub.status.idle": "2025-04-18T22:41:25.462847Z",
     "shell.execute_reply": "2025-04-18T22:41:25.462448Z",
     "shell.execute_reply.started": "2025-04-18T22:41:25.460045Z"
    }
   },
   "outputs": [],
   "source": [
    "cal_trans = calwcs.getTransform()\n",
    "init_trans = initwcs.getTransform()"
   ]
  },
  {
   "cell_type": "code",
   "execution_count": null,
   "id": "d3b8d957-a9a8-44af-833f-10ac7353b267",
   "metadata": {
    "execution": {
     "iopub.execute_input": "2025-04-18T22:48:06.651608Z",
     "iopub.status.busy": "2025-04-18T22:48:06.651392Z",
     "iopub.status.idle": "2025-04-18T22:48:06.655639Z",
     "shell.execute_reply": "2025-04-18T22:48:06.655204Z",
     "shell.execute_reply.started": "2025-04-18T22:48:06.651592Z"
    }
   },
   "outputs": [],
   "source": [
    "calwcs.getCdMatrix()"
   ]
  },
  {
   "cell_type": "markdown",
   "id": "922181d8-d768-41b7-b627-e6846ddccbeb",
   "metadata": {},
   "source": [
    "# try tweaking the initWCS to match the image"
   ]
  },
  {
   "cell_type": "code",
   "execution_count": null,
   "id": "1d3300a4-a741-4d6d-beab-1c432d3c492f",
   "metadata": {
    "execution": {
     "iopub.execute_input": "2025-04-18T15:08:51.226999Z",
     "iopub.status.busy": "2025-04-18T15:08:51.226854Z",
     "iopub.status.idle": "2025-04-18T15:08:51.229612Z",
     "shell.execute_reply": "2025-04-18T15:08:51.229191Z",
     "shell.execute_reply.started": "2025-04-18T15:08:51.226985Z"
    }
   },
   "outputs": [],
   "source": [
    "from lsst.afw.geom import makeModifiedWcs,TransformPoint2ToPoint2\n"
   ]
  },
  {
   "cell_type": "code",
   "execution_count": null,
   "id": "b41fc848-01c8-4895-9053-68c22608b9b0",
   "metadata": {
    "execution": {
     "iopub.execute_input": "2025-04-18T15:08:51.230297Z",
     "iopub.status.busy": "2025-04-18T15:08:51.230045Z",
     "iopub.status.idle": "2025-04-18T15:08:51.237510Z",
     "shell.execute_reply": "2025-04-18T15:08:51.237044Z",
     "shell.execute_reply.started": "2025-04-18T15:08:51.230282Z"
    }
   },
   "outputs": [],
   "source": [
    "import astshim"
   ]
  },
  {
   "cell_type": "code",
   "execution_count": null,
   "id": "42f51789-9055-4c67-b8a2-7115b72ed4f9",
   "metadata": {
    "execution": {
     "iopub.execute_input": "2025-04-18T15:33:42.541461Z",
     "iopub.status.busy": "2025-04-18T15:33:42.541120Z",
     "iopub.status.idle": "2025-04-18T15:33:42.544761Z",
     "shell.execute_reply": "2025-04-18T15:33:42.544425Z",
     "shell.execute_reply.started": "2025-04-18T15:33:42.541444Z"
    }
   },
   "outputs": [],
   "source": [
    "initwcs = camcorr_wcs[detector.getId()]\n",
    "print(initwcs)"
   ]
  },
  {
   "cell_type": "code",
   "execution_count": null,
   "id": "aec0e918-c402-4869-ba69-eaf4d57b9a6a",
   "metadata": {
    "execution": {
     "iopub.execute_input": "2025-04-18T15:33:42.890016Z",
     "iopub.status.busy": "2025-04-18T15:33:42.889857Z",
     "iopub.status.idle": "2025-04-18T15:33:42.892812Z",
     "shell.execute_reply": "2025-04-18T15:33:42.892487Z",
     "shell.execute_reply.started": "2025-04-18T15:33:42.890002Z"
    }
   },
   "outputs": [],
   "source": [
    "# adjust WCS in x,y by eye from above image\n",
    "\n",
    "deltax = -725.0  # in pixels\n",
    "deltay = -535.0\n",
    "corrwcs = initwcs.copyAtShiftedPixelOrigin(Extent2D(deltax,deltay))"
   ]
  },
  {
   "cell_type": "code",
   "execution_count": null,
   "id": "6a6926c8-ea38-44ea-8886-9b00abccacef",
   "metadata": {
    "execution": {
     "iopub.execute_input": "2025-04-18T19:45:43.098957Z",
     "iopub.status.busy": "2025-04-18T19:45:43.098732Z",
     "iopub.status.idle": "2025-04-18T19:45:43.103426Z",
     "shell.execute_reply": "2025-04-18T19:45:43.102974Z",
     "shell.execute_reply.started": "2025-04-18T19:45:43.098942Z"
    }
   },
   "outputs": [],
   "source": [
    "# also apply a rotation - not exactly sure where it is rotating about, but looks like its about a point inside the CCD\n",
    "theta = np.deg2rad(0.1)\n",
    "rotmat = np.array([[np.cos(theta),-np.sin(theta)],[np.sin(theta),np.cos(theta)]])\n",
    "amat = astshim.MatrixMap(rotmat)\n",
    "tp2p = TransformPoint2ToPoint2(amat)\n",
    "corrwcs2 = makeModifiedWcs(tp2p,corrwcs,True)\n",
    "print(corrwcs2)"
   ]
  },
  {
   "cell_type": "code",
   "execution_count": null,
   "id": "be3731c4-2f77-479c-bc96-414ce83937de",
   "metadata": {
    "execution": {
     "iopub.execute_input": "2025-04-18T19:45:43.328176Z",
     "iopub.status.busy": "2025-04-18T19:45:43.327434Z",
     "iopub.status.idle": "2025-04-18T19:45:43.471178Z",
     "shell.execute_reply": "2025-04-18T19:45:43.470718Z",
     "shell.execute_reply.started": "2025-04-18T19:45:43.328158Z"
    }
   },
   "outputs": [],
   "source": [
    "detector = camera[idet]\n",
    "star_cat3 = get_stars(detector,camcorr_radec[idet][0],camcorr_radec[idet][1],corrwcs2)"
   ]
  },
  {
   "cell_type": "code",
   "execution_count": null,
   "id": "e5cf687b-8293-4e9c-ac1a-5a5fb62dd4be",
   "metadata": {
    "execution": {
     "iopub.execute_input": "2025-04-18T19:45:43.508937Z",
     "iopub.status.busy": "2025-04-18T19:45:43.508782Z",
     "iopub.status.idle": "2025-04-18T19:45:44.408983Z",
     "shell.execute_reply": "2025-04-18T19:45:44.408379Z",
     "shell.execute_reply.started": "2025-04-18T19:45:43.508923Z"
    }
   },
   "outputs": [],
   "source": [
    "f,ax = plotCCD(postISRCCD_lsstcam.getImage().getArray(),title='%d seqNum=%d Id=%d initWCS tweaked' % (dayObs,seqNum,idet))\n",
    "\n",
    "okstars = star_cat3[(star_cat3['inCCD'])]\n",
    "ax.scatter(okstars['ccdx'],okstars['ccdy'],s=100.0,facecolors='none', edgecolors='red')"
   ]
  },
  {
   "cell_type": "markdown",
   "id": "4a4158b7-8539-4532-b21e-213de9502f1e",
   "metadata": {},
   "source": [
    "# Focal Plane Detector orientation plot"
   ]
  },
  {
   "cell_type": "code",
   "execution_count": null,
   "id": "61414d23-9c1f-412a-ba62-4f1976b552cb",
   "metadata": {
    "execution": {
     "iopub.execute_input": "2025-04-18T19:57:51.486952Z",
     "iopub.status.busy": "2025-04-18T19:57:51.486605Z",
     "iopub.status.idle": "2025-04-18T19:57:52.212475Z",
     "shell.execute_reply": "2025-04-18T19:57:52.212056Z",
     "shell.execute_reply.started": "2025-04-18T19:57:51.486935Z"
    }
   },
   "outputs": [],
   "source": [
    "# plot Y(up) vs. X(right) as seen through L1 for the LSSTCam detectors\n",
    "f,ax = plt.subplots(1,1,figsize=(10,10))\n",
    "for i,azalt in camcorr_azalt.items():\n",
    "    _ = ax.plot(-azalt[0],-azalt[1],marker='o',markersize=3.,color='red')\n",
    "    _ = ax.text(-azalt[0],-azalt[1],camera[i].getId(),size=12.)\n",
    "#ax.set_aspect('equal')\n",
    "ax.set_title('LSSTCam Y(up) vs. X(right), as seen through L1, from DM WCS with no extra_rotation')"
   ]
  },
  {
   "cell_type": "code",
   "execution_count": null,
   "id": "3cca04c8-a513-4e62-9933-2e4fa6956e49",
   "metadata": {},
   "outputs": [],
   "source": []
  },
  {
   "cell_type": "code",
   "execution_count": null,
   "id": "67ec1268-d1d6-48d8-8025-e7d0a59b3448",
   "metadata": {},
   "outputs": [],
   "source": []
  },
  {
   "cell_type": "code",
   "execution_count": null,
   "id": "c5ecb9fe-7ddc-4f43-ac97-f59d07c6a1c2",
   "metadata": {
    "execution": {
     "iopub.execute_input": "2025-05-24T03:57:58.159157Z",
     "iopub.status.busy": "2025-05-24T03:57:58.158927Z",
     "iopub.status.idle": "2025-05-24T03:58:01.565565Z",
     "shell.execute_reply": "2025-05-24T03:58:01.565016Z",
     "shell.execute_reply.started": "2025-05-24T03:57:58.159141Z"
    }
   },
   "outputs": [],
   "source": [
    "# get WCS for lsstcam image\n",
    "expId = 2025050500523\n",
    "dayObs=20250505\n",
    "seqNum = 523\n",
    "idet = 94  # pick a CCD near the Guiders\n",
    "collection_lsstcam = collections = ['LSSTCam/raw/all','LSSTCam/runs/nightlyValidation']\n",
    "butler_lsstcam = Butler(\"/repo/embargo_new\", collections=collection_lsstcam)\n",
    "imdataId = {'instrument': 'LSSTCam', 'detector': idet, 'day_obs': dayObs,'seq_num':seqNum}\n",
    "raw_lsstcam = butler_lsstcam.get('raw', imdataId) \n",
    "\n",
    "\n",
    "\n",
    "\n",
    "visinfo_lsstcam = raw_lsstcam.visitInfo\n",
    "\n",
    "date = visinfo_lsstcam.getDate()\n",
    "print('Date: ',date)\n",
    "mjd = date.toAstropy()\n",
    "print('MJD: ',mjd)\n",
    "obstime = Time(mjd, format='mjd', scale='tai')\n",
    "\n",
    "camcorr_wcs,camcorr_radec,camcorr_azalt = make_lsstcam_WCS(camera,visinfo_lsstcam,location,obstime,\n",
    "                                                           extra_rotation=Angle(0.,geom.degrees))\n",
    "\n",
    "#camcorr_wcs_no90,camcorr_radec_no90,camcorr_azalt_no90 = make_lsstcam_WCS(camera,visinfo_lsstcam,location,obstime,\n",
    "#                                                           extra_rotation=Angle(0.,geom.degrees))\n",
    "#\n",
    "#camcorr_wcs_plus90,camcorr_radec_plus90,camcorr_azalt_plus90 = make_lsstcam_WCS(camera,visinfo_lsstcam,location,obstime,\n",
    "#                                                           extra_rotation=Angle(90.,geom.degrees))\n",
    "#\n",
    "#camcorr_wcs_plus180,camcorr_radec_plus180,camcorr_azalt_plus180 = make_lsstcam_WCS(camera,visinfo_lsstcam,location,obstime,\n",
    "#                                                          extra_rotation=Angle(180.,geom.degrees))"
   ]
  },
  {
   "cell_type": "code",
   "execution_count": null,
   "id": "0a5e20d9-31d8-4898-a63d-fc5e353e6284",
   "metadata": {
    "execution": {
     "iopub.execute_input": "2025-05-24T03:59:13.067368Z",
     "iopub.status.busy": "2025-05-24T03:59:13.066898Z",
     "iopub.status.idle": "2025-05-24T03:59:13.070921Z",
     "shell.execute_reply": "2025-05-24T03:59:13.070549Z",
     "shell.execute_reply.started": "2025-05-24T03:59:13.067340Z"
    }
   },
   "outputs": [],
   "source": [
    "camcorr_wcs[94]"
   ]
  },
  {
   "cell_type": "code",
   "execution_count": null,
   "id": "7aaf2d3d-0101-41c0-bb48-f5eed8cb4c4d",
   "metadata": {
    "execution": {
     "iopub.execute_input": "2025-05-24T03:59:53.171059Z",
     "iopub.status.busy": "2025-05-24T03:59:53.170615Z",
     "iopub.status.idle": "2025-05-24T03:59:53.174428Z",
     "shell.execute_reply": "2025-05-24T03:59:53.174129Z",
     "shell.execute_reply.started": "2025-05-24T03:59:53.171043Z"
    }
   },
   "outputs": [],
   "source": [
    "camcorr_wcs[201]"
   ]
  },
  {
   "cell_type": "code",
   "execution_count": null,
   "id": "31b0a219-d144-4a2b-b474-b3d92fce979d",
   "metadata": {},
   "outputs": [],
   "source": []
  }
 ],
 "metadata": {
  "kernelspec": {
   "display_name": "LSST",
   "language": "python",
   "name": "lsst"
  },
  "language_info": {
   "codemirror_mode": {
    "name": "ipython",
    "version": 3
   },
   "file_extension": ".py",
   "mimetype": "text/x-python",
   "name": "python",
   "nbconvert_exporter": "python",
   "pygments_lexer": "ipython3",
   "version": "3.12.10"
  },
  "widgets": {
   "application/vnd.jupyter.widget-state+json": {
    "state": {},
    "version_major": 2,
    "version_minor": 0
   }
  }
 },
 "nbformat": 4,
 "nbformat_minor": 5
}
