{
 "cells": [
  {
   "cell_type": "markdown",
   "id": "73e1267b-d2a5-40b2-90bb-6e0ad4617d5b",
   "metadata": {},
   "source": [
    "## LSSTCam Sky Coverage\n",
    "Scroll through on sky images to see coverage\n",
    "Craig Lage - 23-Apr-25"
   ]
  },
  {
   "cell_type": "code",
   "execution_count": null,
   "id": "eb7fec00-8cc7-4636-919e-293830c239a0",
   "metadata": {
    "execution": {
     "iopub.execute_input": "2025-04-23T21:30:23.696677Z",
     "iopub.status.busy": "2025-04-23T21:30:23.696400Z",
     "iopub.status.idle": "2025-04-23T21:30:32.718184Z",
     "shell.execute_reply": "2025-04-23T21:30:32.717611Z",
     "shell.execute_reply.started": "2025-04-23T21:30:23.696662Z"
    }
   },
   "outputs": [],
   "source": [
    "import os\n",
    "import shlex, subprocess\n",
    "import matplotlib.pyplot as plt\n",
    "from lsst.summit.utils.plotting import plot\n",
    "import numpy as np\n",
    "from astropy.io import fits\n",
    "from lsst.resources import ResourcePath\n",
    "from astropy.time import Time, TimeDelta\n",
    "import lsst.summit.utils.butlerUtils as butlerUtils\n",
    "from lsst.summit.utils.utils import dayObsIntToString\n",
    "from lsst.summit.utils.efdUtils import calcNextDay\n",
    "from lsst.daf.butler import Butler\n"
   ]
  },
  {
   "cell_type": "markdown",
   "id": "b02fdf8c-9802-40d7-949a-f7c2044aca67",
   "metadata": {},
   "source": [
    "# Scroll through historical data to see AltAz values"
   ]
  },
  {
   "cell_type": "code",
   "execution_count": null,
   "id": "61f2ca7e-cc24-4531-93d1-3fb8e3518e1b",
   "metadata": {
    "execution": {
     "iopub.execute_input": "2025-04-23T21:30:32.733443Z",
     "iopub.status.busy": "2025-04-23T21:30:32.733305Z",
     "iopub.status.idle": "2025-04-23T21:30:33.201032Z",
     "shell.execute_reply": "2025-04-23T21:30:33.200492Z",
     "shell.execute_reply.started": "2025-04-23T21:30:32.733430Z"
    }
   },
   "outputs": [],
   "source": [
    "butler = Butler('/repo/embargo', collections=['LSSTCam/raw/all', \n",
    "                                            'LSSTCam/calib/unbounded', 'LSSTCam/runs/nightlyValidation'])\n",
    "\n",
    "detectors = [['R00', 'SG0'], ['R00', 'SG1'], \n",
    "  ['R04', 'SG0'], ['R04', 'SG1'], \n",
    "  ['R40', 'SG0'], ['R40', 'SG1'],\n",
    "  ['R44', 'SG0'], ['R44', 'SG1']]\n"
   ]
  },
  {
   "cell_type": "code",
   "execution_count": null,
   "id": "afd5de3d-6c0a-4bd9-aed1-f003eefa78e4",
   "metadata": {
    "execution": {
     "iopub.execute_input": "2025-04-23T21:30:33.201660Z",
     "iopub.status.busy": "2025-04-23T21:30:33.201517Z",
     "iopub.status.idle": "2025-04-23T21:36:33.998759Z",
     "shell.execute_reply": "2025-04-23T21:36:33.998252Z",
     "shell.execute_reply.started": "2025-04-23T21:30:33.201646Z"
    },
    "jupyter": {
     "outputs_hidden": true
    }
   },
   "outputs": [],
   "source": [
    "startDay = 20250406\n",
    "endDay = 20250417\n",
    "\n",
    "output = []\n",
    "dayObs = startDay\n",
    "while dayObs <= endDay:\n",
    "    records = butler.registry.queryDimensionRecords(\"exposure\", where=\"exposure.day_obs=%d\"%dayObs)\n",
    "    print(dayObs, records.count())\n",
    "    if records.count() < 200:\n",
    "        dayObs = calcNextDay(dayObs)  # find the next dayObs                                                                                       \n",
    "\n",
    "        continue\n",
    "    exposureList = []\n",
    "    for record in butler.registry.queryDimensionRecords(\"exposure\", where=\"exposure.day_obs=%d\"%dayObs):\n",
    "        exposureList.append(record.id)\n",
    "    exposureList = sorted(exposureList)\n",
    "    for expId in exposureList:\n",
    "        for [raft, ccd] in detectors:\n",
    "            try:\n",
    "                seqNum = int(expId - dayObs * 1E5)\n",
    "                filename = f\"s3://embargo@rubin-summit/LSSTCam/{dayObs}/MC_O_{dayObs}_{seqNum:06d}/MC_O_{dayObs}_{seqNum:06d}_{raft}_{ccd}_guider.fits\"\n",
    "                rp = ResourcePath(filename)\n",
    "                with rp.open(mode=\"rb\") as f:\n",
    "                    hdu_list = fits.open(f)\n",
    "                [roiSeg, roiRow, roiCol, roiRows, roiCols, roiUnder, nStamps, xor] = getMainHeaderInfo(hdu_list)\n",
    "                output.append([expId, raft, ccd, roiSeg])\n",
    "                print(expId, raft, ccd, roiSeg)\n",
    "            except:\n",
    "                #print(f\"{expId} failed!\")\n",
    "                continue\n",
    "    print(f\"Done with {dayObs}\")\n",
    "    print()\n",
    "    dayObs = calcNextDay(dayObs)  # find the next dayObs \n"
   ]
  },
  {
   "cell_type": "code",
   "execution_count": null,
   "id": "735ccf56-16f3-4b3e-832f-172c05a9ce36",
   "metadata": {
    "execution": {
     "iopub.execute_input": "2025-04-23T21:37:17.028852Z",
     "iopub.status.busy": "2025-04-23T21:37:17.028516Z",
     "iopub.status.idle": "2025-04-23T21:37:17.083341Z",
     "shell.execute_reply": "2025-04-23T21:37:17.082815Z",
     "shell.execute_reply.started": "2025-04-23T21:37:17.028834Z"
    }
   },
   "outputs": [],
   "source": [
    "for out in output:\n",
    "    print(out)"
   ]
  },
  {
   "cell_type": "code",
   "execution_count": null,
   "id": "ca932d26-d88c-4bcd-b79a-d2dee646ef3b",
   "metadata": {},
   "outputs": [],
   "source": []
  }
 ],
 "metadata": {
  "kernelspec": {
   "display_name": "LSST",
   "language": "python",
   "name": "lsst"
  },
  "language_info": {
   "codemirror_mode": {
    "name": "ipython",
    "version": 3
   },
   "file_extension": ".py",
   "mimetype": "text/x-python",
   "name": "python",
   "nbconvert_exporter": "python",
   "pygments_lexer": "ipython3",
   "version": "3.12.9"
  }
 },
 "nbformat": 4,
 "nbformat_minor": 5
}
