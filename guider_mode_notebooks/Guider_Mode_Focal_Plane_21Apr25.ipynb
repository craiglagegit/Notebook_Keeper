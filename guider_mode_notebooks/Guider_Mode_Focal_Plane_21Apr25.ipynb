{
 "cells": [
  {
   "cell_type": "markdown",
   "id": "73e1267b-d2a5-40b2-90bb-6e0ad4617d5b",
   "metadata": {},
   "source": [
    "## Guider mode focal plane plot\n",
    "This is intended to plot the guider amps on the focal plane. \\\n",
    "It is mainly as a check of the star locations. \\\n",
    "Craig Lage - 21-Apr-25"
   ]
  },
  {
   "cell_type": "code",
   "execution_count": null,
   "id": "eb7fec00-8cc7-4636-919e-293830c239a0",
   "metadata": {
    "execution": {
     "iopub.execute_input": "2025-04-21T13:57:30.935100Z",
     "iopub.status.busy": "2025-04-21T13:57:30.934874Z",
     "iopub.status.idle": "2025-04-21T13:57:39.382658Z",
     "shell.execute_reply": "2025-04-21T13:57:39.382193Z",
     "shell.execute_reply.started": "2025-04-21T13:57:30.935083Z"
    }
   },
   "outputs": [],
   "source": [
    "import os\n",
    "import shlex, subprocess\n",
    "import matplotlib.pyplot as plt\n",
    "from lsst.summit.utils.plotting import plot\n",
    "import numpy as np\n",
    "from astropy.io import fits\n",
    "from lsst.resources import ResourcePath\n",
    "from lsst.afw import cameraGeom\n",
    "from lsst.obs.lsst.cameraTransforms import LsstCameraTransforms\n",
    "from lsst.obs.lsst import LsstCam\n",
    "from matplotlib.backends.backend_pdf import PdfPages\n",
    "from photutils.detection import DAOStarFinder\n",
    "import pickle as pkl\n",
    "from astropy.time import Time, TimeDelta"
   ]
  },
  {
   "cell_type": "markdown",
   "id": "9bd89ed0-ff9b-4c88-bcc8-3b3ea08dda48",
   "metadata": {},
   "source": [
    "# Plot the CCD locations"
   ]
  },
  {
   "cell_type": "code",
   "execution_count": null,
   "id": "62db4722-69df-48c4-b865-906586929b53",
   "metadata": {
    "execution": {
     "iopub.execute_input": "2025-04-22T15:42:31.923887Z",
     "iopub.status.busy": "2025-04-22T15:42:31.923355Z",
     "iopub.status.idle": "2025-04-22T15:42:32.430049Z",
     "shell.execute_reply": "2025-04-22T15:42:32.429643Z",
     "shell.execute_reply.started": "2025-04-22T15:42:31.923855Z"
    }
   },
   "outputs": [],
   "source": [
    "from lsst.obs.lsst.cameraTransforms import LsstCameraTransforms\n",
    "from lsst.obs.lsst import LsstCam\n",
    "\n",
    "camera = LsstCam.getCamera()\n",
    "\n",
    "detectors = [['R00', 'SG0'], ['R00', 'SG1'], \n",
    "          ['R04', 'SG0'], ['R04', 'SG1'], \n",
    "          ['R40', 'SG0'], ['R40', 'SG1'],\n",
    "          ['R44', 'SG0'], ['R44', 'SG1']]\n",
    "fig = plt.figure(figsize=(10,10))\n",
    "ax = fig.subplots(1,1)\n",
    "plt.suptitle(\"LSSTCam Guider Mode CCD check\", fontsize=24)\n",
    "for [raft, ccd] in detectors:\n",
    "    detName = f\"{raft}_{ccd}\"\n",
    "    for detector in camera:\n",
    "        if detector.getName()== detName:\n",
    "            break\n",
    "    bbox = detector.getBBox()\n",
    "    nx,ny = bbox.getDimensions()\n",
    "    lct = LsstCameraTransforms(camera,detName)\n",
    "    llfpX, llfpY = lct.ccdPixelToFocalMm(0, 0, detName)\n",
    "    urfpX, urfpY = lct.ccdPixelToFocalMm(nx, ny, detName)\n",
    "    width = urfpX - llfpX\n",
    "    height = urfpY - llfpY\n",
    "    rect = plt.Rectangle((llfpX, llfpY), width=width, height=height, \\\n",
    "                      color='red', fill=False)\n",
    "    ax.add_artist(rect)\n",
    "    ax.scatter(llfpX, llfpY, marker='o', s=50, color='blue')\n",
    "    if raft in ['R04', 'R44']:\n",
    "        ax.text(llfpX-70.0, llfpY+10.0, f\"{raft}_{ccd}\", color='red')\n",
    "    else:\n",
    "        ax.text(llfpX+10.0, llfpY-10.0, f\"{raft}_{ccd}\", color='red')\n",
    "    \n",
    "    for amp in detector.getAmplifiers():\n",
    "        ampName = amp.getName()\n",
    "        bbox = amp.getBBox()\n",
    "        nx,ny = bbox.getDimensions()\n",
    "        llfpX,llfpY = lct.ampPixelToFocalMm(0, 0, ampName)\n",
    "        urfpX, urfpY = lct.ampPixelToFocalMm(nx, ny, ampName)\n",
    "        width = urfpX - llfpX\n",
    "        height = urfpY - llfpY\n",
    "        rect = plt.Rectangle((llfpX, llfpY), width=width, height=height, \\\n",
    "                          color='black', fill=False)\n",
    "        ax.add_artist(rect)\n",
    "        textX = (llfpX + urfpX) / 2.0\n",
    "        textY = (llfpY + urfpY) / 2.0\n",
    "        if detName in ['R00_SG1', 'R04_SG0', 'R40_SG0', 'R44_SG1']:\n",
    "            ax.text(textX+1.5, textY, ampName, fontsize=5, ha='center', va='center', rotation=90)\n",
    "        else:\n",
    "            ax.text(textX, textY, ampName, fontsize=5, ha='center', va='center')\n",
    "\n",
    "ax.set_xlim(-300, 300)\n",
    "ax.set_ylim(-300,300)\n",
    "\n",
    "plt.savefig(\"/home/c/cslage/u/LSSTCam/images/Guider_Mode_Position_Check_22Apr25.png\")"
   ]
  },
  {
   "cell_type": "code",
   "execution_count": null,
   "id": "52790d39-b158-47ad-acf0-69c25a617fb0",
   "metadata": {},
   "outputs": [],
   "source": [
    "amp."
   ]
  },
  {
   "cell_type": "markdown",
   "id": "b02fdf8c-9802-40d7-949a-f7c2044aca67",
   "metadata": {},
   "source": [
    "# Plot the CCD locations with detected stars"
   ]
  },
  {
   "cell_type": "code",
   "execution_count": null,
   "id": "afd5de3d-6c0a-4bd9-aed1-f003eefa78e4",
   "metadata": {
    "execution": {
     "iopub.execute_input": "2025-04-21T14:16:44.169526Z",
     "iopub.status.busy": "2025-04-21T14:16:44.169193Z",
     "iopub.status.idle": "2025-04-21T14:16:44.371942Z",
     "shell.execute_reply": "2025-04-21T14:16:44.371458Z",
     "shell.execute_reply.started": "2025-04-21T14:16:44.169500Z"
    }
   },
   "outputs": [],
   "source": [
    "camera = LsstCam.getCamera()\n",
    "\n",
    "detectors = [['R00', 'SG0'], ['R00', 'SG1'], \n",
    "          ['R04', 'SG0'], ['R04', 'SG1'], \n",
    "          ['R40', 'SG0'], ['R40', 'SG1'],\n",
    "          ['R44', 'SG0'], ['R44', 'SG1']]\n",
    "fig = plt.figure(figsize=(10,10))\n",
    "ax = fig.subplots(1,1)\n",
    "for [raft, ccd] in detectors:\n",
    "    detName = f\"{raft}_{ccd}\"\n",
    "    for detector in camera:\n",
    "        if detector.getName()== detName:\n",
    "            break\n",
    "    bbox = detector.getBBox()\n",
    "    nx,ny = bbox.getDimensions()\n",
    "    lct = LsstCameraTransforms(camera,detName)\n",
    "    llfpX, llfpY = lct.ccdPixelToFocalMm(0, 0, detName)\n",
    "    urfpX, urfpY = lct.ccdPixelToFocalMm(nx, ny, detName)\n",
    "    width = urfpX - llfpX\n",
    "    height = urfpY - llfpY\n",
    "    #print(detName, llfpX, llfpY, urfpX, urfpY, width, height)\n",
    "    rect = plt.Rectangle((llfpX, llfpY), width=width, height=height, \\\n",
    "                      color='red', fill=False)\n",
    "    ax.add_artist(rect)\n",
    "    \n",
    "    for amp in detector.getAmplifiers():\n",
    "        ampName = amp.getName()\n",
    "        bbox = amp.getBBox()\n",
    "        nx,ny = bbox.getDimensions()\n",
    "        llfpX,llfpY = lct.ampPixelToFocalMm(0, 0, ampName)\n",
    "        urfpX, urfpY = lct.ampPixelToFocalMm(nx, ny, ampName)\n",
    "        width = urfpX - llfpX\n",
    "        height = urfpY - llfpY\n",
    "        #print(ampName, llfpX, llfpY, urfpX, urfpY, width, height)\n",
    "        rect = plt.Rectangle((llfpX, llfpY), width=width, height=height, \\\n",
    "                          color='black', fill=False)\n",
    "        ax.add_artist(rect)\n",
    "ax.set_xlim(-350, 350)\n",
    "ax.set_ylim(-350,350)\n",
    "\n",
    "infile = open('/home/c/cslage/u/Guider_Mode/MotionDict_19Apr25.pkl', 'rb')\n",
    "motionDict = pkl.load(infile)\n",
    "infile.close()\n",
    "for key in motionDict.keys():\n",
    "    data = motionDict[key]\n",
    "    [X,Y] = data[0][1]\n",
    "    ax.scatter(X, Y, marker='x', color='green')\n"
   ]
  },
  {
   "cell_type": "code",
   "execution_count": null,
   "id": "ae272630-3994-4cac-a225-b709f694dd8d",
   "metadata": {
    "execution": {
     "iopub.execute_input": "2025-04-21T13:58:29.246787Z",
     "iopub.status.busy": "2025-04-21T13:58:29.246418Z",
     "iopub.status.idle": "2025-04-21T13:58:29.249836Z",
     "shell.execute_reply": "2025-04-21T13:58:29.249467Z",
     "shell.execute_reply.started": "2025-04-21T13:58:29.246767Z"
    }
   },
   "outputs": [],
   "source": [
    "bbox.endX"
   ]
  },
  {
   "cell_type": "markdown",
   "id": "31992577-7224-411a-8932-c6647a7a12d4",
   "metadata": {},
   "source": [
    "# To read the data from the dictionary and plot"
   ]
  },
  {
   "cell_type": "code",
   "execution_count": null,
   "id": "318e27d0-5df1-4a37-9c88-091742152a84",
   "metadata": {
    "execution": {
     "iopub.execute_input": "2025-04-21T11:48:53.440959Z",
     "iopub.status.busy": "2025-04-21T11:48:53.440216Z",
     "iopub.status.idle": "2025-04-21T11:48:54.778466Z",
     "shell.execute_reply": "2025-04-21T11:48:54.778014Z",
     "shell.execute_reply.started": "2025-04-21T11:48:53.440928Z"
    }
   },
   "outputs": [],
   "source": [
    "infile = open('/home/c/cslage/u/Guider_Mode/MotionDict_19Apr25.pkl', 'rb')\n",
    "motionDict = pkl.load(infile)\n",
    "infile.close()\n",
    "\n",
    "dayObs = 20250417\n",
    "seqNum = 599\n",
    "expId = int(f\"{dayObs}{seqNum:05d}\")\n",
    "\n",
    "pdf = PdfPages(f\"/home/c/cslage/u/Guider_Mode/Guider_Mode_Star_Motion_{expId}.pdf\")\n",
    "fig = plt.figure(figsize=(10,10))\n",
    "for key in motionDict.keys():\n",
    "    ax = fig.subplots(1,1)\n",
    "    print(key)\n",
    "    data = motionDict[key]\n",
    "    ts = []\n",
    "    xs = []\n",
    "    ys = []\n",
    "    for [t, (x, y)] in data:\n",
    "        ts.append(Time(t, scale='utc').unix_tai)\n",
    "        xs.append(x)\n",
    "        ys.append(y)\n",
    "    ts = np.array(ts)\n",
    "    xs = np.array(xs)\n",
    "    ys = np.array(ys)\n",
    "    ts -= ts[0]\n",
    "    xs = (xs - np.median(xs)) * 100.0 * 0.2\n",
    "    ys = (ys - np.median(ys)) * 100.0 * 0.2\n",
    "    ax.plot(ts, xs, color='blue', marker='x', label='X')\n",
    "    ax.plot(ts, ys, color='red', marker='+', label='Y')\n",
    "    ax.set_xlabel('Time (seconds)')\n",
    "    ax.set_ylabel('Median subtracted position (arcsec)')\n",
    "    ax.set_title(f\"{expId} {key} {data[0][0]}\")\n",
    "    ax.legend()\n",
    "    pdf.savefig(fig)\n",
    "    plt.clf()\n",
    "pdf.close()\n",
    "\n"
   ]
  },
  {
   "cell_type": "code",
   "execution_count": null,
   "id": "c5160240-f4ef-4287-8d70-860d739ff762",
   "metadata": {
    "execution": {
     "iopub.execute_input": "2025-04-21T12:00:32.175452Z",
     "iopub.status.busy": "2025-04-21T12:00:32.174653Z",
     "iopub.status.idle": "2025-04-21T12:00:32.177923Z",
     "shell.execute_reply": "2025-04-21T12:00:32.177494Z",
     "shell.execute_reply.started": "2025-04-21T12:00:32.175433Z"
    }
   },
   "outputs": [],
   "source": [
    "jumps = [['R00_SG0', +1], \n",
    " ['R00_SG1', -1],\n",
    " ['R04_SG0', 0],\n",
    " ['R04_SG1', -1],\n",
    " ['R40_SG0', 0],\n",
    " ['R40_SG1', 0],\n",
    " ['R44_SG0', +1],\n",
    " ['R44_SG1', -1]]"
   ]
  },
  {
   "cell_type": "code",
   "execution_count": null,
   "id": "735ccf56-16f3-4b3e-832f-172c05a9ce36",
   "metadata": {},
   "outputs": [],
   "source": []
  }
 ],
 "metadata": {
  "kernelspec": {
   "display_name": "LSST",
   "language": "python",
   "name": "lsst"
  },
  "language_info": {
   "codemirror_mode": {
    "name": "ipython",
    "version": 3
   },
   "file_extension": ".py",
   "mimetype": "text/x-python",
   "name": "python",
   "nbconvert_exporter": "python",
   "pygments_lexer": "ipython3",
   "version": "3.12.10"
  }
 },
 "nbformat": 4,
 "nbformat_minor": 5
}
