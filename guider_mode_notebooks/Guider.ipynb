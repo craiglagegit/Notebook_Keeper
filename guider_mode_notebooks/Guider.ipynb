{
 "cells": [
  {
   "cell_type": "code",
   "execution_count": null,
   "id": "e7e9fdcc-9a77-45a9-927a-456a970f5aba",
   "metadata": {
    "execution": {
     "iopub.execute_input": "2025-05-04T05:07:29.358855Z",
     "iopub.status.busy": "2025-05-04T05:07:29.358602Z",
     "iopub.status.idle": "2025-05-04T05:07:33.605622Z",
     "shell.execute_reply": "2025-05-04T05:07:33.605095Z",
     "shell.execute_reply.started": "2025-05-04T05:07:29.358832Z"
    }
   },
   "outputs": [],
   "source": [
    "import numpy as np\n",
    "from lsst.daf.butler import Butler, DatasetNotFoundError\n",
    "import matplotlib.animation as animation\n",
    "from IPython.display import HTML\n",
    "\n",
    "from lsst.obs.lsst import LsstCam\n",
    "import matplotlib.pyplot as plt\n",
    "%matplotlib widget"
   ]
  },
  {
   "cell_type": "code",
   "execution_count": null,
   "id": "7d89b456-c637-496e-8140-97e0ced0e972",
   "metadata": {
    "execution": {
     "iopub.execute_input": "2025-05-04T05:07:33.608377Z",
     "iopub.status.busy": "2025-05-04T05:07:33.608208Z",
     "iopub.status.idle": "2025-05-04T05:07:34.734335Z",
     "shell.execute_reply": "2025-05-04T05:07:34.733723Z",
     "shell.execute_reply.started": "2025-05-04T05:07:33.608359Z"
    }
   },
   "outputs": [],
   "source": [
    "butler = Butler(\"LSSTCam\", collections=[\"LSSTCam/raw/guider\"], instrument=\"LSSTCam\")"
   ]
  },
  {
   "cell_type": "code",
   "execution_count": null,
   "id": "35e0a286-f4d8-4132-b9ef-cc71731c7d76",
   "metadata": {
    "execution": {
     "iopub.execute_input": "2025-05-04T05:07:34.737728Z",
     "iopub.status.busy": "2025-05-04T05:07:34.737561Z",
     "iopub.status.idle": "2025-05-04T05:07:48.853778Z",
     "shell.execute_reply": "2025-05-04T05:07:48.853087Z",
     "shell.execute_reply.started": "2025-05-04T05:07:34.737713Z"
    }
   },
   "outputs": [],
   "source": [
    "dets = {\n",
    "    \"R00_SG0\": (189, 3),\n",
    "    \"R00_SG1\": (190, 2),\n",
    "    \"R04_SG0\": (193, 0),\n",
    "    \"R04_SG1\": (194, 3),\n",
    "    \"R40_SG0\": (197, 2),\n",
    "    \"R40_SG1\": (198, 1),\n",
    "    \"R44_SG0\": (201, 1),\n",
    "    \"R44_SG1\": (202, 0),\n",
    "}\n",
    "\n",
    "drs = butler.registry.queryDatasets(\"guider_raw\", where=\"detector=189\")\n",
    "for exposure in range(2025050200267, 2025050200268):\n",
    "# for dr in drs:\n",
    "    # exposure = dr.dataId[\"exposure\"]\n",
    "    print(exposure)\n",
    "    stamps = {}\n",
    "    arrs = {}\n",
    "    try:\n",
    "        for k, (det, nRot90) in dets.items():\n",
    "            raw = butler.get(\"guider_raw\", exposure=exposure, detector=det)\n",
    "            stamps[k] = raw\n",
    "            for i, stamp in enumerate(stamps[k]):\n",
    "                if i == 0:\n",
    "                    arrs[k] = np.full((len(stamps[k]), 400, 400), np.nan, dtype=float)\n",
    "                arr = stamp.stamp_im.image.array\n",
    "                # Note: Tested on ROI segments starting with 0.  \n",
    "                # Might need to rot180 if the ROI segment starts with a 1.\n",
    "                arrs[k][i] = np.rot90(arr, nRot90)\n",
    "    except DatasetNotFoundError:\n",
    "        continue\n",
    "    \n",
    "    norm_full = False\n",
    "    \n",
    "    # Normalize between 2% and 98%\n",
    "    for k, arr in arrs.items():\n",
    "        arr[:] -= np.nanmedian(arr)\n",
    "    \n",
    "    if norm_full:\n",
    "        vmin, vmax = np.nanquantile(\n",
    "            np.concatenate(\n",
    "                [arr for arr in arrs.values()],  \n",
    "            ),\n",
    "            [0.02, 0.98]\n",
    "        )\n",
    "    \n",
    "    for k, arr in arrs.items():\n",
    "        if not norm_full:\n",
    "            vmin, vmax = np.nanquantile(arr, [0.02, 0.98])\n",
    "        arr[:] = arr - vmin\n",
    "        arr[:] = arr / (vmax-vmin)    \n",
    "\n",
    "    layout = [\n",
    "        [\".\", \"R40_SG1\", \"R44_SG0\", \".\"],\n",
    "        [\"R40_SG0\", \".\", \".\", \"R44_SG1\"],\n",
    "        [\"R00_SG1\", \".\", \".\", \"R04_SG0\"],\n",
    "        [\".\", \"R00_SG0\", \"R04_SG1\", \".\"],\n",
    "    ]\n",
    "    fig, axs = plt.subplot_mosaic(layout, figsize=(5, 5), )\n",
    "    images = {}\n",
    "    for key, ax in axs.items():\n",
    "        ax.set_aspect('equal')\n",
    "        ax.set_xticks([])\n",
    "        ax.set_yticks([])\n",
    "        ax.text(0.05, 0.9, key, transform=ax.transAxes, fontsize=6, color=\"w\")\n",
    "        images[key] = ax.imshow(np.zeros((400, 400)), vmin=0, vmax=1, origin=\"lower\", cmap=\"Grays_r\")\n",
    "            \n",
    "    plt.suptitle(str(exposure), fontsize=9)\n",
    "    plt.tight_layout()        \n",
    "\n",
    "    def update(frame):\n",
    "        out = []\n",
    "        for k, im in images.items():\n",
    "            if frame >= len(stamps[k]):\n",
    "                im.set_array(np.zeros((400, 400), dtype=float))\n",
    "                continue\n",
    "            arr = stamps[k][frame].stamp_im.image.array\n",
    "            im.set_array(np.transpose(arrs[k][frame]))\n",
    "            out.append(im)\n",
    "        return out\n",
    "    \n",
    "    # 50 frames in 30 sec = 600ms per frame.  Show at 10x speed so 60ms per frame.\n",
    "    ani = animation.FuncAnimation(fig=fig, func=update, frames=max(len(v) for v in stamps.values()), interval=60)\n",
    "    ani.save(f\"guide_{exposure}.mp4\", fps=30, writer='ffmpeg')"
   ]
  },
  {
   "cell_type": "code",
   "execution_count": null,
   "id": "f80a5437-e949-4c71-a9bd-b44432a1616f",
   "metadata": {},
   "outputs": [],
   "source": []
  }
 ],
 "metadata": {
  "kernelspec": {
   "display_name": "LSST",
   "language": "python",
   "name": "lsst"
  },
  "language_info": {
   "codemirror_mode": {
    "name": "ipython",
    "version": 3
   },
   "file_extension": ".py",
   "mimetype": "text/x-python",
   "name": "python",
   "nbconvert_exporter": "python",
   "pygments_lexer": "ipython3",
   "version": "3.12.10"
  }
 },
 "nbformat": 4,
 "nbformat_minor": 5
}
