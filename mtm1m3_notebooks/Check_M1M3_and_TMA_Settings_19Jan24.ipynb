{
 "cells": [
  {
   "cell_type": "markdown",
   "id": "c356e926-2c65-4b8b-b71a-60f66d936984",
   "metadata": {
    "execution": {
     "iopub.execute_input": "2024-01-19T17:33:52.396868Z",
     "iopub.status.busy": "2024-01-19T17:33:52.396403Z",
     "iopub.status.idle": "2024-01-19T17:33:52.399665Z",
     "shell.execute_reply": "2024-01-19T17:33:52.399170Z",
     "shell.execute_reply.started": "2024-01-19T17:33:52.396845Z"
    }
   },
   "source": [
    "# Check M1M3 and TMA configuration settings\n",
    "Craig Lage 19-Jan-24"
   ]
  },
  {
   "cell_type": "code",
   "execution_count": null,
   "id": "520d084a-0e16-417b-b757-204142becec9",
   "metadata": {},
   "outputs": [],
   "source": [
    "import sys, time, os, asyncio, glob\n",
    "import numpy as np\n",
    "import pandas as pd\n",
    "import matplotlib.pyplot as plt\n",
    "%matplotlib inline\n",
    "from astropy.time import Time, TimeDelta\n",
    "from lsst_efd_client import EfdClient\n",
    "from lsst.summit.utils.tmaUtils import TMAEventMaker\n"
   ]
  },
  {
   "cell_type": "markdown",
   "id": "4268e653-684e-48ac-a181-6e726c1fb050",
   "metadata": {},
   "source": [
    "# Subroutines to get the data"
   ]
  },
  {
   "cell_type": "code",
   "execution_count": null,
   "id": "78de32f4-b65f-4a12-a341-68075c6cc8e9",
   "metadata": {},
   "outputs": [],
   "source": [
    "async def getGGRGSettings(start):\n",
    "    ggrg_components = ['useAccelerationForces', 'useBalanceForces', \\\n",
    "                   'useVelocityForces', 'triggerBoosterValves']\n",
    "    ggrg_start = start - TimeDelta(1.0, format = 'jd')\n",
    "    ggrg_end = start + TimeDelta(10.0, format = 'sec')\n",
    "    ggrg = await client.select_time_series(\\\n",
    "    'lsst.sal.MTM1M3.logevent_slewControllerSettings', \\\n",
    "    ggrg_components, ggrg_start, ggrg_end)\n",
    "    result = ''\n",
    "    for component in ggrg_components:\n",
    "        if ggrg[component].iloc[-1]:\n",
    "            result += 'G'\n",
    "        else:\n",
    "            result += 'R'\n",
    "    return result\n",
    "\n",
    "async def getTMASettings(start):\n",
    "    tma_components = ['maxMoveVelocity','maxMoveAcceleration','maxMoveJerk']\n",
    "    tma_axes = ['azimuth', 'elevation']\n",
    "    tma_start = start - TimeDelta(1.0, format = 'jd')\n",
    "    tma_end = start + TimeDelta(10.0, format = 'sec')\n",
    "    result = []\n",
    "    for axis in tma_axes:\n",
    "        this_axis_settings = []\n",
    "        tma = await client.select_time_series(\\\n",
    "        f'lsst.sal.MTMount.logevent_{axis}ControllerSettings', \\\n",
    "        tma_components, tma_start, tma_end)\n",
    "        for component in tma_components:\n",
    "            this_axis_settings.append(tma[component].values[-1])\n",
    "        result.append(this_axis_settings)\n",
    "    return result"
   ]
  },
  {
   "cell_type": "markdown",
   "id": "cd835438-1be6-4be8-bfec-80524831f9af",
   "metadata": {},
   "source": [
    "# Now check it on the run from 04-Jan-24\n",
    "\n",
    "## No longer finds this old data"
   ]
  },
  {
   "cell_type": "code",
   "execution_count": null,
   "id": "c10f58a8-28f0-4817-aee0-bc248f459571",
   "metadata": {},
   "outputs": [],
   "source": [
    "client = EfdClient(\"usdf_efd\")\n",
    "eventMaker = TMAEventMaker()\n",
    "dayObs = 20240124\n",
    "blockNum = 178        \n",
    "events = eventMaker.getEvents(dayObs)\n",
    " # The lines below are from the logs\n",
    "jerks = [[20,10],[10,5],[5,2.5],[1.0,0.5]]\n",
    "settings = [\"GGRG\", \"GRRG\", \"GGRR\", \"GRRR\"]\n",
    "startSeqNum = [196,204,212,227,240,248,256,264,274,289,297,312,322,336,344,379]\n",
    "\n",
    "counter = 0\n",
    "for [azJerk,elJerk] in jerks:\n",
    "    commanded_az_settings = [4.0, 4.0, azJerk]\n",
    "    commanded_el_settings = [2.0, 2.0, elJerk]\n",
    "    for setting in settings:\n",
    "        seqNum = startSeqNum[counter] + 2\n",
    "        print(f\"Slew on dayObs{dayObs}, seqNum = {seqNum}\")\n",
    "        event = [e for e in events if e.seqNum == seqNum][0]\n",
    "        start = event.begin\n",
    "        ggrg = await getGGRGSettings(start)\n",
    "        tma = await getTMASettings(start)\n",
    "        print(f\"Commanded M1M3 settings = {setting}, from TMA = {ggrg}\")\n",
    "        print (F\"Commanded TMA Az settings = {commanded_az_settings}, from TMA = {tma.iloc[0]}\")\n",
    "        print (F\"Commanded TMA El settings = {commanded_el_settings}, from TMA = {tma.iloc[1]}\")\n",
    "        counter += 1\n",
    "        print()"
   ]
  },
  {
   "cell_type": "markdown",
   "id": "953597e0-1b61-4424-92a1-5a956836e67b",
   "metadata": {},
   "source": [
    "# Now check it on 11-Dec-24"
   ]
  },
  {
   "cell_type": "code",
   "execution_count": null,
   "id": "c470723b-2ba4-443f-9e66-2eb5e3447459",
   "metadata": {},
   "outputs": [],
   "source": [
    "client = EfdClient(\"usdf_efd\")\n",
    "eventMaker = TMAEventMaker()\n",
    "dayObs = 20241211\n",
    "blockNum = 178        \n",
    "events = eventMaker.getEvents(dayObs)\n",
    " # The lines below are from the logs\n",
    "\n",
    "for seqNum in [150, 200, 225, 250]:\n",
    "    print(f\"Slew on dayObs{dayObs}, seqNum = {seqNum}\")\n",
    "    event = [e for e in events if e.seqNum == seqNum][0]\n",
    "    start = event.begin\n",
    "    ggrg = await getGGRGSettings(start)\n",
    "    tma = await getTMASettings(start)\n",
    "    print(f\"Commanded M1M3 settings from TMA = {ggrg}\")\n",
    "    print (F\"Commanded TMA Az settings (V,A,J) from TMA = {tma[0]}\")\n",
    "    print (F\"Commanded TMA El settings from TMA (V,A,J) = {tma[1]}\")\n",
    "    print()"
   ]
  }
 ],
 "metadata": {
  "kernelspec": {
   "display_name": "LSST",
   "language": "python",
   "name": "lsst"
  },
  "language_info": {
   "codemirror_mode": {
    "name": "ipython",
    "version": 3
   },
   "file_extension": ".py",
   "mimetype": "text/x-python",
   "name": "python",
   "nbconvert_exporter": "python",
   "pygments_lexer": "ipython3",
   "version": "3.11.9"
  }
 },
 "nbformat": 4,
 "nbformat_minor": 5
}
