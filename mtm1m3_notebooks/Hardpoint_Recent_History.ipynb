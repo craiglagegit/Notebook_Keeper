{
 "cells": [
  {
   "cell_type": "markdown",
   "metadata": {},
   "source": [
    "# Hardpoint breakaway tests recent history"
   ]
  },
  {
   "cell_type": "code",
   "execution_count": null,
   "metadata": {
    "execution": {
     "iopub.execute_input": "2024-10-19T15:25:55.522630Z",
     "iopub.status.busy": "2024-10-19T15:25:55.522201Z",
     "iopub.status.idle": "2024-10-19T15:25:55.524822Z",
     "shell.execute_reply": "2024-10-19T15:25:55.524453Z",
     "shell.execute_reply.started": "2024-10-19T15:25:55.522614Z"
    }
   },
   "outputs": [],
   "source": [
    "# Times Square parameters\n",
    "\n",
    "days_to_plot = 50\n"
   ]
  },
  {
   "cell_type": "code",
   "execution_count": null,
   "metadata": {
    "execution": {
     "iopub.execute_input": "2024-10-19T15:25:56.203125Z",
     "iopub.status.busy": "2024-10-19T15:25:56.202845Z",
     "iopub.status.idle": "2024-10-19T15:25:56.796107Z",
     "shell.execute_reply": "2024-10-19T15:25:56.795653Z",
     "shell.execute_reply.started": "2024-10-19T15:25:56.203111Z"
    },
    "tags": []
   },
   "outputs": [],
   "source": [
    "import asyncio\n",
    "import numpy as np\n",
    "import pandas as pd\n",
    "import matplotlib.pyplot as plt\n",
    "from astropy.time import Time, TimeDelta\n",
    "from lsst_efd_client import EfdClient"
   ]
  },
  {
   "cell_type": "code",
   "execution_count": null,
   "metadata": {
    "execution": {
     "iopub.execute_input": "2024-10-19T15:25:57.082348Z",
     "iopub.status.busy": "2024-10-19T15:25:57.082065Z",
     "iopub.status.idle": "2024-10-19T15:25:57.085870Z",
     "shell.execute_reply": "2024-10-19T15:25:57.085508Z",
     "shell.execute_reply.started": "2024-10-19T15:25:57.082335Z"
    },
    "tags": []
   },
   "outputs": [],
   "source": [
    "def stiffness(force, disp, name):\n",
    "    forces = force.values\n",
    "    disps = disp.values\n",
    "    if name == 'Pos':\n",
    "        maxi = np.argmax(force.values > 1000.0)\n",
    "        mini = np.argmin(force.values < -1000.0)\n",
    "    elif name == 'Neg':\n",
    "        maxi = np.argmin(force.values > 1000.0)\n",
    "        mini = np.argmax(force.values < -1000.0)\n",
    "    forceMax = forces[maxi] \n",
    "    forceMin = forces[mini]\n",
    "    dispMax = disps[maxi] * 1.0E6\n",
    "    dispMin = disps[mini] * 1.0E6\n",
    "    stiffness = (forceMax - forceMin) / (dispMax - dispMin) \n",
    "    breakaway_plus = np.max(forces)\n",
    "    breakaway_minus = np.min(forces)\n",
    "    return breakaway_plus, breakaway_minus, stiffness\n"
   ]
  },
  {
   "cell_type": "code",
   "execution_count": null,
   "metadata": {
    "execution": {
     "iopub.execute_input": "2024-10-19T15:25:59.169428Z",
     "iopub.status.busy": "2024-10-19T15:25:59.169230Z",
     "iopub.status.idle": "2024-10-19T15:25:59.798279Z",
     "shell.execute_reply": "2024-10-19T15:25:59.797887Z",
     "shell.execute_reply.started": "2024-10-19T15:25:59.169414Z"
    }
   },
   "outputs": [],
   "source": [
    "end = Time.now()\n",
    "start = end - TimeDelta(days_to_plot, format='jd')\n",
    "client = EfdClient('usdf_efd')\n",
    "\n",
    "hardpoints = await client.select_time_series(\\\n",
    "                    \"lsst.sal.MTM1M3.logevent_hardpointTestStatus\", \\\n",
    "                    [\"*\"], start, end)\n",
    "len(hardpoints)"
   ]
  },
  {
   "cell_type": "code",
   "execution_count": null,
   "metadata": {
    "execution": {
     "iopub.execute_input": "2024-10-19T15:26:05.924278Z",
     "iopub.status.busy": "2024-10-19T15:26:05.924084Z",
     "iopub.status.idle": "2024-10-19T15:43:02.607418Z",
     "shell.execute_reply": "2024-10-19T15:43:02.607011Z",
     "shell.execute_reply.started": "2024-10-19T15:26:05.924264Z"
    },
    "jupyter": {
     "outputs_hidden": true
    },
    "tags": []
   },
   "outputs": [],
   "source": [
    "%matplotlib inline\n",
    "\n",
    "states = [['Pos',3,4], ['Neg',4,5]]\n",
    "\n",
    "fig, axs = plt.subplots(1,2,figsize=(10,5))\n",
    "fig.suptitle(\"MTM1M3 hardpoint trending\", fontsize=18)\n",
    "axs[0].set_title(\"Breakaway forces\", fontsize=14)\n",
    "axs[0].set_ylim(-4000, 4000)\n",
    "axs[0].set_ylabel(\"Breakaway force (N)\")\n",
    "axs[1].set_title(\"Stiffness\", fontsize=14)\n",
    "axs[1].set_ylim(0, 50)\n",
    "axs[1].set_ylabel(\"Stiffness (N/micron)\")\n",
    "min_time = 1.0E12\n",
    "max_time = 0.0\n",
    "\n",
    "queries = []\n",
    "qTimes = []\n",
    "starts = []\n",
    "\n",
    "for [name, startState, endState] in states:\n",
    "    for index in range(6):\n",
    "        stiffs = []\n",
    "        pos_breakaway = []\n",
    "        neg_breakaway = []\n",
    "        times = []\n",
    "        getStarts = hardpoints[hardpoints[f'testState{index}']==startState]['private_kafkaStamp']\n",
    "        getEnds = hardpoints[hardpoints[f'testState{index}']==endState]['private_kafkaStamp']\n",
    "        print(len(getStarts), len(getEnds))\n",
    "        for n in range(len(getStarts)):\n",
    "            start = Time(getStarts.iloc[n], format='unix_tai', scale='tai')\n",
    "            end = start + TimeDelta(480, format='sec') #Time(getEnds.iloc[n], format='unix_tai', scale='tai')\n",
    "            try:\n",
    "                t0 = Time.now()\n",
    "                hardpointData = await client.select_time_series(\\\n",
    "                    \"lsst.sal.MTM1M3.hardpointActuatorData\", \\\n",
    "                    [f'displacement{index}', f'measuredForce{index}'], start.utc, end.utc)\n",
    "                t1 = Time.now()\n",
    "\n",
    "                deltaT = (t1 - t0).value * 86400 * 1000\n",
    "                query = f\"lsst.sal.MTM1M3.hardpointActuatorData, displacement{index}, measuredForce{index}, {start.utc.isot}, {end.utc.isot}\"\n",
    "                queries.append(query)\n",
    "                qTimes.append(deltaT)\n",
    "                starts.append(start)\n",
    "                print(index, n, f\"Query time = {(end.value - start.value):.2f} seconds.  Query took {deltaT:.1f} msec. {start.utc.isot}\")\n",
    "                \n",
    "                force = hardpointData[f'measuredForce{index}']\n",
    "                disp = hardpointData[f'displacement{index}']\n",
    "                forceMin, forceMax, stiff = stiffness(force, disp, name)\n",
    "                pos_breakaway.append(forceMax)\n",
    "                neg_breakaway.append(forceMin)\n",
    "                stiffs.append(stiff)\n",
    "                time = start.utc.unix_tai\n",
    "                times.append(time)\n",
    "                if time < min_time:\n",
    "                    min_time = time\n",
    "                    min_time_list = start.isot.split('.')[0]\n",
    "                if time > max_time:\n",
    "                    max_time = time\n",
    "                    max_time_list = start.isot.split('.')[0]\n",
    "            except:\n",
    "                continue\n",
    "\n",
    "        if name == 'Pos':\n",
    "            axs[0].plot(times, pos_breakaway, marker='x', label=f\"{index}\")\n",
    "            axs[0].plot(times, neg_breakaway, marker='x', label=f\"{index}\")\n",
    "        elif name == 'Neg':\n",
    "            axs[0].plot(times, pos_breakaway, marker='x', label='')\n",
    "            axs[0].plot(times, neg_breakaway, marker='x', label='')\n",
    "        axs[1].plot(times, stiffs, marker='x', label=f\"{name}_{index}\")\n",
    "        axs[0].set_xticks([min_time, max_time],[min_time_list, max_time_list], rotation=10)\n",
    "        axs[1].set_xticks([min_time, max_time],[min_time_list, max_time_list], rotation=10)\n",
    "\n",
    "axs[0].legend(loc='center left', ncol=3)\n",
    "axs[1].legend(loc='upper left', ncol=3)\n",
    "#plt.show()\n",
    "plt.savefig(f\"/home/c/cslage/u/MTM1M3/data/Hardpoint_Trends_18Oct24.pdf\")"
   ]
  },
  {
   "cell_type": "code",
   "execution_count": null,
   "metadata": {},
   "outputs": [],
   "source": [
    "bins = np.linspace(0,60000, 50)\n",
    "plt.hist(qTimes, bins=bins)\n",
    "plt.title(\"Histogram of MTM1M3 hardpoint query times\")\n",
    "longQuery = 10.0 * np.min(qTimes)\n",
    "long = [q for q in qTimes if q > longQuery]\n",
    "pct = len(long) / len(qTimes) * 100.0\n",
    "plt.text(5000, 70, f\"{pct:.1f} percent are longer than 10 times the minimum time\")\n",
    "plt.xlabel(\"EFD query times at USDF (ms)\")\n",
    "plt.savefig(f\"/home/c/cslage/u/MTM1M3/data/Hardpoint_Query Times_18Oct24.png\")"
   ]
  },
  {
   "cell_type": "code",
   "execution_count": null,
   "metadata": {},
   "outputs": [],
   "source": [
    "file = open(\"/home/c/cslage/u/MTM1M3/data/Hardpoint_Query Times_18Oct24.txt\", 'w')\n",
    "for i in range(len(qTimes)):\n",
    "    file.write(f\"{qTimes[i]:.2f}: \\t {queries[i]} \\n\")\n",
    "file.close()"
   ]
  },
  {
   "cell_type": "code",
   "execution_count": null,
   "metadata": {
    "execution": {
     "iopub.execute_input": "2024-10-19T16:46:46.590384Z",
     "iopub.status.busy": "2024-10-19T16:46:46.590190Z",
     "iopub.status.idle": "2024-10-19T16:46:46.593631Z",
     "shell.execute_reply": "2024-10-19T16:46:46.593178Z",
     "shell.execute_reply.started": "2024-10-19T16:46:46.590370Z"
    }
   },
   "outputs": [],
   "source": [
    "print(len(starts), len(qTimes))\n",
    "print(starts[0].isot, qTimes[0])\n",
    "print(type(starts[0]))"
   ]
  },
  {
   "cell_type": "code",
   "execution_count": null,
   "metadata": {
    "execution": {
     "iopub.execute_input": "2024-10-19T17:15:21.716065Z",
     "iopub.status.busy": "2024-10-19T17:15:21.715862Z",
     "iopub.status.idle": "2024-10-19T17:15:22.018051Z",
     "shell.execute_reply": "2024-10-19T17:15:22.017655Z",
     "shell.execute_reply.started": "2024-10-19T17:15:21.716050Z"
    }
   },
   "outputs": [],
   "source": [
    "fig = plt.figure(figsize = (12,5))\n",
    "ax = plt.axes([0.10,0.30,0.80,0.60])\n",
    "plotStarts = []\n",
    "for start in starts:\n",
    "    plotStarts.append(start.unix_tai)\n",
    "tick = Time(\"2024-09-05T00:00\", format='isot')\n",
    "xticklabels = []\n",
    "xticks = []\n",
    "for i in range(45):\n",
    "    xticks.append(tick.unix_tai)\n",
    "    xticklabels.append(tick.isot.split(\"T\")[0])\n",
    "    tick += TimeDelta(1, format='jd')\n",
    "ax.scatter(plotStarts, qTimes)\n",
    "ax.set_xticks(xticks)\n",
    "ax.set_xticklabels(xticklabels, rotation=90)\n",
    "ax.set_ylabel(\"EFD query time (msec)\")\n",
    "ax.set_title(\"MTM1M3 hardpoint query times vs date\")\n",
    "plt.savefig(f\"/home/c/cslage/u/MTM1M3/data/Hardpoint_Query_Time_Trend_19Oct24.png\")"
   ]
  },
  {
   "cell_type": "code",
   "execution_count": null,
   "metadata": {
    "execution": {
     "iopub.execute_input": "2024-10-19T16:59:07.983535Z",
     "iopub.status.busy": "2024-10-19T16:59:07.983344Z",
     "iopub.status.idle": "2024-10-19T16:59:07.986571Z",
     "shell.execute_reply": "2024-10-19T16:59:07.986229Z",
     "shell.execute_reply.started": "2024-10-19T16:59:07.983522Z"
    }
   },
   "outputs": [],
   "source": [
    "plotStarts[-1]"
   ]
  },
  {
   "cell_type": "code",
   "execution_count": null,
   "metadata": {
    "execution": {
     "iopub.execute_input": "2024-10-19T17:11:14.117607Z",
     "iopub.status.busy": "2024-10-19T17:11:14.117132Z",
     "iopub.status.idle": "2024-10-19T17:11:14.120486Z",
     "shell.execute_reply": "2024-10-19T17:11:14.120157Z",
     "shell.execute_reply.started": "2024-10-19T17:11:14.117591Z"
    }
   },
   "outputs": [],
   "source": [
    "tick.isot.split(\"T\")[0]"
   ]
  },
  {
   "cell_type": "code",
   "execution_count": null,
   "metadata": {},
   "outputs": [],
   "source": []
  }
 ],
 "metadata": {
  "kernelspec": {
   "display_name": "LSST",
   "language": "python",
   "name": "lsst"
  },
  "language_info": {
   "codemirror_mode": {
    "name": "ipython",
    "version": 3
   },
   "file_extension": ".py",
   "mimetype": "text/x-python",
   "name": "python",
   "nbconvert_exporter": "python",
   "pygments_lexer": "ipython3",
   "version": "3.11.9"
  }
 },
 "nbformat": 4,
 "nbformat_minor": 4
}
