{
 "cells": [
  {
   "cell_type": "markdown",
   "metadata": {},
   "source": [
    "# Hardpoint breakaway tests recent history"
   ]
  },
  {
   "cell_type": "code",
   "execution_count": null,
   "metadata": {
    "execution": {
     "iopub.execute_input": "2024-12-02T13:33:24.097372Z",
     "iopub.status.busy": "2024-12-02T13:33:24.097116Z",
     "iopub.status.idle": "2024-12-02T13:33:24.099712Z",
     "shell.execute_reply": "2024-12-02T13:33:24.099335Z",
     "shell.execute_reply.started": "2024-12-02T13:33:24.097351Z"
    }
   },
   "outputs": [],
   "source": [
    "# Times Square parameters\n",
    "\n",
    "days_to_plot = 40\n"
   ]
  },
  {
   "cell_type": "code",
   "execution_count": null,
   "metadata": {
    "execution": {
     "iopub.execute_input": "2025-04-08T21:00:56.520821Z",
     "iopub.status.busy": "2025-04-08T21:00:56.520428Z",
     "iopub.status.idle": "2025-04-08T21:00:57.306860Z",
     "shell.execute_reply": "2025-04-08T21:00:57.306354Z",
     "shell.execute_reply.started": "2025-04-08T21:00:56.520790Z"
    },
    "tags": []
   },
   "outputs": [],
   "source": [
    "import asyncio\n",
    "import numpy as np\n",
    "import pandas as pd\n",
    "import matplotlib.pyplot as plt\n",
    "from astropy.time import Time, TimeDelta\n",
    "from lsst_efd_client import EfdClient"
   ]
  },
  {
   "cell_type": "code",
   "execution_count": null,
   "metadata": {
    "execution": {
     "iopub.execute_input": "2025-04-08T21:13:14.487961Z",
     "iopub.status.busy": "2025-04-08T21:13:14.487619Z",
     "iopub.status.idle": "2025-04-08T21:13:14.492936Z",
     "shell.execute_reply": "2025-04-08T21:13:14.492490Z",
     "shell.execute_reply.started": "2025-04-08T21:13:14.487941Z"
    },
    "tags": []
   },
   "outputs": [],
   "source": [
    "def stiffness(force, disp, name):\n",
    "    forces = force.values\n",
    "    disps = disp.values\n",
    "    if name == 'Pos':\n",
    "        maxi = np.argmax(force.values > 1000.0)\n",
    "        mini = np.argmin(force.values < -1000.0)\n",
    "    elif name == 'Neg':\n",
    "        maxi = np.argmin(force.values > 1000.0)\n",
    "        mini = np.argmax(force.values < -1000.0)\n",
    "    forceMax = forces[maxi] \n",
    "    forceMin = forces[mini]\n",
    "    dispMax = disps[maxi] * 1.0E6\n",
    "    dispMin = disps[mini] * 1.0E6\n",
    "    stiffness = (forceMax - forceMin) / (dispMax - dispMin) \n",
    "    breakaway_plus = np.max(forces)\n",
    "    breakaway_minus = np.min(forces)\n",
    "    return breakaway_plus, breakaway_minus, stiffness\n",
    "\n",
    "\n",
    "def getStartsAndEnds(hardpoints, hp_index, previousState, startState, endState):\n",
    "    starts = []\n",
    "    ends = []\n",
    "    test_delay = 450\n",
    "    for i in range(1, len(hardpoints)):\n",
    "        if hardpoints.iloc[i][f'testState{hp_index}']==startState and \\\n",
    "        hardpoints.iloc[i - 1][f'testState{hp_index}']==previousState:\n",
    "            this_start = hardpoints.index[i]\n",
    "            test_time = this_start + pd.Timedelta(seconds=test_delay)\n",
    "            k = 0\n",
    "            while hardpoints.index[i + k] < test_time:\n",
    "                if hardpoints.iloc[i + k][f'testState{hp_index}']==startState and \\\n",
    "                hardpoints.iloc[i + k + 1][f'testState{hp_index}']==endState:\n",
    "                    this_end = hardpoints.index[i + k + 1]\n",
    "                    starts.append(Time(this_start, scale='utc'))\n",
    "                    ends.append(Time(this_end, scale='utc'))\n",
    "                    break\n",
    "                k += 1\n",
    "                if (i + k) > len(hardpoints) - 1:\n",
    "                    break\n",
    "    return starts, ends        "
   ]
  },
  {
   "cell_type": "code",
   "execution_count": null,
   "metadata": {
    "execution": {
     "iopub.execute_input": "2025-04-08T21:10:00.999111Z",
     "iopub.status.busy": "2025-04-08T21:10:00.998767Z",
     "iopub.status.idle": "2025-04-08T21:10:01.939997Z",
     "shell.execute_reply": "2025-04-08T21:10:01.939446Z",
     "shell.execute_reply.started": "2025-04-08T21:10:00.999093Z"
    }
   },
   "outputs": [],
   "source": [
    "#end = Time.now()\n",
    "#start = end - TimeDelta(days_to_plot, format='jd')\n",
    "start = Time(\"2024-10-24T00:00:00\", scale=\"utc\")\n",
    "end = Time(\"2025-04-09T00:00:00\", scale=\"utc\")\n",
    "\n",
    "client = EfdClient('usdf_efd')\n",
    "\n",
    "hardpoints = await client.select_time_series(\\\n",
    "                    \"lsst.sal.MTM1M3.logevent_hardpointTestStatus\", \\\n",
    "                    [\"*\"], start, end)\n",
    "len(hardpoints)"
   ]
  },
  {
   "cell_type": "code",
   "execution_count": null,
   "metadata": {
    "execution": {
     "iopub.execute_input": "2025-04-08T21:13:17.460879Z",
     "iopub.status.busy": "2025-04-08T21:13:17.460547Z",
     "iopub.status.idle": "2025-04-08T21:14:02.320292Z",
     "shell.execute_reply": "2025-04-08T21:14:02.319969Z",
     "shell.execute_reply.started": "2025-04-08T21:13:17.460862Z"
    },
    "tags": []
   },
   "outputs": [],
   "source": [
    "%matplotlib inline\n",
    "\n",
    "states = [['Pos',2,3,4], ['Neg',3,4,5]]\n",
    "\n",
    "fig, axs = plt.subplots(1,2,figsize=(10,5))\n",
    "fig.suptitle(\"MTM1M3 hardpoint trending\", fontsize=18)\n",
    "axs[0].set_title(\"Breakaway forces\", fontsize=14)\n",
    "axs[0].set_ylim(-4000, 4000)\n",
    "axs[0].set_ylabel(\"Breakaway force (N)\")\n",
    "axs[1].set_title(\"Stiffness\", fontsize=14)\n",
    "axs[1].set_ylim(0, 50)\n",
    "axs[1].set_ylabel(\"Stiffness (N/micron)\")\n",
    "min_time = 1.0E12\n",
    "max_time = 0.0\n",
    "\n",
    "for [name, previousState, startState, endState] in states:\n",
    "    for hp_index in range(6):\n",
    "        stiffs = []\n",
    "        pos_breakaway = []\n",
    "        neg_breakaway = []\n",
    "        times = []\n",
    "        starts, ends = getStartsAndEnds(hardpoints, hp_index, previousState, startState, endState)\n",
    "        for n in range(len(starts)):\n",
    "            start = starts[n]\n",
    "            end = ends[n]\n",
    "            try:\n",
    "                hardpointData = await client.select_time_series(\\\n",
    "                    \"lsst.sal.MTM1M3.hardpointActuatorData\", \\\n",
    "                    [f'displacement{hp_index}', f'measuredForce{hp_index}'], start, end)\n",
    "\n",
    "                force = hardpointData[f'measuredForce{hp_index}']\n",
    "                disp = hardpointData[f'displacement{hp_index}']\n",
    "                forceMin, forceMax, stiff = stiffness(force, disp, name)\n",
    "                pos_breakaway.append(forceMax)\n",
    "                neg_breakaway.append(forceMin)\n",
    "                stiffs.append(stiff)\n",
    "                time = start.unix_tai\n",
    "                times.append(time)\n",
    "                if time < min_time:\n",
    "                    min_time = time\n",
    "                    min_time_list = start.isot.split('.')[0]\n",
    "                if time > max_time:\n",
    "                    max_time = time\n",
    "                    max_time_list = start.isot.split('.')[0]\n",
    "            except:\n",
    "                continue\n",
    "\n",
    "        if name == 'Pos':\n",
    "            axs[0].plot(times, pos_breakaway, marker='x', label=f\"{hp_index}\")\n",
    "            axs[0].plot(times, neg_breakaway, marker='x', label=f\"{hp_index}\")\n",
    "        elif name == 'Neg':\n",
    "            axs[0].plot(times, pos_breakaway, marker='x', label='')\n",
    "            axs[0].plot(times, neg_breakaway, marker='x', label='')\n",
    "        axs[1].plot(times, stiffs, marker='x', label=f\"{name}_{hp_index}\")\n",
    "        axs[0].set_xticks([min_time, max_time],[min_time_list, max_time_list], rotation=10)\n",
    "        axs[1].set_xticks([min_time, max_time],[min_time_list, max_time_list], rotation=10)\n",
    "\n",
    "axs[0].legend(loc='center left', ncol=3)\n",
    "axs[1].legend(loc='upper left', ncol=3)\n",
    "plt.savefig(\"/home/c/cslage/u/MTM1M3/data/Hardpoint_Trend_08Apr25.png\")\n",
    "\n"
   ]
  },
  {
   "cell_type": "code",
   "execution_count": null,
   "metadata": {},
   "outputs": [],
   "source": []
  }
 ],
 "metadata": {
  "kernelspec": {
   "display_name": "LSST",
   "language": "python",
   "name": "lsst"
  },
  "language_info": {
   "codemirror_mode": {
    "name": "ipython",
    "version": 3
   },
   "file_extension": ".py",
   "mimetype": "text/x-python",
   "name": "python",
   "nbconvert_exporter": "python",
   "pygments_lexer": "ipython3",
   "version": "3.12.9"
  }
 },
 "nbformat": 4,
 "nbformat_minor": 4
}
