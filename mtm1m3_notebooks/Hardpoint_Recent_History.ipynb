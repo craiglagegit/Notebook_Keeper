{
 "cells": [
  {
   "cell_type": "markdown",
   "metadata": {},
   "source": [
    "# Hardpoint breakaway tests recent history"
   ]
  },
  {
   "cell_type": "code",
   "execution_count": null,
   "metadata": {
    "execution": {
     "iopub.execute_input": "2024-10-11T20:21:37.151546Z",
     "iopub.status.busy": "2024-10-11T20:21:37.151419Z",
     "iopub.status.idle": "2024-10-11T20:21:37.153374Z",
     "shell.execute_reply": "2024-10-11T20:21:37.153048Z",
     "shell.execute_reply.started": "2024-10-11T20:21:37.151533Z"
    }
   },
   "outputs": [],
   "source": [
    "# Times Square parameters\n",
    "\n",
    "days_to_plot = 30\n"
   ]
  },
  {
   "cell_type": "code",
   "execution_count": null,
   "metadata": {
    "execution": {
     "iopub.execute_input": "2024-10-11T20:21:37.769626Z",
     "iopub.status.busy": "2024-10-11T20:21:37.769406Z",
     "iopub.status.idle": "2024-10-11T20:21:38.374161Z",
     "shell.execute_reply": "2024-10-11T20:21:38.373750Z",
     "shell.execute_reply.started": "2024-10-11T20:21:37.769610Z"
    },
    "tags": []
   },
   "outputs": [],
   "source": [
    "import asyncio\n",
    "import numpy as np\n",
    "import pandas as pd\n",
    "import matplotlib.pyplot as plt\n",
    "from astropy.time import Time, TimeDelta\n",
    "from lsst_efd_client import EfdClient"
   ]
  },
  {
   "cell_type": "code",
   "execution_count": null,
   "metadata": {
    "execution": {
     "iopub.execute_input": "2024-10-11T20:21:38.645009Z",
     "iopub.status.busy": "2024-10-11T20:21:38.644531Z",
     "iopub.status.idle": "2024-10-11T20:21:38.649092Z",
     "shell.execute_reply": "2024-10-11T20:21:38.648712Z",
     "shell.execute_reply.started": "2024-10-11T20:21:38.644984Z"
    },
    "tags": []
   },
   "outputs": [],
   "source": [
    "def stiffness(force, disp, name):\n",
    "    forces = force.values\n",
    "    disps = disp.values\n",
    "    if name == 'Pos':\n",
    "        maxi = np.argmax(force.values > 1000.0)\n",
    "        mini = np.argmin(force.values < -1000.0)\n",
    "    elif name == 'Neg':\n",
    "        maxi = np.argmin(force.values > 1000.0)\n",
    "        mini = np.argmax(force.values < -1000.0)\n",
    "    forceMax = forces[maxi] \n",
    "    forceMin = forces[mini]\n",
    "    dispMax = disps[maxi] * 1.0E6\n",
    "    dispMin = disps[mini] * 1.0E6\n",
    "    stiffness = (forceMax - forceMin) / (dispMax - dispMin) \n",
    "    breakaway_plus = np.max(forces)\n",
    "    breakaway_minus = np.min(forces)\n",
    "    return breakaway_plus, breakaway_minus, stiffness\n"
   ]
  },
  {
   "cell_type": "code",
   "execution_count": null,
   "metadata": {
    "execution": {
     "iopub.execute_input": "2024-10-11T20:21:46.123319Z",
     "iopub.status.busy": "2024-10-11T20:21:46.122894Z",
     "iopub.status.idle": "2024-10-11T20:21:46.544447Z",
     "shell.execute_reply": "2024-10-11T20:21:46.544105Z",
     "shell.execute_reply.started": "2024-10-11T20:21:46.123304Z"
    }
   },
   "outputs": [],
   "source": [
    "end = Time.now()\n",
    "start = end - TimeDelta(days_to_plot, format='jd')\n",
    "client = EfdClient('usdf_efd')\n",
    "\n",
    "hardpoints = await client.select_time_series(\\\n",
    "                    \"lsst.sal.MTM1M3.logevent_hardpointTestStatus\", \\\n",
    "                    [\"*\"], start, end)\n"
   ]
  },
  {
   "cell_type": "code",
   "execution_count": null,
   "metadata": {
    "execution": {
     "iopub.execute_input": "2024-10-11T20:21:51.621119Z",
     "iopub.status.busy": "2024-10-11T20:21:51.620842Z",
     "iopub.status.idle": "2024-10-11T20:38:54.092314Z",
     "shell.execute_reply": "2024-10-11T20:38:54.091897Z",
     "shell.execute_reply.started": "2024-10-11T20:21:51.621102Z"
    },
    "tags": []
   },
   "outputs": [],
   "source": [
    "%matplotlib inline\n",
    "\n",
    "states = [['Pos',3,4], ['Neg',4,5]]\n",
    "\n",
    "fig, axs = plt.subplots(1,2,figsize=(10,5))\n",
    "fig.suptitle(\"MTM1M3 hardpoint trending\", fontsize=18)\n",
    "axs[0].set_title(\"Breakaway forces\", fontsize=14)\n",
    "axs[0].set_ylim(-4000, 4000)\n",
    "axs[0].set_ylabel(\"Breakaway force (N)\")\n",
    "axs[1].set_title(\"Stiffness\", fontsize=14)\n",
    "axs[1].set_ylim(0, 50)\n",
    "axs[1].set_ylabel(\"Stiffness (N/micron)\")\n",
    "min_time = 1.0E12\n",
    "max_time = 0.0\n",
    "\n",
    "for [name, startState, endState] in states:\n",
    "    for index in range(6):\n",
    "        stiffs = []\n",
    "        pos_breakaway = []\n",
    "        neg_breakaway = []\n",
    "        times = []\n",
    "        getStarts = hardpoints[hardpoints[f'testState{index}']==startState]['private_kafkaStamp']\n",
    "        getEnds = hardpoints[hardpoints[f'testState{index}']==endState]['private_kafkaStamp']\n",
    "        for n in range(min(len(getStarts), len(getEnds))):\n",
    "            start = Time(getStarts.iloc[n], format='unix_tai', scale='tai')\n",
    "            end = Time(getEnds.iloc[n], format='unix_tai', scale='tai')\n",
    "            try:\n",
    "                hardpointData = await client.select_time_series(\\\n",
    "                    \"lsst.sal.MTM1M3.hardpointActuatorData\", \\\n",
    "                    [f'displacement{index}', f'measuredForce{index}'], start.utc, end.utc)\n",
    "\n",
    "                force = hardpointData[f'measuredForce{index}']\n",
    "                disp = hardpointData[f'displacement{index}']\n",
    "                forceMin, forceMax, stiff = stiffness(force, disp, name)\n",
    "                pos_breakaway.append(forceMax)\n",
    "                neg_breakaway.append(forceMin)\n",
    "                stiffs.append(stiff)\n",
    "                time = start.utc.unix_tai\n",
    "                times.append(time)\n",
    "                if time < min_time:\n",
    "                    min_time = time\n",
    "                    min_time_list = start.isot.split('.')[0]\n",
    "                if time > max_time:\n",
    "                    max_time = time\n",
    "                    max_time_list = start.isot.split('.')[0]\n",
    "            except:\n",
    "                continue\n",
    "\n",
    "        if name == 'Pos':\n",
    "            axs[0].plot(times, pos_breakaway, marker='x', label=f\"{index}\")\n",
    "            axs[0].plot(times, neg_breakaway, marker='x', label=f\"{index}\")\n",
    "        elif name == 'Neg':\n",
    "            axs[0].plot(times, pos_breakaway, marker='x', label='')\n",
    "            axs[0].plot(times, neg_breakaway, marker='x', label='')\n",
    "        axs[1].plot(times, stiffs, marker='x', label=f\"{name}_{index}\")\n",
    "        axs[0].set_xticks([min_time, max_time],[min_time_list, max_time_list], rotation=10)\n",
    "        axs[1].set_xticks([min_time, max_time],[min_time_list, max_time_list], rotation=10)\n",
    "\n",
    "axs[0].legend(loc='center left', ncol=3)\n",
    "axs[1].legend(loc='upper left', ncol=3)\n",
    "plt.show()\n"
   ]
  },
  {
   "cell_type": "code",
   "execution_count": null,
   "metadata": {},
   "outputs": [],
   "source": []
  }
 ],
 "metadata": {
  "kernelspec": {
   "display_name": "LSST",
   "language": "python",
   "name": "lsst"
  },
  "language_info": {
   "codemirror_mode": {
    "name": "ipython",
    "version": 3
   },
   "file_extension": ".py",
   "mimetype": "text/x-python",
   "name": "python",
   "nbconvert_exporter": "python",
   "pygments_lexer": "ipython3",
   "version": "3.11.9"
  }
 },
 "nbformat": 4,
 "nbformat_minor": 4
}
