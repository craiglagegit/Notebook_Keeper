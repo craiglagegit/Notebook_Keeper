{
 "cells": [
  {
   "cell_type": "markdown",
   "id": "8545ac1e-f972-436c-994d-3c970d278b12",
   "metadata": {},
   "source": [
    "# Code to compare different M1M3 settings.  See SITCOM-1160.\n",
    "\n",
    "Craig Lage 26-Dec-23"
   ]
  },
  {
   "cell_type": "code",
   "execution_count": null,
   "id": "41f5d31a-1ffb-4b57-8cf4-3359635e5b73",
   "metadata": {
    "execution": {
     "iopub.execute_input": "2024-01-10T12:15:53.983772Z",
     "iopub.status.busy": "2024-01-10T12:15:53.983625Z",
     "iopub.status.idle": "2024-01-10T12:16:01.215349Z",
     "shell.execute_reply": "2024-01-10T12:16:01.214897Z",
     "shell.execute_reply.started": "2024-01-10T12:15:53.983757Z"
    }
   },
   "outputs": [],
   "source": [
    "import sys, time, os, asyncio, glob\n",
    "import numpy as np\n",
    "import pandas as pd\n",
    "import matplotlib.pyplot as plt\n",
    "%matplotlib inline\n",
    "import openpyxl as xl\n",
    "from astropy.time import Time, TimeDelta\n",
    "from lsst_efd_client import EfdClient\n",
    "from lsst.ts.xml.tables.m1m3 import FATable, FAIndex, force_actuator_from_id, actuator_id_to_index\n",
    "from lsst.summit.utils.efdUtils import calcNextDay\n",
    "from lsst.summit.utils import getCurrentDayObs_int, dayObsIntToString\n",
    "from lsst.summit.utils.tmaUtils import TMAEventMaker, getAzimuthElevationDataForEvent\n",
    "from lsst.summit.utils.blockUtils import BlockParser\n"
   ]
  },
  {
   "cell_type": "code",
   "execution_count": null,
   "id": "a70f4aee-db20-4a64-a711-d134c204b445",
   "metadata": {
    "execution": {
     "iopub.execute_input": "2024-01-10T12:16:02.113360Z",
     "iopub.status.busy": "2024-01-10T12:16:02.113183Z",
     "iopub.status.idle": "2024-01-10T12:16:02.116024Z",
     "shell.execute_reply": "2024-01-10T12:16:02.115675Z",
     "shell.execute_reply.started": "2024-01-10T12:16:02.113346Z"
    }
   },
   "outputs": [],
   "source": [
    "#This sets the column headers in the spreadsheet\n",
    "groups = [[\"Hardpoints\",[\"HP Name\", \"HP Min\", \"HP Max\"]],\n",
    "          [\"MTMount\",[\"MT Name\", \"MT Min\", \"MT Max\"]],\n",
    "          [\"Actuator Following Error Summary\",[\"AS ID\", \"AS P Min\", \"AS P Max\", \\\n",
    "                                              \"AS S Min\", \"AS S Max\"]],\n",
    "          [\"Actuator Following Errors\",[\"A ID\", \"A P Min\", \"A P Max\", \\\n",
    "                                       \"A S Min\", \"A S Max\"]]]\n",
    "\n",
    "addBlankColumn = True # Adds a blank column after each group for readability\n",
    "firstRow = 2 # Where to place the dataframe in the spreadsheet\n",
    "firstColumn = 0 # Where to place the dataframe in the spreadsheet\n",
    "\n",
    "filename = \"/home/c/cslage/u/MTM1M3/data/MTM1M3_Block_184_09Jan24.xlsx\""
   ]
  },
  {
   "cell_type": "markdown",
   "id": "e09b0160-c0b9-4fd7-80ec-3945ca49c73d",
   "metadata": {},
   "source": [
    "# Cells below are the functions that do the work"
   ]
  },
  {
   "cell_type": "code",
   "execution_count": null,
   "id": "37681435-9cfe-48ff-99da-8071461f60a5",
   "metadata": {
    "execution": {
     "iopub.execute_input": "2024-01-10T12:16:05.334254Z",
     "iopub.status.busy": "2024-01-10T12:16:05.333835Z",
     "iopub.status.idle": "2024-01-10T12:16:05.340188Z",
     "shell.execute_reply": "2024-01-10T12:16:05.339771Z",
     "shell.execute_reply.started": "2024-01-10T12:16:05.334237Z"
    }
   },
   "outputs": [],
   "source": [
    "def formatSpreadsheet(filename, sheetName, columns):\n",
    "    workbook = xl.load_workbook(filename=filename)\n",
    "    sheet = workbook[sheetName]\n",
    "    start_column = 1\n",
    "    for [name, headings] in groups:\n",
    "        end_column = start_column + len(headings) - 1\n",
    "        sheet.merge_cells(start_row=2, end_row=2, \n",
    "                          start_column=start_column, end_column=end_column)\n",
    "        cell = sheet.cell(row=2, column=start_column)  \n",
    "        cell.value = name  \n",
    "        cell.alignment = xl.styles.Alignment(horizontal='center', vertical='center', wrapText=True)  \n",
    "        fontStyle = xl.styles.Font(bold=True, size = \"10\")\n",
    "        cell.font = fontStyle\n",
    "        cell.border = xl.styles.Border(outline=True) \n",
    "        start_column = end_column + 2\n",
    "    for heading_column in range(1, end_column + 1):\n",
    "        cell = sheet.cell(row=3, column=heading_column)\n",
    "        fontStyle = xl.styles.Font(bold=True, size = \"9\")\n",
    "        cell.font = fontStyle\n",
    "        \n",
    "    sheet.merge_cells(start_row=1, end_row=1, \n",
    "                      start_column=1, end_column=end_column)\n",
    "    cell = sheet.cell(row=1, column=1)  \n",
    "    cell.value = sheetName  \n",
    "    cell.alignment = xl.styles.Alignment(horizontal='center', vertical='center')  \n",
    "    fontStyle = xl.styles.Font(bold=True, size = \"18\")\n",
    "    cell.font = fontStyle\n",
    "    sheet.row_dimensions[1].height = 30\n",
    "    sheet.row_dimensions[2].height = 20\n",
    "    #sheet.print_area = 'A1:O20'\n",
    "    for i, column in enumerate(columns):\n",
    "        columnLetter = xl.utils.get_column_letter(i+1)\n",
    "        col = sheet.column_dimensions[columnLetter]\n",
    "        if column == '':\n",
    "            col.width = 2\n",
    "        elif 'HP Name' in column:\n",
    "            col.width = 15\n",
    "        elif 'HP Min' in column or 'HP Max' in column:\n",
    "            col.width = 10\n",
    "            col.number_format = '0.0'\n",
    "        elif 'ID' in column:\n",
    "            col.width = 8\n",
    "            col.number_format = '0'\n",
    "        else:\n",
    "            col.width = 8\n",
    "            #print(\"Got here, column = \", column, columnLetter)\n",
    "            col.number_format = '0.0'\n",
    "\n",
    "    workbook.save(filename=filename)\n",
    "    return workbook"
   ]
  },
  {
   "cell_type": "code",
   "execution_count": null,
   "id": "e9d64b07-b7cc-4916-91ce-d04480eb5de1",
   "metadata": {
    "execution": {
     "iopub.execute_input": "2024-01-10T12:16:05.914714Z",
     "iopub.status.busy": "2024-01-10T12:16:05.914559Z",
     "iopub.status.idle": "2024-01-10T12:16:05.917809Z",
     "shell.execute_reply": "2024-01-10T12:16:05.917356Z",
     "shell.execute_reply.started": "2024-01-10T12:16:05.914700Z"
    }
   },
   "outputs": [],
   "source": [
    "def addColumn(df, columnName, columnData):\n",
    "    # Allows to add a new column longer or shorter \n",
    "    # than the current dataframe\n",
    "    newLength = len(columnData)\n",
    "    currentLength = len(df.index)\n",
    "    #print(columnName, currentLength, newLength)\n",
    "    if newLength < currentLength:\n",
    "        columnData.extend(['']*(currentLength - newLength))\n",
    "    elif currentLength < newLength:\n",
    "        df = df.reindex(pd.RangeIndex(start=0, stop=newLength), fill_value='')\n",
    "    df[columnName] = columnData\n",
    "    return df\n"
   ]
  },
  {
   "cell_type": "code",
   "execution_count": null,
   "id": "d5218070-4fb6-4329-9b0f-1c56bd9e3836",
   "metadata": {
    "execution": {
     "iopub.execute_input": "2024-01-10T12:16:06.663707Z",
     "iopub.status.busy": "2024-01-10T12:16:06.663564Z",
     "iopub.status.idle": "2024-01-10T12:16:06.666544Z",
     "shell.execute_reply": "2024-01-10T12:16:06.666163Z",
     "shell.execute_reply.started": "2024-01-10T12:16:06.663696Z"
    }
   },
   "outputs": [],
   "source": [
    "def fivePointStencil(pos, times):\n",
    "    # Numerically differentiates a data stream\n",
    "    der = np.zeros(len(pos))\n",
    "    for i in range(2, len(pos)-2):\n",
    "        der[i] = pos[i-2] - 8.0*pos[i-1] + 8.0*pos[i+1] - pos[i+2]\n",
    "        der[i] / 12.0*(times[i] - times[i-1])\n",
    "    return der\n"
   ]
  },
  {
   "cell_type": "code",
   "execution_count": null,
   "id": "c6c6e48c-832e-47e1-b851-36217af6264b",
   "metadata": {
    "execution": {
     "iopub.execute_input": "2024-01-10T12:16:07.431432Z",
     "iopub.status.busy": "2024-01-10T12:16:07.431137Z",
     "iopub.status.idle": "2024-01-10T12:16:07.437529Z",
     "shell.execute_reply": "2024-01-10T12:16:07.437091Z",
     "shell.execute_reply.started": "2024-01-10T12:16:07.431417Z"
    }
   },
   "outputs": [],
   "source": [
    "async def getHardPointData(df, client, events, maxDict):\n",
    "    for i, event in enumerate(events):\n",
    "        start = event.begin\n",
    "        end = event.end\n",
    "        this_ret = await client.select_time_series(\n",
    "            \"lsst.sal.MTM1M3.hardpointActuatorData\",\n",
    "            [\"timestamp\"]\n",
    "            + [f\"measuredForce{hp}\" for hp in range(6)]\n",
    "            + [f\"f{a}\" for a in \"xyz\"]\n",
    "            + [f\"m{a}\" for a in \"xyz\"],\n",
    "            start,\n",
    "            end,\n",
    "            )\n",
    "        mins = [this_ret[f\"measuredForce{hp}\"].min() for hp in range(6)]\n",
    "        maxs = [this_ret[f\"measuredForce{hp}\"].max() for hp in range(6)]\n",
    "        min = np.min(mins)\n",
    "        max = np.max(maxs)\n",
    "        maxDict[event.seqNum] = [max, min]\n",
    "        print(f\"{event.seqNum}, {min:.1f}, {max:.1f}\")\n",
    "        if i == 0:\n",
    "            ret = this_ret\n",
    "        else:\n",
    "            ret = pd.concat([ret, this_ret])\n",
    "\n",
    "    names = []\n",
    "    mins = []\n",
    "    maxs = []\n",
    "    for hp in range(6):\n",
    "        name = f\"measuredForce{hp}\"\n",
    "        data = ret[name]\n",
    "        min = np.min(data)\n",
    "        max = np.max(data)\n",
    "        names.append(name)\n",
    "        mins.append(min)\n",
    "        maxs.append(max)\n",
    "    for a in \"xyz\":\n",
    "        name = f\"f{a}\"\n",
    "        data = ret[name]\n",
    "        min = np.min(data)\n",
    "        max = np.max(data)        \n",
    "        names.append(name)\n",
    "        mins.append(min)\n",
    "        maxs.append(max)\n",
    "    for a in \"xyz\":\n",
    "        name = f\"m{a}\"\n",
    "        data = ret[name]\n",
    "        min = np.min(data)\n",
    "        max = np.max(data)        \n",
    "        names.append(name)\n",
    "        mins.append(min)\n",
    "        maxs.append(max)\n",
    "\n",
    "    df = addColumn(df, \"HP Name\", names)\n",
    "    df = addColumn(df, \"HP Min\", mins)\n",
    "    df = addColumn(df, \"HP Max\", maxs)\n",
    "    return df\n"
   ]
  },
  {
   "cell_type": "code",
   "execution_count": null,
   "id": "29db9173-543b-4dec-ba75-cb2244089f27",
   "metadata": {
    "execution": {
     "iopub.execute_input": "2024-01-10T12:16:08.349796Z",
     "iopub.status.busy": "2024-01-10T12:16:08.349517Z",
     "iopub.status.idle": "2024-01-10T12:16:08.356830Z",
     "shell.execute_reply": "2024-01-10T12:16:08.356456Z",
     "shell.execute_reply.started": "2024-01-10T12:16:08.349783Z"
    }
   },
   "outputs": [],
   "source": [
    "async def getFollowingErrors(df, client, events):\n",
    "    ids = []\n",
    "    primaryMins = []\n",
    "    primaryMaxs = []\n",
    "    secondaryMins = []\n",
    "    secondaryMaxs = []\n",
    "    for i, event in enumerate(events):\n",
    "        start = event.begin\n",
    "        end = event.end\n",
    "\n",
    "        these_forces = await client.select_time_series(\"lsst.sal.MTM1M3.forceActuatorData\", \\\n",
    "                                         ['*'], start, end)\n",
    "        if i == 0:\n",
    "            forces = these_forces\n",
    "        else:\n",
    "            forces = pd.concat([forces, these_forces])\n",
    "\n",
    "    for index in range(len(FATable)):\n",
    "        try:\n",
    "            id = FATable[index].actuator_id\n",
    "            fa = force_actuator_from_id(id)\n",
    "            primary_follow = f\"primaryCylinderFollowingError{fa.index}\"\n",
    "            if fa.actuator_type.name == 'DAA':\n",
    "                secondary_follow = f\"secondaryCylinderFollowingError{fa.s_index}\"\n",
    "                secondary_name = fa.orientation.name\n",
    "            else:\n",
    "                secondary_follow = None\n",
    "            primaryMin = np.min(forces[primary_follow].values)\n",
    "            primaryMins.append(primaryMin)\n",
    "            primaryMax = np.max(forces[primary_follow].values)\n",
    "            primaryMaxs.append(primaryMax)\n",
    "            ids.append(id)\n",
    "            if secondary_follow:\n",
    "                secondaryMin = np.min(forces[secondary_follow].values)\n",
    "                secondaryMins.append(secondaryMin)\n",
    "                secondaryMax = np.max(forces[secondary_follow].values)\n",
    "                secondaryMaxs.append(secondaryMax)\n",
    "            else:\n",
    "                secondaryMins.append(np.nan)\n",
    "                secondaryMaxs.append(np.nan)\n",
    "        except:\n",
    "            continue\n",
    "    primaryArgMin = np.argmin(np.array(primaryMins))\n",
    "    primaryArgMax = np.argmax(np.array(primaryMaxs))\n",
    "    secondaryArgMin = np.nanargmin(np.array(secondaryMins))\n",
    "    secondaryArgMax = np.nanargmax(np.array(secondaryMaxs))\n",
    "    ['' if x is np.nan else x for x in secondaryMins]\n",
    "    ['' if x is np.nan else x for x in secondaryMaxs]\n",
    "    df = addColumn(df, \"A ID\", ids)\n",
    "    df = addColumn(df, \"A P Min\", primaryMins)\n",
    "    df = addColumn(df, \"A P Max\", primaryMaxs)\n",
    "    df = addColumn(df, \"A S Min\", secondaryMins)\n",
    "    df = addColumn(df, \"A S Max\", secondaryMaxs)\n",
    "    #print(secondaryMins)\n",
    "    #print(secondaryArgMax, secondaryArgMin)\n",
    "    # Now make the global Min/Max summary\n",
    "    ids = [ids[primaryArgMin], ids[primaryArgMax],ids[secondaryArgMin],ids[secondaryArgMax]]\n",
    "    primaryMins = [primaryMins[primaryArgMin],'','','']\n",
    "    primaryMaxs = ['', primaryMaxs[primaryArgMax],'','']\n",
    "    secondaryMins = ['','', secondaryMins[secondaryArgMin],'']\n",
    "    secondaryMaxs = ['','','', secondaryMaxs[secondaryArgMax]]\n",
    "    df = addColumn(df, \"AS ID\", ids)\n",
    "    df = addColumn(df, \"AS P Min\", primaryMins)\n",
    "    df = addColumn(df, \"AS P Max\", primaryMaxs)\n",
    "    df = addColumn(df, \"AS S Min\", secondaryMins)\n",
    "    df = addColumn(df, \"AS S Max\", secondaryMaxs)\n",
    "    \n",
    "    return df\n"
   ]
  },
  {
   "cell_type": "code",
   "execution_count": null,
   "id": "762067b7-58c0-4e32-b7b1-de98ac112ec3",
   "metadata": {
    "execution": {
     "iopub.execute_input": "2024-01-10T12:16:10.189767Z",
     "iopub.status.busy": "2024-01-10T12:16:10.189444Z",
     "iopub.status.idle": "2024-01-10T12:16:10.195843Z",
     "shell.execute_reply": "2024-01-10T12:16:10.195423Z",
     "shell.execute_reply.started": "2024-01-10T12:16:10.189753Z"
    }
   },
   "outputs": [],
   "source": [
    "async def getTMAData(df, client, events):\n",
    "    minAzV=0.0; minAzA=0.0; minElV=0.0; minElA=0.0; minAngX=0.0; minAngY=0.0; minAngZ=0.0;\n",
    "    maxAzV=0.0; maxAzA=0.0; maxElV=0.0; maxElA=0.0; maxAngX=0.0; maxAngY=0.0; maxAngZ=0.0;\n",
    "\n",
    "    for i, event in enumerate(events):\n",
    "        start = event.begin\n",
    "        end = event.end\n",
    "        az = await client.select_time_series('lsst.sal.MTMount.azimuth', \\\n",
    "                                                    ['*'],  start, end)\n",
    "        el = await client.select_time_series('lsst.sal.MTMount.elevation', \\\n",
    "                                                    ['*'],  start, end) \n",
    "        #print(event.seqNum, start, end, len(az), len(el))\n",
    "    \n",
    "        acc = await client.select_time_series('lsst.sal.MTM1M3.accelerometerData', \\\n",
    "                                                    ['*'],  start, end)     \n",
    "        # NGet the velocity and differentiate it to get the acceleration\n",
    "        azVs = az['actualVelocity'].values\n",
    "        azXs = az['timestamp'].values - az['timestamp'].values[0]\n",
    "        azAs = fivePointStencil(azVs, azXs)\n",
    "        elVs = el['actualVelocity'].values\n",
    "        elXs = el['timestamp'].values - el['timestamp'].values[0]\n",
    "        elAs = fivePointStencil(elVs, elXs)\n",
    "        accAx = acc['angularAccelerationX'].values\n",
    "        accAy = acc['angularAccelerationY'].values\n",
    "        accAz = acc['angularAccelerationZ'].values    \n",
    "        minAzV = min(minAzV, np.min(azVs))\n",
    "        maxAzV = max(maxAzV, np.max(azVs))\n",
    "        minAzA = min(minAzA, np.min(azAs))\n",
    "        maxAzA = max(maxAzA, np.max(azAs))\n",
    "        minElV = min(minElV, np.min(elVs))\n",
    "        maxElV = max(maxElV, np.max(elVs))\n",
    "        minElA = min(minElA, np.min(elAs))\n",
    "        maxElA = max(maxElA, np.max(elAs))\n",
    "        minAngX = min(minAngX, np.min(accAx))\n",
    "        maxAngX = max(maxAngX, np.max(accAx))\n",
    "        minAngY = min(minAngY, np.min(accAy))\n",
    "        maxAngY = max(maxAngY, np.max(accAy))\n",
    "        minAngZ = min(minAngZ, np.min(accAz))\n",
    "        maxAngZ = max(maxAngZ, np.max(accAz))\n",
    "    names = ['Az Vel', 'Az Acc', 'El Vel', 'El Acc', 'AngAccX', 'AngAccY', 'AngAccZ']\n",
    "    mins = [minAzV, minAzA, minElV, minElA, minAngX, minAngY, minAngZ]\n",
    "    maxs = [maxAzV, maxAzA, maxElV, maxElA, maxAngX, maxAngY, maxAngZ]\n",
    "    df = addColumn(df, \"MT Name\", names)\n",
    "    df = addColumn(df, \"MT Min\", mins)\n",
    "    df = addColumn(df, \"MT Max\", maxs)\n",
    "    return df\n",
    "          "
   ]
  },
  {
   "cell_type": "markdown",
   "id": "277aa25a-5c24-4861-ae49-42801c36a253",
   "metadata": {},
   "source": [
    "# The cell below creates and formats the spreadsheet\n",
    "## This is for Block 184"
   ]
  },
  {
   "cell_type": "code",
   "execution_count": null,
   "id": "0c8e41e5-ad3a-4d1e-b20e-41a0502d9381",
   "metadata": {
    "execution": {
     "iopub.execute_input": "2024-01-10T12:28:35.609985Z",
     "iopub.status.busy": "2024-01-10T12:28:35.609635Z",
     "iopub.status.idle": "2024-01-10T12:28:43.100091Z",
     "shell.execute_reply": "2024-01-10T12:28:43.099600Z",
     "shell.execute_reply.started": "2024-01-10T12:28:35.609971Z"
    },
    "jupyter": {
     "outputs_hidden": true
    }
   },
   "outputs": [],
   "source": [
    "client = EfdClient(\"usdf_efd\")\n",
    "eventMaker = TMAEventMaker()\n",
    "dayObs = 20240109\n",
    "blockNum = 184        \n",
    "events = eventMaker.getEvents(dayObs)\n",
    "theseEvents = [e for e in events if e.relatesTo(block=blockNum)] \n",
    "seqNumList = []\n",
    "for event in these_events:\n",
    "    seqNumList.append(event.seqNum)\n",
    "seqNumList.remove(150)\n",
    "theseEvents = [e for e in theseEvents if e.seqNum in seqNumList]\n",
    "maxDict = {}\n",
    "columns = []\n",
    "for [name, headings] in groups:\n",
    "    for heading in headings:\n",
    "        columns.append(heading)\n",
    "    if addBlankColumn:\n",
    "        columns.append('')\n",
    "\n",
    "df = pd.DataFrame(columns=columns)\n",
    "df = await getHardPointData(df, client, theseEvents, maxDict)\n"
   ]
  },
  {
   "cell_type": "code",
   "execution_count": null,
   "id": "2a932623-342c-424d-adc7-a5ac954e5f72",
   "metadata": {
    "execution": {
     "iopub.execute_input": "2024-01-10T12:32:59.031636Z",
     "iopub.status.busy": "2024-01-10T12:32:59.031172Z",
     "iopub.status.idle": "2024-01-10T12:32:59.186595Z",
     "shell.execute_reply": "2024-01-10T12:32:59.186205Z",
     "shell.execute_reply.started": "2024-01-10T12:32:59.031622Z"
    }
   },
   "outputs": [],
   "source": [
    "maxs = []\n",
    "mins = []\n",
    "for key in maxDict.keys():\n",
    "    maxs.append(maxDict[key][0])\n",
    "    mins.append(maxDict[key][1])\n",
    "%matplotlib inline\n",
    "fig = plt.figure(figsize = (10,5))\n",
    "plt.subplot(1,1,1)\n",
    "plt.title(\"Block 184 20240109, Jerks = 2.0?, 1.0?\\nHP Max and Min\")\n",
    "plt.hist(maxs, bins=10)\n",
    "plt.hist(mins, bins=10)\n",
    "plt.xlim(-1200, 1200)\n",
    "plt.xlabel(\"Newtons\")\n",
    "plt.savefig('/home/c/cslage/u/MTM1M3/data/Block_184_HP_Histograms_09Jan24.png')"
   ]
  },
  {
   "cell_type": "code",
   "execution_count": null,
   "id": "e1236b79-b11a-4105-8ca3-cbc6880abe9f",
   "metadata": {},
   "outputs": [],
   "source": []
  }
 ],
 "metadata": {
  "kernelspec": {
   "display_name": "LSST",
   "language": "python",
   "name": "lsst"
  },
  "language_info": {
   "codemirror_mode": {
    "name": "ipython",
    "version": 3
   },
   "file_extension": ".py",
   "mimetype": "text/x-python",
   "name": "python",
   "nbconvert_exporter": "python",
   "pygments_lexer": "ipython3",
   "version": "3.11.4"
  }
 },
 "nbformat": 4,
 "nbformat_minor": 5
}
