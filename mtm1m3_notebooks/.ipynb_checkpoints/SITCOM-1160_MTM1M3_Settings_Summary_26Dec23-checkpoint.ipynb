{
 "cells": [
  {
   "cell_type": "markdown",
   "id": "8545ac1e-f972-436c-994d-3c970d278b12",
   "metadata": {},
   "source": [
    "# Code to compare different M1M3 settings.  See SITCOM-1160.\n",
    "\n",
    "Craig Lage 26-Dec-23"
   ]
  },
  {
   "cell_type": "code",
   "execution_count": null,
   "id": "41f5d31a-1ffb-4b57-8cf4-3359635e5b73",
   "metadata": {
    "execution": {
     "iopub.execute_input": "2023-12-28T12:20:53.080747Z",
     "iopub.status.busy": "2023-12-28T12:20:53.080630Z",
     "iopub.status.idle": "2023-12-28T12:20:53.734058Z",
     "shell.execute_reply": "2023-12-28T12:20:53.733587Z",
     "shell.execute_reply.started": "2023-12-28T12:20:53.080734Z"
    }
   },
   "outputs": [],
   "source": [
    "import sys, time, os, asyncio, glob\n",
    "import numpy as np\n",
    "import pandas as pd\n",
    "import matplotlib.pyplot as plt\n",
    "%matplotlib inline\n",
    "import openpyxl as xl\n",
    "from astropy.time import Time, TimeDelta\n",
    "from lsst_efd_client import EfdClient\n",
    "from lsst.ts.xml.tables.m1m3 import FATable, FAIndex, force_actuator_from_id, actuator_id_to_index"
   ]
  },
  {
   "cell_type": "code",
   "execution_count": null,
   "id": "a70f4aee-db20-4a64-a711-d134c204b445",
   "metadata": {
    "execution": {
     "iopub.execute_input": "2023-12-28T12:20:53.734933Z",
     "iopub.status.busy": "2023-12-28T12:20:53.734665Z",
     "iopub.status.idle": "2023-12-28T12:20:53.738672Z",
     "shell.execute_reply": "2023-12-28T12:20:53.738332Z",
     "shell.execute_reply.started": "2023-12-28T12:20:53.734919Z"
    }
   },
   "outputs": [],
   "source": [
    "\"\"\"\n",
    "From this confluence site\n",
    "https://confluence.lsstcorp.org/pages/viewpage.action?spaceKey=MPMIS&title=M1M3+inertial+forces+tests+-+timestamps+of+interest\n",
    "\"\"\"\n",
    "tests = [[\"2023-12-15T23:24\", \"2023-12-15T23:40\", \"40%\", \"12-15 red-red-red-green, e.g. no compensations\"], \n",
    "         [\"2023-12-15T23:49\", \"2023-12-16T00:05\", \"40%\", \"12-15 red-green-red-green - HP load cells only, balance forces\"], \n",
    "         [\"2023-12-19T02:32\", \"2023-12-19T02:45\", \"40%\", \"12-19 green-red-green-green - DC Accelerometers, TMA velocity\"], \n",
    "         [\"2023-12-20T08:08\", \"2023-12-20T08:21\", \"40%\", \"12-20 red-red-red-green, testing PID freeze without compensation, TMA faulted\"], \n",
    "         [\"2023-12-21T23:52\", \"2023-12-22T00:03\", \"40%\", \"12-21 green-green-green-green - all compensation\"],\n",
    "         [\"2023-12-23T00:27\", \"2023-12-23T01:24\", \"??\", \"12-23 DC accelerometers calibration\"],\n",
    "         [\"2023-12-27T23:04\", \"2023-12-27T23:17\", \"40%\", \"12-27 green-green-green-green - all compensation\"],\n",
    "        ]\n",
    "tests.reverse() # Put more recent tests first\n",
    "\n",
    "#This sets the column headers in the spreadsheet\n",
    "groups = [[\"Hardpoints\",[\"HP Name\", \"HP Min\", \"HP Max\"]],\n",
    "          [\"MTMount\",[\"MT Name\", \"MT Min\", \"MT Max\"]],\n",
    "          [\"Actuator Following Error Summary\",[\"AS ID\", \"AS P Min\", \"AS P Max\", \\\n",
    "                                              \"AS S Min\", \"AS S Max\"]],\n",
    "          [\"Actuator Following Errors\",[\"A ID\", \"A P Min\", \"A P Max\", \\\n",
    "                                       \"A S Min\", \"A S Max\"]]]\n",
    "\n",
    "addBlankColumn = True # Adds a blank column after each group for readability\n",
    "firstRow = 2 # Where to place the dataframe in the spreadsheet\n",
    "firstColumn = 0 # Where to place the dataframe in the spreadsheet\n",
    "\n",
    "filename = \"/home/c/cslage/u/MTM1M3/data/MTM1M3_Summary_28Dec23.xlsx\""
   ]
  },
  {
   "cell_type": "markdown",
   "id": "40bf2b13-0313-4e23-b20a-bdb7593f40cf",
   "metadata": {},
   "source": [
    "# Cells below are the functions that do the work"
   ]
  },
  {
   "cell_type": "code",
   "execution_count": null,
   "id": "17e6b55a-0614-458a-a7b3-d19c7da558bb",
   "metadata": {
    "execution": {
     "iopub.execute_input": "2023-12-28T12:20:53.739439Z",
     "iopub.status.busy": "2023-12-28T12:20:53.739176Z",
     "iopub.status.idle": "2023-12-28T12:20:53.744854Z",
     "shell.execute_reply": "2023-12-28T12:20:53.744513Z",
     "shell.execute_reply.started": "2023-12-28T12:20:53.739426Z"
    }
   },
   "outputs": [],
   "source": [
    "def formatSpreadsheet(filename, sheetName, columns):\n",
    "    workbook = xl.load_workbook(filename=filename)\n",
    "    sheet = workbook[sheetName]\n",
    "    for i, column in enumerate(columns):\n",
    "        columnLetter = xl.utils.get_column_letter(i+1)\n",
    "        col = sheet.column_dimensions[columnLetter]\n",
    "        if column == '':\n",
    "            col.width = 2\n",
    "        elif 'HP Name' in column:\n",
    "            col.width = 15\n",
    "        elif 'HP Min' in column or 'HP Max' in column:\n",
    "            col.width = 10\n",
    "            col.number_format = '0.0'\n",
    "        elif 'ID' in column:\n",
    "            col.width = 8\n",
    "            col.number_format = '0'\n",
    "        else:\n",
    "            col.width = 8\n",
    "            col.number_format = '0.0'\n",
    "    start_column = 1\n",
    "    for [name, headings] in groups:\n",
    "        end_column = start_column + len(headings) - 1\n",
    "        sheet.merge_cells(start_row=2, end_row=2, \n",
    "                          start_column=start_column, end_column=end_column)\n",
    "        cell = sheet.cell(row=2, column=start_column)  \n",
    "        cell.value = name  \n",
    "        cell.alignment = xl.styles.Alignment(horizontal='center', vertical='center', wrapText=True)  \n",
    "        fontStyle = xl.styles.Font(bold=True, size = \"10\")\n",
    "        cell.font = fontStyle\n",
    "        cell.border = xl.styles.Border(outline=True) \n",
    "        start_column = end_column + 2\n",
    "    for heading_column in range(1, end_column + 1):\n",
    "        cell = sheet.cell(row=3, column=heading_column)\n",
    "        fontStyle = xl.styles.Font(bold=True, size = \"9\")\n",
    "        cell.font = fontStyle\n",
    "        \n",
    "    sheet.merge_cells(start_row=1, end_row=1, \n",
    "                      start_column=1, end_column=end_column)\n",
    "    cell = sheet.cell(row=1, column=1)  \n",
    "    cell.value = sheetName  \n",
    "    cell.alignment = xl.styles.Alignment(horizontal='center', vertical='center')  \n",
    "    fontStyle = xl.styles.Font(bold=True, size = \"18\")\n",
    "    cell.font = fontStyle\n",
    "    sheet.row_dimensions[1].height = 30\n",
    "    sheet.row_dimensions[2].height = 20\n",
    "    #sheet.print_area = 'A1:O20'\n",
    "    workbook.save(filename=filename)\n",
    "    return workbook"
   ]
  },
  {
   "cell_type": "code",
   "execution_count": null,
   "id": "9511a79b-c576-450a-82c4-447f580aade8",
   "metadata": {
    "execution": {
     "iopub.execute_input": "2023-12-28T12:20:53.745527Z",
     "iopub.status.busy": "2023-12-28T12:20:53.745407Z",
     "iopub.status.idle": "2023-12-28T12:20:53.749745Z",
     "shell.execute_reply": "2023-12-28T12:20:53.749400Z",
     "shell.execute_reply.started": "2023-12-28T12:20:53.745515Z"
    }
   },
   "outputs": [],
   "source": [
    "def addColumn(df, columnName, columnData):\n",
    "    # Allows to add a new column longer or shorter \n",
    "    # than the current dataframe\n",
    "    newLength = len(columnData)\n",
    "    currentLength = len(df.index)\n",
    "    #print(columnName, currentLength, newLength)\n",
    "    if newLength < currentLength:\n",
    "        columnData.extend(['']*(currentLength - newLength))\n",
    "    elif currentLength < newLength:\n",
    "        df = df.reindex(pd.RangeIndex(start=0, stop=newLength), fill_value='')\n",
    "    df[columnName] = columnData\n",
    "    return df\n"
   ]
  },
  {
   "cell_type": "code",
   "execution_count": null,
   "id": "f0409899-3ce0-497a-a62c-e0abe932380d",
   "metadata": {
    "execution": {
     "iopub.execute_input": "2023-12-28T12:20:53.750291Z",
     "iopub.status.busy": "2023-12-28T12:20:53.750177Z",
     "iopub.status.idle": "2023-12-28T12:20:53.754690Z",
     "shell.execute_reply": "2023-12-28T12:20:53.754277Z",
     "shell.execute_reply.started": "2023-12-28T12:20:53.750280Z"
    }
   },
   "outputs": [],
   "source": [
    "def fivePointStencil(pos, times):\n",
    "    # Numerically differentiates a data stream\n",
    "    der = np.zeros(len(pos))\n",
    "    for i in range(2, len(pos)-2):\n",
    "        der[i] = pos[i-2] - 8.0*pos[i-1] + 8.0*pos[i+1] - pos[i+2]\n",
    "        der[i] / 12.0*(times[i] - times[i-1])\n",
    "    return der\n"
   ]
  },
  {
   "cell_type": "code",
   "execution_count": null,
   "id": "6a0d28a9-d119-4f5a-a3de-7f1e9a90fa5f",
   "metadata": {
    "execution": {
     "iopub.execute_input": "2023-12-28T12:20:53.755411Z",
     "iopub.status.busy": "2023-12-28T12:20:53.755272Z",
     "iopub.status.idle": "2023-12-28T12:20:53.759992Z",
     "shell.execute_reply": "2023-12-28T12:20:53.759606Z",
     "shell.execute_reply.started": "2023-12-28T12:20:53.755399Z"
    }
   },
   "outputs": [],
   "source": [
    "async def getHardPointData(df, client, start, end):\n",
    "    ret = await client.select_time_series(\n",
    "        \"lsst.sal.MTM1M3.hardpointActuatorData\",\n",
    "        [\"timestamp\"]\n",
    "        + [f\"measuredForce{hp}\" for hp in range(6)]\n",
    "        + [f\"f{a}\" for a in \"xyz\"]\n",
    "        + [f\"m{a}\" for a in \"xyz\"],\n",
    "        start,\n",
    "        end,\n",
    "        )\n",
    "    names = []\n",
    "    mins = []\n",
    "    maxs = []\n",
    "    for hp in range(6):\n",
    "        name = f\"measuredForce{hp}\"\n",
    "        data = ret[name]\n",
    "        min = np.min(data)\n",
    "        max = np.max(data)\n",
    "        names.append(name)\n",
    "        mins.append(min)\n",
    "        maxs.append(max)\n",
    "    for a in \"xyz\":\n",
    "        name = f\"f{a}\"\n",
    "        data = ret[name]\n",
    "        min = np.min(data)\n",
    "        max = np.max(data)        \n",
    "        names.append(name)\n",
    "        mins.append(min)\n",
    "        maxs.append(max)\n",
    "    for a in \"xyz\":\n",
    "        name = f\"m{a}\"\n",
    "        data = ret[name]\n",
    "        min = np.min(data)\n",
    "        max = np.max(data)        \n",
    "        names.append(name)\n",
    "        mins.append(min)\n",
    "        maxs.append(max)\n",
    "\n",
    "    df = addColumn(df, \"HP Name\", names)\n",
    "    df = addColumn(df, \"HP Min\", mins)\n",
    "    df = addColumn(df, \"HP Max\", maxs)\n",
    "    return df\n"
   ]
  },
  {
   "cell_type": "code",
   "execution_count": null,
   "id": "67f73585-a4e7-4f59-a0ea-2cdb5e5169d6",
   "metadata": {
    "execution": {
     "iopub.execute_input": "2023-12-28T12:20:53.760632Z",
     "iopub.status.busy": "2023-12-28T12:20:53.760512Z",
     "iopub.status.idle": "2023-12-28T12:20:53.768436Z",
     "shell.execute_reply": "2023-12-28T12:20:53.768060Z",
     "shell.execute_reply.started": "2023-12-28T12:20:53.760620Z"
    }
   },
   "outputs": [],
   "source": [
    "async def getFollowingErrors(df, client, start, end):\n",
    "    ids = []\n",
    "    primaryMins = []\n",
    "    primaryMaxs = []\n",
    "    secondaryMins = []\n",
    "    secondaryMaxs = []\n",
    "    forces = await client.select_time_series(\"lsst.sal.MTM1M3.forceActuatorData\", \\\n",
    "                                     ['*'], start, end)\n",
    "\n",
    "    for index in range(len(FATable)):\n",
    "        try:\n",
    "            id = FATable[index].actuator_id\n",
    "            fa = force_actuator_from_id(id)\n",
    "            primary_follow = f\"primaryCylinderFollowingError{fa.index}\"\n",
    "            if fa.actuator_type.name == 'DAA':\n",
    "                secondary_follow = f\"secondaryCylinderFollowingError{fa.s_index}\"\n",
    "                secondary_name = fa.orientation.name\n",
    "            else:\n",
    "                secondary_follow = None\n",
    "            primaryMin = np.min(forces[primary_follow].values)\n",
    "            primaryMins.append(primaryMin)\n",
    "            primaryMax = np.max(forces[primary_follow].values)\n",
    "            primaryMaxs.append(primaryMax)\n",
    "            ids.append(id)\n",
    "            if secondary_follow:\n",
    "                secondaryMin = np.min(forces[secondary_follow].values)\n",
    "                secondaryMins.append(secondaryMin)\n",
    "                secondaryMax = np.max(forces[secondary_follow].values)\n",
    "                secondaryMaxs.append(secondaryMax)\n",
    "            else:\n",
    "                secondaryMins.append(np.nan)\n",
    "                secondaryMaxs.append(np.nan)\n",
    "        except:\n",
    "            continue\n",
    "    primaryArgMin = np.argmin(np.array(primaryMins))\n",
    "    primaryArgMax = np.argmax(np.array(primaryMaxs))\n",
    "    secondaryArgMin = np.nanargmin(np.array(secondaryMins))\n",
    "    secondaryArgMax = np.nanargmax(np.array(secondaryMaxs))\n",
    "    ['' if x is np.nan else x for x in secondaryMins]\n",
    "    ['' if x is np.nan else x for x in secondaryMaxs]\n",
    "    df = addColumn(df, \"A ID\", ids)\n",
    "    df = addColumn(df, \"A P Min\", primaryMins)\n",
    "    df = addColumn(df, \"A P Max\", primaryMaxs)\n",
    "    df = addColumn(df, \"A S Min\", secondaryMins)\n",
    "    df = addColumn(df, \"A S Max\", secondaryMaxs)\n",
    "    #print(secondaryMins)\n",
    "    #print(secondaryArgMax, secondaryArgMin)\n",
    "    # Now make the global Min/Max summary\n",
    "    ids = [ids[primaryArgMin], ids[primaryArgMax],ids[secondaryArgMin],ids[secondaryArgMax]]\n",
    "    primaryMins = [primaryMins[primaryArgMin],'','','']\n",
    "    primaryMaxs = ['', primaryMaxs[primaryArgMax],'','']\n",
    "    secondaryMins = ['','', secondaryMins[secondaryArgMin],'']\n",
    "    secondaryMaxs = ['','','', secondaryMaxs[secondaryArgMax]]\n",
    "    df = addColumn(df, \"AS ID\", ids)\n",
    "    df = addColumn(df, \"AS P Min\", primaryMins)\n",
    "    df = addColumn(df, \"AS P Max\", primaryMaxs)\n",
    "    df = addColumn(df, \"AS S Min\", secondaryMins)\n",
    "    df = addColumn(df, \"AS S Max\", secondaryMaxs)\n",
    "    \n",
    "    return df\n"
   ]
  },
  {
   "cell_type": "code",
   "execution_count": null,
   "id": "995747f4-db2d-4f13-a9bd-ef7fbc2fe99c",
   "metadata": {
    "execution": {
     "iopub.execute_input": "2023-12-28T12:20:53.769030Z",
     "iopub.status.busy": "2023-12-28T12:20:53.768912Z",
     "iopub.status.idle": "2023-12-28T12:20:53.776815Z",
     "shell.execute_reply": "2023-12-28T12:20:53.776423Z",
     "shell.execute_reply.started": "2023-12-28T12:20:53.769018Z"
    }
   },
   "outputs": [],
   "source": [
    "async def getTMAData(df, client, start, end):\n",
    "    smoothingFactor = 0.2 # In spline creation\n",
    "    kernelSize = 100 # In convolution\n",
    "    kernel = np.ones(kernelSize) / kernelSize\n",
    "\n",
    "    az = await client.select_time_series('lsst.sal.MTMount.azimuth', \\\n",
    "                                                ['*'],  start, end)\n",
    "    el = await client.select_time_series('lsst.sal.MTMount.elevation', \\\n",
    "                                                ['*'],  start, end)    \n",
    "\n",
    "    acc = await client.select_time_series('lsst.sal.MTM1M3.accelerometerData', \\\n",
    "                                                ['*'],  start, end)     \n",
    "    # Now calculates the spline fit and differentiate it to get the acceleration\n",
    "    azVs = az['actualVelocity'].values\n",
    "    azXs = az['timestamp'].values - az['timestamp'].values[0]\n",
    "    azAs = fivePointStencil(azVs, azXs)\n",
    "    elVs = el['actualVelocity'].values\n",
    "    elXs = el['timestamp'].values - el['timestamp'].values[0]\n",
    "    elAs = fivePointStencil(elVs, elXs)\n",
    "\n",
    "    accAx = acc['angularAccelerationX'].values\n",
    "    accAy = acc['angularAccelerationY'].values\n",
    "    accAz = acc['angularAccelerationZ'].values    \n",
    "    minAzV = np.min(azVs)\n",
    "    maxAzV = np.max(azVs)\n",
    "    minAzA = np.min(azAs)\n",
    "    maxAzA = np.max(azAs)\n",
    "    minElV = np.min(elVs)\n",
    "    maxElV = np.max(elVs)\n",
    "    minElA = np.min(elAs)\n",
    "    maxElA = np.max(elAs)\n",
    "    minAngX = np.min(accAx)\n",
    "    maxAngX = np.max(accAx)\n",
    "    minAngY = np.min(accAy)\n",
    "    maxAngY = np.max(accAy)\n",
    "    minAngZ = np.min(accAz)\n",
    "    maxAngZ = np.max(accAz)\n",
    "    names = ['Az Vel', 'Az Acc', 'El Vel', 'El Acc', 'AngAccX', 'AngAccY', 'AngAccZ']\n",
    "    mins = [minAzV, minAzA, minElV, minElA, minAngX, minAngY, minAngZ]\n",
    "    maxs = [maxAzV, maxAzA, maxElV, maxElA, maxAngX, maxAngY, maxAngZ]\n",
    "    df = addColumn(df, \"MT Name\", names)\n",
    "    df = addColumn(df, \"MT Min\", mins)\n",
    "    df = addColumn(df, \"MT Max\", maxs)\n",
    "    return df\n",
    "          "
   ]
  },
  {
   "cell_type": "markdown",
   "id": "277aa25a-5c24-4861-ae49-42801c36a253",
   "metadata": {},
   "source": [
    "# The cell below creates and formats the spreadsheet"
   ]
  },
  {
   "cell_type": "code",
   "execution_count": null,
   "id": "0c8e41e5-ad3a-4d1e-b20e-41a0502d9381",
   "metadata": {
    "execution": {
     "iopub.execute_input": "2023-12-28T12:20:53.777419Z",
     "iopub.status.busy": "2023-12-28T12:20:53.777299Z",
     "iopub.status.idle": "2023-12-28T12:30:43.266628Z",
     "shell.execute_reply": "2023-12-28T12:30:43.266183Z",
     "shell.execute_reply.started": "2023-12-28T12:20:53.777408Z"
    }
   },
   "outputs": [],
   "source": [
    "client = EfdClient(\"usdf_efd\")\n",
    "for i, [start, end, speed, sheetName] in enumerate(tests):\n",
    "    start = Time(start, scale='utc')\n",
    "    end = Time(end, scale='utc')\n",
    "\n",
    "    columns = []\n",
    "    for [name, headings] in groups:\n",
    "        for heading in headings:\n",
    "            columns.append(heading)\n",
    "        if addBlankColumn:\n",
    "            columns.append('')\n",
    "\n",
    "    df = pd.DataFrame(columns=columns)\n",
    "    df = await getHardPointData(df, client, start, end)\n",
    "    df = await getTMAData(df, client, start, end)\n",
    "    df = await getFollowingErrors(df, client, start, end)\n",
    "    if i == 0:\n",
    "        with pd.ExcelWriter(filename) as writer:  \n",
    "            df.to_excel(writer, sheet_name=sheetName, startrow=firstRow, \\\n",
    "                startcol=firstColumn, index=False)\n",
    "    else:\n",
    "        with pd.ExcelWriter(filename, mode='a') as writer:  \n",
    "            df.to_excel(writer, sheet_name=sheetName, startrow=firstRow, \\\n",
    "                startcol=firstColumn, index=False)\n",
    "\n",
    "    workbook = formatSpreadsheet(filename, sheetName, columns)\n"
   ]
  },
  {
   "cell_type": "code",
   "execution_count": null,
   "id": "a56e4763-e22c-447f-ac6c-d06e1189859a",
   "metadata": {},
   "outputs": [],
   "source": []
  }
 ],
 "metadata": {
  "kernelspec": {
   "display_name": "LSST",
   "language": "python",
   "name": "lsst"
  },
  "language_info": {
   "codemirror_mode": {
    "name": "ipython",
    "version": 3
   },
   "file_extension": ".py",
   "mimetype": "text/x-python",
   "name": "python",
   "nbconvert_exporter": "python",
   "pygments_lexer": "ipython3",
   "version": "3.11.4"
  }
 },
 "nbformat": 4,
 "nbformat_minor": 5
}
