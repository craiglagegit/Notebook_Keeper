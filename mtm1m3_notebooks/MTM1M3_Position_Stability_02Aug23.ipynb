{
 "cells": [
  {
   "cell_type": "markdown",
   "metadata": {},
   "source": [
    "# M1M3 position data\n",
    "Craig Lage - 16-Apr-23 \\\n",
    "Comparing different position measurements."
   ]
  },
  {
   "cell_type": "code",
   "execution_count": null,
   "metadata": {
    "execution": {
     "iopub.execute_input": "2023-08-02T19:10:20.854296Z",
     "iopub.status.busy": "2023-08-02T19:10:20.854143Z",
     "iopub.status.idle": "2023-08-02T19:10:23.591379Z",
     "shell.execute_reply": "2023-08-02T19:10:23.590904Z",
     "shell.execute_reply.started": "2023-08-02T19:10:20.854282Z"
    },
    "tags": []
   },
   "outputs": [],
   "source": [
    "import sys, time, os, asyncio, glob\n",
    "from datetime import datetime\n",
    "import numpy as np\n",
    "import matplotlib.pyplot as plt\n",
    "from matplotlib.backends.backend_pdf import PdfPages\n",
    "import pickle as pkl\n",
    "from astropy.time import Time, TimeDelta\n",
    "import lsst.ts.cRIOpy.M1M3FATable as M1M3FATable\n",
    "from scipy.interpolate import UnivariateSpline\n",
    "from lsst.summit.utils.tmaUtils import TMAEventMaker, TMAState, getSlewsFromEventList\n",
    "from lsst.summit.utils.efdUtils import (makeEfdClient,\n",
    "                                        getEfdData,\n",
    "                                        getMostRecentRowWithDataBefore,\n",
    "                                        efdTimestampToAstropy,\n",
    "                                       )"
   ]
  },
  {
   "cell_type": "code",
   "execution_count": null,
   "metadata": {
    "execution": {
     "iopub.execute_input": "2023-08-02T19:10:23.596226Z",
     "iopub.status.busy": "2023-08-02T19:10:23.596105Z",
     "iopub.status.idle": "2023-08-02T19:10:23.598101Z",
     "shell.execute_reply": "2023-08-02T19:10:23.597768Z",
     "shell.execute_reply.started": "2023-08-02T19:10:23.596215Z"
    },
    "tags": []
   },
   "outputs": [],
   "source": [
    "FATABLE = M1M3FATable.FATABLE"
   ]
  },
  {
   "cell_type": "code",
   "execution_count": null,
   "metadata": {
    "execution": {
     "iopub.execute_input": "2023-08-02T19:18:28.840646Z",
     "iopub.status.busy": "2023-08-02T19:18:28.840436Z",
     "iopub.status.idle": "2023-08-02T19:18:29.889894Z",
     "shell.execute_reply": "2023-08-02T19:18:29.889448Z",
     "shell.execute_reply.started": "2023-08-02T19:18:28.840633Z"
    },
    "tags": []
   },
   "outputs": [],
   "source": [
    "client = makeEfdClient()\n",
    "dayObs = 20230731\n",
    "#dayObs = 20230601\n",
    "eventMaker = TMAEventMaker()\n",
    "events = eventMaker.getEvents(dayObs)\n",
    "slews = [e for e in events if e.type==TMAState.SLEWING]\n",
    "tracks = [e for e in events if e.type==TMAState.TRACKING]\n",
    "print(f'Found {len(slews)} slews and {len(tracks)} tracks')"
   ]
  },
  {
   "cell_type": "code",
   "execution_count": null,
   "metadata": {
    "execution": {
     "iopub.execute_input": "2023-08-02T20:55:29.346653Z",
     "iopub.status.busy": "2023-08-02T20:55:29.346042Z",
     "iopub.status.idle": "2023-08-02T20:58:01.553610Z",
     "shell.execute_reply": "2023-08-02T20:58:01.553222Z",
     "shell.execute_reply.started": "2023-08-02T20:55:29.346638Z"
    },
    "jupyter": {
     "outputs_hidden": true
    },
    "tags": []
   },
   "outputs": [],
   "source": [
    "data = {}\n",
    "for dayObs in range(20230710, 20230731, 1):\n",
    "    els = []\n",
    "    xPos = []\n",
    "    yPos = []\n",
    "    zPos = []\n",
    "    xRot = []\n",
    "    yRot = []\n",
    "    zRot = []\n",
    "\n",
    "    events = eventMaker.getEvents(dayObs)\n",
    "    slews = [e for e in events if e.type==TMAState.SLEWING]\n",
    "    print(f'{dayObs}:found {len(slews)} slews ')\n",
    "    if len(slews) < 1:\n",
    "        continue\n",
    "\n",
    "    for slew in slews:\n",
    "        dT = 5.0\n",
    "        start = slew.end-TimeDelta(dT, format='sec')\n",
    "        end = slew.end+TimeDelta(dT, format='sec')\n",
    "        ims_data = await client.select_time_series(\"lsst.sal.MTM1M3.imsData\", \"*\", start, end)\n",
    "        az = await client.select_time_series(\"lsst.sal.MTMount.azimuth\",\"actualPosition\", start, end)\n",
    "        el = await client.select_time_series(\"lsst.sal.MTMount.elevation\",\"actualPosition\", start, end)\n",
    "        try:\n",
    "            zPosFinal = abs(ims_data['zPosition'].values[-1])\n",
    "            #print(el.values[-1], zPosFinal)\n",
    "            if zPosFinal > 0.004: # Test if mirror is raised\n",
    "                dayObss.append(dayObs)\n",
    "                els.append(el.values[-1][0])\n",
    "                xPos.append(ims_data['xPosition'].values[-1] * 1.0E6)\n",
    "                yPos.append(ims_data['yPosition'].values[-1] * 1.0E6)\n",
    "                zPos.append(ims_data['zPosition'].values[-1] * 1.0E6)\n",
    "                xRot.append(ims_data['xRotation'].values[-1] * 1.0E6)\n",
    "                yRot.append(ims_data['yRotation'].values[-1] * 1.0E6)\n",
    "                zRot.append(ims_data['zRotation'].values[-1] * 1.0E6)\n",
    "        except:\n",
    "            continue\n",
    "    if len(els) > 10:\n",
    "        data[dayObs] = [els, [xPos, yPos, zPos, xRot, yRot, zRot]]\n"
   ]
  },
  {
   "cell_type": "code",
   "execution_count": null,
   "metadata": {
    "execution": {
     "iopub.execute_input": "2023-08-02T20:58:01.787700Z",
     "iopub.status.busy": "2023-08-02T20:58:01.787560Z",
     "iopub.status.idle": "2023-08-02T20:58:01.790283Z",
     "shell.execute_reply": "2023-08-02T20:58:01.789938Z",
     "shell.execute_reply.started": "2023-08-02T20:58:01.787689Z"
    },
    "tags": []
   },
   "outputs": [],
   "source": [
    "len(data)"
   ]
  },
  {
   "cell_type": "code",
   "execution_count": null,
   "metadata": {
    "execution": {
     "iopub.execute_input": "2023-08-02T20:24:47.289015Z",
     "iopub.status.busy": "2023-08-02T20:24:47.288498Z",
     "iopub.status.idle": "2023-08-02T20:24:47.291823Z",
     "shell.execute_reply": "2023-08-02T20:24:47.291417Z",
     "shell.execute_reply.started": "2023-08-02T20:24:47.288997Z"
    },
    "tags": []
   },
   "outputs": [],
   "source": [
    "data.keys()"
   ]
  },
  {
   "cell_type": "code",
   "execution_count": null,
   "metadata": {
    "execution": {
     "iopub.execute_input": "2023-08-02T20:37:37.508076Z",
     "iopub.status.busy": "2023-08-02T20:37:37.507903Z",
     "iopub.status.idle": "2023-08-02T20:37:37.511607Z",
     "shell.execute_reply": "2023-08-02T20:37:37.511272Z",
     "shell.execute_reply.started": "2023-08-02T20:37:37.508064Z"
    },
    "jupyter": {
     "outputs_hidden": true
    },
    "tags": []
   },
   "outputs": [],
   "source": [
    "data[20230710]"
   ]
  },
  {
   "cell_type": "code",
   "execution_count": null,
   "metadata": {
    "execution": {
     "iopub.execute_input": "2023-08-02T19:33:03.855285Z",
     "iopub.status.busy": "2023-08-02T19:33:03.855089Z",
     "iopub.status.idle": "2023-08-02T19:33:03.998418Z",
     "shell.execute_reply": "2023-08-02T19:33:03.998100Z",
     "shell.execute_reply.started": "2023-08-02T19:33:03.855271Z"
    },
    "tags": []
   },
   "outputs": [],
   "source": [
    "ims_data['zPosition'].plot()"
   ]
  },
  {
   "cell_type": "code",
   "execution_count": null,
   "metadata": {
    "execution": {
     "iopub.execute_input": "2023-08-02T20:58:07.035454Z",
     "iopub.status.busy": "2023-08-02T20:58:07.035268Z",
     "iopub.status.idle": "2023-08-02T20:58:08.138575Z",
     "shell.execute_reply": "2023-08-02T20:58:08.138105Z",
     "shell.execute_reply.started": "2023-08-02T20:58:07.035441Z"
    },
    "tags": []
   },
   "outputs": [],
   "source": [
    "%matplotlib inline\n",
    "names = ['xPosition', 'yPosition', 'zPosition', 'xRotation', 'yRotation', 'zRotation']\n",
    "limits = [6.0, 6.0, 1.0, 24.0, 24.0, 24.0]\n",
    "\n",
    "fig, axs = plt.subplots(3,2,figsize=(8,10))\n",
    "plt.subplots_adjust(hspace=0.5, wspace=0.5)\n",
    "plt.suptitle(f\"Final mirror position after a slew\", fontsize=16)\n",
    "plot_counter = 0\n",
    "for i in range(3):\n",
    "    for j in range(2):\n",
    "        if plot_counter > 2:\n",
    "            unit = 'microDeg'\n",
    "        else:\n",
    "            unit = 'um'\n",
    "        for dayObs in data.keys():\n",
    "            [els, plots] = data[dayObs] \n",
    "\n",
    "            axs[i][j].set_title(names[plot_counter])\n",
    "            axs[i][j].set_xlim(0, 90)\n",
    "            axs[i][j].set_xlabel(\"Elevation (degrees)\")\n",
    "            axs[i][j].set_ylabel(f'IMS ({unit})')\n",
    "            axs[i][j].scatter(els, plots[plot_counter], label=dayObs)\n",
    "        plot_counter += 1\n",
    "axs[0][1].legend()\n",
    "plt.savefig(f\"/home/c/cslage/u/MTM1M3/data/Final_Mirror_Position_02Aug23.png\")"
   ]
  },
  {
   "cell_type": "code",
   "execution_count": null,
   "metadata": {},
   "outputs": [],
   "source": []
  }
 ],
 "metadata": {
  "kernelspec": {
   "display_name": "LSST",
   "language": "python",
   "name": "lsst"
  },
  "language_info": {
   "codemirror_mode": {
    "name": "ipython",
    "version": 3
   },
   "file_extension": ".py",
   "mimetype": "text/x-python",
   "name": "python",
   "nbconvert_exporter": "python",
   "pygments_lexer": "ipython3",
   "version": "3.11.4"
  }
 },
 "nbformat": 4,
 "nbformat_minor": 4
}
