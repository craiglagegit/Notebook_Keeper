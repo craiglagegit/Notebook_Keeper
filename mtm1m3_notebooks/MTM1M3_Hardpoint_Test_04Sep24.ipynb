{
 "cells": [
  {
   "cell_type": "markdown",
   "metadata": {},
   "source": [
    "# M1M3 hardpoint learning\n",
    "Craig Lage - 14-Apr-23 \\\n",
    "The 17 tons of mirror are supported by 156 pneumatic actuators where 44 are single-axis and provide support only on the axial direction, 100 are dual-axis providing support in the axial and lateral direction, and 12 are dual-axis providing support in the axial and cross lateral directions. \\\n",
    "Positioning is provided by 6 hard points in a hexapod configuration which moves the mirror to a fixed operational position that shall be maintained during telescope operations. The remaining optical elements will be moved relative to this position in order to align the telescope optics. Support and optical figure correction is provided by 112 dual axis and 44 single axis pneumatic actuators. "
   ]
  },
  {
   "cell_type": "code",
   "execution_count": null,
   "metadata": {
    "execution": {
     "iopub.execute_input": "2024-10-11T20:15:21.491379Z",
     "iopub.status.busy": "2024-10-11T20:15:21.491064Z",
     "iopub.status.idle": "2024-10-11T20:15:22.256543Z",
     "shell.execute_reply": "2024-10-11T20:15:22.256164Z",
     "shell.execute_reply.started": "2024-10-11T20:15:21.491360Z"
    },
    "tags": []
   },
   "outputs": [],
   "source": [
    "import sys, time, os, asyncio, glob\n",
    "from datetime import datetime\n",
    "import numpy as np\n",
    "import matplotlib.pyplot as plt\n",
    "from matplotlib.backends.backend_pdf import PdfPages\n",
    "import pickle as pkl\n",
    "from astropy.time import Time, TimeDelta\n",
    "from lsst.ts.xml.tables.m1m3 import FATable, FAIndex, force_actuator_from_id, actuator_id_to_index\n",
    "from scipy.interpolate import UnivariateSpline\n",
    "from lsst_efd_client import EfdClient"
   ]
  },
  {
   "cell_type": "code",
   "execution_count": null,
   "metadata": {
    "execution": {
     "iopub.execute_input": "2024-10-11T20:15:22.257539Z",
     "iopub.status.busy": "2024-10-11T20:15:22.257237Z",
     "iopub.status.idle": "2024-10-11T20:15:22.646727Z",
     "shell.execute_reply": "2024-10-11T20:15:22.646206Z",
     "shell.execute_reply.started": "2024-10-11T20:15:22.257526Z"
    },
    "tags": []
   },
   "outputs": [],
   "source": [
    "client = EfdClient('usdf_efd')\n"
   ]
  },
  {
   "cell_type": "code",
   "execution_count": null,
   "metadata": {
    "execution": {
     "iopub.execute_input": "2024-10-11T23:16:54.684884Z",
     "iopub.status.busy": "2024-10-11T23:16:54.684557Z",
     "iopub.status.idle": "2024-10-11T23:16:54.687446Z",
     "shell.execute_reply": "2024-10-11T23:16:54.687001Z",
     "shell.execute_reply.started": "2024-10-11T23:16:54.684868Z"
    },
    "tags": []
   },
   "outputs": [],
   "source": [
    "# Times of breakaway test\n",
    "start = \"2024-10-11T15:00:00\"\n",
    "end = \"2024-10-12T00:30:00\""
   ]
  },
  {
   "cell_type": "code",
   "execution_count": null,
   "metadata": {
    "execution": {
     "iopub.execute_input": "2024-10-11T23:16:58.105305Z",
     "iopub.status.busy": "2024-10-11T23:16:58.104882Z",
     "iopub.status.idle": "2024-10-11T23:16:58.120948Z",
     "shell.execute_reply": "2024-10-11T23:16:58.120610Z",
     "shell.execute_reply.started": "2024-10-11T23:16:58.105289Z"
    },
    "tags": []
   },
   "outputs": [],
   "source": [
    "hardpoints = await client.select_time_series(\"lsst.sal.MTM1M3.logevent_hardpointTestStatus\", \n",
    "                                             \"*\", Time(start, scale='utc'), Time(end, scale='utc'))\n",
    "len(hardpoints)"
   ]
  },
  {
   "cell_type": "code",
   "execution_count": null,
   "metadata": {
    "execution": {
     "iopub.execute_input": "2024-09-05T13:21:08.731748Z",
     "iopub.status.busy": "2024-09-05T13:21:08.731113Z",
     "iopub.status.idle": "2024-09-05T13:21:08.734646Z",
     "shell.execute_reply": "2024-09-05T13:21:08.734302Z",
     "shell.execute_reply.started": "2024-09-05T13:21:08.731731Z"
    },
    "tags": []
   },
   "outputs": [],
   "source": [
    "hardpoints.columns"
   ]
  },
  {
   "cell_type": "markdown",
   "metadata": {},
   "source": [
    "## class HardpointTest(enum.IntEnum): \n",
    "    NOTTESTED = 1 \n",
    "    MOVINGNEGATIVE = 2 \n",
    "    TESTINGPOSITIVE = 3 \n",
    "    TESTINGNEGATIVE = 4 \n",
    "    MOVINGREFERENCE = 5 \n",
    "    PASSED = 6 \n",
    "    FAILED = 7 "
   ]
  },
  {
   "cell_type": "code",
   "execution_count": null,
   "metadata": {
    "execution": {
     "iopub.execute_input": "2024-10-11T23:17:01.513059Z",
     "iopub.status.busy": "2024-10-11T23:17:01.512777Z",
     "iopub.status.idle": "2024-10-11T23:17:01.648890Z",
     "shell.execute_reply": "2024-10-11T23:17:01.648503Z",
     "shell.execute_reply.started": "2024-10-11T23:17:01.513045Z"
    },
    "tags": []
   },
   "outputs": [],
   "source": [
    "for i in range(6):\n",
    "    column = f\"testState{i}\"\n",
    "    hardpoints[column].plot()"
   ]
  },
  {
   "cell_type": "markdown",
   "metadata": {},
   "source": [
    "## First look at the forces and displacements during the hardpoint breakaway test"
   ]
  },
  {
   "cell_type": "code",
   "execution_count": null,
   "metadata": {
    "execution": {
     "iopub.execute_input": "2024-10-11T20:15:38.625479Z",
     "iopub.status.busy": "2024-10-11T20:15:38.625194Z",
     "iopub.status.idle": "2024-10-11T20:15:39.031045Z",
     "shell.execute_reply": "2024-10-11T20:15:39.030665Z",
     "shell.execute_reply.started": "2024-10-11T20:15:38.625464Z"
    },
    "tags": []
   },
   "outputs": [],
   "source": [
    "nx = 3; ny = 2\n",
    "fig, axs = plt.subplots(nx, ny, figsize=(8,10))\n",
    "plt.subplots_adjust(hspace=0.7, wspace=0.7)\n",
    "timestamp = hardpoints.index[0].isoformat().split('.')[0].replace('-','').replace(':','')\n",
    "plt.suptitle(f\"Hardpoints tests {timestamp}\")\n",
    "for i in range(nx):\n",
    "    for j in range(ny):\n",
    "        try:\n",
    "            ax = axs[i,j]\n",
    "            index = i * ny + j\n",
    "            plotStart = hardpoints[hardpoints[f'testState{index}']==2]['private_kafkaStamp'][0] - 1.0\n",
    "            plotEnd = hardpoints[hardpoints[f'testState{index}']==6]['private_kafkaStamp'][0] + 1.0\n",
    "            testingPositive = hardpoints[hardpoints[f'testState{index}']==3]['private_kafkaStamp'][0]\n",
    "            testingPositive = Time(testingPositive, format='unix_tai', scale='tai').utc.isot\n",
    "            testingNegative = hardpoints[hardpoints[f'testState{index}']==4]['private_kafkaStamp'][0]\n",
    "            testingNegative = Time(testingNegative, format='unix_tai', scale='tai').utc.isot\n",
    "            movRef = hardpoints[hardpoints[f'testState{index}']==5]['private_kafkaStamp'][0]\n",
    "            movRef = Time(movRef, format='unix_tai', scale='tai').utc.isot\n",
    "            start = Time(plotStart, format='unix_tai', scale='tai')\n",
    "            end = Time(plotEnd, format='unix_tai', scale='tai')\n",
    "            hardpointData = await client.select_time_series(\"lsst.sal.MTM1M3.hardpointActuatorData\", \"*\", start.utc, end.utc)\n",
    "            imsData = await client.select_time_series(\"lsst.sal.MTM1M3.imsData\", \"*\", start.utc, end.utc)\n",
    "            hardpointData[f'displacement{index}'].plot(ax=ax, color='green', label='Displacement')\n",
    "            ax.set_ylim(-0.01,0.025)\n",
    "            ax.axvline(testingPositive, ls='--')\n",
    "            ax.axvline(testingNegative, ls='--')\n",
    "            ax.axvline(movRef, ls='--')\n",
    "            ax2 = ax.twinx()\n",
    "            hardpointData[f'measuredForce{index}'].plot(ax=ax2, color='red', label='Force')\n",
    "            ax.set_title(f'Hardpoint {index}')\n",
    "            ax.set_ylabel('Displacement (m)')\n",
    "            ax.legend(loc='upper left', fontsize=6)\n",
    "            ax2.legend(loc='upper right', fontsize=6)\n",
    "            ax2.set_ylim(-4000, 4000)\n",
    "            ax2.set_ylabel('Force (N)')\n",
    "        except:\n",
    "            continue\n",
    "plt.savefig(f\"/home/c/cslage/u/MTM1M3/data/Hardpoint_Test{timestamp}.pdf\")"
   ]
  },
  {
   "cell_type": "markdown",
   "metadata": {},
   "source": [
    "## Look at the hardpoint displacements"
   ]
  },
  {
   "cell_type": "code",
   "execution_count": null,
   "metadata": {
    "execution": {
     "iopub.execute_input": "2023-07-23T14:33:27.711592Z",
     "iopub.status.busy": "2023-07-23T14:33:27.711395Z",
     "iopub.status.idle": "2023-07-23T14:33:29.571538Z",
     "shell.execute_reply": "2023-07-23T14:33:29.571163Z",
     "shell.execute_reply.started": "2023-07-23T14:33:27.711578Z"
    },
    "tags": []
   },
   "outputs": [],
   "source": [
    "plt.subplot(2,1,1)\n",
    "hardpointData['xPosition'].plot(label='X')\n",
    "hardpointData['yPosition'].plot(label='Y')\n",
    "hardpointData['zPosition'].plot(label='Z')\n",
    "plt.legend()\n",
    "plt.subplot(2,1,2)\n",
    "hardpointData['xRotation'].plot(label='XRot')\n",
    "hardpointData['yRotation'].plot(label='YRot')\n",
    "hardpointData['zRotation'].plot(label='ZRot')\n",
    "plt.legend()"
   ]
  },
  {
   "cell_type": "code",
   "execution_count": null,
   "metadata": {
    "execution": {
     "iopub.execute_input": "2023-07-24T12:43:06.878635Z",
     "iopub.status.busy": "2023-07-24T12:43:06.878451Z",
     "iopub.status.idle": "2023-07-24T12:43:08.691329Z",
     "shell.execute_reply": "2023-07-24T12:43:08.690909Z",
     "shell.execute_reply.started": "2023-07-24T12:43:06.878622Z"
    },
    "tags": []
   },
   "outputs": [],
   "source": [
    "plt.subplot(2,1,1)\n",
    "imsData['xPosition'].plot(label='X')\n",
    "imsData['yPosition'].plot(label='Y')\n",
    "imsData['zPosition'].plot(label='Z')\n",
    "plt.legend()\n",
    "plt.subplot(2,1,2)\n",
    "imsData['xRotation'].plot(label='XRot')\n",
    "imsData['yRotation'].plot(label='YRot')\n",
    "imsData['zRotation'].plot(label='ZRot')\n",
    "plt.legend()"
   ]
  },
  {
   "cell_type": "code",
   "execution_count": null,
   "metadata": {
    "execution": {
     "iopub.execute_input": "2023-07-24T12:52:59.966218Z",
     "iopub.status.busy": "2023-07-24T12:52:59.965998Z",
     "iopub.status.idle": "2023-07-24T12:53:03.625412Z",
     "shell.execute_reply": "2023-07-24T12:53:03.625007Z",
     "shell.execute_reply.started": "2023-07-24T12:52:59.966202Z"
    },
    "tags": []
   },
   "outputs": [],
   "source": [
    "plots = ['xPosition', 'yPosition', 'zPosition', 'xRotation', 'yRotation', 'zRotation']\n",
    "\n",
    "fig, axs = plt.subplots(3,2,figsize=(8,10))\n",
    "plt.subplots_adjust(hspace=0.6, wspace=1.0)\n",
    "plt.suptitle(f\"Mirror position IMS vs HP during HP breakaway test\", fontsize=16)\n",
    "plot_counter = 0\n",
    "for i in range(3):\n",
    "    for j in range(2):\n",
    "        \n",
    "        smoothed_imsData = imsData[plots[plot_counter]].rolling(10).mean()\n",
    "        smoothed_imsData = smoothed_imsData.dropna()\n",
    "        smoothed_imsData -= smoothed_imsData[0]\n",
    "        smoothed_hardpointData = hardpointData[plots[plot_counter]].rolling(10).mean()\n",
    "        smoothed_hardpointData = smoothed_hardpointData.dropna()\n",
    "        smoothed_hardpointData -= smoothed_hardpointData[0]\n",
    "        \n",
    "        if plot_counter > 2:\n",
    "            smoothed_imsData *= 1E6\n",
    "            smoothed_hardpointData *= 1E6\n",
    "            unit = 'microDeg'\n",
    "        else:\n",
    "            smoothed_imsData *= 1E6\n",
    "            smoothed_hardpointData *= 1E6\n",
    "            unit = 'um'\n",
    "\n",
    "        axs[i][j].set_title(plots[plot_counter])\n",
    "        axs[i][j].set_ylabel(f'HP Displacement({unit})')\n",
    "        axs[i][j].yaxis.label.set_color('blue')\n",
    "        ax = axs[i][j].twinx()\n",
    "        ax.set_ylabel(f'IMS ({unit})')\n",
    "        ax.yaxis.label.set_color('red')\n",
    "        #initial_pos = np.median(smoothed_ims_data.values[0:100])\n",
    "        #final_pos = np.median(smoothed_ims_data.values[-100:-1])\n",
    "        #pos_delta = initial_pos - final_pos\n",
    "        #axs[i][j].set_title(plots[plot_counter]+f\"\\n Position Delta = {pos_delta:.1f} {unit}\")\n",
    "\n",
    "        smoothed_hardpointData.plot(ax=axs[i][j], color='blue', label='Hardpoint')\n",
    "        smoothed_imsData.plot(ax=ax, color='red', label='IMS')\n",
    "        plot_counter += 1\n"
   ]
  },
  {
   "cell_type": "markdown",
   "metadata": {},
   "source": [
    "## Now blow up the region where the force changes rapidly"
   ]
  },
  {
   "cell_type": "code",
   "execution_count": null,
   "metadata": {
    "execution": {
     "iopub.execute_input": "2024-10-11T20:15:49.609164Z",
     "iopub.status.busy": "2024-10-11T20:15:49.608886Z",
     "iopub.status.idle": "2024-10-11T20:15:49.614129Z",
     "shell.execute_reply": "2024-10-11T20:15:49.613757Z",
     "shell.execute_reply.started": "2024-10-11T20:15:49.609149Z"
    },
    "tags": []
   },
   "outputs": [],
   "source": [
    "def stiffness(force, disp):\n",
    "    forces = force.values\n",
    "    disps = disp.values\n",
    "    foundMin = False\n",
    "    foundMax = False\n",
    "    for i in range(len(forces)):\n",
    "        #print(i, forces[i])\n",
    "        if forces[i] < 1000.0 and not foundMax:\n",
    "            forceMax = forces[i]\n",
    "            dispMax = disps[i] * 1.0E6\n",
    "            foundMax = True\n",
    "        if forces[i] < -1000.0 and not foundMin:\n",
    "            forceMin = forces[i]\n",
    "            dispMin = disps[i] * 1.0E6\n",
    "            foundMin = True\n",
    "            break\n",
    "    print(forceMin, forceMax, dispMin, dispMax)\n",
    "    stiffness = (forceMax - forceMin) / (dispMax - dispMin)\n",
    "    print(f\"Stiffness = {stiffness:.2f} N/microns\")\n",
    "    return stiffness\n",
    "\n",
    "def stiffnessValues(forceValues, dispValues):\n",
    "    forces = forceValues\n",
    "    disps = dispValues\n",
    "    foundMin = False\n",
    "    foundMax = False\n",
    "    for i in range(len(forces)):\n",
    "        #print(i, forces[i])\n",
    "        if forces[i] < 1000.0 and not foundMax:\n",
    "            forceMax = forces[i]\n",
    "            dispMax = disps[i]\n",
    "            foundMax = True\n",
    "        if forces[i] < -1000.0 and not foundMin:\n",
    "            forceMin = forces[i]\n",
    "            dispMin = disps[i]\n",
    "            foundMin = True\n",
    "            break\n",
    "    #print(forceMin, forceMax, dispMin, dispMax)\n",
    "    stiffness = (dispMax - dispMin) / (forceMax - forceMin)\n",
    "    #print(f\"Stiffness = {stiffness:.2f} microns/N\")\n",
    "    return stiffness"
   ]
  },
  {
   "cell_type": "code",
   "execution_count": null,
   "metadata": {
    "execution": {
     "iopub.execute_input": "2023-07-23T14:42:23.070631Z",
     "iopub.status.busy": "2023-07-23T14:42:23.070212Z",
     "iopub.status.idle": "2023-07-23T14:42:23.073385Z",
     "shell.execute_reply": "2023-07-23T14:42:23.073048Z",
     "shell.execute_reply.started": "2023-07-23T14:42:23.070617Z"
    },
    "tags": []
   },
   "outputs": [],
   "source": [
    "len(force.values)"
   ]
  },
  {
   "cell_type": "code",
   "execution_count": null,
   "metadata": {
    "execution": {
     "iopub.execute_input": "2024-10-01T17:26:36.329607Z",
     "iopub.status.busy": "2024-10-01T17:26:36.329300Z",
     "iopub.status.idle": "2024-10-01T17:26:36.332674Z",
     "shell.execute_reply": "2024-10-01T17:26:36.332386Z",
     "shell.execute_reply.started": "2024-10-01T17:26:36.329594Z"
    },
    "tags": []
   },
   "outputs": [],
   "source": [
    "stiffness(force, disp)"
   ]
  },
  {
   "cell_type": "code",
   "execution_count": null,
   "metadata": {
    "execution": {
     "iopub.execute_input": "2024-10-11T23:17:15.098364Z",
     "iopub.status.busy": "2024-10-11T23:17:15.098079Z",
     "iopub.status.idle": "2024-10-11T23:17:16.858221Z",
     "shell.execute_reply": "2024-10-11T23:17:16.857769Z",
     "shell.execute_reply.started": "2024-10-11T23:17:15.098348Z"
    },
    "tags": []
   },
   "outputs": [],
   "source": [
    "states = [['Pos',3,4], ['Neg',4,5]]\n",
    "nx = 3; ny = 2\n",
    "tPlot = 15.0\n",
    "fig, axs = plt.subplots(nx, ny, figsize=(8,10))\n",
    "plt.subplots_adjust(hspace=0.5, wspace=0.5)\n",
    "timestamp = hardpoints.index[0].isoformat().split('.')[0].replace('-','').replace(':','')\n",
    "plt.suptitle(f\"Hardpoints tests {timestamp}\", fontsize=24)\n",
    "for i in range(nx):\n",
    "    for j in range(ny):\n",
    "        ax = axs[i,j]\n",
    "        index = i * ny + j\n",
    "        for [name,startState, endState] in states:\n",
    "            getStart = hardpoints[hardpoints[f'testState{index}']==startState]['private_kafkaStamp'][0]\n",
    "            getEnd = hardpoints[hardpoints[f'testState{index}']==endState]['private_kafkaStamp'][0]\n",
    "            start = Time(getStart, format='unix_tai', scale='tai')\n",
    "            end = Time(getEnd, format='unix_tai', scale='tai')\n",
    "            hardpointData = await client.select_time_series(\"lsst.sal.MTM1M3.hardpointActuatorData\", \\\n",
    "                            [f'measuredForce{index}', 'timestamp'], start.utc, end.utc)\n",
    "            plotStart = hardpointData.loc[abs(hardpointData[f'measuredForce{index}']) < 100.0]['timestamp'][-1] - tPlot/2.0\n",
    "            plotEnd = plotStart + tPlot\n",
    "            start = Time(plotStart, format='unix_tai', scale='tai')\n",
    "            end = Time(plotEnd, format='unix_tai', scale='tai')\n",
    "            hardpointData = await client.select_time_series(\"lsst.sal.MTM1M3.hardpointActuatorData\", \\\n",
    "                            [f'displacement{index}', f'measuredForce{index}'], start.utc, end.utc)\n",
    "            force = hardpointData[f'measuredForce{index}']\n",
    "            disp = hardpointData[f'displacement{index}']\n",
    "            \n",
    "            ax.plot(disp, force, label=name)\n",
    "            ax.set_title(f'Hardpoint {index}')\n",
    "            ax.set_ylabel('Force (N)')\n",
    "            ax.set_ylim(-4000, 4000)\n",
    "            ax.set_xlabel('Displacement(m)')\n",
    "        stiff = stiffness(force, disp)\n",
    "        ax.text(disp.values.mean(), -3000, f\"Stiffness = \\n{stiff:.1f} microns/N\")\n",
    "        ax.legend(loc='upper left')\n",
    "plt.savefig(f\"/home/c/cslage/u/MTM1M3/data/Hardpoint_Test_Blowup_{timestamp}.pdf\")"
   ]
  },
  {
   "cell_type": "code",
   "execution_count": null,
   "metadata": {
    "execution": {
     "iopub.execute_input": "2023-07-24T14:27:07.800040Z",
     "iopub.status.busy": "2023-07-24T14:27:07.799867Z",
     "iopub.status.idle": "2023-07-24T14:27:20.123195Z",
     "shell.execute_reply": "2023-07-24T14:27:20.122810Z",
     "shell.execute_reply.started": "2023-07-24T14:27:07.800027Z"
    },
    "tags": []
   },
   "outputs": [],
   "source": [
    "posNames = ['xPosition', 'yPosition', 'zPosition', 'xRotation', 'yRotation', 'zRotation']\n",
    "timestamp = hardpoints.index[0].isoformat().split('.')[0].replace('-','').replace(':','')\n",
    "pdf = PdfPages(f\"/home/c/cslage/u/MTM1M3/data/HP_Breakaway_Test_Impact_on_IMS_{timestamp}.pdf\")\n",
    "for n, posName in enumerate(posNames):\n",
    "    if n > 2:\n",
    "        unit = 'microDeg'\n",
    "    else:\n",
    "        unit = 'um'\n",
    "\n",
    "    states = [['Pos',3,4], ['Neg',4,5]]\n",
    "    nx = 3; ny = 2\n",
    "    tPlot = 15.0\n",
    "    fig, axs = plt.subplots(nx, ny, figsize=(8,10))\n",
    "    plt.subplots_adjust(hspace=0.5, wspace=0.5)\n",
    "    plt.suptitle(f\"Impact of hardpoint breakaway tests on {posName}\")\n",
    "    for i in range(nx):\n",
    "        for j in range(ny):\n",
    "            ax = axs[i,j]\n",
    "            index = i * ny + j\n",
    "            for [name,startState, endState] in states:\n",
    "                getStart = hardpoints[hardpoints[f'testState{index}']==startState]['private_kafkaStamp'][0]\n",
    "                getEnd = hardpoints[hardpoints[f'testState{index}']==endState]['private_kafkaStamp'][0]\n",
    "                start = Time(getStart, format='unix_tai', scale='tai')\n",
    "                end = Time(getEnd, format='unix_tai', scale='tai')\n",
    "                hardpointData = await client.select_time_series(\"lsst.sal.MTM1M3.hardpointActuatorData\", \\\n",
    "                                [f'measuredForce{index}', 'timestamp'], start.utc, end.utc)\n",
    "                plotStart = hardpointData.loc[abs(hardpointData[f'measuredForce{index}']) < 100.0]['timestamp'][-1] - tPlot/2.0\n",
    "                plotEnd = plotStart + tPlot\n",
    "                start = Time(plotStart, format='unix_tai', scale='tai')\n",
    "                end = Time(plotEnd, format='unix_tai', scale='tai')\n",
    "                hardpointData = await client.select_time_series(\"lsst.sal.MTM1M3.hardpointActuatorData\", \\\n",
    "                                [f'displacement{index}', f'measuredForce{index}', 'timestamp'], start.utc, end.utc)\n",
    "                imsData = await client.select_time_series(\"lsst.sal.MTM1M3.imsData\", \"*\", start.utc, end.utc)\n",
    "                force = hardpointData[f'measuredForce{index}']\n",
    "                forceData = force.values\n",
    "                forceTimes = hardpointData['timestamp'].values\n",
    "                dispData = imsData[posName].values * 1.0E6\n",
    "                dispTimes = imsData['timestamp'].values\n",
    "                disp = np.interp(forceTimes, dispTimes, dispData)\n",
    "\n",
    "                ax.plot(disp, forceData, label=name)\n",
    "                ax.set_title(f'Hardpoint {index}')\n",
    "                ax.set_ylabel('Force (N)')\n",
    "                ax.set_ylim(-4000, 4000)\n",
    "                ax.set_xlabel(f'{posName} ({unit})')\n",
    "            stiff = stiffnessValues(force, disp)\n",
    "            ax.text(dispData.mean(), -3000, f\"Stiffness = \\n{stiff:.4f} {unit}/N\")\n",
    "            ax.legend(loc='upper left')\n",
    "    pdf.savefig(fig) \n",
    "    plt.clf()\n",
    "pdf.close()\n"
   ]
  },
  {
   "cell_type": "code",
   "execution_count": null,
   "metadata": {},
   "outputs": [],
   "source": []
  }
 ],
 "metadata": {
  "kernelspec": {
   "display_name": "LSST",
   "language": "python",
   "name": "lsst"
  },
  "language_info": {
   "codemirror_mode": {
    "name": "ipython",
    "version": 3
   },
   "file_extension": ".py",
   "mimetype": "text/x-python",
   "name": "python",
   "nbconvert_exporter": "python",
   "pygments_lexer": "ipython3",
   "version": "3.11.9"
  }
 },
 "nbformat": 4,
 "nbformat_minor": 4
}
