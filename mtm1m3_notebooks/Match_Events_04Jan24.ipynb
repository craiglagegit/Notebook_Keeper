{
 "cells": [
  {
   "cell_type": "code",
   "execution_count": null,
   "id": "d9224755-6a89-4b0f-afb2-e6faf940d135",
   "metadata": {
    "execution": {
     "iopub.execute_input": "2024-01-05T12:31:29.170293Z",
     "iopub.status.busy": "2024-01-05T12:31:29.170092Z",
     "iopub.status.idle": "2024-01-05T12:31:29.173838Z",
     "shell.execute_reply": "2024-01-05T12:31:29.173411Z",
     "shell.execute_reply.started": "2024-01-05T12:31:29.170280Z"
    }
   },
   "outputs": [],
   "source": [
    "import sys, time, os, asyncio, glob\n",
    "from datetime import datetime\n",
    "import numpy as np\n",
    "import matplotlib.pyplot as plt\n",
    "from matplotlib.backends.backend_pdf import PdfPages\n",
    "from astropy.time import Time, TimeDelta\n",
    "import pandas as pd\n",
    "from lsst_efd_client import EfdClient\n",
    "\n",
    "from lsst.summit.utils.efdUtils import calcNextDay\n",
    "from lsst.summit.utils import getCurrentDayObs_int, dayObsIntToString\n",
    "from lsst.summit.utils.tmaUtils import TMAEventMaker, getAzimuthElevationDataForEvent\n",
    "from lsst.summit.utils.blockUtils import BlockParser\n",
    "from lsst.summit.utils.efdUtils import getEfdData"
   ]
  },
  {
   "cell_type": "code",
   "execution_count": null,
   "id": "22e1796b-9353-46db-9ec6-2714dd7ffd07",
   "metadata": {
    "execution": {
     "iopub.execute_input": "2024-01-05T12:05:44.691179Z",
     "iopub.status.busy": "2024-01-05T12:05:44.691053Z",
     "iopub.status.idle": "2024-01-05T12:05:45.657392Z",
     "shell.execute_reply": "2024-01-05T12:05:45.656941Z",
     "shell.execute_reply.started": "2024-01-05T12:05:44.691167Z"
    }
   },
   "outputs": [],
   "source": [
    "client = EfdClient(\"usdf_efd\")\n",
    "eventMaker = TMAEventMaker()"
   ]
  },
  {
   "cell_type": "code",
   "execution_count": null,
   "id": "14332a1f-b245-4d1b-91df-2d5d06d4113d",
   "metadata": {
    "execution": {
     "iopub.execute_input": "2024-01-05T12:19:55.942683Z",
     "iopub.status.busy": "2024-01-05T12:19:55.942459Z",
     "iopub.status.idle": "2024-01-05T12:19:55.945300Z",
     "shell.execute_reply": "2024-01-05T12:19:55.944934Z",
     "shell.execute_reply.started": "2024-01-05T12:19:55.942668Z"
    }
   },
   "outputs": [],
   "source": [
    "tests = [[\"2024-01-03T01:45\", \"2024-01-03T02:04\", 20240102, 169, \"01-02 green-green-red-green - 70%\"],\n",
    "         [\"2024-01-03T22:59\", \"2024-01-03T23:14\", 20240103, 178, \"01-03 green-green-red-green - 70%\"]]\n"
   ]
  },
  {
   "cell_type": "code",
   "execution_count": null,
   "id": "1b582439-1c34-48f5-a9bd-10c5cec502f0",
   "metadata": {
    "execution": {
     "iopub.execute_input": "2024-01-05T12:20:02.164183Z",
     "iopub.status.busy": "2024-01-05T12:20:02.163995Z",
     "iopub.status.idle": "2024-01-05T12:20:23.561078Z",
     "shell.execute_reply": "2024-01-05T12:20:23.560561Z",
     "shell.execute_reply.started": "2024-01-05T12:20:02.164169Z"
    }
   },
   "outputs": [],
   "source": [
    "[start02, end02, dayObs02, block02, sheetName02] = tests[0]\n",
    "[start03, end03, dayObs03, block03, sheetName03] = tests[1]\n",
    "events02 = eventMaker.getEvents(dayObs02)\n",
    "events02 = [e for e in events02 if e.relatesTo(block=block02)] \n",
    "events02 = [e for e in events02 if e.begin > start02 and e.end < end02] \n",
    "events03 = eventMaker.getEvents(dayObs03)\n",
    "events03 = [e for e in events03 if e.relatesTo(block=block03)] \n",
    "events03 = [e for e in events03 if e.begin > start03 and e.end < end03] \n",
    "print(len(events02), len(events03))"
   ]
  },
  {
   "cell_type": "code",
   "execution_count": null,
   "id": "3faaf51e-404a-4120-a2b8-64190f126f3e",
   "metadata": {
    "execution": {
     "iopub.execute_input": "2024-01-04T18:59:39.930488Z",
     "iopub.status.busy": "2024-01-04T18:59:39.930294Z",
     "iopub.status.idle": "2024-01-04T18:59:39.933508Z",
     "shell.execute_reply": "2024-01-04T18:59:39.933155Z",
     "shell.execute_reply.started": "2024-01-04T18:59:39.930474Z"
    }
   },
   "outputs": [],
   "source": [
    "type(events02[7])"
   ]
  },
  {
   "cell_type": "code",
   "execution_count": null,
   "id": "e60ab147-15b2-47e0-89f1-e00363581ab9",
   "metadata": {
    "execution": {
     "iopub.execute_input": "2024-01-05T13:06:37.581317Z",
     "iopub.status.busy": "2024-01-05T13:06:37.581021Z",
     "iopub.status.idle": "2024-01-05T13:06:40.623288Z",
     "shell.execute_reply": "2024-01-05T13:06:40.622795Z",
     "shell.execute_reply.started": "2024-01-05T13:06:37.581303Z"
    }
   },
   "outputs": [],
   "source": [
    "dict02 = {}\n",
    "for event in events02:\n",
    "    az, el = getAzimuthElevationDataForEvent(client, event)\n",
    "    subDict = {}\n",
    "    subDict['StartAz'] = az['actualPosition'][0]\n",
    "    subDict['EndAz'] = az['actualPosition'][-1]\n",
    "    subDict['StartEl'] = el['actualPosition'][0]\n",
    "    subDict['EndEl'] = el['actualPosition'][-1]\n",
    "    dict02[event.seqNum] = subDict\n",
    "dict03 = {}\n",
    "for event in events03:\n",
    "    az, el = getAzimuthElevationDataForEvent(client, event)\n",
    "    subDict = {}\n",
    "    subDict['StartAz'] = az['actualPosition'][0]\n",
    "    subDict['EndAz'] = az['actualPosition'][-1]\n",
    "    subDict['StartEl'] = el['actualPosition'][0]\n",
    "    subDict['EndEl'] = el['actualPosition'][-1]\n",
    "    dict03[event.seqNum] = subDict    "
   ]
  },
  {
   "cell_type": "code",
   "execution_count": null,
   "id": "0f63f848-3462-4761-b2f8-2d61d9916db2",
   "metadata": {
    "execution": {
     "iopub.execute_input": "2024-01-05T13:06:46.692455Z",
     "iopub.status.busy": "2024-01-05T13:06:46.692147Z",
     "iopub.status.idle": "2024-01-05T13:06:46.702675Z",
     "shell.execute_reply": "2024-01-05T13:06:46.702286Z",
     "shell.execute_reply.started": "2024-01-05T13:06:46.692441Z"
    }
   },
   "outputs": [],
   "source": [
    "pairs = []\n",
    "for key02 in dict02.keys():\n",
    "    start_az = dict02[key02]['StartAz']\n",
    "    end_az = dict02[key02]['EndAz']\n",
    "    start_el = dict02[key02]['StartEl']\n",
    "    end_el = dict02[key02]['EndEl']\n",
    "\n",
    "    test02_start = int(round(start_az)) * 1e9 + int(round(start_el)) * 1e6\n",
    "    test02_end = int(round(end_az)) * 1e9 + int(round(end_el)) * 1e6\n",
    "\n",
    "    for key03 in dict03.keys():\n",
    "        start_az = dict03[key03]['StartAz']\n",
    "        end_az = dict03[key03]['EndAz']\n",
    "        start_el = dict03[key03]['StartEl']\n",
    "        end_el = dict03[key03]['EndEl']\n",
    "    \n",
    "        test03_start = int(round(start_az)) * 1e9 + int(round(start_el)) * 1e6\n",
    "        test03_end = int(round(end_az)) * 1e9 + int(round(end_el)) * 1e6\n",
    "\n",
    "        if test02_start == test03_start and test02_end == test03_end:\n",
    "            #print(f\"{key02} and {key03} match\")\n",
    "            pairs.append([key02, key03])\n",
    "print(len(pairs))"
   ]
  },
  {
   "cell_type": "code",
   "execution_count": null,
   "id": "824f9146-177e-48d1-81fc-a76a06101f80",
   "metadata": {
    "execution": {
     "iopub.execute_input": "2024-01-05T13:07:38.572724Z",
     "iopub.status.busy": "2024-01-05T13:07:38.572438Z",
     "iopub.status.idle": "2024-01-05T13:07:38.575029Z",
     "shell.execute_reply": "2024-01-05T13:07:38.574657Z",
     "shell.execute_reply.started": "2024-01-05T13:07:38.572712Z"
    }
   },
   "outputs": [],
   "source": [
    "pairs = np.array(pairs)"
   ]
  },
  {
   "cell_type": "code",
   "execution_count": null,
   "id": "9c1f1d0a-7ec8-4213-84a9-cac4e4448c97",
   "metadata": {
    "execution": {
     "iopub.execute_input": "2024-01-05T13:07:47.886685Z",
     "iopub.status.busy": "2024-01-05T13:07:47.886463Z",
     "iopub.status.idle": "2024-01-05T13:07:47.889936Z",
     "shell.execute_reply": "2024-01-05T13:07:47.889574Z",
     "shell.execute_reply.started": "2024-01-05T13:07:47.886671Z"
    }
   },
   "outputs": [],
   "source": [
    "pairs[:,1]"
   ]
  },
  {
   "cell_type": "code",
   "execution_count": null,
   "id": "0cbf03f1-e9ce-4bdc-9b26-d378471d622d",
   "metadata": {
    "execution": {
     "iopub.execute_input": "2024-01-04T19:18:55.667738Z",
     "iopub.status.busy": "2024-01-04T19:18:55.667464Z",
     "iopub.status.idle": "2024-01-04T19:18:55.670616Z",
     "shell.execute_reply": "2024-01-04T19:18:55.670220Z",
     "shell.execute_reply.started": "2024-01-04T19:18:55.667723Z"
    }
   },
   "outputs": [],
   "source": [
    "pair = pairs[12]\n",
    "print(dict02[pair[0]])\n",
    "print(dict03[pair[1]])"
   ]
  },
  {
   "cell_type": "code",
   "execution_count": null,
   "id": "fbeffea3-522a-4257-b0e9-2fe3186581a4",
   "metadata": {
    "execution": {
     "iopub.execute_input": "2024-01-05T12:07:11.413524Z",
     "iopub.status.busy": "2024-01-05T12:07:11.413297Z",
     "iopub.status.idle": "2024-01-05T12:07:24.712561Z",
     "shell.execute_reply": "2024-01-05T12:07:24.712045Z",
     "shell.execute_reply.started": "2024-01-05T12:07:11.413509Z"
    }
   },
   "outputs": [],
   "source": [
    "events = eventMaker.getEvents(20240102)"
   ]
  },
  {
   "cell_type": "code",
   "execution_count": null,
   "id": "127ac504-7d07-485f-a2aa-fae7f421dcd7",
   "metadata": {
    "execution": {
     "iopub.execute_input": "2024-01-05T12:09:27.642677Z",
     "iopub.status.busy": "2024-01-05T12:09:27.642382Z",
     "iopub.status.idle": "2024-01-05T12:09:40.273836Z",
     "shell.execute_reply": "2024-01-05T12:09:40.273403Z",
     "shell.execute_reply.started": "2024-01-05T12:09:27.642662Z"
    }
   },
   "outputs": [],
   "source": [
    "event = eventMaker.getEvent(20240102, 225)"
   ]
  },
  {
   "cell_type": "code",
   "execution_count": null,
   "id": "a07b1c08-0dac-4d27-8a6b-419a4cf269c2",
   "metadata": {
    "execution": {
     "iopub.execute_input": "2024-01-05T12:09:09.329314Z",
     "iopub.status.busy": "2024-01-05T12:09:09.328721Z",
     "iopub.status.idle": "2024-01-05T12:09:09.332744Z",
     "shell.execute_reply": "2024-01-05T12:09:09.332299Z",
     "shell.execute_reply.started": "2024-01-05T12:09:09.329299Z"
    }
   },
   "outputs": [],
   "source": [
    "eventMaker.getEvent?"
   ]
  },
  {
   "cell_type": "code",
   "execution_count": null,
   "id": "4f7b823e-ad16-4af6-9ce6-2175bbe70c5e",
   "metadata": {
    "execution": {
     "iopub.execute_input": "2024-01-05T12:32:40.117150Z",
     "iopub.status.busy": "2024-01-05T12:32:40.116940Z",
     "iopub.status.idle": "2024-01-05T12:32:41.743005Z",
     "shell.execute_reply": "2024-01-05T12:32:41.742582Z",
     "shell.execute_reply.started": "2024-01-05T12:32:40.117137Z"
    }
   },
   "outputs": [],
   "source": [
    "for i, event in enumerate(events02):\n",
    "    start = event.begin\n",
    "    end = event.end\n",
    "    this_ret = await client.select_time_series(\n",
    "        \"lsst.sal.MTM1M3.hardpointActuatorData\",\n",
    "        [\"timestamp\"]\n",
    "        + [f\"measuredForce{hp}\" for hp in range(6)]\n",
    "        + [f\"f{a}\" for a in \"xyz\"]\n",
    "        + [f\"m{a}\" for a in \"xyz\"],\n",
    "        start,\n",
    "        end,\n",
    "        )\n",
    "    if i == 0:\n",
    "        ret = this_ret\n",
    "    else:\n",
    "        ret = pd.concat([ret, this_ret])\n",
    "\n"
   ]
  },
  {
   "cell_type": "code",
   "execution_count": null,
   "id": "4dce5231-3000-4949-b8bd-5acd0a3de814",
   "metadata": {
    "execution": {
     "iopub.execute_input": "2024-01-05T12:42:44.073466Z",
     "iopub.status.busy": "2024-01-05T12:42:44.073273Z",
     "iopub.status.idle": "2024-01-05T12:42:44.076383Z",
     "shell.execute_reply": "2024-01-05T12:42:44.075970Z",
     "shell.execute_reply.started": "2024-01-05T12:42:44.073452Z"
    }
   },
   "outputs": [],
   "source": [
    "test = ret['fx'].values\n",
    "print(len(test))"
   ]
  },
  {
   "cell_type": "code",
   "execution_count": null,
   "id": "4241c642-d7af-4c46-aec0-2e6b865b72c7",
   "metadata": {
    "execution": {
     "iopub.execute_input": "2024-01-05T12:43:13.107623Z",
     "iopub.status.busy": "2024-01-05T12:43:13.107300Z",
     "iopub.status.idle": "2024-01-05T12:43:13.124514Z",
     "shell.execute_reply": "2024-01-05T12:43:13.124053Z",
     "shell.execute_reply.started": "2024-01-05T12:43:13.107606Z"
    }
   },
   "outputs": [],
   "source": [
    "test.append(ret['fy'].values)"
   ]
  },
  {
   "cell_type": "code",
   "execution_count": null,
   "id": "5f3b9e21-5ca9-48ac-b45c-e1e129426711",
   "metadata": {
    "execution": {
     "iopub.execute_input": "2024-01-05T12:27:42.554661Z",
     "iopub.status.busy": "2024-01-05T12:27:42.554454Z",
     "iopub.status.idle": "2024-01-05T12:27:42.557245Z",
     "shell.execute_reply": "2024-01-05T12:27:42.556847Z",
     "shell.execute_reply.started": "2024-01-05T12:27:42.554648Z"
    }
   },
   "outputs": [],
   "source": [
    "event = events[7]"
   ]
  },
  {
   "cell_type": "code",
   "execution_count": null,
   "id": "cc4c7cea-99c5-4215-b6e6-07dbafcd5f20",
   "metadata": {
    "execution": {
     "iopub.execute_input": "2024-01-05T12:27:53.760592Z",
     "iopub.status.busy": "2024-01-05T12:27:53.760393Z",
     "iopub.status.idle": "2024-01-05T12:27:53.763726Z",
     "shell.execute_reply": "2024-01-05T12:27:53.763352Z",
     "shell.execute_reply.started": "2024-01-05T12:27:53.760579Z"
    }
   },
   "outputs": [],
   "source": [
    "event.begin"
   ]
  },
  {
   "cell_type": "code",
   "execution_count": null,
   "id": "acf1ff37-d3d2-4021-88f7-317184e370a8",
   "metadata": {},
   "outputs": [],
   "source": []
  },
  {
   "cell_type": "code",
   "execution_count": null,
   "id": "f783f216-7482-4338-b4b1-a2e002cefcbc",
   "metadata": {},
   "outputs": [],
   "source": [
    "dicts = []\n",
    "for test in tests"
   ]
  },
  {
   "cell_type": "code",
   "execution_count": null,
   "id": "ab2b56b1-6b93-47a4-a4d2-915863da6ac8",
   "metadata": {},
   "outputs": [],
   "source": [
    "dicts = []\n",
    "for test in tests"
   ]
  }
 ],
 "metadata": {
  "kernelspec": {
   "display_name": "LSST",
   "language": "python",
   "name": "lsst"
  },
  "language_info": {
   "codemirror_mode": {
    "name": "ipython",
    "version": 3
   },
   "file_extension": ".py",
   "mimetype": "text/x-python",
   "name": "python",
   "nbconvert_exporter": "python",
   "pygments_lexer": "ipython3",
   "version": "3.11.4"
  }
 },
 "nbformat": 4,
 "nbformat_minor": 5
}
