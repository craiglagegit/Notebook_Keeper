{
 "cells": [
  {
   "cell_type": "markdown",
   "metadata": {},
   "source": [
    "# M1M3 position data\n",
    "Craig Lage - 16-Apr-23 \\\n",
    "Comparing different position measurements."
   ]
  },
  {
   "cell_type": "code",
   "execution_count": null,
   "metadata": {
    "execution": {
     "iopub.execute_input": "2023-08-01T14:43:53.904538Z",
     "iopub.status.busy": "2023-08-01T14:43:53.904260Z",
     "iopub.status.idle": "2023-08-01T14:43:57.189592Z",
     "shell.execute_reply": "2023-08-01T14:43:57.189146Z",
     "shell.execute_reply.started": "2023-08-01T14:43:53.904524Z"
    },
    "tags": []
   },
   "outputs": [],
   "source": [
    "import sys, time, os, asyncio, glob\n",
    "from datetime import datetime\n",
    "import numpy as np\n",
    "import matplotlib.pyplot as plt\n",
    "from matplotlib.backends.backend_pdf import PdfPages\n",
    "import pickle as pkl\n",
    "from astropy.time import Time, TimeDelta\n",
    "import lsst.ts.cRIOpy.M1M3FATable as M1M3FATable\n",
    "from scipy.interpolate import UnivariateSpline\n",
    "from lsst.summit.utils.tmaUtils import TMAEventMaker, TMAState, getSlewsFromEventList\n",
    "from lsst.summit.utils.efdUtils import (makeEfdClient,\n",
    "                                        getEfdData,\n",
    "                                        getMostRecentRowWithDataBefore,\n",
    "                                        efdTimestampToAstropy,\n",
    "                                       )"
   ]
  },
  {
   "cell_type": "code",
   "execution_count": null,
   "metadata": {
    "execution": {
     "iopub.execute_input": "2023-08-01T14:43:57.194604Z",
     "iopub.status.busy": "2023-08-01T14:43:57.194481Z",
     "iopub.status.idle": "2023-08-01T14:43:57.196503Z",
     "shell.execute_reply": "2023-08-01T14:43:57.196127Z",
     "shell.execute_reply.started": "2023-08-01T14:43:57.194593Z"
    },
    "tags": []
   },
   "outputs": [],
   "source": [
    "FATABLE = M1M3FATable.FATABLE"
   ]
  },
  {
   "cell_type": "code",
   "execution_count": null,
   "metadata": {
    "execution": {
     "iopub.execute_input": "2023-08-01T14:44:06.242887Z",
     "iopub.status.busy": "2023-08-01T14:44:06.242582Z",
     "iopub.status.idle": "2023-08-01T14:44:07.571632Z",
     "shell.execute_reply": "2023-08-01T14:44:07.571152Z",
     "shell.execute_reply.started": "2023-08-01T14:44:06.242870Z"
    },
    "tags": []
   },
   "outputs": [],
   "source": [
    "client = makeEfdClient()\n",
    "dayObs = 20230710\n",
    "#dayObs = 20230601\n",
    "eventMaker = TMAEventMaker()\n",
    "events = eventMaker.getEvents(dayObs)\n",
    "slews = [e for e in events if e.type==TMAState.SLEWING]\n",
    "tracks = [e for e in events if e.type==TMAState.TRACKING]\n",
    "print(f'Found {len(slews)} slews and {len(tracks)} tracks')"
   ]
  },
  {
   "cell_type": "code",
   "execution_count": null,
   "metadata": {
    "execution": {
     "iopub.execute_input": "2023-08-01T15:56:43.872790Z",
     "iopub.status.busy": "2023-08-01T15:56:43.872412Z",
     "iopub.status.idle": "2023-08-01T15:58:06.041651Z",
     "shell.execute_reply": "2023-08-01T15:58:06.041295Z",
     "shell.execute_reply.started": "2023-08-01T15:56:43.872775Z"
    },
    "tags": []
   },
   "outputs": [],
   "source": [
    "az_slews = []\n",
    "for slew in slews:\n",
    "    #print(slew.begin, slew.end, slew.duration)\n",
    "    dT = 30.0\n",
    "    start = slew.begin-TimeDelta(dT, format='sec')\n",
    "    end = slew.end+TimeDelta(dT, format='sec')\n",
    "    hardpoint_data = await client.select_time_series(\"lsst.sal.MTM1M3.hardpointActuatorData\", \"*\", start, end)\n",
    "    ims_data = await client.select_time_series(\"lsst.sal.MTM1M3.imsData\", \"*\", start, end)\n",
    "    az = await client.select_time_series(\"lsst.sal.MTMount.azimuth\",\"actualPosition\", start, end)\n",
    "    el = await client.select_time_series(\"lsst.sal.MTMount.elevation\",\"actualPosition\", start, end)\n",
    "    azs = az['actualPosition'].values\n",
    "    dAz = azs[-1] - azs[0]\n",
    "    els = el['actualPosition'].values\n",
    "    dEl = els[-1] - els[0]\n",
    "    if dEl < 1E-5 and dAz > 100.0:\n",
    "        print(slew.begin, slew.end, dAz, dEl, els[0])\n",
    "        az_slews.append(slew)\n"
   ]
  },
  {
   "cell_type": "code",
   "execution_count": null,
   "metadata": {
    "execution": {
     "iopub.execute_input": "2023-08-01T15:58:38.961354Z",
     "iopub.status.busy": "2023-08-01T15:58:38.960832Z",
     "iopub.status.idle": "2023-08-01T15:58:39.402603Z",
     "shell.execute_reply": "2023-08-01T15:58:39.402227Z",
     "shell.execute_reply.started": "2023-08-01T15:58:38.961339Z"
    },
    "tags": []
   },
   "outputs": [],
   "source": [
    "slew = az_slews[3]\n",
    "dT = 30.0\n",
    "start = slew.begin-TimeDelta(dT, format='sec')\n",
    "end = slew.end+TimeDelta(dT, format='sec')\n",
    "#hardpoint_data = await client.select_time_series(\"lsst.sal.MTM1M3.hardpointActuatorData\", \"*\", start, end)\n",
    "ims_data = await client.select_time_series(\"lsst.sal.MTM1M3.imsData\", \"*\", start, end)\n",
    "az = await client.select_time_series(\"lsst.sal.MTMount.azimuth\",\"actualPosition\", start, end)\n",
    "el = await client.select_time_series(\"lsst.sal.MTMount.elevation\",\"actualPosition\", start, end)\n",
    "azs = az['actualPosition'].values\n",
    "dAz = azs[-1] - azs[0]\n",
    "els = el['actualPosition'].values\n",
    "dEl = els[-1] - els[0]\n",
    "timestamp = start.isot.split('.')[0].replace('-','').replace(':','')\n",
    "print(start.isot, end.isot, timestamp)"
   ]
  },
  {
   "cell_type": "code",
   "execution_count": null,
   "metadata": {
    "execution": {
     "iopub.execute_input": "2023-08-01T15:58:42.008197Z",
     "iopub.status.busy": "2023-08-01T15:58:42.007836Z",
     "iopub.status.idle": "2023-08-01T15:58:43.036797Z",
     "shell.execute_reply": "2023-08-01T15:58:43.036477Z",
     "shell.execute_reply.started": "2023-08-01T15:58:42.008184Z"
    },
    "tags": []
   },
   "outputs": [],
   "source": [
    "%matplotlib inline\n",
    "plots = ['xPosition', 'yPosition', 'zPosition', 'xRotation', 'yRotation', 'zRotation']\n",
    "limits = [6.0, 6.0, 1.0, 24.0, 24.0, 24.0]\n",
    "\n",
    "fig, axs = plt.subplots(3,2,figsize=(8,10))\n",
    "plt.subplots_adjust(hspace=0.6, wspace=1.0)\n",
    "plt.suptitle(f\"Mirror position changes during slew: {timestamp}\\nDeltaAz = {dAz:.3f}, DeltaEl = {dEl:.3f}\", fontsize=16)\n",
    "plot_counter = 0\n",
    "for i in range(3):\n",
    "    for j in range(2):\n",
    "        \n",
    "        smoothed_ims_data = ims_data[plots[plot_counter]].rolling(10).mean()\n",
    "        smoothed_ims_data = smoothed_ims_data.dropna()\n",
    "        smoothed_ims_data -= smoothed_ims_data[0]\n",
    "        \n",
    "        if plot_counter > 2:\n",
    "            smoothed_ims_data *= 1E6\n",
    "            unit = 'microDeg'\n",
    "        else:\n",
    "            smoothed_ims_data *= 1E6\n",
    "            unit = 'um'\n",
    "        axs[i][j].set_title(plots[plot_counter])\n",
    "        axs[i][j].set_ylabel(f'IMS ({unit})')\n",
    "        initial_pos = np.median(smoothed_ims_data.values[0:100])\n",
    "        final_pos = np.median(smoothed_ims_data.values[-100:-1])\n",
    "        pos_delta = initial_pos - final_pos\n",
    "        axs[i][j].set_title(plots[plot_counter]+f\"\\n Position Delta = {pos_delta:.1f} {unit}\")\n",
    "\n",
    "        smoothed_ims_data.plot(ax=axs[i][j], color='red', label='IMS')\n",
    "        axs[i][j].plot([smoothed_ims_data.index[0], smoothed_ims_data.index[-1]],\\\n",
    "                [limits[plot_counter], limits[plot_counter]], ls='--', color='k')\n",
    "        axs[i][j].plot([smoothed_ims_data.index[0], smoothed_ims_data.index[-1]],\\\n",
    "                [-limits[plot_counter], -limits[plot_counter]], ls='--', color='k')\n",
    "        plot_counter += 1\n",
    "plt.savefig(f\"/home/c/cslage/u/MTM1M3/data/Position_Data_{timestamp}.png\")"
   ]
  },
  {
   "cell_type": "code",
   "execution_count": null,
   "metadata": {},
   "outputs": [],
   "source": []
  }
 ],
 "metadata": {
  "kernelspec": {
   "display_name": "LSST",
   "language": "python",
   "name": "lsst"
  },
  "language_info": {
   "codemirror_mode": {
    "name": "ipython",
    "version": 3
   },
   "file_extension": ".py",
   "mimetype": "text/x-python",
   "name": "python",
   "nbconvert_exporter": "python",
   "pygments_lexer": "ipython3",
   "version": "3.11.4"
  }
 },
 "nbformat": 4,
 "nbformat_minor": 4
}
