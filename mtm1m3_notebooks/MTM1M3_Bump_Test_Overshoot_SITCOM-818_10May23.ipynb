{
 "cells": [
  {
   "cell_type": "markdown",
   "metadata": {},
   "source": [
    "# M1M3 Bump Test Overshoot\n",
    "Craig Lage - 10-May-23 \\\n",
    "The 17 tons of mirror are supported by 156 pneumatic actuators where 44 are single-axis and provide support only on the axial direction, 100 are dual-axis providing support in the axial and lateral direction, and 12 are dual-axis providing support in the axial and cross lateral directions. \\\n",
    "Positioning is provided by 6 hard points in a hexapod configuration which moves the mirror to a fixed operational position that shall be maintained during telescope operations. The remaining optical elements will be moved relative to this position in order to align the telescope optics. Support and optical figure correction is provided by 112 dual axis and 44 single axis pneumatic actuators. "
   ]
  },
  {
   "cell_type": "code",
   "execution_count": null,
   "metadata": {
    "execution": {
     "iopub.execute_input": "2023-05-10T13:51:52.922052Z",
     "iopub.status.busy": "2023-05-10T13:51:52.921924Z",
     "iopub.status.idle": "2023-05-10T13:51:53.383651Z",
     "shell.execute_reply": "2023-05-10T13:51:53.383044Z",
     "shell.execute_reply.started": "2023-05-10T13:51:52.922039Z"
    },
    "tags": []
   },
   "outputs": [],
   "source": [
    "import sys, time, os, asyncio, glob\n",
    "from datetime import datetime\n",
    "import numpy as np\n",
    "import matplotlib.pyplot as plt\n",
    "from matplotlib.backends.backend_pdf import PdfPages\n",
    "import pickle as pkl\n",
    "from astropy.time import Time, TimeDelta\n",
    "import lsst.ts.cRIOpy.M1M3FATable as M1M3FATable\n",
    "from scipy.interpolate import UnivariateSpline\n",
    "from lsst_efd_client import EfdClient"
   ]
  },
  {
   "cell_type": "code",
   "execution_count": null,
   "metadata": {
    "execution": {
     "iopub.execute_input": "2023-05-10T13:51:53.384623Z",
     "iopub.status.busy": "2023-05-10T13:51:53.384311Z",
     "iopub.status.idle": "2023-05-10T13:51:53.864180Z",
     "shell.execute_reply": "2023-05-10T13:51:53.863714Z",
     "shell.execute_reply.started": "2023-05-10T13:51:53.384608Z"
    },
    "tags": []
   },
   "outputs": [],
   "source": [
    "client = EfdClient('usdf_efd')\n",
    "FATABLE = M1M3FATable.FATABLE"
   ]
  },
  {
   "cell_type": "code",
   "execution_count": null,
   "metadata": {
    "execution": {
     "iopub.execute_input": "2023-05-10T20:35:39.573346Z",
     "iopub.status.busy": "2023-05-10T20:35:39.573114Z",
     "iopub.status.idle": "2023-05-10T20:35:39.576815Z",
     "shell.execute_reply": "2023-05-10T20:35:39.576377Z",
     "shell.execute_reply.started": "2023-05-10T20:35:39.573328Z"
    },
    "tags": []
   },
   "outputs": [],
   "source": [
    "# Times of bump test.  According to Petr, we should use this test after the\n",
    "# maxRateOfChange was reduced.\n",
    "start = Time(\"2023-05-09T22:55:00\", scale='utc')\n",
    "end = Time(\"2023-05-10T02:00:00\", scale='utc')"
   ]
  },
  {
   "cell_type": "code",
   "execution_count": null,
   "metadata": {
    "execution": {
     "iopub.execute_input": "2023-05-10T20:35:55.562788Z",
     "iopub.status.busy": "2023-05-10T20:35:55.562570Z",
     "iopub.status.idle": "2023-05-10T20:35:56.050114Z",
     "shell.execute_reply": "2023-05-10T20:35:56.049577Z",
     "shell.execute_reply.started": "2023-05-10T20:35:55.562773Z"
    },
    "tags": []
   },
   "outputs": [],
   "source": [
    "# Bump test status\n",
    "bumps = await client.select_time_series(\"lsst.sal.MTM1M3.logevent_forceActuatorBumpTestStatus\", \"*\", start, end)"
   ]
  },
  {
   "cell_type": "code",
   "execution_count": null,
   "metadata": {
    "execution": {
     "iopub.execute_input": "2023-05-10T20:36:07.427722Z",
     "iopub.status.busy": "2023-05-10T20:36:07.427502Z",
     "iopub.status.idle": "2023-05-10T20:36:07.437341Z",
     "shell.execute_reply": "2023-05-10T20:36:07.436901Z",
     "shell.execute_reply.started": "2023-05-10T20:36:07.427707Z"
    },
    "tags": []
   },
   "outputs": [],
   "source": [
    "async def plotBumpTestFollowingErrors(fig, bumps, id):\n",
    "    thisBump = bumps[bumps['actuatorId']==id]\n",
    "    index = M1M3FATable.actuatorIDToIndex(id)\n",
    "    primaryBump = f\"primaryTest{FATABLE[index][M1M3FATable.FATABLE_ZINDEX]}\"\n",
    "    primaryFollow = f\"primaryCylinderFollowingError{FATABLE[index][M1M3FATable.FATABLE_ZINDEX]}\"\n",
    "    primaryForce = f\"primaryCylinderForce{FATABLE[index][M1M3FATable.FATABLE_ZINDEX]}\"\n",
    "    if FATABLE[index][M1M3FATable.FATABLE_TYPE] == 'DAA':\n",
    "        secondaryBump = f\"secondaryTest{FATABLE[index][M1M3FATable.FATABLE_SINDEX]}\"\n",
    "        secondaryForce = f\"secondaryCylinderForce{FATABLE[index][M1M3FATable.FATABLE_SINDEX]}\"\n",
    "        secondaryFollow = f\"secondaryCylinderFollowingError{FATABLE[index][M1M3FATable.FATABLE_SINDEX]}\"\n",
    "        secondaryName = FATABLE[index][M1M3FATable.FATABLE_ORIENTATION]\n",
    "    else:\n",
    "        secondaryName = None\n",
    "        secondaryForce = None\n",
    "        secondaryFollow = None\n",
    "    plt.subplots_adjust(wspace=0.3)\n",
    "    plt.suptitle(f\"Bump Test Following Errors. Actuator ID {id}\", fontsize=18)\n",
    "    plotStart = thisBump[thisBump[primaryBump]==2]['timestamp'].values[0] - 1.0\n",
    "    plotEnd = plotStart + 14.0 \n",
    "    start = Time(plotStart, format='unix_tai', scale='tai')\n",
    "    end = Time(plotEnd, format='unix_tai', scale='tai')\n",
    "    forces = await client.select_time_series(\"lsst.sal.MTM1M3.forceActuatorData\", \\\n",
    "                                             [primaryForce, primaryFollow, 'timestamp'], start.utc, end.utc)\n",
    "    timestamp = forces.index[0].isoformat().split('.')[0]\n",
    "    plt.suptitle(f\"Bump Test Following Errors. Actuator ID {id}\\n {timestamp}\", fontsize=18)\n",
    "    times = forces['timestamp'].values\n",
    "    t0 = times[0]\n",
    "    times -= t0\n",
    "    primaryForces = forces[primaryForce].values\n",
    "    primaryErrors = forces[primaryFollow].values\n",
    "    plotStart -= t0\n",
    "    plotEnd -= t0\n",
    "    plt.subplot(2,2,1)\n",
    "    plt.title(\"Primary - Z\")\n",
    "    plt.plot(times, primaryForces, label='Data')\n",
    "    plt.xlim(plotStart, plotEnd)\n",
    "    plt.ylim(-400,400)\n",
    "    plt.xlabel(\"Time (seconds)\")\n",
    "    plt.ylabel(\"Force (nt)\")\n",
    "    plt.legend()\n",
    "    plt.subplot(2,2,3)\n",
    "    plt.title(\"Following Errors\")\n",
    "    plt.plot(times, primaryErrors)\n",
    "    plt.text(5, 350, f\"Max = {np.max(primaryErrors):.1f} nt\")\n",
    "    plt.text(5, -350, f\"Min = {np.min(primaryErrors):.1f} nt\")\n",
    "    plt.xlim(plotStart, plotEnd)\n",
    "    plt.ylim(-400,400)\n",
    "    plt.xlabel(\"Time (seconds)\")\n",
    "    plt.ylabel(\"Following Errors (nt)\")\n",
    "    \n",
    "    if secondaryName is not None:\n",
    "        plotStart = thisBump[thisBump[secondaryBump]==2]['timestamp'].values[0] - 1.0\n",
    "        plotEnd = plotStart + 14.0\n",
    "        start = Time(plotStart, format='unix_tai', scale='tai')\n",
    "        end = Time(plotEnd, format='unix_tai', scale='tai')\n",
    "        forces = await client.select_time_series(\"lsst.sal.MTM1M3.forceActuatorData\", \\\n",
    "                                                 [secondaryForce, secondaryFollow, 'timestamp'], start.utc, end.utc)\n",
    "        times = forces['timestamp'].values\n",
    "        t0 = times[0]\n",
    "        times -= t0\n",
    "        secondaryForces = forces[secondaryForce].values\n",
    "        secondaryErrors = forces[secondaryFollow].values\n",
    "        plotStart -= t0\n",
    "        plotEnd -= t0\n",
    "        plt.subplot(2,2,2)\n",
    "        plt.title(f\"Secondary - {secondaryName}\")\n",
    "        plt.plot(times, secondaryForces, label='Data')\n",
    "        plt.xlim(plotStart, plotEnd)\n",
    "        plt.ylim(-400,400)\n",
    "        plt.xlabel(\"Time (seconds)\")\n",
    "        plt.ylabel(\"Force (nt)\")\n",
    "        plt.legend()\n",
    "        plt.subplot(2,2,4)\n",
    "        plt.title(\"Following Errors\")\n",
    "        plt.plot(times, secondaryErrors)\n",
    "        plt.text(5, 350, f\"Max = {np.max(secondaryErrors):.1f} nt\")\n",
    "        plt.text(5, -350, f\"Min = {np.min(secondaryErrors):.1f} nt\")\n",
    "\n",
    "        plt.xlim(plotStart, plotEnd)\n",
    "        plt.ylim(-400, 400)\n",
    "        plt.xlabel(\"Time (seconds)\")\n",
    "        plt.ylabel(\"Following Errors (nt)\")\n",
    "    else:\n",
    "        plt.subplot(2,2,2)\n",
    "        plt.title(\"No Secondary\")\n",
    "        plt.xticks([])\n",
    "        plt.yticks([])\n",
    "        plt.subplot(2,2,4)\n",
    "        plt.xticks([])\n",
    "        plt.yticks([])\n",
    "    return"
   ]
  },
  {
   "cell_type": "markdown",
   "metadata": {},
   "source": [
    "## First run just one actuator"
   ]
  },
  {
   "cell_type": "code",
   "execution_count": null,
   "metadata": {
    "execution": {
     "iopub.execute_input": "2023-05-10T20:36:28.580758Z",
     "iopub.status.busy": "2023-05-10T20:36:28.580470Z",
     "iopub.status.idle": "2023-05-10T20:36:29.046998Z",
     "shell.execute_reply": "2023-05-10T20:36:29.046467Z",
     "shell.execute_reply.started": "2023-05-10T20:36:28.580744Z"
    },
    "tags": []
   },
   "outputs": [],
   "source": [
    "id = 112\n",
    "fig = plt.figure(figsize=(10,10))\n",
    "await plotBumpTestFollowingErrors(fig, bumps, id)\n",
    "#plt.savefig(f\"/home/c/cslage/u/MTM1M3/data/Bump_Test_Residuals_{id}_28Apr23.png\")"
   ]
  },
  {
   "cell_type": "markdown",
   "metadata": {},
   "source": [
    "# Now run the whole bump test"
   ]
  },
  {
   "cell_type": "code",
   "execution_count": null,
   "metadata": {
    "execution": {
     "iopub.execute_input": "2023-05-10T19:12:05.109886Z",
     "iopub.status.busy": "2023-05-10T19:12:05.109517Z",
     "iopub.status.idle": "2023-05-10T19:12:35.923781Z",
     "shell.execute_reply": "2023-05-10T19:12:35.923310Z",
     "shell.execute_reply.started": "2023-05-10T19:12:05.109870Z"
    },
    "tags": []
   },
   "outputs": [],
   "source": [
    "timestamp = bumps.index[0].isoformat().split('.')[0].replace('-','').replace(':','')\n",
    "pdf = PdfPages(f\"/home/c/cslage/u/MTM1M3/data/Bump_Test_Following_Errors_{timestamp}.pdf\")\n",
    "\n",
    "for index in range(len(FATABLE)):\n",
    "    try:\n",
    "        id = FATABLE[index][M1M3FATable.FATABLE_ID]\n",
    "        fig = plt.figure(figsize=(10,10))\n",
    "        await plotBumpTestFollowingErrors(fig, bumps, id)\n",
    "        pdf.savefig(fig)  # saves the current figure into a pdf page\n",
    "        plt.close()\n",
    "    except:\n",
    "        print(f\"{id} failed!\")\n",
    "        continue\n",
    "pdf.close()\n"
   ]
  },
  {
   "cell_type": "code",
   "execution_count": null,
   "metadata": {
    "execution": {
     "iopub.execute_input": "2023-05-10T21:08:42.349763Z",
     "iopub.status.busy": "2023-05-10T21:08:42.349548Z",
     "iopub.status.idle": "2023-05-10T21:08:42.379566Z",
     "shell.execute_reply": "2023-05-10T21:08:42.379130Z",
     "shell.execute_reply.started": "2023-05-10T21:08:42.349748Z"
    },
    "tags": []
   },
   "outputs": [],
   "source": [
    "id = 112\n",
    "thisBump = bumps[bumps['actuatorId']==id]\n",
    "index = M1M3FATable.actuatorIDToIndex(id)\n",
    "primaryBump = f\"primaryTest{FATABLE[index][M1M3FATable.FATABLE_ZINDEX]}\"\n",
    "primaryFollow = f\"primaryCylinderFollowingError{FATABLE[index][M1M3FATable.FATABLE_ZINDEX]}\"\n",
    "primaryMeasuredForce = f\"primaryCylinderForce{FATABLE[index][M1M3FATable.FATABLE_ZINDEX]}\"\n",
    "primaryAppliedForce = f\"primaryCylinderForces{FATABLE[index][M1M3FATable.FATABLE_ZINDEX]}\"\n",
    "if FATABLE[index][M1M3FATable.FATABLE_TYPE] == 'DAA':\n",
    "    secondaryBump = f\"secondaryTest{FATABLE[index][M1M3FATable.FATABLE_SINDEX]}\"\n",
    "    secondaryForce = f\"secondaryCylinderForces{FATABLE[index][M1M3FATable.FATABLE_SINDEX]}\"\n",
    "    #secondaryFollow = f\"secondaryCylinderFollowingError{FATABLE[index][M1M3FATable.FATABLE_SINDEX]}\"\n",
    "    secondaryName = FATABLE[index][M1M3FATable.FATABLE_ORIENTATION]\n",
    "else:\n",
    "    secondaryName = None\n",
    "    secondaryForce = None\n",
    "    secondaryFollow = None\n",
    "plotStart = thisBump[thisBump[primaryBump]==2]['timestamp'].values[0] - 1.0\n",
    "plotEnd = plotStart + 13.0 \n",
    "start = Time(plotStart, format='unix_tai', scale='tai')\n",
    "end = Time(plotEnd, format='unix_tai', scale='tai')\n",
    "appliedForces = await client.select_time_series(\"lsst.sal.MTM1M3.appliedCylinderForces\", \\\n",
    "                                         [primaryAppliedForce, 'timestamp'], start.utc, end.utc)\n",
    "measuredForces = await client.select_time_series(\"lsst.sal.MTM1M3.forceActuatorData\", \\\n",
    "                                                 [primaryMeasuredForce, primaryFollow, 'timestamp'], start.utc, end.utc)\n",
    "timestamp = forces.index[0].isoformat().split('.')[0]\n",
    "appliedTimes = appliedForces['timestamp'].values\n",
    "at0 = appliedTimes[0]\n",
    "appliedTimes -= at0\n",
    "measuredTimes = measuredForces['timestamp'].values\n",
    "mt0 = measuredTimes[0]\n",
    "measuredTimes -= at0\n",
    " "
   ]
  },
  {
   "cell_type": "code",
   "execution_count": null,
   "metadata": {
    "execution": {
     "iopub.execute_input": "2023-05-10T21:08:52.488674Z",
     "iopub.status.busy": "2023-05-10T21:08:52.488456Z",
     "iopub.status.idle": "2023-05-10T21:08:52.492176Z",
     "shell.execute_reply": "2023-05-10T21:08:52.491710Z",
     "shell.execute_reply.started": "2023-05-10T21:08:52.488660Z"
    },
    "tags": []
   },
   "outputs": [],
   "source": [
    "len(measuredForces)"
   ]
  },
  {
   "cell_type": "code",
   "execution_count": null,
   "metadata": {
    "execution": {
     "iopub.execute_input": "2023-05-10T21:08:56.830923Z",
     "iopub.status.busy": "2023-05-10T21:08:56.830438Z",
     "iopub.status.idle": "2023-05-10T21:08:56.909859Z",
     "shell.execute_reply": "2023-05-10T21:08:56.909431Z",
     "shell.execute_reply.started": "2023-05-10T21:08:56.830902Z"
    },
    "tags": []
   },
   "outputs": [],
   "source": [
    "plt.plot(appliedTimes, appliedForces[primaryAppliedForce] / 1000.0)\n",
    "plt.plot(measuredTimes, measuredForces[primaryMeasuredForce])\n",
    "plt.plot(measuredTimes, measuredForces[primaryFollow])"
   ]
  },
  {
   "cell_type": "code",
   "execution_count": null,
   "metadata": {},
   "outputs": [],
   "source": []
  }
 ],
 "metadata": {
  "kernelspec": {
   "display_name": "LSST",
   "language": "python",
   "name": "lsst"
  },
  "language_info": {
   "codemirror_mode": {
    "name": "ipython",
    "version": 3
   },
   "file_extension": ".py",
   "mimetype": "text/x-python",
   "name": "python",
   "nbconvert_exporter": "python",
   "pygments_lexer": "ipython3",
   "version": "3.11.4"
  }
 },
 "nbformat": 4,
 "nbformat_minor": 4
}
