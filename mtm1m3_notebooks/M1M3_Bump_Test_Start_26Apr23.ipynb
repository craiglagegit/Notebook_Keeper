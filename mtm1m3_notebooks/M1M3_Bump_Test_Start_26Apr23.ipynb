{
 "cells": [
  {
   "cell_type": "markdown",
   "id": "0dc4abd7-af77-4ead-9288-aed26d874224",
   "metadata": {},
   "source": [
    "# M1M3 cell learning\n",
    "Craig Lage - 14-Apr-23 \\\n",
    "The 17 tons of mirror are supported by 156 pneumatic actuators where 44 are single-axis and provide support only on the axial direction, 100 are dual-axis providing support in the axial and lateral direction, and 12 are dual-axis providing support in the axial and cross lateral directions. \\\n",
    "Positioning is provided by 6 hard points in a hexapod configuration which moves the mirror to a fixed operational position that shall be maintained during telescope operations. The remaining optical elements will be moved relative to this position in order to align the telescope optics. Support and optical figure correction is provided by 112 dual axis and 44 single axis pneumatic actuators. "
   ]
  },
  {
   "cell_type": "code",
   "execution_count": null,
   "id": "13a89cd8-1316-4546-8cd0-a277eea7d573",
   "metadata": {
    "execution": {
     "iopub.execute_input": "2023-05-03T14:16:37.031086Z",
     "iopub.status.busy": "2023-05-03T14:16:37.030929Z",
     "iopub.status.idle": "2023-05-03T14:16:37.322691Z",
     "shell.execute_reply": "2023-05-03T14:16:37.322156Z",
     "shell.execute_reply.started": "2023-05-03T14:16:37.031069Z"
    },
    "tags": []
   },
   "outputs": [],
   "source": [
    "import sys, time, os, asyncio, glob\n",
    "from datetime import datetime\n",
    "import numpy as np\n",
    "import matplotlib.pyplot as plt\n",
    "import matplotlib as mpl\n",
    "from matplotlib.colors import LightSource as LS\n",
    "import pickle as pkl\n",
    "from astropy.time import Time, TimeDelta\n",
    "import lsst.ts.cRIOpy.M1M3FATable as M1M3FATable\n",
    "\n",
    "from lsst_efd_client import EfdClient"
   ]
  },
  {
   "cell_type": "code",
   "execution_count": null,
   "id": "55f2fcdd-c572-4f9a-9965-9b5529df4358",
   "metadata": {
    "execution": {
     "iopub.execute_input": "2023-05-03T14:18:01.131536Z",
     "iopub.status.busy": "2023-05-03T14:18:01.131315Z",
     "iopub.status.idle": "2023-05-03T14:18:01.629920Z",
     "shell.execute_reply": "2023-05-03T14:18:01.629383Z",
     "shell.execute_reply.started": "2023-05-03T14:18:01.131519Z"
    },
    "tags": []
   },
   "outputs": [],
   "source": [
    "client = EfdClient('usdf_efd')\n",
    "FATABLE = M1M3FATable.FATABLE"
   ]
  },
  {
   "cell_type": "code",
   "execution_count": null,
   "id": "64151660-9397-4ce7-b3d1-9bc571098b3c",
   "metadata": {
    "execution": {
     "iopub.execute_input": "2023-05-03T14:16:44.375096Z",
     "iopub.status.busy": "2023-05-03T14:16:44.374727Z",
     "iopub.status.idle": "2023-05-03T14:16:44.378426Z",
     "shell.execute_reply": "2023-05-03T14:16:44.377992Z",
     "shell.execute_reply.started": "2023-05-03T14:16:44.375079Z"
    },
    "tags": []
   },
   "outputs": [],
   "source": [
    "# Times of bump test\n",
    "start = Time(\"2020-11-01T00:00:00\", scale='utc')\n",
    "end = Time(\"2023-04-20T00:00:00\", scale='utc')"
   ]
  },
  {
   "cell_type": "code",
   "execution_count": null,
   "id": "e7f1009c-f458-4142-9138-f6c5b57de4b1",
   "metadata": {
    "execution": {
     "iopub.execute_input": "2023-05-03T14:16:53.104463Z",
     "iopub.status.busy": "2023-05-03T14:16:53.104234Z",
     "iopub.status.idle": "2023-05-03T14:17:15.801550Z",
     "shell.execute_reply": "2023-05-03T14:17:15.800994Z",
     "shell.execute_reply.started": "2023-05-03T14:16:53.104445Z"
    },
    "tags": []
   },
   "outputs": [],
   "source": [
    "manyBumps = await client.select_time_series(\"lsst.sal.MTM1M3.logevent_forceActuatorBumpTestStatus\", \"*\", start, end)"
   ]
  },
  {
   "cell_type": "code",
   "execution_count": null,
   "id": "a8fcc74d-da16-47bc-a4b7-ad8c41610898",
   "metadata": {
    "execution": {
     "iopub.execute_input": "2023-05-03T14:17:39.844521Z",
     "iopub.status.busy": "2023-05-03T14:17:39.844300Z",
     "iopub.status.idle": "2023-05-03T14:17:39.847865Z",
     "shell.execute_reply": "2023-05-03T14:17:39.847421Z",
     "shell.execute_reply.started": "2023-05-03T14:17:39.844505Z"
    },
    "tags": []
   },
   "outputs": [],
   "source": [
    "len(manyBumps)"
   ]
  },
  {
   "cell_type": "code",
   "execution_count": null,
   "id": "aa4e67db-833e-487a-a02a-7a1f8276dbeb",
   "metadata": {
    "execution": {
     "iopub.execute_input": "2023-05-03T14:43:21.722007Z",
     "iopub.status.busy": "2023-05-03T14:43:21.721705Z",
     "iopub.status.idle": "2023-05-03T14:43:21.733900Z",
     "shell.execute_reply": "2023-05-03T14:43:21.733557Z",
     "shell.execute_reply.started": "2023-05-03T14:43:21.721990Z"
    },
    "tags": []
   },
   "outputs": [],
   "source": [
    "id = 227\n",
    "theseBumps = manyBumps[manyBumps['actuatorId']==id]\n",
    "index = M1M3FATable.actuatorIDToIndex(id)\n",
    "primaryBump = f\"primaryTest{FATABLE[index][M1M3FATable.FATABLE_ZINDEX]}\"\n",
    "primaryForce = f\"zForce{FATABLE[index][M1M3FATable.FATABLE_ZINDEX]}\"\n",
    "if FATABLE[index][M1M3FATable.FATABLE_TYPE] == 'DAA':\n",
    "    if FATABLE[index][M1M3FATable.FATABLE_ORIENTATION] in ['+Y', '-Y']:\n",
    "        secondaryBump = f\"secondaryTest{FATABLE[index][M1M3FATable.FATABLE_SINDEX]}\"\n",
    "        secondaryForce = f\"yForce{FATABLE[index][M1M3FATable.FATABLE_YINDEX]}\"\n",
    "        secondaryName = FATABLE[index][M1M3FATable.FATABLE_ORIENTATION]\n",
    "    else:\n",
    "        secondaryBump = f\"secondaryTest{FATABLE[index][M1M3FATable.FATABLE_SINDEX]}\"\n",
    "        secondaryForce = f\"xForce{FATABLE[index][M1M3FATable.FATABLE_XINDEX]}\"\n",
    "        secondaryName = FATABLE[index][M1M3FATable.FATABLE_ORIENTATION]\n",
    "else:\n",
    "    secondaryName = None\n",
    "plt.subplots_adjust(wspace=0.3)\n",
    "plt.suptitle(f\"Multiple bump tests Actuator ID {id}\", fontsize=18)\n",
    "\n",
    "# Now find the separate tests\n",
    "times = theseBumps['timestamp'].values\n",
    "startTimes = []\n",
    "endTimes = []\n",
    "for i, time in enumerate(times):\n",
    "    if i == 0:\n",
    "        startTimes.append(time)\n",
    "        continue\n",
    "    if (time - times[i-1]) > 60.0:\n",
    "        startTimes.append(time)\n",
    "        endTimes.append(times[i-1])\n",
    "endTimes.append(times[-1])\n",
    "print(len(startTimes))\n",
    "for time in startTimes:\n",
    "    print(Time(time, format='unix_tai').isot)"
   ]
  },
  {
   "cell_type": "code",
   "execution_count": null,
   "id": "606f6afe-5bcb-47bf-b066-4dd50a239783",
   "metadata": {
    "execution": {
     "iopub.execute_input": "2023-05-03T14:23:06.534274Z",
     "iopub.status.busy": "2023-05-03T14:23:06.533923Z",
     "iopub.status.idle": "2023-05-03T14:23:06.551057Z",
     "shell.execute_reply": "2023-05-03T14:23:06.550633Z",
     "shell.execute_reply.started": "2023-05-03T14:23:06.534251Z"
    },
    "tags": []
   },
   "outputs": [],
   "source": [
    "theseBumps.tail(20)"
   ]
  },
  {
   "cell_type": "code",
   "execution_count": null,
   "id": "b5c02089-c2b6-4bcc-94ab-82e3c28f41a5",
   "metadata": {
    "execution": {
     "iopub.execute_input": "2023-04-28T16:55:33.804367Z",
     "iopub.status.busy": "2023-04-28T16:55:33.803989Z",
     "iopub.status.idle": "2023-04-28T16:55:33.827900Z",
     "shell.execute_reply": "2023-04-28T16:55:33.827459Z",
     "shell.execute_reply.started": "2023-04-28T16:55:33.804347Z"
    },
    "tags": []
   },
   "outputs": [],
   "source": [
    "manyBumps.head(30)"
   ]
  },
  {
   "cell_type": "code",
   "execution_count": null,
   "id": "2697e0b6-ab78-4bea-8862-723c2229c8a9",
   "metadata": {
    "execution": {
     "iopub.execute_input": "2023-04-28T16:55:57.798246Z",
     "iopub.status.busy": "2023-04-28T16:55:57.798035Z",
     "iopub.status.idle": "2023-04-28T16:55:57.801728Z",
     "shell.execute_reply": "2023-04-28T16:55:57.801321Z",
     "shell.execute_reply.started": "2023-04-28T16:55:57.798230Z"
    },
    "tags": []
   },
   "outputs": [],
   "source": [
    "theseBumps = manyBumps[manyBumps['actuatorId']==227]"
   ]
  },
  {
   "cell_type": "code",
   "execution_count": null,
   "id": "d0ef18d3-8bbd-4b52-a772-cf61b9c3a75d",
   "metadata": {
    "execution": {
     "iopub.execute_input": "2023-04-28T16:55:58.702371Z",
     "iopub.status.busy": "2023-04-28T16:55:58.701663Z",
     "iopub.status.idle": "2023-04-28T16:55:58.705822Z",
     "shell.execute_reply": "2023-04-28T16:55:58.705336Z",
     "shell.execute_reply.started": "2023-04-28T16:55:58.702348Z"
    },
    "tags": []
   },
   "outputs": [],
   "source": [
    "len(theseBumps)"
   ]
  },
  {
   "cell_type": "code",
   "execution_count": null,
   "id": "192d6dcd-42c6-4d28-b380-ff3e33777c7c",
   "metadata": {
    "execution": {
     "iopub.execute_input": "2023-04-28T16:56:00.562966Z",
     "iopub.status.busy": "2023-04-28T16:56:00.562745Z",
     "iopub.status.idle": "2023-04-28T16:56:00.566830Z",
     "shell.execute_reply": "2023-04-28T16:56:00.566395Z",
     "shell.execute_reply.started": "2023-04-28T16:56:00.562949Z"
    },
    "tags": []
   },
   "outputs": [],
   "source": [
    "times = theseBumps['timestamp'].values\n",
    "startList = []\n",
    "endList = []\n",
    "for i, time in enumerate(times):\n",
    "    if i == 0:\n",
    "        startList.append(time)\n",
    "        continue\n",
    "    if (time - times[i-1]) > 60.0:\n",
    "        startList.append(time)\n",
    "        endList.append(times[i-1])\n",
    "endList.append(times[-1])        \n",
    "print(len(startList), len(endList))\n"
   ]
  },
  {
   "cell_type": "code",
   "execution_count": null,
   "id": "b31735ab-895a-49fe-b013-5773e5302ee8",
   "metadata": {
    "execution": {
     "iopub.execute_input": "2023-04-28T16:56:03.020786Z",
     "iopub.status.busy": "2023-04-28T16:56:03.020560Z",
     "iopub.status.idle": "2023-04-28T16:56:03.024012Z",
     "shell.execute_reply": "2023-04-28T16:56:03.023511Z",
     "shell.execute_reply.started": "2023-04-28T16:56:03.020769Z"
    },
    "tags": []
   },
   "outputs": [],
   "source": [
    "for i in range(len(startList)):\n",
    "    print(i, endList[i] - startList[i])"
   ]
  },
  {
   "cell_type": "code",
   "execution_count": null,
   "id": "155150cc-051c-46b1-b2b2-2a80cfd57163",
   "metadata": {},
   "outputs": [],
   "source": []
  }
 ],
 "metadata": {
  "kernelspec": {
   "display_name": "LSST",
   "language": "python",
   "name": "lsst"
  },
  "language_info": {
   "codemirror_mode": {
    "name": "ipython",
    "version": 3
   },
   "file_extension": ".py",
   "mimetype": "text/x-python",
   "name": "python",
   "nbconvert_exporter": "python",
   "pygments_lexer": "ipython3",
   "version": "3.10.10"
  }
 },
 "nbformat": 4,
 "nbformat_minor": 5
}
