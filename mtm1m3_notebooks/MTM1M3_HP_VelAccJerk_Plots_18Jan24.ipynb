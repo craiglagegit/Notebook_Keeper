{
 "cells": [
  {
   "cell_type": "markdown",
   "metadata": {},
   "source": [
    "# M1M3 actuator movies\n",
    "Craig Lage - 07-Jan-24 \\\n",
    "This code plots the M1M3 force actuator errors during a slew."
   ]
  },
  {
   "cell_type": "code",
   "execution_count": null,
   "metadata": {
    "execution": {
     "iopub.execute_input": "2024-01-18T12:52:02.425961Z",
     "iopub.status.busy": "2024-01-18T12:52:02.425651Z",
     "iopub.status.idle": "2024-01-18T12:52:09.212182Z",
     "shell.execute_reply": "2024-01-18T12:52:09.211727Z",
     "shell.execute_reply.started": "2024-01-18T12:52:02.425942Z"
    },
    "tags": []
   },
   "outputs": [],
   "source": [
    "import sys, time, os, asyncio\n",
    "import numpy as np\n",
    "import matplotlib.pyplot as plt\n",
    "%matplotlib inline\n",
    "from astropy.time import Time, TimeDelta\n",
    "from scipy.interpolate import UnivariateSpline\n",
    "from lsst_efd_client import EfdClient\n",
    "from lsst.summit.utils.tmaUtils import TMAEventMaker"
   ]
  },
  {
   "cell_type": "markdown",
   "metadata": {},
   "source": [
    "## Set up the necessary subroutines"
   ]
  },
  {
   "cell_type": "code",
   "execution_count": null,
   "metadata": {
    "execution": {
     "iopub.execute_input": "2024-01-18T16:00:14.822407Z",
     "iopub.status.busy": "2024-01-18T16:00:14.822197Z",
     "iopub.status.idle": "2024-01-18T16:00:14.833419Z",
     "shell.execute_reply": "2024-01-18T16:00:14.833125Z",
     "shell.execute_reply.started": "2024-01-18T16:00:14.822391Z"
    },
    "tags": []
   },
   "outputs": [],
   "source": [
    "def hardPointPlot(df, ax):\n",
    "    ax.set_title(\"Hardpoint forces\")\n",
    "    ax.set_ylabel(\"measuredForce(N)\")\n",
    "    ax.set_ylim(-3500, 3500)\n",
    "    times = df['timestamp'].values\n",
    "    for i in range(6):\n",
    "        data = df[f'measuredForce{i}'].values\n",
    "        ax.plot(times, data, label=f'HP{i}')\n",
    "    ax.set_xticks([])    \n",
    "    ax.plot([times[0], times[-1]], [3000, 3000], color='red')\n",
    "    ax.plot([times[0], times[-1]], [-3000, -3000], color='red')\n",
    "    ax.plot([times[0], times[-1]], [1000, 1000], ls='--', color='blue')\n",
    "    ax.plot([times[0], times[-1]], [-1000, -1000], ls='--', color='blue')\n",
    "    ax.legend(loc='upper left', fontsize=8)\n",
    "    return\n",
    "\n",
    "def TMAPlots(plotAz, plotEl, axP, axV, axA, axJ):\n",
    "    smoothingFactor = 0.40 # In spline creation\n",
    "    smoothingFactor2 = 0.0\n",
    "    kernelSize = 5 # In convolution\n",
    "    kernel = np.ones(kernelSize) / kernelSize\n",
    "    # Now calculates the spline fit and differentiate it to get the acceleration and jerk\n",
    "    azPs = plotAz['actualPosition'].values\n",
    "    azVs = plotAz['actualVelocity'].values\n",
    "    azXs = plotAz['timestamp'].values - plotAz['timestamp'].values[0]  \n",
    "    elPs = plotEl['actualPosition'].values\n",
    "    elVs = plotEl['actualVelocity'].values\n",
    "    elXs = plotEl['timestamp'].values - plotEl['timestamp'].values[0]\n",
    "    plotStart = azXs[0] + 1.0\n",
    "    plotEnd = azXs[-1] - 1.0\n",
    "    \n",
    "    plotAzXs = np.linspace(azXs[0], azXs[-1], 2000)\n",
    "    plotElXs = np.linspace(elXs[0], elXs[-1], 2000)\n",
    "    azPSpline = UnivariateSpline(azXs, azPs, s=0)\n",
    "    azVelSpline1 = UnivariateSpline(azXs, azVs, s=smoothingFactor) \n",
    "    # Now smooth the derivative before differentiating again\n",
    "    smoothedAzVel = np.convolve(azVelSpline1(plotAzXs), kernel, mode='same')\n",
    "    azVelSpline = UnivariateSpline(plotAzXs, smoothedAzVel, s=smoothingFactor2)\n",
    "    azAccSpline1 = azVelSpline.derivative(n=1)\n",
    "    smoothedAzAcc = np.convolve(azAccSpline1(plotAzXs), kernel, mode='same')\n",
    "    # Now smooth the derivative before differentiating again\n",
    "    azAccSpline = UnivariateSpline(plotAzXs, smoothedAzAcc, s=smoothingFactor2)\n",
    "    azJerkSpline = azAccSpline.derivative(n=1) \n",
    "    elPSpline = UnivariateSpline(elXs, elPs, s=0)\n",
    "    elVelSpline1 = UnivariateSpline(elXs, elVs, s=smoothingFactor)\n",
    "    # Now smooth the derivative before differentiating again\n",
    "    smoothedElVel = np.convolve(elVelSpline1(plotElXs), kernel, mode='same')\n",
    "    elVelSpline = UnivariateSpline(plotElXs, smoothedElVel, s=smoothingFactor2)\n",
    "    elAccSpline1 = elVelSpline.derivative(n=1)\n",
    "    smoothedElAcc = np.convolve(elAccSpline1(plotElXs), kernel, mode='same')                \n",
    "    # Now smooth the derivative before differentiating again\n",
    "    elAccSpline = UnivariateSpline(plotElXs, smoothedElAcc, s=smoothingFactor2)\n",
    "    elJerkSpline = elAccSpline.derivative(n=1) \n",
    "    maxAzAccel = np.max(abs(azAccSpline(plotAzXs)))\n",
    "    maxAzJerk = np.max(abs(azJerkSpline(plotAzXs)))\n",
    "    maxElAccel = np.max(abs(elAccSpline(plotAzXs)))\n",
    "    maxElJerk = np.max(abs(elJerkSpline(plotAzXs)))\n",
    "\n",
    "    axP.plot(plotAzXs, azPSpline(plotAzXs), lw=3, color='r')\n",
    "    axP.scatter(azXs, azPs, marker='x', color='r', s=100)\n",
    "    axP.set_ylabel(\"Azimuth (deg)\", color='r')\n",
    "    axP.set_xticks([])\n",
    "    axP2 = axP.twinx()\n",
    "    axP2.plot(plotElXs, elPSpline(plotElXs), lw=3, color='g')\n",
    "    axP2.scatter(elXs, elPs, marker='x', color='g', s=100)\n",
    "    axP2.set_ylabel(\"Elevation (deg)\", color='g')\n",
    "\n",
    "    axV.plot(plotAzXs, azVelSpline(plotAzXs), lw=3, color='r')\n",
    "    axV.scatter(azXs, azVs, marker='x', color='r', s=100)\n",
    "    axV.set_ylabel(\"Azimuth Vel(deg/sec)\", color='r')\n",
    "    axV.set_xticks([])\n",
    "    axV2 = axV.twinx()\n",
    "    axV2.plot(plotElXs, elVelSpline(plotElXs), lw=3, color='g')\n",
    "    axV2.scatter(elXs, elVs, marker='x', color='g', s=100)\n",
    "    axV2.set_ylabel(\"Elevation Vel(deg/sec)\", color='g')\n",
    "\n",
    "    axA.plot(plotAzXs, azAccSpline(plotAzXs), lw=3, color='r', label=f\"Max Acc={maxAzAccel:.1f}\")\n",
    "    axA.set_ylabel(\"Az Accel(deg/sec^2)\", color='r')\n",
    "    axA.set_xticks([])\n",
    "    axA.legend(loc='upper left')\n",
    "    axA2 = axA.twinx()\n",
    "    axA2.plot(plotElXs, elAccSpline(plotElXs), lw=3, color='g', label=f\"Max Acc={maxElAccel:.1f}\")\n",
    "    axA2.set_ylabel(\"El Accel(deg/sec^2)\", color='g')\n",
    "    axA2.legend(loc='upper right')\n",
    "    \n",
    "    axJ.plot(plotAzXs, azJerkSpline(plotAzXs), lw=3, color='r', label=f\"Max Jerk={maxAzJerk:.1f}\")\n",
    "    axJ.set_ylabel(\"Az Jerk(deg/sec^3)\", color='r')\n",
    "    axJ.legend(loc='upper left')\n",
    "    axJ2 = axJ.twinx()\n",
    "    axJ2.plot(plotElXs, elJerkSpline(plotElXs), lw=3, color='g', label=f\"Max Jerk={maxElJerk:.1f}\")\n",
    "    axJ2.set_ylabel(\"El Jerk(deg/sec^3)\", color='g')\n",
    "    axJ2.legend(loc='upper right')\n",
    "    axJ.set_xlabel(\"Time(sec)\")\n",
    "\n",
    "    return\n"
   ]
  },
  {
   "cell_type": "markdown",
   "metadata": {},
   "source": [
    "## Now generate the plots"
   ]
  },
  {
   "cell_type": "code",
   "execution_count": null,
   "metadata": {
    "execution": {
     "iopub.execute_input": "2024-01-18T16:00:16.099532Z",
     "iopub.status.busy": "2024-01-18T16:00:16.099274Z",
     "iopub.status.idle": "2024-01-18T16:00:19.252941Z",
     "shell.execute_reply": "2024-01-18T16:00:19.252440Z",
     "shell.execute_reply.started": "2024-01-18T16:00:16.099518Z"
    }
   },
   "outputs": [],
   "source": [
    "%matplotlib inline\n",
    "client = EfdClient('usdf_efd')\n",
    "dayObs = 20240102\n",
    "seqNum = 1294\n",
    "dayObs = 20240109\n",
    "seqNum = 147\n",
    "dayObs = 20240104\n",
    "seqNum = 325\n",
    "\n",
    "eventMaker = TMAEventMaker()\n",
    "event = eventMaker.getEvent(dayObs, seqNum)\n",
    "start = event.begin\n",
    "end = event.end\n",
    "\n",
    "padStart = 2.0\n",
    "plotStart = start - TimeDelta(padStart, format='sec') \n",
    "padEnd = 2.0\n",
    "plotEnd = end + TimeDelta(padEnd, format='sec') \n",
    "hardpoints = await client.select_time_series(\"lsst.sal.MTM1M3.hardpointActuatorData\", \"*\", plotStart, plotEnd)\n",
    "az = await client.select_time_series('lsst.sal.MTMount.azimuth', \\\n",
    "                                            ['*'],  plotStart, plotEnd)\n",
    "el = await client.select_time_series('lsst.sal.MTMount.elevation', \\\n",
    "                                            ['*'],  plotStart, plotEnd) \n",
    "\n",
    "fig = plt.figure(figsize=(8,12))\n",
    "fig.suptitle(f\"Hardpoints and Vel/Acc/Jerks {dayObs} - seqNum {seqNum}\", y=0.90)\n",
    "axHP = fig.add_axes((0.1, 0.70, 0.8, 0.15))\n",
    "hardPointPlot(hardpoints, axHP)\n",
    "axP = fig.add_axes((0.1, 0.55, 0.8, 0.15))\n",
    "axV = fig.add_axes((0.1, 0.40, 0.8, 0.15))\n",
    "axA = fig.add_axes((0.1, 0.25, 0.8, 0.15))\n",
    "axJ = fig.add_axes((0.1, 0.10, 0.8, 0.15))\n",
    "TMAPlots(az, el, axP, axV, axA, axJ)\n",
    "plt.savefig(f\"/home/c/cslage/u/MTM1M3/data/HP_VelAccJerk_Plots_{dayObs}_{seqNum}.png\")"
   ]
  },
  {
   "cell_type": "code",
   "execution_count": null,
   "metadata": {},
   "outputs": [],
   "source": []
  }
 ],
 "metadata": {
  "kernelspec": {
   "display_name": "LSST",
   "language": "python",
   "name": "lsst"
  },
  "language_info": {
   "codemirror_mode": {
    "name": "ipython",
    "version": 3
   },
   "file_extension": ".py",
   "mimetype": "text/x-python",
   "name": "python",
   "nbconvert_exporter": "python",
   "pygments_lexer": "ipython3",
   "version": "3.11.4"
  }
 },
 "nbformat": 4,
 "nbformat_minor": 4
}
