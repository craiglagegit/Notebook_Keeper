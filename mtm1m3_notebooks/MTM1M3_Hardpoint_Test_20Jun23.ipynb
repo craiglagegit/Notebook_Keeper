{
 "cells": [
  {
   "cell_type": "markdown",
   "metadata": {},
   "source": [
    "# M1M3 hardpoint learning\n",
    "Craig Lage - 14-Apr-23 \\\n",
    "The 17 tons of mirror are supported by 156 pneumatic actuators where 44 are single-axis and provide support only on the axial direction, 100 are dual-axis providing support in the axial and lateral direction, and 12 are dual-axis providing support in the axial and cross lateral directions. \\\n",
    "Positioning is provided by 6 hard points in a hexapod configuration which moves the mirror to a fixed operational position that shall be maintained during telescope operations. The remaining optical elements will be moved relative to this position in order to align the telescope optics. Support and optical figure correction is provided by 112 dual axis and 44 single axis pneumatic actuators. "
   ]
  },
  {
   "cell_type": "code",
   "execution_count": null,
   "metadata": {
    "execution": {
     "iopub.execute_input": "2023-06-20T14:18:46.807011Z",
     "iopub.status.busy": "2023-06-20T14:18:46.806882Z",
     "iopub.status.idle": "2023-06-20T14:18:47.600563Z",
     "shell.execute_reply": "2023-06-20T14:18:47.600021Z",
     "shell.execute_reply.started": "2023-06-20T14:18:46.806998Z"
    },
    "tags": []
   },
   "outputs": [],
   "source": [
    "import sys, time, os, asyncio, glob\n",
    "from datetime import datetime\n",
    "import numpy as np\n",
    "import matplotlib.pyplot as plt\n",
    "from matplotlib.backends.backend_pdf import PdfPages\n",
    "import pickle as pkl\n",
    "from astropy.time import Time, TimeDelta\n",
    "import lsst.ts.cRIOpy.M1M3FATable as M1M3FATable\n",
    "from scipy.interpolate import UnivariateSpline\n",
    "from lsst_efd_client import EfdClient"
   ]
  },
  {
   "cell_type": "code",
   "execution_count": null,
   "metadata": {
    "execution": {
     "iopub.execute_input": "2023-06-20T14:18:47.603289Z",
     "iopub.status.busy": "2023-06-20T14:18:47.603128Z",
     "iopub.status.idle": "2023-06-20T14:18:48.214112Z",
     "shell.execute_reply": "2023-06-20T14:18:48.213589Z",
     "shell.execute_reply.started": "2023-06-20T14:18:47.603273Z"
    },
    "tags": []
   },
   "outputs": [],
   "source": [
    "client = EfdClient('usdf_efd')\n",
    "FATABLE = M1M3FATable.FATABLE"
   ]
  },
  {
   "cell_type": "code",
   "execution_count": null,
   "metadata": {
    "execution": {
     "iopub.execute_input": "2023-06-20T14:18:48.216523Z",
     "iopub.status.busy": "2023-06-20T14:18:48.216290Z",
     "iopub.status.idle": "2023-06-20T14:18:48.219564Z",
     "shell.execute_reply": "2023-06-20T14:18:48.219147Z",
     "shell.execute_reply.started": "2023-06-20T14:18:48.216508Z"
    },
    "tags": []
   },
   "outputs": [],
   "source": [
    "# Times of breakaway test\n",
    "start = Time(\"2023-05-03T15:00:00\", scale='utc')\n",
    "end = Time(\"2023-05-03T17:00:00\", scale='utc')"
   ]
  },
  {
   "cell_type": "code",
   "execution_count": null,
   "metadata": {
    "execution": {
     "iopub.execute_input": "2023-06-20T14:18:48.235888Z",
     "iopub.status.busy": "2023-06-20T14:18:48.235670Z",
     "iopub.status.idle": "2023-06-20T14:18:48.260364Z",
     "shell.execute_reply": "2023-06-20T14:18:48.259951Z",
     "shell.execute_reply.started": "2023-06-20T14:18:48.235876Z"
    },
    "tags": []
   },
   "outputs": [],
   "source": [
    "hardpoints = await client.select_time_series(\"lsst.sal.MTM1M3.logevent_hardpointTestStatus\", \"*\", start, end)"
   ]
  },
  {
   "cell_type": "code",
   "execution_count": null,
   "metadata": {
    "execution": {
     "iopub.execute_input": "2023-06-20T14:18:54.005017Z",
     "iopub.status.busy": "2023-06-20T14:18:54.004611Z",
     "iopub.status.idle": "2023-06-20T14:18:54.008659Z",
     "shell.execute_reply": "2023-06-20T14:18:54.008187Z",
     "shell.execute_reply.started": "2023-06-20T14:18:54.004998Z"
    },
    "tags": []
   },
   "outputs": [],
   "source": [
    "len(hardpoints)"
   ]
  },
  {
   "cell_type": "code",
   "execution_count": null,
   "metadata": {
    "execution": {
     "iopub.execute_input": "2023-06-20T14:19:00.650068Z",
     "iopub.status.busy": "2023-06-20T14:19:00.649836Z",
     "iopub.status.idle": "2023-06-20T14:19:00.653571Z",
     "shell.execute_reply": "2023-06-20T14:19:00.653131Z",
     "shell.execute_reply.started": "2023-06-20T14:19:00.650052Z"
    },
    "tags": []
   },
   "outputs": [],
   "source": [
    "hardpoints.columns"
   ]
  },
  {
   "cell_type": "markdown",
   "metadata": {},
   "source": [
    "## class HardpointTest(enum.IntEnum): \n",
    "    NOTTESTED = 1 \n",
    "    MOVINGNEGATIVE = 2 \n",
    "    TESTINGPOSITIVE = 3 \n",
    "    TESTINGNEGATIVE = 4 \n",
    "    MOVINGREFERENCE = 5 \n",
    "    PASSED = 6 \n",
    "    FAILED = 7 "
   ]
  },
  {
   "cell_type": "code",
   "execution_count": null,
   "metadata": {
    "tags": []
   },
   "outputs": [],
   "source": [
    "for i in range(6):\n",
    "    column = f\"testState{i}\"\n",
    "    hardpoints[column].plot()"
   ]
  },
  {
   "cell_type": "markdown",
   "metadata": {},
   "source": [
    "## First look at the forces and displacements during the hardpoint breakaway test"
   ]
  },
  {
   "cell_type": "code",
   "execution_count": null,
   "metadata": {
    "tags": []
   },
   "outputs": [],
   "source": [
    "nx = 3; ny = 2\n",
    "fig, axs = plt.subplots(nx, ny, figsize=(8,10))\n",
    "plt.subplots_adjust(hspace=0.5, wspace=0.5)\n",
    "timestamp = hardpoints.index[0].isoformat().split('.')[0].replace('-','').replace(':','')\n",
    "plt.suptitle(f\"Hardpoints tests {timestamp}\")\n",
    "for i in range(nx):\n",
    "    for j in range(ny):\n",
    "        ax = axs[i,j]\n",
    "        index = i * ny + j\n",
    "        plotStart = hardpoints[hardpoints[f'testState{index}']==2]['private_kafkaStamp'][0] - 1.0\n",
    "        plotEnd = hardpoints[hardpoints[f'testState{index}']==6]['private_kafkaStamp'][0] + 1.0\n",
    "        testingPositive = hardpoints[hardpoints[f'testState{index}']==3]['private_kafkaStamp'][0]\n",
    "        testingPositive = Time(testingPositive, format='unix_tai', scale='tai').utc.isot\n",
    "        testingNegative = hardpoints[hardpoints[f'testState{index}']==4]['private_kafkaStamp'][0]\n",
    "        testingNegative = Time(testingNegative, format='unix_tai', scale='tai').utc.isot\n",
    "        movRef = hardpoints[hardpoints[f'testState{index}']==5]['private_kafkaStamp'][0]\n",
    "        movRef = Time(movRef, format='unix_tai', scale='tai').utc.isot\n",
    "        start = Time(plotStart, format='unix_tai', scale='tai')\n",
    "        end = Time(plotEnd, format='unix_tai', scale='tai')\n",
    "        hardpointData = await client.select_time_series(\"lsst.sal.MTM1M3.hardpointActuatorData\", \"*\", start.utc, end.utc)\n",
    "        hardpointData[f'displacement{index}'].plot(ax=ax, color='green', label='Displacement')\n",
    "        ax.set_ylim(-0.01,0.025)\n",
    "        ax.axvline(testingPositive, ls='--')\n",
    "        ax.axvline(testingNegative, ls='--')\n",
    "        ax.axvline(movRef, ls='--')\n",
    "        ax2 = ax.twinx()\n",
    "        hardpointData[f'measuredForce{index}'].plot(ax=ax2, color='red', label='Force')\n",
    "        ax.set_title(f'Hardpoint {index}')\n",
    "        ax.set_ylabel('Displacement (m?)')\n",
    "        ax.legend(loc='upper left', fontsize=6)\n",
    "        ax2.legend(loc='upper right', fontsize=6)\n",
    "        ax2.set_ylim(-4000, 4000)\n",
    "        ax2.set_ylabel('Force (nt)')\n",
    "plt.savefig(f\"/home/c/cslage/u/MTM1M3/data/Hardpoint_Test{timestamp}.pdf\")"
   ]
  },
  {
   "cell_type": "markdown",
   "metadata": {},
   "source": [
    "## Look at the hardpoint displacements"
   ]
  },
  {
   "cell_type": "code",
   "execution_count": null,
   "metadata": {
    "tags": []
   },
   "outputs": [],
   "source": [
    "plt.subplot(2,1,1)\n",
    "hardpointData['xPosition'].plot(label='X')\n",
    "hardpointData['yPosition'].plot(label='Y')\n",
    "hardpointData['zPosition'].plot(label='Z')\n",
    "plt.legend()\n",
    "plt.subplot(2,1,2)\n",
    "hardpointData['xRotation'].plot(label='XRot')\n",
    "hardpointData['yRotation'].plot(label='YRot')\n",
    "hardpointData['zRotation'].plot(label='ZRot')\n",
    "plt.legend()"
   ]
  },
  {
   "cell_type": "markdown",
   "metadata": {},
   "source": [
    "## Now blow up the region where the force changes rapidly"
   ]
  },
  {
   "cell_type": "code",
   "execution_count": null,
   "metadata": {
    "tags": []
   },
   "outputs": [],
   "source": [
    "states = [['Pos',3,4], ['Neg',4,5]]\n",
    "nx = 3; ny = 2\n",
    "tPlot = 15.0\n",
    "fig, axs = plt.subplots(nx, ny, figsize=(8,10))\n",
    "plt.subplots_adjust(hspace=0.5, wspace=0.5)\n",
    "timestamp = hardpoints.index[0].isoformat().split('.')[0].replace('-','').replace(':','')\n",
    "plt.suptitle(f\"Hardpoints tests {timestamp}\")\n",
    "for i in range(nx):\n",
    "    for j in range(ny):\n",
    "        ax = axs[i,j]\n",
    "        index = i * ny + j\n",
    "        for [name,startState, endState] in states:\n",
    "            getStart = hardpoints[hardpoints[f'testState{index}']==startState]['private_kafkaStamp'][0]\n",
    "            getEnd = hardpoints[hardpoints[f'testState{index}']==endState]['private_kafkaStamp'][0]\n",
    "            start = Time(getStart, format='unix_tai', scale='tai')\n",
    "            end = Time(getEnd, format='unix_tai', scale='tai')\n",
    "            hardpointData = await client.select_time_series(\"lsst.sal.MTM1M3.hardpointActuatorData\", \\\n",
    "                            [f'measuredForce{index}', 'timestamp'], start.utc, end.utc)\n",
    "            plotStart = hardpointData.loc[abs(hardpointData[f'measuredForce{index}']) < 100.0]['timestamp'][-1] - tPlot/2.0\n",
    "            plotEnd = plotStart + tPlot\n",
    "            start = Time(plotStart, format='unix_tai', scale='tai')\n",
    "            end = Time(plotEnd, format='unix_tai', scale='tai')\n",
    "            hardpointData = await client.select_time_series(\"lsst.sal.MTM1M3.hardpointActuatorData\", \\\n",
    "                            [f'displacement{index}', f'measuredForce{index}'], start.utc, end.utc)\n",
    "            force = hardpointData[f'measuredForce{index}']\n",
    "            disp = hardpointData[f'displacement{index}']\n",
    "            ax.plot(disp, force, label=name)\n",
    "            ax.set_title(f'Hardpoint {index}')\n",
    "            ax.set_ylabel('Force (nt)')\n",
    "            ax.set_ylim(-4000, 4000)\n",
    "            ax.set_xlabel('Displacement(m)')\n",
    "        ax.legend(loc='upper left')\n",
    "plt.savefig(f\"/home/c/cslage/u/MTM1M3/data/Hardpoint_Test_Blowup_{timestamp}.pdf\")"
   ]
  },
  {
   "cell_type": "markdown",
   "metadata": {},
   "source": [
    "## Now look at the hardpoint forces during the force balance test"
   ]
  },
  {
   "cell_type": "code",
   "execution_count": null,
   "metadata": {
    "tags": []
   },
   "outputs": [],
   "source": [
    "# Times of force balance test\n",
    "start = Time(\"2023-04-18 16:10:00Z\", scale='utc')\n",
    "end = Time(\"2023-04-18 16:15:00Z\", scale='utc')"
   ]
  },
  {
   "cell_type": "code",
   "execution_count": null,
   "metadata": {
    "tags": []
   },
   "outputs": [],
   "source": [
    "hardpoint_data = await client.select_time_series(\"lsst.sal.MTM1M3.hardpointActuatorData\", \"*\", start, end)"
   ]
  },
  {
   "cell_type": "code",
   "execution_count": null,
   "metadata": {
    "tags": []
   },
   "outputs": [],
   "source": [
    "plots = [f'measuredForce{i}' for i in range(6)]\n",
    "fig, axs = plt.subplots(3,2,figsize=(8,10))\n",
    "plt.subplots_adjust(hspace=0.6, wspace=0.3)\n",
    "plot_counter = 0\n",
    "for i in range(3):\n",
    "    for j in range(2):\n",
    "        smoothed_hardpoint_data = hardpoint_data[plots[plot_counter]].rolling(100).mean()\n",
    "        axs[i][j].set_title(plots[plot_counter])\n",
    "        axs[i][j].set_ylabel(f'Hardpoint force (nt)')\n",
    "        axs[i][j].set_ylim(-100,100)\n",
    "        smoothed_hardpoint_data.plot(ax=axs[i][j], color='blue')\n",
    "        plot_counter += 1\n",
    "timestamp = hardpoint_data.index[0].isoformat().split('.')[0].replace('-','').replace(':','')\n",
    "plt.savefig(f\"/home/c/cslage/u/MTM1M3/data/Hardpoint_Forces_{timestamp}.png\")"
   ]
  },
  {
   "cell_type": "code",
   "execution_count": null,
   "metadata": {},
   "outputs": [],
   "source": []
  }
 ],
 "metadata": {
  "kernelspec": {
   "display_name": "LSST",
   "language": "python",
   "name": "lsst"
  },
  "language_info": {
   "codemirror_mode": {
    "name": "ipython",
    "version": 3
   },
   "file_extension": ".py",
   "mimetype": "text/x-python",
   "name": "python",
   "nbconvert_exporter": "python",
   "pygments_lexer": "ipython3",
   "version": "3.10.11"
  }
 },
 "nbformat": 4,
 "nbformat_minor": 4
}
