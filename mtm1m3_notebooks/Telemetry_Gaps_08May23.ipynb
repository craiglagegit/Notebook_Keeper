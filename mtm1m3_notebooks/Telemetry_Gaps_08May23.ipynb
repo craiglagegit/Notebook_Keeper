{
 "cells": [
  {
   "cell_type": "markdown",
   "metadata": {},
   "source": [
    "# M1M3 cell learning\n",
    "Craig Lage - 14-Apr-23 \\\n",
    "The 17 tons of mirror are supported by 156 pneumatic actuators where 44 are single-axis and provide support only on the axial direction, 100 are dual-axis providing support in the axial and lateral direction, and 12 are dual-axis providing support in the axial and cross lateral directions. \\\n",
    "Positioning is provided by 6 hard points in a hexapod configuration which moves the mirror to a fixed operational position that shall be maintained during telescope operations. The remaining optical elements will be moved relative to this position in order to align the telescope optics. Support and optical figure correction is provided by 112 dual axis and 44 single axis pneumatic actuators. "
   ]
  },
  {
   "cell_type": "code",
   "execution_count": null,
   "metadata": {
    "execution": {
     "iopub.execute_input": "2023-05-08T14:06:21.667047Z",
     "iopub.status.busy": "2023-05-08T14:06:21.666710Z",
     "iopub.status.idle": "2023-05-08T14:06:22.125578Z",
     "shell.execute_reply": "2023-05-08T14:06:22.125060Z",
     "shell.execute_reply.started": "2023-05-08T14:06:21.667028Z"
    },
    "tags": []
   },
   "outputs": [],
   "source": [
    "import sys, time, os, asyncio, glob\n",
    "from datetime import datetime\n",
    "import numpy as np\n",
    "import matplotlib.pyplot as plt\n",
    "from matplotlib.backends.backend_pdf import PdfPages\n",
    "import pickle as pkl\n",
    "from astropy.time import Time, TimeDelta\n",
    "import lsst.ts.cRIOpy.M1M3FATable as M1M3FATable\n",
    "from scipy.interpolate import UnivariateSpline\n",
    "from lsst_efd_client import EfdClient"
   ]
  },
  {
   "cell_type": "code",
   "execution_count": null,
   "metadata": {
    "execution": {
     "iopub.execute_input": "2023-05-08T14:06:22.819521Z",
     "iopub.status.busy": "2023-05-08T14:06:22.819348Z",
     "iopub.status.idle": "2023-05-08T14:06:23.246431Z",
     "shell.execute_reply": "2023-05-08T14:06:23.245999Z",
     "shell.execute_reply.started": "2023-05-08T14:06:22.819506Z"
    },
    "tags": []
   },
   "outputs": [],
   "source": [
    "client = EfdClient('usdf_efd')\n",
    "FATABLE = M1M3FATable.FATABLE"
   ]
  },
  {
   "cell_type": "code",
   "execution_count": null,
   "metadata": {
    "execution": {
     "iopub.execute_input": "2023-05-08T14:11:42.457998Z",
     "iopub.status.busy": "2023-05-08T14:11:42.457358Z",
     "iopub.status.idle": "2023-05-08T14:11:42.461054Z",
     "shell.execute_reply": "2023-05-08T14:11:42.460626Z",
     "shell.execute_reply.started": "2023-05-08T14:11:42.457980Z"
    },
    "tags": []
   },
   "outputs": [],
   "source": [
    "# Times of breakaway test\n",
    "start = Time(\"2023-05-07T12:00:00\", scale='utc')\n",
    "end = Time(\"2023-05-08T12:00:00\", scale='utc')"
   ]
  },
  {
   "cell_type": "code",
   "execution_count": null,
   "metadata": {
    "execution": {
     "iopub.execute_input": "2023-05-08T14:16:08.220080Z",
     "iopub.status.busy": "2023-05-08T14:16:08.219856Z",
     "iopub.status.idle": "2023-05-08T14:16:15.861442Z",
     "shell.execute_reply": "2023-05-08T14:16:15.860902Z",
     "shell.execute_reply.started": "2023-05-08T14:16:08.220064Z"
    },
    "tags": []
   },
   "outputs": [],
   "source": [
    "temps = await client.select_time_series(\"lsst.sal.ESS.temperature\", \"*\", start, end)"
   ]
  },
  {
   "cell_type": "code",
   "execution_count": null,
   "metadata": {
    "execution": {
     "iopub.execute_input": "2023-05-08T14:16:15.869675Z",
     "iopub.status.busy": "2023-05-08T14:16:15.869527Z",
     "iopub.status.idle": "2023-05-08T14:16:15.872503Z",
     "shell.execute_reply": "2023-05-08T14:16:15.872116Z",
     "shell.execute_reply.started": "2023-05-08T14:16:15.869660Z"
    },
    "tags": []
   },
   "outputs": [],
   "source": [
    "len(temps)"
   ]
  },
  {
   "cell_type": "code",
   "execution_count": null,
   "metadata": {
    "execution": {
     "iopub.execute_input": "2023-05-08T14:16:15.873534Z",
     "iopub.status.busy": "2023-05-08T14:16:15.873396Z",
     "iopub.status.idle": "2023-05-08T14:16:15.923441Z",
     "shell.execute_reply": "2023-05-08T14:16:15.923008Z",
     "shell.execute_reply.started": "2023-05-08T14:16:15.873521Z"
    },
    "tags": []
   },
   "outputs": [],
   "source": [
    "theseTemps = temps[temps['sensorName'] == 'AuxTel-ESS01']"
   ]
  },
  {
   "cell_type": "code",
   "execution_count": null,
   "metadata": {
    "execution": {
     "iopub.execute_input": "2023-05-08T14:17:19.349474Z",
     "iopub.status.busy": "2023-05-08T14:17:19.349249Z",
     "iopub.status.idle": "2023-05-08T14:17:19.353220Z",
     "shell.execute_reply": "2023-05-08T14:17:19.352785Z",
     "shell.execute_reply.started": "2023-05-08T14:17:19.349458Z"
    },
    "tags": []
   },
   "outputs": [],
   "source": [
    "theseTemps.columns"
   ]
  },
  {
   "cell_type": "code",
   "execution_count": null,
   "metadata": {
    "execution": {
     "iopub.execute_input": "2023-05-08T14:18:03.704937Z",
     "iopub.status.busy": "2023-05-08T14:18:03.704725Z",
     "iopub.status.idle": "2023-05-08T14:18:03.800633Z",
     "shell.execute_reply": "2023-05-08T14:18:03.800178Z",
     "shell.execute_reply.started": "2023-05-08T14:18:03.704922Z"
    },
    "tags": []
   },
   "outputs": [],
   "source": [
    "plt.plot(theseTemps['timestamp'], theseTemps['temperature2'])"
   ]
  },
  {
   "cell_type": "markdown",
   "metadata": {},
   "source": [
    "## class HardpointTest(enum.IntEnum): \n",
    "    NOTTESTED = 1 \n",
    "    MOVINGNEGATIVE = 2 \n",
    "    TESTINGPOSITIVE = 3 \n",
    "    TESTINGNEGATIVE = 4 \n",
    "    MOVINGREFERENCE = 5 \n",
    "    PASSED = 6 \n",
    "    FAILED = 7 "
   ]
  },
  {
   "cell_type": "code",
   "execution_count": null,
   "metadata": {
    "execution": {
     "iopub.execute_input": "2023-05-08T13:56:42.825750Z",
     "iopub.status.busy": "2023-05-08T13:56:42.825350Z",
     "iopub.status.idle": "2023-05-08T13:56:42.976633Z",
     "shell.execute_reply": "2023-05-08T13:56:42.976191Z",
     "shell.execute_reply.started": "2023-05-08T13:56:42.825731Z"
    },
    "tags": []
   },
   "outputs": [],
   "source": [
    "for i in range(6):\n",
    "    column = f\"testState{i}\"\n",
    "    hardpoints[name].plot()"
   ]
  },
  {
   "cell_type": "code",
   "execution_count": null,
   "metadata": {},
   "outputs": [],
   "source": []
  },
  {
   "cell_type": "code",
   "execution_count": null,
   "metadata": {},
   "outputs": [],
   "source": []
  },
  {
   "cell_type": "markdown",
   "metadata": {},
   "source": [
    "## Given an actuator ID, this plots the bump test result"
   ]
  },
  {
   "cell_type": "code",
   "execution_count": null,
   "metadata": {
    "execution": {
     "iopub.execute_input": "2023-05-03T14:28:20.385567Z",
     "iopub.status.busy": "2023-05-03T14:28:20.385213Z",
     "iopub.status.idle": "2023-05-03T14:28:20.393668Z",
     "shell.execute_reply": "2023-05-03T14:28:20.393208Z",
     "shell.execute_reply.started": "2023-05-03T14:28:20.385549Z"
    },
    "tags": []
   },
   "outputs": [],
   "source": [
    "async def plotBumpTestResults(fig, bumps, id):\n",
    "    thisBump = bumps[bumps['actuatorId']==id]\n",
    "    index = M1M3FATable.actuatorIDToIndex(id)\n",
    "    # The pass/fail results are actually in the next test.\n",
    "    lastThisBumpIndex = bumps[bumps['actuatorId']==id].last_valid_index()\n",
    "    passFail = bumps.iloc[bumps.index.get_loc(lastThisBumpIndex)+1]\n",
    "    primaryBump = f\"primaryTest{FATABLE[index][M1M3FATable.FATABLE_ZINDEX]}\"\n",
    "    primaryForce = f\"zForce{FATABLE[index][M1M3FATable.FATABLE_ZINDEX]}\"\n",
    "    if FATABLE[index][M1M3FATable.FATABLE_TYPE] == 'DAA':\n",
    "        if FATABLE[index][M1M3FATable.FATABLE_ORIENTATION] in ['+Y', '-Y']:\n",
    "            secondaryBump = f\"secondaryTest{FATABLE[index][M1M3FATable.FATABLE_SINDEX]}\"\n",
    "            secondaryForce = f\"yForce{FATABLE[index][M1M3FATable.FATABLE_YINDEX]}\"\n",
    "            secondaryName = FATABLE[index][M1M3FATable.FATABLE_ORIENTATION]\n",
    "        else:\n",
    "            secondaryBump = f\"secondaryTest{FATABLE[index][M1M3FATable.FATABLE_SINDEX]}\"\n",
    "            secondaryForce = f\"xForce{FATABLE[index][M1M3FATable.FATABLE_XINDEX]}\"\n",
    "            secondaryName = FATABLE[index][M1M3FATable.FATABLE_ORIENTATION]\n",
    "    else:\n",
    "        secondaryName = None\n",
    "\n",
    "    plt.subplots_adjust(wspace=0.3)\n",
    "    plt.subplot(1,2,1)\n",
    "    plotStart = thisBump[thisBump[primaryBump]==2]['timestamp'].values[0] - 1.0\n",
    "    plotEnd = plotStart + 14.0 #thisBump[thisBump[primaryBump]==5]['timestamp'].values[0] + 2.0\n",
    "    start = Time(plotStart, format='unix_tai', scale='tai')\n",
    "    end = Time(plotEnd, format='unix_tai', scale='tai')\n",
    "    forces = await client.select_time_series(\"lsst.sal.MTM1M3.forceActuatorData\", [primaryForce, 'timestamp'], start.utc, end.utc)\n",
    "    times = forces['timestamp'].values\n",
    "    t0 = times[0]\n",
    "    times -= t0\n",
    "    plotStart -= t0\n",
    "    plotEnd -= t0\n",
    "    plt.title(f\"Primary - Z - ID:{id}\")\n",
    "    plt.plot(times, forces[primaryForce].values)\n",
    "    if passFail[primaryBump] == 6:\n",
    "        plt.text(2.0, 350.0, \"PASSED\", color='g')\n",
    "    elif passFail[primaryBump] == 7:\n",
    "        plt.text(2.0, 350.0, \"FAILED\", color='r')\n",
    "\n",
    "    plt.xlim(plotStart, plotEnd)\n",
    "    plt.ylim(-400,400)\n",
    "    plt.xlabel(\"Time (seconds)\")\n",
    "    plt.ylabel(\"Force (nt)\")\n",
    "    plt.subplot(1,2,2)\n",
    "    if secondaryName is not None:\n",
    "        plt.title(f\"Secondary - {secondaryName} - ID:{id}\")\n",
    "        plotStart = thisBump[thisBump[secondaryBump]==2]['timestamp'].values[0] - 1.0\n",
    "        plotEnd = plotStart + 14.0 #thisBump[thisBump[secondaryBump]==5]['timestamp'].values[0] + 2.0\n",
    "        start = Time(plotStart, format='unix_tai', scale='tai')\n",
    "        end = Time(plotEnd, format='unix_tai', scale='tai')\n",
    "        forces = await client.select_time_series(\"lsst.sal.MTM1M3.forceActuatorData\", [secondaryForce, 'timestamp'], start.utc, end.utc)\n",
    "        times = forces['timestamp'].values\n",
    "        t0 = times[0]\n",
    "        times -= t0\n",
    "        plotStart -= t0\n",
    "        plotEnd -= t0\n",
    "        plt.plot(times, forces[secondaryForce].values)\n",
    "        if passFail[secondaryBump] == 6:\n",
    "            plt.text(2.0, 350.0, \"PASSED\", color='g')\n",
    "        elif passFail[secondaryBump] == 7:\n",
    "            plt.text(2.0, 350.0, \"FAILED\", color='r')\n",
    "        plt.xlim(plotStart, plotEnd)\n",
    "        plt.ylim(-400,400)\n",
    "        plt.xlabel(\"Time (seconds)\")\n",
    "        plt.ylabel(\"Force (nt)\")\n",
    "    else:\n",
    "        plt.title(\"No Secondary\")\n",
    "        plt.xticks([])\n",
    "        plt.yticks([])\n",
    "    return"
   ]
  },
  {
   "cell_type": "code",
   "execution_count": null,
   "metadata": {
    "execution": {
     "iopub.execute_input": "2023-05-03T14:28:23.027081Z",
     "iopub.status.busy": "2023-05-03T14:28:23.026831Z",
     "iopub.status.idle": "2023-05-03T14:28:23.292318Z",
     "shell.execute_reply": "2023-05-03T14:28:23.291857Z",
     "shell.execute_reply.started": "2023-05-03T14:28:23.027062Z"
    },
    "tags": []
   },
   "outputs": [],
   "source": [
    "fig = plt.figure(figsize=(10,5))\n",
    "await plotBumpTestResults(fig, bumps, 227)"
   ]
  },
  {
   "cell_type": "markdown",
   "metadata": {},
   "source": [
    "## Now let's look at more of them"
   ]
  },
  {
   "cell_type": "code",
   "execution_count": null,
   "metadata": {
    "execution": {
     "iopub.execute_input": "2023-05-03T14:28:27.499279Z",
     "iopub.status.busy": "2023-05-03T14:28:27.498897Z",
     "iopub.status.idle": "2023-05-03T14:28:27.502761Z",
     "shell.execute_reply": "2023-05-03T14:28:27.502295Z",
     "shell.execute_reply.started": "2023-05-03T14:28:27.499259Z"
    },
    "tags": []
   },
   "outputs": [],
   "source": [
    "# Times of bump test\n",
    "start = Time(\"2020-06-01T00:00:00\", scale='utc')\n",
    "#end = Time(\"2022-06-01T00:00:00\", scale='utc')\n",
    "end = Time(\"2023-04-20T00:00:00\", scale='utc')"
   ]
  },
  {
   "cell_type": "code",
   "execution_count": null,
   "metadata": {
    "execution": {
     "iopub.execute_input": "2023-05-03T14:28:29.281315Z",
     "iopub.status.busy": "2023-05-03T14:28:29.280957Z",
     "iopub.status.idle": "2023-05-03T14:28:36.052407Z",
     "shell.execute_reply": "2023-05-03T14:28:36.051897Z",
     "shell.execute_reply.started": "2023-05-03T14:28:29.281299Z"
    },
    "tags": []
   },
   "outputs": [],
   "source": [
    "manyBumps = await client.select_time_series(\"lsst.sal.MTM1M3.logevent_forceActuatorBumpTestStatus\", \"*\", start, end)"
   ]
  },
  {
   "cell_type": "code",
   "execution_count": null,
   "metadata": {
    "execution": {
     "iopub.execute_input": "2023-05-03T14:28:36.071091Z",
     "iopub.status.busy": "2023-05-03T14:28:36.070951Z",
     "iopub.status.idle": "2023-05-03T14:28:36.074053Z",
     "shell.execute_reply": "2023-05-03T14:28:36.073632Z",
     "shell.execute_reply.started": "2023-05-03T14:28:36.071077Z"
    },
    "tags": []
   },
   "outputs": [],
   "source": [
    "len(manyBumps)"
   ]
  },
  {
   "cell_type": "code",
   "execution_count": null,
   "metadata": {
    "execution": {
     "iopub.execute_input": "2023-05-03T14:37:43.866242Z",
     "iopub.status.busy": "2023-05-03T14:37:43.865879Z",
     "iopub.status.idle": "2023-05-03T14:37:43.876391Z",
     "shell.execute_reply": "2023-05-03T14:37:43.875947Z",
     "shell.execute_reply.started": "2023-05-03T14:37:43.866225Z"
    },
    "tags": []
   },
   "outputs": [],
   "source": [
    "async def plotMultipleBumpTestResults(fig, manyBumps, id):\n",
    "    theseBumps = manyBumps[manyBumps['actuatorId']==id]\n",
    "    index = M1M3FATable.actuatorIDToIndex(id)\n",
    "    primaryBump = f\"primaryTest{FATABLE[index][M1M3FATable.FATABLE_ZINDEX]}\"\n",
    "    primaryForce = f\"zForce{FATABLE[index][M1M3FATable.FATABLE_ZINDEX]}\"\n",
    "    if FATABLE[index][M1M3FATable.FATABLE_TYPE] == 'DAA':\n",
    "        if FATABLE[index][M1M3FATable.FATABLE_ORIENTATION] in ['+Y', '-Y']:\n",
    "            secondaryBump = f\"secondaryTest{FATABLE[index][M1M3FATable.FATABLE_SINDEX]}\"\n",
    "            secondaryForce = f\"yForce{FATABLE[index][M1M3FATable.FATABLE_YINDEX]}\"\n",
    "            secondaryName = FATABLE[index][M1M3FATable.FATABLE_ORIENTATION]\n",
    "        else:\n",
    "            secondaryBump = f\"secondaryTest{FATABLE[index][M1M3FATable.FATABLE_SINDEX]}\"\n",
    "            secondaryForce = f\"xForce{FATABLE[index][M1M3FATable.FATABLE_XINDEX]}\"\n",
    "            secondaryName = FATABLE[index][M1M3FATable.FATABLE_ORIENTATION]\n",
    "    else:\n",
    "        secondaryName = None\n",
    "    plt.subplots_adjust(wspace=0.3)\n",
    "    plt.suptitle(f\"Multiple bump tests Actuator ID {id}\", fontsize=18)\n",
    "\n",
    "    # Now find the separate tests\n",
    "    times = theseBumps['timestamp'].values\n",
    "    startTimes = []\n",
    "    endTimes = []\n",
    "    for i, time in enumerate(times):\n",
    "        if i == 0:\n",
    "            startTimes.append(time)\n",
    "            continue\n",
    "        if (time - times[i-1]) > 60.0:\n",
    "            startTimes.append(time)\n",
    "            endTimes.append(times[i-1])\n",
    "    endTimes.append(times[-1])\n",
    "    numPlots = 0\n",
    "    passCount = 0\n",
    "    failCount = 0\n",
    "    for i in range(len(startTimes)):\n",
    "        startTime = startTimes[i]\n",
    "        endTime = endTimes[i]\n",
    "        thisBump = theseBumps[(theseBumps['timestamp'] >= startTime) & (theseBumps['timestamp'] <= endTime)]\n",
    "        try:\n",
    "            numPlots += 1\n",
    "            plt.subplot(1,2,1)\n",
    "            plotStart = thisBump[thisBump[primaryBump]==2]['timestamp'].values[0] - 1.0\n",
    "            plotEnd = plotStart + 14.0\n",
    "            start = Time(plotStart, format='unix_tai', scale='tai')\n",
    "            end = Time(plotEnd, format='unix_tai', scale='tai')\n",
    "            forces = await client.select_time_series(\"lsst.sal.MTM1M3.forceActuatorData\", [primaryForce, 'timestamp'], \\\n",
    "                                                     start.utc, end.utc)\n",
    "            times = forces['timestamp'].values\n",
    "            t0 = times[0]\n",
    "            times -= t0\n",
    "            plotStart -= t0\n",
    "            plotEnd -= t0\n",
    "            lastIndex = bumps[bumps['actuatorId']==id].last_valid_index()\n",
    "            passFail = bumps.iloc[bumps.index.get_loc(lastIndex)+1][primaryBump]\n",
    "            print(i, passFail)\n",
    "            if passFail == 6:\n",
    "                passCount += 1\n",
    "                #print(\"PASSED\")\n",
    "            elif passFail == 7:\n",
    "                failCount += 1\n",
    "                #print(\"FAILED\")\n",
    "\n",
    "            plt.title(\"Primary   Z\")\n",
    "            plt.plot(times, forces[primaryForce].values)\n",
    "            plt.xlim(plotStart, plotEnd)\n",
    "            plt.ylim(-400,400)\n",
    "            plt.xlabel(\"Time (seconds)\")\n",
    "            plt.ylabel(\"Force (nt)\")\n",
    "            plt.subplot(1,2,2)\n",
    "            if secondaryName is not None:\n",
    "                plt.title(f\"Secondary   {secondaryName}\")\n",
    "                plotStart = thisBump[thisBump[secondaryBump]==2]['timestamp'].values[0] - 1.0\n",
    "                plotEnd = plotStart + 14.0\n",
    "                start = Time(plotStart, format='unix_tai', scale='tai')\n",
    "                end = Time(plotEnd, format='unix_tai', scale='tai')\n",
    "                forces = await client.select_time_series(\"lsst.sal.MTM1M3.forceActuatorData\", [secondaryForce, 'timestamp'], \\\n",
    "                                                         start.utc, end.utc)\n",
    "                times = forces['timestamp'].values\n",
    "                t0 = times[0]\n",
    "                times -= t0\n",
    "                plotStart -= t0\n",
    "                plotEnd -= t0\n",
    "                plt.plot(times, forces[secondaryForce].values)\n",
    "                plt.xlim(plotStart, plotEnd)\n",
    "                plt.ylim(-400,400)\n",
    "                plt.xlabel(\"Time (seconds)\")\n",
    "                plt.ylabel(\"Force (nt)\")\n",
    "            else:\n",
    "                plt.title(\"No Secondary\")\n",
    "                plt.xticks([])\n",
    "                plt.yticks([])\n",
    "        except:\n",
    "            continue\n",
    "            \n",
    "    plt.subplot(1,2,1)\n",
    "    plt.text(2.0, 350, f\"{numPlots} tests, {passCount} passed, {failCount} failed\")\n",
    "    plt.subplot(1,2,2)\n",
    "    plt.text(2.0, 350, f\"{numPlots} tests, {passCount} passed, {failCount} failed\")\n",
    "    return"
   ]
  },
  {
   "cell_type": "code",
   "execution_count": null,
   "metadata": {
    "execution": {
     "iopub.execute_input": "2023-05-03T14:37:49.067901Z",
     "iopub.status.busy": "2023-05-03T14:37:49.067647Z",
     "iopub.status.idle": "2023-05-03T14:37:49.730049Z",
     "shell.execute_reply": "2023-05-03T14:37:49.729559Z",
     "shell.execute_reply.started": "2023-05-03T14:37:49.067885Z"
    },
    "tags": []
   },
   "outputs": [],
   "source": [
    "id = 109\n",
    "fig = plt.figure(figsize=(10,5))\n",
    "await plotMultipleBumpTestResults(fig, manyBumps, id)\n",
    "#plt.savefig(f\"/scratch/cslage/m1m3_data/Bump_Test_{id}_17Apr23.png\")"
   ]
  },
  {
   "cell_type": "markdown",
   "metadata": {},
   "source": [
    "## Now generate the dictionary of average splines"
   ]
  },
  {
   "cell_type": "code",
   "execution_count": null,
   "metadata": {
    "tags": []
   },
   "outputs": [],
   "source": [
    "async def generateAverageBumpTest(manyBumps, averageSplineDict, id):\n",
    "    # Get representative splines to be used to weed out bad runs\n",
    "    [averagePrimarySpline, averageSecondarySpline] = averageSplineDict[999]\n",
    "    theseBumps = manyBumps[manyBumps['actuatorId']==id]\n",
    "    index = M1M3FATable.actuatorIDToIndex(id)\n",
    "    primaryBump = f\"primaryTest{FATABLE[index][M1M3FATable.FATABLE_ZINDEX]}\"\n",
    "    primaryForce = f\"zForce{FATABLE[index][M1M3FATable.FATABLE_ZINDEX]}\"\n",
    "    if FATABLE[index][M1M3FATable.FATABLE_TYPE] == 'DAA':\n",
    "        if FATABLE[index][M1M3FATable.FATABLE_ORIENTATION] in ['+Y', '-Y']:\n",
    "            secondaryBump = f\"secondaryTest{FATABLE[index][M1M3FATable.FATABLE_SINDEX]}\"\n",
    "            secondaryForce = f\"yForce{FATABLE[index][M1M3FATable.FATABLE_YINDEX]}\"\n",
    "            secondaryName = FATABLE[index][M1M3FATable.FATABLE_ORIENTATION]\n",
    "        else:\n",
    "            secondaryBump = f\"secondaryTest{FATABLE[index][M1M3FATable.FATABLE_SINDEX]}\"\n",
    "            secondaryForce = f\"xForce{FATABLE[index][M1M3FATable.FATABLE_XINDEX]}\"\n",
    "            secondaryName = FATABLE[index][M1M3FATable.FATABLE_ORIENTATION]\n",
    "    else:\n",
    "        secondaryName = None\n",
    "\n",
    "    # Now find the separate tests\n",
    "    times = theseBumps['timestamp'].values\n",
    "    startTimes = []\n",
    "    endTimes = []\n",
    "    for i, time in enumerate(times):\n",
    "        if i == 0:\n",
    "            startTimes.append(time)\n",
    "            continue\n",
    "        if (time - times[i-1]) > 60.0:\n",
    "            startTimes.append(time)\n",
    "            endTimes.append(times[i-1])\n",
    "    endTimes.append(times[-1])\n",
    "    numPlots = 0\n",
    "    primarySplines = []\n",
    "    secondarySplines = []\n",
    "    for i in range(len(startTimes)):\n",
    "        startTime = startTimes[i]\n",
    "        endTime = endTimes[i]\n",
    "        thisBump = theseBumps[(theseBumps['timestamp'] >= startTime) & (theseBumps['timestamp'] <= endTime)]\n",
    "        # The pass/fail results are actually in the next test.\n",
    "        lastThisBumpIndex = bumps[bumps['actuatorId']==id].last_valid_index()\n",
    "        passFail = bumps.iloc[bumps.index.get_loc(lastThisBumpIndex)+1]\n",
    "        if passFail[primaryBump] == 7:\n",
    "            # Don't include fails\n",
    "            continue\n",
    "        try:\n",
    "            plotStart = thisBump[thisBump[primaryBump]==2]['timestamp'].values[0] - 1.0\n",
    "            plotEnd = plotStart + 14.0\n",
    "            start = Time(plotStart, format='unix_tai', scale='tai')\n",
    "            end = Time(plotEnd, format='unix_tai', scale='tai')\n",
    "            forces = await client.select_time_series(\"lsst.sal.MTM1M3.forceActuatorData\", [primaryForce, 'timestamp'], start.utc, end.utc)\n",
    "            times = forces['timestamp'].values\n",
    "            t0 = times[0]\n",
    "            times -= t0\n",
    "            primaryForces = forces[primaryForce].values\n",
    "            if averagePrimarySpline is not None:\n",
    "                rmsError = np.sqrt(np.mean((primaryForces-averagePrimarySpline(times))**2))\n",
    "            else:\n",
    "                rmsError = 0.0\n",
    "            if rmsError < 50.0:\n",
    "                # Only include good fits in the average\n",
    "                primarySpline = UnivariateSpline(times, primaryForces, s=0.0)\n",
    "                primarySplines.append(primarySpline)\n",
    "            if secondaryName is not None:\n",
    "                if passFail[secondaryBump] == 7:\n",
    "                    # Don't include fails\n",
    "                    continue\n",
    "                plotStart = thisBump[thisBump[secondaryBump]==2]['timestamp'].values[0] - 1.0\n",
    "                plotEnd = plotStart + 14.0\n",
    "                start = Time(plotStart, format='unix_tai', scale='tai')\n",
    "                end = Time(plotEnd, format='unix_tai', scale='tai')\n",
    "                forces = await client.select_time_series(\"lsst.sal.MTM1M3.forceActuatorData\", [secondaryForce, 'timestamp'], start.utc, end.utc)\n",
    "                times = forces['timestamp'].values\n",
    "                t0 = times[0]\n",
    "                times -= t0\n",
    "                secondaryForces = forces[secondaryForce].values\n",
    "                if averageSecondarySpline is not None:\n",
    "                    rmsError = np.sqrt(np.mean((secondaryForces-averageSecondarySpline(times))**2))\n",
    "                else:\n",
    "                    rmsError = 0.0\n",
    "                if rmsError < 50.0:\n",
    "                    # Only include good fits in the average\n",
    "                    secondarySpline = UnivariateSpline(times, secondaryForces, s=0.0)\n",
    "                    secondarySplines.append(secondarySpline)\n",
    "        except:\n",
    "            continue\n",
    "    # Now calculate the average spline\n",
    "    ts = np.linspace(0,14,5000)\n",
    "    fs = np.zeros_like(ts)\n",
    "    numSplines = 0\n",
    "    for spline in primarySplines:\n",
    "        numSplines += 1\n",
    "        fs += spline(ts)\n",
    "    fs /= numSplines\n",
    "    averagePrimarySpline = UnivariateSpline(ts, fs)\n",
    "    fs = np.zeros_like(ts)\n",
    "    if secondaryName is not None:\n",
    "        numSplines = 0\n",
    "        for spline in secondarySplines:\n",
    "            numSplines += 1\n",
    "            fs += spline(ts)\n",
    "        fs /= numSplines\n",
    "        averageSecondarySpline = UnivariateSpline(ts, fs)\n",
    "    else:\n",
    "        averageSecondarySpline = None\n",
    "    return [averagePrimarySpline, averageSecondarySpline]"
   ]
  },
  {
   "cell_type": "markdown",
   "metadata": {},
   "source": [
    "## This cell generates the dictionary with a set of plots of the average spline"
   ]
  },
  {
   "cell_type": "code",
   "execution_count": null,
   "metadata": {
    "tags": []
   },
   "outputs": [],
   "source": [
    "# First seed the averageSplineDict with a typical bump test\n",
    "# This is used to weed out bad tests\n",
    "averageSplineDict = {}\n",
    "averageSplineDict[999] = [None, None]\n",
    "[averagePrimarySpline, averageSecondarySpline] = await generateAverageBumpTest(manyBumps, averageSplineDict, 227)\n",
    "averageSplineDict[999] = [averagePrimarySpline, averageSecondarySpline]\n",
    "# Now run all of the actuators\n",
    "pdf = PdfPages(\"/scratch/cslage/m1m3_data/Average_Spline_Dict_28Apr23.pdf\")\n",
    "for index in range(len(FATABLE)):\n",
    "    id = FATABLE[index][M1M3FATable.FATABLE_ID]\n",
    "    primaryName = 'Z'\n",
    "    if FATABLE[index][M1M3FATable.FATABLE_TYPE] == 'DAA':\n",
    "        if FATABLE[index][M1M3FATable.FATABLE_ORIENTATION] in ['+Y', '-Y']:\n",
    "            secondaryName = FATABLE[index][M1M3FATable.FATABLE_ORIENTATION]\n",
    "        else:\n",
    "            secondaryName = FATABLE[index][M1M3FATable.FATABLE_ORIENTATION]\n",
    "    else:\n",
    "        secondaryName = None\n",
    "\n",
    "    [averagePrimarySpline, averageSecondarySpline] = await generateAverageBumpTest(manyBumps, averageSplineDict, id)\n",
    "    averageSplineDict[id] = [averagePrimarySpline, averageSecondarySpline]\n",
    "    fig = plt.figure(figsize=(10,5))\n",
    "    ts = np.linspace(0,14,5000)\n",
    "    plt.suptitle(f\"Average Spline bumps for ID = {id}\")\n",
    "    plt.subplot(1,2,1)\n",
    "    plt.title(f\"Primary  {primaryName}\")\n",
    "    plt.plot(ts, averagePrimarySpline(ts))\n",
    "    plt.subplot(1,2,2)\n",
    "    plt.title(f\"Secondary   {secondaryName}\")\n",
    "    if averageSecondarySpline is not None:\n",
    "        plt.plot(ts, averageSecondarySpline(ts))\n",
    "    else:\n",
    "        plt.xticks([])\n",
    "        plt.yticks([])\n",
    "                  \n",
    "    pdf.savefig(fig)  # saves the current figure into a pdf page\n",
    "    plt.clf()\n",
    "pdf.close()\n"
   ]
  },
  {
   "cell_type": "markdown",
   "metadata": {},
   "source": [
    "## Pickle the dictionary for future use"
   ]
  },
  {
   "cell_type": "code",
   "execution_count": null,
   "metadata": {
    "tags": []
   },
   "outputs": [],
   "source": [
    "filename = '/scratch/cslage/m1m3_data/average_spline_dict_28apr23.pkl'\n",
    "file = open(filename, 'wb')\n",
    "pkl.dump(averageSplineDict, file)\n",
    "file.close()"
   ]
  },
  {
   "cell_type": "code",
   "execution_count": null,
   "metadata": {
    "execution": {
     "iopub.execute_input": "2023-04-28T16:36:06.971595Z",
     "iopub.status.busy": "2023-04-28T16:36:06.971321Z",
     "iopub.status.idle": "2023-04-28T16:36:06.999026Z",
     "shell.execute_reply": "2023-04-28T16:36:06.998540Z",
     "shell.execute_reply.started": "2023-04-28T16:36:06.971578Z"
    },
    "tags": []
   },
   "outputs": [],
   "source": [
    "filename = '/scratch/cslage/m1m3_data/average_spline_dict_28apr23.pkl'\n",
    "file = open(filename, 'rb')\n",
    "averageSplineDict = pkl.load(file)\n",
    "file.close()"
   ]
  },
  {
   "cell_type": "markdown",
   "metadata": {},
   "source": [
    "## Now plot the residuals against the average"
   ]
  },
  {
   "cell_type": "code",
   "execution_count": null,
   "metadata": {
    "execution": {
     "iopub.execute_input": "2023-04-28T16:36:10.549454Z",
     "iopub.status.busy": "2023-04-28T16:36:10.549028Z",
     "iopub.status.idle": "2023-04-28T16:36:10.563004Z",
     "shell.execute_reply": "2023-04-28T16:36:10.562588Z",
     "shell.execute_reply.started": "2023-04-28T16:36:10.549435Z"
    },
    "tags": []
   },
   "outputs": [],
   "source": [
    "async def plotBumpResultsAndResiduals(fig, bumps, averageSplineDict, id):\n",
    "    [averagePrimarySpline, averageSecondarySpline] = averageSplineDict[id]\n",
    "    thisBump = bumps[bumps['actuatorId']==id]\n",
    "    index = M1M3FATable.actuatorIDToIndex(id)\n",
    "    # The pass/fail results are actually in the next test.\n",
    "    lastThisBumpIndex = bumps[bumps['actuatorId']==id].last_valid_index()\n",
    "    passFail = bumps.iloc[bumps.index.get_loc(lastThisBumpIndex)+1]\n",
    "    primaryBump = f\"primaryTest{FATABLE[index][M1M3FATable.FATABLE_ZINDEX]}\"\n",
    "    primaryForce = f\"zForce{FATABLE[index][M1M3FATable.FATABLE_ZINDEX]}\"\n",
    "    if FATABLE[index][M1M3FATable.FATABLE_TYPE] == 'DAA':\n",
    "        if FATABLE[index][M1M3FATable.FATABLE_ORIENTATION] in ['+Y', '-Y']:\n",
    "            secondaryBump = f\"secondaryTest{FATABLE[index][M1M3FATable.FATABLE_SINDEX]}\"\n",
    "            secondaryForce = f\"yForce{FATABLE[index][M1M3FATable.FATABLE_YINDEX]}\"\n",
    "            secondaryName = FATABLE[index][M1M3FATable.FATABLE_ORIENTATION]\n",
    "        else:\n",
    "            secondaryBump = f\"secondaryTest{FATABLE[index][M1M3FATable.FATABLE_SINDEX]}\"\n",
    "            secondaryForce = f\"xForce{FATABLE[index][M1M3FATable.FATABLE_XINDEX]}\"\n",
    "            secondaryName = FATABLE[index][M1M3FATable.FATABLE_ORIENTATION]\n",
    "    else:\n",
    "        secondaryName = None\n",
    "\n",
    "    plt.subplots_adjust(wspace=0.3)\n",
    "    plt.suptitle(f\"Bump Test with Residuals. Actuator ID {id}\", fontsize=18)\n",
    "    plotStart = thisBump[thisBump[primaryBump]==2]['timestamp'].values[0] - 1.0\n",
    "    plotEnd = plotStart + 14.0 \n",
    "    start = Time(plotStart, format='unix_tai', scale='tai')\n",
    "    end = Time(plotEnd, format='unix_tai', scale='tai')\n",
    "    forces = await client.select_time_series(\"lsst.sal.MTM1M3.forceActuatorData\", [primaryForce, 'timestamp'], start.utc, end.utc)\n",
    "    times = forces['timestamp'].values\n",
    "    t0 = times[0]\n",
    "    times -= t0\n",
    "    primaryForces = forces[primaryForce].values\n",
    "    residuals = primaryForces-averagePrimarySpline(times)\n",
    "    rmsError = np.sqrt(np.mean(residuals**2))\n",
    "    plotStart -= t0\n",
    "    plotEnd -= t0\n",
    "    plt.subplot(2,2,1)\n",
    "    plt.title(\"Primary - Z\")\n",
    "    plt.plot(times, averagePrimarySpline(times), label='Average')\n",
    "    plt.plot(times, primaryForces, label='Data')\n",
    "    if passFail[primaryBump] == 6:\n",
    "        plt.text(2.0, 350.0, \"PASSED\", color='g')\n",
    "    elif passFail[primaryBump] == 7:\n",
    "        plt.text(2.0, 350.0, \"FAILED\", color='r')\n",
    "    plt.xlim(plotStart, plotEnd)\n",
    "    plt.ylim(-400,400)\n",
    "    plt.xlabel(\"Time (seconds)\")\n",
    "    plt.ylabel(\"Force (nt)\")\n",
    "    plt.legend()\n",
    "    plt.subplot(2,2,3)\n",
    "    plt.plot(times, residuals)\n",
    "    if passFail[primaryBump] == 6:\n",
    "        plt.text(2.0, 75.0, f\"RMS = {rmsError:.2f}\", color='g')\n",
    "    elif passFail[primaryBump] == 7:\n",
    "        plt.text(2.0, 75.0, f\"RMS = {rmsError:.2f}\", color='r')\n",
    "    plt.xlim(plotStart, plotEnd)\n",
    "    plt.ylim(-100,100)\n",
    "    plt.xlabel(\"Time (seconds)\")\n",
    "    plt.ylabel(\"Residuals (nt)\")\n",
    "    \n",
    "    if secondaryName is not None:\n",
    "        plotStart = thisBump[thisBump[secondaryBump]==2]['timestamp'].values[0] - 1.0\n",
    "        plotEnd = plotStart + 14.0\n",
    "        start = Time(plotStart, format='unix_tai', scale='tai')\n",
    "        end = Time(plotEnd, format='unix_tai', scale='tai')\n",
    "        forces = await client.select_time_series(\"lsst.sal.MTM1M3.forceActuatorData\", [secondaryForce, 'timestamp'], start.utc, end.utc)\n",
    "        times = forces['timestamp'].values\n",
    "        t0 = times[0]\n",
    "        times -= t0\n",
    "        secondaryForces = forces[secondaryForce].values\n",
    "        residuals = secondaryForces-averageSecondarySpline(times)\n",
    "        rmsError = np.sqrt(np.mean(residuals**2))\n",
    "        plotStart -= t0\n",
    "        plotEnd -= t0\n",
    "        plt.subplot(2,2,2)\n",
    "        plt.title(f\"Secondary - {secondaryName}\")\n",
    "        plt.plot(times, averageSecondarySpline(times), label='Average')\n",
    "        plt.plot(times, secondaryForces, label='Data')\n",
    "        if passFail[primaryBump] == 6:\n",
    "            plt.text(2.0, 350.0, \"PASSED\", color='g')\n",
    "        elif passFail[primaryBump] == 7:\n",
    "            plt.text(2.0, 350.0, \"FAILED\", color='r')\n",
    "        plt.xlim(plotStart, plotEnd)\n",
    "        plt.ylim(-400,400)\n",
    "        plt.xlabel(\"Time (seconds)\")\n",
    "        plt.ylabel(\"Force (nt)\")\n",
    "        plt.legend()\n",
    "        plt.subplot(2,2,4)\n",
    "        plt.plot(times, residuals)\n",
    "        if passFail[primaryBump] == 6:\n",
    "            plt.text(2.0, 75.0, f\"RMS = {rmsError:.2f}\", color='g')\n",
    "        elif passFail[primaryBump] == 7:\n",
    "            plt.text(2.0, 75.0, f\"RMS = {rmsError:.2f}\", color='r')\n",
    "        plt.xlim(plotStart, plotEnd)\n",
    "        plt.ylim(-100,100)\n",
    "        plt.xlabel(\"Time (seconds)\")\n",
    "        plt.ylabel(\"Residuals (nt)\")\n",
    "    else:\n",
    "        plt.subplot(2,2,2)\n",
    "        plt.title(\"No Secondary\")\n",
    "        plt.xticks([])\n",
    "        plt.yticks([])\n",
    "        plt.subplot(2,2,4)\n",
    "        plt.xticks([])\n",
    "        plt.yticks([])\n",
    "    return"
   ]
  },
  {
   "cell_type": "code",
   "execution_count": null,
   "metadata": {
    "execution": {
     "iopub.execute_input": "2023-04-28T16:36:18.167933Z",
     "iopub.status.busy": "2023-04-28T16:36:18.167665Z",
     "iopub.status.idle": "2023-04-28T16:36:18.718735Z",
     "shell.execute_reply": "2023-04-28T16:36:18.718290Z",
     "shell.execute_reply.started": "2023-04-28T16:36:18.167917Z"
    },
    "tags": []
   },
   "outputs": [],
   "source": [
    "id = 324\n",
    "fig = plt.figure(figsize=(10,10))\n",
    "await plotBumpResultsAndResiduals(fig, bumps, averageSplineDict, id)\n",
    "#plt.savefig(f\"/scratch/cslage/m1m3_data/Bump_Test_Residuals_{id}_28Apr23.png\")"
   ]
  },
  {
   "cell_type": "markdown",
   "metadata": {},
   "source": [
    "# Now run the whole bump test"
   ]
  },
  {
   "cell_type": "code",
   "execution_count": null,
   "metadata": {
    "execution": {
     "iopub.execute_input": "2023-04-28T16:36:37.192734Z",
     "iopub.status.busy": "2023-04-28T16:36:37.192457Z",
     "iopub.status.idle": "2023-04-28T16:37:10.259762Z",
     "shell.execute_reply": "2023-04-28T16:37:10.259202Z",
     "shell.execute_reply.started": "2023-04-28T16:36:37.192717Z"
    },
    "tags": []
   },
   "outputs": [],
   "source": [
    "timestamp = bumps.index[0].isoformat().split('.')[0].replace('-','').replace(':','')\n",
    "pdf = PdfPages(f\"/scratch/cslage/m1m3_data/Bump_Test{timestamp}.pdf\")\n",
    "\n",
    "for index in range(len(FATABLE)):\n",
    "    id = FATABLE[index][M1M3FATable.FATABLE_ID]\n",
    "    fig = plt.figure(figsize=(10,10))\n",
    "    await plotBumpResultsAndResiduals(fig, bumps, averageSplineDict, id)\n",
    "    pdf.savefig(fig)  # saves the current figure into a pdf page\n",
    "    plt.close()\n",
    "pdf.close()\n"
   ]
  },
  {
   "cell_type": "markdown",
   "metadata": {},
   "source": [
    "# Now run all the actuators with the first test on the TMA"
   ]
  },
  {
   "cell_type": "code",
   "execution_count": null,
   "metadata": {
    "execution": {
     "iopub.execute_input": "2023-04-28T19:18:15.749387Z",
     "iopub.status.busy": "2023-04-28T19:18:15.749109Z",
     "iopub.status.idle": "2023-04-28T19:18:15.752710Z",
     "shell.execute_reply": "2023-04-28T19:18:15.752332Z",
     "shell.execute_reply.started": "2023-04-28T19:18:15.749369Z"
    },
    "tags": []
   },
   "outputs": [],
   "source": [
    "# Times of bump test\n",
    "start = Time(\"2023-04-28T18:10:00\", scale='utc')\n",
    "end = Time(\"2023-04-28T19:18:00\", scale='utc')"
   ]
  },
  {
   "cell_type": "code",
   "execution_count": null,
   "metadata": {
    "execution": {
     "iopub.execute_input": "2023-04-28T19:18:16.701108Z",
     "iopub.status.busy": "2023-04-28T19:18:16.700780Z",
     "iopub.status.idle": "2023-04-28T19:18:17.405270Z",
     "shell.execute_reply": "2023-04-28T19:18:17.404712Z",
     "shell.execute_reply.started": "2023-04-28T19:18:16.701090Z"
    },
    "tags": []
   },
   "outputs": [],
   "source": [
    "bumps = await client.select_time_series(\"lsst.sal.MTM1M3.logevent_forceActuatorBumpTestStatus\", \"*\", start, end)"
   ]
  },
  {
   "cell_type": "code",
   "execution_count": null,
   "metadata": {
    "execution": {
     "iopub.execute_input": "2023-04-28T19:18:21.203194Z",
     "iopub.status.busy": "2023-04-28T19:18:21.202929Z",
     "iopub.status.idle": "2023-04-28T19:18:54.825293Z",
     "shell.execute_reply": "2023-04-28T19:18:54.824702Z",
     "shell.execute_reply.started": "2023-04-28T19:18:21.203177Z"
    },
    "tags": []
   },
   "outputs": [],
   "source": [
    "timestamp = bumps.index[0].isoformat().split('.')[0].replace('-','').replace(':','')\n",
    "pdf = PdfPages(f\"/scratch/cslage/m1m3_data/Bump_Test{timestamp}.pdf\")\n",
    "\n",
    "for index in range(len(FATABLE)):\n",
    "    id = FATABLE[index][M1M3FATable.FATABLE_ID]\n",
    "    fig = plt.figure(figsize=(10,10))\n",
    "    await plotBumpResultsAndResiduals(fig, bumps, averageSplineDict, id)\n",
    "    pdf.savefig(fig)  # saves the current figure into a pdf page\n",
    "    plt.close()\n",
    "pdf.close()\n"
   ]
  },
  {
   "cell_type": "code",
   "execution_count": null,
   "metadata": {},
   "outputs": [],
   "source": []
  }
 ],
 "metadata": {
  "kernelspec": {
   "display_name": "LSST",
   "language": "python",
   "name": "lsst"
  },
  "language_info": {
   "codemirror_mode": {
    "name": "ipython",
    "version": 3
   },
   "file_extension": ".py",
   "mimetype": "text/x-python",
   "name": "python",
   "nbconvert_exporter": "python",
   "pygments_lexer": "ipython3",
   "version": "3.10.11"
  }
 },
 "nbformat": 4,
 "nbformat_minor": 4
}
