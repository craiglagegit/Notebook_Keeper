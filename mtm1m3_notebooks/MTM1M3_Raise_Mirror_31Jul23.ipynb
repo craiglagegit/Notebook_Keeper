{
 "cells": [
  {
   "cell_type": "markdown",
   "metadata": {},
   "source": [
    "# M1M3 position data\n",
    "Craig Lage - 16-Apr-23 \\\n",
    "Comparing different position measurements."
   ]
  },
  {
   "cell_type": "code",
   "execution_count": null,
   "metadata": {
    "execution": {
     "iopub.execute_input": "2023-08-01T14:19:35.106622Z",
     "iopub.status.busy": "2023-08-01T14:19:35.106466Z",
     "iopub.status.idle": "2023-08-01T14:19:35.725108Z",
     "shell.execute_reply": "2023-08-01T14:19:35.724674Z",
     "shell.execute_reply.started": "2023-08-01T14:19:35.106607Z"
    },
    "tags": []
   },
   "outputs": [],
   "source": [
    "import sys, time, os, asyncio, glob\n",
    "from datetime import datetime\n",
    "import numpy as np\n",
    "import matplotlib.pyplot as plt\n",
    "from matplotlib.backends.backend_pdf import PdfPages\n",
    "from astropy.time import Time, TimeDelta\n",
    "import lsst.ts.cRIOpy.M1M3FATable as M1M3FATable\n",
    "from lsst_efd_client import EfdClient"
   ]
  },
  {
   "cell_type": "code",
   "execution_count": null,
   "metadata": {
    "execution": {
     "iopub.execute_input": "2023-08-01T14:19:35.726262Z",
     "iopub.status.busy": "2023-08-01T14:19:35.725969Z",
     "iopub.status.idle": "2023-08-01T14:19:36.812070Z",
     "shell.execute_reply": "2023-08-01T14:19:36.811667Z",
     "shell.execute_reply.started": "2023-08-01T14:19:35.726249Z"
    },
    "tags": []
   },
   "outputs": [],
   "source": [
    "client = EfdClient('usdf_efd')\n",
    "FATABLE = M1M3FATable.FATABLE"
   ]
  },
  {
   "cell_type": "code",
   "execution_count": null,
   "metadata": {
    "execution": {
     "iopub.execute_input": "2023-08-01T14:28:48.704542Z",
     "iopub.status.busy": "2023-08-01T14:28:48.704369Z",
     "iopub.status.idle": "2023-08-01T14:28:56.760410Z",
     "shell.execute_reply": "2023-08-01T14:28:56.759979Z",
     "shell.execute_reply.started": "2023-08-01T14:28:48.704530Z"
    },
    "tags": []
   },
   "outputs": [],
   "source": [
    "start = Time(\"2023-07-31T19:08:00\", scale='utc')\n",
    "raised = Time(\"2023-07-31T19:26:00\", scale='utc')\n",
    "end = Time(\"2023-07-31T19:28:00\", scale='utc') \n",
    "hardpoint_data = await client.select_time_series(\"lsst.sal.MTM1M3.hardpointActuatorData\", \"*\", start, end)\n",
    "monitor_data = await client.select_time_series(\"lsst.sal.MTM1M3.hardpointMonitorData\", \"*\", start, end)\n",
    "ims_data = await client.select_time_series(\"lsst.sal.MTM1M3.imsData\", \"*\", start, end)\n",
    "force_data = await client.select_time_series(\"lsst.sal.MTM1M3.forceActuatorData\", \\\n",
    "                                             [\"primaryCylinderForce0\", \"timestamp\"], start, end)\n",
    "timestamp = start.isot.split('.')[0].replace('-','').replace(':','')"
   ]
  },
  {
   "cell_type": "code",
   "execution_count": null,
   "metadata": {
    "execution": {
     "iopub.execute_input": "2023-08-01T14:28:58.362522Z",
     "iopub.status.busy": "2023-08-01T14:28:58.362328Z",
     "iopub.status.idle": "2023-08-01T14:29:04.962715Z",
     "shell.execute_reply": "2023-08-01T14:29:04.962320Z",
     "shell.execute_reply.started": "2023-08-01T14:28:58.362509Z"
    },
    "tags": []
   },
   "outputs": [],
   "source": [
    "plots = ['xPosition', 'yPosition', 'zPosition', 'xRotation', 'yRotation', 'zRotation']\n",
    "\n",
    "fig, axs = plt.subplots(3,2,figsize=(8,10))\n",
    "plt.subplots_adjust(hspace=0.6, wspace=1.0)\n",
    "plt.suptitle(f\"Mirror position changes during raise: {timestamp}\", fontsize=16)\n",
    "plot_counter = 0\n",
    "for i in range(3):\n",
    "    for j in range(2):\n",
    "        \n",
    "        smoothed_ims_data = ims_data[plots[plot_counter]].rolling(10).mean()\n",
    "        smoothed_ims_data = smoothed_ims_data.dropna()\n",
    "        smoothed_ims_data -= smoothed_ims_data[0]\n",
    "        smoothed_hardpoint_data = hardpoint_data[plots[plot_counter]].rolling(10).mean()\n",
    "        \n",
    "        if plot_counter > 2:\n",
    "            smoothed_ims_data *= 1E6\n",
    "            smoothed_hardpoint_data *= 1E6\n",
    "            unit = 'microDeg'\n",
    "        else:\n",
    "            smoothed_ims_data *= 1E6\n",
    "            smoothed_hardpoint_data *= 1E6\n",
    "            unit = 'um'\n",
    "        axs[i][j].set_title(plots[plot_counter])\n",
    "        axs[i][j].set_ylabel(f'HP Displacement({unit})')\n",
    "        axs[i][j].yaxis.label.set_color('blue')\n",
    "        ax = axs[i][j].twinx()\n",
    "        ax.set_ylabel(f'IMS ({unit})')\n",
    "        ax.yaxis.label.set_color('red')\n",
    "        max_pos = np.median(smoothed_ims_data.values.max())\n",
    "        min_pos = np.median(smoothed_ims_data.values.min())\n",
    "        pos_delta = max_pos - min_pos\n",
    "        axs[i][j].set_title(plots[plot_counter]+f\"\\n Position Delta = {pos_delta:.1f} {unit}\")\n",
    "\n",
    "        smoothed_hardpoint_data.plot(ax=axs[i][j], color='blue', label='Hardpoint')\n",
    "        smoothed_ims_data.plot(ax=ax, color='red', ls='--', label='IMS')\n",
    "        hp_values = smoothed_hardpoint_data.values\n",
    "        hp_values = hp_values[~np.isnan(hp_values)]\n",
    "        y1 = hp_values.min() + 0.2 * (hp_values.max() - hp_values.min())\n",
    "        y2 = hp_values.min() + 0.8 * (hp_values.max() - hp_values.min())\n",
    "        axs[i][j].axvline(start.isot, ls = '--', color='orange')\n",
    "        axs[i][j].text(start.isot, y1, \"Lowered\", color='orange')\n",
    "        axs[i][j].axvline(end.isot, ls = '--', color='black')\n",
    "        axs[i][j].text(end.isot, y2, \" Raised\", color='black')\n",
    "        plot_counter += 1\n",
    "plt.savefig(f\"/home/c/cslage/u/MTM1M3/data/Position_Raise_{timestamp}.png\")"
   ]
  },
  {
   "cell_type": "code",
   "execution_count": null,
   "metadata": {
    "execution": {
     "iopub.execute_input": "2023-08-01T14:23:43.316222Z",
     "iopub.status.busy": "2023-08-01T14:23:43.316018Z",
     "iopub.status.idle": "2023-08-01T14:23:44.043568Z",
     "shell.execute_reply": "2023-08-01T14:23:44.043162Z",
     "shell.execute_reply.started": "2023-08-01T14:23:43.316207Z"
    },
    "tags": []
   },
   "outputs": [],
   "source": [
    "HP_disps = []\n",
    "LVDTs = []\n",
    "for i in range(6):\n",
    "    hp_disp_raised = hardpoint_data[hardpoint_data['timestamp'] > raised.unix_tai][f'displacement{i}'][0:100].mean()\n",
    "    hp_disp_lowered =  hardpoint_data[f'displacement{i}'][0:100].mean()\n",
    "    hp_delta = (hp_disp_raised - hp_disp_lowered) * 1.0E6\n",
    "    \n",
    "    lv_disp_raised = monitor_data[monitor_data['timestamp'] > raised.unix_tai][f'displacementLVDT{i}'][0:100].mean()\n",
    "    lv_disp_lowered =  monitor_data[f'displacementLVDT{i}'][-100:-1].mean()\n",
    "    lv_delta = (lv_disp_raised - lv_disp_lowered)\n",
    "    #if i not in [4]:\n",
    "    HP_disps.append(hp_delta)\n",
    "    LVDTs.append(lv_delta)\n",
    "    plt.text(hp_delta-20.0, lv_delta, str(i))\n",
    "    print(i, hp_delta, lv_delta)\n",
    "plt.title(f\"Mirror displacement comparisons \\n during raising: {timestamp}\", fontsize=16)\n",
    "plt.xlabel(\"hardpointActuatorData.displacementx (um)\")\n",
    "plt.ylabel(\"hardpointMonitorData.displacementLVDTx (??)\")\n",
    "plt.scatter(HP_disps, LVDTs)\n",
    "plt.savefig(f\"/home/c/cslage/u/MTM1M3/data/HP_Displacements_Comparisons_{timestamp}.png\")"
   ]
  },
  {
   "cell_type": "code",
   "execution_count": null,
   "metadata": {
    "execution": {
     "iopub.execute_input": "2023-08-01T14:30:08.685008Z",
     "iopub.status.busy": "2023-08-01T14:30:08.684710Z",
     "iopub.status.idle": "2023-08-01T14:30:24.471796Z",
     "shell.execute_reply": "2023-08-01T14:30:24.471421Z",
     "shell.execute_reply.started": "2023-08-01T14:30:08.684995Z"
    },
    "tags": []
   },
   "outputs": [],
   "source": [
    "timestamp = start.isot.split('.')[0].replace('-','').replace(':','')\n",
    "pdf = PdfPages(f\"/home/c/cslage/u/MTM1M3/data/Mirror_Raise_{timestamp}.pdf\")\n",
    "\n",
    "HP_disps = []\n",
    "LVDTs = []\n",
    "HP_pos = []\n",
    "ims_pos = []\n",
    "for i in range(6):\n",
    "    fig, axs = plt.subplots(5,1,figsize=(8,12))\n",
    "    plt.subplots_adjust(hspace=1.0)\n",
    "    plt.suptitle(f\"Mirror position changes during lowering: {timestamp}\", fontsize=16)\n",
    "    axs[0].set_title(\"primaryCylinderForce0\")\n",
    "    axs[0].set_ylabel(\"N\")\n",
    "    force_data[\"primaryCylinderForce0\"].plot(ax=axs[0])\n",
    "    \n",
    "    y1 = 100.0\n",
    "    y2 = 600.0\n",
    "    axs[0].axvline(raised.isot, ls = '--', color='orange')\n",
    "    axs[0].text(raised.isot, y1, \" Raised\", color='orange')\n",
    "    axs[0].axvline(end.isot, ls = '--', color='black')\n",
    "    axs[0].text(raised.isot, y2, \"                           Lowered\", color='black')\n",
    "  \n",
    "    axs[1].set_title(\"IMS zPosition\")\n",
    "    axs[1].set_ylabel(\"m\")\n",
    "    ims_data[\"zPosition\"].plot(ax=axs[1])                             \n",
    "    axs[2].set_title(\"Hardpoint encoder zPosition\")\n",
    "    axs[2].set_ylabel(\"m\")\n",
    "    hardpoint_data[\"zPosition\"].plot(ax=axs[2])\n",
    "    axs[3].set_title(f\"Hardpoint Displacement LVDT{i}\")\n",
    "    axs[3].set_ylabel(\"??\")\n",
    "    monitor_data[f\"displacementLVDT{i}\"].plot(ax=axs[3])\n",
    "    axs[4].set_title(f\"Hardpoint Breakaway LVDT{i}\")\n",
    "    axs[4].set_ylabel(\"??\")\n",
    "    monitor_data.plot.scatter(ax=axs[4], x='timestamp', y=f\"breakawayLVDT{i}\")\n",
    "    pdf.savefig(fig)  # saves the current figure into a pdf page\n",
    "    plt.clf()\n",
    "pdf.close()"
   ]
  },
  {
   "cell_type": "code",
   "execution_count": null,
   "metadata": {
    "execution": {
     "iopub.execute_input": "2023-08-01T14:31:29.966400Z",
     "iopub.status.busy": "2023-08-01T14:31:29.966137Z",
     "iopub.status.idle": "2023-08-01T14:31:30.369645Z",
     "shell.execute_reply": "2023-08-01T14:31:30.369252Z",
     "shell.execute_reply.started": "2023-08-01T14:31:29.966387Z"
    },
    "tags": []
   },
   "outputs": [],
   "source": [
    "posNames = ['xPosition', 'yPosition', 'zPosition', 'xRotation', 'yRotation', 'zRotation']\n",
    "fig = plt.figure(figsize=(10,5))\n",
    "plt.subplots_adjust(wspace = 0.5)\n",
    "plt.suptitle(f\"Mirror position comparisons during raising: {timestamp}\", fontsize=16)                 \n",
    "\n",
    "for i in range(2):\n",
    "    IMS = []\n",
    "    HP = []\n",
    "    plt.subplot(1,2,i+1)\n",
    "    for j in range(3):\n",
    "        posName = posNames[int(3 * i + j)]\n",
    "        ims_raised = ims_data[ims_data['timestamp'] > raised.unix_tai][posName][0:100].mean()\n",
    "        ims_lowered =  ims_data[posName][-100:-1].mean()\n",
    "        ims_delta = (ims_raised - ims_lowered) * 1.0E6\n",
    "\n",
    "        hp_raised = hardpoint_data[hardpoint_data['timestamp'] > raised.unix_tai][posName][0:100].mean()\n",
    "        hp_lowered =  hardpoint_data[posName][-100:-1].mean()\n",
    "        hp_delta = (hp_raised - hp_lowered) * 1.0E6\n",
    "        HP.append(hp_delta)\n",
    "        IMS.append(ims_delta)\n",
    "        if j == 2:\n",
    "            shift = -1500.0\n",
    "        else:\n",
    "            shift = 200.0\n",
    "        plt.text(hp_delta+shift, ims_delta, posName)\n",
    "        print(posName, ims_delta, hp_delta, ims_delta/hp_delta)\n",
    "    \n",
    "    if i == 0:\n",
    "        plt.title(\"Positions\")\n",
    "        plt.xlabel(\"Hardpoint position (um)\")\n",
    "        plt.ylabel(\"IMS position (um)\")\n",
    "        xs = np.linspace(0,5000, 500)\n",
    "        plt.plot(xs, xs, ls='--', color='red')\n",
    "        \n",
    "    else:\n",
    "        plt.title(\"Rotations\")\n",
    "        plt.xlabel(\"Hardpoint rotation (microdeg)\")\n",
    "        plt.ylabel(\"IMS rotation (microdeg)\")\n",
    "        xs = np.linspace(-7500, -1000, 500)\n",
    "        plt.plot(xs, xs, ls='--', color='red')\n",
    "    \n",
    "    plt.scatter(HP, IMS)  \n",
    "plt.savefig(f\"/home/c/cslage/u/MTM1M3/data/HP_Position_Comparisons_{timestamp}.png\")"
   ]
  },
  {
   "cell_type": "code",
   "execution_count": null,
   "metadata": {},
   "outputs": [],
   "source": []
  },
  {
   "cell_type": "code",
   "execution_count": null,
   "metadata": {
    "execution": {
     "iopub.execute_input": "2023-08-01T14:31:57.466135Z",
     "iopub.status.busy": "2023-08-01T14:31:57.465895Z",
     "iopub.status.idle": "2023-08-01T14:31:58.326495Z",
     "shell.execute_reply": "2023-08-01T14:31:58.326077Z",
     "shell.execute_reply.started": "2023-08-01T14:31:57.466122Z"
    },
    "tags": []
   },
   "outputs": [],
   "source": [
    "start = Time(\"2023-07-31T19:17:00\", scale='utc')\n",
    "end = Time(\"2023-07-31T19:18:15\", scale='utc') \n",
    "hardpoint_data = await client.select_time_series(\"lsst.sal.MTM1M3.hardpointActuatorData\", \"*\", start, end)\n",
    "monitor_data = await client.select_time_series(\"lsst.sal.MTM1M3.hardpointMonitorData\", \"*\", start, end)\n",
    "\n",
    "HP_disps = []\n",
    "LVDTs = []\n",
    "HP_pos = []\n",
    "ims_pos = []\n",
    "for i in [3]:\n",
    "    fig, axs = plt.subplots(3,1,figsize=(8,12))\n",
    "    plt.subplots_adjust(hspace=1.0)\n",
    "    plt.suptitle(f\"Mirror position changes during raising\", fontsize=16)\n",
    "\n",
    "    axs[0].set_title(\"Hardpoint encoder zPosition\")\n",
    "    axs[0].set_ylabel(\"m\")\n",
    "    hardpoint_data[\"zPosition\"].plot(ax=axs[0])\n",
    "    axs[1].set_title(f\"Hardpoint Displacement LVDT{i}\")\n",
    "    axs[1].set_ylabel(\"??\")\n",
    "    monitor_data[f\"displacementLVDT{i}\"].plot(ax=axs[1])\n",
    "    disp = -hardpoint_data[f\"displacement{i}\"].values * 1.0E3\n",
    "    lvdt = monitor_data[f\"displacementLVDT{i}\"].values\n",
    "    axs[2].scatter(disp, lvdt)\n",
    "    fit = np.polyfit(disp, lvdt, 1)\n",
    "    xplot = np.linspace(disp.min(), disp.max(), 1000)\n",
    "    yplot = np.polyval(fit, xplot)\n",
    "    axs[2].plot(xplot, yplot, ls='--', color='red')\n",
    "    multiplier = 1.0 / fit[0]\n",
    "    axs[2].text(disp.min(), (lvdt.min() + lvdt.max()) / 2.0, f\"LVDT mutiplier = \\n{multiplier:.4f} to convert to mm.\")\n",
    "    \n"
   ]
  },
  {
   "cell_type": "code",
   "execution_count": null,
   "metadata": {
    "execution": {
     "iopub.execute_input": "2023-08-01T14:27:06.685456Z",
     "iopub.status.busy": "2023-08-01T14:27:06.684957Z",
     "iopub.status.idle": "2023-08-01T14:27:07.959445Z",
     "shell.execute_reply": "2023-08-01T14:27:07.959033Z",
     "shell.execute_reply.started": "2023-08-01T14:27:06.685443Z"
    },
    "tags": []
   },
   "outputs": [],
   "source": [
    "start = Time(\"2023-07-31T19:17:00\", scale='utc')\n",
    "end = Time(\"2023-07-31T19:18:15\", scale='utc') \n",
    "hardpoint_data = await client.select_time_series(\"lsst.sal.MTM1M3.hardpointActuatorData\", \"*\", start, end)\n",
    "monitor_data = await client.select_time_series(\"lsst.sal.MTM1M3.hardpointMonitorData\", \"*\", start, end)\n",
    "\n",
    "fig, axs = plt.subplots(3,2,figsize=(8,10))\n",
    "plt.subplots_adjust(hspace=0.5, wspace=0.5)\n",
    "plt.suptitle(f\"Hardpoint LVDT calibrations\", fontsize=16)\n",
    "plot_counter = 0\n",
    "for i in range(3):\n",
    "    for j in range(2):\n",
    "        disp = -hardpoint_data[f\"displacement{plot_counter}\"].values * 1.0E3\n",
    "        lvdt = monitor_data[f\"displacementLVDT{plot_counter}\"].values\n",
    "        axs[i][j].set_title(f\"Hardpoint {plot_counter}\")\n",
    "        axs[i][j].set_xlabel(f\"Hardpoint Displacement{plot_counter} (mm)\")\n",
    "        axs[i][j].set_ylabel(f\"LVDT Displacement{plot_counter}\")\n",
    "        axs[i][j].scatter(disp, lvdt)\n",
    "        fit = np.polyfit(disp, lvdt, 1)\n",
    "        xplot = np.linspace(disp.min(), disp.max(), 1000)\n",
    "        yplot = np.polyval(fit, xplot)\n",
    "        axs[i][j].plot(xplot, yplot, ls='--', lw=3, color='red')\n",
    "        multiplier = 1.0 / fit[0]\n",
    "        axs[i][j].text(disp.min(), lvdt.max() - (lvdt.max() - lvdt.min()) * 0.2, \\\n",
    "                       f\"LVDT mutiplier = {multiplier:.4f}\\n to convert to mm.\")\n",
    "        plot_counter += 1\n",
    "plt.savefig(f\"/home/c/cslage/u/MTM1M3/data/Hardpoint_LVDT_Calibrations_31Jul23.png\")"
   ]
  },
  {
   "cell_type": "code",
   "execution_count": null,
   "metadata": {},
   "outputs": [],
   "source": []
  }
 ],
 "metadata": {
  "kernelspec": {
   "display_name": "LSST",
   "language": "python",
   "name": "lsst"
  },
  "language_info": {
   "codemirror_mode": {
    "name": "ipython",
    "version": 3
   },
   "file_extension": ".py",
   "mimetype": "text/x-python",
   "name": "python",
   "nbconvert_exporter": "python",
   "pygments_lexer": "ipython3",
   "version": "3.10.10"
  }
 },
 "nbformat": 4,
 "nbformat_minor": 4
}
