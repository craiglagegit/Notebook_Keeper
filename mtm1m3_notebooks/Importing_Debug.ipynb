{
 "cells": [
  {
   "cell_type": "code",
   "execution_count": null,
   "id": "4deaf8b1-b2ae-4203-8521-14bccc86046b",
   "metadata": {
    "execution": {
     "iopub.execute_input": "2023-07-13T19:47:12.472309Z",
     "iopub.status.busy": "2023-07-13T19:47:12.472185Z",
     "iopub.status.idle": "2023-07-13T19:47:12.478485Z",
     "shell.execute_reply": "2023-07-13T19:47:12.478125Z",
     "shell.execute_reply.started": "2023-07-13T19:47:12.472297Z"
    },
    "tags": []
   },
   "outputs": [],
   "source": [
    "import lsst.ts.cRIOpy.M1M3FATable as M1M3FATable"
   ]
  },
  {
   "cell_type": "code",
   "execution_count": null,
   "id": "aa05f116-55bf-47a5-8ddc-2877c4c2c613",
   "metadata": {},
   "outputs": [],
   "source": [
    "import lsst.ts.criopy.M1M3FATable as M1M3FATable"
   ]
  },
  {
   "cell_type": "code",
   "execution_count": null,
   "id": "2fc99bc5-aafb-4367-8c9c-18517c661a9b",
   "metadata": {
    "tags": []
   },
   "outputs": [],
   "source": [
    "from lsst.summit.utils.tmaUtils import TMAEventMaker\n",
    "from lsst.summit.utils.efdUtils import (makeEfdClient,\n",
    "                                        getEfdData,\n",
    "                                        getMostRecentRowWithDataBefore,\n",
    "                                        efdTimestampToAstropy,\n",
    "                                       )\n",
    "\n",
    "client = makeEfdClient()\n",
    "dayObs = 20230627\n",
    "eventMaker = TMAEventMaker()\n",
    "events = eventMaker.getEvents(dayObs)\n",
    "print(f'Found {len(events)} for {dayObs=}')"
   ]
  },
  {
   "cell_type": "code",
   "execution_count": null,
   "id": "fd0a4407-d7b3-41ba-b765-bc875e7137ef",
   "metadata": {
    "execution": {
     "iopub.execute_input": "2023-07-13T19:47:33.678833Z",
     "iopub.status.busy": "2023-07-13T19:47:33.678648Z",
     "iopub.status.idle": "2023-07-13T19:47:34.395560Z",
     "shell.execute_reply": "2023-07-13T19:47:34.395082Z",
     "shell.execute_reply.started": "2023-07-13T19:47:33.678818Z"
    },
    "tags": []
   },
   "outputs": [],
   "source": [
    "! eups list -s | grep lsst_distrib\n",
    "! eups list -s | grep ts_cRIOpy"
   ]
  },
  {
   "cell_type": "code",
   "execution_count": null,
   "id": "dc2e58cd-dba7-4ac6-a71b-18ee29ee50df",
   "metadata": {
    "tags": []
   },
   "outputs": [],
   "source": [
    "import lsst.ts.cRIOpy"
   ]
  },
  {
   "cell_type": "code",
   "execution_count": null,
   "id": "a9bdade6-de79-4c5d-b70d-2d32d44d8193",
   "metadata": {
    "tags": []
   },
   "outputs": [],
   "source": [
    "import os\n",
    "path = os.path.abspath(lsst.ts.cRIOpy.__file__)\n",
    "print(path)"
   ]
  },
  {
   "cell_type": "code",
   "execution_count": null,
   "id": "320e4105-07e2-443c-9f68-3a3a2463e97d",
   "metadata": {},
   "outputs": [],
   "source": []
  }
 ],
 "metadata": {
  "kernelspec": {
   "display_name": "LSST",
   "language": "python",
   "name": "lsst"
  },
  "language_info": {
   "codemirror_mode": {
    "name": "ipython",
    "version": 3
   },
   "file_extension": ".py",
   "mimetype": "text/x-python",
   "name": "python",
   "nbconvert_exporter": "python",
   "pygments_lexer": "ipython3",
   "version": "3.10.10"
  }
 },
 "nbformat": 4,
 "nbformat_minor": 5
}
