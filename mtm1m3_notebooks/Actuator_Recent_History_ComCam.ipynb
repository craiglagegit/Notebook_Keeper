{
 "cells": [
  {
   "cell_type": "markdown",
   "metadata": {},
   "source": [
    "# Bump test recent history"
   ]
  },
  {
   "cell_type": "code",
   "execution_count": null,
   "metadata": {
    "execution": {
     "iopub.execute_input": "2025-04-04T14:33:33.520781Z",
     "iopub.status.busy": "2025-04-04T14:33:33.520284Z",
     "iopub.status.idle": "2025-04-04T14:33:34.295399Z",
     "shell.execute_reply": "2025-04-04T14:33:34.294997Z",
     "shell.execute_reply.started": "2025-04-04T14:33:33.520755Z"
    },
    "tags": []
   },
   "outputs": [],
   "source": [
    "import asyncio, time\n",
    "import numpy as np\n",
    "import pandas as pd\n",
    "import matplotlib.pyplot as plt\n",
    "from matplotlib.ticker import FormatStrFormatter\n",
    "from matplotlib.backends.backend_pdf import PdfPages\n",
    "from astropy.time import Time, TimeDelta\n",
    "from lsst.ts.xml.tables.m1m3 import FATable, FAIndex, force_actuator_from_id, actuator_id_to_index\n",
    "from lsst_efd_client import EfdClient\n",
    "from lsst.ts.xml.enums.MTM1M3 import BumpTest"
   ]
  },
  {
   "cell_type": "code",
   "execution_count": null,
   "metadata": {
    "execution": {
     "iopub.execute_input": "2025-04-04T14:33:34.297480Z",
     "iopub.status.busy": "2025-04-04T14:33:34.297331Z",
     "iopub.status.idle": "2025-04-04T14:33:34.302730Z",
     "shell.execute_reply": "2025-04-04T14:33:34.302378Z",
     "shell.execute_reply.started": "2025-04-04T14:33:34.297465Z"
    }
   },
   "outputs": [],
   "source": [
    "def max_error(errors):\n",
    "    return np.max([np.max(errors), np.max(errors * -1.0)])\n",
    "\n",
    "def rms_error(times, errors):\n",
    "    error = 0.0\n",
    "    num = 0\n",
    "    for i, t in enumerate(times):\n",
    "        if (t > 3.0 and t < 4.0) or (t > 10.0 and t < 11.0):\n",
    "            num += 1\n",
    "            error += errors[i]**2\n",
    "    if num == 0:\n",
    "        return np.nan\n",
    "    else:\n",
    "        return np.sqrt(error / num)\n",
    "        \n",
    "async def calc_bumps_and_errors(bump, bt_result, follow):\n",
    "    BUMP_TEST_DURATION = 14.0  # seconds\n",
    "    measured_forces_times = []\n",
    "    following_error_values = []\n",
    "    t_starts = []\n",
    "    results = bt_result[bt_result[bump] == BumpTest.TESTINGPOSITIVE]\n",
    "    print(len(results))\n",
    "    for bt_index in range(len(results)):\n",
    "        t_start = Time(\n",
    "            bt_result[bt_result[bump] == BumpTest.TESTINGPOSITIVE][\n",
    "                \"timestamp\"\n",
    "            ].values[bt_index]\n",
    "            - 1.0,\n",
    "            format=\"unix_tai\",\n",
    "            scale=\"tai\",\n",
    "        )\n",
    "        t_starts.append(t_start.isot.split('.')[0])\n",
    "        t_end = Time(\n",
    "            t_start + TimeDelta(BUMP_TEST_DURATION, format=\"sec\"),\n",
    "            format=\"unix_tai\",\n",
    "            scale=\"tai\",\n",
    "        )\n",
    "        print(f\"Getting measured forces for {bump}, {bt_index}, {t_start.utc.isot}, {t_end.utc.isot}\")\n",
    "        measured_forces = await client.select_time_series(\\\n",
    "                    \"lsst.sal.MTM1M3.forceActuatorData\", \\\n",
    "                    [follow, \"timestamp\"], t_start.utc, t_end.utc)\n",
    "        print(bump, bt_index, len(measured_forces))\n",
    "        t0 = measured_forces[\"timestamp\"].values[0]\n",
    "        measured_forces[\"timestamp\"] -= t0\n",
    "    \n",
    "        # It is easier/faster to work with arrays\n",
    "        measured_forces_time = measured_forces[\"timestamp\"].values\n",
    "        measured_forces_times.append(measured_forces_time)\n",
    "        following_error_value = measured_forces[follow].values\n",
    "        following_error_values.append(following_error_value)\n",
    "\n",
    "    times = []\n",
    "    max_errors = []\n",
    "    rms_errors = []\n",
    "    print(len(measured_forces_times), \"Starting time loop\")\n",
    "    for i in range(len(measured_forces_times)):\n",
    "        print(i, t_starts[i])\n",
    "        times.append(t_starts[i])\n",
    "        max_errors.append(max_error(following_error_values[i]))\n",
    "        rms_errors.append(rms_error(measured_forces_times[i], following_error_values[i]))\n",
    "    print(\"Done, returning\")\n",
    "    return [times, rms_errors, max_errors]"
   ]
  },
  {
   "cell_type": "code",
   "execution_count": null,
   "metadata": {
    "execution": {
     "iopub.execute_input": "2025-04-04T14:33:35.007071Z",
     "iopub.status.busy": "2025-04-04T14:33:35.006528Z",
     "iopub.status.idle": "2025-04-04T14:33:35.010654Z",
     "shell.execute_reply": "2025-04-04T14:33:35.010273Z",
     "shell.execute_reply.started": "2025-04-04T14:33:35.007047Z"
    }
   },
   "outputs": [],
   "source": [
    "async def actuator_error(client, fa_id, bt_results):    \n",
    "    # Grab the Force Actuator Data from its ID\n",
    "    fa_data = force_actuator_from_id(fa_id)\n",
    "    bt_result = bt_results[bt_results[\"actuatorId\"] == fa_id]\n",
    "    \n",
    "    # First the primary forces\n",
    "    bump = f\"primaryTest{fa_data.index}\"\n",
    "    follow = f\"primaryCylinderFollowingError{fa_data.index}\"\n",
    "    [ptimes, prms_errors, pmax_errors] = \\\n",
    "        await calc_bumps_and_errors(bump, bt_result, follow)\n",
    "    print(f\"Finished primary forces for {fa_id}\")\n",
    "    # Now the secondary  forces  \n",
    "    if fa_data.actuator_type.name == \"DAA\":\n",
    "        bump = f\"secondaryTest{fa_data.s_index}\"\n",
    "        follow = f\"secondaryCylinderFollowingError{fa_data.s_index}\"\n",
    "            \n",
    "        [stimes, srms_errors, smax_errors] = \\\n",
    "            await calc_bumps_and_errors(bump, bt_result, follow)\n",
    "        print(f\"Finished secondary forces for {fa_id}\")\n",
    "    else:\n",
    "        stimes = []; srms_errors = []; smax_errors = []\n",
    "        print(\"No secondary\")\n",
    "\n",
    "    return [ptimes, prms_errors, pmax_errors, stimes, srms_errors, smax_errors]\n"
   ]
  },
  {
   "cell_type": "code",
   "execution_count": null,
   "metadata": {
    "execution": {
     "iopub.execute_input": "2025-04-04T14:34:21.091890Z",
     "iopub.status.busy": "2025-04-04T14:34:21.091568Z",
     "iopub.status.idle": "2025-04-04T14:34:23.142625Z",
     "shell.execute_reply": "2025-04-04T14:34:23.142145Z",
     "shell.execute_reply.started": "2025-04-04T14:34:21.091873Z"
    }
   },
   "outputs": [],
   "source": [
    "start = Time(\"2024-10-24T00:00:00\", scale='utc')\n",
    "end = Time(\"2024-10-30T00:00:00\", scale='utc')\n",
    "client = EfdClient('usdf_efd')\n",
    "query = f'''SELECT * FROM \"lsst.sal.MTM1M3.logevent_forceActuatorBumpTestStatus\" WHERE time > '{start.isot}Z' AND time < '{end.isot}Z' '''\n",
    "chunks = await client.influx_client.query(query, chunked=True, chunk_size=1000)\n",
    "bumps = pd.concat([chunk async for chunk in chunks])\n",
    "\n",
    "ids = []\n",
    "for index in range(len(FATable)):\n",
    "    id = FATable[index].actuator_id\n",
    "    ids.append(id)\n"
   ]
  },
  {
   "cell_type": "code",
   "execution_count": null,
   "metadata": {
    "execution": {
     "iopub.execute_input": "2025-04-04T14:34:35.417326Z",
     "iopub.status.busy": "2025-04-04T14:34:35.416984Z",
     "iopub.status.idle": "2025-04-04T14:34:35.420308Z",
     "shell.execute_reply": "2025-04-04T14:34:35.419953Z",
     "shell.execute_reply.started": "2025-04-04T14:34:35.417308Z"
    },
    "jupyter": {
     "outputs_hidden": true
    }
   },
   "outputs": [],
   "source": [
    "for id in ids:\n",
    "    print(id)"
   ]
  },
  {
   "cell_type": "code",
   "execution_count": null,
   "metadata": {
    "execution": {
     "iopub.execute_input": "2025-04-04T14:34:57.885642Z",
     "iopub.status.busy": "2025-04-04T14:34:57.885393Z",
     "iopub.status.idle": "2025-04-04T14:35:30.627504Z",
     "shell.execute_reply": "2025-04-04T14:35:30.626956Z",
     "shell.execute_reply.started": "2025-04-04T14:34:57.885624Z"
    },
    "jupyter": {
     "outputs_hidden": true
    }
   },
   "outputs": [],
   "source": [
    "%matplotlib inline\n",
    "fig, axs = plt.subplots(2,2, figsize=(10,10))\n",
    "plt.suptitle(\"Actuator Recent History\\nNot plotted -> All green\", fontsize=18)\n",
    "plot_list = [[0,0,\"Primary RMS Errors\", 0, 1, 5, 10],\n",
    "             [1,0,\"Primary Max Errors\", 0, 2, 100, 200],\n",
    "             [0,1,\"Secondary RMS Errors\", 3, 4, 7.0, 14.0],\n",
    "             [1,1,\"Secondary Max Errors\", 3, 5, 140, 280]]\n",
    "ns = np.zeros(4) # Number of bad ids per plot\n",
    "bad_ids = [[],[],[],[]] # List of bad_ids per plot\n",
    "min_times = np.ones(4) * 1.0E12 # Min/Max times in unix_tai\n",
    "max_times = np.zeros(4) # Min/Max times in unix_tai\n",
    "min_time_list = [[],[],[],[]] # Min/Max times in isot\n",
    "max_time_list = [[],[],[],[]] # Min/Max times in isot\n",
    "for id in ids:\n",
    "    data = await actuator_error(client, id, bumps)\n",
    "    for m, [xplot, yplot, title, time_index, error_index, yellow_limit, red_limit] in enumerate(plot_list):\n",
    "        errors = data[error_index]\n",
    "        if len(errors) > 0:\n",
    "            max = np.max(errors)\n",
    "        else:\n",
    "            max = 0.0\n",
    "        if max > yellow_limit:\n",
    "            bad_ids[m].append(id)\n",
    "        else:\n",
    "            continue\n",
    "\n",
    "        times = data[time_index]\n",
    "        actual_times_red = []\n",
    "        actual_times_yellow = []\n",
    "        actual_times_green = []\n",
    "        yaxis_red = []\n",
    "        yaxis_yellow = []\n",
    "        yaxis_green = []\n",
    "    \n",
    "        for i, time in enumerate(times):\n",
    "            act_time = Time(time, format='isot').unix_tai\n",
    "            if act_time < min_times[m]:\n",
    "                min_times[m] = act_time\n",
    "                min_time_list[m] = time\n",
    "            if act_time > max_times[m]:\n",
    "                max_times[m] = act_time\n",
    "                max_time_list[m] = time\n",
    "            \n",
    "            if errors[i] > red_limit:\n",
    "                actual_times_red.append(act_time)\n",
    "                yaxis_red.append(ns[m])\n",
    "            elif errors[i] > yellow_limit:\n",
    "                actual_times_yellow.append(act_time)\n",
    "                yaxis_yellow.append(ns[m])\n",
    "            else:\n",
    "                actual_times_green.append(act_time)\n",
    "                yaxis_green.append(ns[m])\n",
    "\n",
    "        axs[xplot][yplot].set_title(title)\n",
    "        axs[xplot][yplot].scatter(actual_times_green, yaxis_green, color='green')\n",
    "        axs[xplot][yplot].scatter(actual_times_yellow, yaxis_yellow, color='gold')\n",
    "        axs[xplot][yplot].scatter(actual_times_red, yaxis_red, color='red')\n",
    "        ns[m] += 1\n",
    "    print(f\"Finished ID {id}\")\n",
    "for m, [xplot, yplot, title, time_index, error_index, yellow_limit, red_limit] in enumerate(plot_list):\n",
    "    axs[xplot][yplot].set_yticks(list(range(len(bad_ids[m]))), bad_ids[m])\n",
    "    axs[xplot][yplot].set_xticks([min_times[m], max_times[m]],[min_time_list[m], max_time_list[m]], rotation=10)\n",
    "plt.savefig(f\"/home/c/cslage/u/MTM1M3/data/Actuator_Trends_11Oct24.pdf\")\n",
    "#plt.show()"
   ]
  },
  {
   "cell_type": "code",
   "execution_count": null,
   "metadata": {
    "execution": {
     "iopub.execute_input": "2025-04-04T14:37:23.319371Z",
     "iopub.status.busy": "2025-04-04T14:37:23.318740Z",
     "iopub.status.idle": "2025-04-04T14:37:23.323468Z",
     "shell.execute_reply": "2025-04-04T14:37:23.323087Z",
     "shell.execute_reply.started": "2025-04-04T14:37:23.319353Z"
    }
   },
   "outputs": [],
   "source": [
    "bad_ids[0]"
   ]
  },
  {
   "cell_type": "code",
   "execution_count": null,
   "metadata": {
    "execution": {
     "iopub.execute_input": "2024-10-23T16:13:55.859581Z",
     "iopub.status.busy": "2024-10-23T16:13:55.859060Z",
     "iopub.status.idle": "2024-10-23T16:13:56.253095Z",
     "shell.execute_reply": "2024-10-23T16:13:56.252666Z",
     "shell.execute_reply.started": "2024-10-23T16:13:55.859562Z"
    }
   },
   "outputs": [],
   "source": [
    "client = EfdClient('usdf_efd')"
   ]
  },
  {
   "cell_type": "code",
   "execution_count": null,
   "metadata": {
    "execution": {
     "iopub.execute_input": "2024-10-23T16:26:46.638334Z",
     "iopub.status.busy": "2024-10-23T16:26:46.638060Z",
     "iopub.status.idle": "2024-10-23T16:26:46.651953Z",
     "shell.execute_reply": "2024-10-23T16:26:46.651578Z",
     "shell.execute_reply.started": "2024-10-23T16:26:46.638318Z"
    }
   },
   "outputs": [],
   "source": [
    "t0 = Time.now()\n",
    "start = Time('2024-09-19T12:24:07.288')\n",
    "end = Time('2024-09-19T12:24:21.288')\n",
    "follow = 'primaryCylinderFollowingError0'\n",
    "measured_forces = await client.select_time_series(\\\n",
    "            \"lsst.sal.MTM1M3.forceActuatorData\", \\\n",
    "            [follow, \"timestamp\"], start, end)\n",
    "t1 = Time.now()\n",
    "\n",
    "print(len(measured_forces), f\"Time = {(t1 - t0).value * 86400 * 1000} ms\")"
   ]
  },
  {
   "cell_type": "code",
   "execution_count": null,
   "metadata": {
    "execution": {
     "iopub.execute_input": "2024-10-23T16:14:04.659599Z",
     "iopub.status.busy": "2024-10-23T16:14:04.659316Z",
     "iopub.status.idle": "2024-10-23T16:14:28.070079Z",
     "shell.execute_reply": "2024-10-23T16:14:28.069465Z",
     "shell.execute_reply.started": "2024-10-23T16:14:04.659582Z"
    }
   },
   "outputs": [],
   "source": [
    "start = Time('2024-09-20T21:06:12.782')\n",
    "end = Time('2024-09-20T21:06:26.782')\n",
    "follow = 'primaryCylinderFollowingError0'\n",
    "measured_forces = await client.select_time_series(\\\n",
    "            \"lsst.sal.MTM1M3.forceActuatorData\", \\\n",
    "            [follow, \"timestamp\"], start, end)\n",
    "print(len(measured_forces))"
   ]
  },
  {
   "cell_type": "code",
   "execution_count": null,
   "metadata": {
    "execution": {
     "iopub.execute_input": "2024-10-18T17:05:13.645527Z",
     "iopub.status.busy": "2024-10-18T17:05:13.645116Z",
     "iopub.status.idle": "2024-10-18T17:05:13.647617Z",
     "shell.execute_reply": "2024-10-18T17:05:13.647332Z",
     "shell.execute_reply.started": "2024-10-18T17:05:13.645512Z"
    }
   },
   "outputs": [],
   "source": [
    "start = Time.now()"
   ]
  },
  {
   "cell_type": "code",
   "execution_count": null,
   "metadata": {
    "execution": {
     "iopub.execute_input": "2024-10-18T17:05:22.877892Z",
     "iopub.status.busy": "2024-10-18T17:05:22.877582Z",
     "iopub.status.idle": "2024-10-18T17:05:22.880080Z",
     "shell.execute_reply": "2024-10-18T17:05:22.879786Z",
     "shell.execute_reply.started": "2024-10-18T17:05:22.877878Z"
    }
   },
   "outputs": [],
   "source": [
    "end = Time.now()"
   ]
  },
  {
   "cell_type": "code",
   "execution_count": null,
   "metadata": {
    "execution": {
     "iopub.execute_input": "2024-10-18T17:06:41.516743Z",
     "iopub.status.busy": "2024-10-18T17:06:41.516435Z",
     "iopub.status.idle": "2024-10-18T17:06:41.519976Z",
     "shell.execute_reply": "2024-10-18T17:06:41.519693Z",
     "shell.execute_reply.started": "2024-10-18T17:06:41.516729Z"
    }
   },
   "outputs": [],
   "source": [
    "(end - start).value * 86400"
   ]
  },
  {
   "cell_type": "code",
   "execution_count": null,
   "metadata": {
    "execution": {
     "iopub.execute_input": "2024-12-03T20:31:39.826449Z",
     "iopub.status.busy": "2024-12-03T20:31:39.825910Z",
     "iopub.status.idle": "2024-12-03T20:31:40.220995Z",
     "shell.execute_reply": "2024-12-03T20:31:40.220552Z",
     "shell.execute_reply.started": "2024-12-03T20:31:39.826426Z"
    }
   },
   "outputs": [],
   "source": [
    "end = Time.now()\n",
    "start = end - TimeDelta(days_to_plot, format='jd')\n",
    "client = EfdClient('usdf_efd')\n"
   ]
  },
  {
   "cell_type": "code",
   "execution_count": null,
   "metadata": {
    "execution": {
     "iopub.execute_input": "2024-12-03T20:28:15.640350Z",
     "iopub.status.busy": "2024-12-03T20:28:15.639948Z",
     "iopub.status.idle": "2024-12-03T20:28:15.642826Z",
     "shell.execute_reply": "2024-12-03T20:28:15.642529Z",
     "shell.execute_reply.started": "2024-12-03T20:28:15.640335Z"
    }
   },
   "outputs": [],
   "source": []
  },
  {
   "cell_type": "code",
   "execution_count": null,
   "metadata": {
    "execution": {
     "iopub.execute_input": "2024-12-03T20:55:04.498213Z",
     "iopub.status.busy": "2024-12-03T20:55:04.497798Z",
     "iopub.status.idle": "2024-12-03T20:55:04.698144Z",
     "shell.execute_reply": "2024-12-03T20:55:04.697687Z",
     "shell.execute_reply.started": "2024-12-03T20:55:04.498198Z"
    },
    "jupyter": {
     "outputs_hidden": true
    }
   },
   "outputs": [],
   "source": [
    "when = Time('2024-12-03T12:00:00Z', scale='utc')\n",
    "for i in range(156):\n",
    "    query = f'SELECT forceActuatorEnabled{i} FROM \"efd\".\"autogen\".\"lsst.sal.MTM1M3.logevent_enabledForceActuators\" '\n",
    "    query += f\"WHERE time <= '{when.isot}+00:00' GROUP BY * ORDER BY DESC LIMIT 1\"\n",
    "    enabled = await client.influx_client.query(query)\n",
    "    print(i, enabled[f'forceActuatorEnabled{i}'].values[0])"
   ]
  },
  {
   "cell_type": "code",
   "execution_count": null,
   "metadata": {
    "execution": {
     "iopub.execute_input": "2024-12-03T20:31:43.352208Z",
     "iopub.status.busy": "2024-12-03T20:31:43.351954Z",
     "iopub.status.idle": "2024-12-03T20:31:43.374570Z",
     "shell.execute_reply": "2024-12-03T20:31:43.374176Z",
     "shell.execute_reply.started": "2024-12-03T20:31:43.352193Z"
    }
   },
   "outputs": [],
   "source": []
  },
  {
   "cell_type": "code",
   "execution_count": null,
   "metadata": {
    "execution": {
     "iopub.execute_input": "2024-12-03T20:55:13.643261Z",
     "iopub.status.busy": "2024-12-03T20:55:13.642945Z",
     "iopub.status.idle": "2024-12-03T20:55:13.646127Z",
     "shell.execute_reply": "2024-12-03T20:55:13.645720Z",
     "shell.execute_reply.started": "2024-12-03T20:55:13.643245Z"
    }
   },
   "outputs": [],
   "source": [
    "for key in enabled.keys():\n",
    "    print(key, enabled[key])"
   ]
  },
  {
   "cell_type": "code",
   "execution_count": null,
   "metadata": {
    "execution": {
     "iopub.execute_input": "2024-12-03T20:56:42.304715Z",
     "iopub.status.busy": "2024-12-03T20:56:42.304395Z",
     "iopub.status.idle": "2024-12-03T20:56:42.306926Z",
     "shell.execute_reply": "2024-12-03T20:56:42.306592Z",
     "shell.execute_reply.started": "2024-12-03T20:56:42.304701Z"
    }
   },
   "outputs": [],
   "source": [
    "test = enabled['forceActuatorEnabled0']"
   ]
  },
  {
   "cell_type": "code",
   "execution_count": null,
   "metadata": {
    "execution": {
     "iopub.execute_input": "2024-12-03T20:57:29.792736Z",
     "iopub.status.busy": "2024-12-03T20:57:29.792333Z",
     "iopub.status.idle": "2024-12-03T20:57:29.795424Z",
     "shell.execute_reply": "2024-12-03T20:57:29.795107Z",
     "shell.execute_reply.started": "2024-12-03T20:57:29.792720Z"
    }
   },
   "outputs": [],
   "source": [
    "test.values[0]"
   ]
  },
  {
   "cell_type": "code",
   "execution_count": null,
   "metadata": {},
   "outputs": [],
   "source": []
  }
 ],
 "metadata": {
  "kernelspec": {
   "display_name": "LSST",
   "language": "python",
   "name": "lsst"
  },
  "language_info": {
   "codemirror_mode": {
    "name": "ipython",
    "version": 3
   },
   "file_extension": ".py",
   "mimetype": "text/x-python",
   "name": "python",
   "nbconvert_exporter": "python",
   "pygments_lexer": "ipython3",
   "version": "3.12.9"
  }
 },
 "nbformat": 4,
 "nbformat_minor": 4
}
