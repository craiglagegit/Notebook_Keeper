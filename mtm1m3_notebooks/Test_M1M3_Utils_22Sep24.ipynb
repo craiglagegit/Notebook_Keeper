{
 "cells": [
  {
   "cell_type": "code",
   "execution_count": null,
   "id": "a2fcd347-2752-4f04-80d0-81326fd39c06",
   "metadata": {
    "execution": {
     "iopub.execute_input": "2024-09-22T12:37:52.822013Z",
     "iopub.status.busy": "2024-09-22T12:37:52.821714Z",
     "iopub.status.idle": "2024-09-22T12:37:53.133601Z",
     "shell.execute_reply": "2024-09-22T12:37:53.133157Z",
     "shell.execute_reply.started": "2024-09-22T12:37:52.821998Z"
    }
   },
   "outputs": [],
   "source": [
    "import sys, time, os, asyncio, glob\n",
    "from datetime import datetime\n",
    "import numpy as np\n",
    "import matplotlib.pyplot as plt\n",
    "import pandas as pd\n",
    "from astropy.time import Time, TimeDelta\n",
    "from lsst.ts.xml.tables.m1m3 import FATable, FAIndex, force_actuator_from_id, actuator_id_to_index\n",
    "from lsst_efd_client import EfdClient\n",
    "from lsst.ts.m1m3.utils import m1m3_bump_tests_times"
   ]
  },
  {
   "cell_type": "code",
   "execution_count": null,
   "id": "6232b432-59a4-41bc-bff8-57935508e05c",
   "metadata": {
    "execution": {
     "iopub.execute_input": "2024-09-22T12:35:58.466053Z",
     "iopub.status.busy": "2024-09-22T12:35:58.465927Z",
     "iopub.status.idle": "2024-09-22T12:35:58.839348Z",
     "shell.execute_reply": "2024-09-22T12:35:58.838920Z",
     "shell.execute_reply.started": "2024-09-22T12:35:58.466041Z"
    }
   },
   "outputs": [],
   "source": []
  },
  {
   "cell_type": "code",
   "execution_count": null,
   "id": "580a1de8-6a15-400d-86c0-fc2d9ab4a6c5",
   "metadata": {},
   "outputs": [],
   "source": []
  },
  {
   "cell_type": "code",
   "execution_count": null,
   "id": "df25a851-5aa4-48e1-adab-498c1fa62fd8",
   "metadata": {
    "execution": {
     "iopub.execute_input": "2024-09-22T12:36:26.670594Z",
     "iopub.status.busy": "2024-09-22T12:36:26.670295Z",
     "iopub.status.idle": "2024-09-22T12:36:26.673764Z",
     "shell.execute_reply": "2024-09-22T12:36:26.673354Z",
     "shell.execute_reply.started": "2024-09-22T12:36:26.670577Z"
    }
   },
   "outputs": [],
   "source": [
    "m1m3_bump_tests_times?"
   ]
  }
 ],
 "metadata": {
  "kernelspec": {
   "display_name": "LSST",
   "language": "python",
   "name": "lsst"
  },
  "language_info": {
   "codemirror_mode": {
    "name": "ipython",
    "version": 3
   },
   "file_extension": ".py",
   "mimetype": "text/x-python",
   "name": "python",
   "nbconvert_exporter": "python",
   "pygments_lexer": "ipython3",
   "version": "3.11.9"
  }
 },
 "nbformat": 4,
 "nbformat_minor": 5
}
