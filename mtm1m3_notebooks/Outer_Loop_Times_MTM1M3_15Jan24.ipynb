{
 "cells": [
  {
   "cell_type": "markdown",
   "id": "dc53764d-68b5-47dc-b88d-9f169877c96b",
   "metadata": {},
   "source": [
    "# Quantify MTM1M3 outer loop times.  Times should be less than 20 ms.\n",
    "Craig Lage 15-Jan-24"
   ]
  },
  {
   "cell_type": "code",
   "execution_count": null,
   "id": "cd624f04-965f-4339-afe6-239c63a72011",
   "metadata": {
    "execution": {
     "iopub.execute_input": "2024-01-19T13:05:45.480451Z",
     "iopub.status.busy": "2024-01-19T13:05:45.480147Z",
     "iopub.status.idle": "2024-01-19T13:05:45.484008Z",
     "shell.execute_reply": "2024-01-19T13:05:45.483702Z",
     "shell.execute_reply.started": "2024-01-19T13:05:45.480437Z"
    }
   },
   "outputs": [],
   "source": [
    "import sys, time, os, asyncio, copy\n",
    "import numpy as np\n",
    "import matplotlib.pyplot as plt\n",
    "from matplotlib.backends.backend_pdf import PdfPages\n",
    "%matplotlib inline\n",
    "from astropy.time import Time, TimeDelta\n",
    "from lsst_efd_client import EfdClient\n",
    "from lsst.summit.utils import dayObsIntToString\n",
    "from lsst.summit.utils.tmaUtils import TMAEventMaker\n",
    "from lsst.summit.utils.efdUtils import calcNextDay "
   ]
  },
  {
   "cell_type": "markdown",
   "id": "fa5f254d-235a-4886-bfe6-9fb964c4e065",
   "metadata": {},
   "source": [
    "# The cell below runs the whole night from the start of the first event to the end of the last event."
   ]
  },
  {
   "cell_type": "code",
   "execution_count": null,
   "id": "7944352c-d57f-40c5-adef-b3b8c12c819b",
   "metadata": {
    "execution": {
     "iopub.execute_input": "2024-01-15T14:17:40.619222Z",
     "iopub.status.busy": "2024-01-15T14:17:40.618814Z",
     "iopub.status.idle": "2024-01-15T14:17:51.559079Z",
     "shell.execute_reply": "2024-01-15T14:17:51.558707Z",
     "shell.execute_reply.started": "2024-01-15T14:17:40.619203Z"
    }
   },
   "outputs": [],
   "source": [
    "client = EfdClient(\"usdf_efd\")\n",
    "eventMaker = TMAEventMaker()\n",
    "\n",
    "startDay = 20231116\n",
    "endDay = 20231117\n",
    "\n",
    "pdf = PdfPages(\"/home/c/cslage/u/MTM1M3/data/OuterLoopTimes_15Jan24.pdf\")\n",
    "fig = plt.figure(figsize = (5,5))\n",
    "\n",
    "dayObs = startDay\n",
    "while dayObs < endDay:\n",
    "    events = eventMaker.getEvents(dayObs)\n",
    "    if len(events) < 100:\n",
    "        dayObs = calcNextDay(dayObs)\n",
    "        continue\n",
    "    start = events[0].begin\n",
    "    end = events[-1].end\n",
    "    outerLoopTime = await client.select_time_series(\"lsst.sal.MTM1M3.outerLoopData\", \\\n",
    "                                                ['executionTime'], \\\n",
    "                                             start, end)\n",
    "    times = outerLoopTime['executionTime'].values * 1000.0\n",
    "    times = times[times < 1000.0]\n",
    "    longTimes = times[times>20.0]\n",
    "    ax = fig.subplots(1,1)\n",
    "    ax.set_title(f\"Outer Loop Times - {dayObs}\")\n",
    "    ax.hist(times, bins = 1000)\n",
    "    ax.set_yscale('log')\n",
    "    ax.set_xscale('log')\n",
    "    ax.set_xlabel(\"Outer Loop Time (ms)\")\n",
    "    ax.set_xlim(1,100)\n",
    "    ax.set_ylim(1,1E7)\n",
    "    ax.plot([20, 20],[0,1E6], ls='--', color='black')\n",
    "    ax.text(2, 1E6, f\"{(len(longTimes) / len(times) * 100.0):.2f} % of data are \\n> 20ms\")\n",
    "    pdf.savefig(fig)  # saves the current figure into a pdf page\n",
    "    print(f\"Plot for dayObs {dayObs} finished!\")\n",
    "    plt.clf()\n",
    "    dayObs = calcNextDay(dayObs)\n",
    "pdf.close()\n",
    "\n",
    "    "
   ]
  },
  {
   "cell_type": "markdown",
   "id": "0b68aacf-2a69-44dd-8322-e1129ac7ac72",
   "metadata": {},
   "source": [
    "# The cell below only looks at the times during events."
   ]
  },
  {
   "cell_type": "code",
   "execution_count": null,
   "id": "5d38320b-cefd-4f4f-9b19-20c7a5add4eb",
   "metadata": {
    "execution": {
     "iopub.execute_input": "2024-01-19T12:14:43.684922Z",
     "iopub.status.busy": "2024-01-19T12:14:43.684720Z",
     "iopub.status.idle": "2024-01-19T12:21:08.291309Z",
     "shell.execute_reply": "2024-01-19T12:21:08.290843Z",
     "shell.execute_reply.started": "2024-01-19T12:14:43.684907Z"
    },
    "jupyter": {
     "outputs_hidden": true
    }
   },
   "outputs": [],
   "source": [
    "client = EfdClient(\"usdf_efd\")\n",
    "eventMaker = TMAEventMaker()\n",
    "\n",
    "startDay = 20231116\n",
    "endDay = 20240109\n",
    "\n",
    "pdf = PdfPages(\"/home/c/cslage/u/MTM1M3/data/OuterLoopTimes_19Jan24.pdf\")\n",
    "fig = plt.figure(figsize = (5,5))\n",
    "\n",
    "dayObs = startDay\n",
    "while dayObs < endDay:\n",
    "    events = eventMaker.getEvents(dayObs)\n",
    "    if len(events) < 100:\n",
    "        dayObs = calcNextDay(dayObs)\n",
    "        continue\n",
    "    times = np.array([])\n",
    "    for i, event in enumerate(events):\n",
    "        try:\n",
    "            start = event.begin\n",
    "            end = event.end\n",
    "            outerLoopTime = await client.select_time_series(\"lsst.sal.MTM1M3.outerLoopData\", \\\n",
    "                                                        ['executionTime'], \\\n",
    "                                                     start, end)\n",
    "            theseTimes = outerLoopTime['executionTime'].values * 1000.0\n",
    "            if len(times) == 0:\n",
    "                times = theseTimes\n",
    "            else:\n",
    "                times = np.concatenate([times, theseTimes])\n",
    "        except:\n",
    "            continue\n",
    "    times = times[times < 1000.0]\n",
    "    longTimes = times[times>20.0]\n",
    "    ax = fig.subplots(1,1)\n",
    "    ax.set_title(f\"Outer Loop Times - {dayObs}\")\n",
    "    ax.hist(times, bins = 1000)\n",
    "    ax.set_yscale('log')\n",
    "    ax.set_xscale('log')\n",
    "    ax.set_xlabel(\"Outer Loop Time (ms)\")\n",
    "    ax.set_xlim(1,100)\n",
    "    ax.set_ylim(1,1E7)\n",
    "    ax.plot([20, 20],[0,1E6], ls='--', color='black')\n",
    "    ax.text(2, 1E6, f\"{(len(longTimes) / len(times) * 100.0):.2f} % of data are \\n> 20ms\")\n",
    "    pdf.savefig(fig)  # saves the current figure into a pdf page\n",
    "    print(f\"Plot for dayObs {dayObs} finished!\")\n",
    "    plt.clf()\n",
    "    dayObs = calcNextDay(dayObs)\n",
    "pdf.close()\n",
    "\n",
    "    "
   ]
  },
  {
   "cell_type": "markdown",
   "id": "cab49f71-b47f-48f3-a9f3-f08963b2e057",
   "metadata": {
    "execution": {
     "iopub.execute_input": "2024-01-19T13:21:08.066735Z",
     "iopub.status.busy": "2024-01-19T13:21:08.066540Z",
     "iopub.status.idle": "2024-01-19T13:21:08.069201Z",
     "shell.execute_reply": "2024-01-19T13:21:08.068770Z",
     "shell.execute_reply.started": "2024-01-19T13:21:08.066721Z"
    }
   },
   "source": [
    "# The cell below looks at the MTM1M3 states."
   ]
  },
  {
   "cell_type": "code",
   "execution_count": null,
   "id": "a55126e7-69b3-481b-addd-35a4def6c4b5",
   "metadata": {
    "execution": {
     "iopub.execute_input": "2024-01-19T13:17:09.525602Z",
     "iopub.status.busy": "2024-01-19T13:17:09.525387Z",
     "iopub.status.idle": "2024-01-19T13:17:11.300634Z",
     "shell.execute_reply": "2024-01-19T13:17:11.300267Z",
     "shell.execute_reply.started": "2024-01-19T13:17:09.525585Z"
    }
   },
   "outputs": [],
   "source": [
    "%matplotlib inline\n",
    "dayObs = 20240104\n",
    "start = Time(f\"{dayObsIntToString(dayObs)} 19:00:00Z\", scale='utc')\n",
    "end = Time(f\"{dayObsIntToString(calcNextDay(dayObs))} 10:00:00Z\", scale='utc')\n",
    "state = await client.select_time_series('lsst.sal.MTM1M3.logevent_detailedState', ['*'], start, end)\n",
    "fig, ax = plt.subplots(1,1,figsize=(12,5))\n",
    "ax.set_title(f\"MTM1M3 states and events {dayObs} \\nRed dots are state changes dotted black lines are TMAEvents\")\n",
    "state['detailedState'].plot(ax = ax, marker='o', color='r', ls='')\n",
    "states = state['detailedState'].values\n",
    "for i in range(len(states) - 1):\n",
    "    ax.hlines(states[i], state.index[i], state.index[i+1], color='r')\n",
    "\n",
    "events = eventMaker.getEvents(dayObs)\n",
    "for i,event in enumerate(events):\n",
    "    if Time(event.begin).unix_tai < start.unix_tai:\n",
    "        continue\n",
    "    if i % 20 == 0:\n",
    "        ax.axvline(event.begin.isot, ls = '--', color='black')\n",
    "\n",
    "\n",
    "xml_states = ['DisabledState','FaultState','OfflineState','StandbyState','ParkedState','RaisingState', \\\n",
    " 'ActiveState','LoweringState','ParkedEngineeringState','RaisingEngineeringState', \\\n",
    " 'ActiveEngineeringState','LoweringEngineeringState','LoweringFaultState', \\\n",
    " 'ProfileHardpointCorrectionState','PausedRaisingState','PausedRaisingEngineeringState', \\\n",
    " 'PausedLoweringState','PausedLoweringEngineeringState', '']\n",
    "ax2 = ax.twinx()\n",
    "ax.set_yticks(list(range(len(xml_states))))\n",
    "ax2.set_yticks(list(range(len(xml_states))))\n",
    "ax2.set_yticklabels(xml_states)\n",
    "ax.set_ylabel(\"MTM1M3 State\")\n",
    "plt.subplots_adjust(right = 0.6)\n",
    "plt.savefig(f\"/home/c/cslage/u/MTM1M3/data/MTM1M3_States_{dayObs}.png\")"
   ]
  },
  {
   "cell_type": "code",
   "execution_count": null,
   "id": "420605ac-ec10-4df2-b468-100730990456",
   "metadata": {},
   "outputs": [],
   "source": []
  }
 ],
 "metadata": {
  "kernelspec": {
   "display_name": "LSST",
   "language": "python",
   "name": "lsst"
  },
  "language_info": {
   "codemirror_mode": {
    "name": "ipython",
    "version": 3
   },
   "file_extension": ".py",
   "mimetype": "text/x-python",
   "name": "python",
   "nbconvert_exporter": "python",
   "pygments_lexer": "ipython3",
   "version": "3.11.4"
  }
 },
 "nbformat": 4,
 "nbformat_minor": 5
}
