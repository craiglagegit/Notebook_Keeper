{
 "cells": [
  {
   "cell_type": "markdown",
   "metadata": {},
   "source": [
    "# M1M3 cell learning\n",
    "Craig Lage - 14-Apr-23 \\\n",
    "The 17 tons of mirror are supported by 156 pneumatic actuators where 44 are single-axis and provide support only on the axial direction, 100 are dual-axis providing support in the axial and lateral direction, and 12 are dual-axis providing support in the axial and cross lateral directions. \\\n",
    "Positioning is provided by 6 hard points in a hexapod configuration which moves the mirror to a fixed operational position that shall be maintained during telescope operations. The remaining optical elements will be moved relative to this position in order to align the telescope optics. Support and optical figure correction is provided by 112 dual axis and 44 single axis pneumatic actuators. "
   ]
  },
  {
   "cell_type": "code",
   "execution_count": null,
   "metadata": {
    "execution": {
     "iopub.execute_input": "2023-11-15T17:40:15.425611Z",
     "iopub.status.busy": "2023-11-15T17:40:15.425334Z",
     "iopub.status.idle": "2023-11-15T17:40:16.106927Z",
     "shell.execute_reply": "2023-11-15T17:40:16.106444Z",
     "shell.execute_reply.started": "2023-11-15T17:40:15.425594Z"
    },
    "tags": []
   },
   "outputs": [],
   "source": [
    "import sys, time, os, asyncio, glob\n",
    "from datetime import datetime\n",
    "import numpy as np\n",
    "import matplotlib.pyplot as plt\n",
    "from matplotlib.backends.backend_pdf import PdfPages\n",
    "from astropy.time import Time, TimeDelta\n",
    "from lsst.ts.xml.tables.m1m3 import FATable, FAIndex, force_actuator_from_id, actuator_id_to_index\n",
    "from lsst_efd_client import EfdClient"
   ]
  },
  {
   "cell_type": "code",
   "execution_count": null,
   "metadata": {
    "execution": {
     "iopub.execute_input": "2023-11-15T18:42:35.263278Z",
     "iopub.status.busy": "2023-11-15T18:42:35.263056Z",
     "iopub.status.idle": "2023-11-15T18:42:36.313450Z",
     "shell.execute_reply": "2023-11-15T18:42:36.313052Z",
     "shell.execute_reply.started": "2023-11-15T18:42:35.263259Z"
    },
    "tags": []
   },
   "outputs": [],
   "source": [
    "client = EfdClient('idf_efd')\n",
    "start = \"2023-07-06T23:00:00\"\n",
    "end = \"2023-07-07T07:30:00\"\n",
    "start = \"2023-07-04T06:32:00\"\n",
    "end = \"2023-07-04T06:35:00\"\n",
    "start = \"2023-07-04T04:50:00\"\n",
    "end = \"2023-07-04T04:58:00\"\n",
    "\n",
    "bumps = await client.select_time_series(\"lsst.sal.MTM1M3.logevent_forceActuatorBumpTestStatus\", \"*\",\\\n",
    "                                        Time(start, scale='utc'), Time(end, scale='utc'))"
   ]
  },
  {
   "cell_type": "markdown",
   "metadata": {},
   "source": [
    "## Plot the Bump Test states"
   ]
  },
  {
   "cell_type": "code",
   "execution_count": null,
   "metadata": {
    "execution": {
     "iopub.execute_input": "2023-11-15T18:48:15.719124Z",
     "iopub.status.busy": "2023-11-15T18:48:15.718733Z",
     "iopub.status.idle": "2023-11-15T18:48:16.107542Z",
     "shell.execute_reply": "2023-11-15T18:48:16.107158Z",
     "shell.execute_reply.started": "2023-11-15T18:48:15.719110Z"
    },
    "tags": []
   },
   "outputs": [],
   "source": [
    "from matplotlib import rcParams\n",
    "rcParams.update({'figure.autolayout': True})\n",
    "\n",
    "id=330\n",
    "this_bump = bumps[bumps['actuatorId']==id]\n",
    "last_this_bump_index = bumps[bumps['actuatorId']==id].last_valid_index()\n",
    "pass_fail = bumps.iloc[bumps.index.get_loc(last_this_bump_index)+1]\n",
    "fa = force_actuator_from_id(id)\n",
    "primary_bump = f\"primaryTest{fa.index}\"\n",
    "fig, ax = plt.subplots(1,1)\n",
    "this_bump[primary_bump].plot(ax=ax)\n",
    "timestamp = bumps.index[0].isoformat().split('.')[0]\n",
    "ax. set_title(f\" Bump Test States id = {id} {timestamp}\")\n",
    "ax.set_ylim(0,8)\n",
    "ax2 = ax.twinx()\n",
    "ax2.set_yticks([0,1,2,3,4,5,6,7,8])\n",
    "ax2.set_yticklabels(['', 'NOTTESTED','TESTINGPOSITIVE','TESTINGPOSITIVEWAIT', \\\n",
    "                   'TESTINGNEGATIVE', 'TESTINGNEGATIVEWAIT','PASSED','FAILED', ''])\n",
    "#plt.savefig(\"/home/craiglagegit/u/MTM1M3/data/technote/Bump_Test_States.png\")\n",
    "\n",
    "if pass_fail[primary_bump] == 6:\n",
    "    print(f\"Primary {id} passed the bump test\")\n",
    "elif pass_fail[primary_bump] == 7:\n",
    "    print(f\"Primary {id} failed the bump test\")\n",
    "plt.savefig(f\"/home/c/cslage/u/MTM1M3/data/Bump_Test_States_{id}_{timestamp}.png\")"
   ]
  },
  {
   "cell_type": "code",
   "execution_count": null,
   "metadata": {},
   "outputs": [],
   "source": []
  }
 ],
 "metadata": {
  "kernelspec": {
   "display_name": "LSST",
   "language": "python",
   "name": "lsst"
  },
  "language_info": {
   "codemirror_mode": {
    "name": "ipython",
    "version": 3
   },
   "file_extension": ".py",
   "mimetype": "text/x-python",
   "name": "python",
   "nbconvert_exporter": "python",
   "pygments_lexer": "ipython3",
   "version": "3.11.4"
  }
 },
 "nbformat": 4,
 "nbformat_minor": 4
}
