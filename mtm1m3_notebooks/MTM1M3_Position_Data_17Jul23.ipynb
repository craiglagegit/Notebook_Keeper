{
 "cells": [
  {
   "cell_type": "markdown",
   "metadata": {},
   "source": [
    "# M1M3 position data\n",
    "Craig Lage - 16-Apr-23 \\\n",
    "Comparing different position measurements."
   ]
  },
  {
   "cell_type": "code",
   "execution_count": null,
   "metadata": {
    "execution": {
     "iopub.execute_input": "2023-07-19T15:14:11.634331Z",
     "iopub.status.busy": "2023-07-19T15:14:11.634096Z",
     "iopub.status.idle": "2023-07-19T15:14:11.638077Z",
     "shell.execute_reply": "2023-07-19T15:14:11.637659Z",
     "shell.execute_reply.started": "2023-07-19T15:14:11.634314Z"
    },
    "tags": []
   },
   "outputs": [],
   "source": [
    "import sys, time, os, asyncio, glob\n",
    "from datetime import datetime\n",
    "import numpy as np\n",
    "import matplotlib.pyplot as plt\n",
    "from matplotlib.backends.backend_pdf import PdfPages\n",
    "import pickle as pkl\n",
    "from astropy.time import Time, TimeDelta\n",
    "import lsst.ts.cRIOpy.M1M3FATable as M1M3FATable\n",
    "from scipy.interpolate import UnivariateSpline\n",
    "from lsst.summit.utils.tmaUtils import TMAEventMaker, TMAState, getSlewsFromEventList\n",
    "from lsst.summit.utils.efdUtils import (makeEfdClient,\n",
    "                                        getEfdData,\n",
    "                                        getMostRecentRowWithDataBefore,\n",
    "                                        efdTimestampToAstropy,\n",
    "                                       )"
   ]
  },
  {
   "cell_type": "code",
   "execution_count": null,
   "metadata": {
    "execution": {
     "iopub.execute_input": "2023-07-17T13:34:49.717439Z",
     "iopub.status.busy": "2023-07-17T13:34:49.717052Z",
     "iopub.status.idle": "2023-07-17T13:34:49.720193Z",
     "shell.execute_reply": "2023-07-17T13:34:49.719729Z",
     "shell.execute_reply.started": "2023-07-17T13:34:49.717420Z"
    },
    "tags": []
   },
   "outputs": [],
   "source": [
    "FATABLE = M1M3FATable.FATABLE"
   ]
  },
  {
   "cell_type": "code",
   "execution_count": null,
   "metadata": {
    "execution": {
     "iopub.execute_input": "2023-07-17T13:34:50.597486Z",
     "iopub.status.busy": "2023-07-17T13:34:50.597102Z",
     "iopub.status.idle": "2023-07-17T13:34:51.689223Z",
     "shell.execute_reply": "2023-07-17T13:34:51.688858Z",
     "shell.execute_reply.started": "2023-07-17T13:34:50.597470Z"
    },
    "tags": []
   },
   "outputs": [],
   "source": [
    "client = makeEfdClient()\n",
    "#dayObs = 20230710\n",
    "dayObs = 20230601\n",
    "eventMaker = TMAEventMaker()\n",
    "events = eventMaker.getEvents(dayObs)\n",
    "slews = [e for e in events if e.type==TMAState.SLEWING]\n",
    "tracks = [e for e in events if e.type==TMAState.TRACKING]\n",
    "print(f'Found {len(slews)} slews and {len(tracks)} tracks')"
   ]
  },
  {
   "cell_type": "code",
   "execution_count": null,
   "metadata": {
    "execution": {
     "iopub.execute_input": "2023-07-19T15:14:19.345555Z",
     "iopub.status.busy": "2023-07-19T15:14:19.345211Z",
     "iopub.status.idle": "2023-07-19T15:14:19.349763Z",
     "shell.execute_reply": "2023-07-19T15:14:19.349367Z",
     "shell.execute_reply.started": "2023-07-19T15:14:19.345537Z"
    },
    "jupyter": {
     "outputs_hidden": true
    },
    "tags": []
   },
   "outputs": [],
   "source": [
    "for slew in slews:\n",
    "    print(slew.begin, slew.end, slew.duration)"
   ]
  },
  {
   "cell_type": "code",
   "execution_count": null,
   "metadata": {
    "execution": {
     "iopub.execute_input": "2023-07-17T13:36:28.786616Z",
     "iopub.status.busy": "2023-07-17T13:36:28.786270Z",
     "iopub.status.idle": "2023-07-17T13:36:35.414519Z",
     "shell.execute_reply": "2023-07-17T13:36:35.413977Z",
     "shell.execute_reply.started": "2023-07-17T13:36:28.786600Z"
    },
    "tags": []
   },
   "outputs": [],
   "source": [
    "slew = slews[100]\n",
    "dT = 300.0\n",
    "start = slew.begin-TimeDelta(dT, format='sec')\n",
    "end = slew.end+TimeDelta(dT, format='sec')\n",
    "hardpoint_data = await client.select_time_series(\"lsst.sal.MTM1M3.hardpointActuatorData\", \"*\", start, end)\n",
    "monitor_data = await client.select_time_series(\"lsst.sal.MTM1M3.hardpointMonitorData\", \"*\", start, end)\n",
    "ims_data = await client.select_time_series(\"lsst.sal.MTM1M3.imsData\", \"*\", start, end)\n",
    "az = await client.select_time_series(\"lsst.sal.MTMount.azimuth\",\"actualPosition\", start, end)\n",
    "el = await client.select_time_series(\"lsst.sal.MTMount.elevation\",\"actualPosition\", start, end)\n",
    "azs = az['actualPosition'].values\n",
    "dAz = azs[-1] - azs[0]\n",
    "els = el['actualPosition'].values\n",
    "dEl = els[-1] - els[0]\n",
    "timestamp = start.isot.split('.')[0].replace('-','').replace(':','')\n",
    "print(start.isot, end.isot, timestamp)"
   ]
  },
  {
   "cell_type": "code",
   "execution_count": null,
   "metadata": {
    "execution": {
     "iopub.execute_input": "2023-07-17T13:36:37.094640Z",
     "iopub.status.busy": "2023-07-17T13:36:37.094000Z",
     "iopub.status.idle": "2023-07-17T13:36:42.836789Z",
     "shell.execute_reply": "2023-07-17T13:36:42.836318Z",
     "shell.execute_reply.started": "2023-07-17T13:36:37.094623Z"
    },
    "tags": []
   },
   "outputs": [],
   "source": [
    "%matplotlib inline\n",
    "plots = ['xPosition', 'yPosition', 'zPosition', 'xRotation', 'yRotation', 'zRotation']\n",
    "\n",
    "fig, axs = plt.subplots(3,2,figsize=(8,10))\n",
    "plt.subplots_adjust(hspace=0.6, wspace=1.0)\n",
    "plt.suptitle(f\"Mirror position changes during slew: {timestamp}\\nDeltaAz = {dAz:.3f}, DeltaEl = {dEl:.3f}\", fontsize=16)\n",
    "plot_counter = 0\n",
    "for i in range(3):\n",
    "    for j in range(2):\n",
    "        \n",
    "        smoothed_ims_data = ims_data[plots[plot_counter]].rolling(10).mean()\n",
    "        smoothed_ims_data = smoothed_ims_data.dropna()\n",
    "        smoothed_ims_data -= smoothed_ims_data[0]\n",
    "        smoothed_hardpoint_data = hardpoint_data[plots[plot_counter]].rolling(10).mean()\n",
    "        \n",
    "        if plot_counter > 2:\n",
    "            smoothed_ims_data *= 1E6\n",
    "            smoothed_hardpoint_data *= 1E6\n",
    "            unit = 'microDeg'\n",
    "        else:\n",
    "            smoothed_ims_data *= 1E6\n",
    "            smoothed_hardpoint_data *= 1E6\n",
    "            unit = 'um'\n",
    "        axs[i][j].set_title(plots[plot_counter])\n",
    "        axs[i][j].set_ylabel(f'Hardpoint ({unit})')\n",
    "        axs[i][j].yaxis.label.set_color('blue')\n",
    "        ax = axs[i][j].twinx()\n",
    "        ax.set_ylabel(f'IMS ({unit})')\n",
    "        ax.yaxis.label.set_color('red')\n",
    "        smoothed_hardpoint_data.plot(ax=axs[i][j], color='blue', label='Hardpoint')\n",
    "        smoothed_ims_data.plot(ax=ax, color='red', label='IMS')\n",
    "        plot_counter += 1\n",
    "#plt.savefig(f\"/home/c/cslage/u/MTM1M3/data/Position_Data_{timestamp}.png\")"
   ]
  },
  {
   "cell_type": "code",
   "execution_count": null,
   "metadata": {
    "execution": {
     "iopub.execute_input": "2023-07-19T15:14:52.769293Z",
     "iopub.status.busy": "2023-07-19T15:14:52.768968Z",
     "iopub.status.idle": "2023-07-19T15:14:54.967290Z",
     "shell.execute_reply": "2023-07-19T15:14:54.966774Z",
     "shell.execute_reply.started": "2023-07-19T15:14:52.769276Z"
    },
    "tags": []
   },
   "outputs": [],
   "source": [
    "\n",
    "fig, axs = plt.subplots(3,1,figsize=(8,10))\n",
    "plt.subplots_adjust(hspace=0.6, wspace=1.0)\n",
    "plt.suptitle(f\"Mirror position measurements: {timestamp}\", fontsize=16)\n",
    "\n",
    "smoothed_ims_data = ims_data['zPosition'].rolling(10).mean()\n",
    "smoothed_ims_data = smoothed_ims_data.dropna()\n",
    "smoothed_ims_data -= smoothed_ims_data[0]\n",
    "smoothed_hardpoint_data = hardpoint_data['zPosition'].rolling(10).mean()\n",
    "smoothed_lvdt_data = monitor_data['displacementLVDT4'].rolling(1000).mean()\n",
    "\n",
    "axs[0].set_title('IMS zPosition')\n",
    "axs[0].set_ylabel(f'zPosition (um)')\n",
    "axs[0].yaxis.label.set_color('blue')\n",
    "ax = axs[0].twinx()\n",
    "ax.set_ylabel(f'Elevation(degrees)')\n",
    "ax.yaxis.label.set_color('red')\n",
    "smoothed_ims_data.plot(ax=axs[0], color='blue', label='IMS')\n",
    "el['actualPosition'].plot(ax=ax, color='red', label='Elevation')\n",
    "\n",
    "axs[1].set_title('Hardpoint encoder')\n",
    "axs[1].set_ylabel(f'zPosition (um)')\n",
    "axs[1].yaxis.label.set_color('blue')\n",
    "ax = axs[1].twinx()\n",
    "ax.set_ylabel(f'Elevation(degrees)')\n",
    "ax.yaxis.label.set_color('red')\n",
    "smoothed_hardpoint_data.plot(ax=axs[1], color='blue', label='Hardpoint')\n",
    "el['actualPosition'].plot(ax=ax, color='red', label='Elevation')\n",
    "\n",
    "axs[2].set_title('LVDT 4')\n",
    "axs[2].set_ylabel(f'Position (?)')\n",
    "axs[2].yaxis.label.set_color('blue')\n",
    "ax = axs[2].twinx()\n",
    "ax.set_ylabel(f'Elevation(degrees)')\n",
    "ax.yaxis.label.set_color('red')\n",
    "smoothed_lvdt_data.plot(ax=axs[2], color='blue', label='Hardpoint')\n",
    "el['actualPosition'].plot(ax=ax, color='red', label='Elevation')\n",
    "\n",
    "plt.savefig(f\"/home/c/cslage/u/MTM1M3/data/Position_Data_Sources_2_{timestamp}.png\")"
   ]
  },
  {
   "cell_type": "code",
   "execution_count": null,
   "metadata": {
    "tags": []
   },
   "outputs": [],
   "source": [
    "smoothed_ims_data.head(5)"
   ]
  },
  {
   "cell_type": "code",
   "execution_count": null,
   "metadata": {
    "tags": []
   },
   "outputs": [],
   "source": [
    "hardpoint_data['measuredForce0'].plot()"
   ]
  },
  {
   "cell_type": "code",
   "execution_count": null,
   "metadata": {},
   "outputs": [],
   "source": []
  }
 ],
 "metadata": {
  "kernelspec": {
   "display_name": "LSST",
   "language": "python",
   "name": "lsst"
  },
  "language_info": {
   "codemirror_mode": {
    "name": "ipython",
    "version": 3
   },
   "file_extension": ".py",
   "mimetype": "text/x-python",
   "name": "python",
   "nbconvert_exporter": "python",
   "pygments_lexer": "ipython3",
   "version": "3.10.11"
  }
 },
 "nbformat": 4,
 "nbformat_minor": 4
}
