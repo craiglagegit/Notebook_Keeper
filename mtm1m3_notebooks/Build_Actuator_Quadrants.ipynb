{
 "cells": [
  {
   "cell_type": "code",
   "execution_count": null,
   "id": "b87c810a-77ea-430c-a7e7-c9ba4a847723",
   "metadata": {
    "execution": {
     "iopub.execute_input": "2024-12-09T14:25:51.426779Z",
     "iopub.status.busy": "2024-12-09T14:25:51.426231Z",
     "iopub.status.idle": "2024-12-09T14:25:51.682311Z",
     "shell.execute_reply": "2024-12-09T14:25:51.681886Z",
     "shell.execute_reply.started": "2024-12-09T14:25:51.426762Z"
    }
   },
   "outputs": [],
   "source": [
    "import numpy as np\n",
    "import matplotlib.pyplot as plt\n",
    "import random\n",
    "from lsst.ts.xml.tables.m1m3 import FATable, FAIndex, force_actuator_from_id, actuator_id_to_index"
   ]
  },
  {
   "cell_type": "code",
   "execution_count": null,
   "id": "e2395b8b-5889-482a-ab98-05414f978e17",
   "metadata": {
    "execution": {
     "iopub.execute_input": "2024-12-09T15:08:14.673001Z",
     "iopub.status.busy": "2024-12-09T15:08:14.672709Z",
     "iopub.status.idle": "2024-12-09T15:08:21.014436Z",
     "shell.execute_reply": "2024-12-09T15:08:21.014044Z",
     "shell.execute_reply.started": "2024-12-09T15:08:14.672986Z"
    }
   },
   "outputs": [],
   "source": [
    "ids = []\n",
    "for index in range(len(FATable)):\n",
    "    id = FATable[index].actuator_id\n",
    "    ids.append(id)\n",
    "\n",
    "move_ids = [13, 26, 37, 41]\n",
    "quads = [[id for id in ids if int(id/100) == n ] for n in range(1,5)]\n",
    "for move in move_ids:\n",
    "    quads[0].remove(100+move)\n",
    "    quads[1] += [100+move]\n",
    "    quads[2].remove(300+move)\n",
    "    quads[3] += [300+move]\n",
    "print(len(quads[0]), len(quads[1]), len(quads[2]), len(quads[3]))    \n",
    "\n",
    "while True:\n",
    "    for i in range(4):\n",
    "        random.shuffle(quads[i])\n",
    "\n",
    "    dists = []\n",
    "    min_dist = 1.0E6\n",
    "    for i in range(39):\n",
    "        for j in range(4):\n",
    "            id0 = quads[j][i]\n",
    "            x0 = force_actuator_from_id(id0).x_position\n",
    "            y0 = force_actuator_from_id(id0).y_position\n",
    "            for k in range(4):\n",
    "                if j == k:\n",
    "                    continue\n",
    "                id1 = quads[k][i]\n",
    "                x1 = force_actuator_from_id(id1).x_position\n",
    "                y1 = force_actuator_from_id(id1).y_position\n",
    "                dist = np.sqrt((x0-x1)**2 + (y0-y1)**2)\n",
    "                dists.append(dist)\n",
    "                if dist < min_dist:\n",
    "                    min_dist = dist\n",
    "                    min_id0 = id0\n",
    "                    min_id1 = id1\n",
    "    if min_dist > 1.7:\n",
    "        break\n",
    "        \n",
    "print(min_id0, min_id1, min_dist)\n"
   ]
  },
  {
   "cell_type": "code",
   "execution_count": null,
   "id": "138fe0d2-f713-474f-8ab3-634f4b9f484b",
   "metadata": {
    "execution": {
     "iopub.execute_input": "2024-12-09T15:08:38.881849Z",
     "iopub.status.busy": "2024-12-09T15:08:38.881538Z",
     "iopub.status.idle": "2024-12-09T15:08:38.885020Z",
     "shell.execute_reply": "2024-12-09T15:08:38.884713Z",
     "shell.execute_reply.started": "2024-12-09T15:08:38.881834Z"
    }
   },
   "outputs": [],
   "source": [
    "dists.sort()\n",
    "dists[0:20]"
   ]
  },
  {
   "cell_type": "code",
   "execution_count": null,
   "id": "07b81dcf-bc90-46ba-ba4d-592a11e19021",
   "metadata": {
    "execution": {
     "iopub.execute_input": "2024-12-09T15:08:46.025830Z",
     "iopub.status.busy": "2024-12-09T15:08:46.025517Z",
     "iopub.status.idle": "2024-12-09T15:08:46.105039Z",
     "shell.execute_reply": "2024-12-09T15:08:46.104675Z",
     "shell.execute_reply.started": "2024-12-09T15:08:46.025816Z"
    }
   },
   "outputs": [],
   "source": [
    "plt.hist(dists, bins=10)"
   ]
  },
  {
   "cell_type": "code",
   "execution_count": null,
   "id": "4f59b5ba-a800-47ef-ae43-a9e31f011896",
   "metadata": {},
   "outputs": [],
   "source": []
  }
 ],
 "metadata": {
  "kernelspec": {
   "display_name": "LSST",
   "language": "python",
   "name": "lsst"
  },
  "language_info": {
   "codemirror_mode": {
    "name": "ipython",
    "version": 3
   },
   "file_extension": ".py",
   "mimetype": "text/x-python",
   "name": "python",
   "nbconvert_exporter": "python",
   "pygments_lexer": "ipython3",
   "version": "3.11.9"
  }
 },
 "nbformat": 4,
 "nbformat_minor": 5
}
