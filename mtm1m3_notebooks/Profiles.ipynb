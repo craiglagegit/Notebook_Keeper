{
 "cells": [
  {
   "cell_type": "code",
   "execution_count": null,
   "id": "bc2e9872-7d3f-4cb3-af80-556dada2f5fb",
   "metadata": {
    "execution": {
     "iopub.execute_input": "2024-01-09T19:05:28.796783Z",
     "iopub.status.busy": "2024-01-09T19:05:28.796485Z",
     "iopub.status.idle": "2024-01-09T19:05:29.113401Z",
     "shell.execute_reply": "2024-01-09T19:05:29.112975Z",
     "shell.execute_reply.started": "2024-01-09T19:05:28.796763Z"
    }
   },
   "outputs": [],
   "source": [
    "import numpy as np\n",
    "import matplotlib.pyplot as plt"
   ]
  },
  {
   "cell_type": "code",
   "execution_count": null,
   "id": "ad4e7bee-2621-4e3a-9a9f-9b1be178d6f1",
   "metadata": {
    "execution": {
     "iopub.execute_input": "2024-01-09T19:21:41.092177Z",
     "iopub.status.busy": "2024-01-09T19:21:41.091872Z",
     "iopub.status.idle": "2024-01-09T19:21:41.095374Z",
     "shell.execute_reply": "2024-01-09T19:21:41.095028Z",
     "shell.execute_reply.started": "2024-01-09T19:21:41.092164Z"
    }
   },
   "outputs": [],
   "source": [
    "def profile(dx, jerk_limit, acc_limit, vel_limit):\n",
    "    dt = .001 # 1 msec time steps\n",
    "    t=0; x=0; v=0; a=0;\n",
    "    ts = [0]; xs = [0]; vs = [0]; accs = [0]\n",
    "    while x < dx / 2.0:\n",
    "        if a < acc_limit:\n",
    "            a += jerk_limit * dt\n",
    "        if v < vel_limit:\n",
    "            v += a * dt\n",
    "        x += v * dt\n",
    "        t += dt\n",
    "        xs.append(x)\n",
    "        vs.append(v)\n",
    "        accs.append(a)\n",
    "        ts.append(t)\n",
    "        #print(t,x,v,a)\n",
    "    return [ts, xs, vs, accs] "
   ]
  },
  {
   "cell_type": "code",
   "execution_count": null,
   "id": "b81419b3-9c4e-463a-8ef2-e741523945de",
   "metadata": {
    "execution": {
     "iopub.execute_input": "2024-01-09T19:21:54.293826Z",
     "iopub.status.busy": "2024-01-09T19:21:54.293513Z",
     "iopub.status.idle": "2024-01-09T19:21:54.297228Z",
     "shell.execute_reply": "2024-01-09T19:21:54.296918Z",
     "shell.execute_reply.started": "2024-01-09T19:21:54.293811Z"
    }
   },
   "outputs": [],
   "source": [
    "[ts, xs, vs, accs] = profile(20.0, 2.0, 4.0, 4.0) "
   ]
  },
  {
   "cell_type": "code",
   "execution_count": null,
   "id": "b32d7de9-3803-4818-9039-14a61c0ece35",
   "metadata": {
    "execution": {
     "iopub.execute_input": "2024-01-09T19:21:57.976566Z",
     "iopub.status.busy": "2024-01-09T19:21:57.976231Z",
     "iopub.status.idle": "2024-01-09T19:21:58.084628Z",
     "shell.execute_reply": "2024-01-09T19:21:58.084277Z",
     "shell.execute_reply.started": "2024-01-09T19:21:57.976551Z"
    }
   },
   "outputs": [],
   "source": [
    "plt.plot(ts, vs)"
   ]
  },
  {
   "cell_type": "code",
   "execution_count": null,
   "id": "31f87be2-cf08-4f31-9801-41d88b0c1f77",
   "metadata": {},
   "outputs": [],
   "source": []
  }
 ],
 "metadata": {
  "kernelspec": {
   "display_name": "LSST",
   "language": "python",
   "name": "lsst"
  },
  "language_info": {
   "codemirror_mode": {
    "name": "ipython",
    "version": 3
   },
   "file_extension": ".py",
   "mimetype": "text/x-python",
   "name": "python",
   "nbconvert_exporter": "python",
   "pygments_lexer": "ipython3",
   "version": "3.11.4"
  }
 },
 "nbformat": 4,
 "nbformat_minor": 5
}
