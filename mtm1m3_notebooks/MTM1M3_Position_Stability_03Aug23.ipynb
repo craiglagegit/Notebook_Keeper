{
 "cells": [
  {
   "cell_type": "markdown",
   "metadata": {},
   "source": [
    "# M1M3 position data\n",
    "Craig Lage - 16-Apr-23 \\\n",
    "Comparing different position measurements."
   ]
  },
  {
   "cell_type": "code",
   "execution_count": null,
   "metadata": {
    "execution": {
     "iopub.execute_input": "2023-09-14T17:58:05.672534Z",
     "iopub.status.busy": "2023-09-14T17:58:05.672292Z",
     "iopub.status.idle": "2023-09-14T17:58:08.769762Z",
     "shell.execute_reply": "2023-09-14T17:58:08.769171Z",
     "shell.execute_reply.started": "2023-09-14T17:58:05.672517Z"
    },
    "tags": []
   },
   "outputs": [],
   "source": [
    "import sys, time, os, asyncio, glob\n",
    "from datetime import datetime\n",
    "import numpy as np\n",
    "import matplotlib.pyplot as plt\n",
    "from matplotlib.backends.backend_pdf import PdfPages\n",
    "import pickle as pkl\n",
    "from astropy.time import Time, TimeDelta\n",
    "import lsst.ts.cRIOpy.M1M3FATable as M1M3FATable\n",
    "from scipy.interpolate import UnivariateSpline\n",
    "from lsst.summit.utils.tmaUtils import TMAEventMaker, TMAState, getSlewsFromEventList\n",
    "from lsst.summit.utils.efdUtils import (makeEfdClient,\n",
    "                                        getEfdData,\n",
    "                                        getMostRecentRowWithDataBefore,\n",
    "                                        efdTimestampToAstropy,\n",
    "                                       )"
   ]
  },
  {
   "cell_type": "code",
   "execution_count": null,
   "metadata": {
    "execution": {
     "iopub.execute_input": "2023-09-14T17:58:08.825863Z",
     "iopub.status.busy": "2023-09-14T17:58:08.825720Z",
     "iopub.status.idle": "2023-09-14T17:58:11.654032Z",
     "shell.execute_reply": "2023-09-14T17:58:11.653458Z",
     "shell.execute_reply.started": "2023-09-14T17:58:08.825850Z"
    },
    "tags": []
   },
   "outputs": [],
   "source": [
    "FATABLE = M1M3FATable.FATABLE\n",
    "client = makeEfdClient()\n",
    "dayObs = 20230802\n",
    "eventMaker = TMAEventMaker()\n",
    "events = eventMaker.getEvents(dayObs)\n",
    "slews = [e for e in events if e.type==TMAState.SLEWING]\n",
    "tracks = [e for e in events if e.type==TMAState.TRACKING]\n",
    "print(f'Found {len(slews)} slews and {len(tracks)} tracks')"
   ]
  },
  {
   "cell_type": "code",
   "execution_count": null,
   "metadata": {
    "execution": {
     "iopub.execute_input": "2023-09-14T17:58:15.578457Z",
     "iopub.status.busy": "2023-09-14T17:58:15.578192Z",
     "iopub.status.idle": "2023-09-14T17:58:21.217818Z",
     "shell.execute_reply": "2023-09-14T17:58:21.217246Z",
     "shell.execute_reply.started": "2023-09-14T17:58:15.578438Z"
    },
    "jupyter": {
     "outputs_hidden": true
    },
    "tags": []
   },
   "outputs": [],
   "source": [
    "for i,slew in enumerate(slews):\n",
    "    start = slew.begin\n",
    "    end = slew.end\n",
    "    az = await client.select_time_series(\"lsst.sal.MTMount.azimuth\",\"actualPosition\", start, end)\n",
    "    el = await client.select_time_series(\"lsst.sal.MTMount.elevation\",\"actualPosition\", start, end)\n",
    "    try:\n",
    "        azVals = az.values\n",
    "        elVals = el.values\n",
    "        dAz = azVals[-1] - azVals[0]\n",
    "        dEl = elVals[-1] - elVals[0]\n",
    "        print(i, dAz, dEl)\n",
    "    except:\n",
    "        continue\n",
    "\n",
    "    "
   ]
  },
  {
   "cell_type": "code",
   "execution_count": null,
   "metadata": {
    "tags": []
   },
   "outputs": [],
   "source": [
    "slews[318].blockInfo"
   ]
  },
  {
   "cell_type": "code",
   "execution_count": null,
   "metadata": {
    "execution": {
     "iopub.execute_input": "2023-08-11T19:03:42.753932Z",
     "iopub.status.busy": "2023-08-11T19:03:42.753624Z",
     "iopub.status.idle": "2023-08-11T19:04:03.188329Z",
     "shell.execute_reply": "2023-08-11T19:04:03.187834Z",
     "shell.execute_reply.started": "2023-08-11T19:03:42.753918Z"
    },
    "tags": []
   },
   "outputs": [],
   "source": [
    "data = {}\n",
    "\n",
    "Gstart = Time('2023-08-02T12:00:00', scale='utc')\n",
    "Gend = Time('2023-08-03T12:00:00', scale='utc')\n",
    "\n",
    "for dayObs in [20230802]:\n",
    "    els = []\n",
    "    azs = []\n",
    "    times = []\n",
    "    xPos = []\n",
    "    yPos = []\n",
    "    zPos = []\n",
    "    xRot = []\n",
    "    yRot = []\n",
    "    zRot = []\n",
    "\n",
    "    events = eventMaker.getEvents(dayObs)\n",
    "    slews = [e for e in events if e.type==TMAState.SLEWING]\n",
    "    print(f'{dayObs}:found {len(slews)} slews ')\n",
    "    if len(slews) < 1:\n",
    "        continue\n",
    "    t0 = slews[0].begin.unix_tai\n",
    "    for slew in slews:\n",
    "        if not (slew.begin.unix_tai > Gstart.unix_tai and slew.begin.unix_tai < Gend.unix_tai \\\n",
    "        and slew.end.unix_tai > Gstart.unix_tai and slew.end.unix_tai < Gend.unix_tai):\n",
    "            continue\n",
    "\n",
    "        dT = 5.0\n",
    "        start = slew.end-TimeDelta(dT, format='sec')\n",
    "        end = slew.end+TimeDelta(dT, format='sec')\n",
    "        time = end.unix_tai - t0\n",
    "        ims_data = await client.select_time_series(\"lsst.sal.MTM1M3.imsData\", \"*\", start, end)\n",
    "        az = await client.select_time_series(\"lsst.sal.MTMount.azimuth\",\"actualPosition\", start, end)\n",
    "        el = await client.select_time_series(\"lsst.sal.MTMount.elevation\",\"actualPosition\", start, end)\n",
    "        try:\n",
    "            zPosFinal = ims_data['zPosition'].values[-1]\n",
    "            if zPosFinal > -0.002: # Test if mirror is raised\n",
    "                #azFinal = az.values[-1][0]\n",
    "                #if azFinal > 105.0 and azFinal < 185.0:\n",
    "                els.append(el.values[-1][0])\n",
    "                azs.append(az.values[-1][0])\n",
    "                times.append(time)\n",
    "                xPos.append(ims_data['xPosition'].values[-1] * 1.0E6)\n",
    "                yPos.append(ims_data['yPosition'].values[-1] * 1.0E6)\n",
    "                zPos.append(ims_data['zPosition'].values[-1] * 1.0E6)\n",
    "                xRot.append(ims_data['xRotation'].values[-1] * 1.0E6)\n",
    "                yRot.append(ims_data['yRotation'].values[-1] * 1.0E6)\n",
    "                zRot.append(ims_data['zRotation'].values[-1] * 1.0E6)\n",
    "        except:\n",
    "            continue\n",
    "\n",
    "    print(len(els))\n",
    "    data[dayObs] = [els, azs, times, [xPos, yPos, zPos, xRot, yRot, zRot]]\n"
   ]
  },
  {
   "cell_type": "code",
   "execution_count": null,
   "metadata": {
    "tags": []
   },
   "outputs": [],
   "source": [
    "# This is checking the slew begin and end times.\n",
    "# It looks correct\n",
    "start = Time('2023-08-03T00:50:00', scale='utc')\n",
    "end = Time('2023-08-03T01:00:00', scale='utc')\n",
    "ims_data = await client.select_time_series(\"lsst.sal.MTM1M3.imsData\", \"*\", start, end)\n",
    "az = await client.select_time_series(\"lsst.sal.MTMount.azimuth\",\"actualPosition\", start, end)\n",
    "el = await client.select_time_series(\"lsst.sal.MTMount.elevation\",\"actualPosition\", start, end)\n"
   ]
  },
  {
   "cell_type": "code",
   "execution_count": null,
   "metadata": {
    "tags": []
   },
   "outputs": [],
   "source": [
    "fig, axs = plt.subplots(2,1)\n",
    "plt.subplots_adjust(hspace=0.8)\n",
    "el.plot(ax = axs[0])\n",
    "axs[0].set_ylim(0,90)\n",
    "axs[0].set_title(\"Elevation\")\n",
    "az.plot(ax = axs[1])\n",
    "axs[1].set_ylim(-10,360)\n",
    "axs[1].set_title('Azimuth')\n",
    "for i, slew in enumerate(slews):\n",
    "    if slew.begin.unix_tai > start.unix_tai and slew.begin.unix_tai < end.unix_tai \\\n",
    "    and slew.end.unix_tai > start.unix_tai and slew.end.unix_tai < end.unix_tai:\n",
    "        print(i)\n",
    "        axs[0].axvline(slew.begin.isot, ls='--', color='green')\n",
    "        axs[0].axvline(slew.end.isot, ls='--', color='red')\n",
    "        axs[1].axvline(slew.begin.isot, ls='--', color='green')\n",
    "        axs[1].axvline(slew.end.isot, ls='--', color='red')\n",
    "        "
   ]
  },
  {
   "cell_type": "code",
   "execution_count": null,
   "metadata": {
    "tags": []
   },
   "outputs": [],
   "source": [
    "# Checking if things have stabilized by 5 seconds after end of slew - yes!\n",
    "slew = slews[160]\n",
    "dT = 5.0\n",
    "start = slew.end-TimeDelta(dT, format='sec')\n",
    "end = slew.end+TimeDelta(dT, format='sec')\n",
    "ims_data = await client.select_time_series(\"lsst.sal.MTM1M3.imsData\", \"*\", start, end)\n",
    "az = await client.select_time_series(\"lsst.sal.MTMount.azimuth\",\"actualPosition\", start, end)\n",
    "el = await client.select_time_series(\"lsst.sal.MTMount.elevation\",\"actualPosition\", start, end)\n"
   ]
  },
  {
   "cell_type": "code",
   "execution_count": null,
   "metadata": {
    "tags": []
   },
   "outputs": [],
   "source": [
    "%matplotlib inline\n",
    "names = ['xPosition', 'yPosition', 'zPosition', 'xRotation', 'yRotation', 'zRotation']\n",
    "limits = [6.0, 6.0, 1.0, 24.0, 24.0, 24.0]\n",
    "\n",
    "fig, axs = plt.subplots(3,2,figsize=(8,10))\n",
    "plt.subplots_adjust(hspace=0.5, wspace=0.5)\n",
    "plt.suptitle(f\"Final mirror position after a slew\", fontsize=16)\n",
    "plot_counter = 0\n",
    "for i in range(3):\n",
    "    for j in range(2):\n",
    "        if plot_counter > 2:\n",
    "            unit = 'microDeg'\n",
    "        else:\n",
    "            unit = 'um'\n",
    "        for dayObs in data.keys():\n",
    "            [els, azs, times, plots] = data[dayObs] \n",
    "\n",
    "            axs[i][j].set_title(names[plot_counter])\n",
    "            axs[i][j].set_xlim(0, 90)\n",
    "            axs[i][j].set_xlabel(\"Elevation (degrees)\")\n",
    "            axs[i][j].set_ylabel(f'IMS ({unit})')\n",
    "            axs[i][j].scatter(els, plots[plot_counter], label=dayObs, c=times)\n",
    "        plot_counter += 1\n",
    "axs[0][1].legend()\n",
    "plt.savefig(f\"/home/c/cslage/u/MTM1M3/data/Final_Mirror_Position_Time_03Aug23.png\")"
   ]
  },
  {
   "cell_type": "markdown",
   "metadata": {},
   "source": [
    "## Repeat with attempting to log %max values"
   ]
  },
  {
   "cell_type": "code",
   "execution_count": null,
   "metadata": {
    "execution": {
     "iopub.execute_input": "2023-09-14T17:59:19.051521Z",
     "iopub.status.busy": "2023-09-14T17:59:19.051069Z",
     "iopub.status.idle": "2023-09-14T17:59:19.054226Z",
     "shell.execute_reply": "2023-09-14T17:59:19.053823Z",
     "shell.execute_reply.started": "2023-09-14T17:59:19.051503Z"
    },
    "tags": []
   },
   "outputs": [],
   "source": [
    "blockTimes = [\"2023-08-02T21:44:00\", \"2023-08-03T01:14:00\", \"2023-08-03T03:06:00\", \\\n",
    "              \"2023-08-03T05:01:00\", \"2023-08-03T06:00:00\"]\n",
    "azMaxLimits = [30.0, 40.0, 50.0, 20.0]\n",
    "elMaxLimits = [30.0, 30.0, 30.0, 20.0]"
   ]
  },
  {
   "cell_type": "code",
   "execution_count": null,
   "metadata": {
    "execution": {
     "iopub.execute_input": "2023-08-11T19:07:23.887074Z",
     "iopub.status.busy": "2023-08-11T19:07:23.886860Z",
     "iopub.status.idle": "2023-08-11T19:07:44.903651Z",
     "shell.execute_reply": "2023-08-11T19:07:44.903164Z",
     "shell.execute_reply.started": "2023-08-11T19:07:23.887059Z"
    },
    "tags": []
   },
   "outputs": [],
   "source": [
    "data = {}\n",
    "\n",
    "for dayObs in [20230802]:\n",
    "    els = []\n",
    "    azs = []\n",
    "    times = []\n",
    "    elLimits = []\n",
    "    azLimits = []\n",
    "    xPos = []\n",
    "    yPos = []\n",
    "    zPos = []\n",
    "    xRot = []\n",
    "    yRot = []\n",
    "    zRot = []\n",
    "\n",
    "    events = eventMaker.getEvents(dayObs)\n",
    "    slews = [e for e in events if e.type==TMAState.SLEWING]\n",
    "    print(f'{dayObs}:found {len(slews)} slews ')\n",
    "    if len(slews) < 1:\n",
    "        continue\n",
    "    t0 = slews[0].begin.unix_tai\n",
    "    for slew in slews:\n",
    "\n",
    "        dT = 5.0\n",
    "        start = slew.end-TimeDelta(dT, format='sec')\n",
    "        end = slew.end+TimeDelta(dT, format='sec')\n",
    "        time = end.unix_tai - t0\n",
    "        ims_data = await client.select_time_series(\"lsst.sal.MTM1M3.imsData\", \"*\", start, end)\n",
    "        az = await client.select_time_series(\"lsst.sal.MTMount.azimuth\",\"actualPosition\", start, end)\n",
    "        el = await client.select_time_series(\"lsst.sal.MTMount.elevation\",\"actualPosition\", start, end)\n",
    "        try:\n",
    "            zPosFinal = ims_data['zPosition'].values[-1]\n",
    "            if zPosFinal > -0.002: # Test if mirror is raised\n",
    "                for n, blockTime in enumerate(blockTimes[0:-1]):\n",
    "                    startTime = Time(blockTime, scale='utc')\n",
    "                    endTime = Time(blockTimes[n+1], scale='utc')\n",
    "                    startTest = start.unix_tai - startTime.unix_tai\n",
    "                    endTest = start.unix_tai - endTime.unix_tai\n",
    "                    if startTest >0.0 and endTest < 0.0:\n",
    "                        elLimits.append(elMaxLimits[n])\n",
    "                        azLimits.append(azMaxLimits[n])\n",
    "                        els.append(el.values[-1][0])\n",
    "                        azs.append(az.values[-1][0])\n",
    "                        times.append(time)\n",
    "                        xPos.append(ims_data['xPosition'].values[-1] * 1.0E6)\n",
    "                        yPos.append(ims_data['yPosition'].values[-1] * 1.0E6)\n",
    "                        zPos.append(ims_data['zPosition'].values[-1] * 1.0E6)\n",
    "                        xRot.append(ims_data['xRotation'].values[-1] * 1.0E6)\n",
    "                        yRot.append(ims_data['yRotation'].values[-1] * 1.0E6)\n",
    "                        zRot.append(ims_data['zRotation'].values[-1] * 1.0E6)\n",
    "        except:\n",
    "            continue\n",
    "\n",
    "    print(len(els))\n",
    "    data[dayObs] = [els, azs, times, elLimits, azLimits, [xPos, yPos, zPos, xRot, yRot, zRot]]\n"
   ]
  },
  {
   "cell_type": "code",
   "execution_count": null,
   "metadata": {
    "execution": {
     "iopub.execute_input": "2023-08-11T19:07:50.055188Z",
     "iopub.status.busy": "2023-08-11T19:07:50.054655Z",
     "iopub.status.idle": "2023-08-11T19:07:51.177366Z",
     "shell.execute_reply": "2023-08-11T19:07:51.176900Z",
     "shell.execute_reply.started": "2023-08-11T19:07:50.055174Z"
    },
    "tags": []
   },
   "outputs": [],
   "source": [
    "%matplotlib inline\n",
    "names = ['xPosition', 'yPosition', 'zPosition', 'xRotation', 'yRotation', 'zRotation']\n",
    "limits = [6.0, 6.0, 1.0, 24.0, 24.0, 24.0]\n",
    "\n",
    "fig, axs = plt.subplots(3,2,figsize=(8,10))\n",
    "plt.subplots_adjust(hspace=0.5, wspace=0.5)\n",
    "plt.suptitle(f\"Final mirror position after a slew\", fontsize=16)\n",
    "plot_counter = 0\n",
    "for i in range(3):\n",
    "    for j in range(2):\n",
    "        if plot_counter > 2:\n",
    "            unit = 'microDeg'\n",
    "        else:\n",
    "            unit = 'um'\n",
    "        for dayObs in data.keys():\n",
    "            [els, azs, times, elLimits, azLimits, plots] = data[dayObs] \n",
    "\n",
    "            axs[i][j].set_title(names[plot_counter])\n",
    "            axs[i][j].set_xlim(0, 90)\n",
    "            axs[i][j].set_xlabel(\"Elevation (degrees)\")\n",
    "            axs[i][j].set_ylabel(f'IMS ({unit})')\n",
    "            p = axs[i][j].scatter(els, plots[plot_counter], label=dayObs, c=azLimits)\n",
    "            fig.colorbar(p,ax=axs[i][j],orientation='vertical',label='azLimit(%)')\n",
    "        plot_counter += 1\n",
    "        \n",
    "axs[0][1].legend()\n",
    "\n",
    "plt.savefig(f\"/home/c/cslage/u/MTM1M3/data/Final_Mirror_Position_AzLimits_03Aug23.png\")"
   ]
  },
  {
   "cell_type": "code",
   "execution_count": null,
   "metadata": {},
   "outputs": [],
   "source": []
  },
  {
   "cell_type": "code",
   "execution_count": null,
   "metadata": {
    "execution": {
     "iopub.execute_input": "2023-08-11T19:08:26.968213Z",
     "iopub.status.busy": "2023-08-11T19:08:26.967944Z",
     "iopub.status.idle": "2023-08-11T19:08:48.766415Z",
     "shell.execute_reply": "2023-08-11T19:08:48.765928Z",
     "shell.execute_reply.started": "2023-08-11T19:08:26.968194Z"
    },
    "tags": []
   },
   "outputs": [],
   "source": [
    "data = {}\n",
    "\n",
    "for dayObs in [20230802]:\n",
    "    els = []\n",
    "    azs = []\n",
    "    times = []\n",
    "    elLimits = []\n",
    "    azLimits = []\n",
    "    xPos = []\n",
    "    yPos = []\n",
    "    zPos = []\n",
    "    xRot = []\n",
    "    yRot = []\n",
    "    zRot = []\n",
    "\n",
    "    events = eventMaker.getEvents(dayObs)\n",
    "    slews = [e for e in events if e.type==TMAState.SLEWING]\n",
    "    print(f'{dayObs}:found {len(slews)} slews ')\n",
    "    if len(slews) < 1:\n",
    "        continue\n",
    "    t0 = slews[0].begin.unix_tai\n",
    "    for slew in slews:\n",
    "\n",
    "        dT = 5.0\n",
    "        start = slew.end-TimeDelta(dT, format='sec')\n",
    "        end = slew.end+TimeDelta(dT, format='sec')\n",
    "        time = end.unix_tai - t0\n",
    "        ims_data = await client.select_time_series(\"lsst.sal.MTM1M3.imsData\", \"*\", start, end)\n",
    "        az = await client.select_time_series(\"lsst.sal.MTMount.azimuth\",\"actualPosition\", start, end)\n",
    "        el = await client.select_time_series(\"lsst.sal.MTMount.elevation\",\"actualPosition\", start, end)\n",
    "        try:\n",
    "            zPosFinal = ims_data['zPosition'].values[-1]\n",
    "            if zPosFinal > -0.002: # Test if mirror is raised\n",
    "                for n, blockTime in enumerate(blockTimes[0:-1]):\n",
    "                    startTime = Time(blockTime, scale='utc')\n",
    "                    endTime = Time(blockTimes[n+1], scale='utc')\n",
    "                    startTest = start.unix_tai - startTime.unix_tai\n",
    "                    endTest = start.unix_tai - endTime.unix_tai\n",
    "                    if startTest >0.0 and endTest < 0.0:\n",
    "                        elLimits.append(elMaxLimits[n])\n",
    "                        azLimits.append(azMaxLimits[n])\n",
    "                        els.append(el.values[-1][0])\n",
    "                        azs.append(az.values[-1][0])\n",
    "                        times.append(time)\n",
    "                        xPos.append(ims_data['xPosition'].values[-1] * 1.0E6)\n",
    "                        yPos.append(ims_data['yPosition'].values[-1] * 1.0E6)\n",
    "                        zPos.append(ims_data['zPosition'].values[-1] * 1.0E6)\n",
    "                        xRot.append(ims_data['xRotation'].values[-1] * 1.0E6)\n",
    "                        yRot.append(ims_data['yRotation'].values[-1] * 1.0E6)\n",
    "                        zRot.append(ims_data['zRotation'].values[-1] * 1.0E6)\n",
    "        except:\n",
    "            continue\n",
    "\n",
    "    print(len(els))\n",
    "    data[dayObs] = [els, azs, times, elLimits, azLimits, [xPos, yPos, zPos, xRot, yRot, zRot]]\n"
   ]
  },
  {
   "cell_type": "code",
   "execution_count": null,
   "metadata": {
    "execution": {
     "iopub.execute_input": "2023-08-11T19:10:16.808259Z",
     "iopub.status.busy": "2023-08-11T19:10:16.808068Z",
     "iopub.status.idle": "2023-08-11T19:10:18.282978Z",
     "shell.execute_reply": "2023-08-11T19:10:18.282567Z",
     "shell.execute_reply.started": "2023-08-11T19:10:16.808246Z"
    },
    "tags": []
   },
   "outputs": [],
   "source": [
    "%matplotlib inline\n",
    "names = ['xPosition', 'yPosition', 'zPosition', 'xRotation', 'yRotation', 'zRotation']\n",
    "limits = [6.0, 6.0, 1.0, 24.0, 24.0, 24.0]\n",
    "\n",
    "fig, axs = plt.subplots(2,3,figsize=(12,8))\n",
    "plt.subplots_adjust(hspace=0.3, wspace=0.4)\n",
    "plt.suptitle(f\"Final mirror position after a slew\", fontsize=16)\n",
    "plot_counter = 0\n",
    "for i in range(2):\n",
    "    for j in range(3):\n",
    "        if plot_counter > 2:\n",
    "            unit = 'microDeg'\n",
    "        else:\n",
    "            unit = 'um'\n",
    "        for dayObs in data.keys():\n",
    "            [els, azs, times, elLimits, azLimits, plots] = data[dayObs] \n",
    "\n",
    "            axs[i][j].set_title(names[plot_counter])\n",
    "            axs[i][j].set_xlim(0, 90)\n",
    "            axs[i][j].set_xlabel(\"Elevation (degrees)\")\n",
    "            axs[i][j].set_ylabel(f'IMS ({unit})')\n",
    "            for m, azLimit in enumerate(azMaxLimits):\n",
    "                theseEls = []\n",
    "                theseData = []\n",
    "                for n in range(len(els)):\n",
    "                    if abs(azLimits[n] - azLimit) < 0.1:\n",
    "                        theseEls.append(els[n])\n",
    "                        theseData.append(plots[plot_counter][n])\n",
    "                \n",
    "                axs[i][j].scatter(theseEls, theseData, label=azLimit)\n",
    "                fit = np.polyfit(theseEls, theseData, 2)\n",
    "                #print(azLimit, fit)\n",
    "                xplot = np.linspace(0.0, 90.0, 1000)\n",
    "                yplot = np.polyval(fit, xplot)\n",
    "                axs[i][j].plot(xplot, yplot, ls='--')\n",
    "\n",
    "                axs[i][j].legend()\n",
    "        plot_counter += 1\n",
    "        \n",
    "\n",
    "\n",
    "plt.savefig(f\"/home/c/cslage/u/MTM1M3/data/Final_Mirror_Position_AzLimits_3_03Aug23.png\")"
   ]
  },
  {
   "cell_type": "code",
   "execution_count": null,
   "metadata": {
    "execution": {
     "iopub.execute_input": "2023-09-14T17:59:26.559450Z",
     "iopub.status.busy": "2023-09-14T17:59:26.558975Z",
     "iopub.status.idle": "2023-09-14T17:59:49.171768Z",
     "shell.execute_reply": "2023-09-14T17:59:49.171229Z",
     "shell.execute_reply.started": "2023-09-14T17:59:26.559432Z"
    },
    "tags": []
   },
   "outputs": [],
   "source": [
    "data = {}\n",
    "\n",
    "for dayObs in [20230802]:\n",
    "    els = []\n",
    "    azs = []\n",
    "    times = []\n",
    "    temps = []\n",
    "    elLimits = []\n",
    "    azLimits = []\n",
    "    xPos = []\n",
    "    yPos = []\n",
    "    zPos = []\n",
    "    xRot = []\n",
    "    yRot = []\n",
    "    zRot = []\n",
    "\n",
    "    events = eventMaker.getEvents(dayObs)\n",
    "    slews = [e for e in events if e.type==TMAState.SLEWING]\n",
    "    print(f'{dayObs}:found {len(slews)} slews ')\n",
    "    if len(slews) < 1:\n",
    "        continue\n",
    "    t0 = slews[0].begin.unix_tai\n",
    "    for slew in slews:\n",
    "\n",
    "        dT = 5.0\n",
    "        start = slew.end-TimeDelta(dT, format='sec')\n",
    "        end = slew.end+TimeDelta(dT, format='sec')\n",
    "        time = end.unix_tai - t0\n",
    "        ims_data = await client.select_time_series(\"lsst.sal.MTM1M3.imsData\", \"*\", start, end)\n",
    "        az = await client.select_time_series(\"lsst.sal.MTMount.azimuth\",\"actualPosition\", start, end)\n",
    "        el = await client.select_time_series(\"lsst.sal.MTMount.elevation\",\"actualPosition\", start, end)\n",
    "        temp = await client.select_time_series(\"lsst.sal.MTM1M3TS.glycolLoopTemperature\", \"insideCellTemperature1\", start, end)\n",
    "        try:\n",
    "            zPosFinal = ims_data['zPosition'].values[-1]\n",
    "        except:\n",
    "            continue\n",
    "\n",
    "        if zPosFinal > -0.002: # Test if mirror is raised\n",
    "            for n, blockTime in enumerate(blockTimes[0:-1]):\n",
    "                startTime = Time(blockTime, scale='utc')\n",
    "                endTime = Time(blockTimes[n+1], scale='utc')\n",
    "                startTest = start.unix_tai - startTime.unix_tai\n",
    "                endTest = start.unix_tai - endTime.unix_tai\n",
    "                if startTest >0.0 and endTest < 0.0:\n",
    "                    elLimits.append(elMaxLimits[n])\n",
    "                    azLimits.append(azMaxLimits[n])\n",
    "                    els.append(el.values[-1][0])\n",
    "                    azs.append(az.values[-1][0])\n",
    "                    times.append(time)\n",
    "                    temps.append(np.median(temp['insideCellTemperature1'].values))\n",
    "                    xPos.append(ims_data['xPosition'].values[-1] * 1.0E6)\n",
    "                    yPos.append(ims_data['yPosition'].values[-1] * 1.0E6)\n",
    "                    zPos.append(ims_data['zPosition'].values[-1] * 1.0E6)\n",
    "                    xRot.append(ims_data['xRotation'].values[-1] * 1.0E6)\n",
    "                    yRot.append(ims_data['yRotation'].values[-1] * 1.0E6)\n",
    "                    zRot.append(ims_data['zRotation'].values[-1] * 1.0E6)\n",
    "\n",
    "    print(len(els))\n",
    "    data[dayObs] = [els, azs, times, temps, elLimits, azLimits, [xPos, yPos, zPos, xRot, yRot, zRot]]\n"
   ]
  },
  {
   "cell_type": "code",
   "execution_count": null,
   "metadata": {
    "execution": {
     "iopub.execute_input": "2023-08-23T16:18:28.517560Z",
     "iopub.status.busy": "2023-08-23T16:18:28.517063Z",
     "iopub.status.idle": "2023-08-23T16:18:28.521596Z",
     "shell.execute_reply": "2023-08-23T16:18:28.521321Z",
     "shell.execute_reply.started": "2023-08-23T16:18:28.517547Z"
    },
    "jupyter": {
     "outputs_hidden": true
    },
    "tags": []
   },
   "outputs": [],
   "source": [
    "temps"
   ]
  },
  {
   "cell_type": "code",
   "execution_count": null,
   "metadata": {
    "execution": {
     "iopub.execute_input": "2023-09-14T17:59:49.241927Z",
     "iopub.status.busy": "2023-09-14T17:59:49.241782Z",
     "iopub.status.idle": "2023-09-14T17:59:49.916720Z",
     "shell.execute_reply": "2023-09-14T17:59:49.916205Z",
     "shell.execute_reply.started": "2023-09-14T17:59:49.241914Z"
    },
    "tags": []
   },
   "outputs": [],
   "source": [
    "%matplotlib inline\n",
    "names = ['xPosition', 'yPosition', 'zPosition', 'xRotation', 'yRotation', 'zRotation']\n",
    "limits = [6.0, 6.0, 1.0, 24.0, 24.0, 24.0]\n",
    "\n",
    "fig, axs = plt.subplots(2,3,figsize=(12,8))\n",
    "plt.subplots_adjust(hspace=0.3, wspace=0.4)\n",
    "plt.suptitle(f\"Final mirror position after a slew\", fontsize=16)\n",
    "plot_counter = 2#0\n",
    "theseEls = []\n",
    "theseData = []\n",
    "theseTemps = []\n",
    "theseTimes = []\n",
    "for i in [0]:#range(2):\n",
    "    for j in [2]:#range(3):\n",
    "        if plot_counter > 2:\n",
    "            unit = 'microDeg'\n",
    "        else:\n",
    "            unit = 'um'\n",
    "        for dayObs in data.keys():\n",
    "            [els, azs, times, temps, elLimits, azLimits, plots] = data[dayObs] \n",
    "\n",
    "            axs[i][j].set_title(names[plot_counter])\n",
    "            axs[i][j].set_xlim(0, 90)\n",
    "            axs[i][j].set_xlabel(\"Elevation (degrees)\")\n",
    "            axs[i][j].set_ylabel(f'IMS ({unit})')\n",
    "            for m, azLimit in enumerate(azMaxLimits):\n",
    "                for n in range(len(els)):\n",
    "                    if abs(azLimits[n] - azLimit) < 0.1:\n",
    "                        theseTimes.append(times[n])\n",
    "                        theseEls.append(els[n])\n",
    "                        theseData.append(plots[plot_counter][n])\n",
    "                        theseTemps.append(temps[n])\n",
    "                \n",
    "                axs[i][j].scatter(theseEls, theseData, label=azLimit)\n",
    "                fit = np.polyfit(theseEls, theseData, 2)\n",
    "                #print(azLimit, fit)\n",
    "                xplot = np.linspace(0.0, 90.0, 1000)\n",
    "                yplot = np.polyval(fit, xplot)\n",
    "                axs[i][j].plot(xplot, yplot, ls='--')\n",
    "\n",
    "                axs[i][j].legend()\n",
    "        plot_counter += 1\n",
    "        \n",
    "\n",
    "\n",
    "plt.savefig(f\"/home/c/cslage/u/MTM1M3/data/Final_Mirror_Position_AzLimits_3_03Aug23.png\")"
   ]
  },
  {
   "cell_type": "code",
   "execution_count": null,
   "metadata": {
    "execution": {
     "iopub.execute_input": "2023-08-23T18:02:22.405192Z",
     "iopub.status.busy": "2023-08-23T18:02:22.404669Z",
     "iopub.status.idle": "2023-08-23T18:02:22.407653Z",
     "shell.execute_reply": "2023-08-23T18:02:22.407303Z",
     "shell.execute_reply.started": "2023-08-23T18:02:22.405177Z"
    },
    "tags": []
   },
   "outputs": [],
   "source": [
    "print(len(theseEls), len(theseData), len(theseTemps), len(theseTimes))\n",
    "print(theseTimes[0])"
   ]
  },
  {
   "cell_type": "code",
   "execution_count": null,
   "metadata": {
    "execution": {
     "iopub.execute_input": "2023-08-23T18:02:40.952555Z",
     "iopub.status.busy": "2023-08-23T18:02:40.951986Z",
     "iopub.status.idle": "2023-08-23T18:02:41.061053Z",
     "shell.execute_reply": "2023-08-23T18:02:41.060682Z",
     "shell.execute_reply.started": "2023-08-23T18:02:40.952539Z"
    },
    "tags": []
   },
   "outputs": [],
   "source": [
    "plt.scatter(theseTimes, theseTemps)"
   ]
  },
  {
   "cell_type": "code",
   "execution_count": null,
   "metadata": {
    "execution": {
     "iopub.execute_input": "2023-09-14T17:59:59.472554Z",
     "iopub.status.busy": "2023-09-14T17:59:59.472178Z",
     "iopub.status.idle": "2023-09-14T17:59:59.476602Z",
     "shell.execute_reply": "2023-09-14T17:59:59.476161Z",
     "shell.execute_reply.started": "2023-09-14T17:59:59.472534Z"
    },
    "tags": []
   },
   "outputs": [],
   "source": [
    "from scipy.optimize import minimize\n",
    "\n",
    "def func1(params, args):\n",
    "    [const, El1, El2] = params\n",
    "    [els, data, temps] = args\n",
    "    diff = data - (const + El1 * els + El2 * els * els)\n",
    "    return np.sum(diff * diff)\n",
    "\n",
    "def func2(params, args):\n",
    "    [const, El1, El2, T1] = params\n",
    "    [els, data, temps] = args\n",
    "    diff = data - (const + El1 * els + El2 * els * els + T1 * temps)\n",
    "    return np.sum(diff * diff)"
   ]
  },
  {
   "cell_type": "code",
   "execution_count": null,
   "metadata": {
    "execution": {
     "iopub.execute_input": "2023-09-14T18:00:02.799080Z",
     "iopub.status.busy": "2023-09-14T18:00:02.798850Z",
     "iopub.status.idle": "2023-09-14T18:00:02.841888Z",
     "shell.execute_reply": "2023-09-14T18:00:02.841446Z",
     "shell.execute_reply.started": "2023-09-14T18:00:02.799064Z"
    },
    "tags": []
   },
   "outputs": [],
   "source": [
    "args = [np.array(theseEls), np.array(theseData), np.array(theseTemps)]\n",
    "param0 = [-700, 1.7, -.01, -60.0]\n",
    "Tparams = minimize(func2, param0, args=args, method='Powell').x\n",
    "param0 = [-700, 1.7, -.01]\n",
    "NoTparams = minimize(func1, param0, args=args, method='Powell').x"
   ]
  },
  {
   "cell_type": "code",
   "execution_count": null,
   "metadata": {
    "execution": {
     "iopub.execute_input": "2023-08-23T17:51:35.428095Z",
     "iopub.status.busy": "2023-08-23T17:51:35.427882Z",
     "iopub.status.idle": "2023-08-23T17:51:35.431446Z",
     "shell.execute_reply": "2023-08-23T17:51:35.431094Z",
     "shell.execute_reply.started": "2023-08-23T17:51:35.428080Z"
    },
    "tags": []
   },
   "outputs": [],
   "source": [
    "NoTparams"
   ]
  },
  {
   "cell_type": "code",
   "execution_count": null,
   "metadata": {
    "execution": {
     "iopub.execute_input": "2023-09-14T18:03:48.874494Z",
     "iopub.status.busy": "2023-09-14T18:03:48.873987Z",
     "iopub.status.idle": "2023-09-14T18:03:49.364448Z",
     "shell.execute_reply": "2023-09-14T18:03:49.363965Z",
     "shell.execute_reply.started": "2023-09-14T18:03:48.874476Z"
    },
    "tags": []
   },
   "outputs": [],
   "source": [
    "fig, axs = plt.subplots(2,2,figsize = (10,10))\n",
    "plt.subplots_adjust(wspace = 0.5)\n",
    "plt.suptitle(\"Mirror Z Position during slews 20230803\", fontsize = 24)\n",
    "\n",
    "axs[0][0].set_title(\"No temperature compensation\")\n",
    "axs[0][0].scatter(theseEls, theseData)\n",
    "axs[0][0].set_xlabel(\"Elevation (degrees)\")\n",
    "axs[0][0].set_ylabel(\"Mirror zPosition (microns)\")\n",
    "xs = np.linspace(20,90,1000)\n",
    "ys = NoTparams[0] + NoTparams[1] * xs + NoTparams[2] * xs * xs\n",
    "axs[0][0].plot(xs, ys, ls = '--', color='red')\n",
    "\n",
    "axs[0][1].set_title(\"With temperature compensation\")\n",
    "axs[0][1].scatter(theseEls, theseData - Tparams[3] * np.array(theseTemps))\n",
    "axs[0][1].set_xlabel(\"Elevation (degrees)\")\n",
    "axs[0][1].set_ylabel(\"Temp adjusted Mirror zPosition (microns)\")\n",
    "xs = np.linspace(20,90,1000)\n",
    "ys = Tparams[0] + Tparams[1] * xs + Tparams[2] * xs * xs\n",
    "axs[0][1].plot(xs, ys, ls = '--', color='red')\n",
    "\n",
    "axs[1][0].set_title(\"Temperature vs Time\")\n",
    "axs[1][0].scatter(theseTimes, theseTemps)\n",
    "axs[1][0].set_xlabel(\"Time(seconds)\")\n",
    "axs[1][0].set_ylabel(\"lsst.sal.MTM1M3TS.glycolLoopTemperature.insideCellTemperature1 (C)\", fontsize=8)\n",
    "\n",
    "axs[1][1].axis('off')\n",
    "\n",
    "axs[0][0].plot([60,70],[-1440,-1440], ls='--', color='black')\n",
    "axs[0][0].plot([60,70],[-1442,-1442], ls='--', color='black')\n",
    "axs[0][0].text(71,-1442, \"Spec limits\", color='black')\n",
    "axs[0][1].plot([60,70],[-670,-670], ls='--', color='black')\n",
    "axs[0][1].plot([60,70],[-672,-672], ls='--', color='black')\n",
    "axs[0][1].text(71,-672, \"Spec limits\", color='black')\n",
    "\n",
    "\n",
    "plt.savefig(f\"/home/c/cslage/u/MTM1M3/data/Mirror_Position_Temperature_03Aug23.png\")"
   ]
  },
  {
   "cell_type": "code",
   "execution_count": null,
   "metadata": {},
   "outputs": [],
   "source": []
  }
 ],
 "metadata": {
  "kernelspec": {
   "display_name": "LSST",
   "language": "python",
   "name": "lsst"
  },
  "language_info": {
   "codemirror_mode": {
    "name": "ipython",
    "version": 3
   },
   "file_extension": ".py",
   "mimetype": "text/x-python",
   "name": "python",
   "nbconvert_exporter": "python",
   "pygments_lexer": "ipython3",
   "version": "3.12.11"
  }
 },
 "nbformat": 4,
 "nbformat_minor": 4
}
