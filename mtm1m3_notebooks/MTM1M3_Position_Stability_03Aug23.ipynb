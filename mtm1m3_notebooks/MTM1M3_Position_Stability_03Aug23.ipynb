{
 "cells": [
  {
   "cell_type": "markdown",
   "metadata": {},
   "source": [
    "# M1M3 position data\n",
    "Craig Lage - 16-Apr-23 \\\n",
    "Comparing different position measurements."
   ]
  },
  {
   "cell_type": "code",
   "execution_count": null,
   "metadata": {
    "execution": {
     "iopub.execute_input": "2023-08-11T18:13:01.574368Z",
     "iopub.status.busy": "2023-08-11T18:13:01.574249Z",
     "iopub.status.idle": "2023-08-11T18:13:04.305217Z",
     "shell.execute_reply": "2023-08-11T18:13:04.304688Z",
     "shell.execute_reply.started": "2023-08-11T18:13:01.574356Z"
    },
    "tags": []
   },
   "outputs": [],
   "source": [
    "import sys, time, os, asyncio, glob\n",
    "from datetime import datetime\n",
    "import numpy as np\n",
    "import matplotlib.pyplot as plt\n",
    "from matplotlib.backends.backend_pdf import PdfPages\n",
    "import pickle as pkl\n",
    "from astropy.time import Time, TimeDelta\n",
    "import lsst.ts.cRIOpy.M1M3FATable as M1M3FATable\n",
    "from scipy.interpolate import UnivariateSpline\n",
    "from lsst.summit.utils.tmaUtils import TMAEventMaker, TMAState, getSlewsFromEventList\n",
    "from lsst.summit.utils.efdUtils import (makeEfdClient,\n",
    "                                        getEfdData,\n",
    "                                        getMostRecentRowWithDataBefore,\n",
    "                                        efdTimestampToAstropy,\n",
    "                                       )"
   ]
  },
  {
   "cell_type": "code",
   "execution_count": null,
   "metadata": {
    "execution": {
     "iopub.execute_input": "2023-08-11T18:13:30.674783Z",
     "iopub.status.busy": "2023-08-11T18:13:30.674477Z",
     "iopub.status.idle": "2023-08-11T18:13:33.596259Z",
     "shell.execute_reply": "2023-08-11T18:13:33.595760Z",
     "shell.execute_reply.started": "2023-08-11T18:13:30.674768Z"
    },
    "tags": []
   },
   "outputs": [],
   "source": [
    "FATABLE = M1M3FATable.FATABLE\n",
    "client = makeEfdClient()\n",
    "dayObs = 20230802\n",
    "eventMaker = TMAEventMaker()\n",
    "events = eventMaker.getEvents(dayObs)\n",
    "slews = [e for e in events if e.type==TMAState.SLEWING]\n",
    "tracks = [e for e in events if e.type==TMAState.TRACKING]\n",
    "print(f'Found {len(slews)} slews and {len(tracks)} tracks')"
   ]
  },
  {
   "cell_type": "code",
   "execution_count": null,
   "metadata": {
    "execution": {
     "iopub.execute_input": "2023-08-11T18:15:58.734813Z",
     "iopub.status.busy": "2023-08-11T18:15:58.734610Z",
     "iopub.status.idle": "2023-08-11T18:16:04.341303Z",
     "shell.execute_reply": "2023-08-11T18:16:04.340803Z",
     "shell.execute_reply.started": "2023-08-11T18:15:58.734799Z"
    },
    "tags": []
   },
   "outputs": [],
   "source": [
    "for i,slew in enumerate(slews):\n",
    "    start = slew.begin\n",
    "    end = slew.end\n",
    "    az = await client.select_time_series(\"lsst.sal.MTMount.azimuth\",\"actualPosition\", start, end)\n",
    "    el = await client.select_time_series(\"lsst.sal.MTMount.elevation\",\"actualPosition\", start, end)\n",
    "    try:\n",
    "        azVals = az.values\n",
    "        elVals = el.values\n",
    "        dAz = azVals[-1] - azVals[0]\n",
    "        dEl = elVals[-1] - elVals[0]\n",
    "        print(i, dAz, dEl)\n",
    "    except:\n",
    "        continue\n",
    "\n",
    "    "
   ]
  },
  {
   "cell_type": "code",
   "execution_count": null,
   "metadata": {
    "tags": []
   },
   "outputs": [],
   "source": [
    "slews[318].blockInfo"
   ]
  },
  {
   "cell_type": "code",
   "execution_count": null,
   "metadata": {
    "tags": []
   },
   "outputs": [],
   "source": [
    "data = {}\n",
    "\n",
    "Gstart = Time('2023-08-02T12:00:00', scale='utc')\n",
    "Gend = Time('2023-08-03T12:00:00', scale='utc')\n",
    "\n",
    "for dayObs in [20230802]:\n",
    "    els = []\n",
    "    azs = []\n",
    "    times = []\n",
    "    xPos = []\n",
    "    yPos = []\n",
    "    zPos = []\n",
    "    xRot = []\n",
    "    yRot = []\n",
    "    zRot = []\n",
    "\n",
    "    events = eventMaker.getEvents(dayObs)\n",
    "    slews = [e for e in events if e.type==TMAState.SLEWING]\n",
    "    print(f'{dayObs}:found {len(slews)} slews ')\n",
    "    if len(slews) < 1:\n",
    "        continue\n",
    "    t0 = slews[0].begin.unix_tai\n",
    "    for slew in slews:\n",
    "        if not (slew.begin.unix_tai > Gstart.unix_tai and slew.begin.unix_tai < Gend.unix_tai \\\n",
    "        and slew.end.unix_tai > Gstart.unix_tai and slew.end.unix_tai < Gend.unix_tai):\n",
    "            continue\n",
    "\n",
    "        dT = 5.0\n",
    "        start = slew.end-TimeDelta(dT, format='sec')\n",
    "        end = slew.end+TimeDelta(dT, format='sec')\n",
    "        time = end.unix_tai - t0\n",
    "        ims_data = await client.select_time_series(\"lsst.sal.MTM1M3.imsData\", \"*\", start, end)\n",
    "        az = await client.select_time_series(\"lsst.sal.MTMount.azimuth\",\"actualPosition\", start, end)\n",
    "        el = await client.select_time_series(\"lsst.sal.MTMount.elevation\",\"actualPosition\", start, end)\n",
    "        try:\n",
    "            zPosFinal = ims_data['zPosition'].values[-1]\n",
    "            if zPosFinal > -0.002: # Test if mirror is raised\n",
    "                #azFinal = az.values[-1][0]\n",
    "                #if azFinal > 105.0 and azFinal < 185.0:\n",
    "                els.append(el.values[-1][0])\n",
    "                azs.append(az.values[-1][0])\n",
    "                times.append(time)\n",
    "                xPos.append(ims_data['xPosition'].values[-1] * 1.0E6)\n",
    "                yPos.append(ims_data['yPosition'].values[-1] * 1.0E6)\n",
    "                zPos.append(ims_data['zPosition'].values[-1] * 1.0E6)\n",
    "                xRot.append(ims_data['xRotation'].values[-1] * 1.0E6)\n",
    "                yRot.append(ims_data['yRotation'].values[-1] * 1.0E6)\n",
    "                zRot.append(ims_data['zRotation'].values[-1] * 1.0E6)\n",
    "        except:\n",
    "            continue\n",
    "\n",
    "    print(len(els))\n",
    "    data[dayObs] = [els, azs, times, [xPos, yPos, zPos, xRot, yRot, zRot]]\n"
   ]
  },
  {
   "cell_type": "code",
   "execution_count": null,
   "metadata": {
    "tags": []
   },
   "outputs": [],
   "source": [
    "# This is checking the slew begin and end times.\n",
    "# It looks correct\n",
    "start = Time('2023-08-03T00:50:00', scale='utc')\n",
    "end = Time('2023-08-03T01:00:00', scale='utc')\n",
    "ims_data = await client.select_time_series(\"lsst.sal.MTM1M3.imsData\", \"*\", start, end)\n",
    "az = await client.select_time_series(\"lsst.sal.MTMount.azimuth\",\"actualPosition\", start, end)\n",
    "el = await client.select_time_series(\"lsst.sal.MTMount.elevation\",\"actualPosition\", start, end)\n"
   ]
  },
  {
   "cell_type": "code",
   "execution_count": null,
   "metadata": {
    "tags": []
   },
   "outputs": [],
   "source": [
    "fig, axs = plt.subplots(2,1)\n",
    "plt.subplots_adjust(hspace=0.8)\n",
    "el.plot(ax = axs[0])\n",
    "axs[0].set_ylim(0,90)\n",
    "axs[0].set_title(\"Elevation\")\n",
    "az.plot(ax = axs[1])\n",
    "axs[1].set_ylim(-10,360)\n",
    "axs[1].set_title('Azimuth')\n",
    "for i, slew in enumerate(slews):\n",
    "    if slew.begin.unix_tai > start.unix_tai and slew.begin.unix_tai < end.unix_tai \\\n",
    "    and slew.end.unix_tai > start.unix_tai and slew.end.unix_tai < end.unix_tai:\n",
    "        print(i)\n",
    "        axs[0].axvline(slew.begin.isot, ls='--', color='green')\n",
    "        axs[0].axvline(slew.end.isot, ls='--', color='red')\n",
    "        axs[1].axvline(slew.begin.isot, ls='--', color='green')\n",
    "        axs[1].axvline(slew.end.isot, ls='--', color='red')\n",
    "        "
   ]
  },
  {
   "cell_type": "code",
   "execution_count": null,
   "metadata": {
    "tags": []
   },
   "outputs": [],
   "source": [
    "# Checking if things have stabilized by 5 seconds after end of slew - yes!\n",
    "slew = slews[160]\n",
    "dT = 5.0\n",
    "start = slew.end-TimeDelta(dT, format='sec')\n",
    "end = slew.end+TimeDelta(dT, format='sec')\n",
    "ims_data = await client.select_time_series(\"lsst.sal.MTM1M3.imsData\", \"*\", start, end)\n",
    "az = await client.select_time_series(\"lsst.sal.MTMount.azimuth\",\"actualPosition\", start, end)\n",
    "el = await client.select_time_series(\"lsst.sal.MTMount.elevation\",\"actualPosition\", start, end)\n"
   ]
  },
  {
   "cell_type": "code",
   "execution_count": null,
   "metadata": {
    "tags": []
   },
   "outputs": [],
   "source": [
    "%matplotlib inline\n",
    "names = ['xPosition', 'yPosition', 'zPosition', 'xRotation', 'yRotation', 'zRotation']\n",
    "limits = [6.0, 6.0, 1.0, 24.0, 24.0, 24.0]\n",
    "\n",
    "fig, axs = plt.subplots(3,2,figsize=(8,10))\n",
    "plt.subplots_adjust(hspace=0.5, wspace=0.5)\n",
    "plt.suptitle(f\"Final mirror position after a slew\", fontsize=16)\n",
    "plot_counter = 0\n",
    "for i in range(3):\n",
    "    for j in range(2):\n",
    "        if plot_counter > 2:\n",
    "            unit = 'microDeg'\n",
    "        else:\n",
    "            unit = 'um'\n",
    "        for dayObs in data.keys():\n",
    "            [els, azs, times, plots] = data[dayObs] \n",
    "\n",
    "            axs[i][j].set_title(names[plot_counter])\n",
    "            axs[i][j].set_xlim(0, 90)\n",
    "            axs[i][j].set_xlabel(\"Elevation (degrees)\")\n",
    "            axs[i][j].set_ylabel(f'IMS ({unit})')\n",
    "            axs[i][j].scatter(els, plots[plot_counter], label=dayObs, c=times)\n",
    "        plot_counter += 1\n",
    "axs[0][1].legend()\n",
    "plt.savefig(f\"/home/c/cslage/u/MTM1M3/data/Final_Mirror_Position_Time_03Aug23.png\")"
   ]
  },
  {
   "cell_type": "markdown",
   "metadata": {},
   "source": [
    "## Repeat with attempting to log %max values"
   ]
  },
  {
   "cell_type": "code",
   "execution_count": null,
   "metadata": {
    "tags": []
   },
   "outputs": [],
   "source": [
    "blockTimes = [\"2023-08-02T21:44:00\", \"2023-08-03T01:14:00\", \"2023-08-03T03:06:00\", \\\n",
    "              \"2023-08-03T05:01:00\", \"2023-08-03T06:00:00\"]\n",
    "azMaxLimits = [30.0, 40.0, 50.0, 20.0]\n",
    "elMaxLimits = [30.0, 30.0, 30.0, 20.0]"
   ]
  },
  {
   "cell_type": "code",
   "execution_count": null,
   "metadata": {
    "tags": []
   },
   "outputs": [],
   "source": [
    "data = {}\n",
    "\n",
    "for dayObs in [20230802]:\n",
    "    els = []\n",
    "    azs = []\n",
    "    times = []\n",
    "    elLimits = []\n",
    "    azLimits = []\n",
    "    xPos = []\n",
    "    yPos = []\n",
    "    zPos = []\n",
    "    xRot = []\n",
    "    yRot = []\n",
    "    zRot = []\n",
    "\n",
    "    events = eventMaker.getEvents(dayObs)\n",
    "    slews = [e for e in events if e.type==TMAState.SLEWING]\n",
    "    print(f'{dayObs}:found {len(slews)} slews ')\n",
    "    if len(slews) < 1:\n",
    "        continue\n",
    "    t0 = slews[0].begin.unix_tai\n",
    "    for slew in slews:\n",
    "\n",
    "        dT = 5.0\n",
    "        start = slew.end-TimeDelta(dT, format='sec')\n",
    "        end = slew.end+TimeDelta(dT, format='sec')\n",
    "        time = end.unix_tai - t0\n",
    "        ims_data = await client.select_time_series(\"lsst.sal.MTM1M3.imsData\", \"*\", start, end)\n",
    "        az = await client.select_time_series(\"lsst.sal.MTMount.azimuth\",\"actualPosition\", start, end)\n",
    "        el = await client.select_time_series(\"lsst.sal.MTMount.elevation\",\"actualPosition\", start, end)\n",
    "        try:\n",
    "            zPosFinal = ims_data['zPosition'].values[-1]\n",
    "            if zPosFinal > -0.002: # Test if mirror is raised\n",
    "                for n, blockTime in enumerate(blockTimes[0:-1]):\n",
    "                    startTime = Time(blockTime, scale='utc')\n",
    "                    endTime = Time(blockTimes[n+1], scale='utc')\n",
    "                    startTest = start.unix_tai - startTime.unix_tai\n",
    "                    endTest = start.unix_tai - endTime.unix_tai\n",
    "                    if startTest >0.0 and endTest < 0.0:\n",
    "                        elLimits.append(elMaxLimits[n])\n",
    "                        azLimits.append(azMaxLimits[n])\n",
    "                        els.append(el.values[-1][0])\n",
    "                        azs.append(az.values[-1][0])\n",
    "                        times.append(time)\n",
    "                        xPos.append(ims_data['xPosition'].values[-1] * 1.0E6)\n",
    "                        yPos.append(ims_data['yPosition'].values[-1] * 1.0E6)\n",
    "                        zPos.append(ims_data['zPosition'].values[-1] * 1.0E6)\n",
    "                        xRot.append(ims_data['xRotation'].values[-1] * 1.0E6)\n",
    "                        yRot.append(ims_data['yRotation'].values[-1] * 1.0E6)\n",
    "                        zRot.append(ims_data['zRotation'].values[-1] * 1.0E6)\n",
    "        except:\n",
    "            continue\n",
    "\n",
    "    print(len(els))\n",
    "    data[dayObs] = [els, azs, times, elLimits, azLimits, [xPos, yPos, zPos, xRot, yRot, zRot]]\n"
   ]
  },
  {
   "cell_type": "code",
   "execution_count": null,
   "metadata": {
    "tags": []
   },
   "outputs": [],
   "source": [
    "%matplotlib inline\n",
    "names = ['xPosition', 'yPosition', 'zPosition', 'xRotation', 'yRotation', 'zRotation']\n",
    "limits = [6.0, 6.0, 1.0, 24.0, 24.0, 24.0]\n",
    "\n",
    "fig, axs = plt.subplots(3,2,figsize=(8,10))\n",
    "plt.subplots_adjust(hspace=0.5, wspace=0.5)\n",
    "plt.suptitle(f\"Final mirror position after a slew\", fontsize=16)\n",
    "plot_counter = 0\n",
    "for i in range(3):\n",
    "    for j in range(2):\n",
    "        if plot_counter > 2:\n",
    "            unit = 'microDeg'\n",
    "        else:\n",
    "            unit = 'um'\n",
    "        for dayObs in data.keys():\n",
    "            [els, azs, times, elLimits, azLimits, plots] = data[dayObs] \n",
    "\n",
    "            axs[i][j].set_title(names[plot_counter])\n",
    "            axs[i][j].set_xlim(0, 90)\n",
    "            axs[i][j].set_xlabel(\"Elevation (degrees)\")\n",
    "            axs[i][j].set_ylabel(f'IMS ({unit})')\n",
    "            p = axs[i][j].scatter(els, plots[plot_counter], label=dayObs, c=azLimits)\n",
    "            fig.colorbar(p,ax=axs[i][j],orientation='vertical',label='azLimit(%)')\n",
    "        plot_counter += 1\n",
    "        \n",
    "axs[0][1].legend()\n",
    "\n",
    "plt.savefig(f\"/home/c/cslage/u/MTM1M3/data/Final_Mirror_Position_AzLimits_03Aug23.png\")"
   ]
  },
  {
   "cell_type": "code",
   "execution_count": null,
   "metadata": {},
   "outputs": [],
   "source": []
  },
  {
   "cell_type": "code",
   "execution_count": null,
   "metadata": {
    "tags": []
   },
   "outputs": [],
   "source": [
    "data = {}\n",
    "\n",
    "for dayObs in [20230802]:\n",
    "    els = []\n",
    "    azs = []\n",
    "    times = []\n",
    "    elLimits = []\n",
    "    azLimits = []\n",
    "    xPos = []\n",
    "    yPos = []\n",
    "    zPos = []\n",
    "    xRot = []\n",
    "    yRot = []\n",
    "    zRot = []\n",
    "\n",
    "    events = eventMaker.getEvents(dayObs)\n",
    "    slews = [e for e in events if e.type==TMAState.SLEWING]\n",
    "    print(f'{dayObs}:found {len(slews)} slews ')\n",
    "    if len(slews) < 1:\n",
    "        continue\n",
    "    t0 = slews[0].begin.unix_tai\n",
    "    for slew in slews:\n",
    "\n",
    "        dT = 5.0\n",
    "        start = slew.end-TimeDelta(dT, format='sec')\n",
    "        end = slew.end+TimeDelta(dT, format='sec')\n",
    "        time = end.unix_tai - t0\n",
    "        ims_data = await client.select_time_series(\"lsst.sal.MTM1M3.imsData\", \"*\", start, end)\n",
    "        az = await client.select_time_series(\"lsst.sal.MTMount.azimuth\",\"actualPosition\", start, end)\n",
    "        el = await client.select_time_series(\"lsst.sal.MTMount.elevation\",\"actualPosition\", start, end)\n",
    "        try:\n",
    "            zPosFinal = ims_data['zPosition'].values[-1]\n",
    "            if zPosFinal > -0.002: # Test if mirror is raised\n",
    "                for n, blockTime in enumerate(blockTimes[0:-1]):\n",
    "                    startTime = Time(blockTime, scale='utc')\n",
    "                    endTime = Time(blockTimes[n+1], scale='utc')\n",
    "                    startTest = start.unix_tai - startTime.unix_tai\n",
    "                    endTest = start.unix_tai - endTime.unix_tai\n",
    "                    if startTest >0.0 and endTest < 0.0:\n",
    "                        elLimits.append(elMaxLimits[n])\n",
    "                        azLimits.append(azMaxLimits[n])\n",
    "                        els.append(el.values[-1][0])\n",
    "                        azs.append(az.values[-1][0])\n",
    "                        times.append(time)\n",
    "                        xPos.append(ims_data['xPosition'].values[-1] * 1.0E6)\n",
    "                        yPos.append(ims_data['yPosition'].values[-1] * 1.0E6)\n",
    "                        zPos.append(ims_data['zPosition'].values[-1] * 1.0E6)\n",
    "                        xRot.append(ims_data['xRotation'].values[-1] * 1.0E6)\n",
    "                        yRot.append(ims_data['yRotation'].values[-1] * 1.0E6)\n",
    "                        zRot.append(ims_data['zRotation'].values[-1] * 1.0E6)\n",
    "        except:\n",
    "            continue\n",
    "\n",
    "    print(len(els))\n",
    "    data[dayObs] = [els, azs, times, elLimits, azLimits, [xPos, yPos, zPos, xRot, yRot, zRot]]\n"
   ]
  },
  {
   "cell_type": "code",
   "execution_count": null,
   "metadata": {
    "tags": []
   },
   "outputs": [],
   "source": [
    "%matplotlib inline\n",
    "names = ['xPosition', 'yPosition', 'zPosition', 'xRotation', 'yRotation', 'zRotation']\n",
    "limits = [6.0, 6.0, 1.0, 24.0, 24.0, 24.0]\n",
    "\n",
    "fig, axs = plt.subplots(3,2,figsize=(8,10))\n",
    "plt.subplots_adjust(hspace=0.5, wspace=0.5)\n",
    "plt.suptitle(f\"Final mirror position after a slew\", fontsize=16)\n",
    "plot_counter = 0\n",
    "for i in range(3):\n",
    "    for j in range(2):\n",
    "        if plot_counter > 2:\n",
    "            unit = 'microDeg'\n",
    "        else:\n",
    "            unit = 'um'\n",
    "        for dayObs in data.keys():\n",
    "            [els, azs, times, elLimits, azLimits, plots] = data[dayObs] \n",
    "\n",
    "            axs[i][j].set_title(names[plot_counter])\n",
    "            axs[i][j].set_xlim(0, 90)\n",
    "            axs[i][j].set_xlabel(\"Elevation (degrees)\")\n",
    "            axs[i][j].set_ylabel(f'IMS ({unit})')\n",
    "            for m, azLimit in enumerate(azMaxLimits):\n",
    "                theseEls = []\n",
    "                theseData = []\n",
    "                for n in range(len(els)):\n",
    "                    if abs(azLimits[n] - azLimit) < 0.1:\n",
    "                        theseEls.append(els[n])\n",
    "                        theseData.append(plots[plot_counter][n])\n",
    "                \n",
    "                axs[i][j].scatter(theseEls, theseData, label=azLimit)\n",
    "                fit = np.polyfit(theseEls, theseData, 2)\n",
    "                #print(azLimit, fit)\n",
    "                xplot = np.linspace(0.0, 90.0, 1000)\n",
    "                yplot = np.polyval(fit, xplot)\n",
    "                axs[i][j].plot(xplot, yplot, ls='--')\n",
    "\n",
    "                axs[i][j].legend()\n",
    "        plot_counter += 1\n",
    "        \n",
    "\n",
    "\n",
    "plt.savefig(f\"/home/c/cslage/u/MTM1M3/data/Final_Mirror_Position_AzLimits_2_03Aug23.png\")"
   ]
  },
  {
   "cell_type": "code",
   "execution_count": null,
   "metadata": {},
   "outputs": [],
   "source": []
  }
 ],
 "metadata": {
  "kernelspec": {
   "display_name": "LSST",
   "language": "python",
   "name": "lsst"
  },
  "language_info": {
   "codemirror_mode": {
    "name": "ipython",
    "version": 3
   },
   "file_extension": ".py",
   "mimetype": "text/x-python",
   "name": "python",
   "nbconvert_exporter": "python",
   "pygments_lexer": "ipython3",
   "version": "3.11.4"
  }
 },
 "nbformat": 4,
 "nbformat_minor": 4
}
