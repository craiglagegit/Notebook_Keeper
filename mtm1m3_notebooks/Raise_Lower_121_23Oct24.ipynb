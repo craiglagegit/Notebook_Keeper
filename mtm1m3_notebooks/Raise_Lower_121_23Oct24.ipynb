{
 "cells": [
  {
   "cell_type": "code",
   "execution_count": null,
   "id": "8c1a5931-e64c-4ff6-a077-d3d0e015b598",
   "metadata": {
    "execution": {
     "iopub.execute_input": "2024-10-23T14:09:57.673966Z",
     "iopub.status.busy": "2024-10-23T14:09:57.673613Z",
     "iopub.status.idle": "2024-10-23T14:09:58.306682Z",
     "shell.execute_reply": "2024-10-23T14:09:58.306189Z",
     "shell.execute_reply.started": "2024-10-23T14:09:57.673948Z"
    }
   },
   "outputs": [],
   "source": [
    "import numpy as np\n",
    "import pandas as pd\n",
    "import matplotlib.pyplot as plt\n",
    "from mpl_toolkits.axes_grid1 import make_axes_locatable\n",
    "from astropy.time import Time, TimeDelta\n",
    "from lsst.ts.xml.tables.m1m3 import FATable, FAIndex, force_actuator_from_id, actuator_id_to_index\n",
    "from lsst_efd_client import EfdClient"
   ]
  },
  {
   "cell_type": "code",
   "execution_count": null,
   "id": "950f0bc4-5ead-475e-8ca9-d656024956d1",
   "metadata": {
    "execution": {
     "iopub.execute_input": "2024-10-23T14:09:59.466655Z",
     "iopub.status.busy": "2024-10-23T14:09:59.465894Z",
     "iopub.status.idle": "2024-10-23T14:10:04.505066Z",
     "shell.execute_reply": "2024-10-23T14:10:04.504494Z",
     "shell.execute_reply.started": "2024-10-23T14:09:59.466637Z"
    }
   },
   "outputs": [],
   "source": [
    "client = EfdClient('usdf_efd')\n",
    "start = Time(\"2024-10-18T14:45:00\", scale='utc')\n",
    "end = Time(\"2024-10-18T19:00:00\", scale='utc')\n",
    "\n",
    "id = 121\n",
    "fa_data = force_actuator_from_id(id)\n",
    "pForce = f\"primaryCylinderForce{fa_data.index}\"\n",
    "sForce = f\"secondaryCylinderForce{fa_data.s_index}\"\n",
    "measured_forces = await client.select_time_series(\\\n",
    "                        \"lsst.sal.MTM1M3.forceActuatorData\", \\\n",
    "                        [pForce, sForce], start, end)\n",
    "el = await client.select_time_series(\"lsst.sal.MTMount.elevation\", \n",
    "                                 ['actualPosition'], start, end)"
   ]
  },
  {
   "cell_type": "code",
   "execution_count": null,
   "id": "f6623c87-03f8-4d85-9ed2-92893197220f",
   "metadata": {
    "execution": {
     "iopub.execute_input": "2024-10-23T14:10:05.347118Z",
     "iopub.status.busy": "2024-10-23T14:10:05.346791Z",
     "iopub.status.idle": "2024-10-23T14:10:16.870895Z",
     "shell.execute_reply": "2024-10-23T14:10:16.870445Z",
     "shell.execute_reply.started": "2024-10-23T14:10:05.347102Z"
    }
   },
   "outputs": [],
   "source": [
    "fig, axs = plt.subplots(3,1,figsize=(10,10))\n",
    "plt.subplots_adjust(hspace=0.5)\n",
    "axs[0].set_title(\"Elevation\")\n",
    "el['actualPosition'].plot(ax=axs[0])\n",
    "axs[1].set_title(\"Primary force 121\")\n",
    "measured_forces[pForce].plot(ax = axs[1])\n",
    "axs[2].set_title(\"Secondary force 121\")\n",
    "measured_forces[sForce].plot(ax = axs[2])\n",
    "plt.savefig(\"/home/c/cslage/u/MTM1M3/data/Actuator_121_During_Move_To_Horizon_18Oct24.png\")\n"
   ]
  },
  {
   "cell_type": "code",
   "execution_count": null,
   "id": "235495f2-c440-4185-87ba-34b3ab2878a7",
   "metadata": {
    "execution": {
     "iopub.execute_input": "2024-10-23T14:15:53.469047Z",
     "iopub.status.busy": "2024-10-23T14:15:53.468455Z",
     "iopub.status.idle": "2024-10-23T14:15:57.628539Z",
     "shell.execute_reply": "2024-10-23T14:15:57.628099Z",
     "shell.execute_reply.started": "2024-10-23T14:15:53.469023Z"
    }
   },
   "outputs": [],
   "source": [
    "client = EfdClient('usdf_efd')\n",
    "start = Time(\"2024-10-18T14:45:00\", scale='utc')\n",
    "end = Time(\"2024-10-18T19:00:00\", scale='utc')\n",
    "\n",
    "id = 121\n",
    "fa_data = force_actuator_from_id(id)\n",
    "pFollow = f\"primaryCylinderFollowingError{fa_data.index}\"\n",
    "sFollow = f\"secondaryCylinderFollowingError{fa_data.s_index}\"\n",
    "measured_forces = await client.select_time_series(\\\n",
    "                        \"lsst.sal.MTM1M3.forceActuatorData\", \\\n",
    "                        [pFollow, sFollow], start, end)\n",
    "el = await client.select_time_series(\"lsst.sal.MTMount.elevation\", \n",
    "                                 ['actualPosition'], start, end)"
   ]
  },
  {
   "cell_type": "code",
   "execution_count": null,
   "id": "195ef4af-bfea-41d8-9b4d-4b5dcba1b9dc",
   "metadata": {
    "execution": {
     "iopub.execute_input": "2024-10-23T14:16:31.811946Z",
     "iopub.status.busy": "2024-10-23T14:16:31.811735Z",
     "iopub.status.idle": "2024-10-23T14:16:42.825652Z",
     "shell.execute_reply": "2024-10-23T14:16:42.825256Z",
     "shell.execute_reply.started": "2024-10-23T14:16:31.811931Z"
    }
   },
   "outputs": [],
   "source": [
    "fig, axs = plt.subplots(3,1,figsize=(10,10))\n",
    "plt.subplots_adjust(hspace=0.5)\n",
    "axs[0].set_title(\"Elevation\")\n",
    "el['actualPosition'].plot(ax=axs[0])\n",
    "axs[1].set_title(\"Primary following error 121\")\n",
    "measured_forces[pFollow].plot(ax = axs[1])\n",
    "axs[2].set_title(\"Secondary following error 121\")\n",
    "measured_forces[sFollow].plot(ax = axs[2])\n",
    "plt.savefig(\"/home/c/cslage/u/MTM1M3/data/Actuator_121_During_Move_To_Horizon_Errors_18Oct24.png\")\n"
   ]
  },
  {
   "cell_type": "code",
   "execution_count": null,
   "id": "32caae42-f953-41c9-8595-119314162881",
   "metadata": {},
   "outputs": [],
   "source": []
  }
 ],
 "metadata": {
  "kernelspec": {
   "display_name": "LSST",
   "language": "python",
   "name": "lsst"
  },
  "language_info": {
   "codemirror_mode": {
    "name": "ipython",
    "version": 3
   },
   "file_extension": ".py",
   "mimetype": "text/x-python",
   "name": "python",
   "nbconvert_exporter": "python",
   "pygments_lexer": "ipython3",
   "version": "3.11.9"
  }
 },
 "nbformat": 4,
 "nbformat_minor": 5
}
