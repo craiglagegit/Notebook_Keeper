{
 "cells": [
  {
   "cell_type": "markdown",
   "metadata": {},
   "source": [
    "# M1M3 position data\n",
    "Craig Lage - 16-Apr-23 \\\n",
    "Comparing different position measurements."
   ]
  },
  {
   "cell_type": "code",
   "execution_count": null,
   "metadata": {
    "execution": {
     "iopub.execute_input": "2023-05-16T13:32:55.696056Z",
     "iopub.status.busy": "2023-05-16T13:32:55.695863Z",
     "iopub.status.idle": "2023-05-16T13:32:56.168521Z",
     "shell.execute_reply": "2023-05-16T13:32:56.167941Z",
     "shell.execute_reply.started": "2023-05-16T13:32:55.696035Z"
    },
    "tags": []
   },
   "outputs": [],
   "source": [
    "import sys, time, os, asyncio, glob\n",
    "from datetime import datetime\n",
    "import numpy as np\n",
    "import matplotlib.pyplot as plt\n",
    "from matplotlib.backends.backend_pdf import PdfPages\n",
    "import pickle as pkl\n",
    "from astropy.time import Time, TimeDelta\n",
    "import lsst.ts.cRIOpy.M1M3FATable as M1M3FATable\n",
    "from scipy.interpolate import UnivariateSpline\n",
    "from lsst_efd_client import EfdClient"
   ]
  },
  {
   "cell_type": "code",
   "execution_count": null,
   "metadata": {
    "execution": {
     "iopub.execute_input": "2023-05-16T13:32:56.314677Z",
     "iopub.status.busy": "2023-05-16T13:32:56.314525Z",
     "iopub.status.idle": "2023-05-16T13:32:56.754877Z",
     "shell.execute_reply": "2023-05-16T13:32:56.754402Z",
     "shell.execute_reply.started": "2023-05-16T13:32:56.314664Z"
    },
    "tags": []
   },
   "outputs": [],
   "source": [
    "client = EfdClient('usdf_efd')\n",
    "FATABLE = M1M3FATable.FATABLE"
   ]
  },
  {
   "cell_type": "code",
   "execution_count": null,
   "metadata": {
    "execution": {
     "iopub.execute_input": "2023-05-16T13:32:56.998217Z",
     "iopub.status.busy": "2023-05-16T13:32:56.998067Z",
     "iopub.status.idle": "2023-05-16T13:32:57.001185Z",
     "shell.execute_reply": "2023-05-16T13:32:57.000739Z",
     "shell.execute_reply.started": "2023-05-16T13:32:56.998205Z"
    },
    "tags": []
   },
   "outputs": [],
   "source": [
    "# Times of force balance test\n",
    "start = Time(\"2023-04-18 16:10:00Z\", scale='utc')\n",
    "end = Time(\"2023-04-18 16:15:00Z\", scale='utc')"
   ]
  },
  {
   "cell_type": "code",
   "execution_count": null,
   "metadata": {
    "execution": {
     "iopub.execute_input": "2023-05-16T13:32:57.997859Z",
     "iopub.status.busy": "2023-05-16T13:32:57.997702Z",
     "iopub.status.idle": "2023-05-16T13:32:59.523866Z",
     "shell.execute_reply": "2023-05-16T13:32:59.523310Z",
     "shell.execute_reply.started": "2023-05-16T13:32:57.997847Z"
    },
    "tags": []
   },
   "outputs": [],
   "source": [
    "hardpoint_data = await client.select_time_series(\"lsst.sal.MTM1M3.hardpointActuatorData\", \"*\", start, end)\n",
    "ims_data = await client.select_time_series(\"lsst.sal.MTM1M3.imsData\", \"*\", start, end)"
   ]
  },
  {
   "cell_type": "code",
   "execution_count": null,
   "metadata": {
    "execution": {
     "iopub.execute_input": "2023-05-16T14:40:20.801291Z",
     "iopub.status.busy": "2023-05-16T14:40:20.801067Z",
     "iopub.status.idle": "2023-05-16T14:40:23.539779Z",
     "shell.execute_reply": "2023-05-16T14:40:23.539228Z",
     "shell.execute_reply.started": "2023-05-16T14:40:20.801276Z"
    },
    "tags": []
   },
   "outputs": [],
   "source": [
    "plots = ['xPosition', 'yPosition', 'zPosition', 'xRotation', 'yRotation', 'zRotation']\n",
    "\n",
    "fig, axs = plt.subplots(3,2,figsize=(8,10))\n",
    "plt.subplots_adjust(hspace=0.6, wspace=1.0)\n",
    "plot_counter = 0\n",
    "for i in range(3):\n",
    "    for j in range(2):\n",
    "        smoothed_ims_data = ims_data[plots[plot_counter]].rolling(100).mean()\n",
    "        smoothed_hardpoint_data = hardpoint_data[plots[plot_counter]].rolling(100).mean()\n",
    "        if plot_counter > 2:\n",
    "            smoothed_ims_data *= 3600.0\n",
    "            smoothed_hardpoint_data *= 3600.0\n",
    "            unit = 'arcsec'\n",
    "        else:\n",
    "            smoothed_ims_data *= 1000.0\n",
    "            smoothed_hardpoint_data *= 1000.0\n",
    "            unit = 'mm'\n",
    "        axs[i][j].set_title(plots[plot_counter])\n",
    "        axs[i][j].set_ylabel(f'Hardpoint ({unit})')\n",
    "        ax = axs[i][j].twinx()\n",
    "        ax.set_ylabel(f'IMS ({unit})')\n",
    "        smoothed_hardpoint_data.plot(ax=axs[i][j], color='blue', label='Hardpoint')\n",
    "        smoothed_ims_data.plot(ax=ax, color='red', label='IMS')\n",
    "        plot_counter += 1\n",
    "timestamp = hardpoint_data.index[0].isoformat().split('.')[0].replace('-','').replace(':','')\n",
    "plt.savefig(f\"/home/c/cslage/u/MTM1M3/data/Position_Data_{timestamp}.png\")"
   ]
  },
  {
   "cell_type": "code",
   "execution_count": null,
   "metadata": {},
   "outputs": [],
   "source": []
  }
 ],
 "metadata": {
  "kernelspec": {
   "display_name": "LSST",
   "language": "python",
   "name": "lsst"
  },
  "language_info": {
   "codemirror_mode": {
    "name": "ipython",
    "version": 3
   },
   "file_extension": ".py",
   "mimetype": "text/x-python",
   "name": "python",
   "nbconvert_exporter": "python",
   "pygments_lexer": "ipython3",
   "version": "3.10.10"
  }
 },
 "nbformat": 4,
 "nbformat_minor": 4
}
