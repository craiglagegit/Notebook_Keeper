{
 "cells": [
  {
   "cell_type": "markdown",
   "metadata": {},
   "source": [
    "# M1M3 actuator movies\n",
    "Craig Lage - 07-Jan-24 \\\n",
    "This code plots the M1M3 force actuator errors during a slew."
   ]
  },
  {
   "cell_type": "code",
   "execution_count": null,
   "metadata": {
    "execution": {
     "iopub.execute_input": "2024-01-11T12:22:32.953353Z",
     "iopub.status.busy": "2024-01-11T12:22:32.952978Z",
     "iopub.status.idle": "2024-01-11T12:22:40.268766Z",
     "shell.execute_reply": "2024-01-11T12:22:40.268339Z",
     "shell.execute_reply.started": "2024-01-11T12:22:32.953329Z"
    },
    "tags": []
   },
   "outputs": [],
   "source": [
    "import sys, time, os, asyncio\n",
    "import shlex, subprocess\n",
    "import numpy as np\n",
    "import matplotlib.pyplot as plt\n",
    "%matplotlib inline\n",
    "from astropy.time import Time, TimeDelta\n",
    "from lsst.ts.xml.tables.m1m3 import FATable, FAIndex, force_actuator_from_id, actuator_id_to_index\n",
    "from lsst_efd_client import EfdClient\n",
    "from lsst.summit.utils.tmaUtils import TMAEventMaker"
   ]
  },
  {
   "cell_type": "markdown",
   "metadata": {},
   "source": [
    "## Set up the necessary subroutines"
   ]
  },
  {
   "cell_type": "code",
   "execution_count": null,
   "metadata": {
    "execution": {
     "iopub.execute_input": "2024-01-07T20:41:03.744274Z",
     "iopub.status.busy": "2024-01-07T20:41:03.743696Z",
     "iopub.status.idle": "2024-01-07T20:41:03.753414Z",
     "shell.execute_reply": "2024-01-07T20:41:03.753025Z",
     "shell.execute_reply.started": "2024-01-07T20:41:03.744255Z"
    },
    "tags": []
   },
   "outputs": [],
   "source": [
    "def heatMapZ(df, axp, axs, FATable, index, zmin, zmax):\n",
    "    types = [['SAA','NA', 'o', 'Z'], ['DAA','Y_PLUS', '^', 'Y_PLUS'], ['DAA','Y_MINUS', 'v', 'Y_MINUS'], \\\n",
    "             ['DAA','X_PLUS', '>', 'X_PLUS'], ['DAA','X_MINUS', '<', 'X_MINUS']]\n",
    "    axp.set_title(\"Primary\")\n",
    "    axp.set_xlabel(\"X position (m)\")\n",
    "    axp.set_ylabel(\"Y position (m)\")\n",
    "\n",
    "    for [type, orient, marker, label] in types:\n",
    "        xs = []\n",
    "        ys = []\n",
    "        zs = []\n",
    "        for i in range(len(FATable)):\n",
    "            x = FATable[i].x_position\n",
    "            y = FATable[i].y_position\n",
    "            if FATable[i].actuator_type.name == type and FATable[i].orientation.name == orient:\n",
    "                xs.append(x)\n",
    "                ys.append(y)\n",
    "                name=f\"primaryCylinderFollowingError{i}\"\n",
    "                zs.append(df.iloc[index][name])\n",
    "        im = axp.scatter(xs, ys, marker='o', c=zs, cmap='RdBu_r', vmin=zmin, vmax=zmax, s=50, label=label)\n",
    "    plt.colorbar(im, ax=axp,fraction=0.055, pad=0.02, cmap='RdBu_r')  \n",
    "    axs.set_title(\"Secondary\")\n",
    "    axs.set_xlabel(\"X position (m)\")\n",
    "    axp.set_xlim(-5,5)\n",
    "    axp.set_ylim(-5,5)\n",
    "    axs.set_xlim(-5,5)\n",
    "    axs.set_ylim(-5,5)\n",
    "\n",
    "    for [type, orient, marker, label] in types:\n",
    "        if type == 'SAA':\n",
    "            continue\n",
    "        xs = []\n",
    "        ys = []\n",
    "        zs = []\n",
    "        for i in range(len(FATable)):\n",
    "            x = FATable[i].x_position\n",
    "            y = FATable[i].y_position\n",
    "            if FATable[i].actuator_type.name == type and FATable[i].orientation.name == orient:\n",
    "                xs.append(x)\n",
    "                ys.append(y)\n",
    "                name=f\"primaryCylinderFollowingError{i}\"\n",
    "                zs.append(df.iloc[index][name])# - df_zero.iloc[0][name])\n",
    "        im = axs.scatter(xs, ys, marker=marker, c=zs, cmap='RdBu_r', vmin=zmin, vmax=zmax, s=50, label=label)\n",
    "    plt.colorbar(im, ax=axs,fraction=0.055, pad=0.02, cmap='RdBu_r')  \n",
    "\n",
    "def hardPointPlot(df, ax, t, t0, tmin, tmax):\n",
    "    ax.set_title(\"Hardpoint forces\")\n",
    "    ax.set_ylabel(\"measuredForce(N)\")\n",
    "    ax.set_ylim(-3500, 3500)\n",
    "    times = df['timestamp'].values - t0\n",
    "    for i in range(6):\n",
    "        data = df[f'measuredForce{i}'].values\n",
    "        ax.plot(times, data)\n",
    "    ax.set_xlim(tmin, tmax)\n",
    "    ax.set_xticks([])    \n",
    "    ax.plot([t, t], [-3000, 3000], ls='--', color='black')\n",
    "    ax.plot([times[0], times[-1]], [3000, 3000], color='red')\n",
    "    ax.plot([tmin, tmax], [-3000, -3000], color='red')\n",
    "    ax.plot([tmin, tmax], [1000, 1000], ls='--', color='blue')\n",
    "    ax.plot([tmin, tmax], [-1000, -1000], ls='--', color='blue')\n",
    "\n",
    "def TMAPlot(az, el, ax, t, t0, tmin, tmax):\n",
    "    ax.set_ylabel(\"TMA Velocity\\n(deg/sec)\")\n",
    "    ax.set_ylim(-10,10)\n",
    "    ax.set_xlabel(\"Time (sec)\")\n",
    "    times = az['timestamp'] - t0\n",
    "    azV = az['actualVelocity'].values\n",
    "    elV = el['actualVelocity'].values\n",
    "    ax.plot(times, azV, color='blue', label='Az')\n",
    "    ax.plot(times, elV, color='green', label='El')\n",
    "    ax.set_xlim(tmin, tmax)\n",
    "    ax.legend()\n",
    "    ax.plot([t, t], [-3000, 3000], ls='--', color='black')\n"
   ]
  },
  {
   "cell_type": "markdown",
   "metadata": {},
   "source": [
    "## Now generate the frames\n",
    "### This will take some time"
   ]
  },
  {
   "cell_type": "code",
   "execution_count": null,
   "metadata": {
    "execution": {
     "iopub.execute_input": "2024-01-07T20:45:33.340689Z",
     "iopub.status.busy": "2024-01-07T20:45:33.340413Z",
     "iopub.status.idle": "2024-01-07T20:45:49.456876Z",
     "shell.execute_reply": "2024-01-07T20:45:49.456343Z",
     "shell.execute_reply.started": "2024-01-07T20:45:33.340674Z"
    }
   },
   "outputs": [],
   "source": [
    "client = EfdClient('usdf_efd')\n",
    "dayObs = 20240102\n",
    "seqNum = 1294\n",
    "eventMaker = TMAEventMaker()\n",
    "event = eventMaker.getEvent(dayObs, seqNum)\n",
    "start = event.begin\n",
    "end = event.end\n",
    "\n",
    "dirName = f\"/home/c/cslage/u/MTM1M3/movies/actuator_{dayObs}_{seqNum}\"\n",
    "%mkdir -p {dirName}\n",
    "padStart = 1.0\n",
    "plotStart = start - TimeDelta(padStart, format='sec') \n",
    "padEnd = 0.0\n",
    "plotEnd = end + TimeDelta(padEnd, format='sec') \n",
    "forces = await client.select_time_series(\"lsst.sal.MTM1M3.forceActuatorData\", \"*\", \\\n",
    "                                         plotStart, plotEnd)\n",
    "hardpoints = await client.select_time_series(\"lsst.sal.MTM1M3.hardpointActuatorData\", \"*\", plotStart, plotEnd)\n",
    "az = await client.select_time_series('lsst.sal.MTMount.azimuth', \\\n",
    "                                            ['*'],  plotStart, plotEnd)\n",
    "el = await client.select_time_series('lsst.sal.MTMount.elevation', \\\n",
    "                                            ['*'],  plotStart, plotEnd) \n",
    "\n",
    "t0 = start.unix_tai\n",
    "# The value below compensates for the different delays in the\n",
    "# different databases\n",
    "t0_az_el = 2.0 * start.unix_tai - az['timestamp'][0] - padStart\n",
    "tmax = forces['timestamp'][-1] - t0\n",
    "tmin = -padStart"
   ]
  },
  {
   "cell_type": "code",
   "execution_count": null,
   "metadata": {
    "execution": {
     "iopub.execute_input": "2024-01-07T20:45:53.957379Z",
     "iopub.status.busy": "2024-01-07T20:45:53.957150Z",
     "iopub.status.idle": "2024-01-07T20:50:53.571969Z",
     "shell.execute_reply": "2024-01-07T20:50:53.571468Z",
     "shell.execute_reply.started": "2024-01-07T20:45:53.957361Z"
    },
    "tags": []
   },
   "outputs": [],
   "source": [
    "# Build the individual frames\n",
    "zmin = -200.0\n",
    "zmax = 200.0\n",
    "\n",
    "fig = plt.figure(figsize=(8,8))\n",
    "for n in range(len(forces)):\n",
    "    t = Time(forces.index[n], scale='utc').unix_tai - t0\n",
    "    t_msec = int(t * 1000)\n",
    "    fig.suptitle(f\"Actuator following errors. T = {t_msec} msec\\n {dayObs} - seqNum {seqNum}\", y=0.90)\n",
    "    axp = fig.add_axes((0.1, 0.45, 0.35, 0.35))\n",
    "    axs = fig.add_axes((0.55, 0.45, 0.35, 0.35))\n",
    "    heatMapZ(forces, axp, axs, FATable, n, zmin, zmax)\n",
    "    axHP = fig.add_axes((0.1, 0.23, 0.8, 0.15))\n",
    "    hardPointPlot(hardpoints, axHP, t, t0, tmin, tmax)\n",
    "    axTMA = fig.add_axes((0.1, 0.08, 0.8, 0.15))\n",
    "    TMAPlot(az, el, axTMA, t, t0_az_el, tmin, tmax)\n",
    "    plt.savefig(f\"{dirName}/Frame_{n:05d}.png\")\n",
    "    plt.clf()\n",
    "plt.close()"
   ]
  },
  {
   "cell_type": "markdown",
   "metadata": {},
   "source": [
    "## Now build the movie"
   ]
  },
  {
   "cell_type": "code",
   "execution_count": null,
   "metadata": {
    "execution": {
     "iopub.execute_input": "2024-01-07T20:52:29.494319Z",
     "iopub.status.busy": "2024-01-07T20:52:29.494122Z",
     "iopub.status.idle": "2024-01-07T20:52:32.793192Z",
     "shell.execute_reply": "2024-01-07T20:52:32.792766Z",
     "shell.execute_reply.started": "2024-01-07T20:52:29.494305Z"
    },
    "tags": []
   },
   "outputs": [],
   "source": [
    "print(f\"\\033[1mThe movie name will be: {dirName}/m1m3_movie_{dayObs}_{seqNum}.mp4\\033[0m\")\n",
    "\n",
    "command = f\"ffmpeg -pattern_type glob -i '{dirName}/*.png' -f mp4 -vcodec libx264 -pix_fmt yuv420p -framerate 50 -y {dirName}/m1m3_movie_{dayObs}_{seqNum}.mp4\"\n",
    "args = shlex.split(command)\n",
    "build_movie = subprocess.Popen(args)\n",
    "build_movie.wait()"
   ]
  },
  {
   "cell_type": "code",
   "execution_count": null,
   "metadata": {
    "execution": {
     "iopub.execute_input": "2024-01-11T18:38:27.083881Z",
     "iopub.status.busy": "2024-01-11T18:38:27.083673Z",
     "iopub.status.idle": "2024-01-11T18:38:29.775623Z",
     "shell.execute_reply": "2024-01-11T18:38:29.775064Z",
     "shell.execute_reply.started": "2024-01-11T18:38:27.083865Z"
    }
   },
   "outputs": [],
   "source": [
    "client = EfdClient('usdf_efd')\n",
    "dayObs = 20240108\n",
    "seqNum = 176\n",
    "eventMaker = TMAEventMaker()\n",
    "event = eventMaker.getEvent(dayObs, seqNum)\n",
    "start = event.begin# - TimeDelta(10.0, format='sec')\n",
    "end = event.end + TimeDelta(5.0, format='sec')\n"
   ]
  },
  {
   "cell_type": "code",
   "execution_count": null,
   "metadata": {
    "execution": {
     "iopub.execute_input": "2024-01-11T18:43:16.346412Z",
     "iopub.status.busy": "2024-01-11T18:43:16.346078Z",
     "iopub.status.idle": "2024-01-11T18:43:16.411740Z",
     "shell.execute_reply": "2024-01-11T18:43:16.411422Z",
     "shell.execute_reply.started": "2024-01-11T18:43:16.346393Z"
    }
   },
   "outputs": [],
   "source": [
    "index = 100\n",
    "names = ['AccForce', 'BalForce', 'ElForce', 'AppliedForce', 'MeasuredForce', 'Error']\n",
    "forceList = []\n",
    "items = [f\"zForces{index}\", f\"zForces{index}\", \\\n",
    "         f\"zForces{index}\", f\"zForces{index}\", f\"primaryCylinderForce{index}\", \\\n",
    "         f\"primaryCylinderFollowingError{index}\"]\n",
    "accForces = await client.select_time_series(\"lsst.sal.MTM1M3.appliedAccelerationForces\", \\\n",
    "                                            [f\"zForces{index}\", 'timestamp'], \\\n",
    "                                         start, end)\n",
    "forceList.append(accForces)\n",
    "balForces = await client.select_time_series(\"lsst.sal.MTM1M3.appliedBalanceForces\", \\\n",
    "                                    [f\"zForces{index}\", 'timestamp'], \\\n",
    "                                         start, end)\n",
    "forceList.append(balForces)\n",
    "elForces = await client.select_time_series(\"lsst.sal.MTM1M3.appliedElevationForces\", \\\n",
    "                                           [f\"zForces{index}\", 'timestamp'], \\\n",
    "                                         start, end)\n",
    "forceList.append(elForces)\n",
    "appForces = await client.select_time_series(\"lsst.sal.MTM1M3.appliedForces\", \\\n",
    "                                            [f\"zForces{index}\", 'timestamp'], \\\n",
    "                                         start, end)\n",
    "forceList.append(appForces)\n",
    "forces = await client.select_time_series(\"lsst.sal.MTM1M3.forceActuatorData\", f\"primaryCylinderForce{index}\", \\\n",
    "                                         start, end)\n",
    "forceList.append(forces)\n",
    "errors = await client.select_time_series(\"lsst.sal.MTM1M3.forceActuatorData\", f\"primaryCylinderFollowingError{index}\", \\\n",
    "                                         start, end)\n",
    "forceList.append(errors)\n",
    "\n",
    "staticStart = start - TimeDelta(0.50) # This is 0.25 days\n",
    "static_forces = appForces = await client.select_time_series(\"lsst.sal.MTM1M3.logevent_appliedStaticForces\", \\\n",
    "                                            [f\"zForces{index}\", 'timestamp'], \\\n",
    "                                         staticStart, end)\n",
    "static_force = static_forces[items[3]].values[-1]\n",
    "print(static_force)\n",
    "el = await client.select_time_series('lsst.sal.MTMount.elevation', \\\n",
    "                                            ['timestamp', 'actualPosition'],  start, end) \n"
   ]
  },
  {
   "cell_type": "code",
   "execution_count": null,
   "metadata": {
    "execution": {
     "iopub.execute_input": "2024-01-11T18:43:17.383336Z",
     "iopub.status.busy": "2024-01-11T18:43:17.383016Z",
     "iopub.status.idle": "2024-01-11T18:43:17.386192Z",
     "shell.execute_reply": "2024-01-11T18:43:17.385870Z",
     "shell.execute_reply.started": "2024-01-11T18:43:17.383318Z"
    }
   },
   "outputs": [],
   "source": [
    "len(static_forces)"
   ]
  },
  {
   "cell_type": "code",
   "execution_count": null,
   "metadata": {
    "execution": {
     "iopub.execute_input": "2024-01-11T18:43:18.159851Z",
     "iopub.status.busy": "2024-01-11T18:43:18.159581Z",
     "iopub.status.idle": "2024-01-11T18:43:18.992052Z",
     "shell.execute_reply": "2024-01-11T18:43:18.991497Z",
     "shell.execute_reply.started": "2024-01-11T18:43:18.159836Z"
    }
   },
   "outputs": [],
   "source": [
    "fig, axs = plt.subplots(2,3,figsize=(12,5))\n",
    "plt.subplots_adjust(hspace=0.8, wspace=0.3)\n",
    "plt.suptitle(f\"Actuator forces {dayObs} - {seqNum} - zForces{index} Azimuth only slew\")\n",
    "counter = 0\n",
    "for y in range(2):\n",
    "    for x in range(3):\n",
    "        ax = axs[y,x]\n",
    "        ax.set_title(names[counter])\n",
    "        forceList[counter][items[counter]].plot(ax=ax)\n",
    "        if counter == 2:\n",
    "            ax2 = ax.twinx()\n",
    "            elArc = (el['actualPosition'] - el['actualPosition'].values.min()) * 3600.0\n",
    "            ax2.set_ylabel(\"Elevation change (arcsec)\", color='red')\n",
    "            ax.set_ylabel(\"Force(N)\", color='blue')\n",
    "            elArc.plot(ax = ax2, color='red')\n",
    "            print(el.values.min(), el.values.max())\n",
    "            #ax2.set_ylim(\n",
    "        #ax.set_ylim(0, 1500)\n",
    "        counter += 1\n",
    "    \n",
    "plt.savefig(f\"/home/c/cslage/u/MTM1M3/actuator_forces/Actuator_Forces_{dayObs}_{seqNum}_{index}.png\")"
   ]
  },
  {
   "cell_type": "code",
   "execution_count": null,
   "metadata": {
    "execution": {
     "iopub.execute_input": "2024-01-11T18:23:07.144712Z",
     "iopub.status.busy": "2024-01-11T18:23:07.144431Z",
     "iopub.status.idle": "2024-01-11T18:23:07.295053Z",
     "shell.execute_reply": "2024-01-11T18:23:07.294722Z",
     "shell.execute_reply.started": "2024-01-11T18:23:07.144697Z"
    }
   },
   "outputs": [],
   "source": [
    "plt.suptitle(f\"Applied-Acceleration-Balance-Elevation-Static {dayObs} - {seqNum} - zForces{index}\")\n",
    "accLength = len(forceList[0][items[0]].values)\n",
    "times = forceList[3]['timestamp'].values[0:accLength]\n",
    "times -= times[0]\n",
    "diff = forceList[3][items[3]].values[0:accLength] - (forceList[0][items[0]].values[0:accLength] \\\n",
    "                                        + forceList[1][items[1]].values[0:accLength] + forceList[2][items[2]].values[0:accLength])\n",
    "diff -= static_force\n",
    "plt.plot(times, diff)\n",
    "plt.ylabel(\"Force(N)\")\n",
    "plt.xlabel(\"Time(sec)\")\n",
    "plt.savefig(f\"/home/c/cslage/u/MTM1M3/actuator_forces/Actuator_Force_Differences_{dayObs}_{seqNum}_{index}.png\")"
   ]
  },
  {
   "cell_type": "code",
   "execution_count": null,
   "metadata": {},
   "outputs": [],
   "source": []
  }
 ],
 "metadata": {
  "kernelspec": {
   "display_name": "LSST",
   "language": "python",
   "name": "lsst"
  },
  "language_info": {
   "codemirror_mode": {
    "name": "ipython",
    "version": 3
   },
   "file_extension": ".py",
   "mimetype": "text/x-python",
   "name": "python",
   "nbconvert_exporter": "python",
   "pygments_lexer": "ipython3",
   "version": "3.11.4"
  }
 },
 "nbformat": 4,
 "nbformat_minor": 4
}
