{
 "cells": [
  {
   "cell_type": "markdown",
   "metadata": {},
   "source": [
    "# M1M3 cell learning\n",
    "Craig Lage - 14-Apr-23 \\\n",
    "The 17 tons of mirror are supported by 156 pneumatic actuators where 44 are single-axis and provide support only on the axial direction, 100 are dual-axis providing support in the axial and lateral direction, and 12 are dual-axis providing support in the axial and cross lateral directions. \\\n",
    "Positioning is provided by 6 hard points in a hexapod configuration which moves the mirror to a fixed operational position that shall be maintained during telescope operations. The remaining optical elements will be moved relative to this position in order to align the telescope optics. Support and optical figure correction is provided by 112 dual axis and 44 single axis pneumatic actuators. "
   ]
  },
  {
   "cell_type": "code",
   "execution_count": null,
   "metadata": {
    "execution": {
     "iopub.execute_input": "2023-05-09T13:54:32.176323Z",
     "iopub.status.busy": "2023-05-09T13:54:32.175582Z",
     "iopub.status.idle": "2023-05-09T13:54:32.440479Z",
     "shell.execute_reply": "2023-05-09T13:54:32.439917Z",
     "shell.execute_reply.started": "2023-05-09T13:54:32.176306Z"
    },
    "tags": []
   },
   "outputs": [],
   "source": [
    "import sys, time, os, asyncio, glob\n",
    "from datetime import datetime\n",
    "import numpy as np\n",
    "import matplotlib.pyplot as plt\n",
    "import matplotlib as mpl\n",
    "from matplotlib.colors import LightSource as LS\n",
    "import pickle as pkl\n",
    "from astropy.time import Time, TimeDelta\n",
    "import lsst.ts.cRIOpy.M1M3FATable as M1M3FATable\n",
    "\n",
    "from lsst_efd_client import EfdClient\n",
    "\n"
   ]
  },
  {
   "cell_type": "code",
   "execution_count": null,
   "metadata": {
    "execution": {
     "iopub.execute_input": "2023-05-09T13:54:56.033620Z",
     "iopub.status.busy": "2023-05-09T13:54:56.033416Z",
     "iopub.status.idle": "2023-05-09T13:54:56.460046Z",
     "shell.execute_reply": "2023-05-09T13:54:56.459557Z",
     "shell.execute_reply.started": "2023-05-09T13:54:56.033605Z"
    },
    "tags": []
   },
   "outputs": [],
   "source": [
    "client = EfdClient('usdf_efd')\n",
    "FATABLE = M1M3FATable.FATABLE"
   ]
  },
  {
   "cell_type": "code",
   "execution_count": null,
   "metadata": {
    "execution": {
     "iopub.execute_input": "2023-05-09T13:54:57.883765Z",
     "iopub.status.busy": "2023-05-09T13:54:57.883524Z",
     "iopub.status.idle": "2023-05-09T13:54:58.133274Z",
     "shell.execute_reply": "2023-05-09T13:54:58.132835Z",
     "shell.execute_reply.started": "2023-05-09T13:54:57.883749Z"
    },
    "tags": []
   },
   "outputs": [],
   "source": [
    "fig = plt.figure(figsize=(8,8))\n",
    "plt.subplot(1,1,1,aspect=1.0)\n",
    "plt.xlabel(\"X position (m)\")\n",
    "plt.ylabel(\"Y position (m)\")\n",
    "plt.title(\"M1M3 Actuator positions and type\\nHardpoints are approximate\", fontsize=18)\n",
    "types = [['SAA','NA', 'o', 'Z', 'b'], ['DAA','+Y', '^', '+Y','g'], ['DAA','-Y', 'v', '-Y', 'cyan'], \\\n",
    "         ['DAA','+X', '>', '+X', 'r'], ['DAA','-X', '<', '-X', 'r']]\n",
    "for [type, orient, marker, label, color] in types: \n",
    "    xs = []\n",
    "    ys = []\n",
    "    for i in range(len(FATABLE)):\n",
    "        x = FATABLE[i][M1M3FATable.FATABLE_XPOSITION]\n",
    "        y = FATABLE[i][M1M3FATable.FATABLE_YPOSITION]\n",
    "        if FATABLE[i][M1M3FATable.FATABLE_TYPE] == type and FATABLE[i][M1M3FATable.FATABLE_ORIENTATION] == orient:\n",
    "            xs.append(x)\n",
    "            ys.append(y)\n",
    "        else:\n",
    "            continue\n",
    "    plt.scatter(xs, ys, marker=marker, color=color, s=200, label=label)        \n",
    "\n",
    "# Now plot approximate hardpoint location\n",
    "Rhp = 3.1 # Radius in meters\n",
    "for i in range(6):\n",
    "    theta = 2.0 * np.pi / 6.0 * float(i)\n",
    "    if i == 0:\n",
    "        plt.scatter(Rhp * np.cos(theta), Rhp * np.sin(theta), marker='o', color='magenta', s=200, label='HP')\n",
    "    else:\n",
    "        plt.scatter(Rhp * np.cos(theta), Rhp * np.sin(theta), marker='o', color='magenta', s=200, label='_nolegend_')\n",
    "plt.legend(loc='lower left', fontsize=9)"
   ]
  }
 ],
 "metadata": {
  "kernelspec": {
   "display_name": "LSST",
   "language": "python",
   "name": "lsst"
  },
  "language_info": {
   "codemirror_mode": {
    "name": "ipython",
    "version": 3
   },
   "file_extension": ".py",
   "mimetype": "text/x-python",
   "name": "python",
   "nbconvert_exporter": "python",
   "pygments_lexer": "ipython3",
   "version": "3.10.10"
  }
 },
 "nbformat": 4,
 "nbformat_minor": 4
}
