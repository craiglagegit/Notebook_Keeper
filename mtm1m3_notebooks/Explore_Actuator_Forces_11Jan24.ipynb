{
 "cells": [
  {
   "cell_type": "markdown",
   "metadata": {},
   "source": [
    "# M1M3 actuator exploration\n",
    "Craig Lage - 11-Jan-24 \\\n",
    "Trying to understand the different actuator forces."
   ]
  },
  {
   "cell_type": "code",
   "execution_count": null,
   "metadata": {
    "execution": {
     "iopub.execute_input": "2024-01-19T18:28:32.819701Z",
     "iopub.status.busy": "2024-01-19T18:28:32.819095Z",
     "iopub.status.idle": "2024-01-19T18:28:39.836608Z",
     "shell.execute_reply": "2024-01-19T18:28:39.836158Z",
     "shell.execute_reply.started": "2024-01-19T18:28:32.819687Z"
    },
    "tags": []
   },
   "outputs": [],
   "source": [
    "import sys, time, os, asyncio, copy\n",
    "import numpy as np\n",
    "import matplotlib.pyplot as plt\n",
    "%matplotlib inline\n",
    "from astropy.time import Time, TimeDelta\n",
    "from lsst_efd_client import EfdClient\n",
    "from lsst.summit.utils.tmaUtils import TMAEventMaker"
   ]
  },
  {
   "cell_type": "markdown",
   "metadata": {},
   "source": [
    "## Choose an event"
   ]
  },
  {
   "cell_type": "code",
   "execution_count": null,
   "metadata": {
    "execution": {
     "iopub.execute_input": "2024-01-19T18:28:39.844250Z",
     "iopub.status.busy": "2024-01-19T18:28:39.844133Z",
     "iopub.status.idle": "2024-01-19T18:28:53.903396Z",
     "shell.execute_reply": "2024-01-19T18:28:53.903051Z",
     "shell.execute_reply.started": "2024-01-19T18:28:39.844240Z"
    }
   },
   "outputs": [],
   "source": [
    "client = EfdClient('usdf_efd')\n",
    "dayObs = 20240102\n",
    "seqNum = 607\n",
    "eventMaker = TMAEventMaker()\n",
    "event = eventMaker.getEvent(dayObs, seqNum)\n",
    "start = event.begin# - TimeDelta(2.0, format='sec')\n",
    "end = event.end# + TimeDelta(2.0, format='sec')\n",
    "print(start.isot, end.isot)"
   ]
  },
  {
   "cell_type": "markdown",
   "metadata": {},
   "source": [
    "# Now get the data"
   ]
  },
  {
   "cell_type": "code",
   "execution_count": null,
   "metadata": {
    "execution": {
     "iopub.execute_input": "2024-01-19T18:28:53.904104Z",
     "iopub.status.busy": "2024-01-19T18:28:53.903892Z",
     "iopub.status.idle": "2024-01-19T18:28:54.212347Z",
     "shell.execute_reply": "2024-01-19T18:28:54.212007Z",
     "shell.execute_reply.started": "2024-01-19T18:28:53.904092Z"
    }
   },
   "outputs": [],
   "source": [
    "#start = event.begin - TimeDelta(120.0, format='sec')\n",
    "#end = event.end + TimeDelta(5.0, format='sec')\n",
    "#start = end - TimeDelta(10.0, format='sec')\n",
    "\n",
    "index = 23 # We are just looking at a single Z actuator\n",
    "names = ['AccForce', 'BalForce', 'ElForce', 'AppliedForce', 'MeasuredForce', 'Error']\n",
    "forceList = []\n",
    "items = [f\"zForces{index}\", f\"zForces{index}\", \\\n",
    "         f\"zForces{index}\", f\"zForces{index}\", f\"primaryCylinderForce{index}\", \\\n",
    "         f\"primaryCylinderFollowingError{index}\"]\n",
    "accForces = await client.select_time_series(\"lsst.sal.MTM1M3.appliedAccelerationForces\", \\\n",
    "                                            [f\"zForces{index}\", 'timestamp'], \\\n",
    "                                         start, end)\n",
    "forceList.append(accForces)\n",
    "balForces = await client.select_time_series(\"lsst.sal.MTM1M3.appliedBalanceForces\", \\\n",
    "                                    [f\"zForces{index}\", 'timestamp'], \\\n",
    "                                         start, end)\n",
    "forceList.append(balForces)\n",
    "elForces = await client.select_time_series(\"lsst.sal.MTM1M3.appliedElevationForces\", \\\n",
    "                                           [f\"zForces{index}\", 'timestamp'], \\\n",
    "                                         start, end)\n",
    "forceList.append(elForces)\n",
    "appForces = await client.select_time_series(\"lsst.sal.MTM1M3.appliedForces\", \\\n",
    "                                            [f\"zForces{index}\", 'timestamp'], \\\n",
    "                                         start, end)\n",
    "forceList.append(appForces)\n",
    "forces = await client.select_time_series(\"lsst.sal.MTM1M3.forceActuatorData\", f\"primaryCylinderForce{index}\", \\\n",
    "                                         start, end)\n",
    "forceList.append(forces)\n",
    "errors = await client.select_time_series(\"lsst.sal.MTM1M3.forceActuatorData\", f\"primaryCylinderFollowingError{index}\", \\\n",
    "                                         start, end)\n",
    "forceList.append(errors)\n",
    "\n",
    "# The static force is set with a logevent when things start up\n",
    "# So we have to back up 12 hours and take the most recent entry\n",
    "# I checked this on Chronograf.\n",
    "staticStart = start - TimeDelta(0.50, format = 'jd') \n",
    "static_forces = appForces = await client.select_time_series(\"lsst.sal.MTM1M3.logevent_appliedStaticForces\", \\\n",
    "                                            [f\"zForces{index}\", 'timestamp'], \\\n",
    "                                         staticStart, end)\n",
    "static_force = static_forces[items[3]].values[-1]\n",
    "print(static_force)\n",
    "elTMA = await client.select_time_series('lsst.sal.MTMount.elevation', \\\n",
    "                                            ['timestamp', 'actualPosition'],  start, end) \n",
    "elInc = await client.select_time_series('lsst.sal.MTM1M3.inclinometerData', \\\n",
    "                                            ['timestamp', 'inclinometerAngle'],  start, end) \n",
    "\n",
    "hp_forces = await client.select_time_series(\n",
    "    \"lsst.sal.MTM1M3.hardpointActuatorData\",\n",
    "    [\"timestamp\"]\n",
    "    + [f\"measuredForce{hp}\" for hp in range(6)]\n",
    "    + [f\"f{a}\" for a in \"xyz\"]\n",
    "    + [f\"m{a}\" for a in \"xyz\"],\n",
    "    start,\n",
    "    end,\n",
    "    )"
   ]
  },
  {
   "cell_type": "code",
   "execution_count": null,
   "metadata": {
    "execution": {
     "iopub.execute_input": "2024-01-19T18:28:54.212961Z",
     "iopub.status.busy": "2024-01-19T18:28:54.212832Z",
     "iopub.status.idle": "2024-01-19T18:28:54.222281Z",
     "shell.execute_reply": "2024-01-19T18:28:54.221892Z",
     "shell.execute_reply.started": "2024-01-19T18:28:54.212948Z"
    }
   },
   "outputs": [],
   "source": [
    "ggrg_components = ['useAccelerationForces', 'useBalanceForces', 'useVelocityForces', 'triggerBoosterValves']\n",
    "ggrg_start = start - TimeDelta(1.0, format = 'jd')\n",
    "ggrg = await client.select_time_series('lsst.sal.MTM1M3.logevent_slewControllerSettings', \\\n",
    "                                        ggrg_components, ggrg_start, end)\n",
    "result = ''\n",
    "for component in ggrg_components:\n",
    "    if ggrg[component][-1]:\n",
    "        result += 'G'\n",
    "    else:\n",
    "        result += 'R'\n",
    "print(result)"
   ]
  },
  {
   "cell_type": "markdown",
   "metadata": {},
   "source": [
    "# Now plot the data"
   ]
  },
  {
   "cell_type": "code",
   "execution_count": null,
   "metadata": {
    "execution": {
     "iopub.execute_input": "2024-01-19T18:28:54.259318Z",
     "iopub.status.busy": "2024-01-19T18:28:54.259198Z",
     "iopub.status.idle": "2024-01-19T18:28:54.981653Z",
     "shell.execute_reply": "2024-01-19T18:28:54.981331Z",
     "shell.execute_reply.started": "2024-01-19T18:28:54.259307Z"
    }
   },
   "outputs": [],
   "source": [
    "%matplotlib inline\n",
    "fig, axs = plt.subplots(2,3,figsize=(12,5))\n",
    "plt.subplots_adjust(hspace=0.8, wspace=0.3)\n",
    "plt.suptitle(f\"Actuator forces {dayObs} - {seqNum} - zForces{index} {result}\")\n",
    "counter = 0\n",
    "for y in range(2):\n",
    "    for x in range(3):\n",
    "        ax = axs[y,x]\n",
    "        ax.set_title(names[counter])\n",
    "        forceList[counter][items[counter]].plot(ax=ax)\n",
    "        if counter == 2:\n",
    "            ax2 = ax.twinx()\n",
    "            #elArc = (elTMA['actualPosition'] - elTMA['actualPosition'].values.min()) * 3600.0\n",
    "            elArc = (elInc['inclinometerAngle'] - elInc['inclinometerAngle'].values.min())# * 3600.0\n",
    "            #ax2.set_ylabel(\"Elevation change TMA (arcsec)\", color='red')\n",
    "            ax2.set_ylabel(\"Elevation change Inc. (deg)\", color='red')\n",
    "            #ax2.set_yticks([0,0.5, 1.0])\n",
    "            #ax2.set_ylim(0,1.0)\n",
    "            ax.set_ylabel(\"Force(N)\", color='blue')\n",
    "            elArc.plot(ax = ax2, color='red', ls = '--')\n",
    "            #ax2.set_ylim(\n",
    "        #ax.set_ylim(0, 1500)\n",
    "        counter += 1\n",
    "    \n",
    "plt.savefig(f\"/home/c/cslage/u/MTM1M3/actuator_forces/Actuator_Forces_{result}_{dayObs}_{seqNum}_{index}.png\")"
   ]
  },
  {
   "cell_type": "markdown",
   "metadata": {},
   "source": [
    "# The cell below checks that the applied force is the sum of the other forces.  There is some discrepancy that I don't understand."
   ]
  },
  {
   "cell_type": "code",
   "execution_count": null,
   "metadata": {
    "execution": {
     "iopub.execute_input": "2024-01-19T18:29:37.054298Z",
     "iopub.status.busy": "2024-01-19T18:29:37.054105Z",
     "iopub.status.idle": "2024-01-19T18:29:37.193145Z",
     "shell.execute_reply": "2024-01-19T18:29:37.192706Z",
     "shell.execute_reply.started": "2024-01-19T18:29:37.054286Z"
    }
   },
   "outputs": [],
   "source": [
    "plt.suptitle(f\"Applied-Acceleration-Balance-Elevation-Static {dayObs} - {seqNum} - zForces{index}\")\n",
    "# We have to truncate the data when the accelerationForce data stops or the arrays will\n",
    "# be of unequal length.  See below.\n",
    "\n",
    "accLength = len(forceList[0][items[0]].values)\n",
    "times = copy.deepcopy(forceList[3]['timestamp'].values[0:accLength])\n",
    "times -= times[0]\n",
    "diff = forceList[3][items[3]].values[0:accLength] - (forceList[0][items[0]].values[0:accLength] \\\n",
    "                                        + forceList[1][items[1]].values[0:accLength] + forceList[2][items[2]].values[0:accLength])\n",
    "diff -= static_force\n",
    "plt.plot(times, diff)\n",
    "plt.ylabel(\"Force(N)\")\n",
    "plt.ylim(-50,100)\n",
    "plt.xlabel(\"Time(sec)\")\n",
    "plt.savefig(f\"/home/c/cslage/u/MTM1M3/actuator_forces/Actuator_Force_Differences_{dayObs}_{seqNum}_{index}.png\")"
   ]
  },
  {
   "cell_type": "code",
   "execution_count": null,
   "metadata": {
    "execution": {
     "iopub.execute_input": "2024-01-19T18:34:19.620721Z",
     "iopub.status.busy": "2024-01-19T18:34:19.620263Z",
     "iopub.status.idle": "2024-01-19T18:34:23.230760Z",
     "shell.execute_reply": "2024-01-19T18:34:23.230340Z",
     "shell.execute_reply.started": "2024-01-19T18:34:19.620706Z"
    }
   },
   "outputs": [],
   "source": [
    "appForces = await client.select_time_series(\"lsst.sal.MTM1M3.appliedForces\", \\\n",
    "                                            ['*'], \\\n",
    "                                         start, end)\n",
    "forces = await client.select_time_series(\"lsst.sal.MTM1M3.forceActuatorData\", ['*'], \\\n",
    "                                         start, end)"
   ]
  },
  {
   "cell_type": "code",
   "execution_count": null,
   "metadata": {
    "execution": {
     "iopub.execute_input": "2024-01-19T18:33:32.548942Z",
     "iopub.status.busy": "2024-01-19T18:33:32.548523Z",
     "iopub.status.idle": "2024-01-19T18:33:32.551724Z",
     "shell.execute_reply": "2024-01-19T18:33:32.551358Z",
     "shell.execute_reply.started": "2024-01-19T18:33:32.548928Z"
    },
    "jupyter": {
     "outputs_hidden": true
    }
   },
   "outputs": [],
   "source": [
    "for column in appForces.columns:\n",
    "    print(column)"
   ]
  },
  {
   "cell_type": "code",
   "execution_count": null,
   "metadata": {
    "execution": {
     "iopub.execute_input": "2024-01-19T18:34:55.377388Z",
     "iopub.status.busy": "2024-01-19T18:34:55.377183Z",
     "iopub.status.idle": "2024-01-19T18:34:55.381075Z",
     "shell.execute_reply": "2024-01-19T18:34:55.380724Z",
     "shell.execute_reply.started": "2024-01-19T18:34:55.377375Z"
    },
    "jupyter": {
     "outputs_hidden": true
    }
   },
   "outputs": [],
   "source": [
    "for column in forces.columns:\n",
    "    print(column)"
   ]
  },
  {
   "cell_type": "code",
   "execution_count": null,
   "metadata": {
    "execution": {
     "iopub.execute_input": "2024-01-16T17:46:32.453561Z",
     "iopub.status.busy": "2024-01-16T17:46:32.453010Z",
     "iopub.status.idle": "2024-01-16T17:46:32.560373Z",
     "shell.execute_reply": "2024-01-16T17:46:32.559977Z",
     "shell.execute_reply.started": "2024-01-16T17:46:32.453545Z"
    }
   },
   "outputs": [],
   "source": [
    "plt.suptitle(f\"Applied-Acceleration-Balance-Elevation-Static {dayObs} - {seqNum} - zForces{index}\")\n",
    "# We have to truncate the data when the accelerationForce data stops or the arrays will\n",
    "# be of unequal length.  See below.\n",
    "shift = [-.200,-.040,0]\n",
    "\n",
    "timeList = []\n",
    "fList = []\n",
    "shiftedForces = []\n",
    "for i in range(4):\n",
    "    times = copy.deepcopy(forceList[i]['timestamp'].values)\n",
    "    times -= times[0]\n",
    "    timeList.append(times)\n",
    "    fList.append(forceList[i][items[i]].values)\n",
    "for i in range(3):\n",
    "    shiftedForce = np.interp(timeList[3] + shift[i], timeList[i], fList[i])\n",
    "    shiftedForces.append(shiftedForce)\n",
    "\n",
    "diff = copy.deepcopy(fList[3])\n",
    "for i in [0,1,2]:\n",
    "    diff -= shiftedForces[i]\n",
    "\n",
    "diff -= static_force\n",
    "plt.plot(times, diff)\n",
    "plt.plot(timeList[0], shiftedForces[0], color='green', ls='--')\n",
    "plt.plot(timeList[1], shiftedForces[1], color='red', ls='--')\n",
    "plt.ylim(-50,50)\n",
    "plt.ylabel(\"Force(N)\")\n",
    "plt.xlabel(\"Time(sec)\")\n",
    "#plt.savefig(f\"/home/c/cslage/u/MTM1M3/actuator_forces/Actuator_Force_Differences_{dayObs}_{seqNum}_{index}.png\")"
   ]
  },
  {
   "cell_type": "code",
   "execution_count": null,
   "metadata": {
    "execution": {
     "iopub.execute_input": "2024-01-16T17:46:03.788680Z",
     "iopub.status.busy": "2024-01-16T17:46:03.788486Z",
     "iopub.status.idle": "2024-01-16T17:46:03.792087Z",
     "shell.execute_reply": "2024-01-16T17:46:03.791771Z",
     "shell.execute_reply.started": "2024-01-16T17:46:03.788667Z"
    }
   },
   "outputs": [],
   "source": [
    "from scipy.optimize import minimize\n",
    "\n",
    "def func(params, args):\n",
    "    #shift = [params[0], params[1], 0.0]\n",
    "    shift = params    \n",
    "    [timeList, fList] = args\n",
    "    shiftedForces = []\n",
    "    for i in range(3):\n",
    "        theseForces = np.interp(timeList[3] + shift[i], timeList[i], fList[i])\n",
    "        shiftedForces.append(theseForces)\n",
    "    diff = copy.deepcopy(fList[3])\n",
    "    for i in [0,1,2]:\n",
    "        diff -= shiftedForces[i]\n",
    "    diff -= static_force\n",
    "    diff -= diff[-1]\n",
    "    \n",
    "    return np.sum(diff * diff)\n"
   ]
  },
  {
   "cell_type": "code",
   "execution_count": null,
   "metadata": {
    "execution": {
     "iopub.execute_input": "2024-01-16T17:46:04.690629Z",
     "iopub.status.busy": "2024-01-16T17:46:04.690148Z",
     "iopub.status.idle": "2024-01-16T17:46:04.699736Z",
     "shell.execute_reply": "2024-01-16T17:46:04.699442Z",
     "shell.execute_reply.started": "2024-01-16T17:46:04.690612Z"
    }
   },
   "outputs": [],
   "source": [
    "args = [timeList, fList]\n",
    "param0 = [-.20, -.04, 0.0]\n",
    "bestShift = minimize(func, param0, args=args, method='Powell')\n",
    "print(bestShift.x, bestShift.fun)"
   ]
  },
  {
   "cell_type": "code",
   "execution_count": null,
   "metadata": {
    "execution": {
     "iopub.execute_input": "2024-01-16T17:46:09.931741Z",
     "iopub.status.busy": "2024-01-16T17:46:09.931516Z",
     "iopub.status.idle": "2024-01-16T17:46:10.043742Z",
     "shell.execute_reply": "2024-01-16T17:46:10.043339Z",
     "shell.execute_reply.started": "2024-01-16T17:46:09.931724Z"
    }
   },
   "outputs": [],
   "source": [
    "plt.suptitle(f\"Applied-Acceleration-Balance-Elevation-Static {dayObs} - {seqNum} - zForces{index}\")\n",
    "# We have to truncate the data when the accelerationForce data stops or the arrays will\n",
    "# be of unequal length.  See below.\n",
    "shift = [bestShift.x[0], bestShift.x[1], bestShift.x[2]]\n",
    "\n",
    "timeList = []\n",
    "fList = []\n",
    "shiftedForces = []\n",
    "for i in range(4):\n",
    "    times = copy.deepcopy(forceList[i]['timestamp'].values)\n",
    "    times -= times[0]\n",
    "    timeList.append(times)\n",
    "    fList.append(forceList[i][items[i]].values)\n",
    "for i in range(3):\n",
    "    shiftedForce = np.interp(timeList[3] + shift[i], timeList[i], fList[i])\n",
    "    shiftedForces.append(shiftedForce)\n",
    "\n",
    "diff = copy.deepcopy(fList[3])\n",
    "for i in [0,1,2]:\n",
    "    diff -= shiftedForces[i]\n",
    "\n",
    "diff -= static_force\n",
    "plt.plot(times, diff)\n",
    "#plt.plot(timeList[0], shiftedForces[0], color='green', ls='--')\n",
    "#plt.plot(timeList[1], shiftedForces[1], color='red', ls='--')\n",
    "plt.ylabel(\"Force(N)\")\n",
    "plt.ylim(-50,50)\n",
    "plt.xlabel(\"Time(sec)\")\n",
    "#plt.savefig(f\"/home/c/cslage/u/MTM1M3/actuator_forces/Actuator_Force_Differences_{dayObs}_{seqNum}_{index}.png\")"
   ]
  },
  {
   "cell_type": "markdown",
   "metadata": {},
   "source": [
    "# Here we check to see if there is a timebase offset between the different forces.  It is less than 1 msec."
   ]
  },
  {
   "cell_type": "code",
   "execution_count": null,
   "metadata": {
    "execution": {
     "iopub.execute_input": "2024-01-16T14:09:47.896080Z",
     "iopub.status.busy": "2024-01-16T14:09:47.895834Z",
     "iopub.status.idle": "2024-01-16T14:09:47.899471Z",
     "shell.execute_reply": "2024-01-16T14:09:47.899032Z",
     "shell.execute_reply.started": "2024-01-16T14:09:47.896065Z"
    }
   },
   "outputs": [],
   "source": [
    "t0 = forceList[3]['timestamp'].values[0]\n",
    "for i in range(4):\n",
    "    print(f\"Start time difference {names[i]} - {names[3]} = {(forceList[i]['timestamp'].values[0] - t0):.4f}\")"
   ]
  },
  {
   "cell_type": "markdown",
   "metadata": {},
   "source": [
    "# However, if we check the end times, the AccelerationForce data stops 2.7 seconds before the others.  Why is this?"
   ]
  },
  {
   "cell_type": "code",
   "execution_count": null,
   "metadata": {
    "execution": {
     "iopub.execute_input": "2024-01-16T14:13:18.715833Z",
     "iopub.status.busy": "2024-01-16T14:13:18.715185Z",
     "iopub.status.idle": "2024-01-16T14:13:18.719062Z",
     "shell.execute_reply": "2024-01-16T14:13:18.718639Z",
     "shell.execute_reply.started": "2024-01-16T14:13:18.715814Z"
    }
   },
   "outputs": [],
   "source": [
    "t0 = forceList[3]['timestamp'].values[-1]\n",
    "for i in range(4):\n",
    "    print(f\"End time difference {names[i]} - {names[3]} = {(forceList[i]['timestamp'].values[-1] - t0):.4f}\")"
   ]
  },
  {
   "cell_type": "markdown",
   "metadata": {},
   "source": [
    "# We also check that all of the forces have the same 20msec cadence."
   ]
  },
  {
   "cell_type": "code",
   "execution_count": null,
   "metadata": {},
   "outputs": [],
   "source": [
    "t0 = forceList[3]['timestamp'].values[-1]\n",
    "for i in range(4):\n",
    "    deltaTs = []\n",
    "    for j in range(1,6):\n",
    "        deltaT = (forceList[i]['timestamp'].values[j] - forceList[i]['timestamp'].values[j-1]) * 1000.0\n",
    "        deltaTs.append(f\"{deltaT:.2f}\")\n",
    "        \n",
    "    print(f\"Time cadence {names[i]} = {deltaTs} msec\")"
   ]
  },
  {
   "cell_type": "code",
   "execution_count": null,
   "metadata": {},
   "outputs": [],
   "source": [
    "appForces = await client.select_time_series(\"lsst.sal.MTM1M3.appliedForces\", \\\n",
    "                                            [f\"zForces{index}\", 'timestamp'], \\\n",
    "                                         start, end)\n",
    "cylForces = await client.select_time_series(\"lsst.sal.MTM1M3.appliedCylinderForces\", \\\n",
    "                                            [f\"primaryCylinderForces{index}\", 'timestamp'], \\\n",
    "                                         start, end)"
   ]
  },
  {
   "cell_type": "code",
   "execution_count": null,
   "metadata": {},
   "outputs": [],
   "source": [
    "appForces[f\"zForces{index}\"].plot(color='green', label=\"appliedForces\")\n",
    "cylForcesN = cylForces[f\"primaryCylinderForces{index}\"] / 1000.0\n",
    "cylForcesN.plot(color='red', ls = '--', label=\"appliedCylinderForces\")\n",
    "plt.legend()\n",
    "plt.savefig(f\"/home/c/cslage/u/MTM1M3/actuator_forces/Applied_vs_Cylinder_{dayObs}_{seqNum}_{index}.png\")"
   ]
  },
  {
   "cell_type": "code",
   "execution_count": null,
   "metadata": {},
   "outputs": [],
   "source": [
    "start = event.begin - TimeDelta(300.0, format='sec')\n",
    "end = start + TimeDelta(60.0, format='sec')\n",
    "#end = event.end + TimeDelta(300.0, format='sec')\n",
    "\n",
    "accForces = await client.select_time_series(\"lsst.sal.MTM1M3.appliedAccelerationForces\", \\\n",
    "                                            [f\"zForces{index}\", 'timestamp'], \\\n",
    "                                         start, end)\n",
    "balForces = await client.select_time_series(\"lsst.sal.MTM1M3.appliedBalanceForces\", \\\n",
    "                                    [f\"zForces{index}\", 'timestamp'], \\\n",
    "                                         start, end)\n",
    "el = await client.select_time_series('lsst.sal.MTMount.elevation', \\\n",
    "                                            ['timestamp', 'actualPosition'],  start, end) \n",
    "az = await client.select_time_series('lsst.sal.MTMount.azimuth', \\\n",
    "                                            ['timestamp', 'actualPosition'],  start, end) \n"
   ]
  },
  {
   "cell_type": "code",
   "execution_count": null,
   "metadata": {},
   "outputs": [],
   "source": [
    "\n",
    "dayObs = 20240108\n",
    "fig, ax = plt.subplots(1,1)\n",
    "ax.set_title(\"accelerationForces time gaps - 20230108\")\n",
    "accForces[f\"zForces{index}\"].plot(ax=ax)\n",
    "ax2 = ax.twinx()\n",
    "ax.set_ylabel(\"accForces (N)\")\n",
    "ax2.set_ylabel(\"TMA position(degrees\")\n",
    "el['actualPosition'].plot(ax=ax2, color='red', label=\"Elevation\")\n",
    "az['actualPosition'].plot(ax=ax2, color='green', label=\"Azimuth\")\n",
    "plt.legend()\n",
    "plt.savefig(f\"/home/c/cslage/u/MTM1M3/actuator_forces/AccelerationForce_Time_Gaps_{dayObs}.png\")"
   ]
  },
  {
   "cell_type": "code",
   "execution_count": null,
   "metadata": {},
   "outputs": [],
   "source": [
    "forceTimes = accForces['timestamp'].values\n",
    "for i in range(1, len(forceTimes)):\n",
    "    deltaT = forceTimes[i] - forceTimes[i-1]\n",
    "    if deltaT > .040:\n",
    "        print(f\"Gap at {Time(forceTimes[i],format='unix_tai').isot}, gap is {deltaT} seconds\")"
   ]
  },
  {
   "cell_type": "code",
   "execution_count": null,
   "metadata": {},
   "outputs": [],
   "source": [
    "forceTimes = balForces['timestamp'].values\n",
    "for i in range(1, len(forceTimes)):\n",
    "    deltaT = forceTimes[i] - forceTimes[i-1]\n",
    "    if deltaT > .040:\n",
    "        print(f\"Gap at {Time(forceTimes[i],format='unix_tai').isot}, gap is {deltaT} seconds\")"
   ]
  },
  {
   "cell_type": "code",
   "execution_count": null,
   "metadata": {},
   "outputs": [],
   "source": [
    "fig, axs = plt.subplots(2,1,figsize=(5,5))\n",
    "plt.subplots_adjust(hspace=0.5)\n",
    "forceList[1][items[1]].plot(ax=axs[0])\n",
    "time = Time(\"2024-01-03T03:34:12.20\", scale='utc').isot\n",
    "axs[0].axvline(time,-50,25, ls='--', color='black')\n",
    "for hp in range(6):\n",
    "    hp_forces[f\"measuredForce{hp}\"].plot(ax=axs[1])\n",
    "axs[1].axvline(time,-2000,2000, ls='--', color='black')"
   ]
  },
  {
   "cell_type": "code",
   "execution_count": null,
   "metadata": {},
   "outputs": [],
   "source": []
  }
 ],
 "metadata": {
  "kernelspec": {
   "display_name": "LSST",
   "language": "python",
   "name": "lsst"
  },
  "language_info": {
   "codemirror_mode": {
    "name": "ipython",
    "version": 3
   },
   "file_extension": ".py",
   "mimetype": "text/x-python",
   "name": "python",
   "nbconvert_exporter": "python",
   "pygments_lexer": "ipython3",
   "version": "3.11.7"
  }
 },
 "nbformat": 4,
 "nbformat_minor": 4
}
