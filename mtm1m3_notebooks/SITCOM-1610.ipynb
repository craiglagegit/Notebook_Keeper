{
 "cells": [
  {
   "cell_type": "markdown",
   "metadata": {},
   "source": [
    "# Ticket SITCOM-1610\n",
    "Craig Lage - 13-Sep-24 \\\n",
    "\n",
    "Here is what was requested:\n",
    "A script to show changes in bump test following error vs time.\n"
   ]
  },
  {
   "cell_type": "markdown",
   "metadata": {},
   "source": [
    "## Prepare the notebook"
   ]
  },
  {
   "cell_type": "code",
   "execution_count": null,
   "metadata": {
    "execution": {
     "iopub.execute_input": "2024-09-14T11:55:46.536082Z",
     "iopub.status.busy": "2024-09-14T11:55:46.535947Z",
     "iopub.status.idle": "2024-09-14T11:55:52.033561Z",
     "shell.execute_reply": "2024-09-14T11:55:52.033119Z",
     "shell.execute_reply.started": "2024-09-14T11:55:46.536067Z"
    },
    "tags": []
   },
   "outputs": [],
   "source": [
    "import sys, time, os, asyncio, glob\n",
    "from datetime import datetime\n",
    "import numpy as np\n",
    "import matplotlib.pyplot as plt\n",
    "import pandas as pd\n",
    "from matplotlib.backends.backend_pdf import PdfPages\n",
    "from matplotlib.ticker import FormatStrFormatter\n",
    "from astropy.time import Time, TimeDelta\n",
    "from lsst.ts.xml.tables.m1m3 import FATable, FAIndex, force_actuator_from_id, actuator_id_to_index\n",
    "from lsst_efd_client import EfdClient\n",
    "\n",
    "import lsst.summit.utils.butlerUtils as butlerUtils\n",
    "from lsst.summit.utils.utils import dayObsIntToString\n",
    "from lsst.summit.utils.efdUtils import calcNextDay\n",
    "\n",
    "from lsst.summit.utils.efdUtils import getEfdData\n",
    "from lsst.summit.utils.tmaUtils import TMAEvent\n",
    "from lsst.ts.xml.enums.MTM1M3 import BumpTest\n"
   ]
  },
  {
   "cell_type": "code",
   "execution_count": null,
   "metadata": {
    "execution": {
     "iopub.execute_input": "2024-09-14T11:56:01.242491Z",
     "iopub.status.busy": "2024-09-14T11:56:01.241922Z",
     "iopub.status.idle": "2024-09-14T11:56:04.968087Z",
     "shell.execute_reply": "2024-09-14T11:56:04.967662Z",
     "shell.execute_reply.started": "2024-09-14T11:56:01.242475Z"
    }
   },
   "outputs": [],
   "source": [
    "# Directory to store the data\n",
    "from pathlib import Path\n",
    "data_dir = Path(\"./plots\")\n",
    "data_dir.mkdir(exist_ok=True, parents=True)\n",
    "\n",
    "start = \"2024-09-01T12:00:00\"\n",
    "end = \"2024-09-14T18:00:00\"\n",
    "client = EfdClient('usdf_efd')\n",
    "bumps = await client.select_time_series(\"lsst.sal.MTM1M3.logevent_forceActuatorBumpTestStatus\", \"*\",\\\n",
    "                                        Time(start, scale='utc'), Time(end, scale='utc'))"
   ]
  },
  {
   "cell_type": "code",
   "execution_count": null,
   "metadata": {
    "execution": {
     "iopub.execute_input": "2024-09-14T12:19:47.046162Z",
     "iopub.status.busy": "2024-09-14T12:19:47.045871Z",
     "iopub.status.idle": "2024-09-14T12:19:47.055978Z",
     "shell.execute_reply": "2024-09-14T12:19:47.055676Z",
     "shell.execute_reply.started": "2024-09-14T12:19:47.046149Z"
    }
   },
   "outputs": [],
   "source": [
    "def rms_error(times, errors):\n",
    "    error = 0.0\n",
    "    num = 0\n",
    "    for i, t in enumerate(times):\n",
    "        if t > 3.0 and t < 4.0:\n",
    "            num += 1\n",
    "            error += errors[i]**2\n",
    "    if num == 0:\n",
    "        return np.nan\n",
    "    else:\n",
    "        return np.sqrt(error / num)\n",
    "\n",
    "def plot_bumps_and_errors(axs, bump, bt_result, force, follow, applied, p_s):\n",
    "    BUMP_TEST_DURATION = 5.0  # seconds\n",
    "    measured_forces_times = []\n",
    "    measured_forces_values = []\n",
    "    following_error_values = []\n",
    "    applied_forces_times = []\n",
    "    applied_forces_values = []\n",
    "    t_starts = []\n",
    "    if p_s == \"Primary\":\n",
    "        plot_index = 0\n",
    "    else:\n",
    "        plot_index = 1\n",
    "\n",
    "    results = bt_result[bt_result[bump] == BumpTest.TESTINGPOSITIVE]\n",
    "    for bt_index in range(len(results)):\n",
    "        t_start = Time(\n",
    "            bt_result[bt_result[bump] == BumpTest.TESTINGPOSITIVE][\n",
    "                \"timestamp\"\n",
    "            ].values[bt_index]\n",
    "            - 1.0,\n",
    "            format=\"unix_tai\",\n",
    "            scale=\"tai\",\n",
    "        )\n",
    "        t_starts.append(t_start.isot.split('.')[0])\n",
    "        t_end = Time(\n",
    "            t_start + TimeDelta(BUMP_TEST_DURATION, format=\"sec\"),\n",
    "            format=\"unix_tai\",\n",
    "            scale=\"tai\",\n",
    "        )\n",
    "\n",
    "    \n",
    "        measured_forces = getEfdData(\n",
    "            client,\n",
    "            \"lsst.sal.MTM1M3.forceActuatorData\",\n",
    "            columns=[force, follow, \"timestamp\"],\n",
    "            begin=t_start,\n",
    "            end=t_end,\n",
    "        )\n",
    "    \n",
    "        applied_forces = getEfdData(\n",
    "            client,\n",
    "            \"lsst.sal.MTM1M3.appliedForces\",\n",
    "            columns=[applied, \"timestamp\"],\n",
    "            begin=t_start,\n",
    "            end=t_end,\n",
    "        )\n",
    "\n",
    "        t0 = measured_forces[\"timestamp\"].values[0]\n",
    "        measured_forces[\"timestamp\"] -= t0\n",
    "        applied_forces[\"timestamp\"] -= t0\n",
    "    \n",
    "        # It is easier/faster to work with arrays\n",
    "        measured_forces_time = measured_forces[\"timestamp\"].values\n",
    "        measured_forces_times.append(measured_forces_time)\n",
    "        measured_forces_value = measured_forces[force].values\n",
    "        if p_s != \"Primary\":\n",
    "            if 'MINUS' in p_s:\n",
    "                measured_forces_value = np.array(measured_forces_value) / -np.sqrt(2.0)\n",
    "            if 'PLUS' in p_s:\n",
    "                measured_forces_value = np.array(measured_forces_value) / np.sqrt(2.0)\n",
    "        measured_forces_values.append(measured_forces_value)\n",
    "        following_error_value = measured_forces[follow].values\n",
    "        following_error_values.append(following_error_value)\n",
    "        applied_forces_time = applied_forces[\"timestamp\"].values\n",
    "        applied_forces_times.append(applied_forces_time)\n",
    "        applied_forces_value = applied_forces[applied].values\n",
    "        applied_forces_values.append(applied_forces_value)\n",
    "\n",
    "    axs[0][plot_index].set_title(f\"Actuator {id} {p_s} forces vs time\")\n",
    "    axs[0][plot_index].plot(applied_forces_times[0], applied_forces_values[0])\n",
    "    for i in range(len(measured_forces_times)):\n",
    "        axs[0][plot_index].plot(measured_forces_times[i], measured_forces_values[i], label=t_starts[i])\n",
    "    axs[0][plot_index].set_xlim(0,4.0)\n",
    "    axs[0][plot_index].set_xlabel(\"Time(sec.)\")\n",
    "    axs[0][plot_index].set_ylim(-100, 400)\n",
    "    axs[0][plot_index].set_ylabel(\"Force(N)\")\n",
    "    #axs[0][plot_index].legend(loc='lower right')\n",
    "\n",
    "    axs[1][plot_index].set_title(f\"Actuator {id} {p_s} following error RMS\")\n",
    "    times = []\n",
    "    errors = []\n",
    "    for i in range(len(measured_forces_times)):\n",
    "        times.append(t_starts[i])\n",
    "        errors.append(rms_error(measured_forces_times[i], following_error_values[i]))\n",
    "    \n",
    "    axs[1][plot_index].plot(times, errors, marker='x')\n",
    "    axs[1][plot_index].set_ylim(0,100)\n",
    "    axs[1][plot_index].set_yscale('symlog', linthresh=10)\n",
    "    axs[1][plot_index].set_yticks([0,2,4,6,8,10,50,100])\n",
    "    axs[1][plot_index].yaxis.set_major_formatter(FormatStrFormatter('%.1f'))\n",
    "    axs[1][plot_index].tick_params(axis='x', rotation=90)\n",
    "    axs[1][plot_index].set_ylabel(\"RMS following error 3.0<T<4.0 seconds\")\n",
    "    return"
   ]
  },
  {
   "cell_type": "code",
   "execution_count": null,
   "metadata": {
    "execution": {
     "iopub.execute_input": "2024-09-14T12:26:11.373339Z",
     "iopub.status.busy": "2024-09-14T12:26:11.373042Z",
     "iopub.status.idle": "2024-09-14T12:26:11.378145Z",
     "shell.execute_reply": "2024-09-14T12:26:11.377769Z",
     "shell.execute_reply.started": "2024-09-14T12:26:11.373326Z"
    }
   },
   "outputs": [],
   "source": [
    "def actuator_error(\n",
    "    fig: plt.Figure,\n",
    "    client: object,\n",
    "    fa_id: int,\n",
    "    bt_results: pd.DataFrame,\n",
    ") -> (np.array, np.array, np.array, np.array, np.array):\n",
    "    \"\"\"\n",
    "    Parameters\n",
    "    ----------\n",
    "    client : object\n",
    "        The EFD client object to retrieve data from.\n",
    "    bt_results : pandas.DataFrame\n",
    "        The bump test results data. Used if input is a bump test.\n",
    "        Default is None\n",
    "    fa_id : int\n",
    "        The ID of the force actuator.\n",
    "\n",
    "    Returns\n",
    "    -------\n",
    "    fig:  a pyplot figure\n",
    "    \n",
    "    \"\"\"\n",
    "    axs = fig.subplots(2,2)\n",
    "    plt.gcf().subplots_adjust(bottom=0.25, wspace=0.3, hspace=0.3)\n",
    "    \n",
    "    # Grab the Force Actuator Data from its ID\n",
    "    fa_data = force_actuator_from_id(fa_id)\n",
    "    bt_result = bt_results[bt_results[\"actuatorId\"] == fa_id]\n",
    "    \n",
    "    # First the primary forces\n",
    "    bump = f\"primaryTest{fa_data.index}\"\n",
    "    force = f\"primaryCylinderForce{fa_data.index}\"\n",
    "    applied = f\"zForces{fa_data.z_index}\"\n",
    "    follow = f\"primaryCylinderFollowingError{fa_data.index}\"\n",
    "    plot_bumps_and_errors(axs, bump, bt_result, force, follow, applied, \"Primary\")\n",
    "\n",
    "    # Now the secondary  forces  \n",
    "    if fa_data.actuator_type.name == \"DAA\":\n",
    "        bump = f\"secondaryTest{fa_data.s_index}\"\n",
    "        force = f\"secondaryCylinderForce{fa_data.s_index}\"\n",
    "        follow = f\"secondaryCylinderFollowingError{fa_data.s_index}\"\n",
    "        secondary_name = fa_data.orientation.name\n",
    "        if secondary_name in [\"X_PLUS\", \"X_MINUS\"]:\n",
    "            applied = f\"xForces{fa_data.x_index}\"\n",
    "        elif secondary_name in [\"Y_PLUS\", \"Y_MINUS\"]:\n",
    "            applied = f\"yForces{fa_data.y_index}\"\n",
    "        else:\n",
    "            raise ValueError(f\"Unknown secondary name {secondary_name}\")\n",
    "            \n",
    "        plot_bumps_and_errors(axs, bump, bt_result, force, follow, applied, secondary_name)\n",
    "\n",
    "    return\n"
   ]
  },
  {
   "cell_type": "markdown",
   "metadata": {},
   "source": [
    "## First run just one actuator"
   ]
  },
  {
   "cell_type": "code",
   "execution_count": null,
   "metadata": {
    "execution": {
     "iopub.execute_input": "2024-09-14T13:54:44.045705Z",
     "iopub.status.busy": "2024-09-14T13:54:44.045319Z",
     "iopub.status.idle": "2024-09-14T13:54:45.810161Z",
     "shell.execute_reply": "2024-09-14T13:54:45.809850Z",
     "shell.execute_reply.started": "2024-09-14T13:54:44.045691Z"
    },
    "tags": []
   },
   "outputs": [],
   "source": [
    "%matplotlib inline\n",
    "id = 133\n",
    "fig = plt.figure(figsize=(10,12))\n",
    "actuator_error(fig, client, id, bumps)\n",
    "plt.savefig(str(data_dir / f\"Bump_Test_Trends_{id}.png\"))"
   ]
  },
  {
   "cell_type": "markdown",
   "metadata": {},
   "source": [
    "# Now run the whole bump test"
   ]
  },
  {
   "cell_type": "code",
   "execution_count": null,
   "metadata": {
    "execution": {
     "iopub.execute_input": "2024-09-14T12:27:35.404838Z",
     "iopub.status.busy": "2024-09-14T12:27:35.404527Z",
     "iopub.status.idle": "2024-09-14T12:29:42.029946Z",
     "shell.execute_reply": "2024-09-14T12:29:42.029571Z",
     "shell.execute_reply.started": "2024-09-14T12:27:35.404824Z"
    },
    "jupyter": {
     "outputs_hidden": true
    },
    "tags": []
   },
   "outputs": [],
   "source": [
    "timestamp = bumps.index[0].isoformat().split('.')[0].replace('-','').replace(':','')\n",
    "pdf = PdfPages(str(data_dir / f\"Bump_Test_Trends_{timestamp}.pdf\"))\n",
    "fig = plt.figure(figsize=(10,10))\n",
    "for index in range(len(FATable)):\n",
    "    try:\n",
    "        id = FATable[index].actuator_id\n",
    "        actuator_error(fig, client, id, bumps)\n",
    "        pdf.savefig(fig)  # saves the current figure into a pdf page\n",
    "        print(f\"Plot for actuator {id} succeeded!\")\n",
    "        plt.clf()\n",
    "    except:\n",
    "        print(f\"Plot for actuator {id} failed!\")\n",
    "        continue\n",
    "pdf.close()\n"
   ]
  }
 ],
 "metadata": {
  "kernelspec": {
   "display_name": "LSST",
   "language": "python",
   "name": "lsst"
  },
  "language_info": {
   "codemirror_mode": {
    "name": "ipython",
    "version": 3
   },
   "file_extension": ".py",
   "mimetype": "text/x-python",
   "name": "python",
   "nbconvert_exporter": "python",
   "pygments_lexer": "ipython3",
   "version": "3.11.9"
  }
 },
 "nbformat": 4,
 "nbformat_minor": 4
}
