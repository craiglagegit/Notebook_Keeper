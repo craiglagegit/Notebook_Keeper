{
 "cells": [
  {
   "cell_type": "markdown",
   "metadata": {},
   "source": [
    "# M1M3 cell learning\n",
    "Craig Lage - 14-Apr-23 \\\n",
    "The 17 tons of mirror are supported by 156 pneumatic actuators where 44 are single-axis and provide support only on the axial direction, 100 are dual-axis providing support in the axial and lateral direction, and 12 are dual-axis providing support in the axial and cross lateral directions. \\\n",
    "Positioning is provided by 6 hard points in a hexapod configuration which moves the mirror to a fixed operational position that shall be maintained during telescope operations. The remaining optical elements will be moved relative to this position in order to align the telescope optics. Support and optical figure correction is provided by 112 dual axis and 44 single axis pneumatic actuators. "
   ]
  },
  {
   "cell_type": "code",
   "execution_count": null,
   "metadata": {
    "execution": {
     "iopub.execute_input": "2023-05-09T13:30:03.109121Z",
     "iopub.status.busy": "2023-05-09T13:30:03.108505Z",
     "iopub.status.idle": "2023-05-09T13:30:03.589633Z",
     "shell.execute_reply": "2023-05-09T13:30:03.589121Z",
     "shell.execute_reply.started": "2023-05-09T13:30:03.109104Z"
    },
    "tags": []
   },
   "outputs": [],
   "source": [
    "import sys, time, os, asyncio, glob\n",
    "from datetime import datetime\n",
    "import numpy as np\n",
    "import matplotlib.pyplot as plt\n",
    "from matplotlib.backends.backend_pdf import PdfPages\n",
    "import pickle as pkl\n",
    "from astropy.time import Time, TimeDelta\n",
    "import lsst.ts.cRIOpy.M1M3FATable as M1M3FATable\n",
    "from scipy.interpolate import UnivariateSpline\n",
    "from lsst_efd_client import EfdClient"
   ]
  },
  {
   "cell_type": "code",
   "execution_count": null,
   "metadata": {
    "execution": {
     "iopub.execute_input": "2023-05-09T13:30:04.088570Z",
     "iopub.status.busy": "2023-05-09T13:30:04.088409Z",
     "iopub.status.idle": "2023-05-09T13:30:04.638927Z",
     "shell.execute_reply": "2023-05-09T13:30:04.638448Z",
     "shell.execute_reply.started": "2023-05-09T13:30:04.088555Z"
    },
    "tags": []
   },
   "outputs": [],
   "source": [
    "client = EfdClient('usdf_efd')\n",
    "FATABLE = M1M3FATable.FATABLE"
   ]
  },
  {
   "cell_type": "code",
   "execution_count": null,
   "metadata": {
    "execution": {
     "iopub.execute_input": "2023-05-09T13:30:05.670135Z",
     "iopub.status.busy": "2023-05-09T13:30:05.669982Z",
     "iopub.status.idle": "2023-05-09T13:30:05.673083Z",
     "shell.execute_reply": "2023-05-09T13:30:05.672669Z",
     "shell.execute_reply.started": "2023-05-09T13:30:05.670122Z"
    },
    "tags": []
   },
   "outputs": [],
   "source": [
    "# Times of breakaway test\n",
    "start = Time(\"2023-05-03T15:00:00\", scale='utc')\n",
    "end = Time(\"2023-05-03T17:00:00\", scale='utc')"
   ]
  },
  {
   "cell_type": "code",
   "execution_count": null,
   "metadata": {
    "execution": {
     "iopub.execute_input": "2023-05-09T13:30:06.765165Z",
     "iopub.status.busy": "2023-05-09T13:30:06.765012Z",
     "iopub.status.idle": "2023-05-09T13:30:06.808744Z",
     "shell.execute_reply": "2023-05-09T13:30:06.808266Z",
     "shell.execute_reply.started": "2023-05-09T13:30:06.765151Z"
    },
    "tags": []
   },
   "outputs": [],
   "source": [
    "hardpoints = await client.select_time_series(\"lsst.sal.MTM1M3.logevent_hardpointTestStatus\", \"*\", start, end)"
   ]
  },
  {
   "cell_type": "code",
   "execution_count": null,
   "metadata": {
    "execution": {
     "iopub.execute_input": "2023-05-09T13:30:07.693773Z",
     "iopub.status.busy": "2023-05-09T13:30:07.693596Z",
     "iopub.status.idle": "2023-05-09T13:30:07.696698Z",
     "shell.execute_reply": "2023-05-09T13:30:07.696245Z",
     "shell.execute_reply.started": "2023-05-09T13:30:07.693758Z"
    },
    "tags": []
   },
   "outputs": [],
   "source": [
    "len(hardpoints)"
   ]
  },
  {
   "cell_type": "code",
   "execution_count": null,
   "metadata": {
    "execution": {
     "iopub.execute_input": "2023-05-09T13:30:09.063017Z",
     "iopub.status.busy": "2023-05-09T13:30:09.062767Z",
     "iopub.status.idle": "2023-05-09T13:30:09.066279Z",
     "shell.execute_reply": "2023-05-09T13:30:09.065889Z",
     "shell.execute_reply.started": "2023-05-09T13:30:09.063003Z"
    },
    "tags": []
   },
   "outputs": [],
   "source": [
    "hardpoints.columns"
   ]
  },
  {
   "cell_type": "markdown",
   "metadata": {},
   "source": [
    "## class HardpointTest(enum.IntEnum): \n",
    "    NOTTESTED = 1 \n",
    "    MOVINGNEGATIVE = 2 \n",
    "    TESTINGPOSITIVE = 3 \n",
    "    TESTINGNEGATIVE = 4 \n",
    "    MOVINGREFERENCE = 5 \n",
    "    PASSED = 6 \n",
    "    FAILED = 7 "
   ]
  },
  {
   "cell_type": "code",
   "execution_count": null,
   "metadata": {
    "execution": {
     "iopub.execute_input": "2023-05-09T13:30:23.255314Z",
     "iopub.status.busy": "2023-05-09T13:30:23.254588Z",
     "iopub.status.idle": "2023-05-09T13:30:23.417337Z",
     "shell.execute_reply": "2023-05-09T13:30:23.416829Z",
     "shell.execute_reply.started": "2023-05-09T13:30:23.255296Z"
    },
    "tags": []
   },
   "outputs": [],
   "source": [
    "for i in range(6):\n",
    "    column = f\"testState{i}\"\n",
    "    hardpoints[column].plot()"
   ]
  },
  {
   "cell_type": "code",
   "execution_count": null,
   "metadata": {
    "execution": {
     "iopub.execute_input": "2023-05-08T15:10:06.730466Z",
     "iopub.status.busy": "2023-05-08T15:10:06.730102Z",
     "iopub.status.idle": "2023-05-08T15:10:06.733721Z",
     "shell.execute_reply": "2023-05-08T15:10:06.733262Z",
     "shell.execute_reply.started": "2023-05-08T15:10:06.730448Z"
    },
    "tags": []
   },
   "outputs": [],
   "source": [
    "timestamp = hardpoints.index[0].isoformat().split('.')[0].replace('-','').replace(':','')\n",
    "print(timestamp)"
   ]
  },
  {
   "cell_type": "code",
   "execution_count": null,
   "metadata": {
    "execution": {
     "iopub.execute_input": "2023-05-09T14:07:01.283852Z",
     "iopub.status.busy": "2023-05-09T14:07:01.283627Z",
     "iopub.status.idle": "2023-05-09T14:07:25.332842Z",
     "shell.execute_reply": "2023-05-09T14:07:25.332309Z",
     "shell.execute_reply.started": "2023-05-09T14:07:01.283836Z"
    },
    "tags": []
   },
   "outputs": [],
   "source": [
    "nx = 3; ny = 2\n",
    "fig, axs = plt.subplots(nx, ny, figsize=(8,10))\n",
    "plt.subplots_adjust(hspace=0.5, wspace=0.5)\n",
    "timestamp = hardpoints.index[0].isoformat().split('.')[0].replace('-','').replace(':','')\n",
    "plt.suptitle(f\"Hardpoints tests {timestamp}\")\n",
    "for i in range(nx):\n",
    "    for j in range(ny):\n",
    "        ax = axs[i,j]\n",
    "        index = i * ny + j\n",
    "        plotStart = hardpoints[hardpoints[f'testState{index}']==2]['private_kafkaStamp'][0] - 1.0\n",
    "        plotEnd = hardpoints[hardpoints[f'testState{index}']==6]['private_kafkaStamp'][0] + 1.0\n",
    "        testingPositive = hardpoints[hardpoints[f'testState{index}']==3]['private_kafkaStamp'][0]\n",
    "        testingPositive = Time(testingPositive, format='unix_tai', scale='tai').utc.isot\n",
    "        testingNegative = hardpoints[hardpoints[f'testState{index}']==4]['private_kafkaStamp'][0]\n",
    "        testingNegative = Time(testingNegative, format='unix_tai', scale='tai').utc.isot\n",
    "        start = Time(plotStart, format='unix_tai', scale='tai')\n",
    "        end = Time(plotEnd, format='unix_tai', scale='tai')\n",
    "        hardpointData = await client.select_time_series(\"lsst.sal.MTM1M3.hardpointActuatorData\", \"*\", start.utc, end.utc)\n",
    "        hardpointData[f'displacement{index}'].plot(ax=ax, color='green', label='Displacement')\n",
    "        ax.set_ylim(-0.01,0.025)\n",
    "        ax.axvline(testingPositive, ls='--')\n",
    "        ax.axvline(testingNegative, ls='--')\n",
    "        ax2 = ax.twinx()\n",
    "        hardpointData[f'measuredForce{index}'].plot(ax=ax2, color='red', label='Force')\n",
    "        ax.set_title(f'Hardpoint {index}')\n",
    "        ax.set_ylabel('Displacement (m?)')\n",
    "        ax.legend(loc='upper left', fontsize=6)\n",
    "        ax2.legend(loc='upper right', fontsize=6)\n",
    "        ax2.set_ylim(-4000, 4000)\n",
    "        ax.set_ylabel('Force (nt)')\n",
    "plt.savefig(f\"/home/c/cslage/u/MTM1M3/data/Hardpoint_Test{timestamp}.pdf\")"
   ]
  },
  {
   "cell_type": "markdown",
   "metadata": {},
   "source": [
    "## Given an actuator ID, this plots the bump test result"
   ]
  },
  {
   "cell_type": "code",
   "execution_count": null,
   "metadata": {
    "execution": {
     "iopub.execute_input": "2023-05-09T14:05:07.936423Z",
     "iopub.status.busy": "2023-05-09T14:05:07.935827Z",
     "iopub.status.idle": "2023-05-09T14:05:11.039786Z",
     "shell.execute_reply": "2023-05-09T14:05:11.039289Z",
     "shell.execute_reply.started": "2023-05-09T14:05:07.936405Z"
    },
    "tags": []
   },
   "outputs": [],
   "source": [
    "index = 1\n",
    "plotStart = hardpoints[hardpoints[f'testState{index}']==2]['private_kafkaStamp'][0] - 1.0\n",
    "plotEnd = hardpoints[hardpoints[f'testState{index}']==6]['private_kafkaStamp'][0] + 1.0\n",
    "start = Time(plotStart, format='unix_tai', scale='tai')\n",
    "end = Time(plotEnd, format='unix_tai', scale='tai')\n",
    "hardpointData = await client.select_time_series(\"lsst.sal.MTM1M3.hardpointActuatorData\", \"*\", start.utc, end.utc)\n",
    "\n",
    "print(hardpointData.columns)\n",
    "testingPositive = hardpoints[hardpoints[f'testState{index}']==3]['private_kafkaStamp'][0]\n",
    "testingPositive = Time(testingPositive, format='unix_tai', scale='tai').utc.isot\n",
    "print(testingPositive)"
   ]
  },
  {
   "cell_type": "code",
   "execution_count": null,
   "metadata": {
    "execution": {
     "iopub.execute_input": "2023-05-09T13:36:32.307757Z",
     "iopub.status.busy": "2023-05-09T13:36:32.307532Z",
     "iopub.status.idle": "2023-05-09T13:36:35.156977Z",
     "shell.execute_reply": "2023-05-09T13:36:35.156501Z",
     "shell.execute_reply.started": "2023-05-09T13:36:32.307741Z"
    },
    "tags": []
   },
   "outputs": [],
   "source": [
    "plt.subplot(2,1,1)\n",
    "hardpointData['xPosition'].plot(label='X')\n",
    "hardpointData['yPosition'].plot(label='Y')\n",
    "hardpointData['zPosition'].plot(label='Z')\n",
    "plt.legend()\n",
    "plt.subplot(2,1,2)\n",
    "hardpointData['xRotation'].plot(label='XRot')\n",
    "hardpointData['yRotation'].plot(label='YRot')\n",
    "hardpointData['zRotation'].plot(label='ZRot')\n",
    "plt.legend()"
   ]
  },
  {
   "cell_type": "code",
   "execution_count": null,
   "metadata": {},
   "outputs": [],
   "source": []
  }
 ],
 "metadata": {
  "kernelspec": {
   "display_name": "LSST",
   "language": "python",
   "name": "lsst"
  },
  "language_info": {
   "codemirror_mode": {
    "name": "ipython",
    "version": 3
   },
   "file_extension": ".py",
   "mimetype": "text/x-python",
   "name": "python",
   "nbconvert_exporter": "python",
   "pygments_lexer": "ipython3",
   "version": "3.10.10"
  }
 },
 "nbformat": 4,
 "nbformat_minor": 4
}
