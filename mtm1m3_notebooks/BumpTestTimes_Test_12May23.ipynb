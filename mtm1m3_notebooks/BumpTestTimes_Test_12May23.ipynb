{
 "cells": [
  {
   "cell_type": "markdown",
   "id": "06f84be5-d988-4393-8b17-ad366ec32a19",
   "metadata": {},
   "source": [
    "## Code to test bump test time finding for DM-39166\n",
    "Craig Lage - 12-May-23"
   ]
  },
  {
   "cell_type": "code",
   "execution_count": null,
   "id": "5d07ec53-c3a0-4853-ae05-f670bc35d75a",
   "metadata": {
    "execution": {
     "iopub.execute_input": "2023-05-12T16:20:06.058204Z",
     "iopub.status.busy": "2023-05-12T16:20:06.058068Z",
     "iopub.status.idle": "2023-05-12T16:20:06.123921Z",
     "shell.execute_reply": "2023-05-12T16:20:06.123442Z",
     "shell.execute_reply.started": "2023-05-12T16:20:06.058188Z"
    },
    "tags": []
   },
   "outputs": [],
   "source": [
    "from lsst_efd_client import EfdClient\n",
    "from lsst.ts.cRIOpy import BumpTestTimes"
   ]
  },
  {
   "cell_type": "code",
   "execution_count": null,
   "id": "66b6d51c-c8bf-4f56-903b-de4f8f7f59b2",
   "metadata": {
    "execution": {
     "iopub.execute_input": "2023-05-12T16:20:06.124823Z",
     "iopub.status.busy": "2023-05-12T16:20:06.124538Z",
     "iopub.status.idle": "2023-05-12T16:20:06.554713Z",
     "shell.execute_reply": "2023-05-12T16:20:06.554220Z",
     "shell.execute_reply.started": "2023-05-12T16:20:06.124809Z"
    },
    "tags": []
   },
   "outputs": [],
   "source": [
    "client = EfdClient('usdf_efd')\n",
    "bumpTestTimes = BumpTestTimes.BumpTestTimes(client)"
   ]
  },
  {
   "cell_type": "code",
   "execution_count": null,
   "id": "2de24c23-8ad7-4632-bdb5-e2bf0242c4bb",
   "metadata": {
    "execution": {
     "iopub.execute_input": "2023-05-12T16:20:06.555521Z",
     "iopub.status.busy": "2023-05-12T16:20:06.555370Z",
     "iopub.status.idle": "2023-05-12T16:20:14.783356Z",
     "shell.execute_reply": "2023-05-12T16:20:14.782835Z",
     "shell.execute_reply.started": "2023-05-12T16:20:06.555508Z"
    },
    "tags": []
   },
   "outputs": [],
   "source": [
    "bumpTimes = await bumpTestTimes.findTimes(id=101, start='2023-04-17T00:00:00', end='2023-05-12T00:00:00')"
   ]
  },
  {
   "cell_type": "code",
   "execution_count": null,
   "id": "8d39deae-f119-48d1-b108-be641189a09a",
   "metadata": {
    "execution": {
     "iopub.execute_input": "2023-05-12T16:20:14.793548Z",
     "iopub.status.busy": "2023-05-12T16:20:14.793410Z",
     "iopub.status.idle": "2023-05-12T16:20:14.796356Z",
     "shell.execute_reply": "2023-05-12T16:20:14.795935Z",
     "shell.execute_reply.started": "2023-05-12T16:20:14.793535Z"
    },
    "tags": []
   },
   "outputs": [],
   "source": [
    "for [start, end] in bumpTimes:\n",
    "    print(start, end)"
   ]
  }
 ],
 "metadata": {
  "kernelspec": {
   "display_name": "LSST",
   "language": "python",
   "name": "lsst"
  },
  "language_info": {
   "codemirror_mode": {
    "name": "ipython",
    "version": 3
   },
   "file_extension": ".py",
   "mimetype": "text/x-python",
   "name": "python",
   "nbconvert_exporter": "python",
   "pygments_lexer": "ipython3",
   "version": "3.10.10"
  }
 },
 "nbformat": 4,
 "nbformat_minor": 5
}
