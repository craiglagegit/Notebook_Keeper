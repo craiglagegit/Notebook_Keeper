{
 "cells": [
  {
   "cell_type": "markdown",
   "id": "06f84be5-d988-4393-8b17-ad366ec32a19",
   "metadata": {},
   "source": [
    "## Code to test bump test time finding for DM-39166\n",
    "Craig Lage - 12-May-23"
   ]
  },
  {
   "cell_type": "code",
   "execution_count": null,
   "id": "5d07ec53-c3a0-4853-ae05-f670bc35d75a",
   "metadata": {
    "execution": {
     "iopub.execute_input": "2023-05-12T18:17:30.828069Z",
     "iopub.status.busy": "2023-05-12T18:17:30.827938Z",
     "iopub.status.idle": "2023-05-12T18:17:30.895524Z",
     "shell.execute_reply": "2023-05-12T18:17:30.895100Z",
     "shell.execute_reply.started": "2023-05-12T18:17:30.828056Z"
    },
    "tags": []
   },
   "outputs": [],
   "source": [
    "from lsst_efd_client import EfdClient\n",
    "from lsst.ts.cRIOpy import BumpTestTimes"
   ]
  },
  {
   "cell_type": "code",
   "execution_count": null,
   "id": "66b6d51c-c8bf-4f56-903b-de4f8f7f59b2",
   "metadata": {
    "execution": {
     "iopub.execute_input": "2023-05-12T18:17:31.006925Z",
     "iopub.status.busy": "2023-05-12T18:17:31.006619Z",
     "iopub.status.idle": "2023-05-12T18:17:31.440695Z",
     "shell.execute_reply": "2023-05-12T18:17:31.440191Z",
     "shell.execute_reply.started": "2023-05-12T18:17:31.006910Z"
    },
    "tags": []
   },
   "outputs": [],
   "source": [
    "client = EfdClient('usdf_efd')\n",
    "bumpTestTimes = BumpTestTimes.BumpTestTimes(client)"
   ]
  },
  {
   "cell_type": "code",
   "execution_count": null,
   "id": "2de24c23-8ad7-4632-bdb5-e2bf0242c4bb",
   "metadata": {
    "execution": {
     "iopub.execute_input": "2023-05-12T18:17:31.441861Z",
     "iopub.status.busy": "2023-05-12T18:17:31.441706Z",
     "iopub.status.idle": "2023-05-12T18:17:39.201899Z",
     "shell.execute_reply": "2023-05-12T18:17:39.201366Z",
     "shell.execute_reply.started": "2023-05-12T18:17:31.441846Z"
    },
    "tags": []
   },
   "outputs": [],
   "source": [
    "primaryTimes, secondaryTimes = await bumpTestTimes.findTimes(id=102, start='2023-04-17T00:00:00', end='2023-05-12T00:00:00')"
   ]
  },
  {
   "cell_type": "code",
   "execution_count": null,
   "id": "8d39deae-f119-48d1-b108-be641189a09a",
   "metadata": {
    "execution": {
     "iopub.execute_input": "2023-05-12T18:17:39.202784Z",
     "iopub.status.busy": "2023-05-12T18:17:39.202623Z",
     "iopub.status.idle": "2023-05-12T18:17:39.206214Z",
     "shell.execute_reply": "2023-05-12T18:17:39.205787Z",
     "shell.execute_reply.started": "2023-05-12T18:17:39.202770Z"
    },
    "tags": []
   },
   "outputs": [],
   "source": [
    "print(len(primaryTimes))\n",
    "for [pStart, pEnd], [sStart, sEnd] in zip(primaryTimes, secondaryTimes):\n",
    "    print(pStart, pEnd, sStart, sEnd)"
   ]
  },
  {
   "cell_type": "code",
   "execution_count": null,
   "id": "d0a10bbd-4337-474b-8339-3feea20ba34b",
   "metadata": {},
   "outputs": [],
   "source": []
  }
 ],
 "metadata": {
  "kernelspec": {
   "display_name": "LSST",
   "language": "python",
   "name": "lsst"
  },
  "language_info": {
   "codemirror_mode": {
    "name": "ipython",
    "version": 3
   },
   "file_extension": ".py",
   "mimetype": "text/x-python",
   "name": "python",
   "nbconvert_exporter": "python",
   "pygments_lexer": "ipython3",
   "version": "3.10.10"
  }
 },
 "nbformat": 4,
 "nbformat_minor": 5
}
