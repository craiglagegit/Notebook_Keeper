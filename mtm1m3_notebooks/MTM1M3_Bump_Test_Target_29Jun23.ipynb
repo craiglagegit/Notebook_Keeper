{
 "cells": [
  {
   "cell_type": "markdown",
   "metadata": {},
   "source": [
    "# M1M3 cell learning\n",
    "Craig Lage - 14-Apr-23 \\\n",
    "The 17 tons of mirror are supported by 156 pneumatic actuators where 44 are single-axis and provide support only on the axial direction, 100 are dual-axis providing support in the axial and lateral direction, and 12 are dual-axis providing support in the axial and cross lateral directions. \\\n",
    "Positioning is provided by 6 hard points in a hexapod configuration which moves the mirror to a fixed operational position that shall be maintained during telescope operations. The remaining optical elements will be moved relative to this position in order to align the telescope optics. Support and optical figure correction is provided by 112 dual axis and 44 single axis pneumatic actuators. "
   ]
  },
  {
   "cell_type": "code",
   "execution_count": null,
   "metadata": {
    "execution": {
     "iopub.execute_input": "2023-06-29T20:54:33.296789Z",
     "iopub.status.busy": "2023-06-29T20:54:33.296422Z",
     "iopub.status.idle": "2023-06-29T20:54:34.138504Z",
     "shell.execute_reply": "2023-06-29T20:54:34.137882Z",
     "shell.execute_reply.started": "2023-06-29T20:54:33.296770Z"
    },
    "tags": []
   },
   "outputs": [],
   "source": [
    "import sys, time, os, asyncio, glob\n",
    "from datetime import datetime\n",
    "import numpy as np\n",
    "import matplotlib.pyplot as plt\n",
    "from matplotlib.backends.backend_pdf import PdfPages\n",
    "import pickle as pkl\n",
    "from astropy.time import Time, TimeDelta\n",
    "import lsst.ts.cRIOpy.M1M3FATable as M1M3FATable\n",
    "from scipy.interpolate import UnivariateSpline\n",
    "from lsst_efd_client import EfdClient"
   ]
  },
  {
   "cell_type": "code",
   "execution_count": null,
   "metadata": {
    "execution": {
     "iopub.execute_input": "2023-06-29T20:54:35.582090Z",
     "iopub.status.busy": "2023-06-29T20:54:35.581687Z",
     "iopub.status.idle": "2023-06-29T20:54:36.654306Z",
     "shell.execute_reply": "2023-06-29T20:54:36.653692Z",
     "shell.execute_reply.started": "2023-06-29T20:54:35.582070Z"
    },
    "tags": []
   },
   "outputs": [],
   "source": [
    "client = EfdClient('summit_efd')\n",
    "FATABLE = M1M3FATable.FATABLE"
   ]
  },
  {
   "cell_type": "code",
   "execution_count": null,
   "metadata": {
    "execution": {
     "iopub.execute_input": "2023-06-29T20:54:36.914577Z",
     "iopub.status.busy": "2023-06-29T20:54:36.914155Z",
     "iopub.status.idle": "2023-06-29T20:54:36.918352Z",
     "shell.execute_reply": "2023-06-29T20:54:36.917842Z",
     "shell.execute_reply.started": "2023-06-29T20:54:36.914559Z"
    },
    "tags": []
   },
   "outputs": [],
   "source": [
    "# Times of bump test\n",
    "start = Time(\"2023-04-17T10:00:00\", scale='utc')\n",
    "end = Time(\"2023-04-17T11:15:00\", scale='utc')"
   ]
  },
  {
   "cell_type": "code",
   "execution_count": null,
   "metadata": {
    "execution": {
     "iopub.execute_input": "2023-06-29T20:54:39.091999Z",
     "iopub.status.busy": "2023-06-29T20:54:39.091628Z",
     "iopub.status.idle": "2023-06-29T20:54:39.820998Z",
     "shell.execute_reply": "2023-06-29T20:54:39.820359Z",
     "shell.execute_reply.started": "2023-06-29T20:54:39.091981Z"
    },
    "tags": []
   },
   "outputs": [],
   "source": [
    "bumps = await client.select_time_series(\"lsst.sal.MTM1M3.logevent_forceActuatorBumpTestStatus\", \"*\", start, end)"
   ]
  },
  {
   "cell_type": "code",
   "execution_count": null,
   "metadata": {
    "execution": {
     "iopub.execute_input": "2023-06-29T20:54:41.167254Z",
     "iopub.status.busy": "2023-06-29T20:54:41.166876Z",
     "iopub.status.idle": "2023-06-29T20:54:41.171042Z",
     "shell.execute_reply": "2023-06-29T20:54:41.170544Z",
     "shell.execute_reply.started": "2023-06-29T20:54:41.167235Z"
    },
    "tags": []
   },
   "outputs": [],
   "source": [
    "len(bumps)"
   ]
  },
  {
   "cell_type": "markdown",
   "metadata": {},
   "source": [
    "## Given an actuator ID, this plots the bump applied forces"
   ]
  },
  {
   "cell_type": "code",
   "execution_count": null,
   "metadata": {
    "execution": {
     "iopub.execute_input": "2023-06-29T21:41:22.446641Z",
     "iopub.status.busy": "2023-06-29T21:41:22.446259Z",
     "iopub.status.idle": "2023-06-29T21:41:22.455504Z",
     "shell.execute_reply": "2023-06-29T21:41:22.455109Z",
     "shell.execute_reply.started": "2023-06-29T21:41:22.446622Z"
    },
    "tags": []
   },
   "outputs": [],
   "source": [
    "async def plotBumpTestAppliedForces(fig, bumps, id):\n",
    "    thisBump = bumps[bumps['actuatorId']==id]\n",
    "    index = M1M3FATable.actuatorIDToIndex(id)\n",
    "    primaryBump = f\"primaryTest{FATABLE[index][M1M3FATable.FATABLE_ZINDEX]}\"\n",
    "    primaryForce = f\"zForces{FATABLE[index][M1M3FATable.FATABLE_ZINDEX]}\"\n",
    "    if FATABLE[index][M1M3FATable.FATABLE_TYPE] == 'DAA':\n",
    "        if FATABLE[index][M1M3FATable.FATABLE_ORIENTATION] in ['+Y', '-Y']:\n",
    "            secondaryBump = f\"secondaryTest{FATABLE[index][M1M3FATable.FATABLE_SINDEX]}\"\n",
    "            secondaryForce = f\"yForces{FATABLE[index][M1M3FATable.FATABLE_YINDEX]}\"\n",
    "            secondaryName = FATABLE[index][M1M3FATable.FATABLE_ORIENTATION]\n",
    "        else:\n",
    "            secondaryBump = f\"secondaryTest{FATABLE[index][M1M3FATable.FATABLE_SINDEX]}\"\n",
    "            secondaryForce = f\"xForces{FATABLE[index][M1M3FATable.FATABLE_XINDEX]}\"\n",
    "            secondaryName = FATABLE[index][M1M3FATable.FATABLE_ORIENTATION]\n",
    "    else:\n",
    "        secondaryName = None\n",
    "\n",
    "    plt.subplots_adjust(wspace=0.3)\n",
    "    plt.subplot(1,2,1)\n",
    "    plotStart = thisBump[thisBump[primaryBump]==2]['timestamp'].values[0] - 1.0\n",
    "    plotEnd = plotStart + 14.0 #thisBump[thisBump[primaryBump]==5]['timestamp'].values[0] + 2.0\n",
    "    start = Time(plotStart, format='unix_tai', scale='tai')\n",
    "    end = Time(plotEnd, format='unix_tai', scale='tai')\n",
    "    forces = await client.select_time_series(\"lsst.sal.MTM1M3.appliedForces\", [primaryForce, 'timestamp'], start.utc, end.utc)\n",
    "    times = forces['timestamp'].values\n",
    "    t0 = times[0]\n",
    "    times -= t0\n",
    "    plotStart -= t0\n",
    "    plotEnd -= t0\n",
    "    plt.title(f\"Primary - Z - ID:{id}\")\n",
    "    plt.plot(times, forces[primaryForce].values)\n",
    "    plt.text(1.0, 350.0, \"lsst.sal.MTM1M3.appliedForces.\"+primaryForce, color='g')\n",
    "\n",
    "    plt.xlim(plotStart, plotEnd)\n",
    "    plt.ylim(-400,400)\n",
    "    plt.xlabel(\"Time (seconds)\")\n",
    "    plt.ylabel(\"Force (nt)\")\n",
    "    plt.subplot(1,2,2)\n",
    "    if secondaryName is not None:\n",
    "        plt.title(f\"Secondary - {secondaryName} - ID:{id}\")\n",
    "        plotStart = thisBump[thisBump[secondaryBump]==2]['timestamp'].values[0] - 1.0\n",
    "        plotEnd = plotStart + 14.0 #thisBump[thisBump[secondaryBump]==5]['timestamp'].values[0] + 2.0\n",
    "        start = Time(plotStart, format='unix_tai', scale='tai')\n",
    "        end = Time(plotEnd, format='unix_tai', scale='tai')\n",
    "        forces = await client.select_time_series(\"lsst.sal.MTM1M3.appliedForces\", [secondaryForce, 'timestamp'], start.utc, end.utc)\n",
    "        times = forces['timestamp'].values\n",
    "        t0 = times[0]\n",
    "        times -= t0\n",
    "        plotStart -= t0\n",
    "        plotEnd -= t0\n",
    "        plt.plot(times, forces[secondaryForce].values)\n",
    "        plt.text(1.0, 350.0, \"lsst.sal.MTM1M3.appliedForces.\"+secondaryForce, color='g')\n",
    "        plt.xlim(plotStart, plotEnd)\n",
    "        plt.ylim(-400,400)\n",
    "        plt.xlabel(\"Time (seconds)\")\n",
    "        plt.ylabel(\"Force (nt)\")\n",
    "    else:\n",
    "        plt.title(\"No Secondary\")\n",
    "        plt.xticks([])\n",
    "        plt.yticks([])\n",
    "    return"
   ]
  },
  {
   "cell_type": "code",
   "execution_count": null,
   "metadata": {
    "execution": {
     "iopub.execute_input": "2023-06-29T21:41:23.098269Z",
     "iopub.status.busy": "2023-06-29T21:41:23.097968Z",
     "iopub.status.idle": "2023-06-29T21:41:23.457776Z",
     "shell.execute_reply": "2023-06-29T21:41:23.457351Z",
     "shell.execute_reply.started": "2023-06-29T21:41:23.098251Z"
    },
    "tags": []
   },
   "outputs": [],
   "source": [
    "fig = plt.figure(figsize=(10,5))\n",
    "await plotBumpTestAppliedForces(fig, bumps, 227)"
   ]
  },
  {
   "cell_type": "markdown",
   "metadata": {},
   "source": [
    "## Given an actuator ID, this plots the bump test result"
   ]
  },
  {
   "cell_type": "code",
   "execution_count": null,
   "metadata": {
    "execution": {
     "iopub.execute_input": "2023-06-29T21:44:25.502315Z",
     "iopub.status.busy": "2023-06-29T21:44:25.501944Z",
     "iopub.status.idle": "2023-06-29T21:44:25.511339Z",
     "shell.execute_reply": "2023-06-29T21:44:25.510829Z",
     "shell.execute_reply.started": "2023-06-29T21:44:25.502297Z"
    },
    "tags": []
   },
   "outputs": [],
   "source": [
    "async def plotBumpTestResults(fig, bumps, id):\n",
    "    thisBump = bumps[bumps['actuatorId']==id]\n",
    "    index = M1M3FATable.actuatorIDToIndex(id)\n",
    "    primaryBump = f\"primaryTest{FATABLE[index][M1M3FATable.FATABLE_ZINDEX]}\"\n",
    "    primaryForce = f\"zForce{FATABLE[index][M1M3FATable.FATABLE_ZINDEX]}\"\n",
    "    if FATABLE[index][M1M3FATable.FATABLE_TYPE] == 'DAA':\n",
    "        if FATABLE[index][M1M3FATable.FATABLE_ORIENTATION] in ['+Y', '-Y']:\n",
    "            secondaryBump = f\"secondaryTest{FATABLE[index][M1M3FATable.FATABLE_SINDEX]}\"\n",
    "            secondaryForce = f\"yForce{FATABLE[index][M1M3FATable.FATABLE_YINDEX]}\"\n",
    "            secondaryName = FATABLE[index][M1M3FATable.FATABLE_ORIENTATION]\n",
    "        else:\n",
    "            secondaryBump = f\"secondaryTest{FATABLE[index][M1M3FATable.FATABLE_SINDEX]}\"\n",
    "            secondaryForce = f\"xForce{FATABLE[index][M1M3FATable.FATABLE_XINDEX]}\"\n",
    "            secondaryName = FATABLE[index][M1M3FATable.FATABLE_ORIENTATION]\n",
    "    else:\n",
    "        secondaryName = None\n",
    "\n",
    "    plt.subplots_adjust(wspace=0.3)\n",
    "    plt.subplot(1,2,1)\n",
    "    plotStart = thisBump[thisBump[primaryBump]==2]['timestamp'].values[0] - 1.0\n",
    "    plotEnd = plotStart + 14.0 #thisBump[thisBump[primaryBump]==5]['timestamp'].values[0] + 2.0\n",
    "    start = Time(plotStart, format='unix_tai', scale='tai')\n",
    "    end = Time(plotEnd, format='unix_tai', scale='tai')\n",
    "    forces = await client.select_time_series(\"lsst.sal.MTM1M3.forceActuatorData\", [primaryForce, 'timestamp'], start.utc, end.utc)\n",
    "    times = forces['timestamp'].values\n",
    "    t0 = times[0]\n",
    "    times -= t0\n",
    "    plotStart -= t0\n",
    "    plotEnd -= t0\n",
    "    plt.title(f\"Primary - Z - ID:{id}\")\n",
    "    plt.plot(times, forces[primaryForce].values)\n",
    "    plt.text(0.5, 350.0, \"lsst.sal.MTM1M3.forceActuatorData.\"+primaryForce, color='g')\n",
    "\n",
    "    plt.xlim(plotStart, plotEnd)\n",
    "    plt.ylim(-400,400)\n",
    "    plt.xlabel(\"Time (seconds)\")\n",
    "    plt.ylabel(\"Force (nt)\")\n",
    "    plt.subplot(1,2,2)\n",
    "    if secondaryName is not None:\n",
    "        plt.title(f\"Secondary - {secondaryName} - ID:{id}\")\n",
    "        plotStart = thisBump[thisBump[secondaryBump]==2]['timestamp'].values[0] - 1.0\n",
    "        plotEnd = plotStart + 14.0 #thisBump[thisBump[secondaryBump]==5]['timestamp'].values[0] + 2.0\n",
    "        start = Time(plotStart, format='unix_tai', scale='tai')\n",
    "        end = Time(plotEnd, format='unix_tai', scale='tai')\n",
    "        forces = await client.select_time_series(\"lsst.sal.MTM1M3.forceActuatorData\", [secondaryForce, 'timestamp'], start.utc, end.utc)\n",
    "        times = forces['timestamp'].values\n",
    "        t0 = times[0]\n",
    "        times -= t0\n",
    "        plotStart -= t0\n",
    "        plotEnd -= t0\n",
    "        plt.plot(times, forces[secondaryForce].values)\n",
    "        plt.text(0.5, 350.0, \"lsst.sal.MTM1M3.forceActuatorData.\"+secondaryForce, color='g')\n",
    "        plt.xlim(plotStart, plotEnd)\n",
    "        plt.ylim(-400,400)\n",
    "        plt.xlabel(\"Time (seconds)\")\n",
    "        plt.ylabel(\"Force (nt)\")\n",
    "    else:\n",
    "        plt.title(\"No Secondary\")\n",
    "        plt.xticks([])\n",
    "        plt.yticks([])\n",
    "    return"
   ]
  },
  {
   "cell_type": "code",
   "execution_count": null,
   "metadata": {
    "execution": {
     "iopub.execute_input": "2023-06-29T21:44:26.054285Z",
     "iopub.status.busy": "2023-06-29T21:44:26.053917Z",
     "iopub.status.idle": "2023-06-29T21:44:26.364584Z",
     "shell.execute_reply": "2023-06-29T21:44:26.364023Z",
     "shell.execute_reply.started": "2023-06-29T21:44:26.054268Z"
    },
    "tags": []
   },
   "outputs": [],
   "source": [
    "fig = plt.figure(figsize=(10,5))\n",
    "await plotBumpTestResults(fig, bumps, 227)"
   ]
  },
  {
   "cell_type": "markdown",
   "metadata": {
    "tags": []
   },
   "source": [
    "## Given an actuator ID, this plots the cylinder applied forces"
   ]
  },
  {
   "cell_type": "code",
   "execution_count": null,
   "metadata": {
    "execution": {
     "iopub.execute_input": "2023-06-29T23:11:49.230506Z",
     "iopub.status.busy": "2023-06-29T23:11:49.230136Z",
     "iopub.status.idle": "2023-06-29T23:11:49.239126Z",
     "shell.execute_reply": "2023-06-29T23:11:49.238616Z",
     "shell.execute_reply.started": "2023-06-29T23:11:49.230488Z"
    },
    "tags": []
   },
   "outputs": [],
   "source": [
    "async def plotBumpTestAppliedCylinderForces(fig, bumps, id):\n",
    "    thisBump = bumps[bumps['actuatorId']==id]\n",
    "    index = M1M3FATable.actuatorIDToIndex(id)\n",
    "    primaryBump = f\"primaryTest{FATABLE[index][M1M3FATable.FATABLE_ZINDEX]}\"\n",
    "    primaryForce = f\"primaryCylinderForces{FATABLE[index][M1M3FATable.FATABLE_ZINDEX]}\"\n",
    "    if FATABLE[index][M1M3FATable.FATABLE_TYPE] == 'DAA':\n",
    "        secondaryBump = f\"secondaryTest{FATABLE[index][M1M3FATable.FATABLE_SINDEX]}\"\n",
    "        secondaryForce = f\"secondaryCylinderForces{FATABLE[index][M1M3FATable.FATABLE_SINDEX]}\"\n",
    "        secondaryName = FATABLE[index][M1M3FATable.FATABLE_ORIENTATION]\n",
    "    else:\n",
    "        secondaryName = None\n",
    "\n",
    "    plt.subplots_adjust(wspace=0.3)\n",
    "    plt.subplot(1,2,1)\n",
    "    plotStart = thisBump[thisBump[primaryBump]==2]['timestamp'].values[0] - 1.0\n",
    "    plotEnd = plotStart + 28.0 #thisBump[thisBump[primaryBump]==5]['timestamp'].values[0] + 2.0\n",
    "    start = Time(plotStart, format='unix_tai', scale='tai')\n",
    "    end = Time(plotEnd, format='unix_tai', scale='tai')\n",
    "    forces = await client.select_time_series(\"lsst.sal.MTM1M3.appliedCylinderForces\", [primaryForce, 'timestamp'], start.utc, end.utc)\n",
    "    times = forces['timestamp'].values\n",
    "    t0 = times[0]\n",
    "    times -= t0\n",
    "    plotStart -= t0\n",
    "    plotEnd -= t0\n",
    "    plt.title(f\"Primary - Z - ID:{id}\")\n",
    "    plt.plot(times, forces[primaryForce].values)\n",
    "    plt.text(1.0, 340000.0, \"lsst.sal.MTM1M3.appliedCylinderForces.\\n\"+primaryForce, color='g')\n",
    "\n",
    "    plt.xlim(plotStart, plotEnd)\n",
    "    plt.ylim(-400000,400000)\n",
    "    plt.xlabel(\"Time (seconds)\")\n",
    "    plt.ylabel(\"Force mNt)\")\n",
    "    plt.subplot(1,2,2)\n",
    "    if secondaryName is not None:\n",
    "        plt.title(f\"Secondary - {secondaryName} - ID:{id}\")\n",
    "        plotStart = thisBump[thisBump[primaryBump]==2]['timestamp'].values[0] - 1.0\n",
    "        #plotStart = thisBump[thisBump[secondaryBump]==2]['timestamp'].values[0] - 1.0\n",
    "        plotEnd = plotStart + 28.0 #thisBump[thisBump[secondaryBump]==5]['timestamp'].values[0] + 2.0\n",
    "        start = Time(plotStart, format='unix_tai', scale='tai')\n",
    "        end = Time(plotEnd, format='unix_tai', scale='tai')\n",
    "        forces = await client.select_time_series(\"lsst.sal.MTM1M3.appliedCylinderForces\", [secondaryForce, 'timestamp'], start.utc, end.utc)\n",
    "        times = forces['timestamp'].values\n",
    "        t0 = times[0]\n",
    "        times -= t0\n",
    "        plotStart -= t0\n",
    "        plotEnd -= t0\n",
    "        plt.plot(times, forces[secondaryForce].values)\n",
    "        plt.text(1.0, 340000.0, \"lsst.sal.MTM1M3.appliedCylinderForces.\\n\"+secondaryForce, color='g')\n",
    "        plt.xlim(plotStart, plotEnd)\n",
    "        plt.ylim(-400000,400000)\n",
    "        plt.xlabel(\"Time (seconds)\")\n",
    "        plt.ylabel(\"Force (mNt)\")\n",
    "    else:\n",
    "        plt.title(\"No Secondary\")\n",
    "        plt.xticks([])\n",
    "        plt.yticks([])\n",
    "    return"
   ]
  },
  {
   "cell_type": "code",
   "execution_count": null,
   "metadata": {
    "execution": {
     "iopub.execute_input": "2023-06-29T23:11:49.544729Z",
     "iopub.status.busy": "2023-06-29T23:11:49.544313Z",
     "iopub.status.idle": "2023-06-29T23:11:49.846957Z",
     "shell.execute_reply": "2023-06-29T23:11:49.846547Z",
     "shell.execute_reply.started": "2023-06-29T23:11:49.544713Z"
    },
    "tags": []
   },
   "outputs": [],
   "source": [
    "fig = plt.figure(figsize=(10,5))\n",
    "await plotBumpTestAppliedCylinderForces(fig, bumps, 227)"
   ]
  },
  {
   "cell_type": "markdown",
   "metadata": {
    "tags": []
   },
   "source": [
    "## Given an actuator ID, this plots the cylinder measured forces"
   ]
  },
  {
   "cell_type": "code",
   "execution_count": null,
   "metadata": {
    "execution": {
     "iopub.execute_input": "2023-06-29T23:15:30.553013Z",
     "iopub.status.busy": "2023-06-29T23:15:30.552654Z",
     "iopub.status.idle": "2023-06-29T23:15:30.561313Z",
     "shell.execute_reply": "2023-06-29T23:15:30.560917Z",
     "shell.execute_reply.started": "2023-06-29T23:15:30.552994Z"
    },
    "tags": []
   },
   "outputs": [],
   "source": [
    "async def plotBumpTestCylinderForces(fig, bumps, id):\n",
    "    thisBump = bumps[bumps['actuatorId']==id]\n",
    "    index = M1M3FATable.actuatorIDToIndex(id)\n",
    "    primaryBump = f\"primaryTest{FATABLE[index][M1M3FATable.FATABLE_ZINDEX]}\"\n",
    "    primaryForce = f\"primaryCylinderForce{FATABLE[index][M1M3FATable.FATABLE_ZINDEX]}\"\n",
    "    if FATABLE[index][M1M3FATable.FATABLE_TYPE] == 'DAA':\n",
    "        secondaryBump = f\"secondaryTest{FATABLE[index][M1M3FATable.FATABLE_SINDEX]}\"\n",
    "        secondaryForce = f\"secondaryCylinderForce{FATABLE[index][M1M3FATable.FATABLE_SINDEX]}\"\n",
    "        secondaryName = FATABLE[index][M1M3FATable.FATABLE_ORIENTATION]\n",
    "    else:\n",
    "        secondaryName = None\n",
    "\n",
    "    plt.subplots_adjust(wspace=0.3)\n",
    "    plt.subplot(1,2,1)\n",
    "    plotStart = thisBump[thisBump[primaryBump]==2]['timestamp'].values[0] - 1.0\n",
    "    plotEnd = plotStart + 28.0 #thisBump[thisBump[primaryBump]==5]['timestamp'].values[0] + 2.0\n",
    "    start = Time(plotStart, format='unix_tai', scale='tai')\n",
    "    end = Time(plotEnd, format='unix_tai', scale='tai')\n",
    "    forces = await client.select_time_series(\"lsst.sal.MTM1M3.forceActuatorData\", [primaryForce, 'timestamp'], start.utc, end.utc)\n",
    "    times = forces['timestamp'].values\n",
    "    t0 = times[0]\n",
    "    times -= t0\n",
    "    plotStart -= t0\n",
    "    plotEnd -= t0\n",
    "    plt.title(f\"Primary - Z - ID:{id}\")\n",
    "    plt.plot(times, forces[primaryForce].values)\n",
    "    plt.text(1.0, 340.0, \"lsst.sal.MTM1M3.forceActuatorData.\\n\"+primaryForce, color='g')\n",
    "\n",
    "    plt.xlim(plotStart, plotEnd)\n",
    "    plt.ylim(-400,400)\n",
    "    plt.xlabel(\"Time (seconds)\")\n",
    "    plt.ylabel(\"Force Nt)\")\n",
    "    plt.subplot(1,2,2)\n",
    "    if secondaryName is not None:\n",
    "        plt.title(f\"Secondary - {secondaryName} - ID:{id}\")\n",
    "        plotStart = thisBump[thisBump[primaryBump]==2]['timestamp'].values[0] - 1.0\n",
    "        #plotStart = thisBump[thisBump[secondaryBump]==2]['timestamp'].values[0] - 1.0\n",
    "        plotEnd = plotStart + 28.0 #thisBump[thisBump[secondaryBump]==5]['timestamp'].values[0] + 2.0\n",
    "        start = Time(plotStart, format='unix_tai', scale='tai')\n",
    "        end = Time(plotEnd, format='unix_tai', scale='tai')\n",
    "        forces = await client.select_time_series(\"lsst.sal.MTM1M3.forceActuatorData\", [secondaryForce, 'timestamp'], start.utc, end.utc)\n",
    "        times = forces['timestamp'].values\n",
    "        t0 = times[0]\n",
    "        times -= t0\n",
    "        plotStart -= t0\n",
    "        plotEnd -= t0\n",
    "        plt.plot(times, forces[secondaryForce].values)\n",
    "        plt.text(1.0, 340.0, \"lsst.sal.MTM1M3.forceActuatorData.\\n\"+secondaryForce, color='g')\n",
    "        plt.xlim(plotStart, plotEnd)\n",
    "        plt.ylim(-400,400)\n",
    "        plt.xlabel(\"Time (seconds)\")\n",
    "        plt.ylabel(\"Force (Nt)\")\n",
    "    else:\n",
    "        plt.title(\"No Secondary\")\n",
    "        plt.xticks([])\n",
    "        plt.yticks([])\n",
    "    return"
   ]
  },
  {
   "cell_type": "code",
   "execution_count": null,
   "metadata": {
    "execution": {
     "iopub.execute_input": "2023-06-29T23:15:31.955071Z",
     "iopub.status.busy": "2023-06-29T23:15:31.954722Z",
     "iopub.status.idle": "2023-06-29T23:15:32.407415Z",
     "shell.execute_reply": "2023-06-29T23:15:32.407005Z",
     "shell.execute_reply.started": "2023-06-29T23:15:31.955053Z"
    },
    "tags": []
   },
   "outputs": [],
   "source": [
    "fig = plt.figure(figsize=(10,5))\n",
    "await plotBumpTestCylinderForces(fig, bumps, 227)"
   ]
  },
  {
   "cell_type": "code",
   "execution_count": null,
   "metadata": {},
   "outputs": [],
   "source": []
  }
 ],
 "metadata": {
  "kernelspec": {
   "display_name": "LSST",
   "language": "python",
   "name": "lsst"
  },
  "language_info": {
   "codemirror_mode": {
    "name": "ipython",
    "version": 3
   },
   "file_extension": ".py",
   "mimetype": "text/x-python",
   "name": "python",
   "nbconvert_exporter": "python",
   "pygments_lexer": "ipython3",
   "version": "3.10.11"
  }
 },
 "nbformat": 4,
 "nbformat_minor": 4
}
