{
 "cells": [
  {
   "cell_type": "markdown",
   "metadata": {},
   "source": [
    "# M1M3 cell learning\n",
    "Craig Lage - 14-Apr-23 \\\n",
    "The 17 tons of mirror are supported by 156 pneumatic actuators where 44 are single-axis and provide support only on the axial direction, 100 are dual-axis providing support in the axial and lateral direction, and 12 are dual-axis providing support in the axial and cross lateral directions. \\\n",
    "Positioning is provided by 6 hard points in a hexapod configuration which moves the mirror to a fixed operational position that shall be maintained during telescope operations. The remaining optical elements will be moved relative to this position in order to align the telescope optics. Support and optical figure correction is provided by 112 dual axis and 44 single axis pneumatic actuators. "
   ]
  },
  {
   "cell_type": "code",
   "execution_count": null,
   "metadata": {
    "execution": {
     "iopub.execute_input": "2023-07-06T15:29:45.764025Z",
     "iopub.status.busy": "2023-07-06T15:29:45.763634Z",
     "iopub.status.idle": "2023-07-06T15:29:46.699234Z",
     "shell.execute_reply": "2023-07-06T15:29:46.698631Z",
     "shell.execute_reply.started": "2023-07-06T15:29:45.764006Z"
    },
    "tags": []
   },
   "outputs": [],
   "source": [
    "import sys, time, os, asyncio, glob\n",
    "from datetime import datetime\n",
    "import numpy as np\n",
    "import matplotlib.pyplot as plt\n",
    "from matplotlib.backends.backend_pdf import PdfPages\n",
    "import pickle as pkl\n",
    "from astropy.time import Time, TimeDelta\n",
    "import lsst.ts.cRIOpy.M1M3FATable as M1M3FATable\n",
    "from scipy.interpolate import UnivariateSpline\n",
    "from lsst_efd_client import EfdClient"
   ]
  },
  {
   "cell_type": "code",
   "execution_count": null,
   "metadata": {
    "execution": {
     "iopub.execute_input": "2023-07-06T15:29:48.993627Z",
     "iopub.status.busy": "2023-07-06T15:29:48.993247Z",
     "iopub.status.idle": "2023-07-06T15:29:50.303380Z",
     "shell.execute_reply": "2023-07-06T15:29:50.302810Z",
     "shell.execute_reply.started": "2023-07-06T15:29:48.993608Z"
    },
    "tags": []
   },
   "outputs": [],
   "source": [
    "client = EfdClient('summit_efd')\n",
    "FATABLE = M1M3FATable.FATABLE"
   ]
  },
  {
   "cell_type": "markdown",
   "metadata": {},
   "source": [
    "## Plot the actuator locations"
   ]
  },
  {
   "cell_type": "code",
   "execution_count": null,
   "metadata": {
    "execution": {
     "iopub.execute_input": "2023-07-06T15:29:52.794816Z",
     "iopub.status.busy": "2023-07-06T15:29:52.794443Z",
     "iopub.status.idle": "2023-07-06T15:29:52.801378Z",
     "shell.execute_reply": "2023-07-06T15:29:52.800737Z",
     "shell.execute_reply.started": "2023-07-06T15:29:52.794797Z"
    },
    "tags": []
   },
   "outputs": [],
   "source": [
    "def actuatorLayout(ax, FATABLE):\n",
    "    ax.set_xlabel(\"X position (m)\")\n",
    "    ax.set_ylabel(\"Y position (m)\")\n",
    "    ax.set_title(\"M1M3 Actuator positions and type\\nHardpoints are approximate\", fontsize=18)\n",
    "    types = [['SAA','NA', 'o', 'Z', 'b'], ['DAA','+Y', '^', '+Y','g'], ['DAA','-Y', 'v', '-Y', 'cyan'], \\\n",
    "             ['DAA','+X', '>', '+X', 'r'], ['DAA','-X', '<', '-X', 'r']]\n",
    "    for [type, orient, marker, label, color] in types:\n",
    "        xs = []\n",
    "        ys = []\n",
    "        for i in range(len(FATABLE)):\n",
    "            x = FATABLE[i][M1M3FATable.FATABLE_XPOSITION]\n",
    "            y = FATABLE[i][M1M3FATable.FATABLE_YPOSITION]\n",
    "            if FATABLE[i][M1M3FATable.FATABLE_TYPE] == type and FATABLE[i][M1M3FATable.FATABLE_ORIENTATION] == orient:\n",
    "                xs.append(x)\n",
    "                ys.append(y)\n",
    "            else:\n",
    "                continue\n",
    "        ax.scatter(xs, ys, marker=marker, color=color, s=200, label=label)\n",
    "\n",
    "    # Now plot approximate hardpoint location\n",
    "    Rhp = 3.1 # Radius in meters\n",
    "    for i in range(6):\n",
    "        theta = 2.0 * np.pi / 6.0 * float(i)\n",
    "        if i == 0:\n",
    "            ax.scatter(Rhp * np.cos(theta), Rhp * np.sin(theta), marker='o', color='magenta', \\\n",
    "                       s=200, label='HP')\n",
    "        else:\n",
    "            ax.scatter(Rhp * np.cos(theta), Rhp * np.sin(theta), marker='o', color='magenta', \\\n",
    "                       s=200, label='_nolegend_')\n",
    "    ax.legend(loc='lower left', fontsize=9)"
   ]
  },
  {
   "cell_type": "code",
   "execution_count": null,
   "metadata": {
    "execution": {
     "iopub.execute_input": "2023-07-06T15:30:08.183003Z",
     "iopub.status.busy": "2023-07-06T15:30:08.182620Z",
     "iopub.status.idle": "2023-07-06T15:30:08.477217Z",
     "shell.execute_reply": "2023-07-06T15:30:08.476626Z",
     "shell.execute_reply.started": "2023-07-06T15:30:08.182984Z"
    },
    "tags": []
   },
   "outputs": [],
   "source": [
    "fig, ax = plt.subplots(1,1,figsize=(10,10))\n",
    "actuatorLayout(ax, FATABLE)"
   ]
  },
  {
   "cell_type": "markdown",
   "metadata": {},
   "source": [
    "# Now plot some actual bump test results"
   ]
  },
  {
   "cell_type": "code",
   "execution_count": null,
   "metadata": {
    "execution": {
     "iopub.execute_input": "2023-07-06T17:18:15.669989Z",
     "iopub.status.busy": "2023-07-06T17:18:15.669612Z",
     "iopub.status.idle": "2023-07-06T17:18:15.673775Z",
     "shell.execute_reply": "2023-07-06T17:18:15.673256Z",
     "shell.execute_reply.started": "2023-07-06T17:18:15.669963Z"
    },
    "tags": []
   },
   "outputs": [],
   "source": [
    "# Times of bump test\n",
    "start = Time(\"2023-04-17T10:00:00\", scale='utc')\n",
    "end = Time(\"2023-04-17T11:15:00\", scale='utc')"
   ]
  },
  {
   "cell_type": "code",
   "execution_count": null,
   "metadata": {
    "execution": {
     "iopub.execute_input": "2023-07-06T17:18:17.217786Z",
     "iopub.status.busy": "2023-07-06T17:18:17.217425Z",
     "iopub.status.idle": "2023-07-06T17:18:17.910357Z",
     "shell.execute_reply": "2023-07-06T17:18:17.909727Z",
     "shell.execute_reply.started": "2023-07-06T17:18:17.217768Z"
    },
    "tags": []
   },
   "outputs": [],
   "source": [
    "bumps = await client.select_time_series(\"lsst.sal.MTM1M3.logevent_forceActuatorBumpTestStatus\", \"*\", start, end)"
   ]
  },
  {
   "cell_type": "code",
   "execution_count": null,
   "metadata": {
    "execution": {
     "iopub.execute_input": "2023-07-06T17:18:18.941285Z",
     "iopub.status.busy": "2023-07-06T17:18:18.940906Z",
     "iopub.status.idle": "2023-07-06T17:18:18.945070Z",
     "shell.execute_reply": "2023-07-06T17:18:18.944582Z",
     "shell.execute_reply.started": "2023-07-06T17:18:18.941267Z"
    },
    "tags": []
   },
   "outputs": [],
   "source": [
    "len(bumps)"
   ]
  },
  {
   "cell_type": "markdown",
   "metadata": {},
   "source": [
    "## Plot the Bump Test states"
   ]
  },
  {
   "cell_type": "code",
   "execution_count": null,
   "metadata": {
    "execution": {
     "iopub.execute_input": "2023-07-06T17:18:26.370484Z",
     "iopub.status.busy": "2023-07-06T17:18:26.370120Z",
     "iopub.status.idle": "2023-07-06T17:18:26.763612Z",
     "shell.execute_reply": "2023-07-06T17:18:26.763169Z",
     "shell.execute_reply.started": "2023-07-06T17:18:26.370466Z"
    },
    "tags": []
   },
   "outputs": [],
   "source": [
    "from matplotlib import rcParams\n",
    "rcParams.update({'figure.autolayout': True})\n",
    "\n",
    "id=327\n",
    "thisBump = bumps[bumps['actuatorId']==id]\n",
    "index = M1M3FATable.actuatorIDToIndex(id)\n",
    "primaryBump = f\"primaryTest{FATABLE[index][M1M3FATable.FATABLE_ZINDEX]}\"\n",
    "fig, ax = plt.subplots(1,1)\n",
    "thisBump[primaryBump].plot(ax=ax)\n",
    "ax. set_title(f\" Bump Test States id = {id}\")\n",
    "ax.set_ylim(0,7)\n",
    "ax2 = ax.twinx()\n",
    "ax2.set_yticks([0,1,2,3,4,5,6,7])\n",
    "ax2.set_yticklabels(['', 'NOTTESTED','TESTINGPOSITIVE','TESTINGPOSITIVEWAIT', \\\n",
    "                   'TESTINGNEGATIVE', 'TESTINGNEGATIVEWAIT','PASSED','FAILED'])\n",
    "plt.savefig(\"/home/craiglagegit/u/MTM1M3/data/technote/Bump_Test_States.png\")"
   ]
  },
  {
   "cell_type": "markdown",
   "metadata": {},
   "source": [
    "## Given an actuator ID, this plots the bump applied forces"
   ]
  },
  {
   "cell_type": "code",
   "execution_count": null,
   "metadata": {
    "execution": {
     "iopub.execute_input": "2023-07-06T17:18:39.262784Z",
     "iopub.status.busy": "2023-07-06T17:18:39.262426Z",
     "iopub.status.idle": "2023-07-06T17:18:39.271456Z",
     "shell.execute_reply": "2023-07-06T17:18:39.271068Z",
     "shell.execute_reply.started": "2023-07-06T17:18:39.262765Z"
    },
    "tags": []
   },
   "outputs": [],
   "source": [
    "async def plotBumpTestAppliedForces(fig, bumps, id):\n",
    "    thisBump = bumps[bumps['actuatorId']==id]\n",
    "    index = M1M3FATable.actuatorIDToIndex(id)\n",
    "    primaryBump = f\"primaryTest{FATABLE[index][M1M3FATable.FATABLE_ZINDEX]}\"\n",
    "    primaryForce = f\"zForces{FATABLE[index][M1M3FATable.FATABLE_ZINDEX]}\"\n",
    "    if FATABLE[index][M1M3FATable.FATABLE_TYPE] == 'DAA':\n",
    "        if FATABLE[index][M1M3FATable.FATABLE_ORIENTATION] in ['+Y', '-Y']:\n",
    "            secondaryBump = f\"secondaryTest{FATABLE[index][M1M3FATable.FATABLE_SINDEX]}\"\n",
    "            secondaryForce = f\"yForces{FATABLE[index][M1M3FATable.FATABLE_YINDEX]}\"\n",
    "            secondaryName = FATABLE[index][M1M3FATable.FATABLE_ORIENTATION]\n",
    "        else:\n",
    "            secondaryBump = f\"secondaryTest{FATABLE[index][M1M3FATable.FATABLE_SINDEX]}\"\n",
    "            secondaryForce = f\"xForces{FATABLE[index][M1M3FATable.FATABLE_XINDEX]}\"\n",
    "            secondaryName = FATABLE[index][M1M3FATable.FATABLE_ORIENTATION]\n",
    "    else:\n",
    "        secondaryName = None\n",
    "\n",
    "    plt.subplots_adjust(wspace=0.3)\n",
    "    plt.subplot(1,2,1)\n",
    "    plotStart = thisBump[thisBump[primaryBump]==2]['timestamp'].values[0] - 1.0\n",
    "    plotEnd = plotStart + 14.0 #thisBump[thisBump[primaryBump]==5]['timestamp'].values[0] + 2.0\n",
    "    start = Time(plotStart, format='unix_tai', scale='tai')\n",
    "    end = Time(plotEnd, format='unix_tai', scale='tai')\n",
    "    forces = await client.select_time_series(\"lsst.sal.MTM1M3.appliedForces\", [primaryForce, 'timestamp'], start.utc, end.utc)\n",
    "    times = forces['timestamp'].values\n",
    "    t0 = times[0]\n",
    "    times -= t0\n",
    "    plotStart -= t0\n",
    "    plotEnd -= t0\n",
    "    plt.title(f\"Primary - Z - ID:{id}\")\n",
    "    plt.plot(times, forces[primaryForce].values)\n",
    "    plt.text(1.0, 350.0, \"lsst.sal.MTM1M3.appliedForces.\"+primaryForce, color='g')\n",
    "\n",
    "    plt.xlim(plotStart, plotEnd)\n",
    "    plt.ylim(-400,400)\n",
    "    plt.xlabel(\"Time (seconds)\")\n",
    "    plt.ylabel(\"Force (nt)\")\n",
    "    plt.subplot(1,2,2)\n",
    "    if secondaryName is not None:\n",
    "        plt.title(f\"Secondary - {secondaryName} - ID:{id}\")\n",
    "        plotStart = thisBump[thisBump[secondaryBump]==2]['timestamp'].values[0] - 1.0\n",
    "        plotEnd = plotStart + 14.0 #thisBump[thisBump[secondaryBump]==5]['timestamp'].values[0] + 2.0\n",
    "        start = Time(plotStart, format='unix_tai', scale='tai')\n",
    "        end = Time(plotEnd, format='unix_tai', scale='tai')\n",
    "        forces = await client.select_time_series(\"lsst.sal.MTM1M3.appliedForces\", [secondaryForce, 'timestamp'], start.utc, end.utc)\n",
    "        times = forces['timestamp'].values\n",
    "        t0 = times[0]\n",
    "        times -= t0\n",
    "        plotStart -= t0\n",
    "        plotEnd -= t0\n",
    "        plt.plot(times, forces[secondaryForce].values)\n",
    "        plt.text(1.0, 350.0, \"lsst.sal.MTM1M3.appliedForces.\"+secondaryForce, color='g')\n",
    "        plt.xlim(plotStart, plotEnd)\n",
    "        plt.ylim(-400,400)\n",
    "        plt.xlabel(\"Time (seconds)\")\n",
    "        plt.ylabel(\"Force (nt)\")\n",
    "    else:\n",
    "        plt.title(\"No Secondary\")\n",
    "        plt.xticks([])\n",
    "        plt.yticks([])\n",
    "    return"
   ]
  },
  {
   "cell_type": "code",
   "execution_count": null,
   "metadata": {
    "execution": {
     "iopub.execute_input": "2023-07-06T17:18:45.095594Z",
     "iopub.status.busy": "2023-07-06T17:18:45.095234Z",
     "iopub.status.idle": "2023-07-06T17:18:46.232762Z",
     "shell.execute_reply": "2023-07-06T17:18:46.232338Z",
     "shell.execute_reply.started": "2023-07-06T17:18:45.095576Z"
    },
    "tags": []
   },
   "outputs": [],
   "source": [
    "fig = plt.figure(figsize=(10,5))\n",
    "await plotBumpTestAppliedForces(fig, bumps, 327)\n",
    "plt.savefig(\"/home/craiglagegit/u/MTM1M3/data/technote/Bump_Test_Target.png\")"
   ]
  },
  {
   "cell_type": "markdown",
   "metadata": {},
   "source": [
    "## Given an actuator ID, this plots the bump test result"
   ]
  },
  {
   "cell_type": "code",
   "execution_count": null,
   "metadata": {
    "execution": {
     "iopub.execute_input": "2023-07-06T17:18:52.575464Z",
     "iopub.status.busy": "2023-07-06T17:18:52.575098Z",
     "iopub.status.idle": "2023-07-06T17:18:52.584481Z",
     "shell.execute_reply": "2023-07-06T17:18:52.584080Z",
     "shell.execute_reply.started": "2023-07-06T17:18:52.575445Z"
    },
    "tags": []
   },
   "outputs": [],
   "source": [
    "async def plotBumpTestResults(fig, bumps, id):\n",
    "    thisBump = bumps[bumps['actuatorId']==id]\n",
    "    index = M1M3FATable.actuatorIDToIndex(id)\n",
    "    primaryBump = f\"primaryTest{FATABLE[index][M1M3FATable.FATABLE_ZINDEX]}\"\n",
    "    primaryForce = f\"zForce{FATABLE[index][M1M3FATable.FATABLE_ZINDEX]}\"\n",
    "    if FATABLE[index][M1M3FATable.FATABLE_TYPE] == 'DAA':\n",
    "        if FATABLE[index][M1M3FATable.FATABLE_ORIENTATION] in ['+Y', '-Y']:\n",
    "            secondaryBump = f\"secondaryTest{FATABLE[index][M1M3FATable.FATABLE_SINDEX]}\"\n",
    "            secondaryForce = f\"yForce{FATABLE[index][M1M3FATable.FATABLE_YINDEX]}\"\n",
    "            secondaryName = FATABLE[index][M1M3FATable.FATABLE_ORIENTATION]\n",
    "        else:\n",
    "            secondaryBump = f\"secondaryTest{FATABLE[index][M1M3FATable.FATABLE_SINDEX]}\"\n",
    "            secondaryForce = f\"xForce{FATABLE[index][M1M3FATable.FATABLE_XINDEX]}\"\n",
    "            secondaryName = FATABLE[index][M1M3FATable.FATABLE_ORIENTATION]\n",
    "    else:\n",
    "        secondaryName = None\n",
    "\n",
    "    plt.subplots_adjust(wspace=0.3)\n",
    "    plt.subplot(1,2,1)\n",
    "    plotStart = thisBump[thisBump[primaryBump]==2]['timestamp'].values[0] - 1.0\n",
    "    plotEnd = plotStart + 14.0 #thisBump[thisBump[primaryBump]==5]['timestamp'].values[0] + 2.0\n",
    "    start = Time(plotStart, format='unix_tai', scale='tai')\n",
    "    end = Time(plotEnd, format='unix_tai', scale='tai')\n",
    "    forces = await client.select_time_series(\"lsst.sal.MTM1M3.forceActuatorData\", [primaryForce, 'timestamp'], start.utc, end.utc)\n",
    "    times = forces['timestamp'].values\n",
    "    t0 = times[0]\n",
    "    times -= t0\n",
    "    plotStart -= t0\n",
    "    plotEnd -= t0\n",
    "    plt.title(f\"Primary - Z - ID:{id}\")\n",
    "    plt.plot(times, forces[primaryForce].values)\n",
    "    plt.text(0.5, 350.0, \"lsst.sal.MTM1M3.forceActuatorData.\"+primaryForce, color='g')\n",
    "\n",
    "    plt.xlim(plotStart, plotEnd)\n",
    "    plt.ylim(-400,400)\n",
    "    plt.xlabel(\"Time (seconds)\")\n",
    "    plt.ylabel(\"Force (nt)\")\n",
    "    plt.subplot(1,2,2)\n",
    "    if secondaryName is not None:\n",
    "        plt.title(f\"Secondary - {secondaryName} - ID:{id}\")\n",
    "        plotStart = thisBump[thisBump[secondaryBump]==2]['timestamp'].values[0] - 1.0\n",
    "        plotEnd = plotStart + 14.0 #thisBump[thisBump[secondaryBump]==5]['timestamp'].values[0] + 2.0\n",
    "        start = Time(plotStart, format='unix_tai', scale='tai')\n",
    "        end = Time(plotEnd, format='unix_tai', scale='tai')\n",
    "        forces = await client.select_time_series(\"lsst.sal.MTM1M3.forceActuatorData\", [secondaryForce, 'timestamp'], start.utc, end.utc)\n",
    "        times = forces['timestamp'].values\n",
    "        t0 = times[0]\n",
    "        times -= t0\n",
    "        plotStart -= t0\n",
    "        plotEnd -= t0\n",
    "        plt.plot(times, forces[secondaryForce].values)\n",
    "        plt.text(0.5, 350.0, \"lsst.sal.MTM1M3.forceActuatorData.\"+secondaryForce, color='g')\n",
    "        plt.xlim(plotStart, plotEnd)\n",
    "        plt.ylim(-400,400)\n",
    "        plt.xlabel(\"Time (seconds)\")\n",
    "        plt.ylabel(\"Force (nt)\")\n",
    "    else:\n",
    "        plt.title(\"No Secondary\")\n",
    "        plt.xticks([])\n",
    "        plt.yticks([])\n",
    "    return"
   ]
  },
  {
   "cell_type": "code",
   "execution_count": null,
   "metadata": {
    "execution": {
     "iopub.execute_input": "2023-07-06T17:18:57.675582Z",
     "iopub.status.busy": "2023-07-06T17:18:57.675196Z",
     "iopub.status.idle": "2023-07-06T17:18:58.661908Z",
     "shell.execute_reply": "2023-07-06T17:18:58.661468Z",
     "shell.execute_reply.started": "2023-07-06T17:18:57.675563Z"
    },
    "tags": []
   },
   "outputs": [],
   "source": [
    "fig = plt.figure(figsize=(10,5))\n",
    "await plotBumpTestResults(fig, bumps, 327)\n",
    "plt.savefig(\"/home/craiglagegit/u/MTM1M3/data/technote/Bump_Test_Results.png\")"
   ]
  },
  {
   "cell_type": "markdown",
   "metadata": {
    "tags": []
   },
   "source": [
    "## Given an actuator ID, this plots the cylinder applied forces"
   ]
  },
  {
   "cell_type": "code",
   "execution_count": null,
   "metadata": {
    "execution": {
     "iopub.execute_input": "2023-07-06T17:19:06.293558Z",
     "iopub.status.busy": "2023-07-06T17:19:06.293189Z",
     "iopub.status.idle": "2023-07-06T17:19:06.301912Z",
     "shell.execute_reply": "2023-07-06T17:19:06.301505Z",
     "shell.execute_reply.started": "2023-07-06T17:19:06.293540Z"
    },
    "tags": []
   },
   "outputs": [],
   "source": [
    "async def plotBumpTestAppliedCylinderForces(fig, bumps, id):\n",
    "    thisBump = bumps[bumps['actuatorId']==id]\n",
    "    index = M1M3FATable.actuatorIDToIndex(id)\n",
    "    primaryBump = f\"primaryTest{FATABLE[index][M1M3FATable.FATABLE_ZINDEX]}\"\n",
    "    primaryForce = f\"primaryCylinderForces{FATABLE[index][M1M3FATable.FATABLE_ZINDEX]}\"\n",
    "    if FATABLE[index][M1M3FATable.FATABLE_TYPE] == 'DAA':\n",
    "        secondaryBump = f\"secondaryTest{FATABLE[index][M1M3FATable.FATABLE_SINDEX]}\"\n",
    "        secondaryForce = f\"secondaryCylinderForces{FATABLE[index][M1M3FATable.FATABLE_SINDEX]}\"\n",
    "        secondaryName = FATABLE[index][M1M3FATable.FATABLE_ORIENTATION]\n",
    "    else:\n",
    "        secondaryName = None\n",
    "\n",
    "    plt.subplots_adjust(wspace=0.3)\n",
    "    plt.subplot(1,2,1)\n",
    "    plotStart = thisBump[thisBump[primaryBump]==2]['timestamp'].values[0] - 1.0\n",
    "    plotEnd = plotStart + 28.0 #thisBump[thisBump[primaryBump]==5]['timestamp'].values[0] + 2.0\n",
    "    start = Time(plotStart, format='unix_tai', scale='tai')\n",
    "    end = Time(plotEnd, format='unix_tai', scale='tai')\n",
    "    forces = await client.select_time_series(\"lsst.sal.MTM1M3.appliedCylinderForces\", [primaryForce, 'timestamp'], start.utc, end.utc)\n",
    "    times = forces['timestamp'].values\n",
    "    t0 = times[0]\n",
    "    times -= t0\n",
    "    plotStart -= t0\n",
    "    plotEnd -= t0\n",
    "    plt.title(f\"Primary - Z - ID:{id}\")\n",
    "    plt.plot(times, forces[primaryForce].values)\n",
    "    plt.text(1.0, 340000.0, \"lsst.sal.MTM1M3.appliedCylinderForces.\\n\"+primaryForce, color='g')\n",
    "\n",
    "    plt.xlim(plotStart, plotEnd)\n",
    "    plt.ylim(-400000,400000)\n",
    "    plt.xlabel(\"Time (seconds)\")\n",
    "    plt.ylabel(\"Force (mNt)\")\n",
    "    plt.subplot(1,2,2)\n",
    "    if secondaryName is not None:\n",
    "        plt.title(f\"Secondary - {secondaryName} - ID:{id}\")\n",
    "        plotStart = thisBump[thisBump[primaryBump]==2]['timestamp'].values[0] - 1.0\n",
    "        #plotStart = thisBump[thisBump[secondaryBump]==2]['timestamp'].values[0] - 1.0\n",
    "        plotEnd = plotStart + 28.0 #thisBump[thisBump[secondaryBump]==5]['timestamp'].values[0] + 2.0\n",
    "        start = Time(plotStart, format='unix_tai', scale='tai')\n",
    "        end = Time(plotEnd, format='unix_tai', scale='tai')\n",
    "        forces = await client.select_time_series(\"lsst.sal.MTM1M3.appliedCylinderForces\", [secondaryForce, 'timestamp'], start.utc, end.utc)\n",
    "        times = forces['timestamp'].values\n",
    "        t0 = times[0]\n",
    "        times -= t0\n",
    "        plotStart -= t0\n",
    "        plotEnd -= t0\n",
    "        plt.plot(times, forces[secondaryForce].values)\n",
    "        plt.text(1.0, 340000.0, \"lsst.sal.MTM1M3.appliedCylinderForces.\\n\"+secondaryForce, color='g')\n",
    "        plt.xlim(plotStart, plotEnd)\n",
    "        plt.ylim(-400000,400000)\n",
    "        plt.xlabel(\"Time (seconds)\")\n",
    "        plt.ylabel(\"Force (mNt)\")\n",
    "    else:\n",
    "        plt.title(\"No Secondary\")\n",
    "        plt.xticks([])\n",
    "        plt.yticks([])\n",
    "    return"
   ]
  },
  {
   "cell_type": "code",
   "execution_count": null,
   "metadata": {
    "execution": {
     "iopub.execute_input": "2023-07-06T17:19:11.297222Z",
     "iopub.status.busy": "2023-07-06T17:19:11.296846Z",
     "iopub.status.idle": "2023-07-06T17:19:12.290542Z",
     "shell.execute_reply": "2023-07-06T17:19:12.290128Z",
     "shell.execute_reply.started": "2023-07-06T17:19:11.297204Z"
    },
    "tags": []
   },
   "outputs": [],
   "source": [
    "fig = plt.figure(figsize=(10,5))\n",
    "await plotBumpTestAppliedCylinderForces(fig, bumps, 327)\n",
    "plt.savefig(\"/home/craiglagegit/u/MTM1M3/data/technote/Bump_Test_Cylinder_Target.png\")"
   ]
  },
  {
   "cell_type": "markdown",
   "metadata": {
    "tags": []
   },
   "source": [
    "## Given an actuator ID, this plots the cylinder measured forces"
   ]
  },
  {
   "cell_type": "code",
   "execution_count": null,
   "metadata": {
    "execution": {
     "iopub.execute_input": "2023-07-06T17:19:16.954687Z",
     "iopub.status.busy": "2023-07-06T17:19:16.954418Z",
     "iopub.status.idle": "2023-07-06T17:19:16.963690Z",
     "shell.execute_reply": "2023-07-06T17:19:16.963299Z",
     "shell.execute_reply.started": "2023-07-06T17:19:16.954670Z"
    },
    "tags": []
   },
   "outputs": [],
   "source": [
    "async def plotBumpTestCylinderForces(fig, bumps, id):\n",
    "    thisBump = bumps[bumps['actuatorId']==id]\n",
    "    index = M1M3FATable.actuatorIDToIndex(id)\n",
    "    primaryBump = f\"primaryTest{FATABLE[index][M1M3FATable.FATABLE_ZINDEX]}\"\n",
    "    primaryForce = f\"primaryCylinderForce{FATABLE[index][M1M3FATable.FATABLE_ZINDEX]}\"\n",
    "    if FATABLE[index][M1M3FATable.FATABLE_TYPE] == 'DAA':\n",
    "        secondaryBump = f\"secondaryTest{FATABLE[index][M1M3FATable.FATABLE_SINDEX]}\"\n",
    "        secondaryForce = f\"secondaryCylinderForce{FATABLE[index][M1M3FATable.FATABLE_SINDEX]}\"\n",
    "        secondaryName = FATABLE[index][M1M3FATable.FATABLE_ORIENTATION]\n",
    "    else:\n",
    "        secondaryName = None\n",
    "\n",
    "    plt.subplots_adjust(wspace=0.3)\n",
    "    plt.subplot(1,2,1)\n",
    "    plotStart = thisBump[thisBump[primaryBump]==2]['timestamp'].values[0] - 1.0\n",
    "    plotEnd = plotStart + 28.0 #thisBump[thisBump[primaryBump]==5]['timestamp'].values[0] + 2.0\n",
    "    start = Time(plotStart, format='unix_tai', scale='tai')\n",
    "    end = Time(plotEnd, format='unix_tai', scale='tai')\n",
    "    forces = await client.select_time_series(\"lsst.sal.MTM1M3.forceActuatorData\", [primaryForce, 'timestamp'], start.utc, end.utc)\n",
    "    times = forces['timestamp'].values\n",
    "    t0 = times[0]\n",
    "    times -= t0\n",
    "    plotStart -= t0\n",
    "    plotEnd -= t0\n",
    "    plt.title(f\"Primary - Z - ID:{id}\")\n",
    "    plt.plot(times, forces[primaryForce].values)\n",
    "    plt.text(1.0, 340.0, \"lsst.sal.MTM1M3.forceActuatorData.\\n\"+primaryForce, color='g')\n",
    "\n",
    "    plt.xlim(plotStart, plotEnd)\n",
    "    plt.ylim(-400,400)\n",
    "    plt.xlabel(\"Time (seconds)\")\n",
    "    plt.ylabel(\"Force (Nt)\")\n",
    "    plt.subplot(1,2,2)\n",
    "    if secondaryName is not None:\n",
    "        plt.title(f\"Secondary - {secondaryName} - ID:{id}\")\n",
    "        plotStart = thisBump[thisBump[primaryBump]==2]['timestamp'].values[0] - 1.0\n",
    "        #plotStart = thisBump[thisBump[secondaryBump]==2]['timestamp'].values[0] - 1.0\n",
    "        plotEnd = plotStart + 28.0 #thisBump[thisBump[secondaryBump]==5]['timestamp'].values[0] + 2.0\n",
    "        start = Time(plotStart, format='unix_tai', scale='tai')\n",
    "        end = Time(plotEnd, format='unix_tai', scale='tai')\n",
    "        forces = await client.select_time_series(\"lsst.sal.MTM1M3.forceActuatorData\", [secondaryForce, 'timestamp'], start.utc, end.utc)\n",
    "        times = forces['timestamp'].values\n",
    "        t0 = times[0]\n",
    "        times -= t0\n",
    "        plotStart -= t0\n",
    "        plotEnd -= t0\n",
    "        plt.plot(times, forces[secondaryForce].values)\n",
    "        plt.text(1.0, 340.0, \"lsst.sal.MTM1M3.forceActuatorData.\\n\"+secondaryForce, color='g')\n",
    "        plt.xlim(plotStart, plotEnd)\n",
    "        plt.ylim(-400,400)\n",
    "        plt.xlabel(\"Time (seconds)\")\n",
    "        plt.ylabel(\"Force (Nt)\")\n",
    "    else:\n",
    "        plt.title(\"No Secondary\")\n",
    "        plt.xticks([])\n",
    "        plt.yticks([])\n",
    "    return"
   ]
  },
  {
   "cell_type": "code",
   "execution_count": null,
   "metadata": {
    "execution": {
     "iopub.execute_input": "2023-07-06T17:19:21.821717Z",
     "iopub.status.busy": "2023-07-06T17:19:21.821337Z",
     "iopub.status.idle": "2023-07-06T17:19:22.600270Z",
     "shell.execute_reply": "2023-07-06T17:19:22.599849Z",
     "shell.execute_reply.started": "2023-07-06T17:19:21.821697Z"
    },
    "tags": []
   },
   "outputs": [],
   "source": [
    "fig = plt.figure(figsize=(10,5))\n",
    "await plotBumpTestCylinderForces(fig, bumps, 327)\n",
    "plt.savefig(\"/home/craiglagegit/u/MTM1M3/data/technote/Bump_Test_Cylinder_Results.png\")"
   ]
  },
  {
   "cell_type": "markdown",
   "metadata": {},
   "source": [
    "## Given an actuator ID, this plots the bump test following errors"
   ]
  },
  {
   "cell_type": "code",
   "execution_count": null,
   "metadata": {
    "execution": {
     "iopub.execute_input": "2023-07-06T18:18:58.060127Z",
     "iopub.status.busy": "2023-07-06T18:18:58.059852Z",
     "iopub.status.idle": "2023-07-06T18:18:58.074817Z",
     "shell.execute_reply": "2023-07-06T18:18:58.074301Z",
     "shell.execute_reply.started": "2023-07-06T18:18:58.060110Z"
    },
    "tags": []
   },
   "outputs": [],
   "source": [
    "async def plot_bump_test_following_errors(fig, bumps, id):\n",
    "    \"\"\" Plot a visualization of the bump test following errors\n",
    "        Parameters\n",
    "        ----------\n",
    "        fig : a matplotlib figure object\n",
    "\n",
    "        bumps: pandas dataframe\n",
    "            This is a dataframe containg the bump test status\n",
    "        \n",
    "        id: 'int'\n",
    "            The actuator id desired\n",
    "\n",
    "        Returns\n",
    "        -------\n",
    "        No return, only the fig object which was input\n",
    "    \"\"\"\n",
    "    \n",
    "    this_bump = bumps[bumps['actuatorId']==id]\n",
    "    index = M1M3FATable.actuatorIDToIndex(id)\n",
    "    primary_bump = f\"primaryTest{FATABLE[index][M1M3FATable.FATABLE_ZINDEX]}\"\n",
    "    primary_follow = f\"primaryCylinderFollowingError{FATABLE[index][M1M3FATable.FATABLE_ZINDEX]}\"\n",
    "    primary_force = f\"primaryCylinderForce{FATABLE[index][M1M3FATable.FATABLE_ZINDEX]}\"\n",
    "    if FATABLE[index][M1M3FATable.FATABLE_TYPE] == 'DAA':\n",
    "        secondary_bump = f\"secondaryTest{FATABLE[index][M1M3FATable.FATABLE_SINDEX]}\"\n",
    "        secondary_force = f\"secondaryCylinderForce{FATABLE[index][M1M3FATable.FATABLE_SINDEX]}\"\n",
    "        secondary_follow = f\"secondaryCylinderFollowingError{FATABLE[index][M1M3FATable.FATABLE_SINDEX]}\"\n",
    "        secondary_name = FATABLE[index][M1M3FATable.FATABLE_ORIENTATION]\n",
    "    else:\n",
    "        secondary_name = None\n",
    "        secondary_force = None\n",
    "        secondary_follow = None\n",
    "    plt.subplots_adjust(wspace=0.3)\n",
    "    plt.suptitle(f\"Bump Test Following Errors. Actuator ID {id}\", fontsize=18)\n",
    "    plot_start = this_bump[this_bump[primary_bump]==2]['timestamp'].values[0] - 1.0\n",
    "    plot_end = plot_start + 14.0 \n",
    "    start = Time(plot_start, format='unix_tai', scale='tai')\n",
    "    end = Time(plot_end, format='unix_tai', scale='tai')\n",
    "    forces = await client.select_time_series(\"lsst.sal.MTM1M3.forceActuatorData\", \\\n",
    "                                             [primary_force, primary_follow, 'timestamp'], start.utc, end.utc)\n",
    "    timestamp = forces.index[0].isoformat().split('.')[0]\n",
    "    plt.suptitle(f\"Bump Test Following Errors. Actuator ID {id}\\n {timestamp}\", fontsize=18)\n",
    "    times = forces['timestamp'].values\n",
    "    t0 = times[0]\n",
    "    times -= t0\n",
    "    primary_forces = forces[primary_force].values\n",
    "    primary_errors = forces[primary_follow].values\n",
    "    plot_start -= t0\n",
    "    plot_end -= t0\n",
    "    plt.subplot(2,2,1)\n",
    "    plt.title(\"Primary - Z\")\n",
    "    plt.plot(times, primary_forces, label='Data')\n",
    "    plt.xlim(plot_start, plot_end)\n",
    "    plt.ylim(-400,400)\n",
    "    plt.xlabel(\"Time (seconds)\")\n",
    "    plt.ylabel(\"Force (nt)\")\n",
    "    plt.legend()\n",
    "    plt.subplot(2,2,3)\n",
    "    plt.title(\"Following Errors - Log scale above 10 Nt\")\n",
    "    plt.plot(times, primary_errors)\n",
    "    plt.ylim(-100,100)\n",
    "    plt.yscale('symlog', linthresh=10)\n",
    "    plt.plot([plot_start, plot_end], [5.0,5.0], ls='--', color='red')\n",
    "    plt.plot([plot_start, plot_end], [-5.0,-5.0], ls='--', color='red')\n",
    "    plt.plot([plot_start, plot_end], [2.5,2.5], ls='--', color='green')\n",
    "    plt.plot([plot_start, plot_end], [-2.5,-2.5], ls='--', color='green')\n",
    "    plt.text(9, 65, f\"Max = {np.max(primary_errors):.1f} nt\")\n",
    "    plt.text(5, -80, f\"Min = {np.min(primary_errors):.1f} nt\")\n",
    "    plt.xlim(plot_start, plot_end)\n",
    "    plt.yticks([-100,-10,-7.5,-5.0,-2.5,0,2.5,5.0,7.5,10.0,100])\n",
    "    plt.xlabel(\"Time (seconds)\")\n",
    "    plt.ylabel(\"Following Errors (nt)\")\n",
    "    \n",
    "    if secondary_name is not None:\n",
    "        plot_start = this_bump[this_bump[secondary_bump]==2]['timestamp'].values[0] - 1.0\n",
    "        plot_end = plot_start + 14.0\n",
    "        start = Time(plot_start, format='unix_tai', scale='tai')\n",
    "        end = Time(plot_end, format='unix_tai', scale='tai')\n",
    "        forces = await client.select_time_series(\"lsst.sal.MTM1M3.forceActuatorData\", \\\n",
    "                                                 [secondary_force, secondary_follow, 'timestamp'], start.utc, end.utc)\n",
    "        times = forces['timestamp'].values\n",
    "        t0 = times[0]\n",
    "        times -= t0\n",
    "        secondary_forces = forces[secondary_force].values\n",
    "        secondary_errors = forces[secondary_follow].values\n",
    "        plot_start -= t0\n",
    "        plot_end -= t0\n",
    "        plt.subplot(2,2,2)\n",
    "        plt.title(f\"Secondary - {secondary_name}\")\n",
    "        plt.plot(times, secondary_forces, label='Data')\n",
    "        plt.xlim(plot_start, plot_end)\n",
    "        plt.ylim(-400,400)\n",
    "        plt.xlabel(\"Time (seconds)\")\n",
    "        plt.ylabel(\"Force (nt)\")\n",
    "        plt.legend()\n",
    "        plt.subplot(2,2,4)\n",
    "        plt.title(\"Following Errors - Log scale above 10 Nt\")\n",
    "        plt.plot(times, secondary_errors)\n",
    "        plt.yscale('symlog', linthresh=10)\n",
    "        plt.plot([plot_start, plot_end], [5.0,5.0], ls='--', color='red')\n",
    "        plt.plot([plot_start, plot_end], [-5.0,-5.0], ls='--', color='red')\n",
    "        plt.plot([plot_start, plot_end], [2.5,2.5], ls='--', color='green')\n",
    "        plt.plot([plot_start, plot_end], [-2.5,-2.5], ls='--', color='green')\n",
    "        plt.text(9, 65, f\"Max = {np.max(secondary_errors):.1f} nt\")\n",
    "        plt.text(5, -80, f\"Min = {np.min(secondary_errors):.1f} nt\")\n",
    "        plt.xlim(plot_start, plot_end)\n",
    "        plt.ylim(-100, 100)\n",
    "        plt.yticks([-100,-10,-7.5,-5.0,-2.5,0,2.5,5.0,7.5,10.0,100])\n",
    "        plt.xlabel(\"Time (seconds)\")\n",
    "        plt.ylabel(\"Following Errors (nt)\")\n",
    "    else:\n",
    "        plt.subplot(2,2,2)\n",
    "        plt.title(\"No Secondary\")\n",
    "        plt.xticks([])\n",
    "        plt.yticks([])\n",
    "        plt.subplot(2,2,4)\n",
    "        plt.xticks([])\n",
    "        plt.yticks([])\n",
    "    return"
   ]
  },
  {
   "cell_type": "code",
   "execution_count": null,
   "metadata": {
    "execution": {
     "iopub.execute_input": "2023-07-06T18:22:34.358853Z",
     "iopub.status.busy": "2023-07-06T18:22:34.358587Z",
     "iopub.status.idle": "2023-07-06T18:22:38.844041Z",
     "shell.execute_reply": "2023-07-06T18:22:38.843497Z",
     "shell.execute_reply.started": "2023-07-06T18:22:34.358835Z"
    },
    "tags": []
   },
   "outputs": [],
   "source": [
    "start = \"2023-07-04T03:00:00\"\n",
    "end = \"2023-07-04T22:00:00\"\n",
    "bumps = await client.select_time_series(\"lsst.sal.MTM1M3.logevent_forceActuatorBumpTestStatus\", \"*\",\\\n",
    "                                        Time(start, scale='utc'), Time(end, scale='utc'))\n",
    "\n",
    "fig = plt.figure(figsize=(10,10))\n",
    "await plot_bump_test_following_errors(fig, bumps, 327)\n",
    "plt.savefig(\"/home/craiglagegit/u/MTM1M3/data/technote/Bump_Test_Following_Errors.png\")"
   ]
  },
  {
   "cell_type": "markdown",
   "metadata": {},
   "source": [
    "## The cells below give examples of the actuator indexing"
   ]
  },
  {
   "cell_type": "code",
   "execution_count": null,
   "metadata": {
    "execution": {
     "iopub.execute_input": "2023-07-06T17:33:13.753072Z",
     "iopub.status.busy": "2023-07-06T17:33:13.752781Z",
     "iopub.status.idle": "2023-07-06T17:33:13.755803Z",
     "shell.execute_reply": "2023-07-06T17:33:13.755448Z",
     "shell.execute_reply.started": "2023-07-06T17:33:13.753055Z"
    },
    "tags": []
   },
   "outputs": [],
   "source": [
    "index = M1M3FATable.actuatorIDToIndex(327)\n",
    "print(index)"
   ]
  },
  {
   "cell_type": "code",
   "execution_count": null,
   "metadata": {
    "execution": {
     "iopub.execute_input": "2023-07-06T17:33:24.248089Z",
     "iopub.status.busy": "2023-07-06T17:33:24.247803Z",
     "iopub.status.idle": "2023-07-06T17:33:24.251339Z",
     "shell.execute_reply": "2023-07-06T17:33:24.250991Z",
     "shell.execute_reply.started": "2023-07-06T17:33:24.248071Z"
    },
    "tags": []
   },
   "outputs": [],
   "source": [
    "FATABLE[index][M1M3FATable.FATABLE_INDEX]"
   ]
  },
  {
   "cell_type": "code",
   "execution_count": null,
   "metadata": {
    "execution": {
     "iopub.execute_input": "2023-07-06T17:33:29.727067Z",
     "iopub.status.busy": "2023-07-06T17:33:29.726663Z",
     "iopub.status.idle": "2023-07-06T17:33:29.730326Z",
     "shell.execute_reply": "2023-07-06T17:33:29.729945Z",
     "shell.execute_reply.started": "2023-07-06T17:33:29.727046Z"
    },
    "tags": []
   },
   "outputs": [],
   "source": [
    "FATABLE[index][M1M3FATable.FATABLE_ID]"
   ]
  },
  {
   "cell_type": "code",
   "execution_count": null,
   "metadata": {
    "execution": {
     "iopub.execute_input": "2023-07-06T17:33:33.750226Z",
     "iopub.status.busy": "2023-07-06T17:33:33.749936Z",
     "iopub.status.idle": "2023-07-06T17:33:33.753452Z",
     "shell.execute_reply": "2023-07-06T17:33:33.753087Z",
     "shell.execute_reply.started": "2023-07-06T17:33:33.750208Z"
    },
    "tags": []
   },
   "outputs": [],
   "source": [
    "FATABLE[index][M1M3FATable.FATABLE_SINDEX]"
   ]
  },
  {
   "cell_type": "code",
   "execution_count": null,
   "metadata": {
    "execution": {
     "iopub.execute_input": "2023-07-06T17:33:37.976262Z",
     "iopub.status.busy": "2023-07-06T17:33:37.975990Z",
     "iopub.status.idle": "2023-07-06T17:33:37.979513Z",
     "shell.execute_reply": "2023-07-06T17:33:37.979133Z",
     "shell.execute_reply.started": "2023-07-06T17:33:37.976245Z"
    },
    "tags": []
   },
   "outputs": [],
   "source": [
    "FATABLE[index][M1M3FATable.FATABLE_ZINDEX]"
   ]
  },
  {
   "cell_type": "code",
   "execution_count": null,
   "metadata": {
    "execution": {
     "iopub.execute_input": "2023-07-06T17:33:43.171818Z",
     "iopub.status.busy": "2023-07-06T17:33:43.171543Z",
     "iopub.status.idle": "2023-07-06T17:33:43.175115Z",
     "shell.execute_reply": "2023-07-06T17:33:43.174727Z",
     "shell.execute_reply.started": "2023-07-06T17:33:43.171800Z"
    },
    "tags": []
   },
   "outputs": [],
   "source": [
    "FATABLE[index][M1M3FATable.FATABLE_YINDEX]"
   ]
  },
  {
   "cell_type": "code",
   "execution_count": null,
   "metadata": {
    "execution": {
     "iopub.execute_input": "2023-07-06T17:33:47.277045Z",
     "iopub.status.busy": "2023-07-06T17:33:47.276750Z",
     "iopub.status.idle": "2023-07-06T17:33:47.279979Z",
     "shell.execute_reply": "2023-07-06T17:33:47.279536Z",
     "shell.execute_reply.started": "2023-07-06T17:33:47.277027Z"
    },
    "tags": []
   },
   "outputs": [],
   "source": [
    "index = M1M3FATable.actuatorIDToIndex(135)\n",
    "print(index)"
   ]
  },
  {
   "cell_type": "code",
   "execution_count": null,
   "metadata": {
    "execution": {
     "iopub.execute_input": "2023-07-06T17:33:51.516763Z",
     "iopub.status.busy": "2023-07-06T17:33:51.516489Z",
     "iopub.status.idle": "2023-07-06T17:33:51.520027Z",
     "shell.execute_reply": "2023-07-06T17:33:51.519633Z",
     "shell.execute_reply.started": "2023-07-06T17:33:51.516746Z"
    },
    "tags": []
   },
   "outputs": [],
   "source": [
    "FATABLE[index][M1M3FATable.FATABLE_XINDEX]"
   ]
  }
 ],
 "metadata": {
  "kernelspec": {
   "display_name": "LSST",
   "language": "python",
   "name": "lsst"
  },
  "language_info": {
   "codemirror_mode": {
    "name": "ipython",
    "version": 3
   },
   "file_extension": ".py",
   "mimetype": "text/x-python",
   "name": "python",
   "nbconvert_exporter": "python",
   "pygments_lexer": "ipython3",
   "version": "3.11.4"
  }
 },
 "nbformat": 4,
 "nbformat_minor": 4
}
