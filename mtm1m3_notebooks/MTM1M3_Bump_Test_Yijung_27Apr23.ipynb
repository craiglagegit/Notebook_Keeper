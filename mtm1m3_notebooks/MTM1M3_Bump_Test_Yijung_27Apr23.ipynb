{
 "cells": [
  {
   "cell_type": "markdown",
   "metadata": {},
   "source": [
    "# M1M3 cell learning\n",
    "Craig Lage - 14-Apr-23 \\\n",
    "The 17 tons of mirror are supported by 156 pneumatic actuators where 44 are single-axis and provide support only on the axial direction, 100 are dual-axis providing support in the axial and lateral direction, and 12 are dual-axis providing support in the axial and cross lateral directions. \\\n",
    "Positioning is provided by 6 hard points in a hexapod configuration which moves the mirror to a fixed operational position that shall be maintained during telescope operations. The remaining optical elements will be moved relative to this position in order to align the telescope optics. Support and optical figure correction is provided by 112 dual axis and 44 single axis pneumatic actuators. "
   ]
  },
  {
   "cell_type": "code",
   "execution_count": null,
   "metadata": {
    "execution": {
     "iopub.execute_input": "2023-04-27T16:17:09.710317Z",
     "iopub.status.busy": "2023-04-27T16:17:09.710157Z",
     "iopub.status.idle": "2023-04-27T16:17:10.160296Z",
     "shell.execute_reply": "2023-04-27T16:17:10.159724Z",
     "shell.execute_reply.started": "2023-04-27T16:17:09.710302Z"
    },
    "tags": []
   },
   "outputs": [],
   "source": [
    "import sys, time, os, asyncio, glob\n",
    "from datetime import datetime\n",
    "import numpy as np\n",
    "import matplotlib.pyplot as plt\n",
    "import matplotlib as mpl\n",
    "from matplotlib.colors import LightSource as LS\n",
    "import pickle as pkl\n",
    "from astropy.time import Time, TimeDelta\n",
    "import lsst.ts.cRIOpy.M1M3FATable as M1M3FATable\n",
    "\n",
    "from lsst_efd_client import EfdClient\n",
    "\n"
   ]
  },
  {
   "cell_type": "code",
   "execution_count": null,
   "metadata": {
    "execution": {
     "iopub.execute_input": "2023-04-27T16:17:10.162648Z",
     "iopub.status.busy": "2023-04-27T16:17:10.162512Z",
     "iopub.status.idle": "2023-04-27T16:17:11.444864Z",
     "shell.execute_reply": "2023-04-27T16:17:11.444285Z",
     "shell.execute_reply.started": "2023-04-27T16:17:10.162634Z"
    },
    "tags": []
   },
   "outputs": [],
   "source": [
    "client = EfdClient('summit_efd')\n",
    "FATABLE = M1M3FATable.FATABLE"
   ]
  },
  {
   "cell_type": "code",
   "execution_count": null,
   "metadata": {
    "execution": {
     "iopub.execute_input": "2023-04-27T19:24:02.862708Z",
     "iopub.status.busy": "2023-04-27T19:24:02.862432Z",
     "iopub.status.idle": "2023-04-27T19:24:02.866016Z",
     "shell.execute_reply": "2023-04-27T19:24:02.865652Z",
     "shell.execute_reply.started": "2023-04-27T19:24:02.862691Z"
    },
    "tags": []
   },
   "outputs": [],
   "source": [
    "# Times of bump test\n",
    "start = Time(\"2023-04-19T12:52:00\", scale='utc')\n",
    "end = Time(\"2023-04-19T14:00:00\", scale='utc')"
   ]
  },
  {
   "cell_type": "code",
   "execution_count": null,
   "metadata": {
    "execution": {
     "iopub.execute_input": "2023-04-27T19:24:04.383433Z",
     "iopub.status.busy": "2023-04-27T19:24:04.383147Z",
     "iopub.status.idle": "2023-04-27T19:24:05.264700Z",
     "shell.execute_reply": "2023-04-27T19:24:05.264096Z",
     "shell.execute_reply.started": "2023-04-27T19:24:04.383416Z"
    },
    "tags": []
   },
   "outputs": [],
   "source": [
    "bumps = await client.select_time_series(\"lsst.sal.MTM1M3.logevent_forceActuatorBumpTestStatus\", \"*\", start, end)"
   ]
  },
  {
   "cell_type": "markdown",
   "metadata": {},
   "source": [
    "## Given an actuator ID, this plots the bump test result"
   ]
  },
  {
   "cell_type": "code",
   "execution_count": null,
   "metadata": {
    "execution": {
     "iopub.execute_input": "2023-04-27T19:30:38.461105Z",
     "iopub.status.busy": "2023-04-27T19:30:38.460739Z",
     "iopub.status.idle": "2023-04-27T19:30:38.471016Z",
     "shell.execute_reply": "2023-04-27T19:30:38.470532Z",
     "shell.execute_reply.started": "2023-04-27T19:30:38.461088Z"
    },
    "tags": []
   },
   "outputs": [],
   "source": [
    "async def plotBumpTestResults(bumps, id):\n",
    "    thisBump = bumps[bumps['actuatorId']==id]\n",
    "    index = M1M3FATable.actuatorIDToIndex(id)\n",
    "    # The pass/fail results are actually in the next test.\n",
    "    lastThisBumpIndex = bumps[bumps['actuatorId']==id].last_valid_index()\n",
    "    passFail = bumps.iloc[bumps.index.get_loc(lastThisBumpIndex)+1]\n",
    "    primaryBump = f\"primaryTest{FATABLE[index][M1M3FATable.FATABLE_ZINDEX]}\"\n",
    "    primaryForce = f\"zForce{FATABLE[index][M1M3FATable.FATABLE_ZINDEX]}\"\n",
    "    if FATABLE[index][M1M3FATable.FATABLE_TYPE] == 'DAA':\n",
    "        if FATABLE[index][M1M3FATable.FATABLE_ORIENTATION] in ['+Y', '-Y']:\n",
    "            secondaryBump = f\"secondaryTest{FATABLE[index][M1M3FATable.FATABLE_SINDEX]}\"\n",
    "            secondaryForce = f\"yForce{FATABLE[index][M1M3FATable.FATABLE_YINDEX]}\"\n",
    "            secondaryName = FATABLE[index][M1M3FATable.FATABLE_ORIENTATION]\n",
    "        else:\n",
    "            secondaryBump = f\"secondaryTest{FATABLE[index][M1M3FATable.FATABLE_SINDEX]}\"\n",
    "            secondaryForce = f\"xForce{FATABLE[index][M1M3FATable.FATABLE_XINDEX]}\"\n",
    "            secondaryName = FATABLE[index][M1M3FATable.FATABLE_ORIENTATION]\n",
    "    else:\n",
    "        secondaryName = None\n",
    "\n",
    "    fig = plt.figure(figsize=(10,5))\n",
    "    plt.subplots_adjust(wspace=0.3)\n",
    "    plt.subplot(1,2,1)\n",
    "    plotStart = thisBump[thisBump[primaryBump]==2]['timestamp'].values[0] - 1.0\n",
    "    plotEnd = plotStart + 42.0 #thisBump[thisBump[primaryBump]==5]['timestamp'].values[0] + 2.0\n",
    "    start = Time(plotStart, format='unix_tai', scale='tai')\n",
    "    end = Time(plotEnd, format='unix_tai', scale='tai')\n",
    "    forces = await client.select_time_series(\"lsst.sal.MTM1M3.forceActuatorData\", [primaryForce, 'timestamp'], start.utc, end.utc)\n",
    "    times = forces['timestamp'].values\n",
    "    t0 = times[0]\n",
    "    times -= t0\n",
    "    plotStart -= t0\n",
    "    plotEnd -= t0\n",
    "    plt.title(f\"Primary - Z - ID:{id}\")\n",
    "    plt.plot(times, forces[primaryForce].values)\n",
    "    if passFail[primaryBump] == 6:\n",
    "        plt.text(2.0, 350.0, \"PASSED\", color='g')\n",
    "    elif passFail[primaryBump] == 7:\n",
    "        plt.text(2.0, 350.0, \"FAILED\", color='r')\n",
    "\n",
    "    plt.xlim(plotStart, plotEnd)\n",
    "    plt.ylim(-400,400)\n",
    "    plt.xlabel(\"Time (seconds)\")\n",
    "    plt.ylabel(\"Force (nt)\")\n",
    "    plt.subplot(1,2,2)\n",
    "    if secondaryName is not None:\n",
    "        plt.title(f\"Secondary - {secondaryName} - ID:{id}\")\n",
    "        plotStart = thisBump[thisBump[secondaryBump]==2]['timestamp'].values[0] - 1.0\n",
    "        plotEnd = plotStart + 42.0 #thisBump[thisBump[secondaryBump]==5]['timestamp'].values[0] + 2.0\n",
    "        start = Time(plotStart, format='unix_tai', scale='tai')\n",
    "        end = Time(plotEnd, format='unix_tai', scale='tai')\n",
    "        forces = await client.select_time_series(\"lsst.sal.MTM1M3.forceActuatorData\", [secondaryForce, 'timestamp'], start.utc, end.utc)\n",
    "        times = forces['timestamp'].values\n",
    "        t0 = times[0]\n",
    "        times -= t0\n",
    "        plotStart -= t0\n",
    "        plotEnd -= t0\n",
    "        plt.plot(times, forces[secondaryForce].values)\n",
    "        if passFail[secondaryBump] == 6:\n",
    "            plt.text(2.0, 350.0, \"PASSED\", color='g')\n",
    "        elif passFail[secondaryBump] == 7:\n",
    "            plt.text(2.0, 350.0, \"FAILED\", color='r')\n",
    "        plt.xlim(plotStart, plotEnd)\n",
    "        plt.ylim(-400,400)\n",
    "        plt.xlabel(\"Time (seconds)\")\n",
    "        plt.ylabel(\"Force (nt)\")\n",
    "    else:\n",
    "        plt.title(\"No Secondary\")\n",
    "        plt.xticks([])\n",
    "        plt.yticks([])\n",
    "    return"
   ]
  },
  {
   "cell_type": "code",
   "execution_count": null,
   "metadata": {
    "execution": {
     "iopub.execute_input": "2023-04-27T19:43:38.744159Z",
     "iopub.status.busy": "2023-04-27T19:43:38.743816Z",
     "iopub.status.idle": "2023-04-27T19:43:39.012466Z",
     "shell.execute_reply": "2023-04-27T19:43:39.011952Z",
     "shell.execute_reply.started": "2023-04-27T19:43:38.744141Z"
    },
    "tags": []
   },
   "outputs": [],
   "source": [
    "await plotBumpTestResults(bumps, 102)"
   ]
  },
  {
   "cell_type": "markdown",
   "metadata": {},
   "source": [
    "## Now let's look at more of them"
   ]
  },
  {
   "cell_type": "code",
   "execution_count": null,
   "metadata": {
    "execution": {
     "iopub.execute_input": "2023-04-27T18:15:05.243478Z",
     "iopub.status.busy": "2023-04-27T18:15:05.243103Z",
     "iopub.status.idle": "2023-04-27T18:15:05.247091Z",
     "shell.execute_reply": "2023-04-27T18:15:05.246613Z",
     "shell.execute_reply.started": "2023-04-27T18:15:05.243461Z"
    },
    "tags": []
   },
   "outputs": [],
   "source": [
    "# Times of bump test\n",
    "start = Time(\"2020-06-01T00:00:00\", scale='utc')\n",
    "#end = Time(\"2022-06-01T00:00:00\", scale='utc')\n",
    "end = Time(\"2023-04-20T00:00:00\", scale='utc')"
   ]
  },
  {
   "cell_type": "code",
   "execution_count": null,
   "metadata": {
    "execution": {
     "iopub.execute_input": "2023-04-27T18:15:06.068801Z",
     "iopub.status.busy": "2023-04-27T18:15:06.068447Z",
     "iopub.status.idle": "2023-04-27T18:15:14.580445Z",
     "shell.execute_reply": "2023-04-27T18:15:14.579860Z",
     "shell.execute_reply.started": "2023-04-27T18:15:06.068784Z"
    },
    "tags": []
   },
   "outputs": [],
   "source": [
    "manyBumps = await client.select_time_series(\"lsst.sal.MTM1M3.logevent_forceActuatorBumpTestStatus\", \"*\", start, end)"
   ]
  },
  {
   "cell_type": "code",
   "execution_count": null,
   "metadata": {
    "execution": {
     "iopub.execute_input": "2023-04-27T18:15:14.630304Z",
     "iopub.status.busy": "2023-04-27T18:15:14.629862Z",
     "iopub.status.idle": "2023-04-27T18:15:14.633276Z",
     "shell.execute_reply": "2023-04-27T18:15:14.632823Z",
     "shell.execute_reply.started": "2023-04-27T18:15:14.630288Z"
    },
    "tags": []
   },
   "outputs": [],
   "source": [
    "len(manyBumps)"
   ]
  },
  {
   "cell_type": "code",
   "execution_count": null,
   "metadata": {
    "execution": {
     "iopub.execute_input": "2023-04-27T19:47:26.256270Z",
     "iopub.status.busy": "2023-04-27T19:47:26.255988Z",
     "iopub.status.idle": "2023-04-27T19:47:26.267960Z",
     "shell.execute_reply": "2023-04-27T19:47:26.267574Z",
     "shell.execute_reply.started": "2023-04-27T19:47:26.256254Z"
    },
    "tags": []
   },
   "outputs": [],
   "source": [
    "async def plotMultipleBumpTestResults(manyBumps, id):\n",
    "    theseBumps = manyBumps[manyBumps['actuatorId']==id]\n",
    "    index = M1M3FATable.actuatorIDToIndex(id)\n",
    "    primaryBump = f\"primaryTest{FATABLE[index][M1M3FATable.FATABLE_ZINDEX]}\"\n",
    "    primaryForce = f\"zForce{FATABLE[index][M1M3FATable.FATABLE_ZINDEX]}\"\n",
    "    if FATABLE[index][M1M3FATable.FATABLE_TYPE] == 'DAA':\n",
    "        if FATABLE[index][M1M3FATable.FATABLE_ORIENTATION] in ['+Y', '-Y']:\n",
    "            secondaryBump = f\"secondaryTest{FATABLE[index][M1M3FATable.FATABLE_SINDEX]}\"\n",
    "            secondaryForce = f\"yForce{FATABLE[index][M1M3FATable.FATABLE_YINDEX]}\"\n",
    "            secondaryName = FATABLE[index][M1M3FATable.FATABLE_ORIENTATION]\n",
    "        else:\n",
    "            secondaryBump = f\"secondaryTest{FATABLE[index][M1M3FATable.FATABLE_SINDEX]}\"\n",
    "            secondaryForce = f\"xForce{FATABLE[index][M1M3FATable.FATABLE_XINDEX]}\"\n",
    "            secondaryName = FATABLE[index][M1M3FATable.FATABLE_ORIENTATION]\n",
    "    else:\n",
    "        secondaryName = None\n",
    "\n",
    "    fig = plt.figure(figsize=(10,5))\n",
    "    plt.subplots_adjust(wspace=0.3)\n",
    "    plt.suptitle(f\"Multiple bump tests Actuator ID {id}\", fontsize=18)\n",
    "\n",
    "    # Now find the separate tests\n",
    "    times = theseBumps['timestamp'].values\n",
    "    startTimes = []\n",
    "    endTimes = []\n",
    "    for i, time in enumerate(times):\n",
    "        if i == 0:\n",
    "            startTimes.append(time)\n",
    "            continue\n",
    "        if (time - times[i-1]) > 60.0:\n",
    "            startTimes.append(time)\n",
    "            endTimes.append(times[i-1])\n",
    "    endTimes.append(times[-1])\n",
    "    numPlots = 0\n",
    "    for i in range(len(startTimes)):\n",
    "        startTime = startTimes[i]\n",
    "        endTime = endTimes[i]\n",
    "        thisBump = theseBumps[(theseBumps['timestamp'] >= startTime) & (theseBumps['timestamp'] <= endTime)]\n",
    "        \n",
    "        try:\n",
    "            numPlots += 1\n",
    "            plt.subplot(1,2,1)\n",
    "            plotStart = thisBump[thisBump[primaryBump]==2]['timestamp'].values[0] - 1.0\n",
    "            plotEnd = plotStart + 14.0 #thisBump[thisBump[primaryBump]==5]['timestamp'].values[0] + 2.0\n",
    "            start = Time(plotStart, format='unix_tai', scale='tai')\n",
    "            end = Time(plotEnd, format='unix_tai', scale='tai')\n",
    "            forces = await client.select_time_series(\"lsst.sal.MTM1M3.forceActuatorData\", [primaryForce, 'timestamp'], start.utc, end.utc)\n",
    "            times = forces['timestamp'].values\n",
    "            t0 = times[0]\n",
    "            times -= t0\n",
    "            plotStart -= t0\n",
    "            plotEnd -= t0\n",
    "            lastIndex = bumps[bumps['actuatorId']==id].last_valid_index()\n",
    "            passFail = bumps.iloc[bumps.index.get_loc(lastIndex)+1][primaryBump]\n",
    "            if passFail == 6:\n",
    "                print(\"PASSED\")\n",
    "            elif passFail == 7:\n",
    "                print(\"FAILED\")\n",
    "\n",
    "            plt.title(\"Primary   Z\")\n",
    "            plt.plot(times, forces[primaryForce].values)\n",
    "            plt.xlim(plotStart, plotEnd)\n",
    "            plt.ylim(-400,400)\n",
    "            plt.xlabel(\"Time (seconds)\")\n",
    "            plt.ylabel(\"Force (nt)\")\n",
    "            plt.subplot(1,2,2)\n",
    "            if secondaryName is not None:\n",
    "                plt.title(f\"Secondary   {secondaryName}\")\n",
    "                plotStart = thisBump[thisBump[secondaryBump]==2]['timestamp'].values[0] - 1.0\n",
    "                plotEnd = plotStart + 14.0 #thisBump[thisBump[secondaryBump]==5]['timestamp'].values[0] + 2.0\n",
    "                start = Time(plotStart, format='unix_tai', scale='tai')\n",
    "                end = Time(plotEnd, format='unix_tai', scale='tai')\n",
    "                forces = await client.select_time_series(\"lsst.sal.MTM1M3.forceActuatorData\", [secondaryForce, 'timestamp'], start.utc, end.utc)\n",
    "                times = forces['timestamp'].values\n",
    "                t0 = times[0]\n",
    "                times -= t0\n",
    "                plotStart -= t0\n",
    "                plotEnd -= t0\n",
    "                plt.plot(times, forces[secondaryForce].values)\n",
    "                plt.xlim(plotStart, plotEnd)\n",
    "                plt.ylim(-400,400)\n",
    "                plt.xlabel(\"Time (seconds)\")\n",
    "                plt.ylabel(\"Force (nt)\")\n",
    "            else:\n",
    "                plt.title(\"No Secondary\")\n",
    "                plt.xticks([])\n",
    "                plt.yticks([])\n",
    "        except:\n",
    "            continue\n",
    "            \n",
    "    plt.subplot(1,2,1)\n",
    "    plt.text(2.0, 350, f\"{numPlots} tests\")\n",
    "    plt.subplot(1,2,2)\n",
    "    plt.text(2.0, 350, f\"{numPlots} tests\")\n",
    "                \n",
    "    #plt.savefig(f\"/home/craiglagegit/DATA/M1M3_bump_tests/Bump_Tests_{id}.png\")\n",
    "    return"
   ]
  },
  {
   "cell_type": "code",
   "execution_count": null,
   "metadata": {
    "execution": {
     "iopub.execute_input": "2023-04-27T19:52:08.430140Z",
     "iopub.status.busy": "2023-04-27T19:52:08.429758Z",
     "iopub.status.idle": "2023-04-27T19:52:09.242773Z",
     "shell.execute_reply": "2023-04-27T19:52:09.242184Z",
     "shell.execute_reply.started": "2023-04-27T19:52:08.430122Z"
    },
    "tags": []
   },
   "outputs": [],
   "source": [
    "await plotMultipleBumpTestResults(manyBumps, 115)"
   ]
  },
  {
   "cell_type": "code",
   "execution_count": null,
   "metadata": {
    "execution": {
     "iopub.execute_input": "2023-04-27T16:45:39.885236Z",
     "iopub.status.busy": "2023-04-27T16:45:39.884872Z",
     "iopub.status.idle": "2023-04-27T16:45:39.939030Z",
     "shell.execute_reply": "2023-04-27T16:45:39.938465Z",
     "shell.execute_reply.started": "2023-04-27T16:45:39.885218Z"
    },
    "tags": []
   },
   "outputs": [],
   "source": [
    "id=227\n",
    "thisBump = bumps[bumps['actuatorId']==id]\n",
    "index = M1M3FATable.actuatorIDToIndex(id)\n",
    "primaryBump = f\"primaryTest{FATABLE[index][M1M3FATable.FATABLE_ZINDEX]}\"\n",
    "primaryForce = f\"zForce{FATABLE[index][M1M3FATable.FATABLE_ZINDEX]}\"\n",
    "\n",
    "plotStart = thisBump[thisBump[primaryBump]==2]['timestamp'].values[0] - 1.0\n",
    "plotEnd = plotStart + 14.0 #thisBump[thisBump[primaryBump]==5]['timestamp'].values[0] + 2.0\n",
    "start = Time(plotStart, format='unix_tai', scale='tai')\n",
    "end = Time(plotEnd, format='unix_tai', scale='tai')\n",
    "forces = await client.select_time_series(\"lsst.sal.MTM1M3.forceActuatorData\", [primaryForce, 'timestamp'], start.utc, end.utc)\n",
    "times = forces['timestamp'].values\n",
    "times -= times[0]\n",
    "theseForces = forces[primaryForce].values"
   ]
  },
  {
   "cell_type": "code",
   "execution_count": null,
   "metadata": {
    "execution": {
     "iopub.execute_input": "2023-04-27T16:45:32.614993Z",
     "iopub.status.busy": "2023-04-27T16:45:32.614624Z",
     "iopub.status.idle": "2023-04-27T16:45:32.712092Z",
     "shell.execute_reply": "2023-04-27T16:45:32.711572Z",
     "shell.execute_reply.started": "2023-04-27T16:45:32.614976Z"
    },
    "tags": []
   },
   "outputs": [],
   "source": [
    "from scipy.interpolate import UnivariateSpline\n",
    "plt.plot(times, theseForces)\n",
    "#spline = UnivariateSpline(times, theseForces, s=0.0)\n",
    "plt.plot(times, spline(times))\n",
    "rms = np.sqrt(np.mean((theseForces - spline(times))*(theseForces - spline(times))))\n",
    "print(rms)"
   ]
  },
  {
   "cell_type": "code",
   "execution_count": null,
   "metadata": {
    "execution": {
     "iopub.execute_input": "2023-04-27T16:42:25.034320Z",
     "iopub.status.busy": "2023-04-27T16:42:25.033952Z",
     "iopub.status.idle": "2023-04-27T16:42:25.037931Z",
     "shell.execute_reply": "2023-04-27T16:42:25.037479Z",
     "shell.execute_reply.started": "2023-04-27T16:42:25.034301Z"
    },
    "tags": []
   },
   "outputs": [],
   "source": [
    "len(spline(times))"
   ]
  },
  {
   "cell_type": "code",
   "execution_count": null,
   "metadata": {},
   "outputs": [],
   "source": []
  },
  {
   "cell_type": "code",
   "execution_count": null,
   "metadata": {
    "execution": {
     "iopub.execute_input": "2023-04-27T19:51:09.864377Z",
     "iopub.status.busy": "2023-04-27T19:51:09.863996Z",
     "iopub.status.idle": "2023-04-27T19:51:09.874024Z",
     "shell.execute_reply": "2023-04-27T19:51:09.873532Z",
     "shell.execute_reply.started": "2023-04-27T19:51:09.864359Z"
    },
    "tags": []
   },
   "outputs": [],
   "source": [
    "async def generateAverageBumpTest(manyBumps, id):\n",
    "    theseBumps = manyBumps[manyBumps['actuatorId']==id]\n",
    "    index = M1M3FATable.actuatorIDToIndex(id)\n",
    "    primaryBump = f\"primaryTest{FATABLE[index][M1M3FATable.FATABLE_ZINDEX]}\"\n",
    "    primaryForce = f\"zForce{FATABLE[index][M1M3FATable.FATABLE_ZINDEX]}\"\n",
    "    if FATABLE[index][M1M3FATable.FATABLE_TYPE] == 'DAA':\n",
    "        if FATABLE[index][M1M3FATable.FATABLE_ORIENTATION] in ['+Y', '-Y']:\n",
    "            secondaryBump = f\"secondaryTest{FATABLE[index][M1M3FATable.FATABLE_SINDEX]}\"\n",
    "            secondaryForce = f\"yForce{FATABLE[index][M1M3FATable.FATABLE_YINDEX]}\"\n",
    "            secondaryName = FATABLE[index][M1M3FATable.FATABLE_ORIENTATION]\n",
    "        else:\n",
    "            secondaryBump = f\"secondaryTest{FATABLE[index][M1M3FATable.FATABLE_SINDEX]}\"\n",
    "            secondaryForce = f\"xForce{FATABLE[index][M1M3FATable.FATABLE_XINDEX]}\"\n",
    "            secondaryName = FATABLE[index][M1M3FATable.FATABLE_ORIENTATION]\n",
    "    else:\n",
    "        secondaryName = None\n",
    "\n",
    "    # Now find the separate tests\n",
    "    times = theseBumps['timestamp'].values\n",
    "    startTimes = []\n",
    "    endTimes = []\n",
    "    for i, time in enumerate(times):\n",
    "        if i == 0:\n",
    "            startTimes.append(time)\n",
    "            continue\n",
    "        if (time - times[i-1]) > 60.0:\n",
    "            startTimes.append(time)\n",
    "            endTimes.append(times[i-1])\n",
    "    endTimes.append(times[-1])\n",
    "    numPlots = 0\n",
    "    primarySplines = []\n",
    "    secondarySplines = []\n",
    "    for i in range(len(startTimes)):\n",
    "        startTime = startTimes[i]\n",
    "        endTime = endTimes[i]\n",
    "        thisBump = theseBumps[(theseBumps['timestamp'] >= startTime) & (theseBumps['timestamp'] <= endTime)]\n",
    "        # The pass/fail results are actually in the next test.\n",
    "        lastThisBumpIndex = bumps[bumps['actuatorId']==id].last_valid_index()\n",
    "        passFail = bumps.iloc[bumps.index.get_loc(lastThisBumpIndex)+1]\n",
    "        if passFail[primaryBump] == 7:\n",
    "            continue\n",
    "        try:\n",
    "            plotStart = thisBump[thisBump[primaryBump]==2]['timestamp'].values[0] - 1.0\n",
    "            plotEnd = plotStart + 14.0\n",
    "            start = Time(plotStart, format='unix_tai', scale='tai')\n",
    "            end = Time(plotEnd, format='unix_tai', scale='tai')\n",
    "            forces = await client.select_time_series(\"lsst.sal.MTM1M3.forceActuatorData\", [primaryForce, 'timestamp'], start.utc, end.utc)\n",
    "            times = forces['timestamp'].values\n",
    "            t0 = times[0]\n",
    "            times -= t0\n",
    "            primaryForces = forces[primaryForce].values\n",
    "            primarySpline = UnivariateSpline(times, primaryForces, s=0.0)\n",
    "            primarySplines.append(primarySpline)\n",
    "            if secondaryName is not None:\n",
    "                if passFail[secondaryBump] == 7:\n",
    "                    continue\n",
    "                plotStart = thisBump[thisBump[secondaryBump]==2]['timestamp'].values[0] - 1.0\n",
    "                plotEnd = plotStart + 14.0\n",
    "                start = Time(plotStart, format='unix_tai', scale='tai')\n",
    "                end = Time(plotEnd, format='unix_tai', scale='tai')\n",
    "                forces = await client.select_time_series(\"lsst.sal.MTM1M3.forceActuatorData\", [secondaryForce, 'timestamp'], start.utc, end.utc)\n",
    "                times = forces['timestamp'].values\n",
    "                t0 = times[0]\n",
    "                times -= t0\n",
    "                secondaryForces = forces[secondaryForce].values\n",
    "                secondarySpline = UnivariateSpline(times, secondaryForces, s=0.0)\n",
    "                secondarySplines.append(secondarySpline)\n",
    "        except:\n",
    "            continue\n",
    "\n",
    "    return [primarySplines, secondarySplines]"
   ]
  },
  {
   "cell_type": "code",
   "execution_count": null,
   "metadata": {
    "execution": {
     "iopub.execute_input": "2023-04-27T19:51:42.129953Z",
     "iopub.status.busy": "2023-04-27T19:51:42.129547Z",
     "iopub.status.idle": "2023-04-27T19:51:42.510693Z",
     "shell.execute_reply": "2023-04-27T19:51:42.510085Z",
     "shell.execute_reply.started": "2023-04-27T19:51:42.129934Z"
    },
    "tags": []
   },
   "outputs": [],
   "source": [
    "[primarySplines, secondarySplines] = await generateAverageBumpTest(manyBumps, 115)"
   ]
  },
  {
   "cell_type": "code",
   "execution_count": null,
   "metadata": {
    "execution": {
     "iopub.execute_input": "2023-04-27T19:51:42.682475Z",
     "iopub.status.busy": "2023-04-27T19:51:42.682099Z",
     "iopub.status.idle": "2023-04-27T19:51:42.700295Z",
     "shell.execute_reply": "2023-04-27T19:51:42.699808Z",
     "shell.execute_reply.started": "2023-04-27T19:51:42.682458Z"
    },
    "tags": []
   },
   "outputs": [],
   "source": [
    "ts = np.linspace(0,14,5000)\n",
    "fs = np.zeros_like(ts)\n",
    "numSplines = len(primarySplines)\n",
    "for spline in primarySplines:\n",
    "    fs += spline(ts)\n",
    "fs /= numSplines\n",
    "averagePrimarySpline = UnivariateSpline(ts, fs)"
   ]
  },
  {
   "cell_type": "code",
   "execution_count": null,
   "metadata": {
    "execution": {
     "iopub.execute_input": "2023-04-27T19:51:43.215331Z",
     "iopub.status.busy": "2023-04-27T19:51:43.214962Z",
     "iopub.status.idle": "2023-04-27T19:51:43.231138Z",
     "shell.execute_reply": "2023-04-27T19:51:43.230656Z",
     "shell.execute_reply.started": "2023-04-27T19:51:43.215313Z"
    },
    "tags": []
   },
   "outputs": [],
   "source": [
    "fs = np.zeros_like(ts)\n",
    "numSplines = len(secondarySplines)\n",
    "for spline in secondarySplines:\n",
    "    fs += spline(ts)\n",
    "fs /= numSplines\n",
    "averageSecondarySpline = UnivariateSpline(ts, fs)"
   ]
  },
  {
   "cell_type": "code",
   "execution_count": null,
   "metadata": {
    "execution": {
     "iopub.execute_input": "2023-04-27T19:51:43.776580Z",
     "iopub.status.busy": "2023-04-27T19:51:43.776232Z",
     "iopub.status.idle": "2023-04-27T19:51:43.919043Z",
     "shell.execute_reply": "2023-04-27T19:51:43.918472Z",
     "shell.execute_reply.started": "2023-04-27T19:51:43.776562Z"
    },
    "tags": []
   },
   "outputs": [],
   "source": [
    "\n",
    "plt.subplot(1,2,1)\n",
    "plt.plot(ts, averagePrimarySpline(ts))\n",
    "plt.subplot(1,2,2)\n",
    "plt.plot(ts, averageSecondarySpline(ts))"
   ]
  },
  {
   "cell_type": "code",
   "execution_count": null,
   "metadata": {
    "execution": {
     "iopub.execute_input": "2023-04-27T18:59:27.243826Z",
     "iopub.status.busy": "2023-04-27T18:59:27.243324Z",
     "iopub.status.idle": "2023-04-27T18:59:27.357049Z",
     "shell.execute_reply": "2023-04-27T18:59:27.356655Z",
     "shell.execute_reply.started": "2023-04-27T18:59:27.243808Z"
    }
   },
   "outputs": [],
   "source": [
    "for spline in secondarySplines:\n",
    "    plt.plot(ts, spline(ts))"
   ]
  },
  {
   "cell_type": "code",
   "execution_count": null,
   "metadata": {},
   "outputs": [],
   "source": []
  }
 ],
 "metadata": {
  "kernelspec": {
   "display_name": "LSST",
   "language": "python",
   "name": "lsst"
  },
  "language_info": {
   "codemirror_mode": {
    "name": "ipython",
    "version": 3
   },
   "file_extension": ".py",
   "mimetype": "text/x-python",
   "name": "python",
   "nbconvert_exporter": "python",
   "pygments_lexer": "ipython3",
   "version": "3.10.11"
  }
 },
 "nbformat": 4,
 "nbformat_minor": 4
}
