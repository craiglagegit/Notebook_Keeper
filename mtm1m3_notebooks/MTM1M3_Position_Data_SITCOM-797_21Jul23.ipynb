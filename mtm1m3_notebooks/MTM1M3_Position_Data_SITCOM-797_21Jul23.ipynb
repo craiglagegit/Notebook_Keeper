{
 "cells": [
  {
   "cell_type": "markdown",
   "metadata": {},
   "source": [
    "# M1M3 position data\n",
    "Craig Lage - 16-Apr-23 \\\n",
    "Comparing different position measurements."
   ]
  },
  {
   "cell_type": "code",
   "execution_count": null,
   "metadata": {
    "execution": {
     "iopub.execute_input": "2023-08-11T18:32:13.671385Z",
     "iopub.status.busy": "2023-08-11T18:32:13.671227Z",
     "iopub.status.idle": "2023-08-11T18:32:14.253703Z",
     "shell.execute_reply": "2023-08-11T18:32:14.253203Z",
     "shell.execute_reply.started": "2023-08-11T18:32:13.671372Z"
    },
    "tags": []
   },
   "outputs": [],
   "source": [
    "import sys, time, os, asyncio, glob\n",
    "from datetime import datetime\n",
    "import numpy as np\n",
    "import matplotlib.pyplot as plt\n",
    "from matplotlib.backends.backend_pdf import PdfPages\n",
    "import pickle as pkl\n",
    "from astropy.time import Time, TimeDelta\n",
    "import lsst.ts.cRIOpy.M1M3FATable as M1M3FATable\n",
    "from lsst_efd_client import EfdClient"
   ]
  },
  {
   "cell_type": "code",
   "execution_count": null,
   "metadata": {
    "execution": {
     "iopub.execute_input": "2023-08-11T18:32:14.549588Z",
     "iopub.status.busy": "2023-08-11T18:32:14.549431Z",
     "iopub.status.idle": "2023-08-11T18:32:15.000958Z",
     "shell.execute_reply": "2023-08-11T18:32:15.000540Z",
     "shell.execute_reply.started": "2023-08-11T18:32:14.549574Z"
    },
    "tags": []
   },
   "outputs": [],
   "source": [
    "FATABLE = M1M3FATable.FATABLE\n",
    "client = EfdClient('usdf_efd')"
   ]
  },
  {
   "cell_type": "code",
   "execution_count": null,
   "metadata": {
    "execution": {
     "iopub.execute_input": "2023-08-11T18:32:16.027658Z",
     "iopub.status.busy": "2023-08-11T18:32:16.027460Z",
     "iopub.status.idle": "2023-08-11T18:32:19.018512Z",
     "shell.execute_reply": "2023-08-11T18:32:19.018020Z",
     "shell.execute_reply.started": "2023-08-11T18:32:16.027643Z"
    },
    "tags": []
   },
   "outputs": [],
   "source": [
    "start = Time(\"2023-07-11T18:53:30\", scale='utc') \n",
    "end = Time(\"2023-07-11T18:58:00\", scale='utc') \n",
    "hardpoint_data = await client.select_time_series(\"lsst.sal.MTM1M3.hardpointActuatorData\", \"*\", start, end)\n",
    "monitor_data = await client.select_time_series(\"lsst.sal.MTM1M3.hardpointMonitorData\", \"*\", start, end)\n",
    "ims_data = await client.select_time_series(\"lsst.sal.MTM1M3.imsData\", \"*\", start, end)\n",
    "az = await client.select_time_series(\"lsst.sal.MTMount.azimuth\",\"actualPosition\", start, end)\n",
    "el = await client.select_time_series(\"lsst.sal.MTMount.elevation\",\"actualPosition\", start, end)\n",
    "azs = az['actualPosition'].values\n",
    "dAz = azs[-1] - azs[0]\n",
    "els = el['actualPosition'].values\n",
    "dEl = els[-1] - els[0]\n",
    "timestamp = start.isot.split('.')[0].replace('-','').replace(':','')\n",
    "print(start.isot, end.isot, timestamp)"
   ]
  },
  {
   "cell_type": "code",
   "execution_count": null,
   "metadata": {
    "execution": {
     "iopub.execute_input": "2023-08-11T18:32:19.030111Z",
     "iopub.status.busy": "2023-08-11T18:32:19.029996Z",
     "iopub.status.idle": "2023-08-11T18:32:21.820901Z",
     "shell.execute_reply": "2023-08-11T18:32:21.820522Z",
     "shell.execute_reply.started": "2023-08-11T18:32:19.030101Z"
    },
    "tags": []
   },
   "outputs": [],
   "source": [
    "%matplotlib inline\n",
    "plots = ['xPosition', 'yPosition', 'zPosition', 'xRotation', 'yRotation', 'zRotation']\n",
    "\n",
    "fig, axs = plt.subplots(3,2,figsize=(8,10))\n",
    "plt.subplots_adjust(hspace=0.6, wspace=1.0)\n",
    "plt.suptitle(f\"Mirror position changes during slew: {timestamp}\\nDeltaAz = {dAz:.3f}, DeltaEl = {dEl:.3f}\", fontsize=16)\n",
    "plot_counter = 0\n",
    "for i in range(3):\n",
    "    for j in range(2):\n",
    "        \n",
    "        smoothed_ims_data = ims_data[plots[plot_counter]].rolling(10).mean()\n",
    "        smoothed_ims_data = smoothed_ims_data.dropna()\n",
    "        smoothed_ims_data -= smoothed_ims_data[0]\n",
    "        smoothed_hardpoint_data = hardpoint_data[plots[plot_counter]].rolling(10).mean()\n",
    "        \n",
    "        if plot_counter > 2:\n",
    "            smoothed_ims_data *= 1E6\n",
    "            smoothed_hardpoint_data *= 1E6\n",
    "            unit = 'microDeg'\n",
    "        else:\n",
    "            smoothed_ims_data *= 1E6\n",
    "            smoothed_hardpoint_data *= 1E6\n",
    "            unit = 'um'\n",
    "        axs[i][j].set_title(plots[plot_counter])\n",
    "        axs[i][j].set_ylabel(f'HP Displacement({unit})')\n",
    "        axs[i][j].yaxis.label.set_color('blue')\n",
    "        ax = axs[i][j].twinx()\n",
    "        ax.set_ylabel(f'IMS ({unit})')\n",
    "        ax.yaxis.label.set_color('red')\n",
    "        initial_pos = np.median(smoothed_ims_data.values[0:100])\n",
    "        final_pos = np.median(smoothed_ims_data.values[-100:-1])\n",
    "        pos_delta = initial_pos - final_pos\n",
    "        axs[i][j].set_title(plots[plot_counter]+f\"\\n Position Delta = {pos_delta:.1f} {unit}\")\n",
    "\n",
    "        smoothed_hardpoint_data.plot(ax=axs[i][j], color='blue', label='Hardpoint')\n",
    "        smoothed_ims_data.plot(ax=ax, color='red', label='IMS')\n",
    "        plot_counter += 1\n",
    "plt.savefig(f\"/home/c/cslage/u/MTM1M3/data/Position_Data_{timestamp}.png\")"
   ]
  },
  {
   "cell_type": "markdown",
   "metadata": {},
   "source": [
    "## Why is displacementLVDT1 flatline here, but displacementLVDT4 flatline in the raise/lower plots?  These things need follow-up.\n",
    "### Repeat this for raise/lower\n",
    "### Implement the matrix to convert displacementLVDTx to XYZ positions and rotations.\n",
    "### Check this with hardpoint displacements and hardpoint positions."
   ]
  },
  {
   "cell_type": "code",
   "execution_count": null,
   "metadata": {
    "execution": {
     "iopub.execute_input": "2023-08-11T18:32:28.324540Z",
     "iopub.status.busy": "2023-08-11T18:32:28.324322Z",
     "iopub.status.idle": "2023-08-11T18:32:30.795825Z",
     "shell.execute_reply": "2023-08-11T18:32:30.795402Z",
     "shell.execute_reply.started": "2023-08-11T18:32:28.324524Z"
    },
    "tags": []
   },
   "outputs": [],
   "source": [
    "# Need to convert displacementLVDT values into xyz.\n",
    "\n",
    "%matplotlib inline\n",
    "plots = ['xPosition', 'yPosition', 'zPosition', 'xRotation', 'yRotation', 'zRotation']\n",
    "\n",
    "fig, axs = plt.subplots(3,2,figsize=(8,10))\n",
    "plt.subplots_adjust(hspace=0.6, wspace=1.0)\n",
    "plt.suptitle(f\"Mirror position changes during slew: {timestamp}\\nDeltaAz = {dAz:.3f}, DeltaEl = {dEl:.3f}\", fontsize=16)\n",
    "plot_counter = 0\n",
    "for i in range(3):\n",
    "    for j in range(2):\n",
    "        \n",
    "        smoothed_ims_data = ims_data[plots[plot_counter]].rolling(10).mean()\n",
    "        smoothed_ims_data = smoothed_ims_data.dropna()\n",
    "        smoothed_ims_data -= smoothed_ims_data[0]\n",
    "        smoothed_monitor_data = monitor_data[f\"displacementLVDT{plot_counter}\"].rolling(1000).mean()\n",
    "        \n",
    "        if plot_counter > 2:\n",
    "            smoothed_ims_data *= 1E6\n",
    "            smoothed_monitor_data *= 6.5E3\n",
    "            unit = 'microDeg'\n",
    "        else:\n",
    "            smoothed_ims_data *= 1E6\n",
    "            smoothed_monitor_data *= 6.5E3\n",
    "            unit = 'um'\n",
    "        axs[i][j].set_title(plots[plot_counter])\n",
    "        axs[i][j].set_ylabel(f'displacementLVDT{plot_counter}({unit})')\n",
    "        axs[i][j].yaxis.label.set_color('blue')\n",
    "        ax = axs[i][j].twinx()\n",
    "        ax.set_ylabel(f'IMS ({unit})')\n",
    "        ax.yaxis.label.set_color('red')\n",
    "        initial_pos = np.median(smoothed_ims_data.values[0:100])\n",
    "        final_pos = np.median(smoothed_ims_data.values[-100:-1])\n",
    "        pos_delta = initial_pos - final_pos\n",
    "        axs[i][j].set_title(plots[plot_counter]+f\"\\n Position Delta = {pos_delta:.1f} {unit}\")\n",
    "\n",
    "        smoothed_monitor_data.plot(ax=axs[i][j], color='blue', label='Hardpoint')\n",
    "        smoothed_ims_data.plot(ax=ax, color='red', label='IMS')\n",
    "        plot_counter += 1\n",
    "#plt.savefig(f\"/home/c/cslage/u/MTM1M3/data/Position_Data_{timestamp}.png\")"
   ]
  },
  {
   "cell_type": "code",
   "execution_count": null,
   "metadata": {
    "execution": {
     "iopub.execute_input": "2023-08-11T18:32:35.107637Z",
     "iopub.status.busy": "2023-08-11T18:32:35.107383Z",
     "iopub.status.idle": "2023-08-11T18:32:36.412691Z",
     "shell.execute_reply": "2023-08-11T18:32:36.412212Z",
     "shell.execute_reply.started": "2023-08-11T18:32:35.107622Z"
    },
    "tags": []
   },
   "outputs": [],
   "source": [
    "\n",
    "fig, axs = plt.subplots(3,1,figsize=(8,10))\n",
    "plt.subplots_adjust(hspace=0.6, wspace=1.0)\n",
    "plt.suptitle(f\"Mirror position measurements: {timestamp}\", fontsize=16)\n",
    "\n",
    "smoothed_ims_data = ims_data['zPosition'].rolling(10).mean()\n",
    "smoothed_ims_data = smoothed_ims_data.dropna()\n",
    "smoothed_ims_data -= smoothed_ims_data[0]\n",
    "smoothed_hardpoint_data = hardpoint_data['zPosition'].rolling(10).mean()\n",
    "smoothed_lvdt_data = monitor_data['displacementLVDT4'].rolling(1000).mean()\n",
    "\n",
    "axs[0].set_title('IMS zPosition')\n",
    "axs[0].set_ylabel(f'zPosition (um)')\n",
    "axs[0].yaxis.label.set_color('blue')\n",
    "ax = axs[0].twinx()\n",
    "ax.set_ylabel(f'Elevation(degrees)')\n",
    "ax.yaxis.label.set_color('red')\n",
    "smoothed_ims_data.plot(ax=axs[0], color='blue', label='IMS')\n",
    "el['actualPosition'].plot(ax=ax, color='red', label='Elevation')\n",
    "\n",
    "axs[1].set_title('Hardpoint encoder')\n",
    "axs[1].set_ylabel(f'zPosition (um)')\n",
    "axs[1].yaxis.label.set_color('blue')\n",
    "ax = axs[1].twinx()\n",
    "ax.set_ylabel(f'Elevation(degrees)')\n",
    "ax.yaxis.label.set_color('red')\n",
    "smoothed_hardpoint_data.plot(ax=axs[1], color='blue', label='Hardpoint')\n",
    "el['actualPosition'].plot(ax=ax, color='red', label='Elevation')\n",
    "\n",
    "axs[2].set_title('LVDT 4')\n",
    "axs[2].set_ylabel(f'Position (?)')\n",
    "axs[2].yaxis.label.set_color('blue')\n",
    "ax = axs[2].twinx()\n",
    "ax.set_ylabel(f'Elevation(degrees)')\n",
    "ax.yaxis.label.set_color('red')\n",
    "smoothed_lvdt_data.plot(ax=axs[2], color='blue', label='Hardpoint')\n",
    "el['actualPosition'].plot(ax=ax, color='red', label='Elevation')\n",
    "\n",
    "plt.savefig(f\"/home/c/cslage/u/MTM1M3/data/Position_Data_Sources_2_{timestamp}.png\")"
   ]
  },
  {
   "cell_type": "code",
   "execution_count": null,
   "metadata": {
    "execution": {
     "iopub.execute_input": "2023-08-11T18:32:41.410763Z",
     "iopub.status.busy": "2023-08-11T18:32:41.410319Z",
     "iopub.status.idle": "2023-08-11T18:32:43.101238Z",
     "shell.execute_reply": "2023-08-11T18:32:43.098555Z",
     "shell.execute_reply.started": "2023-08-11T18:32:41.410746Z"
    },
    "tags": []
   },
   "outputs": [],
   "source": [
    "%matplotlib inline\n",
    "fig, axs = plt.subplots(3,2,figsize=(8,10))\n",
    "plt.subplots_adjust(hspace=0.6, wspace=1.0)\n",
    "plt.suptitle(f\"Hardpoint forces during slew: {timestamp}\\nDeltaAz = {dAz:.3f}, DeltaEl = {dEl:.3f}\", fontsize=16)\n",
    "plot_counter = 0\n",
    "for i in range(3):\n",
    "    for j in range(2):\n",
    "        name = f\"measuredForce{plot_counter}\"\n",
    "        axs[i][j].set_ylabel(f'Force (N)')\n",
    "        initial_force = np.median(hardpoint_data[name].values[0:100])\n",
    "        final_force = np.median(hardpoint_data[name].values[-100:-1])\n",
    "        force_delta = initial_force - final_force\n",
    "        axs[i][j].set_title(f\"Hardpoint {name}\\n Force Delta = {force_delta:.1f} N\")\n",
    "        hardpoint_data[name].plot(ax=axs[i][j])\n",
    "        plot_counter += 1\n",
    "plt.savefig(f\"/home/c/cslage/u/MTM1M3/data/Hardpoint_Forces_{timestamp}.png\")"
   ]
  },
  {
   "cell_type": "code",
   "execution_count": null,
   "metadata": {},
   "outputs": [],
   "source": []
  }
 ],
 "metadata": {
  "kernelspec": {
   "display_name": "LSST",
   "language": "python",
   "name": "lsst"
  },
  "language_info": {
   "codemirror_mode": {
    "name": "ipython",
    "version": 3
   },
   "file_extension": ".py",
   "mimetype": "text/x-python",
   "name": "python",
   "nbconvert_exporter": "python",
   "pygments_lexer": "ipython3",
   "version": "3.11.4"
  }
 },
 "nbformat": 4,
 "nbformat_minor": 4
}
