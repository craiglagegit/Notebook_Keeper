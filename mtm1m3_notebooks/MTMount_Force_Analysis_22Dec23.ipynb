{
 "cells": [
  {
   "cell_type": "code",
   "execution_count": null,
   "id": "41f5d31a-1ffb-4b57-8cf4-3359635e5b73",
   "metadata": {
    "execution": {
     "iopub.execute_input": "2023-12-22T17:03:42.938227Z",
     "iopub.status.busy": "2023-12-22T17:03:42.938086Z",
     "iopub.status.idle": "2023-12-22T17:03:49.978289Z",
     "shell.execute_reply": "2023-12-22T17:03:49.977797Z",
     "shell.execute_reply.started": "2023-12-22T17:03:42.938212Z"
    }
   },
   "outputs": [],
   "source": [
    "import sys, time, os, asyncio, glob\n",
    "import numpy as np\n",
    "import matplotlib.pyplot as plt\n",
    "%matplotlib inline\n",
    "import pickle as pkl\n",
    "from astropy.time import Time, TimeDelta\n",
    "from lsst_efd_client import EfdClient\n",
    "from lsst.summit.utils.efdUtils import getEfdData\n",
    "from lsst.ts.xml.tables.m1m3 import FATable, FAIndex, force_actuator_from_id, actuator_id_to_index"
   ]
  },
  {
   "cell_type": "code",
   "execution_count": null,
   "id": "01a014f7-52f0-459f-8d59-ac8b7351a568",
   "metadata": {},
   "outputs": [],
   "source": [
    "#from lsst.ts.aos.utils.m1m3 import m1m3_aav"
   ]
  },
  {
   "cell_type": "code",
   "execution_count": null,
   "id": "4eb178eb-60c6-4e28-bd95-e9baca574ca8",
   "metadata": {
    "execution": {
     "iopub.execute_input": "2023-12-22T17:03:49.979472Z",
     "iopub.status.busy": "2023-12-22T17:03:49.978994Z",
     "iopub.status.idle": "2023-12-22T17:03:50.659613Z",
     "shell.execute_reply": "2023-12-22T17:03:50.659163Z",
     "shell.execute_reply.started": "2023-12-22T17:03:49.979456Z"
    }
   },
   "outputs": [],
   "source": [
    "client = EfdClient(\"usdf_efd\")"
   ]
  },
  {
   "cell_type": "code",
   "execution_count": null,
   "id": "a70f4aee-db20-4a64-a711-d134c204b445",
   "metadata": {
    "execution": {
     "iopub.execute_input": "2023-12-22T17:03:50.660398Z",
     "iopub.status.busy": "2023-12-22T17:03:50.660259Z",
     "iopub.status.idle": "2023-12-22T17:03:50.663075Z",
     "shell.execute_reply": "2023-12-22T17:03:50.662688Z",
     "shell.execute_reply.started": "2023-12-22T17:03:50.660385Z"
    }
   },
   "outputs": [],
   "source": [
    "tests = [[\"2023-12-15T23:24\", \"2023-12-15T23:40\", \"40%\", \"red-red-red-green, e.g. no compensations\"], \n",
    "         [\"2023-12-15T23:49\", \"2023-12-16T00:05\", \"40%\", \"red-green-red-green - HP load cells only, balance forces\"], \n",
    "         [\"2023-12-19T02:32\", \"2023-12-19T02:45\", \"40%\", \"green-red-green-green - DC Accelerometers, TMA velocity\"], \n",
    "         [\"2023-12-20T08:08\", \"2023-12-20T08:21\", \"40%\", \"red-red-red-green, testing PID freeze without compensation, TMA faulted\"], \n",
    "         [\"2023-12-21T23:52\", \"2023-12-22T00:03\", \"40%\", \"green-green-green-green - all compensation\"]]"
   ]
  },
  {
   "cell_type": "code",
   "execution_count": null,
   "id": "d8a55b21-5b13-4f34-9088-f3ed51d5dfa6",
   "metadata": {},
   "outputs": [],
   "source": [
    "for [start, end, speed, name] in tests:\n",
    "    start = Time(start, scale='utc')\n",
    "    end = Time(end, scale='utc')\n",
    "\n",
    "    ret = await client.select_time_series(\n",
    "        \"lsst.sal.MTM1M3.hardpointActuatorData\",\n",
    "        [\"timestamp\"]\n",
    "        + [f\"measuredForce{hp}\" for hp in range(6)]\n",
    "        + [f\"f{a}\" for a in \"xyz\"]\n",
    "        + [f\"m{a}\" for a in \"xyz\"],\n",
    "        start,\n",
    "        end,\n",
    "        )\n",
    "\n",
    "    print(speed, name)\n",
    "    for hp in range(6):\n",
    "        max = np.max(ret[f\"measuredForce{hp}\"])\n",
    "        min = np.min(ret[f\"measuredForce{hp}\"])\n",
    "        print(f\"measuredForce{hp} max = {max}\")\n",
    "        print(f\"measuredForce{hp} min = {min}\")\n",
    "    print()\n",
    "    print()\n",
    "    print(speed, name)\n",
    "    for a in \"xyz\":\n",
    "        max = np.max(ret[f\"f{a}\"])\n",
    "        print(f\"a{a} max = {max}\")\n",
    "        max = np.max(ret[f\"m{a}\"])\n",
    "        print(f\"m{a} max = {max}\")\n",
    "        min = np.min(ret[f\"f{a}\"])\n",
    "        print(f\"a{a} min = {min}\")\n",
    "        min = np.min(ret[f\"m{a}\"])\n",
    "        print(f\"m{a} min = {min}\")\n",
    "    print()\n",
    "    print()"
   ]
  },
  {
   "cell_type": "code",
   "execution_count": null,
   "id": "b5aa2fb5-5c53-4cac-b3d2-ddcc9b435b32",
   "metadata": {
    "execution": {
     "iopub.execute_input": "2023-12-22T17:34:15.983030Z",
     "iopub.status.busy": "2023-12-22T17:34:15.982385Z",
     "iopub.status.idle": "2023-12-22T17:40:17.653853Z",
     "shell.execute_reply": "2023-12-22T17:40:17.653405Z",
     "shell.execute_reply.started": "2023-12-22T17:34:15.983011Z"
    }
   },
   "outputs": [],
   "source": [
    "fig, axs = plt.subplots(5,2,figsize=(8, 20))\n",
    "plt.suptitle(\"Force actuators maximum following errors\", fontsize=24)\n",
    "plt.subplots_adjust(hspace=0.3, wspace=0.5)\n",
    "for i, [start, end, speed, name] in enumerate(tests):\n",
    "    start = Time(start, scale='utc')\n",
    "    end = Time(end, scale='utc')\n",
    "    ids = []\n",
    "    primary_errors = []\n",
    "    secondary_errors = []\n",
    "    for index in range(len(FATable)):\n",
    "        try:\n",
    "            id = FATable[index].actuator_id\n",
    "            fa = force_actuator_from_id(id)\n",
    "            primary_bump = f\"primaryTest{fa.index}\"\n",
    "            primary_follow = f\"primaryCylinderFollowingError{fa.index}\"\n",
    "            primary_force = f\"primaryCylinderForce{fa.index}\"\n",
    "            if fa.actuator_type.name == 'DAA':\n",
    "                secondary_bump = f\"secondaryTest{fa.s_index}\"\n",
    "                secondary_force = f\"secondaryCylinderForce{fa.s_index}\"\n",
    "                secondary_follow = f\"secondaryCylinderFollowingError{fa.s_index}\"\n",
    "                secondary_name = fa.orientation.name\n",
    "            else:\n",
    "                secondary_name = None\n",
    "                secondary_force = None\n",
    "                secondary_follow = None\n",
    "            forces = await client.select_time_series(\"lsst.sal.MTM1M3.forceActuatorData\", \\\n",
    "                                                     [primary_force, primary_follow], start, end)\n",
    "    \n",
    "            primary_error = np.max(abs(forces[primary_follow].values))\n",
    "            ids.append(id)\n",
    "            primary_errors.append(primary_error)\n",
    "            if secondary_follow:\n",
    "                forces = await client.select_time_series(\"lsst.sal.MTM1M3.forceActuatorData\", \\\n",
    "                                                     [secondary_force, secondary_follow], start, end)\n",
    "                secondary_error = np.max(abs(forces[secondary_follow].values))\n",
    "                secondary_errors.append(secondary_error)\n",
    "            else:\n",
    "                secondary_errors.append(None)\n",
    "            print(f\"ID {id} done\")\n",
    "        except:\n",
    "            print(f\"ID {id} failed\")\n",
    "    axs[i][0].set_title(name, fontsize=10, loc='left')\n",
    "    axs[i][0].scatter(ids, primary_errors)\n",
    "    axs[i][0].set_ylim(0,200)\n",
    "    axs[i][0].set_xlabel(\"Actuator ID\")\n",
    "    axs[i][0].set_ylabel(\"Max primary following error (N)\")\n",
    "    #axs[i][1].set_title(name, fontsize=10)\n",
    "    axs[i][1].scatter(ids, secondary_errors)\n",
    "    axs[i][1].set_ylim(0,200)\n",
    "    axs[i][1].set_xlabel(\"Actuator ID\")\n",
    "    axs[i][1].set_ylabel(\"Max secondary following error (N)\")\n",
    "plt.savefig(\"/home/c/cslage/u/MTM1M3/data/Actuator_Following_Errors_22Dec23.pdf\")    "
   ]
  },
  {
   "cell_type": "code",
   "execution_count": null,
   "id": "84e6fd4e-d706-420a-aab0-8b2c14f11f13",
   "metadata": {},
   "outputs": [],
   "source": []
  }
 ],
 "metadata": {
  "kernelspec": {
   "display_name": "LSST",
   "language": "python",
   "name": "lsst"
  },
  "language_info": {
   "codemirror_mode": {
    "name": "ipython",
    "version": 3
   },
   "file_extension": ".py",
   "mimetype": "text/x-python",
   "name": "python",
   "nbconvert_exporter": "python",
   "pygments_lexer": "ipython3",
   "version": "3.11.4"
  }
 },
 "nbformat": 4,
 "nbformat_minor": 5
}
