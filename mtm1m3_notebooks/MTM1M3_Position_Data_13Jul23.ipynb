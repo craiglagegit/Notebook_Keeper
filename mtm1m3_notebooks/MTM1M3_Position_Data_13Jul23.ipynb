{
 "cells": [
  {
   "cell_type": "markdown",
   "metadata": {},
   "source": [
    "# M1M3 position data\n",
    "Craig Lage - 16-Apr-23 \\\n",
    "Comparing different position measurements."
   ]
  },
  {
   "cell_type": "code",
   "execution_count": null,
   "metadata": {
    "execution": {
     "iopub.execute_input": "2023-07-17T13:19:06.403577Z",
     "iopub.status.busy": "2023-07-17T13:19:06.403449Z",
     "iopub.status.idle": "2023-07-17T13:19:09.479849Z",
     "shell.execute_reply": "2023-07-17T13:19:09.479265Z",
     "shell.execute_reply.started": "2023-07-17T13:19:06.403563Z"
    },
    "tags": []
   },
   "outputs": [],
   "source": [
    "import sys, time, os, asyncio, glob\n",
    "from datetime import datetime\n",
    "import numpy as np\n",
    "import matplotlib.pyplot as plt\n",
    "from matplotlib.backends.backend_pdf import PdfPages\n",
    "import pickle as pkl\n",
    "from astropy.time import Time, TimeDelta\n",
    "import lsst.ts.cRIOpy.M1M3FATable as M1M3FATable\n",
    "from scipy.interpolate import UnivariateSpline\n",
    "from lsst.summit.utils.tmaUtils import TMAEventMaker, TMAState, getSlewsFromEventList\n",
    "from lsst.summit.utils.efdUtils import (makeEfdClient,\n",
    "                                        getEfdData,\n",
    "                                        getMostRecentRowWithDataBefore,\n",
    "                                        efdTimestampToAstropy,\n",
    "                                       )"
   ]
  },
  {
   "cell_type": "code",
   "execution_count": null,
   "metadata": {
    "execution": {
     "iopub.execute_input": "2023-07-17T13:19:14.022375Z",
     "iopub.status.busy": "2023-07-17T13:19:14.022017Z",
     "iopub.status.idle": "2023-07-17T13:19:14.025092Z",
     "shell.execute_reply": "2023-07-17T13:19:14.024646Z",
     "shell.execute_reply.started": "2023-07-17T13:19:14.022358Z"
    },
    "tags": []
   },
   "outputs": [],
   "source": [
    "FATABLE = M1M3FATable.FATABLE"
   ]
  },
  {
   "cell_type": "code",
   "execution_count": null,
   "metadata": {
    "execution": {
     "iopub.execute_input": "2023-07-17T13:21:02.988958Z",
     "iopub.status.busy": "2023-07-17T13:21:02.988705Z",
     "iopub.status.idle": "2023-07-17T13:21:05.804694Z",
     "shell.execute_reply": "2023-07-17T13:21:05.804220Z",
     "shell.execute_reply.started": "2023-07-17T13:21:02.988938Z"
    },
    "tags": []
   },
   "outputs": [],
   "source": [
    "client = makeEfdClient()\n",
    "#dayObs = 20230710\n",
    "dayObs = 20230601\n",
    "eventMaker = TMAEventMaker()\n",
    "events = eventMaker.getEvents(dayObs)\n",
    "slews = [e for e in events if e.type==TMAState.SLEWING]\n",
    "tracks = [e for e in events if e.type==TMAState.TRACKING]\n",
    "print(f'Found {len(slews)} slews and {len(tracks)} tracks')"
   ]
  },
  {
   "cell_type": "code",
   "execution_count": null,
   "metadata": {
    "execution": {
     "iopub.execute_input": "2023-07-17T13:20:52.197291Z",
     "iopub.status.busy": "2023-07-17T13:20:52.196738Z",
     "iopub.status.idle": "2023-07-17T13:20:52.199608Z",
     "shell.execute_reply": "2023-07-17T13:20:52.199200Z",
     "shell.execute_reply.started": "2023-07-17T13:20:52.197274Z"
    },
    "tags": []
   },
   "outputs": [],
   "source": [
    "for slew in slews:\n",
    "    print(slew.begin, slew.end, slew.duration)"
   ]
  },
  {
   "cell_type": "code",
   "execution_count": null,
   "metadata": {
    "execution": {
     "iopub.execute_input": "2023-07-17T13:28:44.887605Z",
     "iopub.status.busy": "2023-07-17T13:28:44.887027Z",
     "iopub.status.idle": "2023-07-17T13:28:46.850823Z",
     "shell.execute_reply": "2023-07-17T13:28:46.850265Z",
     "shell.execute_reply.started": "2023-07-17T13:28:44.887587Z"
    },
    "tags": []
   },
   "outputs": [],
   "source": [
    "slew = slews[100]\n",
    "dT = 30.0\n",
    "start = slew.begin-TimeDelta(dT, format='sec')\n",
    "end = slew.end+TimeDelta(dT, format='sec')\n",
    "hardpoint_data = await client.select_time_series(\"lsst.sal.MTM1M3.hardpointActuatorData\", \"*\", start, end)\n",
    "ims_data = await client.select_time_series(\"lsst.sal.MTM1M3.imsData\", \"*\", start, end)\n",
    "az = await client.select_time_series(\"lsst.sal.MTMount.azimuth\",\"actualPosition\", start, end)\n",
    "el = await client.select_time_series(\"lsst.sal.MTMount.elevation\",\"actualPosition\", start, end)\n",
    "azs = az['actualPosition'].values\n",
    "dAz = azs[-1] - azs[0]\n",
    "els = el['actualPosition'].values\n",
    "dEl = els[-1] - els[0]\n",
    "timestamp = start.isot.split('.')[0].replace('-','').replace(':','')\n",
    "print(start.isot, end.isot, timestamp)"
   ]
  },
  {
   "cell_type": "code",
   "execution_count": null,
   "metadata": {
    "execution": {
     "iopub.execute_input": "2023-07-17T13:30:08.824823Z",
     "iopub.status.busy": "2023-07-17T13:30:08.824582Z",
     "iopub.status.idle": "2023-07-17T13:30:12.143075Z",
     "shell.execute_reply": "2023-07-17T13:30:12.142626Z",
     "shell.execute_reply.started": "2023-07-17T13:30:08.824807Z"
    },
    "tags": []
   },
   "outputs": [],
   "source": [
    "%matplotlib inline\n",
    "plots = ['xPosition', 'yPosition', 'zPosition', 'xRotation', 'yRotation', 'zRotation']\n",
    "\n",
    "fig, axs = plt.subplots(3,2,figsize=(8,10))\n",
    "plt.subplots_adjust(hspace=0.6, wspace=1.0)\n",
    "plt.suptitle(f\"Mirror position changes during slew: {timestamp}\\nDeltaAz = {dAz:.3f}, DeltaEl = {dEl:.3f}\", fontsize=16)\n",
    "plot_counter = 0\n",
    "for i in range(3):\n",
    "    for j in range(2):\n",
    "        \n",
    "        smoothed_ims_data = ims_data[plots[plot_counter]].rolling(10).mean()\n",
    "        smoothed_ims_data = smoothed_ims_data.dropna()\n",
    "        smoothed_ims_data -= smoothed_ims_data[0]\n",
    "        smoothed_hardpoint_data = hardpoint_data[plots[plot_counter]].rolling(10).mean()\n",
    "        \n",
    "        if plot_counter > 2:\n",
    "            smoothed_ims_data *= 1E6\n",
    "            smoothed_hardpoint_data *= 1E6\n",
    "            unit = 'microDeg'\n",
    "        else:\n",
    "            smoothed_ims_data *= 1E6\n",
    "            smoothed_hardpoint_data *= 1E6\n",
    "            unit = 'um'\n",
    "        axs[i][j].set_title(plots[plot_counter])\n",
    "        axs[i][j].set_ylabel(f'Hardpoint ({unit})')\n",
    "        axs[i][j].yaxis.label.set_color('blue')\n",
    "        ax = axs[i][j].twinx()\n",
    "        ax.set_ylabel(f'IMS ({unit})')\n",
    "        ax.yaxis.label.set_color('red')\n",
    "        smoothed_hardpoint_data.plot(ax=axs[i][j], color='blue', label='Hardpoint')\n",
    "        smoothed_ims_data.plot(ax=ax, color='red', label='IMS')\n",
    "        plot_counter += 1\n",
    "#plt.savefig(f\"/home/c/cslage/u/MTM1M3/data/Position_Data_{timestamp}.png\")"
   ]
  },
  {
   "cell_type": "code",
   "execution_count": null,
   "metadata": {
    "tags": []
   },
   "outputs": [],
   "source": [
    "smoothed_ims_data.head(5)"
   ]
  },
  {
   "cell_type": "code",
   "execution_count": null,
   "metadata": {
    "tags": []
   },
   "outputs": [],
   "source": [
    "hardpoint_data['measuredForce0'].plot()"
   ]
  },
  {
   "cell_type": "code",
   "execution_count": null,
   "metadata": {},
   "outputs": [],
   "source": []
  }
 ],
 "metadata": {
  "kernelspec": {
   "display_name": "LSST",
   "language": "python",
   "name": "lsst"
  },
  "language_info": {
   "codemirror_mode": {
    "name": "ipython",
    "version": 3
   },
   "file_extension": ".py",
   "mimetype": "text/x-python",
   "name": "python",
   "nbconvert_exporter": "python",
   "pygments_lexer": "ipython3",
   "version": "3.10.11"
  }
 },
 "nbformat": 4,
 "nbformat_minor": 4
}
