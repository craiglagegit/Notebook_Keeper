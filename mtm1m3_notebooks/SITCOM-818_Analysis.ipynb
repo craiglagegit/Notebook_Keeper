{
 "cells": [
  {
   "cell_type": "markdown",
   "metadata": {},
   "source": [
    "# SITCOM-818\n",
    "Craig Lage - 15-May-23 \\\n",
    "\n",
    "Here is what was requested:\n",
    "A script is needed to return maximal overshoot values per M1M3 during bump testing. It shall retrieve FA following error (M1M3.forceActuatorData.primaryCylinderFollowingError and M1M3.forceActuatorData.secondaryCylinderFollowingError) and per actuator, while it is bump tested, retrieve min and max (absolute) value of the deviation.\n",
    "\n",
    "This notebook does those things\n"
   ]
  },
  {
   "cell_type": "markdown",
   "metadata": {},
   "source": [
    "## Prepare the notebook"
   ]
  },
  {
   "cell_type": "code",
   "execution_count": null,
   "metadata": {
    "tags": []
   },
   "outputs": [],
   "source": [
    "# Directory to store the data\n",
    "data_dir = \"/home/c/cslage/u/MTM1M3/data/\"\n",
    "\n",
    "start = \"2023-05-09T22:55:00\"\n",
    "end = \"2023-05-10T02:00:00\""
   ]
  },
  {
   "cell_type": "code",
   "execution_count": null,
   "metadata": {
    "tags": []
   },
   "outputs": [],
   "source": [
    "import sys, time, os, asyncio, glob\n",
    "from datetime import datetime\n",
    "import numpy as np\n",
    "import matplotlib.pyplot as plt\n",
    "from matplotlib.backends.backend_pdf import PdfPages\n",
    "from pathlib import Path\n",
    "import pickle as pkl\n",
    "from astropy.time import Time, TimeDelta\n",
    "from scipy.interpolate import UnivariateSpline\n",
    "\n",
    "from lsst.ts.xml.tables.m1m3 import FATable, force_actuator_from_id\n",
    "from lsst_efd_client import EfdClient"
   ]
  },
  {
   "cell_type": "code",
   "execution_count": null,
   "metadata": {
    "tags": []
   },
   "outputs": [],
   "source": [
    "async def plot_bump_test_following_errors(fig, bumps, fa):\n",
    "    \"\"\" Plot a visualization of the bump test following errors\n",
    "        Parameters\n",
    "        ----------\n",
    "        fig : matplotlib.pyplot.Figure\n",
    "            a matplotlib figure object\n",
    "        bumps: pandas dataframe\n",
    "            This is a dataframe containg the bump test status\n",
    "        fa: 'ForceActuatorData'\n",
    "            Record associated with force actuator\n",
    "\n",
    "        Returns\n",
    "        -------\n",
    "        No return, only the fig object which was input\n",
    "    \"\"\"\n",
    "    \n",
    "    this_bump = bumps[bumps['actuatorId']==fa.actuator_id]\n",
    "    primary_bump = f\"primaryTest{fa.index}\"\n",
    "    primary_follow = f\"primaryCylinderFollowingError{fa.index}\"\n",
    "    primary_force = f\"primaryCylinderForce{fa.index}\"\n",
    "    if fa.s_index is not None:\n",
    "        secondary_bump = f\"secondaryTest{fa.s_index}\"\n",
    "        secondary_force = f\"secondaryCylinderForce{fa.s_index}\"\n",
    "        secondary_follow = f\"secondaryCylinderFollowingError{fa.s_index}\"\n",
    "        secondary_name = fa.orientation.name\n",
    "    else:\n",
    "        secondary_name = None\n",
    "        secondary_force = None\n",
    "        secondary_follow = None\n",
    "    plt.subplots_adjust(wspace=0.3)\n",
    "    plt.suptitle(f\"Bump Test Following Errors. Actuator ID {fa.actuator_id}\", fontsize=18)\n",
    "    plot_start = this_bump[this_bump[primary_bump]==2]['timestamp'].values[0] - 1.0\n",
    "    plot_end = plot_start + 14.0 \n",
    "    start = Time(plot_start, format='unix_tai', scale='tai')\n",
    "    end = Time(plot_end, format='unix_tai', scale='tai')\n",
    "    forces = await client.select_time_series(\"lsst.sal.MTM1M3.forceActuatorData\", \\\n",
    "                                             [primary_force, primary_follow, 'timestamp'], start.utc, end.utc)\n",
    "    timestamp = forces.index[0].isoformat().split('.')[0]\n",
    "    plt.suptitle(f\"Bump Test Following Errors. Actuator ID {fa.actuator_id}\\n {timestamp}\", fontsize=18)\n",
    "    times = forces['timestamp'].values\n",
    "    t0 = times[0]\n",
    "    times -= t0\n",
    "    primary_forces = forces[primary_force].values\n",
    "    primary_errors = forces[primary_follow].values\n",
    "    plot_start -= t0\n",
    "    plot_end -= t0\n",
    "    plt.subplot(2,2,1)\n",
    "    plt.title(\"Primary - Z\")\n",
    "    plt.plot(times, primary_forces, label='Data')\n",
    "    plt.xlim(plot_start, plot_end)\n",
    "    plt.ylim(-400,400)\n",
    "    plt.xlabel(\"Time (seconds)\")\n",
    "    plt.ylabel(\"Force (nt)\")\n",
    "    plt.legend()\n",
    "    plt.subplot(2,2,3)\n",
    "    plt.title(\"Following Errors\")\n",
    "    plt.plot(times, primary_errors)\n",
    "    plt.text(5, 350, f\"Max = {np.max(primary_errors):.1f} nt\")\n",
    "    plt.text(5, -350, f\"Min = {np.min(primary_errors):.1f} nt\")\n",
    "    plt.xlim(plot_start, plot_end)\n",
    "    plt.ylim(-400,400)\n",
    "    plt.xlabel(\"Time (seconds)\")\n",
    "    plt.ylabel(\"Following Errors (nt)\")\n",
    "    \n",
    "    if secondary_name is not None:\n",
    "        plot_start = this_bump[this_bump[secondary_bump]==2]['timestamp'].values[0] - 1.0\n",
    "        plot_end = plot_start + 14.0\n",
    "        start = Time(plot_start, format='unix_tai', scale='tai')\n",
    "        end = Time(plot_end, format='unix_tai', scale='tai')\n",
    "        forces = await client.select_time_series(\"lsst.sal.MTM1M3.forceActuatorData\", \\\n",
    "                                                 [secondary_force, secondary_follow, 'timestamp'], start.utc, end.utc)\n",
    "        times = forces['timestamp'].values\n",
    "        t0 = times[0]\n",
    "        times -= t0\n",
    "        secondary_forces = forces[secondary_force].values\n",
    "        secondary_errors = forces[secondary_follow].values\n",
    "        plot_start -= t0\n",
    "        plot_end -= t0\n",
    "        plt.subplot(2,2,2)\n",
    "        plt.title(f\"Secondary - {secondary_name}\")\n",
    "        plt.plot(times, secondary_forces, label='Data')\n",
    "        plt.xlim(plot_start, plot_end)\n",
    "        plt.ylim(-400,400)\n",
    "        plt.xlabel(\"Time (seconds)\")\n",
    "        plt.ylabel(\"Force (nt)\")\n",
    "        plt.legend()\n",
    "        plt.subplot(2,2,4)\n",
    "        plt.title(\"Following Errors\")\n",
    "        plt.plot(times, secondary_errors)\n",
    "        plt.text(5, 350, f\"Max = {np.max(secondary_errors):.1f} nt\")\n",
    "        plt.text(5, -350, f\"Min = {np.min(secondary_errors):.1f} nt\")\n",
    "\n",
    "        plt.xlim(plot_start, plot_end)\n",
    "        plt.ylim(-400, 400)\n",
    "        plt.xlabel(\"Time (seconds)\")\n",
    "        plt.ylabel(\"Following Errors (nt)\")\n",
    "    else:\n",
    "        plt.subplot(2,2,2)\n",
    "        plt.title(\"No Secondary\")\n",
    "        plt.xticks([])\n",
    "        plt.yticks([])\n",
    "        plt.subplot(2,2,4)\n",
    "        plt.xticks([])\n",
    "        plt.yticks([])\n",
    "    return"
   ]
  },
  {
   "cell_type": "markdown",
   "metadata": {},
   "source": [
    "## First run just one actuator"
   ]
  },
  {
   "cell_type": "code",
   "execution_count": null,
   "metadata": {
    "tags": []
   },
   "outputs": [],
   "source": [
    "os.makedirs(data_dir, exist_ok=True)\n",
    "client = EfdClient('usdf_efd')\n",
    "bumps = await client.select_time_series(\"lsst.sal.MTM1M3.logevent_forceActuatorBumpTestStatus\", \"*\",\\\n",
    "                                        Time(start, scale='utc'), Time(end, scale='utc'))\n",
    "id = 112\n",
    "fig = plt.figure(figsize=(10,10))\n",
    "await plot_bump_test_following_errors(fig, bumps, force_actuator_from_id(id))\n",
    "plt.savefig(Path(data_dir) / f\"Bump_Test_Following_Errors_{id}.png\")"
   ]
  },
  {
   "cell_type": "markdown",
   "metadata": {},
   "source": [
    "# Now run the whole bump test"
   ]
  },
  {
   "cell_type": "code",
   "execution_count": null,
   "metadata": {
    "tags": []
   },
   "outputs": [],
   "source": [
    "timestamp = bumps.index[0].isoformat().split('.')[0].replace('-','').replace(':','')\n",
    "pdf = PdfPages(data_dir + f\"/Bump_Test_Following_Errors_{timestamp}.pdf\")\n",
    "\n",
    "for fa in FATable:\n",
    "    try:\n",
    "        fig = plt.figure(figsize=(10,10))\n",
    "        await plot_bump_test_following_errors(fig, bumps, fa)\n",
    "        pdf.savefig(fig)  # saves the current figure into a pdf page\n",
    "        plt.close()\n",
    "    except:\n",
    "        print(f\"{fa.actuator_id} failed!\")\n",
    "        continue\n",
    "pdf.close()\n"
   ]
  }
 ],
 "metadata": {
  "kernelspec": {
   "display_name": "LSST",
   "language": "python",
   "name": "lsst"
  },
  "language_info": {
   "codemirror_mode": {
    "name": "ipython",
    "version": 3
   },
   "file_extension": ".py",
   "mimetype": "text/x-python",
   "name": "python",
   "nbconvert_exporter": "python",
   "pygments_lexer": "ipython3",
   "version": "3.10.10"
  }
 },
 "nbformat": 4,
 "nbformat_minor": 4
}
