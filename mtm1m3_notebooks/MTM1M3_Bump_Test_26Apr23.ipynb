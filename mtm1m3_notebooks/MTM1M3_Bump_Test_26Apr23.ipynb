{
 "cells": [
  {
   "cell_type": "markdown",
   "metadata": {},
   "source": [
    "# M1M3 cell learning\n",
    "Craig Lage - 14-Apr-23 \\\n",
    "The 17 tons of mirror are supported by 156 pneumatic actuators where 44 are single-axis and provide support only on the axial direction, 100 are dual-axis providing support in the axial and lateral direction, and 12 are dual-axis providing support in the axial and cross lateral directions. \\\n",
    "Positioning is provided by 6 hard points in a hexapod configuration which moves the mirror to a fixed operational position that shall be maintained during telescope operations. The remaining optical elements will be moved relative to this position in order to align the telescope optics. Support and optical figure correction is provided by 112 dual axis and 44 single axis pneumatic actuators. "
   ]
  },
  {
   "cell_type": "code",
   "execution_count": null,
   "metadata": {
    "execution": {
     "iopub.execute_input": "2023-05-12T15:12:00.308860Z",
     "iopub.status.busy": "2023-05-12T15:12:00.308528Z",
     "iopub.status.idle": "2023-05-12T15:12:00.797292Z",
     "shell.execute_reply": "2023-05-12T15:12:00.796789Z",
     "shell.execute_reply.started": "2023-05-12T15:12:00.308843Z"
    },
    "tags": []
   },
   "outputs": [],
   "source": [
    "import sys, time, os, asyncio, glob\n",
    "from datetime import datetime\n",
    "import numpy as np\n",
    "import matplotlib.pyplot as plt\n",
    "from matplotlib.backends.backend_pdf import PdfPages\n",
    "import pickle as pkl\n",
    "from astropy.time import Time, TimeDelta\n",
    "import lsst.ts.cRIOpy.M1M3FATable as M1M3FATable\n",
    "from scipy.interpolate import UnivariateSpline\n",
    "from lsst_efd_client import EfdClient"
   ]
  },
  {
   "cell_type": "code",
   "execution_count": null,
   "metadata": {
    "execution": {
     "iopub.execute_input": "2023-05-12T15:12:01.201898Z",
     "iopub.status.busy": "2023-05-12T15:12:01.201527Z",
     "iopub.status.idle": "2023-05-12T15:12:01.827146Z",
     "shell.execute_reply": "2023-05-12T15:12:01.826632Z",
     "shell.execute_reply.started": "2023-05-12T15:12:01.201878Z"
    },
    "tags": []
   },
   "outputs": [],
   "source": [
    "client = EfdClient('usdf_efd')\n",
    "FATABLE = M1M3FATable.FATABLE"
   ]
  },
  {
   "cell_type": "code",
   "execution_count": null,
   "metadata": {
    "execution": {
     "iopub.execute_input": "2023-05-12T15:26:57.958766Z",
     "iopub.status.busy": "2023-05-12T15:26:57.958194Z",
     "iopub.status.idle": "2023-05-12T15:26:57.961790Z",
     "shell.execute_reply": "2023-05-12T15:26:57.961358Z",
     "shell.execute_reply.started": "2023-05-12T15:26:57.958748Z"
    },
    "tags": []
   },
   "outputs": [],
   "source": [
    "type(client)"
   ]
  },
  {
   "cell_type": "code",
   "execution_count": null,
   "metadata": {
    "execution": {
     "iopub.execute_input": "2023-05-12T15:12:02.904708Z",
     "iopub.status.busy": "2023-05-12T15:12:02.904367Z",
     "iopub.status.idle": "2023-05-12T15:12:02.907940Z",
     "shell.execute_reply": "2023-05-12T15:12:02.907527Z",
     "shell.execute_reply.started": "2023-05-12T15:12:02.904691Z"
    },
    "tags": []
   },
   "outputs": [],
   "source": [
    "# Times of bump test\n",
    "start = Time(\"2023-04-17T10:00:00\", scale='utc')\n",
    "end = Time(\"2023-04-17T11:15:00\", scale='utc')"
   ]
  },
  {
   "cell_type": "code",
   "execution_count": null,
   "metadata": {
    "execution": {
     "iopub.execute_input": "2023-05-12T15:12:05.277115Z",
     "iopub.status.busy": "2023-05-12T15:12:05.276733Z",
     "iopub.status.idle": "2023-05-12T15:12:05.753618Z",
     "shell.execute_reply": "2023-05-12T15:12:05.753095Z",
     "shell.execute_reply.started": "2023-05-12T15:12:05.277095Z"
    },
    "tags": []
   },
   "outputs": [],
   "source": [
    "bumps = await client.select_time_series(\"lsst.sal.MTM1M3.logevent_forceActuatorBumpTestStatus\", \"*\", start, end)"
   ]
  },
  {
   "cell_type": "markdown",
   "metadata": {},
   "source": [
    "## Given an actuator ID, this plots the bump test result"
   ]
  },
  {
   "cell_type": "code",
   "execution_count": null,
   "metadata": {
    "execution": {
     "iopub.execute_input": "2023-05-09T14:09:56.460502Z",
     "iopub.status.busy": "2023-05-09T14:09:56.460253Z",
     "iopub.status.idle": "2023-05-09T14:09:56.468848Z",
     "shell.execute_reply": "2023-05-09T14:09:56.468419Z",
     "shell.execute_reply.started": "2023-05-09T14:09:56.460484Z"
    },
    "tags": []
   },
   "outputs": [],
   "source": [
    "async def plotBumpTestResults(fig, bumps, id):\n",
    "    thisBump = bumps[bumps['actuatorId']==id]\n",
    "    index = M1M3FATable.actuatorIDToIndex(id)\n",
    "    # The pass/fail results are actually in the next test.\n",
    "    lastThisBumpIndex = bumps[bumps['actuatorId']==id].last_valid_index()\n",
    "    passFail = bumps.iloc[bumps.index.get_loc(lastThisBumpIndex)+1]\n",
    "    primaryBump = f\"primaryTest{FATABLE[index][M1M3FATable.FATABLE_ZINDEX]}\"\n",
    "    primaryForce = f\"zForce{FATABLE[index][M1M3FATable.FATABLE_ZINDEX]}\"\n",
    "    if FATABLE[index][M1M3FATable.FATABLE_TYPE] == 'DAA':\n",
    "        if FATABLE[index][M1M3FATable.FATABLE_ORIENTATION] in ['+Y', '-Y']:\n",
    "            secondaryBump = f\"secondaryTest{FATABLE[index][M1M3FATable.FATABLE_SINDEX]}\"\n",
    "            secondaryForce = f\"yForce{FATABLE[index][M1M3FATable.FATABLE_YINDEX]}\"\n",
    "            secondaryName = FATABLE[index][M1M3FATable.FATABLE_ORIENTATION]\n",
    "        else:\n",
    "            secondaryBump = f\"secondaryTest{FATABLE[index][M1M3FATable.FATABLE_SINDEX]}\"\n",
    "            secondaryForce = f\"xForce{FATABLE[index][M1M3FATable.FATABLE_XINDEX]}\"\n",
    "            secondaryName = FATABLE[index][M1M3FATable.FATABLE_ORIENTATION]\n",
    "    else:\n",
    "        secondaryName = None\n",
    "\n",
    "    plt.subplots_adjust(wspace=0.3)\n",
    "    plt.subplot(1,2,1)\n",
    "    plotStart = thisBump[thisBump[primaryBump]==2]['timestamp'].values[0] - 1.0\n",
    "    plotEnd = plotStart + 14.0 #thisBump[thisBump[primaryBump]==5]['timestamp'].values[0] + 2.0\n",
    "    start = Time(plotStart, format='unix_tai', scale='tai')\n",
    "    end = Time(plotEnd, format='unix_tai', scale='tai')\n",
    "    forces = await client.select_time_series(\"lsst.sal.MTM1M3.forceActuatorData\", [primaryForce, 'timestamp'], start.utc, end.utc)\n",
    "    times = forces['timestamp'].values\n",
    "    t0 = times[0]\n",
    "    times -= t0\n",
    "    plotStart -= t0\n",
    "    plotEnd -= t0\n",
    "    plt.title(f\"Primary - Z - ID:{id}\")\n",
    "    plt.plot(times, forces[primaryForce].values)\n",
    "    if passFail[primaryBump] == 6:\n",
    "        plt.text(2.0, 350.0, \"PASSED\", color='g')\n",
    "    elif passFail[primaryBump] == 7:\n",
    "        plt.text(2.0, 350.0, \"FAILED\", color='r')\n",
    "\n",
    "    plt.xlim(plotStart, plotEnd)\n",
    "    plt.ylim(-400,400)\n",
    "    plt.xlabel(\"Time (seconds)\")\n",
    "    plt.ylabel(\"Force (nt)\")\n",
    "    plt.subplot(1,2,2)\n",
    "    if secondaryName is not None:\n",
    "        plt.title(f\"Secondary - {secondaryName} - ID:{id}\")\n",
    "        plotStart = thisBump[thisBump[secondaryBump]==2]['timestamp'].values[0] - 1.0\n",
    "        plotEnd = plotStart + 14.0\n",
    "        start = Time(plotStart, format='unix_tai', scale='tai')\n",
    "        end = Time(plotEnd, format='unix_tai', scale='tai')\n",
    "        forces = await client.select_time_series(\"lsst.sal.MTM1M3.forceActuatorData\", [secondaryForce, 'timestamp'], start.utc, end.utc)\n",
    "        times = forces['timestamp'].values\n",
    "        t0 = times[0]\n",
    "        times -= t0\n",
    "        plotStart -= t0\n",
    "        plotEnd -= t0\n",
    "        plt.plot(times, forces[secondaryForce].values)\n",
    "        if passFail[secondaryBump] == 6:\n",
    "            plt.text(2.0, 350.0, \"PASSED\", color='g')\n",
    "        elif passFail[secondaryBump] == 7:\n",
    "            plt.text(2.0, 350.0, \"FAILED\", color='r')\n",
    "        plt.xlim(plotStart, plotEnd)\n",
    "        plt.ylim(-400,400)\n",
    "        plt.xlabel(\"Time (seconds)\")\n",
    "        plt.ylabel(\"Force (nt)\")\n",
    "    else:\n",
    "        plt.title(\"No Secondary\")\n",
    "        plt.xticks([])\n",
    "        plt.yticks([])\n",
    "    return"
   ]
  },
  {
   "cell_type": "code",
   "execution_count": null,
   "metadata": {
    "execution": {
     "iopub.execute_input": "2023-05-09T14:09:57.925118Z",
     "iopub.status.busy": "2023-05-09T14:09:57.924953Z",
     "iopub.status.idle": "2023-05-09T14:09:58.201164Z",
     "shell.execute_reply": "2023-05-09T14:09:58.200650Z",
     "shell.execute_reply.started": "2023-05-09T14:09:57.925105Z"
    },
    "tags": []
   },
   "outputs": [],
   "source": [
    "fig = plt.figure(figsize=(10,5))\n",
    "await plotBumpTestResults(fig, bumps, 227)"
   ]
  },
  {
   "cell_type": "markdown",
   "metadata": {},
   "source": [
    "## Now let's look at more of them"
   ]
  },
  {
   "cell_type": "code",
   "execution_count": null,
   "metadata": {
    "execution": {
     "iopub.execute_input": "2023-05-12T15:12:11.349271Z",
     "iopub.status.busy": "2023-05-12T15:12:11.348697Z",
     "iopub.status.idle": "2023-05-12T15:12:11.352161Z",
     "shell.execute_reply": "2023-05-12T15:12:11.351759Z",
     "shell.execute_reply.started": "2023-05-12T15:12:11.349254Z"
    },
    "tags": []
   },
   "outputs": [],
   "source": [
    "# Times of bump test\n",
    "start = Time(\"2020-06-01T00:00:00\", scale='utc')\n",
    "#end = Time(\"2022-06-01T00:00:00\", scale='utc')\n",
    "end = Time(\"2023-04-20T00:00:00\", scale='utc')"
   ]
  },
  {
   "cell_type": "code",
   "execution_count": null,
   "metadata": {
    "execution": {
     "iopub.execute_input": "2023-05-12T15:12:12.813768Z",
     "iopub.status.busy": "2023-05-12T15:12:12.813533Z",
     "iopub.status.idle": "2023-05-12T15:12:20.048234Z",
     "shell.execute_reply": "2023-05-12T15:12:20.047713Z",
     "shell.execute_reply.started": "2023-05-12T15:12:12.813753Z"
    },
    "tags": []
   },
   "outputs": [],
   "source": [
    "manyBumps = await client.select_time_series(\"lsst.sal.MTM1M3.logevent_forceActuatorBumpTestStatus\", \"*\", start, end)"
   ]
  },
  {
   "cell_type": "code",
   "execution_count": null,
   "metadata": {
    "execution": {
     "iopub.execute_input": "2023-05-12T15:12:20.068442Z",
     "iopub.status.busy": "2023-05-12T15:12:20.068125Z",
     "iopub.status.idle": "2023-05-12T15:12:20.071174Z",
     "shell.execute_reply": "2023-05-12T15:12:20.070798Z",
     "shell.execute_reply.started": "2023-05-12T15:12:20.068426Z"
    },
    "tags": []
   },
   "outputs": [],
   "source": [
    "len(manyBumps)"
   ]
  },
  {
   "cell_type": "code",
   "execution_count": null,
   "metadata": {
    "execution": {
     "iopub.execute_input": "2023-05-12T15:13:21.921762Z",
     "iopub.status.busy": "2023-05-12T15:13:21.921169Z",
     "iopub.status.idle": "2023-05-12T15:13:21.931289Z",
     "shell.execute_reply": "2023-05-12T15:13:21.930904Z",
     "shell.execute_reply.started": "2023-05-12T15:13:21.921743Z"
    },
    "tags": []
   },
   "outputs": [],
   "source": [
    "async def plotMultipleBumpTestResults(fig, manyBumps, id):\n",
    "    theseBumps = manyBumps[manyBumps['actuatorId']==id]\n",
    "    index = M1M3FATable.actuatorIDToIndex(id)\n",
    "    primaryBump = f\"primaryTest{FATABLE[index][M1M3FATable.FATABLE_ZINDEX]}\"\n",
    "    primaryForce = f\"zForce{FATABLE[index][M1M3FATable.FATABLE_ZINDEX]}\"\n",
    "    if FATABLE[index][M1M3FATable.FATABLE_TYPE] == 'DAA':\n",
    "        if FATABLE[index][M1M3FATable.FATABLE_ORIENTATION] in ['+Y', '-Y']:\n",
    "            secondaryBump = f\"secondaryTest{FATABLE[index][M1M3FATable.FATABLE_SINDEX]}\"\n",
    "            secondaryForce = f\"yForce{FATABLE[index][M1M3FATable.FATABLE_YINDEX]}\"\n",
    "            secondaryName = FATABLE[index][M1M3FATable.FATABLE_ORIENTATION]\n",
    "        else:\n",
    "            secondaryBump = f\"secondaryTest{FATABLE[index][M1M3FATable.FATABLE_SINDEX]}\"\n",
    "            secondaryForce = f\"xForce{FATABLE[index][M1M3FATable.FATABLE_XINDEX]}\"\n",
    "            secondaryName = FATABLE[index][M1M3FATable.FATABLE_ORIENTATION]\n",
    "    else:\n",
    "        secondaryName = None\n",
    "    plt.subplots_adjust(wspace=0.3)\n",
    "    plt.suptitle(f\"Multiple bump tests Actuator ID {id}\", fontsize=18)\n",
    "\n",
    "    # Now find the separate tests\n",
    "    times = theseBumps['timestamp'].values\n",
    "    startTimes = []\n",
    "    endTimes = []\n",
    "    for i, time in enumerate(times):\n",
    "        if i == 0:\n",
    "            startTimes.append(time)\n",
    "            continue\n",
    "        if (time - times[i-1]) > 60.0:\n",
    "            startTimes.append(time)\n",
    "            endTimes.append(times[i-1])\n",
    "    endTimes.append(times[-1])\n",
    "    numPlots = 0\n",
    "    passCount = 0\n",
    "    failCount = 0\n",
    "    for i in range(len(startTimes)):\n",
    "        startTime = startTimes[i]\n",
    "        endTime = endTimes[i]\n",
    "        thisBump = theseBumps[(theseBumps['timestamp'] >= startTime) & (theseBumps['timestamp'] <= endTime)]\n",
    "        try:\n",
    "            numPlots += 1\n",
    "            plt.subplot(1,2,1)\n",
    "            plotStart = thisBump[thisBump[primaryBump]==2]['timestamp'].values[0] - 1.0\n",
    "            plotEnd = plotStart + 14.0\n",
    "            start = Time(plotStart, format='unix_tai', scale='tai')\n",
    "            end = Time(plotEnd, format='unix_tai', scale='tai')\n",
    "            forces = await client.select_time_series(\"lsst.sal.MTM1M3.forceActuatorData\", [primaryForce, 'timestamp'], \\\n",
    "                                                     start.utc, end.utc)\n",
    "            times = forces['timestamp'].values\n",
    "            t0 = times[0]\n",
    "            times -= t0\n",
    "            plotStart -= t0\n",
    "            plotEnd -= t0\n",
    "            lastIndex = bumps[bumps['actuatorId']==id].last_valid_index()\n",
    "            passFail = bumps.iloc[bumps.index.get_loc(lastIndex)+1][primaryBump]\n",
    "            #print(i, passFail)\n",
    "            if passFail == 6:\n",
    "                passCount += 1\n",
    "                #print(\"PASSED\")\n",
    "            elif passFail == 7:\n",
    "                failCount += 1\n",
    "                #print(\"FAILED\")\n",
    "\n",
    "            plt.title(\"Primary   Z\")\n",
    "            plt.plot(times, forces[primaryForce].values)\n",
    "            plt.xlim(plotStart, plotEnd)\n",
    "            plt.ylim(-400,400)\n",
    "            plt.xlabel(\"Time (seconds)\")\n",
    "            plt.ylabel(\"Force (nt)\")\n",
    "            plt.subplot(1,2,2)\n",
    "            if secondaryName is not None:\n",
    "                plt.title(f\"Secondary   {secondaryName}\")\n",
    "                plotStart = thisBump[thisBump[secondaryBump]==2]['timestamp'].values[0] - 1.0\n",
    "                plotEnd = plotStart + 14.0\n",
    "                start = Time(plotStart, format='unix_tai', scale='tai')\n",
    "                end = Time(plotEnd, format='unix_tai', scale='tai')\n",
    "                forces = await client.select_time_series(\"lsst.sal.MTM1M3.forceActuatorData\", [secondaryForce, 'timestamp'], \\\n",
    "                                                         start.utc, end.utc)\n",
    "                times = forces['timestamp'].values\n",
    "                t0 = times[0]\n",
    "                times -= t0\n",
    "                plotStart -= t0\n",
    "                plotEnd -= t0\n",
    "                plt.plot(times, forces[secondaryForce].values)\n",
    "                plt.xlim(plotStart, plotEnd)\n",
    "                plt.ylim(-400,400)\n",
    "                plt.xlabel(\"Time (seconds)\")\n",
    "                plt.ylabel(\"Force (nt)\")\n",
    "            else:\n",
    "                plt.title(\"No Secondary\")\n",
    "                plt.xticks([])\n",
    "                plt.yticks([])\n",
    "        except:\n",
    "            continue\n",
    "            \n",
    "    plt.subplot(1,2,1)\n",
    "    plt.text(2.0, 350, f\"{numPlots} tests, {passCount} passed, {failCount} failed\")\n",
    "    plt.subplot(1,2,2)\n",
    "    plt.text(2.0, 350, f\"{numPlots} tests, {passCount} passed, {failCount} failed\")\n",
    "    return"
   ]
  },
  {
   "cell_type": "code",
   "execution_count": null,
   "metadata": {
    "execution": {
     "iopub.execute_input": "2023-05-12T15:13:22.828880Z",
     "iopub.status.busy": "2023-05-12T15:13:22.828484Z",
     "iopub.status.idle": "2023-05-12T15:13:23.308696Z",
     "shell.execute_reply": "2023-05-12T15:13:23.308333Z",
     "shell.execute_reply.started": "2023-05-12T15:13:22.828863Z"
    },
    "tags": []
   },
   "outputs": [],
   "source": [
    "id = 227\n",
    "fig = plt.figure(figsize=(10,5))\n",
    "await plotMultipleBumpTestResults(fig, manyBumps, id)\n",
    "#plt.savefig(f\"/scratch/cslage/m1m3_data/Bump_Test_{id}_17Apr23.png\")"
   ]
  },
  {
   "cell_type": "markdown",
   "metadata": {},
   "source": [
    "## Now generate the dictionary of average splines"
   ]
  },
  {
   "cell_type": "code",
   "execution_count": null,
   "metadata": {
    "execution": {
     "iopub.execute_input": "2023-05-09T14:11:37.155859Z",
     "iopub.status.busy": "2023-05-09T14:11:37.155632Z",
     "iopub.status.idle": "2023-05-09T14:11:37.166106Z",
     "shell.execute_reply": "2023-05-09T14:11:37.165760Z",
     "shell.execute_reply.started": "2023-05-09T14:11:37.155844Z"
    },
    "tags": []
   },
   "outputs": [],
   "source": [
    "async def generateAverageBumpTest(manyBumps, averageSplineDict, id):\n",
    "    # Get representative splines to be used to weed out bad runs\n",
    "    [averagePrimarySpline, averageSecondarySpline] = averageSplineDict[999]\n",
    "    theseBumps = manyBumps[manyBumps['actuatorId']==id]\n",
    "    index = M1M3FATable.actuatorIDToIndex(id)\n",
    "    primaryBump = f\"primaryTest{FATABLE[index][M1M3FATable.FATABLE_ZINDEX]}\"\n",
    "    primaryForce = f\"zForce{FATABLE[index][M1M3FATable.FATABLE_ZINDEX]}\"\n",
    "    if FATABLE[index][M1M3FATable.FATABLE_TYPE] == 'DAA':\n",
    "        if FATABLE[index][M1M3FATable.FATABLE_ORIENTATION] in ['+Y', '-Y']:\n",
    "            secondaryBump = f\"secondaryTest{FATABLE[index][M1M3FATable.FATABLE_SINDEX]}\"\n",
    "            secondaryForce = f\"yForce{FATABLE[index][M1M3FATable.FATABLE_YINDEX]}\"\n",
    "            secondaryName = FATABLE[index][M1M3FATable.FATABLE_ORIENTATION]\n",
    "        else:\n",
    "            secondaryBump = f\"secondaryTest{FATABLE[index][M1M3FATable.FATABLE_SINDEX]}\"\n",
    "            secondaryForce = f\"xForce{FATABLE[index][M1M3FATable.FATABLE_XINDEX]}\"\n",
    "            secondaryName = FATABLE[index][M1M3FATable.FATABLE_ORIENTATION]\n",
    "    else:\n",
    "        secondaryName = None\n",
    "\n",
    "    # Now find the separate tests\n",
    "    times = theseBumps['timestamp'].values\n",
    "    startTimes = []\n",
    "    endTimes = []\n",
    "    for i, time in enumerate(times):\n",
    "        if i == 0:\n",
    "            startTimes.append(time)\n",
    "            continue\n",
    "        if (time - times[i-1]) > 60.0:\n",
    "            startTimes.append(time)\n",
    "            endTimes.append(times[i-1])\n",
    "    endTimes.append(times[-1])\n",
    "    numPlots = 0\n",
    "    primarySplines = []\n",
    "    secondarySplines = []\n",
    "    for i in range(len(startTimes)):\n",
    "        startTime = startTimes[i]\n",
    "        endTime = endTimes[i]\n",
    "        thisBump = theseBumps[(theseBumps['timestamp'] >= startTime) & (theseBumps['timestamp'] <= endTime)]\n",
    "        # The pass/fail results are actually in the next test.\n",
    "        lastThisBumpIndex = bumps[bumps['actuatorId']==id].last_valid_index()\n",
    "        passFail = bumps.iloc[bumps.index.get_loc(lastThisBumpIndex)+1]\n",
    "        if passFail[primaryBump] == 7:\n",
    "            # Don't include fails\n",
    "            continue\n",
    "        try:\n",
    "            plotStart = thisBump[thisBump[primaryBump]==2]['timestamp'].values[0] - 1.0\n",
    "            plotEnd = plotStart + 14.0\n",
    "            start = Time(plotStart, format='unix_tai', scale='tai')\n",
    "            end = Time(plotEnd, format='unix_tai', scale='tai')\n",
    "            forces = await client.select_time_series(\"lsst.sal.MTM1M3.forceActuatorData\", [primaryForce, 'timestamp'], start.utc, end.utc)\n",
    "            times = forces['timestamp'].values\n",
    "            t0 = times[0]\n",
    "            times -= t0\n",
    "            primaryForces = forces[primaryForce].values\n",
    "            if averagePrimarySpline is not None:\n",
    "                rmsError = np.sqrt(np.mean((primaryForces-averagePrimarySpline(times))**2))\n",
    "            else:\n",
    "                rmsError = 0.0\n",
    "            if rmsError < 50.0:\n",
    "                # Only include good fits in the average\n",
    "                primarySpline = UnivariateSpline(times, primaryForces, s=0.0)\n",
    "                primarySplines.append(primarySpline)\n",
    "            if secondaryName is not None:\n",
    "                if passFail[secondaryBump] == 7:\n",
    "                    # Don't include fails\n",
    "                    continue\n",
    "                plotStart = thisBump[thisBump[secondaryBump]==2]['timestamp'].values[0] - 1.0\n",
    "                plotEnd = plotStart + 14.0\n",
    "                start = Time(plotStart, format='unix_tai', scale='tai')\n",
    "                end = Time(plotEnd, format='unix_tai', scale='tai')\n",
    "                forces = await client.select_time_series(\"lsst.sal.MTM1M3.forceActuatorData\", [secondaryForce, 'timestamp'], start.utc, end.utc)\n",
    "                times = forces['timestamp'].values\n",
    "                t0 = times[0]\n",
    "                times -= t0\n",
    "                secondaryForces = forces[secondaryForce].values\n",
    "                if averageSecondarySpline is not None:\n",
    "                    rmsError = np.sqrt(np.mean((secondaryForces-averageSecondarySpline(times))**2))\n",
    "                else:\n",
    "                    rmsError = 0.0\n",
    "                if rmsError < 50.0:\n",
    "                    # Only include good fits in the average\n",
    "                    secondarySpline = UnivariateSpline(times, secondaryForces, s=0.0)\n",
    "                    secondarySplines.append(secondarySpline)\n",
    "        except:\n",
    "            continue\n",
    "    # Now calculate the average spline\n",
    "    ts = np.linspace(0,14,5000)\n",
    "    fs = np.zeros_like(ts)\n",
    "    numSplines = 0\n",
    "    for spline in primarySplines:\n",
    "        numSplines += 1\n",
    "        fs += spline(ts)\n",
    "    fs /= numSplines\n",
    "    averagePrimarySpline = UnivariateSpline(ts, fs)\n",
    "    fs = np.zeros_like(ts)\n",
    "    if secondaryName is not None:\n",
    "        numSplines = 0\n",
    "        for spline in secondarySplines:\n",
    "            numSplines += 1\n",
    "            fs += spline(ts)\n",
    "        fs /= numSplines\n",
    "        averageSecondarySpline = UnivariateSpline(ts, fs)\n",
    "    else:\n",
    "        averageSecondarySpline = None\n",
    "    return [averagePrimarySpline, averageSecondarySpline]"
   ]
  },
  {
   "cell_type": "markdown",
   "metadata": {},
   "source": [
    "## This cell generates the dictionary with a set of plots of the average spline"
   ]
  },
  {
   "cell_type": "code",
   "execution_count": null,
   "metadata": {
    "execution": {
     "iopub.execute_input": "2023-05-09T14:12:35.871556Z",
     "iopub.status.busy": "2023-05-09T14:12:35.871298Z",
     "iopub.status.idle": "2023-05-09T14:13:42.047358Z",
     "shell.execute_reply": "2023-05-09T14:13:42.046869Z",
     "shell.execute_reply.started": "2023-05-09T14:12:35.871534Z"
    },
    "jupyter": {
     "outputs_hidden": true
    },
    "tags": []
   },
   "outputs": [],
   "source": [
    "# First seed the averageSplineDict with a typical bump test\n",
    "# This is used to weed out bad tests\n",
    "averageSplineDict = {}\n",
    "averageSplineDict[999] = [None, None]\n",
    "[averagePrimarySpline, averageSecondarySpline] = await generateAverageBumpTest(manyBumps, averageSplineDict, 227)\n",
    "averageSplineDict[999] = [averagePrimarySpline, averageSecondarySpline]\n",
    "# Now run all of the actuators\n",
    "pdf = PdfPages(\"/home/c/cslage/u/MTM1M3/data/Average_Spline_Dict_28Apr23.pdf\")\n",
    "for index in range(len(FATABLE)):\n",
    "    id = FATABLE[index][M1M3FATable.FATABLE_ID]\n",
    "    primaryName = 'Z'\n",
    "    if FATABLE[index][M1M3FATable.FATABLE_TYPE] == 'DAA':\n",
    "        if FATABLE[index][M1M3FATable.FATABLE_ORIENTATION] in ['+Y', '-Y']:\n",
    "            secondaryName = FATABLE[index][M1M3FATable.FATABLE_ORIENTATION]\n",
    "        else:\n",
    "            secondaryName = FATABLE[index][M1M3FATable.FATABLE_ORIENTATION]\n",
    "    else:\n",
    "        secondaryName = None\n",
    "\n",
    "    [averagePrimarySpline, averageSecondarySpline] = await generateAverageBumpTest(manyBumps, averageSplineDict, id)\n",
    "    averageSplineDict[id] = [averagePrimarySpline, averageSecondarySpline]\n",
    "    fig = plt.figure(figsize=(10,5))\n",
    "    ts = np.linspace(0,14,5000)\n",
    "    plt.suptitle(f\"Average Spline bumps for ID = {id}\")\n",
    "    plt.subplot(1,2,1)\n",
    "    plt.title(f\"Primary  {primaryName}\")\n",
    "    plt.plot(ts, averagePrimarySpline(ts))\n",
    "    plt.subplot(1,2,2)\n",
    "    plt.title(f\"Secondary   {secondaryName}\")\n",
    "    if averageSecondarySpline is not None:\n",
    "        plt.plot(ts, averageSecondarySpline(ts))\n",
    "    else:\n",
    "        plt.xticks([])\n",
    "        plt.yticks([])\n",
    "                  \n",
    "    pdf.savefig(fig)  # saves the current figure into a pdf page\n",
    "    plt.clf()\n",
    "pdf.close()\n"
   ]
  },
  {
   "cell_type": "markdown",
   "metadata": {},
   "source": [
    "## Pickle the dictionary for future use"
   ]
  },
  {
   "cell_type": "code",
   "execution_count": null,
   "metadata": {
    "execution": {
     "iopub.execute_input": "2023-05-09T14:14:35.417554Z",
     "iopub.status.busy": "2023-05-09T14:14:35.417130Z",
     "iopub.status.idle": "2023-05-09T14:14:35.491555Z",
     "shell.execute_reply": "2023-05-09T14:14:35.491036Z",
     "shell.execute_reply.started": "2023-05-09T14:14:35.417537Z"
    },
    "tags": []
   },
   "outputs": [],
   "source": [
    "filename = '/home/c/cslage/u/MTM1M3/data/average_spline_dict_28apr23.pkl'\n",
    "file = open(filename, 'wb')\n",
    "pkl.dump(averageSplineDict, file)\n",
    "file.close()"
   ]
  },
  {
   "cell_type": "code",
   "execution_count": null,
   "metadata": {
    "execution": {
     "iopub.execute_input": "2023-05-09T14:14:40.919542Z",
     "iopub.status.busy": "2023-05-09T14:14:40.919231Z",
     "iopub.status.idle": "2023-05-09T14:14:40.963302Z",
     "shell.execute_reply": "2023-05-09T14:14:40.962775Z",
     "shell.execute_reply.started": "2023-05-09T14:14:40.919522Z"
    },
    "tags": []
   },
   "outputs": [],
   "source": [
    "filename = '/home/c/cslage/u/MTM1M3/data/average_spline_dict_28apr23.pkl'\n",
    "file = open(filename, 'rb')\n",
    "averageSplineDict = pkl.load(file)\n",
    "file.close()"
   ]
  },
  {
   "cell_type": "markdown",
   "metadata": {},
   "source": [
    "## Now plot the residuals against the average"
   ]
  },
  {
   "cell_type": "code",
   "execution_count": null,
   "metadata": {
    "execution": {
     "iopub.execute_input": "2023-05-09T14:14:43.821403Z",
     "iopub.status.busy": "2023-05-09T14:14:43.821086Z",
     "iopub.status.idle": "2023-05-09T14:14:43.833630Z",
     "shell.execute_reply": "2023-05-09T14:14:43.833136Z",
     "shell.execute_reply.started": "2023-05-09T14:14:43.821387Z"
    },
    "tags": []
   },
   "outputs": [],
   "source": [
    "async def plotBumpResultsAndResiduals(fig, bumps, averageSplineDict, id):\n",
    "    [averagePrimarySpline, averageSecondarySpline] = averageSplineDict[id]\n",
    "    thisBump = bumps[bumps['actuatorId']==id]\n",
    "    index = M1M3FATable.actuatorIDToIndex(id)\n",
    "    # The pass/fail results are actually in the next test.\n",
    "    lastThisBumpIndex = bumps[bumps['actuatorId']==id].last_valid_index()\n",
    "    passFail = bumps.iloc[bumps.index.get_loc(lastThisBumpIndex)+1]\n",
    "    primaryBump = f\"primaryTest{FATABLE[index][M1M3FATable.FATABLE_ZINDEX]}\"\n",
    "    primaryForce = f\"zForce{FATABLE[index][M1M3FATable.FATABLE_ZINDEX]}\"\n",
    "    if FATABLE[index][M1M3FATable.FATABLE_TYPE] == 'DAA':\n",
    "        if FATABLE[index][M1M3FATable.FATABLE_ORIENTATION] in ['+Y', '-Y']:\n",
    "            secondaryBump = f\"secondaryTest{FATABLE[index][M1M3FATable.FATABLE_SINDEX]}\"\n",
    "            secondaryForce = f\"yForce{FATABLE[index][M1M3FATable.FATABLE_YINDEX]}\"\n",
    "            secondaryName = FATABLE[index][M1M3FATable.FATABLE_ORIENTATION]\n",
    "        else:\n",
    "            secondaryBump = f\"secondaryTest{FATABLE[index][M1M3FATable.FATABLE_SINDEX]}\"\n",
    "            secondaryForce = f\"xForce{FATABLE[index][M1M3FATable.FATABLE_XINDEX]}\"\n",
    "            secondaryName = FATABLE[index][M1M3FATable.FATABLE_ORIENTATION]\n",
    "    else:\n",
    "        secondaryName = None\n",
    "\n",
    "    plt.subplots_adjust(wspace=0.3)\n",
    "    plt.suptitle(f\"Bump Test with Residuals. Actuator ID {id}\", fontsize=18)\n",
    "    plotStart = thisBump[thisBump[primaryBump]==2]['timestamp'].values[0] - 1.0\n",
    "    plotEnd = plotStart + 14.0 \n",
    "    start = Time(plotStart, format='unix_tai', scale='tai')\n",
    "    end = Time(plotEnd, format='unix_tai', scale='tai')\n",
    "    forces = await client.select_time_series(\"lsst.sal.MTM1M3.forceActuatorData\", [primaryForce, 'timestamp'], start.utc, end.utc)\n",
    "    times = forces['timestamp'].values\n",
    "    t0 = times[0]\n",
    "    times -= t0\n",
    "    primaryForces = forces[primaryForce].values\n",
    "    residuals = primaryForces-averagePrimarySpline(times)\n",
    "    rmsError = np.sqrt(np.mean(residuals**2))\n",
    "    plotStart -= t0\n",
    "    plotEnd -= t0\n",
    "    plt.subplot(2,2,1)\n",
    "    plt.title(\"Primary - Z\")\n",
    "    plt.plot(times, averagePrimarySpline(times), label='Average')\n",
    "    plt.plot(times, primaryForces, label='Data')\n",
    "    if passFail[primaryBump] == 6:\n",
    "        plt.text(2.0, 350.0, \"PASSED\", color='g')\n",
    "    elif passFail[primaryBump] == 7:\n",
    "        plt.text(2.0, 350.0, \"FAILED\", color='r')\n",
    "    plt.xlim(plotStart, plotEnd)\n",
    "    plt.ylim(-400,400)\n",
    "    plt.xlabel(\"Time (seconds)\")\n",
    "    plt.ylabel(\"Force (nt)\")\n",
    "    plt.legend()\n",
    "    plt.subplot(2,2,3)\n",
    "    plt.plot(times, residuals)\n",
    "    if passFail[primaryBump] == 6:\n",
    "        plt.text(2.0, 75.0, f\"RMS = {rmsError:.2f}\", color='g')\n",
    "    elif passFail[primaryBump] == 7:\n",
    "        plt.text(2.0, 75.0, f\"RMS = {rmsError:.2f}\", color='r')\n",
    "    plt.xlim(plotStart, plotEnd)\n",
    "    plt.ylim(-100,100)\n",
    "    plt.xlabel(\"Time (seconds)\")\n",
    "    plt.ylabel(\"Residuals (nt)\")\n",
    "    \n",
    "    if secondaryName is not None:\n",
    "        plotStart = thisBump[thisBump[secondaryBump]==2]['timestamp'].values[0] - 1.0\n",
    "        plotEnd = plotStart + 14.0\n",
    "        start = Time(plotStart, format='unix_tai', scale='tai')\n",
    "        end = Time(plotEnd, format='unix_tai', scale='tai')\n",
    "        forces = await client.select_time_series(\"lsst.sal.MTM1M3.forceActuatorData\", [secondaryForce, 'timestamp'], start.utc, end.utc)\n",
    "        times = forces['timestamp'].values\n",
    "        t0 = times[0]\n",
    "        times -= t0\n",
    "        secondaryForces = forces[secondaryForce].values\n",
    "        residuals = secondaryForces-averageSecondarySpline(times)\n",
    "        rmsError = np.sqrt(np.mean(residuals**2))\n",
    "        plotStart -= t0\n",
    "        plotEnd -= t0\n",
    "        plt.subplot(2,2,2)\n",
    "        plt.title(f\"Secondary - {secondaryName}\")\n",
    "        plt.plot(times, averageSecondarySpline(times), label='Average')\n",
    "        plt.plot(times, secondaryForces, label='Data')\n",
    "        if passFail[primaryBump] == 6:\n",
    "            plt.text(2.0, 350.0, \"PASSED\", color='g')\n",
    "        elif passFail[primaryBump] == 7:\n",
    "            plt.text(2.0, 350.0, \"FAILED\", color='r')\n",
    "        plt.xlim(plotStart, plotEnd)\n",
    "        plt.ylim(-400,400)\n",
    "        plt.xlabel(\"Time (seconds)\")\n",
    "        plt.ylabel(\"Force (nt)\")\n",
    "        plt.legend()\n",
    "        plt.subplot(2,2,4)\n",
    "        plt.plot(times, residuals)\n",
    "        if passFail[primaryBump] == 6:\n",
    "            plt.text(2.0, 75.0, f\"RMS = {rmsError:.2f}\", color='g')\n",
    "        elif passFail[primaryBump] == 7:\n",
    "            plt.text(2.0, 75.0, f\"RMS = {rmsError:.2f}\", color='r')\n",
    "        plt.xlim(plotStart, plotEnd)\n",
    "        plt.ylim(-100,100)\n",
    "        plt.xlabel(\"Time (seconds)\")\n",
    "        plt.ylabel(\"Residuals (nt)\")\n",
    "    else:\n",
    "        plt.subplot(2,2,2)\n",
    "        plt.title(\"No Secondary\")\n",
    "        plt.xticks([])\n",
    "        plt.yticks([])\n",
    "        plt.subplot(2,2,4)\n",
    "        plt.xticks([])\n",
    "        plt.yticks([])\n",
    "    return"
   ]
  },
  {
   "cell_type": "code",
   "execution_count": null,
   "metadata": {
    "execution": {
     "iopub.execute_input": "2023-05-09T14:14:51.346858Z",
     "iopub.status.busy": "2023-05-09T14:14:51.346467Z",
     "iopub.status.idle": "2023-05-09T14:14:51.803089Z",
     "shell.execute_reply": "2023-05-09T14:14:51.802548Z",
     "shell.execute_reply.started": "2023-05-09T14:14:51.346841Z"
    },
    "tags": []
   },
   "outputs": [],
   "source": [
    "id = 324\n",
    "fig = plt.figure(figsize=(10,10))\n",
    "await plotBumpResultsAndResiduals(fig, bumps, averageSplineDict, id)\n",
    "#plt.savefig(f\"/home/c/cslage/u/MTM1M3/data/Bump_Test_Residuals_{id}_28Apr23.png\")"
   ]
  },
  {
   "cell_type": "markdown",
   "metadata": {},
   "source": [
    "# Now run the whole bump test"
   ]
  },
  {
   "cell_type": "code",
   "execution_count": null,
   "metadata": {
    "tags": []
   },
   "outputs": [],
   "source": [
    "timestamp = bumps.index[0].isoformat().split('.')[0].replace('-','').replace(':','')\n",
    "pdf = PdfPages(f\"/home/c/cslage/u/MTM1M3/data/Bump_Test{timestamp}.pdf\")\n",
    "\n",
    "for index in range(len(FATABLE)):\n",
    "    id = FATABLE[index][M1M3FATable.FATABLE_ID]\n",
    "    fig = plt.figure(figsize=(10,10))\n",
    "    await plotBumpResultsAndResiduals(fig, bumps, averageSplineDict, id)\n",
    "    pdf.savefig(fig)  # saves the current figure into a pdf page\n",
    "    plt.close()\n",
    "pdf.close()\n"
   ]
  },
  {
   "cell_type": "markdown",
   "metadata": {},
   "source": [
    "# Now run all the actuators with the first test on the TMA"
   ]
  },
  {
   "cell_type": "code",
   "execution_count": null,
   "metadata": {
    "tags": []
   },
   "outputs": [],
   "source": [
    "# Times of bump test\n",
    "start = Time(\"2023-04-28T18:10:00\", scale='utc')\n",
    "end = Time(\"2023-04-28T19:18:00\", scale='utc')"
   ]
  },
  {
   "cell_type": "code",
   "execution_count": null,
   "metadata": {
    "tags": []
   },
   "outputs": [],
   "source": [
    "bumps = await client.select_time_series(\"lsst.sal.MTM1M3.logevent_forceActuatorBumpTestStatus\", \"*\", start, end)"
   ]
  },
  {
   "cell_type": "code",
   "execution_count": null,
   "metadata": {
    "tags": []
   },
   "outputs": [],
   "source": [
    "timestamp = bumps.index[0].isoformat().split('.')[0].replace('-','').replace(':','')\n",
    "pdf = PdfPages(f\"/home/c/cslage/u/MTM1M3/data/Bump_Test{timestamp}.pdf\")\n",
    "\n",
    "for index in range(len(FATABLE)):\n",
    "    id = FATABLE[index][M1M3FATable.FATABLE_ID]\n",
    "    fig = plt.figure(figsize=(10,10))\n",
    "    await plotBumpResultsAndResiduals(fig, bumps, averageSplineDict, id)\n",
    "    pdf.savefig(fig)  # saves the current figure into a pdf page\n",
    "    plt.close()\n",
    "pdf.close()\n"
   ]
  },
  {
   "cell_type": "code",
   "execution_count": null,
   "metadata": {},
   "outputs": [],
   "source": []
  }
 ],
 "metadata": {
  "kernelspec": {
   "display_name": "LSST",
   "language": "python",
   "name": "lsst"
  },
  "language_info": {
   "codemirror_mode": {
    "name": "ipython",
    "version": 3
   },
   "file_extension": ".py",
   "mimetype": "text/x-python",
   "name": "python",
   "nbconvert_exporter": "python",
   "pygments_lexer": "ipython3",
   "version": "3.10.10"
  }
 },
 "nbformat": 4,
 "nbformat_minor": 4
}
