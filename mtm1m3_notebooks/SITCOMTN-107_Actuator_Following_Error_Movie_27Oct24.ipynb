{
 "cells": [
  {
   "cell_type": "markdown",
   "metadata": {},
   "source": [
    "# SITCOMTN-107 - Force Actuator Following Error Movies\n",
    "\n",
    "As described in [SITCOMTN-107], we are seeing discrepancies between the Force Actuators applied forces and the demanded forces.  \n",
    "Now, we want to quantify those discrepancies vs time and actuator location.\n",
    "  \n",
    "\n",
    "[SITCOMTN-107]: https://sitcomtn-107.lsst.io/\n",
    "[M1M3 Actuator Forces dashboard in USDF]: https://usdf-rsp.slac.stanford.edu/chronograf/sources/1/dashboards/61?refresh=Paused&tempVars%5Bz_index%5D=112&tempVars%5By_index%5D=0&tempVars%5Bx_index%5D=112&tempVars%5Bs_index%5D=112&lower=now%28%29%20-%205m\n",
    "\n",
    "## Notebook Preparations\n",
    "\n",
    "Let's have here all the imports and global variables we will need during the notebook execution.  "
   ]
  },
  {
   "cell_type": "code",
   "execution_count": null,
   "metadata": {
    "execution": {
     "iopub.execute_input": "2024-11-08T11:16:05.200026Z",
     "iopub.status.busy": "2024-11-08T11:16:05.199748Z",
     "iopub.status.idle": "2024-11-08T11:16:05.202688Z",
     "shell.execute_reply": "2024-11-08T11:16:05.202346Z",
     "shell.execute_reply.started": "2024-11-08T11:16:05.200012Z"
    }
   },
   "outputs": [],
   "source": [
    "# Directory to store the data\n",
    "from pathlib import Path\n",
    "data_dir = Path(\"./plots\")\n",
    "data_dir.mkdir(exist_ok=True, parents=True)\n",
    "\n",
    "# \"Gentle\" slew event\n",
    "gentle = [20241107, 90]\n",
    "\n",
    "# \"Aggressive\" slew event\n",
    "#aggressive = [20240102, 1308]"
   ]
  },
  {
   "cell_type": "code",
   "execution_count": null,
   "metadata": {
    "execution": {
     "iopub.execute_input": "2024-11-08T11:15:22.896326Z",
     "iopub.status.busy": "2024-11-08T11:15:22.895984Z",
     "iopub.status.idle": "2024-11-08T11:15:28.198705Z",
     "shell.execute_reply": "2024-11-08T11:15:28.198293Z",
     "shell.execute_reply.started": "2024-11-08T11:15:22.896312Z"
    },
    "tags": []
   },
   "outputs": [],
   "source": [
    "import sys, time, os, asyncio\n",
    "import shlex, subprocess\n",
    "import numpy as np\n",
    "import matplotlib.pyplot as plt\n",
    "%matplotlib inline\n",
    "from astropy.time import Time, TimeDelta\n",
    "from lsst.ts.xml.tables.m1m3 import FATable, FAIndex, force_actuator_from_id, actuator_id_to_index\n",
    "from lsst_efd_client import EfdClient\n",
    "from lsst.summit.utils.tmaUtils import TMAEventMaker"
   ]
  },
  {
   "cell_type": "markdown",
   "metadata": {},
   "source": [
    "## Set up the necessary subroutines"
   ]
  },
  {
   "cell_type": "code",
   "execution_count": null,
   "metadata": {
    "execution": {
     "iopub.execute_input": "2024-11-08T11:16:09.699817Z",
     "iopub.status.busy": "2024-11-08T11:16:09.699552Z",
     "iopub.status.idle": "2024-11-08T11:16:09.711255Z",
     "shell.execute_reply": "2024-11-08T11:16:09.710864Z",
     "shell.execute_reply.started": "2024-11-08T11:16:09.699803Z"
    },
    "tags": []
   },
   "outputs": [],
   "source": [
    "def heat_map_z(df, axp, axs, FATable, index, zmin, zmax):\n",
    "    # This builds the following error heat maps\n",
    "    types = [['SAA','NA', 'o', 'Z'], \\\n",
    "             ['DAA','Y_PLUS', '^', 'Y_PLUS'], \\\n",
    "             ['DAA','Y_MINUS', 'v', 'Y_MINUS'], \\\n",
    "             ['DAA','X_PLUS', '>', 'X_PLUS'], \\\n",
    "             ['DAA','X_MINUS', '<', 'X_MINUS']]\n",
    "    axp.set_title(\"Primary\")\n",
    "    axp.set_xlabel(\"X position (m)\")\n",
    "    axp.set_ylabel(\"Y position (m)\")\n",
    "\n",
    "    for [type, orient, marker, label] in types:\n",
    "        xs = []\n",
    "        ys = []\n",
    "        zs = []\n",
    "        for i in range(len(FATable)):\n",
    "            x = FATable[i].x_position\n",
    "            y = FATable[i].y_position\n",
    "            if FATable[i].actuator_type.name == type and \\\n",
    "                FATable[i].orientation.name == orient:\n",
    "                xs.append(x)\n",
    "                ys.append(y)\n",
    "                name=f\"primaryCylinderFollowingError{i}\"\n",
    "                zs.append(df.iloc[index][name])\n",
    "        im = axp.scatter(xs, ys, marker='o', c=zs, cmap='RdBu_r', \\\n",
    "                         vmin=zmin, vmax=zmax, s=50, label=label)\n",
    "    plt.colorbar(im, ax=axp,fraction=0.055, pad=0.02, cmap='RdBu_r')  \n",
    "    axs.set_title(\"Secondary\")\n",
    "    axs.set_xlabel(\"X position (m)\")\n",
    "    axp.set_xlim(-5,5)\n",
    "    axp.set_ylim(-5,5)\n",
    "    axs.set_xlim(-5,5)\n",
    "    axs.set_ylim(-5,5)\n",
    "\n",
    "    for [type, orient, marker, label] in types:\n",
    "        if type == 'SAA':\n",
    "            continue\n",
    "        xs = []\n",
    "        ys = []\n",
    "        zs = []\n",
    "        for i in range(len(FATable)):\n",
    "            x = FATable[i].x_position\n",
    "            y = FATable[i].y_position\n",
    "            if FATable[i].actuator_type.name == type and \\\n",
    "                FATable[i].orientation.name == orient:\n",
    "                xs.append(x)\n",
    "                ys.append(y)\n",
    "                name=f\"secondaryCylinderFollowingError{FATable[i].s_index}\"\n",
    "                zs.append(df.iloc[index][name])\n",
    "        im = axs.scatter(xs, ys, marker=marker, c=zs, cmap='RdBu_r', \\\n",
    "                         vmin=zmin, vmax=zmax, s=50, label=label)\n",
    "    plt.colorbar(im, ax=axs,fraction=0.055, pad=0.02, cmap='RdBu_r')  \n",
    "\n",
    "def hard_point_plot(df, ax, t, t0, tmin, tmax):\n",
    "    # This plots the hardpoint forces\n",
    "    ax.set_title(\"Hardpoint forces\")\n",
    "    ax.set_ylabel(\"measuredForce(N)\")\n",
    "    #ax.set_ylim(-3500, 3500)\n",
    "    ax.set_ylim(-1000, 1000)\n",
    "    times = df['timestamp'].values - t0\n",
    "    for i in range(6):\n",
    "        data = df[f'measuredForce{i}'].values\n",
    "        ax.plot(times, data)\n",
    "    ax.set_xlim(tmin, tmax)\n",
    "    ax.set_xticks([])    \n",
    "    #ax.plot([t, t], [-3000, 3000], ls='--', color='black')\n",
    "    #ax.plot([times[0], times[-1]], [3000, 3000], color='red')\n",
    "    #ax.plot([tmin, tmax], [-3000, -3000], color='red')\n",
    "    #ax.plot([tmin, tmax], [1000, 1000], ls='--', color='blue')\n",
    "    ax.plot([tmin, tmax], [500, 500], ls='--', color='blue')\n",
    "    #ax.plot([tmin, tmax], [-1000, -1000], ls='--', color='blue')\n",
    "    ax.plot([tmin, tmax], [-500, -500], ls='--', color='blue')\n",
    "\n",
    "def tma_plot(az, el, ax, t, t0, tmin, tmax):\n",
    "    #This plots the TMA position\n",
    "    ax.set_ylabel(\"TMA Velocity\\n(deg/sec)\")\n",
    "    #ax.set_ylim(-10,10)\n",
    "    ax.set_ylim(-0.5, 0.5)\n",
    "    ax.set_xlabel(\"Time (sec)\")\n",
    "    times = az['timestamp'] - t0\n",
    "    az_v = az['actualVelocity'].values\n",
    "    el_v = el['actualVelocity'].values\n",
    "    ax.plot(times, az_v, color='blue', label='Az')\n",
    "    ax.plot(times, el_v, color='green', label='El')\n",
    "    ax.set_xlim(tmin, tmax)\n",
    "    ax.legend()\n",
    "    ax.plot([t, t], [-3000, 3000], ls='--', color='black')\n"
   ]
  },
  {
   "cell_type": "markdown",
   "metadata": {},
   "source": [
    "## Now get the data and generate the frames\n",
    "### This will take some time\n",
    "\n",
    "### First, get the needed data"
   ]
  },
  {
   "cell_type": "code",
   "execution_count": null,
   "metadata": {
    "execution": {
     "iopub.execute_input": "2024-11-08T11:16:18.001244Z",
     "iopub.status.busy": "2024-11-08T11:16:18.000729Z",
     "iopub.status.idle": "2024-11-08T11:16:21.989967Z",
     "shell.execute_reply": "2024-11-08T11:16:21.989321Z",
     "shell.execute_reply.started": "2024-11-08T11:16:18.001226Z"
    }
   },
   "outputs": [],
   "source": [
    "client = EfdClient('usdf_efd')\n",
    "[dayObs, seqNum] = gentle\n",
    "eventMaker = TMAEventMaker()\n",
    "event = eventMaker.getEvent(dayObs, seqNum)\n",
    "start = event.begin\n",
    "end = event.end\n",
    "dirName = str(data_dir / f\"actuator_movie_{dayObs}_{seqNum}\")\n",
    "%mkdir -p {dirName}\n",
    "pad_start = 1.0 # Starts the plots before the event begin\n",
    "plot_start = start - TimeDelta(pad_start, format='sec') \n",
    "pad_end = 0.0 # continues the plots after the event end\n",
    "plot_end = end + TimeDelta(pad_end, format='sec') \n",
    "forces = await client.select_time_series(\"lsst.sal.MTM1M3.forceActuatorData\", \\\n",
    "                                         \"*\", plot_start, plot_end)\n",
    "hardpoints = await client.select_time_series(\"lsst.sal.MTM1M3.hardpointActuatorData\", \\\n",
    "                                            \"*\", plot_start, plot_end)\n",
    "az = await client.select_time_series('lsst.sal.MTMount.azimuth', \\\n",
    "                                            ['*'],  plot_start, plot_end)\n",
    "el = await client.select_time_series('lsst.sal.MTMount.elevation', \\\n",
    "                                            ['*'],  plot_start, plot_end) \n",
    "\n",
    "t0 = start.unix_tai\n",
    "# The value below compensates for the different delays in the\n",
    "# different databases\n",
    "t0_az_el = 2.0 * start.unix_tai - az['timestamp'].iloc[0] - pad_start\n",
    "tmax = forces['timestamp'].iloc[-1] - t0\n",
    "tmin = -pad_start"
   ]
  },
  {
   "cell_type": "code",
   "execution_count": null,
   "metadata": {
    "execution": {
     "iopub.execute_input": "2024-11-08T11:16:25.915634Z",
     "iopub.status.busy": "2024-11-08T11:16:25.915241Z",
     "iopub.status.idle": "2024-11-08T11:16:25.918930Z",
     "shell.execute_reply": "2024-11-08T11:16:25.918566Z",
     "shell.execute_reply.started": "2024-11-08T11:16:25.915618Z"
    }
   },
   "outputs": [],
   "source": [
    "len(forces)"
   ]
  },
  {
   "cell_type": "markdown",
   "metadata": {},
   "source": [
    "### Now, generate the frames."
   ]
  },
  {
   "cell_type": "code",
   "execution_count": null,
   "metadata": {
    "execution": {
     "iopub.execute_input": "2024-11-08T11:16:32.687949Z",
     "iopub.status.busy": "2024-11-08T11:16:32.687592Z",
     "iopub.status.idle": "2024-11-08T11:17:58.921425Z",
     "shell.execute_reply": "2024-11-08T11:17:58.920969Z",
     "shell.execute_reply.started": "2024-11-08T11:16:32.687932Z"
    },
    "tags": []
   },
   "outputs": [],
   "source": [
    "# Build the individual frames\n",
    "zmin = -10.0\n",
    "zmax = 10.0\n",
    "\n",
    "fig = plt.figure(figsize=(8,8))\n",
    "for n in range(0, len(forces), 10):\n",
    "    t = Time(forces.index[n], scale='utc').unix_tai - t0\n",
    "    t_msec = int(t * 1000)\n",
    "    fig.suptitle(f\"Actuator following errors.\" +\n",
    "                 f\"T = {t_msec} msec\\n {dayObs} - seqNum {seqNum}\", \\\n",
    "                 y=0.90)\n",
    "    axp = fig.add_axes((0.1, 0.45, 0.35, 0.35))\n",
    "    axs = fig.add_axes((0.55, 0.45, 0.35, 0.35))\n",
    "    heat_map_z(forces, axp, axs, FATable, n, zmin, zmax)\n",
    "    ax_hp = fig.add_axes((0.1, 0.23, 0.8, 0.15))\n",
    "    hard_point_plot(hardpoints, ax_hp, t, t0, tmin, tmax)\n",
    "    ax_tma = fig.add_axes((0.1, 0.08, 0.8, 0.15))\n",
    "    tma_plot(az, el, ax_tma, t, t0_az_el, tmin, tmax)\n",
    "    plt.savefig(f\"{dirName}/Frame_{n:05d}.png\")\n",
    "    plt.clf()\n",
    "plt.close()"
   ]
  },
  {
   "cell_type": "markdown",
   "metadata": {},
   "source": [
    "## Now build the movie"
   ]
  },
  {
   "cell_type": "code",
   "execution_count": null,
   "metadata": {
    "execution": {
     "iopub.execute_input": "2024-11-08T11:18:19.306292Z",
     "iopub.status.busy": "2024-11-08T11:18:19.305988Z",
     "iopub.status.idle": "2024-11-08T11:18:20.489847Z",
     "shell.execute_reply": "2024-11-08T11:18:20.489476Z",
     "shell.execute_reply.started": "2024-11-08T11:18:19.306278Z"
    },
    "tags": []
   },
   "outputs": [],
   "source": [
    "print(f\"\\033[1mThe movie name will be: \" + \n",
    "      f\"{dirName}/m1m3_movie_{dayObs}_{seqNum}.mp4\\033[0m\")\n",
    "\n",
    "command = f\"ffmpeg -pattern_type glob -i \" + \\\n",
    "    f\"'{dirName}/*.png' -f mp4 -vcodec libx264\" + \\\n",
    "    f\" -pix_fmt yuv420p -framerate 50 -y {dirName}\" + \\\n",
    "    f\"/m1m3_movie_{dayObs}_{seqNum}.mp4\"\n",
    "args = shlex.split(command)\n",
    "build_movie = subprocess.Popen(args)\n",
    "build_movie.wait()"
   ]
  },
  {
   "cell_type": "code",
   "execution_count": null,
   "metadata": {},
   "outputs": [],
   "source": []
  }
 ],
 "metadata": {
  "kernelspec": {
   "display_name": "LSST",
   "language": "python",
   "name": "lsst"
  },
  "language_info": {
   "codemirror_mode": {
    "name": "ipython",
    "version": 3
   },
   "file_extension": ".py",
   "mimetype": "text/x-python",
   "name": "python",
   "nbconvert_exporter": "python",
   "pygments_lexer": "ipython3",
   "version": "3.11.9"
  }
 },
 "nbformat": 4,
 "nbformat_minor": 4
}
