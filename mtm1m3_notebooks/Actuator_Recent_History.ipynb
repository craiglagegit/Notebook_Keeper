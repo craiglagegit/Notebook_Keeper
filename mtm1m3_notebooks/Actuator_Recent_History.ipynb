{
 "cells": [
  {
   "cell_type": "markdown",
   "metadata": {},
   "source": [
    "# Bump test recent history"
   ]
  },
  {
   "cell_type": "code",
   "execution_count": null,
   "metadata": {
    "execution": {
     "iopub.execute_input": "2024-10-16T11:40:14.397482Z",
     "iopub.status.busy": "2024-10-16T11:40:14.397296Z",
     "iopub.status.idle": "2024-10-16T11:40:14.399879Z",
     "shell.execute_reply": "2024-10-16T11:40:14.399516Z",
     "shell.execute_reply.started": "2024-10-16T11:40:14.397469Z"
    }
   },
   "outputs": [],
   "source": [
    "# Times Square parameters\n",
    "\n",
    "days_to_plot = 30\n"
   ]
  },
  {
   "cell_type": "code",
   "execution_count": null,
   "metadata": {
    "execution": {
     "iopub.execute_input": "2024-10-18T17:04:21.174759Z",
     "iopub.status.busy": "2024-10-18T17:04:21.174455Z",
     "iopub.status.idle": "2024-10-18T17:04:21.177334Z",
     "shell.execute_reply": "2024-10-18T17:04:21.177003Z",
     "shell.execute_reply.started": "2024-10-18T17:04:21.174745Z"
    },
    "tags": []
   },
   "outputs": [],
   "source": [
    "import asyncio, time\n",
    "import numpy as np\n",
    "import pandas as pd\n",
    "import matplotlib.pyplot as plt\n",
    "from matplotlib.ticker import FormatStrFormatter\n",
    "from matplotlib.backends.backend_pdf import PdfPages\n",
    "from astropy.time import Time, TimeDelta\n",
    "from lsst.ts.xml.tables.m1m3 import FATable, FAIndex, force_actuator_from_id, actuator_id_to_index\n",
    "from lsst_efd_client import EfdClient\n",
    "from lsst.ts.xml.enums.MTM1M3 import BumpTest"
   ]
  },
  {
   "cell_type": "code",
   "execution_count": null,
   "metadata": {
    "execution": {
     "iopub.execute_input": "2024-10-14T10:04:11.799763Z",
     "iopub.status.busy": "2024-10-14T10:04:11.799302Z",
     "iopub.status.idle": "2024-10-14T10:04:11.805826Z",
     "shell.execute_reply": "2024-10-14T10:04:11.805461Z",
     "shell.execute_reply.started": "2024-10-14T10:04:11.799747Z"
    }
   },
   "outputs": [],
   "source": [
    "def max_error(errors):\n",
    "    return np.max([np.max(errors), np.max(errors * -1.0)])\n",
    "\n",
    "def rms_error(times, errors):\n",
    "    error = 0.0\n",
    "    num = 0\n",
    "    for i, t in enumerate(times):\n",
    "        if (t > 3.0 and t < 4.0) or (t > 10.0 and t < 11.0):\n",
    "            num += 1\n",
    "            error += errors[i]**2\n",
    "    if num == 0:\n",
    "        return np.nan\n",
    "    else:\n",
    "        return np.sqrt(error / num)\n",
    "        \n",
    "async def calc_bumps_and_errors(bump, bt_result, follow):\n",
    "    BUMP_TEST_DURATION = 14.0  # seconds\n",
    "    measured_forces_times = []\n",
    "    following_error_values = []\n",
    "    t_starts = []\n",
    "    results = bt_result[bt_result[bump] == BumpTest.TESTINGPOSITIVE]\n",
    "    print(len(results))\n",
    "    for bt_index in range(len(results)):\n",
    "        t_start = Time(\n",
    "            bt_result[bt_result[bump] == BumpTest.TESTINGPOSITIVE][\n",
    "                \"timestamp\"\n",
    "            ].values[bt_index]\n",
    "            - 1.0,\n",
    "            format=\"unix_tai\",\n",
    "            scale=\"tai\",\n",
    "        )\n",
    "        t_starts.append(t_start.isot.split('.')[0])\n",
    "        t_end = Time(\n",
    "            t_start + TimeDelta(BUMP_TEST_DURATION, format=\"sec\"),\n",
    "            format=\"unix_tai\",\n",
    "            scale=\"tai\",\n",
    "        )\n",
    "        print(f\"Getting measured forces for {bump}, {bt_index}, {t_start.utc.isot}, {t_end.utc.isot}\")\n",
    "        measured_forces = await client.select_time_series(\\\n",
    "                    \"lsst.sal.MTM1M3.forceActuatorData\", \\\n",
    "                    [follow, \"timestamp\"], t_start.utc, t_end.utc)\n",
    "        print(bump, bt_index, len(measured_forces))\n",
    "        t0 = measured_forces[\"timestamp\"].values[0]\n",
    "        measured_forces[\"timestamp\"] -= t0\n",
    "    \n",
    "        # It is easier/faster to work with arrays\n",
    "        measured_forces_time = measured_forces[\"timestamp\"].values\n",
    "        measured_forces_times.append(measured_forces_time)\n",
    "        following_error_value = measured_forces[follow].values\n",
    "        following_error_values.append(following_error_value)\n",
    "\n",
    "    times = []\n",
    "    max_errors = []\n",
    "    rms_errors = []\n",
    "    print(len(measured_forces_times), \"Starting time loop\")\n",
    "    for i in range(len(measured_forces_times)):\n",
    "        print(i, t_starts[i])\n",
    "        times.append(t_starts[i])\n",
    "        max_errors.append(max_error(following_error_values[i]))\n",
    "        rms_errors.append(rms_error(measured_forces_times[i], following_error_values[i]))\n",
    "    print(\"Done, returning\")\n",
    "    return [times, rms_errors, max_errors]"
   ]
  },
  {
   "cell_type": "code",
   "execution_count": null,
   "metadata": {
    "execution": {
     "iopub.execute_input": "2024-10-14T10:04:12.856396Z",
     "iopub.status.busy": "2024-10-14T10:04:12.856042Z",
     "iopub.status.idle": "2024-10-14T10:04:12.859613Z",
     "shell.execute_reply": "2024-10-14T10:04:12.859264Z",
     "shell.execute_reply.started": "2024-10-14T10:04:12.856379Z"
    }
   },
   "outputs": [],
   "source": [
    "async def actuator_error(client, fa_id, bt_results):    \n",
    "    # Grab the Force Actuator Data from its ID\n",
    "    fa_data = force_actuator_from_id(fa_id)\n",
    "    bt_result = bt_results[bt_results[\"actuatorId\"] == fa_id]\n",
    "    \n",
    "    # First the primary forces\n",
    "    bump = f\"primaryTest{fa_data.index}\"\n",
    "    follow = f\"primaryCylinderFollowingError{fa_data.index}\"\n",
    "    [ptimes, prms_errors, pmax_errors] = \\\n",
    "        await calc_bumps_and_errors(bump, bt_result, follow)\n",
    "    print(f\"Finished primary forces for {fa_id}\")\n",
    "    # Now the secondary  forces  \n",
    "    if fa_data.actuator_type.name == \"DAA\":\n",
    "        bump = f\"secondaryTest{fa_data.s_index}\"\n",
    "        follow = f\"secondaryCylinderFollowingError{fa_data.s_index}\"\n",
    "            \n",
    "        [stimes, srms_errors, smax_errors] = \\\n",
    "            await calc_bumps_and_errors(bump, bt_result, follow)\n",
    "        print(f\"Finished secondary forces for {fa_id}\")\n",
    "    else:\n",
    "        stimes = []; srms_errors = []; smax_errors = []\n",
    "        print(\"No secondary\")\n",
    "\n",
    "    return [ptimes, prms_errors, pmax_errors, stimes, srms_errors, smax_errors]\n"
   ]
  },
  {
   "cell_type": "code",
   "execution_count": null,
   "metadata": {
    "execution": {
     "iopub.execute_input": "2024-10-14T10:04:41.526604Z",
     "iopub.status.busy": "2024-10-14T10:04:41.526188Z",
     "iopub.status.idle": "2024-10-14T10:04:47.173807Z",
     "shell.execute_reply": "2024-10-14T10:04:47.173427Z",
     "shell.execute_reply.started": "2024-10-14T10:04:41.526587Z"
    }
   },
   "outputs": [],
   "source": [
    "end = Time.now()\n",
    "start = end - TimeDelta(days_to_plot, format='jd')\n",
    "client = EfdClient('usdf_efd')\n",
    "query = f'''SELECT * FROM \"lsst.sal.MTM1M3.logevent_forceActuatorBumpTestStatus\" WHERE time > '{start.isot}Z' AND time < '{end.isot}Z' '''\n",
    "chunks = await client.influx_client.query(query, chunked=True, chunk_size=1000)\n",
    "bumps = pd.concat([chunk async for chunk in chunks])\n",
    "\n",
    "ids = []\n",
    "for index in range(len(FATable)):\n",
    "    id = FATable[index].actuator_id\n",
    "    ids.append(id)\n"
   ]
  },
  {
   "cell_type": "code",
   "execution_count": null,
   "metadata": {},
   "outputs": [],
   "source": [
    "%matplotlib inline\n",
    "fig, axs = plt.subplots(2,2, figsize=(10,10))\n",
    "plt.suptitle(\"Actuator Recent History\\nNot plotted -> All green\", fontsize=18)\n",
    "plot_list = [[0,0,\"Primary RMS Errors\", 0, 1, 5, 10],\n",
    "             [1,0,\"Primary Max Errors\", 0, 2, 100, 200],\n",
    "             [0,1,\"Secondary RMS Errors\", 3, 4, 7.0, 14.0],\n",
    "             [1,1,\"Secondary Max Errors\", 3, 5, 140, 280]]\n",
    "ns = np.zeros(4) # Number of bad ids per plot\n",
    "bad_ids = [[],[],[],[]] # List of bad_ids per plot\n",
    "min_times = np.ones(4) * 1.0E12 # Min/Max times in unix_tai\n",
    "max_times = np.zeros(4) # Min/Max times in unix_tai\n",
    "min_time_list = [[],[],[],[]] # Min/Max times in isot\n",
    "max_time_list = [[],[],[],[]] # Min/Max times in isot\n",
    "for id in ids:\n",
    "    data = await actuator_error(client, id, bumps)\n",
    "    for m, [xplot, yplot, title, time_index, error_index, yellow_limit, red_limit] in enumerate(plot_list):\n",
    "        errors = data[error_index]\n",
    "        if len(errors) > 0:\n",
    "            max = np.max(errors)\n",
    "        else:\n",
    "            max = 0.0\n",
    "        if max > yellow_limit:\n",
    "            bad_ids[m].append(id)\n",
    "        else:\n",
    "            continue\n",
    "\n",
    "        times = data[time_index]\n",
    "        actual_times_red = []\n",
    "        actual_times_yellow = []\n",
    "        actual_times_green = []\n",
    "        yaxis_red = []\n",
    "        yaxis_yellow = []\n",
    "        yaxis_green = []\n",
    "    \n",
    "        for i, time in enumerate(times):\n",
    "            act_time = Time(time, format='isot').unix_tai\n",
    "            if act_time < min_times[m]:\n",
    "                min_times[m] = act_time\n",
    "                min_time_list[m] = time\n",
    "            if act_time > max_times[m]:\n",
    "                max_times[m] = act_time\n",
    "                max_time_list[m] = time\n",
    "            \n",
    "            if errors[i] > red_limit:\n",
    "                actual_times_red.append(act_time)\n",
    "                yaxis_red.append(ns[m])\n",
    "            elif errors[i] > yellow_limit:\n",
    "                actual_times_yellow.append(act_time)\n",
    "                yaxis_yellow.append(ns[m])\n",
    "            else:\n",
    "                actual_times_green.append(act_time)\n",
    "                yaxis_green.append(ns[m])\n",
    "\n",
    "        axs[xplot][yplot].set_title(title)\n",
    "        axs[xplot][yplot].scatter(actual_times_green, yaxis_green, color='green')\n",
    "        axs[xplot][yplot].scatter(actual_times_yellow, yaxis_yellow, color='gold')\n",
    "        axs[xplot][yplot].scatter(actual_times_red, yaxis_red, color='red')\n",
    "        ns[m] += 1\n",
    "    print(f\"Finished ID {id}\")\n",
    "for m, [xplot, yplot, title, time_index, error_index, yellow_limit, red_limit] in enumerate(plot_list):\n",
    "    axs[xplot][yplot].set_yticks(list(range(len(bad_ids[m]))), bad_ids[m])\n",
    "    axs[xplot][yplot].set_xticks([min_times[m], max_times[m]],[min_time_list[m], max_time_list[m]], rotation=10)\n",
    "plt.savefig(f\"/home/c/cslage/u/MTM1M3/data/Actuator_Trends_11Oct24.pdf\")\n",
    "#plt.show()"
   ]
  },
  {
   "cell_type": "code",
   "execution_count": null,
   "metadata": {
    "execution": {
     "iopub.execute_input": "2024-10-18T17:12:24.484531Z",
     "iopub.status.busy": "2024-10-18T17:12:24.484149Z",
     "iopub.status.idle": "2024-10-18T17:12:24.503570Z",
     "shell.execute_reply": "2024-10-18T17:12:24.503271Z",
     "shell.execute_reply.started": "2024-10-18T17:12:24.484517Z"
    }
   },
   "outputs": [],
   "source": [
    "t0 = Time.now()\n",
    "start = Time('2024-09-19T12:24:07.288')\n",
    "end = Time('2024-09-19T12:24:21.288')\n",
    "follow = 'primaryCylinderFollowingError0'\n",
    "measured_forces = await client.select_time_series(\\\n",
    "            \"lsst.sal.MTM1M3.forceActuatorData\", \\\n",
    "            [follow, \"timestamp\"], start, end)\n",
    "t1 = Time.now()\n",
    "\n",
    "print(len(measured_forces), f\"Time = {(t1 - t0).value * 86400 * 1000} ms\")"
   ]
  },
  {
   "cell_type": "code",
   "execution_count": null,
   "metadata": {
    "execution": {
     "iopub.execute_input": "2024-10-18T17:03:21.919784Z",
     "iopub.status.busy": "2024-10-18T17:03:21.919412Z",
     "iopub.status.idle": "2024-10-18T17:03:42.452408Z",
     "shell.execute_reply": "2024-10-18T17:03:42.452076Z",
     "shell.execute_reply.started": "2024-10-18T17:03:21.919767Z"
    }
   },
   "outputs": [],
   "source": [
    "start = Time('2024-09-20T21:06:12.782')\n",
    "end = Time('2024-09-20T21:06:26.782')\n",
    "follow = 'primaryCylinderFollowingError0'\n",
    "measured_forces = await client.select_time_series(\\\n",
    "            \"lsst.sal.MTM1M3.forceActuatorData\", \\\n",
    "            [follow, \"timestamp\"], start, end)\n",
    "print(len(measured_forces))"
   ]
  },
  {
   "cell_type": "code",
   "execution_count": null,
   "metadata": {
    "execution": {
     "iopub.execute_input": "2024-10-18T17:05:13.645527Z",
     "iopub.status.busy": "2024-10-18T17:05:13.645116Z",
     "iopub.status.idle": "2024-10-18T17:05:13.647617Z",
     "shell.execute_reply": "2024-10-18T17:05:13.647332Z",
     "shell.execute_reply.started": "2024-10-18T17:05:13.645512Z"
    }
   },
   "outputs": [],
   "source": [
    "start = Time.now()"
   ]
  },
  {
   "cell_type": "code",
   "execution_count": null,
   "metadata": {
    "execution": {
     "iopub.execute_input": "2024-10-18T17:05:22.877892Z",
     "iopub.status.busy": "2024-10-18T17:05:22.877582Z",
     "iopub.status.idle": "2024-10-18T17:05:22.880080Z",
     "shell.execute_reply": "2024-10-18T17:05:22.879786Z",
     "shell.execute_reply.started": "2024-10-18T17:05:22.877878Z"
    }
   },
   "outputs": [],
   "source": [
    "end = Time.now()"
   ]
  },
  {
   "cell_type": "code",
   "execution_count": null,
   "metadata": {
    "execution": {
     "iopub.execute_input": "2024-10-18T17:06:41.516743Z",
     "iopub.status.busy": "2024-10-18T17:06:41.516435Z",
     "iopub.status.idle": "2024-10-18T17:06:41.519976Z",
     "shell.execute_reply": "2024-10-18T17:06:41.519693Z",
     "shell.execute_reply.started": "2024-10-18T17:06:41.516729Z"
    }
   },
   "outputs": [],
   "source": [
    "(end - start).value * 86400"
   ]
  },
  {
   "cell_type": "code",
   "execution_count": null,
   "metadata": {},
   "outputs": [],
   "source": []
  }
 ],
 "metadata": {
  "kernelspec": {
   "display_name": "LSST",
   "language": "python",
   "name": "lsst"
  },
  "language_info": {
   "codemirror_mode": {
    "name": "ipython",
    "version": 3
   },
   "file_extension": ".py",
   "mimetype": "text/x-python",
   "name": "python",
   "nbconvert_exporter": "python",
   "pygments_lexer": "ipython3",
   "version": "3.11.9"
  }
 },
 "nbformat": 4,
 "nbformat_minor": 4
}
