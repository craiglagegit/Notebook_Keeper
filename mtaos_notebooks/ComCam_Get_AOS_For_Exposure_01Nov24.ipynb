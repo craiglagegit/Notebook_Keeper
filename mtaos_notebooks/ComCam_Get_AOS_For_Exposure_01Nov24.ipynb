{
 "cells": [
  {
   "cell_type": "markdown",
   "id": "455caacf-0060-46c2-a2b6-b0b82feef02d",
   "metadata": {},
   "source": [
    "# This notebook is intended to get the current AOS data for a given exposure.\n",
    "\n",
    "Craig Lage - 01-Nov-24"
   ]
  },
  {
   "cell_type": "code",
   "execution_count": null,
   "id": "8252ff5f-7486-4a82-8160-99dbab9afc7e",
   "metadata": {
    "execution": {
     "iopub.execute_input": "2024-11-04T20:47:19.936100Z",
     "iopub.status.busy": "2024-11-04T20:47:19.935904Z",
     "iopub.status.idle": "2024-11-04T20:47:19.939261Z",
     "shell.execute_reply": "2024-11-04T20:47:19.938800Z",
     "shell.execute_reply.started": "2024-11-04T20:47:19.936085Z"
    }
   },
   "outputs": [],
   "source": [
    "import yaml\n",
    "import numpy as np\n",
    "import pandas as pd\n",
    "import matplotlib.pyplot as plt\n",
    "import matplotlib.colors as colors\n",
    "from astropy.time import Time, TimeDelta\n",
    "from lsst_efd_client import EfdClient\n",
    "from lsst.daf.butler import Butler\n",
    "import lsst.summit.utils.butlerUtils as butlerUtils\n",
    "from lsst.ts.xml.tables.m1m3 import FATable\n",
    "from lsst.summit.utils.efdUtils import getEfdData, makeEfdClient"
   ]
  },
  {
   "cell_type": "code",
   "execution_count": null,
   "id": "1d520fc5-5dff-4909-b3dd-e9b521b06027",
   "metadata": {
    "execution": {
     "iopub.execute_input": "2024-11-04T20:47:20.724213Z",
     "iopub.status.busy": "2024-11-04T20:47:20.723864Z",
     "iopub.status.idle": "2024-11-04T20:47:21.370737Z",
     "shell.execute_reply": "2024-11-04T20:47:21.370283Z",
     "shell.execute_reply.started": "2024-11-04T20:47:20.724196Z"
    }
   },
   "outputs": [],
   "source": [
    "butler = Butler('/repo/embargo_new', collections=[\"LSSTComCam/raw/all\", \"LSSTComCam/calib\"])\n",
    "client = makeEfdClient()\n",
    "M2_yaml_file = '../../MTM2/cell_geom/cell_geom.yaml' "
   ]
  },
  {
   "cell_type": "code",
   "execution_count": null,
   "id": "b972fa02-aa84-4c0d-8777-1c594aeec0fc",
   "metadata": {
    "execution": {
     "iopub.execute_input": "2024-11-03T20:30:56.620567Z",
     "iopub.status.busy": "2024-11-03T20:30:56.620212Z",
     "iopub.status.idle": "2024-11-03T20:30:56.623839Z",
     "shell.execute_reply": "2024-11-03T20:30:56.623466Z",
     "shell.execute_reply.started": "2024-11-03T20:30:56.620548Z"
    }
   },
   "outputs": [],
   "source": [
    "# Define the names of the degrees of freedom\n",
    "DOF_names = []\n",
    "for component in [\"M2\", \"Cam\"]:\n",
    "    for dof in [\"dz\", \"dx\", \"dy\", \"rx\", \"ry\"]:\n",
    "        DOF_names.append(component+\"_\"+dof)\n",
    "for i in range(20):\n",
    "    DOF_names.append(f\"M1M3_B{i+1}\")\n",
    "for i in range(20):\n",
    "    DOF_names.append(f\"M2_B{i+1}\")"
   ]
  },
  {
   "cell_type": "code",
   "execution_count": null,
   "id": "1b40949d-dde4-4900-9a60-e2d7b55868d0",
   "metadata": {
    "execution": {
     "iopub.execute_input": "2024-11-03T21:42:53.293434Z",
     "iopub.status.busy": "2024-11-03T21:42:53.293119Z",
     "iopub.status.idle": "2024-11-03T21:42:53.307752Z",
     "shell.execute_reply": "2024-11-03T21:42:53.307372Z",
     "shell.execute_reply.started": "2024-11-03T21:42:53.293419Z"
    }
   },
   "outputs": [],
   "source": [
    "def plotM1M3_AOS(df, ax, FATable, zmin=-200, zmax=200):\n",
    "    ax.set_xlabel(\"X position (m)\")\n",
    "    ax.set_ylabel(\"Y position (m)\")\n",
    "    ax.set_xlim(-4.5,4.5)\n",
    "    ax.set_ylim(-4.5,4.5)\n",
    "    ax.set_title(\"M1M3 AOS forces (N)\", fontsize=12)\n",
    "    index = -1\n",
    "    types = [['SAA','NA', 'o', 'Z'], ['DAA','Y_PLUS', '^', 'Y_PLUS'], ['DAA','Y_MINUS', 'v', 'Y_MINUS'], \\\n",
    "             ['DAA','X_PLUS', '>', 'X_PLUS'], ['DAA','X_MINUS', '<', 'X_MINUS']]\n",
    "    print(len(df))\n",
    "    for [type, orient, marker, label] in types:\n",
    "        xs = []\n",
    "        ys = []\n",
    "        zs = []\n",
    "        for i in range(len(FATable)):\n",
    "            x = FATable[i].x_position\n",
    "            y = FATable[i].y_position\n",
    "            if FATable[i].actuator_type.name == type and FATable[i].orientation.name == orient:\n",
    "                xs.append(x)\n",
    "                ys.append(y)\n",
    "                name=f\"zForces{i}\"\n",
    "                zs.append(df.iloc[index][name])\n",
    "    im = ax.scatter(xs, ys, marker=marker, c=zs, cmap='RdBu_r', \\\n",
    "                    norm=colors.SymLogNorm(linthresh=zmax/100.0, vmin=zmin, vmax=zmax), \\\n",
    "                     s=50, label=label)\n",
    "    plt.colorbar(im, ax=ax,fraction=0.055, pad=0.02, cmap='RdBu_r') \n",
    "    return\n",
    "\n",
    "def plotM2_AOS(df, ax, zmin=-200, zmax=200):\n",
    "    # Get the data from the yaml file\n",
    "    scale = 2.5\n",
    "    ax.set_xlim(-scale, scale)\n",
    "    ax.set_ylim(-scale, scale)\n",
    "    ax.set_xlabel(\"X position (m)\")\n",
    "    ax.set_ylabel(\"Y position (m)\")\n",
    "    ax.set_title(\"M2 AOS forces (N)\", fontsize=12)\n",
    "\n",
    "    if len(df) == 0:\n",
    "        ax.text(-1, 0, \"Not Available\")\n",
    "        return\n",
    "\n",
    "    index = -1\n",
    "    with open(M2_yaml_file, 'r') as stream:\n",
    "        locations = yaml.safe_load(stream)\n",
    "    axials = np.array(locations['locAct_axial'])\n",
    "    xs = axials[:,0]\n",
    "    ys = axials[:,1]\n",
    "    zs = []\n",
    "    for i in range(len(xs)):\n",
    "        name=f\"axial{i}\"\n",
    "        force = df.iloc[index][name]\n",
    "        zs.append(force)\n",
    "\n",
    "    im = ax.scatter(xs, ys, marker='o', c=zs, cmap='RdBu_r', \\\n",
    "                    norm=colors.SymLogNorm(linthresh=zmax/100.0, vmin=zmin, vmax=zmax), \\\n",
    "                     s=80, label=\"Axial\")\n",
    "    plt.colorbar(im, ax=ax,fraction=0.055, pad=0.0, cmap='RdBu_r')\n",
    "    return\n",
    "\n",
    "\n",
    "def getData(client, expRecord, fig, DOF_names):\n",
    "    ax1 = fig.add_axes([0.10,0.60,0.80,0.30])\n",
    "    ax2 = fig.add_axes([0.15,0.10,0.20,0.40])\n",
    "    ax3 = fig.add_axes([0.50,0.10,0.20,0.40])\n",
    "    ax1.set_axis_off()\n",
    "    plt.suptitle(f\"{expId}\", fontsize=24)\n",
    "\n",
    "    tOpen = Time(expRecord.timespan.begin, scale='tai').utc.isot\n",
    "    tClose = Time(expRecord.timespan.end, scale='tai').utc.isot\n",
    "    text1 = f\"Topen = {tOpen}, Tclose = {tClose}\"\n",
    "    ax1.text(0.1, 0.9, text1, color='black')\n",
    "    position = f\"Azimuth = {expRecord.azimuth:.2f}, \"\n",
    "    position += f\"Elevation = {(90.0 - expRecord.zenith_angle):.2f}, \"\n",
    "    position += f\"Rotation = {expRecord.sky_angle:.2f}\"\n",
    "    ax1.text(0.1, 0.7, position, color='black')\n",
    "    \n",
    "    hexData = getEfdData(\n",
    "        client,\n",
    "        \"lsst.sal.MTHexapod.application\",\n",
    "        expRecord=expRecord\n",
    "    )\n",
    "    camHex = hexData[hexData['salIndex'] == 1]\n",
    "    m2Hex = hexData[hexData['salIndex'] == 2]\n",
    "    names = ['Camera', 'M2']\n",
    "    yText = [0.5, 0.3]\n",
    "    for i, hex in enumerate([camHex, m2Hex]):\n",
    "        textHex = f\"{names[i]} hexapod: \"\n",
    "        X = hex.iloc[0][\"position0\"]\n",
    "        Y = hex.iloc[0][\"position1\"]\n",
    "        Z = hex.iloc[0][\"position2\"]\n",
    "        U = hex.iloc[0][\"position3\"]\n",
    "        V = hex.iloc[0][\"position4\"]\n",
    "        hexPos = f\"X={X:.1f}um, Y={Y:.1f}um, Z={Z:.1f}um, U = {U * 3600.0:.1f} arcsec, V = {V * 3600.0:.1f} arcsec\"\n",
    "        textHex += hexPos  \n",
    "        ax1.text(0.1, yText[i], textHex, color='black')\n",
    "    \n",
    "    offsetDOF = getEfdData(\n",
    "        client,\n",
    "        \"lsst.sal.MTAOS.logevent_degreeOfFreedom\",\n",
    "        expRecord=expRecord,\n",
    "        prePadding=7200\n",
    "    )\n",
    "    \n",
    "    textBend = \"AOS DOF: \"\n",
    "    nModes = 0\n",
    "    for i in range(50):\n",
    "        value = offsetDOF.iloc[-1][f\"aggregatedDoF{i}\"]\n",
    "        if abs(value) > 1.0E-6:\n",
    "            textBend += f\"{DOF_names[i]} = {value:.2f}, \"\n",
    "            nModes += 1\n",
    "        if nModes == 5:\n",
    "            textBend += \"\\n\"\n",
    "    ax1.text(0.1, 0.1, textBend, color='black')\n",
    "    \n",
    "    M1M3_AOS_names = []\n",
    "    for i in range(156):\n",
    "        name=f\"zForces{i}\"\n",
    "        M1M3_AOS_names.append(name)\n",
    "    \n",
    "    M2_AOS_names = []\n",
    "    for i in range(72):\n",
    "        name=f\"axial{i}\"\n",
    "        M2_AOS_names.append(name)\n",
    "\n",
    "    M1M3_AOS = getEfdData(\n",
    "        client,\n",
    "        \"lsst.sal.MTM1M3.command_applyActiveOpticForces\",\n",
    "        expRecord=expRecord,\n",
    "        columns=M1M3_AOS_names,\n",
    "        prePadding=7200\n",
    "    )\n",
    "    print(len(M1M3_AOS))\n",
    "\n",
    "    plotM1M3_AOS(M1M3_AOS, ax2, FATable, zmin=-200, zmax=200)\n",
    "\n",
    "    M2_AOS = getEfdData(\n",
    "        client,\n",
    "        \"lsst.sal.MTM2.command_applyForces\",\n",
    "        expRecord=expRecord,\n",
    "        columns=M2_AOS_names,\n",
    "        prePadding=7200\n",
    "    )\n",
    "    \n",
    "    \n",
    "    plotM2_AOS(M2_AOS, ax3, zmin=-200, zmax=200)\n",
    "    \n",
    "    return fig\n"
   ]
  },
  {
   "cell_type": "code",
   "execution_count": null,
   "id": "ad45e393-690e-4ece-91f5-7ceb41d831da",
   "metadata": {
    "execution": {
     "iopub.execute_input": "2024-11-04T20:49:57.700046Z",
     "iopub.status.busy": "2024-11-04T20:49:57.699387Z",
     "iopub.status.idle": "2024-11-04T20:49:58.196933Z",
     "shell.execute_reply": "2024-11-04T20:49:58.196372Z",
     "shell.execute_reply.started": "2024-11-04T20:49:57.700029Z"
    }
   },
   "outputs": [],
   "source": [
    "%matplotlib inline\n",
    "expId = 2024110300012\n",
    "dataId = {'exposure': expId, 'detector': 4, 'instrument': 'LSSTComCam'}\n",
    "expRecord = butlerUtils.getExpRecordFromDataId(butler, dataId)\n",
    "fig = plt.figure(figsize=(10,5))\n",
    "getData(client, expRecord, fig, DOF_names)\n",
    "plt.savefig(f\"/home/c/cslage/u/MTAOS/images/Test_{expId}.png\")"
   ]
  },
  {
   "cell_type": "code",
   "execution_count": null,
   "id": "2d4e2fa9-e1b6-4f1e-a93e-c17d680b2d03",
   "metadata": {
    "execution": {
     "iopub.execute_input": "2024-11-04T20:50:15.879903Z",
     "iopub.status.busy": "2024-11-04T20:50:15.879486Z",
     "iopub.status.idle": "2024-11-04T20:50:15.912110Z",
     "shell.execute_reply": "2024-11-04T20:50:15.911720Z",
     "shell.execute_reply.started": "2024-11-04T20:50:15.879887Z"
    }
   },
   "outputs": [],
   "source": [
    "hexData = getEfdData(\n",
    "    client,\n",
    "    \"lsst.sal.MTHexapod.application\",\n",
    "    expRecord=expRecord\n",
    ")\n",
    "len(hexData)\n"
   ]
  },
  {
   "cell_type": "code",
   "execution_count": null,
   "id": "fdd77f8f-27b9-4c3f-9d3b-4e33925510e1",
   "metadata": {},
   "outputs": [],
   "source": []
  }
 ],
 "metadata": {
  "kernelspec": {
   "display_name": "LSST",
   "language": "python",
   "name": "lsst"
  },
  "language_info": {
   "codemirror_mode": {
    "name": "ipython",
    "version": 3
   },
   "file_extension": ".py",
   "mimetype": "text/x-python",
   "name": "python",
   "nbconvert_exporter": "python",
   "pygments_lexer": "ipython3",
   "version": "3.11.9"
  }
 },
 "nbformat": 4,
 "nbformat_minor": 5
}
