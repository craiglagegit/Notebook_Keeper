{
 "cells": [
  {
   "cell_type": "markdown",
   "id": "8d8ac7a4-b470-4f8b-91fa-8935e9272a2e",
   "metadata": {
    "execution": {
     "iopub.execute_input": "2024-06-12T21:24:09.901420Z",
     "iopub.status.busy": "2024-06-12T21:24:09.901137Z",
     "iopub.status.idle": "2024-06-12T21:24:09.903656Z",
     "shell.execute_reply": "2024-06-12T21:24:09.903287Z",
     "shell.execute_reply.started": "2024-06-12T21:24:09.901407Z"
    }
   },
   "source": [
    "## CCamera exploring"
   ]
  },
  {
   "cell_type": "code",
   "execution_count": null,
   "id": "8c6c3450-cf62-4d0a-839d-46711f8ffa12",
   "metadata": {
    "execution": {
     "iopub.execute_input": "2024-06-19T18:40:15.389702Z",
     "iopub.status.busy": "2024-06-19T18:40:15.389573Z",
     "iopub.status.idle": "2024-06-19T18:40:16.014149Z",
     "shell.execute_reply": "2024-06-19T18:40:16.013720Z",
     "shell.execute_reply.started": "2024-06-19T18:40:15.389689Z"
    }
   },
   "outputs": [],
   "source": [
    "import sys, time, os, asyncio, glob\n",
    "\n",
    "from datetime import datetime\n",
    "import numpy as np\n",
    "import matplotlib.pyplot as plt\n",
    "import pandas as pd\n",
    "import astropy.io.fits as pf\n",
    "from astropy.time import Time, TimeDelta\n",
    "from lsst_efd_client import EfdClient\n"
   ]
  },
  {
   "cell_type": "code",
   "execution_count": null,
   "id": "161a7071-ab2e-47b1-a79d-b312462fbb0c",
   "metadata": {
    "execution": {
     "iopub.execute_input": "2024-06-12T21:25:18.474318Z",
     "iopub.status.busy": "2024-06-12T21:25:18.474024Z",
     "iopub.status.idle": "2024-06-12T21:25:19.043018Z",
     "shell.execute_reply": "2024-06-12T21:25:19.042394Z",
     "shell.execute_reply.started": "2024-06-12T21:25:18.474301Z"
    }
   },
   "outputs": [],
   "source": [
    "client = EfdClient('usdf_efd')"
   ]
  },
  {
   "cell_type": "code",
   "execution_count": null,
   "id": "6e9bea37-587d-4ae1-9ad9-9af3d1c33f06",
   "metadata": {
    "execution": {
     "iopub.execute_input": "2024-06-13T12:52:48.569469Z",
     "iopub.status.busy": "2024-06-13T12:52:48.569059Z",
     "iopub.status.idle": "2024-06-13T12:52:48.572212Z",
     "shell.execute_reply": "2024-06-13T12:52:48.571919Z",
     "shell.execute_reply.started": "2024-06-13T12:52:48.569456Z"
    }
   },
   "outputs": [],
   "source": [
    "start = Time(\"2024-05-02T03:00:00\", scale='utc')\n",
    "end = Time(\"2024-05-02T04:00:00\", scale='utc')\n"
   ]
  },
  {
   "cell_type": "code",
   "execution_count": null,
   "id": "f35ed22e-c556-46c3-ad0b-19092db075dd",
   "metadata": {
    "execution": {
     "iopub.execute_input": "2024-06-13T12:52:49.239723Z",
     "iopub.status.busy": "2024-06-13T12:52:49.239353Z",
     "iopub.status.idle": "2024-06-13T12:52:49.250751Z",
     "shell.execute_reply": "2024-06-13T12:52:49.250452Z",
     "shell.execute_reply.started": "2024-06-13T12:52:49.239710Z"
    }
   },
   "outputs": [],
   "source": [
    "tel = await client.select_time_series(\"lsst.sal.CCCamera.logevent_endOfImageTelemetry\", \\\n",
    "                                            ['imageNumber', 'timestampAcquisitionStart', 'exposureTime', 'private_efdStamp'], \\\n",
    "                                             start, end)\n",
    "open = await client.select_time_series(\"lsst.sal.CCCamera.logevent_startShutterOpen\", \\\n",
    "                                            ['private_efdStamp'], \\\n",
    "                                             start, end)\n",
    "\n",
    "close = await client.select_time_series(\"lsst.sal.CCCamera.logevent_startShutterClose\", \\\n",
    "                                            ['private_efdStamp'], \\\n",
    "                                             start, end)\n",
    "print(len(tel), len(open), len(close))"
   ]
  },
  {
   "cell_type": "code",
   "execution_count": null,
   "id": "399f0426-33b9-458d-bbc7-15455e776c3b",
   "metadata": {
    "execution": {
     "iopub.execute_input": "2024-06-12T21:56:43.050004Z",
     "iopub.status.busy": "2024-06-12T21:56:43.049608Z",
     "iopub.status.idle": "2024-06-12T21:56:43.061959Z",
     "shell.execute_reply": "2024-06-12T21:56:43.061613Z",
     "shell.execute_reply.started": "2024-06-12T21:56:43.049991Z"
    },
    "jupyter": {
     "outputs_hidden": true
    }
   },
   "outputs": [],
   "source": [
    "for i in range(6):\n",
    "    print(\"Telemetry\")\n",
    "    print(\"Image number\", tel['imageNumber'].iloc[i])\n",
    "    print(\"Exposure time\", tel['exposureTime'].iloc[i])\n",
    "    print(\"Index\", tel.index[i])\n",
    "    print(\"efd_timestamp\", Time(tel['private_efdStamp'].iloc[i], format='unix_tai', scale='tai').utc.isot)\n",
    "    print(\"timestamp Start\", Time(tel['timestampAcquisitionStart'].iloc[i], format='unix_tai', scale='tai').utc.isot)\n",
    "    print(\"Open\")\n",
    "    print(\"Index\", open.index[i])\n",
    "    print(\"efd_timestamp\", Time(open['private_efdStamp'].iloc[i], format='unix_tai', scale='tai').utc.isot)\n",
    "    print(\"Close\")\n",
    "    print(\"Index\", close.index[i])\n",
    "    print(\"efd_timestamp\", Time(close['private_efdStamp'].iloc[i], format='unix_tai', scale='tai').utc.isot)\n",
    "    print(\"\")"
   ]
  },
  {
   "cell_type": "markdown",
   "id": "5f9507a1-39f3-4635-94ec-77816637e877",
   "metadata": {},
   "source": [
    "## Cleaning it up"
   ]
  },
  {
   "cell_type": "code",
   "execution_count": null,
   "id": "c64f6a1f-b1a5-4260-a270-56e6d75f7076",
   "metadata": {
    "execution": {
     "iopub.execute_input": "2024-06-13T13:23:51.798208Z",
     "iopub.status.busy": "2024-06-13T13:23:51.797832Z",
     "iopub.status.idle": "2024-06-13T13:23:51.812560Z",
     "shell.execute_reply": "2024-06-13T13:23:51.812175Z",
     "shell.execute_reply.started": "2024-06-13T13:23:51.798195Z"
    }
   },
   "outputs": [],
   "source": [
    "cam_start = Time(\"2024-05-02T03:00:00\", scale='utc')\n",
    "cam_end = Time(\"2024-05-02T04:00:00\", scale='utc')\n",
    "\n",
    "tel = await client.select_time_series(\"lsst.sal.CCCamera.logevent_endOfImageTelemetry\", \\\n",
    "                                            ['imageNumber', 'timestampAcquisitionStart', 'exposureTime'], \\\n",
    "                                             cam_start, cam_end)\n",
    "\n",
    "tel['close'] = tel['timestampAcquisitionStart'] + tel['exposureTime']\n",
    "tel['close'] = Time(tel['close'], format='unix_tai', scale='tai').utc.isot\n",
    "tel['timestampAcquisitionStart'] = Time(tel['timestampAcquisitionStart'], format='unix_tai', scale='tai').utc.isot\n",
    "tel = tel.set_index('timestampAcquisitionStart')\n"
   ]
  },
  {
   "cell_type": "code",
   "execution_count": null,
   "id": "23314efd-2e88-420f-a32a-1e4c1ed2c396",
   "metadata": {
    "execution": {
     "iopub.execute_input": "2024-06-13T13:20:48.668712Z",
     "iopub.status.busy": "2024-06-13T13:20:48.668360Z",
     "iopub.status.idle": "2024-06-13T13:20:48.671831Z",
     "shell.execute_reply": "2024-06-13T13:20:48.671503Z",
     "shell.execute_reply.started": "2024-06-13T13:20:48.668698Z"
    }
   },
   "outputs": [],
   "source": [
    "for i in range(len(tel)):\n",
    "    print(\"Telemetry\")\n",
    "    print(\"Image number\", tel['imageNumber'].iloc[i])\n",
    "    print(\"Open\", tel.index[i])\n",
    "    print(\"Close\", tel['close'].iloc[i])\n",
    "    print(\"\")"
   ]
  },
  {
   "cell_type": "markdown",
   "id": "00146f8b-9b00-4abc-95e6-e15f0a428910",
   "metadata": {},
   "source": [
    "## Checking the different timestamps\n",
    "### All are the same within ms"
   ]
  },
  {
   "cell_type": "code",
   "execution_count": null,
   "id": "bec33e8f-3068-4ff6-ae37-d263a95ab0a0",
   "metadata": {
    "execution": {
     "iopub.execute_input": "2024-06-13T12:26:25.000731Z",
     "iopub.status.busy": "2024-06-13T12:26:25.000452Z",
     "iopub.status.idle": "2024-06-13T12:26:25.529815Z",
     "shell.execute_reply": "2024-06-13T12:26:25.529368Z",
     "shell.execute_reply.started": "2024-06-13T12:26:25.000715Z"
    }
   },
   "outputs": [],
   "source": [
    "az = await client.select_time_series(\"lsst.sal.MTMount.azimuth\", \\\n",
    "                                            ['timestamp', 'private_efdStamp', 'private_kafkaStamp'], \\\n",
    "                                             start, end)\n",
    "print(len(az))\n",
    "for i in [0, 1000, 2000]:\n",
    "    print(\"Index\", az.index[i])\n",
    "    print(\"timestamp\", Time(az['timestamp'].iloc[i], format='unix_tai', scale='tai').utc.isot)\n",
    "    print(\"efd_timestamp\", Time(az['private_efdStamp'].iloc[i], format='unix_tai', scale='tai').isot)\n",
    "    print(\"kafka_timestamp\", Time(az['private_kafkaStamp'].iloc[i], format='unix_tai', scale='tai').utc.isot)\n",
    "    print()"
   ]
  },
  {
   "cell_type": "code",
   "execution_count": null,
   "id": "da851725-da1a-4a6a-be90-6332b48bf771",
   "metadata": {
    "execution": {
     "iopub.execute_input": "2024-06-13T13:25:28.948299Z",
     "iopub.status.busy": "2024-06-13T13:25:28.948003Z",
     "iopub.status.idle": "2024-06-13T13:25:28.950987Z",
     "shell.execute_reply": "2024-06-13T13:25:28.950655Z",
     "shell.execute_reply.started": "2024-06-13T13:25:28.948287Z"
    }
   },
   "outputs": [],
   "source": [
    "az.index[1] - az.index[0]"
   ]
  },
  {
   "cell_type": "code",
   "execution_count": null,
   "id": "f35712fa-c6c8-4e13-8802-a359721d537c",
   "metadata": {
    "execution": {
     "iopub.execute_input": "2024-06-19T18:45:34.203303Z",
     "iopub.status.busy": "2024-06-19T18:45:34.202996Z",
     "iopub.status.idle": "2024-06-19T18:45:34.206141Z",
     "shell.execute_reply": "2024-06-19T18:45:34.205811Z",
     "shell.execute_reply.started": "2024-06-19T18:45:34.203284Z"
    }
   },
   "outputs": [],
   "source": [
    "camXmax = 8"
   ]
  },
  {
   "cell_type": "code",
   "execution_count": null,
   "id": "eb83e332-a31d-44e4-a810-ea873d5b04af",
   "metadata": {
    "execution": {
     "iopub.execute_input": "2024-06-19T18:45:36.884614Z",
     "iopub.status.busy": "2024-06-19T18:45:36.884281Z",
     "iopub.status.idle": "2024-06-19T18:45:36.887522Z",
     "shell.execute_reply": "2024-06-19T18:45:36.887168Z",
     "shell.execute_reply.started": "2024-06-19T18:45:36.884601Z"
    }
   },
   "outputs": [],
   "source": [
    "mag = int(np.log10(camXmax))\n",
    "camXmax = (int(camXmax / 10 ** mag) + 1) * 10 ** mag\n",
    "camXmax"
   ]
  },
  {
   "cell_type": "code",
   "execution_count": null,
   "id": "a02f49b4-72c7-410f-85be-7f99a942bb4b",
   "metadata": {},
   "outputs": [],
   "source": []
  }
 ],
 "metadata": {
  "kernelspec": {
   "display_name": "LSST",
   "language": "python",
   "name": "lsst"
  },
  "language_info": {
   "codemirror_mode": {
    "name": "ipython",
    "version": 3
   },
   "file_extension": ".py",
   "mimetype": "text/x-python",
   "name": "python",
   "nbconvert_exporter": "python",
   "pygments_lexer": "ipython3",
   "version": "3.11.7"
  }
 },
 "nbformat": 4,
 "nbformat_minor": 5
}
