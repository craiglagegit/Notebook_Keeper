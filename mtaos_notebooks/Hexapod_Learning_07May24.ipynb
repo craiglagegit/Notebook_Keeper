{
 "cells": [
  {
   "cell_type": "markdown",
   "id": "55e4c05f-63ac-4e46-ae13-865fdae51049",
   "metadata": {},
   "source": [
    "## Query MT hexapods\n",
    "\n",
    "Craig Lage 07-May-24"
   ]
  },
  {
   "cell_type": "code",
   "execution_count": null,
   "id": "8cd8a62c-c291-4e50-90bd-76e54b294967",
   "metadata": {
    "execution": {
     "iopub.execute_input": "2024-05-23T11:37:33.705336Z",
     "iopub.status.busy": "2024-05-23T11:37:33.704716Z",
     "iopub.status.idle": "2024-05-23T11:37:34.574956Z",
     "shell.execute_reply": "2024-05-23T11:37:34.574533Z",
     "shell.execute_reply.started": "2024-05-23T11:37:33.705321Z"
    },
    "tags": []
   },
   "outputs": [],
   "source": [
    "import sys, time, os, asyncio, glob\n",
    "import numpy as np\n",
    "import matplotlib.pyplot as plt\n",
    "import pandas as pd\n",
    "from astropy.time import Time, TimeDelta\n",
    "from lsst.daf.butler import Butler\n",
    "from lsst_efd_client import EfdClient"
   ]
  },
  {
   "cell_type": "code",
   "execution_count": null,
   "id": "7779de4e-f861-4cfc-a2d7-8e81f21f5c15",
   "metadata": {
    "execution": {
     "iopub.execute_input": "2024-05-23T11:37:34.582412Z",
     "iopub.status.busy": "2024-05-23T11:37:34.582291Z",
     "iopub.status.idle": "2024-05-23T11:37:34.988987Z",
     "shell.execute_reply": "2024-05-23T11:37:34.988559Z",
     "shell.execute_reply.started": "2024-05-23T11:37:34.582401Z"
    },
    "tags": []
   },
   "outputs": [],
   "source": [
    "client = EfdClient('usdf_efd')"
   ]
  },
  {
   "cell_type": "code",
   "execution_count": null,
   "id": "4b37d482-118c-4ba0-a427-0d46212a34d5",
   "metadata": {
    "execution": {
     "iopub.execute_input": "2024-05-07T11:53:02.975565Z",
     "iopub.status.busy": "2024-05-07T11:53:02.975297Z",
     "iopub.status.idle": "2024-05-07T11:53:07.008264Z",
     "shell.execute_reply": "2024-05-07T11:53:07.007837Z",
     "shell.execute_reply.started": "2024-05-07T11:53:02.975552Z"
    }
   },
   "outputs": [],
   "source": [
    "# Times to start looking at hexapods\n",
    "#start = Time(\"2024-05-01 17:00:00Z\", scale='utc')\n",
    "#end = Time(\"2024-05-01 17:10:00Z\", scale='utc')\n",
    "start = Time(\"2024-05-06 20:30:00Z\", scale='utc')\n",
    "end = Time(\"2024-05-06 21:10:00Z\", scale='utc')\n",
    "\n",
    "camhex = await client.select_time_series('lsst.sal.MTHexapod.actuators', ['*'], start, end, index=1)\n",
    "print(len(camhex))\n",
    "m2hex = await client.select_time_series('lsst.sal.MTHexapod.actuators', ['*'], start, end, index=2)\n",
    "print(len(m2hex))"
   ]
  },
  {
   "cell_type": "code",
   "execution_count": null,
   "id": "dae6f642-9f7c-4898-be19-c9aa59f31a00",
   "metadata": {
    "execution": {
     "iopub.execute_input": "2024-05-07T11:53:37.541491Z",
     "iopub.status.busy": "2024-05-07T11:53:37.540942Z",
     "iopub.status.idle": "2024-05-07T11:53:44.511987Z",
     "shell.execute_reply": "2024-05-07T11:53:44.511581Z",
     "shell.execute_reply.started": "2024-05-07T11:53:37.541478Z"
    }
   },
   "outputs": [],
   "source": [
    "fig, axs = plt.subplots(6,2, figsize = (5,12), sharex=True, sharey=True)\n",
    "plt.subplots_adjust(hspace=0.0, wspace=0.0)\n",
    "names = ['Cam', 'M2']\n",
    "for i, hex in enumerate([camhex, m2hex]):\n",
    "    for j in range(6):\n",
    "        axs[j][i].set_title(f\"{names[i]} - calibrated{j}\", y=0.8)\n",
    "        axs[j][i].set_ylim(-5000, 5000)\n",
    "        hex[f\"calibrated{j}\"].plot(ax = axs[j][i])"
   ]
  },
  {
   "cell_type": "code",
   "execution_count": null,
   "id": "a4249625-a017-4260-94dd-993db931ec35",
   "metadata": {
    "execution": {
     "iopub.execute_input": "2024-05-23T11:37:39.919717Z",
     "iopub.status.busy": "2024-05-23T11:37:39.919500Z",
     "iopub.status.idle": "2024-05-23T11:37:40.870039Z",
     "shell.execute_reply": "2024-05-23T11:37:40.869589Z",
     "shell.execute_reply.started": "2024-05-23T11:37:39.919703Z"
    }
   },
   "outputs": [],
   "source": [
    "# Times to start looking at hexapods\n",
    "#start = Time(\"2024-05-01 17:04:00Z\", scale='utc')\n",
    "#end = Time(\"2024-05-01 17:10:00Z\", scale='utc')\n",
    "#start = Time(\"2024-05-06 20:30:00Z\", scale='utc')\n",
    "#end = Time(\"2024-05-06 21:10:00Z\", scale='utc')\n",
    "start = Time(\"2024-05-07T01:17:54Z\", scale='utc')\n",
    "end = Time(\"2024-05-07T01:26:08Z\", scale='utc')\n",
    "\n",
    "camhex = await client.select_time_series('lsst.sal.MTHexapod.application', ['*'], start, end, index=1)\n",
    "print(len(camhex))\n",
    "m2hex = await client.select_time_series('lsst.sal.MTHexapod.application', ['*'], start, end, index=2)\n",
    "print(len(m2hex))"
   ]
  },
  {
   "cell_type": "code",
   "execution_count": null,
   "id": "ffb04193-6683-41b3-b2f5-505feeb553ca",
   "metadata": {
    "execution": {
     "iopub.execute_input": "2024-05-23T11:37:43.400232Z",
     "iopub.status.busy": "2024-05-23T11:37:43.399764Z",
     "iopub.status.idle": "2024-05-23T11:37:46.517359Z",
     "shell.execute_reply": "2024-05-23T11:37:46.516935Z",
     "shell.execute_reply.started": "2024-05-23T11:37:43.400215Z"
    }
   },
   "outputs": [],
   "source": [
    "fig, axs = plt.subplots(6,2, figsize = (8,10), sharex='col', sharey='row')\n",
    "plt.subplots_adjust(hspace=0.0, wspace=0.0)\n",
    "plt.suptitle(\"MTHexapod.application - 07May24\", y=0.95, fontsize=18)\n",
    "hexNames = ['Cam', 'M2']\n",
    "posNames = ['X','Y','Z','U','V','W']\n",
    "for i, hex in enumerate([camhex, m2hex]):\n",
    "    for j in range(6):\n",
    "        axs[j][i].set_title(f\"{hexNames[i]} - {posNames[j]}\", y=0.8)\n",
    "        if j < 3:\n",
    "            hex[f\"position{j}\"].plot(ax = axs[j][i])\n",
    "            #axs[j][i].set_ylim(-5000, 5000)\n",
    "            axs[j][i].set_ylabel(\"Microns\")\n",
    "        else:\n",
    "            (hex[f\"position{j}\"] * 3600.0).plot(ax = axs[j][i])\n",
    "            #axs[j][i].set_ylim(-5, 5)\n",
    "            axs[j][i].set_ylabel(\"Arcseconds\")\n",
    "plt.savefig(\"plots/MTHexapod_07May24.png\")"
   ]
  },
  {
   "cell_type": "code",
   "execution_count": null,
   "id": "d599dd96-5249-431a-b25d-ea76c1708e20",
   "metadata": {
    "execution": {
     "iopub.execute_input": "2024-05-23T11:58:28.203223Z",
     "iopub.status.busy": "2024-05-23T11:58:28.203025Z",
     "iopub.status.idle": "2024-05-23T11:58:30.757968Z",
     "shell.execute_reply": "2024-05-23T11:58:30.757488Z",
     "shell.execute_reply.started": "2024-05-23T11:58:28.203211Z"
    }
   },
   "outputs": [],
   "source": [
    "import matplotlib.dates as mdates\n",
    "\n",
    "\n",
    "fig, axs = plt.subplots(6,2, figsize = (8,10), sharex='col', sharey='row')\n",
    "plt.subplots_adjust(hspace=0.0, wspace=0.0)\n",
    "plt.suptitle(\"MTHexapod.application - 07May24\", y=0.95, fontsize=18)\n",
    "hexNames = ['Cam', 'M2']\n",
    "posNames = ['X','Y','Z','U','V','W']\n",
    "\n",
    "plotStart = Time(\"2024-05-07T01:23:06Z\", scale='utc').isot\n",
    "plotTick2 = Time(\"2024-05-07T01:23:08Z\", scale='utc').isot\n",
    "for i, hex in enumerate([camhex, m2hex]):\n",
    "    for j in range(6):\n",
    "        axs[j][i].set_title(f\"{hexNames[i]} - {posNames[j]}\", y=0.8)\n",
    "        if j < 3:\n",
    "            hex[f\"position{j}\"].plot(ax = axs[j][i], marker='x')\n",
    "            #axs[j][i].set_ylim(-5000, 5000)\n",
    "            axs[j][i].set_ylabel(\"Microns\")\n",
    "        else:\n",
    "            (hex[f\"position{j}\"] * 3600.0).plot(ax = axs[j][i], marker='x')\n",
    "            #axs[j][i].set_ylim(-5, 5)\n",
    "            axs[j][i].set_ylabel(\"Arcseconds\")\n",
    "        axs[j][i].set_xlim(plotStart, plotEnd)\n",
    "        axs[j][i].xaxis.set_major_locator(mdates.SecondLocator())\n",
    "        #axs[j][i].set_xticks([plotStart, plotTick1, plotTick2, plotEnd])\n",
    "plt.savefig(\"plots/MTHexapod_Blowup_07May24.png\")"
   ]
  },
  {
   "cell_type": "code",
   "execution_count": null,
   "id": "f0bbb27d-4cd0-4df9-8ed1-64e79a6c37f7",
   "metadata": {
    "execution": {
     "iopub.execute_input": "2024-05-07T11:31:20.345416Z",
     "iopub.status.busy": "2024-05-07T11:31:20.345197Z",
     "iopub.status.idle": "2024-05-07T11:31:20.362585Z",
     "shell.execute_reply": "2024-05-07T11:31:20.362193Z",
     "shell.execute_reply.started": "2024-05-07T11:31:20.345401Z"
    }
   },
   "outputs": [],
   "source": [
    "start = Time(\"2024-05-06 18:30:00Z\", scale='utc')\n",
    "end = Time(\"2024-05-06 23:59:00Z\", scale='utc')\n",
    "\n",
    "camCorr = await client.select_time_series('lsst.sal.MTAOS.logevent_cameraHexapodCorrection', ['*'], start, end)\n",
    "print(len(camCorr))\n",
    "m2Corr = await client.select_time_series('lsst.sal.MTAOS.logevent_m2HexapodCorrection', ['*'], start, end)\n",
    "print(len(m2Corr))"
   ]
  },
  {
   "cell_type": "code",
   "execution_count": null,
   "id": "66784357-90a6-4ea7-9219-044e8ed11c43",
   "metadata": {
    "execution": {
     "iopub.execute_input": "2024-05-07T12:07:02.884177Z",
     "iopub.status.busy": "2024-05-07T12:07:02.883822Z",
     "iopub.status.idle": "2024-05-07T12:07:02.893249Z",
     "shell.execute_reply": "2024-05-07T12:07:02.892931Z",
     "shell.execute_reply.started": "2024-05-07T12:07:02.884158Z"
    }
   },
   "outputs": [],
   "source": [
    "camCorr.head(2)"
   ]
  },
  {
   "cell_type": "code",
   "execution_count": null,
   "id": "5ca2b2c4-b262-45e7-9e2c-b317c392d61a",
   "metadata": {
    "execution": {
     "iopub.execute_input": "2024-05-07T12:08:49.524630Z",
     "iopub.status.busy": "2024-05-07T12:08:49.524246Z",
     "iopub.status.idle": "2024-05-07T12:08:49.532357Z",
     "shell.execute_reply": "2024-05-07T12:08:49.532012Z",
     "shell.execute_reply.started": "2024-05-07T12:08:49.524614Z"
    }
   },
   "outputs": [],
   "source": [
    "m2Corr.head(2)"
   ]
  },
  {
   "cell_type": "code",
   "execution_count": null,
   "id": "636ee3c2-840e-4716-a534-9b0ade128fe1",
   "metadata": {},
   "outputs": [],
   "source": []
  },
  {
   "cell_type": "code",
   "execution_count": null,
   "id": "cece5ec5-a292-45a9-83a3-05c073896507",
   "metadata": {
    "execution": {
     "iopub.execute_input": "2024-05-07T14:03:04.863389Z",
     "iopub.status.busy": "2024-05-07T14:03:04.863027Z",
     "iopub.status.idle": "2024-05-07T14:03:04.873027Z",
     "shell.execute_reply": "2024-05-07T14:03:04.872716Z",
     "shell.execute_reply.started": "2024-05-07T14:03:04.863375Z"
    }
   },
   "outputs": [],
   "source": [
    "# Times to start looking at hexapods\n",
    "start = Time(\"2024-05-06 18:30:00Z\", scale='utc')\n",
    "end = Time(\"2024-05-06 23:59:00Z\", scale='utc')\n",
    "\n",
    "dof = await client.select_time_series('lsst.sal.MTAOS.logevent_degreeOfFreedom', ['*'], start, end)\n",
    "print(len(dof))\n"
   ]
  },
  {
   "cell_type": "code",
   "execution_count": null,
   "id": "30047d05-7f83-4f1e-b345-63fb3d8a2631",
   "metadata": {
    "execution": {
     "iopub.execute_input": "2024-05-07T14:05:01.335758Z",
     "iopub.status.busy": "2024-05-07T14:05:01.335374Z",
     "iopub.status.idle": "2024-05-07T14:05:01.342805Z",
     "shell.execute_reply": "2024-05-07T14:05:01.342456Z",
     "shell.execute_reply.started": "2024-05-07T14:05:01.335743Z"
    }
   },
   "outputs": [],
   "source": [
    "for i in range(20):\n",
    "    print(dof[f'aggregatedDoF{i}'])"
   ]
  },
  {
   "cell_type": "code",
   "execution_count": null,
   "id": "f6e153fb-9f58-4b95-875c-1064db7de2cb",
   "metadata": {
    "execution": {
     "iopub.execute_input": "2024-05-07T11:49:41.894493Z",
     "iopub.status.busy": "2024-05-07T11:49:41.894300Z",
     "iopub.status.idle": "2024-05-07T11:49:48.679779Z",
     "shell.execute_reply": "2024-05-07T11:49:48.678702Z",
     "shell.execute_reply.started": "2024-05-07T11:49:41.894479Z"
    }
   },
   "outputs": [],
   "source": [
    "fig, axs = plt.subplots(6,2, figsize = (8,10), sharex='col', sharey='row')\n",
    "plt.subplots_adjust(hspace=0.0, wspace=0.0)\n",
    "plt.suptitle(\"MTHexapod.application - 06May24\", y=0.95, fontsize=18)\n",
    "hexNames = ['Cam', 'M2']\n",
    "posNames = ['X','Y','Z','U','V','W']\n",
    "for i, hex in enumerate([camhex, m2hex]):\n",
    "    for j in range(6):\n",
    "        axs[j][i].set_title(f\"{hexNames[i]} - {posNames[j]}\", y=0.8)\n",
    "        if j < 3:\n",
    "            hex[f\"position{j}\"].plot(ax = axs[j][i])\n",
    "            #axs[j][i].set_ylim(-5000, 5000)\n",
    "            axs[j][i].set_ylabel(\"Microns\")\n",
    "        else:\n",
    "            (hex[f\"position{j}\"] * 3600.0).plot(ax = axs[j][i])\n",
    "            #axs[j][i].set_ylim(-5, 5)\n",
    "            axs[j][i].set_ylabel(\"Arcseconds\")\n",
    "plt.savefig(\"plots/MTHexapod_Blowup_06May24.png\")"
   ]
  }
 ],
 "metadata": {
  "kernelspec": {
   "display_name": "LSST",
   "language": "python",
   "name": "lsst"
  },
  "language_info": {
   "codemirror_mode": {
    "name": "ipython",
    "version": 3
   },
   "file_extension": ".py",
   "mimetype": "text/x-python",
   "name": "python",
   "nbconvert_exporter": "python",
   "pygments_lexer": "ipython3",
   "version": "3.11.7"
  }
 },
 "nbformat": 4,
 "nbformat_minor": 5
}
