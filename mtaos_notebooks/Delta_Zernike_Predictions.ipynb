{
 "cells": [
  {
   "cell_type": "code",
   "execution_count": null,
   "id": "dcbbbb88-fed3-4690-aa7e-9fda4e086d68",
   "metadata": {
    "execution": {
     "iopub.execute_input": "2024-11-02T18:56:52.290346Z",
     "iopub.status.busy": "2024-11-02T18:56:52.290148Z",
     "iopub.status.idle": "2024-11-02T18:56:52.824874Z",
     "shell.execute_reply": "2024-11-02T18:56:52.824367Z",
     "shell.execute_reply.started": "2024-11-02T18:56:52.290331Z"
    }
   },
   "outputs": [],
   "source": [
    "import numpy as np\n",
    "import batoid\n",
    "import batoid_rubin\n",
    "import ipywidgets\n",
    "from pathlib import Path"
   ]
  },
  {
   "cell_type": "code",
   "execution_count": null,
   "id": "0a33b8d9-534e-4866-b53b-f7b9b4310df1",
   "metadata": {
    "execution": {
     "iopub.execute_input": "2024-11-02T18:56:58.670441Z",
     "iopub.status.busy": "2024-11-02T18:56:58.669915Z",
     "iopub.status.idle": "2024-11-02T18:57:11.907575Z",
     "shell.execute_reply": "2024-11-02T18:57:11.907218Z",
     "shell.execute_reply.started": "2024-11-02T18:56:58.670418Z"
    }
   },
   "outputs": [],
   "source": [
    "# We need to download the bending mode and FEA data\n",
    "# This cell will download it to your home directory.\n",
    "home_dir = Path.home()\n",
    "data_dir = home_dir / \".local\" / \"batoid_rubin_data\"\n",
    "\n",
    "from batoid_rubin.data.download_rubin_data import (\n",
    "    download_rubin_data, zenodo_dois\n",
    ")\n",
    "from collections import namedtuple\n",
    "\n",
    "args = namedtuple(\"Args\", [\"dataset\", \"outdir\"])\n",
    "args.dataset = \"fea_legacy\"\n",
    "args.outdir = data_dir\n",
    "download_rubin_data(args)\n",
    "\n",
    "args.dataset = \"bend\"\n",
    "download_rubin_data(args)"
   ]
  },
  {
   "cell_type": "code",
   "execution_count": null,
   "id": "913577da-06c2-46d1-80d3-cb0bbab09f29",
   "metadata": {
    "execution": {
     "iopub.execute_input": "2024-11-02T18:57:19.493482Z",
     "iopub.status.busy": "2024-11-02T18:57:19.493200Z",
     "iopub.status.idle": "2024-11-02T18:57:19.574363Z",
     "shell.execute_reply": "2024-11-02T18:57:19.573955Z",
     "shell.execute_reply.started": "2024-11-02T18:57:19.493466Z"
    }
   },
   "outputs": [],
   "source": [
    "# Compute the intrinsic Zernikes and setup the perturbed telescope builder\n",
    "\n",
    "fiducial = batoid.Optic.fromYaml(\"ComCam_r.yaml\")\n",
    "wavelength = 622e-9\n",
    "\n",
    "zk0 = batoid.zernike(\n",
    "    fiducial,\n",
    "    0.0, 0.0,\n",
    "    wavelength,\n",
    "    nx=256,\n",
    "    jmax=28,\n",
    "    eps=0.61\n",
    ") * wavelength * 1e6  # -> microns\n",
    "\n",
    "builder = batoid_rubin.LSSTBuilder(\n",
    "    fiducial,\n",
    "    fea_dir=data_dir,\n",
    "    bend_dir=data_dir\n",
    ")"
   ]
  },
  {
   "cell_type": "code",
   "execution_count": null,
   "id": "9d5fa6f1-4533-49db-a572-a82cbb72fecb",
   "metadata": {
    "execution": {
     "iopub.execute_input": "2024-11-02T18:57:24.785601Z",
     "iopub.status.busy": "2024-11-02T18:57:24.785302Z",
     "iopub.status.idle": "2024-11-02T18:57:24.788667Z",
     "shell.execute_reply": "2024-11-02T18:57:24.788304Z",
     "shell.execute_reply.started": "2024-11-02T18:57:24.785585Z"
    }
   },
   "outputs": [],
   "source": [
    "# Define the names of the degrees of freedom\n",
    "names = []\n",
    "for component in [\"M2\", \"Cam\"]:\n",
    "    for dof in [\"dz\", \"dx\", \"dy\", \"rx\", \"ry\"]:\n",
    "        names.append(component+\"_\"+dof)\n",
    "for i in range(20):\n",
    "    names.append(f\"M1M3_B{i+1}\")\n",
    "for i in range(20):\n",
    "    names.append(f\"M2_B{i+1}\")"
   ]
  },
  {
   "cell_type": "code",
   "execution_count": null,
   "id": "7df7c642-e45c-493a-be83-841bf7cdf0a3",
   "metadata": {
    "execution": {
     "iopub.execute_input": "2024-11-02T18:57:42.344782Z",
     "iopub.status.busy": "2024-11-02T18:57:42.344453Z",
     "iopub.status.idle": "2024-11-02T18:57:42.724129Z",
     "shell.execute_reply": "2024-11-02T18:57:42.723659Z",
     "shell.execute_reply.started": "2024-11-02T18:57:42.344764Z"
    }
   },
   "outputs": [],
   "source": [
    "# Setup the interactive perturbed telescope delta Zernike evaluator\n",
    "@ipywidgets.interact(\n",
    "    idof = ipywidgets.BoundedIntText(value=0, min=0, max=49),\n",
    "    amplitude = ipywidgets.FloatText(value=1.0, min=-1000, max=1000, step=0.001)\n",
    ")\n",
    "def f(idof, amplitude):\n",
    "    dof = np.zeros(50)\n",
    "    if idof in [3,4,8,9]:\n",
    "        dof[idof] = amplitude*3600 # batoid_rubin expects arcsec\n",
    "        unit = \"degrees\"\n",
    "    else:\n",
    "        dof[idof] = amplitude\n",
    "        unit = \"microns\"\n",
    "    print()\n",
    "    print(f\"Perturbing {names[idof]} by {amplitude} {unit}\")\n",
    "    print(\"Zernikes changed from fiducial by...\")\n",
    "    perturbed = builder.with_aos_dof(dof).build()\n",
    "    zk1 = batoid.zernike(\n",
    "        perturbed,\n",
    "        0.0, 0.0,\n",
    "        wavelength,\n",
    "        nx=256,\n",
    "        jmax=28,\n",
    "        eps=0.61\n",
    "    ) * wavelength * 1e6  # -> microns\n",
    "    dzk = zk1 - zk0\n",
    "    print()\n",
    "    for j in range(4, 17):\n",
    "        out = f\"Z{j:02d} {dzk[j]:8.2f} micron\"\n",
    "        if j < 16:\n",
    "            out += \"          \"\n",
    "            out += f\"Z{j+13:02d} {dzk[j+13]:8.2f} micron\"\n",
    "        print(out)"
   ]
  },
  {
   "cell_type": "code",
   "execution_count": null,
   "id": "36af1751-6653-4961-b2c5-2dc8add667b6",
   "metadata": {
    "execution": {
     "iopub.execute_input": "2024-11-02T22:50:15.985088Z",
     "iopub.status.busy": "2024-11-02T22:50:15.984662Z",
     "iopub.status.idle": "2024-11-02T22:50:15.987892Z",
     "shell.execute_reply": "2024-11-02T22:50:15.987525Z",
     "shell.execute_reply.started": "2024-11-02T22:50:15.985072Z"
    }
   },
   "outputs": [],
   "source": [
    "names[32]"
   ]
  },
  {
   "cell_type": "code",
   "execution_count": null,
   "id": "cd3d84b8-d6b6-48d8-8cd9-a2d1c407fa41",
   "metadata": {},
   "outputs": [],
   "source": []
  }
 ],
 "metadata": {
  "kernelspec": {
   "display_name": "LSST",
   "language": "python",
   "name": "lsst"
  },
  "language_info": {
   "codemirror_mode": {
    "name": "ipython",
    "version": 3
   },
   "file_extension": ".py",
   "mimetype": "text/x-python",
   "name": "python",
   "nbconvert_exporter": "python",
   "pygments_lexer": "ipython3",
   "version": "3.11.9"
  }
 },
 "nbformat": 4,
 "nbformat_minor": 5
}
