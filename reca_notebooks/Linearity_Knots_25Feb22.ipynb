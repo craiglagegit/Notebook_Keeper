{
 "cells": [
  {
   "cell_type": "markdown",
   "metadata": {},
   "source": [
    "# Notebook for plotting the spline knots\n",
    "\n",
    "Initially written 25 Feb 2022 by Craig Lage"
   ]
  },
  {
   "cell_type": "code",
   "execution_count": null,
   "metadata": {},
   "outputs": [],
   "source": [
    "import sys, os, glob, time\n",
    "import pickle as pkl\n",
    "import numpy as np\n",
    "import matplotlib.pyplot as plt\n",
    "import astropy.io.fits as pf\n",
    "from lsst.daf.butler import Butler\n",
    "import lsst.afw.math as afwMath"
   ]
  },
  {
   "cell_type": "code",
   "execution_count": null,
   "metadata": {},
   "outputs": [],
   "source": [
    "butler = Butler(\"/repo/main\", collections=[\"LSSTCam/raw/all\", \"u/cslage/linearizer_28jan22\"])\n"
   ]
  },
  {
   "cell_type": "code",
   "execution_count": null,
   "metadata": {},
   "outputs": [],
   "source": [
    "expId=3021120600576\n",
    "camera = butler.get('camera', instrument='LSSTCam')\n",
    "det = 3\n",
    "lin = butler.get('linearizer', detector=det, exposure=expId, instrument='LSSTCam')\n",
    "fig = plt.figure(figsize=(16,16))\n",
    "plt.subplot(2,1,1)\n",
    "plt.title(\"Spline knots - 13144M - Detector %d\"%det, fontsize=18)\n",
    "offset = 0.0\n",
    "for it, amp in enumerate(camera[0].getAmplifiers()):\n",
    "    centers, values = np.split(lin.linearityCoeffs[amp.getName()], 2)\n",
    "    plt.scatter(centers, values + it * offset, marker='+', label=amp.getName())\n",
    "    #print(it, amp.getName(), centers, values)\n",
    "    #break\n",
    "plt.legend(loc=\"lower left\")\n",
    "plt.xlabel(\"Flux(ADU)\")\n",
    "plt.ylabel(\"Departure from linearity(ADU)\")\n",
    "plt.subplot(2,1,2)\n",
    "plt.title(\"Spline knots - 13144M - Detector %d, Amp %s\"%(det, \"C01\"), fontsize=18)\n",
    "offset = 0.0\n",
    "for it, amp in enumerate(camera[0].getAmplifiers()):\n",
    "    if amp.getName() != \"C01\":\n",
    "        continue\n",
    "    centers, values = np.split(lin.linearityCoeffs[amp.getName()], 2)\n",
    "    plt.scatter(centers, values + it * offset, marker='+')\n",
    "plt.xlabel(\"Flux(ADU)\")\n",
    "plt.ylabel(\"Departure from linearity(ADU)\")\n",
    "\n",
    "plt.savefig(\"/repo/main/u/cslage/bps_13144S/plots/Spline_Knots_ITL_Det03_02Aug22.pdf\")\n",
    "\n",
    "\n"
   ]
  },
  {
   "cell_type": "code",
   "execution_count": null,
   "metadata": {},
   "outputs": [],
   "source": []
  }
 ],
 "metadata": {
  "jupytext": {
   "formats": "ipynb,markdown//md"
  },
  "kernelspec": {
   "display_name": "LSST",
   "language": "python",
   "name": "lsst"
  },
  "language_info": {
   "codemirror_mode": {
    "name": "ipython",
    "version": 3
   },
   "file_extension": ".py",
   "mimetype": "text/x-python",
   "name": "python",
   "nbconvert_exporter": "python",
   "pygments_lexer": "ipython3",
   "version": "3.10.4"
  }
 },
 "nbformat": 4,
 "nbformat_minor": 4
}
