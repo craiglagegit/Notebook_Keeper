{
 "cells": [
  {
   "cell_type": "markdown",
   "metadata": {},
   "source": [
    "## Running the PTC task from a Notebook\n",
    "\n",
    "Craig Lage - 18-Jun-22"
   ]
  },
  {
   "cell_type": "code",
   "execution_count": null,
   "metadata": {},
   "outputs": [],
   "source": [
    "import time\n",
    "import numpy as np\n",
    "import matplotlib.pyplot as plt\n",
    "import astropy.io.fits as pf\n",
    "import lsst.daf.butler as dafButler\n",
    "from lsst.cp.pipe.ptc import PhotonTransferCurveExtractTask, PhotonTransferCurveExtractConfig\n",
    "from lsst.cp.pipe.ptc import PhotonTransferCurveSolveTask, PhotonTransferCurveSolveConfig"
   ]
  },
  {
   "cell_type": "markdown",
   "metadata": {},
   "source": [
    "Ignore these warnings!\n",
    "\n",
    "Below we get a list of the exposures that are part of run 13144.  We can see the flat pairs.\\\n",
    "Note that the first group of flat pairs incorporate the neutral density filter ND_OD0.5.\\\n",
    "Then we build a list of flat pairs to be used in the PTC."
   ]
  },
  {
   "cell_type": "code",
   "execution_count": null,
   "metadata": {
    "jupyter": {
     "outputs_hidden": true
    },
    "tags": []
   },
   "outputs": [],
   "source": [
    "REPO_DIR = '/repo/main'\n",
    "butler = dafButler.Butler(REPO_DIR, collections=[\"LSSTCam/raw/all\",\"LSSTCam/calib\", \"u/cslage/bps_13144M\"])\n",
    " \n",
    "exposureList = []\n",
    "for record in butler.registry.queryDimensionRecords(\"exposure\", where=\"exposure.science_program='13144'\"):\n",
    "    exposureList.append([record.id, record.observation_type, record.exposure_time, record.physical_filter])\n",
    "exposureList = sorted(exposureList, key=lambda x: x[0])  \n",
    "flatList = []\n",
    "print(\"expId \\t Type \\t Exposure Time \\t Filter\\n\")    \n",
    "for items in exposureList:\n",
    "    print(f\"{items[0]} \\t {items[1]} \\t {items[2]} \\t\\t {items[3]}\")\n",
    "    if items[1] == 'flat':\n",
    "        flatList.append(items)\n"
   ]
  },
  {
   "cell_type": "markdown",
   "metadata": {},
   "source": [
    "Now we build a list of objects needed for the PTC.  This is pretty deep into the working of the butler, so don't worry if you don't understand all of this.  We're just getting a list of stuff needed by the PtcExtractTask.  The \"cpPtcProc\" data is the data from the CCDs that have already been through ISR (Instrument Signature Removal)."
   ]
  },
  {
   "cell_type": "code",
   "execution_count": null,
   "metadata": {
    "tags": []
   },
   "outputs": [],
   "source": [
    "detector = 94 # Just choosing an arbitrary detector\n",
    "\n",
    "# This let's you skip some of the flat pairs.  A value of 1 will do all\n",
    "# of the pairs.  A value of 10 will only do every 10th pair, etc.\n",
    "skipNPairs = 1 \n",
    "\n",
    "expIds = []\n",
    "expDict = {}\n",
    "metadata = []\n",
    "i = 0\n",
    "while i < (len(flatList) - 2):\n",
    "    expTime = flatList[i][2]\n",
    "    nextExpTime = flatList[i + 1][2]\n",
    "    if abs(expTime - nextExpTime) < 1E-4:\n",
    "        expId = flatList[i][0]\n",
    "        nextExpId = flatList[i+1][0]\n",
    "        #print(expId, nextExpId)\n",
    "        expIds.append(expId)\n",
    "        expIds.append(nextExpId)\n",
    "        dataId = {'exposure':expId, 'detector':detector, 'instrument':'LSSTCam'}\n",
    "        nextDataId = {'exposure':nextExpId, 'detector':detector, 'instrument':'LSSTCam'}\n",
    "        ref1 = butler.getDeferred(datasetRefOrType='cpPtcProc', dataId=dataId)\n",
    "        ref2 = butler.getDeferred(datasetRefOrType='cpPtcProc', dataId=nextDataId)\n",
    "        expDict[str(expTime)] = ((ref1, expId), (ref2, nextExpId))\n",
    "        meta1 = butler.get('isr_metadata', dataId=dataId)\n",
    "        meta2 = butler.get('isr_metadata', dataId=nextDataId)\n",
    "        metadata.append(meta1)\n",
    "        metadata.append(meta2)\n",
    "        i += 2 * skipNPairs\n",
    "    else:\n",
    "        i += 1\n",
    "        \n",
    "    \n",
    "print(f\"There are {len(expDict)} pairs in the list.\")    "
   ]
  },
  {
   "cell_type": "code",
   "execution_count": null,
   "metadata": {},
   "outputs": [],
   "source": [
    "PTCExtractConfig = PhotonTransferCurveExtractConfig()"
   ]
  },
  {
   "cell_type": "markdown",
   "metadata": {},
   "source": [
    "We can examine the parameters in the PTCExtractConfig object as follows:\n",
    "This will list parameters that we might want to adjust\\\n",
    "In this case we are happy with the defaults so we don't modify any of the parameters."
   ]
  },
  {
   "cell_type": "code",
   "execution_count": null,
   "metadata": {
    "jupyter": {
     "outputs_hidden": true
    },
    "tags": []
   },
   "outputs": [],
   "source": [
    "PTCExtractConfig?"
   ]
  },
  {
   "cell_type": "markdown",
   "metadata": {},
   "source": [
    "Now we create the object for the PTC extract task"
   ]
  },
  {
   "cell_type": "code",
   "execution_count": null,
   "metadata": {},
   "outputs": [],
   "source": [
    "PTCExtractTask = PhotonTransferCurveExtractTask(config=PTCExtractConfig)"
   ]
  },
  {
   "cell_type": "markdown",
   "metadata": {},
   "source": [
    "Again, we can examine the parameters in the PTCExtract object:\n",
    "This will also explain the inputs and outputs."
   ]
  },
  {
   "cell_type": "code",
   "execution_count": null,
   "metadata": {
    "jupyter": {
     "outputs_hidden": true
    },
    "tags": []
   },
   "outputs": [],
   "source": [
    "PTCExtractTask?"
   ]
  },
  {
   "cell_type": "markdown",
   "metadata": {},
   "source": [
    "Now we run the PTCExtract task.  This will take a while, especially if we use all of the flat pairs (skipNPairs = 1).  The reason it takes a long time is that it is calculating the variances and covariances across all of the CCD.  When I ran all 337 flat pairs on one CCD, it took about 1-1/2 hours."
   ]
  },
  {
   "cell_type": "code",
   "execution_count": null,
   "metadata": {
    "jupyter": {
     "outputs_hidden": true
    },
    "tags": []
   },
   "outputs": [],
   "source": [
    "start = time.time()\n",
    "PTCExtractResult = PTCExtractTask.run(inputExp=expDict, inputDims=expIds,\n",
    "                                         taskMetadata=metadata)\n",
    "finish = time.time()\n",
    "print(f\"Took {finish - start} seconds.\")"
   ]
  },
  {
   "cell_type": "markdown",
   "metadata": {},
   "source": [
    "Now we create and run the PTCSolve task.  This runs much faster."
   ]
  },
  {
   "cell_type": "code",
   "execution_count": null,
   "metadata": {},
   "outputs": [],
   "source": [
    "PTCSolveConfig = PhotonTransferCurveSolveConfig()\n",
    "PTCSolveConfig.ptcFitType = \"EXPAPPROXIMATION\""
   ]
  },
  {
   "cell_type": "code",
   "execution_count": null,
   "metadata": {},
   "outputs": [],
   "source": [
    "PTCSolveTask = PhotonTransferCurveSolveTask()"
   ]
  },
  {
   "cell_type": "code",
   "execution_count": null,
   "metadata": {
    "jupyter": {
     "outputs_hidden": true
    },
    "tags": []
   },
   "outputs": [],
   "source": [
    "PTCSolveResult = PTCSolveTask.run(PTCExtractResult.outputCovariances)"
   ]
  },
  {
   "cell_type": "markdown",
   "metadata": {},
   "source": [
    "Now we can extract the result.  This will have objects like gain and noise that you are familiar with."
   ]
  },
  {
   "cell_type": "code",
   "execution_count": null,
   "metadata": {},
   "outputs": [],
   "source": [
    "ptcDataset = PTCSolveResult.outputPtcDataset"
   ]
  },
  {
   "cell_type": "code",
   "execution_count": null,
   "metadata": {
    "tags": []
   },
   "outputs": [],
   "source": [
    "ptcDataset.gain"
   ]
  },
  {
   "cell_type": "markdown",
   "metadata": {},
   "source": [
    "Now we can plot the result."
   ]
  },
  {
   "cell_type": "code",
   "execution_count": null,
   "metadata": {},
   "outputs": [],
   "source": []
  }
 ],
 "metadata": {
  "kernelspec": {
   "display_name": "LSST",
   "language": "python",
   "name": "lsst"
  },
  "language_info": {
   "codemirror_mode": {
    "name": "ipython",
    "version": 3
   },
   "file_extension": ".py",
   "mimetype": "text/x-python",
   "name": "python",
   "nbconvert_exporter": "python",
   "pygments_lexer": "ipython3",
   "version": "3.10.4"
  }
 },
 "nbformat": 4,
 "nbformat_minor": 4
}
