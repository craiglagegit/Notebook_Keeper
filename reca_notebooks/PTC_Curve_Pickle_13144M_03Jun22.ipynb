{
 "cells": [
  {
   "cell_type": "markdown",
   "metadata": {},
   "source": [
    "# Notebook for extracting PTC data.\n",
    "\n",
    "Initially written 15 Jun 2022 by Craig Lage."
   ]
  },
  {
   "cell_type": "code",
   "execution_count": null,
   "metadata": {},
   "outputs": [],
   "source": [
    "import sys, os, glob, time\n",
    "import pickle as pkl\n",
    "import numpy as np\n",
    "import matplotlib.pyplot as plt\n",
    "from matplotlib.backends.backend_pdf import PdfPages\n",
    "import astropy.io.fits as pf\n",
    "from lsst.daf.butler import Butler"
   ]
  },
  {
   "cell_type": "code",
   "execution_count": null,
   "metadata": {},
   "outputs": [],
   "source": [
    "butler = Butler(\"/repo/main\", collections=[\"LSSTCam/raw/all\",\"LSSTCam/calib\", \"u/cslage/bps_13144M\"])\n",
    "exposure=3021120600576"
   ]
  },
  {
   "cell_type": "code",
   "execution_count": null,
   "metadata": {},
   "outputs": [],
   "source": [
    "ptcDataset = butler.get('ptc', detector=55, instrument='LSSTCam')"
   ]
  },
  {
   "cell_type": "code",
   "execution_count": null,
   "metadata": {},
   "outputs": [],
   "source": [
    "ptcDataset.getExpIdsUsed"
   ]
  },
  {
   "cell_type": "code",
   "execution_count": null,
   "metadata": {},
   "outputs": [],
   "source": [
    "ampList = [['R03', 'S11', 'C06']]\n"
   ]
  },
  {
   "cell_type": "code",
   "execution_count": null,
   "metadata": {},
   "outputs": [],
   "source": [
    "def getDetector(raft, sensor):\n",
    "    # Subroutine to find vendor and detector number given raft and sensor                                                                                                                                                           \n",
    "    startingCol = [1,0,0,0,1] # First raft column in each row                                                                                                                                                                       \n",
    "    rows = [0,3,8,13,18] # Starting raft sequence number of each row                                                                                                                                                                \n",
    "    if raft in ['R11','R12','R13','R14','R21','R22','R23','R24','R30',\\\n",
    "                'R31','R32','R33','R34']:\n",
    "        vendor = 'E2V'\n",
    "    else:\n",
    "        vendor = 'ITL'\n",
    "    raftRow = int(list(raft)[1])\n",
    "    raftCol = int(list(raft)[2])\n",
    "    sensorRow = int(list(sensor)[1])\n",
    "    sensorCol = int(list(sensor)[2])\n",
    "    detectorNum = (rows[raftRow] + (raftCol - startingCol[raftRow])) * 9\n",
    "    detectorNum += 3 * sensorRow + sensorCol\n",
    "    return vendor, detectorNum\n"
   ]
  },
  {
   "cell_type": "code",
   "execution_count": null,
   "metadata": {},
   "outputs": [],
   "source": [
    "def ExpApprox(mu, g, a00, n):\n",
    "    # This is the equation for the ExpApprox for use in the notebook\n",
    "    if (g < 1.0E-6) or (abs(a00) < 1.0E-9):\n",
    "        return np.zeros([len(mu)])\n",
    "    else:\n",
    "        expFactor = 2.0 * a00 * mu * g\n",
    "        if max(expFactor) > 100.0:\n",
    "            return np.zeros([len(mu)])\n",
    "        else:\n",
    "            preFactor = 1.0 / (2.0 * g * g * a00)\n",
    "            noiseTerm = n / (g * g)\n",
    "            return preFactor * (np.exp(expFactor) - 1.0) + noiseTerm"
   ]
  },
  {
   "cell_type": "code",
   "execution_count": null,
   "metadata": {
    "tags": []
   },
   "outputs": [],
   "source": [
    "for ii, [RAFT,SENSOR,amp] in enumerate(ampList):\n",
    "    VENDOR, DETECTOR  = getDetector(RAFT, SENSOR)\n",
    "    fig = plt.figure(figsize=(16,16))\n",
    "    ax1 = plt.axes([0.1,0.1,0.8,0.8])\n",
    "    ptcDataset = butler.get('ptc', detector=DETECTOR, exposure=exposure, instrument='LSSTCam')\n",
    "    dmGain = ptcDataset.gain[amp]\n",
    "    if ptcDataset.ptcFitType == 'EXPAPPROXIMATION':\n",
    "        dmA00 = ptcDataset.ptcFitPars[amp][0]\n",
    "    if ptcDataset.ptcFitType == 'FULLCOVARIANCE':\n",
    "        dmA00 = ptcDataset.aMatrix[amp][0][0]\n",
    "    dmNoise = ptcDataset.noise[amp]\n",
    "    rawMeans = ptcDataset.rawMeans[amp]\n",
    "    rawVars = ptcDataset.rawVars[amp]\n",
    "    dmMeans = np.array(ptcDataset.finalMeans[amp])\n",
    "    dmMeans = dmMeans[~np.isnan(dmMeans)]\n",
    "    if len(dmMeans > 0):\n",
    "        maxDM = dmMeans.max()\n",
    "    else:\n",
    "        maxDM = 0.0\n",
    "    \n",
    "    ax1.set_title(\"PTC, %s_%s_%s_Det_%d_%s\"%(RAFT,SENSOR, amp, DETECTOR, VENDOR), fontsize = 18)\n",
    "    ax1.scatter(rawMeans, rawVars, marker = 'x', s=200, color = 'red', label = 'Data')\n",
    "    \n",
    "    ax1.text(10000,40000,\"Gain = %.4f\"%dmGain, fontsize=18)\n",
    "    ax1.text(10000,38000,\"Noise = %.4f\"%dmNoise, fontsize=18)\n",
    "    ax1.text(10000,36000,\"A00 = %.6g\"%dmA00, fontsize=18)\n",
    "    ax1.text(10000,34000,\"Max ADU = %.1f\"%maxDM, fontsize=18)\n",
    "    xplot = np.linspace(0.0, 120000, 200)\n",
    "    yplot = ExpApprox(xplot,dmGain,dmA00,dmNoise)\n",
    "    linyplot = xplot * 1/dmGain\n",
    "    ax1.plot(xplot, yplot, ls = '--', color = 'red', label = \"ExpApprox\")\n",
    "    ax1.plot(xplot, linyplot, ls = '--', color = 'green', label = \"Linear Fit\")\n",
    "    ax1.set_xlabel(\"Mean(ADU)\", fontsize=18)\n",
    "    ax1.set_ylabel(\"Variance(ADU)\", fontsize=18)\n",
    "    ax1.set_xlim(0,120000)\n",
    "    ax1.set_ylim(0,50000)\n",
    "    ax1.legend(fontsize = 18)\n",
    "    file = open(\"/project/cslage/BOT_LSSTCam/gen3/PTC_R03_S11_C06_Det22.txt\", \"w\")\n",
    "    file.write(\"PTC data Detect 22, R03_S11_C06\\n\")\n",
    "    file.write(\"Mean(ADU)                Variance(ADU)\\n\")\n",
    "    for i in range(len(rawMeans)):\n",
    "        file.write(f\"{rawMeans[i]}         {rawVars[i]}\\n\")\n",
    "    file.close()\n",
    "\n",
    "plt.savefig(\"/project/cslage/BOT_LSSTCam/gen3/PTC_R03_S11_C06_Det22.png\")\n"
   ]
  },
  {
   "cell_type": "code",
   "execution_count": null,
   "metadata": {},
   "outputs": [],
   "source": []
  }
 ],
 "metadata": {
  "kernelspec": {
   "display_name": "LSST",
   "language": "python",
   "name": "lsst"
  },
  "language_info": {
   "codemirror_mode": {
    "name": "ipython",
    "version": 3
   },
   "file_extension": ".py",
   "mimetype": "text/x-python",
   "name": "python",
   "nbconvert_exporter": "python",
   "pygments_lexer": "ipython3",
   "version": "3.10.4"
  }
 },
 "nbformat": 4,
 "nbformat_minor": 4
}
